{
 "cells": [
  {
   "cell_type": "markdown",
   "id": "b4bdffa0",
   "metadata": {},
   "source": [
    "# SysML v2 Test Suite\n",
    "\n",
    "This can notebook can be cleared using menu `Edit --> Clear All Outputs` and then all cells can be\n",
    "run using menu `Run --> Run All Cells`.\n",
    "\n",
    "**WARNING**: This file is generated, all modifications here will be ignored.\n"
   ]
  },
  {
   "cell_type": "markdown",
   "id": "42b702f6",
   "metadata": {},
   "source": [
    "## File: ../../sysml/src/examples/Simple Tests/AliasTest.sysml"
   ]
  },
  {
   "cell_type": "code",
   "execution_count": 1,
   "id": "59eefe6f",
   "metadata": {
    "execution": {
     "iopub.execute_input": "2021-10-25T08:23:50.861856Z",
     "iopub.status.busy": "2021-10-25T08:23:50.860781Z",
     "iopub.status.idle": "2021-10-25T08:23:51.164999Z",
     "shell.execute_reply": "2021-10-25T08:23:51.165372Z"
    }
   },
   "outputs": [
    {
     "data": {
      "text/plain": [
       "Package AliasTest (44185f27-c526-4d2b-b038-7d26c4677b12)\n"
      ]
     },
     "execution_count": 1,
     "metadata": {},
     "output_type": "execute_result"
    }
   ],
   "source": [
    "package AliasTest {\n",
    "\timport Quantities::quantities; // import of an alias\t\n",
    "\tattribute q :> quantities;\n",
    "\t\n",
    "    part def P1 {\n",
    "        port porig1;\n",
    "        alias po1 for porig1;\n",
    "    }\n",
    "\n",
    "    part p1 : P1 {\n",
    "        port po1 :>> po1;\n",
    "    }\n",
    "\n",
    "    part p2 : P1 {\n",
    "        port pdest;\n",
    "        alias pd1 for pdest;\n",
    "    }\n",
    "\n",
    "\n",
    "    connect p1.po1 to p2.pdest;\n",
    "\tconnect p1.po1 to p2.pd1;\n",
    "}"
   ]
  },
  {
   "cell_type": "code",
   "execution_count": 2,
   "id": "2da0e89a",
   "metadata": {
    "execution": {
     "iopub.execute_input": "2021-10-25T08:23:51.216491Z",
     "iopub.status.busy": "2021-10-25T08:23:51.215967Z",
     "iopub.status.idle": "2021-10-25T08:23:51.762386Z",
     "shell.execute_reply": "2021-10-25T08:23:51.759714Z"
    }
   },
   "outputs": [
    {
     "data": {
      "image/svg+xml": [
       "<?xml version=\"1.0\" encoding=\"UTF-8\" standalone=\"no\"?><svg xmlns=\"http://www.w3.org/2000/svg\" xmlns:xlink=\"http://www.w3.org/1999/xlink\" contentScriptType=\"application/ecmascript\" contentStyleType=\"text/css\" height=\"423px\" preserveAspectRatio=\"none\" style=\"width:495px;height:423px;\" version=\"1.1\" viewBox=\"0 0 495 423\" width=\"495px\" zoomAndPan=\"magnify\"><defs/><g><!--MD5=[fbc87193dbaf4d95561dea2c320d4a47]\n",
       "cluster E1--><a href=\"psysml:dccc75fb-db16-4804-85cb-688c27ce5ff3\" target=\"_top\" title=\"psysml:dccc75fb-db16-4804-85cb-688c27ce5ff3\" xlink:actuate=\"onRequest\" xlink:href=\"psysml:dccc75fb-db16-4804-85cb-688c27ce5ff3\" xlink:show=\"new\" xlink:title=\"psysml:dccc75fb-db16-4804-85cb-688c27ce5ff3\" xlink:type=\"simple\"><polygon fill=\"#FFFFFF\" points=\"16,6,84,6,91,28.2969,473,28.2969,473,411,16,411,16,6\" style=\"stroke: #000000; stroke-width: 1.5;\"/><line style=\"stroke: #000000; stroke-width: 1.5;\" x1=\"16\" x2=\"91\" y1=\"28.2969\" y2=\"28.2969\"/><text fill=\"#000000\" font-family=\"sans-serif\" font-size=\"14\" font-weight=\"bold\" lengthAdjust=\"spacingAndGlyphs\" textLength=\"62\" x=\"20\" y=\"20.9951\">AliasTest</text></a><!--MD5=[b4997ac47864f28c2f74865a473b2911]\n",
       "class E2--><a href=\"psysml:ce72622b-28d6-4d09-bee8-b5dd20a40a54\" target=\"_top\" title=\"psysml:ce72622b-28d6-4d09-bee8-b5dd20a40a54\" xlink:actuate=\"onRequest\" xlink:href=\"psysml:ce72622b-28d6-4d09-bee8-b5dd20a40a54\" xlink:show=\"new\" xlink:title=\"psysml:ce72622b-28d6-4d09-bee8-b5dd20a40a54\" xlink:type=\"simple\"><rect fill=\"#FFFFFF\" height=\"45.9375\" id=\"E2\" rx=\"10\" ry=\"10\" style=\"stroke: #383838; stroke-width: 1.5;\" width=\"213\" x=\"244.5\" y=\"65\"/><text fill=\"#000000\" font-family=\"sans-serif\" font-size=\"12\" font-style=\"italic\" lengthAdjust=\"spacingAndGlyphs\" textLength=\"69\" x=\"316.5\" y=\"81.1387\">«attribute»</text><text fill=\"#000000\" font-family=\"sans-serif\" font-size=\"12\" lengthAdjust=\"spacingAndGlyphs\" textLength=\"207\" x=\"247.5\" y=\"95.1074\">q :&gt; Quantities::tensorQuantities</text><line style=\"stroke: #383838; stroke-width: 1.5;\" x1=\"245.5\" x2=\"456.5\" y1=\"102.9375\" y2=\"102.9375\"/></a><!--MD5=[09b614a08d8cba4a07c9adeb5e0fee81]\n",
       "class E3--><a href=\"psysml:61eb2658-da6c-419b-a94e-058b00326cab\" target=\"_top\" title=\"psysml:61eb2658-da6c-419b-a94e-058b00326cab\" xlink:actuate=\"onRequest\" xlink:href=\"psysml:61eb2658-da6c-419b-a94e-058b00326cab\" xlink:show=\"new\" xlink:title=\"psysml:61eb2658-da6c-419b-a94e-058b00326cab\" xlink:type=\"simple\"><rect fill=\"#FFFFFF\" height=\"94.3516\" id=\"E3\" style=\"stroke: #383838; stroke-width: 1.5;\" width=\"70\" x=\"120\" y=\"195\"/><text fill=\"#000000\" font-family=\"sans-serif\" font-size=\"12\" font-style=\"italic\" lengthAdjust=\"spacingAndGlyphs\" textLength=\"68\" x=\"121\" y=\"211.1387\">«part  def»</text><text fill=\"#000000\" font-family=\"sans-serif\" font-size=\"12\" lengthAdjust=\"spacingAndGlyphs\" textLength=\"16\" x=\"147\" y=\"225.1074\">P1</text><line style=\"stroke: #383838; stroke-width: 1.5;\" x1=\"121\" x2=\"189\" y1=\"232.9375\" y2=\"232.9375\"/><text fill=\"#000000\" font-family=\"sans-serif\" font-size=\"11\" lengthAdjust=\"spacingAndGlyphs\" textLength=\"36\" x=\"126\" y=\"263.9526\">porig1</text><line style=\"stroke: #383838; stroke-width: 1.0;\" x1=\"121\" x2=\"140\" y1=\"247.3398\" y2=\"247.3398\"/><text fill=\"#000000\" font-family=\"sans-serif\" font-size=\"11\" lengthAdjust=\"spacingAndGlyphs\" textLength=\"30\" x=\"140\" y=\"250.6479\">ports</text><line style=\"stroke: #383838; stroke-width: 1.0;\" x1=\"170\" x2=\"189\" y1=\"247.3398\" y2=\"247.3398\"/><text fill=\"#000000\" font-family=\"sans-serif\" font-size=\"11\" lengthAdjust=\"spacingAndGlyphs\" textLength=\"0\" x=\"142\" y=\"282.7573\"/><rect fill=\"#FFFFFF\" height=\"2\" style=\"stroke: #000000; stroke-width: 1.0;\" width=\"2\" x=\"135\" y=\"277.9492\"/><line style=\"stroke: #000000; stroke-width: 1.0;\" x1=\"128\" x2=\"136\" y1=\"278.9492\" y2=\"278.9492\"/><line style=\"stroke: #000000; stroke-width: 1.0;\" x1=\"128\" x2=\"128\" y1=\"272.5469\" y2=\"278.9492\"/></a><!--MD5=[ebbe1d658d1005bcc118a6aa81145e00]\n",
       "class E4--><a href=\"psysml:9ae2babd-6d67-4765-bfe5-8d775f3bcf42\" target=\"_top\" title=\"psysml:9ae2babd-6d67-4765-bfe5-8d775f3bcf42\" xlink:actuate=\"onRequest\" xlink:href=\"psysml:9ae2babd-6d67-4765-bfe5-8d775f3bcf42\" xlink:show=\"new\" xlink:title=\"psysml:9ae2babd-6d67-4765-bfe5-8d775f3bcf42\" xlink:type=\"simple\"><rect fill=\"#FFFFFF\" height=\"45.9375\" id=\"E4\" rx=\"10\" ry=\"10\" style=\"stroke: #383838; stroke-width: 1.5;\" width=\"46\" x=\"132\" y=\"349\"/><text fill=\"#000000\" font-family=\"sans-serif\" font-size=\"12\" font-style=\"italic\" lengthAdjust=\"spacingAndGlyphs\" textLength=\"40\" x=\"135\" y=\"365.1387\">«port»</text><text fill=\"#000000\" font-family=\"sans-serif\" font-size=\"12\" lengthAdjust=\"spacingAndGlyphs\" textLength=\"40\" x=\"135\" y=\"379.1074\">porig1</text><line style=\"stroke: #383838; stroke-width: 1.5;\" x1=\"133\" x2=\"177\" y1=\"386.9375\" y2=\"386.9375\"/></a><!--MD5=[270fce915f116d4de14055a7c1d9a0f3]\n",
       "class E5--><a href=\"psysml:11b2a6df-aab5-4dc5-a120-8a7b1f52b05c\" target=\"_top\" title=\"psysml:11b2a6df-aab5-4dc5-a120-8a7b1f52b05c\" xlink:actuate=\"onRequest\" xlink:href=\"psysml:11b2a6df-aab5-4dc5-a120-8a7b1f52b05c\" xlink:show=\"new\" xlink:title=\"psysml:11b2a6df-aab5-4dc5-a120-8a7b1f52b05c\" xlink:type=\"simple\"><rect fill=\"#FFFFFF\" height=\"88.3516\" id=\"E5\" rx=\"10\" ry=\"10\" style=\"stroke: #383838; stroke-width: 1.5;\" width=\"92\" x=\"117\" y=\"44\"/><text fill=\"#000000\" font-family=\"sans-serif\" font-size=\"12\" font-style=\"italic\" lengthAdjust=\"spacingAndGlyphs\" textLength=\"40\" x=\"143\" y=\"60.1387\">«part»</text><text fill=\"#000000\" font-family=\"sans-serif\" font-size=\"12\" lengthAdjust=\"spacingAndGlyphs\" textLength=\"40\" x=\"141\" y=\"74.1074\">p1: P1</text><line style=\"stroke: #383838; stroke-width: 1.5;\" x1=\"118\" x2=\"208\" y1=\"81.9375\" y2=\"81.9375\"/><text fill=\"#000000\" font-family=\"sans-serif\" font-size=\"11\" lengthAdjust=\"spacingAndGlyphs\" textLength=\"21\" x=\"123\" y=\"112.9526\">po1</text><text fill=\"#000000\" font-family=\"sans-serif\" font-size=\"11\" font-style=\"italic\" lengthAdjust=\"spacingAndGlyphs\" textLength=\"80\" x=\"123\" y=\"125.7573\">:&gt;&gt;P1::porig1</text><line style=\"stroke: #383838; stroke-width: 1.0;\" x1=\"118\" x2=\"148\" y1=\"96.3398\" y2=\"96.3398\"/><text fill=\"#000000\" font-family=\"sans-serif\" font-size=\"11\" lengthAdjust=\"spacingAndGlyphs\" textLength=\"30\" x=\"148\" y=\"99.6479\">ports</text><line style=\"stroke: #383838; stroke-width: 1.0;\" x1=\"178\" x2=\"208\" y1=\"96.3398\" y2=\"96.3398\"/></a><!--MD5=[60a26617385b1d2d0262a64233df1f8d]\n",
       "class E6--><a href=\"psysml:2c2598c5-3ef5-4f1d-ae32-f3d429fa4c2f\" target=\"_top\" title=\"psysml:2c2598c5-3ef5-4f1d-ae32-f3d429fa4c2f\" xlink:actuate=\"onRequest\" xlink:href=\"psysml:2c2598c5-3ef5-4f1d-ae32-f3d429fa4c2f\" xlink:show=\"new\" xlink:title=\"psysml:2c2598c5-3ef5-4f1d-ae32-f3d429fa4c2f\" xlink:type=\"simple\"><rect fill=\"#FFFFFF\" height=\"94.3516\" id=\"E6\" rx=\"10\" ry=\"10\" style=\"stroke: #383838; stroke-width: 1.5;\" width=\"50\" x=\"32\" y=\"41\"/><text fill=\"#000000\" font-family=\"sans-serif\" font-size=\"12\" font-style=\"italic\" lengthAdjust=\"spacingAndGlyphs\" textLength=\"40\" x=\"37\" y=\"57.1387\">«part»</text><text fill=\"#000000\" font-family=\"sans-serif\" font-size=\"12\" lengthAdjust=\"spacingAndGlyphs\" textLength=\"40\" x=\"35\" y=\"71.1074\">p2: P1</text><line style=\"stroke: #383838; stroke-width: 1.5;\" x1=\"33\" x2=\"81\" y1=\"78.9375\" y2=\"78.9375\"/><text fill=\"#000000\" font-family=\"sans-serif\" font-size=\"11\" lengthAdjust=\"spacingAndGlyphs\" textLength=\"32\" x=\"38\" y=\"109.9526\">pdest</text><line style=\"stroke: #383838; stroke-width: 1.0;\" x1=\"33\" x2=\"42\" y1=\"93.3398\" y2=\"93.3398\"/><text fill=\"#000000\" font-family=\"sans-serif\" font-size=\"11\" lengthAdjust=\"spacingAndGlyphs\" textLength=\"30\" x=\"42\" y=\"96.6479\">ports</text><line style=\"stroke: #383838; stroke-width: 1.0;\" x1=\"72\" x2=\"81\" y1=\"93.3398\" y2=\"93.3398\"/><text fill=\"#000000\" font-family=\"sans-serif\" font-size=\"11\" lengthAdjust=\"spacingAndGlyphs\" textLength=\"0\" x=\"54\" y=\"128.7573\"/><rect fill=\"#FFFFFF\" height=\"2\" style=\"stroke: #000000; stroke-width: 1.0;\" width=\"2\" x=\"47\" y=\"123.9492\"/><line style=\"stroke: #000000; stroke-width: 1.0;\" x1=\"40\" x2=\"48\" y1=\"124.9492\" y2=\"124.9492\"/><line style=\"stroke: #000000; stroke-width: 1.0;\" x1=\"40\" x2=\"40\" y1=\"118.5469\" y2=\"124.9492\"/></a><!--MD5=[2156ba9850f5573cc1fc38a6a4b2f02b]\n",
       "class E7--><a href=\"psysml:10820d16-405d-40a2-9551-06e34552661e\" target=\"_top\" title=\"psysml:10820d16-405d-40a2-9551-06e34552661e\" xlink:actuate=\"onRequest\" xlink:href=\"psysml:10820d16-405d-40a2-9551-06e34552661e\" xlink:show=\"new\" xlink:title=\"psysml:10820d16-405d-40a2-9551-06e34552661e\" xlink:type=\"simple\"><rect fill=\"#FFFFFF\" height=\"45.9375\" id=\"E7\" rx=\"10\" ry=\"10\" style=\"stroke: #383838; stroke-width: 1.5;\" width=\"42\" x=\"36\" y=\"219\"/><text fill=\"#000000\" font-family=\"sans-serif\" font-size=\"12\" font-style=\"italic\" lengthAdjust=\"spacingAndGlyphs\" textLength=\"40\" x=\"37\" y=\"235.1387\">«port»</text><text fill=\"#000000\" font-family=\"sans-serif\" font-size=\"12\" lengthAdjust=\"spacingAndGlyphs\" textLength=\"36\" x=\"39\" y=\"249.1074\">pdest</text><line style=\"stroke: #383838; stroke-width: 1.5;\" x1=\"37\" x2=\"77\" y1=\"256.9375\" y2=\"256.9375\"/></a><!--MD5=[4672eba38e49728da53d11aeb285b987]\n",
       "reverse link E3 to E4--><a href=\"psysml:408c218d-2c50-4f10-8495-de57c6cccdaf\" target=\"_top\" title=\"psysml:408c218d-2c50-4f10-8495-de57c6cccdaf\" xlink:actuate=\"onRequest\" xlink:href=\"psysml:408c218d-2c50-4f10-8495-de57c6cccdaf\" xlink:show=\"new\" xlink:title=\"psysml:408c218d-2c50-4f10-8495-de57c6cccdaf\" xlink:type=\"simple\"><path d=\"M155,304.32 C155,320.28 155,336.46 155,348.89 \" fill=\"none\" id=\"E3&lt;-E4\" style=\"stroke: #383838; stroke-width: 1.0; stroke-dasharray: 7.0,7.0;\"/><ellipse cx=\"155\" cy=\"297.21\" fill=\"#FFFFFF\" rx=\"8\" ry=\"8\" style=\"stroke: #383838; stroke-width: 1.0;\"/><line style=\"stroke: #383838; stroke-width: 1.0;\" x1=\"155\" x2=\"155\" y1=\"305.21\" y2=\"289.21\"/><line style=\"stroke: #383838; stroke-width: 1.0;\" x1=\"147\" x2=\"163\" y1=\"297.21\" y2=\"297.21\"/><text fill=\"#000000\" font-family=\"sans-serif\" font-size=\"13\" lengthAdjust=\"spacingAndGlyphs\" textLength=\"8\" x=\"145.925\" y=\"337.7567\">1</text></a><!--MD5=[e9be52314489bd878ff4c7144b63c9e1]\n",
       "link E5 to E3--><a href=\"psysml:39d7aa17-d9aa-4290-8253-e0b073366074\" target=\"_top\" title=\"psysml:39d7aa17-d9aa-4290-8253-e0b073366074\" xlink:actuate=\"onRequest\" xlink:href=\"psysml:39d7aa17-d9aa-4290-8253-e0b073366074\" xlink:show=\"new\" xlink:title=\"psysml:39d7aa17-d9aa-4290-8253-e0b073366074\" xlink:type=\"simple\"><path d=\"M160.73,132.15 C160.04,145.3 159.26,160.08 158.51,174.4 \" fill=\"none\" id=\"E5-&gt;E3\" style=\"stroke: #383838; stroke-width: 1.0;\"/><polygon fill=\"#FFFFFF\" points=\"157.43,194.82,151.4303,175.4808,165.4113,176.2109,157.43,194.82\" style=\"stroke: #383838; stroke-width: 1.0;\"/><ellipse cx=\"153.7248\" cy=\"169.8929\" fill=\"#383838\" rx=\"2\" ry=\"2\" style=\"stroke: #383838; stroke-width: 1.0;\"/><ellipse cx=\"163.7112\" cy=\"170.4143\" fill=\"#383838\" rx=\"2\" ry=\"2\" style=\"stroke: #383838; stroke-width: 1.0;\"/></a><!--MD5=[a717450b82c80b9240a525fa862496af]\n",
       "link E6 to E3--><a href=\"psysml:6afc3f94-967f-4ac8-9c89-c7c9ad6aa496\" target=\"_top\" title=\"psysml:6afc3f94-967f-4ac8-9c89-c7c9ad6aa496\" xlink:actuate=\"onRequest\" xlink:href=\"psysml:6afc3f94-967f-4ac8-9c89-c7c9ad6aa496\" xlink:show=\"new\" xlink:title=\"psysml:6afc3f94-967f-4ac8-9c89-c7c9ad6aa496\" xlink:type=\"simple\"><path d=\"M82.24,128.14 C92.05,143.37 103.55,161.2 114.47,178.13 \" fill=\"none\" id=\"E6-&gt;E3\" style=\"stroke: #383838; stroke-width: 1.0;\"/><polygon fill=\"#FFFFFF\" points=\"125.32,194.97,109.1474,182.7861,120.9177,175.2059,125.32,194.97\" style=\"stroke: #383838; stroke-width: 1.0;\"/><ellipse cx=\"107.7427\" cy=\"176.911\" fill=\"#383838\" rx=\"2\" ry=\"2\" style=\"stroke: #383838; stroke-width: 1.0;\"/><ellipse cx=\"116.15\" cy=\"171.4966\" fill=\"#383838\" rx=\"2\" ry=\"2\" style=\"stroke: #383838; stroke-width: 1.0;\"/></a><!--MD5=[3f50a3473f1dfb74d3f76443e03635af]\n",
       "reverse link E6 to E7--><a href=\"psysml:af85dbb9-a19a-4dbd-bd41-700a2e1e88fd\" target=\"_top\" title=\"psysml:af85dbb9-a19a-4dbd-bd41-700a2e1e88fd\" xlink:actuate=\"onRequest\" xlink:href=\"psysml:af85dbb9-a19a-4dbd-bd41-700a2e1e88fd\" xlink:show=\"new\" xlink:title=\"psysml:af85dbb9-a19a-4dbd-bd41-700a2e1e88fd\" xlink:type=\"simple\"><path d=\"M57,150.16 C57,174.43 57,200.81 57,218.85 \" fill=\"none\" id=\"E6&lt;-E7\" style=\"stroke: #383838; stroke-width: 1.0; stroke-dasharray: 7.0,7.0;\"/><ellipse cx=\"57\" cy=\"143.02\" fill=\"#FFFFFF\" rx=\"8\" ry=\"8\" style=\"stroke: #383838; stroke-width: 1.0;\"/><line style=\"stroke: #383838; stroke-width: 1.0;\" x1=\"57\" x2=\"57\" y1=\"151.02\" y2=\"135.02\"/><line style=\"stroke: #383838; stroke-width: 1.0;\" x1=\"49\" x2=\"65\" y1=\"143.02\" y2=\"143.02\"/><text fill=\"#000000\" font-family=\"sans-serif\" font-size=\"13\" lengthAdjust=\"spacingAndGlyphs\" textLength=\"8\" x=\"47.975\" y=\"208.0879\">1</text></a><!--MD5=[4a7f136ca0012a0088636e562e24854f]\n",
       "@startuml\r\n",
       " skinparam monochrome true\r\n",
       "skinparam classbackgroundcolor white\r\n",
       "skinparam shadowing false\r\n",
       "skinparam wrapWidth 300\r\n",
       "hide circle\r\n",
       "\r\n",
       "package \"AliasTest\" as E1  [[psysml:dccc75fb-db16-4804-85cb-688c27ce5ff3 ]]  {\r\n",
       "comp usage \"q :> Quantities::tensorQuantities\" as E2  <<(T,blue) attribute>> [[psysml:ce72622b-28d6-4d09-bee8-b5dd20a40a54 ]] {\r\n",
       "}\r\n",
       "comp def \"P1\" as E3  <<(T,blue) part  def>> [[psysml:61eb2658-da6c-419b-a94e-058b00326cab ]] {\r\n",
       "- - ports - -\r\n",
       "porig1\r\n",
       "|_ \r\n",
       "}\r\n",
       "comp usage \"porig1\" as E4  <<(T,blue) port>> [[psysml:9ae2babd-6d67-4765-bfe5-8d775f3bcf42 ]] {\r\n",
       "}\r\n",
       "comp usage \"p1: P1 \" as E5  <<(T,blue) part>> [[psysml:11b2a6df-aab5-4dc5-a120-8a7b1f52b05c ]] {\r\n",
       "- - ports - -\r\n",
       "po1\\n//:>>P1::porig1// \r\n",
       "}\r\n",
       "comp usage \"p2: P1 \" as E6  <<(T,blue) part>> [[psysml:2c2598c5-3ef5-4f1d-ae32-f3d429fa4c2f ]] {\r\n",
       "- - ports - -\r\n",
       "pdest\r\n",
       "|_ \r\n",
       "}\r\n",
       "comp usage \"pdest\" as E7  <<(T,blue) port>> [[psysml:10820d16-405d-40a2-9551-06e34552661e ]] {\r\n",
       "}\r\n",
       "}\r\n",
       "E3 +.. \"1\"E4 [[psysml:408c218d-2c50-4f10-8495-de57c6cccdaf ]] \r\n",
       "E5 - -:|> E3 [[psysml:39d7aa17-d9aa-4290-8253-e0b073366074 ]] \r\n",
       "E6 - -:|> E3 [[psysml:6afc3f94-967f-4ac8-9c89-c7c9ad6aa496 ]] \r\n",
       "E6 +.. \"1\"E7 [[psysml:af85dbb9-a19a-4dbd-bd41-700a2e1e88fd ]] \r\n",
       "@enduml\r\n",
       "\n",
       "PlantUML version 1.2020.13(Sat Jun 13 12:26:38 UTC 2020)\n",
       "(EPL source distribution)\n",
       "Java Runtime: OpenJDK Runtime Environment\n",
       "JVM: OpenJDK 64-Bit Server VM\n",
       "Default Encoding: UTF-8\n",
       "Language: en\n",
       "Country: null\n",
       "--></g></svg>"
      ]
     },
     "execution_count": 2,
     "metadata": {},
     "output_type": "execute_result"
    }
   ],
   "source": [
    "%viz --style=\"COMPTREE\" --view=\"Default\" \"AliasTest\""
   ]
  },
  {
   "cell_type": "code",
   "execution_count": 3,
   "id": "b0edc56c",
   "metadata": {
    "execution": {
     "iopub.execute_input": "2021-10-25T08:23:51.810967Z",
     "iopub.status.busy": "2021-10-25T08:23:51.810519Z",
     "iopub.status.idle": "2021-10-25T08:23:51.920901Z",
     "shell.execute_reply": "2021-10-25T08:23:51.920507Z"
    }
   },
   "outputs": [
    {
     "data": {
      "image/svg+xml": [
       "<?xml version=\"1.0\" encoding=\"UTF-8\" standalone=\"no\"?><svg xmlns=\"http://www.w3.org/2000/svg\" xmlns:xlink=\"http://www.w3.org/1999/xlink\" contentScriptType=\"application/ecmascript\" contentStyleType=\"text/css\" height=\"423px\" preserveAspectRatio=\"none\" style=\"width:495px;height:423px;\" version=\"1.1\" viewBox=\"0 0 495 423\" width=\"495px\" zoomAndPan=\"magnify\"><defs/><g><!--MD5=[fbc87193dbaf4d95561dea2c320d4a47]\n",
       "cluster E1--><a href=\"psysml:dccc75fb-db16-4804-85cb-688c27ce5ff3\" target=\"_top\" title=\"psysml:dccc75fb-db16-4804-85cb-688c27ce5ff3\" xlink:actuate=\"onRequest\" xlink:href=\"psysml:dccc75fb-db16-4804-85cb-688c27ce5ff3\" xlink:show=\"new\" xlink:title=\"psysml:dccc75fb-db16-4804-85cb-688c27ce5ff3\" xlink:type=\"simple\"><polygon fill=\"#FFFFFF\" points=\"16,6,84,6,91,28.2969,473,28.2969,473,411,16,411,16,6\" style=\"stroke: #000000; stroke-width: 1.5;\"/><line style=\"stroke: #000000; stroke-width: 1.5;\" x1=\"16\" x2=\"91\" y1=\"28.2969\" y2=\"28.2969\"/><text fill=\"#000000\" font-family=\"sans-serif\" font-size=\"14\" font-weight=\"bold\" lengthAdjust=\"spacingAndGlyphs\" textLength=\"62\" x=\"20\" y=\"20.9951\">AliasTest</text></a><!--MD5=[b4997ac47864f28c2f74865a473b2911]\n",
       "class E2--><a href=\"psysml:ce72622b-28d6-4d09-bee8-b5dd20a40a54\" target=\"_top\" title=\"psysml:ce72622b-28d6-4d09-bee8-b5dd20a40a54\" xlink:actuate=\"onRequest\" xlink:href=\"psysml:ce72622b-28d6-4d09-bee8-b5dd20a40a54\" xlink:show=\"new\" xlink:title=\"psysml:ce72622b-28d6-4d09-bee8-b5dd20a40a54\" xlink:type=\"simple\"><rect fill=\"#FFFFFF\" height=\"45.9375\" id=\"E2\" rx=\"10\" ry=\"10\" style=\"stroke: #383838; stroke-width: 1.5;\" width=\"213\" x=\"244.5\" y=\"65\"/><text fill=\"#000000\" font-family=\"sans-serif\" font-size=\"12\" font-style=\"italic\" lengthAdjust=\"spacingAndGlyphs\" textLength=\"69\" x=\"316.5\" y=\"81.1387\">«attribute»</text><text fill=\"#000000\" font-family=\"sans-serif\" font-size=\"12\" lengthAdjust=\"spacingAndGlyphs\" textLength=\"207\" x=\"247.5\" y=\"95.1074\">q :&gt; Quantities::tensorQuantities</text><line style=\"stroke: #383838; stroke-width: 1.5;\" x1=\"245.5\" x2=\"456.5\" y1=\"102.9375\" y2=\"102.9375\"/></a><!--MD5=[09b614a08d8cba4a07c9adeb5e0fee81]\n",
       "class E3--><a href=\"psysml:61eb2658-da6c-419b-a94e-058b00326cab\" target=\"_top\" title=\"psysml:61eb2658-da6c-419b-a94e-058b00326cab\" xlink:actuate=\"onRequest\" xlink:href=\"psysml:61eb2658-da6c-419b-a94e-058b00326cab\" xlink:show=\"new\" xlink:title=\"psysml:61eb2658-da6c-419b-a94e-058b00326cab\" xlink:type=\"simple\"><rect fill=\"#FFFFFF\" height=\"94.3516\" id=\"E3\" style=\"stroke: #383838; stroke-width: 1.5;\" width=\"70\" x=\"120\" y=\"195\"/><text fill=\"#000000\" font-family=\"sans-serif\" font-size=\"12\" font-style=\"italic\" lengthAdjust=\"spacingAndGlyphs\" textLength=\"68\" x=\"121\" y=\"211.1387\">«part  def»</text><text fill=\"#000000\" font-family=\"sans-serif\" font-size=\"12\" lengthAdjust=\"spacingAndGlyphs\" textLength=\"16\" x=\"147\" y=\"225.1074\">P1</text><line style=\"stroke: #383838; stroke-width: 1.5;\" x1=\"121\" x2=\"189\" y1=\"232.9375\" y2=\"232.9375\"/><text fill=\"#000000\" font-family=\"sans-serif\" font-size=\"11\" lengthAdjust=\"spacingAndGlyphs\" textLength=\"36\" x=\"126\" y=\"263.9526\">porig1</text><line style=\"stroke: #383838; stroke-width: 1.0;\" x1=\"121\" x2=\"140\" y1=\"247.3398\" y2=\"247.3398\"/><text fill=\"#000000\" font-family=\"sans-serif\" font-size=\"11\" lengthAdjust=\"spacingAndGlyphs\" textLength=\"30\" x=\"140\" y=\"250.6479\">ports</text><line style=\"stroke: #383838; stroke-width: 1.0;\" x1=\"170\" x2=\"189\" y1=\"247.3398\" y2=\"247.3398\"/><text fill=\"#000000\" font-family=\"sans-serif\" font-size=\"11\" lengthAdjust=\"spacingAndGlyphs\" textLength=\"0\" x=\"142\" y=\"282.7573\"/><rect fill=\"#FFFFFF\" height=\"2\" style=\"stroke: #000000; stroke-width: 1.0;\" width=\"2\" x=\"135\" y=\"277.9492\"/><line style=\"stroke: #000000; stroke-width: 1.0;\" x1=\"128\" x2=\"136\" y1=\"278.9492\" y2=\"278.9492\"/><line style=\"stroke: #000000; stroke-width: 1.0;\" x1=\"128\" x2=\"128\" y1=\"272.5469\" y2=\"278.9492\"/></a><!--MD5=[ebbe1d658d1005bcc118a6aa81145e00]\n",
       "class E4--><a href=\"psysml:9ae2babd-6d67-4765-bfe5-8d775f3bcf42\" target=\"_top\" title=\"psysml:9ae2babd-6d67-4765-bfe5-8d775f3bcf42\" xlink:actuate=\"onRequest\" xlink:href=\"psysml:9ae2babd-6d67-4765-bfe5-8d775f3bcf42\" xlink:show=\"new\" xlink:title=\"psysml:9ae2babd-6d67-4765-bfe5-8d775f3bcf42\" xlink:type=\"simple\"><rect fill=\"#FFFFFF\" height=\"45.9375\" id=\"E4\" rx=\"10\" ry=\"10\" style=\"stroke: #383838; stroke-width: 1.5;\" width=\"46\" x=\"132\" y=\"349\"/><text fill=\"#000000\" font-family=\"sans-serif\" font-size=\"12\" font-style=\"italic\" lengthAdjust=\"spacingAndGlyphs\" textLength=\"40\" x=\"135\" y=\"365.1387\">«port»</text><text fill=\"#000000\" font-family=\"sans-serif\" font-size=\"12\" lengthAdjust=\"spacingAndGlyphs\" textLength=\"40\" x=\"135\" y=\"379.1074\">porig1</text><line style=\"stroke: #383838; stroke-width: 1.5;\" x1=\"133\" x2=\"177\" y1=\"386.9375\" y2=\"386.9375\"/></a><!--MD5=[270fce915f116d4de14055a7c1d9a0f3]\n",
       "class E5--><a href=\"psysml:11b2a6df-aab5-4dc5-a120-8a7b1f52b05c\" target=\"_top\" title=\"psysml:11b2a6df-aab5-4dc5-a120-8a7b1f52b05c\" xlink:actuate=\"onRequest\" xlink:href=\"psysml:11b2a6df-aab5-4dc5-a120-8a7b1f52b05c\" xlink:show=\"new\" xlink:title=\"psysml:11b2a6df-aab5-4dc5-a120-8a7b1f52b05c\" xlink:type=\"simple\"><rect fill=\"#FFFFFF\" height=\"88.3516\" id=\"E5\" rx=\"10\" ry=\"10\" style=\"stroke: #383838; stroke-width: 1.5;\" width=\"92\" x=\"117\" y=\"44\"/><text fill=\"#000000\" font-family=\"sans-serif\" font-size=\"12\" font-style=\"italic\" lengthAdjust=\"spacingAndGlyphs\" textLength=\"40\" x=\"143\" y=\"60.1387\">«part»</text><text fill=\"#000000\" font-family=\"sans-serif\" font-size=\"12\" lengthAdjust=\"spacingAndGlyphs\" textLength=\"40\" x=\"141\" y=\"74.1074\">p1: P1</text><line style=\"stroke: #383838; stroke-width: 1.5;\" x1=\"118\" x2=\"208\" y1=\"81.9375\" y2=\"81.9375\"/><text fill=\"#000000\" font-family=\"sans-serif\" font-size=\"11\" lengthAdjust=\"spacingAndGlyphs\" textLength=\"21\" x=\"123\" y=\"112.9526\">po1</text><text fill=\"#000000\" font-family=\"sans-serif\" font-size=\"11\" font-style=\"italic\" lengthAdjust=\"spacingAndGlyphs\" textLength=\"80\" x=\"123\" y=\"125.7573\">:&gt;&gt;P1::porig1</text><line style=\"stroke: #383838; stroke-width: 1.0;\" x1=\"118\" x2=\"148\" y1=\"96.3398\" y2=\"96.3398\"/><text fill=\"#000000\" font-family=\"sans-serif\" font-size=\"11\" lengthAdjust=\"spacingAndGlyphs\" textLength=\"30\" x=\"148\" y=\"99.6479\">ports</text><line style=\"stroke: #383838; stroke-width: 1.0;\" x1=\"178\" x2=\"208\" y1=\"96.3398\" y2=\"96.3398\"/></a><!--MD5=[60a26617385b1d2d0262a64233df1f8d]\n",
       "class E6--><a href=\"psysml:2c2598c5-3ef5-4f1d-ae32-f3d429fa4c2f\" target=\"_top\" title=\"psysml:2c2598c5-3ef5-4f1d-ae32-f3d429fa4c2f\" xlink:actuate=\"onRequest\" xlink:href=\"psysml:2c2598c5-3ef5-4f1d-ae32-f3d429fa4c2f\" xlink:show=\"new\" xlink:title=\"psysml:2c2598c5-3ef5-4f1d-ae32-f3d429fa4c2f\" xlink:type=\"simple\"><rect fill=\"#FFFFFF\" height=\"94.3516\" id=\"E6\" rx=\"10\" ry=\"10\" style=\"stroke: #383838; stroke-width: 1.5;\" width=\"50\" x=\"32\" y=\"41\"/><text fill=\"#000000\" font-family=\"sans-serif\" font-size=\"12\" font-style=\"italic\" lengthAdjust=\"spacingAndGlyphs\" textLength=\"40\" x=\"37\" y=\"57.1387\">«part»</text><text fill=\"#000000\" font-family=\"sans-serif\" font-size=\"12\" lengthAdjust=\"spacingAndGlyphs\" textLength=\"40\" x=\"35\" y=\"71.1074\">p2: P1</text><line style=\"stroke: #383838; stroke-width: 1.5;\" x1=\"33\" x2=\"81\" y1=\"78.9375\" y2=\"78.9375\"/><text fill=\"#000000\" font-family=\"sans-serif\" font-size=\"11\" lengthAdjust=\"spacingAndGlyphs\" textLength=\"32\" x=\"38\" y=\"109.9526\">pdest</text><line style=\"stroke: #383838; stroke-width: 1.0;\" x1=\"33\" x2=\"42\" y1=\"93.3398\" y2=\"93.3398\"/><text fill=\"#000000\" font-family=\"sans-serif\" font-size=\"11\" lengthAdjust=\"spacingAndGlyphs\" textLength=\"30\" x=\"42\" y=\"96.6479\">ports</text><line style=\"stroke: #383838; stroke-width: 1.0;\" x1=\"72\" x2=\"81\" y1=\"93.3398\" y2=\"93.3398\"/><text fill=\"#000000\" font-family=\"sans-serif\" font-size=\"11\" lengthAdjust=\"spacingAndGlyphs\" textLength=\"0\" x=\"54\" y=\"128.7573\"/><rect fill=\"#FFFFFF\" height=\"2\" style=\"stroke: #000000; stroke-width: 1.0;\" width=\"2\" x=\"47\" y=\"123.9492\"/><line style=\"stroke: #000000; stroke-width: 1.0;\" x1=\"40\" x2=\"48\" y1=\"124.9492\" y2=\"124.9492\"/><line style=\"stroke: #000000; stroke-width: 1.0;\" x1=\"40\" x2=\"40\" y1=\"118.5469\" y2=\"124.9492\"/></a><!--MD5=[2156ba9850f5573cc1fc38a6a4b2f02b]\n",
       "class E7--><a href=\"psysml:10820d16-405d-40a2-9551-06e34552661e\" target=\"_top\" title=\"psysml:10820d16-405d-40a2-9551-06e34552661e\" xlink:actuate=\"onRequest\" xlink:href=\"psysml:10820d16-405d-40a2-9551-06e34552661e\" xlink:show=\"new\" xlink:title=\"psysml:10820d16-405d-40a2-9551-06e34552661e\" xlink:type=\"simple\"><rect fill=\"#FFFFFF\" height=\"45.9375\" id=\"E7\" rx=\"10\" ry=\"10\" style=\"stroke: #383838; stroke-width: 1.5;\" width=\"42\" x=\"36\" y=\"219\"/><text fill=\"#000000\" font-family=\"sans-serif\" font-size=\"12\" font-style=\"italic\" lengthAdjust=\"spacingAndGlyphs\" textLength=\"40\" x=\"37\" y=\"235.1387\">«port»</text><text fill=\"#000000\" font-family=\"sans-serif\" font-size=\"12\" lengthAdjust=\"spacingAndGlyphs\" textLength=\"36\" x=\"39\" y=\"249.1074\">pdest</text><line style=\"stroke: #383838; stroke-width: 1.5;\" x1=\"37\" x2=\"77\" y1=\"256.9375\" y2=\"256.9375\"/></a><!--MD5=[4672eba38e49728da53d11aeb285b987]\n",
       "reverse link E3 to E4--><a href=\"psysml:408c218d-2c50-4f10-8495-de57c6cccdaf\" target=\"_top\" title=\"psysml:408c218d-2c50-4f10-8495-de57c6cccdaf\" xlink:actuate=\"onRequest\" xlink:href=\"psysml:408c218d-2c50-4f10-8495-de57c6cccdaf\" xlink:show=\"new\" xlink:title=\"psysml:408c218d-2c50-4f10-8495-de57c6cccdaf\" xlink:type=\"simple\"><path d=\"M155,304.32 C155,320.28 155,336.46 155,348.89 \" fill=\"none\" id=\"E3&lt;-E4\" style=\"stroke: #383838; stroke-width: 1.0; stroke-dasharray: 7.0,7.0;\"/><ellipse cx=\"155\" cy=\"297.21\" fill=\"#FFFFFF\" rx=\"8\" ry=\"8\" style=\"stroke: #383838; stroke-width: 1.0;\"/><line style=\"stroke: #383838; stroke-width: 1.0;\" x1=\"155\" x2=\"155\" y1=\"305.21\" y2=\"289.21\"/><line style=\"stroke: #383838; stroke-width: 1.0;\" x1=\"147\" x2=\"163\" y1=\"297.21\" y2=\"297.21\"/><text fill=\"#000000\" font-family=\"sans-serif\" font-size=\"13\" lengthAdjust=\"spacingAndGlyphs\" textLength=\"8\" x=\"145.925\" y=\"337.7567\">1</text></a><!--MD5=[e9be52314489bd878ff4c7144b63c9e1]\n",
       "link E5 to E3--><a href=\"psysml:39d7aa17-d9aa-4290-8253-e0b073366074\" target=\"_top\" title=\"psysml:39d7aa17-d9aa-4290-8253-e0b073366074\" xlink:actuate=\"onRequest\" xlink:href=\"psysml:39d7aa17-d9aa-4290-8253-e0b073366074\" xlink:show=\"new\" xlink:title=\"psysml:39d7aa17-d9aa-4290-8253-e0b073366074\" xlink:type=\"simple\"><path d=\"M160.73,132.15 C160.04,145.3 159.26,160.08 158.51,174.4 \" fill=\"none\" id=\"E5-&gt;E3\" style=\"stroke: #383838; stroke-width: 1.0;\"/><polygon fill=\"#FFFFFF\" points=\"157.43,194.82,151.4303,175.4808,165.4113,176.2109,157.43,194.82\" style=\"stroke: #383838; stroke-width: 1.0;\"/><ellipse cx=\"153.7248\" cy=\"169.8929\" fill=\"#383838\" rx=\"2\" ry=\"2\" style=\"stroke: #383838; stroke-width: 1.0;\"/><ellipse cx=\"163.7112\" cy=\"170.4143\" fill=\"#383838\" rx=\"2\" ry=\"2\" style=\"stroke: #383838; stroke-width: 1.0;\"/></a><!--MD5=[a717450b82c80b9240a525fa862496af]\n",
       "link E6 to E3--><a href=\"psysml:6afc3f94-967f-4ac8-9c89-c7c9ad6aa496\" target=\"_top\" title=\"psysml:6afc3f94-967f-4ac8-9c89-c7c9ad6aa496\" xlink:actuate=\"onRequest\" xlink:href=\"psysml:6afc3f94-967f-4ac8-9c89-c7c9ad6aa496\" xlink:show=\"new\" xlink:title=\"psysml:6afc3f94-967f-4ac8-9c89-c7c9ad6aa496\" xlink:type=\"simple\"><path d=\"M82.24,128.14 C92.05,143.37 103.55,161.2 114.47,178.13 \" fill=\"none\" id=\"E6-&gt;E3\" style=\"stroke: #383838; stroke-width: 1.0;\"/><polygon fill=\"#FFFFFF\" points=\"125.32,194.97,109.1474,182.7861,120.9177,175.2059,125.32,194.97\" style=\"stroke: #383838; stroke-width: 1.0;\"/><ellipse cx=\"107.7427\" cy=\"176.911\" fill=\"#383838\" rx=\"2\" ry=\"2\" style=\"stroke: #383838; stroke-width: 1.0;\"/><ellipse cx=\"116.15\" cy=\"171.4966\" fill=\"#383838\" rx=\"2\" ry=\"2\" style=\"stroke: #383838; stroke-width: 1.0;\"/></a><!--MD5=[3f50a3473f1dfb74d3f76443e03635af]\n",
       "reverse link E6 to E7--><a href=\"psysml:af85dbb9-a19a-4dbd-bd41-700a2e1e88fd\" target=\"_top\" title=\"psysml:af85dbb9-a19a-4dbd-bd41-700a2e1e88fd\" xlink:actuate=\"onRequest\" xlink:href=\"psysml:af85dbb9-a19a-4dbd-bd41-700a2e1e88fd\" xlink:show=\"new\" xlink:title=\"psysml:af85dbb9-a19a-4dbd-bd41-700a2e1e88fd\" xlink:type=\"simple\"><path d=\"M57,150.16 C57,174.43 57,200.81 57,218.85 \" fill=\"none\" id=\"E6&lt;-E7\" style=\"stroke: #383838; stroke-width: 1.0; stroke-dasharray: 7.0,7.0;\"/><ellipse cx=\"57\" cy=\"143.02\" fill=\"#FFFFFF\" rx=\"8\" ry=\"8\" style=\"stroke: #383838; stroke-width: 1.0;\"/><line style=\"stroke: #383838; stroke-width: 1.0;\" x1=\"57\" x2=\"57\" y1=\"151.02\" y2=\"135.02\"/><line style=\"stroke: #383838; stroke-width: 1.0;\" x1=\"49\" x2=\"65\" y1=\"143.02\" y2=\"143.02\"/><text fill=\"#000000\" font-family=\"sans-serif\" font-size=\"13\" lengthAdjust=\"spacingAndGlyphs\" textLength=\"8\" x=\"47.975\" y=\"208.0879\">1</text></a><!--MD5=[4a7f136ca0012a0088636e562e24854f]\n",
       "@startuml\r\n",
       " skinparam monochrome true\r\n",
       "skinparam classbackgroundcolor white\r\n",
       "skinparam shadowing false\r\n",
       "skinparam wrapWidth 300\r\n",
       "hide circle\r\n",
       "\r\n",
       "package \"AliasTest\" as E1  [[psysml:dccc75fb-db16-4804-85cb-688c27ce5ff3 ]]  {\r\n",
       "comp usage \"q :> Quantities::tensorQuantities\" as E2  <<(T,blue) attribute>> [[psysml:ce72622b-28d6-4d09-bee8-b5dd20a40a54 ]] {\r\n",
       "}\r\n",
       "comp def \"P1\" as E3  <<(T,blue) part  def>> [[psysml:61eb2658-da6c-419b-a94e-058b00326cab ]] {\r\n",
       "- - ports - -\r\n",
       "porig1\r\n",
       "|_ \r\n",
       "}\r\n",
       "comp usage \"porig1\" as E4  <<(T,blue) port>> [[psysml:9ae2babd-6d67-4765-bfe5-8d775f3bcf42 ]] {\r\n",
       "}\r\n",
       "comp usage \"p1: P1 \" as E5  <<(T,blue) part>> [[psysml:11b2a6df-aab5-4dc5-a120-8a7b1f52b05c ]] {\r\n",
       "- - ports - -\r\n",
       "po1\\n//:>>P1::porig1// \r\n",
       "}\r\n",
       "comp usage \"p2: P1 \" as E6  <<(T,blue) part>> [[psysml:2c2598c5-3ef5-4f1d-ae32-f3d429fa4c2f ]] {\r\n",
       "- - ports - -\r\n",
       "pdest\r\n",
       "|_ \r\n",
       "}\r\n",
       "comp usage \"pdest\" as E7  <<(T,blue) port>> [[psysml:10820d16-405d-40a2-9551-06e34552661e ]] {\r\n",
       "}\r\n",
       "}\r\n",
       "E3 +.. \"1\"E4 [[psysml:408c218d-2c50-4f10-8495-de57c6cccdaf ]] \r\n",
       "E5 - -:|> E3 [[psysml:39d7aa17-d9aa-4290-8253-e0b073366074 ]] \r\n",
       "E6 - -:|> E3 [[psysml:6afc3f94-967f-4ac8-9c89-c7c9ad6aa496 ]] \r\n",
       "E6 +.. \"1\"E7 [[psysml:af85dbb9-a19a-4dbd-bd41-700a2e1e88fd ]] \r\n",
       "@enduml\r\n",
       "\n",
       "PlantUML version 1.2020.13(Sat Jun 13 12:26:38 UTC 2020)\n",
       "(EPL source distribution)\n",
       "Java Runtime: OpenJDK Runtime Environment\n",
       "JVM: OpenJDK 64-Bit Server VM\n",
       "Default Encoding: UTF-8\n",
       "Language: en\n",
       "Country: null\n",
       "--></g></svg>"
      ]
     },
     "execution_count": 3,
     "metadata": {},
     "output_type": "execute_result"
    }
   ],
   "source": [
    "%viz --style=\"COMPTREE\" --view=\"Tree\" \"AliasTest\""
   ]
  },
  {
   "cell_type": "code",
   "execution_count": 4,
   "id": "8645ab95",
   "metadata": {
    "execution": {
     "iopub.execute_input": "2021-10-25T08:23:51.970647Z",
     "iopub.status.busy": "2021-10-25T08:23:51.970194Z",
     "iopub.status.idle": "2021-10-25T08:23:51.979023Z",
     "shell.execute_reply": "2021-10-25T08:23:51.979354Z"
    }
   },
   "outputs": [
    {
     "data": {
      "image/svg+xml": [
       "<?xml version=\"1.0\" encoding=\"UTF-8\" standalone=\"no\"?><svg xmlns=\"http://www.w3.org/2000/svg\" xmlns:xlink=\"http://www.w3.org/1999/xlink\" contentScriptType=\"application/ecmascript\" contentStyleType=\"text/css\" height=\"12px\" preserveAspectRatio=\"none\" style=\"width:12px;height:12px;\" version=\"1.1\" viewBox=\"0 0 12 12\" width=\"12px\" zoomAndPan=\"magnify\"><defs/><g><!--MD5=[f19188ef49e11757b5c46753f95d9edc]\n",
       "@startuml\r\n",
       " skinparam monochrome true\r\n",
       "skinparam classbackgroundcolor white\r\n",
       "skinparam shadowing false\r\n",
       "skinparam wrapWidth 300\r\n",
       "hide circle\r\n",
       "\r\n",
       "@enduml\r\n",
       "\n",
       "PlantUML version 1.2020.13(Sat Jun 13 12:26:38 UTC 2020)\n",
       "(EPL source distribution)\n",
       "Java Runtime: OpenJDK Runtime Environment\n",
       "JVM: OpenJDK 64-Bit Server VM\n",
       "Default Encoding: UTF-8\n",
       "Language: en\n",
       "Country: null\n",
       "--></g></svg>"
      ]
     },
     "execution_count": 4,
     "metadata": {},
     "output_type": "execute_result"
    }
   ],
   "source": [
    "%viz --style=\"COMPTREE\" --view=\"State\" \"AliasTest\""
   ]
  },
  {
   "cell_type": "code",
   "execution_count": 5,
   "id": "bd80ed0f",
   "metadata": {
    "execution": {
     "iopub.execute_input": "2021-10-25T08:23:52.029846Z",
     "iopub.status.busy": "2021-10-25T08:23:52.029251Z",
     "iopub.status.idle": "2021-10-25T08:23:52.092994Z",
     "shell.execute_reply": "2021-10-25T08:23:52.092607Z"
    }
   },
   "outputs": [
    {
     "data": {
      "image/svg+xml": [
       "<?xml version=\"1.0\" encoding=\"UTF-8\" standalone=\"no\"?><svg xmlns=\"http://www.w3.org/2000/svg\" xmlns:xlink=\"http://www.w3.org/1999/xlink\" contentScriptType=\"application/ecmascript\" contentStyleType=\"text/css\" height=\"233px\" preserveAspectRatio=\"none\" style=\"width:618px;height:233px;\" version=\"1.1\" viewBox=\"0 0 618 233\" width=\"618px\" zoomAndPan=\"magnify\"><defs/><g><!--MD5=[fbc87193dbaf4d95561dea2c320d4a47]\n",
       "cluster E1--><a href=\"psysml:dccc75fb-db16-4804-85cb-688c27ce5ff3\" target=\"_top\" title=\"psysml:dccc75fb-db16-4804-85cb-688c27ce5ff3\" xlink:actuate=\"onRequest\" xlink:href=\"psysml:dccc75fb-db16-4804-85cb-688c27ce5ff3\" xlink:show=\"new\" xlink:title=\"psysml:dccc75fb-db16-4804-85cb-688c27ce5ff3\" xlink:type=\"simple\"><polygon fill=\"#FFFFFF\" points=\"16,6,84,6,91,28.2969,596,28.2969,596,221,16,221,16,6\" style=\"stroke: #000000; stroke-width: 1.5;\"/><line style=\"stroke: #000000; stroke-width: 1.5;\" x1=\"16\" x2=\"91\" y1=\"28.2969\" y2=\"28.2969\"/><text fill=\"#000000\" font-family=\"sans-serif\" font-size=\"14\" font-weight=\"bold\" lengthAdjust=\"spacingAndGlyphs\" textLength=\"62\" x=\"20\" y=\"20.9951\">AliasTest</text></a><!--MD5=[d5e69f78d87373223dbae638b30a9c99]\n",
       "cluster E3--><a href=\"psysml:61eb2658-da6c-419b-a94e-058b00326cab\" target=\"_top\" title=\"psysml:61eb2658-da6c-419b-a94e-058b00326cab\" xlink:actuate=\"onRequest\" xlink:href=\"psysml:61eb2658-da6c-419b-a94e-058b00326cab\" xlink:show=\"new\" xlink:title=\"psysml:61eb2658-da6c-419b-a94e-058b00326cab\" xlink:type=\"simple\"><rect fill=\"#FFFFFF\" height=\"90\" id=\"E3\" style=\"stroke: #383838; stroke-width: 1.5;\" width=\"85\" x=\"453\" y=\"64\"/><rect fill=\"#F8F8F8\" height=\"37.9375\" style=\"stroke: #383838; stroke-width: 1.5;\" width=\"85\" x=\"453\" y=\"64\"/><text fill=\"#000000\" font-family=\"sans-serif\" font-size=\"12\" font-style=\"italic\" lengthAdjust=\"spacingAndGlyphs\" textLength=\"68\" x=\"461.5\" y=\"80.1387\">«part  def»</text><text fill=\"#000000\" font-family=\"sans-serif\" font-size=\"12\" lengthAdjust=\"spacingAndGlyphs\" textLength=\"16\" x=\"487.5\" y=\"94.1074\">P1</text></a><!--MD5=[14e3b0961a2654348d326746436168a1]\n",
       "cluster E6--><a href=\"psysml:11b2a6df-aab5-4dc5-a120-8a7b1f52b05c\" target=\"_top\" title=\"psysml:11b2a6df-aab5-4dc5-a120-8a7b1f52b05c\" xlink:actuate=\"onRequest\" xlink:href=\"psysml:11b2a6df-aab5-4dc5-a120-8a7b1f52b05c\" xlink:show=\"new\" xlink:title=\"psysml:11b2a6df-aab5-4dc5-a120-8a7b1f52b05c\" xlink:type=\"simple\"><rect fill=\"#FFFFFF\" height=\"82\" id=\"E6\" rx=\"10\" ry=\"10\" style=\"stroke: #383838; stroke-width: 1.5;\" width=\"98\" x=\"252\" y=\"64\"/><rect fill=\"#F8F8F8\" height=\"23.9688\" rx=\"10\" ry=\"10\" style=\"stroke: #F8F8F8; stroke-width: 1.5;\" width=\"98\" x=\"252\" y=\"64\"/><rect fill=\"#F8F8F8\" height=\"10\" style=\"stroke: #F8F8F8; stroke-width: 1.5;\" width=\"98\" x=\"252\" y=\"77.9688\"/><rect fill=\"none\" height=\"82\" id=\"E6\" rx=\"10\" ry=\"10\" style=\"stroke: #383838; stroke-width: 1.5;\" width=\"98\" x=\"252\" y=\"64\"/><text fill=\"#000000\" font-family=\"sans-serif\" font-size=\"12\" lengthAdjust=\"spacingAndGlyphs\" textLength=\"40\" x=\"281\" y=\"80.1387\">p1: P1</text><line style=\"stroke: #383838; stroke-width: 1.0;\" x1=\"252\" x2=\"350\" y1=\"87.9688\" y2=\"87.9688\"/></a><!--MD5=[55dfccfc6c49c2d10cd1bd2211a6c90c]\n",
       "cluster E8--><a href=\"psysml:2c2598c5-3ef5-4f1d-ae32-f3d429fa4c2f\" target=\"_top\" title=\"psysml:2c2598c5-3ef5-4f1d-ae32-f3d429fa4c2f\" xlink:actuate=\"onRequest\" xlink:href=\"psysml:2c2598c5-3ef5-4f1d-ae32-f3d429fa4c2f\" xlink:show=\"new\" xlink:title=\"psysml:2c2598c5-3ef5-4f1d-ae32-f3d429fa4c2f\" xlink:type=\"simple\"><rect fill=\"#FFFFFF\" height=\"84.5\" id=\"E8\" rx=\"10\" ry=\"10\" style=\"stroke: #383838; stroke-width: 1.5;\" width=\"83\" x=\"353\" y=\"120.5\"/><rect fill=\"#F8F8F8\" height=\"23.9688\" rx=\"10\" ry=\"10\" style=\"stroke: #F8F8F8; stroke-width: 1.5;\" width=\"83\" x=\"353\" y=\"120.5\"/><rect fill=\"#F8F8F8\" height=\"10\" style=\"stroke: #F8F8F8; stroke-width: 1.5;\" width=\"83\" x=\"353\" y=\"134.4688\"/><rect fill=\"none\" height=\"84.5\" id=\"E8\" rx=\"10\" ry=\"10\" style=\"stroke: #383838; stroke-width: 1.5;\" width=\"83\" x=\"353\" y=\"120.5\"/><text fill=\"#000000\" font-family=\"sans-serif\" font-size=\"12\" lengthAdjust=\"spacingAndGlyphs\" textLength=\"40\" x=\"374.5\" y=\"136.6387\">p2: P1</text><line style=\"stroke: #383838; stroke-width: 1.0;\" x1=\"353\" x2=\"436\" y1=\"144.4688\" y2=\"144.4688\"/></a><!--MD5=[b4997ac47864f28c2f74865a473b2911]\n",
       "class E2--><a href=\"psysml:ce72622b-28d6-4d09-bee8-b5dd20a40a54\" target=\"_top\" title=\"psysml:ce72622b-28d6-4d09-bee8-b5dd20a40a54\" xlink:actuate=\"onRequest\" xlink:href=\"psysml:ce72622b-28d6-4d09-bee8-b5dd20a40a54\" xlink:show=\"new\" xlink:title=\"psysml:ce72622b-28d6-4d09-bee8-b5dd20a40a54\" xlink:type=\"simple\"><rect fill=\"#FFFFFF\" height=\"45.9375\" id=\"E2\" rx=\"10\" ry=\"10\" style=\"stroke: #383838; stroke-width: 1.5;\" width=\"213\" x=\"31.5\" y=\"41\"/><text fill=\"#000000\" font-family=\"sans-serif\" font-size=\"12\" font-style=\"italic\" lengthAdjust=\"spacingAndGlyphs\" textLength=\"69\" x=\"103.5\" y=\"57.1387\">«attribute»</text><text fill=\"#000000\" font-family=\"sans-serif\" font-size=\"12\" lengthAdjust=\"spacingAndGlyphs\" textLength=\"207\" x=\"34.5\" y=\"71.1074\">q :&gt; Quantities::tensorQuantities</text><line style=\"stroke: #383838; stroke-width: 1.5;\" x1=\"32.5\" x2=\"243.5\" y1=\"78.9375\" y2=\"78.9375\"/></a><text fill=\"#000000\" font-family=\"sans-serif\" font-size=\"14\" lengthAdjust=\"spacingAndGlyphs\" textLength=\"44\" x=\"449\" y=\"42.6982\">porig1</text><rect fill=\"#383838\" height=\"12\" style=\"stroke: #F8F8F8; stroke-width: 1.5;\" width=\"12\" x=\"465\" y=\"58\"/><text fill=\"#000000\" font-family=\"sans-serif\" font-size=\"14\" lengthAdjust=\"spacingAndGlyphs\" textLength=\"44\" x=\"496\" y=\"42.6982\">porig1</text><rect fill=\"#383838\" height=\"12\" style=\"stroke: #F8F8F8; stroke-width: 1.5;\" width=\"12\" x=\"512\" y=\"58\"/><text fill=\"#000000\" font-family=\"sans-serif\" font-size=\"14\" lengthAdjust=\"spacingAndGlyphs\" textLength=\"27\" x=\"318.5\" y=\"42.6982\">po1</text><rect fill=\"#383838\" height=\"12\" style=\"stroke: #F8F8F8; stroke-width: 1.5;\" width=\"12\" x=\"326\" y=\"58\"/><text fill=\"#000000\" font-family=\"sans-serif\" font-size=\"14\" lengthAdjust=\"spacingAndGlyphs\" textLength=\"40\" x=\"351\" y=\"99.1982\">pdest</text><rect fill=\"#383838\" height=\"12\" style=\"stroke: #F8F8F8; stroke-width: 1.5;\" width=\"12\" x=\"365\" y=\"114.5\"/><text fill=\"#000000\" font-family=\"sans-serif\" font-size=\"14\" lengthAdjust=\"spacingAndGlyphs\" textLength=\"40\" x=\"398\" y=\"99.1982\">pdest</text><rect fill=\"#383838\" height=\"12\" style=\"stroke: #F8F8F8; stroke-width: 1.5;\" width=\"12\" x=\"412\" y=\"114.5\"/><!--MD5=[1c0b9414cc86e0744215edee6abd8926]\n",
       "link E7 to E9--><a href=\"psysml:ee24455c-c65b-41eb-8958-74c54e28cd84\" target=\"_top\" title=\"psysml:ee24455c-c65b-41eb-8958-74c54e28cd84\" xlink:actuate=\"onRequest\" xlink:href=\"psysml:ee24455c-c65b-41eb-8958-74c54e28cd84\" xlink:show=\"new\" xlink:title=\"psysml:ee24455c-c65b-41eb-8958-74c54e28cd84\" xlink:type=\"simple\"><path d=\"M327.83,70.03 C328.72,81.73 350.14,110.34 364.83,117.73 \" fill=\"none\" id=\"E7-E9\" style=\"stroke: #383838; stroke-width: 3.0;\"/><text fill=\"#000000\" font-family=\"sans-serif\" font-size=\"13\" lengthAdjust=\"spacingAndGlyphs\" textLength=\"7\" x=\"349.8522\" y=\"106.3789\">*</text></a><!--MD5=[1c0b9414cc86e0744215edee6abd8926]\n",
       "link E7 to E9--><a href=\"psysml:1d0a5b52-6a4c-4cbe-b03e-99be5638e392\" target=\"_top\" title=\"psysml:1d0a5b52-6a4c-4cbe-b03e-99be5638e392\" xlink:actuate=\"onRequest\" xlink:href=\"psysml:1d0a5b52-6a4c-4cbe-b03e-99be5638e392\" xlink:show=\"new\" xlink:title=\"psysml:1d0a5b52-6a4c-4cbe-b03e-99be5638e392\" xlink:type=\"simple\"><path d=\"M338.05,66.57 C353.27,73.62 375.05,102.5 375.62,114.37 \" fill=\"none\" id=\"E7-E9-1\" style=\"stroke: #383838; stroke-width: 3.0;\"/><text fill=\"#000000\" font-family=\"sans-serif\" font-size=\"13\" lengthAdjust=\"spacingAndGlyphs\" textLength=\"7\" x=\"369.278\" y=\"103.4683\">*</text></a><!--MD5=[5e34fd0c944bc04e5d3c194c5ef6e888]\n",
       "@startuml\r\n",
       "skinparam ranksep 10\r\n",
       "skinparam rectangle {\r\n",
       " backgroundColor<<block>> LightGreen\r\n",
       "}\r\n",
       " skinparam monochrome true\r\n",
       "skinparam classbackgroundcolor white\r\n",
       "skinparam shadowing false\r\n",
       "skinparam wrapWidth 300\r\n",
       "hide circle\r\n",
       "\r\n",
       "package \"AliasTest\" as E1  [[psysml:dccc75fb-db16-4804-85cb-688c27ce5ff3 ]]  {\r\n",
       "comp usage \"q :> Quantities::tensorQuantities\" as E2  <<(T,blue) attribute>> [[psysml:ce72622b-28d6-4d09-bee8-b5dd20a40a54 ]] {\r\n",
       "}\r\n",
       "rec def \"P1\" as E3  <<(T,blue) part  def>> [[psysml:61eb2658-da6c-419b-a94e-058b00326cab ]] {\r\n",
       "portin \"porig1\" as E4  <<(T,blue) port>> [[psysml:9ae2babd-6d67-4765-bfe5-8d775f3bcf42 ]] \r\n",
       "portin \"porig1\" as E5  <<(T,blue) port>> [[psysml:9ae2babd-6d67-4765-bfe5-8d775f3bcf42 ]] \r\n",
       "}\r\n",
       "rec usage \"p1: P1\" as E6  [[psysml:11b2a6df-aab5-4dc5-a120-8a7b1f52b05c ]] {\r\n",
       "portin \"po1\" as E7  <<(T,blue) port>> [[psysml:a231442e-2600-41cf-892c-df88027eb505 ]] \r\n",
       "}\r\n",
       "rec usage \"p2: P1\" as E8  [[psysml:2c2598c5-3ef5-4f1d-ae32-f3d429fa4c2f ]] {\r\n",
       "portin \"pdest\" as E9  <<(T,blue) port>> [[psysml:10820d16-405d-40a2-9551-06e34552661e ]] \r\n",
       "portin \"pdest\" as E10  <<(T,blue) port>> [[psysml:10820d16-405d-40a2-9551-06e34552661e ]] \r\n",
       "}\r\n",
       "}\r\n",
       "E7 -[thickness=3]- \"*\"E9 [[psysml:ee24455c-c65b-41eb-8958-74c54e28cd84 ]] \r\n",
       "E7 -[thickness=3]- \"*\"E9 [[psysml:1d0a5b52-6a4c-4cbe-b03e-99be5638e392 ]] \r\n",
       "@enduml\r\n",
       "\n",
       "PlantUML version 1.2020.13(Sat Jun 13 12:26:38 UTC 2020)\n",
       "(EPL source distribution)\n",
       "Java Runtime: OpenJDK Runtime Environment\n",
       "JVM: OpenJDK 64-Bit Server VM\n",
       "Default Encoding: UTF-8\n",
       "Language: en\n",
       "Country: null\n",
       "--></g></svg>"
      ]
     },
     "execution_count": 5,
     "metadata": {},
     "output_type": "execute_result"
    }
   ],
   "source": [
    "%viz --style=\"COMPTREE\" --view=\"Interconnection\" \"AliasTest\""
   ]
  },
  {
   "cell_type": "code",
   "execution_count": 6,
   "id": "69ab904e",
   "metadata": {
    "execution": {
     "iopub.execute_input": "2021-10-25T08:23:52.142725Z",
     "iopub.status.busy": "2021-10-25T08:23:52.142287Z",
     "iopub.status.idle": "2021-10-25T08:23:52.151166Z",
     "shell.execute_reply": "2021-10-25T08:23:52.151488Z"
    }
   },
   "outputs": [
    {
     "data": {
      "image/svg+xml": [
       "<?xml version=\"1.0\" encoding=\"UTF-8\" standalone=\"no\"?><svg xmlns=\"http://www.w3.org/2000/svg\" xmlns:xlink=\"http://www.w3.org/1999/xlink\" contentScriptType=\"application/ecmascript\" contentStyleType=\"text/css\" height=\"12px\" preserveAspectRatio=\"none\" style=\"width:12px;height:12px;\" version=\"1.1\" viewBox=\"0 0 12 12\" width=\"12px\" zoomAndPan=\"magnify\"><defs/><g><!--MD5=[655b888544ca4751ea36af1068543f84]\n",
       "@startuml\r\n",
       "skinparam ranksep 8\r\n",
       " skinparam monochrome true\r\n",
       "skinparam classbackgroundcolor white\r\n",
       "skinparam shadowing false\r\n",
       "skinparam wrapWidth 300\r\n",
       "hide circle\r\n",
       "\r\n",
       "@enduml\r\n",
       "\n",
       "PlantUML version 1.2020.13(Sat Jun 13 12:26:38 UTC 2020)\n",
       "(EPL source distribution)\n",
       "Java Runtime: OpenJDK Runtime Environment\n",
       "JVM: OpenJDK 64-Bit Server VM\n",
       "Default Encoding: UTF-8\n",
       "Language: en\n",
       "Country: null\n",
       "--></g></svg>"
      ]
     },
     "execution_count": 6,
     "metadata": {},
     "output_type": "execute_result"
    }
   ],
   "source": [
    "%viz --style=\"COMPTREE\" --view=\"Action\" \"AliasTest\""
   ]
  },
  {
   "cell_type": "code",
   "execution_count": 7,
   "id": "be04450a",
   "metadata": {
    "execution": {
     "iopub.execute_input": "2021-10-25T08:23:52.201908Z",
     "iopub.status.busy": "2021-10-25T08:23:52.201484Z",
     "iopub.status.idle": "2021-10-25T08:23:52.214768Z",
     "shell.execute_reply": "2021-10-25T08:23:52.215117Z"
    }
   },
   "outputs": [
    {
     "data": {
      "image/svg+xml": [
       "<?xml version=\"1.0\" encoding=\"UTF-8\" standalone=\"no\"?><svg xmlns=\"http://www.w3.org/2000/svg\" xmlns:xlink=\"http://www.w3.org/1999/xlink\" contentScriptType=\"application/ecmascript\" contentStyleType=\"text/css\" height=\"12px\" preserveAspectRatio=\"none\" style=\"width:12px;height:12px;\" version=\"1.1\" viewBox=\"0 0 12 12\" width=\"12px\" zoomAndPan=\"magnify\"><defs/><g><!--MD5=[803fc46c337be7a5c8a9831e35356779]\n",
       "@startuml\r\n",
       "skinparam roundcorner 20\r\n",
       "skinparam BoxPadding 20\r\n",
       "skinparam SequenceBoxBackgroundColor #white\r\n",
       "skinparam style strictuml\r\n",
       "skinparam maxMessageSize 100\r\n",
       " skinparam monochrome true\r\n",
       "skinparam classbackgroundcolor white\r\n",
       "skinparam shadowing false\r\n",
       "skinparam wrapWidth 300\r\n",
       "hide circle\r\n",
       "\r\n",
       "@enduml\r\n",
       "\n",
       "PlantUML version 1.2020.13(Sat Jun 13 12:26:38 UTC 2020)\n",
       "(EPL source distribution)\n",
       "Java Runtime: OpenJDK Runtime Environment\n",
       "JVM: OpenJDK 64-Bit Server VM\n",
       "Default Encoding: UTF-8\n",
       "Language: en\n",
       "Country: null\n",
       "--></g></svg>"
      ]
     },
     "execution_count": 7,
     "metadata": {},
     "output_type": "execute_result"
    }
   ],
   "source": [
    "%viz --style=\"COMPTREE\" --view=\"Sequence\" \"AliasTest\""
   ]
  },
  {
   "cell_type": "code",
   "execution_count": 8,
   "id": "a4acfe4d",
   "metadata": {
    "execution": {
     "iopub.execute_input": "2021-10-25T08:23:52.265234Z",
     "iopub.status.busy": "2021-10-25T08:23:52.264806Z",
     "iopub.status.idle": "2021-10-25T08:23:52.374139Z",
     "shell.execute_reply": "2021-10-25T08:23:52.373758Z"
    }
   },
   "outputs": [
    {
     "data": {
      "image/svg+xml": [
       "<?xml version=\"1.0\" encoding=\"UTF-8\" standalone=\"no\"?><svg xmlns=\"http://www.w3.org/2000/svg\" xmlns:xlink=\"http://www.w3.org/1999/xlink\" contentScriptType=\"application/ecmascript\" contentStyleType=\"text/css\" height=\"423px\" preserveAspectRatio=\"none\" style=\"width:495px;height:423px;\" version=\"1.1\" viewBox=\"0 0 495 423\" width=\"495px\" zoomAndPan=\"magnify\"><defs/><g><!--MD5=[fbc87193dbaf4d95561dea2c320d4a47]\n",
       "cluster E1--><a href=\"psysml:dccc75fb-db16-4804-85cb-688c27ce5ff3\" target=\"_top\" title=\"psysml:dccc75fb-db16-4804-85cb-688c27ce5ff3\" xlink:actuate=\"onRequest\" xlink:href=\"psysml:dccc75fb-db16-4804-85cb-688c27ce5ff3\" xlink:show=\"new\" xlink:title=\"psysml:dccc75fb-db16-4804-85cb-688c27ce5ff3\" xlink:type=\"simple\"><polygon fill=\"#FFFFFF\" points=\"16,6,84,6,91,28.2969,473,28.2969,473,411,16,411,16,6\" style=\"stroke: #000000; stroke-width: 1.5;\"/><line style=\"stroke: #000000; stroke-width: 1.5;\" x1=\"16\" x2=\"91\" y1=\"28.2969\" y2=\"28.2969\"/><text fill=\"#000000\" font-family=\"sans-serif\" font-size=\"14\" font-weight=\"bold\" lengthAdjust=\"spacingAndGlyphs\" textLength=\"62\" x=\"20\" y=\"20.9951\">AliasTest</text></a><!--MD5=[b4997ac47864f28c2f74865a473b2911]\n",
       "class E2--><a href=\"psysml:ce72622b-28d6-4d09-bee8-b5dd20a40a54\" target=\"_top\" title=\"psysml:ce72622b-28d6-4d09-bee8-b5dd20a40a54\" xlink:actuate=\"onRequest\" xlink:href=\"psysml:ce72622b-28d6-4d09-bee8-b5dd20a40a54\" xlink:show=\"new\" xlink:title=\"psysml:ce72622b-28d6-4d09-bee8-b5dd20a40a54\" xlink:type=\"simple\"><rect fill=\"#FFFFFF\" height=\"45.9375\" id=\"E2\" rx=\"10\" ry=\"10\" style=\"stroke: #383838; stroke-width: 1.5;\" width=\"213\" x=\"244.5\" y=\"65\"/><text fill=\"#000000\" font-family=\"sans-serif\" font-size=\"12\" font-style=\"italic\" lengthAdjust=\"spacingAndGlyphs\" textLength=\"69\" x=\"316.5\" y=\"81.1387\">«attribute»</text><text fill=\"#000000\" font-family=\"sans-serif\" font-size=\"12\" lengthAdjust=\"spacingAndGlyphs\" textLength=\"207\" x=\"247.5\" y=\"95.1074\">q :&gt; Quantities::tensorQuantities</text><line style=\"stroke: #383838; stroke-width: 1.5;\" x1=\"245.5\" x2=\"456.5\" y1=\"102.9375\" y2=\"102.9375\"/></a><!--MD5=[09b614a08d8cba4a07c9adeb5e0fee81]\n",
       "class E3--><a href=\"psysml:61eb2658-da6c-419b-a94e-058b00326cab\" target=\"_top\" title=\"psysml:61eb2658-da6c-419b-a94e-058b00326cab\" xlink:actuate=\"onRequest\" xlink:href=\"psysml:61eb2658-da6c-419b-a94e-058b00326cab\" xlink:show=\"new\" xlink:title=\"psysml:61eb2658-da6c-419b-a94e-058b00326cab\" xlink:type=\"simple\"><rect fill=\"#FFFFFF\" height=\"94.3516\" id=\"E3\" style=\"stroke: #383838; stroke-width: 1.5;\" width=\"70\" x=\"120\" y=\"195\"/><text fill=\"#000000\" font-family=\"sans-serif\" font-size=\"12\" font-style=\"italic\" lengthAdjust=\"spacingAndGlyphs\" textLength=\"68\" x=\"121\" y=\"211.1387\">«part  def»</text><text fill=\"#000000\" font-family=\"sans-serif\" font-size=\"12\" lengthAdjust=\"spacingAndGlyphs\" textLength=\"16\" x=\"147\" y=\"225.1074\">P1</text><line style=\"stroke: #383838; stroke-width: 1.5;\" x1=\"121\" x2=\"189\" y1=\"232.9375\" y2=\"232.9375\"/><text fill=\"#000000\" font-family=\"sans-serif\" font-size=\"11\" lengthAdjust=\"spacingAndGlyphs\" textLength=\"36\" x=\"126\" y=\"263.9526\">porig1</text><line style=\"stroke: #383838; stroke-width: 1.0;\" x1=\"121\" x2=\"140\" y1=\"247.3398\" y2=\"247.3398\"/><text fill=\"#000000\" font-family=\"sans-serif\" font-size=\"11\" lengthAdjust=\"spacingAndGlyphs\" textLength=\"30\" x=\"140\" y=\"250.6479\">ports</text><line style=\"stroke: #383838; stroke-width: 1.0;\" x1=\"170\" x2=\"189\" y1=\"247.3398\" y2=\"247.3398\"/><text fill=\"#000000\" font-family=\"sans-serif\" font-size=\"11\" lengthAdjust=\"spacingAndGlyphs\" textLength=\"0\" x=\"142\" y=\"282.7573\"/><rect fill=\"#FFFFFF\" height=\"2\" style=\"stroke: #000000; stroke-width: 1.0;\" width=\"2\" x=\"135\" y=\"277.9492\"/><line style=\"stroke: #000000; stroke-width: 1.0;\" x1=\"128\" x2=\"136\" y1=\"278.9492\" y2=\"278.9492\"/><line style=\"stroke: #000000; stroke-width: 1.0;\" x1=\"128\" x2=\"128\" y1=\"272.5469\" y2=\"278.9492\"/></a><!--MD5=[ebbe1d658d1005bcc118a6aa81145e00]\n",
       "class E4--><a href=\"psysml:9ae2babd-6d67-4765-bfe5-8d775f3bcf42\" target=\"_top\" title=\"psysml:9ae2babd-6d67-4765-bfe5-8d775f3bcf42\" xlink:actuate=\"onRequest\" xlink:href=\"psysml:9ae2babd-6d67-4765-bfe5-8d775f3bcf42\" xlink:show=\"new\" xlink:title=\"psysml:9ae2babd-6d67-4765-bfe5-8d775f3bcf42\" xlink:type=\"simple\"><rect fill=\"#FFFFFF\" height=\"45.9375\" id=\"E4\" rx=\"10\" ry=\"10\" style=\"stroke: #383838; stroke-width: 1.5;\" width=\"46\" x=\"132\" y=\"349\"/><text fill=\"#000000\" font-family=\"sans-serif\" font-size=\"12\" font-style=\"italic\" lengthAdjust=\"spacingAndGlyphs\" textLength=\"40\" x=\"135\" y=\"365.1387\">«port»</text><text fill=\"#000000\" font-family=\"sans-serif\" font-size=\"12\" lengthAdjust=\"spacingAndGlyphs\" textLength=\"40\" x=\"135\" y=\"379.1074\">porig1</text><line style=\"stroke: #383838; stroke-width: 1.5;\" x1=\"133\" x2=\"177\" y1=\"386.9375\" y2=\"386.9375\"/></a><!--MD5=[270fce915f116d4de14055a7c1d9a0f3]\n",
       "class E5--><a href=\"psysml:11b2a6df-aab5-4dc5-a120-8a7b1f52b05c\" target=\"_top\" title=\"psysml:11b2a6df-aab5-4dc5-a120-8a7b1f52b05c\" xlink:actuate=\"onRequest\" xlink:href=\"psysml:11b2a6df-aab5-4dc5-a120-8a7b1f52b05c\" xlink:show=\"new\" xlink:title=\"psysml:11b2a6df-aab5-4dc5-a120-8a7b1f52b05c\" xlink:type=\"simple\"><rect fill=\"#FFFFFF\" height=\"88.3516\" id=\"E5\" rx=\"10\" ry=\"10\" style=\"stroke: #383838; stroke-width: 1.5;\" width=\"92\" x=\"117\" y=\"44\"/><text fill=\"#000000\" font-family=\"sans-serif\" font-size=\"12\" font-style=\"italic\" lengthAdjust=\"spacingAndGlyphs\" textLength=\"40\" x=\"143\" y=\"60.1387\">«part»</text><text fill=\"#000000\" font-family=\"sans-serif\" font-size=\"12\" lengthAdjust=\"spacingAndGlyphs\" textLength=\"40\" x=\"141\" y=\"74.1074\">p1: P1</text><line style=\"stroke: #383838; stroke-width: 1.5;\" x1=\"118\" x2=\"208\" y1=\"81.9375\" y2=\"81.9375\"/><text fill=\"#000000\" font-family=\"sans-serif\" font-size=\"11\" lengthAdjust=\"spacingAndGlyphs\" textLength=\"21\" x=\"123\" y=\"112.9526\">po1</text><text fill=\"#000000\" font-family=\"sans-serif\" font-size=\"11\" font-style=\"italic\" lengthAdjust=\"spacingAndGlyphs\" textLength=\"80\" x=\"123\" y=\"125.7573\">:&gt;&gt;P1::porig1</text><line style=\"stroke: #383838; stroke-width: 1.0;\" x1=\"118\" x2=\"148\" y1=\"96.3398\" y2=\"96.3398\"/><text fill=\"#000000\" font-family=\"sans-serif\" font-size=\"11\" lengthAdjust=\"spacingAndGlyphs\" textLength=\"30\" x=\"148\" y=\"99.6479\">ports</text><line style=\"stroke: #383838; stroke-width: 1.0;\" x1=\"178\" x2=\"208\" y1=\"96.3398\" y2=\"96.3398\"/></a><!--MD5=[60a26617385b1d2d0262a64233df1f8d]\n",
       "class E6--><a href=\"psysml:2c2598c5-3ef5-4f1d-ae32-f3d429fa4c2f\" target=\"_top\" title=\"psysml:2c2598c5-3ef5-4f1d-ae32-f3d429fa4c2f\" xlink:actuate=\"onRequest\" xlink:href=\"psysml:2c2598c5-3ef5-4f1d-ae32-f3d429fa4c2f\" xlink:show=\"new\" xlink:title=\"psysml:2c2598c5-3ef5-4f1d-ae32-f3d429fa4c2f\" xlink:type=\"simple\"><rect fill=\"#FFFFFF\" height=\"94.3516\" id=\"E6\" rx=\"10\" ry=\"10\" style=\"stroke: #383838; stroke-width: 1.5;\" width=\"50\" x=\"32\" y=\"41\"/><text fill=\"#000000\" font-family=\"sans-serif\" font-size=\"12\" font-style=\"italic\" lengthAdjust=\"spacingAndGlyphs\" textLength=\"40\" x=\"37\" y=\"57.1387\">«part»</text><text fill=\"#000000\" font-family=\"sans-serif\" font-size=\"12\" lengthAdjust=\"spacingAndGlyphs\" textLength=\"40\" x=\"35\" y=\"71.1074\">p2: P1</text><line style=\"stroke: #383838; stroke-width: 1.5;\" x1=\"33\" x2=\"81\" y1=\"78.9375\" y2=\"78.9375\"/><text fill=\"#000000\" font-family=\"sans-serif\" font-size=\"11\" lengthAdjust=\"spacingAndGlyphs\" textLength=\"32\" x=\"38\" y=\"109.9526\">pdest</text><line style=\"stroke: #383838; stroke-width: 1.0;\" x1=\"33\" x2=\"42\" y1=\"93.3398\" y2=\"93.3398\"/><text fill=\"#000000\" font-family=\"sans-serif\" font-size=\"11\" lengthAdjust=\"spacingAndGlyphs\" textLength=\"30\" x=\"42\" y=\"96.6479\">ports</text><line style=\"stroke: #383838; stroke-width: 1.0;\" x1=\"72\" x2=\"81\" y1=\"93.3398\" y2=\"93.3398\"/><text fill=\"#000000\" font-family=\"sans-serif\" font-size=\"11\" lengthAdjust=\"spacingAndGlyphs\" textLength=\"0\" x=\"54\" y=\"128.7573\"/><rect fill=\"#FFFFFF\" height=\"2\" style=\"stroke: #000000; stroke-width: 1.0;\" width=\"2\" x=\"47\" y=\"123.9492\"/><line style=\"stroke: #000000; stroke-width: 1.0;\" x1=\"40\" x2=\"48\" y1=\"124.9492\" y2=\"124.9492\"/><line style=\"stroke: #000000; stroke-width: 1.0;\" x1=\"40\" x2=\"40\" y1=\"118.5469\" y2=\"124.9492\"/></a><!--MD5=[2156ba9850f5573cc1fc38a6a4b2f02b]\n",
       "class E7--><a href=\"psysml:10820d16-405d-40a2-9551-06e34552661e\" target=\"_top\" title=\"psysml:10820d16-405d-40a2-9551-06e34552661e\" xlink:actuate=\"onRequest\" xlink:href=\"psysml:10820d16-405d-40a2-9551-06e34552661e\" xlink:show=\"new\" xlink:title=\"psysml:10820d16-405d-40a2-9551-06e34552661e\" xlink:type=\"simple\"><rect fill=\"#FFFFFF\" height=\"45.9375\" id=\"E7\" rx=\"10\" ry=\"10\" style=\"stroke: #383838; stroke-width: 1.5;\" width=\"42\" x=\"36\" y=\"219\"/><text fill=\"#000000\" font-family=\"sans-serif\" font-size=\"12\" font-style=\"italic\" lengthAdjust=\"spacingAndGlyphs\" textLength=\"40\" x=\"37\" y=\"235.1387\">«port»</text><text fill=\"#000000\" font-family=\"sans-serif\" font-size=\"12\" lengthAdjust=\"spacingAndGlyphs\" textLength=\"36\" x=\"39\" y=\"249.1074\">pdest</text><line style=\"stroke: #383838; stroke-width: 1.5;\" x1=\"37\" x2=\"77\" y1=\"256.9375\" y2=\"256.9375\"/></a><!--MD5=[4672eba38e49728da53d11aeb285b987]\n",
       "reverse link E3 to E4--><a href=\"psysml:408c218d-2c50-4f10-8495-de57c6cccdaf\" target=\"_top\" title=\"psysml:408c218d-2c50-4f10-8495-de57c6cccdaf\" xlink:actuate=\"onRequest\" xlink:href=\"psysml:408c218d-2c50-4f10-8495-de57c6cccdaf\" xlink:show=\"new\" xlink:title=\"psysml:408c218d-2c50-4f10-8495-de57c6cccdaf\" xlink:type=\"simple\"><path d=\"M155,304.32 C155,320.28 155,336.46 155,348.89 \" fill=\"none\" id=\"E3&lt;-E4\" style=\"stroke: #383838; stroke-width: 1.0; stroke-dasharray: 7.0,7.0;\"/><ellipse cx=\"155\" cy=\"297.21\" fill=\"#FFFFFF\" rx=\"8\" ry=\"8\" style=\"stroke: #383838; stroke-width: 1.0;\"/><line style=\"stroke: #383838; stroke-width: 1.0;\" x1=\"155\" x2=\"155\" y1=\"305.21\" y2=\"289.21\"/><line style=\"stroke: #383838; stroke-width: 1.0;\" x1=\"147\" x2=\"163\" y1=\"297.21\" y2=\"297.21\"/><text fill=\"#000000\" font-family=\"sans-serif\" font-size=\"13\" lengthAdjust=\"spacingAndGlyphs\" textLength=\"8\" x=\"145.925\" y=\"337.7567\">1</text></a><!--MD5=[e9be52314489bd878ff4c7144b63c9e1]\n",
       "link E5 to E3--><a href=\"psysml:39d7aa17-d9aa-4290-8253-e0b073366074\" target=\"_top\" title=\"psysml:39d7aa17-d9aa-4290-8253-e0b073366074\" xlink:actuate=\"onRequest\" xlink:href=\"psysml:39d7aa17-d9aa-4290-8253-e0b073366074\" xlink:show=\"new\" xlink:title=\"psysml:39d7aa17-d9aa-4290-8253-e0b073366074\" xlink:type=\"simple\"><path d=\"M160.73,132.15 C160.04,145.3 159.26,160.08 158.51,174.4 \" fill=\"none\" id=\"E5-&gt;E3\" style=\"stroke: #383838; stroke-width: 1.0;\"/><polygon fill=\"#FFFFFF\" points=\"157.43,194.82,151.4303,175.4808,165.4113,176.2109,157.43,194.82\" style=\"stroke: #383838; stroke-width: 1.0;\"/><ellipse cx=\"153.7248\" cy=\"169.8929\" fill=\"#383838\" rx=\"2\" ry=\"2\" style=\"stroke: #383838; stroke-width: 1.0;\"/><ellipse cx=\"163.7112\" cy=\"170.4143\" fill=\"#383838\" rx=\"2\" ry=\"2\" style=\"stroke: #383838; stroke-width: 1.0;\"/></a><!--MD5=[a717450b82c80b9240a525fa862496af]\n",
       "link E6 to E3--><a href=\"psysml:6afc3f94-967f-4ac8-9c89-c7c9ad6aa496\" target=\"_top\" title=\"psysml:6afc3f94-967f-4ac8-9c89-c7c9ad6aa496\" xlink:actuate=\"onRequest\" xlink:href=\"psysml:6afc3f94-967f-4ac8-9c89-c7c9ad6aa496\" xlink:show=\"new\" xlink:title=\"psysml:6afc3f94-967f-4ac8-9c89-c7c9ad6aa496\" xlink:type=\"simple\"><path d=\"M82.24,128.14 C92.05,143.37 103.55,161.2 114.47,178.13 \" fill=\"none\" id=\"E6-&gt;E3\" style=\"stroke: #383838; stroke-width: 1.0;\"/><polygon fill=\"#FFFFFF\" points=\"125.32,194.97,109.1474,182.7861,120.9177,175.2059,125.32,194.97\" style=\"stroke: #383838; stroke-width: 1.0;\"/><ellipse cx=\"107.7427\" cy=\"176.911\" fill=\"#383838\" rx=\"2\" ry=\"2\" style=\"stroke: #383838; stroke-width: 1.0;\"/><ellipse cx=\"116.15\" cy=\"171.4966\" fill=\"#383838\" rx=\"2\" ry=\"2\" style=\"stroke: #383838; stroke-width: 1.0;\"/></a><!--MD5=[3f50a3473f1dfb74d3f76443e03635af]\n",
       "reverse link E6 to E7--><a href=\"psysml:af85dbb9-a19a-4dbd-bd41-700a2e1e88fd\" target=\"_top\" title=\"psysml:af85dbb9-a19a-4dbd-bd41-700a2e1e88fd\" xlink:actuate=\"onRequest\" xlink:href=\"psysml:af85dbb9-a19a-4dbd-bd41-700a2e1e88fd\" xlink:show=\"new\" xlink:title=\"psysml:af85dbb9-a19a-4dbd-bd41-700a2e1e88fd\" xlink:type=\"simple\"><path d=\"M57,150.16 C57,174.43 57,200.81 57,218.85 \" fill=\"none\" id=\"E6&lt;-E7\" style=\"stroke: #383838; stroke-width: 1.0; stroke-dasharray: 7.0,7.0;\"/><ellipse cx=\"57\" cy=\"143.02\" fill=\"#FFFFFF\" rx=\"8\" ry=\"8\" style=\"stroke: #383838; stroke-width: 1.0;\"/><line style=\"stroke: #383838; stroke-width: 1.0;\" x1=\"57\" x2=\"57\" y1=\"151.02\" y2=\"135.02\"/><line style=\"stroke: #383838; stroke-width: 1.0;\" x1=\"49\" x2=\"65\" y1=\"143.02\" y2=\"143.02\"/><text fill=\"#000000\" font-family=\"sans-serif\" font-size=\"13\" lengthAdjust=\"spacingAndGlyphs\" textLength=\"8\" x=\"47.975\" y=\"208.0879\">1</text></a><!--MD5=[4a7f136ca0012a0088636e562e24854f]\n",
       "@startuml\r\n",
       " skinparam monochrome true\r\n",
       "skinparam classbackgroundcolor white\r\n",
       "skinparam shadowing false\r\n",
       "skinparam wrapWidth 300\r\n",
       "hide circle\r\n",
       "\r\n",
       "package \"AliasTest\" as E1  [[psysml:dccc75fb-db16-4804-85cb-688c27ce5ff3 ]]  {\r\n",
       "comp usage \"q :> Quantities::tensorQuantities\" as E2  <<(T,blue) attribute>> [[psysml:ce72622b-28d6-4d09-bee8-b5dd20a40a54 ]] {\r\n",
       "}\r\n",
       "comp def \"P1\" as E3  <<(T,blue) part  def>> [[psysml:61eb2658-da6c-419b-a94e-058b00326cab ]] {\r\n",
       "- - ports - -\r\n",
       "porig1\r\n",
       "|_ \r\n",
       "}\r\n",
       "comp usage \"porig1\" as E4  <<(T,blue) port>> [[psysml:9ae2babd-6d67-4765-bfe5-8d775f3bcf42 ]] {\r\n",
       "}\r\n",
       "comp usage \"p1: P1 \" as E5  <<(T,blue) part>> [[psysml:11b2a6df-aab5-4dc5-a120-8a7b1f52b05c ]] {\r\n",
       "- - ports - -\r\n",
       "po1\\n//:>>P1::porig1// \r\n",
       "}\r\n",
       "comp usage \"p2: P1 \" as E6  <<(T,blue) part>> [[psysml:2c2598c5-3ef5-4f1d-ae32-f3d429fa4c2f ]] {\r\n",
       "- - ports - -\r\n",
       "pdest\r\n",
       "|_ \r\n",
       "}\r\n",
       "comp usage \"pdest\" as E7  <<(T,blue) port>> [[psysml:10820d16-405d-40a2-9551-06e34552661e ]] {\r\n",
       "}\r\n",
       "}\r\n",
       "E3 +.. \"1\"E4 [[psysml:408c218d-2c50-4f10-8495-de57c6cccdaf ]] \r\n",
       "E5 - -:|> E3 [[psysml:39d7aa17-d9aa-4290-8253-e0b073366074 ]] \r\n",
       "E6 - -:|> E3 [[psysml:6afc3f94-967f-4ac8-9c89-c7c9ad6aa496 ]] \r\n",
       "E6 +.. \"1\"E7 [[psysml:af85dbb9-a19a-4dbd-bd41-700a2e1e88fd ]] \r\n",
       "@enduml\r\n",
       "\n",
       "PlantUML version 1.2020.13(Sat Jun 13 12:26:38 UTC 2020)\n",
       "(EPL source distribution)\n",
       "Java Runtime: OpenJDK Runtime Environment\n",
       "JVM: OpenJDK 64-Bit Server VM\n",
       "Default Encoding: UTF-8\n",
       "Language: en\n",
       "Country: null\n",
       "--></g></svg>"
      ]
     },
     "execution_count": 8,
     "metadata": {},
     "output_type": "execute_result"
    }
   ],
   "source": [
    "%viz --style=\"COMPTREE\" --view=\"MIXED\" \"AliasTest\""
   ]
  },
  {
   "cell_type": "code",
   "execution_count": 9,
   "id": "7ca720ca",
   "metadata": {
    "execution": {
     "iopub.execute_input": "2021-10-25T08:23:52.423421Z",
     "iopub.status.busy": "2021-10-25T08:23:52.422951Z",
     "iopub.status.idle": "2021-10-25T08:23:52.472322Z",
     "shell.execute_reply": "2021-10-25T08:23:52.470375Z"
    }
   },
   "outputs": [
    {
     "data": {
      "image/svg+xml": [
       "<?xml version=\"1.0\" encoding=\"UTF-8\" standalone=\"no\"?><svg xmlns=\"http://www.w3.org/2000/svg\" xmlns:xlink=\"http://www.w3.org/1999/xlink\" contentScriptType=\"application/ecmascript\" contentStyleType=\"text/css\" height=\"327px\" preserveAspectRatio=\"none\" style=\"width:453px;height:327px;\" version=\"1.1\" viewBox=\"0 0 453 327\" width=\"453px\" zoomAndPan=\"magnify\"><defs/><g><!--MD5=[fbc87193dbaf4d95561dea2c320d4a47]\n",
       "cluster E1--><a href=\"psysml:dccc75fb-db16-4804-85cb-688c27ce5ff3\" target=\"_top\" title=\"psysml:dccc75fb-db16-4804-85cb-688c27ce5ff3\" xlink:actuate=\"onRequest\" xlink:href=\"psysml:dccc75fb-db16-4804-85cb-688c27ce5ff3\" xlink:show=\"new\" xlink:title=\"psysml:dccc75fb-db16-4804-85cb-688c27ce5ff3\" xlink:type=\"simple\"><polygon fill=\"#FFFFFF\" points=\"16,6,84,6,91,28.2969,431,28.2969,431,315,16,315,16,6\" style=\"stroke: #000000; stroke-width: 1.5;\"/><line style=\"stroke: #000000; stroke-width: 1.5;\" x1=\"16\" x2=\"91\" y1=\"28.2969\" y2=\"28.2969\"/><text fill=\"#000000\" font-family=\"sans-serif\" font-size=\"14\" font-weight=\"bold\" lengthAdjust=\"spacingAndGlyphs\" textLength=\"62\" x=\"20\" y=\"20.9951\">AliasTest</text></a><!--MD5=[b4997ac47864f28c2f74865a473b2911]\n",
       "class E2--><a href=\"psysml:ce72622b-28d6-4d09-bee8-b5dd20a40a54\" target=\"_top\" title=\"psysml:ce72622b-28d6-4d09-bee8-b5dd20a40a54\" xlink:actuate=\"onRequest\" xlink:href=\"psysml:ce72622b-28d6-4d09-bee8-b5dd20a40a54\" xlink:show=\"new\" xlink:title=\"psysml:ce72622b-28d6-4d09-bee8-b5dd20a40a54\" xlink:type=\"simple\"><rect fill=\"#FFFFFF\" height=\"45.9375\" id=\"E2\" rx=\"10\" ry=\"10\" style=\"stroke: #383838; stroke-width: 1.5;\" width=\"213\" x=\"202.5\" y=\"41\"/><text fill=\"#000000\" font-family=\"sans-serif\" font-size=\"12\" font-style=\"italic\" lengthAdjust=\"spacingAndGlyphs\" textLength=\"69\" x=\"274.5\" y=\"57.1387\">«attribute»</text><text fill=\"#000000\" font-family=\"sans-serif\" font-size=\"12\" lengthAdjust=\"spacingAndGlyphs\" textLength=\"207\" x=\"205.5\" y=\"71.1074\">q :&gt; Quantities::tensorQuantities</text><line style=\"stroke: #383838; stroke-width: 1.5;\" x1=\"203.5\" x2=\"414.5\" y1=\"78.9375\" y2=\"78.9375\"/></a><!--MD5=[09b614a08d8cba4a07c9adeb5e0fee81]\n",
       "class E3--><a href=\"psysml:61eb2658-da6c-419b-a94e-058b00326cab\" target=\"_top\" title=\"psysml:61eb2658-da6c-419b-a94e-058b00326cab\" xlink:actuate=\"onRequest\" xlink:href=\"psysml:61eb2658-da6c-419b-a94e-058b00326cab\" xlink:show=\"new\" xlink:title=\"psysml:61eb2658-da6c-419b-a94e-058b00326cab\" xlink:type=\"simple\"><rect fill=\"#FFFFFF\" height=\"45.9375\" id=\"E3\" style=\"stroke: #383838; stroke-width: 1.5;\" width=\"70\" x=\"170\" y=\"147\"/><text fill=\"#000000\" font-family=\"sans-serif\" font-size=\"12\" font-style=\"italic\" lengthAdjust=\"spacingAndGlyphs\" textLength=\"68\" x=\"171\" y=\"163.1387\">«part  def»</text><text fill=\"#000000\" font-family=\"sans-serif\" font-size=\"12\" lengthAdjust=\"spacingAndGlyphs\" textLength=\"16\" x=\"197\" y=\"177.1074\">P1</text><line style=\"stroke: #383838; stroke-width: 1.5;\" x1=\"171\" x2=\"239\" y1=\"184.9375\" y2=\"184.9375\"/></a><!--MD5=[ebbe1d658d1005bcc118a6aa81145e00]\n",
       "class E4--><a href=\"psysml:9ae2babd-6d67-4765-bfe5-8d775f3bcf42\" target=\"_top\" title=\"psysml:9ae2babd-6d67-4765-bfe5-8d775f3bcf42\" xlink:actuate=\"onRequest\" xlink:href=\"psysml:9ae2babd-6d67-4765-bfe5-8d775f3bcf42\" xlink:show=\"new\" xlink:title=\"psysml:9ae2babd-6d67-4765-bfe5-8d775f3bcf42\" xlink:type=\"simple\"><rect fill=\"#FFFFFF\" height=\"45.9375\" id=\"E4\" rx=\"10\" ry=\"10\" style=\"stroke: #383838; stroke-width: 1.5;\" width=\"46\" x=\"182\" y=\"253\"/><text fill=\"#000000\" font-family=\"sans-serif\" font-size=\"12\" font-style=\"italic\" lengthAdjust=\"spacingAndGlyphs\" textLength=\"40\" x=\"185\" y=\"269.1387\">«port»</text><text fill=\"#000000\" font-family=\"sans-serif\" font-size=\"12\" lengthAdjust=\"spacingAndGlyphs\" textLength=\"40\" x=\"185\" y=\"283.1074\">porig1</text><line style=\"stroke: #383838; stroke-width: 1.5;\" x1=\"183\" x2=\"227\" y1=\"290.9375\" y2=\"290.9375\"/></a><!--MD5=[270fce915f116d4de14055a7c1d9a0f3]\n",
       "class E5--><a href=\"psysml:11b2a6df-aab5-4dc5-a120-8a7b1f52b05c\" target=\"_top\" title=\"psysml:11b2a6df-aab5-4dc5-a120-8a7b1f52b05c\" xlink:actuate=\"onRequest\" xlink:href=\"psysml:11b2a6df-aab5-4dc5-a120-8a7b1f52b05c\" xlink:show=\"new\" xlink:title=\"psysml:11b2a6df-aab5-4dc5-a120-8a7b1f52b05c\" xlink:type=\"simple\"><rect fill=\"#FFFFFF\" height=\"45.9375\" id=\"E5\" rx=\"10\" ry=\"10\" style=\"stroke: #383838; stroke-width: 1.5;\" width=\"50\" x=\"117\" y=\"41\"/><text fill=\"#000000\" font-family=\"sans-serif\" font-size=\"12\" font-style=\"italic\" lengthAdjust=\"spacingAndGlyphs\" textLength=\"40\" x=\"122\" y=\"57.1387\">«part»</text><text fill=\"#000000\" font-family=\"sans-serif\" font-size=\"12\" lengthAdjust=\"spacingAndGlyphs\" textLength=\"40\" x=\"120\" y=\"71.1074\">p1: P1</text><line style=\"stroke: #383838; stroke-width: 1.5;\" x1=\"118\" x2=\"166\" y1=\"78.9375\" y2=\"78.9375\"/></a><!--MD5=[60a26617385b1d2d0262a64233df1f8d]\n",
       "class E6--><a href=\"psysml:a231442e-2600-41cf-892c-df88027eb505\" target=\"_top\" title=\"psysml:a231442e-2600-41cf-892c-df88027eb505\" xlink:actuate=\"onRequest\" xlink:href=\"psysml:a231442e-2600-41cf-892c-df88027eb505\" xlink:show=\"new\" xlink:title=\"psysml:a231442e-2600-41cf-892c-df88027eb505\" xlink:type=\"simple\"><rect fill=\"#FFFFFF\" height=\"45.9375\" id=\"E6\" rx=\"10\" ry=\"10\" style=\"stroke: #383838; stroke-width: 1.5;\" width=\"42\" x=\"93\" y=\"147\"/><text fill=\"#000000\" font-family=\"sans-serif\" font-size=\"12\" font-style=\"italic\" lengthAdjust=\"spacingAndGlyphs\" textLength=\"40\" x=\"94\" y=\"163.1387\">«port»</text><text fill=\"#000000\" font-family=\"sans-serif\" font-size=\"12\" lengthAdjust=\"spacingAndGlyphs\" textLength=\"24\" x=\"102\" y=\"177.1074\">po1</text><line style=\"stroke: #383838; stroke-width: 1.5;\" x1=\"94\" x2=\"134\" y1=\"184.9375\" y2=\"184.9375\"/></a><!--MD5=[2156ba9850f5573cc1fc38a6a4b2f02b]\n",
       "class E7--><a href=\"psysml:2c2598c5-3ef5-4f1d-ae32-f3d429fa4c2f\" target=\"_top\" title=\"psysml:2c2598c5-3ef5-4f1d-ae32-f3d429fa4c2f\" xlink:actuate=\"onRequest\" xlink:href=\"psysml:2c2598c5-3ef5-4f1d-ae32-f3d429fa4c2f\" xlink:show=\"new\" xlink:title=\"psysml:2c2598c5-3ef5-4f1d-ae32-f3d429fa4c2f\" xlink:type=\"simple\"><rect fill=\"#FFFFFF\" height=\"45.9375\" id=\"E7\" rx=\"10\" ry=\"10\" style=\"stroke: #383838; stroke-width: 1.5;\" width=\"50\" x=\"32\" y=\"41\"/><text fill=\"#000000\" font-family=\"sans-serif\" font-size=\"12\" font-style=\"italic\" lengthAdjust=\"spacingAndGlyphs\" textLength=\"40\" x=\"37\" y=\"57.1387\">«part»</text><text fill=\"#000000\" font-family=\"sans-serif\" font-size=\"12\" lengthAdjust=\"spacingAndGlyphs\" textLength=\"40\" x=\"35\" y=\"71.1074\">p2: P1</text><line style=\"stroke: #383838; stroke-width: 1.5;\" x1=\"33\" x2=\"81\" y1=\"78.9375\" y2=\"78.9375\"/></a><!--MD5=[b9389687b975829384b498ac4b7476b2]\n",
       "class E8--><a href=\"psysml:10820d16-405d-40a2-9551-06e34552661e\" target=\"_top\" title=\"psysml:10820d16-405d-40a2-9551-06e34552661e\" xlink:actuate=\"onRequest\" xlink:href=\"psysml:10820d16-405d-40a2-9551-06e34552661e\" xlink:show=\"new\" xlink:title=\"psysml:10820d16-405d-40a2-9551-06e34552661e\" xlink:type=\"simple\"><rect fill=\"#FFFFFF\" height=\"45.9375\" id=\"E8\" rx=\"10\" ry=\"10\" style=\"stroke: #383838; stroke-width: 1.5;\" width=\"42\" x=\"65\" y=\"253\"/><text fill=\"#000000\" font-family=\"sans-serif\" font-size=\"12\" font-style=\"italic\" lengthAdjust=\"spacingAndGlyphs\" textLength=\"40\" x=\"66\" y=\"269.1387\">«port»</text><text fill=\"#000000\" font-family=\"sans-serif\" font-size=\"12\" lengthAdjust=\"spacingAndGlyphs\" textLength=\"36\" x=\"68\" y=\"283.1074\">pdest</text><line style=\"stroke: #383838; stroke-width: 1.5;\" x1=\"66\" x2=\"106\" y1=\"290.9375\" y2=\"290.9375\"/></a><!--MD5=[4672eba38e49728da53d11aeb285b987]\n",
       "reverse link E3 to E4--><a href=\"psysml:8e3ccc77-0a8c-4c0b-a5d7-07a6acaf5014\" target=\"_top\" title=\"psysml:8e3ccc77-0a8c-4c0b-a5d7-07a6acaf5014\" xlink:actuate=\"onRequest\" xlink:href=\"psysml:8e3ccc77-0a8c-4c0b-a5d7-07a6acaf5014\" xlink:show=\"new\" xlink:title=\"psysml:8e3ccc77-0a8c-4c0b-a5d7-07a6acaf5014\" xlink:type=\"simple\"><path d=\"M192.84,206.44 C191.7,221.87 192.21,239.47 194.36,252.98 \" fill=\"none\" id=\"E3&lt;-E4\" style=\"stroke: #383838; stroke-width: 1.0;\"/><polygon fill=\"#FFFFFF\" points=\"194.35,193.06,189.7032,198.5743,193.006,204.9845,197.6528,199.4702,194.35,193.06\" style=\"stroke: #383838; stroke-width: 1.0;\"/><text fill=\"#000000\" font-family=\"sans-serif\" font-size=\"13\" lengthAdjust=\"spacingAndGlyphs\" textLength=\"8\" x=\"182.4255\" y=\"241.8709\">1</text></a><!--MD5=[4672eba38e49728da53d11aeb285b987]\n",
       "reverse link E3 to E4--><a href=\"psysml:408c218d-2c50-4f10-8495-de57c6cccdaf\" target=\"_top\" title=\"psysml:408c218d-2c50-4f10-8495-de57c6cccdaf\" xlink:actuate=\"onRequest\" xlink:href=\"psysml:408c218d-2c50-4f10-8495-de57c6cccdaf\" xlink:show=\"new\" xlink:title=\"psysml:408c218d-2c50-4f10-8495-de57c6cccdaf\" xlink:type=\"simple\"><path d=\"M218.01,208.34 C219.03,223.3 218.45,240.02 216.27,252.98 \" fill=\"none\" id=\"E3&lt;-E4-1\" style=\"stroke: #383838; stroke-width: 1.0; stroke-dasharray: 7.0,7.0;\"/><ellipse cx=\"217.1693\" cy=\"201.0093\" fill=\"#FFFFFF\" rx=\"8\" ry=\"8\" style=\"stroke: #383838; stroke-width: 1.0;\"/><line style=\"stroke: #383838; stroke-width: 1.0;\" x1=\"218.0687\" x2=\"216.27\" y1=\"208.9586\" y2=\"193.06\"/><line style=\"stroke: #383838; stroke-width: 1.0;\" x1=\"209.2201\" x2=\"225.1186\" y1=\"201.9086\" y2=\"200.1099\"/><text fill=\"#000000\" font-family=\"sans-serif\" font-size=\"13\" lengthAdjust=\"spacingAndGlyphs\" textLength=\"8\" x=\"210.2238\" y=\"241.8709\">1</text></a><!--MD5=[e9be52314489bd878ff4c7144b63c9e1]\n",
       "link E5 to E3--><a href=\"psysml:39d7aa17-d9aa-4290-8253-e0b073366074\" target=\"_top\" title=\"psysml:39d7aa17-d9aa-4290-8253-e0b073366074\" xlink:actuate=\"onRequest\" xlink:href=\"psysml:39d7aa17-d9aa-4290-8253-e0b073366074\" xlink:show=\"new\" xlink:title=\"psysml:39d7aa17-d9aa-4290-8253-e0b073366074\" xlink:type=\"simple\"><path d=\"M155.36,87.06 C162.88,99.47 172.49,115.33 181.24,129.78 \" fill=\"none\" id=\"E5-&gt;E3\" style=\"stroke: #383838; stroke-width: 1.0;\"/><polygon fill=\"#FFFFFF\" points=\"191.66,146.98,175.8217,134.3646,187.792,127.1044,191.66,146.98\" style=\"stroke: #383838; stroke-width: 1.0;\"/><ellipse cx=\"174.5758\" cy=\"128.4538\" fill=\"#383838\" rx=\"2\" ry=\"2\" style=\"stroke: #383838; stroke-width: 1.0;\"/><ellipse cx=\"183.126\" cy=\"123.2679\" fill=\"#383838\" rx=\"2\" ry=\"2\" style=\"stroke: #383838; stroke-width: 1.0;\"/></a><!--MD5=[85d356282659285ab4b2cfe2f634dd2b]\n",
       "reverse link E5 to E6--><a href=\"psysml:0602bff9-807d-4c23-b932-30af011e0640\" target=\"_top\" title=\"psysml:0602bff9-807d-4c23-b932-30af011e0640\" xlink:actuate=\"onRequest\" xlink:href=\"psysml:0602bff9-807d-4c23-b932-30af011e0640\" xlink:show=\"new\" xlink:title=\"psysml:0602bff9-807d-4c23-b932-30af011e0640\" xlink:type=\"simple\"><path d=\"M132.59,99.96 C128.4,115.51 123.6,133.33 119.93,146.98 \" fill=\"none\" id=\"E5&lt;-E6\" style=\"stroke: #383838; stroke-width: 1.0;\"/><polygon fill=\"#FFFFFF\" points=\"136.06,87.06,130.641,91.8176,132.9484,98.6496,138.3674,93.892,136.06,87.06\" style=\"stroke: #383838; stroke-width: 1.0;\"/><text fill=\"#000000\" font-family=\"sans-serif\" font-size=\"13\" lengthAdjust=\"spacingAndGlyphs\" textLength=\"8\" x=\"112.4487\" y=\"135.8709\">1</text></a><!--MD5=[f667431f98296947986a1a7595a31603]\n",
       "link E6 to E4--><a href=\"psysml:5ed5dee3-04af-484b-a73a-bf3d62fb0484\" target=\"_top\" title=\"psysml:5ed5dee3-04af-484b-a73a-bf3d62fb0484\" xlink:actuate=\"onRequest\" xlink:href=\"psysml:5ed5dee3-04af-484b-a73a-bf3d62fb0484\" xlink:show=\"new\" xlink:title=\"psysml:5ed5dee3-04af-484b-a73a-bf3d62fb0484\" xlink:type=\"simple\"><path d=\"M133.3,193.06 C144.64,206.02 159.28,222.74 172.36,237.7 \" fill=\"none\" id=\"E6-&gt;E4\" style=\"stroke: #383838; stroke-width: 1.0;\"/><polygon fill=\"#FFFFFF\" points=\"185.73,252.98,167.9517,243.2882,178.489,234.0705,185.73,252.98\" style=\"stroke: #383838; stroke-width: 1.0;\"/><line style=\"stroke: #383838; stroke-width: 2.0;\" x1=\"165.4497\" x2=\"175.9871\" y1=\"240.4281\" y2=\"231.2104\"/></a><!--MD5=[14ccda38c055a5c0da953d572bc50960]\n",
       "link E7 to E3--><a href=\"psysml:6afc3f94-967f-4ac8-9c89-c7c9ad6aa496\" target=\"_top\" title=\"psysml:6afc3f94-967f-4ac8-9c89-c7c9ad6aa496\" xlink:actuate=\"onRequest\" xlink:href=\"psysml:6afc3f94-967f-4ac8-9c89-c7c9ad6aa496\" xlink:show=\"new\" xlink:title=\"psysml:6afc3f94-967f-4ac8-9c89-c7c9ad6aa496\" xlink:type=\"simple\"><path d=\"M82.11,82.64 C102.61,97.05 132.18,117.83 157.18,135.39 \" fill=\"none\" id=\"E7-&gt;E3\" style=\"stroke: #383838; stroke-width: 1.0;\"/><polygon fill=\"#FFFFFF\" points=\"173.58,146.92,154.011,141.7187,162.0629,130.266,173.58,146.92\" style=\"stroke: #383838; stroke-width: 1.0;\"/><ellipse cx=\"150.4983\" cy=\"136.8043\" fill=\"#383838\" rx=\"2\" ry=\"2\" style=\"stroke: #383838; stroke-width: 1.0;\"/><ellipse cx=\"156.2497\" cy=\"128.6238\" fill=\"#383838\" rx=\"2\" ry=\"2\" style=\"stroke: #383838; stroke-width: 1.0;\"/></a><!--MD5=[dc164f5e8a733ab456ef1add180e9e34]\n",
       "reverse link E7 to E8--><a href=\"psysml:9a63abc5-83ea-4d36-8ec2-a9e5009e1a31\" target=\"_top\" title=\"psysml:9a63abc5-83ea-4d36-8ec2-a9e5009e1a31\" xlink:actuate=\"onRequest\" xlink:href=\"psysml:9a63abc5-83ea-4d36-8ec2-a9e5009e1a31\" xlink:show=\"new\" xlink:title=\"psysml:9a63abc5-83ea-4d36-8ec2-a9e5009e1a31\" xlink:type=\"simple\"><path d=\"M52.05,100.09 C53.65,143.61 64.25,216.5 74.75,252.9 \" fill=\"none\" id=\"E7&lt;-E8\" style=\"stroke: #383838; stroke-width: 1.0;\"/><polygon fill=\"#FFFFFF\" points=\"51.85,87.08,47.9362,93.1366,52.0216,99.0788,55.9354,93.0222,51.85,87.08\" style=\"stroke: #383838; stroke-width: 1.0;\"/><text fill=\"#000000\" font-family=\"sans-serif\" font-size=\"13\" lengthAdjust=\"spacingAndGlyphs\" textLength=\"8\" x=\"62.6516\" y=\"241.7694\">1</text></a><!--MD5=[dc164f5e8a733ab456ef1add180e9e34]\n",
       "reverse link E7 to E8--><a href=\"psysml:af85dbb9-a19a-4dbd-bd41-700a2e1e88fd\" target=\"_top\" title=\"psysml:af85dbb9-a19a-4dbd-bd41-700a2e1e88fd\" xlink:actuate=\"onRequest\" xlink:href=\"psysml:af85dbb9-a19a-4dbd-bd41-700a2e1e88fd\" xlink:show=\"new\" xlink:title=\"psysml:af85dbb9-a19a-4dbd-bd41-700a2e1e88fd\" xlink:type=\"simple\"><path d=\"M72.64,101.8 C83.15,145.5 92.39,216.97 91.63,252.9 \" fill=\"none\" id=\"E7&lt;-E8-1\" style=\"stroke: #383838; stroke-width: 1.0; stroke-dasharray: 7.0,7.0;\"/><ellipse cx=\"70.7794\" cy=\"94.813\" fill=\"#FFFFFF\" rx=\"8\" ry=\"8\" style=\"stroke: #383838; stroke-width: 1.0;\"/><line style=\"stroke: #383838; stroke-width: 1.0;\" x1=\"72.8289\" x2=\"68.73\" y1=\"102.5461\" y2=\"87.08\"/><line style=\"stroke: #383838; stroke-width: 1.0;\" x1=\"63.0464\" x2=\"78.5125\" y1=\"96.8625\" y2=\"92.7636\"/><text fill=\"#000000\" font-family=\"sans-serif\" font-size=\"13\" lengthAdjust=\"spacingAndGlyphs\" textLength=\"8\" x=\"94.2181\" y=\"241.7694\">1</text></a><!--MD5=[0a839d0f80c2d72d4b9b307f046d0de8]\n",
       "link E6 to E8--><a href=\"psysml:ee24455c-c65b-41eb-8958-74c54e28cd84\" target=\"_top\" title=\"psysml:ee24455c-c65b-41eb-8958-74c54e28cd84\" xlink:actuate=\"onRequest\" xlink:href=\"psysml:ee24455c-c65b-41eb-8958-74c54e28cd84\" xlink:show=\"new\" xlink:title=\"psysml:ee24455c-c65b-41eb-8958-74c54e28cd84\" xlink:type=\"simple\"><path d=\"M97.42,193.06 C89.86,210.7 83.23,235.34 81.29,252.98 \" fill=\"none\" id=\"E6-E8\" style=\"stroke: #383838; stroke-width: 3.0;\"/><text fill=\"#000000\" font-family=\"sans-serif\" font-size=\"13\" lengthAdjust=\"spacingAndGlyphs\" textLength=\"7\" x=\"80.9648\" y=\"241.8709\">*</text></a><!--MD5=[0a839d0f80c2d72d4b9b307f046d0de8]\n",
       "link E6 to E8--><a href=\"psysml:1d0a5b52-6a4c-4cbe-b03e-99be5638e392\" target=\"_top\" title=\"psysml:1d0a5b52-6a4c-4cbe-b03e-99be5638e392\" xlink:actuate=\"onRequest\" xlink:href=\"psysml:1d0a5b52-6a4c-4cbe-b03e-99be5638e392\" xlink:show=\"new\" xlink:title=\"psysml:1d0a5b52-6a4c-4cbe-b03e-99be5638e392\" xlink:type=\"simple\"><path d=\"M119.33,193.06 C117.55,210.7 110.92,235.34 103.2,252.98 \" fill=\"none\" id=\"E6-E8-1\" style=\"stroke: #383838; stroke-width: 3.0;\"/><text fill=\"#000000\" font-family=\"sans-serif\" font-size=\"13\" lengthAdjust=\"spacingAndGlyphs\" textLength=\"7\" x=\"99.8819\" y=\"241.8709\">*</text></a><!--MD5=[8de1bcd09ac5da868751f654df2b9711]\n",
       "@startuml\r\n",
       "skinparam linetype polyline\r\n",
       "skinparam monochrome true\r\n",
       "skinparam classbackgroundcolor white\r\n",
       "skinparam shadowing false\r\n",
       "skinparam wrapWidth 300\r\n",
       "hide circle\r\n",
       "\r\n",
       "package \"AliasTest\" as E1  [[psysml:dccc75fb-db16-4804-85cb-688c27ce5ff3 ]]  {\r\n",
       "comp usage \"q :> Quantities::tensorQuantities\" as E2  <<(T,blue) attribute>> [[psysml:ce72622b-28d6-4d09-bee8-b5dd20a40a54 ]] {\r\n",
       "}\r\n",
       "comp def \"P1\" as E3  <<(T,blue) part  def>> [[psysml:61eb2658-da6c-419b-a94e-058b00326cab ]] {\r\n",
       "}\r\n",
       "comp usage \"porig1\" as E4  <<(T,blue) port>> [[psysml:9ae2babd-6d67-4765-bfe5-8d775f3bcf42 ]] {\r\n",
       "}\r\n",
       "comp usage \"p1: P1 \" as E5  <<(T,blue) part>> [[psysml:11b2a6df-aab5-4dc5-a120-8a7b1f52b05c ]] {\r\n",
       "}\r\n",
       "comp usage \"po1\" as E6  <<(T,blue) port>> [[psysml:a231442e-2600-41cf-892c-df88027eb505 ]] {\r\n",
       "}\r\n",
       "comp usage \"p2: P1 \" as E7  <<(T,blue) part>> [[psysml:2c2598c5-3ef5-4f1d-ae32-f3d429fa4c2f ]] {\r\n",
       "}\r\n",
       "comp usage \"pdest\" as E8  <<(T,blue) port>> [[psysml:10820d16-405d-40a2-9551-06e34552661e ]] {\r\n",
       "}\r\n",
       "}\r\n",
       "E3 o- - \"1\"E4 [[psysml:8e3ccc77-0a8c-4c0b-a5d7-07a6acaf5014 ]] \r\n",
       "E3 +.. \"1\"E4 [[psysml:408c218d-2c50-4f10-8495-de57c6cccdaf ]] \r\n",
       "E5 - -:|> E3 [[psysml:39d7aa17-d9aa-4290-8253-e0b073366074 ]] \r\n",
       "E5 o- - \"1\"E6 [[psysml:0602bff9-807d-4c23-b932-30af011e0640 ]] \r\n",
       "E6 - -||> E4 [[psysml:5ed5dee3-04af-484b-a73a-bf3d62fb0484 ]] \r\n",
       "E7 - -:|> E3 [[psysml:6afc3f94-967f-4ac8-9c89-c7c9ad6aa496 ]] \r\n",
       "E7 o- - \"1\"E8 [[psysml:9a63abc5-83ea-4d36-8ec2-a9e5009e1a31 ]] \r\n",
       "E7 +.. \"1\"E8 [[psysml:af85dbb9-a19a-4dbd-bd41-700a2e1e88fd ]] \r\n",
       "E6 -[thickness=3]- \"*\"E8 [[psysml:ee24455c-c65b-41eb-8958-74c54e28cd84 ]] \r\n",
       "E6 -[thickness=3]- \"*\"E8 [[psysml:1d0a5b52-6a4c-4cbe-b03e-99be5638e392 ]] \r\n",
       "@enduml\r\n",
       "\n",
       "PlantUML version 1.2020.13(Sat Jun 13 12:26:38 UTC 2020)\n",
       "(EPL source distribution)\n",
       "Java Runtime: OpenJDK Runtime Environment\n",
       "JVM: OpenJDK 64-Bit Server VM\n",
       "Default Encoding: UTF-8\n",
       "Language: en\n",
       "Country: null\n",
       "--></g></svg>"
      ]
     },
     "execution_count": 9,
     "metadata": {},
     "output_type": "execute_result"
    }
   ],
   "source": [
    "%viz --style=\"POLYLINE\" --view=\"Default\" \"AliasTest\""
   ]
  },
  {
   "cell_type": "code",
   "execution_count": 10,
   "id": "d23aa2f6",
   "metadata": {
    "execution": {
     "iopub.execute_input": "2021-10-25T08:23:52.521660Z",
     "iopub.status.busy": "2021-10-25T08:23:52.521197Z",
     "iopub.status.idle": "2021-10-25T08:23:52.574414Z",
     "shell.execute_reply": "2021-10-25T08:23:52.574032Z"
    }
   },
   "outputs": [
    {
     "data": {
      "image/svg+xml": [
       "<?xml version=\"1.0\" encoding=\"UTF-8\" standalone=\"no\"?><svg xmlns=\"http://www.w3.org/2000/svg\" xmlns:xlink=\"http://www.w3.org/1999/xlink\" contentScriptType=\"application/ecmascript\" contentStyleType=\"text/css\" height=\"327px\" preserveAspectRatio=\"none\" style=\"width:453px;height:327px;\" version=\"1.1\" viewBox=\"0 0 453 327\" width=\"453px\" zoomAndPan=\"magnify\"><defs/><g><!--MD5=[fbc87193dbaf4d95561dea2c320d4a47]\n",
       "cluster E1--><a href=\"psysml:dccc75fb-db16-4804-85cb-688c27ce5ff3\" target=\"_top\" title=\"psysml:dccc75fb-db16-4804-85cb-688c27ce5ff3\" xlink:actuate=\"onRequest\" xlink:href=\"psysml:dccc75fb-db16-4804-85cb-688c27ce5ff3\" xlink:show=\"new\" xlink:title=\"psysml:dccc75fb-db16-4804-85cb-688c27ce5ff3\" xlink:type=\"simple\"><polygon fill=\"#FFFFFF\" points=\"16,6,84,6,91,28.2969,431,28.2969,431,315,16,315,16,6\" style=\"stroke: #000000; stroke-width: 1.5;\"/><line style=\"stroke: #000000; stroke-width: 1.5;\" x1=\"16\" x2=\"91\" y1=\"28.2969\" y2=\"28.2969\"/><text fill=\"#000000\" font-family=\"sans-serif\" font-size=\"14\" font-weight=\"bold\" lengthAdjust=\"spacingAndGlyphs\" textLength=\"62\" x=\"20\" y=\"20.9951\">AliasTest</text></a><!--MD5=[b4997ac47864f28c2f74865a473b2911]\n",
       "class E2--><a href=\"psysml:ce72622b-28d6-4d09-bee8-b5dd20a40a54\" target=\"_top\" title=\"psysml:ce72622b-28d6-4d09-bee8-b5dd20a40a54\" xlink:actuate=\"onRequest\" xlink:href=\"psysml:ce72622b-28d6-4d09-bee8-b5dd20a40a54\" xlink:show=\"new\" xlink:title=\"psysml:ce72622b-28d6-4d09-bee8-b5dd20a40a54\" xlink:type=\"simple\"><rect fill=\"#FFFFFF\" height=\"45.9375\" id=\"E2\" rx=\"10\" ry=\"10\" style=\"stroke: #383838; stroke-width: 1.5;\" width=\"213\" x=\"202.5\" y=\"41\"/><text fill=\"#000000\" font-family=\"sans-serif\" font-size=\"12\" font-style=\"italic\" lengthAdjust=\"spacingAndGlyphs\" textLength=\"69\" x=\"274.5\" y=\"57.1387\">«attribute»</text><text fill=\"#000000\" font-family=\"sans-serif\" font-size=\"12\" lengthAdjust=\"spacingAndGlyphs\" textLength=\"207\" x=\"205.5\" y=\"71.1074\">q :&gt; Quantities::tensorQuantities</text><line style=\"stroke: #383838; stroke-width: 1.5;\" x1=\"203.5\" x2=\"414.5\" y1=\"78.9375\" y2=\"78.9375\"/></a><!--MD5=[09b614a08d8cba4a07c9adeb5e0fee81]\n",
       "class E3--><a href=\"psysml:61eb2658-da6c-419b-a94e-058b00326cab\" target=\"_top\" title=\"psysml:61eb2658-da6c-419b-a94e-058b00326cab\" xlink:actuate=\"onRequest\" xlink:href=\"psysml:61eb2658-da6c-419b-a94e-058b00326cab\" xlink:show=\"new\" xlink:title=\"psysml:61eb2658-da6c-419b-a94e-058b00326cab\" xlink:type=\"simple\"><rect fill=\"#FFFFFF\" height=\"45.9375\" id=\"E3\" style=\"stroke: #383838; stroke-width: 1.5;\" width=\"70\" x=\"170\" y=\"147\"/><text fill=\"#000000\" font-family=\"sans-serif\" font-size=\"12\" font-style=\"italic\" lengthAdjust=\"spacingAndGlyphs\" textLength=\"68\" x=\"171\" y=\"163.1387\">«part  def»</text><text fill=\"#000000\" font-family=\"sans-serif\" font-size=\"12\" lengthAdjust=\"spacingAndGlyphs\" textLength=\"16\" x=\"197\" y=\"177.1074\">P1</text><line style=\"stroke: #383838; stroke-width: 1.5;\" x1=\"171\" x2=\"239\" y1=\"184.9375\" y2=\"184.9375\"/></a><!--MD5=[ebbe1d658d1005bcc118a6aa81145e00]\n",
       "class E4--><a href=\"psysml:9ae2babd-6d67-4765-bfe5-8d775f3bcf42\" target=\"_top\" title=\"psysml:9ae2babd-6d67-4765-bfe5-8d775f3bcf42\" xlink:actuate=\"onRequest\" xlink:href=\"psysml:9ae2babd-6d67-4765-bfe5-8d775f3bcf42\" xlink:show=\"new\" xlink:title=\"psysml:9ae2babd-6d67-4765-bfe5-8d775f3bcf42\" xlink:type=\"simple\"><rect fill=\"#FFFFFF\" height=\"45.9375\" id=\"E4\" rx=\"10\" ry=\"10\" style=\"stroke: #383838; stroke-width: 1.5;\" width=\"46\" x=\"182\" y=\"253\"/><text fill=\"#000000\" font-family=\"sans-serif\" font-size=\"12\" font-style=\"italic\" lengthAdjust=\"spacingAndGlyphs\" textLength=\"40\" x=\"185\" y=\"269.1387\">«port»</text><text fill=\"#000000\" font-family=\"sans-serif\" font-size=\"12\" lengthAdjust=\"spacingAndGlyphs\" textLength=\"40\" x=\"185\" y=\"283.1074\">porig1</text><line style=\"stroke: #383838; stroke-width: 1.5;\" x1=\"183\" x2=\"227\" y1=\"290.9375\" y2=\"290.9375\"/></a><!--MD5=[270fce915f116d4de14055a7c1d9a0f3]\n",
       "class E5--><a href=\"psysml:11b2a6df-aab5-4dc5-a120-8a7b1f52b05c\" target=\"_top\" title=\"psysml:11b2a6df-aab5-4dc5-a120-8a7b1f52b05c\" xlink:actuate=\"onRequest\" xlink:href=\"psysml:11b2a6df-aab5-4dc5-a120-8a7b1f52b05c\" xlink:show=\"new\" xlink:title=\"psysml:11b2a6df-aab5-4dc5-a120-8a7b1f52b05c\" xlink:type=\"simple\"><rect fill=\"#FFFFFF\" height=\"45.9375\" id=\"E5\" rx=\"10\" ry=\"10\" style=\"stroke: #383838; stroke-width: 1.5;\" width=\"50\" x=\"117\" y=\"41\"/><text fill=\"#000000\" font-family=\"sans-serif\" font-size=\"12\" font-style=\"italic\" lengthAdjust=\"spacingAndGlyphs\" textLength=\"40\" x=\"122\" y=\"57.1387\">«part»</text><text fill=\"#000000\" font-family=\"sans-serif\" font-size=\"12\" lengthAdjust=\"spacingAndGlyphs\" textLength=\"40\" x=\"120\" y=\"71.1074\">p1: P1</text><line style=\"stroke: #383838; stroke-width: 1.5;\" x1=\"118\" x2=\"166\" y1=\"78.9375\" y2=\"78.9375\"/></a><!--MD5=[60a26617385b1d2d0262a64233df1f8d]\n",
       "class E6--><a href=\"psysml:a231442e-2600-41cf-892c-df88027eb505\" target=\"_top\" title=\"psysml:a231442e-2600-41cf-892c-df88027eb505\" xlink:actuate=\"onRequest\" xlink:href=\"psysml:a231442e-2600-41cf-892c-df88027eb505\" xlink:show=\"new\" xlink:title=\"psysml:a231442e-2600-41cf-892c-df88027eb505\" xlink:type=\"simple\"><rect fill=\"#FFFFFF\" height=\"45.9375\" id=\"E6\" rx=\"10\" ry=\"10\" style=\"stroke: #383838; stroke-width: 1.5;\" width=\"42\" x=\"93\" y=\"147\"/><text fill=\"#000000\" font-family=\"sans-serif\" font-size=\"12\" font-style=\"italic\" lengthAdjust=\"spacingAndGlyphs\" textLength=\"40\" x=\"94\" y=\"163.1387\">«port»</text><text fill=\"#000000\" font-family=\"sans-serif\" font-size=\"12\" lengthAdjust=\"spacingAndGlyphs\" textLength=\"24\" x=\"102\" y=\"177.1074\">po1</text><line style=\"stroke: #383838; stroke-width: 1.5;\" x1=\"94\" x2=\"134\" y1=\"184.9375\" y2=\"184.9375\"/></a><!--MD5=[2156ba9850f5573cc1fc38a6a4b2f02b]\n",
       "class E7--><a href=\"psysml:2c2598c5-3ef5-4f1d-ae32-f3d429fa4c2f\" target=\"_top\" title=\"psysml:2c2598c5-3ef5-4f1d-ae32-f3d429fa4c2f\" xlink:actuate=\"onRequest\" xlink:href=\"psysml:2c2598c5-3ef5-4f1d-ae32-f3d429fa4c2f\" xlink:show=\"new\" xlink:title=\"psysml:2c2598c5-3ef5-4f1d-ae32-f3d429fa4c2f\" xlink:type=\"simple\"><rect fill=\"#FFFFFF\" height=\"45.9375\" id=\"E7\" rx=\"10\" ry=\"10\" style=\"stroke: #383838; stroke-width: 1.5;\" width=\"50\" x=\"32\" y=\"41\"/><text fill=\"#000000\" font-family=\"sans-serif\" font-size=\"12\" font-style=\"italic\" lengthAdjust=\"spacingAndGlyphs\" textLength=\"40\" x=\"37\" y=\"57.1387\">«part»</text><text fill=\"#000000\" font-family=\"sans-serif\" font-size=\"12\" lengthAdjust=\"spacingAndGlyphs\" textLength=\"40\" x=\"35\" y=\"71.1074\">p2: P1</text><line style=\"stroke: #383838; stroke-width: 1.5;\" x1=\"33\" x2=\"81\" y1=\"78.9375\" y2=\"78.9375\"/></a><!--MD5=[b9389687b975829384b498ac4b7476b2]\n",
       "class E8--><a href=\"psysml:10820d16-405d-40a2-9551-06e34552661e\" target=\"_top\" title=\"psysml:10820d16-405d-40a2-9551-06e34552661e\" xlink:actuate=\"onRequest\" xlink:href=\"psysml:10820d16-405d-40a2-9551-06e34552661e\" xlink:show=\"new\" xlink:title=\"psysml:10820d16-405d-40a2-9551-06e34552661e\" xlink:type=\"simple\"><rect fill=\"#FFFFFF\" height=\"45.9375\" id=\"E8\" rx=\"10\" ry=\"10\" style=\"stroke: #383838; stroke-width: 1.5;\" width=\"42\" x=\"65\" y=\"253\"/><text fill=\"#000000\" font-family=\"sans-serif\" font-size=\"12\" font-style=\"italic\" lengthAdjust=\"spacingAndGlyphs\" textLength=\"40\" x=\"66\" y=\"269.1387\">«port»</text><text fill=\"#000000\" font-family=\"sans-serif\" font-size=\"12\" lengthAdjust=\"spacingAndGlyphs\" textLength=\"36\" x=\"68\" y=\"283.1074\">pdest</text><line style=\"stroke: #383838; stroke-width: 1.5;\" x1=\"66\" x2=\"106\" y1=\"290.9375\" y2=\"290.9375\"/></a><!--MD5=[4672eba38e49728da53d11aeb285b987]\n",
       "reverse link E3 to E4--><a href=\"psysml:8e3ccc77-0a8c-4c0b-a5d7-07a6acaf5014\" target=\"_top\" title=\"psysml:8e3ccc77-0a8c-4c0b-a5d7-07a6acaf5014\" xlink:actuate=\"onRequest\" xlink:href=\"psysml:8e3ccc77-0a8c-4c0b-a5d7-07a6acaf5014\" xlink:show=\"new\" xlink:title=\"psysml:8e3ccc77-0a8c-4c0b-a5d7-07a6acaf5014\" xlink:type=\"simple\"><path d=\"M192.84,206.44 C191.7,221.87 192.21,239.47 194.36,252.98 \" fill=\"none\" id=\"E3&lt;-E4\" style=\"stroke: #383838; stroke-width: 1.0;\"/><polygon fill=\"#FFFFFF\" points=\"194.35,193.06,189.7032,198.5743,193.006,204.9845,197.6528,199.4702,194.35,193.06\" style=\"stroke: #383838; stroke-width: 1.0;\"/><text fill=\"#000000\" font-family=\"sans-serif\" font-size=\"13\" lengthAdjust=\"spacingAndGlyphs\" textLength=\"8\" x=\"182.4255\" y=\"241.8709\">1</text></a><!--MD5=[4672eba38e49728da53d11aeb285b987]\n",
       "reverse link E3 to E4--><a href=\"psysml:408c218d-2c50-4f10-8495-de57c6cccdaf\" target=\"_top\" title=\"psysml:408c218d-2c50-4f10-8495-de57c6cccdaf\" xlink:actuate=\"onRequest\" xlink:href=\"psysml:408c218d-2c50-4f10-8495-de57c6cccdaf\" xlink:show=\"new\" xlink:title=\"psysml:408c218d-2c50-4f10-8495-de57c6cccdaf\" xlink:type=\"simple\"><path d=\"M218.01,208.34 C219.03,223.3 218.45,240.02 216.27,252.98 \" fill=\"none\" id=\"E3&lt;-E4-1\" style=\"stroke: #383838; stroke-width: 1.0; stroke-dasharray: 7.0,7.0;\"/><ellipse cx=\"217.1693\" cy=\"201.0093\" fill=\"#FFFFFF\" rx=\"8\" ry=\"8\" style=\"stroke: #383838; stroke-width: 1.0;\"/><line style=\"stroke: #383838; stroke-width: 1.0;\" x1=\"218.0687\" x2=\"216.27\" y1=\"208.9586\" y2=\"193.06\"/><line style=\"stroke: #383838; stroke-width: 1.0;\" x1=\"209.2201\" x2=\"225.1186\" y1=\"201.9086\" y2=\"200.1099\"/><text fill=\"#000000\" font-family=\"sans-serif\" font-size=\"13\" lengthAdjust=\"spacingAndGlyphs\" textLength=\"8\" x=\"210.2238\" y=\"241.8709\">1</text></a><!--MD5=[e9be52314489bd878ff4c7144b63c9e1]\n",
       "link E5 to E3--><a href=\"psysml:39d7aa17-d9aa-4290-8253-e0b073366074\" target=\"_top\" title=\"psysml:39d7aa17-d9aa-4290-8253-e0b073366074\" xlink:actuate=\"onRequest\" xlink:href=\"psysml:39d7aa17-d9aa-4290-8253-e0b073366074\" xlink:show=\"new\" xlink:title=\"psysml:39d7aa17-d9aa-4290-8253-e0b073366074\" xlink:type=\"simple\"><path d=\"M155.36,87.06 C162.88,99.47 172.49,115.33 181.24,129.78 \" fill=\"none\" id=\"E5-&gt;E3\" style=\"stroke: #383838; stroke-width: 1.0;\"/><polygon fill=\"#FFFFFF\" points=\"191.66,146.98,175.8217,134.3646,187.792,127.1044,191.66,146.98\" style=\"stroke: #383838; stroke-width: 1.0;\"/><ellipse cx=\"174.5758\" cy=\"128.4538\" fill=\"#383838\" rx=\"2\" ry=\"2\" style=\"stroke: #383838; stroke-width: 1.0;\"/><ellipse cx=\"183.126\" cy=\"123.2679\" fill=\"#383838\" rx=\"2\" ry=\"2\" style=\"stroke: #383838; stroke-width: 1.0;\"/></a><!--MD5=[85d356282659285ab4b2cfe2f634dd2b]\n",
       "reverse link E5 to E6--><a href=\"psysml:0602bff9-807d-4c23-b932-30af011e0640\" target=\"_top\" title=\"psysml:0602bff9-807d-4c23-b932-30af011e0640\" xlink:actuate=\"onRequest\" xlink:href=\"psysml:0602bff9-807d-4c23-b932-30af011e0640\" xlink:show=\"new\" xlink:title=\"psysml:0602bff9-807d-4c23-b932-30af011e0640\" xlink:type=\"simple\"><path d=\"M132.59,99.96 C128.4,115.51 123.6,133.33 119.93,146.98 \" fill=\"none\" id=\"E5&lt;-E6\" style=\"stroke: #383838; stroke-width: 1.0;\"/><polygon fill=\"#FFFFFF\" points=\"136.06,87.06,130.641,91.8176,132.9484,98.6496,138.3674,93.892,136.06,87.06\" style=\"stroke: #383838; stroke-width: 1.0;\"/><text fill=\"#000000\" font-family=\"sans-serif\" font-size=\"13\" lengthAdjust=\"spacingAndGlyphs\" textLength=\"8\" x=\"112.4487\" y=\"135.8709\">1</text></a><!--MD5=[f667431f98296947986a1a7595a31603]\n",
       "link E6 to E4--><a href=\"psysml:5ed5dee3-04af-484b-a73a-bf3d62fb0484\" target=\"_top\" title=\"psysml:5ed5dee3-04af-484b-a73a-bf3d62fb0484\" xlink:actuate=\"onRequest\" xlink:href=\"psysml:5ed5dee3-04af-484b-a73a-bf3d62fb0484\" xlink:show=\"new\" xlink:title=\"psysml:5ed5dee3-04af-484b-a73a-bf3d62fb0484\" xlink:type=\"simple\"><path d=\"M133.3,193.06 C144.64,206.02 159.28,222.74 172.36,237.7 \" fill=\"none\" id=\"E6-&gt;E4\" style=\"stroke: #383838; stroke-width: 1.0;\"/><polygon fill=\"#FFFFFF\" points=\"185.73,252.98,167.9517,243.2882,178.489,234.0705,185.73,252.98\" style=\"stroke: #383838; stroke-width: 1.0;\"/><line style=\"stroke: #383838; stroke-width: 2.0;\" x1=\"165.4497\" x2=\"175.9871\" y1=\"240.4281\" y2=\"231.2104\"/></a><!--MD5=[14ccda38c055a5c0da953d572bc50960]\n",
       "link E7 to E3--><a href=\"psysml:6afc3f94-967f-4ac8-9c89-c7c9ad6aa496\" target=\"_top\" title=\"psysml:6afc3f94-967f-4ac8-9c89-c7c9ad6aa496\" xlink:actuate=\"onRequest\" xlink:href=\"psysml:6afc3f94-967f-4ac8-9c89-c7c9ad6aa496\" xlink:show=\"new\" xlink:title=\"psysml:6afc3f94-967f-4ac8-9c89-c7c9ad6aa496\" xlink:type=\"simple\"><path d=\"M82.11,82.64 C102.61,97.05 132.18,117.83 157.18,135.39 \" fill=\"none\" id=\"E7-&gt;E3\" style=\"stroke: #383838; stroke-width: 1.0;\"/><polygon fill=\"#FFFFFF\" points=\"173.58,146.92,154.011,141.7187,162.0629,130.266,173.58,146.92\" style=\"stroke: #383838; stroke-width: 1.0;\"/><ellipse cx=\"150.4983\" cy=\"136.8043\" fill=\"#383838\" rx=\"2\" ry=\"2\" style=\"stroke: #383838; stroke-width: 1.0;\"/><ellipse cx=\"156.2497\" cy=\"128.6238\" fill=\"#383838\" rx=\"2\" ry=\"2\" style=\"stroke: #383838; stroke-width: 1.0;\"/></a><!--MD5=[dc164f5e8a733ab456ef1add180e9e34]\n",
       "reverse link E7 to E8--><a href=\"psysml:9a63abc5-83ea-4d36-8ec2-a9e5009e1a31\" target=\"_top\" title=\"psysml:9a63abc5-83ea-4d36-8ec2-a9e5009e1a31\" xlink:actuate=\"onRequest\" xlink:href=\"psysml:9a63abc5-83ea-4d36-8ec2-a9e5009e1a31\" xlink:show=\"new\" xlink:title=\"psysml:9a63abc5-83ea-4d36-8ec2-a9e5009e1a31\" xlink:type=\"simple\"><path d=\"M52.05,100.09 C53.65,143.61 64.25,216.5 74.75,252.9 \" fill=\"none\" id=\"E7&lt;-E8\" style=\"stroke: #383838; stroke-width: 1.0;\"/><polygon fill=\"#FFFFFF\" points=\"51.85,87.08,47.9362,93.1366,52.0216,99.0788,55.9354,93.0222,51.85,87.08\" style=\"stroke: #383838; stroke-width: 1.0;\"/><text fill=\"#000000\" font-family=\"sans-serif\" font-size=\"13\" lengthAdjust=\"spacingAndGlyphs\" textLength=\"8\" x=\"62.6516\" y=\"241.7694\">1</text></a><!--MD5=[dc164f5e8a733ab456ef1add180e9e34]\n",
       "reverse link E7 to E8--><a href=\"psysml:af85dbb9-a19a-4dbd-bd41-700a2e1e88fd\" target=\"_top\" title=\"psysml:af85dbb9-a19a-4dbd-bd41-700a2e1e88fd\" xlink:actuate=\"onRequest\" xlink:href=\"psysml:af85dbb9-a19a-4dbd-bd41-700a2e1e88fd\" xlink:show=\"new\" xlink:title=\"psysml:af85dbb9-a19a-4dbd-bd41-700a2e1e88fd\" xlink:type=\"simple\"><path d=\"M72.64,101.8 C83.15,145.5 92.39,216.97 91.63,252.9 \" fill=\"none\" id=\"E7&lt;-E8-1\" style=\"stroke: #383838; stroke-width: 1.0; stroke-dasharray: 7.0,7.0;\"/><ellipse cx=\"70.7794\" cy=\"94.813\" fill=\"#FFFFFF\" rx=\"8\" ry=\"8\" style=\"stroke: #383838; stroke-width: 1.0;\"/><line style=\"stroke: #383838; stroke-width: 1.0;\" x1=\"72.8289\" x2=\"68.73\" y1=\"102.5461\" y2=\"87.08\"/><line style=\"stroke: #383838; stroke-width: 1.0;\" x1=\"63.0464\" x2=\"78.5125\" y1=\"96.8625\" y2=\"92.7636\"/><text fill=\"#000000\" font-family=\"sans-serif\" font-size=\"13\" lengthAdjust=\"spacingAndGlyphs\" textLength=\"8\" x=\"94.2181\" y=\"241.7694\">1</text></a><!--MD5=[0a839d0f80c2d72d4b9b307f046d0de8]\n",
       "link E6 to E8--><a href=\"psysml:ee24455c-c65b-41eb-8958-74c54e28cd84\" target=\"_top\" title=\"psysml:ee24455c-c65b-41eb-8958-74c54e28cd84\" xlink:actuate=\"onRequest\" xlink:href=\"psysml:ee24455c-c65b-41eb-8958-74c54e28cd84\" xlink:show=\"new\" xlink:title=\"psysml:ee24455c-c65b-41eb-8958-74c54e28cd84\" xlink:type=\"simple\"><path d=\"M97.42,193.06 C89.86,210.7 83.23,235.34 81.29,252.98 \" fill=\"none\" id=\"E6-E8\" style=\"stroke: #383838; stroke-width: 3.0;\"/><text fill=\"#000000\" font-family=\"sans-serif\" font-size=\"13\" lengthAdjust=\"spacingAndGlyphs\" textLength=\"7\" x=\"80.9648\" y=\"241.8709\">*</text></a><!--MD5=[0a839d0f80c2d72d4b9b307f046d0de8]\n",
       "link E6 to E8--><a href=\"psysml:1d0a5b52-6a4c-4cbe-b03e-99be5638e392\" target=\"_top\" title=\"psysml:1d0a5b52-6a4c-4cbe-b03e-99be5638e392\" xlink:actuate=\"onRequest\" xlink:href=\"psysml:1d0a5b52-6a4c-4cbe-b03e-99be5638e392\" xlink:show=\"new\" xlink:title=\"psysml:1d0a5b52-6a4c-4cbe-b03e-99be5638e392\" xlink:type=\"simple\"><path d=\"M119.33,193.06 C117.55,210.7 110.92,235.34 103.2,252.98 \" fill=\"none\" id=\"E6-E8-1\" style=\"stroke: #383838; stroke-width: 3.0;\"/><text fill=\"#000000\" font-family=\"sans-serif\" font-size=\"13\" lengthAdjust=\"spacingAndGlyphs\" textLength=\"7\" x=\"99.8819\" y=\"241.8709\">*</text></a><!--MD5=[8de1bcd09ac5da868751f654df2b9711]\n",
       "@startuml\r\n",
       "skinparam linetype polyline\r\n",
       "skinparam monochrome true\r\n",
       "skinparam classbackgroundcolor white\r\n",
       "skinparam shadowing false\r\n",
       "skinparam wrapWidth 300\r\n",
       "hide circle\r\n",
       "\r\n",
       "package \"AliasTest\" as E1  [[psysml:dccc75fb-db16-4804-85cb-688c27ce5ff3 ]]  {\r\n",
       "comp usage \"q :> Quantities::tensorQuantities\" as E2  <<(T,blue) attribute>> [[psysml:ce72622b-28d6-4d09-bee8-b5dd20a40a54 ]] {\r\n",
       "}\r\n",
       "comp def \"P1\" as E3  <<(T,blue) part  def>> [[psysml:61eb2658-da6c-419b-a94e-058b00326cab ]] {\r\n",
       "}\r\n",
       "comp usage \"porig1\" as E4  <<(T,blue) port>> [[psysml:9ae2babd-6d67-4765-bfe5-8d775f3bcf42 ]] {\r\n",
       "}\r\n",
       "comp usage \"p1: P1 \" as E5  <<(T,blue) part>> [[psysml:11b2a6df-aab5-4dc5-a120-8a7b1f52b05c ]] {\r\n",
       "}\r\n",
       "comp usage \"po1\" as E6  <<(T,blue) port>> [[psysml:a231442e-2600-41cf-892c-df88027eb505 ]] {\r\n",
       "}\r\n",
       "comp usage \"p2: P1 \" as E7  <<(T,blue) part>> [[psysml:2c2598c5-3ef5-4f1d-ae32-f3d429fa4c2f ]] {\r\n",
       "}\r\n",
       "comp usage \"pdest\" as E8  <<(T,blue) port>> [[psysml:10820d16-405d-40a2-9551-06e34552661e ]] {\r\n",
       "}\r\n",
       "}\r\n",
       "E3 o- - \"1\"E4 [[psysml:8e3ccc77-0a8c-4c0b-a5d7-07a6acaf5014 ]] \r\n",
       "E3 +.. \"1\"E4 [[psysml:408c218d-2c50-4f10-8495-de57c6cccdaf ]] \r\n",
       "E5 - -:|> E3 [[psysml:39d7aa17-d9aa-4290-8253-e0b073366074 ]] \r\n",
       "E5 o- - \"1\"E6 [[psysml:0602bff9-807d-4c23-b932-30af011e0640 ]] \r\n",
       "E6 - -||> E4 [[psysml:5ed5dee3-04af-484b-a73a-bf3d62fb0484 ]] \r\n",
       "E7 - -:|> E3 [[psysml:6afc3f94-967f-4ac8-9c89-c7c9ad6aa496 ]] \r\n",
       "E7 o- - \"1\"E8 [[psysml:9a63abc5-83ea-4d36-8ec2-a9e5009e1a31 ]] \r\n",
       "E7 +.. \"1\"E8 [[psysml:af85dbb9-a19a-4dbd-bd41-700a2e1e88fd ]] \r\n",
       "E6 -[thickness=3]- \"*\"E8 [[psysml:ee24455c-c65b-41eb-8958-74c54e28cd84 ]] \r\n",
       "E6 -[thickness=3]- \"*\"E8 [[psysml:1d0a5b52-6a4c-4cbe-b03e-99be5638e392 ]] \r\n",
       "@enduml\r\n",
       "\n",
       "PlantUML version 1.2020.13(Sat Jun 13 12:26:38 UTC 2020)\n",
       "(EPL source distribution)\n",
       "Java Runtime: OpenJDK Runtime Environment\n",
       "JVM: OpenJDK 64-Bit Server VM\n",
       "Default Encoding: UTF-8\n",
       "Language: en\n",
       "Country: null\n",
       "--></g></svg>"
      ]
     },
     "execution_count": 10,
     "metadata": {},
     "output_type": "execute_result"
    }
   ],
   "source": [
    "%viz --style=\"POLYLINE\" --view=\"Tree\" \"AliasTest\""
   ]
  },
  {
   "cell_type": "code",
   "execution_count": 11,
   "id": "e438992f",
   "metadata": {
    "execution": {
     "iopub.execute_input": "2021-10-25T08:23:52.623635Z",
     "iopub.status.busy": "2021-10-25T08:23:52.623202Z",
     "iopub.status.idle": "2021-10-25T08:23:52.630186Z",
     "shell.execute_reply": "2021-10-25T08:23:52.630516Z"
    }
   },
   "outputs": [
    {
     "data": {
      "image/svg+xml": [
       "<?xml version=\"1.0\" encoding=\"UTF-8\" standalone=\"no\"?><svg xmlns=\"http://www.w3.org/2000/svg\" xmlns:xlink=\"http://www.w3.org/1999/xlink\" contentScriptType=\"application/ecmascript\" contentStyleType=\"text/css\" height=\"12px\" preserveAspectRatio=\"none\" style=\"width:12px;height:12px;\" version=\"1.1\" viewBox=\"0 0 12 12\" width=\"12px\" zoomAndPan=\"magnify\"><defs/><g><!--MD5=[896ac0e7a515d8dd7765a661cb4ee08b]\n",
       "@startuml\r\n",
       "skinparam linetype polyline\r\n",
       "skinparam monochrome true\r\n",
       "skinparam classbackgroundcolor white\r\n",
       "skinparam shadowing false\r\n",
       "skinparam wrapWidth 300\r\n",
       "hide circle\r\n",
       "\r\n",
       "@enduml\r\n",
       "\n",
       "PlantUML version 1.2020.13(Sat Jun 13 12:26:38 UTC 2020)\n",
       "(EPL source distribution)\n",
       "Java Runtime: OpenJDK Runtime Environment\n",
       "JVM: OpenJDK 64-Bit Server VM\n",
       "Default Encoding: UTF-8\n",
       "Language: en\n",
       "Country: null\n",
       "--></g></svg>"
      ]
     },
     "execution_count": 11,
     "metadata": {},
     "output_type": "execute_result"
    }
   ],
   "source": [
    "%viz --style=\"POLYLINE\" --view=\"State\" \"AliasTest\""
   ]
  },
  {
   "cell_type": "code",
   "execution_count": 12,
   "id": "26f76fc0",
   "metadata": {
    "execution": {
     "iopub.execute_input": "2021-10-25T08:23:52.680328Z",
     "iopub.status.busy": "2021-10-25T08:23:52.679873Z",
     "iopub.status.idle": "2021-10-25T08:23:52.724216Z",
     "shell.execute_reply": "2021-10-25T08:23:52.723842Z"
    }
   },
   "outputs": [
    {
     "data": {
      "image/svg+xml": [
       "<?xml version=\"1.0\" encoding=\"UTF-8\" standalone=\"no\"?><svg xmlns=\"http://www.w3.org/2000/svg\" xmlns:xlink=\"http://www.w3.org/1999/xlink\" contentScriptType=\"application/ecmascript\" contentStyleType=\"text/css\" height=\"233px\" preserveAspectRatio=\"none\" style=\"width:618px;height:233px;\" version=\"1.1\" viewBox=\"0 0 618 233\" width=\"618px\" zoomAndPan=\"magnify\"><defs/><g><!--MD5=[fbc87193dbaf4d95561dea2c320d4a47]\n",
       "cluster E1--><a href=\"psysml:dccc75fb-db16-4804-85cb-688c27ce5ff3\" target=\"_top\" title=\"psysml:dccc75fb-db16-4804-85cb-688c27ce5ff3\" xlink:actuate=\"onRequest\" xlink:href=\"psysml:dccc75fb-db16-4804-85cb-688c27ce5ff3\" xlink:show=\"new\" xlink:title=\"psysml:dccc75fb-db16-4804-85cb-688c27ce5ff3\" xlink:type=\"simple\"><polygon fill=\"#FFFFFF\" points=\"16,6,84,6,91,28.2969,596,28.2969,596,221,16,221,16,6\" style=\"stroke: #000000; stroke-width: 1.5;\"/><line style=\"stroke: #000000; stroke-width: 1.5;\" x1=\"16\" x2=\"91\" y1=\"28.2969\" y2=\"28.2969\"/><text fill=\"#000000\" font-family=\"sans-serif\" font-size=\"14\" font-weight=\"bold\" lengthAdjust=\"spacingAndGlyphs\" textLength=\"62\" x=\"20\" y=\"20.9951\">AliasTest</text></a><!--MD5=[d5e69f78d87373223dbae638b30a9c99]\n",
       "cluster E3--><a href=\"psysml:61eb2658-da6c-419b-a94e-058b00326cab\" target=\"_top\" title=\"psysml:61eb2658-da6c-419b-a94e-058b00326cab\" xlink:actuate=\"onRequest\" xlink:href=\"psysml:61eb2658-da6c-419b-a94e-058b00326cab\" xlink:show=\"new\" xlink:title=\"psysml:61eb2658-da6c-419b-a94e-058b00326cab\" xlink:type=\"simple\"><rect fill=\"#FFFFFF\" height=\"90\" id=\"E3\" style=\"stroke: #383838; stroke-width: 1.5;\" width=\"85\" x=\"453\" y=\"64\"/><rect fill=\"#F8F8F8\" height=\"37.9375\" style=\"stroke: #383838; stroke-width: 1.5;\" width=\"85\" x=\"453\" y=\"64\"/><text fill=\"#000000\" font-family=\"sans-serif\" font-size=\"12\" font-style=\"italic\" lengthAdjust=\"spacingAndGlyphs\" textLength=\"68\" x=\"461.5\" y=\"80.1387\">«part  def»</text><text fill=\"#000000\" font-family=\"sans-serif\" font-size=\"12\" lengthAdjust=\"spacingAndGlyphs\" textLength=\"16\" x=\"487.5\" y=\"94.1074\">P1</text></a><!--MD5=[14e3b0961a2654348d326746436168a1]\n",
       "cluster E6--><a href=\"psysml:11b2a6df-aab5-4dc5-a120-8a7b1f52b05c\" target=\"_top\" title=\"psysml:11b2a6df-aab5-4dc5-a120-8a7b1f52b05c\" xlink:actuate=\"onRequest\" xlink:href=\"psysml:11b2a6df-aab5-4dc5-a120-8a7b1f52b05c\" xlink:show=\"new\" xlink:title=\"psysml:11b2a6df-aab5-4dc5-a120-8a7b1f52b05c\" xlink:type=\"simple\"><rect fill=\"#FFFFFF\" height=\"82\" id=\"E6\" rx=\"10\" ry=\"10\" style=\"stroke: #383838; stroke-width: 1.5;\" width=\"98\" x=\"252\" y=\"64\"/><rect fill=\"#F8F8F8\" height=\"23.9688\" rx=\"10\" ry=\"10\" style=\"stroke: #F8F8F8; stroke-width: 1.5;\" width=\"98\" x=\"252\" y=\"64\"/><rect fill=\"#F8F8F8\" height=\"10\" style=\"stroke: #F8F8F8; stroke-width: 1.5;\" width=\"98\" x=\"252\" y=\"77.9688\"/><rect fill=\"none\" height=\"82\" id=\"E6\" rx=\"10\" ry=\"10\" style=\"stroke: #383838; stroke-width: 1.5;\" width=\"98\" x=\"252\" y=\"64\"/><text fill=\"#000000\" font-family=\"sans-serif\" font-size=\"12\" lengthAdjust=\"spacingAndGlyphs\" textLength=\"40\" x=\"281\" y=\"80.1387\">p1: P1</text><line style=\"stroke: #383838; stroke-width: 1.0;\" x1=\"252\" x2=\"350\" y1=\"87.9688\" y2=\"87.9688\"/></a><!--MD5=[55dfccfc6c49c2d10cd1bd2211a6c90c]\n",
       "cluster E8--><a href=\"psysml:2c2598c5-3ef5-4f1d-ae32-f3d429fa4c2f\" target=\"_top\" title=\"psysml:2c2598c5-3ef5-4f1d-ae32-f3d429fa4c2f\" xlink:actuate=\"onRequest\" xlink:href=\"psysml:2c2598c5-3ef5-4f1d-ae32-f3d429fa4c2f\" xlink:show=\"new\" xlink:title=\"psysml:2c2598c5-3ef5-4f1d-ae32-f3d429fa4c2f\" xlink:type=\"simple\"><rect fill=\"#FFFFFF\" height=\"84.5\" id=\"E8\" rx=\"10\" ry=\"10\" style=\"stroke: #383838; stroke-width: 1.5;\" width=\"83\" x=\"353\" y=\"120.5\"/><rect fill=\"#F8F8F8\" height=\"23.9688\" rx=\"10\" ry=\"10\" style=\"stroke: #F8F8F8; stroke-width: 1.5;\" width=\"83\" x=\"353\" y=\"120.5\"/><rect fill=\"#F8F8F8\" height=\"10\" style=\"stroke: #F8F8F8; stroke-width: 1.5;\" width=\"83\" x=\"353\" y=\"134.4688\"/><rect fill=\"none\" height=\"84.5\" id=\"E8\" rx=\"10\" ry=\"10\" style=\"stroke: #383838; stroke-width: 1.5;\" width=\"83\" x=\"353\" y=\"120.5\"/><text fill=\"#000000\" font-family=\"sans-serif\" font-size=\"12\" lengthAdjust=\"spacingAndGlyphs\" textLength=\"40\" x=\"374.5\" y=\"136.6387\">p2: P1</text><line style=\"stroke: #383838; stroke-width: 1.0;\" x1=\"353\" x2=\"436\" y1=\"144.4688\" y2=\"144.4688\"/></a><!--MD5=[b4997ac47864f28c2f74865a473b2911]\n",
       "class E2--><a href=\"psysml:ce72622b-28d6-4d09-bee8-b5dd20a40a54\" target=\"_top\" title=\"psysml:ce72622b-28d6-4d09-bee8-b5dd20a40a54\" xlink:actuate=\"onRequest\" xlink:href=\"psysml:ce72622b-28d6-4d09-bee8-b5dd20a40a54\" xlink:show=\"new\" xlink:title=\"psysml:ce72622b-28d6-4d09-bee8-b5dd20a40a54\" xlink:type=\"simple\"><rect fill=\"#FFFFFF\" height=\"45.9375\" id=\"E2\" rx=\"10\" ry=\"10\" style=\"stroke: #383838; stroke-width: 1.5;\" width=\"213\" x=\"31.5\" y=\"41\"/><text fill=\"#000000\" font-family=\"sans-serif\" font-size=\"12\" font-style=\"italic\" lengthAdjust=\"spacingAndGlyphs\" textLength=\"69\" x=\"103.5\" y=\"57.1387\">«attribute»</text><text fill=\"#000000\" font-family=\"sans-serif\" font-size=\"12\" lengthAdjust=\"spacingAndGlyphs\" textLength=\"207\" x=\"34.5\" y=\"71.1074\">q :&gt; Quantities::tensorQuantities</text><line style=\"stroke: #383838; stroke-width: 1.5;\" x1=\"32.5\" x2=\"243.5\" y1=\"78.9375\" y2=\"78.9375\"/></a><text fill=\"#000000\" font-family=\"sans-serif\" font-size=\"14\" lengthAdjust=\"spacingAndGlyphs\" textLength=\"44\" x=\"449\" y=\"42.6982\">porig1</text><rect fill=\"#383838\" height=\"12\" style=\"stroke: #F8F8F8; stroke-width: 1.5;\" width=\"12\" x=\"465\" y=\"58\"/><text fill=\"#000000\" font-family=\"sans-serif\" font-size=\"14\" lengthAdjust=\"spacingAndGlyphs\" textLength=\"44\" x=\"496\" y=\"42.6982\">porig1</text><rect fill=\"#383838\" height=\"12\" style=\"stroke: #F8F8F8; stroke-width: 1.5;\" width=\"12\" x=\"512\" y=\"58\"/><text fill=\"#000000\" font-family=\"sans-serif\" font-size=\"14\" lengthAdjust=\"spacingAndGlyphs\" textLength=\"27\" x=\"318.5\" y=\"42.6982\">po1</text><rect fill=\"#383838\" height=\"12\" style=\"stroke: #F8F8F8; stroke-width: 1.5;\" width=\"12\" x=\"326\" y=\"58\"/><text fill=\"#000000\" font-family=\"sans-serif\" font-size=\"14\" lengthAdjust=\"spacingAndGlyphs\" textLength=\"40\" x=\"351\" y=\"99.1982\">pdest</text><rect fill=\"#383838\" height=\"12\" style=\"stroke: #F8F8F8; stroke-width: 1.5;\" width=\"12\" x=\"365\" y=\"114.5\"/><text fill=\"#000000\" font-family=\"sans-serif\" font-size=\"14\" lengthAdjust=\"spacingAndGlyphs\" textLength=\"40\" x=\"398\" y=\"99.1982\">pdest</text><rect fill=\"#383838\" height=\"12\" style=\"stroke: #F8F8F8; stroke-width: 1.5;\" width=\"12\" x=\"412\" y=\"114.5\"/><!--MD5=[1c0b9414cc86e0744215edee6abd8926]\n",
       "link E7 to E9--><a href=\"psysml:ee24455c-c65b-41eb-8958-74c54e28cd84\" target=\"_top\" title=\"psysml:ee24455c-c65b-41eb-8958-74c54e28cd84\" xlink:actuate=\"onRequest\" xlink:href=\"psysml:ee24455c-c65b-41eb-8958-74c54e28cd84\" xlink:show=\"new\" xlink:title=\"psysml:ee24455c-c65b-41eb-8958-74c54e28cd84\" xlink:type=\"simple\"><path d=\"M327.83,70.03 C328.72,81.73 350.14,110.34 364.83,117.73 \" fill=\"none\" id=\"E7-E9\" style=\"stroke: #383838; stroke-width: 3.0;\"/><text fill=\"#000000\" font-family=\"sans-serif\" font-size=\"13\" lengthAdjust=\"spacingAndGlyphs\" textLength=\"7\" x=\"349.8522\" y=\"106.3789\">*</text></a><!--MD5=[1c0b9414cc86e0744215edee6abd8926]\n",
       "link E7 to E9--><a href=\"psysml:1d0a5b52-6a4c-4cbe-b03e-99be5638e392\" target=\"_top\" title=\"psysml:1d0a5b52-6a4c-4cbe-b03e-99be5638e392\" xlink:actuate=\"onRequest\" xlink:href=\"psysml:1d0a5b52-6a4c-4cbe-b03e-99be5638e392\" xlink:show=\"new\" xlink:title=\"psysml:1d0a5b52-6a4c-4cbe-b03e-99be5638e392\" xlink:type=\"simple\"><path d=\"M338.05,66.57 C353.27,73.62 375.05,102.5 375.62,114.37 \" fill=\"none\" id=\"E7-E9-1\" style=\"stroke: #383838; stroke-width: 3.0;\"/><text fill=\"#000000\" font-family=\"sans-serif\" font-size=\"13\" lengthAdjust=\"spacingAndGlyphs\" textLength=\"7\" x=\"369.278\" y=\"103.4683\">*</text></a><!--MD5=[642e04c64c9cd9078e52dfe19a5ec50f]\n",
       "@startuml\r\n",
       "skinparam ranksep 10\r\n",
       "skinparam rectangle {\r\n",
       " backgroundColor<<block>> LightGreen\r\n",
       "}\r\n",
       "skinparam linetype polyline\r\n",
       "skinparam monochrome true\r\n",
       "skinparam classbackgroundcolor white\r\n",
       "skinparam shadowing false\r\n",
       "skinparam wrapWidth 300\r\n",
       "hide circle\r\n",
       "\r\n",
       "package \"AliasTest\" as E1  [[psysml:dccc75fb-db16-4804-85cb-688c27ce5ff3 ]]  {\r\n",
       "comp usage \"q :> Quantities::tensorQuantities\" as E2  <<(T,blue) attribute>> [[psysml:ce72622b-28d6-4d09-bee8-b5dd20a40a54 ]] {\r\n",
       "}\r\n",
       "rec def \"P1\" as E3  <<(T,blue) part  def>> [[psysml:61eb2658-da6c-419b-a94e-058b00326cab ]] {\r\n",
       "portin \"porig1\" as E4  <<(T,blue) port>> [[psysml:9ae2babd-6d67-4765-bfe5-8d775f3bcf42 ]] \r\n",
       "portin \"porig1\" as E5  <<(T,blue) port>> [[psysml:9ae2babd-6d67-4765-bfe5-8d775f3bcf42 ]] \r\n",
       "}\r\n",
       "rec usage \"p1: P1\" as E6  [[psysml:11b2a6df-aab5-4dc5-a120-8a7b1f52b05c ]] {\r\n",
       "portin \"po1\" as E7  <<(T,blue) port>> [[psysml:a231442e-2600-41cf-892c-df88027eb505 ]] \r\n",
       "}\r\n",
       "rec usage \"p2: P1\" as E8  [[psysml:2c2598c5-3ef5-4f1d-ae32-f3d429fa4c2f ]] {\r\n",
       "portin \"pdest\" as E9  <<(T,blue) port>> [[psysml:10820d16-405d-40a2-9551-06e34552661e ]] \r\n",
       "portin \"pdest\" as E10  <<(T,blue) port>> [[psysml:10820d16-405d-40a2-9551-06e34552661e ]] \r\n",
       "}\r\n",
       "}\r\n",
       "E7 -[thickness=3]- \"*\"E9 [[psysml:ee24455c-c65b-41eb-8958-74c54e28cd84 ]] \r\n",
       "E7 -[thickness=3]- \"*\"E9 [[psysml:1d0a5b52-6a4c-4cbe-b03e-99be5638e392 ]] \r\n",
       "@enduml\r\n",
       "\n",
       "PlantUML version 1.2020.13(Sat Jun 13 12:26:38 UTC 2020)\n",
       "(EPL source distribution)\n",
       "Java Runtime: OpenJDK Runtime Environment\n",
       "JVM: OpenJDK 64-Bit Server VM\n",
       "Default Encoding: UTF-8\n",
       "Language: en\n",
       "Country: null\n",
       "--></g></svg>"
      ]
     },
     "execution_count": 12,
     "metadata": {},
     "output_type": "execute_result"
    }
   ],
   "source": [
    "%viz --style=\"POLYLINE\" --view=\"Interconnection\" \"AliasTest\""
   ]
  },
  {
   "cell_type": "code",
   "execution_count": 13,
   "id": "60e55354",
   "metadata": {
    "execution": {
     "iopub.execute_input": "2021-10-25T08:23:52.773546Z",
     "iopub.status.busy": "2021-10-25T08:23:52.773114Z",
     "iopub.status.idle": "2021-10-25T08:23:52.780022Z",
     "shell.execute_reply": "2021-10-25T08:23:52.780371Z"
    }
   },
   "outputs": [
    {
     "data": {
      "image/svg+xml": [
       "<?xml version=\"1.0\" encoding=\"UTF-8\" standalone=\"no\"?><svg xmlns=\"http://www.w3.org/2000/svg\" xmlns:xlink=\"http://www.w3.org/1999/xlink\" contentScriptType=\"application/ecmascript\" contentStyleType=\"text/css\" height=\"12px\" preserveAspectRatio=\"none\" style=\"width:12px;height:12px;\" version=\"1.1\" viewBox=\"0 0 12 12\" width=\"12px\" zoomAndPan=\"magnify\"><defs/><g><!--MD5=[97bbf32f66ccd50cbc40d92ea8f5a65e]\n",
       "@startuml\r\n",
       "skinparam ranksep 8\r\n",
       "skinparam linetype polyline\r\n",
       "skinparam monochrome true\r\n",
       "skinparam classbackgroundcolor white\r\n",
       "skinparam shadowing false\r\n",
       "skinparam wrapWidth 300\r\n",
       "hide circle\r\n",
       "\r\n",
       "@enduml\r\n",
       "\n",
       "PlantUML version 1.2020.13(Sat Jun 13 12:26:38 UTC 2020)\n",
       "(EPL source distribution)\n",
       "Java Runtime: OpenJDK Runtime Environment\n",
       "JVM: OpenJDK 64-Bit Server VM\n",
       "Default Encoding: UTF-8\n",
       "Language: en\n",
       "Country: null\n",
       "--></g></svg>"
      ]
     },
     "execution_count": 13,
     "metadata": {},
     "output_type": "execute_result"
    }
   ],
   "source": [
    "%viz --style=\"POLYLINE\" --view=\"Action\" \"AliasTest\""
   ]
  },
  {
   "cell_type": "code",
   "execution_count": 14,
   "id": "6992709f",
   "metadata": {
    "execution": {
     "iopub.execute_input": "2021-10-25T08:23:52.829828Z",
     "iopub.status.busy": "2021-10-25T08:23:52.829359Z",
     "iopub.status.idle": "2021-10-25T08:23:52.836369Z",
     "shell.execute_reply": "2021-10-25T08:23:52.836692Z"
    }
   },
   "outputs": [
    {
     "data": {
      "image/svg+xml": [
       "<?xml version=\"1.0\" encoding=\"UTF-8\" standalone=\"no\"?><svg xmlns=\"http://www.w3.org/2000/svg\" xmlns:xlink=\"http://www.w3.org/1999/xlink\" contentScriptType=\"application/ecmascript\" contentStyleType=\"text/css\" height=\"12px\" preserveAspectRatio=\"none\" style=\"width:12px;height:12px;\" version=\"1.1\" viewBox=\"0 0 12 12\" width=\"12px\" zoomAndPan=\"magnify\"><defs/><g><!--MD5=[dc938048236c351797870c36b62f92ad]\n",
       "@startuml\r\n",
       "skinparam roundcorner 20\r\n",
       "skinparam BoxPadding 20\r\n",
       "skinparam SequenceBoxBackgroundColor #white\r\n",
       "skinparam style strictuml\r\n",
       "skinparam maxMessageSize 100\r\n",
       "skinparam linetype polyline\r\n",
       "skinparam monochrome true\r\n",
       "skinparam classbackgroundcolor white\r\n",
       "skinparam shadowing false\r\n",
       "skinparam wrapWidth 300\r\n",
       "hide circle\r\n",
       "\r\n",
       "@enduml\r\n",
       "\n",
       "PlantUML version 1.2020.13(Sat Jun 13 12:26:38 UTC 2020)\n",
       "(EPL source distribution)\n",
       "Java Runtime: OpenJDK Runtime Environment\n",
       "JVM: OpenJDK 64-Bit Server VM\n",
       "Default Encoding: UTF-8\n",
       "Language: en\n",
       "Country: null\n",
       "--></g></svg>"
      ]
     },
     "execution_count": 14,
     "metadata": {},
     "output_type": "execute_result"
    }
   ],
   "source": [
    "%viz --style=\"POLYLINE\" --view=\"Sequence\" \"AliasTest\""
   ]
  },
  {
   "cell_type": "code",
   "execution_count": 15,
   "id": "f97a4c9c",
   "metadata": {
    "execution": {
     "iopub.execute_input": "2021-10-25T08:23:52.886208Z",
     "iopub.status.busy": "2021-10-25T08:23:52.885783Z",
     "iopub.status.idle": "2021-10-25T08:23:52.933838Z",
     "shell.execute_reply": "2021-10-25T08:23:52.933452Z"
    }
   },
   "outputs": [
    {
     "data": {
      "image/svg+xml": [
       "<?xml version=\"1.0\" encoding=\"UTF-8\" standalone=\"no\"?><svg xmlns=\"http://www.w3.org/2000/svg\" xmlns:xlink=\"http://www.w3.org/1999/xlink\" contentScriptType=\"application/ecmascript\" contentStyleType=\"text/css\" height=\"327px\" preserveAspectRatio=\"none\" style=\"width:453px;height:327px;\" version=\"1.1\" viewBox=\"0 0 453 327\" width=\"453px\" zoomAndPan=\"magnify\"><defs/><g><!--MD5=[fbc87193dbaf4d95561dea2c320d4a47]\n",
       "cluster E1--><a href=\"psysml:dccc75fb-db16-4804-85cb-688c27ce5ff3\" target=\"_top\" title=\"psysml:dccc75fb-db16-4804-85cb-688c27ce5ff3\" xlink:actuate=\"onRequest\" xlink:href=\"psysml:dccc75fb-db16-4804-85cb-688c27ce5ff3\" xlink:show=\"new\" xlink:title=\"psysml:dccc75fb-db16-4804-85cb-688c27ce5ff3\" xlink:type=\"simple\"><polygon fill=\"#FFFFFF\" points=\"16,6,84,6,91,28.2969,431,28.2969,431,315,16,315,16,6\" style=\"stroke: #000000; stroke-width: 1.5;\"/><line style=\"stroke: #000000; stroke-width: 1.5;\" x1=\"16\" x2=\"91\" y1=\"28.2969\" y2=\"28.2969\"/><text fill=\"#000000\" font-family=\"sans-serif\" font-size=\"14\" font-weight=\"bold\" lengthAdjust=\"spacingAndGlyphs\" textLength=\"62\" x=\"20\" y=\"20.9951\">AliasTest</text></a><!--MD5=[b4997ac47864f28c2f74865a473b2911]\n",
       "class E2--><a href=\"psysml:ce72622b-28d6-4d09-bee8-b5dd20a40a54\" target=\"_top\" title=\"psysml:ce72622b-28d6-4d09-bee8-b5dd20a40a54\" xlink:actuate=\"onRequest\" xlink:href=\"psysml:ce72622b-28d6-4d09-bee8-b5dd20a40a54\" xlink:show=\"new\" xlink:title=\"psysml:ce72622b-28d6-4d09-bee8-b5dd20a40a54\" xlink:type=\"simple\"><rect fill=\"#FFFFFF\" height=\"45.9375\" id=\"E2\" rx=\"10\" ry=\"10\" style=\"stroke: #383838; stroke-width: 1.5;\" width=\"213\" x=\"202.5\" y=\"41\"/><text fill=\"#000000\" font-family=\"sans-serif\" font-size=\"12\" font-style=\"italic\" lengthAdjust=\"spacingAndGlyphs\" textLength=\"69\" x=\"274.5\" y=\"57.1387\">«attribute»</text><text fill=\"#000000\" font-family=\"sans-serif\" font-size=\"12\" lengthAdjust=\"spacingAndGlyphs\" textLength=\"207\" x=\"205.5\" y=\"71.1074\">q :&gt; Quantities::tensorQuantities</text><line style=\"stroke: #383838; stroke-width: 1.5;\" x1=\"203.5\" x2=\"414.5\" y1=\"78.9375\" y2=\"78.9375\"/></a><!--MD5=[09b614a08d8cba4a07c9adeb5e0fee81]\n",
       "class E3--><a href=\"psysml:61eb2658-da6c-419b-a94e-058b00326cab\" target=\"_top\" title=\"psysml:61eb2658-da6c-419b-a94e-058b00326cab\" xlink:actuate=\"onRequest\" xlink:href=\"psysml:61eb2658-da6c-419b-a94e-058b00326cab\" xlink:show=\"new\" xlink:title=\"psysml:61eb2658-da6c-419b-a94e-058b00326cab\" xlink:type=\"simple\"><rect fill=\"#FFFFFF\" height=\"45.9375\" id=\"E3\" style=\"stroke: #383838; stroke-width: 1.5;\" width=\"70\" x=\"170\" y=\"147\"/><text fill=\"#000000\" font-family=\"sans-serif\" font-size=\"12\" font-style=\"italic\" lengthAdjust=\"spacingAndGlyphs\" textLength=\"68\" x=\"171\" y=\"163.1387\">«part  def»</text><text fill=\"#000000\" font-family=\"sans-serif\" font-size=\"12\" lengthAdjust=\"spacingAndGlyphs\" textLength=\"16\" x=\"197\" y=\"177.1074\">P1</text><line style=\"stroke: #383838; stroke-width: 1.5;\" x1=\"171\" x2=\"239\" y1=\"184.9375\" y2=\"184.9375\"/></a><!--MD5=[ebbe1d658d1005bcc118a6aa81145e00]\n",
       "class E4--><a href=\"psysml:9ae2babd-6d67-4765-bfe5-8d775f3bcf42\" target=\"_top\" title=\"psysml:9ae2babd-6d67-4765-bfe5-8d775f3bcf42\" xlink:actuate=\"onRequest\" xlink:href=\"psysml:9ae2babd-6d67-4765-bfe5-8d775f3bcf42\" xlink:show=\"new\" xlink:title=\"psysml:9ae2babd-6d67-4765-bfe5-8d775f3bcf42\" xlink:type=\"simple\"><rect fill=\"#FFFFFF\" height=\"45.9375\" id=\"E4\" rx=\"10\" ry=\"10\" style=\"stroke: #383838; stroke-width: 1.5;\" width=\"46\" x=\"182\" y=\"253\"/><text fill=\"#000000\" font-family=\"sans-serif\" font-size=\"12\" font-style=\"italic\" lengthAdjust=\"spacingAndGlyphs\" textLength=\"40\" x=\"185\" y=\"269.1387\">«port»</text><text fill=\"#000000\" font-family=\"sans-serif\" font-size=\"12\" lengthAdjust=\"spacingAndGlyphs\" textLength=\"40\" x=\"185\" y=\"283.1074\">porig1</text><line style=\"stroke: #383838; stroke-width: 1.5;\" x1=\"183\" x2=\"227\" y1=\"290.9375\" y2=\"290.9375\"/></a><!--MD5=[270fce915f116d4de14055a7c1d9a0f3]\n",
       "class E5--><a href=\"psysml:11b2a6df-aab5-4dc5-a120-8a7b1f52b05c\" target=\"_top\" title=\"psysml:11b2a6df-aab5-4dc5-a120-8a7b1f52b05c\" xlink:actuate=\"onRequest\" xlink:href=\"psysml:11b2a6df-aab5-4dc5-a120-8a7b1f52b05c\" xlink:show=\"new\" xlink:title=\"psysml:11b2a6df-aab5-4dc5-a120-8a7b1f52b05c\" xlink:type=\"simple\"><rect fill=\"#FFFFFF\" height=\"45.9375\" id=\"E5\" rx=\"10\" ry=\"10\" style=\"stroke: #383838; stroke-width: 1.5;\" width=\"50\" x=\"117\" y=\"41\"/><text fill=\"#000000\" font-family=\"sans-serif\" font-size=\"12\" font-style=\"italic\" lengthAdjust=\"spacingAndGlyphs\" textLength=\"40\" x=\"122\" y=\"57.1387\">«part»</text><text fill=\"#000000\" font-family=\"sans-serif\" font-size=\"12\" lengthAdjust=\"spacingAndGlyphs\" textLength=\"40\" x=\"120\" y=\"71.1074\">p1: P1</text><line style=\"stroke: #383838; stroke-width: 1.5;\" x1=\"118\" x2=\"166\" y1=\"78.9375\" y2=\"78.9375\"/></a><!--MD5=[60a26617385b1d2d0262a64233df1f8d]\n",
       "class E6--><a href=\"psysml:a231442e-2600-41cf-892c-df88027eb505\" target=\"_top\" title=\"psysml:a231442e-2600-41cf-892c-df88027eb505\" xlink:actuate=\"onRequest\" xlink:href=\"psysml:a231442e-2600-41cf-892c-df88027eb505\" xlink:show=\"new\" xlink:title=\"psysml:a231442e-2600-41cf-892c-df88027eb505\" xlink:type=\"simple\"><rect fill=\"#FFFFFF\" height=\"45.9375\" id=\"E6\" rx=\"10\" ry=\"10\" style=\"stroke: #383838; stroke-width: 1.5;\" width=\"42\" x=\"93\" y=\"147\"/><text fill=\"#000000\" font-family=\"sans-serif\" font-size=\"12\" font-style=\"italic\" lengthAdjust=\"spacingAndGlyphs\" textLength=\"40\" x=\"94\" y=\"163.1387\">«port»</text><text fill=\"#000000\" font-family=\"sans-serif\" font-size=\"12\" lengthAdjust=\"spacingAndGlyphs\" textLength=\"24\" x=\"102\" y=\"177.1074\">po1</text><line style=\"stroke: #383838; stroke-width: 1.5;\" x1=\"94\" x2=\"134\" y1=\"184.9375\" y2=\"184.9375\"/></a><!--MD5=[2156ba9850f5573cc1fc38a6a4b2f02b]\n",
       "class E7--><a href=\"psysml:2c2598c5-3ef5-4f1d-ae32-f3d429fa4c2f\" target=\"_top\" title=\"psysml:2c2598c5-3ef5-4f1d-ae32-f3d429fa4c2f\" xlink:actuate=\"onRequest\" xlink:href=\"psysml:2c2598c5-3ef5-4f1d-ae32-f3d429fa4c2f\" xlink:show=\"new\" xlink:title=\"psysml:2c2598c5-3ef5-4f1d-ae32-f3d429fa4c2f\" xlink:type=\"simple\"><rect fill=\"#FFFFFF\" height=\"45.9375\" id=\"E7\" rx=\"10\" ry=\"10\" style=\"stroke: #383838; stroke-width: 1.5;\" width=\"50\" x=\"32\" y=\"41\"/><text fill=\"#000000\" font-family=\"sans-serif\" font-size=\"12\" font-style=\"italic\" lengthAdjust=\"spacingAndGlyphs\" textLength=\"40\" x=\"37\" y=\"57.1387\">«part»</text><text fill=\"#000000\" font-family=\"sans-serif\" font-size=\"12\" lengthAdjust=\"spacingAndGlyphs\" textLength=\"40\" x=\"35\" y=\"71.1074\">p2: P1</text><line style=\"stroke: #383838; stroke-width: 1.5;\" x1=\"33\" x2=\"81\" y1=\"78.9375\" y2=\"78.9375\"/></a><!--MD5=[b9389687b975829384b498ac4b7476b2]\n",
       "class E8--><a href=\"psysml:10820d16-405d-40a2-9551-06e34552661e\" target=\"_top\" title=\"psysml:10820d16-405d-40a2-9551-06e34552661e\" xlink:actuate=\"onRequest\" xlink:href=\"psysml:10820d16-405d-40a2-9551-06e34552661e\" xlink:show=\"new\" xlink:title=\"psysml:10820d16-405d-40a2-9551-06e34552661e\" xlink:type=\"simple\"><rect fill=\"#FFFFFF\" height=\"45.9375\" id=\"E8\" rx=\"10\" ry=\"10\" style=\"stroke: #383838; stroke-width: 1.5;\" width=\"42\" x=\"65\" y=\"253\"/><text fill=\"#000000\" font-family=\"sans-serif\" font-size=\"12\" font-style=\"italic\" lengthAdjust=\"spacingAndGlyphs\" textLength=\"40\" x=\"66\" y=\"269.1387\">«port»</text><text fill=\"#000000\" font-family=\"sans-serif\" font-size=\"12\" lengthAdjust=\"spacingAndGlyphs\" textLength=\"36\" x=\"68\" y=\"283.1074\">pdest</text><line style=\"stroke: #383838; stroke-width: 1.5;\" x1=\"66\" x2=\"106\" y1=\"290.9375\" y2=\"290.9375\"/></a><!--MD5=[4672eba38e49728da53d11aeb285b987]\n",
       "reverse link E3 to E4--><a href=\"psysml:8e3ccc77-0a8c-4c0b-a5d7-07a6acaf5014\" target=\"_top\" title=\"psysml:8e3ccc77-0a8c-4c0b-a5d7-07a6acaf5014\" xlink:actuate=\"onRequest\" xlink:href=\"psysml:8e3ccc77-0a8c-4c0b-a5d7-07a6acaf5014\" xlink:show=\"new\" xlink:title=\"psysml:8e3ccc77-0a8c-4c0b-a5d7-07a6acaf5014\" xlink:type=\"simple\"><path d=\"M192.84,206.44 C191.7,221.87 192.21,239.47 194.36,252.98 \" fill=\"none\" id=\"E3&lt;-E4\" style=\"stroke: #383838; stroke-width: 1.0;\"/><polygon fill=\"#FFFFFF\" points=\"194.35,193.06,189.7032,198.5743,193.006,204.9845,197.6528,199.4702,194.35,193.06\" style=\"stroke: #383838; stroke-width: 1.0;\"/><text fill=\"#000000\" font-family=\"sans-serif\" font-size=\"13\" lengthAdjust=\"spacingAndGlyphs\" textLength=\"8\" x=\"182.4255\" y=\"241.8709\">1</text></a><!--MD5=[4672eba38e49728da53d11aeb285b987]\n",
       "reverse link E3 to E4--><a href=\"psysml:408c218d-2c50-4f10-8495-de57c6cccdaf\" target=\"_top\" title=\"psysml:408c218d-2c50-4f10-8495-de57c6cccdaf\" xlink:actuate=\"onRequest\" xlink:href=\"psysml:408c218d-2c50-4f10-8495-de57c6cccdaf\" xlink:show=\"new\" xlink:title=\"psysml:408c218d-2c50-4f10-8495-de57c6cccdaf\" xlink:type=\"simple\"><path d=\"M218.01,208.34 C219.03,223.3 218.45,240.02 216.27,252.98 \" fill=\"none\" id=\"E3&lt;-E4-1\" style=\"stroke: #383838; stroke-width: 1.0; stroke-dasharray: 7.0,7.0;\"/><ellipse cx=\"217.1693\" cy=\"201.0093\" fill=\"#FFFFFF\" rx=\"8\" ry=\"8\" style=\"stroke: #383838; stroke-width: 1.0;\"/><line style=\"stroke: #383838; stroke-width: 1.0;\" x1=\"218.0687\" x2=\"216.27\" y1=\"208.9586\" y2=\"193.06\"/><line style=\"stroke: #383838; stroke-width: 1.0;\" x1=\"209.2201\" x2=\"225.1186\" y1=\"201.9086\" y2=\"200.1099\"/><text fill=\"#000000\" font-family=\"sans-serif\" font-size=\"13\" lengthAdjust=\"spacingAndGlyphs\" textLength=\"8\" x=\"210.2238\" y=\"241.8709\">1</text></a><!--MD5=[e9be52314489bd878ff4c7144b63c9e1]\n",
       "link E5 to E3--><a href=\"psysml:39d7aa17-d9aa-4290-8253-e0b073366074\" target=\"_top\" title=\"psysml:39d7aa17-d9aa-4290-8253-e0b073366074\" xlink:actuate=\"onRequest\" xlink:href=\"psysml:39d7aa17-d9aa-4290-8253-e0b073366074\" xlink:show=\"new\" xlink:title=\"psysml:39d7aa17-d9aa-4290-8253-e0b073366074\" xlink:type=\"simple\"><path d=\"M155.36,87.06 C162.88,99.47 172.49,115.33 181.24,129.78 \" fill=\"none\" id=\"E5-&gt;E3\" style=\"stroke: #383838; stroke-width: 1.0;\"/><polygon fill=\"#FFFFFF\" points=\"191.66,146.98,175.8217,134.3646,187.792,127.1044,191.66,146.98\" style=\"stroke: #383838; stroke-width: 1.0;\"/><ellipse cx=\"174.5758\" cy=\"128.4538\" fill=\"#383838\" rx=\"2\" ry=\"2\" style=\"stroke: #383838; stroke-width: 1.0;\"/><ellipse cx=\"183.126\" cy=\"123.2679\" fill=\"#383838\" rx=\"2\" ry=\"2\" style=\"stroke: #383838; stroke-width: 1.0;\"/></a><!--MD5=[85d356282659285ab4b2cfe2f634dd2b]\n",
       "reverse link E5 to E6--><a href=\"psysml:0602bff9-807d-4c23-b932-30af011e0640\" target=\"_top\" title=\"psysml:0602bff9-807d-4c23-b932-30af011e0640\" xlink:actuate=\"onRequest\" xlink:href=\"psysml:0602bff9-807d-4c23-b932-30af011e0640\" xlink:show=\"new\" xlink:title=\"psysml:0602bff9-807d-4c23-b932-30af011e0640\" xlink:type=\"simple\"><path d=\"M132.59,99.96 C128.4,115.51 123.6,133.33 119.93,146.98 \" fill=\"none\" id=\"E5&lt;-E6\" style=\"stroke: #383838; stroke-width: 1.0;\"/><polygon fill=\"#FFFFFF\" points=\"136.06,87.06,130.641,91.8176,132.9484,98.6496,138.3674,93.892,136.06,87.06\" style=\"stroke: #383838; stroke-width: 1.0;\"/><text fill=\"#000000\" font-family=\"sans-serif\" font-size=\"13\" lengthAdjust=\"spacingAndGlyphs\" textLength=\"8\" x=\"112.4487\" y=\"135.8709\">1</text></a><!--MD5=[f667431f98296947986a1a7595a31603]\n",
       "link E6 to E4--><a href=\"psysml:5ed5dee3-04af-484b-a73a-bf3d62fb0484\" target=\"_top\" title=\"psysml:5ed5dee3-04af-484b-a73a-bf3d62fb0484\" xlink:actuate=\"onRequest\" xlink:href=\"psysml:5ed5dee3-04af-484b-a73a-bf3d62fb0484\" xlink:show=\"new\" xlink:title=\"psysml:5ed5dee3-04af-484b-a73a-bf3d62fb0484\" xlink:type=\"simple\"><path d=\"M133.3,193.06 C144.64,206.02 159.28,222.74 172.36,237.7 \" fill=\"none\" id=\"E6-&gt;E4\" style=\"stroke: #383838; stroke-width: 1.0;\"/><polygon fill=\"#FFFFFF\" points=\"185.73,252.98,167.9517,243.2882,178.489,234.0705,185.73,252.98\" style=\"stroke: #383838; stroke-width: 1.0;\"/><line style=\"stroke: #383838; stroke-width: 2.0;\" x1=\"165.4497\" x2=\"175.9871\" y1=\"240.4281\" y2=\"231.2104\"/></a><!--MD5=[14ccda38c055a5c0da953d572bc50960]\n",
       "link E7 to E3--><a href=\"psysml:6afc3f94-967f-4ac8-9c89-c7c9ad6aa496\" target=\"_top\" title=\"psysml:6afc3f94-967f-4ac8-9c89-c7c9ad6aa496\" xlink:actuate=\"onRequest\" xlink:href=\"psysml:6afc3f94-967f-4ac8-9c89-c7c9ad6aa496\" xlink:show=\"new\" xlink:title=\"psysml:6afc3f94-967f-4ac8-9c89-c7c9ad6aa496\" xlink:type=\"simple\"><path d=\"M82.11,82.64 C102.61,97.05 132.18,117.83 157.18,135.39 \" fill=\"none\" id=\"E7-&gt;E3\" style=\"stroke: #383838; stroke-width: 1.0;\"/><polygon fill=\"#FFFFFF\" points=\"173.58,146.92,154.011,141.7187,162.0629,130.266,173.58,146.92\" style=\"stroke: #383838; stroke-width: 1.0;\"/><ellipse cx=\"150.4983\" cy=\"136.8043\" fill=\"#383838\" rx=\"2\" ry=\"2\" style=\"stroke: #383838; stroke-width: 1.0;\"/><ellipse cx=\"156.2497\" cy=\"128.6238\" fill=\"#383838\" rx=\"2\" ry=\"2\" style=\"stroke: #383838; stroke-width: 1.0;\"/></a><!--MD5=[dc164f5e8a733ab456ef1add180e9e34]\n",
       "reverse link E7 to E8--><a href=\"psysml:9a63abc5-83ea-4d36-8ec2-a9e5009e1a31\" target=\"_top\" title=\"psysml:9a63abc5-83ea-4d36-8ec2-a9e5009e1a31\" xlink:actuate=\"onRequest\" xlink:href=\"psysml:9a63abc5-83ea-4d36-8ec2-a9e5009e1a31\" xlink:show=\"new\" xlink:title=\"psysml:9a63abc5-83ea-4d36-8ec2-a9e5009e1a31\" xlink:type=\"simple\"><path d=\"M52.05,100.09 C53.65,143.61 64.25,216.5 74.75,252.9 \" fill=\"none\" id=\"E7&lt;-E8\" style=\"stroke: #383838; stroke-width: 1.0;\"/><polygon fill=\"#FFFFFF\" points=\"51.85,87.08,47.9362,93.1366,52.0216,99.0788,55.9354,93.0222,51.85,87.08\" style=\"stroke: #383838; stroke-width: 1.0;\"/><text fill=\"#000000\" font-family=\"sans-serif\" font-size=\"13\" lengthAdjust=\"spacingAndGlyphs\" textLength=\"8\" x=\"62.6516\" y=\"241.7694\">1</text></a><!--MD5=[dc164f5e8a733ab456ef1add180e9e34]\n",
       "reverse link E7 to E8--><a href=\"psysml:af85dbb9-a19a-4dbd-bd41-700a2e1e88fd\" target=\"_top\" title=\"psysml:af85dbb9-a19a-4dbd-bd41-700a2e1e88fd\" xlink:actuate=\"onRequest\" xlink:href=\"psysml:af85dbb9-a19a-4dbd-bd41-700a2e1e88fd\" xlink:show=\"new\" xlink:title=\"psysml:af85dbb9-a19a-4dbd-bd41-700a2e1e88fd\" xlink:type=\"simple\"><path d=\"M72.64,101.8 C83.15,145.5 92.39,216.97 91.63,252.9 \" fill=\"none\" id=\"E7&lt;-E8-1\" style=\"stroke: #383838; stroke-width: 1.0; stroke-dasharray: 7.0,7.0;\"/><ellipse cx=\"70.7794\" cy=\"94.813\" fill=\"#FFFFFF\" rx=\"8\" ry=\"8\" style=\"stroke: #383838; stroke-width: 1.0;\"/><line style=\"stroke: #383838; stroke-width: 1.0;\" x1=\"72.8289\" x2=\"68.73\" y1=\"102.5461\" y2=\"87.08\"/><line style=\"stroke: #383838; stroke-width: 1.0;\" x1=\"63.0464\" x2=\"78.5125\" y1=\"96.8625\" y2=\"92.7636\"/><text fill=\"#000000\" font-family=\"sans-serif\" font-size=\"13\" lengthAdjust=\"spacingAndGlyphs\" textLength=\"8\" x=\"94.2181\" y=\"241.7694\">1</text></a><!--MD5=[0a839d0f80c2d72d4b9b307f046d0de8]\n",
       "link E6 to E8--><a href=\"psysml:ee24455c-c65b-41eb-8958-74c54e28cd84\" target=\"_top\" title=\"psysml:ee24455c-c65b-41eb-8958-74c54e28cd84\" xlink:actuate=\"onRequest\" xlink:href=\"psysml:ee24455c-c65b-41eb-8958-74c54e28cd84\" xlink:show=\"new\" xlink:title=\"psysml:ee24455c-c65b-41eb-8958-74c54e28cd84\" xlink:type=\"simple\"><path d=\"M97.42,193.06 C89.86,210.7 83.23,235.34 81.29,252.98 \" fill=\"none\" id=\"E6-E8\" style=\"stroke: #383838; stroke-width: 3.0;\"/><text fill=\"#000000\" font-family=\"sans-serif\" font-size=\"13\" lengthAdjust=\"spacingAndGlyphs\" textLength=\"7\" x=\"80.9648\" y=\"241.8709\">*</text></a><!--MD5=[0a839d0f80c2d72d4b9b307f046d0de8]\n",
       "link E6 to E8--><a href=\"psysml:1d0a5b52-6a4c-4cbe-b03e-99be5638e392\" target=\"_top\" title=\"psysml:1d0a5b52-6a4c-4cbe-b03e-99be5638e392\" xlink:actuate=\"onRequest\" xlink:href=\"psysml:1d0a5b52-6a4c-4cbe-b03e-99be5638e392\" xlink:show=\"new\" xlink:title=\"psysml:1d0a5b52-6a4c-4cbe-b03e-99be5638e392\" xlink:type=\"simple\"><path d=\"M119.33,193.06 C117.55,210.7 110.92,235.34 103.2,252.98 \" fill=\"none\" id=\"E6-E8-1\" style=\"stroke: #383838; stroke-width: 3.0;\"/><text fill=\"#000000\" font-family=\"sans-serif\" font-size=\"13\" lengthAdjust=\"spacingAndGlyphs\" textLength=\"7\" x=\"99.8819\" y=\"241.8709\">*</text></a><!--MD5=[8de1bcd09ac5da868751f654df2b9711]\n",
       "@startuml\r\n",
       "skinparam linetype polyline\r\n",
       "skinparam monochrome true\r\n",
       "skinparam classbackgroundcolor white\r\n",
       "skinparam shadowing false\r\n",
       "skinparam wrapWidth 300\r\n",
       "hide circle\r\n",
       "\r\n",
       "package \"AliasTest\" as E1  [[psysml:dccc75fb-db16-4804-85cb-688c27ce5ff3 ]]  {\r\n",
       "comp usage \"q :> Quantities::tensorQuantities\" as E2  <<(T,blue) attribute>> [[psysml:ce72622b-28d6-4d09-bee8-b5dd20a40a54 ]] {\r\n",
       "}\r\n",
       "comp def \"P1\" as E3  <<(T,blue) part  def>> [[psysml:61eb2658-da6c-419b-a94e-058b00326cab ]] {\r\n",
       "}\r\n",
       "comp usage \"porig1\" as E4  <<(T,blue) port>> [[psysml:9ae2babd-6d67-4765-bfe5-8d775f3bcf42 ]] {\r\n",
       "}\r\n",
       "comp usage \"p1: P1 \" as E5  <<(T,blue) part>> [[psysml:11b2a6df-aab5-4dc5-a120-8a7b1f52b05c ]] {\r\n",
       "}\r\n",
       "comp usage \"po1\" as E6  <<(T,blue) port>> [[psysml:a231442e-2600-41cf-892c-df88027eb505 ]] {\r\n",
       "}\r\n",
       "comp usage \"p2: P1 \" as E7  <<(T,blue) part>> [[psysml:2c2598c5-3ef5-4f1d-ae32-f3d429fa4c2f ]] {\r\n",
       "}\r\n",
       "comp usage \"pdest\" as E8  <<(T,blue) port>> [[psysml:10820d16-405d-40a2-9551-06e34552661e ]] {\r\n",
       "}\r\n",
       "}\r\n",
       "E3 o- - \"1\"E4 [[psysml:8e3ccc77-0a8c-4c0b-a5d7-07a6acaf5014 ]] \r\n",
       "E3 +.. \"1\"E4 [[psysml:408c218d-2c50-4f10-8495-de57c6cccdaf ]] \r\n",
       "E5 - -:|> E3 [[psysml:39d7aa17-d9aa-4290-8253-e0b073366074 ]] \r\n",
       "E5 o- - \"1\"E6 [[psysml:0602bff9-807d-4c23-b932-30af011e0640 ]] \r\n",
       "E6 - -||> E4 [[psysml:5ed5dee3-04af-484b-a73a-bf3d62fb0484 ]] \r\n",
       "E7 - -:|> E3 [[psysml:6afc3f94-967f-4ac8-9c89-c7c9ad6aa496 ]] \r\n",
       "E7 o- - \"1\"E8 [[psysml:9a63abc5-83ea-4d36-8ec2-a9e5009e1a31 ]] \r\n",
       "E7 +.. \"1\"E8 [[psysml:af85dbb9-a19a-4dbd-bd41-700a2e1e88fd ]] \r\n",
       "E6 -[thickness=3]- \"*\"E8 [[psysml:ee24455c-c65b-41eb-8958-74c54e28cd84 ]] \r\n",
       "E6 -[thickness=3]- \"*\"E8 [[psysml:1d0a5b52-6a4c-4cbe-b03e-99be5638e392 ]] \r\n",
       "@enduml\r\n",
       "\n",
       "PlantUML version 1.2020.13(Sat Jun 13 12:26:38 UTC 2020)\n",
       "(EPL source distribution)\n",
       "Java Runtime: OpenJDK Runtime Environment\n",
       "JVM: OpenJDK 64-Bit Server VM\n",
       "Default Encoding: UTF-8\n",
       "Language: en\n",
       "Country: null\n",
       "--></g></svg>"
      ]
     },
     "execution_count": 15,
     "metadata": {},
     "output_type": "execute_result"
    }
   ],
   "source": [
    "%viz --style=\"POLYLINE\" --view=\"MIXED\" \"AliasTest\""
   ]
  },
  {
   "cell_type": "code",
   "execution_count": 16,
   "id": "e40e814a",
   "metadata": {
    "execution": {
     "iopub.execute_input": "2021-10-25T08:23:52.983478Z",
     "iopub.status.busy": "2021-10-25T08:23:52.983034Z",
     "iopub.status.idle": "2021-10-25T08:23:53.030649Z",
     "shell.execute_reply": "2021-10-25T08:23:53.030263Z"
    }
   },
   "outputs": [
    {
     "data": {
      "image/svg+xml": [
       "<?xml version=\"1.0\" encoding=\"UTF-8\" standalone=\"no\"?><svg xmlns=\"http://www.w3.org/2000/svg\" xmlns:xlink=\"http://www.w3.org/1999/xlink\" contentScriptType=\"application/ecmascript\" contentStyleType=\"text/css\" height=\"277px\" preserveAspectRatio=\"none\" style=\"width:519px;height:277px;\" version=\"1.1\" viewBox=\"0 0 519 277\" width=\"519px\" zoomAndPan=\"magnify\"><defs/><g><!--MD5=[fbc87193dbaf4d95561dea2c320d4a47]\n",
       "cluster E1--><a href=\"psysml:dccc75fb-db16-4804-85cb-688c27ce5ff3\" target=\"_top\" title=\"psysml:dccc75fb-db16-4804-85cb-688c27ce5ff3\" xlink:actuate=\"onRequest\" xlink:href=\"psysml:dccc75fb-db16-4804-85cb-688c27ce5ff3\" xlink:show=\"new\" xlink:title=\"psysml:dccc75fb-db16-4804-85cb-688c27ce5ff3\" xlink:type=\"simple\"><polygon fill=\"#FFFFFF\" points=\"16,6,84,6,91,28.2969,497,28.2969,497,265,16,265,16,6\" style=\"stroke: #000000; stroke-width: 1.5;\"/><line style=\"stroke: #000000; stroke-width: 1.5;\" x1=\"16\" x2=\"91\" y1=\"28.2969\" y2=\"28.2969\"/><text fill=\"#000000\" font-family=\"sans-serif\" font-size=\"14\" font-weight=\"bold\" lengthAdjust=\"spacingAndGlyphs\" textLength=\"62\" x=\"20\" y=\"20.9951\">AliasTest</text></a><!--MD5=[b4997ac47864f28c2f74865a473b2911]\n",
       "class E2--><a href=\"psysml:ce72622b-28d6-4d09-bee8-b5dd20a40a54\" target=\"_top\" title=\"psysml:ce72622b-28d6-4d09-bee8-b5dd20a40a54\" xlink:actuate=\"onRequest\" xlink:href=\"psysml:ce72622b-28d6-4d09-bee8-b5dd20a40a54\" xlink:show=\"new\" xlink:title=\"psysml:ce72622b-28d6-4d09-bee8-b5dd20a40a54\" xlink:type=\"simple\"><rect fill=\"#FFFFFF\" height=\"45.9375\" id=\"E2\" rx=\"10\" ry=\"10\" style=\"stroke: #383838; stroke-width: 1.5;\" width=\"213\" x=\"32\" y=\"41\"/><text fill=\"#000000\" font-family=\"sans-serif\" font-size=\"12\" font-style=\"italic\" lengthAdjust=\"spacingAndGlyphs\" textLength=\"69\" x=\"104\" y=\"57.1387\">«attribute»</text><text fill=\"#000000\" font-family=\"sans-serif\" font-size=\"12\" lengthAdjust=\"spacingAndGlyphs\" textLength=\"207\" x=\"35\" y=\"71.1074\">q :&gt; Quantities::tensorQuantities</text><line style=\"stroke: #383838; stroke-width: 1.5;\" x1=\"33\" x2=\"244\" y1=\"78.9375\" y2=\"78.9375\"/></a><!--MD5=[09b614a08d8cba4a07c9adeb5e0fee81]\n",
       "class E3--><a href=\"psysml:61eb2658-da6c-419b-a94e-058b00326cab\" target=\"_top\" title=\"psysml:61eb2658-da6c-419b-a94e-058b00326cab\" xlink:actuate=\"onRequest\" xlink:href=\"psysml:61eb2658-da6c-419b-a94e-058b00326cab\" xlink:show=\"new\" xlink:title=\"psysml:61eb2658-da6c-419b-a94e-058b00326cab\" xlink:type=\"simple\"><rect fill=\"#FFFFFF\" height=\"45.9375\" id=\"E3\" style=\"stroke: #383838; stroke-width: 1.5;\" width=\"70\" x=\"305\" y=\"63\"/><text fill=\"#000000\" font-family=\"sans-serif\" font-size=\"12\" font-style=\"italic\" lengthAdjust=\"spacingAndGlyphs\" textLength=\"68\" x=\"306\" y=\"79.1387\">«part  def»</text><text fill=\"#000000\" font-family=\"sans-serif\" font-size=\"12\" lengthAdjust=\"spacingAndGlyphs\" textLength=\"16\" x=\"332\" y=\"93.1074\">P1</text><line style=\"stroke: #383838; stroke-width: 1.5;\" x1=\"306\" x2=\"374\" y1=\"100.9375\" y2=\"100.9375\"/></a><!--MD5=[ebbe1d658d1005bcc118a6aa81145e00]\n",
       "class E4--><a href=\"psysml:9ae2babd-6d67-4765-bfe5-8d775f3bcf42\" target=\"_top\" title=\"psysml:9ae2babd-6d67-4765-bfe5-8d775f3bcf42\" xlink:actuate=\"onRequest\" xlink:href=\"psysml:9ae2babd-6d67-4765-bfe5-8d775f3bcf42\" xlink:show=\"new\" xlink:title=\"psysml:9ae2babd-6d67-4765-bfe5-8d775f3bcf42\" xlink:type=\"simple\"><rect fill=\"#FFFFFF\" height=\"45.9375\" id=\"E4\" rx=\"10\" ry=\"10\" style=\"stroke: #383838; stroke-width: 1.5;\" width=\"46\" x=\"435\" y=\"63\"/><text fill=\"#000000\" font-family=\"sans-serif\" font-size=\"12\" font-style=\"italic\" lengthAdjust=\"spacingAndGlyphs\" textLength=\"40\" x=\"438\" y=\"79.1387\">«port»</text><text fill=\"#000000\" font-family=\"sans-serif\" font-size=\"12\" lengthAdjust=\"spacingAndGlyphs\" textLength=\"40\" x=\"438\" y=\"93.1074\">porig1</text><line style=\"stroke: #383838; stroke-width: 1.5;\" x1=\"436\" x2=\"480\" y1=\"100.9375\" y2=\"100.9375\"/></a><!--MD5=[270fce915f116d4de14055a7c1d9a0f3]\n",
       "class E5--><a href=\"psysml:11b2a6df-aab5-4dc5-a120-8a7b1f52b05c\" target=\"_top\" title=\"psysml:11b2a6df-aab5-4dc5-a120-8a7b1f52b05c\" xlink:actuate=\"onRequest\" xlink:href=\"psysml:11b2a6df-aab5-4dc5-a120-8a7b1f52b05c\" xlink:show=\"new\" xlink:title=\"psysml:11b2a6df-aab5-4dc5-a120-8a7b1f52b05c\" xlink:type=\"simple\"><rect fill=\"#FFFFFF\" height=\"45.9375\" id=\"E5\" rx=\"10\" ry=\"10\" style=\"stroke: #383838; stroke-width: 1.5;\" width=\"50\" x=\"113.5\" y=\"122\"/><text fill=\"#000000\" font-family=\"sans-serif\" font-size=\"12\" font-style=\"italic\" lengthAdjust=\"spacingAndGlyphs\" textLength=\"40\" x=\"118.5\" y=\"138.1387\">«part»</text><text fill=\"#000000\" font-family=\"sans-serif\" font-size=\"12\" lengthAdjust=\"spacingAndGlyphs\" textLength=\"40\" x=\"116.5\" y=\"152.1074\">p1: P1</text><line style=\"stroke: #383838; stroke-width: 1.5;\" x1=\"114.5\" x2=\"162.5\" y1=\"159.9375\" y2=\"159.9375\"/></a><!--MD5=[60a26617385b1d2d0262a64233df1f8d]\n",
       "class E6--><a href=\"psysml:a231442e-2600-41cf-892c-df88027eb505\" target=\"_top\" title=\"psysml:a231442e-2600-41cf-892c-df88027eb505\" xlink:actuate=\"onRequest\" xlink:href=\"psysml:a231442e-2600-41cf-892c-df88027eb505\" xlink:show=\"new\" xlink:title=\"psysml:a231442e-2600-41cf-892c-df88027eb505\" xlink:type=\"simple\"><rect fill=\"#FFFFFF\" height=\"45.9375\" id=\"E6\" rx=\"10\" ry=\"10\" style=\"stroke: #383838; stroke-width: 1.5;\" width=\"42\" x=\"319\" y=\"144\"/><text fill=\"#000000\" font-family=\"sans-serif\" font-size=\"12\" font-style=\"italic\" lengthAdjust=\"spacingAndGlyphs\" textLength=\"40\" x=\"320\" y=\"160.1387\">«port»</text><text fill=\"#000000\" font-family=\"sans-serif\" font-size=\"12\" lengthAdjust=\"spacingAndGlyphs\" textLength=\"24\" x=\"328\" y=\"174.1074\">po1</text><line style=\"stroke: #383838; stroke-width: 1.5;\" x1=\"320\" x2=\"360\" y1=\"181.9375\" y2=\"181.9375\"/></a><!--MD5=[2156ba9850f5573cc1fc38a6a4b2f02b]\n",
       "class E7--><a href=\"psysml:2c2598c5-3ef5-4f1d-ae32-f3d429fa4c2f\" target=\"_top\" title=\"psysml:2c2598c5-3ef5-4f1d-ae32-f3d429fa4c2f\" xlink:actuate=\"onRequest\" xlink:href=\"psysml:2c2598c5-3ef5-4f1d-ae32-f3d429fa4c2f\" xlink:show=\"new\" xlink:title=\"psysml:2c2598c5-3ef5-4f1d-ae32-f3d429fa4c2f\" xlink:type=\"simple\"><rect fill=\"#FFFFFF\" height=\"45.9375\" id=\"E7\" rx=\"10\" ry=\"10\" style=\"stroke: #383838; stroke-width: 1.5;\" width=\"50\" x=\"113.5\" y=\"203\"/><text fill=\"#000000\" font-family=\"sans-serif\" font-size=\"12\" font-style=\"italic\" lengthAdjust=\"spacingAndGlyphs\" textLength=\"40\" x=\"118.5\" y=\"219.1387\">«part»</text><text fill=\"#000000\" font-family=\"sans-serif\" font-size=\"12\" lengthAdjust=\"spacingAndGlyphs\" textLength=\"40\" x=\"116.5\" y=\"233.1074\">p2: P1</text><line style=\"stroke: #383838; stroke-width: 1.5;\" x1=\"114.5\" x2=\"162.5\" y1=\"240.9375\" y2=\"240.9375\"/></a><!--MD5=[b9389687b975829384b498ac4b7476b2]\n",
       "class E8--><a href=\"psysml:10820d16-405d-40a2-9551-06e34552661e\" target=\"_top\" title=\"psysml:10820d16-405d-40a2-9551-06e34552661e\" xlink:actuate=\"onRequest\" xlink:href=\"psysml:10820d16-405d-40a2-9551-06e34552661e\" xlink:show=\"new\" xlink:title=\"psysml:10820d16-405d-40a2-9551-06e34552661e\" xlink:type=\"simple\"><rect fill=\"#FFFFFF\" height=\"45.9375\" id=\"E8\" rx=\"10\" ry=\"10\" style=\"stroke: #383838; stroke-width: 1.5;\" width=\"42\" x=\"437\" y=\"173\"/><text fill=\"#000000\" font-family=\"sans-serif\" font-size=\"12\" font-style=\"italic\" lengthAdjust=\"spacingAndGlyphs\" textLength=\"40\" x=\"438\" y=\"189.1387\">«port»</text><text fill=\"#000000\" font-family=\"sans-serif\" font-size=\"12\" lengthAdjust=\"spacingAndGlyphs\" textLength=\"36\" x=\"440\" y=\"203.1074\">pdest</text><line style=\"stroke: #383838; stroke-width: 1.5;\" x1=\"438\" x2=\"478\" y1=\"210.9375\" y2=\"210.9375\"/></a><!--MD5=[4672eba38e49728da53d11aeb285b987]\n",
       "reverse link E3 to E4--><a href=\"psysml:8e3ccc77-0a8c-4c0b-a5d7-07a6acaf5014\" target=\"_top\" title=\"psysml:8e3ccc77-0a8c-4c0b-a5d7-07a6acaf5014\" xlink:actuate=\"onRequest\" xlink:href=\"psysml:8e3ccc77-0a8c-4c0b-a5d7-07a6acaf5014\" xlink:show=\"new\" xlink:title=\"psysml:8e3ccc77-0a8c-4c0b-a5d7-07a6acaf5014\" xlink:type=\"simple\"><path d=\"M388.3,98.56 C404.38,99.15 421.6,98.39 434.77,96.29 \" fill=\"none\" id=\"E3&lt;-E4\" style=\"stroke: #383838; stroke-width: 1.0;\"/><polygon fill=\"#FFFFFF\" points=\"375.18,97.74,380.9227,102.1014,387.1573,98.4779,381.4146,94.1165,375.18,97.74\" style=\"stroke: #383838; stroke-width: 1.0;\"/><text fill=\"#000000\" font-family=\"sans-serif\" font-size=\"13\" lengthAdjust=\"spacingAndGlyphs\" textLength=\"8\" x=\"419.1116\" y=\"113.3878\">1</text></a><!--MD5=[4672eba38e49728da53d11aeb285b987]\n",
       "reverse link E3 to E4--><a href=\"psysml:408c218d-2c50-4f10-8495-de57c6cccdaf\" target=\"_top\" title=\"psysml:408c218d-2c50-4f10-8495-de57c6cccdaf\" xlink:actuate=\"onRequest\" xlink:href=\"psysml:408c218d-2c50-4f10-8495-de57c6cccdaf\" xlink:show=\"new\" xlink:title=\"psysml:408c218d-2c50-4f10-8495-de57c6cccdaf\" xlink:type=\"simple\"><path d=\"M390.24,72.64 C405.75,72.15 422.12,72.97 434.77,75.11 \" fill=\"none\" id=\"E3&lt;-E4-1\" style=\"stroke: #383838; stroke-width: 1.0; stroke-dasharray: 7.0,7.0;\"/><ellipse cx=\"383.1647\" cy=\"73.0748\" fill=\"#FFFFFF\" rx=\"8\" ry=\"8\" style=\"stroke: #383838; stroke-width: 1.0;\"/><line style=\"stroke: #383838; stroke-width: 1.0;\" x1=\"391.1493\" x2=\"375.18\" y1=\"72.5795\" y2=\"73.57\"/><line style=\"stroke: #383838; stroke-width: 1.0;\" x1=\"383.6599\" x2=\"382.6694\" y1=\"81.0594\" y2=\"65.0901\"/><text fill=\"#000000\" font-family=\"sans-serif\" font-size=\"13\" lengthAdjust=\"spacingAndGlyphs\" textLength=\"8\" x=\"419.1116\" y=\"86.2509\">1</text></a><!--MD5=[e9be52314489bd878ff4c7144b63c9e1]\n",
       "link E5 to E3--><a href=\"psysml:39d7aa17-d9aa-4290-8253-e0b073366074\" target=\"_top\" title=\"psysml:39d7aa17-d9aa-4290-8253-e0b073366074\" xlink:actuate=\"onRequest\" xlink:href=\"psysml:39d7aa17-d9aa-4290-8253-e0b073366074\" xlink:show=\"new\" xlink:title=\"psysml:39d7aa17-d9aa-4290-8253-e0b073366074\" xlink:type=\"simple\"><path d=\"M163.56,137.88 C193.57,129.01 245.74,113.58 285.41,101.85 \" fill=\"none\" id=\"E5-&gt;E3\" style=\"stroke: #383838; stroke-width: 1.0;\"/><polygon fill=\"#FFFFFF\" points=\"304.84,96.1,288.6038,108.199,284.6351,94.7733,304.84,96.1\" style=\"stroke: #383838; stroke-width: 1.0;\"/><ellipse cx=\"282.5706\" cy=\"107.8969\" fill=\"#383838\" rx=\"2\" ry=\"2\" style=\"stroke: #383838; stroke-width: 1.0;\"/><ellipse cx=\"279.7358\" cy=\"98.3071\" fill=\"#383838\" rx=\"2\" ry=\"2\" style=\"stroke: #383838; stroke-width: 1.0;\"/></a><!--MD5=[85d356282659285ab4b2cfe2f634dd2b]\n",
       "reverse link E5 to E6--><a href=\"psysml:0602bff9-807d-4c23-b932-30af011e0640\" target=\"_top\" title=\"psysml:0602bff9-807d-4c23-b932-30af011e0640\" xlink:actuate=\"onRequest\" xlink:href=\"psysml:0602bff9-807d-4c23-b932-30af011e0640\" xlink:show=\"new\" xlink:title=\"psysml:0602bff9-807d-4c23-b932-30af011e0640\" xlink:type=\"simple\"><path d=\"M176.5,149.08 C218.48,153.71 285.42,161.09 318.76,164.77 \" fill=\"none\" id=\"E5&lt;-E6\" style=\"stroke: #383838; stroke-width: 1.0;\"/><polygon fill=\"#FFFFFF\" points=\"163.56,147.65,169.0889,152.2794,175.4887,148.9563,169.9598,144.3269,163.56,147.65\" style=\"stroke: #383838; stroke-width: 1.0;\"/><text fill=\"#000000\" font-family=\"sans-serif\" font-size=\"13\" lengthAdjust=\"spacingAndGlyphs\" textLength=\"8\" x=\"303.0302\" y=\"178.4807\">1</text></a><!--MD5=[f667431f98296947986a1a7595a31603]\n",
       "link E6 to E4--><a href=\"psysml:5ed5dee3-04af-484b-a73a-bf3d62fb0484\" target=\"_top\" title=\"psysml:5ed5dee3-04af-484b-a73a-bf3d62fb0484\" xlink:actuate=\"onRequest\" xlink:href=\"psysml:5ed5dee3-04af-484b-a73a-bf3d62fb0484\" xlink:show=\"new\" xlink:title=\"psysml:5ed5dee3-04af-484b-a73a-bf3d62fb0484\" xlink:type=\"simple\"><path d=\"M361.21,152.89 C376.83,141.98 398.94,126.54 417.98,113.25 \" fill=\"none\" id=\"E6-&gt;E4\" style=\"stroke: #383838; stroke-width: 1.0;\"/><polygon fill=\"#FFFFFF\" points=\"434.65,101.61,423.0735,118.2228,415.0625,106.7414,434.65,101.61\" style=\"stroke: #383838; stroke-width: 1.0;\"/><line style=\"stroke: #383838; stroke-width: 2.0;\" x1=\"419.9571\" x2=\"411.9461\" y1=\"120.3972\" y2=\"108.9158\"/></a><!--MD5=[14ccda38c055a5c0da953d572bc50960]\n",
       "link E7 to E3--><a href=\"psysml:6afc3f94-967f-4ac8-9c89-c7c9ad6aa496\" target=\"_top\" title=\"psysml:6afc3f94-967f-4ac8-9c89-c7c9ad6aa496\" xlink:actuate=\"onRequest\" xlink:href=\"psysml:6afc3f94-967f-4ac8-9c89-c7c9ad6aa496\" xlink:show=\"new\" xlink:title=\"psysml:6afc3f94-967f-4ac8-9c89-c7c9ad6aa496\" xlink:type=\"simple\"><path d=\"M163.56,219.94 C185.94,213.57 219.54,202.08 245,185 C258.5,175.94 284.51,148.17 305.76,124.34 \" fill=\"none\" id=\"E7-&gt;E3\" style=\"stroke: #383838; stroke-width: 1.0;\"/><polygon fill=\"#FFFFFF\" points=\"319.17,109.12,311.8629,128.004,301.3579,118.7496,319.17,109.12\" style=\"stroke: #383838; stroke-width: 1.0;\"/><ellipse cx=\"306.5943\" cy=\"130.959\" fill=\"#383838\" rx=\"2\" ry=\"2\" style=\"stroke: #383838; stroke-width: 1.0;\"/><ellipse cx=\"299.0908\" cy=\"124.3487\" fill=\"#383838\" rx=\"2\" ry=\"2\" style=\"stroke: #383838; stroke-width: 1.0;\"/></a><!--MD5=[dc164f5e8a733ab456ef1add180e9e34]\n",
       "reverse link E7 to E8--><a href=\"psysml:9a63abc5-83ea-4d36-8ec2-a9e5009e1a31\" target=\"_top\" title=\"psysml:9a63abc5-83ea-4d36-8ec2-a9e5009e1a31\" xlink:actuate=\"onRequest\" xlink:href=\"psysml:9a63abc5-83ea-4d36-8ec2-a9e5009e1a31\" xlink:show=\"new\" xlink:title=\"psysml:9a63abc5-83ea-4d36-8ec2-a9e5009e1a31\" xlink:type=\"simple\"><path d=\"M176.85,235.51 C223.34,237.47 305.14,231.5 375,224 C396.14,221.73 420.24,218.41 436.82,212.73 \" fill=\"none\" id=\"E7&lt;-E8\" style=\"stroke: #383838; stroke-width: 1.0;\"/><polygon fill=\"#FFFFFF\" points=\"163.61,234.64,169.3332,239.0269,175.5839,235.4312,169.8607,231.0443,163.61,234.64\" style=\"stroke: #383838; stroke-width: 1.0;\"/><text fill=\"#000000\" font-family=\"sans-serif\" font-size=\"13\" lengthAdjust=\"spacingAndGlyphs\" textLength=\"8\" x=\"421.1086\" y=\"232.2472\">1</text></a><!--MD5=[dc164f5e8a733ab456ef1add180e9e34]\n",
       "reverse link E7 to E8--><a href=\"psysml:af85dbb9-a19a-4dbd-bd41-700a2e1e88fd\" target=\"_top\" title=\"psysml:af85dbb9-a19a-4dbd-bd41-700a2e1e88fd\" xlink:actuate=\"onRequest\" xlink:href=\"psysml:af85dbb9-a19a-4dbd-bd41-700a2e1e88fd\" xlink:show=\"new\" xlink:title=\"psysml:af85dbb9-a19a-4dbd-bd41-700a2e1e88fd\" xlink:type=\"simple\"><path d=\"M178.37,210.71 C225.1,202.34 305.9,196.42 375,189 C396.14,186.73 420.24,183.41 436.82,184.49 \" fill=\"none\" id=\"E7&lt;-E8-1\" style=\"stroke: #383838; stroke-width: 1.0; stroke-dasharray: 7.0,7.0;\"/><ellipse cx=\"171.4484\" cy=\"212.1203\" fill=\"#FFFFFF\" rx=\"8\" ry=\"8\" style=\"stroke: #383838; stroke-width: 1.0;\"/><line style=\"stroke: #383838; stroke-width: 1.0;\" x1=\"179.2869\" x2=\"163.61\" y1=\"210.5206\" y2=\"213.72\"/><line style=\"stroke: #383838; stroke-width: 1.0;\" x1=\"173.0481\" x2=\"169.8488\" y1=\"219.9588\" y2=\"204.2819\"/><text fill=\"#000000\" font-family=\"sans-serif\" font-size=\"13\" lengthAdjust=\"spacingAndGlyphs\" textLength=\"8\" x=\"421.1086\" y=\"175.765\">1</text></a><!--MD5=[0a839d0f80c2d72d4b9b307f046d0de8]\n",
       "link E6 to E8--><a href=\"psysml:ee24455c-c65b-41eb-8958-74c54e28cd84\" target=\"_top\" title=\"psysml:ee24455c-c65b-41eb-8958-74c54e28cd84\" xlink:actuate=\"onRequest\" xlink:href=\"psysml:ee24455c-c65b-41eb-8958-74c54e28cd84\" xlink:show=\"new\" xlink:title=\"psysml:ee24455c-c65b-41eb-8958-74c54e28cd84\" xlink:type=\"simple\"><path d=\"M361.21,182 C382.37,191.02 415.42,199.29 436.64,200.89 \" fill=\"none\" id=\"E6-E8\" style=\"stroke: #383838; stroke-width: 3.0;\"/><text fill=\"#000000\" font-family=\"sans-serif\" font-size=\"13\" lengthAdjust=\"spacingAndGlyphs\" textLength=\"7\" x=\"422.0266\" y=\"216.7812\">*</text></a><!--MD5=[0a839d0f80c2d72d4b9b307f046d0de8]\n",
       "link E6 to E8--><a href=\"psysml:1d0a5b52-6a4c-4cbe-b03e-99be5638e392\" target=\"_top\" title=\"psysml:1d0a5b52-6a4c-4cbe-b03e-99be5638e392\" xlink:actuate=\"onRequest\" xlink:href=\"psysml:1d0a5b52-6a4c-4cbe-b03e-99be5638e392\" xlink:show=\"new\" xlink:title=\"psysml:1d0a5b52-6a4c-4cbe-b03e-99be5638e392\" xlink:type=\"simple\"><path d=\"M361.21,161.52 C382.37,162.86 415.42,171.12 436.64,180.35 \" fill=\"none\" id=\"E6-E8-1\" style=\"stroke: #383838; stroke-width: 3.0;\"/><text fill=\"#000000\" font-family=\"sans-serif\" font-size=\"13\" lengthAdjust=\"spacingAndGlyphs\" textLength=\"7\" x=\"422.0266\" y=\"189.9509\">*</text></a><!--MD5=[cf7a8dfbf2e74cfc4dee1316a89c46a8]\n",
       "@startuml\r\n",
       "left to right direction\r\n",
       "skinparam monochrome true\r\n",
       "skinparam classbackgroundcolor white\r\n",
       "skinparam shadowing false\r\n",
       "skinparam wrapWidth 300\r\n",
       "hide circle\r\n",
       "\r\n",
       "package \"AliasTest\" as E1  [[psysml:dccc75fb-db16-4804-85cb-688c27ce5ff3 ]]  {\r\n",
       "comp usage \"q :> Quantities::tensorQuantities\" as E2  <<(T,blue) attribute>> [[psysml:ce72622b-28d6-4d09-bee8-b5dd20a40a54 ]] {\r\n",
       "}\r\n",
       "comp def \"P1\" as E3  <<(T,blue) part  def>> [[psysml:61eb2658-da6c-419b-a94e-058b00326cab ]] {\r\n",
       "}\r\n",
       "comp usage \"porig1\" as E4  <<(T,blue) port>> [[psysml:9ae2babd-6d67-4765-bfe5-8d775f3bcf42 ]] {\r\n",
       "}\r\n",
       "comp usage \"p1: P1 \" as E5  <<(T,blue) part>> [[psysml:11b2a6df-aab5-4dc5-a120-8a7b1f52b05c ]] {\r\n",
       "}\r\n",
       "comp usage \"po1\" as E6  <<(T,blue) port>> [[psysml:a231442e-2600-41cf-892c-df88027eb505 ]] {\r\n",
       "}\r\n",
       "comp usage \"p2: P1 \" as E7  <<(T,blue) part>> [[psysml:2c2598c5-3ef5-4f1d-ae32-f3d429fa4c2f ]] {\r\n",
       "}\r\n",
       "comp usage \"pdest\" as E8  <<(T,blue) port>> [[psysml:10820d16-405d-40a2-9551-06e34552661e ]] {\r\n",
       "}\r\n",
       "}\r\n",
       "E3 o- - \"1\"E4 [[psysml:8e3ccc77-0a8c-4c0b-a5d7-07a6acaf5014 ]] \r\n",
       "E3 +.. \"1\"E4 [[psysml:408c218d-2c50-4f10-8495-de57c6cccdaf ]] \r\n",
       "E5 - -:|> E3 [[psysml:39d7aa17-d9aa-4290-8253-e0b073366074 ]] \r\n",
       "E5 o- - \"1\"E6 [[psysml:0602bff9-807d-4c23-b932-30af011e0640 ]] \r\n",
       "E6 - -||> E4 [[psysml:5ed5dee3-04af-484b-a73a-bf3d62fb0484 ]] \r\n",
       "E7 - -:|> E3 [[psysml:6afc3f94-967f-4ac8-9c89-c7c9ad6aa496 ]] \r\n",
       "E7 o- - \"1\"E8 [[psysml:9a63abc5-83ea-4d36-8ec2-a9e5009e1a31 ]] \r\n",
       "E7 +.. \"1\"E8 [[psysml:af85dbb9-a19a-4dbd-bd41-700a2e1e88fd ]] \r\n",
       "E6 -[thickness=3]- \"*\"E8 [[psysml:ee24455c-c65b-41eb-8958-74c54e28cd84 ]] \r\n",
       "E6 -[thickness=3]- \"*\"E8 [[psysml:1d0a5b52-6a4c-4cbe-b03e-99be5638e392 ]] \r\n",
       "@enduml\r\n",
       "\n",
       "PlantUML version 1.2020.13(Sat Jun 13 12:26:38 UTC 2020)\n",
       "(EPL source distribution)\n",
       "Java Runtime: OpenJDK Runtime Environment\n",
       "JVM: OpenJDK 64-Bit Server VM\n",
       "Default Encoding: UTF-8\n",
       "Language: en\n",
       "Country: null\n",
       "--></g></svg>"
      ]
     },
     "execution_count": 16,
     "metadata": {},
     "output_type": "execute_result"
    }
   ],
   "source": [
    "%viz --style=\"LR\" --view=\"Default\" \"AliasTest\""
   ]
  },
  {
   "cell_type": "code",
   "execution_count": 17,
   "id": "7703cb45",
   "metadata": {
    "execution": {
     "iopub.execute_input": "2021-10-25T08:23:53.079926Z",
     "iopub.status.busy": "2021-10-25T08:23:53.079452Z",
     "iopub.status.idle": "2021-10-25T08:23:53.127630Z",
     "shell.execute_reply": "2021-10-25T08:23:53.127241Z"
    }
   },
   "outputs": [
    {
     "data": {
      "image/svg+xml": [
       "<?xml version=\"1.0\" encoding=\"UTF-8\" standalone=\"no\"?><svg xmlns=\"http://www.w3.org/2000/svg\" xmlns:xlink=\"http://www.w3.org/1999/xlink\" contentScriptType=\"application/ecmascript\" contentStyleType=\"text/css\" height=\"277px\" preserveAspectRatio=\"none\" style=\"width:519px;height:277px;\" version=\"1.1\" viewBox=\"0 0 519 277\" width=\"519px\" zoomAndPan=\"magnify\"><defs/><g><!--MD5=[fbc87193dbaf4d95561dea2c320d4a47]\n",
       "cluster E1--><a href=\"psysml:dccc75fb-db16-4804-85cb-688c27ce5ff3\" target=\"_top\" title=\"psysml:dccc75fb-db16-4804-85cb-688c27ce5ff3\" xlink:actuate=\"onRequest\" xlink:href=\"psysml:dccc75fb-db16-4804-85cb-688c27ce5ff3\" xlink:show=\"new\" xlink:title=\"psysml:dccc75fb-db16-4804-85cb-688c27ce5ff3\" xlink:type=\"simple\"><polygon fill=\"#FFFFFF\" points=\"16,6,84,6,91,28.2969,497,28.2969,497,265,16,265,16,6\" style=\"stroke: #000000; stroke-width: 1.5;\"/><line style=\"stroke: #000000; stroke-width: 1.5;\" x1=\"16\" x2=\"91\" y1=\"28.2969\" y2=\"28.2969\"/><text fill=\"#000000\" font-family=\"sans-serif\" font-size=\"14\" font-weight=\"bold\" lengthAdjust=\"spacingAndGlyphs\" textLength=\"62\" x=\"20\" y=\"20.9951\">AliasTest</text></a><!--MD5=[b4997ac47864f28c2f74865a473b2911]\n",
       "class E2--><a href=\"psysml:ce72622b-28d6-4d09-bee8-b5dd20a40a54\" target=\"_top\" title=\"psysml:ce72622b-28d6-4d09-bee8-b5dd20a40a54\" xlink:actuate=\"onRequest\" xlink:href=\"psysml:ce72622b-28d6-4d09-bee8-b5dd20a40a54\" xlink:show=\"new\" xlink:title=\"psysml:ce72622b-28d6-4d09-bee8-b5dd20a40a54\" xlink:type=\"simple\"><rect fill=\"#FFFFFF\" height=\"45.9375\" id=\"E2\" rx=\"10\" ry=\"10\" style=\"stroke: #383838; stroke-width: 1.5;\" width=\"213\" x=\"32\" y=\"41\"/><text fill=\"#000000\" font-family=\"sans-serif\" font-size=\"12\" font-style=\"italic\" lengthAdjust=\"spacingAndGlyphs\" textLength=\"69\" x=\"104\" y=\"57.1387\">«attribute»</text><text fill=\"#000000\" font-family=\"sans-serif\" font-size=\"12\" lengthAdjust=\"spacingAndGlyphs\" textLength=\"207\" x=\"35\" y=\"71.1074\">q :&gt; Quantities::tensorQuantities</text><line style=\"stroke: #383838; stroke-width: 1.5;\" x1=\"33\" x2=\"244\" y1=\"78.9375\" y2=\"78.9375\"/></a><!--MD5=[09b614a08d8cba4a07c9adeb5e0fee81]\n",
       "class E3--><a href=\"psysml:61eb2658-da6c-419b-a94e-058b00326cab\" target=\"_top\" title=\"psysml:61eb2658-da6c-419b-a94e-058b00326cab\" xlink:actuate=\"onRequest\" xlink:href=\"psysml:61eb2658-da6c-419b-a94e-058b00326cab\" xlink:show=\"new\" xlink:title=\"psysml:61eb2658-da6c-419b-a94e-058b00326cab\" xlink:type=\"simple\"><rect fill=\"#FFFFFF\" height=\"45.9375\" id=\"E3\" style=\"stroke: #383838; stroke-width: 1.5;\" width=\"70\" x=\"305\" y=\"63\"/><text fill=\"#000000\" font-family=\"sans-serif\" font-size=\"12\" font-style=\"italic\" lengthAdjust=\"spacingAndGlyphs\" textLength=\"68\" x=\"306\" y=\"79.1387\">«part  def»</text><text fill=\"#000000\" font-family=\"sans-serif\" font-size=\"12\" lengthAdjust=\"spacingAndGlyphs\" textLength=\"16\" x=\"332\" y=\"93.1074\">P1</text><line style=\"stroke: #383838; stroke-width: 1.5;\" x1=\"306\" x2=\"374\" y1=\"100.9375\" y2=\"100.9375\"/></a><!--MD5=[ebbe1d658d1005bcc118a6aa81145e00]\n",
       "class E4--><a href=\"psysml:9ae2babd-6d67-4765-bfe5-8d775f3bcf42\" target=\"_top\" title=\"psysml:9ae2babd-6d67-4765-bfe5-8d775f3bcf42\" xlink:actuate=\"onRequest\" xlink:href=\"psysml:9ae2babd-6d67-4765-bfe5-8d775f3bcf42\" xlink:show=\"new\" xlink:title=\"psysml:9ae2babd-6d67-4765-bfe5-8d775f3bcf42\" xlink:type=\"simple\"><rect fill=\"#FFFFFF\" height=\"45.9375\" id=\"E4\" rx=\"10\" ry=\"10\" style=\"stroke: #383838; stroke-width: 1.5;\" width=\"46\" x=\"435\" y=\"63\"/><text fill=\"#000000\" font-family=\"sans-serif\" font-size=\"12\" font-style=\"italic\" lengthAdjust=\"spacingAndGlyphs\" textLength=\"40\" x=\"438\" y=\"79.1387\">«port»</text><text fill=\"#000000\" font-family=\"sans-serif\" font-size=\"12\" lengthAdjust=\"spacingAndGlyphs\" textLength=\"40\" x=\"438\" y=\"93.1074\">porig1</text><line style=\"stroke: #383838; stroke-width: 1.5;\" x1=\"436\" x2=\"480\" y1=\"100.9375\" y2=\"100.9375\"/></a><!--MD5=[270fce915f116d4de14055a7c1d9a0f3]\n",
       "class E5--><a href=\"psysml:11b2a6df-aab5-4dc5-a120-8a7b1f52b05c\" target=\"_top\" title=\"psysml:11b2a6df-aab5-4dc5-a120-8a7b1f52b05c\" xlink:actuate=\"onRequest\" xlink:href=\"psysml:11b2a6df-aab5-4dc5-a120-8a7b1f52b05c\" xlink:show=\"new\" xlink:title=\"psysml:11b2a6df-aab5-4dc5-a120-8a7b1f52b05c\" xlink:type=\"simple\"><rect fill=\"#FFFFFF\" height=\"45.9375\" id=\"E5\" rx=\"10\" ry=\"10\" style=\"stroke: #383838; stroke-width: 1.5;\" width=\"50\" x=\"113.5\" y=\"122\"/><text fill=\"#000000\" font-family=\"sans-serif\" font-size=\"12\" font-style=\"italic\" lengthAdjust=\"spacingAndGlyphs\" textLength=\"40\" x=\"118.5\" y=\"138.1387\">«part»</text><text fill=\"#000000\" font-family=\"sans-serif\" font-size=\"12\" lengthAdjust=\"spacingAndGlyphs\" textLength=\"40\" x=\"116.5\" y=\"152.1074\">p1: P1</text><line style=\"stroke: #383838; stroke-width: 1.5;\" x1=\"114.5\" x2=\"162.5\" y1=\"159.9375\" y2=\"159.9375\"/></a><!--MD5=[60a26617385b1d2d0262a64233df1f8d]\n",
       "class E6--><a href=\"psysml:a231442e-2600-41cf-892c-df88027eb505\" target=\"_top\" title=\"psysml:a231442e-2600-41cf-892c-df88027eb505\" xlink:actuate=\"onRequest\" xlink:href=\"psysml:a231442e-2600-41cf-892c-df88027eb505\" xlink:show=\"new\" xlink:title=\"psysml:a231442e-2600-41cf-892c-df88027eb505\" xlink:type=\"simple\"><rect fill=\"#FFFFFF\" height=\"45.9375\" id=\"E6\" rx=\"10\" ry=\"10\" style=\"stroke: #383838; stroke-width: 1.5;\" width=\"42\" x=\"319\" y=\"144\"/><text fill=\"#000000\" font-family=\"sans-serif\" font-size=\"12\" font-style=\"italic\" lengthAdjust=\"spacingAndGlyphs\" textLength=\"40\" x=\"320\" y=\"160.1387\">«port»</text><text fill=\"#000000\" font-family=\"sans-serif\" font-size=\"12\" lengthAdjust=\"spacingAndGlyphs\" textLength=\"24\" x=\"328\" y=\"174.1074\">po1</text><line style=\"stroke: #383838; stroke-width: 1.5;\" x1=\"320\" x2=\"360\" y1=\"181.9375\" y2=\"181.9375\"/></a><!--MD5=[2156ba9850f5573cc1fc38a6a4b2f02b]\n",
       "class E7--><a href=\"psysml:2c2598c5-3ef5-4f1d-ae32-f3d429fa4c2f\" target=\"_top\" title=\"psysml:2c2598c5-3ef5-4f1d-ae32-f3d429fa4c2f\" xlink:actuate=\"onRequest\" xlink:href=\"psysml:2c2598c5-3ef5-4f1d-ae32-f3d429fa4c2f\" xlink:show=\"new\" xlink:title=\"psysml:2c2598c5-3ef5-4f1d-ae32-f3d429fa4c2f\" xlink:type=\"simple\"><rect fill=\"#FFFFFF\" height=\"45.9375\" id=\"E7\" rx=\"10\" ry=\"10\" style=\"stroke: #383838; stroke-width: 1.5;\" width=\"50\" x=\"113.5\" y=\"203\"/><text fill=\"#000000\" font-family=\"sans-serif\" font-size=\"12\" font-style=\"italic\" lengthAdjust=\"spacingAndGlyphs\" textLength=\"40\" x=\"118.5\" y=\"219.1387\">«part»</text><text fill=\"#000000\" font-family=\"sans-serif\" font-size=\"12\" lengthAdjust=\"spacingAndGlyphs\" textLength=\"40\" x=\"116.5\" y=\"233.1074\">p2: P1</text><line style=\"stroke: #383838; stroke-width: 1.5;\" x1=\"114.5\" x2=\"162.5\" y1=\"240.9375\" y2=\"240.9375\"/></a><!--MD5=[b9389687b975829384b498ac4b7476b2]\n",
       "class E8--><a href=\"psysml:10820d16-405d-40a2-9551-06e34552661e\" target=\"_top\" title=\"psysml:10820d16-405d-40a2-9551-06e34552661e\" xlink:actuate=\"onRequest\" xlink:href=\"psysml:10820d16-405d-40a2-9551-06e34552661e\" xlink:show=\"new\" xlink:title=\"psysml:10820d16-405d-40a2-9551-06e34552661e\" xlink:type=\"simple\"><rect fill=\"#FFFFFF\" height=\"45.9375\" id=\"E8\" rx=\"10\" ry=\"10\" style=\"stroke: #383838; stroke-width: 1.5;\" width=\"42\" x=\"437\" y=\"173\"/><text fill=\"#000000\" font-family=\"sans-serif\" font-size=\"12\" font-style=\"italic\" lengthAdjust=\"spacingAndGlyphs\" textLength=\"40\" x=\"438\" y=\"189.1387\">«port»</text><text fill=\"#000000\" font-family=\"sans-serif\" font-size=\"12\" lengthAdjust=\"spacingAndGlyphs\" textLength=\"36\" x=\"440\" y=\"203.1074\">pdest</text><line style=\"stroke: #383838; stroke-width: 1.5;\" x1=\"438\" x2=\"478\" y1=\"210.9375\" y2=\"210.9375\"/></a><!--MD5=[4672eba38e49728da53d11aeb285b987]\n",
       "reverse link E3 to E4--><a href=\"psysml:8e3ccc77-0a8c-4c0b-a5d7-07a6acaf5014\" target=\"_top\" title=\"psysml:8e3ccc77-0a8c-4c0b-a5d7-07a6acaf5014\" xlink:actuate=\"onRequest\" xlink:href=\"psysml:8e3ccc77-0a8c-4c0b-a5d7-07a6acaf5014\" xlink:show=\"new\" xlink:title=\"psysml:8e3ccc77-0a8c-4c0b-a5d7-07a6acaf5014\" xlink:type=\"simple\"><path d=\"M388.3,98.56 C404.38,99.15 421.6,98.39 434.77,96.29 \" fill=\"none\" id=\"E3&lt;-E4\" style=\"stroke: #383838; stroke-width: 1.0;\"/><polygon fill=\"#FFFFFF\" points=\"375.18,97.74,380.9227,102.1014,387.1573,98.4779,381.4146,94.1165,375.18,97.74\" style=\"stroke: #383838; stroke-width: 1.0;\"/><text fill=\"#000000\" font-family=\"sans-serif\" font-size=\"13\" lengthAdjust=\"spacingAndGlyphs\" textLength=\"8\" x=\"419.1116\" y=\"113.3878\">1</text></a><!--MD5=[4672eba38e49728da53d11aeb285b987]\n",
       "reverse link E3 to E4--><a href=\"psysml:408c218d-2c50-4f10-8495-de57c6cccdaf\" target=\"_top\" title=\"psysml:408c218d-2c50-4f10-8495-de57c6cccdaf\" xlink:actuate=\"onRequest\" xlink:href=\"psysml:408c218d-2c50-4f10-8495-de57c6cccdaf\" xlink:show=\"new\" xlink:title=\"psysml:408c218d-2c50-4f10-8495-de57c6cccdaf\" xlink:type=\"simple\"><path d=\"M390.24,72.64 C405.75,72.15 422.12,72.97 434.77,75.11 \" fill=\"none\" id=\"E3&lt;-E4-1\" style=\"stroke: #383838; stroke-width: 1.0; stroke-dasharray: 7.0,7.0;\"/><ellipse cx=\"383.1647\" cy=\"73.0748\" fill=\"#FFFFFF\" rx=\"8\" ry=\"8\" style=\"stroke: #383838; stroke-width: 1.0;\"/><line style=\"stroke: #383838; stroke-width: 1.0;\" x1=\"391.1493\" x2=\"375.18\" y1=\"72.5795\" y2=\"73.57\"/><line style=\"stroke: #383838; stroke-width: 1.0;\" x1=\"383.6599\" x2=\"382.6694\" y1=\"81.0594\" y2=\"65.0901\"/><text fill=\"#000000\" font-family=\"sans-serif\" font-size=\"13\" lengthAdjust=\"spacingAndGlyphs\" textLength=\"8\" x=\"419.1116\" y=\"86.2509\">1</text></a><!--MD5=[e9be52314489bd878ff4c7144b63c9e1]\n",
       "link E5 to E3--><a href=\"psysml:39d7aa17-d9aa-4290-8253-e0b073366074\" target=\"_top\" title=\"psysml:39d7aa17-d9aa-4290-8253-e0b073366074\" xlink:actuate=\"onRequest\" xlink:href=\"psysml:39d7aa17-d9aa-4290-8253-e0b073366074\" xlink:show=\"new\" xlink:title=\"psysml:39d7aa17-d9aa-4290-8253-e0b073366074\" xlink:type=\"simple\"><path d=\"M163.56,137.88 C193.57,129.01 245.74,113.58 285.41,101.85 \" fill=\"none\" id=\"E5-&gt;E3\" style=\"stroke: #383838; stroke-width: 1.0;\"/><polygon fill=\"#FFFFFF\" points=\"304.84,96.1,288.6038,108.199,284.6351,94.7733,304.84,96.1\" style=\"stroke: #383838; stroke-width: 1.0;\"/><ellipse cx=\"282.5706\" cy=\"107.8969\" fill=\"#383838\" rx=\"2\" ry=\"2\" style=\"stroke: #383838; stroke-width: 1.0;\"/><ellipse cx=\"279.7358\" cy=\"98.3071\" fill=\"#383838\" rx=\"2\" ry=\"2\" style=\"stroke: #383838; stroke-width: 1.0;\"/></a><!--MD5=[85d356282659285ab4b2cfe2f634dd2b]\n",
       "reverse link E5 to E6--><a href=\"psysml:0602bff9-807d-4c23-b932-30af011e0640\" target=\"_top\" title=\"psysml:0602bff9-807d-4c23-b932-30af011e0640\" xlink:actuate=\"onRequest\" xlink:href=\"psysml:0602bff9-807d-4c23-b932-30af011e0640\" xlink:show=\"new\" xlink:title=\"psysml:0602bff9-807d-4c23-b932-30af011e0640\" xlink:type=\"simple\"><path d=\"M176.5,149.08 C218.48,153.71 285.42,161.09 318.76,164.77 \" fill=\"none\" id=\"E5&lt;-E6\" style=\"stroke: #383838; stroke-width: 1.0;\"/><polygon fill=\"#FFFFFF\" points=\"163.56,147.65,169.0889,152.2794,175.4887,148.9563,169.9598,144.3269,163.56,147.65\" style=\"stroke: #383838; stroke-width: 1.0;\"/><text fill=\"#000000\" font-family=\"sans-serif\" font-size=\"13\" lengthAdjust=\"spacingAndGlyphs\" textLength=\"8\" x=\"303.0302\" y=\"178.4807\">1</text></a><!--MD5=[f667431f98296947986a1a7595a31603]\n",
       "link E6 to E4--><a href=\"psysml:5ed5dee3-04af-484b-a73a-bf3d62fb0484\" target=\"_top\" title=\"psysml:5ed5dee3-04af-484b-a73a-bf3d62fb0484\" xlink:actuate=\"onRequest\" xlink:href=\"psysml:5ed5dee3-04af-484b-a73a-bf3d62fb0484\" xlink:show=\"new\" xlink:title=\"psysml:5ed5dee3-04af-484b-a73a-bf3d62fb0484\" xlink:type=\"simple\"><path d=\"M361.21,152.89 C376.83,141.98 398.94,126.54 417.98,113.25 \" fill=\"none\" id=\"E6-&gt;E4\" style=\"stroke: #383838; stroke-width: 1.0;\"/><polygon fill=\"#FFFFFF\" points=\"434.65,101.61,423.0735,118.2228,415.0625,106.7414,434.65,101.61\" style=\"stroke: #383838; stroke-width: 1.0;\"/><line style=\"stroke: #383838; stroke-width: 2.0;\" x1=\"419.9571\" x2=\"411.9461\" y1=\"120.3972\" y2=\"108.9158\"/></a><!--MD5=[14ccda38c055a5c0da953d572bc50960]\n",
       "link E7 to E3--><a href=\"psysml:6afc3f94-967f-4ac8-9c89-c7c9ad6aa496\" target=\"_top\" title=\"psysml:6afc3f94-967f-4ac8-9c89-c7c9ad6aa496\" xlink:actuate=\"onRequest\" xlink:href=\"psysml:6afc3f94-967f-4ac8-9c89-c7c9ad6aa496\" xlink:show=\"new\" xlink:title=\"psysml:6afc3f94-967f-4ac8-9c89-c7c9ad6aa496\" xlink:type=\"simple\"><path d=\"M163.56,219.94 C185.94,213.57 219.54,202.08 245,185 C258.5,175.94 284.51,148.17 305.76,124.34 \" fill=\"none\" id=\"E7-&gt;E3\" style=\"stroke: #383838; stroke-width: 1.0;\"/><polygon fill=\"#FFFFFF\" points=\"319.17,109.12,311.8629,128.004,301.3579,118.7496,319.17,109.12\" style=\"stroke: #383838; stroke-width: 1.0;\"/><ellipse cx=\"306.5943\" cy=\"130.959\" fill=\"#383838\" rx=\"2\" ry=\"2\" style=\"stroke: #383838; stroke-width: 1.0;\"/><ellipse cx=\"299.0908\" cy=\"124.3487\" fill=\"#383838\" rx=\"2\" ry=\"2\" style=\"stroke: #383838; stroke-width: 1.0;\"/></a><!--MD5=[dc164f5e8a733ab456ef1add180e9e34]\n",
       "reverse link E7 to E8--><a href=\"psysml:9a63abc5-83ea-4d36-8ec2-a9e5009e1a31\" target=\"_top\" title=\"psysml:9a63abc5-83ea-4d36-8ec2-a9e5009e1a31\" xlink:actuate=\"onRequest\" xlink:href=\"psysml:9a63abc5-83ea-4d36-8ec2-a9e5009e1a31\" xlink:show=\"new\" xlink:title=\"psysml:9a63abc5-83ea-4d36-8ec2-a9e5009e1a31\" xlink:type=\"simple\"><path d=\"M176.85,235.51 C223.34,237.47 305.14,231.5 375,224 C396.14,221.73 420.24,218.41 436.82,212.73 \" fill=\"none\" id=\"E7&lt;-E8\" style=\"stroke: #383838; stroke-width: 1.0;\"/><polygon fill=\"#FFFFFF\" points=\"163.61,234.64,169.3332,239.0269,175.5839,235.4312,169.8607,231.0443,163.61,234.64\" style=\"stroke: #383838; stroke-width: 1.0;\"/><text fill=\"#000000\" font-family=\"sans-serif\" font-size=\"13\" lengthAdjust=\"spacingAndGlyphs\" textLength=\"8\" x=\"421.1086\" y=\"232.2472\">1</text></a><!--MD5=[dc164f5e8a733ab456ef1add180e9e34]\n",
       "reverse link E7 to E8--><a href=\"psysml:af85dbb9-a19a-4dbd-bd41-700a2e1e88fd\" target=\"_top\" title=\"psysml:af85dbb9-a19a-4dbd-bd41-700a2e1e88fd\" xlink:actuate=\"onRequest\" xlink:href=\"psysml:af85dbb9-a19a-4dbd-bd41-700a2e1e88fd\" xlink:show=\"new\" xlink:title=\"psysml:af85dbb9-a19a-4dbd-bd41-700a2e1e88fd\" xlink:type=\"simple\"><path d=\"M178.37,210.71 C225.1,202.34 305.9,196.42 375,189 C396.14,186.73 420.24,183.41 436.82,184.49 \" fill=\"none\" id=\"E7&lt;-E8-1\" style=\"stroke: #383838; stroke-width: 1.0; stroke-dasharray: 7.0,7.0;\"/><ellipse cx=\"171.4484\" cy=\"212.1203\" fill=\"#FFFFFF\" rx=\"8\" ry=\"8\" style=\"stroke: #383838; stroke-width: 1.0;\"/><line style=\"stroke: #383838; stroke-width: 1.0;\" x1=\"179.2869\" x2=\"163.61\" y1=\"210.5206\" y2=\"213.72\"/><line style=\"stroke: #383838; stroke-width: 1.0;\" x1=\"173.0481\" x2=\"169.8488\" y1=\"219.9588\" y2=\"204.2819\"/><text fill=\"#000000\" font-family=\"sans-serif\" font-size=\"13\" lengthAdjust=\"spacingAndGlyphs\" textLength=\"8\" x=\"421.1086\" y=\"175.765\">1</text></a><!--MD5=[0a839d0f80c2d72d4b9b307f046d0de8]\n",
       "link E6 to E8--><a href=\"psysml:ee24455c-c65b-41eb-8958-74c54e28cd84\" target=\"_top\" title=\"psysml:ee24455c-c65b-41eb-8958-74c54e28cd84\" xlink:actuate=\"onRequest\" xlink:href=\"psysml:ee24455c-c65b-41eb-8958-74c54e28cd84\" xlink:show=\"new\" xlink:title=\"psysml:ee24455c-c65b-41eb-8958-74c54e28cd84\" xlink:type=\"simple\"><path d=\"M361.21,182 C382.37,191.02 415.42,199.29 436.64,200.89 \" fill=\"none\" id=\"E6-E8\" style=\"stroke: #383838; stroke-width: 3.0;\"/><text fill=\"#000000\" font-family=\"sans-serif\" font-size=\"13\" lengthAdjust=\"spacingAndGlyphs\" textLength=\"7\" x=\"422.0266\" y=\"216.7812\">*</text></a><!--MD5=[0a839d0f80c2d72d4b9b307f046d0de8]\n",
       "link E6 to E8--><a href=\"psysml:1d0a5b52-6a4c-4cbe-b03e-99be5638e392\" target=\"_top\" title=\"psysml:1d0a5b52-6a4c-4cbe-b03e-99be5638e392\" xlink:actuate=\"onRequest\" xlink:href=\"psysml:1d0a5b52-6a4c-4cbe-b03e-99be5638e392\" xlink:show=\"new\" xlink:title=\"psysml:1d0a5b52-6a4c-4cbe-b03e-99be5638e392\" xlink:type=\"simple\"><path d=\"M361.21,161.52 C382.37,162.86 415.42,171.12 436.64,180.35 \" fill=\"none\" id=\"E6-E8-1\" style=\"stroke: #383838; stroke-width: 3.0;\"/><text fill=\"#000000\" font-family=\"sans-serif\" font-size=\"13\" lengthAdjust=\"spacingAndGlyphs\" textLength=\"7\" x=\"422.0266\" y=\"189.9509\">*</text></a><!--MD5=[cf7a8dfbf2e74cfc4dee1316a89c46a8]\n",
       "@startuml\r\n",
       "left to right direction\r\n",
       "skinparam monochrome true\r\n",
       "skinparam classbackgroundcolor white\r\n",
       "skinparam shadowing false\r\n",
       "skinparam wrapWidth 300\r\n",
       "hide circle\r\n",
       "\r\n",
       "package \"AliasTest\" as E1  [[psysml:dccc75fb-db16-4804-85cb-688c27ce5ff3 ]]  {\r\n",
       "comp usage \"q :> Quantities::tensorQuantities\" as E2  <<(T,blue) attribute>> [[psysml:ce72622b-28d6-4d09-bee8-b5dd20a40a54 ]] {\r\n",
       "}\r\n",
       "comp def \"P1\" as E3  <<(T,blue) part  def>> [[psysml:61eb2658-da6c-419b-a94e-058b00326cab ]] {\r\n",
       "}\r\n",
       "comp usage \"porig1\" as E4  <<(T,blue) port>> [[psysml:9ae2babd-6d67-4765-bfe5-8d775f3bcf42 ]] {\r\n",
       "}\r\n",
       "comp usage \"p1: P1 \" as E5  <<(T,blue) part>> [[psysml:11b2a6df-aab5-4dc5-a120-8a7b1f52b05c ]] {\r\n",
       "}\r\n",
       "comp usage \"po1\" as E6  <<(T,blue) port>> [[psysml:a231442e-2600-41cf-892c-df88027eb505 ]] {\r\n",
       "}\r\n",
       "comp usage \"p2: P1 \" as E7  <<(T,blue) part>> [[psysml:2c2598c5-3ef5-4f1d-ae32-f3d429fa4c2f ]] {\r\n",
       "}\r\n",
       "comp usage \"pdest\" as E8  <<(T,blue) port>> [[psysml:10820d16-405d-40a2-9551-06e34552661e ]] {\r\n",
       "}\r\n",
       "}\r\n",
       "E3 o- - \"1\"E4 [[psysml:8e3ccc77-0a8c-4c0b-a5d7-07a6acaf5014 ]] \r\n",
       "E3 +.. \"1\"E4 [[psysml:408c218d-2c50-4f10-8495-de57c6cccdaf ]] \r\n",
       "E5 - -:|> E3 [[psysml:39d7aa17-d9aa-4290-8253-e0b073366074 ]] \r\n",
       "E5 o- - \"1\"E6 [[psysml:0602bff9-807d-4c23-b932-30af011e0640 ]] \r\n",
       "E6 - -||> E4 [[psysml:5ed5dee3-04af-484b-a73a-bf3d62fb0484 ]] \r\n",
       "E7 - -:|> E3 [[psysml:6afc3f94-967f-4ac8-9c89-c7c9ad6aa496 ]] \r\n",
       "E7 o- - \"1\"E8 [[psysml:9a63abc5-83ea-4d36-8ec2-a9e5009e1a31 ]] \r\n",
       "E7 +.. \"1\"E8 [[psysml:af85dbb9-a19a-4dbd-bd41-700a2e1e88fd ]] \r\n",
       "E6 -[thickness=3]- \"*\"E8 [[psysml:ee24455c-c65b-41eb-8958-74c54e28cd84 ]] \r\n",
       "E6 -[thickness=3]- \"*\"E8 [[psysml:1d0a5b52-6a4c-4cbe-b03e-99be5638e392 ]] \r\n",
       "@enduml\r\n",
       "\n",
       "PlantUML version 1.2020.13(Sat Jun 13 12:26:38 UTC 2020)\n",
       "(EPL source distribution)\n",
       "Java Runtime: OpenJDK Runtime Environment\n",
       "JVM: OpenJDK 64-Bit Server VM\n",
       "Default Encoding: UTF-8\n",
       "Language: en\n",
       "Country: null\n",
       "--></g></svg>"
      ]
     },
     "execution_count": 17,
     "metadata": {},
     "output_type": "execute_result"
    }
   ],
   "source": [
    "%viz --style=\"LR\" --view=\"Tree\" \"AliasTest\""
   ]
  },
  {
   "cell_type": "code",
   "execution_count": 18,
   "id": "9489f3ed",
   "metadata": {
    "execution": {
     "iopub.execute_input": "2021-10-25T08:23:53.177001Z",
     "iopub.status.busy": "2021-10-25T08:23:53.176548Z",
     "iopub.status.idle": "2021-10-25T08:23:53.183991Z",
     "shell.execute_reply": "2021-10-25T08:23:53.184323Z"
    }
   },
   "outputs": [
    {
     "data": {
      "image/svg+xml": [
       "<?xml version=\"1.0\" encoding=\"UTF-8\" standalone=\"no\"?><svg xmlns=\"http://www.w3.org/2000/svg\" xmlns:xlink=\"http://www.w3.org/1999/xlink\" contentScriptType=\"application/ecmascript\" contentStyleType=\"text/css\" height=\"12px\" preserveAspectRatio=\"none\" style=\"width:12px;height:12px;\" version=\"1.1\" viewBox=\"0 0 12 12\" width=\"12px\" zoomAndPan=\"magnify\"><defs/><g><!--MD5=[19d285c9d72a204eba4e2cd117d745e8]\n",
       "@startuml\r\n",
       "left to right direction\r\n",
       "skinparam monochrome true\r\n",
       "skinparam classbackgroundcolor white\r\n",
       "skinparam shadowing false\r\n",
       "skinparam wrapWidth 300\r\n",
       "hide circle\r\n",
       "\r\n",
       "@enduml\r\n",
       "\n",
       "PlantUML version 1.2020.13(Sat Jun 13 12:26:38 UTC 2020)\n",
       "(EPL source distribution)\n",
       "Java Runtime: OpenJDK Runtime Environment\n",
       "JVM: OpenJDK 64-Bit Server VM\n",
       "Default Encoding: UTF-8\n",
       "Language: en\n",
       "Country: null\n",
       "--></g></svg>"
      ]
     },
     "execution_count": 18,
     "metadata": {},
     "output_type": "execute_result"
    }
   ],
   "source": [
    "%viz --style=\"LR\" --view=\"State\" \"AliasTest\""
   ]
  },
  {
   "cell_type": "code",
   "execution_count": 19,
   "id": "0dc9fae9",
   "metadata": {
    "execution": {
     "iopub.execute_input": "2021-10-25T08:23:53.234259Z",
     "iopub.status.busy": "2021-10-25T08:23:53.233648Z",
     "iopub.status.idle": "2021-10-25T08:23:53.274570Z",
     "shell.execute_reply": "2021-10-25T08:23:53.272731Z"
    }
   },
   "outputs": [
    {
     "data": {
      "image/svg+xml": [
       "<?xml version=\"1.0\" encoding=\"UTF-8\" standalone=\"no\"?><svg xmlns=\"http://www.w3.org/2000/svg\" xmlns:xlink=\"http://www.w3.org/1999/xlink\" contentScriptType=\"application/ecmascript\" contentStyleType=\"text/css\" height=\"344px\" preserveAspectRatio=\"none\" style=\"width:499px;height:344px;\" version=\"1.1\" viewBox=\"0 0 499 344\" width=\"499px\" zoomAndPan=\"magnify\"><defs/><g><!--MD5=[fbc87193dbaf4d95561dea2c320d4a47]\n",
       "cluster E1--><a href=\"psysml:dccc75fb-db16-4804-85cb-688c27ce5ff3\" target=\"_top\" title=\"psysml:dccc75fb-db16-4804-85cb-688c27ce5ff3\" xlink:actuate=\"onRequest\" xlink:href=\"psysml:dccc75fb-db16-4804-85cb-688c27ce5ff3\" xlink:show=\"new\" xlink:title=\"psysml:dccc75fb-db16-4804-85cb-688c27ce5ff3\" xlink:type=\"simple\"><polygon fill=\"#FFFFFF\" points=\"16,6,84,6,91,28.2969,477,28.2969,477,332,16,332,16,6\" style=\"stroke: #000000; stroke-width: 1.5;\"/><line style=\"stroke: #000000; stroke-width: 1.5;\" x1=\"16\" x2=\"91\" y1=\"28.2969\" y2=\"28.2969\"/><text fill=\"#000000\" font-family=\"sans-serif\" font-size=\"14\" font-weight=\"bold\" lengthAdjust=\"spacingAndGlyphs\" textLength=\"62\" x=\"20\" y=\"20.9951\">AliasTest</text></a><!--MD5=[d5e69f78d87373223dbae638b30a9c99]\n",
       "cluster E3--><a href=\"psysml:61eb2658-da6c-419b-a94e-058b00326cab\" target=\"_top\" title=\"psysml:61eb2658-da6c-419b-a94e-058b00326cab\" xlink:actuate=\"onRequest\" xlink:href=\"psysml:61eb2658-da6c-419b-a94e-058b00326cab\" xlink:show=\"new\" xlink:title=\"psysml:61eb2658-da6c-419b-a94e-058b00326cab\" xlink:type=\"simple\"><rect fill=\"#FFFFFF\" height=\"47\" id=\"E3\" style=\"stroke: #383838; stroke-width: 1.5;\" width=\"247.5\" x=\"120.5\" y=\"55\"/><rect fill=\"#F8F8F8\" height=\"37.9375\" style=\"stroke: #383838; stroke-width: 1.5;\" width=\"247.5\" x=\"120.5\" y=\"55\"/><text fill=\"#000000\" font-family=\"sans-serif\" font-size=\"12\" font-style=\"italic\" lengthAdjust=\"spacingAndGlyphs\" textLength=\"68\" x=\"210.25\" y=\"71.1387\">«part  def»</text><text fill=\"#000000\" font-family=\"sans-serif\" font-size=\"12\" lengthAdjust=\"spacingAndGlyphs\" textLength=\"16\" x=\"236.25\" y=\"85.1074\">P1</text></a><!--MD5=[14e3b0961a2654348d326746436168a1]\n",
       "cluster E6--><a href=\"psysml:11b2a6df-aab5-4dc5-a120-8a7b1f52b05c\" target=\"_top\" title=\"psysml:11b2a6df-aab5-4dc5-a120-8a7b1f52b05c\" xlink:actuate=\"onRequest\" xlink:href=\"psysml:11b2a6df-aab5-4dc5-a120-8a7b1f52b05c\" xlink:show=\"new\" xlink:title=\"psysml:11b2a6df-aab5-4dc5-a120-8a7b1f52b05c\" xlink:type=\"simple\"><rect fill=\"#FFFFFF\" height=\"38\" id=\"E6\" rx=\"10\" ry=\"10\" style=\"stroke: #383838; stroke-width: 1.5;\" width=\"232.5\" x=\"120.5\" y=\"224\"/><rect fill=\"#F8F8F8\" height=\"23.9688\" rx=\"10\" ry=\"10\" style=\"stroke: #F8F8F8; stroke-width: 1.5;\" width=\"232.5\" x=\"120.5\" y=\"224\"/><rect fill=\"#F8F8F8\" height=\"10\" style=\"stroke: #F8F8F8; stroke-width: 1.5;\" width=\"232.5\" x=\"120.5\" y=\"237.9688\"/><rect fill=\"none\" height=\"38\" id=\"E6\" rx=\"10\" ry=\"10\" style=\"stroke: #383838; stroke-width: 1.5;\" width=\"232.5\" x=\"120.5\" y=\"224\"/><text fill=\"#000000\" font-family=\"sans-serif\" font-size=\"12\" lengthAdjust=\"spacingAndGlyphs\" textLength=\"40\" x=\"216.75\" y=\"240.1387\">p1: P1</text><line style=\"stroke: #383838; stroke-width: 1.0;\" x1=\"120.5\" x2=\"353\" y1=\"247.9688\" y2=\"247.9688\"/></a><!--MD5=[55dfccfc6c49c2d10cd1bd2211a6c90c]\n",
       "cluster E8--><a href=\"psysml:2c2598c5-3ef5-4f1d-ae32-f3d429fa4c2f\" target=\"_top\" title=\"psysml:2c2598c5-3ef5-4f1d-ae32-f3d429fa4c2f\" xlink:actuate=\"onRequest\" xlink:href=\"psysml:2c2598c5-3ef5-4f1d-ae32-f3d429fa4c2f\" xlink:show=\"new\" xlink:title=\"psysml:2c2598c5-3ef5-4f1d-ae32-f3d429fa4c2f\" xlink:type=\"simple\"><rect fill=\"#FFFFFF\" height=\"47\" id=\"E8\" rx=\"10\" ry=\"10\" style=\"stroke: #383838; stroke-width: 1.5;\" width=\"172.5\" x=\"288.5\" y=\"138\"/><rect fill=\"#F8F8F8\" height=\"23.9688\" rx=\"10\" ry=\"10\" style=\"stroke: #F8F8F8; stroke-width: 1.5;\" width=\"172.5\" x=\"288.5\" y=\"138\"/><rect fill=\"#F8F8F8\" height=\"10\" style=\"stroke: #F8F8F8; stroke-width: 1.5;\" width=\"172.5\" x=\"288.5\" y=\"151.9688\"/><rect fill=\"none\" height=\"47\" id=\"E8\" rx=\"10\" ry=\"10\" style=\"stroke: #383838; stroke-width: 1.5;\" width=\"172.5\" x=\"288.5\" y=\"138\"/><text fill=\"#000000\" font-family=\"sans-serif\" font-size=\"12\" lengthAdjust=\"spacingAndGlyphs\" textLength=\"40\" x=\"354.75\" y=\"154.1387\">p2: P1</text><line style=\"stroke: #383838; stroke-width: 1.0;\" x1=\"288.5\" x2=\"461\" y1=\"161.9688\" y2=\"161.9688\"/></a><!--MD5=[b4997ac47864f28c2f74865a473b2911]\n",
       "class E2--><a href=\"psysml:ce72622b-28d6-4d09-bee8-b5dd20a40a54\" target=\"_top\" title=\"psysml:ce72622b-28d6-4d09-bee8-b5dd20a40a54\" xlink:actuate=\"onRequest\" xlink:href=\"psysml:ce72622b-28d6-4d09-bee8-b5dd20a40a54\" xlink:show=\"new\" xlink:title=\"psysml:ce72622b-28d6-4d09-bee8-b5dd20a40a54\" xlink:type=\"simple\"><rect fill=\"#FFFFFF\" height=\"45.9375\" id=\"E2\" rx=\"10\" ry=\"10\" style=\"stroke: #383838; stroke-width: 1.5;\" width=\"213\" x=\"32\" y=\"270\"/><text fill=\"#000000\" font-family=\"sans-serif\" font-size=\"12\" font-style=\"italic\" lengthAdjust=\"spacingAndGlyphs\" textLength=\"69\" x=\"104\" y=\"286.1387\">«attribute»</text><text fill=\"#000000\" font-family=\"sans-serif\" font-size=\"12\" lengthAdjust=\"spacingAndGlyphs\" textLength=\"207\" x=\"35\" y=\"300.1074\">q :&gt; Quantities::tensorQuantities</text><line style=\"stroke: #383838; stroke-width: 1.5;\" x1=\"33\" x2=\"244\" y1=\"307.9375\" y2=\"307.9375\"/></a><text fill=\"#000000\" font-family=\"sans-serif\" font-size=\"14\" lengthAdjust=\"spacingAndGlyphs\" textLength=\"44\" x=\"116.5\" y=\"120.9951\">porig1</text><rect fill=\"#383838\" height=\"12\" style=\"stroke: #F8F8F8; stroke-width: 1.5;\" width=\"12\" x=\"132.5\" y=\"96\"/><text fill=\"#000000\" font-family=\"sans-serif\" font-size=\"14\" lengthAdjust=\"spacingAndGlyphs\" textLength=\"44\" x=\"116.5\" y=\"33.6982\">porig1</text><rect fill=\"#383838\" height=\"12\" style=\"stroke: #F8F8F8; stroke-width: 1.5;\" width=\"12\" x=\"132.5\" y=\"49\"/><text fill=\"#000000\" font-family=\"sans-serif\" font-size=\"14\" lengthAdjust=\"spacingAndGlyphs\" textLength=\"27\" x=\"125\" y=\"202.6982\">po1</text><rect fill=\"#383838\" height=\"12\" style=\"stroke: #F8F8F8; stroke-width: 1.5;\" width=\"12\" x=\"132.5\" y=\"218\"/><text fill=\"#000000\" font-family=\"sans-serif\" font-size=\"14\" lengthAdjust=\"spacingAndGlyphs\" textLength=\"40\" x=\"286.5\" y=\"203.9951\">pdest</text><rect fill=\"#383838\" height=\"12\" style=\"stroke: #F8F8F8; stroke-width: 1.5;\" width=\"12\" x=\"300.5\" y=\"179\"/><text fill=\"#000000\" font-family=\"sans-serif\" font-size=\"14\" lengthAdjust=\"spacingAndGlyphs\" textLength=\"40\" x=\"286.5\" y=\"116.6982\">pdest</text><rect fill=\"#383838\" height=\"12\" style=\"stroke: #F8F8F8; stroke-width: 1.5;\" width=\"12\" x=\"300.5\" y=\"132\"/><!--MD5=[1c0b9414cc86e0744215edee6abd8926]\n",
       "link E7 to E9--><a href=\"psysml:ee24455c-c65b-41eb-8958-74c54e28cd84\" target=\"_top\" title=\"psysml:ee24455c-c65b-41eb-8958-74c54e28cd84\" xlink:actuate=\"onRequest\" xlink:href=\"psysml:ee24455c-c65b-41eb-8958-74c54e28cd84\" xlink:show=\"new\" xlink:title=\"psysml:ee24455c-c65b-41eb-8958-74c54e28cd84\" xlink:type=\"simple\"><path d=\"M144.65,227.6 C169.39,232.38 275.81,207.37 300.41,190.98 \" fill=\"none\" id=\"E7-E9\" style=\"stroke: #383838; stroke-width: 3.0;\"/><text fill=\"#000000\" font-family=\"sans-serif\" font-size=\"13\" lengthAdjust=\"spacingAndGlyphs\" textLength=\"7\" x=\"287.7759\" y=\"211.0054\">*</text></a><!--MD5=[1c0b9414cc86e0744215edee6abd8926]\n",
       "link E7 to E9--><a href=\"psysml:1d0a5b52-6a4c-4cbe-b03e-99be5638e392\" target=\"_top\" title=\"psysml:1d0a5b52-6a4c-4cbe-b03e-99be5638e392\" xlink:actuate=\"onRequest\" xlink:href=\"psysml:1d0a5b52-6a4c-4cbe-b03e-99be5638e392\" xlink:show=\"new\" xlink:title=\"psysml:1d0a5b52-6a4c-4cbe-b03e-99be5638e392\" xlink:type=\"simple\"><path d=\"M144.29,217.95 C168.32,200.93 275.56,175.68 300.37,181.12 \" fill=\"none\" id=\"E7-E9-1\" style=\"stroke: #383838; stroke-width: 3.0;\"/><text fill=\"#000000\" font-family=\"sans-serif\" font-size=\"13\" lengthAdjust=\"spacingAndGlyphs\" textLength=\"7\" x=\"285.4253\" y=\"168.8532\">*</text></a><!--MD5=[f5970d3ba88fa70b49779cfb3ab368be]\n",
       "@startuml\r\n",
       "skinparam ranksep 10\r\n",
       "skinparam rectangle {\r\n",
       " backgroundColor<<block>> LightGreen\r\n",
       "}\r\n",
       "left to right direction\r\n",
       "skinparam monochrome true\r\n",
       "skinparam classbackgroundcolor white\r\n",
       "skinparam shadowing false\r\n",
       "skinparam wrapWidth 300\r\n",
       "hide circle\r\n",
       "\r\n",
       "package \"AliasTest\" as E1  [[psysml:dccc75fb-db16-4804-85cb-688c27ce5ff3 ]]  {\r\n",
       "comp usage \"q :> Quantities::tensorQuantities\" as E2  <<(T,blue) attribute>> [[psysml:ce72622b-28d6-4d09-bee8-b5dd20a40a54 ]] {\r\n",
       "}\r\n",
       "rec def \"P1\" as E3  <<(T,blue) part  def>> [[psysml:61eb2658-da6c-419b-a94e-058b00326cab ]] {\r\n",
       "portin \"porig1\" as E4  <<(T,blue) port>> [[psysml:9ae2babd-6d67-4765-bfe5-8d775f3bcf42 ]] \r\n",
       "portin \"porig1\" as E5  <<(T,blue) port>> [[psysml:9ae2babd-6d67-4765-bfe5-8d775f3bcf42 ]] \r\n",
       "}\r\n",
       "rec usage \"p1: P1\" as E6  [[psysml:11b2a6df-aab5-4dc5-a120-8a7b1f52b05c ]] {\r\n",
       "portin \"po1\" as E7  <<(T,blue) port>> [[psysml:a231442e-2600-41cf-892c-df88027eb505 ]] \r\n",
       "}\r\n",
       "rec usage \"p2: P1\" as E8  [[psysml:2c2598c5-3ef5-4f1d-ae32-f3d429fa4c2f ]] {\r\n",
       "portin \"pdest\" as E9  <<(T,blue) port>> [[psysml:10820d16-405d-40a2-9551-06e34552661e ]] \r\n",
       "portin \"pdest\" as E10  <<(T,blue) port>> [[psysml:10820d16-405d-40a2-9551-06e34552661e ]] \r\n",
       "}\r\n",
       "}\r\n",
       "E7 -[thickness=3]- \"*\"E9 [[psysml:ee24455c-c65b-41eb-8958-74c54e28cd84 ]] \r\n",
       "E7 -[thickness=3]- \"*\"E9 [[psysml:1d0a5b52-6a4c-4cbe-b03e-99be5638e392 ]] \r\n",
       "@enduml\r\n",
       "\n",
       "PlantUML version 1.2020.13(Sat Jun 13 12:26:38 UTC 2020)\n",
       "(EPL source distribution)\n",
       "Java Runtime: OpenJDK Runtime Environment\n",
       "JVM: OpenJDK 64-Bit Server VM\n",
       "Default Encoding: UTF-8\n",
       "Language: en\n",
       "Country: null\n",
       "--></g></svg>"
      ]
     },
     "execution_count": 19,
     "metadata": {},
     "output_type": "execute_result"
    }
   ],
   "source": [
    "%viz --style=\"LR\" --view=\"Interconnection\" \"AliasTest\""
   ]
  },
  {
   "cell_type": "code",
   "execution_count": 20,
   "id": "26397025",
   "metadata": {
    "execution": {
     "iopub.execute_input": "2021-10-25T08:23:53.323698Z",
     "iopub.status.busy": "2021-10-25T08:23:53.323255Z",
     "iopub.status.idle": "2021-10-25T08:23:53.329703Z",
     "shell.execute_reply": "2021-10-25T08:23:53.329348Z"
    }
   },
   "outputs": [
    {
     "data": {
      "image/svg+xml": [
       "<?xml version=\"1.0\" encoding=\"UTF-8\" standalone=\"no\"?><svg xmlns=\"http://www.w3.org/2000/svg\" xmlns:xlink=\"http://www.w3.org/1999/xlink\" contentScriptType=\"application/ecmascript\" contentStyleType=\"text/css\" height=\"12px\" preserveAspectRatio=\"none\" style=\"width:12px;height:12px;\" version=\"1.1\" viewBox=\"0 0 12 12\" width=\"12px\" zoomAndPan=\"magnify\"><defs/><g><!--MD5=[7aeb398939421629f6affaa4a1a7b125]\n",
       "@startuml\r\n",
       "skinparam ranksep 8\r\n",
       "left to right direction\r\n",
       "skinparam monochrome true\r\n",
       "skinparam classbackgroundcolor white\r\n",
       "skinparam shadowing false\r\n",
       "skinparam wrapWidth 300\r\n",
       "hide circle\r\n",
       "\r\n",
       "@enduml\r\n",
       "\n",
       "PlantUML version 1.2020.13(Sat Jun 13 12:26:38 UTC 2020)\n",
       "(EPL source distribution)\n",
       "Java Runtime: OpenJDK Runtime Environment\n",
       "JVM: OpenJDK 64-Bit Server VM\n",
       "Default Encoding: UTF-8\n",
       "Language: en\n",
       "Country: null\n",
       "--></g></svg>"
      ]
     },
     "execution_count": 20,
     "metadata": {},
     "output_type": "execute_result"
    }
   ],
   "source": [
    "%viz --style=\"LR\" --view=\"Action\" \"AliasTest\""
   ]
  },
  {
   "cell_type": "code",
   "execution_count": 21,
   "id": "58e4ed23",
   "metadata": {
    "execution": {
     "iopub.execute_input": "2021-10-25T08:23:53.379253Z",
     "iopub.status.busy": "2021-10-25T08:23:53.378834Z",
     "iopub.status.idle": "2021-10-25T08:23:53.385555Z",
     "shell.execute_reply": "2021-10-25T08:23:53.385878Z"
    }
   },
   "outputs": [
    {
     "data": {
      "image/svg+xml": [
       "<?xml version=\"1.0\" encoding=\"UTF-8\" standalone=\"no\"?><svg xmlns=\"http://www.w3.org/2000/svg\" xmlns:xlink=\"http://www.w3.org/1999/xlink\" contentScriptType=\"application/ecmascript\" contentStyleType=\"text/css\" height=\"12px\" preserveAspectRatio=\"none\" style=\"width:12px;height:12px;\" version=\"1.1\" viewBox=\"0 0 12 12\" width=\"12px\" zoomAndPan=\"magnify\"><defs/><g><!--MD5=[238c11ea2002f03115ad6b49a457d50e]\n",
       "@startuml\r\n",
       "skinparam roundcorner 20\r\n",
       "skinparam BoxPadding 20\r\n",
       "skinparam SequenceBoxBackgroundColor #white\r\n",
       "skinparam style strictuml\r\n",
       "skinparam maxMessageSize 100\r\n",
       "left to right direction\r\n",
       "skinparam monochrome true\r\n",
       "skinparam classbackgroundcolor white\r\n",
       "skinparam shadowing false\r\n",
       "skinparam wrapWidth 300\r\n",
       "hide circle\r\n",
       "\r\n",
       "@enduml\r\n",
       "\n",
       "PlantUML version 1.2020.13(Sat Jun 13 12:26:38 UTC 2020)\n",
       "(EPL source distribution)\n",
       "Java Runtime: OpenJDK Runtime Environment\n",
       "JVM: OpenJDK 64-Bit Server VM\n",
       "Default Encoding: UTF-8\n",
       "Language: en\n",
       "Country: null\n",
       "--></g></svg>"
      ]
     },
     "execution_count": 21,
     "metadata": {},
     "output_type": "execute_result"
    }
   ],
   "source": [
    "%viz --style=\"LR\" --view=\"Sequence\" \"AliasTest\""
   ]
  },
  {
   "cell_type": "code",
   "execution_count": 22,
   "id": "6eab3c2c",
   "metadata": {
    "execution": {
     "iopub.execute_input": "2021-10-25T08:23:53.435567Z",
     "iopub.status.busy": "2021-10-25T08:23:53.435154Z",
     "iopub.status.idle": "2021-10-25T08:23:53.478674Z",
     "shell.execute_reply": "2021-10-25T08:23:53.478311Z"
    }
   },
   "outputs": [
    {
     "data": {
      "image/svg+xml": [
       "<?xml version=\"1.0\" encoding=\"UTF-8\" standalone=\"no\"?><svg xmlns=\"http://www.w3.org/2000/svg\" xmlns:xlink=\"http://www.w3.org/1999/xlink\" contentScriptType=\"application/ecmascript\" contentStyleType=\"text/css\" height=\"277px\" preserveAspectRatio=\"none\" style=\"width:519px;height:277px;\" version=\"1.1\" viewBox=\"0 0 519 277\" width=\"519px\" zoomAndPan=\"magnify\"><defs/><g><!--MD5=[fbc87193dbaf4d95561dea2c320d4a47]\n",
       "cluster E1--><a href=\"psysml:dccc75fb-db16-4804-85cb-688c27ce5ff3\" target=\"_top\" title=\"psysml:dccc75fb-db16-4804-85cb-688c27ce5ff3\" xlink:actuate=\"onRequest\" xlink:href=\"psysml:dccc75fb-db16-4804-85cb-688c27ce5ff3\" xlink:show=\"new\" xlink:title=\"psysml:dccc75fb-db16-4804-85cb-688c27ce5ff3\" xlink:type=\"simple\"><polygon fill=\"#FFFFFF\" points=\"16,6,84,6,91,28.2969,497,28.2969,497,265,16,265,16,6\" style=\"stroke: #000000; stroke-width: 1.5;\"/><line style=\"stroke: #000000; stroke-width: 1.5;\" x1=\"16\" x2=\"91\" y1=\"28.2969\" y2=\"28.2969\"/><text fill=\"#000000\" font-family=\"sans-serif\" font-size=\"14\" font-weight=\"bold\" lengthAdjust=\"spacingAndGlyphs\" textLength=\"62\" x=\"20\" y=\"20.9951\">AliasTest</text></a><!--MD5=[b4997ac47864f28c2f74865a473b2911]\n",
       "class E2--><a href=\"psysml:ce72622b-28d6-4d09-bee8-b5dd20a40a54\" target=\"_top\" title=\"psysml:ce72622b-28d6-4d09-bee8-b5dd20a40a54\" xlink:actuate=\"onRequest\" xlink:href=\"psysml:ce72622b-28d6-4d09-bee8-b5dd20a40a54\" xlink:show=\"new\" xlink:title=\"psysml:ce72622b-28d6-4d09-bee8-b5dd20a40a54\" xlink:type=\"simple\"><rect fill=\"#FFFFFF\" height=\"45.9375\" id=\"E2\" rx=\"10\" ry=\"10\" style=\"stroke: #383838; stroke-width: 1.5;\" width=\"213\" x=\"32\" y=\"41\"/><text fill=\"#000000\" font-family=\"sans-serif\" font-size=\"12\" font-style=\"italic\" lengthAdjust=\"spacingAndGlyphs\" textLength=\"69\" x=\"104\" y=\"57.1387\">«attribute»</text><text fill=\"#000000\" font-family=\"sans-serif\" font-size=\"12\" lengthAdjust=\"spacingAndGlyphs\" textLength=\"207\" x=\"35\" y=\"71.1074\">q :&gt; Quantities::tensorQuantities</text><line style=\"stroke: #383838; stroke-width: 1.5;\" x1=\"33\" x2=\"244\" y1=\"78.9375\" y2=\"78.9375\"/></a><!--MD5=[09b614a08d8cba4a07c9adeb5e0fee81]\n",
       "class E3--><a href=\"psysml:61eb2658-da6c-419b-a94e-058b00326cab\" target=\"_top\" title=\"psysml:61eb2658-da6c-419b-a94e-058b00326cab\" xlink:actuate=\"onRequest\" xlink:href=\"psysml:61eb2658-da6c-419b-a94e-058b00326cab\" xlink:show=\"new\" xlink:title=\"psysml:61eb2658-da6c-419b-a94e-058b00326cab\" xlink:type=\"simple\"><rect fill=\"#FFFFFF\" height=\"45.9375\" id=\"E3\" style=\"stroke: #383838; stroke-width: 1.5;\" width=\"70\" x=\"305\" y=\"63\"/><text fill=\"#000000\" font-family=\"sans-serif\" font-size=\"12\" font-style=\"italic\" lengthAdjust=\"spacingAndGlyphs\" textLength=\"68\" x=\"306\" y=\"79.1387\">«part  def»</text><text fill=\"#000000\" font-family=\"sans-serif\" font-size=\"12\" lengthAdjust=\"spacingAndGlyphs\" textLength=\"16\" x=\"332\" y=\"93.1074\">P1</text><line style=\"stroke: #383838; stroke-width: 1.5;\" x1=\"306\" x2=\"374\" y1=\"100.9375\" y2=\"100.9375\"/></a><!--MD5=[ebbe1d658d1005bcc118a6aa81145e00]\n",
       "class E4--><a href=\"psysml:9ae2babd-6d67-4765-bfe5-8d775f3bcf42\" target=\"_top\" title=\"psysml:9ae2babd-6d67-4765-bfe5-8d775f3bcf42\" xlink:actuate=\"onRequest\" xlink:href=\"psysml:9ae2babd-6d67-4765-bfe5-8d775f3bcf42\" xlink:show=\"new\" xlink:title=\"psysml:9ae2babd-6d67-4765-bfe5-8d775f3bcf42\" xlink:type=\"simple\"><rect fill=\"#FFFFFF\" height=\"45.9375\" id=\"E4\" rx=\"10\" ry=\"10\" style=\"stroke: #383838; stroke-width: 1.5;\" width=\"46\" x=\"435\" y=\"63\"/><text fill=\"#000000\" font-family=\"sans-serif\" font-size=\"12\" font-style=\"italic\" lengthAdjust=\"spacingAndGlyphs\" textLength=\"40\" x=\"438\" y=\"79.1387\">«port»</text><text fill=\"#000000\" font-family=\"sans-serif\" font-size=\"12\" lengthAdjust=\"spacingAndGlyphs\" textLength=\"40\" x=\"438\" y=\"93.1074\">porig1</text><line style=\"stroke: #383838; stroke-width: 1.5;\" x1=\"436\" x2=\"480\" y1=\"100.9375\" y2=\"100.9375\"/></a><!--MD5=[270fce915f116d4de14055a7c1d9a0f3]\n",
       "class E5--><a href=\"psysml:11b2a6df-aab5-4dc5-a120-8a7b1f52b05c\" target=\"_top\" title=\"psysml:11b2a6df-aab5-4dc5-a120-8a7b1f52b05c\" xlink:actuate=\"onRequest\" xlink:href=\"psysml:11b2a6df-aab5-4dc5-a120-8a7b1f52b05c\" xlink:show=\"new\" xlink:title=\"psysml:11b2a6df-aab5-4dc5-a120-8a7b1f52b05c\" xlink:type=\"simple\"><rect fill=\"#FFFFFF\" height=\"45.9375\" id=\"E5\" rx=\"10\" ry=\"10\" style=\"stroke: #383838; stroke-width: 1.5;\" width=\"50\" x=\"113.5\" y=\"122\"/><text fill=\"#000000\" font-family=\"sans-serif\" font-size=\"12\" font-style=\"italic\" lengthAdjust=\"spacingAndGlyphs\" textLength=\"40\" x=\"118.5\" y=\"138.1387\">«part»</text><text fill=\"#000000\" font-family=\"sans-serif\" font-size=\"12\" lengthAdjust=\"spacingAndGlyphs\" textLength=\"40\" x=\"116.5\" y=\"152.1074\">p1: P1</text><line style=\"stroke: #383838; stroke-width: 1.5;\" x1=\"114.5\" x2=\"162.5\" y1=\"159.9375\" y2=\"159.9375\"/></a><!--MD5=[60a26617385b1d2d0262a64233df1f8d]\n",
       "class E6--><a href=\"psysml:a231442e-2600-41cf-892c-df88027eb505\" target=\"_top\" title=\"psysml:a231442e-2600-41cf-892c-df88027eb505\" xlink:actuate=\"onRequest\" xlink:href=\"psysml:a231442e-2600-41cf-892c-df88027eb505\" xlink:show=\"new\" xlink:title=\"psysml:a231442e-2600-41cf-892c-df88027eb505\" xlink:type=\"simple\"><rect fill=\"#FFFFFF\" height=\"45.9375\" id=\"E6\" rx=\"10\" ry=\"10\" style=\"stroke: #383838; stroke-width: 1.5;\" width=\"42\" x=\"319\" y=\"144\"/><text fill=\"#000000\" font-family=\"sans-serif\" font-size=\"12\" font-style=\"italic\" lengthAdjust=\"spacingAndGlyphs\" textLength=\"40\" x=\"320\" y=\"160.1387\">«port»</text><text fill=\"#000000\" font-family=\"sans-serif\" font-size=\"12\" lengthAdjust=\"spacingAndGlyphs\" textLength=\"24\" x=\"328\" y=\"174.1074\">po1</text><line style=\"stroke: #383838; stroke-width: 1.5;\" x1=\"320\" x2=\"360\" y1=\"181.9375\" y2=\"181.9375\"/></a><!--MD5=[2156ba9850f5573cc1fc38a6a4b2f02b]\n",
       "class E7--><a href=\"psysml:2c2598c5-3ef5-4f1d-ae32-f3d429fa4c2f\" target=\"_top\" title=\"psysml:2c2598c5-3ef5-4f1d-ae32-f3d429fa4c2f\" xlink:actuate=\"onRequest\" xlink:href=\"psysml:2c2598c5-3ef5-4f1d-ae32-f3d429fa4c2f\" xlink:show=\"new\" xlink:title=\"psysml:2c2598c5-3ef5-4f1d-ae32-f3d429fa4c2f\" xlink:type=\"simple\"><rect fill=\"#FFFFFF\" height=\"45.9375\" id=\"E7\" rx=\"10\" ry=\"10\" style=\"stroke: #383838; stroke-width: 1.5;\" width=\"50\" x=\"113.5\" y=\"203\"/><text fill=\"#000000\" font-family=\"sans-serif\" font-size=\"12\" font-style=\"italic\" lengthAdjust=\"spacingAndGlyphs\" textLength=\"40\" x=\"118.5\" y=\"219.1387\">«part»</text><text fill=\"#000000\" font-family=\"sans-serif\" font-size=\"12\" lengthAdjust=\"spacingAndGlyphs\" textLength=\"40\" x=\"116.5\" y=\"233.1074\">p2: P1</text><line style=\"stroke: #383838; stroke-width: 1.5;\" x1=\"114.5\" x2=\"162.5\" y1=\"240.9375\" y2=\"240.9375\"/></a><!--MD5=[b9389687b975829384b498ac4b7476b2]\n",
       "class E8--><a href=\"psysml:10820d16-405d-40a2-9551-06e34552661e\" target=\"_top\" title=\"psysml:10820d16-405d-40a2-9551-06e34552661e\" xlink:actuate=\"onRequest\" xlink:href=\"psysml:10820d16-405d-40a2-9551-06e34552661e\" xlink:show=\"new\" xlink:title=\"psysml:10820d16-405d-40a2-9551-06e34552661e\" xlink:type=\"simple\"><rect fill=\"#FFFFFF\" height=\"45.9375\" id=\"E8\" rx=\"10\" ry=\"10\" style=\"stroke: #383838; stroke-width: 1.5;\" width=\"42\" x=\"437\" y=\"173\"/><text fill=\"#000000\" font-family=\"sans-serif\" font-size=\"12\" font-style=\"italic\" lengthAdjust=\"spacingAndGlyphs\" textLength=\"40\" x=\"438\" y=\"189.1387\">«port»</text><text fill=\"#000000\" font-family=\"sans-serif\" font-size=\"12\" lengthAdjust=\"spacingAndGlyphs\" textLength=\"36\" x=\"440\" y=\"203.1074\">pdest</text><line style=\"stroke: #383838; stroke-width: 1.5;\" x1=\"438\" x2=\"478\" y1=\"210.9375\" y2=\"210.9375\"/></a><!--MD5=[4672eba38e49728da53d11aeb285b987]\n",
       "reverse link E3 to E4--><a href=\"psysml:8e3ccc77-0a8c-4c0b-a5d7-07a6acaf5014\" target=\"_top\" title=\"psysml:8e3ccc77-0a8c-4c0b-a5d7-07a6acaf5014\" xlink:actuate=\"onRequest\" xlink:href=\"psysml:8e3ccc77-0a8c-4c0b-a5d7-07a6acaf5014\" xlink:show=\"new\" xlink:title=\"psysml:8e3ccc77-0a8c-4c0b-a5d7-07a6acaf5014\" xlink:type=\"simple\"><path d=\"M388.3,98.56 C404.38,99.15 421.6,98.39 434.77,96.29 \" fill=\"none\" id=\"E3&lt;-E4\" style=\"stroke: #383838; stroke-width: 1.0;\"/><polygon fill=\"#FFFFFF\" points=\"375.18,97.74,380.9227,102.1014,387.1573,98.4779,381.4146,94.1165,375.18,97.74\" style=\"stroke: #383838; stroke-width: 1.0;\"/><text fill=\"#000000\" font-family=\"sans-serif\" font-size=\"13\" lengthAdjust=\"spacingAndGlyphs\" textLength=\"8\" x=\"419.1116\" y=\"113.3878\">1</text></a><!--MD5=[4672eba38e49728da53d11aeb285b987]\n",
       "reverse link E3 to E4--><a href=\"psysml:408c218d-2c50-4f10-8495-de57c6cccdaf\" target=\"_top\" title=\"psysml:408c218d-2c50-4f10-8495-de57c6cccdaf\" xlink:actuate=\"onRequest\" xlink:href=\"psysml:408c218d-2c50-4f10-8495-de57c6cccdaf\" xlink:show=\"new\" xlink:title=\"psysml:408c218d-2c50-4f10-8495-de57c6cccdaf\" xlink:type=\"simple\"><path d=\"M390.24,72.64 C405.75,72.15 422.12,72.97 434.77,75.11 \" fill=\"none\" id=\"E3&lt;-E4-1\" style=\"stroke: #383838; stroke-width: 1.0; stroke-dasharray: 7.0,7.0;\"/><ellipse cx=\"383.1647\" cy=\"73.0748\" fill=\"#FFFFFF\" rx=\"8\" ry=\"8\" style=\"stroke: #383838; stroke-width: 1.0;\"/><line style=\"stroke: #383838; stroke-width: 1.0;\" x1=\"391.1493\" x2=\"375.18\" y1=\"72.5795\" y2=\"73.57\"/><line style=\"stroke: #383838; stroke-width: 1.0;\" x1=\"383.6599\" x2=\"382.6694\" y1=\"81.0594\" y2=\"65.0901\"/><text fill=\"#000000\" font-family=\"sans-serif\" font-size=\"13\" lengthAdjust=\"spacingAndGlyphs\" textLength=\"8\" x=\"419.1116\" y=\"86.2509\">1</text></a><!--MD5=[e9be52314489bd878ff4c7144b63c9e1]\n",
       "link E5 to E3--><a href=\"psysml:39d7aa17-d9aa-4290-8253-e0b073366074\" target=\"_top\" title=\"psysml:39d7aa17-d9aa-4290-8253-e0b073366074\" xlink:actuate=\"onRequest\" xlink:href=\"psysml:39d7aa17-d9aa-4290-8253-e0b073366074\" xlink:show=\"new\" xlink:title=\"psysml:39d7aa17-d9aa-4290-8253-e0b073366074\" xlink:type=\"simple\"><path d=\"M163.56,137.88 C193.57,129.01 245.74,113.58 285.41,101.85 \" fill=\"none\" id=\"E5-&gt;E3\" style=\"stroke: #383838; stroke-width: 1.0;\"/><polygon fill=\"#FFFFFF\" points=\"304.84,96.1,288.6038,108.199,284.6351,94.7733,304.84,96.1\" style=\"stroke: #383838; stroke-width: 1.0;\"/><ellipse cx=\"282.5706\" cy=\"107.8969\" fill=\"#383838\" rx=\"2\" ry=\"2\" style=\"stroke: #383838; stroke-width: 1.0;\"/><ellipse cx=\"279.7358\" cy=\"98.3071\" fill=\"#383838\" rx=\"2\" ry=\"2\" style=\"stroke: #383838; stroke-width: 1.0;\"/></a><!--MD5=[85d356282659285ab4b2cfe2f634dd2b]\n",
       "reverse link E5 to E6--><a href=\"psysml:0602bff9-807d-4c23-b932-30af011e0640\" target=\"_top\" title=\"psysml:0602bff9-807d-4c23-b932-30af011e0640\" xlink:actuate=\"onRequest\" xlink:href=\"psysml:0602bff9-807d-4c23-b932-30af011e0640\" xlink:show=\"new\" xlink:title=\"psysml:0602bff9-807d-4c23-b932-30af011e0640\" xlink:type=\"simple\"><path d=\"M176.5,149.08 C218.48,153.71 285.42,161.09 318.76,164.77 \" fill=\"none\" id=\"E5&lt;-E6\" style=\"stroke: #383838; stroke-width: 1.0;\"/><polygon fill=\"#FFFFFF\" points=\"163.56,147.65,169.0889,152.2794,175.4887,148.9563,169.9598,144.3269,163.56,147.65\" style=\"stroke: #383838; stroke-width: 1.0;\"/><text fill=\"#000000\" font-family=\"sans-serif\" font-size=\"13\" lengthAdjust=\"spacingAndGlyphs\" textLength=\"8\" x=\"303.0302\" y=\"178.4807\">1</text></a><!--MD5=[f667431f98296947986a1a7595a31603]\n",
       "link E6 to E4--><a href=\"psysml:5ed5dee3-04af-484b-a73a-bf3d62fb0484\" target=\"_top\" title=\"psysml:5ed5dee3-04af-484b-a73a-bf3d62fb0484\" xlink:actuate=\"onRequest\" xlink:href=\"psysml:5ed5dee3-04af-484b-a73a-bf3d62fb0484\" xlink:show=\"new\" xlink:title=\"psysml:5ed5dee3-04af-484b-a73a-bf3d62fb0484\" xlink:type=\"simple\"><path d=\"M361.21,152.89 C376.83,141.98 398.94,126.54 417.98,113.25 \" fill=\"none\" id=\"E6-&gt;E4\" style=\"stroke: #383838; stroke-width: 1.0;\"/><polygon fill=\"#FFFFFF\" points=\"434.65,101.61,423.0735,118.2228,415.0625,106.7414,434.65,101.61\" style=\"stroke: #383838; stroke-width: 1.0;\"/><line style=\"stroke: #383838; stroke-width: 2.0;\" x1=\"419.9571\" x2=\"411.9461\" y1=\"120.3972\" y2=\"108.9158\"/></a><!--MD5=[14ccda38c055a5c0da953d572bc50960]\n",
       "link E7 to E3--><a href=\"psysml:6afc3f94-967f-4ac8-9c89-c7c9ad6aa496\" target=\"_top\" title=\"psysml:6afc3f94-967f-4ac8-9c89-c7c9ad6aa496\" xlink:actuate=\"onRequest\" xlink:href=\"psysml:6afc3f94-967f-4ac8-9c89-c7c9ad6aa496\" xlink:show=\"new\" xlink:title=\"psysml:6afc3f94-967f-4ac8-9c89-c7c9ad6aa496\" xlink:type=\"simple\"><path d=\"M163.56,219.94 C185.94,213.57 219.54,202.08 245,185 C258.5,175.94 284.51,148.17 305.76,124.34 \" fill=\"none\" id=\"E7-&gt;E3\" style=\"stroke: #383838; stroke-width: 1.0;\"/><polygon fill=\"#FFFFFF\" points=\"319.17,109.12,311.8629,128.004,301.3579,118.7496,319.17,109.12\" style=\"stroke: #383838; stroke-width: 1.0;\"/><ellipse cx=\"306.5943\" cy=\"130.959\" fill=\"#383838\" rx=\"2\" ry=\"2\" style=\"stroke: #383838; stroke-width: 1.0;\"/><ellipse cx=\"299.0908\" cy=\"124.3487\" fill=\"#383838\" rx=\"2\" ry=\"2\" style=\"stroke: #383838; stroke-width: 1.0;\"/></a><!--MD5=[dc164f5e8a733ab456ef1add180e9e34]\n",
       "reverse link E7 to E8--><a href=\"psysml:9a63abc5-83ea-4d36-8ec2-a9e5009e1a31\" target=\"_top\" title=\"psysml:9a63abc5-83ea-4d36-8ec2-a9e5009e1a31\" xlink:actuate=\"onRequest\" xlink:href=\"psysml:9a63abc5-83ea-4d36-8ec2-a9e5009e1a31\" xlink:show=\"new\" xlink:title=\"psysml:9a63abc5-83ea-4d36-8ec2-a9e5009e1a31\" xlink:type=\"simple\"><path d=\"M176.85,235.51 C223.34,237.47 305.14,231.5 375,224 C396.14,221.73 420.24,218.41 436.82,212.73 \" fill=\"none\" id=\"E7&lt;-E8\" style=\"stroke: #383838; stroke-width: 1.0;\"/><polygon fill=\"#FFFFFF\" points=\"163.61,234.64,169.3332,239.0269,175.5839,235.4312,169.8607,231.0443,163.61,234.64\" style=\"stroke: #383838; stroke-width: 1.0;\"/><text fill=\"#000000\" font-family=\"sans-serif\" font-size=\"13\" lengthAdjust=\"spacingAndGlyphs\" textLength=\"8\" x=\"421.1086\" y=\"232.2472\">1</text></a><!--MD5=[dc164f5e8a733ab456ef1add180e9e34]\n",
       "reverse link E7 to E8--><a href=\"psysml:af85dbb9-a19a-4dbd-bd41-700a2e1e88fd\" target=\"_top\" title=\"psysml:af85dbb9-a19a-4dbd-bd41-700a2e1e88fd\" xlink:actuate=\"onRequest\" xlink:href=\"psysml:af85dbb9-a19a-4dbd-bd41-700a2e1e88fd\" xlink:show=\"new\" xlink:title=\"psysml:af85dbb9-a19a-4dbd-bd41-700a2e1e88fd\" xlink:type=\"simple\"><path d=\"M178.37,210.71 C225.1,202.34 305.9,196.42 375,189 C396.14,186.73 420.24,183.41 436.82,184.49 \" fill=\"none\" id=\"E7&lt;-E8-1\" style=\"stroke: #383838; stroke-width: 1.0; stroke-dasharray: 7.0,7.0;\"/><ellipse cx=\"171.4484\" cy=\"212.1203\" fill=\"#FFFFFF\" rx=\"8\" ry=\"8\" style=\"stroke: #383838; stroke-width: 1.0;\"/><line style=\"stroke: #383838; stroke-width: 1.0;\" x1=\"179.2869\" x2=\"163.61\" y1=\"210.5206\" y2=\"213.72\"/><line style=\"stroke: #383838; stroke-width: 1.0;\" x1=\"173.0481\" x2=\"169.8488\" y1=\"219.9588\" y2=\"204.2819\"/><text fill=\"#000000\" font-family=\"sans-serif\" font-size=\"13\" lengthAdjust=\"spacingAndGlyphs\" textLength=\"8\" x=\"421.1086\" y=\"175.765\">1</text></a><!--MD5=[0a839d0f80c2d72d4b9b307f046d0de8]\n",
       "link E6 to E8--><a href=\"psysml:ee24455c-c65b-41eb-8958-74c54e28cd84\" target=\"_top\" title=\"psysml:ee24455c-c65b-41eb-8958-74c54e28cd84\" xlink:actuate=\"onRequest\" xlink:href=\"psysml:ee24455c-c65b-41eb-8958-74c54e28cd84\" xlink:show=\"new\" xlink:title=\"psysml:ee24455c-c65b-41eb-8958-74c54e28cd84\" xlink:type=\"simple\"><path d=\"M361.21,182 C382.37,191.02 415.42,199.29 436.64,200.89 \" fill=\"none\" id=\"E6-E8\" style=\"stroke: #383838; stroke-width: 3.0;\"/><text fill=\"#000000\" font-family=\"sans-serif\" font-size=\"13\" lengthAdjust=\"spacingAndGlyphs\" textLength=\"7\" x=\"422.0266\" y=\"216.7812\">*</text></a><!--MD5=[0a839d0f80c2d72d4b9b307f046d0de8]\n",
       "link E6 to E8--><a href=\"psysml:1d0a5b52-6a4c-4cbe-b03e-99be5638e392\" target=\"_top\" title=\"psysml:1d0a5b52-6a4c-4cbe-b03e-99be5638e392\" xlink:actuate=\"onRequest\" xlink:href=\"psysml:1d0a5b52-6a4c-4cbe-b03e-99be5638e392\" xlink:show=\"new\" xlink:title=\"psysml:1d0a5b52-6a4c-4cbe-b03e-99be5638e392\" xlink:type=\"simple\"><path d=\"M361.21,161.52 C382.37,162.86 415.42,171.12 436.64,180.35 \" fill=\"none\" id=\"E6-E8-1\" style=\"stroke: #383838; stroke-width: 3.0;\"/><text fill=\"#000000\" font-family=\"sans-serif\" font-size=\"13\" lengthAdjust=\"spacingAndGlyphs\" textLength=\"7\" x=\"422.0266\" y=\"189.9509\">*</text></a><!--MD5=[cf7a8dfbf2e74cfc4dee1316a89c46a8]\n",
       "@startuml\r\n",
       "left to right direction\r\n",
       "skinparam monochrome true\r\n",
       "skinparam classbackgroundcolor white\r\n",
       "skinparam shadowing false\r\n",
       "skinparam wrapWidth 300\r\n",
       "hide circle\r\n",
       "\r\n",
       "package \"AliasTest\" as E1  [[psysml:dccc75fb-db16-4804-85cb-688c27ce5ff3 ]]  {\r\n",
       "comp usage \"q :> Quantities::tensorQuantities\" as E2  <<(T,blue) attribute>> [[psysml:ce72622b-28d6-4d09-bee8-b5dd20a40a54 ]] {\r\n",
       "}\r\n",
       "comp def \"P1\" as E3  <<(T,blue) part  def>> [[psysml:61eb2658-da6c-419b-a94e-058b00326cab ]] {\r\n",
       "}\r\n",
       "comp usage \"porig1\" as E4  <<(T,blue) port>> [[psysml:9ae2babd-6d67-4765-bfe5-8d775f3bcf42 ]] {\r\n",
       "}\r\n",
       "comp usage \"p1: P1 \" as E5  <<(T,blue) part>> [[psysml:11b2a6df-aab5-4dc5-a120-8a7b1f52b05c ]] {\r\n",
       "}\r\n",
       "comp usage \"po1\" as E6  <<(T,blue) port>> [[psysml:a231442e-2600-41cf-892c-df88027eb505 ]] {\r\n",
       "}\r\n",
       "comp usage \"p2: P1 \" as E7  <<(T,blue) part>> [[psysml:2c2598c5-3ef5-4f1d-ae32-f3d429fa4c2f ]] {\r\n",
       "}\r\n",
       "comp usage \"pdest\" as E8  <<(T,blue) port>> [[psysml:10820d16-405d-40a2-9551-06e34552661e ]] {\r\n",
       "}\r\n",
       "}\r\n",
       "E3 o- - \"1\"E4 [[psysml:8e3ccc77-0a8c-4c0b-a5d7-07a6acaf5014 ]] \r\n",
       "E3 +.. \"1\"E4 [[psysml:408c218d-2c50-4f10-8495-de57c6cccdaf ]] \r\n",
       "E5 - -:|> E3 [[psysml:39d7aa17-d9aa-4290-8253-e0b073366074 ]] \r\n",
       "E5 o- - \"1\"E6 [[psysml:0602bff9-807d-4c23-b932-30af011e0640 ]] \r\n",
       "E6 - -||> E4 [[psysml:5ed5dee3-04af-484b-a73a-bf3d62fb0484 ]] \r\n",
       "E7 - -:|> E3 [[psysml:6afc3f94-967f-4ac8-9c89-c7c9ad6aa496 ]] \r\n",
       "E7 o- - \"1\"E8 [[psysml:9a63abc5-83ea-4d36-8ec2-a9e5009e1a31 ]] \r\n",
       "E7 +.. \"1\"E8 [[psysml:af85dbb9-a19a-4dbd-bd41-700a2e1e88fd ]] \r\n",
       "E6 -[thickness=3]- \"*\"E8 [[psysml:ee24455c-c65b-41eb-8958-74c54e28cd84 ]] \r\n",
       "E6 -[thickness=3]- \"*\"E8 [[psysml:1d0a5b52-6a4c-4cbe-b03e-99be5638e392 ]] \r\n",
       "@enduml\r\n",
       "\n",
       "PlantUML version 1.2020.13(Sat Jun 13 12:26:38 UTC 2020)\n",
       "(EPL source distribution)\n",
       "Java Runtime: OpenJDK Runtime Environment\n",
       "JVM: OpenJDK 64-Bit Server VM\n",
       "Default Encoding: UTF-8\n",
       "Language: en\n",
       "Country: null\n",
       "--></g></svg>"
      ]
     },
     "execution_count": 22,
     "metadata": {},
     "output_type": "execute_result"
    }
   ],
   "source": [
    "%viz --style=\"LR\" --view=\"MIXED\" \"AliasTest\""
   ]
  },
  {
   "cell_type": "code",
   "execution_count": 23,
   "id": "20ac635b",
   "metadata": {
    "execution": {
     "iopub.execute_input": "2021-10-25T08:23:53.528164Z",
     "iopub.status.busy": "2021-10-25T08:23:53.527716Z",
     "iopub.status.idle": "2021-10-25T08:23:53.570962Z",
     "shell.execute_reply": "2021-10-25T08:23:53.569021Z"
    }
   },
   "outputs": [
    {
     "data": {
      "image/svg+xml": [
       "<?xml version=\"1.0\" encoding=\"UTF-8\" standalone=\"no\"?><svg xmlns=\"http://www.w3.org/2000/svg\" xmlns:xlink=\"http://www.w3.org/1999/xlink\" contentScriptType=\"application/ecmascript\" contentStyleType=\"text/css\" height=\"327px\" preserveAspectRatio=\"none\" style=\"width:453px;height:327px;\" version=\"1.1\" viewBox=\"0 0 453 327\" width=\"453px\" zoomAndPan=\"magnify\"><defs><filter height=\"300%\" id=\"f1cfvw3i2a3g3h\" width=\"300%\" x=\"-1\" y=\"-1\"><feGaussianBlur result=\"blurOut\" stdDeviation=\"2.0\"/><feColorMatrix in=\"blurOut\" result=\"blurOut2\" type=\"matrix\" values=\"0 0 0 0 0 0 0 0 0 0 0 0 0 0 0 0 0 0 .4 0\"/><feOffset dx=\"4.0\" dy=\"4.0\" in=\"blurOut2\" result=\"blurOut3\"/><feBlend in=\"SourceGraphic\" in2=\"blurOut3\" mode=\"normal\"/></filter></defs><g><!--MD5=[fbc87193dbaf4d95561dea2c320d4a47]\n",
       "cluster E1--><a href=\"psysml:dccc75fb-db16-4804-85cb-688c27ce5ff3\" target=\"_top\" title=\"psysml:dccc75fb-db16-4804-85cb-688c27ce5ff3\" xlink:actuate=\"onRequest\" xlink:href=\"psysml:dccc75fb-db16-4804-85cb-688c27ce5ff3\" xlink:show=\"new\" xlink:title=\"psysml:dccc75fb-db16-4804-85cb-688c27ce5ff3\" xlink:type=\"simple\"><polygon fill=\"#FFFFFF\" filter=\"url(#f1cfvw3i2a3g3h)\" points=\"16,6,84,6,91,28.2969,431,28.2969,431,315,16,315,16,6\" style=\"stroke: #000000; stroke-width: 1.5;\"/><line style=\"stroke: #000000; stroke-width: 1.5;\" x1=\"16\" x2=\"91\" y1=\"28.2969\" y2=\"28.2969\"/><text fill=\"#000000\" font-family=\"sans-serif\" font-size=\"14\" font-weight=\"bold\" lengthAdjust=\"spacingAndGlyphs\" textLength=\"62\" x=\"20\" y=\"20.9951\">AliasTest</text></a><!--MD5=[b4997ac47864f28c2f74865a473b2911]\n",
       "class E2--><a href=\"psysml:ce72622b-28d6-4d09-bee8-b5dd20a40a54\" target=\"_top\" title=\"psysml:ce72622b-28d6-4d09-bee8-b5dd20a40a54\" xlink:actuate=\"onRequest\" xlink:href=\"psysml:ce72622b-28d6-4d09-bee8-b5dd20a40a54\" xlink:show=\"new\" xlink:title=\"psysml:ce72622b-28d6-4d09-bee8-b5dd20a40a54\" xlink:type=\"simple\"><rect fill=\"#FEFECE\" filter=\"url(#f1cfvw3i2a3g3h)\" height=\"45.9375\" id=\"E2\" rx=\"10\" ry=\"10\" style=\"stroke: #A80036; stroke-width: 1.5;\" width=\"213\" x=\"202.5\" y=\"41\"/><text fill=\"#000000\" font-family=\"sans-serif\" font-size=\"12\" font-style=\"italic\" lengthAdjust=\"spacingAndGlyphs\" textLength=\"69\" x=\"274.5\" y=\"57.1387\">«attribute»</text><text fill=\"#000000\" font-family=\"sans-serif\" font-size=\"12\" lengthAdjust=\"spacingAndGlyphs\" textLength=\"207\" x=\"205.5\" y=\"71.1074\">q :&gt; Quantities::tensorQuantities</text><line style=\"stroke: #A80036; stroke-width: 1.5;\" x1=\"203.5\" x2=\"414.5\" y1=\"78.9375\" y2=\"78.9375\"/></a><!--MD5=[09b614a08d8cba4a07c9adeb5e0fee81]\n",
       "class E3--><a href=\"psysml:61eb2658-da6c-419b-a94e-058b00326cab\" target=\"_top\" title=\"psysml:61eb2658-da6c-419b-a94e-058b00326cab\" xlink:actuate=\"onRequest\" xlink:href=\"psysml:61eb2658-da6c-419b-a94e-058b00326cab\" xlink:show=\"new\" xlink:title=\"psysml:61eb2658-da6c-419b-a94e-058b00326cab\" xlink:type=\"simple\"><rect fill=\"#FEFECE\" filter=\"url(#f1cfvw3i2a3g3h)\" height=\"45.9375\" id=\"E3\" style=\"stroke: #A80036; stroke-width: 1.5;\" width=\"70\" x=\"170\" y=\"147\"/><text fill=\"#000000\" font-family=\"sans-serif\" font-size=\"12\" font-style=\"italic\" lengthAdjust=\"spacingAndGlyphs\" textLength=\"68\" x=\"171\" y=\"163.1387\">«part  def»</text><text fill=\"#000000\" font-family=\"sans-serif\" font-size=\"12\" lengthAdjust=\"spacingAndGlyphs\" textLength=\"16\" x=\"197\" y=\"177.1074\">P1</text><line style=\"stroke: #A80036; stroke-width: 1.5;\" x1=\"171\" x2=\"239\" y1=\"184.9375\" y2=\"184.9375\"/></a><!--MD5=[ebbe1d658d1005bcc118a6aa81145e00]\n",
       "class E4--><a href=\"psysml:9ae2babd-6d67-4765-bfe5-8d775f3bcf42\" target=\"_top\" title=\"psysml:9ae2babd-6d67-4765-bfe5-8d775f3bcf42\" xlink:actuate=\"onRequest\" xlink:href=\"psysml:9ae2babd-6d67-4765-bfe5-8d775f3bcf42\" xlink:show=\"new\" xlink:title=\"psysml:9ae2babd-6d67-4765-bfe5-8d775f3bcf42\" xlink:type=\"simple\"><rect fill=\"#FEFECE\" filter=\"url(#f1cfvw3i2a3g3h)\" height=\"45.9375\" id=\"E4\" rx=\"10\" ry=\"10\" style=\"stroke: #A80036; stroke-width: 1.5;\" width=\"46\" x=\"182\" y=\"253\"/><text fill=\"#000000\" font-family=\"sans-serif\" font-size=\"12\" font-style=\"italic\" lengthAdjust=\"spacingAndGlyphs\" textLength=\"40\" x=\"185\" y=\"269.1387\">«port»</text><text fill=\"#000000\" font-family=\"sans-serif\" font-size=\"12\" lengthAdjust=\"spacingAndGlyphs\" textLength=\"40\" x=\"185\" y=\"283.1074\">porig1</text><line style=\"stroke: #A80036; stroke-width: 1.5;\" x1=\"183\" x2=\"227\" y1=\"290.9375\" y2=\"290.9375\"/></a><!--MD5=[270fce915f116d4de14055a7c1d9a0f3]\n",
       "class E5--><a href=\"psysml:11b2a6df-aab5-4dc5-a120-8a7b1f52b05c\" target=\"_top\" title=\"psysml:11b2a6df-aab5-4dc5-a120-8a7b1f52b05c\" xlink:actuate=\"onRequest\" xlink:href=\"psysml:11b2a6df-aab5-4dc5-a120-8a7b1f52b05c\" xlink:show=\"new\" xlink:title=\"psysml:11b2a6df-aab5-4dc5-a120-8a7b1f52b05c\" xlink:type=\"simple\"><rect fill=\"#FEFECE\" filter=\"url(#f1cfvw3i2a3g3h)\" height=\"45.9375\" id=\"E5\" rx=\"10\" ry=\"10\" style=\"stroke: #A80036; stroke-width: 1.5;\" width=\"50\" x=\"117\" y=\"41\"/><text fill=\"#000000\" font-family=\"sans-serif\" font-size=\"12\" font-style=\"italic\" lengthAdjust=\"spacingAndGlyphs\" textLength=\"40\" x=\"122\" y=\"57.1387\">«part»</text><text fill=\"#000000\" font-family=\"sans-serif\" font-size=\"12\" lengthAdjust=\"spacingAndGlyphs\" textLength=\"40\" x=\"120\" y=\"71.1074\">p1: P1</text><line style=\"stroke: #A80036; stroke-width: 1.5;\" x1=\"118\" x2=\"166\" y1=\"78.9375\" y2=\"78.9375\"/></a><!--MD5=[60a26617385b1d2d0262a64233df1f8d]\n",
       "class E6--><a href=\"psysml:a231442e-2600-41cf-892c-df88027eb505\" target=\"_top\" title=\"psysml:a231442e-2600-41cf-892c-df88027eb505\" xlink:actuate=\"onRequest\" xlink:href=\"psysml:a231442e-2600-41cf-892c-df88027eb505\" xlink:show=\"new\" xlink:title=\"psysml:a231442e-2600-41cf-892c-df88027eb505\" xlink:type=\"simple\"><rect fill=\"#FEFECE\" filter=\"url(#f1cfvw3i2a3g3h)\" height=\"45.9375\" id=\"E6\" rx=\"10\" ry=\"10\" style=\"stroke: #A80036; stroke-width: 1.5;\" width=\"42\" x=\"93\" y=\"147\"/><text fill=\"#000000\" font-family=\"sans-serif\" font-size=\"12\" font-style=\"italic\" lengthAdjust=\"spacingAndGlyphs\" textLength=\"40\" x=\"94\" y=\"163.1387\">«port»</text><text fill=\"#000000\" font-family=\"sans-serif\" font-size=\"12\" lengthAdjust=\"spacingAndGlyphs\" textLength=\"24\" x=\"102\" y=\"177.1074\">po1</text><line style=\"stroke: #A80036; stroke-width: 1.5;\" x1=\"94\" x2=\"134\" y1=\"184.9375\" y2=\"184.9375\"/></a><!--MD5=[2156ba9850f5573cc1fc38a6a4b2f02b]\n",
       "class E7--><a href=\"psysml:2c2598c5-3ef5-4f1d-ae32-f3d429fa4c2f\" target=\"_top\" title=\"psysml:2c2598c5-3ef5-4f1d-ae32-f3d429fa4c2f\" xlink:actuate=\"onRequest\" xlink:href=\"psysml:2c2598c5-3ef5-4f1d-ae32-f3d429fa4c2f\" xlink:show=\"new\" xlink:title=\"psysml:2c2598c5-3ef5-4f1d-ae32-f3d429fa4c2f\" xlink:type=\"simple\"><rect fill=\"#FEFECE\" filter=\"url(#f1cfvw3i2a3g3h)\" height=\"45.9375\" id=\"E7\" rx=\"10\" ry=\"10\" style=\"stroke: #A80036; stroke-width: 1.5;\" width=\"50\" x=\"32\" y=\"41\"/><text fill=\"#000000\" font-family=\"sans-serif\" font-size=\"12\" font-style=\"italic\" lengthAdjust=\"spacingAndGlyphs\" textLength=\"40\" x=\"37\" y=\"57.1387\">«part»</text><text fill=\"#000000\" font-family=\"sans-serif\" font-size=\"12\" lengthAdjust=\"spacingAndGlyphs\" textLength=\"40\" x=\"35\" y=\"71.1074\">p2: P1</text><line style=\"stroke: #A80036; stroke-width: 1.5;\" x1=\"33\" x2=\"81\" y1=\"78.9375\" y2=\"78.9375\"/></a><!--MD5=[b9389687b975829384b498ac4b7476b2]\n",
       "class E8--><a href=\"psysml:10820d16-405d-40a2-9551-06e34552661e\" target=\"_top\" title=\"psysml:10820d16-405d-40a2-9551-06e34552661e\" xlink:actuate=\"onRequest\" xlink:href=\"psysml:10820d16-405d-40a2-9551-06e34552661e\" xlink:show=\"new\" xlink:title=\"psysml:10820d16-405d-40a2-9551-06e34552661e\" xlink:type=\"simple\"><rect fill=\"#FEFECE\" filter=\"url(#f1cfvw3i2a3g3h)\" height=\"45.9375\" id=\"E8\" rx=\"10\" ry=\"10\" style=\"stroke: #A80036; stroke-width: 1.5;\" width=\"42\" x=\"65\" y=\"253\"/><text fill=\"#000000\" font-family=\"sans-serif\" font-size=\"12\" font-style=\"italic\" lengthAdjust=\"spacingAndGlyphs\" textLength=\"40\" x=\"66\" y=\"269.1387\">«port»</text><text fill=\"#000000\" font-family=\"sans-serif\" font-size=\"12\" lengthAdjust=\"spacingAndGlyphs\" textLength=\"36\" x=\"68\" y=\"283.1074\">pdest</text><line style=\"stroke: #A80036; stroke-width: 1.5;\" x1=\"66\" x2=\"106\" y1=\"290.9375\" y2=\"290.9375\"/></a><!--MD5=[4672eba38e49728da53d11aeb285b987]\n",
       "reverse link E3 to E4--><a href=\"psysml:8e3ccc77-0a8c-4c0b-a5d7-07a6acaf5014\" target=\"_top\" title=\"psysml:8e3ccc77-0a8c-4c0b-a5d7-07a6acaf5014\" xlink:actuate=\"onRequest\" xlink:href=\"psysml:8e3ccc77-0a8c-4c0b-a5d7-07a6acaf5014\" xlink:show=\"new\" xlink:title=\"psysml:8e3ccc77-0a8c-4c0b-a5d7-07a6acaf5014\" xlink:type=\"simple\"><path d=\"M192.84,206.44 C191.7,221.87 192.21,239.47 194.36,252.98 \" fill=\"none\" id=\"E3&lt;-E4\" style=\"stroke: #A80036; stroke-width: 1.0;\"/><polygon fill=\"#FFFFFF\" points=\"194.35,193.06,189.7032,198.5743,193.006,204.9845,197.6528,199.4702,194.35,193.06\" style=\"stroke: #A80036; stroke-width: 1.0;\"/><text fill=\"#000000\" font-family=\"sans-serif\" font-size=\"13\" lengthAdjust=\"spacingAndGlyphs\" textLength=\"8\" x=\"182.4255\" y=\"241.8709\">1</text></a><!--MD5=[4672eba38e49728da53d11aeb285b987]\n",
       "reverse link E3 to E4--><a href=\"psysml:408c218d-2c50-4f10-8495-de57c6cccdaf\" target=\"_top\" title=\"psysml:408c218d-2c50-4f10-8495-de57c6cccdaf\" xlink:actuate=\"onRequest\" xlink:href=\"psysml:408c218d-2c50-4f10-8495-de57c6cccdaf\" xlink:show=\"new\" xlink:title=\"psysml:408c218d-2c50-4f10-8495-de57c6cccdaf\" xlink:type=\"simple\"><path d=\"M218.01,208.34 C219.03,223.3 218.45,240.02 216.27,252.98 \" fill=\"none\" id=\"E3&lt;-E4-1\" style=\"stroke: #A80036; stroke-width: 1.0; stroke-dasharray: 7.0,7.0;\"/><ellipse cx=\"217.1693\" cy=\"201.0093\" fill=\"#FFFFFF\" rx=\"8\" ry=\"8\" style=\"stroke: #A80036; stroke-width: 1.0;\"/><line style=\"stroke: #A80036; stroke-width: 1.0;\" x1=\"218.0687\" x2=\"216.27\" y1=\"208.9586\" y2=\"193.06\"/><line style=\"stroke: #A80036; stroke-width: 1.0;\" x1=\"209.2201\" x2=\"225.1186\" y1=\"201.9086\" y2=\"200.1099\"/><text fill=\"#000000\" font-family=\"sans-serif\" font-size=\"13\" lengthAdjust=\"spacingAndGlyphs\" textLength=\"8\" x=\"210.2238\" y=\"241.8709\">1</text></a><!--MD5=[e9be52314489bd878ff4c7144b63c9e1]\n",
       "link E5 to E3--><a href=\"psysml:39d7aa17-d9aa-4290-8253-e0b073366074\" target=\"_top\" title=\"psysml:39d7aa17-d9aa-4290-8253-e0b073366074\" xlink:actuate=\"onRequest\" xlink:href=\"psysml:39d7aa17-d9aa-4290-8253-e0b073366074\" xlink:show=\"new\" xlink:title=\"psysml:39d7aa17-d9aa-4290-8253-e0b073366074\" xlink:type=\"simple\"><path d=\"M155.36,87.06 C162.88,99.47 172.49,115.33 181.24,129.78 \" fill=\"none\" id=\"E5-&gt;E3\" style=\"stroke: #A80036; stroke-width: 1.0;\"/><polygon fill=\"#FFFFFF\" points=\"191.66,146.98,175.8217,134.3646,187.792,127.1044,191.66,146.98\" style=\"stroke: #A80036; stroke-width: 1.0;\"/><ellipse cx=\"174.5758\" cy=\"128.4538\" fill=\"#A80036\" rx=\"2\" ry=\"2\" style=\"stroke: #A80036; stroke-width: 1.0;\"/><ellipse cx=\"183.126\" cy=\"123.2679\" fill=\"#A80036\" rx=\"2\" ry=\"2\" style=\"stroke: #A80036; stroke-width: 1.0;\"/></a><!--MD5=[85d356282659285ab4b2cfe2f634dd2b]\n",
       "reverse link E5 to E6--><a href=\"psysml:0602bff9-807d-4c23-b932-30af011e0640\" target=\"_top\" title=\"psysml:0602bff9-807d-4c23-b932-30af011e0640\" xlink:actuate=\"onRequest\" xlink:href=\"psysml:0602bff9-807d-4c23-b932-30af011e0640\" xlink:show=\"new\" xlink:title=\"psysml:0602bff9-807d-4c23-b932-30af011e0640\" xlink:type=\"simple\"><path d=\"M132.59,99.96 C128.4,115.51 123.6,133.33 119.93,146.98 \" fill=\"none\" id=\"E5&lt;-E6\" style=\"stroke: #A80036; stroke-width: 1.0;\"/><polygon fill=\"#FFFFFF\" points=\"136.06,87.06,130.641,91.8176,132.9484,98.6496,138.3674,93.892,136.06,87.06\" style=\"stroke: #A80036; stroke-width: 1.0;\"/><text fill=\"#000000\" font-family=\"sans-serif\" font-size=\"13\" lengthAdjust=\"spacingAndGlyphs\" textLength=\"8\" x=\"112.4487\" y=\"135.8709\">1</text></a><!--MD5=[f667431f98296947986a1a7595a31603]\n",
       "link E6 to E4--><a href=\"psysml:5ed5dee3-04af-484b-a73a-bf3d62fb0484\" target=\"_top\" title=\"psysml:5ed5dee3-04af-484b-a73a-bf3d62fb0484\" xlink:actuate=\"onRequest\" xlink:href=\"psysml:5ed5dee3-04af-484b-a73a-bf3d62fb0484\" xlink:show=\"new\" xlink:title=\"psysml:5ed5dee3-04af-484b-a73a-bf3d62fb0484\" xlink:type=\"simple\"><path d=\"M133.3,193.06 C144.64,206.02 159.28,222.74 172.36,237.7 \" fill=\"none\" id=\"E6-&gt;E4\" style=\"stroke: #A80036; stroke-width: 1.0;\"/><polygon fill=\"#FFFFFF\" points=\"185.73,252.98,167.9517,243.2882,178.489,234.0705,185.73,252.98\" style=\"stroke: #A80036; stroke-width: 1.0;\"/><line style=\"stroke: #A80036; stroke-width: 2.0;\" x1=\"165.4497\" x2=\"175.9871\" y1=\"240.4281\" y2=\"231.2104\"/></a><!--MD5=[14ccda38c055a5c0da953d572bc50960]\n",
       "link E7 to E3--><a href=\"psysml:6afc3f94-967f-4ac8-9c89-c7c9ad6aa496\" target=\"_top\" title=\"psysml:6afc3f94-967f-4ac8-9c89-c7c9ad6aa496\" xlink:actuate=\"onRequest\" xlink:href=\"psysml:6afc3f94-967f-4ac8-9c89-c7c9ad6aa496\" xlink:show=\"new\" xlink:title=\"psysml:6afc3f94-967f-4ac8-9c89-c7c9ad6aa496\" xlink:type=\"simple\"><path d=\"M82.11,82.64 C102.61,97.05 132.18,117.83 157.18,135.39 \" fill=\"none\" id=\"E7-&gt;E3\" style=\"stroke: #A80036; stroke-width: 1.0;\"/><polygon fill=\"#FFFFFF\" points=\"173.58,146.92,154.011,141.7187,162.0629,130.266,173.58,146.92\" style=\"stroke: #A80036; stroke-width: 1.0;\"/><ellipse cx=\"150.4983\" cy=\"136.8043\" fill=\"#A80036\" rx=\"2\" ry=\"2\" style=\"stroke: #A80036; stroke-width: 1.0;\"/><ellipse cx=\"156.2497\" cy=\"128.6238\" fill=\"#A80036\" rx=\"2\" ry=\"2\" style=\"stroke: #A80036; stroke-width: 1.0;\"/></a><!--MD5=[dc164f5e8a733ab456ef1add180e9e34]\n",
       "reverse link E7 to E8--><a href=\"psysml:9a63abc5-83ea-4d36-8ec2-a9e5009e1a31\" target=\"_top\" title=\"psysml:9a63abc5-83ea-4d36-8ec2-a9e5009e1a31\" xlink:actuate=\"onRequest\" xlink:href=\"psysml:9a63abc5-83ea-4d36-8ec2-a9e5009e1a31\" xlink:show=\"new\" xlink:title=\"psysml:9a63abc5-83ea-4d36-8ec2-a9e5009e1a31\" xlink:type=\"simple\"><path d=\"M52.05,100.09 C53.65,143.61 64.25,216.5 74.75,252.9 \" fill=\"none\" id=\"E7&lt;-E8\" style=\"stroke: #A80036; stroke-width: 1.0;\"/><polygon fill=\"#FFFFFF\" points=\"51.85,87.08,47.9362,93.1366,52.0216,99.0788,55.9354,93.0222,51.85,87.08\" style=\"stroke: #A80036; stroke-width: 1.0;\"/><text fill=\"#000000\" font-family=\"sans-serif\" font-size=\"13\" lengthAdjust=\"spacingAndGlyphs\" textLength=\"8\" x=\"62.6516\" y=\"241.7694\">1</text></a><!--MD5=[dc164f5e8a733ab456ef1add180e9e34]\n",
       "reverse link E7 to E8--><a href=\"psysml:af85dbb9-a19a-4dbd-bd41-700a2e1e88fd\" target=\"_top\" title=\"psysml:af85dbb9-a19a-4dbd-bd41-700a2e1e88fd\" xlink:actuate=\"onRequest\" xlink:href=\"psysml:af85dbb9-a19a-4dbd-bd41-700a2e1e88fd\" xlink:show=\"new\" xlink:title=\"psysml:af85dbb9-a19a-4dbd-bd41-700a2e1e88fd\" xlink:type=\"simple\"><path d=\"M72.64,101.8 C83.15,145.5 92.39,216.97 91.63,252.9 \" fill=\"none\" id=\"E7&lt;-E8-1\" style=\"stroke: #A80036; stroke-width: 1.0; stroke-dasharray: 7.0,7.0;\"/><ellipse cx=\"70.7794\" cy=\"94.813\" fill=\"#FFFFFF\" rx=\"8\" ry=\"8\" style=\"stroke: #A80036; stroke-width: 1.0;\"/><line style=\"stroke: #A80036; stroke-width: 1.0;\" x1=\"72.8289\" x2=\"68.73\" y1=\"102.5461\" y2=\"87.08\"/><line style=\"stroke: #A80036; stroke-width: 1.0;\" x1=\"63.0464\" x2=\"78.5125\" y1=\"96.8625\" y2=\"92.7636\"/><text fill=\"#000000\" font-family=\"sans-serif\" font-size=\"13\" lengthAdjust=\"spacingAndGlyphs\" textLength=\"8\" x=\"94.2181\" y=\"241.7694\">1</text></a><!--MD5=[0a839d0f80c2d72d4b9b307f046d0de8]\n",
       "link E6 to E8--><a href=\"psysml:ee24455c-c65b-41eb-8958-74c54e28cd84\" target=\"_top\" title=\"psysml:ee24455c-c65b-41eb-8958-74c54e28cd84\" xlink:actuate=\"onRequest\" xlink:href=\"psysml:ee24455c-c65b-41eb-8958-74c54e28cd84\" xlink:show=\"new\" xlink:title=\"psysml:ee24455c-c65b-41eb-8958-74c54e28cd84\" xlink:type=\"simple\"><path d=\"M97.42,193.06 C89.86,210.7 83.23,235.34 81.29,252.98 \" fill=\"none\" id=\"E6-E8\" style=\"stroke: #A80036; stroke-width: 3.0;\"/><text fill=\"#000000\" font-family=\"sans-serif\" font-size=\"13\" lengthAdjust=\"spacingAndGlyphs\" textLength=\"7\" x=\"80.9648\" y=\"241.8709\">*</text></a><!--MD5=[0a839d0f80c2d72d4b9b307f046d0de8]\n",
       "link E6 to E8--><a href=\"psysml:1d0a5b52-6a4c-4cbe-b03e-99be5638e392\" target=\"_top\" title=\"psysml:1d0a5b52-6a4c-4cbe-b03e-99be5638e392\" xlink:actuate=\"onRequest\" xlink:href=\"psysml:1d0a5b52-6a4c-4cbe-b03e-99be5638e392\" xlink:show=\"new\" xlink:title=\"psysml:1d0a5b52-6a4c-4cbe-b03e-99be5638e392\" xlink:type=\"simple\"><path d=\"M119.33,193.06 C117.55,210.7 110.92,235.34 103.2,252.98 \" fill=\"none\" id=\"E6-E8-1\" style=\"stroke: #A80036; stroke-width: 3.0;\"/><text fill=\"#000000\" font-family=\"sans-serif\" font-size=\"13\" lengthAdjust=\"spacingAndGlyphs\" textLength=\"7\" x=\"99.8819\" y=\"241.8709\">*</text></a><!--MD5=[b50b3a21463685d484ea762313bfbf63]\n",
       "@startuml\r\n",
       "skinparam wrapWidth 300\r\n",
       "hide circle\r\n",
       "\r\n",
       "package \"AliasTest\" as E1  [[psysml:dccc75fb-db16-4804-85cb-688c27ce5ff3 ]]  {\r\n",
       "comp usage \"q :> Quantities::tensorQuantities\" as E2  <<(T,blue) attribute>> [[psysml:ce72622b-28d6-4d09-bee8-b5dd20a40a54 ]] {\r\n",
       "}\r\n",
       "comp def \"P1\" as E3  <<(T,blue) part  def>> [[psysml:61eb2658-da6c-419b-a94e-058b00326cab ]] {\r\n",
       "}\r\n",
       "comp usage \"porig1\" as E4  <<(T,blue) port>> [[psysml:9ae2babd-6d67-4765-bfe5-8d775f3bcf42 ]] {\r\n",
       "}\r\n",
       "comp usage \"p1: P1 \" as E5  <<(T,blue) part>> [[psysml:11b2a6df-aab5-4dc5-a120-8a7b1f52b05c ]] {\r\n",
       "}\r\n",
       "comp usage \"po1\" as E6  <<(T,blue) port>> [[psysml:a231442e-2600-41cf-892c-df88027eb505 ]] {\r\n",
       "}\r\n",
       "comp usage \"p2: P1 \" as E7  <<(T,blue) part>> [[psysml:2c2598c5-3ef5-4f1d-ae32-f3d429fa4c2f ]] {\r\n",
       "}\r\n",
       "comp usage \"pdest\" as E8  <<(T,blue) port>> [[psysml:10820d16-405d-40a2-9551-06e34552661e ]] {\r\n",
       "}\r\n",
       "}\r\n",
       "E3 o- - \"1\"E4 [[psysml:8e3ccc77-0a8c-4c0b-a5d7-07a6acaf5014 ]] \r\n",
       "E3 +.. \"1\"E4 [[psysml:408c218d-2c50-4f10-8495-de57c6cccdaf ]] \r\n",
       "E5 - -:|> E3 [[psysml:39d7aa17-d9aa-4290-8253-e0b073366074 ]] \r\n",
       "E5 o- - \"1\"E6 [[psysml:0602bff9-807d-4c23-b932-30af011e0640 ]] \r\n",
       "E6 - -||> E4 [[psysml:5ed5dee3-04af-484b-a73a-bf3d62fb0484 ]] \r\n",
       "E7 - -:|> E3 [[psysml:6afc3f94-967f-4ac8-9c89-c7c9ad6aa496 ]] \r\n",
       "E7 o- - \"1\"E8 [[psysml:9a63abc5-83ea-4d36-8ec2-a9e5009e1a31 ]] \r\n",
       "E7 +.. \"1\"E8 [[psysml:af85dbb9-a19a-4dbd-bd41-700a2e1e88fd ]] \r\n",
       "E6 -[thickness=3]- \"*\"E8 [[psysml:ee24455c-c65b-41eb-8958-74c54e28cd84 ]] \r\n",
       "E6 -[thickness=3]- \"*\"E8 [[psysml:1d0a5b52-6a4c-4cbe-b03e-99be5638e392 ]] \r\n",
       "@enduml\r\n",
       "\n",
       "PlantUML version 1.2020.13(Sat Jun 13 12:26:38 UTC 2020)\n",
       "(EPL source distribution)\n",
       "Java Runtime: OpenJDK Runtime Environment\n",
       "JVM: OpenJDK 64-Bit Server VM\n",
       "Default Encoding: UTF-8\n",
       "Language: en\n",
       "Country: null\n",
       "--></g></svg>"
      ]
     },
     "execution_count": 23,
     "metadata": {},
     "output_type": "execute_result"
    }
   ],
   "source": [
    "%viz --style=\"STDCOLOR\" --view=\"Default\" \"AliasTest\""
   ]
  },
  {
   "cell_type": "code",
   "execution_count": 24,
   "id": "4684a66d",
   "metadata": {
    "execution": {
     "iopub.execute_input": "2021-10-25T08:23:53.620084Z",
     "iopub.status.busy": "2021-10-25T08:23:53.619663Z",
     "iopub.status.idle": "2021-10-25T08:23:53.662987Z",
     "shell.execute_reply": "2021-10-25T08:23:53.660986Z"
    }
   },
   "outputs": [
    {
     "data": {
      "image/svg+xml": [
       "<?xml version=\"1.0\" encoding=\"UTF-8\" standalone=\"no\"?><svg xmlns=\"http://www.w3.org/2000/svg\" xmlns:xlink=\"http://www.w3.org/1999/xlink\" contentScriptType=\"application/ecmascript\" contentStyleType=\"text/css\" height=\"327px\" preserveAspectRatio=\"none\" style=\"width:453px;height:327px;\" version=\"1.1\" viewBox=\"0 0 453 327\" width=\"453px\" zoomAndPan=\"magnify\"><defs><filter height=\"300%\" id=\"f1cfvw3i2a3g3h\" width=\"300%\" x=\"-1\" y=\"-1\"><feGaussianBlur result=\"blurOut\" stdDeviation=\"2.0\"/><feColorMatrix in=\"blurOut\" result=\"blurOut2\" type=\"matrix\" values=\"0 0 0 0 0 0 0 0 0 0 0 0 0 0 0 0 0 0 .4 0\"/><feOffset dx=\"4.0\" dy=\"4.0\" in=\"blurOut2\" result=\"blurOut3\"/><feBlend in=\"SourceGraphic\" in2=\"blurOut3\" mode=\"normal\"/></filter></defs><g><!--MD5=[fbc87193dbaf4d95561dea2c320d4a47]\n",
       "cluster E1--><a href=\"psysml:dccc75fb-db16-4804-85cb-688c27ce5ff3\" target=\"_top\" title=\"psysml:dccc75fb-db16-4804-85cb-688c27ce5ff3\" xlink:actuate=\"onRequest\" xlink:href=\"psysml:dccc75fb-db16-4804-85cb-688c27ce5ff3\" xlink:show=\"new\" xlink:title=\"psysml:dccc75fb-db16-4804-85cb-688c27ce5ff3\" xlink:type=\"simple\"><polygon fill=\"#FFFFFF\" filter=\"url(#f1cfvw3i2a3g3h)\" points=\"16,6,84,6,91,28.2969,431,28.2969,431,315,16,315,16,6\" style=\"stroke: #000000; stroke-width: 1.5;\"/><line style=\"stroke: #000000; stroke-width: 1.5;\" x1=\"16\" x2=\"91\" y1=\"28.2969\" y2=\"28.2969\"/><text fill=\"#000000\" font-family=\"sans-serif\" font-size=\"14\" font-weight=\"bold\" lengthAdjust=\"spacingAndGlyphs\" textLength=\"62\" x=\"20\" y=\"20.9951\">AliasTest</text></a><!--MD5=[b4997ac47864f28c2f74865a473b2911]\n",
       "class E2--><a href=\"psysml:ce72622b-28d6-4d09-bee8-b5dd20a40a54\" target=\"_top\" title=\"psysml:ce72622b-28d6-4d09-bee8-b5dd20a40a54\" xlink:actuate=\"onRequest\" xlink:href=\"psysml:ce72622b-28d6-4d09-bee8-b5dd20a40a54\" xlink:show=\"new\" xlink:title=\"psysml:ce72622b-28d6-4d09-bee8-b5dd20a40a54\" xlink:type=\"simple\"><rect fill=\"#FEFECE\" filter=\"url(#f1cfvw3i2a3g3h)\" height=\"45.9375\" id=\"E2\" rx=\"10\" ry=\"10\" style=\"stroke: #A80036; stroke-width: 1.5;\" width=\"213\" x=\"202.5\" y=\"41\"/><text fill=\"#000000\" font-family=\"sans-serif\" font-size=\"12\" font-style=\"italic\" lengthAdjust=\"spacingAndGlyphs\" textLength=\"69\" x=\"274.5\" y=\"57.1387\">«attribute»</text><text fill=\"#000000\" font-family=\"sans-serif\" font-size=\"12\" lengthAdjust=\"spacingAndGlyphs\" textLength=\"207\" x=\"205.5\" y=\"71.1074\">q :&gt; Quantities::tensorQuantities</text><line style=\"stroke: #A80036; stroke-width: 1.5;\" x1=\"203.5\" x2=\"414.5\" y1=\"78.9375\" y2=\"78.9375\"/></a><!--MD5=[09b614a08d8cba4a07c9adeb5e0fee81]\n",
       "class E3--><a href=\"psysml:61eb2658-da6c-419b-a94e-058b00326cab\" target=\"_top\" title=\"psysml:61eb2658-da6c-419b-a94e-058b00326cab\" xlink:actuate=\"onRequest\" xlink:href=\"psysml:61eb2658-da6c-419b-a94e-058b00326cab\" xlink:show=\"new\" xlink:title=\"psysml:61eb2658-da6c-419b-a94e-058b00326cab\" xlink:type=\"simple\"><rect fill=\"#FEFECE\" filter=\"url(#f1cfvw3i2a3g3h)\" height=\"45.9375\" id=\"E3\" style=\"stroke: #A80036; stroke-width: 1.5;\" width=\"70\" x=\"170\" y=\"147\"/><text fill=\"#000000\" font-family=\"sans-serif\" font-size=\"12\" font-style=\"italic\" lengthAdjust=\"spacingAndGlyphs\" textLength=\"68\" x=\"171\" y=\"163.1387\">«part  def»</text><text fill=\"#000000\" font-family=\"sans-serif\" font-size=\"12\" lengthAdjust=\"spacingAndGlyphs\" textLength=\"16\" x=\"197\" y=\"177.1074\">P1</text><line style=\"stroke: #A80036; stroke-width: 1.5;\" x1=\"171\" x2=\"239\" y1=\"184.9375\" y2=\"184.9375\"/></a><!--MD5=[ebbe1d658d1005bcc118a6aa81145e00]\n",
       "class E4--><a href=\"psysml:9ae2babd-6d67-4765-bfe5-8d775f3bcf42\" target=\"_top\" title=\"psysml:9ae2babd-6d67-4765-bfe5-8d775f3bcf42\" xlink:actuate=\"onRequest\" xlink:href=\"psysml:9ae2babd-6d67-4765-bfe5-8d775f3bcf42\" xlink:show=\"new\" xlink:title=\"psysml:9ae2babd-6d67-4765-bfe5-8d775f3bcf42\" xlink:type=\"simple\"><rect fill=\"#FEFECE\" filter=\"url(#f1cfvw3i2a3g3h)\" height=\"45.9375\" id=\"E4\" rx=\"10\" ry=\"10\" style=\"stroke: #A80036; stroke-width: 1.5;\" width=\"46\" x=\"182\" y=\"253\"/><text fill=\"#000000\" font-family=\"sans-serif\" font-size=\"12\" font-style=\"italic\" lengthAdjust=\"spacingAndGlyphs\" textLength=\"40\" x=\"185\" y=\"269.1387\">«port»</text><text fill=\"#000000\" font-family=\"sans-serif\" font-size=\"12\" lengthAdjust=\"spacingAndGlyphs\" textLength=\"40\" x=\"185\" y=\"283.1074\">porig1</text><line style=\"stroke: #A80036; stroke-width: 1.5;\" x1=\"183\" x2=\"227\" y1=\"290.9375\" y2=\"290.9375\"/></a><!--MD5=[270fce915f116d4de14055a7c1d9a0f3]\n",
       "class E5--><a href=\"psysml:11b2a6df-aab5-4dc5-a120-8a7b1f52b05c\" target=\"_top\" title=\"psysml:11b2a6df-aab5-4dc5-a120-8a7b1f52b05c\" xlink:actuate=\"onRequest\" xlink:href=\"psysml:11b2a6df-aab5-4dc5-a120-8a7b1f52b05c\" xlink:show=\"new\" xlink:title=\"psysml:11b2a6df-aab5-4dc5-a120-8a7b1f52b05c\" xlink:type=\"simple\"><rect fill=\"#FEFECE\" filter=\"url(#f1cfvw3i2a3g3h)\" height=\"45.9375\" id=\"E5\" rx=\"10\" ry=\"10\" style=\"stroke: #A80036; stroke-width: 1.5;\" width=\"50\" x=\"117\" y=\"41\"/><text fill=\"#000000\" font-family=\"sans-serif\" font-size=\"12\" font-style=\"italic\" lengthAdjust=\"spacingAndGlyphs\" textLength=\"40\" x=\"122\" y=\"57.1387\">«part»</text><text fill=\"#000000\" font-family=\"sans-serif\" font-size=\"12\" lengthAdjust=\"spacingAndGlyphs\" textLength=\"40\" x=\"120\" y=\"71.1074\">p1: P1</text><line style=\"stroke: #A80036; stroke-width: 1.5;\" x1=\"118\" x2=\"166\" y1=\"78.9375\" y2=\"78.9375\"/></a><!--MD5=[60a26617385b1d2d0262a64233df1f8d]\n",
       "class E6--><a href=\"psysml:a231442e-2600-41cf-892c-df88027eb505\" target=\"_top\" title=\"psysml:a231442e-2600-41cf-892c-df88027eb505\" xlink:actuate=\"onRequest\" xlink:href=\"psysml:a231442e-2600-41cf-892c-df88027eb505\" xlink:show=\"new\" xlink:title=\"psysml:a231442e-2600-41cf-892c-df88027eb505\" xlink:type=\"simple\"><rect fill=\"#FEFECE\" filter=\"url(#f1cfvw3i2a3g3h)\" height=\"45.9375\" id=\"E6\" rx=\"10\" ry=\"10\" style=\"stroke: #A80036; stroke-width: 1.5;\" width=\"42\" x=\"93\" y=\"147\"/><text fill=\"#000000\" font-family=\"sans-serif\" font-size=\"12\" font-style=\"italic\" lengthAdjust=\"spacingAndGlyphs\" textLength=\"40\" x=\"94\" y=\"163.1387\">«port»</text><text fill=\"#000000\" font-family=\"sans-serif\" font-size=\"12\" lengthAdjust=\"spacingAndGlyphs\" textLength=\"24\" x=\"102\" y=\"177.1074\">po1</text><line style=\"stroke: #A80036; stroke-width: 1.5;\" x1=\"94\" x2=\"134\" y1=\"184.9375\" y2=\"184.9375\"/></a><!--MD5=[2156ba9850f5573cc1fc38a6a4b2f02b]\n",
       "class E7--><a href=\"psysml:2c2598c5-3ef5-4f1d-ae32-f3d429fa4c2f\" target=\"_top\" title=\"psysml:2c2598c5-3ef5-4f1d-ae32-f3d429fa4c2f\" xlink:actuate=\"onRequest\" xlink:href=\"psysml:2c2598c5-3ef5-4f1d-ae32-f3d429fa4c2f\" xlink:show=\"new\" xlink:title=\"psysml:2c2598c5-3ef5-4f1d-ae32-f3d429fa4c2f\" xlink:type=\"simple\"><rect fill=\"#FEFECE\" filter=\"url(#f1cfvw3i2a3g3h)\" height=\"45.9375\" id=\"E7\" rx=\"10\" ry=\"10\" style=\"stroke: #A80036; stroke-width: 1.5;\" width=\"50\" x=\"32\" y=\"41\"/><text fill=\"#000000\" font-family=\"sans-serif\" font-size=\"12\" font-style=\"italic\" lengthAdjust=\"spacingAndGlyphs\" textLength=\"40\" x=\"37\" y=\"57.1387\">«part»</text><text fill=\"#000000\" font-family=\"sans-serif\" font-size=\"12\" lengthAdjust=\"spacingAndGlyphs\" textLength=\"40\" x=\"35\" y=\"71.1074\">p2: P1</text><line style=\"stroke: #A80036; stroke-width: 1.5;\" x1=\"33\" x2=\"81\" y1=\"78.9375\" y2=\"78.9375\"/></a><!--MD5=[b9389687b975829384b498ac4b7476b2]\n",
       "class E8--><a href=\"psysml:10820d16-405d-40a2-9551-06e34552661e\" target=\"_top\" title=\"psysml:10820d16-405d-40a2-9551-06e34552661e\" xlink:actuate=\"onRequest\" xlink:href=\"psysml:10820d16-405d-40a2-9551-06e34552661e\" xlink:show=\"new\" xlink:title=\"psysml:10820d16-405d-40a2-9551-06e34552661e\" xlink:type=\"simple\"><rect fill=\"#FEFECE\" filter=\"url(#f1cfvw3i2a3g3h)\" height=\"45.9375\" id=\"E8\" rx=\"10\" ry=\"10\" style=\"stroke: #A80036; stroke-width: 1.5;\" width=\"42\" x=\"65\" y=\"253\"/><text fill=\"#000000\" font-family=\"sans-serif\" font-size=\"12\" font-style=\"italic\" lengthAdjust=\"spacingAndGlyphs\" textLength=\"40\" x=\"66\" y=\"269.1387\">«port»</text><text fill=\"#000000\" font-family=\"sans-serif\" font-size=\"12\" lengthAdjust=\"spacingAndGlyphs\" textLength=\"36\" x=\"68\" y=\"283.1074\">pdest</text><line style=\"stroke: #A80036; stroke-width: 1.5;\" x1=\"66\" x2=\"106\" y1=\"290.9375\" y2=\"290.9375\"/></a><!--MD5=[4672eba38e49728da53d11aeb285b987]\n",
       "reverse link E3 to E4--><a href=\"psysml:8e3ccc77-0a8c-4c0b-a5d7-07a6acaf5014\" target=\"_top\" title=\"psysml:8e3ccc77-0a8c-4c0b-a5d7-07a6acaf5014\" xlink:actuate=\"onRequest\" xlink:href=\"psysml:8e3ccc77-0a8c-4c0b-a5d7-07a6acaf5014\" xlink:show=\"new\" xlink:title=\"psysml:8e3ccc77-0a8c-4c0b-a5d7-07a6acaf5014\" xlink:type=\"simple\"><path d=\"M192.84,206.44 C191.7,221.87 192.21,239.47 194.36,252.98 \" fill=\"none\" id=\"E3&lt;-E4\" style=\"stroke: #A80036; stroke-width: 1.0;\"/><polygon fill=\"#FFFFFF\" points=\"194.35,193.06,189.7032,198.5743,193.006,204.9845,197.6528,199.4702,194.35,193.06\" style=\"stroke: #A80036; stroke-width: 1.0;\"/><text fill=\"#000000\" font-family=\"sans-serif\" font-size=\"13\" lengthAdjust=\"spacingAndGlyphs\" textLength=\"8\" x=\"182.4255\" y=\"241.8709\">1</text></a><!--MD5=[4672eba38e49728da53d11aeb285b987]\n",
       "reverse link E3 to E4--><a href=\"psysml:408c218d-2c50-4f10-8495-de57c6cccdaf\" target=\"_top\" title=\"psysml:408c218d-2c50-4f10-8495-de57c6cccdaf\" xlink:actuate=\"onRequest\" xlink:href=\"psysml:408c218d-2c50-4f10-8495-de57c6cccdaf\" xlink:show=\"new\" xlink:title=\"psysml:408c218d-2c50-4f10-8495-de57c6cccdaf\" xlink:type=\"simple\"><path d=\"M218.01,208.34 C219.03,223.3 218.45,240.02 216.27,252.98 \" fill=\"none\" id=\"E3&lt;-E4-1\" style=\"stroke: #A80036; stroke-width: 1.0; stroke-dasharray: 7.0,7.0;\"/><ellipse cx=\"217.1693\" cy=\"201.0093\" fill=\"#FFFFFF\" rx=\"8\" ry=\"8\" style=\"stroke: #A80036; stroke-width: 1.0;\"/><line style=\"stroke: #A80036; stroke-width: 1.0;\" x1=\"218.0687\" x2=\"216.27\" y1=\"208.9586\" y2=\"193.06\"/><line style=\"stroke: #A80036; stroke-width: 1.0;\" x1=\"209.2201\" x2=\"225.1186\" y1=\"201.9086\" y2=\"200.1099\"/><text fill=\"#000000\" font-family=\"sans-serif\" font-size=\"13\" lengthAdjust=\"spacingAndGlyphs\" textLength=\"8\" x=\"210.2238\" y=\"241.8709\">1</text></a><!--MD5=[e9be52314489bd878ff4c7144b63c9e1]\n",
       "link E5 to E3--><a href=\"psysml:39d7aa17-d9aa-4290-8253-e0b073366074\" target=\"_top\" title=\"psysml:39d7aa17-d9aa-4290-8253-e0b073366074\" xlink:actuate=\"onRequest\" xlink:href=\"psysml:39d7aa17-d9aa-4290-8253-e0b073366074\" xlink:show=\"new\" xlink:title=\"psysml:39d7aa17-d9aa-4290-8253-e0b073366074\" xlink:type=\"simple\"><path d=\"M155.36,87.06 C162.88,99.47 172.49,115.33 181.24,129.78 \" fill=\"none\" id=\"E5-&gt;E3\" style=\"stroke: #A80036; stroke-width: 1.0;\"/><polygon fill=\"#FFFFFF\" points=\"191.66,146.98,175.8217,134.3646,187.792,127.1044,191.66,146.98\" style=\"stroke: #A80036; stroke-width: 1.0;\"/><ellipse cx=\"174.5758\" cy=\"128.4538\" fill=\"#A80036\" rx=\"2\" ry=\"2\" style=\"stroke: #A80036; stroke-width: 1.0;\"/><ellipse cx=\"183.126\" cy=\"123.2679\" fill=\"#A80036\" rx=\"2\" ry=\"2\" style=\"stroke: #A80036; stroke-width: 1.0;\"/></a><!--MD5=[85d356282659285ab4b2cfe2f634dd2b]\n",
       "reverse link E5 to E6--><a href=\"psysml:0602bff9-807d-4c23-b932-30af011e0640\" target=\"_top\" title=\"psysml:0602bff9-807d-4c23-b932-30af011e0640\" xlink:actuate=\"onRequest\" xlink:href=\"psysml:0602bff9-807d-4c23-b932-30af011e0640\" xlink:show=\"new\" xlink:title=\"psysml:0602bff9-807d-4c23-b932-30af011e0640\" xlink:type=\"simple\"><path d=\"M132.59,99.96 C128.4,115.51 123.6,133.33 119.93,146.98 \" fill=\"none\" id=\"E5&lt;-E6\" style=\"stroke: #A80036; stroke-width: 1.0;\"/><polygon fill=\"#FFFFFF\" points=\"136.06,87.06,130.641,91.8176,132.9484,98.6496,138.3674,93.892,136.06,87.06\" style=\"stroke: #A80036; stroke-width: 1.0;\"/><text fill=\"#000000\" font-family=\"sans-serif\" font-size=\"13\" lengthAdjust=\"spacingAndGlyphs\" textLength=\"8\" x=\"112.4487\" y=\"135.8709\">1</text></a><!--MD5=[f667431f98296947986a1a7595a31603]\n",
       "link E6 to E4--><a href=\"psysml:5ed5dee3-04af-484b-a73a-bf3d62fb0484\" target=\"_top\" title=\"psysml:5ed5dee3-04af-484b-a73a-bf3d62fb0484\" xlink:actuate=\"onRequest\" xlink:href=\"psysml:5ed5dee3-04af-484b-a73a-bf3d62fb0484\" xlink:show=\"new\" xlink:title=\"psysml:5ed5dee3-04af-484b-a73a-bf3d62fb0484\" xlink:type=\"simple\"><path d=\"M133.3,193.06 C144.64,206.02 159.28,222.74 172.36,237.7 \" fill=\"none\" id=\"E6-&gt;E4\" style=\"stroke: #A80036; stroke-width: 1.0;\"/><polygon fill=\"#FFFFFF\" points=\"185.73,252.98,167.9517,243.2882,178.489,234.0705,185.73,252.98\" style=\"stroke: #A80036; stroke-width: 1.0;\"/><line style=\"stroke: #A80036; stroke-width: 2.0;\" x1=\"165.4497\" x2=\"175.9871\" y1=\"240.4281\" y2=\"231.2104\"/></a><!--MD5=[14ccda38c055a5c0da953d572bc50960]\n",
       "link E7 to E3--><a href=\"psysml:6afc3f94-967f-4ac8-9c89-c7c9ad6aa496\" target=\"_top\" title=\"psysml:6afc3f94-967f-4ac8-9c89-c7c9ad6aa496\" xlink:actuate=\"onRequest\" xlink:href=\"psysml:6afc3f94-967f-4ac8-9c89-c7c9ad6aa496\" xlink:show=\"new\" xlink:title=\"psysml:6afc3f94-967f-4ac8-9c89-c7c9ad6aa496\" xlink:type=\"simple\"><path d=\"M82.11,82.64 C102.61,97.05 132.18,117.83 157.18,135.39 \" fill=\"none\" id=\"E7-&gt;E3\" style=\"stroke: #A80036; stroke-width: 1.0;\"/><polygon fill=\"#FFFFFF\" points=\"173.58,146.92,154.011,141.7187,162.0629,130.266,173.58,146.92\" style=\"stroke: #A80036; stroke-width: 1.0;\"/><ellipse cx=\"150.4983\" cy=\"136.8043\" fill=\"#A80036\" rx=\"2\" ry=\"2\" style=\"stroke: #A80036; stroke-width: 1.0;\"/><ellipse cx=\"156.2497\" cy=\"128.6238\" fill=\"#A80036\" rx=\"2\" ry=\"2\" style=\"stroke: #A80036; stroke-width: 1.0;\"/></a><!--MD5=[dc164f5e8a733ab456ef1add180e9e34]\n",
       "reverse link E7 to E8--><a href=\"psysml:9a63abc5-83ea-4d36-8ec2-a9e5009e1a31\" target=\"_top\" title=\"psysml:9a63abc5-83ea-4d36-8ec2-a9e5009e1a31\" xlink:actuate=\"onRequest\" xlink:href=\"psysml:9a63abc5-83ea-4d36-8ec2-a9e5009e1a31\" xlink:show=\"new\" xlink:title=\"psysml:9a63abc5-83ea-4d36-8ec2-a9e5009e1a31\" xlink:type=\"simple\"><path d=\"M52.05,100.09 C53.65,143.61 64.25,216.5 74.75,252.9 \" fill=\"none\" id=\"E7&lt;-E8\" style=\"stroke: #A80036; stroke-width: 1.0;\"/><polygon fill=\"#FFFFFF\" points=\"51.85,87.08,47.9362,93.1366,52.0216,99.0788,55.9354,93.0222,51.85,87.08\" style=\"stroke: #A80036; stroke-width: 1.0;\"/><text fill=\"#000000\" font-family=\"sans-serif\" font-size=\"13\" lengthAdjust=\"spacingAndGlyphs\" textLength=\"8\" x=\"62.6516\" y=\"241.7694\">1</text></a><!--MD5=[dc164f5e8a733ab456ef1add180e9e34]\n",
       "reverse link E7 to E8--><a href=\"psysml:af85dbb9-a19a-4dbd-bd41-700a2e1e88fd\" target=\"_top\" title=\"psysml:af85dbb9-a19a-4dbd-bd41-700a2e1e88fd\" xlink:actuate=\"onRequest\" xlink:href=\"psysml:af85dbb9-a19a-4dbd-bd41-700a2e1e88fd\" xlink:show=\"new\" xlink:title=\"psysml:af85dbb9-a19a-4dbd-bd41-700a2e1e88fd\" xlink:type=\"simple\"><path d=\"M72.64,101.8 C83.15,145.5 92.39,216.97 91.63,252.9 \" fill=\"none\" id=\"E7&lt;-E8-1\" style=\"stroke: #A80036; stroke-width: 1.0; stroke-dasharray: 7.0,7.0;\"/><ellipse cx=\"70.7794\" cy=\"94.813\" fill=\"#FFFFFF\" rx=\"8\" ry=\"8\" style=\"stroke: #A80036; stroke-width: 1.0;\"/><line style=\"stroke: #A80036; stroke-width: 1.0;\" x1=\"72.8289\" x2=\"68.73\" y1=\"102.5461\" y2=\"87.08\"/><line style=\"stroke: #A80036; stroke-width: 1.0;\" x1=\"63.0464\" x2=\"78.5125\" y1=\"96.8625\" y2=\"92.7636\"/><text fill=\"#000000\" font-family=\"sans-serif\" font-size=\"13\" lengthAdjust=\"spacingAndGlyphs\" textLength=\"8\" x=\"94.2181\" y=\"241.7694\">1</text></a><!--MD5=[0a839d0f80c2d72d4b9b307f046d0de8]\n",
       "link E6 to E8--><a href=\"psysml:ee24455c-c65b-41eb-8958-74c54e28cd84\" target=\"_top\" title=\"psysml:ee24455c-c65b-41eb-8958-74c54e28cd84\" xlink:actuate=\"onRequest\" xlink:href=\"psysml:ee24455c-c65b-41eb-8958-74c54e28cd84\" xlink:show=\"new\" xlink:title=\"psysml:ee24455c-c65b-41eb-8958-74c54e28cd84\" xlink:type=\"simple\"><path d=\"M97.42,193.06 C89.86,210.7 83.23,235.34 81.29,252.98 \" fill=\"none\" id=\"E6-E8\" style=\"stroke: #A80036; stroke-width: 3.0;\"/><text fill=\"#000000\" font-family=\"sans-serif\" font-size=\"13\" lengthAdjust=\"spacingAndGlyphs\" textLength=\"7\" x=\"80.9648\" y=\"241.8709\">*</text></a><!--MD5=[0a839d0f80c2d72d4b9b307f046d0de8]\n",
       "link E6 to E8--><a href=\"psysml:1d0a5b52-6a4c-4cbe-b03e-99be5638e392\" target=\"_top\" title=\"psysml:1d0a5b52-6a4c-4cbe-b03e-99be5638e392\" xlink:actuate=\"onRequest\" xlink:href=\"psysml:1d0a5b52-6a4c-4cbe-b03e-99be5638e392\" xlink:show=\"new\" xlink:title=\"psysml:1d0a5b52-6a4c-4cbe-b03e-99be5638e392\" xlink:type=\"simple\"><path d=\"M119.33,193.06 C117.55,210.7 110.92,235.34 103.2,252.98 \" fill=\"none\" id=\"E6-E8-1\" style=\"stroke: #A80036; stroke-width: 3.0;\"/><text fill=\"#000000\" font-family=\"sans-serif\" font-size=\"13\" lengthAdjust=\"spacingAndGlyphs\" textLength=\"7\" x=\"99.8819\" y=\"241.8709\">*</text></a><!--MD5=[b50b3a21463685d484ea762313bfbf63]\n",
       "@startuml\r\n",
       "skinparam wrapWidth 300\r\n",
       "hide circle\r\n",
       "\r\n",
       "package \"AliasTest\" as E1  [[psysml:dccc75fb-db16-4804-85cb-688c27ce5ff3 ]]  {\r\n",
       "comp usage \"q :> Quantities::tensorQuantities\" as E2  <<(T,blue) attribute>> [[psysml:ce72622b-28d6-4d09-bee8-b5dd20a40a54 ]] {\r\n",
       "}\r\n",
       "comp def \"P1\" as E3  <<(T,blue) part  def>> [[psysml:61eb2658-da6c-419b-a94e-058b00326cab ]] {\r\n",
       "}\r\n",
       "comp usage \"porig1\" as E4  <<(T,blue) port>> [[psysml:9ae2babd-6d67-4765-bfe5-8d775f3bcf42 ]] {\r\n",
       "}\r\n",
       "comp usage \"p1: P1 \" as E5  <<(T,blue) part>> [[psysml:11b2a6df-aab5-4dc5-a120-8a7b1f52b05c ]] {\r\n",
       "}\r\n",
       "comp usage \"po1\" as E6  <<(T,blue) port>> [[psysml:a231442e-2600-41cf-892c-df88027eb505 ]] {\r\n",
       "}\r\n",
       "comp usage \"p2: P1 \" as E7  <<(T,blue) part>> [[psysml:2c2598c5-3ef5-4f1d-ae32-f3d429fa4c2f ]] {\r\n",
       "}\r\n",
       "comp usage \"pdest\" as E8  <<(T,blue) port>> [[psysml:10820d16-405d-40a2-9551-06e34552661e ]] {\r\n",
       "}\r\n",
       "}\r\n",
       "E3 o- - \"1\"E4 [[psysml:8e3ccc77-0a8c-4c0b-a5d7-07a6acaf5014 ]] \r\n",
       "E3 +.. \"1\"E4 [[psysml:408c218d-2c50-4f10-8495-de57c6cccdaf ]] \r\n",
       "E5 - -:|> E3 [[psysml:39d7aa17-d9aa-4290-8253-e0b073366074 ]] \r\n",
       "E5 o- - \"1\"E6 [[psysml:0602bff9-807d-4c23-b932-30af011e0640 ]] \r\n",
       "E6 - -||> E4 [[psysml:5ed5dee3-04af-484b-a73a-bf3d62fb0484 ]] \r\n",
       "E7 - -:|> E3 [[psysml:6afc3f94-967f-4ac8-9c89-c7c9ad6aa496 ]] \r\n",
       "E7 o- - \"1\"E8 [[psysml:9a63abc5-83ea-4d36-8ec2-a9e5009e1a31 ]] \r\n",
       "E7 +.. \"1\"E8 [[psysml:af85dbb9-a19a-4dbd-bd41-700a2e1e88fd ]] \r\n",
       "E6 -[thickness=3]- \"*\"E8 [[psysml:ee24455c-c65b-41eb-8958-74c54e28cd84 ]] \r\n",
       "E6 -[thickness=3]- \"*\"E8 [[psysml:1d0a5b52-6a4c-4cbe-b03e-99be5638e392 ]] \r\n",
       "@enduml\r\n",
       "\n",
       "PlantUML version 1.2020.13(Sat Jun 13 12:26:38 UTC 2020)\n",
       "(EPL source distribution)\n",
       "Java Runtime: OpenJDK Runtime Environment\n",
       "JVM: OpenJDK 64-Bit Server VM\n",
       "Default Encoding: UTF-8\n",
       "Language: en\n",
       "Country: null\n",
       "--></g></svg>"
      ]
     },
     "execution_count": 24,
     "metadata": {},
     "output_type": "execute_result"
    }
   ],
   "source": [
    "%viz --style=\"STDCOLOR\" --view=\"Tree\" \"AliasTest\""
   ]
  },
  {
   "cell_type": "code",
   "execution_count": 25,
   "id": "c9aa16ee",
   "metadata": {
    "execution": {
     "iopub.execute_input": "2021-10-25T08:23:53.712242Z",
     "iopub.status.busy": "2021-10-25T08:23:53.711820Z",
     "iopub.status.idle": "2021-10-25T08:23:53.717300Z",
     "shell.execute_reply": "2021-10-25T08:23:53.717623Z"
    }
   },
   "outputs": [
    {
     "data": {
      "image/svg+xml": [
       "<?xml version=\"1.0\" encoding=\"UTF-8\" standalone=\"no\"?><svg xmlns=\"http://www.w3.org/2000/svg\" xmlns:xlink=\"http://www.w3.org/1999/xlink\" contentScriptType=\"application/ecmascript\" contentStyleType=\"text/css\" height=\"12px\" preserveAspectRatio=\"none\" style=\"width:12px;height:12px;\" version=\"1.1\" viewBox=\"0 0 12 12\" width=\"12px\" zoomAndPan=\"magnify\"><defs/><g><!--MD5=[aeeef50f102b80d730deb6443d14f702]\n",
       "@startuml\r\n",
       "skinparam wrapWidth 300\r\n",
       "hide circle\r\n",
       "\r\n",
       "@enduml\r\n",
       "\n",
       "PlantUML version 1.2020.13(Sat Jun 13 12:26:38 UTC 2020)\n",
       "(EPL source distribution)\n",
       "Java Runtime: OpenJDK Runtime Environment\n",
       "JVM: OpenJDK 64-Bit Server VM\n",
       "Default Encoding: UTF-8\n",
       "Language: en\n",
       "Country: null\n",
       "--></g></svg>"
      ]
     },
     "execution_count": 25,
     "metadata": {},
     "output_type": "execute_result"
    }
   ],
   "source": [
    "%viz --style=\"STDCOLOR\" --view=\"State\" \"AliasTest\""
   ]
  },
  {
   "cell_type": "code",
   "execution_count": 26,
   "id": "afb8d628",
   "metadata": {
    "execution": {
     "iopub.execute_input": "2021-10-25T08:23:53.767516Z",
     "iopub.status.busy": "2021-10-25T08:23:53.767080Z",
     "iopub.status.idle": "2021-10-25T08:23:53.802115Z",
     "shell.execute_reply": "2021-10-25T08:23:53.800291Z"
    }
   },
   "outputs": [
    {
     "data": {
      "image/svg+xml": [
       "<?xml version=\"1.0\" encoding=\"UTF-8\" standalone=\"no\"?><svg xmlns=\"http://www.w3.org/2000/svg\" xmlns:xlink=\"http://www.w3.org/1999/xlink\" contentScriptType=\"application/ecmascript\" contentStyleType=\"text/css\" height=\"233px\" preserveAspectRatio=\"none\" style=\"width:618px;height:233px;\" version=\"1.1\" viewBox=\"0 0 618 233\" width=\"618px\" zoomAndPan=\"magnify\"><defs><filter height=\"300%\" id=\"f1tfgcphvm6avb\" width=\"300%\" x=\"-1\" y=\"-1\"><feGaussianBlur result=\"blurOut\" stdDeviation=\"2.0\"/><feColorMatrix in=\"blurOut\" result=\"blurOut2\" type=\"matrix\" values=\"0 0 0 0 0 0 0 0 0 0 0 0 0 0 0 0 0 0 .4 0\"/><feOffset dx=\"4.0\" dy=\"4.0\" in=\"blurOut2\" result=\"blurOut3\"/><feBlend in=\"SourceGraphic\" in2=\"blurOut3\" mode=\"normal\"/></filter></defs><g><!--MD5=[fbc87193dbaf4d95561dea2c320d4a47]\n",
       "cluster E1--><a href=\"psysml:dccc75fb-db16-4804-85cb-688c27ce5ff3\" target=\"_top\" title=\"psysml:dccc75fb-db16-4804-85cb-688c27ce5ff3\" xlink:actuate=\"onRequest\" xlink:href=\"psysml:dccc75fb-db16-4804-85cb-688c27ce5ff3\" xlink:show=\"new\" xlink:title=\"psysml:dccc75fb-db16-4804-85cb-688c27ce5ff3\" xlink:type=\"simple\"><polygon fill=\"#FFFFFF\" filter=\"url(#f1tfgcphvm6avb)\" points=\"16,6,84,6,91,28.2969,596,28.2969,596,221,16,221,16,6\" style=\"stroke: #000000; stroke-width: 1.5;\"/><line style=\"stroke: #000000; stroke-width: 1.5;\" x1=\"16\" x2=\"91\" y1=\"28.2969\" y2=\"28.2969\"/><text fill=\"#000000\" font-family=\"sans-serif\" font-size=\"14\" font-weight=\"bold\" lengthAdjust=\"spacingAndGlyphs\" textLength=\"62\" x=\"20\" y=\"20.9951\">AliasTest</text></a><!--MD5=[d5e69f78d87373223dbae638b30a9c99]\n",
       "cluster E3--><a href=\"psysml:61eb2658-da6c-419b-a94e-058b00326cab\" target=\"_top\" title=\"psysml:61eb2658-da6c-419b-a94e-058b00326cab\" xlink:actuate=\"onRequest\" xlink:href=\"psysml:61eb2658-da6c-419b-a94e-058b00326cab\" xlink:show=\"new\" xlink:title=\"psysml:61eb2658-da6c-419b-a94e-058b00326cab\" xlink:type=\"simple\"><rect fill=\"#FFFFFF\" filter=\"url(#f1tfgcphvm6avb)\" height=\"90\" id=\"E3\" style=\"stroke: #A80036; stroke-width: 1.5;\" width=\"85\" x=\"453\" y=\"64\"/><rect fill=\"#FEFECE\" height=\"37.9375\" style=\"stroke: #A80036; stroke-width: 1.5;\" width=\"85\" x=\"453\" y=\"64\"/><text fill=\"#000000\" font-family=\"sans-serif\" font-size=\"12\" font-style=\"italic\" lengthAdjust=\"spacingAndGlyphs\" textLength=\"68\" x=\"461.5\" y=\"80.1387\">«part  def»</text><text fill=\"#000000\" font-family=\"sans-serif\" font-size=\"12\" lengthAdjust=\"spacingAndGlyphs\" textLength=\"16\" x=\"487.5\" y=\"94.1074\">P1</text></a><!--MD5=[14e3b0961a2654348d326746436168a1]\n",
       "cluster E6--><a href=\"psysml:11b2a6df-aab5-4dc5-a120-8a7b1f52b05c\" target=\"_top\" title=\"psysml:11b2a6df-aab5-4dc5-a120-8a7b1f52b05c\" xlink:actuate=\"onRequest\" xlink:href=\"psysml:11b2a6df-aab5-4dc5-a120-8a7b1f52b05c\" xlink:show=\"new\" xlink:title=\"psysml:11b2a6df-aab5-4dc5-a120-8a7b1f52b05c\" xlink:type=\"simple\"><rect fill=\"#FFFFFF\" filter=\"url(#f1tfgcphvm6avb)\" height=\"82\" id=\"E6\" rx=\"10\" ry=\"10\" style=\"stroke: #A80036; stroke-width: 1.5;\" width=\"98\" x=\"252\" y=\"64\"/><rect fill=\"#FEFECE\" height=\"23.9688\" rx=\"10\" ry=\"10\" style=\"stroke: #FEFECE; stroke-width: 1.5;\" width=\"98\" x=\"252\" y=\"64\"/><rect fill=\"#FEFECE\" height=\"10\" style=\"stroke: #FEFECE; stroke-width: 1.5;\" width=\"98\" x=\"252\" y=\"77.9688\"/><rect fill=\"none\" height=\"82\" id=\"E6\" rx=\"10\" ry=\"10\" style=\"stroke: #A80036; stroke-width: 1.5;\" width=\"98\" x=\"252\" y=\"64\"/><text fill=\"#000000\" font-family=\"sans-serif\" font-size=\"12\" lengthAdjust=\"spacingAndGlyphs\" textLength=\"40\" x=\"281\" y=\"80.1387\">p1: P1</text><line style=\"stroke: #A80036; stroke-width: 1.0;\" x1=\"252\" x2=\"350\" y1=\"87.9688\" y2=\"87.9688\"/></a><!--MD5=[55dfccfc6c49c2d10cd1bd2211a6c90c]\n",
       "cluster E8--><a href=\"psysml:2c2598c5-3ef5-4f1d-ae32-f3d429fa4c2f\" target=\"_top\" title=\"psysml:2c2598c5-3ef5-4f1d-ae32-f3d429fa4c2f\" xlink:actuate=\"onRequest\" xlink:href=\"psysml:2c2598c5-3ef5-4f1d-ae32-f3d429fa4c2f\" xlink:show=\"new\" xlink:title=\"psysml:2c2598c5-3ef5-4f1d-ae32-f3d429fa4c2f\" xlink:type=\"simple\"><rect fill=\"#FFFFFF\" filter=\"url(#f1tfgcphvm6avb)\" height=\"84.5\" id=\"E8\" rx=\"10\" ry=\"10\" style=\"stroke: #A80036; stroke-width: 1.5;\" width=\"83\" x=\"353\" y=\"120.5\"/><rect fill=\"#FEFECE\" height=\"23.9688\" rx=\"10\" ry=\"10\" style=\"stroke: #FEFECE; stroke-width: 1.5;\" width=\"83\" x=\"353\" y=\"120.5\"/><rect fill=\"#FEFECE\" height=\"10\" style=\"stroke: #FEFECE; stroke-width: 1.5;\" width=\"83\" x=\"353\" y=\"134.4688\"/><rect fill=\"none\" height=\"84.5\" id=\"E8\" rx=\"10\" ry=\"10\" style=\"stroke: #A80036; stroke-width: 1.5;\" width=\"83\" x=\"353\" y=\"120.5\"/><text fill=\"#000000\" font-family=\"sans-serif\" font-size=\"12\" lengthAdjust=\"spacingAndGlyphs\" textLength=\"40\" x=\"374.5\" y=\"136.6387\">p2: P1</text><line style=\"stroke: #A80036; stroke-width: 1.0;\" x1=\"353\" x2=\"436\" y1=\"144.4688\" y2=\"144.4688\"/></a><!--MD5=[b4997ac47864f28c2f74865a473b2911]\n",
       "class E2--><a href=\"psysml:ce72622b-28d6-4d09-bee8-b5dd20a40a54\" target=\"_top\" title=\"psysml:ce72622b-28d6-4d09-bee8-b5dd20a40a54\" xlink:actuate=\"onRequest\" xlink:href=\"psysml:ce72622b-28d6-4d09-bee8-b5dd20a40a54\" xlink:show=\"new\" xlink:title=\"psysml:ce72622b-28d6-4d09-bee8-b5dd20a40a54\" xlink:type=\"simple\"><rect fill=\"#FEFECE\" filter=\"url(#f1tfgcphvm6avb)\" height=\"45.9375\" id=\"E2\" rx=\"10\" ry=\"10\" style=\"stroke: #A80036; stroke-width: 1.5;\" width=\"213\" x=\"31.5\" y=\"41\"/><text fill=\"#000000\" font-family=\"sans-serif\" font-size=\"12\" font-style=\"italic\" lengthAdjust=\"spacingAndGlyphs\" textLength=\"69\" x=\"103.5\" y=\"57.1387\">«attribute»</text><text fill=\"#000000\" font-family=\"sans-serif\" font-size=\"12\" lengthAdjust=\"spacingAndGlyphs\" textLength=\"207\" x=\"34.5\" y=\"71.1074\">q :&gt; Quantities::tensorQuantities</text><line style=\"stroke: #A80036; stroke-width: 1.5;\" x1=\"32.5\" x2=\"243.5\" y1=\"78.9375\" y2=\"78.9375\"/></a><text fill=\"#000000\" font-family=\"sans-serif\" font-size=\"14\" lengthAdjust=\"spacingAndGlyphs\" textLength=\"44\" x=\"449\" y=\"42.6982\">porig1</text><rect fill=\"#A80036\" height=\"12\" style=\"stroke: #FEFECE; stroke-width: 1.5;\" width=\"12\" x=\"465\" y=\"58\"/><text fill=\"#000000\" font-family=\"sans-serif\" font-size=\"14\" lengthAdjust=\"spacingAndGlyphs\" textLength=\"44\" x=\"496\" y=\"42.6982\">porig1</text><rect fill=\"#A80036\" height=\"12\" style=\"stroke: #FEFECE; stroke-width: 1.5;\" width=\"12\" x=\"512\" y=\"58\"/><text fill=\"#000000\" font-family=\"sans-serif\" font-size=\"14\" lengthAdjust=\"spacingAndGlyphs\" textLength=\"27\" x=\"318.5\" y=\"42.6982\">po1</text><rect fill=\"#A80036\" height=\"12\" style=\"stroke: #FEFECE; stroke-width: 1.5;\" width=\"12\" x=\"326\" y=\"58\"/><text fill=\"#000000\" font-family=\"sans-serif\" font-size=\"14\" lengthAdjust=\"spacingAndGlyphs\" textLength=\"40\" x=\"351\" y=\"99.1982\">pdest</text><rect fill=\"#A80036\" height=\"12\" style=\"stroke: #FEFECE; stroke-width: 1.5;\" width=\"12\" x=\"365\" y=\"114.5\"/><text fill=\"#000000\" font-family=\"sans-serif\" font-size=\"14\" lengthAdjust=\"spacingAndGlyphs\" textLength=\"40\" x=\"398\" y=\"99.1982\">pdest</text><rect fill=\"#A80036\" height=\"12\" style=\"stroke: #FEFECE; stroke-width: 1.5;\" width=\"12\" x=\"412\" y=\"114.5\"/><!--MD5=[1c0b9414cc86e0744215edee6abd8926]\n",
       "link E7 to E9--><a href=\"psysml:ee24455c-c65b-41eb-8958-74c54e28cd84\" target=\"_top\" title=\"psysml:ee24455c-c65b-41eb-8958-74c54e28cd84\" xlink:actuate=\"onRequest\" xlink:href=\"psysml:ee24455c-c65b-41eb-8958-74c54e28cd84\" xlink:show=\"new\" xlink:title=\"psysml:ee24455c-c65b-41eb-8958-74c54e28cd84\" xlink:type=\"simple\"><path d=\"M327.83,70.03 C328.72,81.73 350.14,110.34 364.83,117.73 \" fill=\"none\" id=\"E7-E9\" style=\"stroke: #A80036; stroke-width: 3.0;\"/><text fill=\"#000000\" font-family=\"sans-serif\" font-size=\"13\" lengthAdjust=\"spacingAndGlyphs\" textLength=\"7\" x=\"349.8522\" y=\"106.3789\">*</text></a><!--MD5=[1c0b9414cc86e0744215edee6abd8926]\n",
       "link E7 to E9--><a href=\"psysml:1d0a5b52-6a4c-4cbe-b03e-99be5638e392\" target=\"_top\" title=\"psysml:1d0a5b52-6a4c-4cbe-b03e-99be5638e392\" xlink:actuate=\"onRequest\" xlink:href=\"psysml:1d0a5b52-6a4c-4cbe-b03e-99be5638e392\" xlink:show=\"new\" xlink:title=\"psysml:1d0a5b52-6a4c-4cbe-b03e-99be5638e392\" xlink:type=\"simple\"><path d=\"M338.05,66.57 C353.27,73.62 375.05,102.5 375.62,114.37 \" fill=\"none\" id=\"E7-E9-1\" style=\"stroke: #A80036; stroke-width: 3.0;\"/><text fill=\"#000000\" font-family=\"sans-serif\" font-size=\"13\" lengthAdjust=\"spacingAndGlyphs\" textLength=\"7\" x=\"369.278\" y=\"103.4683\">*</text></a><!--MD5=[e4513261c452db99c780e516ba4449a7]\n",
       "@startuml\r\n",
       "skinparam ranksep 10\r\n",
       "skinparam rectangle {\r\n",
       " backgroundColor<<block>> LightGreen\r\n",
       "}\r\n",
       "skinparam wrapWidth 300\r\n",
       "hide circle\r\n",
       "\r\n",
       "package \"AliasTest\" as E1  [[psysml:dccc75fb-db16-4804-85cb-688c27ce5ff3 ]]  {\r\n",
       "comp usage \"q :> Quantities::tensorQuantities\" as E2  <<(T,blue) attribute>> [[psysml:ce72622b-28d6-4d09-bee8-b5dd20a40a54 ]] {\r\n",
       "}\r\n",
       "rec def \"P1\" as E3  <<(T,blue) part  def>> [[psysml:61eb2658-da6c-419b-a94e-058b00326cab ]] {\r\n",
       "portin \"porig1\" as E4  <<(T,blue) port>> [[psysml:9ae2babd-6d67-4765-bfe5-8d775f3bcf42 ]] \r\n",
       "portin \"porig1\" as E5  <<(T,blue) port>> [[psysml:9ae2babd-6d67-4765-bfe5-8d775f3bcf42 ]] \r\n",
       "}\r\n",
       "rec usage \"p1: P1\" as E6  [[psysml:11b2a6df-aab5-4dc5-a120-8a7b1f52b05c ]] {\r\n",
       "portin \"po1\" as E7  <<(T,blue) port>> [[psysml:a231442e-2600-41cf-892c-df88027eb505 ]] \r\n",
       "}\r\n",
       "rec usage \"p2: P1\" as E8  [[psysml:2c2598c5-3ef5-4f1d-ae32-f3d429fa4c2f ]] {\r\n",
       "portin \"pdest\" as E9  <<(T,blue) port>> [[psysml:10820d16-405d-40a2-9551-06e34552661e ]] \r\n",
       "portin \"pdest\" as E10  <<(T,blue) port>> [[psysml:10820d16-405d-40a2-9551-06e34552661e ]] \r\n",
       "}\r\n",
       "}\r\n",
       "E7 -[thickness=3]- \"*\"E9 [[psysml:ee24455c-c65b-41eb-8958-74c54e28cd84 ]] \r\n",
       "E7 -[thickness=3]- \"*\"E9 [[psysml:1d0a5b52-6a4c-4cbe-b03e-99be5638e392 ]] \r\n",
       "@enduml\r\n",
       "\n",
       "PlantUML version 1.2020.13(Sat Jun 13 12:26:38 UTC 2020)\n",
       "(EPL source distribution)\n",
       "Java Runtime: OpenJDK Runtime Environment\n",
       "JVM: OpenJDK 64-Bit Server VM\n",
       "Default Encoding: UTF-8\n",
       "Language: en\n",
       "Country: null\n",
       "--></g></svg>"
      ]
     },
     "execution_count": 26,
     "metadata": {},
     "output_type": "execute_result"
    }
   ],
   "source": [
    "%viz --style=\"STDCOLOR\" --view=\"Interconnection\" \"AliasTest\""
   ]
  },
  {
   "cell_type": "code",
   "execution_count": 27,
   "id": "b08f3139",
   "metadata": {
    "execution": {
     "iopub.execute_input": "2021-10-25T08:23:53.851044Z",
     "iopub.status.busy": "2021-10-25T08:23:53.850637Z",
     "iopub.status.idle": "2021-10-25T08:23:53.855500Z",
     "shell.execute_reply": "2021-10-25T08:23:53.855819Z"
    }
   },
   "outputs": [
    {
     "data": {
      "image/svg+xml": [
       "<?xml version=\"1.0\" encoding=\"UTF-8\" standalone=\"no\"?><svg xmlns=\"http://www.w3.org/2000/svg\" xmlns:xlink=\"http://www.w3.org/1999/xlink\" contentScriptType=\"application/ecmascript\" contentStyleType=\"text/css\" height=\"12px\" preserveAspectRatio=\"none\" style=\"width:12px;height:12px;\" version=\"1.1\" viewBox=\"0 0 12 12\" width=\"12px\" zoomAndPan=\"magnify\"><defs/><g><!--MD5=[9863325348a96a77dacc89509d8ee65e]\n",
       "@startuml\r\n",
       "skinparam ranksep 8\r\n",
       "skinparam wrapWidth 300\r\n",
       "hide circle\r\n",
       "\r\n",
       "@enduml\r\n",
       "\n",
       "PlantUML version 1.2020.13(Sat Jun 13 12:26:38 UTC 2020)\n",
       "(EPL source distribution)\n",
       "Java Runtime: OpenJDK Runtime Environment\n",
       "JVM: OpenJDK 64-Bit Server VM\n",
       "Default Encoding: UTF-8\n",
       "Language: en\n",
       "Country: null\n",
       "--></g></svg>"
      ]
     },
     "execution_count": 27,
     "metadata": {},
     "output_type": "execute_result"
    }
   ],
   "source": [
    "%viz --style=\"STDCOLOR\" --view=\"Action\" \"AliasTest\""
   ]
  },
  {
   "cell_type": "code",
   "execution_count": 28,
   "id": "fd3705d7",
   "metadata": {
    "execution": {
     "iopub.execute_input": "2021-10-25T08:23:53.905770Z",
     "iopub.status.busy": "2021-10-25T08:23:53.905310Z",
     "iopub.status.idle": "2021-10-25T08:23:53.910139Z",
     "shell.execute_reply": "2021-10-25T08:23:53.910471Z"
    }
   },
   "outputs": [
    {
     "data": {
      "image/svg+xml": [
       "<?xml version=\"1.0\" encoding=\"UTF-8\" standalone=\"no\"?><svg xmlns=\"http://www.w3.org/2000/svg\" xmlns:xlink=\"http://www.w3.org/1999/xlink\" contentScriptType=\"application/ecmascript\" contentStyleType=\"text/css\" height=\"12px\" preserveAspectRatio=\"none\" style=\"width:12px;height:12px;\" version=\"1.1\" viewBox=\"0 0 12 12\" width=\"12px\" zoomAndPan=\"magnify\"><defs/><g><!--MD5=[6c4bca67b4d71758159a5a7f1f1e1fc2]\n",
       "@startuml\r\n",
       "skinparam roundcorner 20\r\n",
       "skinparam BoxPadding 20\r\n",
       "skinparam SequenceBoxBackgroundColor #white\r\n",
       "skinparam style strictuml\r\n",
       "skinparam maxMessageSize 100\r\n",
       "skinparam wrapWidth 300\r\n",
       "hide circle\r\n",
       "\r\n",
       "@enduml\r\n",
       "\n",
       "PlantUML version 1.2020.13(Sat Jun 13 12:26:38 UTC 2020)\n",
       "(EPL source distribution)\n",
       "Java Runtime: OpenJDK Runtime Environment\n",
       "JVM: OpenJDK 64-Bit Server VM\n",
       "Default Encoding: UTF-8\n",
       "Language: en\n",
       "Country: null\n",
       "--></g></svg>"
      ]
     },
     "execution_count": 28,
     "metadata": {},
     "output_type": "execute_result"
    }
   ],
   "source": [
    "%viz --style=\"STDCOLOR\" --view=\"Sequence\" \"AliasTest\""
   ]
  },
  {
   "cell_type": "code",
   "execution_count": 29,
   "id": "20c9fea5",
   "metadata": {
    "execution": {
     "iopub.execute_input": "2021-10-25T08:23:53.960022Z",
     "iopub.status.busy": "2021-10-25T08:23:53.959606Z",
     "iopub.status.idle": "2021-10-25T08:23:53.998460Z",
     "shell.execute_reply": "2021-10-25T08:23:53.996515Z"
    }
   },
   "outputs": [
    {
     "data": {
      "image/svg+xml": [
       "<?xml version=\"1.0\" encoding=\"UTF-8\" standalone=\"no\"?><svg xmlns=\"http://www.w3.org/2000/svg\" xmlns:xlink=\"http://www.w3.org/1999/xlink\" contentScriptType=\"application/ecmascript\" contentStyleType=\"text/css\" height=\"327px\" preserveAspectRatio=\"none\" style=\"width:453px;height:327px;\" version=\"1.1\" viewBox=\"0 0 453 327\" width=\"453px\" zoomAndPan=\"magnify\"><defs><filter height=\"300%\" id=\"f1cfvw3i2a3g3h\" width=\"300%\" x=\"-1\" y=\"-1\"><feGaussianBlur result=\"blurOut\" stdDeviation=\"2.0\"/><feColorMatrix in=\"blurOut\" result=\"blurOut2\" type=\"matrix\" values=\"0 0 0 0 0 0 0 0 0 0 0 0 0 0 0 0 0 0 .4 0\"/><feOffset dx=\"4.0\" dy=\"4.0\" in=\"blurOut2\" result=\"blurOut3\"/><feBlend in=\"SourceGraphic\" in2=\"blurOut3\" mode=\"normal\"/></filter></defs><g><!--MD5=[fbc87193dbaf4d95561dea2c320d4a47]\n",
       "cluster E1--><a href=\"psysml:dccc75fb-db16-4804-85cb-688c27ce5ff3\" target=\"_top\" title=\"psysml:dccc75fb-db16-4804-85cb-688c27ce5ff3\" xlink:actuate=\"onRequest\" xlink:href=\"psysml:dccc75fb-db16-4804-85cb-688c27ce5ff3\" xlink:show=\"new\" xlink:title=\"psysml:dccc75fb-db16-4804-85cb-688c27ce5ff3\" xlink:type=\"simple\"><polygon fill=\"#FFFFFF\" filter=\"url(#f1cfvw3i2a3g3h)\" points=\"16,6,84,6,91,28.2969,431,28.2969,431,315,16,315,16,6\" style=\"stroke: #000000; stroke-width: 1.5;\"/><line style=\"stroke: #000000; stroke-width: 1.5;\" x1=\"16\" x2=\"91\" y1=\"28.2969\" y2=\"28.2969\"/><text fill=\"#000000\" font-family=\"sans-serif\" font-size=\"14\" font-weight=\"bold\" lengthAdjust=\"spacingAndGlyphs\" textLength=\"62\" x=\"20\" y=\"20.9951\">AliasTest</text></a><!--MD5=[b4997ac47864f28c2f74865a473b2911]\n",
       "class E2--><a href=\"psysml:ce72622b-28d6-4d09-bee8-b5dd20a40a54\" target=\"_top\" title=\"psysml:ce72622b-28d6-4d09-bee8-b5dd20a40a54\" xlink:actuate=\"onRequest\" xlink:href=\"psysml:ce72622b-28d6-4d09-bee8-b5dd20a40a54\" xlink:show=\"new\" xlink:title=\"psysml:ce72622b-28d6-4d09-bee8-b5dd20a40a54\" xlink:type=\"simple\"><rect fill=\"#FEFECE\" filter=\"url(#f1cfvw3i2a3g3h)\" height=\"45.9375\" id=\"E2\" rx=\"10\" ry=\"10\" style=\"stroke: #A80036; stroke-width: 1.5;\" width=\"213\" x=\"202.5\" y=\"41\"/><text fill=\"#000000\" font-family=\"sans-serif\" font-size=\"12\" font-style=\"italic\" lengthAdjust=\"spacingAndGlyphs\" textLength=\"69\" x=\"274.5\" y=\"57.1387\">«attribute»</text><text fill=\"#000000\" font-family=\"sans-serif\" font-size=\"12\" lengthAdjust=\"spacingAndGlyphs\" textLength=\"207\" x=\"205.5\" y=\"71.1074\">q :&gt; Quantities::tensorQuantities</text><line style=\"stroke: #A80036; stroke-width: 1.5;\" x1=\"203.5\" x2=\"414.5\" y1=\"78.9375\" y2=\"78.9375\"/></a><!--MD5=[09b614a08d8cba4a07c9adeb5e0fee81]\n",
       "class E3--><a href=\"psysml:61eb2658-da6c-419b-a94e-058b00326cab\" target=\"_top\" title=\"psysml:61eb2658-da6c-419b-a94e-058b00326cab\" xlink:actuate=\"onRequest\" xlink:href=\"psysml:61eb2658-da6c-419b-a94e-058b00326cab\" xlink:show=\"new\" xlink:title=\"psysml:61eb2658-da6c-419b-a94e-058b00326cab\" xlink:type=\"simple\"><rect fill=\"#FEFECE\" filter=\"url(#f1cfvw3i2a3g3h)\" height=\"45.9375\" id=\"E3\" style=\"stroke: #A80036; stroke-width: 1.5;\" width=\"70\" x=\"170\" y=\"147\"/><text fill=\"#000000\" font-family=\"sans-serif\" font-size=\"12\" font-style=\"italic\" lengthAdjust=\"spacingAndGlyphs\" textLength=\"68\" x=\"171\" y=\"163.1387\">«part  def»</text><text fill=\"#000000\" font-family=\"sans-serif\" font-size=\"12\" lengthAdjust=\"spacingAndGlyphs\" textLength=\"16\" x=\"197\" y=\"177.1074\">P1</text><line style=\"stroke: #A80036; stroke-width: 1.5;\" x1=\"171\" x2=\"239\" y1=\"184.9375\" y2=\"184.9375\"/></a><!--MD5=[ebbe1d658d1005bcc118a6aa81145e00]\n",
       "class E4--><a href=\"psysml:9ae2babd-6d67-4765-bfe5-8d775f3bcf42\" target=\"_top\" title=\"psysml:9ae2babd-6d67-4765-bfe5-8d775f3bcf42\" xlink:actuate=\"onRequest\" xlink:href=\"psysml:9ae2babd-6d67-4765-bfe5-8d775f3bcf42\" xlink:show=\"new\" xlink:title=\"psysml:9ae2babd-6d67-4765-bfe5-8d775f3bcf42\" xlink:type=\"simple\"><rect fill=\"#FEFECE\" filter=\"url(#f1cfvw3i2a3g3h)\" height=\"45.9375\" id=\"E4\" rx=\"10\" ry=\"10\" style=\"stroke: #A80036; stroke-width: 1.5;\" width=\"46\" x=\"182\" y=\"253\"/><text fill=\"#000000\" font-family=\"sans-serif\" font-size=\"12\" font-style=\"italic\" lengthAdjust=\"spacingAndGlyphs\" textLength=\"40\" x=\"185\" y=\"269.1387\">«port»</text><text fill=\"#000000\" font-family=\"sans-serif\" font-size=\"12\" lengthAdjust=\"spacingAndGlyphs\" textLength=\"40\" x=\"185\" y=\"283.1074\">porig1</text><line style=\"stroke: #A80036; stroke-width: 1.5;\" x1=\"183\" x2=\"227\" y1=\"290.9375\" y2=\"290.9375\"/></a><!--MD5=[270fce915f116d4de14055a7c1d9a0f3]\n",
       "class E5--><a href=\"psysml:11b2a6df-aab5-4dc5-a120-8a7b1f52b05c\" target=\"_top\" title=\"psysml:11b2a6df-aab5-4dc5-a120-8a7b1f52b05c\" xlink:actuate=\"onRequest\" xlink:href=\"psysml:11b2a6df-aab5-4dc5-a120-8a7b1f52b05c\" xlink:show=\"new\" xlink:title=\"psysml:11b2a6df-aab5-4dc5-a120-8a7b1f52b05c\" xlink:type=\"simple\"><rect fill=\"#FEFECE\" filter=\"url(#f1cfvw3i2a3g3h)\" height=\"45.9375\" id=\"E5\" rx=\"10\" ry=\"10\" style=\"stroke: #A80036; stroke-width: 1.5;\" width=\"50\" x=\"117\" y=\"41\"/><text fill=\"#000000\" font-family=\"sans-serif\" font-size=\"12\" font-style=\"italic\" lengthAdjust=\"spacingAndGlyphs\" textLength=\"40\" x=\"122\" y=\"57.1387\">«part»</text><text fill=\"#000000\" font-family=\"sans-serif\" font-size=\"12\" lengthAdjust=\"spacingAndGlyphs\" textLength=\"40\" x=\"120\" y=\"71.1074\">p1: P1</text><line style=\"stroke: #A80036; stroke-width: 1.5;\" x1=\"118\" x2=\"166\" y1=\"78.9375\" y2=\"78.9375\"/></a><!--MD5=[60a26617385b1d2d0262a64233df1f8d]\n",
       "class E6--><a href=\"psysml:a231442e-2600-41cf-892c-df88027eb505\" target=\"_top\" title=\"psysml:a231442e-2600-41cf-892c-df88027eb505\" xlink:actuate=\"onRequest\" xlink:href=\"psysml:a231442e-2600-41cf-892c-df88027eb505\" xlink:show=\"new\" xlink:title=\"psysml:a231442e-2600-41cf-892c-df88027eb505\" xlink:type=\"simple\"><rect fill=\"#FEFECE\" filter=\"url(#f1cfvw3i2a3g3h)\" height=\"45.9375\" id=\"E6\" rx=\"10\" ry=\"10\" style=\"stroke: #A80036; stroke-width: 1.5;\" width=\"42\" x=\"93\" y=\"147\"/><text fill=\"#000000\" font-family=\"sans-serif\" font-size=\"12\" font-style=\"italic\" lengthAdjust=\"spacingAndGlyphs\" textLength=\"40\" x=\"94\" y=\"163.1387\">«port»</text><text fill=\"#000000\" font-family=\"sans-serif\" font-size=\"12\" lengthAdjust=\"spacingAndGlyphs\" textLength=\"24\" x=\"102\" y=\"177.1074\">po1</text><line style=\"stroke: #A80036; stroke-width: 1.5;\" x1=\"94\" x2=\"134\" y1=\"184.9375\" y2=\"184.9375\"/></a><!--MD5=[2156ba9850f5573cc1fc38a6a4b2f02b]\n",
       "class E7--><a href=\"psysml:2c2598c5-3ef5-4f1d-ae32-f3d429fa4c2f\" target=\"_top\" title=\"psysml:2c2598c5-3ef5-4f1d-ae32-f3d429fa4c2f\" xlink:actuate=\"onRequest\" xlink:href=\"psysml:2c2598c5-3ef5-4f1d-ae32-f3d429fa4c2f\" xlink:show=\"new\" xlink:title=\"psysml:2c2598c5-3ef5-4f1d-ae32-f3d429fa4c2f\" xlink:type=\"simple\"><rect fill=\"#FEFECE\" filter=\"url(#f1cfvw3i2a3g3h)\" height=\"45.9375\" id=\"E7\" rx=\"10\" ry=\"10\" style=\"stroke: #A80036; stroke-width: 1.5;\" width=\"50\" x=\"32\" y=\"41\"/><text fill=\"#000000\" font-family=\"sans-serif\" font-size=\"12\" font-style=\"italic\" lengthAdjust=\"spacingAndGlyphs\" textLength=\"40\" x=\"37\" y=\"57.1387\">«part»</text><text fill=\"#000000\" font-family=\"sans-serif\" font-size=\"12\" lengthAdjust=\"spacingAndGlyphs\" textLength=\"40\" x=\"35\" y=\"71.1074\">p2: P1</text><line style=\"stroke: #A80036; stroke-width: 1.5;\" x1=\"33\" x2=\"81\" y1=\"78.9375\" y2=\"78.9375\"/></a><!--MD5=[b9389687b975829384b498ac4b7476b2]\n",
       "class E8--><a href=\"psysml:10820d16-405d-40a2-9551-06e34552661e\" target=\"_top\" title=\"psysml:10820d16-405d-40a2-9551-06e34552661e\" xlink:actuate=\"onRequest\" xlink:href=\"psysml:10820d16-405d-40a2-9551-06e34552661e\" xlink:show=\"new\" xlink:title=\"psysml:10820d16-405d-40a2-9551-06e34552661e\" xlink:type=\"simple\"><rect fill=\"#FEFECE\" filter=\"url(#f1cfvw3i2a3g3h)\" height=\"45.9375\" id=\"E8\" rx=\"10\" ry=\"10\" style=\"stroke: #A80036; stroke-width: 1.5;\" width=\"42\" x=\"65\" y=\"253\"/><text fill=\"#000000\" font-family=\"sans-serif\" font-size=\"12\" font-style=\"italic\" lengthAdjust=\"spacingAndGlyphs\" textLength=\"40\" x=\"66\" y=\"269.1387\">«port»</text><text fill=\"#000000\" font-family=\"sans-serif\" font-size=\"12\" lengthAdjust=\"spacingAndGlyphs\" textLength=\"36\" x=\"68\" y=\"283.1074\">pdest</text><line style=\"stroke: #A80036; stroke-width: 1.5;\" x1=\"66\" x2=\"106\" y1=\"290.9375\" y2=\"290.9375\"/></a><!--MD5=[4672eba38e49728da53d11aeb285b987]\n",
       "reverse link E3 to E4--><a href=\"psysml:8e3ccc77-0a8c-4c0b-a5d7-07a6acaf5014\" target=\"_top\" title=\"psysml:8e3ccc77-0a8c-4c0b-a5d7-07a6acaf5014\" xlink:actuate=\"onRequest\" xlink:href=\"psysml:8e3ccc77-0a8c-4c0b-a5d7-07a6acaf5014\" xlink:show=\"new\" xlink:title=\"psysml:8e3ccc77-0a8c-4c0b-a5d7-07a6acaf5014\" xlink:type=\"simple\"><path d=\"M192.84,206.44 C191.7,221.87 192.21,239.47 194.36,252.98 \" fill=\"none\" id=\"E3&lt;-E4\" style=\"stroke: #A80036; stroke-width: 1.0;\"/><polygon fill=\"#FFFFFF\" points=\"194.35,193.06,189.7032,198.5743,193.006,204.9845,197.6528,199.4702,194.35,193.06\" style=\"stroke: #A80036; stroke-width: 1.0;\"/><text fill=\"#000000\" font-family=\"sans-serif\" font-size=\"13\" lengthAdjust=\"spacingAndGlyphs\" textLength=\"8\" x=\"182.4255\" y=\"241.8709\">1</text></a><!--MD5=[4672eba38e49728da53d11aeb285b987]\n",
       "reverse link E3 to E4--><a href=\"psysml:408c218d-2c50-4f10-8495-de57c6cccdaf\" target=\"_top\" title=\"psysml:408c218d-2c50-4f10-8495-de57c6cccdaf\" xlink:actuate=\"onRequest\" xlink:href=\"psysml:408c218d-2c50-4f10-8495-de57c6cccdaf\" xlink:show=\"new\" xlink:title=\"psysml:408c218d-2c50-4f10-8495-de57c6cccdaf\" xlink:type=\"simple\"><path d=\"M218.01,208.34 C219.03,223.3 218.45,240.02 216.27,252.98 \" fill=\"none\" id=\"E3&lt;-E4-1\" style=\"stroke: #A80036; stroke-width: 1.0; stroke-dasharray: 7.0,7.0;\"/><ellipse cx=\"217.1693\" cy=\"201.0093\" fill=\"#FFFFFF\" rx=\"8\" ry=\"8\" style=\"stroke: #A80036; stroke-width: 1.0;\"/><line style=\"stroke: #A80036; stroke-width: 1.0;\" x1=\"218.0687\" x2=\"216.27\" y1=\"208.9586\" y2=\"193.06\"/><line style=\"stroke: #A80036; stroke-width: 1.0;\" x1=\"209.2201\" x2=\"225.1186\" y1=\"201.9086\" y2=\"200.1099\"/><text fill=\"#000000\" font-family=\"sans-serif\" font-size=\"13\" lengthAdjust=\"spacingAndGlyphs\" textLength=\"8\" x=\"210.2238\" y=\"241.8709\">1</text></a><!--MD5=[e9be52314489bd878ff4c7144b63c9e1]\n",
       "link E5 to E3--><a href=\"psysml:39d7aa17-d9aa-4290-8253-e0b073366074\" target=\"_top\" title=\"psysml:39d7aa17-d9aa-4290-8253-e0b073366074\" xlink:actuate=\"onRequest\" xlink:href=\"psysml:39d7aa17-d9aa-4290-8253-e0b073366074\" xlink:show=\"new\" xlink:title=\"psysml:39d7aa17-d9aa-4290-8253-e0b073366074\" xlink:type=\"simple\"><path d=\"M155.36,87.06 C162.88,99.47 172.49,115.33 181.24,129.78 \" fill=\"none\" id=\"E5-&gt;E3\" style=\"stroke: #A80036; stroke-width: 1.0;\"/><polygon fill=\"#FFFFFF\" points=\"191.66,146.98,175.8217,134.3646,187.792,127.1044,191.66,146.98\" style=\"stroke: #A80036; stroke-width: 1.0;\"/><ellipse cx=\"174.5758\" cy=\"128.4538\" fill=\"#A80036\" rx=\"2\" ry=\"2\" style=\"stroke: #A80036; stroke-width: 1.0;\"/><ellipse cx=\"183.126\" cy=\"123.2679\" fill=\"#A80036\" rx=\"2\" ry=\"2\" style=\"stroke: #A80036; stroke-width: 1.0;\"/></a><!--MD5=[85d356282659285ab4b2cfe2f634dd2b]\n",
       "reverse link E5 to E6--><a href=\"psysml:0602bff9-807d-4c23-b932-30af011e0640\" target=\"_top\" title=\"psysml:0602bff9-807d-4c23-b932-30af011e0640\" xlink:actuate=\"onRequest\" xlink:href=\"psysml:0602bff9-807d-4c23-b932-30af011e0640\" xlink:show=\"new\" xlink:title=\"psysml:0602bff9-807d-4c23-b932-30af011e0640\" xlink:type=\"simple\"><path d=\"M132.59,99.96 C128.4,115.51 123.6,133.33 119.93,146.98 \" fill=\"none\" id=\"E5&lt;-E6\" style=\"stroke: #A80036; stroke-width: 1.0;\"/><polygon fill=\"#FFFFFF\" points=\"136.06,87.06,130.641,91.8176,132.9484,98.6496,138.3674,93.892,136.06,87.06\" style=\"stroke: #A80036; stroke-width: 1.0;\"/><text fill=\"#000000\" font-family=\"sans-serif\" font-size=\"13\" lengthAdjust=\"spacingAndGlyphs\" textLength=\"8\" x=\"112.4487\" y=\"135.8709\">1</text></a><!--MD5=[f667431f98296947986a1a7595a31603]\n",
       "link E6 to E4--><a href=\"psysml:5ed5dee3-04af-484b-a73a-bf3d62fb0484\" target=\"_top\" title=\"psysml:5ed5dee3-04af-484b-a73a-bf3d62fb0484\" xlink:actuate=\"onRequest\" xlink:href=\"psysml:5ed5dee3-04af-484b-a73a-bf3d62fb0484\" xlink:show=\"new\" xlink:title=\"psysml:5ed5dee3-04af-484b-a73a-bf3d62fb0484\" xlink:type=\"simple\"><path d=\"M133.3,193.06 C144.64,206.02 159.28,222.74 172.36,237.7 \" fill=\"none\" id=\"E6-&gt;E4\" style=\"stroke: #A80036; stroke-width: 1.0;\"/><polygon fill=\"#FFFFFF\" points=\"185.73,252.98,167.9517,243.2882,178.489,234.0705,185.73,252.98\" style=\"stroke: #A80036; stroke-width: 1.0;\"/><line style=\"stroke: #A80036; stroke-width: 2.0;\" x1=\"165.4497\" x2=\"175.9871\" y1=\"240.4281\" y2=\"231.2104\"/></a><!--MD5=[14ccda38c055a5c0da953d572bc50960]\n",
       "link E7 to E3--><a href=\"psysml:6afc3f94-967f-4ac8-9c89-c7c9ad6aa496\" target=\"_top\" title=\"psysml:6afc3f94-967f-4ac8-9c89-c7c9ad6aa496\" xlink:actuate=\"onRequest\" xlink:href=\"psysml:6afc3f94-967f-4ac8-9c89-c7c9ad6aa496\" xlink:show=\"new\" xlink:title=\"psysml:6afc3f94-967f-4ac8-9c89-c7c9ad6aa496\" xlink:type=\"simple\"><path d=\"M82.11,82.64 C102.61,97.05 132.18,117.83 157.18,135.39 \" fill=\"none\" id=\"E7-&gt;E3\" style=\"stroke: #A80036; stroke-width: 1.0;\"/><polygon fill=\"#FFFFFF\" points=\"173.58,146.92,154.011,141.7187,162.0629,130.266,173.58,146.92\" style=\"stroke: #A80036; stroke-width: 1.0;\"/><ellipse cx=\"150.4983\" cy=\"136.8043\" fill=\"#A80036\" rx=\"2\" ry=\"2\" style=\"stroke: #A80036; stroke-width: 1.0;\"/><ellipse cx=\"156.2497\" cy=\"128.6238\" fill=\"#A80036\" rx=\"2\" ry=\"2\" style=\"stroke: #A80036; stroke-width: 1.0;\"/></a><!--MD5=[dc164f5e8a733ab456ef1add180e9e34]\n",
       "reverse link E7 to E8--><a href=\"psysml:9a63abc5-83ea-4d36-8ec2-a9e5009e1a31\" target=\"_top\" title=\"psysml:9a63abc5-83ea-4d36-8ec2-a9e5009e1a31\" xlink:actuate=\"onRequest\" xlink:href=\"psysml:9a63abc5-83ea-4d36-8ec2-a9e5009e1a31\" xlink:show=\"new\" xlink:title=\"psysml:9a63abc5-83ea-4d36-8ec2-a9e5009e1a31\" xlink:type=\"simple\"><path d=\"M52.05,100.09 C53.65,143.61 64.25,216.5 74.75,252.9 \" fill=\"none\" id=\"E7&lt;-E8\" style=\"stroke: #A80036; stroke-width: 1.0;\"/><polygon fill=\"#FFFFFF\" points=\"51.85,87.08,47.9362,93.1366,52.0216,99.0788,55.9354,93.0222,51.85,87.08\" style=\"stroke: #A80036; stroke-width: 1.0;\"/><text fill=\"#000000\" font-family=\"sans-serif\" font-size=\"13\" lengthAdjust=\"spacingAndGlyphs\" textLength=\"8\" x=\"62.6516\" y=\"241.7694\">1</text></a><!--MD5=[dc164f5e8a733ab456ef1add180e9e34]\n",
       "reverse link E7 to E8--><a href=\"psysml:af85dbb9-a19a-4dbd-bd41-700a2e1e88fd\" target=\"_top\" title=\"psysml:af85dbb9-a19a-4dbd-bd41-700a2e1e88fd\" xlink:actuate=\"onRequest\" xlink:href=\"psysml:af85dbb9-a19a-4dbd-bd41-700a2e1e88fd\" xlink:show=\"new\" xlink:title=\"psysml:af85dbb9-a19a-4dbd-bd41-700a2e1e88fd\" xlink:type=\"simple\"><path d=\"M72.64,101.8 C83.15,145.5 92.39,216.97 91.63,252.9 \" fill=\"none\" id=\"E7&lt;-E8-1\" style=\"stroke: #A80036; stroke-width: 1.0; stroke-dasharray: 7.0,7.0;\"/><ellipse cx=\"70.7794\" cy=\"94.813\" fill=\"#FFFFFF\" rx=\"8\" ry=\"8\" style=\"stroke: #A80036; stroke-width: 1.0;\"/><line style=\"stroke: #A80036; stroke-width: 1.0;\" x1=\"72.8289\" x2=\"68.73\" y1=\"102.5461\" y2=\"87.08\"/><line style=\"stroke: #A80036; stroke-width: 1.0;\" x1=\"63.0464\" x2=\"78.5125\" y1=\"96.8625\" y2=\"92.7636\"/><text fill=\"#000000\" font-family=\"sans-serif\" font-size=\"13\" lengthAdjust=\"spacingAndGlyphs\" textLength=\"8\" x=\"94.2181\" y=\"241.7694\">1</text></a><!--MD5=[0a839d0f80c2d72d4b9b307f046d0de8]\n",
       "link E6 to E8--><a href=\"psysml:ee24455c-c65b-41eb-8958-74c54e28cd84\" target=\"_top\" title=\"psysml:ee24455c-c65b-41eb-8958-74c54e28cd84\" xlink:actuate=\"onRequest\" xlink:href=\"psysml:ee24455c-c65b-41eb-8958-74c54e28cd84\" xlink:show=\"new\" xlink:title=\"psysml:ee24455c-c65b-41eb-8958-74c54e28cd84\" xlink:type=\"simple\"><path d=\"M97.42,193.06 C89.86,210.7 83.23,235.34 81.29,252.98 \" fill=\"none\" id=\"E6-E8\" style=\"stroke: #A80036; stroke-width: 3.0;\"/><text fill=\"#000000\" font-family=\"sans-serif\" font-size=\"13\" lengthAdjust=\"spacingAndGlyphs\" textLength=\"7\" x=\"80.9648\" y=\"241.8709\">*</text></a><!--MD5=[0a839d0f80c2d72d4b9b307f046d0de8]\n",
       "link E6 to E8--><a href=\"psysml:1d0a5b52-6a4c-4cbe-b03e-99be5638e392\" target=\"_top\" title=\"psysml:1d0a5b52-6a4c-4cbe-b03e-99be5638e392\" xlink:actuate=\"onRequest\" xlink:href=\"psysml:1d0a5b52-6a4c-4cbe-b03e-99be5638e392\" xlink:show=\"new\" xlink:title=\"psysml:1d0a5b52-6a4c-4cbe-b03e-99be5638e392\" xlink:type=\"simple\"><path d=\"M119.33,193.06 C117.55,210.7 110.92,235.34 103.2,252.98 \" fill=\"none\" id=\"E6-E8-1\" style=\"stroke: #A80036; stroke-width: 3.0;\"/><text fill=\"#000000\" font-family=\"sans-serif\" font-size=\"13\" lengthAdjust=\"spacingAndGlyphs\" textLength=\"7\" x=\"99.8819\" y=\"241.8709\">*</text></a><!--MD5=[b50b3a21463685d484ea762313bfbf63]\n",
       "@startuml\r\n",
       "skinparam wrapWidth 300\r\n",
       "hide circle\r\n",
       "\r\n",
       "package \"AliasTest\" as E1  [[psysml:dccc75fb-db16-4804-85cb-688c27ce5ff3 ]]  {\r\n",
       "comp usage \"q :> Quantities::tensorQuantities\" as E2  <<(T,blue) attribute>> [[psysml:ce72622b-28d6-4d09-bee8-b5dd20a40a54 ]] {\r\n",
       "}\r\n",
       "comp def \"P1\" as E3  <<(T,blue) part  def>> [[psysml:61eb2658-da6c-419b-a94e-058b00326cab ]] {\r\n",
       "}\r\n",
       "comp usage \"porig1\" as E4  <<(T,blue) port>> [[psysml:9ae2babd-6d67-4765-bfe5-8d775f3bcf42 ]] {\r\n",
       "}\r\n",
       "comp usage \"p1: P1 \" as E5  <<(T,blue) part>> [[psysml:11b2a6df-aab5-4dc5-a120-8a7b1f52b05c ]] {\r\n",
       "}\r\n",
       "comp usage \"po1\" as E6  <<(T,blue) port>> [[psysml:a231442e-2600-41cf-892c-df88027eb505 ]] {\r\n",
       "}\r\n",
       "comp usage \"p2: P1 \" as E7  <<(T,blue) part>> [[psysml:2c2598c5-3ef5-4f1d-ae32-f3d429fa4c2f ]] {\r\n",
       "}\r\n",
       "comp usage \"pdest\" as E8  <<(T,blue) port>> [[psysml:10820d16-405d-40a2-9551-06e34552661e ]] {\r\n",
       "}\r\n",
       "}\r\n",
       "E3 o- - \"1\"E4 [[psysml:8e3ccc77-0a8c-4c0b-a5d7-07a6acaf5014 ]] \r\n",
       "E3 +.. \"1\"E4 [[psysml:408c218d-2c50-4f10-8495-de57c6cccdaf ]] \r\n",
       "E5 - -:|> E3 [[psysml:39d7aa17-d9aa-4290-8253-e0b073366074 ]] \r\n",
       "E5 o- - \"1\"E6 [[psysml:0602bff9-807d-4c23-b932-30af011e0640 ]] \r\n",
       "E6 - -||> E4 [[psysml:5ed5dee3-04af-484b-a73a-bf3d62fb0484 ]] \r\n",
       "E7 - -:|> E3 [[psysml:6afc3f94-967f-4ac8-9c89-c7c9ad6aa496 ]] \r\n",
       "E7 o- - \"1\"E8 [[psysml:9a63abc5-83ea-4d36-8ec2-a9e5009e1a31 ]] \r\n",
       "E7 +.. \"1\"E8 [[psysml:af85dbb9-a19a-4dbd-bd41-700a2e1e88fd ]] \r\n",
       "E6 -[thickness=3]- \"*\"E8 [[psysml:ee24455c-c65b-41eb-8958-74c54e28cd84 ]] \r\n",
       "E6 -[thickness=3]- \"*\"E8 [[psysml:1d0a5b52-6a4c-4cbe-b03e-99be5638e392 ]] \r\n",
       "@enduml\r\n",
       "\n",
       "PlantUML version 1.2020.13(Sat Jun 13 12:26:38 UTC 2020)\n",
       "(EPL source distribution)\n",
       "Java Runtime: OpenJDK Runtime Environment\n",
       "JVM: OpenJDK 64-Bit Server VM\n",
       "Default Encoding: UTF-8\n",
       "Language: en\n",
       "Country: null\n",
       "--></g></svg>"
      ]
     },
     "execution_count": 29,
     "metadata": {},
     "output_type": "execute_result"
    }
   ],
   "source": [
    "%viz --style=\"STDCOLOR\" --view=\"MIXED\" \"AliasTest\""
   ]
  },
  {
   "cell_type": "code",
   "execution_count": 30,
   "id": "8d3b6d2d",
   "metadata": {
    "execution": {
     "iopub.execute_input": "2021-10-25T08:23:54.048067Z",
     "iopub.status.busy": "2021-10-25T08:23:54.047618Z",
     "iopub.status.idle": "2021-10-25T08:23:54.118352Z",
     "shell.execute_reply": "2021-10-25T08:23:54.116269Z"
    }
   },
   "outputs": [
    {
     "data": {
      "image/svg+xml": [
       "<?xml version=\"1.0\" encoding=\"UTF-8\" standalone=\"no\"?><svg xmlns=\"http://www.w3.org/2000/svg\" xmlns:xlink=\"http://www.w3.org/1999/xlink\" contentScriptType=\"application/ecmascript\" contentStyleType=\"text/css\" height=\"327px\" preserveAspectRatio=\"none\" style=\"width:531px;height:327px;\" version=\"1.1\" viewBox=\"0 0 531 327\" width=\"531px\" zoomAndPan=\"magnify\"><defs><filter height=\"300%\" id=\"f1vi7lg2k6e2e8\" width=\"300%\" x=\"-1\" y=\"-1\"><feGaussianBlur result=\"blurOut\" stdDeviation=\"2.0\"/><feColorMatrix in=\"blurOut\" result=\"blurOut2\" type=\"matrix\" values=\"0 0 0 0 0 0 0 0 0 0 0 0 0 0 0 0 0 0 .4 0\"/><feOffset dx=\"4.0\" dy=\"4.0\" in=\"blurOut2\" result=\"blurOut3\"/><feBlend in=\"SourceGraphic\" in2=\"blurOut3\" mode=\"normal\"/></filter></defs><g><!--MD5=[fbc87193dbaf4d95561dea2c320d4a47]\n",
       "cluster E1--><a href=\"psysml:dccc75fb-db16-4804-85cb-688c27ce5ff3\" target=\"_top\" title=\"psysml:dccc75fb-db16-4804-85cb-688c27ce5ff3\" xlink:actuate=\"onRequest\" xlink:href=\"psysml:dccc75fb-db16-4804-85cb-688c27ce5ff3\" xlink:show=\"new\" xlink:title=\"psysml:dccc75fb-db16-4804-85cb-688c27ce5ff3\" xlink:type=\"simple\"><polygon fill=\"#FFFFFF\" filter=\"url(#f1vi7lg2k6e2e8)\" points=\"16,6,84,6,91,28.2969,509,28.2969,509,315,16,315,16,6\" style=\"stroke: #000000; stroke-width: 1.5;\"/><line style=\"stroke: #000000; stroke-width: 1.5;\" x1=\"16\" x2=\"91\" y1=\"28.2969\" y2=\"28.2969\"/><text fill=\"#000000\" font-family=\"sans-serif\" font-size=\"14\" font-weight=\"bold\" lengthAdjust=\"spacingAndGlyphs\" textLength=\"62\" x=\"20\" y=\"20.9951\">AliasTest</text></a><!--MD5=[b4997ac47864f28c2f74865a473b2911]\n",
       "class E2--><a href=\"psysml:ce72622b-28d6-4d09-bee8-b5dd20a40a54\" target=\"_top\" title=\"psysml:ce72622b-28d6-4d09-bee8-b5dd20a40a54\" xlink:actuate=\"onRequest\" xlink:href=\"psysml:ce72622b-28d6-4d09-bee8-b5dd20a40a54\" xlink:show=\"new\" xlink:title=\"psysml:ce72622b-28d6-4d09-bee8-b5dd20a40a54\" xlink:type=\"simple\"><rect fill=\"#FEFECE\" filter=\"url(#f1vi7lg2k6e2e8)\" height=\"45.9375\" id=\"E2\" rx=\"10\" ry=\"10\" style=\"stroke: #A80036; stroke-width: 1.5;\" width=\"239\" x=\"254.5\" y=\"41\"/><ellipse cx=\"269.5\" cy=\"59.9688\" fill=\"#FFA500\" rx=\"11\" ry=\"11\" style=\"stroke: #A80036; stroke-width: 1.0;\"/><path d=\"M269.25,65.4375 Q267.5,65.4375 266.5469,64.4063 Q265.6094,63.3594 265.6094,61.5156 L265.6094,54.625 L267.6719,54.625 L267.6719,54.7813 Q267.5781,54.875 267.5469,55.0156 Q267.5313,55.1406 267.5313,55.4063 L267.5313,61.5313 Q267.5313,62.625 267.9063,63.25 Q268.2813,63.875 269.2656,63.875 Q270.25,63.875 270.6406,63.25 Q271.0313,62.625 271.0313,61.4844 L271.0313,54.625 L272.9063,54.625 L272.9063,61.4688 Q272.9063,63.5 271.875,64.4688 Q270.8594,65.4375 269.25,65.4375 Z \"/><text fill=\"#000000\" font-family=\"sans-serif\" font-size=\"12\" font-style=\"italic\" lengthAdjust=\"spacingAndGlyphs\" textLength=\"69\" x=\"352.5\" y=\"57.1387\">«attribute»</text><text fill=\"#000000\" font-family=\"sans-serif\" font-size=\"12\" lengthAdjust=\"spacingAndGlyphs\" textLength=\"207\" x=\"283.5\" y=\"71.1074\">q :&gt; Quantities::tensorQuantities</text><line style=\"stroke: #A80036; stroke-width: 1.5;\" x1=\"255.5\" x2=\"492.5\" y1=\"78.9375\" y2=\"78.9375\"/></a><!--MD5=[09b614a08d8cba4a07c9adeb5e0fee81]\n",
       "class E3--><a href=\"psysml:61eb2658-da6c-419b-a94e-058b00326cab\" target=\"_top\" title=\"psysml:61eb2658-da6c-419b-a94e-058b00326cab\" xlink:actuate=\"onRequest\" xlink:href=\"psysml:61eb2658-da6c-419b-a94e-058b00326cab\" xlink:show=\"new\" xlink:title=\"psysml:61eb2658-da6c-419b-a94e-058b00326cab\" xlink:type=\"simple\"><rect fill=\"#FEFECE\" filter=\"url(#f1vi7lg2k6e2e8)\" height=\"40\" id=\"E3\" style=\"stroke: #A80036; stroke-width: 1.5;\" width=\"48\" x=\"209\" y=\"150\"/><ellipse cx=\"224\" cy=\"166\" fill=\"#008000\" rx=\"11\" ry=\"11\" style=\"stroke: #A80036; stroke-width: 1.0;\"/><path d=\"M220.875,171 L220.875,160.4063 L224.1094,160.4063 Q226.0156,160.4063 226.9219,161.1563 Q227.8438,161.9063 227.8438,163.0781 Q227.8438,163.7656 227.4531,164.4219 Q227.0781,165.0781 226.3594,165.375 Q227.2188,165.75 227.7344,166.4375 Q228.25,167.125 228.25,167.9375 Q228.25,169.3125 227.2188,170.1563 Q226.2031,171 224.0938,171 L220.875,171 Z M222.7969,164.6406 L223.9531,164.6406 Q225.0781,164.6406 225.4844,164.2656 Q225.9063,163.875 225.9063,163.25 Q225.9063,162.6719 225.4844,162.3125 Q225.0625,161.9531 224.125,161.9531 L222.7969,161.9531 L222.7969,164.6406 Z M222.7969,169.4219 L224.2969,169.4219 Q225.2031,169.4219 225.7344,169.0313 Q226.2656,168.6406 226.2656,167.8906 Q226.2656,167.125 225.7656,166.6563 Q225.2656,166.1719 224,166.1719 L222.7969,166.1719 L222.7969,169.4219 Z \"/><text fill=\"#000000\" font-family=\"sans-serif\" font-size=\"12\" lengthAdjust=\"spacingAndGlyphs\" textLength=\"16\" x=\"238\" y=\"170.1543\">P1</text><line style=\"stroke: #A80036; stroke-width: 1.5;\" x1=\"210\" x2=\"256\" y1=\"182\" y2=\"182\"/></a><!--MD5=[ebbe1d658d1005bcc118a6aa81145e00]\n",
       "class E4--><a href=\"psysml:9ae2babd-6d67-4765-bfe5-8d775f3bcf42\" target=\"_top\" title=\"psysml:9ae2babd-6d67-4765-bfe5-8d775f3bcf42\" xlink:actuate=\"onRequest\" xlink:href=\"psysml:9ae2babd-6d67-4765-bfe5-8d775f3bcf42\" xlink:show=\"new\" xlink:title=\"psysml:9ae2babd-6d67-4765-bfe5-8d775f3bcf42\" xlink:type=\"simple\"><rect fill=\"#FEFECE\" filter=\"url(#f1vi7lg2k6e2e8)\" height=\"45.9375\" id=\"E4\" rx=\"10\" ry=\"10\" style=\"stroke: #A80036; stroke-width: 1.5;\" width=\"72\" x=\"197\" y=\"253\"/><ellipse cx=\"212\" cy=\"271.9688\" fill=\"#0000FF\" rx=\"11\" ry=\"11\" style=\"stroke: #A80036; stroke-width: 1.0;\"/><path d=\"M208.8125,276.9688 L208.8125,266.375 L212.4219,266.375 Q213.6406,266.375 214.4375,266.8125 Q215.2344,267.2344 215.6094,267.9375 Q216,268.6406 216,269.4844 Q216,270.3281 215.625,271.0156 Q215.2656,271.7031 214.4688,272.125 Q213.6875,272.5313 212.5,272.5313 L210.7656,272.5313 L210.7656,276.9688 L208.8125,276.9688 Z M210.7656,270.9375 L212.375,270.9375 Q213.1875,270.9375 213.6094,270.5313 Q214.0313,270.125 214.0313,269.4844 Q214.0313,268.8594 213.6094,268.4531 Q213.1875,268.0469 212.3906,268.0469 L210.7656,268.0469 L210.7656,270.9375 Z \"/><text fill=\"#000000\" font-family=\"sans-serif\" font-size=\"12\" font-style=\"italic\" lengthAdjust=\"spacingAndGlyphs\" textLength=\"40\" x=\"226\" y=\"269.1387\">«port»</text><text fill=\"#000000\" font-family=\"sans-serif\" font-size=\"12\" lengthAdjust=\"spacingAndGlyphs\" textLength=\"40\" x=\"226\" y=\"283.1074\">porig1</text><line style=\"stroke: #A80036; stroke-width: 1.5;\" x1=\"198\" x2=\"268\" y1=\"290.9375\" y2=\"290.9375\"/></a><!--MD5=[270fce915f116d4de14055a7c1d9a0f3]\n",
       "class E5--><a href=\"psysml:11b2a6df-aab5-4dc5-a120-8a7b1f52b05c\" target=\"_top\" title=\"psysml:11b2a6df-aab5-4dc5-a120-8a7b1f52b05c\" xlink:actuate=\"onRequest\" xlink:href=\"psysml:11b2a6df-aab5-4dc5-a120-8a7b1f52b05c\" xlink:show=\"new\" xlink:title=\"psysml:11b2a6df-aab5-4dc5-a120-8a7b1f52b05c\" xlink:type=\"simple\"><rect fill=\"#FEFECE\" filter=\"url(#f1vi7lg2k6e2e8)\" height=\"45.9375\" id=\"E5\" rx=\"10\" ry=\"10\" style=\"stroke: #A80036; stroke-width: 1.5;\" width=\"76\" x=\"143\" y=\"41\"/><ellipse cx=\"158\" cy=\"59.9688\" fill=\"#32CD32\" rx=\"11\" ry=\"11\" style=\"stroke: #A80036; stroke-width: 1.0;\"/><path d=\"M154.8125,64.9688 L154.8125,54.375 L158.4219,54.375 Q159.6406,54.375 160.4375,54.8125 Q161.2344,55.2344 161.6094,55.9375 Q162,56.6406 162,57.4844 Q162,58.3281 161.625,59.0156 Q161.2656,59.7031 160.4688,60.125 Q159.6875,60.5313 158.5,60.5313 L156.7656,60.5313 L156.7656,64.9688 L154.8125,64.9688 Z M156.7656,58.9375 L158.375,58.9375 Q159.1875,58.9375 159.6094,58.5313 Q160.0313,58.125 160.0313,57.4844 Q160.0313,56.8594 159.6094,56.4531 Q159.1875,56.0469 158.3906,56.0469 L156.7656,56.0469 L156.7656,58.9375 Z \"/><text fill=\"#000000\" font-family=\"sans-serif\" font-size=\"12\" font-style=\"italic\" lengthAdjust=\"spacingAndGlyphs\" textLength=\"40\" x=\"174\" y=\"57.1387\">«part»</text><text fill=\"#000000\" font-family=\"sans-serif\" font-size=\"12\" lengthAdjust=\"spacingAndGlyphs\" textLength=\"40\" x=\"172\" y=\"71.1074\">p1: P1</text><line style=\"stroke: #A80036; stroke-width: 1.5;\" x1=\"144\" x2=\"218\" y1=\"78.9375\" y2=\"78.9375\"/></a><!--MD5=[60a26617385b1d2d0262a64233df1f8d]\n",
       "class E6--><a href=\"psysml:a231442e-2600-41cf-892c-df88027eb505\" target=\"_top\" title=\"psysml:a231442e-2600-41cf-892c-df88027eb505\" xlink:actuate=\"onRequest\" xlink:href=\"psysml:a231442e-2600-41cf-892c-df88027eb505\" xlink:show=\"new\" xlink:title=\"psysml:a231442e-2600-41cf-892c-df88027eb505\" xlink:type=\"simple\"><rect fill=\"#FEFECE\" filter=\"url(#f1vi7lg2k6e2e8)\" height=\"45.9375\" id=\"E6\" rx=\"10\" ry=\"10\" style=\"stroke: #A80036; stroke-width: 1.5;\" width=\"68\" x=\"106\" y=\"147\"/><ellipse cx=\"121\" cy=\"165.9688\" fill=\"#0000FF\" rx=\"11\" ry=\"11\" style=\"stroke: #A80036; stroke-width: 1.0;\"/><path d=\"M117.8125,170.9688 L117.8125,160.375 L121.4219,160.375 Q122.6406,160.375 123.4375,160.8125 Q124.2344,161.2344 124.6094,161.9375 Q125,162.6406 125,163.4844 Q125,164.3281 124.625,165.0156 Q124.2656,165.7031 123.4688,166.125 Q122.6875,166.5313 121.5,166.5313 L119.7656,166.5313 L119.7656,170.9688 L117.8125,170.9688 Z M119.7656,164.9375 L121.375,164.9375 Q122.1875,164.9375 122.6094,164.5313 Q123.0313,164.125 123.0313,163.4844 Q123.0313,162.8594 122.6094,162.4531 Q122.1875,162.0469 121.3906,162.0469 L119.7656,162.0469 L119.7656,164.9375 Z \"/><text fill=\"#000000\" font-family=\"sans-serif\" font-size=\"12\" font-style=\"italic\" lengthAdjust=\"spacingAndGlyphs\" textLength=\"40\" x=\"133\" y=\"163.1387\">«port»</text><text fill=\"#000000\" font-family=\"sans-serif\" font-size=\"12\" lengthAdjust=\"spacingAndGlyphs\" textLength=\"24\" x=\"141\" y=\"177.1074\">po1</text><line style=\"stroke: #A80036; stroke-width: 1.5;\" x1=\"107\" x2=\"173\" y1=\"184.9375\" y2=\"184.9375\"/></a><!--MD5=[2156ba9850f5573cc1fc38a6a4b2f02b]\n",
       "class E7--><a href=\"psysml:2c2598c5-3ef5-4f1d-ae32-f3d429fa4c2f\" target=\"_top\" title=\"psysml:2c2598c5-3ef5-4f1d-ae32-f3d429fa4c2f\" xlink:actuate=\"onRequest\" xlink:href=\"psysml:2c2598c5-3ef5-4f1d-ae32-f3d429fa4c2f\" xlink:show=\"new\" xlink:title=\"psysml:2c2598c5-3ef5-4f1d-ae32-f3d429fa4c2f\" xlink:type=\"simple\"><rect fill=\"#FEFECE\" filter=\"url(#f1vi7lg2k6e2e8)\" height=\"45.9375\" id=\"E7\" rx=\"10\" ry=\"10\" style=\"stroke: #A80036; stroke-width: 1.5;\" width=\"76\" x=\"32\" y=\"41\"/><ellipse cx=\"47\" cy=\"59.9688\" fill=\"#32CD32\" rx=\"11\" ry=\"11\" style=\"stroke: #A80036; stroke-width: 1.0;\"/><path d=\"M43.8125,64.9688 L43.8125,54.375 L47.4219,54.375 Q48.6406,54.375 49.4375,54.8125 Q50.2344,55.2344 50.6094,55.9375 Q51,56.6406 51,57.4844 Q51,58.3281 50.625,59.0156 Q50.2656,59.7031 49.4688,60.125 Q48.6875,60.5313 47.5,60.5313 L45.7656,60.5313 L45.7656,64.9688 L43.8125,64.9688 Z M45.7656,58.9375 L47.375,58.9375 Q48.1875,58.9375 48.6094,58.5313 Q49.0313,58.125 49.0313,57.4844 Q49.0313,56.8594 48.6094,56.4531 Q48.1875,56.0469 47.3906,56.0469 L45.7656,56.0469 L45.7656,58.9375 Z \"/><text fill=\"#000000\" font-family=\"sans-serif\" font-size=\"12\" font-style=\"italic\" lengthAdjust=\"spacingAndGlyphs\" textLength=\"40\" x=\"63\" y=\"57.1387\">«part»</text><text fill=\"#000000\" font-family=\"sans-serif\" font-size=\"12\" lengthAdjust=\"spacingAndGlyphs\" textLength=\"40\" x=\"61\" y=\"71.1074\">p2: P1</text><line style=\"stroke: #A80036; stroke-width: 1.5;\" x1=\"33\" x2=\"107\" y1=\"78.9375\" y2=\"78.9375\"/></a><!--MD5=[b9389687b975829384b498ac4b7476b2]\n",
       "class E8--><a href=\"psysml:10820d16-405d-40a2-9551-06e34552661e\" target=\"_top\" title=\"psysml:10820d16-405d-40a2-9551-06e34552661e\" xlink:actuate=\"onRequest\" xlink:href=\"psysml:10820d16-405d-40a2-9551-06e34552661e\" xlink:show=\"new\" xlink:title=\"psysml:10820d16-405d-40a2-9551-06e34552661e\" xlink:type=\"simple\"><rect fill=\"#FEFECE\" filter=\"url(#f1vi7lg2k6e2e8)\" height=\"45.9375\" id=\"E8\" rx=\"10\" ry=\"10\" style=\"stroke: #A80036; stroke-width: 1.5;\" width=\"68\" x=\"65\" y=\"253\"/><ellipse cx=\"80\" cy=\"271.9688\" fill=\"#0000FF\" rx=\"11\" ry=\"11\" style=\"stroke: #A80036; stroke-width: 1.0;\"/><path d=\"M76.8125,276.9688 L76.8125,266.375 L80.4219,266.375 Q81.6406,266.375 82.4375,266.8125 Q83.2344,267.2344 83.6094,267.9375 Q84,268.6406 84,269.4844 Q84,270.3281 83.625,271.0156 Q83.2656,271.7031 82.4688,272.125 Q81.6875,272.5313 80.5,272.5313 L78.7656,272.5313 L78.7656,276.9688 L76.8125,276.9688 Z M78.7656,270.9375 L80.375,270.9375 Q81.1875,270.9375 81.6094,270.5313 Q82.0313,270.125 82.0313,269.4844 Q82.0313,268.8594 81.6094,268.4531 Q81.1875,268.0469 80.3906,268.0469 L78.7656,268.0469 L78.7656,270.9375 Z \"/><text fill=\"#000000\" font-family=\"sans-serif\" font-size=\"12\" font-style=\"italic\" lengthAdjust=\"spacingAndGlyphs\" textLength=\"40\" x=\"92\" y=\"269.1387\">«port»</text><text fill=\"#000000\" font-family=\"sans-serif\" font-size=\"12\" lengthAdjust=\"spacingAndGlyphs\" textLength=\"36\" x=\"94\" y=\"283.1074\">pdest</text><line style=\"stroke: #A80036; stroke-width: 1.5;\" x1=\"66\" x2=\"132\" y1=\"290.9375\" y2=\"290.9375\"/></a><!--MD5=[4672eba38e49728da53d11aeb285b987]\n",
       "reverse link E3 to E4--><a href=\"psysml:8e3ccc77-0a8c-4c0b-a5d7-07a6acaf5014\" target=\"_top\" title=\"psysml:8e3ccc77-0a8c-4c0b-a5d7-07a6acaf5014\" xlink:actuate=\"onRequest\" xlink:href=\"psysml:8e3ccc77-0a8c-4c0b-a5d7-07a6acaf5014\" xlink:show=\"new\" xlink:title=\"psysml:8e3ccc77-0a8c-4c0b-a5d7-07a6acaf5014\" xlink:type=\"simple\"><path d=\"M221.1,203.25 C219.65,219.33 220.05,238.37 222.33,252.8 \" fill=\"none\" id=\"E3&lt;-E4\" style=\"stroke: #A80036; stroke-width: 1.0;\"/><polygon fill=\"#FFFFFF\" points=\"222.87,190.08,218.1137,195.5001,221.2875,201.9752,226.0438,196.5551,222.87,190.08\" style=\"stroke: #A80036; stroke-width: 1.0;\"/><text fill=\"#000000\" font-family=\"sans-serif\" font-size=\"13\" lengthAdjust=\"spacingAndGlyphs\" textLength=\"8\" x=\"210.5708\" y=\"242.025\">1</text></a><!--MD5=[4672eba38e49728da53d11aeb285b987]\n",
       "reverse link E3 to E4--><a href=\"psysml:408c218d-2c50-4f10-8495-de57c6cccdaf\" target=\"_top\" title=\"psysml:408c218d-2c50-4f10-8495-de57c6cccdaf\" xlink:actuate=\"onRequest\" xlink:href=\"psysml:408c218d-2c50-4f10-8495-de57c6cccdaf\" xlink:show=\"new\" xlink:title=\"psysml:408c218d-2c50-4f10-8495-de57c6cccdaf\" xlink:type=\"simple\"><path d=\"M245.77,205.22 C247.1,220.87 246.61,238.96 244.3,252.8 \" fill=\"none\" id=\"E3&lt;-E4-1\" style=\"stroke: #A80036; stroke-width: 1.0; stroke-dasharray: 7.0,7.0;\"/><ellipse cx=\"244.7963\" cy=\"198.0086\" fill=\"#FFFFFF\" rx=\"8\" ry=\"8\" style=\"stroke: #A80036; stroke-width: 1.0;\"/><line style=\"stroke: #A80036; stroke-width: 1.0;\" x1=\"245.8626\" x2=\"243.73\" y1=\"205.9372\" y2=\"190.08\"/><line style=\"stroke: #A80036; stroke-width: 1.0;\" x1=\"236.8677\" x2=\"252.7249\" y1=\"199.0749\" y2=\"196.9423\"/><text fill=\"#000000\" font-family=\"sans-serif\" font-size=\"13\" lengthAdjust=\"spacingAndGlyphs\" textLength=\"8\" x=\"238.1706\" y=\"242.025\">1</text></a><!--MD5=[e9be52314489bd878ff4c7144b63c9e1]\n",
       "link E5 to E3--><a href=\"psysml:39d7aa17-d9aa-4290-8253-e0b073366074\" target=\"_top\" title=\"psysml:39d7aa17-d9aa-4290-8253-e0b073366074\" xlink:actuate=\"onRequest\" xlink:href=\"psysml:39d7aa17-d9aa-4290-8253-e0b073366074\" xlink:show=\"new\" xlink:title=\"psysml:39d7aa17-d9aa-4290-8253-e0b073366074\" xlink:type=\"simple\"><path d=\"M192.03,87.06 C198.53,100.06 206.93,116.86 214.43,131.86 \" fill=\"none\" id=\"E5-&gt;E3\" style=\"stroke: #A80036; stroke-width: 1.0;\"/><polygon fill=\"#FFFFFF\" points=\"223.39,149.77,208.6231,135.9158,221.1411,129.6468,223.39,149.77\" style=\"stroke: #A80036; stroke-width: 1.0;\"/><ellipse cx=\"207.859\" cy=\"129.9236\" fill=\"#A80036\" rx=\"2\" ry=\"2\" style=\"stroke: #A80036; stroke-width: 1.0;\"/><ellipse cx=\"216.8004\" cy=\"125.4458\" fill=\"#A80036\" rx=\"2\" ry=\"2\" style=\"stroke: #A80036; stroke-width: 1.0;\"/></a><!--MD5=[85d356282659285ab4b2cfe2f634dd2b]\n",
       "reverse link E5 to E6--><a href=\"psysml:0602bff9-807d-4c23-b932-30af011e0640\" target=\"_top\" title=\"psysml:0602bff9-807d-4c23-b932-30af011e0640\" xlink:actuate=\"onRequest\" xlink:href=\"psysml:0602bff9-807d-4c23-b932-30af011e0640\" xlink:show=\"new\" xlink:title=\"psysml:0602bff9-807d-4c23-b932-30af011e0640\" xlink:type=\"simple\"><path d=\"M167.4,99.49 C161.23,115.15 154.12,133.19 148.68,146.98 \" fill=\"none\" id=\"E5&lt;-E6\" style=\"stroke: #A80036; stroke-width: 1.0;\"/><polygon fill=\"#FFFFFF\" points=\"172.3,87.06,166.3778,91.1743,167.8979,98.2234,173.8201,94.1091,172.3,87.06\" style=\"stroke: #A80036; stroke-width: 1.0;\"/><text fill=\"#000000\" font-family=\"sans-serif\" font-size=\"13\" lengthAdjust=\"spacingAndGlyphs\" textLength=\"8\" x=\"141.9378\" y=\"135.8709\">1</text></a><!--MD5=[f667431f98296947986a1a7595a31603]\n",
       "link E6 to E4--><a href=\"psysml:5ed5dee3-04af-484b-a73a-bf3d62fb0484\" target=\"_top\" title=\"psysml:5ed5dee3-04af-484b-a73a-bf3d62fb0484\" xlink:actuate=\"onRequest\" xlink:href=\"psysml:5ed5dee3-04af-484b-a73a-bf3d62fb0484\" xlink:show=\"new\" xlink:title=\"psysml:5ed5dee3-04af-484b-a73a-bf3d62fb0484\" xlink:type=\"simple\"><path d=\"M159.72,193.06 C171.31,206.02 186.27,222.74 199.65,237.7 \" fill=\"none\" id=\"E6-&gt;E4\" style=\"stroke: #A80036; stroke-width: 1.0;\"/><polygon fill=\"#FFFFFF\" points=\"213.31,252.98,195.4253,243.486,205.8597,234.152,213.31,252.98\" style=\"stroke: #A80036; stroke-width: 1.0;\"/><line style=\"stroke: #A80036; stroke-width: 2.0;\" x1=\"192.8918\" x2=\"203.3262\" y1=\"240.6538\" y2=\"231.3198\"/></a><!--MD5=[14ccda38c055a5c0da953d572bc50960]\n",
       "link E7 to E3--><a href=\"psysml:6afc3f94-967f-4ac8-9c89-c7c9ad6aa496\" target=\"_top\" title=\"psysml:6afc3f94-967f-4ac8-9c89-c7c9ad6aa496\" xlink:actuate=\"onRequest\" xlink:href=\"psysml:6afc3f94-967f-4ac8-9c89-c7c9ad6aa496\" xlink:show=\"new\" xlink:title=\"psysml:6afc3f94-967f-4ac8-9c89-c7c9ad6aa496\" xlink:type=\"simple\"><path d=\"M104.57,87.06 C129.93,103.24 164.49,125.29 191.37,142.44 \" fill=\"none\" id=\"E7-&gt;E3\" style=\"stroke: #A80036; stroke-width: 1.0;\"/><polygon fill=\"#FFFFFF\" points=\"208.54,153.39,188.7577,149.0701,196.2889,137.2683,208.54,153.39\" style=\"stroke: #A80036; stroke-width: 1.0;\"/><ellipse cx=\"185.0286\" cy=\"144.3178\" fill=\"#A80036\" rx=\"2\" ry=\"2\" style=\"stroke: #A80036; stroke-width: 1.0;\"/><ellipse cx=\"190.408\" cy=\"135.888\" fill=\"#A80036\" rx=\"2\" ry=\"2\" style=\"stroke: #A80036; stroke-width: 1.0;\"/></a><!--MD5=[dc164f5e8a733ab456ef1add180e9e34]\n",
       "reverse link E7 to E8--><a href=\"psysml:9a63abc5-83ea-4d36-8ec2-a9e5009e1a31\" target=\"_top\" title=\"psysml:9a63abc5-83ea-4d36-8ec2-a9e5009e1a31\" xlink:actuate=\"onRequest\" xlink:href=\"psysml:9a63abc5-83ea-4d36-8ec2-a9e5009e1a31\" xlink:show=\"new\" xlink:title=\"psysml:9a63abc5-83ea-4d36-8ec2-a9e5009e1a31\" xlink:type=\"simple\"><path d=\"M65.05,100.09 C66.65,143.61 77.25,216.5 87.75,252.9 \" fill=\"none\" id=\"E7&lt;-E8\" style=\"stroke: #A80036; stroke-width: 1.0;\"/><polygon fill=\"#FFFFFF\" points=\"64.85,87.08,60.9362,93.1366,65.0216,99.0788,68.9354,93.0222,64.85,87.08\" style=\"stroke: #A80036; stroke-width: 1.0;\"/><text fill=\"#000000\" font-family=\"sans-serif\" font-size=\"13\" lengthAdjust=\"spacingAndGlyphs\" textLength=\"8\" x=\"75.6516\" y=\"241.7694\">1</text></a><!--MD5=[dc164f5e8a733ab456ef1add180e9e34]\n",
       "reverse link E7 to E8--><a href=\"psysml:af85dbb9-a19a-4dbd-bd41-700a2e1e88fd\" target=\"_top\" title=\"psysml:af85dbb9-a19a-4dbd-bd41-700a2e1e88fd\" xlink:actuate=\"onRequest\" xlink:href=\"psysml:af85dbb9-a19a-4dbd-bd41-700a2e1e88fd\" xlink:show=\"new\" xlink:title=\"psysml:af85dbb9-a19a-4dbd-bd41-700a2e1e88fd\" xlink:type=\"simple\"><path d=\"M85.64,101.8 C96.15,145.5 105.39,216.97 104.63,252.9 \" fill=\"none\" id=\"E7&lt;-E8-1\" style=\"stroke: #A80036; stroke-width: 1.0; stroke-dasharray: 7.0,7.0;\"/><ellipse cx=\"83.7794\" cy=\"94.813\" fill=\"#FFFFFF\" rx=\"8\" ry=\"8\" style=\"stroke: #A80036; stroke-width: 1.0;\"/><line style=\"stroke: #A80036; stroke-width: 1.0;\" x1=\"85.8289\" x2=\"81.73\" y1=\"102.5461\" y2=\"87.08\"/><line style=\"stroke: #A80036; stroke-width: 1.0;\" x1=\"76.0464\" x2=\"91.5125\" y1=\"96.8625\" y2=\"92.7636\"/><text fill=\"#000000\" font-family=\"sans-serif\" font-size=\"13\" lengthAdjust=\"spacingAndGlyphs\" textLength=\"8\" x=\"97.0681\" y=\"241.7694\">1</text></a><!--MD5=[0a839d0f80c2d72d4b9b307f046d0de8]\n",
       "link E6 to E8--><a href=\"psysml:ee24455c-c65b-41eb-8958-74c54e28cd84\" target=\"_top\" title=\"psysml:ee24455c-c65b-41eb-8958-74c54e28cd84\" xlink:actuate=\"onRequest\" xlink:href=\"psysml:ee24455c-c65b-41eb-8958-74c54e28cd84\" xlink:show=\"new\" xlink:title=\"psysml:ee24455c-c65b-41eb-8958-74c54e28cd84\" xlink:type=\"simple\"><path d=\"M120.66,193.06 C110.89,210.7 101.19,235.34 97.04,252.98 \" fill=\"none\" id=\"E6-E8\" style=\"stroke: #A80036; stroke-width: 3.0;\"/><text fill=\"#000000\" font-family=\"sans-serif\" font-size=\"13\" lengthAdjust=\"spacingAndGlyphs\" textLength=\"7\" x=\"88.5726\" y=\"241.8709\">*</text></a><!--MD5=[0a839d0f80c2d72d4b9b307f046d0de8]\n",
       "link E6 to E8--><a href=\"psysml:1d0a5b52-6a4c-4cbe-b03e-99be5638e392\" target=\"_top\" title=\"psysml:1d0a5b52-6a4c-4cbe-b03e-99be5638e392\" xlink:actuate=\"onRequest\" xlink:href=\"psysml:1d0a5b52-6a4c-4cbe-b03e-99be5638e392\" xlink:show=\"new\" xlink:title=\"psysml:1d0a5b52-6a4c-4cbe-b03e-99be5638e392\" xlink:type=\"simple\"><path d=\"M142.58,193.06 C138.59,210.7 128.88,235.34 118.95,252.98 \" fill=\"none\" id=\"E6-E8-1\" style=\"stroke: #A80036; stroke-width: 3.0;\"/><text fill=\"#000000\" font-family=\"sans-serif\" font-size=\"13\" lengthAdjust=\"spacingAndGlyphs\" textLength=\"7\" x=\"116.3709\" y=\"241.8709\">*</text></a><!--MD5=[b8416d5cdcc074f666558304685e7380]\n",
       "@startuml\r\n",
       " \r\n",
       "package \"AliasTest\" as E1  [[psysml:dccc75fb-db16-4804-85cb-688c27ce5ff3 ]]  {\r\n",
       "comp usage \"q :> Quantities::tensorQuantities\" as E2 << <<(U,orange) attribute>> [[psysml:ce72622b-28d6-4d09-bee8-b5dd20a40a54 ]] {\r\n",
       "}\r\n",
       "comp def \"P1\" as E3 << << (B,green) >> [[psysml:61eb2658-da6c-419b-a94e-058b00326cab ]] {\r\n",
       "}\r\n",
       "comp usage \"porig1\" as E4 << << (P,blue) port>> [[psysml:9ae2babd-6d67-4765-bfe5-8d775f3bcf42 ]] {\r\n",
       "}\r\n",
       "comp usage \"p1: P1 \" as E5 << << (P,limegreen) part>> [[psysml:11b2a6df-aab5-4dc5-a120-8a7b1f52b05c ]] {\r\n",
       "}\r\n",
       "comp usage \"po1\" as E6 << << (P,blue) port>> [[psysml:a231442e-2600-41cf-892c-df88027eb505 ]] {\r\n",
       "}\r\n",
       "comp usage \"p2: P1 \" as E7 << << (P,limegreen) part>> [[psysml:2c2598c5-3ef5-4f1d-ae32-f3d429fa4c2f ]] {\r\n",
       "}\r\n",
       "comp usage \"pdest\" as E8 << << (P,blue) port>> [[psysml:10820d16-405d-40a2-9551-06e34552661e ]] {\r\n",
       "}\r\n",
       "}\r\n",
       "E3 o- - \"1\"E4 [[psysml:8e3ccc77-0a8c-4c0b-a5d7-07a6acaf5014 ]] \r\n",
       "E3 +.. \"1\"E4 [[psysml:408c218d-2c50-4f10-8495-de57c6cccdaf ]] \r\n",
       "E5 - -:|> E3 [[psysml:39d7aa17-d9aa-4290-8253-e0b073366074 ]] \r\n",
       "E5 o- - \"1\"E6 [[psysml:0602bff9-807d-4c23-b932-30af011e0640 ]] \r\n",
       "E6 - -||> E4 [[psysml:5ed5dee3-04af-484b-a73a-bf3d62fb0484 ]] \r\n",
       "E7 - -:|> E3 [[psysml:6afc3f94-967f-4ac8-9c89-c7c9ad6aa496 ]] \r\n",
       "E7 o- - \"1\"E8 [[psysml:9a63abc5-83ea-4d36-8ec2-a9e5009e1a31 ]] \r\n",
       "E7 +.. \"1\"E8 [[psysml:af85dbb9-a19a-4dbd-bd41-700a2e1e88fd ]] \r\n",
       "E6 -[thickness=3]- \"*\"E8 [[psysml:ee24455c-c65b-41eb-8958-74c54e28cd84 ]] \r\n",
       "E6 -[thickness=3]- \"*\"E8 [[psysml:1d0a5b52-6a4c-4cbe-b03e-99be5638e392 ]] \r\n",
       "@enduml\r\n",
       "\n",
       "PlantUML version 1.2020.13(Sat Jun 13 12:26:38 UTC 2020)\n",
       "(EPL source distribution)\n",
       "Java Runtime: OpenJDK Runtime Environment\n",
       "JVM: OpenJDK 64-Bit Server VM\n",
       "Default Encoding: UTF-8\n",
       "Language: en\n",
       "Country: null\n",
       "--></g></svg>"
      ]
     },
     "execution_count": 30,
     "metadata": {},
     "output_type": "execute_result"
    }
   ],
   "source": [
    "%viz --style=\"PLANTUML\" --view=\"Default\" \"AliasTest\""
   ]
  },
  {
   "cell_type": "code",
   "execution_count": 31,
   "id": "ab3c8718",
   "metadata": {
    "execution": {
     "iopub.execute_input": "2021-10-25T08:23:54.167267Z",
     "iopub.status.busy": "2021-10-25T08:23:54.166844Z",
     "iopub.status.idle": "2021-10-25T08:23:54.207792Z",
     "shell.execute_reply": "2021-10-25T08:23:54.207416Z"
    }
   },
   "outputs": [
    {
     "data": {
      "image/svg+xml": [
       "<?xml version=\"1.0\" encoding=\"UTF-8\" standalone=\"no\"?><svg xmlns=\"http://www.w3.org/2000/svg\" xmlns:xlink=\"http://www.w3.org/1999/xlink\" contentScriptType=\"application/ecmascript\" contentStyleType=\"text/css\" height=\"327px\" preserveAspectRatio=\"none\" style=\"width:531px;height:327px;\" version=\"1.1\" viewBox=\"0 0 531 327\" width=\"531px\" zoomAndPan=\"magnify\"><defs><filter height=\"300%\" id=\"f1vi7lg2k6e2e8\" width=\"300%\" x=\"-1\" y=\"-1\"><feGaussianBlur result=\"blurOut\" stdDeviation=\"2.0\"/><feColorMatrix in=\"blurOut\" result=\"blurOut2\" type=\"matrix\" values=\"0 0 0 0 0 0 0 0 0 0 0 0 0 0 0 0 0 0 .4 0\"/><feOffset dx=\"4.0\" dy=\"4.0\" in=\"blurOut2\" result=\"blurOut3\"/><feBlend in=\"SourceGraphic\" in2=\"blurOut3\" mode=\"normal\"/></filter></defs><g><!--MD5=[fbc87193dbaf4d95561dea2c320d4a47]\n",
       "cluster E1--><a href=\"psysml:dccc75fb-db16-4804-85cb-688c27ce5ff3\" target=\"_top\" title=\"psysml:dccc75fb-db16-4804-85cb-688c27ce5ff3\" xlink:actuate=\"onRequest\" xlink:href=\"psysml:dccc75fb-db16-4804-85cb-688c27ce5ff3\" xlink:show=\"new\" xlink:title=\"psysml:dccc75fb-db16-4804-85cb-688c27ce5ff3\" xlink:type=\"simple\"><polygon fill=\"#FFFFFF\" filter=\"url(#f1vi7lg2k6e2e8)\" points=\"16,6,84,6,91,28.2969,509,28.2969,509,315,16,315,16,6\" style=\"stroke: #000000; stroke-width: 1.5;\"/><line style=\"stroke: #000000; stroke-width: 1.5;\" x1=\"16\" x2=\"91\" y1=\"28.2969\" y2=\"28.2969\"/><text fill=\"#000000\" font-family=\"sans-serif\" font-size=\"14\" font-weight=\"bold\" lengthAdjust=\"spacingAndGlyphs\" textLength=\"62\" x=\"20\" y=\"20.9951\">AliasTest</text></a><!--MD5=[b4997ac47864f28c2f74865a473b2911]\n",
       "class E2--><a href=\"psysml:ce72622b-28d6-4d09-bee8-b5dd20a40a54\" target=\"_top\" title=\"psysml:ce72622b-28d6-4d09-bee8-b5dd20a40a54\" xlink:actuate=\"onRequest\" xlink:href=\"psysml:ce72622b-28d6-4d09-bee8-b5dd20a40a54\" xlink:show=\"new\" xlink:title=\"psysml:ce72622b-28d6-4d09-bee8-b5dd20a40a54\" xlink:type=\"simple\"><rect fill=\"#FEFECE\" filter=\"url(#f1vi7lg2k6e2e8)\" height=\"45.9375\" id=\"E2\" rx=\"10\" ry=\"10\" style=\"stroke: #A80036; stroke-width: 1.5;\" width=\"239\" x=\"254.5\" y=\"41\"/><ellipse cx=\"269.5\" cy=\"59.9688\" fill=\"#FFA500\" rx=\"11\" ry=\"11\" style=\"stroke: #A80036; stroke-width: 1.0;\"/><path d=\"M269.25,65.4375 Q267.5,65.4375 266.5469,64.4063 Q265.6094,63.3594 265.6094,61.5156 L265.6094,54.625 L267.6719,54.625 L267.6719,54.7813 Q267.5781,54.875 267.5469,55.0156 Q267.5313,55.1406 267.5313,55.4063 L267.5313,61.5313 Q267.5313,62.625 267.9063,63.25 Q268.2813,63.875 269.2656,63.875 Q270.25,63.875 270.6406,63.25 Q271.0313,62.625 271.0313,61.4844 L271.0313,54.625 L272.9063,54.625 L272.9063,61.4688 Q272.9063,63.5 271.875,64.4688 Q270.8594,65.4375 269.25,65.4375 Z \"/><text fill=\"#000000\" font-family=\"sans-serif\" font-size=\"12\" font-style=\"italic\" lengthAdjust=\"spacingAndGlyphs\" textLength=\"69\" x=\"352.5\" y=\"57.1387\">«attribute»</text><text fill=\"#000000\" font-family=\"sans-serif\" font-size=\"12\" lengthAdjust=\"spacingAndGlyphs\" textLength=\"207\" x=\"283.5\" y=\"71.1074\">q :&gt; Quantities::tensorQuantities</text><line style=\"stroke: #A80036; stroke-width: 1.5;\" x1=\"255.5\" x2=\"492.5\" y1=\"78.9375\" y2=\"78.9375\"/></a><!--MD5=[09b614a08d8cba4a07c9adeb5e0fee81]\n",
       "class E3--><a href=\"psysml:61eb2658-da6c-419b-a94e-058b00326cab\" target=\"_top\" title=\"psysml:61eb2658-da6c-419b-a94e-058b00326cab\" xlink:actuate=\"onRequest\" xlink:href=\"psysml:61eb2658-da6c-419b-a94e-058b00326cab\" xlink:show=\"new\" xlink:title=\"psysml:61eb2658-da6c-419b-a94e-058b00326cab\" xlink:type=\"simple\"><rect fill=\"#FEFECE\" filter=\"url(#f1vi7lg2k6e2e8)\" height=\"40\" id=\"E3\" style=\"stroke: #A80036; stroke-width: 1.5;\" width=\"48\" x=\"209\" y=\"150\"/><ellipse cx=\"224\" cy=\"166\" fill=\"#008000\" rx=\"11\" ry=\"11\" style=\"stroke: #A80036; stroke-width: 1.0;\"/><path d=\"M220.875,171 L220.875,160.4063 L224.1094,160.4063 Q226.0156,160.4063 226.9219,161.1563 Q227.8438,161.9063 227.8438,163.0781 Q227.8438,163.7656 227.4531,164.4219 Q227.0781,165.0781 226.3594,165.375 Q227.2188,165.75 227.7344,166.4375 Q228.25,167.125 228.25,167.9375 Q228.25,169.3125 227.2188,170.1563 Q226.2031,171 224.0938,171 L220.875,171 Z M222.7969,164.6406 L223.9531,164.6406 Q225.0781,164.6406 225.4844,164.2656 Q225.9063,163.875 225.9063,163.25 Q225.9063,162.6719 225.4844,162.3125 Q225.0625,161.9531 224.125,161.9531 L222.7969,161.9531 L222.7969,164.6406 Z M222.7969,169.4219 L224.2969,169.4219 Q225.2031,169.4219 225.7344,169.0313 Q226.2656,168.6406 226.2656,167.8906 Q226.2656,167.125 225.7656,166.6563 Q225.2656,166.1719 224,166.1719 L222.7969,166.1719 L222.7969,169.4219 Z \"/><text fill=\"#000000\" font-family=\"sans-serif\" font-size=\"12\" lengthAdjust=\"spacingAndGlyphs\" textLength=\"16\" x=\"238\" y=\"170.1543\">P1</text><line style=\"stroke: #A80036; stroke-width: 1.5;\" x1=\"210\" x2=\"256\" y1=\"182\" y2=\"182\"/></a><!--MD5=[ebbe1d658d1005bcc118a6aa81145e00]\n",
       "class E4--><a href=\"psysml:9ae2babd-6d67-4765-bfe5-8d775f3bcf42\" target=\"_top\" title=\"psysml:9ae2babd-6d67-4765-bfe5-8d775f3bcf42\" xlink:actuate=\"onRequest\" xlink:href=\"psysml:9ae2babd-6d67-4765-bfe5-8d775f3bcf42\" xlink:show=\"new\" xlink:title=\"psysml:9ae2babd-6d67-4765-bfe5-8d775f3bcf42\" xlink:type=\"simple\"><rect fill=\"#FEFECE\" filter=\"url(#f1vi7lg2k6e2e8)\" height=\"45.9375\" id=\"E4\" rx=\"10\" ry=\"10\" style=\"stroke: #A80036; stroke-width: 1.5;\" width=\"72\" x=\"197\" y=\"253\"/><ellipse cx=\"212\" cy=\"271.9688\" fill=\"#0000FF\" rx=\"11\" ry=\"11\" style=\"stroke: #A80036; stroke-width: 1.0;\"/><path d=\"M208.8125,276.9688 L208.8125,266.375 L212.4219,266.375 Q213.6406,266.375 214.4375,266.8125 Q215.2344,267.2344 215.6094,267.9375 Q216,268.6406 216,269.4844 Q216,270.3281 215.625,271.0156 Q215.2656,271.7031 214.4688,272.125 Q213.6875,272.5313 212.5,272.5313 L210.7656,272.5313 L210.7656,276.9688 L208.8125,276.9688 Z M210.7656,270.9375 L212.375,270.9375 Q213.1875,270.9375 213.6094,270.5313 Q214.0313,270.125 214.0313,269.4844 Q214.0313,268.8594 213.6094,268.4531 Q213.1875,268.0469 212.3906,268.0469 L210.7656,268.0469 L210.7656,270.9375 Z \"/><text fill=\"#000000\" font-family=\"sans-serif\" font-size=\"12\" font-style=\"italic\" lengthAdjust=\"spacingAndGlyphs\" textLength=\"40\" x=\"226\" y=\"269.1387\">«port»</text><text fill=\"#000000\" font-family=\"sans-serif\" font-size=\"12\" lengthAdjust=\"spacingAndGlyphs\" textLength=\"40\" x=\"226\" y=\"283.1074\">porig1</text><line style=\"stroke: #A80036; stroke-width: 1.5;\" x1=\"198\" x2=\"268\" y1=\"290.9375\" y2=\"290.9375\"/></a><!--MD5=[270fce915f116d4de14055a7c1d9a0f3]\n",
       "class E5--><a href=\"psysml:11b2a6df-aab5-4dc5-a120-8a7b1f52b05c\" target=\"_top\" title=\"psysml:11b2a6df-aab5-4dc5-a120-8a7b1f52b05c\" xlink:actuate=\"onRequest\" xlink:href=\"psysml:11b2a6df-aab5-4dc5-a120-8a7b1f52b05c\" xlink:show=\"new\" xlink:title=\"psysml:11b2a6df-aab5-4dc5-a120-8a7b1f52b05c\" xlink:type=\"simple\"><rect fill=\"#FEFECE\" filter=\"url(#f1vi7lg2k6e2e8)\" height=\"45.9375\" id=\"E5\" rx=\"10\" ry=\"10\" style=\"stroke: #A80036; stroke-width: 1.5;\" width=\"76\" x=\"143\" y=\"41\"/><ellipse cx=\"158\" cy=\"59.9688\" fill=\"#32CD32\" rx=\"11\" ry=\"11\" style=\"stroke: #A80036; stroke-width: 1.0;\"/><path d=\"M154.8125,64.9688 L154.8125,54.375 L158.4219,54.375 Q159.6406,54.375 160.4375,54.8125 Q161.2344,55.2344 161.6094,55.9375 Q162,56.6406 162,57.4844 Q162,58.3281 161.625,59.0156 Q161.2656,59.7031 160.4688,60.125 Q159.6875,60.5313 158.5,60.5313 L156.7656,60.5313 L156.7656,64.9688 L154.8125,64.9688 Z M156.7656,58.9375 L158.375,58.9375 Q159.1875,58.9375 159.6094,58.5313 Q160.0313,58.125 160.0313,57.4844 Q160.0313,56.8594 159.6094,56.4531 Q159.1875,56.0469 158.3906,56.0469 L156.7656,56.0469 L156.7656,58.9375 Z \"/><text fill=\"#000000\" font-family=\"sans-serif\" font-size=\"12\" font-style=\"italic\" lengthAdjust=\"spacingAndGlyphs\" textLength=\"40\" x=\"174\" y=\"57.1387\">«part»</text><text fill=\"#000000\" font-family=\"sans-serif\" font-size=\"12\" lengthAdjust=\"spacingAndGlyphs\" textLength=\"40\" x=\"172\" y=\"71.1074\">p1: P1</text><line style=\"stroke: #A80036; stroke-width: 1.5;\" x1=\"144\" x2=\"218\" y1=\"78.9375\" y2=\"78.9375\"/></a><!--MD5=[60a26617385b1d2d0262a64233df1f8d]\n",
       "class E6--><a href=\"psysml:a231442e-2600-41cf-892c-df88027eb505\" target=\"_top\" title=\"psysml:a231442e-2600-41cf-892c-df88027eb505\" xlink:actuate=\"onRequest\" xlink:href=\"psysml:a231442e-2600-41cf-892c-df88027eb505\" xlink:show=\"new\" xlink:title=\"psysml:a231442e-2600-41cf-892c-df88027eb505\" xlink:type=\"simple\"><rect fill=\"#FEFECE\" filter=\"url(#f1vi7lg2k6e2e8)\" height=\"45.9375\" id=\"E6\" rx=\"10\" ry=\"10\" style=\"stroke: #A80036; stroke-width: 1.5;\" width=\"68\" x=\"106\" y=\"147\"/><ellipse cx=\"121\" cy=\"165.9688\" fill=\"#0000FF\" rx=\"11\" ry=\"11\" style=\"stroke: #A80036; stroke-width: 1.0;\"/><path d=\"M117.8125,170.9688 L117.8125,160.375 L121.4219,160.375 Q122.6406,160.375 123.4375,160.8125 Q124.2344,161.2344 124.6094,161.9375 Q125,162.6406 125,163.4844 Q125,164.3281 124.625,165.0156 Q124.2656,165.7031 123.4688,166.125 Q122.6875,166.5313 121.5,166.5313 L119.7656,166.5313 L119.7656,170.9688 L117.8125,170.9688 Z M119.7656,164.9375 L121.375,164.9375 Q122.1875,164.9375 122.6094,164.5313 Q123.0313,164.125 123.0313,163.4844 Q123.0313,162.8594 122.6094,162.4531 Q122.1875,162.0469 121.3906,162.0469 L119.7656,162.0469 L119.7656,164.9375 Z \"/><text fill=\"#000000\" font-family=\"sans-serif\" font-size=\"12\" font-style=\"italic\" lengthAdjust=\"spacingAndGlyphs\" textLength=\"40\" x=\"133\" y=\"163.1387\">«port»</text><text fill=\"#000000\" font-family=\"sans-serif\" font-size=\"12\" lengthAdjust=\"spacingAndGlyphs\" textLength=\"24\" x=\"141\" y=\"177.1074\">po1</text><line style=\"stroke: #A80036; stroke-width: 1.5;\" x1=\"107\" x2=\"173\" y1=\"184.9375\" y2=\"184.9375\"/></a><!--MD5=[2156ba9850f5573cc1fc38a6a4b2f02b]\n",
       "class E7--><a href=\"psysml:2c2598c5-3ef5-4f1d-ae32-f3d429fa4c2f\" target=\"_top\" title=\"psysml:2c2598c5-3ef5-4f1d-ae32-f3d429fa4c2f\" xlink:actuate=\"onRequest\" xlink:href=\"psysml:2c2598c5-3ef5-4f1d-ae32-f3d429fa4c2f\" xlink:show=\"new\" xlink:title=\"psysml:2c2598c5-3ef5-4f1d-ae32-f3d429fa4c2f\" xlink:type=\"simple\"><rect fill=\"#FEFECE\" filter=\"url(#f1vi7lg2k6e2e8)\" height=\"45.9375\" id=\"E7\" rx=\"10\" ry=\"10\" style=\"stroke: #A80036; stroke-width: 1.5;\" width=\"76\" x=\"32\" y=\"41\"/><ellipse cx=\"47\" cy=\"59.9688\" fill=\"#32CD32\" rx=\"11\" ry=\"11\" style=\"stroke: #A80036; stroke-width: 1.0;\"/><path d=\"M43.8125,64.9688 L43.8125,54.375 L47.4219,54.375 Q48.6406,54.375 49.4375,54.8125 Q50.2344,55.2344 50.6094,55.9375 Q51,56.6406 51,57.4844 Q51,58.3281 50.625,59.0156 Q50.2656,59.7031 49.4688,60.125 Q48.6875,60.5313 47.5,60.5313 L45.7656,60.5313 L45.7656,64.9688 L43.8125,64.9688 Z M45.7656,58.9375 L47.375,58.9375 Q48.1875,58.9375 48.6094,58.5313 Q49.0313,58.125 49.0313,57.4844 Q49.0313,56.8594 48.6094,56.4531 Q48.1875,56.0469 47.3906,56.0469 L45.7656,56.0469 L45.7656,58.9375 Z \"/><text fill=\"#000000\" font-family=\"sans-serif\" font-size=\"12\" font-style=\"italic\" lengthAdjust=\"spacingAndGlyphs\" textLength=\"40\" x=\"63\" y=\"57.1387\">«part»</text><text fill=\"#000000\" font-family=\"sans-serif\" font-size=\"12\" lengthAdjust=\"spacingAndGlyphs\" textLength=\"40\" x=\"61\" y=\"71.1074\">p2: P1</text><line style=\"stroke: #A80036; stroke-width: 1.5;\" x1=\"33\" x2=\"107\" y1=\"78.9375\" y2=\"78.9375\"/></a><!--MD5=[b9389687b975829384b498ac4b7476b2]\n",
       "class E8--><a href=\"psysml:10820d16-405d-40a2-9551-06e34552661e\" target=\"_top\" title=\"psysml:10820d16-405d-40a2-9551-06e34552661e\" xlink:actuate=\"onRequest\" xlink:href=\"psysml:10820d16-405d-40a2-9551-06e34552661e\" xlink:show=\"new\" xlink:title=\"psysml:10820d16-405d-40a2-9551-06e34552661e\" xlink:type=\"simple\"><rect fill=\"#FEFECE\" filter=\"url(#f1vi7lg2k6e2e8)\" height=\"45.9375\" id=\"E8\" rx=\"10\" ry=\"10\" style=\"stroke: #A80036; stroke-width: 1.5;\" width=\"68\" x=\"65\" y=\"253\"/><ellipse cx=\"80\" cy=\"271.9688\" fill=\"#0000FF\" rx=\"11\" ry=\"11\" style=\"stroke: #A80036; stroke-width: 1.0;\"/><path d=\"M76.8125,276.9688 L76.8125,266.375 L80.4219,266.375 Q81.6406,266.375 82.4375,266.8125 Q83.2344,267.2344 83.6094,267.9375 Q84,268.6406 84,269.4844 Q84,270.3281 83.625,271.0156 Q83.2656,271.7031 82.4688,272.125 Q81.6875,272.5313 80.5,272.5313 L78.7656,272.5313 L78.7656,276.9688 L76.8125,276.9688 Z M78.7656,270.9375 L80.375,270.9375 Q81.1875,270.9375 81.6094,270.5313 Q82.0313,270.125 82.0313,269.4844 Q82.0313,268.8594 81.6094,268.4531 Q81.1875,268.0469 80.3906,268.0469 L78.7656,268.0469 L78.7656,270.9375 Z \"/><text fill=\"#000000\" font-family=\"sans-serif\" font-size=\"12\" font-style=\"italic\" lengthAdjust=\"spacingAndGlyphs\" textLength=\"40\" x=\"92\" y=\"269.1387\">«port»</text><text fill=\"#000000\" font-family=\"sans-serif\" font-size=\"12\" lengthAdjust=\"spacingAndGlyphs\" textLength=\"36\" x=\"94\" y=\"283.1074\">pdest</text><line style=\"stroke: #A80036; stroke-width: 1.5;\" x1=\"66\" x2=\"132\" y1=\"290.9375\" y2=\"290.9375\"/></a><!--MD5=[4672eba38e49728da53d11aeb285b987]\n",
       "reverse link E3 to E4--><a href=\"psysml:8e3ccc77-0a8c-4c0b-a5d7-07a6acaf5014\" target=\"_top\" title=\"psysml:8e3ccc77-0a8c-4c0b-a5d7-07a6acaf5014\" xlink:actuate=\"onRequest\" xlink:href=\"psysml:8e3ccc77-0a8c-4c0b-a5d7-07a6acaf5014\" xlink:show=\"new\" xlink:title=\"psysml:8e3ccc77-0a8c-4c0b-a5d7-07a6acaf5014\" xlink:type=\"simple\"><path d=\"M221.1,203.25 C219.65,219.33 220.05,238.37 222.33,252.8 \" fill=\"none\" id=\"E3&lt;-E4\" style=\"stroke: #A80036; stroke-width: 1.0;\"/><polygon fill=\"#FFFFFF\" points=\"222.87,190.08,218.1137,195.5001,221.2875,201.9752,226.0438,196.5551,222.87,190.08\" style=\"stroke: #A80036; stroke-width: 1.0;\"/><text fill=\"#000000\" font-family=\"sans-serif\" font-size=\"13\" lengthAdjust=\"spacingAndGlyphs\" textLength=\"8\" x=\"210.5708\" y=\"242.025\">1</text></a><!--MD5=[4672eba38e49728da53d11aeb285b987]\n",
       "reverse link E3 to E4--><a href=\"psysml:408c218d-2c50-4f10-8495-de57c6cccdaf\" target=\"_top\" title=\"psysml:408c218d-2c50-4f10-8495-de57c6cccdaf\" xlink:actuate=\"onRequest\" xlink:href=\"psysml:408c218d-2c50-4f10-8495-de57c6cccdaf\" xlink:show=\"new\" xlink:title=\"psysml:408c218d-2c50-4f10-8495-de57c6cccdaf\" xlink:type=\"simple\"><path d=\"M245.77,205.22 C247.1,220.87 246.61,238.96 244.3,252.8 \" fill=\"none\" id=\"E3&lt;-E4-1\" style=\"stroke: #A80036; stroke-width: 1.0; stroke-dasharray: 7.0,7.0;\"/><ellipse cx=\"244.7963\" cy=\"198.0086\" fill=\"#FFFFFF\" rx=\"8\" ry=\"8\" style=\"stroke: #A80036; stroke-width: 1.0;\"/><line style=\"stroke: #A80036; stroke-width: 1.0;\" x1=\"245.8626\" x2=\"243.73\" y1=\"205.9372\" y2=\"190.08\"/><line style=\"stroke: #A80036; stroke-width: 1.0;\" x1=\"236.8677\" x2=\"252.7249\" y1=\"199.0749\" y2=\"196.9423\"/><text fill=\"#000000\" font-family=\"sans-serif\" font-size=\"13\" lengthAdjust=\"spacingAndGlyphs\" textLength=\"8\" x=\"238.1706\" y=\"242.025\">1</text></a><!--MD5=[e9be52314489bd878ff4c7144b63c9e1]\n",
       "link E5 to E3--><a href=\"psysml:39d7aa17-d9aa-4290-8253-e0b073366074\" target=\"_top\" title=\"psysml:39d7aa17-d9aa-4290-8253-e0b073366074\" xlink:actuate=\"onRequest\" xlink:href=\"psysml:39d7aa17-d9aa-4290-8253-e0b073366074\" xlink:show=\"new\" xlink:title=\"psysml:39d7aa17-d9aa-4290-8253-e0b073366074\" xlink:type=\"simple\"><path d=\"M192.03,87.06 C198.53,100.06 206.93,116.86 214.43,131.86 \" fill=\"none\" id=\"E5-&gt;E3\" style=\"stroke: #A80036; stroke-width: 1.0;\"/><polygon fill=\"#FFFFFF\" points=\"223.39,149.77,208.6231,135.9158,221.1411,129.6468,223.39,149.77\" style=\"stroke: #A80036; stroke-width: 1.0;\"/><ellipse cx=\"207.859\" cy=\"129.9236\" fill=\"#A80036\" rx=\"2\" ry=\"2\" style=\"stroke: #A80036; stroke-width: 1.0;\"/><ellipse cx=\"216.8004\" cy=\"125.4458\" fill=\"#A80036\" rx=\"2\" ry=\"2\" style=\"stroke: #A80036; stroke-width: 1.0;\"/></a><!--MD5=[85d356282659285ab4b2cfe2f634dd2b]\n",
       "reverse link E5 to E6--><a href=\"psysml:0602bff9-807d-4c23-b932-30af011e0640\" target=\"_top\" title=\"psysml:0602bff9-807d-4c23-b932-30af011e0640\" xlink:actuate=\"onRequest\" xlink:href=\"psysml:0602bff9-807d-4c23-b932-30af011e0640\" xlink:show=\"new\" xlink:title=\"psysml:0602bff9-807d-4c23-b932-30af011e0640\" xlink:type=\"simple\"><path d=\"M167.4,99.49 C161.23,115.15 154.12,133.19 148.68,146.98 \" fill=\"none\" id=\"E5&lt;-E6\" style=\"stroke: #A80036; stroke-width: 1.0;\"/><polygon fill=\"#FFFFFF\" points=\"172.3,87.06,166.3778,91.1743,167.8979,98.2234,173.8201,94.1091,172.3,87.06\" style=\"stroke: #A80036; stroke-width: 1.0;\"/><text fill=\"#000000\" font-family=\"sans-serif\" font-size=\"13\" lengthAdjust=\"spacingAndGlyphs\" textLength=\"8\" x=\"141.9378\" y=\"135.8709\">1</text></a><!--MD5=[f667431f98296947986a1a7595a31603]\n",
       "link E6 to E4--><a href=\"psysml:5ed5dee3-04af-484b-a73a-bf3d62fb0484\" target=\"_top\" title=\"psysml:5ed5dee3-04af-484b-a73a-bf3d62fb0484\" xlink:actuate=\"onRequest\" xlink:href=\"psysml:5ed5dee3-04af-484b-a73a-bf3d62fb0484\" xlink:show=\"new\" xlink:title=\"psysml:5ed5dee3-04af-484b-a73a-bf3d62fb0484\" xlink:type=\"simple\"><path d=\"M159.72,193.06 C171.31,206.02 186.27,222.74 199.65,237.7 \" fill=\"none\" id=\"E6-&gt;E4\" style=\"stroke: #A80036; stroke-width: 1.0;\"/><polygon fill=\"#FFFFFF\" points=\"213.31,252.98,195.4253,243.486,205.8597,234.152,213.31,252.98\" style=\"stroke: #A80036; stroke-width: 1.0;\"/><line style=\"stroke: #A80036; stroke-width: 2.0;\" x1=\"192.8918\" x2=\"203.3262\" y1=\"240.6538\" y2=\"231.3198\"/></a><!--MD5=[14ccda38c055a5c0da953d572bc50960]\n",
       "link E7 to E3--><a href=\"psysml:6afc3f94-967f-4ac8-9c89-c7c9ad6aa496\" target=\"_top\" title=\"psysml:6afc3f94-967f-4ac8-9c89-c7c9ad6aa496\" xlink:actuate=\"onRequest\" xlink:href=\"psysml:6afc3f94-967f-4ac8-9c89-c7c9ad6aa496\" xlink:show=\"new\" xlink:title=\"psysml:6afc3f94-967f-4ac8-9c89-c7c9ad6aa496\" xlink:type=\"simple\"><path d=\"M104.57,87.06 C129.93,103.24 164.49,125.29 191.37,142.44 \" fill=\"none\" id=\"E7-&gt;E3\" style=\"stroke: #A80036; stroke-width: 1.0;\"/><polygon fill=\"#FFFFFF\" points=\"208.54,153.39,188.7577,149.0701,196.2889,137.2683,208.54,153.39\" style=\"stroke: #A80036; stroke-width: 1.0;\"/><ellipse cx=\"185.0286\" cy=\"144.3178\" fill=\"#A80036\" rx=\"2\" ry=\"2\" style=\"stroke: #A80036; stroke-width: 1.0;\"/><ellipse cx=\"190.408\" cy=\"135.888\" fill=\"#A80036\" rx=\"2\" ry=\"2\" style=\"stroke: #A80036; stroke-width: 1.0;\"/></a><!--MD5=[dc164f5e8a733ab456ef1add180e9e34]\n",
       "reverse link E7 to E8--><a href=\"psysml:9a63abc5-83ea-4d36-8ec2-a9e5009e1a31\" target=\"_top\" title=\"psysml:9a63abc5-83ea-4d36-8ec2-a9e5009e1a31\" xlink:actuate=\"onRequest\" xlink:href=\"psysml:9a63abc5-83ea-4d36-8ec2-a9e5009e1a31\" xlink:show=\"new\" xlink:title=\"psysml:9a63abc5-83ea-4d36-8ec2-a9e5009e1a31\" xlink:type=\"simple\"><path d=\"M65.05,100.09 C66.65,143.61 77.25,216.5 87.75,252.9 \" fill=\"none\" id=\"E7&lt;-E8\" style=\"stroke: #A80036; stroke-width: 1.0;\"/><polygon fill=\"#FFFFFF\" points=\"64.85,87.08,60.9362,93.1366,65.0216,99.0788,68.9354,93.0222,64.85,87.08\" style=\"stroke: #A80036; stroke-width: 1.0;\"/><text fill=\"#000000\" font-family=\"sans-serif\" font-size=\"13\" lengthAdjust=\"spacingAndGlyphs\" textLength=\"8\" x=\"75.6516\" y=\"241.7694\">1</text></a><!--MD5=[dc164f5e8a733ab456ef1add180e9e34]\n",
       "reverse link E7 to E8--><a href=\"psysml:af85dbb9-a19a-4dbd-bd41-700a2e1e88fd\" target=\"_top\" title=\"psysml:af85dbb9-a19a-4dbd-bd41-700a2e1e88fd\" xlink:actuate=\"onRequest\" xlink:href=\"psysml:af85dbb9-a19a-4dbd-bd41-700a2e1e88fd\" xlink:show=\"new\" xlink:title=\"psysml:af85dbb9-a19a-4dbd-bd41-700a2e1e88fd\" xlink:type=\"simple\"><path d=\"M85.64,101.8 C96.15,145.5 105.39,216.97 104.63,252.9 \" fill=\"none\" id=\"E7&lt;-E8-1\" style=\"stroke: #A80036; stroke-width: 1.0; stroke-dasharray: 7.0,7.0;\"/><ellipse cx=\"83.7794\" cy=\"94.813\" fill=\"#FFFFFF\" rx=\"8\" ry=\"8\" style=\"stroke: #A80036; stroke-width: 1.0;\"/><line style=\"stroke: #A80036; stroke-width: 1.0;\" x1=\"85.8289\" x2=\"81.73\" y1=\"102.5461\" y2=\"87.08\"/><line style=\"stroke: #A80036; stroke-width: 1.0;\" x1=\"76.0464\" x2=\"91.5125\" y1=\"96.8625\" y2=\"92.7636\"/><text fill=\"#000000\" font-family=\"sans-serif\" font-size=\"13\" lengthAdjust=\"spacingAndGlyphs\" textLength=\"8\" x=\"97.0681\" y=\"241.7694\">1</text></a><!--MD5=[0a839d0f80c2d72d4b9b307f046d0de8]\n",
       "link E6 to E8--><a href=\"psysml:ee24455c-c65b-41eb-8958-74c54e28cd84\" target=\"_top\" title=\"psysml:ee24455c-c65b-41eb-8958-74c54e28cd84\" xlink:actuate=\"onRequest\" xlink:href=\"psysml:ee24455c-c65b-41eb-8958-74c54e28cd84\" xlink:show=\"new\" xlink:title=\"psysml:ee24455c-c65b-41eb-8958-74c54e28cd84\" xlink:type=\"simple\"><path d=\"M120.66,193.06 C110.89,210.7 101.19,235.34 97.04,252.98 \" fill=\"none\" id=\"E6-E8\" style=\"stroke: #A80036; stroke-width: 3.0;\"/><text fill=\"#000000\" font-family=\"sans-serif\" font-size=\"13\" lengthAdjust=\"spacingAndGlyphs\" textLength=\"7\" x=\"88.5726\" y=\"241.8709\">*</text></a><!--MD5=[0a839d0f80c2d72d4b9b307f046d0de8]\n",
       "link E6 to E8--><a href=\"psysml:1d0a5b52-6a4c-4cbe-b03e-99be5638e392\" target=\"_top\" title=\"psysml:1d0a5b52-6a4c-4cbe-b03e-99be5638e392\" xlink:actuate=\"onRequest\" xlink:href=\"psysml:1d0a5b52-6a4c-4cbe-b03e-99be5638e392\" xlink:show=\"new\" xlink:title=\"psysml:1d0a5b52-6a4c-4cbe-b03e-99be5638e392\" xlink:type=\"simple\"><path d=\"M142.58,193.06 C138.59,210.7 128.88,235.34 118.95,252.98 \" fill=\"none\" id=\"E6-E8-1\" style=\"stroke: #A80036; stroke-width: 3.0;\"/><text fill=\"#000000\" font-family=\"sans-serif\" font-size=\"13\" lengthAdjust=\"spacingAndGlyphs\" textLength=\"7\" x=\"116.3709\" y=\"241.8709\">*</text></a><!--MD5=[b8416d5cdcc074f666558304685e7380]\n",
       "@startuml\r\n",
       " \r\n",
       "package \"AliasTest\" as E1  [[psysml:dccc75fb-db16-4804-85cb-688c27ce5ff3 ]]  {\r\n",
       "comp usage \"q :> Quantities::tensorQuantities\" as E2 << <<(U,orange) attribute>> [[psysml:ce72622b-28d6-4d09-bee8-b5dd20a40a54 ]] {\r\n",
       "}\r\n",
       "comp def \"P1\" as E3 << << (B,green) >> [[psysml:61eb2658-da6c-419b-a94e-058b00326cab ]] {\r\n",
       "}\r\n",
       "comp usage \"porig1\" as E4 << << (P,blue) port>> [[psysml:9ae2babd-6d67-4765-bfe5-8d775f3bcf42 ]] {\r\n",
       "}\r\n",
       "comp usage \"p1: P1 \" as E5 << << (P,limegreen) part>> [[psysml:11b2a6df-aab5-4dc5-a120-8a7b1f52b05c ]] {\r\n",
       "}\r\n",
       "comp usage \"po1\" as E6 << << (P,blue) port>> [[psysml:a231442e-2600-41cf-892c-df88027eb505 ]] {\r\n",
       "}\r\n",
       "comp usage \"p2: P1 \" as E7 << << (P,limegreen) part>> [[psysml:2c2598c5-3ef5-4f1d-ae32-f3d429fa4c2f ]] {\r\n",
       "}\r\n",
       "comp usage \"pdest\" as E8 << << (P,blue) port>> [[psysml:10820d16-405d-40a2-9551-06e34552661e ]] {\r\n",
       "}\r\n",
       "}\r\n",
       "E3 o- - \"1\"E4 [[psysml:8e3ccc77-0a8c-4c0b-a5d7-07a6acaf5014 ]] \r\n",
       "E3 +.. \"1\"E4 [[psysml:408c218d-2c50-4f10-8495-de57c6cccdaf ]] \r\n",
       "E5 - -:|> E3 [[psysml:39d7aa17-d9aa-4290-8253-e0b073366074 ]] \r\n",
       "E5 o- - \"1\"E6 [[psysml:0602bff9-807d-4c23-b932-30af011e0640 ]] \r\n",
       "E6 - -||> E4 [[psysml:5ed5dee3-04af-484b-a73a-bf3d62fb0484 ]] \r\n",
       "E7 - -:|> E3 [[psysml:6afc3f94-967f-4ac8-9c89-c7c9ad6aa496 ]] \r\n",
       "E7 o- - \"1\"E8 [[psysml:9a63abc5-83ea-4d36-8ec2-a9e5009e1a31 ]] \r\n",
       "E7 +.. \"1\"E8 [[psysml:af85dbb9-a19a-4dbd-bd41-700a2e1e88fd ]] \r\n",
       "E6 -[thickness=3]- \"*\"E8 [[psysml:ee24455c-c65b-41eb-8958-74c54e28cd84 ]] \r\n",
       "E6 -[thickness=3]- \"*\"E8 [[psysml:1d0a5b52-6a4c-4cbe-b03e-99be5638e392 ]] \r\n",
       "@enduml\r\n",
       "\n",
       "PlantUML version 1.2020.13(Sat Jun 13 12:26:38 UTC 2020)\n",
       "(EPL source distribution)\n",
       "Java Runtime: OpenJDK Runtime Environment\n",
       "JVM: OpenJDK 64-Bit Server VM\n",
       "Default Encoding: UTF-8\n",
       "Language: en\n",
       "Country: null\n",
       "--></g></svg>"
      ]
     },
     "execution_count": 31,
     "metadata": {},
     "output_type": "execute_result"
    }
   ],
   "source": [
    "%viz --style=\"PLANTUML\" --view=\"Tree\" \"AliasTest\""
   ]
  },
  {
   "cell_type": "code",
   "execution_count": 32,
   "id": "6334263b",
   "metadata": {
    "execution": {
     "iopub.execute_input": "2021-10-25T08:23:54.257024Z",
     "iopub.status.busy": "2021-10-25T08:23:54.256592Z",
     "iopub.status.idle": "2021-10-25T08:23:54.354843Z",
     "shell.execute_reply": "2021-10-25T08:23:54.353045Z"
    }
   },
   "outputs": [
    {
     "data": {
      "image/svg+xml": [
       "<?xml version=\"1.0\" encoding=\"UTF-8\" standalone=\"no\"?><svg xmlns=\"http://www.w3.org/2000/svg\" xmlns:xlink=\"http://www.w3.org/1999/xlink\" contentScriptType=\"application/ecmascript\" contentStyleType=\"text/css\" height=\"300px\" preserveAspectRatio=\"none\" style=\"width:603px;height:300px;background:#000000;\" version=\"1.1\" viewBox=\"0 0 603 300\" width=\"603px\" zoomAndPan=\"magnify\"><defs/><g><rect fill=\"#0D1724\" height=\"1\" style=\"stroke: #0D1724; stroke-width: 1.0;\" width=\"1\" x=\"0\" y=\"0\"/><rect fill=\"#FFFFFF\" height=\"202.8012\" style=\"stroke: #FFFFFF; stroke-width: 1.0;\" width=\"602\" x=\"0\" y=\"0\"/><text fill=\"#000000\" font-family=\"sans-serif\" font-size=\"12\" font-weight=\"bold\" lengthAdjust=\"spacingAndGlyphs\" textLength=\"139\" x=\"5\" y=\"16.1387\">Welcome to PlantUML!</text><text fill=\"#000000\" font-family=\"sans-serif\" font-size=\"12\" lengthAdjust=\"spacingAndGlyphs\" textLength=\"0\" x=\"9\" y=\"30.1074\"/><text fill=\"#000000\" font-family=\"sans-serif\" font-size=\"12\" lengthAdjust=\"spacingAndGlyphs\" textLength=\"293\" x=\"5\" y=\"44.0762\">If you use this software, you accept its license.</text><text fill=\"#000000\" font-family=\"sans-serif\" font-size=\"12\" lengthAdjust=\"spacingAndGlyphs\" textLength=\"107\" x=\"5\" y=\"58.0449\">(details by typing</text><text fill=\"#000000\" font-family=\"monospace\" font-size=\"12\" lengthAdjust=\"spacingAndGlyphs\" textLength=\"42\" x=\"116\" y=\"58.595\">license</text><text fill=\"#000000\" font-family=\"sans-serif\" font-size=\"12\" lengthAdjust=\"spacingAndGlyphs\" textLength=\"56\" x=\"162\" y=\"58.0449\">keyword)</text><text fill=\"#000000\" font-family=\"sans-serif\" font-size=\"12\" lengthAdjust=\"spacingAndGlyphs\" textLength=\"0\" x=\"9\" y=\"72.0137\"/><text fill=\"#000000\" font-family=\"sans-serif\" font-size=\"12\" lengthAdjust=\"spacingAndGlyphs\" textLength=\"283\" x=\"5\" y=\"85.9824\">You can start with a simple UML Diagram like:</text><text fill=\"#000000\" font-family=\"sans-serif\" font-size=\"12\" lengthAdjust=\"spacingAndGlyphs\" textLength=\"0\" x=\"9\" y=\"99.9512\"/><text fill=\"#000000\" font-family=\"monospace\" font-size=\"12\" lengthAdjust=\"spacingAndGlyphs\" textLength=\"102\" x=\"5\" y=\"113.0893\">Bob-&gt;Alice: Hello</text><text fill=\"#000000\" font-family=\"sans-serif\" font-size=\"12\" lengthAdjust=\"spacingAndGlyphs\" textLength=\"0\" x=\"9\" y=\"126.508\"/><text fill=\"#000000\" font-family=\"sans-serif\" font-size=\"12\" lengthAdjust=\"spacingAndGlyphs\" textLength=\"14\" x=\"5\" y=\"140.4768\">Or</text><text fill=\"#000000\" font-family=\"sans-serif\" font-size=\"12\" lengthAdjust=\"spacingAndGlyphs\" textLength=\"0\" x=\"9\" y=\"154.4455\"/><text fill=\"#000000\" font-family=\"monospace\" font-size=\"12\" lengthAdjust=\"spacingAndGlyphs\" textLength=\"78\" x=\"5\" y=\"167.5837\">class Example</text><text fill=\"#000000\" font-family=\"sans-serif\" font-size=\"12\" lengthAdjust=\"spacingAndGlyphs\" textLength=\"0\" x=\"9\" y=\"181.0023\"/><text fill=\"#000000\" font-family=\"sans-serif\" font-size=\"12\" lengthAdjust=\"spacingAndGlyphs\" textLength=\"349\" x=\"5\" y=\"194.9711\">You will find more information about PlantUML syntax on</text><text fill=\"#000000\" font-family=\"sans-serif\" font-size=\"12\" lengthAdjust=\"spacingAndGlyphs\" text-decoration=\"underline\" textLength=\"129\" x=\"358\" y=\"194.9711\">https://plantuml.com</text><image height=\"71\" width=\"80\" x=\"516\" xlink:href=\"data:image/png;base64,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\" y=\"6\"/><rect fill=\"#000000\" height=\"96.4844\" style=\"stroke: #000000; stroke-width: 1.0;\" width=\"602\" x=\"0\" y=\"202.8012\"/><rect fill=\"#33FF02\" height=\"21.2969\" style=\"stroke: #33FF02; stroke-width: 1.0;\" width=\"145\" x=\"5\" y=\"207.8012\"/><text fill=\"#000000\" font-family=\"sans-serif\" font-size=\"14\" font-weight=\"bold\" lengthAdjust=\"spacingAndGlyphs\" textLength=\"143\" x=\"6\" y=\"222.8012\">[From string (line 2) ]</text><text fill=\"#33FF02\" font-family=\"sans-serif\" font-size=\"14\" font-weight=\"bold\" lengthAdjust=\"spacingAndGlyphs\" textLength=\"0\" x=\"9\" y=\"243.0981\"/><text fill=\"#33FF02\" font-family=\"sans-serif\" font-size=\"14\" font-weight=\"bold\" lengthAdjust=\"spacingAndGlyphs\" textLength=\"70\" x=\"5\" y=\"259.3949\">@startuml</text><text fill=\"#33FF02\" font-family=\"sans-serif\" font-size=\"14\" font-weight=\"bold\" lengthAdjust=\"spacingAndGlyphs\" textLength=\"0\" x=\"9\" y=\"275.6918\"/><text fill=\"#FF0000\" font-family=\"sans-serif\" font-size=\"14\" font-weight=\"bold\" lengthAdjust=\"spacingAndGlyphs\" textLength=\"124\" x=\"9\" y=\"291.9887\">Empty description</text><!--MD5=[f59edd8218d337f74d0c332fc6737304]\n",
       "@startuml\r\n",
       " \r\n",
       "@enduml\r\n",
       "\n",
       "PlantUML version 1.2020.13(Sat Jun 13 12:26:38 UTC 2020)\n",
       "(EPL source distribution)\n",
       "Java Runtime: OpenJDK Runtime Environment\n",
       "JVM: OpenJDK 64-Bit Server VM\n",
       "Default Encoding: UTF-8\n",
       "Language: en\n",
       "Country: null\n",
       "--></g></svg>"
      ]
     },
     "execution_count": 32,
     "metadata": {},
     "output_type": "execute_result"
    }
   ],
   "source": [
    "%viz --style=\"PLANTUML\" --view=\"State\" \"AliasTest\""
   ]
  },
  {
   "cell_type": "code",
   "execution_count": 33,
   "id": "4a4049e1",
   "metadata": {
    "execution": {
     "iopub.execute_input": "2021-10-25T08:23:54.403842Z",
     "iopub.status.busy": "2021-10-25T08:23:54.403426Z",
     "iopub.status.idle": "2021-10-25T08:23:54.432850Z",
     "shell.execute_reply": "2021-10-25T08:23:54.431020Z"
    }
   },
   "outputs": [
    {
     "data": {
      "image/svg+xml": [
       "<?xml version=\"1.0\" encoding=\"UTF-8\" standalone=\"no\"?><svg xmlns=\"http://www.w3.org/2000/svg\" xmlns:xlink=\"http://www.w3.org/1999/xlink\" contentScriptType=\"application/ecmascript\" contentStyleType=\"text/css\" height=\"217px\" preserveAspectRatio=\"none\" style=\"width:595px;height:217px;\" version=\"1.1\" viewBox=\"0 0 595 217\" width=\"595px\" zoomAndPan=\"magnify\"><defs><filter height=\"300%\" id=\"f1hdo7c48ur5ba\" width=\"300%\" x=\"-1\" y=\"-1\"><feGaussianBlur result=\"blurOut\" stdDeviation=\"2.0\"/><feColorMatrix in=\"blurOut\" result=\"blurOut2\" type=\"matrix\" values=\"0 0 0 0 0 0 0 0 0 0 0 0 0 0 0 0 0 0 .4 0\"/><feOffset dx=\"4.0\" dy=\"4.0\" in=\"blurOut2\" result=\"blurOut3\"/><feBlend in=\"SourceGraphic\" in2=\"blurOut3\" mode=\"normal\"/></filter></defs><g><!--MD5=[fbc87193dbaf4d95561dea2c320d4a47]\n",
       "cluster E1--><a href=\"psysml:dccc75fb-db16-4804-85cb-688c27ce5ff3\" target=\"_top\" title=\"psysml:dccc75fb-db16-4804-85cb-688c27ce5ff3\" xlink:actuate=\"onRequest\" xlink:href=\"psysml:dccc75fb-db16-4804-85cb-688c27ce5ff3\" xlink:show=\"new\" xlink:title=\"psysml:dccc75fb-db16-4804-85cb-688c27ce5ff3\" xlink:type=\"simple\"><polygon fill=\"#FFFFFF\" filter=\"url(#f1hdo7c48ur5ba)\" points=\"16,6,84,6,91,28.2969,573,28.2969,573,205,16,205,16,6\" style=\"stroke: #000000; stroke-width: 1.5;\"/><line style=\"stroke: #000000; stroke-width: 1.5;\" x1=\"16\" x2=\"91\" y1=\"28.2969\" y2=\"28.2969\"/><text fill=\"#000000\" font-family=\"sans-serif\" font-size=\"14\" font-weight=\"bold\" lengthAdjust=\"spacingAndGlyphs\" textLength=\"62\" x=\"20\" y=\"20.9951\">AliasTest</text></a><!--MD5=[d5e69f78d87373223dbae638b30a9c99]\n",
       "cluster E3--><a href=\"psysml:61eb2658-da6c-419b-a94e-058b00326cab\" target=\"_top\" title=\"psysml:61eb2658-da6c-419b-a94e-058b00326cab\" xlink:actuate=\"onRequest\" xlink:href=\"psysml:61eb2658-da6c-419b-a94e-058b00326cab\" xlink:show=\"new\" xlink:title=\"psysml:61eb2658-da6c-419b-a94e-058b00326cab\" xlink:type=\"simple\"><rect fill=\"#FFFFFF\" filter=\"url(#f1hdo7c48ur5ba)\" height=\"74\" id=\"E3\" style=\"stroke: #A80036; stroke-width: 1.5;\" width=\"83\" x=\"478\" y=\"64\"/><rect fill=\"#FEFECE\" height=\"23.9688\" style=\"stroke: #A80036; stroke-width: 1.5;\" width=\"83\" x=\"478\" y=\"64\"/><text fill=\"#000000\" font-family=\"sans-serif\" font-size=\"12\" lengthAdjust=\"spacingAndGlyphs\" textLength=\"16\" x=\"511.5\" y=\"80.1387\">P1</text></a><!--MD5=[14e3b0961a2654348d326746436168a1]\n",
       "cluster E6--><a href=\"psysml:11b2a6df-aab5-4dc5-a120-8a7b1f52b05c\" target=\"_top\" title=\"psysml:11b2a6df-aab5-4dc5-a120-8a7b1f52b05c\" xlink:actuate=\"onRequest\" xlink:href=\"psysml:11b2a6df-aab5-4dc5-a120-8a7b1f52b05c\" xlink:show=\"new\" xlink:title=\"psysml:11b2a6df-aab5-4dc5-a120-8a7b1f52b05c\" xlink:type=\"simple\"><rect fill=\"#FFFFFF\" filter=\"url(#f1hdo7c48ur5ba)\" height=\"74\" id=\"E6\" rx=\"10\" ry=\"10\" style=\"stroke: #A80036; stroke-width: 1.5;\" width=\"98\" x=\"278\" y=\"64\"/><rect fill=\"#FEFECE\" height=\"23.9688\" rx=\"10\" ry=\"10\" style=\"stroke: #FEFECE; stroke-width: 1.5;\" width=\"98\" x=\"278\" y=\"64\"/><rect fill=\"#FEFECE\" height=\"10\" style=\"stroke: #FEFECE; stroke-width: 1.5;\" width=\"98\" x=\"278\" y=\"77.9688\"/><rect fill=\"none\" height=\"74\" id=\"E6\" rx=\"10\" ry=\"10\" style=\"stroke: #A80036; stroke-width: 1.5;\" width=\"98\" x=\"278\" y=\"64\"/><text fill=\"#000000\" font-family=\"sans-serif\" font-size=\"12\" lengthAdjust=\"spacingAndGlyphs\" textLength=\"40\" x=\"307\" y=\"80.1387\">p1: P1</text><line style=\"stroke: #A80036; stroke-width: 1.0;\" x1=\"278\" x2=\"376\" y1=\"87.9688\" y2=\"87.9688\"/></a><!--MD5=[55dfccfc6c49c2d10cd1bd2211a6c90c]\n",
       "cluster E8--><a href=\"psysml:2c2598c5-3ef5-4f1d-ae32-f3d429fa4c2f\" target=\"_top\" title=\"psysml:2c2598c5-3ef5-4f1d-ae32-f3d429fa4c2f\" xlink:actuate=\"onRequest\" xlink:href=\"psysml:2c2598c5-3ef5-4f1d-ae32-f3d429fa4c2f\" xlink:show=\"new\" xlink:title=\"psysml:2c2598c5-3ef5-4f1d-ae32-f3d429fa4c2f\" xlink:type=\"simple\"><rect fill=\"#FFFFFF\" filter=\"url(#f1hdo7c48ur5ba)\" height=\"76.5\" id=\"E8\" rx=\"10\" ry=\"10\" style=\"stroke: #A80036; stroke-width: 1.5;\" width=\"83\" x=\"379\" y=\"112.5\"/><rect fill=\"#FEFECE\" height=\"23.9688\" rx=\"10\" ry=\"10\" style=\"stroke: #FEFECE; stroke-width: 1.5;\" width=\"83\" x=\"379\" y=\"112.5\"/><rect fill=\"#FEFECE\" height=\"10\" style=\"stroke: #FEFECE; stroke-width: 1.5;\" width=\"83\" x=\"379\" y=\"126.4688\"/><rect fill=\"none\" height=\"76.5\" id=\"E8\" rx=\"10\" ry=\"10\" style=\"stroke: #A80036; stroke-width: 1.5;\" width=\"83\" x=\"379\" y=\"112.5\"/><text fill=\"#000000\" font-family=\"sans-serif\" font-size=\"12\" lengthAdjust=\"spacingAndGlyphs\" textLength=\"40\" x=\"400.5\" y=\"128.6387\">p2: P1</text><line style=\"stroke: #A80036; stroke-width: 1.0;\" x1=\"379\" x2=\"462\" y1=\"136.4688\" y2=\"136.4688\"/></a><!--MD5=[b4997ac47864f28c2f74865a473b2911]\n",
       "class E2--><a href=\"psysml:ce72622b-28d6-4d09-bee8-b5dd20a40a54\" target=\"_top\" title=\"psysml:ce72622b-28d6-4d09-bee8-b5dd20a40a54\" xlink:actuate=\"onRequest\" xlink:href=\"psysml:ce72622b-28d6-4d09-bee8-b5dd20a40a54\" xlink:show=\"new\" xlink:title=\"psysml:ce72622b-28d6-4d09-bee8-b5dd20a40a54\" xlink:type=\"simple\"><rect fill=\"#FEFECE\" filter=\"url(#f1hdo7c48ur5ba)\" height=\"45.9375\" id=\"E2\" rx=\"10\" ry=\"10\" style=\"stroke: #A80036; stroke-width: 1.5;\" width=\"239\" x=\"31.5\" y=\"41\"/><ellipse cx=\"46.5\" cy=\"59.9688\" fill=\"#FFA500\" rx=\"11\" ry=\"11\" style=\"stroke: #A80036; stroke-width: 1.0;\"/><path d=\"M46.25,65.4375 Q44.5,65.4375 43.5469,64.4063 Q42.6094,63.3594 42.6094,61.5156 L42.6094,54.625 L44.6719,54.625 L44.6719,54.7813 Q44.5781,54.875 44.5469,55.0156 Q44.5313,55.1406 44.5313,55.4063 L44.5313,61.5313 Q44.5313,62.625 44.9063,63.25 Q45.2813,63.875 46.2656,63.875 Q47.25,63.875 47.6406,63.25 Q48.0313,62.625 48.0313,61.4844 L48.0313,54.625 L49.9063,54.625 L49.9063,61.4688 Q49.9063,63.5 48.875,64.4688 Q47.8594,65.4375 46.25,65.4375 Z \"/><text fill=\"#000000\" font-family=\"sans-serif\" font-size=\"12\" font-style=\"italic\" lengthAdjust=\"spacingAndGlyphs\" textLength=\"69\" x=\"129.5\" y=\"57.1387\">«attribute»</text><text fill=\"#000000\" font-family=\"sans-serif\" font-size=\"12\" lengthAdjust=\"spacingAndGlyphs\" textLength=\"207\" x=\"60.5\" y=\"71.1074\">q :&gt; Quantities::tensorQuantities</text><line style=\"stroke: #A80036; stroke-width: 1.5;\" x1=\"32.5\" x2=\"269.5\" y1=\"78.9375\" y2=\"78.9375\"/></a><text fill=\"#000000\" font-family=\"sans-serif\" font-size=\"14\" lengthAdjust=\"spacingAndGlyphs\" textLength=\"44\" x=\"474\" y=\"42.6982\">porig1</text><rect fill=\"#A80036\" height=\"12\" style=\"stroke: #FEFECE; stroke-width: 1.5;\" width=\"12\" x=\"490\" y=\"58\"/><text fill=\"#000000\" font-family=\"sans-serif\" font-size=\"14\" lengthAdjust=\"spacingAndGlyphs\" textLength=\"44\" x=\"521\" y=\"42.6982\">porig1</text><rect fill=\"#A80036\" height=\"12\" style=\"stroke: #FEFECE; stroke-width: 1.5;\" width=\"12\" x=\"537\" y=\"58\"/><text fill=\"#000000\" font-family=\"sans-serif\" font-size=\"14\" lengthAdjust=\"spacingAndGlyphs\" textLength=\"27\" x=\"344.5\" y=\"42.6982\">po1</text><rect fill=\"#A80036\" height=\"12\" style=\"stroke: #FEFECE; stroke-width: 1.5;\" width=\"12\" x=\"352\" y=\"58\"/><text fill=\"#000000\" font-family=\"sans-serif\" font-size=\"14\" lengthAdjust=\"spacingAndGlyphs\" textLength=\"40\" x=\"377\" y=\"91.1982\">pdest</text><rect fill=\"#A80036\" height=\"12\" style=\"stroke: #FEFECE; stroke-width: 1.5;\" width=\"12\" x=\"391\" y=\"106.5\"/><text fill=\"#000000\" font-family=\"sans-serif\" font-size=\"14\" lengthAdjust=\"spacingAndGlyphs\" textLength=\"40\" x=\"424\" y=\"91.1982\">pdest</text><rect fill=\"#A80036\" height=\"12\" style=\"stroke: #FEFECE; stroke-width: 1.5;\" width=\"12\" x=\"438\" y=\"106.5\"/><!--MD5=[1c0b9414cc86e0744215edee6abd8926]\n",
       "link E7 to E9--><a href=\"psysml:ee24455c-c65b-41eb-8958-74c54e28cd84\" target=\"_top\" title=\"psysml:ee24455c-c65b-41eb-8958-74c54e28cd84\" xlink:actuate=\"onRequest\" xlink:href=\"psysml:ee24455c-c65b-41eb-8958-74c54e28cd84\" xlink:show=\"new\" xlink:title=\"psysml:ee24455c-c65b-41eb-8958-74c54e28cd84\" xlink:type=\"simple\"><path d=\"M353.99,70.33 C356.12,80.83 376.45,103.69 390.63,109.91 \" fill=\"none\" id=\"E7-E9\" style=\"stroke: #A80036; stroke-width: 3.0;\"/><text fill=\"#000000\" font-family=\"sans-serif\" font-size=\"13\" lengthAdjust=\"spacingAndGlyphs\" textLength=\"7\" x=\"376.1041\" y=\"99.3339\">*</text></a><!--MD5=[1c0b9414cc86e0744215edee6abd8926]\n",
       "link E7 to E9--><a href=\"psysml:1d0a5b52-6a4c-4cbe-b03e-99be5638e392\" target=\"_top\" title=\"psysml:1d0a5b52-6a4c-4cbe-b03e-99be5638e392\" xlink:actuate=\"onRequest\" xlink:href=\"psysml:1d0a5b52-6a4c-4cbe-b03e-99be5638e392\" xlink:show=\"new\" xlink:title=\"psysml:1d0a5b52-6a4c-4cbe-b03e-99be5638e392\" xlink:type=\"simple\"><path d=\"M364.05,66.34 C378.81,72.18 399.77,95.55 401.52,106.18 \" fill=\"none\" id=\"E7-E9-1\" style=\"stroke: #A80036; stroke-width: 3.0;\"/><text fill=\"#000000\" font-family=\"sans-serif\" font-size=\"13\" lengthAdjust=\"spacingAndGlyphs\" textLength=\"7\" x=\"395.0938\" y=\"95.5105\">*</text></a><!--MD5=[463f433019213ff0951ff6c0b3ce4ee8]\n",
       "@startuml\r\n",
       "skinparam ranksep 10\r\n",
       "skinparam rectangle {\r\n",
       " backgroundColor<<block>> LightGreen\r\n",
       "}\r\n",
       " \r\n",
       "package \"AliasTest\" as E1  [[psysml:dccc75fb-db16-4804-85cb-688c27ce5ff3 ]]  {\r\n",
       "comp usage \"q :> Quantities::tensorQuantities\" as E2 << <<(U,orange) attribute>> [[psysml:ce72622b-28d6-4d09-bee8-b5dd20a40a54 ]] {\r\n",
       "}\r\n",
       "rec def \"P1\" as E3 << << (B,green) >> [[psysml:61eb2658-da6c-419b-a94e-058b00326cab ]] {\r\n",
       "portin \"porig1\" as E4 << << (P,blue) port>> [[psysml:9ae2babd-6d67-4765-bfe5-8d775f3bcf42 ]] \r\n",
       "portin \"porig1\" as E5 << << (P,blue) port>> [[psysml:9ae2babd-6d67-4765-bfe5-8d775f3bcf42 ]] \r\n",
       "}\r\n",
       "rec usage \"p1: P1\" as E6  [[psysml:11b2a6df-aab5-4dc5-a120-8a7b1f52b05c ]] {\r\n",
       "portin \"po1\" as E7 << << (P,blue) port>> [[psysml:a231442e-2600-41cf-892c-df88027eb505 ]] \r\n",
       "}\r\n",
       "rec usage \"p2: P1\" as E8  [[psysml:2c2598c5-3ef5-4f1d-ae32-f3d429fa4c2f ]] {\r\n",
       "portin \"pdest\" as E9 << << (P,blue) port>> [[psysml:10820d16-405d-40a2-9551-06e34552661e ]] \r\n",
       "portin \"pdest\" as E10 << << (P,blue) port>> [[psysml:10820d16-405d-40a2-9551-06e34552661e ]] \r\n",
       "}\r\n",
       "}\r\n",
       "E7 -[thickness=3]- \"*\"E9 [[psysml:ee24455c-c65b-41eb-8958-74c54e28cd84 ]] \r\n",
       "E7 -[thickness=3]- \"*\"E9 [[psysml:1d0a5b52-6a4c-4cbe-b03e-99be5638e392 ]] \r\n",
       "@enduml\r\n",
       "\n",
       "PlantUML version 1.2020.13(Sat Jun 13 12:26:38 UTC 2020)\n",
       "(EPL source distribution)\n",
       "Java Runtime: OpenJDK Runtime Environment\n",
       "JVM: OpenJDK 64-Bit Server VM\n",
       "Default Encoding: UTF-8\n",
       "Language: en\n",
       "Country: null\n",
       "--></g></svg>"
      ]
     },
     "execution_count": 33,
     "metadata": {},
     "output_type": "execute_result"
    }
   ],
   "source": [
    "%viz --style=\"PLANTUML\" --view=\"Interconnection\" \"AliasTest\""
   ]
  },
  {
   "cell_type": "code",
   "execution_count": 34,
   "id": "2e85d7c8",
   "metadata": {
    "execution": {
     "iopub.execute_input": "2021-10-25T08:23:54.482370Z",
     "iopub.status.busy": "2021-10-25T08:23:54.481938Z",
     "iopub.status.idle": "2021-10-25T08:23:54.487010Z",
     "shell.execute_reply": "2021-10-25T08:23:54.486649Z"
    }
   },
   "outputs": [
    {
     "data": {
      "image/svg+xml": [
       "<?xml version=\"1.0\" encoding=\"UTF-8\" standalone=\"no\"?><svg xmlns=\"http://www.w3.org/2000/svg\" xmlns:xlink=\"http://www.w3.org/1999/xlink\" contentScriptType=\"application/ecmascript\" contentStyleType=\"text/css\" height=\"12px\" preserveAspectRatio=\"none\" style=\"width:12px;height:12px;\" version=\"1.1\" viewBox=\"0 0 12 12\" width=\"12px\" zoomAndPan=\"magnify\"><defs/><g><!--MD5=[6a4cb978cab31700e1ce5529f947a75d]\n",
       "@startuml\r\n",
       "skinparam ranksep 8\r\n",
       " \r\n",
       "@enduml\r\n",
       "\n",
       "PlantUML version 1.2020.13(Sat Jun 13 12:26:38 UTC 2020)\n",
       "(EPL source distribution)\n",
       "Java Runtime: OpenJDK Runtime Environment\n",
       "JVM: OpenJDK 64-Bit Server VM\n",
       "Default Encoding: UTF-8\n",
       "Language: en\n",
       "Country: null\n",
       "--></g></svg>"
      ]
     },
     "execution_count": 34,
     "metadata": {},
     "output_type": "execute_result"
    }
   ],
   "source": [
    "%viz --style=\"PLANTUML\" --view=\"Action\" \"AliasTest\""
   ]
  },
  {
   "cell_type": "code",
   "execution_count": 35,
   "id": "0b31bd09",
   "metadata": {
    "execution": {
     "iopub.execute_input": "2021-10-25T08:23:54.537121Z",
     "iopub.status.busy": "2021-10-25T08:23:54.536529Z",
     "iopub.status.idle": "2021-10-25T08:23:54.541877Z",
     "shell.execute_reply": "2021-10-25T08:23:54.541512Z"
    }
   },
   "outputs": [
    {
     "data": {
      "image/svg+xml": [
       "<?xml version=\"1.0\" encoding=\"UTF-8\" standalone=\"no\"?><svg xmlns=\"http://www.w3.org/2000/svg\" xmlns:xlink=\"http://www.w3.org/1999/xlink\" contentScriptType=\"application/ecmascript\" contentStyleType=\"text/css\" height=\"12px\" preserveAspectRatio=\"none\" style=\"width:12px;height:12px;\" version=\"1.1\" viewBox=\"0 0 12 12\" width=\"12px\" zoomAndPan=\"magnify\"><defs/><g><!--MD5=[ca4faa0b02def275ea33c14ea7a1a98d]\n",
       "@startuml\r\n",
       "skinparam roundcorner 20\r\n",
       "skinparam BoxPadding 20\r\n",
       "skinparam SequenceBoxBackgroundColor #white\r\n",
       "skinparam style strictuml\r\n",
       "skinparam maxMessageSize 100\r\n",
       " \r\n",
       "@enduml\r\n",
       "\n",
       "PlantUML version 1.2020.13(Sat Jun 13 12:26:38 UTC 2020)\n",
       "(EPL source distribution)\n",
       "Java Runtime: OpenJDK Runtime Environment\n",
       "JVM: OpenJDK 64-Bit Server VM\n",
       "Default Encoding: UTF-8\n",
       "Language: en\n",
       "Country: null\n",
       "--></g></svg>"
      ]
     },
     "execution_count": 35,
     "metadata": {},
     "output_type": "execute_result"
    }
   ],
   "source": [
    "%viz --style=\"PLANTUML\" --view=\"Sequence\" \"AliasTest\""
   ]
  },
  {
   "cell_type": "code",
   "execution_count": 36,
   "id": "43d328e8",
   "metadata": {
    "execution": {
     "iopub.execute_input": "2021-10-25T08:23:54.591636Z",
     "iopub.status.busy": "2021-10-25T08:23:54.591205Z",
     "iopub.status.idle": "2021-10-25T08:23:54.632038Z",
     "shell.execute_reply": "2021-10-25T08:23:54.629682Z"
    }
   },
   "outputs": [
    {
     "data": {
      "image/svg+xml": [
       "<?xml version=\"1.0\" encoding=\"UTF-8\" standalone=\"no\"?><svg xmlns=\"http://www.w3.org/2000/svg\" xmlns:xlink=\"http://www.w3.org/1999/xlink\" contentScriptType=\"application/ecmascript\" contentStyleType=\"text/css\" height=\"327px\" preserveAspectRatio=\"none\" style=\"width:531px;height:327px;\" version=\"1.1\" viewBox=\"0 0 531 327\" width=\"531px\" zoomAndPan=\"magnify\"><defs><filter height=\"300%\" id=\"f1vi7lg2k6e2e8\" width=\"300%\" x=\"-1\" y=\"-1\"><feGaussianBlur result=\"blurOut\" stdDeviation=\"2.0\"/><feColorMatrix in=\"blurOut\" result=\"blurOut2\" type=\"matrix\" values=\"0 0 0 0 0 0 0 0 0 0 0 0 0 0 0 0 0 0 .4 0\"/><feOffset dx=\"4.0\" dy=\"4.0\" in=\"blurOut2\" result=\"blurOut3\"/><feBlend in=\"SourceGraphic\" in2=\"blurOut3\" mode=\"normal\"/></filter></defs><g><!--MD5=[fbc87193dbaf4d95561dea2c320d4a47]\n",
       "cluster E1--><a href=\"psysml:dccc75fb-db16-4804-85cb-688c27ce5ff3\" target=\"_top\" title=\"psysml:dccc75fb-db16-4804-85cb-688c27ce5ff3\" xlink:actuate=\"onRequest\" xlink:href=\"psysml:dccc75fb-db16-4804-85cb-688c27ce5ff3\" xlink:show=\"new\" xlink:title=\"psysml:dccc75fb-db16-4804-85cb-688c27ce5ff3\" xlink:type=\"simple\"><polygon fill=\"#FFFFFF\" filter=\"url(#f1vi7lg2k6e2e8)\" points=\"16,6,84,6,91,28.2969,509,28.2969,509,315,16,315,16,6\" style=\"stroke: #000000; stroke-width: 1.5;\"/><line style=\"stroke: #000000; stroke-width: 1.5;\" x1=\"16\" x2=\"91\" y1=\"28.2969\" y2=\"28.2969\"/><text fill=\"#000000\" font-family=\"sans-serif\" font-size=\"14\" font-weight=\"bold\" lengthAdjust=\"spacingAndGlyphs\" textLength=\"62\" x=\"20\" y=\"20.9951\">AliasTest</text></a><!--MD5=[b4997ac47864f28c2f74865a473b2911]\n",
       "class E2--><a href=\"psysml:ce72622b-28d6-4d09-bee8-b5dd20a40a54\" target=\"_top\" title=\"psysml:ce72622b-28d6-4d09-bee8-b5dd20a40a54\" xlink:actuate=\"onRequest\" xlink:href=\"psysml:ce72622b-28d6-4d09-bee8-b5dd20a40a54\" xlink:show=\"new\" xlink:title=\"psysml:ce72622b-28d6-4d09-bee8-b5dd20a40a54\" xlink:type=\"simple\"><rect fill=\"#FEFECE\" filter=\"url(#f1vi7lg2k6e2e8)\" height=\"45.9375\" id=\"E2\" rx=\"10\" ry=\"10\" style=\"stroke: #A80036; stroke-width: 1.5;\" width=\"239\" x=\"254.5\" y=\"41\"/><ellipse cx=\"269.5\" cy=\"59.9688\" fill=\"#FFA500\" rx=\"11\" ry=\"11\" style=\"stroke: #A80036; stroke-width: 1.0;\"/><path d=\"M269.25,65.4375 Q267.5,65.4375 266.5469,64.4063 Q265.6094,63.3594 265.6094,61.5156 L265.6094,54.625 L267.6719,54.625 L267.6719,54.7813 Q267.5781,54.875 267.5469,55.0156 Q267.5313,55.1406 267.5313,55.4063 L267.5313,61.5313 Q267.5313,62.625 267.9063,63.25 Q268.2813,63.875 269.2656,63.875 Q270.25,63.875 270.6406,63.25 Q271.0313,62.625 271.0313,61.4844 L271.0313,54.625 L272.9063,54.625 L272.9063,61.4688 Q272.9063,63.5 271.875,64.4688 Q270.8594,65.4375 269.25,65.4375 Z \"/><text fill=\"#000000\" font-family=\"sans-serif\" font-size=\"12\" font-style=\"italic\" lengthAdjust=\"spacingAndGlyphs\" textLength=\"69\" x=\"352.5\" y=\"57.1387\">«attribute»</text><text fill=\"#000000\" font-family=\"sans-serif\" font-size=\"12\" lengthAdjust=\"spacingAndGlyphs\" textLength=\"207\" x=\"283.5\" y=\"71.1074\">q :&gt; Quantities::tensorQuantities</text><line style=\"stroke: #A80036; stroke-width: 1.5;\" x1=\"255.5\" x2=\"492.5\" y1=\"78.9375\" y2=\"78.9375\"/></a><!--MD5=[09b614a08d8cba4a07c9adeb5e0fee81]\n",
       "class E3--><a href=\"psysml:61eb2658-da6c-419b-a94e-058b00326cab\" target=\"_top\" title=\"psysml:61eb2658-da6c-419b-a94e-058b00326cab\" xlink:actuate=\"onRequest\" xlink:href=\"psysml:61eb2658-da6c-419b-a94e-058b00326cab\" xlink:show=\"new\" xlink:title=\"psysml:61eb2658-da6c-419b-a94e-058b00326cab\" xlink:type=\"simple\"><rect fill=\"#FEFECE\" filter=\"url(#f1vi7lg2k6e2e8)\" height=\"40\" id=\"E3\" style=\"stroke: #A80036; stroke-width: 1.5;\" width=\"48\" x=\"209\" y=\"150\"/><ellipse cx=\"224\" cy=\"166\" fill=\"#008000\" rx=\"11\" ry=\"11\" style=\"stroke: #A80036; stroke-width: 1.0;\"/><path d=\"M220.875,171 L220.875,160.4063 L224.1094,160.4063 Q226.0156,160.4063 226.9219,161.1563 Q227.8438,161.9063 227.8438,163.0781 Q227.8438,163.7656 227.4531,164.4219 Q227.0781,165.0781 226.3594,165.375 Q227.2188,165.75 227.7344,166.4375 Q228.25,167.125 228.25,167.9375 Q228.25,169.3125 227.2188,170.1563 Q226.2031,171 224.0938,171 L220.875,171 Z M222.7969,164.6406 L223.9531,164.6406 Q225.0781,164.6406 225.4844,164.2656 Q225.9063,163.875 225.9063,163.25 Q225.9063,162.6719 225.4844,162.3125 Q225.0625,161.9531 224.125,161.9531 L222.7969,161.9531 L222.7969,164.6406 Z M222.7969,169.4219 L224.2969,169.4219 Q225.2031,169.4219 225.7344,169.0313 Q226.2656,168.6406 226.2656,167.8906 Q226.2656,167.125 225.7656,166.6563 Q225.2656,166.1719 224,166.1719 L222.7969,166.1719 L222.7969,169.4219 Z \"/><text fill=\"#000000\" font-family=\"sans-serif\" font-size=\"12\" lengthAdjust=\"spacingAndGlyphs\" textLength=\"16\" x=\"238\" y=\"170.1543\">P1</text><line style=\"stroke: #A80036; stroke-width: 1.5;\" x1=\"210\" x2=\"256\" y1=\"182\" y2=\"182\"/></a><!--MD5=[ebbe1d658d1005bcc118a6aa81145e00]\n",
       "class E4--><a href=\"psysml:9ae2babd-6d67-4765-bfe5-8d775f3bcf42\" target=\"_top\" title=\"psysml:9ae2babd-6d67-4765-bfe5-8d775f3bcf42\" xlink:actuate=\"onRequest\" xlink:href=\"psysml:9ae2babd-6d67-4765-bfe5-8d775f3bcf42\" xlink:show=\"new\" xlink:title=\"psysml:9ae2babd-6d67-4765-bfe5-8d775f3bcf42\" xlink:type=\"simple\"><rect fill=\"#FEFECE\" filter=\"url(#f1vi7lg2k6e2e8)\" height=\"45.9375\" id=\"E4\" rx=\"10\" ry=\"10\" style=\"stroke: #A80036; stroke-width: 1.5;\" width=\"72\" x=\"197\" y=\"253\"/><ellipse cx=\"212\" cy=\"271.9688\" fill=\"#0000FF\" rx=\"11\" ry=\"11\" style=\"stroke: #A80036; stroke-width: 1.0;\"/><path d=\"M208.8125,276.9688 L208.8125,266.375 L212.4219,266.375 Q213.6406,266.375 214.4375,266.8125 Q215.2344,267.2344 215.6094,267.9375 Q216,268.6406 216,269.4844 Q216,270.3281 215.625,271.0156 Q215.2656,271.7031 214.4688,272.125 Q213.6875,272.5313 212.5,272.5313 L210.7656,272.5313 L210.7656,276.9688 L208.8125,276.9688 Z M210.7656,270.9375 L212.375,270.9375 Q213.1875,270.9375 213.6094,270.5313 Q214.0313,270.125 214.0313,269.4844 Q214.0313,268.8594 213.6094,268.4531 Q213.1875,268.0469 212.3906,268.0469 L210.7656,268.0469 L210.7656,270.9375 Z \"/><text fill=\"#000000\" font-family=\"sans-serif\" font-size=\"12\" font-style=\"italic\" lengthAdjust=\"spacingAndGlyphs\" textLength=\"40\" x=\"226\" y=\"269.1387\">«port»</text><text fill=\"#000000\" font-family=\"sans-serif\" font-size=\"12\" lengthAdjust=\"spacingAndGlyphs\" textLength=\"40\" x=\"226\" y=\"283.1074\">porig1</text><line style=\"stroke: #A80036; stroke-width: 1.5;\" x1=\"198\" x2=\"268\" y1=\"290.9375\" y2=\"290.9375\"/></a><!--MD5=[270fce915f116d4de14055a7c1d9a0f3]\n",
       "class E5--><a href=\"psysml:11b2a6df-aab5-4dc5-a120-8a7b1f52b05c\" target=\"_top\" title=\"psysml:11b2a6df-aab5-4dc5-a120-8a7b1f52b05c\" xlink:actuate=\"onRequest\" xlink:href=\"psysml:11b2a6df-aab5-4dc5-a120-8a7b1f52b05c\" xlink:show=\"new\" xlink:title=\"psysml:11b2a6df-aab5-4dc5-a120-8a7b1f52b05c\" xlink:type=\"simple\"><rect fill=\"#FEFECE\" filter=\"url(#f1vi7lg2k6e2e8)\" height=\"45.9375\" id=\"E5\" rx=\"10\" ry=\"10\" style=\"stroke: #A80036; stroke-width: 1.5;\" width=\"76\" x=\"143\" y=\"41\"/><ellipse cx=\"158\" cy=\"59.9688\" fill=\"#32CD32\" rx=\"11\" ry=\"11\" style=\"stroke: #A80036; stroke-width: 1.0;\"/><path d=\"M154.8125,64.9688 L154.8125,54.375 L158.4219,54.375 Q159.6406,54.375 160.4375,54.8125 Q161.2344,55.2344 161.6094,55.9375 Q162,56.6406 162,57.4844 Q162,58.3281 161.625,59.0156 Q161.2656,59.7031 160.4688,60.125 Q159.6875,60.5313 158.5,60.5313 L156.7656,60.5313 L156.7656,64.9688 L154.8125,64.9688 Z M156.7656,58.9375 L158.375,58.9375 Q159.1875,58.9375 159.6094,58.5313 Q160.0313,58.125 160.0313,57.4844 Q160.0313,56.8594 159.6094,56.4531 Q159.1875,56.0469 158.3906,56.0469 L156.7656,56.0469 L156.7656,58.9375 Z \"/><text fill=\"#000000\" font-family=\"sans-serif\" font-size=\"12\" font-style=\"italic\" lengthAdjust=\"spacingAndGlyphs\" textLength=\"40\" x=\"174\" y=\"57.1387\">«part»</text><text fill=\"#000000\" font-family=\"sans-serif\" font-size=\"12\" lengthAdjust=\"spacingAndGlyphs\" textLength=\"40\" x=\"172\" y=\"71.1074\">p1: P1</text><line style=\"stroke: #A80036; stroke-width: 1.5;\" x1=\"144\" x2=\"218\" y1=\"78.9375\" y2=\"78.9375\"/></a><!--MD5=[60a26617385b1d2d0262a64233df1f8d]\n",
       "class E6--><a href=\"psysml:a231442e-2600-41cf-892c-df88027eb505\" target=\"_top\" title=\"psysml:a231442e-2600-41cf-892c-df88027eb505\" xlink:actuate=\"onRequest\" xlink:href=\"psysml:a231442e-2600-41cf-892c-df88027eb505\" xlink:show=\"new\" xlink:title=\"psysml:a231442e-2600-41cf-892c-df88027eb505\" xlink:type=\"simple\"><rect fill=\"#FEFECE\" filter=\"url(#f1vi7lg2k6e2e8)\" height=\"45.9375\" id=\"E6\" rx=\"10\" ry=\"10\" style=\"stroke: #A80036; stroke-width: 1.5;\" width=\"68\" x=\"106\" y=\"147\"/><ellipse cx=\"121\" cy=\"165.9688\" fill=\"#0000FF\" rx=\"11\" ry=\"11\" style=\"stroke: #A80036; stroke-width: 1.0;\"/><path d=\"M117.8125,170.9688 L117.8125,160.375 L121.4219,160.375 Q122.6406,160.375 123.4375,160.8125 Q124.2344,161.2344 124.6094,161.9375 Q125,162.6406 125,163.4844 Q125,164.3281 124.625,165.0156 Q124.2656,165.7031 123.4688,166.125 Q122.6875,166.5313 121.5,166.5313 L119.7656,166.5313 L119.7656,170.9688 L117.8125,170.9688 Z M119.7656,164.9375 L121.375,164.9375 Q122.1875,164.9375 122.6094,164.5313 Q123.0313,164.125 123.0313,163.4844 Q123.0313,162.8594 122.6094,162.4531 Q122.1875,162.0469 121.3906,162.0469 L119.7656,162.0469 L119.7656,164.9375 Z \"/><text fill=\"#000000\" font-family=\"sans-serif\" font-size=\"12\" font-style=\"italic\" lengthAdjust=\"spacingAndGlyphs\" textLength=\"40\" x=\"133\" y=\"163.1387\">«port»</text><text fill=\"#000000\" font-family=\"sans-serif\" font-size=\"12\" lengthAdjust=\"spacingAndGlyphs\" textLength=\"24\" x=\"141\" y=\"177.1074\">po1</text><line style=\"stroke: #A80036; stroke-width: 1.5;\" x1=\"107\" x2=\"173\" y1=\"184.9375\" y2=\"184.9375\"/></a><!--MD5=[2156ba9850f5573cc1fc38a6a4b2f02b]\n",
       "class E7--><a href=\"psysml:2c2598c5-3ef5-4f1d-ae32-f3d429fa4c2f\" target=\"_top\" title=\"psysml:2c2598c5-3ef5-4f1d-ae32-f3d429fa4c2f\" xlink:actuate=\"onRequest\" xlink:href=\"psysml:2c2598c5-3ef5-4f1d-ae32-f3d429fa4c2f\" xlink:show=\"new\" xlink:title=\"psysml:2c2598c5-3ef5-4f1d-ae32-f3d429fa4c2f\" xlink:type=\"simple\"><rect fill=\"#FEFECE\" filter=\"url(#f1vi7lg2k6e2e8)\" height=\"45.9375\" id=\"E7\" rx=\"10\" ry=\"10\" style=\"stroke: #A80036; stroke-width: 1.5;\" width=\"76\" x=\"32\" y=\"41\"/><ellipse cx=\"47\" cy=\"59.9688\" fill=\"#32CD32\" rx=\"11\" ry=\"11\" style=\"stroke: #A80036; stroke-width: 1.0;\"/><path d=\"M43.8125,64.9688 L43.8125,54.375 L47.4219,54.375 Q48.6406,54.375 49.4375,54.8125 Q50.2344,55.2344 50.6094,55.9375 Q51,56.6406 51,57.4844 Q51,58.3281 50.625,59.0156 Q50.2656,59.7031 49.4688,60.125 Q48.6875,60.5313 47.5,60.5313 L45.7656,60.5313 L45.7656,64.9688 L43.8125,64.9688 Z M45.7656,58.9375 L47.375,58.9375 Q48.1875,58.9375 48.6094,58.5313 Q49.0313,58.125 49.0313,57.4844 Q49.0313,56.8594 48.6094,56.4531 Q48.1875,56.0469 47.3906,56.0469 L45.7656,56.0469 L45.7656,58.9375 Z \"/><text fill=\"#000000\" font-family=\"sans-serif\" font-size=\"12\" font-style=\"italic\" lengthAdjust=\"spacingAndGlyphs\" textLength=\"40\" x=\"63\" y=\"57.1387\">«part»</text><text fill=\"#000000\" font-family=\"sans-serif\" font-size=\"12\" lengthAdjust=\"spacingAndGlyphs\" textLength=\"40\" x=\"61\" y=\"71.1074\">p2: P1</text><line style=\"stroke: #A80036; stroke-width: 1.5;\" x1=\"33\" x2=\"107\" y1=\"78.9375\" y2=\"78.9375\"/></a><!--MD5=[b9389687b975829384b498ac4b7476b2]\n",
       "class E8--><a href=\"psysml:10820d16-405d-40a2-9551-06e34552661e\" target=\"_top\" title=\"psysml:10820d16-405d-40a2-9551-06e34552661e\" xlink:actuate=\"onRequest\" xlink:href=\"psysml:10820d16-405d-40a2-9551-06e34552661e\" xlink:show=\"new\" xlink:title=\"psysml:10820d16-405d-40a2-9551-06e34552661e\" xlink:type=\"simple\"><rect fill=\"#FEFECE\" filter=\"url(#f1vi7lg2k6e2e8)\" height=\"45.9375\" id=\"E8\" rx=\"10\" ry=\"10\" style=\"stroke: #A80036; stroke-width: 1.5;\" width=\"68\" x=\"65\" y=\"253\"/><ellipse cx=\"80\" cy=\"271.9688\" fill=\"#0000FF\" rx=\"11\" ry=\"11\" style=\"stroke: #A80036; stroke-width: 1.0;\"/><path d=\"M76.8125,276.9688 L76.8125,266.375 L80.4219,266.375 Q81.6406,266.375 82.4375,266.8125 Q83.2344,267.2344 83.6094,267.9375 Q84,268.6406 84,269.4844 Q84,270.3281 83.625,271.0156 Q83.2656,271.7031 82.4688,272.125 Q81.6875,272.5313 80.5,272.5313 L78.7656,272.5313 L78.7656,276.9688 L76.8125,276.9688 Z M78.7656,270.9375 L80.375,270.9375 Q81.1875,270.9375 81.6094,270.5313 Q82.0313,270.125 82.0313,269.4844 Q82.0313,268.8594 81.6094,268.4531 Q81.1875,268.0469 80.3906,268.0469 L78.7656,268.0469 L78.7656,270.9375 Z \"/><text fill=\"#000000\" font-family=\"sans-serif\" font-size=\"12\" font-style=\"italic\" lengthAdjust=\"spacingAndGlyphs\" textLength=\"40\" x=\"92\" y=\"269.1387\">«port»</text><text fill=\"#000000\" font-family=\"sans-serif\" font-size=\"12\" lengthAdjust=\"spacingAndGlyphs\" textLength=\"36\" x=\"94\" y=\"283.1074\">pdest</text><line style=\"stroke: #A80036; stroke-width: 1.5;\" x1=\"66\" x2=\"132\" y1=\"290.9375\" y2=\"290.9375\"/></a><!--MD5=[4672eba38e49728da53d11aeb285b987]\n",
       "reverse link E3 to E4--><a href=\"psysml:8e3ccc77-0a8c-4c0b-a5d7-07a6acaf5014\" target=\"_top\" title=\"psysml:8e3ccc77-0a8c-4c0b-a5d7-07a6acaf5014\" xlink:actuate=\"onRequest\" xlink:href=\"psysml:8e3ccc77-0a8c-4c0b-a5d7-07a6acaf5014\" xlink:show=\"new\" xlink:title=\"psysml:8e3ccc77-0a8c-4c0b-a5d7-07a6acaf5014\" xlink:type=\"simple\"><path d=\"M221.1,203.25 C219.65,219.33 220.05,238.37 222.33,252.8 \" fill=\"none\" id=\"E3&lt;-E4\" style=\"stroke: #A80036; stroke-width: 1.0;\"/><polygon fill=\"#FFFFFF\" points=\"222.87,190.08,218.1137,195.5001,221.2875,201.9752,226.0438,196.5551,222.87,190.08\" style=\"stroke: #A80036; stroke-width: 1.0;\"/><text fill=\"#000000\" font-family=\"sans-serif\" font-size=\"13\" lengthAdjust=\"spacingAndGlyphs\" textLength=\"8\" x=\"210.5708\" y=\"242.025\">1</text></a><!--MD5=[4672eba38e49728da53d11aeb285b987]\n",
       "reverse link E3 to E4--><a href=\"psysml:408c218d-2c50-4f10-8495-de57c6cccdaf\" target=\"_top\" title=\"psysml:408c218d-2c50-4f10-8495-de57c6cccdaf\" xlink:actuate=\"onRequest\" xlink:href=\"psysml:408c218d-2c50-4f10-8495-de57c6cccdaf\" xlink:show=\"new\" xlink:title=\"psysml:408c218d-2c50-4f10-8495-de57c6cccdaf\" xlink:type=\"simple\"><path d=\"M245.77,205.22 C247.1,220.87 246.61,238.96 244.3,252.8 \" fill=\"none\" id=\"E3&lt;-E4-1\" style=\"stroke: #A80036; stroke-width: 1.0; stroke-dasharray: 7.0,7.0;\"/><ellipse cx=\"244.7963\" cy=\"198.0086\" fill=\"#FFFFFF\" rx=\"8\" ry=\"8\" style=\"stroke: #A80036; stroke-width: 1.0;\"/><line style=\"stroke: #A80036; stroke-width: 1.0;\" x1=\"245.8626\" x2=\"243.73\" y1=\"205.9372\" y2=\"190.08\"/><line style=\"stroke: #A80036; stroke-width: 1.0;\" x1=\"236.8677\" x2=\"252.7249\" y1=\"199.0749\" y2=\"196.9423\"/><text fill=\"#000000\" font-family=\"sans-serif\" font-size=\"13\" lengthAdjust=\"spacingAndGlyphs\" textLength=\"8\" x=\"238.1706\" y=\"242.025\">1</text></a><!--MD5=[e9be52314489bd878ff4c7144b63c9e1]\n",
       "link E5 to E3--><a href=\"psysml:39d7aa17-d9aa-4290-8253-e0b073366074\" target=\"_top\" title=\"psysml:39d7aa17-d9aa-4290-8253-e0b073366074\" xlink:actuate=\"onRequest\" xlink:href=\"psysml:39d7aa17-d9aa-4290-8253-e0b073366074\" xlink:show=\"new\" xlink:title=\"psysml:39d7aa17-d9aa-4290-8253-e0b073366074\" xlink:type=\"simple\"><path d=\"M192.03,87.06 C198.53,100.06 206.93,116.86 214.43,131.86 \" fill=\"none\" id=\"E5-&gt;E3\" style=\"stroke: #A80036; stroke-width: 1.0;\"/><polygon fill=\"#FFFFFF\" points=\"223.39,149.77,208.6231,135.9158,221.1411,129.6468,223.39,149.77\" style=\"stroke: #A80036; stroke-width: 1.0;\"/><ellipse cx=\"207.859\" cy=\"129.9236\" fill=\"#A80036\" rx=\"2\" ry=\"2\" style=\"stroke: #A80036; stroke-width: 1.0;\"/><ellipse cx=\"216.8004\" cy=\"125.4458\" fill=\"#A80036\" rx=\"2\" ry=\"2\" style=\"stroke: #A80036; stroke-width: 1.0;\"/></a><!--MD5=[85d356282659285ab4b2cfe2f634dd2b]\n",
       "reverse link E5 to E6--><a href=\"psysml:0602bff9-807d-4c23-b932-30af011e0640\" target=\"_top\" title=\"psysml:0602bff9-807d-4c23-b932-30af011e0640\" xlink:actuate=\"onRequest\" xlink:href=\"psysml:0602bff9-807d-4c23-b932-30af011e0640\" xlink:show=\"new\" xlink:title=\"psysml:0602bff9-807d-4c23-b932-30af011e0640\" xlink:type=\"simple\"><path d=\"M167.4,99.49 C161.23,115.15 154.12,133.19 148.68,146.98 \" fill=\"none\" id=\"E5&lt;-E6\" style=\"stroke: #A80036; stroke-width: 1.0;\"/><polygon fill=\"#FFFFFF\" points=\"172.3,87.06,166.3778,91.1743,167.8979,98.2234,173.8201,94.1091,172.3,87.06\" style=\"stroke: #A80036; stroke-width: 1.0;\"/><text fill=\"#000000\" font-family=\"sans-serif\" font-size=\"13\" lengthAdjust=\"spacingAndGlyphs\" textLength=\"8\" x=\"141.9378\" y=\"135.8709\">1</text></a><!--MD5=[f667431f98296947986a1a7595a31603]\n",
       "link E6 to E4--><a href=\"psysml:5ed5dee3-04af-484b-a73a-bf3d62fb0484\" target=\"_top\" title=\"psysml:5ed5dee3-04af-484b-a73a-bf3d62fb0484\" xlink:actuate=\"onRequest\" xlink:href=\"psysml:5ed5dee3-04af-484b-a73a-bf3d62fb0484\" xlink:show=\"new\" xlink:title=\"psysml:5ed5dee3-04af-484b-a73a-bf3d62fb0484\" xlink:type=\"simple\"><path d=\"M159.72,193.06 C171.31,206.02 186.27,222.74 199.65,237.7 \" fill=\"none\" id=\"E6-&gt;E4\" style=\"stroke: #A80036; stroke-width: 1.0;\"/><polygon fill=\"#FFFFFF\" points=\"213.31,252.98,195.4253,243.486,205.8597,234.152,213.31,252.98\" style=\"stroke: #A80036; stroke-width: 1.0;\"/><line style=\"stroke: #A80036; stroke-width: 2.0;\" x1=\"192.8918\" x2=\"203.3262\" y1=\"240.6538\" y2=\"231.3198\"/></a><!--MD5=[14ccda38c055a5c0da953d572bc50960]\n",
       "link E7 to E3--><a href=\"psysml:6afc3f94-967f-4ac8-9c89-c7c9ad6aa496\" target=\"_top\" title=\"psysml:6afc3f94-967f-4ac8-9c89-c7c9ad6aa496\" xlink:actuate=\"onRequest\" xlink:href=\"psysml:6afc3f94-967f-4ac8-9c89-c7c9ad6aa496\" xlink:show=\"new\" xlink:title=\"psysml:6afc3f94-967f-4ac8-9c89-c7c9ad6aa496\" xlink:type=\"simple\"><path d=\"M104.57,87.06 C129.93,103.24 164.49,125.29 191.37,142.44 \" fill=\"none\" id=\"E7-&gt;E3\" style=\"stroke: #A80036; stroke-width: 1.0;\"/><polygon fill=\"#FFFFFF\" points=\"208.54,153.39,188.7577,149.0701,196.2889,137.2683,208.54,153.39\" style=\"stroke: #A80036; stroke-width: 1.0;\"/><ellipse cx=\"185.0286\" cy=\"144.3178\" fill=\"#A80036\" rx=\"2\" ry=\"2\" style=\"stroke: #A80036; stroke-width: 1.0;\"/><ellipse cx=\"190.408\" cy=\"135.888\" fill=\"#A80036\" rx=\"2\" ry=\"2\" style=\"stroke: #A80036; stroke-width: 1.0;\"/></a><!--MD5=[dc164f5e8a733ab456ef1add180e9e34]\n",
       "reverse link E7 to E8--><a href=\"psysml:9a63abc5-83ea-4d36-8ec2-a9e5009e1a31\" target=\"_top\" title=\"psysml:9a63abc5-83ea-4d36-8ec2-a9e5009e1a31\" xlink:actuate=\"onRequest\" xlink:href=\"psysml:9a63abc5-83ea-4d36-8ec2-a9e5009e1a31\" xlink:show=\"new\" xlink:title=\"psysml:9a63abc5-83ea-4d36-8ec2-a9e5009e1a31\" xlink:type=\"simple\"><path d=\"M65.05,100.09 C66.65,143.61 77.25,216.5 87.75,252.9 \" fill=\"none\" id=\"E7&lt;-E8\" style=\"stroke: #A80036; stroke-width: 1.0;\"/><polygon fill=\"#FFFFFF\" points=\"64.85,87.08,60.9362,93.1366,65.0216,99.0788,68.9354,93.0222,64.85,87.08\" style=\"stroke: #A80036; stroke-width: 1.0;\"/><text fill=\"#000000\" font-family=\"sans-serif\" font-size=\"13\" lengthAdjust=\"spacingAndGlyphs\" textLength=\"8\" x=\"75.6516\" y=\"241.7694\">1</text></a><!--MD5=[dc164f5e8a733ab456ef1add180e9e34]\n",
       "reverse link E7 to E8--><a href=\"psysml:af85dbb9-a19a-4dbd-bd41-700a2e1e88fd\" target=\"_top\" title=\"psysml:af85dbb9-a19a-4dbd-bd41-700a2e1e88fd\" xlink:actuate=\"onRequest\" xlink:href=\"psysml:af85dbb9-a19a-4dbd-bd41-700a2e1e88fd\" xlink:show=\"new\" xlink:title=\"psysml:af85dbb9-a19a-4dbd-bd41-700a2e1e88fd\" xlink:type=\"simple\"><path d=\"M85.64,101.8 C96.15,145.5 105.39,216.97 104.63,252.9 \" fill=\"none\" id=\"E7&lt;-E8-1\" style=\"stroke: #A80036; stroke-width: 1.0; stroke-dasharray: 7.0,7.0;\"/><ellipse cx=\"83.7794\" cy=\"94.813\" fill=\"#FFFFFF\" rx=\"8\" ry=\"8\" style=\"stroke: #A80036; stroke-width: 1.0;\"/><line style=\"stroke: #A80036; stroke-width: 1.0;\" x1=\"85.8289\" x2=\"81.73\" y1=\"102.5461\" y2=\"87.08\"/><line style=\"stroke: #A80036; stroke-width: 1.0;\" x1=\"76.0464\" x2=\"91.5125\" y1=\"96.8625\" y2=\"92.7636\"/><text fill=\"#000000\" font-family=\"sans-serif\" font-size=\"13\" lengthAdjust=\"spacingAndGlyphs\" textLength=\"8\" x=\"97.0681\" y=\"241.7694\">1</text></a><!--MD5=[0a839d0f80c2d72d4b9b307f046d0de8]\n",
       "link E6 to E8--><a href=\"psysml:ee24455c-c65b-41eb-8958-74c54e28cd84\" target=\"_top\" title=\"psysml:ee24455c-c65b-41eb-8958-74c54e28cd84\" xlink:actuate=\"onRequest\" xlink:href=\"psysml:ee24455c-c65b-41eb-8958-74c54e28cd84\" xlink:show=\"new\" xlink:title=\"psysml:ee24455c-c65b-41eb-8958-74c54e28cd84\" xlink:type=\"simple\"><path d=\"M120.66,193.06 C110.89,210.7 101.19,235.34 97.04,252.98 \" fill=\"none\" id=\"E6-E8\" style=\"stroke: #A80036; stroke-width: 3.0;\"/><text fill=\"#000000\" font-family=\"sans-serif\" font-size=\"13\" lengthAdjust=\"spacingAndGlyphs\" textLength=\"7\" x=\"88.5726\" y=\"241.8709\">*</text></a><!--MD5=[0a839d0f80c2d72d4b9b307f046d0de8]\n",
       "link E6 to E8--><a href=\"psysml:1d0a5b52-6a4c-4cbe-b03e-99be5638e392\" target=\"_top\" title=\"psysml:1d0a5b52-6a4c-4cbe-b03e-99be5638e392\" xlink:actuate=\"onRequest\" xlink:href=\"psysml:1d0a5b52-6a4c-4cbe-b03e-99be5638e392\" xlink:show=\"new\" xlink:title=\"psysml:1d0a5b52-6a4c-4cbe-b03e-99be5638e392\" xlink:type=\"simple\"><path d=\"M142.58,193.06 C138.59,210.7 128.88,235.34 118.95,252.98 \" fill=\"none\" id=\"E6-E8-1\" style=\"stroke: #A80036; stroke-width: 3.0;\"/><text fill=\"#000000\" font-family=\"sans-serif\" font-size=\"13\" lengthAdjust=\"spacingAndGlyphs\" textLength=\"7\" x=\"116.3709\" y=\"241.8709\">*</text></a><!--MD5=[b8416d5cdcc074f666558304685e7380]\n",
       "@startuml\r\n",
       " \r\n",
       "package \"AliasTest\" as E1  [[psysml:dccc75fb-db16-4804-85cb-688c27ce5ff3 ]]  {\r\n",
       "comp usage \"q :> Quantities::tensorQuantities\" as E2 << <<(U,orange) attribute>> [[psysml:ce72622b-28d6-4d09-bee8-b5dd20a40a54 ]] {\r\n",
       "}\r\n",
       "comp def \"P1\" as E3 << << (B,green) >> [[psysml:61eb2658-da6c-419b-a94e-058b00326cab ]] {\r\n",
       "}\r\n",
       "comp usage \"porig1\" as E4 << << (P,blue) port>> [[psysml:9ae2babd-6d67-4765-bfe5-8d775f3bcf42 ]] {\r\n",
       "}\r\n",
       "comp usage \"p1: P1 \" as E5 << << (P,limegreen) part>> [[psysml:11b2a6df-aab5-4dc5-a120-8a7b1f52b05c ]] {\r\n",
       "}\r\n",
       "comp usage \"po1\" as E6 << << (P,blue) port>> [[psysml:a231442e-2600-41cf-892c-df88027eb505 ]] {\r\n",
       "}\r\n",
       "comp usage \"p2: P1 \" as E7 << << (P,limegreen) part>> [[psysml:2c2598c5-3ef5-4f1d-ae32-f3d429fa4c2f ]] {\r\n",
       "}\r\n",
       "comp usage \"pdest\" as E8 << << (P,blue) port>> [[psysml:10820d16-405d-40a2-9551-06e34552661e ]] {\r\n",
       "}\r\n",
       "}\r\n",
       "E3 o- - \"1\"E4 [[psysml:8e3ccc77-0a8c-4c0b-a5d7-07a6acaf5014 ]] \r\n",
       "E3 +.. \"1\"E4 [[psysml:408c218d-2c50-4f10-8495-de57c6cccdaf ]] \r\n",
       "E5 - -:|> E3 [[psysml:39d7aa17-d9aa-4290-8253-e0b073366074 ]] \r\n",
       "E5 o- - \"1\"E6 [[psysml:0602bff9-807d-4c23-b932-30af011e0640 ]] \r\n",
       "E6 - -||> E4 [[psysml:5ed5dee3-04af-484b-a73a-bf3d62fb0484 ]] \r\n",
       "E7 - -:|> E3 [[psysml:6afc3f94-967f-4ac8-9c89-c7c9ad6aa496 ]] \r\n",
       "E7 o- - \"1\"E8 [[psysml:9a63abc5-83ea-4d36-8ec2-a9e5009e1a31 ]] \r\n",
       "E7 +.. \"1\"E8 [[psysml:af85dbb9-a19a-4dbd-bd41-700a2e1e88fd ]] \r\n",
       "E6 -[thickness=3]- \"*\"E8 [[psysml:ee24455c-c65b-41eb-8958-74c54e28cd84 ]] \r\n",
       "E6 -[thickness=3]- \"*\"E8 [[psysml:1d0a5b52-6a4c-4cbe-b03e-99be5638e392 ]] \r\n",
       "@enduml\r\n",
       "\n",
       "PlantUML version 1.2020.13(Sat Jun 13 12:26:38 UTC 2020)\n",
       "(EPL source distribution)\n",
       "Java Runtime: OpenJDK Runtime Environment\n",
       "JVM: OpenJDK 64-Bit Server VM\n",
       "Default Encoding: UTF-8\n",
       "Language: en\n",
       "Country: null\n",
       "--></g></svg>"
      ]
     },
     "execution_count": 36,
     "metadata": {},
     "output_type": "execute_result"
    }
   ],
   "source": [
    "%viz --style=\"PLANTUML\" --view=\"MIXED\" \"AliasTest\""
   ]
  },
  {
   "cell_type": "code",
   "execution_count": 37,
   "id": "ce960bd4",
   "metadata": {
    "execution": {
     "iopub.execute_input": "2021-10-25T08:23:54.680928Z",
     "iopub.status.busy": "2021-10-25T08:23:54.680497Z",
     "iopub.status.idle": "2021-10-25T08:23:54.713809Z",
     "shell.execute_reply": "2021-10-25T08:23:54.713425Z"
    }
   },
   "outputs": [
    {
     "data": {
      "image/svg+xml": [
       "<?xml version=\"1.0\" encoding=\"UTF-8\" standalone=\"no\"?><svg xmlns=\"http://www.w3.org/2000/svg\" xmlns:xlink=\"http://www.w3.org/1999/xlink\" contentScriptType=\"application/ecmascript\" contentStyleType=\"text/css\" height=\"327px\" preserveAspectRatio=\"none\" style=\"width:453px;height:327px;\" version=\"1.1\" viewBox=\"0 0 453 327\" width=\"453px\" zoomAndPan=\"magnify\"><defs/><g><!--MD5=[fbc87193dbaf4d95561dea2c320d4a47]\n",
       "cluster E1--><a href=\"psysml:dccc75fb-db16-4804-85cb-688c27ce5ff3\" target=\"_top\" title=\"psysml:dccc75fb-db16-4804-85cb-688c27ce5ff3\" xlink:actuate=\"onRequest\" xlink:href=\"psysml:dccc75fb-db16-4804-85cb-688c27ce5ff3\" xlink:show=\"new\" xlink:title=\"psysml:dccc75fb-db16-4804-85cb-688c27ce5ff3\" xlink:type=\"simple\"><polygon fill=\"#FFFFFF\" points=\"16,6,84,6,91,28.2969,431,28.2969,431,315,16,315,16,6\" style=\"stroke: #000000; stroke-width: 1.5;\"/><line style=\"stroke: #000000; stroke-width: 1.5;\" x1=\"16\" x2=\"91\" y1=\"28.2969\" y2=\"28.2969\"/><text fill=\"#000000\" font-family=\"sans-serif\" font-size=\"14\" font-weight=\"bold\" lengthAdjust=\"spacingAndGlyphs\" textLength=\"62\" x=\"20\" y=\"20.9951\">AliasTest</text></a><!--MD5=[b4997ac47864f28c2f74865a473b2911]\n",
       "class E2--><a href=\"psysml:ce72622b-28d6-4d09-bee8-b5dd20a40a54\" target=\"_top\" title=\"psysml:ce72622b-28d6-4d09-bee8-b5dd20a40a54\" xlink:actuate=\"onRequest\" xlink:href=\"psysml:ce72622b-28d6-4d09-bee8-b5dd20a40a54\" xlink:show=\"new\" xlink:title=\"psysml:ce72622b-28d6-4d09-bee8-b5dd20a40a54\" xlink:type=\"simple\"><rect fill=\"#FFFFFF\" height=\"45.9375\" id=\"E2\" rx=\"10\" ry=\"10\" style=\"stroke: #383838; stroke-width: 1.5;\" width=\"213\" x=\"202.5\" y=\"41\"/><text fill=\"#000000\" font-family=\"sans-serif\" font-size=\"12\" font-style=\"italic\" lengthAdjust=\"spacingAndGlyphs\" textLength=\"69\" x=\"274.5\" y=\"57.1387\">«attribute»</text><text fill=\"#000000\" font-family=\"sans-serif\" font-size=\"12\" lengthAdjust=\"spacingAndGlyphs\" textLength=\"207\" x=\"205.5\" y=\"71.1074\">q :&gt; Quantities::tensorQuantities</text><line style=\"stroke: #383838; stroke-width: 1.5;\" x1=\"203.5\" x2=\"414.5\" y1=\"78.9375\" y2=\"78.9375\"/></a><!--MD5=[09b614a08d8cba4a07c9adeb5e0fee81]\n",
       "class E3--><a href=\"psysml:61eb2658-da6c-419b-a94e-058b00326cab\" target=\"_top\" title=\"psysml:61eb2658-da6c-419b-a94e-058b00326cab\" xlink:actuate=\"onRequest\" xlink:href=\"psysml:61eb2658-da6c-419b-a94e-058b00326cab\" xlink:show=\"new\" xlink:title=\"psysml:61eb2658-da6c-419b-a94e-058b00326cab\" xlink:type=\"simple\"><rect fill=\"#FFFFFF\" height=\"45.9375\" id=\"E3\" style=\"stroke: #383838; stroke-width: 1.5;\" width=\"70\" x=\"170\" y=\"147\"/><text fill=\"#000000\" font-family=\"sans-serif\" font-size=\"12\" font-style=\"italic\" lengthAdjust=\"spacingAndGlyphs\" textLength=\"68\" x=\"171\" y=\"163.1387\">«part  def»</text><text fill=\"#000000\" font-family=\"sans-serif\" font-size=\"12\" lengthAdjust=\"spacingAndGlyphs\" textLength=\"16\" x=\"197\" y=\"177.1074\">P1</text><line style=\"stroke: #383838; stroke-width: 1.5;\" x1=\"171\" x2=\"239\" y1=\"184.9375\" y2=\"184.9375\"/></a><!--MD5=[ebbe1d658d1005bcc118a6aa81145e00]\n",
       "class E4--><a href=\"psysml:9ae2babd-6d67-4765-bfe5-8d775f3bcf42\" target=\"_top\" title=\"psysml:9ae2babd-6d67-4765-bfe5-8d775f3bcf42\" xlink:actuate=\"onRequest\" xlink:href=\"psysml:9ae2babd-6d67-4765-bfe5-8d775f3bcf42\" xlink:show=\"new\" xlink:title=\"psysml:9ae2babd-6d67-4765-bfe5-8d775f3bcf42\" xlink:type=\"simple\"><rect fill=\"#FFFFFF\" height=\"45.9375\" id=\"E4\" rx=\"10\" ry=\"10\" style=\"stroke: #383838; stroke-width: 1.5;\" width=\"46\" x=\"182\" y=\"253\"/><text fill=\"#000000\" font-family=\"sans-serif\" font-size=\"12\" font-style=\"italic\" lengthAdjust=\"spacingAndGlyphs\" textLength=\"40\" x=\"185\" y=\"269.1387\">«port»</text><text fill=\"#000000\" font-family=\"sans-serif\" font-size=\"12\" lengthAdjust=\"spacingAndGlyphs\" textLength=\"40\" x=\"185\" y=\"283.1074\">porig1</text><line style=\"stroke: #383838; stroke-width: 1.5;\" x1=\"183\" x2=\"227\" y1=\"290.9375\" y2=\"290.9375\"/></a><!--MD5=[270fce915f116d4de14055a7c1d9a0f3]\n",
       "class E5--><a href=\"psysml:11b2a6df-aab5-4dc5-a120-8a7b1f52b05c\" target=\"_top\" title=\"psysml:11b2a6df-aab5-4dc5-a120-8a7b1f52b05c\" xlink:actuate=\"onRequest\" xlink:href=\"psysml:11b2a6df-aab5-4dc5-a120-8a7b1f52b05c\" xlink:show=\"new\" xlink:title=\"psysml:11b2a6df-aab5-4dc5-a120-8a7b1f52b05c\" xlink:type=\"simple\"><rect fill=\"#FFFFFF\" height=\"45.9375\" id=\"E5\" rx=\"10\" ry=\"10\" style=\"stroke: #383838; stroke-width: 1.5;\" width=\"50\" x=\"117\" y=\"41\"/><text fill=\"#000000\" font-family=\"sans-serif\" font-size=\"12\" font-style=\"italic\" lengthAdjust=\"spacingAndGlyphs\" textLength=\"40\" x=\"122\" y=\"57.1387\">«part»</text><text fill=\"#000000\" font-family=\"sans-serif\" font-size=\"12\" lengthAdjust=\"spacingAndGlyphs\" textLength=\"40\" x=\"120\" y=\"71.1074\">p1: P1</text><line style=\"stroke: #383838; stroke-width: 1.5;\" x1=\"118\" x2=\"166\" y1=\"78.9375\" y2=\"78.9375\"/></a><!--MD5=[60a26617385b1d2d0262a64233df1f8d]\n",
       "class E6--><a href=\"psysml:a231442e-2600-41cf-892c-df88027eb505\" target=\"_top\" title=\"psysml:a231442e-2600-41cf-892c-df88027eb505\" xlink:actuate=\"onRequest\" xlink:href=\"psysml:a231442e-2600-41cf-892c-df88027eb505\" xlink:show=\"new\" xlink:title=\"psysml:a231442e-2600-41cf-892c-df88027eb505\" xlink:type=\"simple\"><rect fill=\"#FFFFFF\" height=\"45.9375\" id=\"E6\" rx=\"10\" ry=\"10\" style=\"stroke: #383838; stroke-width: 1.5;\" width=\"42\" x=\"93\" y=\"147\"/><text fill=\"#000000\" font-family=\"sans-serif\" font-size=\"12\" font-style=\"italic\" lengthAdjust=\"spacingAndGlyphs\" textLength=\"40\" x=\"94\" y=\"163.1387\">«port»</text><text fill=\"#000000\" font-family=\"sans-serif\" font-size=\"12\" lengthAdjust=\"spacingAndGlyphs\" textLength=\"24\" x=\"102\" y=\"177.1074\">po1</text><line style=\"stroke: #383838; stroke-width: 1.5;\" x1=\"94\" x2=\"134\" y1=\"184.9375\" y2=\"184.9375\"/></a><!--MD5=[2156ba9850f5573cc1fc38a6a4b2f02b]\n",
       "class E7--><a href=\"psysml:2c2598c5-3ef5-4f1d-ae32-f3d429fa4c2f\" target=\"_top\" title=\"psysml:2c2598c5-3ef5-4f1d-ae32-f3d429fa4c2f\" xlink:actuate=\"onRequest\" xlink:href=\"psysml:2c2598c5-3ef5-4f1d-ae32-f3d429fa4c2f\" xlink:show=\"new\" xlink:title=\"psysml:2c2598c5-3ef5-4f1d-ae32-f3d429fa4c2f\" xlink:type=\"simple\"><rect fill=\"#FFFFFF\" height=\"45.9375\" id=\"E7\" rx=\"10\" ry=\"10\" style=\"stroke: #383838; stroke-width: 1.5;\" width=\"50\" x=\"32\" y=\"41\"/><text fill=\"#000000\" font-family=\"sans-serif\" font-size=\"12\" font-style=\"italic\" lengthAdjust=\"spacingAndGlyphs\" textLength=\"40\" x=\"37\" y=\"57.1387\">«part»</text><text fill=\"#000000\" font-family=\"sans-serif\" font-size=\"12\" lengthAdjust=\"spacingAndGlyphs\" textLength=\"40\" x=\"35\" y=\"71.1074\">p2: P1</text><line style=\"stroke: #383838; stroke-width: 1.5;\" x1=\"33\" x2=\"81\" y1=\"78.9375\" y2=\"78.9375\"/></a><!--MD5=[b9389687b975829384b498ac4b7476b2]\n",
       "class E8--><a href=\"psysml:10820d16-405d-40a2-9551-06e34552661e\" target=\"_top\" title=\"psysml:10820d16-405d-40a2-9551-06e34552661e\" xlink:actuate=\"onRequest\" xlink:href=\"psysml:10820d16-405d-40a2-9551-06e34552661e\" xlink:show=\"new\" xlink:title=\"psysml:10820d16-405d-40a2-9551-06e34552661e\" xlink:type=\"simple\"><rect fill=\"#FFFFFF\" height=\"45.9375\" id=\"E8\" rx=\"10\" ry=\"10\" style=\"stroke: #383838; stroke-width: 1.5;\" width=\"42\" x=\"65\" y=\"253\"/><text fill=\"#000000\" font-family=\"sans-serif\" font-size=\"12\" font-style=\"italic\" lengthAdjust=\"spacingAndGlyphs\" textLength=\"40\" x=\"66\" y=\"269.1387\">«port»</text><text fill=\"#000000\" font-family=\"sans-serif\" font-size=\"12\" lengthAdjust=\"spacingAndGlyphs\" textLength=\"36\" x=\"68\" y=\"283.1074\">pdest</text><line style=\"stroke: #383838; stroke-width: 1.5;\" x1=\"66\" x2=\"106\" y1=\"290.9375\" y2=\"290.9375\"/></a><!--MD5=[4672eba38e49728da53d11aeb285b987]\n",
       "reverse link E3 to E4--><a href=\"psysml:8e3ccc77-0a8c-4c0b-a5d7-07a6acaf5014\" target=\"_top\" title=\"psysml:8e3ccc77-0a8c-4c0b-a5d7-07a6acaf5014\" xlink:actuate=\"onRequest\" xlink:href=\"psysml:8e3ccc77-0a8c-4c0b-a5d7-07a6acaf5014\" xlink:show=\"new\" xlink:title=\"psysml:8e3ccc77-0a8c-4c0b-a5d7-07a6acaf5014\" xlink:type=\"simple\"><path d=\"M192.84,206.44 C191.7,221.87 192.21,239.47 194.36,252.98 \" fill=\"none\" id=\"E3&lt;-E4\" style=\"stroke: #383838; stroke-width: 1.0;\"/><polygon fill=\"#FFFFFF\" points=\"194.35,193.06,189.7032,198.5743,193.006,204.9845,197.6528,199.4702,194.35,193.06\" style=\"stroke: #383838; stroke-width: 1.0;\"/><text fill=\"#000000\" font-family=\"sans-serif\" font-size=\"13\" lengthAdjust=\"spacingAndGlyphs\" textLength=\"8\" x=\"182.4255\" y=\"241.8709\">1</text></a><!--MD5=[4672eba38e49728da53d11aeb285b987]\n",
       "reverse link E3 to E4--><a href=\"psysml:408c218d-2c50-4f10-8495-de57c6cccdaf\" target=\"_top\" title=\"psysml:408c218d-2c50-4f10-8495-de57c6cccdaf\" xlink:actuate=\"onRequest\" xlink:href=\"psysml:408c218d-2c50-4f10-8495-de57c6cccdaf\" xlink:show=\"new\" xlink:title=\"psysml:408c218d-2c50-4f10-8495-de57c6cccdaf\" xlink:type=\"simple\"><path d=\"M218.01,208.34 C219.03,223.3 218.45,240.02 216.27,252.98 \" fill=\"none\" id=\"E3&lt;-E4-1\" style=\"stroke: #383838; stroke-width: 1.0; stroke-dasharray: 7.0,7.0;\"/><ellipse cx=\"217.1693\" cy=\"201.0093\" fill=\"#FFFFFF\" rx=\"8\" ry=\"8\" style=\"stroke: #383838; stroke-width: 1.0;\"/><line style=\"stroke: #383838; stroke-width: 1.0;\" x1=\"218.0687\" x2=\"216.27\" y1=\"208.9586\" y2=\"193.06\"/><line style=\"stroke: #383838; stroke-width: 1.0;\" x1=\"209.2201\" x2=\"225.1186\" y1=\"201.9086\" y2=\"200.1099\"/><text fill=\"#000000\" font-family=\"sans-serif\" font-size=\"13\" lengthAdjust=\"spacingAndGlyphs\" textLength=\"8\" x=\"210.2238\" y=\"241.8709\">1</text></a><!--MD5=[e9be52314489bd878ff4c7144b63c9e1]\n",
       "link E5 to E3--><a href=\"psysml:39d7aa17-d9aa-4290-8253-e0b073366074\" target=\"_top\" title=\"psysml:39d7aa17-d9aa-4290-8253-e0b073366074\" xlink:actuate=\"onRequest\" xlink:href=\"psysml:39d7aa17-d9aa-4290-8253-e0b073366074\" xlink:show=\"new\" xlink:title=\"psysml:39d7aa17-d9aa-4290-8253-e0b073366074\" xlink:type=\"simple\"><path d=\"M155.36,87.06 C162.88,99.47 172.49,115.33 181.24,129.78 \" fill=\"none\" id=\"E5-&gt;E3\" style=\"stroke: #383838; stroke-width: 1.0;\"/><polygon fill=\"#FFFFFF\" points=\"191.66,146.98,175.8217,134.3646,187.792,127.1044,191.66,146.98\" style=\"stroke: #383838; stroke-width: 1.0;\"/><ellipse cx=\"174.5758\" cy=\"128.4538\" fill=\"#383838\" rx=\"2\" ry=\"2\" style=\"stroke: #383838; stroke-width: 1.0;\"/><ellipse cx=\"183.126\" cy=\"123.2679\" fill=\"#383838\" rx=\"2\" ry=\"2\" style=\"stroke: #383838; stroke-width: 1.0;\"/></a><!--MD5=[85d356282659285ab4b2cfe2f634dd2b]\n",
       "reverse link E5 to E6--><a href=\"psysml:0602bff9-807d-4c23-b932-30af011e0640\" target=\"_top\" title=\"psysml:0602bff9-807d-4c23-b932-30af011e0640\" xlink:actuate=\"onRequest\" xlink:href=\"psysml:0602bff9-807d-4c23-b932-30af011e0640\" xlink:show=\"new\" xlink:title=\"psysml:0602bff9-807d-4c23-b932-30af011e0640\" xlink:type=\"simple\"><path d=\"M132.59,99.96 C128.4,115.51 123.6,133.33 119.93,146.98 \" fill=\"none\" id=\"E5&lt;-E6\" style=\"stroke: #383838; stroke-width: 1.0;\"/><polygon fill=\"#FFFFFF\" points=\"136.06,87.06,130.641,91.8176,132.9484,98.6496,138.3674,93.892,136.06,87.06\" style=\"stroke: #383838; stroke-width: 1.0;\"/><text fill=\"#000000\" font-family=\"sans-serif\" font-size=\"13\" lengthAdjust=\"spacingAndGlyphs\" textLength=\"8\" x=\"112.4487\" y=\"135.8709\">1</text></a><!--MD5=[f667431f98296947986a1a7595a31603]\n",
       "link E6 to E4--><a href=\"psysml:5ed5dee3-04af-484b-a73a-bf3d62fb0484\" target=\"_top\" title=\"psysml:5ed5dee3-04af-484b-a73a-bf3d62fb0484\" xlink:actuate=\"onRequest\" xlink:href=\"psysml:5ed5dee3-04af-484b-a73a-bf3d62fb0484\" xlink:show=\"new\" xlink:title=\"psysml:5ed5dee3-04af-484b-a73a-bf3d62fb0484\" xlink:type=\"simple\"><path d=\"M133.3,193.06 C144.64,206.02 159.28,222.74 172.36,237.7 \" fill=\"none\" id=\"E6-&gt;E4\" style=\"stroke: #383838; stroke-width: 1.0;\"/><polygon fill=\"#FFFFFF\" points=\"185.73,252.98,167.9517,243.2882,178.489,234.0705,185.73,252.98\" style=\"stroke: #383838; stroke-width: 1.0;\"/><line style=\"stroke: #383838; stroke-width: 2.0;\" x1=\"165.4497\" x2=\"175.9871\" y1=\"240.4281\" y2=\"231.2104\"/></a><!--MD5=[14ccda38c055a5c0da953d572bc50960]\n",
       "link E7 to E3--><a href=\"psysml:6afc3f94-967f-4ac8-9c89-c7c9ad6aa496\" target=\"_top\" title=\"psysml:6afc3f94-967f-4ac8-9c89-c7c9ad6aa496\" xlink:actuate=\"onRequest\" xlink:href=\"psysml:6afc3f94-967f-4ac8-9c89-c7c9ad6aa496\" xlink:show=\"new\" xlink:title=\"psysml:6afc3f94-967f-4ac8-9c89-c7c9ad6aa496\" xlink:type=\"simple\"><path d=\"M82.11,82.64 C102.61,97.05 132.18,117.83 157.18,135.39 \" fill=\"none\" id=\"E7-&gt;E3\" style=\"stroke: #383838; stroke-width: 1.0;\"/><polygon fill=\"#FFFFFF\" points=\"173.58,146.92,154.011,141.7187,162.0629,130.266,173.58,146.92\" style=\"stroke: #383838; stroke-width: 1.0;\"/><ellipse cx=\"150.4983\" cy=\"136.8043\" fill=\"#383838\" rx=\"2\" ry=\"2\" style=\"stroke: #383838; stroke-width: 1.0;\"/><ellipse cx=\"156.2497\" cy=\"128.6238\" fill=\"#383838\" rx=\"2\" ry=\"2\" style=\"stroke: #383838; stroke-width: 1.0;\"/></a><!--MD5=[dc164f5e8a733ab456ef1add180e9e34]\n",
       "reverse link E7 to E8--><a href=\"psysml:9a63abc5-83ea-4d36-8ec2-a9e5009e1a31\" target=\"_top\" title=\"psysml:9a63abc5-83ea-4d36-8ec2-a9e5009e1a31\" xlink:actuate=\"onRequest\" xlink:href=\"psysml:9a63abc5-83ea-4d36-8ec2-a9e5009e1a31\" xlink:show=\"new\" xlink:title=\"psysml:9a63abc5-83ea-4d36-8ec2-a9e5009e1a31\" xlink:type=\"simple\"><path d=\"M52.05,100.09 C53.65,143.61 64.25,216.5 74.75,252.9 \" fill=\"none\" id=\"E7&lt;-E8\" style=\"stroke: #383838; stroke-width: 1.0;\"/><polygon fill=\"#FFFFFF\" points=\"51.85,87.08,47.9362,93.1366,52.0216,99.0788,55.9354,93.0222,51.85,87.08\" style=\"stroke: #383838; stroke-width: 1.0;\"/><text fill=\"#000000\" font-family=\"sans-serif\" font-size=\"13\" lengthAdjust=\"spacingAndGlyphs\" textLength=\"8\" x=\"62.6516\" y=\"241.7694\">1</text></a><!--MD5=[dc164f5e8a733ab456ef1add180e9e34]\n",
       "reverse link E7 to E8--><a href=\"psysml:af85dbb9-a19a-4dbd-bd41-700a2e1e88fd\" target=\"_top\" title=\"psysml:af85dbb9-a19a-4dbd-bd41-700a2e1e88fd\" xlink:actuate=\"onRequest\" xlink:href=\"psysml:af85dbb9-a19a-4dbd-bd41-700a2e1e88fd\" xlink:show=\"new\" xlink:title=\"psysml:af85dbb9-a19a-4dbd-bd41-700a2e1e88fd\" xlink:type=\"simple\"><path d=\"M72.64,101.8 C83.15,145.5 92.39,216.97 91.63,252.9 \" fill=\"none\" id=\"E7&lt;-E8-1\" style=\"stroke: #383838; stroke-width: 1.0; stroke-dasharray: 7.0,7.0;\"/><ellipse cx=\"70.7794\" cy=\"94.813\" fill=\"#FFFFFF\" rx=\"8\" ry=\"8\" style=\"stroke: #383838; stroke-width: 1.0;\"/><line style=\"stroke: #383838; stroke-width: 1.0;\" x1=\"72.8289\" x2=\"68.73\" y1=\"102.5461\" y2=\"87.08\"/><line style=\"stroke: #383838; stroke-width: 1.0;\" x1=\"63.0464\" x2=\"78.5125\" y1=\"96.8625\" y2=\"92.7636\"/><text fill=\"#000000\" font-family=\"sans-serif\" font-size=\"13\" lengthAdjust=\"spacingAndGlyphs\" textLength=\"8\" x=\"94.2181\" y=\"241.7694\">1</text></a><!--MD5=[0a839d0f80c2d72d4b9b307f046d0de8]\n",
       "link E6 to E8--><a href=\"psysml:ee24455c-c65b-41eb-8958-74c54e28cd84\" target=\"_top\" title=\"psysml:ee24455c-c65b-41eb-8958-74c54e28cd84\" xlink:actuate=\"onRequest\" xlink:href=\"psysml:ee24455c-c65b-41eb-8958-74c54e28cd84\" xlink:show=\"new\" xlink:title=\"psysml:ee24455c-c65b-41eb-8958-74c54e28cd84\" xlink:type=\"simple\"><path d=\"M97.42,193.06 C89.86,210.7 83.23,235.34 81.29,252.98 \" fill=\"none\" id=\"E6-E8\" style=\"stroke: #383838; stroke-width: 3.0;\"/><text fill=\"#000000\" font-family=\"sans-serif\" font-size=\"13\" lengthAdjust=\"spacingAndGlyphs\" textLength=\"7\" x=\"80.9648\" y=\"241.8709\">*</text></a><!--MD5=[0a839d0f80c2d72d4b9b307f046d0de8]\n",
       "link E6 to E8--><a href=\"psysml:1d0a5b52-6a4c-4cbe-b03e-99be5638e392\" target=\"_top\" title=\"psysml:1d0a5b52-6a4c-4cbe-b03e-99be5638e392\" xlink:actuate=\"onRequest\" xlink:href=\"psysml:1d0a5b52-6a4c-4cbe-b03e-99be5638e392\" xlink:show=\"new\" xlink:title=\"psysml:1d0a5b52-6a4c-4cbe-b03e-99be5638e392\" xlink:type=\"simple\"><path d=\"M119.33,193.06 C117.55,210.7 110.92,235.34 103.2,252.98 \" fill=\"none\" id=\"E6-E8-1\" style=\"stroke: #383838; stroke-width: 3.0;\"/><text fill=\"#000000\" font-family=\"sans-serif\" font-size=\"13\" lengthAdjust=\"spacingAndGlyphs\" textLength=\"7\" x=\"99.8819\" y=\"241.8709\">*</text></a><!--MD5=[63445bfc2b2f7190e68c1cbe803b9cc7]\n",
       "@startuml\r\n",
       "skinparam monochrome true\r\n",
       "skinparam classbackgroundcolor white\r\n",
       "skinparam shadowing false\r\n",
       "skinparam wrapWidth 300\r\n",
       "hide circle\r\n",
       "\r\n",
       "package \"AliasTest\" as E1  [[psysml:dccc75fb-db16-4804-85cb-688c27ce5ff3 ]]  {\r\n",
       "comp usage \"q :> Quantities::tensorQuantities\" as E2  <<(T,blue) attribute>> [[psysml:ce72622b-28d6-4d09-bee8-b5dd20a40a54 ]] {\r\n",
       "}\r\n",
       "comp def \"P1\" as E3  <<(T,blue) part  def>> [[psysml:61eb2658-da6c-419b-a94e-058b00326cab ]] {\r\n",
       "}\r\n",
       "comp usage \"porig1\" as E4  <<(T,blue) port>> [[psysml:9ae2babd-6d67-4765-bfe5-8d775f3bcf42 ]] {\r\n",
       "}\r\n",
       "comp usage \"p1: P1 \" as E5  <<(T,blue) part>> [[psysml:11b2a6df-aab5-4dc5-a120-8a7b1f52b05c ]] {\r\n",
       "}\r\n",
       "comp usage \"po1\" as E6  <<(T,blue) port>> [[psysml:a231442e-2600-41cf-892c-df88027eb505 ]] {\r\n",
       "}\r\n",
       "comp usage \"p2: P1 \" as E7  <<(T,blue) part>> [[psysml:2c2598c5-3ef5-4f1d-ae32-f3d429fa4c2f ]] {\r\n",
       "}\r\n",
       "comp usage \"pdest\" as E8  <<(T,blue) port>> [[psysml:10820d16-405d-40a2-9551-06e34552661e ]] {\r\n",
       "}\r\n",
       "}\r\n",
       "E3 o- - \"1\"E4 [[psysml:8e3ccc77-0a8c-4c0b-a5d7-07a6acaf5014 ]] \r\n",
       "E3 +.. \"1\"E4 [[psysml:408c218d-2c50-4f10-8495-de57c6cccdaf ]] \r\n",
       "E5 - -:|> E3 [[psysml:39d7aa17-d9aa-4290-8253-e0b073366074 ]] \r\n",
       "E5 o- - \"1\"E6 [[psysml:0602bff9-807d-4c23-b932-30af011e0640 ]] \r\n",
       "E6 - -||> E4 [[psysml:5ed5dee3-04af-484b-a73a-bf3d62fb0484 ]] \r\n",
       "E7 - -:|> E3 [[psysml:6afc3f94-967f-4ac8-9c89-c7c9ad6aa496 ]] \r\n",
       "E7 o- - \"1\"E8 [[psysml:9a63abc5-83ea-4d36-8ec2-a9e5009e1a31 ]] \r\n",
       "E7 +.. \"1\"E8 [[psysml:af85dbb9-a19a-4dbd-bd41-700a2e1e88fd ]] \r\n",
       "E6 -[thickness=3]- \"*\"E8 [[psysml:ee24455c-c65b-41eb-8958-74c54e28cd84 ]] \r\n",
       "E6 -[thickness=3]- \"*\"E8 [[psysml:1d0a5b52-6a4c-4cbe-b03e-99be5638e392 ]] \r\n",
       "@enduml\r\n",
       "\n",
       "PlantUML version 1.2020.13(Sat Jun 13 12:26:38 UTC 2020)\n",
       "(EPL source distribution)\n",
       "Java Runtime: OpenJDK Runtime Environment\n",
       "JVM: OpenJDK 64-Bit Server VM\n",
       "Default Encoding: UTF-8\n",
       "Language: en\n",
       "Country: null\n",
       "--></g></svg>"
      ]
     },
     "execution_count": 37,
     "metadata": {},
     "output_type": "execute_result"
    }
   ],
   "source": [
    "%viz --style=\"DEFAULT\" --view=\"Default\" \"AliasTest\""
   ]
  },
  {
   "cell_type": "code",
   "execution_count": 38,
   "id": "3f605cce",
   "metadata": {
    "execution": {
     "iopub.execute_input": "2021-10-25T08:23:54.763092Z",
     "iopub.status.busy": "2021-10-25T08:23:54.762684Z",
     "iopub.status.idle": "2021-10-25T08:23:54.800505Z",
     "shell.execute_reply": "2021-10-25T08:23:54.800120Z"
    }
   },
   "outputs": [
    {
     "data": {
      "image/svg+xml": [
       "<?xml version=\"1.0\" encoding=\"UTF-8\" standalone=\"no\"?><svg xmlns=\"http://www.w3.org/2000/svg\" xmlns:xlink=\"http://www.w3.org/1999/xlink\" contentScriptType=\"application/ecmascript\" contentStyleType=\"text/css\" height=\"327px\" preserveAspectRatio=\"none\" style=\"width:453px;height:327px;\" version=\"1.1\" viewBox=\"0 0 453 327\" width=\"453px\" zoomAndPan=\"magnify\"><defs/><g><!--MD5=[fbc87193dbaf4d95561dea2c320d4a47]\n",
       "cluster E1--><a href=\"psysml:dccc75fb-db16-4804-85cb-688c27ce5ff3\" target=\"_top\" title=\"psysml:dccc75fb-db16-4804-85cb-688c27ce5ff3\" xlink:actuate=\"onRequest\" xlink:href=\"psysml:dccc75fb-db16-4804-85cb-688c27ce5ff3\" xlink:show=\"new\" xlink:title=\"psysml:dccc75fb-db16-4804-85cb-688c27ce5ff3\" xlink:type=\"simple\"><polygon fill=\"#FFFFFF\" points=\"16,6,84,6,91,28.2969,431,28.2969,431,315,16,315,16,6\" style=\"stroke: #000000; stroke-width: 1.5;\"/><line style=\"stroke: #000000; stroke-width: 1.5;\" x1=\"16\" x2=\"91\" y1=\"28.2969\" y2=\"28.2969\"/><text fill=\"#000000\" font-family=\"sans-serif\" font-size=\"14\" font-weight=\"bold\" lengthAdjust=\"spacingAndGlyphs\" textLength=\"62\" x=\"20\" y=\"20.9951\">AliasTest</text></a><!--MD5=[b4997ac47864f28c2f74865a473b2911]\n",
       "class E2--><a href=\"psysml:ce72622b-28d6-4d09-bee8-b5dd20a40a54\" target=\"_top\" title=\"psysml:ce72622b-28d6-4d09-bee8-b5dd20a40a54\" xlink:actuate=\"onRequest\" xlink:href=\"psysml:ce72622b-28d6-4d09-bee8-b5dd20a40a54\" xlink:show=\"new\" xlink:title=\"psysml:ce72622b-28d6-4d09-bee8-b5dd20a40a54\" xlink:type=\"simple\"><rect fill=\"#FFFFFF\" height=\"45.9375\" id=\"E2\" rx=\"10\" ry=\"10\" style=\"stroke: #383838; stroke-width: 1.5;\" width=\"213\" x=\"202.5\" y=\"41\"/><text fill=\"#000000\" font-family=\"sans-serif\" font-size=\"12\" font-style=\"italic\" lengthAdjust=\"spacingAndGlyphs\" textLength=\"69\" x=\"274.5\" y=\"57.1387\">«attribute»</text><text fill=\"#000000\" font-family=\"sans-serif\" font-size=\"12\" lengthAdjust=\"spacingAndGlyphs\" textLength=\"207\" x=\"205.5\" y=\"71.1074\">q :&gt; Quantities::tensorQuantities</text><line style=\"stroke: #383838; stroke-width: 1.5;\" x1=\"203.5\" x2=\"414.5\" y1=\"78.9375\" y2=\"78.9375\"/></a><!--MD5=[09b614a08d8cba4a07c9adeb5e0fee81]\n",
       "class E3--><a href=\"psysml:61eb2658-da6c-419b-a94e-058b00326cab\" target=\"_top\" title=\"psysml:61eb2658-da6c-419b-a94e-058b00326cab\" xlink:actuate=\"onRequest\" xlink:href=\"psysml:61eb2658-da6c-419b-a94e-058b00326cab\" xlink:show=\"new\" xlink:title=\"psysml:61eb2658-da6c-419b-a94e-058b00326cab\" xlink:type=\"simple\"><rect fill=\"#FFFFFF\" height=\"45.9375\" id=\"E3\" style=\"stroke: #383838; stroke-width: 1.5;\" width=\"70\" x=\"170\" y=\"147\"/><text fill=\"#000000\" font-family=\"sans-serif\" font-size=\"12\" font-style=\"italic\" lengthAdjust=\"spacingAndGlyphs\" textLength=\"68\" x=\"171\" y=\"163.1387\">«part  def»</text><text fill=\"#000000\" font-family=\"sans-serif\" font-size=\"12\" lengthAdjust=\"spacingAndGlyphs\" textLength=\"16\" x=\"197\" y=\"177.1074\">P1</text><line style=\"stroke: #383838; stroke-width: 1.5;\" x1=\"171\" x2=\"239\" y1=\"184.9375\" y2=\"184.9375\"/></a><!--MD5=[ebbe1d658d1005bcc118a6aa81145e00]\n",
       "class E4--><a href=\"psysml:9ae2babd-6d67-4765-bfe5-8d775f3bcf42\" target=\"_top\" title=\"psysml:9ae2babd-6d67-4765-bfe5-8d775f3bcf42\" xlink:actuate=\"onRequest\" xlink:href=\"psysml:9ae2babd-6d67-4765-bfe5-8d775f3bcf42\" xlink:show=\"new\" xlink:title=\"psysml:9ae2babd-6d67-4765-bfe5-8d775f3bcf42\" xlink:type=\"simple\"><rect fill=\"#FFFFFF\" height=\"45.9375\" id=\"E4\" rx=\"10\" ry=\"10\" style=\"stroke: #383838; stroke-width: 1.5;\" width=\"46\" x=\"182\" y=\"253\"/><text fill=\"#000000\" font-family=\"sans-serif\" font-size=\"12\" font-style=\"italic\" lengthAdjust=\"spacingAndGlyphs\" textLength=\"40\" x=\"185\" y=\"269.1387\">«port»</text><text fill=\"#000000\" font-family=\"sans-serif\" font-size=\"12\" lengthAdjust=\"spacingAndGlyphs\" textLength=\"40\" x=\"185\" y=\"283.1074\">porig1</text><line style=\"stroke: #383838; stroke-width: 1.5;\" x1=\"183\" x2=\"227\" y1=\"290.9375\" y2=\"290.9375\"/></a><!--MD5=[270fce915f116d4de14055a7c1d9a0f3]\n",
       "class E5--><a href=\"psysml:11b2a6df-aab5-4dc5-a120-8a7b1f52b05c\" target=\"_top\" title=\"psysml:11b2a6df-aab5-4dc5-a120-8a7b1f52b05c\" xlink:actuate=\"onRequest\" xlink:href=\"psysml:11b2a6df-aab5-4dc5-a120-8a7b1f52b05c\" xlink:show=\"new\" xlink:title=\"psysml:11b2a6df-aab5-4dc5-a120-8a7b1f52b05c\" xlink:type=\"simple\"><rect fill=\"#FFFFFF\" height=\"45.9375\" id=\"E5\" rx=\"10\" ry=\"10\" style=\"stroke: #383838; stroke-width: 1.5;\" width=\"50\" x=\"117\" y=\"41\"/><text fill=\"#000000\" font-family=\"sans-serif\" font-size=\"12\" font-style=\"italic\" lengthAdjust=\"spacingAndGlyphs\" textLength=\"40\" x=\"122\" y=\"57.1387\">«part»</text><text fill=\"#000000\" font-family=\"sans-serif\" font-size=\"12\" lengthAdjust=\"spacingAndGlyphs\" textLength=\"40\" x=\"120\" y=\"71.1074\">p1: P1</text><line style=\"stroke: #383838; stroke-width: 1.5;\" x1=\"118\" x2=\"166\" y1=\"78.9375\" y2=\"78.9375\"/></a><!--MD5=[60a26617385b1d2d0262a64233df1f8d]\n",
       "class E6--><a href=\"psysml:a231442e-2600-41cf-892c-df88027eb505\" target=\"_top\" title=\"psysml:a231442e-2600-41cf-892c-df88027eb505\" xlink:actuate=\"onRequest\" xlink:href=\"psysml:a231442e-2600-41cf-892c-df88027eb505\" xlink:show=\"new\" xlink:title=\"psysml:a231442e-2600-41cf-892c-df88027eb505\" xlink:type=\"simple\"><rect fill=\"#FFFFFF\" height=\"45.9375\" id=\"E6\" rx=\"10\" ry=\"10\" style=\"stroke: #383838; stroke-width: 1.5;\" width=\"42\" x=\"93\" y=\"147\"/><text fill=\"#000000\" font-family=\"sans-serif\" font-size=\"12\" font-style=\"italic\" lengthAdjust=\"spacingAndGlyphs\" textLength=\"40\" x=\"94\" y=\"163.1387\">«port»</text><text fill=\"#000000\" font-family=\"sans-serif\" font-size=\"12\" lengthAdjust=\"spacingAndGlyphs\" textLength=\"24\" x=\"102\" y=\"177.1074\">po1</text><line style=\"stroke: #383838; stroke-width: 1.5;\" x1=\"94\" x2=\"134\" y1=\"184.9375\" y2=\"184.9375\"/></a><!--MD5=[2156ba9850f5573cc1fc38a6a4b2f02b]\n",
       "class E7--><a href=\"psysml:2c2598c5-3ef5-4f1d-ae32-f3d429fa4c2f\" target=\"_top\" title=\"psysml:2c2598c5-3ef5-4f1d-ae32-f3d429fa4c2f\" xlink:actuate=\"onRequest\" xlink:href=\"psysml:2c2598c5-3ef5-4f1d-ae32-f3d429fa4c2f\" xlink:show=\"new\" xlink:title=\"psysml:2c2598c5-3ef5-4f1d-ae32-f3d429fa4c2f\" xlink:type=\"simple\"><rect fill=\"#FFFFFF\" height=\"45.9375\" id=\"E7\" rx=\"10\" ry=\"10\" style=\"stroke: #383838; stroke-width: 1.5;\" width=\"50\" x=\"32\" y=\"41\"/><text fill=\"#000000\" font-family=\"sans-serif\" font-size=\"12\" font-style=\"italic\" lengthAdjust=\"spacingAndGlyphs\" textLength=\"40\" x=\"37\" y=\"57.1387\">«part»</text><text fill=\"#000000\" font-family=\"sans-serif\" font-size=\"12\" lengthAdjust=\"spacingAndGlyphs\" textLength=\"40\" x=\"35\" y=\"71.1074\">p2: P1</text><line style=\"stroke: #383838; stroke-width: 1.5;\" x1=\"33\" x2=\"81\" y1=\"78.9375\" y2=\"78.9375\"/></a><!--MD5=[b9389687b975829384b498ac4b7476b2]\n",
       "class E8--><a href=\"psysml:10820d16-405d-40a2-9551-06e34552661e\" target=\"_top\" title=\"psysml:10820d16-405d-40a2-9551-06e34552661e\" xlink:actuate=\"onRequest\" xlink:href=\"psysml:10820d16-405d-40a2-9551-06e34552661e\" xlink:show=\"new\" xlink:title=\"psysml:10820d16-405d-40a2-9551-06e34552661e\" xlink:type=\"simple\"><rect fill=\"#FFFFFF\" height=\"45.9375\" id=\"E8\" rx=\"10\" ry=\"10\" style=\"stroke: #383838; stroke-width: 1.5;\" width=\"42\" x=\"65\" y=\"253\"/><text fill=\"#000000\" font-family=\"sans-serif\" font-size=\"12\" font-style=\"italic\" lengthAdjust=\"spacingAndGlyphs\" textLength=\"40\" x=\"66\" y=\"269.1387\">«port»</text><text fill=\"#000000\" font-family=\"sans-serif\" font-size=\"12\" lengthAdjust=\"spacingAndGlyphs\" textLength=\"36\" x=\"68\" y=\"283.1074\">pdest</text><line style=\"stroke: #383838; stroke-width: 1.5;\" x1=\"66\" x2=\"106\" y1=\"290.9375\" y2=\"290.9375\"/></a><!--MD5=[4672eba38e49728da53d11aeb285b987]\n",
       "reverse link E3 to E4--><a href=\"psysml:8e3ccc77-0a8c-4c0b-a5d7-07a6acaf5014\" target=\"_top\" title=\"psysml:8e3ccc77-0a8c-4c0b-a5d7-07a6acaf5014\" xlink:actuate=\"onRequest\" xlink:href=\"psysml:8e3ccc77-0a8c-4c0b-a5d7-07a6acaf5014\" xlink:show=\"new\" xlink:title=\"psysml:8e3ccc77-0a8c-4c0b-a5d7-07a6acaf5014\" xlink:type=\"simple\"><path d=\"M192.84,206.44 C191.7,221.87 192.21,239.47 194.36,252.98 \" fill=\"none\" id=\"E3&lt;-E4\" style=\"stroke: #383838; stroke-width: 1.0;\"/><polygon fill=\"#FFFFFF\" points=\"194.35,193.06,189.7032,198.5743,193.006,204.9845,197.6528,199.4702,194.35,193.06\" style=\"stroke: #383838; stroke-width: 1.0;\"/><text fill=\"#000000\" font-family=\"sans-serif\" font-size=\"13\" lengthAdjust=\"spacingAndGlyphs\" textLength=\"8\" x=\"182.4255\" y=\"241.8709\">1</text></a><!--MD5=[4672eba38e49728da53d11aeb285b987]\n",
       "reverse link E3 to E4--><a href=\"psysml:408c218d-2c50-4f10-8495-de57c6cccdaf\" target=\"_top\" title=\"psysml:408c218d-2c50-4f10-8495-de57c6cccdaf\" xlink:actuate=\"onRequest\" xlink:href=\"psysml:408c218d-2c50-4f10-8495-de57c6cccdaf\" xlink:show=\"new\" xlink:title=\"psysml:408c218d-2c50-4f10-8495-de57c6cccdaf\" xlink:type=\"simple\"><path d=\"M218.01,208.34 C219.03,223.3 218.45,240.02 216.27,252.98 \" fill=\"none\" id=\"E3&lt;-E4-1\" style=\"stroke: #383838; stroke-width: 1.0; stroke-dasharray: 7.0,7.0;\"/><ellipse cx=\"217.1693\" cy=\"201.0093\" fill=\"#FFFFFF\" rx=\"8\" ry=\"8\" style=\"stroke: #383838; stroke-width: 1.0;\"/><line style=\"stroke: #383838; stroke-width: 1.0;\" x1=\"218.0687\" x2=\"216.27\" y1=\"208.9586\" y2=\"193.06\"/><line style=\"stroke: #383838; stroke-width: 1.0;\" x1=\"209.2201\" x2=\"225.1186\" y1=\"201.9086\" y2=\"200.1099\"/><text fill=\"#000000\" font-family=\"sans-serif\" font-size=\"13\" lengthAdjust=\"spacingAndGlyphs\" textLength=\"8\" x=\"210.2238\" y=\"241.8709\">1</text></a><!--MD5=[e9be52314489bd878ff4c7144b63c9e1]\n",
       "link E5 to E3--><a href=\"psysml:39d7aa17-d9aa-4290-8253-e0b073366074\" target=\"_top\" title=\"psysml:39d7aa17-d9aa-4290-8253-e0b073366074\" xlink:actuate=\"onRequest\" xlink:href=\"psysml:39d7aa17-d9aa-4290-8253-e0b073366074\" xlink:show=\"new\" xlink:title=\"psysml:39d7aa17-d9aa-4290-8253-e0b073366074\" xlink:type=\"simple\"><path d=\"M155.36,87.06 C162.88,99.47 172.49,115.33 181.24,129.78 \" fill=\"none\" id=\"E5-&gt;E3\" style=\"stroke: #383838; stroke-width: 1.0;\"/><polygon fill=\"#FFFFFF\" points=\"191.66,146.98,175.8217,134.3646,187.792,127.1044,191.66,146.98\" style=\"stroke: #383838; stroke-width: 1.0;\"/><ellipse cx=\"174.5758\" cy=\"128.4538\" fill=\"#383838\" rx=\"2\" ry=\"2\" style=\"stroke: #383838; stroke-width: 1.0;\"/><ellipse cx=\"183.126\" cy=\"123.2679\" fill=\"#383838\" rx=\"2\" ry=\"2\" style=\"stroke: #383838; stroke-width: 1.0;\"/></a><!--MD5=[85d356282659285ab4b2cfe2f634dd2b]\n",
       "reverse link E5 to E6--><a href=\"psysml:0602bff9-807d-4c23-b932-30af011e0640\" target=\"_top\" title=\"psysml:0602bff9-807d-4c23-b932-30af011e0640\" xlink:actuate=\"onRequest\" xlink:href=\"psysml:0602bff9-807d-4c23-b932-30af011e0640\" xlink:show=\"new\" xlink:title=\"psysml:0602bff9-807d-4c23-b932-30af011e0640\" xlink:type=\"simple\"><path d=\"M132.59,99.96 C128.4,115.51 123.6,133.33 119.93,146.98 \" fill=\"none\" id=\"E5&lt;-E6\" style=\"stroke: #383838; stroke-width: 1.0;\"/><polygon fill=\"#FFFFFF\" points=\"136.06,87.06,130.641,91.8176,132.9484,98.6496,138.3674,93.892,136.06,87.06\" style=\"stroke: #383838; stroke-width: 1.0;\"/><text fill=\"#000000\" font-family=\"sans-serif\" font-size=\"13\" lengthAdjust=\"spacingAndGlyphs\" textLength=\"8\" x=\"112.4487\" y=\"135.8709\">1</text></a><!--MD5=[f667431f98296947986a1a7595a31603]\n",
       "link E6 to E4--><a href=\"psysml:5ed5dee3-04af-484b-a73a-bf3d62fb0484\" target=\"_top\" title=\"psysml:5ed5dee3-04af-484b-a73a-bf3d62fb0484\" xlink:actuate=\"onRequest\" xlink:href=\"psysml:5ed5dee3-04af-484b-a73a-bf3d62fb0484\" xlink:show=\"new\" xlink:title=\"psysml:5ed5dee3-04af-484b-a73a-bf3d62fb0484\" xlink:type=\"simple\"><path d=\"M133.3,193.06 C144.64,206.02 159.28,222.74 172.36,237.7 \" fill=\"none\" id=\"E6-&gt;E4\" style=\"stroke: #383838; stroke-width: 1.0;\"/><polygon fill=\"#FFFFFF\" points=\"185.73,252.98,167.9517,243.2882,178.489,234.0705,185.73,252.98\" style=\"stroke: #383838; stroke-width: 1.0;\"/><line style=\"stroke: #383838; stroke-width: 2.0;\" x1=\"165.4497\" x2=\"175.9871\" y1=\"240.4281\" y2=\"231.2104\"/></a><!--MD5=[14ccda38c055a5c0da953d572bc50960]\n",
       "link E7 to E3--><a href=\"psysml:6afc3f94-967f-4ac8-9c89-c7c9ad6aa496\" target=\"_top\" title=\"psysml:6afc3f94-967f-4ac8-9c89-c7c9ad6aa496\" xlink:actuate=\"onRequest\" xlink:href=\"psysml:6afc3f94-967f-4ac8-9c89-c7c9ad6aa496\" xlink:show=\"new\" xlink:title=\"psysml:6afc3f94-967f-4ac8-9c89-c7c9ad6aa496\" xlink:type=\"simple\"><path d=\"M82.11,82.64 C102.61,97.05 132.18,117.83 157.18,135.39 \" fill=\"none\" id=\"E7-&gt;E3\" style=\"stroke: #383838; stroke-width: 1.0;\"/><polygon fill=\"#FFFFFF\" points=\"173.58,146.92,154.011,141.7187,162.0629,130.266,173.58,146.92\" style=\"stroke: #383838; stroke-width: 1.0;\"/><ellipse cx=\"150.4983\" cy=\"136.8043\" fill=\"#383838\" rx=\"2\" ry=\"2\" style=\"stroke: #383838; stroke-width: 1.0;\"/><ellipse cx=\"156.2497\" cy=\"128.6238\" fill=\"#383838\" rx=\"2\" ry=\"2\" style=\"stroke: #383838; stroke-width: 1.0;\"/></a><!--MD5=[dc164f5e8a733ab456ef1add180e9e34]\n",
       "reverse link E7 to E8--><a href=\"psysml:9a63abc5-83ea-4d36-8ec2-a9e5009e1a31\" target=\"_top\" title=\"psysml:9a63abc5-83ea-4d36-8ec2-a9e5009e1a31\" xlink:actuate=\"onRequest\" xlink:href=\"psysml:9a63abc5-83ea-4d36-8ec2-a9e5009e1a31\" xlink:show=\"new\" xlink:title=\"psysml:9a63abc5-83ea-4d36-8ec2-a9e5009e1a31\" xlink:type=\"simple\"><path d=\"M52.05,100.09 C53.65,143.61 64.25,216.5 74.75,252.9 \" fill=\"none\" id=\"E7&lt;-E8\" style=\"stroke: #383838; stroke-width: 1.0;\"/><polygon fill=\"#FFFFFF\" points=\"51.85,87.08,47.9362,93.1366,52.0216,99.0788,55.9354,93.0222,51.85,87.08\" style=\"stroke: #383838; stroke-width: 1.0;\"/><text fill=\"#000000\" font-family=\"sans-serif\" font-size=\"13\" lengthAdjust=\"spacingAndGlyphs\" textLength=\"8\" x=\"62.6516\" y=\"241.7694\">1</text></a><!--MD5=[dc164f5e8a733ab456ef1add180e9e34]\n",
       "reverse link E7 to E8--><a href=\"psysml:af85dbb9-a19a-4dbd-bd41-700a2e1e88fd\" target=\"_top\" title=\"psysml:af85dbb9-a19a-4dbd-bd41-700a2e1e88fd\" xlink:actuate=\"onRequest\" xlink:href=\"psysml:af85dbb9-a19a-4dbd-bd41-700a2e1e88fd\" xlink:show=\"new\" xlink:title=\"psysml:af85dbb9-a19a-4dbd-bd41-700a2e1e88fd\" xlink:type=\"simple\"><path d=\"M72.64,101.8 C83.15,145.5 92.39,216.97 91.63,252.9 \" fill=\"none\" id=\"E7&lt;-E8-1\" style=\"stroke: #383838; stroke-width: 1.0; stroke-dasharray: 7.0,7.0;\"/><ellipse cx=\"70.7794\" cy=\"94.813\" fill=\"#FFFFFF\" rx=\"8\" ry=\"8\" style=\"stroke: #383838; stroke-width: 1.0;\"/><line style=\"stroke: #383838; stroke-width: 1.0;\" x1=\"72.8289\" x2=\"68.73\" y1=\"102.5461\" y2=\"87.08\"/><line style=\"stroke: #383838; stroke-width: 1.0;\" x1=\"63.0464\" x2=\"78.5125\" y1=\"96.8625\" y2=\"92.7636\"/><text fill=\"#000000\" font-family=\"sans-serif\" font-size=\"13\" lengthAdjust=\"spacingAndGlyphs\" textLength=\"8\" x=\"94.2181\" y=\"241.7694\">1</text></a><!--MD5=[0a839d0f80c2d72d4b9b307f046d0de8]\n",
       "link E6 to E8--><a href=\"psysml:ee24455c-c65b-41eb-8958-74c54e28cd84\" target=\"_top\" title=\"psysml:ee24455c-c65b-41eb-8958-74c54e28cd84\" xlink:actuate=\"onRequest\" xlink:href=\"psysml:ee24455c-c65b-41eb-8958-74c54e28cd84\" xlink:show=\"new\" xlink:title=\"psysml:ee24455c-c65b-41eb-8958-74c54e28cd84\" xlink:type=\"simple\"><path d=\"M97.42,193.06 C89.86,210.7 83.23,235.34 81.29,252.98 \" fill=\"none\" id=\"E6-E8\" style=\"stroke: #383838; stroke-width: 3.0;\"/><text fill=\"#000000\" font-family=\"sans-serif\" font-size=\"13\" lengthAdjust=\"spacingAndGlyphs\" textLength=\"7\" x=\"80.9648\" y=\"241.8709\">*</text></a><!--MD5=[0a839d0f80c2d72d4b9b307f046d0de8]\n",
       "link E6 to E8--><a href=\"psysml:1d0a5b52-6a4c-4cbe-b03e-99be5638e392\" target=\"_top\" title=\"psysml:1d0a5b52-6a4c-4cbe-b03e-99be5638e392\" xlink:actuate=\"onRequest\" xlink:href=\"psysml:1d0a5b52-6a4c-4cbe-b03e-99be5638e392\" xlink:show=\"new\" xlink:title=\"psysml:1d0a5b52-6a4c-4cbe-b03e-99be5638e392\" xlink:type=\"simple\"><path d=\"M119.33,193.06 C117.55,210.7 110.92,235.34 103.2,252.98 \" fill=\"none\" id=\"E6-E8-1\" style=\"stroke: #383838; stroke-width: 3.0;\"/><text fill=\"#000000\" font-family=\"sans-serif\" font-size=\"13\" lengthAdjust=\"spacingAndGlyphs\" textLength=\"7\" x=\"99.8819\" y=\"241.8709\">*</text></a><!--MD5=[63445bfc2b2f7190e68c1cbe803b9cc7]\n",
       "@startuml\r\n",
       "skinparam monochrome true\r\n",
       "skinparam classbackgroundcolor white\r\n",
       "skinparam shadowing false\r\n",
       "skinparam wrapWidth 300\r\n",
       "hide circle\r\n",
       "\r\n",
       "package \"AliasTest\" as E1  [[psysml:dccc75fb-db16-4804-85cb-688c27ce5ff3 ]]  {\r\n",
       "comp usage \"q :> Quantities::tensorQuantities\" as E2  <<(T,blue) attribute>> [[psysml:ce72622b-28d6-4d09-bee8-b5dd20a40a54 ]] {\r\n",
       "}\r\n",
       "comp def \"P1\" as E3  <<(T,blue) part  def>> [[psysml:61eb2658-da6c-419b-a94e-058b00326cab ]] {\r\n",
       "}\r\n",
       "comp usage \"porig1\" as E4  <<(T,blue) port>> [[psysml:9ae2babd-6d67-4765-bfe5-8d775f3bcf42 ]] {\r\n",
       "}\r\n",
       "comp usage \"p1: P1 \" as E5  <<(T,blue) part>> [[psysml:11b2a6df-aab5-4dc5-a120-8a7b1f52b05c ]] {\r\n",
       "}\r\n",
       "comp usage \"po1\" as E6  <<(T,blue) port>> [[psysml:a231442e-2600-41cf-892c-df88027eb505 ]] {\r\n",
       "}\r\n",
       "comp usage \"p2: P1 \" as E7  <<(T,blue) part>> [[psysml:2c2598c5-3ef5-4f1d-ae32-f3d429fa4c2f ]] {\r\n",
       "}\r\n",
       "comp usage \"pdest\" as E8  <<(T,blue) port>> [[psysml:10820d16-405d-40a2-9551-06e34552661e ]] {\r\n",
       "}\r\n",
       "}\r\n",
       "E3 o- - \"1\"E4 [[psysml:8e3ccc77-0a8c-4c0b-a5d7-07a6acaf5014 ]] \r\n",
       "E3 +.. \"1\"E4 [[psysml:408c218d-2c50-4f10-8495-de57c6cccdaf ]] \r\n",
       "E5 - -:|> E3 [[psysml:39d7aa17-d9aa-4290-8253-e0b073366074 ]] \r\n",
       "E5 o- - \"1\"E6 [[psysml:0602bff9-807d-4c23-b932-30af011e0640 ]] \r\n",
       "E6 - -||> E4 [[psysml:5ed5dee3-04af-484b-a73a-bf3d62fb0484 ]] \r\n",
       "E7 - -:|> E3 [[psysml:6afc3f94-967f-4ac8-9c89-c7c9ad6aa496 ]] \r\n",
       "E7 o- - \"1\"E8 [[psysml:9a63abc5-83ea-4d36-8ec2-a9e5009e1a31 ]] \r\n",
       "E7 +.. \"1\"E8 [[psysml:af85dbb9-a19a-4dbd-bd41-700a2e1e88fd ]] \r\n",
       "E6 -[thickness=3]- \"*\"E8 [[psysml:ee24455c-c65b-41eb-8958-74c54e28cd84 ]] \r\n",
       "E6 -[thickness=3]- \"*\"E8 [[psysml:1d0a5b52-6a4c-4cbe-b03e-99be5638e392 ]] \r\n",
       "@enduml\r\n",
       "\n",
       "PlantUML version 1.2020.13(Sat Jun 13 12:26:38 UTC 2020)\n",
       "(EPL source distribution)\n",
       "Java Runtime: OpenJDK Runtime Environment\n",
       "JVM: OpenJDK 64-Bit Server VM\n",
       "Default Encoding: UTF-8\n",
       "Language: en\n",
       "Country: null\n",
       "--></g></svg>"
      ]
     },
     "execution_count": 38,
     "metadata": {},
     "output_type": "execute_result"
    }
   ],
   "source": [
    "%viz --style=\"DEFAULT\" --view=\"Tree\" \"AliasTest\""
   ]
  },
  {
   "cell_type": "code",
   "execution_count": 39,
   "id": "acf7b7fe",
   "metadata": {
    "execution": {
     "iopub.execute_input": "2021-10-25T08:23:54.849784Z",
     "iopub.status.busy": "2021-10-25T08:23:54.849314Z",
     "iopub.status.idle": "2021-10-25T08:23:54.854669Z",
     "shell.execute_reply": "2021-10-25T08:23:54.854330Z"
    }
   },
   "outputs": [
    {
     "data": {
      "image/svg+xml": [
       "<?xml version=\"1.0\" encoding=\"UTF-8\" standalone=\"no\"?><svg xmlns=\"http://www.w3.org/2000/svg\" xmlns:xlink=\"http://www.w3.org/1999/xlink\" contentScriptType=\"application/ecmascript\" contentStyleType=\"text/css\" height=\"12px\" preserveAspectRatio=\"none\" style=\"width:12px;height:12px;\" version=\"1.1\" viewBox=\"0 0 12 12\" width=\"12px\" zoomAndPan=\"magnify\"><defs/><g><!--MD5=[c5f280e076d0d61ccf4b0f27871bda1d]\n",
       "@startuml\r\n",
       "skinparam monochrome true\r\n",
       "skinparam classbackgroundcolor white\r\n",
       "skinparam shadowing false\r\n",
       "skinparam wrapWidth 300\r\n",
       "hide circle\r\n",
       "\r\n",
       "@enduml\r\n",
       "\n",
       "PlantUML version 1.2020.13(Sat Jun 13 12:26:38 UTC 2020)\n",
       "(EPL source distribution)\n",
       "Java Runtime: OpenJDK Runtime Environment\n",
       "JVM: OpenJDK 64-Bit Server VM\n",
       "Default Encoding: UTF-8\n",
       "Language: en\n",
       "Country: null\n",
       "--></g></svg>"
      ]
     },
     "execution_count": 39,
     "metadata": {},
     "output_type": "execute_result"
    }
   ],
   "source": [
    "%viz --style=\"DEFAULT\" --view=\"State\" \"AliasTest\""
   ]
  },
  {
   "cell_type": "code",
   "execution_count": 40,
   "id": "63a1b903",
   "metadata": {
    "execution": {
     "iopub.execute_input": "2021-10-25T08:23:54.904591Z",
     "iopub.status.busy": "2021-10-25T08:23:54.904147Z",
     "iopub.status.idle": "2021-10-25T08:23:54.940125Z",
     "shell.execute_reply": "2021-10-25T08:23:54.939756Z"
    }
   },
   "outputs": [
    {
     "data": {
      "image/svg+xml": [
       "<?xml version=\"1.0\" encoding=\"UTF-8\" standalone=\"no\"?><svg xmlns=\"http://www.w3.org/2000/svg\" xmlns:xlink=\"http://www.w3.org/1999/xlink\" contentScriptType=\"application/ecmascript\" contentStyleType=\"text/css\" height=\"233px\" preserveAspectRatio=\"none\" style=\"width:618px;height:233px;\" version=\"1.1\" viewBox=\"0 0 618 233\" width=\"618px\" zoomAndPan=\"magnify\"><defs/><g><!--MD5=[fbc87193dbaf4d95561dea2c320d4a47]\n",
       "cluster E1--><a href=\"psysml:dccc75fb-db16-4804-85cb-688c27ce5ff3\" target=\"_top\" title=\"psysml:dccc75fb-db16-4804-85cb-688c27ce5ff3\" xlink:actuate=\"onRequest\" xlink:href=\"psysml:dccc75fb-db16-4804-85cb-688c27ce5ff3\" xlink:show=\"new\" xlink:title=\"psysml:dccc75fb-db16-4804-85cb-688c27ce5ff3\" xlink:type=\"simple\"><polygon fill=\"#FFFFFF\" points=\"16,6,84,6,91,28.2969,596,28.2969,596,221,16,221,16,6\" style=\"stroke: #000000; stroke-width: 1.5;\"/><line style=\"stroke: #000000; stroke-width: 1.5;\" x1=\"16\" x2=\"91\" y1=\"28.2969\" y2=\"28.2969\"/><text fill=\"#000000\" font-family=\"sans-serif\" font-size=\"14\" font-weight=\"bold\" lengthAdjust=\"spacingAndGlyphs\" textLength=\"62\" x=\"20\" y=\"20.9951\">AliasTest</text></a><!--MD5=[d5e69f78d87373223dbae638b30a9c99]\n",
       "cluster E3--><a href=\"psysml:61eb2658-da6c-419b-a94e-058b00326cab\" target=\"_top\" title=\"psysml:61eb2658-da6c-419b-a94e-058b00326cab\" xlink:actuate=\"onRequest\" xlink:href=\"psysml:61eb2658-da6c-419b-a94e-058b00326cab\" xlink:show=\"new\" xlink:title=\"psysml:61eb2658-da6c-419b-a94e-058b00326cab\" xlink:type=\"simple\"><rect fill=\"#FFFFFF\" height=\"90\" id=\"E3\" style=\"stroke: #383838; stroke-width: 1.5;\" width=\"85\" x=\"453\" y=\"64\"/><rect fill=\"#F8F8F8\" height=\"37.9375\" style=\"stroke: #383838; stroke-width: 1.5;\" width=\"85\" x=\"453\" y=\"64\"/><text fill=\"#000000\" font-family=\"sans-serif\" font-size=\"12\" font-style=\"italic\" lengthAdjust=\"spacingAndGlyphs\" textLength=\"68\" x=\"461.5\" y=\"80.1387\">«part  def»</text><text fill=\"#000000\" font-family=\"sans-serif\" font-size=\"12\" lengthAdjust=\"spacingAndGlyphs\" textLength=\"16\" x=\"487.5\" y=\"94.1074\">P1</text></a><!--MD5=[14e3b0961a2654348d326746436168a1]\n",
       "cluster E6--><a href=\"psysml:11b2a6df-aab5-4dc5-a120-8a7b1f52b05c\" target=\"_top\" title=\"psysml:11b2a6df-aab5-4dc5-a120-8a7b1f52b05c\" xlink:actuate=\"onRequest\" xlink:href=\"psysml:11b2a6df-aab5-4dc5-a120-8a7b1f52b05c\" xlink:show=\"new\" xlink:title=\"psysml:11b2a6df-aab5-4dc5-a120-8a7b1f52b05c\" xlink:type=\"simple\"><rect fill=\"#FFFFFF\" height=\"82\" id=\"E6\" rx=\"10\" ry=\"10\" style=\"stroke: #383838; stroke-width: 1.5;\" width=\"98\" x=\"252\" y=\"64\"/><rect fill=\"#F8F8F8\" height=\"23.9688\" rx=\"10\" ry=\"10\" style=\"stroke: #F8F8F8; stroke-width: 1.5;\" width=\"98\" x=\"252\" y=\"64\"/><rect fill=\"#F8F8F8\" height=\"10\" style=\"stroke: #F8F8F8; stroke-width: 1.5;\" width=\"98\" x=\"252\" y=\"77.9688\"/><rect fill=\"none\" height=\"82\" id=\"E6\" rx=\"10\" ry=\"10\" style=\"stroke: #383838; stroke-width: 1.5;\" width=\"98\" x=\"252\" y=\"64\"/><text fill=\"#000000\" font-family=\"sans-serif\" font-size=\"12\" lengthAdjust=\"spacingAndGlyphs\" textLength=\"40\" x=\"281\" y=\"80.1387\">p1: P1</text><line style=\"stroke: #383838; stroke-width: 1.0;\" x1=\"252\" x2=\"350\" y1=\"87.9688\" y2=\"87.9688\"/></a><!--MD5=[55dfccfc6c49c2d10cd1bd2211a6c90c]\n",
       "cluster E8--><a href=\"psysml:2c2598c5-3ef5-4f1d-ae32-f3d429fa4c2f\" target=\"_top\" title=\"psysml:2c2598c5-3ef5-4f1d-ae32-f3d429fa4c2f\" xlink:actuate=\"onRequest\" xlink:href=\"psysml:2c2598c5-3ef5-4f1d-ae32-f3d429fa4c2f\" xlink:show=\"new\" xlink:title=\"psysml:2c2598c5-3ef5-4f1d-ae32-f3d429fa4c2f\" xlink:type=\"simple\"><rect fill=\"#FFFFFF\" height=\"84.5\" id=\"E8\" rx=\"10\" ry=\"10\" style=\"stroke: #383838; stroke-width: 1.5;\" width=\"83\" x=\"353\" y=\"120.5\"/><rect fill=\"#F8F8F8\" height=\"23.9688\" rx=\"10\" ry=\"10\" style=\"stroke: #F8F8F8; stroke-width: 1.5;\" width=\"83\" x=\"353\" y=\"120.5\"/><rect fill=\"#F8F8F8\" height=\"10\" style=\"stroke: #F8F8F8; stroke-width: 1.5;\" width=\"83\" x=\"353\" y=\"134.4688\"/><rect fill=\"none\" height=\"84.5\" id=\"E8\" rx=\"10\" ry=\"10\" style=\"stroke: #383838; stroke-width: 1.5;\" width=\"83\" x=\"353\" y=\"120.5\"/><text fill=\"#000000\" font-family=\"sans-serif\" font-size=\"12\" lengthAdjust=\"spacingAndGlyphs\" textLength=\"40\" x=\"374.5\" y=\"136.6387\">p2: P1</text><line style=\"stroke: #383838; stroke-width: 1.0;\" x1=\"353\" x2=\"436\" y1=\"144.4688\" y2=\"144.4688\"/></a><!--MD5=[b4997ac47864f28c2f74865a473b2911]\n",
       "class E2--><a href=\"psysml:ce72622b-28d6-4d09-bee8-b5dd20a40a54\" target=\"_top\" title=\"psysml:ce72622b-28d6-4d09-bee8-b5dd20a40a54\" xlink:actuate=\"onRequest\" xlink:href=\"psysml:ce72622b-28d6-4d09-bee8-b5dd20a40a54\" xlink:show=\"new\" xlink:title=\"psysml:ce72622b-28d6-4d09-bee8-b5dd20a40a54\" xlink:type=\"simple\"><rect fill=\"#FFFFFF\" height=\"45.9375\" id=\"E2\" rx=\"10\" ry=\"10\" style=\"stroke: #383838; stroke-width: 1.5;\" width=\"213\" x=\"31.5\" y=\"41\"/><text fill=\"#000000\" font-family=\"sans-serif\" font-size=\"12\" font-style=\"italic\" lengthAdjust=\"spacingAndGlyphs\" textLength=\"69\" x=\"103.5\" y=\"57.1387\">«attribute»</text><text fill=\"#000000\" font-family=\"sans-serif\" font-size=\"12\" lengthAdjust=\"spacingAndGlyphs\" textLength=\"207\" x=\"34.5\" y=\"71.1074\">q :&gt; Quantities::tensorQuantities</text><line style=\"stroke: #383838; stroke-width: 1.5;\" x1=\"32.5\" x2=\"243.5\" y1=\"78.9375\" y2=\"78.9375\"/></a><text fill=\"#000000\" font-family=\"sans-serif\" font-size=\"14\" lengthAdjust=\"spacingAndGlyphs\" textLength=\"44\" x=\"449\" y=\"42.6982\">porig1</text><rect fill=\"#383838\" height=\"12\" style=\"stroke: #F8F8F8; stroke-width: 1.5;\" width=\"12\" x=\"465\" y=\"58\"/><text fill=\"#000000\" font-family=\"sans-serif\" font-size=\"14\" lengthAdjust=\"spacingAndGlyphs\" textLength=\"44\" x=\"496\" y=\"42.6982\">porig1</text><rect fill=\"#383838\" height=\"12\" style=\"stroke: #F8F8F8; stroke-width: 1.5;\" width=\"12\" x=\"512\" y=\"58\"/><text fill=\"#000000\" font-family=\"sans-serif\" font-size=\"14\" lengthAdjust=\"spacingAndGlyphs\" textLength=\"27\" x=\"318.5\" y=\"42.6982\">po1</text><rect fill=\"#383838\" height=\"12\" style=\"stroke: #F8F8F8; stroke-width: 1.5;\" width=\"12\" x=\"326\" y=\"58\"/><text fill=\"#000000\" font-family=\"sans-serif\" font-size=\"14\" lengthAdjust=\"spacingAndGlyphs\" textLength=\"40\" x=\"351\" y=\"99.1982\">pdest</text><rect fill=\"#383838\" height=\"12\" style=\"stroke: #F8F8F8; stroke-width: 1.5;\" width=\"12\" x=\"365\" y=\"114.5\"/><text fill=\"#000000\" font-family=\"sans-serif\" font-size=\"14\" lengthAdjust=\"spacingAndGlyphs\" textLength=\"40\" x=\"398\" y=\"99.1982\">pdest</text><rect fill=\"#383838\" height=\"12\" style=\"stroke: #F8F8F8; stroke-width: 1.5;\" width=\"12\" x=\"412\" y=\"114.5\"/><!--MD5=[1c0b9414cc86e0744215edee6abd8926]\n",
       "link E7 to E9--><a href=\"psysml:ee24455c-c65b-41eb-8958-74c54e28cd84\" target=\"_top\" title=\"psysml:ee24455c-c65b-41eb-8958-74c54e28cd84\" xlink:actuate=\"onRequest\" xlink:href=\"psysml:ee24455c-c65b-41eb-8958-74c54e28cd84\" xlink:show=\"new\" xlink:title=\"psysml:ee24455c-c65b-41eb-8958-74c54e28cd84\" xlink:type=\"simple\"><path d=\"M327.83,70.03 C328.72,81.73 350.14,110.34 364.83,117.73 \" fill=\"none\" id=\"E7-E9\" style=\"stroke: #383838; stroke-width: 3.0;\"/><text fill=\"#000000\" font-family=\"sans-serif\" font-size=\"13\" lengthAdjust=\"spacingAndGlyphs\" textLength=\"7\" x=\"349.8522\" y=\"106.3789\">*</text></a><!--MD5=[1c0b9414cc86e0744215edee6abd8926]\n",
       "link E7 to E9--><a href=\"psysml:1d0a5b52-6a4c-4cbe-b03e-99be5638e392\" target=\"_top\" title=\"psysml:1d0a5b52-6a4c-4cbe-b03e-99be5638e392\" xlink:actuate=\"onRequest\" xlink:href=\"psysml:1d0a5b52-6a4c-4cbe-b03e-99be5638e392\" xlink:show=\"new\" xlink:title=\"psysml:1d0a5b52-6a4c-4cbe-b03e-99be5638e392\" xlink:type=\"simple\"><path d=\"M338.05,66.57 C353.27,73.62 375.05,102.5 375.62,114.37 \" fill=\"none\" id=\"E7-E9-1\" style=\"stroke: #383838; stroke-width: 3.0;\"/><text fill=\"#000000\" font-family=\"sans-serif\" font-size=\"13\" lengthAdjust=\"spacingAndGlyphs\" textLength=\"7\" x=\"369.278\" y=\"103.4683\">*</text></a><!--MD5=[eb48c1cc51c34178f19bc19892454620]\n",
       "@startuml\r\n",
       "skinparam ranksep 10\r\n",
       "skinparam rectangle {\r\n",
       " backgroundColor<<block>> LightGreen\r\n",
       "}\r\n",
       "skinparam monochrome true\r\n",
       "skinparam classbackgroundcolor white\r\n",
       "skinparam shadowing false\r\n",
       "skinparam wrapWidth 300\r\n",
       "hide circle\r\n",
       "\r\n",
       "package \"AliasTest\" as E1  [[psysml:dccc75fb-db16-4804-85cb-688c27ce5ff3 ]]  {\r\n",
       "comp usage \"q :> Quantities::tensorQuantities\" as E2  <<(T,blue) attribute>> [[psysml:ce72622b-28d6-4d09-bee8-b5dd20a40a54 ]] {\r\n",
       "}\r\n",
       "rec def \"P1\" as E3  <<(T,blue) part  def>> [[psysml:61eb2658-da6c-419b-a94e-058b00326cab ]] {\r\n",
       "portin \"porig1\" as E4  <<(T,blue) port>> [[psysml:9ae2babd-6d67-4765-bfe5-8d775f3bcf42 ]] \r\n",
       "portin \"porig1\" as E5  <<(T,blue) port>> [[psysml:9ae2babd-6d67-4765-bfe5-8d775f3bcf42 ]] \r\n",
       "}\r\n",
       "rec usage \"p1: P1\" as E6  [[psysml:11b2a6df-aab5-4dc5-a120-8a7b1f52b05c ]] {\r\n",
       "portin \"po1\" as E7  <<(T,blue) port>> [[psysml:a231442e-2600-41cf-892c-df88027eb505 ]] \r\n",
       "}\r\n",
       "rec usage \"p2: P1\" as E8  [[psysml:2c2598c5-3ef5-4f1d-ae32-f3d429fa4c2f ]] {\r\n",
       "portin \"pdest\" as E9  <<(T,blue) port>> [[psysml:10820d16-405d-40a2-9551-06e34552661e ]] \r\n",
       "portin \"pdest\" as E10  <<(T,blue) port>> [[psysml:10820d16-405d-40a2-9551-06e34552661e ]] \r\n",
       "}\r\n",
       "}\r\n",
       "E7 -[thickness=3]- \"*\"E9 [[psysml:ee24455c-c65b-41eb-8958-74c54e28cd84 ]] \r\n",
       "E7 -[thickness=3]- \"*\"E9 [[psysml:1d0a5b52-6a4c-4cbe-b03e-99be5638e392 ]] \r\n",
       "@enduml\r\n",
       "\n",
       "PlantUML version 1.2020.13(Sat Jun 13 12:26:38 UTC 2020)\n",
       "(EPL source distribution)\n",
       "Java Runtime: OpenJDK Runtime Environment\n",
       "JVM: OpenJDK 64-Bit Server VM\n",
       "Default Encoding: UTF-8\n",
       "Language: en\n",
       "Country: null\n",
       "--></g></svg>"
      ]
     },
     "execution_count": 40,
     "metadata": {},
     "output_type": "execute_result"
    }
   ],
   "source": [
    "%viz --style=\"DEFAULT\" --view=\"Interconnection\" \"AliasTest\""
   ]
  },
  {
   "cell_type": "code",
   "execution_count": 41,
   "id": "396a25ea",
   "metadata": {
    "execution": {
     "iopub.execute_input": "2021-10-25T08:23:54.989684Z",
     "iopub.status.busy": "2021-10-25T08:23:54.989207Z",
     "iopub.status.idle": "2021-10-25T08:23:54.994050Z",
     "shell.execute_reply": "2021-10-25T08:23:54.994369Z"
    }
   },
   "outputs": [
    {
     "data": {
      "image/svg+xml": [
       "<?xml version=\"1.0\" encoding=\"UTF-8\" standalone=\"no\"?><svg xmlns=\"http://www.w3.org/2000/svg\" xmlns:xlink=\"http://www.w3.org/1999/xlink\" contentScriptType=\"application/ecmascript\" contentStyleType=\"text/css\" height=\"12px\" preserveAspectRatio=\"none\" style=\"width:12px;height:12px;\" version=\"1.1\" viewBox=\"0 0 12 12\" width=\"12px\" zoomAndPan=\"magnify\"><defs/><g><!--MD5=[388f21188e31bfdd97050473b19af356]\n",
       "@startuml\r\n",
       "skinparam ranksep 8\r\n",
       "skinparam monochrome true\r\n",
       "skinparam classbackgroundcolor white\r\n",
       "skinparam shadowing false\r\n",
       "skinparam wrapWidth 300\r\n",
       "hide circle\r\n",
       "\r\n",
       "@enduml\r\n",
       "\n",
       "PlantUML version 1.2020.13(Sat Jun 13 12:26:38 UTC 2020)\n",
       "(EPL source distribution)\n",
       "Java Runtime: OpenJDK Runtime Environment\n",
       "JVM: OpenJDK 64-Bit Server VM\n",
       "Default Encoding: UTF-8\n",
       "Language: en\n",
       "Country: null\n",
       "--></g></svg>"
      ]
     },
     "execution_count": 41,
     "metadata": {},
     "output_type": "execute_result"
    }
   ],
   "source": [
    "%viz --style=\"DEFAULT\" --view=\"Action\" \"AliasTest\""
   ]
  },
  {
   "cell_type": "code",
   "execution_count": 42,
   "id": "48dd632a",
   "metadata": {
    "execution": {
     "iopub.execute_input": "2021-10-25T08:23:55.044322Z",
     "iopub.status.busy": "2021-10-25T08:23:55.043868Z",
     "iopub.status.idle": "2021-10-25T08:23:55.049821Z",
     "shell.execute_reply": "2021-10-25T08:23:55.049479Z"
    }
   },
   "outputs": [
    {
     "data": {
      "image/svg+xml": [
       "<?xml version=\"1.0\" encoding=\"UTF-8\" standalone=\"no\"?><svg xmlns=\"http://www.w3.org/2000/svg\" xmlns:xlink=\"http://www.w3.org/1999/xlink\" contentScriptType=\"application/ecmascript\" contentStyleType=\"text/css\" height=\"12px\" preserveAspectRatio=\"none\" style=\"width:12px;height:12px;\" version=\"1.1\" viewBox=\"0 0 12 12\" width=\"12px\" zoomAndPan=\"magnify\"><defs/><g><!--MD5=[0b72472770326784bf6c2b53246e1e64]\n",
       "@startuml\r\n",
       "skinparam roundcorner 20\r\n",
       "skinparam BoxPadding 20\r\n",
       "skinparam SequenceBoxBackgroundColor #white\r\n",
       "skinparam style strictuml\r\n",
       "skinparam maxMessageSize 100\r\n",
       "skinparam monochrome true\r\n",
       "skinparam classbackgroundcolor white\r\n",
       "skinparam shadowing false\r\n",
       "skinparam wrapWidth 300\r\n",
       "hide circle\r\n",
       "\r\n",
       "@enduml\r\n",
       "\n",
       "PlantUML version 1.2020.13(Sat Jun 13 12:26:38 UTC 2020)\n",
       "(EPL source distribution)\n",
       "Java Runtime: OpenJDK Runtime Environment\n",
       "JVM: OpenJDK 64-Bit Server VM\n",
       "Default Encoding: UTF-8\n",
       "Language: en\n",
       "Country: null\n",
       "--></g></svg>"
      ]
     },
     "execution_count": 42,
     "metadata": {},
     "output_type": "execute_result"
    }
   ],
   "source": [
    "%viz --style=\"DEFAULT\" --view=\"Sequence\" \"AliasTest\""
   ]
  },
  {
   "cell_type": "code",
   "execution_count": 43,
   "id": "cf1da5eb",
   "metadata": {
    "execution": {
     "iopub.execute_input": "2021-10-25T08:23:55.099368Z",
     "iopub.status.busy": "2021-10-25T08:23:55.098960Z",
     "iopub.status.idle": "2021-10-25T08:23:55.136563Z",
     "shell.execute_reply": "2021-10-25T08:23:55.136202Z"
    }
   },
   "outputs": [
    {
     "data": {
      "image/svg+xml": [
       "<?xml version=\"1.0\" encoding=\"UTF-8\" standalone=\"no\"?><svg xmlns=\"http://www.w3.org/2000/svg\" xmlns:xlink=\"http://www.w3.org/1999/xlink\" contentScriptType=\"application/ecmascript\" contentStyleType=\"text/css\" height=\"327px\" preserveAspectRatio=\"none\" style=\"width:453px;height:327px;\" version=\"1.1\" viewBox=\"0 0 453 327\" width=\"453px\" zoomAndPan=\"magnify\"><defs/><g><!--MD5=[fbc87193dbaf4d95561dea2c320d4a47]\n",
       "cluster E1--><a href=\"psysml:dccc75fb-db16-4804-85cb-688c27ce5ff3\" target=\"_top\" title=\"psysml:dccc75fb-db16-4804-85cb-688c27ce5ff3\" xlink:actuate=\"onRequest\" xlink:href=\"psysml:dccc75fb-db16-4804-85cb-688c27ce5ff3\" xlink:show=\"new\" xlink:title=\"psysml:dccc75fb-db16-4804-85cb-688c27ce5ff3\" xlink:type=\"simple\"><polygon fill=\"#FFFFFF\" points=\"16,6,84,6,91,28.2969,431,28.2969,431,315,16,315,16,6\" style=\"stroke: #000000; stroke-width: 1.5;\"/><line style=\"stroke: #000000; stroke-width: 1.5;\" x1=\"16\" x2=\"91\" y1=\"28.2969\" y2=\"28.2969\"/><text fill=\"#000000\" font-family=\"sans-serif\" font-size=\"14\" font-weight=\"bold\" lengthAdjust=\"spacingAndGlyphs\" textLength=\"62\" x=\"20\" y=\"20.9951\">AliasTest</text></a><!--MD5=[b4997ac47864f28c2f74865a473b2911]\n",
       "class E2--><a href=\"psysml:ce72622b-28d6-4d09-bee8-b5dd20a40a54\" target=\"_top\" title=\"psysml:ce72622b-28d6-4d09-bee8-b5dd20a40a54\" xlink:actuate=\"onRequest\" xlink:href=\"psysml:ce72622b-28d6-4d09-bee8-b5dd20a40a54\" xlink:show=\"new\" xlink:title=\"psysml:ce72622b-28d6-4d09-bee8-b5dd20a40a54\" xlink:type=\"simple\"><rect fill=\"#FFFFFF\" height=\"45.9375\" id=\"E2\" rx=\"10\" ry=\"10\" style=\"stroke: #383838; stroke-width: 1.5;\" width=\"213\" x=\"202.5\" y=\"41\"/><text fill=\"#000000\" font-family=\"sans-serif\" font-size=\"12\" font-style=\"italic\" lengthAdjust=\"spacingAndGlyphs\" textLength=\"69\" x=\"274.5\" y=\"57.1387\">«attribute»</text><text fill=\"#000000\" font-family=\"sans-serif\" font-size=\"12\" lengthAdjust=\"spacingAndGlyphs\" textLength=\"207\" x=\"205.5\" y=\"71.1074\">q :&gt; Quantities::tensorQuantities</text><line style=\"stroke: #383838; stroke-width: 1.5;\" x1=\"203.5\" x2=\"414.5\" y1=\"78.9375\" y2=\"78.9375\"/></a><!--MD5=[09b614a08d8cba4a07c9adeb5e0fee81]\n",
       "class E3--><a href=\"psysml:61eb2658-da6c-419b-a94e-058b00326cab\" target=\"_top\" title=\"psysml:61eb2658-da6c-419b-a94e-058b00326cab\" xlink:actuate=\"onRequest\" xlink:href=\"psysml:61eb2658-da6c-419b-a94e-058b00326cab\" xlink:show=\"new\" xlink:title=\"psysml:61eb2658-da6c-419b-a94e-058b00326cab\" xlink:type=\"simple\"><rect fill=\"#FFFFFF\" height=\"45.9375\" id=\"E3\" style=\"stroke: #383838; stroke-width: 1.5;\" width=\"70\" x=\"170\" y=\"147\"/><text fill=\"#000000\" font-family=\"sans-serif\" font-size=\"12\" font-style=\"italic\" lengthAdjust=\"spacingAndGlyphs\" textLength=\"68\" x=\"171\" y=\"163.1387\">«part  def»</text><text fill=\"#000000\" font-family=\"sans-serif\" font-size=\"12\" lengthAdjust=\"spacingAndGlyphs\" textLength=\"16\" x=\"197\" y=\"177.1074\">P1</text><line style=\"stroke: #383838; stroke-width: 1.5;\" x1=\"171\" x2=\"239\" y1=\"184.9375\" y2=\"184.9375\"/></a><!--MD5=[ebbe1d658d1005bcc118a6aa81145e00]\n",
       "class E4--><a href=\"psysml:9ae2babd-6d67-4765-bfe5-8d775f3bcf42\" target=\"_top\" title=\"psysml:9ae2babd-6d67-4765-bfe5-8d775f3bcf42\" xlink:actuate=\"onRequest\" xlink:href=\"psysml:9ae2babd-6d67-4765-bfe5-8d775f3bcf42\" xlink:show=\"new\" xlink:title=\"psysml:9ae2babd-6d67-4765-bfe5-8d775f3bcf42\" xlink:type=\"simple\"><rect fill=\"#FFFFFF\" height=\"45.9375\" id=\"E4\" rx=\"10\" ry=\"10\" style=\"stroke: #383838; stroke-width: 1.5;\" width=\"46\" x=\"182\" y=\"253\"/><text fill=\"#000000\" font-family=\"sans-serif\" font-size=\"12\" font-style=\"italic\" lengthAdjust=\"spacingAndGlyphs\" textLength=\"40\" x=\"185\" y=\"269.1387\">«port»</text><text fill=\"#000000\" font-family=\"sans-serif\" font-size=\"12\" lengthAdjust=\"spacingAndGlyphs\" textLength=\"40\" x=\"185\" y=\"283.1074\">porig1</text><line style=\"stroke: #383838; stroke-width: 1.5;\" x1=\"183\" x2=\"227\" y1=\"290.9375\" y2=\"290.9375\"/></a><!--MD5=[270fce915f116d4de14055a7c1d9a0f3]\n",
       "class E5--><a href=\"psysml:11b2a6df-aab5-4dc5-a120-8a7b1f52b05c\" target=\"_top\" title=\"psysml:11b2a6df-aab5-4dc5-a120-8a7b1f52b05c\" xlink:actuate=\"onRequest\" xlink:href=\"psysml:11b2a6df-aab5-4dc5-a120-8a7b1f52b05c\" xlink:show=\"new\" xlink:title=\"psysml:11b2a6df-aab5-4dc5-a120-8a7b1f52b05c\" xlink:type=\"simple\"><rect fill=\"#FFFFFF\" height=\"45.9375\" id=\"E5\" rx=\"10\" ry=\"10\" style=\"stroke: #383838; stroke-width: 1.5;\" width=\"50\" x=\"117\" y=\"41\"/><text fill=\"#000000\" font-family=\"sans-serif\" font-size=\"12\" font-style=\"italic\" lengthAdjust=\"spacingAndGlyphs\" textLength=\"40\" x=\"122\" y=\"57.1387\">«part»</text><text fill=\"#000000\" font-family=\"sans-serif\" font-size=\"12\" lengthAdjust=\"spacingAndGlyphs\" textLength=\"40\" x=\"120\" y=\"71.1074\">p1: P1</text><line style=\"stroke: #383838; stroke-width: 1.5;\" x1=\"118\" x2=\"166\" y1=\"78.9375\" y2=\"78.9375\"/></a><!--MD5=[60a26617385b1d2d0262a64233df1f8d]\n",
       "class E6--><a href=\"psysml:a231442e-2600-41cf-892c-df88027eb505\" target=\"_top\" title=\"psysml:a231442e-2600-41cf-892c-df88027eb505\" xlink:actuate=\"onRequest\" xlink:href=\"psysml:a231442e-2600-41cf-892c-df88027eb505\" xlink:show=\"new\" xlink:title=\"psysml:a231442e-2600-41cf-892c-df88027eb505\" xlink:type=\"simple\"><rect fill=\"#FFFFFF\" height=\"45.9375\" id=\"E6\" rx=\"10\" ry=\"10\" style=\"stroke: #383838; stroke-width: 1.5;\" width=\"42\" x=\"93\" y=\"147\"/><text fill=\"#000000\" font-family=\"sans-serif\" font-size=\"12\" font-style=\"italic\" lengthAdjust=\"spacingAndGlyphs\" textLength=\"40\" x=\"94\" y=\"163.1387\">«port»</text><text fill=\"#000000\" font-family=\"sans-serif\" font-size=\"12\" lengthAdjust=\"spacingAndGlyphs\" textLength=\"24\" x=\"102\" y=\"177.1074\">po1</text><line style=\"stroke: #383838; stroke-width: 1.5;\" x1=\"94\" x2=\"134\" y1=\"184.9375\" y2=\"184.9375\"/></a><!--MD5=[2156ba9850f5573cc1fc38a6a4b2f02b]\n",
       "class E7--><a href=\"psysml:2c2598c5-3ef5-4f1d-ae32-f3d429fa4c2f\" target=\"_top\" title=\"psysml:2c2598c5-3ef5-4f1d-ae32-f3d429fa4c2f\" xlink:actuate=\"onRequest\" xlink:href=\"psysml:2c2598c5-3ef5-4f1d-ae32-f3d429fa4c2f\" xlink:show=\"new\" xlink:title=\"psysml:2c2598c5-3ef5-4f1d-ae32-f3d429fa4c2f\" xlink:type=\"simple\"><rect fill=\"#FFFFFF\" height=\"45.9375\" id=\"E7\" rx=\"10\" ry=\"10\" style=\"stroke: #383838; stroke-width: 1.5;\" width=\"50\" x=\"32\" y=\"41\"/><text fill=\"#000000\" font-family=\"sans-serif\" font-size=\"12\" font-style=\"italic\" lengthAdjust=\"spacingAndGlyphs\" textLength=\"40\" x=\"37\" y=\"57.1387\">«part»</text><text fill=\"#000000\" font-family=\"sans-serif\" font-size=\"12\" lengthAdjust=\"spacingAndGlyphs\" textLength=\"40\" x=\"35\" y=\"71.1074\">p2: P1</text><line style=\"stroke: #383838; stroke-width: 1.5;\" x1=\"33\" x2=\"81\" y1=\"78.9375\" y2=\"78.9375\"/></a><!--MD5=[b9389687b975829384b498ac4b7476b2]\n",
       "class E8--><a href=\"psysml:10820d16-405d-40a2-9551-06e34552661e\" target=\"_top\" title=\"psysml:10820d16-405d-40a2-9551-06e34552661e\" xlink:actuate=\"onRequest\" xlink:href=\"psysml:10820d16-405d-40a2-9551-06e34552661e\" xlink:show=\"new\" xlink:title=\"psysml:10820d16-405d-40a2-9551-06e34552661e\" xlink:type=\"simple\"><rect fill=\"#FFFFFF\" height=\"45.9375\" id=\"E8\" rx=\"10\" ry=\"10\" style=\"stroke: #383838; stroke-width: 1.5;\" width=\"42\" x=\"65\" y=\"253\"/><text fill=\"#000000\" font-family=\"sans-serif\" font-size=\"12\" font-style=\"italic\" lengthAdjust=\"spacingAndGlyphs\" textLength=\"40\" x=\"66\" y=\"269.1387\">«port»</text><text fill=\"#000000\" font-family=\"sans-serif\" font-size=\"12\" lengthAdjust=\"spacingAndGlyphs\" textLength=\"36\" x=\"68\" y=\"283.1074\">pdest</text><line style=\"stroke: #383838; stroke-width: 1.5;\" x1=\"66\" x2=\"106\" y1=\"290.9375\" y2=\"290.9375\"/></a><!--MD5=[4672eba38e49728da53d11aeb285b987]\n",
       "reverse link E3 to E4--><a href=\"psysml:8e3ccc77-0a8c-4c0b-a5d7-07a6acaf5014\" target=\"_top\" title=\"psysml:8e3ccc77-0a8c-4c0b-a5d7-07a6acaf5014\" xlink:actuate=\"onRequest\" xlink:href=\"psysml:8e3ccc77-0a8c-4c0b-a5d7-07a6acaf5014\" xlink:show=\"new\" xlink:title=\"psysml:8e3ccc77-0a8c-4c0b-a5d7-07a6acaf5014\" xlink:type=\"simple\"><path d=\"M192.84,206.44 C191.7,221.87 192.21,239.47 194.36,252.98 \" fill=\"none\" id=\"E3&lt;-E4\" style=\"stroke: #383838; stroke-width: 1.0;\"/><polygon fill=\"#FFFFFF\" points=\"194.35,193.06,189.7032,198.5743,193.006,204.9845,197.6528,199.4702,194.35,193.06\" style=\"stroke: #383838; stroke-width: 1.0;\"/><text fill=\"#000000\" font-family=\"sans-serif\" font-size=\"13\" lengthAdjust=\"spacingAndGlyphs\" textLength=\"8\" x=\"182.4255\" y=\"241.8709\">1</text></a><!--MD5=[4672eba38e49728da53d11aeb285b987]\n",
       "reverse link E3 to E4--><a href=\"psysml:408c218d-2c50-4f10-8495-de57c6cccdaf\" target=\"_top\" title=\"psysml:408c218d-2c50-4f10-8495-de57c6cccdaf\" xlink:actuate=\"onRequest\" xlink:href=\"psysml:408c218d-2c50-4f10-8495-de57c6cccdaf\" xlink:show=\"new\" xlink:title=\"psysml:408c218d-2c50-4f10-8495-de57c6cccdaf\" xlink:type=\"simple\"><path d=\"M218.01,208.34 C219.03,223.3 218.45,240.02 216.27,252.98 \" fill=\"none\" id=\"E3&lt;-E4-1\" style=\"stroke: #383838; stroke-width: 1.0; stroke-dasharray: 7.0,7.0;\"/><ellipse cx=\"217.1693\" cy=\"201.0093\" fill=\"#FFFFFF\" rx=\"8\" ry=\"8\" style=\"stroke: #383838; stroke-width: 1.0;\"/><line style=\"stroke: #383838; stroke-width: 1.0;\" x1=\"218.0687\" x2=\"216.27\" y1=\"208.9586\" y2=\"193.06\"/><line style=\"stroke: #383838; stroke-width: 1.0;\" x1=\"209.2201\" x2=\"225.1186\" y1=\"201.9086\" y2=\"200.1099\"/><text fill=\"#000000\" font-family=\"sans-serif\" font-size=\"13\" lengthAdjust=\"spacingAndGlyphs\" textLength=\"8\" x=\"210.2238\" y=\"241.8709\">1</text></a><!--MD5=[e9be52314489bd878ff4c7144b63c9e1]\n",
       "link E5 to E3--><a href=\"psysml:39d7aa17-d9aa-4290-8253-e0b073366074\" target=\"_top\" title=\"psysml:39d7aa17-d9aa-4290-8253-e0b073366074\" xlink:actuate=\"onRequest\" xlink:href=\"psysml:39d7aa17-d9aa-4290-8253-e0b073366074\" xlink:show=\"new\" xlink:title=\"psysml:39d7aa17-d9aa-4290-8253-e0b073366074\" xlink:type=\"simple\"><path d=\"M155.36,87.06 C162.88,99.47 172.49,115.33 181.24,129.78 \" fill=\"none\" id=\"E5-&gt;E3\" style=\"stroke: #383838; stroke-width: 1.0;\"/><polygon fill=\"#FFFFFF\" points=\"191.66,146.98,175.8217,134.3646,187.792,127.1044,191.66,146.98\" style=\"stroke: #383838; stroke-width: 1.0;\"/><ellipse cx=\"174.5758\" cy=\"128.4538\" fill=\"#383838\" rx=\"2\" ry=\"2\" style=\"stroke: #383838; stroke-width: 1.0;\"/><ellipse cx=\"183.126\" cy=\"123.2679\" fill=\"#383838\" rx=\"2\" ry=\"2\" style=\"stroke: #383838; stroke-width: 1.0;\"/></a><!--MD5=[85d356282659285ab4b2cfe2f634dd2b]\n",
       "reverse link E5 to E6--><a href=\"psysml:0602bff9-807d-4c23-b932-30af011e0640\" target=\"_top\" title=\"psysml:0602bff9-807d-4c23-b932-30af011e0640\" xlink:actuate=\"onRequest\" xlink:href=\"psysml:0602bff9-807d-4c23-b932-30af011e0640\" xlink:show=\"new\" xlink:title=\"psysml:0602bff9-807d-4c23-b932-30af011e0640\" xlink:type=\"simple\"><path d=\"M132.59,99.96 C128.4,115.51 123.6,133.33 119.93,146.98 \" fill=\"none\" id=\"E5&lt;-E6\" style=\"stroke: #383838; stroke-width: 1.0;\"/><polygon fill=\"#FFFFFF\" points=\"136.06,87.06,130.641,91.8176,132.9484,98.6496,138.3674,93.892,136.06,87.06\" style=\"stroke: #383838; stroke-width: 1.0;\"/><text fill=\"#000000\" font-family=\"sans-serif\" font-size=\"13\" lengthAdjust=\"spacingAndGlyphs\" textLength=\"8\" x=\"112.4487\" y=\"135.8709\">1</text></a><!--MD5=[f667431f98296947986a1a7595a31603]\n",
       "link E6 to E4--><a href=\"psysml:5ed5dee3-04af-484b-a73a-bf3d62fb0484\" target=\"_top\" title=\"psysml:5ed5dee3-04af-484b-a73a-bf3d62fb0484\" xlink:actuate=\"onRequest\" xlink:href=\"psysml:5ed5dee3-04af-484b-a73a-bf3d62fb0484\" xlink:show=\"new\" xlink:title=\"psysml:5ed5dee3-04af-484b-a73a-bf3d62fb0484\" xlink:type=\"simple\"><path d=\"M133.3,193.06 C144.64,206.02 159.28,222.74 172.36,237.7 \" fill=\"none\" id=\"E6-&gt;E4\" style=\"stroke: #383838; stroke-width: 1.0;\"/><polygon fill=\"#FFFFFF\" points=\"185.73,252.98,167.9517,243.2882,178.489,234.0705,185.73,252.98\" style=\"stroke: #383838; stroke-width: 1.0;\"/><line style=\"stroke: #383838; stroke-width: 2.0;\" x1=\"165.4497\" x2=\"175.9871\" y1=\"240.4281\" y2=\"231.2104\"/></a><!--MD5=[14ccda38c055a5c0da953d572bc50960]\n",
       "link E7 to E3--><a href=\"psysml:6afc3f94-967f-4ac8-9c89-c7c9ad6aa496\" target=\"_top\" title=\"psysml:6afc3f94-967f-4ac8-9c89-c7c9ad6aa496\" xlink:actuate=\"onRequest\" xlink:href=\"psysml:6afc3f94-967f-4ac8-9c89-c7c9ad6aa496\" xlink:show=\"new\" xlink:title=\"psysml:6afc3f94-967f-4ac8-9c89-c7c9ad6aa496\" xlink:type=\"simple\"><path d=\"M82.11,82.64 C102.61,97.05 132.18,117.83 157.18,135.39 \" fill=\"none\" id=\"E7-&gt;E3\" style=\"stroke: #383838; stroke-width: 1.0;\"/><polygon fill=\"#FFFFFF\" points=\"173.58,146.92,154.011,141.7187,162.0629,130.266,173.58,146.92\" style=\"stroke: #383838; stroke-width: 1.0;\"/><ellipse cx=\"150.4983\" cy=\"136.8043\" fill=\"#383838\" rx=\"2\" ry=\"2\" style=\"stroke: #383838; stroke-width: 1.0;\"/><ellipse cx=\"156.2497\" cy=\"128.6238\" fill=\"#383838\" rx=\"2\" ry=\"2\" style=\"stroke: #383838; stroke-width: 1.0;\"/></a><!--MD5=[dc164f5e8a733ab456ef1add180e9e34]\n",
       "reverse link E7 to E8--><a href=\"psysml:9a63abc5-83ea-4d36-8ec2-a9e5009e1a31\" target=\"_top\" title=\"psysml:9a63abc5-83ea-4d36-8ec2-a9e5009e1a31\" xlink:actuate=\"onRequest\" xlink:href=\"psysml:9a63abc5-83ea-4d36-8ec2-a9e5009e1a31\" xlink:show=\"new\" xlink:title=\"psysml:9a63abc5-83ea-4d36-8ec2-a9e5009e1a31\" xlink:type=\"simple\"><path d=\"M52.05,100.09 C53.65,143.61 64.25,216.5 74.75,252.9 \" fill=\"none\" id=\"E7&lt;-E8\" style=\"stroke: #383838; stroke-width: 1.0;\"/><polygon fill=\"#FFFFFF\" points=\"51.85,87.08,47.9362,93.1366,52.0216,99.0788,55.9354,93.0222,51.85,87.08\" style=\"stroke: #383838; stroke-width: 1.0;\"/><text fill=\"#000000\" font-family=\"sans-serif\" font-size=\"13\" lengthAdjust=\"spacingAndGlyphs\" textLength=\"8\" x=\"62.6516\" y=\"241.7694\">1</text></a><!--MD5=[dc164f5e8a733ab456ef1add180e9e34]\n",
       "reverse link E7 to E8--><a href=\"psysml:af85dbb9-a19a-4dbd-bd41-700a2e1e88fd\" target=\"_top\" title=\"psysml:af85dbb9-a19a-4dbd-bd41-700a2e1e88fd\" xlink:actuate=\"onRequest\" xlink:href=\"psysml:af85dbb9-a19a-4dbd-bd41-700a2e1e88fd\" xlink:show=\"new\" xlink:title=\"psysml:af85dbb9-a19a-4dbd-bd41-700a2e1e88fd\" xlink:type=\"simple\"><path d=\"M72.64,101.8 C83.15,145.5 92.39,216.97 91.63,252.9 \" fill=\"none\" id=\"E7&lt;-E8-1\" style=\"stroke: #383838; stroke-width: 1.0; stroke-dasharray: 7.0,7.0;\"/><ellipse cx=\"70.7794\" cy=\"94.813\" fill=\"#FFFFFF\" rx=\"8\" ry=\"8\" style=\"stroke: #383838; stroke-width: 1.0;\"/><line style=\"stroke: #383838; stroke-width: 1.0;\" x1=\"72.8289\" x2=\"68.73\" y1=\"102.5461\" y2=\"87.08\"/><line style=\"stroke: #383838; stroke-width: 1.0;\" x1=\"63.0464\" x2=\"78.5125\" y1=\"96.8625\" y2=\"92.7636\"/><text fill=\"#000000\" font-family=\"sans-serif\" font-size=\"13\" lengthAdjust=\"spacingAndGlyphs\" textLength=\"8\" x=\"94.2181\" y=\"241.7694\">1</text></a><!--MD5=[0a839d0f80c2d72d4b9b307f046d0de8]\n",
       "link E6 to E8--><a href=\"psysml:ee24455c-c65b-41eb-8958-74c54e28cd84\" target=\"_top\" title=\"psysml:ee24455c-c65b-41eb-8958-74c54e28cd84\" xlink:actuate=\"onRequest\" xlink:href=\"psysml:ee24455c-c65b-41eb-8958-74c54e28cd84\" xlink:show=\"new\" xlink:title=\"psysml:ee24455c-c65b-41eb-8958-74c54e28cd84\" xlink:type=\"simple\"><path d=\"M97.42,193.06 C89.86,210.7 83.23,235.34 81.29,252.98 \" fill=\"none\" id=\"E6-E8\" style=\"stroke: #383838; stroke-width: 3.0;\"/><text fill=\"#000000\" font-family=\"sans-serif\" font-size=\"13\" lengthAdjust=\"spacingAndGlyphs\" textLength=\"7\" x=\"80.9648\" y=\"241.8709\">*</text></a><!--MD5=[0a839d0f80c2d72d4b9b307f046d0de8]\n",
       "link E6 to E8--><a href=\"psysml:1d0a5b52-6a4c-4cbe-b03e-99be5638e392\" target=\"_top\" title=\"psysml:1d0a5b52-6a4c-4cbe-b03e-99be5638e392\" xlink:actuate=\"onRequest\" xlink:href=\"psysml:1d0a5b52-6a4c-4cbe-b03e-99be5638e392\" xlink:show=\"new\" xlink:title=\"psysml:1d0a5b52-6a4c-4cbe-b03e-99be5638e392\" xlink:type=\"simple\"><path d=\"M119.33,193.06 C117.55,210.7 110.92,235.34 103.2,252.98 \" fill=\"none\" id=\"E6-E8-1\" style=\"stroke: #383838; stroke-width: 3.0;\"/><text fill=\"#000000\" font-family=\"sans-serif\" font-size=\"13\" lengthAdjust=\"spacingAndGlyphs\" textLength=\"7\" x=\"99.8819\" y=\"241.8709\">*</text></a><!--MD5=[63445bfc2b2f7190e68c1cbe803b9cc7]\n",
       "@startuml\r\n",
       "skinparam monochrome true\r\n",
       "skinparam classbackgroundcolor white\r\n",
       "skinparam shadowing false\r\n",
       "skinparam wrapWidth 300\r\n",
       "hide circle\r\n",
       "\r\n",
       "package \"AliasTest\" as E1  [[psysml:dccc75fb-db16-4804-85cb-688c27ce5ff3 ]]  {\r\n",
       "comp usage \"q :> Quantities::tensorQuantities\" as E2  <<(T,blue) attribute>> [[psysml:ce72622b-28d6-4d09-bee8-b5dd20a40a54 ]] {\r\n",
       "}\r\n",
       "comp def \"P1\" as E3  <<(T,blue) part  def>> [[psysml:61eb2658-da6c-419b-a94e-058b00326cab ]] {\r\n",
       "}\r\n",
       "comp usage \"porig1\" as E4  <<(T,blue) port>> [[psysml:9ae2babd-6d67-4765-bfe5-8d775f3bcf42 ]] {\r\n",
       "}\r\n",
       "comp usage \"p1: P1 \" as E5  <<(T,blue) part>> [[psysml:11b2a6df-aab5-4dc5-a120-8a7b1f52b05c ]] {\r\n",
       "}\r\n",
       "comp usage \"po1\" as E6  <<(T,blue) port>> [[psysml:a231442e-2600-41cf-892c-df88027eb505 ]] {\r\n",
       "}\r\n",
       "comp usage \"p2: P1 \" as E7  <<(T,blue) part>> [[psysml:2c2598c5-3ef5-4f1d-ae32-f3d429fa4c2f ]] {\r\n",
       "}\r\n",
       "comp usage \"pdest\" as E8  <<(T,blue) port>> [[psysml:10820d16-405d-40a2-9551-06e34552661e ]] {\r\n",
       "}\r\n",
       "}\r\n",
       "E3 o- - \"1\"E4 [[psysml:8e3ccc77-0a8c-4c0b-a5d7-07a6acaf5014 ]] \r\n",
       "E3 +.. \"1\"E4 [[psysml:408c218d-2c50-4f10-8495-de57c6cccdaf ]] \r\n",
       "E5 - -:|> E3 [[psysml:39d7aa17-d9aa-4290-8253-e0b073366074 ]] \r\n",
       "E5 o- - \"1\"E6 [[psysml:0602bff9-807d-4c23-b932-30af011e0640 ]] \r\n",
       "E6 - -||> E4 [[psysml:5ed5dee3-04af-484b-a73a-bf3d62fb0484 ]] \r\n",
       "E7 - -:|> E3 [[psysml:6afc3f94-967f-4ac8-9c89-c7c9ad6aa496 ]] \r\n",
       "E7 o- - \"1\"E8 [[psysml:9a63abc5-83ea-4d36-8ec2-a9e5009e1a31 ]] \r\n",
       "E7 +.. \"1\"E8 [[psysml:af85dbb9-a19a-4dbd-bd41-700a2e1e88fd ]] \r\n",
       "E6 -[thickness=3]- \"*\"E8 [[psysml:ee24455c-c65b-41eb-8958-74c54e28cd84 ]] \r\n",
       "E6 -[thickness=3]- \"*\"E8 [[psysml:1d0a5b52-6a4c-4cbe-b03e-99be5638e392 ]] \r\n",
       "@enduml\r\n",
       "\n",
       "PlantUML version 1.2020.13(Sat Jun 13 12:26:38 UTC 2020)\n",
       "(EPL source distribution)\n",
       "Java Runtime: OpenJDK Runtime Environment\n",
       "JVM: OpenJDK 64-Bit Server VM\n",
       "Default Encoding: UTF-8\n",
       "Language: en\n",
       "Country: null\n",
       "--></g></svg>"
      ]
     },
     "execution_count": 43,
     "metadata": {},
     "output_type": "execute_result"
    }
   ],
   "source": [
    "%viz --style=\"DEFAULT\" --view=\"MIXED\" \"AliasTest\""
   ]
  },
  {
   "cell_type": "code",
   "execution_count": 44,
   "id": "47d8314b",
   "metadata": {
    "execution": {
     "iopub.execute_input": "2021-10-25T08:23:55.185833Z",
     "iopub.status.busy": "2021-10-25T08:23:55.185436Z",
     "iopub.status.idle": "2021-10-25T08:23:55.222642Z",
     "shell.execute_reply": "2021-10-25T08:23:55.222309Z"
    }
   },
   "outputs": [
    {
     "data": {
      "image/svg+xml": [
       "<?xml version=\"1.0\" encoding=\"UTF-8\" standalone=\"no\"?><svg xmlns=\"http://www.w3.org/2000/svg\" xmlns:xlink=\"http://www.w3.org/1999/xlink\" contentScriptType=\"application/ecmascript\" contentStyleType=\"text/css\" height=\"327px\" preserveAspectRatio=\"none\" style=\"width:453px;height:327px;\" version=\"1.1\" viewBox=\"0 0 453 327\" width=\"453px\" zoomAndPan=\"magnify\"><defs/><g><!--MD5=[fbc87193dbaf4d95561dea2c320d4a47]\n",
       "cluster E1--><a href=\"psysml:dccc75fb-db16-4804-85cb-688c27ce5ff3\" target=\"_top\" title=\"psysml:dccc75fb-db16-4804-85cb-688c27ce5ff3\" xlink:actuate=\"onRequest\" xlink:href=\"psysml:dccc75fb-db16-4804-85cb-688c27ce5ff3\" xlink:show=\"new\" xlink:title=\"psysml:dccc75fb-db16-4804-85cb-688c27ce5ff3\" xlink:type=\"simple\"><polygon fill=\"#FFFFFF\" points=\"16,6,84,6,91,28.2969,431,28.2969,431,315,16,315,16,6\" style=\"stroke: #000000; stroke-width: 1.5;\"/><line style=\"stroke: #000000; stroke-width: 1.5;\" x1=\"16\" x2=\"91\" y1=\"28.2969\" y2=\"28.2969\"/><text fill=\"#000000\" font-family=\"sans-serif\" font-size=\"14\" font-weight=\"bold\" lengthAdjust=\"spacingAndGlyphs\" textLength=\"62\" x=\"20\" y=\"20.9951\">AliasTest</text></a><!--MD5=[b4997ac47864f28c2f74865a473b2911]\n",
       "class E2--><a href=\"psysml:ce72622b-28d6-4d09-bee8-b5dd20a40a54\" target=\"_top\" title=\"psysml:ce72622b-28d6-4d09-bee8-b5dd20a40a54\" xlink:actuate=\"onRequest\" xlink:href=\"psysml:ce72622b-28d6-4d09-bee8-b5dd20a40a54\" xlink:show=\"new\" xlink:title=\"psysml:ce72622b-28d6-4d09-bee8-b5dd20a40a54\" xlink:type=\"simple\"><rect fill=\"#FFFFFF\" height=\"45.9375\" id=\"E2\" rx=\"10\" ry=\"10\" style=\"stroke: #383838; stroke-width: 1.5;\" width=\"213\" x=\"202.5\" y=\"41\"/><text fill=\"#000000\" font-family=\"sans-serif\" font-size=\"12\" font-style=\"italic\" lengthAdjust=\"spacingAndGlyphs\" textLength=\"69\" x=\"274.5\" y=\"57.1387\">«attribute»</text><text fill=\"#000000\" font-family=\"sans-serif\" font-size=\"12\" lengthAdjust=\"spacingAndGlyphs\" textLength=\"207\" x=\"205.5\" y=\"71.1074\">q :&gt; Quantities::tensorQuantities</text><line style=\"stroke: #383838; stroke-width: 1.5;\" x1=\"203.5\" x2=\"414.5\" y1=\"78.9375\" y2=\"78.9375\"/></a><!--MD5=[09b614a08d8cba4a07c9adeb5e0fee81]\n",
       "class E3--><a href=\"psysml:61eb2658-da6c-419b-a94e-058b00326cab\" target=\"_top\" title=\"psysml:61eb2658-da6c-419b-a94e-058b00326cab\" xlink:actuate=\"onRequest\" xlink:href=\"psysml:61eb2658-da6c-419b-a94e-058b00326cab\" xlink:show=\"new\" xlink:title=\"psysml:61eb2658-da6c-419b-a94e-058b00326cab\" xlink:type=\"simple\"><rect fill=\"#FFFFFF\" height=\"45.9375\" id=\"E3\" style=\"stroke: #383838; stroke-width: 1.5;\" width=\"70\" x=\"170\" y=\"147\"/><text fill=\"#000000\" font-family=\"sans-serif\" font-size=\"12\" font-style=\"italic\" lengthAdjust=\"spacingAndGlyphs\" textLength=\"68\" x=\"171\" y=\"163.1387\">«part  def»</text><text fill=\"#000000\" font-family=\"sans-serif\" font-size=\"12\" lengthAdjust=\"spacingAndGlyphs\" textLength=\"16\" x=\"197\" y=\"177.1074\">P1</text><line style=\"stroke: #383838; stroke-width: 1.5;\" x1=\"171\" x2=\"239\" y1=\"184.9375\" y2=\"184.9375\"/></a><!--MD5=[ebbe1d658d1005bcc118a6aa81145e00]\n",
       "class E4--><a href=\"psysml:9ae2babd-6d67-4765-bfe5-8d775f3bcf42\" target=\"_top\" title=\"psysml:9ae2babd-6d67-4765-bfe5-8d775f3bcf42\" xlink:actuate=\"onRequest\" xlink:href=\"psysml:9ae2babd-6d67-4765-bfe5-8d775f3bcf42\" xlink:show=\"new\" xlink:title=\"psysml:9ae2babd-6d67-4765-bfe5-8d775f3bcf42\" xlink:type=\"simple\"><rect fill=\"#FFFFFF\" height=\"45.9375\" id=\"E4\" rx=\"10\" ry=\"10\" style=\"stroke: #383838; stroke-width: 1.5;\" width=\"46\" x=\"182\" y=\"253\"/><text fill=\"#000000\" font-family=\"sans-serif\" font-size=\"12\" font-style=\"italic\" lengthAdjust=\"spacingAndGlyphs\" textLength=\"40\" x=\"185\" y=\"269.1387\">«port»</text><text fill=\"#000000\" font-family=\"sans-serif\" font-size=\"12\" lengthAdjust=\"spacingAndGlyphs\" textLength=\"40\" x=\"185\" y=\"283.1074\">porig1</text><line style=\"stroke: #383838; stroke-width: 1.5;\" x1=\"183\" x2=\"227\" y1=\"290.9375\" y2=\"290.9375\"/></a><!--MD5=[270fce915f116d4de14055a7c1d9a0f3]\n",
       "class E5--><a href=\"psysml:11b2a6df-aab5-4dc5-a120-8a7b1f52b05c\" target=\"_top\" title=\"psysml:11b2a6df-aab5-4dc5-a120-8a7b1f52b05c\" xlink:actuate=\"onRequest\" xlink:href=\"psysml:11b2a6df-aab5-4dc5-a120-8a7b1f52b05c\" xlink:show=\"new\" xlink:title=\"psysml:11b2a6df-aab5-4dc5-a120-8a7b1f52b05c\" xlink:type=\"simple\"><rect fill=\"#FFFFFF\" height=\"45.9375\" id=\"E5\" rx=\"10\" ry=\"10\" style=\"stroke: #383838; stroke-width: 1.5;\" width=\"50\" x=\"117\" y=\"41\"/><text fill=\"#000000\" font-family=\"sans-serif\" font-size=\"12\" font-style=\"italic\" lengthAdjust=\"spacingAndGlyphs\" textLength=\"40\" x=\"122\" y=\"57.1387\">«part»</text><text fill=\"#000000\" font-family=\"sans-serif\" font-size=\"12\" lengthAdjust=\"spacingAndGlyphs\" textLength=\"40\" x=\"120\" y=\"71.1074\">p1: P1</text><line style=\"stroke: #383838; stroke-width: 1.5;\" x1=\"118\" x2=\"166\" y1=\"78.9375\" y2=\"78.9375\"/></a><!--MD5=[60a26617385b1d2d0262a64233df1f8d]\n",
       "class E6--><a href=\"psysml:a231442e-2600-41cf-892c-df88027eb505\" target=\"_top\" title=\"psysml:a231442e-2600-41cf-892c-df88027eb505\" xlink:actuate=\"onRequest\" xlink:href=\"psysml:a231442e-2600-41cf-892c-df88027eb505\" xlink:show=\"new\" xlink:title=\"psysml:a231442e-2600-41cf-892c-df88027eb505\" xlink:type=\"simple\"><rect fill=\"#FFFFFF\" height=\"45.9375\" id=\"E6\" rx=\"10\" ry=\"10\" style=\"stroke: #383838; stroke-width: 1.5;\" width=\"42\" x=\"93\" y=\"147\"/><text fill=\"#000000\" font-family=\"sans-serif\" font-size=\"12\" font-style=\"italic\" lengthAdjust=\"spacingAndGlyphs\" textLength=\"40\" x=\"94\" y=\"163.1387\">«port»</text><text fill=\"#000000\" font-family=\"sans-serif\" font-size=\"12\" lengthAdjust=\"spacingAndGlyphs\" textLength=\"24\" x=\"102\" y=\"177.1074\">po1</text><line style=\"stroke: #383838; stroke-width: 1.5;\" x1=\"94\" x2=\"134\" y1=\"184.9375\" y2=\"184.9375\"/></a><!--MD5=[2156ba9850f5573cc1fc38a6a4b2f02b]\n",
       "class E7--><a href=\"psysml:2c2598c5-3ef5-4f1d-ae32-f3d429fa4c2f\" target=\"_top\" title=\"psysml:2c2598c5-3ef5-4f1d-ae32-f3d429fa4c2f\" xlink:actuate=\"onRequest\" xlink:href=\"psysml:2c2598c5-3ef5-4f1d-ae32-f3d429fa4c2f\" xlink:show=\"new\" xlink:title=\"psysml:2c2598c5-3ef5-4f1d-ae32-f3d429fa4c2f\" xlink:type=\"simple\"><rect fill=\"#FFFFFF\" height=\"45.9375\" id=\"E7\" rx=\"10\" ry=\"10\" style=\"stroke: #383838; stroke-width: 1.5;\" width=\"50\" x=\"32\" y=\"41\"/><text fill=\"#000000\" font-family=\"sans-serif\" font-size=\"12\" font-style=\"italic\" lengthAdjust=\"spacingAndGlyphs\" textLength=\"40\" x=\"37\" y=\"57.1387\">«part»</text><text fill=\"#000000\" font-family=\"sans-serif\" font-size=\"12\" lengthAdjust=\"spacingAndGlyphs\" textLength=\"40\" x=\"35\" y=\"71.1074\">p2: P1</text><line style=\"stroke: #383838; stroke-width: 1.5;\" x1=\"33\" x2=\"81\" y1=\"78.9375\" y2=\"78.9375\"/></a><!--MD5=[b9389687b975829384b498ac4b7476b2]\n",
       "class E8--><a href=\"psysml:10820d16-405d-40a2-9551-06e34552661e\" target=\"_top\" title=\"psysml:10820d16-405d-40a2-9551-06e34552661e\" xlink:actuate=\"onRequest\" xlink:href=\"psysml:10820d16-405d-40a2-9551-06e34552661e\" xlink:show=\"new\" xlink:title=\"psysml:10820d16-405d-40a2-9551-06e34552661e\" xlink:type=\"simple\"><rect fill=\"#FFFFFF\" height=\"45.9375\" id=\"E8\" rx=\"10\" ry=\"10\" style=\"stroke: #383838; stroke-width: 1.5;\" width=\"42\" x=\"65\" y=\"253\"/><text fill=\"#000000\" font-family=\"sans-serif\" font-size=\"12\" font-style=\"italic\" lengthAdjust=\"spacingAndGlyphs\" textLength=\"40\" x=\"66\" y=\"269.1387\">«port»</text><text fill=\"#000000\" font-family=\"sans-serif\" font-size=\"12\" lengthAdjust=\"spacingAndGlyphs\" textLength=\"36\" x=\"68\" y=\"283.1074\">pdest</text><line style=\"stroke: #383838; stroke-width: 1.5;\" x1=\"66\" x2=\"106\" y1=\"290.9375\" y2=\"290.9375\"/></a><!--MD5=[4672eba38e49728da53d11aeb285b987]\n",
       "reverse link E3 to E4--><a href=\"psysml:8e3ccc77-0a8c-4c0b-a5d7-07a6acaf5014\" target=\"_top\" title=\"psysml:8e3ccc77-0a8c-4c0b-a5d7-07a6acaf5014\" xlink:actuate=\"onRequest\" xlink:href=\"psysml:8e3ccc77-0a8c-4c0b-a5d7-07a6acaf5014\" xlink:show=\"new\" xlink:title=\"psysml:8e3ccc77-0a8c-4c0b-a5d7-07a6acaf5014\" xlink:type=\"simple\"><path d=\"M192.84,206.44 C191.7,221.87 192.21,239.47 194.36,252.98 \" fill=\"none\" id=\"E3&lt;-E4\" style=\"stroke: #383838; stroke-width: 1.0;\"/><polygon fill=\"#FFFFFF\" points=\"194.35,193.06,189.7032,198.5743,193.006,204.9845,197.6528,199.4702,194.35,193.06\" style=\"stroke: #383838; stroke-width: 1.0;\"/><text fill=\"#000000\" font-family=\"sans-serif\" font-size=\"13\" lengthAdjust=\"spacingAndGlyphs\" textLength=\"8\" x=\"182.4255\" y=\"241.8709\">1</text></a><!--MD5=[4672eba38e49728da53d11aeb285b987]\n",
       "reverse link E3 to E4--><a href=\"psysml:408c218d-2c50-4f10-8495-de57c6cccdaf\" target=\"_top\" title=\"psysml:408c218d-2c50-4f10-8495-de57c6cccdaf\" xlink:actuate=\"onRequest\" xlink:href=\"psysml:408c218d-2c50-4f10-8495-de57c6cccdaf\" xlink:show=\"new\" xlink:title=\"psysml:408c218d-2c50-4f10-8495-de57c6cccdaf\" xlink:type=\"simple\"><path d=\"M218.01,208.34 C219.03,223.3 218.45,240.02 216.27,252.98 \" fill=\"none\" id=\"E3&lt;-E4-1\" style=\"stroke: #383838; stroke-width: 1.0; stroke-dasharray: 7.0,7.0;\"/><ellipse cx=\"217.1693\" cy=\"201.0093\" fill=\"#FFFFFF\" rx=\"8\" ry=\"8\" style=\"stroke: #383838; stroke-width: 1.0;\"/><line style=\"stroke: #383838; stroke-width: 1.0;\" x1=\"218.0687\" x2=\"216.27\" y1=\"208.9586\" y2=\"193.06\"/><line style=\"stroke: #383838; stroke-width: 1.0;\" x1=\"209.2201\" x2=\"225.1186\" y1=\"201.9086\" y2=\"200.1099\"/><text fill=\"#000000\" font-family=\"sans-serif\" font-size=\"13\" lengthAdjust=\"spacingAndGlyphs\" textLength=\"8\" x=\"210.2238\" y=\"241.8709\">1</text></a><!--MD5=[e9be52314489bd878ff4c7144b63c9e1]\n",
       "link E5 to E3--><a href=\"psysml:39d7aa17-d9aa-4290-8253-e0b073366074\" target=\"_top\" title=\"psysml:39d7aa17-d9aa-4290-8253-e0b073366074\" xlink:actuate=\"onRequest\" xlink:href=\"psysml:39d7aa17-d9aa-4290-8253-e0b073366074\" xlink:show=\"new\" xlink:title=\"psysml:39d7aa17-d9aa-4290-8253-e0b073366074\" xlink:type=\"simple\"><path d=\"M155.36,87.06 C162.88,99.47 172.49,115.33 181.24,129.78 \" fill=\"none\" id=\"E5-&gt;E3\" style=\"stroke: #383838; stroke-width: 1.0;\"/><polygon fill=\"#FFFFFF\" points=\"191.66,146.98,175.8217,134.3646,187.792,127.1044,191.66,146.98\" style=\"stroke: #383838; stroke-width: 1.0;\"/><ellipse cx=\"174.5758\" cy=\"128.4538\" fill=\"#383838\" rx=\"2\" ry=\"2\" style=\"stroke: #383838; stroke-width: 1.0;\"/><ellipse cx=\"183.126\" cy=\"123.2679\" fill=\"#383838\" rx=\"2\" ry=\"2\" style=\"stroke: #383838; stroke-width: 1.0;\"/></a><!--MD5=[85d356282659285ab4b2cfe2f634dd2b]\n",
       "reverse link E5 to E6--><a href=\"psysml:0602bff9-807d-4c23-b932-30af011e0640\" target=\"_top\" title=\"psysml:0602bff9-807d-4c23-b932-30af011e0640\" xlink:actuate=\"onRequest\" xlink:href=\"psysml:0602bff9-807d-4c23-b932-30af011e0640\" xlink:show=\"new\" xlink:title=\"psysml:0602bff9-807d-4c23-b932-30af011e0640\" xlink:type=\"simple\"><path d=\"M132.59,99.96 C128.4,115.51 123.6,133.33 119.93,146.98 \" fill=\"none\" id=\"E5&lt;-E6\" style=\"stroke: #383838; stroke-width: 1.0;\"/><polygon fill=\"#FFFFFF\" points=\"136.06,87.06,130.641,91.8176,132.9484,98.6496,138.3674,93.892,136.06,87.06\" style=\"stroke: #383838; stroke-width: 1.0;\"/><text fill=\"#000000\" font-family=\"sans-serif\" font-size=\"13\" lengthAdjust=\"spacingAndGlyphs\" textLength=\"8\" x=\"112.4487\" y=\"135.8709\">1</text></a><!--MD5=[f667431f98296947986a1a7595a31603]\n",
       "link E6 to E4--><a href=\"psysml:5ed5dee3-04af-484b-a73a-bf3d62fb0484\" target=\"_top\" title=\"psysml:5ed5dee3-04af-484b-a73a-bf3d62fb0484\" xlink:actuate=\"onRequest\" xlink:href=\"psysml:5ed5dee3-04af-484b-a73a-bf3d62fb0484\" xlink:show=\"new\" xlink:title=\"psysml:5ed5dee3-04af-484b-a73a-bf3d62fb0484\" xlink:type=\"simple\"><path d=\"M133.3,193.06 C144.64,206.02 159.28,222.74 172.36,237.7 \" fill=\"none\" id=\"E6-&gt;E4\" style=\"stroke: #383838; stroke-width: 1.0;\"/><polygon fill=\"#FFFFFF\" points=\"185.73,252.98,167.9517,243.2882,178.489,234.0705,185.73,252.98\" style=\"stroke: #383838; stroke-width: 1.0;\"/><line style=\"stroke: #383838; stroke-width: 2.0;\" x1=\"165.4497\" x2=\"175.9871\" y1=\"240.4281\" y2=\"231.2104\"/></a><!--MD5=[14ccda38c055a5c0da953d572bc50960]\n",
       "link E7 to E3--><a href=\"psysml:6afc3f94-967f-4ac8-9c89-c7c9ad6aa496\" target=\"_top\" title=\"psysml:6afc3f94-967f-4ac8-9c89-c7c9ad6aa496\" xlink:actuate=\"onRequest\" xlink:href=\"psysml:6afc3f94-967f-4ac8-9c89-c7c9ad6aa496\" xlink:show=\"new\" xlink:title=\"psysml:6afc3f94-967f-4ac8-9c89-c7c9ad6aa496\" xlink:type=\"simple\"><path d=\"M82.11,82.64 C102.61,97.05 132.18,117.83 157.18,135.39 \" fill=\"none\" id=\"E7-&gt;E3\" style=\"stroke: #383838; stroke-width: 1.0;\"/><polygon fill=\"#FFFFFF\" points=\"173.58,146.92,154.011,141.7187,162.0629,130.266,173.58,146.92\" style=\"stroke: #383838; stroke-width: 1.0;\"/><ellipse cx=\"150.4983\" cy=\"136.8043\" fill=\"#383838\" rx=\"2\" ry=\"2\" style=\"stroke: #383838; stroke-width: 1.0;\"/><ellipse cx=\"156.2497\" cy=\"128.6238\" fill=\"#383838\" rx=\"2\" ry=\"2\" style=\"stroke: #383838; stroke-width: 1.0;\"/></a><!--MD5=[dc164f5e8a733ab456ef1add180e9e34]\n",
       "reverse link E7 to E8--><a href=\"psysml:9a63abc5-83ea-4d36-8ec2-a9e5009e1a31\" target=\"_top\" title=\"psysml:9a63abc5-83ea-4d36-8ec2-a9e5009e1a31\" xlink:actuate=\"onRequest\" xlink:href=\"psysml:9a63abc5-83ea-4d36-8ec2-a9e5009e1a31\" xlink:show=\"new\" xlink:title=\"psysml:9a63abc5-83ea-4d36-8ec2-a9e5009e1a31\" xlink:type=\"simple\"><path d=\"M52.05,100.09 C53.65,143.61 64.25,216.5 74.75,252.9 \" fill=\"none\" id=\"E7&lt;-E8\" style=\"stroke: #383838; stroke-width: 1.0;\"/><polygon fill=\"#FFFFFF\" points=\"51.85,87.08,47.9362,93.1366,52.0216,99.0788,55.9354,93.0222,51.85,87.08\" style=\"stroke: #383838; stroke-width: 1.0;\"/><text fill=\"#000000\" font-family=\"sans-serif\" font-size=\"13\" lengthAdjust=\"spacingAndGlyphs\" textLength=\"8\" x=\"62.6516\" y=\"241.7694\">1</text></a><!--MD5=[dc164f5e8a733ab456ef1add180e9e34]\n",
       "reverse link E7 to E8--><a href=\"psysml:af85dbb9-a19a-4dbd-bd41-700a2e1e88fd\" target=\"_top\" title=\"psysml:af85dbb9-a19a-4dbd-bd41-700a2e1e88fd\" xlink:actuate=\"onRequest\" xlink:href=\"psysml:af85dbb9-a19a-4dbd-bd41-700a2e1e88fd\" xlink:show=\"new\" xlink:title=\"psysml:af85dbb9-a19a-4dbd-bd41-700a2e1e88fd\" xlink:type=\"simple\"><path d=\"M72.64,101.8 C83.15,145.5 92.39,216.97 91.63,252.9 \" fill=\"none\" id=\"E7&lt;-E8-1\" style=\"stroke: #383838; stroke-width: 1.0; stroke-dasharray: 7.0,7.0;\"/><ellipse cx=\"70.7794\" cy=\"94.813\" fill=\"#FFFFFF\" rx=\"8\" ry=\"8\" style=\"stroke: #383838; stroke-width: 1.0;\"/><line style=\"stroke: #383838; stroke-width: 1.0;\" x1=\"72.8289\" x2=\"68.73\" y1=\"102.5461\" y2=\"87.08\"/><line style=\"stroke: #383838; stroke-width: 1.0;\" x1=\"63.0464\" x2=\"78.5125\" y1=\"96.8625\" y2=\"92.7636\"/><text fill=\"#000000\" font-family=\"sans-serif\" font-size=\"13\" lengthAdjust=\"spacingAndGlyphs\" textLength=\"8\" x=\"94.2181\" y=\"241.7694\">1</text></a><!--MD5=[0a839d0f80c2d72d4b9b307f046d0de8]\n",
       "link E6 to E8--><a href=\"psysml:ee24455c-c65b-41eb-8958-74c54e28cd84\" target=\"_top\" title=\"psysml:ee24455c-c65b-41eb-8958-74c54e28cd84\" xlink:actuate=\"onRequest\" xlink:href=\"psysml:ee24455c-c65b-41eb-8958-74c54e28cd84\" xlink:show=\"new\" xlink:title=\"psysml:ee24455c-c65b-41eb-8958-74c54e28cd84\" xlink:type=\"simple\"><path d=\"M97.42,193.06 C89.86,210.7 83.23,235.34 81.29,252.98 \" fill=\"none\" id=\"E6-E8\" style=\"stroke: #383838; stroke-width: 3.0;\"/><text fill=\"#000000\" font-family=\"sans-serif\" font-size=\"13\" lengthAdjust=\"spacingAndGlyphs\" textLength=\"7\" x=\"80.9648\" y=\"241.8709\">*</text></a><!--MD5=[0a839d0f80c2d72d4b9b307f046d0de8]\n",
       "link E6 to E8--><a href=\"psysml:1d0a5b52-6a4c-4cbe-b03e-99be5638e392\" target=\"_top\" title=\"psysml:1d0a5b52-6a4c-4cbe-b03e-99be5638e392\" xlink:actuate=\"onRequest\" xlink:href=\"psysml:1d0a5b52-6a4c-4cbe-b03e-99be5638e392\" xlink:show=\"new\" xlink:title=\"psysml:1d0a5b52-6a4c-4cbe-b03e-99be5638e392\" xlink:type=\"simple\"><path d=\"M119.33,193.06 C117.55,210.7 110.92,235.34 103.2,252.98 \" fill=\"none\" id=\"E6-E8-1\" style=\"stroke: #383838; stroke-width: 3.0;\"/><text fill=\"#000000\" font-family=\"sans-serif\" font-size=\"13\" lengthAdjust=\"spacingAndGlyphs\" textLength=\"7\" x=\"99.8819\" y=\"241.8709\">*</text></a><!--MD5=[b24f9ef8b3ffdc13000cffb8c3aa887f]\n",
       "@startuml\r\n",
       "top to bottom direction\r\n",
       "skinparam monochrome true\r\n",
       "skinparam classbackgroundcolor white\r\n",
       "skinparam shadowing false\r\n",
       "skinparam wrapWidth 300\r\n",
       "hide circle\r\n",
       "\r\n",
       "package \"AliasTest\" as E1  [[psysml:dccc75fb-db16-4804-85cb-688c27ce5ff3 ]]  {\r\n",
       "comp usage \"q :> Quantities::tensorQuantities\" as E2  <<(T,blue) attribute>> [[psysml:ce72622b-28d6-4d09-bee8-b5dd20a40a54 ]] {\r\n",
       "}\r\n",
       "comp def \"P1\" as E3  <<(T,blue) part  def>> [[psysml:61eb2658-da6c-419b-a94e-058b00326cab ]] {\r\n",
       "}\r\n",
       "comp usage \"porig1\" as E4  <<(T,blue) port>> [[psysml:9ae2babd-6d67-4765-bfe5-8d775f3bcf42 ]] {\r\n",
       "}\r\n",
       "comp usage \"p1: P1 \" as E5  <<(T,blue) part>> [[psysml:11b2a6df-aab5-4dc5-a120-8a7b1f52b05c ]] {\r\n",
       "}\r\n",
       "comp usage \"po1\" as E6  <<(T,blue) port>> [[psysml:a231442e-2600-41cf-892c-df88027eb505 ]] {\r\n",
       "}\r\n",
       "comp usage \"p2: P1 \" as E7  <<(T,blue) part>> [[psysml:2c2598c5-3ef5-4f1d-ae32-f3d429fa4c2f ]] {\r\n",
       "}\r\n",
       "comp usage \"pdest\" as E8  <<(T,blue) port>> [[psysml:10820d16-405d-40a2-9551-06e34552661e ]] {\r\n",
       "}\r\n",
       "}\r\n",
       "E3 o- - \"1\"E4 [[psysml:8e3ccc77-0a8c-4c0b-a5d7-07a6acaf5014 ]] \r\n",
       "E3 +.. \"1\"E4 [[psysml:408c218d-2c50-4f10-8495-de57c6cccdaf ]] \r\n",
       "E5 - -:|> E3 [[psysml:39d7aa17-d9aa-4290-8253-e0b073366074 ]] \r\n",
       "E5 o- - \"1\"E6 [[psysml:0602bff9-807d-4c23-b932-30af011e0640 ]] \r\n",
       "E6 - -||> E4 [[psysml:5ed5dee3-04af-484b-a73a-bf3d62fb0484 ]] \r\n",
       "E7 - -:|> E3 [[psysml:6afc3f94-967f-4ac8-9c89-c7c9ad6aa496 ]] \r\n",
       "E7 o- - \"1\"E8 [[psysml:9a63abc5-83ea-4d36-8ec2-a9e5009e1a31 ]] \r\n",
       "E7 +.. \"1\"E8 [[psysml:af85dbb9-a19a-4dbd-bd41-700a2e1e88fd ]] \r\n",
       "E6 -[thickness=3]- \"*\"E8 [[psysml:ee24455c-c65b-41eb-8958-74c54e28cd84 ]] \r\n",
       "E6 -[thickness=3]- \"*\"E8 [[psysml:1d0a5b52-6a4c-4cbe-b03e-99be5638e392 ]] \r\n",
       "@enduml\r\n",
       "\n",
       "PlantUML version 1.2020.13(Sat Jun 13 12:26:38 UTC 2020)\n",
       "(EPL source distribution)\n",
       "Java Runtime: OpenJDK Runtime Environment\n",
       "JVM: OpenJDK 64-Bit Server VM\n",
       "Default Encoding: UTF-8\n",
       "Language: en\n",
       "Country: null\n",
       "--></g></svg>"
      ]
     },
     "execution_count": 44,
     "metadata": {},
     "output_type": "execute_result"
    }
   ],
   "source": [
    "%viz --style=\"TB\" --view=\"Default\" \"AliasTest\""
   ]
  },
  {
   "cell_type": "code",
   "execution_count": 45,
   "id": "e6e8a80a",
   "metadata": {
    "execution": {
     "iopub.execute_input": "2021-10-25T08:23:55.271873Z",
     "iopub.status.busy": "2021-10-25T08:23:55.271481Z",
     "iopub.status.idle": "2021-10-25T08:23:55.308836Z",
     "shell.execute_reply": "2021-10-25T08:23:55.308502Z"
    }
   },
   "outputs": [
    {
     "data": {
      "image/svg+xml": [
       "<?xml version=\"1.0\" encoding=\"UTF-8\" standalone=\"no\"?><svg xmlns=\"http://www.w3.org/2000/svg\" xmlns:xlink=\"http://www.w3.org/1999/xlink\" contentScriptType=\"application/ecmascript\" contentStyleType=\"text/css\" height=\"327px\" preserveAspectRatio=\"none\" style=\"width:453px;height:327px;\" version=\"1.1\" viewBox=\"0 0 453 327\" width=\"453px\" zoomAndPan=\"magnify\"><defs/><g><!--MD5=[fbc87193dbaf4d95561dea2c320d4a47]\n",
       "cluster E1--><a href=\"psysml:dccc75fb-db16-4804-85cb-688c27ce5ff3\" target=\"_top\" title=\"psysml:dccc75fb-db16-4804-85cb-688c27ce5ff3\" xlink:actuate=\"onRequest\" xlink:href=\"psysml:dccc75fb-db16-4804-85cb-688c27ce5ff3\" xlink:show=\"new\" xlink:title=\"psysml:dccc75fb-db16-4804-85cb-688c27ce5ff3\" xlink:type=\"simple\"><polygon fill=\"#FFFFFF\" points=\"16,6,84,6,91,28.2969,431,28.2969,431,315,16,315,16,6\" style=\"stroke: #000000; stroke-width: 1.5;\"/><line style=\"stroke: #000000; stroke-width: 1.5;\" x1=\"16\" x2=\"91\" y1=\"28.2969\" y2=\"28.2969\"/><text fill=\"#000000\" font-family=\"sans-serif\" font-size=\"14\" font-weight=\"bold\" lengthAdjust=\"spacingAndGlyphs\" textLength=\"62\" x=\"20\" y=\"20.9951\">AliasTest</text></a><!--MD5=[b4997ac47864f28c2f74865a473b2911]\n",
       "class E2--><a href=\"psysml:ce72622b-28d6-4d09-bee8-b5dd20a40a54\" target=\"_top\" title=\"psysml:ce72622b-28d6-4d09-bee8-b5dd20a40a54\" xlink:actuate=\"onRequest\" xlink:href=\"psysml:ce72622b-28d6-4d09-bee8-b5dd20a40a54\" xlink:show=\"new\" xlink:title=\"psysml:ce72622b-28d6-4d09-bee8-b5dd20a40a54\" xlink:type=\"simple\"><rect fill=\"#FFFFFF\" height=\"45.9375\" id=\"E2\" rx=\"10\" ry=\"10\" style=\"stroke: #383838; stroke-width: 1.5;\" width=\"213\" x=\"202.5\" y=\"41\"/><text fill=\"#000000\" font-family=\"sans-serif\" font-size=\"12\" font-style=\"italic\" lengthAdjust=\"spacingAndGlyphs\" textLength=\"69\" x=\"274.5\" y=\"57.1387\">«attribute»</text><text fill=\"#000000\" font-family=\"sans-serif\" font-size=\"12\" lengthAdjust=\"spacingAndGlyphs\" textLength=\"207\" x=\"205.5\" y=\"71.1074\">q :&gt; Quantities::tensorQuantities</text><line style=\"stroke: #383838; stroke-width: 1.5;\" x1=\"203.5\" x2=\"414.5\" y1=\"78.9375\" y2=\"78.9375\"/></a><!--MD5=[09b614a08d8cba4a07c9adeb5e0fee81]\n",
       "class E3--><a href=\"psysml:61eb2658-da6c-419b-a94e-058b00326cab\" target=\"_top\" title=\"psysml:61eb2658-da6c-419b-a94e-058b00326cab\" xlink:actuate=\"onRequest\" xlink:href=\"psysml:61eb2658-da6c-419b-a94e-058b00326cab\" xlink:show=\"new\" xlink:title=\"psysml:61eb2658-da6c-419b-a94e-058b00326cab\" xlink:type=\"simple\"><rect fill=\"#FFFFFF\" height=\"45.9375\" id=\"E3\" style=\"stroke: #383838; stroke-width: 1.5;\" width=\"70\" x=\"170\" y=\"147\"/><text fill=\"#000000\" font-family=\"sans-serif\" font-size=\"12\" font-style=\"italic\" lengthAdjust=\"spacingAndGlyphs\" textLength=\"68\" x=\"171\" y=\"163.1387\">«part  def»</text><text fill=\"#000000\" font-family=\"sans-serif\" font-size=\"12\" lengthAdjust=\"spacingAndGlyphs\" textLength=\"16\" x=\"197\" y=\"177.1074\">P1</text><line style=\"stroke: #383838; stroke-width: 1.5;\" x1=\"171\" x2=\"239\" y1=\"184.9375\" y2=\"184.9375\"/></a><!--MD5=[ebbe1d658d1005bcc118a6aa81145e00]\n",
       "class E4--><a href=\"psysml:9ae2babd-6d67-4765-bfe5-8d775f3bcf42\" target=\"_top\" title=\"psysml:9ae2babd-6d67-4765-bfe5-8d775f3bcf42\" xlink:actuate=\"onRequest\" xlink:href=\"psysml:9ae2babd-6d67-4765-bfe5-8d775f3bcf42\" xlink:show=\"new\" xlink:title=\"psysml:9ae2babd-6d67-4765-bfe5-8d775f3bcf42\" xlink:type=\"simple\"><rect fill=\"#FFFFFF\" height=\"45.9375\" id=\"E4\" rx=\"10\" ry=\"10\" style=\"stroke: #383838; stroke-width: 1.5;\" width=\"46\" x=\"182\" y=\"253\"/><text fill=\"#000000\" font-family=\"sans-serif\" font-size=\"12\" font-style=\"italic\" lengthAdjust=\"spacingAndGlyphs\" textLength=\"40\" x=\"185\" y=\"269.1387\">«port»</text><text fill=\"#000000\" font-family=\"sans-serif\" font-size=\"12\" lengthAdjust=\"spacingAndGlyphs\" textLength=\"40\" x=\"185\" y=\"283.1074\">porig1</text><line style=\"stroke: #383838; stroke-width: 1.5;\" x1=\"183\" x2=\"227\" y1=\"290.9375\" y2=\"290.9375\"/></a><!--MD5=[270fce915f116d4de14055a7c1d9a0f3]\n",
       "class E5--><a href=\"psysml:11b2a6df-aab5-4dc5-a120-8a7b1f52b05c\" target=\"_top\" title=\"psysml:11b2a6df-aab5-4dc5-a120-8a7b1f52b05c\" xlink:actuate=\"onRequest\" xlink:href=\"psysml:11b2a6df-aab5-4dc5-a120-8a7b1f52b05c\" xlink:show=\"new\" xlink:title=\"psysml:11b2a6df-aab5-4dc5-a120-8a7b1f52b05c\" xlink:type=\"simple\"><rect fill=\"#FFFFFF\" height=\"45.9375\" id=\"E5\" rx=\"10\" ry=\"10\" style=\"stroke: #383838; stroke-width: 1.5;\" width=\"50\" x=\"117\" y=\"41\"/><text fill=\"#000000\" font-family=\"sans-serif\" font-size=\"12\" font-style=\"italic\" lengthAdjust=\"spacingAndGlyphs\" textLength=\"40\" x=\"122\" y=\"57.1387\">«part»</text><text fill=\"#000000\" font-family=\"sans-serif\" font-size=\"12\" lengthAdjust=\"spacingAndGlyphs\" textLength=\"40\" x=\"120\" y=\"71.1074\">p1: P1</text><line style=\"stroke: #383838; stroke-width: 1.5;\" x1=\"118\" x2=\"166\" y1=\"78.9375\" y2=\"78.9375\"/></a><!--MD5=[60a26617385b1d2d0262a64233df1f8d]\n",
       "class E6--><a href=\"psysml:a231442e-2600-41cf-892c-df88027eb505\" target=\"_top\" title=\"psysml:a231442e-2600-41cf-892c-df88027eb505\" xlink:actuate=\"onRequest\" xlink:href=\"psysml:a231442e-2600-41cf-892c-df88027eb505\" xlink:show=\"new\" xlink:title=\"psysml:a231442e-2600-41cf-892c-df88027eb505\" xlink:type=\"simple\"><rect fill=\"#FFFFFF\" height=\"45.9375\" id=\"E6\" rx=\"10\" ry=\"10\" style=\"stroke: #383838; stroke-width: 1.5;\" width=\"42\" x=\"93\" y=\"147\"/><text fill=\"#000000\" font-family=\"sans-serif\" font-size=\"12\" font-style=\"italic\" lengthAdjust=\"spacingAndGlyphs\" textLength=\"40\" x=\"94\" y=\"163.1387\">«port»</text><text fill=\"#000000\" font-family=\"sans-serif\" font-size=\"12\" lengthAdjust=\"spacingAndGlyphs\" textLength=\"24\" x=\"102\" y=\"177.1074\">po1</text><line style=\"stroke: #383838; stroke-width: 1.5;\" x1=\"94\" x2=\"134\" y1=\"184.9375\" y2=\"184.9375\"/></a><!--MD5=[2156ba9850f5573cc1fc38a6a4b2f02b]\n",
       "class E7--><a href=\"psysml:2c2598c5-3ef5-4f1d-ae32-f3d429fa4c2f\" target=\"_top\" title=\"psysml:2c2598c5-3ef5-4f1d-ae32-f3d429fa4c2f\" xlink:actuate=\"onRequest\" xlink:href=\"psysml:2c2598c5-3ef5-4f1d-ae32-f3d429fa4c2f\" xlink:show=\"new\" xlink:title=\"psysml:2c2598c5-3ef5-4f1d-ae32-f3d429fa4c2f\" xlink:type=\"simple\"><rect fill=\"#FFFFFF\" height=\"45.9375\" id=\"E7\" rx=\"10\" ry=\"10\" style=\"stroke: #383838; stroke-width: 1.5;\" width=\"50\" x=\"32\" y=\"41\"/><text fill=\"#000000\" font-family=\"sans-serif\" font-size=\"12\" font-style=\"italic\" lengthAdjust=\"spacingAndGlyphs\" textLength=\"40\" x=\"37\" y=\"57.1387\">«part»</text><text fill=\"#000000\" font-family=\"sans-serif\" font-size=\"12\" lengthAdjust=\"spacingAndGlyphs\" textLength=\"40\" x=\"35\" y=\"71.1074\">p2: P1</text><line style=\"stroke: #383838; stroke-width: 1.5;\" x1=\"33\" x2=\"81\" y1=\"78.9375\" y2=\"78.9375\"/></a><!--MD5=[b9389687b975829384b498ac4b7476b2]\n",
       "class E8--><a href=\"psysml:10820d16-405d-40a2-9551-06e34552661e\" target=\"_top\" title=\"psysml:10820d16-405d-40a2-9551-06e34552661e\" xlink:actuate=\"onRequest\" xlink:href=\"psysml:10820d16-405d-40a2-9551-06e34552661e\" xlink:show=\"new\" xlink:title=\"psysml:10820d16-405d-40a2-9551-06e34552661e\" xlink:type=\"simple\"><rect fill=\"#FFFFFF\" height=\"45.9375\" id=\"E8\" rx=\"10\" ry=\"10\" style=\"stroke: #383838; stroke-width: 1.5;\" width=\"42\" x=\"65\" y=\"253\"/><text fill=\"#000000\" font-family=\"sans-serif\" font-size=\"12\" font-style=\"italic\" lengthAdjust=\"spacingAndGlyphs\" textLength=\"40\" x=\"66\" y=\"269.1387\">«port»</text><text fill=\"#000000\" font-family=\"sans-serif\" font-size=\"12\" lengthAdjust=\"spacingAndGlyphs\" textLength=\"36\" x=\"68\" y=\"283.1074\">pdest</text><line style=\"stroke: #383838; stroke-width: 1.5;\" x1=\"66\" x2=\"106\" y1=\"290.9375\" y2=\"290.9375\"/></a><!--MD5=[4672eba38e49728da53d11aeb285b987]\n",
       "reverse link E3 to E4--><a href=\"psysml:8e3ccc77-0a8c-4c0b-a5d7-07a6acaf5014\" target=\"_top\" title=\"psysml:8e3ccc77-0a8c-4c0b-a5d7-07a6acaf5014\" xlink:actuate=\"onRequest\" xlink:href=\"psysml:8e3ccc77-0a8c-4c0b-a5d7-07a6acaf5014\" xlink:show=\"new\" xlink:title=\"psysml:8e3ccc77-0a8c-4c0b-a5d7-07a6acaf5014\" xlink:type=\"simple\"><path d=\"M192.84,206.44 C191.7,221.87 192.21,239.47 194.36,252.98 \" fill=\"none\" id=\"E3&lt;-E4\" style=\"stroke: #383838; stroke-width: 1.0;\"/><polygon fill=\"#FFFFFF\" points=\"194.35,193.06,189.7032,198.5743,193.006,204.9845,197.6528,199.4702,194.35,193.06\" style=\"stroke: #383838; stroke-width: 1.0;\"/><text fill=\"#000000\" font-family=\"sans-serif\" font-size=\"13\" lengthAdjust=\"spacingAndGlyphs\" textLength=\"8\" x=\"182.4255\" y=\"241.8709\">1</text></a><!--MD5=[4672eba38e49728da53d11aeb285b987]\n",
       "reverse link E3 to E4--><a href=\"psysml:408c218d-2c50-4f10-8495-de57c6cccdaf\" target=\"_top\" title=\"psysml:408c218d-2c50-4f10-8495-de57c6cccdaf\" xlink:actuate=\"onRequest\" xlink:href=\"psysml:408c218d-2c50-4f10-8495-de57c6cccdaf\" xlink:show=\"new\" xlink:title=\"psysml:408c218d-2c50-4f10-8495-de57c6cccdaf\" xlink:type=\"simple\"><path d=\"M218.01,208.34 C219.03,223.3 218.45,240.02 216.27,252.98 \" fill=\"none\" id=\"E3&lt;-E4-1\" style=\"stroke: #383838; stroke-width: 1.0; stroke-dasharray: 7.0,7.0;\"/><ellipse cx=\"217.1693\" cy=\"201.0093\" fill=\"#FFFFFF\" rx=\"8\" ry=\"8\" style=\"stroke: #383838; stroke-width: 1.0;\"/><line style=\"stroke: #383838; stroke-width: 1.0;\" x1=\"218.0687\" x2=\"216.27\" y1=\"208.9586\" y2=\"193.06\"/><line style=\"stroke: #383838; stroke-width: 1.0;\" x1=\"209.2201\" x2=\"225.1186\" y1=\"201.9086\" y2=\"200.1099\"/><text fill=\"#000000\" font-family=\"sans-serif\" font-size=\"13\" lengthAdjust=\"spacingAndGlyphs\" textLength=\"8\" x=\"210.2238\" y=\"241.8709\">1</text></a><!--MD5=[e9be52314489bd878ff4c7144b63c9e1]\n",
       "link E5 to E3--><a href=\"psysml:39d7aa17-d9aa-4290-8253-e0b073366074\" target=\"_top\" title=\"psysml:39d7aa17-d9aa-4290-8253-e0b073366074\" xlink:actuate=\"onRequest\" xlink:href=\"psysml:39d7aa17-d9aa-4290-8253-e0b073366074\" xlink:show=\"new\" xlink:title=\"psysml:39d7aa17-d9aa-4290-8253-e0b073366074\" xlink:type=\"simple\"><path d=\"M155.36,87.06 C162.88,99.47 172.49,115.33 181.24,129.78 \" fill=\"none\" id=\"E5-&gt;E3\" style=\"stroke: #383838; stroke-width: 1.0;\"/><polygon fill=\"#FFFFFF\" points=\"191.66,146.98,175.8217,134.3646,187.792,127.1044,191.66,146.98\" style=\"stroke: #383838; stroke-width: 1.0;\"/><ellipse cx=\"174.5758\" cy=\"128.4538\" fill=\"#383838\" rx=\"2\" ry=\"2\" style=\"stroke: #383838; stroke-width: 1.0;\"/><ellipse cx=\"183.126\" cy=\"123.2679\" fill=\"#383838\" rx=\"2\" ry=\"2\" style=\"stroke: #383838; stroke-width: 1.0;\"/></a><!--MD5=[85d356282659285ab4b2cfe2f634dd2b]\n",
       "reverse link E5 to E6--><a href=\"psysml:0602bff9-807d-4c23-b932-30af011e0640\" target=\"_top\" title=\"psysml:0602bff9-807d-4c23-b932-30af011e0640\" xlink:actuate=\"onRequest\" xlink:href=\"psysml:0602bff9-807d-4c23-b932-30af011e0640\" xlink:show=\"new\" xlink:title=\"psysml:0602bff9-807d-4c23-b932-30af011e0640\" xlink:type=\"simple\"><path d=\"M132.59,99.96 C128.4,115.51 123.6,133.33 119.93,146.98 \" fill=\"none\" id=\"E5&lt;-E6\" style=\"stroke: #383838; stroke-width: 1.0;\"/><polygon fill=\"#FFFFFF\" points=\"136.06,87.06,130.641,91.8176,132.9484,98.6496,138.3674,93.892,136.06,87.06\" style=\"stroke: #383838; stroke-width: 1.0;\"/><text fill=\"#000000\" font-family=\"sans-serif\" font-size=\"13\" lengthAdjust=\"spacingAndGlyphs\" textLength=\"8\" x=\"112.4487\" y=\"135.8709\">1</text></a><!--MD5=[f667431f98296947986a1a7595a31603]\n",
       "link E6 to E4--><a href=\"psysml:5ed5dee3-04af-484b-a73a-bf3d62fb0484\" target=\"_top\" title=\"psysml:5ed5dee3-04af-484b-a73a-bf3d62fb0484\" xlink:actuate=\"onRequest\" xlink:href=\"psysml:5ed5dee3-04af-484b-a73a-bf3d62fb0484\" xlink:show=\"new\" xlink:title=\"psysml:5ed5dee3-04af-484b-a73a-bf3d62fb0484\" xlink:type=\"simple\"><path d=\"M133.3,193.06 C144.64,206.02 159.28,222.74 172.36,237.7 \" fill=\"none\" id=\"E6-&gt;E4\" style=\"stroke: #383838; stroke-width: 1.0;\"/><polygon fill=\"#FFFFFF\" points=\"185.73,252.98,167.9517,243.2882,178.489,234.0705,185.73,252.98\" style=\"stroke: #383838; stroke-width: 1.0;\"/><line style=\"stroke: #383838; stroke-width: 2.0;\" x1=\"165.4497\" x2=\"175.9871\" y1=\"240.4281\" y2=\"231.2104\"/></a><!--MD5=[14ccda38c055a5c0da953d572bc50960]\n",
       "link E7 to E3--><a href=\"psysml:6afc3f94-967f-4ac8-9c89-c7c9ad6aa496\" target=\"_top\" title=\"psysml:6afc3f94-967f-4ac8-9c89-c7c9ad6aa496\" xlink:actuate=\"onRequest\" xlink:href=\"psysml:6afc3f94-967f-4ac8-9c89-c7c9ad6aa496\" xlink:show=\"new\" xlink:title=\"psysml:6afc3f94-967f-4ac8-9c89-c7c9ad6aa496\" xlink:type=\"simple\"><path d=\"M82.11,82.64 C102.61,97.05 132.18,117.83 157.18,135.39 \" fill=\"none\" id=\"E7-&gt;E3\" style=\"stroke: #383838; stroke-width: 1.0;\"/><polygon fill=\"#FFFFFF\" points=\"173.58,146.92,154.011,141.7187,162.0629,130.266,173.58,146.92\" style=\"stroke: #383838; stroke-width: 1.0;\"/><ellipse cx=\"150.4983\" cy=\"136.8043\" fill=\"#383838\" rx=\"2\" ry=\"2\" style=\"stroke: #383838; stroke-width: 1.0;\"/><ellipse cx=\"156.2497\" cy=\"128.6238\" fill=\"#383838\" rx=\"2\" ry=\"2\" style=\"stroke: #383838; stroke-width: 1.0;\"/></a><!--MD5=[dc164f5e8a733ab456ef1add180e9e34]\n",
       "reverse link E7 to E8--><a href=\"psysml:9a63abc5-83ea-4d36-8ec2-a9e5009e1a31\" target=\"_top\" title=\"psysml:9a63abc5-83ea-4d36-8ec2-a9e5009e1a31\" xlink:actuate=\"onRequest\" xlink:href=\"psysml:9a63abc5-83ea-4d36-8ec2-a9e5009e1a31\" xlink:show=\"new\" xlink:title=\"psysml:9a63abc5-83ea-4d36-8ec2-a9e5009e1a31\" xlink:type=\"simple\"><path d=\"M52.05,100.09 C53.65,143.61 64.25,216.5 74.75,252.9 \" fill=\"none\" id=\"E7&lt;-E8\" style=\"stroke: #383838; stroke-width: 1.0;\"/><polygon fill=\"#FFFFFF\" points=\"51.85,87.08,47.9362,93.1366,52.0216,99.0788,55.9354,93.0222,51.85,87.08\" style=\"stroke: #383838; stroke-width: 1.0;\"/><text fill=\"#000000\" font-family=\"sans-serif\" font-size=\"13\" lengthAdjust=\"spacingAndGlyphs\" textLength=\"8\" x=\"62.6516\" y=\"241.7694\">1</text></a><!--MD5=[dc164f5e8a733ab456ef1add180e9e34]\n",
       "reverse link E7 to E8--><a href=\"psysml:af85dbb9-a19a-4dbd-bd41-700a2e1e88fd\" target=\"_top\" title=\"psysml:af85dbb9-a19a-4dbd-bd41-700a2e1e88fd\" xlink:actuate=\"onRequest\" xlink:href=\"psysml:af85dbb9-a19a-4dbd-bd41-700a2e1e88fd\" xlink:show=\"new\" xlink:title=\"psysml:af85dbb9-a19a-4dbd-bd41-700a2e1e88fd\" xlink:type=\"simple\"><path d=\"M72.64,101.8 C83.15,145.5 92.39,216.97 91.63,252.9 \" fill=\"none\" id=\"E7&lt;-E8-1\" style=\"stroke: #383838; stroke-width: 1.0; stroke-dasharray: 7.0,7.0;\"/><ellipse cx=\"70.7794\" cy=\"94.813\" fill=\"#FFFFFF\" rx=\"8\" ry=\"8\" style=\"stroke: #383838; stroke-width: 1.0;\"/><line style=\"stroke: #383838; stroke-width: 1.0;\" x1=\"72.8289\" x2=\"68.73\" y1=\"102.5461\" y2=\"87.08\"/><line style=\"stroke: #383838; stroke-width: 1.0;\" x1=\"63.0464\" x2=\"78.5125\" y1=\"96.8625\" y2=\"92.7636\"/><text fill=\"#000000\" font-family=\"sans-serif\" font-size=\"13\" lengthAdjust=\"spacingAndGlyphs\" textLength=\"8\" x=\"94.2181\" y=\"241.7694\">1</text></a><!--MD5=[0a839d0f80c2d72d4b9b307f046d0de8]\n",
       "link E6 to E8--><a href=\"psysml:ee24455c-c65b-41eb-8958-74c54e28cd84\" target=\"_top\" title=\"psysml:ee24455c-c65b-41eb-8958-74c54e28cd84\" xlink:actuate=\"onRequest\" xlink:href=\"psysml:ee24455c-c65b-41eb-8958-74c54e28cd84\" xlink:show=\"new\" xlink:title=\"psysml:ee24455c-c65b-41eb-8958-74c54e28cd84\" xlink:type=\"simple\"><path d=\"M97.42,193.06 C89.86,210.7 83.23,235.34 81.29,252.98 \" fill=\"none\" id=\"E6-E8\" style=\"stroke: #383838; stroke-width: 3.0;\"/><text fill=\"#000000\" font-family=\"sans-serif\" font-size=\"13\" lengthAdjust=\"spacingAndGlyphs\" textLength=\"7\" x=\"80.9648\" y=\"241.8709\">*</text></a><!--MD5=[0a839d0f80c2d72d4b9b307f046d0de8]\n",
       "link E6 to E8--><a href=\"psysml:1d0a5b52-6a4c-4cbe-b03e-99be5638e392\" target=\"_top\" title=\"psysml:1d0a5b52-6a4c-4cbe-b03e-99be5638e392\" xlink:actuate=\"onRequest\" xlink:href=\"psysml:1d0a5b52-6a4c-4cbe-b03e-99be5638e392\" xlink:show=\"new\" xlink:title=\"psysml:1d0a5b52-6a4c-4cbe-b03e-99be5638e392\" xlink:type=\"simple\"><path d=\"M119.33,193.06 C117.55,210.7 110.92,235.34 103.2,252.98 \" fill=\"none\" id=\"E6-E8-1\" style=\"stroke: #383838; stroke-width: 3.0;\"/><text fill=\"#000000\" font-family=\"sans-serif\" font-size=\"13\" lengthAdjust=\"spacingAndGlyphs\" textLength=\"7\" x=\"99.8819\" y=\"241.8709\">*</text></a><!--MD5=[b24f9ef8b3ffdc13000cffb8c3aa887f]\n",
       "@startuml\r\n",
       "top to bottom direction\r\n",
       "skinparam monochrome true\r\n",
       "skinparam classbackgroundcolor white\r\n",
       "skinparam shadowing false\r\n",
       "skinparam wrapWidth 300\r\n",
       "hide circle\r\n",
       "\r\n",
       "package \"AliasTest\" as E1  [[psysml:dccc75fb-db16-4804-85cb-688c27ce5ff3 ]]  {\r\n",
       "comp usage \"q :> Quantities::tensorQuantities\" as E2  <<(T,blue) attribute>> [[psysml:ce72622b-28d6-4d09-bee8-b5dd20a40a54 ]] {\r\n",
       "}\r\n",
       "comp def \"P1\" as E3  <<(T,blue) part  def>> [[psysml:61eb2658-da6c-419b-a94e-058b00326cab ]] {\r\n",
       "}\r\n",
       "comp usage \"porig1\" as E4  <<(T,blue) port>> [[psysml:9ae2babd-6d67-4765-bfe5-8d775f3bcf42 ]] {\r\n",
       "}\r\n",
       "comp usage \"p1: P1 \" as E5  <<(T,blue) part>> [[psysml:11b2a6df-aab5-4dc5-a120-8a7b1f52b05c ]] {\r\n",
       "}\r\n",
       "comp usage \"po1\" as E6  <<(T,blue) port>> [[psysml:a231442e-2600-41cf-892c-df88027eb505 ]] {\r\n",
       "}\r\n",
       "comp usage \"p2: P1 \" as E7  <<(T,blue) part>> [[psysml:2c2598c5-3ef5-4f1d-ae32-f3d429fa4c2f ]] {\r\n",
       "}\r\n",
       "comp usage \"pdest\" as E8  <<(T,blue) port>> [[psysml:10820d16-405d-40a2-9551-06e34552661e ]] {\r\n",
       "}\r\n",
       "}\r\n",
       "E3 o- - \"1\"E4 [[psysml:8e3ccc77-0a8c-4c0b-a5d7-07a6acaf5014 ]] \r\n",
       "E3 +.. \"1\"E4 [[psysml:408c218d-2c50-4f10-8495-de57c6cccdaf ]] \r\n",
       "E5 - -:|> E3 [[psysml:39d7aa17-d9aa-4290-8253-e0b073366074 ]] \r\n",
       "E5 o- - \"1\"E6 [[psysml:0602bff9-807d-4c23-b932-30af011e0640 ]] \r\n",
       "E6 - -||> E4 [[psysml:5ed5dee3-04af-484b-a73a-bf3d62fb0484 ]] \r\n",
       "E7 - -:|> E3 [[psysml:6afc3f94-967f-4ac8-9c89-c7c9ad6aa496 ]] \r\n",
       "E7 o- - \"1\"E8 [[psysml:9a63abc5-83ea-4d36-8ec2-a9e5009e1a31 ]] \r\n",
       "E7 +.. \"1\"E8 [[psysml:af85dbb9-a19a-4dbd-bd41-700a2e1e88fd ]] \r\n",
       "E6 -[thickness=3]- \"*\"E8 [[psysml:ee24455c-c65b-41eb-8958-74c54e28cd84 ]] \r\n",
       "E6 -[thickness=3]- \"*\"E8 [[psysml:1d0a5b52-6a4c-4cbe-b03e-99be5638e392 ]] \r\n",
       "@enduml\r\n",
       "\n",
       "PlantUML version 1.2020.13(Sat Jun 13 12:26:38 UTC 2020)\n",
       "(EPL source distribution)\n",
       "Java Runtime: OpenJDK Runtime Environment\n",
       "JVM: OpenJDK 64-Bit Server VM\n",
       "Default Encoding: UTF-8\n",
       "Language: en\n",
       "Country: null\n",
       "--></g></svg>"
      ]
     },
     "execution_count": 45,
     "metadata": {},
     "output_type": "execute_result"
    }
   ],
   "source": [
    "%viz --style=\"TB\" --view=\"Tree\" \"AliasTest\""
   ]
  },
  {
   "cell_type": "code",
   "execution_count": 46,
   "id": "24693f02",
   "metadata": {
    "execution": {
     "iopub.execute_input": "2021-10-25T08:23:55.358237Z",
     "iopub.status.busy": "2021-10-25T08:23:55.357824Z",
     "iopub.status.idle": "2021-10-25T08:23:55.362891Z",
     "shell.execute_reply": "2021-10-25T08:23:55.363211Z"
    }
   },
   "outputs": [
    {
     "data": {
      "image/svg+xml": [
       "<?xml version=\"1.0\" encoding=\"UTF-8\" standalone=\"no\"?><svg xmlns=\"http://www.w3.org/2000/svg\" xmlns:xlink=\"http://www.w3.org/1999/xlink\" contentScriptType=\"application/ecmascript\" contentStyleType=\"text/css\" height=\"12px\" preserveAspectRatio=\"none\" style=\"width:12px;height:12px;\" version=\"1.1\" viewBox=\"0 0 12 12\" width=\"12px\" zoomAndPan=\"magnify\"><defs/><g><!--MD5=[f4ee21bc66e489b5061b7c3e9601fdef]\n",
       "@startuml\r\n",
       "top to bottom direction\r\n",
       "skinparam monochrome true\r\n",
       "skinparam classbackgroundcolor white\r\n",
       "skinparam shadowing false\r\n",
       "skinparam wrapWidth 300\r\n",
       "hide circle\r\n",
       "\r\n",
       "@enduml\r\n",
       "\n",
       "PlantUML version 1.2020.13(Sat Jun 13 12:26:38 UTC 2020)\n",
       "(EPL source distribution)\n",
       "Java Runtime: OpenJDK Runtime Environment\n",
       "JVM: OpenJDK 64-Bit Server VM\n",
       "Default Encoding: UTF-8\n",
       "Language: en\n",
       "Country: null\n",
       "--></g></svg>"
      ]
     },
     "execution_count": 46,
     "metadata": {},
     "output_type": "execute_result"
    }
   ],
   "source": [
    "%viz --style=\"TB\" --view=\"State\" \"AliasTest\""
   ]
  },
  {
   "cell_type": "code",
   "execution_count": 47,
   "id": "5cba9ff9",
   "metadata": {
    "execution": {
     "iopub.execute_input": "2021-10-25T08:23:55.412865Z",
     "iopub.status.busy": "2021-10-25T08:23:55.412460Z",
     "iopub.status.idle": "2021-10-25T08:23:55.448271Z",
     "shell.execute_reply": "2021-10-25T08:23:55.446499Z"
    }
   },
   "outputs": [
    {
     "data": {
      "image/svg+xml": [
       "<?xml version=\"1.0\" encoding=\"UTF-8\" standalone=\"no\"?><svg xmlns=\"http://www.w3.org/2000/svg\" xmlns:xlink=\"http://www.w3.org/1999/xlink\" contentScriptType=\"application/ecmascript\" contentStyleType=\"text/css\" height=\"233px\" preserveAspectRatio=\"none\" style=\"width:618px;height:233px;\" version=\"1.1\" viewBox=\"0 0 618 233\" width=\"618px\" zoomAndPan=\"magnify\"><defs/><g><!--MD5=[fbc87193dbaf4d95561dea2c320d4a47]\n",
       "cluster E1--><a href=\"psysml:dccc75fb-db16-4804-85cb-688c27ce5ff3\" target=\"_top\" title=\"psysml:dccc75fb-db16-4804-85cb-688c27ce5ff3\" xlink:actuate=\"onRequest\" xlink:href=\"psysml:dccc75fb-db16-4804-85cb-688c27ce5ff3\" xlink:show=\"new\" xlink:title=\"psysml:dccc75fb-db16-4804-85cb-688c27ce5ff3\" xlink:type=\"simple\"><polygon fill=\"#FFFFFF\" points=\"16,6,84,6,91,28.2969,596,28.2969,596,221,16,221,16,6\" style=\"stroke: #000000; stroke-width: 1.5;\"/><line style=\"stroke: #000000; stroke-width: 1.5;\" x1=\"16\" x2=\"91\" y1=\"28.2969\" y2=\"28.2969\"/><text fill=\"#000000\" font-family=\"sans-serif\" font-size=\"14\" font-weight=\"bold\" lengthAdjust=\"spacingAndGlyphs\" textLength=\"62\" x=\"20\" y=\"20.9951\">AliasTest</text></a><!--MD5=[d5e69f78d87373223dbae638b30a9c99]\n",
       "cluster E3--><a href=\"psysml:61eb2658-da6c-419b-a94e-058b00326cab\" target=\"_top\" title=\"psysml:61eb2658-da6c-419b-a94e-058b00326cab\" xlink:actuate=\"onRequest\" xlink:href=\"psysml:61eb2658-da6c-419b-a94e-058b00326cab\" xlink:show=\"new\" xlink:title=\"psysml:61eb2658-da6c-419b-a94e-058b00326cab\" xlink:type=\"simple\"><rect fill=\"#FFFFFF\" height=\"90\" id=\"E3\" style=\"stroke: #383838; stroke-width: 1.5;\" width=\"85\" x=\"453\" y=\"64\"/><rect fill=\"#F8F8F8\" height=\"37.9375\" style=\"stroke: #383838; stroke-width: 1.5;\" width=\"85\" x=\"453\" y=\"64\"/><text fill=\"#000000\" font-family=\"sans-serif\" font-size=\"12\" font-style=\"italic\" lengthAdjust=\"spacingAndGlyphs\" textLength=\"68\" x=\"461.5\" y=\"80.1387\">«part  def»</text><text fill=\"#000000\" font-family=\"sans-serif\" font-size=\"12\" lengthAdjust=\"spacingAndGlyphs\" textLength=\"16\" x=\"487.5\" y=\"94.1074\">P1</text></a><!--MD5=[14e3b0961a2654348d326746436168a1]\n",
       "cluster E6--><a href=\"psysml:11b2a6df-aab5-4dc5-a120-8a7b1f52b05c\" target=\"_top\" title=\"psysml:11b2a6df-aab5-4dc5-a120-8a7b1f52b05c\" xlink:actuate=\"onRequest\" xlink:href=\"psysml:11b2a6df-aab5-4dc5-a120-8a7b1f52b05c\" xlink:show=\"new\" xlink:title=\"psysml:11b2a6df-aab5-4dc5-a120-8a7b1f52b05c\" xlink:type=\"simple\"><rect fill=\"#FFFFFF\" height=\"82\" id=\"E6\" rx=\"10\" ry=\"10\" style=\"stroke: #383838; stroke-width: 1.5;\" width=\"98\" x=\"252\" y=\"64\"/><rect fill=\"#F8F8F8\" height=\"23.9688\" rx=\"10\" ry=\"10\" style=\"stroke: #F8F8F8; stroke-width: 1.5;\" width=\"98\" x=\"252\" y=\"64\"/><rect fill=\"#F8F8F8\" height=\"10\" style=\"stroke: #F8F8F8; stroke-width: 1.5;\" width=\"98\" x=\"252\" y=\"77.9688\"/><rect fill=\"none\" height=\"82\" id=\"E6\" rx=\"10\" ry=\"10\" style=\"stroke: #383838; stroke-width: 1.5;\" width=\"98\" x=\"252\" y=\"64\"/><text fill=\"#000000\" font-family=\"sans-serif\" font-size=\"12\" lengthAdjust=\"spacingAndGlyphs\" textLength=\"40\" x=\"281\" y=\"80.1387\">p1: P1</text><line style=\"stroke: #383838; stroke-width: 1.0;\" x1=\"252\" x2=\"350\" y1=\"87.9688\" y2=\"87.9688\"/></a><!--MD5=[55dfccfc6c49c2d10cd1bd2211a6c90c]\n",
       "cluster E8--><a href=\"psysml:2c2598c5-3ef5-4f1d-ae32-f3d429fa4c2f\" target=\"_top\" title=\"psysml:2c2598c5-3ef5-4f1d-ae32-f3d429fa4c2f\" xlink:actuate=\"onRequest\" xlink:href=\"psysml:2c2598c5-3ef5-4f1d-ae32-f3d429fa4c2f\" xlink:show=\"new\" xlink:title=\"psysml:2c2598c5-3ef5-4f1d-ae32-f3d429fa4c2f\" xlink:type=\"simple\"><rect fill=\"#FFFFFF\" height=\"84.5\" id=\"E8\" rx=\"10\" ry=\"10\" style=\"stroke: #383838; stroke-width: 1.5;\" width=\"83\" x=\"353\" y=\"120.5\"/><rect fill=\"#F8F8F8\" height=\"23.9688\" rx=\"10\" ry=\"10\" style=\"stroke: #F8F8F8; stroke-width: 1.5;\" width=\"83\" x=\"353\" y=\"120.5\"/><rect fill=\"#F8F8F8\" height=\"10\" style=\"stroke: #F8F8F8; stroke-width: 1.5;\" width=\"83\" x=\"353\" y=\"134.4688\"/><rect fill=\"none\" height=\"84.5\" id=\"E8\" rx=\"10\" ry=\"10\" style=\"stroke: #383838; stroke-width: 1.5;\" width=\"83\" x=\"353\" y=\"120.5\"/><text fill=\"#000000\" font-family=\"sans-serif\" font-size=\"12\" lengthAdjust=\"spacingAndGlyphs\" textLength=\"40\" x=\"374.5\" y=\"136.6387\">p2: P1</text><line style=\"stroke: #383838; stroke-width: 1.0;\" x1=\"353\" x2=\"436\" y1=\"144.4688\" y2=\"144.4688\"/></a><!--MD5=[b4997ac47864f28c2f74865a473b2911]\n",
       "class E2--><a href=\"psysml:ce72622b-28d6-4d09-bee8-b5dd20a40a54\" target=\"_top\" title=\"psysml:ce72622b-28d6-4d09-bee8-b5dd20a40a54\" xlink:actuate=\"onRequest\" xlink:href=\"psysml:ce72622b-28d6-4d09-bee8-b5dd20a40a54\" xlink:show=\"new\" xlink:title=\"psysml:ce72622b-28d6-4d09-bee8-b5dd20a40a54\" xlink:type=\"simple\"><rect fill=\"#FFFFFF\" height=\"45.9375\" id=\"E2\" rx=\"10\" ry=\"10\" style=\"stroke: #383838; stroke-width: 1.5;\" width=\"213\" x=\"31.5\" y=\"41\"/><text fill=\"#000000\" font-family=\"sans-serif\" font-size=\"12\" font-style=\"italic\" lengthAdjust=\"spacingAndGlyphs\" textLength=\"69\" x=\"103.5\" y=\"57.1387\">«attribute»</text><text fill=\"#000000\" font-family=\"sans-serif\" font-size=\"12\" lengthAdjust=\"spacingAndGlyphs\" textLength=\"207\" x=\"34.5\" y=\"71.1074\">q :&gt; Quantities::tensorQuantities</text><line style=\"stroke: #383838; stroke-width: 1.5;\" x1=\"32.5\" x2=\"243.5\" y1=\"78.9375\" y2=\"78.9375\"/></a><text fill=\"#000000\" font-family=\"sans-serif\" font-size=\"14\" lengthAdjust=\"spacingAndGlyphs\" textLength=\"44\" x=\"449\" y=\"42.6982\">porig1</text><rect fill=\"#383838\" height=\"12\" style=\"stroke: #F8F8F8; stroke-width: 1.5;\" width=\"12\" x=\"465\" y=\"58\"/><text fill=\"#000000\" font-family=\"sans-serif\" font-size=\"14\" lengthAdjust=\"spacingAndGlyphs\" textLength=\"44\" x=\"496\" y=\"42.6982\">porig1</text><rect fill=\"#383838\" height=\"12\" style=\"stroke: #F8F8F8; stroke-width: 1.5;\" width=\"12\" x=\"512\" y=\"58\"/><text fill=\"#000000\" font-family=\"sans-serif\" font-size=\"14\" lengthAdjust=\"spacingAndGlyphs\" textLength=\"27\" x=\"318.5\" y=\"42.6982\">po1</text><rect fill=\"#383838\" height=\"12\" style=\"stroke: #F8F8F8; stroke-width: 1.5;\" width=\"12\" x=\"326\" y=\"58\"/><text fill=\"#000000\" font-family=\"sans-serif\" font-size=\"14\" lengthAdjust=\"spacingAndGlyphs\" textLength=\"40\" x=\"351\" y=\"99.1982\">pdest</text><rect fill=\"#383838\" height=\"12\" style=\"stroke: #F8F8F8; stroke-width: 1.5;\" width=\"12\" x=\"365\" y=\"114.5\"/><text fill=\"#000000\" font-family=\"sans-serif\" font-size=\"14\" lengthAdjust=\"spacingAndGlyphs\" textLength=\"40\" x=\"398\" y=\"99.1982\">pdest</text><rect fill=\"#383838\" height=\"12\" style=\"stroke: #F8F8F8; stroke-width: 1.5;\" width=\"12\" x=\"412\" y=\"114.5\"/><!--MD5=[1c0b9414cc86e0744215edee6abd8926]\n",
       "link E7 to E9--><a href=\"psysml:ee24455c-c65b-41eb-8958-74c54e28cd84\" target=\"_top\" title=\"psysml:ee24455c-c65b-41eb-8958-74c54e28cd84\" xlink:actuate=\"onRequest\" xlink:href=\"psysml:ee24455c-c65b-41eb-8958-74c54e28cd84\" xlink:show=\"new\" xlink:title=\"psysml:ee24455c-c65b-41eb-8958-74c54e28cd84\" xlink:type=\"simple\"><path d=\"M327.83,70.03 C328.72,81.73 350.14,110.34 364.83,117.73 \" fill=\"none\" id=\"E7-E9\" style=\"stroke: #383838; stroke-width: 3.0;\"/><text fill=\"#000000\" font-family=\"sans-serif\" font-size=\"13\" lengthAdjust=\"spacingAndGlyphs\" textLength=\"7\" x=\"349.8522\" y=\"106.3789\">*</text></a><!--MD5=[1c0b9414cc86e0744215edee6abd8926]\n",
       "link E7 to E9--><a href=\"psysml:1d0a5b52-6a4c-4cbe-b03e-99be5638e392\" target=\"_top\" title=\"psysml:1d0a5b52-6a4c-4cbe-b03e-99be5638e392\" xlink:actuate=\"onRequest\" xlink:href=\"psysml:1d0a5b52-6a4c-4cbe-b03e-99be5638e392\" xlink:show=\"new\" xlink:title=\"psysml:1d0a5b52-6a4c-4cbe-b03e-99be5638e392\" xlink:type=\"simple\"><path d=\"M338.05,66.57 C353.27,73.62 375.05,102.5 375.62,114.37 \" fill=\"none\" id=\"E7-E9-1\" style=\"stroke: #383838; stroke-width: 3.0;\"/><text fill=\"#000000\" font-family=\"sans-serif\" font-size=\"13\" lengthAdjust=\"spacingAndGlyphs\" textLength=\"7\" x=\"369.278\" y=\"103.4683\">*</text></a><!--MD5=[bc09bb8870a0d6c8abbb9a35a9a02e58]\n",
       "@startuml\r\n",
       "skinparam ranksep 10\r\n",
       "skinparam rectangle {\r\n",
       " backgroundColor<<block>> LightGreen\r\n",
       "}\r\n",
       "top to bottom direction\r\n",
       "skinparam monochrome true\r\n",
       "skinparam classbackgroundcolor white\r\n",
       "skinparam shadowing false\r\n",
       "skinparam wrapWidth 300\r\n",
       "hide circle\r\n",
       "\r\n",
       "package \"AliasTest\" as E1  [[psysml:dccc75fb-db16-4804-85cb-688c27ce5ff3 ]]  {\r\n",
       "comp usage \"q :> Quantities::tensorQuantities\" as E2  <<(T,blue) attribute>> [[psysml:ce72622b-28d6-4d09-bee8-b5dd20a40a54 ]] {\r\n",
       "}\r\n",
       "rec def \"P1\" as E3  <<(T,blue) part  def>> [[psysml:61eb2658-da6c-419b-a94e-058b00326cab ]] {\r\n",
       "portin \"porig1\" as E4  <<(T,blue) port>> [[psysml:9ae2babd-6d67-4765-bfe5-8d775f3bcf42 ]] \r\n",
       "portin \"porig1\" as E5  <<(T,blue) port>> [[psysml:9ae2babd-6d67-4765-bfe5-8d775f3bcf42 ]] \r\n",
       "}\r\n",
       "rec usage \"p1: P1\" as E6  [[psysml:11b2a6df-aab5-4dc5-a120-8a7b1f52b05c ]] {\r\n",
       "portin \"po1\" as E7  <<(T,blue) port>> [[psysml:a231442e-2600-41cf-892c-df88027eb505 ]] \r\n",
       "}\r\n",
       "rec usage \"p2: P1\" as E8  [[psysml:2c2598c5-3ef5-4f1d-ae32-f3d429fa4c2f ]] {\r\n",
       "portin \"pdest\" as E9  <<(T,blue) port>> [[psysml:10820d16-405d-40a2-9551-06e34552661e ]] \r\n",
       "portin \"pdest\" as E10  <<(T,blue) port>> [[psysml:10820d16-405d-40a2-9551-06e34552661e ]] \r\n",
       "}\r\n",
       "}\r\n",
       "E7 -[thickness=3]- \"*\"E9 [[psysml:ee24455c-c65b-41eb-8958-74c54e28cd84 ]] \r\n",
       "E7 -[thickness=3]- \"*\"E9 [[psysml:1d0a5b52-6a4c-4cbe-b03e-99be5638e392 ]] \r\n",
       "@enduml\r\n",
       "\n",
       "PlantUML version 1.2020.13(Sat Jun 13 12:26:38 UTC 2020)\n",
       "(EPL source distribution)\n",
       "Java Runtime: OpenJDK Runtime Environment\n",
       "JVM: OpenJDK 64-Bit Server VM\n",
       "Default Encoding: UTF-8\n",
       "Language: en\n",
       "Country: null\n",
       "--></g></svg>"
      ]
     },
     "execution_count": 47,
     "metadata": {},
     "output_type": "execute_result"
    }
   ],
   "source": [
    "%viz --style=\"TB\" --view=\"Interconnection\" \"AliasTest\""
   ]
  },
  {
   "cell_type": "code",
   "execution_count": 48,
   "id": "54453360",
   "metadata": {
    "execution": {
     "iopub.execute_input": "2021-10-25T08:23:55.497615Z",
     "iopub.status.busy": "2021-10-25T08:23:55.497208Z",
     "iopub.status.idle": "2021-10-25T08:23:55.502706Z",
     "shell.execute_reply": "2021-10-25T08:23:55.502351Z"
    }
   },
   "outputs": [
    {
     "data": {
      "image/svg+xml": [
       "<?xml version=\"1.0\" encoding=\"UTF-8\" standalone=\"no\"?><svg xmlns=\"http://www.w3.org/2000/svg\" xmlns:xlink=\"http://www.w3.org/1999/xlink\" contentScriptType=\"application/ecmascript\" contentStyleType=\"text/css\" height=\"12px\" preserveAspectRatio=\"none\" style=\"width:12px;height:12px;\" version=\"1.1\" viewBox=\"0 0 12 12\" width=\"12px\" zoomAndPan=\"magnify\"><defs/><g><!--MD5=[06afc254b03ac5e9d9fb7773b07d0800]\n",
       "@startuml\r\n",
       "skinparam ranksep 8\r\n",
       "top to bottom direction\r\n",
       "skinparam monochrome true\r\n",
       "skinparam classbackgroundcolor white\r\n",
       "skinparam shadowing false\r\n",
       "skinparam wrapWidth 300\r\n",
       "hide circle\r\n",
       "\r\n",
       "@enduml\r\n",
       "\n",
       "PlantUML version 1.2020.13(Sat Jun 13 12:26:38 UTC 2020)\n",
       "(EPL source distribution)\n",
       "Java Runtime: OpenJDK Runtime Environment\n",
       "JVM: OpenJDK 64-Bit Server VM\n",
       "Default Encoding: UTF-8\n",
       "Language: en\n",
       "Country: null\n",
       "--></g></svg>"
      ]
     },
     "execution_count": 48,
     "metadata": {},
     "output_type": "execute_result"
    }
   ],
   "source": [
    "%viz --style=\"TB\" --view=\"Action\" \"AliasTest\""
   ]
  },
  {
   "cell_type": "code",
   "execution_count": 49,
   "id": "2e8e45d0",
   "metadata": {
    "execution": {
     "iopub.execute_input": "2021-10-25T08:23:55.552588Z",
     "iopub.status.busy": "2021-10-25T08:23:55.552178Z",
     "iopub.status.idle": "2021-10-25T08:23:55.557963Z",
     "shell.execute_reply": "2021-10-25T08:23:55.558271Z"
    }
   },
   "outputs": [
    {
     "data": {
      "image/svg+xml": [
       "<?xml version=\"1.0\" encoding=\"UTF-8\" standalone=\"no\"?><svg xmlns=\"http://www.w3.org/2000/svg\" xmlns:xlink=\"http://www.w3.org/1999/xlink\" contentScriptType=\"application/ecmascript\" contentStyleType=\"text/css\" height=\"12px\" preserveAspectRatio=\"none\" style=\"width:12px;height:12px;\" version=\"1.1\" viewBox=\"0 0 12 12\" width=\"12px\" zoomAndPan=\"magnify\"><defs/><g><!--MD5=[e1ab0c84c44d2fef8bf5f140f2689906]\n",
       "@startuml\r\n",
       "skinparam roundcorner 20\r\n",
       "skinparam BoxPadding 20\r\n",
       "skinparam SequenceBoxBackgroundColor #white\r\n",
       "skinparam style strictuml\r\n",
       "skinparam maxMessageSize 100\r\n",
       "top to bottom direction\r\n",
       "skinparam monochrome true\r\n",
       "skinparam classbackgroundcolor white\r\n",
       "skinparam shadowing false\r\n",
       "skinparam wrapWidth 300\r\n",
       "hide circle\r\n",
       "\r\n",
       "@enduml\r\n",
       "\n",
       "PlantUML version 1.2020.13(Sat Jun 13 12:26:38 UTC 2020)\n",
       "(EPL source distribution)\n",
       "Java Runtime: OpenJDK Runtime Environment\n",
       "JVM: OpenJDK 64-Bit Server VM\n",
       "Default Encoding: UTF-8\n",
       "Language: en\n",
       "Country: null\n",
       "--></g></svg>"
      ]
     },
     "execution_count": 49,
     "metadata": {},
     "output_type": "execute_result"
    }
   ],
   "source": [
    "%viz --style=\"TB\" --view=\"Sequence\" \"AliasTest\""
   ]
  },
  {
   "cell_type": "code",
   "execution_count": 50,
   "id": "de5e9c1b",
   "metadata": {
    "execution": {
     "iopub.execute_input": "2021-10-25T08:23:55.608236Z",
     "iopub.status.busy": "2021-10-25T08:23:55.607842Z",
     "iopub.status.idle": "2021-10-25T08:23:55.645202Z",
     "shell.execute_reply": "2021-10-25T08:23:55.643043Z"
    }
   },
   "outputs": [
    {
     "data": {
      "image/svg+xml": [
       "<?xml version=\"1.0\" encoding=\"UTF-8\" standalone=\"no\"?><svg xmlns=\"http://www.w3.org/2000/svg\" xmlns:xlink=\"http://www.w3.org/1999/xlink\" contentScriptType=\"application/ecmascript\" contentStyleType=\"text/css\" height=\"327px\" preserveAspectRatio=\"none\" style=\"width:453px;height:327px;\" version=\"1.1\" viewBox=\"0 0 453 327\" width=\"453px\" zoomAndPan=\"magnify\"><defs/><g><!--MD5=[fbc87193dbaf4d95561dea2c320d4a47]\n",
       "cluster E1--><a href=\"psysml:dccc75fb-db16-4804-85cb-688c27ce5ff3\" target=\"_top\" title=\"psysml:dccc75fb-db16-4804-85cb-688c27ce5ff3\" xlink:actuate=\"onRequest\" xlink:href=\"psysml:dccc75fb-db16-4804-85cb-688c27ce5ff3\" xlink:show=\"new\" xlink:title=\"psysml:dccc75fb-db16-4804-85cb-688c27ce5ff3\" xlink:type=\"simple\"><polygon fill=\"#FFFFFF\" points=\"16,6,84,6,91,28.2969,431,28.2969,431,315,16,315,16,6\" style=\"stroke: #000000; stroke-width: 1.5;\"/><line style=\"stroke: #000000; stroke-width: 1.5;\" x1=\"16\" x2=\"91\" y1=\"28.2969\" y2=\"28.2969\"/><text fill=\"#000000\" font-family=\"sans-serif\" font-size=\"14\" font-weight=\"bold\" lengthAdjust=\"spacingAndGlyphs\" textLength=\"62\" x=\"20\" y=\"20.9951\">AliasTest</text></a><!--MD5=[b4997ac47864f28c2f74865a473b2911]\n",
       "class E2--><a href=\"psysml:ce72622b-28d6-4d09-bee8-b5dd20a40a54\" target=\"_top\" title=\"psysml:ce72622b-28d6-4d09-bee8-b5dd20a40a54\" xlink:actuate=\"onRequest\" xlink:href=\"psysml:ce72622b-28d6-4d09-bee8-b5dd20a40a54\" xlink:show=\"new\" xlink:title=\"psysml:ce72622b-28d6-4d09-bee8-b5dd20a40a54\" xlink:type=\"simple\"><rect fill=\"#FFFFFF\" height=\"45.9375\" id=\"E2\" rx=\"10\" ry=\"10\" style=\"stroke: #383838; stroke-width: 1.5;\" width=\"213\" x=\"202.5\" y=\"41\"/><text fill=\"#000000\" font-family=\"sans-serif\" font-size=\"12\" font-style=\"italic\" lengthAdjust=\"spacingAndGlyphs\" textLength=\"69\" x=\"274.5\" y=\"57.1387\">«attribute»</text><text fill=\"#000000\" font-family=\"sans-serif\" font-size=\"12\" lengthAdjust=\"spacingAndGlyphs\" textLength=\"207\" x=\"205.5\" y=\"71.1074\">q :&gt; Quantities::tensorQuantities</text><line style=\"stroke: #383838; stroke-width: 1.5;\" x1=\"203.5\" x2=\"414.5\" y1=\"78.9375\" y2=\"78.9375\"/></a><!--MD5=[09b614a08d8cba4a07c9adeb5e0fee81]\n",
       "class E3--><a href=\"psysml:61eb2658-da6c-419b-a94e-058b00326cab\" target=\"_top\" title=\"psysml:61eb2658-da6c-419b-a94e-058b00326cab\" xlink:actuate=\"onRequest\" xlink:href=\"psysml:61eb2658-da6c-419b-a94e-058b00326cab\" xlink:show=\"new\" xlink:title=\"psysml:61eb2658-da6c-419b-a94e-058b00326cab\" xlink:type=\"simple\"><rect fill=\"#FFFFFF\" height=\"45.9375\" id=\"E3\" style=\"stroke: #383838; stroke-width: 1.5;\" width=\"70\" x=\"170\" y=\"147\"/><text fill=\"#000000\" font-family=\"sans-serif\" font-size=\"12\" font-style=\"italic\" lengthAdjust=\"spacingAndGlyphs\" textLength=\"68\" x=\"171\" y=\"163.1387\">«part  def»</text><text fill=\"#000000\" font-family=\"sans-serif\" font-size=\"12\" lengthAdjust=\"spacingAndGlyphs\" textLength=\"16\" x=\"197\" y=\"177.1074\">P1</text><line style=\"stroke: #383838; stroke-width: 1.5;\" x1=\"171\" x2=\"239\" y1=\"184.9375\" y2=\"184.9375\"/></a><!--MD5=[ebbe1d658d1005bcc118a6aa81145e00]\n",
       "class E4--><a href=\"psysml:9ae2babd-6d67-4765-bfe5-8d775f3bcf42\" target=\"_top\" title=\"psysml:9ae2babd-6d67-4765-bfe5-8d775f3bcf42\" xlink:actuate=\"onRequest\" xlink:href=\"psysml:9ae2babd-6d67-4765-bfe5-8d775f3bcf42\" xlink:show=\"new\" xlink:title=\"psysml:9ae2babd-6d67-4765-bfe5-8d775f3bcf42\" xlink:type=\"simple\"><rect fill=\"#FFFFFF\" height=\"45.9375\" id=\"E4\" rx=\"10\" ry=\"10\" style=\"stroke: #383838; stroke-width: 1.5;\" width=\"46\" x=\"182\" y=\"253\"/><text fill=\"#000000\" font-family=\"sans-serif\" font-size=\"12\" font-style=\"italic\" lengthAdjust=\"spacingAndGlyphs\" textLength=\"40\" x=\"185\" y=\"269.1387\">«port»</text><text fill=\"#000000\" font-family=\"sans-serif\" font-size=\"12\" lengthAdjust=\"spacingAndGlyphs\" textLength=\"40\" x=\"185\" y=\"283.1074\">porig1</text><line style=\"stroke: #383838; stroke-width: 1.5;\" x1=\"183\" x2=\"227\" y1=\"290.9375\" y2=\"290.9375\"/></a><!--MD5=[270fce915f116d4de14055a7c1d9a0f3]\n",
       "class E5--><a href=\"psysml:11b2a6df-aab5-4dc5-a120-8a7b1f52b05c\" target=\"_top\" title=\"psysml:11b2a6df-aab5-4dc5-a120-8a7b1f52b05c\" xlink:actuate=\"onRequest\" xlink:href=\"psysml:11b2a6df-aab5-4dc5-a120-8a7b1f52b05c\" xlink:show=\"new\" xlink:title=\"psysml:11b2a6df-aab5-4dc5-a120-8a7b1f52b05c\" xlink:type=\"simple\"><rect fill=\"#FFFFFF\" height=\"45.9375\" id=\"E5\" rx=\"10\" ry=\"10\" style=\"stroke: #383838; stroke-width: 1.5;\" width=\"50\" x=\"117\" y=\"41\"/><text fill=\"#000000\" font-family=\"sans-serif\" font-size=\"12\" font-style=\"italic\" lengthAdjust=\"spacingAndGlyphs\" textLength=\"40\" x=\"122\" y=\"57.1387\">«part»</text><text fill=\"#000000\" font-family=\"sans-serif\" font-size=\"12\" lengthAdjust=\"spacingAndGlyphs\" textLength=\"40\" x=\"120\" y=\"71.1074\">p1: P1</text><line style=\"stroke: #383838; stroke-width: 1.5;\" x1=\"118\" x2=\"166\" y1=\"78.9375\" y2=\"78.9375\"/></a><!--MD5=[60a26617385b1d2d0262a64233df1f8d]\n",
       "class E6--><a href=\"psysml:a231442e-2600-41cf-892c-df88027eb505\" target=\"_top\" title=\"psysml:a231442e-2600-41cf-892c-df88027eb505\" xlink:actuate=\"onRequest\" xlink:href=\"psysml:a231442e-2600-41cf-892c-df88027eb505\" xlink:show=\"new\" xlink:title=\"psysml:a231442e-2600-41cf-892c-df88027eb505\" xlink:type=\"simple\"><rect fill=\"#FFFFFF\" height=\"45.9375\" id=\"E6\" rx=\"10\" ry=\"10\" style=\"stroke: #383838; stroke-width: 1.5;\" width=\"42\" x=\"93\" y=\"147\"/><text fill=\"#000000\" font-family=\"sans-serif\" font-size=\"12\" font-style=\"italic\" lengthAdjust=\"spacingAndGlyphs\" textLength=\"40\" x=\"94\" y=\"163.1387\">«port»</text><text fill=\"#000000\" font-family=\"sans-serif\" font-size=\"12\" lengthAdjust=\"spacingAndGlyphs\" textLength=\"24\" x=\"102\" y=\"177.1074\">po1</text><line style=\"stroke: #383838; stroke-width: 1.5;\" x1=\"94\" x2=\"134\" y1=\"184.9375\" y2=\"184.9375\"/></a><!--MD5=[2156ba9850f5573cc1fc38a6a4b2f02b]\n",
       "class E7--><a href=\"psysml:2c2598c5-3ef5-4f1d-ae32-f3d429fa4c2f\" target=\"_top\" title=\"psysml:2c2598c5-3ef5-4f1d-ae32-f3d429fa4c2f\" xlink:actuate=\"onRequest\" xlink:href=\"psysml:2c2598c5-3ef5-4f1d-ae32-f3d429fa4c2f\" xlink:show=\"new\" xlink:title=\"psysml:2c2598c5-3ef5-4f1d-ae32-f3d429fa4c2f\" xlink:type=\"simple\"><rect fill=\"#FFFFFF\" height=\"45.9375\" id=\"E7\" rx=\"10\" ry=\"10\" style=\"stroke: #383838; stroke-width: 1.5;\" width=\"50\" x=\"32\" y=\"41\"/><text fill=\"#000000\" font-family=\"sans-serif\" font-size=\"12\" font-style=\"italic\" lengthAdjust=\"spacingAndGlyphs\" textLength=\"40\" x=\"37\" y=\"57.1387\">«part»</text><text fill=\"#000000\" font-family=\"sans-serif\" font-size=\"12\" lengthAdjust=\"spacingAndGlyphs\" textLength=\"40\" x=\"35\" y=\"71.1074\">p2: P1</text><line style=\"stroke: #383838; stroke-width: 1.5;\" x1=\"33\" x2=\"81\" y1=\"78.9375\" y2=\"78.9375\"/></a><!--MD5=[b9389687b975829384b498ac4b7476b2]\n",
       "class E8--><a href=\"psysml:10820d16-405d-40a2-9551-06e34552661e\" target=\"_top\" title=\"psysml:10820d16-405d-40a2-9551-06e34552661e\" xlink:actuate=\"onRequest\" xlink:href=\"psysml:10820d16-405d-40a2-9551-06e34552661e\" xlink:show=\"new\" xlink:title=\"psysml:10820d16-405d-40a2-9551-06e34552661e\" xlink:type=\"simple\"><rect fill=\"#FFFFFF\" height=\"45.9375\" id=\"E8\" rx=\"10\" ry=\"10\" style=\"stroke: #383838; stroke-width: 1.5;\" width=\"42\" x=\"65\" y=\"253\"/><text fill=\"#000000\" font-family=\"sans-serif\" font-size=\"12\" font-style=\"italic\" lengthAdjust=\"spacingAndGlyphs\" textLength=\"40\" x=\"66\" y=\"269.1387\">«port»</text><text fill=\"#000000\" font-family=\"sans-serif\" font-size=\"12\" lengthAdjust=\"spacingAndGlyphs\" textLength=\"36\" x=\"68\" y=\"283.1074\">pdest</text><line style=\"stroke: #383838; stroke-width: 1.5;\" x1=\"66\" x2=\"106\" y1=\"290.9375\" y2=\"290.9375\"/></a><!--MD5=[4672eba38e49728da53d11aeb285b987]\n",
       "reverse link E3 to E4--><a href=\"psysml:8e3ccc77-0a8c-4c0b-a5d7-07a6acaf5014\" target=\"_top\" title=\"psysml:8e3ccc77-0a8c-4c0b-a5d7-07a6acaf5014\" xlink:actuate=\"onRequest\" xlink:href=\"psysml:8e3ccc77-0a8c-4c0b-a5d7-07a6acaf5014\" xlink:show=\"new\" xlink:title=\"psysml:8e3ccc77-0a8c-4c0b-a5d7-07a6acaf5014\" xlink:type=\"simple\"><path d=\"M192.84,206.44 C191.7,221.87 192.21,239.47 194.36,252.98 \" fill=\"none\" id=\"E3&lt;-E4\" style=\"stroke: #383838; stroke-width: 1.0;\"/><polygon fill=\"#FFFFFF\" points=\"194.35,193.06,189.7032,198.5743,193.006,204.9845,197.6528,199.4702,194.35,193.06\" style=\"stroke: #383838; stroke-width: 1.0;\"/><text fill=\"#000000\" font-family=\"sans-serif\" font-size=\"13\" lengthAdjust=\"spacingAndGlyphs\" textLength=\"8\" x=\"182.4255\" y=\"241.8709\">1</text></a><!--MD5=[4672eba38e49728da53d11aeb285b987]\n",
       "reverse link E3 to E4--><a href=\"psysml:408c218d-2c50-4f10-8495-de57c6cccdaf\" target=\"_top\" title=\"psysml:408c218d-2c50-4f10-8495-de57c6cccdaf\" xlink:actuate=\"onRequest\" xlink:href=\"psysml:408c218d-2c50-4f10-8495-de57c6cccdaf\" xlink:show=\"new\" xlink:title=\"psysml:408c218d-2c50-4f10-8495-de57c6cccdaf\" xlink:type=\"simple\"><path d=\"M218.01,208.34 C219.03,223.3 218.45,240.02 216.27,252.98 \" fill=\"none\" id=\"E3&lt;-E4-1\" style=\"stroke: #383838; stroke-width: 1.0; stroke-dasharray: 7.0,7.0;\"/><ellipse cx=\"217.1693\" cy=\"201.0093\" fill=\"#FFFFFF\" rx=\"8\" ry=\"8\" style=\"stroke: #383838; stroke-width: 1.0;\"/><line style=\"stroke: #383838; stroke-width: 1.0;\" x1=\"218.0687\" x2=\"216.27\" y1=\"208.9586\" y2=\"193.06\"/><line style=\"stroke: #383838; stroke-width: 1.0;\" x1=\"209.2201\" x2=\"225.1186\" y1=\"201.9086\" y2=\"200.1099\"/><text fill=\"#000000\" font-family=\"sans-serif\" font-size=\"13\" lengthAdjust=\"spacingAndGlyphs\" textLength=\"8\" x=\"210.2238\" y=\"241.8709\">1</text></a><!--MD5=[e9be52314489bd878ff4c7144b63c9e1]\n",
       "link E5 to E3--><a href=\"psysml:39d7aa17-d9aa-4290-8253-e0b073366074\" target=\"_top\" title=\"psysml:39d7aa17-d9aa-4290-8253-e0b073366074\" xlink:actuate=\"onRequest\" xlink:href=\"psysml:39d7aa17-d9aa-4290-8253-e0b073366074\" xlink:show=\"new\" xlink:title=\"psysml:39d7aa17-d9aa-4290-8253-e0b073366074\" xlink:type=\"simple\"><path d=\"M155.36,87.06 C162.88,99.47 172.49,115.33 181.24,129.78 \" fill=\"none\" id=\"E5-&gt;E3\" style=\"stroke: #383838; stroke-width: 1.0;\"/><polygon fill=\"#FFFFFF\" points=\"191.66,146.98,175.8217,134.3646,187.792,127.1044,191.66,146.98\" style=\"stroke: #383838; stroke-width: 1.0;\"/><ellipse cx=\"174.5758\" cy=\"128.4538\" fill=\"#383838\" rx=\"2\" ry=\"2\" style=\"stroke: #383838; stroke-width: 1.0;\"/><ellipse cx=\"183.126\" cy=\"123.2679\" fill=\"#383838\" rx=\"2\" ry=\"2\" style=\"stroke: #383838; stroke-width: 1.0;\"/></a><!--MD5=[85d356282659285ab4b2cfe2f634dd2b]\n",
       "reverse link E5 to E6--><a href=\"psysml:0602bff9-807d-4c23-b932-30af011e0640\" target=\"_top\" title=\"psysml:0602bff9-807d-4c23-b932-30af011e0640\" xlink:actuate=\"onRequest\" xlink:href=\"psysml:0602bff9-807d-4c23-b932-30af011e0640\" xlink:show=\"new\" xlink:title=\"psysml:0602bff9-807d-4c23-b932-30af011e0640\" xlink:type=\"simple\"><path d=\"M132.59,99.96 C128.4,115.51 123.6,133.33 119.93,146.98 \" fill=\"none\" id=\"E5&lt;-E6\" style=\"stroke: #383838; stroke-width: 1.0;\"/><polygon fill=\"#FFFFFF\" points=\"136.06,87.06,130.641,91.8176,132.9484,98.6496,138.3674,93.892,136.06,87.06\" style=\"stroke: #383838; stroke-width: 1.0;\"/><text fill=\"#000000\" font-family=\"sans-serif\" font-size=\"13\" lengthAdjust=\"spacingAndGlyphs\" textLength=\"8\" x=\"112.4487\" y=\"135.8709\">1</text></a><!--MD5=[f667431f98296947986a1a7595a31603]\n",
       "link E6 to E4--><a href=\"psysml:5ed5dee3-04af-484b-a73a-bf3d62fb0484\" target=\"_top\" title=\"psysml:5ed5dee3-04af-484b-a73a-bf3d62fb0484\" xlink:actuate=\"onRequest\" xlink:href=\"psysml:5ed5dee3-04af-484b-a73a-bf3d62fb0484\" xlink:show=\"new\" xlink:title=\"psysml:5ed5dee3-04af-484b-a73a-bf3d62fb0484\" xlink:type=\"simple\"><path d=\"M133.3,193.06 C144.64,206.02 159.28,222.74 172.36,237.7 \" fill=\"none\" id=\"E6-&gt;E4\" style=\"stroke: #383838; stroke-width: 1.0;\"/><polygon fill=\"#FFFFFF\" points=\"185.73,252.98,167.9517,243.2882,178.489,234.0705,185.73,252.98\" style=\"stroke: #383838; stroke-width: 1.0;\"/><line style=\"stroke: #383838; stroke-width: 2.0;\" x1=\"165.4497\" x2=\"175.9871\" y1=\"240.4281\" y2=\"231.2104\"/></a><!--MD5=[14ccda38c055a5c0da953d572bc50960]\n",
       "link E7 to E3--><a href=\"psysml:6afc3f94-967f-4ac8-9c89-c7c9ad6aa496\" target=\"_top\" title=\"psysml:6afc3f94-967f-4ac8-9c89-c7c9ad6aa496\" xlink:actuate=\"onRequest\" xlink:href=\"psysml:6afc3f94-967f-4ac8-9c89-c7c9ad6aa496\" xlink:show=\"new\" xlink:title=\"psysml:6afc3f94-967f-4ac8-9c89-c7c9ad6aa496\" xlink:type=\"simple\"><path d=\"M82.11,82.64 C102.61,97.05 132.18,117.83 157.18,135.39 \" fill=\"none\" id=\"E7-&gt;E3\" style=\"stroke: #383838; stroke-width: 1.0;\"/><polygon fill=\"#FFFFFF\" points=\"173.58,146.92,154.011,141.7187,162.0629,130.266,173.58,146.92\" style=\"stroke: #383838; stroke-width: 1.0;\"/><ellipse cx=\"150.4983\" cy=\"136.8043\" fill=\"#383838\" rx=\"2\" ry=\"2\" style=\"stroke: #383838; stroke-width: 1.0;\"/><ellipse cx=\"156.2497\" cy=\"128.6238\" fill=\"#383838\" rx=\"2\" ry=\"2\" style=\"stroke: #383838; stroke-width: 1.0;\"/></a><!--MD5=[dc164f5e8a733ab456ef1add180e9e34]\n",
       "reverse link E7 to E8--><a href=\"psysml:9a63abc5-83ea-4d36-8ec2-a9e5009e1a31\" target=\"_top\" title=\"psysml:9a63abc5-83ea-4d36-8ec2-a9e5009e1a31\" xlink:actuate=\"onRequest\" xlink:href=\"psysml:9a63abc5-83ea-4d36-8ec2-a9e5009e1a31\" xlink:show=\"new\" xlink:title=\"psysml:9a63abc5-83ea-4d36-8ec2-a9e5009e1a31\" xlink:type=\"simple\"><path d=\"M52.05,100.09 C53.65,143.61 64.25,216.5 74.75,252.9 \" fill=\"none\" id=\"E7&lt;-E8\" style=\"stroke: #383838; stroke-width: 1.0;\"/><polygon fill=\"#FFFFFF\" points=\"51.85,87.08,47.9362,93.1366,52.0216,99.0788,55.9354,93.0222,51.85,87.08\" style=\"stroke: #383838; stroke-width: 1.0;\"/><text fill=\"#000000\" font-family=\"sans-serif\" font-size=\"13\" lengthAdjust=\"spacingAndGlyphs\" textLength=\"8\" x=\"62.6516\" y=\"241.7694\">1</text></a><!--MD5=[dc164f5e8a733ab456ef1add180e9e34]\n",
       "reverse link E7 to E8--><a href=\"psysml:af85dbb9-a19a-4dbd-bd41-700a2e1e88fd\" target=\"_top\" title=\"psysml:af85dbb9-a19a-4dbd-bd41-700a2e1e88fd\" xlink:actuate=\"onRequest\" xlink:href=\"psysml:af85dbb9-a19a-4dbd-bd41-700a2e1e88fd\" xlink:show=\"new\" xlink:title=\"psysml:af85dbb9-a19a-4dbd-bd41-700a2e1e88fd\" xlink:type=\"simple\"><path d=\"M72.64,101.8 C83.15,145.5 92.39,216.97 91.63,252.9 \" fill=\"none\" id=\"E7&lt;-E8-1\" style=\"stroke: #383838; stroke-width: 1.0; stroke-dasharray: 7.0,7.0;\"/><ellipse cx=\"70.7794\" cy=\"94.813\" fill=\"#FFFFFF\" rx=\"8\" ry=\"8\" style=\"stroke: #383838; stroke-width: 1.0;\"/><line style=\"stroke: #383838; stroke-width: 1.0;\" x1=\"72.8289\" x2=\"68.73\" y1=\"102.5461\" y2=\"87.08\"/><line style=\"stroke: #383838; stroke-width: 1.0;\" x1=\"63.0464\" x2=\"78.5125\" y1=\"96.8625\" y2=\"92.7636\"/><text fill=\"#000000\" font-family=\"sans-serif\" font-size=\"13\" lengthAdjust=\"spacingAndGlyphs\" textLength=\"8\" x=\"94.2181\" y=\"241.7694\">1</text></a><!--MD5=[0a839d0f80c2d72d4b9b307f046d0de8]\n",
       "link E6 to E8--><a href=\"psysml:ee24455c-c65b-41eb-8958-74c54e28cd84\" target=\"_top\" title=\"psysml:ee24455c-c65b-41eb-8958-74c54e28cd84\" xlink:actuate=\"onRequest\" xlink:href=\"psysml:ee24455c-c65b-41eb-8958-74c54e28cd84\" xlink:show=\"new\" xlink:title=\"psysml:ee24455c-c65b-41eb-8958-74c54e28cd84\" xlink:type=\"simple\"><path d=\"M97.42,193.06 C89.86,210.7 83.23,235.34 81.29,252.98 \" fill=\"none\" id=\"E6-E8\" style=\"stroke: #383838; stroke-width: 3.0;\"/><text fill=\"#000000\" font-family=\"sans-serif\" font-size=\"13\" lengthAdjust=\"spacingAndGlyphs\" textLength=\"7\" x=\"80.9648\" y=\"241.8709\">*</text></a><!--MD5=[0a839d0f80c2d72d4b9b307f046d0de8]\n",
       "link E6 to E8--><a href=\"psysml:1d0a5b52-6a4c-4cbe-b03e-99be5638e392\" target=\"_top\" title=\"psysml:1d0a5b52-6a4c-4cbe-b03e-99be5638e392\" xlink:actuate=\"onRequest\" xlink:href=\"psysml:1d0a5b52-6a4c-4cbe-b03e-99be5638e392\" xlink:show=\"new\" xlink:title=\"psysml:1d0a5b52-6a4c-4cbe-b03e-99be5638e392\" xlink:type=\"simple\"><path d=\"M119.33,193.06 C117.55,210.7 110.92,235.34 103.2,252.98 \" fill=\"none\" id=\"E6-E8-1\" style=\"stroke: #383838; stroke-width: 3.0;\"/><text fill=\"#000000\" font-family=\"sans-serif\" font-size=\"13\" lengthAdjust=\"spacingAndGlyphs\" textLength=\"7\" x=\"99.8819\" y=\"241.8709\">*</text></a><!--MD5=[b24f9ef8b3ffdc13000cffb8c3aa887f]\n",
       "@startuml\r\n",
       "top to bottom direction\r\n",
       "skinparam monochrome true\r\n",
       "skinparam classbackgroundcolor white\r\n",
       "skinparam shadowing false\r\n",
       "skinparam wrapWidth 300\r\n",
       "hide circle\r\n",
       "\r\n",
       "package \"AliasTest\" as E1  [[psysml:dccc75fb-db16-4804-85cb-688c27ce5ff3 ]]  {\r\n",
       "comp usage \"q :> Quantities::tensorQuantities\" as E2  <<(T,blue) attribute>> [[psysml:ce72622b-28d6-4d09-bee8-b5dd20a40a54 ]] {\r\n",
       "}\r\n",
       "comp def \"P1\" as E3  <<(T,blue) part  def>> [[psysml:61eb2658-da6c-419b-a94e-058b00326cab ]] {\r\n",
       "}\r\n",
       "comp usage \"porig1\" as E4  <<(T,blue) port>> [[psysml:9ae2babd-6d67-4765-bfe5-8d775f3bcf42 ]] {\r\n",
       "}\r\n",
       "comp usage \"p1: P1 \" as E5  <<(T,blue) part>> [[psysml:11b2a6df-aab5-4dc5-a120-8a7b1f52b05c ]] {\r\n",
       "}\r\n",
       "comp usage \"po1\" as E6  <<(T,blue) port>> [[psysml:a231442e-2600-41cf-892c-df88027eb505 ]] {\r\n",
       "}\r\n",
       "comp usage \"p2: P1 \" as E7  <<(T,blue) part>> [[psysml:2c2598c5-3ef5-4f1d-ae32-f3d429fa4c2f ]] {\r\n",
       "}\r\n",
       "comp usage \"pdest\" as E8  <<(T,blue) port>> [[psysml:10820d16-405d-40a2-9551-06e34552661e ]] {\r\n",
       "}\r\n",
       "}\r\n",
       "E3 o- - \"1\"E4 [[psysml:8e3ccc77-0a8c-4c0b-a5d7-07a6acaf5014 ]] \r\n",
       "E3 +.. \"1\"E4 [[psysml:408c218d-2c50-4f10-8495-de57c6cccdaf ]] \r\n",
       "E5 - -:|> E3 [[psysml:39d7aa17-d9aa-4290-8253-e0b073366074 ]] \r\n",
       "E5 o- - \"1\"E6 [[psysml:0602bff9-807d-4c23-b932-30af011e0640 ]] \r\n",
       "E6 - -||> E4 [[psysml:5ed5dee3-04af-484b-a73a-bf3d62fb0484 ]] \r\n",
       "E7 - -:|> E3 [[psysml:6afc3f94-967f-4ac8-9c89-c7c9ad6aa496 ]] \r\n",
       "E7 o- - \"1\"E8 [[psysml:9a63abc5-83ea-4d36-8ec2-a9e5009e1a31 ]] \r\n",
       "E7 +.. \"1\"E8 [[psysml:af85dbb9-a19a-4dbd-bd41-700a2e1e88fd ]] \r\n",
       "E6 -[thickness=3]- \"*\"E8 [[psysml:ee24455c-c65b-41eb-8958-74c54e28cd84 ]] \r\n",
       "E6 -[thickness=3]- \"*\"E8 [[psysml:1d0a5b52-6a4c-4cbe-b03e-99be5638e392 ]] \r\n",
       "@enduml\r\n",
       "\n",
       "PlantUML version 1.2020.13(Sat Jun 13 12:26:38 UTC 2020)\n",
       "(EPL source distribution)\n",
       "Java Runtime: OpenJDK Runtime Environment\n",
       "JVM: OpenJDK 64-Bit Server VM\n",
       "Default Encoding: UTF-8\n",
       "Language: en\n",
       "Country: null\n",
       "--></g></svg>"
      ]
     },
     "execution_count": 50,
     "metadata": {},
     "output_type": "execute_result"
    }
   ],
   "source": [
    "%viz --style=\"TB\" --view=\"MIXED\" \"AliasTest\""
   ]
  },
  {
   "cell_type": "code",
   "execution_count": 51,
   "id": "13d6b140",
   "metadata": {
    "execution": {
     "iopub.execute_input": "2021-10-25T08:23:55.693783Z",
     "iopub.status.busy": "2021-10-25T08:23:55.693377Z",
     "iopub.status.idle": "2021-10-25T08:23:55.730293Z",
     "shell.execute_reply": "2021-10-25T08:23:55.728364Z"
    }
   },
   "outputs": [
    {
     "data": {
      "image/svg+xml": [
       "<?xml version=\"1.0\" encoding=\"UTF-8\" standalone=\"no\"?><svg xmlns=\"http://www.w3.org/2000/svg\" xmlns:xlink=\"http://www.w3.org/1999/xlink\" contentScriptType=\"application/ecmascript\" contentStyleType=\"text/css\" height=\"327px\" preserveAspectRatio=\"none\" style=\"width:453px;height:327px;\" version=\"1.1\" viewBox=\"0 0 453 327\" width=\"453px\" zoomAndPan=\"magnify\"><defs/><g><!--MD5=[fbc87193dbaf4d95561dea2c320d4a47]\n",
       "cluster E1--><a href=\"psysml:dccc75fb-db16-4804-85cb-688c27ce5ff3\" target=\"_top\" title=\"psysml:dccc75fb-db16-4804-85cb-688c27ce5ff3\" xlink:actuate=\"onRequest\" xlink:href=\"psysml:dccc75fb-db16-4804-85cb-688c27ce5ff3\" xlink:show=\"new\" xlink:title=\"psysml:dccc75fb-db16-4804-85cb-688c27ce5ff3\" xlink:type=\"simple\"><polygon fill=\"#FFFFFF\" points=\"16,6,84,6,91,28.2969,431,28.2969,431,315,16,315,16,6\" style=\"stroke: #000000; stroke-width: 1.5;\"/><line style=\"stroke: #000000; stroke-width: 1.5;\" x1=\"16\" x2=\"91\" y1=\"28.2969\" y2=\"28.2969\"/><text fill=\"#000000\" font-family=\"sans-serif\" font-size=\"14\" font-weight=\"bold\" lengthAdjust=\"spacingAndGlyphs\" textLength=\"62\" x=\"20\" y=\"20.9951\">AliasTest</text></a><!--MD5=[b4997ac47864f28c2f74865a473b2911]\n",
       "class E2--><a href=\"psysml:ce72622b-28d6-4d09-bee8-b5dd20a40a54\" target=\"_top\" title=\"psysml:ce72622b-28d6-4d09-bee8-b5dd20a40a54\" xlink:actuate=\"onRequest\" xlink:href=\"psysml:ce72622b-28d6-4d09-bee8-b5dd20a40a54\" xlink:show=\"new\" xlink:title=\"psysml:ce72622b-28d6-4d09-bee8-b5dd20a40a54\" xlink:type=\"simple\"><rect fill=\"#FFFFFF\" height=\"45.9375\" id=\"E2\" rx=\"10\" ry=\"10\" style=\"stroke: #383838; stroke-width: 1.5;\" width=\"213\" x=\"202.5\" y=\"41\"/><text fill=\"#000000\" font-family=\"sans-serif\" font-size=\"12\" font-style=\"italic\" lengthAdjust=\"spacingAndGlyphs\" textLength=\"69\" x=\"274.5\" y=\"57.1387\">«attribute»</text><text fill=\"#000000\" font-family=\"sans-serif\" font-size=\"12\" lengthAdjust=\"spacingAndGlyphs\" textLength=\"207\" x=\"205.5\" y=\"71.1074\">q :&gt; Quantities::tensorQuantities</text><line style=\"stroke: #383838; stroke-width: 1.5;\" x1=\"203.5\" x2=\"414.5\" y1=\"78.9375\" y2=\"78.9375\"/></a><!--MD5=[09b614a08d8cba4a07c9adeb5e0fee81]\n",
       "class E3--><a href=\"psysml:61eb2658-da6c-419b-a94e-058b00326cab\" target=\"_top\" title=\"psysml:61eb2658-da6c-419b-a94e-058b00326cab\" xlink:actuate=\"onRequest\" xlink:href=\"psysml:61eb2658-da6c-419b-a94e-058b00326cab\" xlink:show=\"new\" xlink:title=\"psysml:61eb2658-da6c-419b-a94e-058b00326cab\" xlink:type=\"simple\"><rect fill=\"#FFFFFF\" height=\"45.9375\" id=\"E3\" style=\"stroke: #383838; stroke-width: 1.5;\" width=\"70\" x=\"170\" y=\"147\"/><text fill=\"#000000\" font-family=\"sans-serif\" font-size=\"12\" font-style=\"italic\" lengthAdjust=\"spacingAndGlyphs\" textLength=\"68\" x=\"171\" y=\"163.1387\">«part  def»</text><text fill=\"#000000\" font-family=\"sans-serif\" font-size=\"12\" lengthAdjust=\"spacingAndGlyphs\" textLength=\"16\" x=\"197\" y=\"177.1074\">P1</text><line style=\"stroke: #383838; stroke-width: 1.5;\" x1=\"171\" x2=\"239\" y1=\"184.9375\" y2=\"184.9375\"/></a><!--MD5=[ebbe1d658d1005bcc118a6aa81145e00]\n",
       "class E4--><a href=\"psysml:9ae2babd-6d67-4765-bfe5-8d775f3bcf42\" target=\"_top\" title=\"psysml:9ae2babd-6d67-4765-bfe5-8d775f3bcf42\" xlink:actuate=\"onRequest\" xlink:href=\"psysml:9ae2babd-6d67-4765-bfe5-8d775f3bcf42\" xlink:show=\"new\" xlink:title=\"psysml:9ae2babd-6d67-4765-bfe5-8d775f3bcf42\" xlink:type=\"simple\"><rect fill=\"#FFFFFF\" height=\"45.9375\" id=\"E4\" rx=\"10\" ry=\"10\" style=\"stroke: #383838; stroke-width: 1.5;\" width=\"46\" x=\"182\" y=\"253\"/><text fill=\"#000000\" font-family=\"sans-serif\" font-size=\"12\" font-style=\"italic\" lengthAdjust=\"spacingAndGlyphs\" textLength=\"40\" x=\"185\" y=\"269.1387\">«port»</text><text fill=\"#000000\" font-family=\"sans-serif\" font-size=\"12\" lengthAdjust=\"spacingAndGlyphs\" textLength=\"40\" x=\"185\" y=\"283.1074\">porig1</text><line style=\"stroke: #383838; stroke-width: 1.5;\" x1=\"183\" x2=\"227\" y1=\"290.9375\" y2=\"290.9375\"/></a><!--MD5=[270fce915f116d4de14055a7c1d9a0f3]\n",
       "class E5--><a href=\"psysml:11b2a6df-aab5-4dc5-a120-8a7b1f52b05c\" target=\"_top\" title=\"psysml:11b2a6df-aab5-4dc5-a120-8a7b1f52b05c\" xlink:actuate=\"onRequest\" xlink:href=\"psysml:11b2a6df-aab5-4dc5-a120-8a7b1f52b05c\" xlink:show=\"new\" xlink:title=\"psysml:11b2a6df-aab5-4dc5-a120-8a7b1f52b05c\" xlink:type=\"simple\"><rect fill=\"#FFFFFF\" height=\"45.9375\" id=\"E5\" rx=\"10\" ry=\"10\" style=\"stroke: #383838; stroke-width: 1.5;\" width=\"50\" x=\"117\" y=\"41\"/><text fill=\"#000000\" font-family=\"sans-serif\" font-size=\"12\" font-style=\"italic\" lengthAdjust=\"spacingAndGlyphs\" textLength=\"40\" x=\"122\" y=\"57.1387\">«part»</text><text fill=\"#000000\" font-family=\"sans-serif\" font-size=\"12\" lengthAdjust=\"spacingAndGlyphs\" textLength=\"40\" x=\"120\" y=\"71.1074\">p1: P1</text><line style=\"stroke: #383838; stroke-width: 1.5;\" x1=\"118\" x2=\"166\" y1=\"78.9375\" y2=\"78.9375\"/></a><!--MD5=[60a26617385b1d2d0262a64233df1f8d]\n",
       "class E6--><a href=\"psysml:a231442e-2600-41cf-892c-df88027eb505\" target=\"_top\" title=\"psysml:a231442e-2600-41cf-892c-df88027eb505\" xlink:actuate=\"onRequest\" xlink:href=\"psysml:a231442e-2600-41cf-892c-df88027eb505\" xlink:show=\"new\" xlink:title=\"psysml:a231442e-2600-41cf-892c-df88027eb505\" xlink:type=\"simple\"><rect fill=\"#FFFFFF\" height=\"45.9375\" id=\"E6\" rx=\"10\" ry=\"10\" style=\"stroke: #383838; stroke-width: 1.5;\" width=\"42\" x=\"93\" y=\"147\"/><text fill=\"#000000\" font-family=\"sans-serif\" font-size=\"12\" font-style=\"italic\" lengthAdjust=\"spacingAndGlyphs\" textLength=\"40\" x=\"94\" y=\"163.1387\">«port»</text><text fill=\"#000000\" font-family=\"sans-serif\" font-size=\"12\" lengthAdjust=\"spacingAndGlyphs\" textLength=\"24\" x=\"102\" y=\"177.1074\">po1</text><line style=\"stroke: #383838; stroke-width: 1.5;\" x1=\"94\" x2=\"134\" y1=\"184.9375\" y2=\"184.9375\"/></a><!--MD5=[2156ba9850f5573cc1fc38a6a4b2f02b]\n",
       "class E7--><a href=\"psysml:2c2598c5-3ef5-4f1d-ae32-f3d429fa4c2f\" target=\"_top\" title=\"psysml:2c2598c5-3ef5-4f1d-ae32-f3d429fa4c2f\" xlink:actuate=\"onRequest\" xlink:href=\"psysml:2c2598c5-3ef5-4f1d-ae32-f3d429fa4c2f\" xlink:show=\"new\" xlink:title=\"psysml:2c2598c5-3ef5-4f1d-ae32-f3d429fa4c2f\" xlink:type=\"simple\"><rect fill=\"#FFFFFF\" height=\"45.9375\" id=\"E7\" rx=\"10\" ry=\"10\" style=\"stroke: #383838; stroke-width: 1.5;\" width=\"50\" x=\"32\" y=\"41\"/><text fill=\"#000000\" font-family=\"sans-serif\" font-size=\"12\" font-style=\"italic\" lengthAdjust=\"spacingAndGlyphs\" textLength=\"40\" x=\"37\" y=\"57.1387\">«part»</text><text fill=\"#000000\" font-family=\"sans-serif\" font-size=\"12\" lengthAdjust=\"spacingAndGlyphs\" textLength=\"40\" x=\"35\" y=\"71.1074\">p2: P1</text><line style=\"stroke: #383838; stroke-width: 1.5;\" x1=\"33\" x2=\"81\" y1=\"78.9375\" y2=\"78.9375\"/></a><!--MD5=[b9389687b975829384b498ac4b7476b2]\n",
       "class E8--><a href=\"psysml:10820d16-405d-40a2-9551-06e34552661e\" target=\"_top\" title=\"psysml:10820d16-405d-40a2-9551-06e34552661e\" xlink:actuate=\"onRequest\" xlink:href=\"psysml:10820d16-405d-40a2-9551-06e34552661e\" xlink:show=\"new\" xlink:title=\"psysml:10820d16-405d-40a2-9551-06e34552661e\" xlink:type=\"simple\"><rect fill=\"#FFFFFF\" height=\"45.9375\" id=\"E8\" rx=\"10\" ry=\"10\" style=\"stroke: #383838; stroke-width: 1.5;\" width=\"42\" x=\"65\" y=\"253\"/><text fill=\"#000000\" font-family=\"sans-serif\" font-size=\"12\" font-style=\"italic\" lengthAdjust=\"spacingAndGlyphs\" textLength=\"40\" x=\"66\" y=\"269.1387\">«port»</text><text fill=\"#000000\" font-family=\"sans-serif\" font-size=\"12\" lengthAdjust=\"spacingAndGlyphs\" textLength=\"36\" x=\"68\" y=\"283.1074\">pdest</text><line style=\"stroke: #383838; stroke-width: 1.5;\" x1=\"66\" x2=\"106\" y1=\"290.9375\" y2=\"290.9375\"/></a><!--MD5=[4672eba38e49728da53d11aeb285b987]\n",
       "reverse link E3 to E4--><a href=\"psysml:8e3ccc77-0a8c-4c0b-a5d7-07a6acaf5014\" target=\"_top\" title=\"psysml:8e3ccc77-0a8c-4c0b-a5d7-07a6acaf5014\" xlink:actuate=\"onRequest\" xlink:href=\"psysml:8e3ccc77-0a8c-4c0b-a5d7-07a6acaf5014\" xlink:show=\"new\" xlink:title=\"psysml:8e3ccc77-0a8c-4c0b-a5d7-07a6acaf5014\" xlink:type=\"simple\"><path d=\"M197.33,206 C197.33,206 197.33,252.68 197.33,252.68 \" fill=\"none\" id=\"E3&lt;-E4\" style=\"stroke: #383838; stroke-width: 1.0;\"/><polygon fill=\"#FFFFFF\" points=\"197.33,193,193.33,199,197.33,205,201.33,199,197.33,193\" style=\"stroke: #383838; stroke-width: 1.0;\"/><text fill=\"#000000\" font-family=\"sans-serif\" font-size=\"13\" lengthAdjust=\"spacingAndGlyphs\" textLength=\"8\" x=\"186.3396\" y=\"241.8743\">1</text></a><!--MD5=[4672eba38e49728da53d11aeb285b987]\n",
       "reverse link E3 to E4--><a href=\"psysml:408c218d-2c50-4f10-8495-de57c6cccdaf\" target=\"_top\" title=\"psysml:408c218d-2c50-4f10-8495-de57c6cccdaf\" xlink:actuate=\"onRequest\" xlink:href=\"psysml:408c218d-2c50-4f10-8495-de57c6cccdaf\" xlink:show=\"new\" xlink:title=\"psysml:408c218d-2c50-4f10-8495-de57c6cccdaf\" xlink:type=\"simple\"><path d=\"M212.67,208 C212.67,208 212.67,252.68 212.67,252.68 \" fill=\"none\" id=\"E3&lt;-E4-1\" style=\"stroke: #383838; stroke-width: 1.0; stroke-dasharray: 7.0,7.0;\"/><ellipse cx=\"212.67\" cy=\"201\" fill=\"#FFFFFF\" rx=\"8\" ry=\"8\" style=\"stroke: #383838; stroke-width: 1.0;\"/><line style=\"stroke: #383838; stroke-width: 1.0;\" x1=\"212.67\" x2=\"212.67\" y1=\"209\" y2=\"193\"/><line style=\"stroke: #383838; stroke-width: 1.0;\" x1=\"204.67\" x2=\"220.67\" y1=\"201\" y2=\"201\"/><text fill=\"#000000\" font-family=\"sans-serif\" font-size=\"13\" lengthAdjust=\"spacingAndGlyphs\" textLength=\"8\" x=\"205.6104\" y=\"241.8743\">1</text></a><!--MD5=[e9be52314489bd878ff4c7144b63c9e1]\n",
       "link E5 to E3--><a href=\"psysml:39d7aa17-d9aa-4290-8253-e0b073366074\" target=\"_top\" title=\"psysml:39d7aa17-d9aa-4290-8253-e0b073366074\" xlink:actuate=\"onRequest\" xlink:href=\"psysml:39d7aa17-d9aa-4290-8253-e0b073366074\" xlink:show=\"new\" xlink:title=\"psysml:39d7aa17-d9aa-4290-8253-e0b073366074\" xlink:type=\"simple\"><path d=\"M167.12,64 C179.44,64 191.67,64 191.67,64 C191.67,64 191.67,127 191.67,127 \" fill=\"none\" id=\"E5-&gt;E3\" style=\"stroke: #383838; stroke-width: 1.0;\"/><polygon fill=\"#FFFFFF\" points=\"191.67,147,184.67,128,198.67,128,191.67,147\" style=\"stroke: #383838; stroke-width: 1.0;\"/><ellipse cx=\"186.67\" cy=\"122.3\" fill=\"#383838\" rx=\"2\" ry=\"2\" style=\"stroke: #383838; stroke-width: 1.0;\"/><ellipse cx=\"196.67\" cy=\"122.3\" fill=\"#383838\" rx=\"2\" ry=\"2\" style=\"stroke: #383838; stroke-width: 1.0;\"/></a><!--MD5=[85d356282659285ab4b2cfe2f634dd2b]\n",
       "reverse link E5 to E6--><a href=\"psysml:0602bff9-807d-4c23-b932-30af011e0640\" target=\"_top\" title=\"psysml:0602bff9-807d-4c23-b932-30af011e0640\" xlink:actuate=\"onRequest\" xlink:href=\"psysml:0602bff9-807d-4c23-b932-30af011e0640\" xlink:show=\"new\" xlink:title=\"psysml:0602bff9-807d-4c23-b932-30af011e0640\" xlink:type=\"simple\"><path d=\"M126,100 C126,100 126,146.68 126,146.68 \" fill=\"none\" id=\"E5&lt;-E6\" style=\"stroke: #383838; stroke-width: 1.0;\"/><polygon fill=\"#FFFFFF\" points=\"126,87,122,93,126,99,130,93,126,87\" style=\"stroke: #383838; stroke-width: 1.0;\"/><text fill=\"#000000\" font-family=\"sans-serif\" font-size=\"13\" lengthAdjust=\"spacingAndGlyphs\" textLength=\"8\" x=\"120.05\" y=\"135.8743\">1</text></a><!--MD5=[f667431f98296947986a1a7595a31603]\n",
       "link E6 to E4--><a href=\"psysml:5ed5dee3-04af-484b-a73a-bf3d62fb0484\" target=\"_top\" title=\"psysml:5ed5dee3-04af-484b-a73a-bf3d62fb0484\" xlink:actuate=\"onRequest\" xlink:href=\"psysml:5ed5dee3-04af-484b-a73a-bf3d62fb0484\" xlink:show=\"new\" xlink:title=\"psysml:5ed5dee3-04af-484b-a73a-bf3d62fb0484\" xlink:type=\"simple\"><path d=\"M121,193 C121,224.18 121,276 121,276 C121,276 161.6,276 161.6,276 \" fill=\"none\" id=\"E6-&gt;E4\" style=\"stroke: #383838; stroke-width: 1.0;\"/><polygon fill=\"#FFFFFF\" points=\"181.6,276,162.6,283,162.6,269,181.6,276\" style=\"stroke: #383838; stroke-width: 1.0;\"/><line style=\"stroke: #383838; stroke-width: 2.0;\" x1=\"158.8\" x2=\"158.8\" y1=\"283\" y2=\"269\"/></a><!--MD5=[14ccda38c055a5c0da953d572bc50960]\n",
       "link E7 to E3--><a href=\"psysml:6afc3f94-967f-4ac8-9c89-c7c9ad6aa496\" target=\"_top\" title=\"psysml:6afc3f94-967f-4ac8-9c89-c7c9ad6aa496\" xlink:actuate=\"onRequest\" xlink:href=\"psysml:6afc3f94-967f-4ac8-9c89-c7c9ad6aa496\" xlink:show=\"new\" xlink:title=\"psysml:6afc3f94-967f-4ac8-9c89-c7c9ad6aa496\" xlink:type=\"simple\"><path d=\"M77.75,87.09 C77.75,101.37 77.75,117 77.75,117 C77.75,117 180.83,117 180.83,117 C180.83,117 180.83,126.91 180.83,126.91 \" fill=\"none\" id=\"E7-&gt;E3\" style=\"stroke: #383838; stroke-width: 1.0;\"/><polygon fill=\"#FFFFFF\" points=\"180.83,146.91,173.83,127.91,187.83,127.91,180.83,146.91\" style=\"stroke: #383838; stroke-width: 1.0;\"/><ellipse cx=\"175.83\" cy=\"122.21\" fill=\"#383838\" rx=\"2\" ry=\"2\" style=\"stroke: #383838; stroke-width: 1.0;\"/><ellipse cx=\"185.83\" cy=\"122.21\" fill=\"#383838\" rx=\"2\" ry=\"2\" style=\"stroke: #383838; stroke-width: 1.0;\"/></a><!--MD5=[dc164f5e8a733ab456ef1add180e9e34]\n",
       "reverse link E7 to E8--><a href=\"psysml:9a63abc5-83ea-4d36-8ec2-a9e5009e1a31\" target=\"_top\" title=\"psysml:9a63abc5-83ea-4d36-8ec2-a9e5009e1a31\" xlink:actuate=\"onRequest\" xlink:href=\"psysml:9a63abc5-83ea-4d36-8ec2-a9e5009e1a31\" xlink:show=\"new\" xlink:title=\"psysml:9a63abc5-83ea-4d36-8ec2-a9e5009e1a31\" xlink:type=\"simple\"><path d=\"M69.25,100.09 C69.25,100.09 69.25,252.94 69.25,252.94 \" fill=\"none\" id=\"E7&lt;-E8\" style=\"stroke: #383838; stroke-width: 1.0;\"/><polygon fill=\"#FFFFFF\" points=\"69.25,87.09,65.25,93.09,69.25,99.09,73.25,93.09,69.25,87.09\" style=\"stroke: #383838; stroke-width: 1.0;\"/><text fill=\"#000000\" font-family=\"sans-serif\" font-size=\"13\" lengthAdjust=\"spacingAndGlyphs\" textLength=\"8\" x=\"55.6734\" y=\"241.8201\">1</text></a><!--MD5=[dc164f5e8a733ab456ef1add180e9e34]\n",
       "reverse link E7 to E8--><a href=\"psysml:af85dbb9-a19a-4dbd-bd41-700a2e1e88fd\" target=\"_top\" title=\"psysml:af85dbb9-a19a-4dbd-bd41-700a2e1e88fd\" xlink:actuate=\"onRequest\" xlink:href=\"psysml:af85dbb9-a19a-4dbd-bd41-700a2e1e88fd\" xlink:show=\"new\" xlink:title=\"psysml:af85dbb9-a19a-4dbd-bd41-700a2e1e88fd\" xlink:type=\"simple\"><path d=\"M73.5,102.09 C73.5,102.09 73.5,252.94 73.5,252.94 \" fill=\"none\" id=\"E7&lt;-E8-1\" style=\"stroke: #383838; stroke-width: 1.0; stroke-dasharray: 7.0,7.0;\"/><ellipse cx=\"73.5\" cy=\"95.09\" fill=\"#FFFFFF\" rx=\"8\" ry=\"8\" style=\"stroke: #383838; stroke-width: 1.0;\"/><line style=\"stroke: #383838; stroke-width: 1.0;\" x1=\"73.5\" x2=\"73.5\" y1=\"103.09\" y2=\"87.09\"/><line style=\"stroke: #383838; stroke-width: 1.0;\" x1=\"65.5\" x2=\"81.5\" y1=\"95.09\" y2=\"95.09\"/><text fill=\"#000000\" font-family=\"sans-serif\" font-size=\"13\" lengthAdjust=\"spacingAndGlyphs\" textLength=\"8\" x=\"71.2156\" y=\"241.8201\">1</text></a><!--MD5=[0a839d0f80c2d72d4b9b307f046d0de8]\n",
       "link E6 to E8--><a href=\"psysml:ee24455c-c65b-41eb-8958-74c54e28cd84\" target=\"_top\" title=\"psysml:ee24455c-c65b-41eb-8958-74c54e28cd84\" xlink:actuate=\"onRequest\" xlink:href=\"psysml:ee24455c-c65b-41eb-8958-74c54e28cd84\" xlink:show=\"new\" xlink:title=\"psysml:ee24455c-c65b-41eb-8958-74c54e28cd84\" xlink:type=\"simple\"><path d=\"M97.67,193 C97.67,210.66 97.67,234.94 97.67,252.68 \" fill=\"none\" id=\"E6-E8\" style=\"stroke: #383838; stroke-width: 3.0;\"/><text fill=\"#000000\" font-family=\"sans-serif\" font-size=\"13\" lengthAdjust=\"spacingAndGlyphs\" textLength=\"7\" x=\"92.7636\" y=\"241.8743\">*</text></a><!--MD5=[0a839d0f80c2d72d4b9b307f046d0de8]\n",
       "link E6 to E8--><a href=\"psysml:1d0a5b52-6a4c-4cbe-b03e-99be5638e392\" target=\"_top\" title=\"psysml:1d0a5b52-6a4c-4cbe-b03e-99be5638e392\" xlink:actuate=\"onRequest\" xlink:href=\"psysml:1d0a5b52-6a4c-4cbe-b03e-99be5638e392\" xlink:show=\"new\" xlink:title=\"psysml:1d0a5b52-6a4c-4cbe-b03e-99be5638e392\" xlink:type=\"simple\"><path d=\"M102.33,193 C102.33,210.66 102.33,234.94 102.33,252.68 \" fill=\"none\" id=\"E6-E8-1\" style=\"stroke: #383838; stroke-width: 3.0;\"/><text fill=\"#000000\" font-family=\"sans-serif\" font-size=\"13\" lengthAdjust=\"spacingAndGlyphs\" textLength=\"7\" x=\"107.4114\" y=\"241.8743\">*</text></a><!--MD5=[c6ee78dc0faef05857870a1b7b95fa09]\n",
       "@startuml\r\n",
       "skinparam linetype ortho\r\n",
       "skinparam monochrome true\r\n",
       "skinparam classbackgroundcolor white\r\n",
       "skinparam shadowing false\r\n",
       "skinparam wrapWidth 300\r\n",
       "hide circle\r\n",
       "\r\n",
       "package \"AliasTest\" as E1  [[psysml:dccc75fb-db16-4804-85cb-688c27ce5ff3 ]]  {\r\n",
       "comp usage \"q :> Quantities::tensorQuantities\" as E2  <<(T,blue) attribute>> [[psysml:ce72622b-28d6-4d09-bee8-b5dd20a40a54 ]] {\r\n",
       "}\r\n",
       "comp def \"P1\" as E3  <<(T,blue) part  def>> [[psysml:61eb2658-da6c-419b-a94e-058b00326cab ]] {\r\n",
       "}\r\n",
       "comp usage \"porig1\" as E4  <<(T,blue) port>> [[psysml:9ae2babd-6d67-4765-bfe5-8d775f3bcf42 ]] {\r\n",
       "}\r\n",
       "comp usage \"p1: P1 \" as E5  <<(T,blue) part>> [[psysml:11b2a6df-aab5-4dc5-a120-8a7b1f52b05c ]] {\r\n",
       "}\r\n",
       "comp usage \"po1\" as E6  <<(T,blue) port>> [[psysml:a231442e-2600-41cf-892c-df88027eb505 ]] {\r\n",
       "}\r\n",
       "comp usage \"p2: P1 \" as E7  <<(T,blue) part>> [[psysml:2c2598c5-3ef5-4f1d-ae32-f3d429fa4c2f ]] {\r\n",
       "}\r\n",
       "comp usage \"pdest\" as E8  <<(T,blue) port>> [[psysml:10820d16-405d-40a2-9551-06e34552661e ]] {\r\n",
       "}\r\n",
       "}\r\n",
       "E3 o- - \"1\"E4 [[psysml:8e3ccc77-0a8c-4c0b-a5d7-07a6acaf5014 ]] \r\n",
       "E3 +.. \"1\"E4 [[psysml:408c218d-2c50-4f10-8495-de57c6cccdaf ]] \r\n",
       "E5 - -:|> E3 [[psysml:39d7aa17-d9aa-4290-8253-e0b073366074 ]] \r\n",
       "E5 o- - \"1\"E6 [[psysml:0602bff9-807d-4c23-b932-30af011e0640 ]] \r\n",
       "E6 - -||> E4 [[psysml:5ed5dee3-04af-484b-a73a-bf3d62fb0484 ]] \r\n",
       "E7 - -:|> E3 [[psysml:6afc3f94-967f-4ac8-9c89-c7c9ad6aa496 ]] \r\n",
       "E7 o- - \"1\"E8 [[psysml:9a63abc5-83ea-4d36-8ec2-a9e5009e1a31 ]] \r\n",
       "E7 +.. \"1\"E8 [[psysml:af85dbb9-a19a-4dbd-bd41-700a2e1e88fd ]] \r\n",
       "E6 -[thickness=3]- \"*\"E8 [[psysml:ee24455c-c65b-41eb-8958-74c54e28cd84 ]] \r\n",
       "E6 -[thickness=3]- \"*\"E8 [[psysml:1d0a5b52-6a4c-4cbe-b03e-99be5638e392 ]] \r\n",
       "@enduml\r\n",
       "\n",
       "PlantUML version 1.2020.13(Sat Jun 13 12:26:38 UTC 2020)\n",
       "(EPL source distribution)\n",
       "Java Runtime: OpenJDK Runtime Environment\n",
       "JVM: OpenJDK 64-Bit Server VM\n",
       "Default Encoding: UTF-8\n",
       "Language: en\n",
       "Country: null\n",
       "--></g></svg>"
      ]
     },
     "execution_count": 51,
     "metadata": {},
     "output_type": "execute_result"
    }
   ],
   "source": [
    "%viz --style=\"ORTHOLINE\" --view=\"Default\" \"AliasTest\""
   ]
  },
  {
   "cell_type": "code",
   "execution_count": 52,
   "id": "13af23cc",
   "metadata": {
    "execution": {
     "iopub.execute_input": "2021-10-25T08:23:55.779031Z",
     "iopub.status.busy": "2021-10-25T08:23:55.778630Z",
     "iopub.status.idle": "2021-10-25T08:23:55.815368Z",
     "shell.execute_reply": "2021-10-25T08:23:55.813593Z"
    }
   },
   "outputs": [
    {
     "data": {
      "image/svg+xml": [
       "<?xml version=\"1.0\" encoding=\"UTF-8\" standalone=\"no\"?><svg xmlns=\"http://www.w3.org/2000/svg\" xmlns:xlink=\"http://www.w3.org/1999/xlink\" contentScriptType=\"application/ecmascript\" contentStyleType=\"text/css\" height=\"327px\" preserveAspectRatio=\"none\" style=\"width:453px;height:327px;\" version=\"1.1\" viewBox=\"0 0 453 327\" width=\"453px\" zoomAndPan=\"magnify\"><defs/><g><!--MD5=[fbc87193dbaf4d95561dea2c320d4a47]\n",
       "cluster E1--><a href=\"psysml:dccc75fb-db16-4804-85cb-688c27ce5ff3\" target=\"_top\" title=\"psysml:dccc75fb-db16-4804-85cb-688c27ce5ff3\" xlink:actuate=\"onRequest\" xlink:href=\"psysml:dccc75fb-db16-4804-85cb-688c27ce5ff3\" xlink:show=\"new\" xlink:title=\"psysml:dccc75fb-db16-4804-85cb-688c27ce5ff3\" xlink:type=\"simple\"><polygon fill=\"#FFFFFF\" points=\"16,6,84,6,91,28.2969,431,28.2969,431,315,16,315,16,6\" style=\"stroke: #000000; stroke-width: 1.5;\"/><line style=\"stroke: #000000; stroke-width: 1.5;\" x1=\"16\" x2=\"91\" y1=\"28.2969\" y2=\"28.2969\"/><text fill=\"#000000\" font-family=\"sans-serif\" font-size=\"14\" font-weight=\"bold\" lengthAdjust=\"spacingAndGlyphs\" textLength=\"62\" x=\"20\" y=\"20.9951\">AliasTest</text></a><!--MD5=[b4997ac47864f28c2f74865a473b2911]\n",
       "class E2--><a href=\"psysml:ce72622b-28d6-4d09-bee8-b5dd20a40a54\" target=\"_top\" title=\"psysml:ce72622b-28d6-4d09-bee8-b5dd20a40a54\" xlink:actuate=\"onRequest\" xlink:href=\"psysml:ce72622b-28d6-4d09-bee8-b5dd20a40a54\" xlink:show=\"new\" xlink:title=\"psysml:ce72622b-28d6-4d09-bee8-b5dd20a40a54\" xlink:type=\"simple\"><rect fill=\"#FFFFFF\" height=\"45.9375\" id=\"E2\" rx=\"10\" ry=\"10\" style=\"stroke: #383838; stroke-width: 1.5;\" width=\"213\" x=\"202.5\" y=\"41\"/><text fill=\"#000000\" font-family=\"sans-serif\" font-size=\"12\" font-style=\"italic\" lengthAdjust=\"spacingAndGlyphs\" textLength=\"69\" x=\"274.5\" y=\"57.1387\">«attribute»</text><text fill=\"#000000\" font-family=\"sans-serif\" font-size=\"12\" lengthAdjust=\"spacingAndGlyphs\" textLength=\"207\" x=\"205.5\" y=\"71.1074\">q :&gt; Quantities::tensorQuantities</text><line style=\"stroke: #383838; stroke-width: 1.5;\" x1=\"203.5\" x2=\"414.5\" y1=\"78.9375\" y2=\"78.9375\"/></a><!--MD5=[09b614a08d8cba4a07c9adeb5e0fee81]\n",
       "class E3--><a href=\"psysml:61eb2658-da6c-419b-a94e-058b00326cab\" target=\"_top\" title=\"psysml:61eb2658-da6c-419b-a94e-058b00326cab\" xlink:actuate=\"onRequest\" xlink:href=\"psysml:61eb2658-da6c-419b-a94e-058b00326cab\" xlink:show=\"new\" xlink:title=\"psysml:61eb2658-da6c-419b-a94e-058b00326cab\" xlink:type=\"simple\"><rect fill=\"#FFFFFF\" height=\"45.9375\" id=\"E3\" style=\"stroke: #383838; stroke-width: 1.5;\" width=\"70\" x=\"170\" y=\"147\"/><text fill=\"#000000\" font-family=\"sans-serif\" font-size=\"12\" font-style=\"italic\" lengthAdjust=\"spacingAndGlyphs\" textLength=\"68\" x=\"171\" y=\"163.1387\">«part  def»</text><text fill=\"#000000\" font-family=\"sans-serif\" font-size=\"12\" lengthAdjust=\"spacingAndGlyphs\" textLength=\"16\" x=\"197\" y=\"177.1074\">P1</text><line style=\"stroke: #383838; stroke-width: 1.5;\" x1=\"171\" x2=\"239\" y1=\"184.9375\" y2=\"184.9375\"/></a><!--MD5=[ebbe1d658d1005bcc118a6aa81145e00]\n",
       "class E4--><a href=\"psysml:9ae2babd-6d67-4765-bfe5-8d775f3bcf42\" target=\"_top\" title=\"psysml:9ae2babd-6d67-4765-bfe5-8d775f3bcf42\" xlink:actuate=\"onRequest\" xlink:href=\"psysml:9ae2babd-6d67-4765-bfe5-8d775f3bcf42\" xlink:show=\"new\" xlink:title=\"psysml:9ae2babd-6d67-4765-bfe5-8d775f3bcf42\" xlink:type=\"simple\"><rect fill=\"#FFFFFF\" height=\"45.9375\" id=\"E4\" rx=\"10\" ry=\"10\" style=\"stroke: #383838; stroke-width: 1.5;\" width=\"46\" x=\"182\" y=\"253\"/><text fill=\"#000000\" font-family=\"sans-serif\" font-size=\"12\" font-style=\"italic\" lengthAdjust=\"spacingAndGlyphs\" textLength=\"40\" x=\"185\" y=\"269.1387\">«port»</text><text fill=\"#000000\" font-family=\"sans-serif\" font-size=\"12\" lengthAdjust=\"spacingAndGlyphs\" textLength=\"40\" x=\"185\" y=\"283.1074\">porig1</text><line style=\"stroke: #383838; stroke-width: 1.5;\" x1=\"183\" x2=\"227\" y1=\"290.9375\" y2=\"290.9375\"/></a><!--MD5=[270fce915f116d4de14055a7c1d9a0f3]\n",
       "class E5--><a href=\"psysml:11b2a6df-aab5-4dc5-a120-8a7b1f52b05c\" target=\"_top\" title=\"psysml:11b2a6df-aab5-4dc5-a120-8a7b1f52b05c\" xlink:actuate=\"onRequest\" xlink:href=\"psysml:11b2a6df-aab5-4dc5-a120-8a7b1f52b05c\" xlink:show=\"new\" xlink:title=\"psysml:11b2a6df-aab5-4dc5-a120-8a7b1f52b05c\" xlink:type=\"simple\"><rect fill=\"#FFFFFF\" height=\"45.9375\" id=\"E5\" rx=\"10\" ry=\"10\" style=\"stroke: #383838; stroke-width: 1.5;\" width=\"50\" x=\"117\" y=\"41\"/><text fill=\"#000000\" font-family=\"sans-serif\" font-size=\"12\" font-style=\"italic\" lengthAdjust=\"spacingAndGlyphs\" textLength=\"40\" x=\"122\" y=\"57.1387\">«part»</text><text fill=\"#000000\" font-family=\"sans-serif\" font-size=\"12\" lengthAdjust=\"spacingAndGlyphs\" textLength=\"40\" x=\"120\" y=\"71.1074\">p1: P1</text><line style=\"stroke: #383838; stroke-width: 1.5;\" x1=\"118\" x2=\"166\" y1=\"78.9375\" y2=\"78.9375\"/></a><!--MD5=[60a26617385b1d2d0262a64233df1f8d]\n",
       "class E6--><a href=\"psysml:a231442e-2600-41cf-892c-df88027eb505\" target=\"_top\" title=\"psysml:a231442e-2600-41cf-892c-df88027eb505\" xlink:actuate=\"onRequest\" xlink:href=\"psysml:a231442e-2600-41cf-892c-df88027eb505\" xlink:show=\"new\" xlink:title=\"psysml:a231442e-2600-41cf-892c-df88027eb505\" xlink:type=\"simple\"><rect fill=\"#FFFFFF\" height=\"45.9375\" id=\"E6\" rx=\"10\" ry=\"10\" style=\"stroke: #383838; stroke-width: 1.5;\" width=\"42\" x=\"93\" y=\"147\"/><text fill=\"#000000\" font-family=\"sans-serif\" font-size=\"12\" font-style=\"italic\" lengthAdjust=\"spacingAndGlyphs\" textLength=\"40\" x=\"94\" y=\"163.1387\">«port»</text><text fill=\"#000000\" font-family=\"sans-serif\" font-size=\"12\" lengthAdjust=\"spacingAndGlyphs\" textLength=\"24\" x=\"102\" y=\"177.1074\">po1</text><line style=\"stroke: #383838; stroke-width: 1.5;\" x1=\"94\" x2=\"134\" y1=\"184.9375\" y2=\"184.9375\"/></a><!--MD5=[2156ba9850f5573cc1fc38a6a4b2f02b]\n",
       "class E7--><a href=\"psysml:2c2598c5-3ef5-4f1d-ae32-f3d429fa4c2f\" target=\"_top\" title=\"psysml:2c2598c5-3ef5-4f1d-ae32-f3d429fa4c2f\" xlink:actuate=\"onRequest\" xlink:href=\"psysml:2c2598c5-3ef5-4f1d-ae32-f3d429fa4c2f\" xlink:show=\"new\" xlink:title=\"psysml:2c2598c5-3ef5-4f1d-ae32-f3d429fa4c2f\" xlink:type=\"simple\"><rect fill=\"#FFFFFF\" height=\"45.9375\" id=\"E7\" rx=\"10\" ry=\"10\" style=\"stroke: #383838; stroke-width: 1.5;\" width=\"50\" x=\"32\" y=\"41\"/><text fill=\"#000000\" font-family=\"sans-serif\" font-size=\"12\" font-style=\"italic\" lengthAdjust=\"spacingAndGlyphs\" textLength=\"40\" x=\"37\" y=\"57.1387\">«part»</text><text fill=\"#000000\" font-family=\"sans-serif\" font-size=\"12\" lengthAdjust=\"spacingAndGlyphs\" textLength=\"40\" x=\"35\" y=\"71.1074\">p2: P1</text><line style=\"stroke: #383838; stroke-width: 1.5;\" x1=\"33\" x2=\"81\" y1=\"78.9375\" y2=\"78.9375\"/></a><!--MD5=[b9389687b975829384b498ac4b7476b2]\n",
       "class E8--><a href=\"psysml:10820d16-405d-40a2-9551-06e34552661e\" target=\"_top\" title=\"psysml:10820d16-405d-40a2-9551-06e34552661e\" xlink:actuate=\"onRequest\" xlink:href=\"psysml:10820d16-405d-40a2-9551-06e34552661e\" xlink:show=\"new\" xlink:title=\"psysml:10820d16-405d-40a2-9551-06e34552661e\" xlink:type=\"simple\"><rect fill=\"#FFFFFF\" height=\"45.9375\" id=\"E8\" rx=\"10\" ry=\"10\" style=\"stroke: #383838; stroke-width: 1.5;\" width=\"42\" x=\"65\" y=\"253\"/><text fill=\"#000000\" font-family=\"sans-serif\" font-size=\"12\" font-style=\"italic\" lengthAdjust=\"spacingAndGlyphs\" textLength=\"40\" x=\"66\" y=\"269.1387\">«port»</text><text fill=\"#000000\" font-family=\"sans-serif\" font-size=\"12\" lengthAdjust=\"spacingAndGlyphs\" textLength=\"36\" x=\"68\" y=\"283.1074\">pdest</text><line style=\"stroke: #383838; stroke-width: 1.5;\" x1=\"66\" x2=\"106\" y1=\"290.9375\" y2=\"290.9375\"/></a><!--MD5=[4672eba38e49728da53d11aeb285b987]\n",
       "reverse link E3 to E4--><a href=\"psysml:8e3ccc77-0a8c-4c0b-a5d7-07a6acaf5014\" target=\"_top\" title=\"psysml:8e3ccc77-0a8c-4c0b-a5d7-07a6acaf5014\" xlink:actuate=\"onRequest\" xlink:href=\"psysml:8e3ccc77-0a8c-4c0b-a5d7-07a6acaf5014\" xlink:show=\"new\" xlink:title=\"psysml:8e3ccc77-0a8c-4c0b-a5d7-07a6acaf5014\" xlink:type=\"simple\"><path d=\"M197.33,206 C197.33,206 197.33,252.68 197.33,252.68 \" fill=\"none\" id=\"E3&lt;-E4\" style=\"stroke: #383838; stroke-width: 1.0;\"/><polygon fill=\"#FFFFFF\" points=\"197.33,193,193.33,199,197.33,205,201.33,199,197.33,193\" style=\"stroke: #383838; stroke-width: 1.0;\"/><text fill=\"#000000\" font-family=\"sans-serif\" font-size=\"13\" lengthAdjust=\"spacingAndGlyphs\" textLength=\"8\" x=\"186.3396\" y=\"241.8743\">1</text></a><!--MD5=[4672eba38e49728da53d11aeb285b987]\n",
       "reverse link E3 to E4--><a href=\"psysml:408c218d-2c50-4f10-8495-de57c6cccdaf\" target=\"_top\" title=\"psysml:408c218d-2c50-4f10-8495-de57c6cccdaf\" xlink:actuate=\"onRequest\" xlink:href=\"psysml:408c218d-2c50-4f10-8495-de57c6cccdaf\" xlink:show=\"new\" xlink:title=\"psysml:408c218d-2c50-4f10-8495-de57c6cccdaf\" xlink:type=\"simple\"><path d=\"M212.67,208 C212.67,208 212.67,252.68 212.67,252.68 \" fill=\"none\" id=\"E3&lt;-E4-1\" style=\"stroke: #383838; stroke-width: 1.0; stroke-dasharray: 7.0,7.0;\"/><ellipse cx=\"212.67\" cy=\"201\" fill=\"#FFFFFF\" rx=\"8\" ry=\"8\" style=\"stroke: #383838; stroke-width: 1.0;\"/><line style=\"stroke: #383838; stroke-width: 1.0;\" x1=\"212.67\" x2=\"212.67\" y1=\"209\" y2=\"193\"/><line style=\"stroke: #383838; stroke-width: 1.0;\" x1=\"204.67\" x2=\"220.67\" y1=\"201\" y2=\"201\"/><text fill=\"#000000\" font-family=\"sans-serif\" font-size=\"13\" lengthAdjust=\"spacingAndGlyphs\" textLength=\"8\" x=\"205.6104\" y=\"241.8743\">1</text></a><!--MD5=[e9be52314489bd878ff4c7144b63c9e1]\n",
       "link E5 to E3--><a href=\"psysml:39d7aa17-d9aa-4290-8253-e0b073366074\" target=\"_top\" title=\"psysml:39d7aa17-d9aa-4290-8253-e0b073366074\" xlink:actuate=\"onRequest\" xlink:href=\"psysml:39d7aa17-d9aa-4290-8253-e0b073366074\" xlink:show=\"new\" xlink:title=\"psysml:39d7aa17-d9aa-4290-8253-e0b073366074\" xlink:type=\"simple\"><path d=\"M167.12,64 C179.44,64 191.67,64 191.67,64 C191.67,64 191.67,127 191.67,127 \" fill=\"none\" id=\"E5-&gt;E3\" style=\"stroke: #383838; stroke-width: 1.0;\"/><polygon fill=\"#FFFFFF\" points=\"191.67,147,184.67,128,198.67,128,191.67,147\" style=\"stroke: #383838; stroke-width: 1.0;\"/><ellipse cx=\"186.67\" cy=\"122.3\" fill=\"#383838\" rx=\"2\" ry=\"2\" style=\"stroke: #383838; stroke-width: 1.0;\"/><ellipse cx=\"196.67\" cy=\"122.3\" fill=\"#383838\" rx=\"2\" ry=\"2\" style=\"stroke: #383838; stroke-width: 1.0;\"/></a><!--MD5=[85d356282659285ab4b2cfe2f634dd2b]\n",
       "reverse link E5 to E6--><a href=\"psysml:0602bff9-807d-4c23-b932-30af011e0640\" target=\"_top\" title=\"psysml:0602bff9-807d-4c23-b932-30af011e0640\" xlink:actuate=\"onRequest\" xlink:href=\"psysml:0602bff9-807d-4c23-b932-30af011e0640\" xlink:show=\"new\" xlink:title=\"psysml:0602bff9-807d-4c23-b932-30af011e0640\" xlink:type=\"simple\"><path d=\"M126,100 C126,100 126,146.68 126,146.68 \" fill=\"none\" id=\"E5&lt;-E6\" style=\"stroke: #383838; stroke-width: 1.0;\"/><polygon fill=\"#FFFFFF\" points=\"126,87,122,93,126,99,130,93,126,87\" style=\"stroke: #383838; stroke-width: 1.0;\"/><text fill=\"#000000\" font-family=\"sans-serif\" font-size=\"13\" lengthAdjust=\"spacingAndGlyphs\" textLength=\"8\" x=\"120.05\" y=\"135.8743\">1</text></a><!--MD5=[f667431f98296947986a1a7595a31603]\n",
       "link E6 to E4--><a href=\"psysml:5ed5dee3-04af-484b-a73a-bf3d62fb0484\" target=\"_top\" title=\"psysml:5ed5dee3-04af-484b-a73a-bf3d62fb0484\" xlink:actuate=\"onRequest\" xlink:href=\"psysml:5ed5dee3-04af-484b-a73a-bf3d62fb0484\" xlink:show=\"new\" xlink:title=\"psysml:5ed5dee3-04af-484b-a73a-bf3d62fb0484\" xlink:type=\"simple\"><path d=\"M121,193 C121,224.18 121,276 121,276 C121,276 161.6,276 161.6,276 \" fill=\"none\" id=\"E6-&gt;E4\" style=\"stroke: #383838; stroke-width: 1.0;\"/><polygon fill=\"#FFFFFF\" points=\"181.6,276,162.6,283,162.6,269,181.6,276\" style=\"stroke: #383838; stroke-width: 1.0;\"/><line style=\"stroke: #383838; stroke-width: 2.0;\" x1=\"158.8\" x2=\"158.8\" y1=\"283\" y2=\"269\"/></a><!--MD5=[14ccda38c055a5c0da953d572bc50960]\n",
       "link E7 to E3--><a href=\"psysml:6afc3f94-967f-4ac8-9c89-c7c9ad6aa496\" target=\"_top\" title=\"psysml:6afc3f94-967f-4ac8-9c89-c7c9ad6aa496\" xlink:actuate=\"onRequest\" xlink:href=\"psysml:6afc3f94-967f-4ac8-9c89-c7c9ad6aa496\" xlink:show=\"new\" xlink:title=\"psysml:6afc3f94-967f-4ac8-9c89-c7c9ad6aa496\" xlink:type=\"simple\"><path d=\"M77.75,87.09 C77.75,101.37 77.75,117 77.75,117 C77.75,117 180.83,117 180.83,117 C180.83,117 180.83,126.91 180.83,126.91 \" fill=\"none\" id=\"E7-&gt;E3\" style=\"stroke: #383838; stroke-width: 1.0;\"/><polygon fill=\"#FFFFFF\" points=\"180.83,146.91,173.83,127.91,187.83,127.91,180.83,146.91\" style=\"stroke: #383838; stroke-width: 1.0;\"/><ellipse cx=\"175.83\" cy=\"122.21\" fill=\"#383838\" rx=\"2\" ry=\"2\" style=\"stroke: #383838; stroke-width: 1.0;\"/><ellipse cx=\"185.83\" cy=\"122.21\" fill=\"#383838\" rx=\"2\" ry=\"2\" style=\"stroke: #383838; stroke-width: 1.0;\"/></a><!--MD5=[dc164f5e8a733ab456ef1add180e9e34]\n",
       "reverse link E7 to E8--><a href=\"psysml:9a63abc5-83ea-4d36-8ec2-a9e5009e1a31\" target=\"_top\" title=\"psysml:9a63abc5-83ea-4d36-8ec2-a9e5009e1a31\" xlink:actuate=\"onRequest\" xlink:href=\"psysml:9a63abc5-83ea-4d36-8ec2-a9e5009e1a31\" xlink:show=\"new\" xlink:title=\"psysml:9a63abc5-83ea-4d36-8ec2-a9e5009e1a31\" xlink:type=\"simple\"><path d=\"M69.25,100.09 C69.25,100.09 69.25,252.94 69.25,252.94 \" fill=\"none\" id=\"E7&lt;-E8\" style=\"stroke: #383838; stroke-width: 1.0;\"/><polygon fill=\"#FFFFFF\" points=\"69.25,87.09,65.25,93.09,69.25,99.09,73.25,93.09,69.25,87.09\" style=\"stroke: #383838; stroke-width: 1.0;\"/><text fill=\"#000000\" font-family=\"sans-serif\" font-size=\"13\" lengthAdjust=\"spacingAndGlyphs\" textLength=\"8\" x=\"55.6734\" y=\"241.8201\">1</text></a><!--MD5=[dc164f5e8a733ab456ef1add180e9e34]\n",
       "reverse link E7 to E8--><a href=\"psysml:af85dbb9-a19a-4dbd-bd41-700a2e1e88fd\" target=\"_top\" title=\"psysml:af85dbb9-a19a-4dbd-bd41-700a2e1e88fd\" xlink:actuate=\"onRequest\" xlink:href=\"psysml:af85dbb9-a19a-4dbd-bd41-700a2e1e88fd\" xlink:show=\"new\" xlink:title=\"psysml:af85dbb9-a19a-4dbd-bd41-700a2e1e88fd\" xlink:type=\"simple\"><path d=\"M73.5,102.09 C73.5,102.09 73.5,252.94 73.5,252.94 \" fill=\"none\" id=\"E7&lt;-E8-1\" style=\"stroke: #383838; stroke-width: 1.0; stroke-dasharray: 7.0,7.0;\"/><ellipse cx=\"73.5\" cy=\"95.09\" fill=\"#FFFFFF\" rx=\"8\" ry=\"8\" style=\"stroke: #383838; stroke-width: 1.0;\"/><line style=\"stroke: #383838; stroke-width: 1.0;\" x1=\"73.5\" x2=\"73.5\" y1=\"103.09\" y2=\"87.09\"/><line style=\"stroke: #383838; stroke-width: 1.0;\" x1=\"65.5\" x2=\"81.5\" y1=\"95.09\" y2=\"95.09\"/><text fill=\"#000000\" font-family=\"sans-serif\" font-size=\"13\" lengthAdjust=\"spacingAndGlyphs\" textLength=\"8\" x=\"71.2156\" y=\"241.8201\">1</text></a><!--MD5=[0a839d0f80c2d72d4b9b307f046d0de8]\n",
       "link E6 to E8--><a href=\"psysml:ee24455c-c65b-41eb-8958-74c54e28cd84\" target=\"_top\" title=\"psysml:ee24455c-c65b-41eb-8958-74c54e28cd84\" xlink:actuate=\"onRequest\" xlink:href=\"psysml:ee24455c-c65b-41eb-8958-74c54e28cd84\" xlink:show=\"new\" xlink:title=\"psysml:ee24455c-c65b-41eb-8958-74c54e28cd84\" xlink:type=\"simple\"><path d=\"M97.67,193 C97.67,210.66 97.67,234.94 97.67,252.68 \" fill=\"none\" id=\"E6-E8\" style=\"stroke: #383838; stroke-width: 3.0;\"/><text fill=\"#000000\" font-family=\"sans-serif\" font-size=\"13\" lengthAdjust=\"spacingAndGlyphs\" textLength=\"7\" x=\"92.7636\" y=\"241.8743\">*</text></a><!--MD5=[0a839d0f80c2d72d4b9b307f046d0de8]\n",
       "link E6 to E8--><a href=\"psysml:1d0a5b52-6a4c-4cbe-b03e-99be5638e392\" target=\"_top\" title=\"psysml:1d0a5b52-6a4c-4cbe-b03e-99be5638e392\" xlink:actuate=\"onRequest\" xlink:href=\"psysml:1d0a5b52-6a4c-4cbe-b03e-99be5638e392\" xlink:show=\"new\" xlink:title=\"psysml:1d0a5b52-6a4c-4cbe-b03e-99be5638e392\" xlink:type=\"simple\"><path d=\"M102.33,193 C102.33,210.66 102.33,234.94 102.33,252.68 \" fill=\"none\" id=\"E6-E8-1\" style=\"stroke: #383838; stroke-width: 3.0;\"/><text fill=\"#000000\" font-family=\"sans-serif\" font-size=\"13\" lengthAdjust=\"spacingAndGlyphs\" textLength=\"7\" x=\"107.4114\" y=\"241.8743\">*</text></a><!--MD5=[c6ee78dc0faef05857870a1b7b95fa09]\n",
       "@startuml\r\n",
       "skinparam linetype ortho\r\n",
       "skinparam monochrome true\r\n",
       "skinparam classbackgroundcolor white\r\n",
       "skinparam shadowing false\r\n",
       "skinparam wrapWidth 300\r\n",
       "hide circle\r\n",
       "\r\n",
       "package \"AliasTest\" as E1  [[psysml:dccc75fb-db16-4804-85cb-688c27ce5ff3 ]]  {\r\n",
       "comp usage \"q :> Quantities::tensorQuantities\" as E2  <<(T,blue) attribute>> [[psysml:ce72622b-28d6-4d09-bee8-b5dd20a40a54 ]] {\r\n",
       "}\r\n",
       "comp def \"P1\" as E3  <<(T,blue) part  def>> [[psysml:61eb2658-da6c-419b-a94e-058b00326cab ]] {\r\n",
       "}\r\n",
       "comp usage \"porig1\" as E4  <<(T,blue) port>> [[psysml:9ae2babd-6d67-4765-bfe5-8d775f3bcf42 ]] {\r\n",
       "}\r\n",
       "comp usage \"p1: P1 \" as E5  <<(T,blue) part>> [[psysml:11b2a6df-aab5-4dc5-a120-8a7b1f52b05c ]] {\r\n",
       "}\r\n",
       "comp usage \"po1\" as E6  <<(T,blue) port>> [[psysml:a231442e-2600-41cf-892c-df88027eb505 ]] {\r\n",
       "}\r\n",
       "comp usage \"p2: P1 \" as E7  <<(T,blue) part>> [[psysml:2c2598c5-3ef5-4f1d-ae32-f3d429fa4c2f ]] {\r\n",
       "}\r\n",
       "comp usage \"pdest\" as E8  <<(T,blue) port>> [[psysml:10820d16-405d-40a2-9551-06e34552661e ]] {\r\n",
       "}\r\n",
       "}\r\n",
       "E3 o- - \"1\"E4 [[psysml:8e3ccc77-0a8c-4c0b-a5d7-07a6acaf5014 ]] \r\n",
       "E3 +.. \"1\"E4 [[psysml:408c218d-2c50-4f10-8495-de57c6cccdaf ]] \r\n",
       "E5 - -:|> E3 [[psysml:39d7aa17-d9aa-4290-8253-e0b073366074 ]] \r\n",
       "E5 o- - \"1\"E6 [[psysml:0602bff9-807d-4c23-b932-30af011e0640 ]] \r\n",
       "E6 - -||> E4 [[psysml:5ed5dee3-04af-484b-a73a-bf3d62fb0484 ]] \r\n",
       "E7 - -:|> E3 [[psysml:6afc3f94-967f-4ac8-9c89-c7c9ad6aa496 ]] \r\n",
       "E7 o- - \"1\"E8 [[psysml:9a63abc5-83ea-4d36-8ec2-a9e5009e1a31 ]] \r\n",
       "E7 +.. \"1\"E8 [[psysml:af85dbb9-a19a-4dbd-bd41-700a2e1e88fd ]] \r\n",
       "E6 -[thickness=3]- \"*\"E8 [[psysml:ee24455c-c65b-41eb-8958-74c54e28cd84 ]] \r\n",
       "E6 -[thickness=3]- \"*\"E8 [[psysml:1d0a5b52-6a4c-4cbe-b03e-99be5638e392 ]] \r\n",
       "@enduml\r\n",
       "\n",
       "PlantUML version 1.2020.13(Sat Jun 13 12:26:38 UTC 2020)\n",
       "(EPL source distribution)\n",
       "Java Runtime: OpenJDK Runtime Environment\n",
       "JVM: OpenJDK 64-Bit Server VM\n",
       "Default Encoding: UTF-8\n",
       "Language: en\n",
       "Country: null\n",
       "--></g></svg>"
      ]
     },
     "execution_count": 52,
     "metadata": {},
     "output_type": "execute_result"
    }
   ],
   "source": [
    "%viz --style=\"ORTHOLINE\" --view=\"Tree\" \"AliasTest\""
   ]
  },
  {
   "cell_type": "code",
   "execution_count": 53,
   "id": "e982dfe3",
   "metadata": {
    "execution": {
     "iopub.execute_input": "2021-10-25T08:23:55.864699Z",
     "iopub.status.busy": "2021-10-25T08:23:55.864266Z",
     "iopub.status.idle": "2021-10-25T08:23:55.869978Z",
     "shell.execute_reply": "2021-10-25T08:23:55.869619Z"
    }
   },
   "outputs": [
    {
     "data": {
      "image/svg+xml": [
       "<?xml version=\"1.0\" encoding=\"UTF-8\" standalone=\"no\"?><svg xmlns=\"http://www.w3.org/2000/svg\" xmlns:xlink=\"http://www.w3.org/1999/xlink\" contentScriptType=\"application/ecmascript\" contentStyleType=\"text/css\" height=\"12px\" preserveAspectRatio=\"none\" style=\"width:12px;height:12px;\" version=\"1.1\" viewBox=\"0 0 12 12\" width=\"12px\" zoomAndPan=\"magnify\"><defs/><g><!--MD5=[97d6f38768b311333d388e66b2b27985]\n",
       "@startuml\r\n",
       "skinparam linetype ortho\r\n",
       "skinparam monochrome true\r\n",
       "skinparam classbackgroundcolor white\r\n",
       "skinparam shadowing false\r\n",
       "skinparam wrapWidth 300\r\n",
       "hide circle\r\n",
       "\r\n",
       "@enduml\r\n",
       "\n",
       "PlantUML version 1.2020.13(Sat Jun 13 12:26:38 UTC 2020)\n",
       "(EPL source distribution)\n",
       "Java Runtime: OpenJDK Runtime Environment\n",
       "JVM: OpenJDK 64-Bit Server VM\n",
       "Default Encoding: UTF-8\n",
       "Language: en\n",
       "Country: null\n",
       "--></g></svg>"
      ]
     },
     "execution_count": 53,
     "metadata": {},
     "output_type": "execute_result"
    }
   ],
   "source": [
    "%viz --style=\"ORTHOLINE\" --view=\"State\" \"AliasTest\""
   ]
  },
  {
   "cell_type": "code",
   "execution_count": 54,
   "id": "0a739400",
   "metadata": {
    "execution": {
     "iopub.execute_input": "2021-10-25T08:23:55.919128Z",
     "iopub.status.busy": "2021-10-25T08:23:55.918702Z",
     "iopub.status.idle": "2021-10-25T08:23:55.954433Z",
     "shell.execute_reply": "2021-10-25T08:23:55.952307Z"
    }
   },
   "outputs": [
    {
     "data": {
      "image/svg+xml": [
       "<?xml version=\"1.0\" encoding=\"UTF-8\" standalone=\"no\"?><svg xmlns=\"http://www.w3.org/2000/svg\" xmlns:xlink=\"http://www.w3.org/1999/xlink\" contentScriptType=\"application/ecmascript\" contentStyleType=\"text/css\" height=\"233px\" preserveAspectRatio=\"none\" style=\"width:618px;height:233px;\" version=\"1.1\" viewBox=\"0 0 618 233\" width=\"618px\" zoomAndPan=\"magnify\"><defs/><g><!--MD5=[fbc87193dbaf4d95561dea2c320d4a47]\n",
       "cluster E1--><a href=\"psysml:dccc75fb-db16-4804-85cb-688c27ce5ff3\" target=\"_top\" title=\"psysml:dccc75fb-db16-4804-85cb-688c27ce5ff3\" xlink:actuate=\"onRequest\" xlink:href=\"psysml:dccc75fb-db16-4804-85cb-688c27ce5ff3\" xlink:show=\"new\" xlink:title=\"psysml:dccc75fb-db16-4804-85cb-688c27ce5ff3\" xlink:type=\"simple\"><polygon fill=\"#FFFFFF\" points=\"16,6,84,6,91,28.2969,596,28.2969,596,221,16,221,16,6\" style=\"stroke: #000000; stroke-width: 1.5;\"/><line style=\"stroke: #000000; stroke-width: 1.5;\" x1=\"16\" x2=\"91\" y1=\"28.2969\" y2=\"28.2969\"/><text fill=\"#000000\" font-family=\"sans-serif\" font-size=\"14\" font-weight=\"bold\" lengthAdjust=\"spacingAndGlyphs\" textLength=\"62\" x=\"20\" y=\"20.9951\">AliasTest</text></a><!--MD5=[d5e69f78d87373223dbae638b30a9c99]\n",
       "cluster E3--><a href=\"psysml:61eb2658-da6c-419b-a94e-058b00326cab\" target=\"_top\" title=\"psysml:61eb2658-da6c-419b-a94e-058b00326cab\" xlink:actuate=\"onRequest\" xlink:href=\"psysml:61eb2658-da6c-419b-a94e-058b00326cab\" xlink:show=\"new\" xlink:title=\"psysml:61eb2658-da6c-419b-a94e-058b00326cab\" xlink:type=\"simple\"><rect fill=\"#FFFFFF\" height=\"90\" id=\"E3\" style=\"stroke: #383838; stroke-width: 1.5;\" width=\"85\" x=\"453\" y=\"64\"/><rect fill=\"#F8F8F8\" height=\"37.9375\" style=\"stroke: #383838; stroke-width: 1.5;\" width=\"85\" x=\"453\" y=\"64\"/><text fill=\"#000000\" font-family=\"sans-serif\" font-size=\"12\" font-style=\"italic\" lengthAdjust=\"spacingAndGlyphs\" textLength=\"68\" x=\"461.5\" y=\"80.1387\">«part  def»</text><text fill=\"#000000\" font-family=\"sans-serif\" font-size=\"12\" lengthAdjust=\"spacingAndGlyphs\" textLength=\"16\" x=\"487.5\" y=\"94.1074\">P1</text></a><!--MD5=[14e3b0961a2654348d326746436168a1]\n",
       "cluster E6--><a href=\"psysml:11b2a6df-aab5-4dc5-a120-8a7b1f52b05c\" target=\"_top\" title=\"psysml:11b2a6df-aab5-4dc5-a120-8a7b1f52b05c\" xlink:actuate=\"onRequest\" xlink:href=\"psysml:11b2a6df-aab5-4dc5-a120-8a7b1f52b05c\" xlink:show=\"new\" xlink:title=\"psysml:11b2a6df-aab5-4dc5-a120-8a7b1f52b05c\" xlink:type=\"simple\"><rect fill=\"#FFFFFF\" height=\"82\" id=\"E6\" rx=\"10\" ry=\"10\" style=\"stroke: #383838; stroke-width: 1.5;\" width=\"98\" x=\"252\" y=\"64\"/><rect fill=\"#F8F8F8\" height=\"23.9688\" rx=\"10\" ry=\"10\" style=\"stroke: #F8F8F8; stroke-width: 1.5;\" width=\"98\" x=\"252\" y=\"64\"/><rect fill=\"#F8F8F8\" height=\"10\" style=\"stroke: #F8F8F8; stroke-width: 1.5;\" width=\"98\" x=\"252\" y=\"77.9688\"/><rect fill=\"none\" height=\"82\" id=\"E6\" rx=\"10\" ry=\"10\" style=\"stroke: #383838; stroke-width: 1.5;\" width=\"98\" x=\"252\" y=\"64\"/><text fill=\"#000000\" font-family=\"sans-serif\" font-size=\"12\" lengthAdjust=\"spacingAndGlyphs\" textLength=\"40\" x=\"281\" y=\"80.1387\">p1: P1</text><line style=\"stroke: #383838; stroke-width: 1.0;\" x1=\"252\" x2=\"350\" y1=\"87.9688\" y2=\"87.9688\"/></a><!--MD5=[55dfccfc6c49c2d10cd1bd2211a6c90c]\n",
       "cluster E8--><a href=\"psysml:2c2598c5-3ef5-4f1d-ae32-f3d429fa4c2f\" target=\"_top\" title=\"psysml:2c2598c5-3ef5-4f1d-ae32-f3d429fa4c2f\" xlink:actuate=\"onRequest\" xlink:href=\"psysml:2c2598c5-3ef5-4f1d-ae32-f3d429fa4c2f\" xlink:show=\"new\" xlink:title=\"psysml:2c2598c5-3ef5-4f1d-ae32-f3d429fa4c2f\" xlink:type=\"simple\"><rect fill=\"#FFFFFF\" height=\"84.5\" id=\"E8\" rx=\"10\" ry=\"10\" style=\"stroke: #383838; stroke-width: 1.5;\" width=\"83\" x=\"353\" y=\"120.5\"/><rect fill=\"#F8F8F8\" height=\"23.9688\" rx=\"10\" ry=\"10\" style=\"stroke: #F8F8F8; stroke-width: 1.5;\" width=\"83\" x=\"353\" y=\"120.5\"/><rect fill=\"#F8F8F8\" height=\"10\" style=\"stroke: #F8F8F8; stroke-width: 1.5;\" width=\"83\" x=\"353\" y=\"134.4688\"/><rect fill=\"none\" height=\"84.5\" id=\"E8\" rx=\"10\" ry=\"10\" style=\"stroke: #383838; stroke-width: 1.5;\" width=\"83\" x=\"353\" y=\"120.5\"/><text fill=\"#000000\" font-family=\"sans-serif\" font-size=\"12\" lengthAdjust=\"spacingAndGlyphs\" textLength=\"40\" x=\"374.5\" y=\"136.6387\">p2: P1</text><line style=\"stroke: #383838; stroke-width: 1.0;\" x1=\"353\" x2=\"436\" y1=\"144.4688\" y2=\"144.4688\"/></a><!--MD5=[b4997ac47864f28c2f74865a473b2911]\n",
       "class E2--><a href=\"psysml:ce72622b-28d6-4d09-bee8-b5dd20a40a54\" target=\"_top\" title=\"psysml:ce72622b-28d6-4d09-bee8-b5dd20a40a54\" xlink:actuate=\"onRequest\" xlink:href=\"psysml:ce72622b-28d6-4d09-bee8-b5dd20a40a54\" xlink:show=\"new\" xlink:title=\"psysml:ce72622b-28d6-4d09-bee8-b5dd20a40a54\" xlink:type=\"simple\"><rect fill=\"#FFFFFF\" height=\"45.9375\" id=\"E2\" rx=\"10\" ry=\"10\" style=\"stroke: #383838; stroke-width: 1.5;\" width=\"213\" x=\"31.5\" y=\"41\"/><text fill=\"#000000\" font-family=\"sans-serif\" font-size=\"12\" font-style=\"italic\" lengthAdjust=\"spacingAndGlyphs\" textLength=\"69\" x=\"103.5\" y=\"57.1387\">«attribute»</text><text fill=\"#000000\" font-family=\"sans-serif\" font-size=\"12\" lengthAdjust=\"spacingAndGlyphs\" textLength=\"207\" x=\"34.5\" y=\"71.1074\">q :&gt; Quantities::tensorQuantities</text><line style=\"stroke: #383838; stroke-width: 1.5;\" x1=\"32.5\" x2=\"243.5\" y1=\"78.9375\" y2=\"78.9375\"/></a><text fill=\"#000000\" font-family=\"sans-serif\" font-size=\"14\" lengthAdjust=\"spacingAndGlyphs\" textLength=\"44\" x=\"449\" y=\"42.6982\">porig1</text><rect fill=\"#383838\" height=\"12\" style=\"stroke: #F8F8F8; stroke-width: 1.5;\" width=\"12\" x=\"465\" y=\"58\"/><text fill=\"#000000\" font-family=\"sans-serif\" font-size=\"14\" lengthAdjust=\"spacingAndGlyphs\" textLength=\"44\" x=\"496\" y=\"42.6982\">porig1</text><rect fill=\"#383838\" height=\"12\" style=\"stroke: #F8F8F8; stroke-width: 1.5;\" width=\"12\" x=\"512\" y=\"58\"/><text fill=\"#000000\" font-family=\"sans-serif\" font-size=\"14\" lengthAdjust=\"spacingAndGlyphs\" textLength=\"27\" x=\"318.5\" y=\"42.6982\">po1</text><rect fill=\"#383838\" height=\"12\" style=\"stroke: #F8F8F8; stroke-width: 1.5;\" width=\"12\" x=\"326\" y=\"58\"/><text fill=\"#000000\" font-family=\"sans-serif\" font-size=\"14\" lengthAdjust=\"spacingAndGlyphs\" textLength=\"40\" x=\"351\" y=\"99.1982\">pdest</text><rect fill=\"#383838\" height=\"12\" style=\"stroke: #F8F8F8; stroke-width: 1.5;\" width=\"12\" x=\"365\" y=\"114.5\"/><text fill=\"#000000\" font-family=\"sans-serif\" font-size=\"14\" lengthAdjust=\"spacingAndGlyphs\" textLength=\"40\" x=\"398\" y=\"99.1982\">pdest</text><rect fill=\"#383838\" height=\"12\" style=\"stroke: #F8F8F8; stroke-width: 1.5;\" width=\"12\" x=\"412\" y=\"114.5\"/><!--MD5=[1c0b9414cc86e0744215edee6abd8926]\n",
       "link E7 to E9--><a href=\"psysml:ee24455c-c65b-41eb-8958-74c54e28cd84\" target=\"_top\" title=\"psysml:ee24455c-c65b-41eb-8958-74c54e28cd84\" xlink:actuate=\"onRequest\" xlink:href=\"psysml:ee24455c-c65b-41eb-8958-74c54e28cd84\" xlink:show=\"new\" xlink:title=\"psysml:ee24455c-c65b-41eb-8958-74c54e28cd84\" xlink:type=\"simple\"><path d=\"M335.88,70.19 C335.88,84.38 335.88,118 335.88,118 C335.88,118 354.82,118 364.88,118 \" fill=\"none\" id=\"E7-E9\" style=\"stroke: #383838; stroke-width: 3.0;\"/><text fill=\"#000000\" font-family=\"sans-serif\" font-size=\"13\" lengthAdjust=\"spacingAndGlyphs\" textLength=\"7\" x=\"349.9435\" y=\"106.8717\">*</text></a><!--MD5=[1c0b9414cc86e0744215edee6abd8926]\n",
       "link E7 to E9--><a href=\"psysml:1d0a5b52-6a4c-4cbe-b03e-99be5638e392\" target=\"_top\" title=\"psysml:1d0a5b52-6a4c-4cbe-b03e-99be5638e392\" xlink:actuate=\"onRequest\" xlink:href=\"psysml:1d0a5b52-6a4c-4cbe-b03e-99be5638e392\" xlink:show=\"new\" xlink:title=\"psysml:1d0a5b52-6a4c-4cbe-b03e-99be5638e392\" xlink:type=\"simple\"><path d=\"M333.75,70.1 C333.75,84.8 333.75,121 333.75,121 C333.75,121 354.27,121 364.85,121 \" fill=\"none\" id=\"E7-E9-1\" style=\"stroke: #383838; stroke-width: 3.0;\"/><text fill=\"#000000\" font-family=\"sans-serif\" font-size=\"13\" lengthAdjust=\"spacingAndGlyphs\" textLength=\"7\" x=\"349.8888\" y=\"139.7217\">*</text></a><!--MD5=[bba135d77813ec139a6c7efe6ba9219a]\n",
       "@startuml\r\n",
       "skinparam ranksep 10\r\n",
       "skinparam rectangle {\r\n",
       " backgroundColor<<block>> LightGreen\r\n",
       "}\r\n",
       "skinparam linetype ortho\r\n",
       "skinparam monochrome true\r\n",
       "skinparam classbackgroundcolor white\r\n",
       "skinparam shadowing false\r\n",
       "skinparam wrapWidth 300\r\n",
       "hide circle\r\n",
       "\r\n",
       "package \"AliasTest\" as E1  [[psysml:dccc75fb-db16-4804-85cb-688c27ce5ff3 ]]  {\r\n",
       "comp usage \"q :> Quantities::tensorQuantities\" as E2  <<(T,blue) attribute>> [[psysml:ce72622b-28d6-4d09-bee8-b5dd20a40a54 ]] {\r\n",
       "}\r\n",
       "rec def \"P1\" as E3  <<(T,blue) part  def>> [[psysml:61eb2658-da6c-419b-a94e-058b00326cab ]] {\r\n",
       "portin \"porig1\" as E4  <<(T,blue) port>> [[psysml:9ae2babd-6d67-4765-bfe5-8d775f3bcf42 ]] \r\n",
       "portin \"porig1\" as E5  <<(T,blue) port>> [[psysml:9ae2babd-6d67-4765-bfe5-8d775f3bcf42 ]] \r\n",
       "}\r\n",
       "rec usage \"p1: P1\" as E6  [[psysml:11b2a6df-aab5-4dc5-a120-8a7b1f52b05c ]] {\r\n",
       "portin \"po1\" as E7  <<(T,blue) port>> [[psysml:a231442e-2600-41cf-892c-df88027eb505 ]] \r\n",
       "}\r\n",
       "rec usage \"p2: P1\" as E8  [[psysml:2c2598c5-3ef5-4f1d-ae32-f3d429fa4c2f ]] {\r\n",
       "portin \"pdest\" as E9  <<(T,blue) port>> [[psysml:10820d16-405d-40a2-9551-06e34552661e ]] \r\n",
       "portin \"pdest\" as E10  <<(T,blue) port>> [[psysml:10820d16-405d-40a2-9551-06e34552661e ]] \r\n",
       "}\r\n",
       "}\r\n",
       "E7 -[thickness=3]- \"*\"E9 [[psysml:ee24455c-c65b-41eb-8958-74c54e28cd84 ]] \r\n",
       "E7 -[thickness=3]- \"*\"E9 [[psysml:1d0a5b52-6a4c-4cbe-b03e-99be5638e392 ]] \r\n",
       "@enduml\r\n",
       "\n",
       "PlantUML version 1.2020.13(Sat Jun 13 12:26:38 UTC 2020)\n",
       "(EPL source distribution)\n",
       "Java Runtime: OpenJDK Runtime Environment\n",
       "JVM: OpenJDK 64-Bit Server VM\n",
       "Default Encoding: UTF-8\n",
       "Language: en\n",
       "Country: null\n",
       "--></g></svg>"
      ]
     },
     "execution_count": 54,
     "metadata": {},
     "output_type": "execute_result"
    }
   ],
   "source": [
    "%viz --style=\"ORTHOLINE\" --view=\"Interconnection\" \"AliasTest\""
   ]
  },
  {
   "cell_type": "code",
   "execution_count": 55,
   "id": "bf1f9735",
   "metadata": {
    "execution": {
     "iopub.execute_input": "2021-10-25T08:23:56.003111Z",
     "iopub.status.busy": "2021-10-25T08:23:56.002708Z",
     "iopub.status.idle": "2021-10-25T08:23:56.008266Z",
     "shell.execute_reply": "2021-10-25T08:23:56.007876Z"
    }
   },
   "outputs": [
    {
     "data": {
      "image/svg+xml": [
       "<?xml version=\"1.0\" encoding=\"UTF-8\" standalone=\"no\"?><svg xmlns=\"http://www.w3.org/2000/svg\" xmlns:xlink=\"http://www.w3.org/1999/xlink\" contentScriptType=\"application/ecmascript\" contentStyleType=\"text/css\" height=\"12px\" preserveAspectRatio=\"none\" style=\"width:12px;height:12px;\" version=\"1.1\" viewBox=\"0 0 12 12\" width=\"12px\" zoomAndPan=\"magnify\"><defs/><g><!--MD5=[72934c63077099a26744516a776b4749]\n",
       "@startuml\r\n",
       "skinparam ranksep 8\r\n",
       "skinparam linetype ortho\r\n",
       "skinparam monochrome true\r\n",
       "skinparam classbackgroundcolor white\r\n",
       "skinparam shadowing false\r\n",
       "skinparam wrapWidth 300\r\n",
       "hide circle\r\n",
       "\r\n",
       "@enduml\r\n",
       "\n",
       "PlantUML version 1.2020.13(Sat Jun 13 12:26:38 UTC 2020)\n",
       "(EPL source distribution)\n",
       "Java Runtime: OpenJDK Runtime Environment\n",
       "JVM: OpenJDK 64-Bit Server VM\n",
       "Default Encoding: UTF-8\n",
       "Language: en\n",
       "Country: null\n",
       "--></g></svg>"
      ]
     },
     "execution_count": 55,
     "metadata": {},
     "output_type": "execute_result"
    }
   ],
   "source": [
    "%viz --style=\"ORTHOLINE\" --view=\"Action\" \"AliasTest\""
   ]
  },
  {
   "cell_type": "code",
   "execution_count": 56,
   "id": "acc4acf4",
   "metadata": {
    "execution": {
     "iopub.execute_input": "2021-10-25T08:23:56.057635Z",
     "iopub.status.busy": "2021-10-25T08:23:56.057003Z",
     "iopub.status.idle": "2021-10-25T08:23:56.062784Z",
     "shell.execute_reply": "2021-10-25T08:23:56.062430Z"
    }
   },
   "outputs": [
    {
     "data": {
      "image/svg+xml": [
       "<?xml version=\"1.0\" encoding=\"UTF-8\" standalone=\"no\"?><svg xmlns=\"http://www.w3.org/2000/svg\" xmlns:xlink=\"http://www.w3.org/1999/xlink\" contentScriptType=\"application/ecmascript\" contentStyleType=\"text/css\" height=\"12px\" preserveAspectRatio=\"none\" style=\"width:12px;height:12px;\" version=\"1.1\" viewBox=\"0 0 12 12\" width=\"12px\" zoomAndPan=\"magnify\"><defs/><g><!--MD5=[30fc1de5121c5abddedd55b44417fde8]\n",
       "@startuml\r\n",
       "skinparam roundcorner 20\r\n",
       "skinparam BoxPadding 20\r\n",
       "skinparam SequenceBoxBackgroundColor #white\r\n",
       "skinparam style strictuml\r\n",
       "skinparam maxMessageSize 100\r\n",
       "skinparam linetype ortho\r\n",
       "skinparam monochrome true\r\n",
       "skinparam classbackgroundcolor white\r\n",
       "skinparam shadowing false\r\n",
       "skinparam wrapWidth 300\r\n",
       "hide circle\r\n",
       "\r\n",
       "@enduml\r\n",
       "\n",
       "PlantUML version 1.2020.13(Sat Jun 13 12:26:38 UTC 2020)\n",
       "(EPL source distribution)\n",
       "Java Runtime: OpenJDK Runtime Environment\n",
       "JVM: OpenJDK 64-Bit Server VM\n",
       "Default Encoding: UTF-8\n",
       "Language: en\n",
       "Country: null\n",
       "--></g></svg>"
      ]
     },
     "execution_count": 56,
     "metadata": {},
     "output_type": "execute_result"
    }
   ],
   "source": [
    "%viz --style=\"ORTHOLINE\" --view=\"Sequence\" \"AliasTest\""
   ]
  },
  {
   "cell_type": "code",
   "execution_count": 57,
   "id": "3d8acb91",
   "metadata": {
    "execution": {
     "iopub.execute_input": "2021-10-25T08:23:56.112498Z",
     "iopub.status.busy": "2021-10-25T08:23:56.111854Z",
     "iopub.status.idle": "2021-10-25T08:23:56.143691Z",
     "shell.execute_reply": "2021-10-25T08:23:56.141740Z"
    }
   },
   "outputs": [
    {
     "data": {
      "image/svg+xml": [
       "<?xml version=\"1.0\" encoding=\"UTF-8\" standalone=\"no\"?><svg xmlns=\"http://www.w3.org/2000/svg\" xmlns:xlink=\"http://www.w3.org/1999/xlink\" contentScriptType=\"application/ecmascript\" contentStyleType=\"text/css\" height=\"327px\" preserveAspectRatio=\"none\" style=\"width:453px;height:327px;\" version=\"1.1\" viewBox=\"0 0 453 327\" width=\"453px\" zoomAndPan=\"magnify\"><defs/><g><!--MD5=[fbc87193dbaf4d95561dea2c320d4a47]\n",
       "cluster E1--><a href=\"psysml:dccc75fb-db16-4804-85cb-688c27ce5ff3\" target=\"_top\" title=\"psysml:dccc75fb-db16-4804-85cb-688c27ce5ff3\" xlink:actuate=\"onRequest\" xlink:href=\"psysml:dccc75fb-db16-4804-85cb-688c27ce5ff3\" xlink:show=\"new\" xlink:title=\"psysml:dccc75fb-db16-4804-85cb-688c27ce5ff3\" xlink:type=\"simple\"><polygon fill=\"#FFFFFF\" points=\"16,6,84,6,91,28.2969,431,28.2969,431,315,16,315,16,6\" style=\"stroke: #000000; stroke-width: 1.5;\"/><line style=\"stroke: #000000; stroke-width: 1.5;\" x1=\"16\" x2=\"91\" y1=\"28.2969\" y2=\"28.2969\"/><text fill=\"#000000\" font-family=\"sans-serif\" font-size=\"14\" font-weight=\"bold\" lengthAdjust=\"spacingAndGlyphs\" textLength=\"62\" x=\"20\" y=\"20.9951\">AliasTest</text></a><!--MD5=[b4997ac47864f28c2f74865a473b2911]\n",
       "class E2--><a href=\"psysml:ce72622b-28d6-4d09-bee8-b5dd20a40a54\" target=\"_top\" title=\"psysml:ce72622b-28d6-4d09-bee8-b5dd20a40a54\" xlink:actuate=\"onRequest\" xlink:href=\"psysml:ce72622b-28d6-4d09-bee8-b5dd20a40a54\" xlink:show=\"new\" xlink:title=\"psysml:ce72622b-28d6-4d09-bee8-b5dd20a40a54\" xlink:type=\"simple\"><rect fill=\"#FFFFFF\" height=\"45.9375\" id=\"E2\" rx=\"10\" ry=\"10\" style=\"stroke: #383838; stroke-width: 1.5;\" width=\"213\" x=\"202.5\" y=\"41\"/><text fill=\"#000000\" font-family=\"sans-serif\" font-size=\"12\" font-style=\"italic\" lengthAdjust=\"spacingAndGlyphs\" textLength=\"69\" x=\"274.5\" y=\"57.1387\">«attribute»</text><text fill=\"#000000\" font-family=\"sans-serif\" font-size=\"12\" lengthAdjust=\"spacingAndGlyphs\" textLength=\"207\" x=\"205.5\" y=\"71.1074\">q :&gt; Quantities::tensorQuantities</text><line style=\"stroke: #383838; stroke-width: 1.5;\" x1=\"203.5\" x2=\"414.5\" y1=\"78.9375\" y2=\"78.9375\"/></a><!--MD5=[09b614a08d8cba4a07c9adeb5e0fee81]\n",
       "class E3--><a href=\"psysml:61eb2658-da6c-419b-a94e-058b00326cab\" target=\"_top\" title=\"psysml:61eb2658-da6c-419b-a94e-058b00326cab\" xlink:actuate=\"onRequest\" xlink:href=\"psysml:61eb2658-da6c-419b-a94e-058b00326cab\" xlink:show=\"new\" xlink:title=\"psysml:61eb2658-da6c-419b-a94e-058b00326cab\" xlink:type=\"simple\"><rect fill=\"#FFFFFF\" height=\"45.9375\" id=\"E3\" style=\"stroke: #383838; stroke-width: 1.5;\" width=\"70\" x=\"170\" y=\"147\"/><text fill=\"#000000\" font-family=\"sans-serif\" font-size=\"12\" font-style=\"italic\" lengthAdjust=\"spacingAndGlyphs\" textLength=\"68\" x=\"171\" y=\"163.1387\">«part  def»</text><text fill=\"#000000\" font-family=\"sans-serif\" font-size=\"12\" lengthAdjust=\"spacingAndGlyphs\" textLength=\"16\" x=\"197\" y=\"177.1074\">P1</text><line style=\"stroke: #383838; stroke-width: 1.5;\" x1=\"171\" x2=\"239\" y1=\"184.9375\" y2=\"184.9375\"/></a><!--MD5=[ebbe1d658d1005bcc118a6aa81145e00]\n",
       "class E4--><a href=\"psysml:9ae2babd-6d67-4765-bfe5-8d775f3bcf42\" target=\"_top\" title=\"psysml:9ae2babd-6d67-4765-bfe5-8d775f3bcf42\" xlink:actuate=\"onRequest\" xlink:href=\"psysml:9ae2babd-6d67-4765-bfe5-8d775f3bcf42\" xlink:show=\"new\" xlink:title=\"psysml:9ae2babd-6d67-4765-bfe5-8d775f3bcf42\" xlink:type=\"simple\"><rect fill=\"#FFFFFF\" height=\"45.9375\" id=\"E4\" rx=\"10\" ry=\"10\" style=\"stroke: #383838; stroke-width: 1.5;\" width=\"46\" x=\"182\" y=\"253\"/><text fill=\"#000000\" font-family=\"sans-serif\" font-size=\"12\" font-style=\"italic\" lengthAdjust=\"spacingAndGlyphs\" textLength=\"40\" x=\"185\" y=\"269.1387\">«port»</text><text fill=\"#000000\" font-family=\"sans-serif\" font-size=\"12\" lengthAdjust=\"spacingAndGlyphs\" textLength=\"40\" x=\"185\" y=\"283.1074\">porig1</text><line style=\"stroke: #383838; stroke-width: 1.5;\" x1=\"183\" x2=\"227\" y1=\"290.9375\" y2=\"290.9375\"/></a><!--MD5=[270fce915f116d4de14055a7c1d9a0f3]\n",
       "class E5--><a href=\"psysml:11b2a6df-aab5-4dc5-a120-8a7b1f52b05c\" target=\"_top\" title=\"psysml:11b2a6df-aab5-4dc5-a120-8a7b1f52b05c\" xlink:actuate=\"onRequest\" xlink:href=\"psysml:11b2a6df-aab5-4dc5-a120-8a7b1f52b05c\" xlink:show=\"new\" xlink:title=\"psysml:11b2a6df-aab5-4dc5-a120-8a7b1f52b05c\" xlink:type=\"simple\"><rect fill=\"#FFFFFF\" height=\"45.9375\" id=\"E5\" rx=\"10\" ry=\"10\" style=\"stroke: #383838; stroke-width: 1.5;\" width=\"50\" x=\"117\" y=\"41\"/><text fill=\"#000000\" font-family=\"sans-serif\" font-size=\"12\" font-style=\"italic\" lengthAdjust=\"spacingAndGlyphs\" textLength=\"40\" x=\"122\" y=\"57.1387\">«part»</text><text fill=\"#000000\" font-family=\"sans-serif\" font-size=\"12\" lengthAdjust=\"spacingAndGlyphs\" textLength=\"40\" x=\"120\" y=\"71.1074\">p1: P1</text><line style=\"stroke: #383838; stroke-width: 1.5;\" x1=\"118\" x2=\"166\" y1=\"78.9375\" y2=\"78.9375\"/></a><!--MD5=[60a26617385b1d2d0262a64233df1f8d]\n",
       "class E6--><a href=\"psysml:a231442e-2600-41cf-892c-df88027eb505\" target=\"_top\" title=\"psysml:a231442e-2600-41cf-892c-df88027eb505\" xlink:actuate=\"onRequest\" xlink:href=\"psysml:a231442e-2600-41cf-892c-df88027eb505\" xlink:show=\"new\" xlink:title=\"psysml:a231442e-2600-41cf-892c-df88027eb505\" xlink:type=\"simple\"><rect fill=\"#FFFFFF\" height=\"45.9375\" id=\"E6\" rx=\"10\" ry=\"10\" style=\"stroke: #383838; stroke-width: 1.5;\" width=\"42\" x=\"93\" y=\"147\"/><text fill=\"#000000\" font-family=\"sans-serif\" font-size=\"12\" font-style=\"italic\" lengthAdjust=\"spacingAndGlyphs\" textLength=\"40\" x=\"94\" y=\"163.1387\">«port»</text><text fill=\"#000000\" font-family=\"sans-serif\" font-size=\"12\" lengthAdjust=\"spacingAndGlyphs\" textLength=\"24\" x=\"102\" y=\"177.1074\">po1</text><line style=\"stroke: #383838; stroke-width: 1.5;\" x1=\"94\" x2=\"134\" y1=\"184.9375\" y2=\"184.9375\"/></a><!--MD5=[2156ba9850f5573cc1fc38a6a4b2f02b]\n",
       "class E7--><a href=\"psysml:2c2598c5-3ef5-4f1d-ae32-f3d429fa4c2f\" target=\"_top\" title=\"psysml:2c2598c5-3ef5-4f1d-ae32-f3d429fa4c2f\" xlink:actuate=\"onRequest\" xlink:href=\"psysml:2c2598c5-3ef5-4f1d-ae32-f3d429fa4c2f\" xlink:show=\"new\" xlink:title=\"psysml:2c2598c5-3ef5-4f1d-ae32-f3d429fa4c2f\" xlink:type=\"simple\"><rect fill=\"#FFFFFF\" height=\"45.9375\" id=\"E7\" rx=\"10\" ry=\"10\" style=\"stroke: #383838; stroke-width: 1.5;\" width=\"50\" x=\"32\" y=\"41\"/><text fill=\"#000000\" font-family=\"sans-serif\" font-size=\"12\" font-style=\"italic\" lengthAdjust=\"spacingAndGlyphs\" textLength=\"40\" x=\"37\" y=\"57.1387\">«part»</text><text fill=\"#000000\" font-family=\"sans-serif\" font-size=\"12\" lengthAdjust=\"spacingAndGlyphs\" textLength=\"40\" x=\"35\" y=\"71.1074\">p2: P1</text><line style=\"stroke: #383838; stroke-width: 1.5;\" x1=\"33\" x2=\"81\" y1=\"78.9375\" y2=\"78.9375\"/></a><!--MD5=[b9389687b975829384b498ac4b7476b2]\n",
       "class E8--><a href=\"psysml:10820d16-405d-40a2-9551-06e34552661e\" target=\"_top\" title=\"psysml:10820d16-405d-40a2-9551-06e34552661e\" xlink:actuate=\"onRequest\" xlink:href=\"psysml:10820d16-405d-40a2-9551-06e34552661e\" xlink:show=\"new\" xlink:title=\"psysml:10820d16-405d-40a2-9551-06e34552661e\" xlink:type=\"simple\"><rect fill=\"#FFFFFF\" height=\"45.9375\" id=\"E8\" rx=\"10\" ry=\"10\" style=\"stroke: #383838; stroke-width: 1.5;\" width=\"42\" x=\"65\" y=\"253\"/><text fill=\"#000000\" font-family=\"sans-serif\" font-size=\"12\" font-style=\"italic\" lengthAdjust=\"spacingAndGlyphs\" textLength=\"40\" x=\"66\" y=\"269.1387\">«port»</text><text fill=\"#000000\" font-family=\"sans-serif\" font-size=\"12\" lengthAdjust=\"spacingAndGlyphs\" textLength=\"36\" x=\"68\" y=\"283.1074\">pdest</text><line style=\"stroke: #383838; stroke-width: 1.5;\" x1=\"66\" x2=\"106\" y1=\"290.9375\" y2=\"290.9375\"/></a><!--MD5=[4672eba38e49728da53d11aeb285b987]\n",
       "reverse link E3 to E4--><a href=\"psysml:8e3ccc77-0a8c-4c0b-a5d7-07a6acaf5014\" target=\"_top\" title=\"psysml:8e3ccc77-0a8c-4c0b-a5d7-07a6acaf5014\" xlink:actuate=\"onRequest\" xlink:href=\"psysml:8e3ccc77-0a8c-4c0b-a5d7-07a6acaf5014\" xlink:show=\"new\" xlink:title=\"psysml:8e3ccc77-0a8c-4c0b-a5d7-07a6acaf5014\" xlink:type=\"simple\"><path d=\"M197.33,206 C197.33,206 197.33,252.68 197.33,252.68 \" fill=\"none\" id=\"E3&lt;-E4\" style=\"stroke: #383838; stroke-width: 1.0;\"/><polygon fill=\"#FFFFFF\" points=\"197.33,193,193.33,199,197.33,205,201.33,199,197.33,193\" style=\"stroke: #383838; stroke-width: 1.0;\"/><text fill=\"#000000\" font-family=\"sans-serif\" font-size=\"13\" lengthAdjust=\"spacingAndGlyphs\" textLength=\"8\" x=\"186.3396\" y=\"241.8743\">1</text></a><!--MD5=[4672eba38e49728da53d11aeb285b987]\n",
       "reverse link E3 to E4--><a href=\"psysml:408c218d-2c50-4f10-8495-de57c6cccdaf\" target=\"_top\" title=\"psysml:408c218d-2c50-4f10-8495-de57c6cccdaf\" xlink:actuate=\"onRequest\" xlink:href=\"psysml:408c218d-2c50-4f10-8495-de57c6cccdaf\" xlink:show=\"new\" xlink:title=\"psysml:408c218d-2c50-4f10-8495-de57c6cccdaf\" xlink:type=\"simple\"><path d=\"M212.67,208 C212.67,208 212.67,252.68 212.67,252.68 \" fill=\"none\" id=\"E3&lt;-E4-1\" style=\"stroke: #383838; stroke-width: 1.0; stroke-dasharray: 7.0,7.0;\"/><ellipse cx=\"212.67\" cy=\"201\" fill=\"#FFFFFF\" rx=\"8\" ry=\"8\" style=\"stroke: #383838; stroke-width: 1.0;\"/><line style=\"stroke: #383838; stroke-width: 1.0;\" x1=\"212.67\" x2=\"212.67\" y1=\"209\" y2=\"193\"/><line style=\"stroke: #383838; stroke-width: 1.0;\" x1=\"204.67\" x2=\"220.67\" y1=\"201\" y2=\"201\"/><text fill=\"#000000\" font-family=\"sans-serif\" font-size=\"13\" lengthAdjust=\"spacingAndGlyphs\" textLength=\"8\" x=\"205.6104\" y=\"241.8743\">1</text></a><!--MD5=[e9be52314489bd878ff4c7144b63c9e1]\n",
       "link E5 to E3--><a href=\"psysml:39d7aa17-d9aa-4290-8253-e0b073366074\" target=\"_top\" title=\"psysml:39d7aa17-d9aa-4290-8253-e0b073366074\" xlink:actuate=\"onRequest\" xlink:href=\"psysml:39d7aa17-d9aa-4290-8253-e0b073366074\" xlink:show=\"new\" xlink:title=\"psysml:39d7aa17-d9aa-4290-8253-e0b073366074\" xlink:type=\"simple\"><path d=\"M167.12,64 C179.44,64 191.67,64 191.67,64 C191.67,64 191.67,127 191.67,127 \" fill=\"none\" id=\"E5-&gt;E3\" style=\"stroke: #383838; stroke-width: 1.0;\"/><polygon fill=\"#FFFFFF\" points=\"191.67,147,184.67,128,198.67,128,191.67,147\" style=\"stroke: #383838; stroke-width: 1.0;\"/><ellipse cx=\"186.67\" cy=\"122.3\" fill=\"#383838\" rx=\"2\" ry=\"2\" style=\"stroke: #383838; stroke-width: 1.0;\"/><ellipse cx=\"196.67\" cy=\"122.3\" fill=\"#383838\" rx=\"2\" ry=\"2\" style=\"stroke: #383838; stroke-width: 1.0;\"/></a><!--MD5=[85d356282659285ab4b2cfe2f634dd2b]\n",
       "reverse link E5 to E6--><a href=\"psysml:0602bff9-807d-4c23-b932-30af011e0640\" target=\"_top\" title=\"psysml:0602bff9-807d-4c23-b932-30af011e0640\" xlink:actuate=\"onRequest\" xlink:href=\"psysml:0602bff9-807d-4c23-b932-30af011e0640\" xlink:show=\"new\" xlink:title=\"psysml:0602bff9-807d-4c23-b932-30af011e0640\" xlink:type=\"simple\"><path d=\"M126,100 C126,100 126,146.68 126,146.68 \" fill=\"none\" id=\"E5&lt;-E6\" style=\"stroke: #383838; stroke-width: 1.0;\"/><polygon fill=\"#FFFFFF\" points=\"126,87,122,93,126,99,130,93,126,87\" style=\"stroke: #383838; stroke-width: 1.0;\"/><text fill=\"#000000\" font-family=\"sans-serif\" font-size=\"13\" lengthAdjust=\"spacingAndGlyphs\" textLength=\"8\" x=\"120.05\" y=\"135.8743\">1</text></a><!--MD5=[f667431f98296947986a1a7595a31603]\n",
       "link E6 to E4--><a href=\"psysml:5ed5dee3-04af-484b-a73a-bf3d62fb0484\" target=\"_top\" title=\"psysml:5ed5dee3-04af-484b-a73a-bf3d62fb0484\" xlink:actuate=\"onRequest\" xlink:href=\"psysml:5ed5dee3-04af-484b-a73a-bf3d62fb0484\" xlink:show=\"new\" xlink:title=\"psysml:5ed5dee3-04af-484b-a73a-bf3d62fb0484\" xlink:type=\"simple\"><path d=\"M121,193 C121,224.18 121,276 121,276 C121,276 161.6,276 161.6,276 \" fill=\"none\" id=\"E6-&gt;E4\" style=\"stroke: #383838; stroke-width: 1.0;\"/><polygon fill=\"#FFFFFF\" points=\"181.6,276,162.6,283,162.6,269,181.6,276\" style=\"stroke: #383838; stroke-width: 1.0;\"/><line style=\"stroke: #383838; stroke-width: 2.0;\" x1=\"158.8\" x2=\"158.8\" y1=\"283\" y2=\"269\"/></a><!--MD5=[14ccda38c055a5c0da953d572bc50960]\n",
       "link E7 to E3--><a href=\"psysml:6afc3f94-967f-4ac8-9c89-c7c9ad6aa496\" target=\"_top\" title=\"psysml:6afc3f94-967f-4ac8-9c89-c7c9ad6aa496\" xlink:actuate=\"onRequest\" xlink:href=\"psysml:6afc3f94-967f-4ac8-9c89-c7c9ad6aa496\" xlink:show=\"new\" xlink:title=\"psysml:6afc3f94-967f-4ac8-9c89-c7c9ad6aa496\" xlink:type=\"simple\"><path d=\"M77.75,87.09 C77.75,101.37 77.75,117 77.75,117 C77.75,117 180.83,117 180.83,117 C180.83,117 180.83,126.91 180.83,126.91 \" fill=\"none\" id=\"E7-&gt;E3\" style=\"stroke: #383838; stroke-width: 1.0;\"/><polygon fill=\"#FFFFFF\" points=\"180.83,146.91,173.83,127.91,187.83,127.91,180.83,146.91\" style=\"stroke: #383838; stroke-width: 1.0;\"/><ellipse cx=\"175.83\" cy=\"122.21\" fill=\"#383838\" rx=\"2\" ry=\"2\" style=\"stroke: #383838; stroke-width: 1.0;\"/><ellipse cx=\"185.83\" cy=\"122.21\" fill=\"#383838\" rx=\"2\" ry=\"2\" style=\"stroke: #383838; stroke-width: 1.0;\"/></a><!--MD5=[dc164f5e8a733ab456ef1add180e9e34]\n",
       "reverse link E7 to E8--><a href=\"psysml:9a63abc5-83ea-4d36-8ec2-a9e5009e1a31\" target=\"_top\" title=\"psysml:9a63abc5-83ea-4d36-8ec2-a9e5009e1a31\" xlink:actuate=\"onRequest\" xlink:href=\"psysml:9a63abc5-83ea-4d36-8ec2-a9e5009e1a31\" xlink:show=\"new\" xlink:title=\"psysml:9a63abc5-83ea-4d36-8ec2-a9e5009e1a31\" xlink:type=\"simple\"><path d=\"M69.25,100.09 C69.25,100.09 69.25,252.94 69.25,252.94 \" fill=\"none\" id=\"E7&lt;-E8\" style=\"stroke: #383838; stroke-width: 1.0;\"/><polygon fill=\"#FFFFFF\" points=\"69.25,87.09,65.25,93.09,69.25,99.09,73.25,93.09,69.25,87.09\" style=\"stroke: #383838; stroke-width: 1.0;\"/><text fill=\"#000000\" font-family=\"sans-serif\" font-size=\"13\" lengthAdjust=\"spacingAndGlyphs\" textLength=\"8\" x=\"55.6734\" y=\"241.8201\">1</text></a><!--MD5=[dc164f5e8a733ab456ef1add180e9e34]\n",
       "reverse link E7 to E8--><a href=\"psysml:af85dbb9-a19a-4dbd-bd41-700a2e1e88fd\" target=\"_top\" title=\"psysml:af85dbb9-a19a-4dbd-bd41-700a2e1e88fd\" xlink:actuate=\"onRequest\" xlink:href=\"psysml:af85dbb9-a19a-4dbd-bd41-700a2e1e88fd\" xlink:show=\"new\" xlink:title=\"psysml:af85dbb9-a19a-4dbd-bd41-700a2e1e88fd\" xlink:type=\"simple\"><path d=\"M73.5,102.09 C73.5,102.09 73.5,252.94 73.5,252.94 \" fill=\"none\" id=\"E7&lt;-E8-1\" style=\"stroke: #383838; stroke-width: 1.0; stroke-dasharray: 7.0,7.0;\"/><ellipse cx=\"73.5\" cy=\"95.09\" fill=\"#FFFFFF\" rx=\"8\" ry=\"8\" style=\"stroke: #383838; stroke-width: 1.0;\"/><line style=\"stroke: #383838; stroke-width: 1.0;\" x1=\"73.5\" x2=\"73.5\" y1=\"103.09\" y2=\"87.09\"/><line style=\"stroke: #383838; stroke-width: 1.0;\" x1=\"65.5\" x2=\"81.5\" y1=\"95.09\" y2=\"95.09\"/><text fill=\"#000000\" font-family=\"sans-serif\" font-size=\"13\" lengthAdjust=\"spacingAndGlyphs\" textLength=\"8\" x=\"71.2156\" y=\"241.8201\">1</text></a><!--MD5=[0a839d0f80c2d72d4b9b307f046d0de8]\n",
       "link E6 to E8--><a href=\"psysml:ee24455c-c65b-41eb-8958-74c54e28cd84\" target=\"_top\" title=\"psysml:ee24455c-c65b-41eb-8958-74c54e28cd84\" xlink:actuate=\"onRequest\" xlink:href=\"psysml:ee24455c-c65b-41eb-8958-74c54e28cd84\" xlink:show=\"new\" xlink:title=\"psysml:ee24455c-c65b-41eb-8958-74c54e28cd84\" xlink:type=\"simple\"><path d=\"M97.67,193 C97.67,210.66 97.67,234.94 97.67,252.68 \" fill=\"none\" id=\"E6-E8\" style=\"stroke: #383838; stroke-width: 3.0;\"/><text fill=\"#000000\" font-family=\"sans-serif\" font-size=\"13\" lengthAdjust=\"spacingAndGlyphs\" textLength=\"7\" x=\"92.7636\" y=\"241.8743\">*</text></a><!--MD5=[0a839d0f80c2d72d4b9b307f046d0de8]\n",
       "link E6 to E8--><a href=\"psysml:1d0a5b52-6a4c-4cbe-b03e-99be5638e392\" target=\"_top\" title=\"psysml:1d0a5b52-6a4c-4cbe-b03e-99be5638e392\" xlink:actuate=\"onRequest\" xlink:href=\"psysml:1d0a5b52-6a4c-4cbe-b03e-99be5638e392\" xlink:show=\"new\" xlink:title=\"psysml:1d0a5b52-6a4c-4cbe-b03e-99be5638e392\" xlink:type=\"simple\"><path d=\"M102.33,193 C102.33,210.66 102.33,234.94 102.33,252.68 \" fill=\"none\" id=\"E6-E8-1\" style=\"stroke: #383838; stroke-width: 3.0;\"/><text fill=\"#000000\" font-family=\"sans-serif\" font-size=\"13\" lengthAdjust=\"spacingAndGlyphs\" textLength=\"7\" x=\"107.4114\" y=\"241.8743\">*</text></a><!--MD5=[c6ee78dc0faef05857870a1b7b95fa09]\n",
       "@startuml\r\n",
       "skinparam linetype ortho\r\n",
       "skinparam monochrome true\r\n",
       "skinparam classbackgroundcolor white\r\n",
       "skinparam shadowing false\r\n",
       "skinparam wrapWidth 300\r\n",
       "hide circle\r\n",
       "\r\n",
       "package \"AliasTest\" as E1  [[psysml:dccc75fb-db16-4804-85cb-688c27ce5ff3 ]]  {\r\n",
       "comp usage \"q :> Quantities::tensorQuantities\" as E2  <<(T,blue) attribute>> [[psysml:ce72622b-28d6-4d09-bee8-b5dd20a40a54 ]] {\r\n",
       "}\r\n",
       "comp def \"P1\" as E3  <<(T,blue) part  def>> [[psysml:61eb2658-da6c-419b-a94e-058b00326cab ]] {\r\n",
       "}\r\n",
       "comp usage \"porig1\" as E4  <<(T,blue) port>> [[psysml:9ae2babd-6d67-4765-bfe5-8d775f3bcf42 ]] {\r\n",
       "}\r\n",
       "comp usage \"p1: P1 \" as E5  <<(T,blue) part>> [[psysml:11b2a6df-aab5-4dc5-a120-8a7b1f52b05c ]] {\r\n",
       "}\r\n",
       "comp usage \"po1\" as E6  <<(T,blue) port>> [[psysml:a231442e-2600-41cf-892c-df88027eb505 ]] {\r\n",
       "}\r\n",
       "comp usage \"p2: P1 \" as E7  <<(T,blue) part>> [[psysml:2c2598c5-3ef5-4f1d-ae32-f3d429fa4c2f ]] {\r\n",
       "}\r\n",
       "comp usage \"pdest\" as E8  <<(T,blue) port>> [[psysml:10820d16-405d-40a2-9551-06e34552661e ]] {\r\n",
       "}\r\n",
       "}\r\n",
       "E3 o- - \"1\"E4 [[psysml:8e3ccc77-0a8c-4c0b-a5d7-07a6acaf5014 ]] \r\n",
       "E3 +.. \"1\"E4 [[psysml:408c218d-2c50-4f10-8495-de57c6cccdaf ]] \r\n",
       "E5 - -:|> E3 [[psysml:39d7aa17-d9aa-4290-8253-e0b073366074 ]] \r\n",
       "E5 o- - \"1\"E6 [[psysml:0602bff9-807d-4c23-b932-30af011e0640 ]] \r\n",
       "E6 - -||> E4 [[psysml:5ed5dee3-04af-484b-a73a-bf3d62fb0484 ]] \r\n",
       "E7 - -:|> E3 [[psysml:6afc3f94-967f-4ac8-9c89-c7c9ad6aa496 ]] \r\n",
       "E7 o- - \"1\"E8 [[psysml:9a63abc5-83ea-4d36-8ec2-a9e5009e1a31 ]] \r\n",
       "E7 +.. \"1\"E8 [[psysml:af85dbb9-a19a-4dbd-bd41-700a2e1e88fd ]] \r\n",
       "E6 -[thickness=3]- \"*\"E8 [[psysml:ee24455c-c65b-41eb-8958-74c54e28cd84 ]] \r\n",
       "E6 -[thickness=3]- \"*\"E8 [[psysml:1d0a5b52-6a4c-4cbe-b03e-99be5638e392 ]] \r\n",
       "@enduml\r\n",
       "\n",
       "PlantUML version 1.2020.13(Sat Jun 13 12:26:38 UTC 2020)\n",
       "(EPL source distribution)\n",
       "Java Runtime: OpenJDK Runtime Environment\n",
       "JVM: OpenJDK 64-Bit Server VM\n",
       "Default Encoding: UTF-8\n",
       "Language: en\n",
       "Country: null\n",
       "--></g></svg>"
      ]
     },
     "execution_count": 57,
     "metadata": {},
     "output_type": "execute_result"
    }
   ],
   "source": [
    "%viz --style=\"ORTHOLINE\" --view=\"MIXED\" \"AliasTest\""
   ]
  }
 ],
 "metadata": {
  "kernelspec": {
   "display_name": "SysML",
   "language": "sysml",
   "name": "sysml"
  },
  "language_info": {
   "codemirror_mode": "sysml",
   "file_extension": ".sysml",
   "mimetype": "text/x-sysml",
   "name": "SysML",
   "pygments_lexer": "java",
   "version": "1.0.0"
  }
 },
 "nbformat": 4,
 "nbformat_minor": 5
}
