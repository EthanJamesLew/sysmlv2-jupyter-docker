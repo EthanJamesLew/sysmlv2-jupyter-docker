{
 "cells": [
  {
   "cell_type": "markdown",
   "id": "f36659d1",
   "metadata": {},
   "source": [
    "# SysML v2 Test Suite\n",
    "\n",
    "This can notebook can be cleared using menu `Edit --> Clear All Outputs` and then all cells can be\n",
    "run using menu `Run --> Run All Cells`.\n",
    "\n",
    "**WARNING**: This file is generated, all modifications here will be ignored.\n"
   ]
  },
  {
   "cell_type": "markdown",
   "id": "2f12742c",
   "metadata": {},
   "source": [
    "## File: ../../sysml/src/examples/Analysis Examples/AnalysisAnnotation.sysml"
   ]
  },
  {
   "cell_type": "code",
   "execution_count": 1,
   "id": "dfa0b24a",
   "metadata": {
    "execution": {
     "iopub.execute_input": "2021-04-20T07:28:09.836164Z",
     "iopub.status.busy": "2021-04-20T07:28:09.834955Z",
     "iopub.status.idle": "2021-04-20T07:28:11.218713Z",
     "shell.execute_reply": "2021-04-20T07:28:11.217067Z"
    }
   },
   "outputs": [
    {
     "data": {
      "text/plain": [
       "Package AnalysisAnnotation (88d88f42-f962-4c38-9339-4447f7758603)\n"
      ]
     },
     "execution_count": 1,
     "metadata": {},
     "output_type": "execute_result"
    }
   ],
   "source": [
    "package AnalysisAnnotation {\n",
    "\timport ScalarValues::Real;\n",
    "\timport AnalysisTooling::*;\n",
    "\timport ISQ::*;\n",
    "\t\n",
    "\taction def ComputeDynamics {\n",
    "\t\tmetadata ToolExecution {\n",
    "\t\t\ttoolName = \"ModelCenter\";\n",
    "\t\t\turi = \"aserv://localhost/Vehicle/Equation1\";\n",
    "\t\t}\n",
    "\t\t\t\n",
    "\t\tin dt : TimeValue             { @ToolVariable { name = \"deltaT\"; } }\n",
    "\t\tin whlpwr : PowerValue        { @ToolVariable { name = \"power\"; } }\n",
    "\t\tin Cd : Real                  { @ToolVariable { name = \"C_D\"; } }\n",
    "\t\tin Cf: Real                   { @ToolVariable { name = \"C_F\"; } }\n",
    "\t\tin tm : MassValue             { @ToolVariable { name = \"mass\"; } }\n",
    "\t\tin v_in : SpeedValue       { @ToolVariable { name = \"v0\"; } }\n",
    "\t\tin x_in : LengthValue         { @ToolVariable { name = \"x0\"; } }\n",
    "\t\t\n",
    "\t\tout a_out : AccelerationValue { @ToolVariable { name = \"a\"; } }\n",
    "\t\tout v_out : SpeedValue     { @ToolVariable { name = \"v\"; } }\n",
    "\t\tout x_out : LengthValue       { @ToolVariable { name = \"x\"; } }\n",
    "\t\t\t\n",
    "\t}\n",
    "\n",
    "}"
   ]
  },
  {
   "cell_type": "code",
   "execution_count": 2,
   "id": "a36befa1",
   "metadata": {
    "execution": {
     "iopub.execute_input": "2021-04-20T07:28:11.276202Z",
     "iopub.status.busy": "2021-04-20T07:28:11.275173Z",
     "iopub.status.idle": "2021-04-20T07:28:12.673484Z",
     "shell.execute_reply": "2021-04-20T07:28:12.672301Z"
    }
   },
   "outputs": [
    {
     "data": {
      "image/svg+xml": [
       "<?xml version=\"1.0\" encoding=\"UTF-8\" standalone=\"no\"?><svg xmlns=\"http://www.w3.org/2000/svg\" xmlns:xlink=\"http://www.w3.org/1999/xlink\" contentScriptType=\"application/ecmascript\" contentStyleType=\"text/css\" height=\"350px\" preserveAspectRatio=\"none\" style=\"width:481px;height:350px;\" version=\"1.1\" viewBox=\"0 0 481 350\" width=\"481px\" zoomAndPan=\"magnify\"><defs/><g><!--MD5=[fbc87193dbaf4d95561dea2c320d4a47]\n",
       "cluster E1--><a href=\"psysml:3f9dd228-0d59-436f-8c66-7bfaf74317e1\" target=\"_top\" title=\"psysml:3f9dd228-0d59-436f-8c66-7bfaf74317e1\" xlink:actuate=\"onRequest\" xlink:href=\"psysml:3f9dd228-0d59-436f-8c66-7bfaf74317e1\" xlink:show=\"new\" xlink:title=\"psysml:3f9dd228-0d59-436f-8c66-7bfaf74317e1\" xlink:type=\"simple\"><polygon fill=\"#FFFFFF\" points=\"16,6,173,6,180,28.2969,459,28.2969,459,338.72,16,338.72,16,6\" style=\"stroke: #000000; stroke-width: 1.5;\"/><line style=\"stroke: #000000; stroke-width: 1.5;\" x1=\"16\" x2=\"180\" y1=\"28.2969\" y2=\"28.2969\"/><text fill=\"#000000\" font-family=\"sans-serif\" font-size=\"14\" font-weight=\"bold\" lengthAdjust=\"spacingAndGlyphs\" textLength=\"151\" x=\"20\" y=\"20.9951\">AnalysisAnnotation</text></a><!--MD5=[d5e69f78d87373223dbae638b30a9c99]\n",
       "cluster E3--><a href=\"psysml:e73f4f0e-f2f2-491a-ad18-2354ebab0714\" target=\"_top\" title=\"psysml:e73f4f0e-f2f2-491a-ad18-2354ebab0714\" xlink:actuate=\"onRequest\" xlink:href=\"psysml:e73f4f0e-f2f2-491a-ad18-2354ebab0714\" xlink:show=\"new\" xlink:title=\"psysml:e73f4f0e-f2f2-491a-ad18-2354ebab0714\" xlink:type=\"simple\"><rect fill=\"#FFFFFF\" height=\"244.72\" id=\"E3\" style=\"stroke: #383838; stroke-width: 1.5;\" width=\"318\" x=\"129\" y=\"64\"/><rect fill=\"#F8F8F8\" height=\"37.9375\" style=\"stroke: #383838; stroke-width: 1.5;\" width=\"318\" x=\"129\" y=\"64\"/><text fill=\"#000000\" font-family=\"sans-serif\" font-size=\"12\" font-style=\"italic\" lengthAdjust=\"spacingAndGlyphs\" textLength=\"77\" x=\"249.5\" y=\"80.1387\">«action def»</text><text fill=\"#000000\" font-family=\"sans-serif\" font-size=\"12\" lengthAdjust=\"spacingAndGlyphs\" textLength=\"115\" x=\"230.5\" y=\"94.1074\">ComputeDynamics</text></a><!--MD5=[b4997ac47864f28c2f74865a473b2911]\n",
       "class E2--><a href=\"psysml:44eddca9-682f-4ef7-a7c7-a9f194d7f2c9\" target=\"_top\" title=\"psysml:44eddca9-682f-4ef7-a7c7-a9f194d7f2c9\" xlink:actuate=\"onRequest\" xlink:href=\"psysml:44eddca9-682f-4ef7-a7c7-a9f194d7f2c9\" xlink:show=\"new\" xlink:title=\"psysml:44eddca9-682f-4ef7-a7c7-a9f194d7f2c9\" xlink:type=\"simple\"><rect fill=\"#FFFFFF\" height=\"45.9375\" id=\"E2\" style=\"stroke: #383838; stroke-width: 1.5;\" width=\"74\" x=\"32\" y=\"41\"/><text fill=\"#000000\" font-family=\"sans-serif\" font-size=\"12\" font-style=\"italic\" lengthAdjust=\"spacingAndGlyphs\" textLength=\"72\" x=\"33\" y=\"57.1387\">«dataType»</text><text fill=\"#000000\" font-family=\"sans-serif\" font-size=\"12\" lengthAdjust=\"spacingAndGlyphs\" textLength=\"27\" x=\"55.5\" y=\"71.1074\">Real</text><line style=\"stroke: #383838; stroke-width: 1.5;\" x1=\"33\" x2=\"105\" y1=\"78.9375\" y2=\"78.9375\"/></a><text fill=\"#000000\" font-family=\"sans-serif\" font-size=\"14\" lengthAdjust=\"spacingAndGlyphs\" textLength=\"48\" x=\"169\" y=\"327.7151\">$result</text><rect fill=\"#383838\" height=\"12\" style=\"stroke: #F8F8F8; stroke-width: 1.5;\" width=\"12\" x=\"187\" y=\"302.72\"/><text fill=\"#000000\" font-family=\"sans-serif\" font-size=\"14\" lengthAdjust=\"spacingAndGlyphs\" textLength=\"48\" x=\"216\" y=\"327.7151\">$result</text><rect fill=\"#383838\" height=\"12\" style=\"stroke: #F8F8F8; stroke-width: 1.5;\" width=\"12\" x=\"234\" y=\"302.72\"/><text fill=\"#000000\" font-family=\"sans-serif\" font-size=\"14\" lengthAdjust=\"spacingAndGlyphs\" textLength=\"14\" x=\"140\" y=\"42.6982\">dt</text><rect fill=\"#383838\" height=\"12\" style=\"stroke: #F8F8F8; stroke-width: 1.5;\" width=\"12\" x=\"141\" y=\"58\"/><text fill=\"#000000\" font-family=\"sans-serif\" font-size=\"14\" lengthAdjust=\"spacingAndGlyphs\" textLength=\"48\" x=\"170\" y=\"42.6982\">whlpwr</text><rect fill=\"#383838\" height=\"12\" style=\"stroke: #F8F8F8; stroke-width: 1.5;\" width=\"12\" x=\"188\" y=\"58\"/><text fill=\"#000000\" font-family=\"sans-serif\" font-size=\"14\" lengthAdjust=\"spacingAndGlyphs\" textLength=\"19\" x=\"231.5\" y=\"42.6982\">Cd</text><rect fill=\"#383838\" height=\"12\" style=\"stroke: #F8F8F8; stroke-width: 1.5;\" width=\"12\" x=\"235\" y=\"58\"/><text fill=\"#000000\" font-family=\"sans-serif\" font-size=\"14\" lengthAdjust=\"spacingAndGlyphs\" textLength=\"14\" x=\"281\" y=\"42.6982\">Cf</text><rect fill=\"#383838\" height=\"12\" style=\"stroke: #F8F8F8; stroke-width: 1.5;\" width=\"12\" x=\"282\" y=\"58\"/><text fill=\"#000000\" font-family=\"sans-serif\" font-size=\"14\" lengthAdjust=\"spacingAndGlyphs\" textLength=\"18\" x=\"326\" y=\"42.6982\">tm</text><rect fill=\"#383838\" height=\"12\" style=\"stroke: #F8F8F8; stroke-width: 1.5;\" width=\"12\" x=\"329\" y=\"58\"/><text fill=\"#000000\" font-family=\"sans-serif\" font-size=\"14\" lengthAdjust=\"spacingAndGlyphs\" textLength=\"26\" x=\"369\" y=\"42.6982\">v_in</text><rect fill=\"#383838\" height=\"12\" style=\"stroke: #F8F8F8; stroke-width: 1.5;\" width=\"12\" x=\"376\" y=\"58\"/><text fill=\"#000000\" font-family=\"sans-serif\" font-size=\"14\" lengthAdjust=\"spacingAndGlyphs\" textLength=\"26\" x=\"416\" y=\"42.6982\">x_in</text><rect fill=\"#383838\" height=\"12\" style=\"stroke: #F8F8F8; stroke-width: 1.5;\" width=\"12\" x=\"423\" y=\"58\"/><text fill=\"#000000\" font-family=\"sans-serif\" font-size=\"14\" lengthAdjust=\"spacingAndGlyphs\" textLength=\"38\" x=\"268\" y=\"327.7151\">a_out</text><rect fill=\"#383838\" height=\"12\" style=\"stroke: #F8F8F8; stroke-width: 1.5;\" width=\"12\" x=\"281\" y=\"302.72\"/><text fill=\"#000000\" font-family=\"sans-serif\" font-size=\"14\" lengthAdjust=\"spacingAndGlyphs\" textLength=\"37\" x=\"315.5\" y=\"327.7151\">v_out</text><rect fill=\"#383838\" height=\"12\" style=\"stroke: #F8F8F8; stroke-width: 1.5;\" width=\"12\" x=\"328\" y=\"302.72\"/><text fill=\"#000000\" font-family=\"sans-serif\" font-size=\"14\" lengthAdjust=\"spacingAndGlyphs\" textLength=\"37\" x=\"362.5\" y=\"327.7151\">x_out</text><rect fill=\"#383838\" height=\"12\" style=\"stroke: #F8F8F8; stroke-width: 1.5;\" width=\"12\" x=\"375\" y=\"302.72\"/><!--MD5=[15f7f44ee174f2c7c16d929a3384749a]\n",
       "@startuml\r\n",
       " skinparam monochrome true\r\n",
       "skinparam classbackgroundcolor white\r\n",
       "skinparam shadowing false\r\n",
       "skinparam wrapWidth 300\r\n",
       "hide circle\r\n",
       "\r\n",
       "package \"AnalysisAnnotation\" as E1  [[psysml:3f9dd228-0d59-436f-8c66-7bfaf74317e1 ]]  {\r\n",
       "comp def \"Real\" as E2  <<(T,blue)dataType>> [[psysml:44eddca9-682f-4ef7-a7c7-a9f194d7f2c9 ]] {\r\n",
       "}\r\n",
       "rec def \"ComputeDynamics\" as E3  <<(T,blue)action def>> [[psysml:e73f4f0e-f2f2-491a-ad18-2354ebab0714 ]] {\r\n",
       "portout \"$result\" as E4  [[psysml:321a5472-f26a-4f44-adf1-e887f248e10c ]] \r\n",
       "portout \"$result\" as E5  [[psysml:249d7fd3-af20-489f-a52b-b6c298227647 ]] \r\n",
       "portin \"dt\" as E6  [[psysml:d9dfe931-1109-47e6-bc0c-352db24577b0 ]] \r\n",
       "portin \"whlpwr\" as E7  [[psysml:44277f67-022c-45f6-9760-98798ee04e09 ]] \r\n",
       "portin \"Cd\" as E8  [[psysml:41d96645-5d65-4e32-85e5-332077e108f6 ]] \r\n",
       "portin \"Cf\" as E9  [[psysml:aebf7dc6-628a-4d75-a952-13ccca53817c ]] \r\n",
       "portin \"tm\" as E10  [[psysml:08dba41b-e930-4b20-afae-ef7ae15f00ec ]] \r\n",
       "portin \"v_in\" as E11  [[psysml:e3f3c5a0-ed9d-41a6-a918-fe4a600fe261 ]] \r\n",
       "portin \"x_in\" as E12  [[psysml:fb3fca97-7004-4d76-8828-7714499f1454 ]] \r\n",
       "portout \"a_out\" as E13  [[psysml:5a710766-56b6-4c7a-9ae9-326b3f7572a8 ]] \r\n",
       "portout \"v_out\" as E14  [[psysml:1e62abd8-4172-4662-8f1c-1e7c30e8c54c ]] \r\n",
       "portout \"x_out\" as E15  [[psysml:e4c640c8-309e-4572-81b1-e78594ed37ec ]] \r\n",
       "}\r\n",
       "\r\n",
       "}\r\n",
       "@enduml\r\n",
       "\n",
       "PlantUML version 1.2020.13(Sat Jun 13 12:26:38 UTC 2020)\n",
       "(EPL source distribution)\n",
       "Java Runtime: OpenJDK Runtime Environment\n",
       "JVM: OpenJDK 64-Bit Server VM\n",
       "Default Encoding: UTF-8\n",
       "Language: en\n",
       "Country: null\n",
       "--></g></svg>"
      ]
     },
     "execution_count": 2,
     "metadata": {},
     "output_type": "execute_result"
    }
   ],
   "source": [
    "%viz --style=\"COMPTREE\" --view=\"Default\" \"AnalysisAnnotation\""
   ]
  },
  {
   "cell_type": "code",
   "execution_count": 3,
   "id": "1f257f9c",
   "metadata": {
    "execution": {
     "iopub.execute_input": "2021-04-20T07:28:12.727583Z",
     "iopub.status.busy": "2021-04-20T07:28:12.725873Z",
     "iopub.status.idle": "2021-04-20T07:28:13.249221Z",
     "shell.execute_reply": "2021-04-20T07:28:13.247714Z"
    }
   },
   "outputs": [
    {
     "data": {
      "image/svg+xml": [
       "<?xml version=\"1.0\" encoding=\"UTF-8\" standalone=\"no\"?><svg xmlns=\"http://www.w3.org/2000/svg\" xmlns:xlink=\"http://www.w3.org/1999/xlink\" contentScriptType=\"application/ecmascript\" contentStyleType=\"text/css\" height=\"472px\" preserveAspectRatio=\"none\" style=\"width:357px;height:472px;\" version=\"1.1\" viewBox=\"0 0 357 472\" width=\"357px\" zoomAndPan=\"magnify\"><defs/><g><!--MD5=[fbc87193dbaf4d95561dea2c320d4a47]\n",
       "cluster E1--><a href=\"psysml:3f9dd228-0d59-436f-8c66-7bfaf74317e1\" target=\"_top\" title=\"psysml:3f9dd228-0d59-436f-8c66-7bfaf74317e1\" xlink:actuate=\"onRequest\" xlink:href=\"psysml:3f9dd228-0d59-436f-8c66-7bfaf74317e1\" xlink:show=\"new\" xlink:title=\"psysml:3f9dd228-0d59-436f-8c66-7bfaf74317e1\" xlink:type=\"simple\"><polygon fill=\"#FFFFFF\" points=\"16,6,173,6,180,28.2969,335,28.2969,335,460,16,460,16,6\" style=\"stroke: #000000; stroke-width: 1.5;\"/><line style=\"stroke: #000000; stroke-width: 1.5;\" x1=\"16\" x2=\"180\" y1=\"28.2969\" y2=\"28.2969\"/><text fill=\"#000000\" font-family=\"sans-serif\" font-size=\"14\" font-weight=\"bold\" lengthAdjust=\"spacingAndGlyphs\" textLength=\"151\" x=\"20\" y=\"20.9951\">AnalysisAnnotation</text></a><!--MD5=[b4997ac47864f28c2f74865a473b2911]\n",
       "class E2--><a href=\"psysml:44eddca9-682f-4ef7-a7c7-a9f194d7f2c9\" target=\"_top\" title=\"psysml:44eddca9-682f-4ef7-a7c7-a9f194d7f2c9\" xlink:actuate=\"onRequest\" xlink:href=\"psysml:44eddca9-682f-4ef7-a7c7-a9f194d7f2c9\" xlink:show=\"new\" xlink:title=\"psysml:44eddca9-682f-4ef7-a7c7-a9f194d7f2c9\" xlink:type=\"simple\"><rect fill=\"#FFFFFF\" height=\"45.9375\" id=\"E2\" style=\"stroke: #383838; stroke-width: 1.5;\" width=\"74\" x=\"238\" y=\"113.5\"/><text fill=\"#000000\" font-family=\"sans-serif\" font-size=\"12\" font-style=\"italic\" lengthAdjust=\"spacingAndGlyphs\" textLength=\"72\" x=\"239\" y=\"129.6387\">«dataType»</text><text fill=\"#000000\" font-family=\"sans-serif\" font-size=\"12\" lengthAdjust=\"spacingAndGlyphs\" textLength=\"27\" x=\"261.5\" y=\"143.6074\">Real</text><line style=\"stroke: #383838; stroke-width: 1.5;\" x1=\"239\" x2=\"311\" y1=\"151.4375\" y2=\"151.4375\"/></a><!--MD5=[09b614a08d8cba4a07c9adeb5e0fee81]\n",
       "class E3--><a href=\"psysml:e73f4f0e-f2f2-491a-ad18-2354ebab0714\" target=\"_top\" title=\"psysml:e73f4f0e-f2f2-491a-ad18-2354ebab0714\" xlink:actuate=\"onRequest\" xlink:href=\"psysml:e73f4f0e-f2f2-491a-ad18-2354ebab0714\" xlink:show=\"new\" xlink:title=\"psysml:e73f4f0e-f2f2-491a-ad18-2354ebab0714\" xlink:type=\"simple\"><rect fill=\"#FFFFFF\" height=\"190.7891\" id=\"E3\" style=\"stroke: #383838; stroke-width: 1.5;\" width=\"151\" x=\"38.5\" y=\"41\"/><text fill=\"#000000\" font-family=\"sans-serif\" font-size=\"12\" font-style=\"italic\" lengthAdjust=\"spacingAndGlyphs\" textLength=\"77\" x=\"75.5\" y=\"57.1387\">«action def»</text><text fill=\"#000000\" font-family=\"sans-serif\" font-size=\"12\" lengthAdjust=\"spacingAndGlyphs\" textLength=\"115\" x=\"56.5\" y=\"71.1074\">ComputeDynamics</text><line style=\"stroke: #383838; stroke-width: 1.5;\" x1=\"39.5\" x2=\"188.5\" y1=\"78.9375\" y2=\"78.9375\"/><text fill=\"#000000\" font-family=\"sans-serif\" font-size=\"11\" lengthAdjust=\"spacingAndGlyphs\" textLength=\"47\" x=\"44.5\" y=\"109.9526\">Cd: Real</text><text fill=\"#000000\" font-family=\"sans-serif\" font-size=\"11\" lengthAdjust=\"spacingAndGlyphs\" textLength=\"44\" x=\"44.5\" y=\"122.7573\">Cf: Real</text><text fill=\"#000000\" font-family=\"sans-serif\" font-size=\"11\" lengthAdjust=\"spacingAndGlyphs\" textLength=\"139\" x=\"44.5\" y=\"135.562\">a_out: AccelerationValue</text><text fill=\"#000000\" font-family=\"sans-serif\" font-size=\"11\" lengthAdjust=\"spacingAndGlyphs\" textLength=\"98\" x=\"44.5\" y=\"148.3667\">dt: DurationValue</text><text fill=\"#000000\" font-family=\"sans-serif\" font-size=\"11\" lengthAdjust=\"spacingAndGlyphs\" textLength=\"84\" x=\"44.5\" y=\"161.1714\">tm: MassValue</text><text fill=\"#000000\" font-family=\"sans-serif\" font-size=\"11\" lengthAdjust=\"spacingAndGlyphs\" textLength=\"97\" x=\"44.5\" y=\"173.9761\">v_in: SpeedValue</text><text fill=\"#000000\" font-family=\"sans-serif\" font-size=\"11\" lengthAdjust=\"spacingAndGlyphs\" textLength=\"105\" x=\"44.5\" y=\"186.7808\">v_out: SpeedValue</text><text fill=\"#000000\" font-family=\"sans-serif\" font-size=\"11\" lengthAdjust=\"spacingAndGlyphs\" textLength=\"114\" x=\"44.5\" y=\"199.5854\">whlpwr: PowerValue</text><text fill=\"#000000\" font-family=\"sans-serif\" font-size=\"11\" lengthAdjust=\"spacingAndGlyphs\" textLength=\"99\" x=\"44.5\" y=\"212.3901\">x_in: LengthValue</text><text fill=\"#000000\" font-family=\"sans-serif\" font-size=\"11\" lengthAdjust=\"spacingAndGlyphs\" textLength=\"107\" x=\"44.5\" y=\"225.1948\">x_out: LengthValue</text><line style=\"stroke: #383838; stroke-width: 1.0;\" x1=\"39.5\" x2=\"86.5\" y1=\"93.3398\" y2=\"93.3398\"/><text fill=\"#000000\" font-family=\"sans-serif\" font-size=\"11\" lengthAdjust=\"spacingAndGlyphs\" textLength=\"55\" x=\"86.5\" y=\"96.6479\">attributes</text><line style=\"stroke: #383838; stroke-width: 1.0;\" x1=\"141.5\" x2=\"188.5\" y1=\"93.3398\" y2=\"93.3398\"/></a><!--MD5=[ebbe1d658d1005bcc118a6aa81145e00]\n",
       "class E4--><a href=\"psysml:60a2becf-7a46-4ebd-946f-3a728f7b6aab\" target=\"_top\" title=\"psysml:60a2becf-7a46-4ebd-946f-3a728f7b6aab\" xlink:actuate=\"onRequest\" xlink:href=\"psysml:60a2becf-7a46-4ebd-946f-3a728f7b6aab\" xlink:show=\"new\" xlink:title=\"psysml:60a2becf-7a46-4ebd-946f-3a728f7b6aab\" xlink:type=\"simple\"><rect fill=\"#FFFFFF\" height=\"45.9375\" id=\"E4\" style=\"stroke: #383838; stroke-width: 1.5;\" width=\"152\" x=\"38\" y=\"292\"/><text fill=\"#000000\" font-family=\"sans-serif\" font-size=\"12\" font-style=\"italic\" lengthAdjust=\"spacingAndGlyphs\" textLength=\"132\" x=\"48\" y=\"308.1387\">«annotatingFeature»</text><text fill=\"#000000\" font-family=\"sans-serif\" font-size=\"12\" lengthAdjust=\"spacingAndGlyphs\" text-decoration=\"line-through\" textLength=\"51\" x=\"41\" y=\"322.1074\">noname</text><text fill=\"#000000\" font-family=\"sans-serif\" font-size=\"12\" lengthAdjust=\"spacingAndGlyphs\" textLength=\"95\" x=\"92\" y=\"322.1074\">: ToolExecution</text><line style=\"stroke: #383838; stroke-width: 1.5;\" x1=\"39\" x2=\"189\" y1=\"329.9375\" y2=\"329.9375\"/></a><!--MD5=[270fce915f116d4de14055a7c1d9a0f3]\n",
       "class E5--><a href=\"psysml:b02ba1b2-12c8-4052-9523-3aa0c79993f0\" target=\"_top\" title=\"psysml:b02ba1b2-12c8-4052-9523-3aa0c79993f0\" xlink:actuate=\"onRequest\" xlink:href=\"psysml:b02ba1b2-12c8-4052-9523-3aa0c79993f0\" xlink:show=\"new\" xlink:title=\"psysml:b02ba1b2-12c8-4052-9523-3aa0c79993f0\" xlink:type=\"simple\"><rect fill=\"#FFFFFF\" height=\"45.9375\" id=\"E5\" style=\"stroke: #383838; stroke-width: 1.5;\" width=\"126\" x=\"32\" y=\"398\"/><text fill=\"#000000\" font-family=\"sans-serif\" font-size=\"12\" font-style=\"italic\" lengthAdjust=\"spacingAndGlyphs\" textLength=\"124\" x=\"33\" y=\"414.1387\">«metadataFeature»</text><text fill=\"#000000\" font-family=\"sans-serif\" font-size=\"12\" lengthAdjust=\"spacingAndGlyphs\" textLength=\"60\" x=\"65\" y=\"428.1074\">toolName</text><line style=\"stroke: #383838; stroke-width: 1.5;\" x1=\"33\" x2=\"157\" y1=\"435.9375\" y2=\"435.9375\"/></a><!--MD5=[60a26617385b1d2d0262a64233df1f8d]\n",
       "class E6--><a href=\"psysml:cb4006f5-0e41-4f05-aa2a-a57df33d56ff\" target=\"_top\" title=\"psysml:cb4006f5-0e41-4f05-aa2a-a57df33d56ff\" xlink:actuate=\"onRequest\" xlink:href=\"psysml:cb4006f5-0e41-4f05-aa2a-a57df33d56ff\" xlink:show=\"new\" xlink:title=\"psysml:cb4006f5-0e41-4f05-aa2a-a57df33d56ff\" xlink:type=\"simple\"><rect fill=\"#FFFFFF\" height=\"45.9375\" id=\"E6\" style=\"stroke: #383838; stroke-width: 1.5;\" width=\"126\" x=\"193\" y=\"398\"/><text fill=\"#000000\" font-family=\"sans-serif\" font-size=\"12\" font-style=\"italic\" lengthAdjust=\"spacingAndGlyphs\" textLength=\"124\" x=\"194\" y=\"414.1387\">«metadataFeature»</text><text fill=\"#000000\" font-family=\"sans-serif\" font-size=\"12\" lengthAdjust=\"spacingAndGlyphs\" textLength=\"16\" x=\"248\" y=\"428.1074\">uri</text><line style=\"stroke: #383838; stroke-width: 1.5;\" x1=\"194\" x2=\"318\" y1=\"435.9375\" y2=\"435.9375\"/></a><!--MD5=[4672eba38e49728da53d11aeb285b987]\n",
       "reverse link E3 to E4--><a href=\"psysml:66d6f7e6-2188-4a34-9637-6b4b270c496c\" target=\"_top\" title=\"psysml:66d6f7e6-2188-4a34-9637-6b4b270c496c\" xlink:actuate=\"onRequest\" xlink:href=\"psysml:66d6f7e6-2188-4a34-9637-6b4b270c496c\" xlink:show=\"new\" xlink:title=\"psysml:66d6f7e6-2188-4a34-9637-6b4b270c496c\" xlink:type=\"simple\"><path d=\"M114,247.28 C114,264.19 114,279.97 114,291.94 \" fill=\"none\" id=\"E3&lt;-E4\" style=\"stroke: #383838; stroke-width: 1.0;\"/><ellipse cx=\"114\" cy=\"240.21\" fill=\"#FFFFFF\" rx=\"8\" ry=\"8\" style=\"stroke: #383838; stroke-width: 1.0;\"/><line style=\"stroke: #383838; stroke-width: 1.0;\" x1=\"114\" x2=\"114\" y1=\"248.21\" y2=\"232.21\"/><line style=\"stroke: #383838; stroke-width: 1.0;\" x1=\"106\" x2=\"122\" y1=\"240.21\" y2=\"240.21\"/></a><!--MD5=[62aa6af11e70f752912c1cb0466f24f7]\n",
       "reverse link E4 to E5--><a href=\"psysml:4336f8bf-5a73-49a4-a706-8a85ff7218c2\" target=\"_top\" title=\"psysml:4336f8bf-5a73-49a4-a706-8a85ff7218c2\" xlink:actuate=\"onRequest\" xlink:href=\"psysml:4336f8bf-5a73-49a4-a706-8a85ff7218c2\" xlink:show=\"new\" xlink:title=\"psysml:4336f8bf-5a73-49a4-a706-8a85ff7218c2\" xlink:type=\"simple\"><path d=\"M107.61,350.96 C104.77,366.51 101.52,384.33 99.02,397.98 \" fill=\"none\" id=\"E4&lt;-E5\" style=\"stroke: #383838; stroke-width: 1.0;\"/><polygon fill=\"#383838\" points=\"109.97,338.06,104.9597,343.2462,107.8199,349.8658,112.8302,344.6796,109.97,338.06\" style=\"stroke: #383838; stroke-width: 1.0;\"/></a><!--MD5=[6db378b65e1aef66a01cb3103812b399]\n",
       "reverse link E4 to E6--><a href=\"psysml:14217a47-d828-403c-a59e-1cb114a87a2b\" target=\"_top\" title=\"psysml:14217a47-d828-403c-a59e-1cb114a87a2b\" xlink:actuate=\"onRequest\" xlink:href=\"psysml:14217a47-d828-403c-a59e-1cb114a87a2b\" xlink:show=\"new\" xlink:title=\"psysml:14217a47-d828-403c-a59e-1cb114a87a2b\" xlink:type=\"simple\"><path d=\"M154.79,345.88 C177.48,362.49 205.23,382.82 225.93,397.98 \" fill=\"none\" id=\"E4&lt;-E6\" style=\"stroke: #383838; stroke-width: 1.0;\"/><polygon fill=\"#383838\" points=\"144.11,338.06,146.5846,344.8332,153.7885,345.1541,151.314,338.3809,144.11,338.06\" style=\"stroke: #383838; stroke-width: 1.0;\"/></a><!--MD5=[c15a36997419c67d964b3ecdf6fe0640]\n",
       "@startuml\r\n",
       " skinparam monochrome true\r\n",
       "skinparam classbackgroundcolor white\r\n",
       "skinparam shadowing false\r\n",
       "skinparam wrapWidth 300\r\n",
       "hide circle\r\n",
       "\r\n",
       "package \"AnalysisAnnotation\" as E1  [[psysml:3f9dd228-0d59-436f-8c66-7bfaf74317e1 ]]  {\r\n",
       "comp def \"Real\" as E2  <<(T,blue)dataType>> [[psysml:44eddca9-682f-4ef7-a7c7-a9f194d7f2c9 ]] {\r\n",
       "}\r\n",
       "comp def \"ComputeDynamics\" as E3  <<(T,blue)action def>> [[psysml:e73f4f0e-f2f2-491a-ad18-2354ebab0714 ]] {\r\n",
       "- - attributes - -\r\n",
       "Cd: Real\r\n",
       "Cf: Real\r\n",
       "a_out: AccelerationValue\r\n",
       "dt: DurationValue\r\n",
       "tm: MassValue\r\n",
       "v_in: SpeedValue\r\n",
       "v_out: SpeedValue\r\n",
       "whlpwr: PowerValue\r\n",
       "x_in: LengthValue\r\n",
       "x_out: LengthValue\r\n",
       "}\r\n",
       "comp def \"<s>noname</s>: ToolExecution\" as E4  <<(T,blue)annotatingFeature>> [[psysml:60a2becf-7a46-4ebd-946f-3a728f7b6aab ]] {\r\n",
       "}\r\n",
       "comp def \"toolName\" as E5  <<(T,blue)metadataFeature>> [[psysml:b02ba1b2-12c8-4052-9523-3aa0c79993f0 ]] {\r\n",
       "}\r\n",
       "comp def \"uri\" as E6  <<(T,blue)metadataFeature>> [[psysml:cb4006f5-0e41-4f05-aa2a-a57df33d56ff ]] {\r\n",
       "}\r\n",
       "E3 +- - E4 [[psysml:66d6f7e6-2188-4a34-9637-6b4b270c496c ]] \r\n",
       "E4 *- - E5 [[psysml:4336f8bf-5a73-49a4-a706-8a85ff7218c2 ]] \r\n",
       "E4 *- - E6 [[psysml:14217a47-d828-403c-a59e-1cb114a87a2b ]] \r\n",
       "}\r\n",
       "@enduml\r\n",
       "\n",
       "PlantUML version 1.2020.13(Sat Jun 13 12:26:38 UTC 2020)\n",
       "(EPL source distribution)\n",
       "Java Runtime: OpenJDK Runtime Environment\n",
       "JVM: OpenJDK 64-Bit Server VM\n",
       "Default Encoding: UTF-8\n",
       "Language: en\n",
       "Country: null\n",
       "--></g></svg>"
      ]
     },
     "execution_count": 3,
     "metadata": {},
     "output_type": "execute_result"
    }
   ],
   "source": [
    "%viz --style=\"COMPTREE\" --view=\"Tree\" \"AnalysisAnnotation\""
   ]
  },
  {
   "cell_type": "code",
   "execution_count": 4,
   "id": "609eb19d",
   "metadata": {
    "execution": {
     "iopub.execute_input": "2021-04-20T07:28:13.301026Z",
     "iopub.status.busy": "2021-04-20T07:28:13.299934Z",
     "iopub.status.idle": "2021-04-20T07:28:13.313667Z",
     "shell.execute_reply": "2021-04-20T07:28:13.312531Z"
    }
   },
   "outputs": [
    {
     "data": {
      "image/svg+xml": [
       "<?xml version=\"1.0\" encoding=\"UTF-8\" standalone=\"no\"?><svg xmlns=\"http://www.w3.org/2000/svg\" xmlns:xlink=\"http://www.w3.org/1999/xlink\" contentScriptType=\"application/ecmascript\" contentStyleType=\"text/css\" height=\"12px\" preserveAspectRatio=\"none\" style=\"width:12px;height:12px;\" version=\"1.1\" viewBox=\"0 0 12 12\" width=\"12px\" zoomAndPan=\"magnify\"><defs/><g><!--MD5=[f19188ef49e11757b5c46753f95d9edc]\n",
       "@startuml\r\n",
       " skinparam monochrome true\r\n",
       "skinparam classbackgroundcolor white\r\n",
       "skinparam shadowing false\r\n",
       "skinparam wrapWidth 300\r\n",
       "hide circle\r\n",
       "\r\n",
       "@enduml\r\n",
       "\n",
       "PlantUML version 1.2020.13(Sat Jun 13 12:26:38 UTC 2020)\n",
       "(EPL source distribution)\n",
       "Java Runtime: OpenJDK Runtime Environment\n",
       "JVM: OpenJDK 64-Bit Server VM\n",
       "Default Encoding: UTF-8\n",
       "Language: en\n",
       "Country: null\n",
       "--></g></svg>"
      ]
     },
     "execution_count": 4,
     "metadata": {},
     "output_type": "execute_result"
    }
   ],
   "source": [
    "%viz --style=\"COMPTREE\" --view=\"State\" \"AnalysisAnnotation\""
   ]
  },
  {
   "cell_type": "code",
   "execution_count": 5,
   "id": "c8e05d91",
   "metadata": {
    "execution": {
     "iopub.execute_input": "2021-04-20T07:28:13.368089Z",
     "iopub.status.busy": "2021-04-20T07:28:13.367408Z",
     "iopub.status.idle": "2021-04-20T07:28:13.517813Z",
     "shell.execute_reply": "2021-04-20T07:28:13.515371Z"
    }
   },
   "outputs": [
    {
     "data": {
      "image/svg+xml": [
       "<?xml version=\"1.0\" encoding=\"UTF-8\" standalone=\"no\"?><svg xmlns=\"http://www.w3.org/2000/svg\" xmlns:xlink=\"http://www.w3.org/1999/xlink\" contentScriptType=\"application/ecmascript\" contentStyleType=\"text/css\" height=\"209px\" preserveAspectRatio=\"none\" style=\"width:486px;height:209px;\" version=\"1.1\" viewBox=\"0 0 486 209\" width=\"486px\" zoomAndPan=\"magnify\"><defs/><g><!--MD5=[fbc87193dbaf4d95561dea2c320d4a47]\n",
       "cluster E1--><a href=\"psysml:3f9dd228-0d59-436f-8c66-7bfaf74317e1\" target=\"_top\" title=\"psysml:3f9dd228-0d59-436f-8c66-7bfaf74317e1\" xlink:actuate=\"onRequest\" xlink:href=\"psysml:3f9dd228-0d59-436f-8c66-7bfaf74317e1\" xlink:show=\"new\" xlink:title=\"psysml:3f9dd228-0d59-436f-8c66-7bfaf74317e1\" xlink:type=\"simple\"><polygon fill=\"#FFFFFF\" points=\"16,6,173,6,180,28.2969,464,28.2969,464,197.72,16,197.72,16,6\" style=\"stroke: #000000; stroke-width: 1.5;\"/><line style=\"stroke: #000000; stroke-width: 1.5;\" x1=\"16\" x2=\"180\" y1=\"28.2969\" y2=\"28.2969\"/><text fill=\"#000000\" font-family=\"sans-serif\" font-size=\"14\" font-weight=\"bold\" lengthAdjust=\"spacingAndGlyphs\" textLength=\"151\" x=\"20\" y=\"20.9951\">AnalysisAnnotation</text></a><!--MD5=[d5e69f78d87373223dbae638b30a9c99]\n",
       "cluster E3--><a href=\"psysml:e73f4f0e-f2f2-491a-ad18-2354ebab0714\" target=\"_top\" title=\"psysml:e73f4f0e-f2f2-491a-ad18-2354ebab0714\" xlink:actuate=\"onRequest\" xlink:href=\"psysml:e73f4f0e-f2f2-491a-ad18-2354ebab0714\" xlink:show=\"new\" xlink:title=\"psysml:e73f4f0e-f2f2-491a-ad18-2354ebab0714\" xlink:type=\"simple\"><rect fill=\"#FFFFFF\" height=\"105.22\" id=\"E3\" style=\"stroke: #383838; stroke-width: 1.5;\" width=\"318\" x=\"134\" y=\"62.5\"/><rect fill=\"#F8F8F8\" height=\"37.9375\" style=\"stroke: #383838; stroke-width: 1.5;\" width=\"318\" x=\"134\" y=\"62.5\"/><text fill=\"#000000\" font-family=\"sans-serif\" font-size=\"12\" font-style=\"italic\" lengthAdjust=\"spacingAndGlyphs\" textLength=\"77\" x=\"254.5\" y=\"78.6387\">«action def»</text><text fill=\"#000000\" font-family=\"sans-serif\" font-size=\"12\" lengthAdjust=\"spacingAndGlyphs\" textLength=\"115\" x=\"235.5\" y=\"92.6074\">ComputeDynamics</text></a><g id=\"E1.E2\"><a href=\"psysml:44eddca9-682f-4ef7-a7c7-a9f194d7f2c9\" target=\"_top\" title=\"psysml:44eddca9-682f-4ef7-a7c7-a9f194d7f2c9\" xlink:actuate=\"onRequest\" xlink:href=\"psysml:44eddca9-682f-4ef7-a7c7-a9f194d7f2c9\" xlink:show=\"new\" xlink:title=\"psysml:44eddca9-682f-4ef7-a7c7-a9f194d7f2c9\" xlink:type=\"simple\"><rect fill=\"#FFFFFF\" height=\"42.9375\" id=\"E2\" style=\"stroke: #383838; stroke-width: 1.5;\" width=\"79\" x=\"31.5\" y=\"41\"/><rect fill=\"#F8F8F8\" height=\"37.9375\" style=\"stroke: #383838; stroke-width: 1.5;\" width=\"79\" x=\"31.5\" y=\"41\"/><text fill=\"#000000\" font-family=\"sans-serif\" font-size=\"12\" font-style=\"italic\" lengthAdjust=\"spacingAndGlyphs\" textLength=\"72\" x=\"35\" y=\"57.1387\">«dataType»</text><text fill=\"#000000\" font-family=\"sans-serif\" font-size=\"12\" lengthAdjust=\"spacingAndGlyphs\" textLength=\"27\" x=\"57.5\" y=\"71.1074\">Real</text></a></g><text fill=\"#000000\" font-family=\"sans-serif\" font-size=\"14\" lengthAdjust=\"spacingAndGlyphs\" textLength=\"48\" x=\"174\" y=\"186.7151\">$result</text><rect fill=\"#383838\" height=\"12\" style=\"stroke: #F8F8F8; stroke-width: 1.5;\" width=\"12\" x=\"192\" y=\"161.72\"/><text fill=\"#000000\" font-family=\"sans-serif\" font-size=\"14\" lengthAdjust=\"spacingAndGlyphs\" textLength=\"48\" x=\"221\" y=\"186.7151\">$result</text><rect fill=\"#383838\" height=\"12\" style=\"stroke: #F8F8F8; stroke-width: 1.5;\" width=\"12\" x=\"239\" y=\"161.72\"/><text fill=\"#000000\" font-family=\"sans-serif\" font-size=\"14\" lengthAdjust=\"spacingAndGlyphs\" textLength=\"14\" x=\"145\" y=\"41.1982\">dt</text><rect fill=\"#383838\" height=\"12\" style=\"stroke: #F8F8F8; stroke-width: 1.5;\" width=\"12\" x=\"146\" y=\"56.5\"/><text fill=\"#000000\" font-family=\"sans-serif\" font-size=\"14\" lengthAdjust=\"spacingAndGlyphs\" textLength=\"48\" x=\"175\" y=\"41.1982\">whlpwr</text><rect fill=\"#383838\" height=\"12\" style=\"stroke: #F8F8F8; stroke-width: 1.5;\" width=\"12\" x=\"193\" y=\"56.5\"/><text fill=\"#000000\" font-family=\"sans-serif\" font-size=\"14\" lengthAdjust=\"spacingAndGlyphs\" textLength=\"19\" x=\"236.5\" y=\"41.1982\">Cd</text><rect fill=\"#383838\" height=\"12\" style=\"stroke: #F8F8F8; stroke-width: 1.5;\" width=\"12\" x=\"240\" y=\"56.5\"/><text fill=\"#000000\" font-family=\"sans-serif\" font-size=\"14\" lengthAdjust=\"spacingAndGlyphs\" textLength=\"14\" x=\"286\" y=\"41.1982\">Cf</text><rect fill=\"#383838\" height=\"12\" style=\"stroke: #F8F8F8; stroke-width: 1.5;\" width=\"12\" x=\"287\" y=\"56.5\"/><text fill=\"#000000\" font-family=\"sans-serif\" font-size=\"14\" lengthAdjust=\"spacingAndGlyphs\" textLength=\"18\" x=\"331\" y=\"41.1982\">tm</text><rect fill=\"#383838\" height=\"12\" style=\"stroke: #F8F8F8; stroke-width: 1.5;\" width=\"12\" x=\"334\" y=\"56.5\"/><text fill=\"#000000\" font-family=\"sans-serif\" font-size=\"14\" lengthAdjust=\"spacingAndGlyphs\" textLength=\"26\" x=\"374\" y=\"41.1982\">v_in</text><rect fill=\"#383838\" height=\"12\" style=\"stroke: #F8F8F8; stroke-width: 1.5;\" width=\"12\" x=\"381\" y=\"56.5\"/><text fill=\"#000000\" font-family=\"sans-serif\" font-size=\"14\" lengthAdjust=\"spacingAndGlyphs\" textLength=\"26\" x=\"421\" y=\"41.1982\">x_in</text><rect fill=\"#383838\" height=\"12\" style=\"stroke: #F8F8F8; stroke-width: 1.5;\" width=\"12\" x=\"428\" y=\"56.5\"/><text fill=\"#000000\" font-family=\"sans-serif\" font-size=\"14\" lengthAdjust=\"spacingAndGlyphs\" textLength=\"38\" x=\"273\" y=\"186.7151\">a_out</text><rect fill=\"#383838\" height=\"12\" style=\"stroke: #F8F8F8; stroke-width: 1.5;\" width=\"12\" x=\"286\" y=\"161.72\"/><text fill=\"#000000\" font-family=\"sans-serif\" font-size=\"14\" lengthAdjust=\"spacingAndGlyphs\" textLength=\"37\" x=\"320.5\" y=\"186.7151\">v_out</text><rect fill=\"#383838\" height=\"12\" style=\"stroke: #F8F8F8; stroke-width: 1.5;\" width=\"12\" x=\"333\" y=\"161.72\"/><text fill=\"#000000\" font-family=\"sans-serif\" font-size=\"14\" lengthAdjust=\"spacingAndGlyphs\" textLength=\"37\" x=\"367.5\" y=\"186.7151\">x_out</text><rect fill=\"#383838\" height=\"12\" style=\"stroke: #F8F8F8; stroke-width: 1.5;\" width=\"12\" x=\"380\" y=\"161.72\"/><!--MD5=[7bceffe5b01d5241b35382426add08ed]\n",
       "@startuml\r\n",
       "skinparam ranksep 10\r\n",
       "skinparam rectangle {\r\n",
       " backgroundColor<<block>> LightGreen\r\n",
       "}\r\n",
       " skinparam monochrome true\r\n",
       "skinparam classbackgroundcolor white\r\n",
       "skinparam shadowing false\r\n",
       "skinparam wrapWidth 300\r\n",
       "hide circle\r\n",
       "\r\n",
       "package \"AnalysisAnnotation\" as E1  [[psysml:3f9dd228-0d59-436f-8c66-7bfaf74317e1 ]]  {\r\n",
       "def \"Real\" as E2  <<(T,blue)dataType>> [[psysml:44eddca9-682f-4ef7-a7c7-a9f194d7f2c9 ]] \r\n",
       "rec def \"ComputeDynamics\" as E3  <<(T,blue)action def>> [[psysml:e73f4f0e-f2f2-491a-ad18-2354ebab0714 ]] {\r\n",
       "portout \"$result\" as E4  [[psysml:321a5472-f26a-4f44-adf1-e887f248e10c ]] \r\n",
       "portout \"$result\" as E5  [[psysml:249d7fd3-af20-489f-a52b-b6c298227647 ]] \r\n",
       "portin \"dt\" as E6  [[psysml:d9dfe931-1109-47e6-bc0c-352db24577b0 ]] \r\n",
       "portin \"whlpwr\" as E7  [[psysml:44277f67-022c-45f6-9760-98798ee04e09 ]] \r\n",
       "portin \"Cd\" as E8  [[psysml:41d96645-5d65-4e32-85e5-332077e108f6 ]] \r\n",
       "portin \"Cf\" as E9  [[psysml:aebf7dc6-628a-4d75-a952-13ccca53817c ]] \r\n",
       "portin \"tm\" as E10  [[psysml:08dba41b-e930-4b20-afae-ef7ae15f00ec ]] \r\n",
       "portin \"v_in\" as E11  [[psysml:e3f3c5a0-ed9d-41a6-a918-fe4a600fe261 ]] \r\n",
       "portin \"x_in\" as E12  [[psysml:fb3fca97-7004-4d76-8828-7714499f1454 ]] \r\n",
       "portout \"a_out\" as E13  [[psysml:5a710766-56b6-4c7a-9ae9-326b3f7572a8 ]] \r\n",
       "portout \"v_out\" as E14  [[psysml:1e62abd8-4172-4662-8f1c-1e7c30e8c54c ]] \r\n",
       "portout \"x_out\" as E15  [[psysml:e4c640c8-309e-4572-81b1-e78594ed37ec ]] \r\n",
       "}\r\n",
       "\r\n",
       "}\r\n",
       "@enduml\r\n",
       "\n",
       "PlantUML version 1.2020.13(Sat Jun 13 12:26:38 UTC 2020)\n",
       "(EPL source distribution)\n",
       "Java Runtime: OpenJDK Runtime Environment\n",
       "JVM: OpenJDK 64-Bit Server VM\n",
       "Default Encoding: UTF-8\n",
       "Language: en\n",
       "Country: null\n",
       "--></g></svg>"
      ]
     },
     "execution_count": 5,
     "metadata": {},
     "output_type": "execute_result"
    }
   ],
   "source": [
    "%viz --style=\"COMPTREE\" --view=\"Interconnection\" \"AnalysisAnnotation\""
   ]
  },
  {
   "cell_type": "code",
   "execution_count": 6,
   "id": "4129135d",
   "metadata": {
    "execution": {
     "iopub.execute_input": "2021-04-20T07:28:13.571409Z",
     "iopub.status.busy": "2021-04-20T07:28:13.570718Z",
     "iopub.status.idle": "2021-04-20T07:28:13.680773Z",
     "shell.execute_reply": "2021-04-20T07:28:13.679275Z"
    }
   },
   "outputs": [
    {
     "data": {
      "image/svg+xml": [
       "<?xml version=\"1.0\" encoding=\"UTF-8\" standalone=\"no\"?><svg xmlns=\"http://www.w3.org/2000/svg\" xmlns:xlink=\"http://www.w3.org/1999/xlink\" contentScriptType=\"application/ecmascript\" contentStyleType=\"text/css\" height=\"162px\" preserveAspectRatio=\"none\" style=\"width:336px;height:162px;\" version=\"1.1\" viewBox=\"0 0 336 162\" width=\"336px\" zoomAndPan=\"magnify\"><defs/><g><!--MD5=[fbc87193dbaf4d95561dea2c320d4a47]\n",
       "cluster E1--><a href=\"psysml:e73f4f0e-f2f2-491a-ad18-2354ebab0714\" target=\"_top\" title=\"psysml:e73f4f0e-f2f2-491a-ad18-2354ebab0714\" xlink:actuate=\"onRequest\" xlink:href=\"psysml:e73f4f0e-f2f2-491a-ad18-2354ebab0714\" xlink:show=\"new\" xlink:title=\"psysml:e73f4f0e-f2f2-491a-ad18-2354ebab0714\" xlink:type=\"simple\"><rect fill=\"#FFFFFF\" height=\"87.72\" id=\"E1\" style=\"stroke: #383838; stroke-width: 1.5;\" width=\"318\" x=\"7\" y=\"42.0986\"/><rect fill=\"#F8F8F8\" height=\"37.9375\" style=\"stroke: #383838; stroke-width: 1.5;\" width=\"318\" x=\"7\" y=\"42.0986\"/><text fill=\"#000000\" font-family=\"sans-serif\" font-size=\"12\" font-style=\"italic\" lengthAdjust=\"spacingAndGlyphs\" textLength=\"77\" x=\"127.5\" y=\"58.2373\">«action def»</text><text fill=\"#000000\" font-family=\"sans-serif\" font-size=\"12\" lengthAdjust=\"spacingAndGlyphs\" textLength=\"115\" x=\"108.5\" y=\"72.2061\">ComputeDynamics</text></a><text fill=\"#000000\" font-family=\"sans-serif\" font-size=\"14\" lengthAdjust=\"spacingAndGlyphs\" textLength=\"48\" x=\"47\" y=\"148.8138\">$result</text><rect fill=\"#383838\" height=\"12\" style=\"stroke: #F8F8F8; stroke-width: 1.5;\" width=\"12\" x=\"65\" y=\"123.8186\"/><text fill=\"#000000\" font-family=\"sans-serif\" font-size=\"14\" lengthAdjust=\"spacingAndGlyphs\" textLength=\"48\" x=\"94\" y=\"148.8138\">$result</text><rect fill=\"#383838\" height=\"12\" style=\"stroke: #F8F8F8; stroke-width: 1.5;\" width=\"12\" x=\"112\" y=\"123.8186\"/><text fill=\"#000000\" font-family=\"sans-serif\" font-size=\"14\" lengthAdjust=\"spacingAndGlyphs\" textLength=\"14\" x=\"18\" y=\"20.7969\">dt</text><rect fill=\"#383838\" height=\"12\" style=\"stroke: #F8F8F8; stroke-width: 1.5;\" width=\"12\" x=\"19\" y=\"36.0986\"/><text fill=\"#000000\" font-family=\"sans-serif\" font-size=\"14\" lengthAdjust=\"spacingAndGlyphs\" textLength=\"48\" x=\"48\" y=\"20.7969\">whlpwr</text><rect fill=\"#383838\" height=\"12\" style=\"stroke: #F8F8F8; stroke-width: 1.5;\" width=\"12\" x=\"66\" y=\"36.0986\"/><text fill=\"#000000\" font-family=\"sans-serif\" font-size=\"14\" lengthAdjust=\"spacingAndGlyphs\" textLength=\"19\" x=\"109.5\" y=\"20.7969\">Cd</text><rect fill=\"#383838\" height=\"12\" style=\"stroke: #F8F8F8; stroke-width: 1.5;\" width=\"12\" x=\"113\" y=\"36.0986\"/><text fill=\"#000000\" font-family=\"sans-serif\" font-size=\"14\" lengthAdjust=\"spacingAndGlyphs\" textLength=\"14\" x=\"159\" y=\"20.7969\">Cf</text><rect fill=\"#383838\" height=\"12\" style=\"stroke: #F8F8F8; stroke-width: 1.5;\" width=\"12\" x=\"160\" y=\"36.0986\"/><text fill=\"#000000\" font-family=\"sans-serif\" font-size=\"14\" lengthAdjust=\"spacingAndGlyphs\" textLength=\"18\" x=\"204\" y=\"20.7969\">tm</text><rect fill=\"#383838\" height=\"12\" style=\"stroke: #F8F8F8; stroke-width: 1.5;\" width=\"12\" x=\"207\" y=\"36.0986\"/><text fill=\"#000000\" font-family=\"sans-serif\" font-size=\"14\" lengthAdjust=\"spacingAndGlyphs\" textLength=\"26\" x=\"247\" y=\"20.7969\">v_in</text><rect fill=\"#383838\" height=\"12\" style=\"stroke: #F8F8F8; stroke-width: 1.5;\" width=\"12\" x=\"254\" y=\"36.0986\"/><text fill=\"#000000\" font-family=\"sans-serif\" font-size=\"14\" lengthAdjust=\"spacingAndGlyphs\" textLength=\"26\" x=\"294\" y=\"20.7969\">x_in</text><rect fill=\"#383838\" height=\"12\" style=\"stroke: #F8F8F8; stroke-width: 1.5;\" width=\"12\" x=\"301\" y=\"36.0986\"/><text fill=\"#000000\" font-family=\"sans-serif\" font-size=\"14\" lengthAdjust=\"spacingAndGlyphs\" textLength=\"38\" x=\"146\" y=\"148.8138\">a_out</text><rect fill=\"#383838\" height=\"12\" style=\"stroke: #F8F8F8; stroke-width: 1.5;\" width=\"12\" x=\"159\" y=\"123.8186\"/><text fill=\"#000000\" font-family=\"sans-serif\" font-size=\"14\" lengthAdjust=\"spacingAndGlyphs\" textLength=\"37\" x=\"193.5\" y=\"148.8138\">v_out</text><rect fill=\"#383838\" height=\"12\" style=\"stroke: #F8F8F8; stroke-width: 1.5;\" width=\"12\" x=\"206\" y=\"123.8186\"/><text fill=\"#000000\" font-family=\"sans-serif\" font-size=\"14\" lengthAdjust=\"spacingAndGlyphs\" textLength=\"37\" x=\"240.5\" y=\"148.8138\">x_out</text><rect fill=\"#383838\" height=\"12\" style=\"stroke: #F8F8F8; stroke-width: 1.5;\" width=\"12\" x=\"253\" y=\"123.8186\"/><!--MD5=[43e7ee00b38dc4de3fd79ca284f6e7c8]\n",
       "@startuml\r\n",
       "skinparam ranksep 8\r\n",
       " skinparam monochrome true\r\n",
       "skinparam classbackgroundcolor white\r\n",
       "skinparam shadowing false\r\n",
       "skinparam wrapWidth 300\r\n",
       "hide circle\r\n",
       "\r\n",
       "rec def \"ComputeDynamics\" as E1  <<(T,blue)action def>> [[psysml:e73f4f0e-f2f2-491a-ad18-2354ebab0714 ]] {\r\n",
       "portout \"$result\" as E2  [[psysml:321a5472-f26a-4f44-adf1-e887f248e10c ]] \r\n",
       "portout \"$result\" as E3  [[psysml:249d7fd3-af20-489f-a52b-b6c298227647 ]] \r\n",
       "portin \"dt\" as E4  [[psysml:d9dfe931-1109-47e6-bc0c-352db24577b0 ]] \r\n",
       "portin \"whlpwr\" as E5  [[psysml:44277f67-022c-45f6-9760-98798ee04e09 ]] \r\n",
       "portin \"Cd\" as E6  [[psysml:41d96645-5d65-4e32-85e5-332077e108f6 ]] \r\n",
       "portin \"Cf\" as E7  [[psysml:aebf7dc6-628a-4d75-a952-13ccca53817c ]] \r\n",
       "portin \"tm\" as E8  [[psysml:08dba41b-e930-4b20-afae-ef7ae15f00ec ]] \r\n",
       "portin \"v_in\" as E9  [[psysml:e3f3c5a0-ed9d-41a6-a918-fe4a600fe261 ]] \r\n",
       "portin \"x_in\" as E10  [[psysml:fb3fca97-7004-4d76-8828-7714499f1454 ]] \r\n",
       "portout \"a_out\" as E11  [[psysml:5a710766-56b6-4c7a-9ae9-326b3f7572a8 ]] \r\n",
       "portout \"v_out\" as E12  [[psysml:1e62abd8-4172-4662-8f1c-1e7c30e8c54c ]] \r\n",
       "portout \"x_out\" as E13  [[psysml:e4c640c8-309e-4572-81b1-e78594ed37ec ]] \r\n",
       "}\r\n",
       "\r\n",
       "@enduml\r\n",
       "\n",
       "PlantUML version 1.2020.13(Sat Jun 13 12:26:38 UTC 2020)\n",
       "(EPL source distribution)\n",
       "Java Runtime: OpenJDK Runtime Environment\n",
       "JVM: OpenJDK 64-Bit Server VM\n",
       "Default Encoding: UTF-8\n",
       "Language: en\n",
       "Country: null\n",
       "--></g></svg>"
      ]
     },
     "execution_count": 6,
     "metadata": {},
     "output_type": "execute_result"
    }
   ],
   "source": [
    "%viz --style=\"COMPTREE\" --view=\"Action\" \"AnalysisAnnotation\""
   ]
  },
  {
   "cell_type": "code",
   "execution_count": 7,
   "id": "ee12fd80",
   "metadata": {
    "execution": {
     "iopub.execute_input": "2021-04-20T07:28:13.733192Z",
     "iopub.status.busy": "2021-04-20T07:28:13.731440Z",
     "iopub.status.idle": "2021-04-20T07:28:14.090520Z",
     "shell.execute_reply": "2021-04-20T07:28:14.091753Z"
    }
   },
   "outputs": [
    {
     "data": {
      "image/svg+xml": [
       "<?xml version=\"1.0\" encoding=\"UTF-8\" standalone=\"no\"?><svg xmlns=\"http://www.w3.org/2000/svg\" xmlns:xlink=\"http://www.w3.org/1999/xlink\" contentScriptType=\"application/ecmascript\" contentStyleType=\"text/css\" height=\"472px\" preserveAspectRatio=\"none\" style=\"width:357px;height:472px;\" version=\"1.1\" viewBox=\"0 0 357 472\" width=\"357px\" zoomAndPan=\"magnify\"><defs/><g><!--MD5=[fbc87193dbaf4d95561dea2c320d4a47]\n",
       "cluster E1--><a href=\"psysml:3f9dd228-0d59-436f-8c66-7bfaf74317e1\" target=\"_top\" title=\"psysml:3f9dd228-0d59-436f-8c66-7bfaf74317e1\" xlink:actuate=\"onRequest\" xlink:href=\"psysml:3f9dd228-0d59-436f-8c66-7bfaf74317e1\" xlink:show=\"new\" xlink:title=\"psysml:3f9dd228-0d59-436f-8c66-7bfaf74317e1\" xlink:type=\"simple\"><polygon fill=\"#FFFFFF\" points=\"16,6,173,6,180,28.2969,335,28.2969,335,460,16,460,16,6\" style=\"stroke: #000000; stroke-width: 1.5;\"/><line style=\"stroke: #000000; stroke-width: 1.5;\" x1=\"16\" x2=\"180\" y1=\"28.2969\" y2=\"28.2969\"/><text fill=\"#000000\" font-family=\"sans-serif\" font-size=\"14\" font-weight=\"bold\" lengthAdjust=\"spacingAndGlyphs\" textLength=\"151\" x=\"20\" y=\"20.9951\">AnalysisAnnotation</text></a><!--MD5=[b4997ac47864f28c2f74865a473b2911]\n",
       "class E2--><a href=\"psysml:44eddca9-682f-4ef7-a7c7-a9f194d7f2c9\" target=\"_top\" title=\"psysml:44eddca9-682f-4ef7-a7c7-a9f194d7f2c9\" xlink:actuate=\"onRequest\" xlink:href=\"psysml:44eddca9-682f-4ef7-a7c7-a9f194d7f2c9\" xlink:show=\"new\" xlink:title=\"psysml:44eddca9-682f-4ef7-a7c7-a9f194d7f2c9\" xlink:type=\"simple\"><rect fill=\"#FFFFFF\" height=\"45.9375\" id=\"E2\" style=\"stroke: #383838; stroke-width: 1.5;\" width=\"74\" x=\"238\" y=\"113.5\"/><text fill=\"#000000\" font-family=\"sans-serif\" font-size=\"12\" font-style=\"italic\" lengthAdjust=\"spacingAndGlyphs\" textLength=\"72\" x=\"239\" y=\"129.6387\">«dataType»</text><text fill=\"#000000\" font-family=\"sans-serif\" font-size=\"12\" lengthAdjust=\"spacingAndGlyphs\" textLength=\"27\" x=\"261.5\" y=\"143.6074\">Real</text><line style=\"stroke: #383838; stroke-width: 1.5;\" x1=\"239\" x2=\"311\" y1=\"151.4375\" y2=\"151.4375\"/></a><!--MD5=[09b614a08d8cba4a07c9adeb5e0fee81]\n",
       "class E3--><a href=\"psysml:e73f4f0e-f2f2-491a-ad18-2354ebab0714\" target=\"_top\" title=\"psysml:e73f4f0e-f2f2-491a-ad18-2354ebab0714\" xlink:actuate=\"onRequest\" xlink:href=\"psysml:e73f4f0e-f2f2-491a-ad18-2354ebab0714\" xlink:show=\"new\" xlink:title=\"psysml:e73f4f0e-f2f2-491a-ad18-2354ebab0714\" xlink:type=\"simple\"><rect fill=\"#FFFFFF\" height=\"190.7891\" id=\"E3\" style=\"stroke: #383838; stroke-width: 1.5;\" width=\"151\" x=\"38.5\" y=\"41\"/><text fill=\"#000000\" font-family=\"sans-serif\" font-size=\"12\" font-style=\"italic\" lengthAdjust=\"spacingAndGlyphs\" textLength=\"77\" x=\"75.5\" y=\"57.1387\">«action def»</text><text fill=\"#000000\" font-family=\"sans-serif\" font-size=\"12\" lengthAdjust=\"spacingAndGlyphs\" textLength=\"115\" x=\"56.5\" y=\"71.1074\">ComputeDynamics</text><line style=\"stroke: #383838; stroke-width: 1.5;\" x1=\"39.5\" x2=\"188.5\" y1=\"78.9375\" y2=\"78.9375\"/><text fill=\"#000000\" font-family=\"sans-serif\" font-size=\"11\" lengthAdjust=\"spacingAndGlyphs\" textLength=\"47\" x=\"44.5\" y=\"109.9526\">Cd: Real</text><text fill=\"#000000\" font-family=\"sans-serif\" font-size=\"11\" lengthAdjust=\"spacingAndGlyphs\" textLength=\"44\" x=\"44.5\" y=\"122.7573\">Cf: Real</text><text fill=\"#000000\" font-family=\"sans-serif\" font-size=\"11\" lengthAdjust=\"spacingAndGlyphs\" textLength=\"139\" x=\"44.5\" y=\"135.562\">a_out: AccelerationValue</text><text fill=\"#000000\" font-family=\"sans-serif\" font-size=\"11\" lengthAdjust=\"spacingAndGlyphs\" textLength=\"98\" x=\"44.5\" y=\"148.3667\">dt: DurationValue</text><text fill=\"#000000\" font-family=\"sans-serif\" font-size=\"11\" lengthAdjust=\"spacingAndGlyphs\" textLength=\"84\" x=\"44.5\" y=\"161.1714\">tm: MassValue</text><text fill=\"#000000\" font-family=\"sans-serif\" font-size=\"11\" lengthAdjust=\"spacingAndGlyphs\" textLength=\"97\" x=\"44.5\" y=\"173.9761\">v_in: SpeedValue</text><text fill=\"#000000\" font-family=\"sans-serif\" font-size=\"11\" lengthAdjust=\"spacingAndGlyphs\" textLength=\"105\" x=\"44.5\" y=\"186.7808\">v_out: SpeedValue</text><text fill=\"#000000\" font-family=\"sans-serif\" font-size=\"11\" lengthAdjust=\"spacingAndGlyphs\" textLength=\"114\" x=\"44.5\" y=\"199.5854\">whlpwr: PowerValue</text><text fill=\"#000000\" font-family=\"sans-serif\" font-size=\"11\" lengthAdjust=\"spacingAndGlyphs\" textLength=\"99\" x=\"44.5\" y=\"212.3901\">x_in: LengthValue</text><text fill=\"#000000\" font-family=\"sans-serif\" font-size=\"11\" lengthAdjust=\"spacingAndGlyphs\" textLength=\"107\" x=\"44.5\" y=\"225.1948\">x_out: LengthValue</text><line style=\"stroke: #383838; stroke-width: 1.0;\" x1=\"39.5\" x2=\"86.5\" y1=\"93.3398\" y2=\"93.3398\"/><text fill=\"#000000\" font-family=\"sans-serif\" font-size=\"11\" lengthAdjust=\"spacingAndGlyphs\" textLength=\"55\" x=\"86.5\" y=\"96.6479\">attributes</text><line style=\"stroke: #383838; stroke-width: 1.0;\" x1=\"141.5\" x2=\"188.5\" y1=\"93.3398\" y2=\"93.3398\"/></a><!--MD5=[ebbe1d658d1005bcc118a6aa81145e00]\n",
       "class E4--><a href=\"psysml:60a2becf-7a46-4ebd-946f-3a728f7b6aab\" target=\"_top\" title=\"psysml:60a2becf-7a46-4ebd-946f-3a728f7b6aab\" xlink:actuate=\"onRequest\" xlink:href=\"psysml:60a2becf-7a46-4ebd-946f-3a728f7b6aab\" xlink:show=\"new\" xlink:title=\"psysml:60a2becf-7a46-4ebd-946f-3a728f7b6aab\" xlink:type=\"simple\"><rect fill=\"#FFFFFF\" height=\"45.9375\" id=\"E4\" style=\"stroke: #383838; stroke-width: 1.5;\" width=\"152\" x=\"38\" y=\"292\"/><text fill=\"#000000\" font-family=\"sans-serif\" font-size=\"12\" font-style=\"italic\" lengthAdjust=\"spacingAndGlyphs\" textLength=\"132\" x=\"48\" y=\"308.1387\">«annotatingFeature»</text><text fill=\"#000000\" font-family=\"sans-serif\" font-size=\"12\" lengthAdjust=\"spacingAndGlyphs\" text-decoration=\"line-through\" textLength=\"51\" x=\"41\" y=\"322.1074\">noname</text><text fill=\"#000000\" font-family=\"sans-serif\" font-size=\"12\" lengthAdjust=\"spacingAndGlyphs\" textLength=\"95\" x=\"92\" y=\"322.1074\">: ToolExecution</text><line style=\"stroke: #383838; stroke-width: 1.5;\" x1=\"39\" x2=\"189\" y1=\"329.9375\" y2=\"329.9375\"/></a><!--MD5=[270fce915f116d4de14055a7c1d9a0f3]\n",
       "class E5--><a href=\"psysml:b02ba1b2-12c8-4052-9523-3aa0c79993f0\" target=\"_top\" title=\"psysml:b02ba1b2-12c8-4052-9523-3aa0c79993f0\" xlink:actuate=\"onRequest\" xlink:href=\"psysml:b02ba1b2-12c8-4052-9523-3aa0c79993f0\" xlink:show=\"new\" xlink:title=\"psysml:b02ba1b2-12c8-4052-9523-3aa0c79993f0\" xlink:type=\"simple\"><rect fill=\"#FFFFFF\" height=\"45.9375\" id=\"E5\" style=\"stroke: #383838; stroke-width: 1.5;\" width=\"126\" x=\"32\" y=\"398\"/><text fill=\"#000000\" font-family=\"sans-serif\" font-size=\"12\" font-style=\"italic\" lengthAdjust=\"spacingAndGlyphs\" textLength=\"124\" x=\"33\" y=\"414.1387\">«metadataFeature»</text><text fill=\"#000000\" font-family=\"sans-serif\" font-size=\"12\" lengthAdjust=\"spacingAndGlyphs\" textLength=\"60\" x=\"65\" y=\"428.1074\">toolName</text><line style=\"stroke: #383838; stroke-width: 1.5;\" x1=\"33\" x2=\"157\" y1=\"435.9375\" y2=\"435.9375\"/></a><!--MD5=[60a26617385b1d2d0262a64233df1f8d]\n",
       "class E6--><a href=\"psysml:cb4006f5-0e41-4f05-aa2a-a57df33d56ff\" target=\"_top\" title=\"psysml:cb4006f5-0e41-4f05-aa2a-a57df33d56ff\" xlink:actuate=\"onRequest\" xlink:href=\"psysml:cb4006f5-0e41-4f05-aa2a-a57df33d56ff\" xlink:show=\"new\" xlink:title=\"psysml:cb4006f5-0e41-4f05-aa2a-a57df33d56ff\" xlink:type=\"simple\"><rect fill=\"#FFFFFF\" height=\"45.9375\" id=\"E6\" style=\"stroke: #383838; stroke-width: 1.5;\" width=\"126\" x=\"193\" y=\"398\"/><text fill=\"#000000\" font-family=\"sans-serif\" font-size=\"12\" font-style=\"italic\" lengthAdjust=\"spacingAndGlyphs\" textLength=\"124\" x=\"194\" y=\"414.1387\">«metadataFeature»</text><text fill=\"#000000\" font-family=\"sans-serif\" font-size=\"12\" lengthAdjust=\"spacingAndGlyphs\" textLength=\"16\" x=\"248\" y=\"428.1074\">uri</text><line style=\"stroke: #383838; stroke-width: 1.5;\" x1=\"194\" x2=\"318\" y1=\"435.9375\" y2=\"435.9375\"/></a><!--MD5=[4672eba38e49728da53d11aeb285b987]\n",
       "reverse link E3 to E4--><a href=\"psysml:66d6f7e6-2188-4a34-9637-6b4b270c496c\" target=\"_top\" title=\"psysml:66d6f7e6-2188-4a34-9637-6b4b270c496c\" xlink:actuate=\"onRequest\" xlink:href=\"psysml:66d6f7e6-2188-4a34-9637-6b4b270c496c\" xlink:show=\"new\" xlink:title=\"psysml:66d6f7e6-2188-4a34-9637-6b4b270c496c\" xlink:type=\"simple\"><path d=\"M114,247.28 C114,264.19 114,279.97 114,291.94 \" fill=\"none\" id=\"E3&lt;-E4\" style=\"stroke: #383838; stroke-width: 1.0;\"/><ellipse cx=\"114\" cy=\"240.21\" fill=\"#FFFFFF\" rx=\"8\" ry=\"8\" style=\"stroke: #383838; stroke-width: 1.0;\"/><line style=\"stroke: #383838; stroke-width: 1.0;\" x1=\"114\" x2=\"114\" y1=\"248.21\" y2=\"232.21\"/><line style=\"stroke: #383838; stroke-width: 1.0;\" x1=\"106\" x2=\"122\" y1=\"240.21\" y2=\"240.21\"/></a><!--MD5=[62aa6af11e70f752912c1cb0466f24f7]\n",
       "reverse link E4 to E5--><a href=\"psysml:4336f8bf-5a73-49a4-a706-8a85ff7218c2\" target=\"_top\" title=\"psysml:4336f8bf-5a73-49a4-a706-8a85ff7218c2\" xlink:actuate=\"onRequest\" xlink:href=\"psysml:4336f8bf-5a73-49a4-a706-8a85ff7218c2\" xlink:show=\"new\" xlink:title=\"psysml:4336f8bf-5a73-49a4-a706-8a85ff7218c2\" xlink:type=\"simple\"><path d=\"M107.61,350.96 C104.77,366.51 101.52,384.33 99.02,397.98 \" fill=\"none\" id=\"E4&lt;-E5\" style=\"stroke: #383838; stroke-width: 1.0;\"/><polygon fill=\"#383838\" points=\"109.97,338.06,104.9597,343.2462,107.8199,349.8658,112.8302,344.6796,109.97,338.06\" style=\"stroke: #383838; stroke-width: 1.0;\"/></a><!--MD5=[6db378b65e1aef66a01cb3103812b399]\n",
       "reverse link E4 to E6--><a href=\"psysml:14217a47-d828-403c-a59e-1cb114a87a2b\" target=\"_top\" title=\"psysml:14217a47-d828-403c-a59e-1cb114a87a2b\" xlink:actuate=\"onRequest\" xlink:href=\"psysml:14217a47-d828-403c-a59e-1cb114a87a2b\" xlink:show=\"new\" xlink:title=\"psysml:14217a47-d828-403c-a59e-1cb114a87a2b\" xlink:type=\"simple\"><path d=\"M154.79,345.88 C177.48,362.49 205.23,382.82 225.93,397.98 \" fill=\"none\" id=\"E4&lt;-E6\" style=\"stroke: #383838; stroke-width: 1.0;\"/><polygon fill=\"#383838\" points=\"144.11,338.06,146.5846,344.8332,153.7885,345.1541,151.314,338.3809,144.11,338.06\" style=\"stroke: #383838; stroke-width: 1.0;\"/></a><!--MD5=[c15a36997419c67d964b3ecdf6fe0640]\n",
       "@startuml\r\n",
       " skinparam monochrome true\r\n",
       "skinparam classbackgroundcolor white\r\n",
       "skinparam shadowing false\r\n",
       "skinparam wrapWidth 300\r\n",
       "hide circle\r\n",
       "\r\n",
       "package \"AnalysisAnnotation\" as E1  [[psysml:3f9dd228-0d59-436f-8c66-7bfaf74317e1 ]]  {\r\n",
       "comp def \"Real\" as E2  <<(T,blue)dataType>> [[psysml:44eddca9-682f-4ef7-a7c7-a9f194d7f2c9 ]] {\r\n",
       "}\r\n",
       "comp def \"ComputeDynamics\" as E3  <<(T,blue)action def>> [[psysml:e73f4f0e-f2f2-491a-ad18-2354ebab0714 ]] {\r\n",
       "- - attributes - -\r\n",
       "Cd: Real\r\n",
       "Cf: Real\r\n",
       "a_out: AccelerationValue\r\n",
       "dt: DurationValue\r\n",
       "tm: MassValue\r\n",
       "v_in: SpeedValue\r\n",
       "v_out: SpeedValue\r\n",
       "whlpwr: PowerValue\r\n",
       "x_in: LengthValue\r\n",
       "x_out: LengthValue\r\n",
       "}\r\n",
       "comp def \"<s>noname</s>: ToolExecution\" as E4  <<(T,blue)annotatingFeature>> [[psysml:60a2becf-7a46-4ebd-946f-3a728f7b6aab ]] {\r\n",
       "}\r\n",
       "comp def \"toolName\" as E5  <<(T,blue)metadataFeature>> [[psysml:b02ba1b2-12c8-4052-9523-3aa0c79993f0 ]] {\r\n",
       "}\r\n",
       "comp def \"uri\" as E6  <<(T,blue)metadataFeature>> [[psysml:cb4006f5-0e41-4f05-aa2a-a57df33d56ff ]] {\r\n",
       "}\r\n",
       "E3 +- - E4 [[psysml:66d6f7e6-2188-4a34-9637-6b4b270c496c ]] \r\n",
       "E4 *- - E5 [[psysml:4336f8bf-5a73-49a4-a706-8a85ff7218c2 ]] \r\n",
       "E4 *- - E6 [[psysml:14217a47-d828-403c-a59e-1cb114a87a2b ]] \r\n",
       "}\r\n",
       "@enduml\r\n",
       "\n",
       "PlantUML version 1.2020.13(Sat Jun 13 12:26:38 UTC 2020)\n",
       "(EPL source distribution)\n",
       "Java Runtime: OpenJDK Runtime Environment\n",
       "JVM: OpenJDK 64-Bit Server VM\n",
       "Default Encoding: UTF-8\n",
       "Language: en\n",
       "Country: null\n",
       "--></g></svg>"
      ]
     },
     "execution_count": 7,
     "metadata": {},
     "output_type": "execute_result"
    }
   ],
   "source": [
    "%viz --style=\"COMPTREE\" --view=\"Sequence\" \"AnalysisAnnotation\""
   ]
  },
  {
   "cell_type": "code",
   "execution_count": 8,
   "id": "edd2817f",
   "metadata": {
    "execution": {
     "iopub.execute_input": "2021-04-20T07:28:14.139263Z",
     "iopub.status.busy": "2021-04-20T07:28:14.138651Z",
     "iopub.status.idle": "2021-04-20T07:28:14.193719Z",
     "shell.execute_reply": "2021-04-20T07:28:14.193373Z"
    }
   },
   "outputs": [
    {
     "data": {
      "image/svg+xml": [
       "<?xml version=\"1.0\" encoding=\"UTF-8\" standalone=\"no\"?><svg xmlns=\"http://www.w3.org/2000/svg\" xmlns:xlink=\"http://www.w3.org/1999/xlink\" contentScriptType=\"application/ecmascript\" contentStyleType=\"text/css\" height=\"350px\" preserveAspectRatio=\"none\" style=\"width:481px;height:350px;\" version=\"1.1\" viewBox=\"0 0 481 350\" width=\"481px\" zoomAndPan=\"magnify\"><defs/><g><!--MD5=[fbc87193dbaf4d95561dea2c320d4a47]\n",
       "cluster E1--><a href=\"psysml:3f9dd228-0d59-436f-8c66-7bfaf74317e1\" target=\"_top\" title=\"psysml:3f9dd228-0d59-436f-8c66-7bfaf74317e1\" xlink:actuate=\"onRequest\" xlink:href=\"psysml:3f9dd228-0d59-436f-8c66-7bfaf74317e1\" xlink:show=\"new\" xlink:title=\"psysml:3f9dd228-0d59-436f-8c66-7bfaf74317e1\" xlink:type=\"simple\"><polygon fill=\"#FFFFFF\" points=\"16,6,173,6,180,28.2969,459,28.2969,459,338.72,16,338.72,16,6\" style=\"stroke: #000000; stroke-width: 1.5;\"/><line style=\"stroke: #000000; stroke-width: 1.5;\" x1=\"16\" x2=\"180\" y1=\"28.2969\" y2=\"28.2969\"/><text fill=\"#000000\" font-family=\"sans-serif\" font-size=\"14\" font-weight=\"bold\" lengthAdjust=\"spacingAndGlyphs\" textLength=\"151\" x=\"20\" y=\"20.9951\">AnalysisAnnotation</text></a><!--MD5=[d5e69f78d87373223dbae638b30a9c99]\n",
       "cluster E3--><a href=\"psysml:e73f4f0e-f2f2-491a-ad18-2354ebab0714\" target=\"_top\" title=\"psysml:e73f4f0e-f2f2-491a-ad18-2354ebab0714\" xlink:actuate=\"onRequest\" xlink:href=\"psysml:e73f4f0e-f2f2-491a-ad18-2354ebab0714\" xlink:show=\"new\" xlink:title=\"psysml:e73f4f0e-f2f2-491a-ad18-2354ebab0714\" xlink:type=\"simple\"><rect fill=\"#FFFFFF\" height=\"244.72\" id=\"E3\" style=\"stroke: #383838; stroke-width: 1.5;\" width=\"318\" x=\"129\" y=\"64\"/><rect fill=\"#F8F8F8\" height=\"37.9375\" style=\"stroke: #383838; stroke-width: 1.5;\" width=\"318\" x=\"129\" y=\"64\"/><text fill=\"#000000\" font-family=\"sans-serif\" font-size=\"12\" font-style=\"italic\" lengthAdjust=\"spacingAndGlyphs\" textLength=\"77\" x=\"249.5\" y=\"80.1387\">«action def»</text><text fill=\"#000000\" font-family=\"sans-serif\" font-size=\"12\" lengthAdjust=\"spacingAndGlyphs\" textLength=\"115\" x=\"230.5\" y=\"94.1074\">ComputeDynamics</text></a><!--MD5=[b4997ac47864f28c2f74865a473b2911]\n",
       "class E2--><a href=\"psysml:44eddca9-682f-4ef7-a7c7-a9f194d7f2c9\" target=\"_top\" title=\"psysml:44eddca9-682f-4ef7-a7c7-a9f194d7f2c9\" xlink:actuate=\"onRequest\" xlink:href=\"psysml:44eddca9-682f-4ef7-a7c7-a9f194d7f2c9\" xlink:show=\"new\" xlink:title=\"psysml:44eddca9-682f-4ef7-a7c7-a9f194d7f2c9\" xlink:type=\"simple\"><rect fill=\"#FFFFFF\" height=\"45.9375\" id=\"E2\" style=\"stroke: #383838; stroke-width: 1.5;\" width=\"74\" x=\"32\" y=\"41\"/><text fill=\"#000000\" font-family=\"sans-serif\" font-size=\"12\" font-style=\"italic\" lengthAdjust=\"spacingAndGlyphs\" textLength=\"72\" x=\"33\" y=\"57.1387\">«dataType»</text><text fill=\"#000000\" font-family=\"sans-serif\" font-size=\"12\" lengthAdjust=\"spacingAndGlyphs\" textLength=\"27\" x=\"55.5\" y=\"71.1074\">Real</text><line style=\"stroke: #383838; stroke-width: 1.5;\" x1=\"33\" x2=\"105\" y1=\"78.9375\" y2=\"78.9375\"/></a><text fill=\"#000000\" font-family=\"sans-serif\" font-size=\"14\" lengthAdjust=\"spacingAndGlyphs\" textLength=\"48\" x=\"169\" y=\"327.7151\">$result</text><rect fill=\"#383838\" height=\"12\" style=\"stroke: #F8F8F8; stroke-width: 1.5;\" width=\"12\" x=\"187\" y=\"302.72\"/><text fill=\"#000000\" font-family=\"sans-serif\" font-size=\"14\" lengthAdjust=\"spacingAndGlyphs\" textLength=\"48\" x=\"216\" y=\"327.7151\">$result</text><rect fill=\"#383838\" height=\"12\" style=\"stroke: #F8F8F8; stroke-width: 1.5;\" width=\"12\" x=\"234\" y=\"302.72\"/><text fill=\"#000000\" font-family=\"sans-serif\" font-size=\"14\" lengthAdjust=\"spacingAndGlyphs\" textLength=\"14\" x=\"140\" y=\"42.6982\">dt</text><rect fill=\"#383838\" height=\"12\" style=\"stroke: #F8F8F8; stroke-width: 1.5;\" width=\"12\" x=\"141\" y=\"58\"/><text fill=\"#000000\" font-family=\"sans-serif\" font-size=\"14\" lengthAdjust=\"spacingAndGlyphs\" textLength=\"48\" x=\"170\" y=\"42.6982\">whlpwr</text><rect fill=\"#383838\" height=\"12\" style=\"stroke: #F8F8F8; stroke-width: 1.5;\" width=\"12\" x=\"188\" y=\"58\"/><text fill=\"#000000\" font-family=\"sans-serif\" font-size=\"14\" lengthAdjust=\"spacingAndGlyphs\" textLength=\"19\" x=\"231.5\" y=\"42.6982\">Cd</text><rect fill=\"#383838\" height=\"12\" style=\"stroke: #F8F8F8; stroke-width: 1.5;\" width=\"12\" x=\"235\" y=\"58\"/><text fill=\"#000000\" font-family=\"sans-serif\" font-size=\"14\" lengthAdjust=\"spacingAndGlyphs\" textLength=\"14\" x=\"281\" y=\"42.6982\">Cf</text><rect fill=\"#383838\" height=\"12\" style=\"stroke: #F8F8F8; stroke-width: 1.5;\" width=\"12\" x=\"282\" y=\"58\"/><text fill=\"#000000\" font-family=\"sans-serif\" font-size=\"14\" lengthAdjust=\"spacingAndGlyphs\" textLength=\"18\" x=\"326\" y=\"42.6982\">tm</text><rect fill=\"#383838\" height=\"12\" style=\"stroke: #F8F8F8; stroke-width: 1.5;\" width=\"12\" x=\"329\" y=\"58\"/><text fill=\"#000000\" font-family=\"sans-serif\" font-size=\"14\" lengthAdjust=\"spacingAndGlyphs\" textLength=\"26\" x=\"369\" y=\"42.6982\">v_in</text><rect fill=\"#383838\" height=\"12\" style=\"stroke: #F8F8F8; stroke-width: 1.5;\" width=\"12\" x=\"376\" y=\"58\"/><text fill=\"#000000\" font-family=\"sans-serif\" font-size=\"14\" lengthAdjust=\"spacingAndGlyphs\" textLength=\"26\" x=\"416\" y=\"42.6982\">x_in</text><rect fill=\"#383838\" height=\"12\" style=\"stroke: #F8F8F8; stroke-width: 1.5;\" width=\"12\" x=\"423\" y=\"58\"/><text fill=\"#000000\" font-family=\"sans-serif\" font-size=\"14\" lengthAdjust=\"spacingAndGlyphs\" textLength=\"38\" x=\"268\" y=\"327.7151\">a_out</text><rect fill=\"#383838\" height=\"12\" style=\"stroke: #F8F8F8; stroke-width: 1.5;\" width=\"12\" x=\"281\" y=\"302.72\"/><text fill=\"#000000\" font-family=\"sans-serif\" font-size=\"14\" lengthAdjust=\"spacingAndGlyphs\" textLength=\"37\" x=\"315.5\" y=\"327.7151\">v_out</text><rect fill=\"#383838\" height=\"12\" style=\"stroke: #F8F8F8; stroke-width: 1.5;\" width=\"12\" x=\"328\" y=\"302.72\"/><text fill=\"#000000\" font-family=\"sans-serif\" font-size=\"14\" lengthAdjust=\"spacingAndGlyphs\" textLength=\"37\" x=\"362.5\" y=\"327.7151\">x_out</text><rect fill=\"#383838\" height=\"12\" style=\"stroke: #F8F8F8; stroke-width: 1.5;\" width=\"12\" x=\"375\" y=\"302.72\"/><!--MD5=[15f7f44ee174f2c7c16d929a3384749a]\n",
       "@startuml\r\n",
       " skinparam monochrome true\r\n",
       "skinparam classbackgroundcolor white\r\n",
       "skinparam shadowing false\r\n",
       "skinparam wrapWidth 300\r\n",
       "hide circle\r\n",
       "\r\n",
       "package \"AnalysisAnnotation\" as E1  [[psysml:3f9dd228-0d59-436f-8c66-7bfaf74317e1 ]]  {\r\n",
       "comp def \"Real\" as E2  <<(T,blue)dataType>> [[psysml:44eddca9-682f-4ef7-a7c7-a9f194d7f2c9 ]] {\r\n",
       "}\r\n",
       "rec def \"ComputeDynamics\" as E3  <<(T,blue)action def>> [[psysml:e73f4f0e-f2f2-491a-ad18-2354ebab0714 ]] {\r\n",
       "portout \"$result\" as E4  [[psysml:321a5472-f26a-4f44-adf1-e887f248e10c ]] \r\n",
       "portout \"$result\" as E5  [[psysml:249d7fd3-af20-489f-a52b-b6c298227647 ]] \r\n",
       "portin \"dt\" as E6  [[psysml:d9dfe931-1109-47e6-bc0c-352db24577b0 ]] \r\n",
       "portin \"whlpwr\" as E7  [[psysml:44277f67-022c-45f6-9760-98798ee04e09 ]] \r\n",
       "portin \"Cd\" as E8  [[psysml:41d96645-5d65-4e32-85e5-332077e108f6 ]] \r\n",
       "portin \"Cf\" as E9  [[psysml:aebf7dc6-628a-4d75-a952-13ccca53817c ]] \r\n",
       "portin \"tm\" as E10  [[psysml:08dba41b-e930-4b20-afae-ef7ae15f00ec ]] \r\n",
       "portin \"v_in\" as E11  [[psysml:e3f3c5a0-ed9d-41a6-a918-fe4a600fe261 ]] \r\n",
       "portin \"x_in\" as E12  [[psysml:fb3fca97-7004-4d76-8828-7714499f1454 ]] \r\n",
       "portout \"a_out\" as E13  [[psysml:5a710766-56b6-4c7a-9ae9-326b3f7572a8 ]] \r\n",
       "portout \"v_out\" as E14  [[psysml:1e62abd8-4172-4662-8f1c-1e7c30e8c54c ]] \r\n",
       "portout \"x_out\" as E15  [[psysml:e4c640c8-309e-4572-81b1-e78594ed37ec ]] \r\n",
       "}\r\n",
       "\r\n",
       "}\r\n",
       "@enduml\r\n",
       "\n",
       "PlantUML version 1.2020.13(Sat Jun 13 12:26:38 UTC 2020)\n",
       "(EPL source distribution)\n",
       "Java Runtime: OpenJDK Runtime Environment\n",
       "JVM: OpenJDK 64-Bit Server VM\n",
       "Default Encoding: UTF-8\n",
       "Language: en\n",
       "Country: null\n",
       "--></g></svg>"
      ]
     },
     "execution_count": 8,
     "metadata": {},
     "output_type": "execute_result"
    }
   ],
   "source": [
    "%viz --style=\"COMPTREE\" --view=\"MIXED\" \"AnalysisAnnotation\""
   ]
  },
  {
   "cell_type": "code",
   "execution_count": 9,
   "id": "1b89f288",
   "metadata": {
    "execution": {
     "iopub.execute_input": "2021-04-20T07:28:14.253422Z",
     "iopub.status.busy": "2021-04-20T07:28:14.243925Z",
     "iopub.status.idle": "2021-04-20T07:28:14.315624Z",
     "shell.execute_reply": "2021-04-20T07:28:14.313721Z"
    }
   },
   "outputs": [
    {
     "data": {
      "image/svg+xml": [
       "<?xml version=\"1.0\" encoding=\"UTF-8\" standalone=\"no\"?><svg xmlns=\"http://www.w3.org/2000/svg\" xmlns:xlink=\"http://www.w3.org/1999/xlink\" contentScriptType=\"application/ecmascript\" contentStyleType=\"text/css\" height=\"350px\" preserveAspectRatio=\"none\" style=\"width:481px;height:350px;\" version=\"1.1\" viewBox=\"0 0 481 350\" width=\"481px\" zoomAndPan=\"magnify\"><defs/><g><!--MD5=[fbc87193dbaf4d95561dea2c320d4a47]\n",
       "cluster E1--><a href=\"psysml:3f9dd228-0d59-436f-8c66-7bfaf74317e1\" target=\"_top\" title=\"psysml:3f9dd228-0d59-436f-8c66-7bfaf74317e1\" xlink:actuate=\"onRequest\" xlink:href=\"psysml:3f9dd228-0d59-436f-8c66-7bfaf74317e1\" xlink:show=\"new\" xlink:title=\"psysml:3f9dd228-0d59-436f-8c66-7bfaf74317e1\" xlink:type=\"simple\"><polygon fill=\"#FFFFFF\" points=\"16,6,173,6,180,28.2969,459,28.2969,459,338.72,16,338.72,16,6\" style=\"stroke: #000000; stroke-width: 1.5;\"/><line style=\"stroke: #000000; stroke-width: 1.5;\" x1=\"16\" x2=\"180\" y1=\"28.2969\" y2=\"28.2969\"/><text fill=\"#000000\" font-family=\"sans-serif\" font-size=\"14\" font-weight=\"bold\" lengthAdjust=\"spacingAndGlyphs\" textLength=\"151\" x=\"20\" y=\"20.9951\">AnalysisAnnotation</text></a><!--MD5=[d5e69f78d87373223dbae638b30a9c99]\n",
       "cluster E3--><a href=\"psysml:e73f4f0e-f2f2-491a-ad18-2354ebab0714\" target=\"_top\" title=\"psysml:e73f4f0e-f2f2-491a-ad18-2354ebab0714\" xlink:actuate=\"onRequest\" xlink:href=\"psysml:e73f4f0e-f2f2-491a-ad18-2354ebab0714\" xlink:show=\"new\" xlink:title=\"psysml:e73f4f0e-f2f2-491a-ad18-2354ebab0714\" xlink:type=\"simple\"><rect fill=\"#FFFFFF\" height=\"244.72\" id=\"E3\" style=\"stroke: #383838; stroke-width: 1.5;\" width=\"318\" x=\"129\" y=\"64\"/><rect fill=\"#F8F8F8\" height=\"37.9375\" style=\"stroke: #383838; stroke-width: 1.5;\" width=\"318\" x=\"129\" y=\"64\"/><text fill=\"#000000\" font-family=\"sans-serif\" font-size=\"12\" font-style=\"italic\" lengthAdjust=\"spacingAndGlyphs\" textLength=\"77\" x=\"249.5\" y=\"80.1387\">«action def»</text><text fill=\"#000000\" font-family=\"sans-serif\" font-size=\"12\" lengthAdjust=\"spacingAndGlyphs\" textLength=\"115\" x=\"230.5\" y=\"94.1074\">ComputeDynamics</text></a><!--MD5=[b4997ac47864f28c2f74865a473b2911]\n",
       "class E2--><a href=\"psysml:44eddca9-682f-4ef7-a7c7-a9f194d7f2c9\" target=\"_top\" title=\"psysml:44eddca9-682f-4ef7-a7c7-a9f194d7f2c9\" xlink:actuate=\"onRequest\" xlink:href=\"psysml:44eddca9-682f-4ef7-a7c7-a9f194d7f2c9\" xlink:show=\"new\" xlink:title=\"psysml:44eddca9-682f-4ef7-a7c7-a9f194d7f2c9\" xlink:type=\"simple\"><rect fill=\"#FFFFFF\" height=\"45.9375\" id=\"E2\" style=\"stroke: #383838; stroke-width: 1.5;\" width=\"74\" x=\"32\" y=\"41\"/><text fill=\"#000000\" font-family=\"sans-serif\" font-size=\"12\" font-style=\"italic\" lengthAdjust=\"spacingAndGlyphs\" textLength=\"72\" x=\"33\" y=\"57.1387\">«dataType»</text><text fill=\"#000000\" font-family=\"sans-serif\" font-size=\"12\" lengthAdjust=\"spacingAndGlyphs\" textLength=\"27\" x=\"55.5\" y=\"71.1074\">Real</text><line style=\"stroke: #383838; stroke-width: 1.5;\" x1=\"33\" x2=\"105\" y1=\"78.9375\" y2=\"78.9375\"/></a><text fill=\"#000000\" font-family=\"sans-serif\" font-size=\"14\" lengthAdjust=\"spacingAndGlyphs\" textLength=\"48\" x=\"169\" y=\"327.7151\">$result</text><rect fill=\"#383838\" height=\"12\" style=\"stroke: #F8F8F8; stroke-width: 1.5;\" width=\"12\" x=\"187\" y=\"302.72\"/><text fill=\"#000000\" font-family=\"sans-serif\" font-size=\"14\" lengthAdjust=\"spacingAndGlyphs\" textLength=\"48\" x=\"216\" y=\"327.7151\">$result</text><rect fill=\"#383838\" height=\"12\" style=\"stroke: #F8F8F8; stroke-width: 1.5;\" width=\"12\" x=\"234\" y=\"302.72\"/><text fill=\"#000000\" font-family=\"sans-serif\" font-size=\"14\" lengthAdjust=\"spacingAndGlyphs\" textLength=\"14\" x=\"140\" y=\"42.6982\">dt</text><rect fill=\"#383838\" height=\"12\" style=\"stroke: #F8F8F8; stroke-width: 1.5;\" width=\"12\" x=\"141\" y=\"58\"/><text fill=\"#000000\" font-family=\"sans-serif\" font-size=\"14\" lengthAdjust=\"spacingAndGlyphs\" textLength=\"48\" x=\"170\" y=\"42.6982\">whlpwr</text><rect fill=\"#383838\" height=\"12\" style=\"stroke: #F8F8F8; stroke-width: 1.5;\" width=\"12\" x=\"188\" y=\"58\"/><text fill=\"#000000\" font-family=\"sans-serif\" font-size=\"14\" lengthAdjust=\"spacingAndGlyphs\" textLength=\"19\" x=\"231.5\" y=\"42.6982\">Cd</text><rect fill=\"#383838\" height=\"12\" style=\"stroke: #F8F8F8; stroke-width: 1.5;\" width=\"12\" x=\"235\" y=\"58\"/><text fill=\"#000000\" font-family=\"sans-serif\" font-size=\"14\" lengthAdjust=\"spacingAndGlyphs\" textLength=\"14\" x=\"281\" y=\"42.6982\">Cf</text><rect fill=\"#383838\" height=\"12\" style=\"stroke: #F8F8F8; stroke-width: 1.5;\" width=\"12\" x=\"282\" y=\"58\"/><text fill=\"#000000\" font-family=\"sans-serif\" font-size=\"14\" lengthAdjust=\"spacingAndGlyphs\" textLength=\"18\" x=\"326\" y=\"42.6982\">tm</text><rect fill=\"#383838\" height=\"12\" style=\"stroke: #F8F8F8; stroke-width: 1.5;\" width=\"12\" x=\"329\" y=\"58\"/><text fill=\"#000000\" font-family=\"sans-serif\" font-size=\"14\" lengthAdjust=\"spacingAndGlyphs\" textLength=\"26\" x=\"369\" y=\"42.6982\">v_in</text><rect fill=\"#383838\" height=\"12\" style=\"stroke: #F8F8F8; stroke-width: 1.5;\" width=\"12\" x=\"376\" y=\"58\"/><text fill=\"#000000\" font-family=\"sans-serif\" font-size=\"14\" lengthAdjust=\"spacingAndGlyphs\" textLength=\"26\" x=\"416\" y=\"42.6982\">x_in</text><rect fill=\"#383838\" height=\"12\" style=\"stroke: #F8F8F8; stroke-width: 1.5;\" width=\"12\" x=\"423\" y=\"58\"/><text fill=\"#000000\" font-family=\"sans-serif\" font-size=\"14\" lengthAdjust=\"spacingAndGlyphs\" textLength=\"38\" x=\"268\" y=\"327.7151\">a_out</text><rect fill=\"#383838\" height=\"12\" style=\"stroke: #F8F8F8; stroke-width: 1.5;\" width=\"12\" x=\"281\" y=\"302.72\"/><text fill=\"#000000\" font-family=\"sans-serif\" font-size=\"14\" lengthAdjust=\"spacingAndGlyphs\" textLength=\"37\" x=\"315.5\" y=\"327.7151\">v_out</text><rect fill=\"#383838\" height=\"12\" style=\"stroke: #F8F8F8; stroke-width: 1.5;\" width=\"12\" x=\"328\" y=\"302.72\"/><text fill=\"#000000\" font-family=\"sans-serif\" font-size=\"14\" lengthAdjust=\"spacingAndGlyphs\" textLength=\"37\" x=\"362.5\" y=\"327.7151\">x_out</text><rect fill=\"#383838\" height=\"12\" style=\"stroke: #F8F8F8; stroke-width: 1.5;\" width=\"12\" x=\"375\" y=\"302.72\"/><!--MD5=[10f34e5908bd6dde7b5d50369114fb14]\n",
       "@startuml\r\n",
       "skinparam linetype polyline\r\n",
       "skinparam monochrome true\r\n",
       "skinparam classbackgroundcolor white\r\n",
       "skinparam shadowing false\r\n",
       "skinparam wrapWidth 300\r\n",
       "hide circle\r\n",
       "\r\n",
       "package \"AnalysisAnnotation\" as E1  [[psysml:3f9dd228-0d59-436f-8c66-7bfaf74317e1 ]]  {\r\n",
       "comp def \"Real\" as E2  <<(T,blue)dataType>> [[psysml:44eddca9-682f-4ef7-a7c7-a9f194d7f2c9 ]] {\r\n",
       "}\r\n",
       "rec def \"ComputeDynamics\" as E3  <<(T,blue)action def>> [[psysml:e73f4f0e-f2f2-491a-ad18-2354ebab0714 ]] {\r\n",
       "portout \"$result\" as E4  [[psysml:321a5472-f26a-4f44-adf1-e887f248e10c ]] \r\n",
       "portout \"$result\" as E5  [[psysml:249d7fd3-af20-489f-a52b-b6c298227647 ]] \r\n",
       "portin \"dt\" as E6  [[psysml:d9dfe931-1109-47e6-bc0c-352db24577b0 ]] \r\n",
       "portin \"whlpwr\" as E7  [[psysml:44277f67-022c-45f6-9760-98798ee04e09 ]] \r\n",
       "portin \"Cd\" as E8  [[psysml:41d96645-5d65-4e32-85e5-332077e108f6 ]] \r\n",
       "portin \"Cf\" as E9  [[psysml:aebf7dc6-628a-4d75-a952-13ccca53817c ]] \r\n",
       "portin \"tm\" as E10  [[psysml:08dba41b-e930-4b20-afae-ef7ae15f00ec ]] \r\n",
       "portin \"v_in\" as E11  [[psysml:e3f3c5a0-ed9d-41a6-a918-fe4a600fe261 ]] \r\n",
       "portin \"x_in\" as E12  [[psysml:fb3fca97-7004-4d76-8828-7714499f1454 ]] \r\n",
       "portout \"a_out\" as E13  [[psysml:5a710766-56b6-4c7a-9ae9-326b3f7572a8 ]] \r\n",
       "portout \"v_out\" as E14  [[psysml:1e62abd8-4172-4662-8f1c-1e7c30e8c54c ]] \r\n",
       "portout \"x_out\" as E15  [[psysml:e4c640c8-309e-4572-81b1-e78594ed37ec ]] \r\n",
       "}\r\n",
       "\r\n",
       "}\r\n",
       "@enduml\r\n",
       "\n",
       "PlantUML version 1.2020.13(Sat Jun 13 12:26:38 UTC 2020)\n",
       "(EPL source distribution)\n",
       "Java Runtime: OpenJDK Runtime Environment\n",
       "JVM: OpenJDK 64-Bit Server VM\n",
       "Default Encoding: UTF-8\n",
       "Language: en\n",
       "Country: null\n",
       "--></g></svg>"
      ]
     },
     "execution_count": 9,
     "metadata": {},
     "output_type": "execute_result"
    }
   ],
   "source": [
    "%viz --style=\"POLYLINE\" --view=\"Default\" \"AnalysisAnnotation\""
   ]
  },
  {
   "cell_type": "code",
   "execution_count": 10,
   "id": "55718dec",
   "metadata": {
    "execution": {
     "iopub.execute_input": "2021-04-20T07:28:14.367529Z",
     "iopub.status.busy": "2021-04-20T07:28:14.366893Z",
     "iopub.status.idle": "2021-04-20T07:28:14.615796Z",
     "shell.execute_reply": "2021-04-20T07:28:14.615315Z"
    }
   },
   "outputs": [
    {
     "data": {
      "image/svg+xml": [
       "<?xml version=\"1.0\" encoding=\"UTF-8\" standalone=\"no\"?><svg xmlns=\"http://www.w3.org/2000/svg\" xmlns:xlink=\"http://www.w3.org/1999/xlink\" contentScriptType=\"application/ecmascript\" contentStyleType=\"text/css\" height=\"472px\" preserveAspectRatio=\"none\" style=\"width:357px;height:472px;\" version=\"1.1\" viewBox=\"0 0 357 472\" width=\"357px\" zoomAndPan=\"magnify\"><defs/><g><!--MD5=[fbc87193dbaf4d95561dea2c320d4a47]\n",
       "cluster E1--><a href=\"psysml:3f9dd228-0d59-436f-8c66-7bfaf74317e1\" target=\"_top\" title=\"psysml:3f9dd228-0d59-436f-8c66-7bfaf74317e1\" xlink:actuate=\"onRequest\" xlink:href=\"psysml:3f9dd228-0d59-436f-8c66-7bfaf74317e1\" xlink:show=\"new\" xlink:title=\"psysml:3f9dd228-0d59-436f-8c66-7bfaf74317e1\" xlink:type=\"simple\"><polygon fill=\"#FFFFFF\" points=\"16,6,173,6,180,28.2969,335,28.2969,335,460,16,460,16,6\" style=\"stroke: #000000; stroke-width: 1.5;\"/><line style=\"stroke: #000000; stroke-width: 1.5;\" x1=\"16\" x2=\"180\" y1=\"28.2969\" y2=\"28.2969\"/><text fill=\"#000000\" font-family=\"sans-serif\" font-size=\"14\" font-weight=\"bold\" lengthAdjust=\"spacingAndGlyphs\" textLength=\"151\" x=\"20\" y=\"20.9951\">AnalysisAnnotation</text></a><!--MD5=[b4997ac47864f28c2f74865a473b2911]\n",
       "class E2--><a href=\"psysml:44eddca9-682f-4ef7-a7c7-a9f194d7f2c9\" target=\"_top\" title=\"psysml:44eddca9-682f-4ef7-a7c7-a9f194d7f2c9\" xlink:actuate=\"onRequest\" xlink:href=\"psysml:44eddca9-682f-4ef7-a7c7-a9f194d7f2c9\" xlink:show=\"new\" xlink:title=\"psysml:44eddca9-682f-4ef7-a7c7-a9f194d7f2c9\" xlink:type=\"simple\"><rect fill=\"#FFFFFF\" height=\"45.9375\" id=\"E2\" style=\"stroke: #383838; stroke-width: 1.5;\" width=\"74\" x=\"238\" y=\"113.5\"/><text fill=\"#000000\" font-family=\"sans-serif\" font-size=\"12\" font-style=\"italic\" lengthAdjust=\"spacingAndGlyphs\" textLength=\"72\" x=\"239\" y=\"129.6387\">«dataType»</text><text fill=\"#000000\" font-family=\"sans-serif\" font-size=\"12\" lengthAdjust=\"spacingAndGlyphs\" textLength=\"27\" x=\"261.5\" y=\"143.6074\">Real</text><line style=\"stroke: #383838; stroke-width: 1.5;\" x1=\"239\" x2=\"311\" y1=\"151.4375\" y2=\"151.4375\"/></a><!--MD5=[09b614a08d8cba4a07c9adeb5e0fee81]\n",
       "class E3--><a href=\"psysml:e73f4f0e-f2f2-491a-ad18-2354ebab0714\" target=\"_top\" title=\"psysml:e73f4f0e-f2f2-491a-ad18-2354ebab0714\" xlink:actuate=\"onRequest\" xlink:href=\"psysml:e73f4f0e-f2f2-491a-ad18-2354ebab0714\" xlink:show=\"new\" xlink:title=\"psysml:e73f4f0e-f2f2-491a-ad18-2354ebab0714\" xlink:type=\"simple\"><rect fill=\"#FFFFFF\" height=\"190.7891\" id=\"E3\" style=\"stroke: #383838; stroke-width: 1.5;\" width=\"151\" x=\"38.5\" y=\"41\"/><text fill=\"#000000\" font-family=\"sans-serif\" font-size=\"12\" font-style=\"italic\" lengthAdjust=\"spacingAndGlyphs\" textLength=\"77\" x=\"75.5\" y=\"57.1387\">«action def»</text><text fill=\"#000000\" font-family=\"sans-serif\" font-size=\"12\" lengthAdjust=\"spacingAndGlyphs\" textLength=\"115\" x=\"56.5\" y=\"71.1074\">ComputeDynamics</text><line style=\"stroke: #383838; stroke-width: 1.5;\" x1=\"39.5\" x2=\"188.5\" y1=\"78.9375\" y2=\"78.9375\"/><text fill=\"#000000\" font-family=\"sans-serif\" font-size=\"11\" lengthAdjust=\"spacingAndGlyphs\" textLength=\"47\" x=\"44.5\" y=\"109.9526\">Cd: Real</text><text fill=\"#000000\" font-family=\"sans-serif\" font-size=\"11\" lengthAdjust=\"spacingAndGlyphs\" textLength=\"44\" x=\"44.5\" y=\"122.7573\">Cf: Real</text><text fill=\"#000000\" font-family=\"sans-serif\" font-size=\"11\" lengthAdjust=\"spacingAndGlyphs\" textLength=\"139\" x=\"44.5\" y=\"135.562\">a_out: AccelerationValue</text><text fill=\"#000000\" font-family=\"sans-serif\" font-size=\"11\" lengthAdjust=\"spacingAndGlyphs\" textLength=\"98\" x=\"44.5\" y=\"148.3667\">dt: DurationValue</text><text fill=\"#000000\" font-family=\"sans-serif\" font-size=\"11\" lengthAdjust=\"spacingAndGlyphs\" textLength=\"84\" x=\"44.5\" y=\"161.1714\">tm: MassValue</text><text fill=\"#000000\" font-family=\"sans-serif\" font-size=\"11\" lengthAdjust=\"spacingAndGlyphs\" textLength=\"97\" x=\"44.5\" y=\"173.9761\">v_in: SpeedValue</text><text fill=\"#000000\" font-family=\"sans-serif\" font-size=\"11\" lengthAdjust=\"spacingAndGlyphs\" textLength=\"105\" x=\"44.5\" y=\"186.7808\">v_out: SpeedValue</text><text fill=\"#000000\" font-family=\"sans-serif\" font-size=\"11\" lengthAdjust=\"spacingAndGlyphs\" textLength=\"114\" x=\"44.5\" y=\"199.5854\">whlpwr: PowerValue</text><text fill=\"#000000\" font-family=\"sans-serif\" font-size=\"11\" lengthAdjust=\"spacingAndGlyphs\" textLength=\"99\" x=\"44.5\" y=\"212.3901\">x_in: LengthValue</text><text fill=\"#000000\" font-family=\"sans-serif\" font-size=\"11\" lengthAdjust=\"spacingAndGlyphs\" textLength=\"107\" x=\"44.5\" y=\"225.1948\">x_out: LengthValue</text><line style=\"stroke: #383838; stroke-width: 1.0;\" x1=\"39.5\" x2=\"86.5\" y1=\"93.3398\" y2=\"93.3398\"/><text fill=\"#000000\" font-family=\"sans-serif\" font-size=\"11\" lengthAdjust=\"spacingAndGlyphs\" textLength=\"55\" x=\"86.5\" y=\"96.6479\">attributes</text><line style=\"stroke: #383838; stroke-width: 1.0;\" x1=\"141.5\" x2=\"188.5\" y1=\"93.3398\" y2=\"93.3398\"/></a><!--MD5=[ebbe1d658d1005bcc118a6aa81145e00]\n",
       "class E4--><a href=\"psysml:60a2becf-7a46-4ebd-946f-3a728f7b6aab\" target=\"_top\" title=\"psysml:60a2becf-7a46-4ebd-946f-3a728f7b6aab\" xlink:actuate=\"onRequest\" xlink:href=\"psysml:60a2becf-7a46-4ebd-946f-3a728f7b6aab\" xlink:show=\"new\" xlink:title=\"psysml:60a2becf-7a46-4ebd-946f-3a728f7b6aab\" xlink:type=\"simple\"><rect fill=\"#FFFFFF\" height=\"45.9375\" id=\"E4\" style=\"stroke: #383838; stroke-width: 1.5;\" width=\"152\" x=\"38\" y=\"292\"/><text fill=\"#000000\" font-family=\"sans-serif\" font-size=\"12\" font-style=\"italic\" lengthAdjust=\"spacingAndGlyphs\" textLength=\"132\" x=\"48\" y=\"308.1387\">«annotatingFeature»</text><text fill=\"#000000\" font-family=\"sans-serif\" font-size=\"12\" lengthAdjust=\"spacingAndGlyphs\" text-decoration=\"line-through\" textLength=\"51\" x=\"41\" y=\"322.1074\">noname</text><text fill=\"#000000\" font-family=\"sans-serif\" font-size=\"12\" lengthAdjust=\"spacingAndGlyphs\" textLength=\"95\" x=\"92\" y=\"322.1074\">: ToolExecution</text><line style=\"stroke: #383838; stroke-width: 1.5;\" x1=\"39\" x2=\"189\" y1=\"329.9375\" y2=\"329.9375\"/></a><!--MD5=[270fce915f116d4de14055a7c1d9a0f3]\n",
       "class E5--><a href=\"psysml:b02ba1b2-12c8-4052-9523-3aa0c79993f0\" target=\"_top\" title=\"psysml:b02ba1b2-12c8-4052-9523-3aa0c79993f0\" xlink:actuate=\"onRequest\" xlink:href=\"psysml:b02ba1b2-12c8-4052-9523-3aa0c79993f0\" xlink:show=\"new\" xlink:title=\"psysml:b02ba1b2-12c8-4052-9523-3aa0c79993f0\" xlink:type=\"simple\"><rect fill=\"#FFFFFF\" height=\"45.9375\" id=\"E5\" style=\"stroke: #383838; stroke-width: 1.5;\" width=\"126\" x=\"32\" y=\"398\"/><text fill=\"#000000\" font-family=\"sans-serif\" font-size=\"12\" font-style=\"italic\" lengthAdjust=\"spacingAndGlyphs\" textLength=\"124\" x=\"33\" y=\"414.1387\">«metadataFeature»</text><text fill=\"#000000\" font-family=\"sans-serif\" font-size=\"12\" lengthAdjust=\"spacingAndGlyphs\" textLength=\"60\" x=\"65\" y=\"428.1074\">toolName</text><line style=\"stroke: #383838; stroke-width: 1.5;\" x1=\"33\" x2=\"157\" y1=\"435.9375\" y2=\"435.9375\"/></a><!--MD5=[60a26617385b1d2d0262a64233df1f8d]\n",
       "class E6--><a href=\"psysml:cb4006f5-0e41-4f05-aa2a-a57df33d56ff\" target=\"_top\" title=\"psysml:cb4006f5-0e41-4f05-aa2a-a57df33d56ff\" xlink:actuate=\"onRequest\" xlink:href=\"psysml:cb4006f5-0e41-4f05-aa2a-a57df33d56ff\" xlink:show=\"new\" xlink:title=\"psysml:cb4006f5-0e41-4f05-aa2a-a57df33d56ff\" xlink:type=\"simple\"><rect fill=\"#FFFFFF\" height=\"45.9375\" id=\"E6\" style=\"stroke: #383838; stroke-width: 1.5;\" width=\"126\" x=\"193\" y=\"398\"/><text fill=\"#000000\" font-family=\"sans-serif\" font-size=\"12\" font-style=\"italic\" lengthAdjust=\"spacingAndGlyphs\" textLength=\"124\" x=\"194\" y=\"414.1387\">«metadataFeature»</text><text fill=\"#000000\" font-family=\"sans-serif\" font-size=\"12\" lengthAdjust=\"spacingAndGlyphs\" textLength=\"16\" x=\"248\" y=\"428.1074\">uri</text><line style=\"stroke: #383838; stroke-width: 1.5;\" x1=\"194\" x2=\"318\" y1=\"435.9375\" y2=\"435.9375\"/></a><!--MD5=[4672eba38e49728da53d11aeb285b987]\n",
       "reverse link E3 to E4--><a href=\"psysml:66d6f7e6-2188-4a34-9637-6b4b270c496c\" target=\"_top\" title=\"psysml:66d6f7e6-2188-4a34-9637-6b4b270c496c\" xlink:actuate=\"onRequest\" xlink:href=\"psysml:66d6f7e6-2188-4a34-9637-6b4b270c496c\" xlink:show=\"new\" xlink:title=\"psysml:66d6f7e6-2188-4a34-9637-6b4b270c496c\" xlink:type=\"simple\"><path d=\"M114,247.28 C114,264.19 114,279.97 114,291.94 \" fill=\"none\" id=\"E3&lt;-E4\" style=\"stroke: #383838; stroke-width: 1.0;\"/><ellipse cx=\"114\" cy=\"240.21\" fill=\"#FFFFFF\" rx=\"8\" ry=\"8\" style=\"stroke: #383838; stroke-width: 1.0;\"/><line style=\"stroke: #383838; stroke-width: 1.0;\" x1=\"114\" x2=\"114\" y1=\"248.21\" y2=\"232.21\"/><line style=\"stroke: #383838; stroke-width: 1.0;\" x1=\"106\" x2=\"122\" y1=\"240.21\" y2=\"240.21\"/></a><!--MD5=[62aa6af11e70f752912c1cb0466f24f7]\n",
       "reverse link E4 to E5--><a href=\"psysml:4336f8bf-5a73-49a4-a706-8a85ff7218c2\" target=\"_top\" title=\"psysml:4336f8bf-5a73-49a4-a706-8a85ff7218c2\" xlink:actuate=\"onRequest\" xlink:href=\"psysml:4336f8bf-5a73-49a4-a706-8a85ff7218c2\" xlink:show=\"new\" xlink:title=\"psysml:4336f8bf-5a73-49a4-a706-8a85ff7218c2\" xlink:type=\"simple\"><path d=\"M107.61,350.96 C104.77,366.51 101.52,384.33 99.02,397.98 \" fill=\"none\" id=\"E4&lt;-E5\" style=\"stroke: #383838; stroke-width: 1.0;\"/><polygon fill=\"#383838\" points=\"109.97,338.06,104.9597,343.2462,107.8199,349.8658,112.8302,344.6796,109.97,338.06\" style=\"stroke: #383838; stroke-width: 1.0;\"/></a><!--MD5=[6db378b65e1aef66a01cb3103812b399]\n",
       "reverse link E4 to E6--><a href=\"psysml:14217a47-d828-403c-a59e-1cb114a87a2b\" target=\"_top\" title=\"psysml:14217a47-d828-403c-a59e-1cb114a87a2b\" xlink:actuate=\"onRequest\" xlink:href=\"psysml:14217a47-d828-403c-a59e-1cb114a87a2b\" xlink:show=\"new\" xlink:title=\"psysml:14217a47-d828-403c-a59e-1cb114a87a2b\" xlink:type=\"simple\"><path d=\"M154.79,345.88 C177.48,362.49 205.23,382.82 225.93,397.98 \" fill=\"none\" id=\"E4&lt;-E6\" style=\"stroke: #383838; stroke-width: 1.0;\"/><polygon fill=\"#383838\" points=\"144.11,338.06,146.5846,344.8332,153.7885,345.1541,151.314,338.3809,144.11,338.06\" style=\"stroke: #383838; stroke-width: 1.0;\"/></a><!--MD5=[503a03a57c069592c76585e8ed45eebb]\n",
       "@startuml\r\n",
       "skinparam linetype polyline\r\n",
       "skinparam monochrome true\r\n",
       "skinparam classbackgroundcolor white\r\n",
       "skinparam shadowing false\r\n",
       "skinparam wrapWidth 300\r\n",
       "hide circle\r\n",
       "\r\n",
       "package \"AnalysisAnnotation\" as E1  [[psysml:3f9dd228-0d59-436f-8c66-7bfaf74317e1 ]]  {\r\n",
       "comp def \"Real\" as E2  <<(T,blue)dataType>> [[psysml:44eddca9-682f-4ef7-a7c7-a9f194d7f2c9 ]] {\r\n",
       "}\r\n",
       "comp def \"ComputeDynamics\" as E3  <<(T,blue)action def>> [[psysml:e73f4f0e-f2f2-491a-ad18-2354ebab0714 ]] {\r\n",
       "- - attributes - -\r\n",
       "Cd: Real\r\n",
       "Cf: Real\r\n",
       "a_out: AccelerationValue\r\n",
       "dt: DurationValue\r\n",
       "tm: MassValue\r\n",
       "v_in: SpeedValue\r\n",
       "v_out: SpeedValue\r\n",
       "whlpwr: PowerValue\r\n",
       "x_in: LengthValue\r\n",
       "x_out: LengthValue\r\n",
       "}\r\n",
       "comp def \"<s>noname</s>: ToolExecution\" as E4  <<(T,blue)annotatingFeature>> [[psysml:60a2becf-7a46-4ebd-946f-3a728f7b6aab ]] {\r\n",
       "}\r\n",
       "comp def \"toolName\" as E5  <<(T,blue)metadataFeature>> [[psysml:b02ba1b2-12c8-4052-9523-3aa0c79993f0 ]] {\r\n",
       "}\r\n",
       "comp def \"uri\" as E6  <<(T,blue)metadataFeature>> [[psysml:cb4006f5-0e41-4f05-aa2a-a57df33d56ff ]] {\r\n",
       "}\r\n",
       "E3 +- - E4 [[psysml:66d6f7e6-2188-4a34-9637-6b4b270c496c ]] \r\n",
       "E4 *- - E5 [[psysml:4336f8bf-5a73-49a4-a706-8a85ff7218c2 ]] \r\n",
       "E4 *- - E6 [[psysml:14217a47-d828-403c-a59e-1cb114a87a2b ]] \r\n",
       "}\r\n",
       "@enduml\r\n",
       "\n",
       "PlantUML version 1.2020.13(Sat Jun 13 12:26:38 UTC 2020)\n",
       "(EPL source distribution)\n",
       "Java Runtime: OpenJDK Runtime Environment\n",
       "JVM: OpenJDK 64-Bit Server VM\n",
       "Default Encoding: UTF-8\n",
       "Language: en\n",
       "Country: null\n",
       "--></g></svg>"
      ]
     },
     "execution_count": 10,
     "metadata": {},
     "output_type": "execute_result"
    }
   ],
   "source": [
    "%viz --style=\"POLYLINE\" --view=\"Tree\" \"AnalysisAnnotation\""
   ]
  },
  {
   "cell_type": "code",
   "execution_count": 11,
   "id": "8a2479b2",
   "metadata": {
    "execution": {
     "iopub.execute_input": "2021-04-20T07:28:14.671007Z",
     "iopub.status.busy": "2021-04-20T07:28:14.669371Z",
     "iopub.status.idle": "2021-04-20T07:28:14.682820Z",
     "shell.execute_reply": "2021-04-20T07:28:14.683266Z"
    }
   },
   "outputs": [
    {
     "data": {
      "image/svg+xml": [
       "<?xml version=\"1.0\" encoding=\"UTF-8\" standalone=\"no\"?><svg xmlns=\"http://www.w3.org/2000/svg\" xmlns:xlink=\"http://www.w3.org/1999/xlink\" contentScriptType=\"application/ecmascript\" contentStyleType=\"text/css\" height=\"12px\" preserveAspectRatio=\"none\" style=\"width:12px;height:12px;\" version=\"1.1\" viewBox=\"0 0 12 12\" width=\"12px\" zoomAndPan=\"magnify\"><defs/><g><!--MD5=[896ac0e7a515d8dd7765a661cb4ee08b]\n",
       "@startuml\r\n",
       "skinparam linetype polyline\r\n",
       "skinparam monochrome true\r\n",
       "skinparam classbackgroundcolor white\r\n",
       "skinparam shadowing false\r\n",
       "skinparam wrapWidth 300\r\n",
       "hide circle\r\n",
       "\r\n",
       "@enduml\r\n",
       "\n",
       "PlantUML version 1.2020.13(Sat Jun 13 12:26:38 UTC 2020)\n",
       "(EPL source distribution)\n",
       "Java Runtime: OpenJDK Runtime Environment\n",
       "JVM: OpenJDK 64-Bit Server VM\n",
       "Default Encoding: UTF-8\n",
       "Language: en\n",
       "Country: null\n",
       "--></g></svg>"
      ]
     },
     "execution_count": 11,
     "metadata": {},
     "output_type": "execute_result"
    }
   ],
   "source": [
    "%viz --style=\"POLYLINE\" --view=\"State\" \"AnalysisAnnotation\""
   ]
  },
  {
   "cell_type": "code",
   "execution_count": 12,
   "id": "236f5afc",
   "metadata": {
    "execution": {
     "iopub.execute_input": "2021-04-20T07:28:14.737166Z",
     "iopub.status.busy": "2021-04-20T07:28:14.735820Z",
     "iopub.status.idle": "2021-04-20T07:28:14.801542Z",
     "shell.execute_reply": "2021-04-20T07:28:14.800491Z"
    }
   },
   "outputs": [
    {
     "data": {
      "image/svg+xml": [
       "<?xml version=\"1.0\" encoding=\"UTF-8\" standalone=\"no\"?><svg xmlns=\"http://www.w3.org/2000/svg\" xmlns:xlink=\"http://www.w3.org/1999/xlink\" contentScriptType=\"application/ecmascript\" contentStyleType=\"text/css\" height=\"209px\" preserveAspectRatio=\"none\" style=\"width:486px;height:209px;\" version=\"1.1\" viewBox=\"0 0 486 209\" width=\"486px\" zoomAndPan=\"magnify\"><defs/><g><!--MD5=[fbc87193dbaf4d95561dea2c320d4a47]\n",
       "cluster E1--><a href=\"psysml:3f9dd228-0d59-436f-8c66-7bfaf74317e1\" target=\"_top\" title=\"psysml:3f9dd228-0d59-436f-8c66-7bfaf74317e1\" xlink:actuate=\"onRequest\" xlink:href=\"psysml:3f9dd228-0d59-436f-8c66-7bfaf74317e1\" xlink:show=\"new\" xlink:title=\"psysml:3f9dd228-0d59-436f-8c66-7bfaf74317e1\" xlink:type=\"simple\"><polygon fill=\"#FFFFFF\" points=\"16,6,173,6,180,28.2969,464,28.2969,464,197.72,16,197.72,16,6\" style=\"stroke: #000000; stroke-width: 1.5;\"/><line style=\"stroke: #000000; stroke-width: 1.5;\" x1=\"16\" x2=\"180\" y1=\"28.2969\" y2=\"28.2969\"/><text fill=\"#000000\" font-family=\"sans-serif\" font-size=\"14\" font-weight=\"bold\" lengthAdjust=\"spacingAndGlyphs\" textLength=\"151\" x=\"20\" y=\"20.9951\">AnalysisAnnotation</text></a><!--MD5=[d5e69f78d87373223dbae638b30a9c99]\n",
       "cluster E3--><a href=\"psysml:e73f4f0e-f2f2-491a-ad18-2354ebab0714\" target=\"_top\" title=\"psysml:e73f4f0e-f2f2-491a-ad18-2354ebab0714\" xlink:actuate=\"onRequest\" xlink:href=\"psysml:e73f4f0e-f2f2-491a-ad18-2354ebab0714\" xlink:show=\"new\" xlink:title=\"psysml:e73f4f0e-f2f2-491a-ad18-2354ebab0714\" xlink:type=\"simple\"><rect fill=\"#FFFFFF\" height=\"105.22\" id=\"E3\" style=\"stroke: #383838; stroke-width: 1.5;\" width=\"318\" x=\"134\" y=\"62.5\"/><rect fill=\"#F8F8F8\" height=\"37.9375\" style=\"stroke: #383838; stroke-width: 1.5;\" width=\"318\" x=\"134\" y=\"62.5\"/><text fill=\"#000000\" font-family=\"sans-serif\" font-size=\"12\" font-style=\"italic\" lengthAdjust=\"spacingAndGlyphs\" textLength=\"77\" x=\"254.5\" y=\"78.6387\">«action def»</text><text fill=\"#000000\" font-family=\"sans-serif\" font-size=\"12\" lengthAdjust=\"spacingAndGlyphs\" textLength=\"115\" x=\"235.5\" y=\"92.6074\">ComputeDynamics</text></a><g id=\"E1.E2\"><a href=\"psysml:44eddca9-682f-4ef7-a7c7-a9f194d7f2c9\" target=\"_top\" title=\"psysml:44eddca9-682f-4ef7-a7c7-a9f194d7f2c9\" xlink:actuate=\"onRequest\" xlink:href=\"psysml:44eddca9-682f-4ef7-a7c7-a9f194d7f2c9\" xlink:show=\"new\" xlink:title=\"psysml:44eddca9-682f-4ef7-a7c7-a9f194d7f2c9\" xlink:type=\"simple\"><rect fill=\"#FFFFFF\" height=\"42.9375\" id=\"E2\" style=\"stroke: #383838; stroke-width: 1.5;\" width=\"79\" x=\"31.5\" y=\"41\"/><rect fill=\"#F8F8F8\" height=\"37.9375\" style=\"stroke: #383838; stroke-width: 1.5;\" width=\"79\" x=\"31.5\" y=\"41\"/><text fill=\"#000000\" font-family=\"sans-serif\" font-size=\"12\" font-style=\"italic\" lengthAdjust=\"spacingAndGlyphs\" textLength=\"72\" x=\"35\" y=\"57.1387\">«dataType»</text><text fill=\"#000000\" font-family=\"sans-serif\" font-size=\"12\" lengthAdjust=\"spacingAndGlyphs\" textLength=\"27\" x=\"57.5\" y=\"71.1074\">Real</text></a></g><text fill=\"#000000\" font-family=\"sans-serif\" font-size=\"14\" lengthAdjust=\"spacingAndGlyphs\" textLength=\"48\" x=\"174\" y=\"186.7151\">$result</text><rect fill=\"#383838\" height=\"12\" style=\"stroke: #F8F8F8; stroke-width: 1.5;\" width=\"12\" x=\"192\" y=\"161.72\"/><text fill=\"#000000\" font-family=\"sans-serif\" font-size=\"14\" lengthAdjust=\"spacingAndGlyphs\" textLength=\"48\" x=\"221\" y=\"186.7151\">$result</text><rect fill=\"#383838\" height=\"12\" style=\"stroke: #F8F8F8; stroke-width: 1.5;\" width=\"12\" x=\"239\" y=\"161.72\"/><text fill=\"#000000\" font-family=\"sans-serif\" font-size=\"14\" lengthAdjust=\"spacingAndGlyphs\" textLength=\"14\" x=\"145\" y=\"41.1982\">dt</text><rect fill=\"#383838\" height=\"12\" style=\"stroke: #F8F8F8; stroke-width: 1.5;\" width=\"12\" x=\"146\" y=\"56.5\"/><text fill=\"#000000\" font-family=\"sans-serif\" font-size=\"14\" lengthAdjust=\"spacingAndGlyphs\" textLength=\"48\" x=\"175\" y=\"41.1982\">whlpwr</text><rect fill=\"#383838\" height=\"12\" style=\"stroke: #F8F8F8; stroke-width: 1.5;\" width=\"12\" x=\"193\" y=\"56.5\"/><text fill=\"#000000\" font-family=\"sans-serif\" font-size=\"14\" lengthAdjust=\"spacingAndGlyphs\" textLength=\"19\" x=\"236.5\" y=\"41.1982\">Cd</text><rect fill=\"#383838\" height=\"12\" style=\"stroke: #F8F8F8; stroke-width: 1.5;\" width=\"12\" x=\"240\" y=\"56.5\"/><text fill=\"#000000\" font-family=\"sans-serif\" font-size=\"14\" lengthAdjust=\"spacingAndGlyphs\" textLength=\"14\" x=\"286\" y=\"41.1982\">Cf</text><rect fill=\"#383838\" height=\"12\" style=\"stroke: #F8F8F8; stroke-width: 1.5;\" width=\"12\" x=\"287\" y=\"56.5\"/><text fill=\"#000000\" font-family=\"sans-serif\" font-size=\"14\" lengthAdjust=\"spacingAndGlyphs\" textLength=\"18\" x=\"331\" y=\"41.1982\">tm</text><rect fill=\"#383838\" height=\"12\" style=\"stroke: #F8F8F8; stroke-width: 1.5;\" width=\"12\" x=\"334\" y=\"56.5\"/><text fill=\"#000000\" font-family=\"sans-serif\" font-size=\"14\" lengthAdjust=\"spacingAndGlyphs\" textLength=\"26\" x=\"374\" y=\"41.1982\">v_in</text><rect fill=\"#383838\" height=\"12\" style=\"stroke: #F8F8F8; stroke-width: 1.5;\" width=\"12\" x=\"381\" y=\"56.5\"/><text fill=\"#000000\" font-family=\"sans-serif\" font-size=\"14\" lengthAdjust=\"spacingAndGlyphs\" textLength=\"26\" x=\"421\" y=\"41.1982\">x_in</text><rect fill=\"#383838\" height=\"12\" style=\"stroke: #F8F8F8; stroke-width: 1.5;\" width=\"12\" x=\"428\" y=\"56.5\"/><text fill=\"#000000\" font-family=\"sans-serif\" font-size=\"14\" lengthAdjust=\"spacingAndGlyphs\" textLength=\"38\" x=\"273\" y=\"186.7151\">a_out</text><rect fill=\"#383838\" height=\"12\" style=\"stroke: #F8F8F8; stroke-width: 1.5;\" width=\"12\" x=\"286\" y=\"161.72\"/><text fill=\"#000000\" font-family=\"sans-serif\" font-size=\"14\" lengthAdjust=\"spacingAndGlyphs\" textLength=\"37\" x=\"320.5\" y=\"186.7151\">v_out</text><rect fill=\"#383838\" height=\"12\" style=\"stroke: #F8F8F8; stroke-width: 1.5;\" width=\"12\" x=\"333\" y=\"161.72\"/><text fill=\"#000000\" font-family=\"sans-serif\" font-size=\"14\" lengthAdjust=\"spacingAndGlyphs\" textLength=\"37\" x=\"367.5\" y=\"186.7151\">x_out</text><rect fill=\"#383838\" height=\"12\" style=\"stroke: #F8F8F8; stroke-width: 1.5;\" width=\"12\" x=\"380\" y=\"161.72\"/><!--MD5=[45eab83aaefe96e7dbcff60e70e092f7]\n",
       "@startuml\r\n",
       "skinparam ranksep 10\r\n",
       "skinparam rectangle {\r\n",
       " backgroundColor<<block>> LightGreen\r\n",
       "}\r\n",
       "skinparam linetype polyline\r\n",
       "skinparam monochrome true\r\n",
       "skinparam classbackgroundcolor white\r\n",
       "skinparam shadowing false\r\n",
       "skinparam wrapWidth 300\r\n",
       "hide circle\r\n",
       "\r\n",
       "package \"AnalysisAnnotation\" as E1  [[psysml:3f9dd228-0d59-436f-8c66-7bfaf74317e1 ]]  {\r\n",
       "def \"Real\" as E2  <<(T,blue)dataType>> [[psysml:44eddca9-682f-4ef7-a7c7-a9f194d7f2c9 ]] \r\n",
       "rec def \"ComputeDynamics\" as E3  <<(T,blue)action def>> [[psysml:e73f4f0e-f2f2-491a-ad18-2354ebab0714 ]] {\r\n",
       "portout \"$result\" as E4  [[psysml:321a5472-f26a-4f44-adf1-e887f248e10c ]] \r\n",
       "portout \"$result\" as E5  [[psysml:249d7fd3-af20-489f-a52b-b6c298227647 ]] \r\n",
       "portin \"dt\" as E6  [[psysml:d9dfe931-1109-47e6-bc0c-352db24577b0 ]] \r\n",
       "portin \"whlpwr\" as E7  [[psysml:44277f67-022c-45f6-9760-98798ee04e09 ]] \r\n",
       "portin \"Cd\" as E8  [[psysml:41d96645-5d65-4e32-85e5-332077e108f6 ]] \r\n",
       "portin \"Cf\" as E9  [[psysml:aebf7dc6-628a-4d75-a952-13ccca53817c ]] \r\n",
       "portin \"tm\" as E10  [[psysml:08dba41b-e930-4b20-afae-ef7ae15f00ec ]] \r\n",
       "portin \"v_in\" as E11  [[psysml:e3f3c5a0-ed9d-41a6-a918-fe4a600fe261 ]] \r\n",
       "portin \"x_in\" as E12  [[psysml:fb3fca97-7004-4d76-8828-7714499f1454 ]] \r\n",
       "portout \"a_out\" as E13  [[psysml:5a710766-56b6-4c7a-9ae9-326b3f7572a8 ]] \r\n",
       "portout \"v_out\" as E14  [[psysml:1e62abd8-4172-4662-8f1c-1e7c30e8c54c ]] \r\n",
       "portout \"x_out\" as E15  [[psysml:e4c640c8-309e-4572-81b1-e78594ed37ec ]] \r\n",
       "}\r\n",
       "\r\n",
       "}\r\n",
       "@enduml\r\n",
       "\n",
       "PlantUML version 1.2020.13(Sat Jun 13 12:26:38 UTC 2020)\n",
       "(EPL source distribution)\n",
       "Java Runtime: OpenJDK Runtime Environment\n",
       "JVM: OpenJDK 64-Bit Server VM\n",
       "Default Encoding: UTF-8\n",
       "Language: en\n",
       "Country: null\n",
       "--></g></svg>"
      ]
     },
     "execution_count": 12,
     "metadata": {},
     "output_type": "execute_result"
    }
   ],
   "source": [
    "%viz --style=\"POLYLINE\" --view=\"Interconnection\" \"AnalysisAnnotation\""
   ]
  },
  {
   "cell_type": "code",
   "execution_count": 13,
   "id": "548d3594",
   "metadata": {
    "execution": {
     "iopub.execute_input": "2021-04-20T07:28:14.854196Z",
     "iopub.status.busy": "2021-04-20T07:28:14.853236Z",
     "iopub.status.idle": "2021-04-20T07:28:14.920148Z",
     "shell.execute_reply": "2021-04-20T07:28:14.918843Z"
    }
   },
   "outputs": [
    {
     "data": {
      "image/svg+xml": [
       "<?xml version=\"1.0\" encoding=\"UTF-8\" standalone=\"no\"?><svg xmlns=\"http://www.w3.org/2000/svg\" xmlns:xlink=\"http://www.w3.org/1999/xlink\" contentScriptType=\"application/ecmascript\" contentStyleType=\"text/css\" height=\"162px\" preserveAspectRatio=\"none\" style=\"width:336px;height:162px;\" version=\"1.1\" viewBox=\"0 0 336 162\" width=\"336px\" zoomAndPan=\"magnify\"><defs/><g><!--MD5=[fbc87193dbaf4d95561dea2c320d4a47]\n",
       "cluster E1--><a href=\"psysml:e73f4f0e-f2f2-491a-ad18-2354ebab0714\" target=\"_top\" title=\"psysml:e73f4f0e-f2f2-491a-ad18-2354ebab0714\" xlink:actuate=\"onRequest\" xlink:href=\"psysml:e73f4f0e-f2f2-491a-ad18-2354ebab0714\" xlink:show=\"new\" xlink:title=\"psysml:e73f4f0e-f2f2-491a-ad18-2354ebab0714\" xlink:type=\"simple\"><rect fill=\"#FFFFFF\" height=\"87.72\" id=\"E1\" style=\"stroke: #383838; stroke-width: 1.5;\" width=\"318\" x=\"7\" y=\"42.0986\"/><rect fill=\"#F8F8F8\" height=\"37.9375\" style=\"stroke: #383838; stroke-width: 1.5;\" width=\"318\" x=\"7\" y=\"42.0986\"/><text fill=\"#000000\" font-family=\"sans-serif\" font-size=\"12\" font-style=\"italic\" lengthAdjust=\"spacingAndGlyphs\" textLength=\"77\" x=\"127.5\" y=\"58.2373\">«action def»</text><text fill=\"#000000\" font-family=\"sans-serif\" font-size=\"12\" lengthAdjust=\"spacingAndGlyphs\" textLength=\"115\" x=\"108.5\" y=\"72.2061\">ComputeDynamics</text></a><text fill=\"#000000\" font-family=\"sans-serif\" font-size=\"14\" lengthAdjust=\"spacingAndGlyphs\" textLength=\"48\" x=\"47\" y=\"148.8138\">$result</text><rect fill=\"#383838\" height=\"12\" style=\"stroke: #F8F8F8; stroke-width: 1.5;\" width=\"12\" x=\"65\" y=\"123.8186\"/><text fill=\"#000000\" font-family=\"sans-serif\" font-size=\"14\" lengthAdjust=\"spacingAndGlyphs\" textLength=\"48\" x=\"94\" y=\"148.8138\">$result</text><rect fill=\"#383838\" height=\"12\" style=\"stroke: #F8F8F8; stroke-width: 1.5;\" width=\"12\" x=\"112\" y=\"123.8186\"/><text fill=\"#000000\" font-family=\"sans-serif\" font-size=\"14\" lengthAdjust=\"spacingAndGlyphs\" textLength=\"14\" x=\"18\" y=\"20.7969\">dt</text><rect fill=\"#383838\" height=\"12\" style=\"stroke: #F8F8F8; stroke-width: 1.5;\" width=\"12\" x=\"19\" y=\"36.0986\"/><text fill=\"#000000\" font-family=\"sans-serif\" font-size=\"14\" lengthAdjust=\"spacingAndGlyphs\" textLength=\"48\" x=\"48\" y=\"20.7969\">whlpwr</text><rect fill=\"#383838\" height=\"12\" style=\"stroke: #F8F8F8; stroke-width: 1.5;\" width=\"12\" x=\"66\" y=\"36.0986\"/><text fill=\"#000000\" font-family=\"sans-serif\" font-size=\"14\" lengthAdjust=\"spacingAndGlyphs\" textLength=\"19\" x=\"109.5\" y=\"20.7969\">Cd</text><rect fill=\"#383838\" height=\"12\" style=\"stroke: #F8F8F8; stroke-width: 1.5;\" width=\"12\" x=\"113\" y=\"36.0986\"/><text fill=\"#000000\" font-family=\"sans-serif\" font-size=\"14\" lengthAdjust=\"spacingAndGlyphs\" textLength=\"14\" x=\"159\" y=\"20.7969\">Cf</text><rect fill=\"#383838\" height=\"12\" style=\"stroke: #F8F8F8; stroke-width: 1.5;\" width=\"12\" x=\"160\" y=\"36.0986\"/><text fill=\"#000000\" font-family=\"sans-serif\" font-size=\"14\" lengthAdjust=\"spacingAndGlyphs\" textLength=\"18\" x=\"204\" y=\"20.7969\">tm</text><rect fill=\"#383838\" height=\"12\" style=\"stroke: #F8F8F8; stroke-width: 1.5;\" width=\"12\" x=\"207\" y=\"36.0986\"/><text fill=\"#000000\" font-family=\"sans-serif\" font-size=\"14\" lengthAdjust=\"spacingAndGlyphs\" textLength=\"26\" x=\"247\" y=\"20.7969\">v_in</text><rect fill=\"#383838\" height=\"12\" style=\"stroke: #F8F8F8; stroke-width: 1.5;\" width=\"12\" x=\"254\" y=\"36.0986\"/><text fill=\"#000000\" font-family=\"sans-serif\" font-size=\"14\" lengthAdjust=\"spacingAndGlyphs\" textLength=\"26\" x=\"294\" y=\"20.7969\">x_in</text><rect fill=\"#383838\" height=\"12\" style=\"stroke: #F8F8F8; stroke-width: 1.5;\" width=\"12\" x=\"301\" y=\"36.0986\"/><text fill=\"#000000\" font-family=\"sans-serif\" font-size=\"14\" lengthAdjust=\"spacingAndGlyphs\" textLength=\"38\" x=\"146\" y=\"148.8138\">a_out</text><rect fill=\"#383838\" height=\"12\" style=\"stroke: #F8F8F8; stroke-width: 1.5;\" width=\"12\" x=\"159\" y=\"123.8186\"/><text fill=\"#000000\" font-family=\"sans-serif\" font-size=\"14\" lengthAdjust=\"spacingAndGlyphs\" textLength=\"37\" x=\"193.5\" y=\"148.8138\">v_out</text><rect fill=\"#383838\" height=\"12\" style=\"stroke: #F8F8F8; stroke-width: 1.5;\" width=\"12\" x=\"206\" y=\"123.8186\"/><text fill=\"#000000\" font-family=\"sans-serif\" font-size=\"14\" lengthAdjust=\"spacingAndGlyphs\" textLength=\"37\" x=\"240.5\" y=\"148.8138\">x_out</text><rect fill=\"#383838\" height=\"12\" style=\"stroke: #F8F8F8; stroke-width: 1.5;\" width=\"12\" x=\"253\" y=\"123.8186\"/><!--MD5=[e57c3f40afc5105f72237fb722a62978]\n",
       "@startuml\r\n",
       "skinparam ranksep 8\r\n",
       "skinparam linetype polyline\r\n",
       "skinparam monochrome true\r\n",
       "skinparam classbackgroundcolor white\r\n",
       "skinparam shadowing false\r\n",
       "skinparam wrapWidth 300\r\n",
       "hide circle\r\n",
       "\r\n",
       "rec def \"ComputeDynamics\" as E1  <<(T,blue)action def>> [[psysml:e73f4f0e-f2f2-491a-ad18-2354ebab0714 ]] {\r\n",
       "portout \"$result\" as E2  [[psysml:321a5472-f26a-4f44-adf1-e887f248e10c ]] \r\n",
       "portout \"$result\" as E3  [[psysml:249d7fd3-af20-489f-a52b-b6c298227647 ]] \r\n",
       "portin \"dt\" as E4  [[psysml:d9dfe931-1109-47e6-bc0c-352db24577b0 ]] \r\n",
       "portin \"whlpwr\" as E5  [[psysml:44277f67-022c-45f6-9760-98798ee04e09 ]] \r\n",
       "portin \"Cd\" as E6  [[psysml:41d96645-5d65-4e32-85e5-332077e108f6 ]] \r\n",
       "portin \"Cf\" as E7  [[psysml:aebf7dc6-628a-4d75-a952-13ccca53817c ]] \r\n",
       "portin \"tm\" as E8  [[psysml:08dba41b-e930-4b20-afae-ef7ae15f00ec ]] \r\n",
       "portin \"v_in\" as E9  [[psysml:e3f3c5a0-ed9d-41a6-a918-fe4a600fe261 ]] \r\n",
       "portin \"x_in\" as E10  [[psysml:fb3fca97-7004-4d76-8828-7714499f1454 ]] \r\n",
       "portout \"a_out\" as E11  [[psysml:5a710766-56b6-4c7a-9ae9-326b3f7572a8 ]] \r\n",
       "portout \"v_out\" as E12  [[psysml:1e62abd8-4172-4662-8f1c-1e7c30e8c54c ]] \r\n",
       "portout \"x_out\" as E13  [[psysml:e4c640c8-309e-4572-81b1-e78594ed37ec ]] \r\n",
       "}\r\n",
       "\r\n",
       "@enduml\r\n",
       "\n",
       "PlantUML version 1.2020.13(Sat Jun 13 12:26:38 UTC 2020)\n",
       "(EPL source distribution)\n",
       "Java Runtime: OpenJDK Runtime Environment\n",
       "JVM: OpenJDK 64-Bit Server VM\n",
       "Default Encoding: UTF-8\n",
       "Language: en\n",
       "Country: null\n",
       "--></g></svg>"
      ]
     },
     "execution_count": 13,
     "metadata": {},
     "output_type": "execute_result"
    }
   ],
   "source": [
    "%viz --style=\"POLYLINE\" --view=\"Action\" \"AnalysisAnnotation\""
   ]
  },
  {
   "cell_type": "code",
   "execution_count": 14,
   "id": "018fd736",
   "metadata": {
    "execution": {
     "iopub.execute_input": "2021-04-20T07:28:14.973282Z",
     "iopub.status.busy": "2021-04-20T07:28:14.972594Z",
     "iopub.status.idle": "2021-04-20T07:28:15.168260Z",
     "shell.execute_reply": "2021-04-20T07:28:15.167455Z"
    }
   },
   "outputs": [
    {
     "data": {
      "image/svg+xml": [
       "<?xml version=\"1.0\" encoding=\"UTF-8\" standalone=\"no\"?><svg xmlns=\"http://www.w3.org/2000/svg\" xmlns:xlink=\"http://www.w3.org/1999/xlink\" contentScriptType=\"application/ecmascript\" contentStyleType=\"text/css\" height=\"472px\" preserveAspectRatio=\"none\" style=\"width:357px;height:472px;\" version=\"1.1\" viewBox=\"0 0 357 472\" width=\"357px\" zoomAndPan=\"magnify\"><defs/><g><!--MD5=[fbc87193dbaf4d95561dea2c320d4a47]\n",
       "cluster E1--><a href=\"psysml:3f9dd228-0d59-436f-8c66-7bfaf74317e1\" target=\"_top\" title=\"psysml:3f9dd228-0d59-436f-8c66-7bfaf74317e1\" xlink:actuate=\"onRequest\" xlink:href=\"psysml:3f9dd228-0d59-436f-8c66-7bfaf74317e1\" xlink:show=\"new\" xlink:title=\"psysml:3f9dd228-0d59-436f-8c66-7bfaf74317e1\" xlink:type=\"simple\"><polygon fill=\"#FFFFFF\" points=\"16,6,173,6,180,28.2969,335,28.2969,335,460,16,460,16,6\" style=\"stroke: #000000; stroke-width: 1.5;\"/><line style=\"stroke: #000000; stroke-width: 1.5;\" x1=\"16\" x2=\"180\" y1=\"28.2969\" y2=\"28.2969\"/><text fill=\"#000000\" font-family=\"sans-serif\" font-size=\"14\" font-weight=\"bold\" lengthAdjust=\"spacingAndGlyphs\" textLength=\"151\" x=\"20\" y=\"20.9951\">AnalysisAnnotation</text></a><!--MD5=[b4997ac47864f28c2f74865a473b2911]\n",
       "class E2--><a href=\"psysml:44eddca9-682f-4ef7-a7c7-a9f194d7f2c9\" target=\"_top\" title=\"psysml:44eddca9-682f-4ef7-a7c7-a9f194d7f2c9\" xlink:actuate=\"onRequest\" xlink:href=\"psysml:44eddca9-682f-4ef7-a7c7-a9f194d7f2c9\" xlink:show=\"new\" xlink:title=\"psysml:44eddca9-682f-4ef7-a7c7-a9f194d7f2c9\" xlink:type=\"simple\"><rect fill=\"#FFFFFF\" height=\"45.9375\" id=\"E2\" style=\"stroke: #383838; stroke-width: 1.5;\" width=\"74\" x=\"238\" y=\"113.5\"/><text fill=\"#000000\" font-family=\"sans-serif\" font-size=\"12\" font-style=\"italic\" lengthAdjust=\"spacingAndGlyphs\" textLength=\"72\" x=\"239\" y=\"129.6387\">«dataType»</text><text fill=\"#000000\" font-family=\"sans-serif\" font-size=\"12\" lengthAdjust=\"spacingAndGlyphs\" textLength=\"27\" x=\"261.5\" y=\"143.6074\">Real</text><line style=\"stroke: #383838; stroke-width: 1.5;\" x1=\"239\" x2=\"311\" y1=\"151.4375\" y2=\"151.4375\"/></a><!--MD5=[09b614a08d8cba4a07c9adeb5e0fee81]\n",
       "class E3--><a href=\"psysml:e73f4f0e-f2f2-491a-ad18-2354ebab0714\" target=\"_top\" title=\"psysml:e73f4f0e-f2f2-491a-ad18-2354ebab0714\" xlink:actuate=\"onRequest\" xlink:href=\"psysml:e73f4f0e-f2f2-491a-ad18-2354ebab0714\" xlink:show=\"new\" xlink:title=\"psysml:e73f4f0e-f2f2-491a-ad18-2354ebab0714\" xlink:type=\"simple\"><rect fill=\"#FFFFFF\" height=\"190.7891\" id=\"E3\" style=\"stroke: #383838; stroke-width: 1.5;\" width=\"151\" x=\"38.5\" y=\"41\"/><text fill=\"#000000\" font-family=\"sans-serif\" font-size=\"12\" font-style=\"italic\" lengthAdjust=\"spacingAndGlyphs\" textLength=\"77\" x=\"75.5\" y=\"57.1387\">«action def»</text><text fill=\"#000000\" font-family=\"sans-serif\" font-size=\"12\" lengthAdjust=\"spacingAndGlyphs\" textLength=\"115\" x=\"56.5\" y=\"71.1074\">ComputeDynamics</text><line style=\"stroke: #383838; stroke-width: 1.5;\" x1=\"39.5\" x2=\"188.5\" y1=\"78.9375\" y2=\"78.9375\"/><text fill=\"#000000\" font-family=\"sans-serif\" font-size=\"11\" lengthAdjust=\"spacingAndGlyphs\" textLength=\"47\" x=\"44.5\" y=\"109.9526\">Cd: Real</text><text fill=\"#000000\" font-family=\"sans-serif\" font-size=\"11\" lengthAdjust=\"spacingAndGlyphs\" textLength=\"44\" x=\"44.5\" y=\"122.7573\">Cf: Real</text><text fill=\"#000000\" font-family=\"sans-serif\" font-size=\"11\" lengthAdjust=\"spacingAndGlyphs\" textLength=\"139\" x=\"44.5\" y=\"135.562\">a_out: AccelerationValue</text><text fill=\"#000000\" font-family=\"sans-serif\" font-size=\"11\" lengthAdjust=\"spacingAndGlyphs\" textLength=\"98\" x=\"44.5\" y=\"148.3667\">dt: DurationValue</text><text fill=\"#000000\" font-family=\"sans-serif\" font-size=\"11\" lengthAdjust=\"spacingAndGlyphs\" textLength=\"84\" x=\"44.5\" y=\"161.1714\">tm: MassValue</text><text fill=\"#000000\" font-family=\"sans-serif\" font-size=\"11\" lengthAdjust=\"spacingAndGlyphs\" textLength=\"97\" x=\"44.5\" y=\"173.9761\">v_in: SpeedValue</text><text fill=\"#000000\" font-family=\"sans-serif\" font-size=\"11\" lengthAdjust=\"spacingAndGlyphs\" textLength=\"105\" x=\"44.5\" y=\"186.7808\">v_out: SpeedValue</text><text fill=\"#000000\" font-family=\"sans-serif\" font-size=\"11\" lengthAdjust=\"spacingAndGlyphs\" textLength=\"114\" x=\"44.5\" y=\"199.5854\">whlpwr: PowerValue</text><text fill=\"#000000\" font-family=\"sans-serif\" font-size=\"11\" lengthAdjust=\"spacingAndGlyphs\" textLength=\"99\" x=\"44.5\" y=\"212.3901\">x_in: LengthValue</text><text fill=\"#000000\" font-family=\"sans-serif\" font-size=\"11\" lengthAdjust=\"spacingAndGlyphs\" textLength=\"107\" x=\"44.5\" y=\"225.1948\">x_out: LengthValue</text><line style=\"stroke: #383838; stroke-width: 1.0;\" x1=\"39.5\" x2=\"86.5\" y1=\"93.3398\" y2=\"93.3398\"/><text fill=\"#000000\" font-family=\"sans-serif\" font-size=\"11\" lengthAdjust=\"spacingAndGlyphs\" textLength=\"55\" x=\"86.5\" y=\"96.6479\">attributes</text><line style=\"stroke: #383838; stroke-width: 1.0;\" x1=\"141.5\" x2=\"188.5\" y1=\"93.3398\" y2=\"93.3398\"/></a><!--MD5=[ebbe1d658d1005bcc118a6aa81145e00]\n",
       "class E4--><a href=\"psysml:60a2becf-7a46-4ebd-946f-3a728f7b6aab\" target=\"_top\" title=\"psysml:60a2becf-7a46-4ebd-946f-3a728f7b6aab\" xlink:actuate=\"onRequest\" xlink:href=\"psysml:60a2becf-7a46-4ebd-946f-3a728f7b6aab\" xlink:show=\"new\" xlink:title=\"psysml:60a2becf-7a46-4ebd-946f-3a728f7b6aab\" xlink:type=\"simple\"><rect fill=\"#FFFFFF\" height=\"45.9375\" id=\"E4\" style=\"stroke: #383838; stroke-width: 1.5;\" width=\"152\" x=\"38\" y=\"292\"/><text fill=\"#000000\" font-family=\"sans-serif\" font-size=\"12\" font-style=\"italic\" lengthAdjust=\"spacingAndGlyphs\" textLength=\"132\" x=\"48\" y=\"308.1387\">«annotatingFeature»</text><text fill=\"#000000\" font-family=\"sans-serif\" font-size=\"12\" lengthAdjust=\"spacingAndGlyphs\" text-decoration=\"line-through\" textLength=\"51\" x=\"41\" y=\"322.1074\">noname</text><text fill=\"#000000\" font-family=\"sans-serif\" font-size=\"12\" lengthAdjust=\"spacingAndGlyphs\" textLength=\"95\" x=\"92\" y=\"322.1074\">: ToolExecution</text><line style=\"stroke: #383838; stroke-width: 1.5;\" x1=\"39\" x2=\"189\" y1=\"329.9375\" y2=\"329.9375\"/></a><!--MD5=[270fce915f116d4de14055a7c1d9a0f3]\n",
       "class E5--><a href=\"psysml:b02ba1b2-12c8-4052-9523-3aa0c79993f0\" target=\"_top\" title=\"psysml:b02ba1b2-12c8-4052-9523-3aa0c79993f0\" xlink:actuate=\"onRequest\" xlink:href=\"psysml:b02ba1b2-12c8-4052-9523-3aa0c79993f0\" xlink:show=\"new\" xlink:title=\"psysml:b02ba1b2-12c8-4052-9523-3aa0c79993f0\" xlink:type=\"simple\"><rect fill=\"#FFFFFF\" height=\"45.9375\" id=\"E5\" style=\"stroke: #383838; stroke-width: 1.5;\" width=\"126\" x=\"32\" y=\"398\"/><text fill=\"#000000\" font-family=\"sans-serif\" font-size=\"12\" font-style=\"italic\" lengthAdjust=\"spacingAndGlyphs\" textLength=\"124\" x=\"33\" y=\"414.1387\">«metadataFeature»</text><text fill=\"#000000\" font-family=\"sans-serif\" font-size=\"12\" lengthAdjust=\"spacingAndGlyphs\" textLength=\"60\" x=\"65\" y=\"428.1074\">toolName</text><line style=\"stroke: #383838; stroke-width: 1.5;\" x1=\"33\" x2=\"157\" y1=\"435.9375\" y2=\"435.9375\"/></a><!--MD5=[60a26617385b1d2d0262a64233df1f8d]\n",
       "class E6--><a href=\"psysml:cb4006f5-0e41-4f05-aa2a-a57df33d56ff\" target=\"_top\" title=\"psysml:cb4006f5-0e41-4f05-aa2a-a57df33d56ff\" xlink:actuate=\"onRequest\" xlink:href=\"psysml:cb4006f5-0e41-4f05-aa2a-a57df33d56ff\" xlink:show=\"new\" xlink:title=\"psysml:cb4006f5-0e41-4f05-aa2a-a57df33d56ff\" xlink:type=\"simple\"><rect fill=\"#FFFFFF\" height=\"45.9375\" id=\"E6\" style=\"stroke: #383838; stroke-width: 1.5;\" width=\"126\" x=\"193\" y=\"398\"/><text fill=\"#000000\" font-family=\"sans-serif\" font-size=\"12\" font-style=\"italic\" lengthAdjust=\"spacingAndGlyphs\" textLength=\"124\" x=\"194\" y=\"414.1387\">«metadataFeature»</text><text fill=\"#000000\" font-family=\"sans-serif\" font-size=\"12\" lengthAdjust=\"spacingAndGlyphs\" textLength=\"16\" x=\"248\" y=\"428.1074\">uri</text><line style=\"stroke: #383838; stroke-width: 1.5;\" x1=\"194\" x2=\"318\" y1=\"435.9375\" y2=\"435.9375\"/></a><!--MD5=[4672eba38e49728da53d11aeb285b987]\n",
       "reverse link E3 to E4--><a href=\"psysml:66d6f7e6-2188-4a34-9637-6b4b270c496c\" target=\"_top\" title=\"psysml:66d6f7e6-2188-4a34-9637-6b4b270c496c\" xlink:actuate=\"onRequest\" xlink:href=\"psysml:66d6f7e6-2188-4a34-9637-6b4b270c496c\" xlink:show=\"new\" xlink:title=\"psysml:66d6f7e6-2188-4a34-9637-6b4b270c496c\" xlink:type=\"simple\"><path d=\"M114,247.28 C114,264.19 114,279.97 114,291.94 \" fill=\"none\" id=\"E3&lt;-E4\" style=\"stroke: #383838; stroke-width: 1.0;\"/><ellipse cx=\"114\" cy=\"240.21\" fill=\"#FFFFFF\" rx=\"8\" ry=\"8\" style=\"stroke: #383838; stroke-width: 1.0;\"/><line style=\"stroke: #383838; stroke-width: 1.0;\" x1=\"114\" x2=\"114\" y1=\"248.21\" y2=\"232.21\"/><line style=\"stroke: #383838; stroke-width: 1.0;\" x1=\"106\" x2=\"122\" y1=\"240.21\" y2=\"240.21\"/></a><!--MD5=[62aa6af11e70f752912c1cb0466f24f7]\n",
       "reverse link E4 to E5--><a href=\"psysml:4336f8bf-5a73-49a4-a706-8a85ff7218c2\" target=\"_top\" title=\"psysml:4336f8bf-5a73-49a4-a706-8a85ff7218c2\" xlink:actuate=\"onRequest\" xlink:href=\"psysml:4336f8bf-5a73-49a4-a706-8a85ff7218c2\" xlink:show=\"new\" xlink:title=\"psysml:4336f8bf-5a73-49a4-a706-8a85ff7218c2\" xlink:type=\"simple\"><path d=\"M107.61,350.96 C104.77,366.51 101.52,384.33 99.02,397.98 \" fill=\"none\" id=\"E4&lt;-E5\" style=\"stroke: #383838; stroke-width: 1.0;\"/><polygon fill=\"#383838\" points=\"109.97,338.06,104.9597,343.2462,107.8199,349.8658,112.8302,344.6796,109.97,338.06\" style=\"stroke: #383838; stroke-width: 1.0;\"/></a><!--MD5=[6db378b65e1aef66a01cb3103812b399]\n",
       "reverse link E4 to E6--><a href=\"psysml:14217a47-d828-403c-a59e-1cb114a87a2b\" target=\"_top\" title=\"psysml:14217a47-d828-403c-a59e-1cb114a87a2b\" xlink:actuate=\"onRequest\" xlink:href=\"psysml:14217a47-d828-403c-a59e-1cb114a87a2b\" xlink:show=\"new\" xlink:title=\"psysml:14217a47-d828-403c-a59e-1cb114a87a2b\" xlink:type=\"simple\"><path d=\"M154.79,345.88 C177.48,362.49 205.23,382.82 225.93,397.98 \" fill=\"none\" id=\"E4&lt;-E6\" style=\"stroke: #383838; stroke-width: 1.0;\"/><polygon fill=\"#383838\" points=\"144.11,338.06,146.5846,344.8332,153.7885,345.1541,151.314,338.3809,144.11,338.06\" style=\"stroke: #383838; stroke-width: 1.0;\"/></a><!--MD5=[503a03a57c069592c76585e8ed45eebb]\n",
       "@startuml\r\n",
       "skinparam linetype polyline\r\n",
       "skinparam monochrome true\r\n",
       "skinparam classbackgroundcolor white\r\n",
       "skinparam shadowing false\r\n",
       "skinparam wrapWidth 300\r\n",
       "hide circle\r\n",
       "\r\n",
       "package \"AnalysisAnnotation\" as E1  [[psysml:3f9dd228-0d59-436f-8c66-7bfaf74317e1 ]]  {\r\n",
       "comp def \"Real\" as E2  <<(T,blue)dataType>> [[psysml:44eddca9-682f-4ef7-a7c7-a9f194d7f2c9 ]] {\r\n",
       "}\r\n",
       "comp def \"ComputeDynamics\" as E3  <<(T,blue)action def>> [[psysml:e73f4f0e-f2f2-491a-ad18-2354ebab0714 ]] {\r\n",
       "- - attributes - -\r\n",
       "Cd: Real\r\n",
       "Cf: Real\r\n",
       "a_out: AccelerationValue\r\n",
       "dt: DurationValue\r\n",
       "tm: MassValue\r\n",
       "v_in: SpeedValue\r\n",
       "v_out: SpeedValue\r\n",
       "whlpwr: PowerValue\r\n",
       "x_in: LengthValue\r\n",
       "x_out: LengthValue\r\n",
       "}\r\n",
       "comp def \"<s>noname</s>: ToolExecution\" as E4  <<(T,blue)annotatingFeature>> [[psysml:60a2becf-7a46-4ebd-946f-3a728f7b6aab ]] {\r\n",
       "}\r\n",
       "comp def \"toolName\" as E5  <<(T,blue)metadataFeature>> [[psysml:b02ba1b2-12c8-4052-9523-3aa0c79993f0 ]] {\r\n",
       "}\r\n",
       "comp def \"uri\" as E6  <<(T,blue)metadataFeature>> [[psysml:cb4006f5-0e41-4f05-aa2a-a57df33d56ff ]] {\r\n",
       "}\r\n",
       "E3 +- - E4 [[psysml:66d6f7e6-2188-4a34-9637-6b4b270c496c ]] \r\n",
       "E4 *- - E5 [[psysml:4336f8bf-5a73-49a4-a706-8a85ff7218c2 ]] \r\n",
       "E4 *- - E6 [[psysml:14217a47-d828-403c-a59e-1cb114a87a2b ]] \r\n",
       "}\r\n",
       "@enduml\r\n",
       "\n",
       "PlantUML version 1.2020.13(Sat Jun 13 12:26:38 UTC 2020)\n",
       "(EPL source distribution)\n",
       "Java Runtime: OpenJDK Runtime Environment\n",
       "JVM: OpenJDK 64-Bit Server VM\n",
       "Default Encoding: UTF-8\n",
       "Language: en\n",
       "Country: null\n",
       "--></g></svg>"
      ]
     },
     "execution_count": 14,
     "metadata": {},
     "output_type": "execute_result"
    }
   ],
   "source": [
    "%viz --style=\"POLYLINE\" --view=\"Sequence\" \"AnalysisAnnotation\""
   ]
  },
  {
   "cell_type": "code",
   "execution_count": 15,
   "id": "50f48222",
   "metadata": {
    "execution": {
     "iopub.execute_input": "2021-04-20T07:28:15.217646Z",
     "iopub.status.busy": "2021-04-20T07:28:15.217130Z",
     "iopub.status.idle": "2021-04-20T07:28:15.270650Z",
     "shell.execute_reply": "2021-04-20T07:28:15.270190Z"
    }
   },
   "outputs": [
    {
     "data": {
      "image/svg+xml": [
       "<?xml version=\"1.0\" encoding=\"UTF-8\" standalone=\"no\"?><svg xmlns=\"http://www.w3.org/2000/svg\" xmlns:xlink=\"http://www.w3.org/1999/xlink\" contentScriptType=\"application/ecmascript\" contentStyleType=\"text/css\" height=\"350px\" preserveAspectRatio=\"none\" style=\"width:481px;height:350px;\" version=\"1.1\" viewBox=\"0 0 481 350\" width=\"481px\" zoomAndPan=\"magnify\"><defs/><g><!--MD5=[fbc87193dbaf4d95561dea2c320d4a47]\n",
       "cluster E1--><a href=\"psysml:3f9dd228-0d59-436f-8c66-7bfaf74317e1\" target=\"_top\" title=\"psysml:3f9dd228-0d59-436f-8c66-7bfaf74317e1\" xlink:actuate=\"onRequest\" xlink:href=\"psysml:3f9dd228-0d59-436f-8c66-7bfaf74317e1\" xlink:show=\"new\" xlink:title=\"psysml:3f9dd228-0d59-436f-8c66-7bfaf74317e1\" xlink:type=\"simple\"><polygon fill=\"#FFFFFF\" points=\"16,6,173,6,180,28.2969,459,28.2969,459,338.72,16,338.72,16,6\" style=\"stroke: #000000; stroke-width: 1.5;\"/><line style=\"stroke: #000000; stroke-width: 1.5;\" x1=\"16\" x2=\"180\" y1=\"28.2969\" y2=\"28.2969\"/><text fill=\"#000000\" font-family=\"sans-serif\" font-size=\"14\" font-weight=\"bold\" lengthAdjust=\"spacingAndGlyphs\" textLength=\"151\" x=\"20\" y=\"20.9951\">AnalysisAnnotation</text></a><!--MD5=[d5e69f78d87373223dbae638b30a9c99]\n",
       "cluster E3--><a href=\"psysml:e73f4f0e-f2f2-491a-ad18-2354ebab0714\" target=\"_top\" title=\"psysml:e73f4f0e-f2f2-491a-ad18-2354ebab0714\" xlink:actuate=\"onRequest\" xlink:href=\"psysml:e73f4f0e-f2f2-491a-ad18-2354ebab0714\" xlink:show=\"new\" xlink:title=\"psysml:e73f4f0e-f2f2-491a-ad18-2354ebab0714\" xlink:type=\"simple\"><rect fill=\"#FFFFFF\" height=\"244.72\" id=\"E3\" style=\"stroke: #383838; stroke-width: 1.5;\" width=\"318\" x=\"129\" y=\"64\"/><rect fill=\"#F8F8F8\" height=\"37.9375\" style=\"stroke: #383838; stroke-width: 1.5;\" width=\"318\" x=\"129\" y=\"64\"/><text fill=\"#000000\" font-family=\"sans-serif\" font-size=\"12\" font-style=\"italic\" lengthAdjust=\"spacingAndGlyphs\" textLength=\"77\" x=\"249.5\" y=\"80.1387\">«action def»</text><text fill=\"#000000\" font-family=\"sans-serif\" font-size=\"12\" lengthAdjust=\"spacingAndGlyphs\" textLength=\"115\" x=\"230.5\" y=\"94.1074\">ComputeDynamics</text></a><!--MD5=[b4997ac47864f28c2f74865a473b2911]\n",
       "class E2--><a href=\"psysml:44eddca9-682f-4ef7-a7c7-a9f194d7f2c9\" target=\"_top\" title=\"psysml:44eddca9-682f-4ef7-a7c7-a9f194d7f2c9\" xlink:actuate=\"onRequest\" xlink:href=\"psysml:44eddca9-682f-4ef7-a7c7-a9f194d7f2c9\" xlink:show=\"new\" xlink:title=\"psysml:44eddca9-682f-4ef7-a7c7-a9f194d7f2c9\" xlink:type=\"simple\"><rect fill=\"#FFFFFF\" height=\"45.9375\" id=\"E2\" style=\"stroke: #383838; stroke-width: 1.5;\" width=\"74\" x=\"32\" y=\"41\"/><text fill=\"#000000\" font-family=\"sans-serif\" font-size=\"12\" font-style=\"italic\" lengthAdjust=\"spacingAndGlyphs\" textLength=\"72\" x=\"33\" y=\"57.1387\">«dataType»</text><text fill=\"#000000\" font-family=\"sans-serif\" font-size=\"12\" lengthAdjust=\"spacingAndGlyphs\" textLength=\"27\" x=\"55.5\" y=\"71.1074\">Real</text><line style=\"stroke: #383838; stroke-width: 1.5;\" x1=\"33\" x2=\"105\" y1=\"78.9375\" y2=\"78.9375\"/></a><text fill=\"#000000\" font-family=\"sans-serif\" font-size=\"14\" lengthAdjust=\"spacingAndGlyphs\" textLength=\"48\" x=\"169\" y=\"327.7151\">$result</text><rect fill=\"#383838\" height=\"12\" style=\"stroke: #F8F8F8; stroke-width: 1.5;\" width=\"12\" x=\"187\" y=\"302.72\"/><text fill=\"#000000\" font-family=\"sans-serif\" font-size=\"14\" lengthAdjust=\"spacingAndGlyphs\" textLength=\"48\" x=\"216\" y=\"327.7151\">$result</text><rect fill=\"#383838\" height=\"12\" style=\"stroke: #F8F8F8; stroke-width: 1.5;\" width=\"12\" x=\"234\" y=\"302.72\"/><text fill=\"#000000\" font-family=\"sans-serif\" font-size=\"14\" lengthAdjust=\"spacingAndGlyphs\" textLength=\"14\" x=\"140\" y=\"42.6982\">dt</text><rect fill=\"#383838\" height=\"12\" style=\"stroke: #F8F8F8; stroke-width: 1.5;\" width=\"12\" x=\"141\" y=\"58\"/><text fill=\"#000000\" font-family=\"sans-serif\" font-size=\"14\" lengthAdjust=\"spacingAndGlyphs\" textLength=\"48\" x=\"170\" y=\"42.6982\">whlpwr</text><rect fill=\"#383838\" height=\"12\" style=\"stroke: #F8F8F8; stroke-width: 1.5;\" width=\"12\" x=\"188\" y=\"58\"/><text fill=\"#000000\" font-family=\"sans-serif\" font-size=\"14\" lengthAdjust=\"spacingAndGlyphs\" textLength=\"19\" x=\"231.5\" y=\"42.6982\">Cd</text><rect fill=\"#383838\" height=\"12\" style=\"stroke: #F8F8F8; stroke-width: 1.5;\" width=\"12\" x=\"235\" y=\"58\"/><text fill=\"#000000\" font-family=\"sans-serif\" font-size=\"14\" lengthAdjust=\"spacingAndGlyphs\" textLength=\"14\" x=\"281\" y=\"42.6982\">Cf</text><rect fill=\"#383838\" height=\"12\" style=\"stroke: #F8F8F8; stroke-width: 1.5;\" width=\"12\" x=\"282\" y=\"58\"/><text fill=\"#000000\" font-family=\"sans-serif\" font-size=\"14\" lengthAdjust=\"spacingAndGlyphs\" textLength=\"18\" x=\"326\" y=\"42.6982\">tm</text><rect fill=\"#383838\" height=\"12\" style=\"stroke: #F8F8F8; stroke-width: 1.5;\" width=\"12\" x=\"329\" y=\"58\"/><text fill=\"#000000\" font-family=\"sans-serif\" font-size=\"14\" lengthAdjust=\"spacingAndGlyphs\" textLength=\"26\" x=\"369\" y=\"42.6982\">v_in</text><rect fill=\"#383838\" height=\"12\" style=\"stroke: #F8F8F8; stroke-width: 1.5;\" width=\"12\" x=\"376\" y=\"58\"/><text fill=\"#000000\" font-family=\"sans-serif\" font-size=\"14\" lengthAdjust=\"spacingAndGlyphs\" textLength=\"26\" x=\"416\" y=\"42.6982\">x_in</text><rect fill=\"#383838\" height=\"12\" style=\"stroke: #F8F8F8; stroke-width: 1.5;\" width=\"12\" x=\"423\" y=\"58\"/><text fill=\"#000000\" font-family=\"sans-serif\" font-size=\"14\" lengthAdjust=\"spacingAndGlyphs\" textLength=\"38\" x=\"268\" y=\"327.7151\">a_out</text><rect fill=\"#383838\" height=\"12\" style=\"stroke: #F8F8F8; stroke-width: 1.5;\" width=\"12\" x=\"281\" y=\"302.72\"/><text fill=\"#000000\" font-family=\"sans-serif\" font-size=\"14\" lengthAdjust=\"spacingAndGlyphs\" textLength=\"37\" x=\"315.5\" y=\"327.7151\">v_out</text><rect fill=\"#383838\" height=\"12\" style=\"stroke: #F8F8F8; stroke-width: 1.5;\" width=\"12\" x=\"328\" y=\"302.72\"/><text fill=\"#000000\" font-family=\"sans-serif\" font-size=\"14\" lengthAdjust=\"spacingAndGlyphs\" textLength=\"37\" x=\"362.5\" y=\"327.7151\">x_out</text><rect fill=\"#383838\" height=\"12\" style=\"stroke: #F8F8F8; stroke-width: 1.5;\" width=\"12\" x=\"375\" y=\"302.72\"/><!--MD5=[10f34e5908bd6dde7b5d50369114fb14]\n",
       "@startuml\r\n",
       "skinparam linetype polyline\r\n",
       "skinparam monochrome true\r\n",
       "skinparam classbackgroundcolor white\r\n",
       "skinparam shadowing false\r\n",
       "skinparam wrapWidth 300\r\n",
       "hide circle\r\n",
       "\r\n",
       "package \"AnalysisAnnotation\" as E1  [[psysml:3f9dd228-0d59-436f-8c66-7bfaf74317e1 ]]  {\r\n",
       "comp def \"Real\" as E2  <<(T,blue)dataType>> [[psysml:44eddca9-682f-4ef7-a7c7-a9f194d7f2c9 ]] {\r\n",
       "}\r\n",
       "rec def \"ComputeDynamics\" as E3  <<(T,blue)action def>> [[psysml:e73f4f0e-f2f2-491a-ad18-2354ebab0714 ]] {\r\n",
       "portout \"$result\" as E4  [[psysml:321a5472-f26a-4f44-adf1-e887f248e10c ]] \r\n",
       "portout \"$result\" as E5  [[psysml:249d7fd3-af20-489f-a52b-b6c298227647 ]] \r\n",
       "portin \"dt\" as E6  [[psysml:d9dfe931-1109-47e6-bc0c-352db24577b0 ]] \r\n",
       "portin \"whlpwr\" as E7  [[psysml:44277f67-022c-45f6-9760-98798ee04e09 ]] \r\n",
       "portin \"Cd\" as E8  [[psysml:41d96645-5d65-4e32-85e5-332077e108f6 ]] \r\n",
       "portin \"Cf\" as E9  [[psysml:aebf7dc6-628a-4d75-a952-13ccca53817c ]] \r\n",
       "portin \"tm\" as E10  [[psysml:08dba41b-e930-4b20-afae-ef7ae15f00ec ]] \r\n",
       "portin \"v_in\" as E11  [[psysml:e3f3c5a0-ed9d-41a6-a918-fe4a600fe261 ]] \r\n",
       "portin \"x_in\" as E12  [[psysml:fb3fca97-7004-4d76-8828-7714499f1454 ]] \r\n",
       "portout \"a_out\" as E13  [[psysml:5a710766-56b6-4c7a-9ae9-326b3f7572a8 ]] \r\n",
       "portout \"v_out\" as E14  [[psysml:1e62abd8-4172-4662-8f1c-1e7c30e8c54c ]] \r\n",
       "portout \"x_out\" as E15  [[psysml:e4c640c8-309e-4572-81b1-e78594ed37ec ]] \r\n",
       "}\r\n",
       "\r\n",
       "}\r\n",
       "@enduml\r\n",
       "\n",
       "PlantUML version 1.2020.13(Sat Jun 13 12:26:38 UTC 2020)\n",
       "(EPL source distribution)\n",
       "Java Runtime: OpenJDK Runtime Environment\n",
       "JVM: OpenJDK 64-Bit Server VM\n",
       "Default Encoding: UTF-8\n",
       "Language: en\n",
       "Country: null\n",
       "--></g></svg>"
      ]
     },
     "execution_count": 15,
     "metadata": {},
     "output_type": "execute_result"
    }
   ],
   "source": [
    "%viz --style=\"POLYLINE\" --view=\"MIXED\" \"AnalysisAnnotation\""
   ]
  },
  {
   "cell_type": "code",
   "execution_count": 16,
   "id": "8160ce28",
   "metadata": {
    "execution": {
     "iopub.execute_input": "2021-04-20T07:28:15.321089Z",
     "iopub.status.busy": "2021-04-20T07:28:15.320526Z",
     "iopub.status.idle": "2021-04-20T07:28:15.387308Z",
     "shell.execute_reply": "2021-04-20T07:28:15.386849Z"
    }
   },
   "outputs": [
    {
     "data": {
      "image/svg+xml": [
       "<?xml version=\"1.0\" encoding=\"UTF-8\" standalone=\"no\"?><svg xmlns=\"http://www.w3.org/2000/svg\" xmlns:xlink=\"http://www.w3.org/1999/xlink\" contentScriptType=\"application/ecmascript\" contentStyleType=\"text/css\" height=\"452px\" preserveAspectRatio=\"none\" style=\"width:506px;height:452px;\" version=\"1.1\" viewBox=\"0 0 506 452\" width=\"506px\" zoomAndPan=\"magnify\"><defs/><g><!--MD5=[fbc87193dbaf4d95561dea2c320d4a47]\n",
       "cluster E1--><a href=\"psysml:3f9dd228-0d59-436f-8c66-7bfaf74317e1\" target=\"_top\" title=\"psysml:3f9dd228-0d59-436f-8c66-7bfaf74317e1\" xlink:actuate=\"onRequest\" xlink:href=\"psysml:3f9dd228-0d59-436f-8c66-7bfaf74317e1\" xlink:show=\"new\" xlink:title=\"psysml:3f9dd228-0d59-436f-8c66-7bfaf74317e1\" xlink:type=\"simple\"><polygon fill=\"#FFFFFF\" points=\"16,6,173,6,180,28.2969,484.72,28.2969,484.72,440,16,440,16,6\" style=\"stroke: #000000; stroke-width: 1.5;\"/><line style=\"stroke: #000000; stroke-width: 1.5;\" x1=\"16\" x2=\"180\" y1=\"28.2969\" y2=\"28.2969\"/><text fill=\"#000000\" font-family=\"sans-serif\" font-size=\"14\" font-weight=\"bold\" lengthAdjust=\"spacingAndGlyphs\" textLength=\"151\" x=\"20\" y=\"20.9951\">AnalysisAnnotation</text></a><!--MD5=[d5e69f78d87373223dbae638b30a9c99]\n",
       "cluster E3--><a href=\"psysml:e73f4f0e-f2f2-491a-ad18-2354ebab0714\" target=\"_top\" title=\"psysml:e73f4f0e-f2f2-491a-ad18-2354ebab0714\" xlink:actuate=\"onRequest\" xlink:href=\"psysml:e73f4f0e-f2f2-491a-ad18-2354ebab0714\" xlink:show=\"new\" xlink:title=\"psysml:e73f4f0e-f2f2-491a-ad18-2354ebab0714\" xlink:type=\"simple\"><rect fill=\"#FFFFFF\" height=\"282\" id=\"E3\" style=\"stroke: #383838; stroke-width: 1.5;\" width=\"403.72\" x=\"51\" y=\"55\"/><rect fill=\"#F8F8F8\" height=\"37.9375\" style=\"stroke: #383838; stroke-width: 1.5;\" width=\"403.72\" x=\"51\" y=\"55\"/><text fill=\"#000000\" font-family=\"sans-serif\" font-size=\"12\" font-style=\"italic\" lengthAdjust=\"spacingAndGlyphs\" textLength=\"77\" x=\"214.36\" y=\"71.1387\">«action def»</text><text fill=\"#000000\" font-family=\"sans-serif\" font-size=\"12\" lengthAdjust=\"spacingAndGlyphs\" textLength=\"115\" x=\"195.36\" y=\"85.1074\">ComputeDynamics</text></a><!--MD5=[b4997ac47864f28c2f74865a473b2911]\n",
       "class E2--><a href=\"psysml:44eddca9-682f-4ef7-a7c7-a9f194d7f2c9\" target=\"_top\" title=\"psysml:44eddca9-682f-4ef7-a7c7-a9f194d7f2c9\" xlink:actuate=\"onRequest\" xlink:href=\"psysml:44eddca9-682f-4ef7-a7c7-a9f194d7f2c9\" xlink:show=\"new\" xlink:title=\"psysml:44eddca9-682f-4ef7-a7c7-a9f194d7f2c9\" xlink:type=\"simple\"><rect fill=\"#FFFFFF\" height=\"45.9375\" id=\"E2\" style=\"stroke: #383838; stroke-width: 1.5;\" width=\"74\" x=\"32\" y=\"378\"/><text fill=\"#000000\" font-family=\"sans-serif\" font-size=\"12\" font-style=\"italic\" lengthAdjust=\"spacingAndGlyphs\" textLength=\"72\" x=\"33\" y=\"394.1387\">«dataType»</text><text fill=\"#000000\" font-family=\"sans-serif\" font-size=\"12\" lengthAdjust=\"spacingAndGlyphs\" textLength=\"27\" x=\"55.5\" y=\"408.1074\">Real</text><line style=\"stroke: #383838; stroke-width: 1.5;\" x1=\"33\" x2=\"105\" y1=\"415.9375\" y2=\"415.9375\"/></a><text fill=\"#000000\" font-family=\"sans-serif\" font-size=\"14\" lengthAdjust=\"spacingAndGlyphs\" textLength=\"48\" x=\"430.72\" y=\"281.9951\">$result</text><rect fill=\"#383838\" height=\"12\" style=\"stroke: #F8F8F8; stroke-width: 1.5;\" width=\"12\" x=\"448.72\" y=\"257\"/><text fill=\"#000000\" font-family=\"sans-serif\" font-size=\"14\" lengthAdjust=\"spacingAndGlyphs\" textLength=\"48\" x=\"430.72\" y=\"234.9951\">$result</text><rect fill=\"#383838\" height=\"12\" style=\"stroke: #F8F8F8; stroke-width: 1.5;\" width=\"12\" x=\"448.72\" y=\"210\"/><text fill=\"#000000\" font-family=\"sans-serif\" font-size=\"14\" lengthAdjust=\"spacingAndGlyphs\" textLength=\"14\" x=\"62\" y=\"355.9951\">dt</text><rect fill=\"#383838\" height=\"12\" style=\"stroke: #F8F8F8; stroke-width: 1.5;\" width=\"12\" x=\"63\" y=\"331\"/><text fill=\"#000000\" font-family=\"sans-serif\" font-size=\"14\" lengthAdjust=\"spacingAndGlyphs\" textLength=\"48\" x=\"45\" y=\"308.9951\">whlpwr</text><rect fill=\"#383838\" height=\"12\" style=\"stroke: #F8F8F8; stroke-width: 1.5;\" width=\"12\" x=\"63\" y=\"284\"/><text fill=\"#000000\" font-family=\"sans-serif\" font-size=\"14\" lengthAdjust=\"spacingAndGlyphs\" textLength=\"19\" x=\"59.5\" y=\"261.9951\">Cd</text><rect fill=\"#383838\" height=\"12\" style=\"stroke: #F8F8F8; stroke-width: 1.5;\" width=\"12\" x=\"63\" y=\"237\"/><text fill=\"#000000\" font-family=\"sans-serif\" font-size=\"14\" lengthAdjust=\"spacingAndGlyphs\" textLength=\"14\" x=\"62\" y=\"174.6982\">Cf</text><rect fill=\"#383838\" height=\"12\" style=\"stroke: #F8F8F8; stroke-width: 1.5;\" width=\"12\" x=\"63\" y=\"190\"/><text fill=\"#000000\" font-family=\"sans-serif\" font-size=\"14\" lengthAdjust=\"spacingAndGlyphs\" textLength=\"18\" x=\"60\" y=\"127.6982\">tm</text><rect fill=\"#383838\" height=\"12\" style=\"stroke: #F8F8F8; stroke-width: 1.5;\" width=\"12\" x=\"63\" y=\"143\"/><text fill=\"#000000\" font-family=\"sans-serif\" font-size=\"14\" lengthAdjust=\"spacingAndGlyphs\" textLength=\"26\" x=\"56\" y=\"80.6982\">v_in</text><rect fill=\"#383838\" height=\"12\" style=\"stroke: #F8F8F8; stroke-width: 1.5;\" width=\"12\" x=\"63\" y=\"96\"/><text fill=\"#000000\" font-family=\"sans-serif\" font-size=\"14\" lengthAdjust=\"spacingAndGlyphs\" textLength=\"26\" x=\"56\" y=\"33.6982\">x_in</text><rect fill=\"#383838\" height=\"12\" style=\"stroke: #F8F8F8; stroke-width: 1.5;\" width=\"12\" x=\"63\" y=\"49\"/><text fill=\"#000000\" font-family=\"sans-serif\" font-size=\"14\" lengthAdjust=\"spacingAndGlyphs\" textLength=\"38\" x=\"435.72\" y=\"147.6982\">a_out</text><rect fill=\"#383838\" height=\"12\" style=\"stroke: #F8F8F8; stroke-width: 1.5;\" width=\"12\" x=\"448.72\" y=\"163\"/><text fill=\"#000000\" font-family=\"sans-serif\" font-size=\"14\" lengthAdjust=\"spacingAndGlyphs\" textLength=\"37\" x=\"436.22\" y=\"100.6982\">v_out</text><rect fill=\"#383838\" height=\"12\" style=\"stroke: #F8F8F8; stroke-width: 1.5;\" width=\"12\" x=\"448.72\" y=\"116\"/><text fill=\"#000000\" font-family=\"sans-serif\" font-size=\"14\" lengthAdjust=\"spacingAndGlyphs\" textLength=\"37\" x=\"436.22\" y=\"53.6982\">x_out</text><rect fill=\"#383838\" height=\"12\" style=\"stroke: #F8F8F8; stroke-width: 1.5;\" width=\"12\" x=\"448.72\" y=\"69\"/><!--MD5=[a3653f79c87f5e2754950d2159dc4a32]\n",
       "@startuml\r\n",
       "left to right direction\r\n",
       "skinparam monochrome true\r\n",
       "skinparam classbackgroundcolor white\r\n",
       "skinparam shadowing false\r\n",
       "skinparam wrapWidth 300\r\n",
       "hide circle\r\n",
       "\r\n",
       "package \"AnalysisAnnotation\" as E1  [[psysml:3f9dd228-0d59-436f-8c66-7bfaf74317e1 ]]  {\r\n",
       "comp def \"Real\" as E2  <<(T,blue)dataType>> [[psysml:44eddca9-682f-4ef7-a7c7-a9f194d7f2c9 ]] {\r\n",
       "}\r\n",
       "rec def \"ComputeDynamics\" as E3  <<(T,blue)action def>> [[psysml:e73f4f0e-f2f2-491a-ad18-2354ebab0714 ]] {\r\n",
       "portout \"$result\" as E4  [[psysml:321a5472-f26a-4f44-adf1-e887f248e10c ]] \r\n",
       "portout \"$result\" as E5  [[psysml:249d7fd3-af20-489f-a52b-b6c298227647 ]] \r\n",
       "portin \"dt\" as E6  [[psysml:d9dfe931-1109-47e6-bc0c-352db24577b0 ]] \r\n",
       "portin \"whlpwr\" as E7  [[psysml:44277f67-022c-45f6-9760-98798ee04e09 ]] \r\n",
       "portin \"Cd\" as E8  [[psysml:41d96645-5d65-4e32-85e5-332077e108f6 ]] \r\n",
       "portin \"Cf\" as E9  [[psysml:aebf7dc6-628a-4d75-a952-13ccca53817c ]] \r\n",
       "portin \"tm\" as E10  [[psysml:08dba41b-e930-4b20-afae-ef7ae15f00ec ]] \r\n",
       "portin \"v_in\" as E11  [[psysml:e3f3c5a0-ed9d-41a6-a918-fe4a600fe261 ]] \r\n",
       "portin \"x_in\" as E12  [[psysml:fb3fca97-7004-4d76-8828-7714499f1454 ]] \r\n",
       "portout \"a_out\" as E13  [[psysml:5a710766-56b6-4c7a-9ae9-326b3f7572a8 ]] \r\n",
       "portout \"v_out\" as E14  [[psysml:1e62abd8-4172-4662-8f1c-1e7c30e8c54c ]] \r\n",
       "portout \"x_out\" as E15  [[psysml:e4c640c8-309e-4572-81b1-e78594ed37ec ]] \r\n",
       "}\r\n",
       "\r\n",
       "}\r\n",
       "@enduml\r\n",
       "\n",
       "PlantUML version 1.2020.13(Sat Jun 13 12:26:38 UTC 2020)\n",
       "(EPL source distribution)\n",
       "Java Runtime: OpenJDK Runtime Environment\n",
       "JVM: OpenJDK 64-Bit Server VM\n",
       "Default Encoding: UTF-8\n",
       "Language: en\n",
       "Country: null\n",
       "--></g></svg>"
      ]
     },
     "execution_count": 16,
     "metadata": {},
     "output_type": "execute_result"
    }
   ],
   "source": [
    "%viz --style=\"LR\" --view=\"Default\" \"AnalysisAnnotation\""
   ]
  },
  {
   "cell_type": "code",
   "execution_count": 17,
   "id": "6e1a5f04",
   "metadata": {
    "execution": {
     "iopub.execute_input": "2021-04-20T07:28:15.437657Z",
     "iopub.status.busy": "2021-04-20T07:28:15.437203Z",
     "iopub.status.idle": "2021-04-20T07:28:15.611196Z",
     "shell.execute_reply": "2021-04-20T07:28:15.610145Z"
    }
   },
   "outputs": [
    {
     "data": {
      "image/svg+xml": [
       "<?xml version=\"1.0\" encoding=\"UTF-8\" standalone=\"no\"?><svg xmlns=\"http://www.w3.org/2000/svg\" xmlns:xlink=\"http://www.w3.org/1999/xlink\" contentScriptType=\"application/ecmascript\" contentStyleType=\"text/css\" height=\"342px\" preserveAspectRatio=\"none\" style=\"width:619px;height:342px;\" version=\"1.1\" viewBox=\"0 0 619 342\" width=\"619px\" zoomAndPan=\"magnify\"><defs/><g><!--MD5=[fbc87193dbaf4d95561dea2c320d4a47]\n",
       "cluster E1--><a href=\"psysml:3f9dd228-0d59-436f-8c66-7bfaf74317e1\" target=\"_top\" title=\"psysml:3f9dd228-0d59-436f-8c66-7bfaf74317e1\" xlink:actuate=\"onRequest\" xlink:href=\"psysml:3f9dd228-0d59-436f-8c66-7bfaf74317e1\" xlink:show=\"new\" xlink:title=\"psysml:3f9dd228-0d59-436f-8c66-7bfaf74317e1\" xlink:type=\"simple\"><polygon fill=\"#FFFFFF\" points=\"16,6,173,6,180,28.2969,597,28.2969,597,330,16,330,16,6\" style=\"stroke: #000000; stroke-width: 1.5;\"/><line style=\"stroke: #000000; stroke-width: 1.5;\" x1=\"16\" x2=\"180\" y1=\"28.2969\" y2=\"28.2969\"/><text fill=\"#000000\" font-family=\"sans-serif\" font-size=\"14\" font-weight=\"bold\" lengthAdjust=\"spacingAndGlyphs\" textLength=\"151\" x=\"20\" y=\"20.9951\">AnalysisAnnotation</text></a><!--MD5=[b4997ac47864f28c2f74865a473b2911]\n",
       "class E2--><a href=\"psysml:44eddca9-682f-4ef7-a7c7-a9f194d7f2c9\" target=\"_top\" title=\"psysml:44eddca9-682f-4ef7-a7c7-a9f194d7f2c9\" xlink:actuate=\"onRequest\" xlink:href=\"psysml:44eddca9-682f-4ef7-a7c7-a9f194d7f2c9\" xlink:show=\"new\" xlink:title=\"psysml:44eddca9-682f-4ef7-a7c7-a9f194d7f2c9\" xlink:type=\"simple\"><rect fill=\"#FFFFFF\" height=\"45.9375\" id=\"E2\" style=\"stroke: #383838; stroke-width: 1.5;\" width=\"74\" x=\"70.5\" y=\"41\"/><text fill=\"#000000\" font-family=\"sans-serif\" font-size=\"12\" font-style=\"italic\" lengthAdjust=\"spacingAndGlyphs\" textLength=\"72\" x=\"71.5\" y=\"57.1387\">«dataType»</text><text fill=\"#000000\" font-family=\"sans-serif\" font-size=\"12\" lengthAdjust=\"spacingAndGlyphs\" textLength=\"27\" x=\"94\" y=\"71.1074\">Real</text><line style=\"stroke: #383838; stroke-width: 1.5;\" x1=\"71.5\" x2=\"143.5\" y1=\"78.9375\" y2=\"78.9375\"/></a><!--MD5=[09b614a08d8cba4a07c9adeb5e0fee81]\n",
       "class E3--><a href=\"psysml:e73f4f0e-f2f2-491a-ad18-2354ebab0714\" target=\"_top\" title=\"psysml:e73f4f0e-f2f2-491a-ad18-2354ebab0714\" xlink:actuate=\"onRequest\" xlink:href=\"psysml:e73f4f0e-f2f2-491a-ad18-2354ebab0714\" xlink:show=\"new\" xlink:title=\"psysml:e73f4f0e-f2f2-491a-ad18-2354ebab0714\" xlink:type=\"simple\"><rect fill=\"#FFFFFF\" height=\"190.7891\" id=\"E3\" style=\"stroke: #383838; stroke-width: 1.5;\" width=\"151\" x=\"32\" y=\"122.5\"/><text fill=\"#000000\" font-family=\"sans-serif\" font-size=\"12\" font-style=\"italic\" lengthAdjust=\"spacingAndGlyphs\" textLength=\"77\" x=\"69\" y=\"138.6387\">«action def»</text><text fill=\"#000000\" font-family=\"sans-serif\" font-size=\"12\" lengthAdjust=\"spacingAndGlyphs\" textLength=\"115\" x=\"50\" y=\"152.6074\">ComputeDynamics</text><line style=\"stroke: #383838; stroke-width: 1.5;\" x1=\"33\" x2=\"182\" y1=\"160.4375\" y2=\"160.4375\"/><text fill=\"#000000\" font-family=\"sans-serif\" font-size=\"11\" lengthAdjust=\"spacingAndGlyphs\" textLength=\"47\" x=\"38\" y=\"191.4526\">Cd: Real</text><text fill=\"#000000\" font-family=\"sans-serif\" font-size=\"11\" lengthAdjust=\"spacingAndGlyphs\" textLength=\"44\" x=\"38\" y=\"204.2573\">Cf: Real</text><text fill=\"#000000\" font-family=\"sans-serif\" font-size=\"11\" lengthAdjust=\"spacingAndGlyphs\" textLength=\"139\" x=\"38\" y=\"217.062\">a_out: AccelerationValue</text><text fill=\"#000000\" font-family=\"sans-serif\" font-size=\"11\" lengthAdjust=\"spacingAndGlyphs\" textLength=\"98\" x=\"38\" y=\"229.8667\">dt: DurationValue</text><text fill=\"#000000\" font-family=\"sans-serif\" font-size=\"11\" lengthAdjust=\"spacingAndGlyphs\" textLength=\"84\" x=\"38\" y=\"242.6714\">tm: MassValue</text><text fill=\"#000000\" font-family=\"sans-serif\" font-size=\"11\" lengthAdjust=\"spacingAndGlyphs\" textLength=\"97\" x=\"38\" y=\"255.4761\">v_in: SpeedValue</text><text fill=\"#000000\" font-family=\"sans-serif\" font-size=\"11\" lengthAdjust=\"spacingAndGlyphs\" textLength=\"105\" x=\"38\" y=\"268.2808\">v_out: SpeedValue</text><text fill=\"#000000\" font-family=\"sans-serif\" font-size=\"11\" lengthAdjust=\"spacingAndGlyphs\" textLength=\"114\" x=\"38\" y=\"281.0854\">whlpwr: PowerValue</text><text fill=\"#000000\" font-family=\"sans-serif\" font-size=\"11\" lengthAdjust=\"spacingAndGlyphs\" textLength=\"99\" x=\"38\" y=\"293.8901\">x_in: LengthValue</text><text fill=\"#000000\" font-family=\"sans-serif\" font-size=\"11\" lengthAdjust=\"spacingAndGlyphs\" textLength=\"107\" x=\"38\" y=\"306.6948\">x_out: LengthValue</text><line style=\"stroke: #383838; stroke-width: 1.0;\" x1=\"33\" x2=\"80\" y1=\"174.8398\" y2=\"174.8398\"/><text fill=\"#000000\" font-family=\"sans-serif\" font-size=\"11\" lengthAdjust=\"spacingAndGlyphs\" textLength=\"55\" x=\"80\" y=\"178.1479\">attributes</text><line style=\"stroke: #383838; stroke-width: 1.0;\" x1=\"135\" x2=\"182\" y1=\"174.8398\" y2=\"174.8398\"/></a><!--MD5=[ebbe1d658d1005bcc118a6aa81145e00]\n",
       "class E4--><a href=\"psysml:60a2becf-7a46-4ebd-946f-3a728f7b6aab\" target=\"_top\" title=\"psysml:60a2becf-7a46-4ebd-946f-3a728f7b6aab\" xlink:actuate=\"onRequest\" xlink:href=\"psysml:60a2becf-7a46-4ebd-946f-3a728f7b6aab\" xlink:show=\"new\" xlink:title=\"psysml:60a2becf-7a46-4ebd-946f-3a728f7b6aab\" xlink:type=\"simple\"><rect fill=\"#FFFFFF\" height=\"45.9375\" id=\"E4\" style=\"stroke: #383838; stroke-width: 1.5;\" width=\"152\" x=\"243\" y=\"195\"/><text fill=\"#000000\" font-family=\"sans-serif\" font-size=\"12\" font-style=\"italic\" lengthAdjust=\"spacingAndGlyphs\" textLength=\"132\" x=\"253\" y=\"211.1387\">«annotatingFeature»</text><text fill=\"#000000\" font-family=\"sans-serif\" font-size=\"12\" lengthAdjust=\"spacingAndGlyphs\" text-decoration=\"line-through\" textLength=\"51\" x=\"246\" y=\"225.1074\">noname</text><text fill=\"#000000\" font-family=\"sans-serif\" font-size=\"12\" lengthAdjust=\"spacingAndGlyphs\" textLength=\"95\" x=\"297\" y=\"225.1074\">: ToolExecution</text><line style=\"stroke: #383838; stroke-width: 1.5;\" x1=\"244\" x2=\"394\" y1=\"232.9375\" y2=\"232.9375\"/></a><!--MD5=[270fce915f116d4de14055a7c1d9a0f3]\n",
       "class E5--><a href=\"psysml:b02ba1b2-12c8-4052-9523-3aa0c79993f0\" target=\"_top\" title=\"psysml:b02ba1b2-12c8-4052-9523-3aa0c79993f0\" xlink:actuate=\"onRequest\" xlink:href=\"psysml:b02ba1b2-12c8-4052-9523-3aa0c79993f0\" xlink:show=\"new\" xlink:title=\"psysml:b02ba1b2-12c8-4052-9523-3aa0c79993f0\" xlink:type=\"simple\"><rect fill=\"#FFFFFF\" height=\"45.9375\" id=\"E5\" style=\"stroke: #383838; stroke-width: 1.5;\" width=\"126\" x=\"455\" y=\"231\"/><text fill=\"#000000\" font-family=\"sans-serif\" font-size=\"12\" font-style=\"italic\" lengthAdjust=\"spacingAndGlyphs\" textLength=\"124\" x=\"456\" y=\"247.1387\">«metadataFeature»</text><text fill=\"#000000\" font-family=\"sans-serif\" font-size=\"12\" lengthAdjust=\"spacingAndGlyphs\" textLength=\"60\" x=\"488\" y=\"261.1074\">toolName</text><line style=\"stroke: #383838; stroke-width: 1.5;\" x1=\"456\" x2=\"580\" y1=\"268.9375\" y2=\"268.9375\"/></a><!--MD5=[60a26617385b1d2d0262a64233df1f8d]\n",
       "class E6--><a href=\"psysml:cb4006f5-0e41-4f05-aa2a-a57df33d56ff\" target=\"_top\" title=\"psysml:cb4006f5-0e41-4f05-aa2a-a57df33d56ff\" xlink:actuate=\"onRequest\" xlink:href=\"psysml:cb4006f5-0e41-4f05-aa2a-a57df33d56ff\" xlink:show=\"new\" xlink:title=\"psysml:cb4006f5-0e41-4f05-aa2a-a57df33d56ff\" xlink:type=\"simple\"><rect fill=\"#FFFFFF\" height=\"45.9375\" id=\"E6\" style=\"stroke: #383838; stroke-width: 1.5;\" width=\"126\" x=\"455\" y=\"150\"/><text fill=\"#000000\" font-family=\"sans-serif\" font-size=\"12\" font-style=\"italic\" lengthAdjust=\"spacingAndGlyphs\" textLength=\"124\" x=\"456\" y=\"166.1387\">«metadataFeature»</text><text fill=\"#000000\" font-family=\"sans-serif\" font-size=\"12\" lengthAdjust=\"spacingAndGlyphs\" textLength=\"16\" x=\"510\" y=\"180.1074\">uri</text><line style=\"stroke: #383838; stroke-width: 1.5;\" x1=\"456\" x2=\"580\" y1=\"187.9375\" y2=\"187.9375\"/></a><!--MD5=[4672eba38e49728da53d11aeb285b987]\n",
       "reverse link E3 to E4--><a href=\"psysml:66d6f7e6-2188-4a34-9637-6b4b270c496c\" target=\"_top\" title=\"psysml:66d6f7e6-2188-4a34-9637-6b4b270c496c\" xlink:actuate=\"onRequest\" xlink:href=\"psysml:66d6f7e6-2188-4a34-9637-6b4b270c496c\" xlink:show=\"new\" xlink:title=\"psysml:66d6f7e6-2188-4a34-9637-6b4b270c496c\" xlink:type=\"simple\"><path d=\"M198.49,218 C213.31,218 228.53,218 242.93,218 \" fill=\"none\" id=\"E3&lt;-E4\" style=\"stroke: #383838; stroke-width: 1.0;\"/><ellipse cx=\"191.25\" cy=\"218\" fill=\"#FFFFFF\" rx=\"8\" ry=\"8\" style=\"stroke: #383838; stroke-width: 1.0;\"/><line style=\"stroke: #383838; stroke-width: 1.0;\" x1=\"199.25\" x2=\"183.25\" y1=\"218\" y2=\"218\"/><line style=\"stroke: #383838; stroke-width: 1.0;\" x1=\"191.25\" x2=\"191.25\" y1=\"226\" y2=\"210\"/></a><!--MD5=[62aa6af11e70f752912c1cb0466f24f7]\n",
       "reverse link E4 to E5--><a href=\"psysml:4336f8bf-5a73-49a4-a706-8a85ff7218c2\" target=\"_top\" title=\"psysml:4336f8bf-5a73-49a4-a706-8a85ff7218c2\" xlink:actuate=\"onRequest\" xlink:href=\"psysml:4336f8bf-5a73-49a4-a706-8a85ff7218c2\" xlink:show=\"new\" xlink:title=\"psysml:4336f8bf-5a73-49a4-a706-8a85ff7218c2\" xlink:type=\"simple\"><path d=\"M408.18,234.11 C423.97,237 440.12,239.95 454.98,242.67 \" fill=\"none\" id=\"E4&lt;-E5\" style=\"stroke: #383838; stroke-width: 1.0;\"/><polygon fill=\"#383838\" points=\"395.04,231.71,400.2218,236.7249,406.8439,233.8705,401.6621,228.8556,395.04,231.71\" style=\"stroke: #383838; stroke-width: 1.0;\"/></a><!--MD5=[6db378b65e1aef66a01cb3103812b399]\n",
       "reverse link E4 to E6--><a href=\"psysml:14217a47-d828-403c-a59e-1cb114a87a2b\" target=\"_top\" title=\"psysml:14217a47-d828-403c-a59e-1cb114a87a2b\" xlink:actuate=\"onRequest\" xlink:href=\"psysml:14217a47-d828-403c-a59e-1cb114a87a2b\" xlink:show=\"new\" xlink:title=\"psysml:14217a47-d828-403c-a59e-1cb114a87a2b\" xlink:type=\"simple\"><path d=\"M408.18,197.86 C423.97,194.25 440.12,190.56 454.98,187.17 \" fill=\"none\" id=\"E4&lt;-E6\" style=\"stroke: #383838; stroke-width: 1.0;\"/><polygon fill=\"#383838\" points=\"395.04,200.86,401.7812,203.4206,406.7376,198.1829,399.9964,195.6223,395.04,200.86\" style=\"stroke: #383838; stroke-width: 1.0;\"/></a><!--MD5=[3ec41e4e58e41dbb0ad67badeae60d2c]\n",
       "@startuml\r\n",
       "left to right direction\r\n",
       "skinparam monochrome true\r\n",
       "skinparam classbackgroundcolor white\r\n",
       "skinparam shadowing false\r\n",
       "skinparam wrapWidth 300\r\n",
       "hide circle\r\n",
       "\r\n",
       "package \"AnalysisAnnotation\" as E1  [[psysml:3f9dd228-0d59-436f-8c66-7bfaf74317e1 ]]  {\r\n",
       "comp def \"Real\" as E2  <<(T,blue)dataType>> [[psysml:44eddca9-682f-4ef7-a7c7-a9f194d7f2c9 ]] {\r\n",
       "}\r\n",
       "comp def \"ComputeDynamics\" as E3  <<(T,blue)action def>> [[psysml:e73f4f0e-f2f2-491a-ad18-2354ebab0714 ]] {\r\n",
       "- - attributes - -\r\n",
       "Cd: Real\r\n",
       "Cf: Real\r\n",
       "a_out: AccelerationValue\r\n",
       "dt: DurationValue\r\n",
       "tm: MassValue\r\n",
       "v_in: SpeedValue\r\n",
       "v_out: SpeedValue\r\n",
       "whlpwr: PowerValue\r\n",
       "x_in: LengthValue\r\n",
       "x_out: LengthValue\r\n",
       "}\r\n",
       "comp def \"<s>noname</s>: ToolExecution\" as E4  <<(T,blue)annotatingFeature>> [[psysml:60a2becf-7a46-4ebd-946f-3a728f7b6aab ]] {\r\n",
       "}\r\n",
       "comp def \"toolName\" as E5  <<(T,blue)metadataFeature>> [[psysml:b02ba1b2-12c8-4052-9523-3aa0c79993f0 ]] {\r\n",
       "}\r\n",
       "comp def \"uri\" as E6  <<(T,blue)metadataFeature>> [[psysml:cb4006f5-0e41-4f05-aa2a-a57df33d56ff ]] {\r\n",
       "}\r\n",
       "E3 +- - E4 [[psysml:66d6f7e6-2188-4a34-9637-6b4b270c496c ]] \r\n",
       "E4 *- - E5 [[psysml:4336f8bf-5a73-49a4-a706-8a85ff7218c2 ]] \r\n",
       "E4 *- - E6 [[psysml:14217a47-d828-403c-a59e-1cb114a87a2b ]] \r\n",
       "}\r\n",
       "@enduml\r\n",
       "\n",
       "PlantUML version 1.2020.13(Sat Jun 13 12:26:38 UTC 2020)\n",
       "(EPL source distribution)\n",
       "Java Runtime: OpenJDK Runtime Environment\n",
       "JVM: OpenJDK 64-Bit Server VM\n",
       "Default Encoding: UTF-8\n",
       "Language: en\n",
       "Country: null\n",
       "--></g></svg>"
      ]
     },
     "execution_count": 17,
     "metadata": {},
     "output_type": "execute_result"
    }
   ],
   "source": [
    "%viz --style=\"LR\" --view=\"Tree\" \"AnalysisAnnotation\""
   ]
  },
  {
   "cell_type": "code",
   "execution_count": 18,
   "id": "621844aa",
   "metadata": {
    "execution": {
     "iopub.execute_input": "2021-04-20T07:28:15.661500Z",
     "iopub.status.busy": "2021-04-20T07:28:15.659750Z",
     "iopub.status.idle": "2021-04-20T07:28:15.672013Z",
     "shell.execute_reply": "2021-04-20T07:28:15.671593Z"
    }
   },
   "outputs": [
    {
     "data": {
      "image/svg+xml": [
       "<?xml version=\"1.0\" encoding=\"UTF-8\" standalone=\"no\"?><svg xmlns=\"http://www.w3.org/2000/svg\" xmlns:xlink=\"http://www.w3.org/1999/xlink\" contentScriptType=\"application/ecmascript\" contentStyleType=\"text/css\" height=\"12px\" preserveAspectRatio=\"none\" style=\"width:12px;height:12px;\" version=\"1.1\" viewBox=\"0 0 12 12\" width=\"12px\" zoomAndPan=\"magnify\"><defs/><g><!--MD5=[19d285c9d72a204eba4e2cd117d745e8]\n",
       "@startuml\r\n",
       "left to right direction\r\n",
       "skinparam monochrome true\r\n",
       "skinparam classbackgroundcolor white\r\n",
       "skinparam shadowing false\r\n",
       "skinparam wrapWidth 300\r\n",
       "hide circle\r\n",
       "\r\n",
       "@enduml\r\n",
       "\n",
       "PlantUML version 1.2020.13(Sat Jun 13 12:26:38 UTC 2020)\n",
       "(EPL source distribution)\n",
       "Java Runtime: OpenJDK Runtime Environment\n",
       "JVM: OpenJDK 64-Bit Server VM\n",
       "Default Encoding: UTF-8\n",
       "Language: en\n",
       "Country: null\n",
       "--></g></svg>"
      ]
     },
     "execution_count": 18,
     "metadata": {},
     "output_type": "execute_result"
    }
   ],
   "source": [
    "%viz --style=\"LR\" --view=\"State\" \"AnalysisAnnotation\""
   ]
  },
  {
   "cell_type": "code",
   "execution_count": 19,
   "id": "1280e697",
   "metadata": {
    "execution": {
     "iopub.execute_input": "2021-04-20T07:28:15.724177Z",
     "iopub.status.busy": "2021-04-20T07:28:15.723335Z",
     "iopub.status.idle": "2021-04-20T07:28:15.762022Z",
     "shell.execute_reply": "2021-04-20T07:28:15.761588Z"
    }
   },
   "outputs": [
    {
     "data": {
      "image/svg+xml": [
       "<?xml version=\"1.0\" encoding=\"UTF-8\" standalone=\"no\"?><svg xmlns=\"http://www.w3.org/2000/svg\" xmlns:xlink=\"http://www.w3.org/1999/xlink\" contentScriptType=\"application/ecmascript\" contentStyleType=\"text/css\" height=\"450px\" preserveAspectRatio=\"none\" style=\"width:373px;height:450px;\" version=\"1.1\" viewBox=\"0 0 373 450\" width=\"373px\" zoomAndPan=\"magnify\"><defs/><g><!--MD5=[fbc87193dbaf4d95561dea2c320d4a47]\n",
       "cluster E1--><a href=\"psysml:3f9dd228-0d59-436f-8c66-7bfaf74317e1\" target=\"_top\" title=\"psysml:3f9dd228-0d59-436f-8c66-7bfaf74317e1\" xlink:actuate=\"onRequest\" xlink:href=\"psysml:3f9dd228-0d59-436f-8c66-7bfaf74317e1\" xlink:show=\"new\" xlink:title=\"psysml:3f9dd228-0d59-436f-8c66-7bfaf74317e1\" xlink:type=\"simple\"><polygon fill=\"#FFFFFF\" points=\"16,6,173,6,180,28.2969,351.72,28.2969,351.72,438,16,438,16,6\" style=\"stroke: #000000; stroke-width: 1.5;\"/><line style=\"stroke: #000000; stroke-width: 1.5;\" x1=\"16\" x2=\"180\" y1=\"28.2969\" y2=\"28.2969\"/><text fill=\"#000000\" font-family=\"sans-serif\" font-size=\"14\" font-weight=\"bold\" lengthAdjust=\"spacingAndGlyphs\" textLength=\"151\" x=\"20\" y=\"20.9951\">AnalysisAnnotation</text></a><!--MD5=[d5e69f78d87373223dbae638b30a9c99]\n",
       "cluster E3--><a href=\"psysml:e73f4f0e-f2f2-491a-ad18-2354ebab0714\" target=\"_top\" title=\"psysml:e73f4f0e-f2f2-491a-ad18-2354ebab0714\" xlink:actuate=\"onRequest\" xlink:href=\"psysml:e73f4f0e-f2f2-491a-ad18-2354ebab0714\" xlink:show=\"new\" xlink:title=\"psysml:e73f4f0e-f2f2-491a-ad18-2354ebab0714\" xlink:type=\"simple\"><rect fill=\"#FFFFFF\" height=\"282\" id=\"E3\" style=\"stroke: #383838; stroke-width: 1.5;\" width=\"268.22\" x=\"53.5\" y=\"55\"/><rect fill=\"#F8F8F8\" height=\"37.9375\" style=\"stroke: #383838; stroke-width: 1.5;\" width=\"268.22\" x=\"53.5\" y=\"55\"/><text fill=\"#000000\" font-family=\"sans-serif\" font-size=\"12\" font-style=\"italic\" lengthAdjust=\"spacingAndGlyphs\" textLength=\"77\" x=\"149.11\" y=\"71.1387\">«action def»</text><text fill=\"#000000\" font-family=\"sans-serif\" font-size=\"12\" lengthAdjust=\"spacingAndGlyphs\" textLength=\"115\" x=\"130.11\" y=\"85.1074\">ComputeDynamics</text></a><g id=\"E1.E2\"><a href=\"psysml:44eddca9-682f-4ef7-a7c7-a9f194d7f2c9\" target=\"_top\" title=\"psysml:44eddca9-682f-4ef7-a7c7-a9f194d7f2c9\" xlink:actuate=\"onRequest\" xlink:href=\"psysml:44eddca9-682f-4ef7-a7c7-a9f194d7f2c9\" xlink:show=\"new\" xlink:title=\"psysml:44eddca9-682f-4ef7-a7c7-a9f194d7f2c9\" xlink:type=\"simple\"><rect fill=\"#FFFFFF\" height=\"42.9375\" id=\"E2\" style=\"stroke: #383838; stroke-width: 1.5;\" width=\"79\" x=\"32\" y=\"378.5\"/><rect fill=\"#F8F8F8\" height=\"37.9375\" style=\"stroke: #383838; stroke-width: 1.5;\" width=\"79\" x=\"32\" y=\"378.5\"/><text fill=\"#000000\" font-family=\"sans-serif\" font-size=\"12\" font-style=\"italic\" lengthAdjust=\"spacingAndGlyphs\" textLength=\"72\" x=\"35.5\" y=\"394.6387\">«dataType»</text><text fill=\"#000000\" font-family=\"sans-serif\" font-size=\"12\" lengthAdjust=\"spacingAndGlyphs\" textLength=\"27\" x=\"58\" y=\"408.6074\">Real</text></a></g><text fill=\"#000000\" font-family=\"sans-serif\" font-size=\"14\" lengthAdjust=\"spacingAndGlyphs\" textLength=\"48\" x=\"297.72\" y=\"281.9951\">$result</text><rect fill=\"#383838\" height=\"12\" style=\"stroke: #F8F8F8; stroke-width: 1.5;\" width=\"12\" x=\"315.72\" y=\"257\"/><text fill=\"#000000\" font-family=\"sans-serif\" font-size=\"14\" lengthAdjust=\"spacingAndGlyphs\" textLength=\"48\" x=\"297.72\" y=\"234.9951\">$result</text><rect fill=\"#383838\" height=\"12\" style=\"stroke: #F8F8F8; stroke-width: 1.5;\" width=\"12\" x=\"315.72\" y=\"210\"/><text fill=\"#000000\" font-family=\"sans-serif\" font-size=\"14\" lengthAdjust=\"spacingAndGlyphs\" textLength=\"14\" x=\"64.5\" y=\"355.9951\">dt</text><rect fill=\"#383838\" height=\"12\" style=\"stroke: #F8F8F8; stroke-width: 1.5;\" width=\"12\" x=\"65.5\" y=\"331\"/><text fill=\"#000000\" font-family=\"sans-serif\" font-size=\"14\" lengthAdjust=\"spacingAndGlyphs\" textLength=\"48\" x=\"47.5\" y=\"308.9951\">whlpwr</text><rect fill=\"#383838\" height=\"12\" style=\"stroke: #F8F8F8; stroke-width: 1.5;\" width=\"12\" x=\"65.5\" y=\"284\"/><text fill=\"#000000\" font-family=\"sans-serif\" font-size=\"14\" lengthAdjust=\"spacingAndGlyphs\" textLength=\"19\" x=\"62\" y=\"261.9951\">Cd</text><rect fill=\"#383838\" height=\"12\" style=\"stroke: #F8F8F8; stroke-width: 1.5;\" width=\"12\" x=\"65.5\" y=\"237\"/><text fill=\"#000000\" font-family=\"sans-serif\" font-size=\"14\" lengthAdjust=\"spacingAndGlyphs\" textLength=\"14\" x=\"64.5\" y=\"174.6982\">Cf</text><rect fill=\"#383838\" height=\"12\" style=\"stroke: #F8F8F8; stroke-width: 1.5;\" width=\"12\" x=\"65.5\" y=\"190\"/><text fill=\"#000000\" font-family=\"sans-serif\" font-size=\"14\" lengthAdjust=\"spacingAndGlyphs\" textLength=\"18\" x=\"62.5\" y=\"127.6982\">tm</text><rect fill=\"#383838\" height=\"12\" style=\"stroke: #F8F8F8; stroke-width: 1.5;\" width=\"12\" x=\"65.5\" y=\"143\"/><text fill=\"#000000\" font-family=\"sans-serif\" font-size=\"14\" lengthAdjust=\"spacingAndGlyphs\" textLength=\"26\" x=\"58.5\" y=\"80.6982\">v_in</text><rect fill=\"#383838\" height=\"12\" style=\"stroke: #F8F8F8; stroke-width: 1.5;\" width=\"12\" x=\"65.5\" y=\"96\"/><text fill=\"#000000\" font-family=\"sans-serif\" font-size=\"14\" lengthAdjust=\"spacingAndGlyphs\" textLength=\"26\" x=\"58.5\" y=\"33.6982\">x_in</text><rect fill=\"#383838\" height=\"12\" style=\"stroke: #F8F8F8; stroke-width: 1.5;\" width=\"12\" x=\"65.5\" y=\"49\"/><text fill=\"#000000\" font-family=\"sans-serif\" font-size=\"14\" lengthAdjust=\"spacingAndGlyphs\" textLength=\"38\" x=\"302.72\" y=\"147.6982\">a_out</text><rect fill=\"#383838\" height=\"12\" style=\"stroke: #F8F8F8; stroke-width: 1.5;\" width=\"12\" x=\"315.72\" y=\"163\"/><text fill=\"#000000\" font-family=\"sans-serif\" font-size=\"14\" lengthAdjust=\"spacingAndGlyphs\" textLength=\"37\" x=\"303.22\" y=\"100.6982\">v_out</text><rect fill=\"#383838\" height=\"12\" style=\"stroke: #F8F8F8; stroke-width: 1.5;\" width=\"12\" x=\"315.72\" y=\"116\"/><text fill=\"#000000\" font-family=\"sans-serif\" font-size=\"14\" lengthAdjust=\"spacingAndGlyphs\" textLength=\"37\" x=\"303.22\" y=\"53.6982\">x_out</text><rect fill=\"#383838\" height=\"12\" style=\"stroke: #F8F8F8; stroke-width: 1.5;\" width=\"12\" x=\"315.72\" y=\"69\"/><!--MD5=[8beedb16930b67a3c13ab679aecdab8c]\n",
       "@startuml\r\n",
       "skinparam ranksep 10\r\n",
       "skinparam rectangle {\r\n",
       " backgroundColor<<block>> LightGreen\r\n",
       "}\r\n",
       "left to right direction\r\n",
       "skinparam monochrome true\r\n",
       "skinparam classbackgroundcolor white\r\n",
       "skinparam shadowing false\r\n",
       "skinparam wrapWidth 300\r\n",
       "hide circle\r\n",
       "\r\n",
       "package \"AnalysisAnnotation\" as E1  [[psysml:3f9dd228-0d59-436f-8c66-7bfaf74317e1 ]]  {\r\n",
       "def \"Real\" as E2  <<(T,blue)dataType>> [[psysml:44eddca9-682f-4ef7-a7c7-a9f194d7f2c9 ]] \r\n",
       "rec def \"ComputeDynamics\" as E3  <<(T,blue)action def>> [[psysml:e73f4f0e-f2f2-491a-ad18-2354ebab0714 ]] {\r\n",
       "portout \"$result\" as E4  [[psysml:321a5472-f26a-4f44-adf1-e887f248e10c ]] \r\n",
       "portout \"$result\" as E5  [[psysml:249d7fd3-af20-489f-a52b-b6c298227647 ]] \r\n",
       "portin \"dt\" as E6  [[psysml:d9dfe931-1109-47e6-bc0c-352db24577b0 ]] \r\n",
       "portin \"whlpwr\" as E7  [[psysml:44277f67-022c-45f6-9760-98798ee04e09 ]] \r\n",
       "portin \"Cd\" as E8  [[psysml:41d96645-5d65-4e32-85e5-332077e108f6 ]] \r\n",
       "portin \"Cf\" as E9  [[psysml:aebf7dc6-628a-4d75-a952-13ccca53817c ]] \r\n",
       "portin \"tm\" as E10  [[psysml:08dba41b-e930-4b20-afae-ef7ae15f00ec ]] \r\n",
       "portin \"v_in\" as E11  [[psysml:e3f3c5a0-ed9d-41a6-a918-fe4a600fe261 ]] \r\n",
       "portin \"x_in\" as E12  [[psysml:fb3fca97-7004-4d76-8828-7714499f1454 ]] \r\n",
       "portout \"a_out\" as E13  [[psysml:5a710766-56b6-4c7a-9ae9-326b3f7572a8 ]] \r\n",
       "portout \"v_out\" as E14  [[psysml:1e62abd8-4172-4662-8f1c-1e7c30e8c54c ]] \r\n",
       "portout \"x_out\" as E15  [[psysml:e4c640c8-309e-4572-81b1-e78594ed37ec ]] \r\n",
       "}\r\n",
       "\r\n",
       "}\r\n",
       "@enduml\r\n",
       "\n",
       "PlantUML version 1.2020.13(Sat Jun 13 12:26:38 UTC 2020)\n",
       "(EPL source distribution)\n",
       "Java Runtime: OpenJDK Runtime Environment\n",
       "JVM: OpenJDK 64-Bit Server VM\n",
       "Default Encoding: UTF-8\n",
       "Language: en\n",
       "Country: null\n",
       "--></g></svg>"
      ]
     },
     "execution_count": 19,
     "metadata": {},
     "output_type": "execute_result"
    }
   ],
   "source": [
    "%viz --style=\"LR\" --view=\"Interconnection\" \"AnalysisAnnotation\""
   ]
  },
  {
   "cell_type": "code",
   "execution_count": 20,
   "id": "905d6c43",
   "metadata": {
    "execution": {
     "iopub.execute_input": "2021-04-20T07:28:15.813498Z",
     "iopub.status.busy": "2021-04-20T07:28:15.812882Z",
     "iopub.status.idle": "2021-04-20T07:28:15.843982Z",
     "shell.execute_reply": "2021-04-20T07:28:15.842613Z"
    }
   },
   "outputs": [
    {
     "data": {
      "image/svg+xml": [
       "<?xml version=\"1.0\" encoding=\"UTF-8\" standalone=\"no\"?><svg xmlns=\"http://www.w3.org/2000/svg\" xmlns:xlink=\"http://www.w3.org/1999/xlink\" contentScriptType=\"application/ecmascript\" contentStyleType=\"text/css\" height=\"356px\" preserveAspectRatio=\"none\" style=\"width:280px;height:356px;\" version=\"1.1\" viewBox=\"0 0 280 356\" width=\"280px\" zoomAndPan=\"magnify\"><defs/><g><!--MD5=[fbc87193dbaf4d95561dea2c320d4a47]\n",
       "cluster E1--><a href=\"psysml:e73f4f0e-f2f2-491a-ad18-2354ebab0714\" target=\"_top\" title=\"psysml:e73f4f0e-f2f2-491a-ad18-2354ebab0714\" xlink:actuate=\"onRequest\" xlink:href=\"psysml:e73f4f0e-f2f2-491a-ad18-2354ebab0714\" xlink:show=\"new\" xlink:title=\"psysml:e73f4f0e-f2f2-491a-ad18-2354ebab0714\" xlink:type=\"simple\"><rect fill=\"#FFFFFF\" height=\"282\" id=\"E1\" style=\"stroke: #383838; stroke-width: 1.5;\" width=\"232.72\" x=\"12\" y=\"42.0986\"/><rect fill=\"#F8F8F8\" height=\"37.9375\" style=\"stroke: #383838; stroke-width: 1.5;\" width=\"232.72\" x=\"12\" y=\"42.0986\"/><text fill=\"#000000\" font-family=\"sans-serif\" font-size=\"12\" font-style=\"italic\" lengthAdjust=\"spacingAndGlyphs\" textLength=\"77\" x=\"89.86\" y=\"58.2373\">«action def»</text><text fill=\"#000000\" font-family=\"sans-serif\" font-size=\"12\" lengthAdjust=\"spacingAndGlyphs\" textLength=\"115\" x=\"70.86\" y=\"72.2061\">ComputeDynamics</text></a><text fill=\"#000000\" font-family=\"sans-serif\" font-size=\"14\" lengthAdjust=\"spacingAndGlyphs\" textLength=\"48\" x=\"220.72\" y=\"269.0938\">$result</text><rect fill=\"#383838\" height=\"12\" style=\"stroke: #F8F8F8; stroke-width: 1.5;\" width=\"12\" x=\"238.72\" y=\"244.0986\"/><text fill=\"#000000\" font-family=\"sans-serif\" font-size=\"14\" lengthAdjust=\"spacingAndGlyphs\" textLength=\"48\" x=\"220.72\" y=\"222.0938\">$result</text><rect fill=\"#383838\" height=\"12\" style=\"stroke: #F8F8F8; stroke-width: 1.5;\" width=\"12\" x=\"238.72\" y=\"197.0986\"/><text fill=\"#000000\" font-family=\"sans-serif\" font-size=\"14\" lengthAdjust=\"spacingAndGlyphs\" textLength=\"14\" x=\"23\" y=\"343.0938\">dt</text><rect fill=\"#383838\" height=\"12\" style=\"stroke: #F8F8F8; stroke-width: 1.5;\" width=\"12\" x=\"24\" y=\"318.0986\"/><text fill=\"#000000\" font-family=\"sans-serif\" font-size=\"14\" lengthAdjust=\"spacingAndGlyphs\" textLength=\"48\" x=\"6\" y=\"296.0938\">whlpwr</text><rect fill=\"#383838\" height=\"12\" style=\"stroke: #F8F8F8; stroke-width: 1.5;\" width=\"12\" x=\"24\" y=\"271.0986\"/><text fill=\"#000000\" font-family=\"sans-serif\" font-size=\"14\" lengthAdjust=\"spacingAndGlyphs\" textLength=\"19\" x=\"20.5\" y=\"249.0938\">Cd</text><rect fill=\"#383838\" height=\"12\" style=\"stroke: #F8F8F8; stroke-width: 1.5;\" width=\"12\" x=\"24\" y=\"224.0986\"/><text fill=\"#000000\" font-family=\"sans-serif\" font-size=\"14\" lengthAdjust=\"spacingAndGlyphs\" textLength=\"14\" x=\"23\" y=\"161.7969\">Cf</text><rect fill=\"#383838\" height=\"12\" style=\"stroke: #F8F8F8; stroke-width: 1.5;\" width=\"12\" x=\"24\" y=\"177.0986\"/><text fill=\"#000000\" font-family=\"sans-serif\" font-size=\"14\" lengthAdjust=\"spacingAndGlyphs\" textLength=\"18\" x=\"21\" y=\"114.7969\">tm</text><rect fill=\"#383838\" height=\"12\" style=\"stroke: #F8F8F8; stroke-width: 1.5;\" width=\"12\" x=\"24\" y=\"130.0986\"/><text fill=\"#000000\" font-family=\"sans-serif\" font-size=\"14\" lengthAdjust=\"spacingAndGlyphs\" textLength=\"26\" x=\"17\" y=\"67.7969\">v_in</text><rect fill=\"#383838\" height=\"12\" style=\"stroke: #F8F8F8; stroke-width: 1.5;\" width=\"12\" x=\"24\" y=\"83.0986\"/><text fill=\"#000000\" font-family=\"sans-serif\" font-size=\"14\" lengthAdjust=\"spacingAndGlyphs\" textLength=\"26\" x=\"17\" y=\"20.7969\">x_in</text><rect fill=\"#383838\" height=\"12\" style=\"stroke: #F8F8F8; stroke-width: 1.5;\" width=\"12\" x=\"24\" y=\"36.0986\"/><text fill=\"#000000\" font-family=\"sans-serif\" font-size=\"14\" lengthAdjust=\"spacingAndGlyphs\" textLength=\"38\" x=\"225.72\" y=\"134.7969\">a_out</text><rect fill=\"#383838\" height=\"12\" style=\"stroke: #F8F8F8; stroke-width: 1.5;\" width=\"12\" x=\"238.72\" y=\"150.0986\"/><text fill=\"#000000\" font-family=\"sans-serif\" font-size=\"14\" lengthAdjust=\"spacingAndGlyphs\" textLength=\"37\" x=\"226.22\" y=\"87.7969\">v_out</text><rect fill=\"#383838\" height=\"12\" style=\"stroke: #F8F8F8; stroke-width: 1.5;\" width=\"12\" x=\"238.72\" y=\"103.0986\"/><text fill=\"#000000\" font-family=\"sans-serif\" font-size=\"14\" lengthAdjust=\"spacingAndGlyphs\" textLength=\"37\" x=\"226.22\" y=\"40.7969\">x_out</text><rect fill=\"#383838\" height=\"12\" style=\"stroke: #F8F8F8; stroke-width: 1.5;\" width=\"12\" x=\"238.72\" y=\"56.0986\"/><!--MD5=[a48d9e95f5e2b0748fcd536cafdeaba6]\n",
       "@startuml\r\n",
       "skinparam ranksep 8\r\n",
       "left to right direction\r\n",
       "skinparam monochrome true\r\n",
       "skinparam classbackgroundcolor white\r\n",
       "skinparam shadowing false\r\n",
       "skinparam wrapWidth 300\r\n",
       "hide circle\r\n",
       "\r\n",
       "rec def \"ComputeDynamics\" as E1  <<(T,blue)action def>> [[psysml:e73f4f0e-f2f2-491a-ad18-2354ebab0714 ]] {\r\n",
       "portout \"$result\" as E2  [[psysml:321a5472-f26a-4f44-adf1-e887f248e10c ]] \r\n",
       "portout \"$result\" as E3  [[psysml:249d7fd3-af20-489f-a52b-b6c298227647 ]] \r\n",
       "portin \"dt\" as E4  [[psysml:d9dfe931-1109-47e6-bc0c-352db24577b0 ]] \r\n",
       "portin \"whlpwr\" as E5  [[psysml:44277f67-022c-45f6-9760-98798ee04e09 ]] \r\n",
       "portin \"Cd\" as E6  [[psysml:41d96645-5d65-4e32-85e5-332077e108f6 ]] \r\n",
       "portin \"Cf\" as E7  [[psysml:aebf7dc6-628a-4d75-a952-13ccca53817c ]] \r\n",
       "portin \"tm\" as E8  [[psysml:08dba41b-e930-4b20-afae-ef7ae15f00ec ]] \r\n",
       "portin \"v_in\" as E9  [[psysml:e3f3c5a0-ed9d-41a6-a918-fe4a600fe261 ]] \r\n",
       "portin \"x_in\" as E10  [[psysml:fb3fca97-7004-4d76-8828-7714499f1454 ]] \r\n",
       "portout \"a_out\" as E11  [[psysml:5a710766-56b6-4c7a-9ae9-326b3f7572a8 ]] \r\n",
       "portout \"v_out\" as E12  [[psysml:1e62abd8-4172-4662-8f1c-1e7c30e8c54c ]] \r\n",
       "portout \"x_out\" as E13  [[psysml:e4c640c8-309e-4572-81b1-e78594ed37ec ]] \r\n",
       "}\r\n",
       "\r\n",
       "@enduml\r\n",
       "\n",
       "PlantUML version 1.2020.13(Sat Jun 13 12:26:38 UTC 2020)\n",
       "(EPL source distribution)\n",
       "Java Runtime: OpenJDK Runtime Environment\n",
       "JVM: OpenJDK 64-Bit Server VM\n",
       "Default Encoding: UTF-8\n",
       "Language: en\n",
       "Country: null\n",
       "--></g></svg>"
      ]
     },
     "execution_count": 20,
     "metadata": {},
     "output_type": "execute_result"
    }
   ],
   "source": [
    "%viz --style=\"LR\" --view=\"Action\" \"AnalysisAnnotation\""
   ]
  },
  {
   "cell_type": "code",
   "execution_count": 21,
   "id": "0d7a14cb",
   "metadata": {
    "execution": {
     "iopub.execute_input": "2021-04-20T07:28:15.895844Z",
     "iopub.status.busy": "2021-04-20T07:28:15.895182Z",
     "iopub.status.idle": "2021-04-20T07:28:16.041468Z",
     "shell.execute_reply": "2021-04-20T07:28:16.041123Z"
    }
   },
   "outputs": [
    {
     "data": {
      "image/svg+xml": [
       "<?xml version=\"1.0\" encoding=\"UTF-8\" standalone=\"no\"?><svg xmlns=\"http://www.w3.org/2000/svg\" xmlns:xlink=\"http://www.w3.org/1999/xlink\" contentScriptType=\"application/ecmascript\" contentStyleType=\"text/css\" height=\"342px\" preserveAspectRatio=\"none\" style=\"width:619px;height:342px;\" version=\"1.1\" viewBox=\"0 0 619 342\" width=\"619px\" zoomAndPan=\"magnify\"><defs/><g><!--MD5=[fbc87193dbaf4d95561dea2c320d4a47]\n",
       "cluster E1--><a href=\"psysml:3f9dd228-0d59-436f-8c66-7bfaf74317e1\" target=\"_top\" title=\"psysml:3f9dd228-0d59-436f-8c66-7bfaf74317e1\" xlink:actuate=\"onRequest\" xlink:href=\"psysml:3f9dd228-0d59-436f-8c66-7bfaf74317e1\" xlink:show=\"new\" xlink:title=\"psysml:3f9dd228-0d59-436f-8c66-7bfaf74317e1\" xlink:type=\"simple\"><polygon fill=\"#FFFFFF\" points=\"16,6,173,6,180,28.2969,597,28.2969,597,330,16,330,16,6\" style=\"stroke: #000000; stroke-width: 1.5;\"/><line style=\"stroke: #000000; stroke-width: 1.5;\" x1=\"16\" x2=\"180\" y1=\"28.2969\" y2=\"28.2969\"/><text fill=\"#000000\" font-family=\"sans-serif\" font-size=\"14\" font-weight=\"bold\" lengthAdjust=\"spacingAndGlyphs\" textLength=\"151\" x=\"20\" y=\"20.9951\">AnalysisAnnotation</text></a><!--MD5=[b4997ac47864f28c2f74865a473b2911]\n",
       "class E2--><a href=\"psysml:44eddca9-682f-4ef7-a7c7-a9f194d7f2c9\" target=\"_top\" title=\"psysml:44eddca9-682f-4ef7-a7c7-a9f194d7f2c9\" xlink:actuate=\"onRequest\" xlink:href=\"psysml:44eddca9-682f-4ef7-a7c7-a9f194d7f2c9\" xlink:show=\"new\" xlink:title=\"psysml:44eddca9-682f-4ef7-a7c7-a9f194d7f2c9\" xlink:type=\"simple\"><rect fill=\"#FFFFFF\" height=\"45.9375\" id=\"E2\" style=\"stroke: #383838; stroke-width: 1.5;\" width=\"74\" x=\"70.5\" y=\"41\"/><text fill=\"#000000\" font-family=\"sans-serif\" font-size=\"12\" font-style=\"italic\" lengthAdjust=\"spacingAndGlyphs\" textLength=\"72\" x=\"71.5\" y=\"57.1387\">«dataType»</text><text fill=\"#000000\" font-family=\"sans-serif\" font-size=\"12\" lengthAdjust=\"spacingAndGlyphs\" textLength=\"27\" x=\"94\" y=\"71.1074\">Real</text><line style=\"stroke: #383838; stroke-width: 1.5;\" x1=\"71.5\" x2=\"143.5\" y1=\"78.9375\" y2=\"78.9375\"/></a><!--MD5=[09b614a08d8cba4a07c9adeb5e0fee81]\n",
       "class E3--><a href=\"psysml:e73f4f0e-f2f2-491a-ad18-2354ebab0714\" target=\"_top\" title=\"psysml:e73f4f0e-f2f2-491a-ad18-2354ebab0714\" xlink:actuate=\"onRequest\" xlink:href=\"psysml:e73f4f0e-f2f2-491a-ad18-2354ebab0714\" xlink:show=\"new\" xlink:title=\"psysml:e73f4f0e-f2f2-491a-ad18-2354ebab0714\" xlink:type=\"simple\"><rect fill=\"#FFFFFF\" height=\"190.7891\" id=\"E3\" style=\"stroke: #383838; stroke-width: 1.5;\" width=\"151\" x=\"32\" y=\"122.5\"/><text fill=\"#000000\" font-family=\"sans-serif\" font-size=\"12\" font-style=\"italic\" lengthAdjust=\"spacingAndGlyphs\" textLength=\"77\" x=\"69\" y=\"138.6387\">«action def»</text><text fill=\"#000000\" font-family=\"sans-serif\" font-size=\"12\" lengthAdjust=\"spacingAndGlyphs\" textLength=\"115\" x=\"50\" y=\"152.6074\">ComputeDynamics</text><line style=\"stroke: #383838; stroke-width: 1.5;\" x1=\"33\" x2=\"182\" y1=\"160.4375\" y2=\"160.4375\"/><text fill=\"#000000\" font-family=\"sans-serif\" font-size=\"11\" lengthAdjust=\"spacingAndGlyphs\" textLength=\"47\" x=\"38\" y=\"191.4526\">Cd: Real</text><text fill=\"#000000\" font-family=\"sans-serif\" font-size=\"11\" lengthAdjust=\"spacingAndGlyphs\" textLength=\"44\" x=\"38\" y=\"204.2573\">Cf: Real</text><text fill=\"#000000\" font-family=\"sans-serif\" font-size=\"11\" lengthAdjust=\"spacingAndGlyphs\" textLength=\"139\" x=\"38\" y=\"217.062\">a_out: AccelerationValue</text><text fill=\"#000000\" font-family=\"sans-serif\" font-size=\"11\" lengthAdjust=\"spacingAndGlyphs\" textLength=\"98\" x=\"38\" y=\"229.8667\">dt: DurationValue</text><text fill=\"#000000\" font-family=\"sans-serif\" font-size=\"11\" lengthAdjust=\"spacingAndGlyphs\" textLength=\"84\" x=\"38\" y=\"242.6714\">tm: MassValue</text><text fill=\"#000000\" font-family=\"sans-serif\" font-size=\"11\" lengthAdjust=\"spacingAndGlyphs\" textLength=\"97\" x=\"38\" y=\"255.4761\">v_in: SpeedValue</text><text fill=\"#000000\" font-family=\"sans-serif\" font-size=\"11\" lengthAdjust=\"spacingAndGlyphs\" textLength=\"105\" x=\"38\" y=\"268.2808\">v_out: SpeedValue</text><text fill=\"#000000\" font-family=\"sans-serif\" font-size=\"11\" lengthAdjust=\"spacingAndGlyphs\" textLength=\"114\" x=\"38\" y=\"281.0854\">whlpwr: PowerValue</text><text fill=\"#000000\" font-family=\"sans-serif\" font-size=\"11\" lengthAdjust=\"spacingAndGlyphs\" textLength=\"99\" x=\"38\" y=\"293.8901\">x_in: LengthValue</text><text fill=\"#000000\" font-family=\"sans-serif\" font-size=\"11\" lengthAdjust=\"spacingAndGlyphs\" textLength=\"107\" x=\"38\" y=\"306.6948\">x_out: LengthValue</text><line style=\"stroke: #383838; stroke-width: 1.0;\" x1=\"33\" x2=\"80\" y1=\"174.8398\" y2=\"174.8398\"/><text fill=\"#000000\" font-family=\"sans-serif\" font-size=\"11\" lengthAdjust=\"spacingAndGlyphs\" textLength=\"55\" x=\"80\" y=\"178.1479\">attributes</text><line style=\"stroke: #383838; stroke-width: 1.0;\" x1=\"135\" x2=\"182\" y1=\"174.8398\" y2=\"174.8398\"/></a><!--MD5=[ebbe1d658d1005bcc118a6aa81145e00]\n",
       "class E4--><a href=\"psysml:60a2becf-7a46-4ebd-946f-3a728f7b6aab\" target=\"_top\" title=\"psysml:60a2becf-7a46-4ebd-946f-3a728f7b6aab\" xlink:actuate=\"onRequest\" xlink:href=\"psysml:60a2becf-7a46-4ebd-946f-3a728f7b6aab\" xlink:show=\"new\" xlink:title=\"psysml:60a2becf-7a46-4ebd-946f-3a728f7b6aab\" xlink:type=\"simple\"><rect fill=\"#FFFFFF\" height=\"45.9375\" id=\"E4\" style=\"stroke: #383838; stroke-width: 1.5;\" width=\"152\" x=\"243\" y=\"195\"/><text fill=\"#000000\" font-family=\"sans-serif\" font-size=\"12\" font-style=\"italic\" lengthAdjust=\"spacingAndGlyphs\" textLength=\"132\" x=\"253\" y=\"211.1387\">«annotatingFeature»</text><text fill=\"#000000\" font-family=\"sans-serif\" font-size=\"12\" lengthAdjust=\"spacingAndGlyphs\" text-decoration=\"line-through\" textLength=\"51\" x=\"246\" y=\"225.1074\">noname</text><text fill=\"#000000\" font-family=\"sans-serif\" font-size=\"12\" lengthAdjust=\"spacingAndGlyphs\" textLength=\"95\" x=\"297\" y=\"225.1074\">: ToolExecution</text><line style=\"stroke: #383838; stroke-width: 1.5;\" x1=\"244\" x2=\"394\" y1=\"232.9375\" y2=\"232.9375\"/></a><!--MD5=[270fce915f116d4de14055a7c1d9a0f3]\n",
       "class E5--><a href=\"psysml:b02ba1b2-12c8-4052-9523-3aa0c79993f0\" target=\"_top\" title=\"psysml:b02ba1b2-12c8-4052-9523-3aa0c79993f0\" xlink:actuate=\"onRequest\" xlink:href=\"psysml:b02ba1b2-12c8-4052-9523-3aa0c79993f0\" xlink:show=\"new\" xlink:title=\"psysml:b02ba1b2-12c8-4052-9523-3aa0c79993f0\" xlink:type=\"simple\"><rect fill=\"#FFFFFF\" height=\"45.9375\" id=\"E5\" style=\"stroke: #383838; stroke-width: 1.5;\" width=\"126\" x=\"455\" y=\"231\"/><text fill=\"#000000\" font-family=\"sans-serif\" font-size=\"12\" font-style=\"italic\" lengthAdjust=\"spacingAndGlyphs\" textLength=\"124\" x=\"456\" y=\"247.1387\">«metadataFeature»</text><text fill=\"#000000\" font-family=\"sans-serif\" font-size=\"12\" lengthAdjust=\"spacingAndGlyphs\" textLength=\"60\" x=\"488\" y=\"261.1074\">toolName</text><line style=\"stroke: #383838; stroke-width: 1.5;\" x1=\"456\" x2=\"580\" y1=\"268.9375\" y2=\"268.9375\"/></a><!--MD5=[60a26617385b1d2d0262a64233df1f8d]\n",
       "class E6--><a href=\"psysml:cb4006f5-0e41-4f05-aa2a-a57df33d56ff\" target=\"_top\" title=\"psysml:cb4006f5-0e41-4f05-aa2a-a57df33d56ff\" xlink:actuate=\"onRequest\" xlink:href=\"psysml:cb4006f5-0e41-4f05-aa2a-a57df33d56ff\" xlink:show=\"new\" xlink:title=\"psysml:cb4006f5-0e41-4f05-aa2a-a57df33d56ff\" xlink:type=\"simple\"><rect fill=\"#FFFFFF\" height=\"45.9375\" id=\"E6\" style=\"stroke: #383838; stroke-width: 1.5;\" width=\"126\" x=\"455\" y=\"150\"/><text fill=\"#000000\" font-family=\"sans-serif\" font-size=\"12\" font-style=\"italic\" lengthAdjust=\"spacingAndGlyphs\" textLength=\"124\" x=\"456\" y=\"166.1387\">«metadataFeature»</text><text fill=\"#000000\" font-family=\"sans-serif\" font-size=\"12\" lengthAdjust=\"spacingAndGlyphs\" textLength=\"16\" x=\"510\" y=\"180.1074\">uri</text><line style=\"stroke: #383838; stroke-width: 1.5;\" x1=\"456\" x2=\"580\" y1=\"187.9375\" y2=\"187.9375\"/></a><!--MD5=[4672eba38e49728da53d11aeb285b987]\n",
       "reverse link E3 to E4--><a href=\"psysml:66d6f7e6-2188-4a34-9637-6b4b270c496c\" target=\"_top\" title=\"psysml:66d6f7e6-2188-4a34-9637-6b4b270c496c\" xlink:actuate=\"onRequest\" xlink:href=\"psysml:66d6f7e6-2188-4a34-9637-6b4b270c496c\" xlink:show=\"new\" xlink:title=\"psysml:66d6f7e6-2188-4a34-9637-6b4b270c496c\" xlink:type=\"simple\"><path d=\"M198.49,218 C213.31,218 228.53,218 242.93,218 \" fill=\"none\" id=\"E3&lt;-E4\" style=\"stroke: #383838; stroke-width: 1.0;\"/><ellipse cx=\"191.25\" cy=\"218\" fill=\"#FFFFFF\" rx=\"8\" ry=\"8\" style=\"stroke: #383838; stroke-width: 1.0;\"/><line style=\"stroke: #383838; stroke-width: 1.0;\" x1=\"199.25\" x2=\"183.25\" y1=\"218\" y2=\"218\"/><line style=\"stroke: #383838; stroke-width: 1.0;\" x1=\"191.25\" x2=\"191.25\" y1=\"226\" y2=\"210\"/></a><!--MD5=[62aa6af11e70f752912c1cb0466f24f7]\n",
       "reverse link E4 to E5--><a href=\"psysml:4336f8bf-5a73-49a4-a706-8a85ff7218c2\" target=\"_top\" title=\"psysml:4336f8bf-5a73-49a4-a706-8a85ff7218c2\" xlink:actuate=\"onRequest\" xlink:href=\"psysml:4336f8bf-5a73-49a4-a706-8a85ff7218c2\" xlink:show=\"new\" xlink:title=\"psysml:4336f8bf-5a73-49a4-a706-8a85ff7218c2\" xlink:type=\"simple\"><path d=\"M408.18,234.11 C423.97,237 440.12,239.95 454.98,242.67 \" fill=\"none\" id=\"E4&lt;-E5\" style=\"stroke: #383838; stroke-width: 1.0;\"/><polygon fill=\"#383838\" points=\"395.04,231.71,400.2218,236.7249,406.8439,233.8705,401.6621,228.8556,395.04,231.71\" style=\"stroke: #383838; stroke-width: 1.0;\"/></a><!--MD5=[6db378b65e1aef66a01cb3103812b399]\n",
       "reverse link E4 to E6--><a href=\"psysml:14217a47-d828-403c-a59e-1cb114a87a2b\" target=\"_top\" title=\"psysml:14217a47-d828-403c-a59e-1cb114a87a2b\" xlink:actuate=\"onRequest\" xlink:href=\"psysml:14217a47-d828-403c-a59e-1cb114a87a2b\" xlink:show=\"new\" xlink:title=\"psysml:14217a47-d828-403c-a59e-1cb114a87a2b\" xlink:type=\"simple\"><path d=\"M408.18,197.86 C423.97,194.25 440.12,190.56 454.98,187.17 \" fill=\"none\" id=\"E4&lt;-E6\" style=\"stroke: #383838; stroke-width: 1.0;\"/><polygon fill=\"#383838\" points=\"395.04,200.86,401.7812,203.4206,406.7376,198.1829,399.9964,195.6223,395.04,200.86\" style=\"stroke: #383838; stroke-width: 1.0;\"/></a><!--MD5=[3ec41e4e58e41dbb0ad67badeae60d2c]\n",
       "@startuml\r\n",
       "left to right direction\r\n",
       "skinparam monochrome true\r\n",
       "skinparam classbackgroundcolor white\r\n",
       "skinparam shadowing false\r\n",
       "skinparam wrapWidth 300\r\n",
       "hide circle\r\n",
       "\r\n",
       "package \"AnalysisAnnotation\" as E1  [[psysml:3f9dd228-0d59-436f-8c66-7bfaf74317e1 ]]  {\r\n",
       "comp def \"Real\" as E2  <<(T,blue)dataType>> [[psysml:44eddca9-682f-4ef7-a7c7-a9f194d7f2c9 ]] {\r\n",
       "}\r\n",
       "comp def \"ComputeDynamics\" as E3  <<(T,blue)action def>> [[psysml:e73f4f0e-f2f2-491a-ad18-2354ebab0714 ]] {\r\n",
       "- - attributes - -\r\n",
       "Cd: Real\r\n",
       "Cf: Real\r\n",
       "a_out: AccelerationValue\r\n",
       "dt: DurationValue\r\n",
       "tm: MassValue\r\n",
       "v_in: SpeedValue\r\n",
       "v_out: SpeedValue\r\n",
       "whlpwr: PowerValue\r\n",
       "x_in: LengthValue\r\n",
       "x_out: LengthValue\r\n",
       "}\r\n",
       "comp def \"<s>noname</s>: ToolExecution\" as E4  <<(T,blue)annotatingFeature>> [[psysml:60a2becf-7a46-4ebd-946f-3a728f7b6aab ]] {\r\n",
       "}\r\n",
       "comp def \"toolName\" as E5  <<(T,blue)metadataFeature>> [[psysml:b02ba1b2-12c8-4052-9523-3aa0c79993f0 ]] {\r\n",
       "}\r\n",
       "comp def \"uri\" as E6  <<(T,blue)metadataFeature>> [[psysml:cb4006f5-0e41-4f05-aa2a-a57df33d56ff ]] {\r\n",
       "}\r\n",
       "E3 +- - E4 [[psysml:66d6f7e6-2188-4a34-9637-6b4b270c496c ]] \r\n",
       "E4 *- - E5 [[psysml:4336f8bf-5a73-49a4-a706-8a85ff7218c2 ]] \r\n",
       "E4 *- - E6 [[psysml:14217a47-d828-403c-a59e-1cb114a87a2b ]] \r\n",
       "}\r\n",
       "@enduml\r\n",
       "\n",
       "PlantUML version 1.2020.13(Sat Jun 13 12:26:38 UTC 2020)\n",
       "(EPL source distribution)\n",
       "Java Runtime: OpenJDK Runtime Environment\n",
       "JVM: OpenJDK 64-Bit Server VM\n",
       "Default Encoding: UTF-8\n",
       "Language: en\n",
       "Country: null\n",
       "--></g></svg>"
      ]
     },
     "execution_count": 21,
     "metadata": {},
     "output_type": "execute_result"
    }
   ],
   "source": [
    "%viz --style=\"LR\" --view=\"Sequence\" \"AnalysisAnnotation\""
   ]
  },
  {
   "cell_type": "code",
   "execution_count": 22,
   "id": "72d9dcc6",
   "metadata": {
    "execution": {
     "iopub.execute_input": "2021-04-20T07:28:16.092612Z",
     "iopub.status.busy": "2021-04-20T07:28:16.091929Z",
     "iopub.status.idle": "2021-04-20T07:28:16.128608Z",
     "shell.execute_reply": "2021-04-20T07:28:16.127271Z"
    }
   },
   "outputs": [
    {
     "data": {
      "image/svg+xml": [
       "<?xml version=\"1.0\" encoding=\"UTF-8\" standalone=\"no\"?><svg xmlns=\"http://www.w3.org/2000/svg\" xmlns:xlink=\"http://www.w3.org/1999/xlink\" contentScriptType=\"application/ecmascript\" contentStyleType=\"text/css\" height=\"452px\" preserveAspectRatio=\"none\" style=\"width:506px;height:452px;\" version=\"1.1\" viewBox=\"0 0 506 452\" width=\"506px\" zoomAndPan=\"magnify\"><defs/><g><!--MD5=[fbc87193dbaf4d95561dea2c320d4a47]\n",
       "cluster E1--><a href=\"psysml:3f9dd228-0d59-436f-8c66-7bfaf74317e1\" target=\"_top\" title=\"psysml:3f9dd228-0d59-436f-8c66-7bfaf74317e1\" xlink:actuate=\"onRequest\" xlink:href=\"psysml:3f9dd228-0d59-436f-8c66-7bfaf74317e1\" xlink:show=\"new\" xlink:title=\"psysml:3f9dd228-0d59-436f-8c66-7bfaf74317e1\" xlink:type=\"simple\"><polygon fill=\"#FFFFFF\" points=\"16,6,173,6,180,28.2969,484.72,28.2969,484.72,440,16,440,16,6\" style=\"stroke: #000000; stroke-width: 1.5;\"/><line style=\"stroke: #000000; stroke-width: 1.5;\" x1=\"16\" x2=\"180\" y1=\"28.2969\" y2=\"28.2969\"/><text fill=\"#000000\" font-family=\"sans-serif\" font-size=\"14\" font-weight=\"bold\" lengthAdjust=\"spacingAndGlyphs\" textLength=\"151\" x=\"20\" y=\"20.9951\">AnalysisAnnotation</text></a><!--MD5=[d5e69f78d87373223dbae638b30a9c99]\n",
       "cluster E3--><a href=\"psysml:e73f4f0e-f2f2-491a-ad18-2354ebab0714\" target=\"_top\" title=\"psysml:e73f4f0e-f2f2-491a-ad18-2354ebab0714\" xlink:actuate=\"onRequest\" xlink:href=\"psysml:e73f4f0e-f2f2-491a-ad18-2354ebab0714\" xlink:show=\"new\" xlink:title=\"psysml:e73f4f0e-f2f2-491a-ad18-2354ebab0714\" xlink:type=\"simple\"><rect fill=\"#FFFFFF\" height=\"282\" id=\"E3\" style=\"stroke: #383838; stroke-width: 1.5;\" width=\"403.72\" x=\"51\" y=\"55\"/><rect fill=\"#F8F8F8\" height=\"37.9375\" style=\"stroke: #383838; stroke-width: 1.5;\" width=\"403.72\" x=\"51\" y=\"55\"/><text fill=\"#000000\" font-family=\"sans-serif\" font-size=\"12\" font-style=\"italic\" lengthAdjust=\"spacingAndGlyphs\" textLength=\"77\" x=\"214.36\" y=\"71.1387\">«action def»</text><text fill=\"#000000\" font-family=\"sans-serif\" font-size=\"12\" lengthAdjust=\"spacingAndGlyphs\" textLength=\"115\" x=\"195.36\" y=\"85.1074\">ComputeDynamics</text></a><!--MD5=[b4997ac47864f28c2f74865a473b2911]\n",
       "class E2--><a href=\"psysml:44eddca9-682f-4ef7-a7c7-a9f194d7f2c9\" target=\"_top\" title=\"psysml:44eddca9-682f-4ef7-a7c7-a9f194d7f2c9\" xlink:actuate=\"onRequest\" xlink:href=\"psysml:44eddca9-682f-4ef7-a7c7-a9f194d7f2c9\" xlink:show=\"new\" xlink:title=\"psysml:44eddca9-682f-4ef7-a7c7-a9f194d7f2c9\" xlink:type=\"simple\"><rect fill=\"#FFFFFF\" height=\"45.9375\" id=\"E2\" style=\"stroke: #383838; stroke-width: 1.5;\" width=\"74\" x=\"32\" y=\"378\"/><text fill=\"#000000\" font-family=\"sans-serif\" font-size=\"12\" font-style=\"italic\" lengthAdjust=\"spacingAndGlyphs\" textLength=\"72\" x=\"33\" y=\"394.1387\">«dataType»</text><text fill=\"#000000\" font-family=\"sans-serif\" font-size=\"12\" lengthAdjust=\"spacingAndGlyphs\" textLength=\"27\" x=\"55.5\" y=\"408.1074\">Real</text><line style=\"stroke: #383838; stroke-width: 1.5;\" x1=\"33\" x2=\"105\" y1=\"415.9375\" y2=\"415.9375\"/></a><text fill=\"#000000\" font-family=\"sans-serif\" font-size=\"14\" lengthAdjust=\"spacingAndGlyphs\" textLength=\"48\" x=\"430.72\" y=\"281.9951\">$result</text><rect fill=\"#383838\" height=\"12\" style=\"stroke: #F8F8F8; stroke-width: 1.5;\" width=\"12\" x=\"448.72\" y=\"257\"/><text fill=\"#000000\" font-family=\"sans-serif\" font-size=\"14\" lengthAdjust=\"spacingAndGlyphs\" textLength=\"48\" x=\"430.72\" y=\"234.9951\">$result</text><rect fill=\"#383838\" height=\"12\" style=\"stroke: #F8F8F8; stroke-width: 1.5;\" width=\"12\" x=\"448.72\" y=\"210\"/><text fill=\"#000000\" font-family=\"sans-serif\" font-size=\"14\" lengthAdjust=\"spacingAndGlyphs\" textLength=\"14\" x=\"62\" y=\"355.9951\">dt</text><rect fill=\"#383838\" height=\"12\" style=\"stroke: #F8F8F8; stroke-width: 1.5;\" width=\"12\" x=\"63\" y=\"331\"/><text fill=\"#000000\" font-family=\"sans-serif\" font-size=\"14\" lengthAdjust=\"spacingAndGlyphs\" textLength=\"48\" x=\"45\" y=\"308.9951\">whlpwr</text><rect fill=\"#383838\" height=\"12\" style=\"stroke: #F8F8F8; stroke-width: 1.5;\" width=\"12\" x=\"63\" y=\"284\"/><text fill=\"#000000\" font-family=\"sans-serif\" font-size=\"14\" lengthAdjust=\"spacingAndGlyphs\" textLength=\"19\" x=\"59.5\" y=\"261.9951\">Cd</text><rect fill=\"#383838\" height=\"12\" style=\"stroke: #F8F8F8; stroke-width: 1.5;\" width=\"12\" x=\"63\" y=\"237\"/><text fill=\"#000000\" font-family=\"sans-serif\" font-size=\"14\" lengthAdjust=\"spacingAndGlyphs\" textLength=\"14\" x=\"62\" y=\"174.6982\">Cf</text><rect fill=\"#383838\" height=\"12\" style=\"stroke: #F8F8F8; stroke-width: 1.5;\" width=\"12\" x=\"63\" y=\"190\"/><text fill=\"#000000\" font-family=\"sans-serif\" font-size=\"14\" lengthAdjust=\"spacingAndGlyphs\" textLength=\"18\" x=\"60\" y=\"127.6982\">tm</text><rect fill=\"#383838\" height=\"12\" style=\"stroke: #F8F8F8; stroke-width: 1.5;\" width=\"12\" x=\"63\" y=\"143\"/><text fill=\"#000000\" font-family=\"sans-serif\" font-size=\"14\" lengthAdjust=\"spacingAndGlyphs\" textLength=\"26\" x=\"56\" y=\"80.6982\">v_in</text><rect fill=\"#383838\" height=\"12\" style=\"stroke: #F8F8F8; stroke-width: 1.5;\" width=\"12\" x=\"63\" y=\"96\"/><text fill=\"#000000\" font-family=\"sans-serif\" font-size=\"14\" lengthAdjust=\"spacingAndGlyphs\" textLength=\"26\" x=\"56\" y=\"33.6982\">x_in</text><rect fill=\"#383838\" height=\"12\" style=\"stroke: #F8F8F8; stroke-width: 1.5;\" width=\"12\" x=\"63\" y=\"49\"/><text fill=\"#000000\" font-family=\"sans-serif\" font-size=\"14\" lengthAdjust=\"spacingAndGlyphs\" textLength=\"38\" x=\"435.72\" y=\"147.6982\">a_out</text><rect fill=\"#383838\" height=\"12\" style=\"stroke: #F8F8F8; stroke-width: 1.5;\" width=\"12\" x=\"448.72\" y=\"163\"/><text fill=\"#000000\" font-family=\"sans-serif\" font-size=\"14\" lengthAdjust=\"spacingAndGlyphs\" textLength=\"37\" x=\"436.22\" y=\"100.6982\">v_out</text><rect fill=\"#383838\" height=\"12\" style=\"stroke: #F8F8F8; stroke-width: 1.5;\" width=\"12\" x=\"448.72\" y=\"116\"/><text fill=\"#000000\" font-family=\"sans-serif\" font-size=\"14\" lengthAdjust=\"spacingAndGlyphs\" textLength=\"37\" x=\"436.22\" y=\"53.6982\">x_out</text><rect fill=\"#383838\" height=\"12\" style=\"stroke: #F8F8F8; stroke-width: 1.5;\" width=\"12\" x=\"448.72\" y=\"69\"/><!--MD5=[a3653f79c87f5e2754950d2159dc4a32]\n",
       "@startuml\r\n",
       "left to right direction\r\n",
       "skinparam monochrome true\r\n",
       "skinparam classbackgroundcolor white\r\n",
       "skinparam shadowing false\r\n",
       "skinparam wrapWidth 300\r\n",
       "hide circle\r\n",
       "\r\n",
       "package \"AnalysisAnnotation\" as E1  [[psysml:3f9dd228-0d59-436f-8c66-7bfaf74317e1 ]]  {\r\n",
       "comp def \"Real\" as E2  <<(T,blue)dataType>> [[psysml:44eddca9-682f-4ef7-a7c7-a9f194d7f2c9 ]] {\r\n",
       "}\r\n",
       "rec def \"ComputeDynamics\" as E3  <<(T,blue)action def>> [[psysml:e73f4f0e-f2f2-491a-ad18-2354ebab0714 ]] {\r\n",
       "portout \"$result\" as E4  [[psysml:321a5472-f26a-4f44-adf1-e887f248e10c ]] \r\n",
       "portout \"$result\" as E5  [[psysml:249d7fd3-af20-489f-a52b-b6c298227647 ]] \r\n",
       "portin \"dt\" as E6  [[psysml:d9dfe931-1109-47e6-bc0c-352db24577b0 ]] \r\n",
       "portin \"whlpwr\" as E7  [[psysml:44277f67-022c-45f6-9760-98798ee04e09 ]] \r\n",
       "portin \"Cd\" as E8  [[psysml:41d96645-5d65-4e32-85e5-332077e108f6 ]] \r\n",
       "portin \"Cf\" as E9  [[psysml:aebf7dc6-628a-4d75-a952-13ccca53817c ]] \r\n",
       "portin \"tm\" as E10  [[psysml:08dba41b-e930-4b20-afae-ef7ae15f00ec ]] \r\n",
       "portin \"v_in\" as E11  [[psysml:e3f3c5a0-ed9d-41a6-a918-fe4a600fe261 ]] \r\n",
       "portin \"x_in\" as E12  [[psysml:fb3fca97-7004-4d76-8828-7714499f1454 ]] \r\n",
       "portout \"a_out\" as E13  [[psysml:5a710766-56b6-4c7a-9ae9-326b3f7572a8 ]] \r\n",
       "portout \"v_out\" as E14  [[psysml:1e62abd8-4172-4662-8f1c-1e7c30e8c54c ]] \r\n",
       "portout \"x_out\" as E15  [[psysml:e4c640c8-309e-4572-81b1-e78594ed37ec ]] \r\n",
       "}\r\n",
       "\r\n",
       "}\r\n",
       "@enduml\r\n",
       "\n",
       "PlantUML version 1.2020.13(Sat Jun 13 12:26:38 UTC 2020)\n",
       "(EPL source distribution)\n",
       "Java Runtime: OpenJDK Runtime Environment\n",
       "JVM: OpenJDK 64-Bit Server VM\n",
       "Default Encoding: UTF-8\n",
       "Language: en\n",
       "Country: null\n",
       "--></g></svg>"
      ]
     },
     "execution_count": 22,
     "metadata": {},
     "output_type": "execute_result"
    }
   ],
   "source": [
    "%viz --style=\"LR\" --view=\"MIXED\" \"AnalysisAnnotation\""
   ]
  },
  {
   "cell_type": "code",
   "execution_count": 23,
   "id": "6b2c91f1",
   "metadata": {
    "execution": {
     "iopub.execute_input": "2021-04-20T07:28:16.178994Z",
     "iopub.status.busy": "2021-04-20T07:28:16.178597Z",
     "iopub.status.idle": "2021-04-20T07:28:16.222906Z",
     "shell.execute_reply": "2021-04-20T07:28:16.221547Z"
    }
   },
   "outputs": [
    {
     "data": {
      "image/svg+xml": [
       "<?xml version=\"1.0\" encoding=\"UTF-8\" standalone=\"no\"?><svg xmlns=\"http://www.w3.org/2000/svg\" xmlns:xlink=\"http://www.w3.org/1999/xlink\" contentScriptType=\"application/ecmascript\" contentStyleType=\"text/css\" height=\"350px\" preserveAspectRatio=\"none\" style=\"width:481px;height:350px;\" version=\"1.1\" viewBox=\"0 0 481 350\" width=\"481px\" zoomAndPan=\"magnify\"><defs><filter height=\"300%\" id=\"fl7lahtjgbykz\" width=\"300%\" x=\"-1\" y=\"-1\"><feGaussianBlur result=\"blurOut\" stdDeviation=\"2.0\"/><feColorMatrix in=\"blurOut\" result=\"blurOut2\" type=\"matrix\" values=\"0 0 0 0 0 0 0 0 0 0 0 0 0 0 0 0 0 0 .4 0\"/><feOffset dx=\"4.0\" dy=\"4.0\" in=\"blurOut2\" result=\"blurOut3\"/><feBlend in=\"SourceGraphic\" in2=\"blurOut3\" mode=\"normal\"/></filter></defs><g><!--MD5=[fbc87193dbaf4d95561dea2c320d4a47]\n",
       "cluster E1--><a href=\"psysml:3f9dd228-0d59-436f-8c66-7bfaf74317e1\" target=\"_top\" title=\"psysml:3f9dd228-0d59-436f-8c66-7bfaf74317e1\" xlink:actuate=\"onRequest\" xlink:href=\"psysml:3f9dd228-0d59-436f-8c66-7bfaf74317e1\" xlink:show=\"new\" xlink:title=\"psysml:3f9dd228-0d59-436f-8c66-7bfaf74317e1\" xlink:type=\"simple\"><polygon fill=\"#FFFFFF\" filter=\"url(#fl7lahtjgbykz)\" points=\"16,6,173,6,180,28.2969,459,28.2969,459,338.72,16,338.72,16,6\" style=\"stroke: #000000; stroke-width: 1.5;\"/><line style=\"stroke: #000000; stroke-width: 1.5;\" x1=\"16\" x2=\"180\" y1=\"28.2969\" y2=\"28.2969\"/><text fill=\"#000000\" font-family=\"sans-serif\" font-size=\"14\" font-weight=\"bold\" lengthAdjust=\"spacingAndGlyphs\" textLength=\"151\" x=\"20\" y=\"20.9951\">AnalysisAnnotation</text></a><!--MD5=[d5e69f78d87373223dbae638b30a9c99]\n",
       "cluster E3--><a href=\"psysml:e73f4f0e-f2f2-491a-ad18-2354ebab0714\" target=\"_top\" title=\"psysml:e73f4f0e-f2f2-491a-ad18-2354ebab0714\" xlink:actuate=\"onRequest\" xlink:href=\"psysml:e73f4f0e-f2f2-491a-ad18-2354ebab0714\" xlink:show=\"new\" xlink:title=\"psysml:e73f4f0e-f2f2-491a-ad18-2354ebab0714\" xlink:type=\"simple\"><rect fill=\"#FFFFFF\" filter=\"url(#fl7lahtjgbykz)\" height=\"244.72\" id=\"E3\" style=\"stroke: #A80036; stroke-width: 1.5;\" width=\"318\" x=\"129\" y=\"64\"/><rect fill=\"#FEFECE\" height=\"37.9375\" style=\"stroke: #A80036; stroke-width: 1.5;\" width=\"318\" x=\"129\" y=\"64\"/><text fill=\"#000000\" font-family=\"sans-serif\" font-size=\"12\" font-style=\"italic\" lengthAdjust=\"spacingAndGlyphs\" textLength=\"77\" x=\"249.5\" y=\"80.1387\">«action def»</text><text fill=\"#000000\" font-family=\"sans-serif\" font-size=\"12\" lengthAdjust=\"spacingAndGlyphs\" textLength=\"115\" x=\"230.5\" y=\"94.1074\">ComputeDynamics</text></a><!--MD5=[b4997ac47864f28c2f74865a473b2911]\n",
       "class E2--><a href=\"psysml:44eddca9-682f-4ef7-a7c7-a9f194d7f2c9\" target=\"_top\" title=\"psysml:44eddca9-682f-4ef7-a7c7-a9f194d7f2c9\" xlink:actuate=\"onRequest\" xlink:href=\"psysml:44eddca9-682f-4ef7-a7c7-a9f194d7f2c9\" xlink:show=\"new\" xlink:title=\"psysml:44eddca9-682f-4ef7-a7c7-a9f194d7f2c9\" xlink:type=\"simple\"><rect fill=\"#FEFECE\" filter=\"url(#fl7lahtjgbykz)\" height=\"45.9375\" id=\"E2\" style=\"stroke: #A80036; stroke-width: 1.5;\" width=\"74\" x=\"32\" y=\"41\"/><text fill=\"#000000\" font-family=\"sans-serif\" font-size=\"12\" font-style=\"italic\" lengthAdjust=\"spacingAndGlyphs\" textLength=\"72\" x=\"33\" y=\"57.1387\">«dataType»</text><text fill=\"#000000\" font-family=\"sans-serif\" font-size=\"12\" lengthAdjust=\"spacingAndGlyphs\" textLength=\"27\" x=\"55.5\" y=\"71.1074\">Real</text><line style=\"stroke: #A80036; stroke-width: 1.5;\" x1=\"33\" x2=\"105\" y1=\"78.9375\" y2=\"78.9375\"/></a><text fill=\"#000000\" font-family=\"sans-serif\" font-size=\"14\" lengthAdjust=\"spacingAndGlyphs\" textLength=\"48\" x=\"169\" y=\"327.7151\">$result</text><rect fill=\"#A80036\" height=\"12\" style=\"stroke: #FEFECE; stroke-width: 1.5;\" width=\"12\" x=\"187\" y=\"302.72\"/><text fill=\"#000000\" font-family=\"sans-serif\" font-size=\"14\" lengthAdjust=\"spacingAndGlyphs\" textLength=\"48\" x=\"216\" y=\"327.7151\">$result</text><rect fill=\"#A80036\" height=\"12\" style=\"stroke: #FEFECE; stroke-width: 1.5;\" width=\"12\" x=\"234\" y=\"302.72\"/><text fill=\"#000000\" font-family=\"sans-serif\" font-size=\"14\" lengthAdjust=\"spacingAndGlyphs\" textLength=\"14\" x=\"140\" y=\"42.6982\">dt</text><rect fill=\"#A80036\" height=\"12\" style=\"stroke: #FEFECE; stroke-width: 1.5;\" width=\"12\" x=\"141\" y=\"58\"/><text fill=\"#000000\" font-family=\"sans-serif\" font-size=\"14\" lengthAdjust=\"spacingAndGlyphs\" textLength=\"48\" x=\"170\" y=\"42.6982\">whlpwr</text><rect fill=\"#A80036\" height=\"12\" style=\"stroke: #FEFECE; stroke-width: 1.5;\" width=\"12\" x=\"188\" y=\"58\"/><text fill=\"#000000\" font-family=\"sans-serif\" font-size=\"14\" lengthAdjust=\"spacingAndGlyphs\" textLength=\"19\" x=\"231.5\" y=\"42.6982\">Cd</text><rect fill=\"#A80036\" height=\"12\" style=\"stroke: #FEFECE; stroke-width: 1.5;\" width=\"12\" x=\"235\" y=\"58\"/><text fill=\"#000000\" font-family=\"sans-serif\" font-size=\"14\" lengthAdjust=\"spacingAndGlyphs\" textLength=\"14\" x=\"281\" y=\"42.6982\">Cf</text><rect fill=\"#A80036\" height=\"12\" style=\"stroke: #FEFECE; stroke-width: 1.5;\" width=\"12\" x=\"282\" y=\"58\"/><text fill=\"#000000\" font-family=\"sans-serif\" font-size=\"14\" lengthAdjust=\"spacingAndGlyphs\" textLength=\"18\" x=\"326\" y=\"42.6982\">tm</text><rect fill=\"#A80036\" height=\"12\" style=\"stroke: #FEFECE; stroke-width: 1.5;\" width=\"12\" x=\"329\" y=\"58\"/><text fill=\"#000000\" font-family=\"sans-serif\" font-size=\"14\" lengthAdjust=\"spacingAndGlyphs\" textLength=\"26\" x=\"369\" y=\"42.6982\">v_in</text><rect fill=\"#A80036\" height=\"12\" style=\"stroke: #FEFECE; stroke-width: 1.5;\" width=\"12\" x=\"376\" y=\"58\"/><text fill=\"#000000\" font-family=\"sans-serif\" font-size=\"14\" lengthAdjust=\"spacingAndGlyphs\" textLength=\"26\" x=\"416\" y=\"42.6982\">x_in</text><rect fill=\"#A80036\" height=\"12\" style=\"stroke: #FEFECE; stroke-width: 1.5;\" width=\"12\" x=\"423\" y=\"58\"/><text fill=\"#000000\" font-family=\"sans-serif\" font-size=\"14\" lengthAdjust=\"spacingAndGlyphs\" textLength=\"38\" x=\"268\" y=\"327.7151\">a_out</text><rect fill=\"#A80036\" height=\"12\" style=\"stroke: #FEFECE; stroke-width: 1.5;\" width=\"12\" x=\"281\" y=\"302.72\"/><text fill=\"#000000\" font-family=\"sans-serif\" font-size=\"14\" lengthAdjust=\"spacingAndGlyphs\" textLength=\"37\" x=\"315.5\" y=\"327.7151\">v_out</text><rect fill=\"#A80036\" height=\"12\" style=\"stroke: #FEFECE; stroke-width: 1.5;\" width=\"12\" x=\"328\" y=\"302.72\"/><text fill=\"#000000\" font-family=\"sans-serif\" font-size=\"14\" lengthAdjust=\"spacingAndGlyphs\" textLength=\"37\" x=\"362.5\" y=\"327.7151\">x_out</text><rect fill=\"#A80036\" height=\"12\" style=\"stroke: #FEFECE; stroke-width: 1.5;\" width=\"12\" x=\"375\" y=\"302.72\"/><!--MD5=[ef2be6dd914f02dc96718e6b3491805d]\n",
       "@startuml\r\n",
       "skinparam wrapWidth 300\r\n",
       "hide circle\r\n",
       "\r\n",
       "package \"AnalysisAnnotation\" as E1  [[psysml:3f9dd228-0d59-436f-8c66-7bfaf74317e1 ]]  {\r\n",
       "comp def \"Real\" as E2  <<(T,blue)dataType>> [[psysml:44eddca9-682f-4ef7-a7c7-a9f194d7f2c9 ]] {\r\n",
       "}\r\n",
       "rec def \"ComputeDynamics\" as E3  <<(T,blue)action def>> [[psysml:e73f4f0e-f2f2-491a-ad18-2354ebab0714 ]] {\r\n",
       "portout \"$result\" as E4  [[psysml:321a5472-f26a-4f44-adf1-e887f248e10c ]] \r\n",
       "portout \"$result\" as E5  [[psysml:249d7fd3-af20-489f-a52b-b6c298227647 ]] \r\n",
       "portin \"dt\" as E6  [[psysml:d9dfe931-1109-47e6-bc0c-352db24577b0 ]] \r\n",
       "portin \"whlpwr\" as E7  [[psysml:44277f67-022c-45f6-9760-98798ee04e09 ]] \r\n",
       "portin \"Cd\" as E8  [[psysml:41d96645-5d65-4e32-85e5-332077e108f6 ]] \r\n",
       "portin \"Cf\" as E9  [[psysml:aebf7dc6-628a-4d75-a952-13ccca53817c ]] \r\n",
       "portin \"tm\" as E10  [[psysml:08dba41b-e930-4b20-afae-ef7ae15f00ec ]] \r\n",
       "portin \"v_in\" as E11  [[psysml:e3f3c5a0-ed9d-41a6-a918-fe4a600fe261 ]] \r\n",
       "portin \"x_in\" as E12  [[psysml:fb3fca97-7004-4d76-8828-7714499f1454 ]] \r\n",
       "portout \"a_out\" as E13  [[psysml:5a710766-56b6-4c7a-9ae9-326b3f7572a8 ]] \r\n",
       "portout \"v_out\" as E14  [[psysml:1e62abd8-4172-4662-8f1c-1e7c30e8c54c ]] \r\n",
       "portout \"x_out\" as E15  [[psysml:e4c640c8-309e-4572-81b1-e78594ed37ec ]] \r\n",
       "}\r\n",
       "\r\n",
       "}\r\n",
       "@enduml\r\n",
       "\n",
       "PlantUML version 1.2020.13(Sat Jun 13 12:26:38 UTC 2020)\n",
       "(EPL source distribution)\n",
       "Java Runtime: OpenJDK Runtime Environment\n",
       "JVM: OpenJDK 64-Bit Server VM\n",
       "Default Encoding: UTF-8\n",
       "Language: en\n",
       "Country: null\n",
       "--></g></svg>"
      ]
     },
     "execution_count": 23,
     "metadata": {},
     "output_type": "execute_result"
    }
   ],
   "source": [
    "%viz --style=\"STDCOLOR\" --view=\"Default\" \"AnalysisAnnotation\""
   ]
  },
  {
   "cell_type": "code",
   "execution_count": 24,
   "id": "b35ea1fe",
   "metadata": {
    "execution": {
     "iopub.execute_input": "2021-04-20T07:28:16.273711Z",
     "iopub.status.busy": "2021-04-20T07:28:16.273035Z",
     "iopub.status.idle": "2021-04-20T07:28:16.366142Z",
     "shell.execute_reply": "2021-04-20T07:28:16.365696Z"
    }
   },
   "outputs": [
    {
     "data": {
      "image/svg+xml": [
       "<?xml version=\"1.0\" encoding=\"UTF-8\" standalone=\"no\"?><svg xmlns=\"http://www.w3.org/2000/svg\" xmlns:xlink=\"http://www.w3.org/1999/xlink\" contentScriptType=\"application/ecmascript\" contentStyleType=\"text/css\" height=\"455px\" preserveAspectRatio=\"none\" style=\"width:357px;height:455px;\" version=\"1.1\" viewBox=\"0 0 357 455\" width=\"357px\" zoomAndPan=\"magnify\"><defs><filter height=\"300%\" id=\"frz4ef12ft9md\" width=\"300%\" x=\"-1\" y=\"-1\"><feGaussianBlur result=\"blurOut\" stdDeviation=\"2.0\"/><feColorMatrix in=\"blurOut\" result=\"blurOut2\" type=\"matrix\" values=\"0 0 0 0 0 0 0 0 0 0 0 0 0 0 0 0 0 0 .4 0\"/><feOffset dx=\"4.0\" dy=\"4.0\" in=\"blurOut2\" result=\"blurOut3\"/><feBlend in=\"SourceGraphic\" in2=\"blurOut3\" mode=\"normal\"/></filter></defs><g><!--MD5=[fbc87193dbaf4d95561dea2c320d4a47]\n",
       "cluster E1--><a href=\"psysml:3f9dd228-0d59-436f-8c66-7bfaf74317e1\" target=\"_top\" title=\"psysml:3f9dd228-0d59-436f-8c66-7bfaf74317e1\" xlink:actuate=\"onRequest\" xlink:href=\"psysml:3f9dd228-0d59-436f-8c66-7bfaf74317e1\" xlink:show=\"new\" xlink:title=\"psysml:3f9dd228-0d59-436f-8c66-7bfaf74317e1\" xlink:type=\"simple\"><polygon fill=\"#FFFFFF\" filter=\"url(#frz4ef12ft9md)\" points=\"16,6,173,6,180,28.2969,335,28.2969,335,443,16,443,16,6\" style=\"stroke: #000000; stroke-width: 1.5;\"/><line style=\"stroke: #000000; stroke-width: 1.5;\" x1=\"16\" x2=\"180\" y1=\"28.2969\" y2=\"28.2969\"/><text fill=\"#000000\" font-family=\"sans-serif\" font-size=\"14\" font-weight=\"bold\" lengthAdjust=\"spacingAndGlyphs\" textLength=\"151\" x=\"20\" y=\"20.9951\">AnalysisAnnotation</text></a><!--MD5=[b4997ac47864f28c2f74865a473b2911]\n",
       "class E2--><a href=\"psysml:44eddca9-682f-4ef7-a7c7-a9f194d7f2c9\" target=\"_top\" title=\"psysml:44eddca9-682f-4ef7-a7c7-a9f194d7f2c9\" xlink:actuate=\"onRequest\" xlink:href=\"psysml:44eddca9-682f-4ef7-a7c7-a9f194d7f2c9\" xlink:show=\"new\" xlink:title=\"psysml:44eddca9-682f-4ef7-a7c7-a9f194d7f2c9\" xlink:type=\"simple\"><rect fill=\"#FEFECE\" filter=\"url(#frz4ef12ft9md)\" height=\"45.9375\" id=\"E2\" style=\"stroke: #A80036; stroke-width: 1.5;\" width=\"74\" x=\"238\" y=\"105\"/><text fill=\"#000000\" font-family=\"sans-serif\" font-size=\"12\" font-style=\"italic\" lengthAdjust=\"spacingAndGlyphs\" textLength=\"72\" x=\"239\" y=\"121.1387\">«dataType»</text><text fill=\"#000000\" font-family=\"sans-serif\" font-size=\"12\" lengthAdjust=\"spacingAndGlyphs\" textLength=\"27\" x=\"261.5\" y=\"135.1074\">Real</text><line style=\"stroke: #A80036; stroke-width: 1.5;\" x1=\"239\" x2=\"311\" y1=\"142.9375\" y2=\"142.9375\"/></a><!--MD5=[09b614a08d8cba4a07c9adeb5e0fee81]\n",
       "class E3--><a href=\"psysml:e73f4f0e-f2f2-491a-ad18-2354ebab0714\" target=\"_top\" title=\"psysml:e73f4f0e-f2f2-491a-ad18-2354ebab0714\" xlink:actuate=\"onRequest\" xlink:href=\"psysml:e73f4f0e-f2f2-491a-ad18-2354ebab0714\" xlink:show=\"new\" xlink:title=\"psysml:e73f4f0e-f2f2-491a-ad18-2354ebab0714\" xlink:type=\"simple\"><rect fill=\"#FEFECE\" filter=\"url(#frz4ef12ft9md)\" height=\"173.9844\" id=\"E3\" style=\"stroke: #A80036; stroke-width: 1.5;\" width=\"151\" x=\"38.5\" y=\"41\"/><text fill=\"#000000\" font-family=\"sans-serif\" font-size=\"12\" font-style=\"italic\" lengthAdjust=\"spacingAndGlyphs\" textLength=\"77\" x=\"75.5\" y=\"57.1387\">«action def»</text><text fill=\"#000000\" font-family=\"sans-serif\" font-size=\"12\" lengthAdjust=\"spacingAndGlyphs\" textLength=\"115\" x=\"56.5\" y=\"71.1074\">ComputeDynamics</text><line style=\"stroke: #A80036; stroke-width: 1.5;\" x1=\"39.5\" x2=\"188.5\" y1=\"78.9375\" y2=\"78.9375\"/><text fill=\"#000000\" font-family=\"sans-serif\" font-size=\"11\" lengthAdjust=\"spacingAndGlyphs\" textLength=\"47\" x=\"44.5\" y=\"93.1479\">Cd: Real</text><text fill=\"#000000\" font-family=\"sans-serif\" font-size=\"11\" lengthAdjust=\"spacingAndGlyphs\" textLength=\"44\" x=\"44.5\" y=\"105.9526\">Cf: Real</text><text fill=\"#000000\" font-family=\"sans-serif\" font-size=\"11\" lengthAdjust=\"spacingAndGlyphs\" textLength=\"139\" x=\"44.5\" y=\"118.7573\">a_out: AccelerationValue</text><text fill=\"#000000\" font-family=\"sans-serif\" font-size=\"11\" lengthAdjust=\"spacingAndGlyphs\" textLength=\"98\" x=\"44.5\" y=\"131.562\">dt: DurationValue</text><text fill=\"#000000\" font-family=\"sans-serif\" font-size=\"11\" lengthAdjust=\"spacingAndGlyphs\" textLength=\"84\" x=\"44.5\" y=\"144.3667\">tm: MassValue</text><text fill=\"#000000\" font-family=\"sans-serif\" font-size=\"11\" lengthAdjust=\"spacingAndGlyphs\" textLength=\"97\" x=\"44.5\" y=\"157.1714\">v_in: SpeedValue</text><text fill=\"#000000\" font-family=\"sans-serif\" font-size=\"11\" lengthAdjust=\"spacingAndGlyphs\" textLength=\"105\" x=\"44.5\" y=\"169.9761\">v_out: SpeedValue</text><text fill=\"#000000\" font-family=\"sans-serif\" font-size=\"11\" lengthAdjust=\"spacingAndGlyphs\" textLength=\"114\" x=\"44.5\" y=\"182.7808\">whlpwr: PowerValue</text><text fill=\"#000000\" font-family=\"sans-serif\" font-size=\"11\" lengthAdjust=\"spacingAndGlyphs\" textLength=\"99\" x=\"44.5\" y=\"195.5854\">x_in: LengthValue</text><text fill=\"#000000\" font-family=\"sans-serif\" font-size=\"11\" lengthAdjust=\"spacingAndGlyphs\" textLength=\"107\" x=\"44.5\" y=\"208.3901\">x_out: LengthValue</text></a><!--MD5=[ebbe1d658d1005bcc118a6aa81145e00]\n",
       "class E4--><a href=\"psysml:60a2becf-7a46-4ebd-946f-3a728f7b6aab\" target=\"_top\" title=\"psysml:60a2becf-7a46-4ebd-946f-3a728f7b6aab\" xlink:actuate=\"onRequest\" xlink:href=\"psysml:60a2becf-7a46-4ebd-946f-3a728f7b6aab\" xlink:show=\"new\" xlink:title=\"psysml:60a2becf-7a46-4ebd-946f-3a728f7b6aab\" xlink:type=\"simple\"><rect fill=\"#FEFECE\" filter=\"url(#frz4ef12ft9md)\" height=\"45.9375\" id=\"E4\" style=\"stroke: #A80036; stroke-width: 1.5;\" width=\"152\" x=\"38\" y=\"275\"/><text fill=\"#000000\" font-family=\"sans-serif\" font-size=\"12\" font-style=\"italic\" lengthAdjust=\"spacingAndGlyphs\" textLength=\"132\" x=\"48\" y=\"291.1387\">«annotatingFeature»</text><text fill=\"#000000\" font-family=\"sans-serif\" font-size=\"12\" lengthAdjust=\"spacingAndGlyphs\" text-decoration=\"line-through\" textLength=\"51\" x=\"41\" y=\"305.1074\">noname</text><text fill=\"#000000\" font-family=\"sans-serif\" font-size=\"12\" lengthAdjust=\"spacingAndGlyphs\" textLength=\"95\" x=\"92\" y=\"305.1074\">: ToolExecution</text><line style=\"stroke: #A80036; stroke-width: 1.5;\" x1=\"39\" x2=\"189\" y1=\"312.9375\" y2=\"312.9375\"/></a><!--MD5=[270fce915f116d4de14055a7c1d9a0f3]\n",
       "class E5--><a href=\"psysml:b02ba1b2-12c8-4052-9523-3aa0c79993f0\" target=\"_top\" title=\"psysml:b02ba1b2-12c8-4052-9523-3aa0c79993f0\" xlink:actuate=\"onRequest\" xlink:href=\"psysml:b02ba1b2-12c8-4052-9523-3aa0c79993f0\" xlink:show=\"new\" xlink:title=\"psysml:b02ba1b2-12c8-4052-9523-3aa0c79993f0\" xlink:type=\"simple\"><rect fill=\"#FEFECE\" filter=\"url(#frz4ef12ft9md)\" height=\"45.9375\" id=\"E5\" style=\"stroke: #A80036; stroke-width: 1.5;\" width=\"126\" x=\"32\" y=\"381\"/><text fill=\"#000000\" font-family=\"sans-serif\" font-size=\"12\" font-style=\"italic\" lengthAdjust=\"spacingAndGlyphs\" textLength=\"124\" x=\"33\" y=\"397.1387\">«metadataFeature»</text><text fill=\"#000000\" font-family=\"sans-serif\" font-size=\"12\" lengthAdjust=\"spacingAndGlyphs\" textLength=\"60\" x=\"65\" y=\"411.1074\">toolName</text><line style=\"stroke: #A80036; stroke-width: 1.5;\" x1=\"33\" x2=\"157\" y1=\"418.9375\" y2=\"418.9375\"/></a><!--MD5=[60a26617385b1d2d0262a64233df1f8d]\n",
       "class E6--><a href=\"psysml:cb4006f5-0e41-4f05-aa2a-a57df33d56ff\" target=\"_top\" title=\"psysml:cb4006f5-0e41-4f05-aa2a-a57df33d56ff\" xlink:actuate=\"onRequest\" xlink:href=\"psysml:cb4006f5-0e41-4f05-aa2a-a57df33d56ff\" xlink:show=\"new\" xlink:title=\"psysml:cb4006f5-0e41-4f05-aa2a-a57df33d56ff\" xlink:type=\"simple\"><rect fill=\"#FEFECE\" filter=\"url(#frz4ef12ft9md)\" height=\"45.9375\" id=\"E6\" style=\"stroke: #A80036; stroke-width: 1.5;\" width=\"126\" x=\"193\" y=\"381\"/><text fill=\"#000000\" font-family=\"sans-serif\" font-size=\"12\" font-style=\"italic\" lengthAdjust=\"spacingAndGlyphs\" textLength=\"124\" x=\"194\" y=\"397.1387\">«metadataFeature»</text><text fill=\"#000000\" font-family=\"sans-serif\" font-size=\"12\" lengthAdjust=\"spacingAndGlyphs\" textLength=\"16\" x=\"248\" y=\"411.1074\">uri</text><line style=\"stroke: #A80036; stroke-width: 1.5;\" x1=\"194\" x2=\"318\" y1=\"418.9375\" y2=\"418.9375\"/></a><!--MD5=[4672eba38e49728da53d11aeb285b987]\n",
       "reverse link E3 to E4--><a href=\"psysml:66d6f7e6-2188-4a34-9637-6b4b270c496c\" target=\"_top\" title=\"psysml:66d6f7e6-2188-4a34-9637-6b4b270c496c\" xlink:actuate=\"onRequest\" xlink:href=\"psysml:66d6f7e6-2188-4a34-9637-6b4b270c496c\" xlink:show=\"new\" xlink:title=\"psysml:66d6f7e6-2188-4a34-9637-6b4b270c496c\" xlink:type=\"simple\"><path d=\"M114,230.58 C114,247.21 114,262.87 114,274.8 \" fill=\"none\" id=\"E3&lt;-E4\" style=\"stroke: #A80036; stroke-width: 1.0;\"/><ellipse cx=\"114\" cy=\"223.46\" fill=\"#FFFFFF\" rx=\"8\" ry=\"8\" style=\"stroke: #A80036; stroke-width: 1.0;\"/><line style=\"stroke: #A80036; stroke-width: 1.0;\" x1=\"114\" x2=\"114\" y1=\"231.46\" y2=\"215.46\"/><line style=\"stroke: #A80036; stroke-width: 1.0;\" x1=\"106\" x2=\"122\" y1=\"223.46\" y2=\"223.46\"/></a><!--MD5=[62aa6af11e70f752912c1cb0466f24f7]\n",
       "reverse link E4 to E5--><a href=\"psysml:4336f8bf-5a73-49a4-a706-8a85ff7218c2\" target=\"_top\" title=\"psysml:4336f8bf-5a73-49a4-a706-8a85ff7218c2\" xlink:actuate=\"onRequest\" xlink:href=\"psysml:4336f8bf-5a73-49a4-a706-8a85ff7218c2\" xlink:show=\"new\" xlink:title=\"psysml:4336f8bf-5a73-49a4-a706-8a85ff7218c2\" xlink:type=\"simple\"><path d=\"M107.61,333.96 C104.77,349.51 101.52,367.33 99.02,380.98 \" fill=\"none\" id=\"E4&lt;-E5\" style=\"stroke: #A80036; stroke-width: 1.0;\"/><polygon fill=\"#A80036\" points=\"109.97,321.06,104.9597,326.2462,107.8199,332.8658,112.8302,327.6796,109.97,321.06\" style=\"stroke: #A80036; stroke-width: 1.0;\"/></a><!--MD5=[6db378b65e1aef66a01cb3103812b399]\n",
       "reverse link E4 to E6--><a href=\"psysml:14217a47-d828-403c-a59e-1cb114a87a2b\" target=\"_top\" title=\"psysml:14217a47-d828-403c-a59e-1cb114a87a2b\" xlink:actuate=\"onRequest\" xlink:href=\"psysml:14217a47-d828-403c-a59e-1cb114a87a2b\" xlink:show=\"new\" xlink:title=\"psysml:14217a47-d828-403c-a59e-1cb114a87a2b\" xlink:type=\"simple\"><path d=\"M154.79,328.88 C177.48,345.49 205.23,365.82 225.93,380.98 \" fill=\"none\" id=\"E4&lt;-E6\" style=\"stroke: #A80036; stroke-width: 1.0;\"/><polygon fill=\"#A80036\" points=\"144.11,321.06,146.5846,327.8332,153.7885,328.1541,151.314,321.3809,144.11,321.06\" style=\"stroke: #A80036; stroke-width: 1.0;\"/></a><!--MD5=[bcf6cc9eeaf52c6f69552037b8527a36]\n",
       "@startuml\r\n",
       "skinparam wrapWidth 300\r\n",
       "hide circle\r\n",
       "\r\n",
       "package \"AnalysisAnnotation\" as E1  [[psysml:3f9dd228-0d59-436f-8c66-7bfaf74317e1 ]]  {\r\n",
       "comp def \"Real\" as E2  <<(T,blue)dataType>> [[psysml:44eddca9-682f-4ef7-a7c7-a9f194d7f2c9 ]] {\r\n",
       "}\r\n",
       "comp def \"ComputeDynamics\" as E3  <<(T,blue)action def>> [[psysml:e73f4f0e-f2f2-491a-ad18-2354ebab0714 ]] {\r\n",
       "Cd: Real\r\n",
       "Cf: Real\r\n",
       "a_out: AccelerationValue\r\n",
       "dt: DurationValue\r\n",
       "tm: MassValue\r\n",
       "v_in: SpeedValue\r\n",
       "v_out: SpeedValue\r\n",
       "whlpwr: PowerValue\r\n",
       "x_in: LengthValue\r\n",
       "x_out: LengthValue\r\n",
       "}\r\n",
       "comp def \"<s>noname</s>: ToolExecution\" as E4  <<(T,blue)annotatingFeature>> [[psysml:60a2becf-7a46-4ebd-946f-3a728f7b6aab ]] {\r\n",
       "}\r\n",
       "comp def \"toolName\" as E5  <<(T,blue)metadataFeature>> [[psysml:b02ba1b2-12c8-4052-9523-3aa0c79993f0 ]] {\r\n",
       "}\r\n",
       "comp def \"uri\" as E6  <<(T,blue)metadataFeature>> [[psysml:cb4006f5-0e41-4f05-aa2a-a57df33d56ff ]] {\r\n",
       "}\r\n",
       "E3 +- - E4 [[psysml:66d6f7e6-2188-4a34-9637-6b4b270c496c ]] \r\n",
       "E4 *- - E5 [[psysml:4336f8bf-5a73-49a4-a706-8a85ff7218c2 ]] \r\n",
       "E4 *- - E6 [[psysml:14217a47-d828-403c-a59e-1cb114a87a2b ]] \r\n",
       "}\r\n",
       "@enduml\r\n",
       "\n",
       "PlantUML version 1.2020.13(Sat Jun 13 12:26:38 UTC 2020)\n",
       "(EPL source distribution)\n",
       "Java Runtime: OpenJDK Runtime Environment\n",
       "JVM: OpenJDK 64-Bit Server VM\n",
       "Default Encoding: UTF-8\n",
       "Language: en\n",
       "Country: null\n",
       "--></g></svg>"
      ]
     },
     "execution_count": 24,
     "metadata": {},
     "output_type": "execute_result"
    }
   ],
   "source": [
    "%viz --style=\"STDCOLOR\" --view=\"Tree\" \"AnalysisAnnotation\""
   ]
  },
  {
   "cell_type": "code",
   "execution_count": 25,
   "id": "1e66fa2b",
   "metadata": {
    "execution": {
     "iopub.execute_input": "2021-04-20T07:28:16.416905Z",
     "iopub.status.busy": "2021-04-20T07:28:16.416436Z",
     "iopub.status.idle": "2021-04-20T07:28:16.423916Z",
     "shell.execute_reply": "2021-04-20T07:28:16.423523Z"
    }
   },
   "outputs": [
    {
     "data": {
      "image/svg+xml": [
       "<?xml version=\"1.0\" encoding=\"UTF-8\" standalone=\"no\"?><svg xmlns=\"http://www.w3.org/2000/svg\" xmlns:xlink=\"http://www.w3.org/1999/xlink\" contentScriptType=\"application/ecmascript\" contentStyleType=\"text/css\" height=\"12px\" preserveAspectRatio=\"none\" style=\"width:12px;height:12px;\" version=\"1.1\" viewBox=\"0 0 12 12\" width=\"12px\" zoomAndPan=\"magnify\"><defs/><g><!--MD5=[aeeef50f102b80d730deb6443d14f702]\n",
       "@startuml\r\n",
       "skinparam wrapWidth 300\r\n",
       "hide circle\r\n",
       "\r\n",
       "@enduml\r\n",
       "\n",
       "PlantUML version 1.2020.13(Sat Jun 13 12:26:38 UTC 2020)\n",
       "(EPL source distribution)\n",
       "Java Runtime: OpenJDK Runtime Environment\n",
       "JVM: OpenJDK 64-Bit Server VM\n",
       "Default Encoding: UTF-8\n",
       "Language: en\n",
       "Country: null\n",
       "--></g></svg>"
      ]
     },
     "execution_count": 25,
     "metadata": {},
     "output_type": "execute_result"
    }
   ],
   "source": [
    "%viz --style=\"STDCOLOR\" --view=\"State\" \"AnalysisAnnotation\""
   ]
  },
  {
   "cell_type": "code",
   "execution_count": 26,
   "id": "f4c31a11",
   "metadata": {
    "execution": {
     "iopub.execute_input": "2021-04-20T07:28:16.475796Z",
     "iopub.status.busy": "2021-04-20T07:28:16.475283Z",
     "iopub.status.idle": "2021-04-20T07:28:16.506686Z",
     "shell.execute_reply": "2021-04-20T07:28:16.506255Z"
    }
   },
   "outputs": [
    {
     "data": {
      "image/svg+xml": [
       "<?xml version=\"1.0\" encoding=\"UTF-8\" standalone=\"no\"?><svg xmlns=\"http://www.w3.org/2000/svg\" xmlns:xlink=\"http://www.w3.org/1999/xlink\" contentScriptType=\"application/ecmascript\" contentStyleType=\"text/css\" height=\"209px\" preserveAspectRatio=\"none\" style=\"width:486px;height:209px;\" version=\"1.1\" viewBox=\"0 0 486 209\" width=\"486px\" zoomAndPan=\"magnify\"><defs><filter height=\"300%\" id=\"fjjssm5augqng\" width=\"300%\" x=\"-1\" y=\"-1\"><feGaussianBlur result=\"blurOut\" stdDeviation=\"2.0\"/><feColorMatrix in=\"blurOut\" result=\"blurOut2\" type=\"matrix\" values=\"0 0 0 0 0 0 0 0 0 0 0 0 0 0 0 0 0 0 .4 0\"/><feOffset dx=\"4.0\" dy=\"4.0\" in=\"blurOut2\" result=\"blurOut3\"/><feBlend in=\"SourceGraphic\" in2=\"blurOut3\" mode=\"normal\"/></filter></defs><g><!--MD5=[fbc87193dbaf4d95561dea2c320d4a47]\n",
       "cluster E1--><a href=\"psysml:3f9dd228-0d59-436f-8c66-7bfaf74317e1\" target=\"_top\" title=\"psysml:3f9dd228-0d59-436f-8c66-7bfaf74317e1\" xlink:actuate=\"onRequest\" xlink:href=\"psysml:3f9dd228-0d59-436f-8c66-7bfaf74317e1\" xlink:show=\"new\" xlink:title=\"psysml:3f9dd228-0d59-436f-8c66-7bfaf74317e1\" xlink:type=\"simple\"><polygon fill=\"#FFFFFF\" filter=\"url(#fjjssm5augqng)\" points=\"16,6,173,6,180,28.2969,464,28.2969,464,197.72,16,197.72,16,6\" style=\"stroke: #000000; stroke-width: 1.5;\"/><line style=\"stroke: #000000; stroke-width: 1.5;\" x1=\"16\" x2=\"180\" y1=\"28.2969\" y2=\"28.2969\"/><text fill=\"#000000\" font-family=\"sans-serif\" font-size=\"14\" font-weight=\"bold\" lengthAdjust=\"spacingAndGlyphs\" textLength=\"151\" x=\"20\" y=\"20.9951\">AnalysisAnnotation</text></a><!--MD5=[d5e69f78d87373223dbae638b30a9c99]\n",
       "cluster E3--><a href=\"psysml:e73f4f0e-f2f2-491a-ad18-2354ebab0714\" target=\"_top\" title=\"psysml:e73f4f0e-f2f2-491a-ad18-2354ebab0714\" xlink:actuate=\"onRequest\" xlink:href=\"psysml:e73f4f0e-f2f2-491a-ad18-2354ebab0714\" xlink:show=\"new\" xlink:title=\"psysml:e73f4f0e-f2f2-491a-ad18-2354ebab0714\" xlink:type=\"simple\"><rect fill=\"#FFFFFF\" filter=\"url(#fjjssm5augqng)\" height=\"105.22\" id=\"E3\" style=\"stroke: #A80036; stroke-width: 1.5;\" width=\"318\" x=\"134\" y=\"62.5\"/><rect fill=\"#FEFECE\" height=\"37.9375\" style=\"stroke: #A80036; stroke-width: 1.5;\" width=\"318\" x=\"134\" y=\"62.5\"/><text fill=\"#000000\" font-family=\"sans-serif\" font-size=\"12\" font-style=\"italic\" lengthAdjust=\"spacingAndGlyphs\" textLength=\"77\" x=\"254.5\" y=\"78.6387\">«action def»</text><text fill=\"#000000\" font-family=\"sans-serif\" font-size=\"12\" lengthAdjust=\"spacingAndGlyphs\" textLength=\"115\" x=\"235.5\" y=\"92.6074\">ComputeDynamics</text></a><g id=\"E1.E2\"><a href=\"psysml:44eddca9-682f-4ef7-a7c7-a9f194d7f2c9\" target=\"_top\" title=\"psysml:44eddca9-682f-4ef7-a7c7-a9f194d7f2c9\" xlink:actuate=\"onRequest\" xlink:href=\"psysml:44eddca9-682f-4ef7-a7c7-a9f194d7f2c9\" xlink:show=\"new\" xlink:title=\"psysml:44eddca9-682f-4ef7-a7c7-a9f194d7f2c9\" xlink:type=\"simple\"><rect fill=\"#FEFECE\" filter=\"url(#fjjssm5augqng)\" height=\"42.9375\" id=\"E2\" style=\"stroke: #A80036; stroke-width: 1.5;\" width=\"79\" x=\"31.5\" y=\"41\"/><text fill=\"#000000\" font-family=\"sans-serif\" font-size=\"12\" font-style=\"italic\" lengthAdjust=\"spacingAndGlyphs\" textLength=\"72\" x=\"35\" y=\"57.1387\">«dataType»</text><text fill=\"#000000\" font-family=\"sans-serif\" font-size=\"12\" lengthAdjust=\"spacingAndGlyphs\" textLength=\"27\" x=\"57.5\" y=\"71.1074\">Real</text></a></g><text fill=\"#000000\" font-family=\"sans-serif\" font-size=\"14\" lengthAdjust=\"spacingAndGlyphs\" textLength=\"48\" x=\"174\" y=\"186.7151\">$result</text><rect fill=\"#A80036\" height=\"12\" style=\"stroke: #FEFECE; stroke-width: 1.5;\" width=\"12\" x=\"192\" y=\"161.72\"/><text fill=\"#000000\" font-family=\"sans-serif\" font-size=\"14\" lengthAdjust=\"spacingAndGlyphs\" textLength=\"48\" x=\"221\" y=\"186.7151\">$result</text><rect fill=\"#A80036\" height=\"12\" style=\"stroke: #FEFECE; stroke-width: 1.5;\" width=\"12\" x=\"239\" y=\"161.72\"/><text fill=\"#000000\" font-family=\"sans-serif\" font-size=\"14\" lengthAdjust=\"spacingAndGlyphs\" textLength=\"14\" x=\"145\" y=\"41.1982\">dt</text><rect fill=\"#A80036\" height=\"12\" style=\"stroke: #FEFECE; stroke-width: 1.5;\" width=\"12\" x=\"146\" y=\"56.5\"/><text fill=\"#000000\" font-family=\"sans-serif\" font-size=\"14\" lengthAdjust=\"spacingAndGlyphs\" textLength=\"48\" x=\"175\" y=\"41.1982\">whlpwr</text><rect fill=\"#A80036\" height=\"12\" style=\"stroke: #FEFECE; stroke-width: 1.5;\" width=\"12\" x=\"193\" y=\"56.5\"/><text fill=\"#000000\" font-family=\"sans-serif\" font-size=\"14\" lengthAdjust=\"spacingAndGlyphs\" textLength=\"19\" x=\"236.5\" y=\"41.1982\">Cd</text><rect fill=\"#A80036\" height=\"12\" style=\"stroke: #FEFECE; stroke-width: 1.5;\" width=\"12\" x=\"240\" y=\"56.5\"/><text fill=\"#000000\" font-family=\"sans-serif\" font-size=\"14\" lengthAdjust=\"spacingAndGlyphs\" textLength=\"14\" x=\"286\" y=\"41.1982\">Cf</text><rect fill=\"#A80036\" height=\"12\" style=\"stroke: #FEFECE; stroke-width: 1.5;\" width=\"12\" x=\"287\" y=\"56.5\"/><text fill=\"#000000\" font-family=\"sans-serif\" font-size=\"14\" lengthAdjust=\"spacingAndGlyphs\" textLength=\"18\" x=\"331\" y=\"41.1982\">tm</text><rect fill=\"#A80036\" height=\"12\" style=\"stroke: #FEFECE; stroke-width: 1.5;\" width=\"12\" x=\"334\" y=\"56.5\"/><text fill=\"#000000\" font-family=\"sans-serif\" font-size=\"14\" lengthAdjust=\"spacingAndGlyphs\" textLength=\"26\" x=\"374\" y=\"41.1982\">v_in</text><rect fill=\"#A80036\" height=\"12\" style=\"stroke: #FEFECE; stroke-width: 1.5;\" width=\"12\" x=\"381\" y=\"56.5\"/><text fill=\"#000000\" font-family=\"sans-serif\" font-size=\"14\" lengthAdjust=\"spacingAndGlyphs\" textLength=\"26\" x=\"421\" y=\"41.1982\">x_in</text><rect fill=\"#A80036\" height=\"12\" style=\"stroke: #FEFECE; stroke-width: 1.5;\" width=\"12\" x=\"428\" y=\"56.5\"/><text fill=\"#000000\" font-family=\"sans-serif\" font-size=\"14\" lengthAdjust=\"spacingAndGlyphs\" textLength=\"38\" x=\"273\" y=\"186.7151\">a_out</text><rect fill=\"#A80036\" height=\"12\" style=\"stroke: #FEFECE; stroke-width: 1.5;\" width=\"12\" x=\"286\" y=\"161.72\"/><text fill=\"#000000\" font-family=\"sans-serif\" font-size=\"14\" lengthAdjust=\"spacingAndGlyphs\" textLength=\"37\" x=\"320.5\" y=\"186.7151\">v_out</text><rect fill=\"#A80036\" height=\"12\" style=\"stroke: #FEFECE; stroke-width: 1.5;\" width=\"12\" x=\"333\" y=\"161.72\"/><text fill=\"#000000\" font-family=\"sans-serif\" font-size=\"14\" lengthAdjust=\"spacingAndGlyphs\" textLength=\"37\" x=\"367.5\" y=\"186.7151\">x_out</text><rect fill=\"#A80036\" height=\"12\" style=\"stroke: #FEFECE; stroke-width: 1.5;\" width=\"12\" x=\"380\" y=\"161.72\"/><!--MD5=[57c8594f014811fcb2c5683a2b1a81ab]\n",
       "@startuml\r\n",
       "skinparam ranksep 10\r\n",
       "skinparam rectangle {\r\n",
       " backgroundColor<<block>> LightGreen\r\n",
       "}\r\n",
       "skinparam wrapWidth 300\r\n",
       "hide circle\r\n",
       "\r\n",
       "package \"AnalysisAnnotation\" as E1  [[psysml:3f9dd228-0d59-436f-8c66-7bfaf74317e1 ]]  {\r\n",
       "def \"Real\" as E2  <<(T,blue)dataType>> [[psysml:44eddca9-682f-4ef7-a7c7-a9f194d7f2c9 ]] \r\n",
       "rec def \"ComputeDynamics\" as E3  <<(T,blue)action def>> [[psysml:e73f4f0e-f2f2-491a-ad18-2354ebab0714 ]] {\r\n",
       "portout \"$result\" as E4  [[psysml:321a5472-f26a-4f44-adf1-e887f248e10c ]] \r\n",
       "portout \"$result\" as E5  [[psysml:249d7fd3-af20-489f-a52b-b6c298227647 ]] \r\n",
       "portin \"dt\" as E6  [[psysml:d9dfe931-1109-47e6-bc0c-352db24577b0 ]] \r\n",
       "portin \"whlpwr\" as E7  [[psysml:44277f67-022c-45f6-9760-98798ee04e09 ]] \r\n",
       "portin \"Cd\" as E8  [[psysml:41d96645-5d65-4e32-85e5-332077e108f6 ]] \r\n",
       "portin \"Cf\" as E9  [[psysml:aebf7dc6-628a-4d75-a952-13ccca53817c ]] \r\n",
       "portin \"tm\" as E10  [[psysml:08dba41b-e930-4b20-afae-ef7ae15f00ec ]] \r\n",
       "portin \"v_in\" as E11  [[psysml:e3f3c5a0-ed9d-41a6-a918-fe4a600fe261 ]] \r\n",
       "portin \"x_in\" as E12  [[psysml:fb3fca97-7004-4d76-8828-7714499f1454 ]] \r\n",
       "portout \"a_out\" as E13  [[psysml:5a710766-56b6-4c7a-9ae9-326b3f7572a8 ]] \r\n",
       "portout \"v_out\" as E14  [[psysml:1e62abd8-4172-4662-8f1c-1e7c30e8c54c ]] \r\n",
       "portout \"x_out\" as E15  [[psysml:e4c640c8-309e-4572-81b1-e78594ed37ec ]] \r\n",
       "}\r\n",
       "\r\n",
       "}\r\n",
       "@enduml\r\n",
       "\n",
       "PlantUML version 1.2020.13(Sat Jun 13 12:26:38 UTC 2020)\n",
       "(EPL source distribution)\n",
       "Java Runtime: OpenJDK Runtime Environment\n",
       "JVM: OpenJDK 64-Bit Server VM\n",
       "Default Encoding: UTF-8\n",
       "Language: en\n",
       "Country: null\n",
       "--></g></svg>"
      ]
     },
     "execution_count": 26,
     "metadata": {},
     "output_type": "execute_result"
    }
   ],
   "source": [
    "%viz --style=\"STDCOLOR\" --view=\"Interconnection\" \"AnalysisAnnotation\""
   ]
  },
  {
   "cell_type": "code",
   "execution_count": 27,
   "id": "9f09cc9d",
   "metadata": {
    "execution": {
     "iopub.execute_input": "2021-04-20T07:28:16.556901Z",
     "iopub.status.busy": "2021-04-20T07:28:16.556097Z",
     "iopub.status.idle": "2021-04-20T07:28:16.582961Z",
     "shell.execute_reply": "2021-04-20T07:28:16.582663Z"
    }
   },
   "outputs": [
    {
     "data": {
      "image/svg+xml": [
       "<?xml version=\"1.0\" encoding=\"UTF-8\" standalone=\"no\"?><svg xmlns=\"http://www.w3.org/2000/svg\" xmlns:xlink=\"http://www.w3.org/1999/xlink\" contentScriptType=\"application/ecmascript\" contentStyleType=\"text/css\" height=\"162px\" preserveAspectRatio=\"none\" style=\"width:344px;height:162px;\" version=\"1.1\" viewBox=\"0 0 344 162\" width=\"344px\" zoomAndPan=\"magnify\"><defs><filter height=\"300%\" id=\"f19mscjlorjkym\" width=\"300%\" x=\"-1\" y=\"-1\"><feGaussianBlur result=\"blurOut\" stdDeviation=\"2.0\"/><feColorMatrix in=\"blurOut\" result=\"blurOut2\" type=\"matrix\" values=\"0 0 0 0 0 0 0 0 0 0 0 0 0 0 0 0 0 0 .4 0\"/><feOffset dx=\"4.0\" dy=\"4.0\" in=\"blurOut2\" result=\"blurOut3\"/><feBlend in=\"SourceGraphic\" in2=\"blurOut3\" mode=\"normal\"/></filter></defs><g><!--MD5=[fbc87193dbaf4d95561dea2c320d4a47]\n",
       "cluster E1--><a href=\"psysml:e73f4f0e-f2f2-491a-ad18-2354ebab0714\" target=\"_top\" title=\"psysml:e73f4f0e-f2f2-491a-ad18-2354ebab0714\" xlink:actuate=\"onRequest\" xlink:href=\"psysml:e73f4f0e-f2f2-491a-ad18-2354ebab0714\" xlink:show=\"new\" xlink:title=\"psysml:e73f4f0e-f2f2-491a-ad18-2354ebab0714\" xlink:type=\"simple\"><rect fill=\"#FFFFFF\" filter=\"url(#f19mscjlorjkym)\" height=\"87.72\" id=\"E1\" style=\"stroke: #A80036; stroke-width: 1.5;\" width=\"318\" x=\"7\" y=\"42.0986\"/><rect fill=\"#FEFECE\" height=\"37.9375\" style=\"stroke: #A80036; stroke-width: 1.5;\" width=\"318\" x=\"7\" y=\"42.0986\"/><text fill=\"#000000\" font-family=\"sans-serif\" font-size=\"12\" font-style=\"italic\" lengthAdjust=\"spacingAndGlyphs\" textLength=\"77\" x=\"127.5\" y=\"58.2373\">«action def»</text><text fill=\"#000000\" font-family=\"sans-serif\" font-size=\"12\" lengthAdjust=\"spacingAndGlyphs\" textLength=\"115\" x=\"108.5\" y=\"72.2061\">ComputeDynamics</text></a><text fill=\"#000000\" font-family=\"sans-serif\" font-size=\"14\" lengthAdjust=\"spacingAndGlyphs\" textLength=\"48\" x=\"47\" y=\"148.8138\">$result</text><rect fill=\"#A80036\" height=\"12\" style=\"stroke: #FEFECE; stroke-width: 1.5;\" width=\"12\" x=\"65\" y=\"123.8186\"/><text fill=\"#000000\" font-family=\"sans-serif\" font-size=\"14\" lengthAdjust=\"spacingAndGlyphs\" textLength=\"48\" x=\"94\" y=\"148.8138\">$result</text><rect fill=\"#A80036\" height=\"12\" style=\"stroke: #FEFECE; stroke-width: 1.5;\" width=\"12\" x=\"112\" y=\"123.8186\"/><text fill=\"#000000\" font-family=\"sans-serif\" font-size=\"14\" lengthAdjust=\"spacingAndGlyphs\" textLength=\"14\" x=\"18\" y=\"20.7969\">dt</text><rect fill=\"#A80036\" height=\"12\" style=\"stroke: #FEFECE; stroke-width: 1.5;\" width=\"12\" x=\"19\" y=\"36.0986\"/><text fill=\"#000000\" font-family=\"sans-serif\" font-size=\"14\" lengthAdjust=\"spacingAndGlyphs\" textLength=\"48\" x=\"48\" y=\"20.7969\">whlpwr</text><rect fill=\"#A80036\" height=\"12\" style=\"stroke: #FEFECE; stroke-width: 1.5;\" width=\"12\" x=\"66\" y=\"36.0986\"/><text fill=\"#000000\" font-family=\"sans-serif\" font-size=\"14\" lengthAdjust=\"spacingAndGlyphs\" textLength=\"19\" x=\"109.5\" y=\"20.7969\">Cd</text><rect fill=\"#A80036\" height=\"12\" style=\"stroke: #FEFECE; stroke-width: 1.5;\" width=\"12\" x=\"113\" y=\"36.0986\"/><text fill=\"#000000\" font-family=\"sans-serif\" font-size=\"14\" lengthAdjust=\"spacingAndGlyphs\" textLength=\"14\" x=\"159\" y=\"20.7969\">Cf</text><rect fill=\"#A80036\" height=\"12\" style=\"stroke: #FEFECE; stroke-width: 1.5;\" width=\"12\" x=\"160\" y=\"36.0986\"/><text fill=\"#000000\" font-family=\"sans-serif\" font-size=\"14\" lengthAdjust=\"spacingAndGlyphs\" textLength=\"18\" x=\"204\" y=\"20.7969\">tm</text><rect fill=\"#A80036\" height=\"12\" style=\"stroke: #FEFECE; stroke-width: 1.5;\" width=\"12\" x=\"207\" y=\"36.0986\"/><text fill=\"#000000\" font-family=\"sans-serif\" font-size=\"14\" lengthAdjust=\"spacingAndGlyphs\" textLength=\"26\" x=\"247\" y=\"20.7969\">v_in</text><rect fill=\"#A80036\" height=\"12\" style=\"stroke: #FEFECE; stroke-width: 1.5;\" width=\"12\" x=\"254\" y=\"36.0986\"/><text fill=\"#000000\" font-family=\"sans-serif\" font-size=\"14\" lengthAdjust=\"spacingAndGlyphs\" textLength=\"26\" x=\"294\" y=\"20.7969\">x_in</text><rect fill=\"#A80036\" height=\"12\" style=\"stroke: #FEFECE; stroke-width: 1.5;\" width=\"12\" x=\"301\" y=\"36.0986\"/><text fill=\"#000000\" font-family=\"sans-serif\" font-size=\"14\" lengthAdjust=\"spacingAndGlyphs\" textLength=\"38\" x=\"146\" y=\"148.8138\">a_out</text><rect fill=\"#A80036\" height=\"12\" style=\"stroke: #FEFECE; stroke-width: 1.5;\" width=\"12\" x=\"159\" y=\"123.8186\"/><text fill=\"#000000\" font-family=\"sans-serif\" font-size=\"14\" lengthAdjust=\"spacingAndGlyphs\" textLength=\"37\" x=\"193.5\" y=\"148.8138\">v_out</text><rect fill=\"#A80036\" height=\"12\" style=\"stroke: #FEFECE; stroke-width: 1.5;\" width=\"12\" x=\"206\" y=\"123.8186\"/><text fill=\"#000000\" font-family=\"sans-serif\" font-size=\"14\" lengthAdjust=\"spacingAndGlyphs\" textLength=\"37\" x=\"240.5\" y=\"148.8138\">x_out</text><rect fill=\"#A80036\" height=\"12\" style=\"stroke: #FEFECE; stroke-width: 1.5;\" width=\"12\" x=\"253\" y=\"123.8186\"/><!--MD5=[4e40534be9dd13614216743b1379274e]\n",
       "@startuml\r\n",
       "skinparam ranksep 8\r\n",
       "skinparam wrapWidth 300\r\n",
       "hide circle\r\n",
       "\r\n",
       "rec def \"ComputeDynamics\" as E1  <<(T,blue)action def>> [[psysml:e73f4f0e-f2f2-491a-ad18-2354ebab0714 ]] {\r\n",
       "portout \"$result\" as E2  [[psysml:321a5472-f26a-4f44-adf1-e887f248e10c ]] \r\n",
       "portout \"$result\" as E3  [[psysml:249d7fd3-af20-489f-a52b-b6c298227647 ]] \r\n",
       "portin \"dt\" as E4  [[psysml:d9dfe931-1109-47e6-bc0c-352db24577b0 ]] \r\n",
       "portin \"whlpwr\" as E5  [[psysml:44277f67-022c-45f6-9760-98798ee04e09 ]] \r\n",
       "portin \"Cd\" as E6  [[psysml:41d96645-5d65-4e32-85e5-332077e108f6 ]] \r\n",
       "portin \"Cf\" as E7  [[psysml:aebf7dc6-628a-4d75-a952-13ccca53817c ]] \r\n",
       "portin \"tm\" as E8  [[psysml:08dba41b-e930-4b20-afae-ef7ae15f00ec ]] \r\n",
       "portin \"v_in\" as E9  [[psysml:e3f3c5a0-ed9d-41a6-a918-fe4a600fe261 ]] \r\n",
       "portin \"x_in\" as E10  [[psysml:fb3fca97-7004-4d76-8828-7714499f1454 ]] \r\n",
       "portout \"a_out\" as E11  [[psysml:5a710766-56b6-4c7a-9ae9-326b3f7572a8 ]] \r\n",
       "portout \"v_out\" as E12  [[psysml:1e62abd8-4172-4662-8f1c-1e7c30e8c54c ]] \r\n",
       "portout \"x_out\" as E13  [[psysml:e4c640c8-309e-4572-81b1-e78594ed37ec ]] \r\n",
       "}\r\n",
       "\r\n",
       "@enduml\r\n",
       "\n",
       "PlantUML version 1.2020.13(Sat Jun 13 12:26:38 UTC 2020)\n",
       "(EPL source distribution)\n",
       "Java Runtime: OpenJDK Runtime Environment\n",
       "JVM: OpenJDK 64-Bit Server VM\n",
       "Default Encoding: UTF-8\n",
       "Language: en\n",
       "Country: null\n",
       "--></g></svg>"
      ]
     },
     "execution_count": 27,
     "metadata": {},
     "output_type": "execute_result"
    }
   ],
   "source": [
    "%viz --style=\"STDCOLOR\" --view=\"Action\" \"AnalysisAnnotation\""
   ]
  },
  {
   "cell_type": "code",
   "execution_count": 28,
   "id": "9628bdf7",
   "metadata": {
    "execution": {
     "iopub.execute_input": "2021-04-20T07:28:16.634456Z",
     "iopub.status.busy": "2021-04-20T07:28:16.633888Z",
     "iopub.status.idle": "2021-04-20T07:28:16.706539Z",
     "shell.execute_reply": "2021-04-20T07:28:16.705154Z"
    }
   },
   "outputs": [
    {
     "data": {
      "image/svg+xml": [
       "<?xml version=\"1.0\" encoding=\"UTF-8\" standalone=\"no\"?><svg xmlns=\"http://www.w3.org/2000/svg\" xmlns:xlink=\"http://www.w3.org/1999/xlink\" contentScriptType=\"application/ecmascript\" contentStyleType=\"text/css\" height=\"455px\" preserveAspectRatio=\"none\" style=\"width:357px;height:455px;\" version=\"1.1\" viewBox=\"0 0 357 455\" width=\"357px\" zoomAndPan=\"magnify\"><defs><filter height=\"300%\" id=\"frz4ef12ft9md\" width=\"300%\" x=\"-1\" y=\"-1\"><feGaussianBlur result=\"blurOut\" stdDeviation=\"2.0\"/><feColorMatrix in=\"blurOut\" result=\"blurOut2\" type=\"matrix\" values=\"0 0 0 0 0 0 0 0 0 0 0 0 0 0 0 0 0 0 .4 0\"/><feOffset dx=\"4.0\" dy=\"4.0\" in=\"blurOut2\" result=\"blurOut3\"/><feBlend in=\"SourceGraphic\" in2=\"blurOut3\" mode=\"normal\"/></filter></defs><g><!--MD5=[fbc87193dbaf4d95561dea2c320d4a47]\n",
       "cluster E1--><a href=\"psysml:3f9dd228-0d59-436f-8c66-7bfaf74317e1\" target=\"_top\" title=\"psysml:3f9dd228-0d59-436f-8c66-7bfaf74317e1\" xlink:actuate=\"onRequest\" xlink:href=\"psysml:3f9dd228-0d59-436f-8c66-7bfaf74317e1\" xlink:show=\"new\" xlink:title=\"psysml:3f9dd228-0d59-436f-8c66-7bfaf74317e1\" xlink:type=\"simple\"><polygon fill=\"#FFFFFF\" filter=\"url(#frz4ef12ft9md)\" points=\"16,6,173,6,180,28.2969,335,28.2969,335,443,16,443,16,6\" style=\"stroke: #000000; stroke-width: 1.5;\"/><line style=\"stroke: #000000; stroke-width: 1.5;\" x1=\"16\" x2=\"180\" y1=\"28.2969\" y2=\"28.2969\"/><text fill=\"#000000\" font-family=\"sans-serif\" font-size=\"14\" font-weight=\"bold\" lengthAdjust=\"spacingAndGlyphs\" textLength=\"151\" x=\"20\" y=\"20.9951\">AnalysisAnnotation</text></a><!--MD5=[b4997ac47864f28c2f74865a473b2911]\n",
       "class E2--><a href=\"psysml:44eddca9-682f-4ef7-a7c7-a9f194d7f2c9\" target=\"_top\" title=\"psysml:44eddca9-682f-4ef7-a7c7-a9f194d7f2c9\" xlink:actuate=\"onRequest\" xlink:href=\"psysml:44eddca9-682f-4ef7-a7c7-a9f194d7f2c9\" xlink:show=\"new\" xlink:title=\"psysml:44eddca9-682f-4ef7-a7c7-a9f194d7f2c9\" xlink:type=\"simple\"><rect fill=\"#FEFECE\" filter=\"url(#frz4ef12ft9md)\" height=\"45.9375\" id=\"E2\" style=\"stroke: #A80036; stroke-width: 1.5;\" width=\"74\" x=\"238\" y=\"105\"/><text fill=\"#000000\" font-family=\"sans-serif\" font-size=\"12\" font-style=\"italic\" lengthAdjust=\"spacingAndGlyphs\" textLength=\"72\" x=\"239\" y=\"121.1387\">«dataType»</text><text fill=\"#000000\" font-family=\"sans-serif\" font-size=\"12\" lengthAdjust=\"spacingAndGlyphs\" textLength=\"27\" x=\"261.5\" y=\"135.1074\">Real</text><line style=\"stroke: #A80036; stroke-width: 1.5;\" x1=\"239\" x2=\"311\" y1=\"142.9375\" y2=\"142.9375\"/></a><!--MD5=[09b614a08d8cba4a07c9adeb5e0fee81]\n",
       "class E3--><a href=\"psysml:e73f4f0e-f2f2-491a-ad18-2354ebab0714\" target=\"_top\" title=\"psysml:e73f4f0e-f2f2-491a-ad18-2354ebab0714\" xlink:actuate=\"onRequest\" xlink:href=\"psysml:e73f4f0e-f2f2-491a-ad18-2354ebab0714\" xlink:show=\"new\" xlink:title=\"psysml:e73f4f0e-f2f2-491a-ad18-2354ebab0714\" xlink:type=\"simple\"><rect fill=\"#FEFECE\" filter=\"url(#frz4ef12ft9md)\" height=\"173.9844\" id=\"E3\" style=\"stroke: #A80036; stroke-width: 1.5;\" width=\"151\" x=\"38.5\" y=\"41\"/><text fill=\"#000000\" font-family=\"sans-serif\" font-size=\"12\" font-style=\"italic\" lengthAdjust=\"spacingAndGlyphs\" textLength=\"77\" x=\"75.5\" y=\"57.1387\">«action def»</text><text fill=\"#000000\" font-family=\"sans-serif\" font-size=\"12\" lengthAdjust=\"spacingAndGlyphs\" textLength=\"115\" x=\"56.5\" y=\"71.1074\">ComputeDynamics</text><line style=\"stroke: #A80036; stroke-width: 1.5;\" x1=\"39.5\" x2=\"188.5\" y1=\"78.9375\" y2=\"78.9375\"/><text fill=\"#000000\" font-family=\"sans-serif\" font-size=\"11\" lengthAdjust=\"spacingAndGlyphs\" textLength=\"47\" x=\"44.5\" y=\"93.1479\">Cd: Real</text><text fill=\"#000000\" font-family=\"sans-serif\" font-size=\"11\" lengthAdjust=\"spacingAndGlyphs\" textLength=\"44\" x=\"44.5\" y=\"105.9526\">Cf: Real</text><text fill=\"#000000\" font-family=\"sans-serif\" font-size=\"11\" lengthAdjust=\"spacingAndGlyphs\" textLength=\"139\" x=\"44.5\" y=\"118.7573\">a_out: AccelerationValue</text><text fill=\"#000000\" font-family=\"sans-serif\" font-size=\"11\" lengthAdjust=\"spacingAndGlyphs\" textLength=\"98\" x=\"44.5\" y=\"131.562\">dt: DurationValue</text><text fill=\"#000000\" font-family=\"sans-serif\" font-size=\"11\" lengthAdjust=\"spacingAndGlyphs\" textLength=\"84\" x=\"44.5\" y=\"144.3667\">tm: MassValue</text><text fill=\"#000000\" font-family=\"sans-serif\" font-size=\"11\" lengthAdjust=\"spacingAndGlyphs\" textLength=\"97\" x=\"44.5\" y=\"157.1714\">v_in: SpeedValue</text><text fill=\"#000000\" font-family=\"sans-serif\" font-size=\"11\" lengthAdjust=\"spacingAndGlyphs\" textLength=\"105\" x=\"44.5\" y=\"169.9761\">v_out: SpeedValue</text><text fill=\"#000000\" font-family=\"sans-serif\" font-size=\"11\" lengthAdjust=\"spacingAndGlyphs\" textLength=\"114\" x=\"44.5\" y=\"182.7808\">whlpwr: PowerValue</text><text fill=\"#000000\" font-family=\"sans-serif\" font-size=\"11\" lengthAdjust=\"spacingAndGlyphs\" textLength=\"99\" x=\"44.5\" y=\"195.5854\">x_in: LengthValue</text><text fill=\"#000000\" font-family=\"sans-serif\" font-size=\"11\" lengthAdjust=\"spacingAndGlyphs\" textLength=\"107\" x=\"44.5\" y=\"208.3901\">x_out: LengthValue</text></a><!--MD5=[ebbe1d658d1005bcc118a6aa81145e00]\n",
       "class E4--><a href=\"psysml:60a2becf-7a46-4ebd-946f-3a728f7b6aab\" target=\"_top\" title=\"psysml:60a2becf-7a46-4ebd-946f-3a728f7b6aab\" xlink:actuate=\"onRequest\" xlink:href=\"psysml:60a2becf-7a46-4ebd-946f-3a728f7b6aab\" xlink:show=\"new\" xlink:title=\"psysml:60a2becf-7a46-4ebd-946f-3a728f7b6aab\" xlink:type=\"simple\"><rect fill=\"#FEFECE\" filter=\"url(#frz4ef12ft9md)\" height=\"45.9375\" id=\"E4\" style=\"stroke: #A80036; stroke-width: 1.5;\" width=\"152\" x=\"38\" y=\"275\"/><text fill=\"#000000\" font-family=\"sans-serif\" font-size=\"12\" font-style=\"italic\" lengthAdjust=\"spacingAndGlyphs\" textLength=\"132\" x=\"48\" y=\"291.1387\">«annotatingFeature»</text><text fill=\"#000000\" font-family=\"sans-serif\" font-size=\"12\" lengthAdjust=\"spacingAndGlyphs\" text-decoration=\"line-through\" textLength=\"51\" x=\"41\" y=\"305.1074\">noname</text><text fill=\"#000000\" font-family=\"sans-serif\" font-size=\"12\" lengthAdjust=\"spacingAndGlyphs\" textLength=\"95\" x=\"92\" y=\"305.1074\">: ToolExecution</text><line style=\"stroke: #A80036; stroke-width: 1.5;\" x1=\"39\" x2=\"189\" y1=\"312.9375\" y2=\"312.9375\"/></a><!--MD5=[270fce915f116d4de14055a7c1d9a0f3]\n",
       "class E5--><a href=\"psysml:b02ba1b2-12c8-4052-9523-3aa0c79993f0\" target=\"_top\" title=\"psysml:b02ba1b2-12c8-4052-9523-3aa0c79993f0\" xlink:actuate=\"onRequest\" xlink:href=\"psysml:b02ba1b2-12c8-4052-9523-3aa0c79993f0\" xlink:show=\"new\" xlink:title=\"psysml:b02ba1b2-12c8-4052-9523-3aa0c79993f0\" xlink:type=\"simple\"><rect fill=\"#FEFECE\" filter=\"url(#frz4ef12ft9md)\" height=\"45.9375\" id=\"E5\" style=\"stroke: #A80036; stroke-width: 1.5;\" width=\"126\" x=\"32\" y=\"381\"/><text fill=\"#000000\" font-family=\"sans-serif\" font-size=\"12\" font-style=\"italic\" lengthAdjust=\"spacingAndGlyphs\" textLength=\"124\" x=\"33\" y=\"397.1387\">«metadataFeature»</text><text fill=\"#000000\" font-family=\"sans-serif\" font-size=\"12\" lengthAdjust=\"spacingAndGlyphs\" textLength=\"60\" x=\"65\" y=\"411.1074\">toolName</text><line style=\"stroke: #A80036; stroke-width: 1.5;\" x1=\"33\" x2=\"157\" y1=\"418.9375\" y2=\"418.9375\"/></a><!--MD5=[60a26617385b1d2d0262a64233df1f8d]\n",
       "class E6--><a href=\"psysml:cb4006f5-0e41-4f05-aa2a-a57df33d56ff\" target=\"_top\" title=\"psysml:cb4006f5-0e41-4f05-aa2a-a57df33d56ff\" xlink:actuate=\"onRequest\" xlink:href=\"psysml:cb4006f5-0e41-4f05-aa2a-a57df33d56ff\" xlink:show=\"new\" xlink:title=\"psysml:cb4006f5-0e41-4f05-aa2a-a57df33d56ff\" xlink:type=\"simple\"><rect fill=\"#FEFECE\" filter=\"url(#frz4ef12ft9md)\" height=\"45.9375\" id=\"E6\" style=\"stroke: #A80036; stroke-width: 1.5;\" width=\"126\" x=\"193\" y=\"381\"/><text fill=\"#000000\" font-family=\"sans-serif\" font-size=\"12\" font-style=\"italic\" lengthAdjust=\"spacingAndGlyphs\" textLength=\"124\" x=\"194\" y=\"397.1387\">«metadataFeature»</text><text fill=\"#000000\" font-family=\"sans-serif\" font-size=\"12\" lengthAdjust=\"spacingAndGlyphs\" textLength=\"16\" x=\"248\" y=\"411.1074\">uri</text><line style=\"stroke: #A80036; stroke-width: 1.5;\" x1=\"194\" x2=\"318\" y1=\"418.9375\" y2=\"418.9375\"/></a><!--MD5=[4672eba38e49728da53d11aeb285b987]\n",
       "reverse link E3 to E4--><a href=\"psysml:66d6f7e6-2188-4a34-9637-6b4b270c496c\" target=\"_top\" title=\"psysml:66d6f7e6-2188-4a34-9637-6b4b270c496c\" xlink:actuate=\"onRequest\" xlink:href=\"psysml:66d6f7e6-2188-4a34-9637-6b4b270c496c\" xlink:show=\"new\" xlink:title=\"psysml:66d6f7e6-2188-4a34-9637-6b4b270c496c\" xlink:type=\"simple\"><path d=\"M114,230.58 C114,247.21 114,262.87 114,274.8 \" fill=\"none\" id=\"E3&lt;-E4\" style=\"stroke: #A80036; stroke-width: 1.0;\"/><ellipse cx=\"114\" cy=\"223.46\" fill=\"#FFFFFF\" rx=\"8\" ry=\"8\" style=\"stroke: #A80036; stroke-width: 1.0;\"/><line style=\"stroke: #A80036; stroke-width: 1.0;\" x1=\"114\" x2=\"114\" y1=\"231.46\" y2=\"215.46\"/><line style=\"stroke: #A80036; stroke-width: 1.0;\" x1=\"106\" x2=\"122\" y1=\"223.46\" y2=\"223.46\"/></a><!--MD5=[62aa6af11e70f752912c1cb0466f24f7]\n",
       "reverse link E4 to E5--><a href=\"psysml:4336f8bf-5a73-49a4-a706-8a85ff7218c2\" target=\"_top\" title=\"psysml:4336f8bf-5a73-49a4-a706-8a85ff7218c2\" xlink:actuate=\"onRequest\" xlink:href=\"psysml:4336f8bf-5a73-49a4-a706-8a85ff7218c2\" xlink:show=\"new\" xlink:title=\"psysml:4336f8bf-5a73-49a4-a706-8a85ff7218c2\" xlink:type=\"simple\"><path d=\"M107.61,333.96 C104.77,349.51 101.52,367.33 99.02,380.98 \" fill=\"none\" id=\"E4&lt;-E5\" style=\"stroke: #A80036; stroke-width: 1.0;\"/><polygon fill=\"#A80036\" points=\"109.97,321.06,104.9597,326.2462,107.8199,332.8658,112.8302,327.6796,109.97,321.06\" style=\"stroke: #A80036; stroke-width: 1.0;\"/></a><!--MD5=[6db378b65e1aef66a01cb3103812b399]\n",
       "reverse link E4 to E6--><a href=\"psysml:14217a47-d828-403c-a59e-1cb114a87a2b\" target=\"_top\" title=\"psysml:14217a47-d828-403c-a59e-1cb114a87a2b\" xlink:actuate=\"onRequest\" xlink:href=\"psysml:14217a47-d828-403c-a59e-1cb114a87a2b\" xlink:show=\"new\" xlink:title=\"psysml:14217a47-d828-403c-a59e-1cb114a87a2b\" xlink:type=\"simple\"><path d=\"M154.79,328.88 C177.48,345.49 205.23,365.82 225.93,380.98 \" fill=\"none\" id=\"E4&lt;-E6\" style=\"stroke: #A80036; stroke-width: 1.0;\"/><polygon fill=\"#A80036\" points=\"144.11,321.06,146.5846,327.8332,153.7885,328.1541,151.314,321.3809,144.11,321.06\" style=\"stroke: #A80036; stroke-width: 1.0;\"/></a><!--MD5=[bcf6cc9eeaf52c6f69552037b8527a36]\n",
       "@startuml\r\n",
       "skinparam wrapWidth 300\r\n",
       "hide circle\r\n",
       "\r\n",
       "package \"AnalysisAnnotation\" as E1  [[psysml:3f9dd228-0d59-436f-8c66-7bfaf74317e1 ]]  {\r\n",
       "comp def \"Real\" as E2  <<(T,blue)dataType>> [[psysml:44eddca9-682f-4ef7-a7c7-a9f194d7f2c9 ]] {\r\n",
       "}\r\n",
       "comp def \"ComputeDynamics\" as E3  <<(T,blue)action def>> [[psysml:e73f4f0e-f2f2-491a-ad18-2354ebab0714 ]] {\r\n",
       "Cd: Real\r\n",
       "Cf: Real\r\n",
       "a_out: AccelerationValue\r\n",
       "dt: DurationValue\r\n",
       "tm: MassValue\r\n",
       "v_in: SpeedValue\r\n",
       "v_out: SpeedValue\r\n",
       "whlpwr: PowerValue\r\n",
       "x_in: LengthValue\r\n",
       "x_out: LengthValue\r\n",
       "}\r\n",
       "comp def \"<s>noname</s>: ToolExecution\" as E4  <<(T,blue)annotatingFeature>> [[psysml:60a2becf-7a46-4ebd-946f-3a728f7b6aab ]] {\r\n",
       "}\r\n",
       "comp def \"toolName\" as E5  <<(T,blue)metadataFeature>> [[psysml:b02ba1b2-12c8-4052-9523-3aa0c79993f0 ]] {\r\n",
       "}\r\n",
       "comp def \"uri\" as E6  <<(T,blue)metadataFeature>> [[psysml:cb4006f5-0e41-4f05-aa2a-a57df33d56ff ]] {\r\n",
       "}\r\n",
       "E3 +- - E4 [[psysml:66d6f7e6-2188-4a34-9637-6b4b270c496c ]] \r\n",
       "E4 *- - E5 [[psysml:4336f8bf-5a73-49a4-a706-8a85ff7218c2 ]] \r\n",
       "E4 *- - E6 [[psysml:14217a47-d828-403c-a59e-1cb114a87a2b ]] \r\n",
       "}\r\n",
       "@enduml\r\n",
       "\n",
       "PlantUML version 1.2020.13(Sat Jun 13 12:26:38 UTC 2020)\n",
       "(EPL source distribution)\n",
       "Java Runtime: OpenJDK Runtime Environment\n",
       "JVM: OpenJDK 64-Bit Server VM\n",
       "Default Encoding: UTF-8\n",
       "Language: en\n",
       "Country: null\n",
       "--></g></svg>"
      ]
     },
     "execution_count": 28,
     "metadata": {},
     "output_type": "execute_result"
    }
   ],
   "source": [
    "%viz --style=\"STDCOLOR\" --view=\"Sequence\" \"AnalysisAnnotation\""
   ]
  },
  {
   "cell_type": "code",
   "execution_count": 29,
   "id": "6c1b624f",
   "metadata": {
    "execution": {
     "iopub.execute_input": "2021-04-20T07:28:16.757822Z",
     "iopub.status.busy": "2021-04-20T07:28:16.757015Z",
     "iopub.status.idle": "2021-04-20T07:28:16.787049Z",
     "shell.execute_reply": "2021-04-20T07:28:16.785751Z"
    }
   },
   "outputs": [
    {
     "data": {
      "image/svg+xml": [
       "<?xml version=\"1.0\" encoding=\"UTF-8\" standalone=\"no\"?><svg xmlns=\"http://www.w3.org/2000/svg\" xmlns:xlink=\"http://www.w3.org/1999/xlink\" contentScriptType=\"application/ecmascript\" contentStyleType=\"text/css\" height=\"350px\" preserveAspectRatio=\"none\" style=\"width:481px;height:350px;\" version=\"1.1\" viewBox=\"0 0 481 350\" width=\"481px\" zoomAndPan=\"magnify\"><defs><filter height=\"300%\" id=\"fl7lahtjgbykz\" width=\"300%\" x=\"-1\" y=\"-1\"><feGaussianBlur result=\"blurOut\" stdDeviation=\"2.0\"/><feColorMatrix in=\"blurOut\" result=\"blurOut2\" type=\"matrix\" values=\"0 0 0 0 0 0 0 0 0 0 0 0 0 0 0 0 0 0 .4 0\"/><feOffset dx=\"4.0\" dy=\"4.0\" in=\"blurOut2\" result=\"blurOut3\"/><feBlend in=\"SourceGraphic\" in2=\"blurOut3\" mode=\"normal\"/></filter></defs><g><!--MD5=[fbc87193dbaf4d95561dea2c320d4a47]\n",
       "cluster E1--><a href=\"psysml:3f9dd228-0d59-436f-8c66-7bfaf74317e1\" target=\"_top\" title=\"psysml:3f9dd228-0d59-436f-8c66-7bfaf74317e1\" xlink:actuate=\"onRequest\" xlink:href=\"psysml:3f9dd228-0d59-436f-8c66-7bfaf74317e1\" xlink:show=\"new\" xlink:title=\"psysml:3f9dd228-0d59-436f-8c66-7bfaf74317e1\" xlink:type=\"simple\"><polygon fill=\"#FFFFFF\" filter=\"url(#fl7lahtjgbykz)\" points=\"16,6,173,6,180,28.2969,459,28.2969,459,338.72,16,338.72,16,6\" style=\"stroke: #000000; stroke-width: 1.5;\"/><line style=\"stroke: #000000; stroke-width: 1.5;\" x1=\"16\" x2=\"180\" y1=\"28.2969\" y2=\"28.2969\"/><text fill=\"#000000\" font-family=\"sans-serif\" font-size=\"14\" font-weight=\"bold\" lengthAdjust=\"spacingAndGlyphs\" textLength=\"151\" x=\"20\" y=\"20.9951\">AnalysisAnnotation</text></a><!--MD5=[d5e69f78d87373223dbae638b30a9c99]\n",
       "cluster E3--><a href=\"psysml:e73f4f0e-f2f2-491a-ad18-2354ebab0714\" target=\"_top\" title=\"psysml:e73f4f0e-f2f2-491a-ad18-2354ebab0714\" xlink:actuate=\"onRequest\" xlink:href=\"psysml:e73f4f0e-f2f2-491a-ad18-2354ebab0714\" xlink:show=\"new\" xlink:title=\"psysml:e73f4f0e-f2f2-491a-ad18-2354ebab0714\" xlink:type=\"simple\"><rect fill=\"#FFFFFF\" filter=\"url(#fl7lahtjgbykz)\" height=\"244.72\" id=\"E3\" style=\"stroke: #A80036; stroke-width: 1.5;\" width=\"318\" x=\"129\" y=\"64\"/><rect fill=\"#FEFECE\" height=\"37.9375\" style=\"stroke: #A80036; stroke-width: 1.5;\" width=\"318\" x=\"129\" y=\"64\"/><text fill=\"#000000\" font-family=\"sans-serif\" font-size=\"12\" font-style=\"italic\" lengthAdjust=\"spacingAndGlyphs\" textLength=\"77\" x=\"249.5\" y=\"80.1387\">«action def»</text><text fill=\"#000000\" font-family=\"sans-serif\" font-size=\"12\" lengthAdjust=\"spacingAndGlyphs\" textLength=\"115\" x=\"230.5\" y=\"94.1074\">ComputeDynamics</text></a><!--MD5=[b4997ac47864f28c2f74865a473b2911]\n",
       "class E2--><a href=\"psysml:44eddca9-682f-4ef7-a7c7-a9f194d7f2c9\" target=\"_top\" title=\"psysml:44eddca9-682f-4ef7-a7c7-a9f194d7f2c9\" xlink:actuate=\"onRequest\" xlink:href=\"psysml:44eddca9-682f-4ef7-a7c7-a9f194d7f2c9\" xlink:show=\"new\" xlink:title=\"psysml:44eddca9-682f-4ef7-a7c7-a9f194d7f2c9\" xlink:type=\"simple\"><rect fill=\"#FEFECE\" filter=\"url(#fl7lahtjgbykz)\" height=\"45.9375\" id=\"E2\" style=\"stroke: #A80036; stroke-width: 1.5;\" width=\"74\" x=\"32\" y=\"41\"/><text fill=\"#000000\" font-family=\"sans-serif\" font-size=\"12\" font-style=\"italic\" lengthAdjust=\"spacingAndGlyphs\" textLength=\"72\" x=\"33\" y=\"57.1387\">«dataType»</text><text fill=\"#000000\" font-family=\"sans-serif\" font-size=\"12\" lengthAdjust=\"spacingAndGlyphs\" textLength=\"27\" x=\"55.5\" y=\"71.1074\">Real</text><line style=\"stroke: #A80036; stroke-width: 1.5;\" x1=\"33\" x2=\"105\" y1=\"78.9375\" y2=\"78.9375\"/></a><text fill=\"#000000\" font-family=\"sans-serif\" font-size=\"14\" lengthAdjust=\"spacingAndGlyphs\" textLength=\"48\" x=\"169\" y=\"327.7151\">$result</text><rect fill=\"#A80036\" height=\"12\" style=\"stroke: #FEFECE; stroke-width: 1.5;\" width=\"12\" x=\"187\" y=\"302.72\"/><text fill=\"#000000\" font-family=\"sans-serif\" font-size=\"14\" lengthAdjust=\"spacingAndGlyphs\" textLength=\"48\" x=\"216\" y=\"327.7151\">$result</text><rect fill=\"#A80036\" height=\"12\" style=\"stroke: #FEFECE; stroke-width: 1.5;\" width=\"12\" x=\"234\" y=\"302.72\"/><text fill=\"#000000\" font-family=\"sans-serif\" font-size=\"14\" lengthAdjust=\"spacingAndGlyphs\" textLength=\"14\" x=\"140\" y=\"42.6982\">dt</text><rect fill=\"#A80036\" height=\"12\" style=\"stroke: #FEFECE; stroke-width: 1.5;\" width=\"12\" x=\"141\" y=\"58\"/><text fill=\"#000000\" font-family=\"sans-serif\" font-size=\"14\" lengthAdjust=\"spacingAndGlyphs\" textLength=\"48\" x=\"170\" y=\"42.6982\">whlpwr</text><rect fill=\"#A80036\" height=\"12\" style=\"stroke: #FEFECE; stroke-width: 1.5;\" width=\"12\" x=\"188\" y=\"58\"/><text fill=\"#000000\" font-family=\"sans-serif\" font-size=\"14\" lengthAdjust=\"spacingAndGlyphs\" textLength=\"19\" x=\"231.5\" y=\"42.6982\">Cd</text><rect fill=\"#A80036\" height=\"12\" style=\"stroke: #FEFECE; stroke-width: 1.5;\" width=\"12\" x=\"235\" y=\"58\"/><text fill=\"#000000\" font-family=\"sans-serif\" font-size=\"14\" lengthAdjust=\"spacingAndGlyphs\" textLength=\"14\" x=\"281\" y=\"42.6982\">Cf</text><rect fill=\"#A80036\" height=\"12\" style=\"stroke: #FEFECE; stroke-width: 1.5;\" width=\"12\" x=\"282\" y=\"58\"/><text fill=\"#000000\" font-family=\"sans-serif\" font-size=\"14\" lengthAdjust=\"spacingAndGlyphs\" textLength=\"18\" x=\"326\" y=\"42.6982\">tm</text><rect fill=\"#A80036\" height=\"12\" style=\"stroke: #FEFECE; stroke-width: 1.5;\" width=\"12\" x=\"329\" y=\"58\"/><text fill=\"#000000\" font-family=\"sans-serif\" font-size=\"14\" lengthAdjust=\"spacingAndGlyphs\" textLength=\"26\" x=\"369\" y=\"42.6982\">v_in</text><rect fill=\"#A80036\" height=\"12\" style=\"stroke: #FEFECE; stroke-width: 1.5;\" width=\"12\" x=\"376\" y=\"58\"/><text fill=\"#000000\" font-family=\"sans-serif\" font-size=\"14\" lengthAdjust=\"spacingAndGlyphs\" textLength=\"26\" x=\"416\" y=\"42.6982\">x_in</text><rect fill=\"#A80036\" height=\"12\" style=\"stroke: #FEFECE; stroke-width: 1.5;\" width=\"12\" x=\"423\" y=\"58\"/><text fill=\"#000000\" font-family=\"sans-serif\" font-size=\"14\" lengthAdjust=\"spacingAndGlyphs\" textLength=\"38\" x=\"268\" y=\"327.7151\">a_out</text><rect fill=\"#A80036\" height=\"12\" style=\"stroke: #FEFECE; stroke-width: 1.5;\" width=\"12\" x=\"281\" y=\"302.72\"/><text fill=\"#000000\" font-family=\"sans-serif\" font-size=\"14\" lengthAdjust=\"spacingAndGlyphs\" textLength=\"37\" x=\"315.5\" y=\"327.7151\">v_out</text><rect fill=\"#A80036\" height=\"12\" style=\"stroke: #FEFECE; stroke-width: 1.5;\" width=\"12\" x=\"328\" y=\"302.72\"/><text fill=\"#000000\" font-family=\"sans-serif\" font-size=\"14\" lengthAdjust=\"spacingAndGlyphs\" textLength=\"37\" x=\"362.5\" y=\"327.7151\">x_out</text><rect fill=\"#A80036\" height=\"12\" style=\"stroke: #FEFECE; stroke-width: 1.5;\" width=\"12\" x=\"375\" y=\"302.72\"/><!--MD5=[ef2be6dd914f02dc96718e6b3491805d]\n",
       "@startuml\r\n",
       "skinparam wrapWidth 300\r\n",
       "hide circle\r\n",
       "\r\n",
       "package \"AnalysisAnnotation\" as E1  [[psysml:3f9dd228-0d59-436f-8c66-7bfaf74317e1 ]]  {\r\n",
       "comp def \"Real\" as E2  <<(T,blue)dataType>> [[psysml:44eddca9-682f-4ef7-a7c7-a9f194d7f2c9 ]] {\r\n",
       "}\r\n",
       "rec def \"ComputeDynamics\" as E3  <<(T,blue)action def>> [[psysml:e73f4f0e-f2f2-491a-ad18-2354ebab0714 ]] {\r\n",
       "portout \"$result\" as E4  [[psysml:321a5472-f26a-4f44-adf1-e887f248e10c ]] \r\n",
       "portout \"$result\" as E5  [[psysml:249d7fd3-af20-489f-a52b-b6c298227647 ]] \r\n",
       "portin \"dt\" as E6  [[psysml:d9dfe931-1109-47e6-bc0c-352db24577b0 ]] \r\n",
       "portin \"whlpwr\" as E7  [[psysml:44277f67-022c-45f6-9760-98798ee04e09 ]] \r\n",
       "portin \"Cd\" as E8  [[psysml:41d96645-5d65-4e32-85e5-332077e108f6 ]] \r\n",
       "portin \"Cf\" as E9  [[psysml:aebf7dc6-628a-4d75-a952-13ccca53817c ]] \r\n",
       "portin \"tm\" as E10  [[psysml:08dba41b-e930-4b20-afae-ef7ae15f00ec ]] \r\n",
       "portin \"v_in\" as E11  [[psysml:e3f3c5a0-ed9d-41a6-a918-fe4a600fe261 ]] \r\n",
       "portin \"x_in\" as E12  [[psysml:fb3fca97-7004-4d76-8828-7714499f1454 ]] \r\n",
       "portout \"a_out\" as E13  [[psysml:5a710766-56b6-4c7a-9ae9-326b3f7572a8 ]] \r\n",
       "portout \"v_out\" as E14  [[psysml:1e62abd8-4172-4662-8f1c-1e7c30e8c54c ]] \r\n",
       "portout \"x_out\" as E15  [[psysml:e4c640c8-309e-4572-81b1-e78594ed37ec ]] \r\n",
       "}\r\n",
       "\r\n",
       "}\r\n",
       "@enduml\r\n",
       "\n",
       "PlantUML version 1.2020.13(Sat Jun 13 12:26:38 UTC 2020)\n",
       "(EPL source distribution)\n",
       "Java Runtime: OpenJDK Runtime Environment\n",
       "JVM: OpenJDK 64-Bit Server VM\n",
       "Default Encoding: UTF-8\n",
       "Language: en\n",
       "Country: null\n",
       "--></g></svg>"
      ]
     },
     "execution_count": 29,
     "metadata": {},
     "output_type": "execute_result"
    }
   ],
   "source": [
    "%viz --style=\"STDCOLOR\" --view=\"MIXED\" \"AnalysisAnnotation\""
   ]
  },
  {
   "cell_type": "code",
   "execution_count": 30,
   "id": "1a3d8706",
   "metadata": {
    "execution": {
     "iopub.execute_input": "2021-04-20T07:28:16.837509Z",
     "iopub.status.busy": "2021-04-20T07:28:16.836994Z",
     "iopub.status.idle": "2021-04-20T07:28:16.891631Z",
     "shell.execute_reply": "2021-04-20T07:28:16.890663Z"
    }
   },
   "outputs": [
    {
     "data": {
      "image/svg+xml": [
       "<?xml version=\"1.0\" encoding=\"UTF-8\" standalone=\"no\"?><svg xmlns=\"http://www.w3.org/2000/svg\" xmlns:xlink=\"http://www.w3.org/1999/xlink\" contentScriptType=\"application/ecmascript\" contentStyleType=\"text/css\" height=\"350px\" preserveAspectRatio=\"none\" style=\"width:507px;height:350px;\" version=\"1.1\" viewBox=\"0 0 507 350\" width=\"507px\" zoomAndPan=\"magnify\"><defs><filter height=\"300%\" id=\"f1e8b6kgcfre6a\" width=\"300%\" x=\"-1\" y=\"-1\"><feGaussianBlur result=\"blurOut\" stdDeviation=\"2.0\"/><feColorMatrix in=\"blurOut\" result=\"blurOut2\" type=\"matrix\" values=\"0 0 0 0 0 0 0 0 0 0 0 0 0 0 0 0 0 0 .4 0\"/><feOffset dx=\"4.0\" dy=\"4.0\" in=\"blurOut2\" result=\"blurOut3\"/><feBlend in=\"SourceGraphic\" in2=\"blurOut3\" mode=\"normal\"/></filter></defs><g><!--MD5=[fbc87193dbaf4d95561dea2c320d4a47]\n",
       "cluster E1--><a href=\"psysml:3f9dd228-0d59-436f-8c66-7bfaf74317e1\" target=\"_top\" title=\"psysml:3f9dd228-0d59-436f-8c66-7bfaf74317e1\" xlink:actuate=\"onRequest\" xlink:href=\"psysml:3f9dd228-0d59-436f-8c66-7bfaf74317e1\" xlink:show=\"new\" xlink:title=\"psysml:3f9dd228-0d59-436f-8c66-7bfaf74317e1\" xlink:type=\"simple\"><polygon fill=\"#FFFFFF\" filter=\"url(#f1e8b6kgcfre6a)\" points=\"16,6,173,6,180,28.2969,485,28.2969,485,338.72,16,338.72,16,6\" style=\"stroke: #000000; stroke-width: 1.5;\"/><line style=\"stroke: #000000; stroke-width: 1.5;\" x1=\"16\" x2=\"180\" y1=\"28.2969\" y2=\"28.2969\"/><text fill=\"#000000\" font-family=\"sans-serif\" font-size=\"14\" font-weight=\"bold\" lengthAdjust=\"spacingAndGlyphs\" textLength=\"151\" x=\"20\" y=\"20.9951\">AnalysisAnnotation</text></a><!--MD5=[d5e69f78d87373223dbae638b30a9c99]\n",
       "cluster E3--><a href=\"psysml:e73f4f0e-f2f2-491a-ad18-2354ebab0714\" target=\"_top\" title=\"psysml:e73f4f0e-f2f2-491a-ad18-2354ebab0714\" xlink:actuate=\"onRequest\" xlink:href=\"psysml:e73f4f0e-f2f2-491a-ad18-2354ebab0714\" xlink:show=\"new\" xlink:title=\"psysml:e73f4f0e-f2f2-491a-ad18-2354ebab0714\" xlink:type=\"simple\"><rect fill=\"#FFFFFF\" filter=\"url(#f1e8b6kgcfre6a)\" height=\"244.72\" id=\"E3\" style=\"stroke: #A80036; stroke-width: 1.5;\" width=\"318\" x=\"155\" y=\"64\"/><rect fill=\"#FEFECE\" height=\"37.9375\" style=\"stroke: #A80036; stroke-width: 1.5;\" width=\"318\" x=\"155\" y=\"64\"/><text fill=\"#000000\" font-family=\"sans-serif\" font-size=\"12\" font-style=\"italic\" lengthAdjust=\"spacingAndGlyphs\" textLength=\"77\" x=\"275.5\" y=\"80.1387\">«action def»</text><text fill=\"#000000\" font-family=\"sans-serif\" font-size=\"12\" lengthAdjust=\"spacingAndGlyphs\" textLength=\"115\" x=\"256.5\" y=\"94.1074\">ComputeDynamics</text></a><!--MD5=[b4997ac47864f28c2f74865a473b2911]\n",
       "class E2--><a href=\"psysml:44eddca9-682f-4ef7-a7c7-a9f194d7f2c9\" target=\"_top\" title=\"psysml:44eddca9-682f-4ef7-a7c7-a9f194d7f2c9\" xlink:actuate=\"onRequest\" xlink:href=\"psysml:44eddca9-682f-4ef7-a7c7-a9f194d7f2c9\" xlink:show=\"new\" xlink:title=\"psysml:44eddca9-682f-4ef7-a7c7-a9f194d7f2c9\" xlink:type=\"simple\"><rect fill=\"#FEFECE\" filter=\"url(#f1e8b6kgcfre6a)\" height=\"45.9375\" id=\"E2\" style=\"stroke: #A80036; stroke-width: 1.5;\" width=\"100\" x=\"32\" y=\"41\"/><ellipse cx=\"47\" cy=\"59.9688\" fill=\"#0000FF\" rx=\"11\" ry=\"11\" style=\"stroke: #A80036; stroke-width: 1.0;\"/><path d=\"M47.8438,66.7188 L45.3906,66.7188 L45.3906,56.4688 L42.25,56.4688 L42.25,54.3281 L50.9844,54.3281 L50.9844,56.4688 L47.8438,56.4688 L47.8438,66.7188 Z \"/><text fill=\"#000000\" font-family=\"sans-serif\" font-size=\"12\" font-style=\"italic\" lengthAdjust=\"spacingAndGlyphs\" textLength=\"72\" x=\"59\" y=\"57.1387\">«dataType»</text><text fill=\"#000000\" font-family=\"sans-serif\" font-size=\"12\" lengthAdjust=\"spacingAndGlyphs\" textLength=\"27\" x=\"81.5\" y=\"71.1074\">Real</text><line style=\"stroke: #A80036; stroke-width: 1.5;\" x1=\"33\" x2=\"131\" y1=\"78.9375\" y2=\"78.9375\"/></a><text fill=\"#000000\" font-family=\"sans-serif\" font-size=\"14\" lengthAdjust=\"spacingAndGlyphs\" textLength=\"48\" x=\"195\" y=\"327.7151\">$result</text><rect fill=\"#A80036\" height=\"12\" style=\"stroke: #FEFECE; stroke-width: 1.5;\" width=\"12\" x=\"213\" y=\"302.72\"/><text fill=\"#000000\" font-family=\"sans-serif\" font-size=\"14\" lengthAdjust=\"spacingAndGlyphs\" textLength=\"48\" x=\"242\" y=\"327.7151\">$result</text><rect fill=\"#A80036\" height=\"12\" style=\"stroke: #FEFECE; stroke-width: 1.5;\" width=\"12\" x=\"260\" y=\"302.72\"/><text fill=\"#000000\" font-family=\"sans-serif\" font-size=\"14\" lengthAdjust=\"spacingAndGlyphs\" textLength=\"14\" x=\"166\" y=\"42.6982\">dt</text><rect fill=\"#A80036\" height=\"12\" style=\"stroke: #FEFECE; stroke-width: 1.5;\" width=\"12\" x=\"167\" y=\"58\"/><text fill=\"#000000\" font-family=\"sans-serif\" font-size=\"14\" lengthAdjust=\"spacingAndGlyphs\" textLength=\"48\" x=\"196\" y=\"42.6982\">whlpwr</text><rect fill=\"#A80036\" height=\"12\" style=\"stroke: #FEFECE; stroke-width: 1.5;\" width=\"12\" x=\"214\" y=\"58\"/><text fill=\"#000000\" font-family=\"sans-serif\" font-size=\"14\" lengthAdjust=\"spacingAndGlyphs\" textLength=\"19\" x=\"257.5\" y=\"42.6982\">Cd</text><rect fill=\"#A80036\" height=\"12\" style=\"stroke: #FEFECE; stroke-width: 1.5;\" width=\"12\" x=\"261\" y=\"58\"/><text fill=\"#000000\" font-family=\"sans-serif\" font-size=\"14\" lengthAdjust=\"spacingAndGlyphs\" textLength=\"14\" x=\"307\" y=\"42.6982\">Cf</text><rect fill=\"#A80036\" height=\"12\" style=\"stroke: #FEFECE; stroke-width: 1.5;\" width=\"12\" x=\"308\" y=\"58\"/><text fill=\"#000000\" font-family=\"sans-serif\" font-size=\"14\" lengthAdjust=\"spacingAndGlyphs\" textLength=\"18\" x=\"352\" y=\"42.6982\">tm</text><rect fill=\"#A80036\" height=\"12\" style=\"stroke: #FEFECE; stroke-width: 1.5;\" width=\"12\" x=\"355\" y=\"58\"/><text fill=\"#000000\" font-family=\"sans-serif\" font-size=\"14\" lengthAdjust=\"spacingAndGlyphs\" textLength=\"26\" x=\"395\" y=\"42.6982\">v_in</text><rect fill=\"#A80036\" height=\"12\" style=\"stroke: #FEFECE; stroke-width: 1.5;\" width=\"12\" x=\"402\" y=\"58\"/><text fill=\"#000000\" font-family=\"sans-serif\" font-size=\"14\" lengthAdjust=\"spacingAndGlyphs\" textLength=\"26\" x=\"442\" y=\"42.6982\">x_in</text><rect fill=\"#A80036\" height=\"12\" style=\"stroke: #FEFECE; stroke-width: 1.5;\" width=\"12\" x=\"449\" y=\"58\"/><text fill=\"#000000\" font-family=\"sans-serif\" font-size=\"14\" lengthAdjust=\"spacingAndGlyphs\" textLength=\"38\" x=\"294\" y=\"327.7151\">a_out</text><rect fill=\"#A80036\" height=\"12\" style=\"stroke: #FEFECE; stroke-width: 1.5;\" width=\"12\" x=\"307\" y=\"302.72\"/><text fill=\"#000000\" font-family=\"sans-serif\" font-size=\"14\" lengthAdjust=\"spacingAndGlyphs\" textLength=\"37\" x=\"341.5\" y=\"327.7151\">v_out</text><rect fill=\"#A80036\" height=\"12\" style=\"stroke: #FEFECE; stroke-width: 1.5;\" width=\"12\" x=\"354\" y=\"302.72\"/><text fill=\"#000000\" font-family=\"sans-serif\" font-size=\"14\" lengthAdjust=\"spacingAndGlyphs\" textLength=\"37\" x=\"388.5\" y=\"327.7151\">x_out</text><rect fill=\"#A80036\" height=\"12\" style=\"stroke: #FEFECE; stroke-width: 1.5;\" width=\"12\" x=\"401\" y=\"302.72\"/><!--MD5=[61b2b5eeaf8dca54dc6998c8b3a9b442]\n",
       "@startuml\r\n",
       " \r\n",
       "package \"AnalysisAnnotation\" as E1  [[psysml:3f9dd228-0d59-436f-8c66-7bfaf74317e1 ]]  {\r\n",
       "comp def \"Real\" as E2  <<(T,blue)dataType>> [[psysml:44eddca9-682f-4ef7-a7c7-a9f194d7f2c9 ]] {\r\n",
       "}\r\n",
       "rec def \"ComputeDynamics\" as E3  <<(D,brown)action def>> [[psysml:e73f4f0e-f2f2-491a-ad18-2354ebab0714 ]] {\r\n",
       "portout \"$result\" as E4  [[psysml:321a5472-f26a-4f44-adf1-e887f248e10c ]] \r\n",
       "portout \"$result\" as E5  [[psysml:249d7fd3-af20-489f-a52b-b6c298227647 ]] \r\n",
       "portin \"dt\" as E6  [[psysml:d9dfe931-1109-47e6-bc0c-352db24577b0 ]] \r\n",
       "portin \"whlpwr\" as E7  [[psysml:44277f67-022c-45f6-9760-98798ee04e09 ]] \r\n",
       "portin \"Cd\" as E8  [[psysml:41d96645-5d65-4e32-85e5-332077e108f6 ]] \r\n",
       "portin \"Cf\" as E9  [[psysml:aebf7dc6-628a-4d75-a952-13ccca53817c ]] \r\n",
       "portin \"tm\" as E10  [[psysml:08dba41b-e930-4b20-afae-ef7ae15f00ec ]] \r\n",
       "portin \"v_in\" as E11  [[psysml:e3f3c5a0-ed9d-41a6-a918-fe4a600fe261 ]] \r\n",
       "portin \"x_in\" as E12  [[psysml:fb3fca97-7004-4d76-8828-7714499f1454 ]] \r\n",
       "portout \"a_out\" as E13  [[psysml:5a710766-56b6-4c7a-9ae9-326b3f7572a8 ]] \r\n",
       "portout \"v_out\" as E14  [[psysml:1e62abd8-4172-4662-8f1c-1e7c30e8c54c ]] \r\n",
       "portout \"x_out\" as E15  [[psysml:e4c640c8-309e-4572-81b1-e78594ed37ec ]] \r\n",
       "}\r\n",
       "\r\n",
       "}\r\n",
       "@enduml\r\n",
       "\n",
       "PlantUML version 1.2020.13(Sat Jun 13 12:26:38 UTC 2020)\n",
       "(EPL source distribution)\n",
       "Java Runtime: OpenJDK Runtime Environment\n",
       "JVM: OpenJDK 64-Bit Server VM\n",
       "Default Encoding: UTF-8\n",
       "Language: en\n",
       "Country: null\n",
       "--></g></svg>"
      ]
     },
     "execution_count": 30,
     "metadata": {},
     "output_type": "execute_result"
    }
   ],
   "source": [
    "%viz --style=\"PLANTUML\" --view=\"Default\" \"AnalysisAnnotation\""
   ]
  },
  {
   "cell_type": "code",
   "execution_count": 31,
   "id": "16b43404",
   "metadata": {
    "execution": {
     "iopub.execute_input": "2021-04-20T07:28:16.945770Z",
     "iopub.status.busy": "2021-04-20T07:28:16.944688Z",
     "iopub.status.idle": "2021-04-20T07:28:17.088125Z",
     "shell.execute_reply": "2021-04-20T07:28:17.087319Z"
    }
   },
   "outputs": [
    {
     "data": {
      "image/svg+xml": [
       "<?xml version=\"1.0\" encoding=\"UTF-8\" standalone=\"no\"?><svg xmlns=\"http://www.w3.org/2000/svg\" xmlns:xlink=\"http://www.w3.org/1999/xlink\" contentScriptType=\"application/ecmascript\" contentStyleType=\"text/css\" height=\"455px\" preserveAspectRatio=\"none\" style=\"width:409px;height:455px;\" version=\"1.1\" viewBox=\"0 0 409 455\" width=\"409px\" zoomAndPan=\"magnify\"><defs><filter height=\"300%\" id=\"fx614hy848dic\" width=\"300%\" x=\"-1\" y=\"-1\"><feGaussianBlur result=\"blurOut\" stdDeviation=\"2.0\"/><feColorMatrix in=\"blurOut\" result=\"blurOut2\" type=\"matrix\" values=\"0 0 0 0 0 0 0 0 0 0 0 0 0 0 0 0 0 0 .4 0\"/><feOffset dx=\"4.0\" dy=\"4.0\" in=\"blurOut2\" result=\"blurOut3\"/><feBlend in=\"SourceGraphic\" in2=\"blurOut3\" mode=\"normal\"/></filter></defs><g><!--MD5=[fbc87193dbaf4d95561dea2c320d4a47]\n",
       "cluster E1--><a href=\"psysml:3f9dd228-0d59-436f-8c66-7bfaf74317e1\" target=\"_top\" title=\"psysml:3f9dd228-0d59-436f-8c66-7bfaf74317e1\" xlink:actuate=\"onRequest\" xlink:href=\"psysml:3f9dd228-0d59-436f-8c66-7bfaf74317e1\" xlink:show=\"new\" xlink:title=\"psysml:3f9dd228-0d59-436f-8c66-7bfaf74317e1\" xlink:type=\"simple\"><polygon fill=\"#FFFFFF\" filter=\"url(#fx614hy848dic)\" points=\"16,6,173,6,180,28.2969,387,28.2969,387,443,16,443,16,6\" style=\"stroke: #000000; stroke-width: 1.5;\"/><line style=\"stroke: #000000; stroke-width: 1.5;\" x1=\"16\" x2=\"180\" y1=\"28.2969\" y2=\"28.2969\"/><text fill=\"#000000\" font-family=\"sans-serif\" font-size=\"14\" font-weight=\"bold\" lengthAdjust=\"spacingAndGlyphs\" textLength=\"151\" x=\"20\" y=\"20.9951\">AnalysisAnnotation</text></a><!--MD5=[b4997ac47864f28c2f74865a473b2911]\n",
       "class E2--><a href=\"psysml:44eddca9-682f-4ef7-a7c7-a9f194d7f2c9\" target=\"_top\" title=\"psysml:44eddca9-682f-4ef7-a7c7-a9f194d7f2c9\" xlink:actuate=\"onRequest\" xlink:href=\"psysml:44eddca9-682f-4ef7-a7c7-a9f194d7f2c9\" xlink:show=\"new\" xlink:title=\"psysml:44eddca9-682f-4ef7-a7c7-a9f194d7f2c9\" xlink:type=\"simple\"><rect fill=\"#FEFECE\" filter=\"url(#fx614hy848dic)\" height=\"45.9375\" id=\"E2\" style=\"stroke: #A80036; stroke-width: 1.5;\" width=\"100\" x=\"261\" y=\"105\"/><ellipse cx=\"276\" cy=\"123.9688\" fill=\"#0000FF\" rx=\"11\" ry=\"11\" style=\"stroke: #A80036; stroke-width: 1.0;\"/><path d=\"M276.8438,130.7188 L274.3906,130.7188 L274.3906,120.4688 L271.25,120.4688 L271.25,118.3281 L279.9844,118.3281 L279.9844,120.4688 L276.8438,120.4688 L276.8438,130.7188 Z \"/><text fill=\"#000000\" font-family=\"sans-serif\" font-size=\"12\" font-style=\"italic\" lengthAdjust=\"spacingAndGlyphs\" textLength=\"72\" x=\"288\" y=\"121.1387\">«dataType»</text><text fill=\"#000000\" font-family=\"sans-serif\" font-size=\"12\" lengthAdjust=\"spacingAndGlyphs\" textLength=\"27\" x=\"310.5\" y=\"135.1074\">Real</text><line style=\"stroke: #A80036; stroke-width: 1.5;\" x1=\"262\" x2=\"360\" y1=\"142.9375\" y2=\"142.9375\"/></a><!--MD5=[09b614a08d8cba4a07c9adeb5e0fee81]\n",
       "class E3--><a href=\"psysml:e73f4f0e-f2f2-491a-ad18-2354ebab0714\" target=\"_top\" title=\"psysml:e73f4f0e-f2f2-491a-ad18-2354ebab0714\" xlink:actuate=\"onRequest\" xlink:href=\"psysml:e73f4f0e-f2f2-491a-ad18-2354ebab0714\" xlink:show=\"new\" xlink:title=\"psysml:e73f4f0e-f2f2-491a-ad18-2354ebab0714\" xlink:type=\"simple\"><rect fill=\"#FEFECE\" filter=\"url(#fx614hy848dic)\" height=\"173.9844\" id=\"E3\" style=\"stroke: #A80036; stroke-width: 1.5;\" width=\"151\" x=\"55.5\" y=\"41\"/><ellipse cx=\"72.3\" cy=\"59.9688\" fill=\"#A52A2A\" rx=\"11\" ry=\"11\" style=\"stroke: #A80036; stroke-width: 1.0;\"/><path d=\"M71.8938,55.7813 L71.8938,63.7656 L72.55,63.7656 Q73.9875,63.7656 74.5969,62.8594 Q75.2219,61.9375 75.2219,59.7656 Q75.2219,57.5938 74.5969,56.6875 Q73.9875,55.7813 72.55,55.7813 L71.8938,55.7813 Z M69.4406,53.5781 L72.0656,53.5781 Q75.0969,53.5781 76.425,55.0313 Q77.7688,56.4688 77.7688,59.7656 Q77.7688,63.0625 76.425,64.5156 Q75.0969,65.9688 72.0656,65.9688 L69.4406,65.9688 L69.4406,53.5781 Z \"/><text fill=\"#000000\" font-family=\"sans-serif\" font-size=\"12\" font-style=\"italic\" lengthAdjust=\"spacingAndGlyphs\" textLength=\"77\" x=\"105.7\" y=\"57.1387\">«action def»</text><text fill=\"#000000\" font-family=\"sans-serif\" font-size=\"12\" lengthAdjust=\"spacingAndGlyphs\" textLength=\"115\" x=\"86.7\" y=\"71.1074\">ComputeDynamics</text><line style=\"stroke: #A80036; stroke-width: 1.5;\" x1=\"56.5\" x2=\"205.5\" y1=\"78.9375\" y2=\"78.9375\"/><text fill=\"#000000\" font-family=\"sans-serif\" font-size=\"11\" lengthAdjust=\"spacingAndGlyphs\" textLength=\"47\" x=\"61.5\" y=\"93.1479\">Cd: Real</text><text fill=\"#000000\" font-family=\"sans-serif\" font-size=\"11\" lengthAdjust=\"spacingAndGlyphs\" textLength=\"44\" x=\"61.5\" y=\"105.9526\">Cf: Real</text><text fill=\"#000000\" font-family=\"sans-serif\" font-size=\"11\" lengthAdjust=\"spacingAndGlyphs\" textLength=\"139\" x=\"61.5\" y=\"118.7573\">a_out: AccelerationValue</text><text fill=\"#000000\" font-family=\"sans-serif\" font-size=\"11\" lengthAdjust=\"spacingAndGlyphs\" textLength=\"98\" x=\"61.5\" y=\"131.562\">dt: DurationValue</text><text fill=\"#000000\" font-family=\"sans-serif\" font-size=\"11\" lengthAdjust=\"spacingAndGlyphs\" textLength=\"84\" x=\"61.5\" y=\"144.3667\">tm: MassValue</text><text fill=\"#000000\" font-family=\"sans-serif\" font-size=\"11\" lengthAdjust=\"spacingAndGlyphs\" textLength=\"97\" x=\"61.5\" y=\"157.1714\">v_in: SpeedValue</text><text fill=\"#000000\" font-family=\"sans-serif\" font-size=\"11\" lengthAdjust=\"spacingAndGlyphs\" textLength=\"105\" x=\"61.5\" y=\"169.9761\">v_out: SpeedValue</text><text fill=\"#000000\" font-family=\"sans-serif\" font-size=\"11\" lengthAdjust=\"spacingAndGlyphs\" textLength=\"114\" x=\"61.5\" y=\"182.7808\">whlpwr: PowerValue</text><text fill=\"#000000\" font-family=\"sans-serif\" font-size=\"11\" lengthAdjust=\"spacingAndGlyphs\" textLength=\"99\" x=\"61.5\" y=\"195.5854\">x_in: LengthValue</text><text fill=\"#000000\" font-family=\"sans-serif\" font-size=\"11\" lengthAdjust=\"spacingAndGlyphs\" textLength=\"107\" x=\"61.5\" y=\"208.3901\">x_out: LengthValue</text></a><!--MD5=[ebbe1d658d1005bcc118a6aa81145e00]\n",
       "class E4--><a href=\"psysml:60a2becf-7a46-4ebd-946f-3a728f7b6aab\" target=\"_top\" title=\"psysml:60a2becf-7a46-4ebd-946f-3a728f7b6aab\" xlink:actuate=\"onRequest\" xlink:href=\"psysml:60a2becf-7a46-4ebd-946f-3a728f7b6aab\" xlink:show=\"new\" xlink:title=\"psysml:60a2becf-7a46-4ebd-946f-3a728f7b6aab\" xlink:type=\"simple\"><rect fill=\"#FEFECE\" filter=\"url(#fx614hy848dic)\" height=\"45.9375\" id=\"E4\" style=\"stroke: #A80036; stroke-width: 1.5;\" width=\"178\" x=\"42\" y=\"275\"/><ellipse cx=\"57\" cy=\"293.9688\" fill=\"#FFFF00\" rx=\"11\" ry=\"11\" style=\"stroke: #A80036; stroke-width: 1.0;\"/><path d=\"M61.2344,289.7344 L55.9531,289.7344 L55.9531,292.4063 L60.75,292.4063 L60.75,294.5625 L55.9531,294.5625 L55.9531,299.9688 L53.5156,299.9688 L53.5156,287.5781 L61.2344,287.5781 L61.2344,289.7344 Z \"/><text fill=\"#000000\" font-family=\"sans-serif\" font-size=\"12\" font-style=\"italic\" lengthAdjust=\"spacingAndGlyphs\" textLength=\"132\" x=\"78\" y=\"291.1387\">«annotatingFeature»</text><text fill=\"#000000\" font-family=\"sans-serif\" font-size=\"12\" lengthAdjust=\"spacingAndGlyphs\" text-decoration=\"line-through\" textLength=\"51\" x=\"71\" y=\"305.1074\">noname</text><text fill=\"#000000\" font-family=\"sans-serif\" font-size=\"12\" lengthAdjust=\"spacingAndGlyphs\" textLength=\"95\" x=\"122\" y=\"305.1074\">: ToolExecution</text><line style=\"stroke: #A80036; stroke-width: 1.5;\" x1=\"43\" x2=\"219\" y1=\"312.9375\" y2=\"312.9375\"/></a><!--MD5=[270fce915f116d4de14055a7c1d9a0f3]\n",
       "class E5--><a href=\"psysml:b02ba1b2-12c8-4052-9523-3aa0c79993f0\" target=\"_top\" title=\"psysml:b02ba1b2-12c8-4052-9523-3aa0c79993f0\" xlink:actuate=\"onRequest\" xlink:href=\"psysml:b02ba1b2-12c8-4052-9523-3aa0c79993f0\" xlink:show=\"new\" xlink:title=\"psysml:b02ba1b2-12c8-4052-9523-3aa0c79993f0\" xlink:type=\"simple\"><rect fill=\"#FEFECE\" filter=\"url(#fx614hy848dic)\" height=\"45.9375\" id=\"E5\" style=\"stroke: #A80036; stroke-width: 1.5;\" width=\"152\" x=\"32\" y=\"381\"/><ellipse cx=\"47\" cy=\"399.9688\" fill=\"#FFFF00\" rx=\"11\" ry=\"11\" style=\"stroke: #A80036; stroke-width: 1.0;\"/><path d=\"M51.2344,395.7344 L45.9531,395.7344 L45.9531,398.4063 L50.75,398.4063 L50.75,400.5625 L45.9531,400.5625 L45.9531,405.9688 L43.5156,405.9688 L43.5156,393.5781 L51.2344,393.5781 L51.2344,395.7344 Z \"/><text fill=\"#000000\" font-family=\"sans-serif\" font-size=\"12\" font-style=\"italic\" lengthAdjust=\"spacingAndGlyphs\" textLength=\"124\" x=\"59\" y=\"397.1387\">«metadataFeature»</text><text fill=\"#000000\" font-family=\"sans-serif\" font-size=\"12\" lengthAdjust=\"spacingAndGlyphs\" textLength=\"60\" x=\"91\" y=\"411.1074\">toolName</text><line style=\"stroke: #A80036; stroke-width: 1.5;\" x1=\"33\" x2=\"183\" y1=\"418.9375\" y2=\"418.9375\"/></a><!--MD5=[60a26617385b1d2d0262a64233df1f8d]\n",
       "class E6--><a href=\"psysml:cb4006f5-0e41-4f05-aa2a-a57df33d56ff\" target=\"_top\" title=\"psysml:cb4006f5-0e41-4f05-aa2a-a57df33d56ff\" xlink:actuate=\"onRequest\" xlink:href=\"psysml:cb4006f5-0e41-4f05-aa2a-a57df33d56ff\" xlink:show=\"new\" xlink:title=\"psysml:cb4006f5-0e41-4f05-aa2a-a57df33d56ff\" xlink:type=\"simple\"><rect fill=\"#FEFECE\" filter=\"url(#fx614hy848dic)\" height=\"45.9375\" id=\"E6\" style=\"stroke: #A80036; stroke-width: 1.5;\" width=\"152\" x=\"219\" y=\"381\"/><ellipse cx=\"234\" cy=\"399.9688\" fill=\"#FFFF00\" rx=\"11\" ry=\"11\" style=\"stroke: #A80036; stroke-width: 1.0;\"/><path d=\"M238.2344,395.7344 L232.9531,395.7344 L232.9531,398.4063 L237.75,398.4063 L237.75,400.5625 L232.9531,400.5625 L232.9531,405.9688 L230.5156,405.9688 L230.5156,393.5781 L238.2344,393.5781 L238.2344,395.7344 Z \"/><text fill=\"#000000\" font-family=\"sans-serif\" font-size=\"12\" font-style=\"italic\" lengthAdjust=\"spacingAndGlyphs\" textLength=\"124\" x=\"246\" y=\"397.1387\">«metadataFeature»</text><text fill=\"#000000\" font-family=\"sans-serif\" font-size=\"12\" lengthAdjust=\"spacingAndGlyphs\" textLength=\"16\" x=\"300\" y=\"411.1074\">uri</text><line style=\"stroke: #A80036; stroke-width: 1.5;\" x1=\"220\" x2=\"370\" y1=\"418.9375\" y2=\"418.9375\"/></a><!--MD5=[4672eba38e49728da53d11aeb285b987]\n",
       "reverse link E3 to E4--><a href=\"psysml:66d6f7e6-2188-4a34-9637-6b4b270c496c\" target=\"_top\" title=\"psysml:66d6f7e6-2188-4a34-9637-6b4b270c496c\" xlink:actuate=\"onRequest\" xlink:href=\"psysml:66d6f7e6-2188-4a34-9637-6b4b270c496c\" xlink:show=\"new\" xlink:title=\"psysml:66d6f7e6-2188-4a34-9637-6b4b270c496c\" xlink:type=\"simple\"><path d=\"M131,230.58 C131,247.21 131,262.87 131,274.8 \" fill=\"none\" id=\"E3&lt;-E4\" style=\"stroke: #A80036; stroke-width: 1.0;\"/><ellipse cx=\"131\" cy=\"223.46\" fill=\"#FFFFFF\" rx=\"8\" ry=\"8\" style=\"stroke: #A80036; stroke-width: 1.0;\"/><line style=\"stroke: #A80036; stroke-width: 1.0;\" x1=\"131\" x2=\"131\" y1=\"231.46\" y2=\"215.46\"/><line style=\"stroke: #A80036; stroke-width: 1.0;\" x1=\"123\" x2=\"139\" y1=\"223.46\" y2=\"223.46\"/></a><!--MD5=[62aa6af11e70f752912c1cb0466f24f7]\n",
       "reverse link E4 to E5--><a href=\"psysml:4336f8bf-5a73-49a4-a706-8a85ff7218c2\" target=\"_top\" title=\"psysml:4336f8bf-5a73-49a4-a706-8a85ff7218c2\" xlink:actuate=\"onRequest\" xlink:href=\"psysml:4336f8bf-5a73-49a4-a706-8a85ff7218c2\" xlink:show=\"new\" xlink:title=\"psysml:4336f8bf-5a73-49a4-a706-8a85ff7218c2\" xlink:type=\"simple\"><path d=\"M123.27,333.96 C119.83,349.51 115.89,367.33 112.87,380.98 \" fill=\"none\" id=\"E4&lt;-E5\" style=\"stroke: #A80036; stroke-width: 1.0;\"/><polygon fill=\"#A80036\" points=\"126.12,321.06,120.922,326.0581,123.5364,332.7786,128.7344,327.7805,126.12,321.06\" style=\"stroke: #A80036; stroke-width: 1.0;\"/></a><!--MD5=[6db378b65e1aef66a01cb3103812b399]\n",
       "reverse link E4 to E6--><a href=\"psysml:14217a47-d828-403c-a59e-1cb114a87a2b\" target=\"_top\" title=\"psysml:14217a47-d828-403c-a59e-1cb114a87a2b\" xlink:actuate=\"onRequest\" xlink:href=\"psysml:14217a47-d828-403c-a59e-1cb114a87a2b\" xlink:show=\"new\" xlink:title=\"psysml:14217a47-d828-403c-a59e-1cb114a87a2b\" xlink:type=\"simple\"><path d=\"M177.04,328.2 C203.44,344.94 236.04,365.61 260.27,380.98 \" fill=\"none\" id=\"E4&lt;-E6\" style=\"stroke: #A80036; stroke-width: 1.0;\"/><polygon fill=\"#A80036\" points=\"165.78,321.06,168.6989,327.6539,175.9083,327.4957,172.9894,320.9017,165.78,321.06\" style=\"stroke: #A80036; stroke-width: 1.0;\"/></a><!--MD5=[e34a3e3b5f48349eb7f15dd2509a1e8e]\n",
       "@startuml\r\n",
       " \r\n",
       "package \"AnalysisAnnotation\" as E1  [[psysml:3f9dd228-0d59-436f-8c66-7bfaf74317e1 ]]  {\r\n",
       "comp def \"Real\" as E2  <<(T,blue)dataType>> [[psysml:44eddca9-682f-4ef7-a7c7-a9f194d7f2c9 ]] {\r\n",
       "}\r\n",
       "comp def \"ComputeDynamics\" as E3  <<(D,brown)action def>> [[psysml:e73f4f0e-f2f2-491a-ad18-2354ebab0714 ]] {\r\n",
       "Cd: Real\r\n",
       "Cf: Real\r\n",
       "a_out: AccelerationValue\r\n",
       "dt: DurationValue\r\n",
       "tm: MassValue\r\n",
       "v_in: SpeedValue\r\n",
       "v_out: SpeedValue\r\n",
       "whlpwr: PowerValue\r\n",
       "x_in: LengthValue\r\n",
       "x_out: LengthValue\r\n",
       "}\r\n",
       "comp def \"<s>noname</s>: ToolExecution\" as E4  <<(F,yellow)annotatingFeature>> [[psysml:60a2becf-7a46-4ebd-946f-3a728f7b6aab ]] {\r\n",
       "}\r\n",
       "comp def \"toolName\" as E5  <<(F,yellow)metadataFeature>> [[psysml:b02ba1b2-12c8-4052-9523-3aa0c79993f0 ]] {\r\n",
       "}\r\n",
       "comp def \"uri\" as E6  <<(F,yellow)metadataFeature>> [[psysml:cb4006f5-0e41-4f05-aa2a-a57df33d56ff ]] {\r\n",
       "}\r\n",
       "E3 +- - E4 [[psysml:66d6f7e6-2188-4a34-9637-6b4b270c496c ]] \r\n",
       "E4 *- - E5 [[psysml:4336f8bf-5a73-49a4-a706-8a85ff7218c2 ]] \r\n",
       "E4 *- - E6 [[psysml:14217a47-d828-403c-a59e-1cb114a87a2b ]] \r\n",
       "}\r\n",
       "@enduml\r\n",
       "\n",
       "PlantUML version 1.2020.13(Sat Jun 13 12:26:38 UTC 2020)\n",
       "(EPL source distribution)\n",
       "Java Runtime: OpenJDK Runtime Environment\n",
       "JVM: OpenJDK 64-Bit Server VM\n",
       "Default Encoding: UTF-8\n",
       "Language: en\n",
       "Country: null\n",
       "--></g></svg>"
      ]
     },
     "execution_count": 31,
     "metadata": {},
     "output_type": "execute_result"
    }
   ],
   "source": [
    "%viz --style=\"PLANTUML\" --view=\"Tree\" \"AnalysisAnnotation\""
   ]
  },
  {
   "cell_type": "code",
   "execution_count": 32,
   "id": "88f85617",
   "metadata": {
    "execution": {
     "iopub.execute_input": "2021-04-20T07:28:17.138270Z",
     "iopub.status.busy": "2021-04-20T07:28:17.137791Z",
     "iopub.status.idle": "2021-04-20T07:28:17.215414Z",
     "shell.execute_reply": "2021-04-20T07:28:17.215053Z"
    }
   },
   "outputs": [
    {
     "data": {
      "image/svg+xml": [
       "<?xml version=\"1.0\" encoding=\"UTF-8\" standalone=\"no\"?><svg xmlns=\"http://www.w3.org/2000/svg\" xmlns:xlink=\"http://www.w3.org/1999/xlink\" contentScriptType=\"application/ecmascript\" contentStyleType=\"text/css\" height=\"303px\" preserveAspectRatio=\"none\" style=\"width:603px;height:303px;background:#000000;\" version=\"1.1\" viewBox=\"0 0 603 303\" width=\"603px\" zoomAndPan=\"magnify\"><defs/><g><rect fill=\"#0B1815\" height=\"1\" style=\"stroke: #0B1815; stroke-width: 1.0;\" width=\"1\" x=\"0\" y=\"0\"/><rect fill=\"#FFFFFF\" height=\"205.5625\" style=\"stroke: #FFFFFF; stroke-width: 1.0;\" width=\"602\" x=\"0\" y=\"0\"/><text fill=\"#000000\" font-family=\"sans-serif\" font-size=\"12\" font-weight=\"bold\" lengthAdjust=\"spacingAndGlyphs\" textLength=\"159\" x=\"5\" y=\"16.1387\">Welcome to PlantUML!</text><text fill=\"#000000\" font-family=\"sans-serif\" font-size=\"12\" lengthAdjust=\"spacingAndGlyphs\" textLength=\"0\" x=\"9\" y=\"30.1074\"/><text fill=\"#000000\" font-family=\"sans-serif\" font-size=\"12\" lengthAdjust=\"spacingAndGlyphs\" textLength=\"293\" x=\"5\" y=\"44.0762\">If you use this software, you accept its license.</text><text fill=\"#000000\" font-family=\"sans-serif\" font-size=\"12\" lengthAdjust=\"spacingAndGlyphs\" textLength=\"107\" x=\"5\" y=\"58.0449\">(details by typing</text><text fill=\"#000000\" font-family=\"monospace\" font-size=\"12\" lengthAdjust=\"spacingAndGlyphs\" textLength=\"49\" x=\"116\" y=\"58.0449\">license</text><text fill=\"#000000\" font-family=\"sans-serif\" font-size=\"12\" lengthAdjust=\"spacingAndGlyphs\" textLength=\"56\" x=\"169\" y=\"58.0449\">keyword)</text><text fill=\"#000000\" font-family=\"sans-serif\" font-size=\"12\" lengthAdjust=\"spacingAndGlyphs\" textLength=\"0\" x=\"9\" y=\"72.0137\"/><text fill=\"#000000\" font-family=\"sans-serif\" font-size=\"12\" lengthAdjust=\"spacingAndGlyphs\" textLength=\"283\" x=\"5\" y=\"85.9824\">You can start with a simple UML Diagram like:</text><text fill=\"#000000\" font-family=\"sans-serif\" font-size=\"12\" lengthAdjust=\"spacingAndGlyphs\" textLength=\"0\" x=\"9\" y=\"99.9512\"/><text fill=\"#000000\" font-family=\"monospace\" font-size=\"12\" lengthAdjust=\"spacingAndGlyphs\" textLength=\"119\" x=\"5\" y=\"113.9199\">Bob-&gt;Alice: Hello</text><text fill=\"#000000\" font-family=\"sans-serif\" font-size=\"12\" lengthAdjust=\"spacingAndGlyphs\" textLength=\"0\" x=\"9\" y=\"127.8887\"/><text fill=\"#000000\" font-family=\"sans-serif\" font-size=\"12\" lengthAdjust=\"spacingAndGlyphs\" textLength=\"14\" x=\"5\" y=\"141.8574\">Or</text><text fill=\"#000000\" font-family=\"sans-serif\" font-size=\"12\" lengthAdjust=\"spacingAndGlyphs\" textLength=\"0\" x=\"9\" y=\"155.8262\"/><text fill=\"#000000\" font-family=\"monospace\" font-size=\"12\" lengthAdjust=\"spacingAndGlyphs\" textLength=\"91\" x=\"5\" y=\"169.7949\">class Example</text><text fill=\"#000000\" font-family=\"sans-serif\" font-size=\"12\" lengthAdjust=\"spacingAndGlyphs\" textLength=\"0\" x=\"9\" y=\"183.7637\"/><text fill=\"#000000\" font-family=\"sans-serif\" font-size=\"12\" lengthAdjust=\"spacingAndGlyphs\" textLength=\"349\" x=\"5\" y=\"197.7324\">You will find more information about PlantUML syntax on</text><text fill=\"#000000\" font-family=\"sans-serif\" font-size=\"12\" lengthAdjust=\"spacingAndGlyphs\" text-decoration=\"underline\" textLength=\"129\" x=\"358\" y=\"197.7324\">https://plantuml.com</text><image height=\"71\" width=\"80\" x=\"516\" xlink:href=\"data:image/png;base64,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\" y=\"6\"/><rect fill=\"#000000\" height=\"96.4844\" style=\"stroke: #000000; stroke-width: 1.0;\" width=\"602\" x=\"0\" y=\"205.5625\"/><rect fill=\"#33FF02\" height=\"21.2969\" style=\"stroke: #33FF02; stroke-width: 1.0;\" width=\"170\" x=\"5\" y=\"210.5625\"/><text fill=\"#000000\" font-family=\"sans-serif\" font-size=\"14\" font-weight=\"bold\" lengthAdjust=\"spacingAndGlyphs\" textLength=\"168\" x=\"6\" y=\"225.5625\">[From string (line 2) ]</text><text fill=\"#33FF02\" font-family=\"sans-serif\" font-size=\"14\" font-weight=\"bold\" lengthAdjust=\"spacingAndGlyphs\" textLength=\"0\" x=\"10\" y=\"245.8594\"/><text fill=\"#33FF02\" font-family=\"sans-serif\" font-size=\"14\" font-weight=\"bold\" lengthAdjust=\"spacingAndGlyphs\" textLength=\"79\" x=\"5\" y=\"262.1563\">@startuml</text><text fill=\"#33FF02\" font-family=\"sans-serif\" font-size=\"14\" font-weight=\"bold\" lengthAdjust=\"spacingAndGlyphs\" textLength=\"0\" x=\"10\" y=\"278.4531\"/><text fill=\"#FF0000\" font-family=\"sans-serif\" font-size=\"14\" font-weight=\"bold\" lengthAdjust=\"spacingAndGlyphs\" textLength=\"142\" x=\"10\" y=\"294.75\">Empty description</text><!--MD5=[f59edd8218d337f74d0c332fc6737304]\n",
       "@startuml\r\n",
       " \r\n",
       "@enduml\r\n",
       "\n",
       "PlantUML version 1.2020.13(Sat Jun 13 12:26:38 UTC 2020)\n",
       "(EPL source distribution)\n",
       "Java Runtime: OpenJDK Runtime Environment\n",
       "JVM: OpenJDK 64-Bit Server VM\n",
       "Default Encoding: UTF-8\n",
       "Language: en\n",
       "Country: null\n",
       "--></g></svg>"
      ]
     },
     "execution_count": 32,
     "metadata": {},
     "output_type": "execute_result"
    }
   ],
   "source": [
    "%viz --style=\"PLANTUML\" --view=\"State\" \"AnalysisAnnotation\""
   ]
  },
  {
   "cell_type": "code",
   "execution_count": 33,
   "id": "0635ed5c",
   "metadata": {
    "execution": {
     "iopub.execute_input": "2021-04-20T07:28:17.266167Z",
     "iopub.status.busy": "2021-04-20T07:28:17.265529Z",
     "iopub.status.idle": "2021-04-20T07:28:17.298673Z",
     "shell.execute_reply": "2021-04-20T07:28:17.298311Z"
    }
   },
   "outputs": [
    {
     "data": {
      "image/svg+xml": [
       "<?xml version=\"1.0\" encoding=\"UTF-8\" standalone=\"no\"?><svg xmlns=\"http://www.w3.org/2000/svg\" xmlns:xlink=\"http://www.w3.org/1999/xlink\" contentScriptType=\"application/ecmascript\" contentStyleType=\"text/css\" height=\"209px\" preserveAspectRatio=\"none\" style=\"width:513px;height:209px;\" version=\"1.1\" viewBox=\"0 0 513 209\" width=\"513px\" zoomAndPan=\"magnify\"><defs><filter height=\"300%\" id=\"fiptiwxbagro3\" width=\"300%\" x=\"-1\" y=\"-1\"><feGaussianBlur result=\"blurOut\" stdDeviation=\"2.0\"/><feColorMatrix in=\"blurOut\" result=\"blurOut2\" type=\"matrix\" values=\"0 0 0 0 0 0 0 0 0 0 0 0 0 0 0 0 0 0 .4 0\"/><feOffset dx=\"4.0\" dy=\"4.0\" in=\"blurOut2\" result=\"blurOut3\"/><feBlend in=\"SourceGraphic\" in2=\"blurOut3\" mode=\"normal\"/></filter></defs><g><!--MD5=[fbc87193dbaf4d95561dea2c320d4a47]\n",
       "cluster E1--><a href=\"psysml:3f9dd228-0d59-436f-8c66-7bfaf74317e1\" target=\"_top\" title=\"psysml:3f9dd228-0d59-436f-8c66-7bfaf74317e1\" xlink:actuate=\"onRequest\" xlink:href=\"psysml:3f9dd228-0d59-436f-8c66-7bfaf74317e1\" xlink:show=\"new\" xlink:title=\"psysml:3f9dd228-0d59-436f-8c66-7bfaf74317e1\" xlink:type=\"simple\"><polygon fill=\"#FFFFFF\" filter=\"url(#fiptiwxbagro3)\" points=\"16,6,173,6,180,28.2969,491,28.2969,491,197.72,16,197.72,16,6\" style=\"stroke: #000000; stroke-width: 1.5;\"/><line style=\"stroke: #000000; stroke-width: 1.5;\" x1=\"16\" x2=\"180\" y1=\"28.2969\" y2=\"28.2969\"/><text fill=\"#000000\" font-family=\"sans-serif\" font-size=\"14\" font-weight=\"bold\" lengthAdjust=\"spacingAndGlyphs\" textLength=\"151\" x=\"20\" y=\"20.9951\">AnalysisAnnotation</text></a><!--MD5=[d5e69f78d87373223dbae638b30a9c99]\n",
       "cluster E3--><a href=\"psysml:e73f4f0e-f2f2-491a-ad18-2354ebab0714\" target=\"_top\" title=\"psysml:e73f4f0e-f2f2-491a-ad18-2354ebab0714\" xlink:actuate=\"onRequest\" xlink:href=\"psysml:e73f4f0e-f2f2-491a-ad18-2354ebab0714\" xlink:show=\"new\" xlink:title=\"psysml:e73f4f0e-f2f2-491a-ad18-2354ebab0714\" xlink:type=\"simple\"><rect fill=\"#FFFFFF\" filter=\"url(#fiptiwxbagro3)\" height=\"105.22\" id=\"E3\" style=\"stroke: #A80036; stroke-width: 1.5;\" width=\"318\" x=\"161\" y=\"62.5\"/><rect fill=\"#FEFECE\" height=\"37.9375\" style=\"stroke: #A80036; stroke-width: 1.5;\" width=\"318\" x=\"161\" y=\"62.5\"/><text fill=\"#000000\" font-family=\"sans-serif\" font-size=\"12\" font-style=\"italic\" lengthAdjust=\"spacingAndGlyphs\" textLength=\"77\" x=\"281.5\" y=\"78.6387\">«action def»</text><text fill=\"#000000\" font-family=\"sans-serif\" font-size=\"12\" lengthAdjust=\"spacingAndGlyphs\" textLength=\"115\" x=\"262.5\" y=\"92.6074\">ComputeDynamics</text></a><g id=\"E1.E2\"><a href=\"psysml:44eddca9-682f-4ef7-a7c7-a9f194d7f2c9\" target=\"_top\" title=\"psysml:44eddca9-682f-4ef7-a7c7-a9f194d7f2c9\" xlink:actuate=\"onRequest\" xlink:href=\"psysml:44eddca9-682f-4ef7-a7c7-a9f194d7f2c9\" xlink:show=\"new\" xlink:title=\"psysml:44eddca9-682f-4ef7-a7c7-a9f194d7f2c9\" xlink:type=\"simple\"><rect fill=\"#FEFECE\" filter=\"url(#fiptiwxbagro3)\" height=\"42.9375\" id=\"E2\" style=\"stroke: #A80036; stroke-width: 1.5;\" width=\"105\" x=\"32.5\" y=\"41\"/><ellipse cx=\"49.75\" cy=\"59.9688\" fill=\"#0000FF\" rx=\"11\" ry=\"11\" style=\"stroke: #A80036; stroke-width: 1.0;\"/><path d=\"M50.5938,66.7188 L48.1406,66.7188 L48.1406,56.4688 L45,56.4688 L45,54.3281 L53.7344,54.3281 L53.7344,56.4688 L50.5938,56.4688 L50.5938,66.7188 Z \"/><text fill=\"#000000\" font-family=\"sans-serif\" font-size=\"12\" font-style=\"italic\" lengthAdjust=\"spacingAndGlyphs\" textLength=\"72\" x=\"62.25\" y=\"57.1387\">«dataType»</text><text fill=\"#000000\" font-family=\"sans-serif\" font-size=\"12\" lengthAdjust=\"spacingAndGlyphs\" textLength=\"27\" x=\"84.75\" y=\"71.1074\">Real</text></a></g><text fill=\"#000000\" font-family=\"sans-serif\" font-size=\"14\" lengthAdjust=\"spacingAndGlyphs\" textLength=\"48\" x=\"201\" y=\"186.7151\">$result</text><rect fill=\"#A80036\" height=\"12\" style=\"stroke: #FEFECE; stroke-width: 1.5;\" width=\"12\" x=\"219\" y=\"161.72\"/><text fill=\"#000000\" font-family=\"sans-serif\" font-size=\"14\" lengthAdjust=\"spacingAndGlyphs\" textLength=\"48\" x=\"248\" y=\"186.7151\">$result</text><rect fill=\"#A80036\" height=\"12\" style=\"stroke: #FEFECE; stroke-width: 1.5;\" width=\"12\" x=\"266\" y=\"161.72\"/><text fill=\"#000000\" font-family=\"sans-serif\" font-size=\"14\" lengthAdjust=\"spacingAndGlyphs\" textLength=\"14\" x=\"172\" y=\"41.1982\">dt</text><rect fill=\"#A80036\" height=\"12\" style=\"stroke: #FEFECE; stroke-width: 1.5;\" width=\"12\" x=\"173\" y=\"56.5\"/><text fill=\"#000000\" font-family=\"sans-serif\" font-size=\"14\" lengthAdjust=\"spacingAndGlyphs\" textLength=\"48\" x=\"202\" y=\"41.1982\">whlpwr</text><rect fill=\"#A80036\" height=\"12\" style=\"stroke: #FEFECE; stroke-width: 1.5;\" width=\"12\" x=\"220\" y=\"56.5\"/><text fill=\"#000000\" font-family=\"sans-serif\" font-size=\"14\" lengthAdjust=\"spacingAndGlyphs\" textLength=\"19\" x=\"263.5\" y=\"41.1982\">Cd</text><rect fill=\"#A80036\" height=\"12\" style=\"stroke: #FEFECE; stroke-width: 1.5;\" width=\"12\" x=\"267\" y=\"56.5\"/><text fill=\"#000000\" font-family=\"sans-serif\" font-size=\"14\" lengthAdjust=\"spacingAndGlyphs\" textLength=\"14\" x=\"313\" y=\"41.1982\">Cf</text><rect fill=\"#A80036\" height=\"12\" style=\"stroke: #FEFECE; stroke-width: 1.5;\" width=\"12\" x=\"314\" y=\"56.5\"/><text fill=\"#000000\" font-family=\"sans-serif\" font-size=\"14\" lengthAdjust=\"spacingAndGlyphs\" textLength=\"18\" x=\"358\" y=\"41.1982\">tm</text><rect fill=\"#A80036\" height=\"12\" style=\"stroke: #FEFECE; stroke-width: 1.5;\" width=\"12\" x=\"361\" y=\"56.5\"/><text fill=\"#000000\" font-family=\"sans-serif\" font-size=\"14\" lengthAdjust=\"spacingAndGlyphs\" textLength=\"26\" x=\"401\" y=\"41.1982\">v_in</text><rect fill=\"#A80036\" height=\"12\" style=\"stroke: #FEFECE; stroke-width: 1.5;\" width=\"12\" x=\"408\" y=\"56.5\"/><text fill=\"#000000\" font-family=\"sans-serif\" font-size=\"14\" lengthAdjust=\"spacingAndGlyphs\" textLength=\"26\" x=\"448\" y=\"41.1982\">x_in</text><rect fill=\"#A80036\" height=\"12\" style=\"stroke: #FEFECE; stroke-width: 1.5;\" width=\"12\" x=\"455\" y=\"56.5\"/><text fill=\"#000000\" font-family=\"sans-serif\" font-size=\"14\" lengthAdjust=\"spacingAndGlyphs\" textLength=\"38\" x=\"300\" y=\"186.7151\">a_out</text><rect fill=\"#A80036\" height=\"12\" style=\"stroke: #FEFECE; stroke-width: 1.5;\" width=\"12\" x=\"313\" y=\"161.72\"/><text fill=\"#000000\" font-family=\"sans-serif\" font-size=\"14\" lengthAdjust=\"spacingAndGlyphs\" textLength=\"37\" x=\"347.5\" y=\"186.7151\">v_out</text><rect fill=\"#A80036\" height=\"12\" style=\"stroke: #FEFECE; stroke-width: 1.5;\" width=\"12\" x=\"360\" y=\"161.72\"/><text fill=\"#000000\" font-family=\"sans-serif\" font-size=\"14\" lengthAdjust=\"spacingAndGlyphs\" textLength=\"37\" x=\"394.5\" y=\"186.7151\">x_out</text><rect fill=\"#A80036\" height=\"12\" style=\"stroke: #FEFECE; stroke-width: 1.5;\" width=\"12\" x=\"407\" y=\"161.72\"/><!--MD5=[f0e5a31bd69f784b7c5b1bf8b2093186]\n",
       "@startuml\r\n",
       "skinparam ranksep 10\r\n",
       "skinparam rectangle {\r\n",
       " backgroundColor<<block>> LightGreen\r\n",
       "}\r\n",
       " \r\n",
       "package \"AnalysisAnnotation\" as E1  [[psysml:3f9dd228-0d59-436f-8c66-7bfaf74317e1 ]]  {\r\n",
       "def \"Real\" as E2  <<(T,blue)dataType>> [[psysml:44eddca9-682f-4ef7-a7c7-a9f194d7f2c9 ]] \r\n",
       "rec def \"ComputeDynamics\" as E3  <<(D,brown)action def>> [[psysml:e73f4f0e-f2f2-491a-ad18-2354ebab0714 ]] {\r\n",
       "portout \"$result\" as E4  [[psysml:321a5472-f26a-4f44-adf1-e887f248e10c ]] \r\n",
       "portout \"$result\" as E5  [[psysml:249d7fd3-af20-489f-a52b-b6c298227647 ]] \r\n",
       "portin \"dt\" as E6  [[psysml:d9dfe931-1109-47e6-bc0c-352db24577b0 ]] \r\n",
       "portin \"whlpwr\" as E7  [[psysml:44277f67-022c-45f6-9760-98798ee04e09 ]] \r\n",
       "portin \"Cd\" as E8  [[psysml:41d96645-5d65-4e32-85e5-332077e108f6 ]] \r\n",
       "portin \"Cf\" as E9  [[psysml:aebf7dc6-628a-4d75-a952-13ccca53817c ]] \r\n",
       "portin \"tm\" as E10  [[psysml:08dba41b-e930-4b20-afae-ef7ae15f00ec ]] \r\n",
       "portin \"v_in\" as E11  [[psysml:e3f3c5a0-ed9d-41a6-a918-fe4a600fe261 ]] \r\n",
       "portin \"x_in\" as E12  [[psysml:fb3fca97-7004-4d76-8828-7714499f1454 ]] \r\n",
       "portout \"a_out\" as E13  [[psysml:5a710766-56b6-4c7a-9ae9-326b3f7572a8 ]] \r\n",
       "portout \"v_out\" as E14  [[psysml:1e62abd8-4172-4662-8f1c-1e7c30e8c54c ]] \r\n",
       "portout \"x_out\" as E15  [[psysml:e4c640c8-309e-4572-81b1-e78594ed37ec ]] \r\n",
       "}\r\n",
       "\r\n",
       "}\r\n",
       "@enduml\r\n",
       "\n",
       "PlantUML version 1.2020.13(Sat Jun 13 12:26:38 UTC 2020)\n",
       "(EPL source distribution)\n",
       "Java Runtime: OpenJDK Runtime Environment\n",
       "JVM: OpenJDK 64-Bit Server VM\n",
       "Default Encoding: UTF-8\n",
       "Language: en\n",
       "Country: null\n",
       "--></g></svg>"
      ]
     },
     "execution_count": 33,
     "metadata": {},
     "output_type": "execute_result"
    }
   ],
   "source": [
    "%viz --style=\"PLANTUML\" --view=\"Interconnection\" \"AnalysisAnnotation\""
   ]
  },
  {
   "cell_type": "code",
   "execution_count": 34,
   "id": "717dfe3c",
   "metadata": {
    "execution": {
     "iopub.execute_input": "2021-04-20T07:28:17.349674Z",
     "iopub.status.busy": "2021-04-20T07:28:17.349088Z",
     "iopub.status.idle": "2021-04-20T07:28:17.380542Z",
     "shell.execute_reply": "2021-04-20T07:28:17.379357Z"
    }
   },
   "outputs": [
    {
     "data": {
      "image/svg+xml": [
       "<?xml version=\"1.0\" encoding=\"UTF-8\" standalone=\"no\"?><svg xmlns=\"http://www.w3.org/2000/svg\" xmlns:xlink=\"http://www.w3.org/1999/xlink\" contentScriptType=\"application/ecmascript\" contentStyleType=\"text/css\" height=\"162px\" preserveAspectRatio=\"none\" style=\"width:344px;height:162px;\" version=\"1.1\" viewBox=\"0 0 344 162\" width=\"344px\" zoomAndPan=\"magnify\"><defs><filter height=\"300%\" id=\"f191vm2a4twzdh\" width=\"300%\" x=\"-1\" y=\"-1\"><feGaussianBlur result=\"blurOut\" stdDeviation=\"2.0\"/><feColorMatrix in=\"blurOut\" result=\"blurOut2\" type=\"matrix\" values=\"0 0 0 0 0 0 0 0 0 0 0 0 0 0 0 0 0 0 .4 0\"/><feOffset dx=\"4.0\" dy=\"4.0\" in=\"blurOut2\" result=\"blurOut3\"/><feBlend in=\"SourceGraphic\" in2=\"blurOut3\" mode=\"normal\"/></filter></defs><g><!--MD5=[fbc87193dbaf4d95561dea2c320d4a47]\n",
       "cluster E1--><a href=\"psysml:e73f4f0e-f2f2-491a-ad18-2354ebab0714\" target=\"_top\" title=\"psysml:e73f4f0e-f2f2-491a-ad18-2354ebab0714\" xlink:actuate=\"onRequest\" xlink:href=\"psysml:e73f4f0e-f2f2-491a-ad18-2354ebab0714\" xlink:show=\"new\" xlink:title=\"psysml:e73f4f0e-f2f2-491a-ad18-2354ebab0714\" xlink:type=\"simple\"><rect fill=\"#FFFFFF\" filter=\"url(#f191vm2a4twzdh)\" height=\"87.72\" id=\"E1\" style=\"stroke: #A80036; stroke-width: 1.5;\" width=\"318\" x=\"7\" y=\"42.0986\"/><rect fill=\"#FEFECE\" height=\"37.9375\" style=\"stroke: #A80036; stroke-width: 1.5;\" width=\"318\" x=\"7\" y=\"42.0986\"/><text fill=\"#000000\" font-family=\"sans-serif\" font-size=\"12\" font-style=\"italic\" lengthAdjust=\"spacingAndGlyphs\" textLength=\"77\" x=\"127.5\" y=\"58.2373\">«action def»</text><text fill=\"#000000\" font-family=\"sans-serif\" font-size=\"12\" lengthAdjust=\"spacingAndGlyphs\" textLength=\"115\" x=\"108.5\" y=\"72.2061\">ComputeDynamics</text></a><text fill=\"#000000\" font-family=\"sans-serif\" font-size=\"14\" lengthAdjust=\"spacingAndGlyphs\" textLength=\"48\" x=\"47\" y=\"148.8138\">$result</text><rect fill=\"#A80036\" height=\"12\" style=\"stroke: #FEFECE; stroke-width: 1.5;\" width=\"12\" x=\"65\" y=\"123.8186\"/><text fill=\"#000000\" font-family=\"sans-serif\" font-size=\"14\" lengthAdjust=\"spacingAndGlyphs\" textLength=\"48\" x=\"94\" y=\"148.8138\">$result</text><rect fill=\"#A80036\" height=\"12\" style=\"stroke: #FEFECE; stroke-width: 1.5;\" width=\"12\" x=\"112\" y=\"123.8186\"/><text fill=\"#000000\" font-family=\"sans-serif\" font-size=\"14\" lengthAdjust=\"spacingAndGlyphs\" textLength=\"14\" x=\"18\" y=\"20.7969\">dt</text><rect fill=\"#A80036\" height=\"12\" style=\"stroke: #FEFECE; stroke-width: 1.5;\" width=\"12\" x=\"19\" y=\"36.0986\"/><text fill=\"#000000\" font-family=\"sans-serif\" font-size=\"14\" lengthAdjust=\"spacingAndGlyphs\" textLength=\"48\" x=\"48\" y=\"20.7969\">whlpwr</text><rect fill=\"#A80036\" height=\"12\" style=\"stroke: #FEFECE; stroke-width: 1.5;\" width=\"12\" x=\"66\" y=\"36.0986\"/><text fill=\"#000000\" font-family=\"sans-serif\" font-size=\"14\" lengthAdjust=\"spacingAndGlyphs\" textLength=\"19\" x=\"109.5\" y=\"20.7969\">Cd</text><rect fill=\"#A80036\" height=\"12\" style=\"stroke: #FEFECE; stroke-width: 1.5;\" width=\"12\" x=\"113\" y=\"36.0986\"/><text fill=\"#000000\" font-family=\"sans-serif\" font-size=\"14\" lengthAdjust=\"spacingAndGlyphs\" textLength=\"14\" x=\"159\" y=\"20.7969\">Cf</text><rect fill=\"#A80036\" height=\"12\" style=\"stroke: #FEFECE; stroke-width: 1.5;\" width=\"12\" x=\"160\" y=\"36.0986\"/><text fill=\"#000000\" font-family=\"sans-serif\" font-size=\"14\" lengthAdjust=\"spacingAndGlyphs\" textLength=\"18\" x=\"204\" y=\"20.7969\">tm</text><rect fill=\"#A80036\" height=\"12\" style=\"stroke: #FEFECE; stroke-width: 1.5;\" width=\"12\" x=\"207\" y=\"36.0986\"/><text fill=\"#000000\" font-family=\"sans-serif\" font-size=\"14\" lengthAdjust=\"spacingAndGlyphs\" textLength=\"26\" x=\"247\" y=\"20.7969\">v_in</text><rect fill=\"#A80036\" height=\"12\" style=\"stroke: #FEFECE; stroke-width: 1.5;\" width=\"12\" x=\"254\" y=\"36.0986\"/><text fill=\"#000000\" font-family=\"sans-serif\" font-size=\"14\" lengthAdjust=\"spacingAndGlyphs\" textLength=\"26\" x=\"294\" y=\"20.7969\">x_in</text><rect fill=\"#A80036\" height=\"12\" style=\"stroke: #FEFECE; stroke-width: 1.5;\" width=\"12\" x=\"301\" y=\"36.0986\"/><text fill=\"#000000\" font-family=\"sans-serif\" font-size=\"14\" lengthAdjust=\"spacingAndGlyphs\" textLength=\"38\" x=\"146\" y=\"148.8138\">a_out</text><rect fill=\"#A80036\" height=\"12\" style=\"stroke: #FEFECE; stroke-width: 1.5;\" width=\"12\" x=\"159\" y=\"123.8186\"/><text fill=\"#000000\" font-family=\"sans-serif\" font-size=\"14\" lengthAdjust=\"spacingAndGlyphs\" textLength=\"37\" x=\"193.5\" y=\"148.8138\">v_out</text><rect fill=\"#A80036\" height=\"12\" style=\"stroke: #FEFECE; stroke-width: 1.5;\" width=\"12\" x=\"206\" y=\"123.8186\"/><text fill=\"#000000\" font-family=\"sans-serif\" font-size=\"14\" lengthAdjust=\"spacingAndGlyphs\" textLength=\"37\" x=\"240.5\" y=\"148.8138\">x_out</text><rect fill=\"#A80036\" height=\"12\" style=\"stroke: #FEFECE; stroke-width: 1.5;\" width=\"12\" x=\"253\" y=\"123.8186\"/><!--MD5=[bc14eddf02e822e8e20fe7b7b4d479b5]\n",
       "@startuml\r\n",
       "skinparam ranksep 8\r\n",
       " \r\n",
       "rec def \"ComputeDynamics\" as E1  <<(D,brown)action def>> [[psysml:e73f4f0e-f2f2-491a-ad18-2354ebab0714 ]] {\r\n",
       "portout \"$result\" as E2  [[psysml:321a5472-f26a-4f44-adf1-e887f248e10c ]] \r\n",
       "portout \"$result\" as E3  [[psysml:249d7fd3-af20-489f-a52b-b6c298227647 ]] \r\n",
       "portin \"dt\" as E4  [[psysml:d9dfe931-1109-47e6-bc0c-352db24577b0 ]] \r\n",
       "portin \"whlpwr\" as E5  [[psysml:44277f67-022c-45f6-9760-98798ee04e09 ]] \r\n",
       "portin \"Cd\" as E6  [[psysml:41d96645-5d65-4e32-85e5-332077e108f6 ]] \r\n",
       "portin \"Cf\" as E7  [[psysml:aebf7dc6-628a-4d75-a952-13ccca53817c ]] \r\n",
       "portin \"tm\" as E8  [[psysml:08dba41b-e930-4b20-afae-ef7ae15f00ec ]] \r\n",
       "portin \"v_in\" as E9  [[psysml:e3f3c5a0-ed9d-41a6-a918-fe4a600fe261 ]] \r\n",
       "portin \"x_in\" as E10  [[psysml:fb3fca97-7004-4d76-8828-7714499f1454 ]] \r\n",
       "portout \"a_out\" as E11  [[psysml:5a710766-56b6-4c7a-9ae9-326b3f7572a8 ]] \r\n",
       "portout \"v_out\" as E12  [[psysml:1e62abd8-4172-4662-8f1c-1e7c30e8c54c ]] \r\n",
       "portout \"x_out\" as E13  [[psysml:e4c640c8-309e-4572-81b1-e78594ed37ec ]] \r\n",
       "}\r\n",
       "\r\n",
       "@enduml\r\n",
       "\n",
       "PlantUML version 1.2020.13(Sat Jun 13 12:26:38 UTC 2020)\n",
       "(EPL source distribution)\n",
       "Java Runtime: OpenJDK Runtime Environment\n",
       "JVM: OpenJDK 64-Bit Server VM\n",
       "Default Encoding: UTF-8\n",
       "Language: en\n",
       "Country: null\n",
       "--></g></svg>"
      ]
     },
     "execution_count": 34,
     "metadata": {},
     "output_type": "execute_result"
    }
   ],
   "source": [
    "%viz --style=\"PLANTUML\" --view=\"Action\" \"AnalysisAnnotation\""
   ]
  },
  {
   "cell_type": "code",
   "execution_count": 35,
   "id": "2785eca9",
   "metadata": {
    "execution": {
     "iopub.execute_input": "2021-04-20T07:28:17.430096Z",
     "iopub.status.busy": "2021-04-20T07:28:17.429372Z",
     "iopub.status.idle": "2021-04-20T07:28:17.499402Z",
     "shell.execute_reply": "2021-04-20T07:28:17.497975Z"
    }
   },
   "outputs": [
    {
     "data": {
      "image/svg+xml": [
       "<?xml version=\"1.0\" encoding=\"UTF-8\" standalone=\"no\"?><svg xmlns=\"http://www.w3.org/2000/svg\" xmlns:xlink=\"http://www.w3.org/1999/xlink\" contentScriptType=\"application/ecmascript\" contentStyleType=\"text/css\" height=\"455px\" preserveAspectRatio=\"none\" style=\"width:409px;height:455px;\" version=\"1.1\" viewBox=\"0 0 409 455\" width=\"409px\" zoomAndPan=\"magnify\"><defs><filter height=\"300%\" id=\"fx614hy848dic\" width=\"300%\" x=\"-1\" y=\"-1\"><feGaussianBlur result=\"blurOut\" stdDeviation=\"2.0\"/><feColorMatrix in=\"blurOut\" result=\"blurOut2\" type=\"matrix\" values=\"0 0 0 0 0 0 0 0 0 0 0 0 0 0 0 0 0 0 .4 0\"/><feOffset dx=\"4.0\" dy=\"4.0\" in=\"blurOut2\" result=\"blurOut3\"/><feBlend in=\"SourceGraphic\" in2=\"blurOut3\" mode=\"normal\"/></filter></defs><g><!--MD5=[fbc87193dbaf4d95561dea2c320d4a47]\n",
       "cluster E1--><a href=\"psysml:3f9dd228-0d59-436f-8c66-7bfaf74317e1\" target=\"_top\" title=\"psysml:3f9dd228-0d59-436f-8c66-7bfaf74317e1\" xlink:actuate=\"onRequest\" xlink:href=\"psysml:3f9dd228-0d59-436f-8c66-7bfaf74317e1\" xlink:show=\"new\" xlink:title=\"psysml:3f9dd228-0d59-436f-8c66-7bfaf74317e1\" xlink:type=\"simple\"><polygon fill=\"#FFFFFF\" filter=\"url(#fx614hy848dic)\" points=\"16,6,173,6,180,28.2969,387,28.2969,387,443,16,443,16,6\" style=\"stroke: #000000; stroke-width: 1.5;\"/><line style=\"stroke: #000000; stroke-width: 1.5;\" x1=\"16\" x2=\"180\" y1=\"28.2969\" y2=\"28.2969\"/><text fill=\"#000000\" font-family=\"sans-serif\" font-size=\"14\" font-weight=\"bold\" lengthAdjust=\"spacingAndGlyphs\" textLength=\"151\" x=\"20\" y=\"20.9951\">AnalysisAnnotation</text></a><!--MD5=[b4997ac47864f28c2f74865a473b2911]\n",
       "class E2--><a href=\"psysml:44eddca9-682f-4ef7-a7c7-a9f194d7f2c9\" target=\"_top\" title=\"psysml:44eddca9-682f-4ef7-a7c7-a9f194d7f2c9\" xlink:actuate=\"onRequest\" xlink:href=\"psysml:44eddca9-682f-4ef7-a7c7-a9f194d7f2c9\" xlink:show=\"new\" xlink:title=\"psysml:44eddca9-682f-4ef7-a7c7-a9f194d7f2c9\" xlink:type=\"simple\"><rect fill=\"#FEFECE\" filter=\"url(#fx614hy848dic)\" height=\"45.9375\" id=\"E2\" style=\"stroke: #A80036; stroke-width: 1.5;\" width=\"100\" x=\"261\" y=\"105\"/><ellipse cx=\"276\" cy=\"123.9688\" fill=\"#0000FF\" rx=\"11\" ry=\"11\" style=\"stroke: #A80036; stroke-width: 1.0;\"/><path d=\"M276.8438,130.7188 L274.3906,130.7188 L274.3906,120.4688 L271.25,120.4688 L271.25,118.3281 L279.9844,118.3281 L279.9844,120.4688 L276.8438,120.4688 L276.8438,130.7188 Z \"/><text fill=\"#000000\" font-family=\"sans-serif\" font-size=\"12\" font-style=\"italic\" lengthAdjust=\"spacingAndGlyphs\" textLength=\"72\" x=\"288\" y=\"121.1387\">«dataType»</text><text fill=\"#000000\" font-family=\"sans-serif\" font-size=\"12\" lengthAdjust=\"spacingAndGlyphs\" textLength=\"27\" x=\"310.5\" y=\"135.1074\">Real</text><line style=\"stroke: #A80036; stroke-width: 1.5;\" x1=\"262\" x2=\"360\" y1=\"142.9375\" y2=\"142.9375\"/></a><!--MD5=[09b614a08d8cba4a07c9adeb5e0fee81]\n",
       "class E3--><a href=\"psysml:e73f4f0e-f2f2-491a-ad18-2354ebab0714\" target=\"_top\" title=\"psysml:e73f4f0e-f2f2-491a-ad18-2354ebab0714\" xlink:actuate=\"onRequest\" xlink:href=\"psysml:e73f4f0e-f2f2-491a-ad18-2354ebab0714\" xlink:show=\"new\" xlink:title=\"psysml:e73f4f0e-f2f2-491a-ad18-2354ebab0714\" xlink:type=\"simple\"><rect fill=\"#FEFECE\" filter=\"url(#fx614hy848dic)\" height=\"173.9844\" id=\"E3\" style=\"stroke: #A80036; stroke-width: 1.5;\" width=\"151\" x=\"55.5\" y=\"41\"/><ellipse cx=\"72.3\" cy=\"59.9688\" fill=\"#A52A2A\" rx=\"11\" ry=\"11\" style=\"stroke: #A80036; stroke-width: 1.0;\"/><path d=\"M71.8938,55.7813 L71.8938,63.7656 L72.55,63.7656 Q73.9875,63.7656 74.5969,62.8594 Q75.2219,61.9375 75.2219,59.7656 Q75.2219,57.5938 74.5969,56.6875 Q73.9875,55.7813 72.55,55.7813 L71.8938,55.7813 Z M69.4406,53.5781 L72.0656,53.5781 Q75.0969,53.5781 76.425,55.0313 Q77.7688,56.4688 77.7688,59.7656 Q77.7688,63.0625 76.425,64.5156 Q75.0969,65.9688 72.0656,65.9688 L69.4406,65.9688 L69.4406,53.5781 Z \"/><text fill=\"#000000\" font-family=\"sans-serif\" font-size=\"12\" font-style=\"italic\" lengthAdjust=\"spacingAndGlyphs\" textLength=\"77\" x=\"105.7\" y=\"57.1387\">«action def»</text><text fill=\"#000000\" font-family=\"sans-serif\" font-size=\"12\" lengthAdjust=\"spacingAndGlyphs\" textLength=\"115\" x=\"86.7\" y=\"71.1074\">ComputeDynamics</text><line style=\"stroke: #A80036; stroke-width: 1.5;\" x1=\"56.5\" x2=\"205.5\" y1=\"78.9375\" y2=\"78.9375\"/><text fill=\"#000000\" font-family=\"sans-serif\" font-size=\"11\" lengthAdjust=\"spacingAndGlyphs\" textLength=\"47\" x=\"61.5\" y=\"93.1479\">Cd: Real</text><text fill=\"#000000\" font-family=\"sans-serif\" font-size=\"11\" lengthAdjust=\"spacingAndGlyphs\" textLength=\"44\" x=\"61.5\" y=\"105.9526\">Cf: Real</text><text fill=\"#000000\" font-family=\"sans-serif\" font-size=\"11\" lengthAdjust=\"spacingAndGlyphs\" textLength=\"139\" x=\"61.5\" y=\"118.7573\">a_out: AccelerationValue</text><text fill=\"#000000\" font-family=\"sans-serif\" font-size=\"11\" lengthAdjust=\"spacingAndGlyphs\" textLength=\"98\" x=\"61.5\" y=\"131.562\">dt: DurationValue</text><text fill=\"#000000\" font-family=\"sans-serif\" font-size=\"11\" lengthAdjust=\"spacingAndGlyphs\" textLength=\"84\" x=\"61.5\" y=\"144.3667\">tm: MassValue</text><text fill=\"#000000\" font-family=\"sans-serif\" font-size=\"11\" lengthAdjust=\"spacingAndGlyphs\" textLength=\"97\" x=\"61.5\" y=\"157.1714\">v_in: SpeedValue</text><text fill=\"#000000\" font-family=\"sans-serif\" font-size=\"11\" lengthAdjust=\"spacingAndGlyphs\" textLength=\"105\" x=\"61.5\" y=\"169.9761\">v_out: SpeedValue</text><text fill=\"#000000\" font-family=\"sans-serif\" font-size=\"11\" lengthAdjust=\"spacingAndGlyphs\" textLength=\"114\" x=\"61.5\" y=\"182.7808\">whlpwr: PowerValue</text><text fill=\"#000000\" font-family=\"sans-serif\" font-size=\"11\" lengthAdjust=\"spacingAndGlyphs\" textLength=\"99\" x=\"61.5\" y=\"195.5854\">x_in: LengthValue</text><text fill=\"#000000\" font-family=\"sans-serif\" font-size=\"11\" lengthAdjust=\"spacingAndGlyphs\" textLength=\"107\" x=\"61.5\" y=\"208.3901\">x_out: LengthValue</text></a><!--MD5=[ebbe1d658d1005bcc118a6aa81145e00]\n",
       "class E4--><a href=\"psysml:60a2becf-7a46-4ebd-946f-3a728f7b6aab\" target=\"_top\" title=\"psysml:60a2becf-7a46-4ebd-946f-3a728f7b6aab\" xlink:actuate=\"onRequest\" xlink:href=\"psysml:60a2becf-7a46-4ebd-946f-3a728f7b6aab\" xlink:show=\"new\" xlink:title=\"psysml:60a2becf-7a46-4ebd-946f-3a728f7b6aab\" xlink:type=\"simple\"><rect fill=\"#FEFECE\" filter=\"url(#fx614hy848dic)\" height=\"45.9375\" id=\"E4\" style=\"stroke: #A80036; stroke-width: 1.5;\" width=\"178\" x=\"42\" y=\"275\"/><ellipse cx=\"57\" cy=\"293.9688\" fill=\"#FFFF00\" rx=\"11\" ry=\"11\" style=\"stroke: #A80036; stroke-width: 1.0;\"/><path d=\"M61.2344,289.7344 L55.9531,289.7344 L55.9531,292.4063 L60.75,292.4063 L60.75,294.5625 L55.9531,294.5625 L55.9531,299.9688 L53.5156,299.9688 L53.5156,287.5781 L61.2344,287.5781 L61.2344,289.7344 Z \"/><text fill=\"#000000\" font-family=\"sans-serif\" font-size=\"12\" font-style=\"italic\" lengthAdjust=\"spacingAndGlyphs\" textLength=\"132\" x=\"78\" y=\"291.1387\">«annotatingFeature»</text><text fill=\"#000000\" font-family=\"sans-serif\" font-size=\"12\" lengthAdjust=\"spacingAndGlyphs\" text-decoration=\"line-through\" textLength=\"51\" x=\"71\" y=\"305.1074\">noname</text><text fill=\"#000000\" font-family=\"sans-serif\" font-size=\"12\" lengthAdjust=\"spacingAndGlyphs\" textLength=\"95\" x=\"122\" y=\"305.1074\">: ToolExecution</text><line style=\"stroke: #A80036; stroke-width: 1.5;\" x1=\"43\" x2=\"219\" y1=\"312.9375\" y2=\"312.9375\"/></a><!--MD5=[270fce915f116d4de14055a7c1d9a0f3]\n",
       "class E5--><a href=\"psysml:b02ba1b2-12c8-4052-9523-3aa0c79993f0\" target=\"_top\" title=\"psysml:b02ba1b2-12c8-4052-9523-3aa0c79993f0\" xlink:actuate=\"onRequest\" xlink:href=\"psysml:b02ba1b2-12c8-4052-9523-3aa0c79993f0\" xlink:show=\"new\" xlink:title=\"psysml:b02ba1b2-12c8-4052-9523-3aa0c79993f0\" xlink:type=\"simple\"><rect fill=\"#FEFECE\" filter=\"url(#fx614hy848dic)\" height=\"45.9375\" id=\"E5\" style=\"stroke: #A80036; stroke-width: 1.5;\" width=\"152\" x=\"32\" y=\"381\"/><ellipse cx=\"47\" cy=\"399.9688\" fill=\"#FFFF00\" rx=\"11\" ry=\"11\" style=\"stroke: #A80036; stroke-width: 1.0;\"/><path d=\"M51.2344,395.7344 L45.9531,395.7344 L45.9531,398.4063 L50.75,398.4063 L50.75,400.5625 L45.9531,400.5625 L45.9531,405.9688 L43.5156,405.9688 L43.5156,393.5781 L51.2344,393.5781 L51.2344,395.7344 Z \"/><text fill=\"#000000\" font-family=\"sans-serif\" font-size=\"12\" font-style=\"italic\" lengthAdjust=\"spacingAndGlyphs\" textLength=\"124\" x=\"59\" y=\"397.1387\">«metadataFeature»</text><text fill=\"#000000\" font-family=\"sans-serif\" font-size=\"12\" lengthAdjust=\"spacingAndGlyphs\" textLength=\"60\" x=\"91\" y=\"411.1074\">toolName</text><line style=\"stroke: #A80036; stroke-width: 1.5;\" x1=\"33\" x2=\"183\" y1=\"418.9375\" y2=\"418.9375\"/></a><!--MD5=[60a26617385b1d2d0262a64233df1f8d]\n",
       "class E6--><a href=\"psysml:cb4006f5-0e41-4f05-aa2a-a57df33d56ff\" target=\"_top\" title=\"psysml:cb4006f5-0e41-4f05-aa2a-a57df33d56ff\" xlink:actuate=\"onRequest\" xlink:href=\"psysml:cb4006f5-0e41-4f05-aa2a-a57df33d56ff\" xlink:show=\"new\" xlink:title=\"psysml:cb4006f5-0e41-4f05-aa2a-a57df33d56ff\" xlink:type=\"simple\"><rect fill=\"#FEFECE\" filter=\"url(#fx614hy848dic)\" height=\"45.9375\" id=\"E6\" style=\"stroke: #A80036; stroke-width: 1.5;\" width=\"152\" x=\"219\" y=\"381\"/><ellipse cx=\"234\" cy=\"399.9688\" fill=\"#FFFF00\" rx=\"11\" ry=\"11\" style=\"stroke: #A80036; stroke-width: 1.0;\"/><path d=\"M238.2344,395.7344 L232.9531,395.7344 L232.9531,398.4063 L237.75,398.4063 L237.75,400.5625 L232.9531,400.5625 L232.9531,405.9688 L230.5156,405.9688 L230.5156,393.5781 L238.2344,393.5781 L238.2344,395.7344 Z \"/><text fill=\"#000000\" font-family=\"sans-serif\" font-size=\"12\" font-style=\"italic\" lengthAdjust=\"spacingAndGlyphs\" textLength=\"124\" x=\"246\" y=\"397.1387\">«metadataFeature»</text><text fill=\"#000000\" font-family=\"sans-serif\" font-size=\"12\" lengthAdjust=\"spacingAndGlyphs\" textLength=\"16\" x=\"300\" y=\"411.1074\">uri</text><line style=\"stroke: #A80036; stroke-width: 1.5;\" x1=\"220\" x2=\"370\" y1=\"418.9375\" y2=\"418.9375\"/></a><!--MD5=[4672eba38e49728da53d11aeb285b987]\n",
       "reverse link E3 to E4--><a href=\"psysml:66d6f7e6-2188-4a34-9637-6b4b270c496c\" target=\"_top\" title=\"psysml:66d6f7e6-2188-4a34-9637-6b4b270c496c\" xlink:actuate=\"onRequest\" xlink:href=\"psysml:66d6f7e6-2188-4a34-9637-6b4b270c496c\" xlink:show=\"new\" xlink:title=\"psysml:66d6f7e6-2188-4a34-9637-6b4b270c496c\" xlink:type=\"simple\"><path d=\"M131,230.58 C131,247.21 131,262.87 131,274.8 \" fill=\"none\" id=\"E3&lt;-E4\" style=\"stroke: #A80036; stroke-width: 1.0;\"/><ellipse cx=\"131\" cy=\"223.46\" fill=\"#FFFFFF\" rx=\"8\" ry=\"8\" style=\"stroke: #A80036; stroke-width: 1.0;\"/><line style=\"stroke: #A80036; stroke-width: 1.0;\" x1=\"131\" x2=\"131\" y1=\"231.46\" y2=\"215.46\"/><line style=\"stroke: #A80036; stroke-width: 1.0;\" x1=\"123\" x2=\"139\" y1=\"223.46\" y2=\"223.46\"/></a><!--MD5=[62aa6af11e70f752912c1cb0466f24f7]\n",
       "reverse link E4 to E5--><a href=\"psysml:4336f8bf-5a73-49a4-a706-8a85ff7218c2\" target=\"_top\" title=\"psysml:4336f8bf-5a73-49a4-a706-8a85ff7218c2\" xlink:actuate=\"onRequest\" xlink:href=\"psysml:4336f8bf-5a73-49a4-a706-8a85ff7218c2\" xlink:show=\"new\" xlink:title=\"psysml:4336f8bf-5a73-49a4-a706-8a85ff7218c2\" xlink:type=\"simple\"><path d=\"M123.27,333.96 C119.83,349.51 115.89,367.33 112.87,380.98 \" fill=\"none\" id=\"E4&lt;-E5\" style=\"stroke: #A80036; stroke-width: 1.0;\"/><polygon fill=\"#A80036\" points=\"126.12,321.06,120.922,326.0581,123.5364,332.7786,128.7344,327.7805,126.12,321.06\" style=\"stroke: #A80036; stroke-width: 1.0;\"/></a><!--MD5=[6db378b65e1aef66a01cb3103812b399]\n",
       "reverse link E4 to E6--><a href=\"psysml:14217a47-d828-403c-a59e-1cb114a87a2b\" target=\"_top\" title=\"psysml:14217a47-d828-403c-a59e-1cb114a87a2b\" xlink:actuate=\"onRequest\" xlink:href=\"psysml:14217a47-d828-403c-a59e-1cb114a87a2b\" xlink:show=\"new\" xlink:title=\"psysml:14217a47-d828-403c-a59e-1cb114a87a2b\" xlink:type=\"simple\"><path d=\"M177.04,328.2 C203.44,344.94 236.04,365.61 260.27,380.98 \" fill=\"none\" id=\"E4&lt;-E6\" style=\"stroke: #A80036; stroke-width: 1.0;\"/><polygon fill=\"#A80036\" points=\"165.78,321.06,168.6989,327.6539,175.9083,327.4957,172.9894,320.9017,165.78,321.06\" style=\"stroke: #A80036; stroke-width: 1.0;\"/></a><!--MD5=[e34a3e3b5f48349eb7f15dd2509a1e8e]\n",
       "@startuml\r\n",
       " \r\n",
       "package \"AnalysisAnnotation\" as E1  [[psysml:3f9dd228-0d59-436f-8c66-7bfaf74317e1 ]]  {\r\n",
       "comp def \"Real\" as E2  <<(T,blue)dataType>> [[psysml:44eddca9-682f-4ef7-a7c7-a9f194d7f2c9 ]] {\r\n",
       "}\r\n",
       "comp def \"ComputeDynamics\" as E3  <<(D,brown)action def>> [[psysml:e73f4f0e-f2f2-491a-ad18-2354ebab0714 ]] {\r\n",
       "Cd: Real\r\n",
       "Cf: Real\r\n",
       "a_out: AccelerationValue\r\n",
       "dt: DurationValue\r\n",
       "tm: MassValue\r\n",
       "v_in: SpeedValue\r\n",
       "v_out: SpeedValue\r\n",
       "whlpwr: PowerValue\r\n",
       "x_in: LengthValue\r\n",
       "x_out: LengthValue\r\n",
       "}\r\n",
       "comp def \"<s>noname</s>: ToolExecution\" as E4  <<(F,yellow)annotatingFeature>> [[psysml:60a2becf-7a46-4ebd-946f-3a728f7b6aab ]] {\r\n",
       "}\r\n",
       "comp def \"toolName\" as E5  <<(F,yellow)metadataFeature>> [[psysml:b02ba1b2-12c8-4052-9523-3aa0c79993f0 ]] {\r\n",
       "}\r\n",
       "comp def \"uri\" as E6  <<(F,yellow)metadataFeature>> [[psysml:cb4006f5-0e41-4f05-aa2a-a57df33d56ff ]] {\r\n",
       "}\r\n",
       "E3 +- - E4 [[psysml:66d6f7e6-2188-4a34-9637-6b4b270c496c ]] \r\n",
       "E4 *- - E5 [[psysml:4336f8bf-5a73-49a4-a706-8a85ff7218c2 ]] \r\n",
       "E4 *- - E6 [[psysml:14217a47-d828-403c-a59e-1cb114a87a2b ]] \r\n",
       "}\r\n",
       "@enduml\r\n",
       "\n",
       "PlantUML version 1.2020.13(Sat Jun 13 12:26:38 UTC 2020)\n",
       "(EPL source distribution)\n",
       "Java Runtime: OpenJDK Runtime Environment\n",
       "JVM: OpenJDK 64-Bit Server VM\n",
       "Default Encoding: UTF-8\n",
       "Language: en\n",
       "Country: null\n",
       "--></g></svg>"
      ]
     },
     "execution_count": 35,
     "metadata": {},
     "output_type": "execute_result"
    }
   ],
   "source": [
    "%viz --style=\"PLANTUML\" --view=\"Sequence\" \"AnalysisAnnotation\""
   ]
  },
  {
   "cell_type": "code",
   "execution_count": 36,
   "id": "476946e6",
   "metadata": {
    "execution": {
     "iopub.execute_input": "2021-04-20T07:28:17.549711Z",
     "iopub.status.busy": "2021-04-20T07:28:17.549071Z",
     "iopub.status.idle": "2021-04-20T07:28:17.582283Z",
     "shell.execute_reply": "2021-04-20T07:28:17.580887Z"
    }
   },
   "outputs": [
    {
     "data": {
      "image/svg+xml": [
       "<?xml version=\"1.0\" encoding=\"UTF-8\" standalone=\"no\"?><svg xmlns=\"http://www.w3.org/2000/svg\" xmlns:xlink=\"http://www.w3.org/1999/xlink\" contentScriptType=\"application/ecmascript\" contentStyleType=\"text/css\" height=\"350px\" preserveAspectRatio=\"none\" style=\"width:507px;height:350px;\" version=\"1.1\" viewBox=\"0 0 507 350\" width=\"507px\" zoomAndPan=\"magnify\"><defs><filter height=\"300%\" id=\"f1e8b6kgcfre6a\" width=\"300%\" x=\"-1\" y=\"-1\"><feGaussianBlur result=\"blurOut\" stdDeviation=\"2.0\"/><feColorMatrix in=\"blurOut\" result=\"blurOut2\" type=\"matrix\" values=\"0 0 0 0 0 0 0 0 0 0 0 0 0 0 0 0 0 0 .4 0\"/><feOffset dx=\"4.0\" dy=\"4.0\" in=\"blurOut2\" result=\"blurOut3\"/><feBlend in=\"SourceGraphic\" in2=\"blurOut3\" mode=\"normal\"/></filter></defs><g><!--MD5=[fbc87193dbaf4d95561dea2c320d4a47]\n",
       "cluster E1--><a href=\"psysml:3f9dd228-0d59-436f-8c66-7bfaf74317e1\" target=\"_top\" title=\"psysml:3f9dd228-0d59-436f-8c66-7bfaf74317e1\" xlink:actuate=\"onRequest\" xlink:href=\"psysml:3f9dd228-0d59-436f-8c66-7bfaf74317e1\" xlink:show=\"new\" xlink:title=\"psysml:3f9dd228-0d59-436f-8c66-7bfaf74317e1\" xlink:type=\"simple\"><polygon fill=\"#FFFFFF\" filter=\"url(#f1e8b6kgcfre6a)\" points=\"16,6,173,6,180,28.2969,485,28.2969,485,338.72,16,338.72,16,6\" style=\"stroke: #000000; stroke-width: 1.5;\"/><line style=\"stroke: #000000; stroke-width: 1.5;\" x1=\"16\" x2=\"180\" y1=\"28.2969\" y2=\"28.2969\"/><text fill=\"#000000\" font-family=\"sans-serif\" font-size=\"14\" font-weight=\"bold\" lengthAdjust=\"spacingAndGlyphs\" textLength=\"151\" x=\"20\" y=\"20.9951\">AnalysisAnnotation</text></a><!--MD5=[d5e69f78d87373223dbae638b30a9c99]\n",
       "cluster E3--><a href=\"psysml:e73f4f0e-f2f2-491a-ad18-2354ebab0714\" target=\"_top\" title=\"psysml:e73f4f0e-f2f2-491a-ad18-2354ebab0714\" xlink:actuate=\"onRequest\" xlink:href=\"psysml:e73f4f0e-f2f2-491a-ad18-2354ebab0714\" xlink:show=\"new\" xlink:title=\"psysml:e73f4f0e-f2f2-491a-ad18-2354ebab0714\" xlink:type=\"simple\"><rect fill=\"#FFFFFF\" filter=\"url(#f1e8b6kgcfre6a)\" height=\"244.72\" id=\"E3\" style=\"stroke: #A80036; stroke-width: 1.5;\" width=\"318\" x=\"155\" y=\"64\"/><rect fill=\"#FEFECE\" height=\"37.9375\" style=\"stroke: #A80036; stroke-width: 1.5;\" width=\"318\" x=\"155\" y=\"64\"/><text fill=\"#000000\" font-family=\"sans-serif\" font-size=\"12\" font-style=\"italic\" lengthAdjust=\"spacingAndGlyphs\" textLength=\"77\" x=\"275.5\" y=\"80.1387\">«action def»</text><text fill=\"#000000\" font-family=\"sans-serif\" font-size=\"12\" lengthAdjust=\"spacingAndGlyphs\" textLength=\"115\" x=\"256.5\" y=\"94.1074\">ComputeDynamics</text></a><!--MD5=[b4997ac47864f28c2f74865a473b2911]\n",
       "class E2--><a href=\"psysml:44eddca9-682f-4ef7-a7c7-a9f194d7f2c9\" target=\"_top\" title=\"psysml:44eddca9-682f-4ef7-a7c7-a9f194d7f2c9\" xlink:actuate=\"onRequest\" xlink:href=\"psysml:44eddca9-682f-4ef7-a7c7-a9f194d7f2c9\" xlink:show=\"new\" xlink:title=\"psysml:44eddca9-682f-4ef7-a7c7-a9f194d7f2c9\" xlink:type=\"simple\"><rect fill=\"#FEFECE\" filter=\"url(#f1e8b6kgcfre6a)\" height=\"45.9375\" id=\"E2\" style=\"stroke: #A80036; stroke-width: 1.5;\" width=\"100\" x=\"32\" y=\"41\"/><ellipse cx=\"47\" cy=\"59.9688\" fill=\"#0000FF\" rx=\"11\" ry=\"11\" style=\"stroke: #A80036; stroke-width: 1.0;\"/><path d=\"M47.8438,66.7188 L45.3906,66.7188 L45.3906,56.4688 L42.25,56.4688 L42.25,54.3281 L50.9844,54.3281 L50.9844,56.4688 L47.8438,56.4688 L47.8438,66.7188 Z \"/><text fill=\"#000000\" font-family=\"sans-serif\" font-size=\"12\" font-style=\"italic\" lengthAdjust=\"spacingAndGlyphs\" textLength=\"72\" x=\"59\" y=\"57.1387\">«dataType»</text><text fill=\"#000000\" font-family=\"sans-serif\" font-size=\"12\" lengthAdjust=\"spacingAndGlyphs\" textLength=\"27\" x=\"81.5\" y=\"71.1074\">Real</text><line style=\"stroke: #A80036; stroke-width: 1.5;\" x1=\"33\" x2=\"131\" y1=\"78.9375\" y2=\"78.9375\"/></a><text fill=\"#000000\" font-family=\"sans-serif\" font-size=\"14\" lengthAdjust=\"spacingAndGlyphs\" textLength=\"48\" x=\"195\" y=\"327.7151\">$result</text><rect fill=\"#A80036\" height=\"12\" style=\"stroke: #FEFECE; stroke-width: 1.5;\" width=\"12\" x=\"213\" y=\"302.72\"/><text fill=\"#000000\" font-family=\"sans-serif\" font-size=\"14\" lengthAdjust=\"spacingAndGlyphs\" textLength=\"48\" x=\"242\" y=\"327.7151\">$result</text><rect fill=\"#A80036\" height=\"12\" style=\"stroke: #FEFECE; stroke-width: 1.5;\" width=\"12\" x=\"260\" y=\"302.72\"/><text fill=\"#000000\" font-family=\"sans-serif\" font-size=\"14\" lengthAdjust=\"spacingAndGlyphs\" textLength=\"14\" x=\"166\" y=\"42.6982\">dt</text><rect fill=\"#A80036\" height=\"12\" style=\"stroke: #FEFECE; stroke-width: 1.5;\" width=\"12\" x=\"167\" y=\"58\"/><text fill=\"#000000\" font-family=\"sans-serif\" font-size=\"14\" lengthAdjust=\"spacingAndGlyphs\" textLength=\"48\" x=\"196\" y=\"42.6982\">whlpwr</text><rect fill=\"#A80036\" height=\"12\" style=\"stroke: #FEFECE; stroke-width: 1.5;\" width=\"12\" x=\"214\" y=\"58\"/><text fill=\"#000000\" font-family=\"sans-serif\" font-size=\"14\" lengthAdjust=\"spacingAndGlyphs\" textLength=\"19\" x=\"257.5\" y=\"42.6982\">Cd</text><rect fill=\"#A80036\" height=\"12\" style=\"stroke: #FEFECE; stroke-width: 1.5;\" width=\"12\" x=\"261\" y=\"58\"/><text fill=\"#000000\" font-family=\"sans-serif\" font-size=\"14\" lengthAdjust=\"spacingAndGlyphs\" textLength=\"14\" x=\"307\" y=\"42.6982\">Cf</text><rect fill=\"#A80036\" height=\"12\" style=\"stroke: #FEFECE; stroke-width: 1.5;\" width=\"12\" x=\"308\" y=\"58\"/><text fill=\"#000000\" font-family=\"sans-serif\" font-size=\"14\" lengthAdjust=\"spacingAndGlyphs\" textLength=\"18\" x=\"352\" y=\"42.6982\">tm</text><rect fill=\"#A80036\" height=\"12\" style=\"stroke: #FEFECE; stroke-width: 1.5;\" width=\"12\" x=\"355\" y=\"58\"/><text fill=\"#000000\" font-family=\"sans-serif\" font-size=\"14\" lengthAdjust=\"spacingAndGlyphs\" textLength=\"26\" x=\"395\" y=\"42.6982\">v_in</text><rect fill=\"#A80036\" height=\"12\" style=\"stroke: #FEFECE; stroke-width: 1.5;\" width=\"12\" x=\"402\" y=\"58\"/><text fill=\"#000000\" font-family=\"sans-serif\" font-size=\"14\" lengthAdjust=\"spacingAndGlyphs\" textLength=\"26\" x=\"442\" y=\"42.6982\">x_in</text><rect fill=\"#A80036\" height=\"12\" style=\"stroke: #FEFECE; stroke-width: 1.5;\" width=\"12\" x=\"449\" y=\"58\"/><text fill=\"#000000\" font-family=\"sans-serif\" font-size=\"14\" lengthAdjust=\"spacingAndGlyphs\" textLength=\"38\" x=\"294\" y=\"327.7151\">a_out</text><rect fill=\"#A80036\" height=\"12\" style=\"stroke: #FEFECE; stroke-width: 1.5;\" width=\"12\" x=\"307\" y=\"302.72\"/><text fill=\"#000000\" font-family=\"sans-serif\" font-size=\"14\" lengthAdjust=\"spacingAndGlyphs\" textLength=\"37\" x=\"341.5\" y=\"327.7151\">v_out</text><rect fill=\"#A80036\" height=\"12\" style=\"stroke: #FEFECE; stroke-width: 1.5;\" width=\"12\" x=\"354\" y=\"302.72\"/><text fill=\"#000000\" font-family=\"sans-serif\" font-size=\"14\" lengthAdjust=\"spacingAndGlyphs\" textLength=\"37\" x=\"388.5\" y=\"327.7151\">x_out</text><rect fill=\"#A80036\" height=\"12\" style=\"stroke: #FEFECE; stroke-width: 1.5;\" width=\"12\" x=\"401\" y=\"302.72\"/><!--MD5=[61b2b5eeaf8dca54dc6998c8b3a9b442]\n",
       "@startuml\r\n",
       " \r\n",
       "package \"AnalysisAnnotation\" as E1  [[psysml:3f9dd228-0d59-436f-8c66-7bfaf74317e1 ]]  {\r\n",
       "comp def \"Real\" as E2  <<(T,blue)dataType>> [[psysml:44eddca9-682f-4ef7-a7c7-a9f194d7f2c9 ]] {\r\n",
       "}\r\n",
       "rec def \"ComputeDynamics\" as E3  <<(D,brown)action def>> [[psysml:e73f4f0e-f2f2-491a-ad18-2354ebab0714 ]] {\r\n",
       "portout \"$result\" as E4  [[psysml:321a5472-f26a-4f44-adf1-e887f248e10c ]] \r\n",
       "portout \"$result\" as E5  [[psysml:249d7fd3-af20-489f-a52b-b6c298227647 ]] \r\n",
       "portin \"dt\" as E6  [[psysml:d9dfe931-1109-47e6-bc0c-352db24577b0 ]] \r\n",
       "portin \"whlpwr\" as E7  [[psysml:44277f67-022c-45f6-9760-98798ee04e09 ]] \r\n",
       "portin \"Cd\" as E8  [[psysml:41d96645-5d65-4e32-85e5-332077e108f6 ]] \r\n",
       "portin \"Cf\" as E9  [[psysml:aebf7dc6-628a-4d75-a952-13ccca53817c ]] \r\n",
       "portin \"tm\" as E10  [[psysml:08dba41b-e930-4b20-afae-ef7ae15f00ec ]] \r\n",
       "portin \"v_in\" as E11  [[psysml:e3f3c5a0-ed9d-41a6-a918-fe4a600fe261 ]] \r\n",
       "portin \"x_in\" as E12  [[psysml:fb3fca97-7004-4d76-8828-7714499f1454 ]] \r\n",
       "portout \"a_out\" as E13  [[psysml:5a710766-56b6-4c7a-9ae9-326b3f7572a8 ]] \r\n",
       "portout \"v_out\" as E14  [[psysml:1e62abd8-4172-4662-8f1c-1e7c30e8c54c ]] \r\n",
       "portout \"x_out\" as E15  [[psysml:e4c640c8-309e-4572-81b1-e78594ed37ec ]] \r\n",
       "}\r\n",
       "\r\n",
       "}\r\n",
       "@enduml\r\n",
       "\n",
       "PlantUML version 1.2020.13(Sat Jun 13 12:26:38 UTC 2020)\n",
       "(EPL source distribution)\n",
       "Java Runtime: OpenJDK Runtime Environment\n",
       "JVM: OpenJDK 64-Bit Server VM\n",
       "Default Encoding: UTF-8\n",
       "Language: en\n",
       "Country: null\n",
       "--></g></svg>"
      ]
     },
     "execution_count": 36,
     "metadata": {},
     "output_type": "execute_result"
    }
   ],
   "source": [
    "%viz --style=\"PLANTUML\" --view=\"MIXED\" \"AnalysisAnnotation\""
   ]
  },
  {
   "cell_type": "code",
   "execution_count": 37,
   "id": "04595fb6",
   "metadata": {
    "execution": {
     "iopub.execute_input": "2021-04-20T07:28:17.631594Z",
     "iopub.status.busy": "2021-04-20T07:28:17.631145Z",
     "iopub.status.idle": "2021-04-20T07:28:17.660790Z",
     "shell.execute_reply": "2021-04-20T07:28:17.659388Z"
    }
   },
   "outputs": [
    {
     "data": {
      "image/svg+xml": [
       "<?xml version=\"1.0\" encoding=\"UTF-8\" standalone=\"no\"?><svg xmlns=\"http://www.w3.org/2000/svg\" xmlns:xlink=\"http://www.w3.org/1999/xlink\" contentScriptType=\"application/ecmascript\" contentStyleType=\"text/css\" height=\"350px\" preserveAspectRatio=\"none\" style=\"width:481px;height:350px;\" version=\"1.1\" viewBox=\"0 0 481 350\" width=\"481px\" zoomAndPan=\"magnify\"><defs/><g><!--MD5=[fbc87193dbaf4d95561dea2c320d4a47]\n",
       "cluster E1--><a href=\"psysml:3f9dd228-0d59-436f-8c66-7bfaf74317e1\" target=\"_top\" title=\"psysml:3f9dd228-0d59-436f-8c66-7bfaf74317e1\" xlink:actuate=\"onRequest\" xlink:href=\"psysml:3f9dd228-0d59-436f-8c66-7bfaf74317e1\" xlink:show=\"new\" xlink:title=\"psysml:3f9dd228-0d59-436f-8c66-7bfaf74317e1\" xlink:type=\"simple\"><polygon fill=\"#FFFFFF\" points=\"16,6,173,6,180,28.2969,459,28.2969,459,338.72,16,338.72,16,6\" style=\"stroke: #000000; stroke-width: 1.5;\"/><line style=\"stroke: #000000; stroke-width: 1.5;\" x1=\"16\" x2=\"180\" y1=\"28.2969\" y2=\"28.2969\"/><text fill=\"#000000\" font-family=\"sans-serif\" font-size=\"14\" font-weight=\"bold\" lengthAdjust=\"spacingAndGlyphs\" textLength=\"151\" x=\"20\" y=\"20.9951\">AnalysisAnnotation</text></a><!--MD5=[d5e69f78d87373223dbae638b30a9c99]\n",
       "cluster E3--><a href=\"psysml:e73f4f0e-f2f2-491a-ad18-2354ebab0714\" target=\"_top\" title=\"psysml:e73f4f0e-f2f2-491a-ad18-2354ebab0714\" xlink:actuate=\"onRequest\" xlink:href=\"psysml:e73f4f0e-f2f2-491a-ad18-2354ebab0714\" xlink:show=\"new\" xlink:title=\"psysml:e73f4f0e-f2f2-491a-ad18-2354ebab0714\" xlink:type=\"simple\"><rect fill=\"#FFFFFF\" height=\"244.72\" id=\"E3\" style=\"stroke: #383838; stroke-width: 1.5;\" width=\"318\" x=\"129\" y=\"64\"/><rect fill=\"#F8F8F8\" height=\"37.9375\" style=\"stroke: #383838; stroke-width: 1.5;\" width=\"318\" x=\"129\" y=\"64\"/><text fill=\"#000000\" font-family=\"sans-serif\" font-size=\"12\" font-style=\"italic\" lengthAdjust=\"spacingAndGlyphs\" textLength=\"77\" x=\"249.5\" y=\"80.1387\">«action def»</text><text fill=\"#000000\" font-family=\"sans-serif\" font-size=\"12\" lengthAdjust=\"spacingAndGlyphs\" textLength=\"115\" x=\"230.5\" y=\"94.1074\">ComputeDynamics</text></a><!--MD5=[b4997ac47864f28c2f74865a473b2911]\n",
       "class E2--><a href=\"psysml:44eddca9-682f-4ef7-a7c7-a9f194d7f2c9\" target=\"_top\" title=\"psysml:44eddca9-682f-4ef7-a7c7-a9f194d7f2c9\" xlink:actuate=\"onRequest\" xlink:href=\"psysml:44eddca9-682f-4ef7-a7c7-a9f194d7f2c9\" xlink:show=\"new\" xlink:title=\"psysml:44eddca9-682f-4ef7-a7c7-a9f194d7f2c9\" xlink:type=\"simple\"><rect fill=\"#FFFFFF\" height=\"45.9375\" id=\"E2\" style=\"stroke: #383838; stroke-width: 1.5;\" width=\"74\" x=\"32\" y=\"41\"/><text fill=\"#000000\" font-family=\"sans-serif\" font-size=\"12\" font-style=\"italic\" lengthAdjust=\"spacingAndGlyphs\" textLength=\"72\" x=\"33\" y=\"57.1387\">«dataType»</text><text fill=\"#000000\" font-family=\"sans-serif\" font-size=\"12\" lengthAdjust=\"spacingAndGlyphs\" textLength=\"27\" x=\"55.5\" y=\"71.1074\">Real</text><line style=\"stroke: #383838; stroke-width: 1.5;\" x1=\"33\" x2=\"105\" y1=\"78.9375\" y2=\"78.9375\"/></a><text fill=\"#000000\" font-family=\"sans-serif\" font-size=\"14\" lengthAdjust=\"spacingAndGlyphs\" textLength=\"48\" x=\"169\" y=\"327.7151\">$result</text><rect fill=\"#383838\" height=\"12\" style=\"stroke: #F8F8F8; stroke-width: 1.5;\" width=\"12\" x=\"187\" y=\"302.72\"/><text fill=\"#000000\" font-family=\"sans-serif\" font-size=\"14\" lengthAdjust=\"spacingAndGlyphs\" textLength=\"48\" x=\"216\" y=\"327.7151\">$result</text><rect fill=\"#383838\" height=\"12\" style=\"stroke: #F8F8F8; stroke-width: 1.5;\" width=\"12\" x=\"234\" y=\"302.72\"/><text fill=\"#000000\" font-family=\"sans-serif\" font-size=\"14\" lengthAdjust=\"spacingAndGlyphs\" textLength=\"14\" x=\"140\" y=\"42.6982\">dt</text><rect fill=\"#383838\" height=\"12\" style=\"stroke: #F8F8F8; stroke-width: 1.5;\" width=\"12\" x=\"141\" y=\"58\"/><text fill=\"#000000\" font-family=\"sans-serif\" font-size=\"14\" lengthAdjust=\"spacingAndGlyphs\" textLength=\"48\" x=\"170\" y=\"42.6982\">whlpwr</text><rect fill=\"#383838\" height=\"12\" style=\"stroke: #F8F8F8; stroke-width: 1.5;\" width=\"12\" x=\"188\" y=\"58\"/><text fill=\"#000000\" font-family=\"sans-serif\" font-size=\"14\" lengthAdjust=\"spacingAndGlyphs\" textLength=\"19\" x=\"231.5\" y=\"42.6982\">Cd</text><rect fill=\"#383838\" height=\"12\" style=\"stroke: #F8F8F8; stroke-width: 1.5;\" width=\"12\" x=\"235\" y=\"58\"/><text fill=\"#000000\" font-family=\"sans-serif\" font-size=\"14\" lengthAdjust=\"spacingAndGlyphs\" textLength=\"14\" x=\"281\" y=\"42.6982\">Cf</text><rect fill=\"#383838\" height=\"12\" style=\"stroke: #F8F8F8; stroke-width: 1.5;\" width=\"12\" x=\"282\" y=\"58\"/><text fill=\"#000000\" font-family=\"sans-serif\" font-size=\"14\" lengthAdjust=\"spacingAndGlyphs\" textLength=\"18\" x=\"326\" y=\"42.6982\">tm</text><rect fill=\"#383838\" height=\"12\" style=\"stroke: #F8F8F8; stroke-width: 1.5;\" width=\"12\" x=\"329\" y=\"58\"/><text fill=\"#000000\" font-family=\"sans-serif\" font-size=\"14\" lengthAdjust=\"spacingAndGlyphs\" textLength=\"26\" x=\"369\" y=\"42.6982\">v_in</text><rect fill=\"#383838\" height=\"12\" style=\"stroke: #F8F8F8; stroke-width: 1.5;\" width=\"12\" x=\"376\" y=\"58\"/><text fill=\"#000000\" font-family=\"sans-serif\" font-size=\"14\" lengthAdjust=\"spacingAndGlyphs\" textLength=\"26\" x=\"416\" y=\"42.6982\">x_in</text><rect fill=\"#383838\" height=\"12\" style=\"stroke: #F8F8F8; stroke-width: 1.5;\" width=\"12\" x=\"423\" y=\"58\"/><text fill=\"#000000\" font-family=\"sans-serif\" font-size=\"14\" lengthAdjust=\"spacingAndGlyphs\" textLength=\"38\" x=\"268\" y=\"327.7151\">a_out</text><rect fill=\"#383838\" height=\"12\" style=\"stroke: #F8F8F8; stroke-width: 1.5;\" width=\"12\" x=\"281\" y=\"302.72\"/><text fill=\"#000000\" font-family=\"sans-serif\" font-size=\"14\" lengthAdjust=\"spacingAndGlyphs\" textLength=\"37\" x=\"315.5\" y=\"327.7151\">v_out</text><rect fill=\"#383838\" height=\"12\" style=\"stroke: #F8F8F8; stroke-width: 1.5;\" width=\"12\" x=\"328\" y=\"302.72\"/><text fill=\"#000000\" font-family=\"sans-serif\" font-size=\"14\" lengthAdjust=\"spacingAndGlyphs\" textLength=\"37\" x=\"362.5\" y=\"327.7151\">x_out</text><rect fill=\"#383838\" height=\"12\" style=\"stroke: #F8F8F8; stroke-width: 1.5;\" width=\"12\" x=\"375\" y=\"302.72\"/><!--MD5=[f0ec2e6c3df9e44d0d4c813565b63833]\n",
       "@startuml\r\n",
       "skinparam monochrome true\r\n",
       "skinparam classbackgroundcolor white\r\n",
       "skinparam shadowing false\r\n",
       "skinparam wrapWidth 300\r\n",
       "hide circle\r\n",
       "\r\n",
       "package \"AnalysisAnnotation\" as E1  [[psysml:3f9dd228-0d59-436f-8c66-7bfaf74317e1 ]]  {\r\n",
       "comp def \"Real\" as E2  <<(T,blue)dataType>> [[psysml:44eddca9-682f-4ef7-a7c7-a9f194d7f2c9 ]] {\r\n",
       "}\r\n",
       "rec def \"ComputeDynamics\" as E3  <<(T,blue)action def>> [[psysml:e73f4f0e-f2f2-491a-ad18-2354ebab0714 ]] {\r\n",
       "portout \"$result\" as E4  [[psysml:321a5472-f26a-4f44-adf1-e887f248e10c ]] \r\n",
       "portout \"$result\" as E5  [[psysml:249d7fd3-af20-489f-a52b-b6c298227647 ]] \r\n",
       "portin \"dt\" as E6  [[psysml:d9dfe931-1109-47e6-bc0c-352db24577b0 ]] \r\n",
       "portin \"whlpwr\" as E7  [[psysml:44277f67-022c-45f6-9760-98798ee04e09 ]] \r\n",
       "portin \"Cd\" as E8  [[psysml:41d96645-5d65-4e32-85e5-332077e108f6 ]] \r\n",
       "portin \"Cf\" as E9  [[psysml:aebf7dc6-628a-4d75-a952-13ccca53817c ]] \r\n",
       "portin \"tm\" as E10  [[psysml:08dba41b-e930-4b20-afae-ef7ae15f00ec ]] \r\n",
       "portin \"v_in\" as E11  [[psysml:e3f3c5a0-ed9d-41a6-a918-fe4a600fe261 ]] \r\n",
       "portin \"x_in\" as E12  [[psysml:fb3fca97-7004-4d76-8828-7714499f1454 ]] \r\n",
       "portout \"a_out\" as E13  [[psysml:5a710766-56b6-4c7a-9ae9-326b3f7572a8 ]] \r\n",
       "portout \"v_out\" as E14  [[psysml:1e62abd8-4172-4662-8f1c-1e7c30e8c54c ]] \r\n",
       "portout \"x_out\" as E15  [[psysml:e4c640c8-309e-4572-81b1-e78594ed37ec ]] \r\n",
       "}\r\n",
       "\r\n",
       "}\r\n",
       "@enduml\r\n",
       "\n",
       "PlantUML version 1.2020.13(Sat Jun 13 12:26:38 UTC 2020)\n",
       "(EPL source distribution)\n",
       "Java Runtime: OpenJDK Runtime Environment\n",
       "JVM: OpenJDK 64-Bit Server VM\n",
       "Default Encoding: UTF-8\n",
       "Language: en\n",
       "Country: null\n",
       "--></g></svg>"
      ]
     },
     "execution_count": 37,
     "metadata": {},
     "output_type": "execute_result"
    }
   ],
   "source": [
    "%viz --style=\"DEFAULT\" --view=\"Default\" \"AnalysisAnnotation\""
   ]
  },
  {
   "cell_type": "code",
   "execution_count": 38,
   "id": "79cca0b2",
   "metadata": {
    "execution": {
     "iopub.execute_input": "2021-04-20T07:28:17.711108Z",
     "iopub.status.busy": "2021-04-20T07:28:17.710619Z",
     "iopub.status.idle": "2021-04-20T07:28:17.855701Z",
     "shell.execute_reply": "2021-04-20T07:28:17.854116Z"
    }
   },
   "outputs": [
    {
     "data": {
      "image/svg+xml": [
       "<?xml version=\"1.0\" encoding=\"UTF-8\" standalone=\"no\"?><svg xmlns=\"http://www.w3.org/2000/svg\" xmlns:xlink=\"http://www.w3.org/1999/xlink\" contentScriptType=\"application/ecmascript\" contentStyleType=\"text/css\" height=\"472px\" preserveAspectRatio=\"none\" style=\"width:357px;height:472px;\" version=\"1.1\" viewBox=\"0 0 357 472\" width=\"357px\" zoomAndPan=\"magnify\"><defs/><g><!--MD5=[fbc87193dbaf4d95561dea2c320d4a47]\n",
       "cluster E1--><a href=\"psysml:3f9dd228-0d59-436f-8c66-7bfaf74317e1\" target=\"_top\" title=\"psysml:3f9dd228-0d59-436f-8c66-7bfaf74317e1\" xlink:actuate=\"onRequest\" xlink:href=\"psysml:3f9dd228-0d59-436f-8c66-7bfaf74317e1\" xlink:show=\"new\" xlink:title=\"psysml:3f9dd228-0d59-436f-8c66-7bfaf74317e1\" xlink:type=\"simple\"><polygon fill=\"#FFFFFF\" points=\"16,6,173,6,180,28.2969,335,28.2969,335,460,16,460,16,6\" style=\"stroke: #000000; stroke-width: 1.5;\"/><line style=\"stroke: #000000; stroke-width: 1.5;\" x1=\"16\" x2=\"180\" y1=\"28.2969\" y2=\"28.2969\"/><text fill=\"#000000\" font-family=\"sans-serif\" font-size=\"14\" font-weight=\"bold\" lengthAdjust=\"spacingAndGlyphs\" textLength=\"151\" x=\"20\" y=\"20.9951\">AnalysisAnnotation</text></a><!--MD5=[b4997ac47864f28c2f74865a473b2911]\n",
       "class E2--><a href=\"psysml:44eddca9-682f-4ef7-a7c7-a9f194d7f2c9\" target=\"_top\" title=\"psysml:44eddca9-682f-4ef7-a7c7-a9f194d7f2c9\" xlink:actuate=\"onRequest\" xlink:href=\"psysml:44eddca9-682f-4ef7-a7c7-a9f194d7f2c9\" xlink:show=\"new\" xlink:title=\"psysml:44eddca9-682f-4ef7-a7c7-a9f194d7f2c9\" xlink:type=\"simple\"><rect fill=\"#FFFFFF\" height=\"45.9375\" id=\"E2\" style=\"stroke: #383838; stroke-width: 1.5;\" width=\"74\" x=\"238\" y=\"113.5\"/><text fill=\"#000000\" font-family=\"sans-serif\" font-size=\"12\" font-style=\"italic\" lengthAdjust=\"spacingAndGlyphs\" textLength=\"72\" x=\"239\" y=\"129.6387\">«dataType»</text><text fill=\"#000000\" font-family=\"sans-serif\" font-size=\"12\" lengthAdjust=\"spacingAndGlyphs\" textLength=\"27\" x=\"261.5\" y=\"143.6074\">Real</text><line style=\"stroke: #383838; stroke-width: 1.5;\" x1=\"239\" x2=\"311\" y1=\"151.4375\" y2=\"151.4375\"/></a><!--MD5=[09b614a08d8cba4a07c9adeb5e0fee81]\n",
       "class E3--><a href=\"psysml:e73f4f0e-f2f2-491a-ad18-2354ebab0714\" target=\"_top\" title=\"psysml:e73f4f0e-f2f2-491a-ad18-2354ebab0714\" xlink:actuate=\"onRequest\" xlink:href=\"psysml:e73f4f0e-f2f2-491a-ad18-2354ebab0714\" xlink:show=\"new\" xlink:title=\"psysml:e73f4f0e-f2f2-491a-ad18-2354ebab0714\" xlink:type=\"simple\"><rect fill=\"#FFFFFF\" height=\"190.7891\" id=\"E3\" style=\"stroke: #383838; stroke-width: 1.5;\" width=\"151\" x=\"38.5\" y=\"41\"/><text fill=\"#000000\" font-family=\"sans-serif\" font-size=\"12\" font-style=\"italic\" lengthAdjust=\"spacingAndGlyphs\" textLength=\"77\" x=\"75.5\" y=\"57.1387\">«action def»</text><text fill=\"#000000\" font-family=\"sans-serif\" font-size=\"12\" lengthAdjust=\"spacingAndGlyphs\" textLength=\"115\" x=\"56.5\" y=\"71.1074\">ComputeDynamics</text><line style=\"stroke: #383838; stroke-width: 1.5;\" x1=\"39.5\" x2=\"188.5\" y1=\"78.9375\" y2=\"78.9375\"/><text fill=\"#000000\" font-family=\"sans-serif\" font-size=\"11\" lengthAdjust=\"spacingAndGlyphs\" textLength=\"47\" x=\"44.5\" y=\"109.9526\">Cd: Real</text><text fill=\"#000000\" font-family=\"sans-serif\" font-size=\"11\" lengthAdjust=\"spacingAndGlyphs\" textLength=\"44\" x=\"44.5\" y=\"122.7573\">Cf: Real</text><text fill=\"#000000\" font-family=\"sans-serif\" font-size=\"11\" lengthAdjust=\"spacingAndGlyphs\" textLength=\"139\" x=\"44.5\" y=\"135.562\">a_out: AccelerationValue</text><text fill=\"#000000\" font-family=\"sans-serif\" font-size=\"11\" lengthAdjust=\"spacingAndGlyphs\" textLength=\"98\" x=\"44.5\" y=\"148.3667\">dt: DurationValue</text><text fill=\"#000000\" font-family=\"sans-serif\" font-size=\"11\" lengthAdjust=\"spacingAndGlyphs\" textLength=\"84\" x=\"44.5\" y=\"161.1714\">tm: MassValue</text><text fill=\"#000000\" font-family=\"sans-serif\" font-size=\"11\" lengthAdjust=\"spacingAndGlyphs\" textLength=\"97\" x=\"44.5\" y=\"173.9761\">v_in: SpeedValue</text><text fill=\"#000000\" font-family=\"sans-serif\" font-size=\"11\" lengthAdjust=\"spacingAndGlyphs\" textLength=\"105\" x=\"44.5\" y=\"186.7808\">v_out: SpeedValue</text><text fill=\"#000000\" font-family=\"sans-serif\" font-size=\"11\" lengthAdjust=\"spacingAndGlyphs\" textLength=\"114\" x=\"44.5\" y=\"199.5854\">whlpwr: PowerValue</text><text fill=\"#000000\" font-family=\"sans-serif\" font-size=\"11\" lengthAdjust=\"spacingAndGlyphs\" textLength=\"99\" x=\"44.5\" y=\"212.3901\">x_in: LengthValue</text><text fill=\"#000000\" font-family=\"sans-serif\" font-size=\"11\" lengthAdjust=\"spacingAndGlyphs\" textLength=\"107\" x=\"44.5\" y=\"225.1948\">x_out: LengthValue</text><line style=\"stroke: #383838; stroke-width: 1.0;\" x1=\"39.5\" x2=\"86.5\" y1=\"93.3398\" y2=\"93.3398\"/><text fill=\"#000000\" font-family=\"sans-serif\" font-size=\"11\" lengthAdjust=\"spacingAndGlyphs\" textLength=\"55\" x=\"86.5\" y=\"96.6479\">attributes</text><line style=\"stroke: #383838; stroke-width: 1.0;\" x1=\"141.5\" x2=\"188.5\" y1=\"93.3398\" y2=\"93.3398\"/></a><!--MD5=[ebbe1d658d1005bcc118a6aa81145e00]\n",
       "class E4--><a href=\"psysml:60a2becf-7a46-4ebd-946f-3a728f7b6aab\" target=\"_top\" title=\"psysml:60a2becf-7a46-4ebd-946f-3a728f7b6aab\" xlink:actuate=\"onRequest\" xlink:href=\"psysml:60a2becf-7a46-4ebd-946f-3a728f7b6aab\" xlink:show=\"new\" xlink:title=\"psysml:60a2becf-7a46-4ebd-946f-3a728f7b6aab\" xlink:type=\"simple\"><rect fill=\"#FFFFFF\" height=\"45.9375\" id=\"E4\" style=\"stroke: #383838; stroke-width: 1.5;\" width=\"152\" x=\"38\" y=\"292\"/><text fill=\"#000000\" font-family=\"sans-serif\" font-size=\"12\" font-style=\"italic\" lengthAdjust=\"spacingAndGlyphs\" textLength=\"132\" x=\"48\" y=\"308.1387\">«annotatingFeature»</text><text fill=\"#000000\" font-family=\"sans-serif\" font-size=\"12\" lengthAdjust=\"spacingAndGlyphs\" text-decoration=\"line-through\" textLength=\"51\" x=\"41\" y=\"322.1074\">noname</text><text fill=\"#000000\" font-family=\"sans-serif\" font-size=\"12\" lengthAdjust=\"spacingAndGlyphs\" textLength=\"95\" x=\"92\" y=\"322.1074\">: ToolExecution</text><line style=\"stroke: #383838; stroke-width: 1.5;\" x1=\"39\" x2=\"189\" y1=\"329.9375\" y2=\"329.9375\"/></a><!--MD5=[270fce915f116d4de14055a7c1d9a0f3]\n",
       "class E5--><a href=\"psysml:b02ba1b2-12c8-4052-9523-3aa0c79993f0\" target=\"_top\" title=\"psysml:b02ba1b2-12c8-4052-9523-3aa0c79993f0\" xlink:actuate=\"onRequest\" xlink:href=\"psysml:b02ba1b2-12c8-4052-9523-3aa0c79993f0\" xlink:show=\"new\" xlink:title=\"psysml:b02ba1b2-12c8-4052-9523-3aa0c79993f0\" xlink:type=\"simple\"><rect fill=\"#FFFFFF\" height=\"45.9375\" id=\"E5\" style=\"stroke: #383838; stroke-width: 1.5;\" width=\"126\" x=\"32\" y=\"398\"/><text fill=\"#000000\" font-family=\"sans-serif\" font-size=\"12\" font-style=\"italic\" lengthAdjust=\"spacingAndGlyphs\" textLength=\"124\" x=\"33\" y=\"414.1387\">«metadataFeature»</text><text fill=\"#000000\" font-family=\"sans-serif\" font-size=\"12\" lengthAdjust=\"spacingAndGlyphs\" textLength=\"60\" x=\"65\" y=\"428.1074\">toolName</text><line style=\"stroke: #383838; stroke-width: 1.5;\" x1=\"33\" x2=\"157\" y1=\"435.9375\" y2=\"435.9375\"/></a><!--MD5=[60a26617385b1d2d0262a64233df1f8d]\n",
       "class E6--><a href=\"psysml:cb4006f5-0e41-4f05-aa2a-a57df33d56ff\" target=\"_top\" title=\"psysml:cb4006f5-0e41-4f05-aa2a-a57df33d56ff\" xlink:actuate=\"onRequest\" xlink:href=\"psysml:cb4006f5-0e41-4f05-aa2a-a57df33d56ff\" xlink:show=\"new\" xlink:title=\"psysml:cb4006f5-0e41-4f05-aa2a-a57df33d56ff\" xlink:type=\"simple\"><rect fill=\"#FFFFFF\" height=\"45.9375\" id=\"E6\" style=\"stroke: #383838; stroke-width: 1.5;\" width=\"126\" x=\"193\" y=\"398\"/><text fill=\"#000000\" font-family=\"sans-serif\" font-size=\"12\" font-style=\"italic\" lengthAdjust=\"spacingAndGlyphs\" textLength=\"124\" x=\"194\" y=\"414.1387\">«metadataFeature»</text><text fill=\"#000000\" font-family=\"sans-serif\" font-size=\"12\" lengthAdjust=\"spacingAndGlyphs\" textLength=\"16\" x=\"248\" y=\"428.1074\">uri</text><line style=\"stroke: #383838; stroke-width: 1.5;\" x1=\"194\" x2=\"318\" y1=\"435.9375\" y2=\"435.9375\"/></a><!--MD5=[4672eba38e49728da53d11aeb285b987]\n",
       "reverse link E3 to E4--><a href=\"psysml:66d6f7e6-2188-4a34-9637-6b4b270c496c\" target=\"_top\" title=\"psysml:66d6f7e6-2188-4a34-9637-6b4b270c496c\" xlink:actuate=\"onRequest\" xlink:href=\"psysml:66d6f7e6-2188-4a34-9637-6b4b270c496c\" xlink:show=\"new\" xlink:title=\"psysml:66d6f7e6-2188-4a34-9637-6b4b270c496c\" xlink:type=\"simple\"><path d=\"M114,247.28 C114,264.19 114,279.97 114,291.94 \" fill=\"none\" id=\"E3&lt;-E4\" style=\"stroke: #383838; stroke-width: 1.0;\"/><ellipse cx=\"114\" cy=\"240.21\" fill=\"#FFFFFF\" rx=\"8\" ry=\"8\" style=\"stroke: #383838; stroke-width: 1.0;\"/><line style=\"stroke: #383838; stroke-width: 1.0;\" x1=\"114\" x2=\"114\" y1=\"248.21\" y2=\"232.21\"/><line style=\"stroke: #383838; stroke-width: 1.0;\" x1=\"106\" x2=\"122\" y1=\"240.21\" y2=\"240.21\"/></a><!--MD5=[62aa6af11e70f752912c1cb0466f24f7]\n",
       "reverse link E4 to E5--><a href=\"psysml:4336f8bf-5a73-49a4-a706-8a85ff7218c2\" target=\"_top\" title=\"psysml:4336f8bf-5a73-49a4-a706-8a85ff7218c2\" xlink:actuate=\"onRequest\" xlink:href=\"psysml:4336f8bf-5a73-49a4-a706-8a85ff7218c2\" xlink:show=\"new\" xlink:title=\"psysml:4336f8bf-5a73-49a4-a706-8a85ff7218c2\" xlink:type=\"simple\"><path d=\"M107.61,350.96 C104.77,366.51 101.52,384.33 99.02,397.98 \" fill=\"none\" id=\"E4&lt;-E5\" style=\"stroke: #383838; stroke-width: 1.0;\"/><polygon fill=\"#383838\" points=\"109.97,338.06,104.9597,343.2462,107.8199,349.8658,112.8302,344.6796,109.97,338.06\" style=\"stroke: #383838; stroke-width: 1.0;\"/></a><!--MD5=[6db378b65e1aef66a01cb3103812b399]\n",
       "reverse link E4 to E6--><a href=\"psysml:14217a47-d828-403c-a59e-1cb114a87a2b\" target=\"_top\" title=\"psysml:14217a47-d828-403c-a59e-1cb114a87a2b\" xlink:actuate=\"onRequest\" xlink:href=\"psysml:14217a47-d828-403c-a59e-1cb114a87a2b\" xlink:show=\"new\" xlink:title=\"psysml:14217a47-d828-403c-a59e-1cb114a87a2b\" xlink:type=\"simple\"><path d=\"M154.79,345.88 C177.48,362.49 205.23,382.82 225.93,397.98 \" fill=\"none\" id=\"E4&lt;-E6\" style=\"stroke: #383838; stroke-width: 1.0;\"/><polygon fill=\"#383838\" points=\"144.11,338.06,146.5846,344.8332,153.7885,345.1541,151.314,338.3809,144.11,338.06\" style=\"stroke: #383838; stroke-width: 1.0;\"/></a><!--MD5=[b6abaada4305af64a9a95bd443eacf59]\n",
       "@startuml\r\n",
       "skinparam monochrome true\r\n",
       "skinparam classbackgroundcolor white\r\n",
       "skinparam shadowing false\r\n",
       "skinparam wrapWidth 300\r\n",
       "hide circle\r\n",
       "\r\n",
       "package \"AnalysisAnnotation\" as E1  [[psysml:3f9dd228-0d59-436f-8c66-7bfaf74317e1 ]]  {\r\n",
       "comp def \"Real\" as E2  <<(T,blue)dataType>> [[psysml:44eddca9-682f-4ef7-a7c7-a9f194d7f2c9 ]] {\r\n",
       "}\r\n",
       "comp def \"ComputeDynamics\" as E3  <<(T,blue)action def>> [[psysml:e73f4f0e-f2f2-491a-ad18-2354ebab0714 ]] {\r\n",
       "- - attributes - -\r\n",
       "Cd: Real\r\n",
       "Cf: Real\r\n",
       "a_out: AccelerationValue\r\n",
       "dt: DurationValue\r\n",
       "tm: MassValue\r\n",
       "v_in: SpeedValue\r\n",
       "v_out: SpeedValue\r\n",
       "whlpwr: PowerValue\r\n",
       "x_in: LengthValue\r\n",
       "x_out: LengthValue\r\n",
       "}\r\n",
       "comp def \"<s>noname</s>: ToolExecution\" as E4  <<(T,blue)annotatingFeature>> [[psysml:60a2becf-7a46-4ebd-946f-3a728f7b6aab ]] {\r\n",
       "}\r\n",
       "comp def \"toolName\" as E5  <<(T,blue)metadataFeature>> [[psysml:b02ba1b2-12c8-4052-9523-3aa0c79993f0 ]] {\r\n",
       "}\r\n",
       "comp def \"uri\" as E6  <<(T,blue)metadataFeature>> [[psysml:cb4006f5-0e41-4f05-aa2a-a57df33d56ff ]] {\r\n",
       "}\r\n",
       "E3 +- - E4 [[psysml:66d6f7e6-2188-4a34-9637-6b4b270c496c ]] \r\n",
       "E4 *- - E5 [[psysml:4336f8bf-5a73-49a4-a706-8a85ff7218c2 ]] \r\n",
       "E4 *- - E6 [[psysml:14217a47-d828-403c-a59e-1cb114a87a2b ]] \r\n",
       "}\r\n",
       "@enduml\r\n",
       "\n",
       "PlantUML version 1.2020.13(Sat Jun 13 12:26:38 UTC 2020)\n",
       "(EPL source distribution)\n",
       "Java Runtime: OpenJDK Runtime Environment\n",
       "JVM: OpenJDK 64-Bit Server VM\n",
       "Default Encoding: UTF-8\n",
       "Language: en\n",
       "Country: null\n",
       "--></g></svg>"
      ]
     },
     "execution_count": 38,
     "metadata": {},
     "output_type": "execute_result"
    }
   ],
   "source": [
    "%viz --style=\"DEFAULT\" --view=\"Tree\" \"AnalysisAnnotation\""
   ]
  },
  {
   "cell_type": "code",
   "execution_count": 39,
   "id": "c3686bb8",
   "metadata": {
    "execution": {
     "iopub.execute_input": "2021-04-20T07:28:17.906271Z",
     "iopub.status.busy": "2021-04-20T07:28:17.905559Z",
     "iopub.status.idle": "2021-04-20T07:28:17.915300Z",
     "shell.execute_reply": "2021-04-20T07:28:17.914687Z"
    }
   },
   "outputs": [
    {
     "data": {
      "image/svg+xml": [
       "<?xml version=\"1.0\" encoding=\"UTF-8\" standalone=\"no\"?><svg xmlns=\"http://www.w3.org/2000/svg\" xmlns:xlink=\"http://www.w3.org/1999/xlink\" contentScriptType=\"application/ecmascript\" contentStyleType=\"text/css\" height=\"12px\" preserveAspectRatio=\"none\" style=\"width:12px;height:12px;\" version=\"1.1\" viewBox=\"0 0 12 12\" width=\"12px\" zoomAndPan=\"magnify\"><defs/><g><!--MD5=[c5f280e076d0d61ccf4b0f27871bda1d]\n",
       "@startuml\r\n",
       "skinparam monochrome true\r\n",
       "skinparam classbackgroundcolor white\r\n",
       "skinparam shadowing false\r\n",
       "skinparam wrapWidth 300\r\n",
       "hide circle\r\n",
       "\r\n",
       "@enduml\r\n",
       "\n",
       "PlantUML version 1.2020.13(Sat Jun 13 12:26:38 UTC 2020)\n",
       "(EPL source distribution)\n",
       "Java Runtime: OpenJDK Runtime Environment\n",
       "JVM: OpenJDK 64-Bit Server VM\n",
       "Default Encoding: UTF-8\n",
       "Language: en\n",
       "Country: null\n",
       "--></g></svg>"
      ]
     },
     "execution_count": 39,
     "metadata": {},
     "output_type": "execute_result"
    }
   ],
   "source": [
    "%viz --style=\"DEFAULT\" --view=\"State\" \"AnalysisAnnotation\""
   ]
  },
  {
   "cell_type": "code",
   "execution_count": 40,
   "id": "1a73d08a",
   "metadata": {
    "execution": {
     "iopub.execute_input": "2021-04-20T07:28:17.964688Z",
     "iopub.status.busy": "2021-04-20T07:28:17.963676Z",
     "iopub.status.idle": "2021-04-20T07:28:18.022409Z",
     "shell.execute_reply": "2021-04-20T07:28:18.019833Z"
    }
   },
   "outputs": [
    {
     "data": {
      "image/svg+xml": [
       "<?xml version=\"1.0\" encoding=\"UTF-8\" standalone=\"no\"?><svg xmlns=\"http://www.w3.org/2000/svg\" xmlns:xlink=\"http://www.w3.org/1999/xlink\" contentScriptType=\"application/ecmascript\" contentStyleType=\"text/css\" height=\"209px\" preserveAspectRatio=\"none\" style=\"width:486px;height:209px;\" version=\"1.1\" viewBox=\"0 0 486 209\" width=\"486px\" zoomAndPan=\"magnify\"><defs/><g><!--MD5=[fbc87193dbaf4d95561dea2c320d4a47]\n",
       "cluster E1--><a href=\"psysml:3f9dd228-0d59-436f-8c66-7bfaf74317e1\" target=\"_top\" title=\"psysml:3f9dd228-0d59-436f-8c66-7bfaf74317e1\" xlink:actuate=\"onRequest\" xlink:href=\"psysml:3f9dd228-0d59-436f-8c66-7bfaf74317e1\" xlink:show=\"new\" xlink:title=\"psysml:3f9dd228-0d59-436f-8c66-7bfaf74317e1\" xlink:type=\"simple\"><polygon fill=\"#FFFFFF\" points=\"16,6,173,6,180,28.2969,464,28.2969,464,197.72,16,197.72,16,6\" style=\"stroke: #000000; stroke-width: 1.5;\"/><line style=\"stroke: #000000; stroke-width: 1.5;\" x1=\"16\" x2=\"180\" y1=\"28.2969\" y2=\"28.2969\"/><text fill=\"#000000\" font-family=\"sans-serif\" font-size=\"14\" font-weight=\"bold\" lengthAdjust=\"spacingAndGlyphs\" textLength=\"151\" x=\"20\" y=\"20.9951\">AnalysisAnnotation</text></a><!--MD5=[d5e69f78d87373223dbae638b30a9c99]\n",
       "cluster E3--><a href=\"psysml:e73f4f0e-f2f2-491a-ad18-2354ebab0714\" target=\"_top\" title=\"psysml:e73f4f0e-f2f2-491a-ad18-2354ebab0714\" xlink:actuate=\"onRequest\" xlink:href=\"psysml:e73f4f0e-f2f2-491a-ad18-2354ebab0714\" xlink:show=\"new\" xlink:title=\"psysml:e73f4f0e-f2f2-491a-ad18-2354ebab0714\" xlink:type=\"simple\"><rect fill=\"#FFFFFF\" height=\"105.22\" id=\"E3\" style=\"stroke: #383838; stroke-width: 1.5;\" width=\"318\" x=\"134\" y=\"62.5\"/><rect fill=\"#F8F8F8\" height=\"37.9375\" style=\"stroke: #383838; stroke-width: 1.5;\" width=\"318\" x=\"134\" y=\"62.5\"/><text fill=\"#000000\" font-family=\"sans-serif\" font-size=\"12\" font-style=\"italic\" lengthAdjust=\"spacingAndGlyphs\" textLength=\"77\" x=\"254.5\" y=\"78.6387\">«action def»</text><text fill=\"#000000\" font-family=\"sans-serif\" font-size=\"12\" lengthAdjust=\"spacingAndGlyphs\" textLength=\"115\" x=\"235.5\" y=\"92.6074\">ComputeDynamics</text></a><g id=\"E1.E2\"><a href=\"psysml:44eddca9-682f-4ef7-a7c7-a9f194d7f2c9\" target=\"_top\" title=\"psysml:44eddca9-682f-4ef7-a7c7-a9f194d7f2c9\" xlink:actuate=\"onRequest\" xlink:href=\"psysml:44eddca9-682f-4ef7-a7c7-a9f194d7f2c9\" xlink:show=\"new\" xlink:title=\"psysml:44eddca9-682f-4ef7-a7c7-a9f194d7f2c9\" xlink:type=\"simple\"><rect fill=\"#FFFFFF\" height=\"42.9375\" id=\"E2\" style=\"stroke: #383838; stroke-width: 1.5;\" width=\"79\" x=\"31.5\" y=\"41\"/><rect fill=\"#F8F8F8\" height=\"37.9375\" style=\"stroke: #383838; stroke-width: 1.5;\" width=\"79\" x=\"31.5\" y=\"41\"/><text fill=\"#000000\" font-family=\"sans-serif\" font-size=\"12\" font-style=\"italic\" lengthAdjust=\"spacingAndGlyphs\" textLength=\"72\" x=\"35\" y=\"57.1387\">«dataType»</text><text fill=\"#000000\" font-family=\"sans-serif\" font-size=\"12\" lengthAdjust=\"spacingAndGlyphs\" textLength=\"27\" x=\"57.5\" y=\"71.1074\">Real</text></a></g><text fill=\"#000000\" font-family=\"sans-serif\" font-size=\"14\" lengthAdjust=\"spacingAndGlyphs\" textLength=\"48\" x=\"174\" y=\"186.7151\">$result</text><rect fill=\"#383838\" height=\"12\" style=\"stroke: #F8F8F8; stroke-width: 1.5;\" width=\"12\" x=\"192\" y=\"161.72\"/><text fill=\"#000000\" font-family=\"sans-serif\" font-size=\"14\" lengthAdjust=\"spacingAndGlyphs\" textLength=\"48\" x=\"221\" y=\"186.7151\">$result</text><rect fill=\"#383838\" height=\"12\" style=\"stroke: #F8F8F8; stroke-width: 1.5;\" width=\"12\" x=\"239\" y=\"161.72\"/><text fill=\"#000000\" font-family=\"sans-serif\" font-size=\"14\" lengthAdjust=\"spacingAndGlyphs\" textLength=\"14\" x=\"145\" y=\"41.1982\">dt</text><rect fill=\"#383838\" height=\"12\" style=\"stroke: #F8F8F8; stroke-width: 1.5;\" width=\"12\" x=\"146\" y=\"56.5\"/><text fill=\"#000000\" font-family=\"sans-serif\" font-size=\"14\" lengthAdjust=\"spacingAndGlyphs\" textLength=\"48\" x=\"175\" y=\"41.1982\">whlpwr</text><rect fill=\"#383838\" height=\"12\" style=\"stroke: #F8F8F8; stroke-width: 1.5;\" width=\"12\" x=\"193\" y=\"56.5\"/><text fill=\"#000000\" font-family=\"sans-serif\" font-size=\"14\" lengthAdjust=\"spacingAndGlyphs\" textLength=\"19\" x=\"236.5\" y=\"41.1982\">Cd</text><rect fill=\"#383838\" height=\"12\" style=\"stroke: #F8F8F8; stroke-width: 1.5;\" width=\"12\" x=\"240\" y=\"56.5\"/><text fill=\"#000000\" font-family=\"sans-serif\" font-size=\"14\" lengthAdjust=\"spacingAndGlyphs\" textLength=\"14\" x=\"286\" y=\"41.1982\">Cf</text><rect fill=\"#383838\" height=\"12\" style=\"stroke: #F8F8F8; stroke-width: 1.5;\" width=\"12\" x=\"287\" y=\"56.5\"/><text fill=\"#000000\" font-family=\"sans-serif\" font-size=\"14\" lengthAdjust=\"spacingAndGlyphs\" textLength=\"18\" x=\"331\" y=\"41.1982\">tm</text><rect fill=\"#383838\" height=\"12\" style=\"stroke: #F8F8F8; stroke-width: 1.5;\" width=\"12\" x=\"334\" y=\"56.5\"/><text fill=\"#000000\" font-family=\"sans-serif\" font-size=\"14\" lengthAdjust=\"spacingAndGlyphs\" textLength=\"26\" x=\"374\" y=\"41.1982\">v_in</text><rect fill=\"#383838\" height=\"12\" style=\"stroke: #F8F8F8; stroke-width: 1.5;\" width=\"12\" x=\"381\" y=\"56.5\"/><text fill=\"#000000\" font-family=\"sans-serif\" font-size=\"14\" lengthAdjust=\"spacingAndGlyphs\" textLength=\"26\" x=\"421\" y=\"41.1982\">x_in</text><rect fill=\"#383838\" height=\"12\" style=\"stroke: #F8F8F8; stroke-width: 1.5;\" width=\"12\" x=\"428\" y=\"56.5\"/><text fill=\"#000000\" font-family=\"sans-serif\" font-size=\"14\" lengthAdjust=\"spacingAndGlyphs\" textLength=\"38\" x=\"273\" y=\"186.7151\">a_out</text><rect fill=\"#383838\" height=\"12\" style=\"stroke: #F8F8F8; stroke-width: 1.5;\" width=\"12\" x=\"286\" y=\"161.72\"/><text fill=\"#000000\" font-family=\"sans-serif\" font-size=\"14\" lengthAdjust=\"spacingAndGlyphs\" textLength=\"37\" x=\"320.5\" y=\"186.7151\">v_out</text><rect fill=\"#383838\" height=\"12\" style=\"stroke: #F8F8F8; stroke-width: 1.5;\" width=\"12\" x=\"333\" y=\"161.72\"/><text fill=\"#000000\" font-family=\"sans-serif\" font-size=\"14\" lengthAdjust=\"spacingAndGlyphs\" textLength=\"37\" x=\"367.5\" y=\"186.7151\">x_out</text><rect fill=\"#383838\" height=\"12\" style=\"stroke: #F8F8F8; stroke-width: 1.5;\" width=\"12\" x=\"380\" y=\"161.72\"/><!--MD5=[114243a7024ca0821983f871cd47e7f4]\n",
       "@startuml\r\n",
       "skinparam ranksep 10\r\n",
       "skinparam rectangle {\r\n",
       " backgroundColor<<block>> LightGreen\r\n",
       "}\r\n",
       "skinparam monochrome true\r\n",
       "skinparam classbackgroundcolor white\r\n",
       "skinparam shadowing false\r\n",
       "skinparam wrapWidth 300\r\n",
       "hide circle\r\n",
       "\r\n",
       "package \"AnalysisAnnotation\" as E1  [[psysml:3f9dd228-0d59-436f-8c66-7bfaf74317e1 ]]  {\r\n",
       "def \"Real\" as E2  <<(T,blue)dataType>> [[psysml:44eddca9-682f-4ef7-a7c7-a9f194d7f2c9 ]] \r\n",
       "rec def \"ComputeDynamics\" as E3  <<(T,blue)action def>> [[psysml:e73f4f0e-f2f2-491a-ad18-2354ebab0714 ]] {\r\n",
       "portout \"$result\" as E4  [[psysml:321a5472-f26a-4f44-adf1-e887f248e10c ]] \r\n",
       "portout \"$result\" as E5  [[psysml:249d7fd3-af20-489f-a52b-b6c298227647 ]] \r\n",
       "portin \"dt\" as E6  [[psysml:d9dfe931-1109-47e6-bc0c-352db24577b0 ]] \r\n",
       "portin \"whlpwr\" as E7  [[psysml:44277f67-022c-45f6-9760-98798ee04e09 ]] \r\n",
       "portin \"Cd\" as E8  [[psysml:41d96645-5d65-4e32-85e5-332077e108f6 ]] \r\n",
       "portin \"Cf\" as E9  [[psysml:aebf7dc6-628a-4d75-a952-13ccca53817c ]] \r\n",
       "portin \"tm\" as E10  [[psysml:08dba41b-e930-4b20-afae-ef7ae15f00ec ]] \r\n",
       "portin \"v_in\" as E11  [[psysml:e3f3c5a0-ed9d-41a6-a918-fe4a600fe261 ]] \r\n",
       "portin \"x_in\" as E12  [[psysml:fb3fca97-7004-4d76-8828-7714499f1454 ]] \r\n",
       "portout \"a_out\" as E13  [[psysml:5a710766-56b6-4c7a-9ae9-326b3f7572a8 ]] \r\n",
       "portout \"v_out\" as E14  [[psysml:1e62abd8-4172-4662-8f1c-1e7c30e8c54c ]] \r\n",
       "portout \"x_out\" as E15  [[psysml:e4c640c8-309e-4572-81b1-e78594ed37ec ]] \r\n",
       "}\r\n",
       "\r\n",
       "}\r\n",
       "@enduml\r\n",
       "\n",
       "PlantUML version 1.2020.13(Sat Jun 13 12:26:38 UTC 2020)\n",
       "(EPL source distribution)\n",
       "Java Runtime: OpenJDK Runtime Environment\n",
       "JVM: OpenJDK 64-Bit Server VM\n",
       "Default Encoding: UTF-8\n",
       "Language: en\n",
       "Country: null\n",
       "--></g></svg>"
      ]
     },
     "execution_count": 40,
     "metadata": {},
     "output_type": "execute_result"
    }
   ],
   "source": [
    "%viz --style=\"DEFAULT\" --view=\"Interconnection\" \"AnalysisAnnotation\""
   ]
  },
  {
   "cell_type": "code",
   "execution_count": 41,
   "id": "fe2dc27e",
   "metadata": {
    "execution": {
     "iopub.execute_input": "2021-04-20T07:28:18.070875Z",
     "iopub.status.busy": "2021-04-20T07:28:18.070242Z",
     "iopub.status.idle": "2021-04-20T07:28:18.118920Z",
     "shell.execute_reply": "2021-04-20T07:28:18.114150Z"
    }
   },
   "outputs": [
    {
     "data": {
      "image/svg+xml": [
       "<?xml version=\"1.0\" encoding=\"UTF-8\" standalone=\"no\"?><svg xmlns=\"http://www.w3.org/2000/svg\" xmlns:xlink=\"http://www.w3.org/1999/xlink\" contentScriptType=\"application/ecmascript\" contentStyleType=\"text/css\" height=\"162px\" preserveAspectRatio=\"none\" style=\"width:336px;height:162px;\" version=\"1.1\" viewBox=\"0 0 336 162\" width=\"336px\" zoomAndPan=\"magnify\"><defs/><g><!--MD5=[fbc87193dbaf4d95561dea2c320d4a47]\n",
       "cluster E1--><a href=\"psysml:e73f4f0e-f2f2-491a-ad18-2354ebab0714\" target=\"_top\" title=\"psysml:e73f4f0e-f2f2-491a-ad18-2354ebab0714\" xlink:actuate=\"onRequest\" xlink:href=\"psysml:e73f4f0e-f2f2-491a-ad18-2354ebab0714\" xlink:show=\"new\" xlink:title=\"psysml:e73f4f0e-f2f2-491a-ad18-2354ebab0714\" xlink:type=\"simple\"><rect fill=\"#FFFFFF\" height=\"87.72\" id=\"E1\" style=\"stroke: #383838; stroke-width: 1.5;\" width=\"318\" x=\"7\" y=\"42.0986\"/><rect fill=\"#F8F8F8\" height=\"37.9375\" style=\"stroke: #383838; stroke-width: 1.5;\" width=\"318\" x=\"7\" y=\"42.0986\"/><text fill=\"#000000\" font-family=\"sans-serif\" font-size=\"12\" font-style=\"italic\" lengthAdjust=\"spacingAndGlyphs\" textLength=\"77\" x=\"127.5\" y=\"58.2373\">«action def»</text><text fill=\"#000000\" font-family=\"sans-serif\" font-size=\"12\" lengthAdjust=\"spacingAndGlyphs\" textLength=\"115\" x=\"108.5\" y=\"72.2061\">ComputeDynamics</text></a><text fill=\"#000000\" font-family=\"sans-serif\" font-size=\"14\" lengthAdjust=\"spacingAndGlyphs\" textLength=\"48\" x=\"47\" y=\"148.8138\">$result</text><rect fill=\"#383838\" height=\"12\" style=\"stroke: #F8F8F8; stroke-width: 1.5;\" width=\"12\" x=\"65\" y=\"123.8186\"/><text fill=\"#000000\" font-family=\"sans-serif\" font-size=\"14\" lengthAdjust=\"spacingAndGlyphs\" textLength=\"48\" x=\"94\" y=\"148.8138\">$result</text><rect fill=\"#383838\" height=\"12\" style=\"stroke: #F8F8F8; stroke-width: 1.5;\" width=\"12\" x=\"112\" y=\"123.8186\"/><text fill=\"#000000\" font-family=\"sans-serif\" font-size=\"14\" lengthAdjust=\"spacingAndGlyphs\" textLength=\"14\" x=\"18\" y=\"20.7969\">dt</text><rect fill=\"#383838\" height=\"12\" style=\"stroke: #F8F8F8; stroke-width: 1.5;\" width=\"12\" x=\"19\" y=\"36.0986\"/><text fill=\"#000000\" font-family=\"sans-serif\" font-size=\"14\" lengthAdjust=\"spacingAndGlyphs\" textLength=\"48\" x=\"48\" y=\"20.7969\">whlpwr</text><rect fill=\"#383838\" height=\"12\" style=\"stroke: #F8F8F8; stroke-width: 1.5;\" width=\"12\" x=\"66\" y=\"36.0986\"/><text fill=\"#000000\" font-family=\"sans-serif\" font-size=\"14\" lengthAdjust=\"spacingAndGlyphs\" textLength=\"19\" x=\"109.5\" y=\"20.7969\">Cd</text><rect fill=\"#383838\" height=\"12\" style=\"stroke: #F8F8F8; stroke-width: 1.5;\" width=\"12\" x=\"113\" y=\"36.0986\"/><text fill=\"#000000\" font-family=\"sans-serif\" font-size=\"14\" lengthAdjust=\"spacingAndGlyphs\" textLength=\"14\" x=\"159\" y=\"20.7969\">Cf</text><rect fill=\"#383838\" height=\"12\" style=\"stroke: #F8F8F8; stroke-width: 1.5;\" width=\"12\" x=\"160\" y=\"36.0986\"/><text fill=\"#000000\" font-family=\"sans-serif\" font-size=\"14\" lengthAdjust=\"spacingAndGlyphs\" textLength=\"18\" x=\"204\" y=\"20.7969\">tm</text><rect fill=\"#383838\" height=\"12\" style=\"stroke: #F8F8F8; stroke-width: 1.5;\" width=\"12\" x=\"207\" y=\"36.0986\"/><text fill=\"#000000\" font-family=\"sans-serif\" font-size=\"14\" lengthAdjust=\"spacingAndGlyphs\" textLength=\"26\" x=\"247\" y=\"20.7969\">v_in</text><rect fill=\"#383838\" height=\"12\" style=\"stroke: #F8F8F8; stroke-width: 1.5;\" width=\"12\" x=\"254\" y=\"36.0986\"/><text fill=\"#000000\" font-family=\"sans-serif\" font-size=\"14\" lengthAdjust=\"spacingAndGlyphs\" textLength=\"26\" x=\"294\" y=\"20.7969\">x_in</text><rect fill=\"#383838\" height=\"12\" style=\"stroke: #F8F8F8; stroke-width: 1.5;\" width=\"12\" x=\"301\" y=\"36.0986\"/><text fill=\"#000000\" font-family=\"sans-serif\" font-size=\"14\" lengthAdjust=\"spacingAndGlyphs\" textLength=\"38\" x=\"146\" y=\"148.8138\">a_out</text><rect fill=\"#383838\" height=\"12\" style=\"stroke: #F8F8F8; stroke-width: 1.5;\" width=\"12\" x=\"159\" y=\"123.8186\"/><text fill=\"#000000\" font-family=\"sans-serif\" font-size=\"14\" lengthAdjust=\"spacingAndGlyphs\" textLength=\"37\" x=\"193.5\" y=\"148.8138\">v_out</text><rect fill=\"#383838\" height=\"12\" style=\"stroke: #F8F8F8; stroke-width: 1.5;\" width=\"12\" x=\"206\" y=\"123.8186\"/><text fill=\"#000000\" font-family=\"sans-serif\" font-size=\"14\" lengthAdjust=\"spacingAndGlyphs\" textLength=\"37\" x=\"240.5\" y=\"148.8138\">x_out</text><rect fill=\"#383838\" height=\"12\" style=\"stroke: #F8F8F8; stroke-width: 1.5;\" width=\"12\" x=\"253\" y=\"123.8186\"/><!--MD5=[e717382529623d378191add28991ccaa]\n",
       "@startuml\r\n",
       "skinparam ranksep 8\r\n",
       "skinparam monochrome true\r\n",
       "skinparam classbackgroundcolor white\r\n",
       "skinparam shadowing false\r\n",
       "skinparam wrapWidth 300\r\n",
       "hide circle\r\n",
       "\r\n",
       "rec def \"ComputeDynamics\" as E1  <<(T,blue)action def>> [[psysml:e73f4f0e-f2f2-491a-ad18-2354ebab0714 ]] {\r\n",
       "portout \"$result\" as E2  [[psysml:321a5472-f26a-4f44-adf1-e887f248e10c ]] \r\n",
       "portout \"$result\" as E3  [[psysml:249d7fd3-af20-489f-a52b-b6c298227647 ]] \r\n",
       "portin \"dt\" as E4  [[psysml:d9dfe931-1109-47e6-bc0c-352db24577b0 ]] \r\n",
       "portin \"whlpwr\" as E5  [[psysml:44277f67-022c-45f6-9760-98798ee04e09 ]] \r\n",
       "portin \"Cd\" as E6  [[psysml:41d96645-5d65-4e32-85e5-332077e108f6 ]] \r\n",
       "portin \"Cf\" as E7  [[psysml:aebf7dc6-628a-4d75-a952-13ccca53817c ]] \r\n",
       "portin \"tm\" as E8  [[psysml:08dba41b-e930-4b20-afae-ef7ae15f00ec ]] \r\n",
       "portin \"v_in\" as E9  [[psysml:e3f3c5a0-ed9d-41a6-a918-fe4a600fe261 ]] \r\n",
       "portin \"x_in\" as E10  [[psysml:fb3fca97-7004-4d76-8828-7714499f1454 ]] \r\n",
       "portout \"a_out\" as E11  [[psysml:5a710766-56b6-4c7a-9ae9-326b3f7572a8 ]] \r\n",
       "portout \"v_out\" as E12  [[psysml:1e62abd8-4172-4662-8f1c-1e7c30e8c54c ]] \r\n",
       "portout \"x_out\" as E13  [[psysml:e4c640c8-309e-4572-81b1-e78594ed37ec ]] \r\n",
       "}\r\n",
       "\r\n",
       "@enduml\r\n",
       "\n",
       "PlantUML version 1.2020.13(Sat Jun 13 12:26:38 UTC 2020)\n",
       "(EPL source distribution)\n",
       "Java Runtime: OpenJDK Runtime Environment\n",
       "JVM: OpenJDK 64-Bit Server VM\n",
       "Default Encoding: UTF-8\n",
       "Language: en\n",
       "Country: null\n",
       "--></g></svg>"
      ]
     },
     "execution_count": 41,
     "metadata": {},
     "output_type": "execute_result"
    }
   ],
   "source": [
    "%viz --style=\"DEFAULT\" --view=\"Action\" \"AnalysisAnnotation\""
   ]
  },
  {
   "cell_type": "code",
   "execution_count": 42,
   "id": "6801f85b",
   "metadata": {
    "execution": {
     "iopub.execute_input": "2021-04-20T07:28:18.164547Z",
     "iopub.status.busy": "2021-04-20T07:28:18.163821Z",
     "iopub.status.idle": "2021-04-20T07:28:18.342236Z",
     "shell.execute_reply": "2021-04-20T07:28:18.340572Z"
    }
   },
   "outputs": [
    {
     "data": {
      "image/svg+xml": [
       "<?xml version=\"1.0\" encoding=\"UTF-8\" standalone=\"no\"?><svg xmlns=\"http://www.w3.org/2000/svg\" xmlns:xlink=\"http://www.w3.org/1999/xlink\" contentScriptType=\"application/ecmascript\" contentStyleType=\"text/css\" height=\"472px\" preserveAspectRatio=\"none\" style=\"width:357px;height:472px;\" version=\"1.1\" viewBox=\"0 0 357 472\" width=\"357px\" zoomAndPan=\"magnify\"><defs/><g><!--MD5=[fbc87193dbaf4d95561dea2c320d4a47]\n",
       "cluster E1--><a href=\"psysml:3f9dd228-0d59-436f-8c66-7bfaf74317e1\" target=\"_top\" title=\"psysml:3f9dd228-0d59-436f-8c66-7bfaf74317e1\" xlink:actuate=\"onRequest\" xlink:href=\"psysml:3f9dd228-0d59-436f-8c66-7bfaf74317e1\" xlink:show=\"new\" xlink:title=\"psysml:3f9dd228-0d59-436f-8c66-7bfaf74317e1\" xlink:type=\"simple\"><polygon fill=\"#FFFFFF\" points=\"16,6,173,6,180,28.2969,335,28.2969,335,460,16,460,16,6\" style=\"stroke: #000000; stroke-width: 1.5;\"/><line style=\"stroke: #000000; stroke-width: 1.5;\" x1=\"16\" x2=\"180\" y1=\"28.2969\" y2=\"28.2969\"/><text fill=\"#000000\" font-family=\"sans-serif\" font-size=\"14\" font-weight=\"bold\" lengthAdjust=\"spacingAndGlyphs\" textLength=\"151\" x=\"20\" y=\"20.9951\">AnalysisAnnotation</text></a><!--MD5=[b4997ac47864f28c2f74865a473b2911]\n",
       "class E2--><a href=\"psysml:44eddca9-682f-4ef7-a7c7-a9f194d7f2c9\" target=\"_top\" title=\"psysml:44eddca9-682f-4ef7-a7c7-a9f194d7f2c9\" xlink:actuate=\"onRequest\" xlink:href=\"psysml:44eddca9-682f-4ef7-a7c7-a9f194d7f2c9\" xlink:show=\"new\" xlink:title=\"psysml:44eddca9-682f-4ef7-a7c7-a9f194d7f2c9\" xlink:type=\"simple\"><rect fill=\"#FFFFFF\" height=\"45.9375\" id=\"E2\" style=\"stroke: #383838; stroke-width: 1.5;\" width=\"74\" x=\"238\" y=\"113.5\"/><text fill=\"#000000\" font-family=\"sans-serif\" font-size=\"12\" font-style=\"italic\" lengthAdjust=\"spacingAndGlyphs\" textLength=\"72\" x=\"239\" y=\"129.6387\">«dataType»</text><text fill=\"#000000\" font-family=\"sans-serif\" font-size=\"12\" lengthAdjust=\"spacingAndGlyphs\" textLength=\"27\" x=\"261.5\" y=\"143.6074\">Real</text><line style=\"stroke: #383838; stroke-width: 1.5;\" x1=\"239\" x2=\"311\" y1=\"151.4375\" y2=\"151.4375\"/></a><!--MD5=[09b614a08d8cba4a07c9adeb5e0fee81]\n",
       "class E3--><a href=\"psysml:e73f4f0e-f2f2-491a-ad18-2354ebab0714\" target=\"_top\" title=\"psysml:e73f4f0e-f2f2-491a-ad18-2354ebab0714\" xlink:actuate=\"onRequest\" xlink:href=\"psysml:e73f4f0e-f2f2-491a-ad18-2354ebab0714\" xlink:show=\"new\" xlink:title=\"psysml:e73f4f0e-f2f2-491a-ad18-2354ebab0714\" xlink:type=\"simple\"><rect fill=\"#FFFFFF\" height=\"190.7891\" id=\"E3\" style=\"stroke: #383838; stroke-width: 1.5;\" width=\"151\" x=\"38.5\" y=\"41\"/><text fill=\"#000000\" font-family=\"sans-serif\" font-size=\"12\" font-style=\"italic\" lengthAdjust=\"spacingAndGlyphs\" textLength=\"77\" x=\"75.5\" y=\"57.1387\">«action def»</text><text fill=\"#000000\" font-family=\"sans-serif\" font-size=\"12\" lengthAdjust=\"spacingAndGlyphs\" textLength=\"115\" x=\"56.5\" y=\"71.1074\">ComputeDynamics</text><line style=\"stroke: #383838; stroke-width: 1.5;\" x1=\"39.5\" x2=\"188.5\" y1=\"78.9375\" y2=\"78.9375\"/><text fill=\"#000000\" font-family=\"sans-serif\" font-size=\"11\" lengthAdjust=\"spacingAndGlyphs\" textLength=\"47\" x=\"44.5\" y=\"109.9526\">Cd: Real</text><text fill=\"#000000\" font-family=\"sans-serif\" font-size=\"11\" lengthAdjust=\"spacingAndGlyphs\" textLength=\"44\" x=\"44.5\" y=\"122.7573\">Cf: Real</text><text fill=\"#000000\" font-family=\"sans-serif\" font-size=\"11\" lengthAdjust=\"spacingAndGlyphs\" textLength=\"139\" x=\"44.5\" y=\"135.562\">a_out: AccelerationValue</text><text fill=\"#000000\" font-family=\"sans-serif\" font-size=\"11\" lengthAdjust=\"spacingAndGlyphs\" textLength=\"98\" x=\"44.5\" y=\"148.3667\">dt: DurationValue</text><text fill=\"#000000\" font-family=\"sans-serif\" font-size=\"11\" lengthAdjust=\"spacingAndGlyphs\" textLength=\"84\" x=\"44.5\" y=\"161.1714\">tm: MassValue</text><text fill=\"#000000\" font-family=\"sans-serif\" font-size=\"11\" lengthAdjust=\"spacingAndGlyphs\" textLength=\"97\" x=\"44.5\" y=\"173.9761\">v_in: SpeedValue</text><text fill=\"#000000\" font-family=\"sans-serif\" font-size=\"11\" lengthAdjust=\"spacingAndGlyphs\" textLength=\"105\" x=\"44.5\" y=\"186.7808\">v_out: SpeedValue</text><text fill=\"#000000\" font-family=\"sans-serif\" font-size=\"11\" lengthAdjust=\"spacingAndGlyphs\" textLength=\"114\" x=\"44.5\" y=\"199.5854\">whlpwr: PowerValue</text><text fill=\"#000000\" font-family=\"sans-serif\" font-size=\"11\" lengthAdjust=\"spacingAndGlyphs\" textLength=\"99\" x=\"44.5\" y=\"212.3901\">x_in: LengthValue</text><text fill=\"#000000\" font-family=\"sans-serif\" font-size=\"11\" lengthAdjust=\"spacingAndGlyphs\" textLength=\"107\" x=\"44.5\" y=\"225.1948\">x_out: LengthValue</text><line style=\"stroke: #383838; stroke-width: 1.0;\" x1=\"39.5\" x2=\"86.5\" y1=\"93.3398\" y2=\"93.3398\"/><text fill=\"#000000\" font-family=\"sans-serif\" font-size=\"11\" lengthAdjust=\"spacingAndGlyphs\" textLength=\"55\" x=\"86.5\" y=\"96.6479\">attributes</text><line style=\"stroke: #383838; stroke-width: 1.0;\" x1=\"141.5\" x2=\"188.5\" y1=\"93.3398\" y2=\"93.3398\"/></a><!--MD5=[ebbe1d658d1005bcc118a6aa81145e00]\n",
       "class E4--><a href=\"psysml:60a2becf-7a46-4ebd-946f-3a728f7b6aab\" target=\"_top\" title=\"psysml:60a2becf-7a46-4ebd-946f-3a728f7b6aab\" xlink:actuate=\"onRequest\" xlink:href=\"psysml:60a2becf-7a46-4ebd-946f-3a728f7b6aab\" xlink:show=\"new\" xlink:title=\"psysml:60a2becf-7a46-4ebd-946f-3a728f7b6aab\" xlink:type=\"simple\"><rect fill=\"#FFFFFF\" height=\"45.9375\" id=\"E4\" style=\"stroke: #383838; stroke-width: 1.5;\" width=\"152\" x=\"38\" y=\"292\"/><text fill=\"#000000\" font-family=\"sans-serif\" font-size=\"12\" font-style=\"italic\" lengthAdjust=\"spacingAndGlyphs\" textLength=\"132\" x=\"48\" y=\"308.1387\">«annotatingFeature»</text><text fill=\"#000000\" font-family=\"sans-serif\" font-size=\"12\" lengthAdjust=\"spacingAndGlyphs\" text-decoration=\"line-through\" textLength=\"51\" x=\"41\" y=\"322.1074\">noname</text><text fill=\"#000000\" font-family=\"sans-serif\" font-size=\"12\" lengthAdjust=\"spacingAndGlyphs\" textLength=\"95\" x=\"92\" y=\"322.1074\">: ToolExecution</text><line style=\"stroke: #383838; stroke-width: 1.5;\" x1=\"39\" x2=\"189\" y1=\"329.9375\" y2=\"329.9375\"/></a><!--MD5=[270fce915f116d4de14055a7c1d9a0f3]\n",
       "class E5--><a href=\"psysml:b02ba1b2-12c8-4052-9523-3aa0c79993f0\" target=\"_top\" title=\"psysml:b02ba1b2-12c8-4052-9523-3aa0c79993f0\" xlink:actuate=\"onRequest\" xlink:href=\"psysml:b02ba1b2-12c8-4052-9523-3aa0c79993f0\" xlink:show=\"new\" xlink:title=\"psysml:b02ba1b2-12c8-4052-9523-3aa0c79993f0\" xlink:type=\"simple\"><rect fill=\"#FFFFFF\" height=\"45.9375\" id=\"E5\" style=\"stroke: #383838; stroke-width: 1.5;\" width=\"126\" x=\"32\" y=\"398\"/><text fill=\"#000000\" font-family=\"sans-serif\" font-size=\"12\" font-style=\"italic\" lengthAdjust=\"spacingAndGlyphs\" textLength=\"124\" x=\"33\" y=\"414.1387\">«metadataFeature»</text><text fill=\"#000000\" font-family=\"sans-serif\" font-size=\"12\" lengthAdjust=\"spacingAndGlyphs\" textLength=\"60\" x=\"65\" y=\"428.1074\">toolName</text><line style=\"stroke: #383838; stroke-width: 1.5;\" x1=\"33\" x2=\"157\" y1=\"435.9375\" y2=\"435.9375\"/></a><!--MD5=[60a26617385b1d2d0262a64233df1f8d]\n",
       "class E6--><a href=\"psysml:cb4006f5-0e41-4f05-aa2a-a57df33d56ff\" target=\"_top\" title=\"psysml:cb4006f5-0e41-4f05-aa2a-a57df33d56ff\" xlink:actuate=\"onRequest\" xlink:href=\"psysml:cb4006f5-0e41-4f05-aa2a-a57df33d56ff\" xlink:show=\"new\" xlink:title=\"psysml:cb4006f5-0e41-4f05-aa2a-a57df33d56ff\" xlink:type=\"simple\"><rect fill=\"#FFFFFF\" height=\"45.9375\" id=\"E6\" style=\"stroke: #383838; stroke-width: 1.5;\" width=\"126\" x=\"193\" y=\"398\"/><text fill=\"#000000\" font-family=\"sans-serif\" font-size=\"12\" font-style=\"italic\" lengthAdjust=\"spacingAndGlyphs\" textLength=\"124\" x=\"194\" y=\"414.1387\">«metadataFeature»</text><text fill=\"#000000\" font-family=\"sans-serif\" font-size=\"12\" lengthAdjust=\"spacingAndGlyphs\" textLength=\"16\" x=\"248\" y=\"428.1074\">uri</text><line style=\"stroke: #383838; stroke-width: 1.5;\" x1=\"194\" x2=\"318\" y1=\"435.9375\" y2=\"435.9375\"/></a><!--MD5=[4672eba38e49728da53d11aeb285b987]\n",
       "reverse link E3 to E4--><a href=\"psysml:66d6f7e6-2188-4a34-9637-6b4b270c496c\" target=\"_top\" title=\"psysml:66d6f7e6-2188-4a34-9637-6b4b270c496c\" xlink:actuate=\"onRequest\" xlink:href=\"psysml:66d6f7e6-2188-4a34-9637-6b4b270c496c\" xlink:show=\"new\" xlink:title=\"psysml:66d6f7e6-2188-4a34-9637-6b4b270c496c\" xlink:type=\"simple\"><path d=\"M114,247.28 C114,264.19 114,279.97 114,291.94 \" fill=\"none\" id=\"E3&lt;-E4\" style=\"stroke: #383838; stroke-width: 1.0;\"/><ellipse cx=\"114\" cy=\"240.21\" fill=\"#FFFFFF\" rx=\"8\" ry=\"8\" style=\"stroke: #383838; stroke-width: 1.0;\"/><line style=\"stroke: #383838; stroke-width: 1.0;\" x1=\"114\" x2=\"114\" y1=\"248.21\" y2=\"232.21\"/><line style=\"stroke: #383838; stroke-width: 1.0;\" x1=\"106\" x2=\"122\" y1=\"240.21\" y2=\"240.21\"/></a><!--MD5=[62aa6af11e70f752912c1cb0466f24f7]\n",
       "reverse link E4 to E5--><a href=\"psysml:4336f8bf-5a73-49a4-a706-8a85ff7218c2\" target=\"_top\" title=\"psysml:4336f8bf-5a73-49a4-a706-8a85ff7218c2\" xlink:actuate=\"onRequest\" xlink:href=\"psysml:4336f8bf-5a73-49a4-a706-8a85ff7218c2\" xlink:show=\"new\" xlink:title=\"psysml:4336f8bf-5a73-49a4-a706-8a85ff7218c2\" xlink:type=\"simple\"><path d=\"M107.61,350.96 C104.77,366.51 101.52,384.33 99.02,397.98 \" fill=\"none\" id=\"E4&lt;-E5\" style=\"stroke: #383838; stroke-width: 1.0;\"/><polygon fill=\"#383838\" points=\"109.97,338.06,104.9597,343.2462,107.8199,349.8658,112.8302,344.6796,109.97,338.06\" style=\"stroke: #383838; stroke-width: 1.0;\"/></a><!--MD5=[6db378b65e1aef66a01cb3103812b399]\n",
       "reverse link E4 to E6--><a href=\"psysml:14217a47-d828-403c-a59e-1cb114a87a2b\" target=\"_top\" title=\"psysml:14217a47-d828-403c-a59e-1cb114a87a2b\" xlink:actuate=\"onRequest\" xlink:href=\"psysml:14217a47-d828-403c-a59e-1cb114a87a2b\" xlink:show=\"new\" xlink:title=\"psysml:14217a47-d828-403c-a59e-1cb114a87a2b\" xlink:type=\"simple\"><path d=\"M154.79,345.88 C177.48,362.49 205.23,382.82 225.93,397.98 \" fill=\"none\" id=\"E4&lt;-E6\" style=\"stroke: #383838; stroke-width: 1.0;\"/><polygon fill=\"#383838\" points=\"144.11,338.06,146.5846,344.8332,153.7885,345.1541,151.314,338.3809,144.11,338.06\" style=\"stroke: #383838; stroke-width: 1.0;\"/></a><!--MD5=[b6abaada4305af64a9a95bd443eacf59]\n",
       "@startuml\r\n",
       "skinparam monochrome true\r\n",
       "skinparam classbackgroundcolor white\r\n",
       "skinparam shadowing false\r\n",
       "skinparam wrapWidth 300\r\n",
       "hide circle\r\n",
       "\r\n",
       "package \"AnalysisAnnotation\" as E1  [[psysml:3f9dd228-0d59-436f-8c66-7bfaf74317e1 ]]  {\r\n",
       "comp def \"Real\" as E2  <<(T,blue)dataType>> [[psysml:44eddca9-682f-4ef7-a7c7-a9f194d7f2c9 ]] {\r\n",
       "}\r\n",
       "comp def \"ComputeDynamics\" as E3  <<(T,blue)action def>> [[psysml:e73f4f0e-f2f2-491a-ad18-2354ebab0714 ]] {\r\n",
       "- - attributes - -\r\n",
       "Cd: Real\r\n",
       "Cf: Real\r\n",
       "a_out: AccelerationValue\r\n",
       "dt: DurationValue\r\n",
       "tm: MassValue\r\n",
       "v_in: SpeedValue\r\n",
       "v_out: SpeedValue\r\n",
       "whlpwr: PowerValue\r\n",
       "x_in: LengthValue\r\n",
       "x_out: LengthValue\r\n",
       "}\r\n",
       "comp def \"<s>noname</s>: ToolExecution\" as E4  <<(T,blue)annotatingFeature>> [[psysml:60a2becf-7a46-4ebd-946f-3a728f7b6aab ]] {\r\n",
       "}\r\n",
       "comp def \"toolName\" as E5  <<(T,blue)metadataFeature>> [[psysml:b02ba1b2-12c8-4052-9523-3aa0c79993f0 ]] {\r\n",
       "}\r\n",
       "comp def \"uri\" as E6  <<(T,blue)metadataFeature>> [[psysml:cb4006f5-0e41-4f05-aa2a-a57df33d56ff ]] {\r\n",
       "}\r\n",
       "E3 +- - E4 [[psysml:66d6f7e6-2188-4a34-9637-6b4b270c496c ]] \r\n",
       "E4 *- - E5 [[psysml:4336f8bf-5a73-49a4-a706-8a85ff7218c2 ]] \r\n",
       "E4 *- - E6 [[psysml:14217a47-d828-403c-a59e-1cb114a87a2b ]] \r\n",
       "}\r\n",
       "@enduml\r\n",
       "\n",
       "PlantUML version 1.2020.13(Sat Jun 13 12:26:38 UTC 2020)\n",
       "(EPL source distribution)\n",
       "Java Runtime: OpenJDK Runtime Environment\n",
       "JVM: OpenJDK 64-Bit Server VM\n",
       "Default Encoding: UTF-8\n",
       "Language: en\n",
       "Country: null\n",
       "--></g></svg>"
      ]
     },
     "execution_count": 42,
     "metadata": {},
     "output_type": "execute_result"
    }
   ],
   "source": [
    "%viz --style=\"DEFAULT\" --view=\"Sequence\" \"AnalysisAnnotation\""
   ]
  },
  {
   "cell_type": "code",
   "execution_count": 43,
   "id": "c4f93264",
   "metadata": {
    "execution": {
     "iopub.execute_input": "2021-04-20T07:28:18.393711Z",
     "iopub.status.busy": "2021-04-20T07:28:18.392837Z",
     "iopub.status.idle": "2021-04-20T07:28:18.449072Z",
     "shell.execute_reply": "2021-04-20T07:28:18.446663Z"
    }
   },
   "outputs": [
    {
     "data": {
      "image/svg+xml": [
       "<?xml version=\"1.0\" encoding=\"UTF-8\" standalone=\"no\"?><svg xmlns=\"http://www.w3.org/2000/svg\" xmlns:xlink=\"http://www.w3.org/1999/xlink\" contentScriptType=\"application/ecmascript\" contentStyleType=\"text/css\" height=\"350px\" preserveAspectRatio=\"none\" style=\"width:481px;height:350px;\" version=\"1.1\" viewBox=\"0 0 481 350\" width=\"481px\" zoomAndPan=\"magnify\"><defs/><g><!--MD5=[fbc87193dbaf4d95561dea2c320d4a47]\n",
       "cluster E1--><a href=\"psysml:3f9dd228-0d59-436f-8c66-7bfaf74317e1\" target=\"_top\" title=\"psysml:3f9dd228-0d59-436f-8c66-7bfaf74317e1\" xlink:actuate=\"onRequest\" xlink:href=\"psysml:3f9dd228-0d59-436f-8c66-7bfaf74317e1\" xlink:show=\"new\" xlink:title=\"psysml:3f9dd228-0d59-436f-8c66-7bfaf74317e1\" xlink:type=\"simple\"><polygon fill=\"#FFFFFF\" points=\"16,6,173,6,180,28.2969,459,28.2969,459,338.72,16,338.72,16,6\" style=\"stroke: #000000; stroke-width: 1.5;\"/><line style=\"stroke: #000000; stroke-width: 1.5;\" x1=\"16\" x2=\"180\" y1=\"28.2969\" y2=\"28.2969\"/><text fill=\"#000000\" font-family=\"sans-serif\" font-size=\"14\" font-weight=\"bold\" lengthAdjust=\"spacingAndGlyphs\" textLength=\"151\" x=\"20\" y=\"20.9951\">AnalysisAnnotation</text></a><!--MD5=[d5e69f78d87373223dbae638b30a9c99]\n",
       "cluster E3--><a href=\"psysml:e73f4f0e-f2f2-491a-ad18-2354ebab0714\" target=\"_top\" title=\"psysml:e73f4f0e-f2f2-491a-ad18-2354ebab0714\" xlink:actuate=\"onRequest\" xlink:href=\"psysml:e73f4f0e-f2f2-491a-ad18-2354ebab0714\" xlink:show=\"new\" xlink:title=\"psysml:e73f4f0e-f2f2-491a-ad18-2354ebab0714\" xlink:type=\"simple\"><rect fill=\"#FFFFFF\" height=\"244.72\" id=\"E3\" style=\"stroke: #383838; stroke-width: 1.5;\" width=\"318\" x=\"129\" y=\"64\"/><rect fill=\"#F8F8F8\" height=\"37.9375\" style=\"stroke: #383838; stroke-width: 1.5;\" width=\"318\" x=\"129\" y=\"64\"/><text fill=\"#000000\" font-family=\"sans-serif\" font-size=\"12\" font-style=\"italic\" lengthAdjust=\"spacingAndGlyphs\" textLength=\"77\" x=\"249.5\" y=\"80.1387\">«action def»</text><text fill=\"#000000\" font-family=\"sans-serif\" font-size=\"12\" lengthAdjust=\"spacingAndGlyphs\" textLength=\"115\" x=\"230.5\" y=\"94.1074\">ComputeDynamics</text></a><!--MD5=[b4997ac47864f28c2f74865a473b2911]\n",
       "class E2--><a href=\"psysml:44eddca9-682f-4ef7-a7c7-a9f194d7f2c9\" target=\"_top\" title=\"psysml:44eddca9-682f-4ef7-a7c7-a9f194d7f2c9\" xlink:actuate=\"onRequest\" xlink:href=\"psysml:44eddca9-682f-4ef7-a7c7-a9f194d7f2c9\" xlink:show=\"new\" xlink:title=\"psysml:44eddca9-682f-4ef7-a7c7-a9f194d7f2c9\" xlink:type=\"simple\"><rect fill=\"#FFFFFF\" height=\"45.9375\" id=\"E2\" style=\"stroke: #383838; stroke-width: 1.5;\" width=\"74\" x=\"32\" y=\"41\"/><text fill=\"#000000\" font-family=\"sans-serif\" font-size=\"12\" font-style=\"italic\" lengthAdjust=\"spacingAndGlyphs\" textLength=\"72\" x=\"33\" y=\"57.1387\">«dataType»</text><text fill=\"#000000\" font-family=\"sans-serif\" font-size=\"12\" lengthAdjust=\"spacingAndGlyphs\" textLength=\"27\" x=\"55.5\" y=\"71.1074\">Real</text><line style=\"stroke: #383838; stroke-width: 1.5;\" x1=\"33\" x2=\"105\" y1=\"78.9375\" y2=\"78.9375\"/></a><text fill=\"#000000\" font-family=\"sans-serif\" font-size=\"14\" lengthAdjust=\"spacingAndGlyphs\" textLength=\"48\" x=\"169\" y=\"327.7151\">$result</text><rect fill=\"#383838\" height=\"12\" style=\"stroke: #F8F8F8; stroke-width: 1.5;\" width=\"12\" x=\"187\" y=\"302.72\"/><text fill=\"#000000\" font-family=\"sans-serif\" font-size=\"14\" lengthAdjust=\"spacingAndGlyphs\" textLength=\"48\" x=\"216\" y=\"327.7151\">$result</text><rect fill=\"#383838\" height=\"12\" style=\"stroke: #F8F8F8; stroke-width: 1.5;\" width=\"12\" x=\"234\" y=\"302.72\"/><text fill=\"#000000\" font-family=\"sans-serif\" font-size=\"14\" lengthAdjust=\"spacingAndGlyphs\" textLength=\"14\" x=\"140\" y=\"42.6982\">dt</text><rect fill=\"#383838\" height=\"12\" style=\"stroke: #F8F8F8; stroke-width: 1.5;\" width=\"12\" x=\"141\" y=\"58\"/><text fill=\"#000000\" font-family=\"sans-serif\" font-size=\"14\" lengthAdjust=\"spacingAndGlyphs\" textLength=\"48\" x=\"170\" y=\"42.6982\">whlpwr</text><rect fill=\"#383838\" height=\"12\" style=\"stroke: #F8F8F8; stroke-width: 1.5;\" width=\"12\" x=\"188\" y=\"58\"/><text fill=\"#000000\" font-family=\"sans-serif\" font-size=\"14\" lengthAdjust=\"spacingAndGlyphs\" textLength=\"19\" x=\"231.5\" y=\"42.6982\">Cd</text><rect fill=\"#383838\" height=\"12\" style=\"stroke: #F8F8F8; stroke-width: 1.5;\" width=\"12\" x=\"235\" y=\"58\"/><text fill=\"#000000\" font-family=\"sans-serif\" font-size=\"14\" lengthAdjust=\"spacingAndGlyphs\" textLength=\"14\" x=\"281\" y=\"42.6982\">Cf</text><rect fill=\"#383838\" height=\"12\" style=\"stroke: #F8F8F8; stroke-width: 1.5;\" width=\"12\" x=\"282\" y=\"58\"/><text fill=\"#000000\" font-family=\"sans-serif\" font-size=\"14\" lengthAdjust=\"spacingAndGlyphs\" textLength=\"18\" x=\"326\" y=\"42.6982\">tm</text><rect fill=\"#383838\" height=\"12\" style=\"stroke: #F8F8F8; stroke-width: 1.5;\" width=\"12\" x=\"329\" y=\"58\"/><text fill=\"#000000\" font-family=\"sans-serif\" font-size=\"14\" lengthAdjust=\"spacingAndGlyphs\" textLength=\"26\" x=\"369\" y=\"42.6982\">v_in</text><rect fill=\"#383838\" height=\"12\" style=\"stroke: #F8F8F8; stroke-width: 1.5;\" width=\"12\" x=\"376\" y=\"58\"/><text fill=\"#000000\" font-family=\"sans-serif\" font-size=\"14\" lengthAdjust=\"spacingAndGlyphs\" textLength=\"26\" x=\"416\" y=\"42.6982\">x_in</text><rect fill=\"#383838\" height=\"12\" style=\"stroke: #F8F8F8; stroke-width: 1.5;\" width=\"12\" x=\"423\" y=\"58\"/><text fill=\"#000000\" font-family=\"sans-serif\" font-size=\"14\" lengthAdjust=\"spacingAndGlyphs\" textLength=\"38\" x=\"268\" y=\"327.7151\">a_out</text><rect fill=\"#383838\" height=\"12\" style=\"stroke: #F8F8F8; stroke-width: 1.5;\" width=\"12\" x=\"281\" y=\"302.72\"/><text fill=\"#000000\" font-family=\"sans-serif\" font-size=\"14\" lengthAdjust=\"spacingAndGlyphs\" textLength=\"37\" x=\"315.5\" y=\"327.7151\">v_out</text><rect fill=\"#383838\" height=\"12\" style=\"stroke: #F8F8F8; stroke-width: 1.5;\" width=\"12\" x=\"328\" y=\"302.72\"/><text fill=\"#000000\" font-family=\"sans-serif\" font-size=\"14\" lengthAdjust=\"spacingAndGlyphs\" textLength=\"37\" x=\"362.5\" y=\"327.7151\">x_out</text><rect fill=\"#383838\" height=\"12\" style=\"stroke: #F8F8F8; stroke-width: 1.5;\" width=\"12\" x=\"375\" y=\"302.72\"/><!--MD5=[f0ec2e6c3df9e44d0d4c813565b63833]\n",
       "@startuml\r\n",
       "skinparam monochrome true\r\n",
       "skinparam classbackgroundcolor white\r\n",
       "skinparam shadowing false\r\n",
       "skinparam wrapWidth 300\r\n",
       "hide circle\r\n",
       "\r\n",
       "package \"AnalysisAnnotation\" as E1  [[psysml:3f9dd228-0d59-436f-8c66-7bfaf74317e1 ]]  {\r\n",
       "comp def \"Real\" as E2  <<(T,blue)dataType>> [[psysml:44eddca9-682f-4ef7-a7c7-a9f194d7f2c9 ]] {\r\n",
       "}\r\n",
       "rec def \"ComputeDynamics\" as E3  <<(T,blue)action def>> [[psysml:e73f4f0e-f2f2-491a-ad18-2354ebab0714 ]] {\r\n",
       "portout \"$result\" as E4  [[psysml:321a5472-f26a-4f44-adf1-e887f248e10c ]] \r\n",
       "portout \"$result\" as E5  [[psysml:249d7fd3-af20-489f-a52b-b6c298227647 ]] \r\n",
       "portin \"dt\" as E6  [[psysml:d9dfe931-1109-47e6-bc0c-352db24577b0 ]] \r\n",
       "portin \"whlpwr\" as E7  [[psysml:44277f67-022c-45f6-9760-98798ee04e09 ]] \r\n",
       "portin \"Cd\" as E8  [[psysml:41d96645-5d65-4e32-85e5-332077e108f6 ]] \r\n",
       "portin \"Cf\" as E9  [[psysml:aebf7dc6-628a-4d75-a952-13ccca53817c ]] \r\n",
       "portin \"tm\" as E10  [[psysml:08dba41b-e930-4b20-afae-ef7ae15f00ec ]] \r\n",
       "portin \"v_in\" as E11  [[psysml:e3f3c5a0-ed9d-41a6-a918-fe4a600fe261 ]] \r\n",
       "portin \"x_in\" as E12  [[psysml:fb3fca97-7004-4d76-8828-7714499f1454 ]] \r\n",
       "portout \"a_out\" as E13  [[psysml:5a710766-56b6-4c7a-9ae9-326b3f7572a8 ]] \r\n",
       "portout \"v_out\" as E14  [[psysml:1e62abd8-4172-4662-8f1c-1e7c30e8c54c ]] \r\n",
       "portout \"x_out\" as E15  [[psysml:e4c640c8-309e-4572-81b1-e78594ed37ec ]] \r\n",
       "}\r\n",
       "\r\n",
       "}\r\n",
       "@enduml\r\n",
       "\n",
       "PlantUML version 1.2020.13(Sat Jun 13 12:26:38 UTC 2020)\n",
       "(EPL source distribution)\n",
       "Java Runtime: OpenJDK Runtime Environment\n",
       "JVM: OpenJDK 64-Bit Server VM\n",
       "Default Encoding: UTF-8\n",
       "Language: en\n",
       "Country: null\n",
       "--></g></svg>"
      ]
     },
     "execution_count": 43,
     "metadata": {},
     "output_type": "execute_result"
    }
   ],
   "source": [
    "%viz --style=\"DEFAULT\" --view=\"MIXED\" \"AnalysisAnnotation\""
   ]
  },
  {
   "cell_type": "code",
   "execution_count": 44,
   "id": "6f7ea30f",
   "metadata": {
    "execution": {
     "iopub.execute_input": "2021-04-20T07:28:18.497832Z",
     "iopub.status.busy": "2021-04-20T07:28:18.497015Z",
     "iopub.status.idle": "2021-04-20T07:28:18.556283Z",
     "shell.execute_reply": "2021-04-20T07:28:18.553837Z"
    }
   },
   "outputs": [
    {
     "data": {
      "image/svg+xml": [
       "<?xml version=\"1.0\" encoding=\"UTF-8\" standalone=\"no\"?><svg xmlns=\"http://www.w3.org/2000/svg\" xmlns:xlink=\"http://www.w3.org/1999/xlink\" contentScriptType=\"application/ecmascript\" contentStyleType=\"text/css\" height=\"350px\" preserveAspectRatio=\"none\" style=\"width:481px;height:350px;\" version=\"1.1\" viewBox=\"0 0 481 350\" width=\"481px\" zoomAndPan=\"magnify\"><defs/><g><!--MD5=[fbc87193dbaf4d95561dea2c320d4a47]\n",
       "cluster E1--><a href=\"psysml:3f9dd228-0d59-436f-8c66-7bfaf74317e1\" target=\"_top\" title=\"psysml:3f9dd228-0d59-436f-8c66-7bfaf74317e1\" xlink:actuate=\"onRequest\" xlink:href=\"psysml:3f9dd228-0d59-436f-8c66-7bfaf74317e1\" xlink:show=\"new\" xlink:title=\"psysml:3f9dd228-0d59-436f-8c66-7bfaf74317e1\" xlink:type=\"simple\"><polygon fill=\"#FFFFFF\" points=\"16,6,173,6,180,28.2969,459,28.2969,459,338.72,16,338.72,16,6\" style=\"stroke: #000000; stroke-width: 1.5;\"/><line style=\"stroke: #000000; stroke-width: 1.5;\" x1=\"16\" x2=\"180\" y1=\"28.2969\" y2=\"28.2969\"/><text fill=\"#000000\" font-family=\"sans-serif\" font-size=\"14\" font-weight=\"bold\" lengthAdjust=\"spacingAndGlyphs\" textLength=\"151\" x=\"20\" y=\"20.9951\">AnalysisAnnotation</text></a><!--MD5=[d5e69f78d87373223dbae638b30a9c99]\n",
       "cluster E3--><a href=\"psysml:e73f4f0e-f2f2-491a-ad18-2354ebab0714\" target=\"_top\" title=\"psysml:e73f4f0e-f2f2-491a-ad18-2354ebab0714\" xlink:actuate=\"onRequest\" xlink:href=\"psysml:e73f4f0e-f2f2-491a-ad18-2354ebab0714\" xlink:show=\"new\" xlink:title=\"psysml:e73f4f0e-f2f2-491a-ad18-2354ebab0714\" xlink:type=\"simple\"><rect fill=\"#FFFFFF\" height=\"244.72\" id=\"E3\" style=\"stroke: #383838; stroke-width: 1.5;\" width=\"318\" x=\"129\" y=\"64\"/><rect fill=\"#F8F8F8\" height=\"37.9375\" style=\"stroke: #383838; stroke-width: 1.5;\" width=\"318\" x=\"129\" y=\"64\"/><text fill=\"#000000\" font-family=\"sans-serif\" font-size=\"12\" font-style=\"italic\" lengthAdjust=\"spacingAndGlyphs\" textLength=\"77\" x=\"249.5\" y=\"80.1387\">«action def»</text><text fill=\"#000000\" font-family=\"sans-serif\" font-size=\"12\" lengthAdjust=\"spacingAndGlyphs\" textLength=\"115\" x=\"230.5\" y=\"94.1074\">ComputeDynamics</text></a><!--MD5=[b4997ac47864f28c2f74865a473b2911]\n",
       "class E2--><a href=\"psysml:44eddca9-682f-4ef7-a7c7-a9f194d7f2c9\" target=\"_top\" title=\"psysml:44eddca9-682f-4ef7-a7c7-a9f194d7f2c9\" xlink:actuate=\"onRequest\" xlink:href=\"psysml:44eddca9-682f-4ef7-a7c7-a9f194d7f2c9\" xlink:show=\"new\" xlink:title=\"psysml:44eddca9-682f-4ef7-a7c7-a9f194d7f2c9\" xlink:type=\"simple\"><rect fill=\"#FFFFFF\" height=\"45.9375\" id=\"E2\" style=\"stroke: #383838; stroke-width: 1.5;\" width=\"74\" x=\"32\" y=\"41\"/><text fill=\"#000000\" font-family=\"sans-serif\" font-size=\"12\" font-style=\"italic\" lengthAdjust=\"spacingAndGlyphs\" textLength=\"72\" x=\"33\" y=\"57.1387\">«dataType»</text><text fill=\"#000000\" font-family=\"sans-serif\" font-size=\"12\" lengthAdjust=\"spacingAndGlyphs\" textLength=\"27\" x=\"55.5\" y=\"71.1074\">Real</text><line style=\"stroke: #383838; stroke-width: 1.5;\" x1=\"33\" x2=\"105\" y1=\"78.9375\" y2=\"78.9375\"/></a><text fill=\"#000000\" font-family=\"sans-serif\" font-size=\"14\" lengthAdjust=\"spacingAndGlyphs\" textLength=\"48\" x=\"169\" y=\"327.7151\">$result</text><rect fill=\"#383838\" height=\"12\" style=\"stroke: #F8F8F8; stroke-width: 1.5;\" width=\"12\" x=\"187\" y=\"302.72\"/><text fill=\"#000000\" font-family=\"sans-serif\" font-size=\"14\" lengthAdjust=\"spacingAndGlyphs\" textLength=\"48\" x=\"216\" y=\"327.7151\">$result</text><rect fill=\"#383838\" height=\"12\" style=\"stroke: #F8F8F8; stroke-width: 1.5;\" width=\"12\" x=\"234\" y=\"302.72\"/><text fill=\"#000000\" font-family=\"sans-serif\" font-size=\"14\" lengthAdjust=\"spacingAndGlyphs\" textLength=\"14\" x=\"140\" y=\"42.6982\">dt</text><rect fill=\"#383838\" height=\"12\" style=\"stroke: #F8F8F8; stroke-width: 1.5;\" width=\"12\" x=\"141\" y=\"58\"/><text fill=\"#000000\" font-family=\"sans-serif\" font-size=\"14\" lengthAdjust=\"spacingAndGlyphs\" textLength=\"48\" x=\"170\" y=\"42.6982\">whlpwr</text><rect fill=\"#383838\" height=\"12\" style=\"stroke: #F8F8F8; stroke-width: 1.5;\" width=\"12\" x=\"188\" y=\"58\"/><text fill=\"#000000\" font-family=\"sans-serif\" font-size=\"14\" lengthAdjust=\"spacingAndGlyphs\" textLength=\"19\" x=\"231.5\" y=\"42.6982\">Cd</text><rect fill=\"#383838\" height=\"12\" style=\"stroke: #F8F8F8; stroke-width: 1.5;\" width=\"12\" x=\"235\" y=\"58\"/><text fill=\"#000000\" font-family=\"sans-serif\" font-size=\"14\" lengthAdjust=\"spacingAndGlyphs\" textLength=\"14\" x=\"281\" y=\"42.6982\">Cf</text><rect fill=\"#383838\" height=\"12\" style=\"stroke: #F8F8F8; stroke-width: 1.5;\" width=\"12\" x=\"282\" y=\"58\"/><text fill=\"#000000\" font-family=\"sans-serif\" font-size=\"14\" lengthAdjust=\"spacingAndGlyphs\" textLength=\"18\" x=\"326\" y=\"42.6982\">tm</text><rect fill=\"#383838\" height=\"12\" style=\"stroke: #F8F8F8; stroke-width: 1.5;\" width=\"12\" x=\"329\" y=\"58\"/><text fill=\"#000000\" font-family=\"sans-serif\" font-size=\"14\" lengthAdjust=\"spacingAndGlyphs\" textLength=\"26\" x=\"369\" y=\"42.6982\">v_in</text><rect fill=\"#383838\" height=\"12\" style=\"stroke: #F8F8F8; stroke-width: 1.5;\" width=\"12\" x=\"376\" y=\"58\"/><text fill=\"#000000\" font-family=\"sans-serif\" font-size=\"14\" lengthAdjust=\"spacingAndGlyphs\" textLength=\"26\" x=\"416\" y=\"42.6982\">x_in</text><rect fill=\"#383838\" height=\"12\" style=\"stroke: #F8F8F8; stroke-width: 1.5;\" width=\"12\" x=\"423\" y=\"58\"/><text fill=\"#000000\" font-family=\"sans-serif\" font-size=\"14\" lengthAdjust=\"spacingAndGlyphs\" textLength=\"38\" x=\"268\" y=\"327.7151\">a_out</text><rect fill=\"#383838\" height=\"12\" style=\"stroke: #F8F8F8; stroke-width: 1.5;\" width=\"12\" x=\"281\" y=\"302.72\"/><text fill=\"#000000\" font-family=\"sans-serif\" font-size=\"14\" lengthAdjust=\"spacingAndGlyphs\" textLength=\"37\" x=\"315.5\" y=\"327.7151\">v_out</text><rect fill=\"#383838\" height=\"12\" style=\"stroke: #F8F8F8; stroke-width: 1.5;\" width=\"12\" x=\"328\" y=\"302.72\"/><text fill=\"#000000\" font-family=\"sans-serif\" font-size=\"14\" lengthAdjust=\"spacingAndGlyphs\" textLength=\"37\" x=\"362.5\" y=\"327.7151\">x_out</text><rect fill=\"#383838\" height=\"12\" style=\"stroke: #F8F8F8; stroke-width: 1.5;\" width=\"12\" x=\"375\" y=\"302.72\"/><!--MD5=[2be1380c3d18a088418a7595824edeab]\n",
       "@startuml\r\n",
       "top to bottom direction\r\n",
       "skinparam monochrome true\r\n",
       "skinparam classbackgroundcolor white\r\n",
       "skinparam shadowing false\r\n",
       "skinparam wrapWidth 300\r\n",
       "hide circle\r\n",
       "\r\n",
       "package \"AnalysisAnnotation\" as E1  [[psysml:3f9dd228-0d59-436f-8c66-7bfaf74317e1 ]]  {\r\n",
       "comp def \"Real\" as E2  <<(T,blue)dataType>> [[psysml:44eddca9-682f-4ef7-a7c7-a9f194d7f2c9 ]] {\r\n",
       "}\r\n",
       "rec def \"ComputeDynamics\" as E3  <<(T,blue)action def>> [[psysml:e73f4f0e-f2f2-491a-ad18-2354ebab0714 ]] {\r\n",
       "portout \"$result\" as E4  [[psysml:321a5472-f26a-4f44-adf1-e887f248e10c ]] \r\n",
       "portout \"$result\" as E5  [[psysml:249d7fd3-af20-489f-a52b-b6c298227647 ]] \r\n",
       "portin \"dt\" as E6  [[psysml:d9dfe931-1109-47e6-bc0c-352db24577b0 ]] \r\n",
       "portin \"whlpwr\" as E7  [[psysml:44277f67-022c-45f6-9760-98798ee04e09 ]] \r\n",
       "portin \"Cd\" as E8  [[psysml:41d96645-5d65-4e32-85e5-332077e108f6 ]] \r\n",
       "portin \"Cf\" as E9  [[psysml:aebf7dc6-628a-4d75-a952-13ccca53817c ]] \r\n",
       "portin \"tm\" as E10  [[psysml:08dba41b-e930-4b20-afae-ef7ae15f00ec ]] \r\n",
       "portin \"v_in\" as E11  [[psysml:e3f3c5a0-ed9d-41a6-a918-fe4a600fe261 ]] \r\n",
       "portin \"x_in\" as E12  [[psysml:fb3fca97-7004-4d76-8828-7714499f1454 ]] \r\n",
       "portout \"a_out\" as E13  [[psysml:5a710766-56b6-4c7a-9ae9-326b3f7572a8 ]] \r\n",
       "portout \"v_out\" as E14  [[psysml:1e62abd8-4172-4662-8f1c-1e7c30e8c54c ]] \r\n",
       "portout \"x_out\" as E15  [[psysml:e4c640c8-309e-4572-81b1-e78594ed37ec ]] \r\n",
       "}\r\n",
       "\r\n",
       "}\r\n",
       "@enduml\r\n",
       "\n",
       "PlantUML version 1.2020.13(Sat Jun 13 12:26:38 UTC 2020)\n",
       "(EPL source distribution)\n",
       "Java Runtime: OpenJDK Runtime Environment\n",
       "JVM: OpenJDK 64-Bit Server VM\n",
       "Default Encoding: UTF-8\n",
       "Language: en\n",
       "Country: null\n",
       "--></g></svg>"
      ]
     },
     "execution_count": 44,
     "metadata": {},
     "output_type": "execute_result"
    }
   ],
   "source": [
    "%viz --style=\"TB\" --view=\"Default\" \"AnalysisAnnotation\""
   ]
  },
  {
   "cell_type": "code",
   "execution_count": 45,
   "id": "0eb55158",
   "metadata": {
    "execution": {
     "iopub.execute_input": "2021-04-20T07:28:18.605882Z",
     "iopub.status.busy": "2021-04-20T07:28:18.604825Z",
     "iopub.status.idle": "2021-04-20T07:28:18.770640Z",
     "shell.execute_reply": "2021-04-20T07:28:18.769267Z"
    }
   },
   "outputs": [
    {
     "data": {
      "image/svg+xml": [
       "<?xml version=\"1.0\" encoding=\"UTF-8\" standalone=\"no\"?><svg xmlns=\"http://www.w3.org/2000/svg\" xmlns:xlink=\"http://www.w3.org/1999/xlink\" contentScriptType=\"application/ecmascript\" contentStyleType=\"text/css\" height=\"472px\" preserveAspectRatio=\"none\" style=\"width:357px;height:472px;\" version=\"1.1\" viewBox=\"0 0 357 472\" width=\"357px\" zoomAndPan=\"magnify\"><defs/><g><!--MD5=[fbc87193dbaf4d95561dea2c320d4a47]\n",
       "cluster E1--><a href=\"psysml:3f9dd228-0d59-436f-8c66-7bfaf74317e1\" target=\"_top\" title=\"psysml:3f9dd228-0d59-436f-8c66-7bfaf74317e1\" xlink:actuate=\"onRequest\" xlink:href=\"psysml:3f9dd228-0d59-436f-8c66-7bfaf74317e1\" xlink:show=\"new\" xlink:title=\"psysml:3f9dd228-0d59-436f-8c66-7bfaf74317e1\" xlink:type=\"simple\"><polygon fill=\"#FFFFFF\" points=\"16,6,173,6,180,28.2969,335,28.2969,335,460,16,460,16,6\" style=\"stroke: #000000; stroke-width: 1.5;\"/><line style=\"stroke: #000000; stroke-width: 1.5;\" x1=\"16\" x2=\"180\" y1=\"28.2969\" y2=\"28.2969\"/><text fill=\"#000000\" font-family=\"sans-serif\" font-size=\"14\" font-weight=\"bold\" lengthAdjust=\"spacingAndGlyphs\" textLength=\"151\" x=\"20\" y=\"20.9951\">AnalysisAnnotation</text></a><!--MD5=[b4997ac47864f28c2f74865a473b2911]\n",
       "class E2--><a href=\"psysml:44eddca9-682f-4ef7-a7c7-a9f194d7f2c9\" target=\"_top\" title=\"psysml:44eddca9-682f-4ef7-a7c7-a9f194d7f2c9\" xlink:actuate=\"onRequest\" xlink:href=\"psysml:44eddca9-682f-4ef7-a7c7-a9f194d7f2c9\" xlink:show=\"new\" xlink:title=\"psysml:44eddca9-682f-4ef7-a7c7-a9f194d7f2c9\" xlink:type=\"simple\"><rect fill=\"#FFFFFF\" height=\"45.9375\" id=\"E2\" style=\"stroke: #383838; stroke-width: 1.5;\" width=\"74\" x=\"238\" y=\"113.5\"/><text fill=\"#000000\" font-family=\"sans-serif\" font-size=\"12\" font-style=\"italic\" lengthAdjust=\"spacingAndGlyphs\" textLength=\"72\" x=\"239\" y=\"129.6387\">«dataType»</text><text fill=\"#000000\" font-family=\"sans-serif\" font-size=\"12\" lengthAdjust=\"spacingAndGlyphs\" textLength=\"27\" x=\"261.5\" y=\"143.6074\">Real</text><line style=\"stroke: #383838; stroke-width: 1.5;\" x1=\"239\" x2=\"311\" y1=\"151.4375\" y2=\"151.4375\"/></a><!--MD5=[09b614a08d8cba4a07c9adeb5e0fee81]\n",
       "class E3--><a href=\"psysml:e73f4f0e-f2f2-491a-ad18-2354ebab0714\" target=\"_top\" title=\"psysml:e73f4f0e-f2f2-491a-ad18-2354ebab0714\" xlink:actuate=\"onRequest\" xlink:href=\"psysml:e73f4f0e-f2f2-491a-ad18-2354ebab0714\" xlink:show=\"new\" xlink:title=\"psysml:e73f4f0e-f2f2-491a-ad18-2354ebab0714\" xlink:type=\"simple\"><rect fill=\"#FFFFFF\" height=\"190.7891\" id=\"E3\" style=\"stroke: #383838; stroke-width: 1.5;\" width=\"151\" x=\"38.5\" y=\"41\"/><text fill=\"#000000\" font-family=\"sans-serif\" font-size=\"12\" font-style=\"italic\" lengthAdjust=\"spacingAndGlyphs\" textLength=\"77\" x=\"75.5\" y=\"57.1387\">«action def»</text><text fill=\"#000000\" font-family=\"sans-serif\" font-size=\"12\" lengthAdjust=\"spacingAndGlyphs\" textLength=\"115\" x=\"56.5\" y=\"71.1074\">ComputeDynamics</text><line style=\"stroke: #383838; stroke-width: 1.5;\" x1=\"39.5\" x2=\"188.5\" y1=\"78.9375\" y2=\"78.9375\"/><text fill=\"#000000\" font-family=\"sans-serif\" font-size=\"11\" lengthAdjust=\"spacingAndGlyphs\" textLength=\"47\" x=\"44.5\" y=\"109.9526\">Cd: Real</text><text fill=\"#000000\" font-family=\"sans-serif\" font-size=\"11\" lengthAdjust=\"spacingAndGlyphs\" textLength=\"44\" x=\"44.5\" y=\"122.7573\">Cf: Real</text><text fill=\"#000000\" font-family=\"sans-serif\" font-size=\"11\" lengthAdjust=\"spacingAndGlyphs\" textLength=\"139\" x=\"44.5\" y=\"135.562\">a_out: AccelerationValue</text><text fill=\"#000000\" font-family=\"sans-serif\" font-size=\"11\" lengthAdjust=\"spacingAndGlyphs\" textLength=\"98\" x=\"44.5\" y=\"148.3667\">dt: DurationValue</text><text fill=\"#000000\" font-family=\"sans-serif\" font-size=\"11\" lengthAdjust=\"spacingAndGlyphs\" textLength=\"84\" x=\"44.5\" y=\"161.1714\">tm: MassValue</text><text fill=\"#000000\" font-family=\"sans-serif\" font-size=\"11\" lengthAdjust=\"spacingAndGlyphs\" textLength=\"97\" x=\"44.5\" y=\"173.9761\">v_in: SpeedValue</text><text fill=\"#000000\" font-family=\"sans-serif\" font-size=\"11\" lengthAdjust=\"spacingAndGlyphs\" textLength=\"105\" x=\"44.5\" y=\"186.7808\">v_out: SpeedValue</text><text fill=\"#000000\" font-family=\"sans-serif\" font-size=\"11\" lengthAdjust=\"spacingAndGlyphs\" textLength=\"114\" x=\"44.5\" y=\"199.5854\">whlpwr: PowerValue</text><text fill=\"#000000\" font-family=\"sans-serif\" font-size=\"11\" lengthAdjust=\"spacingAndGlyphs\" textLength=\"99\" x=\"44.5\" y=\"212.3901\">x_in: LengthValue</text><text fill=\"#000000\" font-family=\"sans-serif\" font-size=\"11\" lengthAdjust=\"spacingAndGlyphs\" textLength=\"107\" x=\"44.5\" y=\"225.1948\">x_out: LengthValue</text><line style=\"stroke: #383838; stroke-width: 1.0;\" x1=\"39.5\" x2=\"86.5\" y1=\"93.3398\" y2=\"93.3398\"/><text fill=\"#000000\" font-family=\"sans-serif\" font-size=\"11\" lengthAdjust=\"spacingAndGlyphs\" textLength=\"55\" x=\"86.5\" y=\"96.6479\">attributes</text><line style=\"stroke: #383838; stroke-width: 1.0;\" x1=\"141.5\" x2=\"188.5\" y1=\"93.3398\" y2=\"93.3398\"/></a><!--MD5=[ebbe1d658d1005bcc118a6aa81145e00]\n",
       "class E4--><a href=\"psysml:60a2becf-7a46-4ebd-946f-3a728f7b6aab\" target=\"_top\" title=\"psysml:60a2becf-7a46-4ebd-946f-3a728f7b6aab\" xlink:actuate=\"onRequest\" xlink:href=\"psysml:60a2becf-7a46-4ebd-946f-3a728f7b6aab\" xlink:show=\"new\" xlink:title=\"psysml:60a2becf-7a46-4ebd-946f-3a728f7b6aab\" xlink:type=\"simple\"><rect fill=\"#FFFFFF\" height=\"45.9375\" id=\"E4\" style=\"stroke: #383838; stroke-width: 1.5;\" width=\"152\" x=\"38\" y=\"292\"/><text fill=\"#000000\" font-family=\"sans-serif\" font-size=\"12\" font-style=\"italic\" lengthAdjust=\"spacingAndGlyphs\" textLength=\"132\" x=\"48\" y=\"308.1387\">«annotatingFeature»</text><text fill=\"#000000\" font-family=\"sans-serif\" font-size=\"12\" lengthAdjust=\"spacingAndGlyphs\" text-decoration=\"line-through\" textLength=\"51\" x=\"41\" y=\"322.1074\">noname</text><text fill=\"#000000\" font-family=\"sans-serif\" font-size=\"12\" lengthAdjust=\"spacingAndGlyphs\" textLength=\"95\" x=\"92\" y=\"322.1074\">: ToolExecution</text><line style=\"stroke: #383838; stroke-width: 1.5;\" x1=\"39\" x2=\"189\" y1=\"329.9375\" y2=\"329.9375\"/></a><!--MD5=[270fce915f116d4de14055a7c1d9a0f3]\n",
       "class E5--><a href=\"psysml:b02ba1b2-12c8-4052-9523-3aa0c79993f0\" target=\"_top\" title=\"psysml:b02ba1b2-12c8-4052-9523-3aa0c79993f0\" xlink:actuate=\"onRequest\" xlink:href=\"psysml:b02ba1b2-12c8-4052-9523-3aa0c79993f0\" xlink:show=\"new\" xlink:title=\"psysml:b02ba1b2-12c8-4052-9523-3aa0c79993f0\" xlink:type=\"simple\"><rect fill=\"#FFFFFF\" height=\"45.9375\" id=\"E5\" style=\"stroke: #383838; stroke-width: 1.5;\" width=\"126\" x=\"32\" y=\"398\"/><text fill=\"#000000\" font-family=\"sans-serif\" font-size=\"12\" font-style=\"italic\" lengthAdjust=\"spacingAndGlyphs\" textLength=\"124\" x=\"33\" y=\"414.1387\">«metadataFeature»</text><text fill=\"#000000\" font-family=\"sans-serif\" font-size=\"12\" lengthAdjust=\"spacingAndGlyphs\" textLength=\"60\" x=\"65\" y=\"428.1074\">toolName</text><line style=\"stroke: #383838; stroke-width: 1.5;\" x1=\"33\" x2=\"157\" y1=\"435.9375\" y2=\"435.9375\"/></a><!--MD5=[60a26617385b1d2d0262a64233df1f8d]\n",
       "class E6--><a href=\"psysml:cb4006f5-0e41-4f05-aa2a-a57df33d56ff\" target=\"_top\" title=\"psysml:cb4006f5-0e41-4f05-aa2a-a57df33d56ff\" xlink:actuate=\"onRequest\" xlink:href=\"psysml:cb4006f5-0e41-4f05-aa2a-a57df33d56ff\" xlink:show=\"new\" xlink:title=\"psysml:cb4006f5-0e41-4f05-aa2a-a57df33d56ff\" xlink:type=\"simple\"><rect fill=\"#FFFFFF\" height=\"45.9375\" id=\"E6\" style=\"stroke: #383838; stroke-width: 1.5;\" width=\"126\" x=\"193\" y=\"398\"/><text fill=\"#000000\" font-family=\"sans-serif\" font-size=\"12\" font-style=\"italic\" lengthAdjust=\"spacingAndGlyphs\" textLength=\"124\" x=\"194\" y=\"414.1387\">«metadataFeature»</text><text fill=\"#000000\" font-family=\"sans-serif\" font-size=\"12\" lengthAdjust=\"spacingAndGlyphs\" textLength=\"16\" x=\"248\" y=\"428.1074\">uri</text><line style=\"stroke: #383838; stroke-width: 1.5;\" x1=\"194\" x2=\"318\" y1=\"435.9375\" y2=\"435.9375\"/></a><!--MD5=[4672eba38e49728da53d11aeb285b987]\n",
       "reverse link E3 to E4--><a href=\"psysml:66d6f7e6-2188-4a34-9637-6b4b270c496c\" target=\"_top\" title=\"psysml:66d6f7e6-2188-4a34-9637-6b4b270c496c\" xlink:actuate=\"onRequest\" xlink:href=\"psysml:66d6f7e6-2188-4a34-9637-6b4b270c496c\" xlink:show=\"new\" xlink:title=\"psysml:66d6f7e6-2188-4a34-9637-6b4b270c496c\" xlink:type=\"simple\"><path d=\"M114,247.28 C114,264.19 114,279.97 114,291.94 \" fill=\"none\" id=\"E3&lt;-E4\" style=\"stroke: #383838; stroke-width: 1.0;\"/><ellipse cx=\"114\" cy=\"240.21\" fill=\"#FFFFFF\" rx=\"8\" ry=\"8\" style=\"stroke: #383838; stroke-width: 1.0;\"/><line style=\"stroke: #383838; stroke-width: 1.0;\" x1=\"114\" x2=\"114\" y1=\"248.21\" y2=\"232.21\"/><line style=\"stroke: #383838; stroke-width: 1.0;\" x1=\"106\" x2=\"122\" y1=\"240.21\" y2=\"240.21\"/></a><!--MD5=[62aa6af11e70f752912c1cb0466f24f7]\n",
       "reverse link E4 to E5--><a href=\"psysml:4336f8bf-5a73-49a4-a706-8a85ff7218c2\" target=\"_top\" title=\"psysml:4336f8bf-5a73-49a4-a706-8a85ff7218c2\" xlink:actuate=\"onRequest\" xlink:href=\"psysml:4336f8bf-5a73-49a4-a706-8a85ff7218c2\" xlink:show=\"new\" xlink:title=\"psysml:4336f8bf-5a73-49a4-a706-8a85ff7218c2\" xlink:type=\"simple\"><path d=\"M107.61,350.96 C104.77,366.51 101.52,384.33 99.02,397.98 \" fill=\"none\" id=\"E4&lt;-E5\" style=\"stroke: #383838; stroke-width: 1.0;\"/><polygon fill=\"#383838\" points=\"109.97,338.06,104.9597,343.2462,107.8199,349.8658,112.8302,344.6796,109.97,338.06\" style=\"stroke: #383838; stroke-width: 1.0;\"/></a><!--MD5=[6db378b65e1aef66a01cb3103812b399]\n",
       "reverse link E4 to E6--><a href=\"psysml:14217a47-d828-403c-a59e-1cb114a87a2b\" target=\"_top\" title=\"psysml:14217a47-d828-403c-a59e-1cb114a87a2b\" xlink:actuate=\"onRequest\" xlink:href=\"psysml:14217a47-d828-403c-a59e-1cb114a87a2b\" xlink:show=\"new\" xlink:title=\"psysml:14217a47-d828-403c-a59e-1cb114a87a2b\" xlink:type=\"simple\"><path d=\"M154.79,345.88 C177.48,362.49 205.23,382.82 225.93,397.98 \" fill=\"none\" id=\"E4&lt;-E6\" style=\"stroke: #383838; stroke-width: 1.0;\"/><polygon fill=\"#383838\" points=\"144.11,338.06,146.5846,344.8332,153.7885,345.1541,151.314,338.3809,144.11,338.06\" style=\"stroke: #383838; stroke-width: 1.0;\"/></a><!--MD5=[8842e42fa4cb24960a33c6b88e6fd01d]\n",
       "@startuml\r\n",
       "top to bottom direction\r\n",
       "skinparam monochrome true\r\n",
       "skinparam classbackgroundcolor white\r\n",
       "skinparam shadowing false\r\n",
       "skinparam wrapWidth 300\r\n",
       "hide circle\r\n",
       "\r\n",
       "package \"AnalysisAnnotation\" as E1  [[psysml:3f9dd228-0d59-436f-8c66-7bfaf74317e1 ]]  {\r\n",
       "comp def \"Real\" as E2  <<(T,blue)dataType>> [[psysml:44eddca9-682f-4ef7-a7c7-a9f194d7f2c9 ]] {\r\n",
       "}\r\n",
       "comp def \"ComputeDynamics\" as E3  <<(T,blue)action def>> [[psysml:e73f4f0e-f2f2-491a-ad18-2354ebab0714 ]] {\r\n",
       "- - attributes - -\r\n",
       "Cd: Real\r\n",
       "Cf: Real\r\n",
       "a_out: AccelerationValue\r\n",
       "dt: DurationValue\r\n",
       "tm: MassValue\r\n",
       "v_in: SpeedValue\r\n",
       "v_out: SpeedValue\r\n",
       "whlpwr: PowerValue\r\n",
       "x_in: LengthValue\r\n",
       "x_out: LengthValue\r\n",
       "}\r\n",
       "comp def \"<s>noname</s>: ToolExecution\" as E4  <<(T,blue)annotatingFeature>> [[psysml:60a2becf-7a46-4ebd-946f-3a728f7b6aab ]] {\r\n",
       "}\r\n",
       "comp def \"toolName\" as E5  <<(T,blue)metadataFeature>> [[psysml:b02ba1b2-12c8-4052-9523-3aa0c79993f0 ]] {\r\n",
       "}\r\n",
       "comp def \"uri\" as E6  <<(T,blue)metadataFeature>> [[psysml:cb4006f5-0e41-4f05-aa2a-a57df33d56ff ]] {\r\n",
       "}\r\n",
       "E3 +- - E4 [[psysml:66d6f7e6-2188-4a34-9637-6b4b270c496c ]] \r\n",
       "E4 *- - E5 [[psysml:4336f8bf-5a73-49a4-a706-8a85ff7218c2 ]] \r\n",
       "E4 *- - E6 [[psysml:14217a47-d828-403c-a59e-1cb114a87a2b ]] \r\n",
       "}\r\n",
       "@enduml\r\n",
       "\n",
       "PlantUML version 1.2020.13(Sat Jun 13 12:26:38 UTC 2020)\n",
       "(EPL source distribution)\n",
       "Java Runtime: OpenJDK Runtime Environment\n",
       "JVM: OpenJDK 64-Bit Server VM\n",
       "Default Encoding: UTF-8\n",
       "Language: en\n",
       "Country: null\n",
       "--></g></svg>"
      ]
     },
     "execution_count": 45,
     "metadata": {},
     "output_type": "execute_result"
    }
   ],
   "source": [
    "%viz --style=\"TB\" --view=\"Tree\" \"AnalysisAnnotation\""
   ]
  },
  {
   "cell_type": "code",
   "execution_count": 46,
   "id": "36225970",
   "metadata": {
    "execution": {
     "iopub.execute_input": "2021-04-20T07:28:18.821814Z",
     "iopub.status.busy": "2021-04-20T07:28:18.820798Z",
     "iopub.status.idle": "2021-04-20T07:28:18.826091Z",
     "shell.execute_reply": "2021-04-20T07:28:18.825572Z"
    }
   },
   "outputs": [
    {
     "data": {
      "image/svg+xml": [
       "<?xml version=\"1.0\" encoding=\"UTF-8\" standalone=\"no\"?><svg xmlns=\"http://www.w3.org/2000/svg\" xmlns:xlink=\"http://www.w3.org/1999/xlink\" contentScriptType=\"application/ecmascript\" contentStyleType=\"text/css\" height=\"12px\" preserveAspectRatio=\"none\" style=\"width:12px;height:12px;\" version=\"1.1\" viewBox=\"0 0 12 12\" width=\"12px\" zoomAndPan=\"magnify\"><defs/><g><!--MD5=[f4ee21bc66e489b5061b7c3e9601fdef]\n",
       "@startuml\r\n",
       "top to bottom direction\r\n",
       "skinparam monochrome true\r\n",
       "skinparam classbackgroundcolor white\r\n",
       "skinparam shadowing false\r\n",
       "skinparam wrapWidth 300\r\n",
       "hide circle\r\n",
       "\r\n",
       "@enduml\r\n",
       "\n",
       "PlantUML version 1.2020.13(Sat Jun 13 12:26:38 UTC 2020)\n",
       "(EPL source distribution)\n",
       "Java Runtime: OpenJDK Runtime Environment\n",
       "JVM: OpenJDK 64-Bit Server VM\n",
       "Default Encoding: UTF-8\n",
       "Language: en\n",
       "Country: null\n",
       "--></g></svg>"
      ]
     },
     "execution_count": 46,
     "metadata": {},
     "output_type": "execute_result"
    }
   ],
   "source": [
    "%viz --style=\"TB\" --view=\"State\" \"AnalysisAnnotation\""
   ]
  },
  {
   "cell_type": "code",
   "execution_count": 47,
   "id": "2447c187",
   "metadata": {
    "execution": {
     "iopub.execute_input": "2021-04-20T07:28:18.876596Z",
     "iopub.status.busy": "2021-04-20T07:28:18.875936Z",
     "iopub.status.idle": "2021-04-20T07:28:18.915522Z",
     "shell.execute_reply": "2021-04-20T07:28:18.915143Z"
    }
   },
   "outputs": [
    {
     "data": {
      "image/svg+xml": [
       "<?xml version=\"1.0\" encoding=\"UTF-8\" standalone=\"no\"?><svg xmlns=\"http://www.w3.org/2000/svg\" xmlns:xlink=\"http://www.w3.org/1999/xlink\" contentScriptType=\"application/ecmascript\" contentStyleType=\"text/css\" height=\"209px\" preserveAspectRatio=\"none\" style=\"width:486px;height:209px;\" version=\"1.1\" viewBox=\"0 0 486 209\" width=\"486px\" zoomAndPan=\"magnify\"><defs/><g><!--MD5=[fbc87193dbaf4d95561dea2c320d4a47]\n",
       "cluster E1--><a href=\"psysml:3f9dd228-0d59-436f-8c66-7bfaf74317e1\" target=\"_top\" title=\"psysml:3f9dd228-0d59-436f-8c66-7bfaf74317e1\" xlink:actuate=\"onRequest\" xlink:href=\"psysml:3f9dd228-0d59-436f-8c66-7bfaf74317e1\" xlink:show=\"new\" xlink:title=\"psysml:3f9dd228-0d59-436f-8c66-7bfaf74317e1\" xlink:type=\"simple\"><polygon fill=\"#FFFFFF\" points=\"16,6,173,6,180,28.2969,464,28.2969,464,197.72,16,197.72,16,6\" style=\"stroke: #000000; stroke-width: 1.5;\"/><line style=\"stroke: #000000; stroke-width: 1.5;\" x1=\"16\" x2=\"180\" y1=\"28.2969\" y2=\"28.2969\"/><text fill=\"#000000\" font-family=\"sans-serif\" font-size=\"14\" font-weight=\"bold\" lengthAdjust=\"spacingAndGlyphs\" textLength=\"151\" x=\"20\" y=\"20.9951\">AnalysisAnnotation</text></a><!--MD5=[d5e69f78d87373223dbae638b30a9c99]\n",
       "cluster E3--><a href=\"psysml:e73f4f0e-f2f2-491a-ad18-2354ebab0714\" target=\"_top\" title=\"psysml:e73f4f0e-f2f2-491a-ad18-2354ebab0714\" xlink:actuate=\"onRequest\" xlink:href=\"psysml:e73f4f0e-f2f2-491a-ad18-2354ebab0714\" xlink:show=\"new\" xlink:title=\"psysml:e73f4f0e-f2f2-491a-ad18-2354ebab0714\" xlink:type=\"simple\"><rect fill=\"#FFFFFF\" height=\"105.22\" id=\"E3\" style=\"stroke: #383838; stroke-width: 1.5;\" width=\"318\" x=\"134\" y=\"62.5\"/><rect fill=\"#F8F8F8\" height=\"37.9375\" style=\"stroke: #383838; stroke-width: 1.5;\" width=\"318\" x=\"134\" y=\"62.5\"/><text fill=\"#000000\" font-family=\"sans-serif\" font-size=\"12\" font-style=\"italic\" lengthAdjust=\"spacingAndGlyphs\" textLength=\"77\" x=\"254.5\" y=\"78.6387\">«action def»</text><text fill=\"#000000\" font-family=\"sans-serif\" font-size=\"12\" lengthAdjust=\"spacingAndGlyphs\" textLength=\"115\" x=\"235.5\" y=\"92.6074\">ComputeDynamics</text></a><g id=\"E1.E2\"><a href=\"psysml:44eddca9-682f-4ef7-a7c7-a9f194d7f2c9\" target=\"_top\" title=\"psysml:44eddca9-682f-4ef7-a7c7-a9f194d7f2c9\" xlink:actuate=\"onRequest\" xlink:href=\"psysml:44eddca9-682f-4ef7-a7c7-a9f194d7f2c9\" xlink:show=\"new\" xlink:title=\"psysml:44eddca9-682f-4ef7-a7c7-a9f194d7f2c9\" xlink:type=\"simple\"><rect fill=\"#FFFFFF\" height=\"42.9375\" id=\"E2\" style=\"stroke: #383838; stroke-width: 1.5;\" width=\"79\" x=\"31.5\" y=\"41\"/><rect fill=\"#F8F8F8\" height=\"37.9375\" style=\"stroke: #383838; stroke-width: 1.5;\" width=\"79\" x=\"31.5\" y=\"41\"/><text fill=\"#000000\" font-family=\"sans-serif\" font-size=\"12\" font-style=\"italic\" lengthAdjust=\"spacingAndGlyphs\" textLength=\"72\" x=\"35\" y=\"57.1387\">«dataType»</text><text fill=\"#000000\" font-family=\"sans-serif\" font-size=\"12\" lengthAdjust=\"spacingAndGlyphs\" textLength=\"27\" x=\"57.5\" y=\"71.1074\">Real</text></a></g><text fill=\"#000000\" font-family=\"sans-serif\" font-size=\"14\" lengthAdjust=\"spacingAndGlyphs\" textLength=\"48\" x=\"174\" y=\"186.7151\">$result</text><rect fill=\"#383838\" height=\"12\" style=\"stroke: #F8F8F8; stroke-width: 1.5;\" width=\"12\" x=\"192\" y=\"161.72\"/><text fill=\"#000000\" font-family=\"sans-serif\" font-size=\"14\" lengthAdjust=\"spacingAndGlyphs\" textLength=\"48\" x=\"221\" y=\"186.7151\">$result</text><rect fill=\"#383838\" height=\"12\" style=\"stroke: #F8F8F8; stroke-width: 1.5;\" width=\"12\" x=\"239\" y=\"161.72\"/><text fill=\"#000000\" font-family=\"sans-serif\" font-size=\"14\" lengthAdjust=\"spacingAndGlyphs\" textLength=\"14\" x=\"145\" y=\"41.1982\">dt</text><rect fill=\"#383838\" height=\"12\" style=\"stroke: #F8F8F8; stroke-width: 1.5;\" width=\"12\" x=\"146\" y=\"56.5\"/><text fill=\"#000000\" font-family=\"sans-serif\" font-size=\"14\" lengthAdjust=\"spacingAndGlyphs\" textLength=\"48\" x=\"175\" y=\"41.1982\">whlpwr</text><rect fill=\"#383838\" height=\"12\" style=\"stroke: #F8F8F8; stroke-width: 1.5;\" width=\"12\" x=\"193\" y=\"56.5\"/><text fill=\"#000000\" font-family=\"sans-serif\" font-size=\"14\" lengthAdjust=\"spacingAndGlyphs\" textLength=\"19\" x=\"236.5\" y=\"41.1982\">Cd</text><rect fill=\"#383838\" height=\"12\" style=\"stroke: #F8F8F8; stroke-width: 1.5;\" width=\"12\" x=\"240\" y=\"56.5\"/><text fill=\"#000000\" font-family=\"sans-serif\" font-size=\"14\" lengthAdjust=\"spacingAndGlyphs\" textLength=\"14\" x=\"286\" y=\"41.1982\">Cf</text><rect fill=\"#383838\" height=\"12\" style=\"stroke: #F8F8F8; stroke-width: 1.5;\" width=\"12\" x=\"287\" y=\"56.5\"/><text fill=\"#000000\" font-family=\"sans-serif\" font-size=\"14\" lengthAdjust=\"spacingAndGlyphs\" textLength=\"18\" x=\"331\" y=\"41.1982\">tm</text><rect fill=\"#383838\" height=\"12\" style=\"stroke: #F8F8F8; stroke-width: 1.5;\" width=\"12\" x=\"334\" y=\"56.5\"/><text fill=\"#000000\" font-family=\"sans-serif\" font-size=\"14\" lengthAdjust=\"spacingAndGlyphs\" textLength=\"26\" x=\"374\" y=\"41.1982\">v_in</text><rect fill=\"#383838\" height=\"12\" style=\"stroke: #F8F8F8; stroke-width: 1.5;\" width=\"12\" x=\"381\" y=\"56.5\"/><text fill=\"#000000\" font-family=\"sans-serif\" font-size=\"14\" lengthAdjust=\"spacingAndGlyphs\" textLength=\"26\" x=\"421\" y=\"41.1982\">x_in</text><rect fill=\"#383838\" height=\"12\" style=\"stroke: #F8F8F8; stroke-width: 1.5;\" width=\"12\" x=\"428\" y=\"56.5\"/><text fill=\"#000000\" font-family=\"sans-serif\" font-size=\"14\" lengthAdjust=\"spacingAndGlyphs\" textLength=\"38\" x=\"273\" y=\"186.7151\">a_out</text><rect fill=\"#383838\" height=\"12\" style=\"stroke: #F8F8F8; stroke-width: 1.5;\" width=\"12\" x=\"286\" y=\"161.72\"/><text fill=\"#000000\" font-family=\"sans-serif\" font-size=\"14\" lengthAdjust=\"spacingAndGlyphs\" textLength=\"37\" x=\"320.5\" y=\"186.7151\">v_out</text><rect fill=\"#383838\" height=\"12\" style=\"stroke: #F8F8F8; stroke-width: 1.5;\" width=\"12\" x=\"333\" y=\"161.72\"/><text fill=\"#000000\" font-family=\"sans-serif\" font-size=\"14\" lengthAdjust=\"spacingAndGlyphs\" textLength=\"37\" x=\"367.5\" y=\"186.7151\">x_out</text><rect fill=\"#383838\" height=\"12\" style=\"stroke: #F8F8F8; stroke-width: 1.5;\" width=\"12\" x=\"380\" y=\"161.72\"/><!--MD5=[7e10ecf1fca6a009cde25c729faa5d83]\n",
       "@startuml\r\n",
       "skinparam ranksep 10\r\n",
       "skinparam rectangle {\r\n",
       " backgroundColor<<block>> LightGreen\r\n",
       "}\r\n",
       "top to bottom direction\r\n",
       "skinparam monochrome true\r\n",
       "skinparam classbackgroundcolor white\r\n",
       "skinparam shadowing false\r\n",
       "skinparam wrapWidth 300\r\n",
       "hide circle\r\n",
       "\r\n",
       "package \"AnalysisAnnotation\" as E1  [[psysml:3f9dd228-0d59-436f-8c66-7bfaf74317e1 ]]  {\r\n",
       "def \"Real\" as E2  <<(T,blue)dataType>> [[psysml:44eddca9-682f-4ef7-a7c7-a9f194d7f2c9 ]] \r\n",
       "rec def \"ComputeDynamics\" as E3  <<(T,blue)action def>> [[psysml:e73f4f0e-f2f2-491a-ad18-2354ebab0714 ]] {\r\n",
       "portout \"$result\" as E4  [[psysml:321a5472-f26a-4f44-adf1-e887f248e10c ]] \r\n",
       "portout \"$result\" as E5  [[psysml:249d7fd3-af20-489f-a52b-b6c298227647 ]] \r\n",
       "portin \"dt\" as E6  [[psysml:d9dfe931-1109-47e6-bc0c-352db24577b0 ]] \r\n",
       "portin \"whlpwr\" as E7  [[psysml:44277f67-022c-45f6-9760-98798ee04e09 ]] \r\n",
       "portin \"Cd\" as E8  [[psysml:41d96645-5d65-4e32-85e5-332077e108f6 ]] \r\n",
       "portin \"Cf\" as E9  [[psysml:aebf7dc6-628a-4d75-a952-13ccca53817c ]] \r\n",
       "portin \"tm\" as E10  [[psysml:08dba41b-e930-4b20-afae-ef7ae15f00ec ]] \r\n",
       "portin \"v_in\" as E11  [[psysml:e3f3c5a0-ed9d-41a6-a918-fe4a600fe261 ]] \r\n",
       "portin \"x_in\" as E12  [[psysml:fb3fca97-7004-4d76-8828-7714499f1454 ]] \r\n",
       "portout \"a_out\" as E13  [[psysml:5a710766-56b6-4c7a-9ae9-326b3f7572a8 ]] \r\n",
       "portout \"v_out\" as E14  [[psysml:1e62abd8-4172-4662-8f1c-1e7c30e8c54c ]] \r\n",
       "portout \"x_out\" as E15  [[psysml:e4c640c8-309e-4572-81b1-e78594ed37ec ]] \r\n",
       "}\r\n",
       "\r\n",
       "}\r\n",
       "@enduml\r\n",
       "\n",
       "PlantUML version 1.2020.13(Sat Jun 13 12:26:38 UTC 2020)\n",
       "(EPL source distribution)\n",
       "Java Runtime: OpenJDK Runtime Environment\n",
       "JVM: OpenJDK 64-Bit Server VM\n",
       "Default Encoding: UTF-8\n",
       "Language: en\n",
       "Country: null\n",
       "--></g></svg>"
      ]
     },
     "execution_count": 47,
     "metadata": {},
     "output_type": "execute_result"
    }
   ],
   "source": [
    "%viz --style=\"TB\" --view=\"Interconnection\" \"AnalysisAnnotation\""
   ]
  },
  {
   "cell_type": "code",
   "execution_count": 48,
   "id": "a3c9ae15",
   "metadata": {
    "execution": {
     "iopub.execute_input": "2021-04-20T07:28:18.965954Z",
     "iopub.status.busy": "2021-04-20T07:28:18.965497Z",
     "iopub.status.idle": "2021-04-20T07:28:19.013414Z",
     "shell.execute_reply": "2021-04-20T07:28:19.012943Z"
    }
   },
   "outputs": [
    {
     "data": {
      "image/svg+xml": [
       "<?xml version=\"1.0\" encoding=\"UTF-8\" standalone=\"no\"?><svg xmlns=\"http://www.w3.org/2000/svg\" xmlns:xlink=\"http://www.w3.org/1999/xlink\" contentScriptType=\"application/ecmascript\" contentStyleType=\"text/css\" height=\"162px\" preserveAspectRatio=\"none\" style=\"width:336px;height:162px;\" version=\"1.1\" viewBox=\"0 0 336 162\" width=\"336px\" zoomAndPan=\"magnify\"><defs/><g><!--MD5=[fbc87193dbaf4d95561dea2c320d4a47]\n",
       "cluster E1--><a href=\"psysml:e73f4f0e-f2f2-491a-ad18-2354ebab0714\" target=\"_top\" title=\"psysml:e73f4f0e-f2f2-491a-ad18-2354ebab0714\" xlink:actuate=\"onRequest\" xlink:href=\"psysml:e73f4f0e-f2f2-491a-ad18-2354ebab0714\" xlink:show=\"new\" xlink:title=\"psysml:e73f4f0e-f2f2-491a-ad18-2354ebab0714\" xlink:type=\"simple\"><rect fill=\"#FFFFFF\" height=\"87.72\" id=\"E1\" style=\"stroke: #383838; stroke-width: 1.5;\" width=\"318\" x=\"7\" y=\"42.0986\"/><rect fill=\"#F8F8F8\" height=\"37.9375\" style=\"stroke: #383838; stroke-width: 1.5;\" width=\"318\" x=\"7\" y=\"42.0986\"/><text fill=\"#000000\" font-family=\"sans-serif\" font-size=\"12\" font-style=\"italic\" lengthAdjust=\"spacingAndGlyphs\" textLength=\"77\" x=\"127.5\" y=\"58.2373\">«action def»</text><text fill=\"#000000\" font-family=\"sans-serif\" font-size=\"12\" lengthAdjust=\"spacingAndGlyphs\" textLength=\"115\" x=\"108.5\" y=\"72.2061\">ComputeDynamics</text></a><text fill=\"#000000\" font-family=\"sans-serif\" font-size=\"14\" lengthAdjust=\"spacingAndGlyphs\" textLength=\"48\" x=\"47\" y=\"148.8138\">$result</text><rect fill=\"#383838\" height=\"12\" style=\"stroke: #F8F8F8; stroke-width: 1.5;\" width=\"12\" x=\"65\" y=\"123.8186\"/><text fill=\"#000000\" font-family=\"sans-serif\" font-size=\"14\" lengthAdjust=\"spacingAndGlyphs\" textLength=\"48\" x=\"94\" y=\"148.8138\">$result</text><rect fill=\"#383838\" height=\"12\" style=\"stroke: #F8F8F8; stroke-width: 1.5;\" width=\"12\" x=\"112\" y=\"123.8186\"/><text fill=\"#000000\" font-family=\"sans-serif\" font-size=\"14\" lengthAdjust=\"spacingAndGlyphs\" textLength=\"14\" x=\"18\" y=\"20.7969\">dt</text><rect fill=\"#383838\" height=\"12\" style=\"stroke: #F8F8F8; stroke-width: 1.5;\" width=\"12\" x=\"19\" y=\"36.0986\"/><text fill=\"#000000\" font-family=\"sans-serif\" font-size=\"14\" lengthAdjust=\"spacingAndGlyphs\" textLength=\"48\" x=\"48\" y=\"20.7969\">whlpwr</text><rect fill=\"#383838\" height=\"12\" style=\"stroke: #F8F8F8; stroke-width: 1.5;\" width=\"12\" x=\"66\" y=\"36.0986\"/><text fill=\"#000000\" font-family=\"sans-serif\" font-size=\"14\" lengthAdjust=\"spacingAndGlyphs\" textLength=\"19\" x=\"109.5\" y=\"20.7969\">Cd</text><rect fill=\"#383838\" height=\"12\" style=\"stroke: #F8F8F8; stroke-width: 1.5;\" width=\"12\" x=\"113\" y=\"36.0986\"/><text fill=\"#000000\" font-family=\"sans-serif\" font-size=\"14\" lengthAdjust=\"spacingAndGlyphs\" textLength=\"14\" x=\"159\" y=\"20.7969\">Cf</text><rect fill=\"#383838\" height=\"12\" style=\"stroke: #F8F8F8; stroke-width: 1.5;\" width=\"12\" x=\"160\" y=\"36.0986\"/><text fill=\"#000000\" font-family=\"sans-serif\" font-size=\"14\" lengthAdjust=\"spacingAndGlyphs\" textLength=\"18\" x=\"204\" y=\"20.7969\">tm</text><rect fill=\"#383838\" height=\"12\" style=\"stroke: #F8F8F8; stroke-width: 1.5;\" width=\"12\" x=\"207\" y=\"36.0986\"/><text fill=\"#000000\" font-family=\"sans-serif\" font-size=\"14\" lengthAdjust=\"spacingAndGlyphs\" textLength=\"26\" x=\"247\" y=\"20.7969\">v_in</text><rect fill=\"#383838\" height=\"12\" style=\"stroke: #F8F8F8; stroke-width: 1.5;\" width=\"12\" x=\"254\" y=\"36.0986\"/><text fill=\"#000000\" font-family=\"sans-serif\" font-size=\"14\" lengthAdjust=\"spacingAndGlyphs\" textLength=\"26\" x=\"294\" y=\"20.7969\">x_in</text><rect fill=\"#383838\" height=\"12\" style=\"stroke: #F8F8F8; stroke-width: 1.5;\" width=\"12\" x=\"301\" y=\"36.0986\"/><text fill=\"#000000\" font-family=\"sans-serif\" font-size=\"14\" lengthAdjust=\"spacingAndGlyphs\" textLength=\"38\" x=\"146\" y=\"148.8138\">a_out</text><rect fill=\"#383838\" height=\"12\" style=\"stroke: #F8F8F8; stroke-width: 1.5;\" width=\"12\" x=\"159\" y=\"123.8186\"/><text fill=\"#000000\" font-family=\"sans-serif\" font-size=\"14\" lengthAdjust=\"spacingAndGlyphs\" textLength=\"37\" x=\"193.5\" y=\"148.8138\">v_out</text><rect fill=\"#383838\" height=\"12\" style=\"stroke: #F8F8F8; stroke-width: 1.5;\" width=\"12\" x=\"206\" y=\"123.8186\"/><text fill=\"#000000\" font-family=\"sans-serif\" font-size=\"14\" lengthAdjust=\"spacingAndGlyphs\" textLength=\"37\" x=\"240.5\" y=\"148.8138\">x_out</text><rect fill=\"#383838\" height=\"12\" style=\"stroke: #F8F8F8; stroke-width: 1.5;\" width=\"12\" x=\"253\" y=\"123.8186\"/><!--MD5=[2f359a04265ab482350105b76275e52d]\n",
       "@startuml\r\n",
       "skinparam ranksep 8\r\n",
       "top to bottom direction\r\n",
       "skinparam monochrome true\r\n",
       "skinparam classbackgroundcolor white\r\n",
       "skinparam shadowing false\r\n",
       "skinparam wrapWidth 300\r\n",
       "hide circle\r\n",
       "\r\n",
       "rec def \"ComputeDynamics\" as E1  <<(T,blue)action def>> [[psysml:e73f4f0e-f2f2-491a-ad18-2354ebab0714 ]] {\r\n",
       "portout \"$result\" as E2  [[psysml:321a5472-f26a-4f44-adf1-e887f248e10c ]] \r\n",
       "portout \"$result\" as E3  [[psysml:249d7fd3-af20-489f-a52b-b6c298227647 ]] \r\n",
       "portin \"dt\" as E4  [[psysml:d9dfe931-1109-47e6-bc0c-352db24577b0 ]] \r\n",
       "portin \"whlpwr\" as E5  [[psysml:44277f67-022c-45f6-9760-98798ee04e09 ]] \r\n",
       "portin \"Cd\" as E6  [[psysml:41d96645-5d65-4e32-85e5-332077e108f6 ]] \r\n",
       "portin \"Cf\" as E7  [[psysml:aebf7dc6-628a-4d75-a952-13ccca53817c ]] \r\n",
       "portin \"tm\" as E8  [[psysml:08dba41b-e930-4b20-afae-ef7ae15f00ec ]] \r\n",
       "portin \"v_in\" as E9  [[psysml:e3f3c5a0-ed9d-41a6-a918-fe4a600fe261 ]] \r\n",
       "portin \"x_in\" as E10  [[psysml:fb3fca97-7004-4d76-8828-7714499f1454 ]] \r\n",
       "portout \"a_out\" as E11  [[psysml:5a710766-56b6-4c7a-9ae9-326b3f7572a8 ]] \r\n",
       "portout \"v_out\" as E12  [[psysml:1e62abd8-4172-4662-8f1c-1e7c30e8c54c ]] \r\n",
       "portout \"x_out\" as E13  [[psysml:e4c640c8-309e-4572-81b1-e78594ed37ec ]] \r\n",
       "}\r\n",
       "\r\n",
       "@enduml\r\n",
       "\n",
       "PlantUML version 1.2020.13(Sat Jun 13 12:26:38 UTC 2020)\n",
       "(EPL source distribution)\n",
       "Java Runtime: OpenJDK Runtime Environment\n",
       "JVM: OpenJDK 64-Bit Server VM\n",
       "Default Encoding: UTF-8\n",
       "Language: en\n",
       "Country: null\n",
       "--></g></svg>"
      ]
     },
     "execution_count": 48,
     "metadata": {},
     "output_type": "execute_result"
    }
   ],
   "source": [
    "%viz --style=\"TB\" --view=\"Action\" \"AnalysisAnnotation\""
   ]
  },
  {
   "cell_type": "code",
   "execution_count": 49,
   "id": "970a673d",
   "metadata": {
    "execution": {
     "iopub.execute_input": "2021-04-20T07:28:19.062875Z",
     "iopub.status.busy": "2021-04-20T07:28:19.061938Z",
     "iopub.status.idle": "2021-04-20T07:28:19.222728Z",
     "shell.execute_reply": "2021-04-20T07:28:19.220738Z"
    }
   },
   "outputs": [
    {
     "data": {
      "image/svg+xml": [
       "<?xml version=\"1.0\" encoding=\"UTF-8\" standalone=\"no\"?><svg xmlns=\"http://www.w3.org/2000/svg\" xmlns:xlink=\"http://www.w3.org/1999/xlink\" contentScriptType=\"application/ecmascript\" contentStyleType=\"text/css\" height=\"472px\" preserveAspectRatio=\"none\" style=\"width:357px;height:472px;\" version=\"1.1\" viewBox=\"0 0 357 472\" width=\"357px\" zoomAndPan=\"magnify\"><defs/><g><!--MD5=[fbc87193dbaf4d95561dea2c320d4a47]\n",
       "cluster E1--><a href=\"psysml:3f9dd228-0d59-436f-8c66-7bfaf74317e1\" target=\"_top\" title=\"psysml:3f9dd228-0d59-436f-8c66-7bfaf74317e1\" xlink:actuate=\"onRequest\" xlink:href=\"psysml:3f9dd228-0d59-436f-8c66-7bfaf74317e1\" xlink:show=\"new\" xlink:title=\"psysml:3f9dd228-0d59-436f-8c66-7bfaf74317e1\" xlink:type=\"simple\"><polygon fill=\"#FFFFFF\" points=\"16,6,173,6,180,28.2969,335,28.2969,335,460,16,460,16,6\" style=\"stroke: #000000; stroke-width: 1.5;\"/><line style=\"stroke: #000000; stroke-width: 1.5;\" x1=\"16\" x2=\"180\" y1=\"28.2969\" y2=\"28.2969\"/><text fill=\"#000000\" font-family=\"sans-serif\" font-size=\"14\" font-weight=\"bold\" lengthAdjust=\"spacingAndGlyphs\" textLength=\"151\" x=\"20\" y=\"20.9951\">AnalysisAnnotation</text></a><!--MD5=[b4997ac47864f28c2f74865a473b2911]\n",
       "class E2--><a href=\"psysml:44eddca9-682f-4ef7-a7c7-a9f194d7f2c9\" target=\"_top\" title=\"psysml:44eddca9-682f-4ef7-a7c7-a9f194d7f2c9\" xlink:actuate=\"onRequest\" xlink:href=\"psysml:44eddca9-682f-4ef7-a7c7-a9f194d7f2c9\" xlink:show=\"new\" xlink:title=\"psysml:44eddca9-682f-4ef7-a7c7-a9f194d7f2c9\" xlink:type=\"simple\"><rect fill=\"#FFFFFF\" height=\"45.9375\" id=\"E2\" style=\"stroke: #383838; stroke-width: 1.5;\" width=\"74\" x=\"238\" y=\"113.5\"/><text fill=\"#000000\" font-family=\"sans-serif\" font-size=\"12\" font-style=\"italic\" lengthAdjust=\"spacingAndGlyphs\" textLength=\"72\" x=\"239\" y=\"129.6387\">«dataType»</text><text fill=\"#000000\" font-family=\"sans-serif\" font-size=\"12\" lengthAdjust=\"spacingAndGlyphs\" textLength=\"27\" x=\"261.5\" y=\"143.6074\">Real</text><line style=\"stroke: #383838; stroke-width: 1.5;\" x1=\"239\" x2=\"311\" y1=\"151.4375\" y2=\"151.4375\"/></a><!--MD5=[09b614a08d8cba4a07c9adeb5e0fee81]\n",
       "class E3--><a href=\"psysml:e73f4f0e-f2f2-491a-ad18-2354ebab0714\" target=\"_top\" title=\"psysml:e73f4f0e-f2f2-491a-ad18-2354ebab0714\" xlink:actuate=\"onRequest\" xlink:href=\"psysml:e73f4f0e-f2f2-491a-ad18-2354ebab0714\" xlink:show=\"new\" xlink:title=\"psysml:e73f4f0e-f2f2-491a-ad18-2354ebab0714\" xlink:type=\"simple\"><rect fill=\"#FFFFFF\" height=\"190.7891\" id=\"E3\" style=\"stroke: #383838; stroke-width: 1.5;\" width=\"151\" x=\"38.5\" y=\"41\"/><text fill=\"#000000\" font-family=\"sans-serif\" font-size=\"12\" font-style=\"italic\" lengthAdjust=\"spacingAndGlyphs\" textLength=\"77\" x=\"75.5\" y=\"57.1387\">«action def»</text><text fill=\"#000000\" font-family=\"sans-serif\" font-size=\"12\" lengthAdjust=\"spacingAndGlyphs\" textLength=\"115\" x=\"56.5\" y=\"71.1074\">ComputeDynamics</text><line style=\"stroke: #383838; stroke-width: 1.5;\" x1=\"39.5\" x2=\"188.5\" y1=\"78.9375\" y2=\"78.9375\"/><text fill=\"#000000\" font-family=\"sans-serif\" font-size=\"11\" lengthAdjust=\"spacingAndGlyphs\" textLength=\"47\" x=\"44.5\" y=\"109.9526\">Cd: Real</text><text fill=\"#000000\" font-family=\"sans-serif\" font-size=\"11\" lengthAdjust=\"spacingAndGlyphs\" textLength=\"44\" x=\"44.5\" y=\"122.7573\">Cf: Real</text><text fill=\"#000000\" font-family=\"sans-serif\" font-size=\"11\" lengthAdjust=\"spacingAndGlyphs\" textLength=\"139\" x=\"44.5\" y=\"135.562\">a_out: AccelerationValue</text><text fill=\"#000000\" font-family=\"sans-serif\" font-size=\"11\" lengthAdjust=\"spacingAndGlyphs\" textLength=\"98\" x=\"44.5\" y=\"148.3667\">dt: DurationValue</text><text fill=\"#000000\" font-family=\"sans-serif\" font-size=\"11\" lengthAdjust=\"spacingAndGlyphs\" textLength=\"84\" x=\"44.5\" y=\"161.1714\">tm: MassValue</text><text fill=\"#000000\" font-family=\"sans-serif\" font-size=\"11\" lengthAdjust=\"spacingAndGlyphs\" textLength=\"97\" x=\"44.5\" y=\"173.9761\">v_in: SpeedValue</text><text fill=\"#000000\" font-family=\"sans-serif\" font-size=\"11\" lengthAdjust=\"spacingAndGlyphs\" textLength=\"105\" x=\"44.5\" y=\"186.7808\">v_out: SpeedValue</text><text fill=\"#000000\" font-family=\"sans-serif\" font-size=\"11\" lengthAdjust=\"spacingAndGlyphs\" textLength=\"114\" x=\"44.5\" y=\"199.5854\">whlpwr: PowerValue</text><text fill=\"#000000\" font-family=\"sans-serif\" font-size=\"11\" lengthAdjust=\"spacingAndGlyphs\" textLength=\"99\" x=\"44.5\" y=\"212.3901\">x_in: LengthValue</text><text fill=\"#000000\" font-family=\"sans-serif\" font-size=\"11\" lengthAdjust=\"spacingAndGlyphs\" textLength=\"107\" x=\"44.5\" y=\"225.1948\">x_out: LengthValue</text><line style=\"stroke: #383838; stroke-width: 1.0;\" x1=\"39.5\" x2=\"86.5\" y1=\"93.3398\" y2=\"93.3398\"/><text fill=\"#000000\" font-family=\"sans-serif\" font-size=\"11\" lengthAdjust=\"spacingAndGlyphs\" textLength=\"55\" x=\"86.5\" y=\"96.6479\">attributes</text><line style=\"stroke: #383838; stroke-width: 1.0;\" x1=\"141.5\" x2=\"188.5\" y1=\"93.3398\" y2=\"93.3398\"/></a><!--MD5=[ebbe1d658d1005bcc118a6aa81145e00]\n",
       "class E4--><a href=\"psysml:60a2becf-7a46-4ebd-946f-3a728f7b6aab\" target=\"_top\" title=\"psysml:60a2becf-7a46-4ebd-946f-3a728f7b6aab\" xlink:actuate=\"onRequest\" xlink:href=\"psysml:60a2becf-7a46-4ebd-946f-3a728f7b6aab\" xlink:show=\"new\" xlink:title=\"psysml:60a2becf-7a46-4ebd-946f-3a728f7b6aab\" xlink:type=\"simple\"><rect fill=\"#FFFFFF\" height=\"45.9375\" id=\"E4\" style=\"stroke: #383838; stroke-width: 1.5;\" width=\"152\" x=\"38\" y=\"292\"/><text fill=\"#000000\" font-family=\"sans-serif\" font-size=\"12\" font-style=\"italic\" lengthAdjust=\"spacingAndGlyphs\" textLength=\"132\" x=\"48\" y=\"308.1387\">«annotatingFeature»</text><text fill=\"#000000\" font-family=\"sans-serif\" font-size=\"12\" lengthAdjust=\"spacingAndGlyphs\" text-decoration=\"line-through\" textLength=\"51\" x=\"41\" y=\"322.1074\">noname</text><text fill=\"#000000\" font-family=\"sans-serif\" font-size=\"12\" lengthAdjust=\"spacingAndGlyphs\" textLength=\"95\" x=\"92\" y=\"322.1074\">: ToolExecution</text><line style=\"stroke: #383838; stroke-width: 1.5;\" x1=\"39\" x2=\"189\" y1=\"329.9375\" y2=\"329.9375\"/></a><!--MD5=[270fce915f116d4de14055a7c1d9a0f3]\n",
       "class E5--><a href=\"psysml:b02ba1b2-12c8-4052-9523-3aa0c79993f0\" target=\"_top\" title=\"psysml:b02ba1b2-12c8-4052-9523-3aa0c79993f0\" xlink:actuate=\"onRequest\" xlink:href=\"psysml:b02ba1b2-12c8-4052-9523-3aa0c79993f0\" xlink:show=\"new\" xlink:title=\"psysml:b02ba1b2-12c8-4052-9523-3aa0c79993f0\" xlink:type=\"simple\"><rect fill=\"#FFFFFF\" height=\"45.9375\" id=\"E5\" style=\"stroke: #383838; stroke-width: 1.5;\" width=\"126\" x=\"32\" y=\"398\"/><text fill=\"#000000\" font-family=\"sans-serif\" font-size=\"12\" font-style=\"italic\" lengthAdjust=\"spacingAndGlyphs\" textLength=\"124\" x=\"33\" y=\"414.1387\">«metadataFeature»</text><text fill=\"#000000\" font-family=\"sans-serif\" font-size=\"12\" lengthAdjust=\"spacingAndGlyphs\" textLength=\"60\" x=\"65\" y=\"428.1074\">toolName</text><line style=\"stroke: #383838; stroke-width: 1.5;\" x1=\"33\" x2=\"157\" y1=\"435.9375\" y2=\"435.9375\"/></a><!--MD5=[60a26617385b1d2d0262a64233df1f8d]\n",
       "class E6--><a href=\"psysml:cb4006f5-0e41-4f05-aa2a-a57df33d56ff\" target=\"_top\" title=\"psysml:cb4006f5-0e41-4f05-aa2a-a57df33d56ff\" xlink:actuate=\"onRequest\" xlink:href=\"psysml:cb4006f5-0e41-4f05-aa2a-a57df33d56ff\" xlink:show=\"new\" xlink:title=\"psysml:cb4006f5-0e41-4f05-aa2a-a57df33d56ff\" xlink:type=\"simple\"><rect fill=\"#FFFFFF\" height=\"45.9375\" id=\"E6\" style=\"stroke: #383838; stroke-width: 1.5;\" width=\"126\" x=\"193\" y=\"398\"/><text fill=\"#000000\" font-family=\"sans-serif\" font-size=\"12\" font-style=\"italic\" lengthAdjust=\"spacingAndGlyphs\" textLength=\"124\" x=\"194\" y=\"414.1387\">«metadataFeature»</text><text fill=\"#000000\" font-family=\"sans-serif\" font-size=\"12\" lengthAdjust=\"spacingAndGlyphs\" textLength=\"16\" x=\"248\" y=\"428.1074\">uri</text><line style=\"stroke: #383838; stroke-width: 1.5;\" x1=\"194\" x2=\"318\" y1=\"435.9375\" y2=\"435.9375\"/></a><!--MD5=[4672eba38e49728da53d11aeb285b987]\n",
       "reverse link E3 to E4--><a href=\"psysml:66d6f7e6-2188-4a34-9637-6b4b270c496c\" target=\"_top\" title=\"psysml:66d6f7e6-2188-4a34-9637-6b4b270c496c\" xlink:actuate=\"onRequest\" xlink:href=\"psysml:66d6f7e6-2188-4a34-9637-6b4b270c496c\" xlink:show=\"new\" xlink:title=\"psysml:66d6f7e6-2188-4a34-9637-6b4b270c496c\" xlink:type=\"simple\"><path d=\"M114,247.28 C114,264.19 114,279.97 114,291.94 \" fill=\"none\" id=\"E3&lt;-E4\" style=\"stroke: #383838; stroke-width: 1.0;\"/><ellipse cx=\"114\" cy=\"240.21\" fill=\"#FFFFFF\" rx=\"8\" ry=\"8\" style=\"stroke: #383838; stroke-width: 1.0;\"/><line style=\"stroke: #383838; stroke-width: 1.0;\" x1=\"114\" x2=\"114\" y1=\"248.21\" y2=\"232.21\"/><line style=\"stroke: #383838; stroke-width: 1.0;\" x1=\"106\" x2=\"122\" y1=\"240.21\" y2=\"240.21\"/></a><!--MD5=[62aa6af11e70f752912c1cb0466f24f7]\n",
       "reverse link E4 to E5--><a href=\"psysml:4336f8bf-5a73-49a4-a706-8a85ff7218c2\" target=\"_top\" title=\"psysml:4336f8bf-5a73-49a4-a706-8a85ff7218c2\" xlink:actuate=\"onRequest\" xlink:href=\"psysml:4336f8bf-5a73-49a4-a706-8a85ff7218c2\" xlink:show=\"new\" xlink:title=\"psysml:4336f8bf-5a73-49a4-a706-8a85ff7218c2\" xlink:type=\"simple\"><path d=\"M107.61,350.96 C104.77,366.51 101.52,384.33 99.02,397.98 \" fill=\"none\" id=\"E4&lt;-E5\" style=\"stroke: #383838; stroke-width: 1.0;\"/><polygon fill=\"#383838\" points=\"109.97,338.06,104.9597,343.2462,107.8199,349.8658,112.8302,344.6796,109.97,338.06\" style=\"stroke: #383838; stroke-width: 1.0;\"/></a><!--MD5=[6db378b65e1aef66a01cb3103812b399]\n",
       "reverse link E4 to E6--><a href=\"psysml:14217a47-d828-403c-a59e-1cb114a87a2b\" target=\"_top\" title=\"psysml:14217a47-d828-403c-a59e-1cb114a87a2b\" xlink:actuate=\"onRequest\" xlink:href=\"psysml:14217a47-d828-403c-a59e-1cb114a87a2b\" xlink:show=\"new\" xlink:title=\"psysml:14217a47-d828-403c-a59e-1cb114a87a2b\" xlink:type=\"simple\"><path d=\"M154.79,345.88 C177.48,362.49 205.23,382.82 225.93,397.98 \" fill=\"none\" id=\"E4&lt;-E6\" style=\"stroke: #383838; stroke-width: 1.0;\"/><polygon fill=\"#383838\" points=\"144.11,338.06,146.5846,344.8332,153.7885,345.1541,151.314,338.3809,144.11,338.06\" style=\"stroke: #383838; stroke-width: 1.0;\"/></a><!--MD5=[8842e42fa4cb24960a33c6b88e6fd01d]\n",
       "@startuml\r\n",
       "top to bottom direction\r\n",
       "skinparam monochrome true\r\n",
       "skinparam classbackgroundcolor white\r\n",
       "skinparam shadowing false\r\n",
       "skinparam wrapWidth 300\r\n",
       "hide circle\r\n",
       "\r\n",
       "package \"AnalysisAnnotation\" as E1  [[psysml:3f9dd228-0d59-436f-8c66-7bfaf74317e1 ]]  {\r\n",
       "comp def \"Real\" as E2  <<(T,blue)dataType>> [[psysml:44eddca9-682f-4ef7-a7c7-a9f194d7f2c9 ]] {\r\n",
       "}\r\n",
       "comp def \"ComputeDynamics\" as E3  <<(T,blue)action def>> [[psysml:e73f4f0e-f2f2-491a-ad18-2354ebab0714 ]] {\r\n",
       "- - attributes - -\r\n",
       "Cd: Real\r\n",
       "Cf: Real\r\n",
       "a_out: AccelerationValue\r\n",
       "dt: DurationValue\r\n",
       "tm: MassValue\r\n",
       "v_in: SpeedValue\r\n",
       "v_out: SpeedValue\r\n",
       "whlpwr: PowerValue\r\n",
       "x_in: LengthValue\r\n",
       "x_out: LengthValue\r\n",
       "}\r\n",
       "comp def \"<s>noname</s>: ToolExecution\" as E4  <<(T,blue)annotatingFeature>> [[psysml:60a2becf-7a46-4ebd-946f-3a728f7b6aab ]] {\r\n",
       "}\r\n",
       "comp def \"toolName\" as E5  <<(T,blue)metadataFeature>> [[psysml:b02ba1b2-12c8-4052-9523-3aa0c79993f0 ]] {\r\n",
       "}\r\n",
       "comp def \"uri\" as E6  <<(T,blue)metadataFeature>> [[psysml:cb4006f5-0e41-4f05-aa2a-a57df33d56ff ]] {\r\n",
       "}\r\n",
       "E3 +- - E4 [[psysml:66d6f7e6-2188-4a34-9637-6b4b270c496c ]] \r\n",
       "E4 *- - E5 [[psysml:4336f8bf-5a73-49a4-a706-8a85ff7218c2 ]] \r\n",
       "E4 *- - E6 [[psysml:14217a47-d828-403c-a59e-1cb114a87a2b ]] \r\n",
       "}\r\n",
       "@enduml\r\n",
       "\n",
       "PlantUML version 1.2020.13(Sat Jun 13 12:26:38 UTC 2020)\n",
       "(EPL source distribution)\n",
       "Java Runtime: OpenJDK Runtime Environment\n",
       "JVM: OpenJDK 64-Bit Server VM\n",
       "Default Encoding: UTF-8\n",
       "Language: en\n",
       "Country: null\n",
       "--></g></svg>"
      ]
     },
     "execution_count": 49,
     "metadata": {},
     "output_type": "execute_result"
    }
   ],
   "source": [
    "%viz --style=\"TB\" --view=\"Sequence\" \"AnalysisAnnotation\""
   ]
  },
  {
   "cell_type": "code",
   "execution_count": 50,
   "id": "8c7b80d2",
   "metadata": {
    "execution": {
     "iopub.execute_input": "2021-04-20T07:28:19.272720Z",
     "iopub.status.busy": "2021-04-20T07:28:19.272307Z",
     "iopub.status.idle": "2021-04-20T07:28:19.306136Z",
     "shell.execute_reply": "2021-04-20T07:28:19.304629Z"
    }
   },
   "outputs": [
    {
     "data": {
      "image/svg+xml": [
       "<?xml version=\"1.0\" encoding=\"UTF-8\" standalone=\"no\"?><svg xmlns=\"http://www.w3.org/2000/svg\" xmlns:xlink=\"http://www.w3.org/1999/xlink\" contentScriptType=\"application/ecmascript\" contentStyleType=\"text/css\" height=\"350px\" preserveAspectRatio=\"none\" style=\"width:481px;height:350px;\" version=\"1.1\" viewBox=\"0 0 481 350\" width=\"481px\" zoomAndPan=\"magnify\"><defs/><g><!--MD5=[fbc87193dbaf4d95561dea2c320d4a47]\n",
       "cluster E1--><a href=\"psysml:3f9dd228-0d59-436f-8c66-7bfaf74317e1\" target=\"_top\" title=\"psysml:3f9dd228-0d59-436f-8c66-7bfaf74317e1\" xlink:actuate=\"onRequest\" xlink:href=\"psysml:3f9dd228-0d59-436f-8c66-7bfaf74317e1\" xlink:show=\"new\" xlink:title=\"psysml:3f9dd228-0d59-436f-8c66-7bfaf74317e1\" xlink:type=\"simple\"><polygon fill=\"#FFFFFF\" points=\"16,6,173,6,180,28.2969,459,28.2969,459,338.72,16,338.72,16,6\" style=\"stroke: #000000; stroke-width: 1.5;\"/><line style=\"stroke: #000000; stroke-width: 1.5;\" x1=\"16\" x2=\"180\" y1=\"28.2969\" y2=\"28.2969\"/><text fill=\"#000000\" font-family=\"sans-serif\" font-size=\"14\" font-weight=\"bold\" lengthAdjust=\"spacingAndGlyphs\" textLength=\"151\" x=\"20\" y=\"20.9951\">AnalysisAnnotation</text></a><!--MD5=[d5e69f78d87373223dbae638b30a9c99]\n",
       "cluster E3--><a href=\"psysml:e73f4f0e-f2f2-491a-ad18-2354ebab0714\" target=\"_top\" title=\"psysml:e73f4f0e-f2f2-491a-ad18-2354ebab0714\" xlink:actuate=\"onRequest\" xlink:href=\"psysml:e73f4f0e-f2f2-491a-ad18-2354ebab0714\" xlink:show=\"new\" xlink:title=\"psysml:e73f4f0e-f2f2-491a-ad18-2354ebab0714\" xlink:type=\"simple\"><rect fill=\"#FFFFFF\" height=\"244.72\" id=\"E3\" style=\"stroke: #383838; stroke-width: 1.5;\" width=\"318\" x=\"129\" y=\"64\"/><rect fill=\"#F8F8F8\" height=\"37.9375\" style=\"stroke: #383838; stroke-width: 1.5;\" width=\"318\" x=\"129\" y=\"64\"/><text fill=\"#000000\" font-family=\"sans-serif\" font-size=\"12\" font-style=\"italic\" lengthAdjust=\"spacingAndGlyphs\" textLength=\"77\" x=\"249.5\" y=\"80.1387\">«action def»</text><text fill=\"#000000\" font-family=\"sans-serif\" font-size=\"12\" lengthAdjust=\"spacingAndGlyphs\" textLength=\"115\" x=\"230.5\" y=\"94.1074\">ComputeDynamics</text></a><!--MD5=[b4997ac47864f28c2f74865a473b2911]\n",
       "class E2--><a href=\"psysml:44eddca9-682f-4ef7-a7c7-a9f194d7f2c9\" target=\"_top\" title=\"psysml:44eddca9-682f-4ef7-a7c7-a9f194d7f2c9\" xlink:actuate=\"onRequest\" xlink:href=\"psysml:44eddca9-682f-4ef7-a7c7-a9f194d7f2c9\" xlink:show=\"new\" xlink:title=\"psysml:44eddca9-682f-4ef7-a7c7-a9f194d7f2c9\" xlink:type=\"simple\"><rect fill=\"#FFFFFF\" height=\"45.9375\" id=\"E2\" style=\"stroke: #383838; stroke-width: 1.5;\" width=\"74\" x=\"32\" y=\"41\"/><text fill=\"#000000\" font-family=\"sans-serif\" font-size=\"12\" font-style=\"italic\" lengthAdjust=\"spacingAndGlyphs\" textLength=\"72\" x=\"33\" y=\"57.1387\">«dataType»</text><text fill=\"#000000\" font-family=\"sans-serif\" font-size=\"12\" lengthAdjust=\"spacingAndGlyphs\" textLength=\"27\" x=\"55.5\" y=\"71.1074\">Real</text><line style=\"stroke: #383838; stroke-width: 1.5;\" x1=\"33\" x2=\"105\" y1=\"78.9375\" y2=\"78.9375\"/></a><text fill=\"#000000\" font-family=\"sans-serif\" font-size=\"14\" lengthAdjust=\"spacingAndGlyphs\" textLength=\"48\" x=\"169\" y=\"327.7151\">$result</text><rect fill=\"#383838\" height=\"12\" style=\"stroke: #F8F8F8; stroke-width: 1.5;\" width=\"12\" x=\"187\" y=\"302.72\"/><text fill=\"#000000\" font-family=\"sans-serif\" font-size=\"14\" lengthAdjust=\"spacingAndGlyphs\" textLength=\"48\" x=\"216\" y=\"327.7151\">$result</text><rect fill=\"#383838\" height=\"12\" style=\"stroke: #F8F8F8; stroke-width: 1.5;\" width=\"12\" x=\"234\" y=\"302.72\"/><text fill=\"#000000\" font-family=\"sans-serif\" font-size=\"14\" lengthAdjust=\"spacingAndGlyphs\" textLength=\"14\" x=\"140\" y=\"42.6982\">dt</text><rect fill=\"#383838\" height=\"12\" style=\"stroke: #F8F8F8; stroke-width: 1.5;\" width=\"12\" x=\"141\" y=\"58\"/><text fill=\"#000000\" font-family=\"sans-serif\" font-size=\"14\" lengthAdjust=\"spacingAndGlyphs\" textLength=\"48\" x=\"170\" y=\"42.6982\">whlpwr</text><rect fill=\"#383838\" height=\"12\" style=\"stroke: #F8F8F8; stroke-width: 1.5;\" width=\"12\" x=\"188\" y=\"58\"/><text fill=\"#000000\" font-family=\"sans-serif\" font-size=\"14\" lengthAdjust=\"spacingAndGlyphs\" textLength=\"19\" x=\"231.5\" y=\"42.6982\">Cd</text><rect fill=\"#383838\" height=\"12\" style=\"stroke: #F8F8F8; stroke-width: 1.5;\" width=\"12\" x=\"235\" y=\"58\"/><text fill=\"#000000\" font-family=\"sans-serif\" font-size=\"14\" lengthAdjust=\"spacingAndGlyphs\" textLength=\"14\" x=\"281\" y=\"42.6982\">Cf</text><rect fill=\"#383838\" height=\"12\" style=\"stroke: #F8F8F8; stroke-width: 1.5;\" width=\"12\" x=\"282\" y=\"58\"/><text fill=\"#000000\" font-family=\"sans-serif\" font-size=\"14\" lengthAdjust=\"spacingAndGlyphs\" textLength=\"18\" x=\"326\" y=\"42.6982\">tm</text><rect fill=\"#383838\" height=\"12\" style=\"stroke: #F8F8F8; stroke-width: 1.5;\" width=\"12\" x=\"329\" y=\"58\"/><text fill=\"#000000\" font-family=\"sans-serif\" font-size=\"14\" lengthAdjust=\"spacingAndGlyphs\" textLength=\"26\" x=\"369\" y=\"42.6982\">v_in</text><rect fill=\"#383838\" height=\"12\" style=\"stroke: #F8F8F8; stroke-width: 1.5;\" width=\"12\" x=\"376\" y=\"58\"/><text fill=\"#000000\" font-family=\"sans-serif\" font-size=\"14\" lengthAdjust=\"spacingAndGlyphs\" textLength=\"26\" x=\"416\" y=\"42.6982\">x_in</text><rect fill=\"#383838\" height=\"12\" style=\"stroke: #F8F8F8; stroke-width: 1.5;\" width=\"12\" x=\"423\" y=\"58\"/><text fill=\"#000000\" font-family=\"sans-serif\" font-size=\"14\" lengthAdjust=\"spacingAndGlyphs\" textLength=\"38\" x=\"268\" y=\"327.7151\">a_out</text><rect fill=\"#383838\" height=\"12\" style=\"stroke: #F8F8F8; stroke-width: 1.5;\" width=\"12\" x=\"281\" y=\"302.72\"/><text fill=\"#000000\" font-family=\"sans-serif\" font-size=\"14\" lengthAdjust=\"spacingAndGlyphs\" textLength=\"37\" x=\"315.5\" y=\"327.7151\">v_out</text><rect fill=\"#383838\" height=\"12\" style=\"stroke: #F8F8F8; stroke-width: 1.5;\" width=\"12\" x=\"328\" y=\"302.72\"/><text fill=\"#000000\" font-family=\"sans-serif\" font-size=\"14\" lengthAdjust=\"spacingAndGlyphs\" textLength=\"37\" x=\"362.5\" y=\"327.7151\">x_out</text><rect fill=\"#383838\" height=\"12\" style=\"stroke: #F8F8F8; stroke-width: 1.5;\" width=\"12\" x=\"375\" y=\"302.72\"/><!--MD5=[2be1380c3d18a088418a7595824edeab]\n",
       "@startuml\r\n",
       "top to bottom direction\r\n",
       "skinparam monochrome true\r\n",
       "skinparam classbackgroundcolor white\r\n",
       "skinparam shadowing false\r\n",
       "skinparam wrapWidth 300\r\n",
       "hide circle\r\n",
       "\r\n",
       "package \"AnalysisAnnotation\" as E1  [[psysml:3f9dd228-0d59-436f-8c66-7bfaf74317e1 ]]  {\r\n",
       "comp def \"Real\" as E2  <<(T,blue)dataType>> [[psysml:44eddca9-682f-4ef7-a7c7-a9f194d7f2c9 ]] {\r\n",
       "}\r\n",
       "rec def \"ComputeDynamics\" as E3  <<(T,blue)action def>> [[psysml:e73f4f0e-f2f2-491a-ad18-2354ebab0714 ]] {\r\n",
       "portout \"$result\" as E4  [[psysml:321a5472-f26a-4f44-adf1-e887f248e10c ]] \r\n",
       "portout \"$result\" as E5  [[psysml:249d7fd3-af20-489f-a52b-b6c298227647 ]] \r\n",
       "portin \"dt\" as E6  [[psysml:d9dfe931-1109-47e6-bc0c-352db24577b0 ]] \r\n",
       "portin \"whlpwr\" as E7  [[psysml:44277f67-022c-45f6-9760-98798ee04e09 ]] \r\n",
       "portin \"Cd\" as E8  [[psysml:41d96645-5d65-4e32-85e5-332077e108f6 ]] \r\n",
       "portin \"Cf\" as E9  [[psysml:aebf7dc6-628a-4d75-a952-13ccca53817c ]] \r\n",
       "portin \"tm\" as E10  [[psysml:08dba41b-e930-4b20-afae-ef7ae15f00ec ]] \r\n",
       "portin \"v_in\" as E11  [[psysml:e3f3c5a0-ed9d-41a6-a918-fe4a600fe261 ]] \r\n",
       "portin \"x_in\" as E12  [[psysml:fb3fca97-7004-4d76-8828-7714499f1454 ]] \r\n",
       "portout \"a_out\" as E13  [[psysml:5a710766-56b6-4c7a-9ae9-326b3f7572a8 ]] \r\n",
       "portout \"v_out\" as E14  [[psysml:1e62abd8-4172-4662-8f1c-1e7c30e8c54c ]] \r\n",
       "portout \"x_out\" as E15  [[psysml:e4c640c8-309e-4572-81b1-e78594ed37ec ]] \r\n",
       "}\r\n",
       "\r\n",
       "}\r\n",
       "@enduml\r\n",
       "\n",
       "PlantUML version 1.2020.13(Sat Jun 13 12:26:38 UTC 2020)\n",
       "(EPL source distribution)\n",
       "Java Runtime: OpenJDK Runtime Environment\n",
       "JVM: OpenJDK 64-Bit Server VM\n",
       "Default Encoding: UTF-8\n",
       "Language: en\n",
       "Country: null\n",
       "--></g></svg>"
      ]
     },
     "execution_count": 50,
     "metadata": {},
     "output_type": "execute_result"
    }
   ],
   "source": [
    "%viz --style=\"TB\" --view=\"MIXED\" \"AnalysisAnnotation\""
   ]
  },
  {
   "cell_type": "code",
   "execution_count": 51,
   "id": "016996e0",
   "metadata": {
    "execution": {
     "iopub.execute_input": "2021-04-20T07:28:19.360105Z",
     "iopub.status.busy": "2021-04-20T07:28:19.356525Z",
     "iopub.status.idle": "2021-04-20T07:28:19.397489Z",
     "shell.execute_reply": "2021-04-20T07:28:19.395420Z"
    }
   },
   "outputs": [
    {
     "data": {
      "image/svg+xml": [
       "<?xml version=\"1.0\" encoding=\"UTF-8\" standalone=\"no\"?><svg xmlns=\"http://www.w3.org/2000/svg\" xmlns:xlink=\"http://www.w3.org/1999/xlink\" contentScriptType=\"application/ecmascript\" contentStyleType=\"text/css\" height=\"350px\" preserveAspectRatio=\"none\" style=\"width:481px;height:350px;\" version=\"1.1\" viewBox=\"0 0 481 350\" width=\"481px\" zoomAndPan=\"magnify\"><defs/><g><!--MD5=[fbc87193dbaf4d95561dea2c320d4a47]\n",
       "cluster E1--><a href=\"psysml:3f9dd228-0d59-436f-8c66-7bfaf74317e1\" target=\"_top\" title=\"psysml:3f9dd228-0d59-436f-8c66-7bfaf74317e1\" xlink:actuate=\"onRequest\" xlink:href=\"psysml:3f9dd228-0d59-436f-8c66-7bfaf74317e1\" xlink:show=\"new\" xlink:title=\"psysml:3f9dd228-0d59-436f-8c66-7bfaf74317e1\" xlink:type=\"simple\"><polygon fill=\"#FFFFFF\" points=\"16,6,173,6,180,28.2969,459,28.2969,459,338.72,16,338.72,16,6\" style=\"stroke: #000000; stroke-width: 1.5;\"/><line style=\"stroke: #000000; stroke-width: 1.5;\" x1=\"16\" x2=\"180\" y1=\"28.2969\" y2=\"28.2969\"/><text fill=\"#000000\" font-family=\"sans-serif\" font-size=\"14\" font-weight=\"bold\" lengthAdjust=\"spacingAndGlyphs\" textLength=\"151\" x=\"20\" y=\"20.9951\">AnalysisAnnotation</text></a><!--MD5=[d5e69f78d87373223dbae638b30a9c99]\n",
       "cluster E3--><a href=\"psysml:e73f4f0e-f2f2-491a-ad18-2354ebab0714\" target=\"_top\" title=\"psysml:e73f4f0e-f2f2-491a-ad18-2354ebab0714\" xlink:actuate=\"onRequest\" xlink:href=\"psysml:e73f4f0e-f2f2-491a-ad18-2354ebab0714\" xlink:show=\"new\" xlink:title=\"psysml:e73f4f0e-f2f2-491a-ad18-2354ebab0714\" xlink:type=\"simple\"><rect fill=\"#FFFFFF\" height=\"244.72\" id=\"E3\" style=\"stroke: #383838; stroke-width: 1.5;\" width=\"318\" x=\"129\" y=\"64\"/><rect fill=\"#F8F8F8\" height=\"37.9375\" style=\"stroke: #383838; stroke-width: 1.5;\" width=\"318\" x=\"129\" y=\"64\"/><text fill=\"#000000\" font-family=\"sans-serif\" font-size=\"12\" font-style=\"italic\" lengthAdjust=\"spacingAndGlyphs\" textLength=\"77\" x=\"249.5\" y=\"80.1387\">«action def»</text><text fill=\"#000000\" font-family=\"sans-serif\" font-size=\"12\" lengthAdjust=\"spacingAndGlyphs\" textLength=\"115\" x=\"230.5\" y=\"94.1074\">ComputeDynamics</text></a><!--MD5=[b4997ac47864f28c2f74865a473b2911]\n",
       "class E2--><a href=\"psysml:44eddca9-682f-4ef7-a7c7-a9f194d7f2c9\" target=\"_top\" title=\"psysml:44eddca9-682f-4ef7-a7c7-a9f194d7f2c9\" xlink:actuate=\"onRequest\" xlink:href=\"psysml:44eddca9-682f-4ef7-a7c7-a9f194d7f2c9\" xlink:show=\"new\" xlink:title=\"psysml:44eddca9-682f-4ef7-a7c7-a9f194d7f2c9\" xlink:type=\"simple\"><rect fill=\"#FFFFFF\" height=\"45.9375\" id=\"E2\" style=\"stroke: #383838; stroke-width: 1.5;\" width=\"74\" x=\"32\" y=\"41\"/><text fill=\"#000000\" font-family=\"sans-serif\" font-size=\"12\" font-style=\"italic\" lengthAdjust=\"spacingAndGlyphs\" textLength=\"72\" x=\"33\" y=\"57.1387\">«dataType»</text><text fill=\"#000000\" font-family=\"sans-serif\" font-size=\"12\" lengthAdjust=\"spacingAndGlyphs\" textLength=\"27\" x=\"55.5\" y=\"71.1074\">Real</text><line style=\"stroke: #383838; stroke-width: 1.5;\" x1=\"33\" x2=\"105\" y1=\"78.9375\" y2=\"78.9375\"/></a><text fill=\"#000000\" font-family=\"sans-serif\" font-size=\"14\" lengthAdjust=\"spacingAndGlyphs\" textLength=\"48\" x=\"169\" y=\"327.7151\">$result</text><rect fill=\"#383838\" height=\"12\" style=\"stroke: #F8F8F8; stroke-width: 1.5;\" width=\"12\" x=\"187\" y=\"302.72\"/><text fill=\"#000000\" font-family=\"sans-serif\" font-size=\"14\" lengthAdjust=\"spacingAndGlyphs\" textLength=\"48\" x=\"216\" y=\"327.7151\">$result</text><rect fill=\"#383838\" height=\"12\" style=\"stroke: #F8F8F8; stroke-width: 1.5;\" width=\"12\" x=\"234\" y=\"302.72\"/><text fill=\"#000000\" font-family=\"sans-serif\" font-size=\"14\" lengthAdjust=\"spacingAndGlyphs\" textLength=\"14\" x=\"140\" y=\"42.6982\">dt</text><rect fill=\"#383838\" height=\"12\" style=\"stroke: #F8F8F8; stroke-width: 1.5;\" width=\"12\" x=\"141\" y=\"58\"/><text fill=\"#000000\" font-family=\"sans-serif\" font-size=\"14\" lengthAdjust=\"spacingAndGlyphs\" textLength=\"48\" x=\"170\" y=\"42.6982\">whlpwr</text><rect fill=\"#383838\" height=\"12\" style=\"stroke: #F8F8F8; stroke-width: 1.5;\" width=\"12\" x=\"188\" y=\"58\"/><text fill=\"#000000\" font-family=\"sans-serif\" font-size=\"14\" lengthAdjust=\"spacingAndGlyphs\" textLength=\"19\" x=\"231.5\" y=\"42.6982\">Cd</text><rect fill=\"#383838\" height=\"12\" style=\"stroke: #F8F8F8; stroke-width: 1.5;\" width=\"12\" x=\"235\" y=\"58\"/><text fill=\"#000000\" font-family=\"sans-serif\" font-size=\"14\" lengthAdjust=\"spacingAndGlyphs\" textLength=\"14\" x=\"281\" y=\"42.6982\">Cf</text><rect fill=\"#383838\" height=\"12\" style=\"stroke: #F8F8F8; stroke-width: 1.5;\" width=\"12\" x=\"282\" y=\"58\"/><text fill=\"#000000\" font-family=\"sans-serif\" font-size=\"14\" lengthAdjust=\"spacingAndGlyphs\" textLength=\"18\" x=\"326\" y=\"42.6982\">tm</text><rect fill=\"#383838\" height=\"12\" style=\"stroke: #F8F8F8; stroke-width: 1.5;\" width=\"12\" x=\"329\" y=\"58\"/><text fill=\"#000000\" font-family=\"sans-serif\" font-size=\"14\" lengthAdjust=\"spacingAndGlyphs\" textLength=\"26\" x=\"369\" y=\"42.6982\">v_in</text><rect fill=\"#383838\" height=\"12\" style=\"stroke: #F8F8F8; stroke-width: 1.5;\" width=\"12\" x=\"376\" y=\"58\"/><text fill=\"#000000\" font-family=\"sans-serif\" font-size=\"14\" lengthAdjust=\"spacingAndGlyphs\" textLength=\"26\" x=\"416\" y=\"42.6982\">x_in</text><rect fill=\"#383838\" height=\"12\" style=\"stroke: #F8F8F8; stroke-width: 1.5;\" width=\"12\" x=\"423\" y=\"58\"/><text fill=\"#000000\" font-family=\"sans-serif\" font-size=\"14\" lengthAdjust=\"spacingAndGlyphs\" textLength=\"38\" x=\"268\" y=\"327.7151\">a_out</text><rect fill=\"#383838\" height=\"12\" style=\"stroke: #F8F8F8; stroke-width: 1.5;\" width=\"12\" x=\"281\" y=\"302.72\"/><text fill=\"#000000\" font-family=\"sans-serif\" font-size=\"14\" lengthAdjust=\"spacingAndGlyphs\" textLength=\"37\" x=\"315.5\" y=\"327.7151\">v_out</text><rect fill=\"#383838\" height=\"12\" style=\"stroke: #F8F8F8; stroke-width: 1.5;\" width=\"12\" x=\"328\" y=\"302.72\"/><text fill=\"#000000\" font-family=\"sans-serif\" font-size=\"14\" lengthAdjust=\"spacingAndGlyphs\" textLength=\"37\" x=\"362.5\" y=\"327.7151\">x_out</text><rect fill=\"#383838\" height=\"12\" style=\"stroke: #F8F8F8; stroke-width: 1.5;\" width=\"12\" x=\"375\" y=\"302.72\"/><!--MD5=[dd4c351e91e99ef8d2cffbff82704713]\n",
       "@startuml\r\n",
       "skinparam linetype ortho\r\n",
       "skinparam monochrome true\r\n",
       "skinparam classbackgroundcolor white\r\n",
       "skinparam shadowing false\r\n",
       "skinparam wrapWidth 300\r\n",
       "hide circle\r\n",
       "\r\n",
       "package \"AnalysisAnnotation\" as E1  [[psysml:3f9dd228-0d59-436f-8c66-7bfaf74317e1 ]]  {\r\n",
       "comp def \"Real\" as E2  <<(T,blue)dataType>> [[psysml:44eddca9-682f-4ef7-a7c7-a9f194d7f2c9 ]] {\r\n",
       "}\r\n",
       "rec def \"ComputeDynamics\" as E3  <<(T,blue)action def>> [[psysml:e73f4f0e-f2f2-491a-ad18-2354ebab0714 ]] {\r\n",
       "portout \"$result\" as E4  [[psysml:321a5472-f26a-4f44-adf1-e887f248e10c ]] \r\n",
       "portout \"$result\" as E5  [[psysml:249d7fd3-af20-489f-a52b-b6c298227647 ]] \r\n",
       "portin \"dt\" as E6  [[psysml:d9dfe931-1109-47e6-bc0c-352db24577b0 ]] \r\n",
       "portin \"whlpwr\" as E7  [[psysml:44277f67-022c-45f6-9760-98798ee04e09 ]] \r\n",
       "portin \"Cd\" as E8  [[psysml:41d96645-5d65-4e32-85e5-332077e108f6 ]] \r\n",
       "portin \"Cf\" as E9  [[psysml:aebf7dc6-628a-4d75-a952-13ccca53817c ]] \r\n",
       "portin \"tm\" as E10  [[psysml:08dba41b-e930-4b20-afae-ef7ae15f00ec ]] \r\n",
       "portin \"v_in\" as E11  [[psysml:e3f3c5a0-ed9d-41a6-a918-fe4a600fe261 ]] \r\n",
       "portin \"x_in\" as E12  [[psysml:fb3fca97-7004-4d76-8828-7714499f1454 ]] \r\n",
       "portout \"a_out\" as E13  [[psysml:5a710766-56b6-4c7a-9ae9-326b3f7572a8 ]] \r\n",
       "portout \"v_out\" as E14  [[psysml:1e62abd8-4172-4662-8f1c-1e7c30e8c54c ]] \r\n",
       "portout \"x_out\" as E15  [[psysml:e4c640c8-309e-4572-81b1-e78594ed37ec ]] \r\n",
       "}\r\n",
       "\r\n",
       "}\r\n",
       "@enduml\r\n",
       "\n",
       "PlantUML version 1.2020.13(Sat Jun 13 12:26:38 UTC 2020)\n",
       "(EPL source distribution)\n",
       "Java Runtime: OpenJDK Runtime Environment\n",
       "JVM: OpenJDK 64-Bit Server VM\n",
       "Default Encoding: UTF-8\n",
       "Language: en\n",
       "Country: null\n",
       "--></g></svg>"
      ]
     },
     "execution_count": 51,
     "metadata": {},
     "output_type": "execute_result"
    }
   ],
   "source": [
    "%viz --style=\"ORTHOLINE\" --view=\"Default\" \"AnalysisAnnotation\""
   ]
  },
  {
   "cell_type": "code",
   "execution_count": 52,
   "id": "27756207",
   "metadata": {
    "execution": {
     "iopub.execute_input": "2021-04-20T07:28:19.446709Z",
     "iopub.status.busy": "2021-04-20T07:28:19.446232Z",
     "iopub.status.idle": "2021-04-20T07:28:19.589388Z",
     "shell.execute_reply": "2021-04-20T07:28:19.587723Z"
    }
   },
   "outputs": [
    {
     "data": {
      "image/svg+xml": [
       "<?xml version=\"1.0\" encoding=\"UTF-8\" standalone=\"no\"?><svg xmlns=\"http://www.w3.org/2000/svg\" xmlns:xlink=\"http://www.w3.org/1999/xlink\" contentScriptType=\"application/ecmascript\" contentStyleType=\"text/css\" height=\"472px\" preserveAspectRatio=\"none\" style=\"width:357px;height:472px;\" version=\"1.1\" viewBox=\"0 0 357 472\" width=\"357px\" zoomAndPan=\"magnify\"><defs/><g><!--MD5=[fbc87193dbaf4d95561dea2c320d4a47]\n",
       "cluster E1--><a href=\"psysml:3f9dd228-0d59-436f-8c66-7bfaf74317e1\" target=\"_top\" title=\"psysml:3f9dd228-0d59-436f-8c66-7bfaf74317e1\" xlink:actuate=\"onRequest\" xlink:href=\"psysml:3f9dd228-0d59-436f-8c66-7bfaf74317e1\" xlink:show=\"new\" xlink:title=\"psysml:3f9dd228-0d59-436f-8c66-7bfaf74317e1\" xlink:type=\"simple\"><polygon fill=\"#FFFFFF\" points=\"16,6,173,6,180,28.2969,335,28.2969,335,460,16,460,16,6\" style=\"stroke: #000000; stroke-width: 1.5;\"/><line style=\"stroke: #000000; stroke-width: 1.5;\" x1=\"16\" x2=\"180\" y1=\"28.2969\" y2=\"28.2969\"/><text fill=\"#000000\" font-family=\"sans-serif\" font-size=\"14\" font-weight=\"bold\" lengthAdjust=\"spacingAndGlyphs\" textLength=\"151\" x=\"20\" y=\"20.9951\">AnalysisAnnotation</text></a><!--MD5=[b4997ac47864f28c2f74865a473b2911]\n",
       "class E2--><a href=\"psysml:44eddca9-682f-4ef7-a7c7-a9f194d7f2c9\" target=\"_top\" title=\"psysml:44eddca9-682f-4ef7-a7c7-a9f194d7f2c9\" xlink:actuate=\"onRequest\" xlink:href=\"psysml:44eddca9-682f-4ef7-a7c7-a9f194d7f2c9\" xlink:show=\"new\" xlink:title=\"psysml:44eddca9-682f-4ef7-a7c7-a9f194d7f2c9\" xlink:type=\"simple\"><rect fill=\"#FFFFFF\" height=\"45.9375\" id=\"E2\" style=\"stroke: #383838; stroke-width: 1.5;\" width=\"74\" x=\"238\" y=\"113.5\"/><text fill=\"#000000\" font-family=\"sans-serif\" font-size=\"12\" font-style=\"italic\" lengthAdjust=\"spacingAndGlyphs\" textLength=\"72\" x=\"239\" y=\"129.6387\">«dataType»</text><text fill=\"#000000\" font-family=\"sans-serif\" font-size=\"12\" lengthAdjust=\"spacingAndGlyphs\" textLength=\"27\" x=\"261.5\" y=\"143.6074\">Real</text><line style=\"stroke: #383838; stroke-width: 1.5;\" x1=\"239\" x2=\"311\" y1=\"151.4375\" y2=\"151.4375\"/></a><!--MD5=[09b614a08d8cba4a07c9adeb5e0fee81]\n",
       "class E3--><a href=\"psysml:e73f4f0e-f2f2-491a-ad18-2354ebab0714\" target=\"_top\" title=\"psysml:e73f4f0e-f2f2-491a-ad18-2354ebab0714\" xlink:actuate=\"onRequest\" xlink:href=\"psysml:e73f4f0e-f2f2-491a-ad18-2354ebab0714\" xlink:show=\"new\" xlink:title=\"psysml:e73f4f0e-f2f2-491a-ad18-2354ebab0714\" xlink:type=\"simple\"><rect fill=\"#FFFFFF\" height=\"190.7891\" id=\"E3\" style=\"stroke: #383838; stroke-width: 1.5;\" width=\"151\" x=\"38.5\" y=\"41\"/><text fill=\"#000000\" font-family=\"sans-serif\" font-size=\"12\" font-style=\"italic\" lengthAdjust=\"spacingAndGlyphs\" textLength=\"77\" x=\"75.5\" y=\"57.1387\">«action def»</text><text fill=\"#000000\" font-family=\"sans-serif\" font-size=\"12\" lengthAdjust=\"spacingAndGlyphs\" textLength=\"115\" x=\"56.5\" y=\"71.1074\">ComputeDynamics</text><line style=\"stroke: #383838; stroke-width: 1.5;\" x1=\"39.5\" x2=\"188.5\" y1=\"78.9375\" y2=\"78.9375\"/><text fill=\"#000000\" font-family=\"sans-serif\" font-size=\"11\" lengthAdjust=\"spacingAndGlyphs\" textLength=\"47\" x=\"44.5\" y=\"109.9526\">Cd: Real</text><text fill=\"#000000\" font-family=\"sans-serif\" font-size=\"11\" lengthAdjust=\"spacingAndGlyphs\" textLength=\"44\" x=\"44.5\" y=\"122.7573\">Cf: Real</text><text fill=\"#000000\" font-family=\"sans-serif\" font-size=\"11\" lengthAdjust=\"spacingAndGlyphs\" textLength=\"139\" x=\"44.5\" y=\"135.562\">a_out: AccelerationValue</text><text fill=\"#000000\" font-family=\"sans-serif\" font-size=\"11\" lengthAdjust=\"spacingAndGlyphs\" textLength=\"98\" x=\"44.5\" y=\"148.3667\">dt: DurationValue</text><text fill=\"#000000\" font-family=\"sans-serif\" font-size=\"11\" lengthAdjust=\"spacingAndGlyphs\" textLength=\"84\" x=\"44.5\" y=\"161.1714\">tm: MassValue</text><text fill=\"#000000\" font-family=\"sans-serif\" font-size=\"11\" lengthAdjust=\"spacingAndGlyphs\" textLength=\"97\" x=\"44.5\" y=\"173.9761\">v_in: SpeedValue</text><text fill=\"#000000\" font-family=\"sans-serif\" font-size=\"11\" lengthAdjust=\"spacingAndGlyphs\" textLength=\"105\" x=\"44.5\" y=\"186.7808\">v_out: SpeedValue</text><text fill=\"#000000\" font-family=\"sans-serif\" font-size=\"11\" lengthAdjust=\"spacingAndGlyphs\" textLength=\"114\" x=\"44.5\" y=\"199.5854\">whlpwr: PowerValue</text><text fill=\"#000000\" font-family=\"sans-serif\" font-size=\"11\" lengthAdjust=\"spacingAndGlyphs\" textLength=\"99\" x=\"44.5\" y=\"212.3901\">x_in: LengthValue</text><text fill=\"#000000\" font-family=\"sans-serif\" font-size=\"11\" lengthAdjust=\"spacingAndGlyphs\" textLength=\"107\" x=\"44.5\" y=\"225.1948\">x_out: LengthValue</text><line style=\"stroke: #383838; stroke-width: 1.0;\" x1=\"39.5\" x2=\"86.5\" y1=\"93.3398\" y2=\"93.3398\"/><text fill=\"#000000\" font-family=\"sans-serif\" font-size=\"11\" lengthAdjust=\"spacingAndGlyphs\" textLength=\"55\" x=\"86.5\" y=\"96.6479\">attributes</text><line style=\"stroke: #383838; stroke-width: 1.0;\" x1=\"141.5\" x2=\"188.5\" y1=\"93.3398\" y2=\"93.3398\"/></a><!--MD5=[ebbe1d658d1005bcc118a6aa81145e00]\n",
       "class E4--><a href=\"psysml:60a2becf-7a46-4ebd-946f-3a728f7b6aab\" target=\"_top\" title=\"psysml:60a2becf-7a46-4ebd-946f-3a728f7b6aab\" xlink:actuate=\"onRequest\" xlink:href=\"psysml:60a2becf-7a46-4ebd-946f-3a728f7b6aab\" xlink:show=\"new\" xlink:title=\"psysml:60a2becf-7a46-4ebd-946f-3a728f7b6aab\" xlink:type=\"simple\"><rect fill=\"#FFFFFF\" height=\"45.9375\" id=\"E4\" style=\"stroke: #383838; stroke-width: 1.5;\" width=\"152\" x=\"38\" y=\"292\"/><text fill=\"#000000\" font-family=\"sans-serif\" font-size=\"12\" font-style=\"italic\" lengthAdjust=\"spacingAndGlyphs\" textLength=\"132\" x=\"48\" y=\"308.1387\">«annotatingFeature»</text><text fill=\"#000000\" font-family=\"sans-serif\" font-size=\"12\" lengthAdjust=\"spacingAndGlyphs\" text-decoration=\"line-through\" textLength=\"51\" x=\"41\" y=\"322.1074\">noname</text><text fill=\"#000000\" font-family=\"sans-serif\" font-size=\"12\" lengthAdjust=\"spacingAndGlyphs\" textLength=\"95\" x=\"92\" y=\"322.1074\">: ToolExecution</text><line style=\"stroke: #383838; stroke-width: 1.5;\" x1=\"39\" x2=\"189\" y1=\"329.9375\" y2=\"329.9375\"/></a><!--MD5=[270fce915f116d4de14055a7c1d9a0f3]\n",
       "class E5--><a href=\"psysml:b02ba1b2-12c8-4052-9523-3aa0c79993f0\" target=\"_top\" title=\"psysml:b02ba1b2-12c8-4052-9523-3aa0c79993f0\" xlink:actuate=\"onRequest\" xlink:href=\"psysml:b02ba1b2-12c8-4052-9523-3aa0c79993f0\" xlink:show=\"new\" xlink:title=\"psysml:b02ba1b2-12c8-4052-9523-3aa0c79993f0\" xlink:type=\"simple\"><rect fill=\"#FFFFFF\" height=\"45.9375\" id=\"E5\" style=\"stroke: #383838; stroke-width: 1.5;\" width=\"126\" x=\"32\" y=\"398\"/><text fill=\"#000000\" font-family=\"sans-serif\" font-size=\"12\" font-style=\"italic\" lengthAdjust=\"spacingAndGlyphs\" textLength=\"124\" x=\"33\" y=\"414.1387\">«metadataFeature»</text><text fill=\"#000000\" font-family=\"sans-serif\" font-size=\"12\" lengthAdjust=\"spacingAndGlyphs\" textLength=\"60\" x=\"65\" y=\"428.1074\">toolName</text><line style=\"stroke: #383838; stroke-width: 1.5;\" x1=\"33\" x2=\"157\" y1=\"435.9375\" y2=\"435.9375\"/></a><!--MD5=[60a26617385b1d2d0262a64233df1f8d]\n",
       "class E6--><a href=\"psysml:cb4006f5-0e41-4f05-aa2a-a57df33d56ff\" target=\"_top\" title=\"psysml:cb4006f5-0e41-4f05-aa2a-a57df33d56ff\" xlink:actuate=\"onRequest\" xlink:href=\"psysml:cb4006f5-0e41-4f05-aa2a-a57df33d56ff\" xlink:show=\"new\" xlink:title=\"psysml:cb4006f5-0e41-4f05-aa2a-a57df33d56ff\" xlink:type=\"simple\"><rect fill=\"#FFFFFF\" height=\"45.9375\" id=\"E6\" style=\"stroke: #383838; stroke-width: 1.5;\" width=\"126\" x=\"193\" y=\"398\"/><text fill=\"#000000\" font-family=\"sans-serif\" font-size=\"12\" font-style=\"italic\" lengthAdjust=\"spacingAndGlyphs\" textLength=\"124\" x=\"194\" y=\"414.1387\">«metadataFeature»</text><text fill=\"#000000\" font-family=\"sans-serif\" font-size=\"12\" lengthAdjust=\"spacingAndGlyphs\" textLength=\"16\" x=\"248\" y=\"428.1074\">uri</text><line style=\"stroke: #383838; stroke-width: 1.5;\" x1=\"194\" x2=\"318\" y1=\"435.9375\" y2=\"435.9375\"/></a><!--MD5=[4672eba38e49728da53d11aeb285b987]\n",
       "reverse link E3 to E4--><a href=\"psysml:66d6f7e6-2188-4a34-9637-6b4b270c496c\" target=\"_top\" title=\"psysml:66d6f7e6-2188-4a34-9637-6b4b270c496c\" xlink:actuate=\"onRequest\" xlink:href=\"psysml:66d6f7e6-2188-4a34-9637-6b4b270c496c\" xlink:show=\"new\" xlink:title=\"psysml:66d6f7e6-2188-4a34-9637-6b4b270c496c\" xlink:type=\"simple\"><path d=\"M114,247.02 C114,247.02 114,291.91 114,291.91 \" fill=\"none\" id=\"E3&lt;-E4\" style=\"stroke: #383838; stroke-width: 1.0;\"/><ellipse cx=\"114\" cy=\"240.02\" fill=\"#FFFFFF\" rx=\"8\" ry=\"8\" style=\"stroke: #383838; stroke-width: 1.0;\"/><line style=\"stroke: #383838; stroke-width: 1.0;\" x1=\"114\" x2=\"114\" y1=\"248.02\" y2=\"232.02\"/><line style=\"stroke: #383838; stroke-width: 1.0;\" x1=\"106\" x2=\"122\" y1=\"240.02\" y2=\"240.02\"/></a><!--MD5=[62aa6af11e70f752912c1cb0466f24f7]\n",
       "reverse link E4 to E5--><a href=\"psysml:4336f8bf-5a73-49a4-a706-8a85ff7218c2\" target=\"_top\" title=\"psysml:4336f8bf-5a73-49a4-a706-8a85ff7218c2\" xlink:actuate=\"onRequest\" xlink:href=\"psysml:4336f8bf-5a73-49a4-a706-8a85ff7218c2\" xlink:show=\"new\" xlink:title=\"psysml:4336f8bf-5a73-49a4-a706-8a85ff7218c2\" xlink:type=\"simple\"><path d=\"M98,351 C98,351 98,397.68 98,397.68 \" fill=\"none\" id=\"E4&lt;-E5\" style=\"stroke: #383838; stroke-width: 1.0;\"/><polygon fill=\"#383838\" points=\"98,338,94,344,98,350,102,344,98,338\" style=\"stroke: #383838; stroke-width: 1.0;\"/></a><!--MD5=[6db378b65e1aef66a01cb3103812b399]\n",
       "reverse link E4 to E6--><a href=\"psysml:14217a47-d828-403c-a59e-1cb114a87a2b\" target=\"_top\" title=\"psysml:14217a47-d828-403c-a59e-1cb114a87a2b\" xlink:actuate=\"onRequest\" xlink:href=\"psysml:14217a47-d828-403c-a59e-1cb114a87a2b\" xlink:show=\"new\" xlink:title=\"psysml:14217a47-d828-403c-a59e-1cb114a87a2b\" xlink:type=\"simple\"><path d=\"M174,351 C174,351 174,421 174,421 C174,421 181.81,421 192.61,421 \" fill=\"none\" id=\"E4&lt;-E6\" style=\"stroke: #383838; stroke-width: 1.0;\"/><polygon fill=\"#383838\" points=\"174,338,170,344,174,350,178,344,174,338\" style=\"stroke: #383838; stroke-width: 1.0;\"/></a><!--MD5=[2f6c2cf6b745ac7ccc4d4e26b8af25c3]\n",
       "@startuml\r\n",
       "skinparam linetype ortho\r\n",
       "skinparam monochrome true\r\n",
       "skinparam classbackgroundcolor white\r\n",
       "skinparam shadowing false\r\n",
       "skinparam wrapWidth 300\r\n",
       "hide circle\r\n",
       "\r\n",
       "package \"AnalysisAnnotation\" as E1  [[psysml:3f9dd228-0d59-436f-8c66-7bfaf74317e1 ]]  {\r\n",
       "comp def \"Real\" as E2  <<(T,blue)dataType>> [[psysml:44eddca9-682f-4ef7-a7c7-a9f194d7f2c9 ]] {\r\n",
       "}\r\n",
       "comp def \"ComputeDynamics\" as E3  <<(T,blue)action def>> [[psysml:e73f4f0e-f2f2-491a-ad18-2354ebab0714 ]] {\r\n",
       "- - attributes - -\r\n",
       "Cd: Real\r\n",
       "Cf: Real\r\n",
       "a_out: AccelerationValue\r\n",
       "dt: DurationValue\r\n",
       "tm: MassValue\r\n",
       "v_in: SpeedValue\r\n",
       "v_out: SpeedValue\r\n",
       "whlpwr: PowerValue\r\n",
       "x_in: LengthValue\r\n",
       "x_out: LengthValue\r\n",
       "}\r\n",
       "comp def \"<s>noname</s>: ToolExecution\" as E4  <<(T,blue)annotatingFeature>> [[psysml:60a2becf-7a46-4ebd-946f-3a728f7b6aab ]] {\r\n",
       "}\r\n",
       "comp def \"toolName\" as E5  <<(T,blue)metadataFeature>> [[psysml:b02ba1b2-12c8-4052-9523-3aa0c79993f0 ]] {\r\n",
       "}\r\n",
       "comp def \"uri\" as E6  <<(T,blue)metadataFeature>> [[psysml:cb4006f5-0e41-4f05-aa2a-a57df33d56ff ]] {\r\n",
       "}\r\n",
       "E3 +- - E4 [[psysml:66d6f7e6-2188-4a34-9637-6b4b270c496c ]] \r\n",
       "E4 *- - E5 [[psysml:4336f8bf-5a73-49a4-a706-8a85ff7218c2 ]] \r\n",
       "E4 *- - E6 [[psysml:14217a47-d828-403c-a59e-1cb114a87a2b ]] \r\n",
       "}\r\n",
       "@enduml\r\n",
       "\n",
       "PlantUML version 1.2020.13(Sat Jun 13 12:26:38 UTC 2020)\n",
       "(EPL source distribution)\n",
       "Java Runtime: OpenJDK Runtime Environment\n",
       "JVM: OpenJDK 64-Bit Server VM\n",
       "Default Encoding: UTF-8\n",
       "Language: en\n",
       "Country: null\n",
       "--></g></svg>"
      ]
     },
     "execution_count": 52,
     "metadata": {},
     "output_type": "execute_result"
    }
   ],
   "source": [
    "%viz --style=\"ORTHOLINE\" --view=\"Tree\" \"AnalysisAnnotation\""
   ]
  },
  {
   "cell_type": "code",
   "execution_count": 53,
   "id": "e04e3a5a",
   "metadata": {
    "execution": {
     "iopub.execute_input": "2021-04-20T07:28:19.638821Z",
     "iopub.status.busy": "2021-04-20T07:28:19.638397Z",
     "iopub.status.idle": "2021-04-20T07:28:19.644712Z",
     "shell.execute_reply": "2021-04-20T07:28:19.644381Z"
    }
   },
   "outputs": [
    {
     "data": {
      "image/svg+xml": [
       "<?xml version=\"1.0\" encoding=\"UTF-8\" standalone=\"no\"?><svg xmlns=\"http://www.w3.org/2000/svg\" xmlns:xlink=\"http://www.w3.org/1999/xlink\" contentScriptType=\"application/ecmascript\" contentStyleType=\"text/css\" height=\"12px\" preserveAspectRatio=\"none\" style=\"width:12px;height:12px;\" version=\"1.1\" viewBox=\"0 0 12 12\" width=\"12px\" zoomAndPan=\"magnify\"><defs/><g><!--MD5=[97d6f38768b311333d388e66b2b27985]\n",
       "@startuml\r\n",
       "skinparam linetype ortho\r\n",
       "skinparam monochrome true\r\n",
       "skinparam classbackgroundcolor white\r\n",
       "skinparam shadowing false\r\n",
       "skinparam wrapWidth 300\r\n",
       "hide circle\r\n",
       "\r\n",
       "@enduml\r\n",
       "\n",
       "PlantUML version 1.2020.13(Sat Jun 13 12:26:38 UTC 2020)\n",
       "(EPL source distribution)\n",
       "Java Runtime: OpenJDK Runtime Environment\n",
       "JVM: OpenJDK 64-Bit Server VM\n",
       "Default Encoding: UTF-8\n",
       "Language: en\n",
       "Country: null\n",
       "--></g></svg>"
      ]
     },
     "execution_count": 53,
     "metadata": {},
     "output_type": "execute_result"
    }
   ],
   "source": [
    "%viz --style=\"ORTHOLINE\" --view=\"State\" \"AnalysisAnnotation\""
   ]
  },
  {
   "cell_type": "code",
   "execution_count": 54,
   "id": "bce9a823",
   "metadata": {
    "execution": {
     "iopub.execute_input": "2021-04-20T07:28:19.695067Z",
     "iopub.status.busy": "2021-04-20T07:28:19.694683Z",
     "iopub.status.idle": "2021-04-20T07:28:19.732422Z",
     "shell.execute_reply": "2021-04-20T07:28:19.730068Z"
    }
   },
   "outputs": [
    {
     "data": {
      "image/svg+xml": [
       "<?xml version=\"1.0\" encoding=\"UTF-8\" standalone=\"no\"?><svg xmlns=\"http://www.w3.org/2000/svg\" xmlns:xlink=\"http://www.w3.org/1999/xlink\" contentScriptType=\"application/ecmascript\" contentStyleType=\"text/css\" height=\"209px\" preserveAspectRatio=\"none\" style=\"width:486px;height:209px;\" version=\"1.1\" viewBox=\"0 0 486 209\" width=\"486px\" zoomAndPan=\"magnify\"><defs/><g><!--MD5=[fbc87193dbaf4d95561dea2c320d4a47]\n",
       "cluster E1--><a href=\"psysml:3f9dd228-0d59-436f-8c66-7bfaf74317e1\" target=\"_top\" title=\"psysml:3f9dd228-0d59-436f-8c66-7bfaf74317e1\" xlink:actuate=\"onRequest\" xlink:href=\"psysml:3f9dd228-0d59-436f-8c66-7bfaf74317e1\" xlink:show=\"new\" xlink:title=\"psysml:3f9dd228-0d59-436f-8c66-7bfaf74317e1\" xlink:type=\"simple\"><polygon fill=\"#FFFFFF\" points=\"16,6,173,6,180,28.2969,464,28.2969,464,197.72,16,197.72,16,6\" style=\"stroke: #000000; stroke-width: 1.5;\"/><line style=\"stroke: #000000; stroke-width: 1.5;\" x1=\"16\" x2=\"180\" y1=\"28.2969\" y2=\"28.2969\"/><text fill=\"#000000\" font-family=\"sans-serif\" font-size=\"14\" font-weight=\"bold\" lengthAdjust=\"spacingAndGlyphs\" textLength=\"151\" x=\"20\" y=\"20.9951\">AnalysisAnnotation</text></a><!--MD5=[d5e69f78d87373223dbae638b30a9c99]\n",
       "cluster E3--><a href=\"psysml:e73f4f0e-f2f2-491a-ad18-2354ebab0714\" target=\"_top\" title=\"psysml:e73f4f0e-f2f2-491a-ad18-2354ebab0714\" xlink:actuate=\"onRequest\" xlink:href=\"psysml:e73f4f0e-f2f2-491a-ad18-2354ebab0714\" xlink:show=\"new\" xlink:title=\"psysml:e73f4f0e-f2f2-491a-ad18-2354ebab0714\" xlink:type=\"simple\"><rect fill=\"#FFFFFF\" height=\"105.22\" id=\"E3\" style=\"stroke: #383838; stroke-width: 1.5;\" width=\"318\" x=\"134\" y=\"62.5\"/><rect fill=\"#F8F8F8\" height=\"37.9375\" style=\"stroke: #383838; stroke-width: 1.5;\" width=\"318\" x=\"134\" y=\"62.5\"/><text fill=\"#000000\" font-family=\"sans-serif\" font-size=\"12\" font-style=\"italic\" lengthAdjust=\"spacingAndGlyphs\" textLength=\"77\" x=\"254.5\" y=\"78.6387\">«action def»</text><text fill=\"#000000\" font-family=\"sans-serif\" font-size=\"12\" lengthAdjust=\"spacingAndGlyphs\" textLength=\"115\" x=\"235.5\" y=\"92.6074\">ComputeDynamics</text></a><g id=\"E1.E2\"><a href=\"psysml:44eddca9-682f-4ef7-a7c7-a9f194d7f2c9\" target=\"_top\" title=\"psysml:44eddca9-682f-4ef7-a7c7-a9f194d7f2c9\" xlink:actuate=\"onRequest\" xlink:href=\"psysml:44eddca9-682f-4ef7-a7c7-a9f194d7f2c9\" xlink:show=\"new\" xlink:title=\"psysml:44eddca9-682f-4ef7-a7c7-a9f194d7f2c9\" xlink:type=\"simple\"><rect fill=\"#FFFFFF\" height=\"42.9375\" id=\"E2\" style=\"stroke: #383838; stroke-width: 1.5;\" width=\"79\" x=\"31.5\" y=\"41\"/><rect fill=\"#F8F8F8\" height=\"37.9375\" style=\"stroke: #383838; stroke-width: 1.5;\" width=\"79\" x=\"31.5\" y=\"41\"/><text fill=\"#000000\" font-family=\"sans-serif\" font-size=\"12\" font-style=\"italic\" lengthAdjust=\"spacingAndGlyphs\" textLength=\"72\" x=\"35\" y=\"57.1387\">«dataType»</text><text fill=\"#000000\" font-family=\"sans-serif\" font-size=\"12\" lengthAdjust=\"spacingAndGlyphs\" textLength=\"27\" x=\"57.5\" y=\"71.1074\">Real</text></a></g><text fill=\"#000000\" font-family=\"sans-serif\" font-size=\"14\" lengthAdjust=\"spacingAndGlyphs\" textLength=\"48\" x=\"174\" y=\"186.7151\">$result</text><rect fill=\"#383838\" height=\"12\" style=\"stroke: #F8F8F8; stroke-width: 1.5;\" width=\"12\" x=\"192\" y=\"161.72\"/><text fill=\"#000000\" font-family=\"sans-serif\" font-size=\"14\" lengthAdjust=\"spacingAndGlyphs\" textLength=\"48\" x=\"221\" y=\"186.7151\">$result</text><rect fill=\"#383838\" height=\"12\" style=\"stroke: #F8F8F8; stroke-width: 1.5;\" width=\"12\" x=\"239\" y=\"161.72\"/><text fill=\"#000000\" font-family=\"sans-serif\" font-size=\"14\" lengthAdjust=\"spacingAndGlyphs\" textLength=\"14\" x=\"145\" y=\"41.1982\">dt</text><rect fill=\"#383838\" height=\"12\" style=\"stroke: #F8F8F8; stroke-width: 1.5;\" width=\"12\" x=\"146\" y=\"56.5\"/><text fill=\"#000000\" font-family=\"sans-serif\" font-size=\"14\" lengthAdjust=\"spacingAndGlyphs\" textLength=\"48\" x=\"175\" y=\"41.1982\">whlpwr</text><rect fill=\"#383838\" height=\"12\" style=\"stroke: #F8F8F8; stroke-width: 1.5;\" width=\"12\" x=\"193\" y=\"56.5\"/><text fill=\"#000000\" font-family=\"sans-serif\" font-size=\"14\" lengthAdjust=\"spacingAndGlyphs\" textLength=\"19\" x=\"236.5\" y=\"41.1982\">Cd</text><rect fill=\"#383838\" height=\"12\" style=\"stroke: #F8F8F8; stroke-width: 1.5;\" width=\"12\" x=\"240\" y=\"56.5\"/><text fill=\"#000000\" font-family=\"sans-serif\" font-size=\"14\" lengthAdjust=\"spacingAndGlyphs\" textLength=\"14\" x=\"286\" y=\"41.1982\">Cf</text><rect fill=\"#383838\" height=\"12\" style=\"stroke: #F8F8F8; stroke-width: 1.5;\" width=\"12\" x=\"287\" y=\"56.5\"/><text fill=\"#000000\" font-family=\"sans-serif\" font-size=\"14\" lengthAdjust=\"spacingAndGlyphs\" textLength=\"18\" x=\"331\" y=\"41.1982\">tm</text><rect fill=\"#383838\" height=\"12\" style=\"stroke: #F8F8F8; stroke-width: 1.5;\" width=\"12\" x=\"334\" y=\"56.5\"/><text fill=\"#000000\" font-family=\"sans-serif\" font-size=\"14\" lengthAdjust=\"spacingAndGlyphs\" textLength=\"26\" x=\"374\" y=\"41.1982\">v_in</text><rect fill=\"#383838\" height=\"12\" style=\"stroke: #F8F8F8; stroke-width: 1.5;\" width=\"12\" x=\"381\" y=\"56.5\"/><text fill=\"#000000\" font-family=\"sans-serif\" font-size=\"14\" lengthAdjust=\"spacingAndGlyphs\" textLength=\"26\" x=\"421\" y=\"41.1982\">x_in</text><rect fill=\"#383838\" height=\"12\" style=\"stroke: #F8F8F8; stroke-width: 1.5;\" width=\"12\" x=\"428\" y=\"56.5\"/><text fill=\"#000000\" font-family=\"sans-serif\" font-size=\"14\" lengthAdjust=\"spacingAndGlyphs\" textLength=\"38\" x=\"273\" y=\"186.7151\">a_out</text><rect fill=\"#383838\" height=\"12\" style=\"stroke: #F8F8F8; stroke-width: 1.5;\" width=\"12\" x=\"286\" y=\"161.72\"/><text fill=\"#000000\" font-family=\"sans-serif\" font-size=\"14\" lengthAdjust=\"spacingAndGlyphs\" textLength=\"37\" x=\"320.5\" y=\"186.7151\">v_out</text><rect fill=\"#383838\" height=\"12\" style=\"stroke: #F8F8F8; stroke-width: 1.5;\" width=\"12\" x=\"333\" y=\"161.72\"/><text fill=\"#000000\" font-family=\"sans-serif\" font-size=\"14\" lengthAdjust=\"spacingAndGlyphs\" textLength=\"37\" x=\"367.5\" y=\"186.7151\">x_out</text><rect fill=\"#383838\" height=\"12\" style=\"stroke: #F8F8F8; stroke-width: 1.5;\" width=\"12\" x=\"380\" y=\"161.72\"/><!--MD5=[de344246975ab9518edb5a647d7c9dde]\n",
       "@startuml\r\n",
       "skinparam ranksep 10\r\n",
       "skinparam rectangle {\r\n",
       " backgroundColor<<block>> LightGreen\r\n",
       "}\r\n",
       "skinparam linetype ortho\r\n",
       "skinparam monochrome true\r\n",
       "skinparam classbackgroundcolor white\r\n",
       "skinparam shadowing false\r\n",
       "skinparam wrapWidth 300\r\n",
       "hide circle\r\n",
       "\r\n",
       "package \"AnalysisAnnotation\" as E1  [[psysml:3f9dd228-0d59-436f-8c66-7bfaf74317e1 ]]  {\r\n",
       "def \"Real\" as E2  <<(T,blue)dataType>> [[psysml:44eddca9-682f-4ef7-a7c7-a9f194d7f2c9 ]] \r\n",
       "rec def \"ComputeDynamics\" as E3  <<(T,blue)action def>> [[psysml:e73f4f0e-f2f2-491a-ad18-2354ebab0714 ]] {\r\n",
       "portout \"$result\" as E4  [[psysml:321a5472-f26a-4f44-adf1-e887f248e10c ]] \r\n",
       "portout \"$result\" as E5  [[psysml:249d7fd3-af20-489f-a52b-b6c298227647 ]] \r\n",
       "portin \"dt\" as E6  [[psysml:d9dfe931-1109-47e6-bc0c-352db24577b0 ]] \r\n",
       "portin \"whlpwr\" as E7  [[psysml:44277f67-022c-45f6-9760-98798ee04e09 ]] \r\n",
       "portin \"Cd\" as E8  [[psysml:41d96645-5d65-4e32-85e5-332077e108f6 ]] \r\n",
       "portin \"Cf\" as E9  [[psysml:aebf7dc6-628a-4d75-a952-13ccca53817c ]] \r\n",
       "portin \"tm\" as E10  [[psysml:08dba41b-e930-4b20-afae-ef7ae15f00ec ]] \r\n",
       "portin \"v_in\" as E11  [[psysml:e3f3c5a0-ed9d-41a6-a918-fe4a600fe261 ]] \r\n",
       "portin \"x_in\" as E12  [[psysml:fb3fca97-7004-4d76-8828-7714499f1454 ]] \r\n",
       "portout \"a_out\" as E13  [[psysml:5a710766-56b6-4c7a-9ae9-326b3f7572a8 ]] \r\n",
       "portout \"v_out\" as E14  [[psysml:1e62abd8-4172-4662-8f1c-1e7c30e8c54c ]] \r\n",
       "portout \"x_out\" as E15  [[psysml:e4c640c8-309e-4572-81b1-e78594ed37ec ]] \r\n",
       "}\r\n",
       "\r\n",
       "}\r\n",
       "@enduml\r\n",
       "\n",
       "PlantUML version 1.2020.13(Sat Jun 13 12:26:38 UTC 2020)\n",
       "(EPL source distribution)\n",
       "Java Runtime: OpenJDK Runtime Environment\n",
       "JVM: OpenJDK 64-Bit Server VM\n",
       "Default Encoding: UTF-8\n",
       "Language: en\n",
       "Country: null\n",
       "--></g></svg>"
      ]
     },
     "execution_count": 54,
     "metadata": {},
     "output_type": "execute_result"
    }
   ],
   "source": [
    "%viz --style=\"ORTHOLINE\" --view=\"Interconnection\" \"AnalysisAnnotation\""
   ]
  },
  {
   "cell_type": "code",
   "execution_count": 55,
   "id": "3796df58",
   "metadata": {
    "execution": {
     "iopub.execute_input": "2021-04-20T07:28:19.781512Z",
     "iopub.status.busy": "2021-04-20T07:28:19.781117Z",
     "iopub.status.idle": "2021-04-20T07:28:19.810806Z",
     "shell.execute_reply": "2021-04-20T07:28:19.809441Z"
    }
   },
   "outputs": [
    {
     "data": {
      "image/svg+xml": [
       "<?xml version=\"1.0\" encoding=\"UTF-8\" standalone=\"no\"?><svg xmlns=\"http://www.w3.org/2000/svg\" xmlns:xlink=\"http://www.w3.org/1999/xlink\" contentScriptType=\"application/ecmascript\" contentStyleType=\"text/css\" height=\"162px\" preserveAspectRatio=\"none\" style=\"width:336px;height:162px;\" version=\"1.1\" viewBox=\"0 0 336 162\" width=\"336px\" zoomAndPan=\"magnify\"><defs/><g><!--MD5=[fbc87193dbaf4d95561dea2c320d4a47]\n",
       "cluster E1--><a href=\"psysml:e73f4f0e-f2f2-491a-ad18-2354ebab0714\" target=\"_top\" title=\"psysml:e73f4f0e-f2f2-491a-ad18-2354ebab0714\" xlink:actuate=\"onRequest\" xlink:href=\"psysml:e73f4f0e-f2f2-491a-ad18-2354ebab0714\" xlink:show=\"new\" xlink:title=\"psysml:e73f4f0e-f2f2-491a-ad18-2354ebab0714\" xlink:type=\"simple\"><rect fill=\"#FFFFFF\" height=\"87.72\" id=\"E1\" style=\"stroke: #383838; stroke-width: 1.5;\" width=\"318\" x=\"7\" y=\"42.0986\"/><rect fill=\"#F8F8F8\" height=\"37.9375\" style=\"stroke: #383838; stroke-width: 1.5;\" width=\"318\" x=\"7\" y=\"42.0986\"/><text fill=\"#000000\" font-family=\"sans-serif\" font-size=\"12\" font-style=\"italic\" lengthAdjust=\"spacingAndGlyphs\" textLength=\"77\" x=\"127.5\" y=\"58.2373\">«action def»</text><text fill=\"#000000\" font-family=\"sans-serif\" font-size=\"12\" lengthAdjust=\"spacingAndGlyphs\" textLength=\"115\" x=\"108.5\" y=\"72.2061\">ComputeDynamics</text></a><text fill=\"#000000\" font-family=\"sans-serif\" font-size=\"14\" lengthAdjust=\"spacingAndGlyphs\" textLength=\"48\" x=\"47\" y=\"148.8138\">$result</text><rect fill=\"#383838\" height=\"12\" style=\"stroke: #F8F8F8; stroke-width: 1.5;\" width=\"12\" x=\"65\" y=\"123.8186\"/><text fill=\"#000000\" font-family=\"sans-serif\" font-size=\"14\" lengthAdjust=\"spacingAndGlyphs\" textLength=\"48\" x=\"94\" y=\"148.8138\">$result</text><rect fill=\"#383838\" height=\"12\" style=\"stroke: #F8F8F8; stroke-width: 1.5;\" width=\"12\" x=\"112\" y=\"123.8186\"/><text fill=\"#000000\" font-family=\"sans-serif\" font-size=\"14\" lengthAdjust=\"spacingAndGlyphs\" textLength=\"14\" x=\"18\" y=\"20.7969\">dt</text><rect fill=\"#383838\" height=\"12\" style=\"stroke: #F8F8F8; stroke-width: 1.5;\" width=\"12\" x=\"19\" y=\"36.0986\"/><text fill=\"#000000\" font-family=\"sans-serif\" font-size=\"14\" lengthAdjust=\"spacingAndGlyphs\" textLength=\"48\" x=\"48\" y=\"20.7969\">whlpwr</text><rect fill=\"#383838\" height=\"12\" style=\"stroke: #F8F8F8; stroke-width: 1.5;\" width=\"12\" x=\"66\" y=\"36.0986\"/><text fill=\"#000000\" font-family=\"sans-serif\" font-size=\"14\" lengthAdjust=\"spacingAndGlyphs\" textLength=\"19\" x=\"109.5\" y=\"20.7969\">Cd</text><rect fill=\"#383838\" height=\"12\" style=\"stroke: #F8F8F8; stroke-width: 1.5;\" width=\"12\" x=\"113\" y=\"36.0986\"/><text fill=\"#000000\" font-family=\"sans-serif\" font-size=\"14\" lengthAdjust=\"spacingAndGlyphs\" textLength=\"14\" x=\"159\" y=\"20.7969\">Cf</text><rect fill=\"#383838\" height=\"12\" style=\"stroke: #F8F8F8; stroke-width: 1.5;\" width=\"12\" x=\"160\" y=\"36.0986\"/><text fill=\"#000000\" font-family=\"sans-serif\" font-size=\"14\" lengthAdjust=\"spacingAndGlyphs\" textLength=\"18\" x=\"204\" y=\"20.7969\">tm</text><rect fill=\"#383838\" height=\"12\" style=\"stroke: #F8F8F8; stroke-width: 1.5;\" width=\"12\" x=\"207\" y=\"36.0986\"/><text fill=\"#000000\" font-family=\"sans-serif\" font-size=\"14\" lengthAdjust=\"spacingAndGlyphs\" textLength=\"26\" x=\"247\" y=\"20.7969\">v_in</text><rect fill=\"#383838\" height=\"12\" style=\"stroke: #F8F8F8; stroke-width: 1.5;\" width=\"12\" x=\"254\" y=\"36.0986\"/><text fill=\"#000000\" font-family=\"sans-serif\" font-size=\"14\" lengthAdjust=\"spacingAndGlyphs\" textLength=\"26\" x=\"294\" y=\"20.7969\">x_in</text><rect fill=\"#383838\" height=\"12\" style=\"stroke: #F8F8F8; stroke-width: 1.5;\" width=\"12\" x=\"301\" y=\"36.0986\"/><text fill=\"#000000\" font-family=\"sans-serif\" font-size=\"14\" lengthAdjust=\"spacingAndGlyphs\" textLength=\"38\" x=\"146\" y=\"148.8138\">a_out</text><rect fill=\"#383838\" height=\"12\" style=\"stroke: #F8F8F8; stroke-width: 1.5;\" width=\"12\" x=\"159\" y=\"123.8186\"/><text fill=\"#000000\" font-family=\"sans-serif\" font-size=\"14\" lengthAdjust=\"spacingAndGlyphs\" textLength=\"37\" x=\"193.5\" y=\"148.8138\">v_out</text><rect fill=\"#383838\" height=\"12\" style=\"stroke: #F8F8F8; stroke-width: 1.5;\" width=\"12\" x=\"206\" y=\"123.8186\"/><text fill=\"#000000\" font-family=\"sans-serif\" font-size=\"14\" lengthAdjust=\"spacingAndGlyphs\" textLength=\"37\" x=\"240.5\" y=\"148.8138\">x_out</text><rect fill=\"#383838\" height=\"12\" style=\"stroke: #F8F8F8; stroke-width: 1.5;\" width=\"12\" x=\"253\" y=\"123.8186\"/><!--MD5=[e7eaf2895a93e515cd74c1593b90558f]\n",
       "@startuml\r\n",
       "skinparam ranksep 8\r\n",
       "skinparam linetype ortho\r\n",
       "skinparam monochrome true\r\n",
       "skinparam classbackgroundcolor white\r\n",
       "skinparam shadowing false\r\n",
       "skinparam wrapWidth 300\r\n",
       "hide circle\r\n",
       "\r\n",
       "rec def \"ComputeDynamics\" as E1  <<(T,blue)action def>> [[psysml:e73f4f0e-f2f2-491a-ad18-2354ebab0714 ]] {\r\n",
       "portout \"$result\" as E2  [[psysml:321a5472-f26a-4f44-adf1-e887f248e10c ]] \r\n",
       "portout \"$result\" as E3  [[psysml:249d7fd3-af20-489f-a52b-b6c298227647 ]] \r\n",
       "portin \"dt\" as E4  [[psysml:d9dfe931-1109-47e6-bc0c-352db24577b0 ]] \r\n",
       "portin \"whlpwr\" as E5  [[psysml:44277f67-022c-45f6-9760-98798ee04e09 ]] \r\n",
       "portin \"Cd\" as E6  [[psysml:41d96645-5d65-4e32-85e5-332077e108f6 ]] \r\n",
       "portin \"Cf\" as E7  [[psysml:aebf7dc6-628a-4d75-a952-13ccca53817c ]] \r\n",
       "portin \"tm\" as E8  [[psysml:08dba41b-e930-4b20-afae-ef7ae15f00ec ]] \r\n",
       "portin \"v_in\" as E9  [[psysml:e3f3c5a0-ed9d-41a6-a918-fe4a600fe261 ]] \r\n",
       "portin \"x_in\" as E10  [[psysml:fb3fca97-7004-4d76-8828-7714499f1454 ]] \r\n",
       "portout \"a_out\" as E11  [[psysml:5a710766-56b6-4c7a-9ae9-326b3f7572a8 ]] \r\n",
       "portout \"v_out\" as E12  [[psysml:1e62abd8-4172-4662-8f1c-1e7c30e8c54c ]] \r\n",
       "portout \"x_out\" as E13  [[psysml:e4c640c8-309e-4572-81b1-e78594ed37ec ]] \r\n",
       "}\r\n",
       "\r\n",
       "@enduml\r\n",
       "\n",
       "PlantUML version 1.2020.13(Sat Jun 13 12:26:38 UTC 2020)\n",
       "(EPL source distribution)\n",
       "Java Runtime: OpenJDK Runtime Environment\n",
       "JVM: OpenJDK 64-Bit Server VM\n",
       "Default Encoding: UTF-8\n",
       "Language: en\n",
       "Country: null\n",
       "--></g></svg>"
      ]
     },
     "execution_count": 55,
     "metadata": {},
     "output_type": "execute_result"
    }
   ],
   "source": [
    "%viz --style=\"ORTHOLINE\" --view=\"Action\" \"AnalysisAnnotation\""
   ]
  },
  {
   "cell_type": "code",
   "execution_count": 56,
   "id": "d8ef4bcb",
   "metadata": {
    "execution": {
     "iopub.execute_input": "2021-04-20T07:28:19.861371Z",
     "iopub.status.busy": "2021-04-20T07:28:19.860891Z",
     "iopub.status.idle": "2021-04-20T07:28:20.022517Z",
     "shell.execute_reply": "2021-04-20T07:28:20.020870Z"
    }
   },
   "outputs": [
    {
     "data": {
      "image/svg+xml": [
       "<?xml version=\"1.0\" encoding=\"UTF-8\" standalone=\"no\"?><svg xmlns=\"http://www.w3.org/2000/svg\" xmlns:xlink=\"http://www.w3.org/1999/xlink\" contentScriptType=\"application/ecmascript\" contentStyleType=\"text/css\" height=\"472px\" preserveAspectRatio=\"none\" style=\"width:357px;height:472px;\" version=\"1.1\" viewBox=\"0 0 357 472\" width=\"357px\" zoomAndPan=\"magnify\"><defs/><g><!--MD5=[fbc87193dbaf4d95561dea2c320d4a47]\n",
       "cluster E1--><a href=\"psysml:3f9dd228-0d59-436f-8c66-7bfaf74317e1\" target=\"_top\" title=\"psysml:3f9dd228-0d59-436f-8c66-7bfaf74317e1\" xlink:actuate=\"onRequest\" xlink:href=\"psysml:3f9dd228-0d59-436f-8c66-7bfaf74317e1\" xlink:show=\"new\" xlink:title=\"psysml:3f9dd228-0d59-436f-8c66-7bfaf74317e1\" xlink:type=\"simple\"><polygon fill=\"#FFFFFF\" points=\"16,6,173,6,180,28.2969,335,28.2969,335,460,16,460,16,6\" style=\"stroke: #000000; stroke-width: 1.5;\"/><line style=\"stroke: #000000; stroke-width: 1.5;\" x1=\"16\" x2=\"180\" y1=\"28.2969\" y2=\"28.2969\"/><text fill=\"#000000\" font-family=\"sans-serif\" font-size=\"14\" font-weight=\"bold\" lengthAdjust=\"spacingAndGlyphs\" textLength=\"151\" x=\"20\" y=\"20.9951\">AnalysisAnnotation</text></a><!--MD5=[b4997ac47864f28c2f74865a473b2911]\n",
       "class E2--><a href=\"psysml:44eddca9-682f-4ef7-a7c7-a9f194d7f2c9\" target=\"_top\" title=\"psysml:44eddca9-682f-4ef7-a7c7-a9f194d7f2c9\" xlink:actuate=\"onRequest\" xlink:href=\"psysml:44eddca9-682f-4ef7-a7c7-a9f194d7f2c9\" xlink:show=\"new\" xlink:title=\"psysml:44eddca9-682f-4ef7-a7c7-a9f194d7f2c9\" xlink:type=\"simple\"><rect fill=\"#FFFFFF\" height=\"45.9375\" id=\"E2\" style=\"stroke: #383838; stroke-width: 1.5;\" width=\"74\" x=\"238\" y=\"113.5\"/><text fill=\"#000000\" font-family=\"sans-serif\" font-size=\"12\" font-style=\"italic\" lengthAdjust=\"spacingAndGlyphs\" textLength=\"72\" x=\"239\" y=\"129.6387\">«dataType»</text><text fill=\"#000000\" font-family=\"sans-serif\" font-size=\"12\" lengthAdjust=\"spacingAndGlyphs\" textLength=\"27\" x=\"261.5\" y=\"143.6074\">Real</text><line style=\"stroke: #383838; stroke-width: 1.5;\" x1=\"239\" x2=\"311\" y1=\"151.4375\" y2=\"151.4375\"/></a><!--MD5=[09b614a08d8cba4a07c9adeb5e0fee81]\n",
       "class E3--><a href=\"psysml:e73f4f0e-f2f2-491a-ad18-2354ebab0714\" target=\"_top\" title=\"psysml:e73f4f0e-f2f2-491a-ad18-2354ebab0714\" xlink:actuate=\"onRequest\" xlink:href=\"psysml:e73f4f0e-f2f2-491a-ad18-2354ebab0714\" xlink:show=\"new\" xlink:title=\"psysml:e73f4f0e-f2f2-491a-ad18-2354ebab0714\" xlink:type=\"simple\"><rect fill=\"#FFFFFF\" height=\"190.7891\" id=\"E3\" style=\"stroke: #383838; stroke-width: 1.5;\" width=\"151\" x=\"38.5\" y=\"41\"/><text fill=\"#000000\" font-family=\"sans-serif\" font-size=\"12\" font-style=\"italic\" lengthAdjust=\"spacingAndGlyphs\" textLength=\"77\" x=\"75.5\" y=\"57.1387\">«action def»</text><text fill=\"#000000\" font-family=\"sans-serif\" font-size=\"12\" lengthAdjust=\"spacingAndGlyphs\" textLength=\"115\" x=\"56.5\" y=\"71.1074\">ComputeDynamics</text><line style=\"stroke: #383838; stroke-width: 1.5;\" x1=\"39.5\" x2=\"188.5\" y1=\"78.9375\" y2=\"78.9375\"/><text fill=\"#000000\" font-family=\"sans-serif\" font-size=\"11\" lengthAdjust=\"spacingAndGlyphs\" textLength=\"47\" x=\"44.5\" y=\"109.9526\">Cd: Real</text><text fill=\"#000000\" font-family=\"sans-serif\" font-size=\"11\" lengthAdjust=\"spacingAndGlyphs\" textLength=\"44\" x=\"44.5\" y=\"122.7573\">Cf: Real</text><text fill=\"#000000\" font-family=\"sans-serif\" font-size=\"11\" lengthAdjust=\"spacingAndGlyphs\" textLength=\"139\" x=\"44.5\" y=\"135.562\">a_out: AccelerationValue</text><text fill=\"#000000\" font-family=\"sans-serif\" font-size=\"11\" lengthAdjust=\"spacingAndGlyphs\" textLength=\"98\" x=\"44.5\" y=\"148.3667\">dt: DurationValue</text><text fill=\"#000000\" font-family=\"sans-serif\" font-size=\"11\" lengthAdjust=\"spacingAndGlyphs\" textLength=\"84\" x=\"44.5\" y=\"161.1714\">tm: MassValue</text><text fill=\"#000000\" font-family=\"sans-serif\" font-size=\"11\" lengthAdjust=\"spacingAndGlyphs\" textLength=\"97\" x=\"44.5\" y=\"173.9761\">v_in: SpeedValue</text><text fill=\"#000000\" font-family=\"sans-serif\" font-size=\"11\" lengthAdjust=\"spacingAndGlyphs\" textLength=\"105\" x=\"44.5\" y=\"186.7808\">v_out: SpeedValue</text><text fill=\"#000000\" font-family=\"sans-serif\" font-size=\"11\" lengthAdjust=\"spacingAndGlyphs\" textLength=\"114\" x=\"44.5\" y=\"199.5854\">whlpwr: PowerValue</text><text fill=\"#000000\" font-family=\"sans-serif\" font-size=\"11\" lengthAdjust=\"spacingAndGlyphs\" textLength=\"99\" x=\"44.5\" y=\"212.3901\">x_in: LengthValue</text><text fill=\"#000000\" font-family=\"sans-serif\" font-size=\"11\" lengthAdjust=\"spacingAndGlyphs\" textLength=\"107\" x=\"44.5\" y=\"225.1948\">x_out: LengthValue</text><line style=\"stroke: #383838; stroke-width: 1.0;\" x1=\"39.5\" x2=\"86.5\" y1=\"93.3398\" y2=\"93.3398\"/><text fill=\"#000000\" font-family=\"sans-serif\" font-size=\"11\" lengthAdjust=\"spacingAndGlyphs\" textLength=\"55\" x=\"86.5\" y=\"96.6479\">attributes</text><line style=\"stroke: #383838; stroke-width: 1.0;\" x1=\"141.5\" x2=\"188.5\" y1=\"93.3398\" y2=\"93.3398\"/></a><!--MD5=[ebbe1d658d1005bcc118a6aa81145e00]\n",
       "class E4--><a href=\"psysml:60a2becf-7a46-4ebd-946f-3a728f7b6aab\" target=\"_top\" title=\"psysml:60a2becf-7a46-4ebd-946f-3a728f7b6aab\" xlink:actuate=\"onRequest\" xlink:href=\"psysml:60a2becf-7a46-4ebd-946f-3a728f7b6aab\" xlink:show=\"new\" xlink:title=\"psysml:60a2becf-7a46-4ebd-946f-3a728f7b6aab\" xlink:type=\"simple\"><rect fill=\"#FFFFFF\" height=\"45.9375\" id=\"E4\" style=\"stroke: #383838; stroke-width: 1.5;\" width=\"152\" x=\"38\" y=\"292\"/><text fill=\"#000000\" font-family=\"sans-serif\" font-size=\"12\" font-style=\"italic\" lengthAdjust=\"spacingAndGlyphs\" textLength=\"132\" x=\"48\" y=\"308.1387\">«annotatingFeature»</text><text fill=\"#000000\" font-family=\"sans-serif\" font-size=\"12\" lengthAdjust=\"spacingAndGlyphs\" text-decoration=\"line-through\" textLength=\"51\" x=\"41\" y=\"322.1074\">noname</text><text fill=\"#000000\" font-family=\"sans-serif\" font-size=\"12\" lengthAdjust=\"spacingAndGlyphs\" textLength=\"95\" x=\"92\" y=\"322.1074\">: ToolExecution</text><line style=\"stroke: #383838; stroke-width: 1.5;\" x1=\"39\" x2=\"189\" y1=\"329.9375\" y2=\"329.9375\"/></a><!--MD5=[270fce915f116d4de14055a7c1d9a0f3]\n",
       "class E5--><a href=\"psysml:b02ba1b2-12c8-4052-9523-3aa0c79993f0\" target=\"_top\" title=\"psysml:b02ba1b2-12c8-4052-9523-3aa0c79993f0\" xlink:actuate=\"onRequest\" xlink:href=\"psysml:b02ba1b2-12c8-4052-9523-3aa0c79993f0\" xlink:show=\"new\" xlink:title=\"psysml:b02ba1b2-12c8-4052-9523-3aa0c79993f0\" xlink:type=\"simple\"><rect fill=\"#FFFFFF\" height=\"45.9375\" id=\"E5\" style=\"stroke: #383838; stroke-width: 1.5;\" width=\"126\" x=\"32\" y=\"398\"/><text fill=\"#000000\" font-family=\"sans-serif\" font-size=\"12\" font-style=\"italic\" lengthAdjust=\"spacingAndGlyphs\" textLength=\"124\" x=\"33\" y=\"414.1387\">«metadataFeature»</text><text fill=\"#000000\" font-family=\"sans-serif\" font-size=\"12\" lengthAdjust=\"spacingAndGlyphs\" textLength=\"60\" x=\"65\" y=\"428.1074\">toolName</text><line style=\"stroke: #383838; stroke-width: 1.5;\" x1=\"33\" x2=\"157\" y1=\"435.9375\" y2=\"435.9375\"/></a><!--MD5=[60a26617385b1d2d0262a64233df1f8d]\n",
       "class E6--><a href=\"psysml:cb4006f5-0e41-4f05-aa2a-a57df33d56ff\" target=\"_top\" title=\"psysml:cb4006f5-0e41-4f05-aa2a-a57df33d56ff\" xlink:actuate=\"onRequest\" xlink:href=\"psysml:cb4006f5-0e41-4f05-aa2a-a57df33d56ff\" xlink:show=\"new\" xlink:title=\"psysml:cb4006f5-0e41-4f05-aa2a-a57df33d56ff\" xlink:type=\"simple\"><rect fill=\"#FFFFFF\" height=\"45.9375\" id=\"E6\" style=\"stroke: #383838; stroke-width: 1.5;\" width=\"126\" x=\"193\" y=\"398\"/><text fill=\"#000000\" font-family=\"sans-serif\" font-size=\"12\" font-style=\"italic\" lengthAdjust=\"spacingAndGlyphs\" textLength=\"124\" x=\"194\" y=\"414.1387\">«metadataFeature»</text><text fill=\"#000000\" font-family=\"sans-serif\" font-size=\"12\" lengthAdjust=\"spacingAndGlyphs\" textLength=\"16\" x=\"248\" y=\"428.1074\">uri</text><line style=\"stroke: #383838; stroke-width: 1.5;\" x1=\"194\" x2=\"318\" y1=\"435.9375\" y2=\"435.9375\"/></a><!--MD5=[4672eba38e49728da53d11aeb285b987]\n",
       "reverse link E3 to E4--><a href=\"psysml:66d6f7e6-2188-4a34-9637-6b4b270c496c\" target=\"_top\" title=\"psysml:66d6f7e6-2188-4a34-9637-6b4b270c496c\" xlink:actuate=\"onRequest\" xlink:href=\"psysml:66d6f7e6-2188-4a34-9637-6b4b270c496c\" xlink:show=\"new\" xlink:title=\"psysml:66d6f7e6-2188-4a34-9637-6b4b270c496c\" xlink:type=\"simple\"><path d=\"M114,247.02 C114,247.02 114,291.91 114,291.91 \" fill=\"none\" id=\"E3&lt;-E4\" style=\"stroke: #383838; stroke-width: 1.0;\"/><ellipse cx=\"114\" cy=\"240.02\" fill=\"#FFFFFF\" rx=\"8\" ry=\"8\" style=\"stroke: #383838; stroke-width: 1.0;\"/><line style=\"stroke: #383838; stroke-width: 1.0;\" x1=\"114\" x2=\"114\" y1=\"248.02\" y2=\"232.02\"/><line style=\"stroke: #383838; stroke-width: 1.0;\" x1=\"106\" x2=\"122\" y1=\"240.02\" y2=\"240.02\"/></a><!--MD5=[62aa6af11e70f752912c1cb0466f24f7]\n",
       "reverse link E4 to E5--><a href=\"psysml:4336f8bf-5a73-49a4-a706-8a85ff7218c2\" target=\"_top\" title=\"psysml:4336f8bf-5a73-49a4-a706-8a85ff7218c2\" xlink:actuate=\"onRequest\" xlink:href=\"psysml:4336f8bf-5a73-49a4-a706-8a85ff7218c2\" xlink:show=\"new\" xlink:title=\"psysml:4336f8bf-5a73-49a4-a706-8a85ff7218c2\" xlink:type=\"simple\"><path d=\"M98,351 C98,351 98,397.68 98,397.68 \" fill=\"none\" id=\"E4&lt;-E5\" style=\"stroke: #383838; stroke-width: 1.0;\"/><polygon fill=\"#383838\" points=\"98,338,94,344,98,350,102,344,98,338\" style=\"stroke: #383838; stroke-width: 1.0;\"/></a><!--MD5=[6db378b65e1aef66a01cb3103812b399]\n",
       "reverse link E4 to E6--><a href=\"psysml:14217a47-d828-403c-a59e-1cb114a87a2b\" target=\"_top\" title=\"psysml:14217a47-d828-403c-a59e-1cb114a87a2b\" xlink:actuate=\"onRequest\" xlink:href=\"psysml:14217a47-d828-403c-a59e-1cb114a87a2b\" xlink:show=\"new\" xlink:title=\"psysml:14217a47-d828-403c-a59e-1cb114a87a2b\" xlink:type=\"simple\"><path d=\"M174,351 C174,351 174,421 174,421 C174,421 181.81,421 192.61,421 \" fill=\"none\" id=\"E4&lt;-E6\" style=\"stroke: #383838; stroke-width: 1.0;\"/><polygon fill=\"#383838\" points=\"174,338,170,344,174,350,178,344,174,338\" style=\"stroke: #383838; stroke-width: 1.0;\"/></a><!--MD5=[2f6c2cf6b745ac7ccc4d4e26b8af25c3]\n",
       "@startuml\r\n",
       "skinparam linetype ortho\r\n",
       "skinparam monochrome true\r\n",
       "skinparam classbackgroundcolor white\r\n",
       "skinparam shadowing false\r\n",
       "skinparam wrapWidth 300\r\n",
       "hide circle\r\n",
       "\r\n",
       "package \"AnalysisAnnotation\" as E1  [[psysml:3f9dd228-0d59-436f-8c66-7bfaf74317e1 ]]  {\r\n",
       "comp def \"Real\" as E2  <<(T,blue)dataType>> [[psysml:44eddca9-682f-4ef7-a7c7-a9f194d7f2c9 ]] {\r\n",
       "}\r\n",
       "comp def \"ComputeDynamics\" as E3  <<(T,blue)action def>> [[psysml:e73f4f0e-f2f2-491a-ad18-2354ebab0714 ]] {\r\n",
       "- - attributes - -\r\n",
       "Cd: Real\r\n",
       "Cf: Real\r\n",
       "a_out: AccelerationValue\r\n",
       "dt: DurationValue\r\n",
       "tm: MassValue\r\n",
       "v_in: SpeedValue\r\n",
       "v_out: SpeedValue\r\n",
       "whlpwr: PowerValue\r\n",
       "x_in: LengthValue\r\n",
       "x_out: LengthValue\r\n",
       "}\r\n",
       "comp def \"<s>noname</s>: ToolExecution\" as E4  <<(T,blue)annotatingFeature>> [[psysml:60a2becf-7a46-4ebd-946f-3a728f7b6aab ]] {\r\n",
       "}\r\n",
       "comp def \"toolName\" as E5  <<(T,blue)metadataFeature>> [[psysml:b02ba1b2-12c8-4052-9523-3aa0c79993f0 ]] {\r\n",
       "}\r\n",
       "comp def \"uri\" as E6  <<(T,blue)metadataFeature>> [[psysml:cb4006f5-0e41-4f05-aa2a-a57df33d56ff ]] {\r\n",
       "}\r\n",
       "E3 +- - E4 [[psysml:66d6f7e6-2188-4a34-9637-6b4b270c496c ]] \r\n",
       "E4 *- - E5 [[psysml:4336f8bf-5a73-49a4-a706-8a85ff7218c2 ]] \r\n",
       "E4 *- - E6 [[psysml:14217a47-d828-403c-a59e-1cb114a87a2b ]] \r\n",
       "}\r\n",
       "@enduml\r\n",
       "\n",
       "PlantUML version 1.2020.13(Sat Jun 13 12:26:38 UTC 2020)\n",
       "(EPL source distribution)\n",
       "Java Runtime: OpenJDK Runtime Environment\n",
       "JVM: OpenJDK 64-Bit Server VM\n",
       "Default Encoding: UTF-8\n",
       "Language: en\n",
       "Country: null\n",
       "--></g></svg>"
      ]
     },
     "execution_count": 56,
     "metadata": {},
     "output_type": "execute_result"
    }
   ],
   "source": [
    "%viz --style=\"ORTHOLINE\" --view=\"Sequence\" \"AnalysisAnnotation\""
   ]
  },
  {
   "cell_type": "code",
   "execution_count": 57,
   "id": "182900b1",
   "metadata": {
    "execution": {
     "iopub.execute_input": "2021-04-20T07:28:20.072208Z",
     "iopub.status.busy": "2021-04-20T07:28:20.071757Z",
     "iopub.status.idle": "2021-04-20T07:28:20.110960Z",
     "shell.execute_reply": "2021-04-20T07:28:20.109050Z"
    }
   },
   "outputs": [
    {
     "data": {
      "image/svg+xml": [
       "<?xml version=\"1.0\" encoding=\"UTF-8\" standalone=\"no\"?><svg xmlns=\"http://www.w3.org/2000/svg\" xmlns:xlink=\"http://www.w3.org/1999/xlink\" contentScriptType=\"application/ecmascript\" contentStyleType=\"text/css\" height=\"350px\" preserveAspectRatio=\"none\" style=\"width:481px;height:350px;\" version=\"1.1\" viewBox=\"0 0 481 350\" width=\"481px\" zoomAndPan=\"magnify\"><defs/><g><!--MD5=[fbc87193dbaf4d95561dea2c320d4a47]\n",
       "cluster E1--><a href=\"psysml:3f9dd228-0d59-436f-8c66-7bfaf74317e1\" target=\"_top\" title=\"psysml:3f9dd228-0d59-436f-8c66-7bfaf74317e1\" xlink:actuate=\"onRequest\" xlink:href=\"psysml:3f9dd228-0d59-436f-8c66-7bfaf74317e1\" xlink:show=\"new\" xlink:title=\"psysml:3f9dd228-0d59-436f-8c66-7bfaf74317e1\" xlink:type=\"simple\"><polygon fill=\"#FFFFFF\" points=\"16,6,173,6,180,28.2969,459,28.2969,459,338.72,16,338.72,16,6\" style=\"stroke: #000000; stroke-width: 1.5;\"/><line style=\"stroke: #000000; stroke-width: 1.5;\" x1=\"16\" x2=\"180\" y1=\"28.2969\" y2=\"28.2969\"/><text fill=\"#000000\" font-family=\"sans-serif\" font-size=\"14\" font-weight=\"bold\" lengthAdjust=\"spacingAndGlyphs\" textLength=\"151\" x=\"20\" y=\"20.9951\">AnalysisAnnotation</text></a><!--MD5=[d5e69f78d87373223dbae638b30a9c99]\n",
       "cluster E3--><a href=\"psysml:e73f4f0e-f2f2-491a-ad18-2354ebab0714\" target=\"_top\" title=\"psysml:e73f4f0e-f2f2-491a-ad18-2354ebab0714\" xlink:actuate=\"onRequest\" xlink:href=\"psysml:e73f4f0e-f2f2-491a-ad18-2354ebab0714\" xlink:show=\"new\" xlink:title=\"psysml:e73f4f0e-f2f2-491a-ad18-2354ebab0714\" xlink:type=\"simple\"><rect fill=\"#FFFFFF\" height=\"244.72\" id=\"E3\" style=\"stroke: #383838; stroke-width: 1.5;\" width=\"318\" x=\"129\" y=\"64\"/><rect fill=\"#F8F8F8\" height=\"37.9375\" style=\"stroke: #383838; stroke-width: 1.5;\" width=\"318\" x=\"129\" y=\"64\"/><text fill=\"#000000\" font-family=\"sans-serif\" font-size=\"12\" font-style=\"italic\" lengthAdjust=\"spacingAndGlyphs\" textLength=\"77\" x=\"249.5\" y=\"80.1387\">«action def»</text><text fill=\"#000000\" font-family=\"sans-serif\" font-size=\"12\" lengthAdjust=\"spacingAndGlyphs\" textLength=\"115\" x=\"230.5\" y=\"94.1074\">ComputeDynamics</text></a><!--MD5=[b4997ac47864f28c2f74865a473b2911]\n",
       "class E2--><a href=\"psysml:44eddca9-682f-4ef7-a7c7-a9f194d7f2c9\" target=\"_top\" title=\"psysml:44eddca9-682f-4ef7-a7c7-a9f194d7f2c9\" xlink:actuate=\"onRequest\" xlink:href=\"psysml:44eddca9-682f-4ef7-a7c7-a9f194d7f2c9\" xlink:show=\"new\" xlink:title=\"psysml:44eddca9-682f-4ef7-a7c7-a9f194d7f2c9\" xlink:type=\"simple\"><rect fill=\"#FFFFFF\" height=\"45.9375\" id=\"E2\" style=\"stroke: #383838; stroke-width: 1.5;\" width=\"74\" x=\"32\" y=\"41\"/><text fill=\"#000000\" font-family=\"sans-serif\" font-size=\"12\" font-style=\"italic\" lengthAdjust=\"spacingAndGlyphs\" textLength=\"72\" x=\"33\" y=\"57.1387\">«dataType»</text><text fill=\"#000000\" font-family=\"sans-serif\" font-size=\"12\" lengthAdjust=\"spacingAndGlyphs\" textLength=\"27\" x=\"55.5\" y=\"71.1074\">Real</text><line style=\"stroke: #383838; stroke-width: 1.5;\" x1=\"33\" x2=\"105\" y1=\"78.9375\" y2=\"78.9375\"/></a><text fill=\"#000000\" font-family=\"sans-serif\" font-size=\"14\" lengthAdjust=\"spacingAndGlyphs\" textLength=\"48\" x=\"169\" y=\"327.7151\">$result</text><rect fill=\"#383838\" height=\"12\" style=\"stroke: #F8F8F8; stroke-width: 1.5;\" width=\"12\" x=\"187\" y=\"302.72\"/><text fill=\"#000000\" font-family=\"sans-serif\" font-size=\"14\" lengthAdjust=\"spacingAndGlyphs\" textLength=\"48\" x=\"216\" y=\"327.7151\">$result</text><rect fill=\"#383838\" height=\"12\" style=\"stroke: #F8F8F8; stroke-width: 1.5;\" width=\"12\" x=\"234\" y=\"302.72\"/><text fill=\"#000000\" font-family=\"sans-serif\" font-size=\"14\" lengthAdjust=\"spacingAndGlyphs\" textLength=\"14\" x=\"140\" y=\"42.6982\">dt</text><rect fill=\"#383838\" height=\"12\" style=\"stroke: #F8F8F8; stroke-width: 1.5;\" width=\"12\" x=\"141\" y=\"58\"/><text fill=\"#000000\" font-family=\"sans-serif\" font-size=\"14\" lengthAdjust=\"spacingAndGlyphs\" textLength=\"48\" x=\"170\" y=\"42.6982\">whlpwr</text><rect fill=\"#383838\" height=\"12\" style=\"stroke: #F8F8F8; stroke-width: 1.5;\" width=\"12\" x=\"188\" y=\"58\"/><text fill=\"#000000\" font-family=\"sans-serif\" font-size=\"14\" lengthAdjust=\"spacingAndGlyphs\" textLength=\"19\" x=\"231.5\" y=\"42.6982\">Cd</text><rect fill=\"#383838\" height=\"12\" style=\"stroke: #F8F8F8; stroke-width: 1.5;\" width=\"12\" x=\"235\" y=\"58\"/><text fill=\"#000000\" font-family=\"sans-serif\" font-size=\"14\" lengthAdjust=\"spacingAndGlyphs\" textLength=\"14\" x=\"281\" y=\"42.6982\">Cf</text><rect fill=\"#383838\" height=\"12\" style=\"stroke: #F8F8F8; stroke-width: 1.5;\" width=\"12\" x=\"282\" y=\"58\"/><text fill=\"#000000\" font-family=\"sans-serif\" font-size=\"14\" lengthAdjust=\"spacingAndGlyphs\" textLength=\"18\" x=\"326\" y=\"42.6982\">tm</text><rect fill=\"#383838\" height=\"12\" style=\"stroke: #F8F8F8; stroke-width: 1.5;\" width=\"12\" x=\"329\" y=\"58\"/><text fill=\"#000000\" font-family=\"sans-serif\" font-size=\"14\" lengthAdjust=\"spacingAndGlyphs\" textLength=\"26\" x=\"369\" y=\"42.6982\">v_in</text><rect fill=\"#383838\" height=\"12\" style=\"stroke: #F8F8F8; stroke-width: 1.5;\" width=\"12\" x=\"376\" y=\"58\"/><text fill=\"#000000\" font-family=\"sans-serif\" font-size=\"14\" lengthAdjust=\"spacingAndGlyphs\" textLength=\"26\" x=\"416\" y=\"42.6982\">x_in</text><rect fill=\"#383838\" height=\"12\" style=\"stroke: #F8F8F8; stroke-width: 1.5;\" width=\"12\" x=\"423\" y=\"58\"/><text fill=\"#000000\" font-family=\"sans-serif\" font-size=\"14\" lengthAdjust=\"spacingAndGlyphs\" textLength=\"38\" x=\"268\" y=\"327.7151\">a_out</text><rect fill=\"#383838\" height=\"12\" style=\"stroke: #F8F8F8; stroke-width: 1.5;\" width=\"12\" x=\"281\" y=\"302.72\"/><text fill=\"#000000\" font-family=\"sans-serif\" font-size=\"14\" lengthAdjust=\"spacingAndGlyphs\" textLength=\"37\" x=\"315.5\" y=\"327.7151\">v_out</text><rect fill=\"#383838\" height=\"12\" style=\"stroke: #F8F8F8; stroke-width: 1.5;\" width=\"12\" x=\"328\" y=\"302.72\"/><text fill=\"#000000\" font-family=\"sans-serif\" font-size=\"14\" lengthAdjust=\"spacingAndGlyphs\" textLength=\"37\" x=\"362.5\" y=\"327.7151\">x_out</text><rect fill=\"#383838\" height=\"12\" style=\"stroke: #F8F8F8; stroke-width: 1.5;\" width=\"12\" x=\"375\" y=\"302.72\"/><!--MD5=[dd4c351e91e99ef8d2cffbff82704713]\n",
       "@startuml\r\n",
       "skinparam linetype ortho\r\n",
       "skinparam monochrome true\r\n",
       "skinparam classbackgroundcolor white\r\n",
       "skinparam shadowing false\r\n",
       "skinparam wrapWidth 300\r\n",
       "hide circle\r\n",
       "\r\n",
       "package \"AnalysisAnnotation\" as E1  [[psysml:3f9dd228-0d59-436f-8c66-7bfaf74317e1 ]]  {\r\n",
       "comp def \"Real\" as E2  <<(T,blue)dataType>> [[psysml:44eddca9-682f-4ef7-a7c7-a9f194d7f2c9 ]] {\r\n",
       "}\r\n",
       "rec def \"ComputeDynamics\" as E3  <<(T,blue)action def>> [[psysml:e73f4f0e-f2f2-491a-ad18-2354ebab0714 ]] {\r\n",
       "portout \"$result\" as E4  [[psysml:321a5472-f26a-4f44-adf1-e887f248e10c ]] \r\n",
       "portout \"$result\" as E5  [[psysml:249d7fd3-af20-489f-a52b-b6c298227647 ]] \r\n",
       "portin \"dt\" as E6  [[psysml:d9dfe931-1109-47e6-bc0c-352db24577b0 ]] \r\n",
       "portin \"whlpwr\" as E7  [[psysml:44277f67-022c-45f6-9760-98798ee04e09 ]] \r\n",
       "portin \"Cd\" as E8  [[psysml:41d96645-5d65-4e32-85e5-332077e108f6 ]] \r\n",
       "portin \"Cf\" as E9  [[psysml:aebf7dc6-628a-4d75-a952-13ccca53817c ]] \r\n",
       "portin \"tm\" as E10  [[psysml:08dba41b-e930-4b20-afae-ef7ae15f00ec ]] \r\n",
       "portin \"v_in\" as E11  [[psysml:e3f3c5a0-ed9d-41a6-a918-fe4a600fe261 ]] \r\n",
       "portin \"x_in\" as E12  [[psysml:fb3fca97-7004-4d76-8828-7714499f1454 ]] \r\n",
       "portout \"a_out\" as E13  [[psysml:5a710766-56b6-4c7a-9ae9-326b3f7572a8 ]] \r\n",
       "portout \"v_out\" as E14  [[psysml:1e62abd8-4172-4662-8f1c-1e7c30e8c54c ]] \r\n",
       "portout \"x_out\" as E15  [[psysml:e4c640c8-309e-4572-81b1-e78594ed37ec ]] \r\n",
       "}\r\n",
       "\r\n",
       "}\r\n",
       "@enduml\r\n",
       "\n",
       "PlantUML version 1.2020.13(Sat Jun 13 12:26:38 UTC 2020)\n",
       "(EPL source distribution)\n",
       "Java Runtime: OpenJDK Runtime Environment\n",
       "JVM: OpenJDK 64-Bit Server VM\n",
       "Default Encoding: UTF-8\n",
       "Language: en\n",
       "Country: null\n",
       "--></g></svg>"
      ]
     },
     "execution_count": 57,
     "metadata": {},
     "output_type": "execute_result"
    }
   ],
   "source": [
    "%viz --style=\"ORTHOLINE\" --view=\"MIXED\" \"AnalysisAnnotation\""
   ]
  }
 ],
 "metadata": {
  "kernelspec": {
   "display_name": "SysML",
   "language": "sysml",
   "name": "sysml"
  },
  "language_info": {
   "codemirror_mode": "sysml",
   "file_extension": ".sysml",
   "mimetype": "text/x-sysml",
   "name": "SysML",
   "pygments_lexer": "java",
   "version": "1.0.0"
  }
 },
 "nbformat": 4,
 "nbformat_minor": 5
}
