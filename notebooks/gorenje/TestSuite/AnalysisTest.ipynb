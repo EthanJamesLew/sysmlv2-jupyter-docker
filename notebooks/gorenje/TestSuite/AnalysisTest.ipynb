{
 "cells": [
  {
   "cell_type": "markdown",
   "id": "ce37c53a",
   "metadata": {},
   "source": [
    "# SysML v2 Test Suite\n",
    "\n",
    "This can notebook can be cleared using menu `Edit --> Clear All Outputs` and then all cells can be\n",
    "run using menu `Run --> Run All Cells`.\n",
    "\n",
    "**WARNING**: This file is generated, all modifications here will be ignored.\n"
   ]
  },
  {
   "cell_type": "markdown",
   "id": "c9da3778",
   "metadata": {},
   "source": [
    "## File: ../../sysml/src/examples/Simple Tests/AnalysisTest.sysml"
   ]
  },
  {
   "cell_type": "code",
   "execution_count": 1,
   "id": "35960976",
   "metadata": {
    "execution": {
     "iopub.execute_input": "2021-09-27T07:15:27.094897Z",
     "iopub.status.busy": "2021-09-27T07:15:27.093487Z",
     "iopub.status.idle": "2021-09-27T07:15:27.504741Z",
     "shell.execute_reply": "2021-09-27T07:15:27.504214Z"
    }
   },
   "outputs": [
    {
     "data": {
      "text/plain": [
       "Package AnalysisTest (d0f32710-da46-4975-8734-f387accd2b6e)\n"
      ]
     },
     "execution_count": 1,
     "metadata": {},
     "output_type": "execute_result"
    }
   ],
   "source": [
    "package AnalysisTest {\n",
    "\n",
    "\tpart def V {\n",
    "\t\tm;\n",
    "\t}\n",
    "\t\n",
    "\tpart vv : V;\n",
    "\t\n",
    "\trequirement def AnalysisObjective {\n",
    "\t\tdoc /* ... */\n",
    "\t}\n",
    "\n",
    "\tanalysis def AnalysisCase {\n",
    "\t\tsubject v : V;\n",
    "\t\t\n",
    "\t\tobjective obj : AnalysisObjective { \n",
    "\t\t\tsubject = result;\n",
    "\t\t}\n",
    "\t\t\n",
    "\t\tv.m\n",
    "\t}\n",
    "\t\n",
    "\tanalysis def AnalysisPlan {\n",
    "\t\tsubject v : V;\n",
    "\t\t\n",
    "\t\tobjective {\n",
    "\t\t\tdoc /* ... */\n",
    "\t\t}\n",
    "\t\t\n",
    "\t\tanalysis analysisCase : AnalysisCase () return mass;\n",
    "\t}\n",
    "\t\n",
    "\tpart analysisContext {\n",
    "\t\tanalysis analysisPlan : AnalysisPlan {\n",
    "\t\t\tsubject v = vv;\n",
    "\t\t}\n",
    "\t}\n",
    "}"
   ]
  },
  {
   "cell_type": "code",
   "execution_count": 2,
   "id": "f3ca45e2",
   "metadata": {
    "execution": {
     "iopub.execute_input": "2021-09-27T07:15:27.555762Z",
     "iopub.status.busy": "2021-09-27T07:15:27.555305Z",
     "iopub.status.idle": "2021-09-27T07:15:28.077391Z",
     "shell.execute_reply": "2021-09-27T07:15:28.076981Z"
    }
   },
   "outputs": [
    {
     "data": {
      "image/svg+xml": [
       "<?xml version=\"1.0\" encoding=\"UTF-8\" standalone=\"no\"?><svg xmlns=\"http://www.w3.org/2000/svg\" xmlns:xlink=\"http://www.w3.org/1999/xlink\" contentScriptType=\"application/ecmascript\" contentStyleType=\"text/css\" height=\"628px\" preserveAspectRatio=\"none\" style=\"width:837px;height:628px;\" version=\"1.1\" viewBox=\"0 0 837 628\" width=\"837px\" zoomAndPan=\"magnify\"><defs/><g><!--MD5=[fbc87193dbaf4d95561dea2c320d4a47]\n",
       "cluster E1--><a href=\"psysml:f5546318-5597-445e-83af-957575abd1f7\" target=\"_top\" title=\"psysml:f5546318-5597-445e-83af-957575abd1f7\" xlink:actuate=\"onRequest\" xlink:href=\"psysml:f5546318-5597-445e-83af-957575abd1f7\" xlink:show=\"new\" xlink:title=\"psysml:f5546318-5597-445e-83af-957575abd1f7\" xlink:type=\"simple\"><polygon fill=\"#FFFFFF\" points=\"16,6,108,6,115,28.2969,815,28.2969,815,616,16,616,16,6\" style=\"stroke: #000000; stroke-width: 1.5;\"/><line style=\"stroke: #000000; stroke-width: 1.5;\" x1=\"16\" x2=\"115\" y1=\"28.2969\" y2=\"28.2969\"/><text fill=\"#000000\" font-family=\"sans-serif\" font-size=\"14\" font-weight=\"bold\" lengthAdjust=\"spacingAndGlyphs\" textLength=\"86\" x=\"20\" y=\"20.9951\">AnalysisTest</text></a><!--MD5=[de5ec2e2e8f62f467e546659f5068c88]\n",
       "cluster E5--><a href=\"psysml:e9833d01-8fa8-4820-af73-47d7be444de9\" target=\"_top\" title=\"psysml:e9833d01-8fa8-4820-af73-47d7be444de9\" xlink:actuate=\"onRequest\" xlink:href=\"psysml:e9833d01-8fa8-4820-af73-47d7be444de9\" xlink:show=\"new\" xlink:title=\"psysml:e9833d01-8fa8-4820-af73-47d7be444de9\" xlink:type=\"simple\"><rect fill=\"#FFFFFF\" height=\"299.5\" id=\"E5\" style=\"stroke: #383838; stroke-width: 1.5;\" width=\"146\" x=\"653\" y=\"74.5\"/><rect fill=\"#F8F8F8\" height=\"37.9375\" style=\"stroke: #383838; stroke-width: 1.5;\" width=\"146\" x=\"653\" y=\"74.5\"/><text fill=\"#000000\" font-family=\"sans-serif\" font-size=\"12\" font-style=\"italic\" lengthAdjust=\"spacingAndGlyphs\" textLength=\"88\" x=\"682\" y=\"90.6387\">«analysis def»</text><text fill=\"#000000\" font-family=\"sans-serif\" font-size=\"12\" lengthAdjust=\"spacingAndGlyphs\" textLength=\"81\" x=\"685.5\" y=\"104.6074\">AnalysisCase</text></a><!--MD5=[55dfccfc6c49c2d10cd1bd2211a6c90c]\n",
       "cluster E8--><a href=\"psysml:8a4520e8-ac51-4a2a-8007-cfc5f8084f42\" target=\"_top\" title=\"psysml:8a4520e8-ac51-4a2a-8007-cfc5f8084f42\" xlink:actuate=\"onRequest\" xlink:href=\"psysml:8a4520e8-ac51-4a2a-8007-cfc5f8084f42\" xlink:show=\"new\" xlink:title=\"psysml:8a4520e8-ac51-4a2a-8007-cfc5f8084f42\" xlink:type=\"simple\"><rect fill=\"#FFFFFF\" height=\"400\" id=\"E8\" style=\"stroke: #383838; stroke-width: 1.5;\" width=\"259\" x=\"279\" y=\"192\"/><rect fill=\"#F8F8F8\" height=\"37.9375\" style=\"stroke: #383838; stroke-width: 1.5;\" width=\"259\" x=\"279\" y=\"192\"/><text fill=\"#000000\" font-family=\"sans-serif\" font-size=\"12\" font-style=\"italic\" lengthAdjust=\"spacingAndGlyphs\" textLength=\"88\" x=\"364.5\" y=\"208.1387\">«analysis def»</text><text fill=\"#000000\" font-family=\"sans-serif\" font-size=\"12\" lengthAdjust=\"spacingAndGlyphs\" textLength=\"77\" x=\"370\" y=\"222.1074\">AnalysisPlan</text></a><!--MD5=[a84b4591f868c1fa4a211716a82f2f0d]\n",
       "cluster E10--><a href=\"psysml:ef775355-9069-4551-a021-5839d9673f3d\" target=\"_top\" title=\"psysml:ef775355-9069-4551-a021-5839d9673f3d\" xlink:actuate=\"onRequest\" xlink:href=\"psysml:ef775355-9069-4551-a021-5839d9673f3d\" xlink:show=\"new\" xlink:title=\"psysml:ef775355-9069-4551-a021-5839d9673f3d\" xlink:type=\"simple\"><rect fill=\"#FFFFFF\" height=\"239\" id=\"E10\" rx=\"10\" ry=\"10\" style=\"stroke: #383838; stroke-width: 1.5;\" width=\"138\" x=\"362\" y=\"315\"/><rect fill=\"#F8F8F8\" height=\"37.9375\" rx=\"10\" ry=\"10\" style=\"stroke: #F8F8F8; stroke-width: 1.5;\" width=\"138\" x=\"362\" y=\"315\"/><rect fill=\"#F8F8F8\" height=\"10\" style=\"stroke: #F8F8F8; stroke-width: 1.5;\" width=\"138\" x=\"362\" y=\"342.9375\"/><rect fill=\"none\" height=\"239\" id=\"E10\" rx=\"10\" ry=\"10\" style=\"stroke: #383838; stroke-width: 1.5;\" width=\"138\" x=\"362\" y=\"315\"/><text fill=\"#000000\" font-family=\"sans-serif\" font-size=\"12\" font-style=\"italic\" lengthAdjust=\"spacingAndGlyphs\" textLength=\"64\" x=\"399\" y=\"331.1387\">«analysis»</text><text fill=\"#000000\" font-family=\"sans-serif\" font-size=\"12\" lengthAdjust=\"spacingAndGlyphs\" textLength=\"81\" x=\"390.5\" y=\"345.1074\">analysisCase</text><line style=\"stroke: #383838; stroke-width: 1.0;\" x1=\"362\" x2=\"500\" y1=\"352.9375\" y2=\"352.9375\"/></a><!--MD5=[b4997ac47864f28c2f74865a473b2911]\n",
       "class E2--><a href=\"psysml:df856138-3406-4a6b-b583-20ed5eacc0cd\" target=\"_top\" title=\"psysml:df856138-3406-4a6b-b583-20ed5eacc0cd\" xlink:actuate=\"onRequest\" xlink:href=\"psysml:df856138-3406-4a6b-b583-20ed5eacc0cd\" xlink:show=\"new\" xlink:title=\"psysml:df856138-3406-4a6b-b583-20ed5eacc0cd\" xlink:type=\"simple\"><rect fill=\"#FFFFFF\" height=\"45.9375\" id=\"E2\" style=\"stroke: #383838; stroke-width: 1.5;\" width=\"66\" x=\"568\" y=\"169\"/><text fill=\"#000000\" font-family=\"sans-serif\" font-size=\"12\" font-style=\"italic\" lengthAdjust=\"spacingAndGlyphs\" textLength=\"64\" x=\"569\" y=\"185.1387\">«part def»</text><text fill=\"#000000\" font-family=\"sans-serif\" font-size=\"12\" lengthAdjust=\"spacingAndGlyphs\" textLength=\"8\" x=\"597\" y=\"199.1074\">V</text><line style=\"stroke: #383838; stroke-width: 1.5;\" x1=\"569\" x2=\"633\" y1=\"206.9375\" y2=\"206.9375\"/></a><!--MD5=[09b614a08d8cba4a07c9adeb5e0fee81]\n",
       "class E3--><a href=\"psysml:a14948af-c637-432a-b299-badb5d3ced27\" target=\"_top\" title=\"psysml:a14948af-c637-432a-b299-badb5d3ced27\" xlink:actuate=\"onRequest\" xlink:href=\"psysml:a14948af-c637-432a-b299-badb5d3ced27\" xlink:show=\"new\" xlink:title=\"psysml:a14948af-c637-432a-b299-badb5d3ced27\" xlink:type=\"simple\"><rect fill=\"#FFFFFF\" height=\"45.9375\" id=\"E3\" rx=\"10\" ry=\"10\" style=\"stroke: #383838; stroke-width: 1.5;\" width=\"42\" x=\"580\" y=\"51.5\"/><text fill=\"#000000\" font-family=\"sans-serif\" font-size=\"12\" font-style=\"italic\" lengthAdjust=\"spacingAndGlyphs\" textLength=\"40\" x=\"581\" y=\"67.6387\">«part»</text><text fill=\"#000000\" font-family=\"sans-serif\" font-size=\"12\" lengthAdjust=\"spacingAndGlyphs\" textLength=\"28\" x=\"587\" y=\"81.6074\">vv: V</text><line style=\"stroke: #383838; stroke-width: 1.5;\" x1=\"581\" x2=\"621\" y1=\"89.4375\" y2=\"89.4375\"/></a><!--MD5=[ebbe1d658d1005bcc118a6aa81145e00]\n",
       "class E4--><a href=\"psysml:b06c710d-6070-489f-855d-95835f572a57\" target=\"_top\" title=\"psysml:b06c710d-6070-489f-855d-95835f572a57\" xlink:actuate=\"onRequest\" xlink:href=\"psysml:b06c710d-6070-489f-855d-95835f572a57\" xlink:show=\"new\" xlink:title=\"psysml:b06c710d-6070-489f-855d-95835f572a57\" xlink:type=\"simple\"><rect fill=\"#FFFFFF\" height=\"66.7422\" id=\"E4\" style=\"stroke: #383838; stroke-width: 1.5;\" width=\"117\" x=\"315.5\" y=\"41\"/><text fill=\"#000000\" font-family=\"sans-serif\" font-size=\"12\" font-style=\"italic\" lengthAdjust=\"spacingAndGlyphs\" textLength=\"115\" x=\"316.5\" y=\"57.1387\">«requirement def»</text><text fill=\"#000000\" font-family=\"sans-serif\" font-size=\"12\" lengthAdjust=\"spacingAndGlyphs\" textLength=\"107\" x=\"320.5\" y=\"71.1074\">AnalysisObjective</text><line style=\"stroke: #383838; stroke-width: 1.5;\" x1=\"316.5\" x2=\"431.5\" y1=\"78.9375\" y2=\"78.9375\"/><text fill=\"#000000\" font-family=\"sans-serif\" font-size=\"11\" lengthAdjust=\"spacingAndGlyphs\" textLength=\"12\" x=\"321.5\" y=\"93.1479\">...</text><line style=\"stroke: #383838; stroke-width: 1.0;\" x1=\"316.5\" x2=\"431.5\" y1=\"99.7422\" y2=\"99.7422\"/></a><!--MD5=[bee11217b2f71d958a27249dc326068c]\n",
       "class E14--><a href=\"psysml:e127547d-9ca6-4380-b459-796effe0b56f\" target=\"_top\" title=\"psysml:e127547d-9ca6-4380-b459-796effe0b56f\" xlink:actuate=\"onRequest\" xlink:href=\"psysml:e127547d-9ca6-4380-b459-796effe0b56f\" xlink:show=\"new\" xlink:title=\"psysml:e127547d-9ca6-4380-b459-796effe0b56f\" xlink:type=\"simple\"><rect fill=\"#FFFFFF\" height=\"45.9375\" id=\"E14\" rx=\"10\" ry=\"10\" style=\"stroke: #383838; stroke-width: 1.5;\" width=\"104\" x=\"64\" y=\"51.5\"/><text fill=\"#000000\" font-family=\"sans-serif\" font-size=\"12\" font-style=\"italic\" lengthAdjust=\"spacingAndGlyphs\" textLength=\"40\" x=\"96\" y=\"67.6387\">«part»</text><text fill=\"#000000\" font-family=\"sans-serif\" font-size=\"12\" lengthAdjust=\"spacingAndGlyphs\" textLength=\"98\" x=\"67\" y=\"81.6074\">analysisContext</text><line style=\"stroke: #383838; stroke-width: 1.5;\" x1=\"65\" x2=\"167\" y1=\"89.4375\" y2=\"89.4375\"/></a><!--MD5=[0c48fb7552dae8cbbef69381101a84c8]\n",
       "class E15--><a href=\"psysml:26b0c0e9-c7c6-4e19-b68b-97e4f04c11f8\" target=\"_top\" title=\"psysml:26b0c0e9-c7c6-4e19-b68b-97e4f04c11f8\" xlink:actuate=\"onRequest\" xlink:href=\"psysml:26b0c0e9-c7c6-4e19-b68b-97e4f04c11f8\" xlink:show=\"new\" xlink:title=\"psysml:26b0c0e9-c7c6-4e19-b68b-97e4f04c11f8\" xlink:type=\"simple\"><rect fill=\"#FFFFFF\" height=\"45.9375\" id=\"E15\" rx=\"10\" ry=\"10\" style=\"stroke: #383838; stroke-width: 1.5;\" width=\"168\" x=\"32\" y=\"169\"/><text fill=\"#000000\" font-family=\"sans-serif\" font-size=\"12\" font-style=\"italic\" lengthAdjust=\"spacingAndGlyphs\" textLength=\"64\" x=\"84\" y=\"185.1387\">«analysis»</text><text fill=\"#000000\" font-family=\"sans-serif\" font-size=\"12\" lengthAdjust=\"spacingAndGlyphs\" textLength=\"162\" x=\"35\" y=\"199.1074\">analysisPlan: AnalysisPlan</text><line style=\"stroke: #383838; stroke-width: 1.5;\" x1=\"33\" x2=\"199\" y1=\"206.9375\" y2=\"206.9375\"/></a><!--MD5=[35f0587eaee8d5bb9a02e25b63afc23b]\n",
       "class E16--><a href=\"psysml:a55f605c-cc05-4fcd-b9b1-1e930756e010\" target=\"_top\" title=\"psysml:a55f605c-cc05-4fcd-b9b1-1e930756e010\" xlink:actuate=\"onRequest\" xlink:href=\"psysml:a55f605c-cc05-4fcd-b9b1-1e930756e010\" xlink:show=\"new\" xlink:title=\"psysml:a55f605c-cc05-4fcd-b9b1-1e930756e010\" xlink:type=\"simple\"><rect fill=\"#FFFFFF\" height=\"45.9375\" id=\"E16\" rx=\"10\" ry=\"10\" style=\"stroke: #383838; stroke-width: 1.5;\" width=\"93\" x=\"69.5\" y=\"292\"/><text fill=\"#000000\" font-family=\"sans-serif\" font-size=\"12\" font-style=\"italic\" lengthAdjust=\"spacingAndGlyphs\" textLength=\"91\" x=\"70.5\" y=\"308.1387\">«requirement»</text><text fill=\"#000000\" font-family=\"sans-serif\" font-size=\"12\" lengthAdjust=\"spacingAndGlyphs\" textLength=\"19\" x=\"106.5\" y=\"322.1074\">obj</text><line style=\"stroke: #383838; stroke-width: 1.5;\" x1=\"70.5\" x2=\"161.5\" y1=\"329.9375\" y2=\"329.9375\"/></a><text fill=\"#000000\" font-family=\"sans-serif\" font-size=\"14\" lengthAdjust=\"spacingAndGlyphs\" textLength=\"7\" x=\"722.5\" y=\"53.1982\">v</text><rect fill=\"#383838\" height=\"12\" style=\"stroke: #F8F8F8; stroke-width: 1.5;\" width=\"12\" x=\"720\" y=\"68.5\"/><text fill=\"#000000\" font-family=\"sans-serif\" font-size=\"14\" lengthAdjust=\"spacingAndGlyphs\" textLength=\"39\" x=\"706.5\" y=\"392.9951\">result</text><rect fill=\"#383838\" height=\"12\" style=\"stroke: #F8F8F8; stroke-width: 1.5;\" width=\"12\" x=\"720\" y=\"368\"/><text fill=\"#000000\" font-family=\"sans-serif\" font-size=\"14\" lengthAdjust=\"spacingAndGlyphs\" textLength=\"7\" x=\"293.5\" y=\"170.6982\">v</text><rect fill=\"#383838\" height=\"12\" style=\"stroke: #F8F8F8; stroke-width: 1.5;\" width=\"12\" x=\"291\" y=\"186\"/><text fill=\"#000000\" font-family=\"sans-serif\" font-size=\"14\" lengthAdjust=\"spacingAndGlyphs\" textLength=\"39\" x=\"518.5\" y=\"499.9951\">result</text><rect fill=\"#383838\" height=\"12\" style=\"stroke: #F8F8F8; stroke-width: 1.5;\" width=\"12\" x=\"532\" y=\"475\"/><text fill=\"#000000\" font-family=\"sans-serif\" font-size=\"14\" lengthAdjust=\"spacingAndGlyphs\" textLength=\"37\" x=\"412.5\" y=\"572.9951\">mass</text><rect fill=\"#383838\" height=\"12\" style=\"stroke: #F8F8F8; stroke-width: 1.5;\" width=\"12\" x=\"425\" y=\"548\"/><text fill=\"#000000\" font-family=\"sans-serif\" font-size=\"14\" lengthAdjust=\"spacingAndGlyphs\" textLength=\"7\" x=\"427.5\" y=\"293.6982\">v</text><rect fill=\"#383838\" height=\"12\" style=\"stroke: #F8F8F8; stroke-width: 1.5;\" width=\"12\" x=\"425\" y=\"309\"/><!--MD5=[05d275557350bfb9b23a4ef7222b4c39]\n",
       "link E3 to E2--><a href=\"psysml:4553bbf6-343c-42bd-a219-72e0d50d2170\" target=\"_top\" title=\"psysml:4553bbf6-343c-42bd-a219-72e0d50d2170\" xlink:actuate=\"onRequest\" xlink:href=\"psysml:4553bbf6-343c-42bd-a219-72e0d50d2170\" xlink:show=\"new\" xlink:title=\"psysml:4553bbf6-343c-42bd-a219-72e0d50d2170\" xlink:type=\"simple\"><path d=\"M601,97.77 C601,112.15 601,131.32 601,148.54 \" fill=\"none\" id=\"E3-&gt;E2\" style=\"stroke: #383838; stroke-width: 1.0;\"/><polygon fill=\"#FFFFFF\" points=\"601,168.8,594,149.8,608,149.8,601,168.8\" style=\"stroke: #383838; stroke-width: 1.0;\"/><ellipse cx=\"596\" cy=\"144.1\" fill=\"#383838\" rx=\"2\" ry=\"2\" style=\"stroke: #383838; stroke-width: 1.0;\"/><ellipse cx=\"606\" cy=\"144.1\" fill=\"#383838\" rx=\"2\" ry=\"2\" style=\"stroke: #383838; stroke-width: 1.0;\"/></a><!--MD5=[17bf29720e4688890742b92d9a67fdf0]\n",
       "reverse link E14 to E15--><a href=\"psysml:cf81c84a-d20a-4a9d-8212-c3de89ec9ad0\" target=\"_top\" title=\"psysml:cf81c84a-d20a-4a9d-8212-c3de89ec9ad0\" xlink:actuate=\"onRequest\" xlink:href=\"psysml:cf81c84a-d20a-4a9d-8212-c3de89ec9ad0\" xlink:show=\"new\" xlink:title=\"psysml:cf81c84a-d20a-4a9d-8212-c3de89ec9ad0\" xlink:type=\"simple\"><path d=\"M116,110.99 C116,129.85 116,152.44 116,168.8 \" fill=\"none\" id=\"E14&lt;-E15\" style=\"stroke: #383838; stroke-width: 1.0;\"/><polygon fill=\"#383838\" points=\"116,97.77,112,103.77,116,109.77,120,103.77,116,97.77\" style=\"stroke: #383838; stroke-width: 1.0;\"/></a><!--MD5=[1b01d5b954197aaf3899ca0bde35faf5]\n",
       "link E15 to E8--><a href=\"psysml:31ecf0da-b030-4520-be0f-3ece1376fb5f\" target=\"_top\" title=\"psysml:31ecf0da-b030-4520-be0f-3ece1376fb5f\" xlink:actuate=\"onRequest\" xlink:href=\"psysml:31ecf0da-b030-4520-be0f-3ece1376fb5f\" xlink:show=\"new\" xlink:title=\"psysml:31ecf0da-b030-4520-be0f-3ece1376fb5f\" xlink:type=\"simple\"><path d=\"M152.22,215.11 C166.86,224.19 183.85,234.93 199,245 C225.17,262.39 254.56,283.27 274.27,297.48 \" fill=\"none\" id=\"E15-&gt;E8\" style=\"stroke: #383838; stroke-width: 1.0;\"/><polygon fill=\"#FFFFFF\" points=\"274.27,297.48,254.7641,292.0467,262.9515,280.6904,274.27,297.48\" style=\"stroke: #383838; stroke-width: 1.0;\"/><ellipse cx=\"251.3101\" cy=\"287.0909\" fill=\"#383838\" rx=\"2\" ry=\"2\" style=\"stroke: #383838; stroke-width: 1.0;\"/><ellipse cx=\"257.1582\" cy=\"278.9793\" fill=\"#383838\" rx=\"2\" ry=\"2\" style=\"stroke: #383838; stroke-width: 1.0;\"/></a><!--MD5=[f8b155c46b092be73bb522b0a8fc72a2]\n",
       "link E15 to E16--><a href=\"psysml:aa3a7955-6ed3-447d-b0ee-a09ada8803a4\" target=\"_top\" title=\"psysml:aa3a7955-6ed3-447d-b0ee-a09ada8803a4\" xlink:actuate=\"onRequest\" xlink:href=\"psysml:aa3a7955-6ed3-447d-b0ee-a09ada8803a4\" xlink:show=\"new\" xlink:title=\"psysml:aa3a7955-6ed3-447d-b0ee-a09ada8803a4\" xlink:type=\"simple\"><path d=\"M116,215.19 C116,234.47 116,262.55 116,283.86 \" fill=\"none\" id=\"E15-&gt;E16\" style=\"stroke: #383838; stroke-width: 1.0;\"/><polygon fill=\"#383838\" points=\"116,291.95,119,283.95,113,283.95,116,291.95\" style=\"stroke: #383838; stroke-width: 1.0;\"/><text fill=\"#000000\" font-family=\"sans-serif\" font-size=\"13\" lengthAdjust=\"spacingAndGlyphs\" textLength=\"73\" x=\"117\" y=\"258.0669\">«objective»</text><text fill=\"#000000\" font-family=\"sans-serif\" font-size=\"13\" lengthAdjust=\"spacingAndGlyphs\" textLength=\"8\" x=\"106.925\" y=\"280.8328\">1</text></a><!--MD5=[1183290cc38cb2ae9a0b7e6deacee802]\n",
       "@startuml\r\n",
       " skinparam monochrome true\r\n",
       "skinparam classbackgroundcolor white\r\n",
       "skinparam shadowing false\r\n",
       "skinparam wrapWidth 300\r\n",
       "hide circle\r\n",
       "\r\n",
       "package \"AnalysisTest\" as E1  [[psysml:f5546318-5597-445e-83af-957575abd1f7 ]]  {\r\n",
       "comp def \"V\" as E2  <<(T,blue) part def>> [[psysml:df856138-3406-4a6b-b583-20ed5eacc0cd ]] {\r\n",
       "}\r\n",
       "comp usage \"vv: V\" as E3  <<(T,blue) part>> [[psysml:a14948af-c637-432a-b299-badb5d3ced27 ]] {\r\n",
       "}\r\n",
       "comp def \"AnalysisObjective\" as E4  <<(T,blue) requirement def>> [[psysml:b06c710d-6070-489f-855d-95835f572a57 ]] {\r\n",
       "...\r\n",
       "- -\r\n",
       "}\r\n",
       "rec def \"AnalysisCase\" as E5 << analysis def>> [[psysml:e9833d01-8fa8-4820-af73-47d7be444de9 ]] {\r\n",
       "portin \"v\" as E6  [[psysml:fc36d359-2f0c-4a32-9d15-fff2be0a8869 ]] \r\n",
       "portout \"result\" as E7  [[psysml:7ffbe20f-c891-4b52-987b-0be8eb99b87a ]] \r\n",
       "}\r\n",
       "\r\n",
       "rec def \"AnalysisPlan\" as E8 << analysis def>> [[psysml:8a4520e8-ac51-4a2a-8007-cfc5f8084f42 ]] {\r\n",
       "portin \"v\" as E9  [[psysml:7635dc34-c4d2-4388-b045-3a6cac182eef ]] \r\n",
       "rec usage \"analysisCase\" as E10 << analysis>> [[psysml:ef775355-9069-4551-a021-5839d9673f3d ]] {\r\n",
       "portout \"mass\" as E11  [[psysml:56f340db-5793-4dc6-898e-9e0a5f90ef66 ]] \r\n",
       "portin \"v\" as E12  [[psysml:d8dc3b58-26c5-4e6e-82f3-a4f0880c0fd9 ]] \r\n",
       "}\r\n",
       "\r\n",
       "portout \"result\" as E13  [[psysml:55ba6aa8-4536-4622-ad3c-e7c6595a0034 ]] \r\n",
       "}\r\n",
       "\r\n",
       "comp usage \"analysisContext\" as E14  <<(T,blue) part>> [[psysml:e127547d-9ca6-4380-b459-796effe0b56f ]] {\r\n",
       "}\r\n",
       "comp usage \"analysisPlan: AnalysisPlan\" as E15 << analysis>> [[psysml:26b0c0e9-c7c6-4e19-b68b-97e4f04c11f8 ]] {\r\n",
       "}\r\n",
       "comp usage \"obj\" as E16  <<(T,blue) requirement>> [[psysml:a55f605c-cc05-4fcd-b9b1-1e930756e010 ]] {\r\n",
       "}\r\n",
       "}\r\n",
       "E3 - -:|> E2 [[psysml:4553bbf6-343c-42bd-a219-72e0d50d2170 ]] \r\n",
       "E14 *- - E15 [[psysml:cf81c84a-d20a-4a9d-8212-c3de89ec9ad0 ]] \r\n",
       "E15 - -:|> E8 [[psysml:31ecf0da-b030-4520-be0f-3ece1376fb5f ]] \r\n",
       "E15 - ->> \"1\"E16 [[psysml:aa3a7955-6ed3-447d-b0ee-a09ada8803a4 ]] : <<objective>>\r\n",
       "@enduml\r\n",
       "\n",
       "PlantUML version 1.2020.13(Sat Jun 13 12:26:38 UTC 2020)\n",
       "(EPL source distribution)\n",
       "Java Runtime: OpenJDK Runtime Environment\n",
       "JVM: OpenJDK 64-Bit Server VM\n",
       "Default Encoding: UTF-8\n",
       "Language: en\n",
       "Country: null\n",
       "--></g></svg>"
      ]
     },
     "execution_count": 2,
     "metadata": {},
     "output_type": "execute_result"
    }
   ],
   "source": [
    "%viz --style=\"COMPTREE\" --view=\"Default\" \"AnalysisTest\""
   ]
  },
  {
   "cell_type": "code",
   "execution_count": 3,
   "id": "25dda396",
   "metadata": {
    "execution": {
     "iopub.execute_input": "2021-09-27T07:15:28.127308Z",
     "iopub.status.busy": "2021-09-27T07:15:28.126816Z",
     "iopub.status.idle": "2021-09-27T07:15:28.213588Z",
     "shell.execute_reply": "2021-09-27T07:15:28.213204Z"
    }
   },
   "outputs": [
    {
     "data": {
      "image/svg+xml": [
       "<?xml version=\"1.0\" encoding=\"UTF-8\" standalone=\"no\"?><svg xmlns=\"http://www.w3.org/2000/svg\" xmlns:xlink=\"http://www.w3.org/1999/xlink\" contentScriptType=\"application/ecmascript\" contentStyleType=\"text/css\" height=\"863px\" preserveAspectRatio=\"none\" style=\"width:412px;height:863px;\" version=\"1.1\" viewBox=\"0 0 412 863\" width=\"412px\" zoomAndPan=\"magnify\"><defs/><g><!--MD5=[fbc87193dbaf4d95561dea2c320d4a47]\n",
       "cluster E1--><a href=\"psysml:f5546318-5597-445e-83af-957575abd1f7\" target=\"_top\" title=\"psysml:f5546318-5597-445e-83af-957575abd1f7\" xlink:actuate=\"onRequest\" xlink:href=\"psysml:f5546318-5597-445e-83af-957575abd1f7\" xlink:show=\"new\" xlink:title=\"psysml:f5546318-5597-445e-83af-957575abd1f7\" xlink:type=\"simple\"><polygon fill=\"#FFFFFF\" points=\"16,6,108,6,115,28.2969,390,28.2969,390,851,16,851,16,6\" style=\"stroke: #000000; stroke-width: 1.5;\"/><line style=\"stroke: #000000; stroke-width: 1.5;\" x1=\"16\" x2=\"115\" y1=\"28.2969\" y2=\"28.2969\"/><text fill=\"#000000\" font-family=\"sans-serif\" font-size=\"14\" font-weight=\"bold\" lengthAdjust=\"spacingAndGlyphs\" textLength=\"86\" x=\"20\" y=\"20.9951\">AnalysisTest</text></a><!--MD5=[b4997ac47864f28c2f74865a473b2911]\n",
       "class E2--><a href=\"psysml:df856138-3406-4a6b-b583-20ed5eacc0cd\" target=\"_top\" title=\"psysml:df856138-3406-4a6b-b583-20ed5eacc0cd\" xlink:actuate=\"onRequest\" xlink:href=\"psysml:df856138-3406-4a6b-b583-20ed5eacc0cd\" xlink:show=\"new\" xlink:title=\"psysml:df856138-3406-4a6b-b583-20ed5eacc0cd\" xlink:type=\"simple\"><rect fill=\"#FFFFFF\" height=\"45.9375\" id=\"E2\" style=\"stroke: #383838; stroke-width: 1.5;\" width=\"66\" x=\"121\" y=\"661\"/><text fill=\"#000000\" font-family=\"sans-serif\" font-size=\"12\" font-style=\"italic\" lengthAdjust=\"spacingAndGlyphs\" textLength=\"64\" x=\"122\" y=\"677.1387\">«part def»</text><text fill=\"#000000\" font-family=\"sans-serif\" font-size=\"12\" lengthAdjust=\"spacingAndGlyphs\" textLength=\"8\" x=\"150\" y=\"691.1074\">V</text><line style=\"stroke: #383838; stroke-width: 1.5;\" x1=\"122\" x2=\"186\" y1=\"698.9375\" y2=\"698.9375\"/></a><!--MD5=[09b614a08d8cba4a07c9adeb5e0fee81]\n",
       "class E3--><a href=\"psysml:a14948af-c637-432a-b299-badb5d3ced27\" target=\"_top\" title=\"psysml:a14948af-c637-432a-b299-badb5d3ced27\" xlink:actuate=\"onRequest\" xlink:href=\"psysml:a14948af-c637-432a-b299-badb5d3ced27\" xlink:show=\"new\" xlink:title=\"psysml:a14948af-c637-432a-b299-badb5d3ced27\" xlink:type=\"simple\"><rect fill=\"#FFFFFF\" height=\"45.9375\" id=\"E3\" rx=\"10\" ry=\"10\" style=\"stroke: #383838; stroke-width: 1.5;\" width=\"42\" x=\"207\" y=\"538\"/><text fill=\"#000000\" font-family=\"sans-serif\" font-size=\"12\" font-style=\"italic\" lengthAdjust=\"spacingAndGlyphs\" textLength=\"40\" x=\"208\" y=\"554.1387\">«part»</text><text fill=\"#000000\" font-family=\"sans-serif\" font-size=\"12\" lengthAdjust=\"spacingAndGlyphs\" textLength=\"28\" x=\"214\" y=\"568.1074\">vv: V</text><line style=\"stroke: #383838; stroke-width: 1.5;\" x1=\"208\" x2=\"248\" y1=\"575.9375\" y2=\"575.9375\"/></a><!--MD5=[ebbe1d658d1005bcc118a6aa81145e00]\n",
       "class E4--><a href=\"psysml:b06c710d-6070-489f-855d-95835f572a57\" target=\"_top\" title=\"psysml:b06c710d-6070-489f-855d-95835f572a57\" xlink:actuate=\"onRequest\" xlink:href=\"psysml:b06c710d-6070-489f-855d-95835f572a57\" xlink:show=\"new\" xlink:title=\"psysml:b06c710d-6070-489f-855d-95835f572a57\" xlink:type=\"simple\"><rect fill=\"#FFFFFF\" height=\"66.7422\" id=\"E4\" style=\"stroke: #383838; stroke-width: 1.5;\" width=\"117\" x=\"240.5\" y=\"768\"/><text fill=\"#000000\" font-family=\"sans-serif\" font-size=\"12\" font-style=\"italic\" lengthAdjust=\"spacingAndGlyphs\" textLength=\"115\" x=\"241.5\" y=\"784.1387\">«requirement def»</text><text fill=\"#000000\" font-family=\"sans-serif\" font-size=\"12\" lengthAdjust=\"spacingAndGlyphs\" textLength=\"107\" x=\"245.5\" y=\"798.1074\">AnalysisObjective</text><line style=\"stroke: #383838; stroke-width: 1.5;\" x1=\"241.5\" x2=\"356.5\" y1=\"805.9375\" y2=\"805.9375\"/><text fill=\"#000000\" font-family=\"sans-serif\" font-size=\"11\" lengthAdjust=\"spacingAndGlyphs\" textLength=\"12\" x=\"246.5\" y=\"820.1479\">...</text><line style=\"stroke: #383838; stroke-width: 1.0;\" x1=\"241.5\" x2=\"356.5\" y1=\"826.7422\" y2=\"826.7422\"/></a><!--MD5=[270fce915f116d4de14055a7c1d9a0f3]\n",
       "class E5--><a href=\"psysml:e9833d01-8fa8-4820-af73-47d7be444de9\" target=\"_top\" title=\"psysml:e9833d01-8fa8-4820-af73-47d7be444de9\" xlink:actuate=\"onRequest\" xlink:href=\"psysml:e9833d01-8fa8-4820-af73-47d7be444de9\" xlink:show=\"new\" xlink:title=\"psysml:e9833d01-8fa8-4820-af73-47d7be444de9\" xlink:type=\"simple\"><rect fill=\"#FFFFFF\" height=\"45.9375\" id=\"E5\" style=\"stroke: #383838; stroke-width: 1.5;\" width=\"90\" x=\"284\" y=\"538\"/><text fill=\"#000000\" font-family=\"sans-serif\" font-size=\"12\" font-style=\"italic\" lengthAdjust=\"spacingAndGlyphs\" textLength=\"88\" x=\"285\" y=\"554.1387\">«analysis def»</text><text fill=\"#000000\" font-family=\"sans-serif\" font-size=\"12\" lengthAdjust=\"spacingAndGlyphs\" textLength=\"81\" x=\"288.5\" y=\"568.1074\">AnalysisCase</text><line style=\"stroke: #383838; stroke-width: 1.5;\" x1=\"285\" x2=\"373\" y1=\"575.9375\" y2=\"575.9375\"/></a><!--MD5=[60a26617385b1d2d0262a64233df1f8d]\n",
       "class E6--><a href=\"psysml:5d02fb37-4730-4ed2-b0a0-8fa990128639\" target=\"_top\" title=\"psysml:5d02fb37-4730-4ed2-b0a0-8fa990128639\" xlink:actuate=\"onRequest\" xlink:href=\"psysml:5d02fb37-4730-4ed2-b0a0-8fa990128639\" xlink:show=\"new\" xlink:title=\"psysml:5d02fb37-4730-4ed2-b0a0-8fa990128639\" xlink:type=\"simple\"><rect fill=\"#FFFFFF\" height=\"45.9375\" id=\"E6\" rx=\"10\" ry=\"10\" style=\"stroke: #383838; stroke-width: 1.5;\" width=\"140\" x=\"229\" y=\"661\"/><text fill=\"#000000\" font-family=\"sans-serif\" font-size=\"12\" font-style=\"italic\" lengthAdjust=\"spacingAndGlyphs\" textLength=\"91\" x=\"253.5\" y=\"677.1387\">«requirement»</text><text fill=\"#000000\" font-family=\"sans-serif\" font-size=\"12\" lengthAdjust=\"spacingAndGlyphs\" textLength=\"134\" x=\"232\" y=\"691.1074\">obj: AnalysisObjective</text><line style=\"stroke: #383838; stroke-width: 1.5;\" x1=\"230\" x2=\"368\" y1=\"698.9375\" y2=\"698.9375\"/></a><!--MD5=[2156ba9850f5573cc1fc38a6a4b2f02b]\n",
       "class E7--><a href=\"psysml:8a4520e8-ac51-4a2a-8007-cfc5f8084f42\" target=\"_top\" title=\"psysml:8a4520e8-ac51-4a2a-8007-cfc5f8084f42\" xlink:actuate=\"onRequest\" xlink:href=\"psysml:8a4520e8-ac51-4a2a-8007-cfc5f8084f42\" xlink:show=\"new\" xlink:title=\"psysml:8a4520e8-ac51-4a2a-8007-cfc5f8084f42\" xlink:type=\"simple\"><rect fill=\"#FFFFFF\" height=\"45.9375\" id=\"E7\" style=\"stroke: #383838; stroke-width: 1.5;\" width=\"90\" x=\"71\" y=\"271\"/><text fill=\"#000000\" font-family=\"sans-serif\" font-size=\"12\" font-style=\"italic\" lengthAdjust=\"spacingAndGlyphs\" textLength=\"88\" x=\"72\" y=\"287.1387\">«analysis def»</text><text fill=\"#000000\" font-family=\"sans-serif\" font-size=\"12\" lengthAdjust=\"spacingAndGlyphs\" textLength=\"77\" x=\"77.5\" y=\"301.1074\">AnalysisPlan</text><line style=\"stroke: #383838; stroke-width: 1.5;\" x1=\"72\" x2=\"160\" y1=\"308.9375\" y2=\"308.9375\"/></a><!--MD5=[b9389687b975829384b498ac4b7476b2]\n",
       "class E8--><a href=\"psysml:c9e778b5-528f-48e8-8904-91782dcf8fb6\" target=\"_top\" title=\"psysml:c9e778b5-528f-48e8-8904-91782dcf8fb6\" xlink:actuate=\"onRequest\" xlink:href=\"psysml:c9e778b5-528f-48e8-8904-91782dcf8fb6\" xlink:show=\"new\" xlink:title=\"psysml:c9e778b5-528f-48e8-8904-91782dcf8fb6\" xlink:type=\"simple\"><rect fill=\"#FFFFFF\" height=\"66.7422\" id=\"E8\" rx=\"10\" ry=\"10\" style=\"stroke: #383838; stroke-width: 1.5;\" width=\"93\" x=\"69.5\" y=\"394\"/><text fill=\"#000000\" font-family=\"sans-serif\" font-size=\"12\" font-style=\"italic\" lengthAdjust=\"spacingAndGlyphs\" textLength=\"91\" x=\"70.5\" y=\"410.1387\">«requirement»</text><text fill=\"#000000\" font-family=\"sans-serif\" font-size=\"12\" lengthAdjust=\"spacingAndGlyphs\" textLength=\"19\" x=\"106.5\" y=\"424.1074\">obj</text><line style=\"stroke: #383838; stroke-width: 1.5;\" x1=\"70.5\" x2=\"161.5\" y1=\"431.9375\" y2=\"431.9375\"/><text fill=\"#000000\" font-family=\"sans-serif\" font-size=\"11\" lengthAdjust=\"spacingAndGlyphs\" textLength=\"12\" x=\"75.5\" y=\"446.1479\">...</text><line style=\"stroke: #383838; stroke-width: 1.0;\" x1=\"70.5\" x2=\"161.5\" y1=\"452.7422\" y2=\"452.7422\"/></a><!--MD5=[fd4143e9d270a159db93a4ea2a975926]\n",
       "class E9--><a href=\"psysml:ef775355-9069-4551-a021-5839d9673f3d\" target=\"_top\" title=\"psysml:ef775355-9069-4551-a021-5839d9673f3d\" xlink:actuate=\"onRequest\" xlink:href=\"psysml:ef775355-9069-4551-a021-5839d9673f3d\" xlink:show=\"new\" xlink:title=\"psysml:ef775355-9069-4551-a021-5839d9673f3d\" xlink:type=\"simple\"><rect fill=\"#FFFFFF\" height=\"45.9375\" id=\"E9\" rx=\"10\" ry=\"10\" style=\"stroke: #383838; stroke-width: 1.5;\" width=\"176\" x=\"198\" y=\"404.5\"/><text fill=\"#000000\" font-family=\"sans-serif\" font-size=\"12\" font-style=\"italic\" lengthAdjust=\"spacingAndGlyphs\" textLength=\"64\" x=\"254\" y=\"420.6387\">«analysis»</text><text fill=\"#000000\" font-family=\"sans-serif\" font-size=\"12\" lengthAdjust=\"spacingAndGlyphs\" textLength=\"170\" x=\"201\" y=\"434.6074\">analysisCase: AnalysisCase</text><line style=\"stroke: #383838; stroke-width: 1.5;\" x1=\"199\" x2=\"373\" y1=\"442.4375\" y2=\"442.4375\"/></a><!--MD5=[96f4274e9e20536e775497830990834d]\n",
       "class E10--><a href=\"psysml:37fc8968-437f-41f6-96b6-577444b5c586\" target=\"_top\" title=\"psysml:37fc8968-437f-41f6-96b6-577444b5c586\" xlink:actuate=\"onRequest\" xlink:href=\"psysml:37fc8968-437f-41f6-96b6-577444b5c586\" xlink:show=\"new\" xlink:title=\"psysml:37fc8968-437f-41f6-96b6-577444b5c586\" xlink:type=\"simple\"><rect fill=\"#FFFFFF\" height=\"45.9375\" id=\"E10\" rx=\"10\" ry=\"10\" style=\"stroke: #383838; stroke-width: 1.5;\" width=\"93\" x=\"78.5\" y=\"538\"/><text fill=\"#000000\" font-family=\"sans-serif\" font-size=\"12\" font-style=\"italic\" lengthAdjust=\"spacingAndGlyphs\" textLength=\"91\" x=\"79.5\" y=\"554.1387\">«requirement»</text><text fill=\"#000000\" font-family=\"sans-serif\" font-size=\"12\" lengthAdjust=\"spacingAndGlyphs\" textLength=\"19\" x=\"115.5\" y=\"568.1074\">obj</text><line style=\"stroke: #383838; stroke-width: 1.5;\" x1=\"79.5\" x2=\"170.5\" y1=\"575.9375\" y2=\"575.9375\"/></a><!--MD5=[1dd1bfd58a279cf63c5f349dbc8fc6a1]\n",
       "class E11--><a href=\"psysml:e127547d-9ca6-4380-b459-796effe0b56f\" target=\"_top\" title=\"psysml:e127547d-9ca6-4380-b459-796effe0b56f\" xlink:actuate=\"onRequest\" xlink:href=\"psysml:e127547d-9ca6-4380-b459-796effe0b56f\" xlink:show=\"new\" xlink:title=\"psysml:e127547d-9ca6-4380-b459-796effe0b56f\" xlink:type=\"simple\"><rect fill=\"#FFFFFF\" height=\"45.9375\" id=\"E11\" rx=\"10\" ry=\"10\" style=\"stroke: #383838; stroke-width: 1.5;\" width=\"104\" x=\"84\" y=\"41\"/><text fill=\"#000000\" font-family=\"sans-serif\" font-size=\"12\" font-style=\"italic\" lengthAdjust=\"spacingAndGlyphs\" textLength=\"40\" x=\"116\" y=\"57.1387\">«part»</text><text fill=\"#000000\" font-family=\"sans-serif\" font-size=\"12\" lengthAdjust=\"spacingAndGlyphs\" textLength=\"98\" x=\"87\" y=\"71.1074\">analysisContext</text><line style=\"stroke: #383838; stroke-width: 1.5;\" x1=\"85\" x2=\"187\" y1=\"78.9375\" y2=\"78.9375\"/></a><!--MD5=[49a0ec8f00dab7302a31f22d0f0fe584]\n",
       "class E12--><a href=\"psysml:26b0c0e9-c7c6-4e19-b68b-97e4f04c11f8\" target=\"_top\" title=\"psysml:26b0c0e9-c7c6-4e19-b68b-97e4f04c11f8\" xlink:actuate=\"onRequest\" xlink:href=\"psysml:26b0c0e9-c7c6-4e19-b68b-97e4f04c11f8\" xlink:show=\"new\" xlink:title=\"psysml:26b0c0e9-c7c6-4e19-b68b-97e4f04c11f8\" xlink:type=\"simple\"><rect fill=\"#FFFFFF\" height=\"45.9375\" id=\"E12\" rx=\"10\" ry=\"10\" style=\"stroke: #383838; stroke-width: 1.5;\" width=\"168\" x=\"52\" y=\"148\"/><text fill=\"#000000\" font-family=\"sans-serif\" font-size=\"12\" font-style=\"italic\" lengthAdjust=\"spacingAndGlyphs\" textLength=\"64\" x=\"104\" y=\"164.1387\">«analysis»</text><text fill=\"#000000\" font-family=\"sans-serif\" font-size=\"12\" lengthAdjust=\"spacingAndGlyphs\" textLength=\"162\" x=\"55\" y=\"178.1074\">analysisPlan: AnalysisPlan</text><line style=\"stroke: #383838; stroke-width: 1.5;\" x1=\"53\" x2=\"219\" y1=\"185.9375\" y2=\"185.9375\"/></a><!--MD5=[ee3c913d1a06f366521f9ef512b67efe]\n",
       "class E13--><a href=\"psysml:a55f605c-cc05-4fcd-b9b1-1e930756e010\" target=\"_top\" title=\"psysml:a55f605c-cc05-4fcd-b9b1-1e930756e010\" xlink:actuate=\"onRequest\" xlink:href=\"psysml:a55f605c-cc05-4fcd-b9b1-1e930756e010\" xlink:show=\"new\" xlink:title=\"psysml:a55f605c-cc05-4fcd-b9b1-1e930756e010\" xlink:type=\"simple\"><rect fill=\"#FFFFFF\" height=\"45.9375\" id=\"E13\" rx=\"10\" ry=\"10\" style=\"stroke: #383838; stroke-width: 1.5;\" width=\"93\" x=\"196.5\" y=\"271\"/><text fill=\"#000000\" font-family=\"sans-serif\" font-size=\"12\" font-style=\"italic\" lengthAdjust=\"spacingAndGlyphs\" textLength=\"91\" x=\"197.5\" y=\"287.1387\">«requirement»</text><text fill=\"#000000\" font-family=\"sans-serif\" font-size=\"12\" lengthAdjust=\"spacingAndGlyphs\" textLength=\"19\" x=\"233.5\" y=\"301.1074\">obj</text><line style=\"stroke: #383838; stroke-width: 1.5;\" x1=\"197.5\" x2=\"288.5\" y1=\"308.9375\" y2=\"308.9375\"/></a><!--MD5=[05d275557350bfb9b23a4ef7222b4c39]\n",
       "link E3 to E2--><a href=\"psysml:4553bbf6-343c-42bd-a219-72e0d50d2170\" target=\"_top\" title=\"psysml:4553bbf6-343c-42bd-a219-72e0d50d2170\" xlink:actuate=\"onRequest\" xlink:href=\"psysml:4553bbf6-343c-42bd-a219-72e0d50d2170\" xlink:show=\"new\" xlink:title=\"psysml:4553bbf6-343c-42bd-a219-72e0d50d2170\" xlink:type=\"simple\"><path d=\"M206.85,575.13 C188.68,586.88 164.56,603.79 159,614 C154.64,622.01 152.42,631.34 151.47,640.5 \" fill=\"none\" id=\"E3-&gt;E2\" style=\"stroke: #383838; stroke-width: 1.0;\"/><polygon fill=\"#FFFFFF\" points=\"151.1,660.87,144.4403,641.748,158.4381,641.998,151.1,660.87\" style=\"stroke: #383838; stroke-width: 1.0;\"/><ellipse cx=\"146.5418\" cy=\"636.0847\" fill=\"#383838\" rx=\"2\" ry=\"2\" style=\"stroke: #383838; stroke-width: 1.0;\"/><ellipse cx=\"156.5402\" cy=\"636.2632\" fill=\"#383838\" rx=\"2\" ry=\"2\" style=\"stroke: #383838; stroke-width: 1.0;\"/></a><!--MD5=[15ebcb19ae302d9b601edb458606d402]\n",
       "link E5 to E2--><a href=\"psysml:55d14872-2cf4-45ef-b86e-776491343885\" target=\"_top\" title=\"psysml:55d14872-2cf4-45ef-b86e-776491343885\" xlink:actuate=\"onRequest\" xlink:href=\"psysml:55d14872-2cf4-45ef-b86e-776491343885\" xlink:show=\"new\" xlink:title=\"psysml:55d14872-2cf4-45ef-b86e-776491343885\" xlink:type=\"simple\"><path d=\"M288.35,584.07 C272.9,592.89 255.33,603.45 240,614 C220.52,627.4 199.81,643.93 183.6,657.46 \" fill=\"none\" id=\"E5-&gt;E2\" style=\"stroke: #383838; stroke-width: 1.0; stroke-dasharray: 7.0,7.0;\"/><polygon fill=\"#383838\" points=\"179.58,660.83,189.0498,658.1239,183.4153,657.6221,183.9171,651.9875,179.58,660.83\" style=\"stroke: #383838; stroke-width: 1.0;\"/><text fill=\"#000000\" font-family=\"sans-serif\" font-size=\"13\" lengthAdjust=\"spacingAndGlyphs\" textLength=\"62\" x=\"241\" y=\"627.0669\">«subject»</text></a><!--MD5=[9120cf2e5df3bff93db8f754bbbc09b4]\n",
       "link E5 to E6--><a href=\"psysml:66eb83d5-c5e2-4f23-b460-3cc53e216041\" target=\"_top\" title=\"psysml:66eb83d5-c5e2-4f23-b460-3cc53e216041\" xlink:actuate=\"onRequest\" xlink:href=\"psysml:66eb83d5-c5e2-4f23-b460-3cc53e216041\" xlink:show=\"new\" xlink:title=\"psysml:66eb83d5-c5e2-4f23-b460-3cc53e216041\" xlink:type=\"simple\"><path d=\"M323.5,584.19 C318.7,603.55 311.69,631.8 306.4,653.14 \" fill=\"none\" id=\"E5-&gt;E6\" style=\"stroke: #383838; stroke-width: 1.0;\"/><polygon fill=\"#383838\" points=\"304.47,660.95,309.3116,653.9102,303.4888,652.4625,304.47,660.95\" style=\"stroke: #383838; stroke-width: 1.0;\"/><text fill=\"#000000\" font-family=\"sans-serif\" font-size=\"13\" lengthAdjust=\"spacingAndGlyphs\" textLength=\"73\" x=\"316\" y=\"627.0669\">«objective»</text></a><!--MD5=[f667431f98296947986a1a7595a31603]\n",
       "link E6 to E4--><a href=\"psysml:35160ff3-34f1-44b9-93fc-42f4fb412225\" target=\"_top\" title=\"psysml:35160ff3-34f1-44b9-93fc-42f4fb412225\" xlink:actuate=\"onRequest\" xlink:href=\"psysml:35160ff3-34f1-44b9-93fc-42f4fb412225\" xlink:show=\"new\" xlink:title=\"psysml:35160ff3-34f1-44b9-93fc-42f4fb412225\" xlink:type=\"simple\"><path d=\"M299,707.27 C299,718.81 299,733.43 299,747.66 \" fill=\"none\" id=\"E6-&gt;E4\" style=\"stroke: #383838; stroke-width: 1.0;\"/><polygon fill=\"#FFFFFF\" points=\"299,767.81,292,748.81,306,748.81,299,767.81\" style=\"stroke: #383838; stroke-width: 1.0;\"/><ellipse cx=\"294\" cy=\"743.11\" fill=\"#383838\" rx=\"2\" ry=\"2\" style=\"stroke: #383838; stroke-width: 1.0;\"/><ellipse cx=\"304\" cy=\"743.11\" fill=\"#383838\" rx=\"2\" ry=\"2\" style=\"stroke: #383838; stroke-width: 1.0;\"/></a><!--MD5=[583832df87f4419a098336a29a52fa00]\n",
       "link E7 to E2--><a href=\"psysml:6c24e69d-02cf-4e90-8710-eea2d3fb6e80\" target=\"_top\" title=\"psysml:6c24e69d-02cf-4e90-8710-eea2d3fb6e80\" xlink:actuate=\"onRequest\" xlink:href=\"psysml:6c24e69d-02cf-4e90-8710-eea2d3fb6e80\" xlink:show=\"new\" xlink:title=\"psysml:6c24e69d-02cf-4e90-8710-eea2d3fb6e80\" xlink:type=\"simple\"><path d=\"M96.33,317.1 C80.9,336.01 60.63,364.75 52,394 C42.04,427.76 56.83,574.51 61,584 C73.94,613.48 99.52,639.67 120.58,657.69 \" fill=\"none\" id=\"E7-&gt;E2\" style=\"stroke: #383838; stroke-width: 1.0; stroke-dasharray: 7.0,7.0;\"/><polygon fill=\"#383838\" points=\"124.46,660.96,120.1584,652.1002,120.6377,657.7367,115.0011,658.2159,124.46,660.96\" style=\"stroke: #383838; stroke-width: 1.0;\"/><text fill=\"#000000\" font-family=\"sans-serif\" font-size=\"13\" lengthAdjust=\"spacingAndGlyphs\" textLength=\"62\" x=\"52\" y=\"504.0669\">«subject»</text></a><!--MD5=[79bc8f324ef4d02c541433f2e6e513c3]\n",
       "link E7 to E8--><a href=\"psysml:5f63fe39-bd01-4e2f-b177-a256ca3547ed\" target=\"_top\" title=\"psysml:5f63fe39-bd01-4e2f-b177-a256ca3547ed\" xlink:actuate=\"onRequest\" xlink:href=\"psysml:5f63fe39-bd01-4e2f-b177-a256ca3547ed\" xlink:show=\"new\" xlink:title=\"psysml:5f63fe39-bd01-4e2f-b177-a256ca3547ed\" xlink:type=\"simple\"><path d=\"M116,317.01 C116,335.7 116,363.02 116,385.69 \" fill=\"none\" id=\"E7-&gt;E8\" style=\"stroke: #383838; stroke-width: 1.0;\"/><polygon fill=\"#383838\" points=\"116,393.81,119,385.81,113,385.81,116,393.81\" style=\"stroke: #383838; stroke-width: 1.0;\"/><text fill=\"#000000\" font-family=\"sans-serif\" font-size=\"13\" lengthAdjust=\"spacingAndGlyphs\" textLength=\"73\" x=\"117\" y=\"360.0669\">«objective»</text><text fill=\"#000000\" font-family=\"sans-serif\" font-size=\"13\" lengthAdjust=\"spacingAndGlyphs\" textLength=\"8\" x=\"107.2125\" y=\"382.8061\">1</text></a><!--MD5=[e4a10ef82d0e328e31cac39a31e58dda]\n",
       "reverse link E7 to E9--><a href=\"psysml:0539f402-c799-478a-a763-36444c838111\" target=\"_top\" title=\"psysml:0539f402-c799-478a-a763-36444c838111\" xlink:actuate=\"onRequest\" xlink:href=\"psysml:0539f402-c799-478a-a763-36444c838111\" xlink:show=\"new\" xlink:title=\"psysml:0539f402-c799-478a-a763-36444c838111\" xlink:type=\"simple\"><path d=\"M165.94,324.25 C177.08,331.33 188.65,339.13 199,347 C222.45,364.83 247.05,387.76 264.08,404.4 \" fill=\"none\" id=\"E7&lt;-E9\" style=\"stroke: #383838; stroke-width: 1.0;\"/><polygon fill=\"#383838\" points=\"154.56,317.16,157.541,323.7261,164.7485,323.4998,161.7676,316.9337,154.56,317.16\" style=\"stroke: #383838; stroke-width: 1.0;\"/></a><!--MD5=[bfc3ddf2e613be37104f658f09af896c]\n",
       "link E9 to E5--><a href=\"psysml:5fa585d6-e8aa-4013-b88d-119f555331de\" target=\"_top\" title=\"psysml:5fa585d6-e8aa-4013-b88d-119f555331de\" xlink:actuate=\"onRequest\" xlink:href=\"psysml:5fa585d6-e8aa-4013-b88d-119f555331de\" xlink:show=\"new\" xlink:title=\"psysml:5fa585d6-e8aa-4013-b88d-119f555331de\" xlink:type=\"simple\"><path d=\"M293.2,450.51 C299.27,469.1 308.14,496.21 315.53,518.81 \" fill=\"none\" id=\"E9-&gt;E5\" style=\"stroke: #383838; stroke-width: 1.0;\"/><polygon fill=\"#FFFFFF\" points=\"321.78,537.92,309.2239,522.0346,322.5313,517.6855,321.78,537.92\" style=\"stroke: #383838; stroke-width: 1.0;\"/><ellipse cx=\"309.3543\" cy=\"515.9953\" fill=\"#383838\" rx=\"2\" ry=\"2\" style=\"stroke: #383838; stroke-width: 1.0;\"/><ellipse cx=\"318.8595\" cy=\"512.8888\" fill=\"#383838\" rx=\"2\" ry=\"2\" style=\"stroke: #383838; stroke-width: 1.0;\"/></a><!--MD5=[35e5f1cbde42fa304a029880aa2bc7f2]\n",
       "link E9 to E10--><a href=\"psysml:7fa56b0a-037d-44be-9e3a-456886c00dd1\" target=\"_top\" title=\"psysml:7fa56b0a-037d-44be-9e3a-456886c00dd1\" xlink:actuate=\"onRequest\" xlink:href=\"psysml:7fa56b0a-037d-44be-9e3a-456886c00dd1\" xlink:show=\"new\" xlink:title=\"psysml:7fa56b0a-037d-44be-9e3a-456886c00dd1\" xlink:type=\"simple\"><path d=\"M259.05,450.51 C231.42,473.08 188.39,508.23 158.56,532.59 \" fill=\"none\" id=\"E9-&gt;E10\" style=\"stroke: #383838; stroke-width: 1.0;\"/><polygon fill=\"#383838\" points=\"152.04,537.92,160.1355,535.1882,156.3431,530.5387,152.04,537.92\" style=\"stroke: #383838; stroke-width: 1.0;\"/><text fill=\"#000000\" font-family=\"sans-serif\" font-size=\"13\" lengthAdjust=\"spacingAndGlyphs\" textLength=\"73\" x=\"206\" y=\"504.0669\">«objective»</text></a><!--MD5=[94adabc162ce7e41b39f13be14fbaeb3]\n",
       "reverse link E11 to E12--><a href=\"psysml:cf81c84a-d20a-4a9d-8212-c3de89ec9ad0\" target=\"_top\" title=\"psysml:cf81c84a-d20a-4a9d-8212-c3de89ec9ad0\" xlink:actuate=\"onRequest\" xlink:href=\"psysml:cf81c84a-d20a-4a9d-8212-c3de89ec9ad0\" xlink:show=\"new\" xlink:title=\"psysml:cf81c84a-d20a-4a9d-8212-c3de89ec9ad0\" xlink:type=\"simple\"><path d=\"M136,100.05 C136,115.76 136,133.82 136,147.66 \" fill=\"none\" id=\"E11&lt;-E12\" style=\"stroke: #383838; stroke-width: 1.0;\"/><polygon fill=\"#383838\" points=\"136,87.01,132,93.01,136,99.01,140,93.01,136,87.01\" style=\"stroke: #383838; stroke-width: 1.0;\"/></a><!--MD5=[ae660f5ecd7ddb04a8913625960940af]\n",
       "link E12 to E7--><a href=\"psysml:31ecf0da-b030-4520-be0f-3ece1376fb5f\" target=\"_top\" title=\"psysml:31ecf0da-b030-4520-be0f-3ece1376fb5f\" xlink:actuate=\"onRequest\" xlink:href=\"psysml:31ecf0da-b030-4520-be0f-3ece1376fb5f\" xlink:show=\"new\" xlink:title=\"psysml:31ecf0da-b030-4520-be0f-3ece1376fb5f\" xlink:type=\"simple\"><path d=\"M132.33,194.19 C129.71,210.06 126.1,231.89 122.94,250.99 \" fill=\"none\" id=\"E12-&gt;E7\" style=\"stroke: #383838; stroke-width: 1.0;\"/><polygon fill=\"#FFFFFF\" points=\"119.65,270.95,115.8525,251.0608,129.6639,253.3511,119.65,270.95\" style=\"stroke: #383838; stroke-width: 1.0;\"/><ellipse cx=\"118.758\" cy=\"245.7648\" fill=\"#383838\" rx=\"2\" ry=\"2\" style=\"stroke: #383838; stroke-width: 1.0;\"/><ellipse cx=\"128.6233\" cy=\"247.4007\" fill=\"#383838\" rx=\"2\" ry=\"2\" style=\"stroke: #383838; stroke-width: 1.0;\"/></a><!--MD5=[e2a9ac97dcd3257bb5342dae06547bad]\n",
       "link E12 to E13--><a href=\"psysml:aa3a7955-6ed3-447d-b0ee-a09ada8803a4\" target=\"_top\" title=\"psysml:aa3a7955-6ed3-447d-b0ee-a09ada8803a4\" xlink:actuate=\"onRequest\" xlink:href=\"psysml:aa3a7955-6ed3-447d-b0ee-a09ada8803a4\" xlink:show=\"new\" xlink:title=\"psysml:aa3a7955-6ed3-447d-b0ee-a09ada8803a4\" xlink:type=\"simple\"><path d=\"M155.63,194.19 C173.2,214.06 199.05,243.3 218.08,264.82 \" fill=\"none\" id=\"E12-&gt;E13\" style=\"stroke: #383838; stroke-width: 1.0;\"/><polygon fill=\"#383838\" points=\"223.5,270.95,220.4521,262.9681,215.9553,266.9403,223.5,270.95\" style=\"stroke: #383838; stroke-width: 1.0;\"/><text fill=\"#000000\" font-family=\"sans-serif\" font-size=\"13\" lengthAdjust=\"spacingAndGlyphs\" textLength=\"73\" x=\"196\" y=\"237.0669\">«objective»</text><text fill=\"#000000\" font-family=\"sans-serif\" font-size=\"13\" lengthAdjust=\"spacingAndGlyphs\" textLength=\"8\" x=\"209.1844\" y=\"259.8328\">1</text></a><!--MD5=[58ab3b0d49ec19fed942b1a8e068b344]\n",
       "@startuml\r\n",
       " skinparam monochrome true\r\n",
       "skinparam classbackgroundcolor white\r\n",
       "skinparam shadowing false\r\n",
       "skinparam wrapWidth 300\r\n",
       "hide circle\r\n",
       "\r\n",
       "package \"AnalysisTest\" as E1  [[psysml:f5546318-5597-445e-83af-957575abd1f7 ]]  {\r\n",
       "comp def \"V\" as E2  <<(T,blue) part def>> [[psysml:df856138-3406-4a6b-b583-20ed5eacc0cd ]] {\r\n",
       "}\r\n",
       "comp usage \"vv: V\" as E3  <<(T,blue) part>> [[psysml:a14948af-c637-432a-b299-badb5d3ced27 ]] {\r\n",
       "}\r\n",
       "comp def \"AnalysisObjective\" as E4  <<(T,blue) requirement def>> [[psysml:b06c710d-6070-489f-855d-95835f572a57 ]] {\r\n",
       "...\r\n",
       "- -\r\n",
       "}\r\n",
       "comp def \"AnalysisCase\" as E5 << analysis def>> [[psysml:e9833d01-8fa8-4820-af73-47d7be444de9 ]] {\r\n",
       "}\r\n",
       "comp usage \"obj: AnalysisObjective\" as E6  <<(T,blue) requirement>> [[psysml:5d02fb37-4730-4ed2-b0a0-8fa990128639 ]] {\r\n",
       "}\r\n",
       "comp def \"AnalysisPlan\" as E7 << analysis def>> [[psysml:8a4520e8-ac51-4a2a-8007-cfc5f8084f42 ]] {\r\n",
       "}\r\n",
       "comp usage \"obj\" as E8  <<(T,blue) requirement>> [[psysml:c9e778b5-528f-48e8-8904-91782dcf8fb6 ]] {\r\n",
       "...\r\n",
       "- -\r\n",
       "}\r\n",
       "comp usage \"analysisCase: AnalysisCase\" as E9 << analysis>> [[psysml:ef775355-9069-4551-a021-5839d9673f3d ]] {\r\n",
       "}\r\n",
       "comp usage \"obj\" as E10  <<(T,blue) requirement>> [[psysml:37fc8968-437f-41f6-96b6-577444b5c586 ]] {\r\n",
       "}\r\n",
       "comp usage \"analysisContext\" as E11  <<(T,blue) part>> [[psysml:e127547d-9ca6-4380-b459-796effe0b56f ]] {\r\n",
       "}\r\n",
       "comp usage \"analysisPlan: AnalysisPlan\" as E12 << analysis>> [[psysml:26b0c0e9-c7c6-4e19-b68b-97e4f04c11f8 ]] {\r\n",
       "}\r\n",
       "comp usage \"obj\" as E13  <<(T,blue) requirement>> [[psysml:a55f605c-cc05-4fcd-b9b1-1e930756e010 ]] {\r\n",
       "}\r\n",
       "}\r\n",
       "E3 - -:|> E2 [[psysml:4553bbf6-343c-42bd-a219-72e0d50d2170 ]] \r\n",
       "E5 ..> E2 [[psysml:55d14872-2cf4-45ef-b86e-776491343885 ]] : <<subject>>\r\n",
       "E5 - ->> E6 [[psysml:66eb83d5-c5e2-4f23-b460-3cc53e216041 ]] : <<objective>>\r\n",
       "E6 - -:|> E4 [[psysml:35160ff3-34f1-44b9-93fc-42f4fb412225 ]] \r\n",
       "E7 ..> E2 [[psysml:6c24e69d-02cf-4e90-8710-eea2d3fb6e80 ]] : <<subject>>\r\n",
       "E7 - ->> \"1\"E8 [[psysml:5f63fe39-bd01-4e2f-b177-a256ca3547ed ]] : <<objective>>\r\n",
       "E7 *- - E9 [[psysml:0539f402-c799-478a-a763-36444c838111 ]] \r\n",
       "E9 - -:|> E5 [[psysml:5fa585d6-e8aa-4013-b88d-119f555331de ]] \r\n",
       "E9 - ->> E10 [[psysml:7fa56b0a-037d-44be-9e3a-456886c00dd1 ]] : <<objective>>\r\n",
       "E11 *- - E12 [[psysml:cf81c84a-d20a-4a9d-8212-c3de89ec9ad0 ]] \r\n",
       "E12 - -:|> E7 [[psysml:31ecf0da-b030-4520-be0f-3ece1376fb5f ]] \r\n",
       "E12 - ->> \"1\"E13 [[psysml:aa3a7955-6ed3-447d-b0ee-a09ada8803a4 ]] : <<objective>>\r\n",
       "@enduml\r\n",
       "\n",
       "PlantUML version 1.2020.13(Sat Jun 13 12:26:38 UTC 2020)\n",
       "(EPL source distribution)\n",
       "Java Runtime: OpenJDK Runtime Environment\n",
       "JVM: OpenJDK 64-Bit Server VM\n",
       "Default Encoding: UTF-8\n",
       "Language: en\n",
       "Country: null\n",
       "--></g></svg>"
      ]
     },
     "execution_count": 3,
     "metadata": {},
     "output_type": "execute_result"
    }
   ],
   "source": [
    "%viz --style=\"COMPTREE\" --view=\"Tree\" \"AnalysisTest\""
   ]
  },
  {
   "cell_type": "code",
   "execution_count": 4,
   "id": "b96dd340",
   "metadata": {
    "execution": {
     "iopub.execute_input": "2021-09-27T07:15:28.263183Z",
     "iopub.status.busy": "2021-09-27T07:15:28.262624Z",
     "iopub.status.idle": "2021-09-27T07:15:28.269880Z",
     "shell.execute_reply": "2021-09-27T07:15:28.270204Z"
    }
   },
   "outputs": [
    {
     "data": {
      "image/svg+xml": [
       "<?xml version=\"1.0\" encoding=\"UTF-8\" standalone=\"no\"?><svg xmlns=\"http://www.w3.org/2000/svg\" xmlns:xlink=\"http://www.w3.org/1999/xlink\" contentScriptType=\"application/ecmascript\" contentStyleType=\"text/css\" height=\"12px\" preserveAspectRatio=\"none\" style=\"width:12px;height:12px;\" version=\"1.1\" viewBox=\"0 0 12 12\" width=\"12px\" zoomAndPan=\"magnify\"><defs/><g><!--MD5=[f19188ef49e11757b5c46753f95d9edc]\n",
       "@startuml\r\n",
       " skinparam monochrome true\r\n",
       "skinparam classbackgroundcolor white\r\n",
       "skinparam shadowing false\r\n",
       "skinparam wrapWidth 300\r\n",
       "hide circle\r\n",
       "\r\n",
       "@enduml\r\n",
       "\n",
       "PlantUML version 1.2020.13(Sat Jun 13 12:26:38 UTC 2020)\n",
       "(EPL source distribution)\n",
       "Java Runtime: OpenJDK Runtime Environment\n",
       "JVM: OpenJDK 64-Bit Server VM\n",
       "Default Encoding: UTF-8\n",
       "Language: en\n",
       "Country: null\n",
       "--></g></svg>"
      ]
     },
     "execution_count": 4,
     "metadata": {},
     "output_type": "execute_result"
    }
   ],
   "source": [
    "%viz --style=\"COMPTREE\" --view=\"State\" \"AnalysisTest\""
   ]
  },
  {
   "cell_type": "code",
   "execution_count": 5,
   "id": "52107f74",
   "metadata": {
    "execution": {
     "iopub.execute_input": "2021-09-27T07:15:28.320794Z",
     "iopub.status.busy": "2021-09-27T07:15:28.320383Z",
     "iopub.status.idle": "2021-09-27T07:15:28.402644Z",
     "shell.execute_reply": "2021-09-27T07:15:28.402289Z"
    }
   },
   "outputs": [
    {
     "data": {
      "image/svg+xml": [
       "<?xml version=\"1.0\" encoding=\"UTF-8\" standalone=\"no\"?><svg xmlns=\"http://www.w3.org/2000/svg\" xmlns:xlink=\"http://www.w3.org/1999/xlink\" contentScriptType=\"application/ecmascript\" contentStyleType=\"text/css\" height=\"446px\" preserveAspectRatio=\"none\" style=\"width:1120px;height:446px;\" version=\"1.1\" viewBox=\"0 0 1120 446\" width=\"1120px\" zoomAndPan=\"magnify\"><defs/><g><!--MD5=[fbc87193dbaf4d95561dea2c320d4a47]\n",
       "cluster E1--><a href=\"psysml:f5546318-5597-445e-83af-957575abd1f7\" target=\"_top\" title=\"psysml:f5546318-5597-445e-83af-957575abd1f7\" xlink:actuate=\"onRequest\" xlink:href=\"psysml:f5546318-5597-445e-83af-957575abd1f7\" xlink:show=\"new\" xlink:title=\"psysml:f5546318-5597-445e-83af-957575abd1f7\" xlink:type=\"simple\"><polygon fill=\"#FFFFFF\" points=\"16,6,108,6,115,28.2969,1098,28.2969,1098,434.86,16,434.86,16,6\" style=\"stroke: #000000; stroke-width: 1.5;\"/><line style=\"stroke: #000000; stroke-width: 1.5;\" x1=\"16\" x2=\"115\" y1=\"28.2969\" y2=\"28.2969\"/><text fill=\"#000000\" font-family=\"sans-serif\" font-size=\"14\" font-weight=\"bold\" lengthAdjust=\"spacingAndGlyphs\" textLength=\"86\" x=\"20\" y=\"20.9951\">AnalysisTest</text></a><!--MD5=[de5ec2e2e8f62f467e546659f5068c88]\n",
       "cluster E5--><a href=\"psysml:e9833d01-8fa8-4820-af73-47d7be444de9\" target=\"_top\" title=\"psysml:e9833d01-8fa8-4820-af73-47d7be444de9\" xlink:actuate=\"onRequest\" xlink:href=\"psysml:e9833d01-8fa8-4820-af73-47d7be444de9\" xlink:show=\"new\" xlink:title=\"psysml:e9833d01-8fa8-4820-af73-47d7be444de9\" xlink:type=\"simple\"><rect fill=\"#FFFFFF\" height=\"228.86\" id=\"E5\" style=\"stroke: #383838; stroke-width: 1.5;\" width=\"146\" x=\"936\" y=\"107\"/><rect fill=\"#F8F8F8\" height=\"37.9375\" style=\"stroke: #383838; stroke-width: 1.5;\" width=\"146\" x=\"936\" y=\"107\"/><text fill=\"#000000\" font-family=\"sans-serif\" font-size=\"12\" font-style=\"italic\" lengthAdjust=\"spacingAndGlyphs\" textLength=\"88\" x=\"965\" y=\"123.1387\">«analysis def»</text><text fill=\"#000000\" font-family=\"sans-serif\" font-size=\"12\" lengthAdjust=\"spacingAndGlyphs\" textLength=\"81\" x=\"968.5\" y=\"137.1074\">AnalysisCase</text></a><!--MD5=[55dfccfc6c49c2d10cd1bd2211a6c90c]\n",
       "cluster E8--><a href=\"psysml:8a4520e8-ac51-4a2a-8007-cfc5f8084f42\" target=\"_top\" title=\"psysml:8a4520e8-ac51-4a2a-8007-cfc5f8084f42\" xlink:actuate=\"onRequest\" xlink:href=\"psysml:8a4520e8-ac51-4a2a-8007-cfc5f8084f42\" xlink:show=\"new\" xlink:title=\"psysml:8a4520e8-ac51-4a2a-8007-cfc5f8084f42\" xlink:type=\"simple\"><rect fill=\"#FFFFFF\" height=\"303.86\" id=\"E8\" style=\"stroke: #383838; stroke-width: 1.5;\" width=\"259\" x=\"647\" y=\"107\"/><rect fill=\"#F8F8F8\" height=\"37.9375\" style=\"stroke: #383838; stroke-width: 1.5;\" width=\"259\" x=\"647\" y=\"107\"/><text fill=\"#000000\" font-family=\"sans-serif\" font-size=\"12\" font-style=\"italic\" lengthAdjust=\"spacingAndGlyphs\" textLength=\"88\" x=\"732.5\" y=\"123.1387\">«analysis def»</text><text fill=\"#000000\" font-family=\"sans-serif\" font-size=\"12\" lengthAdjust=\"spacingAndGlyphs\" textLength=\"77\" x=\"738\" y=\"137.1074\">AnalysisPlan</text></a><!--MD5=[a84b4591f868c1fa4a211716a82f2f0d]\n",
       "cluster E10--><a href=\"psysml:ef775355-9069-4551-a021-5839d9673f3d\" target=\"_top\" title=\"psysml:ef775355-9069-4551-a021-5839d9673f3d\" xlink:actuate=\"onRequest\" xlink:href=\"psysml:ef775355-9069-4551-a021-5839d9673f3d\" xlink:show=\"new\" xlink:title=\"psysml:ef775355-9069-4551-a021-5839d9673f3d\" xlink:type=\"simple\"><rect fill=\"#FFFFFF\" height=\"165.86\" id=\"E10\" rx=\"10\" ry=\"10\" style=\"stroke: #383838; stroke-width: 1.5;\" width=\"138\" x=\"730\" y=\"207\"/><rect fill=\"#F8F8F8\" height=\"37.9375\" rx=\"10\" ry=\"10\" style=\"stroke: #F8F8F8; stroke-width: 1.5;\" width=\"138\" x=\"730\" y=\"207\"/><rect fill=\"#F8F8F8\" height=\"10\" style=\"stroke: #F8F8F8; stroke-width: 1.5;\" width=\"138\" x=\"730\" y=\"234.9375\"/><rect fill=\"none\" height=\"165.86\" id=\"E10\" rx=\"10\" ry=\"10\" style=\"stroke: #383838; stroke-width: 1.5;\" width=\"138\" x=\"730\" y=\"207\"/><text fill=\"#000000\" font-family=\"sans-serif\" font-size=\"12\" font-style=\"italic\" lengthAdjust=\"spacingAndGlyphs\" textLength=\"64\" x=\"767\" y=\"223.1387\">«analysis»</text><text fill=\"#000000\" font-family=\"sans-serif\" font-size=\"12\" lengthAdjust=\"spacingAndGlyphs\" textLength=\"81\" x=\"758.5\" y=\"237.1074\">analysisCase</text><line style=\"stroke: #383838; stroke-width: 1.0;\" x1=\"730\" x2=\"868\" y1=\"244.9375\" y2=\"244.9375\"/></a><!--MD5=[bcf29f0808fc96f19b1afbee8cfc1f11]\n",
       "cluster E14--><a href=\"psysml:e127547d-9ca6-4380-b459-796effe0b56f\" target=\"_top\" title=\"psysml:e127547d-9ca6-4380-b459-796effe0b56f\" xlink:actuate=\"onRequest\" xlink:href=\"psysml:e127547d-9ca6-4380-b459-796effe0b56f\" xlink:show=\"new\" xlink:title=\"psysml:e127547d-9ca6-4380-b459-796effe0b56f\" xlink:type=\"simple\"><rect fill=\"#FFFFFF\" height=\"197\" id=\"E14\" rx=\"10\" ry=\"10\" style=\"stroke: #383838; stroke-width: 1.5;\" width=\"200\" x=\"360\" y=\"49\"/><rect fill=\"#F8F8F8\" height=\"23.9688\" rx=\"10\" ry=\"10\" style=\"stroke: #F8F8F8; stroke-width: 1.5;\" width=\"200\" x=\"360\" y=\"49\"/><rect fill=\"#F8F8F8\" height=\"10\" style=\"stroke: #F8F8F8; stroke-width: 1.5;\" width=\"200\" x=\"360\" y=\"62.9688\"/><rect fill=\"none\" height=\"197\" id=\"E14\" rx=\"10\" ry=\"10\" style=\"stroke: #383838; stroke-width: 1.5;\" width=\"200\" x=\"360\" y=\"49\"/><text fill=\"#000000\" font-family=\"sans-serif\" font-size=\"12\" lengthAdjust=\"spacingAndGlyphs\" textLength=\"98\" x=\"411\" y=\"65.1387\">analysisContext</text><line style=\"stroke: #383838; stroke-width: 1.0;\" x1=\"360\" x2=\"560\" y1=\"72.9688\" y2=\"72.9688\"/></a><!--MD5=[ebbe1d658d1005bcc118a6aa81145e00]\n",
       "class E4--><a href=\"psysml:b06c710d-6070-489f-855d-95835f572a57\" target=\"_top\" title=\"psysml:b06c710d-6070-489f-855d-95835f572a57\" xlink:actuate=\"onRequest\" xlink:href=\"psysml:b06c710d-6070-489f-855d-95835f572a57\" xlink:show=\"new\" xlink:title=\"psysml:b06c710d-6070-489f-855d-95835f572a57\" xlink:type=\"simple\"><rect fill=\"#FFFFFF\" height=\"66.7422\" id=\"E4\" style=\"stroke: #383838; stroke-width: 1.5;\" width=\"117\" x=\"223.5\" y=\"73.5\"/><text fill=\"#000000\" font-family=\"sans-serif\" font-size=\"12\" font-style=\"italic\" lengthAdjust=\"spacingAndGlyphs\" textLength=\"115\" x=\"224.5\" y=\"89.6387\">«requirement def»</text><text fill=\"#000000\" font-family=\"sans-serif\" font-size=\"12\" lengthAdjust=\"spacingAndGlyphs\" textLength=\"107\" x=\"228.5\" y=\"103.6074\">AnalysisObjective</text><line style=\"stroke: #383838; stroke-width: 1.5;\" x1=\"224.5\" x2=\"339.5\" y1=\"111.4375\" y2=\"111.4375\"/><text fill=\"#000000\" font-family=\"sans-serif\" font-size=\"11\" lengthAdjust=\"spacingAndGlyphs\" textLength=\"12\" x=\"229.5\" y=\"125.6479\">...</text><line style=\"stroke: #383838; stroke-width: 1.0;\" x1=\"224.5\" x2=\"339.5\" y1=\"132.2422\" y2=\"132.2422\"/></a><g id=\"E1.E2\"><a href=\"psysml:df856138-3406-4a6b-b583-20ed5eacc0cd\" target=\"_top\" title=\"psysml:df856138-3406-4a6b-b583-20ed5eacc0cd\" xlink:actuate=\"onRequest\" xlink:href=\"psysml:df856138-3406-4a6b-b583-20ed5eacc0cd\" xlink:show=\"new\" xlink:title=\"psysml:df856138-3406-4a6b-b583-20ed5eacc0cd\" xlink:type=\"simple\"><rect fill=\"#FFFFFF\" height=\"42.9375\" id=\"E2\" style=\"stroke: #383838; stroke-width: 1.5;\" width=\"71\" x=\"117.5\" y=\"85.5\"/><rect fill=\"#F8F8F8\" height=\"37.9375\" style=\"stroke: #383838; stroke-width: 1.5;\" width=\"71\" x=\"117.5\" y=\"85.5\"/><text fill=\"#000000\" font-family=\"sans-serif\" font-size=\"12\" font-style=\"italic\" lengthAdjust=\"spacingAndGlyphs\" textLength=\"64\" x=\"121\" y=\"101.6387\">«part def»</text><text fill=\"#000000\" font-family=\"sans-serif\" font-size=\"12\" lengthAdjust=\"spacingAndGlyphs\" textLength=\"8\" x=\"149\" y=\"115.6074\">V</text></a></g><g id=\"E1.E3\"><a href=\"psysml:a14948af-c637-432a-b299-badb5d3ced27\" target=\"_top\" title=\"psysml:a14948af-c637-432a-b299-badb5d3ced27\" xlink:actuate=\"onRequest\" xlink:href=\"psysml:a14948af-c637-432a-b299-badb5d3ced27\" xlink:show=\"new\" xlink:title=\"psysml:a14948af-c637-432a-b299-badb5d3ced27\" xlink:type=\"simple\"><rect fill=\"#FFFFFF\" height=\"40\" id=\"E3\" rx=\"10\" ry=\"10\" style=\"stroke: #383838; stroke-width: 1.5;\" width=\"50\" x=\"32\" y=\"87\"/><rect fill=\"#F8F8F8\" height=\"23.9688\" rx=\"10\" ry=\"10\" style=\"stroke: #F8F8F8; stroke-width: 1.5;\" width=\"50\" x=\"32\" y=\"87\"/><rect fill=\"#F8F8F8\" height=\"10\" style=\"stroke: #F8F8F8; stroke-width: 1.5;\" width=\"50\" x=\"32\" y=\"100.9688\"/><rect fill=\"none\" height=\"40\" id=\"E3\" rx=\"10\" ry=\"10\" style=\"stroke: #383838; stroke-width: 1.5;\" width=\"50\" x=\"32\" y=\"87\"/><text fill=\"#000000\" font-family=\"sans-serif\" font-size=\"12\" lengthAdjust=\"spacingAndGlyphs\" textLength=\"28\" x=\"43\" y=\"103.1387\">vv: V</text></a></g><text fill=\"#000000\" font-family=\"sans-serif\" font-size=\"14\" lengthAdjust=\"spacingAndGlyphs\" textLength=\"7\" x=\"1005.5\" y=\"85.6982\">v</text><rect fill=\"#383838\" height=\"12\" style=\"stroke: #F8F8F8; stroke-width: 1.5;\" width=\"12\" x=\"1003\" y=\"101\"/><text fill=\"#000000\" font-family=\"sans-serif\" font-size=\"14\" lengthAdjust=\"spacingAndGlyphs\" textLength=\"39\" x=\"989.5\" y=\"354.8551\">result</text><rect fill=\"#383838\" height=\"12\" style=\"stroke: #F8F8F8; stroke-width: 1.5;\" width=\"12\" x=\"1003\" y=\"329.86\"/><text fill=\"#000000\" font-family=\"sans-serif\" font-size=\"14\" lengthAdjust=\"spacingAndGlyphs\" textLength=\"7\" x=\"661.5\" y=\"85.6982\">v</text><rect fill=\"#383838\" height=\"12\" style=\"stroke: #F8F8F8; stroke-width: 1.5;\" width=\"12\" x=\"659\" y=\"101\"/><text fill=\"#000000\" font-family=\"sans-serif\" font-size=\"14\" lengthAdjust=\"spacingAndGlyphs\" textLength=\"39\" x=\"886.5\" y=\"354.8551\">result</text><rect fill=\"#383838\" height=\"12\" style=\"stroke: #F8F8F8; stroke-width: 1.5;\" width=\"12\" x=\"900\" y=\"329.86\"/><text fill=\"#000000\" font-family=\"sans-serif\" font-size=\"14\" lengthAdjust=\"spacingAndGlyphs\" textLength=\"37\" x=\"780.5\" y=\"391.8551\">mass</text><rect fill=\"#383838\" height=\"12\" style=\"stroke: #F8F8F8; stroke-width: 1.5;\" width=\"12\" x=\"793\" y=\"366.86\"/><text fill=\"#000000\" font-family=\"sans-serif\" font-size=\"14\" lengthAdjust=\"spacingAndGlyphs\" textLength=\"7\" x=\"795.5\" y=\"185.6982\">v</text><rect fill=\"#383838\" height=\"12\" style=\"stroke: #F8F8F8; stroke-width: 1.5;\" width=\"12\" x=\"793\" y=\"201\"/><!--MD5=[0c48fb7552dae8cbbef69381101a84c8]\n",
       "class E15--><a href=\"psysml:26b0c0e9-c7c6-4e19-b68b-97e4f04c11f8\" target=\"_top\" title=\"psysml:26b0c0e9-c7c6-4e19-b68b-97e4f04c11f8\" xlink:actuate=\"onRequest\" xlink:href=\"psysml:26b0c0e9-c7c6-4e19-b68b-97e4f04c11f8\" xlink:show=\"new\" xlink:title=\"psysml:26b0c0e9-c7c6-4e19-b68b-97e4f04c11f8\" xlink:type=\"simple\"><rect fill=\"#FFFFFF\" height=\"45.9375\" id=\"E15\" rx=\"10\" ry=\"10\" style=\"stroke: #383838; stroke-width: 1.5;\" width=\"168\" x=\"376\" y=\"84\"/><text fill=\"#000000\" font-family=\"sans-serif\" font-size=\"12\" font-style=\"italic\" lengthAdjust=\"spacingAndGlyphs\" textLength=\"64\" x=\"428\" y=\"100.1387\">«analysis»</text><text fill=\"#000000\" font-family=\"sans-serif\" font-size=\"12\" lengthAdjust=\"spacingAndGlyphs\" textLength=\"162\" x=\"379\" y=\"114.1074\">analysisPlan: AnalysisPlan</text><line style=\"stroke: #383838; stroke-width: 1.5;\" x1=\"377\" x2=\"543\" y1=\"121.9375\" y2=\"121.9375\"/></a><!--MD5=[35f0587eaee8d5bb9a02e25b63afc23b]\n",
       "class E16--><a href=\"psysml:a55f605c-cc05-4fcd-b9b1-1e930756e010\" target=\"_top\" title=\"psysml:a55f605c-cc05-4fcd-b9b1-1e930756e010\" xlink:actuate=\"onRequest\" xlink:href=\"psysml:a55f605c-cc05-4fcd-b9b1-1e930756e010\" xlink:show=\"new\" xlink:title=\"psysml:a55f605c-cc05-4fcd-b9b1-1e930756e010\" xlink:type=\"simple\"><rect fill=\"#FFFFFF\" height=\"45.9375\" id=\"E16\" rx=\"10\" ry=\"10\" style=\"stroke: #383838; stroke-width: 1.5;\" width=\"93\" x=\"413.5\" y=\"184\"/><text fill=\"#000000\" font-family=\"sans-serif\" font-size=\"12\" font-style=\"italic\" lengthAdjust=\"spacingAndGlyphs\" textLength=\"91\" x=\"414.5\" y=\"200.1387\">«requirement»</text><text fill=\"#000000\" font-family=\"sans-serif\" font-size=\"12\" lengthAdjust=\"spacingAndGlyphs\" textLength=\"19\" x=\"450.5\" y=\"214.1074\">obj</text><line style=\"stroke: #383838; stroke-width: 1.5;\" x1=\"414.5\" x2=\"505.5\" y1=\"221.9375\" y2=\"221.9375\"/></a><!--MD5=[1b01d5b954197aaf3899ca0bde35faf5]\n",
       "link E15 to E8--><a href=\"psysml:31ecf0da-b030-4520-be0f-3ece1376fb5f\" target=\"_top\" title=\"psysml:31ecf0da-b030-4520-be0f-3ece1376fb5f\" xlink:actuate=\"onRequest\" xlink:href=\"psysml:31ecf0da-b030-4520-be0f-3ece1376fb5f\" xlink:show=\"new\" xlink:title=\"psysml:31ecf0da-b030-4520-be0f-3ece1376fb5f\" xlink:type=\"simple\"><path d=\"M506.26,130.12 C543.93,148.12 596.28,173.15 630.4,189.46 \" fill=\"none\" id=\"E15-&gt;E8\" style=\"stroke: #383838; stroke-width: 1.0;\"/><polygon fill=\"#FFFFFF\" points=\"630.4,189.46,610.2389,187.5813,616.2768,174.9502,630.4,189.46\" style=\"stroke: #383838; stroke-width: 1.0;\"/><ellipse cx=\"605.9588\" cy=\"183.3185\" fill=\"#383838\" rx=\"2\" ry=\"2\" style=\"stroke: #383838; stroke-width: 1.0;\"/><ellipse cx=\"610.2716\" cy=\"174.2963\" fill=\"#383838\" rx=\"2\" ry=\"2\" style=\"stroke: #383838; stroke-width: 1.0;\"/></a><!--MD5=[f8b155c46b092be73bb522b0a8fc72a2]\n",
       "link E15 to E16--><a href=\"psysml:aa3a7955-6ed3-447d-b0ee-a09ada8803a4\" target=\"_top\" title=\"psysml:aa3a7955-6ed3-447d-b0ee-a09ada8803a4\" xlink:actuate=\"onRequest\" xlink:href=\"psysml:aa3a7955-6ed3-447d-b0ee-a09ada8803a4\" xlink:show=\"new\" xlink:title=\"psysml:aa3a7955-6ed3-447d-b0ee-a09ada8803a4\" xlink:type=\"simple\"><path d=\"M460,130.24 C460,143.64 460,160.91 460,175.57 \" fill=\"none\" id=\"E15-&gt;E16\" style=\"stroke: #383838; stroke-width: 1.0;\"/><polygon fill=\"#383838\" points=\"460,183.85,463,175.85,457,175.85,460,183.85\" style=\"stroke: #383838; stroke-width: 1.0;\"/><text fill=\"#000000\" font-family=\"sans-serif\" font-size=\"13\" lengthAdjust=\"spacingAndGlyphs\" textLength=\"73\" x=\"461\" y=\"161.5669\">«objective»</text><text fill=\"#000000\" font-family=\"sans-serif\" font-size=\"13\" lengthAdjust=\"spacingAndGlyphs\" textLength=\"8\" x=\"450.975\" y=\"173.0879\">1</text></a><!--MD5=[47a45d151281daf7153fa70dcbe24f17]\n",
       "@startuml\r\n",
       "skinparam ranksep 10\r\n",
       "skinparam rectangle {\r\n",
       " backgroundColor<<block>> LightGreen\r\n",
       "}\r\n",
       " skinparam monochrome true\r\n",
       "skinparam classbackgroundcolor white\r\n",
       "skinparam shadowing false\r\n",
       "skinparam wrapWidth 300\r\n",
       "hide circle\r\n",
       "\r\n",
       "package \"AnalysisTest\" as E1  [[psysml:f5546318-5597-445e-83af-957575abd1f7 ]]  {\r\n",
       "rec def \"V\" as E2  <<(T,blue) part def>> [[psysml:df856138-3406-4a6b-b583-20ed5eacc0cd ]] {\r\n",
       "}\r\n",
       "rec usage \"vv: V\" as E3  [[psysml:a14948af-c637-432a-b299-badb5d3ced27 ]] {\r\n",
       "}\r\n",
       "comp def \"AnalysisObjective\" as E4  <<(T,blue) requirement def>> [[psysml:b06c710d-6070-489f-855d-95835f572a57 ]] {\r\n",
       "...\r\n",
       "- -\r\n",
       "}\r\n",
       "rec def \"AnalysisCase\" as E5 << analysis def>> [[psysml:e9833d01-8fa8-4820-af73-47d7be444de9 ]] {\r\n",
       "portin \"v\" as E6  [[psysml:fc36d359-2f0c-4a32-9d15-fff2be0a8869 ]] \r\n",
       "portout \"result\" as E7  [[psysml:7ffbe20f-c891-4b52-987b-0be8eb99b87a ]] \r\n",
       "}\r\n",
       "\r\n",
       "rec def \"AnalysisPlan\" as E8 << analysis def>> [[psysml:8a4520e8-ac51-4a2a-8007-cfc5f8084f42 ]] {\r\n",
       "portin \"v\" as E9  [[psysml:7635dc34-c4d2-4388-b045-3a6cac182eef ]] \r\n",
       "rec usage \"analysisCase\" as E10 << analysis>> [[psysml:ef775355-9069-4551-a021-5839d9673f3d ]] {\r\n",
       "portout \"mass\" as E11  [[psysml:56f340db-5793-4dc6-898e-9e0a5f90ef66 ]] \r\n",
       "portin \"v\" as E12  [[psysml:d8dc3b58-26c5-4e6e-82f3-a4f0880c0fd9 ]] \r\n",
       "}\r\n",
       "\r\n",
       "portout \"result\" as E13  [[psysml:55ba6aa8-4536-4622-ad3c-e7c6595a0034 ]] \r\n",
       "}\r\n",
       "\r\n",
       "rec usage \"analysisContext\" as E14  [[psysml:e127547d-9ca6-4380-b459-796effe0b56f ]] {\r\n",
       "comp usage \"analysisPlan: AnalysisPlan\" as E15 << analysis>> [[psysml:26b0c0e9-c7c6-4e19-b68b-97e4f04c11f8 ]] {\r\n",
       "}\r\n",
       "comp usage \"obj\" as E16  <<(T,blue) requirement>> [[psysml:a55f605c-cc05-4fcd-b9b1-1e930756e010 ]] {\r\n",
       "}\r\n",
       "}\r\n",
       "}\r\n",
       "E15 - -:|> E8 [[psysml:31ecf0da-b030-4520-be0f-3ece1376fb5f ]] \r\n",
       "E15 - ->> \"1\"E16 [[psysml:aa3a7955-6ed3-447d-b0ee-a09ada8803a4 ]] : <<objective>>\r\n",
       "@enduml\r\n",
       "\n",
       "PlantUML version 1.2020.13(Sat Jun 13 12:26:38 UTC 2020)\n",
       "(EPL source distribution)\n",
       "Java Runtime: OpenJDK Runtime Environment\n",
       "JVM: OpenJDK 64-Bit Server VM\n",
       "Default Encoding: UTF-8\n",
       "Language: en\n",
       "Country: null\n",
       "--></g></svg>"
      ]
     },
     "execution_count": 5,
     "metadata": {},
     "output_type": "execute_result"
    }
   ],
   "source": [
    "%viz --style=\"COMPTREE\" --view=\"Interconnection\" \"AnalysisTest\""
   ]
  },
  {
   "cell_type": "code",
   "execution_count": 6,
   "id": "3babd081",
   "metadata": {
    "execution": {
     "iopub.execute_input": "2021-09-27T07:15:28.452509Z",
     "iopub.status.busy": "2021-09-27T07:15:28.452109Z",
     "iopub.status.idle": "2021-09-27T07:15:28.501017Z",
     "shell.execute_reply": "2021-09-27T07:15:28.500644Z"
    }
   },
   "outputs": [
    {
     "data": {
      "image/svg+xml": [
       "<?xml version=\"1.0\" encoding=\"UTF-8\" standalone=\"no\"?><svg xmlns=\"http://www.w3.org/2000/svg\" xmlns:xlink=\"http://www.w3.org/1999/xlink\" contentScriptType=\"application/ecmascript\" contentStyleType=\"text/css\" height=\"233px\" preserveAspectRatio=\"none\" style=\"width:649px;height:233px;\" version=\"1.1\" viewBox=\"0 0 649 233\" width=\"649px\" zoomAndPan=\"magnify\"><defs/><g><!--MD5=[fbc87193dbaf4d95561dea2c320d4a47]\n",
       "cluster E1--><a href=\"psysml:e9833d01-8fa8-4820-af73-47d7be444de9\" target=\"_top\" title=\"psysml:e9833d01-8fa8-4820-af73-47d7be444de9\" xlink:actuate=\"onRequest\" xlink:href=\"psysml:e9833d01-8fa8-4820-af73-47d7be444de9\" xlink:show=\"new\" xlink:title=\"psysml:e9833d01-8fa8-4820-af73-47d7be444de9\" xlink:type=\"simple\"><rect fill=\"#FFFFFF\" height=\"122\" id=\"E1\" style=\"stroke: #383838; stroke-width: 1.5;\" width=\"146\" x=\"7\" y=\"42.0986\"/><rect fill=\"#F8F8F8\" height=\"37.9375\" style=\"stroke: #383838; stroke-width: 1.5;\" width=\"146\" x=\"7\" y=\"42.0986\"/><text fill=\"#000000\" font-family=\"sans-serif\" font-size=\"12\" font-style=\"italic\" lengthAdjust=\"spacingAndGlyphs\" textLength=\"88\" x=\"36\" y=\"58.2373\">«analysis def»</text><text fill=\"#000000\" font-family=\"sans-serif\" font-size=\"12\" lengthAdjust=\"spacingAndGlyphs\" textLength=\"81\" x=\"39.5\" y=\"72.2061\">AnalysisCase</text></a><!--MD5=[f6df4d0ebaf0b5dfb2ced0ae5af7c670]\n",
       "cluster E4--><a href=\"psysml:8a4520e8-ac51-4a2a-8007-cfc5f8084f42\" target=\"_top\" title=\"psysml:8a4520e8-ac51-4a2a-8007-cfc5f8084f42\" xlink:actuate=\"onRequest\" xlink:href=\"psysml:8a4520e8-ac51-4a2a-8007-cfc5f8084f42\" xlink:show=\"new\" xlink:title=\"psysml:8a4520e8-ac51-4a2a-8007-cfc5f8084f42\" xlink:type=\"simple\"><rect fill=\"#FFFFFF\" height=\"180\" id=\"E4\" style=\"stroke: #383838; stroke-width: 1.5;\" width=\"262\" x=\"216\" y=\"42.0986\"/><rect fill=\"#F8F8F8\" height=\"37.9375\" style=\"stroke: #383838; stroke-width: 1.5;\" width=\"262\" x=\"216\" y=\"42.0986\"/><text fill=\"#000000\" font-family=\"sans-serif\" font-size=\"12\" font-style=\"italic\" lengthAdjust=\"spacingAndGlyphs\" textLength=\"88\" x=\"303\" y=\"58.2373\">«analysis def»</text><text fill=\"#000000\" font-family=\"sans-serif\" font-size=\"12\" lengthAdjust=\"spacingAndGlyphs\" textLength=\"77\" x=\"308.5\" y=\"72.2061\">AnalysisPlan</text></a><!--MD5=[14e3b0961a2654348d326746436168a1]\n",
       "cluster E6--><a href=\"psysml:ef775355-9069-4551-a021-5839d9673f3d\" target=\"_top\" title=\"psysml:ef775355-9069-4551-a021-5839d9673f3d\" xlink:actuate=\"onRequest\" xlink:href=\"psysml:ef775355-9069-4551-a021-5839d9673f3d\" xlink:show=\"new\" xlink:title=\"psysml:ef775355-9069-4551-a021-5839d9673f3d\" xlink:type=\"simple\"><rect fill=\"#FFFFFF\" height=\"110.5\" id=\"E6\" rx=\"10\" ry=\"10\" style=\"stroke: #383838; stroke-width: 1.5;\" width=\"138\" x=\"299\" y=\"81.5986\"/><rect fill=\"#F8F8F8\" height=\"37.9375\" rx=\"10\" ry=\"10\" style=\"stroke: #F8F8F8; stroke-width: 1.5;\" width=\"138\" x=\"299\" y=\"81.5986\"/><rect fill=\"#F8F8F8\" height=\"10\" style=\"stroke: #F8F8F8; stroke-width: 1.5;\" width=\"138\" x=\"299\" y=\"109.5361\"/><rect fill=\"none\" height=\"110.5\" id=\"E6\" rx=\"10\" ry=\"10\" style=\"stroke: #383838; stroke-width: 1.5;\" width=\"138\" x=\"299\" y=\"81.5986\"/><text fill=\"#000000\" font-family=\"sans-serif\" font-size=\"12\" font-style=\"italic\" lengthAdjust=\"spacingAndGlyphs\" textLength=\"64\" x=\"336\" y=\"97.7373\">«analysis»</text><text fill=\"#000000\" font-family=\"sans-serif\" font-size=\"12\" lengthAdjust=\"spacingAndGlyphs\" textLength=\"81\" x=\"327.5\" y=\"111.7061\">analysisCase</text><line style=\"stroke: #383838; stroke-width: 1.0;\" x1=\"299\" x2=\"437\" y1=\"119.5361\" y2=\"119.5361\"/></a><!--MD5=[a84b4591f868c1fa4a211716a82f2f0d]\n",
       "cluster E10--><a href=\"psysml:26b0c0e9-c7c6-4e19-b68b-97e4f04c11f8\" target=\"_top\" title=\"psysml:26b0c0e9-c7c6-4e19-b68b-97e4f04c11f8\" xlink:actuate=\"onRequest\" xlink:href=\"psysml:26b0c0e9-c7c6-4e19-b68b-97e4f04c11f8\" xlink:show=\"new\" xlink:title=\"psysml:26b0c0e9-c7c6-4e19-b68b-97e4f04c11f8\" xlink:type=\"simple\"><rect fill=\"#FFFFFF\" height=\"122\" id=\"E10\" rx=\"10\" ry=\"10\" style=\"stroke: #383838; stroke-width: 1.5;\" width=\"130\" x=\"507\" y=\"42.0986\"/><rect fill=\"#F8F8F8\" height=\"37.9375\" rx=\"10\" ry=\"10\" style=\"stroke: #F8F8F8; stroke-width: 1.5;\" width=\"130\" x=\"507\" y=\"42.0986\"/><rect fill=\"#F8F8F8\" height=\"10\" style=\"stroke: #F8F8F8; stroke-width: 1.5;\" width=\"130\" x=\"507\" y=\"70.0361\"/><rect fill=\"none\" height=\"122\" id=\"E10\" rx=\"10\" ry=\"10\" style=\"stroke: #383838; stroke-width: 1.5;\" width=\"130\" x=\"507\" y=\"42.0986\"/><text fill=\"#000000\" font-family=\"sans-serif\" font-size=\"12\" font-style=\"italic\" lengthAdjust=\"spacingAndGlyphs\" textLength=\"64\" x=\"540\" y=\"58.2373\">«analysis»</text><text fill=\"#000000\" font-family=\"sans-serif\" font-size=\"12\" lengthAdjust=\"spacingAndGlyphs\" textLength=\"77\" x=\"533.5\" y=\"72.2061\">analysisPlan</text><line style=\"stroke: #383838; stroke-width: 1.0;\" x1=\"507\" x2=\"637\" y1=\"80.0361\" y2=\"80.0361\"/></a><text fill=\"#000000\" font-family=\"sans-serif\" font-size=\"14\" lengthAdjust=\"spacingAndGlyphs\" textLength=\"7\" x=\"76.5\" y=\"20.7969\">v</text><rect fill=\"#383838\" height=\"12\" style=\"stroke: #F8F8F8; stroke-width: 1.5;\" width=\"12\" x=\"74\" y=\"36.0986\"/><text fill=\"#000000\" font-family=\"sans-serif\" font-size=\"14\" lengthAdjust=\"spacingAndGlyphs\" textLength=\"39\" x=\"60.5\" y=\"183.0938\">result</text><rect fill=\"#383838\" height=\"12\" style=\"stroke: #F8F8F8; stroke-width: 1.5;\" width=\"12\" x=\"74\" y=\"158.0986\"/><text fill=\"#000000\" font-family=\"sans-serif\" font-size=\"14\" lengthAdjust=\"spacingAndGlyphs\" textLength=\"7\" x=\"230.5\" y=\"20.7969\">v</text><rect fill=\"#383838\" height=\"12\" style=\"stroke: #F8F8F8; stroke-width: 1.5;\" width=\"12\" x=\"228\" y=\"36.0986\"/><text fill=\"#000000\" font-family=\"sans-serif\" font-size=\"14\" lengthAdjust=\"spacingAndGlyphs\" textLength=\"39\" x=\"458.5\" y=\"183.0938\">result</text><rect fill=\"#383838\" height=\"12\" style=\"stroke: #F8F8F8; stroke-width: 1.5;\" width=\"12\" x=\"472\" y=\"158.0986\"/><text fill=\"#000000\" font-family=\"sans-serif\" font-size=\"14\" lengthAdjust=\"spacingAndGlyphs\" textLength=\"37\" x=\"349.5\" y=\"211.0938\">mass</text><rect fill=\"#383838\" height=\"12\" style=\"stroke: #F8F8F8; stroke-width: 1.5;\" width=\"12\" x=\"362\" y=\"186.0986\"/><text fill=\"#000000\" font-family=\"sans-serif\" font-size=\"14\" lengthAdjust=\"spacingAndGlyphs\" textLength=\"7\" x=\"364.5\" y=\"60.2969\">v</text><rect fill=\"#383838\" height=\"12\" style=\"stroke: #F8F8F8; stroke-width: 1.5;\" width=\"12\" x=\"362\" y=\"75.5986\"/><text fill=\"#000000\" font-family=\"sans-serif\" font-size=\"14\" lengthAdjust=\"spacingAndGlyphs\" textLength=\"7\" x=\"567.5\" y=\"20.7969\">v</text><rect fill=\"#383838\" height=\"12\" style=\"stroke: #F8F8F8; stroke-width: 1.5;\" width=\"12\" x=\"565\" y=\"36.0986\"/><text fill=\"#000000\" font-family=\"sans-serif\" font-size=\"14\" lengthAdjust=\"spacingAndGlyphs\" textLength=\"39\" x=\"505.5\" y=\"183.0938\">result</text><rect fill=\"#383838\" height=\"12\" style=\"stroke: #F8F8F8; stroke-width: 1.5;\" width=\"12\" x=\"519\" y=\"158.0986\"/><!--MD5=[0e1fe2729f9802d1e52e0d01a5ddeef7]\n",
       "@startuml\r\n",
       "skinparam ranksep 8\r\n",
       " skinparam monochrome true\r\n",
       "skinparam classbackgroundcolor white\r\n",
       "skinparam shadowing false\r\n",
       "skinparam wrapWidth 300\r\n",
       "hide circle\r\n",
       "\r\n",
       "rec def \"AnalysisCase\" as E1 << analysis def>> [[psysml:e9833d01-8fa8-4820-af73-47d7be444de9 ]] {\r\n",
       "portin \"v\" as E2  [[psysml:fc36d359-2f0c-4a32-9d15-fff2be0a8869 ]] \r\n",
       "portout \"result\" as E3  [[psysml:7ffbe20f-c891-4b52-987b-0be8eb99b87a ]] \r\n",
       "}\r\n",
       "\r\n",
       "rec def \"AnalysisPlan\" as E4 << analysis def>> [[psysml:8a4520e8-ac51-4a2a-8007-cfc5f8084f42 ]] {\r\n",
       "portin \"v\" as E5  [[psysml:7635dc34-c4d2-4388-b045-3a6cac182eef ]] \r\n",
       "rec usage \"analysisCase\" as E6 << analysis>> [[psysml:ef775355-9069-4551-a021-5839d9673f3d ]] {\r\n",
       "portout \"mass\" as E7  [[psysml:56f340db-5793-4dc6-898e-9e0a5f90ef66 ]] \r\n",
       "portin \"v\" as E8  [[psysml:d8dc3b58-26c5-4e6e-82f3-a4f0880c0fd9 ]] \r\n",
       "}\r\n",
       "\r\n",
       "portout \"result\" as E9  [[psysml:55ba6aa8-4536-4622-ad3c-e7c6595a0034 ]] \r\n",
       "}\r\n",
       "\r\n",
       "rec usage \"analysisPlan\" as E10 << analysis>> [[psysml:26b0c0e9-c7c6-4e19-b68b-97e4f04c11f8 ]] {\r\n",
       "portin \"v\" as E11  [[psysml:f389b1b7-0af5-48e1-9589-ecdd74e85b57 ]] \r\n",
       "portout \"result\" as E12  [[psysml:bb9048ad-dd49-4e98-ae44-d0812ca693a4 ]] \r\n",
       "}\r\n",
       "\r\n",
       "@enduml\r\n",
       "\n",
       "PlantUML version 1.2020.13(Sat Jun 13 12:26:38 UTC 2020)\n",
       "(EPL source distribution)\n",
       "Java Runtime: OpenJDK Runtime Environment\n",
       "JVM: OpenJDK 64-Bit Server VM\n",
       "Default Encoding: UTF-8\n",
       "Language: en\n",
       "Country: null\n",
       "--></g></svg>"
      ]
     },
     "execution_count": 6,
     "metadata": {},
     "output_type": "execute_result"
    }
   ],
   "source": [
    "%viz --style=\"COMPTREE\" --view=\"Action\" \"AnalysisTest\""
   ]
  },
  {
   "cell_type": "code",
   "execution_count": 7,
   "id": "a7751d18",
   "metadata": {
    "execution": {
     "iopub.execute_input": "2021-09-27T07:15:28.550992Z",
     "iopub.status.busy": "2021-09-27T07:15:28.550585Z",
     "iopub.status.idle": "2021-09-27T07:15:28.562975Z",
     "shell.execute_reply": "2021-09-27T07:15:28.563293Z"
    }
   },
   "outputs": [
    {
     "data": {
      "image/svg+xml": [
       "<?xml version=\"1.0\" encoding=\"UTF-8\" standalone=\"no\"?><svg xmlns=\"http://www.w3.org/2000/svg\" xmlns:xlink=\"http://www.w3.org/1999/xlink\" contentScriptType=\"application/ecmascript\" contentStyleType=\"text/css\" height=\"12px\" preserveAspectRatio=\"none\" style=\"width:12px;height:12px;\" version=\"1.1\" viewBox=\"0 0 12 12\" width=\"12px\" zoomAndPan=\"magnify\"><defs/><g><!--MD5=[803fc46c337be7a5c8a9831e35356779]\n",
       "@startuml\r\n",
       "skinparam roundcorner 20\r\n",
       "skinparam BoxPadding 20\r\n",
       "skinparam SequenceBoxBackgroundColor #white\r\n",
       "skinparam style strictuml\r\n",
       "skinparam maxMessageSize 100\r\n",
       " skinparam monochrome true\r\n",
       "skinparam classbackgroundcolor white\r\n",
       "skinparam shadowing false\r\n",
       "skinparam wrapWidth 300\r\n",
       "hide circle\r\n",
       "\r\n",
       "@enduml\r\n",
       "\n",
       "PlantUML version 1.2020.13(Sat Jun 13 12:26:38 UTC 2020)\n",
       "(EPL source distribution)\n",
       "Java Runtime: OpenJDK Runtime Environment\n",
       "JVM: OpenJDK 64-Bit Server VM\n",
       "Default Encoding: UTF-8\n",
       "Language: en\n",
       "Country: null\n",
       "--></g></svg>"
      ]
     },
     "execution_count": 7,
     "metadata": {},
     "output_type": "execute_result"
    }
   ],
   "source": [
    "%viz --style=\"COMPTREE\" --view=\"Sequence\" \"AnalysisTest\""
   ]
  },
  {
   "cell_type": "code",
   "execution_count": 8,
   "id": "7dfc71e1",
   "metadata": {
    "execution": {
     "iopub.execute_input": "2021-09-27T07:15:28.613608Z",
     "iopub.status.busy": "2021-09-27T07:15:28.613209Z",
     "iopub.status.idle": "2021-09-27T07:15:28.689410Z",
     "shell.execute_reply": "2021-09-27T07:15:28.689060Z"
    }
   },
   "outputs": [
    {
     "data": {
      "image/svg+xml": [
       "<?xml version=\"1.0\" encoding=\"UTF-8\" standalone=\"no\"?><svg xmlns=\"http://www.w3.org/2000/svg\" xmlns:xlink=\"http://www.w3.org/1999/xlink\" contentScriptType=\"application/ecmascript\" contentStyleType=\"text/css\" height=\"628px\" preserveAspectRatio=\"none\" style=\"width:837px;height:628px;\" version=\"1.1\" viewBox=\"0 0 837 628\" width=\"837px\" zoomAndPan=\"magnify\"><defs/><g><!--MD5=[fbc87193dbaf4d95561dea2c320d4a47]\n",
       "cluster E1--><a href=\"psysml:f5546318-5597-445e-83af-957575abd1f7\" target=\"_top\" title=\"psysml:f5546318-5597-445e-83af-957575abd1f7\" xlink:actuate=\"onRequest\" xlink:href=\"psysml:f5546318-5597-445e-83af-957575abd1f7\" xlink:show=\"new\" xlink:title=\"psysml:f5546318-5597-445e-83af-957575abd1f7\" xlink:type=\"simple\"><polygon fill=\"#FFFFFF\" points=\"16,6,108,6,115,28.2969,815,28.2969,815,616,16,616,16,6\" style=\"stroke: #000000; stroke-width: 1.5;\"/><line style=\"stroke: #000000; stroke-width: 1.5;\" x1=\"16\" x2=\"115\" y1=\"28.2969\" y2=\"28.2969\"/><text fill=\"#000000\" font-family=\"sans-serif\" font-size=\"14\" font-weight=\"bold\" lengthAdjust=\"spacingAndGlyphs\" textLength=\"86\" x=\"20\" y=\"20.9951\">AnalysisTest</text></a><!--MD5=[de5ec2e2e8f62f467e546659f5068c88]\n",
       "cluster E5--><a href=\"psysml:e9833d01-8fa8-4820-af73-47d7be444de9\" target=\"_top\" title=\"psysml:e9833d01-8fa8-4820-af73-47d7be444de9\" xlink:actuate=\"onRequest\" xlink:href=\"psysml:e9833d01-8fa8-4820-af73-47d7be444de9\" xlink:show=\"new\" xlink:title=\"psysml:e9833d01-8fa8-4820-af73-47d7be444de9\" xlink:type=\"simple\"><rect fill=\"#FFFFFF\" height=\"299.5\" id=\"E5\" style=\"stroke: #383838; stroke-width: 1.5;\" width=\"146\" x=\"653\" y=\"74.5\"/><rect fill=\"#F8F8F8\" height=\"37.9375\" style=\"stroke: #383838; stroke-width: 1.5;\" width=\"146\" x=\"653\" y=\"74.5\"/><text fill=\"#000000\" font-family=\"sans-serif\" font-size=\"12\" font-style=\"italic\" lengthAdjust=\"spacingAndGlyphs\" textLength=\"88\" x=\"682\" y=\"90.6387\">«analysis def»</text><text fill=\"#000000\" font-family=\"sans-serif\" font-size=\"12\" lengthAdjust=\"spacingAndGlyphs\" textLength=\"81\" x=\"685.5\" y=\"104.6074\">AnalysisCase</text></a><!--MD5=[55dfccfc6c49c2d10cd1bd2211a6c90c]\n",
       "cluster E8--><a href=\"psysml:8a4520e8-ac51-4a2a-8007-cfc5f8084f42\" target=\"_top\" title=\"psysml:8a4520e8-ac51-4a2a-8007-cfc5f8084f42\" xlink:actuate=\"onRequest\" xlink:href=\"psysml:8a4520e8-ac51-4a2a-8007-cfc5f8084f42\" xlink:show=\"new\" xlink:title=\"psysml:8a4520e8-ac51-4a2a-8007-cfc5f8084f42\" xlink:type=\"simple\"><rect fill=\"#FFFFFF\" height=\"400\" id=\"E8\" style=\"stroke: #383838; stroke-width: 1.5;\" width=\"259\" x=\"279\" y=\"192\"/><rect fill=\"#F8F8F8\" height=\"37.9375\" style=\"stroke: #383838; stroke-width: 1.5;\" width=\"259\" x=\"279\" y=\"192\"/><text fill=\"#000000\" font-family=\"sans-serif\" font-size=\"12\" font-style=\"italic\" lengthAdjust=\"spacingAndGlyphs\" textLength=\"88\" x=\"364.5\" y=\"208.1387\">«analysis def»</text><text fill=\"#000000\" font-family=\"sans-serif\" font-size=\"12\" lengthAdjust=\"spacingAndGlyphs\" textLength=\"77\" x=\"370\" y=\"222.1074\">AnalysisPlan</text></a><!--MD5=[a84b4591f868c1fa4a211716a82f2f0d]\n",
       "cluster E10--><a href=\"psysml:ef775355-9069-4551-a021-5839d9673f3d\" target=\"_top\" title=\"psysml:ef775355-9069-4551-a021-5839d9673f3d\" xlink:actuate=\"onRequest\" xlink:href=\"psysml:ef775355-9069-4551-a021-5839d9673f3d\" xlink:show=\"new\" xlink:title=\"psysml:ef775355-9069-4551-a021-5839d9673f3d\" xlink:type=\"simple\"><rect fill=\"#FFFFFF\" height=\"239\" id=\"E10\" rx=\"10\" ry=\"10\" style=\"stroke: #383838; stroke-width: 1.5;\" width=\"138\" x=\"362\" y=\"315\"/><rect fill=\"#F8F8F8\" height=\"37.9375\" rx=\"10\" ry=\"10\" style=\"stroke: #F8F8F8; stroke-width: 1.5;\" width=\"138\" x=\"362\" y=\"315\"/><rect fill=\"#F8F8F8\" height=\"10\" style=\"stroke: #F8F8F8; stroke-width: 1.5;\" width=\"138\" x=\"362\" y=\"342.9375\"/><rect fill=\"none\" height=\"239\" id=\"E10\" rx=\"10\" ry=\"10\" style=\"stroke: #383838; stroke-width: 1.5;\" width=\"138\" x=\"362\" y=\"315\"/><text fill=\"#000000\" font-family=\"sans-serif\" font-size=\"12\" font-style=\"italic\" lengthAdjust=\"spacingAndGlyphs\" textLength=\"64\" x=\"399\" y=\"331.1387\">«analysis»</text><text fill=\"#000000\" font-family=\"sans-serif\" font-size=\"12\" lengthAdjust=\"spacingAndGlyphs\" textLength=\"81\" x=\"390.5\" y=\"345.1074\">analysisCase</text><line style=\"stroke: #383838; stroke-width: 1.0;\" x1=\"362\" x2=\"500\" y1=\"352.9375\" y2=\"352.9375\"/></a><!--MD5=[b4997ac47864f28c2f74865a473b2911]\n",
       "class E2--><a href=\"psysml:df856138-3406-4a6b-b583-20ed5eacc0cd\" target=\"_top\" title=\"psysml:df856138-3406-4a6b-b583-20ed5eacc0cd\" xlink:actuate=\"onRequest\" xlink:href=\"psysml:df856138-3406-4a6b-b583-20ed5eacc0cd\" xlink:show=\"new\" xlink:title=\"psysml:df856138-3406-4a6b-b583-20ed5eacc0cd\" xlink:type=\"simple\"><rect fill=\"#FFFFFF\" height=\"45.9375\" id=\"E2\" style=\"stroke: #383838; stroke-width: 1.5;\" width=\"66\" x=\"568\" y=\"169\"/><text fill=\"#000000\" font-family=\"sans-serif\" font-size=\"12\" font-style=\"italic\" lengthAdjust=\"spacingAndGlyphs\" textLength=\"64\" x=\"569\" y=\"185.1387\">«part def»</text><text fill=\"#000000\" font-family=\"sans-serif\" font-size=\"12\" lengthAdjust=\"spacingAndGlyphs\" textLength=\"8\" x=\"597\" y=\"199.1074\">V</text><line style=\"stroke: #383838; stroke-width: 1.5;\" x1=\"569\" x2=\"633\" y1=\"206.9375\" y2=\"206.9375\"/></a><!--MD5=[09b614a08d8cba4a07c9adeb5e0fee81]\n",
       "class E3--><a href=\"psysml:a14948af-c637-432a-b299-badb5d3ced27\" target=\"_top\" title=\"psysml:a14948af-c637-432a-b299-badb5d3ced27\" xlink:actuate=\"onRequest\" xlink:href=\"psysml:a14948af-c637-432a-b299-badb5d3ced27\" xlink:show=\"new\" xlink:title=\"psysml:a14948af-c637-432a-b299-badb5d3ced27\" xlink:type=\"simple\"><rect fill=\"#FFFFFF\" height=\"45.9375\" id=\"E3\" rx=\"10\" ry=\"10\" style=\"stroke: #383838; stroke-width: 1.5;\" width=\"42\" x=\"580\" y=\"51.5\"/><text fill=\"#000000\" font-family=\"sans-serif\" font-size=\"12\" font-style=\"italic\" lengthAdjust=\"spacingAndGlyphs\" textLength=\"40\" x=\"581\" y=\"67.6387\">«part»</text><text fill=\"#000000\" font-family=\"sans-serif\" font-size=\"12\" lengthAdjust=\"spacingAndGlyphs\" textLength=\"28\" x=\"587\" y=\"81.6074\">vv: V</text><line style=\"stroke: #383838; stroke-width: 1.5;\" x1=\"581\" x2=\"621\" y1=\"89.4375\" y2=\"89.4375\"/></a><!--MD5=[ebbe1d658d1005bcc118a6aa81145e00]\n",
       "class E4--><a href=\"psysml:b06c710d-6070-489f-855d-95835f572a57\" target=\"_top\" title=\"psysml:b06c710d-6070-489f-855d-95835f572a57\" xlink:actuate=\"onRequest\" xlink:href=\"psysml:b06c710d-6070-489f-855d-95835f572a57\" xlink:show=\"new\" xlink:title=\"psysml:b06c710d-6070-489f-855d-95835f572a57\" xlink:type=\"simple\"><rect fill=\"#FFFFFF\" height=\"66.7422\" id=\"E4\" style=\"stroke: #383838; stroke-width: 1.5;\" width=\"117\" x=\"315.5\" y=\"41\"/><text fill=\"#000000\" font-family=\"sans-serif\" font-size=\"12\" font-style=\"italic\" lengthAdjust=\"spacingAndGlyphs\" textLength=\"115\" x=\"316.5\" y=\"57.1387\">«requirement def»</text><text fill=\"#000000\" font-family=\"sans-serif\" font-size=\"12\" lengthAdjust=\"spacingAndGlyphs\" textLength=\"107\" x=\"320.5\" y=\"71.1074\">AnalysisObjective</text><line style=\"stroke: #383838; stroke-width: 1.5;\" x1=\"316.5\" x2=\"431.5\" y1=\"78.9375\" y2=\"78.9375\"/><text fill=\"#000000\" font-family=\"sans-serif\" font-size=\"11\" lengthAdjust=\"spacingAndGlyphs\" textLength=\"12\" x=\"321.5\" y=\"93.1479\">...</text><line style=\"stroke: #383838; stroke-width: 1.0;\" x1=\"316.5\" x2=\"431.5\" y1=\"99.7422\" y2=\"99.7422\"/></a><!--MD5=[bee11217b2f71d958a27249dc326068c]\n",
       "class E14--><a href=\"psysml:e127547d-9ca6-4380-b459-796effe0b56f\" target=\"_top\" title=\"psysml:e127547d-9ca6-4380-b459-796effe0b56f\" xlink:actuate=\"onRequest\" xlink:href=\"psysml:e127547d-9ca6-4380-b459-796effe0b56f\" xlink:show=\"new\" xlink:title=\"psysml:e127547d-9ca6-4380-b459-796effe0b56f\" xlink:type=\"simple\"><rect fill=\"#FFFFFF\" height=\"45.9375\" id=\"E14\" rx=\"10\" ry=\"10\" style=\"stroke: #383838; stroke-width: 1.5;\" width=\"104\" x=\"64\" y=\"51.5\"/><text fill=\"#000000\" font-family=\"sans-serif\" font-size=\"12\" font-style=\"italic\" lengthAdjust=\"spacingAndGlyphs\" textLength=\"40\" x=\"96\" y=\"67.6387\">«part»</text><text fill=\"#000000\" font-family=\"sans-serif\" font-size=\"12\" lengthAdjust=\"spacingAndGlyphs\" textLength=\"98\" x=\"67\" y=\"81.6074\">analysisContext</text><line style=\"stroke: #383838; stroke-width: 1.5;\" x1=\"65\" x2=\"167\" y1=\"89.4375\" y2=\"89.4375\"/></a><!--MD5=[0c48fb7552dae8cbbef69381101a84c8]\n",
       "class E15--><a href=\"psysml:26b0c0e9-c7c6-4e19-b68b-97e4f04c11f8\" target=\"_top\" title=\"psysml:26b0c0e9-c7c6-4e19-b68b-97e4f04c11f8\" xlink:actuate=\"onRequest\" xlink:href=\"psysml:26b0c0e9-c7c6-4e19-b68b-97e4f04c11f8\" xlink:show=\"new\" xlink:title=\"psysml:26b0c0e9-c7c6-4e19-b68b-97e4f04c11f8\" xlink:type=\"simple\"><rect fill=\"#FFFFFF\" height=\"45.9375\" id=\"E15\" rx=\"10\" ry=\"10\" style=\"stroke: #383838; stroke-width: 1.5;\" width=\"168\" x=\"32\" y=\"169\"/><text fill=\"#000000\" font-family=\"sans-serif\" font-size=\"12\" font-style=\"italic\" lengthAdjust=\"spacingAndGlyphs\" textLength=\"64\" x=\"84\" y=\"185.1387\">«analysis»</text><text fill=\"#000000\" font-family=\"sans-serif\" font-size=\"12\" lengthAdjust=\"spacingAndGlyphs\" textLength=\"162\" x=\"35\" y=\"199.1074\">analysisPlan: AnalysisPlan</text><line style=\"stroke: #383838; stroke-width: 1.5;\" x1=\"33\" x2=\"199\" y1=\"206.9375\" y2=\"206.9375\"/></a><!--MD5=[35f0587eaee8d5bb9a02e25b63afc23b]\n",
       "class E16--><a href=\"psysml:a55f605c-cc05-4fcd-b9b1-1e930756e010\" target=\"_top\" title=\"psysml:a55f605c-cc05-4fcd-b9b1-1e930756e010\" xlink:actuate=\"onRequest\" xlink:href=\"psysml:a55f605c-cc05-4fcd-b9b1-1e930756e010\" xlink:show=\"new\" xlink:title=\"psysml:a55f605c-cc05-4fcd-b9b1-1e930756e010\" xlink:type=\"simple\"><rect fill=\"#FFFFFF\" height=\"45.9375\" id=\"E16\" rx=\"10\" ry=\"10\" style=\"stroke: #383838; stroke-width: 1.5;\" width=\"93\" x=\"69.5\" y=\"292\"/><text fill=\"#000000\" font-family=\"sans-serif\" font-size=\"12\" font-style=\"italic\" lengthAdjust=\"spacingAndGlyphs\" textLength=\"91\" x=\"70.5\" y=\"308.1387\">«requirement»</text><text fill=\"#000000\" font-family=\"sans-serif\" font-size=\"12\" lengthAdjust=\"spacingAndGlyphs\" textLength=\"19\" x=\"106.5\" y=\"322.1074\">obj</text><line style=\"stroke: #383838; stroke-width: 1.5;\" x1=\"70.5\" x2=\"161.5\" y1=\"329.9375\" y2=\"329.9375\"/></a><text fill=\"#000000\" font-family=\"sans-serif\" font-size=\"14\" lengthAdjust=\"spacingAndGlyphs\" textLength=\"7\" x=\"722.5\" y=\"53.1982\">v</text><rect fill=\"#383838\" height=\"12\" style=\"stroke: #F8F8F8; stroke-width: 1.5;\" width=\"12\" x=\"720\" y=\"68.5\"/><text fill=\"#000000\" font-family=\"sans-serif\" font-size=\"14\" lengthAdjust=\"spacingAndGlyphs\" textLength=\"39\" x=\"706.5\" y=\"392.9951\">result</text><rect fill=\"#383838\" height=\"12\" style=\"stroke: #F8F8F8; stroke-width: 1.5;\" width=\"12\" x=\"720\" y=\"368\"/><text fill=\"#000000\" font-family=\"sans-serif\" font-size=\"14\" lengthAdjust=\"spacingAndGlyphs\" textLength=\"7\" x=\"293.5\" y=\"170.6982\">v</text><rect fill=\"#383838\" height=\"12\" style=\"stroke: #F8F8F8; stroke-width: 1.5;\" width=\"12\" x=\"291\" y=\"186\"/><text fill=\"#000000\" font-family=\"sans-serif\" font-size=\"14\" lengthAdjust=\"spacingAndGlyphs\" textLength=\"39\" x=\"518.5\" y=\"499.9951\">result</text><rect fill=\"#383838\" height=\"12\" style=\"stroke: #F8F8F8; stroke-width: 1.5;\" width=\"12\" x=\"532\" y=\"475\"/><text fill=\"#000000\" font-family=\"sans-serif\" font-size=\"14\" lengthAdjust=\"spacingAndGlyphs\" textLength=\"37\" x=\"412.5\" y=\"572.9951\">mass</text><rect fill=\"#383838\" height=\"12\" style=\"stroke: #F8F8F8; stroke-width: 1.5;\" width=\"12\" x=\"425\" y=\"548\"/><text fill=\"#000000\" font-family=\"sans-serif\" font-size=\"14\" lengthAdjust=\"spacingAndGlyphs\" textLength=\"7\" x=\"427.5\" y=\"293.6982\">v</text><rect fill=\"#383838\" height=\"12\" style=\"stroke: #F8F8F8; stroke-width: 1.5;\" width=\"12\" x=\"425\" y=\"309\"/><!--MD5=[05d275557350bfb9b23a4ef7222b4c39]\n",
       "link E3 to E2--><a href=\"psysml:4553bbf6-343c-42bd-a219-72e0d50d2170\" target=\"_top\" title=\"psysml:4553bbf6-343c-42bd-a219-72e0d50d2170\" xlink:actuate=\"onRequest\" xlink:href=\"psysml:4553bbf6-343c-42bd-a219-72e0d50d2170\" xlink:show=\"new\" xlink:title=\"psysml:4553bbf6-343c-42bd-a219-72e0d50d2170\" xlink:type=\"simple\"><path d=\"M601,97.77 C601,112.15 601,131.32 601,148.54 \" fill=\"none\" id=\"E3-&gt;E2\" style=\"stroke: #383838; stroke-width: 1.0;\"/><polygon fill=\"#FFFFFF\" points=\"601,168.8,594,149.8,608,149.8,601,168.8\" style=\"stroke: #383838; stroke-width: 1.0;\"/><ellipse cx=\"596\" cy=\"144.1\" fill=\"#383838\" rx=\"2\" ry=\"2\" style=\"stroke: #383838; stroke-width: 1.0;\"/><ellipse cx=\"606\" cy=\"144.1\" fill=\"#383838\" rx=\"2\" ry=\"2\" style=\"stroke: #383838; stroke-width: 1.0;\"/></a><!--MD5=[17bf29720e4688890742b92d9a67fdf0]\n",
       "reverse link E14 to E15--><a href=\"psysml:cf81c84a-d20a-4a9d-8212-c3de89ec9ad0\" target=\"_top\" title=\"psysml:cf81c84a-d20a-4a9d-8212-c3de89ec9ad0\" xlink:actuate=\"onRequest\" xlink:href=\"psysml:cf81c84a-d20a-4a9d-8212-c3de89ec9ad0\" xlink:show=\"new\" xlink:title=\"psysml:cf81c84a-d20a-4a9d-8212-c3de89ec9ad0\" xlink:type=\"simple\"><path d=\"M116,110.99 C116,129.85 116,152.44 116,168.8 \" fill=\"none\" id=\"E14&lt;-E15\" style=\"stroke: #383838; stroke-width: 1.0;\"/><polygon fill=\"#383838\" points=\"116,97.77,112,103.77,116,109.77,120,103.77,116,97.77\" style=\"stroke: #383838; stroke-width: 1.0;\"/></a><!--MD5=[1b01d5b954197aaf3899ca0bde35faf5]\n",
       "link E15 to E8--><a href=\"psysml:31ecf0da-b030-4520-be0f-3ece1376fb5f\" target=\"_top\" title=\"psysml:31ecf0da-b030-4520-be0f-3ece1376fb5f\" xlink:actuate=\"onRequest\" xlink:href=\"psysml:31ecf0da-b030-4520-be0f-3ece1376fb5f\" xlink:show=\"new\" xlink:title=\"psysml:31ecf0da-b030-4520-be0f-3ece1376fb5f\" xlink:type=\"simple\"><path d=\"M152.22,215.11 C166.86,224.19 183.85,234.93 199,245 C225.17,262.39 254.56,283.27 274.27,297.48 \" fill=\"none\" id=\"E15-&gt;E8\" style=\"stroke: #383838; stroke-width: 1.0;\"/><polygon fill=\"#FFFFFF\" points=\"274.27,297.48,254.7641,292.0467,262.9515,280.6904,274.27,297.48\" style=\"stroke: #383838; stroke-width: 1.0;\"/><ellipse cx=\"251.3101\" cy=\"287.0909\" fill=\"#383838\" rx=\"2\" ry=\"2\" style=\"stroke: #383838; stroke-width: 1.0;\"/><ellipse cx=\"257.1582\" cy=\"278.9793\" fill=\"#383838\" rx=\"2\" ry=\"2\" style=\"stroke: #383838; stroke-width: 1.0;\"/></a><!--MD5=[f8b155c46b092be73bb522b0a8fc72a2]\n",
       "link E15 to E16--><a href=\"psysml:aa3a7955-6ed3-447d-b0ee-a09ada8803a4\" target=\"_top\" title=\"psysml:aa3a7955-6ed3-447d-b0ee-a09ada8803a4\" xlink:actuate=\"onRequest\" xlink:href=\"psysml:aa3a7955-6ed3-447d-b0ee-a09ada8803a4\" xlink:show=\"new\" xlink:title=\"psysml:aa3a7955-6ed3-447d-b0ee-a09ada8803a4\" xlink:type=\"simple\"><path d=\"M116,215.19 C116,234.47 116,262.55 116,283.86 \" fill=\"none\" id=\"E15-&gt;E16\" style=\"stroke: #383838; stroke-width: 1.0;\"/><polygon fill=\"#383838\" points=\"116,291.95,119,283.95,113,283.95,116,291.95\" style=\"stroke: #383838; stroke-width: 1.0;\"/><text fill=\"#000000\" font-family=\"sans-serif\" font-size=\"13\" lengthAdjust=\"spacingAndGlyphs\" textLength=\"73\" x=\"117\" y=\"258.0669\">«objective»</text><text fill=\"#000000\" font-family=\"sans-serif\" font-size=\"13\" lengthAdjust=\"spacingAndGlyphs\" textLength=\"8\" x=\"106.925\" y=\"280.8328\">1</text></a><!--MD5=[1183290cc38cb2ae9a0b7e6deacee802]\n",
       "@startuml\r\n",
       " skinparam monochrome true\r\n",
       "skinparam classbackgroundcolor white\r\n",
       "skinparam shadowing false\r\n",
       "skinparam wrapWidth 300\r\n",
       "hide circle\r\n",
       "\r\n",
       "package \"AnalysisTest\" as E1  [[psysml:f5546318-5597-445e-83af-957575abd1f7 ]]  {\r\n",
       "comp def \"V\" as E2  <<(T,blue) part def>> [[psysml:df856138-3406-4a6b-b583-20ed5eacc0cd ]] {\r\n",
       "}\r\n",
       "comp usage \"vv: V\" as E3  <<(T,blue) part>> [[psysml:a14948af-c637-432a-b299-badb5d3ced27 ]] {\r\n",
       "}\r\n",
       "comp def \"AnalysisObjective\" as E4  <<(T,blue) requirement def>> [[psysml:b06c710d-6070-489f-855d-95835f572a57 ]] {\r\n",
       "...\r\n",
       "- -\r\n",
       "}\r\n",
       "rec def \"AnalysisCase\" as E5 << analysis def>> [[psysml:e9833d01-8fa8-4820-af73-47d7be444de9 ]] {\r\n",
       "portin \"v\" as E6  [[psysml:fc36d359-2f0c-4a32-9d15-fff2be0a8869 ]] \r\n",
       "portout \"result\" as E7  [[psysml:7ffbe20f-c891-4b52-987b-0be8eb99b87a ]] \r\n",
       "}\r\n",
       "\r\n",
       "rec def \"AnalysisPlan\" as E8 << analysis def>> [[psysml:8a4520e8-ac51-4a2a-8007-cfc5f8084f42 ]] {\r\n",
       "portin \"v\" as E9  [[psysml:7635dc34-c4d2-4388-b045-3a6cac182eef ]] \r\n",
       "rec usage \"analysisCase\" as E10 << analysis>> [[psysml:ef775355-9069-4551-a021-5839d9673f3d ]] {\r\n",
       "portout \"mass\" as E11  [[psysml:56f340db-5793-4dc6-898e-9e0a5f90ef66 ]] \r\n",
       "portin \"v\" as E12  [[psysml:d8dc3b58-26c5-4e6e-82f3-a4f0880c0fd9 ]] \r\n",
       "}\r\n",
       "\r\n",
       "portout \"result\" as E13  [[psysml:55ba6aa8-4536-4622-ad3c-e7c6595a0034 ]] \r\n",
       "}\r\n",
       "\r\n",
       "comp usage \"analysisContext\" as E14  <<(T,blue) part>> [[psysml:e127547d-9ca6-4380-b459-796effe0b56f ]] {\r\n",
       "}\r\n",
       "comp usage \"analysisPlan: AnalysisPlan\" as E15 << analysis>> [[psysml:26b0c0e9-c7c6-4e19-b68b-97e4f04c11f8 ]] {\r\n",
       "}\r\n",
       "comp usage \"obj\" as E16  <<(T,blue) requirement>> [[psysml:a55f605c-cc05-4fcd-b9b1-1e930756e010 ]] {\r\n",
       "}\r\n",
       "}\r\n",
       "E3 - -:|> E2 [[psysml:4553bbf6-343c-42bd-a219-72e0d50d2170 ]] \r\n",
       "E14 *- - E15 [[psysml:cf81c84a-d20a-4a9d-8212-c3de89ec9ad0 ]] \r\n",
       "E15 - -:|> E8 [[psysml:31ecf0da-b030-4520-be0f-3ece1376fb5f ]] \r\n",
       "E15 - ->> \"1\"E16 [[psysml:aa3a7955-6ed3-447d-b0ee-a09ada8803a4 ]] : <<objective>>\r\n",
       "@enduml\r\n",
       "\n",
       "PlantUML version 1.2020.13(Sat Jun 13 12:26:38 UTC 2020)\n",
       "(EPL source distribution)\n",
       "Java Runtime: OpenJDK Runtime Environment\n",
       "JVM: OpenJDK 64-Bit Server VM\n",
       "Default Encoding: UTF-8\n",
       "Language: en\n",
       "Country: null\n",
       "--></g></svg>"
      ]
     },
     "execution_count": 8,
     "metadata": {},
     "output_type": "execute_result"
    }
   ],
   "source": [
    "%viz --style=\"COMPTREE\" --view=\"MIXED\" \"AnalysisTest\""
   ]
  },
  {
   "cell_type": "code",
   "execution_count": 9,
   "id": "66924e5d",
   "metadata": {
    "execution": {
     "iopub.execute_input": "2021-09-27T07:15:28.738695Z",
     "iopub.status.busy": "2021-09-27T07:15:28.738468Z",
     "iopub.status.idle": "2021-09-27T07:15:28.796082Z",
     "shell.execute_reply": "2021-09-27T07:15:28.794667Z"
    }
   },
   "outputs": [
    {
     "data": {
      "image/svg+xml": [
       "<?xml version=\"1.0\" encoding=\"UTF-8\" standalone=\"no\"?><svg xmlns=\"http://www.w3.org/2000/svg\" xmlns:xlink=\"http://www.w3.org/1999/xlink\" contentScriptType=\"application/ecmascript\" contentStyleType=\"text/css\" height=\"628px\" preserveAspectRatio=\"none\" style=\"width:837px;height:628px;\" version=\"1.1\" viewBox=\"0 0 837 628\" width=\"837px\" zoomAndPan=\"magnify\"><defs/><g><!--MD5=[fbc87193dbaf4d95561dea2c320d4a47]\n",
       "cluster E1--><a href=\"psysml:f5546318-5597-445e-83af-957575abd1f7\" target=\"_top\" title=\"psysml:f5546318-5597-445e-83af-957575abd1f7\" xlink:actuate=\"onRequest\" xlink:href=\"psysml:f5546318-5597-445e-83af-957575abd1f7\" xlink:show=\"new\" xlink:title=\"psysml:f5546318-5597-445e-83af-957575abd1f7\" xlink:type=\"simple\"><polygon fill=\"#FFFFFF\" points=\"16,6,108,6,115,28.2969,815,28.2969,815,616,16,616,16,6\" style=\"stroke: #000000; stroke-width: 1.5;\"/><line style=\"stroke: #000000; stroke-width: 1.5;\" x1=\"16\" x2=\"115\" y1=\"28.2969\" y2=\"28.2969\"/><text fill=\"#000000\" font-family=\"sans-serif\" font-size=\"14\" font-weight=\"bold\" lengthAdjust=\"spacingAndGlyphs\" textLength=\"86\" x=\"20\" y=\"20.9951\">AnalysisTest</text></a><!--MD5=[de5ec2e2e8f62f467e546659f5068c88]\n",
       "cluster E5--><a href=\"psysml:e9833d01-8fa8-4820-af73-47d7be444de9\" target=\"_top\" title=\"psysml:e9833d01-8fa8-4820-af73-47d7be444de9\" xlink:actuate=\"onRequest\" xlink:href=\"psysml:e9833d01-8fa8-4820-af73-47d7be444de9\" xlink:show=\"new\" xlink:title=\"psysml:e9833d01-8fa8-4820-af73-47d7be444de9\" xlink:type=\"simple\"><rect fill=\"#FFFFFF\" height=\"299.5\" id=\"E5\" style=\"stroke: #383838; stroke-width: 1.5;\" width=\"146\" x=\"653\" y=\"74.5\"/><rect fill=\"#F8F8F8\" height=\"37.9375\" style=\"stroke: #383838; stroke-width: 1.5;\" width=\"146\" x=\"653\" y=\"74.5\"/><text fill=\"#000000\" font-family=\"sans-serif\" font-size=\"12\" font-style=\"italic\" lengthAdjust=\"spacingAndGlyphs\" textLength=\"88\" x=\"682\" y=\"90.6387\">«analysis def»</text><text fill=\"#000000\" font-family=\"sans-serif\" font-size=\"12\" lengthAdjust=\"spacingAndGlyphs\" textLength=\"81\" x=\"685.5\" y=\"104.6074\">AnalysisCase</text></a><!--MD5=[55dfccfc6c49c2d10cd1bd2211a6c90c]\n",
       "cluster E8--><a href=\"psysml:8a4520e8-ac51-4a2a-8007-cfc5f8084f42\" target=\"_top\" title=\"psysml:8a4520e8-ac51-4a2a-8007-cfc5f8084f42\" xlink:actuate=\"onRequest\" xlink:href=\"psysml:8a4520e8-ac51-4a2a-8007-cfc5f8084f42\" xlink:show=\"new\" xlink:title=\"psysml:8a4520e8-ac51-4a2a-8007-cfc5f8084f42\" xlink:type=\"simple\"><rect fill=\"#FFFFFF\" height=\"400\" id=\"E8\" style=\"stroke: #383838; stroke-width: 1.5;\" width=\"259\" x=\"279\" y=\"192\"/><rect fill=\"#F8F8F8\" height=\"37.9375\" style=\"stroke: #383838; stroke-width: 1.5;\" width=\"259\" x=\"279\" y=\"192\"/><text fill=\"#000000\" font-family=\"sans-serif\" font-size=\"12\" font-style=\"italic\" lengthAdjust=\"spacingAndGlyphs\" textLength=\"88\" x=\"364.5\" y=\"208.1387\">«analysis def»</text><text fill=\"#000000\" font-family=\"sans-serif\" font-size=\"12\" lengthAdjust=\"spacingAndGlyphs\" textLength=\"77\" x=\"370\" y=\"222.1074\">AnalysisPlan</text></a><!--MD5=[a84b4591f868c1fa4a211716a82f2f0d]\n",
       "cluster E10--><a href=\"psysml:ef775355-9069-4551-a021-5839d9673f3d\" target=\"_top\" title=\"psysml:ef775355-9069-4551-a021-5839d9673f3d\" xlink:actuate=\"onRequest\" xlink:href=\"psysml:ef775355-9069-4551-a021-5839d9673f3d\" xlink:show=\"new\" xlink:title=\"psysml:ef775355-9069-4551-a021-5839d9673f3d\" xlink:type=\"simple\"><rect fill=\"#FFFFFF\" height=\"239\" id=\"E10\" rx=\"10\" ry=\"10\" style=\"stroke: #383838; stroke-width: 1.5;\" width=\"138\" x=\"362\" y=\"315\"/><rect fill=\"#F8F8F8\" height=\"37.9375\" rx=\"10\" ry=\"10\" style=\"stroke: #F8F8F8; stroke-width: 1.5;\" width=\"138\" x=\"362\" y=\"315\"/><rect fill=\"#F8F8F8\" height=\"10\" style=\"stroke: #F8F8F8; stroke-width: 1.5;\" width=\"138\" x=\"362\" y=\"342.9375\"/><rect fill=\"none\" height=\"239\" id=\"E10\" rx=\"10\" ry=\"10\" style=\"stroke: #383838; stroke-width: 1.5;\" width=\"138\" x=\"362\" y=\"315\"/><text fill=\"#000000\" font-family=\"sans-serif\" font-size=\"12\" font-style=\"italic\" lengthAdjust=\"spacingAndGlyphs\" textLength=\"64\" x=\"399\" y=\"331.1387\">«analysis»</text><text fill=\"#000000\" font-family=\"sans-serif\" font-size=\"12\" lengthAdjust=\"spacingAndGlyphs\" textLength=\"81\" x=\"390.5\" y=\"345.1074\">analysisCase</text><line style=\"stroke: #383838; stroke-width: 1.0;\" x1=\"362\" x2=\"500\" y1=\"352.9375\" y2=\"352.9375\"/></a><!--MD5=[b4997ac47864f28c2f74865a473b2911]\n",
       "class E2--><a href=\"psysml:df856138-3406-4a6b-b583-20ed5eacc0cd\" target=\"_top\" title=\"psysml:df856138-3406-4a6b-b583-20ed5eacc0cd\" xlink:actuate=\"onRequest\" xlink:href=\"psysml:df856138-3406-4a6b-b583-20ed5eacc0cd\" xlink:show=\"new\" xlink:title=\"psysml:df856138-3406-4a6b-b583-20ed5eacc0cd\" xlink:type=\"simple\"><rect fill=\"#FFFFFF\" height=\"45.9375\" id=\"E2\" style=\"stroke: #383838; stroke-width: 1.5;\" width=\"66\" x=\"568\" y=\"169\"/><text fill=\"#000000\" font-family=\"sans-serif\" font-size=\"12\" font-style=\"italic\" lengthAdjust=\"spacingAndGlyphs\" textLength=\"64\" x=\"569\" y=\"185.1387\">«part def»</text><text fill=\"#000000\" font-family=\"sans-serif\" font-size=\"12\" lengthAdjust=\"spacingAndGlyphs\" textLength=\"8\" x=\"597\" y=\"199.1074\">V</text><line style=\"stroke: #383838; stroke-width: 1.5;\" x1=\"569\" x2=\"633\" y1=\"206.9375\" y2=\"206.9375\"/></a><!--MD5=[09b614a08d8cba4a07c9adeb5e0fee81]\n",
       "class E3--><a href=\"psysml:a14948af-c637-432a-b299-badb5d3ced27\" target=\"_top\" title=\"psysml:a14948af-c637-432a-b299-badb5d3ced27\" xlink:actuate=\"onRequest\" xlink:href=\"psysml:a14948af-c637-432a-b299-badb5d3ced27\" xlink:show=\"new\" xlink:title=\"psysml:a14948af-c637-432a-b299-badb5d3ced27\" xlink:type=\"simple\"><rect fill=\"#FFFFFF\" height=\"45.9375\" id=\"E3\" rx=\"10\" ry=\"10\" style=\"stroke: #383838; stroke-width: 1.5;\" width=\"42\" x=\"580\" y=\"51.5\"/><text fill=\"#000000\" font-family=\"sans-serif\" font-size=\"12\" font-style=\"italic\" lengthAdjust=\"spacingAndGlyphs\" textLength=\"40\" x=\"581\" y=\"67.6387\">«part»</text><text fill=\"#000000\" font-family=\"sans-serif\" font-size=\"12\" lengthAdjust=\"spacingAndGlyphs\" textLength=\"28\" x=\"587\" y=\"81.6074\">vv: V</text><line style=\"stroke: #383838; stroke-width: 1.5;\" x1=\"581\" x2=\"621\" y1=\"89.4375\" y2=\"89.4375\"/></a><!--MD5=[ebbe1d658d1005bcc118a6aa81145e00]\n",
       "class E4--><a href=\"psysml:b06c710d-6070-489f-855d-95835f572a57\" target=\"_top\" title=\"psysml:b06c710d-6070-489f-855d-95835f572a57\" xlink:actuate=\"onRequest\" xlink:href=\"psysml:b06c710d-6070-489f-855d-95835f572a57\" xlink:show=\"new\" xlink:title=\"psysml:b06c710d-6070-489f-855d-95835f572a57\" xlink:type=\"simple\"><rect fill=\"#FFFFFF\" height=\"66.7422\" id=\"E4\" style=\"stroke: #383838; stroke-width: 1.5;\" width=\"117\" x=\"315.5\" y=\"41\"/><text fill=\"#000000\" font-family=\"sans-serif\" font-size=\"12\" font-style=\"italic\" lengthAdjust=\"spacingAndGlyphs\" textLength=\"115\" x=\"316.5\" y=\"57.1387\">«requirement def»</text><text fill=\"#000000\" font-family=\"sans-serif\" font-size=\"12\" lengthAdjust=\"spacingAndGlyphs\" textLength=\"107\" x=\"320.5\" y=\"71.1074\">AnalysisObjective</text><line style=\"stroke: #383838; stroke-width: 1.5;\" x1=\"316.5\" x2=\"431.5\" y1=\"78.9375\" y2=\"78.9375\"/><text fill=\"#000000\" font-family=\"sans-serif\" font-size=\"11\" lengthAdjust=\"spacingAndGlyphs\" textLength=\"12\" x=\"321.5\" y=\"93.1479\">...</text><line style=\"stroke: #383838; stroke-width: 1.0;\" x1=\"316.5\" x2=\"431.5\" y1=\"99.7422\" y2=\"99.7422\"/></a><!--MD5=[bee11217b2f71d958a27249dc326068c]\n",
       "class E14--><a href=\"psysml:e127547d-9ca6-4380-b459-796effe0b56f\" target=\"_top\" title=\"psysml:e127547d-9ca6-4380-b459-796effe0b56f\" xlink:actuate=\"onRequest\" xlink:href=\"psysml:e127547d-9ca6-4380-b459-796effe0b56f\" xlink:show=\"new\" xlink:title=\"psysml:e127547d-9ca6-4380-b459-796effe0b56f\" xlink:type=\"simple\"><rect fill=\"#FFFFFF\" height=\"45.9375\" id=\"E14\" rx=\"10\" ry=\"10\" style=\"stroke: #383838; stroke-width: 1.5;\" width=\"104\" x=\"64\" y=\"51.5\"/><text fill=\"#000000\" font-family=\"sans-serif\" font-size=\"12\" font-style=\"italic\" lengthAdjust=\"spacingAndGlyphs\" textLength=\"40\" x=\"96\" y=\"67.6387\">«part»</text><text fill=\"#000000\" font-family=\"sans-serif\" font-size=\"12\" lengthAdjust=\"spacingAndGlyphs\" textLength=\"98\" x=\"67\" y=\"81.6074\">analysisContext</text><line style=\"stroke: #383838; stroke-width: 1.5;\" x1=\"65\" x2=\"167\" y1=\"89.4375\" y2=\"89.4375\"/></a><!--MD5=[0c48fb7552dae8cbbef69381101a84c8]\n",
       "class E15--><a href=\"psysml:26b0c0e9-c7c6-4e19-b68b-97e4f04c11f8\" target=\"_top\" title=\"psysml:26b0c0e9-c7c6-4e19-b68b-97e4f04c11f8\" xlink:actuate=\"onRequest\" xlink:href=\"psysml:26b0c0e9-c7c6-4e19-b68b-97e4f04c11f8\" xlink:show=\"new\" xlink:title=\"psysml:26b0c0e9-c7c6-4e19-b68b-97e4f04c11f8\" xlink:type=\"simple\"><rect fill=\"#FFFFFF\" height=\"45.9375\" id=\"E15\" rx=\"10\" ry=\"10\" style=\"stroke: #383838; stroke-width: 1.5;\" width=\"168\" x=\"32\" y=\"169\"/><text fill=\"#000000\" font-family=\"sans-serif\" font-size=\"12\" font-style=\"italic\" lengthAdjust=\"spacingAndGlyphs\" textLength=\"64\" x=\"84\" y=\"185.1387\">«analysis»</text><text fill=\"#000000\" font-family=\"sans-serif\" font-size=\"12\" lengthAdjust=\"spacingAndGlyphs\" textLength=\"162\" x=\"35\" y=\"199.1074\">analysisPlan: AnalysisPlan</text><line style=\"stroke: #383838; stroke-width: 1.5;\" x1=\"33\" x2=\"199\" y1=\"206.9375\" y2=\"206.9375\"/></a><!--MD5=[35f0587eaee8d5bb9a02e25b63afc23b]\n",
       "class E16--><a href=\"psysml:a55f605c-cc05-4fcd-b9b1-1e930756e010\" target=\"_top\" title=\"psysml:a55f605c-cc05-4fcd-b9b1-1e930756e010\" xlink:actuate=\"onRequest\" xlink:href=\"psysml:a55f605c-cc05-4fcd-b9b1-1e930756e010\" xlink:show=\"new\" xlink:title=\"psysml:a55f605c-cc05-4fcd-b9b1-1e930756e010\" xlink:type=\"simple\"><rect fill=\"#FFFFFF\" height=\"45.9375\" id=\"E16\" rx=\"10\" ry=\"10\" style=\"stroke: #383838; stroke-width: 1.5;\" width=\"93\" x=\"69.5\" y=\"292\"/><text fill=\"#000000\" font-family=\"sans-serif\" font-size=\"12\" font-style=\"italic\" lengthAdjust=\"spacingAndGlyphs\" textLength=\"91\" x=\"70.5\" y=\"308.1387\">«requirement»</text><text fill=\"#000000\" font-family=\"sans-serif\" font-size=\"12\" lengthAdjust=\"spacingAndGlyphs\" textLength=\"19\" x=\"106.5\" y=\"322.1074\">obj</text><line style=\"stroke: #383838; stroke-width: 1.5;\" x1=\"70.5\" x2=\"161.5\" y1=\"329.9375\" y2=\"329.9375\"/></a><text fill=\"#000000\" font-family=\"sans-serif\" font-size=\"14\" lengthAdjust=\"spacingAndGlyphs\" textLength=\"7\" x=\"722.5\" y=\"53.1982\">v</text><rect fill=\"#383838\" height=\"12\" style=\"stroke: #F8F8F8; stroke-width: 1.5;\" width=\"12\" x=\"720\" y=\"68.5\"/><text fill=\"#000000\" font-family=\"sans-serif\" font-size=\"14\" lengthAdjust=\"spacingAndGlyphs\" textLength=\"39\" x=\"706.5\" y=\"392.9951\">result</text><rect fill=\"#383838\" height=\"12\" style=\"stroke: #F8F8F8; stroke-width: 1.5;\" width=\"12\" x=\"720\" y=\"368\"/><text fill=\"#000000\" font-family=\"sans-serif\" font-size=\"14\" lengthAdjust=\"spacingAndGlyphs\" textLength=\"7\" x=\"293.5\" y=\"170.6982\">v</text><rect fill=\"#383838\" height=\"12\" style=\"stroke: #F8F8F8; stroke-width: 1.5;\" width=\"12\" x=\"291\" y=\"186\"/><text fill=\"#000000\" font-family=\"sans-serif\" font-size=\"14\" lengthAdjust=\"spacingAndGlyphs\" textLength=\"39\" x=\"518.5\" y=\"499.9951\">result</text><rect fill=\"#383838\" height=\"12\" style=\"stroke: #F8F8F8; stroke-width: 1.5;\" width=\"12\" x=\"532\" y=\"475\"/><text fill=\"#000000\" font-family=\"sans-serif\" font-size=\"14\" lengthAdjust=\"spacingAndGlyphs\" textLength=\"37\" x=\"412.5\" y=\"572.9951\">mass</text><rect fill=\"#383838\" height=\"12\" style=\"stroke: #F8F8F8; stroke-width: 1.5;\" width=\"12\" x=\"425\" y=\"548\"/><text fill=\"#000000\" font-family=\"sans-serif\" font-size=\"14\" lengthAdjust=\"spacingAndGlyphs\" textLength=\"7\" x=\"427.5\" y=\"293.6982\">v</text><rect fill=\"#383838\" height=\"12\" style=\"stroke: #F8F8F8; stroke-width: 1.5;\" width=\"12\" x=\"425\" y=\"309\"/><!--MD5=[05d275557350bfb9b23a4ef7222b4c39]\n",
       "link E3 to E2--><a href=\"psysml:4553bbf6-343c-42bd-a219-72e0d50d2170\" target=\"_top\" title=\"psysml:4553bbf6-343c-42bd-a219-72e0d50d2170\" xlink:actuate=\"onRequest\" xlink:href=\"psysml:4553bbf6-343c-42bd-a219-72e0d50d2170\" xlink:show=\"new\" xlink:title=\"psysml:4553bbf6-343c-42bd-a219-72e0d50d2170\" xlink:type=\"simple\"><path d=\"M601,97.77 C601,112.15 601,131.32 601,148.54 \" fill=\"none\" id=\"E3-&gt;E2\" style=\"stroke: #383838; stroke-width: 1.0;\"/><polygon fill=\"#FFFFFF\" points=\"601,168.8,594,149.8,608,149.8,601,168.8\" style=\"stroke: #383838; stroke-width: 1.0;\"/><ellipse cx=\"596\" cy=\"144.1\" fill=\"#383838\" rx=\"2\" ry=\"2\" style=\"stroke: #383838; stroke-width: 1.0;\"/><ellipse cx=\"606\" cy=\"144.1\" fill=\"#383838\" rx=\"2\" ry=\"2\" style=\"stroke: #383838; stroke-width: 1.0;\"/></a><!--MD5=[17bf29720e4688890742b92d9a67fdf0]\n",
       "reverse link E14 to E15--><a href=\"psysml:cf81c84a-d20a-4a9d-8212-c3de89ec9ad0\" target=\"_top\" title=\"psysml:cf81c84a-d20a-4a9d-8212-c3de89ec9ad0\" xlink:actuate=\"onRequest\" xlink:href=\"psysml:cf81c84a-d20a-4a9d-8212-c3de89ec9ad0\" xlink:show=\"new\" xlink:title=\"psysml:cf81c84a-d20a-4a9d-8212-c3de89ec9ad0\" xlink:type=\"simple\"><path d=\"M116,110.99 C116,129.85 116,152.44 116,168.8 \" fill=\"none\" id=\"E14&lt;-E15\" style=\"stroke: #383838; stroke-width: 1.0;\"/><polygon fill=\"#383838\" points=\"116,97.77,112,103.77,116,109.77,120,103.77,116,97.77\" style=\"stroke: #383838; stroke-width: 1.0;\"/></a><!--MD5=[1b01d5b954197aaf3899ca0bde35faf5]\n",
       "link E15 to E8--><a href=\"psysml:31ecf0da-b030-4520-be0f-3ece1376fb5f\" target=\"_top\" title=\"psysml:31ecf0da-b030-4520-be0f-3ece1376fb5f\" xlink:actuate=\"onRequest\" xlink:href=\"psysml:31ecf0da-b030-4520-be0f-3ece1376fb5f\" xlink:show=\"new\" xlink:title=\"psysml:31ecf0da-b030-4520-be0f-3ece1376fb5f\" xlink:type=\"simple\"><path d=\"M151.2,215.05 C173.82,229.23 199,245 199,245 C199,245 244.27,276.88 273.28,297.3 \" fill=\"none\" id=\"E15-&gt;E8\" style=\"stroke: #383838; stroke-width: 1.0;\"/><polygon fill=\"#FFFFFF\" points=\"273.28,297.3,253.7139,292.0878,261.7723,280.6395,273.28,297.3\" style=\"stroke: #383838; stroke-width: 1.0;\"/><ellipse cx=\"250.204\" cy=\"287.1714\" fill=\"#383838\" rx=\"2\" ry=\"2\" style=\"stroke: #383838; stroke-width: 1.0;\"/><ellipse cx=\"255.96\" cy=\"278.9941\" fill=\"#383838\" rx=\"2\" ry=\"2\" style=\"stroke: #383838; stroke-width: 1.0;\"/></a><!--MD5=[f8b155c46b092be73bb522b0a8fc72a2]\n",
       "link E15 to E16--><a href=\"psysml:aa3a7955-6ed3-447d-b0ee-a09ada8803a4\" target=\"_top\" title=\"psysml:aa3a7955-6ed3-447d-b0ee-a09ada8803a4\" xlink:actuate=\"onRequest\" xlink:href=\"psysml:aa3a7955-6ed3-447d-b0ee-a09ada8803a4\" xlink:show=\"new\" xlink:title=\"psysml:aa3a7955-6ed3-447d-b0ee-a09ada8803a4\" xlink:type=\"simple\"><path d=\"M116,215.19 C116,234.47 116,262.55 116,283.86 \" fill=\"none\" id=\"E15-&gt;E16\" style=\"stroke: #383838; stroke-width: 1.0;\"/><polygon fill=\"#383838\" points=\"116,291.95,119,283.95,113,283.95,116,291.95\" style=\"stroke: #383838; stroke-width: 1.0;\"/><text fill=\"#000000\" font-family=\"sans-serif\" font-size=\"13\" lengthAdjust=\"spacingAndGlyphs\" textLength=\"73\" x=\"117\" y=\"258.0669\">«objective»</text><text fill=\"#000000\" font-family=\"sans-serif\" font-size=\"13\" lengthAdjust=\"spacingAndGlyphs\" textLength=\"8\" x=\"106.925\" y=\"280.8328\">1</text></a><!--MD5=[33f1139b2e1675cb241cd1bca9772ddc]\n",
       "@startuml\r\n",
       "skinparam linetype polyline\r\n",
       "skinparam monochrome true\r\n",
       "skinparam classbackgroundcolor white\r\n",
       "skinparam shadowing false\r\n",
       "skinparam wrapWidth 300\r\n",
       "hide circle\r\n",
       "\r\n",
       "package \"AnalysisTest\" as E1  [[psysml:f5546318-5597-445e-83af-957575abd1f7 ]]  {\r\n",
       "comp def \"V\" as E2  <<(T,blue) part def>> [[psysml:df856138-3406-4a6b-b583-20ed5eacc0cd ]] {\r\n",
       "}\r\n",
       "comp usage \"vv: V\" as E3  <<(T,blue) part>> [[psysml:a14948af-c637-432a-b299-badb5d3ced27 ]] {\r\n",
       "}\r\n",
       "comp def \"AnalysisObjective\" as E4  <<(T,blue) requirement def>> [[psysml:b06c710d-6070-489f-855d-95835f572a57 ]] {\r\n",
       "...\r\n",
       "- -\r\n",
       "}\r\n",
       "rec def \"AnalysisCase\" as E5 << analysis def>> [[psysml:e9833d01-8fa8-4820-af73-47d7be444de9 ]] {\r\n",
       "portin \"v\" as E6  [[psysml:fc36d359-2f0c-4a32-9d15-fff2be0a8869 ]] \r\n",
       "portout \"result\" as E7  [[psysml:7ffbe20f-c891-4b52-987b-0be8eb99b87a ]] \r\n",
       "}\r\n",
       "\r\n",
       "rec def \"AnalysisPlan\" as E8 << analysis def>> [[psysml:8a4520e8-ac51-4a2a-8007-cfc5f8084f42 ]] {\r\n",
       "portin \"v\" as E9  [[psysml:7635dc34-c4d2-4388-b045-3a6cac182eef ]] \r\n",
       "rec usage \"analysisCase\" as E10 << analysis>> [[psysml:ef775355-9069-4551-a021-5839d9673f3d ]] {\r\n",
       "portout \"mass\" as E11  [[psysml:56f340db-5793-4dc6-898e-9e0a5f90ef66 ]] \r\n",
       "portin \"v\" as E12  [[psysml:d8dc3b58-26c5-4e6e-82f3-a4f0880c0fd9 ]] \r\n",
       "}\r\n",
       "\r\n",
       "portout \"result\" as E13  [[psysml:55ba6aa8-4536-4622-ad3c-e7c6595a0034 ]] \r\n",
       "}\r\n",
       "\r\n",
       "comp usage \"analysisContext\" as E14  <<(T,blue) part>> [[psysml:e127547d-9ca6-4380-b459-796effe0b56f ]] {\r\n",
       "}\r\n",
       "comp usage \"analysisPlan: AnalysisPlan\" as E15 << analysis>> [[psysml:26b0c0e9-c7c6-4e19-b68b-97e4f04c11f8 ]] {\r\n",
       "}\r\n",
       "comp usage \"obj\" as E16  <<(T,blue) requirement>> [[psysml:a55f605c-cc05-4fcd-b9b1-1e930756e010 ]] {\r\n",
       "}\r\n",
       "}\r\n",
       "E3 - -:|> E2 [[psysml:4553bbf6-343c-42bd-a219-72e0d50d2170 ]] \r\n",
       "E14 *- - E15 [[psysml:cf81c84a-d20a-4a9d-8212-c3de89ec9ad0 ]] \r\n",
       "E15 - -:|> E8 [[psysml:31ecf0da-b030-4520-be0f-3ece1376fb5f ]] \r\n",
       "E15 - ->> \"1\"E16 [[psysml:aa3a7955-6ed3-447d-b0ee-a09ada8803a4 ]] : <<objective>>\r\n",
       "@enduml\r\n",
       "\n",
       "PlantUML version 1.2020.13(Sat Jun 13 12:26:38 UTC 2020)\n",
       "(EPL source distribution)\n",
       "Java Runtime: OpenJDK Runtime Environment\n",
       "JVM: OpenJDK 64-Bit Server VM\n",
       "Default Encoding: UTF-8\n",
       "Language: en\n",
       "Country: null\n",
       "--></g></svg>"
      ]
     },
     "execution_count": 9,
     "metadata": {},
     "output_type": "execute_result"
    }
   ],
   "source": [
    "%viz --style=\"POLYLINE\" --view=\"Default\" \"AnalysisTest\""
   ]
  },
  {
   "cell_type": "code",
   "execution_count": 10,
   "id": "3abc2f9b",
   "metadata": {
    "execution": {
     "iopub.execute_input": "2021-09-27T07:15:28.845216Z",
     "iopub.status.busy": "2021-09-27T07:15:28.844794Z",
     "iopub.status.idle": "2021-09-27T07:15:28.909577Z",
     "shell.execute_reply": "2021-09-27T07:15:28.909201Z"
    }
   },
   "outputs": [
    {
     "data": {
      "image/svg+xml": [
       "<?xml version=\"1.0\" encoding=\"UTF-8\" standalone=\"no\"?><svg xmlns=\"http://www.w3.org/2000/svg\" xmlns:xlink=\"http://www.w3.org/1999/xlink\" contentScriptType=\"application/ecmascript\" contentStyleType=\"text/css\" height=\"863px\" preserveAspectRatio=\"none\" style=\"width:412px;height:863px;\" version=\"1.1\" viewBox=\"0 0 412 863\" width=\"412px\" zoomAndPan=\"magnify\"><defs/><g><!--MD5=[fbc87193dbaf4d95561dea2c320d4a47]\n",
       "cluster E1--><a href=\"psysml:f5546318-5597-445e-83af-957575abd1f7\" target=\"_top\" title=\"psysml:f5546318-5597-445e-83af-957575abd1f7\" xlink:actuate=\"onRequest\" xlink:href=\"psysml:f5546318-5597-445e-83af-957575abd1f7\" xlink:show=\"new\" xlink:title=\"psysml:f5546318-5597-445e-83af-957575abd1f7\" xlink:type=\"simple\"><polygon fill=\"#FFFFFF\" points=\"16,6,108,6,115,28.2969,390,28.2969,390,851,16,851,16,6\" style=\"stroke: #000000; stroke-width: 1.5;\"/><line style=\"stroke: #000000; stroke-width: 1.5;\" x1=\"16\" x2=\"115\" y1=\"28.2969\" y2=\"28.2969\"/><text fill=\"#000000\" font-family=\"sans-serif\" font-size=\"14\" font-weight=\"bold\" lengthAdjust=\"spacingAndGlyphs\" textLength=\"86\" x=\"20\" y=\"20.9951\">AnalysisTest</text></a><!--MD5=[b4997ac47864f28c2f74865a473b2911]\n",
       "class E2--><a href=\"psysml:df856138-3406-4a6b-b583-20ed5eacc0cd\" target=\"_top\" title=\"psysml:df856138-3406-4a6b-b583-20ed5eacc0cd\" xlink:actuate=\"onRequest\" xlink:href=\"psysml:df856138-3406-4a6b-b583-20ed5eacc0cd\" xlink:show=\"new\" xlink:title=\"psysml:df856138-3406-4a6b-b583-20ed5eacc0cd\" xlink:type=\"simple\"><rect fill=\"#FFFFFF\" height=\"45.9375\" id=\"E2\" style=\"stroke: #383838; stroke-width: 1.5;\" width=\"66\" x=\"121\" y=\"661\"/><text fill=\"#000000\" font-family=\"sans-serif\" font-size=\"12\" font-style=\"italic\" lengthAdjust=\"spacingAndGlyphs\" textLength=\"64\" x=\"122\" y=\"677.1387\">«part def»</text><text fill=\"#000000\" font-family=\"sans-serif\" font-size=\"12\" lengthAdjust=\"spacingAndGlyphs\" textLength=\"8\" x=\"150\" y=\"691.1074\">V</text><line style=\"stroke: #383838; stroke-width: 1.5;\" x1=\"122\" x2=\"186\" y1=\"698.9375\" y2=\"698.9375\"/></a><!--MD5=[09b614a08d8cba4a07c9adeb5e0fee81]\n",
       "class E3--><a href=\"psysml:a14948af-c637-432a-b299-badb5d3ced27\" target=\"_top\" title=\"psysml:a14948af-c637-432a-b299-badb5d3ced27\" xlink:actuate=\"onRequest\" xlink:href=\"psysml:a14948af-c637-432a-b299-badb5d3ced27\" xlink:show=\"new\" xlink:title=\"psysml:a14948af-c637-432a-b299-badb5d3ced27\" xlink:type=\"simple\"><rect fill=\"#FFFFFF\" height=\"45.9375\" id=\"E3\" rx=\"10\" ry=\"10\" style=\"stroke: #383838; stroke-width: 1.5;\" width=\"42\" x=\"207\" y=\"538\"/><text fill=\"#000000\" font-family=\"sans-serif\" font-size=\"12\" font-style=\"italic\" lengthAdjust=\"spacingAndGlyphs\" textLength=\"40\" x=\"208\" y=\"554.1387\">«part»</text><text fill=\"#000000\" font-family=\"sans-serif\" font-size=\"12\" lengthAdjust=\"spacingAndGlyphs\" textLength=\"28\" x=\"214\" y=\"568.1074\">vv: V</text><line style=\"stroke: #383838; stroke-width: 1.5;\" x1=\"208\" x2=\"248\" y1=\"575.9375\" y2=\"575.9375\"/></a><!--MD5=[ebbe1d658d1005bcc118a6aa81145e00]\n",
       "class E4--><a href=\"psysml:b06c710d-6070-489f-855d-95835f572a57\" target=\"_top\" title=\"psysml:b06c710d-6070-489f-855d-95835f572a57\" xlink:actuate=\"onRequest\" xlink:href=\"psysml:b06c710d-6070-489f-855d-95835f572a57\" xlink:show=\"new\" xlink:title=\"psysml:b06c710d-6070-489f-855d-95835f572a57\" xlink:type=\"simple\"><rect fill=\"#FFFFFF\" height=\"66.7422\" id=\"E4\" style=\"stroke: #383838; stroke-width: 1.5;\" width=\"117\" x=\"240.5\" y=\"768\"/><text fill=\"#000000\" font-family=\"sans-serif\" font-size=\"12\" font-style=\"italic\" lengthAdjust=\"spacingAndGlyphs\" textLength=\"115\" x=\"241.5\" y=\"784.1387\">«requirement def»</text><text fill=\"#000000\" font-family=\"sans-serif\" font-size=\"12\" lengthAdjust=\"spacingAndGlyphs\" textLength=\"107\" x=\"245.5\" y=\"798.1074\">AnalysisObjective</text><line style=\"stroke: #383838; stroke-width: 1.5;\" x1=\"241.5\" x2=\"356.5\" y1=\"805.9375\" y2=\"805.9375\"/><text fill=\"#000000\" font-family=\"sans-serif\" font-size=\"11\" lengthAdjust=\"spacingAndGlyphs\" textLength=\"12\" x=\"246.5\" y=\"820.1479\">...</text><line style=\"stroke: #383838; stroke-width: 1.0;\" x1=\"241.5\" x2=\"356.5\" y1=\"826.7422\" y2=\"826.7422\"/></a><!--MD5=[270fce915f116d4de14055a7c1d9a0f3]\n",
       "class E5--><a href=\"psysml:e9833d01-8fa8-4820-af73-47d7be444de9\" target=\"_top\" title=\"psysml:e9833d01-8fa8-4820-af73-47d7be444de9\" xlink:actuate=\"onRequest\" xlink:href=\"psysml:e9833d01-8fa8-4820-af73-47d7be444de9\" xlink:show=\"new\" xlink:title=\"psysml:e9833d01-8fa8-4820-af73-47d7be444de9\" xlink:type=\"simple\"><rect fill=\"#FFFFFF\" height=\"45.9375\" id=\"E5\" style=\"stroke: #383838; stroke-width: 1.5;\" width=\"90\" x=\"284\" y=\"538\"/><text fill=\"#000000\" font-family=\"sans-serif\" font-size=\"12\" font-style=\"italic\" lengthAdjust=\"spacingAndGlyphs\" textLength=\"88\" x=\"285\" y=\"554.1387\">«analysis def»</text><text fill=\"#000000\" font-family=\"sans-serif\" font-size=\"12\" lengthAdjust=\"spacingAndGlyphs\" textLength=\"81\" x=\"288.5\" y=\"568.1074\">AnalysisCase</text><line style=\"stroke: #383838; stroke-width: 1.5;\" x1=\"285\" x2=\"373\" y1=\"575.9375\" y2=\"575.9375\"/></a><!--MD5=[60a26617385b1d2d0262a64233df1f8d]\n",
       "class E6--><a href=\"psysml:5d02fb37-4730-4ed2-b0a0-8fa990128639\" target=\"_top\" title=\"psysml:5d02fb37-4730-4ed2-b0a0-8fa990128639\" xlink:actuate=\"onRequest\" xlink:href=\"psysml:5d02fb37-4730-4ed2-b0a0-8fa990128639\" xlink:show=\"new\" xlink:title=\"psysml:5d02fb37-4730-4ed2-b0a0-8fa990128639\" xlink:type=\"simple\"><rect fill=\"#FFFFFF\" height=\"45.9375\" id=\"E6\" rx=\"10\" ry=\"10\" style=\"stroke: #383838; stroke-width: 1.5;\" width=\"140\" x=\"229\" y=\"661\"/><text fill=\"#000000\" font-family=\"sans-serif\" font-size=\"12\" font-style=\"italic\" lengthAdjust=\"spacingAndGlyphs\" textLength=\"91\" x=\"253.5\" y=\"677.1387\">«requirement»</text><text fill=\"#000000\" font-family=\"sans-serif\" font-size=\"12\" lengthAdjust=\"spacingAndGlyphs\" textLength=\"134\" x=\"232\" y=\"691.1074\">obj: AnalysisObjective</text><line style=\"stroke: #383838; stroke-width: 1.5;\" x1=\"230\" x2=\"368\" y1=\"698.9375\" y2=\"698.9375\"/></a><!--MD5=[2156ba9850f5573cc1fc38a6a4b2f02b]\n",
       "class E7--><a href=\"psysml:8a4520e8-ac51-4a2a-8007-cfc5f8084f42\" target=\"_top\" title=\"psysml:8a4520e8-ac51-4a2a-8007-cfc5f8084f42\" xlink:actuate=\"onRequest\" xlink:href=\"psysml:8a4520e8-ac51-4a2a-8007-cfc5f8084f42\" xlink:show=\"new\" xlink:title=\"psysml:8a4520e8-ac51-4a2a-8007-cfc5f8084f42\" xlink:type=\"simple\"><rect fill=\"#FFFFFF\" height=\"45.9375\" id=\"E7\" style=\"stroke: #383838; stroke-width: 1.5;\" width=\"90\" x=\"71\" y=\"271\"/><text fill=\"#000000\" font-family=\"sans-serif\" font-size=\"12\" font-style=\"italic\" lengthAdjust=\"spacingAndGlyphs\" textLength=\"88\" x=\"72\" y=\"287.1387\">«analysis def»</text><text fill=\"#000000\" font-family=\"sans-serif\" font-size=\"12\" lengthAdjust=\"spacingAndGlyphs\" textLength=\"77\" x=\"77.5\" y=\"301.1074\">AnalysisPlan</text><line style=\"stroke: #383838; stroke-width: 1.5;\" x1=\"72\" x2=\"160\" y1=\"308.9375\" y2=\"308.9375\"/></a><!--MD5=[b9389687b975829384b498ac4b7476b2]\n",
       "class E8--><a href=\"psysml:c9e778b5-528f-48e8-8904-91782dcf8fb6\" target=\"_top\" title=\"psysml:c9e778b5-528f-48e8-8904-91782dcf8fb6\" xlink:actuate=\"onRequest\" xlink:href=\"psysml:c9e778b5-528f-48e8-8904-91782dcf8fb6\" xlink:show=\"new\" xlink:title=\"psysml:c9e778b5-528f-48e8-8904-91782dcf8fb6\" xlink:type=\"simple\"><rect fill=\"#FFFFFF\" height=\"66.7422\" id=\"E8\" rx=\"10\" ry=\"10\" style=\"stroke: #383838; stroke-width: 1.5;\" width=\"93\" x=\"69.5\" y=\"394\"/><text fill=\"#000000\" font-family=\"sans-serif\" font-size=\"12\" font-style=\"italic\" lengthAdjust=\"spacingAndGlyphs\" textLength=\"91\" x=\"70.5\" y=\"410.1387\">«requirement»</text><text fill=\"#000000\" font-family=\"sans-serif\" font-size=\"12\" lengthAdjust=\"spacingAndGlyphs\" textLength=\"19\" x=\"106.5\" y=\"424.1074\">obj</text><line style=\"stroke: #383838; stroke-width: 1.5;\" x1=\"70.5\" x2=\"161.5\" y1=\"431.9375\" y2=\"431.9375\"/><text fill=\"#000000\" font-family=\"sans-serif\" font-size=\"11\" lengthAdjust=\"spacingAndGlyphs\" textLength=\"12\" x=\"75.5\" y=\"446.1479\">...</text><line style=\"stroke: #383838; stroke-width: 1.0;\" x1=\"70.5\" x2=\"161.5\" y1=\"452.7422\" y2=\"452.7422\"/></a><!--MD5=[fd4143e9d270a159db93a4ea2a975926]\n",
       "class E9--><a href=\"psysml:ef775355-9069-4551-a021-5839d9673f3d\" target=\"_top\" title=\"psysml:ef775355-9069-4551-a021-5839d9673f3d\" xlink:actuate=\"onRequest\" xlink:href=\"psysml:ef775355-9069-4551-a021-5839d9673f3d\" xlink:show=\"new\" xlink:title=\"psysml:ef775355-9069-4551-a021-5839d9673f3d\" xlink:type=\"simple\"><rect fill=\"#FFFFFF\" height=\"45.9375\" id=\"E9\" rx=\"10\" ry=\"10\" style=\"stroke: #383838; stroke-width: 1.5;\" width=\"176\" x=\"198\" y=\"404.5\"/><text fill=\"#000000\" font-family=\"sans-serif\" font-size=\"12\" font-style=\"italic\" lengthAdjust=\"spacingAndGlyphs\" textLength=\"64\" x=\"254\" y=\"420.6387\">«analysis»</text><text fill=\"#000000\" font-family=\"sans-serif\" font-size=\"12\" lengthAdjust=\"spacingAndGlyphs\" textLength=\"170\" x=\"201\" y=\"434.6074\">analysisCase: AnalysisCase</text><line style=\"stroke: #383838; stroke-width: 1.5;\" x1=\"199\" x2=\"373\" y1=\"442.4375\" y2=\"442.4375\"/></a><!--MD5=[96f4274e9e20536e775497830990834d]\n",
       "class E10--><a href=\"psysml:37fc8968-437f-41f6-96b6-577444b5c586\" target=\"_top\" title=\"psysml:37fc8968-437f-41f6-96b6-577444b5c586\" xlink:actuate=\"onRequest\" xlink:href=\"psysml:37fc8968-437f-41f6-96b6-577444b5c586\" xlink:show=\"new\" xlink:title=\"psysml:37fc8968-437f-41f6-96b6-577444b5c586\" xlink:type=\"simple\"><rect fill=\"#FFFFFF\" height=\"45.9375\" id=\"E10\" rx=\"10\" ry=\"10\" style=\"stroke: #383838; stroke-width: 1.5;\" width=\"93\" x=\"78.5\" y=\"538\"/><text fill=\"#000000\" font-family=\"sans-serif\" font-size=\"12\" font-style=\"italic\" lengthAdjust=\"spacingAndGlyphs\" textLength=\"91\" x=\"79.5\" y=\"554.1387\">«requirement»</text><text fill=\"#000000\" font-family=\"sans-serif\" font-size=\"12\" lengthAdjust=\"spacingAndGlyphs\" textLength=\"19\" x=\"115.5\" y=\"568.1074\">obj</text><line style=\"stroke: #383838; stroke-width: 1.5;\" x1=\"79.5\" x2=\"170.5\" y1=\"575.9375\" y2=\"575.9375\"/></a><!--MD5=[1dd1bfd58a279cf63c5f349dbc8fc6a1]\n",
       "class E11--><a href=\"psysml:e127547d-9ca6-4380-b459-796effe0b56f\" target=\"_top\" title=\"psysml:e127547d-9ca6-4380-b459-796effe0b56f\" xlink:actuate=\"onRequest\" xlink:href=\"psysml:e127547d-9ca6-4380-b459-796effe0b56f\" xlink:show=\"new\" xlink:title=\"psysml:e127547d-9ca6-4380-b459-796effe0b56f\" xlink:type=\"simple\"><rect fill=\"#FFFFFF\" height=\"45.9375\" id=\"E11\" rx=\"10\" ry=\"10\" style=\"stroke: #383838; stroke-width: 1.5;\" width=\"104\" x=\"84\" y=\"41\"/><text fill=\"#000000\" font-family=\"sans-serif\" font-size=\"12\" font-style=\"italic\" lengthAdjust=\"spacingAndGlyphs\" textLength=\"40\" x=\"116\" y=\"57.1387\">«part»</text><text fill=\"#000000\" font-family=\"sans-serif\" font-size=\"12\" lengthAdjust=\"spacingAndGlyphs\" textLength=\"98\" x=\"87\" y=\"71.1074\">analysisContext</text><line style=\"stroke: #383838; stroke-width: 1.5;\" x1=\"85\" x2=\"187\" y1=\"78.9375\" y2=\"78.9375\"/></a><!--MD5=[49a0ec8f00dab7302a31f22d0f0fe584]\n",
       "class E12--><a href=\"psysml:26b0c0e9-c7c6-4e19-b68b-97e4f04c11f8\" target=\"_top\" title=\"psysml:26b0c0e9-c7c6-4e19-b68b-97e4f04c11f8\" xlink:actuate=\"onRequest\" xlink:href=\"psysml:26b0c0e9-c7c6-4e19-b68b-97e4f04c11f8\" xlink:show=\"new\" xlink:title=\"psysml:26b0c0e9-c7c6-4e19-b68b-97e4f04c11f8\" xlink:type=\"simple\"><rect fill=\"#FFFFFF\" height=\"45.9375\" id=\"E12\" rx=\"10\" ry=\"10\" style=\"stroke: #383838; stroke-width: 1.5;\" width=\"168\" x=\"52\" y=\"148\"/><text fill=\"#000000\" font-family=\"sans-serif\" font-size=\"12\" font-style=\"italic\" lengthAdjust=\"spacingAndGlyphs\" textLength=\"64\" x=\"104\" y=\"164.1387\">«analysis»</text><text fill=\"#000000\" font-family=\"sans-serif\" font-size=\"12\" lengthAdjust=\"spacingAndGlyphs\" textLength=\"162\" x=\"55\" y=\"178.1074\">analysisPlan: AnalysisPlan</text><line style=\"stroke: #383838; stroke-width: 1.5;\" x1=\"53\" x2=\"219\" y1=\"185.9375\" y2=\"185.9375\"/></a><!--MD5=[ee3c913d1a06f366521f9ef512b67efe]\n",
       "class E13--><a href=\"psysml:a55f605c-cc05-4fcd-b9b1-1e930756e010\" target=\"_top\" title=\"psysml:a55f605c-cc05-4fcd-b9b1-1e930756e010\" xlink:actuate=\"onRequest\" xlink:href=\"psysml:a55f605c-cc05-4fcd-b9b1-1e930756e010\" xlink:show=\"new\" xlink:title=\"psysml:a55f605c-cc05-4fcd-b9b1-1e930756e010\" xlink:type=\"simple\"><rect fill=\"#FFFFFF\" height=\"45.9375\" id=\"E13\" rx=\"10\" ry=\"10\" style=\"stroke: #383838; stroke-width: 1.5;\" width=\"93\" x=\"196.5\" y=\"271\"/><text fill=\"#000000\" font-family=\"sans-serif\" font-size=\"12\" font-style=\"italic\" lengthAdjust=\"spacingAndGlyphs\" textLength=\"91\" x=\"197.5\" y=\"287.1387\">«requirement»</text><text fill=\"#000000\" font-family=\"sans-serif\" font-size=\"12\" lengthAdjust=\"spacingAndGlyphs\" textLength=\"19\" x=\"233.5\" y=\"301.1074\">obj</text><line style=\"stroke: #383838; stroke-width: 1.5;\" x1=\"197.5\" x2=\"288.5\" y1=\"308.9375\" y2=\"308.9375\"/></a><!--MD5=[05d275557350bfb9b23a4ef7222b4c39]\n",
       "link E3 to E2--><a href=\"psysml:4553bbf6-343c-42bd-a219-72e0d50d2170\" target=\"_top\" title=\"psysml:4553bbf6-343c-42bd-a219-72e0d50d2170\" xlink:actuate=\"onRequest\" xlink:href=\"psysml:4553bbf6-343c-42bd-a219-72e0d50d2170\" xlink:show=\"new\" xlink:title=\"psysml:4553bbf6-343c-42bd-a219-72e0d50d2170\" xlink:type=\"simple\"><path d=\"M206.92,577.88 C186.63,593.18 159,614 159,614 C159,614 158.11,626.3 157.08,640.51 \" fill=\"none\" id=\"E3-&gt;E2\" style=\"stroke: #383838; stroke-width: 1.0;\"/><polygon fill=\"#FFFFFF\" points=\"155.61,660.79,150.0122,641.3307,163.975,642.3502,155.61,660.79\" style=\"stroke: #383838; stroke-width: 1.0;\"/><ellipse cx=\"152.4219\" cy=\"635.7915\" fill=\"#383838\" rx=\"2\" ry=\"2\" style=\"stroke: #383838; stroke-width: 1.0;\"/><ellipse cx=\"162.3954\" cy=\"636.5197\" fill=\"#383838\" rx=\"2\" ry=\"2\" style=\"stroke: #383838; stroke-width: 1.0;\"/></a><!--MD5=[15ebcb19ae302d9b601edb458606d402]\n",
       "link E5 to E2--><a href=\"psysml:55d14872-2cf4-45ef-b86e-776491343885\" target=\"_top\" title=\"psysml:55d14872-2cf4-45ef-b86e-776491343885\" xlink:actuate=\"onRequest\" xlink:href=\"psysml:55d14872-2cf4-45ef-b86e-776491343885\" xlink:show=\"new\" xlink:title=\"psysml:55d14872-2cf4-45ef-b86e-776491343885\" xlink:type=\"simple\"><path d=\"M291.26,584.05 C267,598.23 240,614 240,614 C240,614 210.35,637.79 185.87,657.43 \" fill=\"none\" id=\"E5-&gt;E2\" style=\"stroke: #383838; stroke-width: 1.0; stroke-dasharray: 7.0,7.0;\"/><polygon fill=\"#383838\" points=\"181.68,660.79,191.2032,658.2785,185.5802,657.6613,186.1973,652.0382,181.68,660.79\" style=\"stroke: #383838; stroke-width: 1.0;\"/><text fill=\"#000000\" font-family=\"sans-serif\" font-size=\"13\" lengthAdjust=\"spacingAndGlyphs\" textLength=\"62\" x=\"241\" y=\"627.0669\">«subject»</text></a><!--MD5=[9120cf2e5df3bff93db8f754bbbc09b4]\n",
       "link E5 to E6--><a href=\"psysml:66eb83d5-c5e2-4f23-b460-3cc53e216041\" target=\"_top\" title=\"psysml:66eb83d5-c5e2-4f23-b460-3cc53e216041\" xlink:actuate=\"onRequest\" xlink:href=\"psysml:66eb83d5-c5e2-4f23-b460-3cc53e216041\" xlink:show=\"new\" xlink:title=\"psysml:66eb83d5-c5e2-4f23-b460-3cc53e216041\" xlink:type=\"simple\"><path d=\"M323.5,584.19 C318.7,603.55 311.69,631.8 306.4,653.14 \" fill=\"none\" id=\"E5-&gt;E6\" style=\"stroke: #383838; stroke-width: 1.0;\"/><polygon fill=\"#383838\" points=\"304.47,660.95,309.3116,653.9102,303.4888,652.4625,304.47,660.95\" style=\"stroke: #383838; stroke-width: 1.0;\"/><text fill=\"#000000\" font-family=\"sans-serif\" font-size=\"13\" lengthAdjust=\"spacingAndGlyphs\" textLength=\"73\" x=\"316\" y=\"627.0669\">«objective»</text></a><!--MD5=[f667431f98296947986a1a7595a31603]\n",
       "link E6 to E4--><a href=\"psysml:35160ff3-34f1-44b9-93fc-42f4fb412225\" target=\"_top\" title=\"psysml:35160ff3-34f1-44b9-93fc-42f4fb412225\" xlink:actuate=\"onRequest\" xlink:href=\"psysml:35160ff3-34f1-44b9-93fc-42f4fb412225\" xlink:show=\"new\" xlink:title=\"psysml:35160ff3-34f1-44b9-93fc-42f4fb412225\" xlink:type=\"simple\"><path d=\"M299,707.27 C299,718.81 299,733.43 299,747.66 \" fill=\"none\" id=\"E6-&gt;E4\" style=\"stroke: #383838; stroke-width: 1.0;\"/><polygon fill=\"#FFFFFF\" points=\"299,767.81,292,748.81,306,748.81,299,767.81\" style=\"stroke: #383838; stroke-width: 1.0;\"/><ellipse cx=\"294\" cy=\"743.11\" fill=\"#383838\" rx=\"2\" ry=\"2\" style=\"stroke: #383838; stroke-width: 1.0;\"/><ellipse cx=\"304\" cy=\"743.11\" fill=\"#383838\" rx=\"2\" ry=\"2\" style=\"stroke: #383838; stroke-width: 1.0;\"/></a><!--MD5=[583832df87f4419a098336a29a52fa00]\n",
       "link E7 to E2--><a href=\"psysml:6c24e69d-02cf-4e90-8710-eea2d3fb6e80\" target=\"_top\" title=\"psysml:6c24e69d-02cf-4e90-8710-eea2d3fb6e80\" xlink:actuate=\"onRequest\" xlink:href=\"psysml:6c24e69d-02cf-4e90-8710-eea2d3fb6e80\" xlink:show=\"new\" xlink:title=\"psysml:6c24e69d-02cf-4e90-8710-eea2d3fb6e80\" xlink:type=\"simple\"><path d=\"M101.48,317.46 C82.59,346.67 52,394 52,394 C52,394 52,461 52,461 C52,461 61,584 61,584 C61,584 101.72,627.35 129.27,656.67 \" fill=\"none\" id=\"E7-&gt;E2\" style=\"stroke: #383838; stroke-width: 1.0; stroke-dasharray: 7.0,7.0;\"/><polygon fill=\"#383838\" points=\"132.9,660.54,129.6445,651.2447,129.4732,656.899,123.8189,656.7277,132.9,660.54\" style=\"stroke: #383838; stroke-width: 1.0;\"/><text fill=\"#000000\" font-family=\"sans-serif\" font-size=\"13\" lengthAdjust=\"spacingAndGlyphs\" textLength=\"62\" x=\"56\" y=\"504.0669\">«subject»</text></a><!--MD5=[79bc8f324ef4d02c541433f2e6e513c3]\n",
       "link E7 to E8--><a href=\"psysml:5f63fe39-bd01-4e2f-b177-a256ca3547ed\" target=\"_top\" title=\"psysml:5f63fe39-bd01-4e2f-b177-a256ca3547ed\" xlink:actuate=\"onRequest\" xlink:href=\"psysml:5f63fe39-bd01-4e2f-b177-a256ca3547ed\" xlink:show=\"new\" xlink:title=\"psysml:5f63fe39-bd01-4e2f-b177-a256ca3547ed\" xlink:type=\"simple\"><path d=\"M116,317.01 C116,335.7 116,363.02 116,385.69 \" fill=\"none\" id=\"E7-&gt;E8\" style=\"stroke: #383838; stroke-width: 1.0;\"/><polygon fill=\"#383838\" points=\"116,393.81,119,385.81,113,385.81,116,393.81\" style=\"stroke: #383838; stroke-width: 1.0;\"/><text fill=\"#000000\" font-family=\"sans-serif\" font-size=\"13\" lengthAdjust=\"spacingAndGlyphs\" textLength=\"73\" x=\"117\" y=\"360.0669\">«objective»</text><text fill=\"#000000\" font-family=\"sans-serif\" font-size=\"13\" lengthAdjust=\"spacingAndGlyphs\" textLength=\"8\" x=\"107.2125\" y=\"382.8061\">1</text></a><!--MD5=[e4a10ef82d0e328e31cac39a31e58dda]\n",
       "reverse link E7 to E9--><a href=\"psysml:0539f402-c799-478a-a763-36444c838111\" target=\"_top\" title=\"psysml:0539f402-c799-478a-a763-36444c838111\" xlink:actuate=\"onRequest\" xlink:href=\"psysml:0539f402-c799-478a-a763-36444c838111\" xlink:show=\"new\" xlink:title=\"psysml:0539f402-c799-478a-a763-36444c838111\" xlink:type=\"simple\"><path d=\"M162.42,324.08 C181.41,335.98 199,347 199,347 C199,347 236.02,380.83 261.77,404.35 \" fill=\"none\" id=\"E7&lt;-E9\" style=\"stroke: #383838; stroke-width: 1.0;\"/><polygon fill=\"#383838\" points=\"151.2,317.05,154.1611,323.6251,161.3693,323.4207,158.4082,316.8456,151.2,317.05\" style=\"stroke: #383838; stroke-width: 1.0;\"/></a><!--MD5=[bfc3ddf2e613be37104f658f09af896c]\n",
       "link E9 to E5--><a href=\"psysml:5fa585d6-e8aa-4013-b88d-119f555331de\" target=\"_top\" title=\"psysml:5fa585d6-e8aa-4013-b88d-119f555331de\" xlink:actuate=\"onRequest\" xlink:href=\"psysml:5fa585d6-e8aa-4013-b88d-119f555331de\" xlink:show=\"new\" xlink:title=\"psysml:5fa585d6-e8aa-4013-b88d-119f555331de\" xlink:type=\"simple\"><path d=\"M293.2,450.51 C299.27,469.1 308.14,496.21 315.53,518.81 \" fill=\"none\" id=\"E9-&gt;E5\" style=\"stroke: #383838; stroke-width: 1.0;\"/><polygon fill=\"#FFFFFF\" points=\"321.78,537.92,309.2239,522.0346,322.5313,517.6855,321.78,537.92\" style=\"stroke: #383838; stroke-width: 1.0;\"/><ellipse cx=\"309.3543\" cy=\"515.9953\" fill=\"#383838\" rx=\"2\" ry=\"2\" style=\"stroke: #383838; stroke-width: 1.0;\"/><ellipse cx=\"318.8595\" cy=\"512.8888\" fill=\"#383838\" rx=\"2\" ry=\"2\" style=\"stroke: #383838; stroke-width: 1.0;\"/></a><!--MD5=[35e5f1cbde42fa304a029880aa2bc7f2]\n",
       "link E9 to E10--><a href=\"psysml:7fa56b0a-037d-44be-9e3a-456886c00dd1\" target=\"_top\" title=\"psysml:7fa56b0a-037d-44be-9e3a-456886c00dd1\" xlink:actuate=\"onRequest\" xlink:href=\"psysml:7fa56b0a-037d-44be-9e3a-456886c00dd1\" xlink:show=\"new\" xlink:title=\"psysml:7fa56b0a-037d-44be-9e3a-456886c00dd1\" xlink:type=\"simple\"><path d=\"M259.05,450.51 C231.42,473.08 188.39,508.23 158.56,532.59 \" fill=\"none\" id=\"E9-&gt;E10\" style=\"stroke: #383838; stroke-width: 1.0;\"/><polygon fill=\"#383838\" points=\"152.04,537.92,160.1355,535.1882,156.3431,530.5387,152.04,537.92\" style=\"stroke: #383838; stroke-width: 1.0;\"/><text fill=\"#000000\" font-family=\"sans-serif\" font-size=\"13\" lengthAdjust=\"spacingAndGlyphs\" textLength=\"73\" x=\"206\" y=\"504.0669\">«objective»</text></a><!--MD5=[94adabc162ce7e41b39f13be14fbaeb3]\n",
       "reverse link E11 to E12--><a href=\"psysml:cf81c84a-d20a-4a9d-8212-c3de89ec9ad0\" target=\"_top\" title=\"psysml:cf81c84a-d20a-4a9d-8212-c3de89ec9ad0\" xlink:actuate=\"onRequest\" xlink:href=\"psysml:cf81c84a-d20a-4a9d-8212-c3de89ec9ad0\" xlink:show=\"new\" xlink:title=\"psysml:cf81c84a-d20a-4a9d-8212-c3de89ec9ad0\" xlink:type=\"simple\"><path d=\"M136,100.05 C136,115.76 136,133.82 136,147.66 \" fill=\"none\" id=\"E11&lt;-E12\" style=\"stroke: #383838; stroke-width: 1.0;\"/><polygon fill=\"#383838\" points=\"136,87.01,132,93.01,136,99.01,140,93.01,136,87.01\" style=\"stroke: #383838; stroke-width: 1.0;\"/></a><!--MD5=[ae660f5ecd7ddb04a8913625960940af]\n",
       "link E12 to E7--><a href=\"psysml:31ecf0da-b030-4520-be0f-3ece1376fb5f\" target=\"_top\" title=\"psysml:31ecf0da-b030-4520-be0f-3ece1376fb5f\" xlink:actuate=\"onRequest\" xlink:href=\"psysml:31ecf0da-b030-4520-be0f-3ece1376fb5f\" xlink:show=\"new\" xlink:title=\"psysml:31ecf0da-b030-4520-be0f-3ece1376fb5f\" xlink:type=\"simple\"><path d=\"M132.33,194.19 C129.71,210.06 126.1,231.89 122.94,250.99 \" fill=\"none\" id=\"E12-&gt;E7\" style=\"stroke: #383838; stroke-width: 1.0;\"/><polygon fill=\"#FFFFFF\" points=\"119.65,270.95,115.8525,251.0608,129.6639,253.3511,119.65,270.95\" style=\"stroke: #383838; stroke-width: 1.0;\"/><ellipse cx=\"118.758\" cy=\"245.7648\" fill=\"#383838\" rx=\"2\" ry=\"2\" style=\"stroke: #383838; stroke-width: 1.0;\"/><ellipse cx=\"128.6233\" cy=\"247.4007\" fill=\"#383838\" rx=\"2\" ry=\"2\" style=\"stroke: #383838; stroke-width: 1.0;\"/></a><!--MD5=[e2a9ac97dcd3257bb5342dae06547bad]\n",
       "link E12 to E13--><a href=\"psysml:aa3a7955-6ed3-447d-b0ee-a09ada8803a4\" target=\"_top\" title=\"psysml:aa3a7955-6ed3-447d-b0ee-a09ada8803a4\" xlink:actuate=\"onRequest\" xlink:href=\"psysml:aa3a7955-6ed3-447d-b0ee-a09ada8803a4\" xlink:show=\"new\" xlink:title=\"psysml:aa3a7955-6ed3-447d-b0ee-a09ada8803a4\" xlink:type=\"simple\"><path d=\"M155.63,194.19 C173.2,214.06 199.05,243.3 218.08,264.82 \" fill=\"none\" id=\"E12-&gt;E13\" style=\"stroke: #383838; stroke-width: 1.0;\"/><polygon fill=\"#383838\" points=\"223.5,270.95,220.4521,262.9681,215.9553,266.9403,223.5,270.95\" style=\"stroke: #383838; stroke-width: 1.0;\"/><text fill=\"#000000\" font-family=\"sans-serif\" font-size=\"13\" lengthAdjust=\"spacingAndGlyphs\" textLength=\"73\" x=\"196\" y=\"237.0669\">«objective»</text><text fill=\"#000000\" font-family=\"sans-serif\" font-size=\"13\" lengthAdjust=\"spacingAndGlyphs\" textLength=\"8\" x=\"209.1844\" y=\"259.8328\">1</text></a><!--MD5=[1f859e36d843c228e2a4c1e3feab715e]\n",
       "@startuml\r\n",
       "skinparam linetype polyline\r\n",
       "skinparam monochrome true\r\n",
       "skinparam classbackgroundcolor white\r\n",
       "skinparam shadowing false\r\n",
       "skinparam wrapWidth 300\r\n",
       "hide circle\r\n",
       "\r\n",
       "package \"AnalysisTest\" as E1  [[psysml:f5546318-5597-445e-83af-957575abd1f7 ]]  {\r\n",
       "comp def \"V\" as E2  <<(T,blue) part def>> [[psysml:df856138-3406-4a6b-b583-20ed5eacc0cd ]] {\r\n",
       "}\r\n",
       "comp usage \"vv: V\" as E3  <<(T,blue) part>> [[psysml:a14948af-c637-432a-b299-badb5d3ced27 ]] {\r\n",
       "}\r\n",
       "comp def \"AnalysisObjective\" as E4  <<(T,blue) requirement def>> [[psysml:b06c710d-6070-489f-855d-95835f572a57 ]] {\r\n",
       "...\r\n",
       "- -\r\n",
       "}\r\n",
       "comp def \"AnalysisCase\" as E5 << analysis def>> [[psysml:e9833d01-8fa8-4820-af73-47d7be444de9 ]] {\r\n",
       "}\r\n",
       "comp usage \"obj: AnalysisObjective\" as E6  <<(T,blue) requirement>> [[psysml:5d02fb37-4730-4ed2-b0a0-8fa990128639 ]] {\r\n",
       "}\r\n",
       "comp def \"AnalysisPlan\" as E7 << analysis def>> [[psysml:8a4520e8-ac51-4a2a-8007-cfc5f8084f42 ]] {\r\n",
       "}\r\n",
       "comp usage \"obj\" as E8  <<(T,blue) requirement>> [[psysml:c9e778b5-528f-48e8-8904-91782dcf8fb6 ]] {\r\n",
       "...\r\n",
       "- -\r\n",
       "}\r\n",
       "comp usage \"analysisCase: AnalysisCase\" as E9 << analysis>> [[psysml:ef775355-9069-4551-a021-5839d9673f3d ]] {\r\n",
       "}\r\n",
       "comp usage \"obj\" as E10  <<(T,blue) requirement>> [[psysml:37fc8968-437f-41f6-96b6-577444b5c586 ]] {\r\n",
       "}\r\n",
       "comp usage \"analysisContext\" as E11  <<(T,blue) part>> [[psysml:e127547d-9ca6-4380-b459-796effe0b56f ]] {\r\n",
       "}\r\n",
       "comp usage \"analysisPlan: AnalysisPlan\" as E12 << analysis>> [[psysml:26b0c0e9-c7c6-4e19-b68b-97e4f04c11f8 ]] {\r\n",
       "}\r\n",
       "comp usage \"obj\" as E13  <<(T,blue) requirement>> [[psysml:a55f605c-cc05-4fcd-b9b1-1e930756e010 ]] {\r\n",
       "}\r\n",
       "}\r\n",
       "E3 - -:|> E2 [[psysml:4553bbf6-343c-42bd-a219-72e0d50d2170 ]] \r\n",
       "E5 ..> E2 [[psysml:55d14872-2cf4-45ef-b86e-776491343885 ]] : <<subject>>\r\n",
       "E5 - ->> E6 [[psysml:66eb83d5-c5e2-4f23-b460-3cc53e216041 ]] : <<objective>>\r\n",
       "E6 - -:|> E4 [[psysml:35160ff3-34f1-44b9-93fc-42f4fb412225 ]] \r\n",
       "E7 ..> E2 [[psysml:6c24e69d-02cf-4e90-8710-eea2d3fb6e80 ]] : <<subject>>\r\n",
       "E7 - ->> \"1\"E8 [[psysml:5f63fe39-bd01-4e2f-b177-a256ca3547ed ]] : <<objective>>\r\n",
       "E7 *- - E9 [[psysml:0539f402-c799-478a-a763-36444c838111 ]] \r\n",
       "E9 - -:|> E5 [[psysml:5fa585d6-e8aa-4013-b88d-119f555331de ]] \r\n",
       "E9 - ->> E10 [[psysml:7fa56b0a-037d-44be-9e3a-456886c00dd1 ]] : <<objective>>\r\n",
       "E11 *- - E12 [[psysml:cf81c84a-d20a-4a9d-8212-c3de89ec9ad0 ]] \r\n",
       "E12 - -:|> E7 [[psysml:31ecf0da-b030-4520-be0f-3ece1376fb5f ]] \r\n",
       "E12 - ->> \"1\"E13 [[psysml:aa3a7955-6ed3-447d-b0ee-a09ada8803a4 ]] : <<objective>>\r\n",
       "@enduml\r\n",
       "\n",
       "PlantUML version 1.2020.13(Sat Jun 13 12:26:38 UTC 2020)\n",
       "(EPL source distribution)\n",
       "Java Runtime: OpenJDK Runtime Environment\n",
       "JVM: OpenJDK 64-Bit Server VM\n",
       "Default Encoding: UTF-8\n",
       "Language: en\n",
       "Country: null\n",
       "--></g></svg>"
      ]
     },
     "execution_count": 10,
     "metadata": {},
     "output_type": "execute_result"
    }
   ],
   "source": [
    "%viz --style=\"POLYLINE\" --view=\"Tree\" \"AnalysisTest\""
   ]
  },
  {
   "cell_type": "code",
   "execution_count": 11,
   "id": "8d4de7d7",
   "metadata": {
    "execution": {
     "iopub.execute_input": "2021-09-27T07:15:28.959049Z",
     "iopub.status.busy": "2021-09-27T07:15:28.958640Z",
     "iopub.status.idle": "2021-09-27T07:15:28.965143Z",
     "shell.execute_reply": "2021-09-27T07:15:28.965462Z"
    }
   },
   "outputs": [
    {
     "data": {
      "image/svg+xml": [
       "<?xml version=\"1.0\" encoding=\"UTF-8\" standalone=\"no\"?><svg xmlns=\"http://www.w3.org/2000/svg\" xmlns:xlink=\"http://www.w3.org/1999/xlink\" contentScriptType=\"application/ecmascript\" contentStyleType=\"text/css\" height=\"12px\" preserveAspectRatio=\"none\" style=\"width:12px;height:12px;\" version=\"1.1\" viewBox=\"0 0 12 12\" width=\"12px\" zoomAndPan=\"magnify\"><defs/><g><!--MD5=[896ac0e7a515d8dd7765a661cb4ee08b]\n",
       "@startuml\r\n",
       "skinparam linetype polyline\r\n",
       "skinparam monochrome true\r\n",
       "skinparam classbackgroundcolor white\r\n",
       "skinparam shadowing false\r\n",
       "skinparam wrapWidth 300\r\n",
       "hide circle\r\n",
       "\r\n",
       "@enduml\r\n",
       "\n",
       "PlantUML version 1.2020.13(Sat Jun 13 12:26:38 UTC 2020)\n",
       "(EPL source distribution)\n",
       "Java Runtime: OpenJDK Runtime Environment\n",
       "JVM: OpenJDK 64-Bit Server VM\n",
       "Default Encoding: UTF-8\n",
       "Language: en\n",
       "Country: null\n",
       "--></g></svg>"
      ]
     },
     "execution_count": 11,
     "metadata": {},
     "output_type": "execute_result"
    }
   ],
   "source": [
    "%viz --style=\"POLYLINE\" --view=\"State\" \"AnalysisTest\""
   ]
  },
  {
   "cell_type": "code",
   "execution_count": 12,
   "id": "ad121694",
   "metadata": {
    "execution": {
     "iopub.execute_input": "2021-09-27T07:15:29.016026Z",
     "iopub.status.busy": "2021-09-27T07:15:29.015613Z",
     "iopub.status.idle": "2021-09-27T07:15:29.083014Z",
     "shell.execute_reply": "2021-09-27T07:15:29.082643Z"
    }
   },
   "outputs": [
    {
     "data": {
      "image/svg+xml": [
       "<?xml version=\"1.0\" encoding=\"UTF-8\" standalone=\"no\"?><svg xmlns=\"http://www.w3.org/2000/svg\" xmlns:xlink=\"http://www.w3.org/1999/xlink\" contentScriptType=\"application/ecmascript\" contentStyleType=\"text/css\" height=\"446px\" preserveAspectRatio=\"none\" style=\"width:1120px;height:446px;\" version=\"1.1\" viewBox=\"0 0 1120 446\" width=\"1120px\" zoomAndPan=\"magnify\"><defs/><g><!--MD5=[fbc87193dbaf4d95561dea2c320d4a47]\n",
       "cluster E1--><a href=\"psysml:f5546318-5597-445e-83af-957575abd1f7\" target=\"_top\" title=\"psysml:f5546318-5597-445e-83af-957575abd1f7\" xlink:actuate=\"onRequest\" xlink:href=\"psysml:f5546318-5597-445e-83af-957575abd1f7\" xlink:show=\"new\" xlink:title=\"psysml:f5546318-5597-445e-83af-957575abd1f7\" xlink:type=\"simple\"><polygon fill=\"#FFFFFF\" points=\"16,6,108,6,115,28.2969,1098,28.2969,1098,434.86,16,434.86,16,6\" style=\"stroke: #000000; stroke-width: 1.5;\"/><line style=\"stroke: #000000; stroke-width: 1.5;\" x1=\"16\" x2=\"115\" y1=\"28.2969\" y2=\"28.2969\"/><text fill=\"#000000\" font-family=\"sans-serif\" font-size=\"14\" font-weight=\"bold\" lengthAdjust=\"spacingAndGlyphs\" textLength=\"86\" x=\"20\" y=\"20.9951\">AnalysisTest</text></a><!--MD5=[de5ec2e2e8f62f467e546659f5068c88]\n",
       "cluster E5--><a href=\"psysml:e9833d01-8fa8-4820-af73-47d7be444de9\" target=\"_top\" title=\"psysml:e9833d01-8fa8-4820-af73-47d7be444de9\" xlink:actuate=\"onRequest\" xlink:href=\"psysml:e9833d01-8fa8-4820-af73-47d7be444de9\" xlink:show=\"new\" xlink:title=\"psysml:e9833d01-8fa8-4820-af73-47d7be444de9\" xlink:type=\"simple\"><rect fill=\"#FFFFFF\" height=\"228.86\" id=\"E5\" style=\"stroke: #383838; stroke-width: 1.5;\" width=\"146\" x=\"936\" y=\"107\"/><rect fill=\"#F8F8F8\" height=\"37.9375\" style=\"stroke: #383838; stroke-width: 1.5;\" width=\"146\" x=\"936\" y=\"107\"/><text fill=\"#000000\" font-family=\"sans-serif\" font-size=\"12\" font-style=\"italic\" lengthAdjust=\"spacingAndGlyphs\" textLength=\"88\" x=\"965\" y=\"123.1387\">«analysis def»</text><text fill=\"#000000\" font-family=\"sans-serif\" font-size=\"12\" lengthAdjust=\"spacingAndGlyphs\" textLength=\"81\" x=\"968.5\" y=\"137.1074\">AnalysisCase</text></a><!--MD5=[55dfccfc6c49c2d10cd1bd2211a6c90c]\n",
       "cluster E8--><a href=\"psysml:8a4520e8-ac51-4a2a-8007-cfc5f8084f42\" target=\"_top\" title=\"psysml:8a4520e8-ac51-4a2a-8007-cfc5f8084f42\" xlink:actuate=\"onRequest\" xlink:href=\"psysml:8a4520e8-ac51-4a2a-8007-cfc5f8084f42\" xlink:show=\"new\" xlink:title=\"psysml:8a4520e8-ac51-4a2a-8007-cfc5f8084f42\" xlink:type=\"simple\"><rect fill=\"#FFFFFF\" height=\"303.86\" id=\"E8\" style=\"stroke: #383838; stroke-width: 1.5;\" width=\"259\" x=\"647\" y=\"107\"/><rect fill=\"#F8F8F8\" height=\"37.9375\" style=\"stroke: #383838; stroke-width: 1.5;\" width=\"259\" x=\"647\" y=\"107\"/><text fill=\"#000000\" font-family=\"sans-serif\" font-size=\"12\" font-style=\"italic\" lengthAdjust=\"spacingAndGlyphs\" textLength=\"88\" x=\"732.5\" y=\"123.1387\">«analysis def»</text><text fill=\"#000000\" font-family=\"sans-serif\" font-size=\"12\" lengthAdjust=\"spacingAndGlyphs\" textLength=\"77\" x=\"738\" y=\"137.1074\">AnalysisPlan</text></a><!--MD5=[a84b4591f868c1fa4a211716a82f2f0d]\n",
       "cluster E10--><a href=\"psysml:ef775355-9069-4551-a021-5839d9673f3d\" target=\"_top\" title=\"psysml:ef775355-9069-4551-a021-5839d9673f3d\" xlink:actuate=\"onRequest\" xlink:href=\"psysml:ef775355-9069-4551-a021-5839d9673f3d\" xlink:show=\"new\" xlink:title=\"psysml:ef775355-9069-4551-a021-5839d9673f3d\" xlink:type=\"simple\"><rect fill=\"#FFFFFF\" height=\"165.86\" id=\"E10\" rx=\"10\" ry=\"10\" style=\"stroke: #383838; stroke-width: 1.5;\" width=\"138\" x=\"730\" y=\"207\"/><rect fill=\"#F8F8F8\" height=\"37.9375\" rx=\"10\" ry=\"10\" style=\"stroke: #F8F8F8; stroke-width: 1.5;\" width=\"138\" x=\"730\" y=\"207\"/><rect fill=\"#F8F8F8\" height=\"10\" style=\"stroke: #F8F8F8; stroke-width: 1.5;\" width=\"138\" x=\"730\" y=\"234.9375\"/><rect fill=\"none\" height=\"165.86\" id=\"E10\" rx=\"10\" ry=\"10\" style=\"stroke: #383838; stroke-width: 1.5;\" width=\"138\" x=\"730\" y=\"207\"/><text fill=\"#000000\" font-family=\"sans-serif\" font-size=\"12\" font-style=\"italic\" lengthAdjust=\"spacingAndGlyphs\" textLength=\"64\" x=\"767\" y=\"223.1387\">«analysis»</text><text fill=\"#000000\" font-family=\"sans-serif\" font-size=\"12\" lengthAdjust=\"spacingAndGlyphs\" textLength=\"81\" x=\"758.5\" y=\"237.1074\">analysisCase</text><line style=\"stroke: #383838; stroke-width: 1.0;\" x1=\"730\" x2=\"868\" y1=\"244.9375\" y2=\"244.9375\"/></a><!--MD5=[bcf29f0808fc96f19b1afbee8cfc1f11]\n",
       "cluster E14--><a href=\"psysml:e127547d-9ca6-4380-b459-796effe0b56f\" target=\"_top\" title=\"psysml:e127547d-9ca6-4380-b459-796effe0b56f\" xlink:actuate=\"onRequest\" xlink:href=\"psysml:e127547d-9ca6-4380-b459-796effe0b56f\" xlink:show=\"new\" xlink:title=\"psysml:e127547d-9ca6-4380-b459-796effe0b56f\" xlink:type=\"simple\"><rect fill=\"#FFFFFF\" height=\"197\" id=\"E14\" rx=\"10\" ry=\"10\" style=\"stroke: #383838; stroke-width: 1.5;\" width=\"200\" x=\"360\" y=\"49\"/><rect fill=\"#F8F8F8\" height=\"23.9688\" rx=\"10\" ry=\"10\" style=\"stroke: #F8F8F8; stroke-width: 1.5;\" width=\"200\" x=\"360\" y=\"49\"/><rect fill=\"#F8F8F8\" height=\"10\" style=\"stroke: #F8F8F8; stroke-width: 1.5;\" width=\"200\" x=\"360\" y=\"62.9688\"/><rect fill=\"none\" height=\"197\" id=\"E14\" rx=\"10\" ry=\"10\" style=\"stroke: #383838; stroke-width: 1.5;\" width=\"200\" x=\"360\" y=\"49\"/><text fill=\"#000000\" font-family=\"sans-serif\" font-size=\"12\" lengthAdjust=\"spacingAndGlyphs\" textLength=\"98\" x=\"411\" y=\"65.1387\">analysisContext</text><line style=\"stroke: #383838; stroke-width: 1.0;\" x1=\"360\" x2=\"560\" y1=\"72.9688\" y2=\"72.9688\"/></a><!--MD5=[ebbe1d658d1005bcc118a6aa81145e00]\n",
       "class E4--><a href=\"psysml:b06c710d-6070-489f-855d-95835f572a57\" target=\"_top\" title=\"psysml:b06c710d-6070-489f-855d-95835f572a57\" xlink:actuate=\"onRequest\" xlink:href=\"psysml:b06c710d-6070-489f-855d-95835f572a57\" xlink:show=\"new\" xlink:title=\"psysml:b06c710d-6070-489f-855d-95835f572a57\" xlink:type=\"simple\"><rect fill=\"#FFFFFF\" height=\"66.7422\" id=\"E4\" style=\"stroke: #383838; stroke-width: 1.5;\" width=\"117\" x=\"223.5\" y=\"73.5\"/><text fill=\"#000000\" font-family=\"sans-serif\" font-size=\"12\" font-style=\"italic\" lengthAdjust=\"spacingAndGlyphs\" textLength=\"115\" x=\"224.5\" y=\"89.6387\">«requirement def»</text><text fill=\"#000000\" font-family=\"sans-serif\" font-size=\"12\" lengthAdjust=\"spacingAndGlyphs\" textLength=\"107\" x=\"228.5\" y=\"103.6074\">AnalysisObjective</text><line style=\"stroke: #383838; stroke-width: 1.5;\" x1=\"224.5\" x2=\"339.5\" y1=\"111.4375\" y2=\"111.4375\"/><text fill=\"#000000\" font-family=\"sans-serif\" font-size=\"11\" lengthAdjust=\"spacingAndGlyphs\" textLength=\"12\" x=\"229.5\" y=\"125.6479\">...</text><line style=\"stroke: #383838; stroke-width: 1.0;\" x1=\"224.5\" x2=\"339.5\" y1=\"132.2422\" y2=\"132.2422\"/></a><g id=\"E1.E2\"><a href=\"psysml:df856138-3406-4a6b-b583-20ed5eacc0cd\" target=\"_top\" title=\"psysml:df856138-3406-4a6b-b583-20ed5eacc0cd\" xlink:actuate=\"onRequest\" xlink:href=\"psysml:df856138-3406-4a6b-b583-20ed5eacc0cd\" xlink:show=\"new\" xlink:title=\"psysml:df856138-3406-4a6b-b583-20ed5eacc0cd\" xlink:type=\"simple\"><rect fill=\"#FFFFFF\" height=\"42.9375\" id=\"E2\" style=\"stroke: #383838; stroke-width: 1.5;\" width=\"71\" x=\"117.5\" y=\"85.5\"/><rect fill=\"#F8F8F8\" height=\"37.9375\" style=\"stroke: #383838; stroke-width: 1.5;\" width=\"71\" x=\"117.5\" y=\"85.5\"/><text fill=\"#000000\" font-family=\"sans-serif\" font-size=\"12\" font-style=\"italic\" lengthAdjust=\"spacingAndGlyphs\" textLength=\"64\" x=\"121\" y=\"101.6387\">«part def»</text><text fill=\"#000000\" font-family=\"sans-serif\" font-size=\"12\" lengthAdjust=\"spacingAndGlyphs\" textLength=\"8\" x=\"149\" y=\"115.6074\">V</text></a></g><g id=\"E1.E3\"><a href=\"psysml:a14948af-c637-432a-b299-badb5d3ced27\" target=\"_top\" title=\"psysml:a14948af-c637-432a-b299-badb5d3ced27\" xlink:actuate=\"onRequest\" xlink:href=\"psysml:a14948af-c637-432a-b299-badb5d3ced27\" xlink:show=\"new\" xlink:title=\"psysml:a14948af-c637-432a-b299-badb5d3ced27\" xlink:type=\"simple\"><rect fill=\"#FFFFFF\" height=\"40\" id=\"E3\" rx=\"10\" ry=\"10\" style=\"stroke: #383838; stroke-width: 1.5;\" width=\"50\" x=\"32\" y=\"87\"/><rect fill=\"#F8F8F8\" height=\"23.9688\" rx=\"10\" ry=\"10\" style=\"stroke: #F8F8F8; stroke-width: 1.5;\" width=\"50\" x=\"32\" y=\"87\"/><rect fill=\"#F8F8F8\" height=\"10\" style=\"stroke: #F8F8F8; stroke-width: 1.5;\" width=\"50\" x=\"32\" y=\"100.9688\"/><rect fill=\"none\" height=\"40\" id=\"E3\" rx=\"10\" ry=\"10\" style=\"stroke: #383838; stroke-width: 1.5;\" width=\"50\" x=\"32\" y=\"87\"/><text fill=\"#000000\" font-family=\"sans-serif\" font-size=\"12\" lengthAdjust=\"spacingAndGlyphs\" textLength=\"28\" x=\"43\" y=\"103.1387\">vv: V</text></a></g><text fill=\"#000000\" font-family=\"sans-serif\" font-size=\"14\" lengthAdjust=\"spacingAndGlyphs\" textLength=\"7\" x=\"1005.5\" y=\"85.6982\">v</text><rect fill=\"#383838\" height=\"12\" style=\"stroke: #F8F8F8; stroke-width: 1.5;\" width=\"12\" x=\"1003\" y=\"101\"/><text fill=\"#000000\" font-family=\"sans-serif\" font-size=\"14\" lengthAdjust=\"spacingAndGlyphs\" textLength=\"39\" x=\"989.5\" y=\"354.8551\">result</text><rect fill=\"#383838\" height=\"12\" style=\"stroke: #F8F8F8; stroke-width: 1.5;\" width=\"12\" x=\"1003\" y=\"329.86\"/><text fill=\"#000000\" font-family=\"sans-serif\" font-size=\"14\" lengthAdjust=\"spacingAndGlyphs\" textLength=\"7\" x=\"661.5\" y=\"85.6982\">v</text><rect fill=\"#383838\" height=\"12\" style=\"stroke: #F8F8F8; stroke-width: 1.5;\" width=\"12\" x=\"659\" y=\"101\"/><text fill=\"#000000\" font-family=\"sans-serif\" font-size=\"14\" lengthAdjust=\"spacingAndGlyphs\" textLength=\"39\" x=\"886.5\" y=\"354.8551\">result</text><rect fill=\"#383838\" height=\"12\" style=\"stroke: #F8F8F8; stroke-width: 1.5;\" width=\"12\" x=\"900\" y=\"329.86\"/><text fill=\"#000000\" font-family=\"sans-serif\" font-size=\"14\" lengthAdjust=\"spacingAndGlyphs\" textLength=\"37\" x=\"780.5\" y=\"391.8551\">mass</text><rect fill=\"#383838\" height=\"12\" style=\"stroke: #F8F8F8; stroke-width: 1.5;\" width=\"12\" x=\"793\" y=\"366.86\"/><text fill=\"#000000\" font-family=\"sans-serif\" font-size=\"14\" lengthAdjust=\"spacingAndGlyphs\" textLength=\"7\" x=\"795.5\" y=\"185.6982\">v</text><rect fill=\"#383838\" height=\"12\" style=\"stroke: #F8F8F8; stroke-width: 1.5;\" width=\"12\" x=\"793\" y=\"201\"/><!--MD5=[0c48fb7552dae8cbbef69381101a84c8]\n",
       "class E15--><a href=\"psysml:26b0c0e9-c7c6-4e19-b68b-97e4f04c11f8\" target=\"_top\" title=\"psysml:26b0c0e9-c7c6-4e19-b68b-97e4f04c11f8\" xlink:actuate=\"onRequest\" xlink:href=\"psysml:26b0c0e9-c7c6-4e19-b68b-97e4f04c11f8\" xlink:show=\"new\" xlink:title=\"psysml:26b0c0e9-c7c6-4e19-b68b-97e4f04c11f8\" xlink:type=\"simple\"><rect fill=\"#FFFFFF\" height=\"45.9375\" id=\"E15\" rx=\"10\" ry=\"10\" style=\"stroke: #383838; stroke-width: 1.5;\" width=\"168\" x=\"376\" y=\"84\"/><text fill=\"#000000\" font-family=\"sans-serif\" font-size=\"12\" font-style=\"italic\" lengthAdjust=\"spacingAndGlyphs\" textLength=\"64\" x=\"428\" y=\"100.1387\">«analysis»</text><text fill=\"#000000\" font-family=\"sans-serif\" font-size=\"12\" lengthAdjust=\"spacingAndGlyphs\" textLength=\"162\" x=\"379\" y=\"114.1074\">analysisPlan: AnalysisPlan</text><line style=\"stroke: #383838; stroke-width: 1.5;\" x1=\"377\" x2=\"543\" y1=\"121.9375\" y2=\"121.9375\"/></a><!--MD5=[35f0587eaee8d5bb9a02e25b63afc23b]\n",
       "class E16--><a href=\"psysml:a55f605c-cc05-4fcd-b9b1-1e930756e010\" target=\"_top\" title=\"psysml:a55f605c-cc05-4fcd-b9b1-1e930756e010\" xlink:actuate=\"onRequest\" xlink:href=\"psysml:a55f605c-cc05-4fcd-b9b1-1e930756e010\" xlink:show=\"new\" xlink:title=\"psysml:a55f605c-cc05-4fcd-b9b1-1e930756e010\" xlink:type=\"simple\"><rect fill=\"#FFFFFF\" height=\"45.9375\" id=\"E16\" rx=\"10\" ry=\"10\" style=\"stroke: #383838; stroke-width: 1.5;\" width=\"93\" x=\"413.5\" y=\"184\"/><text fill=\"#000000\" font-family=\"sans-serif\" font-size=\"12\" font-style=\"italic\" lengthAdjust=\"spacingAndGlyphs\" textLength=\"91\" x=\"414.5\" y=\"200.1387\">«requirement»</text><text fill=\"#000000\" font-family=\"sans-serif\" font-size=\"12\" lengthAdjust=\"spacingAndGlyphs\" textLength=\"19\" x=\"450.5\" y=\"214.1074\">obj</text><line style=\"stroke: #383838; stroke-width: 1.5;\" x1=\"414.5\" x2=\"505.5\" y1=\"221.9375\" y2=\"221.9375\"/></a><!--MD5=[1b01d5b954197aaf3899ca0bde35faf5]\n",
       "link E15 to E8--><a href=\"psysml:31ecf0da-b030-4520-be0f-3ece1376fb5f\" target=\"_top\" title=\"psysml:31ecf0da-b030-4520-be0f-3ece1376fb5f\" xlink:actuate=\"onRequest\" xlink:href=\"psysml:31ecf0da-b030-4520-be0f-3ece1376fb5f\" xlink:show=\"new\" xlink:title=\"psysml:31ecf0da-b030-4520-be0f-3ece1376fb5f\" xlink:type=\"simple\"><path d=\"M506.26,130.12 C543.93,148.12 596.28,173.15 630.4,189.46 \" fill=\"none\" id=\"E15-&gt;E8\" style=\"stroke: #383838; stroke-width: 1.0;\"/><polygon fill=\"#FFFFFF\" points=\"630.4,189.46,610.2389,187.5813,616.2768,174.9502,630.4,189.46\" style=\"stroke: #383838; stroke-width: 1.0;\"/><ellipse cx=\"605.9588\" cy=\"183.3185\" fill=\"#383838\" rx=\"2\" ry=\"2\" style=\"stroke: #383838; stroke-width: 1.0;\"/><ellipse cx=\"610.2716\" cy=\"174.2963\" fill=\"#383838\" rx=\"2\" ry=\"2\" style=\"stroke: #383838; stroke-width: 1.0;\"/></a><!--MD5=[f8b155c46b092be73bb522b0a8fc72a2]\n",
       "link E15 to E16--><a href=\"psysml:aa3a7955-6ed3-447d-b0ee-a09ada8803a4\" target=\"_top\" title=\"psysml:aa3a7955-6ed3-447d-b0ee-a09ada8803a4\" xlink:actuate=\"onRequest\" xlink:href=\"psysml:aa3a7955-6ed3-447d-b0ee-a09ada8803a4\" xlink:show=\"new\" xlink:title=\"psysml:aa3a7955-6ed3-447d-b0ee-a09ada8803a4\" xlink:type=\"simple\"><path d=\"M460,130.24 C460,143.64 460,160.91 460,175.57 \" fill=\"none\" id=\"E15-&gt;E16\" style=\"stroke: #383838; stroke-width: 1.0;\"/><polygon fill=\"#383838\" points=\"460,183.85,463,175.85,457,175.85,460,183.85\" style=\"stroke: #383838; stroke-width: 1.0;\"/><text fill=\"#000000\" font-family=\"sans-serif\" font-size=\"13\" lengthAdjust=\"spacingAndGlyphs\" textLength=\"73\" x=\"461\" y=\"161.5669\">«objective»</text><text fill=\"#000000\" font-family=\"sans-serif\" font-size=\"13\" lengthAdjust=\"spacingAndGlyphs\" textLength=\"8\" x=\"450.975\" y=\"173.0879\">1</text></a><!--MD5=[0e6e2e39eda21e5a881c687d0968aa1c]\n",
       "@startuml\r\n",
       "skinparam ranksep 10\r\n",
       "skinparam rectangle {\r\n",
       " backgroundColor<<block>> LightGreen\r\n",
       "}\r\n",
       "skinparam linetype polyline\r\n",
       "skinparam monochrome true\r\n",
       "skinparam classbackgroundcolor white\r\n",
       "skinparam shadowing false\r\n",
       "skinparam wrapWidth 300\r\n",
       "hide circle\r\n",
       "\r\n",
       "package \"AnalysisTest\" as E1  [[psysml:f5546318-5597-445e-83af-957575abd1f7 ]]  {\r\n",
       "rec def \"V\" as E2  <<(T,blue) part def>> [[psysml:df856138-3406-4a6b-b583-20ed5eacc0cd ]] {\r\n",
       "}\r\n",
       "rec usage \"vv: V\" as E3  [[psysml:a14948af-c637-432a-b299-badb5d3ced27 ]] {\r\n",
       "}\r\n",
       "comp def \"AnalysisObjective\" as E4  <<(T,blue) requirement def>> [[psysml:b06c710d-6070-489f-855d-95835f572a57 ]] {\r\n",
       "...\r\n",
       "- -\r\n",
       "}\r\n",
       "rec def \"AnalysisCase\" as E5 << analysis def>> [[psysml:e9833d01-8fa8-4820-af73-47d7be444de9 ]] {\r\n",
       "portin \"v\" as E6  [[psysml:fc36d359-2f0c-4a32-9d15-fff2be0a8869 ]] \r\n",
       "portout \"result\" as E7  [[psysml:7ffbe20f-c891-4b52-987b-0be8eb99b87a ]] \r\n",
       "}\r\n",
       "\r\n",
       "rec def \"AnalysisPlan\" as E8 << analysis def>> [[psysml:8a4520e8-ac51-4a2a-8007-cfc5f8084f42 ]] {\r\n",
       "portin \"v\" as E9  [[psysml:7635dc34-c4d2-4388-b045-3a6cac182eef ]] \r\n",
       "rec usage \"analysisCase\" as E10 << analysis>> [[psysml:ef775355-9069-4551-a021-5839d9673f3d ]] {\r\n",
       "portout \"mass\" as E11  [[psysml:56f340db-5793-4dc6-898e-9e0a5f90ef66 ]] \r\n",
       "portin \"v\" as E12  [[psysml:d8dc3b58-26c5-4e6e-82f3-a4f0880c0fd9 ]] \r\n",
       "}\r\n",
       "\r\n",
       "portout \"result\" as E13  [[psysml:55ba6aa8-4536-4622-ad3c-e7c6595a0034 ]] \r\n",
       "}\r\n",
       "\r\n",
       "rec usage \"analysisContext\" as E14  [[psysml:e127547d-9ca6-4380-b459-796effe0b56f ]] {\r\n",
       "comp usage \"analysisPlan: AnalysisPlan\" as E15 << analysis>> [[psysml:26b0c0e9-c7c6-4e19-b68b-97e4f04c11f8 ]] {\r\n",
       "}\r\n",
       "comp usage \"obj\" as E16  <<(T,blue) requirement>> [[psysml:a55f605c-cc05-4fcd-b9b1-1e930756e010 ]] {\r\n",
       "}\r\n",
       "}\r\n",
       "}\r\n",
       "E15 - -:|> E8 [[psysml:31ecf0da-b030-4520-be0f-3ece1376fb5f ]] \r\n",
       "E15 - ->> \"1\"E16 [[psysml:aa3a7955-6ed3-447d-b0ee-a09ada8803a4 ]] : <<objective>>\r\n",
       "@enduml\r\n",
       "\n",
       "PlantUML version 1.2020.13(Sat Jun 13 12:26:38 UTC 2020)\n",
       "(EPL source distribution)\n",
       "Java Runtime: OpenJDK Runtime Environment\n",
       "JVM: OpenJDK 64-Bit Server VM\n",
       "Default Encoding: UTF-8\n",
       "Language: en\n",
       "Country: null\n",
       "--></g></svg>"
      ]
     },
     "execution_count": 12,
     "metadata": {},
     "output_type": "execute_result"
    }
   ],
   "source": [
    "%viz --style=\"POLYLINE\" --view=\"Interconnection\" \"AnalysisTest\""
   ]
  },
  {
   "cell_type": "code",
   "execution_count": 13,
   "id": "c5b76f76",
   "metadata": {
    "execution": {
     "iopub.execute_input": "2021-09-27T07:15:29.132720Z",
     "iopub.status.busy": "2021-09-27T07:15:29.132316Z",
     "iopub.status.idle": "2021-09-27T07:15:29.176455Z",
     "shell.execute_reply": "2021-09-27T07:15:29.176779Z"
    }
   },
   "outputs": [
    {
     "data": {
      "image/svg+xml": [
       "<?xml version=\"1.0\" encoding=\"UTF-8\" standalone=\"no\"?><svg xmlns=\"http://www.w3.org/2000/svg\" xmlns:xlink=\"http://www.w3.org/1999/xlink\" contentScriptType=\"application/ecmascript\" contentStyleType=\"text/css\" height=\"233px\" preserveAspectRatio=\"none\" style=\"width:649px;height:233px;\" version=\"1.1\" viewBox=\"0 0 649 233\" width=\"649px\" zoomAndPan=\"magnify\"><defs/><g><!--MD5=[fbc87193dbaf4d95561dea2c320d4a47]\n",
       "cluster E1--><a href=\"psysml:e9833d01-8fa8-4820-af73-47d7be444de9\" target=\"_top\" title=\"psysml:e9833d01-8fa8-4820-af73-47d7be444de9\" xlink:actuate=\"onRequest\" xlink:href=\"psysml:e9833d01-8fa8-4820-af73-47d7be444de9\" xlink:show=\"new\" xlink:title=\"psysml:e9833d01-8fa8-4820-af73-47d7be444de9\" xlink:type=\"simple\"><rect fill=\"#FFFFFF\" height=\"122\" id=\"E1\" style=\"stroke: #383838; stroke-width: 1.5;\" width=\"146\" x=\"7\" y=\"42.0986\"/><rect fill=\"#F8F8F8\" height=\"37.9375\" style=\"stroke: #383838; stroke-width: 1.5;\" width=\"146\" x=\"7\" y=\"42.0986\"/><text fill=\"#000000\" font-family=\"sans-serif\" font-size=\"12\" font-style=\"italic\" lengthAdjust=\"spacingAndGlyphs\" textLength=\"88\" x=\"36\" y=\"58.2373\">«analysis def»</text><text fill=\"#000000\" font-family=\"sans-serif\" font-size=\"12\" lengthAdjust=\"spacingAndGlyphs\" textLength=\"81\" x=\"39.5\" y=\"72.2061\">AnalysisCase</text></a><!--MD5=[f6df4d0ebaf0b5dfb2ced0ae5af7c670]\n",
       "cluster E4--><a href=\"psysml:8a4520e8-ac51-4a2a-8007-cfc5f8084f42\" target=\"_top\" title=\"psysml:8a4520e8-ac51-4a2a-8007-cfc5f8084f42\" xlink:actuate=\"onRequest\" xlink:href=\"psysml:8a4520e8-ac51-4a2a-8007-cfc5f8084f42\" xlink:show=\"new\" xlink:title=\"psysml:8a4520e8-ac51-4a2a-8007-cfc5f8084f42\" xlink:type=\"simple\"><rect fill=\"#FFFFFF\" height=\"180\" id=\"E4\" style=\"stroke: #383838; stroke-width: 1.5;\" width=\"262\" x=\"216\" y=\"42.0986\"/><rect fill=\"#F8F8F8\" height=\"37.9375\" style=\"stroke: #383838; stroke-width: 1.5;\" width=\"262\" x=\"216\" y=\"42.0986\"/><text fill=\"#000000\" font-family=\"sans-serif\" font-size=\"12\" font-style=\"italic\" lengthAdjust=\"spacingAndGlyphs\" textLength=\"88\" x=\"303\" y=\"58.2373\">«analysis def»</text><text fill=\"#000000\" font-family=\"sans-serif\" font-size=\"12\" lengthAdjust=\"spacingAndGlyphs\" textLength=\"77\" x=\"308.5\" y=\"72.2061\">AnalysisPlan</text></a><!--MD5=[14e3b0961a2654348d326746436168a1]\n",
       "cluster E6--><a href=\"psysml:ef775355-9069-4551-a021-5839d9673f3d\" target=\"_top\" title=\"psysml:ef775355-9069-4551-a021-5839d9673f3d\" xlink:actuate=\"onRequest\" xlink:href=\"psysml:ef775355-9069-4551-a021-5839d9673f3d\" xlink:show=\"new\" xlink:title=\"psysml:ef775355-9069-4551-a021-5839d9673f3d\" xlink:type=\"simple\"><rect fill=\"#FFFFFF\" height=\"110.5\" id=\"E6\" rx=\"10\" ry=\"10\" style=\"stroke: #383838; stroke-width: 1.5;\" width=\"138\" x=\"299\" y=\"81.5986\"/><rect fill=\"#F8F8F8\" height=\"37.9375\" rx=\"10\" ry=\"10\" style=\"stroke: #F8F8F8; stroke-width: 1.5;\" width=\"138\" x=\"299\" y=\"81.5986\"/><rect fill=\"#F8F8F8\" height=\"10\" style=\"stroke: #F8F8F8; stroke-width: 1.5;\" width=\"138\" x=\"299\" y=\"109.5361\"/><rect fill=\"none\" height=\"110.5\" id=\"E6\" rx=\"10\" ry=\"10\" style=\"stroke: #383838; stroke-width: 1.5;\" width=\"138\" x=\"299\" y=\"81.5986\"/><text fill=\"#000000\" font-family=\"sans-serif\" font-size=\"12\" font-style=\"italic\" lengthAdjust=\"spacingAndGlyphs\" textLength=\"64\" x=\"336\" y=\"97.7373\">«analysis»</text><text fill=\"#000000\" font-family=\"sans-serif\" font-size=\"12\" lengthAdjust=\"spacingAndGlyphs\" textLength=\"81\" x=\"327.5\" y=\"111.7061\">analysisCase</text><line style=\"stroke: #383838; stroke-width: 1.0;\" x1=\"299\" x2=\"437\" y1=\"119.5361\" y2=\"119.5361\"/></a><!--MD5=[a84b4591f868c1fa4a211716a82f2f0d]\n",
       "cluster E10--><a href=\"psysml:26b0c0e9-c7c6-4e19-b68b-97e4f04c11f8\" target=\"_top\" title=\"psysml:26b0c0e9-c7c6-4e19-b68b-97e4f04c11f8\" xlink:actuate=\"onRequest\" xlink:href=\"psysml:26b0c0e9-c7c6-4e19-b68b-97e4f04c11f8\" xlink:show=\"new\" xlink:title=\"psysml:26b0c0e9-c7c6-4e19-b68b-97e4f04c11f8\" xlink:type=\"simple\"><rect fill=\"#FFFFFF\" height=\"122\" id=\"E10\" rx=\"10\" ry=\"10\" style=\"stroke: #383838; stroke-width: 1.5;\" width=\"130\" x=\"507\" y=\"42.0986\"/><rect fill=\"#F8F8F8\" height=\"37.9375\" rx=\"10\" ry=\"10\" style=\"stroke: #F8F8F8; stroke-width: 1.5;\" width=\"130\" x=\"507\" y=\"42.0986\"/><rect fill=\"#F8F8F8\" height=\"10\" style=\"stroke: #F8F8F8; stroke-width: 1.5;\" width=\"130\" x=\"507\" y=\"70.0361\"/><rect fill=\"none\" height=\"122\" id=\"E10\" rx=\"10\" ry=\"10\" style=\"stroke: #383838; stroke-width: 1.5;\" width=\"130\" x=\"507\" y=\"42.0986\"/><text fill=\"#000000\" font-family=\"sans-serif\" font-size=\"12\" font-style=\"italic\" lengthAdjust=\"spacingAndGlyphs\" textLength=\"64\" x=\"540\" y=\"58.2373\">«analysis»</text><text fill=\"#000000\" font-family=\"sans-serif\" font-size=\"12\" lengthAdjust=\"spacingAndGlyphs\" textLength=\"77\" x=\"533.5\" y=\"72.2061\">analysisPlan</text><line style=\"stroke: #383838; stroke-width: 1.0;\" x1=\"507\" x2=\"637\" y1=\"80.0361\" y2=\"80.0361\"/></a><text fill=\"#000000\" font-family=\"sans-serif\" font-size=\"14\" lengthAdjust=\"spacingAndGlyphs\" textLength=\"7\" x=\"76.5\" y=\"20.7969\">v</text><rect fill=\"#383838\" height=\"12\" style=\"stroke: #F8F8F8; stroke-width: 1.5;\" width=\"12\" x=\"74\" y=\"36.0986\"/><text fill=\"#000000\" font-family=\"sans-serif\" font-size=\"14\" lengthAdjust=\"spacingAndGlyphs\" textLength=\"39\" x=\"60.5\" y=\"183.0938\">result</text><rect fill=\"#383838\" height=\"12\" style=\"stroke: #F8F8F8; stroke-width: 1.5;\" width=\"12\" x=\"74\" y=\"158.0986\"/><text fill=\"#000000\" font-family=\"sans-serif\" font-size=\"14\" lengthAdjust=\"spacingAndGlyphs\" textLength=\"7\" x=\"230.5\" y=\"20.7969\">v</text><rect fill=\"#383838\" height=\"12\" style=\"stroke: #F8F8F8; stroke-width: 1.5;\" width=\"12\" x=\"228\" y=\"36.0986\"/><text fill=\"#000000\" font-family=\"sans-serif\" font-size=\"14\" lengthAdjust=\"spacingAndGlyphs\" textLength=\"39\" x=\"458.5\" y=\"183.0938\">result</text><rect fill=\"#383838\" height=\"12\" style=\"stroke: #F8F8F8; stroke-width: 1.5;\" width=\"12\" x=\"472\" y=\"158.0986\"/><text fill=\"#000000\" font-family=\"sans-serif\" font-size=\"14\" lengthAdjust=\"spacingAndGlyphs\" textLength=\"37\" x=\"349.5\" y=\"211.0938\">mass</text><rect fill=\"#383838\" height=\"12\" style=\"stroke: #F8F8F8; stroke-width: 1.5;\" width=\"12\" x=\"362\" y=\"186.0986\"/><text fill=\"#000000\" font-family=\"sans-serif\" font-size=\"14\" lengthAdjust=\"spacingAndGlyphs\" textLength=\"7\" x=\"364.5\" y=\"60.2969\">v</text><rect fill=\"#383838\" height=\"12\" style=\"stroke: #F8F8F8; stroke-width: 1.5;\" width=\"12\" x=\"362\" y=\"75.5986\"/><text fill=\"#000000\" font-family=\"sans-serif\" font-size=\"14\" lengthAdjust=\"spacingAndGlyphs\" textLength=\"7\" x=\"567.5\" y=\"20.7969\">v</text><rect fill=\"#383838\" height=\"12\" style=\"stroke: #F8F8F8; stroke-width: 1.5;\" width=\"12\" x=\"565\" y=\"36.0986\"/><text fill=\"#000000\" font-family=\"sans-serif\" font-size=\"14\" lengthAdjust=\"spacingAndGlyphs\" textLength=\"39\" x=\"505.5\" y=\"183.0938\">result</text><rect fill=\"#383838\" height=\"12\" style=\"stroke: #F8F8F8; stroke-width: 1.5;\" width=\"12\" x=\"519\" y=\"158.0986\"/><!--MD5=[502ba4c26d9ab3f2db40519a9a518121]\n",
       "@startuml\r\n",
       "skinparam ranksep 8\r\n",
       "skinparam linetype polyline\r\n",
       "skinparam monochrome true\r\n",
       "skinparam classbackgroundcolor white\r\n",
       "skinparam shadowing false\r\n",
       "skinparam wrapWidth 300\r\n",
       "hide circle\r\n",
       "\r\n",
       "rec def \"AnalysisCase\" as E1 << analysis def>> [[psysml:e9833d01-8fa8-4820-af73-47d7be444de9 ]] {\r\n",
       "portin \"v\" as E2  [[psysml:fc36d359-2f0c-4a32-9d15-fff2be0a8869 ]] \r\n",
       "portout \"result\" as E3  [[psysml:7ffbe20f-c891-4b52-987b-0be8eb99b87a ]] \r\n",
       "}\r\n",
       "\r\n",
       "rec def \"AnalysisPlan\" as E4 << analysis def>> [[psysml:8a4520e8-ac51-4a2a-8007-cfc5f8084f42 ]] {\r\n",
       "portin \"v\" as E5  [[psysml:7635dc34-c4d2-4388-b045-3a6cac182eef ]] \r\n",
       "rec usage \"analysisCase\" as E6 << analysis>> [[psysml:ef775355-9069-4551-a021-5839d9673f3d ]] {\r\n",
       "portout \"mass\" as E7  [[psysml:56f340db-5793-4dc6-898e-9e0a5f90ef66 ]] \r\n",
       "portin \"v\" as E8  [[psysml:d8dc3b58-26c5-4e6e-82f3-a4f0880c0fd9 ]] \r\n",
       "}\r\n",
       "\r\n",
       "portout \"result\" as E9  [[psysml:55ba6aa8-4536-4622-ad3c-e7c6595a0034 ]] \r\n",
       "}\r\n",
       "\r\n",
       "rec usage \"analysisPlan\" as E10 << analysis>> [[psysml:26b0c0e9-c7c6-4e19-b68b-97e4f04c11f8 ]] {\r\n",
       "portin \"v\" as E11  [[psysml:f389b1b7-0af5-48e1-9589-ecdd74e85b57 ]] \r\n",
       "portout \"result\" as E12  [[psysml:bb9048ad-dd49-4e98-ae44-d0812ca693a4 ]] \r\n",
       "}\r\n",
       "\r\n",
       "@enduml\r\n",
       "\n",
       "PlantUML version 1.2020.13(Sat Jun 13 12:26:38 UTC 2020)\n",
       "(EPL source distribution)\n",
       "Java Runtime: OpenJDK Runtime Environment\n",
       "JVM: OpenJDK 64-Bit Server VM\n",
       "Default Encoding: UTF-8\n",
       "Language: en\n",
       "Country: null\n",
       "--></g></svg>"
      ]
     },
     "execution_count": 13,
     "metadata": {},
     "output_type": "execute_result"
    }
   ],
   "source": [
    "%viz --style=\"POLYLINE\" --view=\"Action\" \"AnalysisTest\""
   ]
  },
  {
   "cell_type": "code",
   "execution_count": 14,
   "id": "24194672",
   "metadata": {
    "execution": {
     "iopub.execute_input": "2021-09-27T07:15:29.226803Z",
     "iopub.status.busy": "2021-09-27T07:15:29.226388Z",
     "iopub.status.idle": "2021-09-27T07:15:29.233051Z",
     "shell.execute_reply": "2021-09-27T07:15:29.233369Z"
    }
   },
   "outputs": [
    {
     "data": {
      "image/svg+xml": [
       "<?xml version=\"1.0\" encoding=\"UTF-8\" standalone=\"no\"?><svg xmlns=\"http://www.w3.org/2000/svg\" xmlns:xlink=\"http://www.w3.org/1999/xlink\" contentScriptType=\"application/ecmascript\" contentStyleType=\"text/css\" height=\"12px\" preserveAspectRatio=\"none\" style=\"width:12px;height:12px;\" version=\"1.1\" viewBox=\"0 0 12 12\" width=\"12px\" zoomAndPan=\"magnify\"><defs/><g><!--MD5=[dc938048236c351797870c36b62f92ad]\n",
       "@startuml\r\n",
       "skinparam roundcorner 20\r\n",
       "skinparam BoxPadding 20\r\n",
       "skinparam SequenceBoxBackgroundColor #white\r\n",
       "skinparam style strictuml\r\n",
       "skinparam maxMessageSize 100\r\n",
       "skinparam linetype polyline\r\n",
       "skinparam monochrome true\r\n",
       "skinparam classbackgroundcolor white\r\n",
       "skinparam shadowing false\r\n",
       "skinparam wrapWidth 300\r\n",
       "hide circle\r\n",
       "\r\n",
       "@enduml\r\n",
       "\n",
       "PlantUML version 1.2020.13(Sat Jun 13 12:26:38 UTC 2020)\n",
       "(EPL source distribution)\n",
       "Java Runtime: OpenJDK Runtime Environment\n",
       "JVM: OpenJDK 64-Bit Server VM\n",
       "Default Encoding: UTF-8\n",
       "Language: en\n",
       "Country: null\n",
       "--></g></svg>"
      ]
     },
     "execution_count": 14,
     "metadata": {},
     "output_type": "execute_result"
    }
   ],
   "source": [
    "%viz --style=\"POLYLINE\" --view=\"Sequence\" \"AnalysisTest\""
   ]
  },
  {
   "cell_type": "code",
   "execution_count": 15,
   "id": "a63a7780",
   "metadata": {
    "execution": {
     "iopub.execute_input": "2021-09-27T07:15:29.283644Z",
     "iopub.status.busy": "2021-09-27T07:15:29.283246Z",
     "iopub.status.idle": "2021-09-27T07:15:29.343489Z",
     "shell.execute_reply": "2021-09-27T07:15:29.343117Z"
    }
   },
   "outputs": [
    {
     "data": {
      "image/svg+xml": [
       "<?xml version=\"1.0\" encoding=\"UTF-8\" standalone=\"no\"?><svg xmlns=\"http://www.w3.org/2000/svg\" xmlns:xlink=\"http://www.w3.org/1999/xlink\" contentScriptType=\"application/ecmascript\" contentStyleType=\"text/css\" height=\"628px\" preserveAspectRatio=\"none\" style=\"width:837px;height:628px;\" version=\"1.1\" viewBox=\"0 0 837 628\" width=\"837px\" zoomAndPan=\"magnify\"><defs/><g><!--MD5=[fbc87193dbaf4d95561dea2c320d4a47]\n",
       "cluster E1--><a href=\"psysml:f5546318-5597-445e-83af-957575abd1f7\" target=\"_top\" title=\"psysml:f5546318-5597-445e-83af-957575abd1f7\" xlink:actuate=\"onRequest\" xlink:href=\"psysml:f5546318-5597-445e-83af-957575abd1f7\" xlink:show=\"new\" xlink:title=\"psysml:f5546318-5597-445e-83af-957575abd1f7\" xlink:type=\"simple\"><polygon fill=\"#FFFFFF\" points=\"16,6,108,6,115,28.2969,815,28.2969,815,616,16,616,16,6\" style=\"stroke: #000000; stroke-width: 1.5;\"/><line style=\"stroke: #000000; stroke-width: 1.5;\" x1=\"16\" x2=\"115\" y1=\"28.2969\" y2=\"28.2969\"/><text fill=\"#000000\" font-family=\"sans-serif\" font-size=\"14\" font-weight=\"bold\" lengthAdjust=\"spacingAndGlyphs\" textLength=\"86\" x=\"20\" y=\"20.9951\">AnalysisTest</text></a><!--MD5=[de5ec2e2e8f62f467e546659f5068c88]\n",
       "cluster E5--><a href=\"psysml:e9833d01-8fa8-4820-af73-47d7be444de9\" target=\"_top\" title=\"psysml:e9833d01-8fa8-4820-af73-47d7be444de9\" xlink:actuate=\"onRequest\" xlink:href=\"psysml:e9833d01-8fa8-4820-af73-47d7be444de9\" xlink:show=\"new\" xlink:title=\"psysml:e9833d01-8fa8-4820-af73-47d7be444de9\" xlink:type=\"simple\"><rect fill=\"#FFFFFF\" height=\"299.5\" id=\"E5\" style=\"stroke: #383838; stroke-width: 1.5;\" width=\"146\" x=\"653\" y=\"74.5\"/><rect fill=\"#F8F8F8\" height=\"37.9375\" style=\"stroke: #383838; stroke-width: 1.5;\" width=\"146\" x=\"653\" y=\"74.5\"/><text fill=\"#000000\" font-family=\"sans-serif\" font-size=\"12\" font-style=\"italic\" lengthAdjust=\"spacingAndGlyphs\" textLength=\"88\" x=\"682\" y=\"90.6387\">«analysis def»</text><text fill=\"#000000\" font-family=\"sans-serif\" font-size=\"12\" lengthAdjust=\"spacingAndGlyphs\" textLength=\"81\" x=\"685.5\" y=\"104.6074\">AnalysisCase</text></a><!--MD5=[55dfccfc6c49c2d10cd1bd2211a6c90c]\n",
       "cluster E8--><a href=\"psysml:8a4520e8-ac51-4a2a-8007-cfc5f8084f42\" target=\"_top\" title=\"psysml:8a4520e8-ac51-4a2a-8007-cfc5f8084f42\" xlink:actuate=\"onRequest\" xlink:href=\"psysml:8a4520e8-ac51-4a2a-8007-cfc5f8084f42\" xlink:show=\"new\" xlink:title=\"psysml:8a4520e8-ac51-4a2a-8007-cfc5f8084f42\" xlink:type=\"simple\"><rect fill=\"#FFFFFF\" height=\"400\" id=\"E8\" style=\"stroke: #383838; stroke-width: 1.5;\" width=\"259\" x=\"279\" y=\"192\"/><rect fill=\"#F8F8F8\" height=\"37.9375\" style=\"stroke: #383838; stroke-width: 1.5;\" width=\"259\" x=\"279\" y=\"192\"/><text fill=\"#000000\" font-family=\"sans-serif\" font-size=\"12\" font-style=\"italic\" lengthAdjust=\"spacingAndGlyphs\" textLength=\"88\" x=\"364.5\" y=\"208.1387\">«analysis def»</text><text fill=\"#000000\" font-family=\"sans-serif\" font-size=\"12\" lengthAdjust=\"spacingAndGlyphs\" textLength=\"77\" x=\"370\" y=\"222.1074\">AnalysisPlan</text></a><!--MD5=[a84b4591f868c1fa4a211716a82f2f0d]\n",
       "cluster E10--><a href=\"psysml:ef775355-9069-4551-a021-5839d9673f3d\" target=\"_top\" title=\"psysml:ef775355-9069-4551-a021-5839d9673f3d\" xlink:actuate=\"onRequest\" xlink:href=\"psysml:ef775355-9069-4551-a021-5839d9673f3d\" xlink:show=\"new\" xlink:title=\"psysml:ef775355-9069-4551-a021-5839d9673f3d\" xlink:type=\"simple\"><rect fill=\"#FFFFFF\" height=\"239\" id=\"E10\" rx=\"10\" ry=\"10\" style=\"stroke: #383838; stroke-width: 1.5;\" width=\"138\" x=\"362\" y=\"315\"/><rect fill=\"#F8F8F8\" height=\"37.9375\" rx=\"10\" ry=\"10\" style=\"stroke: #F8F8F8; stroke-width: 1.5;\" width=\"138\" x=\"362\" y=\"315\"/><rect fill=\"#F8F8F8\" height=\"10\" style=\"stroke: #F8F8F8; stroke-width: 1.5;\" width=\"138\" x=\"362\" y=\"342.9375\"/><rect fill=\"none\" height=\"239\" id=\"E10\" rx=\"10\" ry=\"10\" style=\"stroke: #383838; stroke-width: 1.5;\" width=\"138\" x=\"362\" y=\"315\"/><text fill=\"#000000\" font-family=\"sans-serif\" font-size=\"12\" font-style=\"italic\" lengthAdjust=\"spacingAndGlyphs\" textLength=\"64\" x=\"399\" y=\"331.1387\">«analysis»</text><text fill=\"#000000\" font-family=\"sans-serif\" font-size=\"12\" lengthAdjust=\"spacingAndGlyphs\" textLength=\"81\" x=\"390.5\" y=\"345.1074\">analysisCase</text><line style=\"stroke: #383838; stroke-width: 1.0;\" x1=\"362\" x2=\"500\" y1=\"352.9375\" y2=\"352.9375\"/></a><!--MD5=[b4997ac47864f28c2f74865a473b2911]\n",
       "class E2--><a href=\"psysml:df856138-3406-4a6b-b583-20ed5eacc0cd\" target=\"_top\" title=\"psysml:df856138-3406-4a6b-b583-20ed5eacc0cd\" xlink:actuate=\"onRequest\" xlink:href=\"psysml:df856138-3406-4a6b-b583-20ed5eacc0cd\" xlink:show=\"new\" xlink:title=\"psysml:df856138-3406-4a6b-b583-20ed5eacc0cd\" xlink:type=\"simple\"><rect fill=\"#FFFFFF\" height=\"45.9375\" id=\"E2\" style=\"stroke: #383838; stroke-width: 1.5;\" width=\"66\" x=\"568\" y=\"169\"/><text fill=\"#000000\" font-family=\"sans-serif\" font-size=\"12\" font-style=\"italic\" lengthAdjust=\"spacingAndGlyphs\" textLength=\"64\" x=\"569\" y=\"185.1387\">«part def»</text><text fill=\"#000000\" font-family=\"sans-serif\" font-size=\"12\" lengthAdjust=\"spacingAndGlyphs\" textLength=\"8\" x=\"597\" y=\"199.1074\">V</text><line style=\"stroke: #383838; stroke-width: 1.5;\" x1=\"569\" x2=\"633\" y1=\"206.9375\" y2=\"206.9375\"/></a><!--MD5=[09b614a08d8cba4a07c9adeb5e0fee81]\n",
       "class E3--><a href=\"psysml:a14948af-c637-432a-b299-badb5d3ced27\" target=\"_top\" title=\"psysml:a14948af-c637-432a-b299-badb5d3ced27\" xlink:actuate=\"onRequest\" xlink:href=\"psysml:a14948af-c637-432a-b299-badb5d3ced27\" xlink:show=\"new\" xlink:title=\"psysml:a14948af-c637-432a-b299-badb5d3ced27\" xlink:type=\"simple\"><rect fill=\"#FFFFFF\" height=\"45.9375\" id=\"E3\" rx=\"10\" ry=\"10\" style=\"stroke: #383838; stroke-width: 1.5;\" width=\"42\" x=\"580\" y=\"51.5\"/><text fill=\"#000000\" font-family=\"sans-serif\" font-size=\"12\" font-style=\"italic\" lengthAdjust=\"spacingAndGlyphs\" textLength=\"40\" x=\"581\" y=\"67.6387\">«part»</text><text fill=\"#000000\" font-family=\"sans-serif\" font-size=\"12\" lengthAdjust=\"spacingAndGlyphs\" textLength=\"28\" x=\"587\" y=\"81.6074\">vv: V</text><line style=\"stroke: #383838; stroke-width: 1.5;\" x1=\"581\" x2=\"621\" y1=\"89.4375\" y2=\"89.4375\"/></a><!--MD5=[ebbe1d658d1005bcc118a6aa81145e00]\n",
       "class E4--><a href=\"psysml:b06c710d-6070-489f-855d-95835f572a57\" target=\"_top\" title=\"psysml:b06c710d-6070-489f-855d-95835f572a57\" xlink:actuate=\"onRequest\" xlink:href=\"psysml:b06c710d-6070-489f-855d-95835f572a57\" xlink:show=\"new\" xlink:title=\"psysml:b06c710d-6070-489f-855d-95835f572a57\" xlink:type=\"simple\"><rect fill=\"#FFFFFF\" height=\"66.7422\" id=\"E4\" style=\"stroke: #383838; stroke-width: 1.5;\" width=\"117\" x=\"315.5\" y=\"41\"/><text fill=\"#000000\" font-family=\"sans-serif\" font-size=\"12\" font-style=\"italic\" lengthAdjust=\"spacingAndGlyphs\" textLength=\"115\" x=\"316.5\" y=\"57.1387\">«requirement def»</text><text fill=\"#000000\" font-family=\"sans-serif\" font-size=\"12\" lengthAdjust=\"spacingAndGlyphs\" textLength=\"107\" x=\"320.5\" y=\"71.1074\">AnalysisObjective</text><line style=\"stroke: #383838; stroke-width: 1.5;\" x1=\"316.5\" x2=\"431.5\" y1=\"78.9375\" y2=\"78.9375\"/><text fill=\"#000000\" font-family=\"sans-serif\" font-size=\"11\" lengthAdjust=\"spacingAndGlyphs\" textLength=\"12\" x=\"321.5\" y=\"93.1479\">...</text><line style=\"stroke: #383838; stroke-width: 1.0;\" x1=\"316.5\" x2=\"431.5\" y1=\"99.7422\" y2=\"99.7422\"/></a><!--MD5=[bee11217b2f71d958a27249dc326068c]\n",
       "class E14--><a href=\"psysml:e127547d-9ca6-4380-b459-796effe0b56f\" target=\"_top\" title=\"psysml:e127547d-9ca6-4380-b459-796effe0b56f\" xlink:actuate=\"onRequest\" xlink:href=\"psysml:e127547d-9ca6-4380-b459-796effe0b56f\" xlink:show=\"new\" xlink:title=\"psysml:e127547d-9ca6-4380-b459-796effe0b56f\" xlink:type=\"simple\"><rect fill=\"#FFFFFF\" height=\"45.9375\" id=\"E14\" rx=\"10\" ry=\"10\" style=\"stroke: #383838; stroke-width: 1.5;\" width=\"104\" x=\"64\" y=\"51.5\"/><text fill=\"#000000\" font-family=\"sans-serif\" font-size=\"12\" font-style=\"italic\" lengthAdjust=\"spacingAndGlyphs\" textLength=\"40\" x=\"96\" y=\"67.6387\">«part»</text><text fill=\"#000000\" font-family=\"sans-serif\" font-size=\"12\" lengthAdjust=\"spacingAndGlyphs\" textLength=\"98\" x=\"67\" y=\"81.6074\">analysisContext</text><line style=\"stroke: #383838; stroke-width: 1.5;\" x1=\"65\" x2=\"167\" y1=\"89.4375\" y2=\"89.4375\"/></a><!--MD5=[0c48fb7552dae8cbbef69381101a84c8]\n",
       "class E15--><a href=\"psysml:26b0c0e9-c7c6-4e19-b68b-97e4f04c11f8\" target=\"_top\" title=\"psysml:26b0c0e9-c7c6-4e19-b68b-97e4f04c11f8\" xlink:actuate=\"onRequest\" xlink:href=\"psysml:26b0c0e9-c7c6-4e19-b68b-97e4f04c11f8\" xlink:show=\"new\" xlink:title=\"psysml:26b0c0e9-c7c6-4e19-b68b-97e4f04c11f8\" xlink:type=\"simple\"><rect fill=\"#FFFFFF\" height=\"45.9375\" id=\"E15\" rx=\"10\" ry=\"10\" style=\"stroke: #383838; stroke-width: 1.5;\" width=\"168\" x=\"32\" y=\"169\"/><text fill=\"#000000\" font-family=\"sans-serif\" font-size=\"12\" font-style=\"italic\" lengthAdjust=\"spacingAndGlyphs\" textLength=\"64\" x=\"84\" y=\"185.1387\">«analysis»</text><text fill=\"#000000\" font-family=\"sans-serif\" font-size=\"12\" lengthAdjust=\"spacingAndGlyphs\" textLength=\"162\" x=\"35\" y=\"199.1074\">analysisPlan: AnalysisPlan</text><line style=\"stroke: #383838; stroke-width: 1.5;\" x1=\"33\" x2=\"199\" y1=\"206.9375\" y2=\"206.9375\"/></a><!--MD5=[35f0587eaee8d5bb9a02e25b63afc23b]\n",
       "class E16--><a href=\"psysml:a55f605c-cc05-4fcd-b9b1-1e930756e010\" target=\"_top\" title=\"psysml:a55f605c-cc05-4fcd-b9b1-1e930756e010\" xlink:actuate=\"onRequest\" xlink:href=\"psysml:a55f605c-cc05-4fcd-b9b1-1e930756e010\" xlink:show=\"new\" xlink:title=\"psysml:a55f605c-cc05-4fcd-b9b1-1e930756e010\" xlink:type=\"simple\"><rect fill=\"#FFFFFF\" height=\"45.9375\" id=\"E16\" rx=\"10\" ry=\"10\" style=\"stroke: #383838; stroke-width: 1.5;\" width=\"93\" x=\"69.5\" y=\"292\"/><text fill=\"#000000\" font-family=\"sans-serif\" font-size=\"12\" font-style=\"italic\" lengthAdjust=\"spacingAndGlyphs\" textLength=\"91\" x=\"70.5\" y=\"308.1387\">«requirement»</text><text fill=\"#000000\" font-family=\"sans-serif\" font-size=\"12\" lengthAdjust=\"spacingAndGlyphs\" textLength=\"19\" x=\"106.5\" y=\"322.1074\">obj</text><line style=\"stroke: #383838; stroke-width: 1.5;\" x1=\"70.5\" x2=\"161.5\" y1=\"329.9375\" y2=\"329.9375\"/></a><text fill=\"#000000\" font-family=\"sans-serif\" font-size=\"14\" lengthAdjust=\"spacingAndGlyphs\" textLength=\"7\" x=\"722.5\" y=\"53.1982\">v</text><rect fill=\"#383838\" height=\"12\" style=\"stroke: #F8F8F8; stroke-width: 1.5;\" width=\"12\" x=\"720\" y=\"68.5\"/><text fill=\"#000000\" font-family=\"sans-serif\" font-size=\"14\" lengthAdjust=\"spacingAndGlyphs\" textLength=\"39\" x=\"706.5\" y=\"392.9951\">result</text><rect fill=\"#383838\" height=\"12\" style=\"stroke: #F8F8F8; stroke-width: 1.5;\" width=\"12\" x=\"720\" y=\"368\"/><text fill=\"#000000\" font-family=\"sans-serif\" font-size=\"14\" lengthAdjust=\"spacingAndGlyphs\" textLength=\"7\" x=\"293.5\" y=\"170.6982\">v</text><rect fill=\"#383838\" height=\"12\" style=\"stroke: #F8F8F8; stroke-width: 1.5;\" width=\"12\" x=\"291\" y=\"186\"/><text fill=\"#000000\" font-family=\"sans-serif\" font-size=\"14\" lengthAdjust=\"spacingAndGlyphs\" textLength=\"39\" x=\"518.5\" y=\"499.9951\">result</text><rect fill=\"#383838\" height=\"12\" style=\"stroke: #F8F8F8; stroke-width: 1.5;\" width=\"12\" x=\"532\" y=\"475\"/><text fill=\"#000000\" font-family=\"sans-serif\" font-size=\"14\" lengthAdjust=\"spacingAndGlyphs\" textLength=\"37\" x=\"412.5\" y=\"572.9951\">mass</text><rect fill=\"#383838\" height=\"12\" style=\"stroke: #F8F8F8; stroke-width: 1.5;\" width=\"12\" x=\"425\" y=\"548\"/><text fill=\"#000000\" font-family=\"sans-serif\" font-size=\"14\" lengthAdjust=\"spacingAndGlyphs\" textLength=\"7\" x=\"427.5\" y=\"293.6982\">v</text><rect fill=\"#383838\" height=\"12\" style=\"stroke: #F8F8F8; stroke-width: 1.5;\" width=\"12\" x=\"425\" y=\"309\"/><!--MD5=[05d275557350bfb9b23a4ef7222b4c39]\n",
       "link E3 to E2--><a href=\"psysml:4553bbf6-343c-42bd-a219-72e0d50d2170\" target=\"_top\" title=\"psysml:4553bbf6-343c-42bd-a219-72e0d50d2170\" xlink:actuate=\"onRequest\" xlink:href=\"psysml:4553bbf6-343c-42bd-a219-72e0d50d2170\" xlink:show=\"new\" xlink:title=\"psysml:4553bbf6-343c-42bd-a219-72e0d50d2170\" xlink:type=\"simple\"><path d=\"M601,97.77 C601,112.15 601,131.32 601,148.54 \" fill=\"none\" id=\"E3-&gt;E2\" style=\"stroke: #383838; stroke-width: 1.0;\"/><polygon fill=\"#FFFFFF\" points=\"601,168.8,594,149.8,608,149.8,601,168.8\" style=\"stroke: #383838; stroke-width: 1.0;\"/><ellipse cx=\"596\" cy=\"144.1\" fill=\"#383838\" rx=\"2\" ry=\"2\" style=\"stroke: #383838; stroke-width: 1.0;\"/><ellipse cx=\"606\" cy=\"144.1\" fill=\"#383838\" rx=\"2\" ry=\"2\" style=\"stroke: #383838; stroke-width: 1.0;\"/></a><!--MD5=[17bf29720e4688890742b92d9a67fdf0]\n",
       "reverse link E14 to E15--><a href=\"psysml:cf81c84a-d20a-4a9d-8212-c3de89ec9ad0\" target=\"_top\" title=\"psysml:cf81c84a-d20a-4a9d-8212-c3de89ec9ad0\" xlink:actuate=\"onRequest\" xlink:href=\"psysml:cf81c84a-d20a-4a9d-8212-c3de89ec9ad0\" xlink:show=\"new\" xlink:title=\"psysml:cf81c84a-d20a-4a9d-8212-c3de89ec9ad0\" xlink:type=\"simple\"><path d=\"M116,110.99 C116,129.85 116,152.44 116,168.8 \" fill=\"none\" id=\"E14&lt;-E15\" style=\"stroke: #383838; stroke-width: 1.0;\"/><polygon fill=\"#383838\" points=\"116,97.77,112,103.77,116,109.77,120,103.77,116,97.77\" style=\"stroke: #383838; stroke-width: 1.0;\"/></a><!--MD5=[1b01d5b954197aaf3899ca0bde35faf5]\n",
       "link E15 to E8--><a href=\"psysml:31ecf0da-b030-4520-be0f-3ece1376fb5f\" target=\"_top\" title=\"psysml:31ecf0da-b030-4520-be0f-3ece1376fb5f\" xlink:actuate=\"onRequest\" xlink:href=\"psysml:31ecf0da-b030-4520-be0f-3ece1376fb5f\" xlink:show=\"new\" xlink:title=\"psysml:31ecf0da-b030-4520-be0f-3ece1376fb5f\" xlink:type=\"simple\"><path d=\"M151.2,215.05 C173.82,229.23 199,245 199,245 C199,245 244.27,276.88 273.28,297.3 \" fill=\"none\" id=\"E15-&gt;E8\" style=\"stroke: #383838; stroke-width: 1.0;\"/><polygon fill=\"#FFFFFF\" points=\"273.28,297.3,253.7139,292.0878,261.7723,280.6395,273.28,297.3\" style=\"stroke: #383838; stroke-width: 1.0;\"/><ellipse cx=\"250.204\" cy=\"287.1714\" fill=\"#383838\" rx=\"2\" ry=\"2\" style=\"stroke: #383838; stroke-width: 1.0;\"/><ellipse cx=\"255.96\" cy=\"278.9941\" fill=\"#383838\" rx=\"2\" ry=\"2\" style=\"stroke: #383838; stroke-width: 1.0;\"/></a><!--MD5=[f8b155c46b092be73bb522b0a8fc72a2]\n",
       "link E15 to E16--><a href=\"psysml:aa3a7955-6ed3-447d-b0ee-a09ada8803a4\" target=\"_top\" title=\"psysml:aa3a7955-6ed3-447d-b0ee-a09ada8803a4\" xlink:actuate=\"onRequest\" xlink:href=\"psysml:aa3a7955-6ed3-447d-b0ee-a09ada8803a4\" xlink:show=\"new\" xlink:title=\"psysml:aa3a7955-6ed3-447d-b0ee-a09ada8803a4\" xlink:type=\"simple\"><path d=\"M116,215.19 C116,234.47 116,262.55 116,283.86 \" fill=\"none\" id=\"E15-&gt;E16\" style=\"stroke: #383838; stroke-width: 1.0;\"/><polygon fill=\"#383838\" points=\"116,291.95,119,283.95,113,283.95,116,291.95\" style=\"stroke: #383838; stroke-width: 1.0;\"/><text fill=\"#000000\" font-family=\"sans-serif\" font-size=\"13\" lengthAdjust=\"spacingAndGlyphs\" textLength=\"73\" x=\"117\" y=\"258.0669\">«objective»</text><text fill=\"#000000\" font-family=\"sans-serif\" font-size=\"13\" lengthAdjust=\"spacingAndGlyphs\" textLength=\"8\" x=\"106.925\" y=\"280.8328\">1</text></a><!--MD5=[33f1139b2e1675cb241cd1bca9772ddc]\n",
       "@startuml\r\n",
       "skinparam linetype polyline\r\n",
       "skinparam monochrome true\r\n",
       "skinparam classbackgroundcolor white\r\n",
       "skinparam shadowing false\r\n",
       "skinparam wrapWidth 300\r\n",
       "hide circle\r\n",
       "\r\n",
       "package \"AnalysisTest\" as E1  [[psysml:f5546318-5597-445e-83af-957575abd1f7 ]]  {\r\n",
       "comp def \"V\" as E2  <<(T,blue) part def>> [[psysml:df856138-3406-4a6b-b583-20ed5eacc0cd ]] {\r\n",
       "}\r\n",
       "comp usage \"vv: V\" as E3  <<(T,blue) part>> [[psysml:a14948af-c637-432a-b299-badb5d3ced27 ]] {\r\n",
       "}\r\n",
       "comp def \"AnalysisObjective\" as E4  <<(T,blue) requirement def>> [[psysml:b06c710d-6070-489f-855d-95835f572a57 ]] {\r\n",
       "...\r\n",
       "- -\r\n",
       "}\r\n",
       "rec def \"AnalysisCase\" as E5 << analysis def>> [[psysml:e9833d01-8fa8-4820-af73-47d7be444de9 ]] {\r\n",
       "portin \"v\" as E6  [[psysml:fc36d359-2f0c-4a32-9d15-fff2be0a8869 ]] \r\n",
       "portout \"result\" as E7  [[psysml:7ffbe20f-c891-4b52-987b-0be8eb99b87a ]] \r\n",
       "}\r\n",
       "\r\n",
       "rec def \"AnalysisPlan\" as E8 << analysis def>> [[psysml:8a4520e8-ac51-4a2a-8007-cfc5f8084f42 ]] {\r\n",
       "portin \"v\" as E9  [[psysml:7635dc34-c4d2-4388-b045-3a6cac182eef ]] \r\n",
       "rec usage \"analysisCase\" as E10 << analysis>> [[psysml:ef775355-9069-4551-a021-5839d9673f3d ]] {\r\n",
       "portout \"mass\" as E11  [[psysml:56f340db-5793-4dc6-898e-9e0a5f90ef66 ]] \r\n",
       "portin \"v\" as E12  [[psysml:d8dc3b58-26c5-4e6e-82f3-a4f0880c0fd9 ]] \r\n",
       "}\r\n",
       "\r\n",
       "portout \"result\" as E13  [[psysml:55ba6aa8-4536-4622-ad3c-e7c6595a0034 ]] \r\n",
       "}\r\n",
       "\r\n",
       "comp usage \"analysisContext\" as E14  <<(T,blue) part>> [[psysml:e127547d-9ca6-4380-b459-796effe0b56f ]] {\r\n",
       "}\r\n",
       "comp usage \"analysisPlan: AnalysisPlan\" as E15 << analysis>> [[psysml:26b0c0e9-c7c6-4e19-b68b-97e4f04c11f8 ]] {\r\n",
       "}\r\n",
       "comp usage \"obj\" as E16  <<(T,blue) requirement>> [[psysml:a55f605c-cc05-4fcd-b9b1-1e930756e010 ]] {\r\n",
       "}\r\n",
       "}\r\n",
       "E3 - -:|> E2 [[psysml:4553bbf6-343c-42bd-a219-72e0d50d2170 ]] \r\n",
       "E14 *- - E15 [[psysml:cf81c84a-d20a-4a9d-8212-c3de89ec9ad0 ]] \r\n",
       "E15 - -:|> E8 [[psysml:31ecf0da-b030-4520-be0f-3ece1376fb5f ]] \r\n",
       "E15 - ->> \"1\"E16 [[psysml:aa3a7955-6ed3-447d-b0ee-a09ada8803a4 ]] : <<objective>>\r\n",
       "@enduml\r\n",
       "\n",
       "PlantUML version 1.2020.13(Sat Jun 13 12:26:38 UTC 2020)\n",
       "(EPL source distribution)\n",
       "Java Runtime: OpenJDK Runtime Environment\n",
       "JVM: OpenJDK 64-Bit Server VM\n",
       "Default Encoding: UTF-8\n",
       "Language: en\n",
       "Country: null\n",
       "--></g></svg>"
      ]
     },
     "execution_count": 15,
     "metadata": {},
     "output_type": "execute_result"
    }
   ],
   "source": [
    "%viz --style=\"POLYLINE\" --view=\"MIXED\" \"AnalysisTest\""
   ]
  },
  {
   "cell_type": "code",
   "execution_count": 16,
   "id": "c8236433",
   "metadata": {
    "execution": {
     "iopub.execute_input": "2021-09-27T07:15:29.393684Z",
     "iopub.status.busy": "2021-09-27T07:15:29.393266Z",
     "iopub.status.idle": "2021-09-27T07:15:29.456680Z",
     "shell.execute_reply": "2021-09-27T07:15:29.456252Z"
    }
   },
   "outputs": [
    {
     "data": {
      "image/svg+xml": [
       "<?xml version=\"1.0\" encoding=\"UTF-8\" standalone=\"no\"?><svg xmlns=\"http://www.w3.org/2000/svg\" xmlns:xlink=\"http://www.w3.org/1999/xlink\" contentScriptType=\"application/ecmascript\" contentStyleType=\"text/css\" height=\"474px\" preserveAspectRatio=\"none\" style=\"width:997px;height:474px;\" version=\"1.1\" viewBox=\"0 0 997 474\" width=\"997px\" zoomAndPan=\"magnify\"><defs/><g><!--MD5=[fbc87193dbaf4d95561dea2c320d4a47]\n",
       "cluster E1--><a href=\"psysml:f5546318-5597-445e-83af-957575abd1f7\" target=\"_top\" title=\"psysml:f5546318-5597-445e-83af-957575abd1f7\" xlink:actuate=\"onRequest\" xlink:href=\"psysml:f5546318-5597-445e-83af-957575abd1f7\" xlink:show=\"new\" xlink:title=\"psysml:f5546318-5597-445e-83af-957575abd1f7\" xlink:type=\"simple\"><polygon fill=\"#FFFFFF\" points=\"16,6,108,6,115,28.2969,975,28.2969,975,462,16,462,16,6\" style=\"stroke: #000000; stroke-width: 1.5;\"/><line style=\"stroke: #000000; stroke-width: 1.5;\" x1=\"16\" x2=\"115\" y1=\"28.2969\" y2=\"28.2969\"/><text fill=\"#000000\" font-family=\"sans-serif\" font-size=\"14\" font-weight=\"bold\" lengthAdjust=\"spacingAndGlyphs\" textLength=\"86\" x=\"20\" y=\"20.9951\">AnalysisTest</text></a><!--MD5=[de5ec2e2e8f62f467e546659f5068c88]\n",
       "cluster E5--><a href=\"psysml:e9833d01-8fa8-4820-af73-47d7be444de9\" target=\"_top\" title=\"psysml:e9833d01-8fa8-4820-af73-47d7be444de9\" xlink:actuate=\"onRequest\" xlink:href=\"psysml:e9833d01-8fa8-4820-af73-47d7be444de9\" xlink:show=\"new\" xlink:title=\"psysml:e9833d01-8fa8-4820-af73-47d7be444de9\" xlink:type=\"simple\"><rect fill=\"#FFFFFF\" height=\"68\" id=\"E5\" style=\"stroke: #383838; stroke-width: 1.5;\" width=\"572.5\" x=\"90.5\" y=\"41\"/><rect fill=\"#F8F8F8\" height=\"37.9375\" style=\"stroke: #383838; stroke-width: 1.5;\" width=\"572.5\" x=\"90.5\" y=\"41\"/><text fill=\"#000000\" font-family=\"sans-serif\" font-size=\"12\" font-style=\"italic\" lengthAdjust=\"spacingAndGlyphs\" textLength=\"88\" x=\"332.75\" y=\"57.1387\">«analysis def»</text><text fill=\"#000000\" font-family=\"sans-serif\" font-size=\"12\" lengthAdjust=\"spacingAndGlyphs\" textLength=\"81\" x=\"336.25\" y=\"71.1074\">AnalysisCase</text></a><!--MD5=[55dfccfc6c49c2d10cd1bd2211a6c90c]\n",
       "cluster E8--><a href=\"psysml:8a4520e8-ac51-4a2a-8007-cfc5f8084f42\" target=\"_top\" title=\"psysml:8a4520e8-ac51-4a2a-8007-cfc5f8084f42\" xlink:actuate=\"onRequest\" xlink:href=\"psysml:8a4520e8-ac51-4a2a-8007-cfc5f8084f42\" xlink:show=\"new\" xlink:title=\"psysml:8a4520e8-ac51-4a2a-8007-cfc5f8084f42\" xlink:type=\"simple\"><rect fill=\"#FFFFFF\" height=\"132\" id=\"E8\" style=\"stroke: #383838; stroke-width: 1.5;\" width=\"675\" x=\"276\" y=\"204\"/><rect fill=\"#F8F8F8\" height=\"37.9375\" style=\"stroke: #383838; stroke-width: 1.5;\" width=\"675\" x=\"276\" y=\"204\"/><text fill=\"#000000\" font-family=\"sans-serif\" font-size=\"12\" font-style=\"italic\" lengthAdjust=\"spacingAndGlyphs\" textLength=\"88\" x=\"569.5\" y=\"220.1387\">«analysis def»</text><text fill=\"#000000\" font-family=\"sans-serif\" font-size=\"12\" lengthAdjust=\"spacingAndGlyphs\" textLength=\"77\" x=\"575\" y=\"234.1074\">AnalysisPlan</text></a><!--MD5=[a84b4591f868c1fa4a211716a82f2f0d]\n",
       "cluster E10--><a href=\"psysml:ef775355-9069-4551-a021-5839d9673f3d\" target=\"_top\" title=\"psysml:ef775355-9069-4551-a021-5839d9673f3d\" xlink:actuate=\"onRequest\" xlink:href=\"psysml:ef775355-9069-4551-a021-5839d9673f3d\" xlink:show=\"new\" xlink:title=\"psysml:ef775355-9069-4551-a021-5839d9673f3d\" xlink:type=\"simple\"><rect fill=\"#FFFFFF\" height=\"68\" id=\"E10\" rx=\"10\" ry=\"10\" style=\"stroke: #383838; stroke-width: 1.5;\" width=\"343\" x=\"570\" y=\"242\"/><rect fill=\"#F8F8F8\" height=\"37.9375\" rx=\"10\" ry=\"10\" style=\"stroke: #F8F8F8; stroke-width: 1.5;\" width=\"343\" x=\"570\" y=\"242\"/><rect fill=\"#F8F8F8\" height=\"10\" style=\"stroke: #F8F8F8; stroke-width: 1.5;\" width=\"343\" x=\"570\" y=\"269.9375\"/><rect fill=\"none\" height=\"68\" id=\"E10\" rx=\"10\" ry=\"10\" style=\"stroke: #383838; stroke-width: 1.5;\" width=\"343\" x=\"570\" y=\"242\"/><text fill=\"#000000\" font-family=\"sans-serif\" font-size=\"12\" font-style=\"italic\" lengthAdjust=\"spacingAndGlyphs\" textLength=\"64\" x=\"709.5\" y=\"258.1387\">«analysis»</text><text fill=\"#000000\" font-family=\"sans-serif\" font-size=\"12\" lengthAdjust=\"spacingAndGlyphs\" textLength=\"81\" x=\"701\" y=\"272.1074\">analysisCase</text><line style=\"stroke: #383838; stroke-width: 1.0;\" x1=\"570\" x2=\"913\" y1=\"279.9375\" y2=\"279.9375\"/></a><!--MD5=[b4997ac47864f28c2f74865a473b2911]\n",
       "class E2--><a href=\"psysml:df856138-3406-4a6b-b583-20ed5eacc0cd\" target=\"_top\" title=\"psysml:df856138-3406-4a6b-b583-20ed5eacc0cd\" xlink:actuate=\"onRequest\" xlink:href=\"psysml:df856138-3406-4a6b-b583-20ed5eacc0cd\" xlink:show=\"new\" xlink:title=\"psysml:df856138-3406-4a6b-b583-20ed5eacc0cd\" xlink:type=\"simple\"><rect fill=\"#FFFFFF\" height=\"45.9375\" id=\"E2\" style=\"stroke: #383838; stroke-width: 1.5;\" width=\"66\" x=\"261\" y=\"128\"/><text fill=\"#000000\" font-family=\"sans-serif\" font-size=\"12\" font-style=\"italic\" lengthAdjust=\"spacingAndGlyphs\" textLength=\"64\" x=\"262\" y=\"144.1387\">«part def»</text><text fill=\"#000000\" font-family=\"sans-serif\" font-size=\"12\" lengthAdjust=\"spacingAndGlyphs\" textLength=\"8\" x=\"290\" y=\"158.1074\">V</text><line style=\"stroke: #383838; stroke-width: 1.5;\" x1=\"262\" x2=\"326\" y1=\"165.9375\" y2=\"165.9375\"/></a><!--MD5=[09b614a08d8cba4a07c9adeb5e0fee81]\n",
       "class E3--><a href=\"psysml:a14948af-c637-432a-b299-badb5d3ced27\" target=\"_top\" title=\"psysml:a14948af-c637-432a-b299-badb5d3ced27\" xlink:actuate=\"onRequest\" xlink:href=\"psysml:a14948af-c637-432a-b299-badb5d3ced27\" xlink:show=\"new\" xlink:title=\"psysml:a14948af-c637-432a-b299-badb5d3ced27\" xlink:type=\"simple\"><rect fill=\"#FFFFFF\" height=\"45.9375\" id=\"E3\" rx=\"10\" ry=\"10\" style=\"stroke: #383838; stroke-width: 1.5;\" width=\"42\" x=\"69.5\" y=\"128\"/><text fill=\"#000000\" font-family=\"sans-serif\" font-size=\"12\" font-style=\"italic\" lengthAdjust=\"spacingAndGlyphs\" textLength=\"40\" x=\"70.5\" y=\"144.1387\">«part»</text><text fill=\"#000000\" font-family=\"sans-serif\" font-size=\"12\" lengthAdjust=\"spacingAndGlyphs\" textLength=\"28\" x=\"76.5\" y=\"158.1074\">vv: V</text><line style=\"stroke: #383838; stroke-width: 1.5;\" x1=\"70.5\" x2=\"110.5\" y1=\"165.9375\" y2=\"165.9375\"/></a><!--MD5=[ebbe1d658d1005bcc118a6aa81145e00]\n",
       "class E4--><a href=\"psysml:b06c710d-6070-489f-855d-95835f572a57\" target=\"_top\" title=\"psysml:b06c710d-6070-489f-855d-95835f572a57\" xlink:actuate=\"onRequest\" xlink:href=\"psysml:b06c710d-6070-489f-855d-95835f572a57\" xlink:show=\"new\" xlink:title=\"psysml:b06c710d-6070-489f-855d-95835f572a57\" xlink:type=\"simple\"><rect fill=\"#FFFFFF\" height=\"66.7422\" id=\"E4\" style=\"stroke: #383838; stroke-width: 1.5;\" width=\"117\" x=\"32\" y=\"250.5\"/><text fill=\"#000000\" font-family=\"sans-serif\" font-size=\"12\" font-style=\"italic\" lengthAdjust=\"spacingAndGlyphs\" textLength=\"115\" x=\"33\" y=\"266.6387\">«requirement def»</text><text fill=\"#000000\" font-family=\"sans-serif\" font-size=\"12\" lengthAdjust=\"spacingAndGlyphs\" textLength=\"107\" x=\"37\" y=\"280.6074\">AnalysisObjective</text><line style=\"stroke: #383838; stroke-width: 1.5;\" x1=\"33\" x2=\"148\" y1=\"288.4375\" y2=\"288.4375\"/><text fill=\"#000000\" font-family=\"sans-serif\" font-size=\"11\" lengthAdjust=\"spacingAndGlyphs\" textLength=\"12\" x=\"38\" y=\"302.6479\">...</text><line style=\"stroke: #383838; stroke-width: 1.0;\" x1=\"33\" x2=\"148\" y1=\"309.2422\" y2=\"309.2422\"/></a><!--MD5=[bee11217b2f71d958a27249dc326068c]\n",
       "class E14--><a href=\"psysml:e127547d-9ca6-4380-b459-796effe0b56f\" target=\"_top\" title=\"psysml:e127547d-9ca6-4380-b459-796effe0b56f\" xlink:actuate=\"onRequest\" xlink:href=\"psysml:e127547d-9ca6-4380-b459-796effe0b56f\" xlink:show=\"new\" xlink:title=\"psysml:e127547d-9ca6-4380-b459-796effe0b56f\" xlink:type=\"simple\"><rect fill=\"#FFFFFF\" height=\"45.9375\" id=\"E14\" rx=\"10\" ry=\"10\" style=\"stroke: #383838; stroke-width: 1.5;\" width=\"104\" x=\"38.5\" y=\"394\"/><text fill=\"#000000\" font-family=\"sans-serif\" font-size=\"12\" font-style=\"italic\" lengthAdjust=\"spacingAndGlyphs\" textLength=\"40\" x=\"70.5\" y=\"410.1387\">«part»</text><text fill=\"#000000\" font-family=\"sans-serif\" font-size=\"12\" lengthAdjust=\"spacingAndGlyphs\" textLength=\"98\" x=\"41.5\" y=\"424.1074\">analysisContext</text><line style=\"stroke: #383838; stroke-width: 1.5;\" x1=\"39.5\" x2=\"141.5\" y1=\"431.9375\" y2=\"431.9375\"/></a><!--MD5=[0c48fb7552dae8cbbef69381101a84c8]\n",
       "class E15--><a href=\"psysml:26b0c0e9-c7c6-4e19-b68b-97e4f04c11f8\" target=\"_top\" title=\"psysml:26b0c0e9-c7c6-4e19-b68b-97e4f04c11f8\" xlink:actuate=\"onRequest\" xlink:href=\"psysml:26b0c0e9-c7c6-4e19-b68b-97e4f04c11f8\" xlink:show=\"new\" xlink:title=\"psysml:26b0c0e9-c7c6-4e19-b68b-97e4f04c11f8\" xlink:type=\"simple\"><rect fill=\"#FFFFFF\" height=\"45.9375\" id=\"E15\" rx=\"10\" ry=\"10\" style=\"stroke: #383838; stroke-width: 1.5;\" width=\"168\" x=\"210\" y=\"394\"/><text fill=\"#000000\" font-family=\"sans-serif\" font-size=\"12\" font-style=\"italic\" lengthAdjust=\"spacingAndGlyphs\" textLength=\"64\" x=\"262\" y=\"410.1387\">«analysis»</text><text fill=\"#000000\" font-family=\"sans-serif\" font-size=\"12\" lengthAdjust=\"spacingAndGlyphs\" textLength=\"162\" x=\"213\" y=\"424.1074\">analysisPlan: AnalysisPlan</text><line style=\"stroke: #383838; stroke-width: 1.5;\" x1=\"211\" x2=\"377\" y1=\"431.9375\" y2=\"431.9375\"/></a><!--MD5=[35f0587eaee8d5bb9a02e25b63afc23b]\n",
       "class E16--><a href=\"psysml:a55f605c-cc05-4fcd-b9b1-1e930756e010\" target=\"_top\" title=\"psysml:a55f605c-cc05-4fcd-b9b1-1e930756e010\" xlink:actuate=\"onRequest\" xlink:href=\"psysml:a55f605c-cc05-4fcd-b9b1-1e930756e010\" xlink:show=\"new\" xlink:title=\"psysml:a55f605c-cc05-4fcd-b9b1-1e930756e010\" xlink:type=\"simple\"><rect fill=\"#FFFFFF\" height=\"45.9375\" id=\"E16\" rx=\"10\" ry=\"10\" style=\"stroke: #383838; stroke-width: 1.5;\" width=\"93\" x=\"523.5\" y=\"394\"/><text fill=\"#000000\" font-family=\"sans-serif\" font-size=\"12\" font-style=\"italic\" lengthAdjust=\"spacingAndGlyphs\" textLength=\"91\" x=\"524.5\" y=\"410.1387\">«requirement»</text><text fill=\"#000000\" font-family=\"sans-serif\" font-size=\"12\" lengthAdjust=\"spacingAndGlyphs\" textLength=\"19\" x=\"560.5\" y=\"424.1074\">obj</text><line style=\"stroke: #383838; stroke-width: 1.5;\" x1=\"524.5\" x2=\"615.5\" y1=\"431.9375\" y2=\"431.9375\"/></a><text fill=\"#000000\" font-family=\"sans-serif\" font-size=\"14\" lengthAdjust=\"spacingAndGlyphs\" textLength=\"7\" x=\"87\" y=\"53.6982\">v</text><rect fill=\"#383838\" height=\"12\" style=\"stroke: #F8F8F8; stroke-width: 1.5;\" width=\"12\" x=\"84.5\" y=\"69\"/><text fill=\"#000000\" font-family=\"sans-serif\" font-size=\"14\" lengthAdjust=\"spacingAndGlyphs\" textLength=\"39\" x=\"643.5\" y=\"53.6982\">result</text><rect fill=\"#383838\" height=\"12\" style=\"stroke: #F8F8F8; stroke-width: 1.5;\" width=\"12\" x=\"657\" y=\"69\"/><text fill=\"#000000\" font-family=\"sans-serif\" font-size=\"14\" lengthAdjust=\"spacingAndGlyphs\" textLength=\"7\" x=\"290.5\" y=\"354.9951\">v</text><rect fill=\"#383838\" height=\"12\" style=\"stroke: #F8F8F8; stroke-width: 1.5;\" width=\"12\" x=\"288\" y=\"330\"/><text fill=\"#000000\" font-family=\"sans-serif\" font-size=\"14\" lengthAdjust=\"spacingAndGlyphs\" textLength=\"39\" x=\"820.5\" y=\"182.6982\">result</text><rect fill=\"#383838\" height=\"12\" style=\"stroke: #F8F8F8; stroke-width: 1.5;\" width=\"12\" x=\"834\" y=\"198\"/><text fill=\"#000000\" font-family=\"sans-serif\" font-size=\"14\" lengthAdjust=\"spacingAndGlyphs\" textLength=\"37\" x=\"894.5\" y=\"254.6982\">mass</text><rect fill=\"#383838\" height=\"12\" style=\"stroke: #F8F8F8; stroke-width: 1.5;\" width=\"12\" x=\"907\" y=\"270\"/><text fill=\"#000000\" font-family=\"sans-serif\" font-size=\"14\" lengthAdjust=\"spacingAndGlyphs\" textLength=\"7\" x=\"566.5\" y=\"254.6982\">v</text><rect fill=\"#383838\" height=\"12\" style=\"stroke: #F8F8F8; stroke-width: 1.5;\" width=\"12\" x=\"564\" y=\"270\"/><!--MD5=[05d275557350bfb9b23a4ef7222b4c39]\n",
       "link E3 to E2--><a href=\"psysml:4553bbf6-343c-42bd-a219-72e0d50d2170\" target=\"_top\" title=\"psysml:4553bbf6-343c-42bd-a219-72e0d50d2170\" xlink:actuate=\"onRequest\" xlink:href=\"psysml:4553bbf6-343c-42bd-a219-72e0d50d2170\" xlink:show=\"new\" xlink:title=\"psysml:4553bbf6-343c-42bd-a219-72e0d50d2170\" xlink:type=\"simple\"><path d=\"M111.56,151 C141.38,151 198.42,151 240.62,151 \" fill=\"none\" id=\"E3-&gt;E2\" style=\"stroke: #383838; stroke-width: 1.0;\"/><polygon fill=\"#FFFFFF\" points=\"260.82,151,241.82,158,241.82,144,260.82,151\" style=\"stroke: #383838; stroke-width: 1.0;\"/><ellipse cx=\"236.12\" cy=\"156\" fill=\"#383838\" rx=\"2\" ry=\"2\" style=\"stroke: #383838; stroke-width: 1.0;\"/><ellipse cx=\"236.12\" cy=\"146\" fill=\"#383838\" rx=\"2\" ry=\"2\" style=\"stroke: #383838; stroke-width: 1.0;\"/></a><!--MD5=[17bf29720e4688890742b92d9a67fdf0]\n",
       "reverse link E14 to E15--><a href=\"psysml:cf81c84a-d20a-4a9d-8212-c3de89ec9ad0\" target=\"_top\" title=\"psysml:cf81c84a-d20a-4a9d-8212-c3de89ec9ad0\" xlink:actuate=\"onRequest\" xlink:href=\"psysml:cf81c84a-d20a-4a9d-8212-c3de89ec9ad0\" xlink:show=\"new\" xlink:title=\"psysml:cf81c84a-d20a-4a9d-8212-c3de89ec9ad0\" xlink:type=\"simple\"><path d=\"M155.7,417 C172.91,417 191.75,417 209.82,417 \" fill=\"none\" id=\"E14&lt;-E15\" style=\"stroke: #383838; stroke-width: 1.0;\"/><polygon fill=\"#383838\" points=\"142.61,417,148.61,421,154.61,417,148.61,413,142.61,417\" style=\"stroke: #383838; stroke-width: 1.0;\"/></a><!--MD5=[1b01d5b954197aaf3899ca0bde35faf5]\n",
       "link E15 to E8--><a href=\"psysml:31ecf0da-b030-4520-be0f-3ece1376fb5f\" target=\"_top\" title=\"psysml:31ecf0da-b030-4520-be0f-3ece1376fb5f\" xlink:actuate=\"onRequest\" xlink:href=\"psysml:31ecf0da-b030-4520-be0f-3ece1376fb5f\" xlink:show=\"new\" xlink:title=\"psysml:31ecf0da-b030-4520-be0f-3ece1376fb5f\" xlink:type=\"simple\"><path d=\"M372.19,393.98 C409.83,382.77 455.76,369.14 497,357 C502.12,355.49 507.45,353.93 512.79,352.37 \" fill=\"none\" id=\"E15-&gt;E8\" style=\"stroke: #383838; stroke-width: 1.0;\"/><polygon fill=\"#FFFFFF\" points=\"512.79,352.37,496.5152,364.417,492.5894,350.9787,512.79,352.37\" style=\"stroke: #383838; stroke-width: 1.0;\"/><ellipse cx=\"490.4831\" cy=\"364.0956\" fill=\"#383838\" rx=\"2\" ry=\"2\" style=\"stroke: #383838; stroke-width: 1.0;\"/><ellipse cx=\"487.6789\" cy=\"354.4968\" fill=\"#383838\" rx=\"2\" ry=\"2\" style=\"stroke: #383838; stroke-width: 1.0;\"/></a><!--MD5=[f8b155c46b092be73bb522b0a8fc72a2]\n",
       "link E15 to E16--><a href=\"psysml:aa3a7955-6ed3-447d-b0ee-a09ada8803a4\" target=\"_top\" title=\"psysml:aa3a7955-6ed3-447d-b0ee-a09ada8803a4\" xlink:actuate=\"onRequest\" xlink:href=\"psysml:aa3a7955-6ed3-447d-b0ee-a09ada8803a4\" xlink:show=\"new\" xlink:title=\"psysml:aa3a7955-6ed3-447d-b0ee-a09ada8803a4\" xlink:type=\"simple\"><path d=\"M378.33,417 C422.86,417 476.39,417 515.38,417 \" fill=\"none\" id=\"E15-&gt;E16\" style=\"stroke: #383838; stroke-width: 1.0;\"/><polygon fill=\"#383838\" points=\"523.47,417,515.47,414,515.47,420,523.47,417\" style=\"stroke: #383838; stroke-width: 1.0;\"/><text fill=\"#000000\" font-family=\"sans-serif\" font-size=\"13\" lengthAdjust=\"spacingAndGlyphs\" textLength=\"73\" x=\"409\" y=\"413.0669\">«objective»</text><text fill=\"#000000\" font-family=\"sans-serif\" font-size=\"13\" lengthAdjust=\"spacingAndGlyphs\" textLength=\"8\" x=\"507.4168\" y=\"430.2778\">1</text></a><!--MD5=[ae730b7f49f7a85600f8d484a632096c]\n",
       "@startuml\r\n",
       "left to right direction\r\n",
       "skinparam monochrome true\r\n",
       "skinparam classbackgroundcolor white\r\n",
       "skinparam shadowing false\r\n",
       "skinparam wrapWidth 300\r\n",
       "hide circle\r\n",
       "\r\n",
       "package \"AnalysisTest\" as E1  [[psysml:f5546318-5597-445e-83af-957575abd1f7 ]]  {\r\n",
       "comp def \"V\" as E2  <<(T,blue) part def>> [[psysml:df856138-3406-4a6b-b583-20ed5eacc0cd ]] {\r\n",
       "}\r\n",
       "comp usage \"vv: V\" as E3  <<(T,blue) part>> [[psysml:a14948af-c637-432a-b299-badb5d3ced27 ]] {\r\n",
       "}\r\n",
       "comp def \"AnalysisObjective\" as E4  <<(T,blue) requirement def>> [[psysml:b06c710d-6070-489f-855d-95835f572a57 ]] {\r\n",
       "...\r\n",
       "- -\r\n",
       "}\r\n",
       "rec def \"AnalysisCase\" as E5 << analysis def>> [[psysml:e9833d01-8fa8-4820-af73-47d7be444de9 ]] {\r\n",
       "portin \"v\" as E6  [[psysml:fc36d359-2f0c-4a32-9d15-fff2be0a8869 ]] \r\n",
       "portout \"result\" as E7  [[psysml:7ffbe20f-c891-4b52-987b-0be8eb99b87a ]] \r\n",
       "}\r\n",
       "\r\n",
       "rec def \"AnalysisPlan\" as E8 << analysis def>> [[psysml:8a4520e8-ac51-4a2a-8007-cfc5f8084f42 ]] {\r\n",
       "portin \"v\" as E9  [[psysml:7635dc34-c4d2-4388-b045-3a6cac182eef ]] \r\n",
       "rec usage \"analysisCase\" as E10 << analysis>> [[psysml:ef775355-9069-4551-a021-5839d9673f3d ]] {\r\n",
       "portout \"mass\" as E11  [[psysml:56f340db-5793-4dc6-898e-9e0a5f90ef66 ]] \r\n",
       "portin \"v\" as E12  [[psysml:d8dc3b58-26c5-4e6e-82f3-a4f0880c0fd9 ]] \r\n",
       "}\r\n",
       "\r\n",
       "portout \"result\" as E13  [[psysml:55ba6aa8-4536-4622-ad3c-e7c6595a0034 ]] \r\n",
       "}\r\n",
       "\r\n",
       "comp usage \"analysisContext\" as E14  <<(T,blue) part>> [[psysml:e127547d-9ca6-4380-b459-796effe0b56f ]] {\r\n",
       "}\r\n",
       "comp usage \"analysisPlan: AnalysisPlan\" as E15 << analysis>> [[psysml:26b0c0e9-c7c6-4e19-b68b-97e4f04c11f8 ]] {\r\n",
       "}\r\n",
       "comp usage \"obj\" as E16  <<(T,blue) requirement>> [[psysml:a55f605c-cc05-4fcd-b9b1-1e930756e010 ]] {\r\n",
       "}\r\n",
       "}\r\n",
       "E3 - -:|> E2 [[psysml:4553bbf6-343c-42bd-a219-72e0d50d2170 ]] \r\n",
       "E14 *- - E15 [[psysml:cf81c84a-d20a-4a9d-8212-c3de89ec9ad0 ]] \r\n",
       "E15 - -:|> E8 [[psysml:31ecf0da-b030-4520-be0f-3ece1376fb5f ]] \r\n",
       "E15 - ->> \"1\"E16 [[psysml:aa3a7955-6ed3-447d-b0ee-a09ada8803a4 ]] : <<objective>>\r\n",
       "@enduml\r\n",
       "\n",
       "PlantUML version 1.2020.13(Sat Jun 13 12:26:38 UTC 2020)\n",
       "(EPL source distribution)\n",
       "Java Runtime: OpenJDK Runtime Environment\n",
       "JVM: OpenJDK 64-Bit Server VM\n",
       "Default Encoding: UTF-8\n",
       "Language: en\n",
       "Country: null\n",
       "--></g></svg>"
      ]
     },
     "execution_count": 16,
     "metadata": {},
     "output_type": "execute_result"
    }
   ],
   "source": [
    "%viz --style=\"LR\" --view=\"Default\" \"AnalysisTest\""
   ]
  },
  {
   "cell_type": "code",
   "execution_count": 17,
   "id": "62816a40",
   "metadata": {
    "execution": {
     "iopub.execute_input": "2021-09-27T07:15:29.506308Z",
     "iopub.status.busy": "2021-09-27T07:15:29.505790Z",
     "iopub.status.idle": "2021-09-27T07:15:29.569381Z",
     "shell.execute_reply": "2021-09-27T07:15:29.569009Z"
    }
   },
   "outputs": [
    {
     "data": {
      "image/svg+xml": [
       "<?xml version=\"1.0\" encoding=\"UTF-8\" standalone=\"no\"?><svg xmlns=\"http://www.w3.org/2000/svg\" xmlns:xlink=\"http://www.w3.org/1999/xlink\" contentScriptType=\"application/ecmascript\" contentStyleType=\"text/css\" height=\"325px\" preserveAspectRatio=\"none\" style=\"width:1623px;height:325px;\" version=\"1.1\" viewBox=\"0 0 1623 325\" width=\"1623px\" zoomAndPan=\"magnify\"><defs/><g><!--MD5=[fbc87193dbaf4d95561dea2c320d4a47]\n",
       "cluster E1--><a href=\"psysml:f5546318-5597-445e-83af-957575abd1f7\" target=\"_top\" title=\"psysml:f5546318-5597-445e-83af-957575abd1f7\" xlink:actuate=\"onRequest\" xlink:href=\"psysml:f5546318-5597-445e-83af-957575abd1f7\" xlink:show=\"new\" xlink:title=\"psysml:f5546318-5597-445e-83af-957575abd1f7\" xlink:type=\"simple\"><polygon fill=\"#FFFFFF\" points=\"16,6,108,6,115,28.2969,1601,28.2969,1601,302,16,302,16,6\" style=\"stroke: #000000; stroke-width: 1.5;\"/><line style=\"stroke: #000000; stroke-width: 1.5;\" x1=\"16\" x2=\"115\" y1=\"28.2969\" y2=\"28.2969\"/><text fill=\"#000000\" font-family=\"sans-serif\" font-size=\"14\" font-weight=\"bold\" lengthAdjust=\"spacingAndGlyphs\" textLength=\"86\" x=\"20\" y=\"20.9951\">AnalysisTest</text></a><!--MD5=[b4997ac47864f28c2f74865a473b2911]\n",
       "class E2--><a href=\"psysml:df856138-3406-4a6b-b583-20ed5eacc0cd\" target=\"_top\" title=\"psysml:df856138-3406-4a6b-b583-20ed5eacc0cd\" xlink:actuate=\"onRequest\" xlink:href=\"psysml:df856138-3406-4a6b-b583-20ed5eacc0cd\" xlink:show=\"new\" xlink:title=\"psysml:df856138-3406-4a6b-b583-20ed5eacc0cd\" xlink:type=\"simple\"><rect fill=\"#FFFFFF\" height=\"45.9375\" id=\"E2\" style=\"stroke: #383838; stroke-width: 1.5;\" width=\"66\" x=\"1304\" y=\"139\"/><text fill=\"#000000\" font-family=\"sans-serif\" font-size=\"12\" font-style=\"italic\" lengthAdjust=\"spacingAndGlyphs\" textLength=\"64\" x=\"1305\" y=\"155.1387\">«part def»</text><text fill=\"#000000\" font-family=\"sans-serif\" font-size=\"12\" lengthAdjust=\"spacingAndGlyphs\" textLength=\"8\" x=\"1333\" y=\"169.1074\">V</text><line style=\"stroke: #383838; stroke-width: 1.5;\" x1=\"1305\" x2=\"1369\" y1=\"176.9375\" y2=\"176.9375\"/></a><!--MD5=[09b614a08d8cba4a07c9adeb5e0fee81]\n",
       "class E3--><a href=\"psysml:a14948af-c637-432a-b299-badb5d3ced27\" target=\"_top\" title=\"psysml:a14948af-c637-432a-b299-badb5d3ced27\" xlink:actuate=\"onRequest\" xlink:href=\"psysml:a14948af-c637-432a-b299-badb5d3ced27\" xlink:show=\"new\" xlink:title=\"psysml:a14948af-c637-432a-b299-badb5d3ced27\" xlink:type=\"simple\"><rect fill=\"#FFFFFF\" height=\"45.9375\" id=\"E3\" rx=\"10\" ry=\"10\" style=\"stroke: #383838; stroke-width: 1.5;\" width=\"42\" x=\"1064.5\" y=\"122\"/><text fill=\"#000000\" font-family=\"sans-serif\" font-size=\"12\" font-style=\"italic\" lengthAdjust=\"spacingAndGlyphs\" textLength=\"40\" x=\"1065.5\" y=\"138.1387\">«part»</text><text fill=\"#000000\" font-family=\"sans-serif\" font-size=\"12\" lengthAdjust=\"spacingAndGlyphs\" textLength=\"28\" x=\"1071.5\" y=\"152.1074\">vv: V</text><line style=\"stroke: #383838; stroke-width: 1.5;\" x1=\"1065.5\" x2=\"1105.5\" y1=\"159.9375\" y2=\"159.9375\"/></a><!--MD5=[ebbe1d658d1005bcc118a6aa81145e00]\n",
       "class E4--><a href=\"psysml:b06c710d-6070-489f-855d-95835f572a57\" target=\"_top\" title=\"psysml:b06c710d-6070-489f-855d-95835f572a57\" xlink:actuate=\"onRequest\" xlink:href=\"psysml:b06c710d-6070-489f-855d-95835f572a57\" xlink:show=\"new\" xlink:title=\"psysml:b06c710d-6070-489f-855d-95835f572a57\" xlink:type=\"simple\"><rect fill=\"#FFFFFF\" height=\"66.7422\" id=\"E4\" style=\"stroke: #383838; stroke-width: 1.5;\" width=\"117\" x=\"1468\" y=\"41.5\"/><text fill=\"#000000\" font-family=\"sans-serif\" font-size=\"12\" font-style=\"italic\" lengthAdjust=\"spacingAndGlyphs\" textLength=\"115\" x=\"1469\" y=\"57.6387\">«requirement def»</text><text fill=\"#000000\" font-family=\"sans-serif\" font-size=\"12\" lengthAdjust=\"spacingAndGlyphs\" textLength=\"107\" x=\"1473\" y=\"71.6074\">AnalysisObjective</text><line style=\"stroke: #383838; stroke-width: 1.5;\" x1=\"1469\" x2=\"1584\" y1=\"79.4375\" y2=\"79.4375\"/><text fill=\"#000000\" font-family=\"sans-serif\" font-size=\"11\" lengthAdjust=\"spacingAndGlyphs\" textLength=\"12\" x=\"1474\" y=\"93.6479\">...</text><line style=\"stroke: #383838; stroke-width: 1.0;\" x1=\"1469\" x2=\"1584\" y1=\"100.2422\" y2=\"100.2422\"/></a><!--MD5=[270fce915f116d4de14055a7c1d9a0f3]\n",
       "class E5--><a href=\"psysml:e9833d01-8fa8-4820-af73-47d7be444de9\" target=\"_top\" title=\"psysml:e9833d01-8fa8-4820-af73-47d7be444de9\" xlink:actuate=\"onRequest\" xlink:href=\"psysml:e9833d01-8fa8-4820-af73-47d7be444de9\" xlink:show=\"new\" xlink:title=\"psysml:e9833d01-8fa8-4820-af73-47d7be444de9\" xlink:type=\"simple\"><rect fill=\"#FFFFFF\" height=\"45.9375\" id=\"E5\" style=\"stroke: #383838; stroke-width: 1.5;\" width=\"90\" x=\"1040.5\" y=\"41\"/><text fill=\"#000000\" font-family=\"sans-serif\" font-size=\"12\" font-style=\"italic\" lengthAdjust=\"spacingAndGlyphs\" textLength=\"88\" x=\"1041.5\" y=\"57.1387\">«analysis def»</text><text fill=\"#000000\" font-family=\"sans-serif\" font-size=\"12\" lengthAdjust=\"spacingAndGlyphs\" textLength=\"81\" x=\"1045\" y=\"71.1074\">AnalysisCase</text><line style=\"stroke: #383838; stroke-width: 1.5;\" x1=\"1041.5\" x2=\"1129.5\" y1=\"78.9375\" y2=\"78.9375\"/></a><!--MD5=[60a26617385b1d2d0262a64233df1f8d]\n",
       "class E6--><a href=\"psysml:5d02fb37-4730-4ed2-b0a0-8fa990128639\" target=\"_top\" title=\"psysml:5d02fb37-4730-4ed2-b0a0-8fa990128639\" xlink:actuate=\"onRequest\" xlink:href=\"psysml:5d02fb37-4730-4ed2-b0a0-8fa990128639\" xlink:show=\"new\" xlink:title=\"psysml:5d02fb37-4730-4ed2-b0a0-8fa990128639\" xlink:type=\"simple\"><rect fill=\"#FFFFFF\" height=\"45.9375\" id=\"E6\" rx=\"10\" ry=\"10\" style=\"stroke: #383838; stroke-width: 1.5;\" width=\"140\" x=\"1267\" y=\"44\"/><text fill=\"#000000\" font-family=\"sans-serif\" font-size=\"12\" font-style=\"italic\" lengthAdjust=\"spacingAndGlyphs\" textLength=\"91\" x=\"1291.5\" y=\"60.1387\">«requirement»</text><text fill=\"#000000\" font-family=\"sans-serif\" font-size=\"12\" lengthAdjust=\"spacingAndGlyphs\" textLength=\"134\" x=\"1270\" y=\"74.1074\">obj: AnalysisObjective</text><line style=\"stroke: #383838; stroke-width: 1.5;\" x1=\"1268\" x2=\"1406\" y1=\"81.9375\" y2=\"81.9375\"/></a><!--MD5=[2156ba9850f5573cc1fc38a6a4b2f02b]\n",
       "class E7--><a href=\"psysml:8a4520e8-ac51-4a2a-8007-cfc5f8084f42\" target=\"_top\" title=\"psysml:8a4520e8-ac51-4a2a-8007-cfc5f8084f42\" xlink:actuate=\"onRequest\" xlink:href=\"psysml:8a4520e8-ac51-4a2a-8007-cfc5f8084f42\" xlink:show=\"new\" xlink:title=\"psysml:8a4520e8-ac51-4a2a-8007-cfc5f8084f42\" xlink:type=\"simple\"><rect fill=\"#FFFFFF\" height=\"45.9375\" id=\"E7\" style=\"stroke: #383838; stroke-width: 1.5;\" width=\"90\" x=\"501.5\" y=\"158\"/><text fill=\"#000000\" font-family=\"sans-serif\" font-size=\"12\" font-style=\"italic\" lengthAdjust=\"spacingAndGlyphs\" textLength=\"88\" x=\"502.5\" y=\"174.1387\">«analysis def»</text><text fill=\"#000000\" font-family=\"sans-serif\" font-size=\"12\" lengthAdjust=\"spacingAndGlyphs\" textLength=\"77\" x=\"508\" y=\"188.1074\">AnalysisPlan</text><line style=\"stroke: #383838; stroke-width: 1.5;\" x1=\"502.5\" x2=\"590.5\" y1=\"195.9375\" y2=\"195.9375\"/></a><!--MD5=[b9389687b975829384b498ac4b7476b2]\n",
       "class E8--><a href=\"psysml:c9e778b5-528f-48e8-8904-91782dcf8fb6\" target=\"_top\" title=\"psysml:c9e778b5-528f-48e8-8904-91782dcf8fb6\" xlink:actuate=\"onRequest\" xlink:href=\"psysml:c9e778b5-528f-48e8-8904-91782dcf8fb6\" xlink:show=\"new\" xlink:title=\"psysml:c9e778b5-528f-48e8-8904-91782dcf8fb6\" xlink:type=\"simple\"><rect fill=\"#FFFFFF\" height=\"66.7422\" id=\"E8\" rx=\"10\" ry=\"10\" style=\"stroke: #383838; stroke-width: 1.5;\" width=\"93\" x=\"769.5\" y=\"147.5\"/><text fill=\"#000000\" font-family=\"sans-serif\" font-size=\"12\" font-style=\"italic\" lengthAdjust=\"spacingAndGlyphs\" textLength=\"91\" x=\"770.5\" y=\"163.6387\">«requirement»</text><text fill=\"#000000\" font-family=\"sans-serif\" font-size=\"12\" lengthAdjust=\"spacingAndGlyphs\" textLength=\"19\" x=\"806.5\" y=\"177.6074\">obj</text><line style=\"stroke: #383838; stroke-width: 1.5;\" x1=\"770.5\" x2=\"861.5\" y1=\"185.4375\" y2=\"185.4375\"/><text fill=\"#000000\" font-family=\"sans-serif\" font-size=\"11\" lengthAdjust=\"spacingAndGlyphs\" textLength=\"12\" x=\"775.5\" y=\"199.6479\">...</text><line style=\"stroke: #383838; stroke-width: 1.0;\" x1=\"770.5\" x2=\"861.5\" y1=\"206.2422\" y2=\"206.2422\"/></a><!--MD5=[fd4143e9d270a159db93a4ea2a975926]\n",
       "class E9--><a href=\"psysml:ef775355-9069-4551-a021-5839d9673f3d\" target=\"_top\" title=\"psysml:ef775355-9069-4551-a021-5839d9673f3d\" xlink:actuate=\"onRequest\" xlink:href=\"psysml:ef775355-9069-4551-a021-5839d9673f3d\" xlink:show=\"new\" xlink:title=\"psysml:ef775355-9069-4551-a021-5839d9673f3d\" xlink:type=\"simple\"><rect fill=\"#FFFFFF\" height=\"45.9375\" id=\"E9\" rx=\"10\" ry=\"10\" style=\"stroke: #383838; stroke-width: 1.5;\" width=\"176\" x=\"728\" y=\"66\"/><text fill=\"#000000\" font-family=\"sans-serif\" font-size=\"12\" font-style=\"italic\" lengthAdjust=\"spacingAndGlyphs\" textLength=\"64\" x=\"784\" y=\"82.1387\">«analysis»</text><text fill=\"#000000\" font-family=\"sans-serif\" font-size=\"12\" lengthAdjust=\"spacingAndGlyphs\" textLength=\"170\" x=\"731\" y=\"96.1074\">analysisCase: AnalysisCase</text><line style=\"stroke: #383838; stroke-width: 1.5;\" x1=\"729\" x2=\"903\" y1=\"103.9375\" y2=\"103.9375\"/></a><!--MD5=[96f4274e9e20536e775497830990834d]\n",
       "class E10--><a href=\"psysml:37fc8968-437f-41f6-96b6-577444b5c586\" target=\"_top\" title=\"psysml:37fc8968-437f-41f6-96b6-577444b5c586\" xlink:actuate=\"onRequest\" xlink:href=\"psysml:37fc8968-437f-41f6-96b6-577444b5c586\" xlink:show=\"new\" xlink:title=\"psysml:37fc8968-437f-41f6-96b6-577444b5c586\" xlink:type=\"simple\"><rect fill=\"#FFFFFF\" height=\"45.9375\" id=\"E10\" rx=\"10\" ry=\"10\" style=\"stroke: #383838; stroke-width: 1.5;\" width=\"93\" x=\"1039\" y=\"203\"/><text fill=\"#000000\" font-family=\"sans-serif\" font-size=\"12\" font-style=\"italic\" lengthAdjust=\"spacingAndGlyphs\" textLength=\"91\" x=\"1040\" y=\"219.1387\">«requirement»</text><text fill=\"#000000\" font-family=\"sans-serif\" font-size=\"12\" lengthAdjust=\"spacingAndGlyphs\" textLength=\"19\" x=\"1076\" y=\"233.1074\">obj</text><line style=\"stroke: #383838; stroke-width: 1.5;\" x1=\"1040\" x2=\"1131\" y1=\"240.9375\" y2=\"240.9375\"/></a><!--MD5=[1dd1bfd58a279cf63c5f349dbc8fc6a1]\n",
       "class E11--><a href=\"psysml:e127547d-9ca6-4380-b459-796effe0b56f\" target=\"_top\" title=\"psysml:e127547d-9ca6-4380-b459-796effe0b56f\" xlink:actuate=\"onRequest\" xlink:href=\"psysml:e127547d-9ca6-4380-b459-796effe0b56f\" xlink:show=\"new\" xlink:title=\"psysml:e127547d-9ca6-4380-b459-796effe0b56f\" xlink:type=\"simple\"><rect fill=\"#FFFFFF\" height=\"45.9375\" id=\"E11\" rx=\"10\" ry=\"10\" style=\"stroke: #383838; stroke-width: 1.5;\" width=\"104\" x=\"32\" y=\"118\"/><text fill=\"#000000\" font-family=\"sans-serif\" font-size=\"12\" font-style=\"italic\" lengthAdjust=\"spacingAndGlyphs\" textLength=\"40\" x=\"64\" y=\"134.1387\">«part»</text><text fill=\"#000000\" font-family=\"sans-serif\" font-size=\"12\" lengthAdjust=\"spacingAndGlyphs\" textLength=\"98\" x=\"35\" y=\"148.1074\">analysisContext</text><line style=\"stroke: #383838; stroke-width: 1.5;\" x1=\"33\" x2=\"135\" y1=\"155.9375\" y2=\"155.9375\"/></a><!--MD5=[49a0ec8f00dab7302a31f22d0f0fe584]\n",
       "class E12--><a href=\"psysml:26b0c0e9-c7c6-4e19-b68b-97e4f04c11f8\" target=\"_top\" title=\"psysml:26b0c0e9-c7c6-4e19-b68b-97e4f04c11f8\" xlink:actuate=\"onRequest\" xlink:href=\"psysml:26b0c0e9-c7c6-4e19-b68b-97e4f04c11f8\" xlink:show=\"new\" xlink:title=\"psysml:26b0c0e9-c7c6-4e19-b68b-97e4f04c11f8\" xlink:type=\"simple\"><rect fill=\"#FFFFFF\" height=\"45.9375\" id=\"E12\" rx=\"10\" ry=\"10\" style=\"stroke: #383838; stroke-width: 1.5;\" width=\"168\" x=\"197\" y=\"118\"/><text fill=\"#000000\" font-family=\"sans-serif\" font-size=\"12\" font-style=\"italic\" lengthAdjust=\"spacingAndGlyphs\" textLength=\"64\" x=\"249\" y=\"134.1387\">«analysis»</text><text fill=\"#000000\" font-family=\"sans-serif\" font-size=\"12\" lengthAdjust=\"spacingAndGlyphs\" textLength=\"162\" x=\"200\" y=\"148.1074\">analysisPlan: AnalysisPlan</text><line style=\"stroke: #383838; stroke-width: 1.5;\" x1=\"198\" x2=\"364\" y1=\"155.9375\" y2=\"155.9375\"/></a><!--MD5=[ee3c913d1a06f366521f9ef512b67efe]\n",
       "class E13--><a href=\"psysml:a55f605c-cc05-4fcd-b9b1-1e930756e010\" target=\"_top\" title=\"psysml:a55f605c-cc05-4fcd-b9b1-1e930756e010\" xlink:actuate=\"onRequest\" xlink:href=\"psysml:a55f605c-cc05-4fcd-b9b1-1e930756e010\" xlink:show=\"new\" xlink:title=\"psysml:a55f605c-cc05-4fcd-b9b1-1e930756e010\" xlink:type=\"simple\"><rect fill=\"#FFFFFF\" height=\"45.9375\" id=\"E13\" rx=\"10\" ry=\"10\" style=\"stroke: #383838; stroke-width: 1.5;\" width=\"93\" x=\"500\" y=\"77\"/><text fill=\"#000000\" font-family=\"sans-serif\" font-size=\"12\" font-style=\"italic\" lengthAdjust=\"spacingAndGlyphs\" textLength=\"91\" x=\"501\" y=\"93.1387\">«requirement»</text><text fill=\"#000000\" font-family=\"sans-serif\" font-size=\"12\" lengthAdjust=\"spacingAndGlyphs\" textLength=\"19\" x=\"537\" y=\"107.1074\">obj</text><line style=\"stroke: #383838; stroke-width: 1.5;\" x1=\"501\" x2=\"592\" y1=\"114.9375\" y2=\"114.9375\"/></a><!--MD5=[05d275557350bfb9b23a4ef7222b4c39]\n",
       "link E3 to E2--><a href=\"psysml:4553bbf6-343c-42bd-a219-72e0d50d2170\" target=\"_top\" title=\"psysml:4553bbf6-343c-42bd-a219-72e0d50d2170\" xlink:actuate=\"onRequest\" xlink:href=\"psysml:4553bbf6-343c-42bd-a219-72e0d50d2170\" xlink:show=\"new\" xlink:title=\"psysml:4553bbf6-343c-42bd-a219-72e0d50d2170\" xlink:type=\"simple\"><path d=\"M1106.6,148.92 C1121.76,151.7 1143.1,155.23 1162,157 C1202.67,160.8 1248.91,161.98 1283.49,162.25 \" fill=\"none\" id=\"E3-&gt;E2\" style=\"stroke: #383838; stroke-width: 1.0;\"/><polygon fill=\"#FFFFFF\" points=\"1303.85,162.31,1284.8251,169.2421,1284.8751,155.2422,1303.85,162.31\" style=\"stroke: #383838; stroke-width: 1.0;\"/><ellipse cx=\"1279.1323\" cy=\"167.2218\" fill=\"#383838\" rx=\"2\" ry=\"2\" style=\"stroke: #383838; stroke-width: 1.0;\"/><ellipse cx=\"1279.168\" cy=\"157.2218\" fill=\"#383838\" rx=\"2\" ry=\"2\" style=\"stroke: #383838; stroke-width: 1.0;\"/></a><!--MD5=[15ebcb19ae302d9b601edb458606d402]\n",
       "link E5 to E2--><a href=\"psysml:55d14872-2cf4-45ef-b86e-776491343885\" target=\"_top\" title=\"psysml:55d14872-2cf4-45ef-b86e-776491343885\" xlink:actuate=\"onRequest\" xlink:href=\"psysml:55d14872-2cf4-45ef-b86e-776491343885\" xlink:show=\"new\" xlink:title=\"psysml:55d14872-2cf4-45ef-b86e-776491343885\" xlink:type=\"simple\"><path d=\"M1130.53,81.29 C1178.45,100.12 1254.21,129.87 1299.11,147.51 \" fill=\"none\" id=\"E5-&gt;E2\" style=\"stroke: #383838; stroke-width: 1.0; stroke-dasharray: 7.0,7.0;\"/><polygon fill=\"#383838\" points=\"1303.9,149.39,1296.9845,142.3774,1299.2459,147.5626,1294.0607,149.824,1303.9,149.39\" style=\"stroke: #383838; stroke-width: 1.0;\"/><text fill=\"#000000\" font-family=\"sans-serif\" font-size=\"13\" lengthAdjust=\"spacingAndGlyphs\" textLength=\"62\" x=\"1168.5\" y=\"92.0669\">«subject»</text></a><!--MD5=[9120cf2e5df3bff93db8f754bbbc09b4]\n",
       "link E5 to E6--><a href=\"psysml:66eb83d5-c5e2-4f23-b460-3cc53e216041\" target=\"_top\" title=\"psysml:66eb83d5-c5e2-4f23-b460-3cc53e216041\" xlink:actuate=\"onRequest\" xlink:href=\"psysml:66eb83d5-c5e2-4f23-b460-3cc53e216041\" xlink:show=\"new\" xlink:title=\"psysml:66eb83d5-c5e2-4f23-b460-3cc53e216041\" xlink:type=\"simple\"><path d=\"M1130.53,64.53 C1166.02,64.96 1216.77,65.57 1258.96,66.07 \" fill=\"none\" id=\"E5-&gt;E6\" style=\"stroke: #383838; stroke-width: 1.0;\"/><polygon fill=\"#383838\" points=\"1267,66.17,1259.0326,63.0845,1258.9683,69.0841,1267,66.17\" style=\"stroke: #383838; stroke-width: 1.0;\"/><text fill=\"#000000\" font-family=\"sans-serif\" font-size=\"13\" lengthAdjust=\"spacingAndGlyphs\" textLength=\"73\" x=\"1163\" y=\"61.0669\">«objective»</text></a><!--MD5=[f667431f98296947986a1a7595a31603]\n",
       "link E6 to E4--><a href=\"psysml:35160ff3-34f1-44b9-93fc-42f4fb412225\" target=\"_top\" title=\"psysml:35160ff3-34f1-44b9-93fc-42f4fb412225\" xlink:actuate=\"onRequest\" xlink:href=\"psysml:35160ff3-34f1-44b9-93fc-42f4fb412225\" xlink:show=\"new\" xlink:title=\"psysml:35160ff3-34f1-44b9-93fc-42f4fb412225\" xlink:type=\"simple\"><path d=\"M1407.02,69.94 C1420.26,70.51 1434.22,71.11 1447.71,71.68 \" fill=\"none\" id=\"E6-&gt;E4\" style=\"stroke: #383838; stroke-width: 1.0;\"/><polygon fill=\"#FFFFFF\" points=\"1467.7,72.53,1448.4173,78.7089,1449.0176,64.7217,1467.7,72.53\" style=\"stroke: #383838; stroke-width: 1.0;\"/><ellipse cx=\"1442.8083\" cy=\"76.4663\" fill=\"#383838\" rx=\"2\" ry=\"2\" style=\"stroke: #383838; stroke-width: 1.0;\"/><ellipse cx=\"1443.2371\" cy=\"66.4755\" fill=\"#383838\" rx=\"2\" ry=\"2\" style=\"stroke: #383838; stroke-width: 1.0;\"/></a><!--MD5=[583832df87f4419a098336a29a52fa00]\n",
       "link E7 to E2--><a href=\"psysml:6c24e69d-02cf-4e90-8710-eea2d3fb6e80\" target=\"_top\" title=\"psysml:6c24e69d-02cf-4e90-8710-eea2d3fb6e80\" xlink:actuate=\"onRequest\" xlink:href=\"psysml:6c24e69d-02cf-4e90-8710-eea2d3fb6e80\" xlink:show=\"new\" xlink:title=\"psysml:6c24e69d-02cf-4e90-8710-eea2d3fb6e80\" xlink:type=\"simple\"><path d=\"M591.65,198.71 C689.84,235.67 933.33,313.72 1132,266 C1195.03,250.86 1260.53,212.81 1299.78,187.18 \" fill=\"none\" id=\"E7-&gt;E2\" style=\"stroke: #383838; stroke-width: 1.0; stroke-dasharray: 7.0,7.0;\"/><polygon fill=\"#383838\" points=\"1303.97,184.43,1294.2524,186.0324,1299.7922,187.177,1298.6476,192.7169,1303.97,184.43\" style=\"stroke: #383838; stroke-width: 1.0;\"/><text fill=\"#000000\" font-family=\"sans-serif\" font-size=\"13\" lengthAdjust=\"spacingAndGlyphs\" textLength=\"62\" x=\"940.5\" y=\"275.0669\">«subject»</text></a><!--MD5=[79bc8f324ef4d02c541433f2e6e513c3]\n",
       "link E7 to E8--><a href=\"psysml:5f63fe39-bd01-4e2f-b177-a256ca3547ed\" target=\"_top\" title=\"psysml:5f63fe39-bd01-4e2f-b177-a256ca3547ed\" xlink:actuate=\"onRequest\" xlink:href=\"psysml:5f63fe39-bd01-4e2f-b177-a256ca3547ed\" xlink:show=\"new\" xlink:title=\"psysml:5f63fe39-bd01-4e2f-b177-a256ca3547ed\" xlink:type=\"simple\"><path d=\"M591.67,181 C638.2,181 711.49,181 761.32,181 \" fill=\"none\" id=\"E7-&gt;E8\" style=\"stroke: #383838; stroke-width: 1.0;\"/><polygon fill=\"#383838\" points=\"769.42,181,761.42,178,761.42,184,769.42,181\" style=\"stroke: #383838; stroke-width: 1.0;\"/><text fill=\"#000000\" font-family=\"sans-serif\" font-size=\"13\" lengthAdjust=\"spacingAndGlyphs\" textLength=\"73\" x=\"624\" y=\"177.0669\">«objective»</text><text fill=\"#000000\" font-family=\"sans-serif\" font-size=\"13\" lengthAdjust=\"spacingAndGlyphs\" textLength=\"8\" x=\"753.3588\" y=\"194.2933\">1</text></a><!--MD5=[e4a10ef82d0e328e31cac39a31e58dda]\n",
       "reverse link E7 to E9--><a href=\"psysml:0539f402-c799-478a-a763-36444c838111\" target=\"_top\" title=\"psysml:0539f402-c799-478a-a763-36444c838111\" xlink:actuate=\"onRequest\" xlink:href=\"psysml:0539f402-c799-478a-a763-36444c838111\" xlink:show=\"new\" xlink:title=\"psysml:0539f402-c799-478a-a763-36444c838111\" xlink:type=\"simple\"><path d=\"M604.19,161.5 C646.21,147.05 703.63,127.3 747.94,112.06 \" fill=\"none\" id=\"E7&lt;-E9\" style=\"stroke: #383838; stroke-width: 1.0;\"/><polygon fill=\"#383838\" points=\"591.67,165.81,598.6452,167.6395,603.0167,161.9046,596.0416,160.0751,591.67,165.81\" style=\"stroke: #383838; stroke-width: 1.0;\"/></a><!--MD5=[bfc3ddf2e613be37104f658f09af896c]\n",
       "link E9 to E5--><a href=\"psysml:5fa585d6-e8aa-4013-b88d-119f555331de\" target=\"_top\" title=\"psysml:5fa585d6-e8aa-4013-b88d-119f555331de\" xlink:actuate=\"onRequest\" xlink:href=\"psysml:5fa585d6-e8aa-4013-b88d-119f555331de\" xlink:show=\"new\" xlink:title=\"psysml:5fa585d6-e8aa-4013-b88d-119f555331de\" xlink:type=\"simple\"><path d=\"M904.22,80.85 C941.84,77.33 985.08,73.29 1019.78,70.05 \" fill=\"none\" id=\"E9-&gt;E5\" style=\"stroke: #383838; stroke-width: 1.0;\"/><polygon fill=\"#FFFFFF\" points=\"1040.16,68.14,1021.8921,76.874,1020.5921,62.9345,1040.16,68.14\" style=\"stroke: #383838; stroke-width: 1.0;\"/><ellipse cx=\"1016.031\" cy=\"75.4119\" fill=\"#383838\" rx=\"2\" ry=\"2\" style=\"stroke: #383838; stroke-width: 1.0;\"/><ellipse cx=\"1015.1024\" cy=\"65.4551\" fill=\"#383838\" rx=\"2\" ry=\"2\" style=\"stroke: #383838; stroke-width: 1.0;\"/></a><!--MD5=[35e5f1cbde42fa304a029880aa2bc7f2]\n",
       "link E9 to E10--><a href=\"psysml:7fa56b0a-037d-44be-9e3a-456886c00dd1\" target=\"_top\" title=\"psysml:7fa56b0a-037d-44be-9e3a-456886c00dd1\" xlink:actuate=\"onRequest\" xlink:href=\"psysml:7fa56b0a-037d-44be-9e3a-456886c00dd1\" xlink:show=\"new\" xlink:title=\"psysml:7fa56b0a-037d-44be-9e3a-456886c00dd1\" xlink:type=\"simple\"><path d=\"M866.89,112 C879.08,117.77 892.06,124.01 904,130 C948.73,152.42 998.93,179.26 1035.02,198.85 \" fill=\"none\" id=\"E9-&gt;E10\" style=\"stroke: #383838; stroke-width: 1.0;\"/><polygon fill=\"#383838\" points=\"1042.49,202.92,1036.8896,196.4675,1034.0277,201.741,1042.49,202.92\" style=\"stroke: #383838; stroke-width: 1.0;\"/><text fill=\"#000000\" font-family=\"sans-serif\" font-size=\"13\" lengthAdjust=\"spacingAndGlyphs\" textLength=\"73\" x=\"935\" y=\"144.0669\">«objective»</text></a><!--MD5=[94adabc162ce7e41b39f13be14fbaeb3]\n",
       "reverse link E11 to E12--><a href=\"psysml:cf81c84a-d20a-4a9d-8212-c3de89ec9ad0\" target=\"_top\" title=\"psysml:cf81c84a-d20a-4a9d-8212-c3de89ec9ad0\" xlink:actuate=\"onRequest\" xlink:href=\"psysml:cf81c84a-d20a-4a9d-8212-c3de89ec9ad0\" xlink:show=\"new\" xlink:title=\"psysml:cf81c84a-d20a-4a9d-8212-c3de89ec9ad0\" xlink:type=\"simple\"><path d=\"M149.67,141 C164.72,141 180.96,141 196.68,141 \" fill=\"none\" id=\"E11&lt;-E12\" style=\"stroke: #383838; stroke-width: 1.0;\"/><polygon fill=\"#383838\" points=\"136.23,141,142.23,145,148.23,141,142.23,137,136.23,141\" style=\"stroke: #383838; stroke-width: 1.0;\"/></a><!--MD5=[ae660f5ecd7ddb04a8913625960940af]\n",
       "link E12 to E7--><a href=\"psysml:31ecf0da-b030-4520-be0f-3ece1376fb5f\" target=\"_top\" title=\"psysml:31ecf0da-b030-4520-be0f-3ece1376fb5f\" xlink:actuate=\"onRequest\" xlink:href=\"psysml:31ecf0da-b030-4520-be0f-3ece1376fb5f\" xlink:show=\"new\" xlink:title=\"psysml:31ecf0da-b030-4520-be0f-3ece1376fb5f\" xlink:type=\"simple\"><path d=\"M365.01,153.6 C402.54,159.3 446.21,165.93 481.19,171.24 \" fill=\"none\" id=\"E12-&gt;E7\" style=\"stroke: #383838; stroke-width: 1.0;\"/><polygon fill=\"#FFFFFF\" points=\"501.2,174.27,481.362,178.3265,483.472,164.4864,501.2,174.27\" style=\"stroke: #383838; stroke-width: 1.0;\"/><ellipse cx=\"476.0286\" cy=\"175.4902\" fill=\"#383838\" rx=\"2\" ry=\"2\" style=\"stroke: #383838; stroke-width: 1.0;\"/><ellipse cx=\"477.5357\" cy=\"165.6044\" fill=\"#383838\" rx=\"2\" ry=\"2\" style=\"stroke: #383838; stroke-width: 1.0;\"/></a><!--MD5=[e2a9ac97dcd3257bb5342dae06547bad]\n",
       "link E12 to E13--><a href=\"psysml:aa3a7955-6ed3-447d-b0ee-a09ada8803a4\" target=\"_top\" title=\"psysml:aa3a7955-6ed3-447d-b0ee-a09ada8803a4\" xlink:actuate=\"onRequest\" xlink:href=\"psysml:aa3a7955-6ed3-447d-b0ee-a09ada8803a4\" xlink:show=\"new\" xlink:title=\"psysml:aa3a7955-6ed3-447d-b0ee-a09ada8803a4\" xlink:type=\"simple\"><path d=\"M365.01,128.08 C406.38,121.65 455.22,114.05 491.65,108.38 \" fill=\"none\" id=\"E12-&gt;E13\" style=\"stroke: #383838; stroke-width: 1.0;\"/><polygon fill=\"#383838\" points=\"499.7,107.13,491.331,105.4097,492.2634,111.3368,499.7,107.13\" style=\"stroke: #383838; stroke-width: 1.0;\"/><text fill=\"#000000\" font-family=\"sans-serif\" font-size=\"13\" lengthAdjust=\"spacingAndGlyphs\" textLength=\"73\" x=\"396\" y=\"109.0669\">«objective»</text><text fill=\"#000000\" font-family=\"sans-serif\" font-size=\"13\" lengthAdjust=\"spacingAndGlyphs\" textLength=\"8\" x=\"483.9213\" y=\"121.4521\">1</text></a><!--MD5=[9263c4cfc6a195ce01108e2c2e17826e]\n",
       "@startuml\r\n",
       "left to right direction\r\n",
       "skinparam monochrome true\r\n",
       "skinparam classbackgroundcolor white\r\n",
       "skinparam shadowing false\r\n",
       "skinparam wrapWidth 300\r\n",
       "hide circle\r\n",
       "\r\n",
       "package \"AnalysisTest\" as E1  [[psysml:f5546318-5597-445e-83af-957575abd1f7 ]]  {\r\n",
       "comp def \"V\" as E2  <<(T,blue) part def>> [[psysml:df856138-3406-4a6b-b583-20ed5eacc0cd ]] {\r\n",
       "}\r\n",
       "comp usage \"vv: V\" as E3  <<(T,blue) part>> [[psysml:a14948af-c637-432a-b299-badb5d3ced27 ]] {\r\n",
       "}\r\n",
       "comp def \"AnalysisObjective\" as E4  <<(T,blue) requirement def>> [[psysml:b06c710d-6070-489f-855d-95835f572a57 ]] {\r\n",
       "...\r\n",
       "- -\r\n",
       "}\r\n",
       "comp def \"AnalysisCase\" as E5 << analysis def>> [[psysml:e9833d01-8fa8-4820-af73-47d7be444de9 ]] {\r\n",
       "}\r\n",
       "comp usage \"obj: AnalysisObjective\" as E6  <<(T,blue) requirement>> [[psysml:5d02fb37-4730-4ed2-b0a0-8fa990128639 ]] {\r\n",
       "}\r\n",
       "comp def \"AnalysisPlan\" as E7 << analysis def>> [[psysml:8a4520e8-ac51-4a2a-8007-cfc5f8084f42 ]] {\r\n",
       "}\r\n",
       "comp usage \"obj\" as E8  <<(T,blue) requirement>> [[psysml:c9e778b5-528f-48e8-8904-91782dcf8fb6 ]] {\r\n",
       "...\r\n",
       "- -\r\n",
       "}\r\n",
       "comp usage \"analysisCase: AnalysisCase\" as E9 << analysis>> [[psysml:ef775355-9069-4551-a021-5839d9673f3d ]] {\r\n",
       "}\r\n",
       "comp usage \"obj\" as E10  <<(T,blue) requirement>> [[psysml:37fc8968-437f-41f6-96b6-577444b5c586 ]] {\r\n",
       "}\r\n",
       "comp usage \"analysisContext\" as E11  <<(T,blue) part>> [[psysml:e127547d-9ca6-4380-b459-796effe0b56f ]] {\r\n",
       "}\r\n",
       "comp usage \"analysisPlan: AnalysisPlan\" as E12 << analysis>> [[psysml:26b0c0e9-c7c6-4e19-b68b-97e4f04c11f8 ]] {\r\n",
       "}\r\n",
       "comp usage \"obj\" as E13  <<(T,blue) requirement>> [[psysml:a55f605c-cc05-4fcd-b9b1-1e930756e010 ]] {\r\n",
       "}\r\n",
       "}\r\n",
       "E3 - -:|> E2 [[psysml:4553bbf6-343c-42bd-a219-72e0d50d2170 ]] \r\n",
       "E5 ..> E2 [[psysml:55d14872-2cf4-45ef-b86e-776491343885 ]] : <<subject>>\r\n",
       "E5 - ->> E6 [[psysml:66eb83d5-c5e2-4f23-b460-3cc53e216041 ]] : <<objective>>\r\n",
       "E6 - -:|> E4 [[psysml:35160ff3-34f1-44b9-93fc-42f4fb412225 ]] \r\n",
       "E7 ..> E2 [[psysml:6c24e69d-02cf-4e90-8710-eea2d3fb6e80 ]] : <<subject>>\r\n",
       "E7 - ->> \"1\"E8 [[psysml:5f63fe39-bd01-4e2f-b177-a256ca3547ed ]] : <<objective>>\r\n",
       "E7 *- - E9 [[psysml:0539f402-c799-478a-a763-36444c838111 ]] \r\n",
       "E9 - -:|> E5 [[psysml:5fa585d6-e8aa-4013-b88d-119f555331de ]] \r\n",
       "E9 - ->> E10 [[psysml:7fa56b0a-037d-44be-9e3a-456886c00dd1 ]] : <<objective>>\r\n",
       "E11 *- - E12 [[psysml:cf81c84a-d20a-4a9d-8212-c3de89ec9ad0 ]] \r\n",
       "E12 - -:|> E7 [[psysml:31ecf0da-b030-4520-be0f-3ece1376fb5f ]] \r\n",
       "E12 - ->> \"1\"E13 [[psysml:aa3a7955-6ed3-447d-b0ee-a09ada8803a4 ]] : <<objective>>\r\n",
       "@enduml\r\n",
       "\n",
       "PlantUML version 1.2020.13(Sat Jun 13 12:26:38 UTC 2020)\n",
       "(EPL source distribution)\n",
       "Java Runtime: OpenJDK Runtime Environment\n",
       "JVM: OpenJDK 64-Bit Server VM\n",
       "Default Encoding: UTF-8\n",
       "Language: en\n",
       "Country: null\n",
       "--></g></svg>"
      ]
     },
     "execution_count": 17,
     "metadata": {},
     "output_type": "execute_result"
    }
   ],
   "source": [
    "%viz --style=\"LR\" --view=\"Tree\" \"AnalysisTest\""
   ]
  },
  {
   "cell_type": "code",
   "execution_count": 18,
   "id": "3d961eac",
   "metadata": {
    "execution": {
     "iopub.execute_input": "2021-09-27T07:15:29.618913Z",
     "iopub.status.busy": "2021-09-27T07:15:29.618511Z",
     "iopub.status.idle": "2021-09-27T07:15:29.624218Z",
     "shell.execute_reply": "2021-09-27T07:15:29.624532Z"
    }
   },
   "outputs": [
    {
     "data": {
      "image/svg+xml": [
       "<?xml version=\"1.0\" encoding=\"UTF-8\" standalone=\"no\"?><svg xmlns=\"http://www.w3.org/2000/svg\" xmlns:xlink=\"http://www.w3.org/1999/xlink\" contentScriptType=\"application/ecmascript\" contentStyleType=\"text/css\" height=\"12px\" preserveAspectRatio=\"none\" style=\"width:12px;height:12px;\" version=\"1.1\" viewBox=\"0 0 12 12\" width=\"12px\" zoomAndPan=\"magnify\"><defs/><g><!--MD5=[19d285c9d72a204eba4e2cd117d745e8]\n",
       "@startuml\r\n",
       "left to right direction\r\n",
       "skinparam monochrome true\r\n",
       "skinparam classbackgroundcolor white\r\n",
       "skinparam shadowing false\r\n",
       "skinparam wrapWidth 300\r\n",
       "hide circle\r\n",
       "\r\n",
       "@enduml\r\n",
       "\n",
       "PlantUML version 1.2020.13(Sat Jun 13 12:26:38 UTC 2020)\n",
       "(EPL source distribution)\n",
       "Java Runtime: OpenJDK Runtime Environment\n",
       "JVM: OpenJDK 64-Bit Server VM\n",
       "Default Encoding: UTF-8\n",
       "Language: en\n",
       "Country: null\n",
       "--></g></svg>"
      ]
     },
     "execution_count": 18,
     "metadata": {},
     "output_type": "execute_result"
    }
   ],
   "source": [
    "%viz --style=\"LR\" --view=\"State\" \"AnalysisTest\""
   ]
  },
  {
   "cell_type": "code",
   "execution_count": 19,
   "id": "a2513c4a",
   "metadata": {
    "execution": {
     "iopub.execute_input": "2021-09-27T07:15:29.674909Z",
     "iopub.status.busy": "2021-09-27T07:15:29.674506Z",
     "iopub.status.idle": "2021-09-27T07:15:29.728714Z",
     "shell.execute_reply": "2021-09-27T07:15:29.728354Z"
    }
   },
   "outputs": [
    {
     "data": {
      "image/svg+xml": [
       "<?xml version=\"1.0\" encoding=\"UTF-8\" standalone=\"no\"?><svg xmlns=\"http://www.w3.org/2000/svg\" xmlns:xlink=\"http://www.w3.org/1999/xlink\" contentScriptType=\"application/ecmascript\" contentStyleType=\"text/css\" height=\"705px\" preserveAspectRatio=\"none\" style=\"width:731px;height:705px;\" version=\"1.1\" viewBox=\"0 0 731 705\" width=\"731px\" zoomAndPan=\"magnify\"><defs/><g><!--MD5=[fbc87193dbaf4d95561dea2c320d4a47]\n",
       "cluster E1--><a href=\"psysml:f5546318-5597-445e-83af-957575abd1f7\" target=\"_top\" title=\"psysml:f5546318-5597-445e-83af-957575abd1f7\" xlink:actuate=\"onRequest\" xlink:href=\"psysml:f5546318-5597-445e-83af-957575abd1f7\" xlink:show=\"new\" xlink:title=\"psysml:f5546318-5597-445e-83af-957575abd1f7\" xlink:type=\"simple\"><polygon fill=\"#FFFFFF\" points=\"16,6,108,6,115,28.2969,709.36,28.2969,709.36,693,16,693,16,6\" style=\"stroke: #000000; stroke-width: 1.5;\"/><line style=\"stroke: #000000; stroke-width: 1.5;\" x1=\"16\" x2=\"115\" y1=\"28.2969\" y2=\"28.2969\"/><text fill=\"#000000\" font-family=\"sans-serif\" font-size=\"14\" font-weight=\"bold\" lengthAdjust=\"spacingAndGlyphs\" textLength=\"86\" x=\"20\" y=\"20.9951\">AnalysisTest</text></a><!--MD5=[de5ec2e2e8f62f467e546659f5068c88]\n",
       "cluster E5--><a href=\"psysml:e9833d01-8fa8-4820-af73-47d7be444de9\" target=\"_top\" title=\"psysml:e9833d01-8fa8-4820-af73-47d7be444de9\" xlink:actuate=\"onRequest\" xlink:href=\"psysml:e9833d01-8fa8-4820-af73-47d7be444de9\" xlink:show=\"new\" xlink:title=\"psysml:e9833d01-8fa8-4820-af73-47d7be444de9\" xlink:type=\"simple\"><rect fill=\"#FFFFFF\" height=\"68\" id=\"E5\" style=\"stroke: #383838; stroke-width: 1.5;\" width=\"470.36\" x=\"140\" y=\"41\"/><rect fill=\"#F8F8F8\" height=\"37.9375\" style=\"stroke: #383838; stroke-width: 1.5;\" width=\"470.36\" x=\"140\" y=\"41\"/><text fill=\"#000000\" font-family=\"sans-serif\" font-size=\"12\" font-style=\"italic\" lengthAdjust=\"spacingAndGlyphs\" textLength=\"88\" x=\"331.18\" y=\"57.1387\">«analysis def»</text><text fill=\"#000000\" font-family=\"sans-serif\" font-size=\"12\" lengthAdjust=\"spacingAndGlyphs\" textLength=\"81\" x=\"334.68\" y=\"71.1074\">AnalysisCase</text></a><!--MD5=[55dfccfc6c49c2d10cd1bd2211a6c90c]\n",
       "cluster E8--><a href=\"psysml:8a4520e8-ac51-4a2a-8007-cfc5f8084f42\" target=\"_top\" title=\"psysml:8a4520e8-ac51-4a2a-8007-cfc5f8084f42\" xlink:actuate=\"onRequest\" xlink:href=\"psysml:8a4520e8-ac51-4a2a-8007-cfc5f8084f42\" xlink:show=\"new\" xlink:title=\"psysml:8a4520e8-ac51-4a2a-8007-cfc5f8084f42\" xlink:type=\"simple\"><rect fill=\"#FFFFFF\" height=\"132\" id=\"E8\" style=\"stroke: #383838; stroke-width: 1.5;\" width=\"563.36\" x=\"122\" y=\"139\"/><rect fill=\"#F8F8F8\" height=\"37.9375\" style=\"stroke: #383838; stroke-width: 1.5;\" width=\"563.36\" x=\"122\" y=\"139\"/><text fill=\"#000000\" font-family=\"sans-serif\" font-size=\"12\" font-style=\"italic\" lengthAdjust=\"spacingAndGlyphs\" textLength=\"88\" x=\"359.68\" y=\"155.1387\">«analysis def»</text><text fill=\"#000000\" font-family=\"sans-serif\" font-size=\"12\" lengthAdjust=\"spacingAndGlyphs\" textLength=\"77\" x=\"365.18\" y=\"169.1074\">AnalysisPlan</text></a><!--MD5=[a84b4591f868c1fa4a211716a82f2f0d]\n",
       "cluster E10--><a href=\"psysml:ef775355-9069-4551-a021-5839d9673f3d\" target=\"_top\" title=\"psysml:ef775355-9069-4551-a021-5839d9673f3d\" xlink:actuate=\"onRequest\" xlink:href=\"psysml:ef775355-9069-4551-a021-5839d9673f3d\" xlink:show=\"new\" xlink:title=\"psysml:ef775355-9069-4551-a021-5839d9673f3d\" xlink:type=\"simple\"><rect fill=\"#FFFFFF\" height=\"68\" id=\"E10\" rx=\"10\" ry=\"10\" style=\"stroke: #383838; stroke-width: 1.5;\" width=\"259.36\" x=\"388\" y=\"177\"/><rect fill=\"#F8F8F8\" height=\"37.9375\" rx=\"10\" ry=\"10\" style=\"stroke: #F8F8F8; stroke-width: 1.5;\" width=\"259.36\" x=\"388\" y=\"177\"/><rect fill=\"#F8F8F8\" height=\"10\" style=\"stroke: #F8F8F8; stroke-width: 1.5;\" width=\"259.36\" x=\"388\" y=\"204.9375\"/><rect fill=\"none\" height=\"68\" id=\"E10\" rx=\"10\" ry=\"10\" style=\"stroke: #383838; stroke-width: 1.5;\" width=\"259.36\" x=\"388\" y=\"177\"/><text fill=\"#000000\" font-family=\"sans-serif\" font-size=\"12\" font-style=\"italic\" lengthAdjust=\"spacingAndGlyphs\" textLength=\"64\" x=\"485.68\" y=\"193.1387\">«analysis»</text><text fill=\"#000000\" font-family=\"sans-serif\" font-size=\"12\" lengthAdjust=\"spacingAndGlyphs\" textLength=\"81\" x=\"477.18\" y=\"207.1074\">analysisCase</text><line style=\"stroke: #383838; stroke-width: 1.0;\" x1=\"388\" x2=\"647.36\" y1=\"214.9375\" y2=\"214.9375\"/></a><!--MD5=[bcf29f0808fc96f19b1afbee8cfc1f11]\n",
       "cluster E14--><a href=\"psysml:e127547d-9ca6-4380-b459-796effe0b56f\" target=\"_top\" title=\"psysml:e127547d-9ca6-4380-b459-796effe0b56f\" xlink:actuate=\"onRequest\" xlink:href=\"psysml:e127547d-9ca6-4380-b459-796effe0b56f\" xlink:show=\"new\" xlink:title=\"psysml:e127547d-9ca6-4380-b459-796effe0b56f\" xlink:type=\"simple\"><rect fill=\"#FFFFFF\" height=\"103\" id=\"E14\" rx=\"10\" ry=\"10\" style=\"stroke: #383838; stroke-width: 1.5;\" width=\"410.5\" x=\"40\" y=\"337\"/><rect fill=\"#F8F8F8\" height=\"23.9688\" rx=\"10\" ry=\"10\" style=\"stroke: #F8F8F8; stroke-width: 1.5;\" width=\"410.5\" x=\"40\" y=\"337\"/><rect fill=\"#F8F8F8\" height=\"10\" style=\"stroke: #F8F8F8; stroke-width: 1.5;\" width=\"410.5\" x=\"40\" y=\"350.9688\"/><rect fill=\"none\" height=\"103\" id=\"E14\" rx=\"10\" ry=\"10\" style=\"stroke: #383838; stroke-width: 1.5;\" width=\"410.5\" x=\"40\" y=\"337\"/><text fill=\"#000000\" font-family=\"sans-serif\" font-size=\"12\" lengthAdjust=\"spacingAndGlyphs\" textLength=\"98\" x=\"196.25\" y=\"353.1387\">analysisContext</text><line style=\"stroke: #383838; stroke-width: 1.0;\" x1=\"40\" x2=\"450.5\" y1=\"360.9688\" y2=\"360.9688\"/></a><!--MD5=[ebbe1d658d1005bcc118a6aa81145e00]\n",
       "class E4--><a href=\"psysml:b06c710d-6070-489f-855d-95835f572a57\" target=\"_top\" title=\"psysml:b06c710d-6070-489f-855d-95835f572a57\" xlink:actuate=\"onRequest\" xlink:href=\"psysml:b06c710d-6070-489f-855d-95835f572a57\" xlink:show=\"new\" xlink:title=\"psysml:b06c710d-6070-489f-855d-95835f572a57\" xlink:type=\"simple\"><rect fill=\"#FFFFFF\" height=\"66.7422\" id=\"E4\" style=\"stroke: #383838; stroke-width: 1.5;\" width=\"117\" x=\"81.5\" y=\"456.5\"/><text fill=\"#000000\" font-family=\"sans-serif\" font-size=\"12\" font-style=\"italic\" lengthAdjust=\"spacingAndGlyphs\" textLength=\"115\" x=\"82.5\" y=\"472.6387\">«requirement def»</text><text fill=\"#000000\" font-family=\"sans-serif\" font-size=\"12\" lengthAdjust=\"spacingAndGlyphs\" textLength=\"107\" x=\"86.5\" y=\"486.6074\">AnalysisObjective</text><line style=\"stroke: #383838; stroke-width: 1.5;\" x1=\"82.5\" x2=\"197.5\" y1=\"494.4375\" y2=\"494.4375\"/><text fill=\"#000000\" font-family=\"sans-serif\" font-size=\"11\" lengthAdjust=\"spacingAndGlyphs\" textLength=\"12\" x=\"87.5\" y=\"508.6479\">...</text><line style=\"stroke: #383838; stroke-width: 1.0;\" x1=\"82.5\" x2=\"197.5\" y1=\"515.2422\" y2=\"515.2422\"/></a><g id=\"E1.E2\"><a href=\"psysml:df856138-3406-4a6b-b583-20ed5eacc0cd\" target=\"_top\" title=\"psysml:df856138-3406-4a6b-b583-20ed5eacc0cd\" xlink:actuate=\"onRequest\" xlink:href=\"psysml:df856138-3406-4a6b-b583-20ed5eacc0cd\" xlink:show=\"new\" xlink:title=\"psysml:df856138-3406-4a6b-b583-20ed5eacc0cd\" xlink:type=\"simple\"><rect fill=\"#FFFFFF\" height=\"42.9375\" id=\"E2\" style=\"stroke: #383838; stroke-width: 1.5;\" width=\"71\" x=\"104.5\" y=\"558.5\"/><rect fill=\"#F8F8F8\" height=\"37.9375\" style=\"stroke: #383838; stroke-width: 1.5;\" width=\"71\" x=\"104.5\" y=\"558.5\"/><text fill=\"#000000\" font-family=\"sans-serif\" font-size=\"12\" font-style=\"italic\" lengthAdjust=\"spacingAndGlyphs\" textLength=\"64\" x=\"108\" y=\"574.6387\">«part def»</text><text fill=\"#000000\" font-family=\"sans-serif\" font-size=\"12\" lengthAdjust=\"spacingAndGlyphs\" textLength=\"8\" x=\"136\" y=\"588.6074\">V</text></a></g><g id=\"E1.E3\"><a href=\"psysml:a14948af-c637-432a-b299-badb5d3ced27\" target=\"_top\" title=\"psysml:a14948af-c637-432a-b299-badb5d3ced27\" xlink:actuate=\"onRequest\" xlink:href=\"psysml:a14948af-c637-432a-b299-badb5d3ced27\" xlink:show=\"new\" xlink:title=\"psysml:a14948af-c637-432a-b299-badb5d3ced27\" xlink:type=\"simple\"><rect fill=\"#FFFFFF\" height=\"40\" id=\"E3\" rx=\"10\" ry=\"10\" style=\"stroke: #383838; stroke-width: 1.5;\" width=\"50\" x=\"115\" y=\"637\"/><rect fill=\"#F8F8F8\" height=\"23.9688\" rx=\"10\" ry=\"10\" style=\"stroke: #F8F8F8; stroke-width: 1.5;\" width=\"50\" x=\"115\" y=\"637\"/><rect fill=\"#F8F8F8\" height=\"10\" style=\"stroke: #F8F8F8; stroke-width: 1.5;\" width=\"50\" x=\"115\" y=\"650.9688\"/><rect fill=\"none\" height=\"40\" id=\"E3\" rx=\"10\" ry=\"10\" style=\"stroke: #383838; stroke-width: 1.5;\" width=\"50\" x=\"115\" y=\"637\"/><text fill=\"#000000\" font-family=\"sans-serif\" font-size=\"12\" lengthAdjust=\"spacingAndGlyphs\" textLength=\"28\" x=\"126\" y=\"653.1387\">vv: V</text></a></g><text fill=\"#000000\" font-family=\"sans-serif\" font-size=\"14\" lengthAdjust=\"spacingAndGlyphs\" textLength=\"7\" x=\"136.5\" y=\"53.6982\">v</text><rect fill=\"#383838\" height=\"12\" style=\"stroke: #F8F8F8; stroke-width: 1.5;\" width=\"12\" x=\"134\" y=\"69\"/><text fill=\"#000000\" font-family=\"sans-serif\" font-size=\"14\" lengthAdjust=\"spacingAndGlyphs\" textLength=\"39\" x=\"590.86\" y=\"53.6982\">result</text><rect fill=\"#383838\" height=\"12\" style=\"stroke: #F8F8F8; stroke-width: 1.5;\" width=\"12\" x=\"604.36\" y=\"69\"/><text fill=\"#000000\" font-family=\"sans-serif\" font-size=\"14\" lengthAdjust=\"spacingAndGlyphs\" textLength=\"7\" x=\"136.5\" y=\"289.9951\">v</text><rect fill=\"#383838\" height=\"12\" style=\"stroke: #F8F8F8; stroke-width: 1.5;\" width=\"12\" x=\"134\" y=\"265\"/><text fill=\"#000000\" font-family=\"sans-serif\" font-size=\"14\" lengthAdjust=\"spacingAndGlyphs\" textLength=\"39\" x=\"590.86\" y=\"117.6982\">result</text><rect fill=\"#383838\" height=\"12\" style=\"stroke: #F8F8F8; stroke-width: 1.5;\" width=\"12\" x=\"604.36\" y=\"133\"/><text fill=\"#000000\" font-family=\"sans-serif\" font-size=\"14\" lengthAdjust=\"spacingAndGlyphs\" textLength=\"37\" x=\"628.86\" y=\"189.6982\">mass</text><rect fill=\"#383838\" height=\"12\" style=\"stroke: #F8F8F8; stroke-width: 1.5;\" width=\"12\" x=\"641.36\" y=\"205\"/><text fill=\"#000000\" font-family=\"sans-serif\" font-size=\"14\" lengthAdjust=\"spacingAndGlyphs\" textLength=\"7\" x=\"384.5\" y=\"189.6982\">v</text><rect fill=\"#383838\" height=\"12\" style=\"stroke: #F8F8F8; stroke-width: 1.5;\" width=\"12\" x=\"382\" y=\"205\"/><!--MD5=[0c48fb7552dae8cbbef69381101a84c8]\n",
       "class E15--><a href=\"psysml:26b0c0e9-c7c6-4e19-b68b-97e4f04c11f8\" target=\"_top\" title=\"psysml:26b0c0e9-c7c6-4e19-b68b-97e4f04c11f8\" xlink:actuate=\"onRequest\" xlink:href=\"psysml:26b0c0e9-c7c6-4e19-b68b-97e4f04c11f8\" xlink:show=\"new\" xlink:title=\"psysml:26b0c0e9-c7c6-4e19-b68b-97e4f04c11f8\" xlink:type=\"simple\"><rect fill=\"#FFFFFF\" height=\"45.9375\" id=\"E15\" rx=\"10\" ry=\"10\" style=\"stroke: #383838; stroke-width: 1.5;\" width=\"168\" x=\"56\" y=\"372\"/><text fill=\"#000000\" font-family=\"sans-serif\" font-size=\"12\" font-style=\"italic\" lengthAdjust=\"spacingAndGlyphs\" textLength=\"64\" x=\"108\" y=\"388.1387\">«analysis»</text><text fill=\"#000000\" font-family=\"sans-serif\" font-size=\"12\" lengthAdjust=\"spacingAndGlyphs\" textLength=\"162\" x=\"59\" y=\"402.1074\">analysisPlan: AnalysisPlan</text><line style=\"stroke: #383838; stroke-width: 1.5;\" x1=\"57\" x2=\"223\" y1=\"409.9375\" y2=\"409.9375\"/></a><!--MD5=[35f0587eaee8d5bb9a02e25b63afc23b]\n",
       "class E16--><a href=\"psysml:a55f605c-cc05-4fcd-b9b1-1e930756e010\" target=\"_top\" title=\"psysml:a55f605c-cc05-4fcd-b9b1-1e930756e010\" xlink:actuate=\"onRequest\" xlink:href=\"psysml:a55f605c-cc05-4fcd-b9b1-1e930756e010\" xlink:show=\"new\" xlink:title=\"psysml:a55f605c-cc05-4fcd-b9b1-1e930756e010\" xlink:type=\"simple\"><rect fill=\"#FFFFFF\" height=\"45.9375\" id=\"E16\" rx=\"10\" ry=\"10\" style=\"stroke: #383838; stroke-width: 1.5;\" width=\"93\" x=\"341.5\" y=\"372\"/><text fill=\"#000000\" font-family=\"sans-serif\" font-size=\"12\" font-style=\"italic\" lengthAdjust=\"spacingAndGlyphs\" textLength=\"91\" x=\"342.5\" y=\"388.1387\">«requirement»</text><text fill=\"#000000\" font-family=\"sans-serif\" font-size=\"12\" lengthAdjust=\"spacingAndGlyphs\" textLength=\"19\" x=\"378.5\" y=\"402.1074\">obj</text><line style=\"stroke: #383838; stroke-width: 1.5;\" x1=\"342.5\" x2=\"433.5\" y1=\"409.9375\" y2=\"409.9375\"/></a><!--MD5=[1b01d5b954197aaf3899ca0bde35faf5]\n",
       "link E15 to E8--><a href=\"psysml:31ecf0da-b030-4520-be0f-3ece1376fb5f\" target=\"_top\" title=\"psysml:31ecf0da-b030-4520-be0f-3ece1376fb5f\" xlink:actuate=\"onRequest\" xlink:href=\"psysml:31ecf0da-b030-4520-be0f-3ece1376fb5f\" xlink:show=\"new\" xlink:title=\"psysml:31ecf0da-b030-4520-be0f-3ece1376fb5f\" xlink:type=\"simple\"><path d=\"M193.13,371.84 C226.11,356.87 269.45,336.58 307,317 C324.05,308.11 342.69,297.45 357.69,288.63 \" fill=\"none\" id=\"E15-&gt;E8\" style=\"stroke: #383838; stroke-width: 1.0;\"/><polygon fill=\"#FFFFFF\" points=\"357.69,288.63,344.8597,304.2947,337.7635,292.2264,357.69,288.63\" style=\"stroke: #383838; stroke-width: 1.0;\"/><ellipse cx=\"338.9324\" cy=\"305.4598\" fill=\"#383838\" rx=\"2\" ry=\"2\" style=\"stroke: #383838; stroke-width: 1.0;\"/><ellipse cx=\"333.8637\" cy=\"296.8396\" fill=\"#383838\" rx=\"2\" ry=\"2\" style=\"stroke: #383838; stroke-width: 1.0;\"/></a><!--MD5=[f8b155c46b092be73bb522b0a8fc72a2]\n",
       "link E15 to E16--><a href=\"psysml:aa3a7955-6ed3-447d-b0ee-a09ada8803a4\" target=\"_top\" title=\"psysml:aa3a7955-6ed3-447d-b0ee-a09ada8803a4\" xlink:actuate=\"onRequest\" xlink:href=\"psysml:aa3a7955-6ed3-447d-b0ee-a09ada8803a4\" xlink:show=\"new\" xlink:title=\"psysml:aa3a7955-6ed3-447d-b0ee-a09ada8803a4\" xlink:type=\"simple\"><path d=\"M224.28,395 C260.24,395 301.27,395 333.13,395 \" fill=\"none\" id=\"E15-&gt;E16\" style=\"stroke: #383838; stroke-width: 1.0;\"/><polygon fill=\"#383838\" points=\"341.44,395,333.44,392,333.44,398,341.44,395\" style=\"stroke: #383838; stroke-width: 1.0;\"/><text fill=\"#000000\" font-family=\"sans-serif\" font-size=\"13\" lengthAdjust=\"spacingAndGlyphs\" textLength=\"73\" x=\"233\" y=\"391.0669\">«objective»</text><text fill=\"#000000\" font-family=\"sans-serif\" font-size=\"13\" lengthAdjust=\"spacingAndGlyphs\" textLength=\"8\" x=\"325.382\" y=\"408.2778\">1</text></a><!--MD5=[ab4afcf177aac3c101744ca452381974]\n",
       "@startuml\r\n",
       "skinparam ranksep 10\r\n",
       "skinparam rectangle {\r\n",
       " backgroundColor<<block>> LightGreen\r\n",
       "}\r\n",
       "left to right direction\r\n",
       "skinparam monochrome true\r\n",
       "skinparam classbackgroundcolor white\r\n",
       "skinparam shadowing false\r\n",
       "skinparam wrapWidth 300\r\n",
       "hide circle\r\n",
       "\r\n",
       "package \"AnalysisTest\" as E1  [[psysml:f5546318-5597-445e-83af-957575abd1f7 ]]  {\r\n",
       "rec def \"V\" as E2  <<(T,blue) part def>> [[psysml:df856138-3406-4a6b-b583-20ed5eacc0cd ]] {\r\n",
       "}\r\n",
       "rec usage \"vv: V\" as E3  [[psysml:a14948af-c637-432a-b299-badb5d3ced27 ]] {\r\n",
       "}\r\n",
       "comp def \"AnalysisObjective\" as E4  <<(T,blue) requirement def>> [[psysml:b06c710d-6070-489f-855d-95835f572a57 ]] {\r\n",
       "...\r\n",
       "- -\r\n",
       "}\r\n",
       "rec def \"AnalysisCase\" as E5 << analysis def>> [[psysml:e9833d01-8fa8-4820-af73-47d7be444de9 ]] {\r\n",
       "portin \"v\" as E6  [[psysml:fc36d359-2f0c-4a32-9d15-fff2be0a8869 ]] \r\n",
       "portout \"result\" as E7  [[psysml:7ffbe20f-c891-4b52-987b-0be8eb99b87a ]] \r\n",
       "}\r\n",
       "\r\n",
       "rec def \"AnalysisPlan\" as E8 << analysis def>> [[psysml:8a4520e8-ac51-4a2a-8007-cfc5f8084f42 ]] {\r\n",
       "portin \"v\" as E9  [[psysml:7635dc34-c4d2-4388-b045-3a6cac182eef ]] \r\n",
       "rec usage \"analysisCase\" as E10 << analysis>> [[psysml:ef775355-9069-4551-a021-5839d9673f3d ]] {\r\n",
       "portout \"mass\" as E11  [[psysml:56f340db-5793-4dc6-898e-9e0a5f90ef66 ]] \r\n",
       "portin \"v\" as E12  [[psysml:d8dc3b58-26c5-4e6e-82f3-a4f0880c0fd9 ]] \r\n",
       "}\r\n",
       "\r\n",
       "portout \"result\" as E13  [[psysml:55ba6aa8-4536-4622-ad3c-e7c6595a0034 ]] \r\n",
       "}\r\n",
       "\r\n",
       "rec usage \"analysisContext\" as E14  [[psysml:e127547d-9ca6-4380-b459-796effe0b56f ]] {\r\n",
       "comp usage \"analysisPlan: AnalysisPlan\" as E15 << analysis>> [[psysml:26b0c0e9-c7c6-4e19-b68b-97e4f04c11f8 ]] {\r\n",
       "}\r\n",
       "comp usage \"obj\" as E16  <<(T,blue) requirement>> [[psysml:a55f605c-cc05-4fcd-b9b1-1e930756e010 ]] {\r\n",
       "}\r\n",
       "}\r\n",
       "}\r\n",
       "E15 - -:|> E8 [[psysml:31ecf0da-b030-4520-be0f-3ece1376fb5f ]] \r\n",
       "E15 - ->> \"1\"E16 [[psysml:aa3a7955-6ed3-447d-b0ee-a09ada8803a4 ]] : <<objective>>\r\n",
       "@enduml\r\n",
       "\n",
       "PlantUML version 1.2020.13(Sat Jun 13 12:26:38 UTC 2020)\n",
       "(EPL source distribution)\n",
       "Java Runtime: OpenJDK Runtime Environment\n",
       "JVM: OpenJDK 64-Bit Server VM\n",
       "Default Encoding: UTF-8\n",
       "Language: en\n",
       "Country: null\n",
       "--></g></svg>"
      ]
     },
     "execution_count": 19,
     "metadata": {},
     "output_type": "execute_result"
    }
   ],
   "source": [
    "%viz --style=\"LR\" --view=\"Interconnection\" \"AnalysisTest\""
   ]
  },
  {
   "cell_type": "code",
   "execution_count": 20,
   "id": "791d07e8",
   "metadata": {
    "execution": {
     "iopub.execute_input": "2021-09-27T07:15:29.778401Z",
     "iopub.status.busy": "2021-09-27T07:15:29.777997Z",
     "iopub.status.idle": "2021-09-27T07:15:29.813769Z",
     "shell.execute_reply": "2021-09-27T07:15:29.813414Z"
    }
   },
   "outputs": [
    {
     "data": {
      "image/svg+xml": [
       "<?xml version=\"1.0\" encoding=\"UTF-8\" standalone=\"no\"?><svg xmlns=\"http://www.w3.org/2000/svg\" xmlns:xlink=\"http://www.w3.org/1999/xlink\" contentScriptType=\"application/ecmascript\" contentStyleType=\"text/css\" height=\"358px\" preserveAspectRatio=\"none\" style=\"width:365px;height:358px;\" version=\"1.1\" viewBox=\"0 0 365 358\" width=\"365px\" zoomAndPan=\"magnify\"><defs/><g><!--MD5=[fbc87193dbaf4d95561dea2c320d4a47]\n",
       "cluster E1--><a href=\"psysml:e9833d01-8fa8-4820-af73-47d7be444de9\" target=\"_top\" title=\"psysml:e9833d01-8fa8-4820-af73-47d7be444de9\" xlink:actuate=\"onRequest\" xlink:href=\"psysml:e9833d01-8fa8-4820-af73-47d7be444de9\" xlink:show=\"new\" xlink:title=\"psysml:e9833d01-8fa8-4820-af73-47d7be444de9\" xlink:type=\"simple\"><rect fill=\"#FFFFFF\" height=\"68\" id=\"E1\" style=\"stroke: #383838; stroke-width: 1.5;\" width=\"271\" x=\"25\" y=\"279\"/><rect fill=\"#F8F8F8\" height=\"37.9375\" style=\"stroke: #383838; stroke-width: 1.5;\" width=\"271\" x=\"25\" y=\"279\"/><text fill=\"#000000\" font-family=\"sans-serif\" font-size=\"12\" font-style=\"italic\" lengthAdjust=\"spacingAndGlyphs\" textLength=\"88\" x=\"116.5\" y=\"295.1387\">«analysis def»</text><text fill=\"#000000\" font-family=\"sans-serif\" font-size=\"12\" lengthAdjust=\"spacingAndGlyphs\" textLength=\"81\" x=\"120\" y=\"309.1074\">AnalysisCase</text></a><!--MD5=[f6df4d0ebaf0b5dfb2ced0ae5af7c670]\n",
       "cluster E4--><a href=\"psysml:8a4520e8-ac51-4a2a-8007-cfc5f8084f42\" target=\"_top\" title=\"psysml:8a4520e8-ac51-4a2a-8007-cfc5f8084f42\" xlink:actuate=\"onRequest\" xlink:href=\"psysml:8a4520e8-ac51-4a2a-8007-cfc5f8084f42\" xlink:show=\"new\" xlink:title=\"psysml:8a4520e8-ac51-4a2a-8007-cfc5f8084f42\" xlink:type=\"simple\"><rect fill=\"#FFFFFF\" height=\"135\" id=\"E4\" style=\"stroke: #383838; stroke-width: 1.5;\" width=\"347\" x=\"7\" y=\"102\"/><rect fill=\"#F8F8F8\" height=\"37.9375\" style=\"stroke: #383838; stroke-width: 1.5;\" width=\"347\" x=\"7\" y=\"102\"/><text fill=\"#000000\" font-family=\"sans-serif\" font-size=\"12\" font-style=\"italic\" lengthAdjust=\"spacingAndGlyphs\" textLength=\"88\" x=\"136.5\" y=\"118.1387\">«analysis def»</text><text fill=\"#000000\" font-family=\"sans-serif\" font-size=\"12\" lengthAdjust=\"spacingAndGlyphs\" textLength=\"77\" x=\"142\" y=\"132.1074\">AnalysisPlan</text></a><!--MD5=[14e3b0961a2654348d326746436168a1]\n",
       "cluster E6--><a href=\"psysml:ef775355-9069-4551-a021-5839d9673f3d\" target=\"_top\" title=\"psysml:ef775355-9069-4551-a021-5839d9673f3d\" xlink:actuate=\"onRequest\" xlink:href=\"psysml:ef775355-9069-4551-a021-5839d9673f3d\" xlink:show=\"new\" xlink:title=\"psysml:ef775355-9069-4551-a021-5839d9673f3d\" xlink:type=\"simple\"><rect fill=\"#FFFFFF\" height=\"68\" id=\"E6\" rx=\"10\" ry=\"10\" style=\"stroke: #383838; stroke-width: 1.5;\" width=\"220\" x=\"104\" y=\"143\"/><rect fill=\"#F8F8F8\" height=\"37.9375\" rx=\"10\" ry=\"10\" style=\"stroke: #F8F8F8; stroke-width: 1.5;\" width=\"220\" x=\"104\" y=\"143\"/><rect fill=\"#F8F8F8\" height=\"10\" style=\"stroke: #F8F8F8; stroke-width: 1.5;\" width=\"220\" x=\"104\" y=\"170.9375\"/><rect fill=\"none\" height=\"68\" id=\"E6\" rx=\"10\" ry=\"10\" style=\"stroke: #383838; stroke-width: 1.5;\" width=\"220\" x=\"104\" y=\"143\"/><text fill=\"#000000\" font-family=\"sans-serif\" font-size=\"12\" font-style=\"italic\" lengthAdjust=\"spacingAndGlyphs\" textLength=\"64\" x=\"182\" y=\"159.1387\">«analysis»</text><text fill=\"#000000\" font-family=\"sans-serif\" font-size=\"12\" lengthAdjust=\"spacingAndGlyphs\" textLength=\"81\" x=\"173.5\" y=\"173.1074\">analysisCase</text><line style=\"stroke: #383838; stroke-width: 1.0;\" x1=\"104\" x2=\"324\" y1=\"180.9375\" y2=\"180.9375\"/></a><!--MD5=[a84b4591f868c1fa4a211716a82f2f0d]\n",
       "cluster E10--><a href=\"psysml:26b0c0e9-c7c6-4e19-b68b-97e4f04c11f8\" target=\"_top\" title=\"psysml:26b0c0e9-c7c6-4e19-b68b-97e4f04c11f8\" xlink:actuate=\"onRequest\" xlink:href=\"psysml:26b0c0e9-c7c6-4e19-b68b-97e4f04c11f8\" xlink:show=\"new\" xlink:title=\"psysml:26b0c0e9-c7c6-4e19-b68b-97e4f04c11f8\" xlink:type=\"simple\"><rect fill=\"#FFFFFF\" height=\"48\" id=\"E10\" rx=\"10\" ry=\"10\" style=\"stroke: #383838; stroke-width: 1.5;\" width=\"289\" x=\"25\" y=\"7\"/><rect fill=\"#F8F8F8\" height=\"37.9375\" rx=\"10\" ry=\"10\" style=\"stroke: #F8F8F8; stroke-width: 1.5;\" width=\"289\" x=\"25\" y=\"7\"/><rect fill=\"#F8F8F8\" height=\"10\" style=\"stroke: #F8F8F8; stroke-width: 1.5;\" width=\"289\" x=\"25\" y=\"34.9375\"/><rect fill=\"none\" height=\"48\" id=\"E10\" rx=\"10\" ry=\"10\" style=\"stroke: #383838; stroke-width: 1.5;\" width=\"289\" x=\"25\" y=\"7\"/><text fill=\"#000000\" font-family=\"sans-serif\" font-size=\"12\" font-style=\"italic\" lengthAdjust=\"spacingAndGlyphs\" textLength=\"64\" x=\"137.5\" y=\"23.1387\">«analysis»</text><text fill=\"#000000\" font-family=\"sans-serif\" font-size=\"12\" lengthAdjust=\"spacingAndGlyphs\" textLength=\"77\" x=\"131\" y=\"37.1074\">analysisPlan</text><line style=\"stroke: #383838; stroke-width: 1.0;\" x1=\"25\" x2=\"314\" y1=\"44.9375\" y2=\"44.9375\"/></a><text fill=\"#000000\" font-family=\"sans-serif\" font-size=\"14\" lengthAdjust=\"spacingAndGlyphs\" textLength=\"7\" x=\"21.5\" y=\"291.6982\">v</text><rect fill=\"#383838\" height=\"12\" style=\"stroke: #F8F8F8; stroke-width: 1.5;\" width=\"12\" x=\"19\" y=\"307\"/><text fill=\"#000000\" font-family=\"sans-serif\" font-size=\"14\" lengthAdjust=\"spacingAndGlyphs\" textLength=\"39\" x=\"276.5\" y=\"291.6982\">result</text><rect fill=\"#383838\" height=\"12\" style=\"stroke: #F8F8F8; stroke-width: 1.5;\" width=\"12\" x=\"290\" y=\"307\"/><text fill=\"#000000\" font-family=\"sans-serif\" font-size=\"14\" lengthAdjust=\"spacingAndGlyphs\" textLength=\"7\" x=\"21.5\" y=\"255.9951\">v</text><rect fill=\"#383838\" height=\"12\" style=\"stroke: #F8F8F8; stroke-width: 1.5;\" width=\"12\" x=\"19\" y=\"231\"/><text fill=\"#000000\" font-family=\"sans-serif\" font-size=\"14\" lengthAdjust=\"spacingAndGlyphs\" textLength=\"39\" x=\"276.5\" y=\"80.6982\">result</text><rect fill=\"#383838\" height=\"12\" style=\"stroke: #F8F8F8; stroke-width: 1.5;\" width=\"12\" x=\"290\" y=\"96\"/><text fill=\"#000000\" font-family=\"sans-serif\" font-size=\"14\" lengthAdjust=\"spacingAndGlyphs\" textLength=\"37\" x=\"305.5\" y=\"155.6982\">mass</text><rect fill=\"#383838\" height=\"12\" style=\"stroke: #F8F8F8; stroke-width: 1.5;\" width=\"12\" x=\"318\" y=\"171\"/><text fill=\"#000000\" font-family=\"sans-serif\" font-size=\"14\" lengthAdjust=\"spacingAndGlyphs\" textLength=\"7\" x=\"100.5\" y=\"155.6982\">v</text><rect fill=\"#383838\" height=\"12\" style=\"stroke: #F8F8F8; stroke-width: 1.5;\" width=\"12\" x=\"98\" y=\"171\"/><text fill=\"#000000\" font-family=\"sans-serif\" font-size=\"14\" lengthAdjust=\"spacingAndGlyphs\" textLength=\"7\" x=\"21.5\" y=\"59.9951\">v</text><rect fill=\"#383838\" height=\"12\" style=\"stroke: #F8F8F8; stroke-width: 1.5;\" width=\"12\" x=\"19\" y=\"35\"/><text fill=\"#000000\" font-family=\"sans-serif\" font-size=\"14\" lengthAdjust=\"spacingAndGlyphs\" textLength=\"39\" x=\"276.5\" y=\"73.9951\">result</text><rect fill=\"#383838\" height=\"12\" style=\"stroke: #F8F8F8; stroke-width: 1.5;\" width=\"12\" x=\"290\" y=\"49\"/><!--MD5=[2738a6754abcf72559301cb2476ee864]\n",
       "@startuml\r\n",
       "skinparam ranksep 8\r\n",
       "left to right direction\r\n",
       "skinparam monochrome true\r\n",
       "skinparam classbackgroundcolor white\r\n",
       "skinparam shadowing false\r\n",
       "skinparam wrapWidth 300\r\n",
       "hide circle\r\n",
       "\r\n",
       "rec def \"AnalysisCase\" as E1 << analysis def>> [[psysml:e9833d01-8fa8-4820-af73-47d7be444de9 ]] {\r\n",
       "portin \"v\" as E2  [[psysml:fc36d359-2f0c-4a32-9d15-fff2be0a8869 ]] \r\n",
       "portout \"result\" as E3  [[psysml:7ffbe20f-c891-4b52-987b-0be8eb99b87a ]] \r\n",
       "}\r\n",
       "\r\n",
       "rec def \"AnalysisPlan\" as E4 << analysis def>> [[psysml:8a4520e8-ac51-4a2a-8007-cfc5f8084f42 ]] {\r\n",
       "portin \"v\" as E5  [[psysml:7635dc34-c4d2-4388-b045-3a6cac182eef ]] \r\n",
       "rec usage \"analysisCase\" as E6 << analysis>> [[psysml:ef775355-9069-4551-a021-5839d9673f3d ]] {\r\n",
       "portout \"mass\" as E7  [[psysml:56f340db-5793-4dc6-898e-9e0a5f90ef66 ]] \r\n",
       "portin \"v\" as E8  [[psysml:d8dc3b58-26c5-4e6e-82f3-a4f0880c0fd9 ]] \r\n",
       "}\r\n",
       "\r\n",
       "portout \"result\" as E9  [[psysml:55ba6aa8-4536-4622-ad3c-e7c6595a0034 ]] \r\n",
       "}\r\n",
       "\r\n",
       "rec usage \"analysisPlan\" as E10 << analysis>> [[psysml:26b0c0e9-c7c6-4e19-b68b-97e4f04c11f8 ]] {\r\n",
       "portin \"v\" as E11  [[psysml:f389b1b7-0af5-48e1-9589-ecdd74e85b57 ]] \r\n",
       "portout \"result\" as E12  [[psysml:bb9048ad-dd49-4e98-ae44-d0812ca693a4 ]] \r\n",
       "}\r\n",
       "\r\n",
       "@enduml\r\n",
       "\n",
       "PlantUML version 1.2020.13(Sat Jun 13 12:26:38 UTC 2020)\n",
       "(EPL source distribution)\n",
       "Java Runtime: OpenJDK Runtime Environment\n",
       "JVM: OpenJDK 64-Bit Server VM\n",
       "Default Encoding: UTF-8\n",
       "Language: en\n",
       "Country: null\n",
       "--></g></svg>"
      ]
     },
     "execution_count": 20,
     "metadata": {},
     "output_type": "execute_result"
    }
   ],
   "source": [
    "%viz --style=\"LR\" --view=\"Action\" \"AnalysisTest\""
   ]
  },
  {
   "cell_type": "code",
   "execution_count": 21,
   "id": "ae12ee23",
   "metadata": {
    "execution": {
     "iopub.execute_input": "2021-09-27T07:15:29.863432Z",
     "iopub.status.busy": "2021-09-27T07:15:29.863032Z",
     "iopub.status.idle": "2021-09-27T07:15:29.868859Z",
     "shell.execute_reply": "2021-09-27T07:15:29.869171Z"
    }
   },
   "outputs": [
    {
     "data": {
      "image/svg+xml": [
       "<?xml version=\"1.0\" encoding=\"UTF-8\" standalone=\"no\"?><svg xmlns=\"http://www.w3.org/2000/svg\" xmlns:xlink=\"http://www.w3.org/1999/xlink\" contentScriptType=\"application/ecmascript\" contentStyleType=\"text/css\" height=\"12px\" preserveAspectRatio=\"none\" style=\"width:12px;height:12px;\" version=\"1.1\" viewBox=\"0 0 12 12\" width=\"12px\" zoomAndPan=\"magnify\"><defs/><g><!--MD5=[238c11ea2002f03115ad6b49a457d50e]\n",
       "@startuml\r\n",
       "skinparam roundcorner 20\r\n",
       "skinparam BoxPadding 20\r\n",
       "skinparam SequenceBoxBackgroundColor #white\r\n",
       "skinparam style strictuml\r\n",
       "skinparam maxMessageSize 100\r\n",
       "left to right direction\r\n",
       "skinparam monochrome true\r\n",
       "skinparam classbackgroundcolor white\r\n",
       "skinparam shadowing false\r\n",
       "skinparam wrapWidth 300\r\n",
       "hide circle\r\n",
       "\r\n",
       "@enduml\r\n",
       "\n",
       "PlantUML version 1.2020.13(Sat Jun 13 12:26:38 UTC 2020)\n",
       "(EPL source distribution)\n",
       "Java Runtime: OpenJDK Runtime Environment\n",
       "JVM: OpenJDK 64-Bit Server VM\n",
       "Default Encoding: UTF-8\n",
       "Language: en\n",
       "Country: null\n",
       "--></g></svg>"
      ]
     },
     "execution_count": 21,
     "metadata": {},
     "output_type": "execute_result"
    }
   ],
   "source": [
    "%viz --style=\"LR\" --view=\"Sequence\" \"AnalysisTest\""
   ]
  },
  {
   "cell_type": "code",
   "execution_count": 22,
   "id": "974f8f4f",
   "metadata": {
    "execution": {
     "iopub.execute_input": "2021-09-27T07:15:29.919214Z",
     "iopub.status.busy": "2021-09-27T07:15:29.918961Z",
     "iopub.status.idle": "2021-09-27T07:15:29.978443Z",
     "shell.execute_reply": "2021-09-27T07:15:29.977932Z"
    }
   },
   "outputs": [
    {
     "data": {
      "image/svg+xml": [
       "<?xml version=\"1.0\" encoding=\"UTF-8\" standalone=\"no\"?><svg xmlns=\"http://www.w3.org/2000/svg\" xmlns:xlink=\"http://www.w3.org/1999/xlink\" contentScriptType=\"application/ecmascript\" contentStyleType=\"text/css\" height=\"474px\" preserveAspectRatio=\"none\" style=\"width:997px;height:474px;\" version=\"1.1\" viewBox=\"0 0 997 474\" width=\"997px\" zoomAndPan=\"magnify\"><defs/><g><!--MD5=[fbc87193dbaf4d95561dea2c320d4a47]\n",
       "cluster E1--><a href=\"psysml:f5546318-5597-445e-83af-957575abd1f7\" target=\"_top\" title=\"psysml:f5546318-5597-445e-83af-957575abd1f7\" xlink:actuate=\"onRequest\" xlink:href=\"psysml:f5546318-5597-445e-83af-957575abd1f7\" xlink:show=\"new\" xlink:title=\"psysml:f5546318-5597-445e-83af-957575abd1f7\" xlink:type=\"simple\"><polygon fill=\"#FFFFFF\" points=\"16,6,108,6,115,28.2969,975,28.2969,975,462,16,462,16,6\" style=\"stroke: #000000; stroke-width: 1.5;\"/><line style=\"stroke: #000000; stroke-width: 1.5;\" x1=\"16\" x2=\"115\" y1=\"28.2969\" y2=\"28.2969\"/><text fill=\"#000000\" font-family=\"sans-serif\" font-size=\"14\" font-weight=\"bold\" lengthAdjust=\"spacingAndGlyphs\" textLength=\"86\" x=\"20\" y=\"20.9951\">AnalysisTest</text></a><!--MD5=[de5ec2e2e8f62f467e546659f5068c88]\n",
       "cluster E5--><a href=\"psysml:e9833d01-8fa8-4820-af73-47d7be444de9\" target=\"_top\" title=\"psysml:e9833d01-8fa8-4820-af73-47d7be444de9\" xlink:actuate=\"onRequest\" xlink:href=\"psysml:e9833d01-8fa8-4820-af73-47d7be444de9\" xlink:show=\"new\" xlink:title=\"psysml:e9833d01-8fa8-4820-af73-47d7be444de9\" xlink:type=\"simple\"><rect fill=\"#FFFFFF\" height=\"68\" id=\"E5\" style=\"stroke: #383838; stroke-width: 1.5;\" width=\"572.5\" x=\"90.5\" y=\"41\"/><rect fill=\"#F8F8F8\" height=\"37.9375\" style=\"stroke: #383838; stroke-width: 1.5;\" width=\"572.5\" x=\"90.5\" y=\"41\"/><text fill=\"#000000\" font-family=\"sans-serif\" font-size=\"12\" font-style=\"italic\" lengthAdjust=\"spacingAndGlyphs\" textLength=\"88\" x=\"332.75\" y=\"57.1387\">«analysis def»</text><text fill=\"#000000\" font-family=\"sans-serif\" font-size=\"12\" lengthAdjust=\"spacingAndGlyphs\" textLength=\"81\" x=\"336.25\" y=\"71.1074\">AnalysisCase</text></a><!--MD5=[55dfccfc6c49c2d10cd1bd2211a6c90c]\n",
       "cluster E8--><a href=\"psysml:8a4520e8-ac51-4a2a-8007-cfc5f8084f42\" target=\"_top\" title=\"psysml:8a4520e8-ac51-4a2a-8007-cfc5f8084f42\" xlink:actuate=\"onRequest\" xlink:href=\"psysml:8a4520e8-ac51-4a2a-8007-cfc5f8084f42\" xlink:show=\"new\" xlink:title=\"psysml:8a4520e8-ac51-4a2a-8007-cfc5f8084f42\" xlink:type=\"simple\"><rect fill=\"#FFFFFF\" height=\"132\" id=\"E8\" style=\"stroke: #383838; stroke-width: 1.5;\" width=\"675\" x=\"276\" y=\"204\"/><rect fill=\"#F8F8F8\" height=\"37.9375\" style=\"stroke: #383838; stroke-width: 1.5;\" width=\"675\" x=\"276\" y=\"204\"/><text fill=\"#000000\" font-family=\"sans-serif\" font-size=\"12\" font-style=\"italic\" lengthAdjust=\"spacingAndGlyphs\" textLength=\"88\" x=\"569.5\" y=\"220.1387\">«analysis def»</text><text fill=\"#000000\" font-family=\"sans-serif\" font-size=\"12\" lengthAdjust=\"spacingAndGlyphs\" textLength=\"77\" x=\"575\" y=\"234.1074\">AnalysisPlan</text></a><!--MD5=[a84b4591f868c1fa4a211716a82f2f0d]\n",
       "cluster E10--><a href=\"psysml:ef775355-9069-4551-a021-5839d9673f3d\" target=\"_top\" title=\"psysml:ef775355-9069-4551-a021-5839d9673f3d\" xlink:actuate=\"onRequest\" xlink:href=\"psysml:ef775355-9069-4551-a021-5839d9673f3d\" xlink:show=\"new\" xlink:title=\"psysml:ef775355-9069-4551-a021-5839d9673f3d\" xlink:type=\"simple\"><rect fill=\"#FFFFFF\" height=\"68\" id=\"E10\" rx=\"10\" ry=\"10\" style=\"stroke: #383838; stroke-width: 1.5;\" width=\"343\" x=\"570\" y=\"242\"/><rect fill=\"#F8F8F8\" height=\"37.9375\" rx=\"10\" ry=\"10\" style=\"stroke: #F8F8F8; stroke-width: 1.5;\" width=\"343\" x=\"570\" y=\"242\"/><rect fill=\"#F8F8F8\" height=\"10\" style=\"stroke: #F8F8F8; stroke-width: 1.5;\" width=\"343\" x=\"570\" y=\"269.9375\"/><rect fill=\"none\" height=\"68\" id=\"E10\" rx=\"10\" ry=\"10\" style=\"stroke: #383838; stroke-width: 1.5;\" width=\"343\" x=\"570\" y=\"242\"/><text fill=\"#000000\" font-family=\"sans-serif\" font-size=\"12\" font-style=\"italic\" lengthAdjust=\"spacingAndGlyphs\" textLength=\"64\" x=\"709.5\" y=\"258.1387\">«analysis»</text><text fill=\"#000000\" font-family=\"sans-serif\" font-size=\"12\" lengthAdjust=\"spacingAndGlyphs\" textLength=\"81\" x=\"701\" y=\"272.1074\">analysisCase</text><line style=\"stroke: #383838; stroke-width: 1.0;\" x1=\"570\" x2=\"913\" y1=\"279.9375\" y2=\"279.9375\"/></a><!--MD5=[b4997ac47864f28c2f74865a473b2911]\n",
       "class E2--><a href=\"psysml:df856138-3406-4a6b-b583-20ed5eacc0cd\" target=\"_top\" title=\"psysml:df856138-3406-4a6b-b583-20ed5eacc0cd\" xlink:actuate=\"onRequest\" xlink:href=\"psysml:df856138-3406-4a6b-b583-20ed5eacc0cd\" xlink:show=\"new\" xlink:title=\"psysml:df856138-3406-4a6b-b583-20ed5eacc0cd\" xlink:type=\"simple\"><rect fill=\"#FFFFFF\" height=\"45.9375\" id=\"E2\" style=\"stroke: #383838; stroke-width: 1.5;\" width=\"66\" x=\"261\" y=\"128\"/><text fill=\"#000000\" font-family=\"sans-serif\" font-size=\"12\" font-style=\"italic\" lengthAdjust=\"spacingAndGlyphs\" textLength=\"64\" x=\"262\" y=\"144.1387\">«part def»</text><text fill=\"#000000\" font-family=\"sans-serif\" font-size=\"12\" lengthAdjust=\"spacingAndGlyphs\" textLength=\"8\" x=\"290\" y=\"158.1074\">V</text><line style=\"stroke: #383838; stroke-width: 1.5;\" x1=\"262\" x2=\"326\" y1=\"165.9375\" y2=\"165.9375\"/></a><!--MD5=[09b614a08d8cba4a07c9adeb5e0fee81]\n",
       "class E3--><a href=\"psysml:a14948af-c637-432a-b299-badb5d3ced27\" target=\"_top\" title=\"psysml:a14948af-c637-432a-b299-badb5d3ced27\" xlink:actuate=\"onRequest\" xlink:href=\"psysml:a14948af-c637-432a-b299-badb5d3ced27\" xlink:show=\"new\" xlink:title=\"psysml:a14948af-c637-432a-b299-badb5d3ced27\" xlink:type=\"simple\"><rect fill=\"#FFFFFF\" height=\"45.9375\" id=\"E3\" rx=\"10\" ry=\"10\" style=\"stroke: #383838; stroke-width: 1.5;\" width=\"42\" x=\"69.5\" y=\"128\"/><text fill=\"#000000\" font-family=\"sans-serif\" font-size=\"12\" font-style=\"italic\" lengthAdjust=\"spacingAndGlyphs\" textLength=\"40\" x=\"70.5\" y=\"144.1387\">«part»</text><text fill=\"#000000\" font-family=\"sans-serif\" font-size=\"12\" lengthAdjust=\"spacingAndGlyphs\" textLength=\"28\" x=\"76.5\" y=\"158.1074\">vv: V</text><line style=\"stroke: #383838; stroke-width: 1.5;\" x1=\"70.5\" x2=\"110.5\" y1=\"165.9375\" y2=\"165.9375\"/></a><!--MD5=[ebbe1d658d1005bcc118a6aa81145e00]\n",
       "class E4--><a href=\"psysml:b06c710d-6070-489f-855d-95835f572a57\" target=\"_top\" title=\"psysml:b06c710d-6070-489f-855d-95835f572a57\" xlink:actuate=\"onRequest\" xlink:href=\"psysml:b06c710d-6070-489f-855d-95835f572a57\" xlink:show=\"new\" xlink:title=\"psysml:b06c710d-6070-489f-855d-95835f572a57\" xlink:type=\"simple\"><rect fill=\"#FFFFFF\" height=\"66.7422\" id=\"E4\" style=\"stroke: #383838; stroke-width: 1.5;\" width=\"117\" x=\"32\" y=\"250.5\"/><text fill=\"#000000\" font-family=\"sans-serif\" font-size=\"12\" font-style=\"italic\" lengthAdjust=\"spacingAndGlyphs\" textLength=\"115\" x=\"33\" y=\"266.6387\">«requirement def»</text><text fill=\"#000000\" font-family=\"sans-serif\" font-size=\"12\" lengthAdjust=\"spacingAndGlyphs\" textLength=\"107\" x=\"37\" y=\"280.6074\">AnalysisObjective</text><line style=\"stroke: #383838; stroke-width: 1.5;\" x1=\"33\" x2=\"148\" y1=\"288.4375\" y2=\"288.4375\"/><text fill=\"#000000\" font-family=\"sans-serif\" font-size=\"11\" lengthAdjust=\"spacingAndGlyphs\" textLength=\"12\" x=\"38\" y=\"302.6479\">...</text><line style=\"stroke: #383838; stroke-width: 1.0;\" x1=\"33\" x2=\"148\" y1=\"309.2422\" y2=\"309.2422\"/></a><!--MD5=[bee11217b2f71d958a27249dc326068c]\n",
       "class E14--><a href=\"psysml:e127547d-9ca6-4380-b459-796effe0b56f\" target=\"_top\" title=\"psysml:e127547d-9ca6-4380-b459-796effe0b56f\" xlink:actuate=\"onRequest\" xlink:href=\"psysml:e127547d-9ca6-4380-b459-796effe0b56f\" xlink:show=\"new\" xlink:title=\"psysml:e127547d-9ca6-4380-b459-796effe0b56f\" xlink:type=\"simple\"><rect fill=\"#FFFFFF\" height=\"45.9375\" id=\"E14\" rx=\"10\" ry=\"10\" style=\"stroke: #383838; stroke-width: 1.5;\" width=\"104\" x=\"38.5\" y=\"394\"/><text fill=\"#000000\" font-family=\"sans-serif\" font-size=\"12\" font-style=\"italic\" lengthAdjust=\"spacingAndGlyphs\" textLength=\"40\" x=\"70.5\" y=\"410.1387\">«part»</text><text fill=\"#000000\" font-family=\"sans-serif\" font-size=\"12\" lengthAdjust=\"spacingAndGlyphs\" textLength=\"98\" x=\"41.5\" y=\"424.1074\">analysisContext</text><line style=\"stroke: #383838; stroke-width: 1.5;\" x1=\"39.5\" x2=\"141.5\" y1=\"431.9375\" y2=\"431.9375\"/></a><!--MD5=[0c48fb7552dae8cbbef69381101a84c8]\n",
       "class E15--><a href=\"psysml:26b0c0e9-c7c6-4e19-b68b-97e4f04c11f8\" target=\"_top\" title=\"psysml:26b0c0e9-c7c6-4e19-b68b-97e4f04c11f8\" xlink:actuate=\"onRequest\" xlink:href=\"psysml:26b0c0e9-c7c6-4e19-b68b-97e4f04c11f8\" xlink:show=\"new\" xlink:title=\"psysml:26b0c0e9-c7c6-4e19-b68b-97e4f04c11f8\" xlink:type=\"simple\"><rect fill=\"#FFFFFF\" height=\"45.9375\" id=\"E15\" rx=\"10\" ry=\"10\" style=\"stroke: #383838; stroke-width: 1.5;\" width=\"168\" x=\"210\" y=\"394\"/><text fill=\"#000000\" font-family=\"sans-serif\" font-size=\"12\" font-style=\"italic\" lengthAdjust=\"spacingAndGlyphs\" textLength=\"64\" x=\"262\" y=\"410.1387\">«analysis»</text><text fill=\"#000000\" font-family=\"sans-serif\" font-size=\"12\" lengthAdjust=\"spacingAndGlyphs\" textLength=\"162\" x=\"213\" y=\"424.1074\">analysisPlan: AnalysisPlan</text><line style=\"stroke: #383838; stroke-width: 1.5;\" x1=\"211\" x2=\"377\" y1=\"431.9375\" y2=\"431.9375\"/></a><!--MD5=[35f0587eaee8d5bb9a02e25b63afc23b]\n",
       "class E16--><a href=\"psysml:a55f605c-cc05-4fcd-b9b1-1e930756e010\" target=\"_top\" title=\"psysml:a55f605c-cc05-4fcd-b9b1-1e930756e010\" xlink:actuate=\"onRequest\" xlink:href=\"psysml:a55f605c-cc05-4fcd-b9b1-1e930756e010\" xlink:show=\"new\" xlink:title=\"psysml:a55f605c-cc05-4fcd-b9b1-1e930756e010\" xlink:type=\"simple\"><rect fill=\"#FFFFFF\" height=\"45.9375\" id=\"E16\" rx=\"10\" ry=\"10\" style=\"stroke: #383838; stroke-width: 1.5;\" width=\"93\" x=\"523.5\" y=\"394\"/><text fill=\"#000000\" font-family=\"sans-serif\" font-size=\"12\" font-style=\"italic\" lengthAdjust=\"spacingAndGlyphs\" textLength=\"91\" x=\"524.5\" y=\"410.1387\">«requirement»</text><text fill=\"#000000\" font-family=\"sans-serif\" font-size=\"12\" lengthAdjust=\"spacingAndGlyphs\" textLength=\"19\" x=\"560.5\" y=\"424.1074\">obj</text><line style=\"stroke: #383838; stroke-width: 1.5;\" x1=\"524.5\" x2=\"615.5\" y1=\"431.9375\" y2=\"431.9375\"/></a><text fill=\"#000000\" font-family=\"sans-serif\" font-size=\"14\" lengthAdjust=\"spacingAndGlyphs\" textLength=\"7\" x=\"87\" y=\"53.6982\">v</text><rect fill=\"#383838\" height=\"12\" style=\"stroke: #F8F8F8; stroke-width: 1.5;\" width=\"12\" x=\"84.5\" y=\"69\"/><text fill=\"#000000\" font-family=\"sans-serif\" font-size=\"14\" lengthAdjust=\"spacingAndGlyphs\" textLength=\"39\" x=\"643.5\" y=\"53.6982\">result</text><rect fill=\"#383838\" height=\"12\" style=\"stroke: #F8F8F8; stroke-width: 1.5;\" width=\"12\" x=\"657\" y=\"69\"/><text fill=\"#000000\" font-family=\"sans-serif\" font-size=\"14\" lengthAdjust=\"spacingAndGlyphs\" textLength=\"7\" x=\"290.5\" y=\"354.9951\">v</text><rect fill=\"#383838\" height=\"12\" style=\"stroke: #F8F8F8; stroke-width: 1.5;\" width=\"12\" x=\"288\" y=\"330\"/><text fill=\"#000000\" font-family=\"sans-serif\" font-size=\"14\" lengthAdjust=\"spacingAndGlyphs\" textLength=\"39\" x=\"820.5\" y=\"182.6982\">result</text><rect fill=\"#383838\" height=\"12\" style=\"stroke: #F8F8F8; stroke-width: 1.5;\" width=\"12\" x=\"834\" y=\"198\"/><text fill=\"#000000\" font-family=\"sans-serif\" font-size=\"14\" lengthAdjust=\"spacingAndGlyphs\" textLength=\"37\" x=\"894.5\" y=\"254.6982\">mass</text><rect fill=\"#383838\" height=\"12\" style=\"stroke: #F8F8F8; stroke-width: 1.5;\" width=\"12\" x=\"907\" y=\"270\"/><text fill=\"#000000\" font-family=\"sans-serif\" font-size=\"14\" lengthAdjust=\"spacingAndGlyphs\" textLength=\"7\" x=\"566.5\" y=\"254.6982\">v</text><rect fill=\"#383838\" height=\"12\" style=\"stroke: #F8F8F8; stroke-width: 1.5;\" width=\"12\" x=\"564\" y=\"270\"/><!--MD5=[05d275557350bfb9b23a4ef7222b4c39]\n",
       "link E3 to E2--><a href=\"psysml:4553bbf6-343c-42bd-a219-72e0d50d2170\" target=\"_top\" title=\"psysml:4553bbf6-343c-42bd-a219-72e0d50d2170\" xlink:actuate=\"onRequest\" xlink:href=\"psysml:4553bbf6-343c-42bd-a219-72e0d50d2170\" xlink:show=\"new\" xlink:title=\"psysml:4553bbf6-343c-42bd-a219-72e0d50d2170\" xlink:type=\"simple\"><path d=\"M111.56,151 C141.38,151 198.42,151 240.62,151 \" fill=\"none\" id=\"E3-&gt;E2\" style=\"stroke: #383838; stroke-width: 1.0;\"/><polygon fill=\"#FFFFFF\" points=\"260.82,151,241.82,158,241.82,144,260.82,151\" style=\"stroke: #383838; stroke-width: 1.0;\"/><ellipse cx=\"236.12\" cy=\"156\" fill=\"#383838\" rx=\"2\" ry=\"2\" style=\"stroke: #383838; stroke-width: 1.0;\"/><ellipse cx=\"236.12\" cy=\"146\" fill=\"#383838\" rx=\"2\" ry=\"2\" style=\"stroke: #383838; stroke-width: 1.0;\"/></a><!--MD5=[17bf29720e4688890742b92d9a67fdf0]\n",
       "reverse link E14 to E15--><a href=\"psysml:cf81c84a-d20a-4a9d-8212-c3de89ec9ad0\" target=\"_top\" title=\"psysml:cf81c84a-d20a-4a9d-8212-c3de89ec9ad0\" xlink:actuate=\"onRequest\" xlink:href=\"psysml:cf81c84a-d20a-4a9d-8212-c3de89ec9ad0\" xlink:show=\"new\" xlink:title=\"psysml:cf81c84a-d20a-4a9d-8212-c3de89ec9ad0\" xlink:type=\"simple\"><path d=\"M155.7,417 C172.91,417 191.75,417 209.82,417 \" fill=\"none\" id=\"E14&lt;-E15\" style=\"stroke: #383838; stroke-width: 1.0;\"/><polygon fill=\"#383838\" points=\"142.61,417,148.61,421,154.61,417,148.61,413,142.61,417\" style=\"stroke: #383838; stroke-width: 1.0;\"/></a><!--MD5=[1b01d5b954197aaf3899ca0bde35faf5]\n",
       "link E15 to E8--><a href=\"psysml:31ecf0da-b030-4520-be0f-3ece1376fb5f\" target=\"_top\" title=\"psysml:31ecf0da-b030-4520-be0f-3ece1376fb5f\" xlink:actuate=\"onRequest\" xlink:href=\"psysml:31ecf0da-b030-4520-be0f-3ece1376fb5f\" xlink:show=\"new\" xlink:title=\"psysml:31ecf0da-b030-4520-be0f-3ece1376fb5f\" xlink:type=\"simple\"><path d=\"M372.19,393.98 C409.83,382.77 455.76,369.14 497,357 C502.12,355.49 507.45,353.93 512.79,352.37 \" fill=\"none\" id=\"E15-&gt;E8\" style=\"stroke: #383838; stroke-width: 1.0;\"/><polygon fill=\"#FFFFFF\" points=\"512.79,352.37,496.5152,364.417,492.5894,350.9787,512.79,352.37\" style=\"stroke: #383838; stroke-width: 1.0;\"/><ellipse cx=\"490.4831\" cy=\"364.0956\" fill=\"#383838\" rx=\"2\" ry=\"2\" style=\"stroke: #383838; stroke-width: 1.0;\"/><ellipse cx=\"487.6789\" cy=\"354.4968\" fill=\"#383838\" rx=\"2\" ry=\"2\" style=\"stroke: #383838; stroke-width: 1.0;\"/></a><!--MD5=[f8b155c46b092be73bb522b0a8fc72a2]\n",
       "link E15 to E16--><a href=\"psysml:aa3a7955-6ed3-447d-b0ee-a09ada8803a4\" target=\"_top\" title=\"psysml:aa3a7955-6ed3-447d-b0ee-a09ada8803a4\" xlink:actuate=\"onRequest\" xlink:href=\"psysml:aa3a7955-6ed3-447d-b0ee-a09ada8803a4\" xlink:show=\"new\" xlink:title=\"psysml:aa3a7955-6ed3-447d-b0ee-a09ada8803a4\" xlink:type=\"simple\"><path d=\"M378.33,417 C422.86,417 476.39,417 515.38,417 \" fill=\"none\" id=\"E15-&gt;E16\" style=\"stroke: #383838; stroke-width: 1.0;\"/><polygon fill=\"#383838\" points=\"523.47,417,515.47,414,515.47,420,523.47,417\" style=\"stroke: #383838; stroke-width: 1.0;\"/><text fill=\"#000000\" font-family=\"sans-serif\" font-size=\"13\" lengthAdjust=\"spacingAndGlyphs\" textLength=\"73\" x=\"409\" y=\"413.0669\">«objective»</text><text fill=\"#000000\" font-family=\"sans-serif\" font-size=\"13\" lengthAdjust=\"spacingAndGlyphs\" textLength=\"8\" x=\"507.4168\" y=\"430.2778\">1</text></a><!--MD5=[ae730b7f49f7a85600f8d484a632096c]\n",
       "@startuml\r\n",
       "left to right direction\r\n",
       "skinparam monochrome true\r\n",
       "skinparam classbackgroundcolor white\r\n",
       "skinparam shadowing false\r\n",
       "skinparam wrapWidth 300\r\n",
       "hide circle\r\n",
       "\r\n",
       "package \"AnalysisTest\" as E1  [[psysml:f5546318-5597-445e-83af-957575abd1f7 ]]  {\r\n",
       "comp def \"V\" as E2  <<(T,blue) part def>> [[psysml:df856138-3406-4a6b-b583-20ed5eacc0cd ]] {\r\n",
       "}\r\n",
       "comp usage \"vv: V\" as E3  <<(T,blue) part>> [[psysml:a14948af-c637-432a-b299-badb5d3ced27 ]] {\r\n",
       "}\r\n",
       "comp def \"AnalysisObjective\" as E4  <<(T,blue) requirement def>> [[psysml:b06c710d-6070-489f-855d-95835f572a57 ]] {\r\n",
       "...\r\n",
       "- -\r\n",
       "}\r\n",
       "rec def \"AnalysisCase\" as E5 << analysis def>> [[psysml:e9833d01-8fa8-4820-af73-47d7be444de9 ]] {\r\n",
       "portin \"v\" as E6  [[psysml:fc36d359-2f0c-4a32-9d15-fff2be0a8869 ]] \r\n",
       "portout \"result\" as E7  [[psysml:7ffbe20f-c891-4b52-987b-0be8eb99b87a ]] \r\n",
       "}\r\n",
       "\r\n",
       "rec def \"AnalysisPlan\" as E8 << analysis def>> [[psysml:8a4520e8-ac51-4a2a-8007-cfc5f8084f42 ]] {\r\n",
       "portin \"v\" as E9  [[psysml:7635dc34-c4d2-4388-b045-3a6cac182eef ]] \r\n",
       "rec usage \"analysisCase\" as E10 << analysis>> [[psysml:ef775355-9069-4551-a021-5839d9673f3d ]] {\r\n",
       "portout \"mass\" as E11  [[psysml:56f340db-5793-4dc6-898e-9e0a5f90ef66 ]] \r\n",
       "portin \"v\" as E12  [[psysml:d8dc3b58-26c5-4e6e-82f3-a4f0880c0fd9 ]] \r\n",
       "}\r\n",
       "\r\n",
       "portout \"result\" as E13  [[psysml:55ba6aa8-4536-4622-ad3c-e7c6595a0034 ]] \r\n",
       "}\r\n",
       "\r\n",
       "comp usage \"analysisContext\" as E14  <<(T,blue) part>> [[psysml:e127547d-9ca6-4380-b459-796effe0b56f ]] {\r\n",
       "}\r\n",
       "comp usage \"analysisPlan: AnalysisPlan\" as E15 << analysis>> [[psysml:26b0c0e9-c7c6-4e19-b68b-97e4f04c11f8 ]] {\r\n",
       "}\r\n",
       "comp usage \"obj\" as E16  <<(T,blue) requirement>> [[psysml:a55f605c-cc05-4fcd-b9b1-1e930756e010 ]] {\r\n",
       "}\r\n",
       "}\r\n",
       "E3 - -:|> E2 [[psysml:4553bbf6-343c-42bd-a219-72e0d50d2170 ]] \r\n",
       "E14 *- - E15 [[psysml:cf81c84a-d20a-4a9d-8212-c3de89ec9ad0 ]] \r\n",
       "E15 - -:|> E8 [[psysml:31ecf0da-b030-4520-be0f-3ece1376fb5f ]] \r\n",
       "E15 - ->> \"1\"E16 [[psysml:aa3a7955-6ed3-447d-b0ee-a09ada8803a4 ]] : <<objective>>\r\n",
       "@enduml\r\n",
       "\n",
       "PlantUML version 1.2020.13(Sat Jun 13 12:26:38 UTC 2020)\n",
       "(EPL source distribution)\n",
       "Java Runtime: OpenJDK Runtime Environment\n",
       "JVM: OpenJDK 64-Bit Server VM\n",
       "Default Encoding: UTF-8\n",
       "Language: en\n",
       "Country: null\n",
       "--></g></svg>"
      ]
     },
     "execution_count": 22,
     "metadata": {},
     "output_type": "execute_result"
    }
   ],
   "source": [
    "%viz --style=\"LR\" --view=\"MIXED\" \"AnalysisTest\""
   ]
  },
  {
   "cell_type": "code",
   "execution_count": 23,
   "id": "45c92773",
   "metadata": {
    "execution": {
     "iopub.execute_input": "2021-09-27T07:15:30.027997Z",
     "iopub.status.busy": "2021-09-27T07:15:30.027404Z",
     "iopub.status.idle": "2021-09-27T07:15:30.087893Z",
     "shell.execute_reply": "2021-09-27T07:15:30.087615Z"
    }
   },
   "outputs": [
    {
     "data": {
      "image/svg+xml": [
       "<?xml version=\"1.0\" encoding=\"UTF-8\" standalone=\"no\"?><svg xmlns=\"http://www.w3.org/2000/svg\" xmlns:xlink=\"http://www.w3.org/1999/xlink\" contentScriptType=\"application/ecmascript\" contentStyleType=\"text/css\" height=\"628px\" preserveAspectRatio=\"none\" style=\"width:837px;height:628px;\" version=\"1.1\" viewBox=\"0 0 837 628\" width=\"837px\" zoomAndPan=\"magnify\"><defs><filter height=\"300%\" id=\"f5se5zwe40xjq\" width=\"300%\" x=\"-1\" y=\"-1\"><feGaussianBlur result=\"blurOut\" stdDeviation=\"2.0\"/><feColorMatrix in=\"blurOut\" result=\"blurOut2\" type=\"matrix\" values=\"0 0 0 0 0 0 0 0 0 0 0 0 0 0 0 0 0 0 .4 0\"/><feOffset dx=\"4.0\" dy=\"4.0\" in=\"blurOut2\" result=\"blurOut3\"/><feBlend in=\"SourceGraphic\" in2=\"blurOut3\" mode=\"normal\"/></filter></defs><g><!--MD5=[fbc87193dbaf4d95561dea2c320d4a47]\n",
       "cluster E1--><a href=\"psysml:f5546318-5597-445e-83af-957575abd1f7\" target=\"_top\" title=\"psysml:f5546318-5597-445e-83af-957575abd1f7\" xlink:actuate=\"onRequest\" xlink:href=\"psysml:f5546318-5597-445e-83af-957575abd1f7\" xlink:show=\"new\" xlink:title=\"psysml:f5546318-5597-445e-83af-957575abd1f7\" xlink:type=\"simple\"><polygon fill=\"#FFFFFF\" filter=\"url(#f5se5zwe40xjq)\" points=\"16,6,108,6,115,28.2969,815,28.2969,815,616,16,616,16,6\" style=\"stroke: #000000; stroke-width: 1.5;\"/><line style=\"stroke: #000000; stroke-width: 1.5;\" x1=\"16\" x2=\"115\" y1=\"28.2969\" y2=\"28.2969\"/><text fill=\"#000000\" font-family=\"sans-serif\" font-size=\"14\" font-weight=\"bold\" lengthAdjust=\"spacingAndGlyphs\" textLength=\"86\" x=\"20\" y=\"20.9951\">AnalysisTest</text></a><!--MD5=[de5ec2e2e8f62f467e546659f5068c88]\n",
       "cluster E5--><a href=\"psysml:e9833d01-8fa8-4820-af73-47d7be444de9\" target=\"_top\" title=\"psysml:e9833d01-8fa8-4820-af73-47d7be444de9\" xlink:actuate=\"onRequest\" xlink:href=\"psysml:e9833d01-8fa8-4820-af73-47d7be444de9\" xlink:show=\"new\" xlink:title=\"psysml:e9833d01-8fa8-4820-af73-47d7be444de9\" xlink:type=\"simple\"><rect fill=\"#FFFFFF\" filter=\"url(#f5se5zwe40xjq)\" height=\"299.5\" id=\"E5\" style=\"stroke: #A80036; stroke-width: 1.5;\" width=\"146\" x=\"653\" y=\"74.5\"/><rect fill=\"#FEFECE\" height=\"37.9375\" style=\"stroke: #A80036; stroke-width: 1.5;\" width=\"146\" x=\"653\" y=\"74.5\"/><text fill=\"#000000\" font-family=\"sans-serif\" font-size=\"12\" font-style=\"italic\" lengthAdjust=\"spacingAndGlyphs\" textLength=\"88\" x=\"682\" y=\"90.6387\">«analysis def»</text><text fill=\"#000000\" font-family=\"sans-serif\" font-size=\"12\" lengthAdjust=\"spacingAndGlyphs\" textLength=\"81\" x=\"685.5\" y=\"104.6074\">AnalysisCase</text></a><!--MD5=[55dfccfc6c49c2d10cd1bd2211a6c90c]\n",
       "cluster E8--><a href=\"psysml:8a4520e8-ac51-4a2a-8007-cfc5f8084f42\" target=\"_top\" title=\"psysml:8a4520e8-ac51-4a2a-8007-cfc5f8084f42\" xlink:actuate=\"onRequest\" xlink:href=\"psysml:8a4520e8-ac51-4a2a-8007-cfc5f8084f42\" xlink:show=\"new\" xlink:title=\"psysml:8a4520e8-ac51-4a2a-8007-cfc5f8084f42\" xlink:type=\"simple\"><rect fill=\"#FFFFFF\" filter=\"url(#f5se5zwe40xjq)\" height=\"400\" id=\"E8\" style=\"stroke: #A80036; stroke-width: 1.5;\" width=\"259\" x=\"279\" y=\"192\"/><rect fill=\"#FEFECE\" height=\"37.9375\" style=\"stroke: #A80036; stroke-width: 1.5;\" width=\"259\" x=\"279\" y=\"192\"/><text fill=\"#000000\" font-family=\"sans-serif\" font-size=\"12\" font-style=\"italic\" lengthAdjust=\"spacingAndGlyphs\" textLength=\"88\" x=\"364.5\" y=\"208.1387\">«analysis def»</text><text fill=\"#000000\" font-family=\"sans-serif\" font-size=\"12\" lengthAdjust=\"spacingAndGlyphs\" textLength=\"77\" x=\"370\" y=\"222.1074\">AnalysisPlan</text></a><!--MD5=[a84b4591f868c1fa4a211716a82f2f0d]\n",
       "cluster E10--><a href=\"psysml:ef775355-9069-4551-a021-5839d9673f3d\" target=\"_top\" title=\"psysml:ef775355-9069-4551-a021-5839d9673f3d\" xlink:actuate=\"onRequest\" xlink:href=\"psysml:ef775355-9069-4551-a021-5839d9673f3d\" xlink:show=\"new\" xlink:title=\"psysml:ef775355-9069-4551-a021-5839d9673f3d\" xlink:type=\"simple\"><rect fill=\"#FFFFFF\" filter=\"url(#f5se5zwe40xjq)\" height=\"239\" id=\"E10\" rx=\"10\" ry=\"10\" style=\"stroke: #A80036; stroke-width: 1.5;\" width=\"138\" x=\"362\" y=\"315\"/><rect fill=\"#FEFECE\" height=\"37.9375\" rx=\"10\" ry=\"10\" style=\"stroke: #FEFECE; stroke-width: 1.5;\" width=\"138\" x=\"362\" y=\"315\"/><rect fill=\"#FEFECE\" height=\"10\" style=\"stroke: #FEFECE; stroke-width: 1.5;\" width=\"138\" x=\"362\" y=\"342.9375\"/><rect fill=\"none\" height=\"239\" id=\"E10\" rx=\"10\" ry=\"10\" style=\"stroke: #A80036; stroke-width: 1.5;\" width=\"138\" x=\"362\" y=\"315\"/><text fill=\"#000000\" font-family=\"sans-serif\" font-size=\"12\" font-style=\"italic\" lengthAdjust=\"spacingAndGlyphs\" textLength=\"64\" x=\"399\" y=\"331.1387\">«analysis»</text><text fill=\"#000000\" font-family=\"sans-serif\" font-size=\"12\" lengthAdjust=\"spacingAndGlyphs\" textLength=\"81\" x=\"390.5\" y=\"345.1074\">analysisCase</text><line style=\"stroke: #A80036; stroke-width: 1.0;\" x1=\"362\" x2=\"500\" y1=\"352.9375\" y2=\"352.9375\"/></a><!--MD5=[b4997ac47864f28c2f74865a473b2911]\n",
       "class E2--><a href=\"psysml:df856138-3406-4a6b-b583-20ed5eacc0cd\" target=\"_top\" title=\"psysml:df856138-3406-4a6b-b583-20ed5eacc0cd\" xlink:actuate=\"onRequest\" xlink:href=\"psysml:df856138-3406-4a6b-b583-20ed5eacc0cd\" xlink:show=\"new\" xlink:title=\"psysml:df856138-3406-4a6b-b583-20ed5eacc0cd\" xlink:type=\"simple\"><rect fill=\"#FEFECE\" filter=\"url(#f5se5zwe40xjq)\" height=\"45.9375\" id=\"E2\" style=\"stroke: #A80036; stroke-width: 1.5;\" width=\"66\" x=\"568\" y=\"169\"/><text fill=\"#000000\" font-family=\"sans-serif\" font-size=\"12\" font-style=\"italic\" lengthAdjust=\"spacingAndGlyphs\" textLength=\"64\" x=\"569\" y=\"185.1387\">«part def»</text><text fill=\"#000000\" font-family=\"sans-serif\" font-size=\"12\" lengthAdjust=\"spacingAndGlyphs\" textLength=\"8\" x=\"597\" y=\"199.1074\">V</text><line style=\"stroke: #A80036; stroke-width: 1.5;\" x1=\"569\" x2=\"633\" y1=\"206.9375\" y2=\"206.9375\"/></a><!--MD5=[09b614a08d8cba4a07c9adeb5e0fee81]\n",
       "class E3--><a href=\"psysml:a14948af-c637-432a-b299-badb5d3ced27\" target=\"_top\" title=\"psysml:a14948af-c637-432a-b299-badb5d3ced27\" xlink:actuate=\"onRequest\" xlink:href=\"psysml:a14948af-c637-432a-b299-badb5d3ced27\" xlink:show=\"new\" xlink:title=\"psysml:a14948af-c637-432a-b299-badb5d3ced27\" xlink:type=\"simple\"><rect fill=\"#FEFECE\" filter=\"url(#f5se5zwe40xjq)\" height=\"45.9375\" id=\"E3\" rx=\"10\" ry=\"10\" style=\"stroke: #A80036; stroke-width: 1.5;\" width=\"42\" x=\"580\" y=\"51.5\"/><text fill=\"#000000\" font-family=\"sans-serif\" font-size=\"12\" font-style=\"italic\" lengthAdjust=\"spacingAndGlyphs\" textLength=\"40\" x=\"581\" y=\"67.6387\">«part»</text><text fill=\"#000000\" font-family=\"sans-serif\" font-size=\"12\" lengthAdjust=\"spacingAndGlyphs\" textLength=\"28\" x=\"587\" y=\"81.6074\">vv: V</text><line style=\"stroke: #A80036; stroke-width: 1.5;\" x1=\"581\" x2=\"621\" y1=\"89.4375\" y2=\"89.4375\"/></a><!--MD5=[ebbe1d658d1005bcc118a6aa81145e00]\n",
       "class E4--><a href=\"psysml:b06c710d-6070-489f-855d-95835f572a57\" target=\"_top\" title=\"psysml:b06c710d-6070-489f-855d-95835f572a57\" xlink:actuate=\"onRequest\" xlink:href=\"psysml:b06c710d-6070-489f-855d-95835f572a57\" xlink:show=\"new\" xlink:title=\"psysml:b06c710d-6070-489f-855d-95835f572a57\" xlink:type=\"simple\"><rect fill=\"#FEFECE\" filter=\"url(#f5se5zwe40xjq)\" height=\"66.7422\" id=\"E4\" style=\"stroke: #A80036; stroke-width: 1.5;\" width=\"117\" x=\"315.5\" y=\"41\"/><text fill=\"#000000\" font-family=\"sans-serif\" font-size=\"12\" font-style=\"italic\" lengthAdjust=\"spacingAndGlyphs\" textLength=\"115\" x=\"316.5\" y=\"57.1387\">«requirement def»</text><text fill=\"#000000\" font-family=\"sans-serif\" font-size=\"12\" lengthAdjust=\"spacingAndGlyphs\" textLength=\"107\" x=\"320.5\" y=\"71.1074\">AnalysisObjective</text><line style=\"stroke: #A80036; stroke-width: 1.5;\" x1=\"316.5\" x2=\"431.5\" y1=\"78.9375\" y2=\"78.9375\"/><text fill=\"#000000\" font-family=\"sans-serif\" font-size=\"11\" lengthAdjust=\"spacingAndGlyphs\" textLength=\"12\" x=\"321.5\" y=\"93.1479\">...</text><line style=\"stroke: #A80036; stroke-width: 1.0;\" x1=\"316.5\" x2=\"431.5\" y1=\"99.7422\" y2=\"99.7422\"/></a><!--MD5=[bee11217b2f71d958a27249dc326068c]\n",
       "class E14--><a href=\"psysml:e127547d-9ca6-4380-b459-796effe0b56f\" target=\"_top\" title=\"psysml:e127547d-9ca6-4380-b459-796effe0b56f\" xlink:actuate=\"onRequest\" xlink:href=\"psysml:e127547d-9ca6-4380-b459-796effe0b56f\" xlink:show=\"new\" xlink:title=\"psysml:e127547d-9ca6-4380-b459-796effe0b56f\" xlink:type=\"simple\"><rect fill=\"#FEFECE\" filter=\"url(#f5se5zwe40xjq)\" height=\"45.9375\" id=\"E14\" rx=\"10\" ry=\"10\" style=\"stroke: #A80036; stroke-width: 1.5;\" width=\"104\" x=\"64\" y=\"51.5\"/><text fill=\"#000000\" font-family=\"sans-serif\" font-size=\"12\" font-style=\"italic\" lengthAdjust=\"spacingAndGlyphs\" textLength=\"40\" x=\"96\" y=\"67.6387\">«part»</text><text fill=\"#000000\" font-family=\"sans-serif\" font-size=\"12\" lengthAdjust=\"spacingAndGlyphs\" textLength=\"98\" x=\"67\" y=\"81.6074\">analysisContext</text><line style=\"stroke: #A80036; stroke-width: 1.5;\" x1=\"65\" x2=\"167\" y1=\"89.4375\" y2=\"89.4375\"/></a><!--MD5=[0c48fb7552dae8cbbef69381101a84c8]\n",
       "class E15--><a href=\"psysml:26b0c0e9-c7c6-4e19-b68b-97e4f04c11f8\" target=\"_top\" title=\"psysml:26b0c0e9-c7c6-4e19-b68b-97e4f04c11f8\" xlink:actuate=\"onRequest\" xlink:href=\"psysml:26b0c0e9-c7c6-4e19-b68b-97e4f04c11f8\" xlink:show=\"new\" xlink:title=\"psysml:26b0c0e9-c7c6-4e19-b68b-97e4f04c11f8\" xlink:type=\"simple\"><rect fill=\"#FEFECE\" filter=\"url(#f5se5zwe40xjq)\" height=\"45.9375\" id=\"E15\" rx=\"10\" ry=\"10\" style=\"stroke: #A80036; stroke-width: 1.5;\" width=\"168\" x=\"32\" y=\"169\"/><text fill=\"#000000\" font-family=\"sans-serif\" font-size=\"12\" font-style=\"italic\" lengthAdjust=\"spacingAndGlyphs\" textLength=\"64\" x=\"84\" y=\"185.1387\">«analysis»</text><text fill=\"#000000\" font-family=\"sans-serif\" font-size=\"12\" lengthAdjust=\"spacingAndGlyphs\" textLength=\"162\" x=\"35\" y=\"199.1074\">analysisPlan: AnalysisPlan</text><line style=\"stroke: #A80036; stroke-width: 1.5;\" x1=\"33\" x2=\"199\" y1=\"206.9375\" y2=\"206.9375\"/></a><!--MD5=[35f0587eaee8d5bb9a02e25b63afc23b]\n",
       "class E16--><a href=\"psysml:a55f605c-cc05-4fcd-b9b1-1e930756e010\" target=\"_top\" title=\"psysml:a55f605c-cc05-4fcd-b9b1-1e930756e010\" xlink:actuate=\"onRequest\" xlink:href=\"psysml:a55f605c-cc05-4fcd-b9b1-1e930756e010\" xlink:show=\"new\" xlink:title=\"psysml:a55f605c-cc05-4fcd-b9b1-1e930756e010\" xlink:type=\"simple\"><rect fill=\"#FEFECE\" filter=\"url(#f5se5zwe40xjq)\" height=\"45.9375\" id=\"E16\" rx=\"10\" ry=\"10\" style=\"stroke: #A80036; stroke-width: 1.5;\" width=\"93\" x=\"69.5\" y=\"292\"/><text fill=\"#000000\" font-family=\"sans-serif\" font-size=\"12\" font-style=\"italic\" lengthAdjust=\"spacingAndGlyphs\" textLength=\"91\" x=\"70.5\" y=\"308.1387\">«requirement»</text><text fill=\"#000000\" font-family=\"sans-serif\" font-size=\"12\" lengthAdjust=\"spacingAndGlyphs\" textLength=\"19\" x=\"106.5\" y=\"322.1074\">obj</text><line style=\"stroke: #A80036; stroke-width: 1.5;\" x1=\"70.5\" x2=\"161.5\" y1=\"329.9375\" y2=\"329.9375\"/></a><text fill=\"#000000\" font-family=\"sans-serif\" font-size=\"14\" lengthAdjust=\"spacingAndGlyphs\" textLength=\"7\" x=\"722.5\" y=\"53.1982\">v</text><rect fill=\"#A80036\" height=\"12\" style=\"stroke: #FEFECE; stroke-width: 1.5;\" width=\"12\" x=\"720\" y=\"68.5\"/><text fill=\"#000000\" font-family=\"sans-serif\" font-size=\"14\" lengthAdjust=\"spacingAndGlyphs\" textLength=\"39\" x=\"706.5\" y=\"392.9951\">result</text><rect fill=\"#A80036\" height=\"12\" style=\"stroke: #FEFECE; stroke-width: 1.5;\" width=\"12\" x=\"720\" y=\"368\"/><text fill=\"#000000\" font-family=\"sans-serif\" font-size=\"14\" lengthAdjust=\"spacingAndGlyphs\" textLength=\"7\" x=\"293.5\" y=\"170.6982\">v</text><rect fill=\"#A80036\" height=\"12\" style=\"stroke: #FEFECE; stroke-width: 1.5;\" width=\"12\" x=\"291\" y=\"186\"/><text fill=\"#000000\" font-family=\"sans-serif\" font-size=\"14\" lengthAdjust=\"spacingAndGlyphs\" textLength=\"39\" x=\"518.5\" y=\"499.9951\">result</text><rect fill=\"#A80036\" height=\"12\" style=\"stroke: #FEFECE; stroke-width: 1.5;\" width=\"12\" x=\"532\" y=\"475\"/><text fill=\"#000000\" font-family=\"sans-serif\" font-size=\"14\" lengthAdjust=\"spacingAndGlyphs\" textLength=\"37\" x=\"412.5\" y=\"572.9951\">mass</text><rect fill=\"#A80036\" height=\"12\" style=\"stroke: #FEFECE; stroke-width: 1.5;\" width=\"12\" x=\"425\" y=\"548\"/><text fill=\"#000000\" font-family=\"sans-serif\" font-size=\"14\" lengthAdjust=\"spacingAndGlyphs\" textLength=\"7\" x=\"427.5\" y=\"293.6982\">v</text><rect fill=\"#A80036\" height=\"12\" style=\"stroke: #FEFECE; stroke-width: 1.5;\" width=\"12\" x=\"425\" y=\"309\"/><!--MD5=[05d275557350bfb9b23a4ef7222b4c39]\n",
       "link E3 to E2--><a href=\"psysml:4553bbf6-343c-42bd-a219-72e0d50d2170\" target=\"_top\" title=\"psysml:4553bbf6-343c-42bd-a219-72e0d50d2170\" xlink:actuate=\"onRequest\" xlink:href=\"psysml:4553bbf6-343c-42bd-a219-72e0d50d2170\" xlink:show=\"new\" xlink:title=\"psysml:4553bbf6-343c-42bd-a219-72e0d50d2170\" xlink:type=\"simple\"><path d=\"M601,97.77 C601,112.15 601,131.32 601,148.54 \" fill=\"none\" id=\"E3-&gt;E2\" style=\"stroke: #A80036; stroke-width: 1.0;\"/><polygon fill=\"#FFFFFF\" points=\"601,168.8,594,149.8,608,149.8,601,168.8\" style=\"stroke: #A80036; stroke-width: 1.0;\"/><ellipse cx=\"596\" cy=\"144.1\" fill=\"#A80036\" rx=\"2\" ry=\"2\" style=\"stroke: #A80036; stroke-width: 1.0;\"/><ellipse cx=\"606\" cy=\"144.1\" fill=\"#A80036\" rx=\"2\" ry=\"2\" style=\"stroke: #A80036; stroke-width: 1.0;\"/></a><!--MD5=[17bf29720e4688890742b92d9a67fdf0]\n",
       "reverse link E14 to E15--><a href=\"psysml:cf81c84a-d20a-4a9d-8212-c3de89ec9ad0\" target=\"_top\" title=\"psysml:cf81c84a-d20a-4a9d-8212-c3de89ec9ad0\" xlink:actuate=\"onRequest\" xlink:href=\"psysml:cf81c84a-d20a-4a9d-8212-c3de89ec9ad0\" xlink:show=\"new\" xlink:title=\"psysml:cf81c84a-d20a-4a9d-8212-c3de89ec9ad0\" xlink:type=\"simple\"><path d=\"M116,110.99 C116,129.85 116,152.44 116,168.8 \" fill=\"none\" id=\"E14&lt;-E15\" style=\"stroke: #A80036; stroke-width: 1.0;\"/><polygon fill=\"#A80036\" points=\"116,97.77,112,103.77,116,109.77,120,103.77,116,97.77\" style=\"stroke: #A80036; stroke-width: 1.0;\"/></a><!--MD5=[1b01d5b954197aaf3899ca0bde35faf5]\n",
       "link E15 to E8--><a href=\"psysml:31ecf0da-b030-4520-be0f-3ece1376fb5f\" target=\"_top\" title=\"psysml:31ecf0da-b030-4520-be0f-3ece1376fb5f\" xlink:actuate=\"onRequest\" xlink:href=\"psysml:31ecf0da-b030-4520-be0f-3ece1376fb5f\" xlink:show=\"new\" xlink:title=\"psysml:31ecf0da-b030-4520-be0f-3ece1376fb5f\" xlink:type=\"simple\"><path d=\"M152.22,215.11 C166.86,224.19 183.85,234.93 199,245 C225.17,262.39 254.56,283.27 274.27,297.48 \" fill=\"none\" id=\"E15-&gt;E8\" style=\"stroke: #A80036; stroke-width: 1.0;\"/><polygon fill=\"#FFFFFF\" points=\"274.27,297.48,254.7641,292.0467,262.9515,280.6904,274.27,297.48\" style=\"stroke: #A80036; stroke-width: 1.0;\"/><ellipse cx=\"251.3101\" cy=\"287.0909\" fill=\"#A80036\" rx=\"2\" ry=\"2\" style=\"stroke: #A80036; stroke-width: 1.0;\"/><ellipse cx=\"257.1582\" cy=\"278.9793\" fill=\"#A80036\" rx=\"2\" ry=\"2\" style=\"stroke: #A80036; stroke-width: 1.0;\"/></a><!--MD5=[f8b155c46b092be73bb522b0a8fc72a2]\n",
       "link E15 to E16--><a href=\"psysml:aa3a7955-6ed3-447d-b0ee-a09ada8803a4\" target=\"_top\" title=\"psysml:aa3a7955-6ed3-447d-b0ee-a09ada8803a4\" xlink:actuate=\"onRequest\" xlink:href=\"psysml:aa3a7955-6ed3-447d-b0ee-a09ada8803a4\" xlink:show=\"new\" xlink:title=\"psysml:aa3a7955-6ed3-447d-b0ee-a09ada8803a4\" xlink:type=\"simple\"><path d=\"M116,215.19 C116,234.47 116,262.55 116,283.86 \" fill=\"none\" id=\"E15-&gt;E16\" style=\"stroke: #A80036; stroke-width: 1.0;\"/><polygon fill=\"#A80036\" points=\"116,291.95,119,283.95,113,283.95,116,291.95\" style=\"stroke: #A80036; stroke-width: 1.0;\"/><text fill=\"#000000\" font-family=\"sans-serif\" font-size=\"13\" lengthAdjust=\"spacingAndGlyphs\" textLength=\"73\" x=\"117\" y=\"258.0669\">«objective»</text><text fill=\"#000000\" font-family=\"sans-serif\" font-size=\"13\" lengthAdjust=\"spacingAndGlyphs\" textLength=\"8\" x=\"106.925\" y=\"280.8328\">1</text></a><!--MD5=[7b644b1a276ba086e7d916bec57f6122]\n",
       "@startuml\r\n",
       "skinparam wrapWidth 300\r\n",
       "hide circle\r\n",
       "\r\n",
       "package \"AnalysisTest\" as E1  [[psysml:f5546318-5597-445e-83af-957575abd1f7 ]]  {\r\n",
       "comp def \"V\" as E2  <<(T,blue) part def>> [[psysml:df856138-3406-4a6b-b583-20ed5eacc0cd ]] {\r\n",
       "}\r\n",
       "comp usage \"vv: V\" as E3  <<(T,blue) part>> [[psysml:a14948af-c637-432a-b299-badb5d3ced27 ]] {\r\n",
       "}\r\n",
       "comp def \"AnalysisObjective\" as E4  <<(T,blue) requirement def>> [[psysml:b06c710d-6070-489f-855d-95835f572a57 ]] {\r\n",
       "...\r\n",
       "- -\r\n",
       "}\r\n",
       "rec def \"AnalysisCase\" as E5 << analysis def>> [[psysml:e9833d01-8fa8-4820-af73-47d7be444de9 ]] {\r\n",
       "portin \"v\" as E6  [[psysml:fc36d359-2f0c-4a32-9d15-fff2be0a8869 ]] \r\n",
       "portout \"result\" as E7  [[psysml:7ffbe20f-c891-4b52-987b-0be8eb99b87a ]] \r\n",
       "}\r\n",
       "\r\n",
       "rec def \"AnalysisPlan\" as E8 << analysis def>> [[psysml:8a4520e8-ac51-4a2a-8007-cfc5f8084f42 ]] {\r\n",
       "portin \"v\" as E9  [[psysml:7635dc34-c4d2-4388-b045-3a6cac182eef ]] \r\n",
       "rec usage \"analysisCase\" as E10 << analysis>> [[psysml:ef775355-9069-4551-a021-5839d9673f3d ]] {\r\n",
       "portout \"mass\" as E11  [[psysml:56f340db-5793-4dc6-898e-9e0a5f90ef66 ]] \r\n",
       "portin \"v\" as E12  [[psysml:d8dc3b58-26c5-4e6e-82f3-a4f0880c0fd9 ]] \r\n",
       "}\r\n",
       "\r\n",
       "portout \"result\" as E13  [[psysml:55ba6aa8-4536-4622-ad3c-e7c6595a0034 ]] \r\n",
       "}\r\n",
       "\r\n",
       "comp usage \"analysisContext\" as E14  <<(T,blue) part>> [[psysml:e127547d-9ca6-4380-b459-796effe0b56f ]] {\r\n",
       "}\r\n",
       "comp usage \"analysisPlan: AnalysisPlan\" as E15 << analysis>> [[psysml:26b0c0e9-c7c6-4e19-b68b-97e4f04c11f8 ]] {\r\n",
       "}\r\n",
       "comp usage \"obj\" as E16  <<(T,blue) requirement>> [[psysml:a55f605c-cc05-4fcd-b9b1-1e930756e010 ]] {\r\n",
       "}\r\n",
       "}\r\n",
       "E3 - -:|> E2 [[psysml:4553bbf6-343c-42bd-a219-72e0d50d2170 ]] \r\n",
       "E14 *- - E15 [[psysml:cf81c84a-d20a-4a9d-8212-c3de89ec9ad0 ]] \r\n",
       "E15 - -:|> E8 [[psysml:31ecf0da-b030-4520-be0f-3ece1376fb5f ]] \r\n",
       "E15 - ->> \"1\"E16 [[psysml:aa3a7955-6ed3-447d-b0ee-a09ada8803a4 ]] : <<objective>>\r\n",
       "@enduml\r\n",
       "\n",
       "PlantUML version 1.2020.13(Sat Jun 13 12:26:38 UTC 2020)\n",
       "(EPL source distribution)\n",
       "Java Runtime: OpenJDK Runtime Environment\n",
       "JVM: OpenJDK 64-Bit Server VM\n",
       "Default Encoding: UTF-8\n",
       "Language: en\n",
       "Country: null\n",
       "--></g></svg>"
      ]
     },
     "execution_count": 23,
     "metadata": {},
     "output_type": "execute_result"
    }
   ],
   "source": [
    "%viz --style=\"STDCOLOR\" --view=\"Default\" \"AnalysisTest\""
   ]
  },
  {
   "cell_type": "code",
   "execution_count": 24,
   "id": "8c90d21b",
   "metadata": {
    "execution": {
     "iopub.execute_input": "2021-09-27T07:15:30.137541Z",
     "iopub.status.busy": "2021-09-27T07:15:30.137318Z",
     "iopub.status.idle": "2021-09-27T07:15:30.189513Z",
     "shell.execute_reply": "2021-09-27T07:15:30.187684Z"
    }
   },
   "outputs": [
    {
     "data": {
      "image/svg+xml": [
       "<?xml version=\"1.0\" encoding=\"UTF-8\" standalone=\"no\"?><svg xmlns=\"http://www.w3.org/2000/svg\" xmlns:xlink=\"http://www.w3.org/1999/xlink\" contentScriptType=\"application/ecmascript\" contentStyleType=\"text/css\" height=\"863px\" preserveAspectRatio=\"none\" style=\"width:412px;height:863px;\" version=\"1.1\" viewBox=\"0 0 412 863\" width=\"412px\" zoomAndPan=\"magnify\"><defs><filter height=\"300%\" id=\"f1878syicwg9uw\" width=\"300%\" x=\"-1\" y=\"-1\"><feGaussianBlur result=\"blurOut\" stdDeviation=\"2.0\"/><feColorMatrix in=\"blurOut\" result=\"blurOut2\" type=\"matrix\" values=\"0 0 0 0 0 0 0 0 0 0 0 0 0 0 0 0 0 0 .4 0\"/><feOffset dx=\"4.0\" dy=\"4.0\" in=\"blurOut2\" result=\"blurOut3\"/><feBlend in=\"SourceGraphic\" in2=\"blurOut3\" mode=\"normal\"/></filter></defs><g><!--MD5=[fbc87193dbaf4d95561dea2c320d4a47]\n",
       "cluster E1--><a href=\"psysml:f5546318-5597-445e-83af-957575abd1f7\" target=\"_top\" title=\"psysml:f5546318-5597-445e-83af-957575abd1f7\" xlink:actuate=\"onRequest\" xlink:href=\"psysml:f5546318-5597-445e-83af-957575abd1f7\" xlink:show=\"new\" xlink:title=\"psysml:f5546318-5597-445e-83af-957575abd1f7\" xlink:type=\"simple\"><polygon fill=\"#FFFFFF\" filter=\"url(#f1878syicwg9uw)\" points=\"16,6,108,6,115,28.2969,390,28.2969,390,851,16,851,16,6\" style=\"stroke: #000000; stroke-width: 1.5;\"/><line style=\"stroke: #000000; stroke-width: 1.5;\" x1=\"16\" x2=\"115\" y1=\"28.2969\" y2=\"28.2969\"/><text fill=\"#000000\" font-family=\"sans-serif\" font-size=\"14\" font-weight=\"bold\" lengthAdjust=\"spacingAndGlyphs\" textLength=\"86\" x=\"20\" y=\"20.9951\">AnalysisTest</text></a><!--MD5=[b4997ac47864f28c2f74865a473b2911]\n",
       "class E2--><a href=\"psysml:df856138-3406-4a6b-b583-20ed5eacc0cd\" target=\"_top\" title=\"psysml:df856138-3406-4a6b-b583-20ed5eacc0cd\" xlink:actuate=\"onRequest\" xlink:href=\"psysml:df856138-3406-4a6b-b583-20ed5eacc0cd\" xlink:show=\"new\" xlink:title=\"psysml:df856138-3406-4a6b-b583-20ed5eacc0cd\" xlink:type=\"simple\"><rect fill=\"#FEFECE\" filter=\"url(#f1878syicwg9uw)\" height=\"45.9375\" id=\"E2\" style=\"stroke: #A80036; stroke-width: 1.5;\" width=\"66\" x=\"121\" y=\"661\"/><text fill=\"#000000\" font-family=\"sans-serif\" font-size=\"12\" font-style=\"italic\" lengthAdjust=\"spacingAndGlyphs\" textLength=\"64\" x=\"122\" y=\"677.1387\">«part def»</text><text fill=\"#000000\" font-family=\"sans-serif\" font-size=\"12\" lengthAdjust=\"spacingAndGlyphs\" textLength=\"8\" x=\"150\" y=\"691.1074\">V</text><line style=\"stroke: #A80036; stroke-width: 1.5;\" x1=\"122\" x2=\"186\" y1=\"698.9375\" y2=\"698.9375\"/></a><!--MD5=[09b614a08d8cba4a07c9adeb5e0fee81]\n",
       "class E3--><a href=\"psysml:a14948af-c637-432a-b299-badb5d3ced27\" target=\"_top\" title=\"psysml:a14948af-c637-432a-b299-badb5d3ced27\" xlink:actuate=\"onRequest\" xlink:href=\"psysml:a14948af-c637-432a-b299-badb5d3ced27\" xlink:show=\"new\" xlink:title=\"psysml:a14948af-c637-432a-b299-badb5d3ced27\" xlink:type=\"simple\"><rect fill=\"#FEFECE\" filter=\"url(#f1878syicwg9uw)\" height=\"45.9375\" id=\"E3\" rx=\"10\" ry=\"10\" style=\"stroke: #A80036; stroke-width: 1.5;\" width=\"42\" x=\"207\" y=\"538\"/><text fill=\"#000000\" font-family=\"sans-serif\" font-size=\"12\" font-style=\"italic\" lengthAdjust=\"spacingAndGlyphs\" textLength=\"40\" x=\"208\" y=\"554.1387\">«part»</text><text fill=\"#000000\" font-family=\"sans-serif\" font-size=\"12\" lengthAdjust=\"spacingAndGlyphs\" textLength=\"28\" x=\"214\" y=\"568.1074\">vv: V</text><line style=\"stroke: #A80036; stroke-width: 1.5;\" x1=\"208\" x2=\"248\" y1=\"575.9375\" y2=\"575.9375\"/></a><!--MD5=[ebbe1d658d1005bcc118a6aa81145e00]\n",
       "class E4--><a href=\"psysml:b06c710d-6070-489f-855d-95835f572a57\" target=\"_top\" title=\"psysml:b06c710d-6070-489f-855d-95835f572a57\" xlink:actuate=\"onRequest\" xlink:href=\"psysml:b06c710d-6070-489f-855d-95835f572a57\" xlink:show=\"new\" xlink:title=\"psysml:b06c710d-6070-489f-855d-95835f572a57\" xlink:type=\"simple\"><rect fill=\"#FEFECE\" filter=\"url(#f1878syicwg9uw)\" height=\"66.7422\" id=\"E4\" style=\"stroke: #A80036; stroke-width: 1.5;\" width=\"117\" x=\"240.5\" y=\"768\"/><text fill=\"#000000\" font-family=\"sans-serif\" font-size=\"12\" font-style=\"italic\" lengthAdjust=\"spacingAndGlyphs\" textLength=\"115\" x=\"241.5\" y=\"784.1387\">«requirement def»</text><text fill=\"#000000\" font-family=\"sans-serif\" font-size=\"12\" lengthAdjust=\"spacingAndGlyphs\" textLength=\"107\" x=\"245.5\" y=\"798.1074\">AnalysisObjective</text><line style=\"stroke: #A80036; stroke-width: 1.5;\" x1=\"241.5\" x2=\"356.5\" y1=\"805.9375\" y2=\"805.9375\"/><text fill=\"#000000\" font-family=\"sans-serif\" font-size=\"11\" lengthAdjust=\"spacingAndGlyphs\" textLength=\"12\" x=\"246.5\" y=\"820.1479\">...</text><line style=\"stroke: #A80036; stroke-width: 1.0;\" x1=\"241.5\" x2=\"356.5\" y1=\"826.7422\" y2=\"826.7422\"/></a><!--MD5=[270fce915f116d4de14055a7c1d9a0f3]\n",
       "class E5--><a href=\"psysml:e9833d01-8fa8-4820-af73-47d7be444de9\" target=\"_top\" title=\"psysml:e9833d01-8fa8-4820-af73-47d7be444de9\" xlink:actuate=\"onRequest\" xlink:href=\"psysml:e9833d01-8fa8-4820-af73-47d7be444de9\" xlink:show=\"new\" xlink:title=\"psysml:e9833d01-8fa8-4820-af73-47d7be444de9\" xlink:type=\"simple\"><rect fill=\"#FEFECE\" filter=\"url(#f1878syicwg9uw)\" height=\"45.9375\" id=\"E5\" style=\"stroke: #A80036; stroke-width: 1.5;\" width=\"90\" x=\"284\" y=\"538\"/><text fill=\"#000000\" font-family=\"sans-serif\" font-size=\"12\" font-style=\"italic\" lengthAdjust=\"spacingAndGlyphs\" textLength=\"88\" x=\"285\" y=\"554.1387\">«analysis def»</text><text fill=\"#000000\" font-family=\"sans-serif\" font-size=\"12\" lengthAdjust=\"spacingAndGlyphs\" textLength=\"81\" x=\"288.5\" y=\"568.1074\">AnalysisCase</text><line style=\"stroke: #A80036; stroke-width: 1.5;\" x1=\"285\" x2=\"373\" y1=\"575.9375\" y2=\"575.9375\"/></a><!--MD5=[60a26617385b1d2d0262a64233df1f8d]\n",
       "class E6--><a href=\"psysml:5d02fb37-4730-4ed2-b0a0-8fa990128639\" target=\"_top\" title=\"psysml:5d02fb37-4730-4ed2-b0a0-8fa990128639\" xlink:actuate=\"onRequest\" xlink:href=\"psysml:5d02fb37-4730-4ed2-b0a0-8fa990128639\" xlink:show=\"new\" xlink:title=\"psysml:5d02fb37-4730-4ed2-b0a0-8fa990128639\" xlink:type=\"simple\"><rect fill=\"#FEFECE\" filter=\"url(#f1878syicwg9uw)\" height=\"45.9375\" id=\"E6\" rx=\"10\" ry=\"10\" style=\"stroke: #A80036; stroke-width: 1.5;\" width=\"140\" x=\"229\" y=\"661\"/><text fill=\"#000000\" font-family=\"sans-serif\" font-size=\"12\" font-style=\"italic\" lengthAdjust=\"spacingAndGlyphs\" textLength=\"91\" x=\"253.5\" y=\"677.1387\">«requirement»</text><text fill=\"#000000\" font-family=\"sans-serif\" font-size=\"12\" lengthAdjust=\"spacingAndGlyphs\" textLength=\"134\" x=\"232\" y=\"691.1074\">obj: AnalysisObjective</text><line style=\"stroke: #A80036; stroke-width: 1.5;\" x1=\"230\" x2=\"368\" y1=\"698.9375\" y2=\"698.9375\"/></a><!--MD5=[2156ba9850f5573cc1fc38a6a4b2f02b]\n",
       "class E7--><a href=\"psysml:8a4520e8-ac51-4a2a-8007-cfc5f8084f42\" target=\"_top\" title=\"psysml:8a4520e8-ac51-4a2a-8007-cfc5f8084f42\" xlink:actuate=\"onRequest\" xlink:href=\"psysml:8a4520e8-ac51-4a2a-8007-cfc5f8084f42\" xlink:show=\"new\" xlink:title=\"psysml:8a4520e8-ac51-4a2a-8007-cfc5f8084f42\" xlink:type=\"simple\"><rect fill=\"#FEFECE\" filter=\"url(#f1878syicwg9uw)\" height=\"45.9375\" id=\"E7\" style=\"stroke: #A80036; stroke-width: 1.5;\" width=\"90\" x=\"71\" y=\"271\"/><text fill=\"#000000\" font-family=\"sans-serif\" font-size=\"12\" font-style=\"italic\" lengthAdjust=\"spacingAndGlyphs\" textLength=\"88\" x=\"72\" y=\"287.1387\">«analysis def»</text><text fill=\"#000000\" font-family=\"sans-serif\" font-size=\"12\" lengthAdjust=\"spacingAndGlyphs\" textLength=\"77\" x=\"77.5\" y=\"301.1074\">AnalysisPlan</text><line style=\"stroke: #A80036; stroke-width: 1.5;\" x1=\"72\" x2=\"160\" y1=\"308.9375\" y2=\"308.9375\"/></a><!--MD5=[b9389687b975829384b498ac4b7476b2]\n",
       "class E8--><a href=\"psysml:c9e778b5-528f-48e8-8904-91782dcf8fb6\" target=\"_top\" title=\"psysml:c9e778b5-528f-48e8-8904-91782dcf8fb6\" xlink:actuate=\"onRequest\" xlink:href=\"psysml:c9e778b5-528f-48e8-8904-91782dcf8fb6\" xlink:show=\"new\" xlink:title=\"psysml:c9e778b5-528f-48e8-8904-91782dcf8fb6\" xlink:type=\"simple\"><rect fill=\"#FEFECE\" filter=\"url(#f1878syicwg9uw)\" height=\"66.7422\" id=\"E8\" rx=\"10\" ry=\"10\" style=\"stroke: #A80036; stroke-width: 1.5;\" width=\"93\" x=\"69.5\" y=\"394\"/><text fill=\"#000000\" font-family=\"sans-serif\" font-size=\"12\" font-style=\"italic\" lengthAdjust=\"spacingAndGlyphs\" textLength=\"91\" x=\"70.5\" y=\"410.1387\">«requirement»</text><text fill=\"#000000\" font-family=\"sans-serif\" font-size=\"12\" lengthAdjust=\"spacingAndGlyphs\" textLength=\"19\" x=\"106.5\" y=\"424.1074\">obj</text><line style=\"stroke: #A80036; stroke-width: 1.5;\" x1=\"70.5\" x2=\"161.5\" y1=\"431.9375\" y2=\"431.9375\"/><text fill=\"#000000\" font-family=\"sans-serif\" font-size=\"11\" lengthAdjust=\"spacingAndGlyphs\" textLength=\"12\" x=\"75.5\" y=\"446.1479\">...</text><line style=\"stroke: #A80036; stroke-width: 1.0;\" x1=\"70.5\" x2=\"161.5\" y1=\"452.7422\" y2=\"452.7422\"/></a><!--MD5=[fd4143e9d270a159db93a4ea2a975926]\n",
       "class E9--><a href=\"psysml:ef775355-9069-4551-a021-5839d9673f3d\" target=\"_top\" title=\"psysml:ef775355-9069-4551-a021-5839d9673f3d\" xlink:actuate=\"onRequest\" xlink:href=\"psysml:ef775355-9069-4551-a021-5839d9673f3d\" xlink:show=\"new\" xlink:title=\"psysml:ef775355-9069-4551-a021-5839d9673f3d\" xlink:type=\"simple\"><rect fill=\"#FEFECE\" filter=\"url(#f1878syicwg9uw)\" height=\"45.9375\" id=\"E9\" rx=\"10\" ry=\"10\" style=\"stroke: #A80036; stroke-width: 1.5;\" width=\"176\" x=\"198\" y=\"404.5\"/><text fill=\"#000000\" font-family=\"sans-serif\" font-size=\"12\" font-style=\"italic\" lengthAdjust=\"spacingAndGlyphs\" textLength=\"64\" x=\"254\" y=\"420.6387\">«analysis»</text><text fill=\"#000000\" font-family=\"sans-serif\" font-size=\"12\" lengthAdjust=\"spacingAndGlyphs\" textLength=\"170\" x=\"201\" y=\"434.6074\">analysisCase: AnalysisCase</text><line style=\"stroke: #A80036; stroke-width: 1.5;\" x1=\"199\" x2=\"373\" y1=\"442.4375\" y2=\"442.4375\"/></a><!--MD5=[96f4274e9e20536e775497830990834d]\n",
       "class E10--><a href=\"psysml:37fc8968-437f-41f6-96b6-577444b5c586\" target=\"_top\" title=\"psysml:37fc8968-437f-41f6-96b6-577444b5c586\" xlink:actuate=\"onRequest\" xlink:href=\"psysml:37fc8968-437f-41f6-96b6-577444b5c586\" xlink:show=\"new\" xlink:title=\"psysml:37fc8968-437f-41f6-96b6-577444b5c586\" xlink:type=\"simple\"><rect fill=\"#FEFECE\" filter=\"url(#f1878syicwg9uw)\" height=\"45.9375\" id=\"E10\" rx=\"10\" ry=\"10\" style=\"stroke: #A80036; stroke-width: 1.5;\" width=\"93\" x=\"78.5\" y=\"538\"/><text fill=\"#000000\" font-family=\"sans-serif\" font-size=\"12\" font-style=\"italic\" lengthAdjust=\"spacingAndGlyphs\" textLength=\"91\" x=\"79.5\" y=\"554.1387\">«requirement»</text><text fill=\"#000000\" font-family=\"sans-serif\" font-size=\"12\" lengthAdjust=\"spacingAndGlyphs\" textLength=\"19\" x=\"115.5\" y=\"568.1074\">obj</text><line style=\"stroke: #A80036; stroke-width: 1.5;\" x1=\"79.5\" x2=\"170.5\" y1=\"575.9375\" y2=\"575.9375\"/></a><!--MD5=[1dd1bfd58a279cf63c5f349dbc8fc6a1]\n",
       "class E11--><a href=\"psysml:e127547d-9ca6-4380-b459-796effe0b56f\" target=\"_top\" title=\"psysml:e127547d-9ca6-4380-b459-796effe0b56f\" xlink:actuate=\"onRequest\" xlink:href=\"psysml:e127547d-9ca6-4380-b459-796effe0b56f\" xlink:show=\"new\" xlink:title=\"psysml:e127547d-9ca6-4380-b459-796effe0b56f\" xlink:type=\"simple\"><rect fill=\"#FEFECE\" filter=\"url(#f1878syicwg9uw)\" height=\"45.9375\" id=\"E11\" rx=\"10\" ry=\"10\" style=\"stroke: #A80036; stroke-width: 1.5;\" width=\"104\" x=\"84\" y=\"41\"/><text fill=\"#000000\" font-family=\"sans-serif\" font-size=\"12\" font-style=\"italic\" lengthAdjust=\"spacingAndGlyphs\" textLength=\"40\" x=\"116\" y=\"57.1387\">«part»</text><text fill=\"#000000\" font-family=\"sans-serif\" font-size=\"12\" lengthAdjust=\"spacingAndGlyphs\" textLength=\"98\" x=\"87\" y=\"71.1074\">analysisContext</text><line style=\"stroke: #A80036; stroke-width: 1.5;\" x1=\"85\" x2=\"187\" y1=\"78.9375\" y2=\"78.9375\"/></a><!--MD5=[49a0ec8f00dab7302a31f22d0f0fe584]\n",
       "class E12--><a href=\"psysml:26b0c0e9-c7c6-4e19-b68b-97e4f04c11f8\" target=\"_top\" title=\"psysml:26b0c0e9-c7c6-4e19-b68b-97e4f04c11f8\" xlink:actuate=\"onRequest\" xlink:href=\"psysml:26b0c0e9-c7c6-4e19-b68b-97e4f04c11f8\" xlink:show=\"new\" xlink:title=\"psysml:26b0c0e9-c7c6-4e19-b68b-97e4f04c11f8\" xlink:type=\"simple\"><rect fill=\"#FEFECE\" filter=\"url(#f1878syicwg9uw)\" height=\"45.9375\" id=\"E12\" rx=\"10\" ry=\"10\" style=\"stroke: #A80036; stroke-width: 1.5;\" width=\"168\" x=\"52\" y=\"148\"/><text fill=\"#000000\" font-family=\"sans-serif\" font-size=\"12\" font-style=\"italic\" lengthAdjust=\"spacingAndGlyphs\" textLength=\"64\" x=\"104\" y=\"164.1387\">«analysis»</text><text fill=\"#000000\" font-family=\"sans-serif\" font-size=\"12\" lengthAdjust=\"spacingAndGlyphs\" textLength=\"162\" x=\"55\" y=\"178.1074\">analysisPlan: AnalysisPlan</text><line style=\"stroke: #A80036; stroke-width: 1.5;\" x1=\"53\" x2=\"219\" y1=\"185.9375\" y2=\"185.9375\"/></a><!--MD5=[ee3c913d1a06f366521f9ef512b67efe]\n",
       "class E13--><a href=\"psysml:a55f605c-cc05-4fcd-b9b1-1e930756e010\" target=\"_top\" title=\"psysml:a55f605c-cc05-4fcd-b9b1-1e930756e010\" xlink:actuate=\"onRequest\" xlink:href=\"psysml:a55f605c-cc05-4fcd-b9b1-1e930756e010\" xlink:show=\"new\" xlink:title=\"psysml:a55f605c-cc05-4fcd-b9b1-1e930756e010\" xlink:type=\"simple\"><rect fill=\"#FEFECE\" filter=\"url(#f1878syicwg9uw)\" height=\"45.9375\" id=\"E13\" rx=\"10\" ry=\"10\" style=\"stroke: #A80036; stroke-width: 1.5;\" width=\"93\" x=\"196.5\" y=\"271\"/><text fill=\"#000000\" font-family=\"sans-serif\" font-size=\"12\" font-style=\"italic\" lengthAdjust=\"spacingAndGlyphs\" textLength=\"91\" x=\"197.5\" y=\"287.1387\">«requirement»</text><text fill=\"#000000\" font-family=\"sans-serif\" font-size=\"12\" lengthAdjust=\"spacingAndGlyphs\" textLength=\"19\" x=\"233.5\" y=\"301.1074\">obj</text><line style=\"stroke: #A80036; stroke-width: 1.5;\" x1=\"197.5\" x2=\"288.5\" y1=\"308.9375\" y2=\"308.9375\"/></a><!--MD5=[05d275557350bfb9b23a4ef7222b4c39]\n",
       "link E3 to E2--><a href=\"psysml:4553bbf6-343c-42bd-a219-72e0d50d2170\" target=\"_top\" title=\"psysml:4553bbf6-343c-42bd-a219-72e0d50d2170\" xlink:actuate=\"onRequest\" xlink:href=\"psysml:4553bbf6-343c-42bd-a219-72e0d50d2170\" xlink:show=\"new\" xlink:title=\"psysml:4553bbf6-343c-42bd-a219-72e0d50d2170\" xlink:type=\"simple\"><path d=\"M206.85,575.13 C188.68,586.88 164.56,603.79 159,614 C154.64,622.01 152.42,631.34 151.47,640.5 \" fill=\"none\" id=\"E3-&gt;E2\" style=\"stroke: #A80036; stroke-width: 1.0;\"/><polygon fill=\"#FFFFFF\" points=\"151.1,660.87,144.4403,641.748,158.4381,641.998,151.1,660.87\" style=\"stroke: #A80036; stroke-width: 1.0;\"/><ellipse cx=\"146.5418\" cy=\"636.0847\" fill=\"#A80036\" rx=\"2\" ry=\"2\" style=\"stroke: #A80036; stroke-width: 1.0;\"/><ellipse cx=\"156.5402\" cy=\"636.2632\" fill=\"#A80036\" rx=\"2\" ry=\"2\" style=\"stroke: #A80036; stroke-width: 1.0;\"/></a><!--MD5=[15ebcb19ae302d9b601edb458606d402]\n",
       "link E5 to E2--><a href=\"psysml:55d14872-2cf4-45ef-b86e-776491343885\" target=\"_top\" title=\"psysml:55d14872-2cf4-45ef-b86e-776491343885\" xlink:actuate=\"onRequest\" xlink:href=\"psysml:55d14872-2cf4-45ef-b86e-776491343885\" xlink:show=\"new\" xlink:title=\"psysml:55d14872-2cf4-45ef-b86e-776491343885\" xlink:type=\"simple\"><path d=\"M288.35,584.07 C272.9,592.89 255.33,603.45 240,614 C220.52,627.4 199.81,643.93 183.6,657.46 \" fill=\"none\" id=\"E5-&gt;E2\" style=\"stroke: #A80036; stroke-width: 1.0; stroke-dasharray: 7.0,7.0;\"/><polygon fill=\"#A80036\" points=\"179.58,660.83,189.0498,658.1239,183.4153,657.6221,183.9171,651.9875,179.58,660.83\" style=\"stroke: #A80036; stroke-width: 1.0;\"/><text fill=\"#000000\" font-family=\"sans-serif\" font-size=\"13\" lengthAdjust=\"spacingAndGlyphs\" textLength=\"62\" x=\"241\" y=\"627.0669\">«subject»</text></a><!--MD5=[9120cf2e5df3bff93db8f754bbbc09b4]\n",
       "link E5 to E6--><a href=\"psysml:66eb83d5-c5e2-4f23-b460-3cc53e216041\" target=\"_top\" title=\"psysml:66eb83d5-c5e2-4f23-b460-3cc53e216041\" xlink:actuate=\"onRequest\" xlink:href=\"psysml:66eb83d5-c5e2-4f23-b460-3cc53e216041\" xlink:show=\"new\" xlink:title=\"psysml:66eb83d5-c5e2-4f23-b460-3cc53e216041\" xlink:type=\"simple\"><path d=\"M323.5,584.19 C318.7,603.55 311.69,631.8 306.4,653.14 \" fill=\"none\" id=\"E5-&gt;E6\" style=\"stroke: #A80036; stroke-width: 1.0;\"/><polygon fill=\"#A80036\" points=\"304.47,660.95,309.3116,653.9102,303.4888,652.4625,304.47,660.95\" style=\"stroke: #A80036; stroke-width: 1.0;\"/><text fill=\"#000000\" font-family=\"sans-serif\" font-size=\"13\" lengthAdjust=\"spacingAndGlyphs\" textLength=\"73\" x=\"316\" y=\"627.0669\">«objective»</text></a><!--MD5=[f667431f98296947986a1a7595a31603]\n",
       "link E6 to E4--><a href=\"psysml:35160ff3-34f1-44b9-93fc-42f4fb412225\" target=\"_top\" title=\"psysml:35160ff3-34f1-44b9-93fc-42f4fb412225\" xlink:actuate=\"onRequest\" xlink:href=\"psysml:35160ff3-34f1-44b9-93fc-42f4fb412225\" xlink:show=\"new\" xlink:title=\"psysml:35160ff3-34f1-44b9-93fc-42f4fb412225\" xlink:type=\"simple\"><path d=\"M299,707.27 C299,718.81 299,733.43 299,747.66 \" fill=\"none\" id=\"E6-&gt;E4\" style=\"stroke: #A80036; stroke-width: 1.0;\"/><polygon fill=\"#FFFFFF\" points=\"299,767.81,292,748.81,306,748.81,299,767.81\" style=\"stroke: #A80036; stroke-width: 1.0;\"/><ellipse cx=\"294\" cy=\"743.11\" fill=\"#A80036\" rx=\"2\" ry=\"2\" style=\"stroke: #A80036; stroke-width: 1.0;\"/><ellipse cx=\"304\" cy=\"743.11\" fill=\"#A80036\" rx=\"2\" ry=\"2\" style=\"stroke: #A80036; stroke-width: 1.0;\"/></a><!--MD5=[583832df87f4419a098336a29a52fa00]\n",
       "link E7 to E2--><a href=\"psysml:6c24e69d-02cf-4e90-8710-eea2d3fb6e80\" target=\"_top\" title=\"psysml:6c24e69d-02cf-4e90-8710-eea2d3fb6e80\" xlink:actuate=\"onRequest\" xlink:href=\"psysml:6c24e69d-02cf-4e90-8710-eea2d3fb6e80\" xlink:show=\"new\" xlink:title=\"psysml:6c24e69d-02cf-4e90-8710-eea2d3fb6e80\" xlink:type=\"simple\"><path d=\"M96.33,317.1 C80.9,336.01 60.63,364.75 52,394 C42.04,427.76 56.83,574.51 61,584 C73.94,613.48 99.52,639.67 120.58,657.69 \" fill=\"none\" id=\"E7-&gt;E2\" style=\"stroke: #A80036; stroke-width: 1.0; stroke-dasharray: 7.0,7.0;\"/><polygon fill=\"#A80036\" points=\"124.46,660.96,120.1584,652.1002,120.6377,657.7367,115.0011,658.2159,124.46,660.96\" style=\"stroke: #A80036; stroke-width: 1.0;\"/><text fill=\"#000000\" font-family=\"sans-serif\" font-size=\"13\" lengthAdjust=\"spacingAndGlyphs\" textLength=\"62\" x=\"52\" y=\"504.0669\">«subject»</text></a><!--MD5=[79bc8f324ef4d02c541433f2e6e513c3]\n",
       "link E7 to E8--><a href=\"psysml:5f63fe39-bd01-4e2f-b177-a256ca3547ed\" target=\"_top\" title=\"psysml:5f63fe39-bd01-4e2f-b177-a256ca3547ed\" xlink:actuate=\"onRequest\" xlink:href=\"psysml:5f63fe39-bd01-4e2f-b177-a256ca3547ed\" xlink:show=\"new\" xlink:title=\"psysml:5f63fe39-bd01-4e2f-b177-a256ca3547ed\" xlink:type=\"simple\"><path d=\"M116,317.01 C116,335.7 116,363.02 116,385.69 \" fill=\"none\" id=\"E7-&gt;E8\" style=\"stroke: #A80036; stroke-width: 1.0;\"/><polygon fill=\"#A80036\" points=\"116,393.81,119,385.81,113,385.81,116,393.81\" style=\"stroke: #A80036; stroke-width: 1.0;\"/><text fill=\"#000000\" font-family=\"sans-serif\" font-size=\"13\" lengthAdjust=\"spacingAndGlyphs\" textLength=\"73\" x=\"117\" y=\"360.0669\">«objective»</text><text fill=\"#000000\" font-family=\"sans-serif\" font-size=\"13\" lengthAdjust=\"spacingAndGlyphs\" textLength=\"8\" x=\"107.2125\" y=\"382.8061\">1</text></a><!--MD5=[e4a10ef82d0e328e31cac39a31e58dda]\n",
       "reverse link E7 to E9--><a href=\"psysml:0539f402-c799-478a-a763-36444c838111\" target=\"_top\" title=\"psysml:0539f402-c799-478a-a763-36444c838111\" xlink:actuate=\"onRequest\" xlink:href=\"psysml:0539f402-c799-478a-a763-36444c838111\" xlink:show=\"new\" xlink:title=\"psysml:0539f402-c799-478a-a763-36444c838111\" xlink:type=\"simple\"><path d=\"M165.94,324.25 C177.08,331.33 188.65,339.13 199,347 C222.45,364.83 247.05,387.76 264.08,404.4 \" fill=\"none\" id=\"E7&lt;-E9\" style=\"stroke: #A80036; stroke-width: 1.0;\"/><polygon fill=\"#A80036\" points=\"154.56,317.16,157.541,323.7261,164.7485,323.4998,161.7676,316.9337,154.56,317.16\" style=\"stroke: #A80036; stroke-width: 1.0;\"/></a><!--MD5=[bfc3ddf2e613be37104f658f09af896c]\n",
       "link E9 to E5--><a href=\"psysml:5fa585d6-e8aa-4013-b88d-119f555331de\" target=\"_top\" title=\"psysml:5fa585d6-e8aa-4013-b88d-119f555331de\" xlink:actuate=\"onRequest\" xlink:href=\"psysml:5fa585d6-e8aa-4013-b88d-119f555331de\" xlink:show=\"new\" xlink:title=\"psysml:5fa585d6-e8aa-4013-b88d-119f555331de\" xlink:type=\"simple\"><path d=\"M293.2,450.51 C299.27,469.1 308.14,496.21 315.53,518.81 \" fill=\"none\" id=\"E9-&gt;E5\" style=\"stroke: #A80036; stroke-width: 1.0;\"/><polygon fill=\"#FFFFFF\" points=\"321.78,537.92,309.2239,522.0346,322.5313,517.6855,321.78,537.92\" style=\"stroke: #A80036; stroke-width: 1.0;\"/><ellipse cx=\"309.3543\" cy=\"515.9953\" fill=\"#A80036\" rx=\"2\" ry=\"2\" style=\"stroke: #A80036; stroke-width: 1.0;\"/><ellipse cx=\"318.8595\" cy=\"512.8888\" fill=\"#A80036\" rx=\"2\" ry=\"2\" style=\"stroke: #A80036; stroke-width: 1.0;\"/></a><!--MD5=[35e5f1cbde42fa304a029880aa2bc7f2]\n",
       "link E9 to E10--><a href=\"psysml:7fa56b0a-037d-44be-9e3a-456886c00dd1\" target=\"_top\" title=\"psysml:7fa56b0a-037d-44be-9e3a-456886c00dd1\" xlink:actuate=\"onRequest\" xlink:href=\"psysml:7fa56b0a-037d-44be-9e3a-456886c00dd1\" xlink:show=\"new\" xlink:title=\"psysml:7fa56b0a-037d-44be-9e3a-456886c00dd1\" xlink:type=\"simple\"><path d=\"M259.05,450.51 C231.42,473.08 188.39,508.23 158.56,532.59 \" fill=\"none\" id=\"E9-&gt;E10\" style=\"stroke: #A80036; stroke-width: 1.0;\"/><polygon fill=\"#A80036\" points=\"152.04,537.92,160.1355,535.1882,156.3431,530.5387,152.04,537.92\" style=\"stroke: #A80036; stroke-width: 1.0;\"/><text fill=\"#000000\" font-family=\"sans-serif\" font-size=\"13\" lengthAdjust=\"spacingAndGlyphs\" textLength=\"73\" x=\"206\" y=\"504.0669\">«objective»</text></a><!--MD5=[94adabc162ce7e41b39f13be14fbaeb3]\n",
       "reverse link E11 to E12--><a href=\"psysml:cf81c84a-d20a-4a9d-8212-c3de89ec9ad0\" target=\"_top\" title=\"psysml:cf81c84a-d20a-4a9d-8212-c3de89ec9ad0\" xlink:actuate=\"onRequest\" xlink:href=\"psysml:cf81c84a-d20a-4a9d-8212-c3de89ec9ad0\" xlink:show=\"new\" xlink:title=\"psysml:cf81c84a-d20a-4a9d-8212-c3de89ec9ad0\" xlink:type=\"simple\"><path d=\"M136,100.05 C136,115.76 136,133.82 136,147.66 \" fill=\"none\" id=\"E11&lt;-E12\" style=\"stroke: #A80036; stroke-width: 1.0;\"/><polygon fill=\"#A80036\" points=\"136,87.01,132,93.01,136,99.01,140,93.01,136,87.01\" style=\"stroke: #A80036; stroke-width: 1.0;\"/></a><!--MD5=[ae660f5ecd7ddb04a8913625960940af]\n",
       "link E12 to E7--><a href=\"psysml:31ecf0da-b030-4520-be0f-3ece1376fb5f\" target=\"_top\" title=\"psysml:31ecf0da-b030-4520-be0f-3ece1376fb5f\" xlink:actuate=\"onRequest\" xlink:href=\"psysml:31ecf0da-b030-4520-be0f-3ece1376fb5f\" xlink:show=\"new\" xlink:title=\"psysml:31ecf0da-b030-4520-be0f-3ece1376fb5f\" xlink:type=\"simple\"><path d=\"M132.33,194.19 C129.71,210.06 126.1,231.89 122.94,250.99 \" fill=\"none\" id=\"E12-&gt;E7\" style=\"stroke: #A80036; stroke-width: 1.0;\"/><polygon fill=\"#FFFFFF\" points=\"119.65,270.95,115.8525,251.0608,129.6639,253.3511,119.65,270.95\" style=\"stroke: #A80036; stroke-width: 1.0;\"/><ellipse cx=\"118.758\" cy=\"245.7648\" fill=\"#A80036\" rx=\"2\" ry=\"2\" style=\"stroke: #A80036; stroke-width: 1.0;\"/><ellipse cx=\"128.6233\" cy=\"247.4007\" fill=\"#A80036\" rx=\"2\" ry=\"2\" style=\"stroke: #A80036; stroke-width: 1.0;\"/></a><!--MD5=[e2a9ac97dcd3257bb5342dae06547bad]\n",
       "link E12 to E13--><a href=\"psysml:aa3a7955-6ed3-447d-b0ee-a09ada8803a4\" target=\"_top\" title=\"psysml:aa3a7955-6ed3-447d-b0ee-a09ada8803a4\" xlink:actuate=\"onRequest\" xlink:href=\"psysml:aa3a7955-6ed3-447d-b0ee-a09ada8803a4\" xlink:show=\"new\" xlink:title=\"psysml:aa3a7955-6ed3-447d-b0ee-a09ada8803a4\" xlink:type=\"simple\"><path d=\"M155.63,194.19 C173.2,214.06 199.05,243.3 218.08,264.82 \" fill=\"none\" id=\"E12-&gt;E13\" style=\"stroke: #A80036; stroke-width: 1.0;\"/><polygon fill=\"#A80036\" points=\"223.5,270.95,220.4521,262.9681,215.9553,266.9403,223.5,270.95\" style=\"stroke: #A80036; stroke-width: 1.0;\"/><text fill=\"#000000\" font-family=\"sans-serif\" font-size=\"13\" lengthAdjust=\"spacingAndGlyphs\" textLength=\"73\" x=\"196\" y=\"237.0669\">«objective»</text><text fill=\"#000000\" font-family=\"sans-serif\" font-size=\"13\" lengthAdjust=\"spacingAndGlyphs\" textLength=\"8\" x=\"209.1844\" y=\"259.8328\">1</text></a><!--MD5=[168fbb66129b5557034b1ae8ae1d51b0]\n",
       "@startuml\r\n",
       "skinparam wrapWidth 300\r\n",
       "hide circle\r\n",
       "\r\n",
       "package \"AnalysisTest\" as E1  [[psysml:f5546318-5597-445e-83af-957575abd1f7 ]]  {\r\n",
       "comp def \"V\" as E2  <<(T,blue) part def>> [[psysml:df856138-3406-4a6b-b583-20ed5eacc0cd ]] {\r\n",
       "}\r\n",
       "comp usage \"vv: V\" as E3  <<(T,blue) part>> [[psysml:a14948af-c637-432a-b299-badb5d3ced27 ]] {\r\n",
       "}\r\n",
       "comp def \"AnalysisObjective\" as E4  <<(T,blue) requirement def>> [[psysml:b06c710d-6070-489f-855d-95835f572a57 ]] {\r\n",
       "...\r\n",
       "- -\r\n",
       "}\r\n",
       "comp def \"AnalysisCase\" as E5 << analysis def>> [[psysml:e9833d01-8fa8-4820-af73-47d7be444de9 ]] {\r\n",
       "}\r\n",
       "comp usage \"obj: AnalysisObjective\" as E6  <<(T,blue) requirement>> [[psysml:5d02fb37-4730-4ed2-b0a0-8fa990128639 ]] {\r\n",
       "}\r\n",
       "comp def \"AnalysisPlan\" as E7 << analysis def>> [[psysml:8a4520e8-ac51-4a2a-8007-cfc5f8084f42 ]] {\r\n",
       "}\r\n",
       "comp usage \"obj\" as E8  <<(T,blue) requirement>> [[psysml:c9e778b5-528f-48e8-8904-91782dcf8fb6 ]] {\r\n",
       "...\r\n",
       "- -\r\n",
       "}\r\n",
       "comp usage \"analysisCase: AnalysisCase\" as E9 << analysis>> [[psysml:ef775355-9069-4551-a021-5839d9673f3d ]] {\r\n",
       "}\r\n",
       "comp usage \"obj\" as E10  <<(T,blue) requirement>> [[psysml:37fc8968-437f-41f6-96b6-577444b5c586 ]] {\r\n",
       "}\r\n",
       "comp usage \"analysisContext\" as E11  <<(T,blue) part>> [[psysml:e127547d-9ca6-4380-b459-796effe0b56f ]] {\r\n",
       "}\r\n",
       "comp usage \"analysisPlan: AnalysisPlan\" as E12 << analysis>> [[psysml:26b0c0e9-c7c6-4e19-b68b-97e4f04c11f8 ]] {\r\n",
       "}\r\n",
       "comp usage \"obj\" as E13  <<(T,blue) requirement>> [[psysml:a55f605c-cc05-4fcd-b9b1-1e930756e010 ]] {\r\n",
       "}\r\n",
       "}\r\n",
       "E3 - -:|> E2 [[psysml:4553bbf6-343c-42bd-a219-72e0d50d2170 ]] \r\n",
       "E5 ..> E2 [[psysml:55d14872-2cf4-45ef-b86e-776491343885 ]] : <<subject>>\r\n",
       "E5 - ->> E6 [[psysml:66eb83d5-c5e2-4f23-b460-3cc53e216041 ]] : <<objective>>\r\n",
       "E6 - -:|> E4 [[psysml:35160ff3-34f1-44b9-93fc-42f4fb412225 ]] \r\n",
       "E7 ..> E2 [[psysml:6c24e69d-02cf-4e90-8710-eea2d3fb6e80 ]] : <<subject>>\r\n",
       "E7 - ->> \"1\"E8 [[psysml:5f63fe39-bd01-4e2f-b177-a256ca3547ed ]] : <<objective>>\r\n",
       "E7 *- - E9 [[psysml:0539f402-c799-478a-a763-36444c838111 ]] \r\n",
       "E9 - -:|> E5 [[psysml:5fa585d6-e8aa-4013-b88d-119f555331de ]] \r\n",
       "E9 - ->> E10 [[psysml:7fa56b0a-037d-44be-9e3a-456886c00dd1 ]] : <<objective>>\r\n",
       "E11 *- - E12 [[psysml:cf81c84a-d20a-4a9d-8212-c3de89ec9ad0 ]] \r\n",
       "E12 - -:|> E7 [[psysml:31ecf0da-b030-4520-be0f-3ece1376fb5f ]] \r\n",
       "E12 - ->> \"1\"E13 [[psysml:aa3a7955-6ed3-447d-b0ee-a09ada8803a4 ]] : <<objective>>\r\n",
       "@enduml\r\n",
       "\n",
       "PlantUML version 1.2020.13(Sat Jun 13 12:26:38 UTC 2020)\n",
       "(EPL source distribution)\n",
       "Java Runtime: OpenJDK Runtime Environment\n",
       "JVM: OpenJDK 64-Bit Server VM\n",
       "Default Encoding: UTF-8\n",
       "Language: en\n",
       "Country: null\n",
       "--></g></svg>"
      ]
     },
     "execution_count": 24,
     "metadata": {},
     "output_type": "execute_result"
    }
   ],
   "source": [
    "%viz --style=\"STDCOLOR\" --view=\"Tree\" \"AnalysisTest\""
   ]
  },
  {
   "cell_type": "code",
   "execution_count": 25,
   "id": "69e1b537",
   "metadata": {
    "execution": {
     "iopub.execute_input": "2021-09-27T07:15:30.238298Z",
     "iopub.status.busy": "2021-09-27T07:15:30.237833Z",
     "iopub.status.idle": "2021-09-27T07:15:30.242891Z",
     "shell.execute_reply": "2021-09-27T07:15:30.242388Z"
    }
   },
   "outputs": [
    {
     "data": {
      "image/svg+xml": [
       "<?xml version=\"1.0\" encoding=\"UTF-8\" standalone=\"no\"?><svg xmlns=\"http://www.w3.org/2000/svg\" xmlns:xlink=\"http://www.w3.org/1999/xlink\" contentScriptType=\"application/ecmascript\" contentStyleType=\"text/css\" height=\"12px\" preserveAspectRatio=\"none\" style=\"width:12px;height:12px;\" version=\"1.1\" viewBox=\"0 0 12 12\" width=\"12px\" zoomAndPan=\"magnify\"><defs/><g><!--MD5=[aeeef50f102b80d730deb6443d14f702]\n",
       "@startuml\r\n",
       "skinparam wrapWidth 300\r\n",
       "hide circle\r\n",
       "\r\n",
       "@enduml\r\n",
       "\n",
       "PlantUML version 1.2020.13(Sat Jun 13 12:26:38 UTC 2020)\n",
       "(EPL source distribution)\n",
       "Java Runtime: OpenJDK Runtime Environment\n",
       "JVM: OpenJDK 64-Bit Server VM\n",
       "Default Encoding: UTF-8\n",
       "Language: en\n",
       "Country: null\n",
       "--></g></svg>"
      ]
     },
     "execution_count": 25,
     "metadata": {},
     "output_type": "execute_result"
    }
   ],
   "source": [
    "%viz --style=\"STDCOLOR\" --view=\"State\" \"AnalysisTest\""
   ]
  },
  {
   "cell_type": "code",
   "execution_count": 26,
   "id": "91ca87f9",
   "metadata": {
    "execution": {
     "iopub.execute_input": "2021-09-27T07:15:30.292805Z",
     "iopub.status.busy": "2021-09-27T07:15:30.292337Z",
     "iopub.status.idle": "2021-09-27T07:15:30.350945Z",
     "shell.execute_reply": "2021-09-27T07:15:30.350444Z"
    }
   },
   "outputs": [
    {
     "data": {
      "image/svg+xml": [
       "<?xml version=\"1.0\" encoding=\"UTF-8\" standalone=\"no\"?><svg xmlns=\"http://www.w3.org/2000/svg\" xmlns:xlink=\"http://www.w3.org/1999/xlink\" contentScriptType=\"application/ecmascript\" contentStyleType=\"text/css\" height=\"446px\" preserveAspectRatio=\"none\" style=\"width:1120px;height:446px;\" version=\"1.1\" viewBox=\"0 0 1120 446\" width=\"1120px\" zoomAndPan=\"magnify\"><defs><filter height=\"300%\" id=\"fps3vuohn7ov0\" width=\"300%\" x=\"-1\" y=\"-1\"><feGaussianBlur result=\"blurOut\" stdDeviation=\"2.0\"/><feColorMatrix in=\"blurOut\" result=\"blurOut2\" type=\"matrix\" values=\"0 0 0 0 0 0 0 0 0 0 0 0 0 0 0 0 0 0 .4 0\"/><feOffset dx=\"4.0\" dy=\"4.0\" in=\"blurOut2\" result=\"blurOut3\"/><feBlend in=\"SourceGraphic\" in2=\"blurOut3\" mode=\"normal\"/></filter></defs><g><!--MD5=[fbc87193dbaf4d95561dea2c320d4a47]\n",
       "cluster E1--><a href=\"psysml:f5546318-5597-445e-83af-957575abd1f7\" target=\"_top\" title=\"psysml:f5546318-5597-445e-83af-957575abd1f7\" xlink:actuate=\"onRequest\" xlink:href=\"psysml:f5546318-5597-445e-83af-957575abd1f7\" xlink:show=\"new\" xlink:title=\"psysml:f5546318-5597-445e-83af-957575abd1f7\" xlink:type=\"simple\"><polygon fill=\"#FFFFFF\" filter=\"url(#fps3vuohn7ov0)\" points=\"16,6,108,6,115,28.2969,1098,28.2969,1098,434.86,16,434.86,16,6\" style=\"stroke: #000000; stroke-width: 1.5;\"/><line style=\"stroke: #000000; stroke-width: 1.5;\" x1=\"16\" x2=\"115\" y1=\"28.2969\" y2=\"28.2969\"/><text fill=\"#000000\" font-family=\"sans-serif\" font-size=\"14\" font-weight=\"bold\" lengthAdjust=\"spacingAndGlyphs\" textLength=\"86\" x=\"20\" y=\"20.9951\">AnalysisTest</text></a><!--MD5=[de5ec2e2e8f62f467e546659f5068c88]\n",
       "cluster E5--><a href=\"psysml:e9833d01-8fa8-4820-af73-47d7be444de9\" target=\"_top\" title=\"psysml:e9833d01-8fa8-4820-af73-47d7be444de9\" xlink:actuate=\"onRequest\" xlink:href=\"psysml:e9833d01-8fa8-4820-af73-47d7be444de9\" xlink:show=\"new\" xlink:title=\"psysml:e9833d01-8fa8-4820-af73-47d7be444de9\" xlink:type=\"simple\"><rect fill=\"#FFFFFF\" filter=\"url(#fps3vuohn7ov0)\" height=\"228.86\" id=\"E5\" style=\"stroke: #A80036; stroke-width: 1.5;\" width=\"146\" x=\"936\" y=\"107\"/><rect fill=\"#FEFECE\" height=\"37.9375\" style=\"stroke: #A80036; stroke-width: 1.5;\" width=\"146\" x=\"936\" y=\"107\"/><text fill=\"#000000\" font-family=\"sans-serif\" font-size=\"12\" font-style=\"italic\" lengthAdjust=\"spacingAndGlyphs\" textLength=\"88\" x=\"965\" y=\"123.1387\">«analysis def»</text><text fill=\"#000000\" font-family=\"sans-serif\" font-size=\"12\" lengthAdjust=\"spacingAndGlyphs\" textLength=\"81\" x=\"968.5\" y=\"137.1074\">AnalysisCase</text></a><!--MD5=[55dfccfc6c49c2d10cd1bd2211a6c90c]\n",
       "cluster E8--><a href=\"psysml:8a4520e8-ac51-4a2a-8007-cfc5f8084f42\" target=\"_top\" title=\"psysml:8a4520e8-ac51-4a2a-8007-cfc5f8084f42\" xlink:actuate=\"onRequest\" xlink:href=\"psysml:8a4520e8-ac51-4a2a-8007-cfc5f8084f42\" xlink:show=\"new\" xlink:title=\"psysml:8a4520e8-ac51-4a2a-8007-cfc5f8084f42\" xlink:type=\"simple\"><rect fill=\"#FFFFFF\" filter=\"url(#fps3vuohn7ov0)\" height=\"303.86\" id=\"E8\" style=\"stroke: #A80036; stroke-width: 1.5;\" width=\"259\" x=\"647\" y=\"107\"/><rect fill=\"#FEFECE\" height=\"37.9375\" style=\"stroke: #A80036; stroke-width: 1.5;\" width=\"259\" x=\"647\" y=\"107\"/><text fill=\"#000000\" font-family=\"sans-serif\" font-size=\"12\" font-style=\"italic\" lengthAdjust=\"spacingAndGlyphs\" textLength=\"88\" x=\"732.5\" y=\"123.1387\">«analysis def»</text><text fill=\"#000000\" font-family=\"sans-serif\" font-size=\"12\" lengthAdjust=\"spacingAndGlyphs\" textLength=\"77\" x=\"738\" y=\"137.1074\">AnalysisPlan</text></a><!--MD5=[a84b4591f868c1fa4a211716a82f2f0d]\n",
       "cluster E10--><a href=\"psysml:ef775355-9069-4551-a021-5839d9673f3d\" target=\"_top\" title=\"psysml:ef775355-9069-4551-a021-5839d9673f3d\" xlink:actuate=\"onRequest\" xlink:href=\"psysml:ef775355-9069-4551-a021-5839d9673f3d\" xlink:show=\"new\" xlink:title=\"psysml:ef775355-9069-4551-a021-5839d9673f3d\" xlink:type=\"simple\"><rect fill=\"#FFFFFF\" filter=\"url(#fps3vuohn7ov0)\" height=\"165.86\" id=\"E10\" rx=\"10\" ry=\"10\" style=\"stroke: #A80036; stroke-width: 1.5;\" width=\"138\" x=\"730\" y=\"207\"/><rect fill=\"#FEFECE\" height=\"37.9375\" rx=\"10\" ry=\"10\" style=\"stroke: #FEFECE; stroke-width: 1.5;\" width=\"138\" x=\"730\" y=\"207\"/><rect fill=\"#FEFECE\" height=\"10\" style=\"stroke: #FEFECE; stroke-width: 1.5;\" width=\"138\" x=\"730\" y=\"234.9375\"/><rect fill=\"none\" height=\"165.86\" id=\"E10\" rx=\"10\" ry=\"10\" style=\"stroke: #A80036; stroke-width: 1.5;\" width=\"138\" x=\"730\" y=\"207\"/><text fill=\"#000000\" font-family=\"sans-serif\" font-size=\"12\" font-style=\"italic\" lengthAdjust=\"spacingAndGlyphs\" textLength=\"64\" x=\"767\" y=\"223.1387\">«analysis»</text><text fill=\"#000000\" font-family=\"sans-serif\" font-size=\"12\" lengthAdjust=\"spacingAndGlyphs\" textLength=\"81\" x=\"758.5\" y=\"237.1074\">analysisCase</text><line style=\"stroke: #A80036; stroke-width: 1.0;\" x1=\"730\" x2=\"868\" y1=\"244.9375\" y2=\"244.9375\"/></a><!--MD5=[bcf29f0808fc96f19b1afbee8cfc1f11]\n",
       "cluster E14--><a href=\"psysml:e127547d-9ca6-4380-b459-796effe0b56f\" target=\"_top\" title=\"psysml:e127547d-9ca6-4380-b459-796effe0b56f\" xlink:actuate=\"onRequest\" xlink:href=\"psysml:e127547d-9ca6-4380-b459-796effe0b56f\" xlink:show=\"new\" xlink:title=\"psysml:e127547d-9ca6-4380-b459-796effe0b56f\" xlink:type=\"simple\"><rect fill=\"#FFFFFF\" filter=\"url(#fps3vuohn7ov0)\" height=\"197\" id=\"E14\" rx=\"10\" ry=\"10\" style=\"stroke: #A80036; stroke-width: 1.5;\" width=\"200\" x=\"360\" y=\"49\"/><rect fill=\"#FEFECE\" height=\"23.9688\" rx=\"10\" ry=\"10\" style=\"stroke: #FEFECE; stroke-width: 1.5;\" width=\"200\" x=\"360\" y=\"49\"/><rect fill=\"#FEFECE\" height=\"10\" style=\"stroke: #FEFECE; stroke-width: 1.5;\" width=\"200\" x=\"360\" y=\"62.9688\"/><rect fill=\"none\" height=\"197\" id=\"E14\" rx=\"10\" ry=\"10\" style=\"stroke: #A80036; stroke-width: 1.5;\" width=\"200\" x=\"360\" y=\"49\"/><text fill=\"#000000\" font-family=\"sans-serif\" font-size=\"12\" lengthAdjust=\"spacingAndGlyphs\" textLength=\"98\" x=\"411\" y=\"65.1387\">analysisContext</text><line style=\"stroke: #A80036; stroke-width: 1.0;\" x1=\"360\" x2=\"560\" y1=\"72.9688\" y2=\"72.9688\"/></a><!--MD5=[ebbe1d658d1005bcc118a6aa81145e00]\n",
       "class E4--><a href=\"psysml:b06c710d-6070-489f-855d-95835f572a57\" target=\"_top\" title=\"psysml:b06c710d-6070-489f-855d-95835f572a57\" xlink:actuate=\"onRequest\" xlink:href=\"psysml:b06c710d-6070-489f-855d-95835f572a57\" xlink:show=\"new\" xlink:title=\"psysml:b06c710d-6070-489f-855d-95835f572a57\" xlink:type=\"simple\"><rect fill=\"#FEFECE\" filter=\"url(#fps3vuohn7ov0)\" height=\"66.7422\" id=\"E4\" style=\"stroke: #A80036; stroke-width: 1.5;\" width=\"117\" x=\"223.5\" y=\"73.5\"/><text fill=\"#000000\" font-family=\"sans-serif\" font-size=\"12\" font-style=\"italic\" lengthAdjust=\"spacingAndGlyphs\" textLength=\"115\" x=\"224.5\" y=\"89.6387\">«requirement def»</text><text fill=\"#000000\" font-family=\"sans-serif\" font-size=\"12\" lengthAdjust=\"spacingAndGlyphs\" textLength=\"107\" x=\"228.5\" y=\"103.6074\">AnalysisObjective</text><line style=\"stroke: #A80036; stroke-width: 1.5;\" x1=\"224.5\" x2=\"339.5\" y1=\"111.4375\" y2=\"111.4375\"/><text fill=\"#000000\" font-family=\"sans-serif\" font-size=\"11\" lengthAdjust=\"spacingAndGlyphs\" textLength=\"12\" x=\"229.5\" y=\"125.6479\">...</text><line style=\"stroke: #A80036; stroke-width: 1.0;\" x1=\"224.5\" x2=\"339.5\" y1=\"132.2422\" y2=\"132.2422\"/></a><g id=\"E1.E2\"><a href=\"psysml:df856138-3406-4a6b-b583-20ed5eacc0cd\" target=\"_top\" title=\"psysml:df856138-3406-4a6b-b583-20ed5eacc0cd\" xlink:actuate=\"onRequest\" xlink:href=\"psysml:df856138-3406-4a6b-b583-20ed5eacc0cd\" xlink:show=\"new\" xlink:title=\"psysml:df856138-3406-4a6b-b583-20ed5eacc0cd\" xlink:type=\"simple\"><rect fill=\"#FEFECE\" filter=\"url(#fps3vuohn7ov0)\" height=\"42.9375\" id=\"E2\" style=\"stroke: #A80036; stroke-width: 1.5;\" width=\"71\" x=\"117.5\" y=\"85.5\"/><text fill=\"#000000\" font-family=\"sans-serif\" font-size=\"12\" font-style=\"italic\" lengthAdjust=\"spacingAndGlyphs\" textLength=\"64\" x=\"121\" y=\"101.6387\">«part def»</text><text fill=\"#000000\" font-family=\"sans-serif\" font-size=\"12\" lengthAdjust=\"spacingAndGlyphs\" textLength=\"8\" x=\"149\" y=\"115.6074\">V</text></a></g><g id=\"E1.E3\"><a href=\"psysml:a14948af-c637-432a-b299-badb5d3ced27\" target=\"_top\" title=\"psysml:a14948af-c637-432a-b299-badb5d3ced27\" xlink:actuate=\"onRequest\" xlink:href=\"psysml:a14948af-c637-432a-b299-badb5d3ced27\" xlink:show=\"new\" xlink:title=\"psysml:a14948af-c637-432a-b299-badb5d3ced27\" xlink:type=\"simple\"><rect fill=\"#FEFECE\" filter=\"url(#fps3vuohn7ov0)\" height=\"40\" id=\"E3\" rx=\"10\" ry=\"10\" style=\"stroke: #A80036; stroke-width: 1.5;\" width=\"50\" x=\"32\" y=\"87\"/><text fill=\"#000000\" font-family=\"sans-serif\" font-size=\"12\" lengthAdjust=\"spacingAndGlyphs\" textLength=\"28\" x=\"43\" y=\"103.1387\">vv: V</text></a></g><text fill=\"#000000\" font-family=\"sans-serif\" font-size=\"14\" lengthAdjust=\"spacingAndGlyphs\" textLength=\"7\" x=\"1005.5\" y=\"85.6982\">v</text><rect fill=\"#A80036\" height=\"12\" style=\"stroke: #FEFECE; stroke-width: 1.5;\" width=\"12\" x=\"1003\" y=\"101\"/><text fill=\"#000000\" font-family=\"sans-serif\" font-size=\"14\" lengthAdjust=\"spacingAndGlyphs\" textLength=\"39\" x=\"989.5\" y=\"354.8551\">result</text><rect fill=\"#A80036\" height=\"12\" style=\"stroke: #FEFECE; stroke-width: 1.5;\" width=\"12\" x=\"1003\" y=\"329.86\"/><text fill=\"#000000\" font-family=\"sans-serif\" font-size=\"14\" lengthAdjust=\"spacingAndGlyphs\" textLength=\"7\" x=\"661.5\" y=\"85.6982\">v</text><rect fill=\"#A80036\" height=\"12\" style=\"stroke: #FEFECE; stroke-width: 1.5;\" width=\"12\" x=\"659\" y=\"101\"/><text fill=\"#000000\" font-family=\"sans-serif\" font-size=\"14\" lengthAdjust=\"spacingAndGlyphs\" textLength=\"39\" x=\"886.5\" y=\"354.8551\">result</text><rect fill=\"#A80036\" height=\"12\" style=\"stroke: #FEFECE; stroke-width: 1.5;\" width=\"12\" x=\"900\" y=\"329.86\"/><text fill=\"#000000\" font-family=\"sans-serif\" font-size=\"14\" lengthAdjust=\"spacingAndGlyphs\" textLength=\"37\" x=\"780.5\" y=\"391.8551\">mass</text><rect fill=\"#A80036\" height=\"12\" style=\"stroke: #FEFECE; stroke-width: 1.5;\" width=\"12\" x=\"793\" y=\"366.86\"/><text fill=\"#000000\" font-family=\"sans-serif\" font-size=\"14\" lengthAdjust=\"spacingAndGlyphs\" textLength=\"7\" x=\"795.5\" y=\"185.6982\">v</text><rect fill=\"#A80036\" height=\"12\" style=\"stroke: #FEFECE; stroke-width: 1.5;\" width=\"12\" x=\"793\" y=\"201\"/><!--MD5=[0c48fb7552dae8cbbef69381101a84c8]\n",
       "class E15--><a href=\"psysml:26b0c0e9-c7c6-4e19-b68b-97e4f04c11f8\" target=\"_top\" title=\"psysml:26b0c0e9-c7c6-4e19-b68b-97e4f04c11f8\" xlink:actuate=\"onRequest\" xlink:href=\"psysml:26b0c0e9-c7c6-4e19-b68b-97e4f04c11f8\" xlink:show=\"new\" xlink:title=\"psysml:26b0c0e9-c7c6-4e19-b68b-97e4f04c11f8\" xlink:type=\"simple\"><rect fill=\"#FEFECE\" filter=\"url(#fps3vuohn7ov0)\" height=\"45.9375\" id=\"E15\" rx=\"10\" ry=\"10\" style=\"stroke: #A80036; stroke-width: 1.5;\" width=\"168\" x=\"376\" y=\"84\"/><text fill=\"#000000\" font-family=\"sans-serif\" font-size=\"12\" font-style=\"italic\" lengthAdjust=\"spacingAndGlyphs\" textLength=\"64\" x=\"428\" y=\"100.1387\">«analysis»</text><text fill=\"#000000\" font-family=\"sans-serif\" font-size=\"12\" lengthAdjust=\"spacingAndGlyphs\" textLength=\"162\" x=\"379\" y=\"114.1074\">analysisPlan: AnalysisPlan</text><line style=\"stroke: #A80036; stroke-width: 1.5;\" x1=\"377\" x2=\"543\" y1=\"121.9375\" y2=\"121.9375\"/></a><!--MD5=[35f0587eaee8d5bb9a02e25b63afc23b]\n",
       "class E16--><a href=\"psysml:a55f605c-cc05-4fcd-b9b1-1e930756e010\" target=\"_top\" title=\"psysml:a55f605c-cc05-4fcd-b9b1-1e930756e010\" xlink:actuate=\"onRequest\" xlink:href=\"psysml:a55f605c-cc05-4fcd-b9b1-1e930756e010\" xlink:show=\"new\" xlink:title=\"psysml:a55f605c-cc05-4fcd-b9b1-1e930756e010\" xlink:type=\"simple\"><rect fill=\"#FEFECE\" filter=\"url(#fps3vuohn7ov0)\" height=\"45.9375\" id=\"E16\" rx=\"10\" ry=\"10\" style=\"stroke: #A80036; stroke-width: 1.5;\" width=\"93\" x=\"413.5\" y=\"184\"/><text fill=\"#000000\" font-family=\"sans-serif\" font-size=\"12\" font-style=\"italic\" lengthAdjust=\"spacingAndGlyphs\" textLength=\"91\" x=\"414.5\" y=\"200.1387\">«requirement»</text><text fill=\"#000000\" font-family=\"sans-serif\" font-size=\"12\" lengthAdjust=\"spacingAndGlyphs\" textLength=\"19\" x=\"450.5\" y=\"214.1074\">obj</text><line style=\"stroke: #A80036; stroke-width: 1.5;\" x1=\"414.5\" x2=\"505.5\" y1=\"221.9375\" y2=\"221.9375\"/></a><!--MD5=[1b01d5b954197aaf3899ca0bde35faf5]\n",
       "link E15 to E8--><a href=\"psysml:31ecf0da-b030-4520-be0f-3ece1376fb5f\" target=\"_top\" title=\"psysml:31ecf0da-b030-4520-be0f-3ece1376fb5f\" xlink:actuate=\"onRequest\" xlink:href=\"psysml:31ecf0da-b030-4520-be0f-3ece1376fb5f\" xlink:show=\"new\" xlink:title=\"psysml:31ecf0da-b030-4520-be0f-3ece1376fb5f\" xlink:type=\"simple\"><path d=\"M506.26,130.12 C543.93,148.12 596.28,173.15 630.4,189.46 \" fill=\"none\" id=\"E15-&gt;E8\" style=\"stroke: #A80036; stroke-width: 1.0;\"/><polygon fill=\"#FFFFFF\" points=\"630.4,189.46,610.2389,187.5813,616.2768,174.9502,630.4,189.46\" style=\"stroke: #A80036; stroke-width: 1.0;\"/><ellipse cx=\"605.9588\" cy=\"183.3185\" fill=\"#A80036\" rx=\"2\" ry=\"2\" style=\"stroke: #A80036; stroke-width: 1.0;\"/><ellipse cx=\"610.2716\" cy=\"174.2963\" fill=\"#A80036\" rx=\"2\" ry=\"2\" style=\"stroke: #A80036; stroke-width: 1.0;\"/></a><!--MD5=[f8b155c46b092be73bb522b0a8fc72a2]\n",
       "link E15 to E16--><a href=\"psysml:aa3a7955-6ed3-447d-b0ee-a09ada8803a4\" target=\"_top\" title=\"psysml:aa3a7955-6ed3-447d-b0ee-a09ada8803a4\" xlink:actuate=\"onRequest\" xlink:href=\"psysml:aa3a7955-6ed3-447d-b0ee-a09ada8803a4\" xlink:show=\"new\" xlink:title=\"psysml:aa3a7955-6ed3-447d-b0ee-a09ada8803a4\" xlink:type=\"simple\"><path d=\"M460,130.24 C460,143.64 460,160.91 460,175.57 \" fill=\"none\" id=\"E15-&gt;E16\" style=\"stroke: #A80036; stroke-width: 1.0;\"/><polygon fill=\"#A80036\" points=\"460,183.85,463,175.85,457,175.85,460,183.85\" style=\"stroke: #A80036; stroke-width: 1.0;\"/><text fill=\"#000000\" font-family=\"sans-serif\" font-size=\"13\" lengthAdjust=\"spacingAndGlyphs\" textLength=\"73\" x=\"461\" y=\"161.5669\">«objective»</text><text fill=\"#000000\" font-family=\"sans-serif\" font-size=\"13\" lengthAdjust=\"spacingAndGlyphs\" textLength=\"8\" x=\"450.975\" y=\"173.0879\">1</text></a><!--MD5=[249a692e7f8e206b34edd102a49c1ede]\n",
       "@startuml\r\n",
       "skinparam ranksep 10\r\n",
       "skinparam rectangle {\r\n",
       " backgroundColor<<block>> LightGreen\r\n",
       "}\r\n",
       "skinparam wrapWidth 300\r\n",
       "hide circle\r\n",
       "\r\n",
       "package \"AnalysisTest\" as E1  [[psysml:f5546318-5597-445e-83af-957575abd1f7 ]]  {\r\n",
       "rec def \"V\" as E2  <<(T,blue) part def>> [[psysml:df856138-3406-4a6b-b583-20ed5eacc0cd ]] {\r\n",
       "}\r\n",
       "rec usage \"vv: V\" as E3  [[psysml:a14948af-c637-432a-b299-badb5d3ced27 ]] {\r\n",
       "}\r\n",
       "comp def \"AnalysisObjective\" as E4  <<(T,blue) requirement def>> [[psysml:b06c710d-6070-489f-855d-95835f572a57 ]] {\r\n",
       "...\r\n",
       "- -\r\n",
       "}\r\n",
       "rec def \"AnalysisCase\" as E5 << analysis def>> [[psysml:e9833d01-8fa8-4820-af73-47d7be444de9 ]] {\r\n",
       "portin \"v\" as E6  [[psysml:fc36d359-2f0c-4a32-9d15-fff2be0a8869 ]] \r\n",
       "portout \"result\" as E7  [[psysml:7ffbe20f-c891-4b52-987b-0be8eb99b87a ]] \r\n",
       "}\r\n",
       "\r\n",
       "rec def \"AnalysisPlan\" as E8 << analysis def>> [[psysml:8a4520e8-ac51-4a2a-8007-cfc5f8084f42 ]] {\r\n",
       "portin \"v\" as E9  [[psysml:7635dc34-c4d2-4388-b045-3a6cac182eef ]] \r\n",
       "rec usage \"analysisCase\" as E10 << analysis>> [[psysml:ef775355-9069-4551-a021-5839d9673f3d ]] {\r\n",
       "portout \"mass\" as E11  [[psysml:56f340db-5793-4dc6-898e-9e0a5f90ef66 ]] \r\n",
       "portin \"v\" as E12  [[psysml:d8dc3b58-26c5-4e6e-82f3-a4f0880c0fd9 ]] \r\n",
       "}\r\n",
       "\r\n",
       "portout \"result\" as E13  [[psysml:55ba6aa8-4536-4622-ad3c-e7c6595a0034 ]] \r\n",
       "}\r\n",
       "\r\n",
       "rec usage \"analysisContext\" as E14  [[psysml:e127547d-9ca6-4380-b459-796effe0b56f ]] {\r\n",
       "comp usage \"analysisPlan: AnalysisPlan\" as E15 << analysis>> [[psysml:26b0c0e9-c7c6-4e19-b68b-97e4f04c11f8 ]] {\r\n",
       "}\r\n",
       "comp usage \"obj\" as E16  <<(T,blue) requirement>> [[psysml:a55f605c-cc05-4fcd-b9b1-1e930756e010 ]] {\r\n",
       "}\r\n",
       "}\r\n",
       "}\r\n",
       "E15 - -:|> E8 [[psysml:31ecf0da-b030-4520-be0f-3ece1376fb5f ]] \r\n",
       "E15 - ->> \"1\"E16 [[psysml:aa3a7955-6ed3-447d-b0ee-a09ada8803a4 ]] : <<objective>>\r\n",
       "@enduml\r\n",
       "\n",
       "PlantUML version 1.2020.13(Sat Jun 13 12:26:38 UTC 2020)\n",
       "(EPL source distribution)\n",
       "Java Runtime: OpenJDK Runtime Environment\n",
       "JVM: OpenJDK 64-Bit Server VM\n",
       "Default Encoding: UTF-8\n",
       "Language: en\n",
       "Country: null\n",
       "--></g></svg>"
      ]
     },
     "execution_count": 26,
     "metadata": {},
     "output_type": "execute_result"
    }
   ],
   "source": [
    "%viz --style=\"STDCOLOR\" --view=\"Interconnection\" \"AnalysisTest\""
   ]
  },
  {
   "cell_type": "code",
   "execution_count": 27,
   "id": "5a58ec69",
   "metadata": {
    "execution": {
     "iopub.execute_input": "2021-09-27T07:15:30.399788Z",
     "iopub.status.busy": "2021-09-27T07:15:30.399354Z",
     "iopub.status.idle": "2021-09-27T07:15:30.437499Z",
     "shell.execute_reply": "2021-09-27T07:15:30.437133Z"
    }
   },
   "outputs": [
    {
     "data": {
      "image/svg+xml": [
       "<?xml version=\"1.0\" encoding=\"UTF-8\" standalone=\"no\"?><svg xmlns=\"http://www.w3.org/2000/svg\" xmlns:xlink=\"http://www.w3.org/1999/xlink\" contentScriptType=\"application/ecmascript\" contentStyleType=\"text/css\" height=\"241px\" preserveAspectRatio=\"none\" style=\"width:656px;height:241px;\" version=\"1.1\" viewBox=\"0 0 656 241\" width=\"656px\" zoomAndPan=\"magnify\"><defs><filter height=\"300%\" id=\"f11d8xx7saqbpx\" width=\"300%\" x=\"-1\" y=\"-1\"><feGaussianBlur result=\"blurOut\" stdDeviation=\"2.0\"/><feColorMatrix in=\"blurOut\" result=\"blurOut2\" type=\"matrix\" values=\"0 0 0 0 0 0 0 0 0 0 0 0 0 0 0 0 0 0 .4 0\"/><feOffset dx=\"4.0\" dy=\"4.0\" in=\"blurOut2\" result=\"blurOut3\"/><feBlend in=\"SourceGraphic\" in2=\"blurOut3\" mode=\"normal\"/></filter></defs><g><!--MD5=[fbc87193dbaf4d95561dea2c320d4a47]\n",
       "cluster E1--><a href=\"psysml:e9833d01-8fa8-4820-af73-47d7be444de9\" target=\"_top\" title=\"psysml:e9833d01-8fa8-4820-af73-47d7be444de9\" xlink:actuate=\"onRequest\" xlink:href=\"psysml:e9833d01-8fa8-4820-af73-47d7be444de9\" xlink:show=\"new\" xlink:title=\"psysml:e9833d01-8fa8-4820-af73-47d7be444de9\" xlink:type=\"simple\"><rect fill=\"#FFFFFF\" filter=\"url(#f11d8xx7saqbpx)\" height=\"122\" id=\"E1\" style=\"stroke: #A80036; stroke-width: 1.5;\" width=\"146\" x=\"7\" y=\"42.0986\"/><rect fill=\"#FEFECE\" height=\"37.9375\" style=\"stroke: #A80036; stroke-width: 1.5;\" width=\"146\" x=\"7\" y=\"42.0986\"/><text fill=\"#000000\" font-family=\"sans-serif\" font-size=\"12\" font-style=\"italic\" lengthAdjust=\"spacingAndGlyphs\" textLength=\"88\" x=\"36\" y=\"58.2373\">«analysis def»</text><text fill=\"#000000\" font-family=\"sans-serif\" font-size=\"12\" lengthAdjust=\"spacingAndGlyphs\" textLength=\"81\" x=\"39.5\" y=\"72.2061\">AnalysisCase</text></a><!--MD5=[f6df4d0ebaf0b5dfb2ced0ae5af7c670]\n",
       "cluster E4--><a href=\"psysml:8a4520e8-ac51-4a2a-8007-cfc5f8084f42\" target=\"_top\" title=\"psysml:8a4520e8-ac51-4a2a-8007-cfc5f8084f42\" xlink:actuate=\"onRequest\" xlink:href=\"psysml:8a4520e8-ac51-4a2a-8007-cfc5f8084f42\" xlink:show=\"new\" xlink:title=\"psysml:8a4520e8-ac51-4a2a-8007-cfc5f8084f42\" xlink:type=\"simple\"><rect fill=\"#FFFFFF\" filter=\"url(#f11d8xx7saqbpx)\" height=\"180\" id=\"E4\" style=\"stroke: #A80036; stroke-width: 1.5;\" width=\"262\" x=\"216\" y=\"42.0986\"/><rect fill=\"#FEFECE\" height=\"37.9375\" style=\"stroke: #A80036; stroke-width: 1.5;\" width=\"262\" x=\"216\" y=\"42.0986\"/><text fill=\"#000000\" font-family=\"sans-serif\" font-size=\"12\" font-style=\"italic\" lengthAdjust=\"spacingAndGlyphs\" textLength=\"88\" x=\"303\" y=\"58.2373\">«analysis def»</text><text fill=\"#000000\" font-family=\"sans-serif\" font-size=\"12\" lengthAdjust=\"spacingAndGlyphs\" textLength=\"77\" x=\"308.5\" y=\"72.2061\">AnalysisPlan</text></a><!--MD5=[14e3b0961a2654348d326746436168a1]\n",
       "cluster E6--><a href=\"psysml:ef775355-9069-4551-a021-5839d9673f3d\" target=\"_top\" title=\"psysml:ef775355-9069-4551-a021-5839d9673f3d\" xlink:actuate=\"onRequest\" xlink:href=\"psysml:ef775355-9069-4551-a021-5839d9673f3d\" xlink:show=\"new\" xlink:title=\"psysml:ef775355-9069-4551-a021-5839d9673f3d\" xlink:type=\"simple\"><rect fill=\"#FFFFFF\" filter=\"url(#f11d8xx7saqbpx)\" height=\"110.5\" id=\"E6\" rx=\"10\" ry=\"10\" style=\"stroke: #A80036; stroke-width: 1.5;\" width=\"138\" x=\"299\" y=\"81.5986\"/><rect fill=\"#FEFECE\" height=\"37.9375\" rx=\"10\" ry=\"10\" style=\"stroke: #FEFECE; stroke-width: 1.5;\" width=\"138\" x=\"299\" y=\"81.5986\"/><rect fill=\"#FEFECE\" height=\"10\" style=\"stroke: #FEFECE; stroke-width: 1.5;\" width=\"138\" x=\"299\" y=\"109.5361\"/><rect fill=\"none\" height=\"110.5\" id=\"E6\" rx=\"10\" ry=\"10\" style=\"stroke: #A80036; stroke-width: 1.5;\" width=\"138\" x=\"299\" y=\"81.5986\"/><text fill=\"#000000\" font-family=\"sans-serif\" font-size=\"12\" font-style=\"italic\" lengthAdjust=\"spacingAndGlyphs\" textLength=\"64\" x=\"336\" y=\"97.7373\">«analysis»</text><text fill=\"#000000\" font-family=\"sans-serif\" font-size=\"12\" lengthAdjust=\"spacingAndGlyphs\" textLength=\"81\" x=\"327.5\" y=\"111.7061\">analysisCase</text><line style=\"stroke: #A80036; stroke-width: 1.0;\" x1=\"299\" x2=\"437\" y1=\"119.5361\" y2=\"119.5361\"/></a><!--MD5=[a84b4591f868c1fa4a211716a82f2f0d]\n",
       "cluster E10--><a href=\"psysml:26b0c0e9-c7c6-4e19-b68b-97e4f04c11f8\" target=\"_top\" title=\"psysml:26b0c0e9-c7c6-4e19-b68b-97e4f04c11f8\" xlink:actuate=\"onRequest\" xlink:href=\"psysml:26b0c0e9-c7c6-4e19-b68b-97e4f04c11f8\" xlink:show=\"new\" xlink:title=\"psysml:26b0c0e9-c7c6-4e19-b68b-97e4f04c11f8\" xlink:type=\"simple\"><rect fill=\"#FFFFFF\" filter=\"url(#f11d8xx7saqbpx)\" height=\"122\" id=\"E10\" rx=\"10\" ry=\"10\" style=\"stroke: #A80036; stroke-width: 1.5;\" width=\"130\" x=\"507\" y=\"42.0986\"/><rect fill=\"#FEFECE\" height=\"37.9375\" rx=\"10\" ry=\"10\" style=\"stroke: #FEFECE; stroke-width: 1.5;\" width=\"130\" x=\"507\" y=\"42.0986\"/><rect fill=\"#FEFECE\" height=\"10\" style=\"stroke: #FEFECE; stroke-width: 1.5;\" width=\"130\" x=\"507\" y=\"70.0361\"/><rect fill=\"none\" height=\"122\" id=\"E10\" rx=\"10\" ry=\"10\" style=\"stroke: #A80036; stroke-width: 1.5;\" width=\"130\" x=\"507\" y=\"42.0986\"/><text fill=\"#000000\" font-family=\"sans-serif\" font-size=\"12\" font-style=\"italic\" lengthAdjust=\"spacingAndGlyphs\" textLength=\"64\" x=\"540\" y=\"58.2373\">«analysis»</text><text fill=\"#000000\" font-family=\"sans-serif\" font-size=\"12\" lengthAdjust=\"spacingAndGlyphs\" textLength=\"77\" x=\"533.5\" y=\"72.2061\">analysisPlan</text><line style=\"stroke: #A80036; stroke-width: 1.0;\" x1=\"507\" x2=\"637\" y1=\"80.0361\" y2=\"80.0361\"/></a><text fill=\"#000000\" font-family=\"sans-serif\" font-size=\"14\" lengthAdjust=\"spacingAndGlyphs\" textLength=\"7\" x=\"76.5\" y=\"20.7969\">v</text><rect fill=\"#A80036\" height=\"12\" style=\"stroke: #FEFECE; stroke-width: 1.5;\" width=\"12\" x=\"74\" y=\"36.0986\"/><text fill=\"#000000\" font-family=\"sans-serif\" font-size=\"14\" lengthAdjust=\"spacingAndGlyphs\" textLength=\"39\" x=\"60.5\" y=\"183.0938\">result</text><rect fill=\"#A80036\" height=\"12\" style=\"stroke: #FEFECE; stroke-width: 1.5;\" width=\"12\" x=\"74\" y=\"158.0986\"/><text fill=\"#000000\" font-family=\"sans-serif\" font-size=\"14\" lengthAdjust=\"spacingAndGlyphs\" textLength=\"7\" x=\"230.5\" y=\"20.7969\">v</text><rect fill=\"#A80036\" height=\"12\" style=\"stroke: #FEFECE; stroke-width: 1.5;\" width=\"12\" x=\"228\" y=\"36.0986\"/><text fill=\"#000000\" font-family=\"sans-serif\" font-size=\"14\" lengthAdjust=\"spacingAndGlyphs\" textLength=\"39\" x=\"458.5\" y=\"183.0938\">result</text><rect fill=\"#A80036\" height=\"12\" style=\"stroke: #FEFECE; stroke-width: 1.5;\" width=\"12\" x=\"472\" y=\"158.0986\"/><text fill=\"#000000\" font-family=\"sans-serif\" font-size=\"14\" lengthAdjust=\"spacingAndGlyphs\" textLength=\"37\" x=\"349.5\" y=\"211.0938\">mass</text><rect fill=\"#A80036\" height=\"12\" style=\"stroke: #FEFECE; stroke-width: 1.5;\" width=\"12\" x=\"362\" y=\"186.0986\"/><text fill=\"#000000\" font-family=\"sans-serif\" font-size=\"14\" lengthAdjust=\"spacingAndGlyphs\" textLength=\"7\" x=\"364.5\" y=\"60.2969\">v</text><rect fill=\"#A80036\" height=\"12\" style=\"stroke: #FEFECE; stroke-width: 1.5;\" width=\"12\" x=\"362\" y=\"75.5986\"/><text fill=\"#000000\" font-family=\"sans-serif\" font-size=\"14\" lengthAdjust=\"spacingAndGlyphs\" textLength=\"7\" x=\"567.5\" y=\"20.7969\">v</text><rect fill=\"#A80036\" height=\"12\" style=\"stroke: #FEFECE; stroke-width: 1.5;\" width=\"12\" x=\"565\" y=\"36.0986\"/><text fill=\"#000000\" font-family=\"sans-serif\" font-size=\"14\" lengthAdjust=\"spacingAndGlyphs\" textLength=\"39\" x=\"505.5\" y=\"183.0938\">result</text><rect fill=\"#A80036\" height=\"12\" style=\"stroke: #FEFECE; stroke-width: 1.5;\" width=\"12\" x=\"519\" y=\"158.0986\"/><!--MD5=[7b8ef4a78c5ffc9d685c2842665eb58e]\n",
       "@startuml\r\n",
       "skinparam ranksep 8\r\n",
       "skinparam wrapWidth 300\r\n",
       "hide circle\r\n",
       "\r\n",
       "rec def \"AnalysisCase\" as E1 << analysis def>> [[psysml:e9833d01-8fa8-4820-af73-47d7be444de9 ]] {\r\n",
       "portin \"v\" as E2  [[psysml:fc36d359-2f0c-4a32-9d15-fff2be0a8869 ]] \r\n",
       "portout \"result\" as E3  [[psysml:7ffbe20f-c891-4b52-987b-0be8eb99b87a ]] \r\n",
       "}\r\n",
       "\r\n",
       "rec def \"AnalysisPlan\" as E4 << analysis def>> [[psysml:8a4520e8-ac51-4a2a-8007-cfc5f8084f42 ]] {\r\n",
       "portin \"v\" as E5  [[psysml:7635dc34-c4d2-4388-b045-3a6cac182eef ]] \r\n",
       "rec usage \"analysisCase\" as E6 << analysis>> [[psysml:ef775355-9069-4551-a021-5839d9673f3d ]] {\r\n",
       "portout \"mass\" as E7  [[psysml:56f340db-5793-4dc6-898e-9e0a5f90ef66 ]] \r\n",
       "portin \"v\" as E8  [[psysml:d8dc3b58-26c5-4e6e-82f3-a4f0880c0fd9 ]] \r\n",
       "}\r\n",
       "\r\n",
       "portout \"result\" as E9  [[psysml:55ba6aa8-4536-4622-ad3c-e7c6595a0034 ]] \r\n",
       "}\r\n",
       "\r\n",
       "rec usage \"analysisPlan\" as E10 << analysis>> [[psysml:26b0c0e9-c7c6-4e19-b68b-97e4f04c11f8 ]] {\r\n",
       "portin \"v\" as E11  [[psysml:f389b1b7-0af5-48e1-9589-ecdd74e85b57 ]] \r\n",
       "portout \"result\" as E12  [[psysml:bb9048ad-dd49-4e98-ae44-d0812ca693a4 ]] \r\n",
       "}\r\n",
       "\r\n",
       "@enduml\r\n",
       "\n",
       "PlantUML version 1.2020.13(Sat Jun 13 12:26:38 UTC 2020)\n",
       "(EPL source distribution)\n",
       "Java Runtime: OpenJDK Runtime Environment\n",
       "JVM: OpenJDK 64-Bit Server VM\n",
       "Default Encoding: UTF-8\n",
       "Language: en\n",
       "Country: null\n",
       "--></g></svg>"
      ]
     },
     "execution_count": 27,
     "metadata": {},
     "output_type": "execute_result"
    }
   ],
   "source": [
    "%viz --style=\"STDCOLOR\" --view=\"Action\" \"AnalysisTest\""
   ]
  },
  {
   "cell_type": "code",
   "execution_count": 28,
   "id": "9ca9d67e",
   "metadata": {
    "execution": {
     "iopub.execute_input": "2021-09-27T07:15:30.487327Z",
     "iopub.status.busy": "2021-09-27T07:15:30.486910Z",
     "iopub.status.idle": "2021-09-27T07:15:30.492808Z",
     "shell.execute_reply": "2021-09-27T07:15:30.492312Z"
    }
   },
   "outputs": [
    {
     "data": {
      "image/svg+xml": [
       "<?xml version=\"1.0\" encoding=\"UTF-8\" standalone=\"no\"?><svg xmlns=\"http://www.w3.org/2000/svg\" xmlns:xlink=\"http://www.w3.org/1999/xlink\" contentScriptType=\"application/ecmascript\" contentStyleType=\"text/css\" height=\"12px\" preserveAspectRatio=\"none\" style=\"width:12px;height:12px;\" version=\"1.1\" viewBox=\"0 0 12 12\" width=\"12px\" zoomAndPan=\"magnify\"><defs/><g><!--MD5=[6c4bca67b4d71758159a5a7f1f1e1fc2]\n",
       "@startuml\r\n",
       "skinparam roundcorner 20\r\n",
       "skinparam BoxPadding 20\r\n",
       "skinparam SequenceBoxBackgroundColor #white\r\n",
       "skinparam style strictuml\r\n",
       "skinparam maxMessageSize 100\r\n",
       "skinparam wrapWidth 300\r\n",
       "hide circle\r\n",
       "\r\n",
       "@enduml\r\n",
       "\n",
       "PlantUML version 1.2020.13(Sat Jun 13 12:26:38 UTC 2020)\n",
       "(EPL source distribution)\n",
       "Java Runtime: OpenJDK Runtime Environment\n",
       "JVM: OpenJDK 64-Bit Server VM\n",
       "Default Encoding: UTF-8\n",
       "Language: en\n",
       "Country: null\n",
       "--></g></svg>"
      ]
     },
     "execution_count": 28,
     "metadata": {},
     "output_type": "execute_result"
    }
   ],
   "source": [
    "%viz --style=\"STDCOLOR\" --view=\"Sequence\" \"AnalysisTest\""
   ]
  },
  {
   "cell_type": "code",
   "execution_count": 29,
   "id": "4b8084a3",
   "metadata": {
    "execution": {
     "iopub.execute_input": "2021-09-27T07:15:30.542344Z",
     "iopub.status.busy": "2021-09-27T07:15:30.541917Z",
     "iopub.status.idle": "2021-09-27T07:15:30.595627Z",
     "shell.execute_reply": "2021-09-27T07:15:30.595258Z"
    }
   },
   "outputs": [
    {
     "data": {
      "image/svg+xml": [
       "<?xml version=\"1.0\" encoding=\"UTF-8\" standalone=\"no\"?><svg xmlns=\"http://www.w3.org/2000/svg\" xmlns:xlink=\"http://www.w3.org/1999/xlink\" contentScriptType=\"application/ecmascript\" contentStyleType=\"text/css\" height=\"628px\" preserveAspectRatio=\"none\" style=\"width:837px;height:628px;\" version=\"1.1\" viewBox=\"0 0 837 628\" width=\"837px\" zoomAndPan=\"magnify\"><defs><filter height=\"300%\" id=\"f5se5zwe40xjq\" width=\"300%\" x=\"-1\" y=\"-1\"><feGaussianBlur result=\"blurOut\" stdDeviation=\"2.0\"/><feColorMatrix in=\"blurOut\" result=\"blurOut2\" type=\"matrix\" values=\"0 0 0 0 0 0 0 0 0 0 0 0 0 0 0 0 0 0 .4 0\"/><feOffset dx=\"4.0\" dy=\"4.0\" in=\"blurOut2\" result=\"blurOut3\"/><feBlend in=\"SourceGraphic\" in2=\"blurOut3\" mode=\"normal\"/></filter></defs><g><!--MD5=[fbc87193dbaf4d95561dea2c320d4a47]\n",
       "cluster E1--><a href=\"psysml:f5546318-5597-445e-83af-957575abd1f7\" target=\"_top\" title=\"psysml:f5546318-5597-445e-83af-957575abd1f7\" xlink:actuate=\"onRequest\" xlink:href=\"psysml:f5546318-5597-445e-83af-957575abd1f7\" xlink:show=\"new\" xlink:title=\"psysml:f5546318-5597-445e-83af-957575abd1f7\" xlink:type=\"simple\"><polygon fill=\"#FFFFFF\" filter=\"url(#f5se5zwe40xjq)\" points=\"16,6,108,6,115,28.2969,815,28.2969,815,616,16,616,16,6\" style=\"stroke: #000000; stroke-width: 1.5;\"/><line style=\"stroke: #000000; stroke-width: 1.5;\" x1=\"16\" x2=\"115\" y1=\"28.2969\" y2=\"28.2969\"/><text fill=\"#000000\" font-family=\"sans-serif\" font-size=\"14\" font-weight=\"bold\" lengthAdjust=\"spacingAndGlyphs\" textLength=\"86\" x=\"20\" y=\"20.9951\">AnalysisTest</text></a><!--MD5=[de5ec2e2e8f62f467e546659f5068c88]\n",
       "cluster E5--><a href=\"psysml:e9833d01-8fa8-4820-af73-47d7be444de9\" target=\"_top\" title=\"psysml:e9833d01-8fa8-4820-af73-47d7be444de9\" xlink:actuate=\"onRequest\" xlink:href=\"psysml:e9833d01-8fa8-4820-af73-47d7be444de9\" xlink:show=\"new\" xlink:title=\"psysml:e9833d01-8fa8-4820-af73-47d7be444de9\" xlink:type=\"simple\"><rect fill=\"#FFFFFF\" filter=\"url(#f5se5zwe40xjq)\" height=\"299.5\" id=\"E5\" style=\"stroke: #A80036; stroke-width: 1.5;\" width=\"146\" x=\"653\" y=\"74.5\"/><rect fill=\"#FEFECE\" height=\"37.9375\" style=\"stroke: #A80036; stroke-width: 1.5;\" width=\"146\" x=\"653\" y=\"74.5\"/><text fill=\"#000000\" font-family=\"sans-serif\" font-size=\"12\" font-style=\"italic\" lengthAdjust=\"spacingAndGlyphs\" textLength=\"88\" x=\"682\" y=\"90.6387\">«analysis def»</text><text fill=\"#000000\" font-family=\"sans-serif\" font-size=\"12\" lengthAdjust=\"spacingAndGlyphs\" textLength=\"81\" x=\"685.5\" y=\"104.6074\">AnalysisCase</text></a><!--MD5=[55dfccfc6c49c2d10cd1bd2211a6c90c]\n",
       "cluster E8--><a href=\"psysml:8a4520e8-ac51-4a2a-8007-cfc5f8084f42\" target=\"_top\" title=\"psysml:8a4520e8-ac51-4a2a-8007-cfc5f8084f42\" xlink:actuate=\"onRequest\" xlink:href=\"psysml:8a4520e8-ac51-4a2a-8007-cfc5f8084f42\" xlink:show=\"new\" xlink:title=\"psysml:8a4520e8-ac51-4a2a-8007-cfc5f8084f42\" xlink:type=\"simple\"><rect fill=\"#FFFFFF\" filter=\"url(#f5se5zwe40xjq)\" height=\"400\" id=\"E8\" style=\"stroke: #A80036; stroke-width: 1.5;\" width=\"259\" x=\"279\" y=\"192\"/><rect fill=\"#FEFECE\" height=\"37.9375\" style=\"stroke: #A80036; stroke-width: 1.5;\" width=\"259\" x=\"279\" y=\"192\"/><text fill=\"#000000\" font-family=\"sans-serif\" font-size=\"12\" font-style=\"italic\" lengthAdjust=\"spacingAndGlyphs\" textLength=\"88\" x=\"364.5\" y=\"208.1387\">«analysis def»</text><text fill=\"#000000\" font-family=\"sans-serif\" font-size=\"12\" lengthAdjust=\"spacingAndGlyphs\" textLength=\"77\" x=\"370\" y=\"222.1074\">AnalysisPlan</text></a><!--MD5=[a84b4591f868c1fa4a211716a82f2f0d]\n",
       "cluster E10--><a href=\"psysml:ef775355-9069-4551-a021-5839d9673f3d\" target=\"_top\" title=\"psysml:ef775355-9069-4551-a021-5839d9673f3d\" xlink:actuate=\"onRequest\" xlink:href=\"psysml:ef775355-9069-4551-a021-5839d9673f3d\" xlink:show=\"new\" xlink:title=\"psysml:ef775355-9069-4551-a021-5839d9673f3d\" xlink:type=\"simple\"><rect fill=\"#FFFFFF\" filter=\"url(#f5se5zwe40xjq)\" height=\"239\" id=\"E10\" rx=\"10\" ry=\"10\" style=\"stroke: #A80036; stroke-width: 1.5;\" width=\"138\" x=\"362\" y=\"315\"/><rect fill=\"#FEFECE\" height=\"37.9375\" rx=\"10\" ry=\"10\" style=\"stroke: #FEFECE; stroke-width: 1.5;\" width=\"138\" x=\"362\" y=\"315\"/><rect fill=\"#FEFECE\" height=\"10\" style=\"stroke: #FEFECE; stroke-width: 1.5;\" width=\"138\" x=\"362\" y=\"342.9375\"/><rect fill=\"none\" height=\"239\" id=\"E10\" rx=\"10\" ry=\"10\" style=\"stroke: #A80036; stroke-width: 1.5;\" width=\"138\" x=\"362\" y=\"315\"/><text fill=\"#000000\" font-family=\"sans-serif\" font-size=\"12\" font-style=\"italic\" lengthAdjust=\"spacingAndGlyphs\" textLength=\"64\" x=\"399\" y=\"331.1387\">«analysis»</text><text fill=\"#000000\" font-family=\"sans-serif\" font-size=\"12\" lengthAdjust=\"spacingAndGlyphs\" textLength=\"81\" x=\"390.5\" y=\"345.1074\">analysisCase</text><line style=\"stroke: #A80036; stroke-width: 1.0;\" x1=\"362\" x2=\"500\" y1=\"352.9375\" y2=\"352.9375\"/></a><!--MD5=[b4997ac47864f28c2f74865a473b2911]\n",
       "class E2--><a href=\"psysml:df856138-3406-4a6b-b583-20ed5eacc0cd\" target=\"_top\" title=\"psysml:df856138-3406-4a6b-b583-20ed5eacc0cd\" xlink:actuate=\"onRequest\" xlink:href=\"psysml:df856138-3406-4a6b-b583-20ed5eacc0cd\" xlink:show=\"new\" xlink:title=\"psysml:df856138-3406-4a6b-b583-20ed5eacc0cd\" xlink:type=\"simple\"><rect fill=\"#FEFECE\" filter=\"url(#f5se5zwe40xjq)\" height=\"45.9375\" id=\"E2\" style=\"stroke: #A80036; stroke-width: 1.5;\" width=\"66\" x=\"568\" y=\"169\"/><text fill=\"#000000\" font-family=\"sans-serif\" font-size=\"12\" font-style=\"italic\" lengthAdjust=\"spacingAndGlyphs\" textLength=\"64\" x=\"569\" y=\"185.1387\">«part def»</text><text fill=\"#000000\" font-family=\"sans-serif\" font-size=\"12\" lengthAdjust=\"spacingAndGlyphs\" textLength=\"8\" x=\"597\" y=\"199.1074\">V</text><line style=\"stroke: #A80036; stroke-width: 1.5;\" x1=\"569\" x2=\"633\" y1=\"206.9375\" y2=\"206.9375\"/></a><!--MD5=[09b614a08d8cba4a07c9adeb5e0fee81]\n",
       "class E3--><a href=\"psysml:a14948af-c637-432a-b299-badb5d3ced27\" target=\"_top\" title=\"psysml:a14948af-c637-432a-b299-badb5d3ced27\" xlink:actuate=\"onRequest\" xlink:href=\"psysml:a14948af-c637-432a-b299-badb5d3ced27\" xlink:show=\"new\" xlink:title=\"psysml:a14948af-c637-432a-b299-badb5d3ced27\" xlink:type=\"simple\"><rect fill=\"#FEFECE\" filter=\"url(#f5se5zwe40xjq)\" height=\"45.9375\" id=\"E3\" rx=\"10\" ry=\"10\" style=\"stroke: #A80036; stroke-width: 1.5;\" width=\"42\" x=\"580\" y=\"51.5\"/><text fill=\"#000000\" font-family=\"sans-serif\" font-size=\"12\" font-style=\"italic\" lengthAdjust=\"spacingAndGlyphs\" textLength=\"40\" x=\"581\" y=\"67.6387\">«part»</text><text fill=\"#000000\" font-family=\"sans-serif\" font-size=\"12\" lengthAdjust=\"spacingAndGlyphs\" textLength=\"28\" x=\"587\" y=\"81.6074\">vv: V</text><line style=\"stroke: #A80036; stroke-width: 1.5;\" x1=\"581\" x2=\"621\" y1=\"89.4375\" y2=\"89.4375\"/></a><!--MD5=[ebbe1d658d1005bcc118a6aa81145e00]\n",
       "class E4--><a href=\"psysml:b06c710d-6070-489f-855d-95835f572a57\" target=\"_top\" title=\"psysml:b06c710d-6070-489f-855d-95835f572a57\" xlink:actuate=\"onRequest\" xlink:href=\"psysml:b06c710d-6070-489f-855d-95835f572a57\" xlink:show=\"new\" xlink:title=\"psysml:b06c710d-6070-489f-855d-95835f572a57\" xlink:type=\"simple\"><rect fill=\"#FEFECE\" filter=\"url(#f5se5zwe40xjq)\" height=\"66.7422\" id=\"E4\" style=\"stroke: #A80036; stroke-width: 1.5;\" width=\"117\" x=\"315.5\" y=\"41\"/><text fill=\"#000000\" font-family=\"sans-serif\" font-size=\"12\" font-style=\"italic\" lengthAdjust=\"spacingAndGlyphs\" textLength=\"115\" x=\"316.5\" y=\"57.1387\">«requirement def»</text><text fill=\"#000000\" font-family=\"sans-serif\" font-size=\"12\" lengthAdjust=\"spacingAndGlyphs\" textLength=\"107\" x=\"320.5\" y=\"71.1074\">AnalysisObjective</text><line style=\"stroke: #A80036; stroke-width: 1.5;\" x1=\"316.5\" x2=\"431.5\" y1=\"78.9375\" y2=\"78.9375\"/><text fill=\"#000000\" font-family=\"sans-serif\" font-size=\"11\" lengthAdjust=\"spacingAndGlyphs\" textLength=\"12\" x=\"321.5\" y=\"93.1479\">...</text><line style=\"stroke: #A80036; stroke-width: 1.0;\" x1=\"316.5\" x2=\"431.5\" y1=\"99.7422\" y2=\"99.7422\"/></a><!--MD5=[bee11217b2f71d958a27249dc326068c]\n",
       "class E14--><a href=\"psysml:e127547d-9ca6-4380-b459-796effe0b56f\" target=\"_top\" title=\"psysml:e127547d-9ca6-4380-b459-796effe0b56f\" xlink:actuate=\"onRequest\" xlink:href=\"psysml:e127547d-9ca6-4380-b459-796effe0b56f\" xlink:show=\"new\" xlink:title=\"psysml:e127547d-9ca6-4380-b459-796effe0b56f\" xlink:type=\"simple\"><rect fill=\"#FEFECE\" filter=\"url(#f5se5zwe40xjq)\" height=\"45.9375\" id=\"E14\" rx=\"10\" ry=\"10\" style=\"stroke: #A80036; stroke-width: 1.5;\" width=\"104\" x=\"64\" y=\"51.5\"/><text fill=\"#000000\" font-family=\"sans-serif\" font-size=\"12\" font-style=\"italic\" lengthAdjust=\"spacingAndGlyphs\" textLength=\"40\" x=\"96\" y=\"67.6387\">«part»</text><text fill=\"#000000\" font-family=\"sans-serif\" font-size=\"12\" lengthAdjust=\"spacingAndGlyphs\" textLength=\"98\" x=\"67\" y=\"81.6074\">analysisContext</text><line style=\"stroke: #A80036; stroke-width: 1.5;\" x1=\"65\" x2=\"167\" y1=\"89.4375\" y2=\"89.4375\"/></a><!--MD5=[0c48fb7552dae8cbbef69381101a84c8]\n",
       "class E15--><a href=\"psysml:26b0c0e9-c7c6-4e19-b68b-97e4f04c11f8\" target=\"_top\" title=\"psysml:26b0c0e9-c7c6-4e19-b68b-97e4f04c11f8\" xlink:actuate=\"onRequest\" xlink:href=\"psysml:26b0c0e9-c7c6-4e19-b68b-97e4f04c11f8\" xlink:show=\"new\" xlink:title=\"psysml:26b0c0e9-c7c6-4e19-b68b-97e4f04c11f8\" xlink:type=\"simple\"><rect fill=\"#FEFECE\" filter=\"url(#f5se5zwe40xjq)\" height=\"45.9375\" id=\"E15\" rx=\"10\" ry=\"10\" style=\"stroke: #A80036; stroke-width: 1.5;\" width=\"168\" x=\"32\" y=\"169\"/><text fill=\"#000000\" font-family=\"sans-serif\" font-size=\"12\" font-style=\"italic\" lengthAdjust=\"spacingAndGlyphs\" textLength=\"64\" x=\"84\" y=\"185.1387\">«analysis»</text><text fill=\"#000000\" font-family=\"sans-serif\" font-size=\"12\" lengthAdjust=\"spacingAndGlyphs\" textLength=\"162\" x=\"35\" y=\"199.1074\">analysisPlan: AnalysisPlan</text><line style=\"stroke: #A80036; stroke-width: 1.5;\" x1=\"33\" x2=\"199\" y1=\"206.9375\" y2=\"206.9375\"/></a><!--MD5=[35f0587eaee8d5bb9a02e25b63afc23b]\n",
       "class E16--><a href=\"psysml:a55f605c-cc05-4fcd-b9b1-1e930756e010\" target=\"_top\" title=\"psysml:a55f605c-cc05-4fcd-b9b1-1e930756e010\" xlink:actuate=\"onRequest\" xlink:href=\"psysml:a55f605c-cc05-4fcd-b9b1-1e930756e010\" xlink:show=\"new\" xlink:title=\"psysml:a55f605c-cc05-4fcd-b9b1-1e930756e010\" xlink:type=\"simple\"><rect fill=\"#FEFECE\" filter=\"url(#f5se5zwe40xjq)\" height=\"45.9375\" id=\"E16\" rx=\"10\" ry=\"10\" style=\"stroke: #A80036; stroke-width: 1.5;\" width=\"93\" x=\"69.5\" y=\"292\"/><text fill=\"#000000\" font-family=\"sans-serif\" font-size=\"12\" font-style=\"italic\" lengthAdjust=\"spacingAndGlyphs\" textLength=\"91\" x=\"70.5\" y=\"308.1387\">«requirement»</text><text fill=\"#000000\" font-family=\"sans-serif\" font-size=\"12\" lengthAdjust=\"spacingAndGlyphs\" textLength=\"19\" x=\"106.5\" y=\"322.1074\">obj</text><line style=\"stroke: #A80036; stroke-width: 1.5;\" x1=\"70.5\" x2=\"161.5\" y1=\"329.9375\" y2=\"329.9375\"/></a><text fill=\"#000000\" font-family=\"sans-serif\" font-size=\"14\" lengthAdjust=\"spacingAndGlyphs\" textLength=\"7\" x=\"722.5\" y=\"53.1982\">v</text><rect fill=\"#A80036\" height=\"12\" style=\"stroke: #FEFECE; stroke-width: 1.5;\" width=\"12\" x=\"720\" y=\"68.5\"/><text fill=\"#000000\" font-family=\"sans-serif\" font-size=\"14\" lengthAdjust=\"spacingAndGlyphs\" textLength=\"39\" x=\"706.5\" y=\"392.9951\">result</text><rect fill=\"#A80036\" height=\"12\" style=\"stroke: #FEFECE; stroke-width: 1.5;\" width=\"12\" x=\"720\" y=\"368\"/><text fill=\"#000000\" font-family=\"sans-serif\" font-size=\"14\" lengthAdjust=\"spacingAndGlyphs\" textLength=\"7\" x=\"293.5\" y=\"170.6982\">v</text><rect fill=\"#A80036\" height=\"12\" style=\"stroke: #FEFECE; stroke-width: 1.5;\" width=\"12\" x=\"291\" y=\"186\"/><text fill=\"#000000\" font-family=\"sans-serif\" font-size=\"14\" lengthAdjust=\"spacingAndGlyphs\" textLength=\"39\" x=\"518.5\" y=\"499.9951\">result</text><rect fill=\"#A80036\" height=\"12\" style=\"stroke: #FEFECE; stroke-width: 1.5;\" width=\"12\" x=\"532\" y=\"475\"/><text fill=\"#000000\" font-family=\"sans-serif\" font-size=\"14\" lengthAdjust=\"spacingAndGlyphs\" textLength=\"37\" x=\"412.5\" y=\"572.9951\">mass</text><rect fill=\"#A80036\" height=\"12\" style=\"stroke: #FEFECE; stroke-width: 1.5;\" width=\"12\" x=\"425\" y=\"548\"/><text fill=\"#000000\" font-family=\"sans-serif\" font-size=\"14\" lengthAdjust=\"spacingAndGlyphs\" textLength=\"7\" x=\"427.5\" y=\"293.6982\">v</text><rect fill=\"#A80036\" height=\"12\" style=\"stroke: #FEFECE; stroke-width: 1.5;\" width=\"12\" x=\"425\" y=\"309\"/><!--MD5=[05d275557350bfb9b23a4ef7222b4c39]\n",
       "link E3 to E2--><a href=\"psysml:4553bbf6-343c-42bd-a219-72e0d50d2170\" target=\"_top\" title=\"psysml:4553bbf6-343c-42bd-a219-72e0d50d2170\" xlink:actuate=\"onRequest\" xlink:href=\"psysml:4553bbf6-343c-42bd-a219-72e0d50d2170\" xlink:show=\"new\" xlink:title=\"psysml:4553bbf6-343c-42bd-a219-72e0d50d2170\" xlink:type=\"simple\"><path d=\"M601,97.77 C601,112.15 601,131.32 601,148.54 \" fill=\"none\" id=\"E3-&gt;E2\" style=\"stroke: #A80036; stroke-width: 1.0;\"/><polygon fill=\"#FFFFFF\" points=\"601,168.8,594,149.8,608,149.8,601,168.8\" style=\"stroke: #A80036; stroke-width: 1.0;\"/><ellipse cx=\"596\" cy=\"144.1\" fill=\"#A80036\" rx=\"2\" ry=\"2\" style=\"stroke: #A80036; stroke-width: 1.0;\"/><ellipse cx=\"606\" cy=\"144.1\" fill=\"#A80036\" rx=\"2\" ry=\"2\" style=\"stroke: #A80036; stroke-width: 1.0;\"/></a><!--MD5=[17bf29720e4688890742b92d9a67fdf0]\n",
       "reverse link E14 to E15--><a href=\"psysml:cf81c84a-d20a-4a9d-8212-c3de89ec9ad0\" target=\"_top\" title=\"psysml:cf81c84a-d20a-4a9d-8212-c3de89ec9ad0\" xlink:actuate=\"onRequest\" xlink:href=\"psysml:cf81c84a-d20a-4a9d-8212-c3de89ec9ad0\" xlink:show=\"new\" xlink:title=\"psysml:cf81c84a-d20a-4a9d-8212-c3de89ec9ad0\" xlink:type=\"simple\"><path d=\"M116,110.99 C116,129.85 116,152.44 116,168.8 \" fill=\"none\" id=\"E14&lt;-E15\" style=\"stroke: #A80036; stroke-width: 1.0;\"/><polygon fill=\"#A80036\" points=\"116,97.77,112,103.77,116,109.77,120,103.77,116,97.77\" style=\"stroke: #A80036; stroke-width: 1.0;\"/></a><!--MD5=[1b01d5b954197aaf3899ca0bde35faf5]\n",
       "link E15 to E8--><a href=\"psysml:31ecf0da-b030-4520-be0f-3ece1376fb5f\" target=\"_top\" title=\"psysml:31ecf0da-b030-4520-be0f-3ece1376fb5f\" xlink:actuate=\"onRequest\" xlink:href=\"psysml:31ecf0da-b030-4520-be0f-3ece1376fb5f\" xlink:show=\"new\" xlink:title=\"psysml:31ecf0da-b030-4520-be0f-3ece1376fb5f\" xlink:type=\"simple\"><path d=\"M152.22,215.11 C166.86,224.19 183.85,234.93 199,245 C225.17,262.39 254.56,283.27 274.27,297.48 \" fill=\"none\" id=\"E15-&gt;E8\" style=\"stroke: #A80036; stroke-width: 1.0;\"/><polygon fill=\"#FFFFFF\" points=\"274.27,297.48,254.7641,292.0467,262.9515,280.6904,274.27,297.48\" style=\"stroke: #A80036; stroke-width: 1.0;\"/><ellipse cx=\"251.3101\" cy=\"287.0909\" fill=\"#A80036\" rx=\"2\" ry=\"2\" style=\"stroke: #A80036; stroke-width: 1.0;\"/><ellipse cx=\"257.1582\" cy=\"278.9793\" fill=\"#A80036\" rx=\"2\" ry=\"2\" style=\"stroke: #A80036; stroke-width: 1.0;\"/></a><!--MD5=[f8b155c46b092be73bb522b0a8fc72a2]\n",
       "link E15 to E16--><a href=\"psysml:aa3a7955-6ed3-447d-b0ee-a09ada8803a4\" target=\"_top\" title=\"psysml:aa3a7955-6ed3-447d-b0ee-a09ada8803a4\" xlink:actuate=\"onRequest\" xlink:href=\"psysml:aa3a7955-6ed3-447d-b0ee-a09ada8803a4\" xlink:show=\"new\" xlink:title=\"psysml:aa3a7955-6ed3-447d-b0ee-a09ada8803a4\" xlink:type=\"simple\"><path d=\"M116,215.19 C116,234.47 116,262.55 116,283.86 \" fill=\"none\" id=\"E15-&gt;E16\" style=\"stroke: #A80036; stroke-width: 1.0;\"/><polygon fill=\"#A80036\" points=\"116,291.95,119,283.95,113,283.95,116,291.95\" style=\"stroke: #A80036; stroke-width: 1.0;\"/><text fill=\"#000000\" font-family=\"sans-serif\" font-size=\"13\" lengthAdjust=\"spacingAndGlyphs\" textLength=\"73\" x=\"117\" y=\"258.0669\">«objective»</text><text fill=\"#000000\" font-family=\"sans-serif\" font-size=\"13\" lengthAdjust=\"spacingAndGlyphs\" textLength=\"8\" x=\"106.925\" y=\"280.8328\">1</text></a><!--MD5=[7b644b1a276ba086e7d916bec57f6122]\n",
       "@startuml\r\n",
       "skinparam wrapWidth 300\r\n",
       "hide circle\r\n",
       "\r\n",
       "package \"AnalysisTest\" as E1  [[psysml:f5546318-5597-445e-83af-957575abd1f7 ]]  {\r\n",
       "comp def \"V\" as E2  <<(T,blue) part def>> [[psysml:df856138-3406-4a6b-b583-20ed5eacc0cd ]] {\r\n",
       "}\r\n",
       "comp usage \"vv: V\" as E3  <<(T,blue) part>> [[psysml:a14948af-c637-432a-b299-badb5d3ced27 ]] {\r\n",
       "}\r\n",
       "comp def \"AnalysisObjective\" as E4  <<(T,blue) requirement def>> [[psysml:b06c710d-6070-489f-855d-95835f572a57 ]] {\r\n",
       "...\r\n",
       "- -\r\n",
       "}\r\n",
       "rec def \"AnalysisCase\" as E5 << analysis def>> [[psysml:e9833d01-8fa8-4820-af73-47d7be444de9 ]] {\r\n",
       "portin \"v\" as E6  [[psysml:fc36d359-2f0c-4a32-9d15-fff2be0a8869 ]] \r\n",
       "portout \"result\" as E7  [[psysml:7ffbe20f-c891-4b52-987b-0be8eb99b87a ]] \r\n",
       "}\r\n",
       "\r\n",
       "rec def \"AnalysisPlan\" as E8 << analysis def>> [[psysml:8a4520e8-ac51-4a2a-8007-cfc5f8084f42 ]] {\r\n",
       "portin \"v\" as E9  [[psysml:7635dc34-c4d2-4388-b045-3a6cac182eef ]] \r\n",
       "rec usage \"analysisCase\" as E10 << analysis>> [[psysml:ef775355-9069-4551-a021-5839d9673f3d ]] {\r\n",
       "portout \"mass\" as E11  [[psysml:56f340db-5793-4dc6-898e-9e0a5f90ef66 ]] \r\n",
       "portin \"v\" as E12  [[psysml:d8dc3b58-26c5-4e6e-82f3-a4f0880c0fd9 ]] \r\n",
       "}\r\n",
       "\r\n",
       "portout \"result\" as E13  [[psysml:55ba6aa8-4536-4622-ad3c-e7c6595a0034 ]] \r\n",
       "}\r\n",
       "\r\n",
       "comp usage \"analysisContext\" as E14  <<(T,blue) part>> [[psysml:e127547d-9ca6-4380-b459-796effe0b56f ]] {\r\n",
       "}\r\n",
       "comp usage \"analysisPlan: AnalysisPlan\" as E15 << analysis>> [[psysml:26b0c0e9-c7c6-4e19-b68b-97e4f04c11f8 ]] {\r\n",
       "}\r\n",
       "comp usage \"obj\" as E16  <<(T,blue) requirement>> [[psysml:a55f605c-cc05-4fcd-b9b1-1e930756e010 ]] {\r\n",
       "}\r\n",
       "}\r\n",
       "E3 - -:|> E2 [[psysml:4553bbf6-343c-42bd-a219-72e0d50d2170 ]] \r\n",
       "E14 *- - E15 [[psysml:cf81c84a-d20a-4a9d-8212-c3de89ec9ad0 ]] \r\n",
       "E15 - -:|> E8 [[psysml:31ecf0da-b030-4520-be0f-3ece1376fb5f ]] \r\n",
       "E15 - ->> \"1\"E16 [[psysml:aa3a7955-6ed3-447d-b0ee-a09ada8803a4 ]] : <<objective>>\r\n",
       "@enduml\r\n",
       "\n",
       "PlantUML version 1.2020.13(Sat Jun 13 12:26:38 UTC 2020)\n",
       "(EPL source distribution)\n",
       "Java Runtime: OpenJDK Runtime Environment\n",
       "JVM: OpenJDK 64-Bit Server VM\n",
       "Default Encoding: UTF-8\n",
       "Language: en\n",
       "Country: null\n",
       "--></g></svg>"
      ]
     },
     "execution_count": 29,
     "metadata": {},
     "output_type": "execute_result"
    }
   ],
   "source": [
    "%viz --style=\"STDCOLOR\" --view=\"MIXED\" \"AnalysisTest\""
   ]
  },
  {
   "cell_type": "code",
   "execution_count": 30,
   "id": "1659976c",
   "metadata": {
    "execution": {
     "iopub.execute_input": "2021-09-27T07:15:30.645088Z",
     "iopub.status.busy": "2021-09-27T07:15:30.644680Z",
     "iopub.status.idle": "2021-09-27T07:15:30.724702Z",
     "shell.execute_reply": "2021-09-27T07:15:30.724444Z"
    }
   },
   "outputs": [
    {
     "data": {
      "image/svg+xml": [
       "<?xml version=\"1.0\" encoding=\"UTF-8\" standalone=\"no\"?><svg xmlns=\"http://www.w3.org/2000/svg\" xmlns:xlink=\"http://www.w3.org/1999/xlink\" contentScriptType=\"application/ecmascript\" contentStyleType=\"text/css\" height=\"628px\" preserveAspectRatio=\"none\" style=\"width:837px;height:628px;\" version=\"1.1\" viewBox=\"0 0 837 628\" width=\"837px\" zoomAndPan=\"magnify\"><defs><filter height=\"300%\" id=\"f9zf5on6tjhpp\" width=\"300%\" x=\"-1\" y=\"-1\"><feGaussianBlur result=\"blurOut\" stdDeviation=\"2.0\"/><feColorMatrix in=\"blurOut\" result=\"blurOut2\" type=\"matrix\" values=\"0 0 0 0 0 0 0 0 0 0 0 0 0 0 0 0 0 0 .4 0\"/><feOffset dx=\"4.0\" dy=\"4.0\" in=\"blurOut2\" result=\"blurOut3\"/><feBlend in=\"SourceGraphic\" in2=\"blurOut3\" mode=\"normal\"/></filter></defs><g><!--MD5=[fbc87193dbaf4d95561dea2c320d4a47]\n",
       "cluster E1--><a href=\"psysml:f5546318-5597-445e-83af-957575abd1f7\" target=\"_top\" title=\"psysml:f5546318-5597-445e-83af-957575abd1f7\" xlink:actuate=\"onRequest\" xlink:href=\"psysml:f5546318-5597-445e-83af-957575abd1f7\" xlink:show=\"new\" xlink:title=\"psysml:f5546318-5597-445e-83af-957575abd1f7\" xlink:type=\"simple\"><polygon fill=\"#FFFFFF\" filter=\"url(#f9zf5on6tjhpp)\" points=\"16,6,108,6,115,28.2969,815,28.2969,815,616,16,616,16,6\" style=\"stroke: #000000; stroke-width: 1.5;\"/><line style=\"stroke: #000000; stroke-width: 1.5;\" x1=\"16\" x2=\"115\" y1=\"28.2969\" y2=\"28.2969\"/><text fill=\"#000000\" font-family=\"sans-serif\" font-size=\"14\" font-weight=\"bold\" lengthAdjust=\"spacingAndGlyphs\" textLength=\"86\" x=\"20\" y=\"20.9951\">AnalysisTest</text></a><!--MD5=[de5ec2e2e8f62f467e546659f5068c88]\n",
       "cluster E5--><a href=\"psysml:e9833d01-8fa8-4820-af73-47d7be444de9\" target=\"_top\" title=\"psysml:e9833d01-8fa8-4820-af73-47d7be444de9\" xlink:actuate=\"onRequest\" xlink:href=\"psysml:e9833d01-8fa8-4820-af73-47d7be444de9\" xlink:show=\"new\" xlink:title=\"psysml:e9833d01-8fa8-4820-af73-47d7be444de9\" xlink:type=\"simple\"><rect fill=\"#FFFFFF\" filter=\"url(#f9zf5on6tjhpp)\" height=\"299.5\" id=\"E5\" style=\"stroke: #A80036; stroke-width: 1.5;\" width=\"146\" x=\"653\" y=\"74.5\"/><rect fill=\"#FEFECE\" height=\"37.9375\" style=\"stroke: #A80036; stroke-width: 1.5;\" width=\"146\" x=\"653\" y=\"74.5\"/><text fill=\"#000000\" font-family=\"sans-serif\" font-size=\"12\" font-style=\"italic\" lengthAdjust=\"spacingAndGlyphs\" textLength=\"88\" x=\"682\" y=\"90.6387\">«analysis def»</text><text fill=\"#000000\" font-family=\"sans-serif\" font-size=\"12\" lengthAdjust=\"spacingAndGlyphs\" textLength=\"81\" x=\"685.5\" y=\"104.6074\">AnalysisCase</text></a><!--MD5=[55dfccfc6c49c2d10cd1bd2211a6c90c]\n",
       "cluster E8--><a href=\"psysml:8a4520e8-ac51-4a2a-8007-cfc5f8084f42\" target=\"_top\" title=\"psysml:8a4520e8-ac51-4a2a-8007-cfc5f8084f42\" xlink:actuate=\"onRequest\" xlink:href=\"psysml:8a4520e8-ac51-4a2a-8007-cfc5f8084f42\" xlink:show=\"new\" xlink:title=\"psysml:8a4520e8-ac51-4a2a-8007-cfc5f8084f42\" xlink:type=\"simple\"><rect fill=\"#FFFFFF\" filter=\"url(#f9zf5on6tjhpp)\" height=\"400\" id=\"E8\" style=\"stroke: #A80036; stroke-width: 1.5;\" width=\"259\" x=\"305\" y=\"192\"/><rect fill=\"#FEFECE\" height=\"37.9375\" style=\"stroke: #A80036; stroke-width: 1.5;\" width=\"259\" x=\"305\" y=\"192\"/><text fill=\"#000000\" font-family=\"sans-serif\" font-size=\"12\" font-style=\"italic\" lengthAdjust=\"spacingAndGlyphs\" textLength=\"88\" x=\"390.5\" y=\"208.1387\">«analysis def»</text><text fill=\"#000000\" font-family=\"sans-serif\" font-size=\"12\" lengthAdjust=\"spacingAndGlyphs\" textLength=\"77\" x=\"396\" y=\"222.1074\">AnalysisPlan</text></a><!--MD5=[a84b4591f868c1fa4a211716a82f2f0d]\n",
       "cluster E10--><a href=\"psysml:ef775355-9069-4551-a021-5839d9673f3d\" target=\"_top\" title=\"psysml:ef775355-9069-4551-a021-5839d9673f3d\" xlink:actuate=\"onRequest\" xlink:href=\"psysml:ef775355-9069-4551-a021-5839d9673f3d\" xlink:show=\"new\" xlink:title=\"psysml:ef775355-9069-4551-a021-5839d9673f3d\" xlink:type=\"simple\"><rect fill=\"#FFFFFF\" filter=\"url(#f9zf5on6tjhpp)\" height=\"239\" id=\"E10\" rx=\"10\" ry=\"10\" style=\"stroke: #A80036; stroke-width: 1.5;\" width=\"138\" x=\"388\" y=\"315\"/><rect fill=\"#FEFECE\" height=\"37.9375\" rx=\"10\" ry=\"10\" style=\"stroke: #FEFECE; stroke-width: 1.5;\" width=\"138\" x=\"388\" y=\"315\"/><rect fill=\"#FEFECE\" height=\"10\" style=\"stroke: #FEFECE; stroke-width: 1.5;\" width=\"138\" x=\"388\" y=\"342.9375\"/><rect fill=\"none\" height=\"239\" id=\"E10\" rx=\"10\" ry=\"10\" style=\"stroke: #A80036; stroke-width: 1.5;\" width=\"138\" x=\"388\" y=\"315\"/><text fill=\"#000000\" font-family=\"sans-serif\" font-size=\"12\" font-style=\"italic\" lengthAdjust=\"spacingAndGlyphs\" textLength=\"64\" x=\"425\" y=\"331.1387\">«analysis»</text><text fill=\"#000000\" font-family=\"sans-serif\" font-size=\"12\" lengthAdjust=\"spacingAndGlyphs\" textLength=\"81\" x=\"416.5\" y=\"345.1074\">analysisCase</text><line style=\"stroke: #A80036; stroke-width: 1.0;\" x1=\"388\" x2=\"526\" y1=\"352.9375\" y2=\"352.9375\"/></a><!--MD5=[b4997ac47864f28c2f74865a473b2911]\n",
       "class E2--><a href=\"psysml:df856138-3406-4a6b-b583-20ed5eacc0cd\" target=\"_top\" title=\"psysml:df856138-3406-4a6b-b583-20ed5eacc0cd\" xlink:actuate=\"onRequest\" xlink:href=\"psysml:df856138-3406-4a6b-b583-20ed5eacc0cd\" xlink:show=\"new\" xlink:title=\"psysml:df856138-3406-4a6b-b583-20ed5eacc0cd\" xlink:type=\"simple\"><rect fill=\"#FEFECE\" filter=\"url(#f9zf5on6tjhpp)\" height=\"40\" id=\"E2\" style=\"stroke: #A80036; stroke-width: 1.5;\" width=\"40\" x=\"594\" y=\"172\"/><ellipse cx=\"609\" cy=\"188\" fill=\"#008000\" rx=\"11\" ry=\"11\" style=\"stroke: #A80036; stroke-width: 1.0;\"/><path d=\"M605.875,193 L605.875,182.4063 L609.1094,182.4063 Q611.0156,182.4063 611.9219,183.1563 Q612.8438,183.9063 612.8438,185.0781 Q612.8438,185.7656 612.4531,186.4219 Q612.0781,187.0781 611.3594,187.375 Q612.2188,187.75 612.7344,188.4375 Q613.25,189.125 613.25,189.9375 Q613.25,191.3125 612.2188,192.1563 Q611.2031,193 609.0938,193 L605.875,193 Z M607.7969,186.6406 L608.9531,186.6406 Q610.0781,186.6406 610.4844,186.2656 Q610.9063,185.875 610.9063,185.25 Q610.9063,184.6719 610.4844,184.3125 Q610.0625,183.9531 609.125,183.9531 L607.7969,183.9531 L607.7969,186.6406 Z M607.7969,191.4219 L609.2969,191.4219 Q610.2031,191.4219 610.7344,191.0313 Q611.2656,190.6406 611.2656,189.8906 Q611.2656,189.125 610.7656,188.6563 Q610.2656,188.1719 609,188.1719 L607.7969,188.1719 L607.7969,191.4219 Z \"/><text fill=\"#000000\" font-family=\"sans-serif\" font-size=\"12\" lengthAdjust=\"spacingAndGlyphs\" textLength=\"8\" x=\"623\" y=\"192.1543\">V</text><line style=\"stroke: #A80036; stroke-width: 1.5;\" x1=\"595\" x2=\"633\" y1=\"204\" y2=\"204\"/></a><!--MD5=[09b614a08d8cba4a07c9adeb5e0fee81]\n",
       "class E3--><a href=\"psysml:a14948af-c637-432a-b299-badb5d3ced27\" target=\"_top\" title=\"psysml:a14948af-c637-432a-b299-badb5d3ced27\" xlink:actuate=\"onRequest\" xlink:href=\"psysml:a14948af-c637-432a-b299-badb5d3ced27\" xlink:show=\"new\" xlink:title=\"psysml:a14948af-c637-432a-b299-badb5d3ced27\" xlink:type=\"simple\"><rect fill=\"#FEFECE\" filter=\"url(#f9zf5on6tjhpp)\" height=\"45.9375\" id=\"E3\" rx=\"10\" ry=\"10\" style=\"stroke: #A80036; stroke-width: 1.5;\" width=\"68\" x=\"577\" y=\"51.5\"/><ellipse cx=\"592\" cy=\"70.4688\" fill=\"#32CD32\" rx=\"11\" ry=\"11\" style=\"stroke: #A80036; stroke-width: 1.0;\"/><path d=\"M588.8125,75.4688 L588.8125,64.875 L592.4219,64.875 Q593.6406,64.875 594.4375,65.3125 Q595.2344,65.7344 595.6094,66.4375 Q596,67.1406 596,67.9844 Q596,68.8281 595.625,69.5156 Q595.2656,70.2031 594.4688,70.625 Q593.6875,71.0313 592.5,71.0313 L590.7656,71.0313 L590.7656,75.4688 L588.8125,75.4688 Z M590.7656,69.4375 L592.375,69.4375 Q593.1875,69.4375 593.6094,69.0313 Q594.0313,68.625 594.0313,67.9844 Q594.0313,67.3594 593.6094,66.9531 Q593.1875,66.5469 592.3906,66.5469 L590.7656,66.5469 L590.7656,69.4375 Z \"/><text fill=\"#000000\" font-family=\"sans-serif\" font-size=\"12\" font-style=\"italic\" lengthAdjust=\"spacingAndGlyphs\" textLength=\"40\" x=\"604\" y=\"67.6387\">«part»</text><text fill=\"#000000\" font-family=\"sans-serif\" font-size=\"12\" lengthAdjust=\"spacingAndGlyphs\" textLength=\"28\" x=\"610\" y=\"81.6074\">vv: V</text><line style=\"stroke: #A80036; stroke-width: 1.5;\" x1=\"578\" x2=\"644\" y1=\"89.4375\" y2=\"89.4375\"/></a><!--MD5=[ebbe1d658d1005bcc118a6aa81145e00]\n",
       "class E4--><a href=\"psysml:b06c710d-6070-489f-855d-95835f572a57\" target=\"_top\" title=\"psysml:b06c710d-6070-489f-855d-95835f572a57\" xlink:actuate=\"onRequest\" xlink:href=\"psysml:b06c710d-6070-489f-855d-95835f572a57\" xlink:show=\"new\" xlink:title=\"psysml:b06c710d-6070-489f-855d-95835f572a57\" xlink:type=\"simple\"><rect fill=\"#FEFECE\" filter=\"url(#f9zf5on6tjhpp)\" height=\"66.7422\" id=\"E4\" style=\"stroke: #A80036; stroke-width: 1.5;\" width=\"143\" x=\"314.5\" y=\"41\"/><ellipse cx=\"329.5\" cy=\"59.9688\" fill=\"#A52A2A\" rx=\"11\" ry=\"11\" style=\"stroke: #A80036; stroke-width: 1.0;\"/><path d=\"M326.7188,64.9688 L326.7188,54.375 L329.4531,54.375 Q330.8438,54.375 331.6094,54.7656 Q332.3906,55.1406 332.9219,55.8438 Q333.4531,56.5469 333.75,57.5469 Q334.0469,58.5313 334.0469,59.75 Q334,61.3438 333.5,62.5313 Q333.0156,63.7031 331.9688,64.3438 Q330.9375,64.9688 329.25,64.9688 L326.7188,64.9688 Z M328.5781,63.4688 L329.2031,63.4688 Q330.2813,63.4688 330.9375,63.0156 Q331.5938,62.5625 331.875,61.7344 Q332.1719,60.8906 332.1563,59.7656 Q332.1563,58.5938 331.9063,57.7344 Q331.6563,56.8594 331.0469,56.3906 Q330.4375,55.9063 329.3906,55.9063 L328.5781,55.9063 L328.5781,63.4688 Z \"/><text fill=\"#000000\" font-family=\"sans-serif\" font-size=\"12\" font-style=\"italic\" lengthAdjust=\"spacingAndGlyphs\" textLength=\"115\" x=\"341.5\" y=\"57.1387\">«requirement def»</text><text fill=\"#000000\" font-family=\"sans-serif\" font-size=\"12\" lengthAdjust=\"spacingAndGlyphs\" textLength=\"107\" x=\"345.5\" y=\"71.1074\">AnalysisObjective</text><line style=\"stroke: #A80036; stroke-width: 1.5;\" x1=\"315.5\" x2=\"456.5\" y1=\"78.9375\" y2=\"78.9375\"/><text fill=\"#000000\" font-family=\"sans-serif\" font-size=\"11\" lengthAdjust=\"spacingAndGlyphs\" textLength=\"12\" x=\"320.5\" y=\"93.1479\">...</text><line style=\"stroke: #A80036; stroke-width: 1.0;\" x1=\"315.5\" x2=\"456.5\" y1=\"99.7422\" y2=\"99.7422\"/></a><!--MD5=[bee11217b2f71d958a27249dc326068c]\n",
       "class E14--><a href=\"psysml:e127547d-9ca6-4380-b459-796effe0b56f\" target=\"_top\" title=\"psysml:e127547d-9ca6-4380-b459-796effe0b56f\" xlink:actuate=\"onRequest\" xlink:href=\"psysml:e127547d-9ca6-4380-b459-796effe0b56f\" xlink:show=\"new\" xlink:title=\"psysml:e127547d-9ca6-4380-b459-796effe0b56f\" xlink:type=\"simple\"><rect fill=\"#FEFECE\" filter=\"url(#f9zf5on6tjhpp)\" height=\"45.9375\" id=\"E14\" rx=\"10\" ry=\"10\" style=\"stroke: #A80036; stroke-width: 1.5;\" width=\"130\" x=\"64\" y=\"51.5\"/><ellipse cx=\"79\" cy=\"70.4688\" fill=\"#32CD32\" rx=\"11\" ry=\"11\" style=\"stroke: #A80036; stroke-width: 1.0;\"/><path d=\"M75.8125,75.4688 L75.8125,64.875 L79.4219,64.875 Q80.6406,64.875 81.4375,65.3125 Q82.2344,65.7344 82.6094,66.4375 Q83,67.1406 83,67.9844 Q83,68.8281 82.625,69.5156 Q82.2656,70.2031 81.4688,70.625 Q80.6875,71.0313 79.5,71.0313 L77.7656,71.0313 L77.7656,75.4688 L75.8125,75.4688 Z M77.7656,69.4375 L79.375,69.4375 Q80.1875,69.4375 80.6094,69.0313 Q81.0313,68.625 81.0313,67.9844 Q81.0313,67.3594 80.6094,66.9531 Q80.1875,66.5469 79.3906,66.5469 L77.7656,66.5469 L77.7656,69.4375 Z \"/><text fill=\"#000000\" font-family=\"sans-serif\" font-size=\"12\" font-style=\"italic\" lengthAdjust=\"spacingAndGlyphs\" textLength=\"40\" x=\"122\" y=\"67.6387\">«part»</text><text fill=\"#000000\" font-family=\"sans-serif\" font-size=\"12\" lengthAdjust=\"spacingAndGlyphs\" textLength=\"98\" x=\"93\" y=\"81.6074\">analysisContext</text><line style=\"stroke: #A80036; stroke-width: 1.5;\" x1=\"65\" x2=\"193\" y1=\"89.4375\" y2=\"89.4375\"/></a><!--MD5=[0c48fb7552dae8cbbef69381101a84c8]\n",
       "class E15--><a href=\"psysml:26b0c0e9-c7c6-4e19-b68b-97e4f04c11f8\" target=\"_top\" title=\"psysml:26b0c0e9-c7c6-4e19-b68b-97e4f04c11f8\" xlink:actuate=\"onRequest\" xlink:href=\"psysml:26b0c0e9-c7c6-4e19-b68b-97e4f04c11f8\" xlink:show=\"new\" xlink:title=\"psysml:26b0c0e9-c7c6-4e19-b68b-97e4f04c11f8\" xlink:type=\"simple\"><rect fill=\"#FEFECE\" filter=\"url(#f9zf5on6tjhpp)\" height=\"45.9375\" id=\"E15\" rx=\"10\" ry=\"10\" style=\"stroke: #A80036; stroke-width: 1.5;\" width=\"194\" x=\"32\" y=\"169\"/><ellipse cx=\"47\" cy=\"187.9688\" fill=\"#B6DBBB\" rx=\"11\" ry=\"11\" style=\"stroke: #A80036; stroke-width: 1.0;\"/><path d=\"M46.75,193.4375 Q45,193.4375 44.0469,192.4063 Q43.1094,191.3594 43.1094,189.5156 L43.1094,182.625 L45.1719,182.625 L45.1719,182.7813 Q45.0781,182.875 45.0469,183.0156 Q45.0313,183.1406 45.0313,183.4063 L45.0313,189.5313 Q45.0313,190.625 45.4063,191.25 Q45.7813,191.875 46.7656,191.875 Q47.75,191.875 48.1406,191.25 Q48.5313,190.625 48.5313,189.4844 L48.5313,182.625 L50.4063,182.625 L50.4063,189.4688 Q50.4063,191.5 49.375,192.4688 Q48.3594,193.4375 46.75,193.4375 Z \"/><text fill=\"#000000\" font-family=\"sans-serif\" font-size=\"12\" font-style=\"italic\" lengthAdjust=\"spacingAndGlyphs\" textLength=\"64\" x=\"110\" y=\"185.1387\">«analysis»</text><text fill=\"#000000\" font-family=\"sans-serif\" font-size=\"12\" lengthAdjust=\"spacingAndGlyphs\" textLength=\"162\" x=\"61\" y=\"199.1074\">analysisPlan: AnalysisPlan</text><line style=\"stroke: #A80036; stroke-width: 1.5;\" x1=\"33\" x2=\"225\" y1=\"206.9375\" y2=\"206.9375\"/></a><!--MD5=[35f0587eaee8d5bb9a02e25b63afc23b]\n",
       "class E16--><a href=\"psysml:a55f605c-cc05-4fcd-b9b1-1e930756e010\" target=\"_top\" title=\"psysml:a55f605c-cc05-4fcd-b9b1-1e930756e010\" xlink:actuate=\"onRequest\" xlink:href=\"psysml:a55f605c-cc05-4fcd-b9b1-1e930756e010\" xlink:show=\"new\" xlink:title=\"psysml:a55f605c-cc05-4fcd-b9b1-1e930756e010\" xlink:type=\"simple\"><rect fill=\"#FEFECE\" filter=\"url(#f9zf5on6tjhpp)\" height=\"45.9375\" id=\"E16\" rx=\"10\" ry=\"10\" style=\"stroke: #A80036; stroke-width: 1.5;\" width=\"119\" x=\"69.5\" y=\"292\"/><ellipse cx=\"84.5\" cy=\"310.9688\" fill=\"#FFA500\" rx=\"11\" ry=\"11\" style=\"stroke: #A80036; stroke-width: 1.0;\"/><path d=\"M84.25,316.4375 Q82.5,316.4375 81.5469,315.4063 Q80.6094,314.3594 80.6094,312.5156 L80.6094,305.625 L82.6719,305.625 L82.6719,305.7813 Q82.5781,305.875 82.5469,306.0156 Q82.5313,306.1406 82.5313,306.4063 L82.5313,312.5313 Q82.5313,313.625 82.9063,314.25 Q83.2813,314.875 84.2656,314.875 Q85.25,314.875 85.6406,314.25 Q86.0313,313.625 86.0313,312.4844 L86.0313,305.625 L87.9063,305.625 L87.9063,312.4688 Q87.9063,314.5 86.875,315.4688 Q85.8594,316.4375 84.25,316.4375 Z \"/><text fill=\"#000000\" font-family=\"sans-serif\" font-size=\"12\" font-style=\"italic\" lengthAdjust=\"spacingAndGlyphs\" textLength=\"91\" x=\"96.5\" y=\"308.1387\">«requirement»</text><text fill=\"#000000\" font-family=\"sans-serif\" font-size=\"12\" lengthAdjust=\"spacingAndGlyphs\" textLength=\"19\" x=\"132.5\" y=\"322.1074\">obj</text><line style=\"stroke: #A80036; stroke-width: 1.5;\" x1=\"70.5\" x2=\"187.5\" y1=\"329.9375\" y2=\"329.9375\"/></a><text fill=\"#000000\" font-family=\"sans-serif\" font-size=\"14\" lengthAdjust=\"spacingAndGlyphs\" textLength=\"7\" x=\"722.5\" y=\"53.1982\">v</text><rect fill=\"#A80036\" height=\"12\" style=\"stroke: #FEFECE; stroke-width: 1.5;\" width=\"12\" x=\"720\" y=\"68.5\"/><text fill=\"#000000\" font-family=\"sans-serif\" font-size=\"14\" lengthAdjust=\"spacingAndGlyphs\" textLength=\"39\" x=\"706.5\" y=\"392.9951\">result</text><rect fill=\"#A80036\" height=\"12\" style=\"stroke: #FEFECE; stroke-width: 1.5;\" width=\"12\" x=\"720\" y=\"368\"/><text fill=\"#000000\" font-family=\"sans-serif\" font-size=\"14\" lengthAdjust=\"spacingAndGlyphs\" textLength=\"7\" x=\"319.5\" y=\"170.6982\">v</text><rect fill=\"#A80036\" height=\"12\" style=\"stroke: #FEFECE; stroke-width: 1.5;\" width=\"12\" x=\"317\" y=\"186\"/><text fill=\"#000000\" font-family=\"sans-serif\" font-size=\"14\" lengthAdjust=\"spacingAndGlyphs\" textLength=\"39\" x=\"544.5\" y=\"499.9951\">result</text><rect fill=\"#A80036\" height=\"12\" style=\"stroke: #FEFECE; stroke-width: 1.5;\" width=\"12\" x=\"558\" y=\"475\"/><text fill=\"#000000\" font-family=\"sans-serif\" font-size=\"14\" lengthAdjust=\"spacingAndGlyphs\" textLength=\"37\" x=\"438.5\" y=\"572.9951\">mass</text><rect fill=\"#A80036\" height=\"12\" style=\"stroke: #FEFECE; stroke-width: 1.5;\" width=\"12\" x=\"451\" y=\"548\"/><text fill=\"#000000\" font-family=\"sans-serif\" font-size=\"14\" lengthAdjust=\"spacingAndGlyphs\" textLength=\"7\" x=\"453.5\" y=\"293.6982\">v</text><rect fill=\"#A80036\" height=\"12\" style=\"stroke: #FEFECE; stroke-width: 1.5;\" width=\"12\" x=\"451\" y=\"309\"/><!--MD5=[05d275557350bfb9b23a4ef7222b4c39]\n",
       "link E3 to E2--><a href=\"psysml:4553bbf6-343c-42bd-a219-72e0d50d2170\" target=\"_top\" title=\"psysml:4553bbf6-343c-42bd-a219-72e0d50d2170\" xlink:actuate=\"onRequest\" xlink:href=\"psysml:4553bbf6-343c-42bd-a219-72e0d50d2170\" xlink:show=\"new\" xlink:title=\"psysml:4553bbf6-343c-42bd-a219-72e0d50d2170\" xlink:type=\"simple\"><path d=\"M611.58,97.77 C611.98,113.06 612.51,133.76 612.98,151.77 \" fill=\"none\" id=\"E3-&gt;E2\" style=\"stroke: #A80036; stroke-width: 1.0;\"/><polygon fill=\"#FFFFFF\" points=\"613.5,171.86,606.0136,153.0464,620.0089,152.6862,613.5,171.86\" style=\"stroke: #A80036; stroke-width: 1.0;\"/><ellipse cx=\"607.8663\" cy=\"147.2968\" fill=\"#A80036\" rx=\"2\" ry=\"2\" style=\"stroke: #A80036; stroke-width: 1.0;\"/><ellipse cx=\"617.863\" cy=\"147.0396\" fill=\"#A80036\" rx=\"2\" ry=\"2\" style=\"stroke: #A80036; stroke-width: 1.0;\"/></a><!--MD5=[17bf29720e4688890742b92d9a67fdf0]\n",
       "reverse link E14 to E15--><a href=\"psysml:cf81c84a-d20a-4a9d-8212-c3de89ec9ad0\" target=\"_top\" title=\"psysml:cf81c84a-d20a-4a9d-8212-c3de89ec9ad0\" xlink:actuate=\"onRequest\" xlink:href=\"psysml:cf81c84a-d20a-4a9d-8212-c3de89ec9ad0\" xlink:show=\"new\" xlink:title=\"psysml:cf81c84a-d20a-4a9d-8212-c3de89ec9ad0\" xlink:type=\"simple\"><path d=\"M129,110.99 C129,129.85 129,152.44 129,168.8 \" fill=\"none\" id=\"E14&lt;-E15\" style=\"stroke: #A80036; stroke-width: 1.0;\"/><polygon fill=\"#A80036\" points=\"129,97.77,125,103.77,129,109.77,133,103.77,129,97.77\" style=\"stroke: #A80036; stroke-width: 1.0;\"/></a><!--MD5=[1b01d5b954197aaf3899ca0bde35faf5]\n",
       "link E15 to E8--><a href=\"psysml:31ecf0da-b030-4520-be0f-3ece1376fb5f\" target=\"_top\" title=\"psysml:31ecf0da-b030-4520-be0f-3ece1376fb5f\" xlink:actuate=\"onRequest\" xlink:href=\"psysml:31ecf0da-b030-4520-be0f-3ece1376fb5f\" xlink:show=\"new\" xlink:title=\"psysml:31ecf0da-b030-4520-be0f-3ece1376fb5f\" xlink:type=\"simple\"><path d=\"M164.58,215.19 C202.65,238.94 262.15,276.05 296.37,297.39 \" fill=\"none\" id=\"E15-&gt;E8\" style=\"stroke: #A80036; stroke-width: 1.0;\"/><polygon fill=\"#FFFFFF\" points=\"296.37,297.39,276.5439,293.2758,283.952,281.3964,296.37,297.39\" style=\"stroke: #A80036; stroke-width: 1.0;\"/><ellipse cx=\"272.7656\" cy=\"288.5626\" fill=\"#A80036\" rx=\"2\" ry=\"2\" style=\"stroke: #A80036; stroke-width: 1.0;\"/><ellipse cx=\"278.0571\" cy=\"280.0773\" fill=\"#A80036\" rx=\"2\" ry=\"2\" style=\"stroke: #A80036; stroke-width: 1.0;\"/></a><!--MD5=[f8b155c46b092be73bb522b0a8fc72a2]\n",
       "link E15 to E16--><a href=\"psysml:aa3a7955-6ed3-447d-b0ee-a09ada8803a4\" target=\"_top\" title=\"psysml:aa3a7955-6ed3-447d-b0ee-a09ada8803a4\" xlink:actuate=\"onRequest\" xlink:href=\"psysml:aa3a7955-6ed3-447d-b0ee-a09ada8803a4\" xlink:show=\"new\" xlink:title=\"psysml:aa3a7955-6ed3-447d-b0ee-a09ada8803a4\" xlink:type=\"simple\"><path d=\"M129,215.19 C129,234.47 129,262.55 129,283.86 \" fill=\"none\" id=\"E15-&gt;E16\" style=\"stroke: #A80036; stroke-width: 1.0;\"/><polygon fill=\"#A80036\" points=\"129,291.95,132,283.95,126,283.95,129,291.95\" style=\"stroke: #A80036; stroke-width: 1.0;\"/><text fill=\"#000000\" font-family=\"sans-serif\" font-size=\"13\" lengthAdjust=\"spacingAndGlyphs\" textLength=\"73\" x=\"130\" y=\"258.0669\">«objective»</text><text fill=\"#000000\" font-family=\"sans-serif\" font-size=\"13\" lengthAdjust=\"spacingAndGlyphs\" textLength=\"8\" x=\"119.925\" y=\"280.8328\">1</text></a><!--MD5=[6c9a4ee57a8392fbb92c257dead2faa2]\n",
       "@startuml\r\n",
       " \r\n",
       "package \"AnalysisTest\" as E1  [[psysml:f5546318-5597-445e-83af-957575abd1f7 ]]  {\r\n",
       "comp def \"V\" as E2 << << (B,green) >> [[psysml:df856138-3406-4a6b-b583-20ed5eacc0cd ]] {\r\n",
       "}\r\n",
       "comp usage \"vv: V\" as E3 << << (P,limegreen) part>> [[psysml:a14948af-c637-432a-b299-badb5d3ced27 ]] {\r\n",
       "}\r\n",
       "comp def \"AnalysisObjective\" as E4 << <<(D,brown) requirement def>> [[psysml:b06c710d-6070-489f-855d-95835f572a57 ]] {\r\n",
       "...\r\n",
       "- -\r\n",
       "}\r\n",
       "rec def \"AnalysisCase\" as E5 << analysis def>> [[psysml:e9833d01-8fa8-4820-af73-47d7be444de9 ]] {\r\n",
       "portin \"v\" as E6  [[psysml:fc36d359-2f0c-4a32-9d15-fff2be0a8869 ]] \r\n",
       "portout \"result\" as E7  [[psysml:7ffbe20f-c891-4b52-987b-0be8eb99b87a ]] \r\n",
       "}\r\n",
       "\r\n",
       "rec def \"AnalysisPlan\" as E8 << analysis def>> [[psysml:8a4520e8-ac51-4a2a-8007-cfc5f8084f42 ]] {\r\n",
       "portin \"v\" as E9  [[psysml:7635dc34-c4d2-4388-b045-3a6cac182eef ]] \r\n",
       "rec usage \"analysisCase\" as E10 << analysis>> [[psysml:ef775355-9069-4551-a021-5839d9673f3d ]] {\r\n",
       "portout \"mass\" as E11  [[psysml:56f340db-5793-4dc6-898e-9e0a5f90ef66 ]] \r\n",
       "portin \"v\" as E12  [[psysml:d8dc3b58-26c5-4e6e-82f3-a4f0880c0fd9 ]] \r\n",
       "}\r\n",
       "\r\n",
       "portout \"result\" as E13  [[psysml:55ba6aa8-4536-4622-ad3c-e7c6595a0034 ]] \r\n",
       "}\r\n",
       "\r\n",
       "comp usage \"analysisContext\" as E14 << << (P,limegreen) part>> [[psysml:e127547d-9ca6-4380-b459-796effe0b56f ]] {\r\n",
       "}\r\n",
       "comp usage \"analysisPlan: AnalysisPlan\" as E15 << analysis>> [[psysml:26b0c0e9-c7c6-4e19-b68b-97e4f04c11f8 ]] {\r\n",
       "}\r\n",
       "comp usage \"obj\" as E16 << <<(U,orange) requirement>> [[psysml:a55f605c-cc05-4fcd-b9b1-1e930756e010 ]] {\r\n",
       "}\r\n",
       "}\r\n",
       "E3 - -:|> E2 [[psysml:4553bbf6-343c-42bd-a219-72e0d50d2170 ]] \r\n",
       "E14 *- - E15 [[psysml:cf81c84a-d20a-4a9d-8212-c3de89ec9ad0 ]] \r\n",
       "E15 - -:|> E8 [[psysml:31ecf0da-b030-4520-be0f-3ece1376fb5f ]] \r\n",
       "E15 - ->> \"1\"E16 [[psysml:aa3a7955-6ed3-447d-b0ee-a09ada8803a4 ]] : <<objective>>\r\n",
       "@enduml\r\n",
       "\n",
       "PlantUML version 1.2020.13(Sat Jun 13 12:26:38 UTC 2020)\n",
       "(EPL source distribution)\n",
       "Java Runtime: OpenJDK Runtime Environment\n",
       "JVM: OpenJDK 64-Bit Server VM\n",
       "Default Encoding: UTF-8\n",
       "Language: en\n",
       "Country: null\n",
       "--></g></svg>"
      ]
     },
     "execution_count": 30,
     "metadata": {},
     "output_type": "execute_result"
    }
   ],
   "source": [
    "%viz --style=\"PLANTUML\" --view=\"Default\" \"AnalysisTest\""
   ]
  },
  {
   "cell_type": "code",
   "execution_count": 31,
   "id": "e958945d",
   "metadata": {
    "execution": {
     "iopub.execute_input": "2021-09-27T07:15:30.774607Z",
     "iopub.status.busy": "2021-09-27T07:15:30.774291Z",
     "iopub.status.idle": "2021-09-27T07:15:30.835695Z",
     "shell.execute_reply": "2021-09-27T07:15:30.835311Z"
    }
   },
   "outputs": [
    {
     "data": {
      "image/svg+xml": [
       "<?xml version=\"1.0\" encoding=\"UTF-8\" standalone=\"no\"?><svg xmlns=\"http://www.w3.org/2000/svg\" xmlns:xlink=\"http://www.w3.org/1999/xlink\" contentScriptType=\"application/ecmascript\" contentStyleType=\"text/css\" height=\"863px\" preserveAspectRatio=\"none\" style=\"width:481px;height:863px;\" version=\"1.1\" viewBox=\"0 0 481 863\" width=\"481px\" zoomAndPan=\"magnify\"><defs><filter height=\"300%\" id=\"f12nti444pta3g\" width=\"300%\" x=\"-1\" y=\"-1\"><feGaussianBlur result=\"blurOut\" stdDeviation=\"2.0\"/><feColorMatrix in=\"blurOut\" result=\"blurOut2\" type=\"matrix\" values=\"0 0 0 0 0 0 0 0 0 0 0 0 0 0 0 0 0 0 .4 0\"/><feOffset dx=\"4.0\" dy=\"4.0\" in=\"blurOut2\" result=\"blurOut3\"/><feBlend in=\"SourceGraphic\" in2=\"blurOut3\" mode=\"normal\"/></filter></defs><g><!--MD5=[fbc87193dbaf4d95561dea2c320d4a47]\n",
       "cluster E1--><a href=\"psysml:f5546318-5597-445e-83af-957575abd1f7\" target=\"_top\" title=\"psysml:f5546318-5597-445e-83af-957575abd1f7\" xlink:actuate=\"onRequest\" xlink:href=\"psysml:f5546318-5597-445e-83af-957575abd1f7\" xlink:show=\"new\" xlink:title=\"psysml:f5546318-5597-445e-83af-957575abd1f7\" xlink:type=\"simple\"><polygon fill=\"#FFFFFF\" filter=\"url(#f12nti444pta3g)\" points=\"16,6,108,6,115,28.2969,459,28.2969,459,851,16,851,16,6\" style=\"stroke: #000000; stroke-width: 1.5;\"/><line style=\"stroke: #000000; stroke-width: 1.5;\" x1=\"16\" x2=\"115\" y1=\"28.2969\" y2=\"28.2969\"/><text fill=\"#000000\" font-family=\"sans-serif\" font-size=\"14\" font-weight=\"bold\" lengthAdjust=\"spacingAndGlyphs\" textLength=\"86\" x=\"20\" y=\"20.9951\">AnalysisTest</text></a><!--MD5=[b4997ac47864f28c2f74865a473b2911]\n",
       "class E2--><a href=\"psysml:df856138-3406-4a6b-b583-20ed5eacc0cd\" target=\"_top\" title=\"psysml:df856138-3406-4a6b-b583-20ed5eacc0cd\" xlink:actuate=\"onRequest\" xlink:href=\"psysml:df856138-3406-4a6b-b583-20ed5eacc0cd\" xlink:show=\"new\" xlink:title=\"psysml:df856138-3406-4a6b-b583-20ed5eacc0cd\" xlink:type=\"simple\"><rect fill=\"#FEFECE\" filter=\"url(#f12nti444pta3g)\" height=\"40\" id=\"E2\" style=\"stroke: #A80036; stroke-width: 1.5;\" width=\"40\" x=\"202\" y=\"664\"/><ellipse cx=\"217\" cy=\"680\" fill=\"#008000\" rx=\"11\" ry=\"11\" style=\"stroke: #A80036; stroke-width: 1.0;\"/><path d=\"M213.875,685 L213.875,674.4063 L217.1094,674.4063 Q219.0156,674.4063 219.9219,675.1563 Q220.8438,675.9063 220.8438,677.0781 Q220.8438,677.7656 220.4531,678.4219 Q220.0781,679.0781 219.3594,679.375 Q220.2188,679.75 220.7344,680.4375 Q221.25,681.125 221.25,681.9375 Q221.25,683.3125 220.2188,684.1563 Q219.2031,685 217.0938,685 L213.875,685 Z M215.7969,678.6406 L216.9531,678.6406 Q218.0781,678.6406 218.4844,678.2656 Q218.9063,677.875 218.9063,677.25 Q218.9063,676.6719 218.4844,676.3125 Q218.0625,675.9531 217.125,675.9531 L215.7969,675.9531 L215.7969,678.6406 Z M215.7969,683.4219 L217.2969,683.4219 Q218.2031,683.4219 218.7344,683.0313 Q219.2656,682.6406 219.2656,681.8906 Q219.2656,681.125 218.7656,680.6563 Q218.2656,680.1719 217,680.1719 L215.7969,680.1719 L215.7969,683.4219 Z \"/><text fill=\"#000000\" font-family=\"sans-serif\" font-size=\"12\" lengthAdjust=\"spacingAndGlyphs\" textLength=\"8\" x=\"231\" y=\"684.1543\">V</text><line style=\"stroke: #A80036; stroke-width: 1.5;\" x1=\"203\" x2=\"241\" y1=\"696\" y2=\"696\"/></a><!--MD5=[09b614a08d8cba4a07c9adeb5e0fee81]\n",
       "class E3--><a href=\"psysml:a14948af-c637-432a-b299-badb5d3ced27\" target=\"_top\" title=\"psysml:a14948af-c637-432a-b299-badb5d3ced27\" xlink:actuate=\"onRequest\" xlink:href=\"psysml:a14948af-c637-432a-b299-badb5d3ced27\" xlink:show=\"new\" xlink:title=\"psysml:a14948af-c637-432a-b299-badb5d3ced27\" xlink:type=\"simple\"><rect fill=\"#FEFECE\" filter=\"url(#f12nti444pta3g)\" height=\"45.9375\" id=\"E3\" rx=\"10\" ry=\"10\" style=\"stroke: #A80036; stroke-width: 1.5;\" width=\"68\" x=\"224\" y=\"538\"/><ellipse cx=\"239\" cy=\"556.9688\" fill=\"#32CD32\" rx=\"11\" ry=\"11\" style=\"stroke: #A80036; stroke-width: 1.0;\"/><path d=\"M235.8125,561.9688 L235.8125,551.375 L239.4219,551.375 Q240.6406,551.375 241.4375,551.8125 Q242.2344,552.2344 242.6094,552.9375 Q243,553.6406 243,554.4844 Q243,555.3281 242.625,556.0156 Q242.2656,556.7031 241.4688,557.125 Q240.6875,557.5313 239.5,557.5313 L237.7656,557.5313 L237.7656,561.9688 L235.8125,561.9688 Z M237.7656,555.9375 L239.375,555.9375 Q240.1875,555.9375 240.6094,555.5313 Q241.0313,555.125 241.0313,554.4844 Q241.0313,553.8594 240.6094,553.4531 Q240.1875,553.0469 239.3906,553.0469 L237.7656,553.0469 L237.7656,555.9375 Z \"/><text fill=\"#000000\" font-family=\"sans-serif\" font-size=\"12\" font-style=\"italic\" lengthAdjust=\"spacingAndGlyphs\" textLength=\"40\" x=\"251\" y=\"554.1387\">«part»</text><text fill=\"#000000\" font-family=\"sans-serif\" font-size=\"12\" lengthAdjust=\"spacingAndGlyphs\" textLength=\"28\" x=\"257\" y=\"568.1074\">vv: V</text><line style=\"stroke: #A80036; stroke-width: 1.5;\" x1=\"225\" x2=\"291\" y1=\"575.9375\" y2=\"575.9375\"/></a><!--MD5=[ebbe1d658d1005bcc118a6aa81145e00]\n",
       "class E4--><a href=\"psysml:b06c710d-6070-489f-855d-95835f572a57\" target=\"_top\" title=\"psysml:b06c710d-6070-489f-855d-95835f572a57\" xlink:actuate=\"onRequest\" xlink:href=\"psysml:b06c710d-6070-489f-855d-95835f572a57\" xlink:show=\"new\" xlink:title=\"psysml:b06c710d-6070-489f-855d-95835f572a57\" xlink:type=\"simple\"><rect fill=\"#FEFECE\" filter=\"url(#f12nti444pta3g)\" height=\"66.7422\" id=\"E4\" style=\"stroke: #A80036; stroke-width: 1.5;\" width=\"143\" x=\"288.5\" y=\"768\"/><ellipse cx=\"303.5\" cy=\"786.9688\" fill=\"#A52A2A\" rx=\"11\" ry=\"11\" style=\"stroke: #A80036; stroke-width: 1.0;\"/><path d=\"M300.7188,791.9688 L300.7188,781.375 L303.4531,781.375 Q304.8438,781.375 305.6094,781.7656 Q306.3906,782.1406 306.9219,782.8438 Q307.4531,783.5469 307.75,784.5469 Q308.0469,785.5313 308.0469,786.75 Q308,788.3438 307.5,789.5313 Q307.0156,790.7031 305.9688,791.3438 Q304.9375,791.9688 303.25,791.9688 L300.7188,791.9688 Z M302.5781,790.4688 L303.2031,790.4688 Q304.2813,790.4688 304.9375,790.0156 Q305.5938,789.5625 305.875,788.7344 Q306.1719,787.8906 306.1563,786.7656 Q306.1563,785.5938 305.9063,784.7344 Q305.6563,783.8594 305.0469,783.3906 Q304.4375,782.9063 303.3906,782.9063 L302.5781,782.9063 L302.5781,790.4688 Z \"/><text fill=\"#000000\" font-family=\"sans-serif\" font-size=\"12\" font-style=\"italic\" lengthAdjust=\"spacingAndGlyphs\" textLength=\"115\" x=\"315.5\" y=\"784.1387\">«requirement def»</text><text fill=\"#000000\" font-family=\"sans-serif\" font-size=\"12\" lengthAdjust=\"spacingAndGlyphs\" textLength=\"107\" x=\"319.5\" y=\"798.1074\">AnalysisObjective</text><line style=\"stroke: #A80036; stroke-width: 1.5;\" x1=\"289.5\" x2=\"430.5\" y1=\"805.9375\" y2=\"805.9375\"/><text fill=\"#000000\" font-family=\"sans-serif\" font-size=\"11\" lengthAdjust=\"spacingAndGlyphs\" textLength=\"12\" x=\"294.5\" y=\"820.1479\">...</text><line style=\"stroke: #A80036; stroke-width: 1.0;\" x1=\"289.5\" x2=\"430.5\" y1=\"826.7422\" y2=\"826.7422\"/></a><!--MD5=[270fce915f116d4de14055a7c1d9a0f3]\n",
       "class E5--><a href=\"psysml:e9833d01-8fa8-4820-af73-47d7be444de9\" target=\"_top\" title=\"psysml:e9833d01-8fa8-4820-af73-47d7be444de9\" xlink:actuate=\"onRequest\" xlink:href=\"psysml:e9833d01-8fa8-4820-af73-47d7be444de9\" xlink:show=\"new\" xlink:title=\"psysml:e9833d01-8fa8-4820-af73-47d7be444de9\" xlink:type=\"simple\"><rect fill=\"#FEFECE\" filter=\"url(#f12nti444pta3g)\" height=\"45.9375\" id=\"E5\" style=\"stroke: #A80036; stroke-width: 1.5;\" width=\"116\" x=\"327\" y=\"538\"/><ellipse cx=\"342\" cy=\"556.9688\" fill=\"#ADD1B2\" rx=\"11\" ry=\"11\" style=\"stroke: #A80036; stroke-width: 1.0;\"/><path d=\"M341.75,562.1563 Q340.5938,562.1563 339.625,561.5938 Q338.6719,561.0156 338.0938,559.8125 Q337.5313,558.6094 337.5313,556.7344 Q337.5313,555.1719 337.9063,554.1094 Q338.2969,553.0469 338.9219,552.4219 Q339.5469,551.7813 340.2969,551.5 Q341.0625,551.2188 341.8125,551.2188 Q343,551.2188 343.8594,551.7656 Q344.7188,552.3125 345.1563,553.2969 L343.9531,554.2031 L343.8125,554.2813 L343.7344,554.1563 Q343.75,554.0313 343.7031,553.9063 Q343.6563,553.7813 343.5313,553.5313 Q343.1563,553.0938 342.75,552.9375 Q342.3594,552.7656 341.9063,552.7656 Q341.2656,552.7656 340.6875,553.2188 Q340.125,553.6563 339.7813,554.5156 Q339.4375,555.375 339.4375,556.6406 Q339.4375,558.4844 340.1094,559.5313 Q340.7813,560.5781 341.7969,560.5781 Q342.4219,560.5781 342.875,560.3125 Q343.3438,560.0313 343.7188,559.4063 L345.0469,560.3906 Q344.4531,561.3594 343.6406,561.7656 Q342.8281,562.1563 341.75,562.1563 Z \"/><text fill=\"#000000\" font-family=\"sans-serif\" font-size=\"12\" font-style=\"italic\" lengthAdjust=\"spacingAndGlyphs\" textLength=\"88\" x=\"354\" y=\"554.1387\">«analysis def»</text><text fill=\"#000000\" font-family=\"sans-serif\" font-size=\"12\" lengthAdjust=\"spacingAndGlyphs\" textLength=\"81\" x=\"357.5\" y=\"568.1074\">AnalysisCase</text><line style=\"stroke: #A80036; stroke-width: 1.5;\" x1=\"328\" x2=\"442\" y1=\"575.9375\" y2=\"575.9375\"/></a><!--MD5=[60a26617385b1d2d0262a64233df1f8d]\n",
       "class E6--><a href=\"psysml:5d02fb37-4730-4ed2-b0a0-8fa990128639\" target=\"_top\" title=\"psysml:5d02fb37-4730-4ed2-b0a0-8fa990128639\" xlink:actuate=\"onRequest\" xlink:href=\"psysml:5d02fb37-4730-4ed2-b0a0-8fa990128639\" xlink:show=\"new\" xlink:title=\"psysml:5d02fb37-4730-4ed2-b0a0-8fa990128639\" xlink:type=\"simple\"><rect fill=\"#FEFECE\" filter=\"url(#f12nti444pta3g)\" height=\"45.9375\" id=\"E6\" rx=\"10\" ry=\"10\" style=\"stroke: #A80036; stroke-width: 1.5;\" width=\"166\" x=\"277\" y=\"661\"/><ellipse cx=\"292\" cy=\"679.9688\" fill=\"#FFA500\" rx=\"11\" ry=\"11\" style=\"stroke: #A80036; stroke-width: 1.0;\"/><path d=\"M291.75,685.4375 Q290,685.4375 289.0469,684.4063 Q288.1094,683.3594 288.1094,681.5156 L288.1094,674.625 L290.1719,674.625 L290.1719,674.7813 Q290.0781,674.875 290.0469,675.0156 Q290.0313,675.1406 290.0313,675.4063 L290.0313,681.5313 Q290.0313,682.625 290.4063,683.25 Q290.7813,683.875 291.7656,683.875 Q292.75,683.875 293.1406,683.25 Q293.5313,682.625 293.5313,681.4844 L293.5313,674.625 L295.4063,674.625 L295.4063,681.4688 Q295.4063,683.5 294.375,684.4688 Q293.3594,685.4375 291.75,685.4375 Z \"/><text fill=\"#000000\" font-family=\"sans-serif\" font-size=\"12\" font-style=\"italic\" lengthAdjust=\"spacingAndGlyphs\" textLength=\"91\" x=\"327.5\" y=\"677.1387\">«requirement»</text><text fill=\"#000000\" font-family=\"sans-serif\" font-size=\"12\" lengthAdjust=\"spacingAndGlyphs\" textLength=\"134\" x=\"306\" y=\"691.1074\">obj: AnalysisObjective</text><line style=\"stroke: #A80036; stroke-width: 1.5;\" x1=\"278\" x2=\"442\" y1=\"698.9375\" y2=\"698.9375\"/></a><!--MD5=[2156ba9850f5573cc1fc38a6a4b2f02b]\n",
       "class E7--><a href=\"psysml:8a4520e8-ac51-4a2a-8007-cfc5f8084f42\" target=\"_top\" title=\"psysml:8a4520e8-ac51-4a2a-8007-cfc5f8084f42\" xlink:actuate=\"onRequest\" xlink:href=\"psysml:8a4520e8-ac51-4a2a-8007-cfc5f8084f42\" xlink:show=\"new\" xlink:title=\"psysml:8a4520e8-ac51-4a2a-8007-cfc5f8084f42\" xlink:type=\"simple\"><rect fill=\"#FEFECE\" filter=\"url(#f12nti444pta3g)\" height=\"45.9375\" id=\"E7\" style=\"stroke: #A80036; stroke-width: 1.5;\" width=\"116\" x=\"88\" y=\"271\"/><ellipse cx=\"103\" cy=\"289.9688\" fill=\"#ADD1B2\" rx=\"11\" ry=\"11\" style=\"stroke: #A80036; stroke-width: 1.0;\"/><path d=\"M102.75,295.1563 Q101.5938,295.1563 100.625,294.5938 Q99.6719,294.0156 99.0938,292.8125 Q98.5313,291.6094 98.5313,289.7344 Q98.5313,288.1719 98.9063,287.1094 Q99.2969,286.0469 99.9219,285.4219 Q100.5469,284.7813 101.2969,284.5 Q102.0625,284.2188 102.8125,284.2188 Q104,284.2188 104.8594,284.7656 Q105.7188,285.3125 106.1563,286.2969 L104.9531,287.2031 L104.8125,287.2813 L104.7344,287.1563 Q104.75,287.0313 104.7031,286.9063 Q104.6563,286.7813 104.5313,286.5313 Q104.1563,286.0938 103.75,285.9375 Q103.3594,285.7656 102.9063,285.7656 Q102.2656,285.7656 101.6875,286.2188 Q101.125,286.6563 100.7813,287.5156 Q100.4375,288.375 100.4375,289.6406 Q100.4375,291.4844 101.1094,292.5313 Q101.7813,293.5781 102.7969,293.5781 Q103.4219,293.5781 103.875,293.3125 Q104.3438,293.0313 104.7188,292.4063 L106.0469,293.3906 Q105.4531,294.3594 104.6406,294.7656 Q103.8281,295.1563 102.75,295.1563 Z \"/><text fill=\"#000000\" font-family=\"sans-serif\" font-size=\"12\" font-style=\"italic\" lengthAdjust=\"spacingAndGlyphs\" textLength=\"88\" x=\"115\" y=\"287.1387\">«analysis def»</text><text fill=\"#000000\" font-family=\"sans-serif\" font-size=\"12\" lengthAdjust=\"spacingAndGlyphs\" textLength=\"77\" x=\"120.5\" y=\"301.1074\">AnalysisPlan</text><line style=\"stroke: #A80036; stroke-width: 1.5;\" x1=\"89\" x2=\"203\" y1=\"308.9375\" y2=\"308.9375\"/></a><!--MD5=[b9389687b975829384b498ac4b7476b2]\n",
       "class E8--><a href=\"psysml:c9e778b5-528f-48e8-8904-91782dcf8fb6\" target=\"_top\" title=\"psysml:c9e778b5-528f-48e8-8904-91782dcf8fb6\" xlink:actuate=\"onRequest\" xlink:href=\"psysml:c9e778b5-528f-48e8-8904-91782dcf8fb6\" xlink:show=\"new\" xlink:title=\"psysml:c9e778b5-528f-48e8-8904-91782dcf8fb6\" xlink:type=\"simple\"><rect fill=\"#FEFECE\" filter=\"url(#f12nti444pta3g)\" height=\"66.7422\" id=\"E8\" rx=\"10\" ry=\"10\" style=\"stroke: #A80036; stroke-width: 1.5;\" width=\"119\" x=\"86.5\" y=\"394\"/><ellipse cx=\"101.5\" cy=\"412.9688\" fill=\"#FFA500\" rx=\"11\" ry=\"11\" style=\"stroke: #A80036; stroke-width: 1.0;\"/><path d=\"M101.25,418.4375 Q99.5,418.4375 98.5469,417.4063 Q97.6094,416.3594 97.6094,414.5156 L97.6094,407.625 L99.6719,407.625 L99.6719,407.7813 Q99.5781,407.875 99.5469,408.0156 Q99.5313,408.1406 99.5313,408.4063 L99.5313,414.5313 Q99.5313,415.625 99.9063,416.25 Q100.2813,416.875 101.2656,416.875 Q102.25,416.875 102.6406,416.25 Q103.0313,415.625 103.0313,414.4844 L103.0313,407.625 L104.9063,407.625 L104.9063,414.4688 Q104.9063,416.5 103.875,417.4688 Q102.8594,418.4375 101.25,418.4375 Z \"/><text fill=\"#000000\" font-family=\"sans-serif\" font-size=\"12\" font-style=\"italic\" lengthAdjust=\"spacingAndGlyphs\" textLength=\"91\" x=\"113.5\" y=\"410.1387\">«requirement»</text><text fill=\"#000000\" font-family=\"sans-serif\" font-size=\"12\" lengthAdjust=\"spacingAndGlyphs\" textLength=\"19\" x=\"149.5\" y=\"424.1074\">obj</text><line style=\"stroke: #A80036; stroke-width: 1.5;\" x1=\"87.5\" x2=\"204.5\" y1=\"431.9375\" y2=\"431.9375\"/><text fill=\"#000000\" font-family=\"sans-serif\" font-size=\"11\" lengthAdjust=\"spacingAndGlyphs\" textLength=\"12\" x=\"92.5\" y=\"446.1479\">...</text><line style=\"stroke: #A80036; stroke-width: 1.0;\" x1=\"87.5\" x2=\"204.5\" y1=\"452.7422\" y2=\"452.7422\"/></a><!--MD5=[fd4143e9d270a159db93a4ea2a975926]\n",
       "class E9--><a href=\"psysml:ef775355-9069-4551-a021-5839d9673f3d\" target=\"_top\" title=\"psysml:ef775355-9069-4551-a021-5839d9673f3d\" xlink:actuate=\"onRequest\" xlink:href=\"psysml:ef775355-9069-4551-a021-5839d9673f3d\" xlink:show=\"new\" xlink:title=\"psysml:ef775355-9069-4551-a021-5839d9673f3d\" xlink:type=\"simple\"><rect fill=\"#FEFECE\" filter=\"url(#f12nti444pta3g)\" height=\"45.9375\" id=\"E9\" rx=\"10\" ry=\"10\" style=\"stroke: #A80036; stroke-width: 1.5;\" width=\"202\" x=\"241\" y=\"404.5\"/><ellipse cx=\"256\" cy=\"423.4688\" fill=\"#B6DBBB\" rx=\"11\" ry=\"11\" style=\"stroke: #A80036; stroke-width: 1.0;\"/><path d=\"M255.75,428.9375 Q254,428.9375 253.0469,427.9063 Q252.1094,426.8594 252.1094,425.0156 L252.1094,418.125 L254.1719,418.125 L254.1719,418.2813 Q254.0781,418.375 254.0469,418.5156 Q254.0313,418.6406 254.0313,418.9063 L254.0313,425.0313 Q254.0313,426.125 254.4063,426.75 Q254.7813,427.375 255.7656,427.375 Q256.75,427.375 257.1406,426.75 Q257.5313,426.125 257.5313,424.9844 L257.5313,418.125 L259.4063,418.125 L259.4063,424.9688 Q259.4063,427 258.375,427.9688 Q257.3594,428.9375 255.75,428.9375 Z \"/><text fill=\"#000000\" font-family=\"sans-serif\" font-size=\"12\" font-style=\"italic\" lengthAdjust=\"spacingAndGlyphs\" textLength=\"64\" x=\"323\" y=\"420.6387\">«analysis»</text><text fill=\"#000000\" font-family=\"sans-serif\" font-size=\"12\" lengthAdjust=\"spacingAndGlyphs\" textLength=\"170\" x=\"270\" y=\"434.6074\">analysisCase: AnalysisCase</text><line style=\"stroke: #A80036; stroke-width: 1.5;\" x1=\"242\" x2=\"442\" y1=\"442.4375\" y2=\"442.4375\"/></a><!--MD5=[96f4274e9e20536e775497830990834d]\n",
       "class E10--><a href=\"psysml:37fc8968-437f-41f6-96b6-577444b5c586\" target=\"_top\" title=\"psysml:37fc8968-437f-41f6-96b6-577444b5c586\" xlink:actuate=\"onRequest\" xlink:href=\"psysml:37fc8968-437f-41f6-96b6-577444b5c586\" xlink:show=\"new\" xlink:title=\"psysml:37fc8968-437f-41f6-96b6-577444b5c586\" xlink:type=\"simple\"><rect fill=\"#FEFECE\" filter=\"url(#f12nti444pta3g)\" height=\"45.9375\" id=\"E10\" rx=\"10\" ry=\"10\" style=\"stroke: #A80036; stroke-width: 1.5;\" width=\"119\" x=\"69.5\" y=\"538\"/><ellipse cx=\"84.5\" cy=\"556.9688\" fill=\"#FFA500\" rx=\"11\" ry=\"11\" style=\"stroke: #A80036; stroke-width: 1.0;\"/><path d=\"M84.25,562.4375 Q82.5,562.4375 81.5469,561.4063 Q80.6094,560.3594 80.6094,558.5156 L80.6094,551.625 L82.6719,551.625 L82.6719,551.7813 Q82.5781,551.875 82.5469,552.0156 Q82.5313,552.1406 82.5313,552.4063 L82.5313,558.5313 Q82.5313,559.625 82.9063,560.25 Q83.2813,560.875 84.2656,560.875 Q85.25,560.875 85.6406,560.25 Q86.0313,559.625 86.0313,558.4844 L86.0313,551.625 L87.9063,551.625 L87.9063,558.4688 Q87.9063,560.5 86.875,561.4688 Q85.8594,562.4375 84.25,562.4375 Z \"/><text fill=\"#000000\" font-family=\"sans-serif\" font-size=\"12\" font-style=\"italic\" lengthAdjust=\"spacingAndGlyphs\" textLength=\"91\" x=\"96.5\" y=\"554.1387\">«requirement»</text><text fill=\"#000000\" font-family=\"sans-serif\" font-size=\"12\" lengthAdjust=\"spacingAndGlyphs\" textLength=\"19\" x=\"132.5\" y=\"568.1074\">obj</text><line style=\"stroke: #A80036; stroke-width: 1.5;\" x1=\"70.5\" x2=\"187.5\" y1=\"575.9375\" y2=\"575.9375\"/></a><!--MD5=[1dd1bfd58a279cf63c5f349dbc8fc6a1]\n",
       "class E11--><a href=\"psysml:e127547d-9ca6-4380-b459-796effe0b56f\" target=\"_top\" title=\"psysml:e127547d-9ca6-4380-b459-796effe0b56f\" xlink:actuate=\"onRequest\" xlink:href=\"psysml:e127547d-9ca6-4380-b459-796effe0b56f\" xlink:show=\"new\" xlink:title=\"psysml:e127547d-9ca6-4380-b459-796effe0b56f\" xlink:type=\"simple\"><rect fill=\"#FEFECE\" filter=\"url(#f12nti444pta3g)\" height=\"45.9375\" id=\"E11\" rx=\"10\" ry=\"10\" style=\"stroke: #A80036; stroke-width: 1.5;\" width=\"130\" x=\"157\" y=\"41\"/><ellipse cx=\"172\" cy=\"59.9688\" fill=\"#32CD32\" rx=\"11\" ry=\"11\" style=\"stroke: #A80036; stroke-width: 1.0;\"/><path d=\"M168.8125,64.9688 L168.8125,54.375 L172.4219,54.375 Q173.6406,54.375 174.4375,54.8125 Q175.2344,55.2344 175.6094,55.9375 Q176,56.6406 176,57.4844 Q176,58.3281 175.625,59.0156 Q175.2656,59.7031 174.4688,60.125 Q173.6875,60.5313 172.5,60.5313 L170.7656,60.5313 L170.7656,64.9688 L168.8125,64.9688 Z M170.7656,58.9375 L172.375,58.9375 Q173.1875,58.9375 173.6094,58.5313 Q174.0313,58.125 174.0313,57.4844 Q174.0313,56.8594 173.6094,56.4531 Q173.1875,56.0469 172.3906,56.0469 L170.7656,56.0469 L170.7656,58.9375 Z \"/><text fill=\"#000000\" font-family=\"sans-serif\" font-size=\"12\" font-style=\"italic\" lengthAdjust=\"spacingAndGlyphs\" textLength=\"40\" x=\"215\" y=\"57.1387\">«part»</text><text fill=\"#000000\" font-family=\"sans-serif\" font-size=\"12\" lengthAdjust=\"spacingAndGlyphs\" textLength=\"98\" x=\"186\" y=\"71.1074\">analysisContext</text><line style=\"stroke: #A80036; stroke-width: 1.5;\" x1=\"158\" x2=\"286\" y1=\"78.9375\" y2=\"78.9375\"/></a><!--MD5=[49a0ec8f00dab7302a31f22d0f0fe584]\n",
       "class E12--><a href=\"psysml:26b0c0e9-c7c6-4e19-b68b-97e4f04c11f8\" target=\"_top\" title=\"psysml:26b0c0e9-c7c6-4e19-b68b-97e4f04c11f8\" xlink:actuate=\"onRequest\" xlink:href=\"psysml:26b0c0e9-c7c6-4e19-b68b-97e4f04c11f8\" xlink:show=\"new\" xlink:title=\"psysml:26b0c0e9-c7c6-4e19-b68b-97e4f04c11f8\" xlink:type=\"simple\"><rect fill=\"#FEFECE\" filter=\"url(#f12nti444pta3g)\" height=\"45.9375\" id=\"E12\" rx=\"10\" ry=\"10\" style=\"stroke: #A80036; stroke-width: 1.5;\" width=\"194\" x=\"125\" y=\"148\"/><ellipse cx=\"140\" cy=\"166.9688\" fill=\"#B6DBBB\" rx=\"11\" ry=\"11\" style=\"stroke: #A80036; stroke-width: 1.0;\"/><path d=\"M139.75,172.4375 Q138,172.4375 137.0469,171.4063 Q136.1094,170.3594 136.1094,168.5156 L136.1094,161.625 L138.1719,161.625 L138.1719,161.7813 Q138.0781,161.875 138.0469,162.0156 Q138.0313,162.1406 138.0313,162.4063 L138.0313,168.5313 Q138.0313,169.625 138.4063,170.25 Q138.7813,170.875 139.7656,170.875 Q140.75,170.875 141.1406,170.25 Q141.5313,169.625 141.5313,168.4844 L141.5313,161.625 L143.4063,161.625 L143.4063,168.4688 Q143.4063,170.5 142.375,171.4688 Q141.3594,172.4375 139.75,172.4375 Z \"/><text fill=\"#000000\" font-family=\"sans-serif\" font-size=\"12\" font-style=\"italic\" lengthAdjust=\"spacingAndGlyphs\" textLength=\"64\" x=\"203\" y=\"164.1387\">«analysis»</text><text fill=\"#000000\" font-family=\"sans-serif\" font-size=\"12\" lengthAdjust=\"spacingAndGlyphs\" textLength=\"162\" x=\"154\" y=\"178.1074\">analysisPlan: AnalysisPlan</text><line style=\"stroke: #A80036; stroke-width: 1.5;\" x1=\"126\" x2=\"318\" y1=\"185.9375\" y2=\"185.9375\"/></a><!--MD5=[ee3c913d1a06f366521f9ef512b67efe]\n",
       "class E13--><a href=\"psysml:a55f605c-cc05-4fcd-b9b1-1e930756e010\" target=\"_top\" title=\"psysml:a55f605c-cc05-4fcd-b9b1-1e930756e010\" xlink:actuate=\"onRequest\" xlink:href=\"psysml:a55f605c-cc05-4fcd-b9b1-1e930756e010\" xlink:show=\"new\" xlink:title=\"psysml:a55f605c-cc05-4fcd-b9b1-1e930756e010\" xlink:type=\"simple\"><rect fill=\"#FEFECE\" filter=\"url(#f12nti444pta3g)\" height=\"45.9375\" id=\"E13\" rx=\"10\" ry=\"10\" style=\"stroke: #A80036; stroke-width: 1.5;\" width=\"119\" x=\"239.5\" y=\"271\"/><ellipse cx=\"254.5\" cy=\"289.9688\" fill=\"#FFA500\" rx=\"11\" ry=\"11\" style=\"stroke: #A80036; stroke-width: 1.0;\"/><path d=\"M254.25,295.4375 Q252.5,295.4375 251.5469,294.4063 Q250.6094,293.3594 250.6094,291.5156 L250.6094,284.625 L252.6719,284.625 L252.6719,284.7813 Q252.5781,284.875 252.5469,285.0156 Q252.5313,285.1406 252.5313,285.4063 L252.5313,291.5313 Q252.5313,292.625 252.9063,293.25 Q253.2813,293.875 254.2656,293.875 Q255.25,293.875 255.6406,293.25 Q256.0313,292.625 256.0313,291.4844 L256.0313,284.625 L257.9063,284.625 L257.9063,291.4688 Q257.9063,293.5 256.875,294.4688 Q255.8594,295.4375 254.25,295.4375 Z \"/><text fill=\"#000000\" font-family=\"sans-serif\" font-size=\"12\" font-style=\"italic\" lengthAdjust=\"spacingAndGlyphs\" textLength=\"91\" x=\"266.5\" y=\"287.1387\">«requirement»</text><text fill=\"#000000\" font-family=\"sans-serif\" font-size=\"12\" lengthAdjust=\"spacingAndGlyphs\" textLength=\"19\" x=\"302.5\" y=\"301.1074\">obj</text><line style=\"stroke: #A80036; stroke-width: 1.5;\" x1=\"240.5\" x2=\"357.5\" y1=\"308.9375\" y2=\"308.9375\"/></a><!--MD5=[05d275557350bfb9b23a4ef7222b4c39]\n",
       "link E3 to E2--><a href=\"psysml:4553bbf6-343c-42bd-a219-72e0d50d2170\" target=\"_top\" title=\"psysml:4553bbf6-343c-42bd-a219-72e0d50d2170\" xlink:actuate=\"onRequest\" xlink:href=\"psysml:4553bbf6-343c-42bd-a219-72e0d50d2170\" xlink:show=\"new\" xlink:title=\"psysml:4553bbf6-343c-42bd-a219-72e0d50d2170\" xlink:type=\"simple\"><path d=\"M241.66,584.2 C236.01,593.04 230.28,603.57 227,614 C224.04,623.4 222.46,633.87 221.69,643.76 \" fill=\"none\" id=\"E3-&gt;E2\" style=\"stroke: #A80036; stroke-width: 1.0;\"/><polygon fill=\"#FFFFFF\" points=\"221.05,663.82,214.6645,644.6048,228.6572,645.0549,221.05,663.82\" style=\"stroke: #A80036; stroke-width: 1.0;\"/><ellipse cx=\"216.8467\" cy=\"638.972\" fill=\"#A80036\" rx=\"2\" ry=\"2\" style=\"stroke: #A80036; stroke-width: 1.0;\"/><ellipse cx=\"226.8415\" cy=\"639.2935\" fill=\"#A80036\" rx=\"2\" ry=\"2\" style=\"stroke: #A80036; stroke-width: 1.0;\"/></a><!--MD5=[15ebcb19ae302d9b601edb458606d402]\n",
       "link E5 to E2--><a href=\"psysml:55d14872-2cf4-45ef-b86e-776491343885\" target=\"_top\" title=\"psysml:55d14872-2cf4-45ef-b86e-776491343885\" xlink:actuate=\"onRequest\" xlink:href=\"psysml:55d14872-2cf4-45ef-b86e-776491343885\" xlink:show=\"new\" xlink:title=\"psysml:55d14872-2cf4-45ef-b86e-776491343885\" xlink:type=\"simple\"><path d=\"M345.04,584.06 C330.19,592.8 313.44,603.31 299,614 C279.85,628.18 259.85,646.21 245.04,660.28 \" fill=\"none\" id=\"E5-&gt;E2\" style=\"stroke: #A80036; stroke-width: 1.0; stroke-dasharray: 7.0,7.0;\"/><polygon fill=\"#A80036\" points=\"241.39,663.77,250.6655,660.4587,245.0103,660.3214,245.1477,654.6662,241.39,663.77\" style=\"stroke: #A80036; stroke-width: 1.0;\"/><text fill=\"#000000\" font-family=\"sans-serif\" font-size=\"13\" lengthAdjust=\"spacingAndGlyphs\" textLength=\"62\" x=\"300\" y=\"627.0669\">«subject»</text></a><!--MD5=[9120cf2e5df3bff93db8f754bbbc09b4]\n",
       "link E5 to E6--><a href=\"psysml:66eb83d5-c5e2-4f23-b460-3cc53e216041\" target=\"_top\" title=\"psysml:66eb83d5-c5e2-4f23-b460-3cc53e216041\" xlink:actuate=\"onRequest\" xlink:href=\"psysml:66eb83d5-c5e2-4f23-b460-3cc53e216041\" xlink:show=\"new\" xlink:title=\"psysml:66eb83d5-c5e2-4f23-b460-3cc53e216041\" xlink:type=\"simple\"><path d=\"M380.41,584.19 C376.43,603.47 370.63,631.55 366.23,652.86 \" fill=\"none\" id=\"E5-&gt;E6\" style=\"stroke: #A80036; stroke-width: 1.0;\"/><polygon fill=\"#A80036\" points=\"364.56,660.95,369.1112,653.7191,363.2344,652.5095,364.56,660.95\" style=\"stroke: #A80036; stroke-width: 1.0;\"/><text fill=\"#000000\" font-family=\"sans-serif\" font-size=\"13\" lengthAdjust=\"spacingAndGlyphs\" textLength=\"73\" x=\"374\" y=\"627.0669\">«objective»</text></a><!--MD5=[f667431f98296947986a1a7595a31603]\n",
       "link E6 to E4--><a href=\"psysml:35160ff3-34f1-44b9-93fc-42f4fb412225\" target=\"_top\" title=\"psysml:35160ff3-34f1-44b9-93fc-42f4fb412225\" xlink:actuate=\"onRequest\" xlink:href=\"psysml:35160ff3-34f1-44b9-93fc-42f4fb412225\" xlink:show=\"new\" xlink:title=\"psysml:35160ff3-34f1-44b9-93fc-42f4fb412225\" xlink:type=\"simple\"><path d=\"M360,707.27 C360,718.81 360,733.43 360,747.66 \" fill=\"none\" id=\"E6-&gt;E4\" style=\"stroke: #A80036; stroke-width: 1.0;\"/><polygon fill=\"#FFFFFF\" points=\"360,767.81,353,748.81,367,748.81,360,767.81\" style=\"stroke: #A80036; stroke-width: 1.0;\"/><ellipse cx=\"355\" cy=\"743.11\" fill=\"#A80036\" rx=\"2\" ry=\"2\" style=\"stroke: #A80036; stroke-width: 1.0;\"/><ellipse cx=\"365\" cy=\"743.11\" fill=\"#A80036\" rx=\"2\" ry=\"2\" style=\"stroke: #A80036; stroke-width: 1.0;\"/></a><!--MD5=[583832df87f4419a098336a29a52fa00]\n",
       "link E7 to E2--><a href=\"psysml:6c24e69d-02cf-4e90-8710-eea2d3fb6e80\" target=\"_top\" title=\"psysml:6c24e69d-02cf-4e90-8710-eea2d3fb6e80\" xlink:actuate=\"onRequest\" xlink:href=\"psysml:6c24e69d-02cf-4e90-8710-eea2d3fb6e80\" xlink:show=\"new\" xlink:title=\"psysml:6c24e69d-02cf-4e90-8710-eea2d3fb6e80\" xlink:type=\"simple\"><path d=\"M122.98,317.07 C105.05,335.76 81.23,364.19 69,394 C36.82,472.44 9.75,510.5 52,584 C83.36,638.55 157.62,665.86 196.8,676.88 \" fill=\"none\" id=\"E7-&gt;E2\" style=\"stroke: #A80036; stroke-width: 1.0; stroke-dasharray: 7.0,7.0;\"/><polygon fill=\"#A80036\" points=\"201.86,678.27,194.2484,672.0199,197.0402,676.9399,192.1202,679.7317,201.86,678.27\" style=\"stroke: #A80036; stroke-width: 1.0;\"/><text fill=\"#000000\" font-family=\"sans-serif\" font-size=\"13\" lengthAdjust=\"spacingAndGlyphs\" textLength=\"62\" x=\"33\" y=\"504.0669\">«subject»</text></a><!--MD5=[79bc8f324ef4d02c541433f2e6e513c3]\n",
       "link E7 to E8--><a href=\"psysml:5f63fe39-bd01-4e2f-b177-a256ca3547ed\" target=\"_top\" title=\"psysml:5f63fe39-bd01-4e2f-b177-a256ca3547ed\" xlink:actuate=\"onRequest\" xlink:href=\"psysml:5f63fe39-bd01-4e2f-b177-a256ca3547ed\" xlink:show=\"new\" xlink:title=\"psysml:5f63fe39-bd01-4e2f-b177-a256ca3547ed\" xlink:type=\"simple\"><path d=\"M146,317.01 C146,335.7 146,363.02 146,385.69 \" fill=\"none\" id=\"E7-&gt;E8\" style=\"stroke: #A80036; stroke-width: 1.0;\"/><polygon fill=\"#A80036\" points=\"146,393.81,149,385.81,143,385.81,146,393.81\" style=\"stroke: #A80036; stroke-width: 1.0;\"/><text fill=\"#000000\" font-family=\"sans-serif\" font-size=\"13\" lengthAdjust=\"spacingAndGlyphs\" textLength=\"73\" x=\"147\" y=\"360.0669\">«objective»</text><text fill=\"#000000\" font-family=\"sans-serif\" font-size=\"13\" lengthAdjust=\"spacingAndGlyphs\" textLength=\"8\" x=\"137.2125\" y=\"382.8061\">1</text></a><!--MD5=[e4a10ef82d0e328e31cac39a31e58dda]\n",
       "reverse link E7 to E9--><a href=\"psysml:0539f402-c799-478a-a763-36444c838111\" target=\"_top\" title=\"psysml:0539f402-c799-478a-a763-36444c838111\" xlink:actuate=\"onRequest\" xlink:href=\"psysml:0539f402-c799-478a-a763-36444c838111\" xlink:show=\"new\" xlink:title=\"psysml:0539f402-c799-478a-a763-36444c838111\" xlink:type=\"simple\"><path d=\"M193.57,324.2 C205.24,331.52 217.63,339.45 229,347 C257.37,365.85 289.04,388.25 311.61,404.46 \" fill=\"none\" id=\"E7&lt;-E9\" style=\"stroke: #A80036; stroke-width: 1.0;\"/><polygon fill=\"#A80036\" points=\"182.22,317.11,185.1911,323.6806,192.3989,323.4652,189.4279,316.8946,182.22,317.11\" style=\"stroke: #A80036; stroke-width: 1.0;\"/></a><!--MD5=[bfc3ddf2e613be37104f658f09af896c]\n",
       "link E9 to E5--><a href=\"psysml:5fa585d6-e8aa-4013-b88d-119f555331de\" target=\"_top\" title=\"psysml:5fa585d6-e8aa-4013-b88d-119f555331de\" xlink:actuate=\"onRequest\" xlink:href=\"psysml:5fa585d6-e8aa-4013-b88d-119f555331de\" xlink:show=\"new\" xlink:title=\"psysml:5fa585d6-e8aa-4013-b88d-119f555331de\" xlink:type=\"simple\"><path d=\"M349.2,450.51 C355.27,469.1 364.14,496.21 371.53,518.81 \" fill=\"none\" id=\"E9-&gt;E5\" style=\"stroke: #A80036; stroke-width: 1.0;\"/><polygon fill=\"#FFFFFF\" points=\"377.78,537.92,365.2239,522.0346,378.5313,517.6855,377.78,537.92\" style=\"stroke: #A80036; stroke-width: 1.0;\"/><ellipse cx=\"365.3543\" cy=\"515.9953\" fill=\"#A80036\" rx=\"2\" ry=\"2\" style=\"stroke: #A80036; stroke-width: 1.0;\"/><ellipse cx=\"374.8595\" cy=\"512.8888\" fill=\"#A80036\" rx=\"2\" ry=\"2\" style=\"stroke: #A80036; stroke-width: 1.0;\"/></a><!--MD5=[35e5f1cbde42fa304a029880aa2bc7f2]\n",
       "link E9 to E10--><a href=\"psysml:7fa56b0a-037d-44be-9e3a-456886c00dd1\" target=\"_top\" title=\"psysml:7fa56b0a-037d-44be-9e3a-456886c00dd1\" xlink:actuate=\"onRequest\" xlink:href=\"psysml:7fa56b0a-037d-44be-9e3a-456886c00dd1\" xlink:show=\"new\" xlink:title=\"psysml:7fa56b0a-037d-44be-9e3a-456886c00dd1\" xlink:type=\"simple\"><path d=\"M306.35,450.51 C269.33,473.36 211.42,509.11 171.92,533.5 \" fill=\"none\" id=\"E9-&gt;E10\" style=\"stroke: #A80036; stroke-width: 1.0;\"/><polygon fill=\"#A80036\" points=\"164.77,537.92,173.1519,536.2636,169.996,531.1606,164.77,537.92\" style=\"stroke: #A80036; stroke-width: 1.0;\"/><text fill=\"#000000\" font-family=\"sans-serif\" font-size=\"13\" lengthAdjust=\"spacingAndGlyphs\" textLength=\"73\" x=\"236\" y=\"504.0669\">«objective»</text></a><!--MD5=[94adabc162ce7e41b39f13be14fbaeb3]\n",
       "reverse link E11 to E12--><a href=\"psysml:cf81c84a-d20a-4a9d-8212-c3de89ec9ad0\" target=\"_top\" title=\"psysml:cf81c84a-d20a-4a9d-8212-c3de89ec9ad0\" xlink:actuate=\"onRequest\" xlink:href=\"psysml:cf81c84a-d20a-4a9d-8212-c3de89ec9ad0\" xlink:show=\"new\" xlink:title=\"psysml:cf81c84a-d20a-4a9d-8212-c3de89ec9ad0\" xlink:type=\"simple\"><path d=\"M222,100.05 C222,115.76 222,133.82 222,147.66 \" fill=\"none\" id=\"E11&lt;-E12\" style=\"stroke: #A80036; stroke-width: 1.0;\"/><polygon fill=\"#A80036\" points=\"222,87.01,218,93.01,222,99.01,226,93.01,222,87.01\" style=\"stroke: #A80036; stroke-width: 1.0;\"/></a><!--MD5=[ae660f5ecd7ddb04a8913625960940af]\n",
       "link E12 to E7--><a href=\"psysml:31ecf0da-b030-4520-be0f-3ece1376fb5f\" target=\"_top\" title=\"psysml:31ecf0da-b030-4520-be0f-3ece1376fb5f\" xlink:actuate=\"onRequest\" xlink:href=\"psysml:31ecf0da-b030-4520-be0f-3ece1376fb5f\" xlink:show=\"new\" xlink:title=\"psysml:31ecf0da-b030-4520-be0f-3ece1376fb5f\" xlink:type=\"simple\"><path d=\"M208.06,194.19 C197.62,210.82 183.05,234.01 170.65,253.75 \" fill=\"none\" id=\"E12-&gt;E7\" style=\"stroke: #A80036; stroke-width: 1.0;\"/><polygon fill=\"#FFFFFF\" points=\"159.85,270.95,164.017,251.135,175.8766,258.5747,159.85,270.95\" style=\"stroke: #A80036; stroke-width: 1.0;\"/><ellipse cx=\"168.7403\" cy=\"247.3692\" fill=\"#A80036\" rx=\"2\" ry=\"2\" style=\"stroke: #A80036; stroke-width: 1.0;\"/><ellipse cx=\"177.2114\" cy=\"252.6833\" fill=\"#A80036\" rx=\"2\" ry=\"2\" style=\"stroke: #A80036; stroke-width: 1.0;\"/></a><!--MD5=[e2a9ac97dcd3257bb5342dae06547bad]\n",
       "link E12 to E13--><a href=\"psysml:aa3a7955-6ed3-447d-b0ee-a09ada8803a4\" target=\"_top\" title=\"psysml:aa3a7955-6ed3-447d-b0ee-a09ada8803a4\" xlink:actuate=\"onRequest\" xlink:href=\"psysml:aa3a7955-6ed3-447d-b0ee-a09ada8803a4\" xlink:show=\"new\" xlink:title=\"psysml:aa3a7955-6ed3-447d-b0ee-a09ada8803a4\" xlink:type=\"simple\"><path d=\"M236.12,194.19 C248.61,213.81 266.89,242.55 280.53,263.98 \" fill=\"none\" id=\"E12-&gt;E13\" style=\"stroke: #A80036; stroke-width: 1.0;\"/><polygon fill=\"#A80036\" points=\"284.97,270.95,283.198,262.5918,278.1391,265.8179,284.97,270.95\" style=\"stroke: #A80036; stroke-width: 1.0;\"/><text fill=\"#000000\" font-family=\"sans-serif\" font-size=\"13\" lengthAdjust=\"spacingAndGlyphs\" textLength=\"73\" x=\"266\" y=\"237.0669\">«objective»</text><text fill=\"#000000\" font-family=\"sans-serif\" font-size=\"13\" lengthAdjust=\"spacingAndGlyphs\" textLength=\"8\" x=\"272.1244\" y=\"259.8328\">1</text></a><!--MD5=[dfd831095b833370649717b6932050d0]\n",
       "@startuml\r\n",
       " \r\n",
       "package \"AnalysisTest\" as E1  [[psysml:f5546318-5597-445e-83af-957575abd1f7 ]]  {\r\n",
       "comp def \"V\" as E2 << << (B,green) >> [[psysml:df856138-3406-4a6b-b583-20ed5eacc0cd ]] {\r\n",
       "}\r\n",
       "comp usage \"vv: V\" as E3 << << (P,limegreen) part>> [[psysml:a14948af-c637-432a-b299-badb5d3ced27 ]] {\r\n",
       "}\r\n",
       "comp def \"AnalysisObjective\" as E4 << <<(D,brown) requirement def>> [[psysml:b06c710d-6070-489f-855d-95835f572a57 ]] {\r\n",
       "...\r\n",
       "- -\r\n",
       "}\r\n",
       "comp def \"AnalysisCase\" as E5 << analysis def>> [[psysml:e9833d01-8fa8-4820-af73-47d7be444de9 ]] {\r\n",
       "}\r\n",
       "comp usage \"obj: AnalysisObjective\" as E6 << <<(U,orange) requirement>> [[psysml:5d02fb37-4730-4ed2-b0a0-8fa990128639 ]] {\r\n",
       "}\r\n",
       "comp def \"AnalysisPlan\" as E7 << analysis def>> [[psysml:8a4520e8-ac51-4a2a-8007-cfc5f8084f42 ]] {\r\n",
       "}\r\n",
       "comp usage \"obj\" as E8 << <<(U,orange) requirement>> [[psysml:c9e778b5-528f-48e8-8904-91782dcf8fb6 ]] {\r\n",
       "...\r\n",
       "- -\r\n",
       "}\r\n",
       "comp usage \"analysisCase: AnalysisCase\" as E9 << analysis>> [[psysml:ef775355-9069-4551-a021-5839d9673f3d ]] {\r\n",
       "}\r\n",
       "comp usage \"obj\" as E10 << <<(U,orange) requirement>> [[psysml:37fc8968-437f-41f6-96b6-577444b5c586 ]] {\r\n",
       "}\r\n",
       "comp usage \"analysisContext\" as E11 << << (P,limegreen) part>> [[psysml:e127547d-9ca6-4380-b459-796effe0b56f ]] {\r\n",
       "}\r\n",
       "comp usage \"analysisPlan: AnalysisPlan\" as E12 << analysis>> [[psysml:26b0c0e9-c7c6-4e19-b68b-97e4f04c11f8 ]] {\r\n",
       "}\r\n",
       "comp usage \"obj\" as E13 << <<(U,orange) requirement>> [[psysml:a55f605c-cc05-4fcd-b9b1-1e930756e010 ]] {\r\n",
       "}\r\n",
       "}\r\n",
       "E3 - -:|> E2 [[psysml:4553bbf6-343c-42bd-a219-72e0d50d2170 ]] \r\n",
       "E5 ..> E2 [[psysml:55d14872-2cf4-45ef-b86e-776491343885 ]] : <<subject>>\r\n",
       "E5 - ->> E6 [[psysml:66eb83d5-c5e2-4f23-b460-3cc53e216041 ]] : <<objective>>\r\n",
       "E6 - -:|> E4 [[psysml:35160ff3-34f1-44b9-93fc-42f4fb412225 ]] \r\n",
       "E7 ..> E2 [[psysml:6c24e69d-02cf-4e90-8710-eea2d3fb6e80 ]] : <<subject>>\r\n",
       "E7 - ->> \"1\"E8 [[psysml:5f63fe39-bd01-4e2f-b177-a256ca3547ed ]] : <<objective>>\r\n",
       "E7 *- - E9 [[psysml:0539f402-c799-478a-a763-36444c838111 ]] \r\n",
       "E9 - -:|> E5 [[psysml:5fa585d6-e8aa-4013-b88d-119f555331de ]] \r\n",
       "E9 - ->> E10 [[psysml:7fa56b0a-037d-44be-9e3a-456886c00dd1 ]] : <<objective>>\r\n",
       "E11 *- - E12 [[psysml:cf81c84a-d20a-4a9d-8212-c3de89ec9ad0 ]] \r\n",
       "E12 - -:|> E7 [[psysml:31ecf0da-b030-4520-be0f-3ece1376fb5f ]] \r\n",
       "E12 - ->> \"1\"E13 [[psysml:aa3a7955-6ed3-447d-b0ee-a09ada8803a4 ]] : <<objective>>\r\n",
       "@enduml\r\n",
       "\n",
       "PlantUML version 1.2020.13(Sat Jun 13 12:26:38 UTC 2020)\n",
       "(EPL source distribution)\n",
       "Java Runtime: OpenJDK Runtime Environment\n",
       "JVM: OpenJDK 64-Bit Server VM\n",
       "Default Encoding: UTF-8\n",
       "Language: en\n",
       "Country: null\n",
       "--></g></svg>"
      ]
     },
     "execution_count": 31,
     "metadata": {},
     "output_type": "execute_result"
    }
   ],
   "source": [
    "%viz --style=\"PLANTUML\" --view=\"Tree\" \"AnalysisTest\""
   ]
  },
  {
   "cell_type": "code",
   "execution_count": 32,
   "id": "aeedf75f",
   "metadata": {
    "execution": {
     "iopub.execute_input": "2021-09-27T07:15:30.884922Z",
     "iopub.status.busy": "2021-09-27T07:15:30.884487Z",
     "iopub.status.idle": "2021-09-27T07:15:31.010725Z",
     "shell.execute_reply": "2021-09-27T07:15:31.009392Z"
    }
   },
   "outputs": [
    {
     "data": {
      "image/svg+xml": [
       "<?xml version=\"1.0\" encoding=\"UTF-8\" standalone=\"no\"?><svg xmlns=\"http://www.w3.org/2000/svg\" xmlns:xlink=\"http://www.w3.org/1999/xlink\" contentScriptType=\"application/ecmascript\" contentStyleType=\"text/css\" height=\"417px\" preserveAspectRatio=\"none\" style=\"width:603px;height:417px;background:#000000;\" version=\"1.1\" viewBox=\"0 0 603 417\" width=\"603px\" zoomAndPan=\"magnify\"><defs/><g><rect fill=\"#1F0324\" height=\"1\" style=\"stroke: #1F0324; stroke-width: 1.0;\" width=\"1\" x=\"0\" y=\"0\"/><rect fill=\"#F6C914\" height=\"58\" style=\"stroke: #F6C914; stroke-width: 1.0;\" width=\"602\" x=\"0\" y=\"0\"/><image height=\"58\" width=\"454\" x=\"1\" xlink:href=\"data:image/png;base64,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\" y=\"1\"/><rect fill=\"#FFFFFF\" height=\"202.8012\" style=\"stroke: #FFFFFF; stroke-width: 1.0;\" width=\"602\" x=\"0\" y=\"58\"/><text fill=\"#000000\" font-family=\"sans-serif\" font-size=\"12\" font-weight=\"bold\" lengthAdjust=\"spacingAndGlyphs\" textLength=\"139\" x=\"5\" y=\"74.1387\">Welcome to PlantUML!</text><text fill=\"#000000\" font-family=\"sans-serif\" font-size=\"12\" lengthAdjust=\"spacingAndGlyphs\" textLength=\"0\" x=\"9\" y=\"88.1074\"/><text fill=\"#000000\" font-family=\"sans-serif\" font-size=\"12\" lengthAdjust=\"spacingAndGlyphs\" textLength=\"293\" x=\"5\" y=\"102.0762\">If you use this software, you accept its license.</text><text fill=\"#000000\" font-family=\"sans-serif\" font-size=\"12\" lengthAdjust=\"spacingAndGlyphs\" textLength=\"107\" x=\"5\" y=\"116.0449\">(details by typing</text><text fill=\"#000000\" font-family=\"monospace\" font-size=\"12\" lengthAdjust=\"spacingAndGlyphs\" textLength=\"42\" x=\"116\" y=\"116.595\">license</text><text fill=\"#000000\" font-family=\"sans-serif\" font-size=\"12\" lengthAdjust=\"spacingAndGlyphs\" textLength=\"56\" x=\"162\" y=\"116.0449\">keyword)</text><text fill=\"#000000\" font-family=\"sans-serif\" font-size=\"12\" lengthAdjust=\"spacingAndGlyphs\" textLength=\"0\" x=\"9\" y=\"130.0137\"/><text fill=\"#000000\" font-family=\"sans-serif\" font-size=\"12\" lengthAdjust=\"spacingAndGlyphs\" textLength=\"283\" x=\"5\" y=\"143.9824\">You can start with a simple UML Diagram like:</text><text fill=\"#000000\" font-family=\"sans-serif\" font-size=\"12\" lengthAdjust=\"spacingAndGlyphs\" textLength=\"0\" x=\"9\" y=\"157.9512\"/><text fill=\"#000000\" font-family=\"monospace\" font-size=\"12\" lengthAdjust=\"spacingAndGlyphs\" textLength=\"102\" x=\"5\" y=\"171.0893\">Bob-&gt;Alice: Hello</text><text fill=\"#000000\" font-family=\"sans-serif\" font-size=\"12\" lengthAdjust=\"spacingAndGlyphs\" textLength=\"0\" x=\"9\" y=\"184.508\"/><text fill=\"#000000\" font-family=\"sans-serif\" font-size=\"12\" lengthAdjust=\"spacingAndGlyphs\" textLength=\"14\" x=\"5\" y=\"198.4768\">Or</text><text fill=\"#000000\" font-family=\"sans-serif\" font-size=\"12\" lengthAdjust=\"spacingAndGlyphs\" textLength=\"0\" x=\"9\" y=\"212.4455\"/><text fill=\"#000000\" font-family=\"monospace\" font-size=\"12\" lengthAdjust=\"spacingAndGlyphs\" textLength=\"78\" x=\"5\" y=\"225.5837\">class Example</text><text fill=\"#000000\" font-family=\"sans-serif\" font-size=\"12\" lengthAdjust=\"spacingAndGlyphs\" textLength=\"0\" x=\"9\" y=\"239.0023\"/><text fill=\"#000000\" font-family=\"sans-serif\" font-size=\"12\" lengthAdjust=\"spacingAndGlyphs\" textLength=\"349\" x=\"5\" y=\"252.9711\">You will find more information about PlantUML syntax on</text><text fill=\"#000000\" font-family=\"sans-serif\" font-size=\"12\" lengthAdjust=\"spacingAndGlyphs\" text-decoration=\"underline\" textLength=\"129\" x=\"358\" y=\"252.9711\">https://plantuml.com</text><image height=\"71\" width=\"80\" x=\"516\" xlink:href=\"data:image/png;base64,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\" y=\"64\"/><rect fill=\"#000000\" height=\"96.4844\" style=\"stroke: #000000; stroke-width: 1.0;\" width=\"602\" x=\"0\" y=\"260.8012\"/><rect fill=\"#33FF02\" height=\"21.2969\" style=\"stroke: #33FF02; stroke-width: 1.0;\" width=\"145\" x=\"5\" y=\"265.8012\"/><text fill=\"#000000\" font-family=\"sans-serif\" font-size=\"14\" font-weight=\"bold\" lengthAdjust=\"spacingAndGlyphs\" textLength=\"143\" x=\"6\" y=\"280.8012\">[From string (line 2) ]</text><text fill=\"#33FF02\" font-family=\"sans-serif\" font-size=\"14\" font-weight=\"bold\" lengthAdjust=\"spacingAndGlyphs\" textLength=\"0\" x=\"9\" y=\"301.0981\"/><text fill=\"#33FF02\" font-family=\"sans-serif\" font-size=\"14\" font-weight=\"bold\" lengthAdjust=\"spacingAndGlyphs\" textLength=\"70\" x=\"5\" y=\"317.3949\">@startuml</text><text fill=\"#33FF02\" font-family=\"sans-serif\" font-size=\"14\" font-weight=\"bold\" lengthAdjust=\"spacingAndGlyphs\" textLength=\"0\" x=\"9\" y=\"333.6918\"/><text fill=\"#FF0000\" font-family=\"sans-serif\" font-size=\"14\" font-weight=\"bold\" lengthAdjust=\"spacingAndGlyphs\" textLength=\"124\" x=\"9\" y=\"349.9887\">Empty description</text><rect fill=\"#F6C914\" height=\"58\" style=\"stroke: #F6C914; stroke-width: 1.0;\" width=\"602\" x=\"0\" y=\"357.2856\"/><image height=\"58\" width=\"454\" x=\"1\" xlink:href=\"data:image/png;base64,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\" y=\"358.2856\"/><!--MD5=[f59edd8218d337f74d0c332fc6737304]\n",
       "@startuml\r\n",
       " \r\n",
       "@enduml\r\n",
       "\n",
       "PlantUML version 1.2020.13(Sat Jun 13 12:26:38 UTC 2020)\n",
       "(EPL source distribution)\n",
       "Java Runtime: OpenJDK Runtime Environment\n",
       "JVM: OpenJDK 64-Bit Server VM\n",
       "Default Encoding: UTF-8\n",
       "Language: en\n",
       "Country: null\n",
       "--></g></svg>"
      ]
     },
     "execution_count": 32,
     "metadata": {},
     "output_type": "execute_result"
    }
   ],
   "source": [
    "%viz --style=\"PLANTUML\" --view=\"State\" \"AnalysisTest\""
   ]
  },
  {
   "cell_type": "code",
   "execution_count": 33,
   "id": "54af1278",
   "metadata": {
    "execution": {
     "iopub.execute_input": "2021-09-27T07:15:31.060129Z",
     "iopub.status.busy": "2021-09-27T07:15:31.059716Z",
     "iopub.status.idle": "2021-09-27T07:15:31.092998Z",
     "shell.execute_reply": "2021-09-27T07:15:31.091709Z"
    }
   },
   "outputs": [
    {
     "data": {
      "image/svg+xml": [
       "<?xml version=\"1.0\" encoding=\"UTF-8\" standalone=\"no\"?><svg xmlns=\"http://www.w3.org/2000/svg\" xmlns:xlink=\"http://www.w3.org/1999/xlink\" contentScriptType=\"application/ecmascript\" contentStyleType=\"text/css\" height=\"446px\" preserveAspectRatio=\"none\" style=\"width:1167px;height:446px;\" version=\"1.1\" viewBox=\"0 0 1167 446\" width=\"1167px\" zoomAndPan=\"magnify\"><defs><filter height=\"300%\" id=\"f1akgn865idyt1\" width=\"300%\" x=\"-1\" y=\"-1\"><feGaussianBlur result=\"blurOut\" stdDeviation=\"2.0\"/><feColorMatrix in=\"blurOut\" result=\"blurOut2\" type=\"matrix\" values=\"0 0 0 0 0 0 0 0 0 0 0 0 0 0 0 0 0 0 .4 0\"/><feOffset dx=\"4.0\" dy=\"4.0\" in=\"blurOut2\" result=\"blurOut3\"/><feBlend in=\"SourceGraphic\" in2=\"blurOut3\" mode=\"normal\"/></filter></defs><g><!--MD5=[fbc87193dbaf4d95561dea2c320d4a47]\n",
       "cluster E1--><a href=\"psysml:f5546318-5597-445e-83af-957575abd1f7\" target=\"_top\" title=\"psysml:f5546318-5597-445e-83af-957575abd1f7\" xlink:actuate=\"onRequest\" xlink:href=\"psysml:f5546318-5597-445e-83af-957575abd1f7\" xlink:show=\"new\" xlink:title=\"psysml:f5546318-5597-445e-83af-957575abd1f7\" xlink:type=\"simple\"><polygon fill=\"#FFFFFF\" filter=\"url(#f1akgn865idyt1)\" points=\"16,6,108,6,115,28.2969,1145,28.2969,1145,434.86,16,434.86,16,6\" style=\"stroke: #000000; stroke-width: 1.5;\"/><line style=\"stroke: #000000; stroke-width: 1.5;\" x1=\"16\" x2=\"115\" y1=\"28.2969\" y2=\"28.2969\"/><text fill=\"#000000\" font-family=\"sans-serif\" font-size=\"14\" font-weight=\"bold\" lengthAdjust=\"spacingAndGlyphs\" textLength=\"86\" x=\"20\" y=\"20.9951\">AnalysisTest</text></a><!--MD5=[de5ec2e2e8f62f467e546659f5068c88]\n",
       "cluster E5--><a href=\"psysml:e9833d01-8fa8-4820-af73-47d7be444de9\" target=\"_top\" title=\"psysml:e9833d01-8fa8-4820-af73-47d7be444de9\" xlink:actuate=\"onRequest\" xlink:href=\"psysml:e9833d01-8fa8-4820-af73-47d7be444de9\" xlink:show=\"new\" xlink:title=\"psysml:e9833d01-8fa8-4820-af73-47d7be444de9\" xlink:type=\"simple\"><rect fill=\"#FFFFFF\" filter=\"url(#f1akgn865idyt1)\" height=\"228.86\" id=\"E5\" style=\"stroke: #A80036; stroke-width: 1.5;\" width=\"146\" x=\"983\" y=\"107\"/><rect fill=\"#FEFECE\" height=\"37.9375\" style=\"stroke: #A80036; stroke-width: 1.5;\" width=\"146\" x=\"983\" y=\"107\"/><text fill=\"#000000\" font-family=\"sans-serif\" font-size=\"12\" font-style=\"italic\" lengthAdjust=\"spacingAndGlyphs\" textLength=\"88\" x=\"1012\" y=\"123.1387\">«analysis def»</text><text fill=\"#000000\" font-family=\"sans-serif\" font-size=\"12\" lengthAdjust=\"spacingAndGlyphs\" textLength=\"81\" x=\"1015.5\" y=\"137.1074\">AnalysisCase</text></a><!--MD5=[55dfccfc6c49c2d10cd1bd2211a6c90c]\n",
       "cluster E8--><a href=\"psysml:8a4520e8-ac51-4a2a-8007-cfc5f8084f42\" target=\"_top\" title=\"psysml:8a4520e8-ac51-4a2a-8007-cfc5f8084f42\" xlink:actuate=\"onRequest\" xlink:href=\"psysml:8a4520e8-ac51-4a2a-8007-cfc5f8084f42\" xlink:show=\"new\" xlink:title=\"psysml:8a4520e8-ac51-4a2a-8007-cfc5f8084f42\" xlink:type=\"simple\"><rect fill=\"#FFFFFF\" filter=\"url(#f1akgn865idyt1)\" height=\"303.86\" id=\"E8\" style=\"stroke: #A80036; stroke-width: 1.5;\" width=\"259\" x=\"694\" y=\"107\"/><rect fill=\"#FEFECE\" height=\"37.9375\" style=\"stroke: #A80036; stroke-width: 1.5;\" width=\"259\" x=\"694\" y=\"107\"/><text fill=\"#000000\" font-family=\"sans-serif\" font-size=\"12\" font-style=\"italic\" lengthAdjust=\"spacingAndGlyphs\" textLength=\"88\" x=\"779.5\" y=\"123.1387\">«analysis def»</text><text fill=\"#000000\" font-family=\"sans-serif\" font-size=\"12\" lengthAdjust=\"spacingAndGlyphs\" textLength=\"77\" x=\"785\" y=\"137.1074\">AnalysisPlan</text></a><!--MD5=[a84b4591f868c1fa4a211716a82f2f0d]\n",
       "cluster E10--><a href=\"psysml:ef775355-9069-4551-a021-5839d9673f3d\" target=\"_top\" title=\"psysml:ef775355-9069-4551-a021-5839d9673f3d\" xlink:actuate=\"onRequest\" xlink:href=\"psysml:ef775355-9069-4551-a021-5839d9673f3d\" xlink:show=\"new\" xlink:title=\"psysml:ef775355-9069-4551-a021-5839d9673f3d\" xlink:type=\"simple\"><rect fill=\"#FFFFFF\" filter=\"url(#f1akgn865idyt1)\" height=\"165.86\" id=\"E10\" rx=\"10\" ry=\"10\" style=\"stroke: #A80036; stroke-width: 1.5;\" width=\"138\" x=\"777\" y=\"207\"/><rect fill=\"#FEFECE\" height=\"37.9375\" rx=\"10\" ry=\"10\" style=\"stroke: #FEFECE; stroke-width: 1.5;\" width=\"138\" x=\"777\" y=\"207\"/><rect fill=\"#FEFECE\" height=\"10\" style=\"stroke: #FEFECE; stroke-width: 1.5;\" width=\"138\" x=\"777\" y=\"234.9375\"/><rect fill=\"none\" height=\"165.86\" id=\"E10\" rx=\"10\" ry=\"10\" style=\"stroke: #A80036; stroke-width: 1.5;\" width=\"138\" x=\"777\" y=\"207\"/><text fill=\"#000000\" font-family=\"sans-serif\" font-size=\"12\" font-style=\"italic\" lengthAdjust=\"spacingAndGlyphs\" textLength=\"64\" x=\"814\" y=\"223.1387\">«analysis»</text><text fill=\"#000000\" font-family=\"sans-serif\" font-size=\"12\" lengthAdjust=\"spacingAndGlyphs\" textLength=\"81\" x=\"805.5\" y=\"237.1074\">analysisCase</text><line style=\"stroke: #A80036; stroke-width: 1.0;\" x1=\"777\" x2=\"915\" y1=\"244.9375\" y2=\"244.9375\"/></a><!--MD5=[bcf29f0808fc96f19b1afbee8cfc1f11]\n",
       "cluster E14--><a href=\"psysml:e127547d-9ca6-4380-b459-796effe0b56f\" target=\"_top\" title=\"psysml:e127547d-9ca6-4380-b459-796effe0b56f\" xlink:actuate=\"onRequest\" xlink:href=\"psysml:e127547d-9ca6-4380-b459-796effe0b56f\" xlink:show=\"new\" xlink:title=\"psysml:e127547d-9ca6-4380-b459-796effe0b56f\" xlink:type=\"simple\"><rect fill=\"#FFFFFF\" filter=\"url(#f1akgn865idyt1)\" height=\"197\" id=\"E14\" rx=\"10\" ry=\"10\" style=\"stroke: #A80036; stroke-width: 1.5;\" width=\"226\" x=\"381\" y=\"49\"/><rect fill=\"#FEFECE\" height=\"23.9688\" rx=\"10\" ry=\"10\" style=\"stroke: #FEFECE; stroke-width: 1.5;\" width=\"226\" x=\"381\" y=\"49\"/><rect fill=\"#FEFECE\" height=\"10\" style=\"stroke: #FEFECE; stroke-width: 1.5;\" width=\"226\" x=\"381\" y=\"62.9688\"/><rect fill=\"none\" height=\"197\" id=\"E14\" rx=\"10\" ry=\"10\" style=\"stroke: #A80036; stroke-width: 1.5;\" width=\"226\" x=\"381\" y=\"49\"/><text fill=\"#000000\" font-family=\"sans-serif\" font-size=\"12\" lengthAdjust=\"spacingAndGlyphs\" textLength=\"98\" x=\"445\" y=\"65.1387\">analysisContext</text><line style=\"stroke: #A80036; stroke-width: 1.0;\" x1=\"381\" x2=\"607\" y1=\"72.9688\" y2=\"72.9688\"/></a><!--MD5=[ebbe1d658d1005bcc118a6aa81145e00]\n",
       "class E4--><a href=\"psysml:b06c710d-6070-489f-855d-95835f572a57\" target=\"_top\" title=\"psysml:b06c710d-6070-489f-855d-95835f572a57\" xlink:actuate=\"onRequest\" xlink:href=\"psysml:b06c710d-6070-489f-855d-95835f572a57\" xlink:show=\"new\" xlink:title=\"psysml:b06c710d-6070-489f-855d-95835f572a57\" xlink:type=\"simple\"><rect fill=\"#FEFECE\" filter=\"url(#f1akgn865idyt1)\" height=\"66.7422\" id=\"E4\" style=\"stroke: #A80036; stroke-width: 1.5;\" width=\"143\" x=\"218.5\" y=\"73.5\"/><ellipse cx=\"233.5\" cy=\"92.4688\" fill=\"#A52A2A\" rx=\"11\" ry=\"11\" style=\"stroke: #A80036; stroke-width: 1.0;\"/><path d=\"M230.7188,97.4688 L230.7188,86.875 L233.4531,86.875 Q234.8438,86.875 235.6094,87.2656 Q236.3906,87.6406 236.9219,88.3438 Q237.4531,89.0469 237.75,90.0469 Q238.0469,91.0313 238.0469,92.25 Q238,93.8438 237.5,95.0313 Q237.0156,96.2031 235.9688,96.8438 Q234.9375,97.4688 233.25,97.4688 L230.7188,97.4688 Z M232.5781,95.9688 L233.2031,95.9688 Q234.2813,95.9688 234.9375,95.5156 Q235.5938,95.0625 235.875,94.2344 Q236.1719,93.3906 236.1563,92.2656 Q236.1563,91.0938 235.9063,90.2344 Q235.6563,89.3594 235.0469,88.8906 Q234.4375,88.4063 233.3906,88.4063 L232.5781,88.4063 L232.5781,95.9688 Z \"/><text fill=\"#000000\" font-family=\"sans-serif\" font-size=\"12\" font-style=\"italic\" lengthAdjust=\"spacingAndGlyphs\" textLength=\"115\" x=\"245.5\" y=\"89.6387\">«requirement def»</text><text fill=\"#000000\" font-family=\"sans-serif\" font-size=\"12\" lengthAdjust=\"spacingAndGlyphs\" textLength=\"107\" x=\"249.5\" y=\"103.6074\">AnalysisObjective</text><line style=\"stroke: #A80036; stroke-width: 1.5;\" x1=\"219.5\" x2=\"360.5\" y1=\"111.4375\" y2=\"111.4375\"/><text fill=\"#000000\" font-family=\"sans-serif\" font-size=\"11\" lengthAdjust=\"spacingAndGlyphs\" textLength=\"12\" x=\"224.5\" y=\"125.6479\">...</text><line style=\"stroke: #A80036; stroke-width: 1.0;\" x1=\"219.5\" x2=\"360.5\" y1=\"132.2422\" y2=\"132.2422\"/></a><g id=\"E1.E2\"><a href=\"psysml:df856138-3406-4a6b-b583-20ed5eacc0cd\" target=\"_top\" title=\"psysml:df856138-3406-4a6b-b583-20ed5eacc0cd\" xlink:actuate=\"onRequest\" xlink:href=\"psysml:df856138-3406-4a6b-b583-20ed5eacc0cd\" xlink:show=\"new\" xlink:title=\"psysml:df856138-3406-4a6b-b583-20ed5eacc0cd\" xlink:type=\"simple\"><rect fill=\"#FEFECE\" filter=\"url(#f1akgn865idyt1)\" height=\"40\" id=\"E2\" style=\"stroke: #A80036; stroke-width: 1.5;\" width=\"50\" x=\"133\" y=\"87\"/><ellipse cx=\"152.5\" cy=\"103\" fill=\"#008000\" rx=\"11\" ry=\"11\" style=\"stroke: #A80036; stroke-width: 1.0;\"/><path d=\"M149.375,108 L149.375,97.4063 L152.6094,97.4063 Q154.5156,97.4063 155.4219,98.1563 Q156.3438,98.9063 156.3438,100.0781 Q156.3438,100.7656 155.9531,101.4219 Q155.5781,102.0781 154.8594,102.375 Q155.7188,102.75 156.2344,103.4375 Q156.75,104.125 156.75,104.9375 Q156.75,106.3125 155.7188,107.1563 Q154.7031,108 152.5938,108 L149.375,108 Z M151.2969,101.6406 L152.4531,101.6406 Q153.5781,101.6406 153.9844,101.2656 Q154.4063,100.875 154.4063,100.25 Q154.4063,99.6719 153.9844,99.3125 Q153.5625,98.9531 152.625,98.9531 L151.2969,98.9531 L151.2969,101.6406 Z M151.2969,106.4219 L152.7969,106.4219 Q153.7031,106.4219 154.2344,106.0313 Q154.7656,105.6406 154.7656,104.8906 Q154.7656,104.125 154.2656,103.6563 Q153.7656,103.1719 152.5,103.1719 L151.2969,103.1719 L151.2969,106.4219 Z \"/><text fill=\"#000000\" font-family=\"sans-serif\" font-size=\"12\" lengthAdjust=\"spacingAndGlyphs\" textLength=\"8\" x=\"167.5\" y=\"107.1543\">V</text></a></g><g id=\"E1.E3\"><a href=\"psysml:a14948af-c637-432a-b299-badb5d3ced27\" target=\"_top\" title=\"psysml:a14948af-c637-432a-b299-badb5d3ced27\" xlink:actuate=\"onRequest\" xlink:href=\"psysml:a14948af-c637-432a-b299-badb5d3ced27\" xlink:show=\"new\" xlink:title=\"psysml:a14948af-c637-432a-b299-badb5d3ced27\" xlink:type=\"simple\"><rect fill=\"#FEFECE\" filter=\"url(#f1akgn865idyt1)\" height=\"40\" id=\"E3\" rx=\"10\" ry=\"10\" style=\"stroke: #A80036; stroke-width: 1.5;\" width=\"65\" x=\"32.5\" y=\"87\"/><ellipse cx=\"49.75\" cy=\"103\" fill=\"#B6DBBB\" rx=\"11\" ry=\"11\" style=\"stroke: #A80036; stroke-width: 1.0;\"/><path d=\"M49.5,108.4688 Q47.75,108.4688 46.7969,107.4375 Q45.8594,106.3906 45.8594,104.5469 L45.8594,97.6563 L47.9219,97.6563 L47.9219,97.8125 Q47.8281,97.9063 47.7969,98.0469 Q47.7813,98.1719 47.7813,98.4375 L47.7813,104.5625 Q47.7813,105.6563 48.1563,106.2813 Q48.5313,106.9063 49.5156,106.9063 Q50.5,106.9063 50.8906,106.2813 Q51.2813,105.6563 51.2813,104.5156 L51.2813,97.6563 L53.1563,97.6563 L53.1563,104.5 Q53.1563,106.5313 52.125,107.5 Q51.1094,108.4688 49.5,108.4688 Z \"/><text fill=\"#000000\" font-family=\"sans-serif\" font-size=\"12\" lengthAdjust=\"spacingAndGlyphs\" textLength=\"28\" x=\"64.25\" y=\"107.1543\">vv: V</text></a></g><text fill=\"#000000\" font-family=\"sans-serif\" font-size=\"14\" lengthAdjust=\"spacingAndGlyphs\" textLength=\"7\" x=\"1052.5\" y=\"85.6982\">v</text><rect fill=\"#A80036\" height=\"12\" style=\"stroke: #FEFECE; stroke-width: 1.5;\" width=\"12\" x=\"1050\" y=\"101\"/><text fill=\"#000000\" font-family=\"sans-serif\" font-size=\"14\" lengthAdjust=\"spacingAndGlyphs\" textLength=\"39\" x=\"1036.5\" y=\"354.8551\">result</text><rect fill=\"#A80036\" height=\"12\" style=\"stroke: #FEFECE; stroke-width: 1.5;\" width=\"12\" x=\"1050\" y=\"329.86\"/><text fill=\"#000000\" font-family=\"sans-serif\" font-size=\"14\" lengthAdjust=\"spacingAndGlyphs\" textLength=\"7\" x=\"708.5\" y=\"85.6982\">v</text><rect fill=\"#A80036\" height=\"12\" style=\"stroke: #FEFECE; stroke-width: 1.5;\" width=\"12\" x=\"706\" y=\"101\"/><text fill=\"#000000\" font-family=\"sans-serif\" font-size=\"14\" lengthAdjust=\"spacingAndGlyphs\" textLength=\"39\" x=\"933.5\" y=\"354.8551\">result</text><rect fill=\"#A80036\" height=\"12\" style=\"stroke: #FEFECE; stroke-width: 1.5;\" width=\"12\" x=\"947\" y=\"329.86\"/><text fill=\"#000000\" font-family=\"sans-serif\" font-size=\"14\" lengthAdjust=\"spacingAndGlyphs\" textLength=\"37\" x=\"827.5\" y=\"391.8551\">mass</text><rect fill=\"#A80036\" height=\"12\" style=\"stroke: #FEFECE; stroke-width: 1.5;\" width=\"12\" x=\"840\" y=\"366.86\"/><text fill=\"#000000\" font-family=\"sans-serif\" font-size=\"14\" lengthAdjust=\"spacingAndGlyphs\" textLength=\"7\" x=\"842.5\" y=\"185.6982\">v</text><rect fill=\"#A80036\" height=\"12\" style=\"stroke: #FEFECE; stroke-width: 1.5;\" width=\"12\" x=\"840\" y=\"201\"/><!--MD5=[0c48fb7552dae8cbbef69381101a84c8]\n",
       "class E15--><a href=\"psysml:26b0c0e9-c7c6-4e19-b68b-97e4f04c11f8\" target=\"_top\" title=\"psysml:26b0c0e9-c7c6-4e19-b68b-97e4f04c11f8\" xlink:actuate=\"onRequest\" xlink:href=\"psysml:26b0c0e9-c7c6-4e19-b68b-97e4f04c11f8\" xlink:show=\"new\" xlink:title=\"psysml:26b0c0e9-c7c6-4e19-b68b-97e4f04c11f8\" xlink:type=\"simple\"><rect fill=\"#FEFECE\" filter=\"url(#f1akgn865idyt1)\" height=\"45.9375\" id=\"E15\" rx=\"10\" ry=\"10\" style=\"stroke: #A80036; stroke-width: 1.5;\" width=\"194\" x=\"397\" y=\"84\"/><ellipse cx=\"412\" cy=\"102.9688\" fill=\"#B6DBBB\" rx=\"11\" ry=\"11\" style=\"stroke: #A80036; stroke-width: 1.0;\"/><path d=\"M411.75,108.4375 Q410,108.4375 409.0469,107.4063 Q408.1094,106.3594 408.1094,104.5156 L408.1094,97.625 L410.1719,97.625 L410.1719,97.7813 Q410.0781,97.875 410.0469,98.0156 Q410.0313,98.1406 410.0313,98.4063 L410.0313,104.5313 Q410.0313,105.625 410.4063,106.25 Q410.7813,106.875 411.7656,106.875 Q412.75,106.875 413.1406,106.25 Q413.5313,105.625 413.5313,104.4844 L413.5313,97.625 L415.4063,97.625 L415.4063,104.4688 Q415.4063,106.5 414.375,107.4688 Q413.3594,108.4375 411.75,108.4375 Z \"/><text fill=\"#000000\" font-family=\"sans-serif\" font-size=\"12\" font-style=\"italic\" lengthAdjust=\"spacingAndGlyphs\" textLength=\"64\" x=\"475\" y=\"100.1387\">«analysis»</text><text fill=\"#000000\" font-family=\"sans-serif\" font-size=\"12\" lengthAdjust=\"spacingAndGlyphs\" textLength=\"162\" x=\"426\" y=\"114.1074\">analysisPlan: AnalysisPlan</text><line style=\"stroke: #A80036; stroke-width: 1.5;\" x1=\"398\" x2=\"590\" y1=\"121.9375\" y2=\"121.9375\"/></a><!--MD5=[35f0587eaee8d5bb9a02e25b63afc23b]\n",
       "class E16--><a href=\"psysml:a55f605c-cc05-4fcd-b9b1-1e930756e010\" target=\"_top\" title=\"psysml:a55f605c-cc05-4fcd-b9b1-1e930756e010\" xlink:actuate=\"onRequest\" xlink:href=\"psysml:a55f605c-cc05-4fcd-b9b1-1e930756e010\" xlink:show=\"new\" xlink:title=\"psysml:a55f605c-cc05-4fcd-b9b1-1e930756e010\" xlink:type=\"simple\"><rect fill=\"#FEFECE\" filter=\"url(#f1akgn865idyt1)\" height=\"45.9375\" id=\"E16\" rx=\"10\" ry=\"10\" style=\"stroke: #A80036; stroke-width: 1.5;\" width=\"119\" x=\"434.5\" y=\"184\"/><ellipse cx=\"449.5\" cy=\"202.9688\" fill=\"#FFA500\" rx=\"11\" ry=\"11\" style=\"stroke: #A80036; stroke-width: 1.0;\"/><path d=\"M449.25,208.4375 Q447.5,208.4375 446.5469,207.4063 Q445.6094,206.3594 445.6094,204.5156 L445.6094,197.625 L447.6719,197.625 L447.6719,197.7813 Q447.5781,197.875 447.5469,198.0156 Q447.5313,198.1406 447.5313,198.4063 L447.5313,204.5313 Q447.5313,205.625 447.9063,206.25 Q448.2813,206.875 449.2656,206.875 Q450.25,206.875 450.6406,206.25 Q451.0313,205.625 451.0313,204.4844 L451.0313,197.625 L452.9063,197.625 L452.9063,204.4688 Q452.9063,206.5 451.875,207.4688 Q450.8594,208.4375 449.25,208.4375 Z \"/><text fill=\"#000000\" font-family=\"sans-serif\" font-size=\"12\" font-style=\"italic\" lengthAdjust=\"spacingAndGlyphs\" textLength=\"91\" x=\"461.5\" y=\"200.1387\">«requirement»</text><text fill=\"#000000\" font-family=\"sans-serif\" font-size=\"12\" lengthAdjust=\"spacingAndGlyphs\" textLength=\"19\" x=\"497.5\" y=\"214.1074\">obj</text><line style=\"stroke: #A80036; stroke-width: 1.5;\" x1=\"435.5\" x2=\"552.5\" y1=\"221.9375\" y2=\"221.9375\"/></a><!--MD5=[1b01d5b954197aaf3899ca0bde35faf5]\n",
       "link E15 to E8--><a href=\"psysml:31ecf0da-b030-4520-be0f-3ece1376fb5f\" target=\"_top\" title=\"psysml:31ecf0da-b030-4520-be0f-3ece1376fb5f\" xlink:actuate=\"onRequest\" xlink:href=\"psysml:31ecf0da-b030-4520-be0f-3ece1376fb5f\" xlink:show=\"new\" xlink:title=\"psysml:31ecf0da-b030-4520-be0f-3ece1376fb5f\" xlink:type=\"simple\"><path d=\"M543.2,130.12 C583.26,148.12 638.92,173.15 675.2,189.46 \" fill=\"none\" id=\"E15-&gt;E8\" style=\"stroke: #A80036; stroke-width: 1.0;\"/><polygon fill=\"#FFFFFF\" points=\"675.2,189.46,655.0004,188.0539,660.7408,175.2849,675.2,189.46\" style=\"stroke: #A80036; stroke-width: 1.0;\"/><ellipse cx=\"650.6217\" cy=\"183.8926\" fill=\"#A80036\" rx=\"2\" ry=\"2\" style=\"stroke: #A80036; stroke-width: 1.0;\"/><ellipse cx=\"654.722\" cy=\"174.7719\" fill=\"#A80036\" rx=\"2\" ry=\"2\" style=\"stroke: #A80036; stroke-width: 1.0;\"/></a><!--MD5=[f8b155c46b092be73bb522b0a8fc72a2]\n",
       "link E15 to E16--><a href=\"psysml:aa3a7955-6ed3-447d-b0ee-a09ada8803a4\" target=\"_top\" title=\"psysml:aa3a7955-6ed3-447d-b0ee-a09ada8803a4\" xlink:actuate=\"onRequest\" xlink:href=\"psysml:aa3a7955-6ed3-447d-b0ee-a09ada8803a4\" xlink:show=\"new\" xlink:title=\"psysml:aa3a7955-6ed3-447d-b0ee-a09ada8803a4\" xlink:type=\"simple\"><path d=\"M494,130.24 C494,143.64 494,160.91 494,175.57 \" fill=\"none\" id=\"E15-&gt;E16\" style=\"stroke: #A80036; stroke-width: 1.0;\"/><polygon fill=\"#A80036\" points=\"494,183.85,497,175.85,491,175.85,494,183.85\" style=\"stroke: #A80036; stroke-width: 1.0;\"/><text fill=\"#000000\" font-family=\"sans-serif\" font-size=\"13\" lengthAdjust=\"spacingAndGlyphs\" textLength=\"73\" x=\"495\" y=\"161.5669\">«objective»</text><text fill=\"#000000\" font-family=\"sans-serif\" font-size=\"13\" lengthAdjust=\"spacingAndGlyphs\" textLength=\"8\" x=\"484.975\" y=\"173.0879\">1</text></a><!--MD5=[6816de14f3912a620daaad7d50bf0c24]\n",
       "@startuml\r\n",
       "skinparam ranksep 10\r\n",
       "skinparam rectangle {\r\n",
       " backgroundColor<<block>> LightGreen\r\n",
       "}\r\n",
       " \r\n",
       "package \"AnalysisTest\" as E1  [[psysml:f5546318-5597-445e-83af-957575abd1f7 ]]  {\r\n",
       "rec def \"V\" as E2 << << (B,green) >> [[psysml:df856138-3406-4a6b-b583-20ed5eacc0cd ]] {\r\n",
       "}\r\n",
       "rec usage \"vv: V\" as E3  [[psysml:a14948af-c637-432a-b299-badb5d3ced27 ]] {\r\n",
       "}\r\n",
       "comp def \"AnalysisObjective\" as E4 << <<(D,brown) requirement def>> [[psysml:b06c710d-6070-489f-855d-95835f572a57 ]] {\r\n",
       "...\r\n",
       "- -\r\n",
       "}\r\n",
       "rec def \"AnalysisCase\" as E5 << analysis def>> [[psysml:e9833d01-8fa8-4820-af73-47d7be444de9 ]] {\r\n",
       "portin \"v\" as E6  [[psysml:fc36d359-2f0c-4a32-9d15-fff2be0a8869 ]] \r\n",
       "portout \"result\" as E7  [[psysml:7ffbe20f-c891-4b52-987b-0be8eb99b87a ]] \r\n",
       "}\r\n",
       "\r\n",
       "rec def \"AnalysisPlan\" as E8 << analysis def>> [[psysml:8a4520e8-ac51-4a2a-8007-cfc5f8084f42 ]] {\r\n",
       "portin \"v\" as E9  [[psysml:7635dc34-c4d2-4388-b045-3a6cac182eef ]] \r\n",
       "rec usage \"analysisCase\" as E10 << analysis>> [[psysml:ef775355-9069-4551-a021-5839d9673f3d ]] {\r\n",
       "portout \"mass\" as E11  [[psysml:56f340db-5793-4dc6-898e-9e0a5f90ef66 ]] \r\n",
       "portin \"v\" as E12  [[psysml:d8dc3b58-26c5-4e6e-82f3-a4f0880c0fd9 ]] \r\n",
       "}\r\n",
       "\r\n",
       "portout \"result\" as E13  [[psysml:55ba6aa8-4536-4622-ad3c-e7c6595a0034 ]] \r\n",
       "}\r\n",
       "\r\n",
       "rec usage \"analysisContext\" as E14  [[psysml:e127547d-9ca6-4380-b459-796effe0b56f ]] {\r\n",
       "comp usage \"analysisPlan: AnalysisPlan\" as E15 << analysis>> [[psysml:26b0c0e9-c7c6-4e19-b68b-97e4f04c11f8 ]] {\r\n",
       "}\r\n",
       "comp usage \"obj\" as E16 << <<(U,orange) requirement>> [[psysml:a55f605c-cc05-4fcd-b9b1-1e930756e010 ]] {\r\n",
       "}\r\n",
       "}\r\n",
       "}\r\n",
       "E15 - -:|> E8 [[psysml:31ecf0da-b030-4520-be0f-3ece1376fb5f ]] \r\n",
       "E15 - ->> \"1\"E16 [[psysml:aa3a7955-6ed3-447d-b0ee-a09ada8803a4 ]] : <<objective>>\r\n",
       "@enduml\r\n",
       "\n",
       "PlantUML version 1.2020.13(Sat Jun 13 12:26:38 UTC 2020)\n",
       "(EPL source distribution)\n",
       "Java Runtime: OpenJDK Runtime Environment\n",
       "JVM: OpenJDK 64-Bit Server VM\n",
       "Default Encoding: UTF-8\n",
       "Language: en\n",
       "Country: null\n",
       "--></g></svg>"
      ]
     },
     "execution_count": 33,
     "metadata": {},
     "output_type": "execute_result"
    }
   ],
   "source": [
    "%viz --style=\"PLANTUML\" --view=\"Interconnection\" \"AnalysisTest\""
   ]
  },
  {
   "cell_type": "code",
   "execution_count": 34,
   "id": "fb191746",
   "metadata": {
    "execution": {
     "iopub.execute_input": "2021-09-27T07:15:31.142532Z",
     "iopub.status.busy": "2021-09-27T07:15:31.142119Z",
     "iopub.status.idle": "2021-09-27T07:15:31.165347Z",
     "shell.execute_reply": "2021-09-27T07:15:31.164216Z"
    }
   },
   "outputs": [
    {
     "data": {
      "image/svg+xml": [
       "<?xml version=\"1.0\" encoding=\"UTF-8\" standalone=\"no\"?><svg xmlns=\"http://www.w3.org/2000/svg\" xmlns:xlink=\"http://www.w3.org/1999/xlink\" contentScriptType=\"application/ecmascript\" contentStyleType=\"text/css\" height=\"241px\" preserveAspectRatio=\"none\" style=\"width:656px;height:241px;\" version=\"1.1\" viewBox=\"0 0 656 241\" width=\"656px\" zoomAndPan=\"magnify\"><defs><filter height=\"300%\" id=\"f12wottaodc0ma\" width=\"300%\" x=\"-1\" y=\"-1\"><feGaussianBlur result=\"blurOut\" stdDeviation=\"2.0\"/><feColorMatrix in=\"blurOut\" result=\"blurOut2\" type=\"matrix\" values=\"0 0 0 0 0 0 0 0 0 0 0 0 0 0 0 0 0 0 .4 0\"/><feOffset dx=\"4.0\" dy=\"4.0\" in=\"blurOut2\" result=\"blurOut3\"/><feBlend in=\"SourceGraphic\" in2=\"blurOut3\" mode=\"normal\"/></filter></defs><g><!--MD5=[fbc87193dbaf4d95561dea2c320d4a47]\n",
       "cluster E1--><a href=\"psysml:e9833d01-8fa8-4820-af73-47d7be444de9\" target=\"_top\" title=\"psysml:e9833d01-8fa8-4820-af73-47d7be444de9\" xlink:actuate=\"onRequest\" xlink:href=\"psysml:e9833d01-8fa8-4820-af73-47d7be444de9\" xlink:show=\"new\" xlink:title=\"psysml:e9833d01-8fa8-4820-af73-47d7be444de9\" xlink:type=\"simple\"><rect fill=\"#FFFFFF\" filter=\"url(#f12wottaodc0ma)\" height=\"122\" id=\"E1\" style=\"stroke: #A80036; stroke-width: 1.5;\" width=\"146\" x=\"7\" y=\"42.0986\"/><rect fill=\"#FEFECE\" height=\"37.9375\" style=\"stroke: #A80036; stroke-width: 1.5;\" width=\"146\" x=\"7\" y=\"42.0986\"/><text fill=\"#000000\" font-family=\"sans-serif\" font-size=\"12\" font-style=\"italic\" lengthAdjust=\"spacingAndGlyphs\" textLength=\"88\" x=\"36\" y=\"58.2373\">«analysis def»</text><text fill=\"#000000\" font-family=\"sans-serif\" font-size=\"12\" lengthAdjust=\"spacingAndGlyphs\" textLength=\"81\" x=\"39.5\" y=\"72.2061\">AnalysisCase</text></a><!--MD5=[f6df4d0ebaf0b5dfb2ced0ae5af7c670]\n",
       "cluster E4--><a href=\"psysml:8a4520e8-ac51-4a2a-8007-cfc5f8084f42\" target=\"_top\" title=\"psysml:8a4520e8-ac51-4a2a-8007-cfc5f8084f42\" xlink:actuate=\"onRequest\" xlink:href=\"psysml:8a4520e8-ac51-4a2a-8007-cfc5f8084f42\" xlink:show=\"new\" xlink:title=\"psysml:8a4520e8-ac51-4a2a-8007-cfc5f8084f42\" xlink:type=\"simple\"><rect fill=\"#FFFFFF\" filter=\"url(#f12wottaodc0ma)\" height=\"180\" id=\"E4\" style=\"stroke: #A80036; stroke-width: 1.5;\" width=\"262\" x=\"216\" y=\"42.0986\"/><rect fill=\"#FEFECE\" height=\"37.9375\" style=\"stroke: #A80036; stroke-width: 1.5;\" width=\"262\" x=\"216\" y=\"42.0986\"/><text fill=\"#000000\" font-family=\"sans-serif\" font-size=\"12\" font-style=\"italic\" lengthAdjust=\"spacingAndGlyphs\" textLength=\"88\" x=\"303\" y=\"58.2373\">«analysis def»</text><text fill=\"#000000\" font-family=\"sans-serif\" font-size=\"12\" lengthAdjust=\"spacingAndGlyphs\" textLength=\"77\" x=\"308.5\" y=\"72.2061\">AnalysisPlan</text></a><!--MD5=[14e3b0961a2654348d326746436168a1]\n",
       "cluster E6--><a href=\"psysml:ef775355-9069-4551-a021-5839d9673f3d\" target=\"_top\" title=\"psysml:ef775355-9069-4551-a021-5839d9673f3d\" xlink:actuate=\"onRequest\" xlink:href=\"psysml:ef775355-9069-4551-a021-5839d9673f3d\" xlink:show=\"new\" xlink:title=\"psysml:ef775355-9069-4551-a021-5839d9673f3d\" xlink:type=\"simple\"><rect fill=\"#FFFFFF\" filter=\"url(#f12wottaodc0ma)\" height=\"110.5\" id=\"E6\" rx=\"10\" ry=\"10\" style=\"stroke: #A80036; stroke-width: 1.5;\" width=\"138\" x=\"299\" y=\"81.5986\"/><rect fill=\"#FEFECE\" height=\"37.9375\" rx=\"10\" ry=\"10\" style=\"stroke: #FEFECE; stroke-width: 1.5;\" width=\"138\" x=\"299\" y=\"81.5986\"/><rect fill=\"#FEFECE\" height=\"10\" style=\"stroke: #FEFECE; stroke-width: 1.5;\" width=\"138\" x=\"299\" y=\"109.5361\"/><rect fill=\"none\" height=\"110.5\" id=\"E6\" rx=\"10\" ry=\"10\" style=\"stroke: #A80036; stroke-width: 1.5;\" width=\"138\" x=\"299\" y=\"81.5986\"/><text fill=\"#000000\" font-family=\"sans-serif\" font-size=\"12\" font-style=\"italic\" lengthAdjust=\"spacingAndGlyphs\" textLength=\"64\" x=\"336\" y=\"97.7373\">«analysis»</text><text fill=\"#000000\" font-family=\"sans-serif\" font-size=\"12\" lengthAdjust=\"spacingAndGlyphs\" textLength=\"81\" x=\"327.5\" y=\"111.7061\">analysisCase</text><line style=\"stroke: #A80036; stroke-width: 1.0;\" x1=\"299\" x2=\"437\" y1=\"119.5361\" y2=\"119.5361\"/></a><!--MD5=[a84b4591f868c1fa4a211716a82f2f0d]\n",
       "cluster E10--><a href=\"psysml:26b0c0e9-c7c6-4e19-b68b-97e4f04c11f8\" target=\"_top\" title=\"psysml:26b0c0e9-c7c6-4e19-b68b-97e4f04c11f8\" xlink:actuate=\"onRequest\" xlink:href=\"psysml:26b0c0e9-c7c6-4e19-b68b-97e4f04c11f8\" xlink:show=\"new\" xlink:title=\"psysml:26b0c0e9-c7c6-4e19-b68b-97e4f04c11f8\" xlink:type=\"simple\"><rect fill=\"#FFFFFF\" filter=\"url(#f12wottaodc0ma)\" height=\"122\" id=\"E10\" rx=\"10\" ry=\"10\" style=\"stroke: #A80036; stroke-width: 1.5;\" width=\"130\" x=\"507\" y=\"42.0986\"/><rect fill=\"#FEFECE\" height=\"37.9375\" rx=\"10\" ry=\"10\" style=\"stroke: #FEFECE; stroke-width: 1.5;\" width=\"130\" x=\"507\" y=\"42.0986\"/><rect fill=\"#FEFECE\" height=\"10\" style=\"stroke: #FEFECE; stroke-width: 1.5;\" width=\"130\" x=\"507\" y=\"70.0361\"/><rect fill=\"none\" height=\"122\" id=\"E10\" rx=\"10\" ry=\"10\" style=\"stroke: #A80036; stroke-width: 1.5;\" width=\"130\" x=\"507\" y=\"42.0986\"/><text fill=\"#000000\" font-family=\"sans-serif\" font-size=\"12\" font-style=\"italic\" lengthAdjust=\"spacingAndGlyphs\" textLength=\"64\" x=\"540\" y=\"58.2373\">«analysis»</text><text fill=\"#000000\" font-family=\"sans-serif\" font-size=\"12\" lengthAdjust=\"spacingAndGlyphs\" textLength=\"77\" x=\"533.5\" y=\"72.2061\">analysisPlan</text><line style=\"stroke: #A80036; stroke-width: 1.0;\" x1=\"507\" x2=\"637\" y1=\"80.0361\" y2=\"80.0361\"/></a><text fill=\"#000000\" font-family=\"sans-serif\" font-size=\"14\" lengthAdjust=\"spacingAndGlyphs\" textLength=\"7\" x=\"76.5\" y=\"20.7969\">v</text><rect fill=\"#A80036\" height=\"12\" style=\"stroke: #FEFECE; stroke-width: 1.5;\" width=\"12\" x=\"74\" y=\"36.0986\"/><text fill=\"#000000\" font-family=\"sans-serif\" font-size=\"14\" lengthAdjust=\"spacingAndGlyphs\" textLength=\"39\" x=\"60.5\" y=\"183.0938\">result</text><rect fill=\"#A80036\" height=\"12\" style=\"stroke: #FEFECE; stroke-width: 1.5;\" width=\"12\" x=\"74\" y=\"158.0986\"/><text fill=\"#000000\" font-family=\"sans-serif\" font-size=\"14\" lengthAdjust=\"spacingAndGlyphs\" textLength=\"7\" x=\"230.5\" y=\"20.7969\">v</text><rect fill=\"#A80036\" height=\"12\" style=\"stroke: #FEFECE; stroke-width: 1.5;\" width=\"12\" x=\"228\" y=\"36.0986\"/><text fill=\"#000000\" font-family=\"sans-serif\" font-size=\"14\" lengthAdjust=\"spacingAndGlyphs\" textLength=\"39\" x=\"458.5\" y=\"183.0938\">result</text><rect fill=\"#A80036\" height=\"12\" style=\"stroke: #FEFECE; stroke-width: 1.5;\" width=\"12\" x=\"472\" y=\"158.0986\"/><text fill=\"#000000\" font-family=\"sans-serif\" font-size=\"14\" lengthAdjust=\"spacingAndGlyphs\" textLength=\"37\" x=\"349.5\" y=\"211.0938\">mass</text><rect fill=\"#A80036\" height=\"12\" style=\"stroke: #FEFECE; stroke-width: 1.5;\" width=\"12\" x=\"362\" y=\"186.0986\"/><text fill=\"#000000\" font-family=\"sans-serif\" font-size=\"14\" lengthAdjust=\"spacingAndGlyphs\" textLength=\"7\" x=\"364.5\" y=\"60.2969\">v</text><rect fill=\"#A80036\" height=\"12\" style=\"stroke: #FEFECE; stroke-width: 1.5;\" width=\"12\" x=\"362\" y=\"75.5986\"/><text fill=\"#000000\" font-family=\"sans-serif\" font-size=\"14\" lengthAdjust=\"spacingAndGlyphs\" textLength=\"7\" x=\"567.5\" y=\"20.7969\">v</text><rect fill=\"#A80036\" height=\"12\" style=\"stroke: #FEFECE; stroke-width: 1.5;\" width=\"12\" x=\"565\" y=\"36.0986\"/><text fill=\"#000000\" font-family=\"sans-serif\" font-size=\"14\" lengthAdjust=\"spacingAndGlyphs\" textLength=\"39\" x=\"505.5\" y=\"183.0938\">result</text><rect fill=\"#A80036\" height=\"12\" style=\"stroke: #FEFECE; stroke-width: 1.5;\" width=\"12\" x=\"519\" y=\"158.0986\"/><!--MD5=[ab63585c343bef0373dae32ee46ee112]\n",
       "@startuml\r\n",
       "skinparam ranksep 8\r\n",
       " \r\n",
       "rec def \"AnalysisCase\" as E1 << analysis def>> [[psysml:e9833d01-8fa8-4820-af73-47d7be444de9 ]] {\r\n",
       "portin \"v\" as E2  [[psysml:fc36d359-2f0c-4a32-9d15-fff2be0a8869 ]] \r\n",
       "portout \"result\" as E3  [[psysml:7ffbe20f-c891-4b52-987b-0be8eb99b87a ]] \r\n",
       "}\r\n",
       "\r\n",
       "rec def \"AnalysisPlan\" as E4 << analysis def>> [[psysml:8a4520e8-ac51-4a2a-8007-cfc5f8084f42 ]] {\r\n",
       "portin \"v\" as E5  [[psysml:7635dc34-c4d2-4388-b045-3a6cac182eef ]] \r\n",
       "rec usage \"analysisCase\" as E6 << analysis>> [[psysml:ef775355-9069-4551-a021-5839d9673f3d ]] {\r\n",
       "portout \"mass\" as E7  [[psysml:56f340db-5793-4dc6-898e-9e0a5f90ef66 ]] \r\n",
       "portin \"v\" as E8  [[psysml:d8dc3b58-26c5-4e6e-82f3-a4f0880c0fd9 ]] \r\n",
       "}\r\n",
       "\r\n",
       "portout \"result\" as E9  [[psysml:55ba6aa8-4536-4622-ad3c-e7c6595a0034 ]] \r\n",
       "}\r\n",
       "\r\n",
       "rec usage \"analysisPlan\" as E10 << analysis>> [[psysml:26b0c0e9-c7c6-4e19-b68b-97e4f04c11f8 ]] {\r\n",
       "portin \"v\" as E11  [[psysml:f389b1b7-0af5-48e1-9589-ecdd74e85b57 ]] \r\n",
       "portout \"result\" as E12  [[psysml:bb9048ad-dd49-4e98-ae44-d0812ca693a4 ]] \r\n",
       "}\r\n",
       "\r\n",
       "@enduml\r\n",
       "\n",
       "PlantUML version 1.2020.13(Sat Jun 13 12:26:38 UTC 2020)\n",
       "(EPL source distribution)\n",
       "Java Runtime: OpenJDK Runtime Environment\n",
       "JVM: OpenJDK 64-Bit Server VM\n",
       "Default Encoding: UTF-8\n",
       "Language: en\n",
       "Country: null\n",
       "--></g></svg>"
      ]
     },
     "execution_count": 34,
     "metadata": {},
     "output_type": "execute_result"
    }
   ],
   "source": [
    "%viz --style=\"PLANTUML\" --view=\"Action\" \"AnalysisTest\""
   ]
  },
  {
   "cell_type": "code",
   "execution_count": 35,
   "id": "3be8316d",
   "metadata": {
    "execution": {
     "iopub.execute_input": "2021-09-27T07:15:31.215214Z",
     "iopub.status.busy": "2021-09-27T07:15:31.214761Z",
     "iopub.status.idle": "2021-09-27T07:15:31.218309Z",
     "shell.execute_reply": "2021-09-27T07:15:31.217951Z"
    }
   },
   "outputs": [
    {
     "data": {
      "image/svg+xml": [
       "<?xml version=\"1.0\" encoding=\"UTF-8\" standalone=\"no\"?><svg xmlns=\"http://www.w3.org/2000/svg\" xmlns:xlink=\"http://www.w3.org/1999/xlink\" contentScriptType=\"application/ecmascript\" contentStyleType=\"text/css\" height=\"12px\" preserveAspectRatio=\"none\" style=\"width:12px;height:12px;\" version=\"1.1\" viewBox=\"0 0 12 12\" width=\"12px\" zoomAndPan=\"magnify\"><defs/><g><!--MD5=[ca4faa0b02def275ea33c14ea7a1a98d]\n",
       "@startuml\r\n",
       "skinparam roundcorner 20\r\n",
       "skinparam BoxPadding 20\r\n",
       "skinparam SequenceBoxBackgroundColor #white\r\n",
       "skinparam style strictuml\r\n",
       "skinparam maxMessageSize 100\r\n",
       " \r\n",
       "@enduml\r\n",
       "\n",
       "PlantUML version 1.2020.13(Sat Jun 13 12:26:38 UTC 2020)\n",
       "(EPL source distribution)\n",
       "Java Runtime: OpenJDK Runtime Environment\n",
       "JVM: OpenJDK 64-Bit Server VM\n",
       "Default Encoding: UTF-8\n",
       "Language: en\n",
       "Country: null\n",
       "--></g></svg>"
      ]
     },
     "execution_count": 35,
     "metadata": {},
     "output_type": "execute_result"
    }
   ],
   "source": [
    "%viz --style=\"PLANTUML\" --view=\"Sequence\" \"AnalysisTest\""
   ]
  },
  {
   "cell_type": "code",
   "execution_count": 36,
   "id": "ec0419c9",
   "metadata": {
    "execution": {
     "iopub.execute_input": "2021-09-27T07:15:31.268130Z",
     "iopub.status.busy": "2021-09-27T07:15:31.267701Z",
     "iopub.status.idle": "2021-09-27T07:15:31.325433Z",
     "shell.execute_reply": "2021-09-27T07:15:31.323992Z"
    }
   },
   "outputs": [
    {
     "data": {
      "image/svg+xml": [
       "<?xml version=\"1.0\" encoding=\"UTF-8\" standalone=\"no\"?><svg xmlns=\"http://www.w3.org/2000/svg\" xmlns:xlink=\"http://www.w3.org/1999/xlink\" contentScriptType=\"application/ecmascript\" contentStyleType=\"text/css\" height=\"628px\" preserveAspectRatio=\"none\" style=\"width:837px;height:628px;\" version=\"1.1\" viewBox=\"0 0 837 628\" width=\"837px\" zoomAndPan=\"magnify\"><defs><filter height=\"300%\" id=\"f9zf5on6tjhpp\" width=\"300%\" x=\"-1\" y=\"-1\"><feGaussianBlur result=\"blurOut\" stdDeviation=\"2.0\"/><feColorMatrix in=\"blurOut\" result=\"blurOut2\" type=\"matrix\" values=\"0 0 0 0 0 0 0 0 0 0 0 0 0 0 0 0 0 0 .4 0\"/><feOffset dx=\"4.0\" dy=\"4.0\" in=\"blurOut2\" result=\"blurOut3\"/><feBlend in=\"SourceGraphic\" in2=\"blurOut3\" mode=\"normal\"/></filter></defs><g><!--MD5=[fbc87193dbaf4d95561dea2c320d4a47]\n",
       "cluster E1--><a href=\"psysml:f5546318-5597-445e-83af-957575abd1f7\" target=\"_top\" title=\"psysml:f5546318-5597-445e-83af-957575abd1f7\" xlink:actuate=\"onRequest\" xlink:href=\"psysml:f5546318-5597-445e-83af-957575abd1f7\" xlink:show=\"new\" xlink:title=\"psysml:f5546318-5597-445e-83af-957575abd1f7\" xlink:type=\"simple\"><polygon fill=\"#FFFFFF\" filter=\"url(#f9zf5on6tjhpp)\" points=\"16,6,108,6,115,28.2969,815,28.2969,815,616,16,616,16,6\" style=\"stroke: #000000; stroke-width: 1.5;\"/><line style=\"stroke: #000000; stroke-width: 1.5;\" x1=\"16\" x2=\"115\" y1=\"28.2969\" y2=\"28.2969\"/><text fill=\"#000000\" font-family=\"sans-serif\" font-size=\"14\" font-weight=\"bold\" lengthAdjust=\"spacingAndGlyphs\" textLength=\"86\" x=\"20\" y=\"20.9951\">AnalysisTest</text></a><!--MD5=[de5ec2e2e8f62f467e546659f5068c88]\n",
       "cluster E5--><a href=\"psysml:e9833d01-8fa8-4820-af73-47d7be444de9\" target=\"_top\" title=\"psysml:e9833d01-8fa8-4820-af73-47d7be444de9\" xlink:actuate=\"onRequest\" xlink:href=\"psysml:e9833d01-8fa8-4820-af73-47d7be444de9\" xlink:show=\"new\" xlink:title=\"psysml:e9833d01-8fa8-4820-af73-47d7be444de9\" xlink:type=\"simple\"><rect fill=\"#FFFFFF\" filter=\"url(#f9zf5on6tjhpp)\" height=\"299.5\" id=\"E5\" style=\"stroke: #A80036; stroke-width: 1.5;\" width=\"146\" x=\"653\" y=\"74.5\"/><rect fill=\"#FEFECE\" height=\"37.9375\" style=\"stroke: #A80036; stroke-width: 1.5;\" width=\"146\" x=\"653\" y=\"74.5\"/><text fill=\"#000000\" font-family=\"sans-serif\" font-size=\"12\" font-style=\"italic\" lengthAdjust=\"spacingAndGlyphs\" textLength=\"88\" x=\"682\" y=\"90.6387\">«analysis def»</text><text fill=\"#000000\" font-family=\"sans-serif\" font-size=\"12\" lengthAdjust=\"spacingAndGlyphs\" textLength=\"81\" x=\"685.5\" y=\"104.6074\">AnalysisCase</text></a><!--MD5=[55dfccfc6c49c2d10cd1bd2211a6c90c]\n",
       "cluster E8--><a href=\"psysml:8a4520e8-ac51-4a2a-8007-cfc5f8084f42\" target=\"_top\" title=\"psysml:8a4520e8-ac51-4a2a-8007-cfc5f8084f42\" xlink:actuate=\"onRequest\" xlink:href=\"psysml:8a4520e8-ac51-4a2a-8007-cfc5f8084f42\" xlink:show=\"new\" xlink:title=\"psysml:8a4520e8-ac51-4a2a-8007-cfc5f8084f42\" xlink:type=\"simple\"><rect fill=\"#FFFFFF\" filter=\"url(#f9zf5on6tjhpp)\" height=\"400\" id=\"E8\" style=\"stroke: #A80036; stroke-width: 1.5;\" width=\"259\" x=\"305\" y=\"192\"/><rect fill=\"#FEFECE\" height=\"37.9375\" style=\"stroke: #A80036; stroke-width: 1.5;\" width=\"259\" x=\"305\" y=\"192\"/><text fill=\"#000000\" font-family=\"sans-serif\" font-size=\"12\" font-style=\"italic\" lengthAdjust=\"spacingAndGlyphs\" textLength=\"88\" x=\"390.5\" y=\"208.1387\">«analysis def»</text><text fill=\"#000000\" font-family=\"sans-serif\" font-size=\"12\" lengthAdjust=\"spacingAndGlyphs\" textLength=\"77\" x=\"396\" y=\"222.1074\">AnalysisPlan</text></a><!--MD5=[a84b4591f868c1fa4a211716a82f2f0d]\n",
       "cluster E10--><a href=\"psysml:ef775355-9069-4551-a021-5839d9673f3d\" target=\"_top\" title=\"psysml:ef775355-9069-4551-a021-5839d9673f3d\" xlink:actuate=\"onRequest\" xlink:href=\"psysml:ef775355-9069-4551-a021-5839d9673f3d\" xlink:show=\"new\" xlink:title=\"psysml:ef775355-9069-4551-a021-5839d9673f3d\" xlink:type=\"simple\"><rect fill=\"#FFFFFF\" filter=\"url(#f9zf5on6tjhpp)\" height=\"239\" id=\"E10\" rx=\"10\" ry=\"10\" style=\"stroke: #A80036; stroke-width: 1.5;\" width=\"138\" x=\"388\" y=\"315\"/><rect fill=\"#FEFECE\" height=\"37.9375\" rx=\"10\" ry=\"10\" style=\"stroke: #FEFECE; stroke-width: 1.5;\" width=\"138\" x=\"388\" y=\"315\"/><rect fill=\"#FEFECE\" height=\"10\" style=\"stroke: #FEFECE; stroke-width: 1.5;\" width=\"138\" x=\"388\" y=\"342.9375\"/><rect fill=\"none\" height=\"239\" id=\"E10\" rx=\"10\" ry=\"10\" style=\"stroke: #A80036; stroke-width: 1.5;\" width=\"138\" x=\"388\" y=\"315\"/><text fill=\"#000000\" font-family=\"sans-serif\" font-size=\"12\" font-style=\"italic\" lengthAdjust=\"spacingAndGlyphs\" textLength=\"64\" x=\"425\" y=\"331.1387\">«analysis»</text><text fill=\"#000000\" font-family=\"sans-serif\" font-size=\"12\" lengthAdjust=\"spacingAndGlyphs\" textLength=\"81\" x=\"416.5\" y=\"345.1074\">analysisCase</text><line style=\"stroke: #A80036; stroke-width: 1.0;\" x1=\"388\" x2=\"526\" y1=\"352.9375\" y2=\"352.9375\"/></a><!--MD5=[b4997ac47864f28c2f74865a473b2911]\n",
       "class E2--><a href=\"psysml:df856138-3406-4a6b-b583-20ed5eacc0cd\" target=\"_top\" title=\"psysml:df856138-3406-4a6b-b583-20ed5eacc0cd\" xlink:actuate=\"onRequest\" xlink:href=\"psysml:df856138-3406-4a6b-b583-20ed5eacc0cd\" xlink:show=\"new\" xlink:title=\"psysml:df856138-3406-4a6b-b583-20ed5eacc0cd\" xlink:type=\"simple\"><rect fill=\"#FEFECE\" filter=\"url(#f9zf5on6tjhpp)\" height=\"40\" id=\"E2\" style=\"stroke: #A80036; stroke-width: 1.5;\" width=\"40\" x=\"594\" y=\"172\"/><ellipse cx=\"609\" cy=\"188\" fill=\"#008000\" rx=\"11\" ry=\"11\" style=\"stroke: #A80036; stroke-width: 1.0;\"/><path d=\"M605.875,193 L605.875,182.4063 L609.1094,182.4063 Q611.0156,182.4063 611.9219,183.1563 Q612.8438,183.9063 612.8438,185.0781 Q612.8438,185.7656 612.4531,186.4219 Q612.0781,187.0781 611.3594,187.375 Q612.2188,187.75 612.7344,188.4375 Q613.25,189.125 613.25,189.9375 Q613.25,191.3125 612.2188,192.1563 Q611.2031,193 609.0938,193 L605.875,193 Z M607.7969,186.6406 L608.9531,186.6406 Q610.0781,186.6406 610.4844,186.2656 Q610.9063,185.875 610.9063,185.25 Q610.9063,184.6719 610.4844,184.3125 Q610.0625,183.9531 609.125,183.9531 L607.7969,183.9531 L607.7969,186.6406 Z M607.7969,191.4219 L609.2969,191.4219 Q610.2031,191.4219 610.7344,191.0313 Q611.2656,190.6406 611.2656,189.8906 Q611.2656,189.125 610.7656,188.6563 Q610.2656,188.1719 609,188.1719 L607.7969,188.1719 L607.7969,191.4219 Z \"/><text fill=\"#000000\" font-family=\"sans-serif\" font-size=\"12\" lengthAdjust=\"spacingAndGlyphs\" textLength=\"8\" x=\"623\" y=\"192.1543\">V</text><line style=\"stroke: #A80036; stroke-width: 1.5;\" x1=\"595\" x2=\"633\" y1=\"204\" y2=\"204\"/></a><!--MD5=[09b614a08d8cba4a07c9adeb5e0fee81]\n",
       "class E3--><a href=\"psysml:a14948af-c637-432a-b299-badb5d3ced27\" target=\"_top\" title=\"psysml:a14948af-c637-432a-b299-badb5d3ced27\" xlink:actuate=\"onRequest\" xlink:href=\"psysml:a14948af-c637-432a-b299-badb5d3ced27\" xlink:show=\"new\" xlink:title=\"psysml:a14948af-c637-432a-b299-badb5d3ced27\" xlink:type=\"simple\"><rect fill=\"#FEFECE\" filter=\"url(#f9zf5on6tjhpp)\" height=\"45.9375\" id=\"E3\" rx=\"10\" ry=\"10\" style=\"stroke: #A80036; stroke-width: 1.5;\" width=\"68\" x=\"577\" y=\"51.5\"/><ellipse cx=\"592\" cy=\"70.4688\" fill=\"#32CD32\" rx=\"11\" ry=\"11\" style=\"stroke: #A80036; stroke-width: 1.0;\"/><path d=\"M588.8125,75.4688 L588.8125,64.875 L592.4219,64.875 Q593.6406,64.875 594.4375,65.3125 Q595.2344,65.7344 595.6094,66.4375 Q596,67.1406 596,67.9844 Q596,68.8281 595.625,69.5156 Q595.2656,70.2031 594.4688,70.625 Q593.6875,71.0313 592.5,71.0313 L590.7656,71.0313 L590.7656,75.4688 L588.8125,75.4688 Z M590.7656,69.4375 L592.375,69.4375 Q593.1875,69.4375 593.6094,69.0313 Q594.0313,68.625 594.0313,67.9844 Q594.0313,67.3594 593.6094,66.9531 Q593.1875,66.5469 592.3906,66.5469 L590.7656,66.5469 L590.7656,69.4375 Z \"/><text fill=\"#000000\" font-family=\"sans-serif\" font-size=\"12\" font-style=\"italic\" lengthAdjust=\"spacingAndGlyphs\" textLength=\"40\" x=\"604\" y=\"67.6387\">«part»</text><text fill=\"#000000\" font-family=\"sans-serif\" font-size=\"12\" lengthAdjust=\"spacingAndGlyphs\" textLength=\"28\" x=\"610\" y=\"81.6074\">vv: V</text><line style=\"stroke: #A80036; stroke-width: 1.5;\" x1=\"578\" x2=\"644\" y1=\"89.4375\" y2=\"89.4375\"/></a><!--MD5=[ebbe1d658d1005bcc118a6aa81145e00]\n",
       "class E4--><a href=\"psysml:b06c710d-6070-489f-855d-95835f572a57\" target=\"_top\" title=\"psysml:b06c710d-6070-489f-855d-95835f572a57\" xlink:actuate=\"onRequest\" xlink:href=\"psysml:b06c710d-6070-489f-855d-95835f572a57\" xlink:show=\"new\" xlink:title=\"psysml:b06c710d-6070-489f-855d-95835f572a57\" xlink:type=\"simple\"><rect fill=\"#FEFECE\" filter=\"url(#f9zf5on6tjhpp)\" height=\"66.7422\" id=\"E4\" style=\"stroke: #A80036; stroke-width: 1.5;\" width=\"143\" x=\"314.5\" y=\"41\"/><ellipse cx=\"329.5\" cy=\"59.9688\" fill=\"#A52A2A\" rx=\"11\" ry=\"11\" style=\"stroke: #A80036; stroke-width: 1.0;\"/><path d=\"M326.7188,64.9688 L326.7188,54.375 L329.4531,54.375 Q330.8438,54.375 331.6094,54.7656 Q332.3906,55.1406 332.9219,55.8438 Q333.4531,56.5469 333.75,57.5469 Q334.0469,58.5313 334.0469,59.75 Q334,61.3438 333.5,62.5313 Q333.0156,63.7031 331.9688,64.3438 Q330.9375,64.9688 329.25,64.9688 L326.7188,64.9688 Z M328.5781,63.4688 L329.2031,63.4688 Q330.2813,63.4688 330.9375,63.0156 Q331.5938,62.5625 331.875,61.7344 Q332.1719,60.8906 332.1563,59.7656 Q332.1563,58.5938 331.9063,57.7344 Q331.6563,56.8594 331.0469,56.3906 Q330.4375,55.9063 329.3906,55.9063 L328.5781,55.9063 L328.5781,63.4688 Z \"/><text fill=\"#000000\" font-family=\"sans-serif\" font-size=\"12\" font-style=\"italic\" lengthAdjust=\"spacingAndGlyphs\" textLength=\"115\" x=\"341.5\" y=\"57.1387\">«requirement def»</text><text fill=\"#000000\" font-family=\"sans-serif\" font-size=\"12\" lengthAdjust=\"spacingAndGlyphs\" textLength=\"107\" x=\"345.5\" y=\"71.1074\">AnalysisObjective</text><line style=\"stroke: #A80036; stroke-width: 1.5;\" x1=\"315.5\" x2=\"456.5\" y1=\"78.9375\" y2=\"78.9375\"/><text fill=\"#000000\" font-family=\"sans-serif\" font-size=\"11\" lengthAdjust=\"spacingAndGlyphs\" textLength=\"12\" x=\"320.5\" y=\"93.1479\">...</text><line style=\"stroke: #A80036; stroke-width: 1.0;\" x1=\"315.5\" x2=\"456.5\" y1=\"99.7422\" y2=\"99.7422\"/></a><!--MD5=[bee11217b2f71d958a27249dc326068c]\n",
       "class E14--><a href=\"psysml:e127547d-9ca6-4380-b459-796effe0b56f\" target=\"_top\" title=\"psysml:e127547d-9ca6-4380-b459-796effe0b56f\" xlink:actuate=\"onRequest\" xlink:href=\"psysml:e127547d-9ca6-4380-b459-796effe0b56f\" xlink:show=\"new\" xlink:title=\"psysml:e127547d-9ca6-4380-b459-796effe0b56f\" xlink:type=\"simple\"><rect fill=\"#FEFECE\" filter=\"url(#f9zf5on6tjhpp)\" height=\"45.9375\" id=\"E14\" rx=\"10\" ry=\"10\" style=\"stroke: #A80036; stroke-width: 1.5;\" width=\"130\" x=\"64\" y=\"51.5\"/><ellipse cx=\"79\" cy=\"70.4688\" fill=\"#32CD32\" rx=\"11\" ry=\"11\" style=\"stroke: #A80036; stroke-width: 1.0;\"/><path d=\"M75.8125,75.4688 L75.8125,64.875 L79.4219,64.875 Q80.6406,64.875 81.4375,65.3125 Q82.2344,65.7344 82.6094,66.4375 Q83,67.1406 83,67.9844 Q83,68.8281 82.625,69.5156 Q82.2656,70.2031 81.4688,70.625 Q80.6875,71.0313 79.5,71.0313 L77.7656,71.0313 L77.7656,75.4688 L75.8125,75.4688 Z M77.7656,69.4375 L79.375,69.4375 Q80.1875,69.4375 80.6094,69.0313 Q81.0313,68.625 81.0313,67.9844 Q81.0313,67.3594 80.6094,66.9531 Q80.1875,66.5469 79.3906,66.5469 L77.7656,66.5469 L77.7656,69.4375 Z \"/><text fill=\"#000000\" font-family=\"sans-serif\" font-size=\"12\" font-style=\"italic\" lengthAdjust=\"spacingAndGlyphs\" textLength=\"40\" x=\"122\" y=\"67.6387\">«part»</text><text fill=\"#000000\" font-family=\"sans-serif\" font-size=\"12\" lengthAdjust=\"spacingAndGlyphs\" textLength=\"98\" x=\"93\" y=\"81.6074\">analysisContext</text><line style=\"stroke: #A80036; stroke-width: 1.5;\" x1=\"65\" x2=\"193\" y1=\"89.4375\" y2=\"89.4375\"/></a><!--MD5=[0c48fb7552dae8cbbef69381101a84c8]\n",
       "class E15--><a href=\"psysml:26b0c0e9-c7c6-4e19-b68b-97e4f04c11f8\" target=\"_top\" title=\"psysml:26b0c0e9-c7c6-4e19-b68b-97e4f04c11f8\" xlink:actuate=\"onRequest\" xlink:href=\"psysml:26b0c0e9-c7c6-4e19-b68b-97e4f04c11f8\" xlink:show=\"new\" xlink:title=\"psysml:26b0c0e9-c7c6-4e19-b68b-97e4f04c11f8\" xlink:type=\"simple\"><rect fill=\"#FEFECE\" filter=\"url(#f9zf5on6tjhpp)\" height=\"45.9375\" id=\"E15\" rx=\"10\" ry=\"10\" style=\"stroke: #A80036; stroke-width: 1.5;\" width=\"194\" x=\"32\" y=\"169\"/><ellipse cx=\"47\" cy=\"187.9688\" fill=\"#B6DBBB\" rx=\"11\" ry=\"11\" style=\"stroke: #A80036; stroke-width: 1.0;\"/><path d=\"M46.75,193.4375 Q45,193.4375 44.0469,192.4063 Q43.1094,191.3594 43.1094,189.5156 L43.1094,182.625 L45.1719,182.625 L45.1719,182.7813 Q45.0781,182.875 45.0469,183.0156 Q45.0313,183.1406 45.0313,183.4063 L45.0313,189.5313 Q45.0313,190.625 45.4063,191.25 Q45.7813,191.875 46.7656,191.875 Q47.75,191.875 48.1406,191.25 Q48.5313,190.625 48.5313,189.4844 L48.5313,182.625 L50.4063,182.625 L50.4063,189.4688 Q50.4063,191.5 49.375,192.4688 Q48.3594,193.4375 46.75,193.4375 Z \"/><text fill=\"#000000\" font-family=\"sans-serif\" font-size=\"12\" font-style=\"italic\" lengthAdjust=\"spacingAndGlyphs\" textLength=\"64\" x=\"110\" y=\"185.1387\">«analysis»</text><text fill=\"#000000\" font-family=\"sans-serif\" font-size=\"12\" lengthAdjust=\"spacingAndGlyphs\" textLength=\"162\" x=\"61\" y=\"199.1074\">analysisPlan: AnalysisPlan</text><line style=\"stroke: #A80036; stroke-width: 1.5;\" x1=\"33\" x2=\"225\" y1=\"206.9375\" y2=\"206.9375\"/></a><!--MD5=[35f0587eaee8d5bb9a02e25b63afc23b]\n",
       "class E16--><a href=\"psysml:a55f605c-cc05-4fcd-b9b1-1e930756e010\" target=\"_top\" title=\"psysml:a55f605c-cc05-4fcd-b9b1-1e930756e010\" xlink:actuate=\"onRequest\" xlink:href=\"psysml:a55f605c-cc05-4fcd-b9b1-1e930756e010\" xlink:show=\"new\" xlink:title=\"psysml:a55f605c-cc05-4fcd-b9b1-1e930756e010\" xlink:type=\"simple\"><rect fill=\"#FEFECE\" filter=\"url(#f9zf5on6tjhpp)\" height=\"45.9375\" id=\"E16\" rx=\"10\" ry=\"10\" style=\"stroke: #A80036; stroke-width: 1.5;\" width=\"119\" x=\"69.5\" y=\"292\"/><ellipse cx=\"84.5\" cy=\"310.9688\" fill=\"#FFA500\" rx=\"11\" ry=\"11\" style=\"stroke: #A80036; stroke-width: 1.0;\"/><path d=\"M84.25,316.4375 Q82.5,316.4375 81.5469,315.4063 Q80.6094,314.3594 80.6094,312.5156 L80.6094,305.625 L82.6719,305.625 L82.6719,305.7813 Q82.5781,305.875 82.5469,306.0156 Q82.5313,306.1406 82.5313,306.4063 L82.5313,312.5313 Q82.5313,313.625 82.9063,314.25 Q83.2813,314.875 84.2656,314.875 Q85.25,314.875 85.6406,314.25 Q86.0313,313.625 86.0313,312.4844 L86.0313,305.625 L87.9063,305.625 L87.9063,312.4688 Q87.9063,314.5 86.875,315.4688 Q85.8594,316.4375 84.25,316.4375 Z \"/><text fill=\"#000000\" font-family=\"sans-serif\" font-size=\"12\" font-style=\"italic\" lengthAdjust=\"spacingAndGlyphs\" textLength=\"91\" x=\"96.5\" y=\"308.1387\">«requirement»</text><text fill=\"#000000\" font-family=\"sans-serif\" font-size=\"12\" lengthAdjust=\"spacingAndGlyphs\" textLength=\"19\" x=\"132.5\" y=\"322.1074\">obj</text><line style=\"stroke: #A80036; stroke-width: 1.5;\" x1=\"70.5\" x2=\"187.5\" y1=\"329.9375\" y2=\"329.9375\"/></a><text fill=\"#000000\" font-family=\"sans-serif\" font-size=\"14\" lengthAdjust=\"spacingAndGlyphs\" textLength=\"7\" x=\"722.5\" y=\"53.1982\">v</text><rect fill=\"#A80036\" height=\"12\" style=\"stroke: #FEFECE; stroke-width: 1.5;\" width=\"12\" x=\"720\" y=\"68.5\"/><text fill=\"#000000\" font-family=\"sans-serif\" font-size=\"14\" lengthAdjust=\"spacingAndGlyphs\" textLength=\"39\" x=\"706.5\" y=\"392.9951\">result</text><rect fill=\"#A80036\" height=\"12\" style=\"stroke: #FEFECE; stroke-width: 1.5;\" width=\"12\" x=\"720\" y=\"368\"/><text fill=\"#000000\" font-family=\"sans-serif\" font-size=\"14\" lengthAdjust=\"spacingAndGlyphs\" textLength=\"7\" x=\"319.5\" y=\"170.6982\">v</text><rect fill=\"#A80036\" height=\"12\" style=\"stroke: #FEFECE; stroke-width: 1.5;\" width=\"12\" x=\"317\" y=\"186\"/><text fill=\"#000000\" font-family=\"sans-serif\" font-size=\"14\" lengthAdjust=\"spacingAndGlyphs\" textLength=\"39\" x=\"544.5\" y=\"499.9951\">result</text><rect fill=\"#A80036\" height=\"12\" style=\"stroke: #FEFECE; stroke-width: 1.5;\" width=\"12\" x=\"558\" y=\"475\"/><text fill=\"#000000\" font-family=\"sans-serif\" font-size=\"14\" lengthAdjust=\"spacingAndGlyphs\" textLength=\"37\" x=\"438.5\" y=\"572.9951\">mass</text><rect fill=\"#A80036\" height=\"12\" style=\"stroke: #FEFECE; stroke-width: 1.5;\" width=\"12\" x=\"451\" y=\"548\"/><text fill=\"#000000\" font-family=\"sans-serif\" font-size=\"14\" lengthAdjust=\"spacingAndGlyphs\" textLength=\"7\" x=\"453.5\" y=\"293.6982\">v</text><rect fill=\"#A80036\" height=\"12\" style=\"stroke: #FEFECE; stroke-width: 1.5;\" width=\"12\" x=\"451\" y=\"309\"/><!--MD5=[05d275557350bfb9b23a4ef7222b4c39]\n",
       "link E3 to E2--><a href=\"psysml:4553bbf6-343c-42bd-a219-72e0d50d2170\" target=\"_top\" title=\"psysml:4553bbf6-343c-42bd-a219-72e0d50d2170\" xlink:actuate=\"onRequest\" xlink:href=\"psysml:4553bbf6-343c-42bd-a219-72e0d50d2170\" xlink:show=\"new\" xlink:title=\"psysml:4553bbf6-343c-42bd-a219-72e0d50d2170\" xlink:type=\"simple\"><path d=\"M611.58,97.77 C611.98,113.06 612.51,133.76 612.98,151.77 \" fill=\"none\" id=\"E3-&gt;E2\" style=\"stroke: #A80036; stroke-width: 1.0;\"/><polygon fill=\"#FFFFFF\" points=\"613.5,171.86,606.0136,153.0464,620.0089,152.6862,613.5,171.86\" style=\"stroke: #A80036; stroke-width: 1.0;\"/><ellipse cx=\"607.8663\" cy=\"147.2968\" fill=\"#A80036\" rx=\"2\" ry=\"2\" style=\"stroke: #A80036; stroke-width: 1.0;\"/><ellipse cx=\"617.863\" cy=\"147.0396\" fill=\"#A80036\" rx=\"2\" ry=\"2\" style=\"stroke: #A80036; stroke-width: 1.0;\"/></a><!--MD5=[17bf29720e4688890742b92d9a67fdf0]\n",
       "reverse link E14 to E15--><a href=\"psysml:cf81c84a-d20a-4a9d-8212-c3de89ec9ad0\" target=\"_top\" title=\"psysml:cf81c84a-d20a-4a9d-8212-c3de89ec9ad0\" xlink:actuate=\"onRequest\" xlink:href=\"psysml:cf81c84a-d20a-4a9d-8212-c3de89ec9ad0\" xlink:show=\"new\" xlink:title=\"psysml:cf81c84a-d20a-4a9d-8212-c3de89ec9ad0\" xlink:type=\"simple\"><path d=\"M129,110.99 C129,129.85 129,152.44 129,168.8 \" fill=\"none\" id=\"E14&lt;-E15\" style=\"stroke: #A80036; stroke-width: 1.0;\"/><polygon fill=\"#A80036\" points=\"129,97.77,125,103.77,129,109.77,133,103.77,129,97.77\" style=\"stroke: #A80036; stroke-width: 1.0;\"/></a><!--MD5=[1b01d5b954197aaf3899ca0bde35faf5]\n",
       "link E15 to E8--><a href=\"psysml:31ecf0da-b030-4520-be0f-3ece1376fb5f\" target=\"_top\" title=\"psysml:31ecf0da-b030-4520-be0f-3ece1376fb5f\" xlink:actuate=\"onRequest\" xlink:href=\"psysml:31ecf0da-b030-4520-be0f-3ece1376fb5f\" xlink:show=\"new\" xlink:title=\"psysml:31ecf0da-b030-4520-be0f-3ece1376fb5f\" xlink:type=\"simple\"><path d=\"M164.58,215.19 C202.65,238.94 262.15,276.05 296.37,297.39 \" fill=\"none\" id=\"E15-&gt;E8\" style=\"stroke: #A80036; stroke-width: 1.0;\"/><polygon fill=\"#FFFFFF\" points=\"296.37,297.39,276.5439,293.2758,283.952,281.3964,296.37,297.39\" style=\"stroke: #A80036; stroke-width: 1.0;\"/><ellipse cx=\"272.7656\" cy=\"288.5626\" fill=\"#A80036\" rx=\"2\" ry=\"2\" style=\"stroke: #A80036; stroke-width: 1.0;\"/><ellipse cx=\"278.0571\" cy=\"280.0773\" fill=\"#A80036\" rx=\"2\" ry=\"2\" style=\"stroke: #A80036; stroke-width: 1.0;\"/></a><!--MD5=[f8b155c46b092be73bb522b0a8fc72a2]\n",
       "link E15 to E16--><a href=\"psysml:aa3a7955-6ed3-447d-b0ee-a09ada8803a4\" target=\"_top\" title=\"psysml:aa3a7955-6ed3-447d-b0ee-a09ada8803a4\" xlink:actuate=\"onRequest\" xlink:href=\"psysml:aa3a7955-6ed3-447d-b0ee-a09ada8803a4\" xlink:show=\"new\" xlink:title=\"psysml:aa3a7955-6ed3-447d-b0ee-a09ada8803a4\" xlink:type=\"simple\"><path d=\"M129,215.19 C129,234.47 129,262.55 129,283.86 \" fill=\"none\" id=\"E15-&gt;E16\" style=\"stroke: #A80036; stroke-width: 1.0;\"/><polygon fill=\"#A80036\" points=\"129,291.95,132,283.95,126,283.95,129,291.95\" style=\"stroke: #A80036; stroke-width: 1.0;\"/><text fill=\"#000000\" font-family=\"sans-serif\" font-size=\"13\" lengthAdjust=\"spacingAndGlyphs\" textLength=\"73\" x=\"130\" y=\"258.0669\">«objective»</text><text fill=\"#000000\" font-family=\"sans-serif\" font-size=\"13\" lengthAdjust=\"spacingAndGlyphs\" textLength=\"8\" x=\"119.925\" y=\"280.8328\">1</text></a><!--MD5=[6c9a4ee57a8392fbb92c257dead2faa2]\n",
       "@startuml\r\n",
       " \r\n",
       "package \"AnalysisTest\" as E1  [[psysml:f5546318-5597-445e-83af-957575abd1f7 ]]  {\r\n",
       "comp def \"V\" as E2 << << (B,green) >> [[psysml:df856138-3406-4a6b-b583-20ed5eacc0cd ]] {\r\n",
       "}\r\n",
       "comp usage \"vv: V\" as E3 << << (P,limegreen) part>> [[psysml:a14948af-c637-432a-b299-badb5d3ced27 ]] {\r\n",
       "}\r\n",
       "comp def \"AnalysisObjective\" as E4 << <<(D,brown) requirement def>> [[psysml:b06c710d-6070-489f-855d-95835f572a57 ]] {\r\n",
       "...\r\n",
       "- -\r\n",
       "}\r\n",
       "rec def \"AnalysisCase\" as E5 << analysis def>> [[psysml:e9833d01-8fa8-4820-af73-47d7be444de9 ]] {\r\n",
       "portin \"v\" as E6  [[psysml:fc36d359-2f0c-4a32-9d15-fff2be0a8869 ]] \r\n",
       "portout \"result\" as E7  [[psysml:7ffbe20f-c891-4b52-987b-0be8eb99b87a ]] \r\n",
       "}\r\n",
       "\r\n",
       "rec def \"AnalysisPlan\" as E8 << analysis def>> [[psysml:8a4520e8-ac51-4a2a-8007-cfc5f8084f42 ]] {\r\n",
       "portin \"v\" as E9  [[psysml:7635dc34-c4d2-4388-b045-3a6cac182eef ]] \r\n",
       "rec usage \"analysisCase\" as E10 << analysis>> [[psysml:ef775355-9069-4551-a021-5839d9673f3d ]] {\r\n",
       "portout \"mass\" as E11  [[psysml:56f340db-5793-4dc6-898e-9e0a5f90ef66 ]] \r\n",
       "portin \"v\" as E12  [[psysml:d8dc3b58-26c5-4e6e-82f3-a4f0880c0fd9 ]] \r\n",
       "}\r\n",
       "\r\n",
       "portout \"result\" as E13  [[psysml:55ba6aa8-4536-4622-ad3c-e7c6595a0034 ]] \r\n",
       "}\r\n",
       "\r\n",
       "comp usage \"analysisContext\" as E14 << << (P,limegreen) part>> [[psysml:e127547d-9ca6-4380-b459-796effe0b56f ]] {\r\n",
       "}\r\n",
       "comp usage \"analysisPlan: AnalysisPlan\" as E15 << analysis>> [[psysml:26b0c0e9-c7c6-4e19-b68b-97e4f04c11f8 ]] {\r\n",
       "}\r\n",
       "comp usage \"obj\" as E16 << <<(U,orange) requirement>> [[psysml:a55f605c-cc05-4fcd-b9b1-1e930756e010 ]] {\r\n",
       "}\r\n",
       "}\r\n",
       "E3 - -:|> E2 [[psysml:4553bbf6-343c-42bd-a219-72e0d50d2170 ]] \r\n",
       "E14 *- - E15 [[psysml:cf81c84a-d20a-4a9d-8212-c3de89ec9ad0 ]] \r\n",
       "E15 - -:|> E8 [[psysml:31ecf0da-b030-4520-be0f-3ece1376fb5f ]] \r\n",
       "E15 - ->> \"1\"E16 [[psysml:aa3a7955-6ed3-447d-b0ee-a09ada8803a4 ]] : <<objective>>\r\n",
       "@enduml\r\n",
       "\n",
       "PlantUML version 1.2020.13(Sat Jun 13 12:26:38 UTC 2020)\n",
       "(EPL source distribution)\n",
       "Java Runtime: OpenJDK Runtime Environment\n",
       "JVM: OpenJDK 64-Bit Server VM\n",
       "Default Encoding: UTF-8\n",
       "Language: en\n",
       "Country: null\n",
       "--></g></svg>"
      ]
     },
     "execution_count": 36,
     "metadata": {},
     "output_type": "execute_result"
    }
   ],
   "source": [
    "%viz --style=\"PLANTUML\" --view=\"MIXED\" \"AnalysisTest\""
   ]
  },
  {
   "cell_type": "code",
   "execution_count": 37,
   "id": "1ff544a4",
   "metadata": {
    "execution": {
     "iopub.execute_input": "2021-09-27T07:15:31.374846Z",
     "iopub.status.busy": "2021-09-27T07:15:31.374422Z",
     "iopub.status.idle": "2021-09-27T07:15:31.432189Z",
     "shell.execute_reply": "2021-09-27T07:15:31.431819Z"
    }
   },
   "outputs": [
    {
     "data": {
      "image/svg+xml": [
       "<?xml version=\"1.0\" encoding=\"UTF-8\" standalone=\"no\"?><svg xmlns=\"http://www.w3.org/2000/svg\" xmlns:xlink=\"http://www.w3.org/1999/xlink\" contentScriptType=\"application/ecmascript\" contentStyleType=\"text/css\" height=\"628px\" preserveAspectRatio=\"none\" style=\"width:837px;height:628px;\" version=\"1.1\" viewBox=\"0 0 837 628\" width=\"837px\" zoomAndPan=\"magnify\"><defs/><g><!--MD5=[fbc87193dbaf4d95561dea2c320d4a47]\n",
       "cluster E1--><a href=\"psysml:f5546318-5597-445e-83af-957575abd1f7\" target=\"_top\" title=\"psysml:f5546318-5597-445e-83af-957575abd1f7\" xlink:actuate=\"onRequest\" xlink:href=\"psysml:f5546318-5597-445e-83af-957575abd1f7\" xlink:show=\"new\" xlink:title=\"psysml:f5546318-5597-445e-83af-957575abd1f7\" xlink:type=\"simple\"><polygon fill=\"#FFFFFF\" points=\"16,6,108,6,115,28.2969,815,28.2969,815,616,16,616,16,6\" style=\"stroke: #000000; stroke-width: 1.5;\"/><line style=\"stroke: #000000; stroke-width: 1.5;\" x1=\"16\" x2=\"115\" y1=\"28.2969\" y2=\"28.2969\"/><text fill=\"#000000\" font-family=\"sans-serif\" font-size=\"14\" font-weight=\"bold\" lengthAdjust=\"spacingAndGlyphs\" textLength=\"86\" x=\"20\" y=\"20.9951\">AnalysisTest</text></a><!--MD5=[de5ec2e2e8f62f467e546659f5068c88]\n",
       "cluster E5--><a href=\"psysml:e9833d01-8fa8-4820-af73-47d7be444de9\" target=\"_top\" title=\"psysml:e9833d01-8fa8-4820-af73-47d7be444de9\" xlink:actuate=\"onRequest\" xlink:href=\"psysml:e9833d01-8fa8-4820-af73-47d7be444de9\" xlink:show=\"new\" xlink:title=\"psysml:e9833d01-8fa8-4820-af73-47d7be444de9\" xlink:type=\"simple\"><rect fill=\"#FFFFFF\" height=\"299.5\" id=\"E5\" style=\"stroke: #383838; stroke-width: 1.5;\" width=\"146\" x=\"653\" y=\"74.5\"/><rect fill=\"#F8F8F8\" height=\"37.9375\" style=\"stroke: #383838; stroke-width: 1.5;\" width=\"146\" x=\"653\" y=\"74.5\"/><text fill=\"#000000\" font-family=\"sans-serif\" font-size=\"12\" font-style=\"italic\" lengthAdjust=\"spacingAndGlyphs\" textLength=\"88\" x=\"682\" y=\"90.6387\">«analysis def»</text><text fill=\"#000000\" font-family=\"sans-serif\" font-size=\"12\" lengthAdjust=\"spacingAndGlyphs\" textLength=\"81\" x=\"685.5\" y=\"104.6074\">AnalysisCase</text></a><!--MD5=[55dfccfc6c49c2d10cd1bd2211a6c90c]\n",
       "cluster E8--><a href=\"psysml:8a4520e8-ac51-4a2a-8007-cfc5f8084f42\" target=\"_top\" title=\"psysml:8a4520e8-ac51-4a2a-8007-cfc5f8084f42\" xlink:actuate=\"onRequest\" xlink:href=\"psysml:8a4520e8-ac51-4a2a-8007-cfc5f8084f42\" xlink:show=\"new\" xlink:title=\"psysml:8a4520e8-ac51-4a2a-8007-cfc5f8084f42\" xlink:type=\"simple\"><rect fill=\"#FFFFFF\" height=\"400\" id=\"E8\" style=\"stroke: #383838; stroke-width: 1.5;\" width=\"259\" x=\"279\" y=\"192\"/><rect fill=\"#F8F8F8\" height=\"37.9375\" style=\"stroke: #383838; stroke-width: 1.5;\" width=\"259\" x=\"279\" y=\"192\"/><text fill=\"#000000\" font-family=\"sans-serif\" font-size=\"12\" font-style=\"italic\" lengthAdjust=\"spacingAndGlyphs\" textLength=\"88\" x=\"364.5\" y=\"208.1387\">«analysis def»</text><text fill=\"#000000\" font-family=\"sans-serif\" font-size=\"12\" lengthAdjust=\"spacingAndGlyphs\" textLength=\"77\" x=\"370\" y=\"222.1074\">AnalysisPlan</text></a><!--MD5=[a84b4591f868c1fa4a211716a82f2f0d]\n",
       "cluster E10--><a href=\"psysml:ef775355-9069-4551-a021-5839d9673f3d\" target=\"_top\" title=\"psysml:ef775355-9069-4551-a021-5839d9673f3d\" xlink:actuate=\"onRequest\" xlink:href=\"psysml:ef775355-9069-4551-a021-5839d9673f3d\" xlink:show=\"new\" xlink:title=\"psysml:ef775355-9069-4551-a021-5839d9673f3d\" xlink:type=\"simple\"><rect fill=\"#FFFFFF\" height=\"239\" id=\"E10\" rx=\"10\" ry=\"10\" style=\"stroke: #383838; stroke-width: 1.5;\" width=\"138\" x=\"362\" y=\"315\"/><rect fill=\"#F8F8F8\" height=\"37.9375\" rx=\"10\" ry=\"10\" style=\"stroke: #F8F8F8; stroke-width: 1.5;\" width=\"138\" x=\"362\" y=\"315\"/><rect fill=\"#F8F8F8\" height=\"10\" style=\"stroke: #F8F8F8; stroke-width: 1.5;\" width=\"138\" x=\"362\" y=\"342.9375\"/><rect fill=\"none\" height=\"239\" id=\"E10\" rx=\"10\" ry=\"10\" style=\"stroke: #383838; stroke-width: 1.5;\" width=\"138\" x=\"362\" y=\"315\"/><text fill=\"#000000\" font-family=\"sans-serif\" font-size=\"12\" font-style=\"italic\" lengthAdjust=\"spacingAndGlyphs\" textLength=\"64\" x=\"399\" y=\"331.1387\">«analysis»</text><text fill=\"#000000\" font-family=\"sans-serif\" font-size=\"12\" lengthAdjust=\"spacingAndGlyphs\" textLength=\"81\" x=\"390.5\" y=\"345.1074\">analysisCase</text><line style=\"stroke: #383838; stroke-width: 1.0;\" x1=\"362\" x2=\"500\" y1=\"352.9375\" y2=\"352.9375\"/></a><!--MD5=[b4997ac47864f28c2f74865a473b2911]\n",
       "class E2--><a href=\"psysml:df856138-3406-4a6b-b583-20ed5eacc0cd\" target=\"_top\" title=\"psysml:df856138-3406-4a6b-b583-20ed5eacc0cd\" xlink:actuate=\"onRequest\" xlink:href=\"psysml:df856138-3406-4a6b-b583-20ed5eacc0cd\" xlink:show=\"new\" xlink:title=\"psysml:df856138-3406-4a6b-b583-20ed5eacc0cd\" xlink:type=\"simple\"><rect fill=\"#FFFFFF\" height=\"45.9375\" id=\"E2\" style=\"stroke: #383838; stroke-width: 1.5;\" width=\"66\" x=\"568\" y=\"169\"/><text fill=\"#000000\" font-family=\"sans-serif\" font-size=\"12\" font-style=\"italic\" lengthAdjust=\"spacingAndGlyphs\" textLength=\"64\" x=\"569\" y=\"185.1387\">«part def»</text><text fill=\"#000000\" font-family=\"sans-serif\" font-size=\"12\" lengthAdjust=\"spacingAndGlyphs\" textLength=\"8\" x=\"597\" y=\"199.1074\">V</text><line style=\"stroke: #383838; stroke-width: 1.5;\" x1=\"569\" x2=\"633\" y1=\"206.9375\" y2=\"206.9375\"/></a><!--MD5=[09b614a08d8cba4a07c9adeb5e0fee81]\n",
       "class E3--><a href=\"psysml:a14948af-c637-432a-b299-badb5d3ced27\" target=\"_top\" title=\"psysml:a14948af-c637-432a-b299-badb5d3ced27\" xlink:actuate=\"onRequest\" xlink:href=\"psysml:a14948af-c637-432a-b299-badb5d3ced27\" xlink:show=\"new\" xlink:title=\"psysml:a14948af-c637-432a-b299-badb5d3ced27\" xlink:type=\"simple\"><rect fill=\"#FFFFFF\" height=\"45.9375\" id=\"E3\" rx=\"10\" ry=\"10\" style=\"stroke: #383838; stroke-width: 1.5;\" width=\"42\" x=\"580\" y=\"51.5\"/><text fill=\"#000000\" font-family=\"sans-serif\" font-size=\"12\" font-style=\"italic\" lengthAdjust=\"spacingAndGlyphs\" textLength=\"40\" x=\"581\" y=\"67.6387\">«part»</text><text fill=\"#000000\" font-family=\"sans-serif\" font-size=\"12\" lengthAdjust=\"spacingAndGlyphs\" textLength=\"28\" x=\"587\" y=\"81.6074\">vv: V</text><line style=\"stroke: #383838; stroke-width: 1.5;\" x1=\"581\" x2=\"621\" y1=\"89.4375\" y2=\"89.4375\"/></a><!--MD5=[ebbe1d658d1005bcc118a6aa81145e00]\n",
       "class E4--><a href=\"psysml:b06c710d-6070-489f-855d-95835f572a57\" target=\"_top\" title=\"psysml:b06c710d-6070-489f-855d-95835f572a57\" xlink:actuate=\"onRequest\" xlink:href=\"psysml:b06c710d-6070-489f-855d-95835f572a57\" xlink:show=\"new\" xlink:title=\"psysml:b06c710d-6070-489f-855d-95835f572a57\" xlink:type=\"simple\"><rect fill=\"#FFFFFF\" height=\"66.7422\" id=\"E4\" style=\"stroke: #383838; stroke-width: 1.5;\" width=\"117\" x=\"315.5\" y=\"41\"/><text fill=\"#000000\" font-family=\"sans-serif\" font-size=\"12\" font-style=\"italic\" lengthAdjust=\"spacingAndGlyphs\" textLength=\"115\" x=\"316.5\" y=\"57.1387\">«requirement def»</text><text fill=\"#000000\" font-family=\"sans-serif\" font-size=\"12\" lengthAdjust=\"spacingAndGlyphs\" textLength=\"107\" x=\"320.5\" y=\"71.1074\">AnalysisObjective</text><line style=\"stroke: #383838; stroke-width: 1.5;\" x1=\"316.5\" x2=\"431.5\" y1=\"78.9375\" y2=\"78.9375\"/><text fill=\"#000000\" font-family=\"sans-serif\" font-size=\"11\" lengthAdjust=\"spacingAndGlyphs\" textLength=\"12\" x=\"321.5\" y=\"93.1479\">...</text><line style=\"stroke: #383838; stroke-width: 1.0;\" x1=\"316.5\" x2=\"431.5\" y1=\"99.7422\" y2=\"99.7422\"/></a><!--MD5=[bee11217b2f71d958a27249dc326068c]\n",
       "class E14--><a href=\"psysml:e127547d-9ca6-4380-b459-796effe0b56f\" target=\"_top\" title=\"psysml:e127547d-9ca6-4380-b459-796effe0b56f\" xlink:actuate=\"onRequest\" xlink:href=\"psysml:e127547d-9ca6-4380-b459-796effe0b56f\" xlink:show=\"new\" xlink:title=\"psysml:e127547d-9ca6-4380-b459-796effe0b56f\" xlink:type=\"simple\"><rect fill=\"#FFFFFF\" height=\"45.9375\" id=\"E14\" rx=\"10\" ry=\"10\" style=\"stroke: #383838; stroke-width: 1.5;\" width=\"104\" x=\"64\" y=\"51.5\"/><text fill=\"#000000\" font-family=\"sans-serif\" font-size=\"12\" font-style=\"italic\" lengthAdjust=\"spacingAndGlyphs\" textLength=\"40\" x=\"96\" y=\"67.6387\">«part»</text><text fill=\"#000000\" font-family=\"sans-serif\" font-size=\"12\" lengthAdjust=\"spacingAndGlyphs\" textLength=\"98\" x=\"67\" y=\"81.6074\">analysisContext</text><line style=\"stroke: #383838; stroke-width: 1.5;\" x1=\"65\" x2=\"167\" y1=\"89.4375\" y2=\"89.4375\"/></a><!--MD5=[0c48fb7552dae8cbbef69381101a84c8]\n",
       "class E15--><a href=\"psysml:26b0c0e9-c7c6-4e19-b68b-97e4f04c11f8\" target=\"_top\" title=\"psysml:26b0c0e9-c7c6-4e19-b68b-97e4f04c11f8\" xlink:actuate=\"onRequest\" xlink:href=\"psysml:26b0c0e9-c7c6-4e19-b68b-97e4f04c11f8\" xlink:show=\"new\" xlink:title=\"psysml:26b0c0e9-c7c6-4e19-b68b-97e4f04c11f8\" xlink:type=\"simple\"><rect fill=\"#FFFFFF\" height=\"45.9375\" id=\"E15\" rx=\"10\" ry=\"10\" style=\"stroke: #383838; stroke-width: 1.5;\" width=\"168\" x=\"32\" y=\"169\"/><text fill=\"#000000\" font-family=\"sans-serif\" font-size=\"12\" font-style=\"italic\" lengthAdjust=\"spacingAndGlyphs\" textLength=\"64\" x=\"84\" y=\"185.1387\">«analysis»</text><text fill=\"#000000\" font-family=\"sans-serif\" font-size=\"12\" lengthAdjust=\"spacingAndGlyphs\" textLength=\"162\" x=\"35\" y=\"199.1074\">analysisPlan: AnalysisPlan</text><line style=\"stroke: #383838; stroke-width: 1.5;\" x1=\"33\" x2=\"199\" y1=\"206.9375\" y2=\"206.9375\"/></a><!--MD5=[35f0587eaee8d5bb9a02e25b63afc23b]\n",
       "class E16--><a href=\"psysml:a55f605c-cc05-4fcd-b9b1-1e930756e010\" target=\"_top\" title=\"psysml:a55f605c-cc05-4fcd-b9b1-1e930756e010\" xlink:actuate=\"onRequest\" xlink:href=\"psysml:a55f605c-cc05-4fcd-b9b1-1e930756e010\" xlink:show=\"new\" xlink:title=\"psysml:a55f605c-cc05-4fcd-b9b1-1e930756e010\" xlink:type=\"simple\"><rect fill=\"#FFFFFF\" height=\"45.9375\" id=\"E16\" rx=\"10\" ry=\"10\" style=\"stroke: #383838; stroke-width: 1.5;\" width=\"93\" x=\"69.5\" y=\"292\"/><text fill=\"#000000\" font-family=\"sans-serif\" font-size=\"12\" font-style=\"italic\" lengthAdjust=\"spacingAndGlyphs\" textLength=\"91\" x=\"70.5\" y=\"308.1387\">«requirement»</text><text fill=\"#000000\" font-family=\"sans-serif\" font-size=\"12\" lengthAdjust=\"spacingAndGlyphs\" textLength=\"19\" x=\"106.5\" y=\"322.1074\">obj</text><line style=\"stroke: #383838; stroke-width: 1.5;\" x1=\"70.5\" x2=\"161.5\" y1=\"329.9375\" y2=\"329.9375\"/></a><text fill=\"#000000\" font-family=\"sans-serif\" font-size=\"14\" lengthAdjust=\"spacingAndGlyphs\" textLength=\"7\" x=\"722.5\" y=\"53.1982\">v</text><rect fill=\"#383838\" height=\"12\" style=\"stroke: #F8F8F8; stroke-width: 1.5;\" width=\"12\" x=\"720\" y=\"68.5\"/><text fill=\"#000000\" font-family=\"sans-serif\" font-size=\"14\" lengthAdjust=\"spacingAndGlyphs\" textLength=\"39\" x=\"706.5\" y=\"392.9951\">result</text><rect fill=\"#383838\" height=\"12\" style=\"stroke: #F8F8F8; stroke-width: 1.5;\" width=\"12\" x=\"720\" y=\"368\"/><text fill=\"#000000\" font-family=\"sans-serif\" font-size=\"14\" lengthAdjust=\"spacingAndGlyphs\" textLength=\"7\" x=\"293.5\" y=\"170.6982\">v</text><rect fill=\"#383838\" height=\"12\" style=\"stroke: #F8F8F8; stroke-width: 1.5;\" width=\"12\" x=\"291\" y=\"186\"/><text fill=\"#000000\" font-family=\"sans-serif\" font-size=\"14\" lengthAdjust=\"spacingAndGlyphs\" textLength=\"39\" x=\"518.5\" y=\"499.9951\">result</text><rect fill=\"#383838\" height=\"12\" style=\"stroke: #F8F8F8; stroke-width: 1.5;\" width=\"12\" x=\"532\" y=\"475\"/><text fill=\"#000000\" font-family=\"sans-serif\" font-size=\"14\" lengthAdjust=\"spacingAndGlyphs\" textLength=\"37\" x=\"412.5\" y=\"572.9951\">mass</text><rect fill=\"#383838\" height=\"12\" style=\"stroke: #F8F8F8; stroke-width: 1.5;\" width=\"12\" x=\"425\" y=\"548\"/><text fill=\"#000000\" font-family=\"sans-serif\" font-size=\"14\" lengthAdjust=\"spacingAndGlyphs\" textLength=\"7\" x=\"427.5\" y=\"293.6982\">v</text><rect fill=\"#383838\" height=\"12\" style=\"stroke: #F8F8F8; stroke-width: 1.5;\" width=\"12\" x=\"425\" y=\"309\"/><!--MD5=[05d275557350bfb9b23a4ef7222b4c39]\n",
       "link E3 to E2--><a href=\"psysml:4553bbf6-343c-42bd-a219-72e0d50d2170\" target=\"_top\" title=\"psysml:4553bbf6-343c-42bd-a219-72e0d50d2170\" xlink:actuate=\"onRequest\" xlink:href=\"psysml:4553bbf6-343c-42bd-a219-72e0d50d2170\" xlink:show=\"new\" xlink:title=\"psysml:4553bbf6-343c-42bd-a219-72e0d50d2170\" xlink:type=\"simple\"><path d=\"M601,97.77 C601,112.15 601,131.32 601,148.54 \" fill=\"none\" id=\"E3-&gt;E2\" style=\"stroke: #383838; stroke-width: 1.0;\"/><polygon fill=\"#FFFFFF\" points=\"601,168.8,594,149.8,608,149.8,601,168.8\" style=\"stroke: #383838; stroke-width: 1.0;\"/><ellipse cx=\"596\" cy=\"144.1\" fill=\"#383838\" rx=\"2\" ry=\"2\" style=\"stroke: #383838; stroke-width: 1.0;\"/><ellipse cx=\"606\" cy=\"144.1\" fill=\"#383838\" rx=\"2\" ry=\"2\" style=\"stroke: #383838; stroke-width: 1.0;\"/></a><!--MD5=[17bf29720e4688890742b92d9a67fdf0]\n",
       "reverse link E14 to E15--><a href=\"psysml:cf81c84a-d20a-4a9d-8212-c3de89ec9ad0\" target=\"_top\" title=\"psysml:cf81c84a-d20a-4a9d-8212-c3de89ec9ad0\" xlink:actuate=\"onRequest\" xlink:href=\"psysml:cf81c84a-d20a-4a9d-8212-c3de89ec9ad0\" xlink:show=\"new\" xlink:title=\"psysml:cf81c84a-d20a-4a9d-8212-c3de89ec9ad0\" xlink:type=\"simple\"><path d=\"M116,110.99 C116,129.85 116,152.44 116,168.8 \" fill=\"none\" id=\"E14&lt;-E15\" style=\"stroke: #383838; stroke-width: 1.0;\"/><polygon fill=\"#383838\" points=\"116,97.77,112,103.77,116,109.77,120,103.77,116,97.77\" style=\"stroke: #383838; stroke-width: 1.0;\"/></a><!--MD5=[1b01d5b954197aaf3899ca0bde35faf5]\n",
       "link E15 to E8--><a href=\"psysml:31ecf0da-b030-4520-be0f-3ece1376fb5f\" target=\"_top\" title=\"psysml:31ecf0da-b030-4520-be0f-3ece1376fb5f\" xlink:actuate=\"onRequest\" xlink:href=\"psysml:31ecf0da-b030-4520-be0f-3ece1376fb5f\" xlink:show=\"new\" xlink:title=\"psysml:31ecf0da-b030-4520-be0f-3ece1376fb5f\" xlink:type=\"simple\"><path d=\"M152.22,215.11 C166.86,224.19 183.85,234.93 199,245 C225.17,262.39 254.56,283.27 274.27,297.48 \" fill=\"none\" id=\"E15-&gt;E8\" style=\"stroke: #383838; stroke-width: 1.0;\"/><polygon fill=\"#FFFFFF\" points=\"274.27,297.48,254.7641,292.0467,262.9515,280.6904,274.27,297.48\" style=\"stroke: #383838; stroke-width: 1.0;\"/><ellipse cx=\"251.3101\" cy=\"287.0909\" fill=\"#383838\" rx=\"2\" ry=\"2\" style=\"stroke: #383838; stroke-width: 1.0;\"/><ellipse cx=\"257.1582\" cy=\"278.9793\" fill=\"#383838\" rx=\"2\" ry=\"2\" style=\"stroke: #383838; stroke-width: 1.0;\"/></a><!--MD5=[f8b155c46b092be73bb522b0a8fc72a2]\n",
       "link E15 to E16--><a href=\"psysml:aa3a7955-6ed3-447d-b0ee-a09ada8803a4\" target=\"_top\" title=\"psysml:aa3a7955-6ed3-447d-b0ee-a09ada8803a4\" xlink:actuate=\"onRequest\" xlink:href=\"psysml:aa3a7955-6ed3-447d-b0ee-a09ada8803a4\" xlink:show=\"new\" xlink:title=\"psysml:aa3a7955-6ed3-447d-b0ee-a09ada8803a4\" xlink:type=\"simple\"><path d=\"M116,215.19 C116,234.47 116,262.55 116,283.86 \" fill=\"none\" id=\"E15-&gt;E16\" style=\"stroke: #383838; stroke-width: 1.0;\"/><polygon fill=\"#383838\" points=\"116,291.95,119,283.95,113,283.95,116,291.95\" style=\"stroke: #383838; stroke-width: 1.0;\"/><text fill=\"#000000\" font-family=\"sans-serif\" font-size=\"13\" lengthAdjust=\"spacingAndGlyphs\" textLength=\"73\" x=\"117\" y=\"258.0669\">«objective»</text><text fill=\"#000000\" font-family=\"sans-serif\" font-size=\"13\" lengthAdjust=\"spacingAndGlyphs\" textLength=\"8\" x=\"106.925\" y=\"280.8328\">1</text></a><!--MD5=[b88446ef1a5fe0547c50e66ac9b9eed3]\n",
       "@startuml\r\n",
       "skinparam monochrome true\r\n",
       "skinparam classbackgroundcolor white\r\n",
       "skinparam shadowing false\r\n",
       "skinparam wrapWidth 300\r\n",
       "hide circle\r\n",
       "\r\n",
       "package \"AnalysisTest\" as E1  [[psysml:f5546318-5597-445e-83af-957575abd1f7 ]]  {\r\n",
       "comp def \"V\" as E2  <<(T,blue) part def>> [[psysml:df856138-3406-4a6b-b583-20ed5eacc0cd ]] {\r\n",
       "}\r\n",
       "comp usage \"vv: V\" as E3  <<(T,blue) part>> [[psysml:a14948af-c637-432a-b299-badb5d3ced27 ]] {\r\n",
       "}\r\n",
       "comp def \"AnalysisObjective\" as E4  <<(T,blue) requirement def>> [[psysml:b06c710d-6070-489f-855d-95835f572a57 ]] {\r\n",
       "...\r\n",
       "- -\r\n",
       "}\r\n",
       "rec def \"AnalysisCase\" as E5 << analysis def>> [[psysml:e9833d01-8fa8-4820-af73-47d7be444de9 ]] {\r\n",
       "portin \"v\" as E6  [[psysml:fc36d359-2f0c-4a32-9d15-fff2be0a8869 ]] \r\n",
       "portout \"result\" as E7  [[psysml:7ffbe20f-c891-4b52-987b-0be8eb99b87a ]] \r\n",
       "}\r\n",
       "\r\n",
       "rec def \"AnalysisPlan\" as E8 << analysis def>> [[psysml:8a4520e8-ac51-4a2a-8007-cfc5f8084f42 ]] {\r\n",
       "portin \"v\" as E9  [[psysml:7635dc34-c4d2-4388-b045-3a6cac182eef ]] \r\n",
       "rec usage \"analysisCase\" as E10 << analysis>> [[psysml:ef775355-9069-4551-a021-5839d9673f3d ]] {\r\n",
       "portout \"mass\" as E11  [[psysml:56f340db-5793-4dc6-898e-9e0a5f90ef66 ]] \r\n",
       "portin \"v\" as E12  [[psysml:d8dc3b58-26c5-4e6e-82f3-a4f0880c0fd9 ]] \r\n",
       "}\r\n",
       "\r\n",
       "portout \"result\" as E13  [[psysml:55ba6aa8-4536-4622-ad3c-e7c6595a0034 ]] \r\n",
       "}\r\n",
       "\r\n",
       "comp usage \"analysisContext\" as E14  <<(T,blue) part>> [[psysml:e127547d-9ca6-4380-b459-796effe0b56f ]] {\r\n",
       "}\r\n",
       "comp usage \"analysisPlan: AnalysisPlan\" as E15 << analysis>> [[psysml:26b0c0e9-c7c6-4e19-b68b-97e4f04c11f8 ]] {\r\n",
       "}\r\n",
       "comp usage \"obj\" as E16  <<(T,blue) requirement>> [[psysml:a55f605c-cc05-4fcd-b9b1-1e930756e010 ]] {\r\n",
       "}\r\n",
       "}\r\n",
       "E3 - -:|> E2 [[psysml:4553bbf6-343c-42bd-a219-72e0d50d2170 ]] \r\n",
       "E14 *- - E15 [[psysml:cf81c84a-d20a-4a9d-8212-c3de89ec9ad0 ]] \r\n",
       "E15 - -:|> E8 [[psysml:31ecf0da-b030-4520-be0f-3ece1376fb5f ]] \r\n",
       "E15 - ->> \"1\"E16 [[psysml:aa3a7955-6ed3-447d-b0ee-a09ada8803a4 ]] : <<objective>>\r\n",
       "@enduml\r\n",
       "\n",
       "PlantUML version 1.2020.13(Sat Jun 13 12:26:38 UTC 2020)\n",
       "(EPL source distribution)\n",
       "Java Runtime: OpenJDK Runtime Environment\n",
       "JVM: OpenJDK 64-Bit Server VM\n",
       "Default Encoding: UTF-8\n",
       "Language: en\n",
       "Country: null\n",
       "--></g></svg>"
      ]
     },
     "execution_count": 37,
     "metadata": {},
     "output_type": "execute_result"
    }
   ],
   "source": [
    "%viz --style=\"DEFAULT\" --view=\"Default\" \"AnalysisTest\""
   ]
  },
  {
   "cell_type": "code",
   "execution_count": 38,
   "id": "5bd03bf4",
   "metadata": {
    "execution": {
     "iopub.execute_input": "2021-09-27T07:15:31.481774Z",
     "iopub.status.busy": "2021-09-27T07:15:31.481372Z",
     "iopub.status.idle": "2021-09-27T07:15:31.544790Z",
     "shell.execute_reply": "2021-09-27T07:15:31.544413Z"
    }
   },
   "outputs": [
    {
     "data": {
      "image/svg+xml": [
       "<?xml version=\"1.0\" encoding=\"UTF-8\" standalone=\"no\"?><svg xmlns=\"http://www.w3.org/2000/svg\" xmlns:xlink=\"http://www.w3.org/1999/xlink\" contentScriptType=\"application/ecmascript\" contentStyleType=\"text/css\" height=\"863px\" preserveAspectRatio=\"none\" style=\"width:412px;height:863px;\" version=\"1.1\" viewBox=\"0 0 412 863\" width=\"412px\" zoomAndPan=\"magnify\"><defs/><g><!--MD5=[fbc87193dbaf4d95561dea2c320d4a47]\n",
       "cluster E1--><a href=\"psysml:f5546318-5597-445e-83af-957575abd1f7\" target=\"_top\" title=\"psysml:f5546318-5597-445e-83af-957575abd1f7\" xlink:actuate=\"onRequest\" xlink:href=\"psysml:f5546318-5597-445e-83af-957575abd1f7\" xlink:show=\"new\" xlink:title=\"psysml:f5546318-5597-445e-83af-957575abd1f7\" xlink:type=\"simple\"><polygon fill=\"#FFFFFF\" points=\"16,6,108,6,115,28.2969,390,28.2969,390,851,16,851,16,6\" style=\"stroke: #000000; stroke-width: 1.5;\"/><line style=\"stroke: #000000; stroke-width: 1.5;\" x1=\"16\" x2=\"115\" y1=\"28.2969\" y2=\"28.2969\"/><text fill=\"#000000\" font-family=\"sans-serif\" font-size=\"14\" font-weight=\"bold\" lengthAdjust=\"spacingAndGlyphs\" textLength=\"86\" x=\"20\" y=\"20.9951\">AnalysisTest</text></a><!--MD5=[b4997ac47864f28c2f74865a473b2911]\n",
       "class E2--><a href=\"psysml:df856138-3406-4a6b-b583-20ed5eacc0cd\" target=\"_top\" title=\"psysml:df856138-3406-4a6b-b583-20ed5eacc0cd\" xlink:actuate=\"onRequest\" xlink:href=\"psysml:df856138-3406-4a6b-b583-20ed5eacc0cd\" xlink:show=\"new\" xlink:title=\"psysml:df856138-3406-4a6b-b583-20ed5eacc0cd\" xlink:type=\"simple\"><rect fill=\"#FFFFFF\" height=\"45.9375\" id=\"E2\" style=\"stroke: #383838; stroke-width: 1.5;\" width=\"66\" x=\"121\" y=\"661\"/><text fill=\"#000000\" font-family=\"sans-serif\" font-size=\"12\" font-style=\"italic\" lengthAdjust=\"spacingAndGlyphs\" textLength=\"64\" x=\"122\" y=\"677.1387\">«part def»</text><text fill=\"#000000\" font-family=\"sans-serif\" font-size=\"12\" lengthAdjust=\"spacingAndGlyphs\" textLength=\"8\" x=\"150\" y=\"691.1074\">V</text><line style=\"stroke: #383838; stroke-width: 1.5;\" x1=\"122\" x2=\"186\" y1=\"698.9375\" y2=\"698.9375\"/></a><!--MD5=[09b614a08d8cba4a07c9adeb5e0fee81]\n",
       "class E3--><a href=\"psysml:a14948af-c637-432a-b299-badb5d3ced27\" target=\"_top\" title=\"psysml:a14948af-c637-432a-b299-badb5d3ced27\" xlink:actuate=\"onRequest\" xlink:href=\"psysml:a14948af-c637-432a-b299-badb5d3ced27\" xlink:show=\"new\" xlink:title=\"psysml:a14948af-c637-432a-b299-badb5d3ced27\" xlink:type=\"simple\"><rect fill=\"#FFFFFF\" height=\"45.9375\" id=\"E3\" rx=\"10\" ry=\"10\" style=\"stroke: #383838; stroke-width: 1.5;\" width=\"42\" x=\"207\" y=\"538\"/><text fill=\"#000000\" font-family=\"sans-serif\" font-size=\"12\" font-style=\"italic\" lengthAdjust=\"spacingAndGlyphs\" textLength=\"40\" x=\"208\" y=\"554.1387\">«part»</text><text fill=\"#000000\" font-family=\"sans-serif\" font-size=\"12\" lengthAdjust=\"spacingAndGlyphs\" textLength=\"28\" x=\"214\" y=\"568.1074\">vv: V</text><line style=\"stroke: #383838; stroke-width: 1.5;\" x1=\"208\" x2=\"248\" y1=\"575.9375\" y2=\"575.9375\"/></a><!--MD5=[ebbe1d658d1005bcc118a6aa81145e00]\n",
       "class E4--><a href=\"psysml:b06c710d-6070-489f-855d-95835f572a57\" target=\"_top\" title=\"psysml:b06c710d-6070-489f-855d-95835f572a57\" xlink:actuate=\"onRequest\" xlink:href=\"psysml:b06c710d-6070-489f-855d-95835f572a57\" xlink:show=\"new\" xlink:title=\"psysml:b06c710d-6070-489f-855d-95835f572a57\" xlink:type=\"simple\"><rect fill=\"#FFFFFF\" height=\"66.7422\" id=\"E4\" style=\"stroke: #383838; stroke-width: 1.5;\" width=\"117\" x=\"240.5\" y=\"768\"/><text fill=\"#000000\" font-family=\"sans-serif\" font-size=\"12\" font-style=\"italic\" lengthAdjust=\"spacingAndGlyphs\" textLength=\"115\" x=\"241.5\" y=\"784.1387\">«requirement def»</text><text fill=\"#000000\" font-family=\"sans-serif\" font-size=\"12\" lengthAdjust=\"spacingAndGlyphs\" textLength=\"107\" x=\"245.5\" y=\"798.1074\">AnalysisObjective</text><line style=\"stroke: #383838; stroke-width: 1.5;\" x1=\"241.5\" x2=\"356.5\" y1=\"805.9375\" y2=\"805.9375\"/><text fill=\"#000000\" font-family=\"sans-serif\" font-size=\"11\" lengthAdjust=\"spacingAndGlyphs\" textLength=\"12\" x=\"246.5\" y=\"820.1479\">...</text><line style=\"stroke: #383838; stroke-width: 1.0;\" x1=\"241.5\" x2=\"356.5\" y1=\"826.7422\" y2=\"826.7422\"/></a><!--MD5=[270fce915f116d4de14055a7c1d9a0f3]\n",
       "class E5--><a href=\"psysml:e9833d01-8fa8-4820-af73-47d7be444de9\" target=\"_top\" title=\"psysml:e9833d01-8fa8-4820-af73-47d7be444de9\" xlink:actuate=\"onRequest\" xlink:href=\"psysml:e9833d01-8fa8-4820-af73-47d7be444de9\" xlink:show=\"new\" xlink:title=\"psysml:e9833d01-8fa8-4820-af73-47d7be444de9\" xlink:type=\"simple\"><rect fill=\"#FFFFFF\" height=\"45.9375\" id=\"E5\" style=\"stroke: #383838; stroke-width: 1.5;\" width=\"90\" x=\"284\" y=\"538\"/><text fill=\"#000000\" font-family=\"sans-serif\" font-size=\"12\" font-style=\"italic\" lengthAdjust=\"spacingAndGlyphs\" textLength=\"88\" x=\"285\" y=\"554.1387\">«analysis def»</text><text fill=\"#000000\" font-family=\"sans-serif\" font-size=\"12\" lengthAdjust=\"spacingAndGlyphs\" textLength=\"81\" x=\"288.5\" y=\"568.1074\">AnalysisCase</text><line style=\"stroke: #383838; stroke-width: 1.5;\" x1=\"285\" x2=\"373\" y1=\"575.9375\" y2=\"575.9375\"/></a><!--MD5=[60a26617385b1d2d0262a64233df1f8d]\n",
       "class E6--><a href=\"psysml:5d02fb37-4730-4ed2-b0a0-8fa990128639\" target=\"_top\" title=\"psysml:5d02fb37-4730-4ed2-b0a0-8fa990128639\" xlink:actuate=\"onRequest\" xlink:href=\"psysml:5d02fb37-4730-4ed2-b0a0-8fa990128639\" xlink:show=\"new\" xlink:title=\"psysml:5d02fb37-4730-4ed2-b0a0-8fa990128639\" xlink:type=\"simple\"><rect fill=\"#FFFFFF\" height=\"45.9375\" id=\"E6\" rx=\"10\" ry=\"10\" style=\"stroke: #383838; stroke-width: 1.5;\" width=\"140\" x=\"229\" y=\"661\"/><text fill=\"#000000\" font-family=\"sans-serif\" font-size=\"12\" font-style=\"italic\" lengthAdjust=\"spacingAndGlyphs\" textLength=\"91\" x=\"253.5\" y=\"677.1387\">«requirement»</text><text fill=\"#000000\" font-family=\"sans-serif\" font-size=\"12\" lengthAdjust=\"spacingAndGlyphs\" textLength=\"134\" x=\"232\" y=\"691.1074\">obj: AnalysisObjective</text><line style=\"stroke: #383838; stroke-width: 1.5;\" x1=\"230\" x2=\"368\" y1=\"698.9375\" y2=\"698.9375\"/></a><!--MD5=[2156ba9850f5573cc1fc38a6a4b2f02b]\n",
       "class E7--><a href=\"psysml:8a4520e8-ac51-4a2a-8007-cfc5f8084f42\" target=\"_top\" title=\"psysml:8a4520e8-ac51-4a2a-8007-cfc5f8084f42\" xlink:actuate=\"onRequest\" xlink:href=\"psysml:8a4520e8-ac51-4a2a-8007-cfc5f8084f42\" xlink:show=\"new\" xlink:title=\"psysml:8a4520e8-ac51-4a2a-8007-cfc5f8084f42\" xlink:type=\"simple\"><rect fill=\"#FFFFFF\" height=\"45.9375\" id=\"E7\" style=\"stroke: #383838; stroke-width: 1.5;\" width=\"90\" x=\"71\" y=\"271\"/><text fill=\"#000000\" font-family=\"sans-serif\" font-size=\"12\" font-style=\"italic\" lengthAdjust=\"spacingAndGlyphs\" textLength=\"88\" x=\"72\" y=\"287.1387\">«analysis def»</text><text fill=\"#000000\" font-family=\"sans-serif\" font-size=\"12\" lengthAdjust=\"spacingAndGlyphs\" textLength=\"77\" x=\"77.5\" y=\"301.1074\">AnalysisPlan</text><line style=\"stroke: #383838; stroke-width: 1.5;\" x1=\"72\" x2=\"160\" y1=\"308.9375\" y2=\"308.9375\"/></a><!--MD5=[b9389687b975829384b498ac4b7476b2]\n",
       "class E8--><a href=\"psysml:c9e778b5-528f-48e8-8904-91782dcf8fb6\" target=\"_top\" title=\"psysml:c9e778b5-528f-48e8-8904-91782dcf8fb6\" xlink:actuate=\"onRequest\" xlink:href=\"psysml:c9e778b5-528f-48e8-8904-91782dcf8fb6\" xlink:show=\"new\" xlink:title=\"psysml:c9e778b5-528f-48e8-8904-91782dcf8fb6\" xlink:type=\"simple\"><rect fill=\"#FFFFFF\" height=\"66.7422\" id=\"E8\" rx=\"10\" ry=\"10\" style=\"stroke: #383838; stroke-width: 1.5;\" width=\"93\" x=\"69.5\" y=\"394\"/><text fill=\"#000000\" font-family=\"sans-serif\" font-size=\"12\" font-style=\"italic\" lengthAdjust=\"spacingAndGlyphs\" textLength=\"91\" x=\"70.5\" y=\"410.1387\">«requirement»</text><text fill=\"#000000\" font-family=\"sans-serif\" font-size=\"12\" lengthAdjust=\"spacingAndGlyphs\" textLength=\"19\" x=\"106.5\" y=\"424.1074\">obj</text><line style=\"stroke: #383838; stroke-width: 1.5;\" x1=\"70.5\" x2=\"161.5\" y1=\"431.9375\" y2=\"431.9375\"/><text fill=\"#000000\" font-family=\"sans-serif\" font-size=\"11\" lengthAdjust=\"spacingAndGlyphs\" textLength=\"12\" x=\"75.5\" y=\"446.1479\">...</text><line style=\"stroke: #383838; stroke-width: 1.0;\" x1=\"70.5\" x2=\"161.5\" y1=\"452.7422\" y2=\"452.7422\"/></a><!--MD5=[fd4143e9d270a159db93a4ea2a975926]\n",
       "class E9--><a href=\"psysml:ef775355-9069-4551-a021-5839d9673f3d\" target=\"_top\" title=\"psysml:ef775355-9069-4551-a021-5839d9673f3d\" xlink:actuate=\"onRequest\" xlink:href=\"psysml:ef775355-9069-4551-a021-5839d9673f3d\" xlink:show=\"new\" xlink:title=\"psysml:ef775355-9069-4551-a021-5839d9673f3d\" xlink:type=\"simple\"><rect fill=\"#FFFFFF\" height=\"45.9375\" id=\"E9\" rx=\"10\" ry=\"10\" style=\"stroke: #383838; stroke-width: 1.5;\" width=\"176\" x=\"198\" y=\"404.5\"/><text fill=\"#000000\" font-family=\"sans-serif\" font-size=\"12\" font-style=\"italic\" lengthAdjust=\"spacingAndGlyphs\" textLength=\"64\" x=\"254\" y=\"420.6387\">«analysis»</text><text fill=\"#000000\" font-family=\"sans-serif\" font-size=\"12\" lengthAdjust=\"spacingAndGlyphs\" textLength=\"170\" x=\"201\" y=\"434.6074\">analysisCase: AnalysisCase</text><line style=\"stroke: #383838; stroke-width: 1.5;\" x1=\"199\" x2=\"373\" y1=\"442.4375\" y2=\"442.4375\"/></a><!--MD5=[96f4274e9e20536e775497830990834d]\n",
       "class E10--><a href=\"psysml:37fc8968-437f-41f6-96b6-577444b5c586\" target=\"_top\" title=\"psysml:37fc8968-437f-41f6-96b6-577444b5c586\" xlink:actuate=\"onRequest\" xlink:href=\"psysml:37fc8968-437f-41f6-96b6-577444b5c586\" xlink:show=\"new\" xlink:title=\"psysml:37fc8968-437f-41f6-96b6-577444b5c586\" xlink:type=\"simple\"><rect fill=\"#FFFFFF\" height=\"45.9375\" id=\"E10\" rx=\"10\" ry=\"10\" style=\"stroke: #383838; stroke-width: 1.5;\" width=\"93\" x=\"78.5\" y=\"538\"/><text fill=\"#000000\" font-family=\"sans-serif\" font-size=\"12\" font-style=\"italic\" lengthAdjust=\"spacingAndGlyphs\" textLength=\"91\" x=\"79.5\" y=\"554.1387\">«requirement»</text><text fill=\"#000000\" font-family=\"sans-serif\" font-size=\"12\" lengthAdjust=\"spacingAndGlyphs\" textLength=\"19\" x=\"115.5\" y=\"568.1074\">obj</text><line style=\"stroke: #383838; stroke-width: 1.5;\" x1=\"79.5\" x2=\"170.5\" y1=\"575.9375\" y2=\"575.9375\"/></a><!--MD5=[1dd1bfd58a279cf63c5f349dbc8fc6a1]\n",
       "class E11--><a href=\"psysml:e127547d-9ca6-4380-b459-796effe0b56f\" target=\"_top\" title=\"psysml:e127547d-9ca6-4380-b459-796effe0b56f\" xlink:actuate=\"onRequest\" xlink:href=\"psysml:e127547d-9ca6-4380-b459-796effe0b56f\" xlink:show=\"new\" xlink:title=\"psysml:e127547d-9ca6-4380-b459-796effe0b56f\" xlink:type=\"simple\"><rect fill=\"#FFFFFF\" height=\"45.9375\" id=\"E11\" rx=\"10\" ry=\"10\" style=\"stroke: #383838; stroke-width: 1.5;\" width=\"104\" x=\"84\" y=\"41\"/><text fill=\"#000000\" font-family=\"sans-serif\" font-size=\"12\" font-style=\"italic\" lengthAdjust=\"spacingAndGlyphs\" textLength=\"40\" x=\"116\" y=\"57.1387\">«part»</text><text fill=\"#000000\" font-family=\"sans-serif\" font-size=\"12\" lengthAdjust=\"spacingAndGlyphs\" textLength=\"98\" x=\"87\" y=\"71.1074\">analysisContext</text><line style=\"stroke: #383838; stroke-width: 1.5;\" x1=\"85\" x2=\"187\" y1=\"78.9375\" y2=\"78.9375\"/></a><!--MD5=[49a0ec8f00dab7302a31f22d0f0fe584]\n",
       "class E12--><a href=\"psysml:26b0c0e9-c7c6-4e19-b68b-97e4f04c11f8\" target=\"_top\" title=\"psysml:26b0c0e9-c7c6-4e19-b68b-97e4f04c11f8\" xlink:actuate=\"onRequest\" xlink:href=\"psysml:26b0c0e9-c7c6-4e19-b68b-97e4f04c11f8\" xlink:show=\"new\" xlink:title=\"psysml:26b0c0e9-c7c6-4e19-b68b-97e4f04c11f8\" xlink:type=\"simple\"><rect fill=\"#FFFFFF\" height=\"45.9375\" id=\"E12\" rx=\"10\" ry=\"10\" style=\"stroke: #383838; stroke-width: 1.5;\" width=\"168\" x=\"52\" y=\"148\"/><text fill=\"#000000\" font-family=\"sans-serif\" font-size=\"12\" font-style=\"italic\" lengthAdjust=\"spacingAndGlyphs\" textLength=\"64\" x=\"104\" y=\"164.1387\">«analysis»</text><text fill=\"#000000\" font-family=\"sans-serif\" font-size=\"12\" lengthAdjust=\"spacingAndGlyphs\" textLength=\"162\" x=\"55\" y=\"178.1074\">analysisPlan: AnalysisPlan</text><line style=\"stroke: #383838; stroke-width: 1.5;\" x1=\"53\" x2=\"219\" y1=\"185.9375\" y2=\"185.9375\"/></a><!--MD5=[ee3c913d1a06f366521f9ef512b67efe]\n",
       "class E13--><a href=\"psysml:a55f605c-cc05-4fcd-b9b1-1e930756e010\" target=\"_top\" title=\"psysml:a55f605c-cc05-4fcd-b9b1-1e930756e010\" xlink:actuate=\"onRequest\" xlink:href=\"psysml:a55f605c-cc05-4fcd-b9b1-1e930756e010\" xlink:show=\"new\" xlink:title=\"psysml:a55f605c-cc05-4fcd-b9b1-1e930756e010\" xlink:type=\"simple\"><rect fill=\"#FFFFFF\" height=\"45.9375\" id=\"E13\" rx=\"10\" ry=\"10\" style=\"stroke: #383838; stroke-width: 1.5;\" width=\"93\" x=\"196.5\" y=\"271\"/><text fill=\"#000000\" font-family=\"sans-serif\" font-size=\"12\" font-style=\"italic\" lengthAdjust=\"spacingAndGlyphs\" textLength=\"91\" x=\"197.5\" y=\"287.1387\">«requirement»</text><text fill=\"#000000\" font-family=\"sans-serif\" font-size=\"12\" lengthAdjust=\"spacingAndGlyphs\" textLength=\"19\" x=\"233.5\" y=\"301.1074\">obj</text><line style=\"stroke: #383838; stroke-width: 1.5;\" x1=\"197.5\" x2=\"288.5\" y1=\"308.9375\" y2=\"308.9375\"/></a><!--MD5=[05d275557350bfb9b23a4ef7222b4c39]\n",
       "link E3 to E2--><a href=\"psysml:4553bbf6-343c-42bd-a219-72e0d50d2170\" target=\"_top\" title=\"psysml:4553bbf6-343c-42bd-a219-72e0d50d2170\" xlink:actuate=\"onRequest\" xlink:href=\"psysml:4553bbf6-343c-42bd-a219-72e0d50d2170\" xlink:show=\"new\" xlink:title=\"psysml:4553bbf6-343c-42bd-a219-72e0d50d2170\" xlink:type=\"simple\"><path d=\"M206.85,575.13 C188.68,586.88 164.56,603.79 159,614 C154.64,622.01 152.42,631.34 151.47,640.5 \" fill=\"none\" id=\"E3-&gt;E2\" style=\"stroke: #383838; stroke-width: 1.0;\"/><polygon fill=\"#FFFFFF\" points=\"151.1,660.87,144.4403,641.748,158.4381,641.998,151.1,660.87\" style=\"stroke: #383838; stroke-width: 1.0;\"/><ellipse cx=\"146.5418\" cy=\"636.0847\" fill=\"#383838\" rx=\"2\" ry=\"2\" style=\"stroke: #383838; stroke-width: 1.0;\"/><ellipse cx=\"156.5402\" cy=\"636.2632\" fill=\"#383838\" rx=\"2\" ry=\"2\" style=\"stroke: #383838; stroke-width: 1.0;\"/></a><!--MD5=[15ebcb19ae302d9b601edb458606d402]\n",
       "link E5 to E2--><a href=\"psysml:55d14872-2cf4-45ef-b86e-776491343885\" target=\"_top\" title=\"psysml:55d14872-2cf4-45ef-b86e-776491343885\" xlink:actuate=\"onRequest\" xlink:href=\"psysml:55d14872-2cf4-45ef-b86e-776491343885\" xlink:show=\"new\" xlink:title=\"psysml:55d14872-2cf4-45ef-b86e-776491343885\" xlink:type=\"simple\"><path d=\"M288.35,584.07 C272.9,592.89 255.33,603.45 240,614 C220.52,627.4 199.81,643.93 183.6,657.46 \" fill=\"none\" id=\"E5-&gt;E2\" style=\"stroke: #383838; stroke-width: 1.0; stroke-dasharray: 7.0,7.0;\"/><polygon fill=\"#383838\" points=\"179.58,660.83,189.0498,658.1239,183.4153,657.6221,183.9171,651.9875,179.58,660.83\" style=\"stroke: #383838; stroke-width: 1.0;\"/><text fill=\"#000000\" font-family=\"sans-serif\" font-size=\"13\" lengthAdjust=\"spacingAndGlyphs\" textLength=\"62\" x=\"241\" y=\"627.0669\">«subject»</text></a><!--MD5=[9120cf2e5df3bff93db8f754bbbc09b4]\n",
       "link E5 to E6--><a href=\"psysml:66eb83d5-c5e2-4f23-b460-3cc53e216041\" target=\"_top\" title=\"psysml:66eb83d5-c5e2-4f23-b460-3cc53e216041\" xlink:actuate=\"onRequest\" xlink:href=\"psysml:66eb83d5-c5e2-4f23-b460-3cc53e216041\" xlink:show=\"new\" xlink:title=\"psysml:66eb83d5-c5e2-4f23-b460-3cc53e216041\" xlink:type=\"simple\"><path d=\"M323.5,584.19 C318.7,603.55 311.69,631.8 306.4,653.14 \" fill=\"none\" id=\"E5-&gt;E6\" style=\"stroke: #383838; stroke-width: 1.0;\"/><polygon fill=\"#383838\" points=\"304.47,660.95,309.3116,653.9102,303.4888,652.4625,304.47,660.95\" style=\"stroke: #383838; stroke-width: 1.0;\"/><text fill=\"#000000\" font-family=\"sans-serif\" font-size=\"13\" lengthAdjust=\"spacingAndGlyphs\" textLength=\"73\" x=\"316\" y=\"627.0669\">«objective»</text></a><!--MD5=[f667431f98296947986a1a7595a31603]\n",
       "link E6 to E4--><a href=\"psysml:35160ff3-34f1-44b9-93fc-42f4fb412225\" target=\"_top\" title=\"psysml:35160ff3-34f1-44b9-93fc-42f4fb412225\" xlink:actuate=\"onRequest\" xlink:href=\"psysml:35160ff3-34f1-44b9-93fc-42f4fb412225\" xlink:show=\"new\" xlink:title=\"psysml:35160ff3-34f1-44b9-93fc-42f4fb412225\" xlink:type=\"simple\"><path d=\"M299,707.27 C299,718.81 299,733.43 299,747.66 \" fill=\"none\" id=\"E6-&gt;E4\" style=\"stroke: #383838; stroke-width: 1.0;\"/><polygon fill=\"#FFFFFF\" points=\"299,767.81,292,748.81,306,748.81,299,767.81\" style=\"stroke: #383838; stroke-width: 1.0;\"/><ellipse cx=\"294\" cy=\"743.11\" fill=\"#383838\" rx=\"2\" ry=\"2\" style=\"stroke: #383838; stroke-width: 1.0;\"/><ellipse cx=\"304\" cy=\"743.11\" fill=\"#383838\" rx=\"2\" ry=\"2\" style=\"stroke: #383838; stroke-width: 1.0;\"/></a><!--MD5=[583832df87f4419a098336a29a52fa00]\n",
       "link E7 to E2--><a href=\"psysml:6c24e69d-02cf-4e90-8710-eea2d3fb6e80\" target=\"_top\" title=\"psysml:6c24e69d-02cf-4e90-8710-eea2d3fb6e80\" xlink:actuate=\"onRequest\" xlink:href=\"psysml:6c24e69d-02cf-4e90-8710-eea2d3fb6e80\" xlink:show=\"new\" xlink:title=\"psysml:6c24e69d-02cf-4e90-8710-eea2d3fb6e80\" xlink:type=\"simple\"><path d=\"M96.33,317.1 C80.9,336.01 60.63,364.75 52,394 C42.04,427.76 56.83,574.51 61,584 C73.94,613.48 99.52,639.67 120.58,657.69 \" fill=\"none\" id=\"E7-&gt;E2\" style=\"stroke: #383838; stroke-width: 1.0; stroke-dasharray: 7.0,7.0;\"/><polygon fill=\"#383838\" points=\"124.46,660.96,120.1584,652.1002,120.6377,657.7367,115.0011,658.2159,124.46,660.96\" style=\"stroke: #383838; stroke-width: 1.0;\"/><text fill=\"#000000\" font-family=\"sans-serif\" font-size=\"13\" lengthAdjust=\"spacingAndGlyphs\" textLength=\"62\" x=\"52\" y=\"504.0669\">«subject»</text></a><!--MD5=[79bc8f324ef4d02c541433f2e6e513c3]\n",
       "link E7 to E8--><a href=\"psysml:5f63fe39-bd01-4e2f-b177-a256ca3547ed\" target=\"_top\" title=\"psysml:5f63fe39-bd01-4e2f-b177-a256ca3547ed\" xlink:actuate=\"onRequest\" xlink:href=\"psysml:5f63fe39-bd01-4e2f-b177-a256ca3547ed\" xlink:show=\"new\" xlink:title=\"psysml:5f63fe39-bd01-4e2f-b177-a256ca3547ed\" xlink:type=\"simple\"><path d=\"M116,317.01 C116,335.7 116,363.02 116,385.69 \" fill=\"none\" id=\"E7-&gt;E8\" style=\"stroke: #383838; stroke-width: 1.0;\"/><polygon fill=\"#383838\" points=\"116,393.81,119,385.81,113,385.81,116,393.81\" style=\"stroke: #383838; stroke-width: 1.0;\"/><text fill=\"#000000\" font-family=\"sans-serif\" font-size=\"13\" lengthAdjust=\"spacingAndGlyphs\" textLength=\"73\" x=\"117\" y=\"360.0669\">«objective»</text><text fill=\"#000000\" font-family=\"sans-serif\" font-size=\"13\" lengthAdjust=\"spacingAndGlyphs\" textLength=\"8\" x=\"107.2125\" y=\"382.8061\">1</text></a><!--MD5=[e4a10ef82d0e328e31cac39a31e58dda]\n",
       "reverse link E7 to E9--><a href=\"psysml:0539f402-c799-478a-a763-36444c838111\" target=\"_top\" title=\"psysml:0539f402-c799-478a-a763-36444c838111\" xlink:actuate=\"onRequest\" xlink:href=\"psysml:0539f402-c799-478a-a763-36444c838111\" xlink:show=\"new\" xlink:title=\"psysml:0539f402-c799-478a-a763-36444c838111\" xlink:type=\"simple\"><path d=\"M165.94,324.25 C177.08,331.33 188.65,339.13 199,347 C222.45,364.83 247.05,387.76 264.08,404.4 \" fill=\"none\" id=\"E7&lt;-E9\" style=\"stroke: #383838; stroke-width: 1.0;\"/><polygon fill=\"#383838\" points=\"154.56,317.16,157.541,323.7261,164.7485,323.4998,161.7676,316.9337,154.56,317.16\" style=\"stroke: #383838; stroke-width: 1.0;\"/></a><!--MD5=[bfc3ddf2e613be37104f658f09af896c]\n",
       "link E9 to E5--><a href=\"psysml:5fa585d6-e8aa-4013-b88d-119f555331de\" target=\"_top\" title=\"psysml:5fa585d6-e8aa-4013-b88d-119f555331de\" xlink:actuate=\"onRequest\" xlink:href=\"psysml:5fa585d6-e8aa-4013-b88d-119f555331de\" xlink:show=\"new\" xlink:title=\"psysml:5fa585d6-e8aa-4013-b88d-119f555331de\" xlink:type=\"simple\"><path d=\"M293.2,450.51 C299.27,469.1 308.14,496.21 315.53,518.81 \" fill=\"none\" id=\"E9-&gt;E5\" style=\"stroke: #383838; stroke-width: 1.0;\"/><polygon fill=\"#FFFFFF\" points=\"321.78,537.92,309.2239,522.0346,322.5313,517.6855,321.78,537.92\" style=\"stroke: #383838; stroke-width: 1.0;\"/><ellipse cx=\"309.3543\" cy=\"515.9953\" fill=\"#383838\" rx=\"2\" ry=\"2\" style=\"stroke: #383838; stroke-width: 1.0;\"/><ellipse cx=\"318.8595\" cy=\"512.8888\" fill=\"#383838\" rx=\"2\" ry=\"2\" style=\"stroke: #383838; stroke-width: 1.0;\"/></a><!--MD5=[35e5f1cbde42fa304a029880aa2bc7f2]\n",
       "link E9 to E10--><a href=\"psysml:7fa56b0a-037d-44be-9e3a-456886c00dd1\" target=\"_top\" title=\"psysml:7fa56b0a-037d-44be-9e3a-456886c00dd1\" xlink:actuate=\"onRequest\" xlink:href=\"psysml:7fa56b0a-037d-44be-9e3a-456886c00dd1\" xlink:show=\"new\" xlink:title=\"psysml:7fa56b0a-037d-44be-9e3a-456886c00dd1\" xlink:type=\"simple\"><path d=\"M259.05,450.51 C231.42,473.08 188.39,508.23 158.56,532.59 \" fill=\"none\" id=\"E9-&gt;E10\" style=\"stroke: #383838; stroke-width: 1.0;\"/><polygon fill=\"#383838\" points=\"152.04,537.92,160.1355,535.1882,156.3431,530.5387,152.04,537.92\" style=\"stroke: #383838; stroke-width: 1.0;\"/><text fill=\"#000000\" font-family=\"sans-serif\" font-size=\"13\" lengthAdjust=\"spacingAndGlyphs\" textLength=\"73\" x=\"206\" y=\"504.0669\">«objective»</text></a><!--MD5=[94adabc162ce7e41b39f13be14fbaeb3]\n",
       "reverse link E11 to E12--><a href=\"psysml:cf81c84a-d20a-4a9d-8212-c3de89ec9ad0\" target=\"_top\" title=\"psysml:cf81c84a-d20a-4a9d-8212-c3de89ec9ad0\" xlink:actuate=\"onRequest\" xlink:href=\"psysml:cf81c84a-d20a-4a9d-8212-c3de89ec9ad0\" xlink:show=\"new\" xlink:title=\"psysml:cf81c84a-d20a-4a9d-8212-c3de89ec9ad0\" xlink:type=\"simple\"><path d=\"M136,100.05 C136,115.76 136,133.82 136,147.66 \" fill=\"none\" id=\"E11&lt;-E12\" style=\"stroke: #383838; stroke-width: 1.0;\"/><polygon fill=\"#383838\" points=\"136,87.01,132,93.01,136,99.01,140,93.01,136,87.01\" style=\"stroke: #383838; stroke-width: 1.0;\"/></a><!--MD5=[ae660f5ecd7ddb04a8913625960940af]\n",
       "link E12 to E7--><a href=\"psysml:31ecf0da-b030-4520-be0f-3ece1376fb5f\" target=\"_top\" title=\"psysml:31ecf0da-b030-4520-be0f-3ece1376fb5f\" xlink:actuate=\"onRequest\" xlink:href=\"psysml:31ecf0da-b030-4520-be0f-3ece1376fb5f\" xlink:show=\"new\" xlink:title=\"psysml:31ecf0da-b030-4520-be0f-3ece1376fb5f\" xlink:type=\"simple\"><path d=\"M132.33,194.19 C129.71,210.06 126.1,231.89 122.94,250.99 \" fill=\"none\" id=\"E12-&gt;E7\" style=\"stroke: #383838; stroke-width: 1.0;\"/><polygon fill=\"#FFFFFF\" points=\"119.65,270.95,115.8525,251.0608,129.6639,253.3511,119.65,270.95\" style=\"stroke: #383838; stroke-width: 1.0;\"/><ellipse cx=\"118.758\" cy=\"245.7648\" fill=\"#383838\" rx=\"2\" ry=\"2\" style=\"stroke: #383838; stroke-width: 1.0;\"/><ellipse cx=\"128.6233\" cy=\"247.4007\" fill=\"#383838\" rx=\"2\" ry=\"2\" style=\"stroke: #383838; stroke-width: 1.0;\"/></a><!--MD5=[e2a9ac97dcd3257bb5342dae06547bad]\n",
       "link E12 to E13--><a href=\"psysml:aa3a7955-6ed3-447d-b0ee-a09ada8803a4\" target=\"_top\" title=\"psysml:aa3a7955-6ed3-447d-b0ee-a09ada8803a4\" xlink:actuate=\"onRequest\" xlink:href=\"psysml:aa3a7955-6ed3-447d-b0ee-a09ada8803a4\" xlink:show=\"new\" xlink:title=\"psysml:aa3a7955-6ed3-447d-b0ee-a09ada8803a4\" xlink:type=\"simple\"><path d=\"M155.63,194.19 C173.2,214.06 199.05,243.3 218.08,264.82 \" fill=\"none\" id=\"E12-&gt;E13\" style=\"stroke: #383838; stroke-width: 1.0;\"/><polygon fill=\"#383838\" points=\"223.5,270.95,220.4521,262.9681,215.9553,266.9403,223.5,270.95\" style=\"stroke: #383838; stroke-width: 1.0;\"/><text fill=\"#000000\" font-family=\"sans-serif\" font-size=\"13\" lengthAdjust=\"spacingAndGlyphs\" textLength=\"73\" x=\"196\" y=\"237.0669\">«objective»</text><text fill=\"#000000\" font-family=\"sans-serif\" font-size=\"13\" lengthAdjust=\"spacingAndGlyphs\" textLength=\"8\" x=\"209.1844\" y=\"259.8328\">1</text></a><!--MD5=[b8283bba29f91535338293313e12f193]\n",
       "@startuml\r\n",
       "skinparam monochrome true\r\n",
       "skinparam classbackgroundcolor white\r\n",
       "skinparam shadowing false\r\n",
       "skinparam wrapWidth 300\r\n",
       "hide circle\r\n",
       "\r\n",
       "package \"AnalysisTest\" as E1  [[psysml:f5546318-5597-445e-83af-957575abd1f7 ]]  {\r\n",
       "comp def \"V\" as E2  <<(T,blue) part def>> [[psysml:df856138-3406-4a6b-b583-20ed5eacc0cd ]] {\r\n",
       "}\r\n",
       "comp usage \"vv: V\" as E3  <<(T,blue) part>> [[psysml:a14948af-c637-432a-b299-badb5d3ced27 ]] {\r\n",
       "}\r\n",
       "comp def \"AnalysisObjective\" as E4  <<(T,blue) requirement def>> [[psysml:b06c710d-6070-489f-855d-95835f572a57 ]] {\r\n",
       "...\r\n",
       "- -\r\n",
       "}\r\n",
       "comp def \"AnalysisCase\" as E5 << analysis def>> [[psysml:e9833d01-8fa8-4820-af73-47d7be444de9 ]] {\r\n",
       "}\r\n",
       "comp usage \"obj: AnalysisObjective\" as E6  <<(T,blue) requirement>> [[psysml:5d02fb37-4730-4ed2-b0a0-8fa990128639 ]] {\r\n",
       "}\r\n",
       "comp def \"AnalysisPlan\" as E7 << analysis def>> [[psysml:8a4520e8-ac51-4a2a-8007-cfc5f8084f42 ]] {\r\n",
       "}\r\n",
       "comp usage \"obj\" as E8  <<(T,blue) requirement>> [[psysml:c9e778b5-528f-48e8-8904-91782dcf8fb6 ]] {\r\n",
       "...\r\n",
       "- -\r\n",
       "}\r\n",
       "comp usage \"analysisCase: AnalysisCase\" as E9 << analysis>> [[psysml:ef775355-9069-4551-a021-5839d9673f3d ]] {\r\n",
       "}\r\n",
       "comp usage \"obj\" as E10  <<(T,blue) requirement>> [[psysml:37fc8968-437f-41f6-96b6-577444b5c586 ]] {\r\n",
       "}\r\n",
       "comp usage \"analysisContext\" as E11  <<(T,blue) part>> [[psysml:e127547d-9ca6-4380-b459-796effe0b56f ]] {\r\n",
       "}\r\n",
       "comp usage \"analysisPlan: AnalysisPlan\" as E12 << analysis>> [[psysml:26b0c0e9-c7c6-4e19-b68b-97e4f04c11f8 ]] {\r\n",
       "}\r\n",
       "comp usage \"obj\" as E13  <<(T,blue) requirement>> [[psysml:a55f605c-cc05-4fcd-b9b1-1e930756e010 ]] {\r\n",
       "}\r\n",
       "}\r\n",
       "E3 - -:|> E2 [[psysml:4553bbf6-343c-42bd-a219-72e0d50d2170 ]] \r\n",
       "E5 ..> E2 [[psysml:55d14872-2cf4-45ef-b86e-776491343885 ]] : <<subject>>\r\n",
       "E5 - ->> E6 [[psysml:66eb83d5-c5e2-4f23-b460-3cc53e216041 ]] : <<objective>>\r\n",
       "E6 - -:|> E4 [[psysml:35160ff3-34f1-44b9-93fc-42f4fb412225 ]] \r\n",
       "E7 ..> E2 [[psysml:6c24e69d-02cf-4e90-8710-eea2d3fb6e80 ]] : <<subject>>\r\n",
       "E7 - ->> \"1\"E8 [[psysml:5f63fe39-bd01-4e2f-b177-a256ca3547ed ]] : <<objective>>\r\n",
       "E7 *- - E9 [[psysml:0539f402-c799-478a-a763-36444c838111 ]] \r\n",
       "E9 - -:|> E5 [[psysml:5fa585d6-e8aa-4013-b88d-119f555331de ]] \r\n",
       "E9 - ->> E10 [[psysml:7fa56b0a-037d-44be-9e3a-456886c00dd1 ]] : <<objective>>\r\n",
       "E11 *- - E12 [[psysml:cf81c84a-d20a-4a9d-8212-c3de89ec9ad0 ]] \r\n",
       "E12 - -:|> E7 [[psysml:31ecf0da-b030-4520-be0f-3ece1376fb5f ]] \r\n",
       "E12 - ->> \"1\"E13 [[psysml:aa3a7955-6ed3-447d-b0ee-a09ada8803a4 ]] : <<objective>>\r\n",
       "@enduml\r\n",
       "\n",
       "PlantUML version 1.2020.13(Sat Jun 13 12:26:38 UTC 2020)\n",
       "(EPL source distribution)\n",
       "Java Runtime: OpenJDK Runtime Environment\n",
       "JVM: OpenJDK 64-Bit Server VM\n",
       "Default Encoding: UTF-8\n",
       "Language: en\n",
       "Country: null\n",
       "--></g></svg>"
      ]
     },
     "execution_count": 38,
     "metadata": {},
     "output_type": "execute_result"
    }
   ],
   "source": [
    "%viz --style=\"DEFAULT\" --view=\"Tree\" \"AnalysisTest\""
   ]
  },
  {
   "cell_type": "code",
   "execution_count": 39,
   "id": "4fd488e8",
   "metadata": {
    "execution": {
     "iopub.execute_input": "2021-09-27T07:15:31.594290Z",
     "iopub.status.busy": "2021-09-27T07:15:31.593870Z",
     "iopub.status.idle": "2021-09-27T07:15:31.599253Z",
     "shell.execute_reply": "2021-09-27T07:15:31.598908Z"
    }
   },
   "outputs": [
    {
     "data": {
      "image/svg+xml": [
       "<?xml version=\"1.0\" encoding=\"UTF-8\" standalone=\"no\"?><svg xmlns=\"http://www.w3.org/2000/svg\" xmlns:xlink=\"http://www.w3.org/1999/xlink\" contentScriptType=\"application/ecmascript\" contentStyleType=\"text/css\" height=\"12px\" preserveAspectRatio=\"none\" style=\"width:12px;height:12px;\" version=\"1.1\" viewBox=\"0 0 12 12\" width=\"12px\" zoomAndPan=\"magnify\"><defs/><g><!--MD5=[c5f280e076d0d61ccf4b0f27871bda1d]\n",
       "@startuml\r\n",
       "skinparam monochrome true\r\n",
       "skinparam classbackgroundcolor white\r\n",
       "skinparam shadowing false\r\n",
       "skinparam wrapWidth 300\r\n",
       "hide circle\r\n",
       "\r\n",
       "@enduml\r\n",
       "\n",
       "PlantUML version 1.2020.13(Sat Jun 13 12:26:38 UTC 2020)\n",
       "(EPL source distribution)\n",
       "Java Runtime: OpenJDK Runtime Environment\n",
       "JVM: OpenJDK 64-Bit Server VM\n",
       "Default Encoding: UTF-8\n",
       "Language: en\n",
       "Country: null\n",
       "--></g></svg>"
      ]
     },
     "execution_count": 39,
     "metadata": {},
     "output_type": "execute_result"
    }
   ],
   "source": [
    "%viz --style=\"DEFAULT\" --view=\"State\" \"AnalysisTest\""
   ]
  },
  {
   "cell_type": "code",
   "execution_count": 40,
   "id": "c9b6c7cc",
   "metadata": {
    "execution": {
     "iopub.execute_input": "2021-09-27T07:15:31.649139Z",
     "iopub.status.busy": "2021-09-27T07:15:31.648733Z",
     "iopub.status.idle": "2021-09-27T07:15:31.706219Z",
     "shell.execute_reply": "2021-09-27T07:15:31.705842Z"
    }
   },
   "outputs": [
    {
     "data": {
      "image/svg+xml": [
       "<?xml version=\"1.0\" encoding=\"UTF-8\" standalone=\"no\"?><svg xmlns=\"http://www.w3.org/2000/svg\" xmlns:xlink=\"http://www.w3.org/1999/xlink\" contentScriptType=\"application/ecmascript\" contentStyleType=\"text/css\" height=\"446px\" preserveAspectRatio=\"none\" style=\"width:1120px;height:446px;\" version=\"1.1\" viewBox=\"0 0 1120 446\" width=\"1120px\" zoomAndPan=\"magnify\"><defs/><g><!--MD5=[fbc87193dbaf4d95561dea2c320d4a47]\n",
       "cluster E1--><a href=\"psysml:f5546318-5597-445e-83af-957575abd1f7\" target=\"_top\" title=\"psysml:f5546318-5597-445e-83af-957575abd1f7\" xlink:actuate=\"onRequest\" xlink:href=\"psysml:f5546318-5597-445e-83af-957575abd1f7\" xlink:show=\"new\" xlink:title=\"psysml:f5546318-5597-445e-83af-957575abd1f7\" xlink:type=\"simple\"><polygon fill=\"#FFFFFF\" points=\"16,6,108,6,115,28.2969,1098,28.2969,1098,434.86,16,434.86,16,6\" style=\"stroke: #000000; stroke-width: 1.5;\"/><line style=\"stroke: #000000; stroke-width: 1.5;\" x1=\"16\" x2=\"115\" y1=\"28.2969\" y2=\"28.2969\"/><text fill=\"#000000\" font-family=\"sans-serif\" font-size=\"14\" font-weight=\"bold\" lengthAdjust=\"spacingAndGlyphs\" textLength=\"86\" x=\"20\" y=\"20.9951\">AnalysisTest</text></a><!--MD5=[de5ec2e2e8f62f467e546659f5068c88]\n",
       "cluster E5--><a href=\"psysml:e9833d01-8fa8-4820-af73-47d7be444de9\" target=\"_top\" title=\"psysml:e9833d01-8fa8-4820-af73-47d7be444de9\" xlink:actuate=\"onRequest\" xlink:href=\"psysml:e9833d01-8fa8-4820-af73-47d7be444de9\" xlink:show=\"new\" xlink:title=\"psysml:e9833d01-8fa8-4820-af73-47d7be444de9\" xlink:type=\"simple\"><rect fill=\"#FFFFFF\" height=\"228.86\" id=\"E5\" style=\"stroke: #383838; stroke-width: 1.5;\" width=\"146\" x=\"936\" y=\"107\"/><rect fill=\"#F8F8F8\" height=\"37.9375\" style=\"stroke: #383838; stroke-width: 1.5;\" width=\"146\" x=\"936\" y=\"107\"/><text fill=\"#000000\" font-family=\"sans-serif\" font-size=\"12\" font-style=\"italic\" lengthAdjust=\"spacingAndGlyphs\" textLength=\"88\" x=\"965\" y=\"123.1387\">«analysis def»</text><text fill=\"#000000\" font-family=\"sans-serif\" font-size=\"12\" lengthAdjust=\"spacingAndGlyphs\" textLength=\"81\" x=\"968.5\" y=\"137.1074\">AnalysisCase</text></a><!--MD5=[55dfccfc6c49c2d10cd1bd2211a6c90c]\n",
       "cluster E8--><a href=\"psysml:8a4520e8-ac51-4a2a-8007-cfc5f8084f42\" target=\"_top\" title=\"psysml:8a4520e8-ac51-4a2a-8007-cfc5f8084f42\" xlink:actuate=\"onRequest\" xlink:href=\"psysml:8a4520e8-ac51-4a2a-8007-cfc5f8084f42\" xlink:show=\"new\" xlink:title=\"psysml:8a4520e8-ac51-4a2a-8007-cfc5f8084f42\" xlink:type=\"simple\"><rect fill=\"#FFFFFF\" height=\"303.86\" id=\"E8\" style=\"stroke: #383838; stroke-width: 1.5;\" width=\"259\" x=\"647\" y=\"107\"/><rect fill=\"#F8F8F8\" height=\"37.9375\" style=\"stroke: #383838; stroke-width: 1.5;\" width=\"259\" x=\"647\" y=\"107\"/><text fill=\"#000000\" font-family=\"sans-serif\" font-size=\"12\" font-style=\"italic\" lengthAdjust=\"spacingAndGlyphs\" textLength=\"88\" x=\"732.5\" y=\"123.1387\">«analysis def»</text><text fill=\"#000000\" font-family=\"sans-serif\" font-size=\"12\" lengthAdjust=\"spacingAndGlyphs\" textLength=\"77\" x=\"738\" y=\"137.1074\">AnalysisPlan</text></a><!--MD5=[a84b4591f868c1fa4a211716a82f2f0d]\n",
       "cluster E10--><a href=\"psysml:ef775355-9069-4551-a021-5839d9673f3d\" target=\"_top\" title=\"psysml:ef775355-9069-4551-a021-5839d9673f3d\" xlink:actuate=\"onRequest\" xlink:href=\"psysml:ef775355-9069-4551-a021-5839d9673f3d\" xlink:show=\"new\" xlink:title=\"psysml:ef775355-9069-4551-a021-5839d9673f3d\" xlink:type=\"simple\"><rect fill=\"#FFFFFF\" height=\"165.86\" id=\"E10\" rx=\"10\" ry=\"10\" style=\"stroke: #383838; stroke-width: 1.5;\" width=\"138\" x=\"730\" y=\"207\"/><rect fill=\"#F8F8F8\" height=\"37.9375\" rx=\"10\" ry=\"10\" style=\"stroke: #F8F8F8; stroke-width: 1.5;\" width=\"138\" x=\"730\" y=\"207\"/><rect fill=\"#F8F8F8\" height=\"10\" style=\"stroke: #F8F8F8; stroke-width: 1.5;\" width=\"138\" x=\"730\" y=\"234.9375\"/><rect fill=\"none\" height=\"165.86\" id=\"E10\" rx=\"10\" ry=\"10\" style=\"stroke: #383838; stroke-width: 1.5;\" width=\"138\" x=\"730\" y=\"207\"/><text fill=\"#000000\" font-family=\"sans-serif\" font-size=\"12\" font-style=\"italic\" lengthAdjust=\"spacingAndGlyphs\" textLength=\"64\" x=\"767\" y=\"223.1387\">«analysis»</text><text fill=\"#000000\" font-family=\"sans-serif\" font-size=\"12\" lengthAdjust=\"spacingAndGlyphs\" textLength=\"81\" x=\"758.5\" y=\"237.1074\">analysisCase</text><line style=\"stroke: #383838; stroke-width: 1.0;\" x1=\"730\" x2=\"868\" y1=\"244.9375\" y2=\"244.9375\"/></a><!--MD5=[bcf29f0808fc96f19b1afbee8cfc1f11]\n",
       "cluster E14--><a href=\"psysml:e127547d-9ca6-4380-b459-796effe0b56f\" target=\"_top\" title=\"psysml:e127547d-9ca6-4380-b459-796effe0b56f\" xlink:actuate=\"onRequest\" xlink:href=\"psysml:e127547d-9ca6-4380-b459-796effe0b56f\" xlink:show=\"new\" xlink:title=\"psysml:e127547d-9ca6-4380-b459-796effe0b56f\" xlink:type=\"simple\"><rect fill=\"#FFFFFF\" height=\"197\" id=\"E14\" rx=\"10\" ry=\"10\" style=\"stroke: #383838; stroke-width: 1.5;\" width=\"200\" x=\"360\" y=\"49\"/><rect fill=\"#F8F8F8\" height=\"23.9688\" rx=\"10\" ry=\"10\" style=\"stroke: #F8F8F8; stroke-width: 1.5;\" width=\"200\" x=\"360\" y=\"49\"/><rect fill=\"#F8F8F8\" height=\"10\" style=\"stroke: #F8F8F8; stroke-width: 1.5;\" width=\"200\" x=\"360\" y=\"62.9688\"/><rect fill=\"none\" height=\"197\" id=\"E14\" rx=\"10\" ry=\"10\" style=\"stroke: #383838; stroke-width: 1.5;\" width=\"200\" x=\"360\" y=\"49\"/><text fill=\"#000000\" font-family=\"sans-serif\" font-size=\"12\" lengthAdjust=\"spacingAndGlyphs\" textLength=\"98\" x=\"411\" y=\"65.1387\">analysisContext</text><line style=\"stroke: #383838; stroke-width: 1.0;\" x1=\"360\" x2=\"560\" y1=\"72.9688\" y2=\"72.9688\"/></a><!--MD5=[ebbe1d658d1005bcc118a6aa81145e00]\n",
       "class E4--><a href=\"psysml:b06c710d-6070-489f-855d-95835f572a57\" target=\"_top\" title=\"psysml:b06c710d-6070-489f-855d-95835f572a57\" xlink:actuate=\"onRequest\" xlink:href=\"psysml:b06c710d-6070-489f-855d-95835f572a57\" xlink:show=\"new\" xlink:title=\"psysml:b06c710d-6070-489f-855d-95835f572a57\" xlink:type=\"simple\"><rect fill=\"#FFFFFF\" height=\"66.7422\" id=\"E4\" style=\"stroke: #383838; stroke-width: 1.5;\" width=\"117\" x=\"223.5\" y=\"73.5\"/><text fill=\"#000000\" font-family=\"sans-serif\" font-size=\"12\" font-style=\"italic\" lengthAdjust=\"spacingAndGlyphs\" textLength=\"115\" x=\"224.5\" y=\"89.6387\">«requirement def»</text><text fill=\"#000000\" font-family=\"sans-serif\" font-size=\"12\" lengthAdjust=\"spacingAndGlyphs\" textLength=\"107\" x=\"228.5\" y=\"103.6074\">AnalysisObjective</text><line style=\"stroke: #383838; stroke-width: 1.5;\" x1=\"224.5\" x2=\"339.5\" y1=\"111.4375\" y2=\"111.4375\"/><text fill=\"#000000\" font-family=\"sans-serif\" font-size=\"11\" lengthAdjust=\"spacingAndGlyphs\" textLength=\"12\" x=\"229.5\" y=\"125.6479\">...</text><line style=\"stroke: #383838; stroke-width: 1.0;\" x1=\"224.5\" x2=\"339.5\" y1=\"132.2422\" y2=\"132.2422\"/></a><g id=\"E1.E2\"><a href=\"psysml:df856138-3406-4a6b-b583-20ed5eacc0cd\" target=\"_top\" title=\"psysml:df856138-3406-4a6b-b583-20ed5eacc0cd\" xlink:actuate=\"onRequest\" xlink:href=\"psysml:df856138-3406-4a6b-b583-20ed5eacc0cd\" xlink:show=\"new\" xlink:title=\"psysml:df856138-3406-4a6b-b583-20ed5eacc0cd\" xlink:type=\"simple\"><rect fill=\"#FFFFFF\" height=\"42.9375\" id=\"E2\" style=\"stroke: #383838; stroke-width: 1.5;\" width=\"71\" x=\"117.5\" y=\"85.5\"/><rect fill=\"#F8F8F8\" height=\"37.9375\" style=\"stroke: #383838; stroke-width: 1.5;\" width=\"71\" x=\"117.5\" y=\"85.5\"/><text fill=\"#000000\" font-family=\"sans-serif\" font-size=\"12\" font-style=\"italic\" lengthAdjust=\"spacingAndGlyphs\" textLength=\"64\" x=\"121\" y=\"101.6387\">«part def»</text><text fill=\"#000000\" font-family=\"sans-serif\" font-size=\"12\" lengthAdjust=\"spacingAndGlyphs\" textLength=\"8\" x=\"149\" y=\"115.6074\">V</text></a></g><g id=\"E1.E3\"><a href=\"psysml:a14948af-c637-432a-b299-badb5d3ced27\" target=\"_top\" title=\"psysml:a14948af-c637-432a-b299-badb5d3ced27\" xlink:actuate=\"onRequest\" xlink:href=\"psysml:a14948af-c637-432a-b299-badb5d3ced27\" xlink:show=\"new\" xlink:title=\"psysml:a14948af-c637-432a-b299-badb5d3ced27\" xlink:type=\"simple\"><rect fill=\"#FFFFFF\" height=\"40\" id=\"E3\" rx=\"10\" ry=\"10\" style=\"stroke: #383838; stroke-width: 1.5;\" width=\"50\" x=\"32\" y=\"87\"/><rect fill=\"#F8F8F8\" height=\"23.9688\" rx=\"10\" ry=\"10\" style=\"stroke: #F8F8F8; stroke-width: 1.5;\" width=\"50\" x=\"32\" y=\"87\"/><rect fill=\"#F8F8F8\" height=\"10\" style=\"stroke: #F8F8F8; stroke-width: 1.5;\" width=\"50\" x=\"32\" y=\"100.9688\"/><rect fill=\"none\" height=\"40\" id=\"E3\" rx=\"10\" ry=\"10\" style=\"stroke: #383838; stroke-width: 1.5;\" width=\"50\" x=\"32\" y=\"87\"/><text fill=\"#000000\" font-family=\"sans-serif\" font-size=\"12\" lengthAdjust=\"spacingAndGlyphs\" textLength=\"28\" x=\"43\" y=\"103.1387\">vv: V</text></a></g><text fill=\"#000000\" font-family=\"sans-serif\" font-size=\"14\" lengthAdjust=\"spacingAndGlyphs\" textLength=\"7\" x=\"1005.5\" y=\"85.6982\">v</text><rect fill=\"#383838\" height=\"12\" style=\"stroke: #F8F8F8; stroke-width: 1.5;\" width=\"12\" x=\"1003\" y=\"101\"/><text fill=\"#000000\" font-family=\"sans-serif\" font-size=\"14\" lengthAdjust=\"spacingAndGlyphs\" textLength=\"39\" x=\"989.5\" y=\"354.8551\">result</text><rect fill=\"#383838\" height=\"12\" style=\"stroke: #F8F8F8; stroke-width: 1.5;\" width=\"12\" x=\"1003\" y=\"329.86\"/><text fill=\"#000000\" font-family=\"sans-serif\" font-size=\"14\" lengthAdjust=\"spacingAndGlyphs\" textLength=\"7\" x=\"661.5\" y=\"85.6982\">v</text><rect fill=\"#383838\" height=\"12\" style=\"stroke: #F8F8F8; stroke-width: 1.5;\" width=\"12\" x=\"659\" y=\"101\"/><text fill=\"#000000\" font-family=\"sans-serif\" font-size=\"14\" lengthAdjust=\"spacingAndGlyphs\" textLength=\"39\" x=\"886.5\" y=\"354.8551\">result</text><rect fill=\"#383838\" height=\"12\" style=\"stroke: #F8F8F8; stroke-width: 1.5;\" width=\"12\" x=\"900\" y=\"329.86\"/><text fill=\"#000000\" font-family=\"sans-serif\" font-size=\"14\" lengthAdjust=\"spacingAndGlyphs\" textLength=\"37\" x=\"780.5\" y=\"391.8551\">mass</text><rect fill=\"#383838\" height=\"12\" style=\"stroke: #F8F8F8; stroke-width: 1.5;\" width=\"12\" x=\"793\" y=\"366.86\"/><text fill=\"#000000\" font-family=\"sans-serif\" font-size=\"14\" lengthAdjust=\"spacingAndGlyphs\" textLength=\"7\" x=\"795.5\" y=\"185.6982\">v</text><rect fill=\"#383838\" height=\"12\" style=\"stroke: #F8F8F8; stroke-width: 1.5;\" width=\"12\" x=\"793\" y=\"201\"/><!--MD5=[0c48fb7552dae8cbbef69381101a84c8]\n",
       "class E15--><a href=\"psysml:26b0c0e9-c7c6-4e19-b68b-97e4f04c11f8\" target=\"_top\" title=\"psysml:26b0c0e9-c7c6-4e19-b68b-97e4f04c11f8\" xlink:actuate=\"onRequest\" xlink:href=\"psysml:26b0c0e9-c7c6-4e19-b68b-97e4f04c11f8\" xlink:show=\"new\" xlink:title=\"psysml:26b0c0e9-c7c6-4e19-b68b-97e4f04c11f8\" xlink:type=\"simple\"><rect fill=\"#FFFFFF\" height=\"45.9375\" id=\"E15\" rx=\"10\" ry=\"10\" style=\"stroke: #383838; stroke-width: 1.5;\" width=\"168\" x=\"376\" y=\"84\"/><text fill=\"#000000\" font-family=\"sans-serif\" font-size=\"12\" font-style=\"italic\" lengthAdjust=\"spacingAndGlyphs\" textLength=\"64\" x=\"428\" y=\"100.1387\">«analysis»</text><text fill=\"#000000\" font-family=\"sans-serif\" font-size=\"12\" lengthAdjust=\"spacingAndGlyphs\" textLength=\"162\" x=\"379\" y=\"114.1074\">analysisPlan: AnalysisPlan</text><line style=\"stroke: #383838; stroke-width: 1.5;\" x1=\"377\" x2=\"543\" y1=\"121.9375\" y2=\"121.9375\"/></a><!--MD5=[35f0587eaee8d5bb9a02e25b63afc23b]\n",
       "class E16--><a href=\"psysml:a55f605c-cc05-4fcd-b9b1-1e930756e010\" target=\"_top\" title=\"psysml:a55f605c-cc05-4fcd-b9b1-1e930756e010\" xlink:actuate=\"onRequest\" xlink:href=\"psysml:a55f605c-cc05-4fcd-b9b1-1e930756e010\" xlink:show=\"new\" xlink:title=\"psysml:a55f605c-cc05-4fcd-b9b1-1e930756e010\" xlink:type=\"simple\"><rect fill=\"#FFFFFF\" height=\"45.9375\" id=\"E16\" rx=\"10\" ry=\"10\" style=\"stroke: #383838; stroke-width: 1.5;\" width=\"93\" x=\"413.5\" y=\"184\"/><text fill=\"#000000\" font-family=\"sans-serif\" font-size=\"12\" font-style=\"italic\" lengthAdjust=\"spacingAndGlyphs\" textLength=\"91\" x=\"414.5\" y=\"200.1387\">«requirement»</text><text fill=\"#000000\" font-family=\"sans-serif\" font-size=\"12\" lengthAdjust=\"spacingAndGlyphs\" textLength=\"19\" x=\"450.5\" y=\"214.1074\">obj</text><line style=\"stroke: #383838; stroke-width: 1.5;\" x1=\"414.5\" x2=\"505.5\" y1=\"221.9375\" y2=\"221.9375\"/></a><!--MD5=[1b01d5b954197aaf3899ca0bde35faf5]\n",
       "link E15 to E8--><a href=\"psysml:31ecf0da-b030-4520-be0f-3ece1376fb5f\" target=\"_top\" title=\"psysml:31ecf0da-b030-4520-be0f-3ece1376fb5f\" xlink:actuate=\"onRequest\" xlink:href=\"psysml:31ecf0da-b030-4520-be0f-3ece1376fb5f\" xlink:show=\"new\" xlink:title=\"psysml:31ecf0da-b030-4520-be0f-3ece1376fb5f\" xlink:type=\"simple\"><path d=\"M506.26,130.12 C543.93,148.12 596.28,173.15 630.4,189.46 \" fill=\"none\" id=\"E15-&gt;E8\" style=\"stroke: #383838; stroke-width: 1.0;\"/><polygon fill=\"#FFFFFF\" points=\"630.4,189.46,610.2389,187.5813,616.2768,174.9502,630.4,189.46\" style=\"stroke: #383838; stroke-width: 1.0;\"/><ellipse cx=\"605.9588\" cy=\"183.3185\" fill=\"#383838\" rx=\"2\" ry=\"2\" style=\"stroke: #383838; stroke-width: 1.0;\"/><ellipse cx=\"610.2716\" cy=\"174.2963\" fill=\"#383838\" rx=\"2\" ry=\"2\" style=\"stroke: #383838; stroke-width: 1.0;\"/></a><!--MD5=[f8b155c46b092be73bb522b0a8fc72a2]\n",
       "link E15 to E16--><a href=\"psysml:aa3a7955-6ed3-447d-b0ee-a09ada8803a4\" target=\"_top\" title=\"psysml:aa3a7955-6ed3-447d-b0ee-a09ada8803a4\" xlink:actuate=\"onRequest\" xlink:href=\"psysml:aa3a7955-6ed3-447d-b0ee-a09ada8803a4\" xlink:show=\"new\" xlink:title=\"psysml:aa3a7955-6ed3-447d-b0ee-a09ada8803a4\" xlink:type=\"simple\"><path d=\"M460,130.24 C460,143.64 460,160.91 460,175.57 \" fill=\"none\" id=\"E15-&gt;E16\" style=\"stroke: #383838; stroke-width: 1.0;\"/><polygon fill=\"#383838\" points=\"460,183.85,463,175.85,457,175.85,460,183.85\" style=\"stroke: #383838; stroke-width: 1.0;\"/><text fill=\"#000000\" font-family=\"sans-serif\" font-size=\"13\" lengthAdjust=\"spacingAndGlyphs\" textLength=\"73\" x=\"461\" y=\"161.5669\">«objective»</text><text fill=\"#000000\" font-family=\"sans-serif\" font-size=\"13\" lengthAdjust=\"spacingAndGlyphs\" textLength=\"8\" x=\"450.975\" y=\"173.0879\">1</text></a><!--MD5=[7dc477d9fc5d8bf073d867d32cd4a48a]\n",
       "@startuml\r\n",
       "skinparam ranksep 10\r\n",
       "skinparam rectangle {\r\n",
       " backgroundColor<<block>> LightGreen\r\n",
       "}\r\n",
       "skinparam monochrome true\r\n",
       "skinparam classbackgroundcolor white\r\n",
       "skinparam shadowing false\r\n",
       "skinparam wrapWidth 300\r\n",
       "hide circle\r\n",
       "\r\n",
       "package \"AnalysisTest\" as E1  [[psysml:f5546318-5597-445e-83af-957575abd1f7 ]]  {\r\n",
       "rec def \"V\" as E2  <<(T,blue) part def>> [[psysml:df856138-3406-4a6b-b583-20ed5eacc0cd ]] {\r\n",
       "}\r\n",
       "rec usage \"vv: V\" as E3  [[psysml:a14948af-c637-432a-b299-badb5d3ced27 ]] {\r\n",
       "}\r\n",
       "comp def \"AnalysisObjective\" as E4  <<(T,blue) requirement def>> [[psysml:b06c710d-6070-489f-855d-95835f572a57 ]] {\r\n",
       "...\r\n",
       "- -\r\n",
       "}\r\n",
       "rec def \"AnalysisCase\" as E5 << analysis def>> [[psysml:e9833d01-8fa8-4820-af73-47d7be444de9 ]] {\r\n",
       "portin \"v\" as E6  [[psysml:fc36d359-2f0c-4a32-9d15-fff2be0a8869 ]] \r\n",
       "portout \"result\" as E7  [[psysml:7ffbe20f-c891-4b52-987b-0be8eb99b87a ]] \r\n",
       "}\r\n",
       "\r\n",
       "rec def \"AnalysisPlan\" as E8 << analysis def>> [[psysml:8a4520e8-ac51-4a2a-8007-cfc5f8084f42 ]] {\r\n",
       "portin \"v\" as E9  [[psysml:7635dc34-c4d2-4388-b045-3a6cac182eef ]] \r\n",
       "rec usage \"analysisCase\" as E10 << analysis>> [[psysml:ef775355-9069-4551-a021-5839d9673f3d ]] {\r\n",
       "portout \"mass\" as E11  [[psysml:56f340db-5793-4dc6-898e-9e0a5f90ef66 ]] \r\n",
       "portin \"v\" as E12  [[psysml:d8dc3b58-26c5-4e6e-82f3-a4f0880c0fd9 ]] \r\n",
       "}\r\n",
       "\r\n",
       "portout \"result\" as E13  [[psysml:55ba6aa8-4536-4622-ad3c-e7c6595a0034 ]] \r\n",
       "}\r\n",
       "\r\n",
       "rec usage \"analysisContext\" as E14  [[psysml:e127547d-9ca6-4380-b459-796effe0b56f ]] {\r\n",
       "comp usage \"analysisPlan: AnalysisPlan\" as E15 << analysis>> [[psysml:26b0c0e9-c7c6-4e19-b68b-97e4f04c11f8 ]] {\r\n",
       "}\r\n",
       "comp usage \"obj\" as E16  <<(T,blue) requirement>> [[psysml:a55f605c-cc05-4fcd-b9b1-1e930756e010 ]] {\r\n",
       "}\r\n",
       "}\r\n",
       "}\r\n",
       "E15 - -:|> E8 [[psysml:31ecf0da-b030-4520-be0f-3ece1376fb5f ]] \r\n",
       "E15 - ->> \"1\"E16 [[psysml:aa3a7955-6ed3-447d-b0ee-a09ada8803a4 ]] : <<objective>>\r\n",
       "@enduml\r\n",
       "\n",
       "PlantUML version 1.2020.13(Sat Jun 13 12:26:38 UTC 2020)\n",
       "(EPL source distribution)\n",
       "Java Runtime: OpenJDK Runtime Environment\n",
       "JVM: OpenJDK 64-Bit Server VM\n",
       "Default Encoding: UTF-8\n",
       "Language: en\n",
       "Country: null\n",
       "--></g></svg>"
      ]
     },
     "execution_count": 40,
     "metadata": {},
     "output_type": "execute_result"
    }
   ],
   "source": [
    "%viz --style=\"DEFAULT\" --view=\"Interconnection\" \"AnalysisTest\""
   ]
  },
  {
   "cell_type": "code",
   "execution_count": 41,
   "id": "852609a9",
   "metadata": {
    "execution": {
     "iopub.execute_input": "2021-09-27T07:15:31.755767Z",
     "iopub.status.busy": "2021-09-27T07:15:31.755343Z",
     "iopub.status.idle": "2021-09-27T07:15:31.795721Z",
     "shell.execute_reply": "2021-09-27T07:15:31.795363Z"
    }
   },
   "outputs": [
    {
     "data": {
      "image/svg+xml": [
       "<?xml version=\"1.0\" encoding=\"UTF-8\" standalone=\"no\"?><svg xmlns=\"http://www.w3.org/2000/svg\" xmlns:xlink=\"http://www.w3.org/1999/xlink\" contentScriptType=\"application/ecmascript\" contentStyleType=\"text/css\" height=\"233px\" preserveAspectRatio=\"none\" style=\"width:649px;height:233px;\" version=\"1.1\" viewBox=\"0 0 649 233\" width=\"649px\" zoomAndPan=\"magnify\"><defs/><g><!--MD5=[fbc87193dbaf4d95561dea2c320d4a47]\n",
       "cluster E1--><a href=\"psysml:e9833d01-8fa8-4820-af73-47d7be444de9\" target=\"_top\" title=\"psysml:e9833d01-8fa8-4820-af73-47d7be444de9\" xlink:actuate=\"onRequest\" xlink:href=\"psysml:e9833d01-8fa8-4820-af73-47d7be444de9\" xlink:show=\"new\" xlink:title=\"psysml:e9833d01-8fa8-4820-af73-47d7be444de9\" xlink:type=\"simple\"><rect fill=\"#FFFFFF\" height=\"122\" id=\"E1\" style=\"stroke: #383838; stroke-width: 1.5;\" width=\"146\" x=\"7\" y=\"42.0986\"/><rect fill=\"#F8F8F8\" height=\"37.9375\" style=\"stroke: #383838; stroke-width: 1.5;\" width=\"146\" x=\"7\" y=\"42.0986\"/><text fill=\"#000000\" font-family=\"sans-serif\" font-size=\"12\" font-style=\"italic\" lengthAdjust=\"spacingAndGlyphs\" textLength=\"88\" x=\"36\" y=\"58.2373\">«analysis def»</text><text fill=\"#000000\" font-family=\"sans-serif\" font-size=\"12\" lengthAdjust=\"spacingAndGlyphs\" textLength=\"81\" x=\"39.5\" y=\"72.2061\">AnalysisCase</text></a><!--MD5=[f6df4d0ebaf0b5dfb2ced0ae5af7c670]\n",
       "cluster E4--><a href=\"psysml:8a4520e8-ac51-4a2a-8007-cfc5f8084f42\" target=\"_top\" title=\"psysml:8a4520e8-ac51-4a2a-8007-cfc5f8084f42\" xlink:actuate=\"onRequest\" xlink:href=\"psysml:8a4520e8-ac51-4a2a-8007-cfc5f8084f42\" xlink:show=\"new\" xlink:title=\"psysml:8a4520e8-ac51-4a2a-8007-cfc5f8084f42\" xlink:type=\"simple\"><rect fill=\"#FFFFFF\" height=\"180\" id=\"E4\" style=\"stroke: #383838; stroke-width: 1.5;\" width=\"262\" x=\"216\" y=\"42.0986\"/><rect fill=\"#F8F8F8\" height=\"37.9375\" style=\"stroke: #383838; stroke-width: 1.5;\" width=\"262\" x=\"216\" y=\"42.0986\"/><text fill=\"#000000\" font-family=\"sans-serif\" font-size=\"12\" font-style=\"italic\" lengthAdjust=\"spacingAndGlyphs\" textLength=\"88\" x=\"303\" y=\"58.2373\">«analysis def»</text><text fill=\"#000000\" font-family=\"sans-serif\" font-size=\"12\" lengthAdjust=\"spacingAndGlyphs\" textLength=\"77\" x=\"308.5\" y=\"72.2061\">AnalysisPlan</text></a><!--MD5=[14e3b0961a2654348d326746436168a1]\n",
       "cluster E6--><a href=\"psysml:ef775355-9069-4551-a021-5839d9673f3d\" target=\"_top\" title=\"psysml:ef775355-9069-4551-a021-5839d9673f3d\" xlink:actuate=\"onRequest\" xlink:href=\"psysml:ef775355-9069-4551-a021-5839d9673f3d\" xlink:show=\"new\" xlink:title=\"psysml:ef775355-9069-4551-a021-5839d9673f3d\" xlink:type=\"simple\"><rect fill=\"#FFFFFF\" height=\"110.5\" id=\"E6\" rx=\"10\" ry=\"10\" style=\"stroke: #383838; stroke-width: 1.5;\" width=\"138\" x=\"299\" y=\"81.5986\"/><rect fill=\"#F8F8F8\" height=\"37.9375\" rx=\"10\" ry=\"10\" style=\"stroke: #F8F8F8; stroke-width: 1.5;\" width=\"138\" x=\"299\" y=\"81.5986\"/><rect fill=\"#F8F8F8\" height=\"10\" style=\"stroke: #F8F8F8; stroke-width: 1.5;\" width=\"138\" x=\"299\" y=\"109.5361\"/><rect fill=\"none\" height=\"110.5\" id=\"E6\" rx=\"10\" ry=\"10\" style=\"stroke: #383838; stroke-width: 1.5;\" width=\"138\" x=\"299\" y=\"81.5986\"/><text fill=\"#000000\" font-family=\"sans-serif\" font-size=\"12\" font-style=\"italic\" lengthAdjust=\"spacingAndGlyphs\" textLength=\"64\" x=\"336\" y=\"97.7373\">«analysis»</text><text fill=\"#000000\" font-family=\"sans-serif\" font-size=\"12\" lengthAdjust=\"spacingAndGlyphs\" textLength=\"81\" x=\"327.5\" y=\"111.7061\">analysisCase</text><line style=\"stroke: #383838; stroke-width: 1.0;\" x1=\"299\" x2=\"437\" y1=\"119.5361\" y2=\"119.5361\"/></a><!--MD5=[a84b4591f868c1fa4a211716a82f2f0d]\n",
       "cluster E10--><a href=\"psysml:26b0c0e9-c7c6-4e19-b68b-97e4f04c11f8\" target=\"_top\" title=\"psysml:26b0c0e9-c7c6-4e19-b68b-97e4f04c11f8\" xlink:actuate=\"onRequest\" xlink:href=\"psysml:26b0c0e9-c7c6-4e19-b68b-97e4f04c11f8\" xlink:show=\"new\" xlink:title=\"psysml:26b0c0e9-c7c6-4e19-b68b-97e4f04c11f8\" xlink:type=\"simple\"><rect fill=\"#FFFFFF\" height=\"122\" id=\"E10\" rx=\"10\" ry=\"10\" style=\"stroke: #383838; stroke-width: 1.5;\" width=\"130\" x=\"507\" y=\"42.0986\"/><rect fill=\"#F8F8F8\" height=\"37.9375\" rx=\"10\" ry=\"10\" style=\"stroke: #F8F8F8; stroke-width: 1.5;\" width=\"130\" x=\"507\" y=\"42.0986\"/><rect fill=\"#F8F8F8\" height=\"10\" style=\"stroke: #F8F8F8; stroke-width: 1.5;\" width=\"130\" x=\"507\" y=\"70.0361\"/><rect fill=\"none\" height=\"122\" id=\"E10\" rx=\"10\" ry=\"10\" style=\"stroke: #383838; stroke-width: 1.5;\" width=\"130\" x=\"507\" y=\"42.0986\"/><text fill=\"#000000\" font-family=\"sans-serif\" font-size=\"12\" font-style=\"italic\" lengthAdjust=\"spacingAndGlyphs\" textLength=\"64\" x=\"540\" y=\"58.2373\">«analysis»</text><text fill=\"#000000\" font-family=\"sans-serif\" font-size=\"12\" lengthAdjust=\"spacingAndGlyphs\" textLength=\"77\" x=\"533.5\" y=\"72.2061\">analysisPlan</text><line style=\"stroke: #383838; stroke-width: 1.0;\" x1=\"507\" x2=\"637\" y1=\"80.0361\" y2=\"80.0361\"/></a><text fill=\"#000000\" font-family=\"sans-serif\" font-size=\"14\" lengthAdjust=\"spacingAndGlyphs\" textLength=\"7\" x=\"76.5\" y=\"20.7969\">v</text><rect fill=\"#383838\" height=\"12\" style=\"stroke: #F8F8F8; stroke-width: 1.5;\" width=\"12\" x=\"74\" y=\"36.0986\"/><text fill=\"#000000\" font-family=\"sans-serif\" font-size=\"14\" lengthAdjust=\"spacingAndGlyphs\" textLength=\"39\" x=\"60.5\" y=\"183.0938\">result</text><rect fill=\"#383838\" height=\"12\" style=\"stroke: #F8F8F8; stroke-width: 1.5;\" width=\"12\" x=\"74\" y=\"158.0986\"/><text fill=\"#000000\" font-family=\"sans-serif\" font-size=\"14\" lengthAdjust=\"spacingAndGlyphs\" textLength=\"7\" x=\"230.5\" y=\"20.7969\">v</text><rect fill=\"#383838\" height=\"12\" style=\"stroke: #F8F8F8; stroke-width: 1.5;\" width=\"12\" x=\"228\" y=\"36.0986\"/><text fill=\"#000000\" font-family=\"sans-serif\" font-size=\"14\" lengthAdjust=\"spacingAndGlyphs\" textLength=\"39\" x=\"458.5\" y=\"183.0938\">result</text><rect fill=\"#383838\" height=\"12\" style=\"stroke: #F8F8F8; stroke-width: 1.5;\" width=\"12\" x=\"472\" y=\"158.0986\"/><text fill=\"#000000\" font-family=\"sans-serif\" font-size=\"14\" lengthAdjust=\"spacingAndGlyphs\" textLength=\"37\" x=\"349.5\" y=\"211.0938\">mass</text><rect fill=\"#383838\" height=\"12\" style=\"stroke: #F8F8F8; stroke-width: 1.5;\" width=\"12\" x=\"362\" y=\"186.0986\"/><text fill=\"#000000\" font-family=\"sans-serif\" font-size=\"14\" lengthAdjust=\"spacingAndGlyphs\" textLength=\"7\" x=\"364.5\" y=\"60.2969\">v</text><rect fill=\"#383838\" height=\"12\" style=\"stroke: #F8F8F8; stroke-width: 1.5;\" width=\"12\" x=\"362\" y=\"75.5986\"/><text fill=\"#000000\" font-family=\"sans-serif\" font-size=\"14\" lengthAdjust=\"spacingAndGlyphs\" textLength=\"7\" x=\"567.5\" y=\"20.7969\">v</text><rect fill=\"#383838\" height=\"12\" style=\"stroke: #F8F8F8; stroke-width: 1.5;\" width=\"12\" x=\"565\" y=\"36.0986\"/><text fill=\"#000000\" font-family=\"sans-serif\" font-size=\"14\" lengthAdjust=\"spacingAndGlyphs\" textLength=\"39\" x=\"505.5\" y=\"183.0938\">result</text><rect fill=\"#383838\" height=\"12\" style=\"stroke: #F8F8F8; stroke-width: 1.5;\" width=\"12\" x=\"519\" y=\"158.0986\"/><!--MD5=[976293085d40ee34c6fe6e18771d55ab]\n",
       "@startuml\r\n",
       "skinparam ranksep 8\r\n",
       "skinparam monochrome true\r\n",
       "skinparam classbackgroundcolor white\r\n",
       "skinparam shadowing false\r\n",
       "skinparam wrapWidth 300\r\n",
       "hide circle\r\n",
       "\r\n",
       "rec def \"AnalysisCase\" as E1 << analysis def>> [[psysml:e9833d01-8fa8-4820-af73-47d7be444de9 ]] {\r\n",
       "portin \"v\" as E2  [[psysml:fc36d359-2f0c-4a32-9d15-fff2be0a8869 ]] \r\n",
       "portout \"result\" as E3  [[psysml:7ffbe20f-c891-4b52-987b-0be8eb99b87a ]] \r\n",
       "}\r\n",
       "\r\n",
       "rec def \"AnalysisPlan\" as E4 << analysis def>> [[psysml:8a4520e8-ac51-4a2a-8007-cfc5f8084f42 ]] {\r\n",
       "portin \"v\" as E5  [[psysml:7635dc34-c4d2-4388-b045-3a6cac182eef ]] \r\n",
       "rec usage \"analysisCase\" as E6 << analysis>> [[psysml:ef775355-9069-4551-a021-5839d9673f3d ]] {\r\n",
       "portout \"mass\" as E7  [[psysml:56f340db-5793-4dc6-898e-9e0a5f90ef66 ]] \r\n",
       "portin \"v\" as E8  [[psysml:d8dc3b58-26c5-4e6e-82f3-a4f0880c0fd9 ]] \r\n",
       "}\r\n",
       "\r\n",
       "portout \"result\" as E9  [[psysml:55ba6aa8-4536-4622-ad3c-e7c6595a0034 ]] \r\n",
       "}\r\n",
       "\r\n",
       "rec usage \"analysisPlan\" as E10 << analysis>> [[psysml:26b0c0e9-c7c6-4e19-b68b-97e4f04c11f8 ]] {\r\n",
       "portin \"v\" as E11  [[psysml:f389b1b7-0af5-48e1-9589-ecdd74e85b57 ]] \r\n",
       "portout \"result\" as E12  [[psysml:bb9048ad-dd49-4e98-ae44-d0812ca693a4 ]] \r\n",
       "}\r\n",
       "\r\n",
       "@enduml\r\n",
       "\n",
       "PlantUML version 1.2020.13(Sat Jun 13 12:26:38 UTC 2020)\n",
       "(EPL source distribution)\n",
       "Java Runtime: OpenJDK Runtime Environment\n",
       "JVM: OpenJDK 64-Bit Server VM\n",
       "Default Encoding: UTF-8\n",
       "Language: en\n",
       "Country: null\n",
       "--></g></svg>"
      ]
     },
     "execution_count": 41,
     "metadata": {},
     "output_type": "execute_result"
    }
   ],
   "source": [
    "%viz --style=\"DEFAULT\" --view=\"Action\" \"AnalysisTest\""
   ]
  },
  {
   "cell_type": "code",
   "execution_count": 42,
   "id": "d5bfa4e3",
   "metadata": {
    "execution": {
     "iopub.execute_input": "2021-09-27T07:15:31.845804Z",
     "iopub.status.busy": "2021-09-27T07:15:31.845373Z",
     "iopub.status.idle": "2021-09-27T07:15:31.850660Z",
     "shell.execute_reply": "2021-09-27T07:15:31.850979Z"
    }
   },
   "outputs": [
    {
     "data": {
      "image/svg+xml": [
       "<?xml version=\"1.0\" encoding=\"UTF-8\" standalone=\"no\"?><svg xmlns=\"http://www.w3.org/2000/svg\" xmlns:xlink=\"http://www.w3.org/1999/xlink\" contentScriptType=\"application/ecmascript\" contentStyleType=\"text/css\" height=\"12px\" preserveAspectRatio=\"none\" style=\"width:12px;height:12px;\" version=\"1.1\" viewBox=\"0 0 12 12\" width=\"12px\" zoomAndPan=\"magnify\"><defs/><g><!--MD5=[0b72472770326784bf6c2b53246e1e64]\n",
       "@startuml\r\n",
       "skinparam roundcorner 20\r\n",
       "skinparam BoxPadding 20\r\n",
       "skinparam SequenceBoxBackgroundColor #white\r\n",
       "skinparam style strictuml\r\n",
       "skinparam maxMessageSize 100\r\n",
       "skinparam monochrome true\r\n",
       "skinparam classbackgroundcolor white\r\n",
       "skinparam shadowing false\r\n",
       "skinparam wrapWidth 300\r\n",
       "hide circle\r\n",
       "\r\n",
       "@enduml\r\n",
       "\n",
       "PlantUML version 1.2020.13(Sat Jun 13 12:26:38 UTC 2020)\n",
       "(EPL source distribution)\n",
       "Java Runtime: OpenJDK Runtime Environment\n",
       "JVM: OpenJDK 64-Bit Server VM\n",
       "Default Encoding: UTF-8\n",
       "Language: en\n",
       "Country: null\n",
       "--></g></svg>"
      ]
     },
     "execution_count": 42,
     "metadata": {},
     "output_type": "execute_result"
    }
   ],
   "source": [
    "%viz --style=\"DEFAULT\" --view=\"Sequence\" \"AnalysisTest\""
   ]
  },
  {
   "cell_type": "code",
   "execution_count": 43,
   "id": "03c57fcd",
   "metadata": {
    "execution": {
     "iopub.execute_input": "2021-09-27T07:15:31.900653Z",
     "iopub.status.busy": "2021-09-27T07:15:31.900243Z",
     "iopub.status.idle": "2021-09-27T07:15:31.957791Z",
     "shell.execute_reply": "2021-09-27T07:15:31.956442Z"
    }
   },
   "outputs": [
    {
     "data": {
      "image/svg+xml": [
       "<?xml version=\"1.0\" encoding=\"UTF-8\" standalone=\"no\"?><svg xmlns=\"http://www.w3.org/2000/svg\" xmlns:xlink=\"http://www.w3.org/1999/xlink\" contentScriptType=\"application/ecmascript\" contentStyleType=\"text/css\" height=\"628px\" preserveAspectRatio=\"none\" style=\"width:837px;height:628px;\" version=\"1.1\" viewBox=\"0 0 837 628\" width=\"837px\" zoomAndPan=\"magnify\"><defs/><g><!--MD5=[fbc87193dbaf4d95561dea2c320d4a47]\n",
       "cluster E1--><a href=\"psysml:f5546318-5597-445e-83af-957575abd1f7\" target=\"_top\" title=\"psysml:f5546318-5597-445e-83af-957575abd1f7\" xlink:actuate=\"onRequest\" xlink:href=\"psysml:f5546318-5597-445e-83af-957575abd1f7\" xlink:show=\"new\" xlink:title=\"psysml:f5546318-5597-445e-83af-957575abd1f7\" xlink:type=\"simple\"><polygon fill=\"#FFFFFF\" points=\"16,6,108,6,115,28.2969,815,28.2969,815,616,16,616,16,6\" style=\"stroke: #000000; stroke-width: 1.5;\"/><line style=\"stroke: #000000; stroke-width: 1.5;\" x1=\"16\" x2=\"115\" y1=\"28.2969\" y2=\"28.2969\"/><text fill=\"#000000\" font-family=\"sans-serif\" font-size=\"14\" font-weight=\"bold\" lengthAdjust=\"spacingAndGlyphs\" textLength=\"86\" x=\"20\" y=\"20.9951\">AnalysisTest</text></a><!--MD5=[de5ec2e2e8f62f467e546659f5068c88]\n",
       "cluster E5--><a href=\"psysml:e9833d01-8fa8-4820-af73-47d7be444de9\" target=\"_top\" title=\"psysml:e9833d01-8fa8-4820-af73-47d7be444de9\" xlink:actuate=\"onRequest\" xlink:href=\"psysml:e9833d01-8fa8-4820-af73-47d7be444de9\" xlink:show=\"new\" xlink:title=\"psysml:e9833d01-8fa8-4820-af73-47d7be444de9\" xlink:type=\"simple\"><rect fill=\"#FFFFFF\" height=\"299.5\" id=\"E5\" style=\"stroke: #383838; stroke-width: 1.5;\" width=\"146\" x=\"653\" y=\"74.5\"/><rect fill=\"#F8F8F8\" height=\"37.9375\" style=\"stroke: #383838; stroke-width: 1.5;\" width=\"146\" x=\"653\" y=\"74.5\"/><text fill=\"#000000\" font-family=\"sans-serif\" font-size=\"12\" font-style=\"italic\" lengthAdjust=\"spacingAndGlyphs\" textLength=\"88\" x=\"682\" y=\"90.6387\">«analysis def»</text><text fill=\"#000000\" font-family=\"sans-serif\" font-size=\"12\" lengthAdjust=\"spacingAndGlyphs\" textLength=\"81\" x=\"685.5\" y=\"104.6074\">AnalysisCase</text></a><!--MD5=[55dfccfc6c49c2d10cd1bd2211a6c90c]\n",
       "cluster E8--><a href=\"psysml:8a4520e8-ac51-4a2a-8007-cfc5f8084f42\" target=\"_top\" title=\"psysml:8a4520e8-ac51-4a2a-8007-cfc5f8084f42\" xlink:actuate=\"onRequest\" xlink:href=\"psysml:8a4520e8-ac51-4a2a-8007-cfc5f8084f42\" xlink:show=\"new\" xlink:title=\"psysml:8a4520e8-ac51-4a2a-8007-cfc5f8084f42\" xlink:type=\"simple\"><rect fill=\"#FFFFFF\" height=\"400\" id=\"E8\" style=\"stroke: #383838; stroke-width: 1.5;\" width=\"259\" x=\"279\" y=\"192\"/><rect fill=\"#F8F8F8\" height=\"37.9375\" style=\"stroke: #383838; stroke-width: 1.5;\" width=\"259\" x=\"279\" y=\"192\"/><text fill=\"#000000\" font-family=\"sans-serif\" font-size=\"12\" font-style=\"italic\" lengthAdjust=\"spacingAndGlyphs\" textLength=\"88\" x=\"364.5\" y=\"208.1387\">«analysis def»</text><text fill=\"#000000\" font-family=\"sans-serif\" font-size=\"12\" lengthAdjust=\"spacingAndGlyphs\" textLength=\"77\" x=\"370\" y=\"222.1074\">AnalysisPlan</text></a><!--MD5=[a84b4591f868c1fa4a211716a82f2f0d]\n",
       "cluster E10--><a href=\"psysml:ef775355-9069-4551-a021-5839d9673f3d\" target=\"_top\" title=\"psysml:ef775355-9069-4551-a021-5839d9673f3d\" xlink:actuate=\"onRequest\" xlink:href=\"psysml:ef775355-9069-4551-a021-5839d9673f3d\" xlink:show=\"new\" xlink:title=\"psysml:ef775355-9069-4551-a021-5839d9673f3d\" xlink:type=\"simple\"><rect fill=\"#FFFFFF\" height=\"239\" id=\"E10\" rx=\"10\" ry=\"10\" style=\"stroke: #383838; stroke-width: 1.5;\" width=\"138\" x=\"362\" y=\"315\"/><rect fill=\"#F8F8F8\" height=\"37.9375\" rx=\"10\" ry=\"10\" style=\"stroke: #F8F8F8; stroke-width: 1.5;\" width=\"138\" x=\"362\" y=\"315\"/><rect fill=\"#F8F8F8\" height=\"10\" style=\"stroke: #F8F8F8; stroke-width: 1.5;\" width=\"138\" x=\"362\" y=\"342.9375\"/><rect fill=\"none\" height=\"239\" id=\"E10\" rx=\"10\" ry=\"10\" style=\"stroke: #383838; stroke-width: 1.5;\" width=\"138\" x=\"362\" y=\"315\"/><text fill=\"#000000\" font-family=\"sans-serif\" font-size=\"12\" font-style=\"italic\" lengthAdjust=\"spacingAndGlyphs\" textLength=\"64\" x=\"399\" y=\"331.1387\">«analysis»</text><text fill=\"#000000\" font-family=\"sans-serif\" font-size=\"12\" lengthAdjust=\"spacingAndGlyphs\" textLength=\"81\" x=\"390.5\" y=\"345.1074\">analysisCase</text><line style=\"stroke: #383838; stroke-width: 1.0;\" x1=\"362\" x2=\"500\" y1=\"352.9375\" y2=\"352.9375\"/></a><!--MD5=[b4997ac47864f28c2f74865a473b2911]\n",
       "class E2--><a href=\"psysml:df856138-3406-4a6b-b583-20ed5eacc0cd\" target=\"_top\" title=\"psysml:df856138-3406-4a6b-b583-20ed5eacc0cd\" xlink:actuate=\"onRequest\" xlink:href=\"psysml:df856138-3406-4a6b-b583-20ed5eacc0cd\" xlink:show=\"new\" xlink:title=\"psysml:df856138-3406-4a6b-b583-20ed5eacc0cd\" xlink:type=\"simple\"><rect fill=\"#FFFFFF\" height=\"45.9375\" id=\"E2\" style=\"stroke: #383838; stroke-width: 1.5;\" width=\"66\" x=\"568\" y=\"169\"/><text fill=\"#000000\" font-family=\"sans-serif\" font-size=\"12\" font-style=\"italic\" lengthAdjust=\"spacingAndGlyphs\" textLength=\"64\" x=\"569\" y=\"185.1387\">«part def»</text><text fill=\"#000000\" font-family=\"sans-serif\" font-size=\"12\" lengthAdjust=\"spacingAndGlyphs\" textLength=\"8\" x=\"597\" y=\"199.1074\">V</text><line style=\"stroke: #383838; stroke-width: 1.5;\" x1=\"569\" x2=\"633\" y1=\"206.9375\" y2=\"206.9375\"/></a><!--MD5=[09b614a08d8cba4a07c9adeb5e0fee81]\n",
       "class E3--><a href=\"psysml:a14948af-c637-432a-b299-badb5d3ced27\" target=\"_top\" title=\"psysml:a14948af-c637-432a-b299-badb5d3ced27\" xlink:actuate=\"onRequest\" xlink:href=\"psysml:a14948af-c637-432a-b299-badb5d3ced27\" xlink:show=\"new\" xlink:title=\"psysml:a14948af-c637-432a-b299-badb5d3ced27\" xlink:type=\"simple\"><rect fill=\"#FFFFFF\" height=\"45.9375\" id=\"E3\" rx=\"10\" ry=\"10\" style=\"stroke: #383838; stroke-width: 1.5;\" width=\"42\" x=\"580\" y=\"51.5\"/><text fill=\"#000000\" font-family=\"sans-serif\" font-size=\"12\" font-style=\"italic\" lengthAdjust=\"spacingAndGlyphs\" textLength=\"40\" x=\"581\" y=\"67.6387\">«part»</text><text fill=\"#000000\" font-family=\"sans-serif\" font-size=\"12\" lengthAdjust=\"spacingAndGlyphs\" textLength=\"28\" x=\"587\" y=\"81.6074\">vv: V</text><line style=\"stroke: #383838; stroke-width: 1.5;\" x1=\"581\" x2=\"621\" y1=\"89.4375\" y2=\"89.4375\"/></a><!--MD5=[ebbe1d658d1005bcc118a6aa81145e00]\n",
       "class E4--><a href=\"psysml:b06c710d-6070-489f-855d-95835f572a57\" target=\"_top\" title=\"psysml:b06c710d-6070-489f-855d-95835f572a57\" xlink:actuate=\"onRequest\" xlink:href=\"psysml:b06c710d-6070-489f-855d-95835f572a57\" xlink:show=\"new\" xlink:title=\"psysml:b06c710d-6070-489f-855d-95835f572a57\" xlink:type=\"simple\"><rect fill=\"#FFFFFF\" height=\"66.7422\" id=\"E4\" style=\"stroke: #383838; stroke-width: 1.5;\" width=\"117\" x=\"315.5\" y=\"41\"/><text fill=\"#000000\" font-family=\"sans-serif\" font-size=\"12\" font-style=\"italic\" lengthAdjust=\"spacingAndGlyphs\" textLength=\"115\" x=\"316.5\" y=\"57.1387\">«requirement def»</text><text fill=\"#000000\" font-family=\"sans-serif\" font-size=\"12\" lengthAdjust=\"spacingAndGlyphs\" textLength=\"107\" x=\"320.5\" y=\"71.1074\">AnalysisObjective</text><line style=\"stroke: #383838; stroke-width: 1.5;\" x1=\"316.5\" x2=\"431.5\" y1=\"78.9375\" y2=\"78.9375\"/><text fill=\"#000000\" font-family=\"sans-serif\" font-size=\"11\" lengthAdjust=\"spacingAndGlyphs\" textLength=\"12\" x=\"321.5\" y=\"93.1479\">...</text><line style=\"stroke: #383838; stroke-width: 1.0;\" x1=\"316.5\" x2=\"431.5\" y1=\"99.7422\" y2=\"99.7422\"/></a><!--MD5=[bee11217b2f71d958a27249dc326068c]\n",
       "class E14--><a href=\"psysml:e127547d-9ca6-4380-b459-796effe0b56f\" target=\"_top\" title=\"psysml:e127547d-9ca6-4380-b459-796effe0b56f\" xlink:actuate=\"onRequest\" xlink:href=\"psysml:e127547d-9ca6-4380-b459-796effe0b56f\" xlink:show=\"new\" xlink:title=\"psysml:e127547d-9ca6-4380-b459-796effe0b56f\" xlink:type=\"simple\"><rect fill=\"#FFFFFF\" height=\"45.9375\" id=\"E14\" rx=\"10\" ry=\"10\" style=\"stroke: #383838; stroke-width: 1.5;\" width=\"104\" x=\"64\" y=\"51.5\"/><text fill=\"#000000\" font-family=\"sans-serif\" font-size=\"12\" font-style=\"italic\" lengthAdjust=\"spacingAndGlyphs\" textLength=\"40\" x=\"96\" y=\"67.6387\">«part»</text><text fill=\"#000000\" font-family=\"sans-serif\" font-size=\"12\" lengthAdjust=\"spacingAndGlyphs\" textLength=\"98\" x=\"67\" y=\"81.6074\">analysisContext</text><line style=\"stroke: #383838; stroke-width: 1.5;\" x1=\"65\" x2=\"167\" y1=\"89.4375\" y2=\"89.4375\"/></a><!--MD5=[0c48fb7552dae8cbbef69381101a84c8]\n",
       "class E15--><a href=\"psysml:26b0c0e9-c7c6-4e19-b68b-97e4f04c11f8\" target=\"_top\" title=\"psysml:26b0c0e9-c7c6-4e19-b68b-97e4f04c11f8\" xlink:actuate=\"onRequest\" xlink:href=\"psysml:26b0c0e9-c7c6-4e19-b68b-97e4f04c11f8\" xlink:show=\"new\" xlink:title=\"psysml:26b0c0e9-c7c6-4e19-b68b-97e4f04c11f8\" xlink:type=\"simple\"><rect fill=\"#FFFFFF\" height=\"45.9375\" id=\"E15\" rx=\"10\" ry=\"10\" style=\"stroke: #383838; stroke-width: 1.5;\" width=\"168\" x=\"32\" y=\"169\"/><text fill=\"#000000\" font-family=\"sans-serif\" font-size=\"12\" font-style=\"italic\" lengthAdjust=\"spacingAndGlyphs\" textLength=\"64\" x=\"84\" y=\"185.1387\">«analysis»</text><text fill=\"#000000\" font-family=\"sans-serif\" font-size=\"12\" lengthAdjust=\"spacingAndGlyphs\" textLength=\"162\" x=\"35\" y=\"199.1074\">analysisPlan: AnalysisPlan</text><line style=\"stroke: #383838; stroke-width: 1.5;\" x1=\"33\" x2=\"199\" y1=\"206.9375\" y2=\"206.9375\"/></a><!--MD5=[35f0587eaee8d5bb9a02e25b63afc23b]\n",
       "class E16--><a href=\"psysml:a55f605c-cc05-4fcd-b9b1-1e930756e010\" target=\"_top\" title=\"psysml:a55f605c-cc05-4fcd-b9b1-1e930756e010\" xlink:actuate=\"onRequest\" xlink:href=\"psysml:a55f605c-cc05-4fcd-b9b1-1e930756e010\" xlink:show=\"new\" xlink:title=\"psysml:a55f605c-cc05-4fcd-b9b1-1e930756e010\" xlink:type=\"simple\"><rect fill=\"#FFFFFF\" height=\"45.9375\" id=\"E16\" rx=\"10\" ry=\"10\" style=\"stroke: #383838; stroke-width: 1.5;\" width=\"93\" x=\"69.5\" y=\"292\"/><text fill=\"#000000\" font-family=\"sans-serif\" font-size=\"12\" font-style=\"italic\" lengthAdjust=\"spacingAndGlyphs\" textLength=\"91\" x=\"70.5\" y=\"308.1387\">«requirement»</text><text fill=\"#000000\" font-family=\"sans-serif\" font-size=\"12\" lengthAdjust=\"spacingAndGlyphs\" textLength=\"19\" x=\"106.5\" y=\"322.1074\">obj</text><line style=\"stroke: #383838; stroke-width: 1.5;\" x1=\"70.5\" x2=\"161.5\" y1=\"329.9375\" y2=\"329.9375\"/></a><text fill=\"#000000\" font-family=\"sans-serif\" font-size=\"14\" lengthAdjust=\"spacingAndGlyphs\" textLength=\"7\" x=\"722.5\" y=\"53.1982\">v</text><rect fill=\"#383838\" height=\"12\" style=\"stroke: #F8F8F8; stroke-width: 1.5;\" width=\"12\" x=\"720\" y=\"68.5\"/><text fill=\"#000000\" font-family=\"sans-serif\" font-size=\"14\" lengthAdjust=\"spacingAndGlyphs\" textLength=\"39\" x=\"706.5\" y=\"392.9951\">result</text><rect fill=\"#383838\" height=\"12\" style=\"stroke: #F8F8F8; stroke-width: 1.5;\" width=\"12\" x=\"720\" y=\"368\"/><text fill=\"#000000\" font-family=\"sans-serif\" font-size=\"14\" lengthAdjust=\"spacingAndGlyphs\" textLength=\"7\" x=\"293.5\" y=\"170.6982\">v</text><rect fill=\"#383838\" height=\"12\" style=\"stroke: #F8F8F8; stroke-width: 1.5;\" width=\"12\" x=\"291\" y=\"186\"/><text fill=\"#000000\" font-family=\"sans-serif\" font-size=\"14\" lengthAdjust=\"spacingAndGlyphs\" textLength=\"39\" x=\"518.5\" y=\"499.9951\">result</text><rect fill=\"#383838\" height=\"12\" style=\"stroke: #F8F8F8; stroke-width: 1.5;\" width=\"12\" x=\"532\" y=\"475\"/><text fill=\"#000000\" font-family=\"sans-serif\" font-size=\"14\" lengthAdjust=\"spacingAndGlyphs\" textLength=\"37\" x=\"412.5\" y=\"572.9951\">mass</text><rect fill=\"#383838\" height=\"12\" style=\"stroke: #F8F8F8; stroke-width: 1.5;\" width=\"12\" x=\"425\" y=\"548\"/><text fill=\"#000000\" font-family=\"sans-serif\" font-size=\"14\" lengthAdjust=\"spacingAndGlyphs\" textLength=\"7\" x=\"427.5\" y=\"293.6982\">v</text><rect fill=\"#383838\" height=\"12\" style=\"stroke: #F8F8F8; stroke-width: 1.5;\" width=\"12\" x=\"425\" y=\"309\"/><!--MD5=[05d275557350bfb9b23a4ef7222b4c39]\n",
       "link E3 to E2--><a href=\"psysml:4553bbf6-343c-42bd-a219-72e0d50d2170\" target=\"_top\" title=\"psysml:4553bbf6-343c-42bd-a219-72e0d50d2170\" xlink:actuate=\"onRequest\" xlink:href=\"psysml:4553bbf6-343c-42bd-a219-72e0d50d2170\" xlink:show=\"new\" xlink:title=\"psysml:4553bbf6-343c-42bd-a219-72e0d50d2170\" xlink:type=\"simple\"><path d=\"M601,97.77 C601,112.15 601,131.32 601,148.54 \" fill=\"none\" id=\"E3-&gt;E2\" style=\"stroke: #383838; stroke-width: 1.0;\"/><polygon fill=\"#FFFFFF\" points=\"601,168.8,594,149.8,608,149.8,601,168.8\" style=\"stroke: #383838; stroke-width: 1.0;\"/><ellipse cx=\"596\" cy=\"144.1\" fill=\"#383838\" rx=\"2\" ry=\"2\" style=\"stroke: #383838; stroke-width: 1.0;\"/><ellipse cx=\"606\" cy=\"144.1\" fill=\"#383838\" rx=\"2\" ry=\"2\" style=\"stroke: #383838; stroke-width: 1.0;\"/></a><!--MD5=[17bf29720e4688890742b92d9a67fdf0]\n",
       "reverse link E14 to E15--><a href=\"psysml:cf81c84a-d20a-4a9d-8212-c3de89ec9ad0\" target=\"_top\" title=\"psysml:cf81c84a-d20a-4a9d-8212-c3de89ec9ad0\" xlink:actuate=\"onRequest\" xlink:href=\"psysml:cf81c84a-d20a-4a9d-8212-c3de89ec9ad0\" xlink:show=\"new\" xlink:title=\"psysml:cf81c84a-d20a-4a9d-8212-c3de89ec9ad0\" xlink:type=\"simple\"><path d=\"M116,110.99 C116,129.85 116,152.44 116,168.8 \" fill=\"none\" id=\"E14&lt;-E15\" style=\"stroke: #383838; stroke-width: 1.0;\"/><polygon fill=\"#383838\" points=\"116,97.77,112,103.77,116,109.77,120,103.77,116,97.77\" style=\"stroke: #383838; stroke-width: 1.0;\"/></a><!--MD5=[1b01d5b954197aaf3899ca0bde35faf5]\n",
       "link E15 to E8--><a href=\"psysml:31ecf0da-b030-4520-be0f-3ece1376fb5f\" target=\"_top\" title=\"psysml:31ecf0da-b030-4520-be0f-3ece1376fb5f\" xlink:actuate=\"onRequest\" xlink:href=\"psysml:31ecf0da-b030-4520-be0f-3ece1376fb5f\" xlink:show=\"new\" xlink:title=\"psysml:31ecf0da-b030-4520-be0f-3ece1376fb5f\" xlink:type=\"simple\"><path d=\"M152.22,215.11 C166.86,224.19 183.85,234.93 199,245 C225.17,262.39 254.56,283.27 274.27,297.48 \" fill=\"none\" id=\"E15-&gt;E8\" style=\"stroke: #383838; stroke-width: 1.0;\"/><polygon fill=\"#FFFFFF\" points=\"274.27,297.48,254.7641,292.0467,262.9515,280.6904,274.27,297.48\" style=\"stroke: #383838; stroke-width: 1.0;\"/><ellipse cx=\"251.3101\" cy=\"287.0909\" fill=\"#383838\" rx=\"2\" ry=\"2\" style=\"stroke: #383838; stroke-width: 1.0;\"/><ellipse cx=\"257.1582\" cy=\"278.9793\" fill=\"#383838\" rx=\"2\" ry=\"2\" style=\"stroke: #383838; stroke-width: 1.0;\"/></a><!--MD5=[f8b155c46b092be73bb522b0a8fc72a2]\n",
       "link E15 to E16--><a href=\"psysml:aa3a7955-6ed3-447d-b0ee-a09ada8803a4\" target=\"_top\" title=\"psysml:aa3a7955-6ed3-447d-b0ee-a09ada8803a4\" xlink:actuate=\"onRequest\" xlink:href=\"psysml:aa3a7955-6ed3-447d-b0ee-a09ada8803a4\" xlink:show=\"new\" xlink:title=\"psysml:aa3a7955-6ed3-447d-b0ee-a09ada8803a4\" xlink:type=\"simple\"><path d=\"M116,215.19 C116,234.47 116,262.55 116,283.86 \" fill=\"none\" id=\"E15-&gt;E16\" style=\"stroke: #383838; stroke-width: 1.0;\"/><polygon fill=\"#383838\" points=\"116,291.95,119,283.95,113,283.95,116,291.95\" style=\"stroke: #383838; stroke-width: 1.0;\"/><text fill=\"#000000\" font-family=\"sans-serif\" font-size=\"13\" lengthAdjust=\"spacingAndGlyphs\" textLength=\"73\" x=\"117\" y=\"258.0669\">«objective»</text><text fill=\"#000000\" font-family=\"sans-serif\" font-size=\"13\" lengthAdjust=\"spacingAndGlyphs\" textLength=\"8\" x=\"106.925\" y=\"280.8328\">1</text></a><!--MD5=[b88446ef1a5fe0547c50e66ac9b9eed3]\n",
       "@startuml\r\n",
       "skinparam monochrome true\r\n",
       "skinparam classbackgroundcolor white\r\n",
       "skinparam shadowing false\r\n",
       "skinparam wrapWidth 300\r\n",
       "hide circle\r\n",
       "\r\n",
       "package \"AnalysisTest\" as E1  [[psysml:f5546318-5597-445e-83af-957575abd1f7 ]]  {\r\n",
       "comp def \"V\" as E2  <<(T,blue) part def>> [[psysml:df856138-3406-4a6b-b583-20ed5eacc0cd ]] {\r\n",
       "}\r\n",
       "comp usage \"vv: V\" as E3  <<(T,blue) part>> [[psysml:a14948af-c637-432a-b299-badb5d3ced27 ]] {\r\n",
       "}\r\n",
       "comp def \"AnalysisObjective\" as E4  <<(T,blue) requirement def>> [[psysml:b06c710d-6070-489f-855d-95835f572a57 ]] {\r\n",
       "...\r\n",
       "- -\r\n",
       "}\r\n",
       "rec def \"AnalysisCase\" as E5 << analysis def>> [[psysml:e9833d01-8fa8-4820-af73-47d7be444de9 ]] {\r\n",
       "portin \"v\" as E6  [[psysml:fc36d359-2f0c-4a32-9d15-fff2be0a8869 ]] \r\n",
       "portout \"result\" as E7  [[psysml:7ffbe20f-c891-4b52-987b-0be8eb99b87a ]] \r\n",
       "}\r\n",
       "\r\n",
       "rec def \"AnalysisPlan\" as E8 << analysis def>> [[psysml:8a4520e8-ac51-4a2a-8007-cfc5f8084f42 ]] {\r\n",
       "portin \"v\" as E9  [[psysml:7635dc34-c4d2-4388-b045-3a6cac182eef ]] \r\n",
       "rec usage \"analysisCase\" as E10 << analysis>> [[psysml:ef775355-9069-4551-a021-5839d9673f3d ]] {\r\n",
       "portout \"mass\" as E11  [[psysml:56f340db-5793-4dc6-898e-9e0a5f90ef66 ]] \r\n",
       "portin \"v\" as E12  [[psysml:d8dc3b58-26c5-4e6e-82f3-a4f0880c0fd9 ]] \r\n",
       "}\r\n",
       "\r\n",
       "portout \"result\" as E13  [[psysml:55ba6aa8-4536-4622-ad3c-e7c6595a0034 ]] \r\n",
       "}\r\n",
       "\r\n",
       "comp usage \"analysisContext\" as E14  <<(T,blue) part>> [[psysml:e127547d-9ca6-4380-b459-796effe0b56f ]] {\r\n",
       "}\r\n",
       "comp usage \"analysisPlan: AnalysisPlan\" as E15 << analysis>> [[psysml:26b0c0e9-c7c6-4e19-b68b-97e4f04c11f8 ]] {\r\n",
       "}\r\n",
       "comp usage \"obj\" as E16  <<(T,blue) requirement>> [[psysml:a55f605c-cc05-4fcd-b9b1-1e930756e010 ]] {\r\n",
       "}\r\n",
       "}\r\n",
       "E3 - -:|> E2 [[psysml:4553bbf6-343c-42bd-a219-72e0d50d2170 ]] \r\n",
       "E14 *- - E15 [[psysml:cf81c84a-d20a-4a9d-8212-c3de89ec9ad0 ]] \r\n",
       "E15 - -:|> E8 [[psysml:31ecf0da-b030-4520-be0f-3ece1376fb5f ]] \r\n",
       "E15 - ->> \"1\"E16 [[psysml:aa3a7955-6ed3-447d-b0ee-a09ada8803a4 ]] : <<objective>>\r\n",
       "@enduml\r\n",
       "\n",
       "PlantUML version 1.2020.13(Sat Jun 13 12:26:38 UTC 2020)\n",
       "(EPL source distribution)\n",
       "Java Runtime: OpenJDK Runtime Environment\n",
       "JVM: OpenJDK 64-Bit Server VM\n",
       "Default Encoding: UTF-8\n",
       "Language: en\n",
       "Country: null\n",
       "--></g></svg>"
      ]
     },
     "execution_count": 43,
     "metadata": {},
     "output_type": "execute_result"
    }
   ],
   "source": [
    "%viz --style=\"DEFAULT\" --view=\"MIXED\" \"AnalysisTest\""
   ]
  },
  {
   "cell_type": "code",
   "execution_count": 44,
   "id": "97aafd32",
   "metadata": {
    "execution": {
     "iopub.execute_input": "2021-09-27T07:15:32.007216Z",
     "iopub.status.busy": "2021-09-27T07:15:32.006799Z",
     "iopub.status.idle": "2021-09-27T07:15:32.062104Z",
     "shell.execute_reply": "2021-09-27T07:15:32.061724Z"
    }
   },
   "outputs": [
    {
     "data": {
      "image/svg+xml": [
       "<?xml version=\"1.0\" encoding=\"UTF-8\" standalone=\"no\"?><svg xmlns=\"http://www.w3.org/2000/svg\" xmlns:xlink=\"http://www.w3.org/1999/xlink\" contentScriptType=\"application/ecmascript\" contentStyleType=\"text/css\" height=\"628px\" preserveAspectRatio=\"none\" style=\"width:837px;height:628px;\" version=\"1.1\" viewBox=\"0 0 837 628\" width=\"837px\" zoomAndPan=\"magnify\"><defs/><g><!--MD5=[fbc87193dbaf4d95561dea2c320d4a47]\n",
       "cluster E1--><a href=\"psysml:f5546318-5597-445e-83af-957575abd1f7\" target=\"_top\" title=\"psysml:f5546318-5597-445e-83af-957575abd1f7\" xlink:actuate=\"onRequest\" xlink:href=\"psysml:f5546318-5597-445e-83af-957575abd1f7\" xlink:show=\"new\" xlink:title=\"psysml:f5546318-5597-445e-83af-957575abd1f7\" xlink:type=\"simple\"><polygon fill=\"#FFFFFF\" points=\"16,6,108,6,115,28.2969,815,28.2969,815,616,16,616,16,6\" style=\"stroke: #000000; stroke-width: 1.5;\"/><line style=\"stroke: #000000; stroke-width: 1.5;\" x1=\"16\" x2=\"115\" y1=\"28.2969\" y2=\"28.2969\"/><text fill=\"#000000\" font-family=\"sans-serif\" font-size=\"14\" font-weight=\"bold\" lengthAdjust=\"spacingAndGlyphs\" textLength=\"86\" x=\"20\" y=\"20.9951\">AnalysisTest</text></a><!--MD5=[de5ec2e2e8f62f467e546659f5068c88]\n",
       "cluster E5--><a href=\"psysml:e9833d01-8fa8-4820-af73-47d7be444de9\" target=\"_top\" title=\"psysml:e9833d01-8fa8-4820-af73-47d7be444de9\" xlink:actuate=\"onRequest\" xlink:href=\"psysml:e9833d01-8fa8-4820-af73-47d7be444de9\" xlink:show=\"new\" xlink:title=\"psysml:e9833d01-8fa8-4820-af73-47d7be444de9\" xlink:type=\"simple\"><rect fill=\"#FFFFFF\" height=\"299.5\" id=\"E5\" style=\"stroke: #383838; stroke-width: 1.5;\" width=\"146\" x=\"653\" y=\"74.5\"/><rect fill=\"#F8F8F8\" height=\"37.9375\" style=\"stroke: #383838; stroke-width: 1.5;\" width=\"146\" x=\"653\" y=\"74.5\"/><text fill=\"#000000\" font-family=\"sans-serif\" font-size=\"12\" font-style=\"italic\" lengthAdjust=\"spacingAndGlyphs\" textLength=\"88\" x=\"682\" y=\"90.6387\">«analysis def»</text><text fill=\"#000000\" font-family=\"sans-serif\" font-size=\"12\" lengthAdjust=\"spacingAndGlyphs\" textLength=\"81\" x=\"685.5\" y=\"104.6074\">AnalysisCase</text></a><!--MD5=[55dfccfc6c49c2d10cd1bd2211a6c90c]\n",
       "cluster E8--><a href=\"psysml:8a4520e8-ac51-4a2a-8007-cfc5f8084f42\" target=\"_top\" title=\"psysml:8a4520e8-ac51-4a2a-8007-cfc5f8084f42\" xlink:actuate=\"onRequest\" xlink:href=\"psysml:8a4520e8-ac51-4a2a-8007-cfc5f8084f42\" xlink:show=\"new\" xlink:title=\"psysml:8a4520e8-ac51-4a2a-8007-cfc5f8084f42\" xlink:type=\"simple\"><rect fill=\"#FFFFFF\" height=\"400\" id=\"E8\" style=\"stroke: #383838; stroke-width: 1.5;\" width=\"259\" x=\"279\" y=\"192\"/><rect fill=\"#F8F8F8\" height=\"37.9375\" style=\"stroke: #383838; stroke-width: 1.5;\" width=\"259\" x=\"279\" y=\"192\"/><text fill=\"#000000\" font-family=\"sans-serif\" font-size=\"12\" font-style=\"italic\" lengthAdjust=\"spacingAndGlyphs\" textLength=\"88\" x=\"364.5\" y=\"208.1387\">«analysis def»</text><text fill=\"#000000\" font-family=\"sans-serif\" font-size=\"12\" lengthAdjust=\"spacingAndGlyphs\" textLength=\"77\" x=\"370\" y=\"222.1074\">AnalysisPlan</text></a><!--MD5=[a84b4591f868c1fa4a211716a82f2f0d]\n",
       "cluster E10--><a href=\"psysml:ef775355-9069-4551-a021-5839d9673f3d\" target=\"_top\" title=\"psysml:ef775355-9069-4551-a021-5839d9673f3d\" xlink:actuate=\"onRequest\" xlink:href=\"psysml:ef775355-9069-4551-a021-5839d9673f3d\" xlink:show=\"new\" xlink:title=\"psysml:ef775355-9069-4551-a021-5839d9673f3d\" xlink:type=\"simple\"><rect fill=\"#FFFFFF\" height=\"239\" id=\"E10\" rx=\"10\" ry=\"10\" style=\"stroke: #383838; stroke-width: 1.5;\" width=\"138\" x=\"362\" y=\"315\"/><rect fill=\"#F8F8F8\" height=\"37.9375\" rx=\"10\" ry=\"10\" style=\"stroke: #F8F8F8; stroke-width: 1.5;\" width=\"138\" x=\"362\" y=\"315\"/><rect fill=\"#F8F8F8\" height=\"10\" style=\"stroke: #F8F8F8; stroke-width: 1.5;\" width=\"138\" x=\"362\" y=\"342.9375\"/><rect fill=\"none\" height=\"239\" id=\"E10\" rx=\"10\" ry=\"10\" style=\"stroke: #383838; stroke-width: 1.5;\" width=\"138\" x=\"362\" y=\"315\"/><text fill=\"#000000\" font-family=\"sans-serif\" font-size=\"12\" font-style=\"italic\" lengthAdjust=\"spacingAndGlyphs\" textLength=\"64\" x=\"399\" y=\"331.1387\">«analysis»</text><text fill=\"#000000\" font-family=\"sans-serif\" font-size=\"12\" lengthAdjust=\"spacingAndGlyphs\" textLength=\"81\" x=\"390.5\" y=\"345.1074\">analysisCase</text><line style=\"stroke: #383838; stroke-width: 1.0;\" x1=\"362\" x2=\"500\" y1=\"352.9375\" y2=\"352.9375\"/></a><!--MD5=[b4997ac47864f28c2f74865a473b2911]\n",
       "class E2--><a href=\"psysml:df856138-3406-4a6b-b583-20ed5eacc0cd\" target=\"_top\" title=\"psysml:df856138-3406-4a6b-b583-20ed5eacc0cd\" xlink:actuate=\"onRequest\" xlink:href=\"psysml:df856138-3406-4a6b-b583-20ed5eacc0cd\" xlink:show=\"new\" xlink:title=\"psysml:df856138-3406-4a6b-b583-20ed5eacc0cd\" xlink:type=\"simple\"><rect fill=\"#FFFFFF\" height=\"45.9375\" id=\"E2\" style=\"stroke: #383838; stroke-width: 1.5;\" width=\"66\" x=\"568\" y=\"169\"/><text fill=\"#000000\" font-family=\"sans-serif\" font-size=\"12\" font-style=\"italic\" lengthAdjust=\"spacingAndGlyphs\" textLength=\"64\" x=\"569\" y=\"185.1387\">«part def»</text><text fill=\"#000000\" font-family=\"sans-serif\" font-size=\"12\" lengthAdjust=\"spacingAndGlyphs\" textLength=\"8\" x=\"597\" y=\"199.1074\">V</text><line style=\"stroke: #383838; stroke-width: 1.5;\" x1=\"569\" x2=\"633\" y1=\"206.9375\" y2=\"206.9375\"/></a><!--MD5=[09b614a08d8cba4a07c9adeb5e0fee81]\n",
       "class E3--><a href=\"psysml:a14948af-c637-432a-b299-badb5d3ced27\" target=\"_top\" title=\"psysml:a14948af-c637-432a-b299-badb5d3ced27\" xlink:actuate=\"onRequest\" xlink:href=\"psysml:a14948af-c637-432a-b299-badb5d3ced27\" xlink:show=\"new\" xlink:title=\"psysml:a14948af-c637-432a-b299-badb5d3ced27\" xlink:type=\"simple\"><rect fill=\"#FFFFFF\" height=\"45.9375\" id=\"E3\" rx=\"10\" ry=\"10\" style=\"stroke: #383838; stroke-width: 1.5;\" width=\"42\" x=\"580\" y=\"51.5\"/><text fill=\"#000000\" font-family=\"sans-serif\" font-size=\"12\" font-style=\"italic\" lengthAdjust=\"spacingAndGlyphs\" textLength=\"40\" x=\"581\" y=\"67.6387\">«part»</text><text fill=\"#000000\" font-family=\"sans-serif\" font-size=\"12\" lengthAdjust=\"spacingAndGlyphs\" textLength=\"28\" x=\"587\" y=\"81.6074\">vv: V</text><line style=\"stroke: #383838; stroke-width: 1.5;\" x1=\"581\" x2=\"621\" y1=\"89.4375\" y2=\"89.4375\"/></a><!--MD5=[ebbe1d658d1005bcc118a6aa81145e00]\n",
       "class E4--><a href=\"psysml:b06c710d-6070-489f-855d-95835f572a57\" target=\"_top\" title=\"psysml:b06c710d-6070-489f-855d-95835f572a57\" xlink:actuate=\"onRequest\" xlink:href=\"psysml:b06c710d-6070-489f-855d-95835f572a57\" xlink:show=\"new\" xlink:title=\"psysml:b06c710d-6070-489f-855d-95835f572a57\" xlink:type=\"simple\"><rect fill=\"#FFFFFF\" height=\"66.7422\" id=\"E4\" style=\"stroke: #383838; stroke-width: 1.5;\" width=\"117\" x=\"315.5\" y=\"41\"/><text fill=\"#000000\" font-family=\"sans-serif\" font-size=\"12\" font-style=\"italic\" lengthAdjust=\"spacingAndGlyphs\" textLength=\"115\" x=\"316.5\" y=\"57.1387\">«requirement def»</text><text fill=\"#000000\" font-family=\"sans-serif\" font-size=\"12\" lengthAdjust=\"spacingAndGlyphs\" textLength=\"107\" x=\"320.5\" y=\"71.1074\">AnalysisObjective</text><line style=\"stroke: #383838; stroke-width: 1.5;\" x1=\"316.5\" x2=\"431.5\" y1=\"78.9375\" y2=\"78.9375\"/><text fill=\"#000000\" font-family=\"sans-serif\" font-size=\"11\" lengthAdjust=\"spacingAndGlyphs\" textLength=\"12\" x=\"321.5\" y=\"93.1479\">...</text><line style=\"stroke: #383838; stroke-width: 1.0;\" x1=\"316.5\" x2=\"431.5\" y1=\"99.7422\" y2=\"99.7422\"/></a><!--MD5=[bee11217b2f71d958a27249dc326068c]\n",
       "class E14--><a href=\"psysml:e127547d-9ca6-4380-b459-796effe0b56f\" target=\"_top\" title=\"psysml:e127547d-9ca6-4380-b459-796effe0b56f\" xlink:actuate=\"onRequest\" xlink:href=\"psysml:e127547d-9ca6-4380-b459-796effe0b56f\" xlink:show=\"new\" xlink:title=\"psysml:e127547d-9ca6-4380-b459-796effe0b56f\" xlink:type=\"simple\"><rect fill=\"#FFFFFF\" height=\"45.9375\" id=\"E14\" rx=\"10\" ry=\"10\" style=\"stroke: #383838; stroke-width: 1.5;\" width=\"104\" x=\"64\" y=\"51.5\"/><text fill=\"#000000\" font-family=\"sans-serif\" font-size=\"12\" font-style=\"italic\" lengthAdjust=\"spacingAndGlyphs\" textLength=\"40\" x=\"96\" y=\"67.6387\">«part»</text><text fill=\"#000000\" font-family=\"sans-serif\" font-size=\"12\" lengthAdjust=\"spacingAndGlyphs\" textLength=\"98\" x=\"67\" y=\"81.6074\">analysisContext</text><line style=\"stroke: #383838; stroke-width: 1.5;\" x1=\"65\" x2=\"167\" y1=\"89.4375\" y2=\"89.4375\"/></a><!--MD5=[0c48fb7552dae8cbbef69381101a84c8]\n",
       "class E15--><a href=\"psysml:26b0c0e9-c7c6-4e19-b68b-97e4f04c11f8\" target=\"_top\" title=\"psysml:26b0c0e9-c7c6-4e19-b68b-97e4f04c11f8\" xlink:actuate=\"onRequest\" xlink:href=\"psysml:26b0c0e9-c7c6-4e19-b68b-97e4f04c11f8\" xlink:show=\"new\" xlink:title=\"psysml:26b0c0e9-c7c6-4e19-b68b-97e4f04c11f8\" xlink:type=\"simple\"><rect fill=\"#FFFFFF\" height=\"45.9375\" id=\"E15\" rx=\"10\" ry=\"10\" style=\"stroke: #383838; stroke-width: 1.5;\" width=\"168\" x=\"32\" y=\"169\"/><text fill=\"#000000\" font-family=\"sans-serif\" font-size=\"12\" font-style=\"italic\" lengthAdjust=\"spacingAndGlyphs\" textLength=\"64\" x=\"84\" y=\"185.1387\">«analysis»</text><text fill=\"#000000\" font-family=\"sans-serif\" font-size=\"12\" lengthAdjust=\"spacingAndGlyphs\" textLength=\"162\" x=\"35\" y=\"199.1074\">analysisPlan: AnalysisPlan</text><line style=\"stroke: #383838; stroke-width: 1.5;\" x1=\"33\" x2=\"199\" y1=\"206.9375\" y2=\"206.9375\"/></a><!--MD5=[35f0587eaee8d5bb9a02e25b63afc23b]\n",
       "class E16--><a href=\"psysml:a55f605c-cc05-4fcd-b9b1-1e930756e010\" target=\"_top\" title=\"psysml:a55f605c-cc05-4fcd-b9b1-1e930756e010\" xlink:actuate=\"onRequest\" xlink:href=\"psysml:a55f605c-cc05-4fcd-b9b1-1e930756e010\" xlink:show=\"new\" xlink:title=\"psysml:a55f605c-cc05-4fcd-b9b1-1e930756e010\" xlink:type=\"simple\"><rect fill=\"#FFFFFF\" height=\"45.9375\" id=\"E16\" rx=\"10\" ry=\"10\" style=\"stroke: #383838; stroke-width: 1.5;\" width=\"93\" x=\"69.5\" y=\"292\"/><text fill=\"#000000\" font-family=\"sans-serif\" font-size=\"12\" font-style=\"italic\" lengthAdjust=\"spacingAndGlyphs\" textLength=\"91\" x=\"70.5\" y=\"308.1387\">«requirement»</text><text fill=\"#000000\" font-family=\"sans-serif\" font-size=\"12\" lengthAdjust=\"spacingAndGlyphs\" textLength=\"19\" x=\"106.5\" y=\"322.1074\">obj</text><line style=\"stroke: #383838; stroke-width: 1.5;\" x1=\"70.5\" x2=\"161.5\" y1=\"329.9375\" y2=\"329.9375\"/></a><text fill=\"#000000\" font-family=\"sans-serif\" font-size=\"14\" lengthAdjust=\"spacingAndGlyphs\" textLength=\"7\" x=\"722.5\" y=\"53.1982\">v</text><rect fill=\"#383838\" height=\"12\" style=\"stroke: #F8F8F8; stroke-width: 1.5;\" width=\"12\" x=\"720\" y=\"68.5\"/><text fill=\"#000000\" font-family=\"sans-serif\" font-size=\"14\" lengthAdjust=\"spacingAndGlyphs\" textLength=\"39\" x=\"706.5\" y=\"392.9951\">result</text><rect fill=\"#383838\" height=\"12\" style=\"stroke: #F8F8F8; stroke-width: 1.5;\" width=\"12\" x=\"720\" y=\"368\"/><text fill=\"#000000\" font-family=\"sans-serif\" font-size=\"14\" lengthAdjust=\"spacingAndGlyphs\" textLength=\"7\" x=\"293.5\" y=\"170.6982\">v</text><rect fill=\"#383838\" height=\"12\" style=\"stroke: #F8F8F8; stroke-width: 1.5;\" width=\"12\" x=\"291\" y=\"186\"/><text fill=\"#000000\" font-family=\"sans-serif\" font-size=\"14\" lengthAdjust=\"spacingAndGlyphs\" textLength=\"39\" x=\"518.5\" y=\"499.9951\">result</text><rect fill=\"#383838\" height=\"12\" style=\"stroke: #F8F8F8; stroke-width: 1.5;\" width=\"12\" x=\"532\" y=\"475\"/><text fill=\"#000000\" font-family=\"sans-serif\" font-size=\"14\" lengthAdjust=\"spacingAndGlyphs\" textLength=\"37\" x=\"412.5\" y=\"572.9951\">mass</text><rect fill=\"#383838\" height=\"12\" style=\"stroke: #F8F8F8; stroke-width: 1.5;\" width=\"12\" x=\"425\" y=\"548\"/><text fill=\"#000000\" font-family=\"sans-serif\" font-size=\"14\" lengthAdjust=\"spacingAndGlyphs\" textLength=\"7\" x=\"427.5\" y=\"293.6982\">v</text><rect fill=\"#383838\" height=\"12\" style=\"stroke: #F8F8F8; stroke-width: 1.5;\" width=\"12\" x=\"425\" y=\"309\"/><!--MD5=[05d275557350bfb9b23a4ef7222b4c39]\n",
       "link E3 to E2--><a href=\"psysml:4553bbf6-343c-42bd-a219-72e0d50d2170\" target=\"_top\" title=\"psysml:4553bbf6-343c-42bd-a219-72e0d50d2170\" xlink:actuate=\"onRequest\" xlink:href=\"psysml:4553bbf6-343c-42bd-a219-72e0d50d2170\" xlink:show=\"new\" xlink:title=\"psysml:4553bbf6-343c-42bd-a219-72e0d50d2170\" xlink:type=\"simple\"><path d=\"M601,97.77 C601,112.15 601,131.32 601,148.54 \" fill=\"none\" id=\"E3-&gt;E2\" style=\"stroke: #383838; stroke-width: 1.0;\"/><polygon fill=\"#FFFFFF\" points=\"601,168.8,594,149.8,608,149.8,601,168.8\" style=\"stroke: #383838; stroke-width: 1.0;\"/><ellipse cx=\"596\" cy=\"144.1\" fill=\"#383838\" rx=\"2\" ry=\"2\" style=\"stroke: #383838; stroke-width: 1.0;\"/><ellipse cx=\"606\" cy=\"144.1\" fill=\"#383838\" rx=\"2\" ry=\"2\" style=\"stroke: #383838; stroke-width: 1.0;\"/></a><!--MD5=[17bf29720e4688890742b92d9a67fdf0]\n",
       "reverse link E14 to E15--><a href=\"psysml:cf81c84a-d20a-4a9d-8212-c3de89ec9ad0\" target=\"_top\" title=\"psysml:cf81c84a-d20a-4a9d-8212-c3de89ec9ad0\" xlink:actuate=\"onRequest\" xlink:href=\"psysml:cf81c84a-d20a-4a9d-8212-c3de89ec9ad0\" xlink:show=\"new\" xlink:title=\"psysml:cf81c84a-d20a-4a9d-8212-c3de89ec9ad0\" xlink:type=\"simple\"><path d=\"M116,110.99 C116,129.85 116,152.44 116,168.8 \" fill=\"none\" id=\"E14&lt;-E15\" style=\"stroke: #383838; stroke-width: 1.0;\"/><polygon fill=\"#383838\" points=\"116,97.77,112,103.77,116,109.77,120,103.77,116,97.77\" style=\"stroke: #383838; stroke-width: 1.0;\"/></a><!--MD5=[1b01d5b954197aaf3899ca0bde35faf5]\n",
       "link E15 to E8--><a href=\"psysml:31ecf0da-b030-4520-be0f-3ece1376fb5f\" target=\"_top\" title=\"psysml:31ecf0da-b030-4520-be0f-3ece1376fb5f\" xlink:actuate=\"onRequest\" xlink:href=\"psysml:31ecf0da-b030-4520-be0f-3ece1376fb5f\" xlink:show=\"new\" xlink:title=\"psysml:31ecf0da-b030-4520-be0f-3ece1376fb5f\" xlink:type=\"simple\"><path d=\"M152.22,215.11 C166.86,224.19 183.85,234.93 199,245 C225.17,262.39 254.56,283.27 274.27,297.48 \" fill=\"none\" id=\"E15-&gt;E8\" style=\"stroke: #383838; stroke-width: 1.0;\"/><polygon fill=\"#FFFFFF\" points=\"274.27,297.48,254.7641,292.0467,262.9515,280.6904,274.27,297.48\" style=\"stroke: #383838; stroke-width: 1.0;\"/><ellipse cx=\"251.3101\" cy=\"287.0909\" fill=\"#383838\" rx=\"2\" ry=\"2\" style=\"stroke: #383838; stroke-width: 1.0;\"/><ellipse cx=\"257.1582\" cy=\"278.9793\" fill=\"#383838\" rx=\"2\" ry=\"2\" style=\"stroke: #383838; stroke-width: 1.0;\"/></a><!--MD5=[f8b155c46b092be73bb522b0a8fc72a2]\n",
       "link E15 to E16--><a href=\"psysml:aa3a7955-6ed3-447d-b0ee-a09ada8803a4\" target=\"_top\" title=\"psysml:aa3a7955-6ed3-447d-b0ee-a09ada8803a4\" xlink:actuate=\"onRequest\" xlink:href=\"psysml:aa3a7955-6ed3-447d-b0ee-a09ada8803a4\" xlink:show=\"new\" xlink:title=\"psysml:aa3a7955-6ed3-447d-b0ee-a09ada8803a4\" xlink:type=\"simple\"><path d=\"M116,215.19 C116,234.47 116,262.55 116,283.86 \" fill=\"none\" id=\"E15-&gt;E16\" style=\"stroke: #383838; stroke-width: 1.0;\"/><polygon fill=\"#383838\" points=\"116,291.95,119,283.95,113,283.95,116,291.95\" style=\"stroke: #383838; stroke-width: 1.0;\"/><text fill=\"#000000\" font-family=\"sans-serif\" font-size=\"13\" lengthAdjust=\"spacingAndGlyphs\" textLength=\"73\" x=\"117\" y=\"258.0669\">«objective»</text><text fill=\"#000000\" font-family=\"sans-serif\" font-size=\"13\" lengthAdjust=\"spacingAndGlyphs\" textLength=\"8\" x=\"106.925\" y=\"280.8328\">1</text></a><!--MD5=[7eed4547b331dba38a73a2896f6d57f3]\n",
       "@startuml\r\n",
       "top to bottom direction\r\n",
       "skinparam monochrome true\r\n",
       "skinparam classbackgroundcolor white\r\n",
       "skinparam shadowing false\r\n",
       "skinparam wrapWidth 300\r\n",
       "hide circle\r\n",
       "\r\n",
       "package \"AnalysisTest\" as E1  [[psysml:f5546318-5597-445e-83af-957575abd1f7 ]]  {\r\n",
       "comp def \"V\" as E2  <<(T,blue) part def>> [[psysml:df856138-3406-4a6b-b583-20ed5eacc0cd ]] {\r\n",
       "}\r\n",
       "comp usage \"vv: V\" as E3  <<(T,blue) part>> [[psysml:a14948af-c637-432a-b299-badb5d3ced27 ]] {\r\n",
       "}\r\n",
       "comp def \"AnalysisObjective\" as E4  <<(T,blue) requirement def>> [[psysml:b06c710d-6070-489f-855d-95835f572a57 ]] {\r\n",
       "...\r\n",
       "- -\r\n",
       "}\r\n",
       "rec def \"AnalysisCase\" as E5 << analysis def>> [[psysml:e9833d01-8fa8-4820-af73-47d7be444de9 ]] {\r\n",
       "portin \"v\" as E6  [[psysml:fc36d359-2f0c-4a32-9d15-fff2be0a8869 ]] \r\n",
       "portout \"result\" as E7  [[psysml:7ffbe20f-c891-4b52-987b-0be8eb99b87a ]] \r\n",
       "}\r\n",
       "\r\n",
       "rec def \"AnalysisPlan\" as E8 << analysis def>> [[psysml:8a4520e8-ac51-4a2a-8007-cfc5f8084f42 ]] {\r\n",
       "portin \"v\" as E9  [[psysml:7635dc34-c4d2-4388-b045-3a6cac182eef ]] \r\n",
       "rec usage \"analysisCase\" as E10 << analysis>> [[psysml:ef775355-9069-4551-a021-5839d9673f3d ]] {\r\n",
       "portout \"mass\" as E11  [[psysml:56f340db-5793-4dc6-898e-9e0a5f90ef66 ]] \r\n",
       "portin \"v\" as E12  [[psysml:d8dc3b58-26c5-4e6e-82f3-a4f0880c0fd9 ]] \r\n",
       "}\r\n",
       "\r\n",
       "portout \"result\" as E13  [[psysml:55ba6aa8-4536-4622-ad3c-e7c6595a0034 ]] \r\n",
       "}\r\n",
       "\r\n",
       "comp usage \"analysisContext\" as E14  <<(T,blue) part>> [[psysml:e127547d-9ca6-4380-b459-796effe0b56f ]] {\r\n",
       "}\r\n",
       "comp usage \"analysisPlan: AnalysisPlan\" as E15 << analysis>> [[psysml:26b0c0e9-c7c6-4e19-b68b-97e4f04c11f8 ]] {\r\n",
       "}\r\n",
       "comp usage \"obj\" as E16  <<(T,blue) requirement>> [[psysml:a55f605c-cc05-4fcd-b9b1-1e930756e010 ]] {\r\n",
       "}\r\n",
       "}\r\n",
       "E3 - -:|> E2 [[psysml:4553bbf6-343c-42bd-a219-72e0d50d2170 ]] \r\n",
       "E14 *- - E15 [[psysml:cf81c84a-d20a-4a9d-8212-c3de89ec9ad0 ]] \r\n",
       "E15 - -:|> E8 [[psysml:31ecf0da-b030-4520-be0f-3ece1376fb5f ]] \r\n",
       "E15 - ->> \"1\"E16 [[psysml:aa3a7955-6ed3-447d-b0ee-a09ada8803a4 ]] : <<objective>>\r\n",
       "@enduml\r\n",
       "\n",
       "PlantUML version 1.2020.13(Sat Jun 13 12:26:38 UTC 2020)\n",
       "(EPL source distribution)\n",
       "Java Runtime: OpenJDK Runtime Environment\n",
       "JVM: OpenJDK 64-Bit Server VM\n",
       "Default Encoding: UTF-8\n",
       "Language: en\n",
       "Country: null\n",
       "--></g></svg>"
      ]
     },
     "execution_count": 44,
     "metadata": {},
     "output_type": "execute_result"
    }
   ],
   "source": [
    "%viz --style=\"TB\" --view=\"Default\" \"AnalysisTest\""
   ]
  },
  {
   "cell_type": "code",
   "execution_count": 45,
   "id": "5f0b177b",
   "metadata": {
    "execution": {
     "iopub.execute_input": "2021-09-27T07:15:32.111663Z",
     "iopub.status.busy": "2021-09-27T07:15:32.111265Z",
     "iopub.status.idle": "2021-09-27T07:15:32.173125Z",
     "shell.execute_reply": "2021-09-27T07:15:32.171652Z"
    }
   },
   "outputs": [
    {
     "data": {
      "image/svg+xml": [
       "<?xml version=\"1.0\" encoding=\"UTF-8\" standalone=\"no\"?><svg xmlns=\"http://www.w3.org/2000/svg\" xmlns:xlink=\"http://www.w3.org/1999/xlink\" contentScriptType=\"application/ecmascript\" contentStyleType=\"text/css\" height=\"863px\" preserveAspectRatio=\"none\" style=\"width:412px;height:863px;\" version=\"1.1\" viewBox=\"0 0 412 863\" width=\"412px\" zoomAndPan=\"magnify\"><defs/><g><!--MD5=[fbc87193dbaf4d95561dea2c320d4a47]\n",
       "cluster E1--><a href=\"psysml:f5546318-5597-445e-83af-957575abd1f7\" target=\"_top\" title=\"psysml:f5546318-5597-445e-83af-957575abd1f7\" xlink:actuate=\"onRequest\" xlink:href=\"psysml:f5546318-5597-445e-83af-957575abd1f7\" xlink:show=\"new\" xlink:title=\"psysml:f5546318-5597-445e-83af-957575abd1f7\" xlink:type=\"simple\"><polygon fill=\"#FFFFFF\" points=\"16,6,108,6,115,28.2969,390,28.2969,390,851,16,851,16,6\" style=\"stroke: #000000; stroke-width: 1.5;\"/><line style=\"stroke: #000000; stroke-width: 1.5;\" x1=\"16\" x2=\"115\" y1=\"28.2969\" y2=\"28.2969\"/><text fill=\"#000000\" font-family=\"sans-serif\" font-size=\"14\" font-weight=\"bold\" lengthAdjust=\"spacingAndGlyphs\" textLength=\"86\" x=\"20\" y=\"20.9951\">AnalysisTest</text></a><!--MD5=[b4997ac47864f28c2f74865a473b2911]\n",
       "class E2--><a href=\"psysml:df856138-3406-4a6b-b583-20ed5eacc0cd\" target=\"_top\" title=\"psysml:df856138-3406-4a6b-b583-20ed5eacc0cd\" xlink:actuate=\"onRequest\" xlink:href=\"psysml:df856138-3406-4a6b-b583-20ed5eacc0cd\" xlink:show=\"new\" xlink:title=\"psysml:df856138-3406-4a6b-b583-20ed5eacc0cd\" xlink:type=\"simple\"><rect fill=\"#FFFFFF\" height=\"45.9375\" id=\"E2\" style=\"stroke: #383838; stroke-width: 1.5;\" width=\"66\" x=\"121\" y=\"661\"/><text fill=\"#000000\" font-family=\"sans-serif\" font-size=\"12\" font-style=\"italic\" lengthAdjust=\"spacingAndGlyphs\" textLength=\"64\" x=\"122\" y=\"677.1387\">«part def»</text><text fill=\"#000000\" font-family=\"sans-serif\" font-size=\"12\" lengthAdjust=\"spacingAndGlyphs\" textLength=\"8\" x=\"150\" y=\"691.1074\">V</text><line style=\"stroke: #383838; stroke-width: 1.5;\" x1=\"122\" x2=\"186\" y1=\"698.9375\" y2=\"698.9375\"/></a><!--MD5=[09b614a08d8cba4a07c9adeb5e0fee81]\n",
       "class E3--><a href=\"psysml:a14948af-c637-432a-b299-badb5d3ced27\" target=\"_top\" title=\"psysml:a14948af-c637-432a-b299-badb5d3ced27\" xlink:actuate=\"onRequest\" xlink:href=\"psysml:a14948af-c637-432a-b299-badb5d3ced27\" xlink:show=\"new\" xlink:title=\"psysml:a14948af-c637-432a-b299-badb5d3ced27\" xlink:type=\"simple\"><rect fill=\"#FFFFFF\" height=\"45.9375\" id=\"E3\" rx=\"10\" ry=\"10\" style=\"stroke: #383838; stroke-width: 1.5;\" width=\"42\" x=\"207\" y=\"538\"/><text fill=\"#000000\" font-family=\"sans-serif\" font-size=\"12\" font-style=\"italic\" lengthAdjust=\"spacingAndGlyphs\" textLength=\"40\" x=\"208\" y=\"554.1387\">«part»</text><text fill=\"#000000\" font-family=\"sans-serif\" font-size=\"12\" lengthAdjust=\"spacingAndGlyphs\" textLength=\"28\" x=\"214\" y=\"568.1074\">vv: V</text><line style=\"stroke: #383838; stroke-width: 1.5;\" x1=\"208\" x2=\"248\" y1=\"575.9375\" y2=\"575.9375\"/></a><!--MD5=[ebbe1d658d1005bcc118a6aa81145e00]\n",
       "class E4--><a href=\"psysml:b06c710d-6070-489f-855d-95835f572a57\" target=\"_top\" title=\"psysml:b06c710d-6070-489f-855d-95835f572a57\" xlink:actuate=\"onRequest\" xlink:href=\"psysml:b06c710d-6070-489f-855d-95835f572a57\" xlink:show=\"new\" xlink:title=\"psysml:b06c710d-6070-489f-855d-95835f572a57\" xlink:type=\"simple\"><rect fill=\"#FFFFFF\" height=\"66.7422\" id=\"E4\" style=\"stroke: #383838; stroke-width: 1.5;\" width=\"117\" x=\"240.5\" y=\"768\"/><text fill=\"#000000\" font-family=\"sans-serif\" font-size=\"12\" font-style=\"italic\" lengthAdjust=\"spacingAndGlyphs\" textLength=\"115\" x=\"241.5\" y=\"784.1387\">«requirement def»</text><text fill=\"#000000\" font-family=\"sans-serif\" font-size=\"12\" lengthAdjust=\"spacingAndGlyphs\" textLength=\"107\" x=\"245.5\" y=\"798.1074\">AnalysisObjective</text><line style=\"stroke: #383838; stroke-width: 1.5;\" x1=\"241.5\" x2=\"356.5\" y1=\"805.9375\" y2=\"805.9375\"/><text fill=\"#000000\" font-family=\"sans-serif\" font-size=\"11\" lengthAdjust=\"spacingAndGlyphs\" textLength=\"12\" x=\"246.5\" y=\"820.1479\">...</text><line style=\"stroke: #383838; stroke-width: 1.0;\" x1=\"241.5\" x2=\"356.5\" y1=\"826.7422\" y2=\"826.7422\"/></a><!--MD5=[270fce915f116d4de14055a7c1d9a0f3]\n",
       "class E5--><a href=\"psysml:e9833d01-8fa8-4820-af73-47d7be444de9\" target=\"_top\" title=\"psysml:e9833d01-8fa8-4820-af73-47d7be444de9\" xlink:actuate=\"onRequest\" xlink:href=\"psysml:e9833d01-8fa8-4820-af73-47d7be444de9\" xlink:show=\"new\" xlink:title=\"psysml:e9833d01-8fa8-4820-af73-47d7be444de9\" xlink:type=\"simple\"><rect fill=\"#FFFFFF\" height=\"45.9375\" id=\"E5\" style=\"stroke: #383838; stroke-width: 1.5;\" width=\"90\" x=\"284\" y=\"538\"/><text fill=\"#000000\" font-family=\"sans-serif\" font-size=\"12\" font-style=\"italic\" lengthAdjust=\"spacingAndGlyphs\" textLength=\"88\" x=\"285\" y=\"554.1387\">«analysis def»</text><text fill=\"#000000\" font-family=\"sans-serif\" font-size=\"12\" lengthAdjust=\"spacingAndGlyphs\" textLength=\"81\" x=\"288.5\" y=\"568.1074\">AnalysisCase</text><line style=\"stroke: #383838; stroke-width: 1.5;\" x1=\"285\" x2=\"373\" y1=\"575.9375\" y2=\"575.9375\"/></a><!--MD5=[60a26617385b1d2d0262a64233df1f8d]\n",
       "class E6--><a href=\"psysml:5d02fb37-4730-4ed2-b0a0-8fa990128639\" target=\"_top\" title=\"psysml:5d02fb37-4730-4ed2-b0a0-8fa990128639\" xlink:actuate=\"onRequest\" xlink:href=\"psysml:5d02fb37-4730-4ed2-b0a0-8fa990128639\" xlink:show=\"new\" xlink:title=\"psysml:5d02fb37-4730-4ed2-b0a0-8fa990128639\" xlink:type=\"simple\"><rect fill=\"#FFFFFF\" height=\"45.9375\" id=\"E6\" rx=\"10\" ry=\"10\" style=\"stroke: #383838; stroke-width: 1.5;\" width=\"140\" x=\"229\" y=\"661\"/><text fill=\"#000000\" font-family=\"sans-serif\" font-size=\"12\" font-style=\"italic\" lengthAdjust=\"spacingAndGlyphs\" textLength=\"91\" x=\"253.5\" y=\"677.1387\">«requirement»</text><text fill=\"#000000\" font-family=\"sans-serif\" font-size=\"12\" lengthAdjust=\"spacingAndGlyphs\" textLength=\"134\" x=\"232\" y=\"691.1074\">obj: AnalysisObjective</text><line style=\"stroke: #383838; stroke-width: 1.5;\" x1=\"230\" x2=\"368\" y1=\"698.9375\" y2=\"698.9375\"/></a><!--MD5=[2156ba9850f5573cc1fc38a6a4b2f02b]\n",
       "class E7--><a href=\"psysml:8a4520e8-ac51-4a2a-8007-cfc5f8084f42\" target=\"_top\" title=\"psysml:8a4520e8-ac51-4a2a-8007-cfc5f8084f42\" xlink:actuate=\"onRequest\" xlink:href=\"psysml:8a4520e8-ac51-4a2a-8007-cfc5f8084f42\" xlink:show=\"new\" xlink:title=\"psysml:8a4520e8-ac51-4a2a-8007-cfc5f8084f42\" xlink:type=\"simple\"><rect fill=\"#FFFFFF\" height=\"45.9375\" id=\"E7\" style=\"stroke: #383838; stroke-width: 1.5;\" width=\"90\" x=\"71\" y=\"271\"/><text fill=\"#000000\" font-family=\"sans-serif\" font-size=\"12\" font-style=\"italic\" lengthAdjust=\"spacingAndGlyphs\" textLength=\"88\" x=\"72\" y=\"287.1387\">«analysis def»</text><text fill=\"#000000\" font-family=\"sans-serif\" font-size=\"12\" lengthAdjust=\"spacingAndGlyphs\" textLength=\"77\" x=\"77.5\" y=\"301.1074\">AnalysisPlan</text><line style=\"stroke: #383838; stroke-width: 1.5;\" x1=\"72\" x2=\"160\" y1=\"308.9375\" y2=\"308.9375\"/></a><!--MD5=[b9389687b975829384b498ac4b7476b2]\n",
       "class E8--><a href=\"psysml:c9e778b5-528f-48e8-8904-91782dcf8fb6\" target=\"_top\" title=\"psysml:c9e778b5-528f-48e8-8904-91782dcf8fb6\" xlink:actuate=\"onRequest\" xlink:href=\"psysml:c9e778b5-528f-48e8-8904-91782dcf8fb6\" xlink:show=\"new\" xlink:title=\"psysml:c9e778b5-528f-48e8-8904-91782dcf8fb6\" xlink:type=\"simple\"><rect fill=\"#FFFFFF\" height=\"66.7422\" id=\"E8\" rx=\"10\" ry=\"10\" style=\"stroke: #383838; stroke-width: 1.5;\" width=\"93\" x=\"69.5\" y=\"394\"/><text fill=\"#000000\" font-family=\"sans-serif\" font-size=\"12\" font-style=\"italic\" lengthAdjust=\"spacingAndGlyphs\" textLength=\"91\" x=\"70.5\" y=\"410.1387\">«requirement»</text><text fill=\"#000000\" font-family=\"sans-serif\" font-size=\"12\" lengthAdjust=\"spacingAndGlyphs\" textLength=\"19\" x=\"106.5\" y=\"424.1074\">obj</text><line style=\"stroke: #383838; stroke-width: 1.5;\" x1=\"70.5\" x2=\"161.5\" y1=\"431.9375\" y2=\"431.9375\"/><text fill=\"#000000\" font-family=\"sans-serif\" font-size=\"11\" lengthAdjust=\"spacingAndGlyphs\" textLength=\"12\" x=\"75.5\" y=\"446.1479\">...</text><line style=\"stroke: #383838; stroke-width: 1.0;\" x1=\"70.5\" x2=\"161.5\" y1=\"452.7422\" y2=\"452.7422\"/></a><!--MD5=[fd4143e9d270a159db93a4ea2a975926]\n",
       "class E9--><a href=\"psysml:ef775355-9069-4551-a021-5839d9673f3d\" target=\"_top\" title=\"psysml:ef775355-9069-4551-a021-5839d9673f3d\" xlink:actuate=\"onRequest\" xlink:href=\"psysml:ef775355-9069-4551-a021-5839d9673f3d\" xlink:show=\"new\" xlink:title=\"psysml:ef775355-9069-4551-a021-5839d9673f3d\" xlink:type=\"simple\"><rect fill=\"#FFFFFF\" height=\"45.9375\" id=\"E9\" rx=\"10\" ry=\"10\" style=\"stroke: #383838; stroke-width: 1.5;\" width=\"176\" x=\"198\" y=\"404.5\"/><text fill=\"#000000\" font-family=\"sans-serif\" font-size=\"12\" font-style=\"italic\" lengthAdjust=\"spacingAndGlyphs\" textLength=\"64\" x=\"254\" y=\"420.6387\">«analysis»</text><text fill=\"#000000\" font-family=\"sans-serif\" font-size=\"12\" lengthAdjust=\"spacingAndGlyphs\" textLength=\"170\" x=\"201\" y=\"434.6074\">analysisCase: AnalysisCase</text><line style=\"stroke: #383838; stroke-width: 1.5;\" x1=\"199\" x2=\"373\" y1=\"442.4375\" y2=\"442.4375\"/></a><!--MD5=[96f4274e9e20536e775497830990834d]\n",
       "class E10--><a href=\"psysml:37fc8968-437f-41f6-96b6-577444b5c586\" target=\"_top\" title=\"psysml:37fc8968-437f-41f6-96b6-577444b5c586\" xlink:actuate=\"onRequest\" xlink:href=\"psysml:37fc8968-437f-41f6-96b6-577444b5c586\" xlink:show=\"new\" xlink:title=\"psysml:37fc8968-437f-41f6-96b6-577444b5c586\" xlink:type=\"simple\"><rect fill=\"#FFFFFF\" height=\"45.9375\" id=\"E10\" rx=\"10\" ry=\"10\" style=\"stroke: #383838; stroke-width: 1.5;\" width=\"93\" x=\"78.5\" y=\"538\"/><text fill=\"#000000\" font-family=\"sans-serif\" font-size=\"12\" font-style=\"italic\" lengthAdjust=\"spacingAndGlyphs\" textLength=\"91\" x=\"79.5\" y=\"554.1387\">«requirement»</text><text fill=\"#000000\" font-family=\"sans-serif\" font-size=\"12\" lengthAdjust=\"spacingAndGlyphs\" textLength=\"19\" x=\"115.5\" y=\"568.1074\">obj</text><line style=\"stroke: #383838; stroke-width: 1.5;\" x1=\"79.5\" x2=\"170.5\" y1=\"575.9375\" y2=\"575.9375\"/></a><!--MD5=[1dd1bfd58a279cf63c5f349dbc8fc6a1]\n",
       "class E11--><a href=\"psysml:e127547d-9ca6-4380-b459-796effe0b56f\" target=\"_top\" title=\"psysml:e127547d-9ca6-4380-b459-796effe0b56f\" xlink:actuate=\"onRequest\" xlink:href=\"psysml:e127547d-9ca6-4380-b459-796effe0b56f\" xlink:show=\"new\" xlink:title=\"psysml:e127547d-9ca6-4380-b459-796effe0b56f\" xlink:type=\"simple\"><rect fill=\"#FFFFFF\" height=\"45.9375\" id=\"E11\" rx=\"10\" ry=\"10\" style=\"stroke: #383838; stroke-width: 1.5;\" width=\"104\" x=\"84\" y=\"41\"/><text fill=\"#000000\" font-family=\"sans-serif\" font-size=\"12\" font-style=\"italic\" lengthAdjust=\"spacingAndGlyphs\" textLength=\"40\" x=\"116\" y=\"57.1387\">«part»</text><text fill=\"#000000\" font-family=\"sans-serif\" font-size=\"12\" lengthAdjust=\"spacingAndGlyphs\" textLength=\"98\" x=\"87\" y=\"71.1074\">analysisContext</text><line style=\"stroke: #383838; stroke-width: 1.5;\" x1=\"85\" x2=\"187\" y1=\"78.9375\" y2=\"78.9375\"/></a><!--MD5=[49a0ec8f00dab7302a31f22d0f0fe584]\n",
       "class E12--><a href=\"psysml:26b0c0e9-c7c6-4e19-b68b-97e4f04c11f8\" target=\"_top\" title=\"psysml:26b0c0e9-c7c6-4e19-b68b-97e4f04c11f8\" xlink:actuate=\"onRequest\" xlink:href=\"psysml:26b0c0e9-c7c6-4e19-b68b-97e4f04c11f8\" xlink:show=\"new\" xlink:title=\"psysml:26b0c0e9-c7c6-4e19-b68b-97e4f04c11f8\" xlink:type=\"simple\"><rect fill=\"#FFFFFF\" height=\"45.9375\" id=\"E12\" rx=\"10\" ry=\"10\" style=\"stroke: #383838; stroke-width: 1.5;\" width=\"168\" x=\"52\" y=\"148\"/><text fill=\"#000000\" font-family=\"sans-serif\" font-size=\"12\" font-style=\"italic\" lengthAdjust=\"spacingAndGlyphs\" textLength=\"64\" x=\"104\" y=\"164.1387\">«analysis»</text><text fill=\"#000000\" font-family=\"sans-serif\" font-size=\"12\" lengthAdjust=\"spacingAndGlyphs\" textLength=\"162\" x=\"55\" y=\"178.1074\">analysisPlan: AnalysisPlan</text><line style=\"stroke: #383838; stroke-width: 1.5;\" x1=\"53\" x2=\"219\" y1=\"185.9375\" y2=\"185.9375\"/></a><!--MD5=[ee3c913d1a06f366521f9ef512b67efe]\n",
       "class E13--><a href=\"psysml:a55f605c-cc05-4fcd-b9b1-1e930756e010\" target=\"_top\" title=\"psysml:a55f605c-cc05-4fcd-b9b1-1e930756e010\" xlink:actuate=\"onRequest\" xlink:href=\"psysml:a55f605c-cc05-4fcd-b9b1-1e930756e010\" xlink:show=\"new\" xlink:title=\"psysml:a55f605c-cc05-4fcd-b9b1-1e930756e010\" xlink:type=\"simple\"><rect fill=\"#FFFFFF\" height=\"45.9375\" id=\"E13\" rx=\"10\" ry=\"10\" style=\"stroke: #383838; stroke-width: 1.5;\" width=\"93\" x=\"196.5\" y=\"271\"/><text fill=\"#000000\" font-family=\"sans-serif\" font-size=\"12\" font-style=\"italic\" lengthAdjust=\"spacingAndGlyphs\" textLength=\"91\" x=\"197.5\" y=\"287.1387\">«requirement»</text><text fill=\"#000000\" font-family=\"sans-serif\" font-size=\"12\" lengthAdjust=\"spacingAndGlyphs\" textLength=\"19\" x=\"233.5\" y=\"301.1074\">obj</text><line style=\"stroke: #383838; stroke-width: 1.5;\" x1=\"197.5\" x2=\"288.5\" y1=\"308.9375\" y2=\"308.9375\"/></a><!--MD5=[05d275557350bfb9b23a4ef7222b4c39]\n",
       "link E3 to E2--><a href=\"psysml:4553bbf6-343c-42bd-a219-72e0d50d2170\" target=\"_top\" title=\"psysml:4553bbf6-343c-42bd-a219-72e0d50d2170\" xlink:actuate=\"onRequest\" xlink:href=\"psysml:4553bbf6-343c-42bd-a219-72e0d50d2170\" xlink:show=\"new\" xlink:title=\"psysml:4553bbf6-343c-42bd-a219-72e0d50d2170\" xlink:type=\"simple\"><path d=\"M206.85,575.13 C188.68,586.88 164.56,603.79 159,614 C154.64,622.01 152.42,631.34 151.47,640.5 \" fill=\"none\" id=\"E3-&gt;E2\" style=\"stroke: #383838; stroke-width: 1.0;\"/><polygon fill=\"#FFFFFF\" points=\"151.1,660.87,144.4403,641.748,158.4381,641.998,151.1,660.87\" style=\"stroke: #383838; stroke-width: 1.0;\"/><ellipse cx=\"146.5418\" cy=\"636.0847\" fill=\"#383838\" rx=\"2\" ry=\"2\" style=\"stroke: #383838; stroke-width: 1.0;\"/><ellipse cx=\"156.5402\" cy=\"636.2632\" fill=\"#383838\" rx=\"2\" ry=\"2\" style=\"stroke: #383838; stroke-width: 1.0;\"/></a><!--MD5=[15ebcb19ae302d9b601edb458606d402]\n",
       "link E5 to E2--><a href=\"psysml:55d14872-2cf4-45ef-b86e-776491343885\" target=\"_top\" title=\"psysml:55d14872-2cf4-45ef-b86e-776491343885\" xlink:actuate=\"onRequest\" xlink:href=\"psysml:55d14872-2cf4-45ef-b86e-776491343885\" xlink:show=\"new\" xlink:title=\"psysml:55d14872-2cf4-45ef-b86e-776491343885\" xlink:type=\"simple\"><path d=\"M288.35,584.07 C272.9,592.89 255.33,603.45 240,614 C220.52,627.4 199.81,643.93 183.6,657.46 \" fill=\"none\" id=\"E5-&gt;E2\" style=\"stroke: #383838; stroke-width: 1.0; stroke-dasharray: 7.0,7.0;\"/><polygon fill=\"#383838\" points=\"179.58,660.83,189.0498,658.1239,183.4153,657.6221,183.9171,651.9875,179.58,660.83\" style=\"stroke: #383838; stroke-width: 1.0;\"/><text fill=\"#000000\" font-family=\"sans-serif\" font-size=\"13\" lengthAdjust=\"spacingAndGlyphs\" textLength=\"62\" x=\"241\" y=\"627.0669\">«subject»</text></a><!--MD5=[9120cf2e5df3bff93db8f754bbbc09b4]\n",
       "link E5 to E6--><a href=\"psysml:66eb83d5-c5e2-4f23-b460-3cc53e216041\" target=\"_top\" title=\"psysml:66eb83d5-c5e2-4f23-b460-3cc53e216041\" xlink:actuate=\"onRequest\" xlink:href=\"psysml:66eb83d5-c5e2-4f23-b460-3cc53e216041\" xlink:show=\"new\" xlink:title=\"psysml:66eb83d5-c5e2-4f23-b460-3cc53e216041\" xlink:type=\"simple\"><path d=\"M323.5,584.19 C318.7,603.55 311.69,631.8 306.4,653.14 \" fill=\"none\" id=\"E5-&gt;E6\" style=\"stroke: #383838; stroke-width: 1.0;\"/><polygon fill=\"#383838\" points=\"304.47,660.95,309.3116,653.9102,303.4888,652.4625,304.47,660.95\" style=\"stroke: #383838; stroke-width: 1.0;\"/><text fill=\"#000000\" font-family=\"sans-serif\" font-size=\"13\" lengthAdjust=\"spacingAndGlyphs\" textLength=\"73\" x=\"316\" y=\"627.0669\">«objective»</text></a><!--MD5=[f667431f98296947986a1a7595a31603]\n",
       "link E6 to E4--><a href=\"psysml:35160ff3-34f1-44b9-93fc-42f4fb412225\" target=\"_top\" title=\"psysml:35160ff3-34f1-44b9-93fc-42f4fb412225\" xlink:actuate=\"onRequest\" xlink:href=\"psysml:35160ff3-34f1-44b9-93fc-42f4fb412225\" xlink:show=\"new\" xlink:title=\"psysml:35160ff3-34f1-44b9-93fc-42f4fb412225\" xlink:type=\"simple\"><path d=\"M299,707.27 C299,718.81 299,733.43 299,747.66 \" fill=\"none\" id=\"E6-&gt;E4\" style=\"stroke: #383838; stroke-width: 1.0;\"/><polygon fill=\"#FFFFFF\" points=\"299,767.81,292,748.81,306,748.81,299,767.81\" style=\"stroke: #383838; stroke-width: 1.0;\"/><ellipse cx=\"294\" cy=\"743.11\" fill=\"#383838\" rx=\"2\" ry=\"2\" style=\"stroke: #383838; stroke-width: 1.0;\"/><ellipse cx=\"304\" cy=\"743.11\" fill=\"#383838\" rx=\"2\" ry=\"2\" style=\"stroke: #383838; stroke-width: 1.0;\"/></a><!--MD5=[583832df87f4419a098336a29a52fa00]\n",
       "link E7 to E2--><a href=\"psysml:6c24e69d-02cf-4e90-8710-eea2d3fb6e80\" target=\"_top\" title=\"psysml:6c24e69d-02cf-4e90-8710-eea2d3fb6e80\" xlink:actuate=\"onRequest\" xlink:href=\"psysml:6c24e69d-02cf-4e90-8710-eea2d3fb6e80\" xlink:show=\"new\" xlink:title=\"psysml:6c24e69d-02cf-4e90-8710-eea2d3fb6e80\" xlink:type=\"simple\"><path d=\"M96.33,317.1 C80.9,336.01 60.63,364.75 52,394 C42.04,427.76 56.83,574.51 61,584 C73.94,613.48 99.52,639.67 120.58,657.69 \" fill=\"none\" id=\"E7-&gt;E2\" style=\"stroke: #383838; stroke-width: 1.0; stroke-dasharray: 7.0,7.0;\"/><polygon fill=\"#383838\" points=\"124.46,660.96,120.1584,652.1002,120.6377,657.7367,115.0011,658.2159,124.46,660.96\" style=\"stroke: #383838; stroke-width: 1.0;\"/><text fill=\"#000000\" font-family=\"sans-serif\" font-size=\"13\" lengthAdjust=\"spacingAndGlyphs\" textLength=\"62\" x=\"52\" y=\"504.0669\">«subject»</text></a><!--MD5=[79bc8f324ef4d02c541433f2e6e513c3]\n",
       "link E7 to E8--><a href=\"psysml:5f63fe39-bd01-4e2f-b177-a256ca3547ed\" target=\"_top\" title=\"psysml:5f63fe39-bd01-4e2f-b177-a256ca3547ed\" xlink:actuate=\"onRequest\" xlink:href=\"psysml:5f63fe39-bd01-4e2f-b177-a256ca3547ed\" xlink:show=\"new\" xlink:title=\"psysml:5f63fe39-bd01-4e2f-b177-a256ca3547ed\" xlink:type=\"simple\"><path d=\"M116,317.01 C116,335.7 116,363.02 116,385.69 \" fill=\"none\" id=\"E7-&gt;E8\" style=\"stroke: #383838; stroke-width: 1.0;\"/><polygon fill=\"#383838\" points=\"116,393.81,119,385.81,113,385.81,116,393.81\" style=\"stroke: #383838; stroke-width: 1.0;\"/><text fill=\"#000000\" font-family=\"sans-serif\" font-size=\"13\" lengthAdjust=\"spacingAndGlyphs\" textLength=\"73\" x=\"117\" y=\"360.0669\">«objective»</text><text fill=\"#000000\" font-family=\"sans-serif\" font-size=\"13\" lengthAdjust=\"spacingAndGlyphs\" textLength=\"8\" x=\"107.2125\" y=\"382.8061\">1</text></a><!--MD5=[e4a10ef82d0e328e31cac39a31e58dda]\n",
       "reverse link E7 to E9--><a href=\"psysml:0539f402-c799-478a-a763-36444c838111\" target=\"_top\" title=\"psysml:0539f402-c799-478a-a763-36444c838111\" xlink:actuate=\"onRequest\" xlink:href=\"psysml:0539f402-c799-478a-a763-36444c838111\" xlink:show=\"new\" xlink:title=\"psysml:0539f402-c799-478a-a763-36444c838111\" xlink:type=\"simple\"><path d=\"M165.94,324.25 C177.08,331.33 188.65,339.13 199,347 C222.45,364.83 247.05,387.76 264.08,404.4 \" fill=\"none\" id=\"E7&lt;-E9\" style=\"stroke: #383838; stroke-width: 1.0;\"/><polygon fill=\"#383838\" points=\"154.56,317.16,157.541,323.7261,164.7485,323.4998,161.7676,316.9337,154.56,317.16\" style=\"stroke: #383838; stroke-width: 1.0;\"/></a><!--MD5=[bfc3ddf2e613be37104f658f09af896c]\n",
       "link E9 to E5--><a href=\"psysml:5fa585d6-e8aa-4013-b88d-119f555331de\" target=\"_top\" title=\"psysml:5fa585d6-e8aa-4013-b88d-119f555331de\" xlink:actuate=\"onRequest\" xlink:href=\"psysml:5fa585d6-e8aa-4013-b88d-119f555331de\" xlink:show=\"new\" xlink:title=\"psysml:5fa585d6-e8aa-4013-b88d-119f555331de\" xlink:type=\"simple\"><path d=\"M293.2,450.51 C299.27,469.1 308.14,496.21 315.53,518.81 \" fill=\"none\" id=\"E9-&gt;E5\" style=\"stroke: #383838; stroke-width: 1.0;\"/><polygon fill=\"#FFFFFF\" points=\"321.78,537.92,309.2239,522.0346,322.5313,517.6855,321.78,537.92\" style=\"stroke: #383838; stroke-width: 1.0;\"/><ellipse cx=\"309.3543\" cy=\"515.9953\" fill=\"#383838\" rx=\"2\" ry=\"2\" style=\"stroke: #383838; stroke-width: 1.0;\"/><ellipse cx=\"318.8595\" cy=\"512.8888\" fill=\"#383838\" rx=\"2\" ry=\"2\" style=\"stroke: #383838; stroke-width: 1.0;\"/></a><!--MD5=[35e5f1cbde42fa304a029880aa2bc7f2]\n",
       "link E9 to E10--><a href=\"psysml:7fa56b0a-037d-44be-9e3a-456886c00dd1\" target=\"_top\" title=\"psysml:7fa56b0a-037d-44be-9e3a-456886c00dd1\" xlink:actuate=\"onRequest\" xlink:href=\"psysml:7fa56b0a-037d-44be-9e3a-456886c00dd1\" xlink:show=\"new\" xlink:title=\"psysml:7fa56b0a-037d-44be-9e3a-456886c00dd1\" xlink:type=\"simple\"><path d=\"M259.05,450.51 C231.42,473.08 188.39,508.23 158.56,532.59 \" fill=\"none\" id=\"E9-&gt;E10\" style=\"stroke: #383838; stroke-width: 1.0;\"/><polygon fill=\"#383838\" points=\"152.04,537.92,160.1355,535.1882,156.3431,530.5387,152.04,537.92\" style=\"stroke: #383838; stroke-width: 1.0;\"/><text fill=\"#000000\" font-family=\"sans-serif\" font-size=\"13\" lengthAdjust=\"spacingAndGlyphs\" textLength=\"73\" x=\"206\" y=\"504.0669\">«objective»</text></a><!--MD5=[94adabc162ce7e41b39f13be14fbaeb3]\n",
       "reverse link E11 to E12--><a href=\"psysml:cf81c84a-d20a-4a9d-8212-c3de89ec9ad0\" target=\"_top\" title=\"psysml:cf81c84a-d20a-4a9d-8212-c3de89ec9ad0\" xlink:actuate=\"onRequest\" xlink:href=\"psysml:cf81c84a-d20a-4a9d-8212-c3de89ec9ad0\" xlink:show=\"new\" xlink:title=\"psysml:cf81c84a-d20a-4a9d-8212-c3de89ec9ad0\" xlink:type=\"simple\"><path d=\"M136,100.05 C136,115.76 136,133.82 136,147.66 \" fill=\"none\" id=\"E11&lt;-E12\" style=\"stroke: #383838; stroke-width: 1.0;\"/><polygon fill=\"#383838\" points=\"136,87.01,132,93.01,136,99.01,140,93.01,136,87.01\" style=\"stroke: #383838; stroke-width: 1.0;\"/></a><!--MD5=[ae660f5ecd7ddb04a8913625960940af]\n",
       "link E12 to E7--><a href=\"psysml:31ecf0da-b030-4520-be0f-3ece1376fb5f\" target=\"_top\" title=\"psysml:31ecf0da-b030-4520-be0f-3ece1376fb5f\" xlink:actuate=\"onRequest\" xlink:href=\"psysml:31ecf0da-b030-4520-be0f-3ece1376fb5f\" xlink:show=\"new\" xlink:title=\"psysml:31ecf0da-b030-4520-be0f-3ece1376fb5f\" xlink:type=\"simple\"><path d=\"M132.33,194.19 C129.71,210.06 126.1,231.89 122.94,250.99 \" fill=\"none\" id=\"E12-&gt;E7\" style=\"stroke: #383838; stroke-width: 1.0;\"/><polygon fill=\"#FFFFFF\" points=\"119.65,270.95,115.8525,251.0608,129.6639,253.3511,119.65,270.95\" style=\"stroke: #383838; stroke-width: 1.0;\"/><ellipse cx=\"118.758\" cy=\"245.7648\" fill=\"#383838\" rx=\"2\" ry=\"2\" style=\"stroke: #383838; stroke-width: 1.0;\"/><ellipse cx=\"128.6233\" cy=\"247.4007\" fill=\"#383838\" rx=\"2\" ry=\"2\" style=\"stroke: #383838; stroke-width: 1.0;\"/></a><!--MD5=[e2a9ac97dcd3257bb5342dae06547bad]\n",
       "link E12 to E13--><a href=\"psysml:aa3a7955-6ed3-447d-b0ee-a09ada8803a4\" target=\"_top\" title=\"psysml:aa3a7955-6ed3-447d-b0ee-a09ada8803a4\" xlink:actuate=\"onRequest\" xlink:href=\"psysml:aa3a7955-6ed3-447d-b0ee-a09ada8803a4\" xlink:show=\"new\" xlink:title=\"psysml:aa3a7955-6ed3-447d-b0ee-a09ada8803a4\" xlink:type=\"simple\"><path d=\"M155.63,194.19 C173.2,214.06 199.05,243.3 218.08,264.82 \" fill=\"none\" id=\"E12-&gt;E13\" style=\"stroke: #383838; stroke-width: 1.0;\"/><polygon fill=\"#383838\" points=\"223.5,270.95,220.4521,262.9681,215.9553,266.9403,223.5,270.95\" style=\"stroke: #383838; stroke-width: 1.0;\"/><text fill=\"#000000\" font-family=\"sans-serif\" font-size=\"13\" lengthAdjust=\"spacingAndGlyphs\" textLength=\"73\" x=\"196\" y=\"237.0669\">«objective»</text><text fill=\"#000000\" font-family=\"sans-serif\" font-size=\"13\" lengthAdjust=\"spacingAndGlyphs\" textLength=\"8\" x=\"209.1844\" y=\"259.8328\">1</text></a><!--MD5=[2eb4ff665befd05f44e337277a841cdf]\n",
       "@startuml\r\n",
       "top to bottom direction\r\n",
       "skinparam monochrome true\r\n",
       "skinparam classbackgroundcolor white\r\n",
       "skinparam shadowing false\r\n",
       "skinparam wrapWidth 300\r\n",
       "hide circle\r\n",
       "\r\n",
       "package \"AnalysisTest\" as E1  [[psysml:f5546318-5597-445e-83af-957575abd1f7 ]]  {\r\n",
       "comp def \"V\" as E2  <<(T,blue) part def>> [[psysml:df856138-3406-4a6b-b583-20ed5eacc0cd ]] {\r\n",
       "}\r\n",
       "comp usage \"vv: V\" as E3  <<(T,blue) part>> [[psysml:a14948af-c637-432a-b299-badb5d3ced27 ]] {\r\n",
       "}\r\n",
       "comp def \"AnalysisObjective\" as E4  <<(T,blue) requirement def>> [[psysml:b06c710d-6070-489f-855d-95835f572a57 ]] {\r\n",
       "...\r\n",
       "- -\r\n",
       "}\r\n",
       "comp def \"AnalysisCase\" as E5 << analysis def>> [[psysml:e9833d01-8fa8-4820-af73-47d7be444de9 ]] {\r\n",
       "}\r\n",
       "comp usage \"obj: AnalysisObjective\" as E6  <<(T,blue) requirement>> [[psysml:5d02fb37-4730-4ed2-b0a0-8fa990128639 ]] {\r\n",
       "}\r\n",
       "comp def \"AnalysisPlan\" as E7 << analysis def>> [[psysml:8a4520e8-ac51-4a2a-8007-cfc5f8084f42 ]] {\r\n",
       "}\r\n",
       "comp usage \"obj\" as E8  <<(T,blue) requirement>> [[psysml:c9e778b5-528f-48e8-8904-91782dcf8fb6 ]] {\r\n",
       "...\r\n",
       "- -\r\n",
       "}\r\n",
       "comp usage \"analysisCase: AnalysisCase\" as E9 << analysis>> [[psysml:ef775355-9069-4551-a021-5839d9673f3d ]] {\r\n",
       "}\r\n",
       "comp usage \"obj\" as E10  <<(T,blue) requirement>> [[psysml:37fc8968-437f-41f6-96b6-577444b5c586 ]] {\r\n",
       "}\r\n",
       "comp usage \"analysisContext\" as E11  <<(T,blue) part>> [[psysml:e127547d-9ca6-4380-b459-796effe0b56f ]] {\r\n",
       "}\r\n",
       "comp usage \"analysisPlan: AnalysisPlan\" as E12 << analysis>> [[psysml:26b0c0e9-c7c6-4e19-b68b-97e4f04c11f8 ]] {\r\n",
       "}\r\n",
       "comp usage \"obj\" as E13  <<(T,blue) requirement>> [[psysml:a55f605c-cc05-4fcd-b9b1-1e930756e010 ]] {\r\n",
       "}\r\n",
       "}\r\n",
       "E3 - -:|> E2 [[psysml:4553bbf6-343c-42bd-a219-72e0d50d2170 ]] \r\n",
       "E5 ..> E2 [[psysml:55d14872-2cf4-45ef-b86e-776491343885 ]] : <<subject>>\r\n",
       "E5 - ->> E6 [[psysml:66eb83d5-c5e2-4f23-b460-3cc53e216041 ]] : <<objective>>\r\n",
       "E6 - -:|> E4 [[psysml:35160ff3-34f1-44b9-93fc-42f4fb412225 ]] \r\n",
       "E7 ..> E2 [[psysml:6c24e69d-02cf-4e90-8710-eea2d3fb6e80 ]] : <<subject>>\r\n",
       "E7 - ->> \"1\"E8 [[psysml:5f63fe39-bd01-4e2f-b177-a256ca3547ed ]] : <<objective>>\r\n",
       "E7 *- - E9 [[psysml:0539f402-c799-478a-a763-36444c838111 ]] \r\n",
       "E9 - -:|> E5 [[psysml:5fa585d6-e8aa-4013-b88d-119f555331de ]] \r\n",
       "E9 - ->> E10 [[psysml:7fa56b0a-037d-44be-9e3a-456886c00dd1 ]] : <<objective>>\r\n",
       "E11 *- - E12 [[psysml:cf81c84a-d20a-4a9d-8212-c3de89ec9ad0 ]] \r\n",
       "E12 - -:|> E7 [[psysml:31ecf0da-b030-4520-be0f-3ece1376fb5f ]] \r\n",
       "E12 - ->> \"1\"E13 [[psysml:aa3a7955-6ed3-447d-b0ee-a09ada8803a4 ]] : <<objective>>\r\n",
       "@enduml\r\n",
       "\n",
       "PlantUML version 1.2020.13(Sat Jun 13 12:26:38 UTC 2020)\n",
       "(EPL source distribution)\n",
       "Java Runtime: OpenJDK Runtime Environment\n",
       "JVM: OpenJDK 64-Bit Server VM\n",
       "Default Encoding: UTF-8\n",
       "Language: en\n",
       "Country: null\n",
       "--></g></svg>"
      ]
     },
     "execution_count": 45,
     "metadata": {},
     "output_type": "execute_result"
    }
   ],
   "source": [
    "%viz --style=\"TB\" --view=\"Tree\" \"AnalysisTest\""
   ]
  },
  {
   "cell_type": "code",
   "execution_count": 46,
   "id": "175ed761",
   "metadata": {
    "execution": {
     "iopub.execute_input": "2021-09-27T07:15:32.222233Z",
     "iopub.status.busy": "2021-09-27T07:15:32.221826Z",
     "iopub.status.idle": "2021-09-27T07:15:32.227032Z",
     "shell.execute_reply": "2021-09-27T07:15:32.227346Z"
    }
   },
   "outputs": [
    {
     "data": {
      "image/svg+xml": [
       "<?xml version=\"1.0\" encoding=\"UTF-8\" standalone=\"no\"?><svg xmlns=\"http://www.w3.org/2000/svg\" xmlns:xlink=\"http://www.w3.org/1999/xlink\" contentScriptType=\"application/ecmascript\" contentStyleType=\"text/css\" height=\"12px\" preserveAspectRatio=\"none\" style=\"width:12px;height:12px;\" version=\"1.1\" viewBox=\"0 0 12 12\" width=\"12px\" zoomAndPan=\"magnify\"><defs/><g><!--MD5=[f4ee21bc66e489b5061b7c3e9601fdef]\n",
       "@startuml\r\n",
       "top to bottom direction\r\n",
       "skinparam monochrome true\r\n",
       "skinparam classbackgroundcolor white\r\n",
       "skinparam shadowing false\r\n",
       "skinparam wrapWidth 300\r\n",
       "hide circle\r\n",
       "\r\n",
       "@enduml\r\n",
       "\n",
       "PlantUML version 1.2020.13(Sat Jun 13 12:26:38 UTC 2020)\n",
       "(EPL source distribution)\n",
       "Java Runtime: OpenJDK Runtime Environment\n",
       "JVM: OpenJDK 64-Bit Server VM\n",
       "Default Encoding: UTF-8\n",
       "Language: en\n",
       "Country: null\n",
       "--></g></svg>"
      ]
     },
     "execution_count": 46,
     "metadata": {},
     "output_type": "execute_result"
    }
   ],
   "source": [
    "%viz --style=\"TB\" --view=\"State\" \"AnalysisTest\""
   ]
  },
  {
   "cell_type": "code",
   "execution_count": 47,
   "id": "099686f0",
   "metadata": {
    "execution": {
     "iopub.execute_input": "2021-09-27T07:15:32.277193Z",
     "iopub.status.busy": "2021-09-27T07:15:32.276797Z",
     "iopub.status.idle": "2021-09-27T07:15:32.310895Z",
     "shell.execute_reply": "2021-09-27T07:15:32.309575Z"
    }
   },
   "outputs": [
    {
     "data": {
      "image/svg+xml": [
       "<?xml version=\"1.0\" encoding=\"UTF-8\" standalone=\"no\"?><svg xmlns=\"http://www.w3.org/2000/svg\" xmlns:xlink=\"http://www.w3.org/1999/xlink\" contentScriptType=\"application/ecmascript\" contentStyleType=\"text/css\" height=\"446px\" preserveAspectRatio=\"none\" style=\"width:1120px;height:446px;\" version=\"1.1\" viewBox=\"0 0 1120 446\" width=\"1120px\" zoomAndPan=\"magnify\"><defs/><g><!--MD5=[fbc87193dbaf4d95561dea2c320d4a47]\n",
       "cluster E1--><a href=\"psysml:f5546318-5597-445e-83af-957575abd1f7\" target=\"_top\" title=\"psysml:f5546318-5597-445e-83af-957575abd1f7\" xlink:actuate=\"onRequest\" xlink:href=\"psysml:f5546318-5597-445e-83af-957575abd1f7\" xlink:show=\"new\" xlink:title=\"psysml:f5546318-5597-445e-83af-957575abd1f7\" xlink:type=\"simple\"><polygon fill=\"#FFFFFF\" points=\"16,6,108,6,115,28.2969,1098,28.2969,1098,434.86,16,434.86,16,6\" style=\"stroke: #000000; stroke-width: 1.5;\"/><line style=\"stroke: #000000; stroke-width: 1.5;\" x1=\"16\" x2=\"115\" y1=\"28.2969\" y2=\"28.2969\"/><text fill=\"#000000\" font-family=\"sans-serif\" font-size=\"14\" font-weight=\"bold\" lengthAdjust=\"spacingAndGlyphs\" textLength=\"86\" x=\"20\" y=\"20.9951\">AnalysisTest</text></a><!--MD5=[de5ec2e2e8f62f467e546659f5068c88]\n",
       "cluster E5--><a href=\"psysml:e9833d01-8fa8-4820-af73-47d7be444de9\" target=\"_top\" title=\"psysml:e9833d01-8fa8-4820-af73-47d7be444de9\" xlink:actuate=\"onRequest\" xlink:href=\"psysml:e9833d01-8fa8-4820-af73-47d7be444de9\" xlink:show=\"new\" xlink:title=\"psysml:e9833d01-8fa8-4820-af73-47d7be444de9\" xlink:type=\"simple\"><rect fill=\"#FFFFFF\" height=\"228.86\" id=\"E5\" style=\"stroke: #383838; stroke-width: 1.5;\" width=\"146\" x=\"936\" y=\"107\"/><rect fill=\"#F8F8F8\" height=\"37.9375\" style=\"stroke: #383838; stroke-width: 1.5;\" width=\"146\" x=\"936\" y=\"107\"/><text fill=\"#000000\" font-family=\"sans-serif\" font-size=\"12\" font-style=\"italic\" lengthAdjust=\"spacingAndGlyphs\" textLength=\"88\" x=\"965\" y=\"123.1387\">«analysis def»</text><text fill=\"#000000\" font-family=\"sans-serif\" font-size=\"12\" lengthAdjust=\"spacingAndGlyphs\" textLength=\"81\" x=\"968.5\" y=\"137.1074\">AnalysisCase</text></a><!--MD5=[55dfccfc6c49c2d10cd1bd2211a6c90c]\n",
       "cluster E8--><a href=\"psysml:8a4520e8-ac51-4a2a-8007-cfc5f8084f42\" target=\"_top\" title=\"psysml:8a4520e8-ac51-4a2a-8007-cfc5f8084f42\" xlink:actuate=\"onRequest\" xlink:href=\"psysml:8a4520e8-ac51-4a2a-8007-cfc5f8084f42\" xlink:show=\"new\" xlink:title=\"psysml:8a4520e8-ac51-4a2a-8007-cfc5f8084f42\" xlink:type=\"simple\"><rect fill=\"#FFFFFF\" height=\"303.86\" id=\"E8\" style=\"stroke: #383838; stroke-width: 1.5;\" width=\"259\" x=\"647\" y=\"107\"/><rect fill=\"#F8F8F8\" height=\"37.9375\" style=\"stroke: #383838; stroke-width: 1.5;\" width=\"259\" x=\"647\" y=\"107\"/><text fill=\"#000000\" font-family=\"sans-serif\" font-size=\"12\" font-style=\"italic\" lengthAdjust=\"spacingAndGlyphs\" textLength=\"88\" x=\"732.5\" y=\"123.1387\">«analysis def»</text><text fill=\"#000000\" font-family=\"sans-serif\" font-size=\"12\" lengthAdjust=\"spacingAndGlyphs\" textLength=\"77\" x=\"738\" y=\"137.1074\">AnalysisPlan</text></a><!--MD5=[a84b4591f868c1fa4a211716a82f2f0d]\n",
       "cluster E10--><a href=\"psysml:ef775355-9069-4551-a021-5839d9673f3d\" target=\"_top\" title=\"psysml:ef775355-9069-4551-a021-5839d9673f3d\" xlink:actuate=\"onRequest\" xlink:href=\"psysml:ef775355-9069-4551-a021-5839d9673f3d\" xlink:show=\"new\" xlink:title=\"psysml:ef775355-9069-4551-a021-5839d9673f3d\" xlink:type=\"simple\"><rect fill=\"#FFFFFF\" height=\"165.86\" id=\"E10\" rx=\"10\" ry=\"10\" style=\"stroke: #383838; stroke-width: 1.5;\" width=\"138\" x=\"730\" y=\"207\"/><rect fill=\"#F8F8F8\" height=\"37.9375\" rx=\"10\" ry=\"10\" style=\"stroke: #F8F8F8; stroke-width: 1.5;\" width=\"138\" x=\"730\" y=\"207\"/><rect fill=\"#F8F8F8\" height=\"10\" style=\"stroke: #F8F8F8; stroke-width: 1.5;\" width=\"138\" x=\"730\" y=\"234.9375\"/><rect fill=\"none\" height=\"165.86\" id=\"E10\" rx=\"10\" ry=\"10\" style=\"stroke: #383838; stroke-width: 1.5;\" width=\"138\" x=\"730\" y=\"207\"/><text fill=\"#000000\" font-family=\"sans-serif\" font-size=\"12\" font-style=\"italic\" lengthAdjust=\"spacingAndGlyphs\" textLength=\"64\" x=\"767\" y=\"223.1387\">«analysis»</text><text fill=\"#000000\" font-family=\"sans-serif\" font-size=\"12\" lengthAdjust=\"spacingAndGlyphs\" textLength=\"81\" x=\"758.5\" y=\"237.1074\">analysisCase</text><line style=\"stroke: #383838; stroke-width: 1.0;\" x1=\"730\" x2=\"868\" y1=\"244.9375\" y2=\"244.9375\"/></a><!--MD5=[bcf29f0808fc96f19b1afbee8cfc1f11]\n",
       "cluster E14--><a href=\"psysml:e127547d-9ca6-4380-b459-796effe0b56f\" target=\"_top\" title=\"psysml:e127547d-9ca6-4380-b459-796effe0b56f\" xlink:actuate=\"onRequest\" xlink:href=\"psysml:e127547d-9ca6-4380-b459-796effe0b56f\" xlink:show=\"new\" xlink:title=\"psysml:e127547d-9ca6-4380-b459-796effe0b56f\" xlink:type=\"simple\"><rect fill=\"#FFFFFF\" height=\"197\" id=\"E14\" rx=\"10\" ry=\"10\" style=\"stroke: #383838; stroke-width: 1.5;\" width=\"200\" x=\"360\" y=\"49\"/><rect fill=\"#F8F8F8\" height=\"23.9688\" rx=\"10\" ry=\"10\" style=\"stroke: #F8F8F8; stroke-width: 1.5;\" width=\"200\" x=\"360\" y=\"49\"/><rect fill=\"#F8F8F8\" height=\"10\" style=\"stroke: #F8F8F8; stroke-width: 1.5;\" width=\"200\" x=\"360\" y=\"62.9688\"/><rect fill=\"none\" height=\"197\" id=\"E14\" rx=\"10\" ry=\"10\" style=\"stroke: #383838; stroke-width: 1.5;\" width=\"200\" x=\"360\" y=\"49\"/><text fill=\"#000000\" font-family=\"sans-serif\" font-size=\"12\" lengthAdjust=\"spacingAndGlyphs\" textLength=\"98\" x=\"411\" y=\"65.1387\">analysisContext</text><line style=\"stroke: #383838; stroke-width: 1.0;\" x1=\"360\" x2=\"560\" y1=\"72.9688\" y2=\"72.9688\"/></a><!--MD5=[ebbe1d658d1005bcc118a6aa81145e00]\n",
       "class E4--><a href=\"psysml:b06c710d-6070-489f-855d-95835f572a57\" target=\"_top\" title=\"psysml:b06c710d-6070-489f-855d-95835f572a57\" xlink:actuate=\"onRequest\" xlink:href=\"psysml:b06c710d-6070-489f-855d-95835f572a57\" xlink:show=\"new\" xlink:title=\"psysml:b06c710d-6070-489f-855d-95835f572a57\" xlink:type=\"simple\"><rect fill=\"#FFFFFF\" height=\"66.7422\" id=\"E4\" style=\"stroke: #383838; stroke-width: 1.5;\" width=\"117\" x=\"223.5\" y=\"73.5\"/><text fill=\"#000000\" font-family=\"sans-serif\" font-size=\"12\" font-style=\"italic\" lengthAdjust=\"spacingAndGlyphs\" textLength=\"115\" x=\"224.5\" y=\"89.6387\">«requirement def»</text><text fill=\"#000000\" font-family=\"sans-serif\" font-size=\"12\" lengthAdjust=\"spacingAndGlyphs\" textLength=\"107\" x=\"228.5\" y=\"103.6074\">AnalysisObjective</text><line style=\"stroke: #383838; stroke-width: 1.5;\" x1=\"224.5\" x2=\"339.5\" y1=\"111.4375\" y2=\"111.4375\"/><text fill=\"#000000\" font-family=\"sans-serif\" font-size=\"11\" lengthAdjust=\"spacingAndGlyphs\" textLength=\"12\" x=\"229.5\" y=\"125.6479\">...</text><line style=\"stroke: #383838; stroke-width: 1.0;\" x1=\"224.5\" x2=\"339.5\" y1=\"132.2422\" y2=\"132.2422\"/></a><g id=\"E1.E2\"><a href=\"psysml:df856138-3406-4a6b-b583-20ed5eacc0cd\" target=\"_top\" title=\"psysml:df856138-3406-4a6b-b583-20ed5eacc0cd\" xlink:actuate=\"onRequest\" xlink:href=\"psysml:df856138-3406-4a6b-b583-20ed5eacc0cd\" xlink:show=\"new\" xlink:title=\"psysml:df856138-3406-4a6b-b583-20ed5eacc0cd\" xlink:type=\"simple\"><rect fill=\"#FFFFFF\" height=\"42.9375\" id=\"E2\" style=\"stroke: #383838; stroke-width: 1.5;\" width=\"71\" x=\"117.5\" y=\"85.5\"/><rect fill=\"#F8F8F8\" height=\"37.9375\" style=\"stroke: #383838; stroke-width: 1.5;\" width=\"71\" x=\"117.5\" y=\"85.5\"/><text fill=\"#000000\" font-family=\"sans-serif\" font-size=\"12\" font-style=\"italic\" lengthAdjust=\"spacingAndGlyphs\" textLength=\"64\" x=\"121\" y=\"101.6387\">«part def»</text><text fill=\"#000000\" font-family=\"sans-serif\" font-size=\"12\" lengthAdjust=\"spacingAndGlyphs\" textLength=\"8\" x=\"149\" y=\"115.6074\">V</text></a></g><g id=\"E1.E3\"><a href=\"psysml:a14948af-c637-432a-b299-badb5d3ced27\" target=\"_top\" title=\"psysml:a14948af-c637-432a-b299-badb5d3ced27\" xlink:actuate=\"onRequest\" xlink:href=\"psysml:a14948af-c637-432a-b299-badb5d3ced27\" xlink:show=\"new\" xlink:title=\"psysml:a14948af-c637-432a-b299-badb5d3ced27\" xlink:type=\"simple\"><rect fill=\"#FFFFFF\" height=\"40\" id=\"E3\" rx=\"10\" ry=\"10\" style=\"stroke: #383838; stroke-width: 1.5;\" width=\"50\" x=\"32\" y=\"87\"/><rect fill=\"#F8F8F8\" height=\"23.9688\" rx=\"10\" ry=\"10\" style=\"stroke: #F8F8F8; stroke-width: 1.5;\" width=\"50\" x=\"32\" y=\"87\"/><rect fill=\"#F8F8F8\" height=\"10\" style=\"stroke: #F8F8F8; stroke-width: 1.5;\" width=\"50\" x=\"32\" y=\"100.9688\"/><rect fill=\"none\" height=\"40\" id=\"E3\" rx=\"10\" ry=\"10\" style=\"stroke: #383838; stroke-width: 1.5;\" width=\"50\" x=\"32\" y=\"87\"/><text fill=\"#000000\" font-family=\"sans-serif\" font-size=\"12\" lengthAdjust=\"spacingAndGlyphs\" textLength=\"28\" x=\"43\" y=\"103.1387\">vv: V</text></a></g><text fill=\"#000000\" font-family=\"sans-serif\" font-size=\"14\" lengthAdjust=\"spacingAndGlyphs\" textLength=\"7\" x=\"1005.5\" y=\"85.6982\">v</text><rect fill=\"#383838\" height=\"12\" style=\"stroke: #F8F8F8; stroke-width: 1.5;\" width=\"12\" x=\"1003\" y=\"101\"/><text fill=\"#000000\" font-family=\"sans-serif\" font-size=\"14\" lengthAdjust=\"spacingAndGlyphs\" textLength=\"39\" x=\"989.5\" y=\"354.8551\">result</text><rect fill=\"#383838\" height=\"12\" style=\"stroke: #F8F8F8; stroke-width: 1.5;\" width=\"12\" x=\"1003\" y=\"329.86\"/><text fill=\"#000000\" font-family=\"sans-serif\" font-size=\"14\" lengthAdjust=\"spacingAndGlyphs\" textLength=\"7\" x=\"661.5\" y=\"85.6982\">v</text><rect fill=\"#383838\" height=\"12\" style=\"stroke: #F8F8F8; stroke-width: 1.5;\" width=\"12\" x=\"659\" y=\"101\"/><text fill=\"#000000\" font-family=\"sans-serif\" font-size=\"14\" lengthAdjust=\"spacingAndGlyphs\" textLength=\"39\" x=\"886.5\" y=\"354.8551\">result</text><rect fill=\"#383838\" height=\"12\" style=\"stroke: #F8F8F8; stroke-width: 1.5;\" width=\"12\" x=\"900\" y=\"329.86\"/><text fill=\"#000000\" font-family=\"sans-serif\" font-size=\"14\" lengthAdjust=\"spacingAndGlyphs\" textLength=\"37\" x=\"780.5\" y=\"391.8551\">mass</text><rect fill=\"#383838\" height=\"12\" style=\"stroke: #F8F8F8; stroke-width: 1.5;\" width=\"12\" x=\"793\" y=\"366.86\"/><text fill=\"#000000\" font-family=\"sans-serif\" font-size=\"14\" lengthAdjust=\"spacingAndGlyphs\" textLength=\"7\" x=\"795.5\" y=\"185.6982\">v</text><rect fill=\"#383838\" height=\"12\" style=\"stroke: #F8F8F8; stroke-width: 1.5;\" width=\"12\" x=\"793\" y=\"201\"/><!--MD5=[0c48fb7552dae8cbbef69381101a84c8]\n",
       "class E15--><a href=\"psysml:26b0c0e9-c7c6-4e19-b68b-97e4f04c11f8\" target=\"_top\" title=\"psysml:26b0c0e9-c7c6-4e19-b68b-97e4f04c11f8\" xlink:actuate=\"onRequest\" xlink:href=\"psysml:26b0c0e9-c7c6-4e19-b68b-97e4f04c11f8\" xlink:show=\"new\" xlink:title=\"psysml:26b0c0e9-c7c6-4e19-b68b-97e4f04c11f8\" xlink:type=\"simple\"><rect fill=\"#FFFFFF\" height=\"45.9375\" id=\"E15\" rx=\"10\" ry=\"10\" style=\"stroke: #383838; stroke-width: 1.5;\" width=\"168\" x=\"376\" y=\"84\"/><text fill=\"#000000\" font-family=\"sans-serif\" font-size=\"12\" font-style=\"italic\" lengthAdjust=\"spacingAndGlyphs\" textLength=\"64\" x=\"428\" y=\"100.1387\">«analysis»</text><text fill=\"#000000\" font-family=\"sans-serif\" font-size=\"12\" lengthAdjust=\"spacingAndGlyphs\" textLength=\"162\" x=\"379\" y=\"114.1074\">analysisPlan: AnalysisPlan</text><line style=\"stroke: #383838; stroke-width: 1.5;\" x1=\"377\" x2=\"543\" y1=\"121.9375\" y2=\"121.9375\"/></a><!--MD5=[35f0587eaee8d5bb9a02e25b63afc23b]\n",
       "class E16--><a href=\"psysml:a55f605c-cc05-4fcd-b9b1-1e930756e010\" target=\"_top\" title=\"psysml:a55f605c-cc05-4fcd-b9b1-1e930756e010\" xlink:actuate=\"onRequest\" xlink:href=\"psysml:a55f605c-cc05-4fcd-b9b1-1e930756e010\" xlink:show=\"new\" xlink:title=\"psysml:a55f605c-cc05-4fcd-b9b1-1e930756e010\" xlink:type=\"simple\"><rect fill=\"#FFFFFF\" height=\"45.9375\" id=\"E16\" rx=\"10\" ry=\"10\" style=\"stroke: #383838; stroke-width: 1.5;\" width=\"93\" x=\"413.5\" y=\"184\"/><text fill=\"#000000\" font-family=\"sans-serif\" font-size=\"12\" font-style=\"italic\" lengthAdjust=\"spacingAndGlyphs\" textLength=\"91\" x=\"414.5\" y=\"200.1387\">«requirement»</text><text fill=\"#000000\" font-family=\"sans-serif\" font-size=\"12\" lengthAdjust=\"spacingAndGlyphs\" textLength=\"19\" x=\"450.5\" y=\"214.1074\">obj</text><line style=\"stroke: #383838; stroke-width: 1.5;\" x1=\"414.5\" x2=\"505.5\" y1=\"221.9375\" y2=\"221.9375\"/></a><!--MD5=[1b01d5b954197aaf3899ca0bde35faf5]\n",
       "link E15 to E8--><a href=\"psysml:31ecf0da-b030-4520-be0f-3ece1376fb5f\" target=\"_top\" title=\"psysml:31ecf0da-b030-4520-be0f-3ece1376fb5f\" xlink:actuate=\"onRequest\" xlink:href=\"psysml:31ecf0da-b030-4520-be0f-3ece1376fb5f\" xlink:show=\"new\" xlink:title=\"psysml:31ecf0da-b030-4520-be0f-3ece1376fb5f\" xlink:type=\"simple\"><path d=\"M506.26,130.12 C543.93,148.12 596.28,173.15 630.4,189.46 \" fill=\"none\" id=\"E15-&gt;E8\" style=\"stroke: #383838; stroke-width: 1.0;\"/><polygon fill=\"#FFFFFF\" points=\"630.4,189.46,610.2389,187.5813,616.2768,174.9502,630.4,189.46\" style=\"stroke: #383838; stroke-width: 1.0;\"/><ellipse cx=\"605.9588\" cy=\"183.3185\" fill=\"#383838\" rx=\"2\" ry=\"2\" style=\"stroke: #383838; stroke-width: 1.0;\"/><ellipse cx=\"610.2716\" cy=\"174.2963\" fill=\"#383838\" rx=\"2\" ry=\"2\" style=\"stroke: #383838; stroke-width: 1.0;\"/></a><!--MD5=[f8b155c46b092be73bb522b0a8fc72a2]\n",
       "link E15 to E16--><a href=\"psysml:aa3a7955-6ed3-447d-b0ee-a09ada8803a4\" target=\"_top\" title=\"psysml:aa3a7955-6ed3-447d-b0ee-a09ada8803a4\" xlink:actuate=\"onRequest\" xlink:href=\"psysml:aa3a7955-6ed3-447d-b0ee-a09ada8803a4\" xlink:show=\"new\" xlink:title=\"psysml:aa3a7955-6ed3-447d-b0ee-a09ada8803a4\" xlink:type=\"simple\"><path d=\"M460,130.24 C460,143.64 460,160.91 460,175.57 \" fill=\"none\" id=\"E15-&gt;E16\" style=\"stroke: #383838; stroke-width: 1.0;\"/><polygon fill=\"#383838\" points=\"460,183.85,463,175.85,457,175.85,460,183.85\" style=\"stroke: #383838; stroke-width: 1.0;\"/><text fill=\"#000000\" font-family=\"sans-serif\" font-size=\"13\" lengthAdjust=\"spacingAndGlyphs\" textLength=\"73\" x=\"461\" y=\"161.5669\">«objective»</text><text fill=\"#000000\" font-family=\"sans-serif\" font-size=\"13\" lengthAdjust=\"spacingAndGlyphs\" textLength=\"8\" x=\"450.975\" y=\"173.0879\">1</text></a><!--MD5=[861c957d5103b38c8994281ba560894c]\n",
       "@startuml\r\n",
       "skinparam ranksep 10\r\n",
       "skinparam rectangle {\r\n",
       " backgroundColor<<block>> LightGreen\r\n",
       "}\r\n",
       "top to bottom direction\r\n",
       "skinparam monochrome true\r\n",
       "skinparam classbackgroundcolor white\r\n",
       "skinparam shadowing false\r\n",
       "skinparam wrapWidth 300\r\n",
       "hide circle\r\n",
       "\r\n",
       "package \"AnalysisTest\" as E1  [[psysml:f5546318-5597-445e-83af-957575abd1f7 ]]  {\r\n",
       "rec def \"V\" as E2  <<(T,blue) part def>> [[psysml:df856138-3406-4a6b-b583-20ed5eacc0cd ]] {\r\n",
       "}\r\n",
       "rec usage \"vv: V\" as E3  [[psysml:a14948af-c637-432a-b299-badb5d3ced27 ]] {\r\n",
       "}\r\n",
       "comp def \"AnalysisObjective\" as E4  <<(T,blue) requirement def>> [[psysml:b06c710d-6070-489f-855d-95835f572a57 ]] {\r\n",
       "...\r\n",
       "- -\r\n",
       "}\r\n",
       "rec def \"AnalysisCase\" as E5 << analysis def>> [[psysml:e9833d01-8fa8-4820-af73-47d7be444de9 ]] {\r\n",
       "portin \"v\" as E6  [[psysml:fc36d359-2f0c-4a32-9d15-fff2be0a8869 ]] \r\n",
       "portout \"result\" as E7  [[psysml:7ffbe20f-c891-4b52-987b-0be8eb99b87a ]] \r\n",
       "}\r\n",
       "\r\n",
       "rec def \"AnalysisPlan\" as E8 << analysis def>> [[psysml:8a4520e8-ac51-4a2a-8007-cfc5f8084f42 ]] {\r\n",
       "portin \"v\" as E9  [[psysml:7635dc34-c4d2-4388-b045-3a6cac182eef ]] \r\n",
       "rec usage \"analysisCase\" as E10 << analysis>> [[psysml:ef775355-9069-4551-a021-5839d9673f3d ]] {\r\n",
       "portout \"mass\" as E11  [[psysml:56f340db-5793-4dc6-898e-9e0a5f90ef66 ]] \r\n",
       "portin \"v\" as E12  [[psysml:d8dc3b58-26c5-4e6e-82f3-a4f0880c0fd9 ]] \r\n",
       "}\r\n",
       "\r\n",
       "portout \"result\" as E13  [[psysml:55ba6aa8-4536-4622-ad3c-e7c6595a0034 ]] \r\n",
       "}\r\n",
       "\r\n",
       "rec usage \"analysisContext\" as E14  [[psysml:e127547d-9ca6-4380-b459-796effe0b56f ]] {\r\n",
       "comp usage \"analysisPlan: AnalysisPlan\" as E15 << analysis>> [[psysml:26b0c0e9-c7c6-4e19-b68b-97e4f04c11f8 ]] {\r\n",
       "}\r\n",
       "comp usage \"obj\" as E16  <<(T,blue) requirement>> [[psysml:a55f605c-cc05-4fcd-b9b1-1e930756e010 ]] {\r\n",
       "}\r\n",
       "}\r\n",
       "}\r\n",
       "E15 - -:|> E8 [[psysml:31ecf0da-b030-4520-be0f-3ece1376fb5f ]] \r\n",
       "E15 - ->> \"1\"E16 [[psysml:aa3a7955-6ed3-447d-b0ee-a09ada8803a4 ]] : <<objective>>\r\n",
       "@enduml\r\n",
       "\n",
       "PlantUML version 1.2020.13(Sat Jun 13 12:26:38 UTC 2020)\n",
       "(EPL source distribution)\n",
       "Java Runtime: OpenJDK Runtime Environment\n",
       "JVM: OpenJDK 64-Bit Server VM\n",
       "Default Encoding: UTF-8\n",
       "Language: en\n",
       "Country: null\n",
       "--></g></svg>"
      ]
     },
     "execution_count": 47,
     "metadata": {},
     "output_type": "execute_result"
    }
   ],
   "source": [
    "%viz --style=\"TB\" --view=\"Interconnection\" \"AnalysisTest\""
   ]
  },
  {
   "cell_type": "code",
   "execution_count": 48,
   "id": "5eb683a2",
   "metadata": {
    "execution": {
     "iopub.execute_input": "2021-09-27T07:15:32.360020Z",
     "iopub.status.busy": "2021-09-27T07:15:32.359625Z",
     "iopub.status.idle": "2021-09-27T07:15:32.385048Z",
     "shell.execute_reply": "2021-09-27T07:15:32.383921Z"
    }
   },
   "outputs": [
    {
     "data": {
      "image/svg+xml": [
       "<?xml version=\"1.0\" encoding=\"UTF-8\" standalone=\"no\"?><svg xmlns=\"http://www.w3.org/2000/svg\" xmlns:xlink=\"http://www.w3.org/1999/xlink\" contentScriptType=\"application/ecmascript\" contentStyleType=\"text/css\" height=\"233px\" preserveAspectRatio=\"none\" style=\"width:649px;height:233px;\" version=\"1.1\" viewBox=\"0 0 649 233\" width=\"649px\" zoomAndPan=\"magnify\"><defs/><g><!--MD5=[fbc87193dbaf4d95561dea2c320d4a47]\n",
       "cluster E1--><a href=\"psysml:e9833d01-8fa8-4820-af73-47d7be444de9\" target=\"_top\" title=\"psysml:e9833d01-8fa8-4820-af73-47d7be444de9\" xlink:actuate=\"onRequest\" xlink:href=\"psysml:e9833d01-8fa8-4820-af73-47d7be444de9\" xlink:show=\"new\" xlink:title=\"psysml:e9833d01-8fa8-4820-af73-47d7be444de9\" xlink:type=\"simple\"><rect fill=\"#FFFFFF\" height=\"122\" id=\"E1\" style=\"stroke: #383838; stroke-width: 1.5;\" width=\"146\" x=\"7\" y=\"42.0986\"/><rect fill=\"#F8F8F8\" height=\"37.9375\" style=\"stroke: #383838; stroke-width: 1.5;\" width=\"146\" x=\"7\" y=\"42.0986\"/><text fill=\"#000000\" font-family=\"sans-serif\" font-size=\"12\" font-style=\"italic\" lengthAdjust=\"spacingAndGlyphs\" textLength=\"88\" x=\"36\" y=\"58.2373\">«analysis def»</text><text fill=\"#000000\" font-family=\"sans-serif\" font-size=\"12\" lengthAdjust=\"spacingAndGlyphs\" textLength=\"81\" x=\"39.5\" y=\"72.2061\">AnalysisCase</text></a><!--MD5=[f6df4d0ebaf0b5dfb2ced0ae5af7c670]\n",
       "cluster E4--><a href=\"psysml:8a4520e8-ac51-4a2a-8007-cfc5f8084f42\" target=\"_top\" title=\"psysml:8a4520e8-ac51-4a2a-8007-cfc5f8084f42\" xlink:actuate=\"onRequest\" xlink:href=\"psysml:8a4520e8-ac51-4a2a-8007-cfc5f8084f42\" xlink:show=\"new\" xlink:title=\"psysml:8a4520e8-ac51-4a2a-8007-cfc5f8084f42\" xlink:type=\"simple\"><rect fill=\"#FFFFFF\" height=\"180\" id=\"E4\" style=\"stroke: #383838; stroke-width: 1.5;\" width=\"262\" x=\"216\" y=\"42.0986\"/><rect fill=\"#F8F8F8\" height=\"37.9375\" style=\"stroke: #383838; stroke-width: 1.5;\" width=\"262\" x=\"216\" y=\"42.0986\"/><text fill=\"#000000\" font-family=\"sans-serif\" font-size=\"12\" font-style=\"italic\" lengthAdjust=\"spacingAndGlyphs\" textLength=\"88\" x=\"303\" y=\"58.2373\">«analysis def»</text><text fill=\"#000000\" font-family=\"sans-serif\" font-size=\"12\" lengthAdjust=\"spacingAndGlyphs\" textLength=\"77\" x=\"308.5\" y=\"72.2061\">AnalysisPlan</text></a><!--MD5=[14e3b0961a2654348d326746436168a1]\n",
       "cluster E6--><a href=\"psysml:ef775355-9069-4551-a021-5839d9673f3d\" target=\"_top\" title=\"psysml:ef775355-9069-4551-a021-5839d9673f3d\" xlink:actuate=\"onRequest\" xlink:href=\"psysml:ef775355-9069-4551-a021-5839d9673f3d\" xlink:show=\"new\" xlink:title=\"psysml:ef775355-9069-4551-a021-5839d9673f3d\" xlink:type=\"simple\"><rect fill=\"#FFFFFF\" height=\"110.5\" id=\"E6\" rx=\"10\" ry=\"10\" style=\"stroke: #383838; stroke-width: 1.5;\" width=\"138\" x=\"299\" y=\"81.5986\"/><rect fill=\"#F8F8F8\" height=\"37.9375\" rx=\"10\" ry=\"10\" style=\"stroke: #F8F8F8; stroke-width: 1.5;\" width=\"138\" x=\"299\" y=\"81.5986\"/><rect fill=\"#F8F8F8\" height=\"10\" style=\"stroke: #F8F8F8; stroke-width: 1.5;\" width=\"138\" x=\"299\" y=\"109.5361\"/><rect fill=\"none\" height=\"110.5\" id=\"E6\" rx=\"10\" ry=\"10\" style=\"stroke: #383838; stroke-width: 1.5;\" width=\"138\" x=\"299\" y=\"81.5986\"/><text fill=\"#000000\" font-family=\"sans-serif\" font-size=\"12\" font-style=\"italic\" lengthAdjust=\"spacingAndGlyphs\" textLength=\"64\" x=\"336\" y=\"97.7373\">«analysis»</text><text fill=\"#000000\" font-family=\"sans-serif\" font-size=\"12\" lengthAdjust=\"spacingAndGlyphs\" textLength=\"81\" x=\"327.5\" y=\"111.7061\">analysisCase</text><line style=\"stroke: #383838; stroke-width: 1.0;\" x1=\"299\" x2=\"437\" y1=\"119.5361\" y2=\"119.5361\"/></a><!--MD5=[a84b4591f868c1fa4a211716a82f2f0d]\n",
       "cluster E10--><a href=\"psysml:26b0c0e9-c7c6-4e19-b68b-97e4f04c11f8\" target=\"_top\" title=\"psysml:26b0c0e9-c7c6-4e19-b68b-97e4f04c11f8\" xlink:actuate=\"onRequest\" xlink:href=\"psysml:26b0c0e9-c7c6-4e19-b68b-97e4f04c11f8\" xlink:show=\"new\" xlink:title=\"psysml:26b0c0e9-c7c6-4e19-b68b-97e4f04c11f8\" xlink:type=\"simple\"><rect fill=\"#FFFFFF\" height=\"122\" id=\"E10\" rx=\"10\" ry=\"10\" style=\"stroke: #383838; stroke-width: 1.5;\" width=\"130\" x=\"507\" y=\"42.0986\"/><rect fill=\"#F8F8F8\" height=\"37.9375\" rx=\"10\" ry=\"10\" style=\"stroke: #F8F8F8; stroke-width: 1.5;\" width=\"130\" x=\"507\" y=\"42.0986\"/><rect fill=\"#F8F8F8\" height=\"10\" style=\"stroke: #F8F8F8; stroke-width: 1.5;\" width=\"130\" x=\"507\" y=\"70.0361\"/><rect fill=\"none\" height=\"122\" id=\"E10\" rx=\"10\" ry=\"10\" style=\"stroke: #383838; stroke-width: 1.5;\" width=\"130\" x=\"507\" y=\"42.0986\"/><text fill=\"#000000\" font-family=\"sans-serif\" font-size=\"12\" font-style=\"italic\" lengthAdjust=\"spacingAndGlyphs\" textLength=\"64\" x=\"540\" y=\"58.2373\">«analysis»</text><text fill=\"#000000\" font-family=\"sans-serif\" font-size=\"12\" lengthAdjust=\"spacingAndGlyphs\" textLength=\"77\" x=\"533.5\" y=\"72.2061\">analysisPlan</text><line style=\"stroke: #383838; stroke-width: 1.0;\" x1=\"507\" x2=\"637\" y1=\"80.0361\" y2=\"80.0361\"/></a><text fill=\"#000000\" font-family=\"sans-serif\" font-size=\"14\" lengthAdjust=\"spacingAndGlyphs\" textLength=\"7\" x=\"76.5\" y=\"20.7969\">v</text><rect fill=\"#383838\" height=\"12\" style=\"stroke: #F8F8F8; stroke-width: 1.5;\" width=\"12\" x=\"74\" y=\"36.0986\"/><text fill=\"#000000\" font-family=\"sans-serif\" font-size=\"14\" lengthAdjust=\"spacingAndGlyphs\" textLength=\"39\" x=\"60.5\" y=\"183.0938\">result</text><rect fill=\"#383838\" height=\"12\" style=\"stroke: #F8F8F8; stroke-width: 1.5;\" width=\"12\" x=\"74\" y=\"158.0986\"/><text fill=\"#000000\" font-family=\"sans-serif\" font-size=\"14\" lengthAdjust=\"spacingAndGlyphs\" textLength=\"7\" x=\"230.5\" y=\"20.7969\">v</text><rect fill=\"#383838\" height=\"12\" style=\"stroke: #F8F8F8; stroke-width: 1.5;\" width=\"12\" x=\"228\" y=\"36.0986\"/><text fill=\"#000000\" font-family=\"sans-serif\" font-size=\"14\" lengthAdjust=\"spacingAndGlyphs\" textLength=\"39\" x=\"458.5\" y=\"183.0938\">result</text><rect fill=\"#383838\" height=\"12\" style=\"stroke: #F8F8F8; stroke-width: 1.5;\" width=\"12\" x=\"472\" y=\"158.0986\"/><text fill=\"#000000\" font-family=\"sans-serif\" font-size=\"14\" lengthAdjust=\"spacingAndGlyphs\" textLength=\"37\" x=\"349.5\" y=\"211.0938\">mass</text><rect fill=\"#383838\" height=\"12\" style=\"stroke: #F8F8F8; stroke-width: 1.5;\" width=\"12\" x=\"362\" y=\"186.0986\"/><text fill=\"#000000\" font-family=\"sans-serif\" font-size=\"14\" lengthAdjust=\"spacingAndGlyphs\" textLength=\"7\" x=\"364.5\" y=\"60.2969\">v</text><rect fill=\"#383838\" height=\"12\" style=\"stroke: #F8F8F8; stroke-width: 1.5;\" width=\"12\" x=\"362\" y=\"75.5986\"/><text fill=\"#000000\" font-family=\"sans-serif\" font-size=\"14\" lengthAdjust=\"spacingAndGlyphs\" textLength=\"7\" x=\"567.5\" y=\"20.7969\">v</text><rect fill=\"#383838\" height=\"12\" style=\"stroke: #F8F8F8; stroke-width: 1.5;\" width=\"12\" x=\"565\" y=\"36.0986\"/><text fill=\"#000000\" font-family=\"sans-serif\" font-size=\"14\" lengthAdjust=\"spacingAndGlyphs\" textLength=\"39\" x=\"505.5\" y=\"183.0938\">result</text><rect fill=\"#383838\" height=\"12\" style=\"stroke: #F8F8F8; stroke-width: 1.5;\" width=\"12\" x=\"519\" y=\"158.0986\"/><!--MD5=[420c3b84924ca8df227340dd709ed4fb]\n",
       "@startuml\r\n",
       "skinparam ranksep 8\r\n",
       "top to bottom direction\r\n",
       "skinparam monochrome true\r\n",
       "skinparam classbackgroundcolor white\r\n",
       "skinparam shadowing false\r\n",
       "skinparam wrapWidth 300\r\n",
       "hide circle\r\n",
       "\r\n",
       "rec def \"AnalysisCase\" as E1 << analysis def>> [[psysml:e9833d01-8fa8-4820-af73-47d7be444de9 ]] {\r\n",
       "portin \"v\" as E2  [[psysml:fc36d359-2f0c-4a32-9d15-fff2be0a8869 ]] \r\n",
       "portout \"result\" as E3  [[psysml:7ffbe20f-c891-4b52-987b-0be8eb99b87a ]] \r\n",
       "}\r\n",
       "\r\n",
       "rec def \"AnalysisPlan\" as E4 << analysis def>> [[psysml:8a4520e8-ac51-4a2a-8007-cfc5f8084f42 ]] {\r\n",
       "portin \"v\" as E5  [[psysml:7635dc34-c4d2-4388-b045-3a6cac182eef ]] \r\n",
       "rec usage \"analysisCase\" as E6 << analysis>> [[psysml:ef775355-9069-4551-a021-5839d9673f3d ]] {\r\n",
       "portout \"mass\" as E7  [[psysml:56f340db-5793-4dc6-898e-9e0a5f90ef66 ]] \r\n",
       "portin \"v\" as E8  [[psysml:d8dc3b58-26c5-4e6e-82f3-a4f0880c0fd9 ]] \r\n",
       "}\r\n",
       "\r\n",
       "portout \"result\" as E9  [[psysml:55ba6aa8-4536-4622-ad3c-e7c6595a0034 ]] \r\n",
       "}\r\n",
       "\r\n",
       "rec usage \"analysisPlan\" as E10 << analysis>> [[psysml:26b0c0e9-c7c6-4e19-b68b-97e4f04c11f8 ]] {\r\n",
       "portin \"v\" as E11  [[psysml:f389b1b7-0af5-48e1-9589-ecdd74e85b57 ]] \r\n",
       "portout \"result\" as E12  [[psysml:bb9048ad-dd49-4e98-ae44-d0812ca693a4 ]] \r\n",
       "}\r\n",
       "\r\n",
       "@enduml\r\n",
       "\n",
       "PlantUML version 1.2020.13(Sat Jun 13 12:26:38 UTC 2020)\n",
       "(EPL source distribution)\n",
       "Java Runtime: OpenJDK Runtime Environment\n",
       "JVM: OpenJDK 64-Bit Server VM\n",
       "Default Encoding: UTF-8\n",
       "Language: en\n",
       "Country: null\n",
       "--></g></svg>"
      ]
     },
     "execution_count": 48,
     "metadata": {},
     "output_type": "execute_result"
    }
   ],
   "source": [
    "%viz --style=\"TB\" --view=\"Action\" \"AnalysisTest\""
   ]
  },
  {
   "cell_type": "code",
   "execution_count": 49,
   "id": "13553bba",
   "metadata": {
    "execution": {
     "iopub.execute_input": "2021-09-27T07:15:32.434736Z",
     "iopub.status.busy": "2021-09-27T07:15:32.434326Z",
     "iopub.status.idle": "2021-09-27T07:15:32.437853Z",
     "shell.execute_reply": "2021-09-27T07:15:32.437462Z"
    }
   },
   "outputs": [
    {
     "data": {
      "image/svg+xml": [
       "<?xml version=\"1.0\" encoding=\"UTF-8\" standalone=\"no\"?><svg xmlns=\"http://www.w3.org/2000/svg\" xmlns:xlink=\"http://www.w3.org/1999/xlink\" contentScriptType=\"application/ecmascript\" contentStyleType=\"text/css\" height=\"12px\" preserveAspectRatio=\"none\" style=\"width:12px;height:12px;\" version=\"1.1\" viewBox=\"0 0 12 12\" width=\"12px\" zoomAndPan=\"magnify\"><defs/><g><!--MD5=[e1ab0c84c44d2fef8bf5f140f2689906]\n",
       "@startuml\r\n",
       "skinparam roundcorner 20\r\n",
       "skinparam BoxPadding 20\r\n",
       "skinparam SequenceBoxBackgroundColor #white\r\n",
       "skinparam style strictuml\r\n",
       "skinparam maxMessageSize 100\r\n",
       "top to bottom direction\r\n",
       "skinparam monochrome true\r\n",
       "skinparam classbackgroundcolor white\r\n",
       "skinparam shadowing false\r\n",
       "skinparam wrapWidth 300\r\n",
       "hide circle\r\n",
       "\r\n",
       "@enduml\r\n",
       "\n",
       "PlantUML version 1.2020.13(Sat Jun 13 12:26:38 UTC 2020)\n",
       "(EPL source distribution)\n",
       "Java Runtime: OpenJDK Runtime Environment\n",
       "JVM: OpenJDK 64-Bit Server VM\n",
       "Default Encoding: UTF-8\n",
       "Language: en\n",
       "Country: null\n",
       "--></g></svg>"
      ]
     },
     "execution_count": 49,
     "metadata": {},
     "output_type": "execute_result"
    }
   ],
   "source": [
    "%viz --style=\"TB\" --view=\"Sequence\" \"AnalysisTest\""
   ]
  },
  {
   "cell_type": "code",
   "execution_count": 50,
   "id": "722f35b3",
   "metadata": {
    "execution": {
     "iopub.execute_input": "2021-09-27T07:15:32.487592Z",
     "iopub.status.busy": "2021-09-27T07:15:32.487198Z",
     "iopub.status.idle": "2021-09-27T07:15:32.521190Z",
     "shell.execute_reply": "2021-09-27T07:15:32.519544Z"
    }
   },
   "outputs": [
    {
     "data": {
      "image/svg+xml": [
       "<?xml version=\"1.0\" encoding=\"UTF-8\" standalone=\"no\"?><svg xmlns=\"http://www.w3.org/2000/svg\" xmlns:xlink=\"http://www.w3.org/1999/xlink\" contentScriptType=\"application/ecmascript\" contentStyleType=\"text/css\" height=\"628px\" preserveAspectRatio=\"none\" style=\"width:837px;height:628px;\" version=\"1.1\" viewBox=\"0 0 837 628\" width=\"837px\" zoomAndPan=\"magnify\"><defs/><g><!--MD5=[fbc87193dbaf4d95561dea2c320d4a47]\n",
       "cluster E1--><a href=\"psysml:f5546318-5597-445e-83af-957575abd1f7\" target=\"_top\" title=\"psysml:f5546318-5597-445e-83af-957575abd1f7\" xlink:actuate=\"onRequest\" xlink:href=\"psysml:f5546318-5597-445e-83af-957575abd1f7\" xlink:show=\"new\" xlink:title=\"psysml:f5546318-5597-445e-83af-957575abd1f7\" xlink:type=\"simple\"><polygon fill=\"#FFFFFF\" points=\"16,6,108,6,115,28.2969,815,28.2969,815,616,16,616,16,6\" style=\"stroke: #000000; stroke-width: 1.5;\"/><line style=\"stroke: #000000; stroke-width: 1.5;\" x1=\"16\" x2=\"115\" y1=\"28.2969\" y2=\"28.2969\"/><text fill=\"#000000\" font-family=\"sans-serif\" font-size=\"14\" font-weight=\"bold\" lengthAdjust=\"spacingAndGlyphs\" textLength=\"86\" x=\"20\" y=\"20.9951\">AnalysisTest</text></a><!--MD5=[de5ec2e2e8f62f467e546659f5068c88]\n",
       "cluster E5--><a href=\"psysml:e9833d01-8fa8-4820-af73-47d7be444de9\" target=\"_top\" title=\"psysml:e9833d01-8fa8-4820-af73-47d7be444de9\" xlink:actuate=\"onRequest\" xlink:href=\"psysml:e9833d01-8fa8-4820-af73-47d7be444de9\" xlink:show=\"new\" xlink:title=\"psysml:e9833d01-8fa8-4820-af73-47d7be444de9\" xlink:type=\"simple\"><rect fill=\"#FFFFFF\" height=\"299.5\" id=\"E5\" style=\"stroke: #383838; stroke-width: 1.5;\" width=\"146\" x=\"653\" y=\"74.5\"/><rect fill=\"#F8F8F8\" height=\"37.9375\" style=\"stroke: #383838; stroke-width: 1.5;\" width=\"146\" x=\"653\" y=\"74.5\"/><text fill=\"#000000\" font-family=\"sans-serif\" font-size=\"12\" font-style=\"italic\" lengthAdjust=\"spacingAndGlyphs\" textLength=\"88\" x=\"682\" y=\"90.6387\">«analysis def»</text><text fill=\"#000000\" font-family=\"sans-serif\" font-size=\"12\" lengthAdjust=\"spacingAndGlyphs\" textLength=\"81\" x=\"685.5\" y=\"104.6074\">AnalysisCase</text></a><!--MD5=[55dfccfc6c49c2d10cd1bd2211a6c90c]\n",
       "cluster E8--><a href=\"psysml:8a4520e8-ac51-4a2a-8007-cfc5f8084f42\" target=\"_top\" title=\"psysml:8a4520e8-ac51-4a2a-8007-cfc5f8084f42\" xlink:actuate=\"onRequest\" xlink:href=\"psysml:8a4520e8-ac51-4a2a-8007-cfc5f8084f42\" xlink:show=\"new\" xlink:title=\"psysml:8a4520e8-ac51-4a2a-8007-cfc5f8084f42\" xlink:type=\"simple\"><rect fill=\"#FFFFFF\" height=\"400\" id=\"E8\" style=\"stroke: #383838; stroke-width: 1.5;\" width=\"259\" x=\"279\" y=\"192\"/><rect fill=\"#F8F8F8\" height=\"37.9375\" style=\"stroke: #383838; stroke-width: 1.5;\" width=\"259\" x=\"279\" y=\"192\"/><text fill=\"#000000\" font-family=\"sans-serif\" font-size=\"12\" font-style=\"italic\" lengthAdjust=\"spacingAndGlyphs\" textLength=\"88\" x=\"364.5\" y=\"208.1387\">«analysis def»</text><text fill=\"#000000\" font-family=\"sans-serif\" font-size=\"12\" lengthAdjust=\"spacingAndGlyphs\" textLength=\"77\" x=\"370\" y=\"222.1074\">AnalysisPlan</text></a><!--MD5=[a84b4591f868c1fa4a211716a82f2f0d]\n",
       "cluster E10--><a href=\"psysml:ef775355-9069-4551-a021-5839d9673f3d\" target=\"_top\" title=\"psysml:ef775355-9069-4551-a021-5839d9673f3d\" xlink:actuate=\"onRequest\" xlink:href=\"psysml:ef775355-9069-4551-a021-5839d9673f3d\" xlink:show=\"new\" xlink:title=\"psysml:ef775355-9069-4551-a021-5839d9673f3d\" xlink:type=\"simple\"><rect fill=\"#FFFFFF\" height=\"239\" id=\"E10\" rx=\"10\" ry=\"10\" style=\"stroke: #383838; stroke-width: 1.5;\" width=\"138\" x=\"362\" y=\"315\"/><rect fill=\"#F8F8F8\" height=\"37.9375\" rx=\"10\" ry=\"10\" style=\"stroke: #F8F8F8; stroke-width: 1.5;\" width=\"138\" x=\"362\" y=\"315\"/><rect fill=\"#F8F8F8\" height=\"10\" style=\"stroke: #F8F8F8; stroke-width: 1.5;\" width=\"138\" x=\"362\" y=\"342.9375\"/><rect fill=\"none\" height=\"239\" id=\"E10\" rx=\"10\" ry=\"10\" style=\"stroke: #383838; stroke-width: 1.5;\" width=\"138\" x=\"362\" y=\"315\"/><text fill=\"#000000\" font-family=\"sans-serif\" font-size=\"12\" font-style=\"italic\" lengthAdjust=\"spacingAndGlyphs\" textLength=\"64\" x=\"399\" y=\"331.1387\">«analysis»</text><text fill=\"#000000\" font-family=\"sans-serif\" font-size=\"12\" lengthAdjust=\"spacingAndGlyphs\" textLength=\"81\" x=\"390.5\" y=\"345.1074\">analysisCase</text><line style=\"stroke: #383838; stroke-width: 1.0;\" x1=\"362\" x2=\"500\" y1=\"352.9375\" y2=\"352.9375\"/></a><!--MD5=[b4997ac47864f28c2f74865a473b2911]\n",
       "class E2--><a href=\"psysml:df856138-3406-4a6b-b583-20ed5eacc0cd\" target=\"_top\" title=\"psysml:df856138-3406-4a6b-b583-20ed5eacc0cd\" xlink:actuate=\"onRequest\" xlink:href=\"psysml:df856138-3406-4a6b-b583-20ed5eacc0cd\" xlink:show=\"new\" xlink:title=\"psysml:df856138-3406-4a6b-b583-20ed5eacc0cd\" xlink:type=\"simple\"><rect fill=\"#FFFFFF\" height=\"45.9375\" id=\"E2\" style=\"stroke: #383838; stroke-width: 1.5;\" width=\"66\" x=\"568\" y=\"169\"/><text fill=\"#000000\" font-family=\"sans-serif\" font-size=\"12\" font-style=\"italic\" lengthAdjust=\"spacingAndGlyphs\" textLength=\"64\" x=\"569\" y=\"185.1387\">«part def»</text><text fill=\"#000000\" font-family=\"sans-serif\" font-size=\"12\" lengthAdjust=\"spacingAndGlyphs\" textLength=\"8\" x=\"597\" y=\"199.1074\">V</text><line style=\"stroke: #383838; stroke-width: 1.5;\" x1=\"569\" x2=\"633\" y1=\"206.9375\" y2=\"206.9375\"/></a><!--MD5=[09b614a08d8cba4a07c9adeb5e0fee81]\n",
       "class E3--><a href=\"psysml:a14948af-c637-432a-b299-badb5d3ced27\" target=\"_top\" title=\"psysml:a14948af-c637-432a-b299-badb5d3ced27\" xlink:actuate=\"onRequest\" xlink:href=\"psysml:a14948af-c637-432a-b299-badb5d3ced27\" xlink:show=\"new\" xlink:title=\"psysml:a14948af-c637-432a-b299-badb5d3ced27\" xlink:type=\"simple\"><rect fill=\"#FFFFFF\" height=\"45.9375\" id=\"E3\" rx=\"10\" ry=\"10\" style=\"stroke: #383838; stroke-width: 1.5;\" width=\"42\" x=\"580\" y=\"51.5\"/><text fill=\"#000000\" font-family=\"sans-serif\" font-size=\"12\" font-style=\"italic\" lengthAdjust=\"spacingAndGlyphs\" textLength=\"40\" x=\"581\" y=\"67.6387\">«part»</text><text fill=\"#000000\" font-family=\"sans-serif\" font-size=\"12\" lengthAdjust=\"spacingAndGlyphs\" textLength=\"28\" x=\"587\" y=\"81.6074\">vv: V</text><line style=\"stroke: #383838; stroke-width: 1.5;\" x1=\"581\" x2=\"621\" y1=\"89.4375\" y2=\"89.4375\"/></a><!--MD5=[ebbe1d658d1005bcc118a6aa81145e00]\n",
       "class E4--><a href=\"psysml:b06c710d-6070-489f-855d-95835f572a57\" target=\"_top\" title=\"psysml:b06c710d-6070-489f-855d-95835f572a57\" xlink:actuate=\"onRequest\" xlink:href=\"psysml:b06c710d-6070-489f-855d-95835f572a57\" xlink:show=\"new\" xlink:title=\"psysml:b06c710d-6070-489f-855d-95835f572a57\" xlink:type=\"simple\"><rect fill=\"#FFFFFF\" height=\"66.7422\" id=\"E4\" style=\"stroke: #383838; stroke-width: 1.5;\" width=\"117\" x=\"315.5\" y=\"41\"/><text fill=\"#000000\" font-family=\"sans-serif\" font-size=\"12\" font-style=\"italic\" lengthAdjust=\"spacingAndGlyphs\" textLength=\"115\" x=\"316.5\" y=\"57.1387\">«requirement def»</text><text fill=\"#000000\" font-family=\"sans-serif\" font-size=\"12\" lengthAdjust=\"spacingAndGlyphs\" textLength=\"107\" x=\"320.5\" y=\"71.1074\">AnalysisObjective</text><line style=\"stroke: #383838; stroke-width: 1.5;\" x1=\"316.5\" x2=\"431.5\" y1=\"78.9375\" y2=\"78.9375\"/><text fill=\"#000000\" font-family=\"sans-serif\" font-size=\"11\" lengthAdjust=\"spacingAndGlyphs\" textLength=\"12\" x=\"321.5\" y=\"93.1479\">...</text><line style=\"stroke: #383838; stroke-width: 1.0;\" x1=\"316.5\" x2=\"431.5\" y1=\"99.7422\" y2=\"99.7422\"/></a><!--MD5=[bee11217b2f71d958a27249dc326068c]\n",
       "class E14--><a href=\"psysml:e127547d-9ca6-4380-b459-796effe0b56f\" target=\"_top\" title=\"psysml:e127547d-9ca6-4380-b459-796effe0b56f\" xlink:actuate=\"onRequest\" xlink:href=\"psysml:e127547d-9ca6-4380-b459-796effe0b56f\" xlink:show=\"new\" xlink:title=\"psysml:e127547d-9ca6-4380-b459-796effe0b56f\" xlink:type=\"simple\"><rect fill=\"#FFFFFF\" height=\"45.9375\" id=\"E14\" rx=\"10\" ry=\"10\" style=\"stroke: #383838; stroke-width: 1.5;\" width=\"104\" x=\"64\" y=\"51.5\"/><text fill=\"#000000\" font-family=\"sans-serif\" font-size=\"12\" font-style=\"italic\" lengthAdjust=\"spacingAndGlyphs\" textLength=\"40\" x=\"96\" y=\"67.6387\">«part»</text><text fill=\"#000000\" font-family=\"sans-serif\" font-size=\"12\" lengthAdjust=\"spacingAndGlyphs\" textLength=\"98\" x=\"67\" y=\"81.6074\">analysisContext</text><line style=\"stroke: #383838; stroke-width: 1.5;\" x1=\"65\" x2=\"167\" y1=\"89.4375\" y2=\"89.4375\"/></a><!--MD5=[0c48fb7552dae8cbbef69381101a84c8]\n",
       "class E15--><a href=\"psysml:26b0c0e9-c7c6-4e19-b68b-97e4f04c11f8\" target=\"_top\" title=\"psysml:26b0c0e9-c7c6-4e19-b68b-97e4f04c11f8\" xlink:actuate=\"onRequest\" xlink:href=\"psysml:26b0c0e9-c7c6-4e19-b68b-97e4f04c11f8\" xlink:show=\"new\" xlink:title=\"psysml:26b0c0e9-c7c6-4e19-b68b-97e4f04c11f8\" xlink:type=\"simple\"><rect fill=\"#FFFFFF\" height=\"45.9375\" id=\"E15\" rx=\"10\" ry=\"10\" style=\"stroke: #383838; stroke-width: 1.5;\" width=\"168\" x=\"32\" y=\"169\"/><text fill=\"#000000\" font-family=\"sans-serif\" font-size=\"12\" font-style=\"italic\" lengthAdjust=\"spacingAndGlyphs\" textLength=\"64\" x=\"84\" y=\"185.1387\">«analysis»</text><text fill=\"#000000\" font-family=\"sans-serif\" font-size=\"12\" lengthAdjust=\"spacingAndGlyphs\" textLength=\"162\" x=\"35\" y=\"199.1074\">analysisPlan: AnalysisPlan</text><line style=\"stroke: #383838; stroke-width: 1.5;\" x1=\"33\" x2=\"199\" y1=\"206.9375\" y2=\"206.9375\"/></a><!--MD5=[35f0587eaee8d5bb9a02e25b63afc23b]\n",
       "class E16--><a href=\"psysml:a55f605c-cc05-4fcd-b9b1-1e930756e010\" target=\"_top\" title=\"psysml:a55f605c-cc05-4fcd-b9b1-1e930756e010\" xlink:actuate=\"onRequest\" xlink:href=\"psysml:a55f605c-cc05-4fcd-b9b1-1e930756e010\" xlink:show=\"new\" xlink:title=\"psysml:a55f605c-cc05-4fcd-b9b1-1e930756e010\" xlink:type=\"simple\"><rect fill=\"#FFFFFF\" height=\"45.9375\" id=\"E16\" rx=\"10\" ry=\"10\" style=\"stroke: #383838; stroke-width: 1.5;\" width=\"93\" x=\"69.5\" y=\"292\"/><text fill=\"#000000\" font-family=\"sans-serif\" font-size=\"12\" font-style=\"italic\" lengthAdjust=\"spacingAndGlyphs\" textLength=\"91\" x=\"70.5\" y=\"308.1387\">«requirement»</text><text fill=\"#000000\" font-family=\"sans-serif\" font-size=\"12\" lengthAdjust=\"spacingAndGlyphs\" textLength=\"19\" x=\"106.5\" y=\"322.1074\">obj</text><line style=\"stroke: #383838; stroke-width: 1.5;\" x1=\"70.5\" x2=\"161.5\" y1=\"329.9375\" y2=\"329.9375\"/></a><text fill=\"#000000\" font-family=\"sans-serif\" font-size=\"14\" lengthAdjust=\"spacingAndGlyphs\" textLength=\"7\" x=\"722.5\" y=\"53.1982\">v</text><rect fill=\"#383838\" height=\"12\" style=\"stroke: #F8F8F8; stroke-width: 1.5;\" width=\"12\" x=\"720\" y=\"68.5\"/><text fill=\"#000000\" font-family=\"sans-serif\" font-size=\"14\" lengthAdjust=\"spacingAndGlyphs\" textLength=\"39\" x=\"706.5\" y=\"392.9951\">result</text><rect fill=\"#383838\" height=\"12\" style=\"stroke: #F8F8F8; stroke-width: 1.5;\" width=\"12\" x=\"720\" y=\"368\"/><text fill=\"#000000\" font-family=\"sans-serif\" font-size=\"14\" lengthAdjust=\"spacingAndGlyphs\" textLength=\"7\" x=\"293.5\" y=\"170.6982\">v</text><rect fill=\"#383838\" height=\"12\" style=\"stroke: #F8F8F8; stroke-width: 1.5;\" width=\"12\" x=\"291\" y=\"186\"/><text fill=\"#000000\" font-family=\"sans-serif\" font-size=\"14\" lengthAdjust=\"spacingAndGlyphs\" textLength=\"39\" x=\"518.5\" y=\"499.9951\">result</text><rect fill=\"#383838\" height=\"12\" style=\"stroke: #F8F8F8; stroke-width: 1.5;\" width=\"12\" x=\"532\" y=\"475\"/><text fill=\"#000000\" font-family=\"sans-serif\" font-size=\"14\" lengthAdjust=\"spacingAndGlyphs\" textLength=\"37\" x=\"412.5\" y=\"572.9951\">mass</text><rect fill=\"#383838\" height=\"12\" style=\"stroke: #F8F8F8; stroke-width: 1.5;\" width=\"12\" x=\"425\" y=\"548\"/><text fill=\"#000000\" font-family=\"sans-serif\" font-size=\"14\" lengthAdjust=\"spacingAndGlyphs\" textLength=\"7\" x=\"427.5\" y=\"293.6982\">v</text><rect fill=\"#383838\" height=\"12\" style=\"stroke: #F8F8F8; stroke-width: 1.5;\" width=\"12\" x=\"425\" y=\"309\"/><!--MD5=[05d275557350bfb9b23a4ef7222b4c39]\n",
       "link E3 to E2--><a href=\"psysml:4553bbf6-343c-42bd-a219-72e0d50d2170\" target=\"_top\" title=\"psysml:4553bbf6-343c-42bd-a219-72e0d50d2170\" xlink:actuate=\"onRequest\" xlink:href=\"psysml:4553bbf6-343c-42bd-a219-72e0d50d2170\" xlink:show=\"new\" xlink:title=\"psysml:4553bbf6-343c-42bd-a219-72e0d50d2170\" xlink:type=\"simple\"><path d=\"M601,97.77 C601,112.15 601,131.32 601,148.54 \" fill=\"none\" id=\"E3-&gt;E2\" style=\"stroke: #383838; stroke-width: 1.0;\"/><polygon fill=\"#FFFFFF\" points=\"601,168.8,594,149.8,608,149.8,601,168.8\" style=\"stroke: #383838; stroke-width: 1.0;\"/><ellipse cx=\"596\" cy=\"144.1\" fill=\"#383838\" rx=\"2\" ry=\"2\" style=\"stroke: #383838; stroke-width: 1.0;\"/><ellipse cx=\"606\" cy=\"144.1\" fill=\"#383838\" rx=\"2\" ry=\"2\" style=\"stroke: #383838; stroke-width: 1.0;\"/></a><!--MD5=[17bf29720e4688890742b92d9a67fdf0]\n",
       "reverse link E14 to E15--><a href=\"psysml:cf81c84a-d20a-4a9d-8212-c3de89ec9ad0\" target=\"_top\" title=\"psysml:cf81c84a-d20a-4a9d-8212-c3de89ec9ad0\" xlink:actuate=\"onRequest\" xlink:href=\"psysml:cf81c84a-d20a-4a9d-8212-c3de89ec9ad0\" xlink:show=\"new\" xlink:title=\"psysml:cf81c84a-d20a-4a9d-8212-c3de89ec9ad0\" xlink:type=\"simple\"><path d=\"M116,110.99 C116,129.85 116,152.44 116,168.8 \" fill=\"none\" id=\"E14&lt;-E15\" style=\"stroke: #383838; stroke-width: 1.0;\"/><polygon fill=\"#383838\" points=\"116,97.77,112,103.77,116,109.77,120,103.77,116,97.77\" style=\"stroke: #383838; stroke-width: 1.0;\"/></a><!--MD5=[1b01d5b954197aaf3899ca0bde35faf5]\n",
       "link E15 to E8--><a href=\"psysml:31ecf0da-b030-4520-be0f-3ece1376fb5f\" target=\"_top\" title=\"psysml:31ecf0da-b030-4520-be0f-3ece1376fb5f\" xlink:actuate=\"onRequest\" xlink:href=\"psysml:31ecf0da-b030-4520-be0f-3ece1376fb5f\" xlink:show=\"new\" xlink:title=\"psysml:31ecf0da-b030-4520-be0f-3ece1376fb5f\" xlink:type=\"simple\"><path d=\"M152.22,215.11 C166.86,224.19 183.85,234.93 199,245 C225.17,262.39 254.56,283.27 274.27,297.48 \" fill=\"none\" id=\"E15-&gt;E8\" style=\"stroke: #383838; stroke-width: 1.0;\"/><polygon fill=\"#FFFFFF\" points=\"274.27,297.48,254.7641,292.0467,262.9515,280.6904,274.27,297.48\" style=\"stroke: #383838; stroke-width: 1.0;\"/><ellipse cx=\"251.3101\" cy=\"287.0909\" fill=\"#383838\" rx=\"2\" ry=\"2\" style=\"stroke: #383838; stroke-width: 1.0;\"/><ellipse cx=\"257.1582\" cy=\"278.9793\" fill=\"#383838\" rx=\"2\" ry=\"2\" style=\"stroke: #383838; stroke-width: 1.0;\"/></a><!--MD5=[f8b155c46b092be73bb522b0a8fc72a2]\n",
       "link E15 to E16--><a href=\"psysml:aa3a7955-6ed3-447d-b0ee-a09ada8803a4\" target=\"_top\" title=\"psysml:aa3a7955-6ed3-447d-b0ee-a09ada8803a4\" xlink:actuate=\"onRequest\" xlink:href=\"psysml:aa3a7955-6ed3-447d-b0ee-a09ada8803a4\" xlink:show=\"new\" xlink:title=\"psysml:aa3a7955-6ed3-447d-b0ee-a09ada8803a4\" xlink:type=\"simple\"><path d=\"M116,215.19 C116,234.47 116,262.55 116,283.86 \" fill=\"none\" id=\"E15-&gt;E16\" style=\"stroke: #383838; stroke-width: 1.0;\"/><polygon fill=\"#383838\" points=\"116,291.95,119,283.95,113,283.95,116,291.95\" style=\"stroke: #383838; stroke-width: 1.0;\"/><text fill=\"#000000\" font-family=\"sans-serif\" font-size=\"13\" lengthAdjust=\"spacingAndGlyphs\" textLength=\"73\" x=\"117\" y=\"258.0669\">«objective»</text><text fill=\"#000000\" font-family=\"sans-serif\" font-size=\"13\" lengthAdjust=\"spacingAndGlyphs\" textLength=\"8\" x=\"106.925\" y=\"280.8328\">1</text></a><!--MD5=[7eed4547b331dba38a73a2896f6d57f3]\n",
       "@startuml\r\n",
       "top to bottom direction\r\n",
       "skinparam monochrome true\r\n",
       "skinparam classbackgroundcolor white\r\n",
       "skinparam shadowing false\r\n",
       "skinparam wrapWidth 300\r\n",
       "hide circle\r\n",
       "\r\n",
       "package \"AnalysisTest\" as E1  [[psysml:f5546318-5597-445e-83af-957575abd1f7 ]]  {\r\n",
       "comp def \"V\" as E2  <<(T,blue) part def>> [[psysml:df856138-3406-4a6b-b583-20ed5eacc0cd ]] {\r\n",
       "}\r\n",
       "comp usage \"vv: V\" as E3  <<(T,blue) part>> [[psysml:a14948af-c637-432a-b299-badb5d3ced27 ]] {\r\n",
       "}\r\n",
       "comp def \"AnalysisObjective\" as E4  <<(T,blue) requirement def>> [[psysml:b06c710d-6070-489f-855d-95835f572a57 ]] {\r\n",
       "...\r\n",
       "- -\r\n",
       "}\r\n",
       "rec def \"AnalysisCase\" as E5 << analysis def>> [[psysml:e9833d01-8fa8-4820-af73-47d7be444de9 ]] {\r\n",
       "portin \"v\" as E6  [[psysml:fc36d359-2f0c-4a32-9d15-fff2be0a8869 ]] \r\n",
       "portout \"result\" as E7  [[psysml:7ffbe20f-c891-4b52-987b-0be8eb99b87a ]] \r\n",
       "}\r\n",
       "\r\n",
       "rec def \"AnalysisPlan\" as E8 << analysis def>> [[psysml:8a4520e8-ac51-4a2a-8007-cfc5f8084f42 ]] {\r\n",
       "portin \"v\" as E9  [[psysml:7635dc34-c4d2-4388-b045-3a6cac182eef ]] \r\n",
       "rec usage \"analysisCase\" as E10 << analysis>> [[psysml:ef775355-9069-4551-a021-5839d9673f3d ]] {\r\n",
       "portout \"mass\" as E11  [[psysml:56f340db-5793-4dc6-898e-9e0a5f90ef66 ]] \r\n",
       "portin \"v\" as E12  [[psysml:d8dc3b58-26c5-4e6e-82f3-a4f0880c0fd9 ]] \r\n",
       "}\r\n",
       "\r\n",
       "portout \"result\" as E13  [[psysml:55ba6aa8-4536-4622-ad3c-e7c6595a0034 ]] \r\n",
       "}\r\n",
       "\r\n",
       "comp usage \"analysisContext\" as E14  <<(T,blue) part>> [[psysml:e127547d-9ca6-4380-b459-796effe0b56f ]] {\r\n",
       "}\r\n",
       "comp usage \"analysisPlan: AnalysisPlan\" as E15 << analysis>> [[psysml:26b0c0e9-c7c6-4e19-b68b-97e4f04c11f8 ]] {\r\n",
       "}\r\n",
       "comp usage \"obj\" as E16  <<(T,blue) requirement>> [[psysml:a55f605c-cc05-4fcd-b9b1-1e930756e010 ]] {\r\n",
       "}\r\n",
       "}\r\n",
       "E3 - -:|> E2 [[psysml:4553bbf6-343c-42bd-a219-72e0d50d2170 ]] \r\n",
       "E14 *- - E15 [[psysml:cf81c84a-d20a-4a9d-8212-c3de89ec9ad0 ]] \r\n",
       "E15 - -:|> E8 [[psysml:31ecf0da-b030-4520-be0f-3ece1376fb5f ]] \r\n",
       "E15 - ->> \"1\"E16 [[psysml:aa3a7955-6ed3-447d-b0ee-a09ada8803a4 ]] : <<objective>>\r\n",
       "@enduml\r\n",
       "\n",
       "PlantUML version 1.2020.13(Sat Jun 13 12:26:38 UTC 2020)\n",
       "(EPL source distribution)\n",
       "Java Runtime: OpenJDK Runtime Environment\n",
       "JVM: OpenJDK 64-Bit Server VM\n",
       "Default Encoding: UTF-8\n",
       "Language: en\n",
       "Country: null\n",
       "--></g></svg>"
      ]
     },
     "execution_count": 50,
     "metadata": {},
     "output_type": "execute_result"
    }
   ],
   "source": [
    "%viz --style=\"TB\" --view=\"MIXED\" \"AnalysisTest\""
   ]
  },
  {
   "cell_type": "code",
   "execution_count": 51,
   "id": "81562e78",
   "metadata": {
    "execution": {
     "iopub.execute_input": "2021-09-27T07:15:32.569996Z",
     "iopub.status.busy": "2021-09-27T07:15:32.569579Z",
     "iopub.status.idle": "2021-09-27T07:15:32.598806Z",
     "shell.execute_reply": "2021-09-27T07:15:32.597510Z"
    }
   },
   "outputs": [
    {
     "data": {
      "image/svg+xml": [
       "<?xml version=\"1.0\" encoding=\"UTF-8\" standalone=\"no\"?><svg xmlns=\"http://www.w3.org/2000/svg\" xmlns:xlink=\"http://www.w3.org/1999/xlink\" contentScriptType=\"application/ecmascript\" contentStyleType=\"text/css\" height=\"628px\" preserveAspectRatio=\"none\" style=\"width:837px;height:628px;\" version=\"1.1\" viewBox=\"0 0 837 628\" width=\"837px\" zoomAndPan=\"magnify\"><defs/><g><!--MD5=[fbc87193dbaf4d95561dea2c320d4a47]\n",
       "cluster E1--><a href=\"psysml:f5546318-5597-445e-83af-957575abd1f7\" target=\"_top\" title=\"psysml:f5546318-5597-445e-83af-957575abd1f7\" xlink:actuate=\"onRequest\" xlink:href=\"psysml:f5546318-5597-445e-83af-957575abd1f7\" xlink:show=\"new\" xlink:title=\"psysml:f5546318-5597-445e-83af-957575abd1f7\" xlink:type=\"simple\"><polygon fill=\"#FFFFFF\" points=\"16,6,108,6,115,28.2969,815,28.2969,815,616,16,616,16,6\" style=\"stroke: #000000; stroke-width: 1.5;\"/><line style=\"stroke: #000000; stroke-width: 1.5;\" x1=\"16\" x2=\"115\" y1=\"28.2969\" y2=\"28.2969\"/><text fill=\"#000000\" font-family=\"sans-serif\" font-size=\"14\" font-weight=\"bold\" lengthAdjust=\"spacingAndGlyphs\" textLength=\"86\" x=\"20\" y=\"20.9951\">AnalysisTest</text></a><!--MD5=[de5ec2e2e8f62f467e546659f5068c88]\n",
       "cluster E5--><a href=\"psysml:e9833d01-8fa8-4820-af73-47d7be444de9\" target=\"_top\" title=\"psysml:e9833d01-8fa8-4820-af73-47d7be444de9\" xlink:actuate=\"onRequest\" xlink:href=\"psysml:e9833d01-8fa8-4820-af73-47d7be444de9\" xlink:show=\"new\" xlink:title=\"psysml:e9833d01-8fa8-4820-af73-47d7be444de9\" xlink:type=\"simple\"><rect fill=\"#FFFFFF\" height=\"299.5\" id=\"E5\" style=\"stroke: #383838; stroke-width: 1.5;\" width=\"146\" x=\"653\" y=\"74.5\"/><rect fill=\"#F8F8F8\" height=\"37.9375\" style=\"stroke: #383838; stroke-width: 1.5;\" width=\"146\" x=\"653\" y=\"74.5\"/><text fill=\"#000000\" font-family=\"sans-serif\" font-size=\"12\" font-style=\"italic\" lengthAdjust=\"spacingAndGlyphs\" textLength=\"88\" x=\"682\" y=\"90.6387\">«analysis def»</text><text fill=\"#000000\" font-family=\"sans-serif\" font-size=\"12\" lengthAdjust=\"spacingAndGlyphs\" textLength=\"81\" x=\"685.5\" y=\"104.6074\">AnalysisCase</text></a><!--MD5=[55dfccfc6c49c2d10cd1bd2211a6c90c]\n",
       "cluster E8--><a href=\"psysml:8a4520e8-ac51-4a2a-8007-cfc5f8084f42\" target=\"_top\" title=\"psysml:8a4520e8-ac51-4a2a-8007-cfc5f8084f42\" xlink:actuate=\"onRequest\" xlink:href=\"psysml:8a4520e8-ac51-4a2a-8007-cfc5f8084f42\" xlink:show=\"new\" xlink:title=\"psysml:8a4520e8-ac51-4a2a-8007-cfc5f8084f42\" xlink:type=\"simple\"><rect fill=\"#FFFFFF\" height=\"400\" id=\"E8\" style=\"stroke: #383838; stroke-width: 1.5;\" width=\"259\" x=\"279\" y=\"192\"/><rect fill=\"#F8F8F8\" height=\"37.9375\" style=\"stroke: #383838; stroke-width: 1.5;\" width=\"259\" x=\"279\" y=\"192\"/><text fill=\"#000000\" font-family=\"sans-serif\" font-size=\"12\" font-style=\"italic\" lengthAdjust=\"spacingAndGlyphs\" textLength=\"88\" x=\"364.5\" y=\"208.1387\">«analysis def»</text><text fill=\"#000000\" font-family=\"sans-serif\" font-size=\"12\" lengthAdjust=\"spacingAndGlyphs\" textLength=\"77\" x=\"370\" y=\"222.1074\">AnalysisPlan</text></a><!--MD5=[a84b4591f868c1fa4a211716a82f2f0d]\n",
       "cluster E10--><a href=\"psysml:ef775355-9069-4551-a021-5839d9673f3d\" target=\"_top\" title=\"psysml:ef775355-9069-4551-a021-5839d9673f3d\" xlink:actuate=\"onRequest\" xlink:href=\"psysml:ef775355-9069-4551-a021-5839d9673f3d\" xlink:show=\"new\" xlink:title=\"psysml:ef775355-9069-4551-a021-5839d9673f3d\" xlink:type=\"simple\"><rect fill=\"#FFFFFF\" height=\"239\" id=\"E10\" rx=\"10\" ry=\"10\" style=\"stroke: #383838; stroke-width: 1.5;\" width=\"138\" x=\"362\" y=\"315\"/><rect fill=\"#F8F8F8\" height=\"37.9375\" rx=\"10\" ry=\"10\" style=\"stroke: #F8F8F8; stroke-width: 1.5;\" width=\"138\" x=\"362\" y=\"315\"/><rect fill=\"#F8F8F8\" height=\"10\" style=\"stroke: #F8F8F8; stroke-width: 1.5;\" width=\"138\" x=\"362\" y=\"342.9375\"/><rect fill=\"none\" height=\"239\" id=\"E10\" rx=\"10\" ry=\"10\" style=\"stroke: #383838; stroke-width: 1.5;\" width=\"138\" x=\"362\" y=\"315\"/><text fill=\"#000000\" font-family=\"sans-serif\" font-size=\"12\" font-style=\"italic\" lengthAdjust=\"spacingAndGlyphs\" textLength=\"64\" x=\"399\" y=\"331.1387\">«analysis»</text><text fill=\"#000000\" font-family=\"sans-serif\" font-size=\"12\" lengthAdjust=\"spacingAndGlyphs\" textLength=\"81\" x=\"390.5\" y=\"345.1074\">analysisCase</text><line style=\"stroke: #383838; stroke-width: 1.0;\" x1=\"362\" x2=\"500\" y1=\"352.9375\" y2=\"352.9375\"/></a><!--MD5=[b4997ac47864f28c2f74865a473b2911]\n",
       "class E2--><a href=\"psysml:df856138-3406-4a6b-b583-20ed5eacc0cd\" target=\"_top\" title=\"psysml:df856138-3406-4a6b-b583-20ed5eacc0cd\" xlink:actuate=\"onRequest\" xlink:href=\"psysml:df856138-3406-4a6b-b583-20ed5eacc0cd\" xlink:show=\"new\" xlink:title=\"psysml:df856138-3406-4a6b-b583-20ed5eacc0cd\" xlink:type=\"simple\"><rect fill=\"#FFFFFF\" height=\"45.9375\" id=\"E2\" style=\"stroke: #383838; stroke-width: 1.5;\" width=\"66\" x=\"568\" y=\"169\"/><text fill=\"#000000\" font-family=\"sans-serif\" font-size=\"12\" font-style=\"italic\" lengthAdjust=\"spacingAndGlyphs\" textLength=\"64\" x=\"569\" y=\"185.1387\">«part def»</text><text fill=\"#000000\" font-family=\"sans-serif\" font-size=\"12\" lengthAdjust=\"spacingAndGlyphs\" textLength=\"8\" x=\"597\" y=\"199.1074\">V</text><line style=\"stroke: #383838; stroke-width: 1.5;\" x1=\"569\" x2=\"633\" y1=\"206.9375\" y2=\"206.9375\"/></a><!--MD5=[09b614a08d8cba4a07c9adeb5e0fee81]\n",
       "class E3--><a href=\"psysml:a14948af-c637-432a-b299-badb5d3ced27\" target=\"_top\" title=\"psysml:a14948af-c637-432a-b299-badb5d3ced27\" xlink:actuate=\"onRequest\" xlink:href=\"psysml:a14948af-c637-432a-b299-badb5d3ced27\" xlink:show=\"new\" xlink:title=\"psysml:a14948af-c637-432a-b299-badb5d3ced27\" xlink:type=\"simple\"><rect fill=\"#FFFFFF\" height=\"45.9375\" id=\"E3\" rx=\"10\" ry=\"10\" style=\"stroke: #383838; stroke-width: 1.5;\" width=\"42\" x=\"580\" y=\"51.5\"/><text fill=\"#000000\" font-family=\"sans-serif\" font-size=\"12\" font-style=\"italic\" lengthAdjust=\"spacingAndGlyphs\" textLength=\"40\" x=\"581\" y=\"67.6387\">«part»</text><text fill=\"#000000\" font-family=\"sans-serif\" font-size=\"12\" lengthAdjust=\"spacingAndGlyphs\" textLength=\"28\" x=\"587\" y=\"81.6074\">vv: V</text><line style=\"stroke: #383838; stroke-width: 1.5;\" x1=\"581\" x2=\"621\" y1=\"89.4375\" y2=\"89.4375\"/></a><!--MD5=[ebbe1d658d1005bcc118a6aa81145e00]\n",
       "class E4--><a href=\"psysml:b06c710d-6070-489f-855d-95835f572a57\" target=\"_top\" title=\"psysml:b06c710d-6070-489f-855d-95835f572a57\" xlink:actuate=\"onRequest\" xlink:href=\"psysml:b06c710d-6070-489f-855d-95835f572a57\" xlink:show=\"new\" xlink:title=\"psysml:b06c710d-6070-489f-855d-95835f572a57\" xlink:type=\"simple\"><rect fill=\"#FFFFFF\" height=\"66.7422\" id=\"E4\" style=\"stroke: #383838; stroke-width: 1.5;\" width=\"117\" x=\"315.5\" y=\"41\"/><text fill=\"#000000\" font-family=\"sans-serif\" font-size=\"12\" font-style=\"italic\" lengthAdjust=\"spacingAndGlyphs\" textLength=\"115\" x=\"316.5\" y=\"57.1387\">«requirement def»</text><text fill=\"#000000\" font-family=\"sans-serif\" font-size=\"12\" lengthAdjust=\"spacingAndGlyphs\" textLength=\"107\" x=\"320.5\" y=\"71.1074\">AnalysisObjective</text><line style=\"stroke: #383838; stroke-width: 1.5;\" x1=\"316.5\" x2=\"431.5\" y1=\"78.9375\" y2=\"78.9375\"/><text fill=\"#000000\" font-family=\"sans-serif\" font-size=\"11\" lengthAdjust=\"spacingAndGlyphs\" textLength=\"12\" x=\"321.5\" y=\"93.1479\">...</text><line style=\"stroke: #383838; stroke-width: 1.0;\" x1=\"316.5\" x2=\"431.5\" y1=\"99.7422\" y2=\"99.7422\"/></a><!--MD5=[bee11217b2f71d958a27249dc326068c]\n",
       "class E14--><a href=\"psysml:e127547d-9ca6-4380-b459-796effe0b56f\" target=\"_top\" title=\"psysml:e127547d-9ca6-4380-b459-796effe0b56f\" xlink:actuate=\"onRequest\" xlink:href=\"psysml:e127547d-9ca6-4380-b459-796effe0b56f\" xlink:show=\"new\" xlink:title=\"psysml:e127547d-9ca6-4380-b459-796effe0b56f\" xlink:type=\"simple\"><rect fill=\"#FFFFFF\" height=\"45.9375\" id=\"E14\" rx=\"10\" ry=\"10\" style=\"stroke: #383838; stroke-width: 1.5;\" width=\"104\" x=\"64\" y=\"51.5\"/><text fill=\"#000000\" font-family=\"sans-serif\" font-size=\"12\" font-style=\"italic\" lengthAdjust=\"spacingAndGlyphs\" textLength=\"40\" x=\"96\" y=\"67.6387\">«part»</text><text fill=\"#000000\" font-family=\"sans-serif\" font-size=\"12\" lengthAdjust=\"spacingAndGlyphs\" textLength=\"98\" x=\"67\" y=\"81.6074\">analysisContext</text><line style=\"stroke: #383838; stroke-width: 1.5;\" x1=\"65\" x2=\"167\" y1=\"89.4375\" y2=\"89.4375\"/></a><!--MD5=[0c48fb7552dae8cbbef69381101a84c8]\n",
       "class E15--><a href=\"psysml:26b0c0e9-c7c6-4e19-b68b-97e4f04c11f8\" target=\"_top\" title=\"psysml:26b0c0e9-c7c6-4e19-b68b-97e4f04c11f8\" xlink:actuate=\"onRequest\" xlink:href=\"psysml:26b0c0e9-c7c6-4e19-b68b-97e4f04c11f8\" xlink:show=\"new\" xlink:title=\"psysml:26b0c0e9-c7c6-4e19-b68b-97e4f04c11f8\" xlink:type=\"simple\"><rect fill=\"#FFFFFF\" height=\"45.9375\" id=\"E15\" rx=\"10\" ry=\"10\" style=\"stroke: #383838; stroke-width: 1.5;\" width=\"168\" x=\"32\" y=\"169\"/><text fill=\"#000000\" font-family=\"sans-serif\" font-size=\"12\" font-style=\"italic\" lengthAdjust=\"spacingAndGlyphs\" textLength=\"64\" x=\"84\" y=\"185.1387\">«analysis»</text><text fill=\"#000000\" font-family=\"sans-serif\" font-size=\"12\" lengthAdjust=\"spacingAndGlyphs\" textLength=\"162\" x=\"35\" y=\"199.1074\">analysisPlan: AnalysisPlan</text><line style=\"stroke: #383838; stroke-width: 1.5;\" x1=\"33\" x2=\"199\" y1=\"206.9375\" y2=\"206.9375\"/></a><!--MD5=[35f0587eaee8d5bb9a02e25b63afc23b]\n",
       "class E16--><a href=\"psysml:a55f605c-cc05-4fcd-b9b1-1e930756e010\" target=\"_top\" title=\"psysml:a55f605c-cc05-4fcd-b9b1-1e930756e010\" xlink:actuate=\"onRequest\" xlink:href=\"psysml:a55f605c-cc05-4fcd-b9b1-1e930756e010\" xlink:show=\"new\" xlink:title=\"psysml:a55f605c-cc05-4fcd-b9b1-1e930756e010\" xlink:type=\"simple\"><rect fill=\"#FFFFFF\" height=\"45.9375\" id=\"E16\" rx=\"10\" ry=\"10\" style=\"stroke: #383838; stroke-width: 1.5;\" width=\"93\" x=\"69.5\" y=\"292\"/><text fill=\"#000000\" font-family=\"sans-serif\" font-size=\"12\" font-style=\"italic\" lengthAdjust=\"spacingAndGlyphs\" textLength=\"91\" x=\"70.5\" y=\"308.1387\">«requirement»</text><text fill=\"#000000\" font-family=\"sans-serif\" font-size=\"12\" lengthAdjust=\"spacingAndGlyphs\" textLength=\"19\" x=\"106.5\" y=\"322.1074\">obj</text><line style=\"stroke: #383838; stroke-width: 1.5;\" x1=\"70.5\" x2=\"161.5\" y1=\"329.9375\" y2=\"329.9375\"/></a><text fill=\"#000000\" font-family=\"sans-serif\" font-size=\"14\" lengthAdjust=\"spacingAndGlyphs\" textLength=\"7\" x=\"722.5\" y=\"53.1982\">v</text><rect fill=\"#383838\" height=\"12\" style=\"stroke: #F8F8F8; stroke-width: 1.5;\" width=\"12\" x=\"720\" y=\"68.5\"/><text fill=\"#000000\" font-family=\"sans-serif\" font-size=\"14\" lengthAdjust=\"spacingAndGlyphs\" textLength=\"39\" x=\"706.5\" y=\"392.9951\">result</text><rect fill=\"#383838\" height=\"12\" style=\"stroke: #F8F8F8; stroke-width: 1.5;\" width=\"12\" x=\"720\" y=\"368\"/><text fill=\"#000000\" font-family=\"sans-serif\" font-size=\"14\" lengthAdjust=\"spacingAndGlyphs\" textLength=\"7\" x=\"293.5\" y=\"170.6982\">v</text><rect fill=\"#383838\" height=\"12\" style=\"stroke: #F8F8F8; stroke-width: 1.5;\" width=\"12\" x=\"291\" y=\"186\"/><text fill=\"#000000\" font-family=\"sans-serif\" font-size=\"14\" lengthAdjust=\"spacingAndGlyphs\" textLength=\"39\" x=\"518.5\" y=\"499.9951\">result</text><rect fill=\"#383838\" height=\"12\" style=\"stroke: #F8F8F8; stroke-width: 1.5;\" width=\"12\" x=\"532\" y=\"475\"/><text fill=\"#000000\" font-family=\"sans-serif\" font-size=\"14\" lengthAdjust=\"spacingAndGlyphs\" textLength=\"37\" x=\"412.5\" y=\"572.9951\">mass</text><rect fill=\"#383838\" height=\"12\" style=\"stroke: #F8F8F8; stroke-width: 1.5;\" width=\"12\" x=\"425\" y=\"548\"/><text fill=\"#000000\" font-family=\"sans-serif\" font-size=\"14\" lengthAdjust=\"spacingAndGlyphs\" textLength=\"7\" x=\"427.5\" y=\"293.6982\">v</text><rect fill=\"#383838\" height=\"12\" style=\"stroke: #F8F8F8; stroke-width: 1.5;\" width=\"12\" x=\"425\" y=\"309\"/><!--MD5=[05d275557350bfb9b23a4ef7222b4c39]\n",
       "link E3 to E2--><a href=\"psysml:4553bbf6-343c-42bd-a219-72e0d50d2170\" target=\"_top\" title=\"psysml:4553bbf6-343c-42bd-a219-72e0d50d2170\" xlink:actuate=\"onRequest\" xlink:href=\"psysml:4553bbf6-343c-42bd-a219-72e0d50d2170\" xlink:show=\"new\" xlink:title=\"psysml:4553bbf6-343c-42bd-a219-72e0d50d2170\" xlink:type=\"simple\"><path d=\"M601,97.71 C601,97.71 601,148.83 601,148.83 \" fill=\"none\" id=\"E3-&gt;E2\" style=\"stroke: #383838; stroke-width: 1.0;\"/><polygon fill=\"#FFFFFF\" points=\"601,168.83,594,149.83,608,149.83,601,168.83\" style=\"stroke: #383838; stroke-width: 1.0;\"/><ellipse cx=\"596\" cy=\"144.13\" fill=\"#383838\" rx=\"2\" ry=\"2\" style=\"stroke: #383838; stroke-width: 1.0;\"/><ellipse cx=\"606\" cy=\"144.13\" fill=\"#383838\" rx=\"2\" ry=\"2\" style=\"stroke: #383838; stroke-width: 1.0;\"/></a><!--MD5=[17bf29720e4688890742b92d9a67fdf0]\n",
       "reverse link E14 to E15--><a href=\"psysml:cf81c84a-d20a-4a9d-8212-c3de89ec9ad0\" target=\"_top\" title=\"psysml:cf81c84a-d20a-4a9d-8212-c3de89ec9ad0\" xlink:actuate=\"onRequest\" xlink:href=\"psysml:cf81c84a-d20a-4a9d-8212-c3de89ec9ad0\" xlink:show=\"new\" xlink:title=\"psysml:cf81c84a-d20a-4a9d-8212-c3de89ec9ad0\" xlink:type=\"simple\"><path d=\"M116,110.71 C116,110.71 116,168.83 116,168.83 \" fill=\"none\" id=\"E14&lt;-E15\" style=\"stroke: #383838; stroke-width: 1.0;\"/><polygon fill=\"#383838\" points=\"116,97.71,112,103.71,116,109.71,120,103.71,116,97.71\" style=\"stroke: #383838; stroke-width: 1.0;\"/></a><!--MD5=[1b01d5b954197aaf3899ca0bde35faf5]\n",
       "link E15 to E8--><a href=\"psysml:31ecf0da-b030-4520-be0f-3ece1376fb5f\" target=\"_top\" title=\"psysml:31ecf0da-b030-4520-be0f-3ece1376fb5f\" xlink:actuate=\"onRequest\" xlink:href=\"psysml:31ecf0da-b030-4520-be0f-3ece1376fb5f\" xlink:show=\"new\" xlink:title=\"psysml:31ecf0da-b030-4520-be0f-3ece1376fb5f\" xlink:type=\"simple\"><path d=\"M200.36,207 C234.27,207 265.5,207 265.5,207 C265.5,207 265.5,266.49 265.5,297.17 \" fill=\"none\" id=\"E15-&gt;E8\" style=\"stroke: #383838; stroke-width: 1.0;\"/><polygon fill=\"#FFFFFF\" points=\"265.5,297.17,258.5,278.17,272.5,278.17,265.5,297.17\" style=\"stroke: #383838; stroke-width: 1.0;\"/><ellipse cx=\"260.5\" cy=\"272.47\" fill=\"#383838\" rx=\"2\" ry=\"2\" style=\"stroke: #383838; stroke-width: 1.0;\"/><ellipse cx=\"270.5\" cy=\"272.47\" fill=\"#383838\" rx=\"2\" ry=\"2\" style=\"stroke: #383838; stroke-width: 1.0;\"/></a><!--MD5=[f8b155c46b092be73bb522b0a8fc72a2]\n",
       "link E15 to E16--><a href=\"psysml:aa3a7955-6ed3-447d-b0ee-a09ada8803a4\" target=\"_top\" title=\"psysml:aa3a7955-6ed3-447d-b0ee-a09ada8803a4\" xlink:actuate=\"onRequest\" xlink:href=\"psysml:aa3a7955-6ed3-447d-b0ee-a09ada8803a4\" xlink:show=\"new\" xlink:title=\"psysml:aa3a7955-6ed3-447d-b0ee-a09ada8803a4\" xlink:type=\"simple\"><path d=\"M116,215.14 C116,215.14 116,283.97 116,283.97 \" fill=\"none\" id=\"E15-&gt;E16\" style=\"stroke: #383838; stroke-width: 1.0;\"/><polygon fill=\"#383838\" points=\"116,291.97,119,283.97,113,283.97,116,291.97\" style=\"stroke: #383838; stroke-width: 1.0;\"/><text fill=\"#000000\" font-family=\"sans-serif\" font-size=\"13\" lengthAdjust=\"spacingAndGlyphs\" textLength=\"73\" x=\"117\" y=\"258.0669\">«objective»</text><text fill=\"#000000\" font-family=\"sans-serif\" font-size=\"13\" lengthAdjust=\"spacingAndGlyphs\" textLength=\"8\" x=\"106.925\" y=\"280.8582\">1</text></a><!--MD5=[7342f6cb9725a07dc58622ac094e0b91]\n",
       "@startuml\r\n",
       "skinparam linetype ortho\r\n",
       "skinparam monochrome true\r\n",
       "skinparam classbackgroundcolor white\r\n",
       "skinparam shadowing false\r\n",
       "skinparam wrapWidth 300\r\n",
       "hide circle\r\n",
       "\r\n",
       "package \"AnalysisTest\" as E1  [[psysml:f5546318-5597-445e-83af-957575abd1f7 ]]  {\r\n",
       "comp def \"V\" as E2  <<(T,blue) part def>> [[psysml:df856138-3406-4a6b-b583-20ed5eacc0cd ]] {\r\n",
       "}\r\n",
       "comp usage \"vv: V\" as E3  <<(T,blue) part>> [[psysml:a14948af-c637-432a-b299-badb5d3ced27 ]] {\r\n",
       "}\r\n",
       "comp def \"AnalysisObjective\" as E4  <<(T,blue) requirement def>> [[psysml:b06c710d-6070-489f-855d-95835f572a57 ]] {\r\n",
       "...\r\n",
       "- -\r\n",
       "}\r\n",
       "rec def \"AnalysisCase\" as E5 << analysis def>> [[psysml:e9833d01-8fa8-4820-af73-47d7be444de9 ]] {\r\n",
       "portin \"v\" as E6  [[psysml:fc36d359-2f0c-4a32-9d15-fff2be0a8869 ]] \r\n",
       "portout \"result\" as E7  [[psysml:7ffbe20f-c891-4b52-987b-0be8eb99b87a ]] \r\n",
       "}\r\n",
       "\r\n",
       "rec def \"AnalysisPlan\" as E8 << analysis def>> [[psysml:8a4520e8-ac51-4a2a-8007-cfc5f8084f42 ]] {\r\n",
       "portin \"v\" as E9  [[psysml:7635dc34-c4d2-4388-b045-3a6cac182eef ]] \r\n",
       "rec usage \"analysisCase\" as E10 << analysis>> [[psysml:ef775355-9069-4551-a021-5839d9673f3d ]] {\r\n",
       "portout \"mass\" as E11  [[psysml:56f340db-5793-4dc6-898e-9e0a5f90ef66 ]] \r\n",
       "portin \"v\" as E12  [[psysml:d8dc3b58-26c5-4e6e-82f3-a4f0880c0fd9 ]] \r\n",
       "}\r\n",
       "\r\n",
       "portout \"result\" as E13  [[psysml:55ba6aa8-4536-4622-ad3c-e7c6595a0034 ]] \r\n",
       "}\r\n",
       "\r\n",
       "comp usage \"analysisContext\" as E14  <<(T,blue) part>> [[psysml:e127547d-9ca6-4380-b459-796effe0b56f ]] {\r\n",
       "}\r\n",
       "comp usage \"analysisPlan: AnalysisPlan\" as E15 << analysis>> [[psysml:26b0c0e9-c7c6-4e19-b68b-97e4f04c11f8 ]] {\r\n",
       "}\r\n",
       "comp usage \"obj\" as E16  <<(T,blue) requirement>> [[psysml:a55f605c-cc05-4fcd-b9b1-1e930756e010 ]] {\r\n",
       "}\r\n",
       "}\r\n",
       "E3 - -:|> E2 [[psysml:4553bbf6-343c-42bd-a219-72e0d50d2170 ]] \r\n",
       "E14 *- - E15 [[psysml:cf81c84a-d20a-4a9d-8212-c3de89ec9ad0 ]] \r\n",
       "E15 - -:|> E8 [[psysml:31ecf0da-b030-4520-be0f-3ece1376fb5f ]] \r\n",
       "E15 - ->> \"1\"E16 [[psysml:aa3a7955-6ed3-447d-b0ee-a09ada8803a4 ]] : <<objective>>\r\n",
       "@enduml\r\n",
       "\n",
       "PlantUML version 1.2020.13(Sat Jun 13 12:26:38 UTC 2020)\n",
       "(EPL source distribution)\n",
       "Java Runtime: OpenJDK Runtime Environment\n",
       "JVM: OpenJDK 64-Bit Server VM\n",
       "Default Encoding: UTF-8\n",
       "Language: en\n",
       "Country: null\n",
       "--></g></svg>"
      ]
     },
     "execution_count": 51,
     "metadata": {},
     "output_type": "execute_result"
    }
   ],
   "source": [
    "%viz --style=\"ORTHOLINE\" --view=\"Default\" \"AnalysisTest\""
   ]
  },
  {
   "cell_type": "code",
   "execution_count": 52,
   "id": "bec7a3ac",
   "metadata": {
    "execution": {
     "iopub.execute_input": "2021-09-27T07:15:32.648143Z",
     "iopub.status.busy": "2021-09-27T07:15:32.647746Z",
     "iopub.status.idle": "2021-09-27T07:15:32.683476Z",
     "shell.execute_reply": "2021-09-27T07:15:32.682139Z"
    }
   },
   "outputs": [
    {
     "data": {
      "image/svg+xml": [
       "<?xml version=\"1.0\" encoding=\"UTF-8\" standalone=\"no\"?><svg xmlns=\"http://www.w3.org/2000/svg\" xmlns:xlink=\"http://www.w3.org/1999/xlink\" contentScriptType=\"application/ecmascript\" contentStyleType=\"text/css\" height=\"863px\" preserveAspectRatio=\"none\" style=\"width:412px;height:863px;\" version=\"1.1\" viewBox=\"0 0 412 863\" width=\"412px\" zoomAndPan=\"magnify\"><defs/><g><!--MD5=[fbc87193dbaf4d95561dea2c320d4a47]\n",
       "cluster E1--><a href=\"psysml:f5546318-5597-445e-83af-957575abd1f7\" target=\"_top\" title=\"psysml:f5546318-5597-445e-83af-957575abd1f7\" xlink:actuate=\"onRequest\" xlink:href=\"psysml:f5546318-5597-445e-83af-957575abd1f7\" xlink:show=\"new\" xlink:title=\"psysml:f5546318-5597-445e-83af-957575abd1f7\" xlink:type=\"simple\"><polygon fill=\"#FFFFFF\" points=\"16,6,108,6,115,28.2969,390,28.2969,390,851,16,851,16,6\" style=\"stroke: #000000; stroke-width: 1.5;\"/><line style=\"stroke: #000000; stroke-width: 1.5;\" x1=\"16\" x2=\"115\" y1=\"28.2969\" y2=\"28.2969\"/><text fill=\"#000000\" font-family=\"sans-serif\" font-size=\"14\" font-weight=\"bold\" lengthAdjust=\"spacingAndGlyphs\" textLength=\"86\" x=\"20\" y=\"20.9951\">AnalysisTest</text></a><!--MD5=[b4997ac47864f28c2f74865a473b2911]\n",
       "class E2--><a href=\"psysml:df856138-3406-4a6b-b583-20ed5eacc0cd\" target=\"_top\" title=\"psysml:df856138-3406-4a6b-b583-20ed5eacc0cd\" xlink:actuate=\"onRequest\" xlink:href=\"psysml:df856138-3406-4a6b-b583-20ed5eacc0cd\" xlink:show=\"new\" xlink:title=\"psysml:df856138-3406-4a6b-b583-20ed5eacc0cd\" xlink:type=\"simple\"><rect fill=\"#FFFFFF\" height=\"45.9375\" id=\"E2\" style=\"stroke: #383838; stroke-width: 1.5;\" width=\"66\" x=\"121\" y=\"661\"/><text fill=\"#000000\" font-family=\"sans-serif\" font-size=\"12\" font-style=\"italic\" lengthAdjust=\"spacingAndGlyphs\" textLength=\"64\" x=\"122\" y=\"677.1387\">«part def»</text><text fill=\"#000000\" font-family=\"sans-serif\" font-size=\"12\" lengthAdjust=\"spacingAndGlyphs\" textLength=\"8\" x=\"150\" y=\"691.1074\">V</text><line style=\"stroke: #383838; stroke-width: 1.5;\" x1=\"122\" x2=\"186\" y1=\"698.9375\" y2=\"698.9375\"/></a><!--MD5=[09b614a08d8cba4a07c9adeb5e0fee81]\n",
       "class E3--><a href=\"psysml:a14948af-c637-432a-b299-badb5d3ced27\" target=\"_top\" title=\"psysml:a14948af-c637-432a-b299-badb5d3ced27\" xlink:actuate=\"onRequest\" xlink:href=\"psysml:a14948af-c637-432a-b299-badb5d3ced27\" xlink:show=\"new\" xlink:title=\"psysml:a14948af-c637-432a-b299-badb5d3ced27\" xlink:type=\"simple\"><rect fill=\"#FFFFFF\" height=\"45.9375\" id=\"E3\" rx=\"10\" ry=\"10\" style=\"stroke: #383838; stroke-width: 1.5;\" width=\"42\" x=\"207\" y=\"538\"/><text fill=\"#000000\" font-family=\"sans-serif\" font-size=\"12\" font-style=\"italic\" lengthAdjust=\"spacingAndGlyphs\" textLength=\"40\" x=\"208\" y=\"554.1387\">«part»</text><text fill=\"#000000\" font-family=\"sans-serif\" font-size=\"12\" lengthAdjust=\"spacingAndGlyphs\" textLength=\"28\" x=\"214\" y=\"568.1074\">vv: V</text><line style=\"stroke: #383838; stroke-width: 1.5;\" x1=\"208\" x2=\"248\" y1=\"575.9375\" y2=\"575.9375\"/></a><!--MD5=[ebbe1d658d1005bcc118a6aa81145e00]\n",
       "class E4--><a href=\"psysml:b06c710d-6070-489f-855d-95835f572a57\" target=\"_top\" title=\"psysml:b06c710d-6070-489f-855d-95835f572a57\" xlink:actuate=\"onRequest\" xlink:href=\"psysml:b06c710d-6070-489f-855d-95835f572a57\" xlink:show=\"new\" xlink:title=\"psysml:b06c710d-6070-489f-855d-95835f572a57\" xlink:type=\"simple\"><rect fill=\"#FFFFFF\" height=\"66.7422\" id=\"E4\" style=\"stroke: #383838; stroke-width: 1.5;\" width=\"117\" x=\"240.5\" y=\"768\"/><text fill=\"#000000\" font-family=\"sans-serif\" font-size=\"12\" font-style=\"italic\" lengthAdjust=\"spacingAndGlyphs\" textLength=\"115\" x=\"241.5\" y=\"784.1387\">«requirement def»</text><text fill=\"#000000\" font-family=\"sans-serif\" font-size=\"12\" lengthAdjust=\"spacingAndGlyphs\" textLength=\"107\" x=\"245.5\" y=\"798.1074\">AnalysisObjective</text><line style=\"stroke: #383838; stroke-width: 1.5;\" x1=\"241.5\" x2=\"356.5\" y1=\"805.9375\" y2=\"805.9375\"/><text fill=\"#000000\" font-family=\"sans-serif\" font-size=\"11\" lengthAdjust=\"spacingAndGlyphs\" textLength=\"12\" x=\"246.5\" y=\"820.1479\">...</text><line style=\"stroke: #383838; stroke-width: 1.0;\" x1=\"241.5\" x2=\"356.5\" y1=\"826.7422\" y2=\"826.7422\"/></a><!--MD5=[270fce915f116d4de14055a7c1d9a0f3]\n",
       "class E5--><a href=\"psysml:e9833d01-8fa8-4820-af73-47d7be444de9\" target=\"_top\" title=\"psysml:e9833d01-8fa8-4820-af73-47d7be444de9\" xlink:actuate=\"onRequest\" xlink:href=\"psysml:e9833d01-8fa8-4820-af73-47d7be444de9\" xlink:show=\"new\" xlink:title=\"psysml:e9833d01-8fa8-4820-af73-47d7be444de9\" xlink:type=\"simple\"><rect fill=\"#FFFFFF\" height=\"45.9375\" id=\"E5\" style=\"stroke: #383838; stroke-width: 1.5;\" width=\"90\" x=\"284\" y=\"538\"/><text fill=\"#000000\" font-family=\"sans-serif\" font-size=\"12\" font-style=\"italic\" lengthAdjust=\"spacingAndGlyphs\" textLength=\"88\" x=\"285\" y=\"554.1387\">«analysis def»</text><text fill=\"#000000\" font-family=\"sans-serif\" font-size=\"12\" lengthAdjust=\"spacingAndGlyphs\" textLength=\"81\" x=\"288.5\" y=\"568.1074\">AnalysisCase</text><line style=\"stroke: #383838; stroke-width: 1.5;\" x1=\"285\" x2=\"373\" y1=\"575.9375\" y2=\"575.9375\"/></a><!--MD5=[60a26617385b1d2d0262a64233df1f8d]\n",
       "class E6--><a href=\"psysml:5d02fb37-4730-4ed2-b0a0-8fa990128639\" target=\"_top\" title=\"psysml:5d02fb37-4730-4ed2-b0a0-8fa990128639\" xlink:actuate=\"onRequest\" xlink:href=\"psysml:5d02fb37-4730-4ed2-b0a0-8fa990128639\" xlink:show=\"new\" xlink:title=\"psysml:5d02fb37-4730-4ed2-b0a0-8fa990128639\" xlink:type=\"simple\"><rect fill=\"#FFFFFF\" height=\"45.9375\" id=\"E6\" rx=\"10\" ry=\"10\" style=\"stroke: #383838; stroke-width: 1.5;\" width=\"140\" x=\"229\" y=\"661\"/><text fill=\"#000000\" font-family=\"sans-serif\" font-size=\"12\" font-style=\"italic\" lengthAdjust=\"spacingAndGlyphs\" textLength=\"91\" x=\"253.5\" y=\"677.1387\">«requirement»</text><text fill=\"#000000\" font-family=\"sans-serif\" font-size=\"12\" lengthAdjust=\"spacingAndGlyphs\" textLength=\"134\" x=\"232\" y=\"691.1074\">obj: AnalysisObjective</text><line style=\"stroke: #383838; stroke-width: 1.5;\" x1=\"230\" x2=\"368\" y1=\"698.9375\" y2=\"698.9375\"/></a><!--MD5=[2156ba9850f5573cc1fc38a6a4b2f02b]\n",
       "class E7--><a href=\"psysml:8a4520e8-ac51-4a2a-8007-cfc5f8084f42\" target=\"_top\" title=\"psysml:8a4520e8-ac51-4a2a-8007-cfc5f8084f42\" xlink:actuate=\"onRequest\" xlink:href=\"psysml:8a4520e8-ac51-4a2a-8007-cfc5f8084f42\" xlink:show=\"new\" xlink:title=\"psysml:8a4520e8-ac51-4a2a-8007-cfc5f8084f42\" xlink:type=\"simple\"><rect fill=\"#FFFFFF\" height=\"45.9375\" id=\"E7\" style=\"stroke: #383838; stroke-width: 1.5;\" width=\"90\" x=\"71\" y=\"271\"/><text fill=\"#000000\" font-family=\"sans-serif\" font-size=\"12\" font-style=\"italic\" lengthAdjust=\"spacingAndGlyphs\" textLength=\"88\" x=\"72\" y=\"287.1387\">«analysis def»</text><text fill=\"#000000\" font-family=\"sans-serif\" font-size=\"12\" lengthAdjust=\"spacingAndGlyphs\" textLength=\"77\" x=\"77.5\" y=\"301.1074\">AnalysisPlan</text><line style=\"stroke: #383838; stroke-width: 1.5;\" x1=\"72\" x2=\"160\" y1=\"308.9375\" y2=\"308.9375\"/></a><!--MD5=[b9389687b975829384b498ac4b7476b2]\n",
       "class E8--><a href=\"psysml:c9e778b5-528f-48e8-8904-91782dcf8fb6\" target=\"_top\" title=\"psysml:c9e778b5-528f-48e8-8904-91782dcf8fb6\" xlink:actuate=\"onRequest\" xlink:href=\"psysml:c9e778b5-528f-48e8-8904-91782dcf8fb6\" xlink:show=\"new\" xlink:title=\"psysml:c9e778b5-528f-48e8-8904-91782dcf8fb6\" xlink:type=\"simple\"><rect fill=\"#FFFFFF\" height=\"66.7422\" id=\"E8\" rx=\"10\" ry=\"10\" style=\"stroke: #383838; stroke-width: 1.5;\" width=\"93\" x=\"69.5\" y=\"394\"/><text fill=\"#000000\" font-family=\"sans-serif\" font-size=\"12\" font-style=\"italic\" lengthAdjust=\"spacingAndGlyphs\" textLength=\"91\" x=\"70.5\" y=\"410.1387\">«requirement»</text><text fill=\"#000000\" font-family=\"sans-serif\" font-size=\"12\" lengthAdjust=\"spacingAndGlyphs\" textLength=\"19\" x=\"106.5\" y=\"424.1074\">obj</text><line style=\"stroke: #383838; stroke-width: 1.5;\" x1=\"70.5\" x2=\"161.5\" y1=\"431.9375\" y2=\"431.9375\"/><text fill=\"#000000\" font-family=\"sans-serif\" font-size=\"11\" lengthAdjust=\"spacingAndGlyphs\" textLength=\"12\" x=\"75.5\" y=\"446.1479\">...</text><line style=\"stroke: #383838; stroke-width: 1.0;\" x1=\"70.5\" x2=\"161.5\" y1=\"452.7422\" y2=\"452.7422\"/></a><!--MD5=[fd4143e9d270a159db93a4ea2a975926]\n",
       "class E9--><a href=\"psysml:ef775355-9069-4551-a021-5839d9673f3d\" target=\"_top\" title=\"psysml:ef775355-9069-4551-a021-5839d9673f3d\" xlink:actuate=\"onRequest\" xlink:href=\"psysml:ef775355-9069-4551-a021-5839d9673f3d\" xlink:show=\"new\" xlink:title=\"psysml:ef775355-9069-4551-a021-5839d9673f3d\" xlink:type=\"simple\"><rect fill=\"#FFFFFF\" height=\"45.9375\" id=\"E9\" rx=\"10\" ry=\"10\" style=\"stroke: #383838; stroke-width: 1.5;\" width=\"176\" x=\"198\" y=\"404.5\"/><text fill=\"#000000\" font-family=\"sans-serif\" font-size=\"12\" font-style=\"italic\" lengthAdjust=\"spacingAndGlyphs\" textLength=\"64\" x=\"254\" y=\"420.6387\">«analysis»</text><text fill=\"#000000\" font-family=\"sans-serif\" font-size=\"12\" lengthAdjust=\"spacingAndGlyphs\" textLength=\"170\" x=\"201\" y=\"434.6074\">analysisCase: AnalysisCase</text><line style=\"stroke: #383838; stroke-width: 1.5;\" x1=\"199\" x2=\"373\" y1=\"442.4375\" y2=\"442.4375\"/></a><!--MD5=[96f4274e9e20536e775497830990834d]\n",
       "class E10--><a href=\"psysml:37fc8968-437f-41f6-96b6-577444b5c586\" target=\"_top\" title=\"psysml:37fc8968-437f-41f6-96b6-577444b5c586\" xlink:actuate=\"onRequest\" xlink:href=\"psysml:37fc8968-437f-41f6-96b6-577444b5c586\" xlink:show=\"new\" xlink:title=\"psysml:37fc8968-437f-41f6-96b6-577444b5c586\" xlink:type=\"simple\"><rect fill=\"#FFFFFF\" height=\"45.9375\" id=\"E10\" rx=\"10\" ry=\"10\" style=\"stroke: #383838; stroke-width: 1.5;\" width=\"93\" x=\"78.5\" y=\"538\"/><text fill=\"#000000\" font-family=\"sans-serif\" font-size=\"12\" font-style=\"italic\" lengthAdjust=\"spacingAndGlyphs\" textLength=\"91\" x=\"79.5\" y=\"554.1387\">«requirement»</text><text fill=\"#000000\" font-family=\"sans-serif\" font-size=\"12\" lengthAdjust=\"spacingAndGlyphs\" textLength=\"19\" x=\"115.5\" y=\"568.1074\">obj</text><line style=\"stroke: #383838; stroke-width: 1.5;\" x1=\"79.5\" x2=\"170.5\" y1=\"575.9375\" y2=\"575.9375\"/></a><!--MD5=[1dd1bfd58a279cf63c5f349dbc8fc6a1]\n",
       "class E11--><a href=\"psysml:e127547d-9ca6-4380-b459-796effe0b56f\" target=\"_top\" title=\"psysml:e127547d-9ca6-4380-b459-796effe0b56f\" xlink:actuate=\"onRequest\" xlink:href=\"psysml:e127547d-9ca6-4380-b459-796effe0b56f\" xlink:show=\"new\" xlink:title=\"psysml:e127547d-9ca6-4380-b459-796effe0b56f\" xlink:type=\"simple\"><rect fill=\"#FFFFFF\" height=\"45.9375\" id=\"E11\" rx=\"10\" ry=\"10\" style=\"stroke: #383838; stroke-width: 1.5;\" width=\"104\" x=\"84\" y=\"41\"/><text fill=\"#000000\" font-family=\"sans-serif\" font-size=\"12\" font-style=\"italic\" lengthAdjust=\"spacingAndGlyphs\" textLength=\"40\" x=\"116\" y=\"57.1387\">«part»</text><text fill=\"#000000\" font-family=\"sans-serif\" font-size=\"12\" lengthAdjust=\"spacingAndGlyphs\" textLength=\"98\" x=\"87\" y=\"71.1074\">analysisContext</text><line style=\"stroke: #383838; stroke-width: 1.5;\" x1=\"85\" x2=\"187\" y1=\"78.9375\" y2=\"78.9375\"/></a><!--MD5=[49a0ec8f00dab7302a31f22d0f0fe584]\n",
       "class E12--><a href=\"psysml:26b0c0e9-c7c6-4e19-b68b-97e4f04c11f8\" target=\"_top\" title=\"psysml:26b0c0e9-c7c6-4e19-b68b-97e4f04c11f8\" xlink:actuate=\"onRequest\" xlink:href=\"psysml:26b0c0e9-c7c6-4e19-b68b-97e4f04c11f8\" xlink:show=\"new\" xlink:title=\"psysml:26b0c0e9-c7c6-4e19-b68b-97e4f04c11f8\" xlink:type=\"simple\"><rect fill=\"#FFFFFF\" height=\"45.9375\" id=\"E12\" rx=\"10\" ry=\"10\" style=\"stroke: #383838; stroke-width: 1.5;\" width=\"168\" x=\"52\" y=\"148\"/><text fill=\"#000000\" font-family=\"sans-serif\" font-size=\"12\" font-style=\"italic\" lengthAdjust=\"spacingAndGlyphs\" textLength=\"64\" x=\"104\" y=\"164.1387\">«analysis»</text><text fill=\"#000000\" font-family=\"sans-serif\" font-size=\"12\" lengthAdjust=\"spacingAndGlyphs\" textLength=\"162\" x=\"55\" y=\"178.1074\">analysisPlan: AnalysisPlan</text><line style=\"stroke: #383838; stroke-width: 1.5;\" x1=\"53\" x2=\"219\" y1=\"185.9375\" y2=\"185.9375\"/></a><!--MD5=[ee3c913d1a06f366521f9ef512b67efe]\n",
       "class E13--><a href=\"psysml:a55f605c-cc05-4fcd-b9b1-1e930756e010\" target=\"_top\" title=\"psysml:a55f605c-cc05-4fcd-b9b1-1e930756e010\" xlink:actuate=\"onRequest\" xlink:href=\"psysml:a55f605c-cc05-4fcd-b9b1-1e930756e010\" xlink:show=\"new\" xlink:title=\"psysml:a55f605c-cc05-4fcd-b9b1-1e930756e010\" xlink:type=\"simple\"><rect fill=\"#FFFFFF\" height=\"45.9375\" id=\"E13\" rx=\"10\" ry=\"10\" style=\"stroke: #383838; stroke-width: 1.5;\" width=\"93\" x=\"196.5\" y=\"271\"/><text fill=\"#000000\" font-family=\"sans-serif\" font-size=\"12\" font-style=\"italic\" lengthAdjust=\"spacingAndGlyphs\" textLength=\"91\" x=\"197.5\" y=\"287.1387\">«requirement»</text><text fill=\"#000000\" font-family=\"sans-serif\" font-size=\"12\" lengthAdjust=\"spacingAndGlyphs\" textLength=\"19\" x=\"233.5\" y=\"301.1074\">obj</text><line style=\"stroke: #383838; stroke-width: 1.5;\" x1=\"197.5\" x2=\"288.5\" y1=\"308.9375\" y2=\"308.9375\"/></a><!--MD5=[05d275557350bfb9b23a4ef7222b4c39]\n",
       "link E3 to E2--><a href=\"psysml:4553bbf6-343c-42bd-a219-72e0d50d2170\" target=\"_top\" title=\"psysml:4553bbf6-343c-42bd-a219-72e0d50d2170\" xlink:actuate=\"onRequest\" xlink:href=\"psysml:4553bbf6-343c-42bd-a219-72e0d50d2170\" xlink:show=\"new\" xlink:title=\"psysml:4553bbf6-343c-42bd-a219-72e0d50d2170\" xlink:type=\"simple\"><path d=\"M206.76,569 C193.62,569 179.25,569 179.25,569 C179.25,569 179.25,640.73 179.25,640.73 \" fill=\"none\" id=\"E3-&gt;E2\" style=\"stroke: #383838; stroke-width: 1.0;\"/><polygon fill=\"#FFFFFF\" points=\"179.25,660.73,172.25,641.73,186.25,641.73,179.25,660.73\" style=\"stroke: #383838; stroke-width: 1.0;\"/><ellipse cx=\"174.25\" cy=\"636.03\" fill=\"#383838\" rx=\"2\" ry=\"2\" style=\"stroke: #383838; stroke-width: 1.0;\"/><ellipse cx=\"184.25\" cy=\"636.03\" fill=\"#383838\" rx=\"2\" ry=\"2\" style=\"stroke: #383838; stroke-width: 1.0;\"/></a><!--MD5=[15ebcb19ae302d9b601edb458606d402]\n",
       "link E5 to E2--><a href=\"psysml:55d14872-2cf4-45ef-b86e-776491343885\" target=\"_top\" title=\"psysml:55d14872-2cf4-45ef-b86e-776491343885\" xlink:actuate=\"onRequest\" xlink:href=\"psysml:55d14872-2cf4-45ef-b86e-776491343885\" xlink:show=\"new\" xlink:title=\"psysml:55d14872-2cf4-45ef-b86e-776491343885\" xlink:type=\"simple\"><path d=\"M312.33,584.09 C312.33,601.71 312.33,623 312.33,623 C312.33,623 183.12,623 183.12,623 C183.12,623 183.12,655.94 183.12,655.94 \" fill=\"none\" id=\"E5-&gt;E2\" style=\"stroke: #383838; stroke-width: 1.0; stroke-dasharray: 7.0,7.0;\"/><polygon fill=\"#383838\" points=\"183.12,660.94,187.12,651.94,183.12,655.94,179.12,651.94,183.12,660.94\" style=\"stroke: #383838; stroke-width: 1.0;\"/><text fill=\"#000000\" font-family=\"sans-serif\" font-size=\"13\" lengthAdjust=\"spacingAndGlyphs\" textLength=\"62\" x=\"196\" y=\"627.0669\">«subject»</text></a><!--MD5=[9120cf2e5df3bff93db8f754bbbc09b4]\n",
       "link E5 to E6--><a href=\"psysml:66eb83d5-c5e2-4f23-b460-3cc53e216041\" target=\"_top\" title=\"psysml:66eb83d5-c5e2-4f23-b460-3cc53e216041\" xlink:actuate=\"onRequest\" xlink:href=\"psysml:66eb83d5-c5e2-4f23-b460-3cc53e216041\" xlink:show=\"new\" xlink:title=\"psysml:66eb83d5-c5e2-4f23-b460-3cc53e216041\" xlink:type=\"simple\"><path d=\"M340.67,584.14 C340.67,584.14 340.67,652.97 340.67,652.97 \" fill=\"none\" id=\"E5-&gt;E6\" style=\"stroke: #383838; stroke-width: 1.0;\"/><polygon fill=\"#383838\" points=\"340.67,660.97,343.67,652.97,337.67,652.97,340.67,660.97\" style=\"stroke: #383838; stroke-width: 1.0;\"/><text fill=\"#000000\" font-family=\"sans-serif\" font-size=\"13\" lengthAdjust=\"spacingAndGlyphs\" textLength=\"73\" x=\"300\" y=\"627.0669\">«objective»</text></a><!--MD5=[f667431f98296947986a1a7595a31603]\n",
       "link E6 to E4--><a href=\"psysml:35160ff3-34f1-44b9-93fc-42f4fb412225\" target=\"_top\" title=\"psysml:35160ff3-34f1-44b9-93fc-42f4fb412225\" xlink:actuate=\"onRequest\" xlink:href=\"psysml:35160ff3-34f1-44b9-93fc-42f4fb412225\" xlink:show=\"new\" xlink:title=\"psysml:35160ff3-34f1-44b9-93fc-42f4fb412225\" xlink:type=\"simple\"><path d=\"M299,707.21 C299,707.21 299,747.65 299,747.65 \" fill=\"none\" id=\"E6-&gt;E4\" style=\"stroke: #383838; stroke-width: 1.0;\"/><polygon fill=\"#FFFFFF\" points=\"299,767.65,292,748.65,306,748.65,299,767.65\" style=\"stroke: #383838; stroke-width: 1.0;\"/><ellipse cx=\"294\" cy=\"742.95\" fill=\"#383838\" rx=\"2\" ry=\"2\" style=\"stroke: #383838; stroke-width: 1.0;\"/><ellipse cx=\"304\" cy=\"742.95\" fill=\"#383838\" rx=\"2\" ry=\"2\" style=\"stroke: #383838; stroke-width: 1.0;\"/></a><!--MD5=[583832df87f4419a098336a29a52fa00]\n",
       "link E7 to E2--><a href=\"psysml:6c24e69d-02cf-4e90-8710-eea2d3fb6e80\" target=\"_top\" title=\"psysml:6c24e69d-02cf-4e90-8710-eea2d3fb6e80\" xlink:actuate=\"onRequest\" xlink:href=\"psysml:6c24e69d-02cf-4e90-8710-eea2d3fb6e80\" xlink:show=\"new\" xlink:title=\"psysml:6c24e69d-02cf-4e90-8710-eea2d3fb6e80\" xlink:type=\"simple\"><path d=\"M161,287 C169.28,287 175.38,287 175.38,287 C175.38,287 175.38,655.94 175.38,655.94 \" fill=\"none\" id=\"E7-&gt;E2\" style=\"stroke: #383838; stroke-width: 1.0; stroke-dasharray: 7.0,7.0;\"/><polygon fill=\"#383838\" points=\"175.38,660.94,179.38,651.94,175.38,655.94,171.38,651.94,175.38,660.94\" style=\"stroke: #383838; stroke-width: 1.0;\"/><text fill=\"#000000\" font-family=\"sans-serif\" font-size=\"13\" lengthAdjust=\"spacingAndGlyphs\" textLength=\"62\" x=\"68\" y=\"504.0669\">«subject»</text></a><!--MD5=[79bc8f324ef4d02c541433f2e6e513c3]\n",
       "link E7 to E8--><a href=\"psysml:5f63fe39-bd01-4e2f-b177-a256ca3547ed\" target=\"_top\" title=\"psysml:5f63fe39-bd01-4e2f-b177-a256ca3547ed\" xlink:actuate=\"onRequest\" xlink:href=\"psysml:5f63fe39-bd01-4e2f-b177-a256ca3547ed\" xlink:show=\"new\" xlink:title=\"psysml:5f63fe39-bd01-4e2f-b177-a256ca3547ed\" xlink:type=\"simple\"><path d=\"M116,317.25 C116,317.25 116,385.75 116,385.75 \" fill=\"none\" id=\"E7-&gt;E8\" style=\"stroke: #383838; stroke-width: 1.0;\"/><polygon fill=\"#383838\" points=\"116,393.75,119,385.75,113,385.75,116,393.75\" style=\"stroke: #383838; stroke-width: 1.0;\"/><text fill=\"#000000\" font-family=\"sans-serif\" font-size=\"13\" lengthAdjust=\"spacingAndGlyphs\" textLength=\"73\" x=\"117\" y=\"360.0669\">«objective»</text><text fill=\"#000000\" font-family=\"sans-serif\" font-size=\"13\" lengthAdjust=\"spacingAndGlyphs\" textLength=\"8\" x=\"107.2375\" y=\"382.9908\">1</text></a><!--MD5=[e4a10ef82d0e328e31cac39a31e58dda]\n",
       "reverse link E7 to E9--><a href=\"psysml:0539f402-c799-478a-a763-36444c838111\" target=\"_top\" title=\"psysml:0539f402-c799-478a-a763-36444c838111\" xlink:actuate=\"onRequest\" xlink:href=\"psysml:0539f402-c799-478a-a763-36444c838111\" xlink:show=\"new\" xlink:title=\"psysml:0539f402-c799-478a-a763-36444c838111\" xlink:type=\"simple\"><path d=\"M166.41,302 C166.41,302 167,302 167,302 C167,302 167,428 167,428 C167,428 180.27,428 197.96,428 \" fill=\"none\" id=\"E7&lt;-E9\" style=\"stroke: #383838; stroke-width: 1.0;\"/><polygon fill=\"#383838\" points=\"161.15,302,167.15,306,173.15,302,167.15,298,161.15,302\" style=\"stroke: #383838; stroke-width: 1.0;\"/></a><!--MD5=[bfc3ddf2e613be37104f658f09af896c]\n",
       "link E9 to E5--><a href=\"psysml:5fa585d6-e8aa-4013-b88d-119f555331de\" target=\"_top\" title=\"psysml:5fa585d6-e8aa-4013-b88d-119f555331de\" xlink:actuate=\"onRequest\" xlink:href=\"psysml:5fa585d6-e8aa-4013-b88d-119f555331de\" xlink:show=\"new\" xlink:title=\"psysml:5fa585d6-e8aa-4013-b88d-119f555331de\" xlink:type=\"simple\"><path d=\"M329,450.75 C329,450.75 329,517.56 329,517.56 \" fill=\"none\" id=\"E9-&gt;E5\" style=\"stroke: #383838; stroke-width: 1.0;\"/><polygon fill=\"#FFFFFF\" points=\"329,537.56,322,518.56,336,518.56,329,537.56\" style=\"stroke: #383838; stroke-width: 1.0;\"/><ellipse cx=\"324\" cy=\"512.86\" fill=\"#383838\" rx=\"2\" ry=\"2\" style=\"stroke: #383838; stroke-width: 1.0;\"/><ellipse cx=\"334\" cy=\"512.86\" fill=\"#383838\" rx=\"2\" ry=\"2\" style=\"stroke: #383838; stroke-width: 1.0;\"/></a><!--MD5=[35e5f1cbde42fa304a029880aa2bc7f2]\n",
       "link E9 to E10--><a href=\"psysml:7fa56b0a-037d-44be-9e3a-456886c00dd1\" target=\"_top\" title=\"psysml:7fa56b0a-037d-44be-9e3a-456886c00dd1\" xlink:actuate=\"onRequest\" xlink:href=\"psysml:7fa56b0a-037d-44be-9e3a-456886c00dd1\" xlink:show=\"new\" xlink:title=\"psysml:7fa56b0a-037d-44be-9e3a-456886c00dd1\" xlink:type=\"simple\"><path d=\"M202.5,450.7 C202.5,487.22 202.5,554 202.5,554 C202.5,554 179.87,554 179.87,554 \" fill=\"none\" id=\"E9-&gt;E10\" style=\"stroke: #383838; stroke-width: 1.0;\"/><polygon fill=\"#383838\" points=\"171.87,554,179.87,557,179.87,551,171.87,554\" style=\"stroke: #383838; stroke-width: 1.0;\"/><text fill=\"#000000\" font-family=\"sans-serif\" font-size=\"13\" lengthAdjust=\"spacingAndGlyphs\" textLength=\"73\" x=\"210\" y=\"504.0669\">«objective»</text></a><!--MD5=[94adabc162ce7e41b39f13be14fbaeb3]\n",
       "reverse link E11 to E12--><a href=\"psysml:cf81c84a-d20a-4a9d-8212-c3de89ec9ad0\" target=\"_top\" title=\"psysml:cf81c84a-d20a-4a9d-8212-c3de89ec9ad0\" xlink:actuate=\"onRequest\" xlink:href=\"psysml:cf81c84a-d20a-4a9d-8212-c3de89ec9ad0\" xlink:show=\"new\" xlink:title=\"psysml:cf81c84a-d20a-4a9d-8212-c3de89ec9ad0\" xlink:type=\"simple\"><path d=\"M136,100.22 C136,100.22 136,147.83 136,147.83 \" fill=\"none\" id=\"E11&lt;-E12\" style=\"stroke: #383838; stroke-width: 1.0;\"/><polygon fill=\"#383838\" points=\"136,87.22,132,93.22,136,99.22,140,93.22,136,87.22\" style=\"stroke: #383838; stroke-width: 1.0;\"/></a><!--MD5=[ae660f5ecd7ddb04a8913625960940af]\n",
       "link E12 to E7--><a href=\"psysml:31ecf0da-b030-4520-be0f-3ece1376fb5f\" target=\"_top\" title=\"psysml:31ecf0da-b030-4520-be0f-3ece1376fb5f\" xlink:actuate=\"onRequest\" xlink:href=\"psysml:31ecf0da-b030-4520-be0f-3ece1376fb5f\" xlink:show=\"new\" xlink:title=\"psysml:31ecf0da-b030-4520-be0f-3ece1376fb5f\" xlink:type=\"simple\"><path d=\"M116,194.14 C116,194.14 116,250.97 116,250.97 \" fill=\"none\" id=\"E12-&gt;E7\" style=\"stroke: #383838; stroke-width: 1.0;\"/><polygon fill=\"#FFFFFF\" points=\"116,270.97,109,251.97,123,251.97,116,270.97\" style=\"stroke: #383838; stroke-width: 1.0;\"/><ellipse cx=\"111\" cy=\"246.27\" fill=\"#383838\" rx=\"2\" ry=\"2\" style=\"stroke: #383838; stroke-width: 1.0;\"/><ellipse cx=\"121\" cy=\"246.27\" fill=\"#383838\" rx=\"2\" ry=\"2\" style=\"stroke: #383838; stroke-width: 1.0;\"/></a><!--MD5=[e2a9ac97dcd3257bb5342dae06547bad]\n",
       "link E12 to E13--><a href=\"psysml:aa3a7955-6ed3-447d-b0ee-a09ada8803a4\" target=\"_top\" title=\"psysml:aa3a7955-6ed3-447d-b0ee-a09ada8803a4\" xlink:actuate=\"onRequest\" xlink:href=\"psysml:aa3a7955-6ed3-447d-b0ee-a09ada8803a4\" xlink:show=\"new\" xlink:title=\"psysml:aa3a7955-6ed3-447d-b0ee-a09ada8803a4\" xlink:type=\"simple\"><path d=\"M208.25,194.14 C208.25,194.14 208.25,262.97 208.25,262.97 \" fill=\"none\" id=\"E12-&gt;E13\" style=\"stroke: #383838; stroke-width: 1.0;\"/><polygon fill=\"#383838\" points=\"208.25,270.97,211.25,262.97,205.25,262.97,208.25,270.97\" style=\"stroke: #383838; stroke-width: 1.0;\"/><text fill=\"#000000\" font-family=\"sans-serif\" font-size=\"13\" lengthAdjust=\"spacingAndGlyphs\" textLength=\"73\" x=\"211\" y=\"237.0669\">«objective»</text><text fill=\"#000000\" font-family=\"sans-serif\" font-size=\"13\" lengthAdjust=\"spacingAndGlyphs\" textLength=\"8\" x=\"189.8359\" y=\"259.8582\">1</text></a><!--MD5=[73af1acd306f634c1cabd18bd02159e7]\n",
       "@startuml\r\n",
       "skinparam linetype ortho\r\n",
       "skinparam monochrome true\r\n",
       "skinparam classbackgroundcolor white\r\n",
       "skinparam shadowing false\r\n",
       "skinparam wrapWidth 300\r\n",
       "hide circle\r\n",
       "\r\n",
       "package \"AnalysisTest\" as E1  [[psysml:f5546318-5597-445e-83af-957575abd1f7 ]]  {\r\n",
       "comp def \"V\" as E2  <<(T,blue) part def>> [[psysml:df856138-3406-4a6b-b583-20ed5eacc0cd ]] {\r\n",
       "}\r\n",
       "comp usage \"vv: V\" as E3  <<(T,blue) part>> [[psysml:a14948af-c637-432a-b299-badb5d3ced27 ]] {\r\n",
       "}\r\n",
       "comp def \"AnalysisObjective\" as E4  <<(T,blue) requirement def>> [[psysml:b06c710d-6070-489f-855d-95835f572a57 ]] {\r\n",
       "...\r\n",
       "- -\r\n",
       "}\r\n",
       "comp def \"AnalysisCase\" as E5 << analysis def>> [[psysml:e9833d01-8fa8-4820-af73-47d7be444de9 ]] {\r\n",
       "}\r\n",
       "comp usage \"obj: AnalysisObjective\" as E6  <<(T,blue) requirement>> [[psysml:5d02fb37-4730-4ed2-b0a0-8fa990128639 ]] {\r\n",
       "}\r\n",
       "comp def \"AnalysisPlan\" as E7 << analysis def>> [[psysml:8a4520e8-ac51-4a2a-8007-cfc5f8084f42 ]] {\r\n",
       "}\r\n",
       "comp usage \"obj\" as E8  <<(T,blue) requirement>> [[psysml:c9e778b5-528f-48e8-8904-91782dcf8fb6 ]] {\r\n",
       "...\r\n",
       "- -\r\n",
       "}\r\n",
       "comp usage \"analysisCase: AnalysisCase\" as E9 << analysis>> [[psysml:ef775355-9069-4551-a021-5839d9673f3d ]] {\r\n",
       "}\r\n",
       "comp usage \"obj\" as E10  <<(T,blue) requirement>> [[psysml:37fc8968-437f-41f6-96b6-577444b5c586 ]] {\r\n",
       "}\r\n",
       "comp usage \"analysisContext\" as E11  <<(T,blue) part>> [[psysml:e127547d-9ca6-4380-b459-796effe0b56f ]] {\r\n",
       "}\r\n",
       "comp usage \"analysisPlan: AnalysisPlan\" as E12 << analysis>> [[psysml:26b0c0e9-c7c6-4e19-b68b-97e4f04c11f8 ]] {\r\n",
       "}\r\n",
       "comp usage \"obj\" as E13  <<(T,blue) requirement>> [[psysml:a55f605c-cc05-4fcd-b9b1-1e930756e010 ]] {\r\n",
       "}\r\n",
       "}\r\n",
       "E3 - -:|> E2 [[psysml:4553bbf6-343c-42bd-a219-72e0d50d2170 ]] \r\n",
       "E5 ..> E2 [[psysml:55d14872-2cf4-45ef-b86e-776491343885 ]] : <<subject>>\r\n",
       "E5 - ->> E6 [[psysml:66eb83d5-c5e2-4f23-b460-3cc53e216041 ]] : <<objective>>\r\n",
       "E6 - -:|> E4 [[psysml:35160ff3-34f1-44b9-93fc-42f4fb412225 ]] \r\n",
       "E7 ..> E2 [[psysml:6c24e69d-02cf-4e90-8710-eea2d3fb6e80 ]] : <<subject>>\r\n",
       "E7 - ->> \"1\"E8 [[psysml:5f63fe39-bd01-4e2f-b177-a256ca3547ed ]] : <<objective>>\r\n",
       "E7 *- - E9 [[psysml:0539f402-c799-478a-a763-36444c838111 ]] \r\n",
       "E9 - -:|> E5 [[psysml:5fa585d6-e8aa-4013-b88d-119f555331de ]] \r\n",
       "E9 - ->> E10 [[psysml:7fa56b0a-037d-44be-9e3a-456886c00dd1 ]] : <<objective>>\r\n",
       "E11 *- - E12 [[psysml:cf81c84a-d20a-4a9d-8212-c3de89ec9ad0 ]] \r\n",
       "E12 - -:|> E7 [[psysml:31ecf0da-b030-4520-be0f-3ece1376fb5f ]] \r\n",
       "E12 - ->> \"1\"E13 [[psysml:aa3a7955-6ed3-447d-b0ee-a09ada8803a4 ]] : <<objective>>\r\n",
       "@enduml\r\n",
       "\n",
       "PlantUML version 1.2020.13(Sat Jun 13 12:26:38 UTC 2020)\n",
       "(EPL source distribution)\n",
       "Java Runtime: OpenJDK Runtime Environment\n",
       "JVM: OpenJDK 64-Bit Server VM\n",
       "Default Encoding: UTF-8\n",
       "Language: en\n",
       "Country: null\n",
       "--></g></svg>"
      ]
     },
     "execution_count": 52,
     "metadata": {},
     "output_type": "execute_result"
    }
   ],
   "source": [
    "%viz --style=\"ORTHOLINE\" --view=\"Tree\" \"AnalysisTest\""
   ]
  },
  {
   "cell_type": "code",
   "execution_count": 53,
   "id": "ac14cb0d",
   "metadata": {
    "execution": {
     "iopub.execute_input": "2021-09-27T07:15:32.733054Z",
     "iopub.status.busy": "2021-09-27T07:15:32.732489Z",
     "iopub.status.idle": "2021-09-27T07:15:32.736406Z",
     "shell.execute_reply": "2021-09-27T07:15:32.735882Z"
    }
   },
   "outputs": [
    {
     "data": {
      "image/svg+xml": [
       "<?xml version=\"1.0\" encoding=\"UTF-8\" standalone=\"no\"?><svg xmlns=\"http://www.w3.org/2000/svg\" xmlns:xlink=\"http://www.w3.org/1999/xlink\" contentScriptType=\"application/ecmascript\" contentStyleType=\"text/css\" height=\"12px\" preserveAspectRatio=\"none\" style=\"width:12px;height:12px;\" version=\"1.1\" viewBox=\"0 0 12 12\" width=\"12px\" zoomAndPan=\"magnify\"><defs/><g><!--MD5=[97d6f38768b311333d388e66b2b27985]\n",
       "@startuml\r\n",
       "skinparam linetype ortho\r\n",
       "skinparam monochrome true\r\n",
       "skinparam classbackgroundcolor white\r\n",
       "skinparam shadowing false\r\n",
       "skinparam wrapWidth 300\r\n",
       "hide circle\r\n",
       "\r\n",
       "@enduml\r\n",
       "\n",
       "PlantUML version 1.2020.13(Sat Jun 13 12:26:38 UTC 2020)\n",
       "(EPL source distribution)\n",
       "Java Runtime: OpenJDK Runtime Environment\n",
       "JVM: OpenJDK 64-Bit Server VM\n",
       "Default Encoding: UTF-8\n",
       "Language: en\n",
       "Country: null\n",
       "--></g></svg>"
      ]
     },
     "execution_count": 53,
     "metadata": {},
     "output_type": "execute_result"
    }
   ],
   "source": [
    "%viz --style=\"ORTHOLINE\" --view=\"State\" \"AnalysisTest\""
   ]
  },
  {
   "cell_type": "code",
   "execution_count": 54,
   "id": "848b512c",
   "metadata": {
    "execution": {
     "iopub.execute_input": "2021-09-27T07:15:32.785972Z",
     "iopub.status.busy": "2021-09-27T07:15:32.785390Z",
     "iopub.status.idle": "2021-09-27T07:15:32.840948Z",
     "shell.execute_reply": "2021-09-27T07:15:32.840580Z"
    }
   },
   "outputs": [
    {
     "data": {
      "image/svg+xml": [
       "<?xml version=\"1.0\" encoding=\"UTF-8\" standalone=\"no\"?><svg xmlns=\"http://www.w3.org/2000/svg\" xmlns:xlink=\"http://www.w3.org/1999/xlink\" contentScriptType=\"application/ecmascript\" contentStyleType=\"text/css\" height=\"446px\" preserveAspectRatio=\"none\" style=\"width:1120px;height:446px;\" version=\"1.1\" viewBox=\"0 0 1120 446\" width=\"1120px\" zoomAndPan=\"magnify\"><defs/><g><!--MD5=[fbc87193dbaf4d95561dea2c320d4a47]\n",
       "cluster E1--><a href=\"psysml:f5546318-5597-445e-83af-957575abd1f7\" target=\"_top\" title=\"psysml:f5546318-5597-445e-83af-957575abd1f7\" xlink:actuate=\"onRequest\" xlink:href=\"psysml:f5546318-5597-445e-83af-957575abd1f7\" xlink:show=\"new\" xlink:title=\"psysml:f5546318-5597-445e-83af-957575abd1f7\" xlink:type=\"simple\"><polygon fill=\"#FFFFFF\" points=\"16,6,108,6,115,28.2969,1098,28.2969,1098,434.86,16,434.86,16,6\" style=\"stroke: #000000; stroke-width: 1.5;\"/><line style=\"stroke: #000000; stroke-width: 1.5;\" x1=\"16\" x2=\"115\" y1=\"28.2969\" y2=\"28.2969\"/><text fill=\"#000000\" font-family=\"sans-serif\" font-size=\"14\" font-weight=\"bold\" lengthAdjust=\"spacingAndGlyphs\" textLength=\"86\" x=\"20\" y=\"20.9951\">AnalysisTest</text></a><!--MD5=[de5ec2e2e8f62f467e546659f5068c88]\n",
       "cluster E5--><a href=\"psysml:e9833d01-8fa8-4820-af73-47d7be444de9\" target=\"_top\" title=\"psysml:e9833d01-8fa8-4820-af73-47d7be444de9\" xlink:actuate=\"onRequest\" xlink:href=\"psysml:e9833d01-8fa8-4820-af73-47d7be444de9\" xlink:show=\"new\" xlink:title=\"psysml:e9833d01-8fa8-4820-af73-47d7be444de9\" xlink:type=\"simple\"><rect fill=\"#FFFFFF\" height=\"228.86\" id=\"E5\" style=\"stroke: #383838; stroke-width: 1.5;\" width=\"146\" x=\"936\" y=\"107\"/><rect fill=\"#F8F8F8\" height=\"37.9375\" style=\"stroke: #383838; stroke-width: 1.5;\" width=\"146\" x=\"936\" y=\"107\"/><text fill=\"#000000\" font-family=\"sans-serif\" font-size=\"12\" font-style=\"italic\" lengthAdjust=\"spacingAndGlyphs\" textLength=\"88\" x=\"965\" y=\"123.1387\">«analysis def»</text><text fill=\"#000000\" font-family=\"sans-serif\" font-size=\"12\" lengthAdjust=\"spacingAndGlyphs\" textLength=\"81\" x=\"968.5\" y=\"137.1074\">AnalysisCase</text></a><!--MD5=[55dfccfc6c49c2d10cd1bd2211a6c90c]\n",
       "cluster E8--><a href=\"psysml:8a4520e8-ac51-4a2a-8007-cfc5f8084f42\" target=\"_top\" title=\"psysml:8a4520e8-ac51-4a2a-8007-cfc5f8084f42\" xlink:actuate=\"onRequest\" xlink:href=\"psysml:8a4520e8-ac51-4a2a-8007-cfc5f8084f42\" xlink:show=\"new\" xlink:title=\"psysml:8a4520e8-ac51-4a2a-8007-cfc5f8084f42\" xlink:type=\"simple\"><rect fill=\"#FFFFFF\" height=\"303.86\" id=\"E8\" style=\"stroke: #383838; stroke-width: 1.5;\" width=\"259\" x=\"647\" y=\"107\"/><rect fill=\"#F8F8F8\" height=\"37.9375\" style=\"stroke: #383838; stroke-width: 1.5;\" width=\"259\" x=\"647\" y=\"107\"/><text fill=\"#000000\" font-family=\"sans-serif\" font-size=\"12\" font-style=\"italic\" lengthAdjust=\"spacingAndGlyphs\" textLength=\"88\" x=\"732.5\" y=\"123.1387\">«analysis def»</text><text fill=\"#000000\" font-family=\"sans-serif\" font-size=\"12\" lengthAdjust=\"spacingAndGlyphs\" textLength=\"77\" x=\"738\" y=\"137.1074\">AnalysisPlan</text></a><!--MD5=[a84b4591f868c1fa4a211716a82f2f0d]\n",
       "cluster E10--><a href=\"psysml:ef775355-9069-4551-a021-5839d9673f3d\" target=\"_top\" title=\"psysml:ef775355-9069-4551-a021-5839d9673f3d\" xlink:actuate=\"onRequest\" xlink:href=\"psysml:ef775355-9069-4551-a021-5839d9673f3d\" xlink:show=\"new\" xlink:title=\"psysml:ef775355-9069-4551-a021-5839d9673f3d\" xlink:type=\"simple\"><rect fill=\"#FFFFFF\" height=\"165.86\" id=\"E10\" rx=\"10\" ry=\"10\" style=\"stroke: #383838; stroke-width: 1.5;\" width=\"138\" x=\"730\" y=\"207\"/><rect fill=\"#F8F8F8\" height=\"37.9375\" rx=\"10\" ry=\"10\" style=\"stroke: #F8F8F8; stroke-width: 1.5;\" width=\"138\" x=\"730\" y=\"207\"/><rect fill=\"#F8F8F8\" height=\"10\" style=\"stroke: #F8F8F8; stroke-width: 1.5;\" width=\"138\" x=\"730\" y=\"234.9375\"/><rect fill=\"none\" height=\"165.86\" id=\"E10\" rx=\"10\" ry=\"10\" style=\"stroke: #383838; stroke-width: 1.5;\" width=\"138\" x=\"730\" y=\"207\"/><text fill=\"#000000\" font-family=\"sans-serif\" font-size=\"12\" font-style=\"italic\" lengthAdjust=\"spacingAndGlyphs\" textLength=\"64\" x=\"767\" y=\"223.1387\">«analysis»</text><text fill=\"#000000\" font-family=\"sans-serif\" font-size=\"12\" lengthAdjust=\"spacingAndGlyphs\" textLength=\"81\" x=\"758.5\" y=\"237.1074\">analysisCase</text><line style=\"stroke: #383838; stroke-width: 1.0;\" x1=\"730\" x2=\"868\" y1=\"244.9375\" y2=\"244.9375\"/></a><!--MD5=[bcf29f0808fc96f19b1afbee8cfc1f11]\n",
       "cluster E14--><a href=\"psysml:e127547d-9ca6-4380-b459-796effe0b56f\" target=\"_top\" title=\"psysml:e127547d-9ca6-4380-b459-796effe0b56f\" xlink:actuate=\"onRequest\" xlink:href=\"psysml:e127547d-9ca6-4380-b459-796effe0b56f\" xlink:show=\"new\" xlink:title=\"psysml:e127547d-9ca6-4380-b459-796effe0b56f\" xlink:type=\"simple\"><rect fill=\"#FFFFFF\" height=\"197\" id=\"E14\" rx=\"10\" ry=\"10\" style=\"stroke: #383838; stroke-width: 1.5;\" width=\"200\" x=\"360\" y=\"49\"/><rect fill=\"#F8F8F8\" height=\"23.9688\" rx=\"10\" ry=\"10\" style=\"stroke: #F8F8F8; stroke-width: 1.5;\" width=\"200\" x=\"360\" y=\"49\"/><rect fill=\"#F8F8F8\" height=\"10\" style=\"stroke: #F8F8F8; stroke-width: 1.5;\" width=\"200\" x=\"360\" y=\"62.9688\"/><rect fill=\"none\" height=\"197\" id=\"E14\" rx=\"10\" ry=\"10\" style=\"stroke: #383838; stroke-width: 1.5;\" width=\"200\" x=\"360\" y=\"49\"/><text fill=\"#000000\" font-family=\"sans-serif\" font-size=\"12\" lengthAdjust=\"spacingAndGlyphs\" textLength=\"98\" x=\"411\" y=\"65.1387\">analysisContext</text><line style=\"stroke: #383838; stroke-width: 1.0;\" x1=\"360\" x2=\"560\" y1=\"72.9688\" y2=\"72.9688\"/></a><!--MD5=[ebbe1d658d1005bcc118a6aa81145e00]\n",
       "class E4--><a href=\"psysml:b06c710d-6070-489f-855d-95835f572a57\" target=\"_top\" title=\"psysml:b06c710d-6070-489f-855d-95835f572a57\" xlink:actuate=\"onRequest\" xlink:href=\"psysml:b06c710d-6070-489f-855d-95835f572a57\" xlink:show=\"new\" xlink:title=\"psysml:b06c710d-6070-489f-855d-95835f572a57\" xlink:type=\"simple\"><rect fill=\"#FFFFFF\" height=\"66.7422\" id=\"E4\" style=\"stroke: #383838; stroke-width: 1.5;\" width=\"117\" x=\"223.5\" y=\"73.5\"/><text fill=\"#000000\" font-family=\"sans-serif\" font-size=\"12\" font-style=\"italic\" lengthAdjust=\"spacingAndGlyphs\" textLength=\"115\" x=\"224.5\" y=\"89.6387\">«requirement def»</text><text fill=\"#000000\" font-family=\"sans-serif\" font-size=\"12\" lengthAdjust=\"spacingAndGlyphs\" textLength=\"107\" x=\"228.5\" y=\"103.6074\">AnalysisObjective</text><line style=\"stroke: #383838; stroke-width: 1.5;\" x1=\"224.5\" x2=\"339.5\" y1=\"111.4375\" y2=\"111.4375\"/><text fill=\"#000000\" font-family=\"sans-serif\" font-size=\"11\" lengthAdjust=\"spacingAndGlyphs\" textLength=\"12\" x=\"229.5\" y=\"125.6479\">...</text><line style=\"stroke: #383838; stroke-width: 1.0;\" x1=\"224.5\" x2=\"339.5\" y1=\"132.2422\" y2=\"132.2422\"/></a><g id=\"E1.E2\"><a href=\"psysml:df856138-3406-4a6b-b583-20ed5eacc0cd\" target=\"_top\" title=\"psysml:df856138-3406-4a6b-b583-20ed5eacc0cd\" xlink:actuate=\"onRequest\" xlink:href=\"psysml:df856138-3406-4a6b-b583-20ed5eacc0cd\" xlink:show=\"new\" xlink:title=\"psysml:df856138-3406-4a6b-b583-20ed5eacc0cd\" xlink:type=\"simple\"><rect fill=\"#FFFFFF\" height=\"42.9375\" id=\"E2\" style=\"stroke: #383838; stroke-width: 1.5;\" width=\"71\" x=\"117.5\" y=\"85.5\"/><rect fill=\"#F8F8F8\" height=\"37.9375\" style=\"stroke: #383838; stroke-width: 1.5;\" width=\"71\" x=\"117.5\" y=\"85.5\"/><text fill=\"#000000\" font-family=\"sans-serif\" font-size=\"12\" font-style=\"italic\" lengthAdjust=\"spacingAndGlyphs\" textLength=\"64\" x=\"121\" y=\"101.6387\">«part def»</text><text fill=\"#000000\" font-family=\"sans-serif\" font-size=\"12\" lengthAdjust=\"spacingAndGlyphs\" textLength=\"8\" x=\"149\" y=\"115.6074\">V</text></a></g><g id=\"E1.E3\"><a href=\"psysml:a14948af-c637-432a-b299-badb5d3ced27\" target=\"_top\" title=\"psysml:a14948af-c637-432a-b299-badb5d3ced27\" xlink:actuate=\"onRequest\" xlink:href=\"psysml:a14948af-c637-432a-b299-badb5d3ced27\" xlink:show=\"new\" xlink:title=\"psysml:a14948af-c637-432a-b299-badb5d3ced27\" xlink:type=\"simple\"><rect fill=\"#FFFFFF\" height=\"40\" id=\"E3\" rx=\"10\" ry=\"10\" style=\"stroke: #383838; stroke-width: 1.5;\" width=\"50\" x=\"32\" y=\"87\"/><rect fill=\"#F8F8F8\" height=\"23.9688\" rx=\"10\" ry=\"10\" style=\"stroke: #F8F8F8; stroke-width: 1.5;\" width=\"50\" x=\"32\" y=\"87\"/><rect fill=\"#F8F8F8\" height=\"10\" style=\"stroke: #F8F8F8; stroke-width: 1.5;\" width=\"50\" x=\"32\" y=\"100.9688\"/><rect fill=\"none\" height=\"40\" id=\"E3\" rx=\"10\" ry=\"10\" style=\"stroke: #383838; stroke-width: 1.5;\" width=\"50\" x=\"32\" y=\"87\"/><text fill=\"#000000\" font-family=\"sans-serif\" font-size=\"12\" lengthAdjust=\"spacingAndGlyphs\" textLength=\"28\" x=\"43\" y=\"103.1387\">vv: V</text></a></g><text fill=\"#000000\" font-family=\"sans-serif\" font-size=\"14\" lengthAdjust=\"spacingAndGlyphs\" textLength=\"7\" x=\"1005.5\" y=\"85.6982\">v</text><rect fill=\"#383838\" height=\"12\" style=\"stroke: #F8F8F8; stroke-width: 1.5;\" width=\"12\" x=\"1003\" y=\"101\"/><text fill=\"#000000\" font-family=\"sans-serif\" font-size=\"14\" lengthAdjust=\"spacingAndGlyphs\" textLength=\"39\" x=\"989.5\" y=\"354.8551\">result</text><rect fill=\"#383838\" height=\"12\" style=\"stroke: #F8F8F8; stroke-width: 1.5;\" width=\"12\" x=\"1003\" y=\"329.86\"/><text fill=\"#000000\" font-family=\"sans-serif\" font-size=\"14\" lengthAdjust=\"spacingAndGlyphs\" textLength=\"7\" x=\"661.5\" y=\"85.6982\">v</text><rect fill=\"#383838\" height=\"12\" style=\"stroke: #F8F8F8; stroke-width: 1.5;\" width=\"12\" x=\"659\" y=\"101\"/><text fill=\"#000000\" font-family=\"sans-serif\" font-size=\"14\" lengthAdjust=\"spacingAndGlyphs\" textLength=\"39\" x=\"886.5\" y=\"354.8551\">result</text><rect fill=\"#383838\" height=\"12\" style=\"stroke: #F8F8F8; stroke-width: 1.5;\" width=\"12\" x=\"900\" y=\"329.86\"/><text fill=\"#000000\" font-family=\"sans-serif\" font-size=\"14\" lengthAdjust=\"spacingAndGlyphs\" textLength=\"37\" x=\"780.5\" y=\"391.8551\">mass</text><rect fill=\"#383838\" height=\"12\" style=\"stroke: #F8F8F8; stroke-width: 1.5;\" width=\"12\" x=\"793\" y=\"366.86\"/><text fill=\"#000000\" font-family=\"sans-serif\" font-size=\"14\" lengthAdjust=\"spacingAndGlyphs\" textLength=\"7\" x=\"795.5\" y=\"185.6982\">v</text><rect fill=\"#383838\" height=\"12\" style=\"stroke: #F8F8F8; stroke-width: 1.5;\" width=\"12\" x=\"793\" y=\"201\"/><!--MD5=[0c48fb7552dae8cbbef69381101a84c8]\n",
       "class E15--><a href=\"psysml:26b0c0e9-c7c6-4e19-b68b-97e4f04c11f8\" target=\"_top\" title=\"psysml:26b0c0e9-c7c6-4e19-b68b-97e4f04c11f8\" xlink:actuate=\"onRequest\" xlink:href=\"psysml:26b0c0e9-c7c6-4e19-b68b-97e4f04c11f8\" xlink:show=\"new\" xlink:title=\"psysml:26b0c0e9-c7c6-4e19-b68b-97e4f04c11f8\" xlink:type=\"simple\"><rect fill=\"#FFFFFF\" height=\"45.9375\" id=\"E15\" rx=\"10\" ry=\"10\" style=\"stroke: #383838; stroke-width: 1.5;\" width=\"168\" x=\"376\" y=\"84\"/><text fill=\"#000000\" font-family=\"sans-serif\" font-size=\"12\" font-style=\"italic\" lengthAdjust=\"spacingAndGlyphs\" textLength=\"64\" x=\"428\" y=\"100.1387\">«analysis»</text><text fill=\"#000000\" font-family=\"sans-serif\" font-size=\"12\" lengthAdjust=\"spacingAndGlyphs\" textLength=\"162\" x=\"379\" y=\"114.1074\">analysisPlan: AnalysisPlan</text><line style=\"stroke: #383838; stroke-width: 1.5;\" x1=\"377\" x2=\"543\" y1=\"121.9375\" y2=\"121.9375\"/></a><!--MD5=[35f0587eaee8d5bb9a02e25b63afc23b]\n",
       "class E16--><a href=\"psysml:a55f605c-cc05-4fcd-b9b1-1e930756e010\" target=\"_top\" title=\"psysml:a55f605c-cc05-4fcd-b9b1-1e930756e010\" xlink:actuate=\"onRequest\" xlink:href=\"psysml:a55f605c-cc05-4fcd-b9b1-1e930756e010\" xlink:show=\"new\" xlink:title=\"psysml:a55f605c-cc05-4fcd-b9b1-1e930756e010\" xlink:type=\"simple\"><rect fill=\"#FFFFFF\" height=\"45.9375\" id=\"E16\" rx=\"10\" ry=\"10\" style=\"stroke: #383838; stroke-width: 1.5;\" width=\"93\" x=\"413.5\" y=\"184\"/><text fill=\"#000000\" font-family=\"sans-serif\" font-size=\"12\" font-style=\"italic\" lengthAdjust=\"spacingAndGlyphs\" textLength=\"91\" x=\"414.5\" y=\"200.1387\">«requirement»</text><text fill=\"#000000\" font-family=\"sans-serif\" font-size=\"12\" lengthAdjust=\"spacingAndGlyphs\" textLength=\"19\" x=\"450.5\" y=\"214.1074\">obj</text><line style=\"stroke: #383838; stroke-width: 1.5;\" x1=\"414.5\" x2=\"505.5\" y1=\"221.9375\" y2=\"221.9375\"/></a><!--MD5=[1b01d5b954197aaf3899ca0bde35faf5]\n",
       "link E15 to E8--><a href=\"psysml:31ecf0da-b030-4520-be0f-3ece1376fb5f\" target=\"_top\" title=\"psysml:31ecf0da-b030-4520-be0f-3ece1376fb5f\" xlink:actuate=\"onRequest\" xlink:href=\"psysml:31ecf0da-b030-4520-be0f-3ece1376fb5f\" xlink:show=\"new\" xlink:title=\"psysml:31ecf0da-b030-4520-be0f-3ece1376fb5f\" xlink:type=\"simple\"><path d=\"M544.21,121.86 C588.41,121.86 633.5,121.86 633.5,121.86 C633.5,121.86 633.5,164.42 633.5,189.36 \" fill=\"none\" id=\"E15-&gt;E8\" style=\"stroke: #383838; stroke-width: 1.0;\"/><polygon fill=\"#FFFFFF\" points=\"633.5,189.36,626.5,170.36,640.5,170.36,633.5,189.36\" style=\"stroke: #383838; stroke-width: 1.0;\"/><ellipse cx=\"628.5\" cy=\"164.66\" fill=\"#383838\" rx=\"2\" ry=\"2\" style=\"stroke: #383838; stroke-width: 1.0;\"/><ellipse cx=\"638.5\" cy=\"164.66\" fill=\"#383838\" rx=\"2\" ry=\"2\" style=\"stroke: #383838; stroke-width: 1.0;\"/></a><!--MD5=[f8b155c46b092be73bb522b0a8fc72a2]\n",
       "link E15 to E16--><a href=\"psysml:aa3a7955-6ed3-447d-b0ee-a09ada8803a4\" target=\"_top\" title=\"psysml:aa3a7955-6ed3-447d-b0ee-a09ada8803a4\" xlink:actuate=\"onRequest\" xlink:href=\"psysml:aa3a7955-6ed3-447d-b0ee-a09ada8803a4\" xlink:show=\"new\" xlink:title=\"psysml:aa3a7955-6ed3-447d-b0ee-a09ada8803a4\" xlink:type=\"simple\"><path d=\"M460,130.19 C460,130.19 460,175.93 460,175.93 \" fill=\"none\" id=\"E15-&gt;E16\" style=\"stroke: #383838; stroke-width: 1.0;\"/><polygon fill=\"#383838\" points=\"460,183.93,463,175.93,457,175.93,460,183.93\" style=\"stroke: #383838; stroke-width: 1.0;\"/><text fill=\"#000000\" font-family=\"sans-serif\" font-size=\"13\" lengthAdjust=\"spacingAndGlyphs\" textLength=\"73\" x=\"461\" y=\"161.5669\">«objective»</text><text fill=\"#000000\" font-family=\"sans-serif\" font-size=\"13\" lengthAdjust=\"spacingAndGlyphs\" textLength=\"8\" x=\"450.925\" y=\"172.8075\">1</text></a><!--MD5=[117c3a39bd1ccdd681eea583e9ad786c]\n",
       "@startuml\r\n",
       "skinparam ranksep 10\r\n",
       "skinparam rectangle {\r\n",
       " backgroundColor<<block>> LightGreen\r\n",
       "}\r\n",
       "skinparam linetype ortho\r\n",
       "skinparam monochrome true\r\n",
       "skinparam classbackgroundcolor white\r\n",
       "skinparam shadowing false\r\n",
       "skinparam wrapWidth 300\r\n",
       "hide circle\r\n",
       "\r\n",
       "package \"AnalysisTest\" as E1  [[psysml:f5546318-5597-445e-83af-957575abd1f7 ]]  {\r\n",
       "rec def \"V\" as E2  <<(T,blue) part def>> [[psysml:df856138-3406-4a6b-b583-20ed5eacc0cd ]] {\r\n",
       "}\r\n",
       "rec usage \"vv: V\" as E3  [[psysml:a14948af-c637-432a-b299-badb5d3ced27 ]] {\r\n",
       "}\r\n",
       "comp def \"AnalysisObjective\" as E4  <<(T,blue) requirement def>> [[psysml:b06c710d-6070-489f-855d-95835f572a57 ]] {\r\n",
       "...\r\n",
       "- -\r\n",
       "}\r\n",
       "rec def \"AnalysisCase\" as E5 << analysis def>> [[psysml:e9833d01-8fa8-4820-af73-47d7be444de9 ]] {\r\n",
       "portin \"v\" as E6  [[psysml:fc36d359-2f0c-4a32-9d15-fff2be0a8869 ]] \r\n",
       "portout \"result\" as E7  [[psysml:7ffbe20f-c891-4b52-987b-0be8eb99b87a ]] \r\n",
       "}\r\n",
       "\r\n",
       "rec def \"AnalysisPlan\" as E8 << analysis def>> [[psysml:8a4520e8-ac51-4a2a-8007-cfc5f8084f42 ]] {\r\n",
       "portin \"v\" as E9  [[psysml:7635dc34-c4d2-4388-b045-3a6cac182eef ]] \r\n",
       "rec usage \"analysisCase\" as E10 << analysis>> [[psysml:ef775355-9069-4551-a021-5839d9673f3d ]] {\r\n",
       "portout \"mass\" as E11  [[psysml:56f340db-5793-4dc6-898e-9e0a5f90ef66 ]] \r\n",
       "portin \"v\" as E12  [[psysml:d8dc3b58-26c5-4e6e-82f3-a4f0880c0fd9 ]] \r\n",
       "}\r\n",
       "\r\n",
       "portout \"result\" as E13  [[psysml:55ba6aa8-4536-4622-ad3c-e7c6595a0034 ]] \r\n",
       "}\r\n",
       "\r\n",
       "rec usage \"analysisContext\" as E14  [[psysml:e127547d-9ca6-4380-b459-796effe0b56f ]] {\r\n",
       "comp usage \"analysisPlan: AnalysisPlan\" as E15 << analysis>> [[psysml:26b0c0e9-c7c6-4e19-b68b-97e4f04c11f8 ]] {\r\n",
       "}\r\n",
       "comp usage \"obj\" as E16  <<(T,blue) requirement>> [[psysml:a55f605c-cc05-4fcd-b9b1-1e930756e010 ]] {\r\n",
       "}\r\n",
       "}\r\n",
       "}\r\n",
       "E15 - -:|> E8 [[psysml:31ecf0da-b030-4520-be0f-3ece1376fb5f ]] \r\n",
       "E15 - ->> \"1\"E16 [[psysml:aa3a7955-6ed3-447d-b0ee-a09ada8803a4 ]] : <<objective>>\r\n",
       "@enduml\r\n",
       "\n",
       "PlantUML version 1.2020.13(Sat Jun 13 12:26:38 UTC 2020)\n",
       "(EPL source distribution)\n",
       "Java Runtime: OpenJDK Runtime Environment\n",
       "JVM: OpenJDK 64-Bit Server VM\n",
       "Default Encoding: UTF-8\n",
       "Language: en\n",
       "Country: null\n",
       "--></g></svg>"
      ]
     },
     "execution_count": 54,
     "metadata": {},
     "output_type": "execute_result"
    }
   ],
   "source": [
    "%viz --style=\"ORTHOLINE\" --view=\"Interconnection\" \"AnalysisTest\""
   ]
  },
  {
   "cell_type": "code",
   "execution_count": 55,
   "id": "a3ca5edf",
   "metadata": {
    "execution": {
     "iopub.execute_input": "2021-09-27T07:15:32.890339Z",
     "iopub.status.busy": "2021-09-27T07:15:32.889926Z",
     "iopub.status.idle": "2021-09-27T07:15:32.915315Z",
     "shell.execute_reply": "2021-09-27T07:15:32.914133Z"
    }
   },
   "outputs": [
    {
     "data": {
      "image/svg+xml": [
       "<?xml version=\"1.0\" encoding=\"UTF-8\" standalone=\"no\"?><svg xmlns=\"http://www.w3.org/2000/svg\" xmlns:xlink=\"http://www.w3.org/1999/xlink\" contentScriptType=\"application/ecmascript\" contentStyleType=\"text/css\" height=\"233px\" preserveAspectRatio=\"none\" style=\"width:649px;height:233px;\" version=\"1.1\" viewBox=\"0 0 649 233\" width=\"649px\" zoomAndPan=\"magnify\"><defs/><g><!--MD5=[fbc87193dbaf4d95561dea2c320d4a47]\n",
       "cluster E1--><a href=\"psysml:e9833d01-8fa8-4820-af73-47d7be444de9\" target=\"_top\" title=\"psysml:e9833d01-8fa8-4820-af73-47d7be444de9\" xlink:actuate=\"onRequest\" xlink:href=\"psysml:e9833d01-8fa8-4820-af73-47d7be444de9\" xlink:show=\"new\" xlink:title=\"psysml:e9833d01-8fa8-4820-af73-47d7be444de9\" xlink:type=\"simple\"><rect fill=\"#FFFFFF\" height=\"122\" id=\"E1\" style=\"stroke: #383838; stroke-width: 1.5;\" width=\"146\" x=\"7\" y=\"42.0986\"/><rect fill=\"#F8F8F8\" height=\"37.9375\" style=\"stroke: #383838; stroke-width: 1.5;\" width=\"146\" x=\"7\" y=\"42.0986\"/><text fill=\"#000000\" font-family=\"sans-serif\" font-size=\"12\" font-style=\"italic\" lengthAdjust=\"spacingAndGlyphs\" textLength=\"88\" x=\"36\" y=\"58.2373\">«analysis def»</text><text fill=\"#000000\" font-family=\"sans-serif\" font-size=\"12\" lengthAdjust=\"spacingAndGlyphs\" textLength=\"81\" x=\"39.5\" y=\"72.2061\">AnalysisCase</text></a><!--MD5=[f6df4d0ebaf0b5dfb2ced0ae5af7c670]\n",
       "cluster E4--><a href=\"psysml:8a4520e8-ac51-4a2a-8007-cfc5f8084f42\" target=\"_top\" title=\"psysml:8a4520e8-ac51-4a2a-8007-cfc5f8084f42\" xlink:actuate=\"onRequest\" xlink:href=\"psysml:8a4520e8-ac51-4a2a-8007-cfc5f8084f42\" xlink:show=\"new\" xlink:title=\"psysml:8a4520e8-ac51-4a2a-8007-cfc5f8084f42\" xlink:type=\"simple\"><rect fill=\"#FFFFFF\" height=\"180\" id=\"E4\" style=\"stroke: #383838; stroke-width: 1.5;\" width=\"262\" x=\"216\" y=\"42.0986\"/><rect fill=\"#F8F8F8\" height=\"37.9375\" style=\"stroke: #383838; stroke-width: 1.5;\" width=\"262\" x=\"216\" y=\"42.0986\"/><text fill=\"#000000\" font-family=\"sans-serif\" font-size=\"12\" font-style=\"italic\" lengthAdjust=\"spacingAndGlyphs\" textLength=\"88\" x=\"303\" y=\"58.2373\">«analysis def»</text><text fill=\"#000000\" font-family=\"sans-serif\" font-size=\"12\" lengthAdjust=\"spacingAndGlyphs\" textLength=\"77\" x=\"308.5\" y=\"72.2061\">AnalysisPlan</text></a><!--MD5=[14e3b0961a2654348d326746436168a1]\n",
       "cluster E6--><a href=\"psysml:ef775355-9069-4551-a021-5839d9673f3d\" target=\"_top\" title=\"psysml:ef775355-9069-4551-a021-5839d9673f3d\" xlink:actuate=\"onRequest\" xlink:href=\"psysml:ef775355-9069-4551-a021-5839d9673f3d\" xlink:show=\"new\" xlink:title=\"psysml:ef775355-9069-4551-a021-5839d9673f3d\" xlink:type=\"simple\"><rect fill=\"#FFFFFF\" height=\"110.5\" id=\"E6\" rx=\"10\" ry=\"10\" style=\"stroke: #383838; stroke-width: 1.5;\" width=\"138\" x=\"299\" y=\"81.5986\"/><rect fill=\"#F8F8F8\" height=\"37.9375\" rx=\"10\" ry=\"10\" style=\"stroke: #F8F8F8; stroke-width: 1.5;\" width=\"138\" x=\"299\" y=\"81.5986\"/><rect fill=\"#F8F8F8\" height=\"10\" style=\"stroke: #F8F8F8; stroke-width: 1.5;\" width=\"138\" x=\"299\" y=\"109.5361\"/><rect fill=\"none\" height=\"110.5\" id=\"E6\" rx=\"10\" ry=\"10\" style=\"stroke: #383838; stroke-width: 1.5;\" width=\"138\" x=\"299\" y=\"81.5986\"/><text fill=\"#000000\" font-family=\"sans-serif\" font-size=\"12\" font-style=\"italic\" lengthAdjust=\"spacingAndGlyphs\" textLength=\"64\" x=\"336\" y=\"97.7373\">«analysis»</text><text fill=\"#000000\" font-family=\"sans-serif\" font-size=\"12\" lengthAdjust=\"spacingAndGlyphs\" textLength=\"81\" x=\"327.5\" y=\"111.7061\">analysisCase</text><line style=\"stroke: #383838; stroke-width: 1.0;\" x1=\"299\" x2=\"437\" y1=\"119.5361\" y2=\"119.5361\"/></a><!--MD5=[a84b4591f868c1fa4a211716a82f2f0d]\n",
       "cluster E10--><a href=\"psysml:26b0c0e9-c7c6-4e19-b68b-97e4f04c11f8\" target=\"_top\" title=\"psysml:26b0c0e9-c7c6-4e19-b68b-97e4f04c11f8\" xlink:actuate=\"onRequest\" xlink:href=\"psysml:26b0c0e9-c7c6-4e19-b68b-97e4f04c11f8\" xlink:show=\"new\" xlink:title=\"psysml:26b0c0e9-c7c6-4e19-b68b-97e4f04c11f8\" xlink:type=\"simple\"><rect fill=\"#FFFFFF\" height=\"122\" id=\"E10\" rx=\"10\" ry=\"10\" style=\"stroke: #383838; stroke-width: 1.5;\" width=\"130\" x=\"507\" y=\"42.0986\"/><rect fill=\"#F8F8F8\" height=\"37.9375\" rx=\"10\" ry=\"10\" style=\"stroke: #F8F8F8; stroke-width: 1.5;\" width=\"130\" x=\"507\" y=\"42.0986\"/><rect fill=\"#F8F8F8\" height=\"10\" style=\"stroke: #F8F8F8; stroke-width: 1.5;\" width=\"130\" x=\"507\" y=\"70.0361\"/><rect fill=\"none\" height=\"122\" id=\"E10\" rx=\"10\" ry=\"10\" style=\"stroke: #383838; stroke-width: 1.5;\" width=\"130\" x=\"507\" y=\"42.0986\"/><text fill=\"#000000\" font-family=\"sans-serif\" font-size=\"12\" font-style=\"italic\" lengthAdjust=\"spacingAndGlyphs\" textLength=\"64\" x=\"540\" y=\"58.2373\">«analysis»</text><text fill=\"#000000\" font-family=\"sans-serif\" font-size=\"12\" lengthAdjust=\"spacingAndGlyphs\" textLength=\"77\" x=\"533.5\" y=\"72.2061\">analysisPlan</text><line style=\"stroke: #383838; stroke-width: 1.0;\" x1=\"507\" x2=\"637\" y1=\"80.0361\" y2=\"80.0361\"/></a><text fill=\"#000000\" font-family=\"sans-serif\" font-size=\"14\" lengthAdjust=\"spacingAndGlyphs\" textLength=\"7\" x=\"76.5\" y=\"20.7969\">v</text><rect fill=\"#383838\" height=\"12\" style=\"stroke: #F8F8F8; stroke-width: 1.5;\" width=\"12\" x=\"74\" y=\"36.0986\"/><text fill=\"#000000\" font-family=\"sans-serif\" font-size=\"14\" lengthAdjust=\"spacingAndGlyphs\" textLength=\"39\" x=\"60.5\" y=\"183.0938\">result</text><rect fill=\"#383838\" height=\"12\" style=\"stroke: #F8F8F8; stroke-width: 1.5;\" width=\"12\" x=\"74\" y=\"158.0986\"/><text fill=\"#000000\" font-family=\"sans-serif\" font-size=\"14\" lengthAdjust=\"spacingAndGlyphs\" textLength=\"7\" x=\"230.5\" y=\"20.7969\">v</text><rect fill=\"#383838\" height=\"12\" style=\"stroke: #F8F8F8; stroke-width: 1.5;\" width=\"12\" x=\"228\" y=\"36.0986\"/><text fill=\"#000000\" font-family=\"sans-serif\" font-size=\"14\" lengthAdjust=\"spacingAndGlyphs\" textLength=\"39\" x=\"458.5\" y=\"183.0938\">result</text><rect fill=\"#383838\" height=\"12\" style=\"stroke: #F8F8F8; stroke-width: 1.5;\" width=\"12\" x=\"472\" y=\"158.0986\"/><text fill=\"#000000\" font-family=\"sans-serif\" font-size=\"14\" lengthAdjust=\"spacingAndGlyphs\" textLength=\"37\" x=\"349.5\" y=\"211.0938\">mass</text><rect fill=\"#383838\" height=\"12\" style=\"stroke: #F8F8F8; stroke-width: 1.5;\" width=\"12\" x=\"362\" y=\"186.0986\"/><text fill=\"#000000\" font-family=\"sans-serif\" font-size=\"14\" lengthAdjust=\"spacingAndGlyphs\" textLength=\"7\" x=\"364.5\" y=\"60.2969\">v</text><rect fill=\"#383838\" height=\"12\" style=\"stroke: #F8F8F8; stroke-width: 1.5;\" width=\"12\" x=\"362\" y=\"75.5986\"/><text fill=\"#000000\" font-family=\"sans-serif\" font-size=\"14\" lengthAdjust=\"spacingAndGlyphs\" textLength=\"7\" x=\"567.5\" y=\"20.7969\">v</text><rect fill=\"#383838\" height=\"12\" style=\"stroke: #F8F8F8; stroke-width: 1.5;\" width=\"12\" x=\"565\" y=\"36.0986\"/><text fill=\"#000000\" font-family=\"sans-serif\" font-size=\"14\" lengthAdjust=\"spacingAndGlyphs\" textLength=\"39\" x=\"505.5\" y=\"183.0938\">result</text><rect fill=\"#383838\" height=\"12\" style=\"stroke: #F8F8F8; stroke-width: 1.5;\" width=\"12\" x=\"519\" y=\"158.0986\"/><!--MD5=[717cd7859ef8434b4e7e6890c1688dc0]\n",
       "@startuml\r\n",
       "skinparam ranksep 8\r\n",
       "skinparam linetype ortho\r\n",
       "skinparam monochrome true\r\n",
       "skinparam classbackgroundcolor white\r\n",
       "skinparam shadowing false\r\n",
       "skinparam wrapWidth 300\r\n",
       "hide circle\r\n",
       "\r\n",
       "rec def \"AnalysisCase\" as E1 << analysis def>> [[psysml:e9833d01-8fa8-4820-af73-47d7be444de9 ]] {\r\n",
       "portin \"v\" as E2  [[psysml:fc36d359-2f0c-4a32-9d15-fff2be0a8869 ]] \r\n",
       "portout \"result\" as E3  [[psysml:7ffbe20f-c891-4b52-987b-0be8eb99b87a ]] \r\n",
       "}\r\n",
       "\r\n",
       "rec def \"AnalysisPlan\" as E4 << analysis def>> [[psysml:8a4520e8-ac51-4a2a-8007-cfc5f8084f42 ]] {\r\n",
       "portin \"v\" as E5  [[psysml:7635dc34-c4d2-4388-b045-3a6cac182eef ]] \r\n",
       "rec usage \"analysisCase\" as E6 << analysis>> [[psysml:ef775355-9069-4551-a021-5839d9673f3d ]] {\r\n",
       "portout \"mass\" as E7  [[psysml:56f340db-5793-4dc6-898e-9e0a5f90ef66 ]] \r\n",
       "portin \"v\" as E8  [[psysml:d8dc3b58-26c5-4e6e-82f3-a4f0880c0fd9 ]] \r\n",
       "}\r\n",
       "\r\n",
       "portout \"result\" as E9  [[psysml:55ba6aa8-4536-4622-ad3c-e7c6595a0034 ]] \r\n",
       "}\r\n",
       "\r\n",
       "rec usage \"analysisPlan\" as E10 << analysis>> [[psysml:26b0c0e9-c7c6-4e19-b68b-97e4f04c11f8 ]] {\r\n",
       "portin \"v\" as E11  [[psysml:f389b1b7-0af5-48e1-9589-ecdd74e85b57 ]] \r\n",
       "portout \"result\" as E12  [[psysml:bb9048ad-dd49-4e98-ae44-d0812ca693a4 ]] \r\n",
       "}\r\n",
       "\r\n",
       "@enduml\r\n",
       "\n",
       "PlantUML version 1.2020.13(Sat Jun 13 12:26:38 UTC 2020)\n",
       "(EPL source distribution)\n",
       "Java Runtime: OpenJDK Runtime Environment\n",
       "JVM: OpenJDK 64-Bit Server VM\n",
       "Default Encoding: UTF-8\n",
       "Language: en\n",
       "Country: null\n",
       "--></g></svg>"
      ]
     },
     "execution_count": 55,
     "metadata": {},
     "output_type": "execute_result"
    }
   ],
   "source": [
    "%viz --style=\"ORTHOLINE\" --view=\"Action\" \"AnalysisTest\""
   ]
  },
  {
   "cell_type": "code",
   "execution_count": 56,
   "id": "f57a9b77",
   "metadata": {
    "execution": {
     "iopub.execute_input": "2021-09-27T07:15:32.964914Z",
     "iopub.status.busy": "2021-09-27T07:15:32.964512Z",
     "iopub.status.idle": "2021-09-27T07:15:32.970033Z",
     "shell.execute_reply": "2021-09-27T07:15:32.969695Z"
    }
   },
   "outputs": [
    {
     "data": {
      "image/svg+xml": [
       "<?xml version=\"1.0\" encoding=\"UTF-8\" standalone=\"no\"?><svg xmlns=\"http://www.w3.org/2000/svg\" xmlns:xlink=\"http://www.w3.org/1999/xlink\" contentScriptType=\"application/ecmascript\" contentStyleType=\"text/css\" height=\"12px\" preserveAspectRatio=\"none\" style=\"width:12px;height:12px;\" version=\"1.1\" viewBox=\"0 0 12 12\" width=\"12px\" zoomAndPan=\"magnify\"><defs/><g><!--MD5=[30fc1de5121c5abddedd55b44417fde8]\n",
       "@startuml\r\n",
       "skinparam roundcorner 20\r\n",
       "skinparam BoxPadding 20\r\n",
       "skinparam SequenceBoxBackgroundColor #white\r\n",
       "skinparam style strictuml\r\n",
       "skinparam maxMessageSize 100\r\n",
       "skinparam linetype ortho\r\n",
       "skinparam monochrome true\r\n",
       "skinparam classbackgroundcolor white\r\n",
       "skinparam shadowing false\r\n",
       "skinparam wrapWidth 300\r\n",
       "hide circle\r\n",
       "\r\n",
       "@enduml\r\n",
       "\n",
       "PlantUML version 1.2020.13(Sat Jun 13 12:26:38 UTC 2020)\n",
       "(EPL source distribution)\n",
       "Java Runtime: OpenJDK Runtime Environment\n",
       "JVM: OpenJDK 64-Bit Server VM\n",
       "Default Encoding: UTF-8\n",
       "Language: en\n",
       "Country: null\n",
       "--></g></svg>"
      ]
     },
     "execution_count": 56,
     "metadata": {},
     "output_type": "execute_result"
    }
   ],
   "source": [
    "%viz --style=\"ORTHOLINE\" --view=\"Sequence\" \"AnalysisTest\""
   ]
  },
  {
   "cell_type": "code",
   "execution_count": 57,
   "id": "1d3c6fc5",
   "metadata": {
    "execution": {
     "iopub.execute_input": "2021-09-27T07:15:33.020015Z",
     "iopub.status.busy": "2021-09-27T07:15:33.019620Z",
     "iopub.status.idle": "2021-09-27T07:15:33.076182Z",
     "shell.execute_reply": "2021-09-27T07:15:33.075775Z"
    }
   },
   "outputs": [
    {
     "data": {
      "image/svg+xml": [
       "<?xml version=\"1.0\" encoding=\"UTF-8\" standalone=\"no\"?><svg xmlns=\"http://www.w3.org/2000/svg\" xmlns:xlink=\"http://www.w3.org/1999/xlink\" contentScriptType=\"application/ecmascript\" contentStyleType=\"text/css\" height=\"628px\" preserveAspectRatio=\"none\" style=\"width:837px;height:628px;\" version=\"1.1\" viewBox=\"0 0 837 628\" width=\"837px\" zoomAndPan=\"magnify\"><defs/><g><!--MD5=[fbc87193dbaf4d95561dea2c320d4a47]\n",
       "cluster E1--><a href=\"psysml:f5546318-5597-445e-83af-957575abd1f7\" target=\"_top\" title=\"psysml:f5546318-5597-445e-83af-957575abd1f7\" xlink:actuate=\"onRequest\" xlink:href=\"psysml:f5546318-5597-445e-83af-957575abd1f7\" xlink:show=\"new\" xlink:title=\"psysml:f5546318-5597-445e-83af-957575abd1f7\" xlink:type=\"simple\"><polygon fill=\"#FFFFFF\" points=\"16,6,108,6,115,28.2969,815,28.2969,815,616,16,616,16,6\" style=\"stroke: #000000; stroke-width: 1.5;\"/><line style=\"stroke: #000000; stroke-width: 1.5;\" x1=\"16\" x2=\"115\" y1=\"28.2969\" y2=\"28.2969\"/><text fill=\"#000000\" font-family=\"sans-serif\" font-size=\"14\" font-weight=\"bold\" lengthAdjust=\"spacingAndGlyphs\" textLength=\"86\" x=\"20\" y=\"20.9951\">AnalysisTest</text></a><!--MD5=[de5ec2e2e8f62f467e546659f5068c88]\n",
       "cluster E5--><a href=\"psysml:e9833d01-8fa8-4820-af73-47d7be444de9\" target=\"_top\" title=\"psysml:e9833d01-8fa8-4820-af73-47d7be444de9\" xlink:actuate=\"onRequest\" xlink:href=\"psysml:e9833d01-8fa8-4820-af73-47d7be444de9\" xlink:show=\"new\" xlink:title=\"psysml:e9833d01-8fa8-4820-af73-47d7be444de9\" xlink:type=\"simple\"><rect fill=\"#FFFFFF\" height=\"299.5\" id=\"E5\" style=\"stroke: #383838; stroke-width: 1.5;\" width=\"146\" x=\"653\" y=\"74.5\"/><rect fill=\"#F8F8F8\" height=\"37.9375\" style=\"stroke: #383838; stroke-width: 1.5;\" width=\"146\" x=\"653\" y=\"74.5\"/><text fill=\"#000000\" font-family=\"sans-serif\" font-size=\"12\" font-style=\"italic\" lengthAdjust=\"spacingAndGlyphs\" textLength=\"88\" x=\"682\" y=\"90.6387\">«analysis def»</text><text fill=\"#000000\" font-family=\"sans-serif\" font-size=\"12\" lengthAdjust=\"spacingAndGlyphs\" textLength=\"81\" x=\"685.5\" y=\"104.6074\">AnalysisCase</text></a><!--MD5=[55dfccfc6c49c2d10cd1bd2211a6c90c]\n",
       "cluster E8--><a href=\"psysml:8a4520e8-ac51-4a2a-8007-cfc5f8084f42\" target=\"_top\" title=\"psysml:8a4520e8-ac51-4a2a-8007-cfc5f8084f42\" xlink:actuate=\"onRequest\" xlink:href=\"psysml:8a4520e8-ac51-4a2a-8007-cfc5f8084f42\" xlink:show=\"new\" xlink:title=\"psysml:8a4520e8-ac51-4a2a-8007-cfc5f8084f42\" xlink:type=\"simple\"><rect fill=\"#FFFFFF\" height=\"400\" id=\"E8\" style=\"stroke: #383838; stroke-width: 1.5;\" width=\"259\" x=\"279\" y=\"192\"/><rect fill=\"#F8F8F8\" height=\"37.9375\" style=\"stroke: #383838; stroke-width: 1.5;\" width=\"259\" x=\"279\" y=\"192\"/><text fill=\"#000000\" font-family=\"sans-serif\" font-size=\"12\" font-style=\"italic\" lengthAdjust=\"spacingAndGlyphs\" textLength=\"88\" x=\"364.5\" y=\"208.1387\">«analysis def»</text><text fill=\"#000000\" font-family=\"sans-serif\" font-size=\"12\" lengthAdjust=\"spacingAndGlyphs\" textLength=\"77\" x=\"370\" y=\"222.1074\">AnalysisPlan</text></a><!--MD5=[a84b4591f868c1fa4a211716a82f2f0d]\n",
       "cluster E10--><a href=\"psysml:ef775355-9069-4551-a021-5839d9673f3d\" target=\"_top\" title=\"psysml:ef775355-9069-4551-a021-5839d9673f3d\" xlink:actuate=\"onRequest\" xlink:href=\"psysml:ef775355-9069-4551-a021-5839d9673f3d\" xlink:show=\"new\" xlink:title=\"psysml:ef775355-9069-4551-a021-5839d9673f3d\" xlink:type=\"simple\"><rect fill=\"#FFFFFF\" height=\"239\" id=\"E10\" rx=\"10\" ry=\"10\" style=\"stroke: #383838; stroke-width: 1.5;\" width=\"138\" x=\"362\" y=\"315\"/><rect fill=\"#F8F8F8\" height=\"37.9375\" rx=\"10\" ry=\"10\" style=\"stroke: #F8F8F8; stroke-width: 1.5;\" width=\"138\" x=\"362\" y=\"315\"/><rect fill=\"#F8F8F8\" height=\"10\" style=\"stroke: #F8F8F8; stroke-width: 1.5;\" width=\"138\" x=\"362\" y=\"342.9375\"/><rect fill=\"none\" height=\"239\" id=\"E10\" rx=\"10\" ry=\"10\" style=\"stroke: #383838; stroke-width: 1.5;\" width=\"138\" x=\"362\" y=\"315\"/><text fill=\"#000000\" font-family=\"sans-serif\" font-size=\"12\" font-style=\"italic\" lengthAdjust=\"spacingAndGlyphs\" textLength=\"64\" x=\"399\" y=\"331.1387\">«analysis»</text><text fill=\"#000000\" font-family=\"sans-serif\" font-size=\"12\" lengthAdjust=\"spacingAndGlyphs\" textLength=\"81\" x=\"390.5\" y=\"345.1074\">analysisCase</text><line style=\"stroke: #383838; stroke-width: 1.0;\" x1=\"362\" x2=\"500\" y1=\"352.9375\" y2=\"352.9375\"/></a><!--MD5=[b4997ac47864f28c2f74865a473b2911]\n",
       "class E2--><a href=\"psysml:df856138-3406-4a6b-b583-20ed5eacc0cd\" target=\"_top\" title=\"psysml:df856138-3406-4a6b-b583-20ed5eacc0cd\" xlink:actuate=\"onRequest\" xlink:href=\"psysml:df856138-3406-4a6b-b583-20ed5eacc0cd\" xlink:show=\"new\" xlink:title=\"psysml:df856138-3406-4a6b-b583-20ed5eacc0cd\" xlink:type=\"simple\"><rect fill=\"#FFFFFF\" height=\"45.9375\" id=\"E2\" style=\"stroke: #383838; stroke-width: 1.5;\" width=\"66\" x=\"568\" y=\"169\"/><text fill=\"#000000\" font-family=\"sans-serif\" font-size=\"12\" font-style=\"italic\" lengthAdjust=\"spacingAndGlyphs\" textLength=\"64\" x=\"569\" y=\"185.1387\">«part def»</text><text fill=\"#000000\" font-family=\"sans-serif\" font-size=\"12\" lengthAdjust=\"spacingAndGlyphs\" textLength=\"8\" x=\"597\" y=\"199.1074\">V</text><line style=\"stroke: #383838; stroke-width: 1.5;\" x1=\"569\" x2=\"633\" y1=\"206.9375\" y2=\"206.9375\"/></a><!--MD5=[09b614a08d8cba4a07c9adeb5e0fee81]\n",
       "class E3--><a href=\"psysml:a14948af-c637-432a-b299-badb5d3ced27\" target=\"_top\" title=\"psysml:a14948af-c637-432a-b299-badb5d3ced27\" xlink:actuate=\"onRequest\" xlink:href=\"psysml:a14948af-c637-432a-b299-badb5d3ced27\" xlink:show=\"new\" xlink:title=\"psysml:a14948af-c637-432a-b299-badb5d3ced27\" xlink:type=\"simple\"><rect fill=\"#FFFFFF\" height=\"45.9375\" id=\"E3\" rx=\"10\" ry=\"10\" style=\"stroke: #383838; stroke-width: 1.5;\" width=\"42\" x=\"580\" y=\"51.5\"/><text fill=\"#000000\" font-family=\"sans-serif\" font-size=\"12\" font-style=\"italic\" lengthAdjust=\"spacingAndGlyphs\" textLength=\"40\" x=\"581\" y=\"67.6387\">«part»</text><text fill=\"#000000\" font-family=\"sans-serif\" font-size=\"12\" lengthAdjust=\"spacingAndGlyphs\" textLength=\"28\" x=\"587\" y=\"81.6074\">vv: V</text><line style=\"stroke: #383838; stroke-width: 1.5;\" x1=\"581\" x2=\"621\" y1=\"89.4375\" y2=\"89.4375\"/></a><!--MD5=[ebbe1d658d1005bcc118a6aa81145e00]\n",
       "class E4--><a href=\"psysml:b06c710d-6070-489f-855d-95835f572a57\" target=\"_top\" title=\"psysml:b06c710d-6070-489f-855d-95835f572a57\" xlink:actuate=\"onRequest\" xlink:href=\"psysml:b06c710d-6070-489f-855d-95835f572a57\" xlink:show=\"new\" xlink:title=\"psysml:b06c710d-6070-489f-855d-95835f572a57\" xlink:type=\"simple\"><rect fill=\"#FFFFFF\" height=\"66.7422\" id=\"E4\" style=\"stroke: #383838; stroke-width: 1.5;\" width=\"117\" x=\"315.5\" y=\"41\"/><text fill=\"#000000\" font-family=\"sans-serif\" font-size=\"12\" font-style=\"italic\" lengthAdjust=\"spacingAndGlyphs\" textLength=\"115\" x=\"316.5\" y=\"57.1387\">«requirement def»</text><text fill=\"#000000\" font-family=\"sans-serif\" font-size=\"12\" lengthAdjust=\"spacingAndGlyphs\" textLength=\"107\" x=\"320.5\" y=\"71.1074\">AnalysisObjective</text><line style=\"stroke: #383838; stroke-width: 1.5;\" x1=\"316.5\" x2=\"431.5\" y1=\"78.9375\" y2=\"78.9375\"/><text fill=\"#000000\" font-family=\"sans-serif\" font-size=\"11\" lengthAdjust=\"spacingAndGlyphs\" textLength=\"12\" x=\"321.5\" y=\"93.1479\">...</text><line style=\"stroke: #383838; stroke-width: 1.0;\" x1=\"316.5\" x2=\"431.5\" y1=\"99.7422\" y2=\"99.7422\"/></a><!--MD5=[bee11217b2f71d958a27249dc326068c]\n",
       "class E14--><a href=\"psysml:e127547d-9ca6-4380-b459-796effe0b56f\" target=\"_top\" title=\"psysml:e127547d-9ca6-4380-b459-796effe0b56f\" xlink:actuate=\"onRequest\" xlink:href=\"psysml:e127547d-9ca6-4380-b459-796effe0b56f\" xlink:show=\"new\" xlink:title=\"psysml:e127547d-9ca6-4380-b459-796effe0b56f\" xlink:type=\"simple\"><rect fill=\"#FFFFFF\" height=\"45.9375\" id=\"E14\" rx=\"10\" ry=\"10\" style=\"stroke: #383838; stroke-width: 1.5;\" width=\"104\" x=\"64\" y=\"51.5\"/><text fill=\"#000000\" font-family=\"sans-serif\" font-size=\"12\" font-style=\"italic\" lengthAdjust=\"spacingAndGlyphs\" textLength=\"40\" x=\"96\" y=\"67.6387\">«part»</text><text fill=\"#000000\" font-family=\"sans-serif\" font-size=\"12\" lengthAdjust=\"spacingAndGlyphs\" textLength=\"98\" x=\"67\" y=\"81.6074\">analysisContext</text><line style=\"stroke: #383838; stroke-width: 1.5;\" x1=\"65\" x2=\"167\" y1=\"89.4375\" y2=\"89.4375\"/></a><!--MD5=[0c48fb7552dae8cbbef69381101a84c8]\n",
       "class E15--><a href=\"psysml:26b0c0e9-c7c6-4e19-b68b-97e4f04c11f8\" target=\"_top\" title=\"psysml:26b0c0e9-c7c6-4e19-b68b-97e4f04c11f8\" xlink:actuate=\"onRequest\" xlink:href=\"psysml:26b0c0e9-c7c6-4e19-b68b-97e4f04c11f8\" xlink:show=\"new\" xlink:title=\"psysml:26b0c0e9-c7c6-4e19-b68b-97e4f04c11f8\" xlink:type=\"simple\"><rect fill=\"#FFFFFF\" height=\"45.9375\" id=\"E15\" rx=\"10\" ry=\"10\" style=\"stroke: #383838; stroke-width: 1.5;\" width=\"168\" x=\"32\" y=\"169\"/><text fill=\"#000000\" font-family=\"sans-serif\" font-size=\"12\" font-style=\"italic\" lengthAdjust=\"spacingAndGlyphs\" textLength=\"64\" x=\"84\" y=\"185.1387\">«analysis»</text><text fill=\"#000000\" font-family=\"sans-serif\" font-size=\"12\" lengthAdjust=\"spacingAndGlyphs\" textLength=\"162\" x=\"35\" y=\"199.1074\">analysisPlan: AnalysisPlan</text><line style=\"stroke: #383838; stroke-width: 1.5;\" x1=\"33\" x2=\"199\" y1=\"206.9375\" y2=\"206.9375\"/></a><!--MD5=[35f0587eaee8d5bb9a02e25b63afc23b]\n",
       "class E16--><a href=\"psysml:a55f605c-cc05-4fcd-b9b1-1e930756e010\" target=\"_top\" title=\"psysml:a55f605c-cc05-4fcd-b9b1-1e930756e010\" xlink:actuate=\"onRequest\" xlink:href=\"psysml:a55f605c-cc05-4fcd-b9b1-1e930756e010\" xlink:show=\"new\" xlink:title=\"psysml:a55f605c-cc05-4fcd-b9b1-1e930756e010\" xlink:type=\"simple\"><rect fill=\"#FFFFFF\" height=\"45.9375\" id=\"E16\" rx=\"10\" ry=\"10\" style=\"stroke: #383838; stroke-width: 1.5;\" width=\"93\" x=\"69.5\" y=\"292\"/><text fill=\"#000000\" font-family=\"sans-serif\" font-size=\"12\" font-style=\"italic\" lengthAdjust=\"spacingAndGlyphs\" textLength=\"91\" x=\"70.5\" y=\"308.1387\">«requirement»</text><text fill=\"#000000\" font-family=\"sans-serif\" font-size=\"12\" lengthAdjust=\"spacingAndGlyphs\" textLength=\"19\" x=\"106.5\" y=\"322.1074\">obj</text><line style=\"stroke: #383838; stroke-width: 1.5;\" x1=\"70.5\" x2=\"161.5\" y1=\"329.9375\" y2=\"329.9375\"/></a><text fill=\"#000000\" font-family=\"sans-serif\" font-size=\"14\" lengthAdjust=\"spacingAndGlyphs\" textLength=\"7\" x=\"722.5\" y=\"53.1982\">v</text><rect fill=\"#383838\" height=\"12\" style=\"stroke: #F8F8F8; stroke-width: 1.5;\" width=\"12\" x=\"720\" y=\"68.5\"/><text fill=\"#000000\" font-family=\"sans-serif\" font-size=\"14\" lengthAdjust=\"spacingAndGlyphs\" textLength=\"39\" x=\"706.5\" y=\"392.9951\">result</text><rect fill=\"#383838\" height=\"12\" style=\"stroke: #F8F8F8; stroke-width: 1.5;\" width=\"12\" x=\"720\" y=\"368\"/><text fill=\"#000000\" font-family=\"sans-serif\" font-size=\"14\" lengthAdjust=\"spacingAndGlyphs\" textLength=\"7\" x=\"293.5\" y=\"170.6982\">v</text><rect fill=\"#383838\" height=\"12\" style=\"stroke: #F8F8F8; stroke-width: 1.5;\" width=\"12\" x=\"291\" y=\"186\"/><text fill=\"#000000\" font-family=\"sans-serif\" font-size=\"14\" lengthAdjust=\"spacingAndGlyphs\" textLength=\"39\" x=\"518.5\" y=\"499.9951\">result</text><rect fill=\"#383838\" height=\"12\" style=\"stroke: #F8F8F8; stroke-width: 1.5;\" width=\"12\" x=\"532\" y=\"475\"/><text fill=\"#000000\" font-family=\"sans-serif\" font-size=\"14\" lengthAdjust=\"spacingAndGlyphs\" textLength=\"37\" x=\"412.5\" y=\"572.9951\">mass</text><rect fill=\"#383838\" height=\"12\" style=\"stroke: #F8F8F8; stroke-width: 1.5;\" width=\"12\" x=\"425\" y=\"548\"/><text fill=\"#000000\" font-family=\"sans-serif\" font-size=\"14\" lengthAdjust=\"spacingAndGlyphs\" textLength=\"7\" x=\"427.5\" y=\"293.6982\">v</text><rect fill=\"#383838\" height=\"12\" style=\"stroke: #F8F8F8; stroke-width: 1.5;\" width=\"12\" x=\"425\" y=\"309\"/><!--MD5=[05d275557350bfb9b23a4ef7222b4c39]\n",
       "link E3 to E2--><a href=\"psysml:4553bbf6-343c-42bd-a219-72e0d50d2170\" target=\"_top\" title=\"psysml:4553bbf6-343c-42bd-a219-72e0d50d2170\" xlink:actuate=\"onRequest\" xlink:href=\"psysml:4553bbf6-343c-42bd-a219-72e0d50d2170\" xlink:show=\"new\" xlink:title=\"psysml:4553bbf6-343c-42bd-a219-72e0d50d2170\" xlink:type=\"simple\"><path d=\"M601,97.71 C601,97.71 601,148.83 601,148.83 \" fill=\"none\" id=\"E3-&gt;E2\" style=\"stroke: #383838; stroke-width: 1.0;\"/><polygon fill=\"#FFFFFF\" points=\"601,168.83,594,149.83,608,149.83,601,168.83\" style=\"stroke: #383838; stroke-width: 1.0;\"/><ellipse cx=\"596\" cy=\"144.13\" fill=\"#383838\" rx=\"2\" ry=\"2\" style=\"stroke: #383838; stroke-width: 1.0;\"/><ellipse cx=\"606\" cy=\"144.13\" fill=\"#383838\" rx=\"2\" ry=\"2\" style=\"stroke: #383838; stroke-width: 1.0;\"/></a><!--MD5=[17bf29720e4688890742b92d9a67fdf0]\n",
       "reverse link E14 to E15--><a href=\"psysml:cf81c84a-d20a-4a9d-8212-c3de89ec9ad0\" target=\"_top\" title=\"psysml:cf81c84a-d20a-4a9d-8212-c3de89ec9ad0\" xlink:actuate=\"onRequest\" xlink:href=\"psysml:cf81c84a-d20a-4a9d-8212-c3de89ec9ad0\" xlink:show=\"new\" xlink:title=\"psysml:cf81c84a-d20a-4a9d-8212-c3de89ec9ad0\" xlink:type=\"simple\"><path d=\"M116,110.71 C116,110.71 116,168.83 116,168.83 \" fill=\"none\" id=\"E14&lt;-E15\" style=\"stroke: #383838; stroke-width: 1.0;\"/><polygon fill=\"#383838\" points=\"116,97.71,112,103.71,116,109.71,120,103.71,116,97.71\" style=\"stroke: #383838; stroke-width: 1.0;\"/></a><!--MD5=[1b01d5b954197aaf3899ca0bde35faf5]\n",
       "link E15 to E8--><a href=\"psysml:31ecf0da-b030-4520-be0f-3ece1376fb5f\" target=\"_top\" title=\"psysml:31ecf0da-b030-4520-be0f-3ece1376fb5f\" xlink:actuate=\"onRequest\" xlink:href=\"psysml:31ecf0da-b030-4520-be0f-3ece1376fb5f\" xlink:show=\"new\" xlink:title=\"psysml:31ecf0da-b030-4520-be0f-3ece1376fb5f\" xlink:type=\"simple\"><path d=\"M200.36,207 C234.27,207 265.5,207 265.5,207 C265.5,207 265.5,266.49 265.5,297.17 \" fill=\"none\" id=\"E15-&gt;E8\" style=\"stroke: #383838; stroke-width: 1.0;\"/><polygon fill=\"#FFFFFF\" points=\"265.5,297.17,258.5,278.17,272.5,278.17,265.5,297.17\" style=\"stroke: #383838; stroke-width: 1.0;\"/><ellipse cx=\"260.5\" cy=\"272.47\" fill=\"#383838\" rx=\"2\" ry=\"2\" style=\"stroke: #383838; stroke-width: 1.0;\"/><ellipse cx=\"270.5\" cy=\"272.47\" fill=\"#383838\" rx=\"2\" ry=\"2\" style=\"stroke: #383838; stroke-width: 1.0;\"/></a><!--MD5=[f8b155c46b092be73bb522b0a8fc72a2]\n",
       "link E15 to E16--><a href=\"psysml:aa3a7955-6ed3-447d-b0ee-a09ada8803a4\" target=\"_top\" title=\"psysml:aa3a7955-6ed3-447d-b0ee-a09ada8803a4\" xlink:actuate=\"onRequest\" xlink:href=\"psysml:aa3a7955-6ed3-447d-b0ee-a09ada8803a4\" xlink:show=\"new\" xlink:title=\"psysml:aa3a7955-6ed3-447d-b0ee-a09ada8803a4\" xlink:type=\"simple\"><path d=\"M116,215.14 C116,215.14 116,283.97 116,283.97 \" fill=\"none\" id=\"E15-&gt;E16\" style=\"stroke: #383838; stroke-width: 1.0;\"/><polygon fill=\"#383838\" points=\"116,291.97,119,283.97,113,283.97,116,291.97\" style=\"stroke: #383838; stroke-width: 1.0;\"/><text fill=\"#000000\" font-family=\"sans-serif\" font-size=\"13\" lengthAdjust=\"spacingAndGlyphs\" textLength=\"73\" x=\"117\" y=\"258.0669\">«objective»</text><text fill=\"#000000\" font-family=\"sans-serif\" font-size=\"13\" lengthAdjust=\"spacingAndGlyphs\" textLength=\"8\" x=\"106.925\" y=\"280.8582\">1</text></a><!--MD5=[7342f6cb9725a07dc58622ac094e0b91]\n",
       "@startuml\r\n",
       "skinparam linetype ortho\r\n",
       "skinparam monochrome true\r\n",
       "skinparam classbackgroundcolor white\r\n",
       "skinparam shadowing false\r\n",
       "skinparam wrapWidth 300\r\n",
       "hide circle\r\n",
       "\r\n",
       "package \"AnalysisTest\" as E1  [[psysml:f5546318-5597-445e-83af-957575abd1f7 ]]  {\r\n",
       "comp def \"V\" as E2  <<(T,blue) part def>> [[psysml:df856138-3406-4a6b-b583-20ed5eacc0cd ]] {\r\n",
       "}\r\n",
       "comp usage \"vv: V\" as E3  <<(T,blue) part>> [[psysml:a14948af-c637-432a-b299-badb5d3ced27 ]] {\r\n",
       "}\r\n",
       "comp def \"AnalysisObjective\" as E4  <<(T,blue) requirement def>> [[psysml:b06c710d-6070-489f-855d-95835f572a57 ]] {\r\n",
       "...\r\n",
       "- -\r\n",
       "}\r\n",
       "rec def \"AnalysisCase\" as E5 << analysis def>> [[psysml:e9833d01-8fa8-4820-af73-47d7be444de9 ]] {\r\n",
       "portin \"v\" as E6  [[psysml:fc36d359-2f0c-4a32-9d15-fff2be0a8869 ]] \r\n",
       "portout \"result\" as E7  [[psysml:7ffbe20f-c891-4b52-987b-0be8eb99b87a ]] \r\n",
       "}\r\n",
       "\r\n",
       "rec def \"AnalysisPlan\" as E8 << analysis def>> [[psysml:8a4520e8-ac51-4a2a-8007-cfc5f8084f42 ]] {\r\n",
       "portin \"v\" as E9  [[psysml:7635dc34-c4d2-4388-b045-3a6cac182eef ]] \r\n",
       "rec usage \"analysisCase\" as E10 << analysis>> [[psysml:ef775355-9069-4551-a021-5839d9673f3d ]] {\r\n",
       "portout \"mass\" as E11  [[psysml:56f340db-5793-4dc6-898e-9e0a5f90ef66 ]] \r\n",
       "portin \"v\" as E12  [[psysml:d8dc3b58-26c5-4e6e-82f3-a4f0880c0fd9 ]] \r\n",
       "}\r\n",
       "\r\n",
       "portout \"result\" as E13  [[psysml:55ba6aa8-4536-4622-ad3c-e7c6595a0034 ]] \r\n",
       "}\r\n",
       "\r\n",
       "comp usage \"analysisContext\" as E14  <<(T,blue) part>> [[psysml:e127547d-9ca6-4380-b459-796effe0b56f ]] {\r\n",
       "}\r\n",
       "comp usage \"analysisPlan: AnalysisPlan\" as E15 << analysis>> [[psysml:26b0c0e9-c7c6-4e19-b68b-97e4f04c11f8 ]] {\r\n",
       "}\r\n",
       "comp usage \"obj\" as E16  <<(T,blue) requirement>> [[psysml:a55f605c-cc05-4fcd-b9b1-1e930756e010 ]] {\r\n",
       "}\r\n",
       "}\r\n",
       "E3 - -:|> E2 [[psysml:4553bbf6-343c-42bd-a219-72e0d50d2170 ]] \r\n",
       "E14 *- - E15 [[psysml:cf81c84a-d20a-4a9d-8212-c3de89ec9ad0 ]] \r\n",
       "E15 - -:|> E8 [[psysml:31ecf0da-b030-4520-be0f-3ece1376fb5f ]] \r\n",
       "E15 - ->> \"1\"E16 [[psysml:aa3a7955-6ed3-447d-b0ee-a09ada8803a4 ]] : <<objective>>\r\n",
       "@enduml\r\n",
       "\n",
       "PlantUML version 1.2020.13(Sat Jun 13 12:26:38 UTC 2020)\n",
       "(EPL source distribution)\n",
       "Java Runtime: OpenJDK Runtime Environment\n",
       "JVM: OpenJDK 64-Bit Server VM\n",
       "Default Encoding: UTF-8\n",
       "Language: en\n",
       "Country: null\n",
       "--></g></svg>"
      ]
     },
     "execution_count": 57,
     "metadata": {},
     "output_type": "execute_result"
    }
   ],
   "source": [
    "%viz --style=\"ORTHOLINE\" --view=\"MIXED\" \"AnalysisTest\""
   ]
  }
 ],
 "metadata": {
  "kernelspec": {
   "display_name": "SysML",
   "language": "sysml",
   "name": "sysml"
  },
  "language_info": {
   "codemirror_mode": "sysml",
   "file_extension": ".sysml",
   "mimetype": "text/x-sysml",
   "name": "SysML",
   "pygments_lexer": "java",
   "version": "1.0.0"
  }
 },
 "nbformat": 4,
 "nbformat_minor": 5
}
