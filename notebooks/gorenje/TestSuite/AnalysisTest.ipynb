{
 "cells": [
  {
   "cell_type": "markdown",
   "id": "7ea66351",
   "metadata": {},
   "source": [
    "# SysML v2 Test Suite\n",
    "\n",
    "This can notebook can be cleared using menu `Edit --> Clear All Outputs` and then all cells can be\n",
    "run using menu `Run --> Run All Cells`.\n",
    "\n",
    "**WARNING**: This file is generated, all modifications here will be ignored.\n"
   ]
  },
  {
   "cell_type": "markdown",
   "id": "8e835bc5",
   "metadata": {},
   "source": [
    "## File: ../../sysml/src/examples/Simple Tests/AnalysisTest.sysml"
   ]
  },
  {
   "cell_type": "code",
   "execution_count": 1,
   "id": "f5d29be8",
   "metadata": {
    "execution": {
     "iopub.execute_input": "2021-11-13T12:57:16.095694Z",
     "iopub.status.busy": "2021-11-13T12:57:16.094395Z",
     "iopub.status.idle": "2021-11-13T12:57:16.517933Z",
     "shell.execute_reply": "2021-11-13T12:57:16.518282Z"
    }
   },
   "outputs": [
    {
     "data": {
      "text/plain": [
       "Package AnalysisTest (d8e4aa9c-4638-4f5d-835a-a93ceb5fedb1)\n"
      ]
     },
     "execution_count": 1,
     "metadata": {},
     "output_type": "execute_result"
    }
   ],
   "source": [
    "package AnalysisTest {\n",
    "\n",
    "\tpart def V {\n",
    "\t\tm;\n",
    "\t}\n",
    "\t\n",
    "\tpart vv : V;\n",
    "\t\n",
    "\trequirement def AnalysisObjective {\n",
    "\t\tdoc /* ... */\n",
    "\t}\n",
    "\n",
    "\tanalysis def AnalysisCase {\n",
    "\t\tsubject v : V;\n",
    "\t\t\n",
    "\t\tobjective obj : AnalysisObjective { \n",
    "\t\t\tsubject = result;\n",
    "\t\t}\n",
    "\t\t\n",
    "\t\tv.m\n",
    "\t}\n",
    "\t\n",
    "\tanalysis def AnalysisPlan {\n",
    "\t\tsubject v : V;\n",
    "\t\t\n",
    "\t\tobjective {\n",
    "\t\t\tdoc /* ... */\n",
    "\t\t}\n",
    "\t\t\n",
    "\t\tanalysis analysisCase : AnalysisCase () return mass;\n",
    "\t}\n",
    "\t\n",
    "\tpart analysisContext {\n",
    "\t\tanalysis analysisPlan : AnalysisPlan {\n",
    "\t\t\tsubject v = vv;\n",
    "\t\t}\n",
    "\t}\n",
    "}"
   ]
  },
  {
   "cell_type": "code",
   "execution_count": 2,
   "id": "5f419ea2",
   "metadata": {
    "execution": {
     "iopub.execute_input": "2021-11-13T12:57:16.568137Z",
     "iopub.status.busy": "2021-11-13T12:57:16.567540Z",
     "iopub.status.idle": "2021-11-13T12:57:17.064124Z",
     "shell.execute_reply": "2021-11-13T12:57:17.062109Z"
    }
   },
   "outputs": [
    {
     "data": {
      "image/svg+xml": [
       "<?xml version=\"1.0\" encoding=\"UTF-8\" standalone=\"no\"?><svg xmlns=\"http://www.w3.org/2000/svg\" xmlns:xlink=\"http://www.w3.org/1999/xlink\" contentScriptType=\"application/ecmascript\" contentStyleType=\"text/css\" height=\"658px\" preserveAspectRatio=\"none\" style=\"width:845px;height:658px;\" version=\"1.1\" viewBox=\"0 0 845 658\" width=\"845px\" zoomAndPan=\"magnify\"><defs/><g><!--MD5=[fbc87193dbaf4d95561dea2c320d4a47]\n",
       "cluster E1--><a href=\"psysml:d47d9c93-f987-42aa-9c82-a11afa9e7a85\" target=\"_top\" title=\"psysml:d47d9c93-f987-42aa-9c82-a11afa9e7a85\" xlink:actuate=\"onRequest\" xlink:href=\"psysml:d47d9c93-f987-42aa-9c82-a11afa9e7a85\" xlink:show=\"new\" xlink:title=\"psysml:d47d9c93-f987-42aa-9c82-a11afa9e7a85\" xlink:type=\"simple\"><polygon fill=\"#FFFFFF\" points=\"16,6,108,6,115,28.2969,823,28.2969,823,646,16,646,16,6\" style=\"stroke: #000000; stroke-width: 1.5;\"/><line style=\"stroke: #000000; stroke-width: 1.5;\" x1=\"16\" x2=\"115\" y1=\"28.2969\" y2=\"28.2969\"/><text fill=\"#000000\" font-family=\"sans-serif\" font-size=\"14\" font-weight=\"bold\" lengthAdjust=\"spacingAndGlyphs\" textLength=\"86\" x=\"20\" y=\"20.9951\">AnalysisTest</text></a><!--MD5=[de5ec2e2e8f62f467e546659f5068c88]\n",
       "cluster E5--><a href=\"psysml:0d42cad1-3808-4e7b-8fe6-f660e27fd2bd\" target=\"_top\" title=\"psysml:0d42cad1-3808-4e7b-8fe6-f660e27fd2bd\" xlink:actuate=\"onRequest\" xlink:href=\"psysml:0d42cad1-3808-4e7b-8fe6-f660e27fd2bd\" xlink:show=\"new\" xlink:title=\"psysml:0d42cad1-3808-4e7b-8fe6-f660e27fd2bd\" xlink:type=\"simple\"><rect fill=\"#FFFFFF\" height=\"329.5\" id=\"E5\" style=\"stroke: #383838; stroke-width: 1.5;\" width=\"146\" x=\"661\" y=\"74.5\"/><rect fill=\"#F8F8F8\" height=\"37.9375\" style=\"stroke: #383838; stroke-width: 1.5;\" width=\"146\" x=\"661\" y=\"74.5\"/><text fill=\"#000000\" font-family=\"sans-serif\" font-size=\"12\" font-style=\"italic\" lengthAdjust=\"spacingAndGlyphs\" textLength=\"88\" x=\"690\" y=\"90.6387\">«analysis def»</text><text fill=\"#000000\" font-family=\"sans-serif\" font-size=\"12\" lengthAdjust=\"spacingAndGlyphs\" textLength=\"81\" x=\"693.5\" y=\"104.6074\">AnalysisCase</text></a><!--MD5=[55dfccfc6c49c2d10cd1bd2211a6c90c]\n",
       "cluster E8--><a href=\"psysml:058a72e0-0a98-4261-856d-73366cf47a25\" target=\"_top\" title=\"psysml:058a72e0-0a98-4261-856d-73366cf47a25\" xlink:actuate=\"onRequest\" xlink:href=\"psysml:058a72e0-0a98-4261-856d-73366cf47a25\" xlink:show=\"new\" xlink:title=\"psysml:058a72e0-0a98-4261-856d-73366cf47a25\" xlink:type=\"simple\"><rect fill=\"#FFFFFF\" height=\"415\" id=\"E8\" style=\"stroke: #383838; stroke-width: 1.5;\" width=\"259\" x=\"283\" y=\"207\"/><rect fill=\"#F8F8F8\" height=\"37.9375\" style=\"stroke: #383838; stroke-width: 1.5;\" width=\"259\" x=\"283\" y=\"207\"/><text fill=\"#000000\" font-family=\"sans-serif\" font-size=\"12\" font-style=\"italic\" lengthAdjust=\"spacingAndGlyphs\" textLength=\"88\" x=\"368.5\" y=\"223.1387\">«analysis def»</text><text fill=\"#000000\" font-family=\"sans-serif\" font-size=\"12\" lengthAdjust=\"spacingAndGlyphs\" textLength=\"77\" x=\"374\" y=\"237.1074\">AnalysisPlan</text></a><!--MD5=[a84b4591f868c1fa4a211716a82f2f0d]\n",
       "cluster E10--><a href=\"psysml:ebac0614-db53-4f6a-a11b-2a64966401ed\" target=\"_top\" title=\"psysml:ebac0614-db53-4f6a-a11b-2a64966401ed\" xlink:actuate=\"onRequest\" xlink:href=\"psysml:ebac0614-db53-4f6a-a11b-2a64966401ed\" xlink:show=\"new\" xlink:title=\"psysml:ebac0614-db53-4f6a-a11b-2a64966401ed\" xlink:type=\"simple\"><rect fill=\"#FFFFFF\" height=\"239\" id=\"E10\" rx=\"10\" ry=\"10\" style=\"stroke: #383838; stroke-width: 1.5;\" width=\"138\" x=\"366\" y=\"345\"/><rect fill=\"#F8F8F8\" height=\"37.9375\" rx=\"10\" ry=\"10\" style=\"stroke: #F8F8F8; stroke-width: 1.5;\" width=\"138\" x=\"366\" y=\"345\"/><rect fill=\"#F8F8F8\" height=\"10\" style=\"stroke: #F8F8F8; stroke-width: 1.5;\" width=\"138\" x=\"366\" y=\"372.9375\"/><rect fill=\"none\" height=\"239\" id=\"E10\" rx=\"10\" ry=\"10\" style=\"stroke: #383838; stroke-width: 1.5;\" width=\"138\" x=\"366\" y=\"345\"/><text fill=\"#000000\" font-family=\"sans-serif\" font-size=\"12\" font-style=\"italic\" lengthAdjust=\"spacingAndGlyphs\" textLength=\"64\" x=\"403\" y=\"361.1387\">«analysis»</text><text fill=\"#000000\" font-family=\"sans-serif\" font-size=\"12\" lengthAdjust=\"spacingAndGlyphs\" textLength=\"81\" x=\"394.5\" y=\"375.1074\">analysisCase</text><line style=\"stroke: #383838; stroke-width: 1.0;\" x1=\"366\" x2=\"504\" y1=\"382.9375\" y2=\"382.9375\"/></a><!--MD5=[b4997ac47864f28c2f74865a473b2911]\n",
       "class E2--><a href=\"psysml:6e318fc7-f06d-4e4c-8e44-1e6d0f884455\" target=\"_top\" title=\"psysml:6e318fc7-f06d-4e4c-8e44-1e6d0f884455\" xlink:actuate=\"onRequest\" xlink:href=\"psysml:6e318fc7-f06d-4e4c-8e44-1e6d0f884455\" xlink:show=\"new\" xlink:title=\"psysml:6e318fc7-f06d-4e4c-8e44-1e6d0f884455\" xlink:type=\"simple\"><rect fill=\"#FFFFFF\" height=\"75.5469\" id=\"E2\" style=\"stroke: #383838; stroke-width: 1.5;\" width=\"70\" x=\"572\" y=\"169\"/><text fill=\"#000000\" font-family=\"sans-serif\" font-size=\"12\" font-style=\"italic\" lengthAdjust=\"spacingAndGlyphs\" textLength=\"68\" x=\"573\" y=\"185.1387\">«part  def»</text><text fill=\"#000000\" font-family=\"sans-serif\" font-size=\"12\" lengthAdjust=\"spacingAndGlyphs\" textLength=\"8\" x=\"603\" y=\"199.1074\">V</text><line style=\"stroke: #383838; stroke-width: 1.5;\" x1=\"573\" x2=\"641\" y1=\"206.9375\" y2=\"206.9375\"/><text fill=\"#000000\" font-family=\"sans-serif\" font-size=\"11\" lengthAdjust=\"spacingAndGlyphs\" textLength=\"11\" x=\"578\" y=\"237.9526\">m</text><line style=\"stroke: #383838; stroke-width: 1.0;\" x1=\"573\" x2=\"576\" y1=\"221.3398\" y2=\"221.3398\"/><text fill=\"#000000\" font-family=\"sans-serif\" font-size=\"11\" lengthAdjust=\"spacingAndGlyphs\" textLength=\"62\" x=\"576\" y=\"224.6479\">references</text><line style=\"stroke: #383838; stroke-width: 1.0;\" x1=\"638\" x2=\"641\" y1=\"221.3398\" y2=\"221.3398\"/></a><!--MD5=[09b614a08d8cba4a07c9adeb5e0fee81]\n",
       "class E3--><a href=\"psysml:27999d5c-daad-4ed7-92ff-020a622ea083\" target=\"_top\" title=\"psysml:27999d5c-daad-4ed7-92ff-020a622ea083\" xlink:actuate=\"onRequest\" xlink:href=\"psysml:27999d5c-daad-4ed7-92ff-020a622ea083\" xlink:show=\"new\" xlink:title=\"psysml:27999d5c-daad-4ed7-92ff-020a622ea083\" xlink:type=\"simple\"><rect fill=\"#FFFFFF\" height=\"45.9375\" id=\"E3\" rx=\"10\" ry=\"10\" style=\"stroke: #383838; stroke-width: 1.5;\" width=\"42\" x=\"586\" y=\"51.5\"/><text fill=\"#000000\" font-family=\"sans-serif\" font-size=\"12\" font-style=\"italic\" lengthAdjust=\"spacingAndGlyphs\" textLength=\"40\" x=\"587\" y=\"67.6387\">«part»</text><text fill=\"#000000\" font-family=\"sans-serif\" font-size=\"12\" lengthAdjust=\"spacingAndGlyphs\" textLength=\"28\" x=\"591\" y=\"81.6074\">vv: V</text><line style=\"stroke: #383838; stroke-width: 1.5;\" x1=\"587\" x2=\"627\" y1=\"89.4375\" y2=\"89.4375\"/></a><!--MD5=[ebbe1d658d1005bcc118a6aa81145e00]\n",
       "class E4--><a href=\"psysml:31fce779-d9ab-452b-8111-7f3c68bff972\" target=\"_top\" title=\"psysml:31fce779-d9ab-452b-8111-7f3c68bff972\" xlink:actuate=\"onRequest\" xlink:href=\"psysml:31fce779-d9ab-452b-8111-7f3c68bff972\" xlink:show=\"new\" xlink:title=\"psysml:31fce779-d9ab-452b-8111-7f3c68bff972\" xlink:type=\"simple\"><rect fill=\"#FFFFFF\" height=\"66.7422\" id=\"E4\" style=\"stroke: #383838; stroke-width: 1.5;\" width=\"121\" x=\"317.5\" y=\"41\"/><text fill=\"#000000\" font-family=\"sans-serif\" font-size=\"12\" font-style=\"italic\" lengthAdjust=\"spacingAndGlyphs\" textLength=\"119\" x=\"318.5\" y=\"57.1387\">«requirement  def»</text><text fill=\"#000000\" font-family=\"sans-serif\" font-size=\"12\" lengthAdjust=\"spacingAndGlyphs\" textLength=\"107\" x=\"324.5\" y=\"71.1074\">AnalysisObjective</text><line style=\"stroke: #383838; stroke-width: 1.5;\" x1=\"318.5\" x2=\"437.5\" y1=\"78.9375\" y2=\"78.9375\"/><text fill=\"#000000\" font-family=\"sans-serif\" font-size=\"11\" lengthAdjust=\"spacingAndGlyphs\" textLength=\"12\" x=\"323.5\" y=\"93.1479\">...</text><line style=\"stroke: #383838; stroke-width: 1.0;\" x1=\"318.5\" x2=\"437.5\" y1=\"99.7422\" y2=\"99.7422\"/></a><!--MD5=[bee11217b2f71d958a27249dc326068c]\n",
       "class E14--><a href=\"psysml:2f29b586-744b-44a6-b354-0cb36fac52ba\" target=\"_top\" title=\"psysml:2f29b586-744b-44a6-b354-0cb36fac52ba\" xlink:actuate=\"onRequest\" xlink:href=\"psysml:2f29b586-744b-44a6-b354-0cb36fac52ba\" xlink:show=\"new\" xlink:title=\"psysml:2f29b586-744b-44a6-b354-0cb36fac52ba\" xlink:type=\"simple\"><rect fill=\"#FFFFFF\" height=\"45.9375\" id=\"E14\" rx=\"10\" ry=\"10\" style=\"stroke: #383838; stroke-width: 1.5;\" width=\"104\" x=\"66\" y=\"51.5\"/><text fill=\"#000000\" font-family=\"sans-serif\" font-size=\"12\" font-style=\"italic\" lengthAdjust=\"spacingAndGlyphs\" textLength=\"40\" x=\"98\" y=\"67.6387\">«part»</text><text fill=\"#000000\" font-family=\"sans-serif\" font-size=\"12\" lengthAdjust=\"spacingAndGlyphs\" textLength=\"98\" x=\"69\" y=\"81.6074\">analysisContext</text><line style=\"stroke: #383838; stroke-width: 1.5;\" x1=\"67\" x2=\"169\" y1=\"89.4375\" y2=\"89.4375\"/></a><!--MD5=[0c48fb7552dae8cbbef69381101a84c8]\n",
       "class E15--><a href=\"psysml:cfe8b385-7bc2-406c-91e1-db9911ba5874\" target=\"_top\" title=\"psysml:cfe8b385-7bc2-406c-91e1-db9911ba5874\" xlink:actuate=\"onRequest\" xlink:href=\"psysml:cfe8b385-7bc2-406c-91e1-db9911ba5874\" xlink:show=\"new\" xlink:title=\"psysml:cfe8b385-7bc2-406c-91e1-db9911ba5874\" xlink:type=\"simple\"><rect fill=\"#FFFFFF\" height=\"45.9375\" id=\"E15\" rx=\"10\" ry=\"10\" style=\"stroke: #383838; stroke-width: 1.5;\" width=\"172\" x=\"32\" y=\"184\"/><text fill=\"#000000\" font-family=\"sans-serif\" font-size=\"12\" font-style=\"italic\" lengthAdjust=\"spacingAndGlyphs\" textLength=\"64\" x=\"86\" y=\"200.1387\">«analysis»</text><text fill=\"#000000\" font-family=\"sans-serif\" font-size=\"12\" lengthAdjust=\"spacingAndGlyphs\" textLength=\"162\" x=\"35\" y=\"214.1074\">analysisPlan: AnalysisPlan</text><line style=\"stroke: #383838; stroke-width: 1.5;\" x1=\"33\" x2=\"203\" y1=\"221.9375\" y2=\"221.9375\"/></a><!--MD5=[35f0587eaee8d5bb9a02e25b63afc23b]\n",
       "class E16--><a href=\"psysml:63325e1e-8a82-4691-b26b-3354962a7cad\" target=\"_top\" title=\"psysml:63325e1e-8a82-4691-b26b-3354962a7cad\" xlink:actuate=\"onRequest\" xlink:href=\"psysml:63325e1e-8a82-4691-b26b-3354962a7cad\" xlink:show=\"new\" xlink:title=\"psysml:63325e1e-8a82-4691-b26b-3354962a7cad\" xlink:type=\"simple\"><rect fill=\"#FFFFFF\" height=\"45.9375\" id=\"E16\" rx=\"10\" ry=\"10\" style=\"stroke: #383838; stroke-width: 1.5;\" width=\"93\" x=\"71.5\" y=\"322\"/><text fill=\"#000000\" font-family=\"sans-serif\" font-size=\"12\" font-style=\"italic\" lengthAdjust=\"spacingAndGlyphs\" textLength=\"91\" x=\"72.5\" y=\"338.1387\">«requirement»</text><text fill=\"#000000\" font-family=\"sans-serif\" font-size=\"12\" lengthAdjust=\"spacingAndGlyphs\" textLength=\"19\" x=\"108.5\" y=\"352.1074\">obj</text><line style=\"stroke: #383838; stroke-width: 1.5;\" x1=\"72.5\" x2=\"163.5\" y1=\"359.9375\" y2=\"359.9375\"/></a><text fill=\"#000000\" font-family=\"sans-serif\" font-size=\"14\" lengthAdjust=\"spacingAndGlyphs\" textLength=\"7\" x=\"730.5\" y=\"53.1982\">v</text><rect fill=\"#383838\" height=\"12\" style=\"stroke: #F8F8F8; stroke-width: 1.5;\" width=\"12\" x=\"728\" y=\"68.5\"/><text fill=\"#000000\" font-family=\"sans-serif\" font-size=\"14\" lengthAdjust=\"spacingAndGlyphs\" textLength=\"39\" x=\"714.5\" y=\"422.9951\">result</text><rect fill=\"#383838\" height=\"12\" style=\"stroke: #F8F8F8; stroke-width: 1.5;\" width=\"12\" x=\"728\" y=\"398\"/><text fill=\"#000000\" font-family=\"sans-serif\" font-size=\"14\" lengthAdjust=\"spacingAndGlyphs\" textLength=\"7\" x=\"297.5\" y=\"185.6982\">v</text><rect fill=\"#383838\" height=\"12\" style=\"stroke: #F8F8F8; stroke-width: 1.5;\" width=\"12\" x=\"295\" y=\"201\"/><text fill=\"#000000\" font-family=\"sans-serif\" font-size=\"14\" lengthAdjust=\"spacingAndGlyphs\" textLength=\"39\" x=\"522.5\" y=\"529.9951\">result</text><rect fill=\"#383838\" height=\"12\" style=\"stroke: #F8F8F8; stroke-width: 1.5;\" width=\"12\" x=\"536\" y=\"505\"/><text fill=\"#000000\" font-family=\"sans-serif\" font-size=\"14\" lengthAdjust=\"spacingAndGlyphs\" textLength=\"37\" x=\"416.5\" y=\"602.9951\">mass</text><rect fill=\"#383838\" height=\"12\" style=\"stroke: #F8F8F8; stroke-width: 1.5;\" width=\"12\" x=\"429\" y=\"578\"/><text fill=\"#000000\" font-family=\"sans-serif\" font-size=\"14\" lengthAdjust=\"spacingAndGlyphs\" textLength=\"7\" x=\"431.5\" y=\"323.6982\">v</text><rect fill=\"#383838\" height=\"12\" style=\"stroke: #F8F8F8; stroke-width: 1.5;\" width=\"12\" x=\"429\" y=\"339\"/><!--MD5=[05d275557350bfb9b23a4ef7222b4c39]\n",
       "link E3 to E2--><a href=\"psysml:4413170d-8387-4bcf-a661-a8e63eefb5dc\" target=\"_top\" title=\"psysml:4413170d-8387-4bcf-a661-a8e63eefb5dc\" xlink:actuate=\"onRequest\" xlink:href=\"psysml:4413170d-8387-4bcf-a661-a8e63eefb5dc\" xlink:show=\"new\" xlink:title=\"psysml:4413170d-8387-4bcf-a661-a8e63eefb5dc\" xlink:type=\"simple\"><path d=\"M607,97.64 C607,111.72 607,130.66 607,148.75 \" fill=\"none\" id=\"E3-&gt;E2\" style=\"stroke: #383838; stroke-width: 1.0;\"/><polygon fill=\"#FFFFFF\" points=\"607,168.9,600,149.9,614,149.9,607,168.9\" style=\"stroke: #383838; stroke-width: 1.0;\"/><ellipse cx=\"602\" cy=\"144.2\" fill=\"#383838\" rx=\"2\" ry=\"2\" style=\"stroke: #383838; stroke-width: 1.0;\"/><ellipse cx=\"612\" cy=\"144.2\" fill=\"#383838\" rx=\"2\" ry=\"2\" style=\"stroke: #383838; stroke-width: 1.0;\"/></a><!--MD5=[17bf29720e4688890742b92d9a67fdf0]\n",
       "reverse link E14 to E15--><a href=\"psysml:df4b3059-af15-4a6e-9f16-4ce8d388f00c\" target=\"_top\" title=\"psysml:df4b3059-af15-4a6e-9f16-4ce8d388f00c\" xlink:actuate=\"onRequest\" xlink:href=\"psysml:df4b3059-af15-4a6e-9f16-4ce8d388f00c\" xlink:show=\"new\" xlink:title=\"psysml:df4b3059-af15-4a6e-9f16-4ce8d388f00c\" xlink:type=\"simple\"><path d=\"M118,110.79 C118,134.03 118,163.75 118,183.75 \" fill=\"none\" id=\"E14&lt;-E15\" style=\"stroke: #383838; stroke-width: 1.0;\"/><polygon fill=\"#383838\" points=\"118,97.64,114,103.64,118,109.64,122,103.64,118,97.64\" style=\"stroke: #383838; stroke-width: 1.0;\"/></a><!--MD5=[1b01d5b954197aaf3899ca0bde35faf5]\n",
       "link E15 to E8--><a href=\"psysml:b8e5c057-83f1-47ef-94c9-1676b303e623\" target=\"_top\" title=\"psysml:b8e5c057-83f1-47ef-94c9-1676b303e623\" xlink:actuate=\"onRequest\" xlink:href=\"psysml:b8e5c057-83f1-47ef-94c9-1676b303e623\" xlink:show=\"new\" xlink:title=\"psysml:b8e5c057-83f1-47ef-94c9-1676b303e623\" xlink:type=\"simple\"><path d=\"M147.81,230.15 C184.47,257.4 245.87,303.03 278.7,327.43 \" fill=\"none\" id=\"E15-&gt;E8\" style=\"stroke: #383838; stroke-width: 1.0;\"/><polygon fill=\"#FFFFFF\" points=\"278.7,327.43,259.2749,321.7145,267.6261,310.478,278.7,327.43\" style=\"stroke: #383838; stroke-width: 1.0;\"/><ellipse cx=\"255.8931\" cy=\"316.7091\" fill=\"#383838\" rx=\"2\" ry=\"2\" style=\"stroke: #383838; stroke-width: 1.0;\"/><ellipse cx=\"261.8583\" cy=\"308.6831\" fill=\"#383838\" rx=\"2\" ry=\"2\" style=\"stroke: #383838; stroke-width: 1.0;\"/></a><!--MD5=[f8b155c46b092be73bb522b0a8fc72a2]\n",
       "link E15 to E16--><a href=\"psysml:7d3bd451-2ef5-4e75-9594-2e0dd7330291\" target=\"_top\" title=\"psysml:7d3bd451-2ef5-4e75-9594-2e0dd7330291\" xlink:actuate=\"onRequest\" xlink:href=\"psysml:7d3bd451-2ef5-4e75-9594-2e0dd7330291\" xlink:show=\"new\" xlink:title=\"psysml:7d3bd451-2ef5-4e75-9594-2e0dd7330291\" xlink:type=\"simple\"><path d=\"M118,230.15 C118,252.87 118,288.38 118,313.69 \" fill=\"none\" id=\"E15-&gt;E16\" style=\"stroke: #383838; stroke-width: 1.0;\"/><polygon fill=\"#383838\" points=\"118,321.86,121,313.86,115,313.86,118,321.86\" style=\"stroke: #383838; stroke-width: 1.0;\"/><text fill=\"#000000\" font-family=\"sans-serif\" font-size=\"13\" lengthAdjust=\"spacingAndGlyphs\" textLength=\"73\" x=\"119\" y=\"288.0669\">«objective»</text><text fill=\"#000000\" font-family=\"sans-serif\" font-size=\"13\" lengthAdjust=\"spacingAndGlyphs\" textLength=\"8\" x=\"108.975\" y=\"311.1004\">1</text></a><!--MD5=[80b31627c87652d0649d89c5786f7b43]\n",
       "@startuml\r\n",
       " skinparam monochrome true\r\n",
       "skinparam classbackgroundcolor white\r\n",
       "skinparam shadowing false\r\n",
       "skinparam wrapWidth 300\r\n",
       "hide circle\r\n",
       "\r\n",
       "package \"AnalysisTest\" as E1  [[psysml:d47d9c93-f987-42aa-9c82-a11afa9e7a85 ]]  {\r\n",
       "comp def \"V\" as E2  <<(T,blue) part  def>> [[psysml:6e318fc7-f06d-4e4c-8e44-1e6d0f884455 ]] {\r\n",
       "- - references - -\r\n",
       "m\r\n",
       "}\r\n",
       "comp usage \"vv: V \" as E3  <<(T,blue) part>> [[psysml:27999d5c-daad-4ed7-92ff-020a622ea083 ]] {\r\n",
       "}\r\n",
       "comp def \"AnalysisObjective\" as E4  <<(T,blue) requirement  def>> [[psysml:31fce779-d9ab-452b-8111-7f3c68bff972 ]] {\r\n",
       "...\r\n",
       "- -\r\n",
       "}\r\n",
       "rec def \"AnalysisCase\" as E5 << analysis def>> [[psysml:0d42cad1-3808-4e7b-8fe6-f660e27fd2bd ]] {\r\n",
       "portin \"v\" as E6  [[psysml:f7aad551-6165-4689-8df3-b128f6f54571 ]] \r\n",
       "portout \"result\" as E7  [[psysml:d8a9a5d1-c1b2-404a-b54f-35037ecf4c2d ]] \r\n",
       "}\r\n",
       "\r\n",
       "rec def \"AnalysisPlan\" as E8 << analysis def>> [[psysml:058a72e0-0a98-4261-856d-73366cf47a25 ]] {\r\n",
       "portin \"v\" as E9  [[psysml:40d43c87-89d5-4dcb-a988-f011f6f29ac5 ]] \r\n",
       "rec usage \"analysisCase\" as E10 << analysis>> [[psysml:ebac0614-db53-4f6a-a11b-2a64966401ed ]] {\r\n",
       "portout \"mass\" as E11  [[psysml:94298e01-1500-44a7-8244-0cc3e5620ae6 ]] \r\n",
       "portin \"v\" as E12  [[psysml:fabccdcf-1c94-4d5c-8a0b-5626b651aa80 ]] \r\n",
       "}\r\n",
       "\r\n",
       "portout \"result\" as E13  [[psysml:633f1383-e65f-4e22-9e6d-6ffcdde4bc38 ]] \r\n",
       "}\r\n",
       "\r\n",
       "comp usage \"analysisContext\" as E14  <<(T,blue) part>> [[psysml:2f29b586-744b-44a6-b354-0cb36fac52ba ]] {\r\n",
       "}\r\n",
       "comp usage \"analysisPlan: AnalysisPlan \" as E15 << analysis>> [[psysml:cfe8b385-7bc2-406c-91e1-db9911ba5874 ]] {\r\n",
       "}\r\n",
       "comp usage \"obj\" as E16  <<(T,blue) requirement>> [[psysml:63325e1e-8a82-4691-b26b-3354962a7cad ]] {\r\n",
       "}\r\n",
       "}\r\n",
       "E3 - -:|> E2 [[psysml:4413170d-8387-4bcf-a661-a8e63eefb5dc ]] \r\n",
       "E14 *- - E15 [[psysml:df4b3059-af15-4a6e-9f16-4ce8d388f00c ]] \r\n",
       "E15 - -:|> E8 [[psysml:b8e5c057-83f1-47ef-94c9-1676b303e623 ]] \r\n",
       "E15 - ->> \"1\"E16 [[psysml:7d3bd451-2ef5-4e75-9594-2e0dd7330291 ]] : <<objective>>\r\n",
       "@enduml\r\n",
       "\n",
       "PlantUML version 1.2020.13(Sat Jun 13 12:26:38 UTC 2020)\n",
       "(EPL source distribution)\n",
       "Java Runtime: OpenJDK Runtime Environment\n",
       "JVM: OpenJDK 64-Bit Server VM\n",
       "Default Encoding: UTF-8\n",
       "Language: en\n",
       "Country: null\n",
       "--></g></svg>"
      ]
     },
     "execution_count": 2,
     "metadata": {},
     "output_type": "execute_result"
    }
   ],
   "source": [
    "%viz --style=\"COMPTREE\" --view=\"Default\" \"AnalysisTest\""
   ]
  },
  {
   "cell_type": "code",
   "execution_count": 3,
   "id": "f226619e",
   "metadata": {
    "execution": {
     "iopub.execute_input": "2021-11-13T12:57:17.113037Z",
     "iopub.status.busy": "2021-11-13T12:57:17.112452Z",
     "iopub.status.idle": "2021-11-13T12:57:17.217511Z",
     "shell.execute_reply": "2021-11-13T12:57:17.217131Z"
    }
   },
   "outputs": [
    {
     "data": {
      "image/svg+xml": [
       "<?xml version=\"1.0\" encoding=\"UTF-8\" standalone=\"no\"?><svg xmlns=\"http://www.w3.org/2000/svg\" xmlns:xlink=\"http://www.w3.org/1999/xlink\" contentScriptType=\"application/ecmascript\" contentStyleType=\"text/css\" height=\"923px\" preserveAspectRatio=\"none\" style=\"width:453px;height:923px;\" version=\"1.1\" viewBox=\"0 0 453 923\" width=\"453px\" zoomAndPan=\"magnify\"><defs/><g><!--MD5=[fbc87193dbaf4d95561dea2c320d4a47]\n",
       "cluster E1--><a href=\"psysml:d47d9c93-f987-42aa-9c82-a11afa9e7a85\" target=\"_top\" title=\"psysml:d47d9c93-f987-42aa-9c82-a11afa9e7a85\" xlink:actuate=\"onRequest\" xlink:href=\"psysml:d47d9c93-f987-42aa-9c82-a11afa9e7a85\" xlink:show=\"new\" xlink:title=\"psysml:d47d9c93-f987-42aa-9c82-a11afa9e7a85\" xlink:type=\"simple\"><polygon fill=\"#FFFFFF\" points=\"20.13,6,112.13,6,119.13,28.2969,431.13,28.2969,431.13,911,20.13,911,20.13,6\" style=\"stroke: #000000; stroke-width: 1.5;\"/><line style=\"stroke: #000000; stroke-width: 1.5;\" x1=\"20.13\" x2=\"119.13\" y1=\"28.2969\" y2=\"28.2969\"/><text fill=\"#000000\" font-family=\"sans-serif\" font-size=\"14\" font-weight=\"bold\" lengthAdjust=\"spacingAndGlyphs\" textLength=\"86\" x=\"24.13\" y=\"20.9951\">AnalysisTest</text></a><!--MD5=[b4997ac47864f28c2f74865a473b2911]\n",
       "class E2--><a href=\"psysml:6e318fc7-f06d-4e4c-8e44-1e6d0f884455\" target=\"_top\" title=\"psysml:6e318fc7-f06d-4e4c-8e44-1e6d0f884455\" xlink:actuate=\"onRequest\" xlink:href=\"psysml:6e318fc7-f06d-4e4c-8e44-1e6d0f884455\" xlink:show=\"new\" xlink:title=\"psysml:6e318fc7-f06d-4e4c-8e44-1e6d0f884455\" xlink:type=\"simple\"><rect fill=\"#FFFFFF\" height=\"75.5469\" id=\"E2\" style=\"stroke: #383838; stroke-width: 1.5;\" width=\"70\" x=\"160.13\" y=\"691\"/><text fill=\"#000000\" font-family=\"sans-serif\" font-size=\"12\" font-style=\"italic\" lengthAdjust=\"spacingAndGlyphs\" textLength=\"68\" x=\"161.13\" y=\"707.1387\">«part  def»</text><text fill=\"#000000\" font-family=\"sans-serif\" font-size=\"12\" lengthAdjust=\"spacingAndGlyphs\" textLength=\"8\" x=\"191.13\" y=\"721.1074\">V</text><line style=\"stroke: #383838; stroke-width: 1.5;\" x1=\"161.13\" x2=\"229.13\" y1=\"728.9375\" y2=\"728.9375\"/><text fill=\"#000000\" font-family=\"sans-serif\" font-size=\"11\" lengthAdjust=\"spacingAndGlyphs\" textLength=\"11\" x=\"166.13\" y=\"759.9526\">m</text><line style=\"stroke: #383838; stroke-width: 1.0;\" x1=\"161.13\" x2=\"164.13\" y1=\"743.3398\" y2=\"743.3398\"/><text fill=\"#000000\" font-family=\"sans-serif\" font-size=\"11\" lengthAdjust=\"spacingAndGlyphs\" textLength=\"62\" x=\"164.13\" y=\"746.6479\">references</text><line style=\"stroke: #383838; stroke-width: 1.0;\" x1=\"226.13\" x2=\"229.13\" y1=\"743.3398\" y2=\"743.3398\"/></a><!--MD5=[09b614a08d8cba4a07c9adeb5e0fee81]\n",
       "class E3--><a href=\"psysml:27999d5c-daad-4ed7-92ff-020a622ea083\" target=\"_top\" title=\"psysml:27999d5c-daad-4ed7-92ff-020a622ea083\" xlink:actuate=\"onRequest\" xlink:href=\"psysml:27999d5c-daad-4ed7-92ff-020a622ea083\" xlink:show=\"new\" xlink:title=\"psysml:27999d5c-daad-4ed7-92ff-020a622ea083\" xlink:type=\"simple\"><rect fill=\"#FFFFFF\" height=\"45.9375\" id=\"E3\" rx=\"10\" ry=\"10\" style=\"stroke: #383838; stroke-width: 1.5;\" width=\"42\" x=\"202.13\" y=\"553\"/><text fill=\"#000000\" font-family=\"sans-serif\" font-size=\"12\" font-style=\"italic\" lengthAdjust=\"spacingAndGlyphs\" textLength=\"40\" x=\"203.13\" y=\"569.1387\">«part»</text><text fill=\"#000000\" font-family=\"sans-serif\" font-size=\"12\" lengthAdjust=\"spacingAndGlyphs\" textLength=\"28\" x=\"207.13\" y=\"583.1074\">vv: V</text><line style=\"stroke: #383838; stroke-width: 1.5;\" x1=\"203.13\" x2=\"243.13\" y1=\"590.9375\" y2=\"590.9375\"/></a><!--MD5=[ebbe1d658d1005bcc118a6aa81145e00]\n",
       "class E4--><a href=\"psysml:31fce779-d9ab-452b-8111-7f3c68bff972\" target=\"_top\" title=\"psysml:31fce779-d9ab-452b-8111-7f3c68bff972\" xlink:actuate=\"onRequest\" xlink:href=\"psysml:31fce779-d9ab-452b-8111-7f3c68bff972\" xlink:show=\"new\" xlink:title=\"psysml:31fce779-d9ab-452b-8111-7f3c68bff972\" xlink:type=\"simple\"><rect fill=\"#FFFFFF\" height=\"66.7422\" id=\"E4\" style=\"stroke: #383838; stroke-width: 1.5;\" width=\"121\" x=\"279.63\" y=\"828\"/><text fill=\"#000000\" font-family=\"sans-serif\" font-size=\"12\" font-style=\"italic\" lengthAdjust=\"spacingAndGlyphs\" textLength=\"119\" x=\"280.63\" y=\"844.1387\">«requirement  def»</text><text fill=\"#000000\" font-family=\"sans-serif\" font-size=\"12\" lengthAdjust=\"spacingAndGlyphs\" textLength=\"107\" x=\"286.63\" y=\"858.1074\">AnalysisObjective</text><line style=\"stroke: #383838; stroke-width: 1.5;\" x1=\"280.63\" x2=\"399.63\" y1=\"865.9375\" y2=\"865.9375\"/><text fill=\"#000000\" font-family=\"sans-serif\" font-size=\"11\" lengthAdjust=\"spacingAndGlyphs\" textLength=\"12\" x=\"285.63\" y=\"880.1479\">...</text><line style=\"stroke: #383838; stroke-width: 1.0;\" x1=\"280.63\" x2=\"399.63\" y1=\"886.7422\" y2=\"886.7422\"/></a><!--MD5=[270fce915f116d4de14055a7c1d9a0f3]\n",
       "class E5--><a href=\"psysml:0d42cad1-3808-4e7b-8fe6-f660e27fd2bd\" target=\"_top\" title=\"psysml:0d42cad1-3808-4e7b-8fe6-f660e27fd2bd\" xlink:actuate=\"onRequest\" xlink:href=\"psysml:0d42cad1-3808-4e7b-8fe6-f660e27fd2bd\" xlink:show=\"new\" xlink:title=\"psysml:0d42cad1-3808-4e7b-8fe6-f660e27fd2bd\" xlink:type=\"simple\"><rect fill=\"#FFFFFF\" height=\"75.5469\" id=\"E5\" style=\"stroke: #383838; stroke-width: 1.5;\" width=\"136\" x=\"279.13\" y=\"538\"/><text fill=\"#000000\" font-family=\"sans-serif\" font-size=\"12\" font-style=\"italic\" lengthAdjust=\"spacingAndGlyphs\" textLength=\"88\" x=\"303.13\" y=\"554.1387\">«analysis def»</text><text fill=\"#000000\" font-family=\"sans-serif\" font-size=\"12\" lengthAdjust=\"spacingAndGlyphs\" textLength=\"81\" x=\"306.63\" y=\"568.1074\">AnalysisCase</text><line style=\"stroke: #383838; stroke-width: 1.5;\" x1=\"280.13\" x2=\"414.13\" y1=\"575.9375\" y2=\"575.9375\"/><text fill=\"#000000\" font-family=\"sans-serif\" font-size=\"11\" lengthAdjust=\"spacingAndGlyphs\" textLength=\"43\" x=\"285.13\" y=\"606.9526\">{ v.m }</text><line style=\"stroke: #383838; stroke-width: 1.0;\" x1=\"280.13\" x2=\"283.13\" y1=\"590.3398\" y2=\"590.3398\"/><text fill=\"#000000\" font-family=\"sans-serif\" font-size=\"11\" lengthAdjust=\"spacingAndGlyphs\" textLength=\"128\" x=\"283.13\" y=\"593.6479\">path step expressions</text><line style=\"stroke: #383838; stroke-width: 1.0;\" x1=\"411.13\" x2=\"414.13\" y1=\"590.3398\" y2=\"590.3398\"/></a><!--MD5=[60a26617385b1d2d0262a64233df1f8d]\n",
       "class E6--><a href=\"psysml:b64c7347-1249-45eb-ab10-0bf79737e87a\" target=\"_top\" title=\"psysml:b64c7347-1249-45eb-ab10-0bf79737e87a\" xlink:actuate=\"onRequest\" xlink:href=\"psysml:b64c7347-1249-45eb-ab10-0bf79737e87a\" xlink:show=\"new\" xlink:title=\"psysml:b64c7347-1249-45eb-ab10-0bf79737e87a\" xlink:type=\"simple\"><rect fill=\"#FFFFFF\" height=\"45.9375\" id=\"E6\" rx=\"10\" ry=\"10\" style=\"stroke: #383838; stroke-width: 1.5;\" width=\"144\" x=\"268.13\" y=\"706\"/><text fill=\"#000000\" font-family=\"sans-serif\" font-size=\"12\" font-style=\"italic\" lengthAdjust=\"spacingAndGlyphs\" textLength=\"91\" x=\"294.63\" y=\"722.1387\">«requirement»</text><text fill=\"#000000\" font-family=\"sans-serif\" font-size=\"12\" lengthAdjust=\"spacingAndGlyphs\" textLength=\"134\" x=\"271.13\" y=\"736.1074\">obj: AnalysisObjective</text><line style=\"stroke: #383838; stroke-width: 1.5;\" x1=\"269.13\" x2=\"411.13\" y1=\"743.9375\" y2=\"743.9375\"/></a><!--MD5=[2156ba9850f5573cc1fc38a6a4b2f02b]\n",
       "class E7--><a href=\"psysml:058a72e0-0a98-4261-856d-73366cf47a25\" target=\"_top\" title=\"psysml:058a72e0-0a98-4261-856d-73366cf47a25\" xlink:actuate=\"onRequest\" xlink:href=\"psysml:058a72e0-0a98-4261-856d-73366cf47a25\" xlink:show=\"new\" xlink:title=\"psysml:058a72e0-0a98-4261-856d-73366cf47a25\" xlink:type=\"simple\"><rect fill=\"#FFFFFF\" height=\"45.9375\" id=\"E7\" style=\"stroke: #383838; stroke-width: 1.5;\" width=\"90\" x=\"108.13\" y=\"271\"/><text fill=\"#000000\" font-family=\"sans-serif\" font-size=\"12\" font-style=\"italic\" lengthAdjust=\"spacingAndGlyphs\" textLength=\"88\" x=\"109.13\" y=\"287.1387\">«analysis def»</text><text fill=\"#000000\" font-family=\"sans-serif\" font-size=\"12\" lengthAdjust=\"spacingAndGlyphs\" textLength=\"77\" x=\"114.63\" y=\"301.1074\">AnalysisPlan</text><line style=\"stroke: #383838; stroke-width: 1.5;\" x1=\"109.13\" x2=\"197.13\" y1=\"308.9375\" y2=\"308.9375\"/></a><!--MD5=[b9389687b975829384b498ac4b7476b2]\n",
       "class E8--><a href=\"psysml:185eeef5-681f-4700-9ef2-09baff1a4526\" target=\"_top\" title=\"psysml:185eeef5-681f-4700-9ef2-09baff1a4526\" xlink:actuate=\"onRequest\" xlink:href=\"psysml:185eeef5-681f-4700-9ef2-09baff1a4526\" xlink:show=\"new\" xlink:title=\"psysml:185eeef5-681f-4700-9ef2-09baff1a4526\" xlink:type=\"simple\"><rect fill=\"#FFFFFF\" height=\"66.7422\" id=\"E8\" rx=\"10\" ry=\"10\" style=\"stroke: #383838; stroke-width: 1.5;\" width=\"93\" x=\"106.63\" y=\"394\"/><text fill=\"#000000\" font-family=\"sans-serif\" font-size=\"12\" font-style=\"italic\" lengthAdjust=\"spacingAndGlyphs\" textLength=\"91\" x=\"107.63\" y=\"410.1387\">«requirement»</text><text fill=\"#000000\" font-family=\"sans-serif\" font-size=\"12\" lengthAdjust=\"spacingAndGlyphs\" textLength=\"19\" x=\"143.63\" y=\"424.1074\">obj</text><line style=\"stroke: #383838; stroke-width: 1.5;\" x1=\"107.63\" x2=\"198.63\" y1=\"431.9375\" y2=\"431.9375\"/><text fill=\"#000000\" font-family=\"sans-serif\" font-size=\"11\" lengthAdjust=\"spacingAndGlyphs\" textLength=\"12\" x=\"112.63\" y=\"446.1479\">...</text><line style=\"stroke: #383838; stroke-width: 1.0;\" x1=\"107.63\" x2=\"198.63\" y1=\"452.7422\" y2=\"452.7422\"/></a><!--MD5=[fd4143e9d270a159db93a4ea2a975926]\n",
       "class E9--><a href=\"psysml:ebac0614-db53-4f6a-a11b-2a64966401ed\" target=\"_top\" title=\"psysml:ebac0614-db53-4f6a-a11b-2a64966401ed\" xlink:actuate=\"onRequest\" xlink:href=\"psysml:ebac0614-db53-4f6a-a11b-2a64966401ed\" xlink:show=\"new\" xlink:title=\"psysml:ebac0614-db53-4f6a-a11b-2a64966401ed\" xlink:type=\"simple\"><rect fill=\"#FFFFFF\" height=\"45.9375\" id=\"E9\" rx=\"10\" ry=\"10\" style=\"stroke: #383838; stroke-width: 1.5;\" width=\"180\" x=\"235.13\" y=\"404.5\"/><text fill=\"#000000\" font-family=\"sans-serif\" font-size=\"12\" font-style=\"italic\" lengthAdjust=\"spacingAndGlyphs\" textLength=\"64\" x=\"293.13\" y=\"420.6387\">«analysis»</text><text fill=\"#000000\" font-family=\"sans-serif\" font-size=\"12\" lengthAdjust=\"spacingAndGlyphs\" textLength=\"170\" x=\"238.13\" y=\"434.6074\">analysisCase: AnalysisCase</text><line style=\"stroke: #383838; stroke-width: 1.5;\" x1=\"236.13\" x2=\"414.13\" y1=\"442.4375\" y2=\"442.4375\"/></a><!--MD5=[96f4274e9e20536e775497830990834d]\n",
       "class E10--><a href=\"psysml:885560a7-695c-4aea-bf29-e47629fa314b\" target=\"_top\" title=\"psysml:885560a7-695c-4aea-bf29-e47629fa314b\" xlink:actuate=\"onRequest\" xlink:href=\"psysml:885560a7-695c-4aea-bf29-e47629fa314b\" xlink:show=\"new\" xlink:title=\"psysml:885560a7-695c-4aea-bf29-e47629fa314b\" xlink:type=\"simple\"><rect fill=\"#FFFFFF\" height=\"45.9375\" id=\"E10\" rx=\"10\" ry=\"10\" style=\"stroke: #383838; stroke-width: 1.5;\" width=\"93\" x=\"73.63\" y=\"553\"/><text fill=\"#000000\" font-family=\"sans-serif\" font-size=\"12\" font-style=\"italic\" lengthAdjust=\"spacingAndGlyphs\" textLength=\"91\" x=\"74.63\" y=\"569.1387\">«requirement»</text><text fill=\"#000000\" font-family=\"sans-serif\" font-size=\"12\" lengthAdjust=\"spacingAndGlyphs\" textLength=\"19\" x=\"110.63\" y=\"583.1074\">obj</text><line style=\"stroke: #383838; stroke-width: 1.5;\" x1=\"74.63\" x2=\"165.63\" y1=\"590.9375\" y2=\"590.9375\"/></a><!--MD5=[1dd1bfd58a279cf63c5f349dbc8fc6a1]\n",
       "class E11--><a href=\"psysml:2f29b586-744b-44a6-b354-0cb36fac52ba\" target=\"_top\" title=\"psysml:2f29b586-744b-44a6-b354-0cb36fac52ba\" xlink:actuate=\"onRequest\" xlink:href=\"psysml:2f29b586-744b-44a6-b354-0cb36fac52ba\" xlink:show=\"new\" xlink:title=\"psysml:2f29b586-744b-44a6-b354-0cb36fac52ba\" xlink:type=\"simple\"><rect fill=\"#FFFFFF\" height=\"45.9375\" id=\"E11\" rx=\"10\" ry=\"10\" style=\"stroke: #383838; stroke-width: 1.5;\" width=\"104\" x=\"164.13\" y=\"41\"/><text fill=\"#000000\" font-family=\"sans-serif\" font-size=\"12\" font-style=\"italic\" lengthAdjust=\"spacingAndGlyphs\" textLength=\"40\" x=\"196.13\" y=\"57.1387\">«part»</text><text fill=\"#000000\" font-family=\"sans-serif\" font-size=\"12\" lengthAdjust=\"spacingAndGlyphs\" textLength=\"98\" x=\"167.13\" y=\"71.1074\">analysisContext</text><line style=\"stroke: #383838; stroke-width: 1.5;\" x1=\"165.13\" x2=\"267.13\" y1=\"78.9375\" y2=\"78.9375\"/></a><!--MD5=[49a0ec8f00dab7302a31f22d0f0fe584]\n",
       "class E12--><a href=\"psysml:cfe8b385-7bc2-406c-91e1-db9911ba5874\" target=\"_top\" title=\"psysml:cfe8b385-7bc2-406c-91e1-db9911ba5874\" xlink:actuate=\"onRequest\" xlink:href=\"psysml:cfe8b385-7bc2-406c-91e1-db9911ba5874\" xlink:show=\"new\" xlink:title=\"psysml:cfe8b385-7bc2-406c-91e1-db9911ba5874\" xlink:type=\"simple\"><rect fill=\"#FFFFFF\" height=\"45.9375\" id=\"E12\" rx=\"10\" ry=\"10\" style=\"stroke: #383838; stroke-width: 1.5;\" width=\"172\" x=\"130.13\" y=\"148\"/><text fill=\"#000000\" font-family=\"sans-serif\" font-size=\"12\" font-style=\"italic\" lengthAdjust=\"spacingAndGlyphs\" textLength=\"64\" x=\"184.13\" y=\"164.1387\">«analysis»</text><text fill=\"#000000\" font-family=\"sans-serif\" font-size=\"12\" lengthAdjust=\"spacingAndGlyphs\" textLength=\"162\" x=\"133.13\" y=\"178.1074\">analysisPlan: AnalysisPlan</text><line style=\"stroke: #383838; stroke-width: 1.5;\" x1=\"131.13\" x2=\"301.13\" y1=\"185.9375\" y2=\"185.9375\"/></a><!--MD5=[ee3c913d1a06f366521f9ef512b67efe]\n",
       "class E13--><a href=\"psysml:63325e1e-8a82-4691-b26b-3354962a7cad\" target=\"_top\" title=\"psysml:63325e1e-8a82-4691-b26b-3354962a7cad\" xlink:actuate=\"onRequest\" xlink:href=\"psysml:63325e1e-8a82-4691-b26b-3354962a7cad\" xlink:show=\"new\" xlink:title=\"psysml:63325e1e-8a82-4691-b26b-3354962a7cad\" xlink:type=\"simple\"><rect fill=\"#FFFFFF\" height=\"45.9375\" id=\"E13\" rx=\"10\" ry=\"10\" style=\"stroke: #383838; stroke-width: 1.5;\" width=\"93\" x=\"233.63\" y=\"271\"/><text fill=\"#000000\" font-family=\"sans-serif\" font-size=\"12\" font-style=\"italic\" lengthAdjust=\"spacingAndGlyphs\" textLength=\"91\" x=\"234.63\" y=\"287.1387\">«requirement»</text><text fill=\"#000000\" font-family=\"sans-serif\" font-size=\"12\" lengthAdjust=\"spacingAndGlyphs\" textLength=\"19\" x=\"270.63\" y=\"301.1074\">obj</text><line style=\"stroke: #383838; stroke-width: 1.5;\" x1=\"234.63\" x2=\"325.63\" y1=\"308.9375\" y2=\"308.9375\"/></a><!--MD5=[05d275557350bfb9b23a4ef7222b4c39]\n",
       "link E3 to E2--><a href=\"psysml:4413170d-8387-4bcf-a661-a8e63eefb5dc\" target=\"_top\" title=\"psysml:4413170d-8387-4bcf-a661-a8e63eefb5dc\" xlink:actuate=\"onRequest\" xlink:href=\"psysml:4413170d-8387-4bcf-a661-a8e63eefb5dc\" xlink:show=\"new\" xlink:title=\"psysml:4413170d-8387-4bcf-a661-a8e63eefb5dc\" xlink:type=\"simple\"><path d=\"M213.8,599.22 C208.84,612.07 203.16,628.68 200.13,644 C198.44,652.55 197.27,661.67 196.46,670.63 \" fill=\"none\" id=\"E3-&gt;E2\" style=\"stroke: #383838; stroke-width: 1.0;\"/><polygon fill=\"#FFFFFF\" points=\"195.18,690.93,189.4022,671.5234,203.3738,672.4135,195.18,690.93\" style=\"stroke: #383838; stroke-width: 1.0;\"/><ellipse cx=\"191.7605\" cy=\"665.9621\" fill=\"#383838\" rx=\"2\" ry=\"2\" style=\"stroke: #383838; stroke-width: 1.0;\"/><ellipse cx=\"201.7403\" cy=\"666.5979\" fill=\"#383838\" rx=\"2\" ry=\"2\" style=\"stroke: #383838; stroke-width: 1.0;\"/></a><!--MD5=[15ebcb19ae302d9b601edb458606d402]\n",
       "link E5 to E2--><a href=\"psysml:0e59658b-8c20-4184-9a82-84e161b0c6e1\" target=\"_top\" title=\"psysml:0e59658b-8c20-4184-9a82-84e161b0c6e1\" xlink:actuate=\"onRequest\" xlink:href=\"psysml:0e59658b-8c20-4184-9a82-84e161b0c6e1\" xlink:show=\"new\" xlink:title=\"psysml:0e59658b-8c20-4184-9a82-84e161b0c6e1\" xlink:type=\"simple\"><path d=\"M303.36,614.09 C292.6,623.61 281.27,633.99 271.13,644 C257.44,657.51 243.12,672.96 230.65,686.89 \" fill=\"none\" id=\"E5-&gt;E2\" style=\"stroke: #383838; stroke-width: 1.0; stroke-dasharray: 7.0,7.0;\"/><polygon fill=\"#383838\" points=\"227.18,690.78,236.1576,686.7299,230.5098,687.0501,230.1897,681.4023,227.18,690.78\" style=\"stroke: #383838; stroke-width: 1.0;\"/><text fill=\"#000000\" font-family=\"sans-serif\" font-size=\"13\" lengthAdjust=\"spacingAndGlyphs\" textLength=\"62\" x=\"272.13\" y=\"657.0669\">«subject»</text></a><!--MD5=[9120cf2e5df3bff93db8f754bbbc09b4]\n",
       "link E5 to E6--><a href=\"psysml:0aba1a21-1a42-4d2b-97f5-c2cba04c9345\" target=\"_top\" title=\"psysml:0aba1a21-1a42-4d2b-97f5-c2cba04c9345\" xlink:actuate=\"onRequest\" xlink:href=\"psysml:0aba1a21-1a42-4d2b-97f5-c2cba04c9345\" xlink:show=\"new\" xlink:title=\"psysml:0aba1a21-1a42-4d2b-97f5-c2cba04c9345\" xlink:type=\"simple\"><path d=\"M345.4,614.33 C344.21,639.95 342.65,673.54 341.54,697.54 \" fill=\"none\" id=\"E5-&gt;E6\" style=\"stroke: #383838; stroke-width: 1.0;\"/><polygon fill=\"#383838\" points=\"341.17,705.61,344.5378,697.7577,338.5443,697.4795,341.17,705.61\" style=\"stroke: #383838; stroke-width: 1.0;\"/><text fill=\"#000000\" font-family=\"sans-serif\" font-size=\"13\" lengthAdjust=\"spacingAndGlyphs\" textLength=\"73\" x=\"344.13\" y=\"657.0669\">«objective»</text></a><!--MD5=[f667431f98296947986a1a7595a31603]\n",
       "link E6 to E4--><a href=\"psysml:32f59106-5f4c-4aec-8305-226899de5705\" target=\"_top\" title=\"psysml:32f59106-5f4c-4aec-8305-226899de5705\" xlink:actuate=\"onRequest\" xlink:href=\"psysml:32f59106-5f4c-4aec-8305-226899de5705\" xlink:show=\"new\" xlink:title=\"psysml:32f59106-5f4c-4aec-8305-226899de5705\" xlink:type=\"simple\"><path d=\"M340.13,752.14 C340.13,767.41 340.13,788.39 340.13,807.82 \" fill=\"none\" id=\"E6-&gt;E4\" style=\"stroke: #383838; stroke-width: 1.0;\"/><polygon fill=\"#FFFFFF\" points=\"340.13,827.96,333.13,808.96,347.13,808.96,340.13,827.96\" style=\"stroke: #383838; stroke-width: 1.0;\"/><ellipse cx=\"335.13\" cy=\"803.26\" fill=\"#383838\" rx=\"2\" ry=\"2\" style=\"stroke: #383838; stroke-width: 1.0;\"/><ellipse cx=\"345.13\" cy=\"803.26\" fill=\"#383838\" rx=\"2\" ry=\"2\" style=\"stroke: #383838; stroke-width: 1.0;\"/></a><!--MD5=[583832df87f4419a098336a29a52fa00]\n",
       "link E7 to E2--><a href=\"psysml:1b5baffb-8729-41ae-bce6-1275f3b8062c\" target=\"_top\" title=\"psysml:1b5baffb-8729-41ae-bce6-1275f3b8062c\" xlink:actuate=\"onRequest\" xlink:href=\"psysml:1b5baffb-8729-41ae-bce6-1275f3b8062c\" xlink:show=\"new\" xlink:title=\"psysml:1b5baffb-8729-41ae-bce6-1275f3b8062c\" xlink:type=\"simple\"><path d=\"M135.62,317.09 C95.87,370.11 6,508.04 56.13,614 C76.51,657.06 122,689.3 155.42,708.32 \" fill=\"none\" id=\"E7-&gt;E2\" style=\"stroke: #383838; stroke-width: 1.0; stroke-dasharray: 7.0,7.0;\"/><polygon fill=\"#383838\" points=\"159.84,710.8,153.9458,702.9096,155.4787,708.3548,150.0335,709.8877,159.84,710.8\" style=\"stroke: #383838; stroke-width: 1.0;\"/><text fill=\"#000000\" font-family=\"sans-serif\" font-size=\"13\" lengthAdjust=\"spacingAndGlyphs\" textLength=\"62\" x=\"48.13\" y=\"504.0669\">«subject»</text></a><!--MD5=[79bc8f324ef4d02c541433f2e6e513c3]\n",
       "link E7 to E8--><a href=\"psysml:90e157ee-5294-4f98-a807-291d927bb48a\" target=\"_top\" title=\"psysml:90e157ee-5294-4f98-a807-291d927bb48a\" xlink:actuate=\"onRequest\" xlink:href=\"psysml:90e157ee-5294-4f98-a807-291d927bb48a\" xlink:show=\"new\" xlink:title=\"psysml:90e157ee-5294-4f98-a807-291d927bb48a\" xlink:type=\"simple\"><path d=\"M153.13,317.01 C153.13,335.7 153.13,363.02 153.13,385.69 \" fill=\"none\" id=\"E7-&gt;E8\" style=\"stroke: #383838; stroke-width: 1.0;\"/><polygon fill=\"#383838\" points=\"153.13,393.81,156.13,385.81,150.13,385.81,153.13,393.81\" style=\"stroke: #383838; stroke-width: 1.0;\"/><text fill=\"#000000\" font-family=\"sans-serif\" font-size=\"13\" lengthAdjust=\"spacingAndGlyphs\" textLength=\"73\" x=\"154.13\" y=\"360.0669\">«objective»</text><text fill=\"#000000\" font-family=\"sans-serif\" font-size=\"13\" lengthAdjust=\"spacingAndGlyphs\" textLength=\"8\" x=\"144.3425\" y=\"382.8061\">1</text></a><!--MD5=[e4a10ef82d0e328e31cac39a31e58dda]\n",
       "reverse link E7 to E9--><a href=\"psysml:5b13e274-498b-4649-80bb-2ca5d783c8e3\" target=\"_top\" title=\"psysml:5b13e274-498b-4649-80bb-2ca5d783c8e3\" xlink:actuate=\"onRequest\" xlink:href=\"psysml:5b13e274-498b-4649-80bb-2ca5d783c8e3\" xlink:show=\"new\" xlink:title=\"psysml:5b13e274-498b-4649-80bb-2ca5d783c8e3\" xlink:type=\"simple\"><path d=\"M203.01,324.33 C214.15,331.41 225.74,339.19 236.13,347 C259.98,364.92 285.16,387.84 302.63,404.46 \" fill=\"none\" id=\"E7&lt;-E9\" style=\"stroke: #383838; stroke-width: 1.0;\"/><polygon fill=\"#383838\" points=\"191.63,317.25,194.6072,323.8178,201.8149,323.5958,198.8377,317.0279,191.63,317.25\" style=\"stroke: #383838; stroke-width: 1.0;\"/></a><!--MD5=[bfc3ddf2e613be37104f658f09af896c]\n",
       "link E9 to E5--><a href=\"psysml:2720ff20-3733-452c-91c5-acd446f65b05\" target=\"_top\" title=\"psysml:2720ff20-3733-452c-91c5-acd446f65b05\" xlink:actuate=\"onRequest\" xlink:href=\"psysml:2720ff20-3733-452c-91c5-acd446f65b05\" xlink:show=\"new\" xlink:title=\"psysml:2720ff20-3733-452c-91c5-acd446f65b05\" xlink:type=\"simple\"><path d=\"M328.47,450.75 C331.16,468.64 335.06,494.59 338.59,518.16 \" fill=\"none\" id=\"E9-&gt;E5\" style=\"stroke: #383838; stroke-width: 1.0;\"/><polygon fill=\"#FFFFFF\" points=\"341.57,537.99,331.824,520.2413,345.6685,518.1607,341.57,537.99\" style=\"stroke: #383838; stroke-width: 1.0;\"/><ellipse cx=\"332.9546\" cy=\"514.3074\" fill=\"#383838\" rx=\"2\" ry=\"2\" style=\"stroke: #383838; stroke-width: 1.0;\"/><ellipse cx=\"342.8436\" cy=\"512.8212\" fill=\"#383838\" rx=\"2\" ry=\"2\" style=\"stroke: #383838; stroke-width: 1.0;\"/></a><!--MD5=[35e5f1cbde42fa304a029880aa2bc7f2]\n",
       "link E9 to E10--><a href=\"psysml:207a8d5d-7cc5-465d-969c-ac78b140bf51\" target=\"_top\" title=\"psysml:207a8d5d-7cc5-465d-969c-ac78b140bf51\" xlink:actuate=\"onRequest\" xlink:href=\"psysml:207a8d5d-7cc5-465d-969c-ac78b140bf51\" xlink:show=\"new\" xlink:title=\"psysml:207a8d5d-7cc5-465d-969c-ac78b140bf51\" xlink:type=\"simple\"><path d=\"M293.99,450.75 C257.47,476.86 196.93,520.12 157.79,548.09 \" fill=\"none\" id=\"E9-&gt;E10\" style=\"stroke: #383838; stroke-width: 1.0;\"/><polygon fill=\"#383838\" points=\"151.22,552.78,159.4727,550.5679,155.9832,545.6869,151.22,552.78\" style=\"stroke: #383838; stroke-width: 1.0;\"/><text fill=\"#000000\" font-family=\"sans-serif\" font-size=\"13\" lengthAdjust=\"spacingAndGlyphs\" textLength=\"73\" x=\"235.13\" y=\"504.0669\">«objective»</text></a><!--MD5=[94adabc162ce7e41b39f13be14fbaeb3]\n",
       "reverse link E11 to E12--><a href=\"psysml:df4b3059-af15-4a6e-9f16-4ce8d388f00c\" target=\"_top\" title=\"psysml:df4b3059-af15-4a6e-9f16-4ce8d388f00c\" xlink:actuate=\"onRequest\" xlink:href=\"psysml:df4b3059-af15-4a6e-9f16-4ce8d388f00c\" xlink:show=\"new\" xlink:title=\"psysml:df4b3059-af15-4a6e-9f16-4ce8d388f00c\" xlink:type=\"simple\"><path d=\"M216.13,100.05 C216.13,115.76 216.13,133.82 216.13,147.66 \" fill=\"none\" id=\"E11&lt;-E12\" style=\"stroke: #383838; stroke-width: 1.0;\"/><polygon fill=\"#383838\" points=\"216.13,87.01,212.13,93.01,216.13,99.01,220.13,93.01,216.13,87.01\" style=\"stroke: #383838; stroke-width: 1.0;\"/></a><!--MD5=[ae660f5ecd7ddb04a8913625960940af]\n",
       "link E12 to E7--><a href=\"psysml:b8e5c057-83f1-47ef-94c9-1676b303e623\" target=\"_top\" title=\"psysml:b8e5c057-83f1-47ef-94c9-1676b303e623\" xlink:actuate=\"onRequest\" xlink:href=\"psysml:b8e5c057-83f1-47ef-94c9-1676b303e623\" xlink:show=\"new\" xlink:title=\"psysml:b8e5c057-83f1-47ef-94c9-1676b303e623\" xlink:type=\"simple\"><path d=\"M204.57,194.19 C196.01,210.65 184.09,233.54 173.88,253.14 \" fill=\"none\" id=\"E12-&gt;E7\" style=\"stroke: #383838; stroke-width: 1.0;\"/><polygon fill=\"#FFFFFF\" points=\"164.61,270.95,167.1672,250.8637,179.5876,257.3239,164.61,270.95\" style=\"stroke: #383838; stroke-width: 1.0;\"/><ellipse cx=\"171.5718\" cy=\"246.7297\" fill=\"#383838\" rx=\"2\" ry=\"2\" style=\"stroke: #383838; stroke-width: 1.0;\"/><ellipse cx=\"180.4435\" cy=\"251.3441\" fill=\"#383838\" rx=\"2\" ry=\"2\" style=\"stroke: #383838; stroke-width: 1.0;\"/></a><!--MD5=[e2a9ac97dcd3257bb5342dae06547bad]\n",
       "link E12 to E13--><a href=\"psysml:7d3bd451-2ef5-4e75-9594-2e0dd7330291\" target=\"_top\" title=\"psysml:7d3bd451-2ef5-4e75-9594-2e0dd7330291\" xlink:actuate=\"onRequest\" xlink:href=\"psysml:7d3bd451-2ef5-4e75-9594-2e0dd7330291\" xlink:show=\"new\" xlink:title=\"psysml:7d3bd451-2ef5-4e75-9594-2e0dd7330291\" xlink:type=\"simple\"><path d=\"M227.87,194.19 C238.2,213.72 253.31,242.3 264.63,263.7 \" fill=\"none\" id=\"E12-&gt;E13\" style=\"stroke: #383838; stroke-width: 1.0;\"/><polygon fill=\"#383838\" points=\"268.47,270.95,267.3924,262.4742,262.085,265.2727,268.47,270.95\" style=\"stroke: #383838; stroke-width: 1.0;\"/><text fill=\"#000000\" font-family=\"sans-serif\" font-size=\"13\" lengthAdjust=\"spacingAndGlyphs\" textLength=\"73\" x=\"252.13\" y=\"237.0669\">«objective»</text><text fill=\"#000000\" font-family=\"sans-serif\" font-size=\"13\" lengthAdjust=\"spacingAndGlyphs\" textLength=\"8\" x=\"256.2614\" y=\"259.8328\">1</text></a><!--MD5=[2d4aade3006ecec97748817742df5034]\n",
       "@startuml\r\n",
       " skinparam monochrome true\r\n",
       "skinparam classbackgroundcolor white\r\n",
       "skinparam shadowing false\r\n",
       "skinparam wrapWidth 300\r\n",
       "hide circle\r\n",
       "\r\n",
       "package \"AnalysisTest\" as E1  [[psysml:d47d9c93-f987-42aa-9c82-a11afa9e7a85 ]]  {\r\n",
       "comp def \"V\" as E2  <<(T,blue) part  def>> [[psysml:6e318fc7-f06d-4e4c-8e44-1e6d0f884455 ]] {\r\n",
       "- - references - -\r\n",
       "m\r\n",
       "}\r\n",
       "comp usage \"vv: V \" as E3  <<(T,blue) part>> [[psysml:27999d5c-daad-4ed7-92ff-020a622ea083 ]] {\r\n",
       "}\r\n",
       "comp def \"AnalysisObjective\" as E4  <<(T,blue) requirement  def>> [[psysml:31fce779-d9ab-452b-8111-7f3c68bff972 ]] {\r\n",
       "...\r\n",
       "- -\r\n",
       "}\r\n",
       "comp def \"AnalysisCase\" as E5 << analysis def>> [[psysml:0d42cad1-3808-4e7b-8fe6-f660e27fd2bd ]] {\r\n",
       "- - path step expressions - -\r\n",
       " { v.m }\r\n",
       "}\r\n",
       "comp usage \"obj: AnalysisObjective \" as E6  <<(T,blue) requirement>> [[psysml:b64c7347-1249-45eb-ab10-0bf79737e87a ]] {\r\n",
       "}\r\n",
       "comp def \"AnalysisPlan\" as E7 << analysis def>> [[psysml:058a72e0-0a98-4261-856d-73366cf47a25 ]] {\r\n",
       "}\r\n",
       "comp usage \"obj\" as E8  <<(T,blue) requirement>> [[psysml:185eeef5-681f-4700-9ef2-09baff1a4526 ]] {\r\n",
       "...\r\n",
       "- -\r\n",
       "}\r\n",
       "comp usage \"analysisCase: AnalysisCase \" as E9 << analysis>> [[psysml:ebac0614-db53-4f6a-a11b-2a64966401ed ]] {\r\n",
       "}\r\n",
       "comp usage \"obj\" as E10  <<(T,blue) requirement>> [[psysml:885560a7-695c-4aea-bf29-e47629fa314b ]] {\r\n",
       "}\r\n",
       "comp usage \"analysisContext\" as E11  <<(T,blue) part>> [[psysml:2f29b586-744b-44a6-b354-0cb36fac52ba ]] {\r\n",
       "}\r\n",
       "comp usage \"analysisPlan: AnalysisPlan \" as E12 << analysis>> [[psysml:cfe8b385-7bc2-406c-91e1-db9911ba5874 ]] {\r\n",
       "}\r\n",
       "comp usage \"obj\" as E13  <<(T,blue) requirement>> [[psysml:63325e1e-8a82-4691-b26b-3354962a7cad ]] {\r\n",
       "}\r\n",
       "}\r\n",
       "E3 - -:|> E2 [[psysml:4413170d-8387-4bcf-a661-a8e63eefb5dc ]] \r\n",
       "E5 ..> E2 [[psysml:0e59658b-8c20-4184-9a82-84e161b0c6e1 ]] : <<subject>>\r\n",
       "E5 - ->> E6 [[psysml:0aba1a21-1a42-4d2b-97f5-c2cba04c9345 ]] : <<objective>>\r\n",
       "E6 - -:|> E4 [[psysml:32f59106-5f4c-4aec-8305-226899de5705 ]] \r\n",
       "E7 ..> E2 [[psysml:1b5baffb-8729-41ae-bce6-1275f3b8062c ]] : <<subject>>\r\n",
       "E7 - ->> \"1\"E8 [[psysml:90e157ee-5294-4f98-a807-291d927bb48a ]] : <<objective>>\r\n",
       "E7 *- - E9 [[psysml:5b13e274-498b-4649-80bb-2ca5d783c8e3 ]] \r\n",
       "E9 - -:|> E5 [[psysml:2720ff20-3733-452c-91c5-acd446f65b05 ]] \r\n",
       "E9 - ->> E10 [[psysml:207a8d5d-7cc5-465d-969c-ac78b140bf51 ]] : <<objective>>\r\n",
       "E11 *- - E12 [[psysml:df4b3059-af15-4a6e-9f16-4ce8d388f00c ]] \r\n",
       "E12 - -:|> E7 [[psysml:b8e5c057-83f1-47ef-94c9-1676b303e623 ]] \r\n",
       "E12 - ->> \"1\"E13 [[psysml:7d3bd451-2ef5-4e75-9594-2e0dd7330291 ]] : <<objective>>\r\n",
       "@enduml\r\n",
       "\n",
       "PlantUML version 1.2020.13(Sat Jun 13 12:26:38 UTC 2020)\n",
       "(EPL source distribution)\n",
       "Java Runtime: OpenJDK Runtime Environment\n",
       "JVM: OpenJDK 64-Bit Server VM\n",
       "Default Encoding: UTF-8\n",
       "Language: en\n",
       "Country: null\n",
       "--></g></svg>"
      ]
     },
     "execution_count": 3,
     "metadata": {},
     "output_type": "execute_result"
    }
   ],
   "source": [
    "%viz --style=\"COMPTREE\" --view=\"Tree\" \"AnalysisTest\""
   ]
  },
  {
   "cell_type": "code",
   "execution_count": 4,
   "id": "a78df16b",
   "metadata": {
    "execution": {
     "iopub.execute_input": "2021-11-13T12:57:17.266265Z",
     "iopub.status.busy": "2021-11-13T12:57:17.265803Z",
     "iopub.status.idle": "2021-11-13T12:57:17.274062Z",
     "shell.execute_reply": "2021-11-13T12:57:17.274395Z"
    }
   },
   "outputs": [
    {
     "data": {
      "image/svg+xml": [
       "<?xml version=\"1.0\" encoding=\"UTF-8\" standalone=\"no\"?><svg xmlns=\"http://www.w3.org/2000/svg\" xmlns:xlink=\"http://www.w3.org/1999/xlink\" contentScriptType=\"application/ecmascript\" contentStyleType=\"text/css\" height=\"12px\" preserveAspectRatio=\"none\" style=\"width:12px;height:12px;\" version=\"1.1\" viewBox=\"0 0 12 12\" width=\"12px\" zoomAndPan=\"magnify\"><defs/><g><!--MD5=[f19188ef49e11757b5c46753f95d9edc]\n",
       "@startuml\r\n",
       " skinparam monochrome true\r\n",
       "skinparam classbackgroundcolor white\r\n",
       "skinparam shadowing false\r\n",
       "skinparam wrapWidth 300\r\n",
       "hide circle\r\n",
       "\r\n",
       "@enduml\r\n",
       "\n",
       "PlantUML version 1.2020.13(Sat Jun 13 12:26:38 UTC 2020)\n",
       "(EPL source distribution)\n",
       "Java Runtime: OpenJDK Runtime Environment\n",
       "JVM: OpenJDK 64-Bit Server VM\n",
       "Default Encoding: UTF-8\n",
       "Language: en\n",
       "Country: null\n",
       "--></g></svg>"
      ]
     },
     "execution_count": 4,
     "metadata": {},
     "output_type": "execute_result"
    }
   ],
   "source": [
    "%viz --style=\"COMPTREE\" --view=\"State\" \"AnalysisTest\""
   ]
  },
  {
   "cell_type": "code",
   "execution_count": 5,
   "id": "aa439bb0",
   "metadata": {
    "execution": {
     "iopub.execute_input": "2021-11-13T12:57:17.324497Z",
     "iopub.status.busy": "2021-11-13T12:57:17.324070Z",
     "iopub.status.idle": "2021-11-13T12:57:17.422584Z",
     "shell.execute_reply": "2021-11-13T12:57:17.422963Z"
    }
   },
   "outputs": [
    {
     "data": {
      "image/svg+xml": [
       "<?xml version=\"1.0\" encoding=\"UTF-8\" standalone=\"no\"?><svg xmlns=\"http://www.w3.org/2000/svg\" xmlns:xlink=\"http://www.w3.org/1999/xlink\" contentScriptType=\"application/ecmascript\" contentStyleType=\"text/css\" height=\"446px\" preserveAspectRatio=\"none\" style=\"width:1132px;height:446px;\" version=\"1.1\" viewBox=\"0 0 1132 446\" width=\"1132px\" zoomAndPan=\"magnify\"><defs/><g><!--MD5=[fbc87193dbaf4d95561dea2c320d4a47]\n",
       "cluster E1--><a href=\"psysml:d47d9c93-f987-42aa-9c82-a11afa9e7a85\" target=\"_top\" title=\"psysml:d47d9c93-f987-42aa-9c82-a11afa9e7a85\" xlink:actuate=\"onRequest\" xlink:href=\"psysml:d47d9c93-f987-42aa-9c82-a11afa9e7a85\" xlink:show=\"new\" xlink:title=\"psysml:d47d9c93-f987-42aa-9c82-a11afa9e7a85\" xlink:type=\"simple\"><polygon fill=\"#FFFFFF\" points=\"16,6,108,6,115,28.2969,1110,28.2969,1110,434.86,16,434.86,16,6\" style=\"stroke: #000000; stroke-width: 1.5;\"/><line style=\"stroke: #000000; stroke-width: 1.5;\" x1=\"16\" x2=\"115\" y1=\"28.2969\" y2=\"28.2969\"/><text fill=\"#000000\" font-family=\"sans-serif\" font-size=\"14\" font-weight=\"bold\" lengthAdjust=\"spacingAndGlyphs\" textLength=\"86\" x=\"20\" y=\"20.9951\">AnalysisTest</text></a><!--MD5=[de5ec2e2e8f62f467e546659f5068c88]\n",
       "cluster E5--><a href=\"psysml:0d42cad1-3808-4e7b-8fe6-f660e27fd2bd\" target=\"_top\" title=\"psysml:0d42cad1-3808-4e7b-8fe6-f660e27fd2bd\" xlink:actuate=\"onRequest\" xlink:href=\"psysml:0d42cad1-3808-4e7b-8fe6-f660e27fd2bd\" xlink:show=\"new\" xlink:title=\"psysml:0d42cad1-3808-4e7b-8fe6-f660e27fd2bd\" xlink:type=\"simple\"><rect fill=\"#FFFFFF\" height=\"228.86\" id=\"E5\" style=\"stroke: #383838; stroke-width: 1.5;\" width=\"146\" x=\"948\" y=\"107\"/><rect fill=\"#F8F8F8\" height=\"37.9375\" style=\"stroke: #383838; stroke-width: 1.5;\" width=\"146\" x=\"948\" y=\"107\"/><text fill=\"#000000\" font-family=\"sans-serif\" font-size=\"12\" font-style=\"italic\" lengthAdjust=\"spacingAndGlyphs\" textLength=\"88\" x=\"977\" y=\"123.1387\">«analysis def»</text><text fill=\"#000000\" font-family=\"sans-serif\" font-size=\"12\" lengthAdjust=\"spacingAndGlyphs\" textLength=\"81\" x=\"980.5\" y=\"137.1074\">AnalysisCase</text></a><!--MD5=[55dfccfc6c49c2d10cd1bd2211a6c90c]\n",
       "cluster E8--><a href=\"psysml:058a72e0-0a98-4261-856d-73366cf47a25\" target=\"_top\" title=\"psysml:058a72e0-0a98-4261-856d-73366cf47a25\" xlink:actuate=\"onRequest\" xlink:href=\"psysml:058a72e0-0a98-4261-856d-73366cf47a25\" xlink:show=\"new\" xlink:title=\"psysml:058a72e0-0a98-4261-856d-73366cf47a25\" xlink:type=\"simple\"><rect fill=\"#FFFFFF\" height=\"303.86\" id=\"E8\" style=\"stroke: #383838; stroke-width: 1.5;\" width=\"259\" x=\"659\" y=\"107\"/><rect fill=\"#F8F8F8\" height=\"37.9375\" style=\"stroke: #383838; stroke-width: 1.5;\" width=\"259\" x=\"659\" y=\"107\"/><text fill=\"#000000\" font-family=\"sans-serif\" font-size=\"12\" font-style=\"italic\" lengthAdjust=\"spacingAndGlyphs\" textLength=\"88\" x=\"744.5\" y=\"123.1387\">«analysis def»</text><text fill=\"#000000\" font-family=\"sans-serif\" font-size=\"12\" lengthAdjust=\"spacingAndGlyphs\" textLength=\"77\" x=\"750\" y=\"137.1074\">AnalysisPlan</text></a><!--MD5=[a84b4591f868c1fa4a211716a82f2f0d]\n",
       "cluster E10--><a href=\"psysml:ebac0614-db53-4f6a-a11b-2a64966401ed\" target=\"_top\" title=\"psysml:ebac0614-db53-4f6a-a11b-2a64966401ed\" xlink:actuate=\"onRequest\" xlink:href=\"psysml:ebac0614-db53-4f6a-a11b-2a64966401ed\" xlink:show=\"new\" xlink:title=\"psysml:ebac0614-db53-4f6a-a11b-2a64966401ed\" xlink:type=\"simple\"><rect fill=\"#FFFFFF\" height=\"165.86\" id=\"E10\" rx=\"10\" ry=\"10\" style=\"stroke: #383838; stroke-width: 1.5;\" width=\"138\" x=\"742\" y=\"207\"/><rect fill=\"#F8F8F8\" height=\"37.9375\" rx=\"10\" ry=\"10\" style=\"stroke: #F8F8F8; stroke-width: 1.5;\" width=\"138\" x=\"742\" y=\"207\"/><rect fill=\"#F8F8F8\" height=\"10\" style=\"stroke: #F8F8F8; stroke-width: 1.5;\" width=\"138\" x=\"742\" y=\"234.9375\"/><rect fill=\"none\" height=\"165.86\" id=\"E10\" rx=\"10\" ry=\"10\" style=\"stroke: #383838; stroke-width: 1.5;\" width=\"138\" x=\"742\" y=\"207\"/><text fill=\"#000000\" font-family=\"sans-serif\" font-size=\"12\" font-style=\"italic\" lengthAdjust=\"spacingAndGlyphs\" textLength=\"64\" x=\"779\" y=\"223.1387\">«analysis»</text><text fill=\"#000000\" font-family=\"sans-serif\" font-size=\"12\" lengthAdjust=\"spacingAndGlyphs\" textLength=\"81\" x=\"770.5\" y=\"237.1074\">analysisCase</text><line style=\"stroke: #383838; stroke-width: 1.0;\" x1=\"742\" x2=\"880\" y1=\"244.9375\" y2=\"244.9375\"/></a><!--MD5=[bcf29f0808fc96f19b1afbee8cfc1f11]\n",
       "cluster E14--><a href=\"psysml:2f29b586-744b-44a6-b354-0cb36fac52ba\" target=\"_top\" title=\"psysml:2f29b586-744b-44a6-b354-0cb36fac52ba\" xlink:actuate=\"onRequest\" xlink:href=\"psysml:2f29b586-744b-44a6-b354-0cb36fac52ba\" xlink:show=\"new\" xlink:title=\"psysml:2f29b586-744b-44a6-b354-0cb36fac52ba\" xlink:type=\"simple\"><rect fill=\"#FFFFFF\" height=\"197\" id=\"E14\" rx=\"10\" ry=\"10\" style=\"stroke: #383838; stroke-width: 1.5;\" width=\"204\" x=\"368\" y=\"49\"/><rect fill=\"#F8F8F8\" height=\"23.9688\" rx=\"10\" ry=\"10\" style=\"stroke: #F8F8F8; stroke-width: 1.5;\" width=\"204\" x=\"368\" y=\"49\"/><rect fill=\"#F8F8F8\" height=\"10\" style=\"stroke: #F8F8F8; stroke-width: 1.5;\" width=\"204\" x=\"368\" y=\"62.9688\"/><rect fill=\"none\" height=\"197\" id=\"E14\" rx=\"10\" ry=\"10\" style=\"stroke: #383838; stroke-width: 1.5;\" width=\"204\" x=\"368\" y=\"49\"/><text fill=\"#000000\" font-family=\"sans-serif\" font-size=\"12\" lengthAdjust=\"spacingAndGlyphs\" textLength=\"98\" x=\"421\" y=\"65.1387\">analysisContext</text><line style=\"stroke: #383838; stroke-width: 1.0;\" x1=\"368\" x2=\"572\" y1=\"72.9688\" y2=\"72.9688\"/></a><!--MD5=[ebbe1d658d1005bcc118a6aa81145e00]\n",
       "class E4--><a href=\"psysml:31fce779-d9ab-452b-8111-7f3c68bff972\" target=\"_top\" title=\"psysml:31fce779-d9ab-452b-8111-7f3c68bff972\" xlink:actuate=\"onRequest\" xlink:href=\"psysml:31fce779-d9ab-452b-8111-7f3c68bff972\" xlink:show=\"new\" xlink:title=\"psysml:31fce779-d9ab-452b-8111-7f3c68bff972\" xlink:type=\"simple\"><rect fill=\"#FFFFFF\" height=\"66.7422\" id=\"E4\" style=\"stroke: #383838; stroke-width: 1.5;\" width=\"121\" x=\"227.5\" y=\"73.5\"/><text fill=\"#000000\" font-family=\"sans-serif\" font-size=\"12\" font-style=\"italic\" lengthAdjust=\"spacingAndGlyphs\" textLength=\"119\" x=\"228.5\" y=\"89.6387\">«requirement  def»</text><text fill=\"#000000\" font-family=\"sans-serif\" font-size=\"12\" lengthAdjust=\"spacingAndGlyphs\" textLength=\"107\" x=\"234.5\" y=\"103.6074\">AnalysisObjective</text><line style=\"stroke: #383838; stroke-width: 1.5;\" x1=\"228.5\" x2=\"347.5\" y1=\"111.4375\" y2=\"111.4375\"/><text fill=\"#000000\" font-family=\"sans-serif\" font-size=\"11\" lengthAdjust=\"spacingAndGlyphs\" textLength=\"12\" x=\"233.5\" y=\"125.6479\">...</text><line style=\"stroke: #383838; stroke-width: 1.0;\" x1=\"228.5\" x2=\"347.5\" y1=\"132.2422\" y2=\"132.2422\"/></a><g id=\"E1.E2\"><a href=\"psysml:6e318fc7-f06d-4e4c-8e44-1e6d0f884455\" target=\"_top\" title=\"psysml:6e318fc7-f06d-4e4c-8e44-1e6d0f884455\" xlink:actuate=\"onRequest\" xlink:href=\"psysml:6e318fc7-f06d-4e4c-8e44-1e6d0f884455\" xlink:show=\"new\" xlink:title=\"psysml:6e318fc7-f06d-4e4c-8e44-1e6d0f884455\" xlink:type=\"simple\"><rect fill=\"#FFFFFF\" height=\"42.9375\" id=\"E2\" style=\"stroke: #383838; stroke-width: 1.5;\" width=\"75\" x=\"117.5\" y=\"85.5\"/><rect fill=\"#F8F8F8\" height=\"37.9375\" style=\"stroke: #383838; stroke-width: 1.5;\" width=\"75\" x=\"117.5\" y=\"85.5\"/><text fill=\"#000000\" font-family=\"sans-serif\" font-size=\"12\" font-style=\"italic\" lengthAdjust=\"spacingAndGlyphs\" textLength=\"68\" x=\"121\" y=\"101.6387\">«part  def»</text><text fill=\"#000000\" font-family=\"sans-serif\" font-size=\"12\" lengthAdjust=\"spacingAndGlyphs\" textLength=\"8\" x=\"151\" y=\"115.6074\">V</text></a></g><g id=\"E1.E3\"><a href=\"psysml:27999d5c-daad-4ed7-92ff-020a622ea083\" target=\"_top\" title=\"psysml:27999d5c-daad-4ed7-92ff-020a622ea083\" xlink:actuate=\"onRequest\" xlink:href=\"psysml:27999d5c-daad-4ed7-92ff-020a622ea083\" xlink:show=\"new\" xlink:title=\"psysml:27999d5c-daad-4ed7-92ff-020a622ea083\" xlink:type=\"simple\"><rect fill=\"#FFFFFF\" height=\"40\" id=\"E3\" rx=\"10\" ry=\"10\" style=\"stroke: #383838; stroke-width: 1.5;\" width=\"50\" x=\"32\" y=\"87\"/><rect fill=\"#F8F8F8\" height=\"23.9688\" rx=\"10\" ry=\"10\" style=\"stroke: #F8F8F8; stroke-width: 1.5;\" width=\"50\" x=\"32\" y=\"87\"/><rect fill=\"#F8F8F8\" height=\"10\" style=\"stroke: #F8F8F8; stroke-width: 1.5;\" width=\"50\" x=\"32\" y=\"100.9688\"/><rect fill=\"none\" height=\"40\" id=\"E3\" rx=\"10\" ry=\"10\" style=\"stroke: #383838; stroke-width: 1.5;\" width=\"50\" x=\"32\" y=\"87\"/><text fill=\"#000000\" font-family=\"sans-serif\" font-size=\"12\" lengthAdjust=\"spacingAndGlyphs\" textLength=\"28\" x=\"43\" y=\"103.1387\">vv: V</text></a></g><text fill=\"#000000\" font-family=\"sans-serif\" font-size=\"14\" lengthAdjust=\"spacingAndGlyphs\" textLength=\"7\" x=\"1017.5\" y=\"85.6982\">v</text><rect fill=\"#383838\" height=\"12\" style=\"stroke: #F8F8F8; stroke-width: 1.5;\" width=\"12\" x=\"1015\" y=\"101\"/><text fill=\"#000000\" font-family=\"sans-serif\" font-size=\"14\" lengthAdjust=\"spacingAndGlyphs\" textLength=\"39\" x=\"1001.5\" y=\"354.8551\">result</text><rect fill=\"#383838\" height=\"12\" style=\"stroke: #F8F8F8; stroke-width: 1.5;\" width=\"12\" x=\"1015\" y=\"329.86\"/><text fill=\"#000000\" font-family=\"sans-serif\" font-size=\"14\" lengthAdjust=\"spacingAndGlyphs\" textLength=\"7\" x=\"673.5\" y=\"85.6982\">v</text><rect fill=\"#383838\" height=\"12\" style=\"stroke: #F8F8F8; stroke-width: 1.5;\" width=\"12\" x=\"671\" y=\"101\"/><text fill=\"#000000\" font-family=\"sans-serif\" font-size=\"14\" lengthAdjust=\"spacingAndGlyphs\" textLength=\"39\" x=\"898.5\" y=\"354.8551\">result</text><rect fill=\"#383838\" height=\"12\" style=\"stroke: #F8F8F8; stroke-width: 1.5;\" width=\"12\" x=\"912\" y=\"329.86\"/><text fill=\"#000000\" font-family=\"sans-serif\" font-size=\"14\" lengthAdjust=\"spacingAndGlyphs\" textLength=\"37\" x=\"792.5\" y=\"391.8551\">mass</text><rect fill=\"#383838\" height=\"12\" style=\"stroke: #F8F8F8; stroke-width: 1.5;\" width=\"12\" x=\"805\" y=\"366.86\"/><text fill=\"#000000\" font-family=\"sans-serif\" font-size=\"14\" lengthAdjust=\"spacingAndGlyphs\" textLength=\"7\" x=\"807.5\" y=\"185.6982\">v</text><rect fill=\"#383838\" height=\"12\" style=\"stroke: #F8F8F8; stroke-width: 1.5;\" width=\"12\" x=\"805\" y=\"201\"/><!--MD5=[0c48fb7552dae8cbbef69381101a84c8]\n",
       "class E15--><a href=\"psysml:cfe8b385-7bc2-406c-91e1-db9911ba5874\" target=\"_top\" title=\"psysml:cfe8b385-7bc2-406c-91e1-db9911ba5874\" xlink:actuate=\"onRequest\" xlink:href=\"psysml:cfe8b385-7bc2-406c-91e1-db9911ba5874\" xlink:show=\"new\" xlink:title=\"psysml:cfe8b385-7bc2-406c-91e1-db9911ba5874\" xlink:type=\"simple\"><rect fill=\"#FFFFFF\" height=\"45.9375\" id=\"E15\" rx=\"10\" ry=\"10\" style=\"stroke: #383838; stroke-width: 1.5;\" width=\"172\" x=\"384\" y=\"84\"/><text fill=\"#000000\" font-family=\"sans-serif\" font-size=\"12\" font-style=\"italic\" lengthAdjust=\"spacingAndGlyphs\" textLength=\"64\" x=\"438\" y=\"100.1387\">«analysis»</text><text fill=\"#000000\" font-family=\"sans-serif\" font-size=\"12\" lengthAdjust=\"spacingAndGlyphs\" textLength=\"162\" x=\"387\" y=\"114.1074\">analysisPlan: AnalysisPlan</text><line style=\"stroke: #383838; stroke-width: 1.5;\" x1=\"385\" x2=\"555\" y1=\"121.9375\" y2=\"121.9375\"/></a><!--MD5=[35f0587eaee8d5bb9a02e25b63afc23b]\n",
       "class E16--><a href=\"psysml:63325e1e-8a82-4691-b26b-3354962a7cad\" target=\"_top\" title=\"psysml:63325e1e-8a82-4691-b26b-3354962a7cad\" xlink:actuate=\"onRequest\" xlink:href=\"psysml:63325e1e-8a82-4691-b26b-3354962a7cad\" xlink:show=\"new\" xlink:title=\"psysml:63325e1e-8a82-4691-b26b-3354962a7cad\" xlink:type=\"simple\"><rect fill=\"#FFFFFF\" height=\"45.9375\" id=\"E16\" rx=\"10\" ry=\"10\" style=\"stroke: #383838; stroke-width: 1.5;\" width=\"93\" x=\"423.5\" y=\"184\"/><text fill=\"#000000\" font-family=\"sans-serif\" font-size=\"12\" font-style=\"italic\" lengthAdjust=\"spacingAndGlyphs\" textLength=\"91\" x=\"424.5\" y=\"200.1387\">«requirement»</text><text fill=\"#000000\" font-family=\"sans-serif\" font-size=\"12\" lengthAdjust=\"spacingAndGlyphs\" textLength=\"19\" x=\"460.5\" y=\"214.1074\">obj</text><line style=\"stroke: #383838; stroke-width: 1.5;\" x1=\"424.5\" x2=\"515.5\" y1=\"221.9375\" y2=\"221.9375\"/></a><!--MD5=[1b01d5b954197aaf3899ca0bde35faf5]\n",
       "link E15 to E8--><a href=\"psysml:b8e5c057-83f1-47ef-94c9-1676b303e623\" target=\"_top\" title=\"psysml:b8e5c057-83f1-47ef-94c9-1676b303e623\" xlink:actuate=\"onRequest\" xlink:href=\"psysml:b8e5c057-83f1-47ef-94c9-1676b303e623\" xlink:show=\"new\" xlink:title=\"psysml:b8e5c057-83f1-47ef-94c9-1676b303e623\" xlink:type=\"simple\"><path d=\"M516.71,130.12 C554.75,148.12 607.61,173.15 642.06,189.46 \" fill=\"none\" id=\"E15-&gt;E8\" style=\"stroke: #383838; stroke-width: 1.0;\"/><polygon fill=\"#FFFFFF\" points=\"642.06,189.46,621.892,187.6566,627.8827,175.003,642.06,189.46\" style=\"stroke: #383838; stroke-width: 1.0;\"/><ellipse cx=\"617.596\" cy=\"183.4098\" fill=\"#383838\" rx=\"2\" ry=\"2\" style=\"stroke: #383838; stroke-width: 1.0;\"/><ellipse cx=\"621.8751\" cy=\"174.3716\" fill=\"#383838\" rx=\"2\" ry=\"2\" style=\"stroke: #383838; stroke-width: 1.0;\"/></a><!--MD5=[f8b155c46b092be73bb522b0a8fc72a2]\n",
       "link E15 to E16--><a href=\"psysml:7d3bd451-2ef5-4e75-9594-2e0dd7330291\" target=\"_top\" title=\"psysml:7d3bd451-2ef5-4e75-9594-2e0dd7330291\" xlink:actuate=\"onRequest\" xlink:href=\"psysml:7d3bd451-2ef5-4e75-9594-2e0dd7330291\" xlink:show=\"new\" xlink:title=\"psysml:7d3bd451-2ef5-4e75-9594-2e0dd7330291\" xlink:type=\"simple\"><path d=\"M470,130.24 C470,143.64 470,160.91 470,175.57 \" fill=\"none\" id=\"E15-&gt;E16\" style=\"stroke: #383838; stroke-width: 1.0;\"/><polygon fill=\"#383838\" points=\"470,183.85,473,175.85,467,175.85,470,183.85\" style=\"stroke: #383838; stroke-width: 1.0;\"/><text fill=\"#000000\" font-family=\"sans-serif\" font-size=\"13\" lengthAdjust=\"spacingAndGlyphs\" textLength=\"73\" x=\"471\" y=\"161.5669\">«objective»</text><text fill=\"#000000\" font-family=\"sans-serif\" font-size=\"13\" lengthAdjust=\"spacingAndGlyphs\" textLength=\"8\" x=\"460.975\" y=\"173.0879\">1</text></a><!--MD5=[abd50e53885d1eabbad121e2dec06c95]\n",
       "@startuml\r\n",
       "skinparam ranksep 10\r\n",
       "skinparam rectangle {\r\n",
       " backgroundColor<<block>> LightGreen\r\n",
       "}\r\n",
       " skinparam monochrome true\r\n",
       "skinparam classbackgroundcolor white\r\n",
       "skinparam shadowing false\r\n",
       "skinparam wrapWidth 300\r\n",
       "hide circle\r\n",
       "\r\n",
       "package \"AnalysisTest\" as E1  [[psysml:d47d9c93-f987-42aa-9c82-a11afa9e7a85 ]]  {\r\n",
       "rec def \"V\" as E2  <<(T,blue) part  def>> [[psysml:6e318fc7-f06d-4e4c-8e44-1e6d0f884455 ]] {\r\n",
       "}\r\n",
       "rec usage \"vv: V\" as E3  [[psysml:27999d5c-daad-4ed7-92ff-020a622ea083 ]] {\r\n",
       "}\r\n",
       "comp def \"AnalysisObjective\" as E4  <<(T,blue) requirement  def>> [[psysml:31fce779-d9ab-452b-8111-7f3c68bff972 ]] {\r\n",
       "...\r\n",
       "- -\r\n",
       "}\r\n",
       "rec def \"AnalysisCase\" as E5 << analysis def>> [[psysml:0d42cad1-3808-4e7b-8fe6-f660e27fd2bd ]] {\r\n",
       "portin \"v\" as E6  [[psysml:f7aad551-6165-4689-8df3-b128f6f54571 ]] \r\n",
       "portout \"result\" as E7  [[psysml:d8a9a5d1-c1b2-404a-b54f-35037ecf4c2d ]] \r\n",
       "}\r\n",
       "\r\n",
       "rec def \"AnalysisPlan\" as E8 << analysis def>> [[psysml:058a72e0-0a98-4261-856d-73366cf47a25 ]] {\r\n",
       "portin \"v\" as E9  [[psysml:40d43c87-89d5-4dcb-a988-f011f6f29ac5 ]] \r\n",
       "rec usage \"analysisCase\" as E10 << analysis>> [[psysml:ebac0614-db53-4f6a-a11b-2a64966401ed ]] {\r\n",
       "portout \"mass\" as E11  [[psysml:94298e01-1500-44a7-8244-0cc3e5620ae6 ]] \r\n",
       "portin \"v\" as E12  [[psysml:fabccdcf-1c94-4d5c-8a0b-5626b651aa80 ]] \r\n",
       "}\r\n",
       "\r\n",
       "portout \"result\" as E13  [[psysml:633f1383-e65f-4e22-9e6d-6ffcdde4bc38 ]] \r\n",
       "}\r\n",
       "\r\n",
       "rec usage \"analysisContext\" as E14  [[psysml:2f29b586-744b-44a6-b354-0cb36fac52ba ]] {\r\n",
       "comp usage \"analysisPlan: AnalysisPlan \" as E15 << analysis>> [[psysml:cfe8b385-7bc2-406c-91e1-db9911ba5874 ]] {\r\n",
       "}\r\n",
       "comp usage \"obj\" as E16  <<(T,blue) requirement>> [[psysml:63325e1e-8a82-4691-b26b-3354962a7cad ]] {\r\n",
       "}\r\n",
       "}\r\n",
       "}\r\n",
       "E15 - -:|> E8 [[psysml:b8e5c057-83f1-47ef-94c9-1676b303e623 ]] \r\n",
       "E15 - ->> \"1\"E16 [[psysml:7d3bd451-2ef5-4e75-9594-2e0dd7330291 ]] : <<objective>>\r\n",
       "@enduml\r\n",
       "\n",
       "PlantUML version 1.2020.13(Sat Jun 13 12:26:38 UTC 2020)\n",
       "(EPL source distribution)\n",
       "Java Runtime: OpenJDK Runtime Environment\n",
       "JVM: OpenJDK 64-Bit Server VM\n",
       "Default Encoding: UTF-8\n",
       "Language: en\n",
       "Country: null\n",
       "--></g></svg>"
      ]
     },
     "execution_count": 5,
     "metadata": {},
     "output_type": "execute_result"
    }
   ],
   "source": [
    "%viz --style=\"COMPTREE\" --view=\"Interconnection\" \"AnalysisTest\""
   ]
  },
  {
   "cell_type": "code",
   "execution_count": 6,
   "id": "77a85765",
   "metadata": {
    "execution": {
     "iopub.execute_input": "2021-11-13T12:57:17.472492Z",
     "iopub.status.busy": "2021-11-13T12:57:17.472080Z",
     "iopub.status.idle": "2021-11-13T12:57:17.510394Z",
     "shell.execute_reply": "2021-11-13T12:57:17.508592Z"
    }
   },
   "outputs": [
    {
     "data": {
      "image/svg+xml": [
       "<?xml version=\"1.0\" encoding=\"UTF-8\" standalone=\"no\"?><svg xmlns=\"http://www.w3.org/2000/svg\" xmlns:xlink=\"http://www.w3.org/1999/xlink\" contentScriptType=\"application/ecmascript\" contentStyleType=\"text/css\" height=\"233px\" preserveAspectRatio=\"none\" style=\"width:649px;height:233px;\" version=\"1.1\" viewBox=\"0 0 649 233\" width=\"649px\" zoomAndPan=\"magnify\"><defs/><g><!--MD5=[fbc87193dbaf4d95561dea2c320d4a47]\n",
       "cluster E1--><a href=\"psysml:0d42cad1-3808-4e7b-8fe6-f660e27fd2bd\" target=\"_top\" title=\"psysml:0d42cad1-3808-4e7b-8fe6-f660e27fd2bd\" xlink:actuate=\"onRequest\" xlink:href=\"psysml:0d42cad1-3808-4e7b-8fe6-f660e27fd2bd\" xlink:show=\"new\" xlink:title=\"psysml:0d42cad1-3808-4e7b-8fe6-f660e27fd2bd\" xlink:type=\"simple\"><rect fill=\"#FFFFFF\" height=\"122\" id=\"E1\" style=\"stroke: #383838; stroke-width: 1.5;\" width=\"146\" x=\"7\" y=\"42.0986\"/><rect fill=\"#F8F8F8\" height=\"37.9375\" style=\"stroke: #383838; stroke-width: 1.5;\" width=\"146\" x=\"7\" y=\"42.0986\"/><text fill=\"#000000\" font-family=\"sans-serif\" font-size=\"12\" font-style=\"italic\" lengthAdjust=\"spacingAndGlyphs\" textLength=\"88\" x=\"36\" y=\"58.2373\">«analysis def»</text><text fill=\"#000000\" font-family=\"sans-serif\" font-size=\"12\" lengthAdjust=\"spacingAndGlyphs\" textLength=\"81\" x=\"39.5\" y=\"72.2061\">AnalysisCase</text></a><!--MD5=[f6df4d0ebaf0b5dfb2ced0ae5af7c670]\n",
       "cluster E4--><a href=\"psysml:058a72e0-0a98-4261-856d-73366cf47a25\" target=\"_top\" title=\"psysml:058a72e0-0a98-4261-856d-73366cf47a25\" xlink:actuate=\"onRequest\" xlink:href=\"psysml:058a72e0-0a98-4261-856d-73366cf47a25\" xlink:show=\"new\" xlink:title=\"psysml:058a72e0-0a98-4261-856d-73366cf47a25\" xlink:type=\"simple\"><rect fill=\"#FFFFFF\" height=\"180\" id=\"E4\" style=\"stroke: #383838; stroke-width: 1.5;\" width=\"262\" x=\"216\" y=\"42.0986\"/><rect fill=\"#F8F8F8\" height=\"37.9375\" style=\"stroke: #383838; stroke-width: 1.5;\" width=\"262\" x=\"216\" y=\"42.0986\"/><text fill=\"#000000\" font-family=\"sans-serif\" font-size=\"12\" font-style=\"italic\" lengthAdjust=\"spacingAndGlyphs\" textLength=\"88\" x=\"303\" y=\"58.2373\">«analysis def»</text><text fill=\"#000000\" font-family=\"sans-serif\" font-size=\"12\" lengthAdjust=\"spacingAndGlyphs\" textLength=\"77\" x=\"308.5\" y=\"72.2061\">AnalysisPlan</text></a><!--MD5=[14e3b0961a2654348d326746436168a1]\n",
       "cluster E6--><a href=\"psysml:ebac0614-db53-4f6a-a11b-2a64966401ed\" target=\"_top\" title=\"psysml:ebac0614-db53-4f6a-a11b-2a64966401ed\" xlink:actuate=\"onRequest\" xlink:href=\"psysml:ebac0614-db53-4f6a-a11b-2a64966401ed\" xlink:show=\"new\" xlink:title=\"psysml:ebac0614-db53-4f6a-a11b-2a64966401ed\" xlink:type=\"simple\"><rect fill=\"#FFFFFF\" height=\"110.5\" id=\"E6\" rx=\"10\" ry=\"10\" style=\"stroke: #383838; stroke-width: 1.5;\" width=\"138\" x=\"299\" y=\"81.5986\"/><rect fill=\"#F8F8F8\" height=\"37.9375\" rx=\"10\" ry=\"10\" style=\"stroke: #F8F8F8; stroke-width: 1.5;\" width=\"138\" x=\"299\" y=\"81.5986\"/><rect fill=\"#F8F8F8\" height=\"10\" style=\"stroke: #F8F8F8; stroke-width: 1.5;\" width=\"138\" x=\"299\" y=\"109.5361\"/><rect fill=\"none\" height=\"110.5\" id=\"E6\" rx=\"10\" ry=\"10\" style=\"stroke: #383838; stroke-width: 1.5;\" width=\"138\" x=\"299\" y=\"81.5986\"/><text fill=\"#000000\" font-family=\"sans-serif\" font-size=\"12\" font-style=\"italic\" lengthAdjust=\"spacingAndGlyphs\" textLength=\"64\" x=\"336\" y=\"97.7373\">«analysis»</text><text fill=\"#000000\" font-family=\"sans-serif\" font-size=\"12\" lengthAdjust=\"spacingAndGlyphs\" textLength=\"81\" x=\"327.5\" y=\"111.7061\">analysisCase</text><line style=\"stroke: #383838; stroke-width: 1.0;\" x1=\"299\" x2=\"437\" y1=\"119.5361\" y2=\"119.5361\"/></a><!--MD5=[a84b4591f868c1fa4a211716a82f2f0d]\n",
       "cluster E10--><a href=\"psysml:cfe8b385-7bc2-406c-91e1-db9911ba5874\" target=\"_top\" title=\"psysml:cfe8b385-7bc2-406c-91e1-db9911ba5874\" xlink:actuate=\"onRequest\" xlink:href=\"psysml:cfe8b385-7bc2-406c-91e1-db9911ba5874\" xlink:show=\"new\" xlink:title=\"psysml:cfe8b385-7bc2-406c-91e1-db9911ba5874\" xlink:type=\"simple\"><rect fill=\"#FFFFFF\" height=\"122\" id=\"E10\" rx=\"10\" ry=\"10\" style=\"stroke: #383838; stroke-width: 1.5;\" width=\"130\" x=\"507\" y=\"42.0986\"/><rect fill=\"#F8F8F8\" height=\"37.9375\" rx=\"10\" ry=\"10\" style=\"stroke: #F8F8F8; stroke-width: 1.5;\" width=\"130\" x=\"507\" y=\"42.0986\"/><rect fill=\"#F8F8F8\" height=\"10\" style=\"stroke: #F8F8F8; stroke-width: 1.5;\" width=\"130\" x=\"507\" y=\"70.0361\"/><rect fill=\"none\" height=\"122\" id=\"E10\" rx=\"10\" ry=\"10\" style=\"stroke: #383838; stroke-width: 1.5;\" width=\"130\" x=\"507\" y=\"42.0986\"/><text fill=\"#000000\" font-family=\"sans-serif\" font-size=\"12\" font-style=\"italic\" lengthAdjust=\"spacingAndGlyphs\" textLength=\"64\" x=\"540\" y=\"58.2373\">«analysis»</text><text fill=\"#000000\" font-family=\"sans-serif\" font-size=\"12\" lengthAdjust=\"spacingAndGlyphs\" textLength=\"77\" x=\"533.5\" y=\"72.2061\">analysisPlan</text><line style=\"stroke: #383838; stroke-width: 1.0;\" x1=\"507\" x2=\"637\" y1=\"80.0361\" y2=\"80.0361\"/></a><text fill=\"#000000\" font-family=\"sans-serif\" font-size=\"14\" lengthAdjust=\"spacingAndGlyphs\" textLength=\"7\" x=\"76.5\" y=\"20.7969\">v</text><rect fill=\"#383838\" height=\"12\" style=\"stroke: #F8F8F8; stroke-width: 1.5;\" width=\"12\" x=\"74\" y=\"36.0986\"/><text fill=\"#000000\" font-family=\"sans-serif\" font-size=\"14\" lengthAdjust=\"spacingAndGlyphs\" textLength=\"39\" x=\"60.5\" y=\"183.0938\">result</text><rect fill=\"#383838\" height=\"12\" style=\"stroke: #F8F8F8; stroke-width: 1.5;\" width=\"12\" x=\"74\" y=\"158.0986\"/><text fill=\"#000000\" font-family=\"sans-serif\" font-size=\"14\" lengthAdjust=\"spacingAndGlyphs\" textLength=\"7\" x=\"230.5\" y=\"20.7969\">v</text><rect fill=\"#383838\" height=\"12\" style=\"stroke: #F8F8F8; stroke-width: 1.5;\" width=\"12\" x=\"228\" y=\"36.0986\"/><text fill=\"#000000\" font-family=\"sans-serif\" font-size=\"14\" lengthAdjust=\"spacingAndGlyphs\" textLength=\"39\" x=\"458.5\" y=\"183.0938\">result</text><rect fill=\"#383838\" height=\"12\" style=\"stroke: #F8F8F8; stroke-width: 1.5;\" width=\"12\" x=\"472\" y=\"158.0986\"/><text fill=\"#000000\" font-family=\"sans-serif\" font-size=\"14\" lengthAdjust=\"spacingAndGlyphs\" textLength=\"37\" x=\"349.5\" y=\"211.0938\">mass</text><rect fill=\"#383838\" height=\"12\" style=\"stroke: #F8F8F8; stroke-width: 1.5;\" width=\"12\" x=\"362\" y=\"186.0986\"/><text fill=\"#000000\" font-family=\"sans-serif\" font-size=\"14\" lengthAdjust=\"spacingAndGlyphs\" textLength=\"7\" x=\"364.5\" y=\"60.2969\">v</text><rect fill=\"#383838\" height=\"12\" style=\"stroke: #F8F8F8; stroke-width: 1.5;\" width=\"12\" x=\"362\" y=\"75.5986\"/><text fill=\"#000000\" font-family=\"sans-serif\" font-size=\"14\" lengthAdjust=\"spacingAndGlyphs\" textLength=\"7\" x=\"567.5\" y=\"20.7969\">v</text><rect fill=\"#383838\" height=\"12\" style=\"stroke: #F8F8F8; stroke-width: 1.5;\" width=\"12\" x=\"565\" y=\"36.0986\"/><text fill=\"#000000\" font-family=\"sans-serif\" font-size=\"14\" lengthAdjust=\"spacingAndGlyphs\" textLength=\"39\" x=\"505.5\" y=\"183.0938\">result</text><rect fill=\"#383838\" height=\"12\" style=\"stroke: #F8F8F8; stroke-width: 1.5;\" width=\"12\" x=\"519\" y=\"158.0986\"/><!--MD5=[b2a7a63f7af3efd1f7cd3f214d72b2a0]\n",
       "@startuml\r\n",
       "skinparam ranksep 8\r\n",
       " skinparam monochrome true\r\n",
       "skinparam classbackgroundcolor white\r\n",
       "skinparam shadowing false\r\n",
       "skinparam wrapWidth 300\r\n",
       "hide circle\r\n",
       "\r\n",
       "rec def \"AnalysisCase\" as E1 << analysis def>> [[psysml:0d42cad1-3808-4e7b-8fe6-f660e27fd2bd ]] {\r\n",
       "portin \"v\" as E2  [[psysml:f7aad551-6165-4689-8df3-b128f6f54571 ]] \r\n",
       "portout \"result\" as E3  [[psysml:d8a9a5d1-c1b2-404a-b54f-35037ecf4c2d ]] \r\n",
       "}\r\n",
       "\r\n",
       "rec def \"AnalysisPlan\" as E4 << analysis def>> [[psysml:058a72e0-0a98-4261-856d-73366cf47a25 ]] {\r\n",
       "portin \"v\" as E5  [[psysml:40d43c87-89d5-4dcb-a988-f011f6f29ac5 ]] \r\n",
       "rec usage \"analysisCase\" as E6 << analysis>> [[psysml:ebac0614-db53-4f6a-a11b-2a64966401ed ]] {\r\n",
       "portout \"mass\" as E7  [[psysml:94298e01-1500-44a7-8244-0cc3e5620ae6 ]] \r\n",
       "portin \"v\" as E8  [[psysml:fabccdcf-1c94-4d5c-8a0b-5626b651aa80 ]] \r\n",
       "}\r\n",
       "\r\n",
       "portout \"result\" as E9  [[psysml:633f1383-e65f-4e22-9e6d-6ffcdde4bc38 ]] \r\n",
       "}\r\n",
       "\r\n",
       "rec usage \"analysisPlan\" as E10 << analysis>> [[psysml:cfe8b385-7bc2-406c-91e1-db9911ba5874 ]] {\r\n",
       "portin \"v\" as E11  [[psysml:55cfee2c-c24c-468f-9db4-77480ce5a457 ]] \r\n",
       "portout \"result\" as E12  [[psysml:8005f62b-cb79-4c8e-b32b-9a19d0c6c24c ]] \r\n",
       "}\r\n",
       "\r\n",
       "@enduml\r\n",
       "\n",
       "PlantUML version 1.2020.13(Sat Jun 13 12:26:38 UTC 2020)\n",
       "(EPL source distribution)\n",
       "Java Runtime: OpenJDK Runtime Environment\n",
       "JVM: OpenJDK 64-Bit Server VM\n",
       "Default Encoding: UTF-8\n",
       "Language: en\n",
       "Country: null\n",
       "--></g></svg>"
      ]
     },
     "execution_count": 6,
     "metadata": {},
     "output_type": "execute_result"
    }
   ],
   "source": [
    "%viz --style=\"COMPTREE\" --view=\"Action\" \"AnalysisTest\""
   ]
  },
  {
   "cell_type": "code",
   "execution_count": 7,
   "id": "4d3d169f",
   "metadata": {
    "execution": {
     "iopub.execute_input": "2021-11-13T12:57:17.559760Z",
     "iopub.status.busy": "2021-11-13T12:57:17.559340Z",
     "iopub.status.idle": "2021-11-13T12:57:17.572948Z",
     "shell.execute_reply": "2021-11-13T12:57:17.573264Z"
    }
   },
   "outputs": [
    {
     "data": {
      "image/svg+xml": [
       "<?xml version=\"1.0\" encoding=\"UTF-8\" standalone=\"no\"?><svg xmlns=\"http://www.w3.org/2000/svg\" xmlns:xlink=\"http://www.w3.org/1999/xlink\" contentScriptType=\"application/ecmascript\" contentStyleType=\"text/css\" height=\"12px\" preserveAspectRatio=\"none\" style=\"width:12px;height:12px;\" version=\"1.1\" viewBox=\"0 0 12 12\" width=\"12px\" zoomAndPan=\"magnify\"><defs/><g><!--MD5=[803fc46c337be7a5c8a9831e35356779]\n",
       "@startuml\r\n",
       "skinparam roundcorner 20\r\n",
       "skinparam BoxPadding 20\r\n",
       "skinparam SequenceBoxBackgroundColor #white\r\n",
       "skinparam style strictuml\r\n",
       "skinparam maxMessageSize 100\r\n",
       " skinparam monochrome true\r\n",
       "skinparam classbackgroundcolor white\r\n",
       "skinparam shadowing false\r\n",
       "skinparam wrapWidth 300\r\n",
       "hide circle\r\n",
       "\r\n",
       "@enduml\r\n",
       "\n",
       "PlantUML version 1.2020.13(Sat Jun 13 12:26:38 UTC 2020)\n",
       "(EPL source distribution)\n",
       "Java Runtime: OpenJDK Runtime Environment\n",
       "JVM: OpenJDK 64-Bit Server VM\n",
       "Default Encoding: UTF-8\n",
       "Language: en\n",
       "Country: null\n",
       "--></g></svg>"
      ]
     },
     "execution_count": 7,
     "metadata": {},
     "output_type": "execute_result"
    }
   ],
   "source": [
    "%viz --style=\"COMPTREE\" --view=\"Sequence\" \"AnalysisTest\""
   ]
  },
  {
   "cell_type": "code",
   "execution_count": 8,
   "id": "6b3f1c4e",
   "metadata": {
    "execution": {
     "iopub.execute_input": "2021-11-13T12:57:17.623858Z",
     "iopub.status.busy": "2021-11-13T12:57:17.623404Z",
     "iopub.status.idle": "2021-11-13T12:57:17.682320Z",
     "shell.execute_reply": "2021-11-13T12:57:17.680030Z"
    }
   },
   "outputs": [
    {
     "data": {
      "image/svg+xml": [
       "<?xml version=\"1.0\" encoding=\"UTF-8\" standalone=\"no\"?><svg xmlns=\"http://www.w3.org/2000/svg\" xmlns:xlink=\"http://www.w3.org/1999/xlink\" contentScriptType=\"application/ecmascript\" contentStyleType=\"text/css\" height=\"658px\" preserveAspectRatio=\"none\" style=\"width:845px;height:658px;\" version=\"1.1\" viewBox=\"0 0 845 658\" width=\"845px\" zoomAndPan=\"magnify\"><defs/><g><!--MD5=[fbc87193dbaf4d95561dea2c320d4a47]\n",
       "cluster E1--><a href=\"psysml:d47d9c93-f987-42aa-9c82-a11afa9e7a85\" target=\"_top\" title=\"psysml:d47d9c93-f987-42aa-9c82-a11afa9e7a85\" xlink:actuate=\"onRequest\" xlink:href=\"psysml:d47d9c93-f987-42aa-9c82-a11afa9e7a85\" xlink:show=\"new\" xlink:title=\"psysml:d47d9c93-f987-42aa-9c82-a11afa9e7a85\" xlink:type=\"simple\"><polygon fill=\"#FFFFFF\" points=\"16,6,108,6,115,28.2969,823,28.2969,823,646,16,646,16,6\" style=\"stroke: #000000; stroke-width: 1.5;\"/><line style=\"stroke: #000000; stroke-width: 1.5;\" x1=\"16\" x2=\"115\" y1=\"28.2969\" y2=\"28.2969\"/><text fill=\"#000000\" font-family=\"sans-serif\" font-size=\"14\" font-weight=\"bold\" lengthAdjust=\"spacingAndGlyphs\" textLength=\"86\" x=\"20\" y=\"20.9951\">AnalysisTest</text></a><!--MD5=[de5ec2e2e8f62f467e546659f5068c88]\n",
       "cluster E5--><a href=\"psysml:0d42cad1-3808-4e7b-8fe6-f660e27fd2bd\" target=\"_top\" title=\"psysml:0d42cad1-3808-4e7b-8fe6-f660e27fd2bd\" xlink:actuate=\"onRequest\" xlink:href=\"psysml:0d42cad1-3808-4e7b-8fe6-f660e27fd2bd\" xlink:show=\"new\" xlink:title=\"psysml:0d42cad1-3808-4e7b-8fe6-f660e27fd2bd\" xlink:type=\"simple\"><rect fill=\"#FFFFFF\" height=\"329.5\" id=\"E5\" style=\"stroke: #383838; stroke-width: 1.5;\" width=\"146\" x=\"661\" y=\"74.5\"/><rect fill=\"#F8F8F8\" height=\"37.9375\" style=\"stroke: #383838; stroke-width: 1.5;\" width=\"146\" x=\"661\" y=\"74.5\"/><text fill=\"#000000\" font-family=\"sans-serif\" font-size=\"12\" font-style=\"italic\" lengthAdjust=\"spacingAndGlyphs\" textLength=\"88\" x=\"690\" y=\"90.6387\">«analysis def»</text><text fill=\"#000000\" font-family=\"sans-serif\" font-size=\"12\" lengthAdjust=\"spacingAndGlyphs\" textLength=\"81\" x=\"693.5\" y=\"104.6074\">AnalysisCase</text></a><!--MD5=[55dfccfc6c49c2d10cd1bd2211a6c90c]\n",
       "cluster E8--><a href=\"psysml:058a72e0-0a98-4261-856d-73366cf47a25\" target=\"_top\" title=\"psysml:058a72e0-0a98-4261-856d-73366cf47a25\" xlink:actuate=\"onRequest\" xlink:href=\"psysml:058a72e0-0a98-4261-856d-73366cf47a25\" xlink:show=\"new\" xlink:title=\"psysml:058a72e0-0a98-4261-856d-73366cf47a25\" xlink:type=\"simple\"><rect fill=\"#FFFFFF\" height=\"415\" id=\"E8\" style=\"stroke: #383838; stroke-width: 1.5;\" width=\"259\" x=\"283\" y=\"207\"/><rect fill=\"#F8F8F8\" height=\"37.9375\" style=\"stroke: #383838; stroke-width: 1.5;\" width=\"259\" x=\"283\" y=\"207\"/><text fill=\"#000000\" font-family=\"sans-serif\" font-size=\"12\" font-style=\"italic\" lengthAdjust=\"spacingAndGlyphs\" textLength=\"88\" x=\"368.5\" y=\"223.1387\">«analysis def»</text><text fill=\"#000000\" font-family=\"sans-serif\" font-size=\"12\" lengthAdjust=\"spacingAndGlyphs\" textLength=\"77\" x=\"374\" y=\"237.1074\">AnalysisPlan</text></a><!--MD5=[a84b4591f868c1fa4a211716a82f2f0d]\n",
       "cluster E10--><a href=\"psysml:ebac0614-db53-4f6a-a11b-2a64966401ed\" target=\"_top\" title=\"psysml:ebac0614-db53-4f6a-a11b-2a64966401ed\" xlink:actuate=\"onRequest\" xlink:href=\"psysml:ebac0614-db53-4f6a-a11b-2a64966401ed\" xlink:show=\"new\" xlink:title=\"psysml:ebac0614-db53-4f6a-a11b-2a64966401ed\" xlink:type=\"simple\"><rect fill=\"#FFFFFF\" height=\"239\" id=\"E10\" rx=\"10\" ry=\"10\" style=\"stroke: #383838; stroke-width: 1.5;\" width=\"138\" x=\"366\" y=\"345\"/><rect fill=\"#F8F8F8\" height=\"37.9375\" rx=\"10\" ry=\"10\" style=\"stroke: #F8F8F8; stroke-width: 1.5;\" width=\"138\" x=\"366\" y=\"345\"/><rect fill=\"#F8F8F8\" height=\"10\" style=\"stroke: #F8F8F8; stroke-width: 1.5;\" width=\"138\" x=\"366\" y=\"372.9375\"/><rect fill=\"none\" height=\"239\" id=\"E10\" rx=\"10\" ry=\"10\" style=\"stroke: #383838; stroke-width: 1.5;\" width=\"138\" x=\"366\" y=\"345\"/><text fill=\"#000000\" font-family=\"sans-serif\" font-size=\"12\" font-style=\"italic\" lengthAdjust=\"spacingAndGlyphs\" textLength=\"64\" x=\"403\" y=\"361.1387\">«analysis»</text><text fill=\"#000000\" font-family=\"sans-serif\" font-size=\"12\" lengthAdjust=\"spacingAndGlyphs\" textLength=\"81\" x=\"394.5\" y=\"375.1074\">analysisCase</text><line style=\"stroke: #383838; stroke-width: 1.0;\" x1=\"366\" x2=\"504\" y1=\"382.9375\" y2=\"382.9375\"/></a><!--MD5=[b4997ac47864f28c2f74865a473b2911]\n",
       "class E2--><a href=\"psysml:6e318fc7-f06d-4e4c-8e44-1e6d0f884455\" target=\"_top\" title=\"psysml:6e318fc7-f06d-4e4c-8e44-1e6d0f884455\" xlink:actuate=\"onRequest\" xlink:href=\"psysml:6e318fc7-f06d-4e4c-8e44-1e6d0f884455\" xlink:show=\"new\" xlink:title=\"psysml:6e318fc7-f06d-4e4c-8e44-1e6d0f884455\" xlink:type=\"simple\"><rect fill=\"#FFFFFF\" height=\"75.5469\" id=\"E2\" style=\"stroke: #383838; stroke-width: 1.5;\" width=\"70\" x=\"572\" y=\"169\"/><text fill=\"#000000\" font-family=\"sans-serif\" font-size=\"12\" font-style=\"italic\" lengthAdjust=\"spacingAndGlyphs\" textLength=\"68\" x=\"573\" y=\"185.1387\">«part  def»</text><text fill=\"#000000\" font-family=\"sans-serif\" font-size=\"12\" lengthAdjust=\"spacingAndGlyphs\" textLength=\"8\" x=\"603\" y=\"199.1074\">V</text><line style=\"stroke: #383838; stroke-width: 1.5;\" x1=\"573\" x2=\"641\" y1=\"206.9375\" y2=\"206.9375\"/><text fill=\"#000000\" font-family=\"sans-serif\" font-size=\"11\" lengthAdjust=\"spacingAndGlyphs\" textLength=\"11\" x=\"578\" y=\"237.9526\">m</text><line style=\"stroke: #383838; stroke-width: 1.0;\" x1=\"573\" x2=\"576\" y1=\"221.3398\" y2=\"221.3398\"/><text fill=\"#000000\" font-family=\"sans-serif\" font-size=\"11\" lengthAdjust=\"spacingAndGlyphs\" textLength=\"62\" x=\"576\" y=\"224.6479\">references</text><line style=\"stroke: #383838; stroke-width: 1.0;\" x1=\"638\" x2=\"641\" y1=\"221.3398\" y2=\"221.3398\"/></a><!--MD5=[09b614a08d8cba4a07c9adeb5e0fee81]\n",
       "class E3--><a href=\"psysml:27999d5c-daad-4ed7-92ff-020a622ea083\" target=\"_top\" title=\"psysml:27999d5c-daad-4ed7-92ff-020a622ea083\" xlink:actuate=\"onRequest\" xlink:href=\"psysml:27999d5c-daad-4ed7-92ff-020a622ea083\" xlink:show=\"new\" xlink:title=\"psysml:27999d5c-daad-4ed7-92ff-020a622ea083\" xlink:type=\"simple\"><rect fill=\"#FFFFFF\" height=\"45.9375\" id=\"E3\" rx=\"10\" ry=\"10\" style=\"stroke: #383838; stroke-width: 1.5;\" width=\"42\" x=\"586\" y=\"51.5\"/><text fill=\"#000000\" font-family=\"sans-serif\" font-size=\"12\" font-style=\"italic\" lengthAdjust=\"spacingAndGlyphs\" textLength=\"40\" x=\"587\" y=\"67.6387\">«part»</text><text fill=\"#000000\" font-family=\"sans-serif\" font-size=\"12\" lengthAdjust=\"spacingAndGlyphs\" textLength=\"28\" x=\"591\" y=\"81.6074\">vv: V</text><line style=\"stroke: #383838; stroke-width: 1.5;\" x1=\"587\" x2=\"627\" y1=\"89.4375\" y2=\"89.4375\"/></a><!--MD5=[ebbe1d658d1005bcc118a6aa81145e00]\n",
       "class E4--><a href=\"psysml:31fce779-d9ab-452b-8111-7f3c68bff972\" target=\"_top\" title=\"psysml:31fce779-d9ab-452b-8111-7f3c68bff972\" xlink:actuate=\"onRequest\" xlink:href=\"psysml:31fce779-d9ab-452b-8111-7f3c68bff972\" xlink:show=\"new\" xlink:title=\"psysml:31fce779-d9ab-452b-8111-7f3c68bff972\" xlink:type=\"simple\"><rect fill=\"#FFFFFF\" height=\"66.7422\" id=\"E4\" style=\"stroke: #383838; stroke-width: 1.5;\" width=\"121\" x=\"317.5\" y=\"41\"/><text fill=\"#000000\" font-family=\"sans-serif\" font-size=\"12\" font-style=\"italic\" lengthAdjust=\"spacingAndGlyphs\" textLength=\"119\" x=\"318.5\" y=\"57.1387\">«requirement  def»</text><text fill=\"#000000\" font-family=\"sans-serif\" font-size=\"12\" lengthAdjust=\"spacingAndGlyphs\" textLength=\"107\" x=\"324.5\" y=\"71.1074\">AnalysisObjective</text><line style=\"stroke: #383838; stroke-width: 1.5;\" x1=\"318.5\" x2=\"437.5\" y1=\"78.9375\" y2=\"78.9375\"/><text fill=\"#000000\" font-family=\"sans-serif\" font-size=\"11\" lengthAdjust=\"spacingAndGlyphs\" textLength=\"12\" x=\"323.5\" y=\"93.1479\">...</text><line style=\"stroke: #383838; stroke-width: 1.0;\" x1=\"318.5\" x2=\"437.5\" y1=\"99.7422\" y2=\"99.7422\"/></a><!--MD5=[bee11217b2f71d958a27249dc326068c]\n",
       "class E14--><a href=\"psysml:2f29b586-744b-44a6-b354-0cb36fac52ba\" target=\"_top\" title=\"psysml:2f29b586-744b-44a6-b354-0cb36fac52ba\" xlink:actuate=\"onRequest\" xlink:href=\"psysml:2f29b586-744b-44a6-b354-0cb36fac52ba\" xlink:show=\"new\" xlink:title=\"psysml:2f29b586-744b-44a6-b354-0cb36fac52ba\" xlink:type=\"simple\"><rect fill=\"#FFFFFF\" height=\"45.9375\" id=\"E14\" rx=\"10\" ry=\"10\" style=\"stroke: #383838; stroke-width: 1.5;\" width=\"104\" x=\"66\" y=\"51.5\"/><text fill=\"#000000\" font-family=\"sans-serif\" font-size=\"12\" font-style=\"italic\" lengthAdjust=\"spacingAndGlyphs\" textLength=\"40\" x=\"98\" y=\"67.6387\">«part»</text><text fill=\"#000000\" font-family=\"sans-serif\" font-size=\"12\" lengthAdjust=\"spacingAndGlyphs\" textLength=\"98\" x=\"69\" y=\"81.6074\">analysisContext</text><line style=\"stroke: #383838; stroke-width: 1.5;\" x1=\"67\" x2=\"169\" y1=\"89.4375\" y2=\"89.4375\"/></a><!--MD5=[0c48fb7552dae8cbbef69381101a84c8]\n",
       "class E15--><a href=\"psysml:cfe8b385-7bc2-406c-91e1-db9911ba5874\" target=\"_top\" title=\"psysml:cfe8b385-7bc2-406c-91e1-db9911ba5874\" xlink:actuate=\"onRequest\" xlink:href=\"psysml:cfe8b385-7bc2-406c-91e1-db9911ba5874\" xlink:show=\"new\" xlink:title=\"psysml:cfe8b385-7bc2-406c-91e1-db9911ba5874\" xlink:type=\"simple\"><rect fill=\"#FFFFFF\" height=\"45.9375\" id=\"E15\" rx=\"10\" ry=\"10\" style=\"stroke: #383838; stroke-width: 1.5;\" width=\"172\" x=\"32\" y=\"184\"/><text fill=\"#000000\" font-family=\"sans-serif\" font-size=\"12\" font-style=\"italic\" lengthAdjust=\"spacingAndGlyphs\" textLength=\"64\" x=\"86\" y=\"200.1387\">«analysis»</text><text fill=\"#000000\" font-family=\"sans-serif\" font-size=\"12\" lengthAdjust=\"spacingAndGlyphs\" textLength=\"162\" x=\"35\" y=\"214.1074\">analysisPlan: AnalysisPlan</text><line style=\"stroke: #383838; stroke-width: 1.5;\" x1=\"33\" x2=\"203\" y1=\"221.9375\" y2=\"221.9375\"/></a><!--MD5=[35f0587eaee8d5bb9a02e25b63afc23b]\n",
       "class E16--><a href=\"psysml:63325e1e-8a82-4691-b26b-3354962a7cad\" target=\"_top\" title=\"psysml:63325e1e-8a82-4691-b26b-3354962a7cad\" xlink:actuate=\"onRequest\" xlink:href=\"psysml:63325e1e-8a82-4691-b26b-3354962a7cad\" xlink:show=\"new\" xlink:title=\"psysml:63325e1e-8a82-4691-b26b-3354962a7cad\" xlink:type=\"simple\"><rect fill=\"#FFFFFF\" height=\"45.9375\" id=\"E16\" rx=\"10\" ry=\"10\" style=\"stroke: #383838; stroke-width: 1.5;\" width=\"93\" x=\"71.5\" y=\"322\"/><text fill=\"#000000\" font-family=\"sans-serif\" font-size=\"12\" font-style=\"italic\" lengthAdjust=\"spacingAndGlyphs\" textLength=\"91\" x=\"72.5\" y=\"338.1387\">«requirement»</text><text fill=\"#000000\" font-family=\"sans-serif\" font-size=\"12\" lengthAdjust=\"spacingAndGlyphs\" textLength=\"19\" x=\"108.5\" y=\"352.1074\">obj</text><line style=\"stroke: #383838; stroke-width: 1.5;\" x1=\"72.5\" x2=\"163.5\" y1=\"359.9375\" y2=\"359.9375\"/></a><text fill=\"#000000\" font-family=\"sans-serif\" font-size=\"14\" lengthAdjust=\"spacingAndGlyphs\" textLength=\"7\" x=\"730.5\" y=\"53.1982\">v</text><rect fill=\"#383838\" height=\"12\" style=\"stroke: #F8F8F8; stroke-width: 1.5;\" width=\"12\" x=\"728\" y=\"68.5\"/><text fill=\"#000000\" font-family=\"sans-serif\" font-size=\"14\" lengthAdjust=\"spacingAndGlyphs\" textLength=\"39\" x=\"714.5\" y=\"422.9951\">result</text><rect fill=\"#383838\" height=\"12\" style=\"stroke: #F8F8F8; stroke-width: 1.5;\" width=\"12\" x=\"728\" y=\"398\"/><text fill=\"#000000\" font-family=\"sans-serif\" font-size=\"14\" lengthAdjust=\"spacingAndGlyphs\" textLength=\"7\" x=\"297.5\" y=\"185.6982\">v</text><rect fill=\"#383838\" height=\"12\" style=\"stroke: #F8F8F8; stroke-width: 1.5;\" width=\"12\" x=\"295\" y=\"201\"/><text fill=\"#000000\" font-family=\"sans-serif\" font-size=\"14\" lengthAdjust=\"spacingAndGlyphs\" textLength=\"39\" x=\"522.5\" y=\"529.9951\">result</text><rect fill=\"#383838\" height=\"12\" style=\"stroke: #F8F8F8; stroke-width: 1.5;\" width=\"12\" x=\"536\" y=\"505\"/><text fill=\"#000000\" font-family=\"sans-serif\" font-size=\"14\" lengthAdjust=\"spacingAndGlyphs\" textLength=\"37\" x=\"416.5\" y=\"602.9951\">mass</text><rect fill=\"#383838\" height=\"12\" style=\"stroke: #F8F8F8; stroke-width: 1.5;\" width=\"12\" x=\"429\" y=\"578\"/><text fill=\"#000000\" font-family=\"sans-serif\" font-size=\"14\" lengthAdjust=\"spacingAndGlyphs\" textLength=\"7\" x=\"431.5\" y=\"323.6982\">v</text><rect fill=\"#383838\" height=\"12\" style=\"stroke: #F8F8F8; stroke-width: 1.5;\" width=\"12\" x=\"429\" y=\"339\"/><!--MD5=[05d275557350bfb9b23a4ef7222b4c39]\n",
       "link E3 to E2--><a href=\"psysml:4413170d-8387-4bcf-a661-a8e63eefb5dc\" target=\"_top\" title=\"psysml:4413170d-8387-4bcf-a661-a8e63eefb5dc\" xlink:actuate=\"onRequest\" xlink:href=\"psysml:4413170d-8387-4bcf-a661-a8e63eefb5dc\" xlink:show=\"new\" xlink:title=\"psysml:4413170d-8387-4bcf-a661-a8e63eefb5dc\" xlink:type=\"simple\"><path d=\"M607,97.64 C607,111.72 607,130.66 607,148.75 \" fill=\"none\" id=\"E3-&gt;E2\" style=\"stroke: #383838; stroke-width: 1.0;\"/><polygon fill=\"#FFFFFF\" points=\"607,168.9,600,149.9,614,149.9,607,168.9\" style=\"stroke: #383838; stroke-width: 1.0;\"/><ellipse cx=\"602\" cy=\"144.2\" fill=\"#383838\" rx=\"2\" ry=\"2\" style=\"stroke: #383838; stroke-width: 1.0;\"/><ellipse cx=\"612\" cy=\"144.2\" fill=\"#383838\" rx=\"2\" ry=\"2\" style=\"stroke: #383838; stroke-width: 1.0;\"/></a><!--MD5=[17bf29720e4688890742b92d9a67fdf0]\n",
       "reverse link E14 to E15--><a href=\"psysml:df4b3059-af15-4a6e-9f16-4ce8d388f00c\" target=\"_top\" title=\"psysml:df4b3059-af15-4a6e-9f16-4ce8d388f00c\" xlink:actuate=\"onRequest\" xlink:href=\"psysml:df4b3059-af15-4a6e-9f16-4ce8d388f00c\" xlink:show=\"new\" xlink:title=\"psysml:df4b3059-af15-4a6e-9f16-4ce8d388f00c\" xlink:type=\"simple\"><path d=\"M118,110.79 C118,134.03 118,163.75 118,183.75 \" fill=\"none\" id=\"E14&lt;-E15\" style=\"stroke: #383838; stroke-width: 1.0;\"/><polygon fill=\"#383838\" points=\"118,97.64,114,103.64,118,109.64,122,103.64,118,97.64\" style=\"stroke: #383838; stroke-width: 1.0;\"/></a><!--MD5=[1b01d5b954197aaf3899ca0bde35faf5]\n",
       "link E15 to E8--><a href=\"psysml:b8e5c057-83f1-47ef-94c9-1676b303e623\" target=\"_top\" title=\"psysml:b8e5c057-83f1-47ef-94c9-1676b303e623\" xlink:actuate=\"onRequest\" xlink:href=\"psysml:b8e5c057-83f1-47ef-94c9-1676b303e623\" xlink:show=\"new\" xlink:title=\"psysml:b8e5c057-83f1-47ef-94c9-1676b303e623\" xlink:type=\"simple\"><path d=\"M147.81,230.15 C184.47,257.4 245.87,303.03 278.7,327.43 \" fill=\"none\" id=\"E15-&gt;E8\" style=\"stroke: #383838; stroke-width: 1.0;\"/><polygon fill=\"#FFFFFF\" points=\"278.7,327.43,259.2749,321.7145,267.6261,310.478,278.7,327.43\" style=\"stroke: #383838; stroke-width: 1.0;\"/><ellipse cx=\"255.8931\" cy=\"316.7091\" fill=\"#383838\" rx=\"2\" ry=\"2\" style=\"stroke: #383838; stroke-width: 1.0;\"/><ellipse cx=\"261.8583\" cy=\"308.6831\" fill=\"#383838\" rx=\"2\" ry=\"2\" style=\"stroke: #383838; stroke-width: 1.0;\"/></a><!--MD5=[f8b155c46b092be73bb522b0a8fc72a2]\n",
       "link E15 to E16--><a href=\"psysml:7d3bd451-2ef5-4e75-9594-2e0dd7330291\" target=\"_top\" title=\"psysml:7d3bd451-2ef5-4e75-9594-2e0dd7330291\" xlink:actuate=\"onRequest\" xlink:href=\"psysml:7d3bd451-2ef5-4e75-9594-2e0dd7330291\" xlink:show=\"new\" xlink:title=\"psysml:7d3bd451-2ef5-4e75-9594-2e0dd7330291\" xlink:type=\"simple\"><path d=\"M118,230.15 C118,252.87 118,288.38 118,313.69 \" fill=\"none\" id=\"E15-&gt;E16\" style=\"stroke: #383838; stroke-width: 1.0;\"/><polygon fill=\"#383838\" points=\"118,321.86,121,313.86,115,313.86,118,321.86\" style=\"stroke: #383838; stroke-width: 1.0;\"/><text fill=\"#000000\" font-family=\"sans-serif\" font-size=\"13\" lengthAdjust=\"spacingAndGlyphs\" textLength=\"73\" x=\"119\" y=\"288.0669\">«objective»</text><text fill=\"#000000\" font-family=\"sans-serif\" font-size=\"13\" lengthAdjust=\"spacingAndGlyphs\" textLength=\"8\" x=\"108.975\" y=\"311.1004\">1</text></a><!--MD5=[80b31627c87652d0649d89c5786f7b43]\n",
       "@startuml\r\n",
       " skinparam monochrome true\r\n",
       "skinparam classbackgroundcolor white\r\n",
       "skinparam shadowing false\r\n",
       "skinparam wrapWidth 300\r\n",
       "hide circle\r\n",
       "\r\n",
       "package \"AnalysisTest\" as E1  [[psysml:d47d9c93-f987-42aa-9c82-a11afa9e7a85 ]]  {\r\n",
       "comp def \"V\" as E2  <<(T,blue) part  def>> [[psysml:6e318fc7-f06d-4e4c-8e44-1e6d0f884455 ]] {\r\n",
       "- - references - -\r\n",
       "m\r\n",
       "}\r\n",
       "comp usage \"vv: V \" as E3  <<(T,blue) part>> [[psysml:27999d5c-daad-4ed7-92ff-020a622ea083 ]] {\r\n",
       "}\r\n",
       "comp def \"AnalysisObjective\" as E4  <<(T,blue) requirement  def>> [[psysml:31fce779-d9ab-452b-8111-7f3c68bff972 ]] {\r\n",
       "...\r\n",
       "- -\r\n",
       "}\r\n",
       "rec def \"AnalysisCase\" as E5 << analysis def>> [[psysml:0d42cad1-3808-4e7b-8fe6-f660e27fd2bd ]] {\r\n",
       "portin \"v\" as E6  [[psysml:f7aad551-6165-4689-8df3-b128f6f54571 ]] \r\n",
       "portout \"result\" as E7  [[psysml:d8a9a5d1-c1b2-404a-b54f-35037ecf4c2d ]] \r\n",
       "}\r\n",
       "\r\n",
       "rec def \"AnalysisPlan\" as E8 << analysis def>> [[psysml:058a72e0-0a98-4261-856d-73366cf47a25 ]] {\r\n",
       "portin \"v\" as E9  [[psysml:40d43c87-89d5-4dcb-a988-f011f6f29ac5 ]] \r\n",
       "rec usage \"analysisCase\" as E10 << analysis>> [[psysml:ebac0614-db53-4f6a-a11b-2a64966401ed ]] {\r\n",
       "portout \"mass\" as E11  [[psysml:94298e01-1500-44a7-8244-0cc3e5620ae6 ]] \r\n",
       "portin \"v\" as E12  [[psysml:fabccdcf-1c94-4d5c-8a0b-5626b651aa80 ]] \r\n",
       "}\r\n",
       "\r\n",
       "portout \"result\" as E13  [[psysml:633f1383-e65f-4e22-9e6d-6ffcdde4bc38 ]] \r\n",
       "}\r\n",
       "\r\n",
       "comp usage \"analysisContext\" as E14  <<(T,blue) part>> [[psysml:2f29b586-744b-44a6-b354-0cb36fac52ba ]] {\r\n",
       "}\r\n",
       "comp usage \"analysisPlan: AnalysisPlan \" as E15 << analysis>> [[psysml:cfe8b385-7bc2-406c-91e1-db9911ba5874 ]] {\r\n",
       "}\r\n",
       "comp usage \"obj\" as E16  <<(T,blue) requirement>> [[psysml:63325e1e-8a82-4691-b26b-3354962a7cad ]] {\r\n",
       "}\r\n",
       "}\r\n",
       "E3 - -:|> E2 [[psysml:4413170d-8387-4bcf-a661-a8e63eefb5dc ]] \r\n",
       "E14 *- - E15 [[psysml:df4b3059-af15-4a6e-9f16-4ce8d388f00c ]] \r\n",
       "E15 - -:|> E8 [[psysml:b8e5c057-83f1-47ef-94c9-1676b303e623 ]] \r\n",
       "E15 - ->> \"1\"E16 [[psysml:7d3bd451-2ef5-4e75-9594-2e0dd7330291 ]] : <<objective>>\r\n",
       "@enduml\r\n",
       "\n",
       "PlantUML version 1.2020.13(Sat Jun 13 12:26:38 UTC 2020)\n",
       "(EPL source distribution)\n",
       "Java Runtime: OpenJDK Runtime Environment\n",
       "JVM: OpenJDK 64-Bit Server VM\n",
       "Default Encoding: UTF-8\n",
       "Language: en\n",
       "Country: null\n",
       "--></g></svg>"
      ]
     },
     "execution_count": 8,
     "metadata": {},
     "output_type": "execute_result"
    }
   ],
   "source": [
    "%viz --style=\"COMPTREE\" --view=\"MIXED\" \"AnalysisTest\""
   ]
  },
  {
   "cell_type": "code",
   "execution_count": 9,
   "id": "cccd8486",
   "metadata": {
    "execution": {
     "iopub.execute_input": "2021-11-13T12:57:17.731015Z",
     "iopub.status.busy": "2021-11-13T12:57:17.730561Z",
     "iopub.status.idle": "2021-11-13T12:57:17.804535Z",
     "shell.execute_reply": "2021-11-13T12:57:17.804150Z"
    }
   },
   "outputs": [
    {
     "data": {
      "image/svg+xml": [
       "<?xml version=\"1.0\" encoding=\"UTF-8\" standalone=\"no\"?><svg xmlns=\"http://www.w3.org/2000/svg\" xmlns:xlink=\"http://www.w3.org/1999/xlink\" contentScriptType=\"application/ecmascript\" contentStyleType=\"text/css\" height=\"658px\" preserveAspectRatio=\"none\" style=\"width:845px;height:658px;\" version=\"1.1\" viewBox=\"0 0 845 658\" width=\"845px\" zoomAndPan=\"magnify\"><defs/><g><!--MD5=[fbc87193dbaf4d95561dea2c320d4a47]\n",
       "cluster E1--><a href=\"psysml:d47d9c93-f987-42aa-9c82-a11afa9e7a85\" target=\"_top\" title=\"psysml:d47d9c93-f987-42aa-9c82-a11afa9e7a85\" xlink:actuate=\"onRequest\" xlink:href=\"psysml:d47d9c93-f987-42aa-9c82-a11afa9e7a85\" xlink:show=\"new\" xlink:title=\"psysml:d47d9c93-f987-42aa-9c82-a11afa9e7a85\" xlink:type=\"simple\"><polygon fill=\"#FFFFFF\" points=\"16,6,108,6,115,28.2969,823,28.2969,823,646,16,646,16,6\" style=\"stroke: #000000; stroke-width: 1.5;\"/><line style=\"stroke: #000000; stroke-width: 1.5;\" x1=\"16\" x2=\"115\" y1=\"28.2969\" y2=\"28.2969\"/><text fill=\"#000000\" font-family=\"sans-serif\" font-size=\"14\" font-weight=\"bold\" lengthAdjust=\"spacingAndGlyphs\" textLength=\"86\" x=\"20\" y=\"20.9951\">AnalysisTest</text></a><!--MD5=[de5ec2e2e8f62f467e546659f5068c88]\n",
       "cluster E5--><a href=\"psysml:0d42cad1-3808-4e7b-8fe6-f660e27fd2bd\" target=\"_top\" title=\"psysml:0d42cad1-3808-4e7b-8fe6-f660e27fd2bd\" xlink:actuate=\"onRequest\" xlink:href=\"psysml:0d42cad1-3808-4e7b-8fe6-f660e27fd2bd\" xlink:show=\"new\" xlink:title=\"psysml:0d42cad1-3808-4e7b-8fe6-f660e27fd2bd\" xlink:type=\"simple\"><rect fill=\"#FFFFFF\" height=\"329.5\" id=\"E5\" style=\"stroke: #383838; stroke-width: 1.5;\" width=\"146\" x=\"661\" y=\"74.5\"/><rect fill=\"#F8F8F8\" height=\"37.9375\" style=\"stroke: #383838; stroke-width: 1.5;\" width=\"146\" x=\"661\" y=\"74.5\"/><text fill=\"#000000\" font-family=\"sans-serif\" font-size=\"12\" font-style=\"italic\" lengthAdjust=\"spacingAndGlyphs\" textLength=\"88\" x=\"690\" y=\"90.6387\">«analysis def»</text><text fill=\"#000000\" font-family=\"sans-serif\" font-size=\"12\" lengthAdjust=\"spacingAndGlyphs\" textLength=\"81\" x=\"693.5\" y=\"104.6074\">AnalysisCase</text></a><!--MD5=[55dfccfc6c49c2d10cd1bd2211a6c90c]\n",
       "cluster E8--><a href=\"psysml:058a72e0-0a98-4261-856d-73366cf47a25\" target=\"_top\" title=\"psysml:058a72e0-0a98-4261-856d-73366cf47a25\" xlink:actuate=\"onRequest\" xlink:href=\"psysml:058a72e0-0a98-4261-856d-73366cf47a25\" xlink:show=\"new\" xlink:title=\"psysml:058a72e0-0a98-4261-856d-73366cf47a25\" xlink:type=\"simple\"><rect fill=\"#FFFFFF\" height=\"415\" id=\"E8\" style=\"stroke: #383838; stroke-width: 1.5;\" width=\"259\" x=\"283\" y=\"207\"/><rect fill=\"#F8F8F8\" height=\"37.9375\" style=\"stroke: #383838; stroke-width: 1.5;\" width=\"259\" x=\"283\" y=\"207\"/><text fill=\"#000000\" font-family=\"sans-serif\" font-size=\"12\" font-style=\"italic\" lengthAdjust=\"spacingAndGlyphs\" textLength=\"88\" x=\"368.5\" y=\"223.1387\">«analysis def»</text><text fill=\"#000000\" font-family=\"sans-serif\" font-size=\"12\" lengthAdjust=\"spacingAndGlyphs\" textLength=\"77\" x=\"374\" y=\"237.1074\">AnalysisPlan</text></a><!--MD5=[a84b4591f868c1fa4a211716a82f2f0d]\n",
       "cluster E10--><a href=\"psysml:ebac0614-db53-4f6a-a11b-2a64966401ed\" target=\"_top\" title=\"psysml:ebac0614-db53-4f6a-a11b-2a64966401ed\" xlink:actuate=\"onRequest\" xlink:href=\"psysml:ebac0614-db53-4f6a-a11b-2a64966401ed\" xlink:show=\"new\" xlink:title=\"psysml:ebac0614-db53-4f6a-a11b-2a64966401ed\" xlink:type=\"simple\"><rect fill=\"#FFFFFF\" height=\"239\" id=\"E10\" rx=\"10\" ry=\"10\" style=\"stroke: #383838; stroke-width: 1.5;\" width=\"138\" x=\"366\" y=\"345\"/><rect fill=\"#F8F8F8\" height=\"37.9375\" rx=\"10\" ry=\"10\" style=\"stroke: #F8F8F8; stroke-width: 1.5;\" width=\"138\" x=\"366\" y=\"345\"/><rect fill=\"#F8F8F8\" height=\"10\" style=\"stroke: #F8F8F8; stroke-width: 1.5;\" width=\"138\" x=\"366\" y=\"372.9375\"/><rect fill=\"none\" height=\"239\" id=\"E10\" rx=\"10\" ry=\"10\" style=\"stroke: #383838; stroke-width: 1.5;\" width=\"138\" x=\"366\" y=\"345\"/><text fill=\"#000000\" font-family=\"sans-serif\" font-size=\"12\" font-style=\"italic\" lengthAdjust=\"spacingAndGlyphs\" textLength=\"64\" x=\"403\" y=\"361.1387\">«analysis»</text><text fill=\"#000000\" font-family=\"sans-serif\" font-size=\"12\" lengthAdjust=\"spacingAndGlyphs\" textLength=\"81\" x=\"394.5\" y=\"375.1074\">analysisCase</text><line style=\"stroke: #383838; stroke-width: 1.0;\" x1=\"366\" x2=\"504\" y1=\"382.9375\" y2=\"382.9375\"/></a><!--MD5=[b4997ac47864f28c2f74865a473b2911]\n",
       "class E2--><a href=\"psysml:6e318fc7-f06d-4e4c-8e44-1e6d0f884455\" target=\"_top\" title=\"psysml:6e318fc7-f06d-4e4c-8e44-1e6d0f884455\" xlink:actuate=\"onRequest\" xlink:href=\"psysml:6e318fc7-f06d-4e4c-8e44-1e6d0f884455\" xlink:show=\"new\" xlink:title=\"psysml:6e318fc7-f06d-4e4c-8e44-1e6d0f884455\" xlink:type=\"simple\"><rect fill=\"#FFFFFF\" height=\"75.5469\" id=\"E2\" style=\"stroke: #383838; stroke-width: 1.5;\" width=\"70\" x=\"572\" y=\"169\"/><text fill=\"#000000\" font-family=\"sans-serif\" font-size=\"12\" font-style=\"italic\" lengthAdjust=\"spacingAndGlyphs\" textLength=\"68\" x=\"573\" y=\"185.1387\">«part  def»</text><text fill=\"#000000\" font-family=\"sans-serif\" font-size=\"12\" lengthAdjust=\"spacingAndGlyphs\" textLength=\"8\" x=\"603\" y=\"199.1074\">V</text><line style=\"stroke: #383838; stroke-width: 1.5;\" x1=\"573\" x2=\"641\" y1=\"206.9375\" y2=\"206.9375\"/><text fill=\"#000000\" font-family=\"sans-serif\" font-size=\"11\" lengthAdjust=\"spacingAndGlyphs\" textLength=\"11\" x=\"578\" y=\"237.9526\">m</text><line style=\"stroke: #383838; stroke-width: 1.0;\" x1=\"573\" x2=\"576\" y1=\"221.3398\" y2=\"221.3398\"/><text fill=\"#000000\" font-family=\"sans-serif\" font-size=\"11\" lengthAdjust=\"spacingAndGlyphs\" textLength=\"62\" x=\"576\" y=\"224.6479\">references</text><line style=\"stroke: #383838; stroke-width: 1.0;\" x1=\"638\" x2=\"641\" y1=\"221.3398\" y2=\"221.3398\"/></a><!--MD5=[09b614a08d8cba4a07c9adeb5e0fee81]\n",
       "class E3--><a href=\"psysml:27999d5c-daad-4ed7-92ff-020a622ea083\" target=\"_top\" title=\"psysml:27999d5c-daad-4ed7-92ff-020a622ea083\" xlink:actuate=\"onRequest\" xlink:href=\"psysml:27999d5c-daad-4ed7-92ff-020a622ea083\" xlink:show=\"new\" xlink:title=\"psysml:27999d5c-daad-4ed7-92ff-020a622ea083\" xlink:type=\"simple\"><rect fill=\"#FFFFFF\" height=\"45.9375\" id=\"E3\" rx=\"10\" ry=\"10\" style=\"stroke: #383838; stroke-width: 1.5;\" width=\"42\" x=\"586\" y=\"51.5\"/><text fill=\"#000000\" font-family=\"sans-serif\" font-size=\"12\" font-style=\"italic\" lengthAdjust=\"spacingAndGlyphs\" textLength=\"40\" x=\"587\" y=\"67.6387\">«part»</text><text fill=\"#000000\" font-family=\"sans-serif\" font-size=\"12\" lengthAdjust=\"spacingAndGlyphs\" textLength=\"28\" x=\"591\" y=\"81.6074\">vv: V</text><line style=\"stroke: #383838; stroke-width: 1.5;\" x1=\"587\" x2=\"627\" y1=\"89.4375\" y2=\"89.4375\"/></a><!--MD5=[ebbe1d658d1005bcc118a6aa81145e00]\n",
       "class E4--><a href=\"psysml:31fce779-d9ab-452b-8111-7f3c68bff972\" target=\"_top\" title=\"psysml:31fce779-d9ab-452b-8111-7f3c68bff972\" xlink:actuate=\"onRequest\" xlink:href=\"psysml:31fce779-d9ab-452b-8111-7f3c68bff972\" xlink:show=\"new\" xlink:title=\"psysml:31fce779-d9ab-452b-8111-7f3c68bff972\" xlink:type=\"simple\"><rect fill=\"#FFFFFF\" height=\"66.7422\" id=\"E4\" style=\"stroke: #383838; stroke-width: 1.5;\" width=\"121\" x=\"317.5\" y=\"41\"/><text fill=\"#000000\" font-family=\"sans-serif\" font-size=\"12\" font-style=\"italic\" lengthAdjust=\"spacingAndGlyphs\" textLength=\"119\" x=\"318.5\" y=\"57.1387\">«requirement  def»</text><text fill=\"#000000\" font-family=\"sans-serif\" font-size=\"12\" lengthAdjust=\"spacingAndGlyphs\" textLength=\"107\" x=\"324.5\" y=\"71.1074\">AnalysisObjective</text><line style=\"stroke: #383838; stroke-width: 1.5;\" x1=\"318.5\" x2=\"437.5\" y1=\"78.9375\" y2=\"78.9375\"/><text fill=\"#000000\" font-family=\"sans-serif\" font-size=\"11\" lengthAdjust=\"spacingAndGlyphs\" textLength=\"12\" x=\"323.5\" y=\"93.1479\">...</text><line style=\"stroke: #383838; stroke-width: 1.0;\" x1=\"318.5\" x2=\"437.5\" y1=\"99.7422\" y2=\"99.7422\"/></a><!--MD5=[bee11217b2f71d958a27249dc326068c]\n",
       "class E14--><a href=\"psysml:2f29b586-744b-44a6-b354-0cb36fac52ba\" target=\"_top\" title=\"psysml:2f29b586-744b-44a6-b354-0cb36fac52ba\" xlink:actuate=\"onRequest\" xlink:href=\"psysml:2f29b586-744b-44a6-b354-0cb36fac52ba\" xlink:show=\"new\" xlink:title=\"psysml:2f29b586-744b-44a6-b354-0cb36fac52ba\" xlink:type=\"simple\"><rect fill=\"#FFFFFF\" height=\"45.9375\" id=\"E14\" rx=\"10\" ry=\"10\" style=\"stroke: #383838; stroke-width: 1.5;\" width=\"104\" x=\"66\" y=\"51.5\"/><text fill=\"#000000\" font-family=\"sans-serif\" font-size=\"12\" font-style=\"italic\" lengthAdjust=\"spacingAndGlyphs\" textLength=\"40\" x=\"98\" y=\"67.6387\">«part»</text><text fill=\"#000000\" font-family=\"sans-serif\" font-size=\"12\" lengthAdjust=\"spacingAndGlyphs\" textLength=\"98\" x=\"69\" y=\"81.6074\">analysisContext</text><line style=\"stroke: #383838; stroke-width: 1.5;\" x1=\"67\" x2=\"169\" y1=\"89.4375\" y2=\"89.4375\"/></a><!--MD5=[0c48fb7552dae8cbbef69381101a84c8]\n",
       "class E15--><a href=\"psysml:cfe8b385-7bc2-406c-91e1-db9911ba5874\" target=\"_top\" title=\"psysml:cfe8b385-7bc2-406c-91e1-db9911ba5874\" xlink:actuate=\"onRequest\" xlink:href=\"psysml:cfe8b385-7bc2-406c-91e1-db9911ba5874\" xlink:show=\"new\" xlink:title=\"psysml:cfe8b385-7bc2-406c-91e1-db9911ba5874\" xlink:type=\"simple\"><rect fill=\"#FFFFFF\" height=\"45.9375\" id=\"E15\" rx=\"10\" ry=\"10\" style=\"stroke: #383838; stroke-width: 1.5;\" width=\"172\" x=\"32\" y=\"184\"/><text fill=\"#000000\" font-family=\"sans-serif\" font-size=\"12\" font-style=\"italic\" lengthAdjust=\"spacingAndGlyphs\" textLength=\"64\" x=\"86\" y=\"200.1387\">«analysis»</text><text fill=\"#000000\" font-family=\"sans-serif\" font-size=\"12\" lengthAdjust=\"spacingAndGlyphs\" textLength=\"162\" x=\"35\" y=\"214.1074\">analysisPlan: AnalysisPlan</text><line style=\"stroke: #383838; stroke-width: 1.5;\" x1=\"33\" x2=\"203\" y1=\"221.9375\" y2=\"221.9375\"/></a><!--MD5=[35f0587eaee8d5bb9a02e25b63afc23b]\n",
       "class E16--><a href=\"psysml:63325e1e-8a82-4691-b26b-3354962a7cad\" target=\"_top\" title=\"psysml:63325e1e-8a82-4691-b26b-3354962a7cad\" xlink:actuate=\"onRequest\" xlink:href=\"psysml:63325e1e-8a82-4691-b26b-3354962a7cad\" xlink:show=\"new\" xlink:title=\"psysml:63325e1e-8a82-4691-b26b-3354962a7cad\" xlink:type=\"simple\"><rect fill=\"#FFFFFF\" height=\"45.9375\" id=\"E16\" rx=\"10\" ry=\"10\" style=\"stroke: #383838; stroke-width: 1.5;\" width=\"93\" x=\"71.5\" y=\"322\"/><text fill=\"#000000\" font-family=\"sans-serif\" font-size=\"12\" font-style=\"italic\" lengthAdjust=\"spacingAndGlyphs\" textLength=\"91\" x=\"72.5\" y=\"338.1387\">«requirement»</text><text fill=\"#000000\" font-family=\"sans-serif\" font-size=\"12\" lengthAdjust=\"spacingAndGlyphs\" textLength=\"19\" x=\"108.5\" y=\"352.1074\">obj</text><line style=\"stroke: #383838; stroke-width: 1.5;\" x1=\"72.5\" x2=\"163.5\" y1=\"359.9375\" y2=\"359.9375\"/></a><text fill=\"#000000\" font-family=\"sans-serif\" font-size=\"14\" lengthAdjust=\"spacingAndGlyphs\" textLength=\"7\" x=\"730.5\" y=\"53.1982\">v</text><rect fill=\"#383838\" height=\"12\" style=\"stroke: #F8F8F8; stroke-width: 1.5;\" width=\"12\" x=\"728\" y=\"68.5\"/><text fill=\"#000000\" font-family=\"sans-serif\" font-size=\"14\" lengthAdjust=\"spacingAndGlyphs\" textLength=\"39\" x=\"714.5\" y=\"422.9951\">result</text><rect fill=\"#383838\" height=\"12\" style=\"stroke: #F8F8F8; stroke-width: 1.5;\" width=\"12\" x=\"728\" y=\"398\"/><text fill=\"#000000\" font-family=\"sans-serif\" font-size=\"14\" lengthAdjust=\"spacingAndGlyphs\" textLength=\"7\" x=\"297.5\" y=\"185.6982\">v</text><rect fill=\"#383838\" height=\"12\" style=\"stroke: #F8F8F8; stroke-width: 1.5;\" width=\"12\" x=\"295\" y=\"201\"/><text fill=\"#000000\" font-family=\"sans-serif\" font-size=\"14\" lengthAdjust=\"spacingAndGlyphs\" textLength=\"39\" x=\"522.5\" y=\"529.9951\">result</text><rect fill=\"#383838\" height=\"12\" style=\"stroke: #F8F8F8; stroke-width: 1.5;\" width=\"12\" x=\"536\" y=\"505\"/><text fill=\"#000000\" font-family=\"sans-serif\" font-size=\"14\" lengthAdjust=\"spacingAndGlyphs\" textLength=\"37\" x=\"416.5\" y=\"602.9951\">mass</text><rect fill=\"#383838\" height=\"12\" style=\"stroke: #F8F8F8; stroke-width: 1.5;\" width=\"12\" x=\"429\" y=\"578\"/><text fill=\"#000000\" font-family=\"sans-serif\" font-size=\"14\" lengthAdjust=\"spacingAndGlyphs\" textLength=\"7\" x=\"431.5\" y=\"323.6982\">v</text><rect fill=\"#383838\" height=\"12\" style=\"stroke: #F8F8F8; stroke-width: 1.5;\" width=\"12\" x=\"429\" y=\"339\"/><!--MD5=[05d275557350bfb9b23a4ef7222b4c39]\n",
       "link E3 to E2--><a href=\"psysml:4413170d-8387-4bcf-a661-a8e63eefb5dc\" target=\"_top\" title=\"psysml:4413170d-8387-4bcf-a661-a8e63eefb5dc\" xlink:actuate=\"onRequest\" xlink:href=\"psysml:4413170d-8387-4bcf-a661-a8e63eefb5dc\" xlink:show=\"new\" xlink:title=\"psysml:4413170d-8387-4bcf-a661-a8e63eefb5dc\" xlink:type=\"simple\"><path d=\"M607,97.64 C607,111.72 607,130.66 607,148.75 \" fill=\"none\" id=\"E3-&gt;E2\" style=\"stroke: #383838; stroke-width: 1.0;\"/><polygon fill=\"#FFFFFF\" points=\"607,168.9,600,149.9,614,149.9,607,168.9\" style=\"stroke: #383838; stroke-width: 1.0;\"/><ellipse cx=\"602\" cy=\"144.2\" fill=\"#383838\" rx=\"2\" ry=\"2\" style=\"stroke: #383838; stroke-width: 1.0;\"/><ellipse cx=\"612\" cy=\"144.2\" fill=\"#383838\" rx=\"2\" ry=\"2\" style=\"stroke: #383838; stroke-width: 1.0;\"/></a><!--MD5=[17bf29720e4688890742b92d9a67fdf0]\n",
       "reverse link E14 to E15--><a href=\"psysml:df4b3059-af15-4a6e-9f16-4ce8d388f00c\" target=\"_top\" title=\"psysml:df4b3059-af15-4a6e-9f16-4ce8d388f00c\" xlink:actuate=\"onRequest\" xlink:href=\"psysml:df4b3059-af15-4a6e-9f16-4ce8d388f00c\" xlink:show=\"new\" xlink:title=\"psysml:df4b3059-af15-4a6e-9f16-4ce8d388f00c\" xlink:type=\"simple\"><path d=\"M118,110.79 C118,134.03 118,163.75 118,183.75 \" fill=\"none\" id=\"E14&lt;-E15\" style=\"stroke: #383838; stroke-width: 1.0;\"/><polygon fill=\"#383838\" points=\"118,97.64,114,103.64,118,109.64,122,103.64,118,97.64\" style=\"stroke: #383838; stroke-width: 1.0;\"/></a><!--MD5=[1b01d5b954197aaf3899ca0bde35faf5]\n",
       "link E15 to E8--><a href=\"psysml:b8e5c057-83f1-47ef-94c9-1676b303e623\" target=\"_top\" title=\"psysml:b8e5c057-83f1-47ef-94c9-1676b303e623\" xlink:actuate=\"onRequest\" xlink:href=\"psysml:b8e5c057-83f1-47ef-94c9-1676b303e623\" xlink:show=\"new\" xlink:title=\"psysml:b8e5c057-83f1-47ef-94c9-1676b303e623\" xlink:type=\"simple\"><path d=\"M147.81,230.15 C184.47,257.4 245.87,303.03 278.7,327.43 \" fill=\"none\" id=\"E15-&gt;E8\" style=\"stroke: #383838; stroke-width: 1.0;\"/><polygon fill=\"#FFFFFF\" points=\"278.7,327.43,259.2749,321.7145,267.6261,310.478,278.7,327.43\" style=\"stroke: #383838; stroke-width: 1.0;\"/><ellipse cx=\"255.8931\" cy=\"316.7091\" fill=\"#383838\" rx=\"2\" ry=\"2\" style=\"stroke: #383838; stroke-width: 1.0;\"/><ellipse cx=\"261.8583\" cy=\"308.6831\" fill=\"#383838\" rx=\"2\" ry=\"2\" style=\"stroke: #383838; stroke-width: 1.0;\"/></a><!--MD5=[f8b155c46b092be73bb522b0a8fc72a2]\n",
       "link E15 to E16--><a href=\"psysml:7d3bd451-2ef5-4e75-9594-2e0dd7330291\" target=\"_top\" title=\"psysml:7d3bd451-2ef5-4e75-9594-2e0dd7330291\" xlink:actuate=\"onRequest\" xlink:href=\"psysml:7d3bd451-2ef5-4e75-9594-2e0dd7330291\" xlink:show=\"new\" xlink:title=\"psysml:7d3bd451-2ef5-4e75-9594-2e0dd7330291\" xlink:type=\"simple\"><path d=\"M118,230.15 C118,252.87 118,288.38 118,313.69 \" fill=\"none\" id=\"E15-&gt;E16\" style=\"stroke: #383838; stroke-width: 1.0;\"/><polygon fill=\"#383838\" points=\"118,321.86,121,313.86,115,313.86,118,321.86\" style=\"stroke: #383838; stroke-width: 1.0;\"/><text fill=\"#000000\" font-family=\"sans-serif\" font-size=\"13\" lengthAdjust=\"spacingAndGlyphs\" textLength=\"73\" x=\"119\" y=\"288.0669\">«objective»</text><text fill=\"#000000\" font-family=\"sans-serif\" font-size=\"13\" lengthAdjust=\"spacingAndGlyphs\" textLength=\"8\" x=\"108.975\" y=\"311.1004\">1</text></a><!--MD5=[7c53518b1d9d7212d1849add9081b2fc]\n",
       "@startuml\r\n",
       "skinparam linetype polyline\r\n",
       "skinparam monochrome true\r\n",
       "skinparam classbackgroundcolor white\r\n",
       "skinparam shadowing false\r\n",
       "skinparam wrapWidth 300\r\n",
       "hide circle\r\n",
       "\r\n",
       "package \"AnalysisTest\" as E1  [[psysml:d47d9c93-f987-42aa-9c82-a11afa9e7a85 ]]  {\r\n",
       "comp def \"V\" as E2  <<(T,blue) part  def>> [[psysml:6e318fc7-f06d-4e4c-8e44-1e6d0f884455 ]] {\r\n",
       "- - references - -\r\n",
       "m\r\n",
       "}\r\n",
       "comp usage \"vv: V \" as E3  <<(T,blue) part>> [[psysml:27999d5c-daad-4ed7-92ff-020a622ea083 ]] {\r\n",
       "}\r\n",
       "comp def \"AnalysisObjective\" as E4  <<(T,blue) requirement  def>> [[psysml:31fce779-d9ab-452b-8111-7f3c68bff972 ]] {\r\n",
       "...\r\n",
       "- -\r\n",
       "}\r\n",
       "rec def \"AnalysisCase\" as E5 << analysis def>> [[psysml:0d42cad1-3808-4e7b-8fe6-f660e27fd2bd ]] {\r\n",
       "portin \"v\" as E6  [[psysml:f7aad551-6165-4689-8df3-b128f6f54571 ]] \r\n",
       "portout \"result\" as E7  [[psysml:d8a9a5d1-c1b2-404a-b54f-35037ecf4c2d ]] \r\n",
       "}\r\n",
       "\r\n",
       "rec def \"AnalysisPlan\" as E8 << analysis def>> [[psysml:058a72e0-0a98-4261-856d-73366cf47a25 ]] {\r\n",
       "portin \"v\" as E9  [[psysml:40d43c87-89d5-4dcb-a988-f011f6f29ac5 ]] \r\n",
       "rec usage \"analysisCase\" as E10 << analysis>> [[psysml:ebac0614-db53-4f6a-a11b-2a64966401ed ]] {\r\n",
       "portout \"mass\" as E11  [[psysml:94298e01-1500-44a7-8244-0cc3e5620ae6 ]] \r\n",
       "portin \"v\" as E12  [[psysml:fabccdcf-1c94-4d5c-8a0b-5626b651aa80 ]] \r\n",
       "}\r\n",
       "\r\n",
       "portout \"result\" as E13  [[psysml:633f1383-e65f-4e22-9e6d-6ffcdde4bc38 ]] \r\n",
       "}\r\n",
       "\r\n",
       "comp usage \"analysisContext\" as E14  <<(T,blue) part>> [[psysml:2f29b586-744b-44a6-b354-0cb36fac52ba ]] {\r\n",
       "}\r\n",
       "comp usage \"analysisPlan: AnalysisPlan \" as E15 << analysis>> [[psysml:cfe8b385-7bc2-406c-91e1-db9911ba5874 ]] {\r\n",
       "}\r\n",
       "comp usage \"obj\" as E16  <<(T,blue) requirement>> [[psysml:63325e1e-8a82-4691-b26b-3354962a7cad ]] {\r\n",
       "}\r\n",
       "}\r\n",
       "E3 - -:|> E2 [[psysml:4413170d-8387-4bcf-a661-a8e63eefb5dc ]] \r\n",
       "E14 *- - E15 [[psysml:df4b3059-af15-4a6e-9f16-4ce8d388f00c ]] \r\n",
       "E15 - -:|> E8 [[psysml:b8e5c057-83f1-47ef-94c9-1676b303e623 ]] \r\n",
       "E15 - ->> \"1\"E16 [[psysml:7d3bd451-2ef5-4e75-9594-2e0dd7330291 ]] : <<objective>>\r\n",
       "@enduml\r\n",
       "\n",
       "PlantUML version 1.2020.13(Sat Jun 13 12:26:38 UTC 2020)\n",
       "(EPL source distribution)\n",
       "Java Runtime: OpenJDK Runtime Environment\n",
       "JVM: OpenJDK 64-Bit Server VM\n",
       "Default Encoding: UTF-8\n",
       "Language: en\n",
       "Country: null\n",
       "--></g></svg>"
      ]
     },
     "execution_count": 9,
     "metadata": {},
     "output_type": "execute_result"
    }
   ],
   "source": [
    "%viz --style=\"POLYLINE\" --view=\"Default\" \"AnalysisTest\""
   ]
  },
  {
   "cell_type": "code",
   "execution_count": 10,
   "id": "266df9ca",
   "metadata": {
    "execution": {
     "iopub.execute_input": "2021-11-13T12:57:17.853480Z",
     "iopub.status.busy": "2021-11-13T12:57:17.852955Z",
     "iopub.status.idle": "2021-11-13T12:57:17.960582Z",
     "shell.execute_reply": "2021-11-13T12:57:17.957659Z"
    }
   },
   "outputs": [
    {
     "data": {
      "image/svg+xml": [
       "<?xml version=\"1.0\" encoding=\"UTF-8\" standalone=\"no\"?><svg xmlns=\"http://www.w3.org/2000/svg\" xmlns:xlink=\"http://www.w3.org/1999/xlink\" contentScriptType=\"application/ecmascript\" contentStyleType=\"text/css\" height=\"923px\" preserveAspectRatio=\"none\" style=\"width:449px;height:923px;\" version=\"1.1\" viewBox=\"0 0 449 923\" width=\"449px\" zoomAndPan=\"magnify\"><defs/><g><!--MD5=[fbc87193dbaf4d95561dea2c320d4a47]\n",
       "cluster E1--><a href=\"psysml:d47d9c93-f987-42aa-9c82-a11afa9e7a85\" target=\"_top\" title=\"psysml:d47d9c93-f987-42aa-9c82-a11afa9e7a85\" xlink:actuate=\"onRequest\" xlink:href=\"psysml:d47d9c93-f987-42aa-9c82-a11afa9e7a85\" xlink:show=\"new\" xlink:title=\"psysml:d47d9c93-f987-42aa-9c82-a11afa9e7a85\" xlink:type=\"simple\"><polygon fill=\"#FFFFFF\" points=\"16,6,108,6,115,28.2969,427,28.2969,427,911,16,911,16,6\" style=\"stroke: #000000; stroke-width: 1.5;\"/><line style=\"stroke: #000000; stroke-width: 1.5;\" x1=\"16\" x2=\"115\" y1=\"28.2969\" y2=\"28.2969\"/><text fill=\"#000000\" font-family=\"sans-serif\" font-size=\"14\" font-weight=\"bold\" lengthAdjust=\"spacingAndGlyphs\" textLength=\"86\" x=\"20\" y=\"20.9951\">AnalysisTest</text></a><!--MD5=[b4997ac47864f28c2f74865a473b2911]\n",
       "class E2--><a href=\"psysml:6e318fc7-f06d-4e4c-8e44-1e6d0f884455\" target=\"_top\" title=\"psysml:6e318fc7-f06d-4e4c-8e44-1e6d0f884455\" xlink:actuate=\"onRequest\" xlink:href=\"psysml:6e318fc7-f06d-4e4c-8e44-1e6d0f884455\" xlink:show=\"new\" xlink:title=\"psysml:6e318fc7-f06d-4e4c-8e44-1e6d0f884455\" xlink:type=\"simple\"><rect fill=\"#FFFFFF\" height=\"75.5469\" id=\"E2\" style=\"stroke: #383838; stroke-width: 1.5;\" width=\"70\" x=\"156\" y=\"691\"/><text fill=\"#000000\" font-family=\"sans-serif\" font-size=\"12\" font-style=\"italic\" lengthAdjust=\"spacingAndGlyphs\" textLength=\"68\" x=\"157\" y=\"707.1387\">«part  def»</text><text fill=\"#000000\" font-family=\"sans-serif\" font-size=\"12\" lengthAdjust=\"spacingAndGlyphs\" textLength=\"8\" x=\"187\" y=\"721.1074\">V</text><line style=\"stroke: #383838; stroke-width: 1.5;\" x1=\"157\" x2=\"225\" y1=\"728.9375\" y2=\"728.9375\"/><text fill=\"#000000\" font-family=\"sans-serif\" font-size=\"11\" lengthAdjust=\"spacingAndGlyphs\" textLength=\"11\" x=\"162\" y=\"759.9526\">m</text><line style=\"stroke: #383838; stroke-width: 1.0;\" x1=\"157\" x2=\"160\" y1=\"743.3398\" y2=\"743.3398\"/><text fill=\"#000000\" font-family=\"sans-serif\" font-size=\"11\" lengthAdjust=\"spacingAndGlyphs\" textLength=\"62\" x=\"160\" y=\"746.6479\">references</text><line style=\"stroke: #383838; stroke-width: 1.0;\" x1=\"222\" x2=\"225\" y1=\"743.3398\" y2=\"743.3398\"/></a><!--MD5=[09b614a08d8cba4a07c9adeb5e0fee81]\n",
       "class E3--><a href=\"psysml:27999d5c-daad-4ed7-92ff-020a622ea083\" target=\"_top\" title=\"psysml:27999d5c-daad-4ed7-92ff-020a622ea083\" xlink:actuate=\"onRequest\" xlink:href=\"psysml:27999d5c-daad-4ed7-92ff-020a622ea083\" xlink:show=\"new\" xlink:title=\"psysml:27999d5c-daad-4ed7-92ff-020a622ea083\" xlink:type=\"simple\"><rect fill=\"#FFFFFF\" height=\"45.9375\" id=\"E3\" rx=\"10\" ry=\"10\" style=\"stroke: #383838; stroke-width: 1.5;\" width=\"42\" x=\"198\" y=\"553\"/><text fill=\"#000000\" font-family=\"sans-serif\" font-size=\"12\" font-style=\"italic\" lengthAdjust=\"spacingAndGlyphs\" textLength=\"40\" x=\"199\" y=\"569.1387\">«part»</text><text fill=\"#000000\" font-family=\"sans-serif\" font-size=\"12\" lengthAdjust=\"spacingAndGlyphs\" textLength=\"28\" x=\"203\" y=\"583.1074\">vv: V</text><line style=\"stroke: #383838; stroke-width: 1.5;\" x1=\"199\" x2=\"239\" y1=\"590.9375\" y2=\"590.9375\"/></a><!--MD5=[ebbe1d658d1005bcc118a6aa81145e00]\n",
       "class E4--><a href=\"psysml:31fce779-d9ab-452b-8111-7f3c68bff972\" target=\"_top\" title=\"psysml:31fce779-d9ab-452b-8111-7f3c68bff972\" xlink:actuate=\"onRequest\" xlink:href=\"psysml:31fce779-d9ab-452b-8111-7f3c68bff972\" xlink:show=\"new\" xlink:title=\"psysml:31fce779-d9ab-452b-8111-7f3c68bff972\" xlink:type=\"simple\"><rect fill=\"#FFFFFF\" height=\"66.7422\" id=\"E4\" style=\"stroke: #383838; stroke-width: 1.5;\" width=\"121\" x=\"275.5\" y=\"828\"/><text fill=\"#000000\" font-family=\"sans-serif\" font-size=\"12\" font-style=\"italic\" lengthAdjust=\"spacingAndGlyphs\" textLength=\"119\" x=\"276.5\" y=\"844.1387\">«requirement  def»</text><text fill=\"#000000\" font-family=\"sans-serif\" font-size=\"12\" lengthAdjust=\"spacingAndGlyphs\" textLength=\"107\" x=\"282.5\" y=\"858.1074\">AnalysisObjective</text><line style=\"stroke: #383838; stroke-width: 1.5;\" x1=\"276.5\" x2=\"395.5\" y1=\"865.9375\" y2=\"865.9375\"/><text fill=\"#000000\" font-family=\"sans-serif\" font-size=\"11\" lengthAdjust=\"spacingAndGlyphs\" textLength=\"12\" x=\"281.5\" y=\"880.1479\">...</text><line style=\"stroke: #383838; stroke-width: 1.0;\" x1=\"276.5\" x2=\"395.5\" y1=\"886.7422\" y2=\"886.7422\"/></a><!--MD5=[270fce915f116d4de14055a7c1d9a0f3]\n",
       "class E5--><a href=\"psysml:0d42cad1-3808-4e7b-8fe6-f660e27fd2bd\" target=\"_top\" title=\"psysml:0d42cad1-3808-4e7b-8fe6-f660e27fd2bd\" xlink:actuate=\"onRequest\" xlink:href=\"psysml:0d42cad1-3808-4e7b-8fe6-f660e27fd2bd\" xlink:show=\"new\" xlink:title=\"psysml:0d42cad1-3808-4e7b-8fe6-f660e27fd2bd\" xlink:type=\"simple\"><rect fill=\"#FFFFFF\" height=\"75.5469\" id=\"E5\" style=\"stroke: #383838; stroke-width: 1.5;\" width=\"136\" x=\"275\" y=\"538\"/><text fill=\"#000000\" font-family=\"sans-serif\" font-size=\"12\" font-style=\"italic\" lengthAdjust=\"spacingAndGlyphs\" textLength=\"88\" x=\"299\" y=\"554.1387\">«analysis def»</text><text fill=\"#000000\" font-family=\"sans-serif\" font-size=\"12\" lengthAdjust=\"spacingAndGlyphs\" textLength=\"81\" x=\"302.5\" y=\"568.1074\">AnalysisCase</text><line style=\"stroke: #383838; stroke-width: 1.5;\" x1=\"276\" x2=\"410\" y1=\"575.9375\" y2=\"575.9375\"/><text fill=\"#000000\" font-family=\"sans-serif\" font-size=\"11\" lengthAdjust=\"spacingAndGlyphs\" textLength=\"43\" x=\"281\" y=\"606.9526\">{ v.m }</text><line style=\"stroke: #383838; stroke-width: 1.0;\" x1=\"276\" x2=\"279\" y1=\"590.3398\" y2=\"590.3398\"/><text fill=\"#000000\" font-family=\"sans-serif\" font-size=\"11\" lengthAdjust=\"spacingAndGlyphs\" textLength=\"128\" x=\"279\" y=\"593.6479\">path step expressions</text><line style=\"stroke: #383838; stroke-width: 1.0;\" x1=\"407\" x2=\"410\" y1=\"590.3398\" y2=\"590.3398\"/></a><!--MD5=[60a26617385b1d2d0262a64233df1f8d]\n",
       "class E6--><a href=\"psysml:b64c7347-1249-45eb-ab10-0bf79737e87a\" target=\"_top\" title=\"psysml:b64c7347-1249-45eb-ab10-0bf79737e87a\" xlink:actuate=\"onRequest\" xlink:href=\"psysml:b64c7347-1249-45eb-ab10-0bf79737e87a\" xlink:show=\"new\" xlink:title=\"psysml:b64c7347-1249-45eb-ab10-0bf79737e87a\" xlink:type=\"simple\"><rect fill=\"#FFFFFF\" height=\"45.9375\" id=\"E6\" rx=\"10\" ry=\"10\" style=\"stroke: #383838; stroke-width: 1.5;\" width=\"144\" x=\"264\" y=\"706\"/><text fill=\"#000000\" font-family=\"sans-serif\" font-size=\"12\" font-style=\"italic\" lengthAdjust=\"spacingAndGlyphs\" textLength=\"91\" x=\"290.5\" y=\"722.1387\">«requirement»</text><text fill=\"#000000\" font-family=\"sans-serif\" font-size=\"12\" lengthAdjust=\"spacingAndGlyphs\" textLength=\"134\" x=\"267\" y=\"736.1074\">obj: AnalysisObjective</text><line style=\"stroke: #383838; stroke-width: 1.5;\" x1=\"265\" x2=\"407\" y1=\"743.9375\" y2=\"743.9375\"/></a><!--MD5=[2156ba9850f5573cc1fc38a6a4b2f02b]\n",
       "class E7--><a href=\"psysml:058a72e0-0a98-4261-856d-73366cf47a25\" target=\"_top\" title=\"psysml:058a72e0-0a98-4261-856d-73366cf47a25\" xlink:actuate=\"onRequest\" xlink:href=\"psysml:058a72e0-0a98-4261-856d-73366cf47a25\" xlink:show=\"new\" xlink:title=\"psysml:058a72e0-0a98-4261-856d-73366cf47a25\" xlink:type=\"simple\"><rect fill=\"#FFFFFF\" height=\"45.9375\" id=\"E7\" style=\"stroke: #383838; stroke-width: 1.5;\" width=\"90\" x=\"104\" y=\"271\"/><text fill=\"#000000\" font-family=\"sans-serif\" font-size=\"12\" font-style=\"italic\" lengthAdjust=\"spacingAndGlyphs\" textLength=\"88\" x=\"105\" y=\"287.1387\">«analysis def»</text><text fill=\"#000000\" font-family=\"sans-serif\" font-size=\"12\" lengthAdjust=\"spacingAndGlyphs\" textLength=\"77\" x=\"110.5\" y=\"301.1074\">AnalysisPlan</text><line style=\"stroke: #383838; stroke-width: 1.5;\" x1=\"105\" x2=\"193\" y1=\"308.9375\" y2=\"308.9375\"/></a><!--MD5=[b9389687b975829384b498ac4b7476b2]\n",
       "class E8--><a href=\"psysml:185eeef5-681f-4700-9ef2-09baff1a4526\" target=\"_top\" title=\"psysml:185eeef5-681f-4700-9ef2-09baff1a4526\" xlink:actuate=\"onRequest\" xlink:href=\"psysml:185eeef5-681f-4700-9ef2-09baff1a4526\" xlink:show=\"new\" xlink:title=\"psysml:185eeef5-681f-4700-9ef2-09baff1a4526\" xlink:type=\"simple\"><rect fill=\"#FFFFFF\" height=\"66.7422\" id=\"E8\" rx=\"10\" ry=\"10\" style=\"stroke: #383838; stroke-width: 1.5;\" width=\"93\" x=\"102.5\" y=\"394\"/><text fill=\"#000000\" font-family=\"sans-serif\" font-size=\"12\" font-style=\"italic\" lengthAdjust=\"spacingAndGlyphs\" textLength=\"91\" x=\"103.5\" y=\"410.1387\">«requirement»</text><text fill=\"#000000\" font-family=\"sans-serif\" font-size=\"12\" lengthAdjust=\"spacingAndGlyphs\" textLength=\"19\" x=\"139.5\" y=\"424.1074\">obj</text><line style=\"stroke: #383838; stroke-width: 1.5;\" x1=\"103.5\" x2=\"194.5\" y1=\"431.9375\" y2=\"431.9375\"/><text fill=\"#000000\" font-family=\"sans-serif\" font-size=\"11\" lengthAdjust=\"spacingAndGlyphs\" textLength=\"12\" x=\"108.5\" y=\"446.1479\">...</text><line style=\"stroke: #383838; stroke-width: 1.0;\" x1=\"103.5\" x2=\"194.5\" y1=\"452.7422\" y2=\"452.7422\"/></a><!--MD5=[fd4143e9d270a159db93a4ea2a975926]\n",
       "class E9--><a href=\"psysml:ebac0614-db53-4f6a-a11b-2a64966401ed\" target=\"_top\" title=\"psysml:ebac0614-db53-4f6a-a11b-2a64966401ed\" xlink:actuate=\"onRequest\" xlink:href=\"psysml:ebac0614-db53-4f6a-a11b-2a64966401ed\" xlink:show=\"new\" xlink:title=\"psysml:ebac0614-db53-4f6a-a11b-2a64966401ed\" xlink:type=\"simple\"><rect fill=\"#FFFFFF\" height=\"45.9375\" id=\"E9\" rx=\"10\" ry=\"10\" style=\"stroke: #383838; stroke-width: 1.5;\" width=\"180\" x=\"231\" y=\"404.5\"/><text fill=\"#000000\" font-family=\"sans-serif\" font-size=\"12\" font-style=\"italic\" lengthAdjust=\"spacingAndGlyphs\" textLength=\"64\" x=\"289\" y=\"420.6387\">«analysis»</text><text fill=\"#000000\" font-family=\"sans-serif\" font-size=\"12\" lengthAdjust=\"spacingAndGlyphs\" textLength=\"170\" x=\"234\" y=\"434.6074\">analysisCase: AnalysisCase</text><line style=\"stroke: #383838; stroke-width: 1.5;\" x1=\"232\" x2=\"410\" y1=\"442.4375\" y2=\"442.4375\"/></a><!--MD5=[96f4274e9e20536e775497830990834d]\n",
       "class E10--><a href=\"psysml:885560a7-695c-4aea-bf29-e47629fa314b\" target=\"_top\" title=\"psysml:885560a7-695c-4aea-bf29-e47629fa314b\" xlink:actuate=\"onRequest\" xlink:href=\"psysml:885560a7-695c-4aea-bf29-e47629fa314b\" xlink:show=\"new\" xlink:title=\"psysml:885560a7-695c-4aea-bf29-e47629fa314b\" xlink:type=\"simple\"><rect fill=\"#FFFFFF\" height=\"45.9375\" id=\"E10\" rx=\"10\" ry=\"10\" style=\"stroke: #383838; stroke-width: 1.5;\" width=\"93\" x=\"69.5\" y=\"553\"/><text fill=\"#000000\" font-family=\"sans-serif\" font-size=\"12\" font-style=\"italic\" lengthAdjust=\"spacingAndGlyphs\" textLength=\"91\" x=\"70.5\" y=\"569.1387\">«requirement»</text><text fill=\"#000000\" font-family=\"sans-serif\" font-size=\"12\" lengthAdjust=\"spacingAndGlyphs\" textLength=\"19\" x=\"106.5\" y=\"583.1074\">obj</text><line style=\"stroke: #383838; stroke-width: 1.5;\" x1=\"70.5\" x2=\"161.5\" y1=\"590.9375\" y2=\"590.9375\"/></a><!--MD5=[1dd1bfd58a279cf63c5f349dbc8fc6a1]\n",
       "class E11--><a href=\"psysml:2f29b586-744b-44a6-b354-0cb36fac52ba\" target=\"_top\" title=\"psysml:2f29b586-744b-44a6-b354-0cb36fac52ba\" xlink:actuate=\"onRequest\" xlink:href=\"psysml:2f29b586-744b-44a6-b354-0cb36fac52ba\" xlink:show=\"new\" xlink:title=\"psysml:2f29b586-744b-44a6-b354-0cb36fac52ba\" xlink:type=\"simple\"><rect fill=\"#FFFFFF\" height=\"45.9375\" id=\"E11\" rx=\"10\" ry=\"10\" style=\"stroke: #383838; stroke-width: 1.5;\" width=\"104\" x=\"160\" y=\"41\"/><text fill=\"#000000\" font-family=\"sans-serif\" font-size=\"12\" font-style=\"italic\" lengthAdjust=\"spacingAndGlyphs\" textLength=\"40\" x=\"192\" y=\"57.1387\">«part»</text><text fill=\"#000000\" font-family=\"sans-serif\" font-size=\"12\" lengthAdjust=\"spacingAndGlyphs\" textLength=\"98\" x=\"163\" y=\"71.1074\">analysisContext</text><line style=\"stroke: #383838; stroke-width: 1.5;\" x1=\"161\" x2=\"263\" y1=\"78.9375\" y2=\"78.9375\"/></a><!--MD5=[49a0ec8f00dab7302a31f22d0f0fe584]\n",
       "class E12--><a href=\"psysml:cfe8b385-7bc2-406c-91e1-db9911ba5874\" target=\"_top\" title=\"psysml:cfe8b385-7bc2-406c-91e1-db9911ba5874\" xlink:actuate=\"onRequest\" xlink:href=\"psysml:cfe8b385-7bc2-406c-91e1-db9911ba5874\" xlink:show=\"new\" xlink:title=\"psysml:cfe8b385-7bc2-406c-91e1-db9911ba5874\" xlink:type=\"simple\"><rect fill=\"#FFFFFF\" height=\"45.9375\" id=\"E12\" rx=\"10\" ry=\"10\" style=\"stroke: #383838; stroke-width: 1.5;\" width=\"172\" x=\"126\" y=\"148\"/><text fill=\"#000000\" font-family=\"sans-serif\" font-size=\"12\" font-style=\"italic\" lengthAdjust=\"spacingAndGlyphs\" textLength=\"64\" x=\"180\" y=\"164.1387\">«analysis»</text><text fill=\"#000000\" font-family=\"sans-serif\" font-size=\"12\" lengthAdjust=\"spacingAndGlyphs\" textLength=\"162\" x=\"129\" y=\"178.1074\">analysisPlan: AnalysisPlan</text><line style=\"stroke: #383838; stroke-width: 1.5;\" x1=\"127\" x2=\"297\" y1=\"185.9375\" y2=\"185.9375\"/></a><!--MD5=[ee3c913d1a06f366521f9ef512b67efe]\n",
       "class E13--><a href=\"psysml:63325e1e-8a82-4691-b26b-3354962a7cad\" target=\"_top\" title=\"psysml:63325e1e-8a82-4691-b26b-3354962a7cad\" xlink:actuate=\"onRequest\" xlink:href=\"psysml:63325e1e-8a82-4691-b26b-3354962a7cad\" xlink:show=\"new\" xlink:title=\"psysml:63325e1e-8a82-4691-b26b-3354962a7cad\" xlink:type=\"simple\"><rect fill=\"#FFFFFF\" height=\"45.9375\" id=\"E13\" rx=\"10\" ry=\"10\" style=\"stroke: #383838; stroke-width: 1.5;\" width=\"93\" x=\"229.5\" y=\"271\"/><text fill=\"#000000\" font-family=\"sans-serif\" font-size=\"12\" font-style=\"italic\" lengthAdjust=\"spacingAndGlyphs\" textLength=\"91\" x=\"230.5\" y=\"287.1387\">«requirement»</text><text fill=\"#000000\" font-family=\"sans-serif\" font-size=\"12\" lengthAdjust=\"spacingAndGlyphs\" textLength=\"19\" x=\"266.5\" y=\"301.1074\">obj</text><line style=\"stroke: #383838; stroke-width: 1.5;\" x1=\"230.5\" x2=\"321.5\" y1=\"308.9375\" y2=\"308.9375\"/></a><!--MD5=[05d275557350bfb9b23a4ef7222b4c39]\n",
       "link E3 to E2--><a href=\"psysml:4413170d-8387-4bcf-a661-a8e63eefb5dc\" target=\"_top\" title=\"psysml:4413170d-8387-4bcf-a661-a8e63eefb5dc\" xlink:actuate=\"onRequest\" xlink:href=\"psysml:4413170d-8387-4bcf-a661-a8e63eefb5dc\" xlink:show=\"new\" xlink:title=\"psysml:4413170d-8387-4bcf-a661-a8e63eefb5dc\" xlink:type=\"simple\"><path d=\"M211.34,599.31 C204.65,618.8 196,644 196,644 C196,644 195.3,655.8 194.42,670.56 \" fill=\"none\" id=\"E3-&gt;E2\" style=\"stroke: #383838; stroke-width: 1.0;\"/><polygon fill=\"#FFFFFF\" points=\"193.21,690.91,187.3492,671.5283,201.3245,672.3586,193.21,690.91\" style=\"stroke: #383838; stroke-width: 1.0;\"/><ellipse cx=\"189.6837\" cy=\"665.9569\" fill=\"#383838\" rx=\"2\" ry=\"2\" style=\"stroke: #383838; stroke-width: 1.0;\"/><ellipse cx=\"199.6661\" cy=\"666.55\" fill=\"#383838\" rx=\"2\" ry=\"2\" style=\"stroke: #383838; stroke-width: 1.0;\"/></a><!--MD5=[15ebcb19ae302d9b601edb458606d402]\n",
       "link E5 to E2--><a href=\"psysml:0e59658b-8c20-4184-9a82-84e161b0c6e1\" target=\"_top\" title=\"psysml:0e59658b-8c20-4184-9a82-84e161b0c6e1\" xlink:actuate=\"onRequest\" xlink:href=\"psysml:0e59658b-8c20-4184-9a82-84e161b0c6e1\" xlink:show=\"new\" xlink:title=\"psysml:0e59658b-8c20-4184-9a82-84e161b0c6e1\" xlink:type=\"simple\"><path d=\"M301,614.03 C283.42,629.52 267,644 267,644 C267,644 247.43,665.63 228.15,686.94 \" fill=\"none\" id=\"E5-&gt;E2\" style=\"stroke: #383838; stroke-width: 1.0; stroke-dasharray: 7.0,7.0;\"/><polygon fill=\"#383838\" points=\"224.56,690.91,233.5624,686.9153,227.9127,687.2006,227.6274,681.551,224.56,690.91\" style=\"stroke: #383838; stroke-width: 1.0;\"/><text fill=\"#000000\" font-family=\"sans-serif\" font-size=\"13\" lengthAdjust=\"spacingAndGlyphs\" textLength=\"62\" x=\"268\" y=\"657.0669\">«subject»</text></a><!--MD5=[9120cf2e5df3bff93db8f754bbbc09b4]\n",
       "link E5 to E6--><a href=\"psysml:0aba1a21-1a42-4d2b-97f5-c2cba04c9345\" target=\"_top\" title=\"psysml:0aba1a21-1a42-4d2b-97f5-c2cba04c9345\" xlink:actuate=\"onRequest\" xlink:href=\"psysml:0aba1a21-1a42-4d2b-97f5-c2cba04c9345\" xlink:show=\"new\" xlink:title=\"psysml:0aba1a21-1a42-4d2b-97f5-c2cba04c9345\" xlink:type=\"simple\"><path d=\"M341.27,614.33 C340.08,639.95 338.52,673.54 337.41,697.54 \" fill=\"none\" id=\"E5-&gt;E6\" style=\"stroke: #383838; stroke-width: 1.0;\"/><polygon fill=\"#383838\" points=\"337.04,705.61,340.4078,697.7577,334.4143,697.4795,337.04,705.61\" style=\"stroke: #383838; stroke-width: 1.0;\"/><text fill=\"#000000\" font-family=\"sans-serif\" font-size=\"13\" lengthAdjust=\"spacingAndGlyphs\" textLength=\"73\" x=\"340\" y=\"657.0669\">«objective»</text></a><!--MD5=[f667431f98296947986a1a7595a31603]\n",
       "link E6 to E4--><a href=\"psysml:32f59106-5f4c-4aec-8305-226899de5705\" target=\"_top\" title=\"psysml:32f59106-5f4c-4aec-8305-226899de5705\" xlink:actuate=\"onRequest\" xlink:href=\"psysml:32f59106-5f4c-4aec-8305-226899de5705\" xlink:show=\"new\" xlink:title=\"psysml:32f59106-5f4c-4aec-8305-226899de5705\" xlink:type=\"simple\"><path d=\"M336,752.14 C336,767.41 336,788.39 336,807.82 \" fill=\"none\" id=\"E6-&gt;E4\" style=\"stroke: #383838; stroke-width: 1.0;\"/><polygon fill=\"#FFFFFF\" points=\"336,827.96,329,808.96,343,808.96,336,827.96\" style=\"stroke: #383838; stroke-width: 1.0;\"/><ellipse cx=\"331\" cy=\"803.26\" fill=\"#383838\" rx=\"2\" ry=\"2\" style=\"stroke: #383838; stroke-width: 1.0;\"/><ellipse cx=\"341\" cy=\"803.26\" fill=\"#383838\" rx=\"2\" ry=\"2\" style=\"stroke: #383838; stroke-width: 1.0;\"/></a><!--MD5=[583832df87f4419a098336a29a52fa00]\n",
       "link E7 to E2--><a href=\"psysml:1b5baffb-8729-41ae-bce6-1275f3b8062c\" target=\"_top\" title=\"psysml:1b5baffb-8729-41ae-bce6-1275f3b8062c\" xlink:actuate=\"onRequest\" xlink:href=\"psysml:1b5baffb-8729-41ae-bce6-1275f3b8062c\" xlink:show=\"new\" xlink:title=\"psysml:1b5baffb-8729-41ae-bce6-1275f3b8062c\" xlink:type=\"simple\"><path d=\"M134.48,317.46 C115.59,346.67 85,394 85,394 C85,394 52,538 52,538 C52,538 52,614 52,614 C52,614 110.89,662.3 152,696.02 \" fill=\"none\" id=\"E7-&gt;E2\" style=\"stroke: #383838; stroke-width: 1.0; stroke-dasharray: 7.0,7.0;\"/><polygon fill=\"#383838\" points=\"155.92,699.23,151.4926,690.4324,152.0521,696.0615,146.423,696.621,155.92,699.23\" style=\"stroke: #383838; stroke-width: 1.0;\"/><text fill=\"#000000\" font-family=\"sans-serif\" font-size=\"13\" lengthAdjust=\"spacingAndGlyphs\" textLength=\"62\" x=\"63\" y=\"504.0669\">«subject»</text></a><!--MD5=[79bc8f324ef4d02c541433f2e6e513c3]\n",
       "link E7 to E8--><a href=\"psysml:90e157ee-5294-4f98-a807-291d927bb48a\" target=\"_top\" title=\"psysml:90e157ee-5294-4f98-a807-291d927bb48a\" xlink:actuate=\"onRequest\" xlink:href=\"psysml:90e157ee-5294-4f98-a807-291d927bb48a\" xlink:show=\"new\" xlink:title=\"psysml:90e157ee-5294-4f98-a807-291d927bb48a\" xlink:type=\"simple\"><path d=\"M149,317.01 C149,335.7 149,363.02 149,385.69 \" fill=\"none\" id=\"E7-&gt;E8\" style=\"stroke: #383838; stroke-width: 1.0;\"/><polygon fill=\"#383838\" points=\"149,393.81,152,385.81,146,385.81,149,393.81\" style=\"stroke: #383838; stroke-width: 1.0;\"/><text fill=\"#000000\" font-family=\"sans-serif\" font-size=\"13\" lengthAdjust=\"spacingAndGlyphs\" textLength=\"73\" x=\"150\" y=\"360.0669\">«objective»</text><text fill=\"#000000\" font-family=\"sans-serif\" font-size=\"13\" lengthAdjust=\"spacingAndGlyphs\" textLength=\"8\" x=\"140.2125\" y=\"382.8061\">1</text></a><!--MD5=[e4a10ef82d0e328e31cac39a31e58dda]\n",
       "reverse link E7 to E9--><a href=\"psysml:5b13e274-498b-4649-80bb-2ca5d783c8e3\" target=\"_top\" title=\"psysml:5b13e274-498b-4649-80bb-2ca5d783c8e3\" xlink:actuate=\"onRequest\" xlink:href=\"psysml:5b13e274-498b-4649-80bb-2ca5d783c8e3\" xlink:show=\"new\" xlink:title=\"psysml:5b13e274-498b-4649-80bb-2ca5d783c8e3\" xlink:type=\"simple\"><path d=\"M195.42,324.08 C214.41,335.98 232,347 232,347 C232,347 269.87,380.83 296.21,404.35 \" fill=\"none\" id=\"E7&lt;-E9\" style=\"stroke: #383838; stroke-width: 1.0;\"/><polygon fill=\"#383838\" points=\"184.2,317.05,187.1611,323.6251,194.3693,323.4207,191.4082,316.8456,184.2,317.05\" style=\"stroke: #383838; stroke-width: 1.0;\"/></a><!--MD5=[bfc3ddf2e613be37104f658f09af896c]\n",
       "link E9 to E5--><a href=\"psysml:2720ff20-3733-452c-91c5-acd446f65b05\" target=\"_top\" title=\"psysml:2720ff20-3733-452c-91c5-acd446f65b05\" xlink:actuate=\"onRequest\" xlink:href=\"psysml:2720ff20-3733-452c-91c5-acd446f65b05\" xlink:show=\"new\" xlink:title=\"psysml:2720ff20-3733-452c-91c5-acd446f65b05\" xlink:type=\"simple\"><path d=\"M324.34,450.75 C327.03,468.64 330.93,494.59 334.46,518.16 \" fill=\"none\" id=\"E9-&gt;E5\" style=\"stroke: #383838; stroke-width: 1.0;\"/><polygon fill=\"#FFFFFF\" points=\"337.44,537.99,327.694,520.2413,341.5385,518.1607,337.44,537.99\" style=\"stroke: #383838; stroke-width: 1.0;\"/><ellipse cx=\"328.8246\" cy=\"514.3074\" fill=\"#383838\" rx=\"2\" ry=\"2\" style=\"stroke: #383838; stroke-width: 1.0;\"/><ellipse cx=\"338.7136\" cy=\"512.8212\" fill=\"#383838\" rx=\"2\" ry=\"2\" style=\"stroke: #383838; stroke-width: 1.0;\"/></a><!--MD5=[35e5f1cbde42fa304a029880aa2bc7f2]\n",
       "link E9 to E10--><a href=\"psysml:207a8d5d-7cc5-465d-969c-ac78b140bf51\" target=\"_top\" title=\"psysml:207a8d5d-7cc5-465d-969c-ac78b140bf51\" xlink:actuate=\"onRequest\" xlink:href=\"psysml:207a8d5d-7cc5-465d-969c-ac78b140bf51\" xlink:show=\"new\" xlink:title=\"psysml:207a8d5d-7cc5-465d-969c-ac78b140bf51\" xlink:type=\"simple\"><path d=\"M289.86,450.75 C253.34,476.86 192.8,520.12 153.66,548.09 \" fill=\"none\" id=\"E9-&gt;E10\" style=\"stroke: #383838; stroke-width: 1.0;\"/><polygon fill=\"#383838\" points=\"147.09,552.78,155.3427,550.5679,151.8532,545.6869,147.09,552.78\" style=\"stroke: #383838; stroke-width: 1.0;\"/><text fill=\"#000000\" font-family=\"sans-serif\" font-size=\"13\" lengthAdjust=\"spacingAndGlyphs\" textLength=\"73\" x=\"231\" y=\"504.0669\">«objective»</text></a><!--MD5=[94adabc162ce7e41b39f13be14fbaeb3]\n",
       "reverse link E11 to E12--><a href=\"psysml:df4b3059-af15-4a6e-9f16-4ce8d388f00c\" target=\"_top\" title=\"psysml:df4b3059-af15-4a6e-9f16-4ce8d388f00c\" xlink:actuate=\"onRequest\" xlink:href=\"psysml:df4b3059-af15-4a6e-9f16-4ce8d388f00c\" xlink:show=\"new\" xlink:title=\"psysml:df4b3059-af15-4a6e-9f16-4ce8d388f00c\" xlink:type=\"simple\"><path d=\"M212,100.05 C212,115.76 212,133.82 212,147.66 \" fill=\"none\" id=\"E11&lt;-E12\" style=\"stroke: #383838; stroke-width: 1.0;\"/><polygon fill=\"#383838\" points=\"212,87.01,208,93.01,212,99.01,216,93.01,212,87.01\" style=\"stroke: #383838; stroke-width: 1.0;\"/></a><!--MD5=[ae660f5ecd7ddb04a8913625960940af]\n",
       "link E12 to E7--><a href=\"psysml:b8e5c057-83f1-47ef-94c9-1676b303e623\" target=\"_top\" title=\"psysml:b8e5c057-83f1-47ef-94c9-1676b303e623\" xlink:actuate=\"onRequest\" xlink:href=\"psysml:b8e5c057-83f1-47ef-94c9-1676b303e623\" xlink:show=\"new\" xlink:title=\"psysml:b8e5c057-83f1-47ef-94c9-1676b303e623\" xlink:type=\"simple\"><path d=\"M200.44,194.19 C191.88,210.65 179.96,233.54 169.75,253.14 \" fill=\"none\" id=\"E12-&gt;E7\" style=\"stroke: #383838; stroke-width: 1.0;\"/><polygon fill=\"#FFFFFF\" points=\"160.48,270.95,163.0372,250.8637,175.4576,257.3239,160.48,270.95\" style=\"stroke: #383838; stroke-width: 1.0;\"/><ellipse cx=\"167.4418\" cy=\"246.7297\" fill=\"#383838\" rx=\"2\" ry=\"2\" style=\"stroke: #383838; stroke-width: 1.0;\"/><ellipse cx=\"176.3135\" cy=\"251.3441\" fill=\"#383838\" rx=\"2\" ry=\"2\" style=\"stroke: #383838; stroke-width: 1.0;\"/></a><!--MD5=[e2a9ac97dcd3257bb5342dae06547bad]\n",
       "link E12 to E13--><a href=\"psysml:7d3bd451-2ef5-4e75-9594-2e0dd7330291\" target=\"_top\" title=\"psysml:7d3bd451-2ef5-4e75-9594-2e0dd7330291\" xlink:actuate=\"onRequest\" xlink:href=\"psysml:7d3bd451-2ef5-4e75-9594-2e0dd7330291\" xlink:show=\"new\" xlink:title=\"psysml:7d3bd451-2ef5-4e75-9594-2e0dd7330291\" xlink:type=\"simple\"><path d=\"M223.74,194.19 C234.07,213.72 249.18,242.3 260.5,263.7 \" fill=\"none\" id=\"E12-&gt;E13\" style=\"stroke: #383838; stroke-width: 1.0;\"/><polygon fill=\"#383838\" points=\"264.34,270.95,263.2624,262.4742,257.955,265.2727,264.34,270.95\" style=\"stroke: #383838; stroke-width: 1.0;\"/><text fill=\"#000000\" font-family=\"sans-serif\" font-size=\"13\" lengthAdjust=\"spacingAndGlyphs\" textLength=\"73\" x=\"248\" y=\"237.0669\">«objective»</text><text fill=\"#000000\" font-family=\"sans-serif\" font-size=\"13\" lengthAdjust=\"spacingAndGlyphs\" textLength=\"8\" x=\"252.1314\" y=\"259.8328\">1</text></a><!--MD5=[530b67e595f3cc83abd06af10120453c]\n",
       "@startuml\r\n",
       "skinparam linetype polyline\r\n",
       "skinparam monochrome true\r\n",
       "skinparam classbackgroundcolor white\r\n",
       "skinparam shadowing false\r\n",
       "skinparam wrapWidth 300\r\n",
       "hide circle\r\n",
       "\r\n",
       "package \"AnalysisTest\" as E1  [[psysml:d47d9c93-f987-42aa-9c82-a11afa9e7a85 ]]  {\r\n",
       "comp def \"V\" as E2  <<(T,blue) part  def>> [[psysml:6e318fc7-f06d-4e4c-8e44-1e6d0f884455 ]] {\r\n",
       "- - references - -\r\n",
       "m\r\n",
       "}\r\n",
       "comp usage \"vv: V \" as E3  <<(T,blue) part>> [[psysml:27999d5c-daad-4ed7-92ff-020a622ea083 ]] {\r\n",
       "}\r\n",
       "comp def \"AnalysisObjective\" as E4  <<(T,blue) requirement  def>> [[psysml:31fce779-d9ab-452b-8111-7f3c68bff972 ]] {\r\n",
       "...\r\n",
       "- -\r\n",
       "}\r\n",
       "comp def \"AnalysisCase\" as E5 << analysis def>> [[psysml:0d42cad1-3808-4e7b-8fe6-f660e27fd2bd ]] {\r\n",
       "- - path step expressions - -\r\n",
       " { v.m }\r\n",
       "}\r\n",
       "comp usage \"obj: AnalysisObjective \" as E6  <<(T,blue) requirement>> [[psysml:b64c7347-1249-45eb-ab10-0bf79737e87a ]] {\r\n",
       "}\r\n",
       "comp def \"AnalysisPlan\" as E7 << analysis def>> [[psysml:058a72e0-0a98-4261-856d-73366cf47a25 ]] {\r\n",
       "}\r\n",
       "comp usage \"obj\" as E8  <<(T,blue) requirement>> [[psysml:185eeef5-681f-4700-9ef2-09baff1a4526 ]] {\r\n",
       "...\r\n",
       "- -\r\n",
       "}\r\n",
       "comp usage \"analysisCase: AnalysisCase \" as E9 << analysis>> [[psysml:ebac0614-db53-4f6a-a11b-2a64966401ed ]] {\r\n",
       "}\r\n",
       "comp usage \"obj\" as E10  <<(T,blue) requirement>> [[psysml:885560a7-695c-4aea-bf29-e47629fa314b ]] {\r\n",
       "}\r\n",
       "comp usage \"analysisContext\" as E11  <<(T,blue) part>> [[psysml:2f29b586-744b-44a6-b354-0cb36fac52ba ]] {\r\n",
       "}\r\n",
       "comp usage \"analysisPlan: AnalysisPlan \" as E12 << analysis>> [[psysml:cfe8b385-7bc2-406c-91e1-db9911ba5874 ]] {\r\n",
       "}\r\n",
       "comp usage \"obj\" as E13  <<(T,blue) requirement>> [[psysml:63325e1e-8a82-4691-b26b-3354962a7cad ]] {\r\n",
       "}\r\n",
       "}\r\n",
       "E3 - -:|> E2 [[psysml:4413170d-8387-4bcf-a661-a8e63eefb5dc ]] \r\n",
       "E5 ..> E2 [[psysml:0e59658b-8c20-4184-9a82-84e161b0c6e1 ]] : <<subject>>\r\n",
       "E5 - ->> E6 [[psysml:0aba1a21-1a42-4d2b-97f5-c2cba04c9345 ]] : <<objective>>\r\n",
       "E6 - -:|> E4 [[psysml:32f59106-5f4c-4aec-8305-226899de5705 ]] \r\n",
       "E7 ..> E2 [[psysml:1b5baffb-8729-41ae-bce6-1275f3b8062c ]] : <<subject>>\r\n",
       "E7 - ->> \"1\"E8 [[psysml:90e157ee-5294-4f98-a807-291d927bb48a ]] : <<objective>>\r\n",
       "E7 *- - E9 [[psysml:5b13e274-498b-4649-80bb-2ca5d783c8e3 ]] \r\n",
       "E9 - -:|> E5 [[psysml:2720ff20-3733-452c-91c5-acd446f65b05 ]] \r\n",
       "E9 - ->> E10 [[psysml:207a8d5d-7cc5-465d-969c-ac78b140bf51 ]] : <<objective>>\r\n",
       "E11 *- - E12 [[psysml:df4b3059-af15-4a6e-9f16-4ce8d388f00c ]] \r\n",
       "E12 - -:|> E7 [[psysml:b8e5c057-83f1-47ef-94c9-1676b303e623 ]] \r\n",
       "E12 - ->> \"1\"E13 [[psysml:7d3bd451-2ef5-4e75-9594-2e0dd7330291 ]] : <<objective>>\r\n",
       "@enduml\r\n",
       "\n",
       "PlantUML version 1.2020.13(Sat Jun 13 12:26:38 UTC 2020)\n",
       "(EPL source distribution)\n",
       "Java Runtime: OpenJDK Runtime Environment\n",
       "JVM: OpenJDK 64-Bit Server VM\n",
       "Default Encoding: UTF-8\n",
       "Language: en\n",
       "Country: null\n",
       "--></g></svg>"
      ]
     },
     "execution_count": 10,
     "metadata": {},
     "output_type": "execute_result"
    }
   ],
   "source": [
    "%viz --style=\"POLYLINE\" --view=\"Tree\" \"AnalysisTest\""
   ]
  },
  {
   "cell_type": "code",
   "execution_count": 11,
   "id": "12e1ef0e",
   "metadata": {
    "execution": {
     "iopub.execute_input": "2021-11-13T12:57:18.008650Z",
     "iopub.status.busy": "2021-11-13T12:57:18.008056Z",
     "iopub.status.idle": "2021-11-13T12:57:18.012994Z",
     "shell.execute_reply": "2021-11-13T12:57:18.012610Z"
    }
   },
   "outputs": [
    {
     "data": {
      "image/svg+xml": [
       "<?xml version=\"1.0\" encoding=\"UTF-8\" standalone=\"no\"?><svg xmlns=\"http://www.w3.org/2000/svg\" xmlns:xlink=\"http://www.w3.org/1999/xlink\" contentScriptType=\"application/ecmascript\" contentStyleType=\"text/css\" height=\"12px\" preserveAspectRatio=\"none\" style=\"width:12px;height:12px;\" version=\"1.1\" viewBox=\"0 0 12 12\" width=\"12px\" zoomAndPan=\"magnify\"><defs/><g><!--MD5=[896ac0e7a515d8dd7765a661cb4ee08b]\n",
       "@startuml\r\n",
       "skinparam linetype polyline\r\n",
       "skinparam monochrome true\r\n",
       "skinparam classbackgroundcolor white\r\n",
       "skinparam shadowing false\r\n",
       "skinparam wrapWidth 300\r\n",
       "hide circle\r\n",
       "\r\n",
       "@enduml\r\n",
       "\n",
       "PlantUML version 1.2020.13(Sat Jun 13 12:26:38 UTC 2020)\n",
       "(EPL source distribution)\n",
       "Java Runtime: OpenJDK Runtime Environment\n",
       "JVM: OpenJDK 64-Bit Server VM\n",
       "Default Encoding: UTF-8\n",
       "Language: en\n",
       "Country: null\n",
       "--></g></svg>"
      ]
     },
     "execution_count": 11,
     "metadata": {},
     "output_type": "execute_result"
    }
   ],
   "source": [
    "%viz --style=\"POLYLINE\" --view=\"State\" \"AnalysisTest\""
   ]
  },
  {
   "cell_type": "code",
   "execution_count": 12,
   "id": "ab02f946",
   "metadata": {
    "execution": {
     "iopub.execute_input": "2021-11-13T12:57:18.061617Z",
     "iopub.status.busy": "2021-11-13T12:57:18.061390Z",
     "iopub.status.idle": "2021-11-13T12:57:18.115611Z",
     "shell.execute_reply": "2021-11-13T12:57:18.115330Z"
    }
   },
   "outputs": [
    {
     "data": {
      "image/svg+xml": [
       "<?xml version=\"1.0\" encoding=\"UTF-8\" standalone=\"no\"?><svg xmlns=\"http://www.w3.org/2000/svg\" xmlns:xlink=\"http://www.w3.org/1999/xlink\" contentScriptType=\"application/ecmascript\" contentStyleType=\"text/css\" height=\"446px\" preserveAspectRatio=\"none\" style=\"width:1132px;height:446px;\" version=\"1.1\" viewBox=\"0 0 1132 446\" width=\"1132px\" zoomAndPan=\"magnify\"><defs/><g><!--MD5=[fbc87193dbaf4d95561dea2c320d4a47]\n",
       "cluster E1--><a href=\"psysml:d47d9c93-f987-42aa-9c82-a11afa9e7a85\" target=\"_top\" title=\"psysml:d47d9c93-f987-42aa-9c82-a11afa9e7a85\" xlink:actuate=\"onRequest\" xlink:href=\"psysml:d47d9c93-f987-42aa-9c82-a11afa9e7a85\" xlink:show=\"new\" xlink:title=\"psysml:d47d9c93-f987-42aa-9c82-a11afa9e7a85\" xlink:type=\"simple\"><polygon fill=\"#FFFFFF\" points=\"16,6,108,6,115,28.2969,1110,28.2969,1110,434.86,16,434.86,16,6\" style=\"stroke: #000000; stroke-width: 1.5;\"/><line style=\"stroke: #000000; stroke-width: 1.5;\" x1=\"16\" x2=\"115\" y1=\"28.2969\" y2=\"28.2969\"/><text fill=\"#000000\" font-family=\"sans-serif\" font-size=\"14\" font-weight=\"bold\" lengthAdjust=\"spacingAndGlyphs\" textLength=\"86\" x=\"20\" y=\"20.9951\">AnalysisTest</text></a><!--MD5=[de5ec2e2e8f62f467e546659f5068c88]\n",
       "cluster E5--><a href=\"psysml:0d42cad1-3808-4e7b-8fe6-f660e27fd2bd\" target=\"_top\" title=\"psysml:0d42cad1-3808-4e7b-8fe6-f660e27fd2bd\" xlink:actuate=\"onRequest\" xlink:href=\"psysml:0d42cad1-3808-4e7b-8fe6-f660e27fd2bd\" xlink:show=\"new\" xlink:title=\"psysml:0d42cad1-3808-4e7b-8fe6-f660e27fd2bd\" xlink:type=\"simple\"><rect fill=\"#FFFFFF\" height=\"228.86\" id=\"E5\" style=\"stroke: #383838; stroke-width: 1.5;\" width=\"146\" x=\"948\" y=\"107\"/><rect fill=\"#F8F8F8\" height=\"37.9375\" style=\"stroke: #383838; stroke-width: 1.5;\" width=\"146\" x=\"948\" y=\"107\"/><text fill=\"#000000\" font-family=\"sans-serif\" font-size=\"12\" font-style=\"italic\" lengthAdjust=\"spacingAndGlyphs\" textLength=\"88\" x=\"977\" y=\"123.1387\">«analysis def»</text><text fill=\"#000000\" font-family=\"sans-serif\" font-size=\"12\" lengthAdjust=\"spacingAndGlyphs\" textLength=\"81\" x=\"980.5\" y=\"137.1074\">AnalysisCase</text></a><!--MD5=[55dfccfc6c49c2d10cd1bd2211a6c90c]\n",
       "cluster E8--><a href=\"psysml:058a72e0-0a98-4261-856d-73366cf47a25\" target=\"_top\" title=\"psysml:058a72e0-0a98-4261-856d-73366cf47a25\" xlink:actuate=\"onRequest\" xlink:href=\"psysml:058a72e0-0a98-4261-856d-73366cf47a25\" xlink:show=\"new\" xlink:title=\"psysml:058a72e0-0a98-4261-856d-73366cf47a25\" xlink:type=\"simple\"><rect fill=\"#FFFFFF\" height=\"303.86\" id=\"E8\" style=\"stroke: #383838; stroke-width: 1.5;\" width=\"259\" x=\"659\" y=\"107\"/><rect fill=\"#F8F8F8\" height=\"37.9375\" style=\"stroke: #383838; stroke-width: 1.5;\" width=\"259\" x=\"659\" y=\"107\"/><text fill=\"#000000\" font-family=\"sans-serif\" font-size=\"12\" font-style=\"italic\" lengthAdjust=\"spacingAndGlyphs\" textLength=\"88\" x=\"744.5\" y=\"123.1387\">«analysis def»</text><text fill=\"#000000\" font-family=\"sans-serif\" font-size=\"12\" lengthAdjust=\"spacingAndGlyphs\" textLength=\"77\" x=\"750\" y=\"137.1074\">AnalysisPlan</text></a><!--MD5=[a84b4591f868c1fa4a211716a82f2f0d]\n",
       "cluster E10--><a href=\"psysml:ebac0614-db53-4f6a-a11b-2a64966401ed\" target=\"_top\" title=\"psysml:ebac0614-db53-4f6a-a11b-2a64966401ed\" xlink:actuate=\"onRequest\" xlink:href=\"psysml:ebac0614-db53-4f6a-a11b-2a64966401ed\" xlink:show=\"new\" xlink:title=\"psysml:ebac0614-db53-4f6a-a11b-2a64966401ed\" xlink:type=\"simple\"><rect fill=\"#FFFFFF\" height=\"165.86\" id=\"E10\" rx=\"10\" ry=\"10\" style=\"stroke: #383838; stroke-width: 1.5;\" width=\"138\" x=\"742\" y=\"207\"/><rect fill=\"#F8F8F8\" height=\"37.9375\" rx=\"10\" ry=\"10\" style=\"stroke: #F8F8F8; stroke-width: 1.5;\" width=\"138\" x=\"742\" y=\"207\"/><rect fill=\"#F8F8F8\" height=\"10\" style=\"stroke: #F8F8F8; stroke-width: 1.5;\" width=\"138\" x=\"742\" y=\"234.9375\"/><rect fill=\"none\" height=\"165.86\" id=\"E10\" rx=\"10\" ry=\"10\" style=\"stroke: #383838; stroke-width: 1.5;\" width=\"138\" x=\"742\" y=\"207\"/><text fill=\"#000000\" font-family=\"sans-serif\" font-size=\"12\" font-style=\"italic\" lengthAdjust=\"spacingAndGlyphs\" textLength=\"64\" x=\"779\" y=\"223.1387\">«analysis»</text><text fill=\"#000000\" font-family=\"sans-serif\" font-size=\"12\" lengthAdjust=\"spacingAndGlyphs\" textLength=\"81\" x=\"770.5\" y=\"237.1074\">analysisCase</text><line style=\"stroke: #383838; stroke-width: 1.0;\" x1=\"742\" x2=\"880\" y1=\"244.9375\" y2=\"244.9375\"/></a><!--MD5=[bcf29f0808fc96f19b1afbee8cfc1f11]\n",
       "cluster E14--><a href=\"psysml:2f29b586-744b-44a6-b354-0cb36fac52ba\" target=\"_top\" title=\"psysml:2f29b586-744b-44a6-b354-0cb36fac52ba\" xlink:actuate=\"onRequest\" xlink:href=\"psysml:2f29b586-744b-44a6-b354-0cb36fac52ba\" xlink:show=\"new\" xlink:title=\"psysml:2f29b586-744b-44a6-b354-0cb36fac52ba\" xlink:type=\"simple\"><rect fill=\"#FFFFFF\" height=\"197\" id=\"E14\" rx=\"10\" ry=\"10\" style=\"stroke: #383838; stroke-width: 1.5;\" width=\"204\" x=\"368\" y=\"49\"/><rect fill=\"#F8F8F8\" height=\"23.9688\" rx=\"10\" ry=\"10\" style=\"stroke: #F8F8F8; stroke-width: 1.5;\" width=\"204\" x=\"368\" y=\"49\"/><rect fill=\"#F8F8F8\" height=\"10\" style=\"stroke: #F8F8F8; stroke-width: 1.5;\" width=\"204\" x=\"368\" y=\"62.9688\"/><rect fill=\"none\" height=\"197\" id=\"E14\" rx=\"10\" ry=\"10\" style=\"stroke: #383838; stroke-width: 1.5;\" width=\"204\" x=\"368\" y=\"49\"/><text fill=\"#000000\" font-family=\"sans-serif\" font-size=\"12\" lengthAdjust=\"spacingAndGlyphs\" textLength=\"98\" x=\"421\" y=\"65.1387\">analysisContext</text><line style=\"stroke: #383838; stroke-width: 1.0;\" x1=\"368\" x2=\"572\" y1=\"72.9688\" y2=\"72.9688\"/></a><!--MD5=[ebbe1d658d1005bcc118a6aa81145e00]\n",
       "class E4--><a href=\"psysml:31fce779-d9ab-452b-8111-7f3c68bff972\" target=\"_top\" title=\"psysml:31fce779-d9ab-452b-8111-7f3c68bff972\" xlink:actuate=\"onRequest\" xlink:href=\"psysml:31fce779-d9ab-452b-8111-7f3c68bff972\" xlink:show=\"new\" xlink:title=\"psysml:31fce779-d9ab-452b-8111-7f3c68bff972\" xlink:type=\"simple\"><rect fill=\"#FFFFFF\" height=\"66.7422\" id=\"E4\" style=\"stroke: #383838; stroke-width: 1.5;\" width=\"121\" x=\"227.5\" y=\"73.5\"/><text fill=\"#000000\" font-family=\"sans-serif\" font-size=\"12\" font-style=\"italic\" lengthAdjust=\"spacingAndGlyphs\" textLength=\"119\" x=\"228.5\" y=\"89.6387\">«requirement  def»</text><text fill=\"#000000\" font-family=\"sans-serif\" font-size=\"12\" lengthAdjust=\"spacingAndGlyphs\" textLength=\"107\" x=\"234.5\" y=\"103.6074\">AnalysisObjective</text><line style=\"stroke: #383838; stroke-width: 1.5;\" x1=\"228.5\" x2=\"347.5\" y1=\"111.4375\" y2=\"111.4375\"/><text fill=\"#000000\" font-family=\"sans-serif\" font-size=\"11\" lengthAdjust=\"spacingAndGlyphs\" textLength=\"12\" x=\"233.5\" y=\"125.6479\">...</text><line style=\"stroke: #383838; stroke-width: 1.0;\" x1=\"228.5\" x2=\"347.5\" y1=\"132.2422\" y2=\"132.2422\"/></a><g id=\"E1.E2\"><a href=\"psysml:6e318fc7-f06d-4e4c-8e44-1e6d0f884455\" target=\"_top\" title=\"psysml:6e318fc7-f06d-4e4c-8e44-1e6d0f884455\" xlink:actuate=\"onRequest\" xlink:href=\"psysml:6e318fc7-f06d-4e4c-8e44-1e6d0f884455\" xlink:show=\"new\" xlink:title=\"psysml:6e318fc7-f06d-4e4c-8e44-1e6d0f884455\" xlink:type=\"simple\"><rect fill=\"#FFFFFF\" height=\"42.9375\" id=\"E2\" style=\"stroke: #383838; stroke-width: 1.5;\" width=\"75\" x=\"117.5\" y=\"85.5\"/><rect fill=\"#F8F8F8\" height=\"37.9375\" style=\"stroke: #383838; stroke-width: 1.5;\" width=\"75\" x=\"117.5\" y=\"85.5\"/><text fill=\"#000000\" font-family=\"sans-serif\" font-size=\"12\" font-style=\"italic\" lengthAdjust=\"spacingAndGlyphs\" textLength=\"68\" x=\"121\" y=\"101.6387\">«part  def»</text><text fill=\"#000000\" font-family=\"sans-serif\" font-size=\"12\" lengthAdjust=\"spacingAndGlyphs\" textLength=\"8\" x=\"151\" y=\"115.6074\">V</text></a></g><g id=\"E1.E3\"><a href=\"psysml:27999d5c-daad-4ed7-92ff-020a622ea083\" target=\"_top\" title=\"psysml:27999d5c-daad-4ed7-92ff-020a622ea083\" xlink:actuate=\"onRequest\" xlink:href=\"psysml:27999d5c-daad-4ed7-92ff-020a622ea083\" xlink:show=\"new\" xlink:title=\"psysml:27999d5c-daad-4ed7-92ff-020a622ea083\" xlink:type=\"simple\"><rect fill=\"#FFFFFF\" height=\"40\" id=\"E3\" rx=\"10\" ry=\"10\" style=\"stroke: #383838; stroke-width: 1.5;\" width=\"50\" x=\"32\" y=\"87\"/><rect fill=\"#F8F8F8\" height=\"23.9688\" rx=\"10\" ry=\"10\" style=\"stroke: #F8F8F8; stroke-width: 1.5;\" width=\"50\" x=\"32\" y=\"87\"/><rect fill=\"#F8F8F8\" height=\"10\" style=\"stroke: #F8F8F8; stroke-width: 1.5;\" width=\"50\" x=\"32\" y=\"100.9688\"/><rect fill=\"none\" height=\"40\" id=\"E3\" rx=\"10\" ry=\"10\" style=\"stroke: #383838; stroke-width: 1.5;\" width=\"50\" x=\"32\" y=\"87\"/><text fill=\"#000000\" font-family=\"sans-serif\" font-size=\"12\" lengthAdjust=\"spacingAndGlyphs\" textLength=\"28\" x=\"43\" y=\"103.1387\">vv: V</text></a></g><text fill=\"#000000\" font-family=\"sans-serif\" font-size=\"14\" lengthAdjust=\"spacingAndGlyphs\" textLength=\"7\" x=\"1017.5\" y=\"85.6982\">v</text><rect fill=\"#383838\" height=\"12\" style=\"stroke: #F8F8F8; stroke-width: 1.5;\" width=\"12\" x=\"1015\" y=\"101\"/><text fill=\"#000000\" font-family=\"sans-serif\" font-size=\"14\" lengthAdjust=\"spacingAndGlyphs\" textLength=\"39\" x=\"1001.5\" y=\"354.8551\">result</text><rect fill=\"#383838\" height=\"12\" style=\"stroke: #F8F8F8; stroke-width: 1.5;\" width=\"12\" x=\"1015\" y=\"329.86\"/><text fill=\"#000000\" font-family=\"sans-serif\" font-size=\"14\" lengthAdjust=\"spacingAndGlyphs\" textLength=\"7\" x=\"673.5\" y=\"85.6982\">v</text><rect fill=\"#383838\" height=\"12\" style=\"stroke: #F8F8F8; stroke-width: 1.5;\" width=\"12\" x=\"671\" y=\"101\"/><text fill=\"#000000\" font-family=\"sans-serif\" font-size=\"14\" lengthAdjust=\"spacingAndGlyphs\" textLength=\"39\" x=\"898.5\" y=\"354.8551\">result</text><rect fill=\"#383838\" height=\"12\" style=\"stroke: #F8F8F8; stroke-width: 1.5;\" width=\"12\" x=\"912\" y=\"329.86\"/><text fill=\"#000000\" font-family=\"sans-serif\" font-size=\"14\" lengthAdjust=\"spacingAndGlyphs\" textLength=\"37\" x=\"792.5\" y=\"391.8551\">mass</text><rect fill=\"#383838\" height=\"12\" style=\"stroke: #F8F8F8; stroke-width: 1.5;\" width=\"12\" x=\"805\" y=\"366.86\"/><text fill=\"#000000\" font-family=\"sans-serif\" font-size=\"14\" lengthAdjust=\"spacingAndGlyphs\" textLength=\"7\" x=\"807.5\" y=\"185.6982\">v</text><rect fill=\"#383838\" height=\"12\" style=\"stroke: #F8F8F8; stroke-width: 1.5;\" width=\"12\" x=\"805\" y=\"201\"/><!--MD5=[0c48fb7552dae8cbbef69381101a84c8]\n",
       "class E15--><a href=\"psysml:cfe8b385-7bc2-406c-91e1-db9911ba5874\" target=\"_top\" title=\"psysml:cfe8b385-7bc2-406c-91e1-db9911ba5874\" xlink:actuate=\"onRequest\" xlink:href=\"psysml:cfe8b385-7bc2-406c-91e1-db9911ba5874\" xlink:show=\"new\" xlink:title=\"psysml:cfe8b385-7bc2-406c-91e1-db9911ba5874\" xlink:type=\"simple\"><rect fill=\"#FFFFFF\" height=\"45.9375\" id=\"E15\" rx=\"10\" ry=\"10\" style=\"stroke: #383838; stroke-width: 1.5;\" width=\"172\" x=\"384\" y=\"84\"/><text fill=\"#000000\" font-family=\"sans-serif\" font-size=\"12\" font-style=\"italic\" lengthAdjust=\"spacingAndGlyphs\" textLength=\"64\" x=\"438\" y=\"100.1387\">«analysis»</text><text fill=\"#000000\" font-family=\"sans-serif\" font-size=\"12\" lengthAdjust=\"spacingAndGlyphs\" textLength=\"162\" x=\"387\" y=\"114.1074\">analysisPlan: AnalysisPlan</text><line style=\"stroke: #383838; stroke-width: 1.5;\" x1=\"385\" x2=\"555\" y1=\"121.9375\" y2=\"121.9375\"/></a><!--MD5=[35f0587eaee8d5bb9a02e25b63afc23b]\n",
       "class E16--><a href=\"psysml:63325e1e-8a82-4691-b26b-3354962a7cad\" target=\"_top\" title=\"psysml:63325e1e-8a82-4691-b26b-3354962a7cad\" xlink:actuate=\"onRequest\" xlink:href=\"psysml:63325e1e-8a82-4691-b26b-3354962a7cad\" xlink:show=\"new\" xlink:title=\"psysml:63325e1e-8a82-4691-b26b-3354962a7cad\" xlink:type=\"simple\"><rect fill=\"#FFFFFF\" height=\"45.9375\" id=\"E16\" rx=\"10\" ry=\"10\" style=\"stroke: #383838; stroke-width: 1.5;\" width=\"93\" x=\"423.5\" y=\"184\"/><text fill=\"#000000\" font-family=\"sans-serif\" font-size=\"12\" font-style=\"italic\" lengthAdjust=\"spacingAndGlyphs\" textLength=\"91\" x=\"424.5\" y=\"200.1387\">«requirement»</text><text fill=\"#000000\" font-family=\"sans-serif\" font-size=\"12\" lengthAdjust=\"spacingAndGlyphs\" textLength=\"19\" x=\"460.5\" y=\"214.1074\">obj</text><line style=\"stroke: #383838; stroke-width: 1.5;\" x1=\"424.5\" x2=\"515.5\" y1=\"221.9375\" y2=\"221.9375\"/></a><!--MD5=[1b01d5b954197aaf3899ca0bde35faf5]\n",
       "link E15 to E8--><a href=\"psysml:b8e5c057-83f1-47ef-94c9-1676b303e623\" target=\"_top\" title=\"psysml:b8e5c057-83f1-47ef-94c9-1676b303e623\" xlink:actuate=\"onRequest\" xlink:href=\"psysml:b8e5c057-83f1-47ef-94c9-1676b303e623\" xlink:show=\"new\" xlink:title=\"psysml:b8e5c057-83f1-47ef-94c9-1676b303e623\" xlink:type=\"simple\"><path d=\"M516.71,130.12 C554.75,148.12 607.61,173.15 642.06,189.46 \" fill=\"none\" id=\"E15-&gt;E8\" style=\"stroke: #383838; stroke-width: 1.0;\"/><polygon fill=\"#FFFFFF\" points=\"642.06,189.46,621.892,187.6566,627.8827,175.003,642.06,189.46\" style=\"stroke: #383838; stroke-width: 1.0;\"/><ellipse cx=\"617.596\" cy=\"183.4098\" fill=\"#383838\" rx=\"2\" ry=\"2\" style=\"stroke: #383838; stroke-width: 1.0;\"/><ellipse cx=\"621.8751\" cy=\"174.3716\" fill=\"#383838\" rx=\"2\" ry=\"2\" style=\"stroke: #383838; stroke-width: 1.0;\"/></a><!--MD5=[f8b155c46b092be73bb522b0a8fc72a2]\n",
       "link E15 to E16--><a href=\"psysml:7d3bd451-2ef5-4e75-9594-2e0dd7330291\" target=\"_top\" title=\"psysml:7d3bd451-2ef5-4e75-9594-2e0dd7330291\" xlink:actuate=\"onRequest\" xlink:href=\"psysml:7d3bd451-2ef5-4e75-9594-2e0dd7330291\" xlink:show=\"new\" xlink:title=\"psysml:7d3bd451-2ef5-4e75-9594-2e0dd7330291\" xlink:type=\"simple\"><path d=\"M470,130.24 C470,143.64 470,160.91 470,175.57 \" fill=\"none\" id=\"E15-&gt;E16\" style=\"stroke: #383838; stroke-width: 1.0;\"/><polygon fill=\"#383838\" points=\"470,183.85,473,175.85,467,175.85,470,183.85\" style=\"stroke: #383838; stroke-width: 1.0;\"/><text fill=\"#000000\" font-family=\"sans-serif\" font-size=\"13\" lengthAdjust=\"spacingAndGlyphs\" textLength=\"73\" x=\"471\" y=\"161.5669\">«objective»</text><text fill=\"#000000\" font-family=\"sans-serif\" font-size=\"13\" lengthAdjust=\"spacingAndGlyphs\" textLength=\"8\" x=\"460.975\" y=\"173.0879\">1</text></a><!--MD5=[c41f3bb291e8bea19a5a3adccd06cb75]\n",
       "@startuml\r\n",
       "skinparam ranksep 10\r\n",
       "skinparam rectangle {\r\n",
       " backgroundColor<<block>> LightGreen\r\n",
       "}\r\n",
       "skinparam linetype polyline\r\n",
       "skinparam monochrome true\r\n",
       "skinparam classbackgroundcolor white\r\n",
       "skinparam shadowing false\r\n",
       "skinparam wrapWidth 300\r\n",
       "hide circle\r\n",
       "\r\n",
       "package \"AnalysisTest\" as E1  [[psysml:d47d9c93-f987-42aa-9c82-a11afa9e7a85 ]]  {\r\n",
       "rec def \"V\" as E2  <<(T,blue) part  def>> [[psysml:6e318fc7-f06d-4e4c-8e44-1e6d0f884455 ]] {\r\n",
       "}\r\n",
       "rec usage \"vv: V\" as E3  [[psysml:27999d5c-daad-4ed7-92ff-020a622ea083 ]] {\r\n",
       "}\r\n",
       "comp def \"AnalysisObjective\" as E4  <<(T,blue) requirement  def>> [[psysml:31fce779-d9ab-452b-8111-7f3c68bff972 ]] {\r\n",
       "...\r\n",
       "- -\r\n",
       "}\r\n",
       "rec def \"AnalysisCase\" as E5 << analysis def>> [[psysml:0d42cad1-3808-4e7b-8fe6-f660e27fd2bd ]] {\r\n",
       "portin \"v\" as E6  [[psysml:f7aad551-6165-4689-8df3-b128f6f54571 ]] \r\n",
       "portout \"result\" as E7  [[psysml:d8a9a5d1-c1b2-404a-b54f-35037ecf4c2d ]] \r\n",
       "}\r\n",
       "\r\n",
       "rec def \"AnalysisPlan\" as E8 << analysis def>> [[psysml:058a72e0-0a98-4261-856d-73366cf47a25 ]] {\r\n",
       "portin \"v\" as E9  [[psysml:40d43c87-89d5-4dcb-a988-f011f6f29ac5 ]] \r\n",
       "rec usage \"analysisCase\" as E10 << analysis>> [[psysml:ebac0614-db53-4f6a-a11b-2a64966401ed ]] {\r\n",
       "portout \"mass\" as E11  [[psysml:94298e01-1500-44a7-8244-0cc3e5620ae6 ]] \r\n",
       "portin \"v\" as E12  [[psysml:fabccdcf-1c94-4d5c-8a0b-5626b651aa80 ]] \r\n",
       "}\r\n",
       "\r\n",
       "portout \"result\" as E13  [[psysml:633f1383-e65f-4e22-9e6d-6ffcdde4bc38 ]] \r\n",
       "}\r\n",
       "\r\n",
       "rec usage \"analysisContext\" as E14  [[psysml:2f29b586-744b-44a6-b354-0cb36fac52ba ]] {\r\n",
       "comp usage \"analysisPlan: AnalysisPlan \" as E15 << analysis>> [[psysml:cfe8b385-7bc2-406c-91e1-db9911ba5874 ]] {\r\n",
       "}\r\n",
       "comp usage \"obj\" as E16  <<(T,blue) requirement>> [[psysml:63325e1e-8a82-4691-b26b-3354962a7cad ]] {\r\n",
       "}\r\n",
       "}\r\n",
       "}\r\n",
       "E15 - -:|> E8 [[psysml:b8e5c057-83f1-47ef-94c9-1676b303e623 ]] \r\n",
       "E15 - ->> \"1\"E16 [[psysml:7d3bd451-2ef5-4e75-9594-2e0dd7330291 ]] : <<objective>>\r\n",
       "@enduml\r\n",
       "\n",
       "PlantUML version 1.2020.13(Sat Jun 13 12:26:38 UTC 2020)\n",
       "(EPL source distribution)\n",
       "Java Runtime: OpenJDK Runtime Environment\n",
       "JVM: OpenJDK 64-Bit Server VM\n",
       "Default Encoding: UTF-8\n",
       "Language: en\n",
       "Country: null\n",
       "--></g></svg>"
      ]
     },
     "execution_count": 12,
     "metadata": {},
     "output_type": "execute_result"
    }
   ],
   "source": [
    "%viz --style=\"POLYLINE\" --view=\"Interconnection\" \"AnalysisTest\""
   ]
  },
  {
   "cell_type": "code",
   "execution_count": 13,
   "id": "215af376",
   "metadata": {
    "execution": {
     "iopub.execute_input": "2021-11-13T12:57:18.165398Z",
     "iopub.status.busy": "2021-11-13T12:57:18.165077Z",
     "iopub.status.idle": "2021-11-13T12:57:18.211059Z",
     "shell.execute_reply": "2021-11-13T12:57:18.211310Z"
    }
   },
   "outputs": [
    {
     "data": {
      "image/svg+xml": [
       "<?xml version=\"1.0\" encoding=\"UTF-8\" standalone=\"no\"?><svg xmlns=\"http://www.w3.org/2000/svg\" xmlns:xlink=\"http://www.w3.org/1999/xlink\" contentScriptType=\"application/ecmascript\" contentStyleType=\"text/css\" height=\"233px\" preserveAspectRatio=\"none\" style=\"width:649px;height:233px;\" version=\"1.1\" viewBox=\"0 0 649 233\" width=\"649px\" zoomAndPan=\"magnify\"><defs/><g><!--MD5=[fbc87193dbaf4d95561dea2c320d4a47]\n",
       "cluster E1--><a href=\"psysml:0d42cad1-3808-4e7b-8fe6-f660e27fd2bd\" target=\"_top\" title=\"psysml:0d42cad1-3808-4e7b-8fe6-f660e27fd2bd\" xlink:actuate=\"onRequest\" xlink:href=\"psysml:0d42cad1-3808-4e7b-8fe6-f660e27fd2bd\" xlink:show=\"new\" xlink:title=\"psysml:0d42cad1-3808-4e7b-8fe6-f660e27fd2bd\" xlink:type=\"simple\"><rect fill=\"#FFFFFF\" height=\"122\" id=\"E1\" style=\"stroke: #383838; stroke-width: 1.5;\" width=\"146\" x=\"7\" y=\"42.0986\"/><rect fill=\"#F8F8F8\" height=\"37.9375\" style=\"stroke: #383838; stroke-width: 1.5;\" width=\"146\" x=\"7\" y=\"42.0986\"/><text fill=\"#000000\" font-family=\"sans-serif\" font-size=\"12\" font-style=\"italic\" lengthAdjust=\"spacingAndGlyphs\" textLength=\"88\" x=\"36\" y=\"58.2373\">«analysis def»</text><text fill=\"#000000\" font-family=\"sans-serif\" font-size=\"12\" lengthAdjust=\"spacingAndGlyphs\" textLength=\"81\" x=\"39.5\" y=\"72.2061\">AnalysisCase</text></a><!--MD5=[f6df4d0ebaf0b5dfb2ced0ae5af7c670]\n",
       "cluster E4--><a href=\"psysml:058a72e0-0a98-4261-856d-73366cf47a25\" target=\"_top\" title=\"psysml:058a72e0-0a98-4261-856d-73366cf47a25\" xlink:actuate=\"onRequest\" xlink:href=\"psysml:058a72e0-0a98-4261-856d-73366cf47a25\" xlink:show=\"new\" xlink:title=\"psysml:058a72e0-0a98-4261-856d-73366cf47a25\" xlink:type=\"simple\"><rect fill=\"#FFFFFF\" height=\"180\" id=\"E4\" style=\"stroke: #383838; stroke-width: 1.5;\" width=\"262\" x=\"216\" y=\"42.0986\"/><rect fill=\"#F8F8F8\" height=\"37.9375\" style=\"stroke: #383838; stroke-width: 1.5;\" width=\"262\" x=\"216\" y=\"42.0986\"/><text fill=\"#000000\" font-family=\"sans-serif\" font-size=\"12\" font-style=\"italic\" lengthAdjust=\"spacingAndGlyphs\" textLength=\"88\" x=\"303\" y=\"58.2373\">«analysis def»</text><text fill=\"#000000\" font-family=\"sans-serif\" font-size=\"12\" lengthAdjust=\"spacingAndGlyphs\" textLength=\"77\" x=\"308.5\" y=\"72.2061\">AnalysisPlan</text></a><!--MD5=[14e3b0961a2654348d326746436168a1]\n",
       "cluster E6--><a href=\"psysml:ebac0614-db53-4f6a-a11b-2a64966401ed\" target=\"_top\" title=\"psysml:ebac0614-db53-4f6a-a11b-2a64966401ed\" xlink:actuate=\"onRequest\" xlink:href=\"psysml:ebac0614-db53-4f6a-a11b-2a64966401ed\" xlink:show=\"new\" xlink:title=\"psysml:ebac0614-db53-4f6a-a11b-2a64966401ed\" xlink:type=\"simple\"><rect fill=\"#FFFFFF\" height=\"110.5\" id=\"E6\" rx=\"10\" ry=\"10\" style=\"stroke: #383838; stroke-width: 1.5;\" width=\"138\" x=\"299\" y=\"81.5986\"/><rect fill=\"#F8F8F8\" height=\"37.9375\" rx=\"10\" ry=\"10\" style=\"stroke: #F8F8F8; stroke-width: 1.5;\" width=\"138\" x=\"299\" y=\"81.5986\"/><rect fill=\"#F8F8F8\" height=\"10\" style=\"stroke: #F8F8F8; stroke-width: 1.5;\" width=\"138\" x=\"299\" y=\"109.5361\"/><rect fill=\"none\" height=\"110.5\" id=\"E6\" rx=\"10\" ry=\"10\" style=\"stroke: #383838; stroke-width: 1.5;\" width=\"138\" x=\"299\" y=\"81.5986\"/><text fill=\"#000000\" font-family=\"sans-serif\" font-size=\"12\" font-style=\"italic\" lengthAdjust=\"spacingAndGlyphs\" textLength=\"64\" x=\"336\" y=\"97.7373\">«analysis»</text><text fill=\"#000000\" font-family=\"sans-serif\" font-size=\"12\" lengthAdjust=\"spacingAndGlyphs\" textLength=\"81\" x=\"327.5\" y=\"111.7061\">analysisCase</text><line style=\"stroke: #383838; stroke-width: 1.0;\" x1=\"299\" x2=\"437\" y1=\"119.5361\" y2=\"119.5361\"/></a><!--MD5=[a84b4591f868c1fa4a211716a82f2f0d]\n",
       "cluster E10--><a href=\"psysml:cfe8b385-7bc2-406c-91e1-db9911ba5874\" target=\"_top\" title=\"psysml:cfe8b385-7bc2-406c-91e1-db9911ba5874\" xlink:actuate=\"onRequest\" xlink:href=\"psysml:cfe8b385-7bc2-406c-91e1-db9911ba5874\" xlink:show=\"new\" xlink:title=\"psysml:cfe8b385-7bc2-406c-91e1-db9911ba5874\" xlink:type=\"simple\"><rect fill=\"#FFFFFF\" height=\"122\" id=\"E10\" rx=\"10\" ry=\"10\" style=\"stroke: #383838; stroke-width: 1.5;\" width=\"130\" x=\"507\" y=\"42.0986\"/><rect fill=\"#F8F8F8\" height=\"37.9375\" rx=\"10\" ry=\"10\" style=\"stroke: #F8F8F8; stroke-width: 1.5;\" width=\"130\" x=\"507\" y=\"42.0986\"/><rect fill=\"#F8F8F8\" height=\"10\" style=\"stroke: #F8F8F8; stroke-width: 1.5;\" width=\"130\" x=\"507\" y=\"70.0361\"/><rect fill=\"none\" height=\"122\" id=\"E10\" rx=\"10\" ry=\"10\" style=\"stroke: #383838; stroke-width: 1.5;\" width=\"130\" x=\"507\" y=\"42.0986\"/><text fill=\"#000000\" font-family=\"sans-serif\" font-size=\"12\" font-style=\"italic\" lengthAdjust=\"spacingAndGlyphs\" textLength=\"64\" x=\"540\" y=\"58.2373\">«analysis»</text><text fill=\"#000000\" font-family=\"sans-serif\" font-size=\"12\" lengthAdjust=\"spacingAndGlyphs\" textLength=\"77\" x=\"533.5\" y=\"72.2061\">analysisPlan</text><line style=\"stroke: #383838; stroke-width: 1.0;\" x1=\"507\" x2=\"637\" y1=\"80.0361\" y2=\"80.0361\"/></a><text fill=\"#000000\" font-family=\"sans-serif\" font-size=\"14\" lengthAdjust=\"spacingAndGlyphs\" textLength=\"7\" x=\"76.5\" y=\"20.7969\">v</text><rect fill=\"#383838\" height=\"12\" style=\"stroke: #F8F8F8; stroke-width: 1.5;\" width=\"12\" x=\"74\" y=\"36.0986\"/><text fill=\"#000000\" font-family=\"sans-serif\" font-size=\"14\" lengthAdjust=\"spacingAndGlyphs\" textLength=\"39\" x=\"60.5\" y=\"183.0938\">result</text><rect fill=\"#383838\" height=\"12\" style=\"stroke: #F8F8F8; stroke-width: 1.5;\" width=\"12\" x=\"74\" y=\"158.0986\"/><text fill=\"#000000\" font-family=\"sans-serif\" font-size=\"14\" lengthAdjust=\"spacingAndGlyphs\" textLength=\"7\" x=\"230.5\" y=\"20.7969\">v</text><rect fill=\"#383838\" height=\"12\" style=\"stroke: #F8F8F8; stroke-width: 1.5;\" width=\"12\" x=\"228\" y=\"36.0986\"/><text fill=\"#000000\" font-family=\"sans-serif\" font-size=\"14\" lengthAdjust=\"spacingAndGlyphs\" textLength=\"39\" x=\"458.5\" y=\"183.0938\">result</text><rect fill=\"#383838\" height=\"12\" style=\"stroke: #F8F8F8; stroke-width: 1.5;\" width=\"12\" x=\"472\" y=\"158.0986\"/><text fill=\"#000000\" font-family=\"sans-serif\" font-size=\"14\" lengthAdjust=\"spacingAndGlyphs\" textLength=\"37\" x=\"349.5\" y=\"211.0938\">mass</text><rect fill=\"#383838\" height=\"12\" style=\"stroke: #F8F8F8; stroke-width: 1.5;\" width=\"12\" x=\"362\" y=\"186.0986\"/><text fill=\"#000000\" font-family=\"sans-serif\" font-size=\"14\" lengthAdjust=\"spacingAndGlyphs\" textLength=\"7\" x=\"364.5\" y=\"60.2969\">v</text><rect fill=\"#383838\" height=\"12\" style=\"stroke: #F8F8F8; stroke-width: 1.5;\" width=\"12\" x=\"362\" y=\"75.5986\"/><text fill=\"#000000\" font-family=\"sans-serif\" font-size=\"14\" lengthAdjust=\"spacingAndGlyphs\" textLength=\"7\" x=\"567.5\" y=\"20.7969\">v</text><rect fill=\"#383838\" height=\"12\" style=\"stroke: #F8F8F8; stroke-width: 1.5;\" width=\"12\" x=\"565\" y=\"36.0986\"/><text fill=\"#000000\" font-family=\"sans-serif\" font-size=\"14\" lengthAdjust=\"spacingAndGlyphs\" textLength=\"39\" x=\"505.5\" y=\"183.0938\">result</text><rect fill=\"#383838\" height=\"12\" style=\"stroke: #F8F8F8; stroke-width: 1.5;\" width=\"12\" x=\"519\" y=\"158.0986\"/><!--MD5=[9ec48efa0c0b8cdd2d18de85a55627b0]\n",
       "@startuml\r\n",
       "skinparam ranksep 8\r\n",
       "skinparam linetype polyline\r\n",
       "skinparam monochrome true\r\n",
       "skinparam classbackgroundcolor white\r\n",
       "skinparam shadowing false\r\n",
       "skinparam wrapWidth 300\r\n",
       "hide circle\r\n",
       "\r\n",
       "rec def \"AnalysisCase\" as E1 << analysis def>> [[psysml:0d42cad1-3808-4e7b-8fe6-f660e27fd2bd ]] {\r\n",
       "portin \"v\" as E2  [[psysml:f7aad551-6165-4689-8df3-b128f6f54571 ]] \r\n",
       "portout \"result\" as E3  [[psysml:d8a9a5d1-c1b2-404a-b54f-35037ecf4c2d ]] \r\n",
       "}\r\n",
       "\r\n",
       "rec def \"AnalysisPlan\" as E4 << analysis def>> [[psysml:058a72e0-0a98-4261-856d-73366cf47a25 ]] {\r\n",
       "portin \"v\" as E5  [[psysml:40d43c87-89d5-4dcb-a988-f011f6f29ac5 ]] \r\n",
       "rec usage \"analysisCase\" as E6 << analysis>> [[psysml:ebac0614-db53-4f6a-a11b-2a64966401ed ]] {\r\n",
       "portout \"mass\" as E7  [[psysml:94298e01-1500-44a7-8244-0cc3e5620ae6 ]] \r\n",
       "portin \"v\" as E8  [[psysml:fabccdcf-1c94-4d5c-8a0b-5626b651aa80 ]] \r\n",
       "}\r\n",
       "\r\n",
       "portout \"result\" as E9  [[psysml:633f1383-e65f-4e22-9e6d-6ffcdde4bc38 ]] \r\n",
       "}\r\n",
       "\r\n",
       "rec usage \"analysisPlan\" as E10 << analysis>> [[psysml:cfe8b385-7bc2-406c-91e1-db9911ba5874 ]] {\r\n",
       "portin \"v\" as E11  [[psysml:55cfee2c-c24c-468f-9db4-77480ce5a457 ]] \r\n",
       "portout \"result\" as E12  [[psysml:8005f62b-cb79-4c8e-b32b-9a19d0c6c24c ]] \r\n",
       "}\r\n",
       "\r\n",
       "@enduml\r\n",
       "\n",
       "PlantUML version 1.2020.13(Sat Jun 13 12:26:38 UTC 2020)\n",
       "(EPL source distribution)\n",
       "Java Runtime: OpenJDK Runtime Environment\n",
       "JVM: OpenJDK 64-Bit Server VM\n",
       "Default Encoding: UTF-8\n",
       "Language: en\n",
       "Country: null\n",
       "--></g></svg>"
      ]
     },
     "execution_count": 13,
     "metadata": {},
     "output_type": "execute_result"
    }
   ],
   "source": [
    "%viz --style=\"POLYLINE\" --view=\"Action\" \"AnalysisTest\""
   ]
  },
  {
   "cell_type": "code",
   "execution_count": 14,
   "id": "f3cdc566",
   "metadata": {
    "execution": {
     "iopub.execute_input": "2021-11-13T12:57:18.261348Z",
     "iopub.status.busy": "2021-11-13T12:57:18.260941Z",
     "iopub.status.idle": "2021-11-13T12:57:18.268093Z",
     "shell.execute_reply": "2021-11-13T12:57:18.268408Z"
    }
   },
   "outputs": [
    {
     "data": {
      "image/svg+xml": [
       "<?xml version=\"1.0\" encoding=\"UTF-8\" standalone=\"no\"?><svg xmlns=\"http://www.w3.org/2000/svg\" xmlns:xlink=\"http://www.w3.org/1999/xlink\" contentScriptType=\"application/ecmascript\" contentStyleType=\"text/css\" height=\"12px\" preserveAspectRatio=\"none\" style=\"width:12px;height:12px;\" version=\"1.1\" viewBox=\"0 0 12 12\" width=\"12px\" zoomAndPan=\"magnify\"><defs/><g><!--MD5=[dc938048236c351797870c36b62f92ad]\n",
       "@startuml\r\n",
       "skinparam roundcorner 20\r\n",
       "skinparam BoxPadding 20\r\n",
       "skinparam SequenceBoxBackgroundColor #white\r\n",
       "skinparam style strictuml\r\n",
       "skinparam maxMessageSize 100\r\n",
       "skinparam linetype polyline\r\n",
       "skinparam monochrome true\r\n",
       "skinparam classbackgroundcolor white\r\n",
       "skinparam shadowing false\r\n",
       "skinparam wrapWidth 300\r\n",
       "hide circle\r\n",
       "\r\n",
       "@enduml\r\n",
       "\n",
       "PlantUML version 1.2020.13(Sat Jun 13 12:26:38 UTC 2020)\n",
       "(EPL source distribution)\n",
       "Java Runtime: OpenJDK Runtime Environment\n",
       "JVM: OpenJDK 64-Bit Server VM\n",
       "Default Encoding: UTF-8\n",
       "Language: en\n",
       "Country: null\n",
       "--></g></svg>"
      ]
     },
     "execution_count": 14,
     "metadata": {},
     "output_type": "execute_result"
    }
   ],
   "source": [
    "%viz --style=\"POLYLINE\" --view=\"Sequence\" \"AnalysisTest\""
   ]
  },
  {
   "cell_type": "code",
   "execution_count": 15,
   "id": "eb0bce90",
   "metadata": {
    "execution": {
     "iopub.execute_input": "2021-11-13T12:57:18.318173Z",
     "iopub.status.busy": "2021-11-13T12:57:18.317762Z",
     "iopub.status.idle": "2021-11-13T12:57:18.389955Z",
     "shell.execute_reply": "2021-11-13T12:57:18.390273Z"
    }
   },
   "outputs": [
    {
     "data": {
      "image/svg+xml": [
       "<?xml version=\"1.0\" encoding=\"UTF-8\" standalone=\"no\"?><svg xmlns=\"http://www.w3.org/2000/svg\" xmlns:xlink=\"http://www.w3.org/1999/xlink\" contentScriptType=\"application/ecmascript\" contentStyleType=\"text/css\" height=\"658px\" preserveAspectRatio=\"none\" style=\"width:845px;height:658px;\" version=\"1.1\" viewBox=\"0 0 845 658\" width=\"845px\" zoomAndPan=\"magnify\"><defs/><g><!--MD5=[fbc87193dbaf4d95561dea2c320d4a47]\n",
       "cluster E1--><a href=\"psysml:d47d9c93-f987-42aa-9c82-a11afa9e7a85\" target=\"_top\" title=\"psysml:d47d9c93-f987-42aa-9c82-a11afa9e7a85\" xlink:actuate=\"onRequest\" xlink:href=\"psysml:d47d9c93-f987-42aa-9c82-a11afa9e7a85\" xlink:show=\"new\" xlink:title=\"psysml:d47d9c93-f987-42aa-9c82-a11afa9e7a85\" xlink:type=\"simple\"><polygon fill=\"#FFFFFF\" points=\"16,6,108,6,115,28.2969,823,28.2969,823,646,16,646,16,6\" style=\"stroke: #000000; stroke-width: 1.5;\"/><line style=\"stroke: #000000; stroke-width: 1.5;\" x1=\"16\" x2=\"115\" y1=\"28.2969\" y2=\"28.2969\"/><text fill=\"#000000\" font-family=\"sans-serif\" font-size=\"14\" font-weight=\"bold\" lengthAdjust=\"spacingAndGlyphs\" textLength=\"86\" x=\"20\" y=\"20.9951\">AnalysisTest</text></a><!--MD5=[de5ec2e2e8f62f467e546659f5068c88]\n",
       "cluster E5--><a href=\"psysml:0d42cad1-3808-4e7b-8fe6-f660e27fd2bd\" target=\"_top\" title=\"psysml:0d42cad1-3808-4e7b-8fe6-f660e27fd2bd\" xlink:actuate=\"onRequest\" xlink:href=\"psysml:0d42cad1-3808-4e7b-8fe6-f660e27fd2bd\" xlink:show=\"new\" xlink:title=\"psysml:0d42cad1-3808-4e7b-8fe6-f660e27fd2bd\" xlink:type=\"simple\"><rect fill=\"#FFFFFF\" height=\"329.5\" id=\"E5\" style=\"stroke: #383838; stroke-width: 1.5;\" width=\"146\" x=\"661\" y=\"74.5\"/><rect fill=\"#F8F8F8\" height=\"37.9375\" style=\"stroke: #383838; stroke-width: 1.5;\" width=\"146\" x=\"661\" y=\"74.5\"/><text fill=\"#000000\" font-family=\"sans-serif\" font-size=\"12\" font-style=\"italic\" lengthAdjust=\"spacingAndGlyphs\" textLength=\"88\" x=\"690\" y=\"90.6387\">«analysis def»</text><text fill=\"#000000\" font-family=\"sans-serif\" font-size=\"12\" lengthAdjust=\"spacingAndGlyphs\" textLength=\"81\" x=\"693.5\" y=\"104.6074\">AnalysisCase</text></a><!--MD5=[55dfccfc6c49c2d10cd1bd2211a6c90c]\n",
       "cluster E8--><a href=\"psysml:058a72e0-0a98-4261-856d-73366cf47a25\" target=\"_top\" title=\"psysml:058a72e0-0a98-4261-856d-73366cf47a25\" xlink:actuate=\"onRequest\" xlink:href=\"psysml:058a72e0-0a98-4261-856d-73366cf47a25\" xlink:show=\"new\" xlink:title=\"psysml:058a72e0-0a98-4261-856d-73366cf47a25\" xlink:type=\"simple\"><rect fill=\"#FFFFFF\" height=\"415\" id=\"E8\" style=\"stroke: #383838; stroke-width: 1.5;\" width=\"259\" x=\"283\" y=\"207\"/><rect fill=\"#F8F8F8\" height=\"37.9375\" style=\"stroke: #383838; stroke-width: 1.5;\" width=\"259\" x=\"283\" y=\"207\"/><text fill=\"#000000\" font-family=\"sans-serif\" font-size=\"12\" font-style=\"italic\" lengthAdjust=\"spacingAndGlyphs\" textLength=\"88\" x=\"368.5\" y=\"223.1387\">«analysis def»</text><text fill=\"#000000\" font-family=\"sans-serif\" font-size=\"12\" lengthAdjust=\"spacingAndGlyphs\" textLength=\"77\" x=\"374\" y=\"237.1074\">AnalysisPlan</text></a><!--MD5=[a84b4591f868c1fa4a211716a82f2f0d]\n",
       "cluster E10--><a href=\"psysml:ebac0614-db53-4f6a-a11b-2a64966401ed\" target=\"_top\" title=\"psysml:ebac0614-db53-4f6a-a11b-2a64966401ed\" xlink:actuate=\"onRequest\" xlink:href=\"psysml:ebac0614-db53-4f6a-a11b-2a64966401ed\" xlink:show=\"new\" xlink:title=\"psysml:ebac0614-db53-4f6a-a11b-2a64966401ed\" xlink:type=\"simple\"><rect fill=\"#FFFFFF\" height=\"239\" id=\"E10\" rx=\"10\" ry=\"10\" style=\"stroke: #383838; stroke-width: 1.5;\" width=\"138\" x=\"366\" y=\"345\"/><rect fill=\"#F8F8F8\" height=\"37.9375\" rx=\"10\" ry=\"10\" style=\"stroke: #F8F8F8; stroke-width: 1.5;\" width=\"138\" x=\"366\" y=\"345\"/><rect fill=\"#F8F8F8\" height=\"10\" style=\"stroke: #F8F8F8; stroke-width: 1.5;\" width=\"138\" x=\"366\" y=\"372.9375\"/><rect fill=\"none\" height=\"239\" id=\"E10\" rx=\"10\" ry=\"10\" style=\"stroke: #383838; stroke-width: 1.5;\" width=\"138\" x=\"366\" y=\"345\"/><text fill=\"#000000\" font-family=\"sans-serif\" font-size=\"12\" font-style=\"italic\" lengthAdjust=\"spacingAndGlyphs\" textLength=\"64\" x=\"403\" y=\"361.1387\">«analysis»</text><text fill=\"#000000\" font-family=\"sans-serif\" font-size=\"12\" lengthAdjust=\"spacingAndGlyphs\" textLength=\"81\" x=\"394.5\" y=\"375.1074\">analysisCase</text><line style=\"stroke: #383838; stroke-width: 1.0;\" x1=\"366\" x2=\"504\" y1=\"382.9375\" y2=\"382.9375\"/></a><!--MD5=[b4997ac47864f28c2f74865a473b2911]\n",
       "class E2--><a href=\"psysml:6e318fc7-f06d-4e4c-8e44-1e6d0f884455\" target=\"_top\" title=\"psysml:6e318fc7-f06d-4e4c-8e44-1e6d0f884455\" xlink:actuate=\"onRequest\" xlink:href=\"psysml:6e318fc7-f06d-4e4c-8e44-1e6d0f884455\" xlink:show=\"new\" xlink:title=\"psysml:6e318fc7-f06d-4e4c-8e44-1e6d0f884455\" xlink:type=\"simple\"><rect fill=\"#FFFFFF\" height=\"75.5469\" id=\"E2\" style=\"stroke: #383838; stroke-width: 1.5;\" width=\"70\" x=\"572\" y=\"169\"/><text fill=\"#000000\" font-family=\"sans-serif\" font-size=\"12\" font-style=\"italic\" lengthAdjust=\"spacingAndGlyphs\" textLength=\"68\" x=\"573\" y=\"185.1387\">«part  def»</text><text fill=\"#000000\" font-family=\"sans-serif\" font-size=\"12\" lengthAdjust=\"spacingAndGlyphs\" textLength=\"8\" x=\"603\" y=\"199.1074\">V</text><line style=\"stroke: #383838; stroke-width: 1.5;\" x1=\"573\" x2=\"641\" y1=\"206.9375\" y2=\"206.9375\"/><text fill=\"#000000\" font-family=\"sans-serif\" font-size=\"11\" lengthAdjust=\"spacingAndGlyphs\" textLength=\"11\" x=\"578\" y=\"237.9526\">m</text><line style=\"stroke: #383838; stroke-width: 1.0;\" x1=\"573\" x2=\"576\" y1=\"221.3398\" y2=\"221.3398\"/><text fill=\"#000000\" font-family=\"sans-serif\" font-size=\"11\" lengthAdjust=\"spacingAndGlyphs\" textLength=\"62\" x=\"576\" y=\"224.6479\">references</text><line style=\"stroke: #383838; stroke-width: 1.0;\" x1=\"638\" x2=\"641\" y1=\"221.3398\" y2=\"221.3398\"/></a><!--MD5=[09b614a08d8cba4a07c9adeb5e0fee81]\n",
       "class E3--><a href=\"psysml:27999d5c-daad-4ed7-92ff-020a622ea083\" target=\"_top\" title=\"psysml:27999d5c-daad-4ed7-92ff-020a622ea083\" xlink:actuate=\"onRequest\" xlink:href=\"psysml:27999d5c-daad-4ed7-92ff-020a622ea083\" xlink:show=\"new\" xlink:title=\"psysml:27999d5c-daad-4ed7-92ff-020a622ea083\" xlink:type=\"simple\"><rect fill=\"#FFFFFF\" height=\"45.9375\" id=\"E3\" rx=\"10\" ry=\"10\" style=\"stroke: #383838; stroke-width: 1.5;\" width=\"42\" x=\"586\" y=\"51.5\"/><text fill=\"#000000\" font-family=\"sans-serif\" font-size=\"12\" font-style=\"italic\" lengthAdjust=\"spacingAndGlyphs\" textLength=\"40\" x=\"587\" y=\"67.6387\">«part»</text><text fill=\"#000000\" font-family=\"sans-serif\" font-size=\"12\" lengthAdjust=\"spacingAndGlyphs\" textLength=\"28\" x=\"591\" y=\"81.6074\">vv: V</text><line style=\"stroke: #383838; stroke-width: 1.5;\" x1=\"587\" x2=\"627\" y1=\"89.4375\" y2=\"89.4375\"/></a><!--MD5=[ebbe1d658d1005bcc118a6aa81145e00]\n",
       "class E4--><a href=\"psysml:31fce779-d9ab-452b-8111-7f3c68bff972\" target=\"_top\" title=\"psysml:31fce779-d9ab-452b-8111-7f3c68bff972\" xlink:actuate=\"onRequest\" xlink:href=\"psysml:31fce779-d9ab-452b-8111-7f3c68bff972\" xlink:show=\"new\" xlink:title=\"psysml:31fce779-d9ab-452b-8111-7f3c68bff972\" xlink:type=\"simple\"><rect fill=\"#FFFFFF\" height=\"66.7422\" id=\"E4\" style=\"stroke: #383838; stroke-width: 1.5;\" width=\"121\" x=\"317.5\" y=\"41\"/><text fill=\"#000000\" font-family=\"sans-serif\" font-size=\"12\" font-style=\"italic\" lengthAdjust=\"spacingAndGlyphs\" textLength=\"119\" x=\"318.5\" y=\"57.1387\">«requirement  def»</text><text fill=\"#000000\" font-family=\"sans-serif\" font-size=\"12\" lengthAdjust=\"spacingAndGlyphs\" textLength=\"107\" x=\"324.5\" y=\"71.1074\">AnalysisObjective</text><line style=\"stroke: #383838; stroke-width: 1.5;\" x1=\"318.5\" x2=\"437.5\" y1=\"78.9375\" y2=\"78.9375\"/><text fill=\"#000000\" font-family=\"sans-serif\" font-size=\"11\" lengthAdjust=\"spacingAndGlyphs\" textLength=\"12\" x=\"323.5\" y=\"93.1479\">...</text><line style=\"stroke: #383838; stroke-width: 1.0;\" x1=\"318.5\" x2=\"437.5\" y1=\"99.7422\" y2=\"99.7422\"/></a><!--MD5=[bee11217b2f71d958a27249dc326068c]\n",
       "class E14--><a href=\"psysml:2f29b586-744b-44a6-b354-0cb36fac52ba\" target=\"_top\" title=\"psysml:2f29b586-744b-44a6-b354-0cb36fac52ba\" xlink:actuate=\"onRequest\" xlink:href=\"psysml:2f29b586-744b-44a6-b354-0cb36fac52ba\" xlink:show=\"new\" xlink:title=\"psysml:2f29b586-744b-44a6-b354-0cb36fac52ba\" xlink:type=\"simple\"><rect fill=\"#FFFFFF\" height=\"45.9375\" id=\"E14\" rx=\"10\" ry=\"10\" style=\"stroke: #383838; stroke-width: 1.5;\" width=\"104\" x=\"66\" y=\"51.5\"/><text fill=\"#000000\" font-family=\"sans-serif\" font-size=\"12\" font-style=\"italic\" lengthAdjust=\"spacingAndGlyphs\" textLength=\"40\" x=\"98\" y=\"67.6387\">«part»</text><text fill=\"#000000\" font-family=\"sans-serif\" font-size=\"12\" lengthAdjust=\"spacingAndGlyphs\" textLength=\"98\" x=\"69\" y=\"81.6074\">analysisContext</text><line style=\"stroke: #383838; stroke-width: 1.5;\" x1=\"67\" x2=\"169\" y1=\"89.4375\" y2=\"89.4375\"/></a><!--MD5=[0c48fb7552dae8cbbef69381101a84c8]\n",
       "class E15--><a href=\"psysml:cfe8b385-7bc2-406c-91e1-db9911ba5874\" target=\"_top\" title=\"psysml:cfe8b385-7bc2-406c-91e1-db9911ba5874\" xlink:actuate=\"onRequest\" xlink:href=\"psysml:cfe8b385-7bc2-406c-91e1-db9911ba5874\" xlink:show=\"new\" xlink:title=\"psysml:cfe8b385-7bc2-406c-91e1-db9911ba5874\" xlink:type=\"simple\"><rect fill=\"#FFFFFF\" height=\"45.9375\" id=\"E15\" rx=\"10\" ry=\"10\" style=\"stroke: #383838; stroke-width: 1.5;\" width=\"172\" x=\"32\" y=\"184\"/><text fill=\"#000000\" font-family=\"sans-serif\" font-size=\"12\" font-style=\"italic\" lengthAdjust=\"spacingAndGlyphs\" textLength=\"64\" x=\"86\" y=\"200.1387\">«analysis»</text><text fill=\"#000000\" font-family=\"sans-serif\" font-size=\"12\" lengthAdjust=\"spacingAndGlyphs\" textLength=\"162\" x=\"35\" y=\"214.1074\">analysisPlan: AnalysisPlan</text><line style=\"stroke: #383838; stroke-width: 1.5;\" x1=\"33\" x2=\"203\" y1=\"221.9375\" y2=\"221.9375\"/></a><!--MD5=[35f0587eaee8d5bb9a02e25b63afc23b]\n",
       "class E16--><a href=\"psysml:63325e1e-8a82-4691-b26b-3354962a7cad\" target=\"_top\" title=\"psysml:63325e1e-8a82-4691-b26b-3354962a7cad\" xlink:actuate=\"onRequest\" xlink:href=\"psysml:63325e1e-8a82-4691-b26b-3354962a7cad\" xlink:show=\"new\" xlink:title=\"psysml:63325e1e-8a82-4691-b26b-3354962a7cad\" xlink:type=\"simple\"><rect fill=\"#FFFFFF\" height=\"45.9375\" id=\"E16\" rx=\"10\" ry=\"10\" style=\"stroke: #383838; stroke-width: 1.5;\" width=\"93\" x=\"71.5\" y=\"322\"/><text fill=\"#000000\" font-family=\"sans-serif\" font-size=\"12\" font-style=\"italic\" lengthAdjust=\"spacingAndGlyphs\" textLength=\"91\" x=\"72.5\" y=\"338.1387\">«requirement»</text><text fill=\"#000000\" font-family=\"sans-serif\" font-size=\"12\" lengthAdjust=\"spacingAndGlyphs\" textLength=\"19\" x=\"108.5\" y=\"352.1074\">obj</text><line style=\"stroke: #383838; stroke-width: 1.5;\" x1=\"72.5\" x2=\"163.5\" y1=\"359.9375\" y2=\"359.9375\"/></a><text fill=\"#000000\" font-family=\"sans-serif\" font-size=\"14\" lengthAdjust=\"spacingAndGlyphs\" textLength=\"7\" x=\"730.5\" y=\"53.1982\">v</text><rect fill=\"#383838\" height=\"12\" style=\"stroke: #F8F8F8; stroke-width: 1.5;\" width=\"12\" x=\"728\" y=\"68.5\"/><text fill=\"#000000\" font-family=\"sans-serif\" font-size=\"14\" lengthAdjust=\"spacingAndGlyphs\" textLength=\"39\" x=\"714.5\" y=\"422.9951\">result</text><rect fill=\"#383838\" height=\"12\" style=\"stroke: #F8F8F8; stroke-width: 1.5;\" width=\"12\" x=\"728\" y=\"398\"/><text fill=\"#000000\" font-family=\"sans-serif\" font-size=\"14\" lengthAdjust=\"spacingAndGlyphs\" textLength=\"7\" x=\"297.5\" y=\"185.6982\">v</text><rect fill=\"#383838\" height=\"12\" style=\"stroke: #F8F8F8; stroke-width: 1.5;\" width=\"12\" x=\"295\" y=\"201\"/><text fill=\"#000000\" font-family=\"sans-serif\" font-size=\"14\" lengthAdjust=\"spacingAndGlyphs\" textLength=\"39\" x=\"522.5\" y=\"529.9951\">result</text><rect fill=\"#383838\" height=\"12\" style=\"stroke: #F8F8F8; stroke-width: 1.5;\" width=\"12\" x=\"536\" y=\"505\"/><text fill=\"#000000\" font-family=\"sans-serif\" font-size=\"14\" lengthAdjust=\"spacingAndGlyphs\" textLength=\"37\" x=\"416.5\" y=\"602.9951\">mass</text><rect fill=\"#383838\" height=\"12\" style=\"stroke: #F8F8F8; stroke-width: 1.5;\" width=\"12\" x=\"429\" y=\"578\"/><text fill=\"#000000\" font-family=\"sans-serif\" font-size=\"14\" lengthAdjust=\"spacingAndGlyphs\" textLength=\"7\" x=\"431.5\" y=\"323.6982\">v</text><rect fill=\"#383838\" height=\"12\" style=\"stroke: #F8F8F8; stroke-width: 1.5;\" width=\"12\" x=\"429\" y=\"339\"/><!--MD5=[05d275557350bfb9b23a4ef7222b4c39]\n",
       "link E3 to E2--><a href=\"psysml:4413170d-8387-4bcf-a661-a8e63eefb5dc\" target=\"_top\" title=\"psysml:4413170d-8387-4bcf-a661-a8e63eefb5dc\" xlink:actuate=\"onRequest\" xlink:href=\"psysml:4413170d-8387-4bcf-a661-a8e63eefb5dc\" xlink:show=\"new\" xlink:title=\"psysml:4413170d-8387-4bcf-a661-a8e63eefb5dc\" xlink:type=\"simple\"><path d=\"M607,97.64 C607,111.72 607,130.66 607,148.75 \" fill=\"none\" id=\"E3-&gt;E2\" style=\"stroke: #383838; stroke-width: 1.0;\"/><polygon fill=\"#FFFFFF\" points=\"607,168.9,600,149.9,614,149.9,607,168.9\" style=\"stroke: #383838; stroke-width: 1.0;\"/><ellipse cx=\"602\" cy=\"144.2\" fill=\"#383838\" rx=\"2\" ry=\"2\" style=\"stroke: #383838; stroke-width: 1.0;\"/><ellipse cx=\"612\" cy=\"144.2\" fill=\"#383838\" rx=\"2\" ry=\"2\" style=\"stroke: #383838; stroke-width: 1.0;\"/></a><!--MD5=[17bf29720e4688890742b92d9a67fdf0]\n",
       "reverse link E14 to E15--><a href=\"psysml:df4b3059-af15-4a6e-9f16-4ce8d388f00c\" target=\"_top\" title=\"psysml:df4b3059-af15-4a6e-9f16-4ce8d388f00c\" xlink:actuate=\"onRequest\" xlink:href=\"psysml:df4b3059-af15-4a6e-9f16-4ce8d388f00c\" xlink:show=\"new\" xlink:title=\"psysml:df4b3059-af15-4a6e-9f16-4ce8d388f00c\" xlink:type=\"simple\"><path d=\"M118,110.79 C118,134.03 118,163.75 118,183.75 \" fill=\"none\" id=\"E14&lt;-E15\" style=\"stroke: #383838; stroke-width: 1.0;\"/><polygon fill=\"#383838\" points=\"118,97.64,114,103.64,118,109.64,122,103.64,118,97.64\" style=\"stroke: #383838; stroke-width: 1.0;\"/></a><!--MD5=[1b01d5b954197aaf3899ca0bde35faf5]\n",
       "link E15 to E8--><a href=\"psysml:b8e5c057-83f1-47ef-94c9-1676b303e623\" target=\"_top\" title=\"psysml:b8e5c057-83f1-47ef-94c9-1676b303e623\" xlink:actuate=\"onRequest\" xlink:href=\"psysml:b8e5c057-83f1-47ef-94c9-1676b303e623\" xlink:show=\"new\" xlink:title=\"psysml:b8e5c057-83f1-47ef-94c9-1676b303e623\" xlink:type=\"simple\"><path d=\"M147.81,230.15 C184.47,257.4 245.87,303.03 278.7,327.43 \" fill=\"none\" id=\"E15-&gt;E8\" style=\"stroke: #383838; stroke-width: 1.0;\"/><polygon fill=\"#FFFFFF\" points=\"278.7,327.43,259.2749,321.7145,267.6261,310.478,278.7,327.43\" style=\"stroke: #383838; stroke-width: 1.0;\"/><ellipse cx=\"255.8931\" cy=\"316.7091\" fill=\"#383838\" rx=\"2\" ry=\"2\" style=\"stroke: #383838; stroke-width: 1.0;\"/><ellipse cx=\"261.8583\" cy=\"308.6831\" fill=\"#383838\" rx=\"2\" ry=\"2\" style=\"stroke: #383838; stroke-width: 1.0;\"/></a><!--MD5=[f8b155c46b092be73bb522b0a8fc72a2]\n",
       "link E15 to E16--><a href=\"psysml:7d3bd451-2ef5-4e75-9594-2e0dd7330291\" target=\"_top\" title=\"psysml:7d3bd451-2ef5-4e75-9594-2e0dd7330291\" xlink:actuate=\"onRequest\" xlink:href=\"psysml:7d3bd451-2ef5-4e75-9594-2e0dd7330291\" xlink:show=\"new\" xlink:title=\"psysml:7d3bd451-2ef5-4e75-9594-2e0dd7330291\" xlink:type=\"simple\"><path d=\"M118,230.15 C118,252.87 118,288.38 118,313.69 \" fill=\"none\" id=\"E15-&gt;E16\" style=\"stroke: #383838; stroke-width: 1.0;\"/><polygon fill=\"#383838\" points=\"118,321.86,121,313.86,115,313.86,118,321.86\" style=\"stroke: #383838; stroke-width: 1.0;\"/><text fill=\"#000000\" font-family=\"sans-serif\" font-size=\"13\" lengthAdjust=\"spacingAndGlyphs\" textLength=\"73\" x=\"119\" y=\"288.0669\">«objective»</text><text fill=\"#000000\" font-family=\"sans-serif\" font-size=\"13\" lengthAdjust=\"spacingAndGlyphs\" textLength=\"8\" x=\"108.975\" y=\"311.1004\">1</text></a><!--MD5=[7c53518b1d9d7212d1849add9081b2fc]\n",
       "@startuml\r\n",
       "skinparam linetype polyline\r\n",
       "skinparam monochrome true\r\n",
       "skinparam classbackgroundcolor white\r\n",
       "skinparam shadowing false\r\n",
       "skinparam wrapWidth 300\r\n",
       "hide circle\r\n",
       "\r\n",
       "package \"AnalysisTest\" as E1  [[psysml:d47d9c93-f987-42aa-9c82-a11afa9e7a85 ]]  {\r\n",
       "comp def \"V\" as E2  <<(T,blue) part  def>> [[psysml:6e318fc7-f06d-4e4c-8e44-1e6d0f884455 ]] {\r\n",
       "- - references - -\r\n",
       "m\r\n",
       "}\r\n",
       "comp usage \"vv: V \" as E3  <<(T,blue) part>> [[psysml:27999d5c-daad-4ed7-92ff-020a622ea083 ]] {\r\n",
       "}\r\n",
       "comp def \"AnalysisObjective\" as E4  <<(T,blue) requirement  def>> [[psysml:31fce779-d9ab-452b-8111-7f3c68bff972 ]] {\r\n",
       "...\r\n",
       "- -\r\n",
       "}\r\n",
       "rec def \"AnalysisCase\" as E5 << analysis def>> [[psysml:0d42cad1-3808-4e7b-8fe6-f660e27fd2bd ]] {\r\n",
       "portin \"v\" as E6  [[psysml:f7aad551-6165-4689-8df3-b128f6f54571 ]] \r\n",
       "portout \"result\" as E7  [[psysml:d8a9a5d1-c1b2-404a-b54f-35037ecf4c2d ]] \r\n",
       "}\r\n",
       "\r\n",
       "rec def \"AnalysisPlan\" as E8 << analysis def>> [[psysml:058a72e0-0a98-4261-856d-73366cf47a25 ]] {\r\n",
       "portin \"v\" as E9  [[psysml:40d43c87-89d5-4dcb-a988-f011f6f29ac5 ]] \r\n",
       "rec usage \"analysisCase\" as E10 << analysis>> [[psysml:ebac0614-db53-4f6a-a11b-2a64966401ed ]] {\r\n",
       "portout \"mass\" as E11  [[psysml:94298e01-1500-44a7-8244-0cc3e5620ae6 ]] \r\n",
       "portin \"v\" as E12  [[psysml:fabccdcf-1c94-4d5c-8a0b-5626b651aa80 ]] \r\n",
       "}\r\n",
       "\r\n",
       "portout \"result\" as E13  [[psysml:633f1383-e65f-4e22-9e6d-6ffcdde4bc38 ]] \r\n",
       "}\r\n",
       "\r\n",
       "comp usage \"analysisContext\" as E14  <<(T,blue) part>> [[psysml:2f29b586-744b-44a6-b354-0cb36fac52ba ]] {\r\n",
       "}\r\n",
       "comp usage \"analysisPlan: AnalysisPlan \" as E15 << analysis>> [[psysml:cfe8b385-7bc2-406c-91e1-db9911ba5874 ]] {\r\n",
       "}\r\n",
       "comp usage \"obj\" as E16  <<(T,blue) requirement>> [[psysml:63325e1e-8a82-4691-b26b-3354962a7cad ]] {\r\n",
       "}\r\n",
       "}\r\n",
       "E3 - -:|> E2 [[psysml:4413170d-8387-4bcf-a661-a8e63eefb5dc ]] \r\n",
       "E14 *- - E15 [[psysml:df4b3059-af15-4a6e-9f16-4ce8d388f00c ]] \r\n",
       "E15 - -:|> E8 [[psysml:b8e5c057-83f1-47ef-94c9-1676b303e623 ]] \r\n",
       "E15 - ->> \"1\"E16 [[psysml:7d3bd451-2ef5-4e75-9594-2e0dd7330291 ]] : <<objective>>\r\n",
       "@enduml\r\n",
       "\n",
       "PlantUML version 1.2020.13(Sat Jun 13 12:26:38 UTC 2020)\n",
       "(EPL source distribution)\n",
       "Java Runtime: OpenJDK Runtime Environment\n",
       "JVM: OpenJDK 64-Bit Server VM\n",
       "Default Encoding: UTF-8\n",
       "Language: en\n",
       "Country: null\n",
       "--></g></svg>"
      ]
     },
     "execution_count": 15,
     "metadata": {},
     "output_type": "execute_result"
    }
   ],
   "source": [
    "%viz --style=\"POLYLINE\" --view=\"MIXED\" \"AnalysisTest\""
   ]
  },
  {
   "cell_type": "code",
   "execution_count": 16,
   "id": "8188c608",
   "metadata": {
    "execution": {
     "iopub.execute_input": "2021-11-13T12:57:18.439845Z",
     "iopub.status.busy": "2021-11-13T12:57:18.439437Z",
     "iopub.status.idle": "2021-11-13T12:57:18.513692Z",
     "shell.execute_reply": "2021-11-13T12:57:18.513356Z"
    }
   },
   "outputs": [
    {
     "data": {
      "image/svg+xml": [
       "<?xml version=\"1.0\" encoding=\"UTF-8\" standalone=\"no\"?><svg xmlns=\"http://www.w3.org/2000/svg\" xmlns:xlink=\"http://www.w3.org/1999/xlink\" contentScriptType=\"application/ecmascript\" contentStyleType=\"text/css\" height=\"504px\" preserveAspectRatio=\"none\" style=\"width:1005px;height:504px;\" version=\"1.1\" viewBox=\"0 0 1005 504\" width=\"1005px\" zoomAndPan=\"magnify\"><defs/><g><!--MD5=[fbc87193dbaf4d95561dea2c320d4a47]\n",
       "cluster E1--><a href=\"psysml:d47d9c93-f987-42aa-9c82-a11afa9e7a85\" target=\"_top\" title=\"psysml:d47d9c93-f987-42aa-9c82-a11afa9e7a85\" xlink:actuate=\"onRequest\" xlink:href=\"psysml:d47d9c93-f987-42aa-9c82-a11afa9e7a85\" xlink:show=\"new\" xlink:title=\"psysml:d47d9c93-f987-42aa-9c82-a11afa9e7a85\" xlink:type=\"simple\"><polygon fill=\"#FFFFFF\" points=\"16,6,108,6,115,28.2969,983,28.2969,983,492,16,492,16,6\" style=\"stroke: #000000; stroke-width: 1.5;\"/><line style=\"stroke: #000000; stroke-width: 1.5;\" x1=\"16\" x2=\"115\" y1=\"28.2969\" y2=\"28.2969\"/><text fill=\"#000000\" font-family=\"sans-serif\" font-size=\"14\" font-weight=\"bold\" lengthAdjust=\"spacingAndGlyphs\" textLength=\"86\" x=\"20\" y=\"20.9951\">AnalysisTest</text></a><!--MD5=[de5ec2e2e8f62f467e546659f5068c88]\n",
       "cluster E5--><a href=\"psysml:0d42cad1-3808-4e7b-8fe6-f660e27fd2bd\" target=\"_top\" title=\"psysml:0d42cad1-3808-4e7b-8fe6-f660e27fd2bd\" xlink:actuate=\"onRequest\" xlink:href=\"psysml:0d42cad1-3808-4e7b-8fe6-f660e27fd2bd\" xlink:show=\"new\" xlink:title=\"psysml:0d42cad1-3808-4e7b-8fe6-f660e27fd2bd\" xlink:type=\"simple\"><rect fill=\"#FFFFFF\" height=\"68\" id=\"E5\" style=\"stroke: #383838; stroke-width: 1.5;\" width=\"578.5\" x=\"92.5\" y=\"41\"/><rect fill=\"#F8F8F8\" height=\"37.9375\" style=\"stroke: #383838; stroke-width: 1.5;\" width=\"578.5\" x=\"92.5\" y=\"41\"/><text fill=\"#000000\" font-family=\"sans-serif\" font-size=\"12\" font-style=\"italic\" lengthAdjust=\"spacingAndGlyphs\" textLength=\"88\" x=\"337.75\" y=\"57.1387\">«analysis def»</text><text fill=\"#000000\" font-family=\"sans-serif\" font-size=\"12\" lengthAdjust=\"spacingAndGlyphs\" textLength=\"81\" x=\"341.25\" y=\"71.1074\">AnalysisCase</text></a><!--MD5=[55dfccfc6c49c2d10cd1bd2211a6c90c]\n",
       "cluster E8--><a href=\"psysml:058a72e0-0a98-4261-856d-73366cf47a25\" target=\"_top\" title=\"psysml:058a72e0-0a98-4261-856d-73366cf47a25\" xlink:actuate=\"onRequest\" xlink:href=\"psysml:058a72e0-0a98-4261-856d-73366cf47a25\" xlink:show=\"new\" xlink:title=\"psysml:058a72e0-0a98-4261-856d-73366cf47a25\" xlink:type=\"simple\"><rect fill=\"#FFFFFF\" height=\"132\" id=\"E8\" style=\"stroke: #383838; stroke-width: 1.5;\" width=\"677\" x=\"282\" y=\"234\"/><rect fill=\"#F8F8F8\" height=\"37.9375\" style=\"stroke: #383838; stroke-width: 1.5;\" width=\"677\" x=\"282\" y=\"234\"/><text fill=\"#000000\" font-family=\"sans-serif\" font-size=\"12\" font-style=\"italic\" lengthAdjust=\"spacingAndGlyphs\" textLength=\"88\" x=\"576.5\" y=\"250.1387\">«analysis def»</text><text fill=\"#000000\" font-family=\"sans-serif\" font-size=\"12\" lengthAdjust=\"spacingAndGlyphs\" textLength=\"77\" x=\"582\" y=\"264.1074\">AnalysisPlan</text></a><!--MD5=[a84b4591f868c1fa4a211716a82f2f0d]\n",
       "cluster E10--><a href=\"psysml:ebac0614-db53-4f6a-a11b-2a64966401ed\" target=\"_top\" title=\"psysml:ebac0614-db53-4f6a-a11b-2a64966401ed\" xlink:actuate=\"onRequest\" xlink:href=\"psysml:ebac0614-db53-4f6a-a11b-2a64966401ed\" xlink:show=\"new\" xlink:title=\"psysml:ebac0614-db53-4f6a-a11b-2a64966401ed\" xlink:type=\"simple\"><rect fill=\"#FFFFFF\" height=\"68\" id=\"E10\" rx=\"10\" ry=\"10\" style=\"stroke: #383838; stroke-width: 1.5;\" width=\"343\" x=\"578\" y=\"272\"/><rect fill=\"#F8F8F8\" height=\"37.9375\" rx=\"10\" ry=\"10\" style=\"stroke: #F8F8F8; stroke-width: 1.5;\" width=\"343\" x=\"578\" y=\"272\"/><rect fill=\"#F8F8F8\" height=\"10\" style=\"stroke: #F8F8F8; stroke-width: 1.5;\" width=\"343\" x=\"578\" y=\"299.9375\"/><rect fill=\"none\" height=\"68\" id=\"E10\" rx=\"10\" ry=\"10\" style=\"stroke: #383838; stroke-width: 1.5;\" width=\"343\" x=\"578\" y=\"272\"/><text fill=\"#000000\" font-family=\"sans-serif\" font-size=\"12\" font-style=\"italic\" lengthAdjust=\"spacingAndGlyphs\" textLength=\"64\" x=\"717.5\" y=\"288.1387\">«analysis»</text><text fill=\"#000000\" font-family=\"sans-serif\" font-size=\"12\" lengthAdjust=\"spacingAndGlyphs\" textLength=\"81\" x=\"709\" y=\"302.1074\">analysisCase</text><line style=\"stroke: #383838; stroke-width: 1.0;\" x1=\"578\" x2=\"921\" y1=\"309.9375\" y2=\"309.9375\"/></a><!--MD5=[b4997ac47864f28c2f74865a473b2911]\n",
       "class E2--><a href=\"psysml:6e318fc7-f06d-4e4c-8e44-1e6d0f884455\" target=\"_top\" title=\"psysml:6e318fc7-f06d-4e4c-8e44-1e6d0f884455\" xlink:actuate=\"onRequest\" xlink:href=\"psysml:6e318fc7-f06d-4e4c-8e44-1e6d0f884455\" xlink:show=\"new\" xlink:title=\"psysml:6e318fc7-f06d-4e4c-8e44-1e6d0f884455\" xlink:type=\"simple\"><rect fill=\"#FFFFFF\" height=\"75.5469\" id=\"E2\" style=\"stroke: #383838; stroke-width: 1.5;\" width=\"70\" x=\"265\" y=\"128\"/><text fill=\"#000000\" font-family=\"sans-serif\" font-size=\"12\" font-style=\"italic\" lengthAdjust=\"spacingAndGlyphs\" textLength=\"68\" x=\"266\" y=\"144.1387\">«part  def»</text><text fill=\"#000000\" font-family=\"sans-serif\" font-size=\"12\" lengthAdjust=\"spacingAndGlyphs\" textLength=\"8\" x=\"296\" y=\"158.1074\">V</text><line style=\"stroke: #383838; stroke-width: 1.5;\" x1=\"266\" x2=\"334\" y1=\"165.9375\" y2=\"165.9375\"/><text fill=\"#000000\" font-family=\"sans-serif\" font-size=\"11\" lengthAdjust=\"spacingAndGlyphs\" textLength=\"11\" x=\"271\" y=\"196.9526\">m</text><line style=\"stroke: #383838; stroke-width: 1.0;\" x1=\"266\" x2=\"269\" y1=\"180.3398\" y2=\"180.3398\"/><text fill=\"#000000\" font-family=\"sans-serif\" font-size=\"11\" lengthAdjust=\"spacingAndGlyphs\" textLength=\"62\" x=\"269\" y=\"183.6479\">references</text><line style=\"stroke: #383838; stroke-width: 1.0;\" x1=\"331\" x2=\"334\" y1=\"180.3398\" y2=\"180.3398\"/></a><!--MD5=[09b614a08d8cba4a07c9adeb5e0fee81]\n",
       "class E3--><a href=\"psysml:27999d5c-daad-4ed7-92ff-020a622ea083\" target=\"_top\" title=\"psysml:27999d5c-daad-4ed7-92ff-020a622ea083\" xlink:actuate=\"onRequest\" xlink:href=\"psysml:27999d5c-daad-4ed7-92ff-020a622ea083\" xlink:show=\"new\" xlink:title=\"psysml:27999d5c-daad-4ed7-92ff-020a622ea083\" xlink:type=\"simple\"><rect fill=\"#FFFFFF\" height=\"45.9375\" id=\"E3\" rx=\"10\" ry=\"10\" style=\"stroke: #383838; stroke-width: 1.5;\" width=\"42\" x=\"71.5\" y=\"143\"/><text fill=\"#000000\" font-family=\"sans-serif\" font-size=\"12\" font-style=\"italic\" lengthAdjust=\"spacingAndGlyphs\" textLength=\"40\" x=\"72.5\" y=\"159.1387\">«part»</text><text fill=\"#000000\" font-family=\"sans-serif\" font-size=\"12\" lengthAdjust=\"spacingAndGlyphs\" textLength=\"28\" x=\"76.5\" y=\"173.1074\">vv: V</text><line style=\"stroke: #383838; stroke-width: 1.5;\" x1=\"72.5\" x2=\"112.5\" y1=\"180.9375\" y2=\"180.9375\"/></a><!--MD5=[ebbe1d658d1005bcc118a6aa81145e00]\n",
       "class E4--><a href=\"psysml:31fce779-d9ab-452b-8111-7f3c68bff972\" target=\"_top\" title=\"psysml:31fce779-d9ab-452b-8111-7f3c68bff972\" xlink:actuate=\"onRequest\" xlink:href=\"psysml:31fce779-d9ab-452b-8111-7f3c68bff972\" xlink:show=\"new\" xlink:title=\"psysml:31fce779-d9ab-452b-8111-7f3c68bff972\" xlink:type=\"simple\"><rect fill=\"#FFFFFF\" height=\"66.7422\" id=\"E4\" style=\"stroke: #383838; stroke-width: 1.5;\" width=\"121\" x=\"32\" y=\"272.5\"/><text fill=\"#000000\" font-family=\"sans-serif\" font-size=\"12\" font-style=\"italic\" lengthAdjust=\"spacingAndGlyphs\" textLength=\"119\" x=\"33\" y=\"288.6387\">«requirement  def»</text><text fill=\"#000000\" font-family=\"sans-serif\" font-size=\"12\" lengthAdjust=\"spacingAndGlyphs\" textLength=\"107\" x=\"39\" y=\"302.6074\">AnalysisObjective</text><line style=\"stroke: #383838; stroke-width: 1.5;\" x1=\"33\" x2=\"152\" y1=\"310.4375\" y2=\"310.4375\"/><text fill=\"#000000\" font-family=\"sans-serif\" font-size=\"11\" lengthAdjust=\"spacingAndGlyphs\" textLength=\"12\" x=\"38\" y=\"324.6479\">...</text><line style=\"stroke: #383838; stroke-width: 1.0;\" x1=\"33\" x2=\"152\" y1=\"331.2422\" y2=\"331.2422\"/></a><!--MD5=[bee11217b2f71d958a27249dc326068c]\n",
       "class E14--><a href=\"psysml:2f29b586-744b-44a6-b354-0cb36fac52ba\" target=\"_top\" title=\"psysml:2f29b586-744b-44a6-b354-0cb36fac52ba\" xlink:actuate=\"onRequest\" xlink:href=\"psysml:2f29b586-744b-44a6-b354-0cb36fac52ba\" xlink:show=\"new\" xlink:title=\"psysml:2f29b586-744b-44a6-b354-0cb36fac52ba\" xlink:type=\"simple\"><rect fill=\"#FFFFFF\" height=\"45.9375\" id=\"E14\" rx=\"10\" ry=\"10\" style=\"stroke: #383838; stroke-width: 1.5;\" width=\"104\" x=\"40.5\" y=\"424\"/><text fill=\"#000000\" font-family=\"sans-serif\" font-size=\"12\" font-style=\"italic\" lengthAdjust=\"spacingAndGlyphs\" textLength=\"40\" x=\"72.5\" y=\"440.1387\">«part»</text><text fill=\"#000000\" font-family=\"sans-serif\" font-size=\"12\" lengthAdjust=\"spacingAndGlyphs\" textLength=\"98\" x=\"43.5\" y=\"454.1074\">analysisContext</text><line style=\"stroke: #383838; stroke-width: 1.5;\" x1=\"41.5\" x2=\"143.5\" y1=\"461.9375\" y2=\"461.9375\"/></a><!--MD5=[0c48fb7552dae8cbbef69381101a84c8]\n",
       "class E15--><a href=\"psysml:cfe8b385-7bc2-406c-91e1-db9911ba5874\" target=\"_top\" title=\"psysml:cfe8b385-7bc2-406c-91e1-db9911ba5874\" xlink:actuate=\"onRequest\" xlink:href=\"psysml:cfe8b385-7bc2-406c-91e1-db9911ba5874\" xlink:show=\"new\" xlink:title=\"psysml:cfe8b385-7bc2-406c-91e1-db9911ba5874\" xlink:type=\"simple\"><rect fill=\"#FFFFFF\" height=\"45.9375\" id=\"E15\" rx=\"10\" ry=\"10\" style=\"stroke: #383838; stroke-width: 1.5;\" width=\"172\" x=\"214\" y=\"424\"/><text fill=\"#000000\" font-family=\"sans-serif\" font-size=\"12\" font-style=\"italic\" lengthAdjust=\"spacingAndGlyphs\" textLength=\"64\" x=\"268\" y=\"440.1387\">«analysis»</text><text fill=\"#000000\" font-family=\"sans-serif\" font-size=\"12\" lengthAdjust=\"spacingAndGlyphs\" textLength=\"162\" x=\"217\" y=\"454.1074\">analysisPlan: AnalysisPlan</text><line style=\"stroke: #383838; stroke-width: 1.5;\" x1=\"215\" x2=\"385\" y1=\"461.9375\" y2=\"461.9375\"/></a><!--MD5=[35f0587eaee8d5bb9a02e25b63afc23b]\n",
       "class E16--><a href=\"psysml:63325e1e-8a82-4691-b26b-3354962a7cad\" target=\"_top\" title=\"psysml:63325e1e-8a82-4691-b26b-3354962a7cad\" xlink:actuate=\"onRequest\" xlink:href=\"psysml:63325e1e-8a82-4691-b26b-3354962a7cad\" xlink:show=\"new\" xlink:title=\"psysml:63325e1e-8a82-4691-b26b-3354962a7cad\" xlink:type=\"simple\"><rect fill=\"#FFFFFF\" height=\"45.9375\" id=\"E16\" rx=\"10\" ry=\"10\" style=\"stroke: #383838; stroke-width: 1.5;\" width=\"93\" x=\"531.5\" y=\"424\"/><text fill=\"#000000\" font-family=\"sans-serif\" font-size=\"12\" font-style=\"italic\" lengthAdjust=\"spacingAndGlyphs\" textLength=\"91\" x=\"532.5\" y=\"440.1387\">«requirement»</text><text fill=\"#000000\" font-family=\"sans-serif\" font-size=\"12\" lengthAdjust=\"spacingAndGlyphs\" textLength=\"19\" x=\"568.5\" y=\"454.1074\">obj</text><line style=\"stroke: #383838; stroke-width: 1.5;\" x1=\"532.5\" x2=\"623.5\" y1=\"461.9375\" y2=\"461.9375\"/></a><text fill=\"#000000\" font-family=\"sans-serif\" font-size=\"14\" lengthAdjust=\"spacingAndGlyphs\" textLength=\"7\" x=\"89\" y=\"53.6982\">v</text><rect fill=\"#383838\" height=\"12\" style=\"stroke: #F8F8F8; stroke-width: 1.5;\" width=\"12\" x=\"86.5\" y=\"69\"/><text fill=\"#000000\" font-family=\"sans-serif\" font-size=\"14\" lengthAdjust=\"spacingAndGlyphs\" textLength=\"39\" x=\"651.5\" y=\"53.6982\">result</text><rect fill=\"#383838\" height=\"12\" style=\"stroke: #F8F8F8; stroke-width: 1.5;\" width=\"12\" x=\"665\" y=\"69\"/><text fill=\"#000000\" font-family=\"sans-serif\" font-size=\"14\" lengthAdjust=\"spacingAndGlyphs\" textLength=\"7\" x=\"296.5\" y=\"384.9951\">v</text><rect fill=\"#383838\" height=\"12\" style=\"stroke: #F8F8F8; stroke-width: 1.5;\" width=\"12\" x=\"294\" y=\"360\"/><text fill=\"#000000\" font-family=\"sans-serif\" font-size=\"14\" lengthAdjust=\"spacingAndGlyphs\" textLength=\"39\" x=\"828.5\" y=\"212.6982\">result</text><rect fill=\"#383838\" height=\"12\" style=\"stroke: #F8F8F8; stroke-width: 1.5;\" width=\"12\" x=\"842\" y=\"228\"/><text fill=\"#000000\" font-family=\"sans-serif\" font-size=\"14\" lengthAdjust=\"spacingAndGlyphs\" textLength=\"37\" x=\"902.5\" y=\"284.6982\">mass</text><rect fill=\"#383838\" height=\"12\" style=\"stroke: #F8F8F8; stroke-width: 1.5;\" width=\"12\" x=\"915\" y=\"300\"/><text fill=\"#000000\" font-family=\"sans-serif\" font-size=\"14\" lengthAdjust=\"spacingAndGlyphs\" textLength=\"7\" x=\"574.5\" y=\"284.6982\">v</text><rect fill=\"#383838\" height=\"12\" style=\"stroke: #F8F8F8; stroke-width: 1.5;\" width=\"12\" x=\"572\" y=\"300\"/><!--MD5=[05d275557350bfb9b23a4ef7222b4c39]\n",
       "link E3 to E2--><a href=\"psysml:4413170d-8387-4bcf-a661-a8e63eefb5dc\" target=\"_top\" title=\"psysml:4413170d-8387-4bcf-a661-a8e63eefb5dc\" xlink:actuate=\"onRequest\" xlink:href=\"psysml:4413170d-8387-4bcf-a661-a8e63eefb5dc\" xlink:show=\"new\" xlink:title=\"psysml:4413170d-8387-4bcf-a661-a8e63eefb5dc\" xlink:type=\"simple\"><path d=\"M113.58,166 C143.71,166 201.7,166 244.84,166 \" fill=\"none\" id=\"E3-&gt;E2\" style=\"stroke: #383838; stroke-width: 1.0;\"/><polygon fill=\"#FFFFFF\" points=\"264.93,166,245.93,173,245.93,159,264.93,166\" style=\"stroke: #383838; stroke-width: 1.0;\"/><ellipse cx=\"240.23\" cy=\"171\" fill=\"#383838\" rx=\"2\" ry=\"2\" style=\"stroke: #383838; stroke-width: 1.0;\"/><ellipse cx=\"240.23\" cy=\"161\" fill=\"#383838\" rx=\"2\" ry=\"2\" style=\"stroke: #383838; stroke-width: 1.0;\"/></a><!--MD5=[17bf29720e4688890742b92d9a67fdf0]\n",
       "reverse link E14 to E15--><a href=\"psysml:df4b3059-af15-4a6e-9f16-4ce8d388f00c\" target=\"_top\" title=\"psysml:df4b3059-af15-4a6e-9f16-4ce8d388f00c\" xlink:actuate=\"onRequest\" xlink:href=\"psysml:df4b3059-af15-4a6e-9f16-4ce8d388f00c\" xlink:show=\"new\" xlink:title=\"psysml:df4b3059-af15-4a6e-9f16-4ce8d388f00c\" xlink:type=\"simple\"><path d=\"M157.75,447 C175.5,447 195.05,447 213.79,447 \" fill=\"none\" id=\"E14&lt;-E15\" style=\"stroke: #383838; stroke-width: 1.0;\"/><polygon fill=\"#383838\" points=\"144.56,447,150.56,451,156.56,447,150.56,443,144.56,447\" style=\"stroke: #383838; stroke-width: 1.0;\"/></a><!--MD5=[1b01d5b954197aaf3899ca0bde35faf5]\n",
       "link E15 to E8--><a href=\"psysml:b8e5c057-83f1-47ef-94c9-1676b303e623\" target=\"_top\" title=\"psysml:b8e5c057-83f1-47ef-94c9-1676b303e623\" xlink:actuate=\"onRequest\" xlink:href=\"psysml:b8e5c057-83f1-47ef-94c9-1676b303e623\" xlink:show=\"new\" xlink:title=\"psysml:b8e5c057-83f1-47ef-94c9-1676b303e623\" xlink:type=\"simple\"><path d=\"M379.45,423.88 C417.38,412.72 463.55,399.14 505,387 C510.12,385.5 515.45,383.94 520.79,382.38 \" fill=\"none\" id=\"E15-&gt;E8\" style=\"stroke: #383838; stroke-width: 1.0;\"/><polygon fill=\"#FFFFFF\" points=\"520.79,382.38,504.5152,394.427,500.5894,380.9887,520.79,382.38\" style=\"stroke: #383838; stroke-width: 1.0;\"/><ellipse cx=\"498.4831\" cy=\"394.1056\" fill=\"#383838\" rx=\"2\" ry=\"2\" style=\"stroke: #383838; stroke-width: 1.0;\"/><ellipse cx=\"495.6789\" cy=\"384.5068\" fill=\"#383838\" rx=\"2\" ry=\"2\" style=\"stroke: #383838; stroke-width: 1.0;\"/></a><!--MD5=[f8b155c46b092be73bb522b0a8fc72a2]\n",
       "link E15 to E16--><a href=\"psysml:7d3bd451-2ef5-4e75-9594-2e0dd7330291\" target=\"_top\" title=\"psysml:7d3bd451-2ef5-4e75-9594-2e0dd7330291\" xlink:actuate=\"onRequest\" xlink:href=\"psysml:7d3bd451-2ef5-4e75-9594-2e0dd7330291\" xlink:show=\"new\" xlink:title=\"psysml:7d3bd451-2ef5-4e75-9594-2e0dd7330291\" xlink:type=\"simple\"><path d=\"M386.06,447 C430.72,447 484.09,447 523.04,447 \" fill=\"none\" id=\"E15-&gt;E16\" style=\"stroke: #383838; stroke-width: 1.0;\"/><polygon fill=\"#383838\" points=\"531.13,447,523.13,444,523.13,450,531.13,447\" style=\"stroke: #383838; stroke-width: 1.0;\"/><text fill=\"#000000\" font-family=\"sans-serif\" font-size=\"13\" lengthAdjust=\"spacingAndGlyphs\" textLength=\"73\" x=\"417\" y=\"443.0669\">«objective»</text><text fill=\"#000000\" font-family=\"sans-serif\" font-size=\"13\" lengthAdjust=\"spacingAndGlyphs\" textLength=\"8\" x=\"515.6585\" y=\"460.1828\">1</text></a><!--MD5=[eee3e23dcf4afd859296cdc925cc6bc1]\n",
       "@startuml\r\n",
       "left to right direction\r\n",
       "skinparam monochrome true\r\n",
       "skinparam classbackgroundcolor white\r\n",
       "skinparam shadowing false\r\n",
       "skinparam wrapWidth 300\r\n",
       "hide circle\r\n",
       "\r\n",
       "package \"AnalysisTest\" as E1  [[psysml:d47d9c93-f987-42aa-9c82-a11afa9e7a85 ]]  {\r\n",
       "comp def \"V\" as E2  <<(T,blue) part  def>> [[psysml:6e318fc7-f06d-4e4c-8e44-1e6d0f884455 ]] {\r\n",
       "- - references - -\r\n",
       "m\r\n",
       "}\r\n",
       "comp usage \"vv: V \" as E3  <<(T,blue) part>> [[psysml:27999d5c-daad-4ed7-92ff-020a622ea083 ]] {\r\n",
       "}\r\n",
       "comp def \"AnalysisObjective\" as E4  <<(T,blue) requirement  def>> [[psysml:31fce779-d9ab-452b-8111-7f3c68bff972 ]] {\r\n",
       "...\r\n",
       "- -\r\n",
       "}\r\n",
       "rec def \"AnalysisCase\" as E5 << analysis def>> [[psysml:0d42cad1-3808-4e7b-8fe6-f660e27fd2bd ]] {\r\n",
       "portin \"v\" as E6  [[psysml:f7aad551-6165-4689-8df3-b128f6f54571 ]] \r\n",
       "portout \"result\" as E7  [[psysml:d8a9a5d1-c1b2-404a-b54f-35037ecf4c2d ]] \r\n",
       "}\r\n",
       "\r\n",
       "rec def \"AnalysisPlan\" as E8 << analysis def>> [[psysml:058a72e0-0a98-4261-856d-73366cf47a25 ]] {\r\n",
       "portin \"v\" as E9  [[psysml:40d43c87-89d5-4dcb-a988-f011f6f29ac5 ]] \r\n",
       "rec usage \"analysisCase\" as E10 << analysis>> [[psysml:ebac0614-db53-4f6a-a11b-2a64966401ed ]] {\r\n",
       "portout \"mass\" as E11  [[psysml:94298e01-1500-44a7-8244-0cc3e5620ae6 ]] \r\n",
       "portin \"v\" as E12  [[psysml:fabccdcf-1c94-4d5c-8a0b-5626b651aa80 ]] \r\n",
       "}\r\n",
       "\r\n",
       "portout \"result\" as E13  [[psysml:633f1383-e65f-4e22-9e6d-6ffcdde4bc38 ]] \r\n",
       "}\r\n",
       "\r\n",
       "comp usage \"analysisContext\" as E14  <<(T,blue) part>> [[psysml:2f29b586-744b-44a6-b354-0cb36fac52ba ]] {\r\n",
       "}\r\n",
       "comp usage \"analysisPlan: AnalysisPlan \" as E15 << analysis>> [[psysml:cfe8b385-7bc2-406c-91e1-db9911ba5874 ]] {\r\n",
       "}\r\n",
       "comp usage \"obj\" as E16  <<(T,blue) requirement>> [[psysml:63325e1e-8a82-4691-b26b-3354962a7cad ]] {\r\n",
       "}\r\n",
       "}\r\n",
       "E3 - -:|> E2 [[psysml:4413170d-8387-4bcf-a661-a8e63eefb5dc ]] \r\n",
       "E14 *- - E15 [[psysml:df4b3059-af15-4a6e-9f16-4ce8d388f00c ]] \r\n",
       "E15 - -:|> E8 [[psysml:b8e5c057-83f1-47ef-94c9-1676b303e623 ]] \r\n",
       "E15 - ->> \"1\"E16 [[psysml:7d3bd451-2ef5-4e75-9594-2e0dd7330291 ]] : <<objective>>\r\n",
       "@enduml\r\n",
       "\n",
       "PlantUML version 1.2020.13(Sat Jun 13 12:26:38 UTC 2020)\n",
       "(EPL source distribution)\n",
       "Java Runtime: OpenJDK Runtime Environment\n",
       "JVM: OpenJDK 64-Bit Server VM\n",
       "Default Encoding: UTF-8\n",
       "Language: en\n",
       "Country: null\n",
       "--></g></svg>"
      ]
     },
     "execution_count": 16,
     "metadata": {},
     "output_type": "execute_result"
    }
   ],
   "source": [
    "%viz --style=\"LR\" --view=\"Default\" \"AnalysisTest\""
   ]
  },
  {
   "cell_type": "code",
   "execution_count": 17,
   "id": "01450180",
   "metadata": {
    "execution": {
     "iopub.execute_input": "2021-11-13T12:57:18.563124Z",
     "iopub.status.busy": "2021-11-13T12:57:18.562727Z",
     "iopub.status.idle": "2021-11-13T12:57:18.639266Z",
     "shell.execute_reply": "2021-11-13T12:57:18.636996Z"
    }
   },
   "outputs": [
    {
     "data": {
      "image/svg+xml": [
       "<?xml version=\"1.0\" encoding=\"UTF-8\" standalone=\"no\"?><svg xmlns=\"http://www.w3.org/2000/svg\" xmlns:xlink=\"http://www.w3.org/1999/xlink\" contentScriptType=\"application/ecmascript\" contentStyleType=\"text/css\" height=\"366px\" preserveAspectRatio=\"none\" style=\"width:1682px;height:366px;\" version=\"1.1\" viewBox=\"0 0 1682 366\" width=\"1682px\" zoomAndPan=\"magnify\"><defs/><g><!--MD5=[fbc87193dbaf4d95561dea2c320d4a47]\n",
       "cluster E1--><a href=\"psysml:d47d9c93-f987-42aa-9c82-a11afa9e7a85\" target=\"_top\" title=\"psysml:d47d9c93-f987-42aa-9c82-a11afa9e7a85\" xlink:actuate=\"onRequest\" xlink:href=\"psysml:d47d9c93-f987-42aa-9c82-a11afa9e7a85\" xlink:show=\"new\" xlink:title=\"psysml:d47d9c93-f987-42aa-9c82-a11afa9e7a85\" xlink:type=\"simple\"><polygon fill=\"#FFFFFF\" points=\"16,6,108,6,115,28.2969,1660,28.2969,1660,332,16,332,16,6\" style=\"stroke: #000000; stroke-width: 1.5;\"/><line style=\"stroke: #000000; stroke-width: 1.5;\" x1=\"16\" x2=\"115\" y1=\"28.2969\" y2=\"28.2969\"/><text fill=\"#000000\" font-family=\"sans-serif\" font-size=\"14\" font-weight=\"bold\" lengthAdjust=\"spacingAndGlyphs\" textLength=\"86\" x=\"20\" y=\"20.9951\">AnalysisTest</text></a><!--MD5=[b4997ac47864f28c2f74865a473b2911]\n",
       "class E2--><a href=\"psysml:6e318fc7-f06d-4e4c-8e44-1e6d0f884455\" target=\"_top\" title=\"psysml:6e318fc7-f06d-4e4c-8e44-1e6d0f884455\" xlink:actuate=\"onRequest\" xlink:href=\"psysml:6e318fc7-f06d-4e4c-8e44-1e6d0f884455\" xlink:show=\"new\" xlink:title=\"psysml:6e318fc7-f06d-4e4c-8e44-1e6d0f884455\" xlink:type=\"simple\"><rect fill=\"#FFFFFF\" height=\"75.5469\" id=\"E2\" style=\"stroke: #383838; stroke-width: 1.5;\" width=\"70\" x=\"1355\" y=\"138\"/><text fill=\"#000000\" font-family=\"sans-serif\" font-size=\"12\" font-style=\"italic\" lengthAdjust=\"spacingAndGlyphs\" textLength=\"68\" x=\"1356\" y=\"154.1387\">«part  def»</text><text fill=\"#000000\" font-family=\"sans-serif\" font-size=\"12\" lengthAdjust=\"spacingAndGlyphs\" textLength=\"8\" x=\"1386\" y=\"168.1074\">V</text><line style=\"stroke: #383838; stroke-width: 1.5;\" x1=\"1356\" x2=\"1424\" y1=\"175.9375\" y2=\"175.9375\"/><text fill=\"#000000\" font-family=\"sans-serif\" font-size=\"11\" lengthAdjust=\"spacingAndGlyphs\" textLength=\"11\" x=\"1361\" y=\"206.9526\">m</text><line style=\"stroke: #383838; stroke-width: 1.0;\" x1=\"1356\" x2=\"1359\" y1=\"190.3398\" y2=\"190.3398\"/><text fill=\"#000000\" font-family=\"sans-serif\" font-size=\"11\" lengthAdjust=\"spacingAndGlyphs\" textLength=\"62\" x=\"1359\" y=\"193.6479\">references</text><line style=\"stroke: #383838; stroke-width: 1.0;\" x1=\"1421\" x2=\"1424\" y1=\"190.3398\" y2=\"190.3398\"/></a><!--MD5=[09b614a08d8cba4a07c9adeb5e0fee81]\n",
       "class E3--><a href=\"psysml:27999d5c-daad-4ed7-92ff-020a622ea083\" target=\"_top\" title=\"psysml:27999d5c-daad-4ed7-92ff-020a622ea083\" xlink:actuate=\"onRequest\" xlink:href=\"psysml:27999d5c-daad-4ed7-92ff-020a622ea083\" xlink:show=\"new\" xlink:title=\"psysml:27999d5c-daad-4ed7-92ff-020a622ea083\" xlink:type=\"simple\"><rect fill=\"#FFFFFF\" height=\"45.9375\" id=\"E3\" rx=\"10\" ry=\"10\" style=\"stroke: #383838; stroke-width: 1.5;\" width=\"42\" x=\"1094\" y=\"152\"/><text fill=\"#000000\" font-family=\"sans-serif\" font-size=\"12\" font-style=\"italic\" lengthAdjust=\"spacingAndGlyphs\" textLength=\"40\" x=\"1095\" y=\"168.1387\">«part»</text><text fill=\"#000000\" font-family=\"sans-serif\" font-size=\"12\" lengthAdjust=\"spacingAndGlyphs\" textLength=\"28\" x=\"1099\" y=\"182.1074\">vv: V</text><line style=\"stroke: #383838; stroke-width: 1.5;\" x1=\"1095\" x2=\"1135\" y1=\"189.9375\" y2=\"189.9375\"/></a><!--MD5=[ebbe1d658d1005bcc118a6aa81145e00]\n",
       "class E4--><a href=\"psysml:31fce779-d9ab-452b-8111-7f3c68bff972\" target=\"_top\" title=\"psysml:31fce779-d9ab-452b-8111-7f3c68bff972\" xlink:actuate=\"onRequest\" xlink:href=\"psysml:31fce779-d9ab-452b-8111-7f3c68bff972\" xlink:show=\"new\" xlink:title=\"psysml:31fce779-d9ab-452b-8111-7f3c68bff972\" xlink:type=\"simple\"><rect fill=\"#FFFFFF\" height=\"66.7422\" id=\"E4\" style=\"stroke: #383838; stroke-width: 1.5;\" width=\"121\" x=\"1523\" y=\"44.5\"/><text fill=\"#000000\" font-family=\"sans-serif\" font-size=\"12\" font-style=\"italic\" lengthAdjust=\"spacingAndGlyphs\" textLength=\"119\" x=\"1524\" y=\"60.6387\">«requirement  def»</text><text fill=\"#000000\" font-family=\"sans-serif\" font-size=\"12\" lengthAdjust=\"spacingAndGlyphs\" textLength=\"107\" x=\"1530\" y=\"74.6074\">AnalysisObjective</text><line style=\"stroke: #383838; stroke-width: 1.5;\" x1=\"1524\" x2=\"1643\" y1=\"82.4375\" y2=\"82.4375\"/><text fill=\"#000000\" font-family=\"sans-serif\" font-size=\"11\" lengthAdjust=\"spacingAndGlyphs\" textLength=\"12\" x=\"1529\" y=\"96.6479\">...</text><line style=\"stroke: #383838; stroke-width: 1.0;\" x1=\"1524\" x2=\"1643\" y1=\"103.2422\" y2=\"103.2422\"/></a><!--MD5=[270fce915f116d4de14055a7c1d9a0f3]\n",
       "class E5--><a href=\"psysml:0d42cad1-3808-4e7b-8fe6-f660e27fd2bd\" target=\"_top\" title=\"psysml:0d42cad1-3808-4e7b-8fe6-f660e27fd2bd\" xlink:actuate=\"onRequest\" xlink:href=\"psysml:0d42cad1-3808-4e7b-8fe6-f660e27fd2bd\" xlink:show=\"new\" xlink:title=\"psysml:0d42cad1-3808-4e7b-8fe6-f660e27fd2bd\" xlink:type=\"simple\"><rect fill=\"#FFFFFF\" height=\"75.5469\" id=\"E5\" style=\"stroke: #383838; stroke-width: 1.5;\" width=\"136\" x=\"1047\" y=\"41\"/><text fill=\"#000000\" font-family=\"sans-serif\" font-size=\"12\" font-style=\"italic\" lengthAdjust=\"spacingAndGlyphs\" textLength=\"88\" x=\"1071\" y=\"57.1387\">«analysis def»</text><text fill=\"#000000\" font-family=\"sans-serif\" font-size=\"12\" lengthAdjust=\"spacingAndGlyphs\" textLength=\"81\" x=\"1074.5\" y=\"71.1074\">AnalysisCase</text><line style=\"stroke: #383838; stroke-width: 1.5;\" x1=\"1048\" x2=\"1182\" y1=\"78.9375\" y2=\"78.9375\"/><text fill=\"#000000\" font-family=\"sans-serif\" font-size=\"11\" lengthAdjust=\"spacingAndGlyphs\" textLength=\"43\" x=\"1053\" y=\"109.9526\">{ v.m }</text><line style=\"stroke: #383838; stroke-width: 1.0;\" x1=\"1048\" x2=\"1051\" y1=\"93.3398\" y2=\"93.3398\"/><text fill=\"#000000\" font-family=\"sans-serif\" font-size=\"11\" lengthAdjust=\"spacingAndGlyphs\" textLength=\"128\" x=\"1051\" y=\"96.6479\">path step expressions</text><line style=\"stroke: #383838; stroke-width: 1.0;\" x1=\"1179\" x2=\"1182\" y1=\"93.3398\" y2=\"93.3398\"/></a><!--MD5=[60a26617385b1d2d0262a64233df1f8d]\n",
       "class E6--><a href=\"psysml:b64c7347-1249-45eb-ab10-0bf79737e87a\" target=\"_top\" title=\"psysml:b64c7347-1249-45eb-ab10-0bf79737e87a\" xlink:actuate=\"onRequest\" xlink:href=\"psysml:b64c7347-1249-45eb-ab10-0bf79737e87a\" xlink:show=\"new\" xlink:title=\"psysml:b64c7347-1249-45eb-ab10-0bf79737e87a\" xlink:type=\"simple\"><rect fill=\"#FFFFFF\" height=\"45.9375\" id=\"E6\" rx=\"10\" ry=\"10\" style=\"stroke: #383838; stroke-width: 1.5;\" width=\"144\" x=\"1318\" y=\"55\"/><text fill=\"#000000\" font-family=\"sans-serif\" font-size=\"12\" font-style=\"italic\" lengthAdjust=\"spacingAndGlyphs\" textLength=\"91\" x=\"1344.5\" y=\"71.1387\">«requirement»</text><text fill=\"#000000\" font-family=\"sans-serif\" font-size=\"12\" lengthAdjust=\"spacingAndGlyphs\" textLength=\"134\" x=\"1321\" y=\"85.1074\">obj: AnalysisObjective</text><line style=\"stroke: #383838; stroke-width: 1.5;\" x1=\"1319\" x2=\"1461\" y1=\"92.9375\" y2=\"92.9375\"/></a><!--MD5=[2156ba9850f5573cc1fc38a6a4b2f02b]\n",
       "class E7--><a href=\"psysml:058a72e0-0a98-4261-856d-73366cf47a25\" target=\"_top\" title=\"psysml:058a72e0-0a98-4261-856d-73366cf47a25\" xlink:actuate=\"onRequest\" xlink:href=\"psysml:058a72e0-0a98-4261-856d-73366cf47a25\" xlink:show=\"new\" xlink:title=\"psysml:058a72e0-0a98-4261-856d-73366cf47a25\" xlink:type=\"simple\"><rect fill=\"#FFFFFF\" height=\"45.9375\" id=\"E7\" style=\"stroke: #383838; stroke-width: 1.5;\" width=\"90\" x=\"505.5\" y=\"188\"/><text fill=\"#000000\" font-family=\"sans-serif\" font-size=\"12\" font-style=\"italic\" lengthAdjust=\"spacingAndGlyphs\" textLength=\"88\" x=\"506.5\" y=\"204.1387\">«analysis def»</text><text fill=\"#000000\" font-family=\"sans-serif\" font-size=\"12\" lengthAdjust=\"spacingAndGlyphs\" textLength=\"77\" x=\"512\" y=\"218.1074\">AnalysisPlan</text><line style=\"stroke: #383838; stroke-width: 1.5;\" x1=\"506.5\" x2=\"594.5\" y1=\"225.9375\" y2=\"225.9375\"/></a><!--MD5=[b9389687b975829384b498ac4b7476b2]\n",
       "class E8--><a href=\"psysml:185eeef5-681f-4700-9ef2-09baff1a4526\" target=\"_top\" title=\"psysml:185eeef5-681f-4700-9ef2-09baff1a4526\" xlink:actuate=\"onRequest\" xlink:href=\"psysml:185eeef5-681f-4700-9ef2-09baff1a4526\" xlink:show=\"new\" xlink:title=\"psysml:185eeef5-681f-4700-9ef2-09baff1a4526\" xlink:type=\"simple\"><rect fill=\"#FFFFFF\" height=\"66.7422\" id=\"E8\" rx=\"10\" ry=\"10\" style=\"stroke: #383838; stroke-width: 1.5;\" width=\"93\" x=\"775.5\" y=\"177.5\"/><text fill=\"#000000\" font-family=\"sans-serif\" font-size=\"12\" font-style=\"italic\" lengthAdjust=\"spacingAndGlyphs\" textLength=\"91\" x=\"776.5\" y=\"193.6387\">«requirement»</text><text fill=\"#000000\" font-family=\"sans-serif\" font-size=\"12\" lengthAdjust=\"spacingAndGlyphs\" textLength=\"19\" x=\"812.5\" y=\"207.6074\">obj</text><line style=\"stroke: #383838; stroke-width: 1.5;\" x1=\"776.5\" x2=\"867.5\" y1=\"215.4375\" y2=\"215.4375\"/><text fill=\"#000000\" font-family=\"sans-serif\" font-size=\"11\" lengthAdjust=\"spacingAndGlyphs\" textLength=\"12\" x=\"781.5\" y=\"229.6479\">...</text><line style=\"stroke: #383838; stroke-width: 1.0;\" x1=\"776.5\" x2=\"867.5\" y1=\"236.2422\" y2=\"236.2422\"/></a><!--MD5=[fd4143e9d270a159db93a4ea2a975926]\n",
       "class E9--><a href=\"psysml:ebac0614-db53-4f6a-a11b-2a64966401ed\" target=\"_top\" title=\"psysml:ebac0614-db53-4f6a-a11b-2a64966401ed\" xlink:actuate=\"onRequest\" xlink:href=\"psysml:ebac0614-db53-4f6a-a11b-2a64966401ed\" xlink:show=\"new\" xlink:title=\"psysml:ebac0614-db53-4f6a-a11b-2a64966401ed\" xlink:type=\"simple\"><rect fill=\"#FFFFFF\" height=\"45.9375\" id=\"E9\" rx=\"10\" ry=\"10\" style=\"stroke: #383838; stroke-width: 1.5;\" width=\"180\" x=\"732\" y=\"96\"/><text fill=\"#000000\" font-family=\"sans-serif\" font-size=\"12\" font-style=\"italic\" lengthAdjust=\"spacingAndGlyphs\" textLength=\"64\" x=\"790\" y=\"112.1387\">«analysis»</text><text fill=\"#000000\" font-family=\"sans-serif\" font-size=\"12\" lengthAdjust=\"spacingAndGlyphs\" textLength=\"170\" x=\"735\" y=\"126.1074\">analysisCase: AnalysisCase</text><line style=\"stroke: #383838; stroke-width: 1.5;\" x1=\"733\" x2=\"911\" y1=\"133.9375\" y2=\"133.9375\"/></a><!--MD5=[96f4274e9e20536e775497830990834d]\n",
       "class E10--><a href=\"psysml:885560a7-695c-4aea-bf29-e47629fa314b\" target=\"_top\" title=\"psysml:885560a7-695c-4aea-bf29-e47629fa314b\" xlink:actuate=\"onRequest\" xlink:href=\"psysml:885560a7-695c-4aea-bf29-e47629fa314b\" xlink:show=\"new\" xlink:title=\"psysml:885560a7-695c-4aea-bf29-e47629fa314b\" xlink:type=\"simple\"><rect fill=\"#FFFFFF\" height=\"45.9375\" id=\"E10\" rx=\"10\" ry=\"10\" style=\"stroke: #383838; stroke-width: 1.5;\" width=\"93\" x=\"1068.5\" y=\"233\"/><text fill=\"#000000\" font-family=\"sans-serif\" font-size=\"12\" font-style=\"italic\" lengthAdjust=\"spacingAndGlyphs\" textLength=\"91\" x=\"1069.5\" y=\"249.1387\">«requirement»</text><text fill=\"#000000\" font-family=\"sans-serif\" font-size=\"12\" lengthAdjust=\"spacingAndGlyphs\" textLength=\"19\" x=\"1105.5\" y=\"263.1074\">obj</text><line style=\"stroke: #383838; stroke-width: 1.5;\" x1=\"1069.5\" x2=\"1160.5\" y1=\"270.9375\" y2=\"270.9375\"/></a><!--MD5=[1dd1bfd58a279cf63c5f349dbc8fc6a1]\n",
       "class E11--><a href=\"psysml:2f29b586-744b-44a6-b354-0cb36fac52ba\" target=\"_top\" title=\"psysml:2f29b586-744b-44a6-b354-0cb36fac52ba\" xlink:actuate=\"onRequest\" xlink:href=\"psysml:2f29b586-744b-44a6-b354-0cb36fac52ba\" xlink:show=\"new\" xlink:title=\"psysml:2f29b586-744b-44a6-b354-0cb36fac52ba\" xlink:type=\"simple\"><rect fill=\"#FFFFFF\" height=\"45.9375\" id=\"E11\" rx=\"10\" ry=\"10\" style=\"stroke: #383838; stroke-width: 1.5;\" width=\"104\" x=\"32\" y=\"148\"/><text fill=\"#000000\" font-family=\"sans-serif\" font-size=\"12\" font-style=\"italic\" lengthAdjust=\"spacingAndGlyphs\" textLength=\"40\" x=\"64\" y=\"164.1387\">«part»</text><text fill=\"#000000\" font-family=\"sans-serif\" font-size=\"12\" lengthAdjust=\"spacingAndGlyphs\" textLength=\"98\" x=\"35\" y=\"178.1074\">analysisContext</text><line style=\"stroke: #383838; stroke-width: 1.5;\" x1=\"33\" x2=\"135\" y1=\"185.9375\" y2=\"185.9375\"/></a><!--MD5=[49a0ec8f00dab7302a31f22d0f0fe584]\n",
       "class E12--><a href=\"psysml:cfe8b385-7bc2-406c-91e1-db9911ba5874\" target=\"_top\" title=\"psysml:cfe8b385-7bc2-406c-91e1-db9911ba5874\" xlink:actuate=\"onRequest\" xlink:href=\"psysml:cfe8b385-7bc2-406c-91e1-db9911ba5874\" xlink:show=\"new\" xlink:title=\"psysml:cfe8b385-7bc2-406c-91e1-db9911ba5874\" xlink:type=\"simple\"><rect fill=\"#FFFFFF\" height=\"45.9375\" id=\"E12\" rx=\"10\" ry=\"10\" style=\"stroke: #383838; stroke-width: 1.5;\" width=\"172\" x=\"197\" y=\"148\"/><text fill=\"#000000\" font-family=\"sans-serif\" font-size=\"12\" font-style=\"italic\" lengthAdjust=\"spacingAndGlyphs\" textLength=\"64\" x=\"251\" y=\"164.1387\">«analysis»</text><text fill=\"#000000\" font-family=\"sans-serif\" font-size=\"12\" lengthAdjust=\"spacingAndGlyphs\" textLength=\"162\" x=\"200\" y=\"178.1074\">analysisPlan: AnalysisPlan</text><line style=\"stroke: #383838; stroke-width: 1.5;\" x1=\"198\" x2=\"368\" y1=\"185.9375\" y2=\"185.9375\"/></a><!--MD5=[ee3c913d1a06f366521f9ef512b67efe]\n",
       "class E13--><a href=\"psysml:63325e1e-8a82-4691-b26b-3354962a7cad\" target=\"_top\" title=\"psysml:63325e1e-8a82-4691-b26b-3354962a7cad\" xlink:actuate=\"onRequest\" xlink:href=\"psysml:63325e1e-8a82-4691-b26b-3354962a7cad\" xlink:show=\"new\" xlink:title=\"psysml:63325e1e-8a82-4691-b26b-3354962a7cad\" xlink:type=\"simple\"><rect fill=\"#FFFFFF\" height=\"45.9375\" id=\"E13\" rx=\"10\" ry=\"10\" style=\"stroke: #383838; stroke-width: 1.5;\" width=\"93\" x=\"504\" y=\"107\"/><text fill=\"#000000\" font-family=\"sans-serif\" font-size=\"12\" font-style=\"italic\" lengthAdjust=\"spacingAndGlyphs\" textLength=\"91\" x=\"505\" y=\"123.1387\">«requirement»</text><text fill=\"#000000\" font-family=\"sans-serif\" font-size=\"12\" lengthAdjust=\"spacingAndGlyphs\" textLength=\"19\" x=\"541\" y=\"137.1074\">obj</text><line style=\"stroke: #383838; stroke-width: 1.5;\" x1=\"505\" x2=\"596\" y1=\"144.9375\" y2=\"144.9375\"/></a><!--MD5=[05d275557350bfb9b23a4ef7222b4c39]\n",
       "link E3 to E2--><a href=\"psysml:4413170d-8387-4bcf-a661-a8e63eefb5dc\" target=\"_top\" title=\"psysml:4413170d-8387-4bcf-a661-a8e63eefb5dc\" xlink:actuate=\"onRequest\" xlink:href=\"psysml:4413170d-8387-4bcf-a661-a8e63eefb5dc\" xlink:show=\"new\" xlink:title=\"psysml:4413170d-8387-4bcf-a661-a8e63eefb5dc\" xlink:type=\"simple\"><path d=\"M1136.07,175.07 C1177.49,175.23 1273.64,175.58 1334.74,175.8 \" fill=\"none\" id=\"E3-&gt;E2\" style=\"stroke: #383838; stroke-width: 1.0;\"/><polygon fill=\"#FFFFFF\" points=\"1354.74,175.87,1335.7151,182.8021,1335.7651,168.8022,1354.74,175.87\" style=\"stroke: #383838; stroke-width: 1.0;\"/><ellipse cx=\"1330.0223\" cy=\"180.7818\" fill=\"#383838\" rx=\"2\" ry=\"2\" style=\"stroke: #383838; stroke-width: 1.0;\"/><ellipse cx=\"1330.058\" cy=\"170.7818\" fill=\"#383838\" rx=\"2\" ry=\"2\" style=\"stroke: #383838; stroke-width: 1.0;\"/></a><!--MD5=[15ebcb19ae302d9b601edb458606d402]\n",
       "link E5 to E2--><a href=\"psysml:0e59658b-8c20-4184-9a82-84e161b0c6e1\" target=\"_top\" title=\"psysml:0e59658b-8c20-4184-9a82-84e161b0c6e1\" xlink:actuate=\"onRequest\" xlink:href=\"psysml:0e59658b-8c20-4184-9a82-84e161b0c6e1\" xlink:show=\"new\" xlink:title=\"psysml:0e59658b-8c20-4184-9a82-84e161b0c6e1\" xlink:type=\"simple\"><path d=\"M1183.13,102.85 C1235.58,121.49 1306.63,146.73 1350.07,162.17 \" fill=\"none\" id=\"E5-&gt;E2\" style=\"stroke: #383838; stroke-width: 1.0; stroke-dasharray: 7.0,7.0;\"/><polygon fill=\"#383838\" points=\"1354.97,163.91,1347.824,157.1325,1350.2574,162.2392,1345.1507,164.6726,1354.97,163.91\" style=\"stroke: #383838; stroke-width: 1.0;\"/><text fill=\"#000000\" font-family=\"sans-serif\" font-size=\"13\" lengthAdjust=\"spacingAndGlyphs\" textLength=\"62\" x=\"1219.5\" y=\"112.0669\">«subject»</text></a><!--MD5=[9120cf2e5df3bff93db8f754bbbc09b4]\n",
       "link E5 to E6--><a href=\"psysml:0aba1a21-1a42-4d2b-97f5-c2cba04c9345\" target=\"_top\" title=\"psysml:0aba1a21-1a42-4d2b-97f5-c2cba04c9345\" xlink:actuate=\"onRequest\" xlink:href=\"psysml:0aba1a21-1a42-4d2b-97f5-c2cba04c9345\" xlink:show=\"new\" xlink:title=\"psysml:0aba1a21-1a42-4d2b-97f5-c2cba04c9345\" xlink:type=\"simple\"><path d=\"M1183.13,78.75 C1221.39,78.61 1269.54,78.44 1309.66,78.29 \" fill=\"none\" id=\"E5-&gt;E6\" style=\"stroke: #383838; stroke-width: 1.0;\"/><polygon fill=\"#383838\" points=\"1317.83,78.26,1309.8193,75.2886,1309.8408,81.2886,1317.83,78.26\" style=\"stroke: #383838; stroke-width: 1.0;\"/><text fill=\"#000000\" font-family=\"sans-serif\" font-size=\"13\" lengthAdjust=\"spacingAndGlyphs\" textLength=\"73\" x=\"1214\" y=\"75.0669\">«objective»</text></a><!--MD5=[f667431f98296947986a1a7595a31603]\n",
       "link E6 to E4--><a href=\"psysml:32f59106-5f4c-4aec-8305-226899de5705\" target=\"_top\" title=\"psysml:32f59106-5f4c-4aec-8305-226899de5705\" xlink:actuate=\"onRequest\" xlink:href=\"psysml:32f59106-5f4c-4aec-8305-226899de5705\" xlink:show=\"new\" xlink:title=\"psysml:32f59106-5f4c-4aec-8305-226899de5705\" xlink:type=\"simple\"><path d=\"M1462.04,78 C1475.32,78 1489.29,78 1502.82,78 \" fill=\"none\" id=\"E6-&gt;E4\" style=\"stroke: #383838; stroke-width: 1.0;\"/><polygon fill=\"#FFFFFF\" points=\"1522.87,78,1503.87,85,1503.87,71,1522.87,78\" style=\"stroke: #383838; stroke-width: 1.0;\"/><ellipse cx=\"1498.17\" cy=\"83\" fill=\"#383838\" rx=\"2\" ry=\"2\" style=\"stroke: #383838; stroke-width: 1.0;\"/><ellipse cx=\"1498.17\" cy=\"73\" fill=\"#383838\" rx=\"2\" ry=\"2\" style=\"stroke: #383838; stroke-width: 1.0;\"/></a><!--MD5=[583832df87f4419a098336a29a52fa00]\n",
       "link E7 to E2--><a href=\"psysml:1b5baffb-8729-41ae-bce6-1275f3b8062c\" target=\"_top\" title=\"psysml:1b5baffb-8729-41ae-bce6-1275f3b8062c\" xlink:actuate=\"onRequest\" xlink:href=\"psysml:1b5baffb-8729-41ae-bce6-1275f3b8062c\" xlink:show=\"new\" xlink:title=\"psysml:1b5baffb-8729-41ae-bce6-1275f3b8062c\" xlink:type=\"simple\"><path d=\"M595.53,228.67 C699.47,267.87 967.53,354.18 1183,296 C1246.81,278.77 1311.16,236.35 1350.56,206.86 \" fill=\"none\" id=\"E7-&gt;E2\" style=\"stroke: #383838; stroke-width: 1.0; stroke-dasharray: 7.0,7.0;\"/><polygon fill=\"#383838\" points=\"1354.76,203.69,1345.16,205.89,1350.76,206.69,1349.96,212.29,1354.76,203.69\" style=\"stroke: #383838; stroke-width: 1.0;\"/><text fill=\"#000000\" font-family=\"sans-serif\" font-size=\"13\" lengthAdjust=\"spacingAndGlyphs\" textLength=\"62\" x=\"948.5\" y=\"309.0669\">«subject»</text></a><!--MD5=[79bc8f324ef4d02c541433f2e6e513c3]\n",
       "link E7 to E8--><a href=\"psysml:90e157ee-5294-4f98-a807-291d927bb48a\" target=\"_top\" title=\"psysml:90e157ee-5294-4f98-a807-291d927bb48a\" xlink:actuate=\"onRequest\" xlink:href=\"psysml:90e157ee-5294-4f98-a807-291d927bb48a\" xlink:show=\"new\" xlink:title=\"psysml:90e157ee-5294-4f98-a807-291d927bb48a\" xlink:type=\"simple\"><path d=\"M595.7,211 C642.66,211 716.94,211 767.25,211 \" fill=\"none\" id=\"E7-&gt;E8\" style=\"stroke: #383838; stroke-width: 1.0;\"/><polygon fill=\"#383838\" points=\"775.42,211,767.42,208,767.42,214,775.42,211\" style=\"stroke: #383838; stroke-width: 1.0;\"/><text fill=\"#000000\" font-family=\"sans-serif\" font-size=\"13\" lengthAdjust=\"spacingAndGlyphs\" textLength=\"73\" x=\"628\" y=\"207.0669\">«objective»</text><text fill=\"#000000\" font-family=\"sans-serif\" font-size=\"13\" lengthAdjust=\"spacingAndGlyphs\" textLength=\"8\" x=\"759.3588\" y=\"224.2933\">1</text></a><!--MD5=[e4a10ef82d0e328e31cac39a31e58dda]\n",
       "reverse link E7 to E9--><a href=\"psysml:5b13e274-498b-4649-80bb-2ca5d783c8e3\" target=\"_top\" title=\"psysml:5b13e274-498b-4649-80bb-2ca5d783c8e3\" xlink:actuate=\"onRequest\" xlink:href=\"psysml:5b13e274-498b-4649-80bb-2ca5d783c8e3\" xlink:show=\"new\" xlink:title=\"psysml:5b13e274-498b-4649-80bb-2ca5d783c8e3\" xlink:type=\"simple\"><path d=\"M608.05,191.7 C650.47,177.22 708.69,157.34 753.54,142.03 \" fill=\"none\" id=\"E7&lt;-E9\" style=\"stroke: #383838; stroke-width: 1.0;\"/><polygon fill=\"#383838\" points=\"595.7,195.91,602.6707,197.7565,607.0562,192.0323,600.0855,190.1857,595.7,195.91\" style=\"stroke: #383838; stroke-width: 1.0;\"/></a><!--MD5=[bfc3ddf2e613be37104f658f09af896c]\n",
       "link E9 to E5--><a href=\"psysml:2720ff20-3733-452c-91c5-acd446f65b05\" target=\"_top\" title=\"psysml:2720ff20-3733-452c-91c5-acd446f65b05\" xlink:actuate=\"onRequest\" xlink:href=\"psysml:2720ff20-3733-452c-91c5-acd446f65b05\" xlink:show=\"new\" xlink:title=\"psysml:2720ff20-3733-452c-91c5-acd446f65b05\" xlink:type=\"simple\"><path d=\"M912.29,106.73 C948.63,101.73 990.5,95.98 1026.64,91.01 \" fill=\"none\" id=\"E9-&gt;E5\" style=\"stroke: #383838; stroke-width: 1.0;\"/><polygon fill=\"#FFFFFF\" points=\"1046.61,88.26,1028.7358,97.7739,1026.8358,83.9034,1046.61,88.26\" style=\"stroke: #383838; stroke-width: 1.0;\"/><ellipse cx=\"1022.8171\" cy=\"96.566\" fill=\"#383838\" rx=\"2\" ry=\"2\" style=\"stroke: #383838; stroke-width: 1.0;\"/><ellipse cx=\"1021.4599\" cy=\"86.6585\" fill=\"#383838\" rx=\"2\" ry=\"2\" style=\"stroke: #383838; stroke-width: 1.0;\"/></a><!--MD5=[35e5f1cbde42fa304a029880aa2bc7f2]\n",
       "link E9 to E10--><a href=\"psysml:207a8d5d-7cc5-465d-969c-ac78b140bf51\" target=\"_top\" title=\"psysml:207a8d5d-7cc5-465d-969c-ac78b140bf51\" xlink:actuate=\"onRequest\" xlink:href=\"psysml:207a8d5d-7cc5-465d-969c-ac78b140bf51\" xlink:show=\"new\" xlink:title=\"psysml:207a8d5d-7cc5-465d-969c-ac78b140bf51\" xlink:type=\"simple\"><path d=\"M873.41,142.1 C886.03,147.91 899.52,154.16 912,160 C962.65,183.7 1020.25,211.12 1060.95,230.58 \" fill=\"none\" id=\"E9-&gt;E10\" style=\"stroke: #383838; stroke-width: 1.0;\"/><polygon fill=\"#383838\" points=\"1068.34,234.11,1062.4173,227.952,1059.8286,233.3648,1068.34,234.11\" style=\"stroke: #383838; stroke-width: 1.0;\"/><text fill=\"#000000\" font-family=\"sans-serif\" font-size=\"13\" lengthAdjust=\"spacingAndGlyphs\" textLength=\"73\" x=\"943\" y=\"172.0669\">«objective»</text></a><!--MD5=[94adabc162ce7e41b39f13be14fbaeb3]\n",
       "reverse link E11 to E12--><a href=\"psysml:df4b3059-af15-4a6e-9f16-4ce8d388f00c\" target=\"_top\" title=\"psysml:df4b3059-af15-4a6e-9f16-4ce8d388f00c\" xlink:actuate=\"onRequest\" xlink:href=\"psysml:df4b3059-af15-4a6e-9f16-4ce8d388f00c\" xlink:show=\"new\" xlink:title=\"psysml:df4b3059-af15-4a6e-9f16-4ce8d388f00c\" xlink:type=\"simple\"><path d=\"M149.66,171 C164.69,171 180.91,171 196.68,171 \" fill=\"none\" id=\"E11&lt;-E12\" style=\"stroke: #383838; stroke-width: 1.0;\"/><polygon fill=\"#383838\" points=\"136.25,171,142.25,175,148.25,171,142.25,167,136.25,171\" style=\"stroke: #383838; stroke-width: 1.0;\"/></a><!--MD5=[ae660f5ecd7ddb04a8913625960940af]\n",
       "link E12 to E7--><a href=\"psysml:b8e5c057-83f1-47ef-94c9-1676b303e623\" target=\"_top\" title=\"psysml:b8e5c057-83f1-47ef-94c9-1676b303e623\" xlink:actuate=\"onRequest\" xlink:href=\"psysml:b8e5c057-83f1-47ef-94c9-1676b303e623\" xlink:show=\"new\" xlink:title=\"psysml:b8e5c057-83f1-47ef-94c9-1676b303e623\" xlink:type=\"simple\"><path d=\"M369.1,183.82 C406.83,189.51 450.49,196.08 485.4,201.34 \" fill=\"none\" id=\"E12-&gt;E7\" style=\"stroke: #383838; stroke-width: 1.0;\"/><polygon fill=\"#FFFFFF\" points=\"505.36,204.35,485.5278,208.4345,487.6182,194.5914,505.36,204.35\" style=\"stroke: #383838; stroke-width: 1.0;\"/><ellipse cx=\"480.1903\" cy=\"205.6058\" fill=\"#383838\" rx=\"2\" ry=\"2\" style=\"stroke: #383838; stroke-width: 1.0;\"/><ellipse cx=\"481.6835\" cy=\"195.7179\" fill=\"#383838\" rx=\"2\" ry=\"2\" style=\"stroke: #383838; stroke-width: 1.0;\"/></a><!--MD5=[e2a9ac97dcd3257bb5342dae06547bad]\n",
       "link E12 to E13--><a href=\"psysml:7d3bd451-2ef5-4e75-9594-2e0dd7330291\" target=\"_top\" title=\"psysml:7d3bd451-2ef5-4e75-9594-2e0dd7330291\" xlink:actuate=\"onRequest\" xlink:href=\"psysml:7d3bd451-2ef5-4e75-9594-2e0dd7330291\" xlink:show=\"new\" xlink:title=\"psysml:7d3bd451-2ef5-4e75-9594-2e0dd7330291\" xlink:type=\"simple\"><path d=\"M369.1,157.86 C410.7,151.43 459.49,143.9 495.84,138.29 \" fill=\"none\" id=\"E12-&gt;E13\" style=\"stroke: #383838; stroke-width: 1.0;\"/><polygon fill=\"#383838\" points=\"503.87,137.05,495.5045,135.3127,496.4249,141.2417,503.87,137.05\" style=\"stroke: #383838; stroke-width: 1.0;\"/><text fill=\"#000000\" font-family=\"sans-serif\" font-size=\"13\" lengthAdjust=\"spacingAndGlyphs\" textLength=\"73\" x=\"400\" y=\"139.0669\">«objective»</text><text fill=\"#000000\" font-family=\"sans-serif\" font-size=\"13\" lengthAdjust=\"spacingAndGlyphs\" textLength=\"8\" x=\"488.1173\" y=\"151.3598\">1</text></a><!--MD5=[29e63ae478b2e3268a6f536e4c839c21]\n",
       "@startuml\r\n",
       "left to right direction\r\n",
       "skinparam monochrome true\r\n",
       "skinparam classbackgroundcolor white\r\n",
       "skinparam shadowing false\r\n",
       "skinparam wrapWidth 300\r\n",
       "hide circle\r\n",
       "\r\n",
       "package \"AnalysisTest\" as E1  [[psysml:d47d9c93-f987-42aa-9c82-a11afa9e7a85 ]]  {\r\n",
       "comp def \"V\" as E2  <<(T,blue) part  def>> [[psysml:6e318fc7-f06d-4e4c-8e44-1e6d0f884455 ]] {\r\n",
       "- - references - -\r\n",
       "m\r\n",
       "}\r\n",
       "comp usage \"vv: V \" as E3  <<(T,blue) part>> [[psysml:27999d5c-daad-4ed7-92ff-020a622ea083 ]] {\r\n",
       "}\r\n",
       "comp def \"AnalysisObjective\" as E4  <<(T,blue) requirement  def>> [[psysml:31fce779-d9ab-452b-8111-7f3c68bff972 ]] {\r\n",
       "...\r\n",
       "- -\r\n",
       "}\r\n",
       "comp def \"AnalysisCase\" as E5 << analysis def>> [[psysml:0d42cad1-3808-4e7b-8fe6-f660e27fd2bd ]] {\r\n",
       "- - path step expressions - -\r\n",
       " { v.m }\r\n",
       "}\r\n",
       "comp usage \"obj: AnalysisObjective \" as E6  <<(T,blue) requirement>> [[psysml:b64c7347-1249-45eb-ab10-0bf79737e87a ]] {\r\n",
       "}\r\n",
       "comp def \"AnalysisPlan\" as E7 << analysis def>> [[psysml:058a72e0-0a98-4261-856d-73366cf47a25 ]] {\r\n",
       "}\r\n",
       "comp usage \"obj\" as E8  <<(T,blue) requirement>> [[psysml:185eeef5-681f-4700-9ef2-09baff1a4526 ]] {\r\n",
       "...\r\n",
       "- -\r\n",
       "}\r\n",
       "comp usage \"analysisCase: AnalysisCase \" as E9 << analysis>> [[psysml:ebac0614-db53-4f6a-a11b-2a64966401ed ]] {\r\n",
       "}\r\n",
       "comp usage \"obj\" as E10  <<(T,blue) requirement>> [[psysml:885560a7-695c-4aea-bf29-e47629fa314b ]] {\r\n",
       "}\r\n",
       "comp usage \"analysisContext\" as E11  <<(T,blue) part>> [[psysml:2f29b586-744b-44a6-b354-0cb36fac52ba ]] {\r\n",
       "}\r\n",
       "comp usage \"analysisPlan: AnalysisPlan \" as E12 << analysis>> [[psysml:cfe8b385-7bc2-406c-91e1-db9911ba5874 ]] {\r\n",
       "}\r\n",
       "comp usage \"obj\" as E13  <<(T,blue) requirement>> [[psysml:63325e1e-8a82-4691-b26b-3354962a7cad ]] {\r\n",
       "}\r\n",
       "}\r\n",
       "E3 - -:|> E2 [[psysml:4413170d-8387-4bcf-a661-a8e63eefb5dc ]] \r\n",
       "E5 ..> E2 [[psysml:0e59658b-8c20-4184-9a82-84e161b0c6e1 ]] : <<subject>>\r\n",
       "E5 - ->> E6 [[psysml:0aba1a21-1a42-4d2b-97f5-c2cba04c9345 ]] : <<objective>>\r\n",
       "E6 - -:|> E4 [[psysml:32f59106-5f4c-4aec-8305-226899de5705 ]] \r\n",
       "E7 ..> E2 [[psysml:1b5baffb-8729-41ae-bce6-1275f3b8062c ]] : <<subject>>\r\n",
       "E7 - ->> \"1\"E8 [[psysml:90e157ee-5294-4f98-a807-291d927bb48a ]] : <<objective>>\r\n",
       "E7 *- - E9 [[psysml:5b13e274-498b-4649-80bb-2ca5d783c8e3 ]] \r\n",
       "E9 - -:|> E5 [[psysml:2720ff20-3733-452c-91c5-acd446f65b05 ]] \r\n",
       "E9 - ->> E10 [[psysml:207a8d5d-7cc5-465d-969c-ac78b140bf51 ]] : <<objective>>\r\n",
       "E11 *- - E12 [[psysml:df4b3059-af15-4a6e-9f16-4ce8d388f00c ]] \r\n",
       "E12 - -:|> E7 [[psysml:b8e5c057-83f1-47ef-94c9-1676b303e623 ]] \r\n",
       "E12 - ->> \"1\"E13 [[psysml:7d3bd451-2ef5-4e75-9594-2e0dd7330291 ]] : <<objective>>\r\n",
       "@enduml\r\n",
       "\n",
       "PlantUML version 1.2020.13(Sat Jun 13 12:26:38 UTC 2020)\n",
       "(EPL source distribution)\n",
       "Java Runtime: OpenJDK Runtime Environment\n",
       "JVM: OpenJDK 64-Bit Server VM\n",
       "Default Encoding: UTF-8\n",
       "Language: en\n",
       "Country: null\n",
       "--></g></svg>"
      ]
     },
     "execution_count": 17,
     "metadata": {},
     "output_type": "execute_result"
    }
   ],
   "source": [
    "%viz --style=\"LR\" --view=\"Tree\" \"AnalysisTest\""
   ]
  },
  {
   "cell_type": "code",
   "execution_count": 18,
   "id": "e88c09f1",
   "metadata": {
    "execution": {
     "iopub.execute_input": "2021-11-13T12:57:18.687834Z",
     "iopub.status.busy": "2021-11-13T12:57:18.687406Z",
     "iopub.status.idle": "2021-11-13T12:57:18.691774Z",
     "shell.execute_reply": "2021-11-13T12:57:18.691431Z"
    }
   },
   "outputs": [
    {
     "data": {
      "image/svg+xml": [
       "<?xml version=\"1.0\" encoding=\"UTF-8\" standalone=\"no\"?><svg xmlns=\"http://www.w3.org/2000/svg\" xmlns:xlink=\"http://www.w3.org/1999/xlink\" contentScriptType=\"application/ecmascript\" contentStyleType=\"text/css\" height=\"12px\" preserveAspectRatio=\"none\" style=\"width:12px;height:12px;\" version=\"1.1\" viewBox=\"0 0 12 12\" width=\"12px\" zoomAndPan=\"magnify\"><defs/><g><!--MD5=[19d285c9d72a204eba4e2cd117d745e8]\n",
       "@startuml\r\n",
       "left to right direction\r\n",
       "skinparam monochrome true\r\n",
       "skinparam classbackgroundcolor white\r\n",
       "skinparam shadowing false\r\n",
       "skinparam wrapWidth 300\r\n",
       "hide circle\r\n",
       "\r\n",
       "@enduml\r\n",
       "\n",
       "PlantUML version 1.2020.13(Sat Jun 13 12:26:38 UTC 2020)\n",
       "(EPL source distribution)\n",
       "Java Runtime: OpenJDK Runtime Environment\n",
       "JVM: OpenJDK 64-Bit Server VM\n",
       "Default Encoding: UTF-8\n",
       "Language: en\n",
       "Country: null\n",
       "--></g></svg>"
      ]
     },
     "execution_count": 18,
     "metadata": {},
     "output_type": "execute_result"
    }
   ],
   "source": [
    "%viz --style=\"LR\" --view=\"State\" \"AnalysisTest\""
   ]
  },
  {
   "cell_type": "code",
   "execution_count": 19,
   "id": "0444f9fa",
   "metadata": {
    "execution": {
     "iopub.execute_input": "2021-11-13T12:57:18.741260Z",
     "iopub.status.busy": "2021-11-13T12:57:18.740847Z",
     "iopub.status.idle": "2021-11-13T12:57:18.784505Z",
     "shell.execute_reply": "2021-11-13T12:57:18.784150Z"
    }
   },
   "outputs": [
    {
     "data": {
      "image/svg+xml": [
       "<?xml version=\"1.0\" encoding=\"UTF-8\" standalone=\"no\"?><svg xmlns=\"http://www.w3.org/2000/svg\" xmlns:xlink=\"http://www.w3.org/1999/xlink\" contentScriptType=\"application/ecmascript\" contentStyleType=\"text/css\" height=\"705px\" preserveAspectRatio=\"none\" style=\"width:735px;height:705px;\" version=\"1.1\" viewBox=\"0 0 735 705\" width=\"735px\" zoomAndPan=\"magnify\"><defs/><g><!--MD5=[fbc87193dbaf4d95561dea2c320d4a47]\n",
       "cluster E1--><a href=\"psysml:d47d9c93-f987-42aa-9c82-a11afa9e7a85\" target=\"_top\" title=\"psysml:d47d9c93-f987-42aa-9c82-a11afa9e7a85\" xlink:actuate=\"onRequest\" xlink:href=\"psysml:d47d9c93-f987-42aa-9c82-a11afa9e7a85\" xlink:show=\"new\" xlink:title=\"psysml:d47d9c93-f987-42aa-9c82-a11afa9e7a85\" xlink:type=\"simple\"><polygon fill=\"#FFFFFF\" points=\"16,6,108,6,115,28.2969,713.36,28.2969,713.36,693,16,693,16,6\" style=\"stroke: #000000; stroke-width: 1.5;\"/><line style=\"stroke: #000000; stroke-width: 1.5;\" x1=\"16\" x2=\"115\" y1=\"28.2969\" y2=\"28.2969\"/><text fill=\"#000000\" font-family=\"sans-serif\" font-size=\"14\" font-weight=\"bold\" lengthAdjust=\"spacingAndGlyphs\" textLength=\"86\" x=\"20\" y=\"20.9951\">AnalysisTest</text></a><!--MD5=[de5ec2e2e8f62f467e546659f5068c88]\n",
       "cluster E5--><a href=\"psysml:0d42cad1-3808-4e7b-8fe6-f660e27fd2bd\" target=\"_top\" title=\"psysml:0d42cad1-3808-4e7b-8fe6-f660e27fd2bd\" xlink:actuate=\"onRequest\" xlink:href=\"psysml:0d42cad1-3808-4e7b-8fe6-f660e27fd2bd\" xlink:show=\"new\" xlink:title=\"psysml:0d42cad1-3808-4e7b-8fe6-f660e27fd2bd\" xlink:type=\"simple\"><rect fill=\"#FFFFFF\" height=\"68\" id=\"E5\" style=\"stroke: #383838; stroke-width: 1.5;\" width=\"472.36\" x=\"142\" y=\"41\"/><rect fill=\"#F8F8F8\" height=\"37.9375\" style=\"stroke: #383838; stroke-width: 1.5;\" width=\"472.36\" x=\"142\" y=\"41\"/><text fill=\"#000000\" font-family=\"sans-serif\" font-size=\"12\" font-style=\"italic\" lengthAdjust=\"spacingAndGlyphs\" textLength=\"88\" x=\"334.18\" y=\"57.1387\">«analysis def»</text><text fill=\"#000000\" font-family=\"sans-serif\" font-size=\"12\" lengthAdjust=\"spacingAndGlyphs\" textLength=\"81\" x=\"337.68\" y=\"71.1074\">AnalysisCase</text></a><!--MD5=[55dfccfc6c49c2d10cd1bd2211a6c90c]\n",
       "cluster E8--><a href=\"psysml:058a72e0-0a98-4261-856d-73366cf47a25\" target=\"_top\" title=\"psysml:058a72e0-0a98-4261-856d-73366cf47a25\" xlink:actuate=\"onRequest\" xlink:href=\"psysml:058a72e0-0a98-4261-856d-73366cf47a25\" xlink:show=\"new\" xlink:title=\"psysml:058a72e0-0a98-4261-856d-73366cf47a25\" xlink:type=\"simple\"><rect fill=\"#FFFFFF\" height=\"132\" id=\"E8\" style=\"stroke: #383838; stroke-width: 1.5;\" width=\"565.36\" x=\"124\" y=\"139\"/><rect fill=\"#F8F8F8\" height=\"37.9375\" style=\"stroke: #383838; stroke-width: 1.5;\" width=\"565.36\" x=\"124\" y=\"139\"/><text fill=\"#000000\" font-family=\"sans-serif\" font-size=\"12\" font-style=\"italic\" lengthAdjust=\"spacingAndGlyphs\" textLength=\"88\" x=\"362.68\" y=\"155.1387\">«analysis def»</text><text fill=\"#000000\" font-family=\"sans-serif\" font-size=\"12\" lengthAdjust=\"spacingAndGlyphs\" textLength=\"77\" x=\"368.18\" y=\"169.1074\">AnalysisPlan</text></a><!--MD5=[a84b4591f868c1fa4a211716a82f2f0d]\n",
       "cluster E10--><a href=\"psysml:ebac0614-db53-4f6a-a11b-2a64966401ed\" target=\"_top\" title=\"psysml:ebac0614-db53-4f6a-a11b-2a64966401ed\" xlink:actuate=\"onRequest\" xlink:href=\"psysml:ebac0614-db53-4f6a-a11b-2a64966401ed\" xlink:show=\"new\" xlink:title=\"psysml:ebac0614-db53-4f6a-a11b-2a64966401ed\" xlink:type=\"simple\"><rect fill=\"#FFFFFF\" height=\"68\" id=\"E10\" rx=\"10\" ry=\"10\" style=\"stroke: #383838; stroke-width: 1.5;\" width=\"259.36\" x=\"392\" y=\"177\"/><rect fill=\"#F8F8F8\" height=\"37.9375\" rx=\"10\" ry=\"10\" style=\"stroke: #F8F8F8; stroke-width: 1.5;\" width=\"259.36\" x=\"392\" y=\"177\"/><rect fill=\"#F8F8F8\" height=\"10\" style=\"stroke: #F8F8F8; stroke-width: 1.5;\" width=\"259.36\" x=\"392\" y=\"204.9375\"/><rect fill=\"none\" height=\"68\" id=\"E10\" rx=\"10\" ry=\"10\" style=\"stroke: #383838; stroke-width: 1.5;\" width=\"259.36\" x=\"392\" y=\"177\"/><text fill=\"#000000\" font-family=\"sans-serif\" font-size=\"12\" font-style=\"italic\" lengthAdjust=\"spacingAndGlyphs\" textLength=\"64\" x=\"489.68\" y=\"193.1387\">«analysis»</text><text fill=\"#000000\" font-family=\"sans-serif\" font-size=\"12\" lengthAdjust=\"spacingAndGlyphs\" textLength=\"81\" x=\"481.18\" y=\"207.1074\">analysisCase</text><line style=\"stroke: #383838; stroke-width: 1.0;\" x1=\"392\" x2=\"651.36\" y1=\"214.9375\" y2=\"214.9375\"/></a><!--MD5=[bcf29f0808fc96f19b1afbee8cfc1f11]\n",
       "cluster E14--><a href=\"psysml:2f29b586-744b-44a6-b354-0cb36fac52ba\" target=\"_top\" title=\"psysml:2f29b586-744b-44a6-b354-0cb36fac52ba\" xlink:actuate=\"onRequest\" xlink:href=\"psysml:2f29b586-744b-44a6-b354-0cb36fac52ba\" xlink:show=\"new\" xlink:title=\"psysml:2f29b586-744b-44a6-b354-0cb36fac52ba\" xlink:type=\"simple\"><rect fill=\"#FFFFFF\" height=\"103\" id=\"E14\" rx=\"10\" ry=\"10\" style=\"stroke: #383838; stroke-width: 1.5;\" width=\"414.5\" x=\"40\" y=\"337\"/><rect fill=\"#F8F8F8\" height=\"23.9688\" rx=\"10\" ry=\"10\" style=\"stroke: #F8F8F8; stroke-width: 1.5;\" width=\"414.5\" x=\"40\" y=\"337\"/><rect fill=\"#F8F8F8\" height=\"10\" style=\"stroke: #F8F8F8; stroke-width: 1.5;\" width=\"414.5\" x=\"40\" y=\"350.9688\"/><rect fill=\"none\" height=\"103\" id=\"E14\" rx=\"10\" ry=\"10\" style=\"stroke: #383838; stroke-width: 1.5;\" width=\"414.5\" x=\"40\" y=\"337\"/><text fill=\"#000000\" font-family=\"sans-serif\" font-size=\"12\" lengthAdjust=\"spacingAndGlyphs\" textLength=\"98\" x=\"198.25\" y=\"353.1387\">analysisContext</text><line style=\"stroke: #383838; stroke-width: 1.0;\" x1=\"40\" x2=\"454.5\" y1=\"360.9688\" y2=\"360.9688\"/></a><!--MD5=[ebbe1d658d1005bcc118a6aa81145e00]\n",
       "class E4--><a href=\"psysml:31fce779-d9ab-452b-8111-7f3c68bff972\" target=\"_top\" title=\"psysml:31fce779-d9ab-452b-8111-7f3c68bff972\" xlink:actuate=\"onRequest\" xlink:href=\"psysml:31fce779-d9ab-452b-8111-7f3c68bff972\" xlink:show=\"new\" xlink:title=\"psysml:31fce779-d9ab-452b-8111-7f3c68bff972\" xlink:type=\"simple\"><rect fill=\"#FFFFFF\" height=\"66.7422\" id=\"E4\" style=\"stroke: #383838; stroke-width: 1.5;\" width=\"121\" x=\"81.5\" y=\"456.5\"/><text fill=\"#000000\" font-family=\"sans-serif\" font-size=\"12\" font-style=\"italic\" lengthAdjust=\"spacingAndGlyphs\" textLength=\"119\" x=\"82.5\" y=\"472.6387\">«requirement  def»</text><text fill=\"#000000\" font-family=\"sans-serif\" font-size=\"12\" lengthAdjust=\"spacingAndGlyphs\" textLength=\"107\" x=\"88.5\" y=\"486.6074\">AnalysisObjective</text><line style=\"stroke: #383838; stroke-width: 1.5;\" x1=\"82.5\" x2=\"201.5\" y1=\"494.4375\" y2=\"494.4375\"/><text fill=\"#000000\" font-family=\"sans-serif\" font-size=\"11\" lengthAdjust=\"spacingAndGlyphs\" textLength=\"12\" x=\"87.5\" y=\"508.6479\">...</text><line style=\"stroke: #383838; stroke-width: 1.0;\" x1=\"82.5\" x2=\"201.5\" y1=\"515.2422\" y2=\"515.2422\"/></a><g id=\"E1.E2\"><a href=\"psysml:6e318fc7-f06d-4e4c-8e44-1e6d0f884455\" target=\"_top\" title=\"psysml:6e318fc7-f06d-4e4c-8e44-1e6d0f884455\" xlink:actuate=\"onRequest\" xlink:href=\"psysml:6e318fc7-f06d-4e4c-8e44-1e6d0f884455\" xlink:show=\"new\" xlink:title=\"psysml:6e318fc7-f06d-4e4c-8e44-1e6d0f884455\" xlink:type=\"simple\"><rect fill=\"#FFFFFF\" height=\"42.9375\" id=\"E2\" style=\"stroke: #383838; stroke-width: 1.5;\" width=\"75\" x=\"104.5\" y=\"558.5\"/><rect fill=\"#F8F8F8\" height=\"37.9375\" style=\"stroke: #383838; stroke-width: 1.5;\" width=\"75\" x=\"104.5\" y=\"558.5\"/><text fill=\"#000000\" font-family=\"sans-serif\" font-size=\"12\" font-style=\"italic\" lengthAdjust=\"spacingAndGlyphs\" textLength=\"68\" x=\"108\" y=\"574.6387\">«part  def»</text><text fill=\"#000000\" font-family=\"sans-serif\" font-size=\"12\" lengthAdjust=\"spacingAndGlyphs\" textLength=\"8\" x=\"138\" y=\"588.6074\">V</text></a></g><g id=\"E1.E3\"><a href=\"psysml:27999d5c-daad-4ed7-92ff-020a622ea083\" target=\"_top\" title=\"psysml:27999d5c-daad-4ed7-92ff-020a622ea083\" xlink:actuate=\"onRequest\" xlink:href=\"psysml:27999d5c-daad-4ed7-92ff-020a622ea083\" xlink:show=\"new\" xlink:title=\"psysml:27999d5c-daad-4ed7-92ff-020a622ea083\" xlink:type=\"simple\"><rect fill=\"#FFFFFF\" height=\"40\" id=\"E3\" rx=\"10\" ry=\"10\" style=\"stroke: #383838; stroke-width: 1.5;\" width=\"50\" x=\"117\" y=\"637\"/><rect fill=\"#F8F8F8\" height=\"23.9688\" rx=\"10\" ry=\"10\" style=\"stroke: #F8F8F8; stroke-width: 1.5;\" width=\"50\" x=\"117\" y=\"637\"/><rect fill=\"#F8F8F8\" height=\"10\" style=\"stroke: #F8F8F8; stroke-width: 1.5;\" width=\"50\" x=\"117\" y=\"650.9688\"/><rect fill=\"none\" height=\"40\" id=\"E3\" rx=\"10\" ry=\"10\" style=\"stroke: #383838; stroke-width: 1.5;\" width=\"50\" x=\"117\" y=\"637\"/><text fill=\"#000000\" font-family=\"sans-serif\" font-size=\"12\" lengthAdjust=\"spacingAndGlyphs\" textLength=\"28\" x=\"128\" y=\"653.1387\">vv: V</text></a></g><text fill=\"#000000\" font-family=\"sans-serif\" font-size=\"14\" lengthAdjust=\"spacingAndGlyphs\" textLength=\"7\" x=\"138.5\" y=\"53.6982\">v</text><rect fill=\"#383838\" height=\"12\" style=\"stroke: #F8F8F8; stroke-width: 1.5;\" width=\"12\" x=\"136\" y=\"69\"/><text fill=\"#000000\" font-family=\"sans-serif\" font-size=\"14\" lengthAdjust=\"spacingAndGlyphs\" textLength=\"39\" x=\"594.86\" y=\"53.6982\">result</text><rect fill=\"#383838\" height=\"12\" style=\"stroke: #F8F8F8; stroke-width: 1.5;\" width=\"12\" x=\"608.36\" y=\"69\"/><text fill=\"#000000\" font-family=\"sans-serif\" font-size=\"14\" lengthAdjust=\"spacingAndGlyphs\" textLength=\"7\" x=\"138.5\" y=\"289.9951\">v</text><rect fill=\"#383838\" height=\"12\" style=\"stroke: #F8F8F8; stroke-width: 1.5;\" width=\"12\" x=\"136\" y=\"265\"/><text fill=\"#000000\" font-family=\"sans-serif\" font-size=\"14\" lengthAdjust=\"spacingAndGlyphs\" textLength=\"39\" x=\"594.86\" y=\"117.6982\">result</text><rect fill=\"#383838\" height=\"12\" style=\"stroke: #F8F8F8; stroke-width: 1.5;\" width=\"12\" x=\"608.36\" y=\"133\"/><text fill=\"#000000\" font-family=\"sans-serif\" font-size=\"14\" lengthAdjust=\"spacingAndGlyphs\" textLength=\"37\" x=\"632.86\" y=\"189.6982\">mass</text><rect fill=\"#383838\" height=\"12\" style=\"stroke: #F8F8F8; stroke-width: 1.5;\" width=\"12\" x=\"645.36\" y=\"205\"/><text fill=\"#000000\" font-family=\"sans-serif\" font-size=\"14\" lengthAdjust=\"spacingAndGlyphs\" textLength=\"7\" x=\"388.5\" y=\"189.6982\">v</text><rect fill=\"#383838\" height=\"12\" style=\"stroke: #F8F8F8; stroke-width: 1.5;\" width=\"12\" x=\"386\" y=\"205\"/><!--MD5=[0c48fb7552dae8cbbef69381101a84c8]\n",
       "class E15--><a href=\"psysml:cfe8b385-7bc2-406c-91e1-db9911ba5874\" target=\"_top\" title=\"psysml:cfe8b385-7bc2-406c-91e1-db9911ba5874\" xlink:actuate=\"onRequest\" xlink:href=\"psysml:cfe8b385-7bc2-406c-91e1-db9911ba5874\" xlink:show=\"new\" xlink:title=\"psysml:cfe8b385-7bc2-406c-91e1-db9911ba5874\" xlink:type=\"simple\"><rect fill=\"#FFFFFF\" height=\"45.9375\" id=\"E15\" rx=\"10\" ry=\"10\" style=\"stroke: #383838; stroke-width: 1.5;\" width=\"172\" x=\"56\" y=\"372\"/><text fill=\"#000000\" font-family=\"sans-serif\" font-size=\"12\" font-style=\"italic\" lengthAdjust=\"spacingAndGlyphs\" textLength=\"64\" x=\"110\" y=\"388.1387\">«analysis»</text><text fill=\"#000000\" font-family=\"sans-serif\" font-size=\"12\" lengthAdjust=\"spacingAndGlyphs\" textLength=\"162\" x=\"59\" y=\"402.1074\">analysisPlan: AnalysisPlan</text><line style=\"stroke: #383838; stroke-width: 1.5;\" x1=\"57\" x2=\"227\" y1=\"409.9375\" y2=\"409.9375\"/></a><!--MD5=[35f0587eaee8d5bb9a02e25b63afc23b]\n",
       "class E16--><a href=\"psysml:63325e1e-8a82-4691-b26b-3354962a7cad\" target=\"_top\" title=\"psysml:63325e1e-8a82-4691-b26b-3354962a7cad\" xlink:actuate=\"onRequest\" xlink:href=\"psysml:63325e1e-8a82-4691-b26b-3354962a7cad\" xlink:show=\"new\" xlink:title=\"psysml:63325e1e-8a82-4691-b26b-3354962a7cad\" xlink:type=\"simple\"><rect fill=\"#FFFFFF\" height=\"45.9375\" id=\"E16\" rx=\"10\" ry=\"10\" style=\"stroke: #383838; stroke-width: 1.5;\" width=\"93\" x=\"345.5\" y=\"372\"/><text fill=\"#000000\" font-family=\"sans-serif\" font-size=\"12\" font-style=\"italic\" lengthAdjust=\"spacingAndGlyphs\" textLength=\"91\" x=\"346.5\" y=\"388.1387\">«requirement»</text><text fill=\"#000000\" font-family=\"sans-serif\" font-size=\"12\" lengthAdjust=\"spacingAndGlyphs\" textLength=\"19\" x=\"382.5\" y=\"402.1074\">obj</text><line style=\"stroke: #383838; stroke-width: 1.5;\" x1=\"346.5\" x2=\"437.5\" y1=\"409.9375\" y2=\"409.9375\"/></a><!--MD5=[1b01d5b954197aaf3899ca0bde35faf5]\n",
       "link E15 to E8--><a href=\"psysml:b8e5c057-83f1-47ef-94c9-1676b303e623\" target=\"_top\" title=\"psysml:b8e5c057-83f1-47ef-94c9-1676b303e623\" xlink:actuate=\"onRequest\" xlink:href=\"psysml:b8e5c057-83f1-47ef-94c9-1676b303e623\" xlink:show=\"new\" xlink:title=\"psysml:b8e5c057-83f1-47ef-94c9-1676b303e623\" xlink:type=\"simple\"><path d=\"M195.78,371.92 C229.17,356.97 273.03,336.68 311,317 C328.07,308.15 346.71,297.49 361.71,288.66 \" fill=\"none\" id=\"E15-&gt;E8\" style=\"stroke: #383838; stroke-width: 1.0;\"/><polygon fill=\"#FFFFFF\" points=\"361.71,288.66,348.8874,304.331,341.7853,292.2662,361.71,288.66\" style=\"stroke: #383838; stroke-width: 1.0;\"/><ellipse cx=\"342.9607\" cy=\"305.4991\" fill=\"#383838\" rx=\"2\" ry=\"2\" style=\"stroke: #383838; stroke-width: 1.0;\"/><ellipse cx=\"337.8878\" cy=\"296.8814\" fill=\"#383838\" rx=\"2\" ry=\"2\" style=\"stroke: #383838; stroke-width: 1.0;\"/></a><!--MD5=[f8b155c46b092be73bb522b0a8fc72a2]\n",
       "link E15 to E16--><a href=\"psysml:7d3bd451-2ef5-4e75-9594-2e0dd7330291\" target=\"_top\" title=\"psysml:7d3bd451-2ef5-4e75-9594-2e0dd7330291\" xlink:actuate=\"onRequest\" xlink:href=\"psysml:7d3bd451-2ef5-4e75-9594-2e0dd7330291\" xlink:show=\"new\" xlink:title=\"psysml:7d3bd451-2ef5-4e75-9594-2e0dd7330291\" xlink:type=\"simple\"><path d=\"M228,395 C264.17,395 305.27,395 337.15,395 \" fill=\"none\" id=\"E15-&gt;E16\" style=\"stroke: #383838; stroke-width: 1.0;\"/><polygon fill=\"#383838\" points=\"345.46,395,337.46,392,337.46,398,345.46,395\" style=\"stroke: #383838; stroke-width: 1.0;\"/><text fill=\"#000000\" font-family=\"sans-serif\" font-size=\"13\" lengthAdjust=\"spacingAndGlyphs\" textLength=\"73\" x=\"237\" y=\"391.0669\">«objective»</text><text fill=\"#000000\" font-family=\"sans-serif\" font-size=\"13\" lengthAdjust=\"spacingAndGlyphs\" textLength=\"8\" x=\"329.4052\" y=\"408.2778\">1</text></a><!--MD5=[6c4a7bab80621de7480da5e923b2bcfb]\n",
       "@startuml\r\n",
       "skinparam ranksep 10\r\n",
       "skinparam rectangle {\r\n",
       " backgroundColor<<block>> LightGreen\r\n",
       "}\r\n",
       "left to right direction\r\n",
       "skinparam monochrome true\r\n",
       "skinparam classbackgroundcolor white\r\n",
       "skinparam shadowing false\r\n",
       "skinparam wrapWidth 300\r\n",
       "hide circle\r\n",
       "\r\n",
       "package \"AnalysisTest\" as E1  [[psysml:d47d9c93-f987-42aa-9c82-a11afa9e7a85 ]]  {\r\n",
       "rec def \"V\" as E2  <<(T,blue) part  def>> [[psysml:6e318fc7-f06d-4e4c-8e44-1e6d0f884455 ]] {\r\n",
       "}\r\n",
       "rec usage \"vv: V\" as E3  [[psysml:27999d5c-daad-4ed7-92ff-020a622ea083 ]] {\r\n",
       "}\r\n",
       "comp def \"AnalysisObjective\" as E4  <<(T,blue) requirement  def>> [[psysml:31fce779-d9ab-452b-8111-7f3c68bff972 ]] {\r\n",
       "...\r\n",
       "- -\r\n",
       "}\r\n",
       "rec def \"AnalysisCase\" as E5 << analysis def>> [[psysml:0d42cad1-3808-4e7b-8fe6-f660e27fd2bd ]] {\r\n",
       "portin \"v\" as E6  [[psysml:f7aad551-6165-4689-8df3-b128f6f54571 ]] \r\n",
       "portout \"result\" as E7  [[psysml:d8a9a5d1-c1b2-404a-b54f-35037ecf4c2d ]] \r\n",
       "}\r\n",
       "\r\n",
       "rec def \"AnalysisPlan\" as E8 << analysis def>> [[psysml:058a72e0-0a98-4261-856d-73366cf47a25 ]] {\r\n",
       "portin \"v\" as E9  [[psysml:40d43c87-89d5-4dcb-a988-f011f6f29ac5 ]] \r\n",
       "rec usage \"analysisCase\" as E10 << analysis>> [[psysml:ebac0614-db53-4f6a-a11b-2a64966401ed ]] {\r\n",
       "portout \"mass\" as E11  [[psysml:94298e01-1500-44a7-8244-0cc3e5620ae6 ]] \r\n",
       "portin \"v\" as E12  [[psysml:fabccdcf-1c94-4d5c-8a0b-5626b651aa80 ]] \r\n",
       "}\r\n",
       "\r\n",
       "portout \"result\" as E13  [[psysml:633f1383-e65f-4e22-9e6d-6ffcdde4bc38 ]] \r\n",
       "}\r\n",
       "\r\n",
       "rec usage \"analysisContext\" as E14  [[psysml:2f29b586-744b-44a6-b354-0cb36fac52ba ]] {\r\n",
       "comp usage \"analysisPlan: AnalysisPlan \" as E15 << analysis>> [[psysml:cfe8b385-7bc2-406c-91e1-db9911ba5874 ]] {\r\n",
       "}\r\n",
       "comp usage \"obj\" as E16  <<(T,blue) requirement>> [[psysml:63325e1e-8a82-4691-b26b-3354962a7cad ]] {\r\n",
       "}\r\n",
       "}\r\n",
       "}\r\n",
       "E15 - -:|> E8 [[psysml:b8e5c057-83f1-47ef-94c9-1676b303e623 ]] \r\n",
       "E15 - ->> \"1\"E16 [[psysml:7d3bd451-2ef5-4e75-9594-2e0dd7330291 ]] : <<objective>>\r\n",
       "@enduml\r\n",
       "\n",
       "PlantUML version 1.2020.13(Sat Jun 13 12:26:38 UTC 2020)\n",
       "(EPL source distribution)\n",
       "Java Runtime: OpenJDK Runtime Environment\n",
       "JVM: OpenJDK 64-Bit Server VM\n",
       "Default Encoding: UTF-8\n",
       "Language: en\n",
       "Country: null\n",
       "--></g></svg>"
      ]
     },
     "execution_count": 19,
     "metadata": {},
     "output_type": "execute_result"
    }
   ],
   "source": [
    "%viz --style=\"LR\" --view=\"Interconnection\" \"AnalysisTest\""
   ]
  },
  {
   "cell_type": "code",
   "execution_count": 20,
   "id": "caf53d7d",
   "metadata": {
    "execution": {
     "iopub.execute_input": "2021-11-13T12:57:18.834038Z",
     "iopub.status.busy": "2021-11-13T12:57:18.833593Z",
     "iopub.status.idle": "2021-11-13T12:57:18.868217Z",
     "shell.execute_reply": "2021-11-13T12:57:18.866412Z"
    }
   },
   "outputs": [
    {
     "data": {
      "image/svg+xml": [
       "<?xml version=\"1.0\" encoding=\"UTF-8\" standalone=\"no\"?><svg xmlns=\"http://www.w3.org/2000/svg\" xmlns:xlink=\"http://www.w3.org/1999/xlink\" contentScriptType=\"application/ecmascript\" contentStyleType=\"text/css\" height=\"358px\" preserveAspectRatio=\"none\" style=\"width:365px;height:358px;\" version=\"1.1\" viewBox=\"0 0 365 358\" width=\"365px\" zoomAndPan=\"magnify\"><defs/><g><!--MD5=[fbc87193dbaf4d95561dea2c320d4a47]\n",
       "cluster E1--><a href=\"psysml:0d42cad1-3808-4e7b-8fe6-f660e27fd2bd\" target=\"_top\" title=\"psysml:0d42cad1-3808-4e7b-8fe6-f660e27fd2bd\" xlink:actuate=\"onRequest\" xlink:href=\"psysml:0d42cad1-3808-4e7b-8fe6-f660e27fd2bd\" xlink:show=\"new\" xlink:title=\"psysml:0d42cad1-3808-4e7b-8fe6-f660e27fd2bd\" xlink:type=\"simple\"><rect fill=\"#FFFFFF\" height=\"68\" id=\"E1\" style=\"stroke: #383838; stroke-width: 1.5;\" width=\"271\" x=\"25\" y=\"279\"/><rect fill=\"#F8F8F8\" height=\"37.9375\" style=\"stroke: #383838; stroke-width: 1.5;\" width=\"271\" x=\"25\" y=\"279\"/><text fill=\"#000000\" font-family=\"sans-serif\" font-size=\"12\" font-style=\"italic\" lengthAdjust=\"spacingAndGlyphs\" textLength=\"88\" x=\"116.5\" y=\"295.1387\">«analysis def»</text><text fill=\"#000000\" font-family=\"sans-serif\" font-size=\"12\" lengthAdjust=\"spacingAndGlyphs\" textLength=\"81\" x=\"120\" y=\"309.1074\">AnalysisCase</text></a><!--MD5=[f6df4d0ebaf0b5dfb2ced0ae5af7c670]\n",
       "cluster E4--><a href=\"psysml:058a72e0-0a98-4261-856d-73366cf47a25\" target=\"_top\" title=\"psysml:058a72e0-0a98-4261-856d-73366cf47a25\" xlink:actuate=\"onRequest\" xlink:href=\"psysml:058a72e0-0a98-4261-856d-73366cf47a25\" xlink:show=\"new\" xlink:title=\"psysml:058a72e0-0a98-4261-856d-73366cf47a25\" xlink:type=\"simple\"><rect fill=\"#FFFFFF\" height=\"135\" id=\"E4\" style=\"stroke: #383838; stroke-width: 1.5;\" width=\"347\" x=\"7\" y=\"102\"/><rect fill=\"#F8F8F8\" height=\"37.9375\" style=\"stroke: #383838; stroke-width: 1.5;\" width=\"347\" x=\"7\" y=\"102\"/><text fill=\"#000000\" font-family=\"sans-serif\" font-size=\"12\" font-style=\"italic\" lengthAdjust=\"spacingAndGlyphs\" textLength=\"88\" x=\"136.5\" y=\"118.1387\">«analysis def»</text><text fill=\"#000000\" font-family=\"sans-serif\" font-size=\"12\" lengthAdjust=\"spacingAndGlyphs\" textLength=\"77\" x=\"142\" y=\"132.1074\">AnalysisPlan</text></a><!--MD5=[14e3b0961a2654348d326746436168a1]\n",
       "cluster E6--><a href=\"psysml:ebac0614-db53-4f6a-a11b-2a64966401ed\" target=\"_top\" title=\"psysml:ebac0614-db53-4f6a-a11b-2a64966401ed\" xlink:actuate=\"onRequest\" xlink:href=\"psysml:ebac0614-db53-4f6a-a11b-2a64966401ed\" xlink:show=\"new\" xlink:title=\"psysml:ebac0614-db53-4f6a-a11b-2a64966401ed\" xlink:type=\"simple\"><rect fill=\"#FFFFFF\" height=\"68\" id=\"E6\" rx=\"10\" ry=\"10\" style=\"stroke: #383838; stroke-width: 1.5;\" width=\"220\" x=\"104\" y=\"143\"/><rect fill=\"#F8F8F8\" height=\"37.9375\" rx=\"10\" ry=\"10\" style=\"stroke: #F8F8F8; stroke-width: 1.5;\" width=\"220\" x=\"104\" y=\"143\"/><rect fill=\"#F8F8F8\" height=\"10\" style=\"stroke: #F8F8F8; stroke-width: 1.5;\" width=\"220\" x=\"104\" y=\"170.9375\"/><rect fill=\"none\" height=\"68\" id=\"E6\" rx=\"10\" ry=\"10\" style=\"stroke: #383838; stroke-width: 1.5;\" width=\"220\" x=\"104\" y=\"143\"/><text fill=\"#000000\" font-family=\"sans-serif\" font-size=\"12\" font-style=\"italic\" lengthAdjust=\"spacingAndGlyphs\" textLength=\"64\" x=\"182\" y=\"159.1387\">«analysis»</text><text fill=\"#000000\" font-family=\"sans-serif\" font-size=\"12\" lengthAdjust=\"spacingAndGlyphs\" textLength=\"81\" x=\"173.5\" y=\"173.1074\">analysisCase</text><line style=\"stroke: #383838; stroke-width: 1.0;\" x1=\"104\" x2=\"324\" y1=\"180.9375\" y2=\"180.9375\"/></a><!--MD5=[a84b4591f868c1fa4a211716a82f2f0d]\n",
       "cluster E10--><a href=\"psysml:cfe8b385-7bc2-406c-91e1-db9911ba5874\" target=\"_top\" title=\"psysml:cfe8b385-7bc2-406c-91e1-db9911ba5874\" xlink:actuate=\"onRequest\" xlink:href=\"psysml:cfe8b385-7bc2-406c-91e1-db9911ba5874\" xlink:show=\"new\" xlink:title=\"psysml:cfe8b385-7bc2-406c-91e1-db9911ba5874\" xlink:type=\"simple\"><rect fill=\"#FFFFFF\" height=\"48\" id=\"E10\" rx=\"10\" ry=\"10\" style=\"stroke: #383838; stroke-width: 1.5;\" width=\"289\" x=\"25\" y=\"7\"/><rect fill=\"#F8F8F8\" height=\"37.9375\" rx=\"10\" ry=\"10\" style=\"stroke: #F8F8F8; stroke-width: 1.5;\" width=\"289\" x=\"25\" y=\"7\"/><rect fill=\"#F8F8F8\" height=\"10\" style=\"stroke: #F8F8F8; stroke-width: 1.5;\" width=\"289\" x=\"25\" y=\"34.9375\"/><rect fill=\"none\" height=\"48\" id=\"E10\" rx=\"10\" ry=\"10\" style=\"stroke: #383838; stroke-width: 1.5;\" width=\"289\" x=\"25\" y=\"7\"/><text fill=\"#000000\" font-family=\"sans-serif\" font-size=\"12\" font-style=\"italic\" lengthAdjust=\"spacingAndGlyphs\" textLength=\"64\" x=\"137.5\" y=\"23.1387\">«analysis»</text><text fill=\"#000000\" font-family=\"sans-serif\" font-size=\"12\" lengthAdjust=\"spacingAndGlyphs\" textLength=\"77\" x=\"131\" y=\"37.1074\">analysisPlan</text><line style=\"stroke: #383838; stroke-width: 1.0;\" x1=\"25\" x2=\"314\" y1=\"44.9375\" y2=\"44.9375\"/></a><text fill=\"#000000\" font-family=\"sans-serif\" font-size=\"14\" lengthAdjust=\"spacingAndGlyphs\" textLength=\"7\" x=\"21.5\" y=\"291.6982\">v</text><rect fill=\"#383838\" height=\"12\" style=\"stroke: #F8F8F8; stroke-width: 1.5;\" width=\"12\" x=\"19\" y=\"307\"/><text fill=\"#000000\" font-family=\"sans-serif\" font-size=\"14\" lengthAdjust=\"spacingAndGlyphs\" textLength=\"39\" x=\"276.5\" y=\"291.6982\">result</text><rect fill=\"#383838\" height=\"12\" style=\"stroke: #F8F8F8; stroke-width: 1.5;\" width=\"12\" x=\"290\" y=\"307\"/><text fill=\"#000000\" font-family=\"sans-serif\" font-size=\"14\" lengthAdjust=\"spacingAndGlyphs\" textLength=\"7\" x=\"21.5\" y=\"255.9951\">v</text><rect fill=\"#383838\" height=\"12\" style=\"stroke: #F8F8F8; stroke-width: 1.5;\" width=\"12\" x=\"19\" y=\"231\"/><text fill=\"#000000\" font-family=\"sans-serif\" font-size=\"14\" lengthAdjust=\"spacingAndGlyphs\" textLength=\"39\" x=\"276.5\" y=\"80.6982\">result</text><rect fill=\"#383838\" height=\"12\" style=\"stroke: #F8F8F8; stroke-width: 1.5;\" width=\"12\" x=\"290\" y=\"96\"/><text fill=\"#000000\" font-family=\"sans-serif\" font-size=\"14\" lengthAdjust=\"spacingAndGlyphs\" textLength=\"37\" x=\"305.5\" y=\"155.6982\">mass</text><rect fill=\"#383838\" height=\"12\" style=\"stroke: #F8F8F8; stroke-width: 1.5;\" width=\"12\" x=\"318\" y=\"171\"/><text fill=\"#000000\" font-family=\"sans-serif\" font-size=\"14\" lengthAdjust=\"spacingAndGlyphs\" textLength=\"7\" x=\"100.5\" y=\"155.6982\">v</text><rect fill=\"#383838\" height=\"12\" style=\"stroke: #F8F8F8; stroke-width: 1.5;\" width=\"12\" x=\"98\" y=\"171\"/><text fill=\"#000000\" font-family=\"sans-serif\" font-size=\"14\" lengthAdjust=\"spacingAndGlyphs\" textLength=\"7\" x=\"21.5\" y=\"59.9951\">v</text><rect fill=\"#383838\" height=\"12\" style=\"stroke: #F8F8F8; stroke-width: 1.5;\" width=\"12\" x=\"19\" y=\"35\"/><text fill=\"#000000\" font-family=\"sans-serif\" font-size=\"14\" lengthAdjust=\"spacingAndGlyphs\" textLength=\"39\" x=\"276.5\" y=\"73.9951\">result</text><rect fill=\"#383838\" height=\"12\" style=\"stroke: #F8F8F8; stroke-width: 1.5;\" width=\"12\" x=\"290\" y=\"49\"/><!--MD5=[940e882d581df19369f700601b4631a9]\n",
       "@startuml\r\n",
       "skinparam ranksep 8\r\n",
       "left to right direction\r\n",
       "skinparam monochrome true\r\n",
       "skinparam classbackgroundcolor white\r\n",
       "skinparam shadowing false\r\n",
       "skinparam wrapWidth 300\r\n",
       "hide circle\r\n",
       "\r\n",
       "rec def \"AnalysisCase\" as E1 << analysis def>> [[psysml:0d42cad1-3808-4e7b-8fe6-f660e27fd2bd ]] {\r\n",
       "portin \"v\" as E2  [[psysml:f7aad551-6165-4689-8df3-b128f6f54571 ]] \r\n",
       "portout \"result\" as E3  [[psysml:d8a9a5d1-c1b2-404a-b54f-35037ecf4c2d ]] \r\n",
       "}\r\n",
       "\r\n",
       "rec def \"AnalysisPlan\" as E4 << analysis def>> [[psysml:058a72e0-0a98-4261-856d-73366cf47a25 ]] {\r\n",
       "portin \"v\" as E5  [[psysml:40d43c87-89d5-4dcb-a988-f011f6f29ac5 ]] \r\n",
       "rec usage \"analysisCase\" as E6 << analysis>> [[psysml:ebac0614-db53-4f6a-a11b-2a64966401ed ]] {\r\n",
       "portout \"mass\" as E7  [[psysml:94298e01-1500-44a7-8244-0cc3e5620ae6 ]] \r\n",
       "portin \"v\" as E8  [[psysml:fabccdcf-1c94-4d5c-8a0b-5626b651aa80 ]] \r\n",
       "}\r\n",
       "\r\n",
       "portout \"result\" as E9  [[psysml:633f1383-e65f-4e22-9e6d-6ffcdde4bc38 ]] \r\n",
       "}\r\n",
       "\r\n",
       "rec usage \"analysisPlan\" as E10 << analysis>> [[psysml:cfe8b385-7bc2-406c-91e1-db9911ba5874 ]] {\r\n",
       "portin \"v\" as E11  [[psysml:55cfee2c-c24c-468f-9db4-77480ce5a457 ]] \r\n",
       "portout \"result\" as E12  [[psysml:8005f62b-cb79-4c8e-b32b-9a19d0c6c24c ]] \r\n",
       "}\r\n",
       "\r\n",
       "@enduml\r\n",
       "\n",
       "PlantUML version 1.2020.13(Sat Jun 13 12:26:38 UTC 2020)\n",
       "(EPL source distribution)\n",
       "Java Runtime: OpenJDK Runtime Environment\n",
       "JVM: OpenJDK 64-Bit Server VM\n",
       "Default Encoding: UTF-8\n",
       "Language: en\n",
       "Country: null\n",
       "--></g></svg>"
      ]
     },
     "execution_count": 20,
     "metadata": {},
     "output_type": "execute_result"
    }
   ],
   "source": [
    "%viz --style=\"LR\" --view=\"Action\" \"AnalysisTest\""
   ]
  },
  {
   "cell_type": "code",
   "execution_count": 21,
   "id": "f65090f6",
   "metadata": {
    "execution": {
     "iopub.execute_input": "2021-11-13T12:57:18.917296Z",
     "iopub.status.busy": "2021-11-13T12:57:18.916884Z",
     "iopub.status.idle": "2021-11-13T12:57:18.923540Z",
     "shell.execute_reply": "2021-11-13T12:57:18.923870Z"
    }
   },
   "outputs": [
    {
     "data": {
      "image/svg+xml": [
       "<?xml version=\"1.0\" encoding=\"UTF-8\" standalone=\"no\"?><svg xmlns=\"http://www.w3.org/2000/svg\" xmlns:xlink=\"http://www.w3.org/1999/xlink\" contentScriptType=\"application/ecmascript\" contentStyleType=\"text/css\" height=\"12px\" preserveAspectRatio=\"none\" style=\"width:12px;height:12px;\" version=\"1.1\" viewBox=\"0 0 12 12\" width=\"12px\" zoomAndPan=\"magnify\"><defs/><g><!--MD5=[238c11ea2002f03115ad6b49a457d50e]\n",
       "@startuml\r\n",
       "skinparam roundcorner 20\r\n",
       "skinparam BoxPadding 20\r\n",
       "skinparam SequenceBoxBackgroundColor #white\r\n",
       "skinparam style strictuml\r\n",
       "skinparam maxMessageSize 100\r\n",
       "left to right direction\r\n",
       "skinparam monochrome true\r\n",
       "skinparam classbackgroundcolor white\r\n",
       "skinparam shadowing false\r\n",
       "skinparam wrapWidth 300\r\n",
       "hide circle\r\n",
       "\r\n",
       "@enduml\r\n",
       "\n",
       "PlantUML version 1.2020.13(Sat Jun 13 12:26:38 UTC 2020)\n",
       "(EPL source distribution)\n",
       "Java Runtime: OpenJDK Runtime Environment\n",
       "JVM: OpenJDK 64-Bit Server VM\n",
       "Default Encoding: UTF-8\n",
       "Language: en\n",
       "Country: null\n",
       "--></g></svg>"
      ]
     },
     "execution_count": 21,
     "metadata": {},
     "output_type": "execute_result"
    }
   ],
   "source": [
    "%viz --style=\"LR\" --view=\"Sequence\" \"AnalysisTest\""
   ]
  },
  {
   "cell_type": "code",
   "execution_count": 22,
   "id": "1ec0b255",
   "metadata": {
    "execution": {
     "iopub.execute_input": "2021-11-13T12:57:18.973545Z",
     "iopub.status.busy": "2021-11-13T12:57:18.973135Z",
     "iopub.status.idle": "2021-11-13T12:57:19.032524Z",
     "shell.execute_reply": "2021-11-13T12:57:19.030595Z"
    }
   },
   "outputs": [
    {
     "data": {
      "image/svg+xml": [
       "<?xml version=\"1.0\" encoding=\"UTF-8\" standalone=\"no\"?><svg xmlns=\"http://www.w3.org/2000/svg\" xmlns:xlink=\"http://www.w3.org/1999/xlink\" contentScriptType=\"application/ecmascript\" contentStyleType=\"text/css\" height=\"504px\" preserveAspectRatio=\"none\" style=\"width:1005px;height:504px;\" version=\"1.1\" viewBox=\"0 0 1005 504\" width=\"1005px\" zoomAndPan=\"magnify\"><defs/><g><!--MD5=[fbc87193dbaf4d95561dea2c320d4a47]\n",
       "cluster E1--><a href=\"psysml:d47d9c93-f987-42aa-9c82-a11afa9e7a85\" target=\"_top\" title=\"psysml:d47d9c93-f987-42aa-9c82-a11afa9e7a85\" xlink:actuate=\"onRequest\" xlink:href=\"psysml:d47d9c93-f987-42aa-9c82-a11afa9e7a85\" xlink:show=\"new\" xlink:title=\"psysml:d47d9c93-f987-42aa-9c82-a11afa9e7a85\" xlink:type=\"simple\"><polygon fill=\"#FFFFFF\" points=\"16,6,108,6,115,28.2969,983,28.2969,983,492,16,492,16,6\" style=\"stroke: #000000; stroke-width: 1.5;\"/><line style=\"stroke: #000000; stroke-width: 1.5;\" x1=\"16\" x2=\"115\" y1=\"28.2969\" y2=\"28.2969\"/><text fill=\"#000000\" font-family=\"sans-serif\" font-size=\"14\" font-weight=\"bold\" lengthAdjust=\"spacingAndGlyphs\" textLength=\"86\" x=\"20\" y=\"20.9951\">AnalysisTest</text></a><!--MD5=[de5ec2e2e8f62f467e546659f5068c88]\n",
       "cluster E5--><a href=\"psysml:0d42cad1-3808-4e7b-8fe6-f660e27fd2bd\" target=\"_top\" title=\"psysml:0d42cad1-3808-4e7b-8fe6-f660e27fd2bd\" xlink:actuate=\"onRequest\" xlink:href=\"psysml:0d42cad1-3808-4e7b-8fe6-f660e27fd2bd\" xlink:show=\"new\" xlink:title=\"psysml:0d42cad1-3808-4e7b-8fe6-f660e27fd2bd\" xlink:type=\"simple\"><rect fill=\"#FFFFFF\" height=\"68\" id=\"E5\" style=\"stroke: #383838; stroke-width: 1.5;\" width=\"578.5\" x=\"92.5\" y=\"41\"/><rect fill=\"#F8F8F8\" height=\"37.9375\" style=\"stroke: #383838; stroke-width: 1.5;\" width=\"578.5\" x=\"92.5\" y=\"41\"/><text fill=\"#000000\" font-family=\"sans-serif\" font-size=\"12\" font-style=\"italic\" lengthAdjust=\"spacingAndGlyphs\" textLength=\"88\" x=\"337.75\" y=\"57.1387\">«analysis def»</text><text fill=\"#000000\" font-family=\"sans-serif\" font-size=\"12\" lengthAdjust=\"spacingAndGlyphs\" textLength=\"81\" x=\"341.25\" y=\"71.1074\">AnalysisCase</text></a><!--MD5=[55dfccfc6c49c2d10cd1bd2211a6c90c]\n",
       "cluster E8--><a href=\"psysml:058a72e0-0a98-4261-856d-73366cf47a25\" target=\"_top\" title=\"psysml:058a72e0-0a98-4261-856d-73366cf47a25\" xlink:actuate=\"onRequest\" xlink:href=\"psysml:058a72e0-0a98-4261-856d-73366cf47a25\" xlink:show=\"new\" xlink:title=\"psysml:058a72e0-0a98-4261-856d-73366cf47a25\" xlink:type=\"simple\"><rect fill=\"#FFFFFF\" height=\"132\" id=\"E8\" style=\"stroke: #383838; stroke-width: 1.5;\" width=\"677\" x=\"282\" y=\"234\"/><rect fill=\"#F8F8F8\" height=\"37.9375\" style=\"stroke: #383838; stroke-width: 1.5;\" width=\"677\" x=\"282\" y=\"234\"/><text fill=\"#000000\" font-family=\"sans-serif\" font-size=\"12\" font-style=\"italic\" lengthAdjust=\"spacingAndGlyphs\" textLength=\"88\" x=\"576.5\" y=\"250.1387\">«analysis def»</text><text fill=\"#000000\" font-family=\"sans-serif\" font-size=\"12\" lengthAdjust=\"spacingAndGlyphs\" textLength=\"77\" x=\"582\" y=\"264.1074\">AnalysisPlan</text></a><!--MD5=[a84b4591f868c1fa4a211716a82f2f0d]\n",
       "cluster E10--><a href=\"psysml:ebac0614-db53-4f6a-a11b-2a64966401ed\" target=\"_top\" title=\"psysml:ebac0614-db53-4f6a-a11b-2a64966401ed\" xlink:actuate=\"onRequest\" xlink:href=\"psysml:ebac0614-db53-4f6a-a11b-2a64966401ed\" xlink:show=\"new\" xlink:title=\"psysml:ebac0614-db53-4f6a-a11b-2a64966401ed\" xlink:type=\"simple\"><rect fill=\"#FFFFFF\" height=\"68\" id=\"E10\" rx=\"10\" ry=\"10\" style=\"stroke: #383838; stroke-width: 1.5;\" width=\"343\" x=\"578\" y=\"272\"/><rect fill=\"#F8F8F8\" height=\"37.9375\" rx=\"10\" ry=\"10\" style=\"stroke: #F8F8F8; stroke-width: 1.5;\" width=\"343\" x=\"578\" y=\"272\"/><rect fill=\"#F8F8F8\" height=\"10\" style=\"stroke: #F8F8F8; stroke-width: 1.5;\" width=\"343\" x=\"578\" y=\"299.9375\"/><rect fill=\"none\" height=\"68\" id=\"E10\" rx=\"10\" ry=\"10\" style=\"stroke: #383838; stroke-width: 1.5;\" width=\"343\" x=\"578\" y=\"272\"/><text fill=\"#000000\" font-family=\"sans-serif\" font-size=\"12\" font-style=\"italic\" lengthAdjust=\"spacingAndGlyphs\" textLength=\"64\" x=\"717.5\" y=\"288.1387\">«analysis»</text><text fill=\"#000000\" font-family=\"sans-serif\" font-size=\"12\" lengthAdjust=\"spacingAndGlyphs\" textLength=\"81\" x=\"709\" y=\"302.1074\">analysisCase</text><line style=\"stroke: #383838; stroke-width: 1.0;\" x1=\"578\" x2=\"921\" y1=\"309.9375\" y2=\"309.9375\"/></a><!--MD5=[b4997ac47864f28c2f74865a473b2911]\n",
       "class E2--><a href=\"psysml:6e318fc7-f06d-4e4c-8e44-1e6d0f884455\" target=\"_top\" title=\"psysml:6e318fc7-f06d-4e4c-8e44-1e6d0f884455\" xlink:actuate=\"onRequest\" xlink:href=\"psysml:6e318fc7-f06d-4e4c-8e44-1e6d0f884455\" xlink:show=\"new\" xlink:title=\"psysml:6e318fc7-f06d-4e4c-8e44-1e6d0f884455\" xlink:type=\"simple\"><rect fill=\"#FFFFFF\" height=\"75.5469\" id=\"E2\" style=\"stroke: #383838; stroke-width: 1.5;\" width=\"70\" x=\"265\" y=\"128\"/><text fill=\"#000000\" font-family=\"sans-serif\" font-size=\"12\" font-style=\"italic\" lengthAdjust=\"spacingAndGlyphs\" textLength=\"68\" x=\"266\" y=\"144.1387\">«part  def»</text><text fill=\"#000000\" font-family=\"sans-serif\" font-size=\"12\" lengthAdjust=\"spacingAndGlyphs\" textLength=\"8\" x=\"296\" y=\"158.1074\">V</text><line style=\"stroke: #383838; stroke-width: 1.5;\" x1=\"266\" x2=\"334\" y1=\"165.9375\" y2=\"165.9375\"/><text fill=\"#000000\" font-family=\"sans-serif\" font-size=\"11\" lengthAdjust=\"spacingAndGlyphs\" textLength=\"11\" x=\"271\" y=\"196.9526\">m</text><line style=\"stroke: #383838; stroke-width: 1.0;\" x1=\"266\" x2=\"269\" y1=\"180.3398\" y2=\"180.3398\"/><text fill=\"#000000\" font-family=\"sans-serif\" font-size=\"11\" lengthAdjust=\"spacingAndGlyphs\" textLength=\"62\" x=\"269\" y=\"183.6479\">references</text><line style=\"stroke: #383838; stroke-width: 1.0;\" x1=\"331\" x2=\"334\" y1=\"180.3398\" y2=\"180.3398\"/></a><!--MD5=[09b614a08d8cba4a07c9adeb5e0fee81]\n",
       "class E3--><a href=\"psysml:27999d5c-daad-4ed7-92ff-020a622ea083\" target=\"_top\" title=\"psysml:27999d5c-daad-4ed7-92ff-020a622ea083\" xlink:actuate=\"onRequest\" xlink:href=\"psysml:27999d5c-daad-4ed7-92ff-020a622ea083\" xlink:show=\"new\" xlink:title=\"psysml:27999d5c-daad-4ed7-92ff-020a622ea083\" xlink:type=\"simple\"><rect fill=\"#FFFFFF\" height=\"45.9375\" id=\"E3\" rx=\"10\" ry=\"10\" style=\"stroke: #383838; stroke-width: 1.5;\" width=\"42\" x=\"71.5\" y=\"143\"/><text fill=\"#000000\" font-family=\"sans-serif\" font-size=\"12\" font-style=\"italic\" lengthAdjust=\"spacingAndGlyphs\" textLength=\"40\" x=\"72.5\" y=\"159.1387\">«part»</text><text fill=\"#000000\" font-family=\"sans-serif\" font-size=\"12\" lengthAdjust=\"spacingAndGlyphs\" textLength=\"28\" x=\"76.5\" y=\"173.1074\">vv: V</text><line style=\"stroke: #383838; stroke-width: 1.5;\" x1=\"72.5\" x2=\"112.5\" y1=\"180.9375\" y2=\"180.9375\"/></a><!--MD5=[ebbe1d658d1005bcc118a6aa81145e00]\n",
       "class E4--><a href=\"psysml:31fce779-d9ab-452b-8111-7f3c68bff972\" target=\"_top\" title=\"psysml:31fce779-d9ab-452b-8111-7f3c68bff972\" xlink:actuate=\"onRequest\" xlink:href=\"psysml:31fce779-d9ab-452b-8111-7f3c68bff972\" xlink:show=\"new\" xlink:title=\"psysml:31fce779-d9ab-452b-8111-7f3c68bff972\" xlink:type=\"simple\"><rect fill=\"#FFFFFF\" height=\"66.7422\" id=\"E4\" style=\"stroke: #383838; stroke-width: 1.5;\" width=\"121\" x=\"32\" y=\"272.5\"/><text fill=\"#000000\" font-family=\"sans-serif\" font-size=\"12\" font-style=\"italic\" lengthAdjust=\"spacingAndGlyphs\" textLength=\"119\" x=\"33\" y=\"288.6387\">«requirement  def»</text><text fill=\"#000000\" font-family=\"sans-serif\" font-size=\"12\" lengthAdjust=\"spacingAndGlyphs\" textLength=\"107\" x=\"39\" y=\"302.6074\">AnalysisObjective</text><line style=\"stroke: #383838; stroke-width: 1.5;\" x1=\"33\" x2=\"152\" y1=\"310.4375\" y2=\"310.4375\"/><text fill=\"#000000\" font-family=\"sans-serif\" font-size=\"11\" lengthAdjust=\"spacingAndGlyphs\" textLength=\"12\" x=\"38\" y=\"324.6479\">...</text><line style=\"stroke: #383838; stroke-width: 1.0;\" x1=\"33\" x2=\"152\" y1=\"331.2422\" y2=\"331.2422\"/></a><!--MD5=[bee11217b2f71d958a27249dc326068c]\n",
       "class E14--><a href=\"psysml:2f29b586-744b-44a6-b354-0cb36fac52ba\" target=\"_top\" title=\"psysml:2f29b586-744b-44a6-b354-0cb36fac52ba\" xlink:actuate=\"onRequest\" xlink:href=\"psysml:2f29b586-744b-44a6-b354-0cb36fac52ba\" xlink:show=\"new\" xlink:title=\"psysml:2f29b586-744b-44a6-b354-0cb36fac52ba\" xlink:type=\"simple\"><rect fill=\"#FFFFFF\" height=\"45.9375\" id=\"E14\" rx=\"10\" ry=\"10\" style=\"stroke: #383838; stroke-width: 1.5;\" width=\"104\" x=\"40.5\" y=\"424\"/><text fill=\"#000000\" font-family=\"sans-serif\" font-size=\"12\" font-style=\"italic\" lengthAdjust=\"spacingAndGlyphs\" textLength=\"40\" x=\"72.5\" y=\"440.1387\">«part»</text><text fill=\"#000000\" font-family=\"sans-serif\" font-size=\"12\" lengthAdjust=\"spacingAndGlyphs\" textLength=\"98\" x=\"43.5\" y=\"454.1074\">analysisContext</text><line style=\"stroke: #383838; stroke-width: 1.5;\" x1=\"41.5\" x2=\"143.5\" y1=\"461.9375\" y2=\"461.9375\"/></a><!--MD5=[0c48fb7552dae8cbbef69381101a84c8]\n",
       "class E15--><a href=\"psysml:cfe8b385-7bc2-406c-91e1-db9911ba5874\" target=\"_top\" title=\"psysml:cfe8b385-7bc2-406c-91e1-db9911ba5874\" xlink:actuate=\"onRequest\" xlink:href=\"psysml:cfe8b385-7bc2-406c-91e1-db9911ba5874\" xlink:show=\"new\" xlink:title=\"psysml:cfe8b385-7bc2-406c-91e1-db9911ba5874\" xlink:type=\"simple\"><rect fill=\"#FFFFFF\" height=\"45.9375\" id=\"E15\" rx=\"10\" ry=\"10\" style=\"stroke: #383838; stroke-width: 1.5;\" width=\"172\" x=\"214\" y=\"424\"/><text fill=\"#000000\" font-family=\"sans-serif\" font-size=\"12\" font-style=\"italic\" lengthAdjust=\"spacingAndGlyphs\" textLength=\"64\" x=\"268\" y=\"440.1387\">«analysis»</text><text fill=\"#000000\" font-family=\"sans-serif\" font-size=\"12\" lengthAdjust=\"spacingAndGlyphs\" textLength=\"162\" x=\"217\" y=\"454.1074\">analysisPlan: AnalysisPlan</text><line style=\"stroke: #383838; stroke-width: 1.5;\" x1=\"215\" x2=\"385\" y1=\"461.9375\" y2=\"461.9375\"/></a><!--MD5=[35f0587eaee8d5bb9a02e25b63afc23b]\n",
       "class E16--><a href=\"psysml:63325e1e-8a82-4691-b26b-3354962a7cad\" target=\"_top\" title=\"psysml:63325e1e-8a82-4691-b26b-3354962a7cad\" xlink:actuate=\"onRequest\" xlink:href=\"psysml:63325e1e-8a82-4691-b26b-3354962a7cad\" xlink:show=\"new\" xlink:title=\"psysml:63325e1e-8a82-4691-b26b-3354962a7cad\" xlink:type=\"simple\"><rect fill=\"#FFFFFF\" height=\"45.9375\" id=\"E16\" rx=\"10\" ry=\"10\" style=\"stroke: #383838; stroke-width: 1.5;\" width=\"93\" x=\"531.5\" y=\"424\"/><text fill=\"#000000\" font-family=\"sans-serif\" font-size=\"12\" font-style=\"italic\" lengthAdjust=\"spacingAndGlyphs\" textLength=\"91\" x=\"532.5\" y=\"440.1387\">«requirement»</text><text fill=\"#000000\" font-family=\"sans-serif\" font-size=\"12\" lengthAdjust=\"spacingAndGlyphs\" textLength=\"19\" x=\"568.5\" y=\"454.1074\">obj</text><line style=\"stroke: #383838; stroke-width: 1.5;\" x1=\"532.5\" x2=\"623.5\" y1=\"461.9375\" y2=\"461.9375\"/></a><text fill=\"#000000\" font-family=\"sans-serif\" font-size=\"14\" lengthAdjust=\"spacingAndGlyphs\" textLength=\"7\" x=\"89\" y=\"53.6982\">v</text><rect fill=\"#383838\" height=\"12\" style=\"stroke: #F8F8F8; stroke-width: 1.5;\" width=\"12\" x=\"86.5\" y=\"69\"/><text fill=\"#000000\" font-family=\"sans-serif\" font-size=\"14\" lengthAdjust=\"spacingAndGlyphs\" textLength=\"39\" x=\"651.5\" y=\"53.6982\">result</text><rect fill=\"#383838\" height=\"12\" style=\"stroke: #F8F8F8; stroke-width: 1.5;\" width=\"12\" x=\"665\" y=\"69\"/><text fill=\"#000000\" font-family=\"sans-serif\" font-size=\"14\" lengthAdjust=\"spacingAndGlyphs\" textLength=\"7\" x=\"296.5\" y=\"384.9951\">v</text><rect fill=\"#383838\" height=\"12\" style=\"stroke: #F8F8F8; stroke-width: 1.5;\" width=\"12\" x=\"294\" y=\"360\"/><text fill=\"#000000\" font-family=\"sans-serif\" font-size=\"14\" lengthAdjust=\"spacingAndGlyphs\" textLength=\"39\" x=\"828.5\" y=\"212.6982\">result</text><rect fill=\"#383838\" height=\"12\" style=\"stroke: #F8F8F8; stroke-width: 1.5;\" width=\"12\" x=\"842\" y=\"228\"/><text fill=\"#000000\" font-family=\"sans-serif\" font-size=\"14\" lengthAdjust=\"spacingAndGlyphs\" textLength=\"37\" x=\"902.5\" y=\"284.6982\">mass</text><rect fill=\"#383838\" height=\"12\" style=\"stroke: #F8F8F8; stroke-width: 1.5;\" width=\"12\" x=\"915\" y=\"300\"/><text fill=\"#000000\" font-family=\"sans-serif\" font-size=\"14\" lengthAdjust=\"spacingAndGlyphs\" textLength=\"7\" x=\"574.5\" y=\"284.6982\">v</text><rect fill=\"#383838\" height=\"12\" style=\"stroke: #F8F8F8; stroke-width: 1.5;\" width=\"12\" x=\"572\" y=\"300\"/><!--MD5=[05d275557350bfb9b23a4ef7222b4c39]\n",
       "link E3 to E2--><a href=\"psysml:4413170d-8387-4bcf-a661-a8e63eefb5dc\" target=\"_top\" title=\"psysml:4413170d-8387-4bcf-a661-a8e63eefb5dc\" xlink:actuate=\"onRequest\" xlink:href=\"psysml:4413170d-8387-4bcf-a661-a8e63eefb5dc\" xlink:show=\"new\" xlink:title=\"psysml:4413170d-8387-4bcf-a661-a8e63eefb5dc\" xlink:type=\"simple\"><path d=\"M113.58,166 C143.71,166 201.7,166 244.84,166 \" fill=\"none\" id=\"E3-&gt;E2\" style=\"stroke: #383838; stroke-width: 1.0;\"/><polygon fill=\"#FFFFFF\" points=\"264.93,166,245.93,173,245.93,159,264.93,166\" style=\"stroke: #383838; stroke-width: 1.0;\"/><ellipse cx=\"240.23\" cy=\"171\" fill=\"#383838\" rx=\"2\" ry=\"2\" style=\"stroke: #383838; stroke-width: 1.0;\"/><ellipse cx=\"240.23\" cy=\"161\" fill=\"#383838\" rx=\"2\" ry=\"2\" style=\"stroke: #383838; stroke-width: 1.0;\"/></a><!--MD5=[17bf29720e4688890742b92d9a67fdf0]\n",
       "reverse link E14 to E15--><a href=\"psysml:df4b3059-af15-4a6e-9f16-4ce8d388f00c\" target=\"_top\" title=\"psysml:df4b3059-af15-4a6e-9f16-4ce8d388f00c\" xlink:actuate=\"onRequest\" xlink:href=\"psysml:df4b3059-af15-4a6e-9f16-4ce8d388f00c\" xlink:show=\"new\" xlink:title=\"psysml:df4b3059-af15-4a6e-9f16-4ce8d388f00c\" xlink:type=\"simple\"><path d=\"M157.75,447 C175.5,447 195.05,447 213.79,447 \" fill=\"none\" id=\"E14&lt;-E15\" style=\"stroke: #383838; stroke-width: 1.0;\"/><polygon fill=\"#383838\" points=\"144.56,447,150.56,451,156.56,447,150.56,443,144.56,447\" style=\"stroke: #383838; stroke-width: 1.0;\"/></a><!--MD5=[1b01d5b954197aaf3899ca0bde35faf5]\n",
       "link E15 to E8--><a href=\"psysml:b8e5c057-83f1-47ef-94c9-1676b303e623\" target=\"_top\" title=\"psysml:b8e5c057-83f1-47ef-94c9-1676b303e623\" xlink:actuate=\"onRequest\" xlink:href=\"psysml:b8e5c057-83f1-47ef-94c9-1676b303e623\" xlink:show=\"new\" xlink:title=\"psysml:b8e5c057-83f1-47ef-94c9-1676b303e623\" xlink:type=\"simple\"><path d=\"M379.45,423.88 C417.38,412.72 463.55,399.14 505,387 C510.12,385.5 515.45,383.94 520.79,382.38 \" fill=\"none\" id=\"E15-&gt;E8\" style=\"stroke: #383838; stroke-width: 1.0;\"/><polygon fill=\"#FFFFFF\" points=\"520.79,382.38,504.5152,394.427,500.5894,380.9887,520.79,382.38\" style=\"stroke: #383838; stroke-width: 1.0;\"/><ellipse cx=\"498.4831\" cy=\"394.1056\" fill=\"#383838\" rx=\"2\" ry=\"2\" style=\"stroke: #383838; stroke-width: 1.0;\"/><ellipse cx=\"495.6789\" cy=\"384.5068\" fill=\"#383838\" rx=\"2\" ry=\"2\" style=\"stroke: #383838; stroke-width: 1.0;\"/></a><!--MD5=[f8b155c46b092be73bb522b0a8fc72a2]\n",
       "link E15 to E16--><a href=\"psysml:7d3bd451-2ef5-4e75-9594-2e0dd7330291\" target=\"_top\" title=\"psysml:7d3bd451-2ef5-4e75-9594-2e0dd7330291\" xlink:actuate=\"onRequest\" xlink:href=\"psysml:7d3bd451-2ef5-4e75-9594-2e0dd7330291\" xlink:show=\"new\" xlink:title=\"psysml:7d3bd451-2ef5-4e75-9594-2e0dd7330291\" xlink:type=\"simple\"><path d=\"M386.06,447 C430.72,447 484.09,447 523.04,447 \" fill=\"none\" id=\"E15-&gt;E16\" style=\"stroke: #383838; stroke-width: 1.0;\"/><polygon fill=\"#383838\" points=\"531.13,447,523.13,444,523.13,450,531.13,447\" style=\"stroke: #383838; stroke-width: 1.0;\"/><text fill=\"#000000\" font-family=\"sans-serif\" font-size=\"13\" lengthAdjust=\"spacingAndGlyphs\" textLength=\"73\" x=\"417\" y=\"443.0669\">«objective»</text><text fill=\"#000000\" font-family=\"sans-serif\" font-size=\"13\" lengthAdjust=\"spacingAndGlyphs\" textLength=\"8\" x=\"515.6585\" y=\"460.1828\">1</text></a><!--MD5=[eee3e23dcf4afd859296cdc925cc6bc1]\n",
       "@startuml\r\n",
       "left to right direction\r\n",
       "skinparam monochrome true\r\n",
       "skinparam classbackgroundcolor white\r\n",
       "skinparam shadowing false\r\n",
       "skinparam wrapWidth 300\r\n",
       "hide circle\r\n",
       "\r\n",
       "package \"AnalysisTest\" as E1  [[psysml:d47d9c93-f987-42aa-9c82-a11afa9e7a85 ]]  {\r\n",
       "comp def \"V\" as E2  <<(T,blue) part  def>> [[psysml:6e318fc7-f06d-4e4c-8e44-1e6d0f884455 ]] {\r\n",
       "- - references - -\r\n",
       "m\r\n",
       "}\r\n",
       "comp usage \"vv: V \" as E3  <<(T,blue) part>> [[psysml:27999d5c-daad-4ed7-92ff-020a622ea083 ]] {\r\n",
       "}\r\n",
       "comp def \"AnalysisObjective\" as E4  <<(T,blue) requirement  def>> [[psysml:31fce779-d9ab-452b-8111-7f3c68bff972 ]] {\r\n",
       "...\r\n",
       "- -\r\n",
       "}\r\n",
       "rec def \"AnalysisCase\" as E5 << analysis def>> [[psysml:0d42cad1-3808-4e7b-8fe6-f660e27fd2bd ]] {\r\n",
       "portin \"v\" as E6  [[psysml:f7aad551-6165-4689-8df3-b128f6f54571 ]] \r\n",
       "portout \"result\" as E7  [[psysml:d8a9a5d1-c1b2-404a-b54f-35037ecf4c2d ]] \r\n",
       "}\r\n",
       "\r\n",
       "rec def \"AnalysisPlan\" as E8 << analysis def>> [[psysml:058a72e0-0a98-4261-856d-73366cf47a25 ]] {\r\n",
       "portin \"v\" as E9  [[psysml:40d43c87-89d5-4dcb-a988-f011f6f29ac5 ]] \r\n",
       "rec usage \"analysisCase\" as E10 << analysis>> [[psysml:ebac0614-db53-4f6a-a11b-2a64966401ed ]] {\r\n",
       "portout \"mass\" as E11  [[psysml:94298e01-1500-44a7-8244-0cc3e5620ae6 ]] \r\n",
       "portin \"v\" as E12  [[psysml:fabccdcf-1c94-4d5c-8a0b-5626b651aa80 ]] \r\n",
       "}\r\n",
       "\r\n",
       "portout \"result\" as E13  [[psysml:633f1383-e65f-4e22-9e6d-6ffcdde4bc38 ]] \r\n",
       "}\r\n",
       "\r\n",
       "comp usage \"analysisContext\" as E14  <<(T,blue) part>> [[psysml:2f29b586-744b-44a6-b354-0cb36fac52ba ]] {\r\n",
       "}\r\n",
       "comp usage \"analysisPlan: AnalysisPlan \" as E15 << analysis>> [[psysml:cfe8b385-7bc2-406c-91e1-db9911ba5874 ]] {\r\n",
       "}\r\n",
       "comp usage \"obj\" as E16  <<(T,blue) requirement>> [[psysml:63325e1e-8a82-4691-b26b-3354962a7cad ]] {\r\n",
       "}\r\n",
       "}\r\n",
       "E3 - -:|> E2 [[psysml:4413170d-8387-4bcf-a661-a8e63eefb5dc ]] \r\n",
       "E14 *- - E15 [[psysml:df4b3059-af15-4a6e-9f16-4ce8d388f00c ]] \r\n",
       "E15 - -:|> E8 [[psysml:b8e5c057-83f1-47ef-94c9-1676b303e623 ]] \r\n",
       "E15 - ->> \"1\"E16 [[psysml:7d3bd451-2ef5-4e75-9594-2e0dd7330291 ]] : <<objective>>\r\n",
       "@enduml\r\n",
       "\n",
       "PlantUML version 1.2020.13(Sat Jun 13 12:26:38 UTC 2020)\n",
       "(EPL source distribution)\n",
       "Java Runtime: OpenJDK Runtime Environment\n",
       "JVM: OpenJDK 64-Bit Server VM\n",
       "Default Encoding: UTF-8\n",
       "Language: en\n",
       "Country: null\n",
       "--></g></svg>"
      ]
     },
     "execution_count": 22,
     "metadata": {},
     "output_type": "execute_result"
    }
   ],
   "source": [
    "%viz --style=\"LR\" --view=\"MIXED\" \"AnalysisTest\""
   ]
  },
  {
   "cell_type": "code",
   "execution_count": 23,
   "id": "72be9545",
   "metadata": {
    "execution": {
     "iopub.execute_input": "2021-11-13T12:57:19.081328Z",
     "iopub.status.busy": "2021-11-13T12:57:19.080916Z",
     "iopub.status.idle": "2021-11-13T12:57:19.141425Z",
     "shell.execute_reply": "2021-11-13T12:57:19.141010Z"
    }
   },
   "outputs": [
    {
     "data": {
      "image/svg+xml": [
       "<?xml version=\"1.0\" encoding=\"UTF-8\" standalone=\"no\"?><svg xmlns=\"http://www.w3.org/2000/svg\" xmlns:xlink=\"http://www.w3.org/1999/xlink\" contentScriptType=\"application/ecmascript\" contentStyleType=\"text/css\" height=\"658px\" preserveAspectRatio=\"none\" style=\"width:845px;height:658px;\" version=\"1.1\" viewBox=\"0 0 845 658\" width=\"845px\" zoomAndPan=\"magnify\"><defs><filter height=\"300%\" id=\"fvfgz2xbnqcmu\" width=\"300%\" x=\"-1\" y=\"-1\"><feGaussianBlur result=\"blurOut\" stdDeviation=\"2.0\"/><feColorMatrix in=\"blurOut\" result=\"blurOut2\" type=\"matrix\" values=\"0 0 0 0 0 0 0 0 0 0 0 0 0 0 0 0 0 0 .4 0\"/><feOffset dx=\"4.0\" dy=\"4.0\" in=\"blurOut2\" result=\"blurOut3\"/><feBlend in=\"SourceGraphic\" in2=\"blurOut3\" mode=\"normal\"/></filter></defs><g><!--MD5=[fbc87193dbaf4d95561dea2c320d4a47]\n",
       "cluster E1--><a href=\"psysml:d47d9c93-f987-42aa-9c82-a11afa9e7a85\" target=\"_top\" title=\"psysml:d47d9c93-f987-42aa-9c82-a11afa9e7a85\" xlink:actuate=\"onRequest\" xlink:href=\"psysml:d47d9c93-f987-42aa-9c82-a11afa9e7a85\" xlink:show=\"new\" xlink:title=\"psysml:d47d9c93-f987-42aa-9c82-a11afa9e7a85\" xlink:type=\"simple\"><polygon fill=\"#FFFFFF\" filter=\"url(#fvfgz2xbnqcmu)\" points=\"16,6,108,6,115,28.2969,823,28.2969,823,646,16,646,16,6\" style=\"stroke: #000000; stroke-width: 1.5;\"/><line style=\"stroke: #000000; stroke-width: 1.5;\" x1=\"16\" x2=\"115\" y1=\"28.2969\" y2=\"28.2969\"/><text fill=\"#000000\" font-family=\"sans-serif\" font-size=\"14\" font-weight=\"bold\" lengthAdjust=\"spacingAndGlyphs\" textLength=\"86\" x=\"20\" y=\"20.9951\">AnalysisTest</text></a><!--MD5=[de5ec2e2e8f62f467e546659f5068c88]\n",
       "cluster E5--><a href=\"psysml:0d42cad1-3808-4e7b-8fe6-f660e27fd2bd\" target=\"_top\" title=\"psysml:0d42cad1-3808-4e7b-8fe6-f660e27fd2bd\" xlink:actuate=\"onRequest\" xlink:href=\"psysml:0d42cad1-3808-4e7b-8fe6-f660e27fd2bd\" xlink:show=\"new\" xlink:title=\"psysml:0d42cad1-3808-4e7b-8fe6-f660e27fd2bd\" xlink:type=\"simple\"><rect fill=\"#FFFFFF\" filter=\"url(#fvfgz2xbnqcmu)\" height=\"329.5\" id=\"E5\" style=\"stroke: #A80036; stroke-width: 1.5;\" width=\"146\" x=\"661\" y=\"74.5\"/><rect fill=\"#FEFECE\" height=\"37.9375\" style=\"stroke: #A80036; stroke-width: 1.5;\" width=\"146\" x=\"661\" y=\"74.5\"/><text fill=\"#000000\" font-family=\"sans-serif\" font-size=\"12\" font-style=\"italic\" lengthAdjust=\"spacingAndGlyphs\" textLength=\"88\" x=\"690\" y=\"90.6387\">«analysis def»</text><text fill=\"#000000\" font-family=\"sans-serif\" font-size=\"12\" lengthAdjust=\"spacingAndGlyphs\" textLength=\"81\" x=\"693.5\" y=\"104.6074\">AnalysisCase</text></a><!--MD5=[55dfccfc6c49c2d10cd1bd2211a6c90c]\n",
       "cluster E8--><a href=\"psysml:058a72e0-0a98-4261-856d-73366cf47a25\" target=\"_top\" title=\"psysml:058a72e0-0a98-4261-856d-73366cf47a25\" xlink:actuate=\"onRequest\" xlink:href=\"psysml:058a72e0-0a98-4261-856d-73366cf47a25\" xlink:show=\"new\" xlink:title=\"psysml:058a72e0-0a98-4261-856d-73366cf47a25\" xlink:type=\"simple\"><rect fill=\"#FFFFFF\" filter=\"url(#fvfgz2xbnqcmu)\" height=\"415\" id=\"E8\" style=\"stroke: #A80036; stroke-width: 1.5;\" width=\"259\" x=\"283\" y=\"207\"/><rect fill=\"#FEFECE\" height=\"37.9375\" style=\"stroke: #A80036; stroke-width: 1.5;\" width=\"259\" x=\"283\" y=\"207\"/><text fill=\"#000000\" font-family=\"sans-serif\" font-size=\"12\" font-style=\"italic\" lengthAdjust=\"spacingAndGlyphs\" textLength=\"88\" x=\"368.5\" y=\"223.1387\">«analysis def»</text><text fill=\"#000000\" font-family=\"sans-serif\" font-size=\"12\" lengthAdjust=\"spacingAndGlyphs\" textLength=\"77\" x=\"374\" y=\"237.1074\">AnalysisPlan</text></a><!--MD5=[a84b4591f868c1fa4a211716a82f2f0d]\n",
       "cluster E10--><a href=\"psysml:ebac0614-db53-4f6a-a11b-2a64966401ed\" target=\"_top\" title=\"psysml:ebac0614-db53-4f6a-a11b-2a64966401ed\" xlink:actuate=\"onRequest\" xlink:href=\"psysml:ebac0614-db53-4f6a-a11b-2a64966401ed\" xlink:show=\"new\" xlink:title=\"psysml:ebac0614-db53-4f6a-a11b-2a64966401ed\" xlink:type=\"simple\"><rect fill=\"#FFFFFF\" filter=\"url(#fvfgz2xbnqcmu)\" height=\"239\" id=\"E10\" rx=\"10\" ry=\"10\" style=\"stroke: #A80036; stroke-width: 1.5;\" width=\"138\" x=\"366\" y=\"345\"/><rect fill=\"#FEFECE\" height=\"37.9375\" rx=\"10\" ry=\"10\" style=\"stroke: #FEFECE; stroke-width: 1.5;\" width=\"138\" x=\"366\" y=\"345\"/><rect fill=\"#FEFECE\" height=\"10\" style=\"stroke: #FEFECE; stroke-width: 1.5;\" width=\"138\" x=\"366\" y=\"372.9375\"/><rect fill=\"none\" height=\"239\" id=\"E10\" rx=\"10\" ry=\"10\" style=\"stroke: #A80036; stroke-width: 1.5;\" width=\"138\" x=\"366\" y=\"345\"/><text fill=\"#000000\" font-family=\"sans-serif\" font-size=\"12\" font-style=\"italic\" lengthAdjust=\"spacingAndGlyphs\" textLength=\"64\" x=\"403\" y=\"361.1387\">«analysis»</text><text fill=\"#000000\" font-family=\"sans-serif\" font-size=\"12\" lengthAdjust=\"spacingAndGlyphs\" textLength=\"81\" x=\"394.5\" y=\"375.1074\">analysisCase</text><line style=\"stroke: #A80036; stroke-width: 1.0;\" x1=\"366\" x2=\"504\" y1=\"382.9375\" y2=\"382.9375\"/></a><!--MD5=[b4997ac47864f28c2f74865a473b2911]\n",
       "class E2--><a href=\"psysml:6e318fc7-f06d-4e4c-8e44-1e6d0f884455\" target=\"_top\" title=\"psysml:6e318fc7-f06d-4e4c-8e44-1e6d0f884455\" xlink:actuate=\"onRequest\" xlink:href=\"psysml:6e318fc7-f06d-4e4c-8e44-1e6d0f884455\" xlink:show=\"new\" xlink:title=\"psysml:6e318fc7-f06d-4e4c-8e44-1e6d0f884455\" xlink:type=\"simple\"><rect fill=\"#FEFECE\" filter=\"url(#fvfgz2xbnqcmu)\" height=\"75.5469\" id=\"E2\" style=\"stroke: #A80036; stroke-width: 1.5;\" width=\"70\" x=\"572\" y=\"169\"/><text fill=\"#000000\" font-family=\"sans-serif\" font-size=\"12\" font-style=\"italic\" lengthAdjust=\"spacingAndGlyphs\" textLength=\"68\" x=\"573\" y=\"185.1387\">«part  def»</text><text fill=\"#000000\" font-family=\"sans-serif\" font-size=\"12\" lengthAdjust=\"spacingAndGlyphs\" textLength=\"8\" x=\"603\" y=\"199.1074\">V</text><line style=\"stroke: #A80036; stroke-width: 1.5;\" x1=\"573\" x2=\"641\" y1=\"206.9375\" y2=\"206.9375\"/><text fill=\"#000000\" font-family=\"sans-serif\" font-size=\"11\" lengthAdjust=\"spacingAndGlyphs\" textLength=\"11\" x=\"578\" y=\"237.9526\">m</text><line style=\"stroke: #A80036; stroke-width: 1.0;\" x1=\"573\" x2=\"576\" y1=\"221.3398\" y2=\"221.3398\"/><text fill=\"#000000\" font-family=\"sans-serif\" font-size=\"11\" lengthAdjust=\"spacingAndGlyphs\" textLength=\"62\" x=\"576\" y=\"224.6479\">references</text><line style=\"stroke: #A80036; stroke-width: 1.0;\" x1=\"638\" x2=\"641\" y1=\"221.3398\" y2=\"221.3398\"/></a><!--MD5=[09b614a08d8cba4a07c9adeb5e0fee81]\n",
       "class E3--><a href=\"psysml:27999d5c-daad-4ed7-92ff-020a622ea083\" target=\"_top\" title=\"psysml:27999d5c-daad-4ed7-92ff-020a622ea083\" xlink:actuate=\"onRequest\" xlink:href=\"psysml:27999d5c-daad-4ed7-92ff-020a622ea083\" xlink:show=\"new\" xlink:title=\"psysml:27999d5c-daad-4ed7-92ff-020a622ea083\" xlink:type=\"simple\"><rect fill=\"#FEFECE\" filter=\"url(#fvfgz2xbnqcmu)\" height=\"45.9375\" id=\"E3\" rx=\"10\" ry=\"10\" style=\"stroke: #A80036; stroke-width: 1.5;\" width=\"42\" x=\"586\" y=\"51.5\"/><text fill=\"#000000\" font-family=\"sans-serif\" font-size=\"12\" font-style=\"italic\" lengthAdjust=\"spacingAndGlyphs\" textLength=\"40\" x=\"587\" y=\"67.6387\">«part»</text><text fill=\"#000000\" font-family=\"sans-serif\" font-size=\"12\" lengthAdjust=\"spacingAndGlyphs\" textLength=\"28\" x=\"591\" y=\"81.6074\">vv: V</text><line style=\"stroke: #A80036; stroke-width: 1.5;\" x1=\"587\" x2=\"627\" y1=\"89.4375\" y2=\"89.4375\"/></a><!--MD5=[ebbe1d658d1005bcc118a6aa81145e00]\n",
       "class E4--><a href=\"psysml:31fce779-d9ab-452b-8111-7f3c68bff972\" target=\"_top\" title=\"psysml:31fce779-d9ab-452b-8111-7f3c68bff972\" xlink:actuate=\"onRequest\" xlink:href=\"psysml:31fce779-d9ab-452b-8111-7f3c68bff972\" xlink:show=\"new\" xlink:title=\"psysml:31fce779-d9ab-452b-8111-7f3c68bff972\" xlink:type=\"simple\"><rect fill=\"#FEFECE\" filter=\"url(#fvfgz2xbnqcmu)\" height=\"66.7422\" id=\"E4\" style=\"stroke: #A80036; stroke-width: 1.5;\" width=\"121\" x=\"317.5\" y=\"41\"/><text fill=\"#000000\" font-family=\"sans-serif\" font-size=\"12\" font-style=\"italic\" lengthAdjust=\"spacingAndGlyphs\" textLength=\"119\" x=\"318.5\" y=\"57.1387\">«requirement  def»</text><text fill=\"#000000\" font-family=\"sans-serif\" font-size=\"12\" lengthAdjust=\"spacingAndGlyphs\" textLength=\"107\" x=\"324.5\" y=\"71.1074\">AnalysisObjective</text><line style=\"stroke: #A80036; stroke-width: 1.5;\" x1=\"318.5\" x2=\"437.5\" y1=\"78.9375\" y2=\"78.9375\"/><text fill=\"#000000\" font-family=\"sans-serif\" font-size=\"11\" lengthAdjust=\"spacingAndGlyphs\" textLength=\"12\" x=\"323.5\" y=\"93.1479\">...</text><line style=\"stroke: #A80036; stroke-width: 1.0;\" x1=\"318.5\" x2=\"437.5\" y1=\"99.7422\" y2=\"99.7422\"/></a><!--MD5=[bee11217b2f71d958a27249dc326068c]\n",
       "class E14--><a href=\"psysml:2f29b586-744b-44a6-b354-0cb36fac52ba\" target=\"_top\" title=\"psysml:2f29b586-744b-44a6-b354-0cb36fac52ba\" xlink:actuate=\"onRequest\" xlink:href=\"psysml:2f29b586-744b-44a6-b354-0cb36fac52ba\" xlink:show=\"new\" xlink:title=\"psysml:2f29b586-744b-44a6-b354-0cb36fac52ba\" xlink:type=\"simple\"><rect fill=\"#FEFECE\" filter=\"url(#fvfgz2xbnqcmu)\" height=\"45.9375\" id=\"E14\" rx=\"10\" ry=\"10\" style=\"stroke: #A80036; stroke-width: 1.5;\" width=\"104\" x=\"66\" y=\"51.5\"/><text fill=\"#000000\" font-family=\"sans-serif\" font-size=\"12\" font-style=\"italic\" lengthAdjust=\"spacingAndGlyphs\" textLength=\"40\" x=\"98\" y=\"67.6387\">«part»</text><text fill=\"#000000\" font-family=\"sans-serif\" font-size=\"12\" lengthAdjust=\"spacingAndGlyphs\" textLength=\"98\" x=\"69\" y=\"81.6074\">analysisContext</text><line style=\"stroke: #A80036; stroke-width: 1.5;\" x1=\"67\" x2=\"169\" y1=\"89.4375\" y2=\"89.4375\"/></a><!--MD5=[0c48fb7552dae8cbbef69381101a84c8]\n",
       "class E15--><a href=\"psysml:cfe8b385-7bc2-406c-91e1-db9911ba5874\" target=\"_top\" title=\"psysml:cfe8b385-7bc2-406c-91e1-db9911ba5874\" xlink:actuate=\"onRequest\" xlink:href=\"psysml:cfe8b385-7bc2-406c-91e1-db9911ba5874\" xlink:show=\"new\" xlink:title=\"psysml:cfe8b385-7bc2-406c-91e1-db9911ba5874\" xlink:type=\"simple\"><rect fill=\"#FEFECE\" filter=\"url(#fvfgz2xbnqcmu)\" height=\"45.9375\" id=\"E15\" rx=\"10\" ry=\"10\" style=\"stroke: #A80036; stroke-width: 1.5;\" width=\"172\" x=\"32\" y=\"184\"/><text fill=\"#000000\" font-family=\"sans-serif\" font-size=\"12\" font-style=\"italic\" lengthAdjust=\"spacingAndGlyphs\" textLength=\"64\" x=\"86\" y=\"200.1387\">«analysis»</text><text fill=\"#000000\" font-family=\"sans-serif\" font-size=\"12\" lengthAdjust=\"spacingAndGlyphs\" textLength=\"162\" x=\"35\" y=\"214.1074\">analysisPlan: AnalysisPlan</text><line style=\"stroke: #A80036; stroke-width: 1.5;\" x1=\"33\" x2=\"203\" y1=\"221.9375\" y2=\"221.9375\"/></a><!--MD5=[35f0587eaee8d5bb9a02e25b63afc23b]\n",
       "class E16--><a href=\"psysml:63325e1e-8a82-4691-b26b-3354962a7cad\" target=\"_top\" title=\"psysml:63325e1e-8a82-4691-b26b-3354962a7cad\" xlink:actuate=\"onRequest\" xlink:href=\"psysml:63325e1e-8a82-4691-b26b-3354962a7cad\" xlink:show=\"new\" xlink:title=\"psysml:63325e1e-8a82-4691-b26b-3354962a7cad\" xlink:type=\"simple\"><rect fill=\"#FEFECE\" filter=\"url(#fvfgz2xbnqcmu)\" height=\"45.9375\" id=\"E16\" rx=\"10\" ry=\"10\" style=\"stroke: #A80036; stroke-width: 1.5;\" width=\"93\" x=\"71.5\" y=\"322\"/><text fill=\"#000000\" font-family=\"sans-serif\" font-size=\"12\" font-style=\"italic\" lengthAdjust=\"spacingAndGlyphs\" textLength=\"91\" x=\"72.5\" y=\"338.1387\">«requirement»</text><text fill=\"#000000\" font-family=\"sans-serif\" font-size=\"12\" lengthAdjust=\"spacingAndGlyphs\" textLength=\"19\" x=\"108.5\" y=\"352.1074\">obj</text><line style=\"stroke: #A80036; stroke-width: 1.5;\" x1=\"72.5\" x2=\"163.5\" y1=\"359.9375\" y2=\"359.9375\"/></a><text fill=\"#000000\" font-family=\"sans-serif\" font-size=\"14\" lengthAdjust=\"spacingAndGlyphs\" textLength=\"7\" x=\"730.5\" y=\"53.1982\">v</text><rect fill=\"#A80036\" height=\"12\" style=\"stroke: #FEFECE; stroke-width: 1.5;\" width=\"12\" x=\"728\" y=\"68.5\"/><text fill=\"#000000\" font-family=\"sans-serif\" font-size=\"14\" lengthAdjust=\"spacingAndGlyphs\" textLength=\"39\" x=\"714.5\" y=\"422.9951\">result</text><rect fill=\"#A80036\" height=\"12\" style=\"stroke: #FEFECE; stroke-width: 1.5;\" width=\"12\" x=\"728\" y=\"398\"/><text fill=\"#000000\" font-family=\"sans-serif\" font-size=\"14\" lengthAdjust=\"spacingAndGlyphs\" textLength=\"7\" x=\"297.5\" y=\"185.6982\">v</text><rect fill=\"#A80036\" height=\"12\" style=\"stroke: #FEFECE; stroke-width: 1.5;\" width=\"12\" x=\"295\" y=\"201\"/><text fill=\"#000000\" font-family=\"sans-serif\" font-size=\"14\" lengthAdjust=\"spacingAndGlyphs\" textLength=\"39\" x=\"522.5\" y=\"529.9951\">result</text><rect fill=\"#A80036\" height=\"12\" style=\"stroke: #FEFECE; stroke-width: 1.5;\" width=\"12\" x=\"536\" y=\"505\"/><text fill=\"#000000\" font-family=\"sans-serif\" font-size=\"14\" lengthAdjust=\"spacingAndGlyphs\" textLength=\"37\" x=\"416.5\" y=\"602.9951\">mass</text><rect fill=\"#A80036\" height=\"12\" style=\"stroke: #FEFECE; stroke-width: 1.5;\" width=\"12\" x=\"429\" y=\"578\"/><text fill=\"#000000\" font-family=\"sans-serif\" font-size=\"14\" lengthAdjust=\"spacingAndGlyphs\" textLength=\"7\" x=\"431.5\" y=\"323.6982\">v</text><rect fill=\"#A80036\" height=\"12\" style=\"stroke: #FEFECE; stroke-width: 1.5;\" width=\"12\" x=\"429\" y=\"339\"/><!--MD5=[05d275557350bfb9b23a4ef7222b4c39]\n",
       "link E3 to E2--><a href=\"psysml:4413170d-8387-4bcf-a661-a8e63eefb5dc\" target=\"_top\" title=\"psysml:4413170d-8387-4bcf-a661-a8e63eefb5dc\" xlink:actuate=\"onRequest\" xlink:href=\"psysml:4413170d-8387-4bcf-a661-a8e63eefb5dc\" xlink:show=\"new\" xlink:title=\"psysml:4413170d-8387-4bcf-a661-a8e63eefb5dc\" xlink:type=\"simple\"><path d=\"M607,97.64 C607,111.72 607,130.66 607,148.75 \" fill=\"none\" id=\"E3-&gt;E2\" style=\"stroke: #A80036; stroke-width: 1.0;\"/><polygon fill=\"#FFFFFF\" points=\"607,168.9,600,149.9,614,149.9,607,168.9\" style=\"stroke: #A80036; stroke-width: 1.0;\"/><ellipse cx=\"602\" cy=\"144.2\" fill=\"#A80036\" rx=\"2\" ry=\"2\" style=\"stroke: #A80036; stroke-width: 1.0;\"/><ellipse cx=\"612\" cy=\"144.2\" fill=\"#A80036\" rx=\"2\" ry=\"2\" style=\"stroke: #A80036; stroke-width: 1.0;\"/></a><!--MD5=[17bf29720e4688890742b92d9a67fdf0]\n",
       "reverse link E14 to E15--><a href=\"psysml:df4b3059-af15-4a6e-9f16-4ce8d388f00c\" target=\"_top\" title=\"psysml:df4b3059-af15-4a6e-9f16-4ce8d388f00c\" xlink:actuate=\"onRequest\" xlink:href=\"psysml:df4b3059-af15-4a6e-9f16-4ce8d388f00c\" xlink:show=\"new\" xlink:title=\"psysml:df4b3059-af15-4a6e-9f16-4ce8d388f00c\" xlink:type=\"simple\"><path d=\"M118,110.79 C118,134.03 118,163.75 118,183.75 \" fill=\"none\" id=\"E14&lt;-E15\" style=\"stroke: #A80036; stroke-width: 1.0;\"/><polygon fill=\"#A80036\" points=\"118,97.64,114,103.64,118,109.64,122,103.64,118,97.64\" style=\"stroke: #A80036; stroke-width: 1.0;\"/></a><!--MD5=[1b01d5b954197aaf3899ca0bde35faf5]\n",
       "link E15 to E8--><a href=\"psysml:b8e5c057-83f1-47ef-94c9-1676b303e623\" target=\"_top\" title=\"psysml:b8e5c057-83f1-47ef-94c9-1676b303e623\" xlink:actuate=\"onRequest\" xlink:href=\"psysml:b8e5c057-83f1-47ef-94c9-1676b303e623\" xlink:show=\"new\" xlink:title=\"psysml:b8e5c057-83f1-47ef-94c9-1676b303e623\" xlink:type=\"simple\"><path d=\"M147.81,230.15 C184.47,257.4 245.87,303.03 278.7,327.43 \" fill=\"none\" id=\"E15-&gt;E8\" style=\"stroke: #A80036; stroke-width: 1.0;\"/><polygon fill=\"#FFFFFF\" points=\"278.7,327.43,259.2749,321.7145,267.6261,310.478,278.7,327.43\" style=\"stroke: #A80036; stroke-width: 1.0;\"/><ellipse cx=\"255.8931\" cy=\"316.7091\" fill=\"#A80036\" rx=\"2\" ry=\"2\" style=\"stroke: #A80036; stroke-width: 1.0;\"/><ellipse cx=\"261.8583\" cy=\"308.6831\" fill=\"#A80036\" rx=\"2\" ry=\"2\" style=\"stroke: #A80036; stroke-width: 1.0;\"/></a><!--MD5=[f8b155c46b092be73bb522b0a8fc72a2]\n",
       "link E15 to E16--><a href=\"psysml:7d3bd451-2ef5-4e75-9594-2e0dd7330291\" target=\"_top\" title=\"psysml:7d3bd451-2ef5-4e75-9594-2e0dd7330291\" xlink:actuate=\"onRequest\" xlink:href=\"psysml:7d3bd451-2ef5-4e75-9594-2e0dd7330291\" xlink:show=\"new\" xlink:title=\"psysml:7d3bd451-2ef5-4e75-9594-2e0dd7330291\" xlink:type=\"simple\"><path d=\"M118,230.15 C118,252.87 118,288.38 118,313.69 \" fill=\"none\" id=\"E15-&gt;E16\" style=\"stroke: #A80036; stroke-width: 1.0;\"/><polygon fill=\"#A80036\" points=\"118,321.86,121,313.86,115,313.86,118,321.86\" style=\"stroke: #A80036; stroke-width: 1.0;\"/><text fill=\"#000000\" font-family=\"sans-serif\" font-size=\"13\" lengthAdjust=\"spacingAndGlyphs\" textLength=\"73\" x=\"119\" y=\"288.0669\">«objective»</text><text fill=\"#000000\" font-family=\"sans-serif\" font-size=\"13\" lengthAdjust=\"spacingAndGlyphs\" textLength=\"8\" x=\"108.975\" y=\"311.1004\">1</text></a><!--MD5=[491cfbea51e954700d5941c70a0a329e]\n",
       "@startuml\r\n",
       "skinparam wrapWidth 300\r\n",
       "hide circle\r\n",
       "\r\n",
       "package \"AnalysisTest\" as E1  [[psysml:d47d9c93-f987-42aa-9c82-a11afa9e7a85 ]]  {\r\n",
       "comp def \"V\" as E2  <<(T,blue) part  def>> [[psysml:6e318fc7-f06d-4e4c-8e44-1e6d0f884455 ]] {\r\n",
       "- - references - -\r\n",
       "m\r\n",
       "}\r\n",
       "comp usage \"vv: V \" as E3  <<(T,blue) part>> [[psysml:27999d5c-daad-4ed7-92ff-020a622ea083 ]] {\r\n",
       "}\r\n",
       "comp def \"AnalysisObjective\" as E4  <<(T,blue) requirement  def>> [[psysml:31fce779-d9ab-452b-8111-7f3c68bff972 ]] {\r\n",
       "...\r\n",
       "- -\r\n",
       "}\r\n",
       "rec def \"AnalysisCase\" as E5 << analysis def>> [[psysml:0d42cad1-3808-4e7b-8fe6-f660e27fd2bd ]] {\r\n",
       "portin \"v\" as E6  [[psysml:f7aad551-6165-4689-8df3-b128f6f54571 ]] \r\n",
       "portout \"result\" as E7  [[psysml:d8a9a5d1-c1b2-404a-b54f-35037ecf4c2d ]] \r\n",
       "}\r\n",
       "\r\n",
       "rec def \"AnalysisPlan\" as E8 << analysis def>> [[psysml:058a72e0-0a98-4261-856d-73366cf47a25 ]] {\r\n",
       "portin \"v\" as E9  [[psysml:40d43c87-89d5-4dcb-a988-f011f6f29ac5 ]] \r\n",
       "rec usage \"analysisCase\" as E10 << analysis>> [[psysml:ebac0614-db53-4f6a-a11b-2a64966401ed ]] {\r\n",
       "portout \"mass\" as E11  [[psysml:94298e01-1500-44a7-8244-0cc3e5620ae6 ]] \r\n",
       "portin \"v\" as E12  [[psysml:fabccdcf-1c94-4d5c-8a0b-5626b651aa80 ]] \r\n",
       "}\r\n",
       "\r\n",
       "portout \"result\" as E13  [[psysml:633f1383-e65f-4e22-9e6d-6ffcdde4bc38 ]] \r\n",
       "}\r\n",
       "\r\n",
       "comp usage \"analysisContext\" as E14  <<(T,blue) part>> [[psysml:2f29b586-744b-44a6-b354-0cb36fac52ba ]] {\r\n",
       "}\r\n",
       "comp usage \"analysisPlan: AnalysisPlan \" as E15 << analysis>> [[psysml:cfe8b385-7bc2-406c-91e1-db9911ba5874 ]] {\r\n",
       "}\r\n",
       "comp usage \"obj\" as E16  <<(T,blue) requirement>> [[psysml:63325e1e-8a82-4691-b26b-3354962a7cad ]] {\r\n",
       "}\r\n",
       "}\r\n",
       "E3 - -:|> E2 [[psysml:4413170d-8387-4bcf-a661-a8e63eefb5dc ]] \r\n",
       "E14 *- - E15 [[psysml:df4b3059-af15-4a6e-9f16-4ce8d388f00c ]] \r\n",
       "E15 - -:|> E8 [[psysml:b8e5c057-83f1-47ef-94c9-1676b303e623 ]] \r\n",
       "E15 - ->> \"1\"E16 [[psysml:7d3bd451-2ef5-4e75-9594-2e0dd7330291 ]] : <<objective>>\r\n",
       "@enduml\r\n",
       "\n",
       "PlantUML version 1.2020.13(Sat Jun 13 12:26:38 UTC 2020)\n",
       "(EPL source distribution)\n",
       "Java Runtime: OpenJDK Runtime Environment\n",
       "JVM: OpenJDK 64-Bit Server VM\n",
       "Default Encoding: UTF-8\n",
       "Language: en\n",
       "Country: null\n",
       "--></g></svg>"
      ]
     },
     "execution_count": 23,
     "metadata": {},
     "output_type": "execute_result"
    }
   ],
   "source": [
    "%viz --style=\"STDCOLOR\" --view=\"Default\" \"AnalysisTest\""
   ]
  },
  {
   "cell_type": "code",
   "execution_count": 24,
   "id": "d82ddf23",
   "metadata": {
    "execution": {
     "iopub.execute_input": "2021-11-13T12:57:19.190285Z",
     "iopub.status.busy": "2021-11-13T12:57:19.189864Z",
     "iopub.status.idle": "2021-11-13T12:57:19.270819Z",
     "shell.execute_reply": "2021-11-13T12:57:19.270467Z"
    }
   },
   "outputs": [
    {
     "data": {
      "image/svg+xml": [
       "<?xml version=\"1.0\" encoding=\"UTF-8\" standalone=\"no\"?><svg xmlns=\"http://www.w3.org/2000/svg\" xmlns:xlink=\"http://www.w3.org/1999/xlink\" contentScriptType=\"application/ecmascript\" contentStyleType=\"text/css\" height=\"923px\" preserveAspectRatio=\"none\" style=\"width:453px;height:923px;\" version=\"1.1\" viewBox=\"0 0 453 923\" width=\"453px\" zoomAndPan=\"magnify\"><defs><filter height=\"300%\" id=\"fkudwrfjptdll\" width=\"300%\" x=\"-1\" y=\"-1\"><feGaussianBlur result=\"blurOut\" stdDeviation=\"2.0\"/><feColorMatrix in=\"blurOut\" result=\"blurOut2\" type=\"matrix\" values=\"0 0 0 0 0 0 0 0 0 0 0 0 0 0 0 0 0 0 .4 0\"/><feOffset dx=\"4.0\" dy=\"4.0\" in=\"blurOut2\" result=\"blurOut3\"/><feBlend in=\"SourceGraphic\" in2=\"blurOut3\" mode=\"normal\"/></filter></defs><g><!--MD5=[fbc87193dbaf4d95561dea2c320d4a47]\n",
       "cluster E1--><a href=\"psysml:d47d9c93-f987-42aa-9c82-a11afa9e7a85\" target=\"_top\" title=\"psysml:d47d9c93-f987-42aa-9c82-a11afa9e7a85\" xlink:actuate=\"onRequest\" xlink:href=\"psysml:d47d9c93-f987-42aa-9c82-a11afa9e7a85\" xlink:show=\"new\" xlink:title=\"psysml:d47d9c93-f987-42aa-9c82-a11afa9e7a85\" xlink:type=\"simple\"><polygon fill=\"#FFFFFF\" filter=\"url(#fkudwrfjptdll)\" points=\"20.13,6,112.13,6,119.13,28.2969,431.13,28.2969,431.13,911,20.13,911,20.13,6\" style=\"stroke: #000000; stroke-width: 1.5;\"/><line style=\"stroke: #000000; stroke-width: 1.5;\" x1=\"20.13\" x2=\"119.13\" y1=\"28.2969\" y2=\"28.2969\"/><text fill=\"#000000\" font-family=\"sans-serif\" font-size=\"14\" font-weight=\"bold\" lengthAdjust=\"spacingAndGlyphs\" textLength=\"86\" x=\"24.13\" y=\"20.9951\">AnalysisTest</text></a><!--MD5=[b4997ac47864f28c2f74865a473b2911]\n",
       "class E2--><a href=\"psysml:6e318fc7-f06d-4e4c-8e44-1e6d0f884455\" target=\"_top\" title=\"psysml:6e318fc7-f06d-4e4c-8e44-1e6d0f884455\" xlink:actuate=\"onRequest\" xlink:href=\"psysml:6e318fc7-f06d-4e4c-8e44-1e6d0f884455\" xlink:show=\"new\" xlink:title=\"psysml:6e318fc7-f06d-4e4c-8e44-1e6d0f884455\" xlink:type=\"simple\"><rect fill=\"#FEFECE\" filter=\"url(#fkudwrfjptdll)\" height=\"75.5469\" id=\"E2\" style=\"stroke: #A80036; stroke-width: 1.5;\" width=\"70\" x=\"160.13\" y=\"691\"/><text fill=\"#000000\" font-family=\"sans-serif\" font-size=\"12\" font-style=\"italic\" lengthAdjust=\"spacingAndGlyphs\" textLength=\"68\" x=\"161.13\" y=\"707.1387\">«part  def»</text><text fill=\"#000000\" font-family=\"sans-serif\" font-size=\"12\" lengthAdjust=\"spacingAndGlyphs\" textLength=\"8\" x=\"191.13\" y=\"721.1074\">V</text><line style=\"stroke: #A80036; stroke-width: 1.5;\" x1=\"161.13\" x2=\"229.13\" y1=\"728.9375\" y2=\"728.9375\"/><text fill=\"#000000\" font-family=\"sans-serif\" font-size=\"11\" lengthAdjust=\"spacingAndGlyphs\" textLength=\"11\" x=\"166.13\" y=\"759.9526\">m</text><line style=\"stroke: #A80036; stroke-width: 1.0;\" x1=\"161.13\" x2=\"164.13\" y1=\"743.3398\" y2=\"743.3398\"/><text fill=\"#000000\" font-family=\"sans-serif\" font-size=\"11\" lengthAdjust=\"spacingAndGlyphs\" textLength=\"62\" x=\"164.13\" y=\"746.6479\">references</text><line style=\"stroke: #A80036; stroke-width: 1.0;\" x1=\"226.13\" x2=\"229.13\" y1=\"743.3398\" y2=\"743.3398\"/></a><!--MD5=[09b614a08d8cba4a07c9adeb5e0fee81]\n",
       "class E3--><a href=\"psysml:27999d5c-daad-4ed7-92ff-020a622ea083\" target=\"_top\" title=\"psysml:27999d5c-daad-4ed7-92ff-020a622ea083\" xlink:actuate=\"onRequest\" xlink:href=\"psysml:27999d5c-daad-4ed7-92ff-020a622ea083\" xlink:show=\"new\" xlink:title=\"psysml:27999d5c-daad-4ed7-92ff-020a622ea083\" xlink:type=\"simple\"><rect fill=\"#FEFECE\" filter=\"url(#fkudwrfjptdll)\" height=\"45.9375\" id=\"E3\" rx=\"10\" ry=\"10\" style=\"stroke: #A80036; stroke-width: 1.5;\" width=\"42\" x=\"202.13\" y=\"553\"/><text fill=\"#000000\" font-family=\"sans-serif\" font-size=\"12\" font-style=\"italic\" lengthAdjust=\"spacingAndGlyphs\" textLength=\"40\" x=\"203.13\" y=\"569.1387\">«part»</text><text fill=\"#000000\" font-family=\"sans-serif\" font-size=\"12\" lengthAdjust=\"spacingAndGlyphs\" textLength=\"28\" x=\"207.13\" y=\"583.1074\">vv: V</text><line style=\"stroke: #A80036; stroke-width: 1.5;\" x1=\"203.13\" x2=\"243.13\" y1=\"590.9375\" y2=\"590.9375\"/></a><!--MD5=[ebbe1d658d1005bcc118a6aa81145e00]\n",
       "class E4--><a href=\"psysml:31fce779-d9ab-452b-8111-7f3c68bff972\" target=\"_top\" title=\"psysml:31fce779-d9ab-452b-8111-7f3c68bff972\" xlink:actuate=\"onRequest\" xlink:href=\"psysml:31fce779-d9ab-452b-8111-7f3c68bff972\" xlink:show=\"new\" xlink:title=\"psysml:31fce779-d9ab-452b-8111-7f3c68bff972\" xlink:type=\"simple\"><rect fill=\"#FEFECE\" filter=\"url(#fkudwrfjptdll)\" height=\"66.7422\" id=\"E4\" style=\"stroke: #A80036; stroke-width: 1.5;\" width=\"121\" x=\"279.63\" y=\"828\"/><text fill=\"#000000\" font-family=\"sans-serif\" font-size=\"12\" font-style=\"italic\" lengthAdjust=\"spacingAndGlyphs\" textLength=\"119\" x=\"280.63\" y=\"844.1387\">«requirement  def»</text><text fill=\"#000000\" font-family=\"sans-serif\" font-size=\"12\" lengthAdjust=\"spacingAndGlyphs\" textLength=\"107\" x=\"286.63\" y=\"858.1074\">AnalysisObjective</text><line style=\"stroke: #A80036; stroke-width: 1.5;\" x1=\"280.63\" x2=\"399.63\" y1=\"865.9375\" y2=\"865.9375\"/><text fill=\"#000000\" font-family=\"sans-serif\" font-size=\"11\" lengthAdjust=\"spacingAndGlyphs\" textLength=\"12\" x=\"285.63\" y=\"880.1479\">...</text><line style=\"stroke: #A80036; stroke-width: 1.0;\" x1=\"280.63\" x2=\"399.63\" y1=\"886.7422\" y2=\"886.7422\"/></a><!--MD5=[270fce915f116d4de14055a7c1d9a0f3]\n",
       "class E5--><a href=\"psysml:0d42cad1-3808-4e7b-8fe6-f660e27fd2bd\" target=\"_top\" title=\"psysml:0d42cad1-3808-4e7b-8fe6-f660e27fd2bd\" xlink:actuate=\"onRequest\" xlink:href=\"psysml:0d42cad1-3808-4e7b-8fe6-f660e27fd2bd\" xlink:show=\"new\" xlink:title=\"psysml:0d42cad1-3808-4e7b-8fe6-f660e27fd2bd\" xlink:type=\"simple\"><rect fill=\"#FEFECE\" filter=\"url(#fkudwrfjptdll)\" height=\"75.5469\" id=\"E5\" style=\"stroke: #A80036; stroke-width: 1.5;\" width=\"136\" x=\"279.13\" y=\"538\"/><text fill=\"#000000\" font-family=\"sans-serif\" font-size=\"12\" font-style=\"italic\" lengthAdjust=\"spacingAndGlyphs\" textLength=\"88\" x=\"303.13\" y=\"554.1387\">«analysis def»</text><text fill=\"#000000\" font-family=\"sans-serif\" font-size=\"12\" lengthAdjust=\"spacingAndGlyphs\" textLength=\"81\" x=\"306.63\" y=\"568.1074\">AnalysisCase</text><line style=\"stroke: #A80036; stroke-width: 1.5;\" x1=\"280.13\" x2=\"414.13\" y1=\"575.9375\" y2=\"575.9375\"/><text fill=\"#000000\" font-family=\"sans-serif\" font-size=\"11\" lengthAdjust=\"spacingAndGlyphs\" textLength=\"43\" x=\"285.13\" y=\"606.9526\">{ v.m }</text><line style=\"stroke: #A80036; stroke-width: 1.0;\" x1=\"280.13\" x2=\"283.13\" y1=\"590.3398\" y2=\"590.3398\"/><text fill=\"#000000\" font-family=\"sans-serif\" font-size=\"11\" lengthAdjust=\"spacingAndGlyphs\" textLength=\"128\" x=\"283.13\" y=\"593.6479\">path step expressions</text><line style=\"stroke: #A80036; stroke-width: 1.0;\" x1=\"411.13\" x2=\"414.13\" y1=\"590.3398\" y2=\"590.3398\"/></a><!--MD5=[60a26617385b1d2d0262a64233df1f8d]\n",
       "class E6--><a href=\"psysml:b64c7347-1249-45eb-ab10-0bf79737e87a\" target=\"_top\" title=\"psysml:b64c7347-1249-45eb-ab10-0bf79737e87a\" xlink:actuate=\"onRequest\" xlink:href=\"psysml:b64c7347-1249-45eb-ab10-0bf79737e87a\" xlink:show=\"new\" xlink:title=\"psysml:b64c7347-1249-45eb-ab10-0bf79737e87a\" xlink:type=\"simple\"><rect fill=\"#FEFECE\" filter=\"url(#fkudwrfjptdll)\" height=\"45.9375\" id=\"E6\" rx=\"10\" ry=\"10\" style=\"stroke: #A80036; stroke-width: 1.5;\" width=\"144\" x=\"268.13\" y=\"706\"/><text fill=\"#000000\" font-family=\"sans-serif\" font-size=\"12\" font-style=\"italic\" lengthAdjust=\"spacingAndGlyphs\" textLength=\"91\" x=\"294.63\" y=\"722.1387\">«requirement»</text><text fill=\"#000000\" font-family=\"sans-serif\" font-size=\"12\" lengthAdjust=\"spacingAndGlyphs\" textLength=\"134\" x=\"271.13\" y=\"736.1074\">obj: AnalysisObjective</text><line style=\"stroke: #A80036; stroke-width: 1.5;\" x1=\"269.13\" x2=\"411.13\" y1=\"743.9375\" y2=\"743.9375\"/></a><!--MD5=[2156ba9850f5573cc1fc38a6a4b2f02b]\n",
       "class E7--><a href=\"psysml:058a72e0-0a98-4261-856d-73366cf47a25\" target=\"_top\" title=\"psysml:058a72e0-0a98-4261-856d-73366cf47a25\" xlink:actuate=\"onRequest\" xlink:href=\"psysml:058a72e0-0a98-4261-856d-73366cf47a25\" xlink:show=\"new\" xlink:title=\"psysml:058a72e0-0a98-4261-856d-73366cf47a25\" xlink:type=\"simple\"><rect fill=\"#FEFECE\" filter=\"url(#fkudwrfjptdll)\" height=\"45.9375\" id=\"E7\" style=\"stroke: #A80036; stroke-width: 1.5;\" width=\"90\" x=\"108.13\" y=\"271\"/><text fill=\"#000000\" font-family=\"sans-serif\" font-size=\"12\" font-style=\"italic\" lengthAdjust=\"spacingAndGlyphs\" textLength=\"88\" x=\"109.13\" y=\"287.1387\">«analysis def»</text><text fill=\"#000000\" font-family=\"sans-serif\" font-size=\"12\" lengthAdjust=\"spacingAndGlyphs\" textLength=\"77\" x=\"114.63\" y=\"301.1074\">AnalysisPlan</text><line style=\"stroke: #A80036; stroke-width: 1.5;\" x1=\"109.13\" x2=\"197.13\" y1=\"308.9375\" y2=\"308.9375\"/></a><!--MD5=[b9389687b975829384b498ac4b7476b2]\n",
       "class E8--><a href=\"psysml:185eeef5-681f-4700-9ef2-09baff1a4526\" target=\"_top\" title=\"psysml:185eeef5-681f-4700-9ef2-09baff1a4526\" xlink:actuate=\"onRequest\" xlink:href=\"psysml:185eeef5-681f-4700-9ef2-09baff1a4526\" xlink:show=\"new\" xlink:title=\"psysml:185eeef5-681f-4700-9ef2-09baff1a4526\" xlink:type=\"simple\"><rect fill=\"#FEFECE\" filter=\"url(#fkudwrfjptdll)\" height=\"66.7422\" id=\"E8\" rx=\"10\" ry=\"10\" style=\"stroke: #A80036; stroke-width: 1.5;\" width=\"93\" x=\"106.63\" y=\"394\"/><text fill=\"#000000\" font-family=\"sans-serif\" font-size=\"12\" font-style=\"italic\" lengthAdjust=\"spacingAndGlyphs\" textLength=\"91\" x=\"107.63\" y=\"410.1387\">«requirement»</text><text fill=\"#000000\" font-family=\"sans-serif\" font-size=\"12\" lengthAdjust=\"spacingAndGlyphs\" textLength=\"19\" x=\"143.63\" y=\"424.1074\">obj</text><line style=\"stroke: #A80036; stroke-width: 1.5;\" x1=\"107.63\" x2=\"198.63\" y1=\"431.9375\" y2=\"431.9375\"/><text fill=\"#000000\" font-family=\"sans-serif\" font-size=\"11\" lengthAdjust=\"spacingAndGlyphs\" textLength=\"12\" x=\"112.63\" y=\"446.1479\">...</text><line style=\"stroke: #A80036; stroke-width: 1.0;\" x1=\"107.63\" x2=\"198.63\" y1=\"452.7422\" y2=\"452.7422\"/></a><!--MD5=[fd4143e9d270a159db93a4ea2a975926]\n",
       "class E9--><a href=\"psysml:ebac0614-db53-4f6a-a11b-2a64966401ed\" target=\"_top\" title=\"psysml:ebac0614-db53-4f6a-a11b-2a64966401ed\" xlink:actuate=\"onRequest\" xlink:href=\"psysml:ebac0614-db53-4f6a-a11b-2a64966401ed\" xlink:show=\"new\" xlink:title=\"psysml:ebac0614-db53-4f6a-a11b-2a64966401ed\" xlink:type=\"simple\"><rect fill=\"#FEFECE\" filter=\"url(#fkudwrfjptdll)\" height=\"45.9375\" id=\"E9\" rx=\"10\" ry=\"10\" style=\"stroke: #A80036; stroke-width: 1.5;\" width=\"180\" x=\"235.13\" y=\"404.5\"/><text fill=\"#000000\" font-family=\"sans-serif\" font-size=\"12\" font-style=\"italic\" lengthAdjust=\"spacingAndGlyphs\" textLength=\"64\" x=\"293.13\" y=\"420.6387\">«analysis»</text><text fill=\"#000000\" font-family=\"sans-serif\" font-size=\"12\" lengthAdjust=\"spacingAndGlyphs\" textLength=\"170\" x=\"238.13\" y=\"434.6074\">analysisCase: AnalysisCase</text><line style=\"stroke: #A80036; stroke-width: 1.5;\" x1=\"236.13\" x2=\"414.13\" y1=\"442.4375\" y2=\"442.4375\"/></a><!--MD5=[96f4274e9e20536e775497830990834d]\n",
       "class E10--><a href=\"psysml:885560a7-695c-4aea-bf29-e47629fa314b\" target=\"_top\" title=\"psysml:885560a7-695c-4aea-bf29-e47629fa314b\" xlink:actuate=\"onRequest\" xlink:href=\"psysml:885560a7-695c-4aea-bf29-e47629fa314b\" xlink:show=\"new\" xlink:title=\"psysml:885560a7-695c-4aea-bf29-e47629fa314b\" xlink:type=\"simple\"><rect fill=\"#FEFECE\" filter=\"url(#fkudwrfjptdll)\" height=\"45.9375\" id=\"E10\" rx=\"10\" ry=\"10\" style=\"stroke: #A80036; stroke-width: 1.5;\" width=\"93\" x=\"73.63\" y=\"553\"/><text fill=\"#000000\" font-family=\"sans-serif\" font-size=\"12\" font-style=\"italic\" lengthAdjust=\"spacingAndGlyphs\" textLength=\"91\" x=\"74.63\" y=\"569.1387\">«requirement»</text><text fill=\"#000000\" font-family=\"sans-serif\" font-size=\"12\" lengthAdjust=\"spacingAndGlyphs\" textLength=\"19\" x=\"110.63\" y=\"583.1074\">obj</text><line style=\"stroke: #A80036; stroke-width: 1.5;\" x1=\"74.63\" x2=\"165.63\" y1=\"590.9375\" y2=\"590.9375\"/></a><!--MD5=[1dd1bfd58a279cf63c5f349dbc8fc6a1]\n",
       "class E11--><a href=\"psysml:2f29b586-744b-44a6-b354-0cb36fac52ba\" target=\"_top\" title=\"psysml:2f29b586-744b-44a6-b354-0cb36fac52ba\" xlink:actuate=\"onRequest\" xlink:href=\"psysml:2f29b586-744b-44a6-b354-0cb36fac52ba\" xlink:show=\"new\" xlink:title=\"psysml:2f29b586-744b-44a6-b354-0cb36fac52ba\" xlink:type=\"simple\"><rect fill=\"#FEFECE\" filter=\"url(#fkudwrfjptdll)\" height=\"45.9375\" id=\"E11\" rx=\"10\" ry=\"10\" style=\"stroke: #A80036; stroke-width: 1.5;\" width=\"104\" x=\"164.13\" y=\"41\"/><text fill=\"#000000\" font-family=\"sans-serif\" font-size=\"12\" font-style=\"italic\" lengthAdjust=\"spacingAndGlyphs\" textLength=\"40\" x=\"196.13\" y=\"57.1387\">«part»</text><text fill=\"#000000\" font-family=\"sans-serif\" font-size=\"12\" lengthAdjust=\"spacingAndGlyphs\" textLength=\"98\" x=\"167.13\" y=\"71.1074\">analysisContext</text><line style=\"stroke: #A80036; stroke-width: 1.5;\" x1=\"165.13\" x2=\"267.13\" y1=\"78.9375\" y2=\"78.9375\"/></a><!--MD5=[49a0ec8f00dab7302a31f22d0f0fe584]\n",
       "class E12--><a href=\"psysml:cfe8b385-7bc2-406c-91e1-db9911ba5874\" target=\"_top\" title=\"psysml:cfe8b385-7bc2-406c-91e1-db9911ba5874\" xlink:actuate=\"onRequest\" xlink:href=\"psysml:cfe8b385-7bc2-406c-91e1-db9911ba5874\" xlink:show=\"new\" xlink:title=\"psysml:cfe8b385-7bc2-406c-91e1-db9911ba5874\" xlink:type=\"simple\"><rect fill=\"#FEFECE\" filter=\"url(#fkudwrfjptdll)\" height=\"45.9375\" id=\"E12\" rx=\"10\" ry=\"10\" style=\"stroke: #A80036; stroke-width: 1.5;\" width=\"172\" x=\"130.13\" y=\"148\"/><text fill=\"#000000\" font-family=\"sans-serif\" font-size=\"12\" font-style=\"italic\" lengthAdjust=\"spacingAndGlyphs\" textLength=\"64\" x=\"184.13\" y=\"164.1387\">«analysis»</text><text fill=\"#000000\" font-family=\"sans-serif\" font-size=\"12\" lengthAdjust=\"spacingAndGlyphs\" textLength=\"162\" x=\"133.13\" y=\"178.1074\">analysisPlan: AnalysisPlan</text><line style=\"stroke: #A80036; stroke-width: 1.5;\" x1=\"131.13\" x2=\"301.13\" y1=\"185.9375\" y2=\"185.9375\"/></a><!--MD5=[ee3c913d1a06f366521f9ef512b67efe]\n",
       "class E13--><a href=\"psysml:63325e1e-8a82-4691-b26b-3354962a7cad\" target=\"_top\" title=\"psysml:63325e1e-8a82-4691-b26b-3354962a7cad\" xlink:actuate=\"onRequest\" xlink:href=\"psysml:63325e1e-8a82-4691-b26b-3354962a7cad\" xlink:show=\"new\" xlink:title=\"psysml:63325e1e-8a82-4691-b26b-3354962a7cad\" xlink:type=\"simple\"><rect fill=\"#FEFECE\" filter=\"url(#fkudwrfjptdll)\" height=\"45.9375\" id=\"E13\" rx=\"10\" ry=\"10\" style=\"stroke: #A80036; stroke-width: 1.5;\" width=\"93\" x=\"233.63\" y=\"271\"/><text fill=\"#000000\" font-family=\"sans-serif\" font-size=\"12\" font-style=\"italic\" lengthAdjust=\"spacingAndGlyphs\" textLength=\"91\" x=\"234.63\" y=\"287.1387\">«requirement»</text><text fill=\"#000000\" font-family=\"sans-serif\" font-size=\"12\" lengthAdjust=\"spacingAndGlyphs\" textLength=\"19\" x=\"270.63\" y=\"301.1074\">obj</text><line style=\"stroke: #A80036; stroke-width: 1.5;\" x1=\"234.63\" x2=\"325.63\" y1=\"308.9375\" y2=\"308.9375\"/></a><!--MD5=[05d275557350bfb9b23a4ef7222b4c39]\n",
       "link E3 to E2--><a href=\"psysml:4413170d-8387-4bcf-a661-a8e63eefb5dc\" target=\"_top\" title=\"psysml:4413170d-8387-4bcf-a661-a8e63eefb5dc\" xlink:actuate=\"onRequest\" xlink:href=\"psysml:4413170d-8387-4bcf-a661-a8e63eefb5dc\" xlink:show=\"new\" xlink:title=\"psysml:4413170d-8387-4bcf-a661-a8e63eefb5dc\" xlink:type=\"simple\"><path d=\"M213.8,599.22 C208.84,612.07 203.16,628.68 200.13,644 C198.44,652.55 197.27,661.67 196.46,670.63 \" fill=\"none\" id=\"E3-&gt;E2\" style=\"stroke: #A80036; stroke-width: 1.0;\"/><polygon fill=\"#FFFFFF\" points=\"195.18,690.93,189.4022,671.5234,203.3738,672.4135,195.18,690.93\" style=\"stroke: #A80036; stroke-width: 1.0;\"/><ellipse cx=\"191.7605\" cy=\"665.9621\" fill=\"#A80036\" rx=\"2\" ry=\"2\" style=\"stroke: #A80036; stroke-width: 1.0;\"/><ellipse cx=\"201.7403\" cy=\"666.5979\" fill=\"#A80036\" rx=\"2\" ry=\"2\" style=\"stroke: #A80036; stroke-width: 1.0;\"/></a><!--MD5=[15ebcb19ae302d9b601edb458606d402]\n",
       "link E5 to E2--><a href=\"psysml:0e59658b-8c20-4184-9a82-84e161b0c6e1\" target=\"_top\" title=\"psysml:0e59658b-8c20-4184-9a82-84e161b0c6e1\" xlink:actuate=\"onRequest\" xlink:href=\"psysml:0e59658b-8c20-4184-9a82-84e161b0c6e1\" xlink:show=\"new\" xlink:title=\"psysml:0e59658b-8c20-4184-9a82-84e161b0c6e1\" xlink:type=\"simple\"><path d=\"M303.36,614.09 C292.6,623.61 281.27,633.99 271.13,644 C257.44,657.51 243.12,672.96 230.65,686.89 \" fill=\"none\" id=\"E5-&gt;E2\" style=\"stroke: #A80036; stroke-width: 1.0; stroke-dasharray: 7.0,7.0;\"/><polygon fill=\"#A80036\" points=\"227.18,690.78,236.1576,686.7299,230.5098,687.0501,230.1897,681.4023,227.18,690.78\" style=\"stroke: #A80036; stroke-width: 1.0;\"/><text fill=\"#000000\" font-family=\"sans-serif\" font-size=\"13\" lengthAdjust=\"spacingAndGlyphs\" textLength=\"62\" x=\"272.13\" y=\"657.0669\">«subject»</text></a><!--MD5=[9120cf2e5df3bff93db8f754bbbc09b4]\n",
       "link E5 to E6--><a href=\"psysml:0aba1a21-1a42-4d2b-97f5-c2cba04c9345\" target=\"_top\" title=\"psysml:0aba1a21-1a42-4d2b-97f5-c2cba04c9345\" xlink:actuate=\"onRequest\" xlink:href=\"psysml:0aba1a21-1a42-4d2b-97f5-c2cba04c9345\" xlink:show=\"new\" xlink:title=\"psysml:0aba1a21-1a42-4d2b-97f5-c2cba04c9345\" xlink:type=\"simple\"><path d=\"M345.4,614.33 C344.21,639.95 342.65,673.54 341.54,697.54 \" fill=\"none\" id=\"E5-&gt;E6\" style=\"stroke: #A80036; stroke-width: 1.0;\"/><polygon fill=\"#A80036\" points=\"341.17,705.61,344.5378,697.7577,338.5443,697.4795,341.17,705.61\" style=\"stroke: #A80036; stroke-width: 1.0;\"/><text fill=\"#000000\" font-family=\"sans-serif\" font-size=\"13\" lengthAdjust=\"spacingAndGlyphs\" textLength=\"73\" x=\"344.13\" y=\"657.0669\">«objective»</text></a><!--MD5=[f667431f98296947986a1a7595a31603]\n",
       "link E6 to E4--><a href=\"psysml:32f59106-5f4c-4aec-8305-226899de5705\" target=\"_top\" title=\"psysml:32f59106-5f4c-4aec-8305-226899de5705\" xlink:actuate=\"onRequest\" xlink:href=\"psysml:32f59106-5f4c-4aec-8305-226899de5705\" xlink:show=\"new\" xlink:title=\"psysml:32f59106-5f4c-4aec-8305-226899de5705\" xlink:type=\"simple\"><path d=\"M340.13,752.14 C340.13,767.41 340.13,788.39 340.13,807.82 \" fill=\"none\" id=\"E6-&gt;E4\" style=\"stroke: #A80036; stroke-width: 1.0;\"/><polygon fill=\"#FFFFFF\" points=\"340.13,827.96,333.13,808.96,347.13,808.96,340.13,827.96\" style=\"stroke: #A80036; stroke-width: 1.0;\"/><ellipse cx=\"335.13\" cy=\"803.26\" fill=\"#A80036\" rx=\"2\" ry=\"2\" style=\"stroke: #A80036; stroke-width: 1.0;\"/><ellipse cx=\"345.13\" cy=\"803.26\" fill=\"#A80036\" rx=\"2\" ry=\"2\" style=\"stroke: #A80036; stroke-width: 1.0;\"/></a><!--MD5=[583832df87f4419a098336a29a52fa00]\n",
       "link E7 to E2--><a href=\"psysml:1b5baffb-8729-41ae-bce6-1275f3b8062c\" target=\"_top\" title=\"psysml:1b5baffb-8729-41ae-bce6-1275f3b8062c\" xlink:actuate=\"onRequest\" xlink:href=\"psysml:1b5baffb-8729-41ae-bce6-1275f3b8062c\" xlink:show=\"new\" xlink:title=\"psysml:1b5baffb-8729-41ae-bce6-1275f3b8062c\" xlink:type=\"simple\"><path d=\"M135.62,317.09 C95.87,370.11 6,508.04 56.13,614 C76.51,657.06 122,689.3 155.42,708.32 \" fill=\"none\" id=\"E7-&gt;E2\" style=\"stroke: #A80036; stroke-width: 1.0; stroke-dasharray: 7.0,7.0;\"/><polygon fill=\"#A80036\" points=\"159.84,710.8,153.9458,702.9096,155.4787,708.3548,150.0335,709.8877,159.84,710.8\" style=\"stroke: #A80036; stroke-width: 1.0;\"/><text fill=\"#000000\" font-family=\"sans-serif\" font-size=\"13\" lengthAdjust=\"spacingAndGlyphs\" textLength=\"62\" x=\"48.13\" y=\"504.0669\">«subject»</text></a><!--MD5=[79bc8f324ef4d02c541433f2e6e513c3]\n",
       "link E7 to E8--><a href=\"psysml:90e157ee-5294-4f98-a807-291d927bb48a\" target=\"_top\" title=\"psysml:90e157ee-5294-4f98-a807-291d927bb48a\" xlink:actuate=\"onRequest\" xlink:href=\"psysml:90e157ee-5294-4f98-a807-291d927bb48a\" xlink:show=\"new\" xlink:title=\"psysml:90e157ee-5294-4f98-a807-291d927bb48a\" xlink:type=\"simple\"><path d=\"M153.13,317.01 C153.13,335.7 153.13,363.02 153.13,385.69 \" fill=\"none\" id=\"E7-&gt;E8\" style=\"stroke: #A80036; stroke-width: 1.0;\"/><polygon fill=\"#A80036\" points=\"153.13,393.81,156.13,385.81,150.13,385.81,153.13,393.81\" style=\"stroke: #A80036; stroke-width: 1.0;\"/><text fill=\"#000000\" font-family=\"sans-serif\" font-size=\"13\" lengthAdjust=\"spacingAndGlyphs\" textLength=\"73\" x=\"154.13\" y=\"360.0669\">«objective»</text><text fill=\"#000000\" font-family=\"sans-serif\" font-size=\"13\" lengthAdjust=\"spacingAndGlyphs\" textLength=\"8\" x=\"144.3425\" y=\"382.8061\">1</text></a><!--MD5=[e4a10ef82d0e328e31cac39a31e58dda]\n",
       "reverse link E7 to E9--><a href=\"psysml:5b13e274-498b-4649-80bb-2ca5d783c8e3\" target=\"_top\" title=\"psysml:5b13e274-498b-4649-80bb-2ca5d783c8e3\" xlink:actuate=\"onRequest\" xlink:href=\"psysml:5b13e274-498b-4649-80bb-2ca5d783c8e3\" xlink:show=\"new\" xlink:title=\"psysml:5b13e274-498b-4649-80bb-2ca5d783c8e3\" xlink:type=\"simple\"><path d=\"M203.01,324.33 C214.15,331.41 225.74,339.19 236.13,347 C259.98,364.92 285.16,387.84 302.63,404.46 \" fill=\"none\" id=\"E7&lt;-E9\" style=\"stroke: #A80036; stroke-width: 1.0;\"/><polygon fill=\"#A80036\" points=\"191.63,317.25,194.6072,323.8178,201.8149,323.5958,198.8377,317.0279,191.63,317.25\" style=\"stroke: #A80036; stroke-width: 1.0;\"/></a><!--MD5=[bfc3ddf2e613be37104f658f09af896c]\n",
       "link E9 to E5--><a href=\"psysml:2720ff20-3733-452c-91c5-acd446f65b05\" target=\"_top\" title=\"psysml:2720ff20-3733-452c-91c5-acd446f65b05\" xlink:actuate=\"onRequest\" xlink:href=\"psysml:2720ff20-3733-452c-91c5-acd446f65b05\" xlink:show=\"new\" xlink:title=\"psysml:2720ff20-3733-452c-91c5-acd446f65b05\" xlink:type=\"simple\"><path d=\"M328.47,450.75 C331.16,468.64 335.06,494.59 338.59,518.16 \" fill=\"none\" id=\"E9-&gt;E5\" style=\"stroke: #A80036; stroke-width: 1.0;\"/><polygon fill=\"#FFFFFF\" points=\"341.57,537.99,331.824,520.2413,345.6685,518.1607,341.57,537.99\" style=\"stroke: #A80036; stroke-width: 1.0;\"/><ellipse cx=\"332.9546\" cy=\"514.3074\" fill=\"#A80036\" rx=\"2\" ry=\"2\" style=\"stroke: #A80036; stroke-width: 1.0;\"/><ellipse cx=\"342.8436\" cy=\"512.8212\" fill=\"#A80036\" rx=\"2\" ry=\"2\" style=\"stroke: #A80036; stroke-width: 1.0;\"/></a><!--MD5=[35e5f1cbde42fa304a029880aa2bc7f2]\n",
       "link E9 to E10--><a href=\"psysml:207a8d5d-7cc5-465d-969c-ac78b140bf51\" target=\"_top\" title=\"psysml:207a8d5d-7cc5-465d-969c-ac78b140bf51\" xlink:actuate=\"onRequest\" xlink:href=\"psysml:207a8d5d-7cc5-465d-969c-ac78b140bf51\" xlink:show=\"new\" xlink:title=\"psysml:207a8d5d-7cc5-465d-969c-ac78b140bf51\" xlink:type=\"simple\"><path d=\"M293.99,450.75 C257.47,476.86 196.93,520.12 157.79,548.09 \" fill=\"none\" id=\"E9-&gt;E10\" style=\"stroke: #A80036; stroke-width: 1.0;\"/><polygon fill=\"#A80036\" points=\"151.22,552.78,159.4727,550.5679,155.9832,545.6869,151.22,552.78\" style=\"stroke: #A80036; stroke-width: 1.0;\"/><text fill=\"#000000\" font-family=\"sans-serif\" font-size=\"13\" lengthAdjust=\"spacingAndGlyphs\" textLength=\"73\" x=\"235.13\" y=\"504.0669\">«objective»</text></a><!--MD5=[94adabc162ce7e41b39f13be14fbaeb3]\n",
       "reverse link E11 to E12--><a href=\"psysml:df4b3059-af15-4a6e-9f16-4ce8d388f00c\" target=\"_top\" title=\"psysml:df4b3059-af15-4a6e-9f16-4ce8d388f00c\" xlink:actuate=\"onRequest\" xlink:href=\"psysml:df4b3059-af15-4a6e-9f16-4ce8d388f00c\" xlink:show=\"new\" xlink:title=\"psysml:df4b3059-af15-4a6e-9f16-4ce8d388f00c\" xlink:type=\"simple\"><path d=\"M216.13,100.05 C216.13,115.76 216.13,133.82 216.13,147.66 \" fill=\"none\" id=\"E11&lt;-E12\" style=\"stroke: #A80036; stroke-width: 1.0;\"/><polygon fill=\"#A80036\" points=\"216.13,87.01,212.13,93.01,216.13,99.01,220.13,93.01,216.13,87.01\" style=\"stroke: #A80036; stroke-width: 1.0;\"/></a><!--MD5=[ae660f5ecd7ddb04a8913625960940af]\n",
       "link E12 to E7--><a href=\"psysml:b8e5c057-83f1-47ef-94c9-1676b303e623\" target=\"_top\" title=\"psysml:b8e5c057-83f1-47ef-94c9-1676b303e623\" xlink:actuate=\"onRequest\" xlink:href=\"psysml:b8e5c057-83f1-47ef-94c9-1676b303e623\" xlink:show=\"new\" xlink:title=\"psysml:b8e5c057-83f1-47ef-94c9-1676b303e623\" xlink:type=\"simple\"><path d=\"M204.57,194.19 C196.01,210.65 184.09,233.54 173.88,253.14 \" fill=\"none\" id=\"E12-&gt;E7\" style=\"stroke: #A80036; stroke-width: 1.0;\"/><polygon fill=\"#FFFFFF\" points=\"164.61,270.95,167.1672,250.8637,179.5876,257.3239,164.61,270.95\" style=\"stroke: #A80036; stroke-width: 1.0;\"/><ellipse cx=\"171.5718\" cy=\"246.7297\" fill=\"#A80036\" rx=\"2\" ry=\"2\" style=\"stroke: #A80036; stroke-width: 1.0;\"/><ellipse cx=\"180.4435\" cy=\"251.3441\" fill=\"#A80036\" rx=\"2\" ry=\"2\" style=\"stroke: #A80036; stroke-width: 1.0;\"/></a><!--MD5=[e2a9ac97dcd3257bb5342dae06547bad]\n",
       "link E12 to E13--><a href=\"psysml:7d3bd451-2ef5-4e75-9594-2e0dd7330291\" target=\"_top\" title=\"psysml:7d3bd451-2ef5-4e75-9594-2e0dd7330291\" xlink:actuate=\"onRequest\" xlink:href=\"psysml:7d3bd451-2ef5-4e75-9594-2e0dd7330291\" xlink:show=\"new\" xlink:title=\"psysml:7d3bd451-2ef5-4e75-9594-2e0dd7330291\" xlink:type=\"simple\"><path d=\"M227.87,194.19 C238.2,213.72 253.31,242.3 264.63,263.7 \" fill=\"none\" id=\"E12-&gt;E13\" style=\"stroke: #A80036; stroke-width: 1.0;\"/><polygon fill=\"#A80036\" points=\"268.47,270.95,267.3924,262.4742,262.085,265.2727,268.47,270.95\" style=\"stroke: #A80036; stroke-width: 1.0;\"/><text fill=\"#000000\" font-family=\"sans-serif\" font-size=\"13\" lengthAdjust=\"spacingAndGlyphs\" textLength=\"73\" x=\"252.13\" y=\"237.0669\">«objective»</text><text fill=\"#000000\" font-family=\"sans-serif\" font-size=\"13\" lengthAdjust=\"spacingAndGlyphs\" textLength=\"8\" x=\"256.2614\" y=\"259.8328\">1</text></a><!--MD5=[454b765ad17da34062863873fcea8e7c]\n",
       "@startuml\r\n",
       "skinparam wrapWidth 300\r\n",
       "hide circle\r\n",
       "\r\n",
       "package \"AnalysisTest\" as E1  [[psysml:d47d9c93-f987-42aa-9c82-a11afa9e7a85 ]]  {\r\n",
       "comp def \"V\" as E2  <<(T,blue) part  def>> [[psysml:6e318fc7-f06d-4e4c-8e44-1e6d0f884455 ]] {\r\n",
       "- - references - -\r\n",
       "m\r\n",
       "}\r\n",
       "comp usage \"vv: V \" as E3  <<(T,blue) part>> [[psysml:27999d5c-daad-4ed7-92ff-020a622ea083 ]] {\r\n",
       "}\r\n",
       "comp def \"AnalysisObjective\" as E4  <<(T,blue) requirement  def>> [[psysml:31fce779-d9ab-452b-8111-7f3c68bff972 ]] {\r\n",
       "...\r\n",
       "- -\r\n",
       "}\r\n",
       "comp def \"AnalysisCase\" as E5 << analysis def>> [[psysml:0d42cad1-3808-4e7b-8fe6-f660e27fd2bd ]] {\r\n",
       "- - path step expressions - -\r\n",
       " { v.m }\r\n",
       "}\r\n",
       "comp usage \"obj: AnalysisObjective \" as E6  <<(T,blue) requirement>> [[psysml:b64c7347-1249-45eb-ab10-0bf79737e87a ]] {\r\n",
       "}\r\n",
       "comp def \"AnalysisPlan\" as E7 << analysis def>> [[psysml:058a72e0-0a98-4261-856d-73366cf47a25 ]] {\r\n",
       "}\r\n",
       "comp usage \"obj\" as E8  <<(T,blue) requirement>> [[psysml:185eeef5-681f-4700-9ef2-09baff1a4526 ]] {\r\n",
       "...\r\n",
       "- -\r\n",
       "}\r\n",
       "comp usage \"analysisCase: AnalysisCase \" as E9 << analysis>> [[psysml:ebac0614-db53-4f6a-a11b-2a64966401ed ]] {\r\n",
       "}\r\n",
       "comp usage \"obj\" as E10  <<(T,blue) requirement>> [[psysml:885560a7-695c-4aea-bf29-e47629fa314b ]] {\r\n",
       "}\r\n",
       "comp usage \"analysisContext\" as E11  <<(T,blue) part>> [[psysml:2f29b586-744b-44a6-b354-0cb36fac52ba ]] {\r\n",
       "}\r\n",
       "comp usage \"analysisPlan: AnalysisPlan \" as E12 << analysis>> [[psysml:cfe8b385-7bc2-406c-91e1-db9911ba5874 ]] {\r\n",
       "}\r\n",
       "comp usage \"obj\" as E13  <<(T,blue) requirement>> [[psysml:63325e1e-8a82-4691-b26b-3354962a7cad ]] {\r\n",
       "}\r\n",
       "}\r\n",
       "E3 - -:|> E2 [[psysml:4413170d-8387-4bcf-a661-a8e63eefb5dc ]] \r\n",
       "E5 ..> E2 [[psysml:0e59658b-8c20-4184-9a82-84e161b0c6e1 ]] : <<subject>>\r\n",
       "E5 - ->> E6 [[psysml:0aba1a21-1a42-4d2b-97f5-c2cba04c9345 ]] : <<objective>>\r\n",
       "E6 - -:|> E4 [[psysml:32f59106-5f4c-4aec-8305-226899de5705 ]] \r\n",
       "E7 ..> E2 [[psysml:1b5baffb-8729-41ae-bce6-1275f3b8062c ]] : <<subject>>\r\n",
       "E7 - ->> \"1\"E8 [[psysml:90e157ee-5294-4f98-a807-291d927bb48a ]] : <<objective>>\r\n",
       "E7 *- - E9 [[psysml:5b13e274-498b-4649-80bb-2ca5d783c8e3 ]] \r\n",
       "E9 - -:|> E5 [[psysml:2720ff20-3733-452c-91c5-acd446f65b05 ]] \r\n",
       "E9 - ->> E10 [[psysml:207a8d5d-7cc5-465d-969c-ac78b140bf51 ]] : <<objective>>\r\n",
       "E11 *- - E12 [[psysml:df4b3059-af15-4a6e-9f16-4ce8d388f00c ]] \r\n",
       "E12 - -:|> E7 [[psysml:b8e5c057-83f1-47ef-94c9-1676b303e623 ]] \r\n",
       "E12 - ->> \"1\"E13 [[psysml:7d3bd451-2ef5-4e75-9594-2e0dd7330291 ]] : <<objective>>\r\n",
       "@enduml\r\n",
       "\n",
       "PlantUML version 1.2020.13(Sat Jun 13 12:26:38 UTC 2020)\n",
       "(EPL source distribution)\n",
       "Java Runtime: OpenJDK Runtime Environment\n",
       "JVM: OpenJDK 64-Bit Server VM\n",
       "Default Encoding: UTF-8\n",
       "Language: en\n",
       "Country: null\n",
       "--></g></svg>"
      ]
     },
     "execution_count": 24,
     "metadata": {},
     "output_type": "execute_result"
    }
   ],
   "source": [
    "%viz --style=\"STDCOLOR\" --view=\"Tree\" \"AnalysisTest\""
   ]
  },
  {
   "cell_type": "code",
   "execution_count": 25,
   "id": "fb723a9c",
   "metadata": {
    "execution": {
     "iopub.execute_input": "2021-11-13T12:57:19.319735Z",
     "iopub.status.busy": "2021-11-13T12:57:19.319311Z",
     "iopub.status.idle": "2021-11-13T12:57:19.324609Z",
     "shell.execute_reply": "2021-11-13T12:57:19.324930Z"
    }
   },
   "outputs": [
    {
     "data": {
      "image/svg+xml": [
       "<?xml version=\"1.0\" encoding=\"UTF-8\" standalone=\"no\"?><svg xmlns=\"http://www.w3.org/2000/svg\" xmlns:xlink=\"http://www.w3.org/1999/xlink\" contentScriptType=\"application/ecmascript\" contentStyleType=\"text/css\" height=\"12px\" preserveAspectRatio=\"none\" style=\"width:12px;height:12px;\" version=\"1.1\" viewBox=\"0 0 12 12\" width=\"12px\" zoomAndPan=\"magnify\"><defs/><g><!--MD5=[aeeef50f102b80d730deb6443d14f702]\n",
       "@startuml\r\n",
       "skinparam wrapWidth 300\r\n",
       "hide circle\r\n",
       "\r\n",
       "@enduml\r\n",
       "\n",
       "PlantUML version 1.2020.13(Sat Jun 13 12:26:38 UTC 2020)\n",
       "(EPL source distribution)\n",
       "Java Runtime: OpenJDK Runtime Environment\n",
       "JVM: OpenJDK 64-Bit Server VM\n",
       "Default Encoding: UTF-8\n",
       "Language: en\n",
       "Country: null\n",
       "--></g></svg>"
      ]
     },
     "execution_count": 25,
     "metadata": {},
     "output_type": "execute_result"
    }
   ],
   "source": [
    "%viz --style=\"STDCOLOR\" --view=\"State\" \"AnalysisTest\""
   ]
  },
  {
   "cell_type": "code",
   "execution_count": 26,
   "id": "21f8cb7f",
   "metadata": {
    "execution": {
     "iopub.execute_input": "2021-11-13T12:57:19.374667Z",
     "iopub.status.busy": "2021-11-13T12:57:19.374256Z",
     "iopub.status.idle": "2021-11-13T12:57:19.433034Z",
     "shell.execute_reply": "2021-11-13T12:57:19.432661Z"
    }
   },
   "outputs": [
    {
     "data": {
      "image/svg+xml": [
       "<?xml version=\"1.0\" encoding=\"UTF-8\" standalone=\"no\"?><svg xmlns=\"http://www.w3.org/2000/svg\" xmlns:xlink=\"http://www.w3.org/1999/xlink\" contentScriptType=\"application/ecmascript\" contentStyleType=\"text/css\" height=\"446px\" preserveAspectRatio=\"none\" style=\"width:1132px;height:446px;\" version=\"1.1\" viewBox=\"0 0 1132 446\" width=\"1132px\" zoomAndPan=\"magnify\"><defs><filter height=\"300%\" id=\"fy1is7gcjfemp\" width=\"300%\" x=\"-1\" y=\"-1\"><feGaussianBlur result=\"blurOut\" stdDeviation=\"2.0\"/><feColorMatrix in=\"blurOut\" result=\"blurOut2\" type=\"matrix\" values=\"0 0 0 0 0 0 0 0 0 0 0 0 0 0 0 0 0 0 .4 0\"/><feOffset dx=\"4.0\" dy=\"4.0\" in=\"blurOut2\" result=\"blurOut3\"/><feBlend in=\"SourceGraphic\" in2=\"blurOut3\" mode=\"normal\"/></filter></defs><g><!--MD5=[fbc87193dbaf4d95561dea2c320d4a47]\n",
       "cluster E1--><a href=\"psysml:d47d9c93-f987-42aa-9c82-a11afa9e7a85\" target=\"_top\" title=\"psysml:d47d9c93-f987-42aa-9c82-a11afa9e7a85\" xlink:actuate=\"onRequest\" xlink:href=\"psysml:d47d9c93-f987-42aa-9c82-a11afa9e7a85\" xlink:show=\"new\" xlink:title=\"psysml:d47d9c93-f987-42aa-9c82-a11afa9e7a85\" xlink:type=\"simple\"><polygon fill=\"#FFFFFF\" filter=\"url(#fy1is7gcjfemp)\" points=\"16,6,108,6,115,28.2969,1110,28.2969,1110,434.86,16,434.86,16,6\" style=\"stroke: #000000; stroke-width: 1.5;\"/><line style=\"stroke: #000000; stroke-width: 1.5;\" x1=\"16\" x2=\"115\" y1=\"28.2969\" y2=\"28.2969\"/><text fill=\"#000000\" font-family=\"sans-serif\" font-size=\"14\" font-weight=\"bold\" lengthAdjust=\"spacingAndGlyphs\" textLength=\"86\" x=\"20\" y=\"20.9951\">AnalysisTest</text></a><!--MD5=[de5ec2e2e8f62f467e546659f5068c88]\n",
       "cluster E5--><a href=\"psysml:0d42cad1-3808-4e7b-8fe6-f660e27fd2bd\" target=\"_top\" title=\"psysml:0d42cad1-3808-4e7b-8fe6-f660e27fd2bd\" xlink:actuate=\"onRequest\" xlink:href=\"psysml:0d42cad1-3808-4e7b-8fe6-f660e27fd2bd\" xlink:show=\"new\" xlink:title=\"psysml:0d42cad1-3808-4e7b-8fe6-f660e27fd2bd\" xlink:type=\"simple\"><rect fill=\"#FFFFFF\" filter=\"url(#fy1is7gcjfemp)\" height=\"228.86\" id=\"E5\" style=\"stroke: #A80036; stroke-width: 1.5;\" width=\"146\" x=\"948\" y=\"107\"/><rect fill=\"#FEFECE\" height=\"37.9375\" style=\"stroke: #A80036; stroke-width: 1.5;\" width=\"146\" x=\"948\" y=\"107\"/><text fill=\"#000000\" font-family=\"sans-serif\" font-size=\"12\" font-style=\"italic\" lengthAdjust=\"spacingAndGlyphs\" textLength=\"88\" x=\"977\" y=\"123.1387\">«analysis def»</text><text fill=\"#000000\" font-family=\"sans-serif\" font-size=\"12\" lengthAdjust=\"spacingAndGlyphs\" textLength=\"81\" x=\"980.5\" y=\"137.1074\">AnalysisCase</text></a><!--MD5=[55dfccfc6c49c2d10cd1bd2211a6c90c]\n",
       "cluster E8--><a href=\"psysml:058a72e0-0a98-4261-856d-73366cf47a25\" target=\"_top\" title=\"psysml:058a72e0-0a98-4261-856d-73366cf47a25\" xlink:actuate=\"onRequest\" xlink:href=\"psysml:058a72e0-0a98-4261-856d-73366cf47a25\" xlink:show=\"new\" xlink:title=\"psysml:058a72e0-0a98-4261-856d-73366cf47a25\" xlink:type=\"simple\"><rect fill=\"#FFFFFF\" filter=\"url(#fy1is7gcjfemp)\" height=\"303.86\" id=\"E8\" style=\"stroke: #A80036; stroke-width: 1.5;\" width=\"259\" x=\"659\" y=\"107\"/><rect fill=\"#FEFECE\" height=\"37.9375\" style=\"stroke: #A80036; stroke-width: 1.5;\" width=\"259\" x=\"659\" y=\"107\"/><text fill=\"#000000\" font-family=\"sans-serif\" font-size=\"12\" font-style=\"italic\" lengthAdjust=\"spacingAndGlyphs\" textLength=\"88\" x=\"744.5\" y=\"123.1387\">«analysis def»</text><text fill=\"#000000\" font-family=\"sans-serif\" font-size=\"12\" lengthAdjust=\"spacingAndGlyphs\" textLength=\"77\" x=\"750\" y=\"137.1074\">AnalysisPlan</text></a><!--MD5=[a84b4591f868c1fa4a211716a82f2f0d]\n",
       "cluster E10--><a href=\"psysml:ebac0614-db53-4f6a-a11b-2a64966401ed\" target=\"_top\" title=\"psysml:ebac0614-db53-4f6a-a11b-2a64966401ed\" xlink:actuate=\"onRequest\" xlink:href=\"psysml:ebac0614-db53-4f6a-a11b-2a64966401ed\" xlink:show=\"new\" xlink:title=\"psysml:ebac0614-db53-4f6a-a11b-2a64966401ed\" xlink:type=\"simple\"><rect fill=\"#FFFFFF\" filter=\"url(#fy1is7gcjfemp)\" height=\"165.86\" id=\"E10\" rx=\"10\" ry=\"10\" style=\"stroke: #A80036; stroke-width: 1.5;\" width=\"138\" x=\"742\" y=\"207\"/><rect fill=\"#FEFECE\" height=\"37.9375\" rx=\"10\" ry=\"10\" style=\"stroke: #FEFECE; stroke-width: 1.5;\" width=\"138\" x=\"742\" y=\"207\"/><rect fill=\"#FEFECE\" height=\"10\" style=\"stroke: #FEFECE; stroke-width: 1.5;\" width=\"138\" x=\"742\" y=\"234.9375\"/><rect fill=\"none\" height=\"165.86\" id=\"E10\" rx=\"10\" ry=\"10\" style=\"stroke: #A80036; stroke-width: 1.5;\" width=\"138\" x=\"742\" y=\"207\"/><text fill=\"#000000\" font-family=\"sans-serif\" font-size=\"12\" font-style=\"italic\" lengthAdjust=\"spacingAndGlyphs\" textLength=\"64\" x=\"779\" y=\"223.1387\">«analysis»</text><text fill=\"#000000\" font-family=\"sans-serif\" font-size=\"12\" lengthAdjust=\"spacingAndGlyphs\" textLength=\"81\" x=\"770.5\" y=\"237.1074\">analysisCase</text><line style=\"stroke: #A80036; stroke-width: 1.0;\" x1=\"742\" x2=\"880\" y1=\"244.9375\" y2=\"244.9375\"/></a><!--MD5=[bcf29f0808fc96f19b1afbee8cfc1f11]\n",
       "cluster E14--><a href=\"psysml:2f29b586-744b-44a6-b354-0cb36fac52ba\" target=\"_top\" title=\"psysml:2f29b586-744b-44a6-b354-0cb36fac52ba\" xlink:actuate=\"onRequest\" xlink:href=\"psysml:2f29b586-744b-44a6-b354-0cb36fac52ba\" xlink:show=\"new\" xlink:title=\"psysml:2f29b586-744b-44a6-b354-0cb36fac52ba\" xlink:type=\"simple\"><rect fill=\"#FFFFFF\" filter=\"url(#fy1is7gcjfemp)\" height=\"197\" id=\"E14\" rx=\"10\" ry=\"10\" style=\"stroke: #A80036; stroke-width: 1.5;\" width=\"204\" x=\"368\" y=\"49\"/><rect fill=\"#FEFECE\" height=\"23.9688\" rx=\"10\" ry=\"10\" style=\"stroke: #FEFECE; stroke-width: 1.5;\" width=\"204\" x=\"368\" y=\"49\"/><rect fill=\"#FEFECE\" height=\"10\" style=\"stroke: #FEFECE; stroke-width: 1.5;\" width=\"204\" x=\"368\" y=\"62.9688\"/><rect fill=\"none\" height=\"197\" id=\"E14\" rx=\"10\" ry=\"10\" style=\"stroke: #A80036; stroke-width: 1.5;\" width=\"204\" x=\"368\" y=\"49\"/><text fill=\"#000000\" font-family=\"sans-serif\" font-size=\"12\" lengthAdjust=\"spacingAndGlyphs\" textLength=\"98\" x=\"421\" y=\"65.1387\">analysisContext</text><line style=\"stroke: #A80036; stroke-width: 1.0;\" x1=\"368\" x2=\"572\" y1=\"72.9688\" y2=\"72.9688\"/></a><!--MD5=[ebbe1d658d1005bcc118a6aa81145e00]\n",
       "class E4--><a href=\"psysml:31fce779-d9ab-452b-8111-7f3c68bff972\" target=\"_top\" title=\"psysml:31fce779-d9ab-452b-8111-7f3c68bff972\" xlink:actuate=\"onRequest\" xlink:href=\"psysml:31fce779-d9ab-452b-8111-7f3c68bff972\" xlink:show=\"new\" xlink:title=\"psysml:31fce779-d9ab-452b-8111-7f3c68bff972\" xlink:type=\"simple\"><rect fill=\"#FEFECE\" filter=\"url(#fy1is7gcjfemp)\" height=\"66.7422\" id=\"E4\" style=\"stroke: #A80036; stroke-width: 1.5;\" width=\"121\" x=\"227.5\" y=\"73.5\"/><text fill=\"#000000\" font-family=\"sans-serif\" font-size=\"12\" font-style=\"italic\" lengthAdjust=\"spacingAndGlyphs\" textLength=\"119\" x=\"228.5\" y=\"89.6387\">«requirement  def»</text><text fill=\"#000000\" font-family=\"sans-serif\" font-size=\"12\" lengthAdjust=\"spacingAndGlyphs\" textLength=\"107\" x=\"234.5\" y=\"103.6074\">AnalysisObjective</text><line style=\"stroke: #A80036; stroke-width: 1.5;\" x1=\"228.5\" x2=\"347.5\" y1=\"111.4375\" y2=\"111.4375\"/><text fill=\"#000000\" font-family=\"sans-serif\" font-size=\"11\" lengthAdjust=\"spacingAndGlyphs\" textLength=\"12\" x=\"233.5\" y=\"125.6479\">...</text><line style=\"stroke: #A80036; stroke-width: 1.0;\" x1=\"228.5\" x2=\"347.5\" y1=\"132.2422\" y2=\"132.2422\"/></a><g id=\"E1.E2\"><a href=\"psysml:6e318fc7-f06d-4e4c-8e44-1e6d0f884455\" target=\"_top\" title=\"psysml:6e318fc7-f06d-4e4c-8e44-1e6d0f884455\" xlink:actuate=\"onRequest\" xlink:href=\"psysml:6e318fc7-f06d-4e4c-8e44-1e6d0f884455\" xlink:show=\"new\" xlink:title=\"psysml:6e318fc7-f06d-4e4c-8e44-1e6d0f884455\" xlink:type=\"simple\"><rect fill=\"#FEFECE\" filter=\"url(#fy1is7gcjfemp)\" height=\"42.9375\" id=\"E2\" style=\"stroke: #A80036; stroke-width: 1.5;\" width=\"75\" x=\"117.5\" y=\"85.5\"/><text fill=\"#000000\" font-family=\"sans-serif\" font-size=\"12\" font-style=\"italic\" lengthAdjust=\"spacingAndGlyphs\" textLength=\"68\" x=\"121\" y=\"101.6387\">«part  def»</text><text fill=\"#000000\" font-family=\"sans-serif\" font-size=\"12\" lengthAdjust=\"spacingAndGlyphs\" textLength=\"8\" x=\"151\" y=\"115.6074\">V</text></a></g><g id=\"E1.E3\"><a href=\"psysml:27999d5c-daad-4ed7-92ff-020a622ea083\" target=\"_top\" title=\"psysml:27999d5c-daad-4ed7-92ff-020a622ea083\" xlink:actuate=\"onRequest\" xlink:href=\"psysml:27999d5c-daad-4ed7-92ff-020a622ea083\" xlink:show=\"new\" xlink:title=\"psysml:27999d5c-daad-4ed7-92ff-020a622ea083\" xlink:type=\"simple\"><rect fill=\"#FEFECE\" filter=\"url(#fy1is7gcjfemp)\" height=\"40\" id=\"E3\" rx=\"10\" ry=\"10\" style=\"stroke: #A80036; stroke-width: 1.5;\" width=\"50\" x=\"32\" y=\"87\"/><text fill=\"#000000\" font-family=\"sans-serif\" font-size=\"12\" lengthAdjust=\"spacingAndGlyphs\" textLength=\"28\" x=\"43\" y=\"103.1387\">vv: V</text></a></g><text fill=\"#000000\" font-family=\"sans-serif\" font-size=\"14\" lengthAdjust=\"spacingAndGlyphs\" textLength=\"7\" x=\"1017.5\" y=\"85.6982\">v</text><rect fill=\"#A80036\" height=\"12\" style=\"stroke: #FEFECE; stroke-width: 1.5;\" width=\"12\" x=\"1015\" y=\"101\"/><text fill=\"#000000\" font-family=\"sans-serif\" font-size=\"14\" lengthAdjust=\"spacingAndGlyphs\" textLength=\"39\" x=\"1001.5\" y=\"354.8551\">result</text><rect fill=\"#A80036\" height=\"12\" style=\"stroke: #FEFECE; stroke-width: 1.5;\" width=\"12\" x=\"1015\" y=\"329.86\"/><text fill=\"#000000\" font-family=\"sans-serif\" font-size=\"14\" lengthAdjust=\"spacingAndGlyphs\" textLength=\"7\" x=\"673.5\" y=\"85.6982\">v</text><rect fill=\"#A80036\" height=\"12\" style=\"stroke: #FEFECE; stroke-width: 1.5;\" width=\"12\" x=\"671\" y=\"101\"/><text fill=\"#000000\" font-family=\"sans-serif\" font-size=\"14\" lengthAdjust=\"spacingAndGlyphs\" textLength=\"39\" x=\"898.5\" y=\"354.8551\">result</text><rect fill=\"#A80036\" height=\"12\" style=\"stroke: #FEFECE; stroke-width: 1.5;\" width=\"12\" x=\"912\" y=\"329.86\"/><text fill=\"#000000\" font-family=\"sans-serif\" font-size=\"14\" lengthAdjust=\"spacingAndGlyphs\" textLength=\"37\" x=\"792.5\" y=\"391.8551\">mass</text><rect fill=\"#A80036\" height=\"12\" style=\"stroke: #FEFECE; stroke-width: 1.5;\" width=\"12\" x=\"805\" y=\"366.86\"/><text fill=\"#000000\" font-family=\"sans-serif\" font-size=\"14\" lengthAdjust=\"spacingAndGlyphs\" textLength=\"7\" x=\"807.5\" y=\"185.6982\">v</text><rect fill=\"#A80036\" height=\"12\" style=\"stroke: #FEFECE; stroke-width: 1.5;\" width=\"12\" x=\"805\" y=\"201\"/><!--MD5=[0c48fb7552dae8cbbef69381101a84c8]\n",
       "class E15--><a href=\"psysml:cfe8b385-7bc2-406c-91e1-db9911ba5874\" target=\"_top\" title=\"psysml:cfe8b385-7bc2-406c-91e1-db9911ba5874\" xlink:actuate=\"onRequest\" xlink:href=\"psysml:cfe8b385-7bc2-406c-91e1-db9911ba5874\" xlink:show=\"new\" xlink:title=\"psysml:cfe8b385-7bc2-406c-91e1-db9911ba5874\" xlink:type=\"simple\"><rect fill=\"#FEFECE\" filter=\"url(#fy1is7gcjfemp)\" height=\"45.9375\" id=\"E15\" rx=\"10\" ry=\"10\" style=\"stroke: #A80036; stroke-width: 1.5;\" width=\"172\" x=\"384\" y=\"84\"/><text fill=\"#000000\" font-family=\"sans-serif\" font-size=\"12\" font-style=\"italic\" lengthAdjust=\"spacingAndGlyphs\" textLength=\"64\" x=\"438\" y=\"100.1387\">«analysis»</text><text fill=\"#000000\" font-family=\"sans-serif\" font-size=\"12\" lengthAdjust=\"spacingAndGlyphs\" textLength=\"162\" x=\"387\" y=\"114.1074\">analysisPlan: AnalysisPlan</text><line style=\"stroke: #A80036; stroke-width: 1.5;\" x1=\"385\" x2=\"555\" y1=\"121.9375\" y2=\"121.9375\"/></a><!--MD5=[35f0587eaee8d5bb9a02e25b63afc23b]\n",
       "class E16--><a href=\"psysml:63325e1e-8a82-4691-b26b-3354962a7cad\" target=\"_top\" title=\"psysml:63325e1e-8a82-4691-b26b-3354962a7cad\" xlink:actuate=\"onRequest\" xlink:href=\"psysml:63325e1e-8a82-4691-b26b-3354962a7cad\" xlink:show=\"new\" xlink:title=\"psysml:63325e1e-8a82-4691-b26b-3354962a7cad\" xlink:type=\"simple\"><rect fill=\"#FEFECE\" filter=\"url(#fy1is7gcjfemp)\" height=\"45.9375\" id=\"E16\" rx=\"10\" ry=\"10\" style=\"stroke: #A80036; stroke-width: 1.5;\" width=\"93\" x=\"423.5\" y=\"184\"/><text fill=\"#000000\" font-family=\"sans-serif\" font-size=\"12\" font-style=\"italic\" lengthAdjust=\"spacingAndGlyphs\" textLength=\"91\" x=\"424.5\" y=\"200.1387\">«requirement»</text><text fill=\"#000000\" font-family=\"sans-serif\" font-size=\"12\" lengthAdjust=\"spacingAndGlyphs\" textLength=\"19\" x=\"460.5\" y=\"214.1074\">obj</text><line style=\"stroke: #A80036; stroke-width: 1.5;\" x1=\"424.5\" x2=\"515.5\" y1=\"221.9375\" y2=\"221.9375\"/></a><!--MD5=[1b01d5b954197aaf3899ca0bde35faf5]\n",
       "link E15 to E8--><a href=\"psysml:b8e5c057-83f1-47ef-94c9-1676b303e623\" target=\"_top\" title=\"psysml:b8e5c057-83f1-47ef-94c9-1676b303e623\" xlink:actuate=\"onRequest\" xlink:href=\"psysml:b8e5c057-83f1-47ef-94c9-1676b303e623\" xlink:show=\"new\" xlink:title=\"psysml:b8e5c057-83f1-47ef-94c9-1676b303e623\" xlink:type=\"simple\"><path d=\"M516.71,130.12 C554.75,148.12 607.61,173.15 642.06,189.46 \" fill=\"none\" id=\"E15-&gt;E8\" style=\"stroke: #A80036; stroke-width: 1.0;\"/><polygon fill=\"#FFFFFF\" points=\"642.06,189.46,621.892,187.6566,627.8827,175.003,642.06,189.46\" style=\"stroke: #A80036; stroke-width: 1.0;\"/><ellipse cx=\"617.596\" cy=\"183.4098\" fill=\"#A80036\" rx=\"2\" ry=\"2\" style=\"stroke: #A80036; stroke-width: 1.0;\"/><ellipse cx=\"621.8751\" cy=\"174.3716\" fill=\"#A80036\" rx=\"2\" ry=\"2\" style=\"stroke: #A80036; stroke-width: 1.0;\"/></a><!--MD5=[f8b155c46b092be73bb522b0a8fc72a2]\n",
       "link E15 to E16--><a href=\"psysml:7d3bd451-2ef5-4e75-9594-2e0dd7330291\" target=\"_top\" title=\"psysml:7d3bd451-2ef5-4e75-9594-2e0dd7330291\" xlink:actuate=\"onRequest\" xlink:href=\"psysml:7d3bd451-2ef5-4e75-9594-2e0dd7330291\" xlink:show=\"new\" xlink:title=\"psysml:7d3bd451-2ef5-4e75-9594-2e0dd7330291\" xlink:type=\"simple\"><path d=\"M470,130.24 C470,143.64 470,160.91 470,175.57 \" fill=\"none\" id=\"E15-&gt;E16\" style=\"stroke: #A80036; stroke-width: 1.0;\"/><polygon fill=\"#A80036\" points=\"470,183.85,473,175.85,467,175.85,470,183.85\" style=\"stroke: #A80036; stroke-width: 1.0;\"/><text fill=\"#000000\" font-family=\"sans-serif\" font-size=\"13\" lengthAdjust=\"spacingAndGlyphs\" textLength=\"73\" x=\"471\" y=\"161.5669\">«objective»</text><text fill=\"#000000\" font-family=\"sans-serif\" font-size=\"13\" lengthAdjust=\"spacingAndGlyphs\" textLength=\"8\" x=\"460.975\" y=\"173.0879\">1</text></a><!--MD5=[870ba99cbcf773e9718cafe8a4675fee]\n",
       "@startuml\r\n",
       "skinparam ranksep 10\r\n",
       "skinparam rectangle {\r\n",
       " backgroundColor<<block>> LightGreen\r\n",
       "}\r\n",
       "skinparam wrapWidth 300\r\n",
       "hide circle\r\n",
       "\r\n",
       "package \"AnalysisTest\" as E1  [[psysml:d47d9c93-f987-42aa-9c82-a11afa9e7a85 ]]  {\r\n",
       "rec def \"V\" as E2  <<(T,blue) part  def>> [[psysml:6e318fc7-f06d-4e4c-8e44-1e6d0f884455 ]] {\r\n",
       "}\r\n",
       "rec usage \"vv: V\" as E3  [[psysml:27999d5c-daad-4ed7-92ff-020a622ea083 ]] {\r\n",
       "}\r\n",
       "comp def \"AnalysisObjective\" as E4  <<(T,blue) requirement  def>> [[psysml:31fce779-d9ab-452b-8111-7f3c68bff972 ]] {\r\n",
       "...\r\n",
       "- -\r\n",
       "}\r\n",
       "rec def \"AnalysisCase\" as E5 << analysis def>> [[psysml:0d42cad1-3808-4e7b-8fe6-f660e27fd2bd ]] {\r\n",
       "portin \"v\" as E6  [[psysml:f7aad551-6165-4689-8df3-b128f6f54571 ]] \r\n",
       "portout \"result\" as E7  [[psysml:d8a9a5d1-c1b2-404a-b54f-35037ecf4c2d ]] \r\n",
       "}\r\n",
       "\r\n",
       "rec def \"AnalysisPlan\" as E8 << analysis def>> [[psysml:058a72e0-0a98-4261-856d-73366cf47a25 ]] {\r\n",
       "portin \"v\" as E9  [[psysml:40d43c87-89d5-4dcb-a988-f011f6f29ac5 ]] \r\n",
       "rec usage \"analysisCase\" as E10 << analysis>> [[psysml:ebac0614-db53-4f6a-a11b-2a64966401ed ]] {\r\n",
       "portout \"mass\" as E11  [[psysml:94298e01-1500-44a7-8244-0cc3e5620ae6 ]] \r\n",
       "portin \"v\" as E12  [[psysml:fabccdcf-1c94-4d5c-8a0b-5626b651aa80 ]] \r\n",
       "}\r\n",
       "\r\n",
       "portout \"result\" as E13  [[psysml:633f1383-e65f-4e22-9e6d-6ffcdde4bc38 ]] \r\n",
       "}\r\n",
       "\r\n",
       "rec usage \"analysisContext\" as E14  [[psysml:2f29b586-744b-44a6-b354-0cb36fac52ba ]] {\r\n",
       "comp usage \"analysisPlan: AnalysisPlan \" as E15 << analysis>> [[psysml:cfe8b385-7bc2-406c-91e1-db9911ba5874 ]] {\r\n",
       "}\r\n",
       "comp usage \"obj\" as E16  <<(T,blue) requirement>> [[psysml:63325e1e-8a82-4691-b26b-3354962a7cad ]] {\r\n",
       "}\r\n",
       "}\r\n",
       "}\r\n",
       "E15 - -:|> E8 [[psysml:b8e5c057-83f1-47ef-94c9-1676b303e623 ]] \r\n",
       "E15 - ->> \"1\"E16 [[psysml:7d3bd451-2ef5-4e75-9594-2e0dd7330291 ]] : <<objective>>\r\n",
       "@enduml\r\n",
       "\n",
       "PlantUML version 1.2020.13(Sat Jun 13 12:26:38 UTC 2020)\n",
       "(EPL source distribution)\n",
       "Java Runtime: OpenJDK Runtime Environment\n",
       "JVM: OpenJDK 64-Bit Server VM\n",
       "Default Encoding: UTF-8\n",
       "Language: en\n",
       "Country: null\n",
       "--></g></svg>"
      ]
     },
     "execution_count": 26,
     "metadata": {},
     "output_type": "execute_result"
    }
   ],
   "source": [
    "%viz --style=\"STDCOLOR\" --view=\"Interconnection\" \"AnalysisTest\""
   ]
  },
  {
   "cell_type": "code",
   "execution_count": 27,
   "id": "79816432",
   "metadata": {
    "execution": {
     "iopub.execute_input": "2021-11-13T12:57:19.482124Z",
     "iopub.status.busy": "2021-11-13T12:57:19.481689Z",
     "iopub.status.idle": "2021-11-13T12:57:19.519517Z",
     "shell.execute_reply": "2021-11-13T12:57:19.519135Z"
    }
   },
   "outputs": [
    {
     "data": {
      "image/svg+xml": [
       "<?xml version=\"1.0\" encoding=\"UTF-8\" standalone=\"no\"?><svg xmlns=\"http://www.w3.org/2000/svg\" xmlns:xlink=\"http://www.w3.org/1999/xlink\" contentScriptType=\"application/ecmascript\" contentStyleType=\"text/css\" height=\"241px\" preserveAspectRatio=\"none\" style=\"width:656px;height:241px;\" version=\"1.1\" viewBox=\"0 0 656 241\" width=\"656px\" zoomAndPan=\"magnify\"><defs><filter height=\"300%\" id=\"f140pjirk6ewn9\" width=\"300%\" x=\"-1\" y=\"-1\"><feGaussianBlur result=\"blurOut\" stdDeviation=\"2.0\"/><feColorMatrix in=\"blurOut\" result=\"blurOut2\" type=\"matrix\" values=\"0 0 0 0 0 0 0 0 0 0 0 0 0 0 0 0 0 0 .4 0\"/><feOffset dx=\"4.0\" dy=\"4.0\" in=\"blurOut2\" result=\"blurOut3\"/><feBlend in=\"SourceGraphic\" in2=\"blurOut3\" mode=\"normal\"/></filter></defs><g><!--MD5=[fbc87193dbaf4d95561dea2c320d4a47]\n",
       "cluster E1--><a href=\"psysml:0d42cad1-3808-4e7b-8fe6-f660e27fd2bd\" target=\"_top\" title=\"psysml:0d42cad1-3808-4e7b-8fe6-f660e27fd2bd\" xlink:actuate=\"onRequest\" xlink:href=\"psysml:0d42cad1-3808-4e7b-8fe6-f660e27fd2bd\" xlink:show=\"new\" xlink:title=\"psysml:0d42cad1-3808-4e7b-8fe6-f660e27fd2bd\" xlink:type=\"simple\"><rect fill=\"#FFFFFF\" filter=\"url(#f140pjirk6ewn9)\" height=\"122\" id=\"E1\" style=\"stroke: #A80036; stroke-width: 1.5;\" width=\"146\" x=\"7\" y=\"42.0986\"/><rect fill=\"#FEFECE\" height=\"37.9375\" style=\"stroke: #A80036; stroke-width: 1.5;\" width=\"146\" x=\"7\" y=\"42.0986\"/><text fill=\"#000000\" font-family=\"sans-serif\" font-size=\"12\" font-style=\"italic\" lengthAdjust=\"spacingAndGlyphs\" textLength=\"88\" x=\"36\" y=\"58.2373\">«analysis def»</text><text fill=\"#000000\" font-family=\"sans-serif\" font-size=\"12\" lengthAdjust=\"spacingAndGlyphs\" textLength=\"81\" x=\"39.5\" y=\"72.2061\">AnalysisCase</text></a><!--MD5=[f6df4d0ebaf0b5dfb2ced0ae5af7c670]\n",
       "cluster E4--><a href=\"psysml:058a72e0-0a98-4261-856d-73366cf47a25\" target=\"_top\" title=\"psysml:058a72e0-0a98-4261-856d-73366cf47a25\" xlink:actuate=\"onRequest\" xlink:href=\"psysml:058a72e0-0a98-4261-856d-73366cf47a25\" xlink:show=\"new\" xlink:title=\"psysml:058a72e0-0a98-4261-856d-73366cf47a25\" xlink:type=\"simple\"><rect fill=\"#FFFFFF\" filter=\"url(#f140pjirk6ewn9)\" height=\"180\" id=\"E4\" style=\"stroke: #A80036; stroke-width: 1.5;\" width=\"262\" x=\"216\" y=\"42.0986\"/><rect fill=\"#FEFECE\" height=\"37.9375\" style=\"stroke: #A80036; stroke-width: 1.5;\" width=\"262\" x=\"216\" y=\"42.0986\"/><text fill=\"#000000\" font-family=\"sans-serif\" font-size=\"12\" font-style=\"italic\" lengthAdjust=\"spacingAndGlyphs\" textLength=\"88\" x=\"303\" y=\"58.2373\">«analysis def»</text><text fill=\"#000000\" font-family=\"sans-serif\" font-size=\"12\" lengthAdjust=\"spacingAndGlyphs\" textLength=\"77\" x=\"308.5\" y=\"72.2061\">AnalysisPlan</text></a><!--MD5=[14e3b0961a2654348d326746436168a1]\n",
       "cluster E6--><a href=\"psysml:ebac0614-db53-4f6a-a11b-2a64966401ed\" target=\"_top\" title=\"psysml:ebac0614-db53-4f6a-a11b-2a64966401ed\" xlink:actuate=\"onRequest\" xlink:href=\"psysml:ebac0614-db53-4f6a-a11b-2a64966401ed\" xlink:show=\"new\" xlink:title=\"psysml:ebac0614-db53-4f6a-a11b-2a64966401ed\" xlink:type=\"simple\"><rect fill=\"#FFFFFF\" filter=\"url(#f140pjirk6ewn9)\" height=\"110.5\" id=\"E6\" rx=\"10\" ry=\"10\" style=\"stroke: #A80036; stroke-width: 1.5;\" width=\"138\" x=\"299\" y=\"81.5986\"/><rect fill=\"#FEFECE\" height=\"37.9375\" rx=\"10\" ry=\"10\" style=\"stroke: #FEFECE; stroke-width: 1.5;\" width=\"138\" x=\"299\" y=\"81.5986\"/><rect fill=\"#FEFECE\" height=\"10\" style=\"stroke: #FEFECE; stroke-width: 1.5;\" width=\"138\" x=\"299\" y=\"109.5361\"/><rect fill=\"none\" height=\"110.5\" id=\"E6\" rx=\"10\" ry=\"10\" style=\"stroke: #A80036; stroke-width: 1.5;\" width=\"138\" x=\"299\" y=\"81.5986\"/><text fill=\"#000000\" font-family=\"sans-serif\" font-size=\"12\" font-style=\"italic\" lengthAdjust=\"spacingAndGlyphs\" textLength=\"64\" x=\"336\" y=\"97.7373\">«analysis»</text><text fill=\"#000000\" font-family=\"sans-serif\" font-size=\"12\" lengthAdjust=\"spacingAndGlyphs\" textLength=\"81\" x=\"327.5\" y=\"111.7061\">analysisCase</text><line style=\"stroke: #A80036; stroke-width: 1.0;\" x1=\"299\" x2=\"437\" y1=\"119.5361\" y2=\"119.5361\"/></a><!--MD5=[a84b4591f868c1fa4a211716a82f2f0d]\n",
       "cluster E10--><a href=\"psysml:cfe8b385-7bc2-406c-91e1-db9911ba5874\" target=\"_top\" title=\"psysml:cfe8b385-7bc2-406c-91e1-db9911ba5874\" xlink:actuate=\"onRequest\" xlink:href=\"psysml:cfe8b385-7bc2-406c-91e1-db9911ba5874\" xlink:show=\"new\" xlink:title=\"psysml:cfe8b385-7bc2-406c-91e1-db9911ba5874\" xlink:type=\"simple\"><rect fill=\"#FFFFFF\" filter=\"url(#f140pjirk6ewn9)\" height=\"122\" id=\"E10\" rx=\"10\" ry=\"10\" style=\"stroke: #A80036; stroke-width: 1.5;\" width=\"130\" x=\"507\" y=\"42.0986\"/><rect fill=\"#FEFECE\" height=\"37.9375\" rx=\"10\" ry=\"10\" style=\"stroke: #FEFECE; stroke-width: 1.5;\" width=\"130\" x=\"507\" y=\"42.0986\"/><rect fill=\"#FEFECE\" height=\"10\" style=\"stroke: #FEFECE; stroke-width: 1.5;\" width=\"130\" x=\"507\" y=\"70.0361\"/><rect fill=\"none\" height=\"122\" id=\"E10\" rx=\"10\" ry=\"10\" style=\"stroke: #A80036; stroke-width: 1.5;\" width=\"130\" x=\"507\" y=\"42.0986\"/><text fill=\"#000000\" font-family=\"sans-serif\" font-size=\"12\" font-style=\"italic\" lengthAdjust=\"spacingAndGlyphs\" textLength=\"64\" x=\"540\" y=\"58.2373\">«analysis»</text><text fill=\"#000000\" font-family=\"sans-serif\" font-size=\"12\" lengthAdjust=\"spacingAndGlyphs\" textLength=\"77\" x=\"533.5\" y=\"72.2061\">analysisPlan</text><line style=\"stroke: #A80036; stroke-width: 1.0;\" x1=\"507\" x2=\"637\" y1=\"80.0361\" y2=\"80.0361\"/></a><text fill=\"#000000\" font-family=\"sans-serif\" font-size=\"14\" lengthAdjust=\"spacingAndGlyphs\" textLength=\"7\" x=\"76.5\" y=\"20.7969\">v</text><rect fill=\"#A80036\" height=\"12\" style=\"stroke: #FEFECE; stroke-width: 1.5;\" width=\"12\" x=\"74\" y=\"36.0986\"/><text fill=\"#000000\" font-family=\"sans-serif\" font-size=\"14\" lengthAdjust=\"spacingAndGlyphs\" textLength=\"39\" x=\"60.5\" y=\"183.0938\">result</text><rect fill=\"#A80036\" height=\"12\" style=\"stroke: #FEFECE; stroke-width: 1.5;\" width=\"12\" x=\"74\" y=\"158.0986\"/><text fill=\"#000000\" font-family=\"sans-serif\" font-size=\"14\" lengthAdjust=\"spacingAndGlyphs\" textLength=\"7\" x=\"230.5\" y=\"20.7969\">v</text><rect fill=\"#A80036\" height=\"12\" style=\"stroke: #FEFECE; stroke-width: 1.5;\" width=\"12\" x=\"228\" y=\"36.0986\"/><text fill=\"#000000\" font-family=\"sans-serif\" font-size=\"14\" lengthAdjust=\"spacingAndGlyphs\" textLength=\"39\" x=\"458.5\" y=\"183.0938\">result</text><rect fill=\"#A80036\" height=\"12\" style=\"stroke: #FEFECE; stroke-width: 1.5;\" width=\"12\" x=\"472\" y=\"158.0986\"/><text fill=\"#000000\" font-family=\"sans-serif\" font-size=\"14\" lengthAdjust=\"spacingAndGlyphs\" textLength=\"37\" x=\"349.5\" y=\"211.0938\">mass</text><rect fill=\"#A80036\" height=\"12\" style=\"stroke: #FEFECE; stroke-width: 1.5;\" width=\"12\" x=\"362\" y=\"186.0986\"/><text fill=\"#000000\" font-family=\"sans-serif\" font-size=\"14\" lengthAdjust=\"spacingAndGlyphs\" textLength=\"7\" x=\"364.5\" y=\"60.2969\">v</text><rect fill=\"#A80036\" height=\"12\" style=\"stroke: #FEFECE; stroke-width: 1.5;\" width=\"12\" x=\"362\" y=\"75.5986\"/><text fill=\"#000000\" font-family=\"sans-serif\" font-size=\"14\" lengthAdjust=\"spacingAndGlyphs\" textLength=\"7\" x=\"567.5\" y=\"20.7969\">v</text><rect fill=\"#A80036\" height=\"12\" style=\"stroke: #FEFECE; stroke-width: 1.5;\" width=\"12\" x=\"565\" y=\"36.0986\"/><text fill=\"#000000\" font-family=\"sans-serif\" font-size=\"14\" lengthAdjust=\"spacingAndGlyphs\" textLength=\"39\" x=\"505.5\" y=\"183.0938\">result</text><rect fill=\"#A80036\" height=\"12\" style=\"stroke: #FEFECE; stroke-width: 1.5;\" width=\"12\" x=\"519\" y=\"158.0986\"/><!--MD5=[b4eb0cec041df1345d5f1e63da7200ff]\n",
       "@startuml\r\n",
       "skinparam ranksep 8\r\n",
       "skinparam wrapWidth 300\r\n",
       "hide circle\r\n",
       "\r\n",
       "rec def \"AnalysisCase\" as E1 << analysis def>> [[psysml:0d42cad1-3808-4e7b-8fe6-f660e27fd2bd ]] {\r\n",
       "portin \"v\" as E2  [[psysml:f7aad551-6165-4689-8df3-b128f6f54571 ]] \r\n",
       "portout \"result\" as E3  [[psysml:d8a9a5d1-c1b2-404a-b54f-35037ecf4c2d ]] \r\n",
       "}\r\n",
       "\r\n",
       "rec def \"AnalysisPlan\" as E4 << analysis def>> [[psysml:058a72e0-0a98-4261-856d-73366cf47a25 ]] {\r\n",
       "portin \"v\" as E5  [[psysml:40d43c87-89d5-4dcb-a988-f011f6f29ac5 ]] \r\n",
       "rec usage \"analysisCase\" as E6 << analysis>> [[psysml:ebac0614-db53-4f6a-a11b-2a64966401ed ]] {\r\n",
       "portout \"mass\" as E7  [[psysml:94298e01-1500-44a7-8244-0cc3e5620ae6 ]] \r\n",
       "portin \"v\" as E8  [[psysml:fabccdcf-1c94-4d5c-8a0b-5626b651aa80 ]] \r\n",
       "}\r\n",
       "\r\n",
       "portout \"result\" as E9  [[psysml:633f1383-e65f-4e22-9e6d-6ffcdde4bc38 ]] \r\n",
       "}\r\n",
       "\r\n",
       "rec usage \"analysisPlan\" as E10 << analysis>> [[psysml:cfe8b385-7bc2-406c-91e1-db9911ba5874 ]] {\r\n",
       "portin \"v\" as E11  [[psysml:55cfee2c-c24c-468f-9db4-77480ce5a457 ]] \r\n",
       "portout \"result\" as E12  [[psysml:8005f62b-cb79-4c8e-b32b-9a19d0c6c24c ]] \r\n",
       "}\r\n",
       "\r\n",
       "@enduml\r\n",
       "\n",
       "PlantUML version 1.2020.13(Sat Jun 13 12:26:38 UTC 2020)\n",
       "(EPL source distribution)\n",
       "Java Runtime: OpenJDK Runtime Environment\n",
       "JVM: OpenJDK 64-Bit Server VM\n",
       "Default Encoding: UTF-8\n",
       "Language: en\n",
       "Country: null\n",
       "--></g></svg>"
      ]
     },
     "execution_count": 27,
     "metadata": {},
     "output_type": "execute_result"
    }
   ],
   "source": [
    "%viz --style=\"STDCOLOR\" --view=\"Action\" \"AnalysisTest\""
   ]
  },
  {
   "cell_type": "code",
   "execution_count": 28,
   "id": "393c3cd6",
   "metadata": {
    "execution": {
     "iopub.execute_input": "2021-11-13T12:57:19.568576Z",
     "iopub.status.busy": "2021-11-13T12:57:19.568154Z",
     "iopub.status.idle": "2021-11-13T12:57:19.573047Z",
     "shell.execute_reply": "2021-11-13T12:57:19.572691Z"
    }
   },
   "outputs": [
    {
     "data": {
      "image/svg+xml": [
       "<?xml version=\"1.0\" encoding=\"UTF-8\" standalone=\"no\"?><svg xmlns=\"http://www.w3.org/2000/svg\" xmlns:xlink=\"http://www.w3.org/1999/xlink\" contentScriptType=\"application/ecmascript\" contentStyleType=\"text/css\" height=\"12px\" preserveAspectRatio=\"none\" style=\"width:12px;height:12px;\" version=\"1.1\" viewBox=\"0 0 12 12\" width=\"12px\" zoomAndPan=\"magnify\"><defs/><g><!--MD5=[6c4bca67b4d71758159a5a7f1f1e1fc2]\n",
       "@startuml\r\n",
       "skinparam roundcorner 20\r\n",
       "skinparam BoxPadding 20\r\n",
       "skinparam SequenceBoxBackgroundColor #white\r\n",
       "skinparam style strictuml\r\n",
       "skinparam maxMessageSize 100\r\n",
       "skinparam wrapWidth 300\r\n",
       "hide circle\r\n",
       "\r\n",
       "@enduml\r\n",
       "\n",
       "PlantUML version 1.2020.13(Sat Jun 13 12:26:38 UTC 2020)\n",
       "(EPL source distribution)\n",
       "Java Runtime: OpenJDK Runtime Environment\n",
       "JVM: OpenJDK 64-Bit Server VM\n",
       "Default Encoding: UTF-8\n",
       "Language: en\n",
       "Country: null\n",
       "--></g></svg>"
      ]
     },
     "execution_count": 28,
     "metadata": {},
     "output_type": "execute_result"
    }
   ],
   "source": [
    "%viz --style=\"STDCOLOR\" --view=\"Sequence\" \"AnalysisTest\""
   ]
  },
  {
   "cell_type": "code",
   "execution_count": 29,
   "id": "8fabe0d4",
   "metadata": {
    "execution": {
     "iopub.execute_input": "2021-11-13T12:57:19.622345Z",
     "iopub.status.busy": "2021-11-13T12:57:19.621931Z",
     "iopub.status.idle": "2021-11-13T12:57:19.682097Z",
     "shell.execute_reply": "2021-11-13T12:57:19.680179Z"
    }
   },
   "outputs": [
    {
     "data": {
      "image/svg+xml": [
       "<?xml version=\"1.0\" encoding=\"UTF-8\" standalone=\"no\"?><svg xmlns=\"http://www.w3.org/2000/svg\" xmlns:xlink=\"http://www.w3.org/1999/xlink\" contentScriptType=\"application/ecmascript\" contentStyleType=\"text/css\" height=\"658px\" preserveAspectRatio=\"none\" style=\"width:845px;height:658px;\" version=\"1.1\" viewBox=\"0 0 845 658\" width=\"845px\" zoomAndPan=\"magnify\"><defs><filter height=\"300%\" id=\"fvfgz2xbnqcmu\" width=\"300%\" x=\"-1\" y=\"-1\"><feGaussianBlur result=\"blurOut\" stdDeviation=\"2.0\"/><feColorMatrix in=\"blurOut\" result=\"blurOut2\" type=\"matrix\" values=\"0 0 0 0 0 0 0 0 0 0 0 0 0 0 0 0 0 0 .4 0\"/><feOffset dx=\"4.0\" dy=\"4.0\" in=\"blurOut2\" result=\"blurOut3\"/><feBlend in=\"SourceGraphic\" in2=\"blurOut3\" mode=\"normal\"/></filter></defs><g><!--MD5=[fbc87193dbaf4d95561dea2c320d4a47]\n",
       "cluster E1--><a href=\"psysml:d47d9c93-f987-42aa-9c82-a11afa9e7a85\" target=\"_top\" title=\"psysml:d47d9c93-f987-42aa-9c82-a11afa9e7a85\" xlink:actuate=\"onRequest\" xlink:href=\"psysml:d47d9c93-f987-42aa-9c82-a11afa9e7a85\" xlink:show=\"new\" xlink:title=\"psysml:d47d9c93-f987-42aa-9c82-a11afa9e7a85\" xlink:type=\"simple\"><polygon fill=\"#FFFFFF\" filter=\"url(#fvfgz2xbnqcmu)\" points=\"16,6,108,6,115,28.2969,823,28.2969,823,646,16,646,16,6\" style=\"stroke: #000000; stroke-width: 1.5;\"/><line style=\"stroke: #000000; stroke-width: 1.5;\" x1=\"16\" x2=\"115\" y1=\"28.2969\" y2=\"28.2969\"/><text fill=\"#000000\" font-family=\"sans-serif\" font-size=\"14\" font-weight=\"bold\" lengthAdjust=\"spacingAndGlyphs\" textLength=\"86\" x=\"20\" y=\"20.9951\">AnalysisTest</text></a><!--MD5=[de5ec2e2e8f62f467e546659f5068c88]\n",
       "cluster E5--><a href=\"psysml:0d42cad1-3808-4e7b-8fe6-f660e27fd2bd\" target=\"_top\" title=\"psysml:0d42cad1-3808-4e7b-8fe6-f660e27fd2bd\" xlink:actuate=\"onRequest\" xlink:href=\"psysml:0d42cad1-3808-4e7b-8fe6-f660e27fd2bd\" xlink:show=\"new\" xlink:title=\"psysml:0d42cad1-3808-4e7b-8fe6-f660e27fd2bd\" xlink:type=\"simple\"><rect fill=\"#FFFFFF\" filter=\"url(#fvfgz2xbnqcmu)\" height=\"329.5\" id=\"E5\" style=\"stroke: #A80036; stroke-width: 1.5;\" width=\"146\" x=\"661\" y=\"74.5\"/><rect fill=\"#FEFECE\" height=\"37.9375\" style=\"stroke: #A80036; stroke-width: 1.5;\" width=\"146\" x=\"661\" y=\"74.5\"/><text fill=\"#000000\" font-family=\"sans-serif\" font-size=\"12\" font-style=\"italic\" lengthAdjust=\"spacingAndGlyphs\" textLength=\"88\" x=\"690\" y=\"90.6387\">«analysis def»</text><text fill=\"#000000\" font-family=\"sans-serif\" font-size=\"12\" lengthAdjust=\"spacingAndGlyphs\" textLength=\"81\" x=\"693.5\" y=\"104.6074\">AnalysisCase</text></a><!--MD5=[55dfccfc6c49c2d10cd1bd2211a6c90c]\n",
       "cluster E8--><a href=\"psysml:058a72e0-0a98-4261-856d-73366cf47a25\" target=\"_top\" title=\"psysml:058a72e0-0a98-4261-856d-73366cf47a25\" xlink:actuate=\"onRequest\" xlink:href=\"psysml:058a72e0-0a98-4261-856d-73366cf47a25\" xlink:show=\"new\" xlink:title=\"psysml:058a72e0-0a98-4261-856d-73366cf47a25\" xlink:type=\"simple\"><rect fill=\"#FFFFFF\" filter=\"url(#fvfgz2xbnqcmu)\" height=\"415\" id=\"E8\" style=\"stroke: #A80036; stroke-width: 1.5;\" width=\"259\" x=\"283\" y=\"207\"/><rect fill=\"#FEFECE\" height=\"37.9375\" style=\"stroke: #A80036; stroke-width: 1.5;\" width=\"259\" x=\"283\" y=\"207\"/><text fill=\"#000000\" font-family=\"sans-serif\" font-size=\"12\" font-style=\"italic\" lengthAdjust=\"spacingAndGlyphs\" textLength=\"88\" x=\"368.5\" y=\"223.1387\">«analysis def»</text><text fill=\"#000000\" font-family=\"sans-serif\" font-size=\"12\" lengthAdjust=\"spacingAndGlyphs\" textLength=\"77\" x=\"374\" y=\"237.1074\">AnalysisPlan</text></a><!--MD5=[a84b4591f868c1fa4a211716a82f2f0d]\n",
       "cluster E10--><a href=\"psysml:ebac0614-db53-4f6a-a11b-2a64966401ed\" target=\"_top\" title=\"psysml:ebac0614-db53-4f6a-a11b-2a64966401ed\" xlink:actuate=\"onRequest\" xlink:href=\"psysml:ebac0614-db53-4f6a-a11b-2a64966401ed\" xlink:show=\"new\" xlink:title=\"psysml:ebac0614-db53-4f6a-a11b-2a64966401ed\" xlink:type=\"simple\"><rect fill=\"#FFFFFF\" filter=\"url(#fvfgz2xbnqcmu)\" height=\"239\" id=\"E10\" rx=\"10\" ry=\"10\" style=\"stroke: #A80036; stroke-width: 1.5;\" width=\"138\" x=\"366\" y=\"345\"/><rect fill=\"#FEFECE\" height=\"37.9375\" rx=\"10\" ry=\"10\" style=\"stroke: #FEFECE; stroke-width: 1.5;\" width=\"138\" x=\"366\" y=\"345\"/><rect fill=\"#FEFECE\" height=\"10\" style=\"stroke: #FEFECE; stroke-width: 1.5;\" width=\"138\" x=\"366\" y=\"372.9375\"/><rect fill=\"none\" height=\"239\" id=\"E10\" rx=\"10\" ry=\"10\" style=\"stroke: #A80036; stroke-width: 1.5;\" width=\"138\" x=\"366\" y=\"345\"/><text fill=\"#000000\" font-family=\"sans-serif\" font-size=\"12\" font-style=\"italic\" lengthAdjust=\"spacingAndGlyphs\" textLength=\"64\" x=\"403\" y=\"361.1387\">«analysis»</text><text fill=\"#000000\" font-family=\"sans-serif\" font-size=\"12\" lengthAdjust=\"spacingAndGlyphs\" textLength=\"81\" x=\"394.5\" y=\"375.1074\">analysisCase</text><line style=\"stroke: #A80036; stroke-width: 1.0;\" x1=\"366\" x2=\"504\" y1=\"382.9375\" y2=\"382.9375\"/></a><!--MD5=[b4997ac47864f28c2f74865a473b2911]\n",
       "class E2--><a href=\"psysml:6e318fc7-f06d-4e4c-8e44-1e6d0f884455\" target=\"_top\" title=\"psysml:6e318fc7-f06d-4e4c-8e44-1e6d0f884455\" xlink:actuate=\"onRequest\" xlink:href=\"psysml:6e318fc7-f06d-4e4c-8e44-1e6d0f884455\" xlink:show=\"new\" xlink:title=\"psysml:6e318fc7-f06d-4e4c-8e44-1e6d0f884455\" xlink:type=\"simple\"><rect fill=\"#FEFECE\" filter=\"url(#fvfgz2xbnqcmu)\" height=\"75.5469\" id=\"E2\" style=\"stroke: #A80036; stroke-width: 1.5;\" width=\"70\" x=\"572\" y=\"169\"/><text fill=\"#000000\" font-family=\"sans-serif\" font-size=\"12\" font-style=\"italic\" lengthAdjust=\"spacingAndGlyphs\" textLength=\"68\" x=\"573\" y=\"185.1387\">«part  def»</text><text fill=\"#000000\" font-family=\"sans-serif\" font-size=\"12\" lengthAdjust=\"spacingAndGlyphs\" textLength=\"8\" x=\"603\" y=\"199.1074\">V</text><line style=\"stroke: #A80036; stroke-width: 1.5;\" x1=\"573\" x2=\"641\" y1=\"206.9375\" y2=\"206.9375\"/><text fill=\"#000000\" font-family=\"sans-serif\" font-size=\"11\" lengthAdjust=\"spacingAndGlyphs\" textLength=\"11\" x=\"578\" y=\"237.9526\">m</text><line style=\"stroke: #A80036; stroke-width: 1.0;\" x1=\"573\" x2=\"576\" y1=\"221.3398\" y2=\"221.3398\"/><text fill=\"#000000\" font-family=\"sans-serif\" font-size=\"11\" lengthAdjust=\"spacingAndGlyphs\" textLength=\"62\" x=\"576\" y=\"224.6479\">references</text><line style=\"stroke: #A80036; stroke-width: 1.0;\" x1=\"638\" x2=\"641\" y1=\"221.3398\" y2=\"221.3398\"/></a><!--MD5=[09b614a08d8cba4a07c9adeb5e0fee81]\n",
       "class E3--><a href=\"psysml:27999d5c-daad-4ed7-92ff-020a622ea083\" target=\"_top\" title=\"psysml:27999d5c-daad-4ed7-92ff-020a622ea083\" xlink:actuate=\"onRequest\" xlink:href=\"psysml:27999d5c-daad-4ed7-92ff-020a622ea083\" xlink:show=\"new\" xlink:title=\"psysml:27999d5c-daad-4ed7-92ff-020a622ea083\" xlink:type=\"simple\"><rect fill=\"#FEFECE\" filter=\"url(#fvfgz2xbnqcmu)\" height=\"45.9375\" id=\"E3\" rx=\"10\" ry=\"10\" style=\"stroke: #A80036; stroke-width: 1.5;\" width=\"42\" x=\"586\" y=\"51.5\"/><text fill=\"#000000\" font-family=\"sans-serif\" font-size=\"12\" font-style=\"italic\" lengthAdjust=\"spacingAndGlyphs\" textLength=\"40\" x=\"587\" y=\"67.6387\">«part»</text><text fill=\"#000000\" font-family=\"sans-serif\" font-size=\"12\" lengthAdjust=\"spacingAndGlyphs\" textLength=\"28\" x=\"591\" y=\"81.6074\">vv: V</text><line style=\"stroke: #A80036; stroke-width: 1.5;\" x1=\"587\" x2=\"627\" y1=\"89.4375\" y2=\"89.4375\"/></a><!--MD5=[ebbe1d658d1005bcc118a6aa81145e00]\n",
       "class E4--><a href=\"psysml:31fce779-d9ab-452b-8111-7f3c68bff972\" target=\"_top\" title=\"psysml:31fce779-d9ab-452b-8111-7f3c68bff972\" xlink:actuate=\"onRequest\" xlink:href=\"psysml:31fce779-d9ab-452b-8111-7f3c68bff972\" xlink:show=\"new\" xlink:title=\"psysml:31fce779-d9ab-452b-8111-7f3c68bff972\" xlink:type=\"simple\"><rect fill=\"#FEFECE\" filter=\"url(#fvfgz2xbnqcmu)\" height=\"66.7422\" id=\"E4\" style=\"stroke: #A80036; stroke-width: 1.5;\" width=\"121\" x=\"317.5\" y=\"41\"/><text fill=\"#000000\" font-family=\"sans-serif\" font-size=\"12\" font-style=\"italic\" lengthAdjust=\"spacingAndGlyphs\" textLength=\"119\" x=\"318.5\" y=\"57.1387\">«requirement  def»</text><text fill=\"#000000\" font-family=\"sans-serif\" font-size=\"12\" lengthAdjust=\"spacingAndGlyphs\" textLength=\"107\" x=\"324.5\" y=\"71.1074\">AnalysisObjective</text><line style=\"stroke: #A80036; stroke-width: 1.5;\" x1=\"318.5\" x2=\"437.5\" y1=\"78.9375\" y2=\"78.9375\"/><text fill=\"#000000\" font-family=\"sans-serif\" font-size=\"11\" lengthAdjust=\"spacingAndGlyphs\" textLength=\"12\" x=\"323.5\" y=\"93.1479\">...</text><line style=\"stroke: #A80036; stroke-width: 1.0;\" x1=\"318.5\" x2=\"437.5\" y1=\"99.7422\" y2=\"99.7422\"/></a><!--MD5=[bee11217b2f71d958a27249dc326068c]\n",
       "class E14--><a href=\"psysml:2f29b586-744b-44a6-b354-0cb36fac52ba\" target=\"_top\" title=\"psysml:2f29b586-744b-44a6-b354-0cb36fac52ba\" xlink:actuate=\"onRequest\" xlink:href=\"psysml:2f29b586-744b-44a6-b354-0cb36fac52ba\" xlink:show=\"new\" xlink:title=\"psysml:2f29b586-744b-44a6-b354-0cb36fac52ba\" xlink:type=\"simple\"><rect fill=\"#FEFECE\" filter=\"url(#fvfgz2xbnqcmu)\" height=\"45.9375\" id=\"E14\" rx=\"10\" ry=\"10\" style=\"stroke: #A80036; stroke-width: 1.5;\" width=\"104\" x=\"66\" y=\"51.5\"/><text fill=\"#000000\" font-family=\"sans-serif\" font-size=\"12\" font-style=\"italic\" lengthAdjust=\"spacingAndGlyphs\" textLength=\"40\" x=\"98\" y=\"67.6387\">«part»</text><text fill=\"#000000\" font-family=\"sans-serif\" font-size=\"12\" lengthAdjust=\"spacingAndGlyphs\" textLength=\"98\" x=\"69\" y=\"81.6074\">analysisContext</text><line style=\"stroke: #A80036; stroke-width: 1.5;\" x1=\"67\" x2=\"169\" y1=\"89.4375\" y2=\"89.4375\"/></a><!--MD5=[0c48fb7552dae8cbbef69381101a84c8]\n",
       "class E15--><a href=\"psysml:cfe8b385-7bc2-406c-91e1-db9911ba5874\" target=\"_top\" title=\"psysml:cfe8b385-7bc2-406c-91e1-db9911ba5874\" xlink:actuate=\"onRequest\" xlink:href=\"psysml:cfe8b385-7bc2-406c-91e1-db9911ba5874\" xlink:show=\"new\" xlink:title=\"psysml:cfe8b385-7bc2-406c-91e1-db9911ba5874\" xlink:type=\"simple\"><rect fill=\"#FEFECE\" filter=\"url(#fvfgz2xbnqcmu)\" height=\"45.9375\" id=\"E15\" rx=\"10\" ry=\"10\" style=\"stroke: #A80036; stroke-width: 1.5;\" width=\"172\" x=\"32\" y=\"184\"/><text fill=\"#000000\" font-family=\"sans-serif\" font-size=\"12\" font-style=\"italic\" lengthAdjust=\"spacingAndGlyphs\" textLength=\"64\" x=\"86\" y=\"200.1387\">«analysis»</text><text fill=\"#000000\" font-family=\"sans-serif\" font-size=\"12\" lengthAdjust=\"spacingAndGlyphs\" textLength=\"162\" x=\"35\" y=\"214.1074\">analysisPlan: AnalysisPlan</text><line style=\"stroke: #A80036; stroke-width: 1.5;\" x1=\"33\" x2=\"203\" y1=\"221.9375\" y2=\"221.9375\"/></a><!--MD5=[35f0587eaee8d5bb9a02e25b63afc23b]\n",
       "class E16--><a href=\"psysml:63325e1e-8a82-4691-b26b-3354962a7cad\" target=\"_top\" title=\"psysml:63325e1e-8a82-4691-b26b-3354962a7cad\" xlink:actuate=\"onRequest\" xlink:href=\"psysml:63325e1e-8a82-4691-b26b-3354962a7cad\" xlink:show=\"new\" xlink:title=\"psysml:63325e1e-8a82-4691-b26b-3354962a7cad\" xlink:type=\"simple\"><rect fill=\"#FEFECE\" filter=\"url(#fvfgz2xbnqcmu)\" height=\"45.9375\" id=\"E16\" rx=\"10\" ry=\"10\" style=\"stroke: #A80036; stroke-width: 1.5;\" width=\"93\" x=\"71.5\" y=\"322\"/><text fill=\"#000000\" font-family=\"sans-serif\" font-size=\"12\" font-style=\"italic\" lengthAdjust=\"spacingAndGlyphs\" textLength=\"91\" x=\"72.5\" y=\"338.1387\">«requirement»</text><text fill=\"#000000\" font-family=\"sans-serif\" font-size=\"12\" lengthAdjust=\"spacingAndGlyphs\" textLength=\"19\" x=\"108.5\" y=\"352.1074\">obj</text><line style=\"stroke: #A80036; stroke-width: 1.5;\" x1=\"72.5\" x2=\"163.5\" y1=\"359.9375\" y2=\"359.9375\"/></a><text fill=\"#000000\" font-family=\"sans-serif\" font-size=\"14\" lengthAdjust=\"spacingAndGlyphs\" textLength=\"7\" x=\"730.5\" y=\"53.1982\">v</text><rect fill=\"#A80036\" height=\"12\" style=\"stroke: #FEFECE; stroke-width: 1.5;\" width=\"12\" x=\"728\" y=\"68.5\"/><text fill=\"#000000\" font-family=\"sans-serif\" font-size=\"14\" lengthAdjust=\"spacingAndGlyphs\" textLength=\"39\" x=\"714.5\" y=\"422.9951\">result</text><rect fill=\"#A80036\" height=\"12\" style=\"stroke: #FEFECE; stroke-width: 1.5;\" width=\"12\" x=\"728\" y=\"398\"/><text fill=\"#000000\" font-family=\"sans-serif\" font-size=\"14\" lengthAdjust=\"spacingAndGlyphs\" textLength=\"7\" x=\"297.5\" y=\"185.6982\">v</text><rect fill=\"#A80036\" height=\"12\" style=\"stroke: #FEFECE; stroke-width: 1.5;\" width=\"12\" x=\"295\" y=\"201\"/><text fill=\"#000000\" font-family=\"sans-serif\" font-size=\"14\" lengthAdjust=\"spacingAndGlyphs\" textLength=\"39\" x=\"522.5\" y=\"529.9951\">result</text><rect fill=\"#A80036\" height=\"12\" style=\"stroke: #FEFECE; stroke-width: 1.5;\" width=\"12\" x=\"536\" y=\"505\"/><text fill=\"#000000\" font-family=\"sans-serif\" font-size=\"14\" lengthAdjust=\"spacingAndGlyphs\" textLength=\"37\" x=\"416.5\" y=\"602.9951\">mass</text><rect fill=\"#A80036\" height=\"12\" style=\"stroke: #FEFECE; stroke-width: 1.5;\" width=\"12\" x=\"429\" y=\"578\"/><text fill=\"#000000\" font-family=\"sans-serif\" font-size=\"14\" lengthAdjust=\"spacingAndGlyphs\" textLength=\"7\" x=\"431.5\" y=\"323.6982\">v</text><rect fill=\"#A80036\" height=\"12\" style=\"stroke: #FEFECE; stroke-width: 1.5;\" width=\"12\" x=\"429\" y=\"339\"/><!--MD5=[05d275557350bfb9b23a4ef7222b4c39]\n",
       "link E3 to E2--><a href=\"psysml:4413170d-8387-4bcf-a661-a8e63eefb5dc\" target=\"_top\" title=\"psysml:4413170d-8387-4bcf-a661-a8e63eefb5dc\" xlink:actuate=\"onRequest\" xlink:href=\"psysml:4413170d-8387-4bcf-a661-a8e63eefb5dc\" xlink:show=\"new\" xlink:title=\"psysml:4413170d-8387-4bcf-a661-a8e63eefb5dc\" xlink:type=\"simple\"><path d=\"M607,97.64 C607,111.72 607,130.66 607,148.75 \" fill=\"none\" id=\"E3-&gt;E2\" style=\"stroke: #A80036; stroke-width: 1.0;\"/><polygon fill=\"#FFFFFF\" points=\"607,168.9,600,149.9,614,149.9,607,168.9\" style=\"stroke: #A80036; stroke-width: 1.0;\"/><ellipse cx=\"602\" cy=\"144.2\" fill=\"#A80036\" rx=\"2\" ry=\"2\" style=\"stroke: #A80036; stroke-width: 1.0;\"/><ellipse cx=\"612\" cy=\"144.2\" fill=\"#A80036\" rx=\"2\" ry=\"2\" style=\"stroke: #A80036; stroke-width: 1.0;\"/></a><!--MD5=[17bf29720e4688890742b92d9a67fdf0]\n",
       "reverse link E14 to E15--><a href=\"psysml:df4b3059-af15-4a6e-9f16-4ce8d388f00c\" target=\"_top\" title=\"psysml:df4b3059-af15-4a6e-9f16-4ce8d388f00c\" xlink:actuate=\"onRequest\" xlink:href=\"psysml:df4b3059-af15-4a6e-9f16-4ce8d388f00c\" xlink:show=\"new\" xlink:title=\"psysml:df4b3059-af15-4a6e-9f16-4ce8d388f00c\" xlink:type=\"simple\"><path d=\"M118,110.79 C118,134.03 118,163.75 118,183.75 \" fill=\"none\" id=\"E14&lt;-E15\" style=\"stroke: #A80036; stroke-width: 1.0;\"/><polygon fill=\"#A80036\" points=\"118,97.64,114,103.64,118,109.64,122,103.64,118,97.64\" style=\"stroke: #A80036; stroke-width: 1.0;\"/></a><!--MD5=[1b01d5b954197aaf3899ca0bde35faf5]\n",
       "link E15 to E8--><a href=\"psysml:b8e5c057-83f1-47ef-94c9-1676b303e623\" target=\"_top\" title=\"psysml:b8e5c057-83f1-47ef-94c9-1676b303e623\" xlink:actuate=\"onRequest\" xlink:href=\"psysml:b8e5c057-83f1-47ef-94c9-1676b303e623\" xlink:show=\"new\" xlink:title=\"psysml:b8e5c057-83f1-47ef-94c9-1676b303e623\" xlink:type=\"simple\"><path d=\"M147.81,230.15 C184.47,257.4 245.87,303.03 278.7,327.43 \" fill=\"none\" id=\"E15-&gt;E8\" style=\"stroke: #A80036; stroke-width: 1.0;\"/><polygon fill=\"#FFFFFF\" points=\"278.7,327.43,259.2749,321.7145,267.6261,310.478,278.7,327.43\" style=\"stroke: #A80036; stroke-width: 1.0;\"/><ellipse cx=\"255.8931\" cy=\"316.7091\" fill=\"#A80036\" rx=\"2\" ry=\"2\" style=\"stroke: #A80036; stroke-width: 1.0;\"/><ellipse cx=\"261.8583\" cy=\"308.6831\" fill=\"#A80036\" rx=\"2\" ry=\"2\" style=\"stroke: #A80036; stroke-width: 1.0;\"/></a><!--MD5=[f8b155c46b092be73bb522b0a8fc72a2]\n",
       "link E15 to E16--><a href=\"psysml:7d3bd451-2ef5-4e75-9594-2e0dd7330291\" target=\"_top\" title=\"psysml:7d3bd451-2ef5-4e75-9594-2e0dd7330291\" xlink:actuate=\"onRequest\" xlink:href=\"psysml:7d3bd451-2ef5-4e75-9594-2e0dd7330291\" xlink:show=\"new\" xlink:title=\"psysml:7d3bd451-2ef5-4e75-9594-2e0dd7330291\" xlink:type=\"simple\"><path d=\"M118,230.15 C118,252.87 118,288.38 118,313.69 \" fill=\"none\" id=\"E15-&gt;E16\" style=\"stroke: #A80036; stroke-width: 1.0;\"/><polygon fill=\"#A80036\" points=\"118,321.86,121,313.86,115,313.86,118,321.86\" style=\"stroke: #A80036; stroke-width: 1.0;\"/><text fill=\"#000000\" font-family=\"sans-serif\" font-size=\"13\" lengthAdjust=\"spacingAndGlyphs\" textLength=\"73\" x=\"119\" y=\"288.0669\">«objective»</text><text fill=\"#000000\" font-family=\"sans-serif\" font-size=\"13\" lengthAdjust=\"spacingAndGlyphs\" textLength=\"8\" x=\"108.975\" y=\"311.1004\">1</text></a><!--MD5=[491cfbea51e954700d5941c70a0a329e]\n",
       "@startuml\r\n",
       "skinparam wrapWidth 300\r\n",
       "hide circle\r\n",
       "\r\n",
       "package \"AnalysisTest\" as E1  [[psysml:d47d9c93-f987-42aa-9c82-a11afa9e7a85 ]]  {\r\n",
       "comp def \"V\" as E2  <<(T,blue) part  def>> [[psysml:6e318fc7-f06d-4e4c-8e44-1e6d0f884455 ]] {\r\n",
       "- - references - -\r\n",
       "m\r\n",
       "}\r\n",
       "comp usage \"vv: V \" as E3  <<(T,blue) part>> [[psysml:27999d5c-daad-4ed7-92ff-020a622ea083 ]] {\r\n",
       "}\r\n",
       "comp def \"AnalysisObjective\" as E4  <<(T,blue) requirement  def>> [[psysml:31fce779-d9ab-452b-8111-7f3c68bff972 ]] {\r\n",
       "...\r\n",
       "- -\r\n",
       "}\r\n",
       "rec def \"AnalysisCase\" as E5 << analysis def>> [[psysml:0d42cad1-3808-4e7b-8fe6-f660e27fd2bd ]] {\r\n",
       "portin \"v\" as E6  [[psysml:f7aad551-6165-4689-8df3-b128f6f54571 ]] \r\n",
       "portout \"result\" as E7  [[psysml:d8a9a5d1-c1b2-404a-b54f-35037ecf4c2d ]] \r\n",
       "}\r\n",
       "\r\n",
       "rec def \"AnalysisPlan\" as E8 << analysis def>> [[psysml:058a72e0-0a98-4261-856d-73366cf47a25 ]] {\r\n",
       "portin \"v\" as E9  [[psysml:40d43c87-89d5-4dcb-a988-f011f6f29ac5 ]] \r\n",
       "rec usage \"analysisCase\" as E10 << analysis>> [[psysml:ebac0614-db53-4f6a-a11b-2a64966401ed ]] {\r\n",
       "portout \"mass\" as E11  [[psysml:94298e01-1500-44a7-8244-0cc3e5620ae6 ]] \r\n",
       "portin \"v\" as E12  [[psysml:fabccdcf-1c94-4d5c-8a0b-5626b651aa80 ]] \r\n",
       "}\r\n",
       "\r\n",
       "portout \"result\" as E13  [[psysml:633f1383-e65f-4e22-9e6d-6ffcdde4bc38 ]] \r\n",
       "}\r\n",
       "\r\n",
       "comp usage \"analysisContext\" as E14  <<(T,blue) part>> [[psysml:2f29b586-744b-44a6-b354-0cb36fac52ba ]] {\r\n",
       "}\r\n",
       "comp usage \"analysisPlan: AnalysisPlan \" as E15 << analysis>> [[psysml:cfe8b385-7bc2-406c-91e1-db9911ba5874 ]] {\r\n",
       "}\r\n",
       "comp usage \"obj\" as E16  <<(T,blue) requirement>> [[psysml:63325e1e-8a82-4691-b26b-3354962a7cad ]] {\r\n",
       "}\r\n",
       "}\r\n",
       "E3 - -:|> E2 [[psysml:4413170d-8387-4bcf-a661-a8e63eefb5dc ]] \r\n",
       "E14 *- - E15 [[psysml:df4b3059-af15-4a6e-9f16-4ce8d388f00c ]] \r\n",
       "E15 - -:|> E8 [[psysml:b8e5c057-83f1-47ef-94c9-1676b303e623 ]] \r\n",
       "E15 - ->> \"1\"E16 [[psysml:7d3bd451-2ef5-4e75-9594-2e0dd7330291 ]] : <<objective>>\r\n",
       "@enduml\r\n",
       "\n",
       "PlantUML version 1.2020.13(Sat Jun 13 12:26:38 UTC 2020)\n",
       "(EPL source distribution)\n",
       "Java Runtime: OpenJDK Runtime Environment\n",
       "JVM: OpenJDK 64-Bit Server VM\n",
       "Default Encoding: UTF-8\n",
       "Language: en\n",
       "Country: null\n",
       "--></g></svg>"
      ]
     },
     "execution_count": 29,
     "metadata": {},
     "output_type": "execute_result"
    }
   ],
   "source": [
    "%viz --style=\"STDCOLOR\" --view=\"MIXED\" \"AnalysisTest\""
   ]
  },
  {
   "cell_type": "code",
   "execution_count": 30,
   "id": "2cdb1c19",
   "metadata": {
    "execution": {
     "iopub.execute_input": "2021-11-13T12:57:19.730691Z",
     "iopub.status.busy": "2021-11-13T12:57:19.730281Z",
     "iopub.status.idle": "2021-11-13T12:57:19.785853Z",
     "shell.execute_reply": "2021-11-13T12:57:19.783883Z"
    }
   },
   "outputs": [
    {
     "data": {
      "image/svg+xml": [
       "<?xml version=\"1.0\" encoding=\"UTF-8\" standalone=\"no\"?><svg xmlns=\"http://www.w3.org/2000/svg\" xmlns:xlink=\"http://www.w3.org/1999/xlink\" contentScriptType=\"application/ecmascript\" contentStyleType=\"text/css\" height=\"652px\" preserveAspectRatio=\"none\" style=\"width:871px;height:652px;\" version=\"1.1\" viewBox=\"0 0 871 652\" width=\"871px\" zoomAndPan=\"magnify\"><defs><filter height=\"300%\" id=\"f1hef03vmcve6f\" width=\"300%\" x=\"-1\" y=\"-1\"><feGaussianBlur result=\"blurOut\" stdDeviation=\"2.0\"/><feColorMatrix in=\"blurOut\" result=\"blurOut2\" type=\"matrix\" values=\"0 0 0 0 0 0 0 0 0 0 0 0 0 0 0 0 0 0 .4 0\"/><feOffset dx=\"4.0\" dy=\"4.0\" in=\"blurOut2\" result=\"blurOut3\"/><feBlend in=\"SourceGraphic\" in2=\"blurOut3\" mode=\"normal\"/></filter></defs><g><!--MD5=[fbc87193dbaf4d95561dea2c320d4a47]\n",
       "cluster E1--><a href=\"psysml:d47d9c93-f987-42aa-9c82-a11afa9e7a85\" target=\"_top\" title=\"psysml:d47d9c93-f987-42aa-9c82-a11afa9e7a85\" xlink:actuate=\"onRequest\" xlink:href=\"psysml:d47d9c93-f987-42aa-9c82-a11afa9e7a85\" xlink:show=\"new\" xlink:title=\"psysml:d47d9c93-f987-42aa-9c82-a11afa9e7a85\" xlink:type=\"simple\"><polygon fill=\"#FFFFFF\" filter=\"url(#f1hef03vmcve6f)\" points=\"16,6,108,6,115,28.2969,849,28.2969,849,640,16,640,16,6\" style=\"stroke: #000000; stroke-width: 1.5;\"/><line style=\"stroke: #000000; stroke-width: 1.5;\" x1=\"16\" x2=\"115\" y1=\"28.2969\" y2=\"28.2969\"/><text fill=\"#000000\" font-family=\"sans-serif\" font-size=\"14\" font-weight=\"bold\" lengthAdjust=\"spacingAndGlyphs\" textLength=\"86\" x=\"20\" y=\"20.9951\">AnalysisTest</text></a><!--MD5=[de5ec2e2e8f62f467e546659f5068c88]\n",
       "cluster E5--><a href=\"psysml:0d42cad1-3808-4e7b-8fe6-f660e27fd2bd\" target=\"_top\" title=\"psysml:0d42cad1-3808-4e7b-8fe6-f660e27fd2bd\" xlink:actuate=\"onRequest\" xlink:href=\"psysml:0d42cad1-3808-4e7b-8fe6-f660e27fd2bd\" xlink:show=\"new\" xlink:title=\"psysml:0d42cad1-3808-4e7b-8fe6-f660e27fd2bd\" xlink:type=\"simple\"><rect fill=\"#FFFFFF\" filter=\"url(#f1hef03vmcve6f)\" height=\"323.5\" id=\"E5\" style=\"stroke: #A80036; stroke-width: 1.5;\" width=\"146\" x=\"687\" y=\"74.5\"/><rect fill=\"#FEFECE\" height=\"37.9375\" style=\"stroke: #A80036; stroke-width: 1.5;\" width=\"146\" x=\"687\" y=\"74.5\"/><text fill=\"#000000\" font-family=\"sans-serif\" font-size=\"12\" font-style=\"italic\" lengthAdjust=\"spacingAndGlyphs\" textLength=\"88\" x=\"716\" y=\"90.6387\">«analysis def»</text><text fill=\"#000000\" font-family=\"sans-serif\" font-size=\"12\" lengthAdjust=\"spacingAndGlyphs\" textLength=\"81\" x=\"719.5\" y=\"104.6074\">AnalysisCase</text></a><!--MD5=[55dfccfc6c49c2d10cd1bd2211a6c90c]\n",
       "cluster E8--><a href=\"psysml:058a72e0-0a98-4261-856d-73366cf47a25\" target=\"_top\" title=\"psysml:058a72e0-0a98-4261-856d-73366cf47a25\" xlink:actuate=\"onRequest\" xlink:href=\"psysml:058a72e0-0a98-4261-856d-73366cf47a25\" xlink:show=\"new\" xlink:title=\"psysml:058a72e0-0a98-4261-856d-73366cf47a25\" xlink:type=\"simple\"><rect fill=\"#FFFFFF\" filter=\"url(#f1hef03vmcve6f)\" height=\"412\" id=\"E8\" style=\"stroke: #A80036; stroke-width: 1.5;\" width=\"259\" x=\"309\" y=\"204\"/><rect fill=\"#FEFECE\" height=\"37.9375\" style=\"stroke: #A80036; stroke-width: 1.5;\" width=\"259\" x=\"309\" y=\"204\"/><text fill=\"#000000\" font-family=\"sans-serif\" font-size=\"12\" font-style=\"italic\" lengthAdjust=\"spacingAndGlyphs\" textLength=\"88\" x=\"394.5\" y=\"220.1387\">«analysis def»</text><text fill=\"#000000\" font-family=\"sans-serif\" font-size=\"12\" lengthAdjust=\"spacingAndGlyphs\" textLength=\"77\" x=\"400\" y=\"234.1074\">AnalysisPlan</text></a><!--MD5=[a84b4591f868c1fa4a211716a82f2f0d]\n",
       "cluster E10--><a href=\"psysml:ebac0614-db53-4f6a-a11b-2a64966401ed\" target=\"_top\" title=\"psysml:ebac0614-db53-4f6a-a11b-2a64966401ed\" xlink:actuate=\"onRequest\" xlink:href=\"psysml:ebac0614-db53-4f6a-a11b-2a64966401ed\" xlink:show=\"new\" xlink:title=\"psysml:ebac0614-db53-4f6a-a11b-2a64966401ed\" xlink:type=\"simple\"><rect fill=\"#FFFFFF\" filter=\"url(#f1hef03vmcve6f)\" height=\"239\" id=\"E10\" rx=\"10\" ry=\"10\" style=\"stroke: #A80036; stroke-width: 1.5;\" width=\"138\" x=\"392\" y=\"339\"/><rect fill=\"#FEFECE\" height=\"37.9375\" rx=\"10\" ry=\"10\" style=\"stroke: #FEFECE; stroke-width: 1.5;\" width=\"138\" x=\"392\" y=\"339\"/><rect fill=\"#FEFECE\" height=\"10\" style=\"stroke: #FEFECE; stroke-width: 1.5;\" width=\"138\" x=\"392\" y=\"366.9375\"/><rect fill=\"none\" height=\"239\" id=\"E10\" rx=\"10\" ry=\"10\" style=\"stroke: #A80036; stroke-width: 1.5;\" width=\"138\" x=\"392\" y=\"339\"/><text fill=\"#000000\" font-family=\"sans-serif\" font-size=\"12\" font-style=\"italic\" lengthAdjust=\"spacingAndGlyphs\" textLength=\"64\" x=\"429\" y=\"355.1387\">«analysis»</text><text fill=\"#000000\" font-family=\"sans-serif\" font-size=\"12\" lengthAdjust=\"spacingAndGlyphs\" textLength=\"81\" x=\"420.5\" y=\"369.1074\">analysisCase</text><line style=\"stroke: #A80036; stroke-width: 1.0;\" x1=\"392\" x2=\"530\" y1=\"376.9375\" y2=\"376.9375\"/></a><!--MD5=[b4997ac47864f28c2f74865a473b2911]\n",
       "class E2--><a href=\"psysml:6e318fc7-f06d-4e4c-8e44-1e6d0f884455\" target=\"_top\" title=\"psysml:6e318fc7-f06d-4e4c-8e44-1e6d0f884455\" xlink:actuate=\"onRequest\" xlink:href=\"psysml:6e318fc7-f06d-4e4c-8e44-1e6d0f884455\" xlink:show=\"new\" xlink:title=\"psysml:6e318fc7-f06d-4e4c-8e44-1e6d0f884455\" xlink:type=\"simple\"><rect fill=\"#FEFECE\" filter=\"url(#f1hef03vmcve6f)\" height=\"69.6094\" id=\"E2\" style=\"stroke: #A80036; stroke-width: 1.5;\" width=\"70\" x=\"598\" y=\"169\"/><ellipse cx=\"626.5\" cy=\"185\" fill=\"#008000\" rx=\"11\" ry=\"11\" style=\"stroke: #A80036; stroke-width: 1.0;\"/><path d=\"M623.375,190 L623.375,179.4063 L626.6094,179.4063 Q628.5156,179.4063 629.4219,180.1563 Q630.3438,180.9063 630.3438,182.0781 Q630.3438,182.7656 629.9531,183.4219 Q629.5781,184.0781 628.8594,184.375 Q629.7188,184.75 630.2344,185.4375 Q630.75,186.125 630.75,186.9375 Q630.75,188.3125 629.7188,189.1563 Q628.7031,190 626.5938,190 L623.375,190 Z M625.2969,183.6406 L626.4531,183.6406 Q627.5781,183.6406 627.9844,183.2656 Q628.4063,182.875 628.4063,182.25 Q628.4063,181.6719 627.9844,181.3125 Q627.5625,180.9531 626.625,180.9531 L625.2969,180.9531 L625.2969,183.6406 Z M625.2969,188.4219 L626.7969,188.4219 Q627.7031,188.4219 628.2344,188.0313 Q628.7656,187.6406 628.7656,186.8906 Q628.7656,186.125 628.2656,185.6563 Q627.7656,185.1719 626.5,185.1719 L625.2969,185.1719 L625.2969,188.4219 Z \"/><text fill=\"#000000\" font-family=\"sans-serif\" font-size=\"12\" lengthAdjust=\"spacingAndGlyphs\" textLength=\"8\" x=\"643.5\" y=\"189.1543\">V</text><line style=\"stroke: #A80036; stroke-width: 1.5;\" x1=\"599\" x2=\"667\" y1=\"201\" y2=\"201\"/><text fill=\"#000000\" font-family=\"sans-serif\" font-size=\"11\" lengthAdjust=\"spacingAndGlyphs\" textLength=\"11\" x=\"604\" y=\"232.0151\">m</text><line style=\"stroke: #A80036; stroke-width: 1.0;\" x1=\"599\" x2=\"602\" y1=\"215.4023\" y2=\"215.4023\"/><text fill=\"#000000\" font-family=\"sans-serif\" font-size=\"11\" lengthAdjust=\"spacingAndGlyphs\" textLength=\"62\" x=\"602\" y=\"218.7104\">references</text><line style=\"stroke: #A80036; stroke-width: 1.0;\" x1=\"664\" x2=\"667\" y1=\"215.4023\" y2=\"215.4023\"/></a><!--MD5=[09b614a08d8cba4a07c9adeb5e0fee81]\n",
       "class E3--><a href=\"psysml:27999d5c-daad-4ed7-92ff-020a622ea083\" target=\"_top\" title=\"psysml:27999d5c-daad-4ed7-92ff-020a622ea083\" xlink:actuate=\"onRequest\" xlink:href=\"psysml:27999d5c-daad-4ed7-92ff-020a622ea083\" xlink:show=\"new\" xlink:title=\"psysml:27999d5c-daad-4ed7-92ff-020a622ea083\" xlink:type=\"simple\"><rect fill=\"#FEFECE\" filter=\"url(#f1hef03vmcve6f)\" height=\"45.9375\" id=\"E3\" rx=\"10\" ry=\"10\" style=\"stroke: #A80036; stroke-width: 1.5;\" width=\"68\" x=\"599\" y=\"51.5\"/><ellipse cx=\"614\" cy=\"70.4688\" fill=\"#32CD32\" rx=\"11\" ry=\"11\" style=\"stroke: #A80036; stroke-width: 1.0;\"/><path d=\"M610.8125,75.4688 L610.8125,64.875 L614.4219,64.875 Q615.6406,64.875 616.4375,65.3125 Q617.2344,65.7344 617.6094,66.4375 Q618,67.1406 618,67.9844 Q618,68.8281 617.625,69.5156 Q617.2656,70.2031 616.4688,70.625 Q615.6875,71.0313 614.5,71.0313 L612.7656,71.0313 L612.7656,75.4688 L610.8125,75.4688 Z M612.7656,69.4375 L614.375,69.4375 Q615.1875,69.4375 615.6094,69.0313 Q616.0313,68.625 616.0313,67.9844 Q616.0313,67.3594 615.6094,66.9531 Q615.1875,66.5469 614.3906,66.5469 L612.7656,66.5469 L612.7656,69.4375 Z \"/><text fill=\"#000000\" font-family=\"sans-serif\" font-size=\"12\" font-style=\"italic\" lengthAdjust=\"spacingAndGlyphs\" textLength=\"40\" x=\"626\" y=\"67.6387\">«part»</text><text fill=\"#000000\" font-family=\"sans-serif\" font-size=\"12\" lengthAdjust=\"spacingAndGlyphs\" textLength=\"28\" x=\"630\" y=\"81.6074\">vv: V</text><line style=\"stroke: #A80036; stroke-width: 1.5;\" x1=\"600\" x2=\"666\" y1=\"89.4375\" y2=\"89.4375\"/></a><!--MD5=[ebbe1d658d1005bcc118a6aa81145e00]\n",
       "class E4--><a href=\"psysml:31fce779-d9ab-452b-8111-7f3c68bff972\" target=\"_top\" title=\"psysml:31fce779-d9ab-452b-8111-7f3c68bff972\" xlink:actuate=\"onRequest\" xlink:href=\"psysml:31fce779-d9ab-452b-8111-7f3c68bff972\" xlink:show=\"new\" xlink:title=\"psysml:31fce779-d9ab-452b-8111-7f3c68bff972\" xlink:type=\"simple\"><rect fill=\"#FEFECE\" filter=\"url(#f1hef03vmcve6f)\" height=\"66.7422\" id=\"E4\" style=\"stroke: #A80036; stroke-width: 1.5;\" width=\"147\" x=\"324.5\" y=\"41\"/><ellipse cx=\"339.5\" cy=\"59.9688\" fill=\"#A52A2A\" rx=\"11\" ry=\"11\" style=\"stroke: #A80036; stroke-width: 1.0;\"/><path d=\"M336.7188,64.9688 L336.7188,54.375 L339.4531,54.375 Q340.8438,54.375 341.6094,54.7656 Q342.3906,55.1406 342.9219,55.8438 Q343.4531,56.5469 343.75,57.5469 Q344.0469,58.5313 344.0469,59.75 Q344,61.3438 343.5,62.5313 Q343.0156,63.7031 341.9688,64.3438 Q340.9375,64.9688 339.25,64.9688 L336.7188,64.9688 Z M338.5781,63.4688 L339.2031,63.4688 Q340.2813,63.4688 340.9375,63.0156 Q341.5938,62.5625 341.875,61.7344 Q342.1719,60.8906 342.1563,59.7656 Q342.1563,58.5938 341.9063,57.7344 Q341.6563,56.8594 341.0469,56.3906 Q340.4375,55.9063 339.3906,55.9063 L338.5781,55.9063 L338.5781,63.4688 Z \"/><text fill=\"#000000\" font-family=\"sans-serif\" font-size=\"12\" font-style=\"italic\" lengthAdjust=\"spacingAndGlyphs\" textLength=\"119\" x=\"351.5\" y=\"57.1387\">«requirement  def»</text><text fill=\"#000000\" font-family=\"sans-serif\" font-size=\"12\" lengthAdjust=\"spacingAndGlyphs\" textLength=\"107\" x=\"357.5\" y=\"71.1074\">AnalysisObjective</text><line style=\"stroke: #A80036; stroke-width: 1.5;\" x1=\"325.5\" x2=\"470.5\" y1=\"78.9375\" y2=\"78.9375\"/><text fill=\"#000000\" font-family=\"sans-serif\" font-size=\"11\" lengthAdjust=\"spacingAndGlyphs\" textLength=\"12\" x=\"330.5\" y=\"93.1479\">...</text><line style=\"stroke: #A80036; stroke-width: 1.0;\" x1=\"325.5\" x2=\"470.5\" y1=\"99.7422\" y2=\"99.7422\"/></a><!--MD5=[bee11217b2f71d958a27249dc326068c]\n",
       "class E14--><a href=\"psysml:2f29b586-744b-44a6-b354-0cb36fac52ba\" target=\"_top\" title=\"psysml:2f29b586-744b-44a6-b354-0cb36fac52ba\" xlink:actuate=\"onRequest\" xlink:href=\"psysml:2f29b586-744b-44a6-b354-0cb36fac52ba\" xlink:show=\"new\" xlink:title=\"psysml:2f29b586-744b-44a6-b354-0cb36fac52ba\" xlink:type=\"simple\"><rect fill=\"#FEFECE\" filter=\"url(#f1hef03vmcve6f)\" height=\"45.9375\" id=\"E14\" rx=\"10\" ry=\"10\" style=\"stroke: #A80036; stroke-width: 1.5;\" width=\"130\" x=\"66\" y=\"51.5\"/><ellipse cx=\"81\" cy=\"70.4688\" fill=\"#32CD32\" rx=\"11\" ry=\"11\" style=\"stroke: #A80036; stroke-width: 1.0;\"/><path d=\"M77.8125,75.4688 L77.8125,64.875 L81.4219,64.875 Q82.6406,64.875 83.4375,65.3125 Q84.2344,65.7344 84.6094,66.4375 Q85,67.1406 85,67.9844 Q85,68.8281 84.625,69.5156 Q84.2656,70.2031 83.4688,70.625 Q82.6875,71.0313 81.5,71.0313 L79.7656,71.0313 L79.7656,75.4688 L77.8125,75.4688 Z M79.7656,69.4375 L81.375,69.4375 Q82.1875,69.4375 82.6094,69.0313 Q83.0313,68.625 83.0313,67.9844 Q83.0313,67.3594 82.6094,66.9531 Q82.1875,66.5469 81.3906,66.5469 L79.7656,66.5469 L79.7656,69.4375 Z \"/><text fill=\"#000000\" font-family=\"sans-serif\" font-size=\"12\" font-style=\"italic\" lengthAdjust=\"spacingAndGlyphs\" textLength=\"40\" x=\"124\" y=\"67.6387\">«part»</text><text fill=\"#000000\" font-family=\"sans-serif\" font-size=\"12\" lengthAdjust=\"spacingAndGlyphs\" textLength=\"98\" x=\"95\" y=\"81.6074\">analysisContext</text><line style=\"stroke: #A80036; stroke-width: 1.5;\" x1=\"67\" x2=\"195\" y1=\"89.4375\" y2=\"89.4375\"/></a><!--MD5=[0c48fb7552dae8cbbef69381101a84c8]\n",
       "class E15--><a href=\"psysml:cfe8b385-7bc2-406c-91e1-db9911ba5874\" target=\"_top\" title=\"psysml:cfe8b385-7bc2-406c-91e1-db9911ba5874\" xlink:actuate=\"onRequest\" xlink:href=\"psysml:cfe8b385-7bc2-406c-91e1-db9911ba5874\" xlink:show=\"new\" xlink:title=\"psysml:cfe8b385-7bc2-406c-91e1-db9911ba5874\" xlink:type=\"simple\"><rect fill=\"#FEFECE\" filter=\"url(#f1hef03vmcve6f)\" height=\"45.9375\" id=\"E15\" rx=\"10\" ry=\"10\" style=\"stroke: #A80036; stroke-width: 1.5;\" width=\"198\" x=\"32\" y=\"181\"/><ellipse cx=\"47\" cy=\"199.9688\" fill=\"#B6DBBB\" rx=\"11\" ry=\"11\" style=\"stroke: #A80036; stroke-width: 1.0;\"/><path d=\"M46.75,205.4375 Q45,205.4375 44.0469,204.4063 Q43.1094,203.3594 43.1094,201.5156 L43.1094,194.625 L45.1719,194.625 L45.1719,194.7813 Q45.0781,194.875 45.0469,195.0156 Q45.0313,195.1406 45.0313,195.4063 L45.0313,201.5313 Q45.0313,202.625 45.4063,203.25 Q45.7813,203.875 46.7656,203.875 Q47.75,203.875 48.1406,203.25 Q48.5313,202.625 48.5313,201.4844 L48.5313,194.625 L50.4063,194.625 L50.4063,201.4688 Q50.4063,203.5 49.375,204.4688 Q48.3594,205.4375 46.75,205.4375 Z \"/><text fill=\"#000000\" font-family=\"sans-serif\" font-size=\"12\" font-style=\"italic\" lengthAdjust=\"spacingAndGlyphs\" textLength=\"64\" x=\"112\" y=\"197.1387\">«analysis»</text><text fill=\"#000000\" font-family=\"sans-serif\" font-size=\"12\" lengthAdjust=\"spacingAndGlyphs\" textLength=\"162\" x=\"61\" y=\"211.1074\">analysisPlan: AnalysisPlan</text><line style=\"stroke: #A80036; stroke-width: 1.5;\" x1=\"33\" x2=\"229\" y1=\"218.9375\" y2=\"218.9375\"/></a><!--MD5=[35f0587eaee8d5bb9a02e25b63afc23b]\n",
       "class E16--><a href=\"psysml:63325e1e-8a82-4691-b26b-3354962a7cad\" target=\"_top\" title=\"psysml:63325e1e-8a82-4691-b26b-3354962a7cad\" xlink:actuate=\"onRequest\" xlink:href=\"psysml:63325e1e-8a82-4691-b26b-3354962a7cad\" xlink:show=\"new\" xlink:title=\"psysml:63325e1e-8a82-4691-b26b-3354962a7cad\" xlink:type=\"simple\"><rect fill=\"#FEFECE\" filter=\"url(#f1hef03vmcve6f)\" height=\"45.9375\" id=\"E16\" rx=\"10\" ry=\"10\" style=\"stroke: #A80036; stroke-width: 1.5;\" width=\"119\" x=\"71.5\" y=\"316\"/><ellipse cx=\"86.5\" cy=\"334.9688\" fill=\"#FFA500\" rx=\"11\" ry=\"11\" style=\"stroke: #A80036; stroke-width: 1.0;\"/><path d=\"M86.25,340.4375 Q84.5,340.4375 83.5469,339.4063 Q82.6094,338.3594 82.6094,336.5156 L82.6094,329.625 L84.6719,329.625 L84.6719,329.7813 Q84.5781,329.875 84.5469,330.0156 Q84.5313,330.1406 84.5313,330.4063 L84.5313,336.5313 Q84.5313,337.625 84.9063,338.25 Q85.2813,338.875 86.2656,338.875 Q87.25,338.875 87.6406,338.25 Q88.0313,337.625 88.0313,336.4844 L88.0313,329.625 L89.9063,329.625 L89.9063,336.4688 Q89.9063,338.5 88.875,339.4688 Q87.8594,340.4375 86.25,340.4375 Z \"/><text fill=\"#000000\" font-family=\"sans-serif\" font-size=\"12\" font-style=\"italic\" lengthAdjust=\"spacingAndGlyphs\" textLength=\"91\" x=\"98.5\" y=\"332.1387\">«requirement»</text><text fill=\"#000000\" font-family=\"sans-serif\" font-size=\"12\" lengthAdjust=\"spacingAndGlyphs\" textLength=\"19\" x=\"134.5\" y=\"346.1074\">obj</text><line style=\"stroke: #A80036; stroke-width: 1.5;\" x1=\"72.5\" x2=\"189.5\" y1=\"353.9375\" y2=\"353.9375\"/></a><text fill=\"#000000\" font-family=\"sans-serif\" font-size=\"14\" lengthAdjust=\"spacingAndGlyphs\" textLength=\"7\" x=\"756.5\" y=\"53.1982\">v</text><rect fill=\"#A80036\" height=\"12\" style=\"stroke: #FEFECE; stroke-width: 1.5;\" width=\"12\" x=\"754\" y=\"68.5\"/><text fill=\"#000000\" font-family=\"sans-serif\" font-size=\"14\" lengthAdjust=\"spacingAndGlyphs\" textLength=\"39\" x=\"740.5\" y=\"416.9951\">result</text><rect fill=\"#A80036\" height=\"12\" style=\"stroke: #FEFECE; stroke-width: 1.5;\" width=\"12\" x=\"754\" y=\"392\"/><text fill=\"#000000\" font-family=\"sans-serif\" font-size=\"14\" lengthAdjust=\"spacingAndGlyphs\" textLength=\"7\" x=\"323.5\" y=\"182.6982\">v</text><rect fill=\"#A80036\" height=\"12\" style=\"stroke: #FEFECE; stroke-width: 1.5;\" width=\"12\" x=\"321\" y=\"198\"/><text fill=\"#000000\" font-family=\"sans-serif\" font-size=\"14\" lengthAdjust=\"spacingAndGlyphs\" textLength=\"39\" x=\"548.5\" y=\"523.9951\">result</text><rect fill=\"#A80036\" height=\"12\" style=\"stroke: #FEFECE; stroke-width: 1.5;\" width=\"12\" x=\"562\" y=\"499\"/><text fill=\"#000000\" font-family=\"sans-serif\" font-size=\"14\" lengthAdjust=\"spacingAndGlyphs\" textLength=\"37\" x=\"442.5\" y=\"596.9951\">mass</text><rect fill=\"#A80036\" height=\"12\" style=\"stroke: #FEFECE; stroke-width: 1.5;\" width=\"12\" x=\"455\" y=\"572\"/><text fill=\"#000000\" font-family=\"sans-serif\" font-size=\"14\" lengthAdjust=\"spacingAndGlyphs\" textLength=\"7\" x=\"457.5\" y=\"317.6982\">v</text><rect fill=\"#A80036\" height=\"12\" style=\"stroke: #FEFECE; stroke-width: 1.5;\" width=\"12\" x=\"455\" y=\"333\"/><!--MD5=[05d275557350bfb9b23a4ef7222b4c39]\n",
       "link E3 to E2--><a href=\"psysml:4413170d-8387-4bcf-a661-a8e63eefb5dc\" target=\"_top\" title=\"psysml:4413170d-8387-4bcf-a661-a8e63eefb5dc\" xlink:actuate=\"onRequest\" xlink:href=\"psysml:4413170d-8387-4bcf-a661-a8e63eefb5dc\" xlink:show=\"new\" xlink:title=\"psysml:4413170d-8387-4bcf-a661-a8e63eefb5dc\" xlink:type=\"simple\"><path d=\"M633,97.71 C633,111.76 633,130.58 633,148.42 \" fill=\"none\" id=\"E3-&gt;E2\" style=\"stroke: #A80036; stroke-width: 1.0;\"/><polygon fill=\"#FFFFFF\" points=\"633,168.57,626,149.57,640,149.57,633,168.57\" style=\"stroke: #A80036; stroke-width: 1.0;\"/><ellipse cx=\"628\" cy=\"143.87\" fill=\"#A80036\" rx=\"2\" ry=\"2\" style=\"stroke: #A80036; stroke-width: 1.0;\"/><ellipse cx=\"638\" cy=\"143.87\" fill=\"#A80036\" rx=\"2\" ry=\"2\" style=\"stroke: #A80036; stroke-width: 1.0;\"/></a><!--MD5=[17bf29720e4688890742b92d9a67fdf0]\n",
       "reverse link E14 to E15--><a href=\"psysml:df4b3059-af15-4a6e-9f16-4ce8d388f00c\" target=\"_top\" title=\"psysml:df4b3059-af15-4a6e-9f16-4ce8d388f00c\" xlink:actuate=\"onRequest\" xlink:href=\"psysml:df4b3059-af15-4a6e-9f16-4ce8d388f00c\" xlink:show=\"new\" xlink:title=\"psysml:df4b3059-af15-4a6e-9f16-4ce8d388f00c\" xlink:type=\"simple\"><path d=\"M131,110.73 C131,133.07 131,161.3 131,180.62 \" fill=\"none\" id=\"E14&lt;-E15\" style=\"stroke: #A80036; stroke-width: 1.0;\"/><polygon fill=\"#A80036\" points=\"131,97.71,127,103.71,131,109.71,135,103.71,131,97.71\" style=\"stroke: #A80036; stroke-width: 1.0;\"/></a><!--MD5=[1b01d5b954197aaf3899ca0bde35faf5]\n",
       "link E15 to E8--><a href=\"psysml:b8e5c057-83f1-47ef-94c9-1676b303e623\" target=\"_top\" title=\"psysml:b8e5c057-83f1-47ef-94c9-1676b303e623\" xlink:actuate=\"onRequest\" xlink:href=\"psysml:b8e5c057-83f1-47ef-94c9-1676b303e623\" xlink:show=\"new\" xlink:title=\"psysml:b8e5c057-83f1-47ef-94c9-1676b303e623\" xlink:type=\"simple\"><path d=\"M163.81,227.26 C202.93,253.81 267.42,297.57 302.47,321.36 \" fill=\"none\" id=\"E15-&gt;E8\" style=\"stroke: #A80036; stroke-width: 1.0;\"/><polygon fill=\"#FFFFFF\" points=\"302.47,321.36,282.818,316.4815,290.6804,304.8977,302.47,321.36\" style=\"stroke: #A80036; stroke-width: 1.0;\"/><ellipse cx=\"279.225\" cy=\"311.6255\" fill=\"#A80036\" rx=\"2\" ry=\"2\" style=\"stroke: #A80036; stroke-width: 1.0;\"/><ellipse cx=\"284.841\" cy=\"303.3514\" fill=\"#A80036\" rx=\"2\" ry=\"2\" style=\"stroke: #A80036; stroke-width: 1.0;\"/></a><!--MD5=[f8b155c46b092be73bb522b0a8fc72a2]\n",
       "link E15 to E16--><a href=\"psysml:7d3bd451-2ef5-4e75-9594-2e0dd7330291\" target=\"_top\" title=\"psysml:7d3bd451-2ef5-4e75-9594-2e0dd7330291\" xlink:actuate=\"onRequest\" xlink:href=\"psysml:7d3bd451-2ef5-4e75-9594-2e0dd7330291\" xlink:show=\"new\" xlink:title=\"psysml:7d3bd451-2ef5-4e75-9594-2e0dd7330291\" xlink:type=\"simple\"><path d=\"M131,227.26 C131,249.22 131,282.97 131,307.43 \" fill=\"none\" id=\"E15-&gt;E16\" style=\"stroke: #A80036; stroke-width: 1.0;\"/><polygon fill=\"#A80036\" points=\"131,315.67,134,307.67,128,307.67,131,315.67\" style=\"stroke: #A80036; stroke-width: 1.0;\"/><text fill=\"#000000\" font-family=\"sans-serif\" font-size=\"13\" lengthAdjust=\"spacingAndGlyphs\" textLength=\"73\" x=\"132\" y=\"282.0669\">«objective»</text><text fill=\"#000000\" font-family=\"sans-serif\" font-size=\"13\" lengthAdjust=\"spacingAndGlyphs\" textLength=\"8\" x=\"121.975\" y=\"304.8617\">1</text></a><!--MD5=[d26497b9d0e36586c0e2042d8472cc8d]\n",
       "@startuml\r\n",
       " \r\n",
       "package \"AnalysisTest\" as E1  [[psysml:d47d9c93-f987-42aa-9c82-a11afa9e7a85 ]]  {\r\n",
       "comp def \"V\" as E2 << << (B,green) >> [[psysml:6e318fc7-f06d-4e4c-8e44-1e6d0f884455 ]] {\r\n",
       "- - references - -\r\n",
       "m\r\n",
       "}\r\n",
       "comp usage \"vv: V \" as E3 << << (P,limegreen) part>> [[psysml:27999d5c-daad-4ed7-92ff-020a622ea083 ]] {\r\n",
       "}\r\n",
       "comp def \"AnalysisObjective\" as E4 << <<(D,brown) requirement  def>> [[psysml:31fce779-d9ab-452b-8111-7f3c68bff972 ]] {\r\n",
       "...\r\n",
       "- -\r\n",
       "}\r\n",
       "rec def \"AnalysisCase\" as E5 << analysis def>> [[psysml:0d42cad1-3808-4e7b-8fe6-f660e27fd2bd ]] {\r\n",
       "portin \"v\" as E6  [[psysml:f7aad551-6165-4689-8df3-b128f6f54571 ]] \r\n",
       "portout \"result\" as E7  [[psysml:d8a9a5d1-c1b2-404a-b54f-35037ecf4c2d ]] \r\n",
       "}\r\n",
       "\r\n",
       "rec def \"AnalysisPlan\" as E8 << analysis def>> [[psysml:058a72e0-0a98-4261-856d-73366cf47a25 ]] {\r\n",
       "portin \"v\" as E9  [[psysml:40d43c87-89d5-4dcb-a988-f011f6f29ac5 ]] \r\n",
       "rec usage \"analysisCase\" as E10 << analysis>> [[psysml:ebac0614-db53-4f6a-a11b-2a64966401ed ]] {\r\n",
       "portout \"mass\" as E11  [[psysml:94298e01-1500-44a7-8244-0cc3e5620ae6 ]] \r\n",
       "portin \"v\" as E12  [[psysml:fabccdcf-1c94-4d5c-8a0b-5626b651aa80 ]] \r\n",
       "}\r\n",
       "\r\n",
       "portout \"result\" as E13  [[psysml:633f1383-e65f-4e22-9e6d-6ffcdde4bc38 ]] \r\n",
       "}\r\n",
       "\r\n",
       "comp usage \"analysisContext\" as E14 << << (P,limegreen) part>> [[psysml:2f29b586-744b-44a6-b354-0cb36fac52ba ]] {\r\n",
       "}\r\n",
       "comp usage \"analysisPlan: AnalysisPlan \" as E15 << analysis>> [[psysml:cfe8b385-7bc2-406c-91e1-db9911ba5874 ]] {\r\n",
       "}\r\n",
       "comp usage \"obj\" as E16 << <<(U,orange) requirement>> [[psysml:63325e1e-8a82-4691-b26b-3354962a7cad ]] {\r\n",
       "}\r\n",
       "}\r\n",
       "E3 - -:|> E2 [[psysml:4413170d-8387-4bcf-a661-a8e63eefb5dc ]] \r\n",
       "E14 *- - E15 [[psysml:df4b3059-af15-4a6e-9f16-4ce8d388f00c ]] \r\n",
       "E15 - -:|> E8 [[psysml:b8e5c057-83f1-47ef-94c9-1676b303e623 ]] \r\n",
       "E15 - ->> \"1\"E16 [[psysml:7d3bd451-2ef5-4e75-9594-2e0dd7330291 ]] : <<objective>>\r\n",
       "@enduml\r\n",
       "\n",
       "PlantUML version 1.2020.13(Sat Jun 13 12:26:38 UTC 2020)\n",
       "(EPL source distribution)\n",
       "Java Runtime: OpenJDK Runtime Environment\n",
       "JVM: OpenJDK 64-Bit Server VM\n",
       "Default Encoding: UTF-8\n",
       "Language: en\n",
       "Country: null\n",
       "--></g></svg>"
      ]
     },
     "execution_count": 30,
     "metadata": {},
     "output_type": "execute_result"
    }
   ],
   "source": [
    "%viz --style=\"PLANTUML\" --view=\"Default\" \"AnalysisTest\""
   ]
  },
  {
   "cell_type": "code",
   "execution_count": 31,
   "id": "ad27fe86",
   "metadata": {
    "execution": {
     "iopub.execute_input": "2021-11-13T12:57:19.834637Z",
     "iopub.status.busy": "2021-11-13T12:57:19.834206Z",
     "iopub.status.idle": "2021-11-13T12:57:19.900077Z",
     "shell.execute_reply": "2021-11-13T12:57:19.897891Z"
    }
   },
   "outputs": [
    {
     "data": {
      "image/svg+xml": [
       "<?xml version=\"1.0\" encoding=\"UTF-8\" standalone=\"no\"?><svg xmlns=\"http://www.w3.org/2000/svg\" xmlns:xlink=\"http://www.w3.org/1999/xlink\" contentScriptType=\"application/ecmascript\" contentStyleType=\"text/css\" height=\"917px\" preserveAspectRatio=\"none\" style=\"width:502px;height:917px;\" version=\"1.1\" viewBox=\"0 0 502 917\" width=\"502px\" zoomAndPan=\"magnify\"><defs><filter height=\"300%\" id=\"f1xw426d8k11pn\" width=\"300%\" x=\"-1\" y=\"-1\"><feGaussianBlur result=\"blurOut\" stdDeviation=\"2.0\"/><feColorMatrix in=\"blurOut\" result=\"blurOut2\" type=\"matrix\" values=\"0 0 0 0 0 0 0 0 0 0 0 0 0 0 0 0 0 0 .4 0\"/><feOffset dx=\"4.0\" dy=\"4.0\" in=\"blurOut2\" result=\"blurOut3\"/><feBlend in=\"SourceGraphic\" in2=\"blurOut3\" mode=\"normal\"/></filter></defs><g><!--MD5=[fbc87193dbaf4d95561dea2c320d4a47]\n",
       "cluster E1--><a href=\"psysml:d47d9c93-f987-42aa-9c82-a11afa9e7a85\" target=\"_top\" title=\"psysml:d47d9c93-f987-42aa-9c82-a11afa9e7a85\" xlink:actuate=\"onRequest\" xlink:href=\"psysml:d47d9c93-f987-42aa-9c82-a11afa9e7a85\" xlink:show=\"new\" xlink:title=\"psysml:d47d9c93-f987-42aa-9c82-a11afa9e7a85\" xlink:type=\"simple\"><polygon fill=\"#FFFFFF\" filter=\"url(#f1xw426d8k11pn)\" points=\"17.19,6,109.19,6,116.19,28.2969,480.19,28.2969,480.19,905,17.19,905,17.19,6\" style=\"stroke: #000000; stroke-width: 1.5;\"/><line style=\"stroke: #000000; stroke-width: 1.5;\" x1=\"17.19\" x2=\"116.19\" y1=\"28.2969\" y2=\"28.2969\"/><text fill=\"#000000\" font-family=\"sans-serif\" font-size=\"14\" font-weight=\"bold\" lengthAdjust=\"spacingAndGlyphs\" textLength=\"86\" x=\"21.19\" y=\"20.9951\">AnalysisTest</text></a><!--MD5=[b4997ac47864f28c2f74865a473b2911]\n",
       "class E2--><a href=\"psysml:6e318fc7-f06d-4e4c-8e44-1e6d0f884455\" target=\"_top\" title=\"psysml:6e318fc7-f06d-4e4c-8e44-1e6d0f884455\" xlink:actuate=\"onRequest\" xlink:href=\"psysml:6e318fc7-f06d-4e4c-8e44-1e6d0f884455\" xlink:show=\"new\" xlink:title=\"psysml:6e318fc7-f06d-4e4c-8e44-1e6d0f884455\" xlink:type=\"simple\"><rect fill=\"#FEFECE\" filter=\"url(#f1xw426d8k11pn)\" height=\"69.6094\" id=\"E2\" style=\"stroke: #A80036; stroke-width: 1.5;\" width=\"70\" x=\"189.19\" y=\"691\"/><ellipse cx=\"217.69\" cy=\"707\" fill=\"#008000\" rx=\"11\" ry=\"11\" style=\"stroke: #A80036; stroke-width: 1.0;\"/><path d=\"M214.565,712 L214.565,701.4063 L217.7994,701.4063 Q219.7056,701.4063 220.6119,702.1563 Q221.5338,702.9063 221.5338,704.0781 Q221.5338,704.7656 221.1431,705.4219 Q220.7681,706.0781 220.0494,706.375 Q220.9088,706.75 221.4244,707.4375 Q221.94,708.125 221.94,708.9375 Q221.94,710.3125 220.9088,711.1563 Q219.8931,712 217.7838,712 L214.565,712 Z M216.4869,705.6406 L217.6431,705.6406 Q218.7681,705.6406 219.1744,705.2656 Q219.5963,704.875 219.5963,704.25 Q219.5963,703.6719 219.1744,703.3125 Q218.7525,702.9531 217.815,702.9531 L216.4869,702.9531 L216.4869,705.6406 Z M216.4869,710.4219 L217.9869,710.4219 Q218.8931,710.4219 219.4244,710.0313 Q219.9556,709.6406 219.9556,708.8906 Q219.9556,708.125 219.4556,707.6563 Q218.9556,707.1719 217.69,707.1719 L216.4869,707.1719 L216.4869,710.4219 Z \"/><text fill=\"#000000\" font-family=\"sans-serif\" font-size=\"12\" lengthAdjust=\"spacingAndGlyphs\" textLength=\"8\" x=\"234.69\" y=\"711.1543\">V</text><line style=\"stroke: #A80036; stroke-width: 1.5;\" x1=\"190.19\" x2=\"258.19\" y1=\"723\" y2=\"723\"/><text fill=\"#000000\" font-family=\"sans-serif\" font-size=\"11\" lengthAdjust=\"spacingAndGlyphs\" textLength=\"11\" x=\"195.19\" y=\"754.0151\">m</text><line style=\"stroke: #A80036; stroke-width: 1.0;\" x1=\"190.19\" x2=\"193.19\" y1=\"737.4023\" y2=\"737.4023\"/><text fill=\"#000000\" font-family=\"sans-serif\" font-size=\"11\" lengthAdjust=\"spacingAndGlyphs\" textLength=\"62\" x=\"193.19\" y=\"740.7104\">references</text><line style=\"stroke: #A80036; stroke-width: 1.0;\" x1=\"255.19\" x2=\"258.19\" y1=\"737.4023\" y2=\"737.4023\"/></a><!--MD5=[09b614a08d8cba4a07c9adeb5e0fee81]\n",
       "class E3--><a href=\"psysml:27999d5c-daad-4ed7-92ff-020a622ea083\" target=\"_top\" title=\"psysml:27999d5c-daad-4ed7-92ff-020a622ea083\" xlink:actuate=\"onRequest\" xlink:href=\"psysml:27999d5c-daad-4ed7-92ff-020a622ea083\" xlink:show=\"new\" xlink:title=\"psysml:27999d5c-daad-4ed7-92ff-020a622ea083\" xlink:type=\"simple\"><rect fill=\"#FEFECE\" filter=\"url(#f1xw426d8k11pn)\" height=\"45.9375\" id=\"E3\" rx=\"10\" ry=\"10\" style=\"stroke: #A80036; stroke-width: 1.5;\" width=\"68\" x=\"225.19\" y=\"553\"/><ellipse cx=\"240.19\" cy=\"571.9688\" fill=\"#32CD32\" rx=\"11\" ry=\"11\" style=\"stroke: #A80036; stroke-width: 1.0;\"/><path d=\"M237.0025,576.9688 L237.0025,566.375 L240.6119,566.375 Q241.8306,566.375 242.6275,566.8125 Q243.4244,567.2344 243.7994,567.9375 Q244.19,568.6406 244.19,569.4844 Q244.19,570.3281 243.815,571.0156 Q243.4556,571.7031 242.6588,572.125 Q241.8775,572.5313 240.69,572.5313 L238.9556,572.5313 L238.9556,576.9688 L237.0025,576.9688 Z M238.9556,570.9375 L240.565,570.9375 Q241.3775,570.9375 241.7994,570.5313 Q242.2213,570.125 242.2213,569.4844 Q242.2213,568.8594 241.7994,568.4531 Q241.3775,568.0469 240.5806,568.0469 L238.9556,568.0469 L238.9556,570.9375 Z \"/><text fill=\"#000000\" font-family=\"sans-serif\" font-size=\"12\" font-style=\"italic\" lengthAdjust=\"spacingAndGlyphs\" textLength=\"40\" x=\"252.19\" y=\"569.1387\">«part»</text><text fill=\"#000000\" font-family=\"sans-serif\" font-size=\"12\" lengthAdjust=\"spacingAndGlyphs\" textLength=\"28\" x=\"256.19\" y=\"583.1074\">vv: V</text><line style=\"stroke: #A80036; stroke-width: 1.5;\" x1=\"226.19\" x2=\"292.19\" y1=\"590.9375\" y2=\"590.9375\"/></a><!--MD5=[ebbe1d658d1005bcc118a6aa81145e00]\n",
       "class E4--><a href=\"psysml:31fce779-d9ab-452b-8111-7f3c68bff972\" target=\"_top\" title=\"psysml:31fce779-d9ab-452b-8111-7f3c68bff972\" xlink:actuate=\"onRequest\" xlink:href=\"psysml:31fce779-d9ab-452b-8111-7f3c68bff972\" xlink:show=\"new\" xlink:title=\"psysml:31fce779-d9ab-452b-8111-7f3c68bff972\" xlink:type=\"simple\"><rect fill=\"#FEFECE\" filter=\"url(#f1xw426d8k11pn)\" height=\"66.7422\" id=\"E4\" style=\"stroke: #A80036; stroke-width: 1.5;\" width=\"147\" x=\"305.69\" y=\"822\"/><ellipse cx=\"320.69\" cy=\"840.9688\" fill=\"#A52A2A\" rx=\"11\" ry=\"11\" style=\"stroke: #A80036; stroke-width: 1.0;\"/><path d=\"M317.9088,845.9688 L317.9088,835.375 L320.6431,835.375 Q322.0338,835.375 322.7994,835.7656 Q323.5806,836.1406 324.1119,836.8438 Q324.6431,837.5469 324.94,838.5469 Q325.2369,839.5313 325.2369,840.75 Q325.19,842.3438 324.69,843.5313 Q324.2056,844.7031 323.1588,845.3438 Q322.1275,845.9688 320.44,845.9688 L317.9088,845.9688 Z M319.7681,844.4688 L320.3931,844.4688 Q321.4713,844.4688 322.1275,844.0156 Q322.7838,843.5625 323.065,842.7344 Q323.3619,841.8906 323.3463,840.7656 Q323.3463,839.5938 323.0963,838.7344 Q322.8463,837.8594 322.2369,837.3906 Q321.6275,836.9063 320.5806,836.9063 L319.7681,836.9063 L319.7681,844.4688 Z \"/><text fill=\"#000000\" font-family=\"sans-serif\" font-size=\"12\" font-style=\"italic\" lengthAdjust=\"spacingAndGlyphs\" textLength=\"119\" x=\"332.69\" y=\"838.1387\">«requirement  def»</text><text fill=\"#000000\" font-family=\"sans-serif\" font-size=\"12\" lengthAdjust=\"spacingAndGlyphs\" textLength=\"107\" x=\"338.69\" y=\"852.1074\">AnalysisObjective</text><line style=\"stroke: #A80036; stroke-width: 1.5;\" x1=\"306.69\" x2=\"451.69\" y1=\"859.9375\" y2=\"859.9375\"/><text fill=\"#000000\" font-family=\"sans-serif\" font-size=\"11\" lengthAdjust=\"spacingAndGlyphs\" textLength=\"12\" x=\"311.69\" y=\"874.1479\">...</text><line style=\"stroke: #A80036; stroke-width: 1.0;\" x1=\"306.69\" x2=\"451.69\" y1=\"880.7422\" y2=\"880.7422\"/></a><!--MD5=[270fce915f116d4de14055a7c1d9a0f3]\n",
       "class E5--><a href=\"psysml:0d42cad1-3808-4e7b-8fe6-f660e27fd2bd\" target=\"_top\" title=\"psysml:0d42cad1-3808-4e7b-8fe6-f660e27fd2bd\" xlink:actuate=\"onRequest\" xlink:href=\"psysml:0d42cad1-3808-4e7b-8fe6-f660e27fd2bd\" xlink:show=\"new\" xlink:title=\"psysml:0d42cad1-3808-4e7b-8fe6-f660e27fd2bd\" xlink:type=\"simple\"><rect fill=\"#FEFECE\" filter=\"url(#f1xw426d8k11pn)\" height=\"75.5469\" id=\"E5\" style=\"stroke: #A80036; stroke-width: 1.5;\" width=\"136\" x=\"328.19\" y=\"538\"/><ellipse cx=\"352.19\" cy=\"556.9688\" fill=\"#ADD1B2\" rx=\"11\" ry=\"11\" style=\"stroke: #A80036; stroke-width: 1.0;\"/><path d=\"M351.94,562.1563 Q350.7838,562.1563 349.815,561.5938 Q348.8619,561.0156 348.2838,559.8125 Q347.7213,558.6094 347.7213,556.7344 Q347.7213,555.1719 348.0963,554.1094 Q348.4869,553.0469 349.1119,552.4219 Q349.7369,551.7813 350.4869,551.5 Q351.2525,551.2188 352.0025,551.2188 Q353.19,551.2188 354.0494,551.7656 Q354.9088,552.3125 355.3463,553.2969 L354.1431,554.2031 L354.0025,554.2813 L353.9244,554.1563 Q353.94,554.0313 353.8931,553.9063 Q353.8463,553.7813 353.7213,553.5313 Q353.3463,553.0938 352.94,552.9375 Q352.5494,552.7656 352.0963,552.7656 Q351.4556,552.7656 350.8775,553.2188 Q350.315,553.6563 349.9713,554.5156 Q349.6275,555.375 349.6275,556.6406 Q349.6275,558.4844 350.2994,559.5313 Q350.9713,560.5781 351.9869,560.5781 Q352.6119,560.5781 353.065,560.3125 Q353.5338,560.0313 353.9088,559.4063 L355.2369,560.3906 Q354.6431,561.3594 353.8306,561.7656 Q353.0181,562.1563 351.94,562.1563 Z \"/><text fill=\"#000000\" font-family=\"sans-serif\" font-size=\"12\" font-style=\"italic\" lengthAdjust=\"spacingAndGlyphs\" textLength=\"88\" x=\"366.19\" y=\"554.1387\">«analysis def»</text><text fill=\"#000000\" font-family=\"sans-serif\" font-size=\"12\" lengthAdjust=\"spacingAndGlyphs\" textLength=\"81\" x=\"369.69\" y=\"568.1074\">AnalysisCase</text><line style=\"stroke: #A80036; stroke-width: 1.5;\" x1=\"329.19\" x2=\"463.19\" y1=\"575.9375\" y2=\"575.9375\"/><text fill=\"#000000\" font-family=\"sans-serif\" font-size=\"11\" lengthAdjust=\"spacingAndGlyphs\" textLength=\"43\" x=\"334.19\" y=\"606.9526\">{ v.m }</text><line style=\"stroke: #A80036; stroke-width: 1.0;\" x1=\"329.19\" x2=\"332.19\" y1=\"590.3398\" y2=\"590.3398\"/><text fill=\"#000000\" font-family=\"sans-serif\" font-size=\"11\" lengthAdjust=\"spacingAndGlyphs\" textLength=\"128\" x=\"332.19\" y=\"593.6479\">path step expressions</text><line style=\"stroke: #A80036; stroke-width: 1.0;\" x1=\"460.19\" x2=\"463.19\" y1=\"590.3398\" y2=\"590.3398\"/></a><!--MD5=[60a26617385b1d2d0262a64233df1f8d]\n",
       "class E6--><a href=\"psysml:b64c7347-1249-45eb-ab10-0bf79737e87a\" target=\"_top\" title=\"psysml:b64c7347-1249-45eb-ab10-0bf79737e87a\" xlink:actuate=\"onRequest\" xlink:href=\"psysml:b64c7347-1249-45eb-ab10-0bf79737e87a\" xlink:show=\"new\" xlink:title=\"psysml:b64c7347-1249-45eb-ab10-0bf79737e87a\" xlink:type=\"simple\"><rect fill=\"#FEFECE\" filter=\"url(#f1xw426d8k11pn)\" height=\"45.9375\" id=\"E6\" rx=\"10\" ry=\"10\" style=\"stroke: #A80036; stroke-width: 1.5;\" width=\"170\" x=\"294.19\" y=\"703\"/><ellipse cx=\"309.19\" cy=\"721.9688\" fill=\"#FFA500\" rx=\"11\" ry=\"11\" style=\"stroke: #A80036; stroke-width: 1.0;\"/><path d=\"M308.94,727.4375 Q307.19,727.4375 306.2369,726.4063 Q305.2994,725.3594 305.2994,723.5156 L305.2994,716.625 L307.3619,716.625 L307.3619,716.7813 Q307.2681,716.875 307.2369,717.0156 Q307.2213,717.1406 307.2213,717.4063 L307.2213,723.5313 Q307.2213,724.625 307.5963,725.25 Q307.9713,725.875 308.9556,725.875 Q309.94,725.875 310.3306,725.25 Q310.7213,724.625 310.7213,723.4844 L310.7213,716.625 L312.5963,716.625 L312.5963,723.4688 Q312.5963,725.5 311.565,726.4688 Q310.5494,727.4375 308.94,727.4375 Z \"/><text fill=\"#000000\" font-family=\"sans-serif\" font-size=\"12\" font-style=\"italic\" lengthAdjust=\"spacingAndGlyphs\" textLength=\"91\" x=\"346.69\" y=\"719.1387\">«requirement»</text><text fill=\"#000000\" font-family=\"sans-serif\" font-size=\"12\" lengthAdjust=\"spacingAndGlyphs\" textLength=\"134\" x=\"323.19\" y=\"733.1074\">obj: AnalysisObjective</text><line style=\"stroke: #A80036; stroke-width: 1.5;\" x1=\"295.19\" x2=\"463.19\" y1=\"740.9375\" y2=\"740.9375\"/></a><!--MD5=[2156ba9850f5573cc1fc38a6a4b2f02b]\n",
       "class E7--><a href=\"psysml:058a72e0-0a98-4261-856d-73366cf47a25\" target=\"_top\" title=\"psysml:058a72e0-0a98-4261-856d-73366cf47a25\" xlink:actuate=\"onRequest\" xlink:href=\"psysml:058a72e0-0a98-4261-856d-73366cf47a25\" xlink:show=\"new\" xlink:title=\"psysml:058a72e0-0a98-4261-856d-73366cf47a25\" xlink:type=\"simple\"><rect fill=\"#FEFECE\" filter=\"url(#f1xw426d8k11pn)\" height=\"45.9375\" id=\"E7\" style=\"stroke: #A80036; stroke-width: 1.5;\" width=\"116\" x=\"105.19\" y=\"271\"/><ellipse cx=\"120.19\" cy=\"289.9688\" fill=\"#ADD1B2\" rx=\"11\" ry=\"11\" style=\"stroke: #A80036; stroke-width: 1.0;\"/><path d=\"M119.94,295.1563 Q118.7838,295.1563 117.815,294.5938 Q116.8619,294.0156 116.2838,292.8125 Q115.7213,291.6094 115.7213,289.7344 Q115.7213,288.1719 116.0963,287.1094 Q116.4869,286.0469 117.1119,285.4219 Q117.7369,284.7813 118.4869,284.5 Q119.2525,284.2188 120.0025,284.2188 Q121.19,284.2188 122.0494,284.7656 Q122.9088,285.3125 123.3463,286.2969 L122.1431,287.2031 L122.0025,287.2813 L121.9244,287.1563 Q121.94,287.0313 121.8931,286.9063 Q121.8463,286.7813 121.7213,286.5313 Q121.3463,286.0938 120.94,285.9375 Q120.5494,285.7656 120.0963,285.7656 Q119.4556,285.7656 118.8775,286.2188 Q118.315,286.6563 117.9713,287.5156 Q117.6275,288.375 117.6275,289.6406 Q117.6275,291.4844 118.2994,292.5313 Q118.9713,293.5781 119.9869,293.5781 Q120.6119,293.5781 121.065,293.3125 Q121.5338,293.0313 121.9088,292.4063 L123.2369,293.3906 Q122.6431,294.3594 121.8306,294.7656 Q121.0181,295.1563 119.94,295.1563 Z \"/><text fill=\"#000000\" font-family=\"sans-serif\" font-size=\"12\" font-style=\"italic\" lengthAdjust=\"spacingAndGlyphs\" textLength=\"88\" x=\"132.19\" y=\"287.1387\">«analysis def»</text><text fill=\"#000000\" font-family=\"sans-serif\" font-size=\"12\" lengthAdjust=\"spacingAndGlyphs\" textLength=\"77\" x=\"137.69\" y=\"301.1074\">AnalysisPlan</text><line style=\"stroke: #A80036; stroke-width: 1.5;\" x1=\"106.19\" x2=\"220.19\" y1=\"308.9375\" y2=\"308.9375\"/></a><!--MD5=[b9389687b975829384b498ac4b7476b2]\n",
       "class E8--><a href=\"psysml:185eeef5-681f-4700-9ef2-09baff1a4526\" target=\"_top\" title=\"psysml:185eeef5-681f-4700-9ef2-09baff1a4526\" xlink:actuate=\"onRequest\" xlink:href=\"psysml:185eeef5-681f-4700-9ef2-09baff1a4526\" xlink:show=\"new\" xlink:title=\"psysml:185eeef5-681f-4700-9ef2-09baff1a4526\" xlink:type=\"simple\"><rect fill=\"#FEFECE\" filter=\"url(#f1xw426d8k11pn)\" height=\"66.7422\" id=\"E8\" rx=\"10\" ry=\"10\" style=\"stroke: #A80036; stroke-width: 1.5;\" width=\"119\" x=\"103.69\" y=\"394\"/><ellipse cx=\"118.69\" cy=\"412.9688\" fill=\"#FFA500\" rx=\"11\" ry=\"11\" style=\"stroke: #A80036; stroke-width: 1.0;\"/><path d=\"M118.44,418.4375 Q116.69,418.4375 115.7369,417.4063 Q114.7994,416.3594 114.7994,414.5156 L114.7994,407.625 L116.8619,407.625 L116.8619,407.7813 Q116.7681,407.875 116.7369,408.0156 Q116.7213,408.1406 116.7213,408.4063 L116.7213,414.5313 Q116.7213,415.625 117.0963,416.25 Q117.4713,416.875 118.4556,416.875 Q119.44,416.875 119.8306,416.25 Q120.2213,415.625 120.2213,414.4844 L120.2213,407.625 L122.0963,407.625 L122.0963,414.4688 Q122.0963,416.5 121.065,417.4688 Q120.0494,418.4375 118.44,418.4375 Z \"/><text fill=\"#000000\" font-family=\"sans-serif\" font-size=\"12\" font-style=\"italic\" lengthAdjust=\"spacingAndGlyphs\" textLength=\"91\" x=\"130.69\" y=\"410.1387\">«requirement»</text><text fill=\"#000000\" font-family=\"sans-serif\" font-size=\"12\" lengthAdjust=\"spacingAndGlyphs\" textLength=\"19\" x=\"166.69\" y=\"424.1074\">obj</text><line style=\"stroke: #A80036; stroke-width: 1.5;\" x1=\"104.69\" x2=\"221.69\" y1=\"431.9375\" y2=\"431.9375\"/><text fill=\"#000000\" font-family=\"sans-serif\" font-size=\"11\" lengthAdjust=\"spacingAndGlyphs\" textLength=\"12\" x=\"109.69\" y=\"446.1479\">...</text><line style=\"stroke: #A80036; stroke-width: 1.0;\" x1=\"104.69\" x2=\"221.69\" y1=\"452.7422\" y2=\"452.7422\"/></a><!--MD5=[fd4143e9d270a159db93a4ea2a975926]\n",
       "class E9--><a href=\"psysml:ebac0614-db53-4f6a-a11b-2a64966401ed\" target=\"_top\" title=\"psysml:ebac0614-db53-4f6a-a11b-2a64966401ed\" xlink:actuate=\"onRequest\" xlink:href=\"psysml:ebac0614-db53-4f6a-a11b-2a64966401ed\" xlink:show=\"new\" xlink:title=\"psysml:ebac0614-db53-4f6a-a11b-2a64966401ed\" xlink:type=\"simple\"><rect fill=\"#FEFECE\" filter=\"url(#f1xw426d8k11pn)\" height=\"45.9375\" id=\"E9\" rx=\"10\" ry=\"10\" style=\"stroke: #A80036; stroke-width: 1.5;\" width=\"206\" x=\"258.19\" y=\"404.5\"/><ellipse cx=\"273.19\" cy=\"423.4688\" fill=\"#B6DBBB\" rx=\"11\" ry=\"11\" style=\"stroke: #A80036; stroke-width: 1.0;\"/><path d=\"M272.94,428.9375 Q271.19,428.9375 270.2369,427.9063 Q269.2994,426.8594 269.2994,425.0156 L269.2994,418.125 L271.3619,418.125 L271.3619,418.2813 Q271.2681,418.375 271.2369,418.5156 Q271.2213,418.6406 271.2213,418.9063 L271.2213,425.0313 Q271.2213,426.125 271.5963,426.75 Q271.9713,427.375 272.9556,427.375 Q273.94,427.375 274.3306,426.75 Q274.7213,426.125 274.7213,424.9844 L274.7213,418.125 L276.5963,418.125 L276.5963,424.9688 Q276.5963,427 275.565,427.9688 Q274.5494,428.9375 272.94,428.9375 Z \"/><text fill=\"#000000\" font-family=\"sans-serif\" font-size=\"12\" font-style=\"italic\" lengthAdjust=\"spacingAndGlyphs\" textLength=\"64\" x=\"342.19\" y=\"420.6387\">«analysis»</text><text fill=\"#000000\" font-family=\"sans-serif\" font-size=\"12\" lengthAdjust=\"spacingAndGlyphs\" textLength=\"170\" x=\"287.19\" y=\"434.6074\">analysisCase: AnalysisCase</text><line style=\"stroke: #A80036; stroke-width: 1.5;\" x1=\"259.19\" x2=\"463.19\" y1=\"442.4375\" y2=\"442.4375\"/></a><!--MD5=[96f4274e9e20536e775497830990834d]\n",
       "class E10--><a href=\"psysml:885560a7-695c-4aea-bf29-e47629fa314b\" target=\"_top\" title=\"psysml:885560a7-695c-4aea-bf29-e47629fa314b\" xlink:actuate=\"onRequest\" xlink:href=\"psysml:885560a7-695c-4aea-bf29-e47629fa314b\" xlink:show=\"new\" xlink:title=\"psysml:885560a7-695c-4aea-bf29-e47629fa314b\" xlink:type=\"simple\"><rect fill=\"#FEFECE\" filter=\"url(#f1xw426d8k11pn)\" height=\"45.9375\" id=\"E10\" rx=\"10\" ry=\"10\" style=\"stroke: #A80036; stroke-width: 1.5;\" width=\"119\" x=\"70.69\" y=\"553\"/><ellipse cx=\"85.69\" cy=\"571.9688\" fill=\"#FFA500\" rx=\"11\" ry=\"11\" style=\"stroke: #A80036; stroke-width: 1.0;\"/><path d=\"M85.44,577.4375 Q83.69,577.4375 82.7369,576.4063 Q81.7994,575.3594 81.7994,573.5156 L81.7994,566.625 L83.8619,566.625 L83.8619,566.7813 Q83.7681,566.875 83.7369,567.0156 Q83.7213,567.1406 83.7213,567.4063 L83.7213,573.5313 Q83.7213,574.625 84.0963,575.25 Q84.4713,575.875 85.4556,575.875 Q86.44,575.875 86.8306,575.25 Q87.2213,574.625 87.2213,573.4844 L87.2213,566.625 L89.0963,566.625 L89.0963,573.4688 Q89.0963,575.5 88.065,576.4688 Q87.0494,577.4375 85.44,577.4375 Z \"/><text fill=\"#000000\" font-family=\"sans-serif\" font-size=\"12\" font-style=\"italic\" lengthAdjust=\"spacingAndGlyphs\" textLength=\"91\" x=\"97.69\" y=\"569.1387\">«requirement»</text><text fill=\"#000000\" font-family=\"sans-serif\" font-size=\"12\" lengthAdjust=\"spacingAndGlyphs\" textLength=\"19\" x=\"133.69\" y=\"583.1074\">obj</text><line style=\"stroke: #A80036; stroke-width: 1.5;\" x1=\"71.69\" x2=\"188.69\" y1=\"590.9375\" y2=\"590.9375\"/></a><!--MD5=[1dd1bfd58a279cf63c5f349dbc8fc6a1]\n",
       "class E11--><a href=\"psysml:2f29b586-744b-44a6-b354-0cb36fac52ba\" target=\"_top\" title=\"psysml:2f29b586-744b-44a6-b354-0cb36fac52ba\" xlink:actuate=\"onRequest\" xlink:href=\"psysml:2f29b586-744b-44a6-b354-0cb36fac52ba\" xlink:show=\"new\" xlink:title=\"psysml:2f29b586-744b-44a6-b354-0cb36fac52ba\" xlink:type=\"simple\"><rect fill=\"#FEFECE\" filter=\"url(#f1xw426d8k11pn)\" height=\"45.9375\" id=\"E11\" rx=\"10\" ry=\"10\" style=\"stroke: #A80036; stroke-width: 1.5;\" width=\"130\" x=\"174.19\" y=\"41\"/><ellipse cx=\"189.19\" cy=\"59.9688\" fill=\"#32CD32\" rx=\"11\" ry=\"11\" style=\"stroke: #A80036; stroke-width: 1.0;\"/><path d=\"M186.0025,64.9688 L186.0025,54.375 L189.6119,54.375 Q190.8306,54.375 191.6275,54.8125 Q192.4244,55.2344 192.7994,55.9375 Q193.19,56.6406 193.19,57.4844 Q193.19,58.3281 192.815,59.0156 Q192.4556,59.7031 191.6588,60.125 Q190.8775,60.5313 189.69,60.5313 L187.9556,60.5313 L187.9556,64.9688 L186.0025,64.9688 Z M187.9556,58.9375 L189.565,58.9375 Q190.3775,58.9375 190.7994,58.5313 Q191.2213,58.125 191.2213,57.4844 Q191.2213,56.8594 190.7994,56.4531 Q190.3775,56.0469 189.5806,56.0469 L187.9556,56.0469 L187.9556,58.9375 Z \"/><text fill=\"#000000\" font-family=\"sans-serif\" font-size=\"12\" font-style=\"italic\" lengthAdjust=\"spacingAndGlyphs\" textLength=\"40\" x=\"232.19\" y=\"57.1387\">«part»</text><text fill=\"#000000\" font-family=\"sans-serif\" font-size=\"12\" lengthAdjust=\"spacingAndGlyphs\" textLength=\"98\" x=\"203.19\" y=\"71.1074\">analysisContext</text><line style=\"stroke: #A80036; stroke-width: 1.5;\" x1=\"175.19\" x2=\"303.19\" y1=\"78.9375\" y2=\"78.9375\"/></a><!--MD5=[49a0ec8f00dab7302a31f22d0f0fe584]\n",
       "class E12--><a href=\"psysml:cfe8b385-7bc2-406c-91e1-db9911ba5874\" target=\"_top\" title=\"psysml:cfe8b385-7bc2-406c-91e1-db9911ba5874\" xlink:actuate=\"onRequest\" xlink:href=\"psysml:cfe8b385-7bc2-406c-91e1-db9911ba5874\" xlink:show=\"new\" xlink:title=\"psysml:cfe8b385-7bc2-406c-91e1-db9911ba5874\" xlink:type=\"simple\"><rect fill=\"#FEFECE\" filter=\"url(#f1xw426d8k11pn)\" height=\"45.9375\" id=\"E12\" rx=\"10\" ry=\"10\" style=\"stroke: #A80036; stroke-width: 1.5;\" width=\"198\" x=\"140.19\" y=\"148\"/><ellipse cx=\"155.19\" cy=\"166.9688\" fill=\"#B6DBBB\" rx=\"11\" ry=\"11\" style=\"stroke: #A80036; stroke-width: 1.0;\"/><path d=\"M154.94,172.4375 Q153.19,172.4375 152.2369,171.4063 Q151.2994,170.3594 151.2994,168.5156 L151.2994,161.625 L153.3619,161.625 L153.3619,161.7813 Q153.2681,161.875 153.2369,162.0156 Q153.2213,162.1406 153.2213,162.4063 L153.2213,168.5313 Q153.2213,169.625 153.5963,170.25 Q153.9713,170.875 154.9556,170.875 Q155.94,170.875 156.3306,170.25 Q156.7213,169.625 156.7213,168.4844 L156.7213,161.625 L158.5963,161.625 L158.5963,168.4688 Q158.5963,170.5 157.565,171.4688 Q156.5494,172.4375 154.94,172.4375 Z \"/><text fill=\"#000000\" font-family=\"sans-serif\" font-size=\"12\" font-style=\"italic\" lengthAdjust=\"spacingAndGlyphs\" textLength=\"64\" x=\"220.19\" y=\"164.1387\">«analysis»</text><text fill=\"#000000\" font-family=\"sans-serif\" font-size=\"12\" lengthAdjust=\"spacingAndGlyphs\" textLength=\"162\" x=\"169.19\" y=\"178.1074\">analysisPlan: AnalysisPlan</text><line style=\"stroke: #A80036; stroke-width: 1.5;\" x1=\"141.19\" x2=\"337.19\" y1=\"185.9375\" y2=\"185.9375\"/></a><!--MD5=[ee3c913d1a06f366521f9ef512b67efe]\n",
       "class E13--><a href=\"psysml:63325e1e-8a82-4691-b26b-3354962a7cad\" target=\"_top\" title=\"psysml:63325e1e-8a82-4691-b26b-3354962a7cad\" xlink:actuate=\"onRequest\" xlink:href=\"psysml:63325e1e-8a82-4691-b26b-3354962a7cad\" xlink:show=\"new\" xlink:title=\"psysml:63325e1e-8a82-4691-b26b-3354962a7cad\" xlink:type=\"simple\"><rect fill=\"#FEFECE\" filter=\"url(#f1xw426d8k11pn)\" height=\"45.9375\" id=\"E13\" rx=\"10\" ry=\"10\" style=\"stroke: #A80036; stroke-width: 1.5;\" width=\"119\" x=\"256.69\" y=\"271\"/><ellipse cx=\"271.69\" cy=\"289.9688\" fill=\"#FFA500\" rx=\"11\" ry=\"11\" style=\"stroke: #A80036; stroke-width: 1.0;\"/><path d=\"M271.44,295.4375 Q269.69,295.4375 268.7369,294.4063 Q267.7994,293.3594 267.7994,291.5156 L267.7994,284.625 L269.8619,284.625 L269.8619,284.7813 Q269.7681,284.875 269.7369,285.0156 Q269.7213,285.1406 269.7213,285.4063 L269.7213,291.5313 Q269.7213,292.625 270.0963,293.25 Q270.4713,293.875 271.4556,293.875 Q272.44,293.875 272.8306,293.25 Q273.2213,292.625 273.2213,291.4844 L273.2213,284.625 L275.0963,284.625 L275.0963,291.4688 Q275.0963,293.5 274.065,294.4688 Q273.0494,295.4375 271.44,295.4375 Z \"/><text fill=\"#000000\" font-family=\"sans-serif\" font-size=\"12\" font-style=\"italic\" lengthAdjust=\"spacingAndGlyphs\" textLength=\"91\" x=\"283.69\" y=\"287.1387\">«requirement»</text><text fill=\"#000000\" font-family=\"sans-serif\" font-size=\"12\" lengthAdjust=\"spacingAndGlyphs\" textLength=\"19\" x=\"319.69\" y=\"301.1074\">obj</text><line style=\"stroke: #A80036; stroke-width: 1.5;\" x1=\"257.69\" x2=\"374.69\" y1=\"308.9375\" y2=\"308.9375\"/></a><!--MD5=[05d275557350bfb9b23a4ef7222b4c39]\n",
       "link E3 to E2--><a href=\"psysml:4413170d-8387-4bcf-a661-a8e63eefb5dc\" target=\"_top\" title=\"psysml:4413170d-8387-4bcf-a661-a8e63eefb5dc\" xlink:actuate=\"onRequest\" xlink:href=\"psysml:4413170d-8387-4bcf-a661-a8e63eefb5dc\" xlink:show=\"new\" xlink:title=\"psysml:4413170d-8387-4bcf-a661-a8e63eefb5dc\" xlink:type=\"simple\"><path d=\"M248.42,599.11 C242.66,611.92 235.99,628.53 232.19,644 C230.11,652.49 228.56,661.61 227.42,670.56 \" fill=\"none\" id=\"E3-&gt;E2\" style=\"stroke: #A80036; stroke-width: 1.0;\"/><polygon fill=\"#FFFFFF\" points=\"225.41,690.74,220.3172,671.1425,234.249,672.5226,225.41,690.74\" style=\"stroke: #A80036; stroke-width: 1.0;\"/><ellipse cx=\"222.8694\" cy=\"665.6674\" fill=\"#A80036\" rx=\"2\" ry=\"2\" style=\"stroke: #A80036; stroke-width: 1.0;\"/><ellipse cx=\"232.8207\" cy=\"666.6532\" fill=\"#A80036\" rx=\"2\" ry=\"2\" style=\"stroke: #A80036; stroke-width: 1.0;\"/></a><!--MD5=[15ebcb19ae302d9b601edb458606d402]\n",
       "link E5 to E2--><a href=\"psysml:0e59658b-8c20-4184-9a82-84e161b0c6e1\" target=\"_top\" title=\"psysml:0e59658b-8c20-4184-9a82-84e161b0c6e1\" xlink:actuate=\"onRequest\" xlink:href=\"psysml:0e59658b-8c20-4184-9a82-84e161b0c6e1\" xlink:show=\"new\" xlink:title=\"psysml:0e59658b-8c20-4184-9a82-84e161b0c6e1\" xlink:type=\"simple\"><path d=\"M349.9,614.18 C338.16,623.78 325.63,634.19 314.19,644 C297.27,658.51 278.93,674.89 263.25,689.11 \" fill=\"none\" id=\"E5-&gt;E2\" style=\"stroke: #A80036; stroke-width: 1.0; stroke-dasharray: 7.0,7.0;\"/><polygon fill=\"#A80036\" points=\"259.32,692.67,268.6731,689.5847,263.0229,689.3102,263.2974,683.66,259.32,692.67\" style=\"stroke: #A80036; stroke-width: 1.0;\"/><text fill=\"#000000\" font-family=\"sans-serif\" font-size=\"13\" lengthAdjust=\"spacingAndGlyphs\" textLength=\"62\" x=\"315.19\" y=\"657.0669\">«subject»</text></a><!--MD5=[9120cf2e5df3bff93db8f754bbbc09b4]\n",
       "link E5 to E6--><a href=\"psysml:0aba1a21-1a42-4d2b-97f5-c2cba04c9345\" target=\"_top\" title=\"psysml:0aba1a21-1a42-4d2b-97f5-c2cba04c9345\" xlink:actuate=\"onRequest\" xlink:href=\"psysml:0aba1a21-1a42-4d2b-97f5-c2cba04c9345\" xlink:show=\"new\" xlink:title=\"psysml:0aba1a21-1a42-4d2b-97f5-c2cba04c9345\" xlink:type=\"simple\"><path d=\"M391.9,614.35 C389.04,639.21 385.34,671.46 382.67,694.72 \" fill=\"none\" id=\"E5-&gt;E6\" style=\"stroke: #A80036; stroke-width: 1.0;\"/><polygon fill=\"#A80036\" points=\"381.73,702.85,385.6116,695.2386,379.6498,694.5631,381.73,702.85\" style=\"stroke: #A80036; stroke-width: 1.0;\"/><text fill=\"#000000\" font-family=\"sans-serif\" font-size=\"13\" lengthAdjust=\"spacingAndGlyphs\" textLength=\"73\" x=\"389.19\" y=\"657.0669\">«objective»</text></a><!--MD5=[f667431f98296947986a1a7595a31603]\n",
       "link E6 to E4--><a href=\"psysml:32f59106-5f4c-4aec-8305-226899de5705\" target=\"_top\" title=\"psysml:32f59106-5f4c-4aec-8305-226899de5705\" xlink:actuate=\"onRequest\" xlink:href=\"psysml:32f59106-5f4c-4aec-8305-226899de5705\" xlink:show=\"new\" xlink:title=\"psysml:32f59106-5f4c-4aec-8305-226899de5705\" xlink:type=\"simple\"><path d=\"M379.19,749.21 C379.19,763.65 379.19,783.12 379.19,801.39 \" fill=\"none\" id=\"E6-&gt;E4\" style=\"stroke: #A80036; stroke-width: 1.0;\"/><polygon fill=\"#FFFFFF\" points=\"379.19,821.54,372.19,802.54,386.19,802.54,379.19,821.54\" style=\"stroke: #A80036; stroke-width: 1.0;\"/><ellipse cx=\"374.19\" cy=\"796.84\" fill=\"#A80036\" rx=\"2\" ry=\"2\" style=\"stroke: #A80036; stroke-width: 1.0;\"/><ellipse cx=\"384.19\" cy=\"796.84\" fill=\"#A80036\" rx=\"2\" ry=\"2\" style=\"stroke: #A80036; stroke-width: 1.0;\"/></a><!--MD5=[583832df87f4419a098336a29a52fa00]\n",
       "link E7 to E2--><a href=\"psysml:1b5baffb-8729-41ae-bce6-1275f3b8062c\" target=\"_top\" title=\"psysml:1b5baffb-8729-41ae-bce6-1275f3b8062c\" xlink:actuate=\"onRequest\" xlink:href=\"psysml:1b5baffb-8729-41ae-bce6-1275f3b8062c\" xlink:show=\"new\" xlink:title=\"psysml:1b5baffb-8729-41ae-bce6-1275f3b8062c\" xlink:type=\"simple\"><path d=\"M141.37,317.07 C123.9,335.96 100.1,364.69 86.19,394 C43.79,483.32 6,527.11 53.19,614 C80.78,664.81 142.79,695.97 184.06,711.87 \" fill=\"none\" id=\"E7-&gt;E2\" style=\"stroke: #A80036; stroke-width: 1.0; stroke-dasharray: 7.0,7.0;\"/><polygon fill=\"#A80036\" points=\"188.98,713.74,181.983,706.8088,184.3048,711.9672,179.1465,714.289,188.98,713.74\" style=\"stroke: #A80036; stroke-width: 1.0;\"/><text fill=\"#000000\" font-family=\"sans-serif\" font-size=\"13\" lengthAdjust=\"spacingAndGlyphs\" textLength=\"62\" x=\"41.19\" y=\"504.0669\">«subject»</text></a><!--MD5=[79bc8f324ef4d02c541433f2e6e513c3]\n",
       "link E7 to E8--><a href=\"psysml:90e157ee-5294-4f98-a807-291d927bb48a\" target=\"_top\" title=\"psysml:90e157ee-5294-4f98-a807-291d927bb48a\" xlink:actuate=\"onRequest\" xlink:href=\"psysml:90e157ee-5294-4f98-a807-291d927bb48a\" xlink:show=\"new\" xlink:title=\"psysml:90e157ee-5294-4f98-a807-291d927bb48a\" xlink:type=\"simple\"><path d=\"M163.19,317.01 C163.19,335.7 163.19,363.02 163.19,385.69 \" fill=\"none\" id=\"E7-&gt;E8\" style=\"stroke: #A80036; stroke-width: 1.0;\"/><polygon fill=\"#A80036\" points=\"163.19,393.81,166.19,385.81,160.19,385.81,163.19,393.81\" style=\"stroke: #A80036; stroke-width: 1.0;\"/><text fill=\"#000000\" font-family=\"sans-serif\" font-size=\"13\" lengthAdjust=\"spacingAndGlyphs\" textLength=\"73\" x=\"164.19\" y=\"360.0669\">«objective»</text><text fill=\"#000000\" font-family=\"sans-serif\" font-size=\"13\" lengthAdjust=\"spacingAndGlyphs\" textLength=\"8\" x=\"154.4025\" y=\"382.8061\">1</text></a><!--MD5=[e4a10ef82d0e328e31cac39a31e58dda]\n",
       "reverse link E7 to E9--><a href=\"psysml:5b13e274-498b-4649-80bb-2ca5d783c8e3\" target=\"_top\" title=\"psysml:5b13e274-498b-4649-80bb-2ca5d783c8e3\" xlink:actuate=\"onRequest\" xlink:href=\"psysml:5b13e274-498b-4649-80bb-2ca5d783c8e3\" xlink:show=\"new\" xlink:title=\"psysml:5b13e274-498b-4649-80bb-2ca5d783c8e3\" xlink:type=\"simple\"><path d=\"M210.72,324.26 C222.38,331.59 234.79,339.5 246.19,347 C274.77,365.82 306.76,388.03 329.72,404.18 \" fill=\"none\" id=\"E7&lt;-E9\" style=\"stroke: #A80036; stroke-width: 1.0;\"/><polygon fill=\"#A80036\" points=\"199.37,317.17,202.3411,323.7406,209.5489,323.5252,206.5779,316.9546,199.37,317.17\" style=\"stroke: #A80036; stroke-width: 1.0;\"/></a><!--MD5=[bfc3ddf2e613be37104f658f09af896c]\n",
       "link E9 to E5--><a href=\"psysml:2720ff20-3733-452c-91c5-acd446f65b05\" target=\"_top\" title=\"psysml:2720ff20-3733-452c-91c5-acd446f65b05\" xlink:actuate=\"onRequest\" xlink:href=\"psysml:2720ff20-3733-452c-91c5-acd446f65b05\" xlink:show=\"new\" xlink:title=\"psysml:2720ff20-3733-452c-91c5-acd446f65b05\" xlink:type=\"simple\"><path d=\"M366.51,450.75 C370.8,468.73 377.04,494.86 382.69,518.51 \" fill=\"none\" id=\"E9-&gt;E5\" style=\"stroke: #A80036; stroke-width: 1.0;\"/><polygon fill=\"#FFFFFF\" points=\"387.35,537.99,376.1312,521.1336,389.7489,517.8841,387.35,537.99\" style=\"stroke: #A80036; stroke-width: 1.0;\"/><ellipse cx=\"376.7536\" cy=\"515.125\" fill=\"#A80036\" rx=\"2\" ry=\"2\" style=\"stroke: #A80036; stroke-width: 1.0;\"/><ellipse cx=\"386.4805\" cy=\"512.804\" fill=\"#A80036\" rx=\"2\" ry=\"2\" style=\"stroke: #A80036; stroke-width: 1.0;\"/></a><!--MD5=[35e5f1cbde42fa304a029880aa2bc7f2]\n",
       "link E9 to E10--><a href=\"psysml:207a8d5d-7cc5-465d-969c-ac78b140bf51\" target=\"_top\" title=\"psysml:207a8d5d-7cc5-465d-969c-ac78b140bf51\" xlink:actuate=\"onRequest\" xlink:href=\"psysml:207a8d5d-7cc5-465d-969c-ac78b140bf51\" xlink:show=\"new\" xlink:title=\"psysml:207a8d5d-7cc5-465d-969c-ac78b140bf51\" xlink:type=\"simple\"><path d=\"M326.36,450.59 C284.96,476.84 215.96,520.61 171.79,548.61 \" fill=\"none\" id=\"E9-&gt;E10\" style=\"stroke: #A80036; stroke-width: 1.0;\"/><polygon fill=\"#A80036\" points=\"164.93,552.97,173.2926,551.2186,170.0789,546.1518,164.93,552.97\" style=\"stroke: #A80036; stroke-width: 1.0;\"/><text fill=\"#000000\" font-family=\"sans-serif\" font-size=\"13\" lengthAdjust=\"spacingAndGlyphs\" textLength=\"73\" x=\"260.19\" y=\"504.0669\">«objective»</text></a><!--MD5=[94adabc162ce7e41b39f13be14fbaeb3]\n",
       "reverse link E11 to E12--><a href=\"psysml:df4b3059-af15-4a6e-9f16-4ce8d388f00c\" target=\"_top\" title=\"psysml:df4b3059-af15-4a6e-9f16-4ce8d388f00c\" xlink:actuate=\"onRequest\" xlink:href=\"psysml:df4b3059-af15-4a6e-9f16-4ce8d388f00c\" xlink:show=\"new\" xlink:title=\"psysml:df4b3059-af15-4a6e-9f16-4ce8d388f00c\" xlink:type=\"simple\"><path d=\"M239.19,100.05 C239.19,115.76 239.19,133.82 239.19,147.66 \" fill=\"none\" id=\"E11&lt;-E12\" style=\"stroke: #A80036; stroke-width: 1.0;\"/><polygon fill=\"#A80036\" points=\"239.19,87.01,235.19,93.01,239.19,99.01,243.19,93.01,239.19,87.01\" style=\"stroke: #A80036; stroke-width: 1.0;\"/></a><!--MD5=[ae660f5ecd7ddb04a8913625960940af]\n",
       "link E12 to E7--><a href=\"psysml:b8e5c057-83f1-47ef-94c9-1676b303e623\" target=\"_top\" title=\"psysml:b8e5c057-83f1-47ef-94c9-1676b303e623\" xlink:actuate=\"onRequest\" xlink:href=\"psysml:b8e5c057-83f1-47ef-94c9-1676b303e623\" xlink:show=\"new\" xlink:title=\"psysml:b8e5c057-83f1-47ef-94c9-1676b303e623\" xlink:type=\"simple\"><path d=\"M225.25,194.19 C214.81,210.82 200.24,234.01 187.84,253.75 \" fill=\"none\" id=\"E12-&gt;E7\" style=\"stroke: #A80036; stroke-width: 1.0;\"/><polygon fill=\"#FFFFFF\" points=\"177.04,270.95,181.207,251.135,193.0666,258.5747,177.04,270.95\" style=\"stroke: #A80036; stroke-width: 1.0;\"/><ellipse cx=\"185.9303\" cy=\"247.3692\" fill=\"#A80036\" rx=\"2\" ry=\"2\" style=\"stroke: #A80036; stroke-width: 1.0;\"/><ellipse cx=\"194.4014\" cy=\"252.6833\" fill=\"#A80036\" rx=\"2\" ry=\"2\" style=\"stroke: #A80036; stroke-width: 1.0;\"/></a><!--MD5=[e2a9ac97dcd3257bb5342dae06547bad]\n",
       "link E12 to E13--><a href=\"psysml:7d3bd451-2ef5-4e75-9594-2e0dd7330291\" target=\"_top\" title=\"psysml:7d3bd451-2ef5-4e75-9594-2e0dd7330291\" xlink:actuate=\"onRequest\" xlink:href=\"psysml:7d3bd451-2ef5-4e75-9594-2e0dd7330291\" xlink:show=\"new\" xlink:title=\"psysml:7d3bd451-2ef5-4e75-9594-2e0dd7330291\" xlink:type=\"simple\"><path d=\"M253.31,194.19 C265.8,213.81 284.08,242.55 297.72,263.98 \" fill=\"none\" id=\"E12-&gt;E13\" style=\"stroke: #A80036; stroke-width: 1.0;\"/><polygon fill=\"#A80036\" points=\"302.16,270.95,300.388,262.5918,295.3291,265.8179,302.16,270.95\" style=\"stroke: #A80036; stroke-width: 1.0;\"/><text fill=\"#000000\" font-family=\"sans-serif\" font-size=\"13\" lengthAdjust=\"spacingAndGlyphs\" textLength=\"73\" x=\"283.19\" y=\"237.0669\">«objective»</text><text fill=\"#000000\" font-family=\"sans-serif\" font-size=\"13\" lengthAdjust=\"spacingAndGlyphs\" textLength=\"8\" x=\"289.3144\" y=\"259.8328\">1</text></a><!--MD5=[1d0143298d4d8e43fc43fc1416d30d6f]\n",
       "@startuml\r\n",
       " \r\n",
       "package \"AnalysisTest\" as E1  [[psysml:d47d9c93-f987-42aa-9c82-a11afa9e7a85 ]]  {\r\n",
       "comp def \"V\" as E2 << << (B,green) >> [[psysml:6e318fc7-f06d-4e4c-8e44-1e6d0f884455 ]] {\r\n",
       "- - references - -\r\n",
       "m\r\n",
       "}\r\n",
       "comp usage \"vv: V \" as E3 << << (P,limegreen) part>> [[psysml:27999d5c-daad-4ed7-92ff-020a622ea083 ]] {\r\n",
       "}\r\n",
       "comp def \"AnalysisObjective\" as E4 << <<(D,brown) requirement  def>> [[psysml:31fce779-d9ab-452b-8111-7f3c68bff972 ]] {\r\n",
       "...\r\n",
       "- -\r\n",
       "}\r\n",
       "comp def \"AnalysisCase\" as E5 << analysis def>> [[psysml:0d42cad1-3808-4e7b-8fe6-f660e27fd2bd ]] {\r\n",
       "- - path step expressions - -\r\n",
       " { v.m }\r\n",
       "}\r\n",
       "comp usage \"obj: AnalysisObjective \" as E6 << <<(U,orange) requirement>> [[psysml:b64c7347-1249-45eb-ab10-0bf79737e87a ]] {\r\n",
       "}\r\n",
       "comp def \"AnalysisPlan\" as E7 << analysis def>> [[psysml:058a72e0-0a98-4261-856d-73366cf47a25 ]] {\r\n",
       "}\r\n",
       "comp usage \"obj\" as E8 << <<(U,orange) requirement>> [[psysml:185eeef5-681f-4700-9ef2-09baff1a4526 ]] {\r\n",
       "...\r\n",
       "- -\r\n",
       "}\r\n",
       "comp usage \"analysisCase: AnalysisCase \" as E9 << analysis>> [[psysml:ebac0614-db53-4f6a-a11b-2a64966401ed ]] {\r\n",
       "}\r\n",
       "comp usage \"obj\" as E10 << <<(U,orange) requirement>> [[psysml:885560a7-695c-4aea-bf29-e47629fa314b ]] {\r\n",
       "}\r\n",
       "comp usage \"analysisContext\" as E11 << << (P,limegreen) part>> [[psysml:2f29b586-744b-44a6-b354-0cb36fac52ba ]] {\r\n",
       "}\r\n",
       "comp usage \"analysisPlan: AnalysisPlan \" as E12 << analysis>> [[psysml:cfe8b385-7bc2-406c-91e1-db9911ba5874 ]] {\r\n",
       "}\r\n",
       "comp usage \"obj\" as E13 << <<(U,orange) requirement>> [[psysml:63325e1e-8a82-4691-b26b-3354962a7cad ]] {\r\n",
       "}\r\n",
       "}\r\n",
       "E3 - -:|> E2 [[psysml:4413170d-8387-4bcf-a661-a8e63eefb5dc ]] \r\n",
       "E5 ..> E2 [[psysml:0e59658b-8c20-4184-9a82-84e161b0c6e1 ]] : <<subject>>\r\n",
       "E5 - ->> E6 [[psysml:0aba1a21-1a42-4d2b-97f5-c2cba04c9345 ]] : <<objective>>\r\n",
       "E6 - -:|> E4 [[psysml:32f59106-5f4c-4aec-8305-226899de5705 ]] \r\n",
       "E7 ..> E2 [[psysml:1b5baffb-8729-41ae-bce6-1275f3b8062c ]] : <<subject>>\r\n",
       "E7 - ->> \"1\"E8 [[psysml:90e157ee-5294-4f98-a807-291d927bb48a ]] : <<objective>>\r\n",
       "E7 *- - E9 [[psysml:5b13e274-498b-4649-80bb-2ca5d783c8e3 ]] \r\n",
       "E9 - -:|> E5 [[psysml:2720ff20-3733-452c-91c5-acd446f65b05 ]] \r\n",
       "E9 - ->> E10 [[psysml:207a8d5d-7cc5-465d-969c-ac78b140bf51 ]] : <<objective>>\r\n",
       "E11 *- - E12 [[psysml:df4b3059-af15-4a6e-9f16-4ce8d388f00c ]] \r\n",
       "E12 - -:|> E7 [[psysml:b8e5c057-83f1-47ef-94c9-1676b303e623 ]] \r\n",
       "E12 - ->> \"1\"E13 [[psysml:7d3bd451-2ef5-4e75-9594-2e0dd7330291 ]] : <<objective>>\r\n",
       "@enduml\r\n",
       "\n",
       "PlantUML version 1.2020.13(Sat Jun 13 12:26:38 UTC 2020)\n",
       "(EPL source distribution)\n",
       "Java Runtime: OpenJDK Runtime Environment\n",
       "JVM: OpenJDK 64-Bit Server VM\n",
       "Default Encoding: UTF-8\n",
       "Language: en\n",
       "Country: null\n",
       "--></g></svg>"
      ]
     },
     "execution_count": 31,
     "metadata": {},
     "output_type": "execute_result"
    }
   ],
   "source": [
    "%viz --style=\"PLANTUML\" --view=\"Tree\" \"AnalysisTest\""
   ]
  },
  {
   "cell_type": "code",
   "execution_count": 32,
   "id": "10c1021d",
   "metadata": {
    "execution": {
     "iopub.execute_input": "2021-11-13T12:57:19.948453Z",
     "iopub.status.busy": "2021-11-13T12:57:19.948027Z",
     "iopub.status.idle": "2021-11-13T12:57:20.010197Z",
     "shell.execute_reply": "2021-11-13T12:57:20.008569Z"
    }
   },
   "outputs": [
    {
     "data": {
      "image/svg+xml": [
       "<?xml version=\"1.0\" encoding=\"UTF-8\" standalone=\"no\"?><svg xmlns=\"http://www.w3.org/2000/svg\" xmlns:xlink=\"http://www.w3.org/1999/xlink\" contentScriptType=\"application/ecmascript\" contentStyleType=\"text/css\" height=\"300px\" preserveAspectRatio=\"none\" style=\"width:603px;height:300px;background:#000000;\" version=\"1.1\" viewBox=\"0 0 603 300\" width=\"603px\" zoomAndPan=\"magnify\"><defs/><g><rect fill=\"#152618\" height=\"1\" style=\"stroke: #152618; stroke-width: 1.0;\" width=\"1\" x=\"0\" y=\"0\"/><rect fill=\"#FFFFFF\" height=\"202.8012\" style=\"stroke: #FFFFFF; stroke-width: 1.0;\" width=\"602\" x=\"0\" y=\"0\"/><text fill=\"#000000\" font-family=\"sans-serif\" font-size=\"12\" font-weight=\"bold\" lengthAdjust=\"spacingAndGlyphs\" textLength=\"139\" x=\"5\" y=\"16.1387\">Welcome to PlantUML!</text><text fill=\"#000000\" font-family=\"sans-serif\" font-size=\"12\" lengthAdjust=\"spacingAndGlyphs\" textLength=\"0\" x=\"9\" y=\"30.1074\"/><text fill=\"#000000\" font-family=\"sans-serif\" font-size=\"12\" lengthAdjust=\"spacingAndGlyphs\" textLength=\"293\" x=\"5\" y=\"44.0762\">If you use this software, you accept its license.</text><text fill=\"#000000\" font-family=\"sans-serif\" font-size=\"12\" lengthAdjust=\"spacingAndGlyphs\" textLength=\"107\" x=\"5\" y=\"58.0449\">(details by typing</text><text fill=\"#000000\" font-family=\"monospace\" font-size=\"12\" lengthAdjust=\"spacingAndGlyphs\" textLength=\"42\" x=\"116\" y=\"58.595\">license</text><text fill=\"#000000\" font-family=\"sans-serif\" font-size=\"12\" lengthAdjust=\"spacingAndGlyphs\" textLength=\"56\" x=\"162\" y=\"58.0449\">keyword)</text><text fill=\"#000000\" font-family=\"sans-serif\" font-size=\"12\" lengthAdjust=\"spacingAndGlyphs\" textLength=\"0\" x=\"9\" y=\"72.0137\"/><text fill=\"#000000\" font-family=\"sans-serif\" font-size=\"12\" lengthAdjust=\"spacingAndGlyphs\" textLength=\"283\" x=\"5\" y=\"85.9824\">You can start with a simple UML Diagram like:</text><text fill=\"#000000\" font-family=\"sans-serif\" font-size=\"12\" lengthAdjust=\"spacingAndGlyphs\" textLength=\"0\" x=\"9\" y=\"99.9512\"/><text fill=\"#000000\" font-family=\"monospace\" font-size=\"12\" lengthAdjust=\"spacingAndGlyphs\" textLength=\"102\" x=\"5\" y=\"113.0893\">Bob-&gt;Alice: Hello</text><text fill=\"#000000\" font-family=\"sans-serif\" font-size=\"12\" lengthAdjust=\"spacingAndGlyphs\" textLength=\"0\" x=\"9\" y=\"126.508\"/><text fill=\"#000000\" font-family=\"sans-serif\" font-size=\"12\" lengthAdjust=\"spacingAndGlyphs\" textLength=\"14\" x=\"5\" y=\"140.4768\">Or</text><text fill=\"#000000\" font-family=\"sans-serif\" font-size=\"12\" lengthAdjust=\"spacingAndGlyphs\" textLength=\"0\" x=\"9\" y=\"154.4455\"/><text fill=\"#000000\" font-family=\"monospace\" font-size=\"12\" lengthAdjust=\"spacingAndGlyphs\" textLength=\"78\" x=\"5\" y=\"167.5837\">class Example</text><text fill=\"#000000\" font-family=\"sans-serif\" font-size=\"12\" lengthAdjust=\"spacingAndGlyphs\" textLength=\"0\" x=\"9\" y=\"181.0023\"/><text fill=\"#000000\" font-family=\"sans-serif\" font-size=\"12\" lengthAdjust=\"spacingAndGlyphs\" textLength=\"349\" x=\"5\" y=\"194.9711\">You will find more information about PlantUML syntax on</text><text fill=\"#000000\" font-family=\"sans-serif\" font-size=\"12\" lengthAdjust=\"spacingAndGlyphs\" text-decoration=\"underline\" textLength=\"129\" x=\"358\" y=\"194.9711\">https://plantuml.com</text><image height=\"71\" width=\"80\" x=\"516\" xlink:href=\"data:image/png;base64,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\" y=\"6\"/><rect fill=\"#000000\" height=\"96.4844\" style=\"stroke: #000000; stroke-width: 1.0;\" width=\"602\" x=\"0\" y=\"202.8012\"/><rect fill=\"#33FF02\" height=\"21.2969\" style=\"stroke: #33FF02; stroke-width: 1.0;\" width=\"145\" x=\"5\" y=\"207.8012\"/><text fill=\"#000000\" font-family=\"sans-serif\" font-size=\"14\" font-weight=\"bold\" lengthAdjust=\"spacingAndGlyphs\" textLength=\"143\" x=\"6\" y=\"222.8012\">[From string (line 2) ]</text><text fill=\"#33FF02\" font-family=\"sans-serif\" font-size=\"14\" font-weight=\"bold\" lengthAdjust=\"spacingAndGlyphs\" textLength=\"0\" x=\"9\" y=\"243.0981\"/><text fill=\"#33FF02\" font-family=\"sans-serif\" font-size=\"14\" font-weight=\"bold\" lengthAdjust=\"spacingAndGlyphs\" textLength=\"70\" x=\"5\" y=\"259.3949\">@startuml</text><text fill=\"#33FF02\" font-family=\"sans-serif\" font-size=\"14\" font-weight=\"bold\" lengthAdjust=\"spacingAndGlyphs\" textLength=\"0\" x=\"9\" y=\"275.6918\"/><text fill=\"#FF0000\" font-family=\"sans-serif\" font-size=\"14\" font-weight=\"bold\" lengthAdjust=\"spacingAndGlyphs\" textLength=\"124\" x=\"9\" y=\"291.9887\">Empty description</text><!--MD5=[f59edd8218d337f74d0c332fc6737304]\n",
       "@startuml\r\n",
       " \r\n",
       "@enduml\r\n",
       "\n",
       "PlantUML version 1.2020.13(Sat Jun 13 12:26:38 UTC 2020)\n",
       "(EPL source distribution)\n",
       "Java Runtime: OpenJDK Runtime Environment\n",
       "JVM: OpenJDK 64-Bit Server VM\n",
       "Default Encoding: UTF-8\n",
       "Language: en\n",
       "Country: null\n",
       "--></g></svg>"
      ]
     },
     "execution_count": 32,
     "metadata": {},
     "output_type": "execute_result"
    }
   ],
   "source": [
    "%viz --style=\"PLANTUML\" --view=\"State\" \"AnalysisTest\""
   ]
  },
  {
   "cell_type": "code",
   "execution_count": 33,
   "id": "515c10c3",
   "metadata": {
    "execution": {
     "iopub.execute_input": "2021-11-13T12:57:20.059348Z",
     "iopub.status.busy": "2021-11-13T12:57:20.058941Z",
     "iopub.status.idle": "2021-11-13T12:57:20.114959Z",
     "shell.execute_reply": "2021-11-13T12:57:20.114589Z"
    }
   },
   "outputs": [
    {
     "data": {
      "image/svg+xml": [
       "<?xml version=\"1.0\" encoding=\"UTF-8\" standalone=\"no\"?><svg xmlns=\"http://www.w3.org/2000/svg\" xmlns:xlink=\"http://www.w3.org/1999/xlink\" contentScriptType=\"application/ecmascript\" contentStyleType=\"text/css\" height=\"446px\" preserveAspectRatio=\"none\" style=\"width:1175px;height:446px;\" version=\"1.1\" viewBox=\"0 0 1175 446\" width=\"1175px\" zoomAndPan=\"magnify\"><defs><filter height=\"300%\" id=\"f1mysm2yxts42c\" width=\"300%\" x=\"-1\" y=\"-1\"><feGaussianBlur result=\"blurOut\" stdDeviation=\"2.0\"/><feColorMatrix in=\"blurOut\" result=\"blurOut2\" type=\"matrix\" values=\"0 0 0 0 0 0 0 0 0 0 0 0 0 0 0 0 0 0 .4 0\"/><feOffset dx=\"4.0\" dy=\"4.0\" in=\"blurOut2\" result=\"blurOut3\"/><feBlend in=\"SourceGraphic\" in2=\"blurOut3\" mode=\"normal\"/></filter></defs><g><!--MD5=[fbc87193dbaf4d95561dea2c320d4a47]\n",
       "cluster E1--><a href=\"psysml:d47d9c93-f987-42aa-9c82-a11afa9e7a85\" target=\"_top\" title=\"psysml:d47d9c93-f987-42aa-9c82-a11afa9e7a85\" xlink:actuate=\"onRequest\" xlink:href=\"psysml:d47d9c93-f987-42aa-9c82-a11afa9e7a85\" xlink:show=\"new\" xlink:title=\"psysml:d47d9c93-f987-42aa-9c82-a11afa9e7a85\" xlink:type=\"simple\"><polygon fill=\"#FFFFFF\" filter=\"url(#f1mysm2yxts42c)\" points=\"16,6,108,6,115,28.2969,1153,28.2969,1153,434.86,16,434.86,16,6\" style=\"stroke: #000000; stroke-width: 1.5;\"/><line style=\"stroke: #000000; stroke-width: 1.5;\" x1=\"16\" x2=\"115\" y1=\"28.2969\" y2=\"28.2969\"/><text fill=\"#000000\" font-family=\"sans-serif\" font-size=\"14\" font-weight=\"bold\" lengthAdjust=\"spacingAndGlyphs\" textLength=\"86\" x=\"20\" y=\"20.9951\">AnalysisTest</text></a><!--MD5=[de5ec2e2e8f62f467e546659f5068c88]\n",
       "cluster E5--><a href=\"psysml:0d42cad1-3808-4e7b-8fe6-f660e27fd2bd\" target=\"_top\" title=\"psysml:0d42cad1-3808-4e7b-8fe6-f660e27fd2bd\" xlink:actuate=\"onRequest\" xlink:href=\"psysml:0d42cad1-3808-4e7b-8fe6-f660e27fd2bd\" xlink:show=\"new\" xlink:title=\"psysml:0d42cad1-3808-4e7b-8fe6-f660e27fd2bd\" xlink:type=\"simple\"><rect fill=\"#FFFFFF\" filter=\"url(#f1mysm2yxts42c)\" height=\"228.86\" id=\"E5\" style=\"stroke: #A80036; stroke-width: 1.5;\" width=\"146\" x=\"991\" y=\"107\"/><rect fill=\"#FEFECE\" height=\"37.9375\" style=\"stroke: #A80036; stroke-width: 1.5;\" width=\"146\" x=\"991\" y=\"107\"/><text fill=\"#000000\" font-family=\"sans-serif\" font-size=\"12\" font-style=\"italic\" lengthAdjust=\"spacingAndGlyphs\" textLength=\"88\" x=\"1020\" y=\"123.1387\">«analysis def»</text><text fill=\"#000000\" font-family=\"sans-serif\" font-size=\"12\" lengthAdjust=\"spacingAndGlyphs\" textLength=\"81\" x=\"1023.5\" y=\"137.1074\">AnalysisCase</text></a><!--MD5=[55dfccfc6c49c2d10cd1bd2211a6c90c]\n",
       "cluster E8--><a href=\"psysml:058a72e0-0a98-4261-856d-73366cf47a25\" target=\"_top\" title=\"psysml:058a72e0-0a98-4261-856d-73366cf47a25\" xlink:actuate=\"onRequest\" xlink:href=\"psysml:058a72e0-0a98-4261-856d-73366cf47a25\" xlink:show=\"new\" xlink:title=\"psysml:058a72e0-0a98-4261-856d-73366cf47a25\" xlink:type=\"simple\"><rect fill=\"#FFFFFF\" filter=\"url(#f1mysm2yxts42c)\" height=\"303.86\" id=\"E8\" style=\"stroke: #A80036; stroke-width: 1.5;\" width=\"259\" x=\"702\" y=\"107\"/><rect fill=\"#FEFECE\" height=\"37.9375\" style=\"stroke: #A80036; stroke-width: 1.5;\" width=\"259\" x=\"702\" y=\"107\"/><text fill=\"#000000\" font-family=\"sans-serif\" font-size=\"12\" font-style=\"italic\" lengthAdjust=\"spacingAndGlyphs\" textLength=\"88\" x=\"787.5\" y=\"123.1387\">«analysis def»</text><text fill=\"#000000\" font-family=\"sans-serif\" font-size=\"12\" lengthAdjust=\"spacingAndGlyphs\" textLength=\"77\" x=\"793\" y=\"137.1074\">AnalysisPlan</text></a><!--MD5=[a84b4591f868c1fa4a211716a82f2f0d]\n",
       "cluster E10--><a href=\"psysml:ebac0614-db53-4f6a-a11b-2a64966401ed\" target=\"_top\" title=\"psysml:ebac0614-db53-4f6a-a11b-2a64966401ed\" xlink:actuate=\"onRequest\" xlink:href=\"psysml:ebac0614-db53-4f6a-a11b-2a64966401ed\" xlink:show=\"new\" xlink:title=\"psysml:ebac0614-db53-4f6a-a11b-2a64966401ed\" xlink:type=\"simple\"><rect fill=\"#FFFFFF\" filter=\"url(#f1mysm2yxts42c)\" height=\"165.86\" id=\"E10\" rx=\"10\" ry=\"10\" style=\"stroke: #A80036; stroke-width: 1.5;\" width=\"138\" x=\"785\" y=\"207\"/><rect fill=\"#FEFECE\" height=\"37.9375\" rx=\"10\" ry=\"10\" style=\"stroke: #FEFECE; stroke-width: 1.5;\" width=\"138\" x=\"785\" y=\"207\"/><rect fill=\"#FEFECE\" height=\"10\" style=\"stroke: #FEFECE; stroke-width: 1.5;\" width=\"138\" x=\"785\" y=\"234.9375\"/><rect fill=\"none\" height=\"165.86\" id=\"E10\" rx=\"10\" ry=\"10\" style=\"stroke: #A80036; stroke-width: 1.5;\" width=\"138\" x=\"785\" y=\"207\"/><text fill=\"#000000\" font-family=\"sans-serif\" font-size=\"12\" font-style=\"italic\" lengthAdjust=\"spacingAndGlyphs\" textLength=\"64\" x=\"822\" y=\"223.1387\">«analysis»</text><text fill=\"#000000\" font-family=\"sans-serif\" font-size=\"12\" lengthAdjust=\"spacingAndGlyphs\" textLength=\"81\" x=\"813.5\" y=\"237.1074\">analysisCase</text><line style=\"stroke: #A80036; stroke-width: 1.0;\" x1=\"785\" x2=\"923\" y1=\"244.9375\" y2=\"244.9375\"/></a><!--MD5=[bcf29f0808fc96f19b1afbee8cfc1f11]\n",
       "cluster E14--><a href=\"psysml:2f29b586-744b-44a6-b354-0cb36fac52ba\" target=\"_top\" title=\"psysml:2f29b586-744b-44a6-b354-0cb36fac52ba\" xlink:actuate=\"onRequest\" xlink:href=\"psysml:2f29b586-744b-44a6-b354-0cb36fac52ba\" xlink:show=\"new\" xlink:title=\"psysml:2f29b586-744b-44a6-b354-0cb36fac52ba\" xlink:type=\"simple\"><rect fill=\"#FFFFFF\" filter=\"url(#f1mysm2yxts42c)\" height=\"197\" id=\"E14\" rx=\"10\" ry=\"10\" style=\"stroke: #A80036; stroke-width: 1.5;\" width=\"230\" x=\"385\" y=\"49\"/><rect fill=\"#FEFECE\" height=\"23.9688\" rx=\"10\" ry=\"10\" style=\"stroke: #FEFECE; stroke-width: 1.5;\" width=\"230\" x=\"385\" y=\"49\"/><rect fill=\"#FEFECE\" height=\"10\" style=\"stroke: #FEFECE; stroke-width: 1.5;\" width=\"230\" x=\"385\" y=\"62.9688\"/><rect fill=\"none\" height=\"197\" id=\"E14\" rx=\"10\" ry=\"10\" style=\"stroke: #A80036; stroke-width: 1.5;\" width=\"230\" x=\"385\" y=\"49\"/><text fill=\"#000000\" font-family=\"sans-serif\" font-size=\"12\" lengthAdjust=\"spacingAndGlyphs\" textLength=\"98\" x=\"451\" y=\"65.1387\">analysisContext</text><line style=\"stroke: #A80036; stroke-width: 1.0;\" x1=\"385\" x2=\"615\" y1=\"72.9688\" y2=\"72.9688\"/></a><!--MD5=[ebbe1d658d1005bcc118a6aa81145e00]\n",
       "class E4--><a href=\"psysml:31fce779-d9ab-452b-8111-7f3c68bff972\" target=\"_top\" title=\"psysml:31fce779-d9ab-452b-8111-7f3c68bff972\" xlink:actuate=\"onRequest\" xlink:href=\"psysml:31fce779-d9ab-452b-8111-7f3c68bff972\" xlink:show=\"new\" xlink:title=\"psysml:31fce779-d9ab-452b-8111-7f3c68bff972\" xlink:type=\"simple\"><rect fill=\"#FEFECE\" filter=\"url(#f1mysm2yxts42c)\" height=\"66.7422\" id=\"E4\" style=\"stroke: #A80036; stroke-width: 1.5;\" width=\"147\" x=\"218.5\" y=\"73.5\"/><ellipse cx=\"233.5\" cy=\"92.4688\" fill=\"#A52A2A\" rx=\"11\" ry=\"11\" style=\"stroke: #A80036; stroke-width: 1.0;\"/><path d=\"M230.7188,97.4688 L230.7188,86.875 L233.4531,86.875 Q234.8438,86.875 235.6094,87.2656 Q236.3906,87.6406 236.9219,88.3438 Q237.4531,89.0469 237.75,90.0469 Q238.0469,91.0313 238.0469,92.25 Q238,93.8438 237.5,95.0313 Q237.0156,96.2031 235.9688,96.8438 Q234.9375,97.4688 233.25,97.4688 L230.7188,97.4688 Z M232.5781,95.9688 L233.2031,95.9688 Q234.2813,95.9688 234.9375,95.5156 Q235.5938,95.0625 235.875,94.2344 Q236.1719,93.3906 236.1563,92.2656 Q236.1563,91.0938 235.9063,90.2344 Q235.6563,89.3594 235.0469,88.8906 Q234.4375,88.4063 233.3906,88.4063 L232.5781,88.4063 L232.5781,95.9688 Z \"/><text fill=\"#000000\" font-family=\"sans-serif\" font-size=\"12\" font-style=\"italic\" lengthAdjust=\"spacingAndGlyphs\" textLength=\"119\" x=\"245.5\" y=\"89.6387\">«requirement  def»</text><text fill=\"#000000\" font-family=\"sans-serif\" font-size=\"12\" lengthAdjust=\"spacingAndGlyphs\" textLength=\"107\" x=\"251.5\" y=\"103.6074\">AnalysisObjective</text><line style=\"stroke: #A80036; stroke-width: 1.5;\" x1=\"219.5\" x2=\"364.5\" y1=\"111.4375\" y2=\"111.4375\"/><text fill=\"#000000\" font-family=\"sans-serif\" font-size=\"11\" lengthAdjust=\"spacingAndGlyphs\" textLength=\"12\" x=\"224.5\" y=\"125.6479\">...</text><line style=\"stroke: #A80036; stroke-width: 1.0;\" x1=\"219.5\" x2=\"364.5\" y1=\"132.2422\" y2=\"132.2422\"/></a><g id=\"E1.E2\"><a href=\"psysml:6e318fc7-f06d-4e4c-8e44-1e6d0f884455\" target=\"_top\" title=\"psysml:6e318fc7-f06d-4e4c-8e44-1e6d0f884455\" xlink:actuate=\"onRequest\" xlink:href=\"psysml:6e318fc7-f06d-4e4c-8e44-1e6d0f884455\" xlink:show=\"new\" xlink:title=\"psysml:6e318fc7-f06d-4e4c-8e44-1e6d0f884455\" xlink:type=\"simple\"><rect fill=\"#FEFECE\" filter=\"url(#f1mysm2yxts42c)\" height=\"40\" id=\"E2\" style=\"stroke: #A80036; stroke-width: 1.5;\" width=\"50\" x=\"133\" y=\"87\"/><ellipse cx=\"152.5\" cy=\"103\" fill=\"#008000\" rx=\"11\" ry=\"11\" style=\"stroke: #A80036; stroke-width: 1.0;\"/><path d=\"M149.375,108 L149.375,97.4063 L152.6094,97.4063 Q154.5156,97.4063 155.4219,98.1563 Q156.3438,98.9063 156.3438,100.0781 Q156.3438,100.7656 155.9531,101.4219 Q155.5781,102.0781 154.8594,102.375 Q155.7188,102.75 156.2344,103.4375 Q156.75,104.125 156.75,104.9375 Q156.75,106.3125 155.7188,107.1563 Q154.7031,108 152.5938,108 L149.375,108 Z M151.2969,101.6406 L152.4531,101.6406 Q153.5781,101.6406 153.9844,101.2656 Q154.4063,100.875 154.4063,100.25 Q154.4063,99.6719 153.9844,99.3125 Q153.5625,98.9531 152.625,98.9531 L151.2969,98.9531 L151.2969,101.6406 Z M151.2969,106.4219 L152.7969,106.4219 Q153.7031,106.4219 154.2344,106.0313 Q154.7656,105.6406 154.7656,104.8906 Q154.7656,104.125 154.2656,103.6563 Q153.7656,103.1719 152.5,103.1719 L151.2969,103.1719 L151.2969,106.4219 Z \"/><text fill=\"#000000\" font-family=\"sans-serif\" font-size=\"12\" lengthAdjust=\"spacingAndGlyphs\" textLength=\"8\" x=\"167.5\" y=\"107.1543\">V</text></a></g><g id=\"E1.E3\"><a href=\"psysml:27999d5c-daad-4ed7-92ff-020a622ea083\" target=\"_top\" title=\"psysml:27999d5c-daad-4ed7-92ff-020a622ea083\" xlink:actuate=\"onRequest\" xlink:href=\"psysml:27999d5c-daad-4ed7-92ff-020a622ea083\" xlink:show=\"new\" xlink:title=\"psysml:27999d5c-daad-4ed7-92ff-020a622ea083\" xlink:type=\"simple\"><rect fill=\"#FEFECE\" filter=\"url(#f1mysm2yxts42c)\" height=\"40\" id=\"E3\" rx=\"10\" ry=\"10\" style=\"stroke: #A80036; stroke-width: 1.5;\" width=\"65\" x=\"32.5\" y=\"87\"/><ellipse cx=\"49.75\" cy=\"103\" fill=\"#B6DBBB\" rx=\"11\" ry=\"11\" style=\"stroke: #A80036; stroke-width: 1.0;\"/><path d=\"M49.5,108.4688 Q47.75,108.4688 46.7969,107.4375 Q45.8594,106.3906 45.8594,104.5469 L45.8594,97.6563 L47.9219,97.6563 L47.9219,97.8125 Q47.8281,97.9063 47.7969,98.0469 Q47.7813,98.1719 47.7813,98.4375 L47.7813,104.5625 Q47.7813,105.6563 48.1563,106.2813 Q48.5313,106.9063 49.5156,106.9063 Q50.5,106.9063 50.8906,106.2813 Q51.2813,105.6563 51.2813,104.5156 L51.2813,97.6563 L53.1563,97.6563 L53.1563,104.5 Q53.1563,106.5313 52.125,107.5 Q51.1094,108.4688 49.5,108.4688 Z \"/><text fill=\"#000000\" font-family=\"sans-serif\" font-size=\"12\" lengthAdjust=\"spacingAndGlyphs\" textLength=\"28\" x=\"64.25\" y=\"107.1543\">vv: V</text></a></g><text fill=\"#000000\" font-family=\"sans-serif\" font-size=\"14\" lengthAdjust=\"spacingAndGlyphs\" textLength=\"7\" x=\"1060.5\" y=\"85.6982\">v</text><rect fill=\"#A80036\" height=\"12\" style=\"stroke: #FEFECE; stroke-width: 1.5;\" width=\"12\" x=\"1058\" y=\"101\"/><text fill=\"#000000\" font-family=\"sans-serif\" font-size=\"14\" lengthAdjust=\"spacingAndGlyphs\" textLength=\"39\" x=\"1044.5\" y=\"354.8551\">result</text><rect fill=\"#A80036\" height=\"12\" style=\"stroke: #FEFECE; stroke-width: 1.5;\" width=\"12\" x=\"1058\" y=\"329.86\"/><text fill=\"#000000\" font-family=\"sans-serif\" font-size=\"14\" lengthAdjust=\"spacingAndGlyphs\" textLength=\"7\" x=\"716.5\" y=\"85.6982\">v</text><rect fill=\"#A80036\" height=\"12\" style=\"stroke: #FEFECE; stroke-width: 1.5;\" width=\"12\" x=\"714\" y=\"101\"/><text fill=\"#000000\" font-family=\"sans-serif\" font-size=\"14\" lengthAdjust=\"spacingAndGlyphs\" textLength=\"39\" x=\"941.5\" y=\"354.8551\">result</text><rect fill=\"#A80036\" height=\"12\" style=\"stroke: #FEFECE; stroke-width: 1.5;\" width=\"12\" x=\"955\" y=\"329.86\"/><text fill=\"#000000\" font-family=\"sans-serif\" font-size=\"14\" lengthAdjust=\"spacingAndGlyphs\" textLength=\"37\" x=\"835.5\" y=\"391.8551\">mass</text><rect fill=\"#A80036\" height=\"12\" style=\"stroke: #FEFECE; stroke-width: 1.5;\" width=\"12\" x=\"848\" y=\"366.86\"/><text fill=\"#000000\" font-family=\"sans-serif\" font-size=\"14\" lengthAdjust=\"spacingAndGlyphs\" textLength=\"7\" x=\"850.5\" y=\"185.6982\">v</text><rect fill=\"#A80036\" height=\"12\" style=\"stroke: #FEFECE; stroke-width: 1.5;\" width=\"12\" x=\"848\" y=\"201\"/><!--MD5=[0c48fb7552dae8cbbef69381101a84c8]\n",
       "class E15--><a href=\"psysml:cfe8b385-7bc2-406c-91e1-db9911ba5874\" target=\"_top\" title=\"psysml:cfe8b385-7bc2-406c-91e1-db9911ba5874\" xlink:actuate=\"onRequest\" xlink:href=\"psysml:cfe8b385-7bc2-406c-91e1-db9911ba5874\" xlink:show=\"new\" xlink:title=\"psysml:cfe8b385-7bc2-406c-91e1-db9911ba5874\" xlink:type=\"simple\"><rect fill=\"#FEFECE\" filter=\"url(#f1mysm2yxts42c)\" height=\"45.9375\" id=\"E15\" rx=\"10\" ry=\"10\" style=\"stroke: #A80036; stroke-width: 1.5;\" width=\"198\" x=\"401\" y=\"84\"/><ellipse cx=\"416\" cy=\"102.9688\" fill=\"#B6DBBB\" rx=\"11\" ry=\"11\" style=\"stroke: #A80036; stroke-width: 1.0;\"/><path d=\"M415.75,108.4375 Q414,108.4375 413.0469,107.4063 Q412.1094,106.3594 412.1094,104.5156 L412.1094,97.625 L414.1719,97.625 L414.1719,97.7813 Q414.0781,97.875 414.0469,98.0156 Q414.0313,98.1406 414.0313,98.4063 L414.0313,104.5313 Q414.0313,105.625 414.4063,106.25 Q414.7813,106.875 415.7656,106.875 Q416.75,106.875 417.1406,106.25 Q417.5313,105.625 417.5313,104.4844 L417.5313,97.625 L419.4063,97.625 L419.4063,104.4688 Q419.4063,106.5 418.375,107.4688 Q417.3594,108.4375 415.75,108.4375 Z \"/><text fill=\"#000000\" font-family=\"sans-serif\" font-size=\"12\" font-style=\"italic\" lengthAdjust=\"spacingAndGlyphs\" textLength=\"64\" x=\"481\" y=\"100.1387\">«analysis»</text><text fill=\"#000000\" font-family=\"sans-serif\" font-size=\"12\" lengthAdjust=\"spacingAndGlyphs\" textLength=\"162\" x=\"430\" y=\"114.1074\">analysisPlan: AnalysisPlan</text><line style=\"stroke: #A80036; stroke-width: 1.5;\" x1=\"402\" x2=\"598\" y1=\"121.9375\" y2=\"121.9375\"/></a><!--MD5=[35f0587eaee8d5bb9a02e25b63afc23b]\n",
       "class E16--><a href=\"psysml:63325e1e-8a82-4691-b26b-3354962a7cad\" target=\"_top\" title=\"psysml:63325e1e-8a82-4691-b26b-3354962a7cad\" xlink:actuate=\"onRequest\" xlink:href=\"psysml:63325e1e-8a82-4691-b26b-3354962a7cad\" xlink:show=\"new\" xlink:title=\"psysml:63325e1e-8a82-4691-b26b-3354962a7cad\" xlink:type=\"simple\"><rect fill=\"#FEFECE\" filter=\"url(#f1mysm2yxts42c)\" height=\"45.9375\" id=\"E16\" rx=\"10\" ry=\"10\" style=\"stroke: #A80036; stroke-width: 1.5;\" width=\"119\" x=\"440.5\" y=\"184\"/><ellipse cx=\"455.5\" cy=\"202.9688\" fill=\"#FFA500\" rx=\"11\" ry=\"11\" style=\"stroke: #A80036; stroke-width: 1.0;\"/><path d=\"M455.25,208.4375 Q453.5,208.4375 452.5469,207.4063 Q451.6094,206.3594 451.6094,204.5156 L451.6094,197.625 L453.6719,197.625 L453.6719,197.7813 Q453.5781,197.875 453.5469,198.0156 Q453.5313,198.1406 453.5313,198.4063 L453.5313,204.5313 Q453.5313,205.625 453.9063,206.25 Q454.2813,206.875 455.2656,206.875 Q456.25,206.875 456.6406,206.25 Q457.0313,205.625 457.0313,204.4844 L457.0313,197.625 L458.9063,197.625 L458.9063,204.4688 Q458.9063,206.5 457.875,207.4688 Q456.8594,208.4375 455.25,208.4375 Z \"/><text fill=\"#000000\" font-family=\"sans-serif\" font-size=\"12\" font-style=\"italic\" lengthAdjust=\"spacingAndGlyphs\" textLength=\"91\" x=\"467.5\" y=\"200.1387\">«requirement»</text><text fill=\"#000000\" font-family=\"sans-serif\" font-size=\"12\" lengthAdjust=\"spacingAndGlyphs\" textLength=\"19\" x=\"503.5\" y=\"214.1074\">obj</text><line style=\"stroke: #A80036; stroke-width: 1.5;\" x1=\"441.5\" x2=\"558.5\" y1=\"221.9375\" y2=\"221.9375\"/></a><!--MD5=[1b01d5b954197aaf3899ca0bde35faf5]\n",
       "link E15 to E8--><a href=\"psysml:b8e5c057-83f1-47ef-94c9-1676b303e623\" target=\"_top\" title=\"psysml:b8e5c057-83f1-47ef-94c9-1676b303e623\" xlink:actuate=\"onRequest\" xlink:href=\"psysml:b8e5c057-83f1-47ef-94c9-1676b303e623\" xlink:show=\"new\" xlink:title=\"psysml:b8e5c057-83f1-47ef-94c9-1676b303e623\" xlink:type=\"simple\"><path d=\"M549.65,130.12 C590.07,148.12 646.25,173.15 682.86,189.46 \" fill=\"none\" id=\"E15-&gt;E8\" style=\"stroke: #A80036; stroke-width: 1.0;\"/><polygon fill=\"#FFFFFF\" points=\"682.86,189.46,662.6558,188.1221,668.3531,175.3338,682.86,189.46\" style=\"stroke: #A80036; stroke-width: 1.0;\"/><ellipse cx=\"658.263\" cy=\"183.9756\" fill=\"#A80036\" rx=\"2\" ry=\"2\" style=\"stroke: #A80036; stroke-width: 1.0;\"/><ellipse cx=\"662.3325\" cy=\"174.8411\" fill=\"#A80036\" rx=\"2\" ry=\"2\" style=\"stroke: #A80036; stroke-width: 1.0;\"/></a><!--MD5=[f8b155c46b092be73bb522b0a8fc72a2]\n",
       "link E15 to E16--><a href=\"psysml:7d3bd451-2ef5-4e75-9594-2e0dd7330291\" target=\"_top\" title=\"psysml:7d3bd451-2ef5-4e75-9594-2e0dd7330291\" xlink:actuate=\"onRequest\" xlink:href=\"psysml:7d3bd451-2ef5-4e75-9594-2e0dd7330291\" xlink:show=\"new\" xlink:title=\"psysml:7d3bd451-2ef5-4e75-9594-2e0dd7330291\" xlink:type=\"simple\"><path d=\"M500,130.24 C500,143.64 500,160.91 500,175.57 \" fill=\"none\" id=\"E15-&gt;E16\" style=\"stroke: #A80036; stroke-width: 1.0;\"/><polygon fill=\"#A80036\" points=\"500,183.85,503,175.85,497,175.85,500,183.85\" style=\"stroke: #A80036; stroke-width: 1.0;\"/><text fill=\"#000000\" font-family=\"sans-serif\" font-size=\"13\" lengthAdjust=\"spacingAndGlyphs\" textLength=\"73\" x=\"501\" y=\"161.5669\">«objective»</text><text fill=\"#000000\" font-family=\"sans-serif\" font-size=\"13\" lengthAdjust=\"spacingAndGlyphs\" textLength=\"8\" x=\"490.975\" y=\"173.0879\">1</text></a><!--MD5=[6ce5334d47c1e5d9ab1967a3984b884a]\n",
       "@startuml\r\n",
       "skinparam ranksep 10\r\n",
       "skinparam rectangle {\r\n",
       " backgroundColor<<block>> LightGreen\r\n",
       "}\r\n",
       " \r\n",
       "package \"AnalysisTest\" as E1  [[psysml:d47d9c93-f987-42aa-9c82-a11afa9e7a85 ]]  {\r\n",
       "rec def \"V\" as E2 << << (B,green) >> [[psysml:6e318fc7-f06d-4e4c-8e44-1e6d0f884455 ]] {\r\n",
       "}\r\n",
       "rec usage \"vv: V\" as E3  [[psysml:27999d5c-daad-4ed7-92ff-020a622ea083 ]] {\r\n",
       "}\r\n",
       "comp def \"AnalysisObjective\" as E4 << <<(D,brown) requirement  def>> [[psysml:31fce779-d9ab-452b-8111-7f3c68bff972 ]] {\r\n",
       "...\r\n",
       "- -\r\n",
       "}\r\n",
       "rec def \"AnalysisCase\" as E5 << analysis def>> [[psysml:0d42cad1-3808-4e7b-8fe6-f660e27fd2bd ]] {\r\n",
       "portin \"v\" as E6  [[psysml:f7aad551-6165-4689-8df3-b128f6f54571 ]] \r\n",
       "portout \"result\" as E7  [[psysml:d8a9a5d1-c1b2-404a-b54f-35037ecf4c2d ]] \r\n",
       "}\r\n",
       "\r\n",
       "rec def \"AnalysisPlan\" as E8 << analysis def>> [[psysml:058a72e0-0a98-4261-856d-73366cf47a25 ]] {\r\n",
       "portin \"v\" as E9  [[psysml:40d43c87-89d5-4dcb-a988-f011f6f29ac5 ]] \r\n",
       "rec usage \"analysisCase\" as E10 << analysis>> [[psysml:ebac0614-db53-4f6a-a11b-2a64966401ed ]] {\r\n",
       "portout \"mass\" as E11  [[psysml:94298e01-1500-44a7-8244-0cc3e5620ae6 ]] \r\n",
       "portin \"v\" as E12  [[psysml:fabccdcf-1c94-4d5c-8a0b-5626b651aa80 ]] \r\n",
       "}\r\n",
       "\r\n",
       "portout \"result\" as E13  [[psysml:633f1383-e65f-4e22-9e6d-6ffcdde4bc38 ]] \r\n",
       "}\r\n",
       "\r\n",
       "rec usage \"analysisContext\" as E14  [[psysml:2f29b586-744b-44a6-b354-0cb36fac52ba ]] {\r\n",
       "comp usage \"analysisPlan: AnalysisPlan \" as E15 << analysis>> [[psysml:cfe8b385-7bc2-406c-91e1-db9911ba5874 ]] {\r\n",
       "}\r\n",
       "comp usage \"obj\" as E16 << <<(U,orange) requirement>> [[psysml:63325e1e-8a82-4691-b26b-3354962a7cad ]] {\r\n",
       "}\r\n",
       "}\r\n",
       "}\r\n",
       "E15 - -:|> E8 [[psysml:b8e5c057-83f1-47ef-94c9-1676b303e623 ]] \r\n",
       "E15 - ->> \"1\"E16 [[psysml:7d3bd451-2ef5-4e75-9594-2e0dd7330291 ]] : <<objective>>\r\n",
       "@enduml\r\n",
       "\n",
       "PlantUML version 1.2020.13(Sat Jun 13 12:26:38 UTC 2020)\n",
       "(EPL source distribution)\n",
       "Java Runtime: OpenJDK Runtime Environment\n",
       "JVM: OpenJDK 64-Bit Server VM\n",
       "Default Encoding: UTF-8\n",
       "Language: en\n",
       "Country: null\n",
       "--></g></svg>"
      ]
     },
     "execution_count": 33,
     "metadata": {},
     "output_type": "execute_result"
    }
   ],
   "source": [
    "%viz --style=\"PLANTUML\" --view=\"Interconnection\" \"AnalysisTest\""
   ]
  },
  {
   "cell_type": "code",
   "execution_count": 34,
   "id": "464732fa",
   "metadata": {
    "execution": {
     "iopub.execute_input": "2021-11-13T12:57:20.163995Z",
     "iopub.status.busy": "2021-11-13T12:57:20.163570Z",
     "iopub.status.idle": "2021-11-13T12:57:20.207699Z",
     "shell.execute_reply": "2021-11-13T12:57:20.205744Z"
    }
   },
   "outputs": [
    {
     "data": {
      "image/svg+xml": [
       "<?xml version=\"1.0\" encoding=\"UTF-8\" standalone=\"no\"?><svg xmlns=\"http://www.w3.org/2000/svg\" xmlns:xlink=\"http://www.w3.org/1999/xlink\" contentScriptType=\"application/ecmascript\" contentStyleType=\"text/css\" height=\"241px\" preserveAspectRatio=\"none\" style=\"width:656px;height:241px;\" version=\"1.1\" viewBox=\"0 0 656 241\" width=\"656px\" zoomAndPan=\"magnify\"><defs><filter height=\"300%\" id=\"f109887qwhnfoy\" width=\"300%\" x=\"-1\" y=\"-1\"><feGaussianBlur result=\"blurOut\" stdDeviation=\"2.0\"/><feColorMatrix in=\"blurOut\" result=\"blurOut2\" type=\"matrix\" values=\"0 0 0 0 0 0 0 0 0 0 0 0 0 0 0 0 0 0 .4 0\"/><feOffset dx=\"4.0\" dy=\"4.0\" in=\"blurOut2\" result=\"blurOut3\"/><feBlend in=\"SourceGraphic\" in2=\"blurOut3\" mode=\"normal\"/></filter></defs><g><!--MD5=[fbc87193dbaf4d95561dea2c320d4a47]\n",
       "cluster E1--><a href=\"psysml:0d42cad1-3808-4e7b-8fe6-f660e27fd2bd\" target=\"_top\" title=\"psysml:0d42cad1-3808-4e7b-8fe6-f660e27fd2bd\" xlink:actuate=\"onRequest\" xlink:href=\"psysml:0d42cad1-3808-4e7b-8fe6-f660e27fd2bd\" xlink:show=\"new\" xlink:title=\"psysml:0d42cad1-3808-4e7b-8fe6-f660e27fd2bd\" xlink:type=\"simple\"><rect fill=\"#FFFFFF\" filter=\"url(#f109887qwhnfoy)\" height=\"122\" id=\"E1\" style=\"stroke: #A80036; stroke-width: 1.5;\" width=\"146\" x=\"7\" y=\"42.0986\"/><rect fill=\"#FEFECE\" height=\"37.9375\" style=\"stroke: #A80036; stroke-width: 1.5;\" width=\"146\" x=\"7\" y=\"42.0986\"/><text fill=\"#000000\" font-family=\"sans-serif\" font-size=\"12\" font-style=\"italic\" lengthAdjust=\"spacingAndGlyphs\" textLength=\"88\" x=\"36\" y=\"58.2373\">«analysis def»</text><text fill=\"#000000\" font-family=\"sans-serif\" font-size=\"12\" lengthAdjust=\"spacingAndGlyphs\" textLength=\"81\" x=\"39.5\" y=\"72.2061\">AnalysisCase</text></a><!--MD5=[f6df4d0ebaf0b5dfb2ced0ae5af7c670]\n",
       "cluster E4--><a href=\"psysml:058a72e0-0a98-4261-856d-73366cf47a25\" target=\"_top\" title=\"psysml:058a72e0-0a98-4261-856d-73366cf47a25\" xlink:actuate=\"onRequest\" xlink:href=\"psysml:058a72e0-0a98-4261-856d-73366cf47a25\" xlink:show=\"new\" xlink:title=\"psysml:058a72e0-0a98-4261-856d-73366cf47a25\" xlink:type=\"simple\"><rect fill=\"#FFFFFF\" filter=\"url(#f109887qwhnfoy)\" height=\"180\" id=\"E4\" style=\"stroke: #A80036; stroke-width: 1.5;\" width=\"262\" x=\"216\" y=\"42.0986\"/><rect fill=\"#FEFECE\" height=\"37.9375\" style=\"stroke: #A80036; stroke-width: 1.5;\" width=\"262\" x=\"216\" y=\"42.0986\"/><text fill=\"#000000\" font-family=\"sans-serif\" font-size=\"12\" font-style=\"italic\" lengthAdjust=\"spacingAndGlyphs\" textLength=\"88\" x=\"303\" y=\"58.2373\">«analysis def»</text><text fill=\"#000000\" font-family=\"sans-serif\" font-size=\"12\" lengthAdjust=\"spacingAndGlyphs\" textLength=\"77\" x=\"308.5\" y=\"72.2061\">AnalysisPlan</text></a><!--MD5=[14e3b0961a2654348d326746436168a1]\n",
       "cluster E6--><a href=\"psysml:ebac0614-db53-4f6a-a11b-2a64966401ed\" target=\"_top\" title=\"psysml:ebac0614-db53-4f6a-a11b-2a64966401ed\" xlink:actuate=\"onRequest\" xlink:href=\"psysml:ebac0614-db53-4f6a-a11b-2a64966401ed\" xlink:show=\"new\" xlink:title=\"psysml:ebac0614-db53-4f6a-a11b-2a64966401ed\" xlink:type=\"simple\"><rect fill=\"#FFFFFF\" filter=\"url(#f109887qwhnfoy)\" height=\"110.5\" id=\"E6\" rx=\"10\" ry=\"10\" style=\"stroke: #A80036; stroke-width: 1.5;\" width=\"138\" x=\"299\" y=\"81.5986\"/><rect fill=\"#FEFECE\" height=\"37.9375\" rx=\"10\" ry=\"10\" style=\"stroke: #FEFECE; stroke-width: 1.5;\" width=\"138\" x=\"299\" y=\"81.5986\"/><rect fill=\"#FEFECE\" height=\"10\" style=\"stroke: #FEFECE; stroke-width: 1.5;\" width=\"138\" x=\"299\" y=\"109.5361\"/><rect fill=\"none\" height=\"110.5\" id=\"E6\" rx=\"10\" ry=\"10\" style=\"stroke: #A80036; stroke-width: 1.5;\" width=\"138\" x=\"299\" y=\"81.5986\"/><text fill=\"#000000\" font-family=\"sans-serif\" font-size=\"12\" font-style=\"italic\" lengthAdjust=\"spacingAndGlyphs\" textLength=\"64\" x=\"336\" y=\"97.7373\">«analysis»</text><text fill=\"#000000\" font-family=\"sans-serif\" font-size=\"12\" lengthAdjust=\"spacingAndGlyphs\" textLength=\"81\" x=\"327.5\" y=\"111.7061\">analysisCase</text><line style=\"stroke: #A80036; stroke-width: 1.0;\" x1=\"299\" x2=\"437\" y1=\"119.5361\" y2=\"119.5361\"/></a><!--MD5=[a84b4591f868c1fa4a211716a82f2f0d]\n",
       "cluster E10--><a href=\"psysml:cfe8b385-7bc2-406c-91e1-db9911ba5874\" target=\"_top\" title=\"psysml:cfe8b385-7bc2-406c-91e1-db9911ba5874\" xlink:actuate=\"onRequest\" xlink:href=\"psysml:cfe8b385-7bc2-406c-91e1-db9911ba5874\" xlink:show=\"new\" xlink:title=\"psysml:cfe8b385-7bc2-406c-91e1-db9911ba5874\" xlink:type=\"simple\"><rect fill=\"#FFFFFF\" filter=\"url(#f109887qwhnfoy)\" height=\"122\" id=\"E10\" rx=\"10\" ry=\"10\" style=\"stroke: #A80036; stroke-width: 1.5;\" width=\"130\" x=\"507\" y=\"42.0986\"/><rect fill=\"#FEFECE\" height=\"37.9375\" rx=\"10\" ry=\"10\" style=\"stroke: #FEFECE; stroke-width: 1.5;\" width=\"130\" x=\"507\" y=\"42.0986\"/><rect fill=\"#FEFECE\" height=\"10\" style=\"stroke: #FEFECE; stroke-width: 1.5;\" width=\"130\" x=\"507\" y=\"70.0361\"/><rect fill=\"none\" height=\"122\" id=\"E10\" rx=\"10\" ry=\"10\" style=\"stroke: #A80036; stroke-width: 1.5;\" width=\"130\" x=\"507\" y=\"42.0986\"/><text fill=\"#000000\" font-family=\"sans-serif\" font-size=\"12\" font-style=\"italic\" lengthAdjust=\"spacingAndGlyphs\" textLength=\"64\" x=\"540\" y=\"58.2373\">«analysis»</text><text fill=\"#000000\" font-family=\"sans-serif\" font-size=\"12\" lengthAdjust=\"spacingAndGlyphs\" textLength=\"77\" x=\"533.5\" y=\"72.2061\">analysisPlan</text><line style=\"stroke: #A80036; stroke-width: 1.0;\" x1=\"507\" x2=\"637\" y1=\"80.0361\" y2=\"80.0361\"/></a><text fill=\"#000000\" font-family=\"sans-serif\" font-size=\"14\" lengthAdjust=\"spacingAndGlyphs\" textLength=\"7\" x=\"76.5\" y=\"20.7969\">v</text><rect fill=\"#A80036\" height=\"12\" style=\"stroke: #FEFECE; stroke-width: 1.5;\" width=\"12\" x=\"74\" y=\"36.0986\"/><text fill=\"#000000\" font-family=\"sans-serif\" font-size=\"14\" lengthAdjust=\"spacingAndGlyphs\" textLength=\"39\" x=\"60.5\" y=\"183.0938\">result</text><rect fill=\"#A80036\" height=\"12\" style=\"stroke: #FEFECE; stroke-width: 1.5;\" width=\"12\" x=\"74\" y=\"158.0986\"/><text fill=\"#000000\" font-family=\"sans-serif\" font-size=\"14\" lengthAdjust=\"spacingAndGlyphs\" textLength=\"7\" x=\"230.5\" y=\"20.7969\">v</text><rect fill=\"#A80036\" height=\"12\" style=\"stroke: #FEFECE; stroke-width: 1.5;\" width=\"12\" x=\"228\" y=\"36.0986\"/><text fill=\"#000000\" font-family=\"sans-serif\" font-size=\"14\" lengthAdjust=\"spacingAndGlyphs\" textLength=\"39\" x=\"458.5\" y=\"183.0938\">result</text><rect fill=\"#A80036\" height=\"12\" style=\"stroke: #FEFECE; stroke-width: 1.5;\" width=\"12\" x=\"472\" y=\"158.0986\"/><text fill=\"#000000\" font-family=\"sans-serif\" font-size=\"14\" lengthAdjust=\"spacingAndGlyphs\" textLength=\"37\" x=\"349.5\" y=\"211.0938\">mass</text><rect fill=\"#A80036\" height=\"12\" style=\"stroke: #FEFECE; stroke-width: 1.5;\" width=\"12\" x=\"362\" y=\"186.0986\"/><text fill=\"#000000\" font-family=\"sans-serif\" font-size=\"14\" lengthAdjust=\"spacingAndGlyphs\" textLength=\"7\" x=\"364.5\" y=\"60.2969\">v</text><rect fill=\"#A80036\" height=\"12\" style=\"stroke: #FEFECE; stroke-width: 1.5;\" width=\"12\" x=\"362\" y=\"75.5986\"/><text fill=\"#000000\" font-family=\"sans-serif\" font-size=\"14\" lengthAdjust=\"spacingAndGlyphs\" textLength=\"7\" x=\"567.5\" y=\"20.7969\">v</text><rect fill=\"#A80036\" height=\"12\" style=\"stroke: #FEFECE; stroke-width: 1.5;\" width=\"12\" x=\"565\" y=\"36.0986\"/><text fill=\"#000000\" font-family=\"sans-serif\" font-size=\"14\" lengthAdjust=\"spacingAndGlyphs\" textLength=\"39\" x=\"505.5\" y=\"183.0938\">result</text><rect fill=\"#A80036\" height=\"12\" style=\"stroke: #FEFECE; stroke-width: 1.5;\" width=\"12\" x=\"519\" y=\"158.0986\"/><!--MD5=[d2969b741bc5af16af42c25b49dca895]\n",
       "@startuml\r\n",
       "skinparam ranksep 8\r\n",
       " \r\n",
       "rec def \"AnalysisCase\" as E1 << analysis def>> [[psysml:0d42cad1-3808-4e7b-8fe6-f660e27fd2bd ]] {\r\n",
       "portin \"v\" as E2  [[psysml:f7aad551-6165-4689-8df3-b128f6f54571 ]] \r\n",
       "portout \"result\" as E3  [[psysml:d8a9a5d1-c1b2-404a-b54f-35037ecf4c2d ]] \r\n",
       "}\r\n",
       "\r\n",
       "rec def \"AnalysisPlan\" as E4 << analysis def>> [[psysml:058a72e0-0a98-4261-856d-73366cf47a25 ]] {\r\n",
       "portin \"v\" as E5  [[psysml:40d43c87-89d5-4dcb-a988-f011f6f29ac5 ]] \r\n",
       "rec usage \"analysisCase\" as E6 << analysis>> [[psysml:ebac0614-db53-4f6a-a11b-2a64966401ed ]] {\r\n",
       "portout \"mass\" as E7  [[psysml:94298e01-1500-44a7-8244-0cc3e5620ae6 ]] \r\n",
       "portin \"v\" as E8  [[psysml:fabccdcf-1c94-4d5c-8a0b-5626b651aa80 ]] \r\n",
       "}\r\n",
       "\r\n",
       "portout \"result\" as E9  [[psysml:633f1383-e65f-4e22-9e6d-6ffcdde4bc38 ]] \r\n",
       "}\r\n",
       "\r\n",
       "rec usage \"analysisPlan\" as E10 << analysis>> [[psysml:cfe8b385-7bc2-406c-91e1-db9911ba5874 ]] {\r\n",
       "portin \"v\" as E11  [[psysml:55cfee2c-c24c-468f-9db4-77480ce5a457 ]] \r\n",
       "portout \"result\" as E12  [[psysml:8005f62b-cb79-4c8e-b32b-9a19d0c6c24c ]] \r\n",
       "}\r\n",
       "\r\n",
       "@enduml\r\n",
       "\n",
       "PlantUML version 1.2020.13(Sat Jun 13 12:26:38 UTC 2020)\n",
       "(EPL source distribution)\n",
       "Java Runtime: OpenJDK Runtime Environment\n",
       "JVM: OpenJDK 64-Bit Server VM\n",
       "Default Encoding: UTF-8\n",
       "Language: en\n",
       "Country: null\n",
       "--></g></svg>"
      ]
     },
     "execution_count": 34,
     "metadata": {},
     "output_type": "execute_result"
    }
   ],
   "source": [
    "%viz --style=\"PLANTUML\" --view=\"Action\" \"AnalysisTest\""
   ]
  },
  {
   "cell_type": "code",
   "execution_count": 35,
   "id": "d2207393",
   "metadata": {
    "execution": {
     "iopub.execute_input": "2021-11-13T12:57:20.256697Z",
     "iopub.status.busy": "2021-11-13T12:57:20.256224Z",
     "iopub.status.idle": "2021-11-13T12:57:20.261165Z",
     "shell.execute_reply": "2021-11-13T12:57:20.260831Z"
    }
   },
   "outputs": [
    {
     "data": {
      "image/svg+xml": [
       "<?xml version=\"1.0\" encoding=\"UTF-8\" standalone=\"no\"?><svg xmlns=\"http://www.w3.org/2000/svg\" xmlns:xlink=\"http://www.w3.org/1999/xlink\" contentScriptType=\"application/ecmascript\" contentStyleType=\"text/css\" height=\"12px\" preserveAspectRatio=\"none\" style=\"width:12px;height:12px;\" version=\"1.1\" viewBox=\"0 0 12 12\" width=\"12px\" zoomAndPan=\"magnify\"><defs/><g><!--MD5=[ca4faa0b02def275ea33c14ea7a1a98d]\n",
       "@startuml\r\n",
       "skinparam roundcorner 20\r\n",
       "skinparam BoxPadding 20\r\n",
       "skinparam SequenceBoxBackgroundColor #white\r\n",
       "skinparam style strictuml\r\n",
       "skinparam maxMessageSize 100\r\n",
       " \r\n",
       "@enduml\r\n",
       "\n",
       "PlantUML version 1.2020.13(Sat Jun 13 12:26:38 UTC 2020)\n",
       "(EPL source distribution)\n",
       "Java Runtime: OpenJDK Runtime Environment\n",
       "JVM: OpenJDK 64-Bit Server VM\n",
       "Default Encoding: UTF-8\n",
       "Language: en\n",
       "Country: null\n",
       "--></g></svg>"
      ]
     },
     "execution_count": 35,
     "metadata": {},
     "output_type": "execute_result"
    }
   ],
   "source": [
    "%viz --style=\"PLANTUML\" --view=\"Sequence\" \"AnalysisTest\""
   ]
  },
  {
   "cell_type": "code",
   "execution_count": 36,
   "id": "1776c630",
   "metadata": {
    "execution": {
     "iopub.execute_input": "2021-11-13T12:57:20.310620Z",
     "iopub.status.busy": "2021-11-13T12:57:20.310218Z",
     "iopub.status.idle": "2021-11-13T12:57:20.381158Z",
     "shell.execute_reply": "2021-11-13T12:57:20.379212Z"
    }
   },
   "outputs": [
    {
     "data": {
      "image/svg+xml": [
       "<?xml version=\"1.0\" encoding=\"UTF-8\" standalone=\"no\"?><svg xmlns=\"http://www.w3.org/2000/svg\" xmlns:xlink=\"http://www.w3.org/1999/xlink\" contentScriptType=\"application/ecmascript\" contentStyleType=\"text/css\" height=\"652px\" preserveAspectRatio=\"none\" style=\"width:871px;height:652px;\" version=\"1.1\" viewBox=\"0 0 871 652\" width=\"871px\" zoomAndPan=\"magnify\"><defs><filter height=\"300%\" id=\"f1hef03vmcve6f\" width=\"300%\" x=\"-1\" y=\"-1\"><feGaussianBlur result=\"blurOut\" stdDeviation=\"2.0\"/><feColorMatrix in=\"blurOut\" result=\"blurOut2\" type=\"matrix\" values=\"0 0 0 0 0 0 0 0 0 0 0 0 0 0 0 0 0 0 .4 0\"/><feOffset dx=\"4.0\" dy=\"4.0\" in=\"blurOut2\" result=\"blurOut3\"/><feBlend in=\"SourceGraphic\" in2=\"blurOut3\" mode=\"normal\"/></filter></defs><g><!--MD5=[fbc87193dbaf4d95561dea2c320d4a47]\n",
       "cluster E1--><a href=\"psysml:d47d9c93-f987-42aa-9c82-a11afa9e7a85\" target=\"_top\" title=\"psysml:d47d9c93-f987-42aa-9c82-a11afa9e7a85\" xlink:actuate=\"onRequest\" xlink:href=\"psysml:d47d9c93-f987-42aa-9c82-a11afa9e7a85\" xlink:show=\"new\" xlink:title=\"psysml:d47d9c93-f987-42aa-9c82-a11afa9e7a85\" xlink:type=\"simple\"><polygon fill=\"#FFFFFF\" filter=\"url(#f1hef03vmcve6f)\" points=\"16,6,108,6,115,28.2969,849,28.2969,849,640,16,640,16,6\" style=\"stroke: #000000; stroke-width: 1.5;\"/><line style=\"stroke: #000000; stroke-width: 1.5;\" x1=\"16\" x2=\"115\" y1=\"28.2969\" y2=\"28.2969\"/><text fill=\"#000000\" font-family=\"sans-serif\" font-size=\"14\" font-weight=\"bold\" lengthAdjust=\"spacingAndGlyphs\" textLength=\"86\" x=\"20\" y=\"20.9951\">AnalysisTest</text></a><!--MD5=[de5ec2e2e8f62f467e546659f5068c88]\n",
       "cluster E5--><a href=\"psysml:0d42cad1-3808-4e7b-8fe6-f660e27fd2bd\" target=\"_top\" title=\"psysml:0d42cad1-3808-4e7b-8fe6-f660e27fd2bd\" xlink:actuate=\"onRequest\" xlink:href=\"psysml:0d42cad1-3808-4e7b-8fe6-f660e27fd2bd\" xlink:show=\"new\" xlink:title=\"psysml:0d42cad1-3808-4e7b-8fe6-f660e27fd2bd\" xlink:type=\"simple\"><rect fill=\"#FFFFFF\" filter=\"url(#f1hef03vmcve6f)\" height=\"323.5\" id=\"E5\" style=\"stroke: #A80036; stroke-width: 1.5;\" width=\"146\" x=\"687\" y=\"74.5\"/><rect fill=\"#FEFECE\" height=\"37.9375\" style=\"stroke: #A80036; stroke-width: 1.5;\" width=\"146\" x=\"687\" y=\"74.5\"/><text fill=\"#000000\" font-family=\"sans-serif\" font-size=\"12\" font-style=\"italic\" lengthAdjust=\"spacingAndGlyphs\" textLength=\"88\" x=\"716\" y=\"90.6387\">«analysis def»</text><text fill=\"#000000\" font-family=\"sans-serif\" font-size=\"12\" lengthAdjust=\"spacingAndGlyphs\" textLength=\"81\" x=\"719.5\" y=\"104.6074\">AnalysisCase</text></a><!--MD5=[55dfccfc6c49c2d10cd1bd2211a6c90c]\n",
       "cluster E8--><a href=\"psysml:058a72e0-0a98-4261-856d-73366cf47a25\" target=\"_top\" title=\"psysml:058a72e0-0a98-4261-856d-73366cf47a25\" xlink:actuate=\"onRequest\" xlink:href=\"psysml:058a72e0-0a98-4261-856d-73366cf47a25\" xlink:show=\"new\" xlink:title=\"psysml:058a72e0-0a98-4261-856d-73366cf47a25\" xlink:type=\"simple\"><rect fill=\"#FFFFFF\" filter=\"url(#f1hef03vmcve6f)\" height=\"412\" id=\"E8\" style=\"stroke: #A80036; stroke-width: 1.5;\" width=\"259\" x=\"309\" y=\"204\"/><rect fill=\"#FEFECE\" height=\"37.9375\" style=\"stroke: #A80036; stroke-width: 1.5;\" width=\"259\" x=\"309\" y=\"204\"/><text fill=\"#000000\" font-family=\"sans-serif\" font-size=\"12\" font-style=\"italic\" lengthAdjust=\"spacingAndGlyphs\" textLength=\"88\" x=\"394.5\" y=\"220.1387\">«analysis def»</text><text fill=\"#000000\" font-family=\"sans-serif\" font-size=\"12\" lengthAdjust=\"spacingAndGlyphs\" textLength=\"77\" x=\"400\" y=\"234.1074\">AnalysisPlan</text></a><!--MD5=[a84b4591f868c1fa4a211716a82f2f0d]\n",
       "cluster E10--><a href=\"psysml:ebac0614-db53-4f6a-a11b-2a64966401ed\" target=\"_top\" title=\"psysml:ebac0614-db53-4f6a-a11b-2a64966401ed\" xlink:actuate=\"onRequest\" xlink:href=\"psysml:ebac0614-db53-4f6a-a11b-2a64966401ed\" xlink:show=\"new\" xlink:title=\"psysml:ebac0614-db53-4f6a-a11b-2a64966401ed\" xlink:type=\"simple\"><rect fill=\"#FFFFFF\" filter=\"url(#f1hef03vmcve6f)\" height=\"239\" id=\"E10\" rx=\"10\" ry=\"10\" style=\"stroke: #A80036; stroke-width: 1.5;\" width=\"138\" x=\"392\" y=\"339\"/><rect fill=\"#FEFECE\" height=\"37.9375\" rx=\"10\" ry=\"10\" style=\"stroke: #FEFECE; stroke-width: 1.5;\" width=\"138\" x=\"392\" y=\"339\"/><rect fill=\"#FEFECE\" height=\"10\" style=\"stroke: #FEFECE; stroke-width: 1.5;\" width=\"138\" x=\"392\" y=\"366.9375\"/><rect fill=\"none\" height=\"239\" id=\"E10\" rx=\"10\" ry=\"10\" style=\"stroke: #A80036; stroke-width: 1.5;\" width=\"138\" x=\"392\" y=\"339\"/><text fill=\"#000000\" font-family=\"sans-serif\" font-size=\"12\" font-style=\"italic\" lengthAdjust=\"spacingAndGlyphs\" textLength=\"64\" x=\"429\" y=\"355.1387\">«analysis»</text><text fill=\"#000000\" font-family=\"sans-serif\" font-size=\"12\" lengthAdjust=\"spacingAndGlyphs\" textLength=\"81\" x=\"420.5\" y=\"369.1074\">analysisCase</text><line style=\"stroke: #A80036; stroke-width: 1.0;\" x1=\"392\" x2=\"530\" y1=\"376.9375\" y2=\"376.9375\"/></a><!--MD5=[b4997ac47864f28c2f74865a473b2911]\n",
       "class E2--><a href=\"psysml:6e318fc7-f06d-4e4c-8e44-1e6d0f884455\" target=\"_top\" title=\"psysml:6e318fc7-f06d-4e4c-8e44-1e6d0f884455\" xlink:actuate=\"onRequest\" xlink:href=\"psysml:6e318fc7-f06d-4e4c-8e44-1e6d0f884455\" xlink:show=\"new\" xlink:title=\"psysml:6e318fc7-f06d-4e4c-8e44-1e6d0f884455\" xlink:type=\"simple\"><rect fill=\"#FEFECE\" filter=\"url(#f1hef03vmcve6f)\" height=\"69.6094\" id=\"E2\" style=\"stroke: #A80036; stroke-width: 1.5;\" width=\"70\" x=\"598\" y=\"169\"/><ellipse cx=\"626.5\" cy=\"185\" fill=\"#008000\" rx=\"11\" ry=\"11\" style=\"stroke: #A80036; stroke-width: 1.0;\"/><path d=\"M623.375,190 L623.375,179.4063 L626.6094,179.4063 Q628.5156,179.4063 629.4219,180.1563 Q630.3438,180.9063 630.3438,182.0781 Q630.3438,182.7656 629.9531,183.4219 Q629.5781,184.0781 628.8594,184.375 Q629.7188,184.75 630.2344,185.4375 Q630.75,186.125 630.75,186.9375 Q630.75,188.3125 629.7188,189.1563 Q628.7031,190 626.5938,190 L623.375,190 Z M625.2969,183.6406 L626.4531,183.6406 Q627.5781,183.6406 627.9844,183.2656 Q628.4063,182.875 628.4063,182.25 Q628.4063,181.6719 627.9844,181.3125 Q627.5625,180.9531 626.625,180.9531 L625.2969,180.9531 L625.2969,183.6406 Z M625.2969,188.4219 L626.7969,188.4219 Q627.7031,188.4219 628.2344,188.0313 Q628.7656,187.6406 628.7656,186.8906 Q628.7656,186.125 628.2656,185.6563 Q627.7656,185.1719 626.5,185.1719 L625.2969,185.1719 L625.2969,188.4219 Z \"/><text fill=\"#000000\" font-family=\"sans-serif\" font-size=\"12\" lengthAdjust=\"spacingAndGlyphs\" textLength=\"8\" x=\"643.5\" y=\"189.1543\">V</text><line style=\"stroke: #A80036; stroke-width: 1.5;\" x1=\"599\" x2=\"667\" y1=\"201\" y2=\"201\"/><text fill=\"#000000\" font-family=\"sans-serif\" font-size=\"11\" lengthAdjust=\"spacingAndGlyphs\" textLength=\"11\" x=\"604\" y=\"232.0151\">m</text><line style=\"stroke: #A80036; stroke-width: 1.0;\" x1=\"599\" x2=\"602\" y1=\"215.4023\" y2=\"215.4023\"/><text fill=\"#000000\" font-family=\"sans-serif\" font-size=\"11\" lengthAdjust=\"spacingAndGlyphs\" textLength=\"62\" x=\"602\" y=\"218.7104\">references</text><line style=\"stroke: #A80036; stroke-width: 1.0;\" x1=\"664\" x2=\"667\" y1=\"215.4023\" y2=\"215.4023\"/></a><!--MD5=[09b614a08d8cba4a07c9adeb5e0fee81]\n",
       "class E3--><a href=\"psysml:27999d5c-daad-4ed7-92ff-020a622ea083\" target=\"_top\" title=\"psysml:27999d5c-daad-4ed7-92ff-020a622ea083\" xlink:actuate=\"onRequest\" xlink:href=\"psysml:27999d5c-daad-4ed7-92ff-020a622ea083\" xlink:show=\"new\" xlink:title=\"psysml:27999d5c-daad-4ed7-92ff-020a622ea083\" xlink:type=\"simple\"><rect fill=\"#FEFECE\" filter=\"url(#f1hef03vmcve6f)\" height=\"45.9375\" id=\"E3\" rx=\"10\" ry=\"10\" style=\"stroke: #A80036; stroke-width: 1.5;\" width=\"68\" x=\"599\" y=\"51.5\"/><ellipse cx=\"614\" cy=\"70.4688\" fill=\"#32CD32\" rx=\"11\" ry=\"11\" style=\"stroke: #A80036; stroke-width: 1.0;\"/><path d=\"M610.8125,75.4688 L610.8125,64.875 L614.4219,64.875 Q615.6406,64.875 616.4375,65.3125 Q617.2344,65.7344 617.6094,66.4375 Q618,67.1406 618,67.9844 Q618,68.8281 617.625,69.5156 Q617.2656,70.2031 616.4688,70.625 Q615.6875,71.0313 614.5,71.0313 L612.7656,71.0313 L612.7656,75.4688 L610.8125,75.4688 Z M612.7656,69.4375 L614.375,69.4375 Q615.1875,69.4375 615.6094,69.0313 Q616.0313,68.625 616.0313,67.9844 Q616.0313,67.3594 615.6094,66.9531 Q615.1875,66.5469 614.3906,66.5469 L612.7656,66.5469 L612.7656,69.4375 Z \"/><text fill=\"#000000\" font-family=\"sans-serif\" font-size=\"12\" font-style=\"italic\" lengthAdjust=\"spacingAndGlyphs\" textLength=\"40\" x=\"626\" y=\"67.6387\">«part»</text><text fill=\"#000000\" font-family=\"sans-serif\" font-size=\"12\" lengthAdjust=\"spacingAndGlyphs\" textLength=\"28\" x=\"630\" y=\"81.6074\">vv: V</text><line style=\"stroke: #A80036; stroke-width: 1.5;\" x1=\"600\" x2=\"666\" y1=\"89.4375\" y2=\"89.4375\"/></a><!--MD5=[ebbe1d658d1005bcc118a6aa81145e00]\n",
       "class E4--><a href=\"psysml:31fce779-d9ab-452b-8111-7f3c68bff972\" target=\"_top\" title=\"psysml:31fce779-d9ab-452b-8111-7f3c68bff972\" xlink:actuate=\"onRequest\" xlink:href=\"psysml:31fce779-d9ab-452b-8111-7f3c68bff972\" xlink:show=\"new\" xlink:title=\"psysml:31fce779-d9ab-452b-8111-7f3c68bff972\" xlink:type=\"simple\"><rect fill=\"#FEFECE\" filter=\"url(#f1hef03vmcve6f)\" height=\"66.7422\" id=\"E4\" style=\"stroke: #A80036; stroke-width: 1.5;\" width=\"147\" x=\"324.5\" y=\"41\"/><ellipse cx=\"339.5\" cy=\"59.9688\" fill=\"#A52A2A\" rx=\"11\" ry=\"11\" style=\"stroke: #A80036; stroke-width: 1.0;\"/><path d=\"M336.7188,64.9688 L336.7188,54.375 L339.4531,54.375 Q340.8438,54.375 341.6094,54.7656 Q342.3906,55.1406 342.9219,55.8438 Q343.4531,56.5469 343.75,57.5469 Q344.0469,58.5313 344.0469,59.75 Q344,61.3438 343.5,62.5313 Q343.0156,63.7031 341.9688,64.3438 Q340.9375,64.9688 339.25,64.9688 L336.7188,64.9688 Z M338.5781,63.4688 L339.2031,63.4688 Q340.2813,63.4688 340.9375,63.0156 Q341.5938,62.5625 341.875,61.7344 Q342.1719,60.8906 342.1563,59.7656 Q342.1563,58.5938 341.9063,57.7344 Q341.6563,56.8594 341.0469,56.3906 Q340.4375,55.9063 339.3906,55.9063 L338.5781,55.9063 L338.5781,63.4688 Z \"/><text fill=\"#000000\" font-family=\"sans-serif\" font-size=\"12\" font-style=\"italic\" lengthAdjust=\"spacingAndGlyphs\" textLength=\"119\" x=\"351.5\" y=\"57.1387\">«requirement  def»</text><text fill=\"#000000\" font-family=\"sans-serif\" font-size=\"12\" lengthAdjust=\"spacingAndGlyphs\" textLength=\"107\" x=\"357.5\" y=\"71.1074\">AnalysisObjective</text><line style=\"stroke: #A80036; stroke-width: 1.5;\" x1=\"325.5\" x2=\"470.5\" y1=\"78.9375\" y2=\"78.9375\"/><text fill=\"#000000\" font-family=\"sans-serif\" font-size=\"11\" lengthAdjust=\"spacingAndGlyphs\" textLength=\"12\" x=\"330.5\" y=\"93.1479\">...</text><line style=\"stroke: #A80036; stroke-width: 1.0;\" x1=\"325.5\" x2=\"470.5\" y1=\"99.7422\" y2=\"99.7422\"/></a><!--MD5=[bee11217b2f71d958a27249dc326068c]\n",
       "class E14--><a href=\"psysml:2f29b586-744b-44a6-b354-0cb36fac52ba\" target=\"_top\" title=\"psysml:2f29b586-744b-44a6-b354-0cb36fac52ba\" xlink:actuate=\"onRequest\" xlink:href=\"psysml:2f29b586-744b-44a6-b354-0cb36fac52ba\" xlink:show=\"new\" xlink:title=\"psysml:2f29b586-744b-44a6-b354-0cb36fac52ba\" xlink:type=\"simple\"><rect fill=\"#FEFECE\" filter=\"url(#f1hef03vmcve6f)\" height=\"45.9375\" id=\"E14\" rx=\"10\" ry=\"10\" style=\"stroke: #A80036; stroke-width: 1.5;\" width=\"130\" x=\"66\" y=\"51.5\"/><ellipse cx=\"81\" cy=\"70.4688\" fill=\"#32CD32\" rx=\"11\" ry=\"11\" style=\"stroke: #A80036; stroke-width: 1.0;\"/><path d=\"M77.8125,75.4688 L77.8125,64.875 L81.4219,64.875 Q82.6406,64.875 83.4375,65.3125 Q84.2344,65.7344 84.6094,66.4375 Q85,67.1406 85,67.9844 Q85,68.8281 84.625,69.5156 Q84.2656,70.2031 83.4688,70.625 Q82.6875,71.0313 81.5,71.0313 L79.7656,71.0313 L79.7656,75.4688 L77.8125,75.4688 Z M79.7656,69.4375 L81.375,69.4375 Q82.1875,69.4375 82.6094,69.0313 Q83.0313,68.625 83.0313,67.9844 Q83.0313,67.3594 82.6094,66.9531 Q82.1875,66.5469 81.3906,66.5469 L79.7656,66.5469 L79.7656,69.4375 Z \"/><text fill=\"#000000\" font-family=\"sans-serif\" font-size=\"12\" font-style=\"italic\" lengthAdjust=\"spacingAndGlyphs\" textLength=\"40\" x=\"124\" y=\"67.6387\">«part»</text><text fill=\"#000000\" font-family=\"sans-serif\" font-size=\"12\" lengthAdjust=\"spacingAndGlyphs\" textLength=\"98\" x=\"95\" y=\"81.6074\">analysisContext</text><line style=\"stroke: #A80036; stroke-width: 1.5;\" x1=\"67\" x2=\"195\" y1=\"89.4375\" y2=\"89.4375\"/></a><!--MD5=[0c48fb7552dae8cbbef69381101a84c8]\n",
       "class E15--><a href=\"psysml:cfe8b385-7bc2-406c-91e1-db9911ba5874\" target=\"_top\" title=\"psysml:cfe8b385-7bc2-406c-91e1-db9911ba5874\" xlink:actuate=\"onRequest\" xlink:href=\"psysml:cfe8b385-7bc2-406c-91e1-db9911ba5874\" xlink:show=\"new\" xlink:title=\"psysml:cfe8b385-7bc2-406c-91e1-db9911ba5874\" xlink:type=\"simple\"><rect fill=\"#FEFECE\" filter=\"url(#f1hef03vmcve6f)\" height=\"45.9375\" id=\"E15\" rx=\"10\" ry=\"10\" style=\"stroke: #A80036; stroke-width: 1.5;\" width=\"198\" x=\"32\" y=\"181\"/><ellipse cx=\"47\" cy=\"199.9688\" fill=\"#B6DBBB\" rx=\"11\" ry=\"11\" style=\"stroke: #A80036; stroke-width: 1.0;\"/><path d=\"M46.75,205.4375 Q45,205.4375 44.0469,204.4063 Q43.1094,203.3594 43.1094,201.5156 L43.1094,194.625 L45.1719,194.625 L45.1719,194.7813 Q45.0781,194.875 45.0469,195.0156 Q45.0313,195.1406 45.0313,195.4063 L45.0313,201.5313 Q45.0313,202.625 45.4063,203.25 Q45.7813,203.875 46.7656,203.875 Q47.75,203.875 48.1406,203.25 Q48.5313,202.625 48.5313,201.4844 L48.5313,194.625 L50.4063,194.625 L50.4063,201.4688 Q50.4063,203.5 49.375,204.4688 Q48.3594,205.4375 46.75,205.4375 Z \"/><text fill=\"#000000\" font-family=\"sans-serif\" font-size=\"12\" font-style=\"italic\" lengthAdjust=\"spacingAndGlyphs\" textLength=\"64\" x=\"112\" y=\"197.1387\">«analysis»</text><text fill=\"#000000\" font-family=\"sans-serif\" font-size=\"12\" lengthAdjust=\"spacingAndGlyphs\" textLength=\"162\" x=\"61\" y=\"211.1074\">analysisPlan: AnalysisPlan</text><line style=\"stroke: #A80036; stroke-width: 1.5;\" x1=\"33\" x2=\"229\" y1=\"218.9375\" y2=\"218.9375\"/></a><!--MD5=[35f0587eaee8d5bb9a02e25b63afc23b]\n",
       "class E16--><a href=\"psysml:63325e1e-8a82-4691-b26b-3354962a7cad\" target=\"_top\" title=\"psysml:63325e1e-8a82-4691-b26b-3354962a7cad\" xlink:actuate=\"onRequest\" xlink:href=\"psysml:63325e1e-8a82-4691-b26b-3354962a7cad\" xlink:show=\"new\" xlink:title=\"psysml:63325e1e-8a82-4691-b26b-3354962a7cad\" xlink:type=\"simple\"><rect fill=\"#FEFECE\" filter=\"url(#f1hef03vmcve6f)\" height=\"45.9375\" id=\"E16\" rx=\"10\" ry=\"10\" style=\"stroke: #A80036; stroke-width: 1.5;\" width=\"119\" x=\"71.5\" y=\"316\"/><ellipse cx=\"86.5\" cy=\"334.9688\" fill=\"#FFA500\" rx=\"11\" ry=\"11\" style=\"stroke: #A80036; stroke-width: 1.0;\"/><path d=\"M86.25,340.4375 Q84.5,340.4375 83.5469,339.4063 Q82.6094,338.3594 82.6094,336.5156 L82.6094,329.625 L84.6719,329.625 L84.6719,329.7813 Q84.5781,329.875 84.5469,330.0156 Q84.5313,330.1406 84.5313,330.4063 L84.5313,336.5313 Q84.5313,337.625 84.9063,338.25 Q85.2813,338.875 86.2656,338.875 Q87.25,338.875 87.6406,338.25 Q88.0313,337.625 88.0313,336.4844 L88.0313,329.625 L89.9063,329.625 L89.9063,336.4688 Q89.9063,338.5 88.875,339.4688 Q87.8594,340.4375 86.25,340.4375 Z \"/><text fill=\"#000000\" font-family=\"sans-serif\" font-size=\"12\" font-style=\"italic\" lengthAdjust=\"spacingAndGlyphs\" textLength=\"91\" x=\"98.5\" y=\"332.1387\">«requirement»</text><text fill=\"#000000\" font-family=\"sans-serif\" font-size=\"12\" lengthAdjust=\"spacingAndGlyphs\" textLength=\"19\" x=\"134.5\" y=\"346.1074\">obj</text><line style=\"stroke: #A80036; stroke-width: 1.5;\" x1=\"72.5\" x2=\"189.5\" y1=\"353.9375\" y2=\"353.9375\"/></a><text fill=\"#000000\" font-family=\"sans-serif\" font-size=\"14\" lengthAdjust=\"spacingAndGlyphs\" textLength=\"7\" x=\"756.5\" y=\"53.1982\">v</text><rect fill=\"#A80036\" height=\"12\" style=\"stroke: #FEFECE; stroke-width: 1.5;\" width=\"12\" x=\"754\" y=\"68.5\"/><text fill=\"#000000\" font-family=\"sans-serif\" font-size=\"14\" lengthAdjust=\"spacingAndGlyphs\" textLength=\"39\" x=\"740.5\" y=\"416.9951\">result</text><rect fill=\"#A80036\" height=\"12\" style=\"stroke: #FEFECE; stroke-width: 1.5;\" width=\"12\" x=\"754\" y=\"392\"/><text fill=\"#000000\" font-family=\"sans-serif\" font-size=\"14\" lengthAdjust=\"spacingAndGlyphs\" textLength=\"7\" x=\"323.5\" y=\"182.6982\">v</text><rect fill=\"#A80036\" height=\"12\" style=\"stroke: #FEFECE; stroke-width: 1.5;\" width=\"12\" x=\"321\" y=\"198\"/><text fill=\"#000000\" font-family=\"sans-serif\" font-size=\"14\" lengthAdjust=\"spacingAndGlyphs\" textLength=\"39\" x=\"548.5\" y=\"523.9951\">result</text><rect fill=\"#A80036\" height=\"12\" style=\"stroke: #FEFECE; stroke-width: 1.5;\" width=\"12\" x=\"562\" y=\"499\"/><text fill=\"#000000\" font-family=\"sans-serif\" font-size=\"14\" lengthAdjust=\"spacingAndGlyphs\" textLength=\"37\" x=\"442.5\" y=\"596.9951\">mass</text><rect fill=\"#A80036\" height=\"12\" style=\"stroke: #FEFECE; stroke-width: 1.5;\" width=\"12\" x=\"455\" y=\"572\"/><text fill=\"#000000\" font-family=\"sans-serif\" font-size=\"14\" lengthAdjust=\"spacingAndGlyphs\" textLength=\"7\" x=\"457.5\" y=\"317.6982\">v</text><rect fill=\"#A80036\" height=\"12\" style=\"stroke: #FEFECE; stroke-width: 1.5;\" width=\"12\" x=\"455\" y=\"333\"/><!--MD5=[05d275557350bfb9b23a4ef7222b4c39]\n",
       "link E3 to E2--><a href=\"psysml:4413170d-8387-4bcf-a661-a8e63eefb5dc\" target=\"_top\" title=\"psysml:4413170d-8387-4bcf-a661-a8e63eefb5dc\" xlink:actuate=\"onRequest\" xlink:href=\"psysml:4413170d-8387-4bcf-a661-a8e63eefb5dc\" xlink:show=\"new\" xlink:title=\"psysml:4413170d-8387-4bcf-a661-a8e63eefb5dc\" xlink:type=\"simple\"><path d=\"M633,97.71 C633,111.76 633,130.58 633,148.42 \" fill=\"none\" id=\"E3-&gt;E2\" style=\"stroke: #A80036; stroke-width: 1.0;\"/><polygon fill=\"#FFFFFF\" points=\"633,168.57,626,149.57,640,149.57,633,168.57\" style=\"stroke: #A80036; stroke-width: 1.0;\"/><ellipse cx=\"628\" cy=\"143.87\" fill=\"#A80036\" rx=\"2\" ry=\"2\" style=\"stroke: #A80036; stroke-width: 1.0;\"/><ellipse cx=\"638\" cy=\"143.87\" fill=\"#A80036\" rx=\"2\" ry=\"2\" style=\"stroke: #A80036; stroke-width: 1.0;\"/></a><!--MD5=[17bf29720e4688890742b92d9a67fdf0]\n",
       "reverse link E14 to E15--><a href=\"psysml:df4b3059-af15-4a6e-9f16-4ce8d388f00c\" target=\"_top\" title=\"psysml:df4b3059-af15-4a6e-9f16-4ce8d388f00c\" xlink:actuate=\"onRequest\" xlink:href=\"psysml:df4b3059-af15-4a6e-9f16-4ce8d388f00c\" xlink:show=\"new\" xlink:title=\"psysml:df4b3059-af15-4a6e-9f16-4ce8d388f00c\" xlink:type=\"simple\"><path d=\"M131,110.73 C131,133.07 131,161.3 131,180.62 \" fill=\"none\" id=\"E14&lt;-E15\" style=\"stroke: #A80036; stroke-width: 1.0;\"/><polygon fill=\"#A80036\" points=\"131,97.71,127,103.71,131,109.71,135,103.71,131,97.71\" style=\"stroke: #A80036; stroke-width: 1.0;\"/></a><!--MD5=[1b01d5b954197aaf3899ca0bde35faf5]\n",
       "link E15 to E8--><a href=\"psysml:b8e5c057-83f1-47ef-94c9-1676b303e623\" target=\"_top\" title=\"psysml:b8e5c057-83f1-47ef-94c9-1676b303e623\" xlink:actuate=\"onRequest\" xlink:href=\"psysml:b8e5c057-83f1-47ef-94c9-1676b303e623\" xlink:show=\"new\" xlink:title=\"psysml:b8e5c057-83f1-47ef-94c9-1676b303e623\" xlink:type=\"simple\"><path d=\"M163.81,227.26 C202.93,253.81 267.42,297.57 302.47,321.36 \" fill=\"none\" id=\"E15-&gt;E8\" style=\"stroke: #A80036; stroke-width: 1.0;\"/><polygon fill=\"#FFFFFF\" points=\"302.47,321.36,282.818,316.4815,290.6804,304.8977,302.47,321.36\" style=\"stroke: #A80036; stroke-width: 1.0;\"/><ellipse cx=\"279.225\" cy=\"311.6255\" fill=\"#A80036\" rx=\"2\" ry=\"2\" style=\"stroke: #A80036; stroke-width: 1.0;\"/><ellipse cx=\"284.841\" cy=\"303.3514\" fill=\"#A80036\" rx=\"2\" ry=\"2\" style=\"stroke: #A80036; stroke-width: 1.0;\"/></a><!--MD5=[f8b155c46b092be73bb522b0a8fc72a2]\n",
       "link E15 to E16--><a href=\"psysml:7d3bd451-2ef5-4e75-9594-2e0dd7330291\" target=\"_top\" title=\"psysml:7d3bd451-2ef5-4e75-9594-2e0dd7330291\" xlink:actuate=\"onRequest\" xlink:href=\"psysml:7d3bd451-2ef5-4e75-9594-2e0dd7330291\" xlink:show=\"new\" xlink:title=\"psysml:7d3bd451-2ef5-4e75-9594-2e0dd7330291\" xlink:type=\"simple\"><path d=\"M131,227.26 C131,249.22 131,282.97 131,307.43 \" fill=\"none\" id=\"E15-&gt;E16\" style=\"stroke: #A80036; stroke-width: 1.0;\"/><polygon fill=\"#A80036\" points=\"131,315.67,134,307.67,128,307.67,131,315.67\" style=\"stroke: #A80036; stroke-width: 1.0;\"/><text fill=\"#000000\" font-family=\"sans-serif\" font-size=\"13\" lengthAdjust=\"spacingAndGlyphs\" textLength=\"73\" x=\"132\" y=\"282.0669\">«objective»</text><text fill=\"#000000\" font-family=\"sans-serif\" font-size=\"13\" lengthAdjust=\"spacingAndGlyphs\" textLength=\"8\" x=\"121.975\" y=\"304.8617\">1</text></a><!--MD5=[d26497b9d0e36586c0e2042d8472cc8d]\n",
       "@startuml\r\n",
       " \r\n",
       "package \"AnalysisTest\" as E1  [[psysml:d47d9c93-f987-42aa-9c82-a11afa9e7a85 ]]  {\r\n",
       "comp def \"V\" as E2 << << (B,green) >> [[psysml:6e318fc7-f06d-4e4c-8e44-1e6d0f884455 ]] {\r\n",
       "- - references - -\r\n",
       "m\r\n",
       "}\r\n",
       "comp usage \"vv: V \" as E3 << << (P,limegreen) part>> [[psysml:27999d5c-daad-4ed7-92ff-020a622ea083 ]] {\r\n",
       "}\r\n",
       "comp def \"AnalysisObjective\" as E4 << <<(D,brown) requirement  def>> [[psysml:31fce779-d9ab-452b-8111-7f3c68bff972 ]] {\r\n",
       "...\r\n",
       "- -\r\n",
       "}\r\n",
       "rec def \"AnalysisCase\" as E5 << analysis def>> [[psysml:0d42cad1-3808-4e7b-8fe6-f660e27fd2bd ]] {\r\n",
       "portin \"v\" as E6  [[psysml:f7aad551-6165-4689-8df3-b128f6f54571 ]] \r\n",
       "portout \"result\" as E7  [[psysml:d8a9a5d1-c1b2-404a-b54f-35037ecf4c2d ]] \r\n",
       "}\r\n",
       "\r\n",
       "rec def \"AnalysisPlan\" as E8 << analysis def>> [[psysml:058a72e0-0a98-4261-856d-73366cf47a25 ]] {\r\n",
       "portin \"v\" as E9  [[psysml:40d43c87-89d5-4dcb-a988-f011f6f29ac5 ]] \r\n",
       "rec usage \"analysisCase\" as E10 << analysis>> [[psysml:ebac0614-db53-4f6a-a11b-2a64966401ed ]] {\r\n",
       "portout \"mass\" as E11  [[psysml:94298e01-1500-44a7-8244-0cc3e5620ae6 ]] \r\n",
       "portin \"v\" as E12  [[psysml:fabccdcf-1c94-4d5c-8a0b-5626b651aa80 ]] \r\n",
       "}\r\n",
       "\r\n",
       "portout \"result\" as E13  [[psysml:633f1383-e65f-4e22-9e6d-6ffcdde4bc38 ]] \r\n",
       "}\r\n",
       "\r\n",
       "comp usage \"analysisContext\" as E14 << << (P,limegreen) part>> [[psysml:2f29b586-744b-44a6-b354-0cb36fac52ba ]] {\r\n",
       "}\r\n",
       "comp usage \"analysisPlan: AnalysisPlan \" as E15 << analysis>> [[psysml:cfe8b385-7bc2-406c-91e1-db9911ba5874 ]] {\r\n",
       "}\r\n",
       "comp usage \"obj\" as E16 << <<(U,orange) requirement>> [[psysml:63325e1e-8a82-4691-b26b-3354962a7cad ]] {\r\n",
       "}\r\n",
       "}\r\n",
       "E3 - -:|> E2 [[psysml:4413170d-8387-4bcf-a661-a8e63eefb5dc ]] \r\n",
       "E14 *- - E15 [[psysml:df4b3059-af15-4a6e-9f16-4ce8d388f00c ]] \r\n",
       "E15 - -:|> E8 [[psysml:b8e5c057-83f1-47ef-94c9-1676b303e623 ]] \r\n",
       "E15 - ->> \"1\"E16 [[psysml:7d3bd451-2ef5-4e75-9594-2e0dd7330291 ]] : <<objective>>\r\n",
       "@enduml\r\n",
       "\n",
       "PlantUML version 1.2020.13(Sat Jun 13 12:26:38 UTC 2020)\n",
       "(EPL source distribution)\n",
       "Java Runtime: OpenJDK Runtime Environment\n",
       "JVM: OpenJDK 64-Bit Server VM\n",
       "Default Encoding: UTF-8\n",
       "Language: en\n",
       "Country: null\n",
       "--></g></svg>"
      ]
     },
     "execution_count": 36,
     "metadata": {},
     "output_type": "execute_result"
    }
   ],
   "source": [
    "%viz --style=\"PLANTUML\" --view=\"MIXED\" \"AnalysisTest\""
   ]
  },
  {
   "cell_type": "code",
   "execution_count": 37,
   "id": "876558fa",
   "metadata": {
    "execution": {
     "iopub.execute_input": "2021-11-13T12:57:20.429877Z",
     "iopub.status.busy": "2021-11-13T12:57:20.429475Z",
     "iopub.status.idle": "2021-11-13T12:57:20.484231Z",
     "shell.execute_reply": "2021-11-13T12:57:20.483868Z"
    }
   },
   "outputs": [
    {
     "data": {
      "image/svg+xml": [
       "<?xml version=\"1.0\" encoding=\"UTF-8\" standalone=\"no\"?><svg xmlns=\"http://www.w3.org/2000/svg\" xmlns:xlink=\"http://www.w3.org/1999/xlink\" contentScriptType=\"application/ecmascript\" contentStyleType=\"text/css\" height=\"658px\" preserveAspectRatio=\"none\" style=\"width:845px;height:658px;\" version=\"1.1\" viewBox=\"0 0 845 658\" width=\"845px\" zoomAndPan=\"magnify\"><defs/><g><!--MD5=[fbc87193dbaf4d95561dea2c320d4a47]\n",
       "cluster E1--><a href=\"psysml:d47d9c93-f987-42aa-9c82-a11afa9e7a85\" target=\"_top\" title=\"psysml:d47d9c93-f987-42aa-9c82-a11afa9e7a85\" xlink:actuate=\"onRequest\" xlink:href=\"psysml:d47d9c93-f987-42aa-9c82-a11afa9e7a85\" xlink:show=\"new\" xlink:title=\"psysml:d47d9c93-f987-42aa-9c82-a11afa9e7a85\" xlink:type=\"simple\"><polygon fill=\"#FFFFFF\" points=\"16,6,108,6,115,28.2969,823,28.2969,823,646,16,646,16,6\" style=\"stroke: #000000; stroke-width: 1.5;\"/><line style=\"stroke: #000000; stroke-width: 1.5;\" x1=\"16\" x2=\"115\" y1=\"28.2969\" y2=\"28.2969\"/><text fill=\"#000000\" font-family=\"sans-serif\" font-size=\"14\" font-weight=\"bold\" lengthAdjust=\"spacingAndGlyphs\" textLength=\"86\" x=\"20\" y=\"20.9951\">AnalysisTest</text></a><!--MD5=[de5ec2e2e8f62f467e546659f5068c88]\n",
       "cluster E5--><a href=\"psysml:0d42cad1-3808-4e7b-8fe6-f660e27fd2bd\" target=\"_top\" title=\"psysml:0d42cad1-3808-4e7b-8fe6-f660e27fd2bd\" xlink:actuate=\"onRequest\" xlink:href=\"psysml:0d42cad1-3808-4e7b-8fe6-f660e27fd2bd\" xlink:show=\"new\" xlink:title=\"psysml:0d42cad1-3808-4e7b-8fe6-f660e27fd2bd\" xlink:type=\"simple\"><rect fill=\"#FFFFFF\" height=\"329.5\" id=\"E5\" style=\"stroke: #383838; stroke-width: 1.5;\" width=\"146\" x=\"661\" y=\"74.5\"/><rect fill=\"#F8F8F8\" height=\"37.9375\" style=\"stroke: #383838; stroke-width: 1.5;\" width=\"146\" x=\"661\" y=\"74.5\"/><text fill=\"#000000\" font-family=\"sans-serif\" font-size=\"12\" font-style=\"italic\" lengthAdjust=\"spacingAndGlyphs\" textLength=\"88\" x=\"690\" y=\"90.6387\">«analysis def»</text><text fill=\"#000000\" font-family=\"sans-serif\" font-size=\"12\" lengthAdjust=\"spacingAndGlyphs\" textLength=\"81\" x=\"693.5\" y=\"104.6074\">AnalysisCase</text></a><!--MD5=[55dfccfc6c49c2d10cd1bd2211a6c90c]\n",
       "cluster E8--><a href=\"psysml:058a72e0-0a98-4261-856d-73366cf47a25\" target=\"_top\" title=\"psysml:058a72e0-0a98-4261-856d-73366cf47a25\" xlink:actuate=\"onRequest\" xlink:href=\"psysml:058a72e0-0a98-4261-856d-73366cf47a25\" xlink:show=\"new\" xlink:title=\"psysml:058a72e0-0a98-4261-856d-73366cf47a25\" xlink:type=\"simple\"><rect fill=\"#FFFFFF\" height=\"415\" id=\"E8\" style=\"stroke: #383838; stroke-width: 1.5;\" width=\"259\" x=\"283\" y=\"207\"/><rect fill=\"#F8F8F8\" height=\"37.9375\" style=\"stroke: #383838; stroke-width: 1.5;\" width=\"259\" x=\"283\" y=\"207\"/><text fill=\"#000000\" font-family=\"sans-serif\" font-size=\"12\" font-style=\"italic\" lengthAdjust=\"spacingAndGlyphs\" textLength=\"88\" x=\"368.5\" y=\"223.1387\">«analysis def»</text><text fill=\"#000000\" font-family=\"sans-serif\" font-size=\"12\" lengthAdjust=\"spacingAndGlyphs\" textLength=\"77\" x=\"374\" y=\"237.1074\">AnalysisPlan</text></a><!--MD5=[a84b4591f868c1fa4a211716a82f2f0d]\n",
       "cluster E10--><a href=\"psysml:ebac0614-db53-4f6a-a11b-2a64966401ed\" target=\"_top\" title=\"psysml:ebac0614-db53-4f6a-a11b-2a64966401ed\" xlink:actuate=\"onRequest\" xlink:href=\"psysml:ebac0614-db53-4f6a-a11b-2a64966401ed\" xlink:show=\"new\" xlink:title=\"psysml:ebac0614-db53-4f6a-a11b-2a64966401ed\" xlink:type=\"simple\"><rect fill=\"#FFFFFF\" height=\"239\" id=\"E10\" rx=\"10\" ry=\"10\" style=\"stroke: #383838; stroke-width: 1.5;\" width=\"138\" x=\"366\" y=\"345\"/><rect fill=\"#F8F8F8\" height=\"37.9375\" rx=\"10\" ry=\"10\" style=\"stroke: #F8F8F8; stroke-width: 1.5;\" width=\"138\" x=\"366\" y=\"345\"/><rect fill=\"#F8F8F8\" height=\"10\" style=\"stroke: #F8F8F8; stroke-width: 1.5;\" width=\"138\" x=\"366\" y=\"372.9375\"/><rect fill=\"none\" height=\"239\" id=\"E10\" rx=\"10\" ry=\"10\" style=\"stroke: #383838; stroke-width: 1.5;\" width=\"138\" x=\"366\" y=\"345\"/><text fill=\"#000000\" font-family=\"sans-serif\" font-size=\"12\" font-style=\"italic\" lengthAdjust=\"spacingAndGlyphs\" textLength=\"64\" x=\"403\" y=\"361.1387\">«analysis»</text><text fill=\"#000000\" font-family=\"sans-serif\" font-size=\"12\" lengthAdjust=\"spacingAndGlyphs\" textLength=\"81\" x=\"394.5\" y=\"375.1074\">analysisCase</text><line style=\"stroke: #383838; stroke-width: 1.0;\" x1=\"366\" x2=\"504\" y1=\"382.9375\" y2=\"382.9375\"/></a><!--MD5=[b4997ac47864f28c2f74865a473b2911]\n",
       "class E2--><a href=\"psysml:6e318fc7-f06d-4e4c-8e44-1e6d0f884455\" target=\"_top\" title=\"psysml:6e318fc7-f06d-4e4c-8e44-1e6d0f884455\" xlink:actuate=\"onRequest\" xlink:href=\"psysml:6e318fc7-f06d-4e4c-8e44-1e6d0f884455\" xlink:show=\"new\" xlink:title=\"psysml:6e318fc7-f06d-4e4c-8e44-1e6d0f884455\" xlink:type=\"simple\"><rect fill=\"#FFFFFF\" height=\"75.5469\" id=\"E2\" style=\"stroke: #383838; stroke-width: 1.5;\" width=\"70\" x=\"572\" y=\"169\"/><text fill=\"#000000\" font-family=\"sans-serif\" font-size=\"12\" font-style=\"italic\" lengthAdjust=\"spacingAndGlyphs\" textLength=\"68\" x=\"573\" y=\"185.1387\">«part  def»</text><text fill=\"#000000\" font-family=\"sans-serif\" font-size=\"12\" lengthAdjust=\"spacingAndGlyphs\" textLength=\"8\" x=\"603\" y=\"199.1074\">V</text><line style=\"stroke: #383838; stroke-width: 1.5;\" x1=\"573\" x2=\"641\" y1=\"206.9375\" y2=\"206.9375\"/><text fill=\"#000000\" font-family=\"sans-serif\" font-size=\"11\" lengthAdjust=\"spacingAndGlyphs\" textLength=\"11\" x=\"578\" y=\"237.9526\">m</text><line style=\"stroke: #383838; stroke-width: 1.0;\" x1=\"573\" x2=\"576\" y1=\"221.3398\" y2=\"221.3398\"/><text fill=\"#000000\" font-family=\"sans-serif\" font-size=\"11\" lengthAdjust=\"spacingAndGlyphs\" textLength=\"62\" x=\"576\" y=\"224.6479\">references</text><line style=\"stroke: #383838; stroke-width: 1.0;\" x1=\"638\" x2=\"641\" y1=\"221.3398\" y2=\"221.3398\"/></a><!--MD5=[09b614a08d8cba4a07c9adeb5e0fee81]\n",
       "class E3--><a href=\"psysml:27999d5c-daad-4ed7-92ff-020a622ea083\" target=\"_top\" title=\"psysml:27999d5c-daad-4ed7-92ff-020a622ea083\" xlink:actuate=\"onRequest\" xlink:href=\"psysml:27999d5c-daad-4ed7-92ff-020a622ea083\" xlink:show=\"new\" xlink:title=\"psysml:27999d5c-daad-4ed7-92ff-020a622ea083\" xlink:type=\"simple\"><rect fill=\"#FFFFFF\" height=\"45.9375\" id=\"E3\" rx=\"10\" ry=\"10\" style=\"stroke: #383838; stroke-width: 1.5;\" width=\"42\" x=\"586\" y=\"51.5\"/><text fill=\"#000000\" font-family=\"sans-serif\" font-size=\"12\" font-style=\"italic\" lengthAdjust=\"spacingAndGlyphs\" textLength=\"40\" x=\"587\" y=\"67.6387\">«part»</text><text fill=\"#000000\" font-family=\"sans-serif\" font-size=\"12\" lengthAdjust=\"spacingAndGlyphs\" textLength=\"28\" x=\"591\" y=\"81.6074\">vv: V</text><line style=\"stroke: #383838; stroke-width: 1.5;\" x1=\"587\" x2=\"627\" y1=\"89.4375\" y2=\"89.4375\"/></a><!--MD5=[ebbe1d658d1005bcc118a6aa81145e00]\n",
       "class E4--><a href=\"psysml:31fce779-d9ab-452b-8111-7f3c68bff972\" target=\"_top\" title=\"psysml:31fce779-d9ab-452b-8111-7f3c68bff972\" xlink:actuate=\"onRequest\" xlink:href=\"psysml:31fce779-d9ab-452b-8111-7f3c68bff972\" xlink:show=\"new\" xlink:title=\"psysml:31fce779-d9ab-452b-8111-7f3c68bff972\" xlink:type=\"simple\"><rect fill=\"#FFFFFF\" height=\"66.7422\" id=\"E4\" style=\"stroke: #383838; stroke-width: 1.5;\" width=\"121\" x=\"317.5\" y=\"41\"/><text fill=\"#000000\" font-family=\"sans-serif\" font-size=\"12\" font-style=\"italic\" lengthAdjust=\"spacingAndGlyphs\" textLength=\"119\" x=\"318.5\" y=\"57.1387\">«requirement  def»</text><text fill=\"#000000\" font-family=\"sans-serif\" font-size=\"12\" lengthAdjust=\"spacingAndGlyphs\" textLength=\"107\" x=\"324.5\" y=\"71.1074\">AnalysisObjective</text><line style=\"stroke: #383838; stroke-width: 1.5;\" x1=\"318.5\" x2=\"437.5\" y1=\"78.9375\" y2=\"78.9375\"/><text fill=\"#000000\" font-family=\"sans-serif\" font-size=\"11\" lengthAdjust=\"spacingAndGlyphs\" textLength=\"12\" x=\"323.5\" y=\"93.1479\">...</text><line style=\"stroke: #383838; stroke-width: 1.0;\" x1=\"318.5\" x2=\"437.5\" y1=\"99.7422\" y2=\"99.7422\"/></a><!--MD5=[bee11217b2f71d958a27249dc326068c]\n",
       "class E14--><a href=\"psysml:2f29b586-744b-44a6-b354-0cb36fac52ba\" target=\"_top\" title=\"psysml:2f29b586-744b-44a6-b354-0cb36fac52ba\" xlink:actuate=\"onRequest\" xlink:href=\"psysml:2f29b586-744b-44a6-b354-0cb36fac52ba\" xlink:show=\"new\" xlink:title=\"psysml:2f29b586-744b-44a6-b354-0cb36fac52ba\" xlink:type=\"simple\"><rect fill=\"#FFFFFF\" height=\"45.9375\" id=\"E14\" rx=\"10\" ry=\"10\" style=\"stroke: #383838; stroke-width: 1.5;\" width=\"104\" x=\"66\" y=\"51.5\"/><text fill=\"#000000\" font-family=\"sans-serif\" font-size=\"12\" font-style=\"italic\" lengthAdjust=\"spacingAndGlyphs\" textLength=\"40\" x=\"98\" y=\"67.6387\">«part»</text><text fill=\"#000000\" font-family=\"sans-serif\" font-size=\"12\" lengthAdjust=\"spacingAndGlyphs\" textLength=\"98\" x=\"69\" y=\"81.6074\">analysisContext</text><line style=\"stroke: #383838; stroke-width: 1.5;\" x1=\"67\" x2=\"169\" y1=\"89.4375\" y2=\"89.4375\"/></a><!--MD5=[0c48fb7552dae8cbbef69381101a84c8]\n",
       "class E15--><a href=\"psysml:cfe8b385-7bc2-406c-91e1-db9911ba5874\" target=\"_top\" title=\"psysml:cfe8b385-7bc2-406c-91e1-db9911ba5874\" xlink:actuate=\"onRequest\" xlink:href=\"psysml:cfe8b385-7bc2-406c-91e1-db9911ba5874\" xlink:show=\"new\" xlink:title=\"psysml:cfe8b385-7bc2-406c-91e1-db9911ba5874\" xlink:type=\"simple\"><rect fill=\"#FFFFFF\" height=\"45.9375\" id=\"E15\" rx=\"10\" ry=\"10\" style=\"stroke: #383838; stroke-width: 1.5;\" width=\"172\" x=\"32\" y=\"184\"/><text fill=\"#000000\" font-family=\"sans-serif\" font-size=\"12\" font-style=\"italic\" lengthAdjust=\"spacingAndGlyphs\" textLength=\"64\" x=\"86\" y=\"200.1387\">«analysis»</text><text fill=\"#000000\" font-family=\"sans-serif\" font-size=\"12\" lengthAdjust=\"spacingAndGlyphs\" textLength=\"162\" x=\"35\" y=\"214.1074\">analysisPlan: AnalysisPlan</text><line style=\"stroke: #383838; stroke-width: 1.5;\" x1=\"33\" x2=\"203\" y1=\"221.9375\" y2=\"221.9375\"/></a><!--MD5=[35f0587eaee8d5bb9a02e25b63afc23b]\n",
       "class E16--><a href=\"psysml:63325e1e-8a82-4691-b26b-3354962a7cad\" target=\"_top\" title=\"psysml:63325e1e-8a82-4691-b26b-3354962a7cad\" xlink:actuate=\"onRequest\" xlink:href=\"psysml:63325e1e-8a82-4691-b26b-3354962a7cad\" xlink:show=\"new\" xlink:title=\"psysml:63325e1e-8a82-4691-b26b-3354962a7cad\" xlink:type=\"simple\"><rect fill=\"#FFFFFF\" height=\"45.9375\" id=\"E16\" rx=\"10\" ry=\"10\" style=\"stroke: #383838; stroke-width: 1.5;\" width=\"93\" x=\"71.5\" y=\"322\"/><text fill=\"#000000\" font-family=\"sans-serif\" font-size=\"12\" font-style=\"italic\" lengthAdjust=\"spacingAndGlyphs\" textLength=\"91\" x=\"72.5\" y=\"338.1387\">«requirement»</text><text fill=\"#000000\" font-family=\"sans-serif\" font-size=\"12\" lengthAdjust=\"spacingAndGlyphs\" textLength=\"19\" x=\"108.5\" y=\"352.1074\">obj</text><line style=\"stroke: #383838; stroke-width: 1.5;\" x1=\"72.5\" x2=\"163.5\" y1=\"359.9375\" y2=\"359.9375\"/></a><text fill=\"#000000\" font-family=\"sans-serif\" font-size=\"14\" lengthAdjust=\"spacingAndGlyphs\" textLength=\"7\" x=\"730.5\" y=\"53.1982\">v</text><rect fill=\"#383838\" height=\"12\" style=\"stroke: #F8F8F8; stroke-width: 1.5;\" width=\"12\" x=\"728\" y=\"68.5\"/><text fill=\"#000000\" font-family=\"sans-serif\" font-size=\"14\" lengthAdjust=\"spacingAndGlyphs\" textLength=\"39\" x=\"714.5\" y=\"422.9951\">result</text><rect fill=\"#383838\" height=\"12\" style=\"stroke: #F8F8F8; stroke-width: 1.5;\" width=\"12\" x=\"728\" y=\"398\"/><text fill=\"#000000\" font-family=\"sans-serif\" font-size=\"14\" lengthAdjust=\"spacingAndGlyphs\" textLength=\"7\" x=\"297.5\" y=\"185.6982\">v</text><rect fill=\"#383838\" height=\"12\" style=\"stroke: #F8F8F8; stroke-width: 1.5;\" width=\"12\" x=\"295\" y=\"201\"/><text fill=\"#000000\" font-family=\"sans-serif\" font-size=\"14\" lengthAdjust=\"spacingAndGlyphs\" textLength=\"39\" x=\"522.5\" y=\"529.9951\">result</text><rect fill=\"#383838\" height=\"12\" style=\"stroke: #F8F8F8; stroke-width: 1.5;\" width=\"12\" x=\"536\" y=\"505\"/><text fill=\"#000000\" font-family=\"sans-serif\" font-size=\"14\" lengthAdjust=\"spacingAndGlyphs\" textLength=\"37\" x=\"416.5\" y=\"602.9951\">mass</text><rect fill=\"#383838\" height=\"12\" style=\"stroke: #F8F8F8; stroke-width: 1.5;\" width=\"12\" x=\"429\" y=\"578\"/><text fill=\"#000000\" font-family=\"sans-serif\" font-size=\"14\" lengthAdjust=\"spacingAndGlyphs\" textLength=\"7\" x=\"431.5\" y=\"323.6982\">v</text><rect fill=\"#383838\" height=\"12\" style=\"stroke: #F8F8F8; stroke-width: 1.5;\" width=\"12\" x=\"429\" y=\"339\"/><!--MD5=[05d275557350bfb9b23a4ef7222b4c39]\n",
       "link E3 to E2--><a href=\"psysml:4413170d-8387-4bcf-a661-a8e63eefb5dc\" target=\"_top\" title=\"psysml:4413170d-8387-4bcf-a661-a8e63eefb5dc\" xlink:actuate=\"onRequest\" xlink:href=\"psysml:4413170d-8387-4bcf-a661-a8e63eefb5dc\" xlink:show=\"new\" xlink:title=\"psysml:4413170d-8387-4bcf-a661-a8e63eefb5dc\" xlink:type=\"simple\"><path d=\"M607,97.64 C607,111.72 607,130.66 607,148.75 \" fill=\"none\" id=\"E3-&gt;E2\" style=\"stroke: #383838; stroke-width: 1.0;\"/><polygon fill=\"#FFFFFF\" points=\"607,168.9,600,149.9,614,149.9,607,168.9\" style=\"stroke: #383838; stroke-width: 1.0;\"/><ellipse cx=\"602\" cy=\"144.2\" fill=\"#383838\" rx=\"2\" ry=\"2\" style=\"stroke: #383838; stroke-width: 1.0;\"/><ellipse cx=\"612\" cy=\"144.2\" fill=\"#383838\" rx=\"2\" ry=\"2\" style=\"stroke: #383838; stroke-width: 1.0;\"/></a><!--MD5=[17bf29720e4688890742b92d9a67fdf0]\n",
       "reverse link E14 to E15--><a href=\"psysml:df4b3059-af15-4a6e-9f16-4ce8d388f00c\" target=\"_top\" title=\"psysml:df4b3059-af15-4a6e-9f16-4ce8d388f00c\" xlink:actuate=\"onRequest\" xlink:href=\"psysml:df4b3059-af15-4a6e-9f16-4ce8d388f00c\" xlink:show=\"new\" xlink:title=\"psysml:df4b3059-af15-4a6e-9f16-4ce8d388f00c\" xlink:type=\"simple\"><path d=\"M118,110.79 C118,134.03 118,163.75 118,183.75 \" fill=\"none\" id=\"E14&lt;-E15\" style=\"stroke: #383838; stroke-width: 1.0;\"/><polygon fill=\"#383838\" points=\"118,97.64,114,103.64,118,109.64,122,103.64,118,97.64\" style=\"stroke: #383838; stroke-width: 1.0;\"/></a><!--MD5=[1b01d5b954197aaf3899ca0bde35faf5]\n",
       "link E15 to E8--><a href=\"psysml:b8e5c057-83f1-47ef-94c9-1676b303e623\" target=\"_top\" title=\"psysml:b8e5c057-83f1-47ef-94c9-1676b303e623\" xlink:actuate=\"onRequest\" xlink:href=\"psysml:b8e5c057-83f1-47ef-94c9-1676b303e623\" xlink:show=\"new\" xlink:title=\"psysml:b8e5c057-83f1-47ef-94c9-1676b303e623\" xlink:type=\"simple\"><path d=\"M147.81,230.15 C184.47,257.4 245.87,303.03 278.7,327.43 \" fill=\"none\" id=\"E15-&gt;E8\" style=\"stroke: #383838; stroke-width: 1.0;\"/><polygon fill=\"#FFFFFF\" points=\"278.7,327.43,259.2749,321.7145,267.6261,310.478,278.7,327.43\" style=\"stroke: #383838; stroke-width: 1.0;\"/><ellipse cx=\"255.8931\" cy=\"316.7091\" fill=\"#383838\" rx=\"2\" ry=\"2\" style=\"stroke: #383838; stroke-width: 1.0;\"/><ellipse cx=\"261.8583\" cy=\"308.6831\" fill=\"#383838\" rx=\"2\" ry=\"2\" style=\"stroke: #383838; stroke-width: 1.0;\"/></a><!--MD5=[f8b155c46b092be73bb522b0a8fc72a2]\n",
       "link E15 to E16--><a href=\"psysml:7d3bd451-2ef5-4e75-9594-2e0dd7330291\" target=\"_top\" title=\"psysml:7d3bd451-2ef5-4e75-9594-2e0dd7330291\" xlink:actuate=\"onRequest\" xlink:href=\"psysml:7d3bd451-2ef5-4e75-9594-2e0dd7330291\" xlink:show=\"new\" xlink:title=\"psysml:7d3bd451-2ef5-4e75-9594-2e0dd7330291\" xlink:type=\"simple\"><path d=\"M118,230.15 C118,252.87 118,288.38 118,313.69 \" fill=\"none\" id=\"E15-&gt;E16\" style=\"stroke: #383838; stroke-width: 1.0;\"/><polygon fill=\"#383838\" points=\"118,321.86,121,313.86,115,313.86,118,321.86\" style=\"stroke: #383838; stroke-width: 1.0;\"/><text fill=\"#000000\" font-family=\"sans-serif\" font-size=\"13\" lengthAdjust=\"spacingAndGlyphs\" textLength=\"73\" x=\"119\" y=\"288.0669\">«objective»</text><text fill=\"#000000\" font-family=\"sans-serif\" font-size=\"13\" lengthAdjust=\"spacingAndGlyphs\" textLength=\"8\" x=\"108.975\" y=\"311.1004\">1</text></a><!--MD5=[ba4923fa9ae4982cacdab005edc8cade]\n",
       "@startuml\r\n",
       "skinparam monochrome true\r\n",
       "skinparam classbackgroundcolor white\r\n",
       "skinparam shadowing false\r\n",
       "skinparam wrapWidth 300\r\n",
       "hide circle\r\n",
       "\r\n",
       "package \"AnalysisTest\" as E1  [[psysml:d47d9c93-f987-42aa-9c82-a11afa9e7a85 ]]  {\r\n",
       "comp def \"V\" as E2  <<(T,blue) part  def>> [[psysml:6e318fc7-f06d-4e4c-8e44-1e6d0f884455 ]] {\r\n",
       "- - references - -\r\n",
       "m\r\n",
       "}\r\n",
       "comp usage \"vv: V \" as E3  <<(T,blue) part>> [[psysml:27999d5c-daad-4ed7-92ff-020a622ea083 ]] {\r\n",
       "}\r\n",
       "comp def \"AnalysisObjective\" as E4  <<(T,blue) requirement  def>> [[psysml:31fce779-d9ab-452b-8111-7f3c68bff972 ]] {\r\n",
       "...\r\n",
       "- -\r\n",
       "}\r\n",
       "rec def \"AnalysisCase\" as E5 << analysis def>> [[psysml:0d42cad1-3808-4e7b-8fe6-f660e27fd2bd ]] {\r\n",
       "portin \"v\" as E6  [[psysml:f7aad551-6165-4689-8df3-b128f6f54571 ]] \r\n",
       "portout \"result\" as E7  [[psysml:d8a9a5d1-c1b2-404a-b54f-35037ecf4c2d ]] \r\n",
       "}\r\n",
       "\r\n",
       "rec def \"AnalysisPlan\" as E8 << analysis def>> [[psysml:058a72e0-0a98-4261-856d-73366cf47a25 ]] {\r\n",
       "portin \"v\" as E9  [[psysml:40d43c87-89d5-4dcb-a988-f011f6f29ac5 ]] \r\n",
       "rec usage \"analysisCase\" as E10 << analysis>> [[psysml:ebac0614-db53-4f6a-a11b-2a64966401ed ]] {\r\n",
       "portout \"mass\" as E11  [[psysml:94298e01-1500-44a7-8244-0cc3e5620ae6 ]] \r\n",
       "portin \"v\" as E12  [[psysml:fabccdcf-1c94-4d5c-8a0b-5626b651aa80 ]] \r\n",
       "}\r\n",
       "\r\n",
       "portout \"result\" as E13  [[psysml:633f1383-e65f-4e22-9e6d-6ffcdde4bc38 ]] \r\n",
       "}\r\n",
       "\r\n",
       "comp usage \"analysisContext\" as E14  <<(T,blue) part>> [[psysml:2f29b586-744b-44a6-b354-0cb36fac52ba ]] {\r\n",
       "}\r\n",
       "comp usage \"analysisPlan: AnalysisPlan \" as E15 << analysis>> [[psysml:cfe8b385-7bc2-406c-91e1-db9911ba5874 ]] {\r\n",
       "}\r\n",
       "comp usage \"obj\" as E16  <<(T,blue) requirement>> [[psysml:63325e1e-8a82-4691-b26b-3354962a7cad ]] {\r\n",
       "}\r\n",
       "}\r\n",
       "E3 - -:|> E2 [[psysml:4413170d-8387-4bcf-a661-a8e63eefb5dc ]] \r\n",
       "E14 *- - E15 [[psysml:df4b3059-af15-4a6e-9f16-4ce8d388f00c ]] \r\n",
       "E15 - -:|> E8 [[psysml:b8e5c057-83f1-47ef-94c9-1676b303e623 ]] \r\n",
       "E15 - ->> \"1\"E16 [[psysml:7d3bd451-2ef5-4e75-9594-2e0dd7330291 ]] : <<objective>>\r\n",
       "@enduml\r\n",
       "\n",
       "PlantUML version 1.2020.13(Sat Jun 13 12:26:38 UTC 2020)\n",
       "(EPL source distribution)\n",
       "Java Runtime: OpenJDK Runtime Environment\n",
       "JVM: OpenJDK 64-Bit Server VM\n",
       "Default Encoding: UTF-8\n",
       "Language: en\n",
       "Country: null\n",
       "--></g></svg>"
      ]
     },
     "execution_count": 37,
     "metadata": {},
     "output_type": "execute_result"
    }
   ],
   "source": [
    "%viz --style=\"DEFAULT\" --view=\"Default\" \"AnalysisTest\""
   ]
  },
  {
   "cell_type": "code",
   "execution_count": 38,
   "id": "88b2b1e2",
   "metadata": {
    "execution": {
     "iopub.execute_input": "2021-11-13T12:57:20.533464Z",
     "iopub.status.busy": "2021-11-13T12:57:20.533059Z",
     "iopub.status.idle": "2021-11-13T12:57:20.607841Z",
     "shell.execute_reply": "2021-11-13T12:57:20.607469Z"
    }
   },
   "outputs": [
    {
     "data": {
      "image/svg+xml": [
       "<?xml version=\"1.0\" encoding=\"UTF-8\" standalone=\"no\"?><svg xmlns=\"http://www.w3.org/2000/svg\" xmlns:xlink=\"http://www.w3.org/1999/xlink\" contentScriptType=\"application/ecmascript\" contentStyleType=\"text/css\" height=\"923px\" preserveAspectRatio=\"none\" style=\"width:453px;height:923px;\" version=\"1.1\" viewBox=\"0 0 453 923\" width=\"453px\" zoomAndPan=\"magnify\"><defs/><g><!--MD5=[fbc87193dbaf4d95561dea2c320d4a47]\n",
       "cluster E1--><a href=\"psysml:d47d9c93-f987-42aa-9c82-a11afa9e7a85\" target=\"_top\" title=\"psysml:d47d9c93-f987-42aa-9c82-a11afa9e7a85\" xlink:actuate=\"onRequest\" xlink:href=\"psysml:d47d9c93-f987-42aa-9c82-a11afa9e7a85\" xlink:show=\"new\" xlink:title=\"psysml:d47d9c93-f987-42aa-9c82-a11afa9e7a85\" xlink:type=\"simple\"><polygon fill=\"#FFFFFF\" points=\"20.13,6,112.13,6,119.13,28.2969,431.13,28.2969,431.13,911,20.13,911,20.13,6\" style=\"stroke: #000000; stroke-width: 1.5;\"/><line style=\"stroke: #000000; stroke-width: 1.5;\" x1=\"20.13\" x2=\"119.13\" y1=\"28.2969\" y2=\"28.2969\"/><text fill=\"#000000\" font-family=\"sans-serif\" font-size=\"14\" font-weight=\"bold\" lengthAdjust=\"spacingAndGlyphs\" textLength=\"86\" x=\"24.13\" y=\"20.9951\">AnalysisTest</text></a><!--MD5=[b4997ac47864f28c2f74865a473b2911]\n",
       "class E2--><a href=\"psysml:6e318fc7-f06d-4e4c-8e44-1e6d0f884455\" target=\"_top\" title=\"psysml:6e318fc7-f06d-4e4c-8e44-1e6d0f884455\" xlink:actuate=\"onRequest\" xlink:href=\"psysml:6e318fc7-f06d-4e4c-8e44-1e6d0f884455\" xlink:show=\"new\" xlink:title=\"psysml:6e318fc7-f06d-4e4c-8e44-1e6d0f884455\" xlink:type=\"simple\"><rect fill=\"#FFFFFF\" height=\"75.5469\" id=\"E2\" style=\"stroke: #383838; stroke-width: 1.5;\" width=\"70\" x=\"160.13\" y=\"691\"/><text fill=\"#000000\" font-family=\"sans-serif\" font-size=\"12\" font-style=\"italic\" lengthAdjust=\"spacingAndGlyphs\" textLength=\"68\" x=\"161.13\" y=\"707.1387\">«part  def»</text><text fill=\"#000000\" font-family=\"sans-serif\" font-size=\"12\" lengthAdjust=\"spacingAndGlyphs\" textLength=\"8\" x=\"191.13\" y=\"721.1074\">V</text><line style=\"stroke: #383838; stroke-width: 1.5;\" x1=\"161.13\" x2=\"229.13\" y1=\"728.9375\" y2=\"728.9375\"/><text fill=\"#000000\" font-family=\"sans-serif\" font-size=\"11\" lengthAdjust=\"spacingAndGlyphs\" textLength=\"11\" x=\"166.13\" y=\"759.9526\">m</text><line style=\"stroke: #383838; stroke-width: 1.0;\" x1=\"161.13\" x2=\"164.13\" y1=\"743.3398\" y2=\"743.3398\"/><text fill=\"#000000\" font-family=\"sans-serif\" font-size=\"11\" lengthAdjust=\"spacingAndGlyphs\" textLength=\"62\" x=\"164.13\" y=\"746.6479\">references</text><line style=\"stroke: #383838; stroke-width: 1.0;\" x1=\"226.13\" x2=\"229.13\" y1=\"743.3398\" y2=\"743.3398\"/></a><!--MD5=[09b614a08d8cba4a07c9adeb5e0fee81]\n",
       "class E3--><a href=\"psysml:27999d5c-daad-4ed7-92ff-020a622ea083\" target=\"_top\" title=\"psysml:27999d5c-daad-4ed7-92ff-020a622ea083\" xlink:actuate=\"onRequest\" xlink:href=\"psysml:27999d5c-daad-4ed7-92ff-020a622ea083\" xlink:show=\"new\" xlink:title=\"psysml:27999d5c-daad-4ed7-92ff-020a622ea083\" xlink:type=\"simple\"><rect fill=\"#FFFFFF\" height=\"45.9375\" id=\"E3\" rx=\"10\" ry=\"10\" style=\"stroke: #383838; stroke-width: 1.5;\" width=\"42\" x=\"202.13\" y=\"553\"/><text fill=\"#000000\" font-family=\"sans-serif\" font-size=\"12\" font-style=\"italic\" lengthAdjust=\"spacingAndGlyphs\" textLength=\"40\" x=\"203.13\" y=\"569.1387\">«part»</text><text fill=\"#000000\" font-family=\"sans-serif\" font-size=\"12\" lengthAdjust=\"spacingAndGlyphs\" textLength=\"28\" x=\"207.13\" y=\"583.1074\">vv: V</text><line style=\"stroke: #383838; stroke-width: 1.5;\" x1=\"203.13\" x2=\"243.13\" y1=\"590.9375\" y2=\"590.9375\"/></a><!--MD5=[ebbe1d658d1005bcc118a6aa81145e00]\n",
       "class E4--><a href=\"psysml:31fce779-d9ab-452b-8111-7f3c68bff972\" target=\"_top\" title=\"psysml:31fce779-d9ab-452b-8111-7f3c68bff972\" xlink:actuate=\"onRequest\" xlink:href=\"psysml:31fce779-d9ab-452b-8111-7f3c68bff972\" xlink:show=\"new\" xlink:title=\"psysml:31fce779-d9ab-452b-8111-7f3c68bff972\" xlink:type=\"simple\"><rect fill=\"#FFFFFF\" height=\"66.7422\" id=\"E4\" style=\"stroke: #383838; stroke-width: 1.5;\" width=\"121\" x=\"279.63\" y=\"828\"/><text fill=\"#000000\" font-family=\"sans-serif\" font-size=\"12\" font-style=\"italic\" lengthAdjust=\"spacingAndGlyphs\" textLength=\"119\" x=\"280.63\" y=\"844.1387\">«requirement  def»</text><text fill=\"#000000\" font-family=\"sans-serif\" font-size=\"12\" lengthAdjust=\"spacingAndGlyphs\" textLength=\"107\" x=\"286.63\" y=\"858.1074\">AnalysisObjective</text><line style=\"stroke: #383838; stroke-width: 1.5;\" x1=\"280.63\" x2=\"399.63\" y1=\"865.9375\" y2=\"865.9375\"/><text fill=\"#000000\" font-family=\"sans-serif\" font-size=\"11\" lengthAdjust=\"spacingAndGlyphs\" textLength=\"12\" x=\"285.63\" y=\"880.1479\">...</text><line style=\"stroke: #383838; stroke-width: 1.0;\" x1=\"280.63\" x2=\"399.63\" y1=\"886.7422\" y2=\"886.7422\"/></a><!--MD5=[270fce915f116d4de14055a7c1d9a0f3]\n",
       "class E5--><a href=\"psysml:0d42cad1-3808-4e7b-8fe6-f660e27fd2bd\" target=\"_top\" title=\"psysml:0d42cad1-3808-4e7b-8fe6-f660e27fd2bd\" xlink:actuate=\"onRequest\" xlink:href=\"psysml:0d42cad1-3808-4e7b-8fe6-f660e27fd2bd\" xlink:show=\"new\" xlink:title=\"psysml:0d42cad1-3808-4e7b-8fe6-f660e27fd2bd\" xlink:type=\"simple\"><rect fill=\"#FFFFFF\" height=\"75.5469\" id=\"E5\" style=\"stroke: #383838; stroke-width: 1.5;\" width=\"136\" x=\"279.13\" y=\"538\"/><text fill=\"#000000\" font-family=\"sans-serif\" font-size=\"12\" font-style=\"italic\" lengthAdjust=\"spacingAndGlyphs\" textLength=\"88\" x=\"303.13\" y=\"554.1387\">«analysis def»</text><text fill=\"#000000\" font-family=\"sans-serif\" font-size=\"12\" lengthAdjust=\"spacingAndGlyphs\" textLength=\"81\" x=\"306.63\" y=\"568.1074\">AnalysisCase</text><line style=\"stroke: #383838; stroke-width: 1.5;\" x1=\"280.13\" x2=\"414.13\" y1=\"575.9375\" y2=\"575.9375\"/><text fill=\"#000000\" font-family=\"sans-serif\" font-size=\"11\" lengthAdjust=\"spacingAndGlyphs\" textLength=\"43\" x=\"285.13\" y=\"606.9526\">{ v.m }</text><line style=\"stroke: #383838; stroke-width: 1.0;\" x1=\"280.13\" x2=\"283.13\" y1=\"590.3398\" y2=\"590.3398\"/><text fill=\"#000000\" font-family=\"sans-serif\" font-size=\"11\" lengthAdjust=\"spacingAndGlyphs\" textLength=\"128\" x=\"283.13\" y=\"593.6479\">path step expressions</text><line style=\"stroke: #383838; stroke-width: 1.0;\" x1=\"411.13\" x2=\"414.13\" y1=\"590.3398\" y2=\"590.3398\"/></a><!--MD5=[60a26617385b1d2d0262a64233df1f8d]\n",
       "class E6--><a href=\"psysml:b64c7347-1249-45eb-ab10-0bf79737e87a\" target=\"_top\" title=\"psysml:b64c7347-1249-45eb-ab10-0bf79737e87a\" xlink:actuate=\"onRequest\" xlink:href=\"psysml:b64c7347-1249-45eb-ab10-0bf79737e87a\" xlink:show=\"new\" xlink:title=\"psysml:b64c7347-1249-45eb-ab10-0bf79737e87a\" xlink:type=\"simple\"><rect fill=\"#FFFFFF\" height=\"45.9375\" id=\"E6\" rx=\"10\" ry=\"10\" style=\"stroke: #383838; stroke-width: 1.5;\" width=\"144\" x=\"268.13\" y=\"706\"/><text fill=\"#000000\" font-family=\"sans-serif\" font-size=\"12\" font-style=\"italic\" lengthAdjust=\"spacingAndGlyphs\" textLength=\"91\" x=\"294.63\" y=\"722.1387\">«requirement»</text><text fill=\"#000000\" font-family=\"sans-serif\" font-size=\"12\" lengthAdjust=\"spacingAndGlyphs\" textLength=\"134\" x=\"271.13\" y=\"736.1074\">obj: AnalysisObjective</text><line style=\"stroke: #383838; stroke-width: 1.5;\" x1=\"269.13\" x2=\"411.13\" y1=\"743.9375\" y2=\"743.9375\"/></a><!--MD5=[2156ba9850f5573cc1fc38a6a4b2f02b]\n",
       "class E7--><a href=\"psysml:058a72e0-0a98-4261-856d-73366cf47a25\" target=\"_top\" title=\"psysml:058a72e0-0a98-4261-856d-73366cf47a25\" xlink:actuate=\"onRequest\" xlink:href=\"psysml:058a72e0-0a98-4261-856d-73366cf47a25\" xlink:show=\"new\" xlink:title=\"psysml:058a72e0-0a98-4261-856d-73366cf47a25\" xlink:type=\"simple\"><rect fill=\"#FFFFFF\" height=\"45.9375\" id=\"E7\" style=\"stroke: #383838; stroke-width: 1.5;\" width=\"90\" x=\"108.13\" y=\"271\"/><text fill=\"#000000\" font-family=\"sans-serif\" font-size=\"12\" font-style=\"italic\" lengthAdjust=\"spacingAndGlyphs\" textLength=\"88\" x=\"109.13\" y=\"287.1387\">«analysis def»</text><text fill=\"#000000\" font-family=\"sans-serif\" font-size=\"12\" lengthAdjust=\"spacingAndGlyphs\" textLength=\"77\" x=\"114.63\" y=\"301.1074\">AnalysisPlan</text><line style=\"stroke: #383838; stroke-width: 1.5;\" x1=\"109.13\" x2=\"197.13\" y1=\"308.9375\" y2=\"308.9375\"/></a><!--MD5=[b9389687b975829384b498ac4b7476b2]\n",
       "class E8--><a href=\"psysml:185eeef5-681f-4700-9ef2-09baff1a4526\" target=\"_top\" title=\"psysml:185eeef5-681f-4700-9ef2-09baff1a4526\" xlink:actuate=\"onRequest\" xlink:href=\"psysml:185eeef5-681f-4700-9ef2-09baff1a4526\" xlink:show=\"new\" xlink:title=\"psysml:185eeef5-681f-4700-9ef2-09baff1a4526\" xlink:type=\"simple\"><rect fill=\"#FFFFFF\" height=\"66.7422\" id=\"E8\" rx=\"10\" ry=\"10\" style=\"stroke: #383838; stroke-width: 1.5;\" width=\"93\" x=\"106.63\" y=\"394\"/><text fill=\"#000000\" font-family=\"sans-serif\" font-size=\"12\" font-style=\"italic\" lengthAdjust=\"spacingAndGlyphs\" textLength=\"91\" x=\"107.63\" y=\"410.1387\">«requirement»</text><text fill=\"#000000\" font-family=\"sans-serif\" font-size=\"12\" lengthAdjust=\"spacingAndGlyphs\" textLength=\"19\" x=\"143.63\" y=\"424.1074\">obj</text><line style=\"stroke: #383838; stroke-width: 1.5;\" x1=\"107.63\" x2=\"198.63\" y1=\"431.9375\" y2=\"431.9375\"/><text fill=\"#000000\" font-family=\"sans-serif\" font-size=\"11\" lengthAdjust=\"spacingAndGlyphs\" textLength=\"12\" x=\"112.63\" y=\"446.1479\">...</text><line style=\"stroke: #383838; stroke-width: 1.0;\" x1=\"107.63\" x2=\"198.63\" y1=\"452.7422\" y2=\"452.7422\"/></a><!--MD5=[fd4143e9d270a159db93a4ea2a975926]\n",
       "class E9--><a href=\"psysml:ebac0614-db53-4f6a-a11b-2a64966401ed\" target=\"_top\" title=\"psysml:ebac0614-db53-4f6a-a11b-2a64966401ed\" xlink:actuate=\"onRequest\" xlink:href=\"psysml:ebac0614-db53-4f6a-a11b-2a64966401ed\" xlink:show=\"new\" xlink:title=\"psysml:ebac0614-db53-4f6a-a11b-2a64966401ed\" xlink:type=\"simple\"><rect fill=\"#FFFFFF\" height=\"45.9375\" id=\"E9\" rx=\"10\" ry=\"10\" style=\"stroke: #383838; stroke-width: 1.5;\" width=\"180\" x=\"235.13\" y=\"404.5\"/><text fill=\"#000000\" font-family=\"sans-serif\" font-size=\"12\" font-style=\"italic\" lengthAdjust=\"spacingAndGlyphs\" textLength=\"64\" x=\"293.13\" y=\"420.6387\">«analysis»</text><text fill=\"#000000\" font-family=\"sans-serif\" font-size=\"12\" lengthAdjust=\"spacingAndGlyphs\" textLength=\"170\" x=\"238.13\" y=\"434.6074\">analysisCase: AnalysisCase</text><line style=\"stroke: #383838; stroke-width: 1.5;\" x1=\"236.13\" x2=\"414.13\" y1=\"442.4375\" y2=\"442.4375\"/></a><!--MD5=[96f4274e9e20536e775497830990834d]\n",
       "class E10--><a href=\"psysml:885560a7-695c-4aea-bf29-e47629fa314b\" target=\"_top\" title=\"psysml:885560a7-695c-4aea-bf29-e47629fa314b\" xlink:actuate=\"onRequest\" xlink:href=\"psysml:885560a7-695c-4aea-bf29-e47629fa314b\" xlink:show=\"new\" xlink:title=\"psysml:885560a7-695c-4aea-bf29-e47629fa314b\" xlink:type=\"simple\"><rect fill=\"#FFFFFF\" height=\"45.9375\" id=\"E10\" rx=\"10\" ry=\"10\" style=\"stroke: #383838; stroke-width: 1.5;\" width=\"93\" x=\"73.63\" y=\"553\"/><text fill=\"#000000\" font-family=\"sans-serif\" font-size=\"12\" font-style=\"italic\" lengthAdjust=\"spacingAndGlyphs\" textLength=\"91\" x=\"74.63\" y=\"569.1387\">«requirement»</text><text fill=\"#000000\" font-family=\"sans-serif\" font-size=\"12\" lengthAdjust=\"spacingAndGlyphs\" textLength=\"19\" x=\"110.63\" y=\"583.1074\">obj</text><line style=\"stroke: #383838; stroke-width: 1.5;\" x1=\"74.63\" x2=\"165.63\" y1=\"590.9375\" y2=\"590.9375\"/></a><!--MD5=[1dd1bfd58a279cf63c5f349dbc8fc6a1]\n",
       "class E11--><a href=\"psysml:2f29b586-744b-44a6-b354-0cb36fac52ba\" target=\"_top\" title=\"psysml:2f29b586-744b-44a6-b354-0cb36fac52ba\" xlink:actuate=\"onRequest\" xlink:href=\"psysml:2f29b586-744b-44a6-b354-0cb36fac52ba\" xlink:show=\"new\" xlink:title=\"psysml:2f29b586-744b-44a6-b354-0cb36fac52ba\" xlink:type=\"simple\"><rect fill=\"#FFFFFF\" height=\"45.9375\" id=\"E11\" rx=\"10\" ry=\"10\" style=\"stroke: #383838; stroke-width: 1.5;\" width=\"104\" x=\"164.13\" y=\"41\"/><text fill=\"#000000\" font-family=\"sans-serif\" font-size=\"12\" font-style=\"italic\" lengthAdjust=\"spacingAndGlyphs\" textLength=\"40\" x=\"196.13\" y=\"57.1387\">«part»</text><text fill=\"#000000\" font-family=\"sans-serif\" font-size=\"12\" lengthAdjust=\"spacingAndGlyphs\" textLength=\"98\" x=\"167.13\" y=\"71.1074\">analysisContext</text><line style=\"stroke: #383838; stroke-width: 1.5;\" x1=\"165.13\" x2=\"267.13\" y1=\"78.9375\" y2=\"78.9375\"/></a><!--MD5=[49a0ec8f00dab7302a31f22d0f0fe584]\n",
       "class E12--><a href=\"psysml:cfe8b385-7bc2-406c-91e1-db9911ba5874\" target=\"_top\" title=\"psysml:cfe8b385-7bc2-406c-91e1-db9911ba5874\" xlink:actuate=\"onRequest\" xlink:href=\"psysml:cfe8b385-7bc2-406c-91e1-db9911ba5874\" xlink:show=\"new\" xlink:title=\"psysml:cfe8b385-7bc2-406c-91e1-db9911ba5874\" xlink:type=\"simple\"><rect fill=\"#FFFFFF\" height=\"45.9375\" id=\"E12\" rx=\"10\" ry=\"10\" style=\"stroke: #383838; stroke-width: 1.5;\" width=\"172\" x=\"130.13\" y=\"148\"/><text fill=\"#000000\" font-family=\"sans-serif\" font-size=\"12\" font-style=\"italic\" lengthAdjust=\"spacingAndGlyphs\" textLength=\"64\" x=\"184.13\" y=\"164.1387\">«analysis»</text><text fill=\"#000000\" font-family=\"sans-serif\" font-size=\"12\" lengthAdjust=\"spacingAndGlyphs\" textLength=\"162\" x=\"133.13\" y=\"178.1074\">analysisPlan: AnalysisPlan</text><line style=\"stroke: #383838; stroke-width: 1.5;\" x1=\"131.13\" x2=\"301.13\" y1=\"185.9375\" y2=\"185.9375\"/></a><!--MD5=[ee3c913d1a06f366521f9ef512b67efe]\n",
       "class E13--><a href=\"psysml:63325e1e-8a82-4691-b26b-3354962a7cad\" target=\"_top\" title=\"psysml:63325e1e-8a82-4691-b26b-3354962a7cad\" xlink:actuate=\"onRequest\" xlink:href=\"psysml:63325e1e-8a82-4691-b26b-3354962a7cad\" xlink:show=\"new\" xlink:title=\"psysml:63325e1e-8a82-4691-b26b-3354962a7cad\" xlink:type=\"simple\"><rect fill=\"#FFFFFF\" height=\"45.9375\" id=\"E13\" rx=\"10\" ry=\"10\" style=\"stroke: #383838; stroke-width: 1.5;\" width=\"93\" x=\"233.63\" y=\"271\"/><text fill=\"#000000\" font-family=\"sans-serif\" font-size=\"12\" font-style=\"italic\" lengthAdjust=\"spacingAndGlyphs\" textLength=\"91\" x=\"234.63\" y=\"287.1387\">«requirement»</text><text fill=\"#000000\" font-family=\"sans-serif\" font-size=\"12\" lengthAdjust=\"spacingAndGlyphs\" textLength=\"19\" x=\"270.63\" y=\"301.1074\">obj</text><line style=\"stroke: #383838; stroke-width: 1.5;\" x1=\"234.63\" x2=\"325.63\" y1=\"308.9375\" y2=\"308.9375\"/></a><!--MD5=[05d275557350bfb9b23a4ef7222b4c39]\n",
       "link E3 to E2--><a href=\"psysml:4413170d-8387-4bcf-a661-a8e63eefb5dc\" target=\"_top\" title=\"psysml:4413170d-8387-4bcf-a661-a8e63eefb5dc\" xlink:actuate=\"onRequest\" xlink:href=\"psysml:4413170d-8387-4bcf-a661-a8e63eefb5dc\" xlink:show=\"new\" xlink:title=\"psysml:4413170d-8387-4bcf-a661-a8e63eefb5dc\" xlink:type=\"simple\"><path d=\"M213.8,599.22 C208.84,612.07 203.16,628.68 200.13,644 C198.44,652.55 197.27,661.67 196.46,670.63 \" fill=\"none\" id=\"E3-&gt;E2\" style=\"stroke: #383838; stroke-width: 1.0;\"/><polygon fill=\"#FFFFFF\" points=\"195.18,690.93,189.4022,671.5234,203.3738,672.4135,195.18,690.93\" style=\"stroke: #383838; stroke-width: 1.0;\"/><ellipse cx=\"191.7605\" cy=\"665.9621\" fill=\"#383838\" rx=\"2\" ry=\"2\" style=\"stroke: #383838; stroke-width: 1.0;\"/><ellipse cx=\"201.7403\" cy=\"666.5979\" fill=\"#383838\" rx=\"2\" ry=\"2\" style=\"stroke: #383838; stroke-width: 1.0;\"/></a><!--MD5=[15ebcb19ae302d9b601edb458606d402]\n",
       "link E5 to E2--><a href=\"psysml:0e59658b-8c20-4184-9a82-84e161b0c6e1\" target=\"_top\" title=\"psysml:0e59658b-8c20-4184-9a82-84e161b0c6e1\" xlink:actuate=\"onRequest\" xlink:href=\"psysml:0e59658b-8c20-4184-9a82-84e161b0c6e1\" xlink:show=\"new\" xlink:title=\"psysml:0e59658b-8c20-4184-9a82-84e161b0c6e1\" xlink:type=\"simple\"><path d=\"M303.36,614.09 C292.6,623.61 281.27,633.99 271.13,644 C257.44,657.51 243.12,672.96 230.65,686.89 \" fill=\"none\" id=\"E5-&gt;E2\" style=\"stroke: #383838; stroke-width: 1.0; stroke-dasharray: 7.0,7.0;\"/><polygon fill=\"#383838\" points=\"227.18,690.78,236.1576,686.7299,230.5098,687.0501,230.1897,681.4023,227.18,690.78\" style=\"stroke: #383838; stroke-width: 1.0;\"/><text fill=\"#000000\" font-family=\"sans-serif\" font-size=\"13\" lengthAdjust=\"spacingAndGlyphs\" textLength=\"62\" x=\"272.13\" y=\"657.0669\">«subject»</text></a><!--MD5=[9120cf2e5df3bff93db8f754bbbc09b4]\n",
       "link E5 to E6--><a href=\"psysml:0aba1a21-1a42-4d2b-97f5-c2cba04c9345\" target=\"_top\" title=\"psysml:0aba1a21-1a42-4d2b-97f5-c2cba04c9345\" xlink:actuate=\"onRequest\" xlink:href=\"psysml:0aba1a21-1a42-4d2b-97f5-c2cba04c9345\" xlink:show=\"new\" xlink:title=\"psysml:0aba1a21-1a42-4d2b-97f5-c2cba04c9345\" xlink:type=\"simple\"><path d=\"M345.4,614.33 C344.21,639.95 342.65,673.54 341.54,697.54 \" fill=\"none\" id=\"E5-&gt;E6\" style=\"stroke: #383838; stroke-width: 1.0;\"/><polygon fill=\"#383838\" points=\"341.17,705.61,344.5378,697.7577,338.5443,697.4795,341.17,705.61\" style=\"stroke: #383838; stroke-width: 1.0;\"/><text fill=\"#000000\" font-family=\"sans-serif\" font-size=\"13\" lengthAdjust=\"spacingAndGlyphs\" textLength=\"73\" x=\"344.13\" y=\"657.0669\">«objective»</text></a><!--MD5=[f667431f98296947986a1a7595a31603]\n",
       "link E6 to E4--><a href=\"psysml:32f59106-5f4c-4aec-8305-226899de5705\" target=\"_top\" title=\"psysml:32f59106-5f4c-4aec-8305-226899de5705\" xlink:actuate=\"onRequest\" xlink:href=\"psysml:32f59106-5f4c-4aec-8305-226899de5705\" xlink:show=\"new\" xlink:title=\"psysml:32f59106-5f4c-4aec-8305-226899de5705\" xlink:type=\"simple\"><path d=\"M340.13,752.14 C340.13,767.41 340.13,788.39 340.13,807.82 \" fill=\"none\" id=\"E6-&gt;E4\" style=\"stroke: #383838; stroke-width: 1.0;\"/><polygon fill=\"#FFFFFF\" points=\"340.13,827.96,333.13,808.96,347.13,808.96,340.13,827.96\" style=\"stroke: #383838; stroke-width: 1.0;\"/><ellipse cx=\"335.13\" cy=\"803.26\" fill=\"#383838\" rx=\"2\" ry=\"2\" style=\"stroke: #383838; stroke-width: 1.0;\"/><ellipse cx=\"345.13\" cy=\"803.26\" fill=\"#383838\" rx=\"2\" ry=\"2\" style=\"stroke: #383838; stroke-width: 1.0;\"/></a><!--MD5=[583832df87f4419a098336a29a52fa00]\n",
       "link E7 to E2--><a href=\"psysml:1b5baffb-8729-41ae-bce6-1275f3b8062c\" target=\"_top\" title=\"psysml:1b5baffb-8729-41ae-bce6-1275f3b8062c\" xlink:actuate=\"onRequest\" xlink:href=\"psysml:1b5baffb-8729-41ae-bce6-1275f3b8062c\" xlink:show=\"new\" xlink:title=\"psysml:1b5baffb-8729-41ae-bce6-1275f3b8062c\" xlink:type=\"simple\"><path d=\"M135.62,317.09 C95.87,370.11 6,508.04 56.13,614 C76.51,657.06 122,689.3 155.42,708.32 \" fill=\"none\" id=\"E7-&gt;E2\" style=\"stroke: #383838; stroke-width: 1.0; stroke-dasharray: 7.0,7.0;\"/><polygon fill=\"#383838\" points=\"159.84,710.8,153.9458,702.9096,155.4787,708.3548,150.0335,709.8877,159.84,710.8\" style=\"stroke: #383838; stroke-width: 1.0;\"/><text fill=\"#000000\" font-family=\"sans-serif\" font-size=\"13\" lengthAdjust=\"spacingAndGlyphs\" textLength=\"62\" x=\"48.13\" y=\"504.0669\">«subject»</text></a><!--MD5=[79bc8f324ef4d02c541433f2e6e513c3]\n",
       "link E7 to E8--><a href=\"psysml:90e157ee-5294-4f98-a807-291d927bb48a\" target=\"_top\" title=\"psysml:90e157ee-5294-4f98-a807-291d927bb48a\" xlink:actuate=\"onRequest\" xlink:href=\"psysml:90e157ee-5294-4f98-a807-291d927bb48a\" xlink:show=\"new\" xlink:title=\"psysml:90e157ee-5294-4f98-a807-291d927bb48a\" xlink:type=\"simple\"><path d=\"M153.13,317.01 C153.13,335.7 153.13,363.02 153.13,385.69 \" fill=\"none\" id=\"E7-&gt;E8\" style=\"stroke: #383838; stroke-width: 1.0;\"/><polygon fill=\"#383838\" points=\"153.13,393.81,156.13,385.81,150.13,385.81,153.13,393.81\" style=\"stroke: #383838; stroke-width: 1.0;\"/><text fill=\"#000000\" font-family=\"sans-serif\" font-size=\"13\" lengthAdjust=\"spacingAndGlyphs\" textLength=\"73\" x=\"154.13\" y=\"360.0669\">«objective»</text><text fill=\"#000000\" font-family=\"sans-serif\" font-size=\"13\" lengthAdjust=\"spacingAndGlyphs\" textLength=\"8\" x=\"144.3425\" y=\"382.8061\">1</text></a><!--MD5=[e4a10ef82d0e328e31cac39a31e58dda]\n",
       "reverse link E7 to E9--><a href=\"psysml:5b13e274-498b-4649-80bb-2ca5d783c8e3\" target=\"_top\" title=\"psysml:5b13e274-498b-4649-80bb-2ca5d783c8e3\" xlink:actuate=\"onRequest\" xlink:href=\"psysml:5b13e274-498b-4649-80bb-2ca5d783c8e3\" xlink:show=\"new\" xlink:title=\"psysml:5b13e274-498b-4649-80bb-2ca5d783c8e3\" xlink:type=\"simple\"><path d=\"M203.01,324.33 C214.15,331.41 225.74,339.19 236.13,347 C259.98,364.92 285.16,387.84 302.63,404.46 \" fill=\"none\" id=\"E7&lt;-E9\" style=\"stroke: #383838; stroke-width: 1.0;\"/><polygon fill=\"#383838\" points=\"191.63,317.25,194.6072,323.8178,201.8149,323.5958,198.8377,317.0279,191.63,317.25\" style=\"stroke: #383838; stroke-width: 1.0;\"/></a><!--MD5=[bfc3ddf2e613be37104f658f09af896c]\n",
       "link E9 to E5--><a href=\"psysml:2720ff20-3733-452c-91c5-acd446f65b05\" target=\"_top\" title=\"psysml:2720ff20-3733-452c-91c5-acd446f65b05\" xlink:actuate=\"onRequest\" xlink:href=\"psysml:2720ff20-3733-452c-91c5-acd446f65b05\" xlink:show=\"new\" xlink:title=\"psysml:2720ff20-3733-452c-91c5-acd446f65b05\" xlink:type=\"simple\"><path d=\"M328.47,450.75 C331.16,468.64 335.06,494.59 338.59,518.16 \" fill=\"none\" id=\"E9-&gt;E5\" style=\"stroke: #383838; stroke-width: 1.0;\"/><polygon fill=\"#FFFFFF\" points=\"341.57,537.99,331.824,520.2413,345.6685,518.1607,341.57,537.99\" style=\"stroke: #383838; stroke-width: 1.0;\"/><ellipse cx=\"332.9546\" cy=\"514.3074\" fill=\"#383838\" rx=\"2\" ry=\"2\" style=\"stroke: #383838; stroke-width: 1.0;\"/><ellipse cx=\"342.8436\" cy=\"512.8212\" fill=\"#383838\" rx=\"2\" ry=\"2\" style=\"stroke: #383838; stroke-width: 1.0;\"/></a><!--MD5=[35e5f1cbde42fa304a029880aa2bc7f2]\n",
       "link E9 to E10--><a href=\"psysml:207a8d5d-7cc5-465d-969c-ac78b140bf51\" target=\"_top\" title=\"psysml:207a8d5d-7cc5-465d-969c-ac78b140bf51\" xlink:actuate=\"onRequest\" xlink:href=\"psysml:207a8d5d-7cc5-465d-969c-ac78b140bf51\" xlink:show=\"new\" xlink:title=\"psysml:207a8d5d-7cc5-465d-969c-ac78b140bf51\" xlink:type=\"simple\"><path d=\"M293.99,450.75 C257.47,476.86 196.93,520.12 157.79,548.09 \" fill=\"none\" id=\"E9-&gt;E10\" style=\"stroke: #383838; stroke-width: 1.0;\"/><polygon fill=\"#383838\" points=\"151.22,552.78,159.4727,550.5679,155.9832,545.6869,151.22,552.78\" style=\"stroke: #383838; stroke-width: 1.0;\"/><text fill=\"#000000\" font-family=\"sans-serif\" font-size=\"13\" lengthAdjust=\"spacingAndGlyphs\" textLength=\"73\" x=\"235.13\" y=\"504.0669\">«objective»</text></a><!--MD5=[94adabc162ce7e41b39f13be14fbaeb3]\n",
       "reverse link E11 to E12--><a href=\"psysml:df4b3059-af15-4a6e-9f16-4ce8d388f00c\" target=\"_top\" title=\"psysml:df4b3059-af15-4a6e-9f16-4ce8d388f00c\" xlink:actuate=\"onRequest\" xlink:href=\"psysml:df4b3059-af15-4a6e-9f16-4ce8d388f00c\" xlink:show=\"new\" xlink:title=\"psysml:df4b3059-af15-4a6e-9f16-4ce8d388f00c\" xlink:type=\"simple\"><path d=\"M216.13,100.05 C216.13,115.76 216.13,133.82 216.13,147.66 \" fill=\"none\" id=\"E11&lt;-E12\" style=\"stroke: #383838; stroke-width: 1.0;\"/><polygon fill=\"#383838\" points=\"216.13,87.01,212.13,93.01,216.13,99.01,220.13,93.01,216.13,87.01\" style=\"stroke: #383838; stroke-width: 1.0;\"/></a><!--MD5=[ae660f5ecd7ddb04a8913625960940af]\n",
       "link E12 to E7--><a href=\"psysml:b8e5c057-83f1-47ef-94c9-1676b303e623\" target=\"_top\" title=\"psysml:b8e5c057-83f1-47ef-94c9-1676b303e623\" xlink:actuate=\"onRequest\" xlink:href=\"psysml:b8e5c057-83f1-47ef-94c9-1676b303e623\" xlink:show=\"new\" xlink:title=\"psysml:b8e5c057-83f1-47ef-94c9-1676b303e623\" xlink:type=\"simple\"><path d=\"M204.57,194.19 C196.01,210.65 184.09,233.54 173.88,253.14 \" fill=\"none\" id=\"E12-&gt;E7\" style=\"stroke: #383838; stroke-width: 1.0;\"/><polygon fill=\"#FFFFFF\" points=\"164.61,270.95,167.1672,250.8637,179.5876,257.3239,164.61,270.95\" style=\"stroke: #383838; stroke-width: 1.0;\"/><ellipse cx=\"171.5718\" cy=\"246.7297\" fill=\"#383838\" rx=\"2\" ry=\"2\" style=\"stroke: #383838; stroke-width: 1.0;\"/><ellipse cx=\"180.4435\" cy=\"251.3441\" fill=\"#383838\" rx=\"2\" ry=\"2\" style=\"stroke: #383838; stroke-width: 1.0;\"/></a><!--MD5=[e2a9ac97dcd3257bb5342dae06547bad]\n",
       "link E12 to E13--><a href=\"psysml:7d3bd451-2ef5-4e75-9594-2e0dd7330291\" target=\"_top\" title=\"psysml:7d3bd451-2ef5-4e75-9594-2e0dd7330291\" xlink:actuate=\"onRequest\" xlink:href=\"psysml:7d3bd451-2ef5-4e75-9594-2e0dd7330291\" xlink:show=\"new\" xlink:title=\"psysml:7d3bd451-2ef5-4e75-9594-2e0dd7330291\" xlink:type=\"simple\"><path d=\"M227.87,194.19 C238.2,213.72 253.31,242.3 264.63,263.7 \" fill=\"none\" id=\"E12-&gt;E13\" style=\"stroke: #383838; stroke-width: 1.0;\"/><polygon fill=\"#383838\" points=\"268.47,270.95,267.3924,262.4742,262.085,265.2727,268.47,270.95\" style=\"stroke: #383838; stroke-width: 1.0;\"/><text fill=\"#000000\" font-family=\"sans-serif\" font-size=\"13\" lengthAdjust=\"spacingAndGlyphs\" textLength=\"73\" x=\"252.13\" y=\"237.0669\">«objective»</text><text fill=\"#000000\" font-family=\"sans-serif\" font-size=\"13\" lengthAdjust=\"spacingAndGlyphs\" textLength=\"8\" x=\"256.2614\" y=\"259.8328\">1</text></a><!--MD5=[0a512725df8dd665b0d99f92f62be474]\n",
       "@startuml\r\n",
       "skinparam monochrome true\r\n",
       "skinparam classbackgroundcolor white\r\n",
       "skinparam shadowing false\r\n",
       "skinparam wrapWidth 300\r\n",
       "hide circle\r\n",
       "\r\n",
       "package \"AnalysisTest\" as E1  [[psysml:d47d9c93-f987-42aa-9c82-a11afa9e7a85 ]]  {\r\n",
       "comp def \"V\" as E2  <<(T,blue) part  def>> [[psysml:6e318fc7-f06d-4e4c-8e44-1e6d0f884455 ]] {\r\n",
       "- - references - -\r\n",
       "m\r\n",
       "}\r\n",
       "comp usage \"vv: V \" as E3  <<(T,blue) part>> [[psysml:27999d5c-daad-4ed7-92ff-020a622ea083 ]] {\r\n",
       "}\r\n",
       "comp def \"AnalysisObjective\" as E4  <<(T,blue) requirement  def>> [[psysml:31fce779-d9ab-452b-8111-7f3c68bff972 ]] {\r\n",
       "...\r\n",
       "- -\r\n",
       "}\r\n",
       "comp def \"AnalysisCase\" as E5 << analysis def>> [[psysml:0d42cad1-3808-4e7b-8fe6-f660e27fd2bd ]] {\r\n",
       "- - path step expressions - -\r\n",
       " { v.m }\r\n",
       "}\r\n",
       "comp usage \"obj: AnalysisObjective \" as E6  <<(T,blue) requirement>> [[psysml:b64c7347-1249-45eb-ab10-0bf79737e87a ]] {\r\n",
       "}\r\n",
       "comp def \"AnalysisPlan\" as E7 << analysis def>> [[psysml:058a72e0-0a98-4261-856d-73366cf47a25 ]] {\r\n",
       "}\r\n",
       "comp usage \"obj\" as E8  <<(T,blue) requirement>> [[psysml:185eeef5-681f-4700-9ef2-09baff1a4526 ]] {\r\n",
       "...\r\n",
       "- -\r\n",
       "}\r\n",
       "comp usage \"analysisCase: AnalysisCase \" as E9 << analysis>> [[psysml:ebac0614-db53-4f6a-a11b-2a64966401ed ]] {\r\n",
       "}\r\n",
       "comp usage \"obj\" as E10  <<(T,blue) requirement>> [[psysml:885560a7-695c-4aea-bf29-e47629fa314b ]] {\r\n",
       "}\r\n",
       "comp usage \"analysisContext\" as E11  <<(T,blue) part>> [[psysml:2f29b586-744b-44a6-b354-0cb36fac52ba ]] {\r\n",
       "}\r\n",
       "comp usage \"analysisPlan: AnalysisPlan \" as E12 << analysis>> [[psysml:cfe8b385-7bc2-406c-91e1-db9911ba5874 ]] {\r\n",
       "}\r\n",
       "comp usage \"obj\" as E13  <<(T,blue) requirement>> [[psysml:63325e1e-8a82-4691-b26b-3354962a7cad ]] {\r\n",
       "}\r\n",
       "}\r\n",
       "E3 - -:|> E2 [[psysml:4413170d-8387-4bcf-a661-a8e63eefb5dc ]] \r\n",
       "E5 ..> E2 [[psysml:0e59658b-8c20-4184-9a82-84e161b0c6e1 ]] : <<subject>>\r\n",
       "E5 - ->> E6 [[psysml:0aba1a21-1a42-4d2b-97f5-c2cba04c9345 ]] : <<objective>>\r\n",
       "E6 - -:|> E4 [[psysml:32f59106-5f4c-4aec-8305-226899de5705 ]] \r\n",
       "E7 ..> E2 [[psysml:1b5baffb-8729-41ae-bce6-1275f3b8062c ]] : <<subject>>\r\n",
       "E7 - ->> \"1\"E8 [[psysml:90e157ee-5294-4f98-a807-291d927bb48a ]] : <<objective>>\r\n",
       "E7 *- - E9 [[psysml:5b13e274-498b-4649-80bb-2ca5d783c8e3 ]] \r\n",
       "E9 - -:|> E5 [[psysml:2720ff20-3733-452c-91c5-acd446f65b05 ]] \r\n",
       "E9 - ->> E10 [[psysml:207a8d5d-7cc5-465d-969c-ac78b140bf51 ]] : <<objective>>\r\n",
       "E11 *- - E12 [[psysml:df4b3059-af15-4a6e-9f16-4ce8d388f00c ]] \r\n",
       "E12 - -:|> E7 [[psysml:b8e5c057-83f1-47ef-94c9-1676b303e623 ]] \r\n",
       "E12 - ->> \"1\"E13 [[psysml:7d3bd451-2ef5-4e75-9594-2e0dd7330291 ]] : <<objective>>\r\n",
       "@enduml\r\n",
       "\n",
       "PlantUML version 1.2020.13(Sat Jun 13 12:26:38 UTC 2020)\n",
       "(EPL source distribution)\n",
       "Java Runtime: OpenJDK Runtime Environment\n",
       "JVM: OpenJDK 64-Bit Server VM\n",
       "Default Encoding: UTF-8\n",
       "Language: en\n",
       "Country: null\n",
       "--></g></svg>"
      ]
     },
     "execution_count": 38,
     "metadata": {},
     "output_type": "execute_result"
    }
   ],
   "source": [
    "%viz --style=\"DEFAULT\" --view=\"Tree\" \"AnalysisTest\""
   ]
  },
  {
   "cell_type": "code",
   "execution_count": 39,
   "id": "fd12c0b2",
   "metadata": {
    "execution": {
     "iopub.execute_input": "2021-11-13T12:57:20.656885Z",
     "iopub.status.busy": "2021-11-13T12:57:20.656485Z",
     "iopub.status.idle": "2021-11-13T12:57:20.662064Z",
     "shell.execute_reply": "2021-11-13T12:57:20.661723Z"
    }
   },
   "outputs": [
    {
     "data": {
      "image/svg+xml": [
       "<?xml version=\"1.0\" encoding=\"UTF-8\" standalone=\"no\"?><svg xmlns=\"http://www.w3.org/2000/svg\" xmlns:xlink=\"http://www.w3.org/1999/xlink\" contentScriptType=\"application/ecmascript\" contentStyleType=\"text/css\" height=\"12px\" preserveAspectRatio=\"none\" style=\"width:12px;height:12px;\" version=\"1.1\" viewBox=\"0 0 12 12\" width=\"12px\" zoomAndPan=\"magnify\"><defs/><g><!--MD5=[c5f280e076d0d61ccf4b0f27871bda1d]\n",
       "@startuml\r\n",
       "skinparam monochrome true\r\n",
       "skinparam classbackgroundcolor white\r\n",
       "skinparam shadowing false\r\n",
       "skinparam wrapWidth 300\r\n",
       "hide circle\r\n",
       "\r\n",
       "@enduml\r\n",
       "\n",
       "PlantUML version 1.2020.13(Sat Jun 13 12:26:38 UTC 2020)\n",
       "(EPL source distribution)\n",
       "Java Runtime: OpenJDK Runtime Environment\n",
       "JVM: OpenJDK 64-Bit Server VM\n",
       "Default Encoding: UTF-8\n",
       "Language: en\n",
       "Country: null\n",
       "--></g></svg>"
      ]
     },
     "execution_count": 39,
     "metadata": {},
     "output_type": "execute_result"
    }
   ],
   "source": [
    "%viz --style=\"DEFAULT\" --view=\"State\" \"AnalysisTest\""
   ]
  },
  {
   "cell_type": "code",
   "execution_count": 40,
   "id": "d6ded38a",
   "metadata": {
    "execution": {
     "iopub.execute_input": "2021-11-13T12:57:20.711528Z",
     "iopub.status.busy": "2021-11-13T12:57:20.711124Z",
     "iopub.status.idle": "2021-11-13T12:57:20.766892Z",
     "shell.execute_reply": "2021-11-13T12:57:20.766516Z"
    }
   },
   "outputs": [
    {
     "data": {
      "image/svg+xml": [
       "<?xml version=\"1.0\" encoding=\"UTF-8\" standalone=\"no\"?><svg xmlns=\"http://www.w3.org/2000/svg\" xmlns:xlink=\"http://www.w3.org/1999/xlink\" contentScriptType=\"application/ecmascript\" contentStyleType=\"text/css\" height=\"446px\" preserveAspectRatio=\"none\" style=\"width:1132px;height:446px;\" version=\"1.1\" viewBox=\"0 0 1132 446\" width=\"1132px\" zoomAndPan=\"magnify\"><defs/><g><!--MD5=[fbc87193dbaf4d95561dea2c320d4a47]\n",
       "cluster E1--><a href=\"psysml:d47d9c93-f987-42aa-9c82-a11afa9e7a85\" target=\"_top\" title=\"psysml:d47d9c93-f987-42aa-9c82-a11afa9e7a85\" xlink:actuate=\"onRequest\" xlink:href=\"psysml:d47d9c93-f987-42aa-9c82-a11afa9e7a85\" xlink:show=\"new\" xlink:title=\"psysml:d47d9c93-f987-42aa-9c82-a11afa9e7a85\" xlink:type=\"simple\"><polygon fill=\"#FFFFFF\" points=\"16,6,108,6,115,28.2969,1110,28.2969,1110,434.86,16,434.86,16,6\" style=\"stroke: #000000; stroke-width: 1.5;\"/><line style=\"stroke: #000000; stroke-width: 1.5;\" x1=\"16\" x2=\"115\" y1=\"28.2969\" y2=\"28.2969\"/><text fill=\"#000000\" font-family=\"sans-serif\" font-size=\"14\" font-weight=\"bold\" lengthAdjust=\"spacingAndGlyphs\" textLength=\"86\" x=\"20\" y=\"20.9951\">AnalysisTest</text></a><!--MD5=[de5ec2e2e8f62f467e546659f5068c88]\n",
       "cluster E5--><a href=\"psysml:0d42cad1-3808-4e7b-8fe6-f660e27fd2bd\" target=\"_top\" title=\"psysml:0d42cad1-3808-4e7b-8fe6-f660e27fd2bd\" xlink:actuate=\"onRequest\" xlink:href=\"psysml:0d42cad1-3808-4e7b-8fe6-f660e27fd2bd\" xlink:show=\"new\" xlink:title=\"psysml:0d42cad1-3808-4e7b-8fe6-f660e27fd2bd\" xlink:type=\"simple\"><rect fill=\"#FFFFFF\" height=\"228.86\" id=\"E5\" style=\"stroke: #383838; stroke-width: 1.5;\" width=\"146\" x=\"948\" y=\"107\"/><rect fill=\"#F8F8F8\" height=\"37.9375\" style=\"stroke: #383838; stroke-width: 1.5;\" width=\"146\" x=\"948\" y=\"107\"/><text fill=\"#000000\" font-family=\"sans-serif\" font-size=\"12\" font-style=\"italic\" lengthAdjust=\"spacingAndGlyphs\" textLength=\"88\" x=\"977\" y=\"123.1387\">«analysis def»</text><text fill=\"#000000\" font-family=\"sans-serif\" font-size=\"12\" lengthAdjust=\"spacingAndGlyphs\" textLength=\"81\" x=\"980.5\" y=\"137.1074\">AnalysisCase</text></a><!--MD5=[55dfccfc6c49c2d10cd1bd2211a6c90c]\n",
       "cluster E8--><a href=\"psysml:058a72e0-0a98-4261-856d-73366cf47a25\" target=\"_top\" title=\"psysml:058a72e0-0a98-4261-856d-73366cf47a25\" xlink:actuate=\"onRequest\" xlink:href=\"psysml:058a72e0-0a98-4261-856d-73366cf47a25\" xlink:show=\"new\" xlink:title=\"psysml:058a72e0-0a98-4261-856d-73366cf47a25\" xlink:type=\"simple\"><rect fill=\"#FFFFFF\" height=\"303.86\" id=\"E8\" style=\"stroke: #383838; stroke-width: 1.5;\" width=\"259\" x=\"659\" y=\"107\"/><rect fill=\"#F8F8F8\" height=\"37.9375\" style=\"stroke: #383838; stroke-width: 1.5;\" width=\"259\" x=\"659\" y=\"107\"/><text fill=\"#000000\" font-family=\"sans-serif\" font-size=\"12\" font-style=\"italic\" lengthAdjust=\"spacingAndGlyphs\" textLength=\"88\" x=\"744.5\" y=\"123.1387\">«analysis def»</text><text fill=\"#000000\" font-family=\"sans-serif\" font-size=\"12\" lengthAdjust=\"spacingAndGlyphs\" textLength=\"77\" x=\"750\" y=\"137.1074\">AnalysisPlan</text></a><!--MD5=[a84b4591f868c1fa4a211716a82f2f0d]\n",
       "cluster E10--><a href=\"psysml:ebac0614-db53-4f6a-a11b-2a64966401ed\" target=\"_top\" title=\"psysml:ebac0614-db53-4f6a-a11b-2a64966401ed\" xlink:actuate=\"onRequest\" xlink:href=\"psysml:ebac0614-db53-4f6a-a11b-2a64966401ed\" xlink:show=\"new\" xlink:title=\"psysml:ebac0614-db53-4f6a-a11b-2a64966401ed\" xlink:type=\"simple\"><rect fill=\"#FFFFFF\" height=\"165.86\" id=\"E10\" rx=\"10\" ry=\"10\" style=\"stroke: #383838; stroke-width: 1.5;\" width=\"138\" x=\"742\" y=\"207\"/><rect fill=\"#F8F8F8\" height=\"37.9375\" rx=\"10\" ry=\"10\" style=\"stroke: #F8F8F8; stroke-width: 1.5;\" width=\"138\" x=\"742\" y=\"207\"/><rect fill=\"#F8F8F8\" height=\"10\" style=\"stroke: #F8F8F8; stroke-width: 1.5;\" width=\"138\" x=\"742\" y=\"234.9375\"/><rect fill=\"none\" height=\"165.86\" id=\"E10\" rx=\"10\" ry=\"10\" style=\"stroke: #383838; stroke-width: 1.5;\" width=\"138\" x=\"742\" y=\"207\"/><text fill=\"#000000\" font-family=\"sans-serif\" font-size=\"12\" font-style=\"italic\" lengthAdjust=\"spacingAndGlyphs\" textLength=\"64\" x=\"779\" y=\"223.1387\">«analysis»</text><text fill=\"#000000\" font-family=\"sans-serif\" font-size=\"12\" lengthAdjust=\"spacingAndGlyphs\" textLength=\"81\" x=\"770.5\" y=\"237.1074\">analysisCase</text><line style=\"stroke: #383838; stroke-width: 1.0;\" x1=\"742\" x2=\"880\" y1=\"244.9375\" y2=\"244.9375\"/></a><!--MD5=[bcf29f0808fc96f19b1afbee8cfc1f11]\n",
       "cluster E14--><a href=\"psysml:2f29b586-744b-44a6-b354-0cb36fac52ba\" target=\"_top\" title=\"psysml:2f29b586-744b-44a6-b354-0cb36fac52ba\" xlink:actuate=\"onRequest\" xlink:href=\"psysml:2f29b586-744b-44a6-b354-0cb36fac52ba\" xlink:show=\"new\" xlink:title=\"psysml:2f29b586-744b-44a6-b354-0cb36fac52ba\" xlink:type=\"simple\"><rect fill=\"#FFFFFF\" height=\"197\" id=\"E14\" rx=\"10\" ry=\"10\" style=\"stroke: #383838; stroke-width: 1.5;\" width=\"204\" x=\"368\" y=\"49\"/><rect fill=\"#F8F8F8\" height=\"23.9688\" rx=\"10\" ry=\"10\" style=\"stroke: #F8F8F8; stroke-width: 1.5;\" width=\"204\" x=\"368\" y=\"49\"/><rect fill=\"#F8F8F8\" height=\"10\" style=\"stroke: #F8F8F8; stroke-width: 1.5;\" width=\"204\" x=\"368\" y=\"62.9688\"/><rect fill=\"none\" height=\"197\" id=\"E14\" rx=\"10\" ry=\"10\" style=\"stroke: #383838; stroke-width: 1.5;\" width=\"204\" x=\"368\" y=\"49\"/><text fill=\"#000000\" font-family=\"sans-serif\" font-size=\"12\" lengthAdjust=\"spacingAndGlyphs\" textLength=\"98\" x=\"421\" y=\"65.1387\">analysisContext</text><line style=\"stroke: #383838; stroke-width: 1.0;\" x1=\"368\" x2=\"572\" y1=\"72.9688\" y2=\"72.9688\"/></a><!--MD5=[ebbe1d658d1005bcc118a6aa81145e00]\n",
       "class E4--><a href=\"psysml:31fce779-d9ab-452b-8111-7f3c68bff972\" target=\"_top\" title=\"psysml:31fce779-d9ab-452b-8111-7f3c68bff972\" xlink:actuate=\"onRequest\" xlink:href=\"psysml:31fce779-d9ab-452b-8111-7f3c68bff972\" xlink:show=\"new\" xlink:title=\"psysml:31fce779-d9ab-452b-8111-7f3c68bff972\" xlink:type=\"simple\"><rect fill=\"#FFFFFF\" height=\"66.7422\" id=\"E4\" style=\"stroke: #383838; stroke-width: 1.5;\" width=\"121\" x=\"227.5\" y=\"73.5\"/><text fill=\"#000000\" font-family=\"sans-serif\" font-size=\"12\" font-style=\"italic\" lengthAdjust=\"spacingAndGlyphs\" textLength=\"119\" x=\"228.5\" y=\"89.6387\">«requirement  def»</text><text fill=\"#000000\" font-family=\"sans-serif\" font-size=\"12\" lengthAdjust=\"spacingAndGlyphs\" textLength=\"107\" x=\"234.5\" y=\"103.6074\">AnalysisObjective</text><line style=\"stroke: #383838; stroke-width: 1.5;\" x1=\"228.5\" x2=\"347.5\" y1=\"111.4375\" y2=\"111.4375\"/><text fill=\"#000000\" font-family=\"sans-serif\" font-size=\"11\" lengthAdjust=\"spacingAndGlyphs\" textLength=\"12\" x=\"233.5\" y=\"125.6479\">...</text><line style=\"stroke: #383838; stroke-width: 1.0;\" x1=\"228.5\" x2=\"347.5\" y1=\"132.2422\" y2=\"132.2422\"/></a><g id=\"E1.E2\"><a href=\"psysml:6e318fc7-f06d-4e4c-8e44-1e6d0f884455\" target=\"_top\" title=\"psysml:6e318fc7-f06d-4e4c-8e44-1e6d0f884455\" xlink:actuate=\"onRequest\" xlink:href=\"psysml:6e318fc7-f06d-4e4c-8e44-1e6d0f884455\" xlink:show=\"new\" xlink:title=\"psysml:6e318fc7-f06d-4e4c-8e44-1e6d0f884455\" xlink:type=\"simple\"><rect fill=\"#FFFFFF\" height=\"42.9375\" id=\"E2\" style=\"stroke: #383838; stroke-width: 1.5;\" width=\"75\" x=\"117.5\" y=\"85.5\"/><rect fill=\"#F8F8F8\" height=\"37.9375\" style=\"stroke: #383838; stroke-width: 1.5;\" width=\"75\" x=\"117.5\" y=\"85.5\"/><text fill=\"#000000\" font-family=\"sans-serif\" font-size=\"12\" font-style=\"italic\" lengthAdjust=\"spacingAndGlyphs\" textLength=\"68\" x=\"121\" y=\"101.6387\">«part  def»</text><text fill=\"#000000\" font-family=\"sans-serif\" font-size=\"12\" lengthAdjust=\"spacingAndGlyphs\" textLength=\"8\" x=\"151\" y=\"115.6074\">V</text></a></g><g id=\"E1.E3\"><a href=\"psysml:27999d5c-daad-4ed7-92ff-020a622ea083\" target=\"_top\" title=\"psysml:27999d5c-daad-4ed7-92ff-020a622ea083\" xlink:actuate=\"onRequest\" xlink:href=\"psysml:27999d5c-daad-4ed7-92ff-020a622ea083\" xlink:show=\"new\" xlink:title=\"psysml:27999d5c-daad-4ed7-92ff-020a622ea083\" xlink:type=\"simple\"><rect fill=\"#FFFFFF\" height=\"40\" id=\"E3\" rx=\"10\" ry=\"10\" style=\"stroke: #383838; stroke-width: 1.5;\" width=\"50\" x=\"32\" y=\"87\"/><rect fill=\"#F8F8F8\" height=\"23.9688\" rx=\"10\" ry=\"10\" style=\"stroke: #F8F8F8; stroke-width: 1.5;\" width=\"50\" x=\"32\" y=\"87\"/><rect fill=\"#F8F8F8\" height=\"10\" style=\"stroke: #F8F8F8; stroke-width: 1.5;\" width=\"50\" x=\"32\" y=\"100.9688\"/><rect fill=\"none\" height=\"40\" id=\"E3\" rx=\"10\" ry=\"10\" style=\"stroke: #383838; stroke-width: 1.5;\" width=\"50\" x=\"32\" y=\"87\"/><text fill=\"#000000\" font-family=\"sans-serif\" font-size=\"12\" lengthAdjust=\"spacingAndGlyphs\" textLength=\"28\" x=\"43\" y=\"103.1387\">vv: V</text></a></g><text fill=\"#000000\" font-family=\"sans-serif\" font-size=\"14\" lengthAdjust=\"spacingAndGlyphs\" textLength=\"7\" x=\"1017.5\" y=\"85.6982\">v</text><rect fill=\"#383838\" height=\"12\" style=\"stroke: #F8F8F8; stroke-width: 1.5;\" width=\"12\" x=\"1015\" y=\"101\"/><text fill=\"#000000\" font-family=\"sans-serif\" font-size=\"14\" lengthAdjust=\"spacingAndGlyphs\" textLength=\"39\" x=\"1001.5\" y=\"354.8551\">result</text><rect fill=\"#383838\" height=\"12\" style=\"stroke: #F8F8F8; stroke-width: 1.5;\" width=\"12\" x=\"1015\" y=\"329.86\"/><text fill=\"#000000\" font-family=\"sans-serif\" font-size=\"14\" lengthAdjust=\"spacingAndGlyphs\" textLength=\"7\" x=\"673.5\" y=\"85.6982\">v</text><rect fill=\"#383838\" height=\"12\" style=\"stroke: #F8F8F8; stroke-width: 1.5;\" width=\"12\" x=\"671\" y=\"101\"/><text fill=\"#000000\" font-family=\"sans-serif\" font-size=\"14\" lengthAdjust=\"spacingAndGlyphs\" textLength=\"39\" x=\"898.5\" y=\"354.8551\">result</text><rect fill=\"#383838\" height=\"12\" style=\"stroke: #F8F8F8; stroke-width: 1.5;\" width=\"12\" x=\"912\" y=\"329.86\"/><text fill=\"#000000\" font-family=\"sans-serif\" font-size=\"14\" lengthAdjust=\"spacingAndGlyphs\" textLength=\"37\" x=\"792.5\" y=\"391.8551\">mass</text><rect fill=\"#383838\" height=\"12\" style=\"stroke: #F8F8F8; stroke-width: 1.5;\" width=\"12\" x=\"805\" y=\"366.86\"/><text fill=\"#000000\" font-family=\"sans-serif\" font-size=\"14\" lengthAdjust=\"spacingAndGlyphs\" textLength=\"7\" x=\"807.5\" y=\"185.6982\">v</text><rect fill=\"#383838\" height=\"12\" style=\"stroke: #F8F8F8; stroke-width: 1.5;\" width=\"12\" x=\"805\" y=\"201\"/><!--MD5=[0c48fb7552dae8cbbef69381101a84c8]\n",
       "class E15--><a href=\"psysml:cfe8b385-7bc2-406c-91e1-db9911ba5874\" target=\"_top\" title=\"psysml:cfe8b385-7bc2-406c-91e1-db9911ba5874\" xlink:actuate=\"onRequest\" xlink:href=\"psysml:cfe8b385-7bc2-406c-91e1-db9911ba5874\" xlink:show=\"new\" xlink:title=\"psysml:cfe8b385-7bc2-406c-91e1-db9911ba5874\" xlink:type=\"simple\"><rect fill=\"#FFFFFF\" height=\"45.9375\" id=\"E15\" rx=\"10\" ry=\"10\" style=\"stroke: #383838; stroke-width: 1.5;\" width=\"172\" x=\"384\" y=\"84\"/><text fill=\"#000000\" font-family=\"sans-serif\" font-size=\"12\" font-style=\"italic\" lengthAdjust=\"spacingAndGlyphs\" textLength=\"64\" x=\"438\" y=\"100.1387\">«analysis»</text><text fill=\"#000000\" font-family=\"sans-serif\" font-size=\"12\" lengthAdjust=\"spacingAndGlyphs\" textLength=\"162\" x=\"387\" y=\"114.1074\">analysisPlan: AnalysisPlan</text><line style=\"stroke: #383838; stroke-width: 1.5;\" x1=\"385\" x2=\"555\" y1=\"121.9375\" y2=\"121.9375\"/></a><!--MD5=[35f0587eaee8d5bb9a02e25b63afc23b]\n",
       "class E16--><a href=\"psysml:63325e1e-8a82-4691-b26b-3354962a7cad\" target=\"_top\" title=\"psysml:63325e1e-8a82-4691-b26b-3354962a7cad\" xlink:actuate=\"onRequest\" xlink:href=\"psysml:63325e1e-8a82-4691-b26b-3354962a7cad\" xlink:show=\"new\" xlink:title=\"psysml:63325e1e-8a82-4691-b26b-3354962a7cad\" xlink:type=\"simple\"><rect fill=\"#FFFFFF\" height=\"45.9375\" id=\"E16\" rx=\"10\" ry=\"10\" style=\"stroke: #383838; stroke-width: 1.5;\" width=\"93\" x=\"423.5\" y=\"184\"/><text fill=\"#000000\" font-family=\"sans-serif\" font-size=\"12\" font-style=\"italic\" lengthAdjust=\"spacingAndGlyphs\" textLength=\"91\" x=\"424.5\" y=\"200.1387\">«requirement»</text><text fill=\"#000000\" font-family=\"sans-serif\" font-size=\"12\" lengthAdjust=\"spacingAndGlyphs\" textLength=\"19\" x=\"460.5\" y=\"214.1074\">obj</text><line style=\"stroke: #383838; stroke-width: 1.5;\" x1=\"424.5\" x2=\"515.5\" y1=\"221.9375\" y2=\"221.9375\"/></a><!--MD5=[1b01d5b954197aaf3899ca0bde35faf5]\n",
       "link E15 to E8--><a href=\"psysml:b8e5c057-83f1-47ef-94c9-1676b303e623\" target=\"_top\" title=\"psysml:b8e5c057-83f1-47ef-94c9-1676b303e623\" xlink:actuate=\"onRequest\" xlink:href=\"psysml:b8e5c057-83f1-47ef-94c9-1676b303e623\" xlink:show=\"new\" xlink:title=\"psysml:b8e5c057-83f1-47ef-94c9-1676b303e623\" xlink:type=\"simple\"><path d=\"M516.71,130.12 C554.75,148.12 607.61,173.15 642.06,189.46 \" fill=\"none\" id=\"E15-&gt;E8\" style=\"stroke: #383838; stroke-width: 1.0;\"/><polygon fill=\"#FFFFFF\" points=\"642.06,189.46,621.892,187.6566,627.8827,175.003,642.06,189.46\" style=\"stroke: #383838; stroke-width: 1.0;\"/><ellipse cx=\"617.596\" cy=\"183.4098\" fill=\"#383838\" rx=\"2\" ry=\"2\" style=\"stroke: #383838; stroke-width: 1.0;\"/><ellipse cx=\"621.8751\" cy=\"174.3716\" fill=\"#383838\" rx=\"2\" ry=\"2\" style=\"stroke: #383838; stroke-width: 1.0;\"/></a><!--MD5=[f8b155c46b092be73bb522b0a8fc72a2]\n",
       "link E15 to E16--><a href=\"psysml:7d3bd451-2ef5-4e75-9594-2e0dd7330291\" target=\"_top\" title=\"psysml:7d3bd451-2ef5-4e75-9594-2e0dd7330291\" xlink:actuate=\"onRequest\" xlink:href=\"psysml:7d3bd451-2ef5-4e75-9594-2e0dd7330291\" xlink:show=\"new\" xlink:title=\"psysml:7d3bd451-2ef5-4e75-9594-2e0dd7330291\" xlink:type=\"simple\"><path d=\"M470,130.24 C470,143.64 470,160.91 470,175.57 \" fill=\"none\" id=\"E15-&gt;E16\" style=\"stroke: #383838; stroke-width: 1.0;\"/><polygon fill=\"#383838\" points=\"470,183.85,473,175.85,467,175.85,470,183.85\" style=\"stroke: #383838; stroke-width: 1.0;\"/><text fill=\"#000000\" font-family=\"sans-serif\" font-size=\"13\" lengthAdjust=\"spacingAndGlyphs\" textLength=\"73\" x=\"471\" y=\"161.5669\">«objective»</text><text fill=\"#000000\" font-family=\"sans-serif\" font-size=\"13\" lengthAdjust=\"spacingAndGlyphs\" textLength=\"8\" x=\"460.975\" y=\"173.0879\">1</text></a><!--MD5=[2abbdb9a305a42effe19699946cf9614]\n",
       "@startuml\r\n",
       "skinparam ranksep 10\r\n",
       "skinparam rectangle {\r\n",
       " backgroundColor<<block>> LightGreen\r\n",
       "}\r\n",
       "skinparam monochrome true\r\n",
       "skinparam classbackgroundcolor white\r\n",
       "skinparam shadowing false\r\n",
       "skinparam wrapWidth 300\r\n",
       "hide circle\r\n",
       "\r\n",
       "package \"AnalysisTest\" as E1  [[psysml:d47d9c93-f987-42aa-9c82-a11afa9e7a85 ]]  {\r\n",
       "rec def \"V\" as E2  <<(T,blue) part  def>> [[psysml:6e318fc7-f06d-4e4c-8e44-1e6d0f884455 ]] {\r\n",
       "}\r\n",
       "rec usage \"vv: V\" as E3  [[psysml:27999d5c-daad-4ed7-92ff-020a622ea083 ]] {\r\n",
       "}\r\n",
       "comp def \"AnalysisObjective\" as E4  <<(T,blue) requirement  def>> [[psysml:31fce779-d9ab-452b-8111-7f3c68bff972 ]] {\r\n",
       "...\r\n",
       "- -\r\n",
       "}\r\n",
       "rec def \"AnalysisCase\" as E5 << analysis def>> [[psysml:0d42cad1-3808-4e7b-8fe6-f660e27fd2bd ]] {\r\n",
       "portin \"v\" as E6  [[psysml:f7aad551-6165-4689-8df3-b128f6f54571 ]] \r\n",
       "portout \"result\" as E7  [[psysml:d8a9a5d1-c1b2-404a-b54f-35037ecf4c2d ]] \r\n",
       "}\r\n",
       "\r\n",
       "rec def \"AnalysisPlan\" as E8 << analysis def>> [[psysml:058a72e0-0a98-4261-856d-73366cf47a25 ]] {\r\n",
       "portin \"v\" as E9  [[psysml:40d43c87-89d5-4dcb-a988-f011f6f29ac5 ]] \r\n",
       "rec usage \"analysisCase\" as E10 << analysis>> [[psysml:ebac0614-db53-4f6a-a11b-2a64966401ed ]] {\r\n",
       "portout \"mass\" as E11  [[psysml:94298e01-1500-44a7-8244-0cc3e5620ae6 ]] \r\n",
       "portin \"v\" as E12  [[psysml:fabccdcf-1c94-4d5c-8a0b-5626b651aa80 ]] \r\n",
       "}\r\n",
       "\r\n",
       "portout \"result\" as E13  [[psysml:633f1383-e65f-4e22-9e6d-6ffcdde4bc38 ]] \r\n",
       "}\r\n",
       "\r\n",
       "rec usage \"analysisContext\" as E14  [[psysml:2f29b586-744b-44a6-b354-0cb36fac52ba ]] {\r\n",
       "comp usage \"analysisPlan: AnalysisPlan \" as E15 << analysis>> [[psysml:cfe8b385-7bc2-406c-91e1-db9911ba5874 ]] {\r\n",
       "}\r\n",
       "comp usage \"obj\" as E16  <<(T,blue) requirement>> [[psysml:63325e1e-8a82-4691-b26b-3354962a7cad ]] {\r\n",
       "}\r\n",
       "}\r\n",
       "}\r\n",
       "E15 - -:|> E8 [[psysml:b8e5c057-83f1-47ef-94c9-1676b303e623 ]] \r\n",
       "E15 - ->> \"1\"E16 [[psysml:7d3bd451-2ef5-4e75-9594-2e0dd7330291 ]] : <<objective>>\r\n",
       "@enduml\r\n",
       "\n",
       "PlantUML version 1.2020.13(Sat Jun 13 12:26:38 UTC 2020)\n",
       "(EPL source distribution)\n",
       "Java Runtime: OpenJDK Runtime Environment\n",
       "JVM: OpenJDK 64-Bit Server VM\n",
       "Default Encoding: UTF-8\n",
       "Language: en\n",
       "Country: null\n",
       "--></g></svg>"
      ]
     },
     "execution_count": 40,
     "metadata": {},
     "output_type": "execute_result"
    }
   ],
   "source": [
    "%viz --style=\"DEFAULT\" --view=\"Interconnection\" \"AnalysisTest\""
   ]
  },
  {
   "cell_type": "code",
   "execution_count": 41,
   "id": "d1dcc84e",
   "metadata": {
    "execution": {
     "iopub.execute_input": "2021-11-13T12:57:20.815904Z",
     "iopub.status.busy": "2021-11-13T12:57:20.815483Z",
     "iopub.status.idle": "2021-11-13T12:57:20.853196Z",
     "shell.execute_reply": "2021-11-13T12:57:20.852804Z"
    }
   },
   "outputs": [
    {
     "data": {
      "image/svg+xml": [
       "<?xml version=\"1.0\" encoding=\"UTF-8\" standalone=\"no\"?><svg xmlns=\"http://www.w3.org/2000/svg\" xmlns:xlink=\"http://www.w3.org/1999/xlink\" contentScriptType=\"application/ecmascript\" contentStyleType=\"text/css\" height=\"233px\" preserveAspectRatio=\"none\" style=\"width:649px;height:233px;\" version=\"1.1\" viewBox=\"0 0 649 233\" width=\"649px\" zoomAndPan=\"magnify\"><defs/><g><!--MD5=[fbc87193dbaf4d95561dea2c320d4a47]\n",
       "cluster E1--><a href=\"psysml:0d42cad1-3808-4e7b-8fe6-f660e27fd2bd\" target=\"_top\" title=\"psysml:0d42cad1-3808-4e7b-8fe6-f660e27fd2bd\" xlink:actuate=\"onRequest\" xlink:href=\"psysml:0d42cad1-3808-4e7b-8fe6-f660e27fd2bd\" xlink:show=\"new\" xlink:title=\"psysml:0d42cad1-3808-4e7b-8fe6-f660e27fd2bd\" xlink:type=\"simple\"><rect fill=\"#FFFFFF\" height=\"122\" id=\"E1\" style=\"stroke: #383838; stroke-width: 1.5;\" width=\"146\" x=\"7\" y=\"42.0986\"/><rect fill=\"#F8F8F8\" height=\"37.9375\" style=\"stroke: #383838; stroke-width: 1.5;\" width=\"146\" x=\"7\" y=\"42.0986\"/><text fill=\"#000000\" font-family=\"sans-serif\" font-size=\"12\" font-style=\"italic\" lengthAdjust=\"spacingAndGlyphs\" textLength=\"88\" x=\"36\" y=\"58.2373\">«analysis def»</text><text fill=\"#000000\" font-family=\"sans-serif\" font-size=\"12\" lengthAdjust=\"spacingAndGlyphs\" textLength=\"81\" x=\"39.5\" y=\"72.2061\">AnalysisCase</text></a><!--MD5=[f6df4d0ebaf0b5dfb2ced0ae5af7c670]\n",
       "cluster E4--><a href=\"psysml:058a72e0-0a98-4261-856d-73366cf47a25\" target=\"_top\" title=\"psysml:058a72e0-0a98-4261-856d-73366cf47a25\" xlink:actuate=\"onRequest\" xlink:href=\"psysml:058a72e0-0a98-4261-856d-73366cf47a25\" xlink:show=\"new\" xlink:title=\"psysml:058a72e0-0a98-4261-856d-73366cf47a25\" xlink:type=\"simple\"><rect fill=\"#FFFFFF\" height=\"180\" id=\"E4\" style=\"stroke: #383838; stroke-width: 1.5;\" width=\"262\" x=\"216\" y=\"42.0986\"/><rect fill=\"#F8F8F8\" height=\"37.9375\" style=\"stroke: #383838; stroke-width: 1.5;\" width=\"262\" x=\"216\" y=\"42.0986\"/><text fill=\"#000000\" font-family=\"sans-serif\" font-size=\"12\" font-style=\"italic\" lengthAdjust=\"spacingAndGlyphs\" textLength=\"88\" x=\"303\" y=\"58.2373\">«analysis def»</text><text fill=\"#000000\" font-family=\"sans-serif\" font-size=\"12\" lengthAdjust=\"spacingAndGlyphs\" textLength=\"77\" x=\"308.5\" y=\"72.2061\">AnalysisPlan</text></a><!--MD5=[14e3b0961a2654348d326746436168a1]\n",
       "cluster E6--><a href=\"psysml:ebac0614-db53-4f6a-a11b-2a64966401ed\" target=\"_top\" title=\"psysml:ebac0614-db53-4f6a-a11b-2a64966401ed\" xlink:actuate=\"onRequest\" xlink:href=\"psysml:ebac0614-db53-4f6a-a11b-2a64966401ed\" xlink:show=\"new\" xlink:title=\"psysml:ebac0614-db53-4f6a-a11b-2a64966401ed\" xlink:type=\"simple\"><rect fill=\"#FFFFFF\" height=\"110.5\" id=\"E6\" rx=\"10\" ry=\"10\" style=\"stroke: #383838; stroke-width: 1.5;\" width=\"138\" x=\"299\" y=\"81.5986\"/><rect fill=\"#F8F8F8\" height=\"37.9375\" rx=\"10\" ry=\"10\" style=\"stroke: #F8F8F8; stroke-width: 1.5;\" width=\"138\" x=\"299\" y=\"81.5986\"/><rect fill=\"#F8F8F8\" height=\"10\" style=\"stroke: #F8F8F8; stroke-width: 1.5;\" width=\"138\" x=\"299\" y=\"109.5361\"/><rect fill=\"none\" height=\"110.5\" id=\"E6\" rx=\"10\" ry=\"10\" style=\"stroke: #383838; stroke-width: 1.5;\" width=\"138\" x=\"299\" y=\"81.5986\"/><text fill=\"#000000\" font-family=\"sans-serif\" font-size=\"12\" font-style=\"italic\" lengthAdjust=\"spacingAndGlyphs\" textLength=\"64\" x=\"336\" y=\"97.7373\">«analysis»</text><text fill=\"#000000\" font-family=\"sans-serif\" font-size=\"12\" lengthAdjust=\"spacingAndGlyphs\" textLength=\"81\" x=\"327.5\" y=\"111.7061\">analysisCase</text><line style=\"stroke: #383838; stroke-width: 1.0;\" x1=\"299\" x2=\"437\" y1=\"119.5361\" y2=\"119.5361\"/></a><!--MD5=[a84b4591f868c1fa4a211716a82f2f0d]\n",
       "cluster E10--><a href=\"psysml:cfe8b385-7bc2-406c-91e1-db9911ba5874\" target=\"_top\" title=\"psysml:cfe8b385-7bc2-406c-91e1-db9911ba5874\" xlink:actuate=\"onRequest\" xlink:href=\"psysml:cfe8b385-7bc2-406c-91e1-db9911ba5874\" xlink:show=\"new\" xlink:title=\"psysml:cfe8b385-7bc2-406c-91e1-db9911ba5874\" xlink:type=\"simple\"><rect fill=\"#FFFFFF\" height=\"122\" id=\"E10\" rx=\"10\" ry=\"10\" style=\"stroke: #383838; stroke-width: 1.5;\" width=\"130\" x=\"507\" y=\"42.0986\"/><rect fill=\"#F8F8F8\" height=\"37.9375\" rx=\"10\" ry=\"10\" style=\"stroke: #F8F8F8; stroke-width: 1.5;\" width=\"130\" x=\"507\" y=\"42.0986\"/><rect fill=\"#F8F8F8\" height=\"10\" style=\"stroke: #F8F8F8; stroke-width: 1.5;\" width=\"130\" x=\"507\" y=\"70.0361\"/><rect fill=\"none\" height=\"122\" id=\"E10\" rx=\"10\" ry=\"10\" style=\"stroke: #383838; stroke-width: 1.5;\" width=\"130\" x=\"507\" y=\"42.0986\"/><text fill=\"#000000\" font-family=\"sans-serif\" font-size=\"12\" font-style=\"italic\" lengthAdjust=\"spacingAndGlyphs\" textLength=\"64\" x=\"540\" y=\"58.2373\">«analysis»</text><text fill=\"#000000\" font-family=\"sans-serif\" font-size=\"12\" lengthAdjust=\"spacingAndGlyphs\" textLength=\"77\" x=\"533.5\" y=\"72.2061\">analysisPlan</text><line style=\"stroke: #383838; stroke-width: 1.0;\" x1=\"507\" x2=\"637\" y1=\"80.0361\" y2=\"80.0361\"/></a><text fill=\"#000000\" font-family=\"sans-serif\" font-size=\"14\" lengthAdjust=\"spacingAndGlyphs\" textLength=\"7\" x=\"76.5\" y=\"20.7969\">v</text><rect fill=\"#383838\" height=\"12\" style=\"stroke: #F8F8F8; stroke-width: 1.5;\" width=\"12\" x=\"74\" y=\"36.0986\"/><text fill=\"#000000\" font-family=\"sans-serif\" font-size=\"14\" lengthAdjust=\"spacingAndGlyphs\" textLength=\"39\" x=\"60.5\" y=\"183.0938\">result</text><rect fill=\"#383838\" height=\"12\" style=\"stroke: #F8F8F8; stroke-width: 1.5;\" width=\"12\" x=\"74\" y=\"158.0986\"/><text fill=\"#000000\" font-family=\"sans-serif\" font-size=\"14\" lengthAdjust=\"spacingAndGlyphs\" textLength=\"7\" x=\"230.5\" y=\"20.7969\">v</text><rect fill=\"#383838\" height=\"12\" style=\"stroke: #F8F8F8; stroke-width: 1.5;\" width=\"12\" x=\"228\" y=\"36.0986\"/><text fill=\"#000000\" font-family=\"sans-serif\" font-size=\"14\" lengthAdjust=\"spacingAndGlyphs\" textLength=\"39\" x=\"458.5\" y=\"183.0938\">result</text><rect fill=\"#383838\" height=\"12\" style=\"stroke: #F8F8F8; stroke-width: 1.5;\" width=\"12\" x=\"472\" y=\"158.0986\"/><text fill=\"#000000\" font-family=\"sans-serif\" font-size=\"14\" lengthAdjust=\"spacingAndGlyphs\" textLength=\"37\" x=\"349.5\" y=\"211.0938\">mass</text><rect fill=\"#383838\" height=\"12\" style=\"stroke: #F8F8F8; stroke-width: 1.5;\" width=\"12\" x=\"362\" y=\"186.0986\"/><text fill=\"#000000\" font-family=\"sans-serif\" font-size=\"14\" lengthAdjust=\"spacingAndGlyphs\" textLength=\"7\" x=\"364.5\" y=\"60.2969\">v</text><rect fill=\"#383838\" height=\"12\" style=\"stroke: #F8F8F8; stroke-width: 1.5;\" width=\"12\" x=\"362\" y=\"75.5986\"/><text fill=\"#000000\" font-family=\"sans-serif\" font-size=\"14\" lengthAdjust=\"spacingAndGlyphs\" textLength=\"7\" x=\"567.5\" y=\"20.7969\">v</text><rect fill=\"#383838\" height=\"12\" style=\"stroke: #F8F8F8; stroke-width: 1.5;\" width=\"12\" x=\"565\" y=\"36.0986\"/><text fill=\"#000000\" font-family=\"sans-serif\" font-size=\"14\" lengthAdjust=\"spacingAndGlyphs\" textLength=\"39\" x=\"505.5\" y=\"183.0938\">result</text><rect fill=\"#383838\" height=\"12\" style=\"stroke: #F8F8F8; stroke-width: 1.5;\" width=\"12\" x=\"519\" y=\"158.0986\"/><!--MD5=[7d46248fa970b35b4eb42f3336d24484]\n",
       "@startuml\r\n",
       "skinparam ranksep 8\r\n",
       "skinparam monochrome true\r\n",
       "skinparam classbackgroundcolor white\r\n",
       "skinparam shadowing false\r\n",
       "skinparam wrapWidth 300\r\n",
       "hide circle\r\n",
       "\r\n",
       "rec def \"AnalysisCase\" as E1 << analysis def>> [[psysml:0d42cad1-3808-4e7b-8fe6-f660e27fd2bd ]] {\r\n",
       "portin \"v\" as E2  [[psysml:f7aad551-6165-4689-8df3-b128f6f54571 ]] \r\n",
       "portout \"result\" as E3  [[psysml:d8a9a5d1-c1b2-404a-b54f-35037ecf4c2d ]] \r\n",
       "}\r\n",
       "\r\n",
       "rec def \"AnalysisPlan\" as E4 << analysis def>> [[psysml:058a72e0-0a98-4261-856d-73366cf47a25 ]] {\r\n",
       "portin \"v\" as E5  [[psysml:40d43c87-89d5-4dcb-a988-f011f6f29ac5 ]] \r\n",
       "rec usage \"analysisCase\" as E6 << analysis>> [[psysml:ebac0614-db53-4f6a-a11b-2a64966401ed ]] {\r\n",
       "portout \"mass\" as E7  [[psysml:94298e01-1500-44a7-8244-0cc3e5620ae6 ]] \r\n",
       "portin \"v\" as E8  [[psysml:fabccdcf-1c94-4d5c-8a0b-5626b651aa80 ]] \r\n",
       "}\r\n",
       "\r\n",
       "portout \"result\" as E9  [[psysml:633f1383-e65f-4e22-9e6d-6ffcdde4bc38 ]] \r\n",
       "}\r\n",
       "\r\n",
       "rec usage \"analysisPlan\" as E10 << analysis>> [[psysml:cfe8b385-7bc2-406c-91e1-db9911ba5874 ]] {\r\n",
       "portin \"v\" as E11  [[psysml:55cfee2c-c24c-468f-9db4-77480ce5a457 ]] \r\n",
       "portout \"result\" as E12  [[psysml:8005f62b-cb79-4c8e-b32b-9a19d0c6c24c ]] \r\n",
       "}\r\n",
       "\r\n",
       "@enduml\r\n",
       "\n",
       "PlantUML version 1.2020.13(Sat Jun 13 12:26:38 UTC 2020)\n",
       "(EPL source distribution)\n",
       "Java Runtime: OpenJDK Runtime Environment\n",
       "JVM: OpenJDK 64-Bit Server VM\n",
       "Default Encoding: UTF-8\n",
       "Language: en\n",
       "Country: null\n",
       "--></g></svg>"
      ]
     },
     "execution_count": 41,
     "metadata": {},
     "output_type": "execute_result"
    }
   ],
   "source": [
    "%viz --style=\"DEFAULT\" --view=\"Action\" \"AnalysisTest\""
   ]
  },
  {
   "cell_type": "code",
   "execution_count": 42,
   "id": "f337a8a7",
   "metadata": {
    "execution": {
     "iopub.execute_input": "2021-11-13T12:57:20.902326Z",
     "iopub.status.busy": "2021-11-13T12:57:20.901915Z",
     "iopub.status.idle": "2021-11-13T12:57:20.907997Z",
     "shell.execute_reply": "2021-11-13T12:57:20.907651Z"
    }
   },
   "outputs": [
    {
     "data": {
      "image/svg+xml": [
       "<?xml version=\"1.0\" encoding=\"UTF-8\" standalone=\"no\"?><svg xmlns=\"http://www.w3.org/2000/svg\" xmlns:xlink=\"http://www.w3.org/1999/xlink\" contentScriptType=\"application/ecmascript\" contentStyleType=\"text/css\" height=\"12px\" preserveAspectRatio=\"none\" style=\"width:12px;height:12px;\" version=\"1.1\" viewBox=\"0 0 12 12\" width=\"12px\" zoomAndPan=\"magnify\"><defs/><g><!--MD5=[0b72472770326784bf6c2b53246e1e64]\n",
       "@startuml\r\n",
       "skinparam roundcorner 20\r\n",
       "skinparam BoxPadding 20\r\n",
       "skinparam SequenceBoxBackgroundColor #white\r\n",
       "skinparam style strictuml\r\n",
       "skinparam maxMessageSize 100\r\n",
       "skinparam monochrome true\r\n",
       "skinparam classbackgroundcolor white\r\n",
       "skinparam shadowing false\r\n",
       "skinparam wrapWidth 300\r\n",
       "hide circle\r\n",
       "\r\n",
       "@enduml\r\n",
       "\n",
       "PlantUML version 1.2020.13(Sat Jun 13 12:26:38 UTC 2020)\n",
       "(EPL source distribution)\n",
       "Java Runtime: OpenJDK Runtime Environment\n",
       "JVM: OpenJDK 64-Bit Server VM\n",
       "Default Encoding: UTF-8\n",
       "Language: en\n",
       "Country: null\n",
       "--></g></svg>"
      ]
     },
     "execution_count": 42,
     "metadata": {},
     "output_type": "execute_result"
    }
   ],
   "source": [
    "%viz --style=\"DEFAULT\" --view=\"Sequence\" \"AnalysisTest\""
   ]
  },
  {
   "cell_type": "code",
   "execution_count": 43,
   "id": "c70d2db3",
   "metadata": {
    "execution": {
     "iopub.execute_input": "2021-11-13T12:57:20.957077Z",
     "iopub.status.busy": "2021-11-13T12:57:20.956674Z",
     "iopub.status.idle": "2021-11-13T12:57:21.018918Z",
     "shell.execute_reply": "2021-11-13T12:57:21.018563Z"
    }
   },
   "outputs": [
    {
     "data": {
      "image/svg+xml": [
       "<?xml version=\"1.0\" encoding=\"UTF-8\" standalone=\"no\"?><svg xmlns=\"http://www.w3.org/2000/svg\" xmlns:xlink=\"http://www.w3.org/1999/xlink\" contentScriptType=\"application/ecmascript\" contentStyleType=\"text/css\" height=\"658px\" preserveAspectRatio=\"none\" style=\"width:845px;height:658px;\" version=\"1.1\" viewBox=\"0 0 845 658\" width=\"845px\" zoomAndPan=\"magnify\"><defs/><g><!--MD5=[fbc87193dbaf4d95561dea2c320d4a47]\n",
       "cluster E1--><a href=\"psysml:d47d9c93-f987-42aa-9c82-a11afa9e7a85\" target=\"_top\" title=\"psysml:d47d9c93-f987-42aa-9c82-a11afa9e7a85\" xlink:actuate=\"onRequest\" xlink:href=\"psysml:d47d9c93-f987-42aa-9c82-a11afa9e7a85\" xlink:show=\"new\" xlink:title=\"psysml:d47d9c93-f987-42aa-9c82-a11afa9e7a85\" xlink:type=\"simple\"><polygon fill=\"#FFFFFF\" points=\"16,6,108,6,115,28.2969,823,28.2969,823,646,16,646,16,6\" style=\"stroke: #000000; stroke-width: 1.5;\"/><line style=\"stroke: #000000; stroke-width: 1.5;\" x1=\"16\" x2=\"115\" y1=\"28.2969\" y2=\"28.2969\"/><text fill=\"#000000\" font-family=\"sans-serif\" font-size=\"14\" font-weight=\"bold\" lengthAdjust=\"spacingAndGlyphs\" textLength=\"86\" x=\"20\" y=\"20.9951\">AnalysisTest</text></a><!--MD5=[de5ec2e2e8f62f467e546659f5068c88]\n",
       "cluster E5--><a href=\"psysml:0d42cad1-3808-4e7b-8fe6-f660e27fd2bd\" target=\"_top\" title=\"psysml:0d42cad1-3808-4e7b-8fe6-f660e27fd2bd\" xlink:actuate=\"onRequest\" xlink:href=\"psysml:0d42cad1-3808-4e7b-8fe6-f660e27fd2bd\" xlink:show=\"new\" xlink:title=\"psysml:0d42cad1-3808-4e7b-8fe6-f660e27fd2bd\" xlink:type=\"simple\"><rect fill=\"#FFFFFF\" height=\"329.5\" id=\"E5\" style=\"stroke: #383838; stroke-width: 1.5;\" width=\"146\" x=\"661\" y=\"74.5\"/><rect fill=\"#F8F8F8\" height=\"37.9375\" style=\"stroke: #383838; stroke-width: 1.5;\" width=\"146\" x=\"661\" y=\"74.5\"/><text fill=\"#000000\" font-family=\"sans-serif\" font-size=\"12\" font-style=\"italic\" lengthAdjust=\"spacingAndGlyphs\" textLength=\"88\" x=\"690\" y=\"90.6387\">«analysis def»</text><text fill=\"#000000\" font-family=\"sans-serif\" font-size=\"12\" lengthAdjust=\"spacingAndGlyphs\" textLength=\"81\" x=\"693.5\" y=\"104.6074\">AnalysisCase</text></a><!--MD5=[55dfccfc6c49c2d10cd1bd2211a6c90c]\n",
       "cluster E8--><a href=\"psysml:058a72e0-0a98-4261-856d-73366cf47a25\" target=\"_top\" title=\"psysml:058a72e0-0a98-4261-856d-73366cf47a25\" xlink:actuate=\"onRequest\" xlink:href=\"psysml:058a72e0-0a98-4261-856d-73366cf47a25\" xlink:show=\"new\" xlink:title=\"psysml:058a72e0-0a98-4261-856d-73366cf47a25\" xlink:type=\"simple\"><rect fill=\"#FFFFFF\" height=\"415\" id=\"E8\" style=\"stroke: #383838; stroke-width: 1.5;\" width=\"259\" x=\"283\" y=\"207\"/><rect fill=\"#F8F8F8\" height=\"37.9375\" style=\"stroke: #383838; stroke-width: 1.5;\" width=\"259\" x=\"283\" y=\"207\"/><text fill=\"#000000\" font-family=\"sans-serif\" font-size=\"12\" font-style=\"italic\" lengthAdjust=\"spacingAndGlyphs\" textLength=\"88\" x=\"368.5\" y=\"223.1387\">«analysis def»</text><text fill=\"#000000\" font-family=\"sans-serif\" font-size=\"12\" lengthAdjust=\"spacingAndGlyphs\" textLength=\"77\" x=\"374\" y=\"237.1074\">AnalysisPlan</text></a><!--MD5=[a84b4591f868c1fa4a211716a82f2f0d]\n",
       "cluster E10--><a href=\"psysml:ebac0614-db53-4f6a-a11b-2a64966401ed\" target=\"_top\" title=\"psysml:ebac0614-db53-4f6a-a11b-2a64966401ed\" xlink:actuate=\"onRequest\" xlink:href=\"psysml:ebac0614-db53-4f6a-a11b-2a64966401ed\" xlink:show=\"new\" xlink:title=\"psysml:ebac0614-db53-4f6a-a11b-2a64966401ed\" xlink:type=\"simple\"><rect fill=\"#FFFFFF\" height=\"239\" id=\"E10\" rx=\"10\" ry=\"10\" style=\"stroke: #383838; stroke-width: 1.5;\" width=\"138\" x=\"366\" y=\"345\"/><rect fill=\"#F8F8F8\" height=\"37.9375\" rx=\"10\" ry=\"10\" style=\"stroke: #F8F8F8; stroke-width: 1.5;\" width=\"138\" x=\"366\" y=\"345\"/><rect fill=\"#F8F8F8\" height=\"10\" style=\"stroke: #F8F8F8; stroke-width: 1.5;\" width=\"138\" x=\"366\" y=\"372.9375\"/><rect fill=\"none\" height=\"239\" id=\"E10\" rx=\"10\" ry=\"10\" style=\"stroke: #383838; stroke-width: 1.5;\" width=\"138\" x=\"366\" y=\"345\"/><text fill=\"#000000\" font-family=\"sans-serif\" font-size=\"12\" font-style=\"italic\" lengthAdjust=\"spacingAndGlyphs\" textLength=\"64\" x=\"403\" y=\"361.1387\">«analysis»</text><text fill=\"#000000\" font-family=\"sans-serif\" font-size=\"12\" lengthAdjust=\"spacingAndGlyphs\" textLength=\"81\" x=\"394.5\" y=\"375.1074\">analysisCase</text><line style=\"stroke: #383838; stroke-width: 1.0;\" x1=\"366\" x2=\"504\" y1=\"382.9375\" y2=\"382.9375\"/></a><!--MD5=[b4997ac47864f28c2f74865a473b2911]\n",
       "class E2--><a href=\"psysml:6e318fc7-f06d-4e4c-8e44-1e6d0f884455\" target=\"_top\" title=\"psysml:6e318fc7-f06d-4e4c-8e44-1e6d0f884455\" xlink:actuate=\"onRequest\" xlink:href=\"psysml:6e318fc7-f06d-4e4c-8e44-1e6d0f884455\" xlink:show=\"new\" xlink:title=\"psysml:6e318fc7-f06d-4e4c-8e44-1e6d0f884455\" xlink:type=\"simple\"><rect fill=\"#FFFFFF\" height=\"75.5469\" id=\"E2\" style=\"stroke: #383838; stroke-width: 1.5;\" width=\"70\" x=\"572\" y=\"169\"/><text fill=\"#000000\" font-family=\"sans-serif\" font-size=\"12\" font-style=\"italic\" lengthAdjust=\"spacingAndGlyphs\" textLength=\"68\" x=\"573\" y=\"185.1387\">«part  def»</text><text fill=\"#000000\" font-family=\"sans-serif\" font-size=\"12\" lengthAdjust=\"spacingAndGlyphs\" textLength=\"8\" x=\"603\" y=\"199.1074\">V</text><line style=\"stroke: #383838; stroke-width: 1.5;\" x1=\"573\" x2=\"641\" y1=\"206.9375\" y2=\"206.9375\"/><text fill=\"#000000\" font-family=\"sans-serif\" font-size=\"11\" lengthAdjust=\"spacingAndGlyphs\" textLength=\"11\" x=\"578\" y=\"237.9526\">m</text><line style=\"stroke: #383838; stroke-width: 1.0;\" x1=\"573\" x2=\"576\" y1=\"221.3398\" y2=\"221.3398\"/><text fill=\"#000000\" font-family=\"sans-serif\" font-size=\"11\" lengthAdjust=\"spacingAndGlyphs\" textLength=\"62\" x=\"576\" y=\"224.6479\">references</text><line style=\"stroke: #383838; stroke-width: 1.0;\" x1=\"638\" x2=\"641\" y1=\"221.3398\" y2=\"221.3398\"/></a><!--MD5=[09b614a08d8cba4a07c9adeb5e0fee81]\n",
       "class E3--><a href=\"psysml:27999d5c-daad-4ed7-92ff-020a622ea083\" target=\"_top\" title=\"psysml:27999d5c-daad-4ed7-92ff-020a622ea083\" xlink:actuate=\"onRequest\" xlink:href=\"psysml:27999d5c-daad-4ed7-92ff-020a622ea083\" xlink:show=\"new\" xlink:title=\"psysml:27999d5c-daad-4ed7-92ff-020a622ea083\" xlink:type=\"simple\"><rect fill=\"#FFFFFF\" height=\"45.9375\" id=\"E3\" rx=\"10\" ry=\"10\" style=\"stroke: #383838; stroke-width: 1.5;\" width=\"42\" x=\"586\" y=\"51.5\"/><text fill=\"#000000\" font-family=\"sans-serif\" font-size=\"12\" font-style=\"italic\" lengthAdjust=\"spacingAndGlyphs\" textLength=\"40\" x=\"587\" y=\"67.6387\">«part»</text><text fill=\"#000000\" font-family=\"sans-serif\" font-size=\"12\" lengthAdjust=\"spacingAndGlyphs\" textLength=\"28\" x=\"591\" y=\"81.6074\">vv: V</text><line style=\"stroke: #383838; stroke-width: 1.5;\" x1=\"587\" x2=\"627\" y1=\"89.4375\" y2=\"89.4375\"/></a><!--MD5=[ebbe1d658d1005bcc118a6aa81145e00]\n",
       "class E4--><a href=\"psysml:31fce779-d9ab-452b-8111-7f3c68bff972\" target=\"_top\" title=\"psysml:31fce779-d9ab-452b-8111-7f3c68bff972\" xlink:actuate=\"onRequest\" xlink:href=\"psysml:31fce779-d9ab-452b-8111-7f3c68bff972\" xlink:show=\"new\" xlink:title=\"psysml:31fce779-d9ab-452b-8111-7f3c68bff972\" xlink:type=\"simple\"><rect fill=\"#FFFFFF\" height=\"66.7422\" id=\"E4\" style=\"stroke: #383838; stroke-width: 1.5;\" width=\"121\" x=\"317.5\" y=\"41\"/><text fill=\"#000000\" font-family=\"sans-serif\" font-size=\"12\" font-style=\"italic\" lengthAdjust=\"spacingAndGlyphs\" textLength=\"119\" x=\"318.5\" y=\"57.1387\">«requirement  def»</text><text fill=\"#000000\" font-family=\"sans-serif\" font-size=\"12\" lengthAdjust=\"spacingAndGlyphs\" textLength=\"107\" x=\"324.5\" y=\"71.1074\">AnalysisObjective</text><line style=\"stroke: #383838; stroke-width: 1.5;\" x1=\"318.5\" x2=\"437.5\" y1=\"78.9375\" y2=\"78.9375\"/><text fill=\"#000000\" font-family=\"sans-serif\" font-size=\"11\" lengthAdjust=\"spacingAndGlyphs\" textLength=\"12\" x=\"323.5\" y=\"93.1479\">...</text><line style=\"stroke: #383838; stroke-width: 1.0;\" x1=\"318.5\" x2=\"437.5\" y1=\"99.7422\" y2=\"99.7422\"/></a><!--MD5=[bee11217b2f71d958a27249dc326068c]\n",
       "class E14--><a href=\"psysml:2f29b586-744b-44a6-b354-0cb36fac52ba\" target=\"_top\" title=\"psysml:2f29b586-744b-44a6-b354-0cb36fac52ba\" xlink:actuate=\"onRequest\" xlink:href=\"psysml:2f29b586-744b-44a6-b354-0cb36fac52ba\" xlink:show=\"new\" xlink:title=\"psysml:2f29b586-744b-44a6-b354-0cb36fac52ba\" xlink:type=\"simple\"><rect fill=\"#FFFFFF\" height=\"45.9375\" id=\"E14\" rx=\"10\" ry=\"10\" style=\"stroke: #383838; stroke-width: 1.5;\" width=\"104\" x=\"66\" y=\"51.5\"/><text fill=\"#000000\" font-family=\"sans-serif\" font-size=\"12\" font-style=\"italic\" lengthAdjust=\"spacingAndGlyphs\" textLength=\"40\" x=\"98\" y=\"67.6387\">«part»</text><text fill=\"#000000\" font-family=\"sans-serif\" font-size=\"12\" lengthAdjust=\"spacingAndGlyphs\" textLength=\"98\" x=\"69\" y=\"81.6074\">analysisContext</text><line style=\"stroke: #383838; stroke-width: 1.5;\" x1=\"67\" x2=\"169\" y1=\"89.4375\" y2=\"89.4375\"/></a><!--MD5=[0c48fb7552dae8cbbef69381101a84c8]\n",
       "class E15--><a href=\"psysml:cfe8b385-7bc2-406c-91e1-db9911ba5874\" target=\"_top\" title=\"psysml:cfe8b385-7bc2-406c-91e1-db9911ba5874\" xlink:actuate=\"onRequest\" xlink:href=\"psysml:cfe8b385-7bc2-406c-91e1-db9911ba5874\" xlink:show=\"new\" xlink:title=\"psysml:cfe8b385-7bc2-406c-91e1-db9911ba5874\" xlink:type=\"simple\"><rect fill=\"#FFFFFF\" height=\"45.9375\" id=\"E15\" rx=\"10\" ry=\"10\" style=\"stroke: #383838; stroke-width: 1.5;\" width=\"172\" x=\"32\" y=\"184\"/><text fill=\"#000000\" font-family=\"sans-serif\" font-size=\"12\" font-style=\"italic\" lengthAdjust=\"spacingAndGlyphs\" textLength=\"64\" x=\"86\" y=\"200.1387\">«analysis»</text><text fill=\"#000000\" font-family=\"sans-serif\" font-size=\"12\" lengthAdjust=\"spacingAndGlyphs\" textLength=\"162\" x=\"35\" y=\"214.1074\">analysisPlan: AnalysisPlan</text><line style=\"stroke: #383838; stroke-width: 1.5;\" x1=\"33\" x2=\"203\" y1=\"221.9375\" y2=\"221.9375\"/></a><!--MD5=[35f0587eaee8d5bb9a02e25b63afc23b]\n",
       "class E16--><a href=\"psysml:63325e1e-8a82-4691-b26b-3354962a7cad\" target=\"_top\" title=\"psysml:63325e1e-8a82-4691-b26b-3354962a7cad\" xlink:actuate=\"onRequest\" xlink:href=\"psysml:63325e1e-8a82-4691-b26b-3354962a7cad\" xlink:show=\"new\" xlink:title=\"psysml:63325e1e-8a82-4691-b26b-3354962a7cad\" xlink:type=\"simple\"><rect fill=\"#FFFFFF\" height=\"45.9375\" id=\"E16\" rx=\"10\" ry=\"10\" style=\"stroke: #383838; stroke-width: 1.5;\" width=\"93\" x=\"71.5\" y=\"322\"/><text fill=\"#000000\" font-family=\"sans-serif\" font-size=\"12\" font-style=\"italic\" lengthAdjust=\"spacingAndGlyphs\" textLength=\"91\" x=\"72.5\" y=\"338.1387\">«requirement»</text><text fill=\"#000000\" font-family=\"sans-serif\" font-size=\"12\" lengthAdjust=\"spacingAndGlyphs\" textLength=\"19\" x=\"108.5\" y=\"352.1074\">obj</text><line style=\"stroke: #383838; stroke-width: 1.5;\" x1=\"72.5\" x2=\"163.5\" y1=\"359.9375\" y2=\"359.9375\"/></a><text fill=\"#000000\" font-family=\"sans-serif\" font-size=\"14\" lengthAdjust=\"spacingAndGlyphs\" textLength=\"7\" x=\"730.5\" y=\"53.1982\">v</text><rect fill=\"#383838\" height=\"12\" style=\"stroke: #F8F8F8; stroke-width: 1.5;\" width=\"12\" x=\"728\" y=\"68.5\"/><text fill=\"#000000\" font-family=\"sans-serif\" font-size=\"14\" lengthAdjust=\"spacingAndGlyphs\" textLength=\"39\" x=\"714.5\" y=\"422.9951\">result</text><rect fill=\"#383838\" height=\"12\" style=\"stroke: #F8F8F8; stroke-width: 1.5;\" width=\"12\" x=\"728\" y=\"398\"/><text fill=\"#000000\" font-family=\"sans-serif\" font-size=\"14\" lengthAdjust=\"spacingAndGlyphs\" textLength=\"7\" x=\"297.5\" y=\"185.6982\">v</text><rect fill=\"#383838\" height=\"12\" style=\"stroke: #F8F8F8; stroke-width: 1.5;\" width=\"12\" x=\"295\" y=\"201\"/><text fill=\"#000000\" font-family=\"sans-serif\" font-size=\"14\" lengthAdjust=\"spacingAndGlyphs\" textLength=\"39\" x=\"522.5\" y=\"529.9951\">result</text><rect fill=\"#383838\" height=\"12\" style=\"stroke: #F8F8F8; stroke-width: 1.5;\" width=\"12\" x=\"536\" y=\"505\"/><text fill=\"#000000\" font-family=\"sans-serif\" font-size=\"14\" lengthAdjust=\"spacingAndGlyphs\" textLength=\"37\" x=\"416.5\" y=\"602.9951\">mass</text><rect fill=\"#383838\" height=\"12\" style=\"stroke: #F8F8F8; stroke-width: 1.5;\" width=\"12\" x=\"429\" y=\"578\"/><text fill=\"#000000\" font-family=\"sans-serif\" font-size=\"14\" lengthAdjust=\"spacingAndGlyphs\" textLength=\"7\" x=\"431.5\" y=\"323.6982\">v</text><rect fill=\"#383838\" height=\"12\" style=\"stroke: #F8F8F8; stroke-width: 1.5;\" width=\"12\" x=\"429\" y=\"339\"/><!--MD5=[05d275557350bfb9b23a4ef7222b4c39]\n",
       "link E3 to E2--><a href=\"psysml:4413170d-8387-4bcf-a661-a8e63eefb5dc\" target=\"_top\" title=\"psysml:4413170d-8387-4bcf-a661-a8e63eefb5dc\" xlink:actuate=\"onRequest\" xlink:href=\"psysml:4413170d-8387-4bcf-a661-a8e63eefb5dc\" xlink:show=\"new\" xlink:title=\"psysml:4413170d-8387-4bcf-a661-a8e63eefb5dc\" xlink:type=\"simple\"><path d=\"M607,97.64 C607,111.72 607,130.66 607,148.75 \" fill=\"none\" id=\"E3-&gt;E2\" style=\"stroke: #383838; stroke-width: 1.0;\"/><polygon fill=\"#FFFFFF\" points=\"607,168.9,600,149.9,614,149.9,607,168.9\" style=\"stroke: #383838; stroke-width: 1.0;\"/><ellipse cx=\"602\" cy=\"144.2\" fill=\"#383838\" rx=\"2\" ry=\"2\" style=\"stroke: #383838; stroke-width: 1.0;\"/><ellipse cx=\"612\" cy=\"144.2\" fill=\"#383838\" rx=\"2\" ry=\"2\" style=\"stroke: #383838; stroke-width: 1.0;\"/></a><!--MD5=[17bf29720e4688890742b92d9a67fdf0]\n",
       "reverse link E14 to E15--><a href=\"psysml:df4b3059-af15-4a6e-9f16-4ce8d388f00c\" target=\"_top\" title=\"psysml:df4b3059-af15-4a6e-9f16-4ce8d388f00c\" xlink:actuate=\"onRequest\" xlink:href=\"psysml:df4b3059-af15-4a6e-9f16-4ce8d388f00c\" xlink:show=\"new\" xlink:title=\"psysml:df4b3059-af15-4a6e-9f16-4ce8d388f00c\" xlink:type=\"simple\"><path d=\"M118,110.79 C118,134.03 118,163.75 118,183.75 \" fill=\"none\" id=\"E14&lt;-E15\" style=\"stroke: #383838; stroke-width: 1.0;\"/><polygon fill=\"#383838\" points=\"118,97.64,114,103.64,118,109.64,122,103.64,118,97.64\" style=\"stroke: #383838; stroke-width: 1.0;\"/></a><!--MD5=[1b01d5b954197aaf3899ca0bde35faf5]\n",
       "link E15 to E8--><a href=\"psysml:b8e5c057-83f1-47ef-94c9-1676b303e623\" target=\"_top\" title=\"psysml:b8e5c057-83f1-47ef-94c9-1676b303e623\" xlink:actuate=\"onRequest\" xlink:href=\"psysml:b8e5c057-83f1-47ef-94c9-1676b303e623\" xlink:show=\"new\" xlink:title=\"psysml:b8e5c057-83f1-47ef-94c9-1676b303e623\" xlink:type=\"simple\"><path d=\"M147.81,230.15 C184.47,257.4 245.87,303.03 278.7,327.43 \" fill=\"none\" id=\"E15-&gt;E8\" style=\"stroke: #383838; stroke-width: 1.0;\"/><polygon fill=\"#FFFFFF\" points=\"278.7,327.43,259.2749,321.7145,267.6261,310.478,278.7,327.43\" style=\"stroke: #383838; stroke-width: 1.0;\"/><ellipse cx=\"255.8931\" cy=\"316.7091\" fill=\"#383838\" rx=\"2\" ry=\"2\" style=\"stroke: #383838; stroke-width: 1.0;\"/><ellipse cx=\"261.8583\" cy=\"308.6831\" fill=\"#383838\" rx=\"2\" ry=\"2\" style=\"stroke: #383838; stroke-width: 1.0;\"/></a><!--MD5=[f8b155c46b092be73bb522b0a8fc72a2]\n",
       "link E15 to E16--><a href=\"psysml:7d3bd451-2ef5-4e75-9594-2e0dd7330291\" target=\"_top\" title=\"psysml:7d3bd451-2ef5-4e75-9594-2e0dd7330291\" xlink:actuate=\"onRequest\" xlink:href=\"psysml:7d3bd451-2ef5-4e75-9594-2e0dd7330291\" xlink:show=\"new\" xlink:title=\"psysml:7d3bd451-2ef5-4e75-9594-2e0dd7330291\" xlink:type=\"simple\"><path d=\"M118,230.15 C118,252.87 118,288.38 118,313.69 \" fill=\"none\" id=\"E15-&gt;E16\" style=\"stroke: #383838; stroke-width: 1.0;\"/><polygon fill=\"#383838\" points=\"118,321.86,121,313.86,115,313.86,118,321.86\" style=\"stroke: #383838; stroke-width: 1.0;\"/><text fill=\"#000000\" font-family=\"sans-serif\" font-size=\"13\" lengthAdjust=\"spacingAndGlyphs\" textLength=\"73\" x=\"119\" y=\"288.0669\">«objective»</text><text fill=\"#000000\" font-family=\"sans-serif\" font-size=\"13\" lengthAdjust=\"spacingAndGlyphs\" textLength=\"8\" x=\"108.975\" y=\"311.1004\">1</text></a><!--MD5=[ba4923fa9ae4982cacdab005edc8cade]\n",
       "@startuml\r\n",
       "skinparam monochrome true\r\n",
       "skinparam classbackgroundcolor white\r\n",
       "skinparam shadowing false\r\n",
       "skinparam wrapWidth 300\r\n",
       "hide circle\r\n",
       "\r\n",
       "package \"AnalysisTest\" as E1  [[psysml:d47d9c93-f987-42aa-9c82-a11afa9e7a85 ]]  {\r\n",
       "comp def \"V\" as E2  <<(T,blue) part  def>> [[psysml:6e318fc7-f06d-4e4c-8e44-1e6d0f884455 ]] {\r\n",
       "- - references - -\r\n",
       "m\r\n",
       "}\r\n",
       "comp usage \"vv: V \" as E3  <<(T,blue) part>> [[psysml:27999d5c-daad-4ed7-92ff-020a622ea083 ]] {\r\n",
       "}\r\n",
       "comp def \"AnalysisObjective\" as E4  <<(T,blue) requirement  def>> [[psysml:31fce779-d9ab-452b-8111-7f3c68bff972 ]] {\r\n",
       "...\r\n",
       "- -\r\n",
       "}\r\n",
       "rec def \"AnalysisCase\" as E5 << analysis def>> [[psysml:0d42cad1-3808-4e7b-8fe6-f660e27fd2bd ]] {\r\n",
       "portin \"v\" as E6  [[psysml:f7aad551-6165-4689-8df3-b128f6f54571 ]] \r\n",
       "portout \"result\" as E7  [[psysml:d8a9a5d1-c1b2-404a-b54f-35037ecf4c2d ]] \r\n",
       "}\r\n",
       "\r\n",
       "rec def \"AnalysisPlan\" as E8 << analysis def>> [[psysml:058a72e0-0a98-4261-856d-73366cf47a25 ]] {\r\n",
       "portin \"v\" as E9  [[psysml:40d43c87-89d5-4dcb-a988-f011f6f29ac5 ]] \r\n",
       "rec usage \"analysisCase\" as E10 << analysis>> [[psysml:ebac0614-db53-4f6a-a11b-2a64966401ed ]] {\r\n",
       "portout \"mass\" as E11  [[psysml:94298e01-1500-44a7-8244-0cc3e5620ae6 ]] \r\n",
       "portin \"v\" as E12  [[psysml:fabccdcf-1c94-4d5c-8a0b-5626b651aa80 ]] \r\n",
       "}\r\n",
       "\r\n",
       "portout \"result\" as E13  [[psysml:633f1383-e65f-4e22-9e6d-6ffcdde4bc38 ]] \r\n",
       "}\r\n",
       "\r\n",
       "comp usage \"analysisContext\" as E14  <<(T,blue) part>> [[psysml:2f29b586-744b-44a6-b354-0cb36fac52ba ]] {\r\n",
       "}\r\n",
       "comp usage \"analysisPlan: AnalysisPlan \" as E15 << analysis>> [[psysml:cfe8b385-7bc2-406c-91e1-db9911ba5874 ]] {\r\n",
       "}\r\n",
       "comp usage \"obj\" as E16  <<(T,blue) requirement>> [[psysml:63325e1e-8a82-4691-b26b-3354962a7cad ]] {\r\n",
       "}\r\n",
       "}\r\n",
       "E3 - -:|> E2 [[psysml:4413170d-8387-4bcf-a661-a8e63eefb5dc ]] \r\n",
       "E14 *- - E15 [[psysml:df4b3059-af15-4a6e-9f16-4ce8d388f00c ]] \r\n",
       "E15 - -:|> E8 [[psysml:b8e5c057-83f1-47ef-94c9-1676b303e623 ]] \r\n",
       "E15 - ->> \"1\"E16 [[psysml:7d3bd451-2ef5-4e75-9594-2e0dd7330291 ]] : <<objective>>\r\n",
       "@enduml\r\n",
       "\n",
       "PlantUML version 1.2020.13(Sat Jun 13 12:26:38 UTC 2020)\n",
       "(EPL source distribution)\n",
       "Java Runtime: OpenJDK Runtime Environment\n",
       "JVM: OpenJDK 64-Bit Server VM\n",
       "Default Encoding: UTF-8\n",
       "Language: en\n",
       "Country: null\n",
       "--></g></svg>"
      ]
     },
     "execution_count": 43,
     "metadata": {},
     "output_type": "execute_result"
    }
   ],
   "source": [
    "%viz --style=\"DEFAULT\" --view=\"MIXED\" \"AnalysisTest\""
   ]
  },
  {
   "cell_type": "code",
   "execution_count": 44,
   "id": "ef801e2d",
   "metadata": {
    "execution": {
     "iopub.execute_input": "2021-11-13T12:57:21.068045Z",
     "iopub.status.busy": "2021-11-13T12:57:21.067627Z",
     "iopub.status.idle": "2021-11-13T12:57:21.128291Z",
     "shell.execute_reply": "2021-11-13T12:57:21.127926Z"
    }
   },
   "outputs": [
    {
     "data": {
      "image/svg+xml": [
       "<?xml version=\"1.0\" encoding=\"UTF-8\" standalone=\"no\"?><svg xmlns=\"http://www.w3.org/2000/svg\" xmlns:xlink=\"http://www.w3.org/1999/xlink\" contentScriptType=\"application/ecmascript\" contentStyleType=\"text/css\" height=\"658px\" preserveAspectRatio=\"none\" style=\"width:845px;height:658px;\" version=\"1.1\" viewBox=\"0 0 845 658\" width=\"845px\" zoomAndPan=\"magnify\"><defs/><g><!--MD5=[fbc87193dbaf4d95561dea2c320d4a47]\n",
       "cluster E1--><a href=\"psysml:d47d9c93-f987-42aa-9c82-a11afa9e7a85\" target=\"_top\" title=\"psysml:d47d9c93-f987-42aa-9c82-a11afa9e7a85\" xlink:actuate=\"onRequest\" xlink:href=\"psysml:d47d9c93-f987-42aa-9c82-a11afa9e7a85\" xlink:show=\"new\" xlink:title=\"psysml:d47d9c93-f987-42aa-9c82-a11afa9e7a85\" xlink:type=\"simple\"><polygon fill=\"#FFFFFF\" points=\"16,6,108,6,115,28.2969,823,28.2969,823,646,16,646,16,6\" style=\"stroke: #000000; stroke-width: 1.5;\"/><line style=\"stroke: #000000; stroke-width: 1.5;\" x1=\"16\" x2=\"115\" y1=\"28.2969\" y2=\"28.2969\"/><text fill=\"#000000\" font-family=\"sans-serif\" font-size=\"14\" font-weight=\"bold\" lengthAdjust=\"spacingAndGlyphs\" textLength=\"86\" x=\"20\" y=\"20.9951\">AnalysisTest</text></a><!--MD5=[de5ec2e2e8f62f467e546659f5068c88]\n",
       "cluster E5--><a href=\"psysml:0d42cad1-3808-4e7b-8fe6-f660e27fd2bd\" target=\"_top\" title=\"psysml:0d42cad1-3808-4e7b-8fe6-f660e27fd2bd\" xlink:actuate=\"onRequest\" xlink:href=\"psysml:0d42cad1-3808-4e7b-8fe6-f660e27fd2bd\" xlink:show=\"new\" xlink:title=\"psysml:0d42cad1-3808-4e7b-8fe6-f660e27fd2bd\" xlink:type=\"simple\"><rect fill=\"#FFFFFF\" height=\"329.5\" id=\"E5\" style=\"stroke: #383838; stroke-width: 1.5;\" width=\"146\" x=\"661\" y=\"74.5\"/><rect fill=\"#F8F8F8\" height=\"37.9375\" style=\"stroke: #383838; stroke-width: 1.5;\" width=\"146\" x=\"661\" y=\"74.5\"/><text fill=\"#000000\" font-family=\"sans-serif\" font-size=\"12\" font-style=\"italic\" lengthAdjust=\"spacingAndGlyphs\" textLength=\"88\" x=\"690\" y=\"90.6387\">«analysis def»</text><text fill=\"#000000\" font-family=\"sans-serif\" font-size=\"12\" lengthAdjust=\"spacingAndGlyphs\" textLength=\"81\" x=\"693.5\" y=\"104.6074\">AnalysisCase</text></a><!--MD5=[55dfccfc6c49c2d10cd1bd2211a6c90c]\n",
       "cluster E8--><a href=\"psysml:058a72e0-0a98-4261-856d-73366cf47a25\" target=\"_top\" title=\"psysml:058a72e0-0a98-4261-856d-73366cf47a25\" xlink:actuate=\"onRequest\" xlink:href=\"psysml:058a72e0-0a98-4261-856d-73366cf47a25\" xlink:show=\"new\" xlink:title=\"psysml:058a72e0-0a98-4261-856d-73366cf47a25\" xlink:type=\"simple\"><rect fill=\"#FFFFFF\" height=\"415\" id=\"E8\" style=\"stroke: #383838; stroke-width: 1.5;\" width=\"259\" x=\"283\" y=\"207\"/><rect fill=\"#F8F8F8\" height=\"37.9375\" style=\"stroke: #383838; stroke-width: 1.5;\" width=\"259\" x=\"283\" y=\"207\"/><text fill=\"#000000\" font-family=\"sans-serif\" font-size=\"12\" font-style=\"italic\" lengthAdjust=\"spacingAndGlyphs\" textLength=\"88\" x=\"368.5\" y=\"223.1387\">«analysis def»</text><text fill=\"#000000\" font-family=\"sans-serif\" font-size=\"12\" lengthAdjust=\"spacingAndGlyphs\" textLength=\"77\" x=\"374\" y=\"237.1074\">AnalysisPlan</text></a><!--MD5=[a84b4591f868c1fa4a211716a82f2f0d]\n",
       "cluster E10--><a href=\"psysml:ebac0614-db53-4f6a-a11b-2a64966401ed\" target=\"_top\" title=\"psysml:ebac0614-db53-4f6a-a11b-2a64966401ed\" xlink:actuate=\"onRequest\" xlink:href=\"psysml:ebac0614-db53-4f6a-a11b-2a64966401ed\" xlink:show=\"new\" xlink:title=\"psysml:ebac0614-db53-4f6a-a11b-2a64966401ed\" xlink:type=\"simple\"><rect fill=\"#FFFFFF\" height=\"239\" id=\"E10\" rx=\"10\" ry=\"10\" style=\"stroke: #383838; stroke-width: 1.5;\" width=\"138\" x=\"366\" y=\"345\"/><rect fill=\"#F8F8F8\" height=\"37.9375\" rx=\"10\" ry=\"10\" style=\"stroke: #F8F8F8; stroke-width: 1.5;\" width=\"138\" x=\"366\" y=\"345\"/><rect fill=\"#F8F8F8\" height=\"10\" style=\"stroke: #F8F8F8; stroke-width: 1.5;\" width=\"138\" x=\"366\" y=\"372.9375\"/><rect fill=\"none\" height=\"239\" id=\"E10\" rx=\"10\" ry=\"10\" style=\"stroke: #383838; stroke-width: 1.5;\" width=\"138\" x=\"366\" y=\"345\"/><text fill=\"#000000\" font-family=\"sans-serif\" font-size=\"12\" font-style=\"italic\" lengthAdjust=\"spacingAndGlyphs\" textLength=\"64\" x=\"403\" y=\"361.1387\">«analysis»</text><text fill=\"#000000\" font-family=\"sans-serif\" font-size=\"12\" lengthAdjust=\"spacingAndGlyphs\" textLength=\"81\" x=\"394.5\" y=\"375.1074\">analysisCase</text><line style=\"stroke: #383838; stroke-width: 1.0;\" x1=\"366\" x2=\"504\" y1=\"382.9375\" y2=\"382.9375\"/></a><!--MD5=[b4997ac47864f28c2f74865a473b2911]\n",
       "class E2--><a href=\"psysml:6e318fc7-f06d-4e4c-8e44-1e6d0f884455\" target=\"_top\" title=\"psysml:6e318fc7-f06d-4e4c-8e44-1e6d0f884455\" xlink:actuate=\"onRequest\" xlink:href=\"psysml:6e318fc7-f06d-4e4c-8e44-1e6d0f884455\" xlink:show=\"new\" xlink:title=\"psysml:6e318fc7-f06d-4e4c-8e44-1e6d0f884455\" xlink:type=\"simple\"><rect fill=\"#FFFFFF\" height=\"75.5469\" id=\"E2\" style=\"stroke: #383838; stroke-width: 1.5;\" width=\"70\" x=\"572\" y=\"169\"/><text fill=\"#000000\" font-family=\"sans-serif\" font-size=\"12\" font-style=\"italic\" lengthAdjust=\"spacingAndGlyphs\" textLength=\"68\" x=\"573\" y=\"185.1387\">«part  def»</text><text fill=\"#000000\" font-family=\"sans-serif\" font-size=\"12\" lengthAdjust=\"spacingAndGlyphs\" textLength=\"8\" x=\"603\" y=\"199.1074\">V</text><line style=\"stroke: #383838; stroke-width: 1.5;\" x1=\"573\" x2=\"641\" y1=\"206.9375\" y2=\"206.9375\"/><text fill=\"#000000\" font-family=\"sans-serif\" font-size=\"11\" lengthAdjust=\"spacingAndGlyphs\" textLength=\"11\" x=\"578\" y=\"237.9526\">m</text><line style=\"stroke: #383838; stroke-width: 1.0;\" x1=\"573\" x2=\"576\" y1=\"221.3398\" y2=\"221.3398\"/><text fill=\"#000000\" font-family=\"sans-serif\" font-size=\"11\" lengthAdjust=\"spacingAndGlyphs\" textLength=\"62\" x=\"576\" y=\"224.6479\">references</text><line style=\"stroke: #383838; stroke-width: 1.0;\" x1=\"638\" x2=\"641\" y1=\"221.3398\" y2=\"221.3398\"/></a><!--MD5=[09b614a08d8cba4a07c9adeb5e0fee81]\n",
       "class E3--><a href=\"psysml:27999d5c-daad-4ed7-92ff-020a622ea083\" target=\"_top\" title=\"psysml:27999d5c-daad-4ed7-92ff-020a622ea083\" xlink:actuate=\"onRequest\" xlink:href=\"psysml:27999d5c-daad-4ed7-92ff-020a622ea083\" xlink:show=\"new\" xlink:title=\"psysml:27999d5c-daad-4ed7-92ff-020a622ea083\" xlink:type=\"simple\"><rect fill=\"#FFFFFF\" height=\"45.9375\" id=\"E3\" rx=\"10\" ry=\"10\" style=\"stroke: #383838; stroke-width: 1.5;\" width=\"42\" x=\"586\" y=\"51.5\"/><text fill=\"#000000\" font-family=\"sans-serif\" font-size=\"12\" font-style=\"italic\" lengthAdjust=\"spacingAndGlyphs\" textLength=\"40\" x=\"587\" y=\"67.6387\">«part»</text><text fill=\"#000000\" font-family=\"sans-serif\" font-size=\"12\" lengthAdjust=\"spacingAndGlyphs\" textLength=\"28\" x=\"591\" y=\"81.6074\">vv: V</text><line style=\"stroke: #383838; stroke-width: 1.5;\" x1=\"587\" x2=\"627\" y1=\"89.4375\" y2=\"89.4375\"/></a><!--MD5=[ebbe1d658d1005bcc118a6aa81145e00]\n",
       "class E4--><a href=\"psysml:31fce779-d9ab-452b-8111-7f3c68bff972\" target=\"_top\" title=\"psysml:31fce779-d9ab-452b-8111-7f3c68bff972\" xlink:actuate=\"onRequest\" xlink:href=\"psysml:31fce779-d9ab-452b-8111-7f3c68bff972\" xlink:show=\"new\" xlink:title=\"psysml:31fce779-d9ab-452b-8111-7f3c68bff972\" xlink:type=\"simple\"><rect fill=\"#FFFFFF\" height=\"66.7422\" id=\"E4\" style=\"stroke: #383838; stroke-width: 1.5;\" width=\"121\" x=\"317.5\" y=\"41\"/><text fill=\"#000000\" font-family=\"sans-serif\" font-size=\"12\" font-style=\"italic\" lengthAdjust=\"spacingAndGlyphs\" textLength=\"119\" x=\"318.5\" y=\"57.1387\">«requirement  def»</text><text fill=\"#000000\" font-family=\"sans-serif\" font-size=\"12\" lengthAdjust=\"spacingAndGlyphs\" textLength=\"107\" x=\"324.5\" y=\"71.1074\">AnalysisObjective</text><line style=\"stroke: #383838; stroke-width: 1.5;\" x1=\"318.5\" x2=\"437.5\" y1=\"78.9375\" y2=\"78.9375\"/><text fill=\"#000000\" font-family=\"sans-serif\" font-size=\"11\" lengthAdjust=\"spacingAndGlyphs\" textLength=\"12\" x=\"323.5\" y=\"93.1479\">...</text><line style=\"stroke: #383838; stroke-width: 1.0;\" x1=\"318.5\" x2=\"437.5\" y1=\"99.7422\" y2=\"99.7422\"/></a><!--MD5=[bee11217b2f71d958a27249dc326068c]\n",
       "class E14--><a href=\"psysml:2f29b586-744b-44a6-b354-0cb36fac52ba\" target=\"_top\" title=\"psysml:2f29b586-744b-44a6-b354-0cb36fac52ba\" xlink:actuate=\"onRequest\" xlink:href=\"psysml:2f29b586-744b-44a6-b354-0cb36fac52ba\" xlink:show=\"new\" xlink:title=\"psysml:2f29b586-744b-44a6-b354-0cb36fac52ba\" xlink:type=\"simple\"><rect fill=\"#FFFFFF\" height=\"45.9375\" id=\"E14\" rx=\"10\" ry=\"10\" style=\"stroke: #383838; stroke-width: 1.5;\" width=\"104\" x=\"66\" y=\"51.5\"/><text fill=\"#000000\" font-family=\"sans-serif\" font-size=\"12\" font-style=\"italic\" lengthAdjust=\"spacingAndGlyphs\" textLength=\"40\" x=\"98\" y=\"67.6387\">«part»</text><text fill=\"#000000\" font-family=\"sans-serif\" font-size=\"12\" lengthAdjust=\"spacingAndGlyphs\" textLength=\"98\" x=\"69\" y=\"81.6074\">analysisContext</text><line style=\"stroke: #383838; stroke-width: 1.5;\" x1=\"67\" x2=\"169\" y1=\"89.4375\" y2=\"89.4375\"/></a><!--MD5=[0c48fb7552dae8cbbef69381101a84c8]\n",
       "class E15--><a href=\"psysml:cfe8b385-7bc2-406c-91e1-db9911ba5874\" target=\"_top\" title=\"psysml:cfe8b385-7bc2-406c-91e1-db9911ba5874\" xlink:actuate=\"onRequest\" xlink:href=\"psysml:cfe8b385-7bc2-406c-91e1-db9911ba5874\" xlink:show=\"new\" xlink:title=\"psysml:cfe8b385-7bc2-406c-91e1-db9911ba5874\" xlink:type=\"simple\"><rect fill=\"#FFFFFF\" height=\"45.9375\" id=\"E15\" rx=\"10\" ry=\"10\" style=\"stroke: #383838; stroke-width: 1.5;\" width=\"172\" x=\"32\" y=\"184\"/><text fill=\"#000000\" font-family=\"sans-serif\" font-size=\"12\" font-style=\"italic\" lengthAdjust=\"spacingAndGlyphs\" textLength=\"64\" x=\"86\" y=\"200.1387\">«analysis»</text><text fill=\"#000000\" font-family=\"sans-serif\" font-size=\"12\" lengthAdjust=\"spacingAndGlyphs\" textLength=\"162\" x=\"35\" y=\"214.1074\">analysisPlan: AnalysisPlan</text><line style=\"stroke: #383838; stroke-width: 1.5;\" x1=\"33\" x2=\"203\" y1=\"221.9375\" y2=\"221.9375\"/></a><!--MD5=[35f0587eaee8d5bb9a02e25b63afc23b]\n",
       "class E16--><a href=\"psysml:63325e1e-8a82-4691-b26b-3354962a7cad\" target=\"_top\" title=\"psysml:63325e1e-8a82-4691-b26b-3354962a7cad\" xlink:actuate=\"onRequest\" xlink:href=\"psysml:63325e1e-8a82-4691-b26b-3354962a7cad\" xlink:show=\"new\" xlink:title=\"psysml:63325e1e-8a82-4691-b26b-3354962a7cad\" xlink:type=\"simple\"><rect fill=\"#FFFFFF\" height=\"45.9375\" id=\"E16\" rx=\"10\" ry=\"10\" style=\"stroke: #383838; stroke-width: 1.5;\" width=\"93\" x=\"71.5\" y=\"322\"/><text fill=\"#000000\" font-family=\"sans-serif\" font-size=\"12\" font-style=\"italic\" lengthAdjust=\"spacingAndGlyphs\" textLength=\"91\" x=\"72.5\" y=\"338.1387\">«requirement»</text><text fill=\"#000000\" font-family=\"sans-serif\" font-size=\"12\" lengthAdjust=\"spacingAndGlyphs\" textLength=\"19\" x=\"108.5\" y=\"352.1074\">obj</text><line style=\"stroke: #383838; stroke-width: 1.5;\" x1=\"72.5\" x2=\"163.5\" y1=\"359.9375\" y2=\"359.9375\"/></a><text fill=\"#000000\" font-family=\"sans-serif\" font-size=\"14\" lengthAdjust=\"spacingAndGlyphs\" textLength=\"7\" x=\"730.5\" y=\"53.1982\">v</text><rect fill=\"#383838\" height=\"12\" style=\"stroke: #F8F8F8; stroke-width: 1.5;\" width=\"12\" x=\"728\" y=\"68.5\"/><text fill=\"#000000\" font-family=\"sans-serif\" font-size=\"14\" lengthAdjust=\"spacingAndGlyphs\" textLength=\"39\" x=\"714.5\" y=\"422.9951\">result</text><rect fill=\"#383838\" height=\"12\" style=\"stroke: #F8F8F8; stroke-width: 1.5;\" width=\"12\" x=\"728\" y=\"398\"/><text fill=\"#000000\" font-family=\"sans-serif\" font-size=\"14\" lengthAdjust=\"spacingAndGlyphs\" textLength=\"7\" x=\"297.5\" y=\"185.6982\">v</text><rect fill=\"#383838\" height=\"12\" style=\"stroke: #F8F8F8; stroke-width: 1.5;\" width=\"12\" x=\"295\" y=\"201\"/><text fill=\"#000000\" font-family=\"sans-serif\" font-size=\"14\" lengthAdjust=\"spacingAndGlyphs\" textLength=\"39\" x=\"522.5\" y=\"529.9951\">result</text><rect fill=\"#383838\" height=\"12\" style=\"stroke: #F8F8F8; stroke-width: 1.5;\" width=\"12\" x=\"536\" y=\"505\"/><text fill=\"#000000\" font-family=\"sans-serif\" font-size=\"14\" lengthAdjust=\"spacingAndGlyphs\" textLength=\"37\" x=\"416.5\" y=\"602.9951\">mass</text><rect fill=\"#383838\" height=\"12\" style=\"stroke: #F8F8F8; stroke-width: 1.5;\" width=\"12\" x=\"429\" y=\"578\"/><text fill=\"#000000\" font-family=\"sans-serif\" font-size=\"14\" lengthAdjust=\"spacingAndGlyphs\" textLength=\"7\" x=\"431.5\" y=\"323.6982\">v</text><rect fill=\"#383838\" height=\"12\" style=\"stroke: #F8F8F8; stroke-width: 1.5;\" width=\"12\" x=\"429\" y=\"339\"/><!--MD5=[05d275557350bfb9b23a4ef7222b4c39]\n",
       "link E3 to E2--><a href=\"psysml:4413170d-8387-4bcf-a661-a8e63eefb5dc\" target=\"_top\" title=\"psysml:4413170d-8387-4bcf-a661-a8e63eefb5dc\" xlink:actuate=\"onRequest\" xlink:href=\"psysml:4413170d-8387-4bcf-a661-a8e63eefb5dc\" xlink:show=\"new\" xlink:title=\"psysml:4413170d-8387-4bcf-a661-a8e63eefb5dc\" xlink:type=\"simple\"><path d=\"M607,97.64 C607,111.72 607,130.66 607,148.75 \" fill=\"none\" id=\"E3-&gt;E2\" style=\"stroke: #383838; stroke-width: 1.0;\"/><polygon fill=\"#FFFFFF\" points=\"607,168.9,600,149.9,614,149.9,607,168.9\" style=\"stroke: #383838; stroke-width: 1.0;\"/><ellipse cx=\"602\" cy=\"144.2\" fill=\"#383838\" rx=\"2\" ry=\"2\" style=\"stroke: #383838; stroke-width: 1.0;\"/><ellipse cx=\"612\" cy=\"144.2\" fill=\"#383838\" rx=\"2\" ry=\"2\" style=\"stroke: #383838; stroke-width: 1.0;\"/></a><!--MD5=[17bf29720e4688890742b92d9a67fdf0]\n",
       "reverse link E14 to E15--><a href=\"psysml:df4b3059-af15-4a6e-9f16-4ce8d388f00c\" target=\"_top\" title=\"psysml:df4b3059-af15-4a6e-9f16-4ce8d388f00c\" xlink:actuate=\"onRequest\" xlink:href=\"psysml:df4b3059-af15-4a6e-9f16-4ce8d388f00c\" xlink:show=\"new\" xlink:title=\"psysml:df4b3059-af15-4a6e-9f16-4ce8d388f00c\" xlink:type=\"simple\"><path d=\"M118,110.79 C118,134.03 118,163.75 118,183.75 \" fill=\"none\" id=\"E14&lt;-E15\" style=\"stroke: #383838; stroke-width: 1.0;\"/><polygon fill=\"#383838\" points=\"118,97.64,114,103.64,118,109.64,122,103.64,118,97.64\" style=\"stroke: #383838; stroke-width: 1.0;\"/></a><!--MD5=[1b01d5b954197aaf3899ca0bde35faf5]\n",
       "link E15 to E8--><a href=\"psysml:b8e5c057-83f1-47ef-94c9-1676b303e623\" target=\"_top\" title=\"psysml:b8e5c057-83f1-47ef-94c9-1676b303e623\" xlink:actuate=\"onRequest\" xlink:href=\"psysml:b8e5c057-83f1-47ef-94c9-1676b303e623\" xlink:show=\"new\" xlink:title=\"psysml:b8e5c057-83f1-47ef-94c9-1676b303e623\" xlink:type=\"simple\"><path d=\"M147.81,230.15 C184.47,257.4 245.87,303.03 278.7,327.43 \" fill=\"none\" id=\"E15-&gt;E8\" style=\"stroke: #383838; stroke-width: 1.0;\"/><polygon fill=\"#FFFFFF\" points=\"278.7,327.43,259.2749,321.7145,267.6261,310.478,278.7,327.43\" style=\"stroke: #383838; stroke-width: 1.0;\"/><ellipse cx=\"255.8931\" cy=\"316.7091\" fill=\"#383838\" rx=\"2\" ry=\"2\" style=\"stroke: #383838; stroke-width: 1.0;\"/><ellipse cx=\"261.8583\" cy=\"308.6831\" fill=\"#383838\" rx=\"2\" ry=\"2\" style=\"stroke: #383838; stroke-width: 1.0;\"/></a><!--MD5=[f8b155c46b092be73bb522b0a8fc72a2]\n",
       "link E15 to E16--><a href=\"psysml:7d3bd451-2ef5-4e75-9594-2e0dd7330291\" target=\"_top\" title=\"psysml:7d3bd451-2ef5-4e75-9594-2e0dd7330291\" xlink:actuate=\"onRequest\" xlink:href=\"psysml:7d3bd451-2ef5-4e75-9594-2e0dd7330291\" xlink:show=\"new\" xlink:title=\"psysml:7d3bd451-2ef5-4e75-9594-2e0dd7330291\" xlink:type=\"simple\"><path d=\"M118,230.15 C118,252.87 118,288.38 118,313.69 \" fill=\"none\" id=\"E15-&gt;E16\" style=\"stroke: #383838; stroke-width: 1.0;\"/><polygon fill=\"#383838\" points=\"118,321.86,121,313.86,115,313.86,118,321.86\" style=\"stroke: #383838; stroke-width: 1.0;\"/><text fill=\"#000000\" font-family=\"sans-serif\" font-size=\"13\" lengthAdjust=\"spacingAndGlyphs\" textLength=\"73\" x=\"119\" y=\"288.0669\">«objective»</text><text fill=\"#000000\" font-family=\"sans-serif\" font-size=\"13\" lengthAdjust=\"spacingAndGlyphs\" textLength=\"8\" x=\"108.975\" y=\"311.1004\">1</text></a><!--MD5=[608ebae08825364992cc4eb541bd7dad]\n",
       "@startuml\r\n",
       "top to bottom direction\r\n",
       "skinparam monochrome true\r\n",
       "skinparam classbackgroundcolor white\r\n",
       "skinparam shadowing false\r\n",
       "skinparam wrapWidth 300\r\n",
       "hide circle\r\n",
       "\r\n",
       "package \"AnalysisTest\" as E1  [[psysml:d47d9c93-f987-42aa-9c82-a11afa9e7a85 ]]  {\r\n",
       "comp def \"V\" as E2  <<(T,blue) part  def>> [[psysml:6e318fc7-f06d-4e4c-8e44-1e6d0f884455 ]] {\r\n",
       "- - references - -\r\n",
       "m\r\n",
       "}\r\n",
       "comp usage \"vv: V \" as E3  <<(T,blue) part>> [[psysml:27999d5c-daad-4ed7-92ff-020a622ea083 ]] {\r\n",
       "}\r\n",
       "comp def \"AnalysisObjective\" as E4  <<(T,blue) requirement  def>> [[psysml:31fce779-d9ab-452b-8111-7f3c68bff972 ]] {\r\n",
       "...\r\n",
       "- -\r\n",
       "}\r\n",
       "rec def \"AnalysisCase\" as E5 << analysis def>> [[psysml:0d42cad1-3808-4e7b-8fe6-f660e27fd2bd ]] {\r\n",
       "portin \"v\" as E6  [[psysml:f7aad551-6165-4689-8df3-b128f6f54571 ]] \r\n",
       "portout \"result\" as E7  [[psysml:d8a9a5d1-c1b2-404a-b54f-35037ecf4c2d ]] \r\n",
       "}\r\n",
       "\r\n",
       "rec def \"AnalysisPlan\" as E8 << analysis def>> [[psysml:058a72e0-0a98-4261-856d-73366cf47a25 ]] {\r\n",
       "portin \"v\" as E9  [[psysml:40d43c87-89d5-4dcb-a988-f011f6f29ac5 ]] \r\n",
       "rec usage \"analysisCase\" as E10 << analysis>> [[psysml:ebac0614-db53-4f6a-a11b-2a64966401ed ]] {\r\n",
       "portout \"mass\" as E11  [[psysml:94298e01-1500-44a7-8244-0cc3e5620ae6 ]] \r\n",
       "portin \"v\" as E12  [[psysml:fabccdcf-1c94-4d5c-8a0b-5626b651aa80 ]] \r\n",
       "}\r\n",
       "\r\n",
       "portout \"result\" as E13  [[psysml:633f1383-e65f-4e22-9e6d-6ffcdde4bc38 ]] \r\n",
       "}\r\n",
       "\r\n",
       "comp usage \"analysisContext\" as E14  <<(T,blue) part>> [[psysml:2f29b586-744b-44a6-b354-0cb36fac52ba ]] {\r\n",
       "}\r\n",
       "comp usage \"analysisPlan: AnalysisPlan \" as E15 << analysis>> [[psysml:cfe8b385-7bc2-406c-91e1-db9911ba5874 ]] {\r\n",
       "}\r\n",
       "comp usage \"obj\" as E16  <<(T,blue) requirement>> [[psysml:63325e1e-8a82-4691-b26b-3354962a7cad ]] {\r\n",
       "}\r\n",
       "}\r\n",
       "E3 - -:|> E2 [[psysml:4413170d-8387-4bcf-a661-a8e63eefb5dc ]] \r\n",
       "E14 *- - E15 [[psysml:df4b3059-af15-4a6e-9f16-4ce8d388f00c ]] \r\n",
       "E15 - -:|> E8 [[psysml:b8e5c057-83f1-47ef-94c9-1676b303e623 ]] \r\n",
       "E15 - ->> \"1\"E16 [[psysml:7d3bd451-2ef5-4e75-9594-2e0dd7330291 ]] : <<objective>>\r\n",
       "@enduml\r\n",
       "\n",
       "PlantUML version 1.2020.13(Sat Jun 13 12:26:38 UTC 2020)\n",
       "(EPL source distribution)\n",
       "Java Runtime: OpenJDK Runtime Environment\n",
       "JVM: OpenJDK 64-Bit Server VM\n",
       "Default Encoding: UTF-8\n",
       "Language: en\n",
       "Country: null\n",
       "--></g></svg>"
      ]
     },
     "execution_count": 44,
     "metadata": {},
     "output_type": "execute_result"
    }
   ],
   "source": [
    "%viz --style=\"TB\" --view=\"Default\" \"AnalysisTest\""
   ]
  },
  {
   "cell_type": "code",
   "execution_count": 45,
   "id": "6ef26f8a",
   "metadata": {
    "execution": {
     "iopub.execute_input": "2021-11-13T12:57:21.177237Z",
     "iopub.status.busy": "2021-11-13T12:57:21.176829Z",
     "iopub.status.idle": "2021-11-13T12:57:21.254689Z",
     "shell.execute_reply": "2021-11-13T12:57:21.251804Z"
    }
   },
   "outputs": [
    {
     "data": {
      "image/svg+xml": [
       "<?xml version=\"1.0\" encoding=\"UTF-8\" standalone=\"no\"?><svg xmlns=\"http://www.w3.org/2000/svg\" xmlns:xlink=\"http://www.w3.org/1999/xlink\" contentScriptType=\"application/ecmascript\" contentStyleType=\"text/css\" height=\"923px\" preserveAspectRatio=\"none\" style=\"width:453px;height:923px;\" version=\"1.1\" viewBox=\"0 0 453 923\" width=\"453px\" zoomAndPan=\"magnify\"><defs/><g><!--MD5=[fbc87193dbaf4d95561dea2c320d4a47]\n",
       "cluster E1--><a href=\"psysml:d47d9c93-f987-42aa-9c82-a11afa9e7a85\" target=\"_top\" title=\"psysml:d47d9c93-f987-42aa-9c82-a11afa9e7a85\" xlink:actuate=\"onRequest\" xlink:href=\"psysml:d47d9c93-f987-42aa-9c82-a11afa9e7a85\" xlink:show=\"new\" xlink:title=\"psysml:d47d9c93-f987-42aa-9c82-a11afa9e7a85\" xlink:type=\"simple\"><polygon fill=\"#FFFFFF\" points=\"20.13,6,112.13,6,119.13,28.2969,431.13,28.2969,431.13,911,20.13,911,20.13,6\" style=\"stroke: #000000; stroke-width: 1.5;\"/><line style=\"stroke: #000000; stroke-width: 1.5;\" x1=\"20.13\" x2=\"119.13\" y1=\"28.2969\" y2=\"28.2969\"/><text fill=\"#000000\" font-family=\"sans-serif\" font-size=\"14\" font-weight=\"bold\" lengthAdjust=\"spacingAndGlyphs\" textLength=\"86\" x=\"24.13\" y=\"20.9951\">AnalysisTest</text></a><!--MD5=[b4997ac47864f28c2f74865a473b2911]\n",
       "class E2--><a href=\"psysml:6e318fc7-f06d-4e4c-8e44-1e6d0f884455\" target=\"_top\" title=\"psysml:6e318fc7-f06d-4e4c-8e44-1e6d0f884455\" xlink:actuate=\"onRequest\" xlink:href=\"psysml:6e318fc7-f06d-4e4c-8e44-1e6d0f884455\" xlink:show=\"new\" xlink:title=\"psysml:6e318fc7-f06d-4e4c-8e44-1e6d0f884455\" xlink:type=\"simple\"><rect fill=\"#FFFFFF\" height=\"75.5469\" id=\"E2\" style=\"stroke: #383838; stroke-width: 1.5;\" width=\"70\" x=\"160.13\" y=\"691\"/><text fill=\"#000000\" font-family=\"sans-serif\" font-size=\"12\" font-style=\"italic\" lengthAdjust=\"spacingAndGlyphs\" textLength=\"68\" x=\"161.13\" y=\"707.1387\">«part  def»</text><text fill=\"#000000\" font-family=\"sans-serif\" font-size=\"12\" lengthAdjust=\"spacingAndGlyphs\" textLength=\"8\" x=\"191.13\" y=\"721.1074\">V</text><line style=\"stroke: #383838; stroke-width: 1.5;\" x1=\"161.13\" x2=\"229.13\" y1=\"728.9375\" y2=\"728.9375\"/><text fill=\"#000000\" font-family=\"sans-serif\" font-size=\"11\" lengthAdjust=\"spacingAndGlyphs\" textLength=\"11\" x=\"166.13\" y=\"759.9526\">m</text><line style=\"stroke: #383838; stroke-width: 1.0;\" x1=\"161.13\" x2=\"164.13\" y1=\"743.3398\" y2=\"743.3398\"/><text fill=\"#000000\" font-family=\"sans-serif\" font-size=\"11\" lengthAdjust=\"spacingAndGlyphs\" textLength=\"62\" x=\"164.13\" y=\"746.6479\">references</text><line style=\"stroke: #383838; stroke-width: 1.0;\" x1=\"226.13\" x2=\"229.13\" y1=\"743.3398\" y2=\"743.3398\"/></a><!--MD5=[09b614a08d8cba4a07c9adeb5e0fee81]\n",
       "class E3--><a href=\"psysml:27999d5c-daad-4ed7-92ff-020a622ea083\" target=\"_top\" title=\"psysml:27999d5c-daad-4ed7-92ff-020a622ea083\" xlink:actuate=\"onRequest\" xlink:href=\"psysml:27999d5c-daad-4ed7-92ff-020a622ea083\" xlink:show=\"new\" xlink:title=\"psysml:27999d5c-daad-4ed7-92ff-020a622ea083\" xlink:type=\"simple\"><rect fill=\"#FFFFFF\" height=\"45.9375\" id=\"E3\" rx=\"10\" ry=\"10\" style=\"stroke: #383838; stroke-width: 1.5;\" width=\"42\" x=\"202.13\" y=\"553\"/><text fill=\"#000000\" font-family=\"sans-serif\" font-size=\"12\" font-style=\"italic\" lengthAdjust=\"spacingAndGlyphs\" textLength=\"40\" x=\"203.13\" y=\"569.1387\">«part»</text><text fill=\"#000000\" font-family=\"sans-serif\" font-size=\"12\" lengthAdjust=\"spacingAndGlyphs\" textLength=\"28\" x=\"207.13\" y=\"583.1074\">vv: V</text><line style=\"stroke: #383838; stroke-width: 1.5;\" x1=\"203.13\" x2=\"243.13\" y1=\"590.9375\" y2=\"590.9375\"/></a><!--MD5=[ebbe1d658d1005bcc118a6aa81145e00]\n",
       "class E4--><a href=\"psysml:31fce779-d9ab-452b-8111-7f3c68bff972\" target=\"_top\" title=\"psysml:31fce779-d9ab-452b-8111-7f3c68bff972\" xlink:actuate=\"onRequest\" xlink:href=\"psysml:31fce779-d9ab-452b-8111-7f3c68bff972\" xlink:show=\"new\" xlink:title=\"psysml:31fce779-d9ab-452b-8111-7f3c68bff972\" xlink:type=\"simple\"><rect fill=\"#FFFFFF\" height=\"66.7422\" id=\"E4\" style=\"stroke: #383838; stroke-width: 1.5;\" width=\"121\" x=\"279.63\" y=\"828\"/><text fill=\"#000000\" font-family=\"sans-serif\" font-size=\"12\" font-style=\"italic\" lengthAdjust=\"spacingAndGlyphs\" textLength=\"119\" x=\"280.63\" y=\"844.1387\">«requirement  def»</text><text fill=\"#000000\" font-family=\"sans-serif\" font-size=\"12\" lengthAdjust=\"spacingAndGlyphs\" textLength=\"107\" x=\"286.63\" y=\"858.1074\">AnalysisObjective</text><line style=\"stroke: #383838; stroke-width: 1.5;\" x1=\"280.63\" x2=\"399.63\" y1=\"865.9375\" y2=\"865.9375\"/><text fill=\"#000000\" font-family=\"sans-serif\" font-size=\"11\" lengthAdjust=\"spacingAndGlyphs\" textLength=\"12\" x=\"285.63\" y=\"880.1479\">...</text><line style=\"stroke: #383838; stroke-width: 1.0;\" x1=\"280.63\" x2=\"399.63\" y1=\"886.7422\" y2=\"886.7422\"/></a><!--MD5=[270fce915f116d4de14055a7c1d9a0f3]\n",
       "class E5--><a href=\"psysml:0d42cad1-3808-4e7b-8fe6-f660e27fd2bd\" target=\"_top\" title=\"psysml:0d42cad1-3808-4e7b-8fe6-f660e27fd2bd\" xlink:actuate=\"onRequest\" xlink:href=\"psysml:0d42cad1-3808-4e7b-8fe6-f660e27fd2bd\" xlink:show=\"new\" xlink:title=\"psysml:0d42cad1-3808-4e7b-8fe6-f660e27fd2bd\" xlink:type=\"simple\"><rect fill=\"#FFFFFF\" height=\"75.5469\" id=\"E5\" style=\"stroke: #383838; stroke-width: 1.5;\" width=\"136\" x=\"279.13\" y=\"538\"/><text fill=\"#000000\" font-family=\"sans-serif\" font-size=\"12\" font-style=\"italic\" lengthAdjust=\"spacingAndGlyphs\" textLength=\"88\" x=\"303.13\" y=\"554.1387\">«analysis def»</text><text fill=\"#000000\" font-family=\"sans-serif\" font-size=\"12\" lengthAdjust=\"spacingAndGlyphs\" textLength=\"81\" x=\"306.63\" y=\"568.1074\">AnalysisCase</text><line style=\"stroke: #383838; stroke-width: 1.5;\" x1=\"280.13\" x2=\"414.13\" y1=\"575.9375\" y2=\"575.9375\"/><text fill=\"#000000\" font-family=\"sans-serif\" font-size=\"11\" lengthAdjust=\"spacingAndGlyphs\" textLength=\"43\" x=\"285.13\" y=\"606.9526\">{ v.m }</text><line style=\"stroke: #383838; stroke-width: 1.0;\" x1=\"280.13\" x2=\"283.13\" y1=\"590.3398\" y2=\"590.3398\"/><text fill=\"#000000\" font-family=\"sans-serif\" font-size=\"11\" lengthAdjust=\"spacingAndGlyphs\" textLength=\"128\" x=\"283.13\" y=\"593.6479\">path step expressions</text><line style=\"stroke: #383838; stroke-width: 1.0;\" x1=\"411.13\" x2=\"414.13\" y1=\"590.3398\" y2=\"590.3398\"/></a><!--MD5=[60a26617385b1d2d0262a64233df1f8d]\n",
       "class E6--><a href=\"psysml:b64c7347-1249-45eb-ab10-0bf79737e87a\" target=\"_top\" title=\"psysml:b64c7347-1249-45eb-ab10-0bf79737e87a\" xlink:actuate=\"onRequest\" xlink:href=\"psysml:b64c7347-1249-45eb-ab10-0bf79737e87a\" xlink:show=\"new\" xlink:title=\"psysml:b64c7347-1249-45eb-ab10-0bf79737e87a\" xlink:type=\"simple\"><rect fill=\"#FFFFFF\" height=\"45.9375\" id=\"E6\" rx=\"10\" ry=\"10\" style=\"stroke: #383838; stroke-width: 1.5;\" width=\"144\" x=\"268.13\" y=\"706\"/><text fill=\"#000000\" font-family=\"sans-serif\" font-size=\"12\" font-style=\"italic\" lengthAdjust=\"spacingAndGlyphs\" textLength=\"91\" x=\"294.63\" y=\"722.1387\">«requirement»</text><text fill=\"#000000\" font-family=\"sans-serif\" font-size=\"12\" lengthAdjust=\"spacingAndGlyphs\" textLength=\"134\" x=\"271.13\" y=\"736.1074\">obj: AnalysisObjective</text><line style=\"stroke: #383838; stroke-width: 1.5;\" x1=\"269.13\" x2=\"411.13\" y1=\"743.9375\" y2=\"743.9375\"/></a><!--MD5=[2156ba9850f5573cc1fc38a6a4b2f02b]\n",
       "class E7--><a href=\"psysml:058a72e0-0a98-4261-856d-73366cf47a25\" target=\"_top\" title=\"psysml:058a72e0-0a98-4261-856d-73366cf47a25\" xlink:actuate=\"onRequest\" xlink:href=\"psysml:058a72e0-0a98-4261-856d-73366cf47a25\" xlink:show=\"new\" xlink:title=\"psysml:058a72e0-0a98-4261-856d-73366cf47a25\" xlink:type=\"simple\"><rect fill=\"#FFFFFF\" height=\"45.9375\" id=\"E7\" style=\"stroke: #383838; stroke-width: 1.5;\" width=\"90\" x=\"108.13\" y=\"271\"/><text fill=\"#000000\" font-family=\"sans-serif\" font-size=\"12\" font-style=\"italic\" lengthAdjust=\"spacingAndGlyphs\" textLength=\"88\" x=\"109.13\" y=\"287.1387\">«analysis def»</text><text fill=\"#000000\" font-family=\"sans-serif\" font-size=\"12\" lengthAdjust=\"spacingAndGlyphs\" textLength=\"77\" x=\"114.63\" y=\"301.1074\">AnalysisPlan</text><line style=\"stroke: #383838; stroke-width: 1.5;\" x1=\"109.13\" x2=\"197.13\" y1=\"308.9375\" y2=\"308.9375\"/></a><!--MD5=[b9389687b975829384b498ac4b7476b2]\n",
       "class E8--><a href=\"psysml:185eeef5-681f-4700-9ef2-09baff1a4526\" target=\"_top\" title=\"psysml:185eeef5-681f-4700-9ef2-09baff1a4526\" xlink:actuate=\"onRequest\" xlink:href=\"psysml:185eeef5-681f-4700-9ef2-09baff1a4526\" xlink:show=\"new\" xlink:title=\"psysml:185eeef5-681f-4700-9ef2-09baff1a4526\" xlink:type=\"simple\"><rect fill=\"#FFFFFF\" height=\"66.7422\" id=\"E8\" rx=\"10\" ry=\"10\" style=\"stroke: #383838; stroke-width: 1.5;\" width=\"93\" x=\"106.63\" y=\"394\"/><text fill=\"#000000\" font-family=\"sans-serif\" font-size=\"12\" font-style=\"italic\" lengthAdjust=\"spacingAndGlyphs\" textLength=\"91\" x=\"107.63\" y=\"410.1387\">«requirement»</text><text fill=\"#000000\" font-family=\"sans-serif\" font-size=\"12\" lengthAdjust=\"spacingAndGlyphs\" textLength=\"19\" x=\"143.63\" y=\"424.1074\">obj</text><line style=\"stroke: #383838; stroke-width: 1.5;\" x1=\"107.63\" x2=\"198.63\" y1=\"431.9375\" y2=\"431.9375\"/><text fill=\"#000000\" font-family=\"sans-serif\" font-size=\"11\" lengthAdjust=\"spacingAndGlyphs\" textLength=\"12\" x=\"112.63\" y=\"446.1479\">...</text><line style=\"stroke: #383838; stroke-width: 1.0;\" x1=\"107.63\" x2=\"198.63\" y1=\"452.7422\" y2=\"452.7422\"/></a><!--MD5=[fd4143e9d270a159db93a4ea2a975926]\n",
       "class E9--><a href=\"psysml:ebac0614-db53-4f6a-a11b-2a64966401ed\" target=\"_top\" title=\"psysml:ebac0614-db53-4f6a-a11b-2a64966401ed\" xlink:actuate=\"onRequest\" xlink:href=\"psysml:ebac0614-db53-4f6a-a11b-2a64966401ed\" xlink:show=\"new\" xlink:title=\"psysml:ebac0614-db53-4f6a-a11b-2a64966401ed\" xlink:type=\"simple\"><rect fill=\"#FFFFFF\" height=\"45.9375\" id=\"E9\" rx=\"10\" ry=\"10\" style=\"stroke: #383838; stroke-width: 1.5;\" width=\"180\" x=\"235.13\" y=\"404.5\"/><text fill=\"#000000\" font-family=\"sans-serif\" font-size=\"12\" font-style=\"italic\" lengthAdjust=\"spacingAndGlyphs\" textLength=\"64\" x=\"293.13\" y=\"420.6387\">«analysis»</text><text fill=\"#000000\" font-family=\"sans-serif\" font-size=\"12\" lengthAdjust=\"spacingAndGlyphs\" textLength=\"170\" x=\"238.13\" y=\"434.6074\">analysisCase: AnalysisCase</text><line style=\"stroke: #383838; stroke-width: 1.5;\" x1=\"236.13\" x2=\"414.13\" y1=\"442.4375\" y2=\"442.4375\"/></a><!--MD5=[96f4274e9e20536e775497830990834d]\n",
       "class E10--><a href=\"psysml:885560a7-695c-4aea-bf29-e47629fa314b\" target=\"_top\" title=\"psysml:885560a7-695c-4aea-bf29-e47629fa314b\" xlink:actuate=\"onRequest\" xlink:href=\"psysml:885560a7-695c-4aea-bf29-e47629fa314b\" xlink:show=\"new\" xlink:title=\"psysml:885560a7-695c-4aea-bf29-e47629fa314b\" xlink:type=\"simple\"><rect fill=\"#FFFFFF\" height=\"45.9375\" id=\"E10\" rx=\"10\" ry=\"10\" style=\"stroke: #383838; stroke-width: 1.5;\" width=\"93\" x=\"73.63\" y=\"553\"/><text fill=\"#000000\" font-family=\"sans-serif\" font-size=\"12\" font-style=\"italic\" lengthAdjust=\"spacingAndGlyphs\" textLength=\"91\" x=\"74.63\" y=\"569.1387\">«requirement»</text><text fill=\"#000000\" font-family=\"sans-serif\" font-size=\"12\" lengthAdjust=\"spacingAndGlyphs\" textLength=\"19\" x=\"110.63\" y=\"583.1074\">obj</text><line style=\"stroke: #383838; stroke-width: 1.5;\" x1=\"74.63\" x2=\"165.63\" y1=\"590.9375\" y2=\"590.9375\"/></a><!--MD5=[1dd1bfd58a279cf63c5f349dbc8fc6a1]\n",
       "class E11--><a href=\"psysml:2f29b586-744b-44a6-b354-0cb36fac52ba\" target=\"_top\" title=\"psysml:2f29b586-744b-44a6-b354-0cb36fac52ba\" xlink:actuate=\"onRequest\" xlink:href=\"psysml:2f29b586-744b-44a6-b354-0cb36fac52ba\" xlink:show=\"new\" xlink:title=\"psysml:2f29b586-744b-44a6-b354-0cb36fac52ba\" xlink:type=\"simple\"><rect fill=\"#FFFFFF\" height=\"45.9375\" id=\"E11\" rx=\"10\" ry=\"10\" style=\"stroke: #383838; stroke-width: 1.5;\" width=\"104\" x=\"164.13\" y=\"41\"/><text fill=\"#000000\" font-family=\"sans-serif\" font-size=\"12\" font-style=\"italic\" lengthAdjust=\"spacingAndGlyphs\" textLength=\"40\" x=\"196.13\" y=\"57.1387\">«part»</text><text fill=\"#000000\" font-family=\"sans-serif\" font-size=\"12\" lengthAdjust=\"spacingAndGlyphs\" textLength=\"98\" x=\"167.13\" y=\"71.1074\">analysisContext</text><line style=\"stroke: #383838; stroke-width: 1.5;\" x1=\"165.13\" x2=\"267.13\" y1=\"78.9375\" y2=\"78.9375\"/></a><!--MD5=[49a0ec8f00dab7302a31f22d0f0fe584]\n",
       "class E12--><a href=\"psysml:cfe8b385-7bc2-406c-91e1-db9911ba5874\" target=\"_top\" title=\"psysml:cfe8b385-7bc2-406c-91e1-db9911ba5874\" xlink:actuate=\"onRequest\" xlink:href=\"psysml:cfe8b385-7bc2-406c-91e1-db9911ba5874\" xlink:show=\"new\" xlink:title=\"psysml:cfe8b385-7bc2-406c-91e1-db9911ba5874\" xlink:type=\"simple\"><rect fill=\"#FFFFFF\" height=\"45.9375\" id=\"E12\" rx=\"10\" ry=\"10\" style=\"stroke: #383838; stroke-width: 1.5;\" width=\"172\" x=\"130.13\" y=\"148\"/><text fill=\"#000000\" font-family=\"sans-serif\" font-size=\"12\" font-style=\"italic\" lengthAdjust=\"spacingAndGlyphs\" textLength=\"64\" x=\"184.13\" y=\"164.1387\">«analysis»</text><text fill=\"#000000\" font-family=\"sans-serif\" font-size=\"12\" lengthAdjust=\"spacingAndGlyphs\" textLength=\"162\" x=\"133.13\" y=\"178.1074\">analysisPlan: AnalysisPlan</text><line style=\"stroke: #383838; stroke-width: 1.5;\" x1=\"131.13\" x2=\"301.13\" y1=\"185.9375\" y2=\"185.9375\"/></a><!--MD5=[ee3c913d1a06f366521f9ef512b67efe]\n",
       "class E13--><a href=\"psysml:63325e1e-8a82-4691-b26b-3354962a7cad\" target=\"_top\" title=\"psysml:63325e1e-8a82-4691-b26b-3354962a7cad\" xlink:actuate=\"onRequest\" xlink:href=\"psysml:63325e1e-8a82-4691-b26b-3354962a7cad\" xlink:show=\"new\" xlink:title=\"psysml:63325e1e-8a82-4691-b26b-3354962a7cad\" xlink:type=\"simple\"><rect fill=\"#FFFFFF\" height=\"45.9375\" id=\"E13\" rx=\"10\" ry=\"10\" style=\"stroke: #383838; stroke-width: 1.5;\" width=\"93\" x=\"233.63\" y=\"271\"/><text fill=\"#000000\" font-family=\"sans-serif\" font-size=\"12\" font-style=\"italic\" lengthAdjust=\"spacingAndGlyphs\" textLength=\"91\" x=\"234.63\" y=\"287.1387\">«requirement»</text><text fill=\"#000000\" font-family=\"sans-serif\" font-size=\"12\" lengthAdjust=\"spacingAndGlyphs\" textLength=\"19\" x=\"270.63\" y=\"301.1074\">obj</text><line style=\"stroke: #383838; stroke-width: 1.5;\" x1=\"234.63\" x2=\"325.63\" y1=\"308.9375\" y2=\"308.9375\"/></a><!--MD5=[05d275557350bfb9b23a4ef7222b4c39]\n",
       "link E3 to E2--><a href=\"psysml:4413170d-8387-4bcf-a661-a8e63eefb5dc\" target=\"_top\" title=\"psysml:4413170d-8387-4bcf-a661-a8e63eefb5dc\" xlink:actuate=\"onRequest\" xlink:href=\"psysml:4413170d-8387-4bcf-a661-a8e63eefb5dc\" xlink:show=\"new\" xlink:title=\"psysml:4413170d-8387-4bcf-a661-a8e63eefb5dc\" xlink:type=\"simple\"><path d=\"M213.8,599.22 C208.84,612.07 203.16,628.68 200.13,644 C198.44,652.55 197.27,661.67 196.46,670.63 \" fill=\"none\" id=\"E3-&gt;E2\" style=\"stroke: #383838; stroke-width: 1.0;\"/><polygon fill=\"#FFFFFF\" points=\"195.18,690.93,189.4022,671.5234,203.3738,672.4135,195.18,690.93\" style=\"stroke: #383838; stroke-width: 1.0;\"/><ellipse cx=\"191.7605\" cy=\"665.9621\" fill=\"#383838\" rx=\"2\" ry=\"2\" style=\"stroke: #383838; stroke-width: 1.0;\"/><ellipse cx=\"201.7403\" cy=\"666.5979\" fill=\"#383838\" rx=\"2\" ry=\"2\" style=\"stroke: #383838; stroke-width: 1.0;\"/></a><!--MD5=[15ebcb19ae302d9b601edb458606d402]\n",
       "link E5 to E2--><a href=\"psysml:0e59658b-8c20-4184-9a82-84e161b0c6e1\" target=\"_top\" title=\"psysml:0e59658b-8c20-4184-9a82-84e161b0c6e1\" xlink:actuate=\"onRequest\" xlink:href=\"psysml:0e59658b-8c20-4184-9a82-84e161b0c6e1\" xlink:show=\"new\" xlink:title=\"psysml:0e59658b-8c20-4184-9a82-84e161b0c6e1\" xlink:type=\"simple\"><path d=\"M303.36,614.09 C292.6,623.61 281.27,633.99 271.13,644 C257.44,657.51 243.12,672.96 230.65,686.89 \" fill=\"none\" id=\"E5-&gt;E2\" style=\"stroke: #383838; stroke-width: 1.0; stroke-dasharray: 7.0,7.0;\"/><polygon fill=\"#383838\" points=\"227.18,690.78,236.1576,686.7299,230.5098,687.0501,230.1897,681.4023,227.18,690.78\" style=\"stroke: #383838; stroke-width: 1.0;\"/><text fill=\"#000000\" font-family=\"sans-serif\" font-size=\"13\" lengthAdjust=\"spacingAndGlyphs\" textLength=\"62\" x=\"272.13\" y=\"657.0669\">«subject»</text></a><!--MD5=[9120cf2e5df3bff93db8f754bbbc09b4]\n",
       "link E5 to E6--><a href=\"psysml:0aba1a21-1a42-4d2b-97f5-c2cba04c9345\" target=\"_top\" title=\"psysml:0aba1a21-1a42-4d2b-97f5-c2cba04c9345\" xlink:actuate=\"onRequest\" xlink:href=\"psysml:0aba1a21-1a42-4d2b-97f5-c2cba04c9345\" xlink:show=\"new\" xlink:title=\"psysml:0aba1a21-1a42-4d2b-97f5-c2cba04c9345\" xlink:type=\"simple\"><path d=\"M345.4,614.33 C344.21,639.95 342.65,673.54 341.54,697.54 \" fill=\"none\" id=\"E5-&gt;E6\" style=\"stroke: #383838; stroke-width: 1.0;\"/><polygon fill=\"#383838\" points=\"341.17,705.61,344.5378,697.7577,338.5443,697.4795,341.17,705.61\" style=\"stroke: #383838; stroke-width: 1.0;\"/><text fill=\"#000000\" font-family=\"sans-serif\" font-size=\"13\" lengthAdjust=\"spacingAndGlyphs\" textLength=\"73\" x=\"344.13\" y=\"657.0669\">«objective»</text></a><!--MD5=[f667431f98296947986a1a7595a31603]\n",
       "link E6 to E4--><a href=\"psysml:32f59106-5f4c-4aec-8305-226899de5705\" target=\"_top\" title=\"psysml:32f59106-5f4c-4aec-8305-226899de5705\" xlink:actuate=\"onRequest\" xlink:href=\"psysml:32f59106-5f4c-4aec-8305-226899de5705\" xlink:show=\"new\" xlink:title=\"psysml:32f59106-5f4c-4aec-8305-226899de5705\" xlink:type=\"simple\"><path d=\"M340.13,752.14 C340.13,767.41 340.13,788.39 340.13,807.82 \" fill=\"none\" id=\"E6-&gt;E4\" style=\"stroke: #383838; stroke-width: 1.0;\"/><polygon fill=\"#FFFFFF\" points=\"340.13,827.96,333.13,808.96,347.13,808.96,340.13,827.96\" style=\"stroke: #383838; stroke-width: 1.0;\"/><ellipse cx=\"335.13\" cy=\"803.26\" fill=\"#383838\" rx=\"2\" ry=\"2\" style=\"stroke: #383838; stroke-width: 1.0;\"/><ellipse cx=\"345.13\" cy=\"803.26\" fill=\"#383838\" rx=\"2\" ry=\"2\" style=\"stroke: #383838; stroke-width: 1.0;\"/></a><!--MD5=[583832df87f4419a098336a29a52fa00]\n",
       "link E7 to E2--><a href=\"psysml:1b5baffb-8729-41ae-bce6-1275f3b8062c\" target=\"_top\" title=\"psysml:1b5baffb-8729-41ae-bce6-1275f3b8062c\" xlink:actuate=\"onRequest\" xlink:href=\"psysml:1b5baffb-8729-41ae-bce6-1275f3b8062c\" xlink:show=\"new\" xlink:title=\"psysml:1b5baffb-8729-41ae-bce6-1275f3b8062c\" xlink:type=\"simple\"><path d=\"M135.62,317.09 C95.87,370.11 6,508.04 56.13,614 C76.51,657.06 122,689.3 155.42,708.32 \" fill=\"none\" id=\"E7-&gt;E2\" style=\"stroke: #383838; stroke-width: 1.0; stroke-dasharray: 7.0,7.0;\"/><polygon fill=\"#383838\" points=\"159.84,710.8,153.9458,702.9096,155.4787,708.3548,150.0335,709.8877,159.84,710.8\" style=\"stroke: #383838; stroke-width: 1.0;\"/><text fill=\"#000000\" font-family=\"sans-serif\" font-size=\"13\" lengthAdjust=\"spacingAndGlyphs\" textLength=\"62\" x=\"48.13\" y=\"504.0669\">«subject»</text></a><!--MD5=[79bc8f324ef4d02c541433f2e6e513c3]\n",
       "link E7 to E8--><a href=\"psysml:90e157ee-5294-4f98-a807-291d927bb48a\" target=\"_top\" title=\"psysml:90e157ee-5294-4f98-a807-291d927bb48a\" xlink:actuate=\"onRequest\" xlink:href=\"psysml:90e157ee-5294-4f98-a807-291d927bb48a\" xlink:show=\"new\" xlink:title=\"psysml:90e157ee-5294-4f98-a807-291d927bb48a\" xlink:type=\"simple\"><path d=\"M153.13,317.01 C153.13,335.7 153.13,363.02 153.13,385.69 \" fill=\"none\" id=\"E7-&gt;E8\" style=\"stroke: #383838; stroke-width: 1.0;\"/><polygon fill=\"#383838\" points=\"153.13,393.81,156.13,385.81,150.13,385.81,153.13,393.81\" style=\"stroke: #383838; stroke-width: 1.0;\"/><text fill=\"#000000\" font-family=\"sans-serif\" font-size=\"13\" lengthAdjust=\"spacingAndGlyphs\" textLength=\"73\" x=\"154.13\" y=\"360.0669\">«objective»</text><text fill=\"#000000\" font-family=\"sans-serif\" font-size=\"13\" lengthAdjust=\"spacingAndGlyphs\" textLength=\"8\" x=\"144.3425\" y=\"382.8061\">1</text></a><!--MD5=[e4a10ef82d0e328e31cac39a31e58dda]\n",
       "reverse link E7 to E9--><a href=\"psysml:5b13e274-498b-4649-80bb-2ca5d783c8e3\" target=\"_top\" title=\"psysml:5b13e274-498b-4649-80bb-2ca5d783c8e3\" xlink:actuate=\"onRequest\" xlink:href=\"psysml:5b13e274-498b-4649-80bb-2ca5d783c8e3\" xlink:show=\"new\" xlink:title=\"psysml:5b13e274-498b-4649-80bb-2ca5d783c8e3\" xlink:type=\"simple\"><path d=\"M203.01,324.33 C214.15,331.41 225.74,339.19 236.13,347 C259.98,364.92 285.16,387.84 302.63,404.46 \" fill=\"none\" id=\"E7&lt;-E9\" style=\"stroke: #383838; stroke-width: 1.0;\"/><polygon fill=\"#383838\" points=\"191.63,317.25,194.6072,323.8178,201.8149,323.5958,198.8377,317.0279,191.63,317.25\" style=\"stroke: #383838; stroke-width: 1.0;\"/></a><!--MD5=[bfc3ddf2e613be37104f658f09af896c]\n",
       "link E9 to E5--><a href=\"psysml:2720ff20-3733-452c-91c5-acd446f65b05\" target=\"_top\" title=\"psysml:2720ff20-3733-452c-91c5-acd446f65b05\" xlink:actuate=\"onRequest\" xlink:href=\"psysml:2720ff20-3733-452c-91c5-acd446f65b05\" xlink:show=\"new\" xlink:title=\"psysml:2720ff20-3733-452c-91c5-acd446f65b05\" xlink:type=\"simple\"><path d=\"M328.47,450.75 C331.16,468.64 335.06,494.59 338.59,518.16 \" fill=\"none\" id=\"E9-&gt;E5\" style=\"stroke: #383838; stroke-width: 1.0;\"/><polygon fill=\"#FFFFFF\" points=\"341.57,537.99,331.824,520.2413,345.6685,518.1607,341.57,537.99\" style=\"stroke: #383838; stroke-width: 1.0;\"/><ellipse cx=\"332.9546\" cy=\"514.3074\" fill=\"#383838\" rx=\"2\" ry=\"2\" style=\"stroke: #383838; stroke-width: 1.0;\"/><ellipse cx=\"342.8436\" cy=\"512.8212\" fill=\"#383838\" rx=\"2\" ry=\"2\" style=\"stroke: #383838; stroke-width: 1.0;\"/></a><!--MD5=[35e5f1cbde42fa304a029880aa2bc7f2]\n",
       "link E9 to E10--><a href=\"psysml:207a8d5d-7cc5-465d-969c-ac78b140bf51\" target=\"_top\" title=\"psysml:207a8d5d-7cc5-465d-969c-ac78b140bf51\" xlink:actuate=\"onRequest\" xlink:href=\"psysml:207a8d5d-7cc5-465d-969c-ac78b140bf51\" xlink:show=\"new\" xlink:title=\"psysml:207a8d5d-7cc5-465d-969c-ac78b140bf51\" xlink:type=\"simple\"><path d=\"M293.99,450.75 C257.47,476.86 196.93,520.12 157.79,548.09 \" fill=\"none\" id=\"E9-&gt;E10\" style=\"stroke: #383838; stroke-width: 1.0;\"/><polygon fill=\"#383838\" points=\"151.22,552.78,159.4727,550.5679,155.9832,545.6869,151.22,552.78\" style=\"stroke: #383838; stroke-width: 1.0;\"/><text fill=\"#000000\" font-family=\"sans-serif\" font-size=\"13\" lengthAdjust=\"spacingAndGlyphs\" textLength=\"73\" x=\"235.13\" y=\"504.0669\">«objective»</text></a><!--MD5=[94adabc162ce7e41b39f13be14fbaeb3]\n",
       "reverse link E11 to E12--><a href=\"psysml:df4b3059-af15-4a6e-9f16-4ce8d388f00c\" target=\"_top\" title=\"psysml:df4b3059-af15-4a6e-9f16-4ce8d388f00c\" xlink:actuate=\"onRequest\" xlink:href=\"psysml:df4b3059-af15-4a6e-9f16-4ce8d388f00c\" xlink:show=\"new\" xlink:title=\"psysml:df4b3059-af15-4a6e-9f16-4ce8d388f00c\" xlink:type=\"simple\"><path d=\"M216.13,100.05 C216.13,115.76 216.13,133.82 216.13,147.66 \" fill=\"none\" id=\"E11&lt;-E12\" style=\"stroke: #383838; stroke-width: 1.0;\"/><polygon fill=\"#383838\" points=\"216.13,87.01,212.13,93.01,216.13,99.01,220.13,93.01,216.13,87.01\" style=\"stroke: #383838; stroke-width: 1.0;\"/></a><!--MD5=[ae660f5ecd7ddb04a8913625960940af]\n",
       "link E12 to E7--><a href=\"psysml:b8e5c057-83f1-47ef-94c9-1676b303e623\" target=\"_top\" title=\"psysml:b8e5c057-83f1-47ef-94c9-1676b303e623\" xlink:actuate=\"onRequest\" xlink:href=\"psysml:b8e5c057-83f1-47ef-94c9-1676b303e623\" xlink:show=\"new\" xlink:title=\"psysml:b8e5c057-83f1-47ef-94c9-1676b303e623\" xlink:type=\"simple\"><path d=\"M204.57,194.19 C196.01,210.65 184.09,233.54 173.88,253.14 \" fill=\"none\" id=\"E12-&gt;E7\" style=\"stroke: #383838; stroke-width: 1.0;\"/><polygon fill=\"#FFFFFF\" points=\"164.61,270.95,167.1672,250.8637,179.5876,257.3239,164.61,270.95\" style=\"stroke: #383838; stroke-width: 1.0;\"/><ellipse cx=\"171.5718\" cy=\"246.7297\" fill=\"#383838\" rx=\"2\" ry=\"2\" style=\"stroke: #383838; stroke-width: 1.0;\"/><ellipse cx=\"180.4435\" cy=\"251.3441\" fill=\"#383838\" rx=\"2\" ry=\"2\" style=\"stroke: #383838; stroke-width: 1.0;\"/></a><!--MD5=[e2a9ac97dcd3257bb5342dae06547bad]\n",
       "link E12 to E13--><a href=\"psysml:7d3bd451-2ef5-4e75-9594-2e0dd7330291\" target=\"_top\" title=\"psysml:7d3bd451-2ef5-4e75-9594-2e0dd7330291\" xlink:actuate=\"onRequest\" xlink:href=\"psysml:7d3bd451-2ef5-4e75-9594-2e0dd7330291\" xlink:show=\"new\" xlink:title=\"psysml:7d3bd451-2ef5-4e75-9594-2e0dd7330291\" xlink:type=\"simple\"><path d=\"M227.87,194.19 C238.2,213.72 253.31,242.3 264.63,263.7 \" fill=\"none\" id=\"E12-&gt;E13\" style=\"stroke: #383838; stroke-width: 1.0;\"/><polygon fill=\"#383838\" points=\"268.47,270.95,267.3924,262.4742,262.085,265.2727,268.47,270.95\" style=\"stroke: #383838; stroke-width: 1.0;\"/><text fill=\"#000000\" font-family=\"sans-serif\" font-size=\"13\" lengthAdjust=\"spacingAndGlyphs\" textLength=\"73\" x=\"252.13\" y=\"237.0669\">«objective»</text><text fill=\"#000000\" font-family=\"sans-serif\" font-size=\"13\" lengthAdjust=\"spacingAndGlyphs\" textLength=\"8\" x=\"256.2614\" y=\"259.8328\">1</text></a><!--MD5=[3240f7f7b47b4c1394497d78c1b15751]\n",
       "@startuml\r\n",
       "top to bottom direction\r\n",
       "skinparam monochrome true\r\n",
       "skinparam classbackgroundcolor white\r\n",
       "skinparam shadowing false\r\n",
       "skinparam wrapWidth 300\r\n",
       "hide circle\r\n",
       "\r\n",
       "package \"AnalysisTest\" as E1  [[psysml:d47d9c93-f987-42aa-9c82-a11afa9e7a85 ]]  {\r\n",
       "comp def \"V\" as E2  <<(T,blue) part  def>> [[psysml:6e318fc7-f06d-4e4c-8e44-1e6d0f884455 ]] {\r\n",
       "- - references - -\r\n",
       "m\r\n",
       "}\r\n",
       "comp usage \"vv: V \" as E3  <<(T,blue) part>> [[psysml:27999d5c-daad-4ed7-92ff-020a622ea083 ]] {\r\n",
       "}\r\n",
       "comp def \"AnalysisObjective\" as E4  <<(T,blue) requirement  def>> [[psysml:31fce779-d9ab-452b-8111-7f3c68bff972 ]] {\r\n",
       "...\r\n",
       "- -\r\n",
       "}\r\n",
       "comp def \"AnalysisCase\" as E5 << analysis def>> [[psysml:0d42cad1-3808-4e7b-8fe6-f660e27fd2bd ]] {\r\n",
       "- - path step expressions - -\r\n",
       " { v.m }\r\n",
       "}\r\n",
       "comp usage \"obj: AnalysisObjective \" as E6  <<(T,blue) requirement>> [[psysml:b64c7347-1249-45eb-ab10-0bf79737e87a ]] {\r\n",
       "}\r\n",
       "comp def \"AnalysisPlan\" as E7 << analysis def>> [[psysml:058a72e0-0a98-4261-856d-73366cf47a25 ]] {\r\n",
       "}\r\n",
       "comp usage \"obj\" as E8  <<(T,blue) requirement>> [[psysml:185eeef5-681f-4700-9ef2-09baff1a4526 ]] {\r\n",
       "...\r\n",
       "- -\r\n",
       "}\r\n",
       "comp usage \"analysisCase: AnalysisCase \" as E9 << analysis>> [[psysml:ebac0614-db53-4f6a-a11b-2a64966401ed ]] {\r\n",
       "}\r\n",
       "comp usage \"obj\" as E10  <<(T,blue) requirement>> [[psysml:885560a7-695c-4aea-bf29-e47629fa314b ]] {\r\n",
       "}\r\n",
       "comp usage \"analysisContext\" as E11  <<(T,blue) part>> [[psysml:2f29b586-744b-44a6-b354-0cb36fac52ba ]] {\r\n",
       "}\r\n",
       "comp usage \"analysisPlan: AnalysisPlan \" as E12 << analysis>> [[psysml:cfe8b385-7bc2-406c-91e1-db9911ba5874 ]] {\r\n",
       "}\r\n",
       "comp usage \"obj\" as E13  <<(T,blue) requirement>> [[psysml:63325e1e-8a82-4691-b26b-3354962a7cad ]] {\r\n",
       "}\r\n",
       "}\r\n",
       "E3 - -:|> E2 [[psysml:4413170d-8387-4bcf-a661-a8e63eefb5dc ]] \r\n",
       "E5 ..> E2 [[psysml:0e59658b-8c20-4184-9a82-84e161b0c6e1 ]] : <<subject>>\r\n",
       "E5 - ->> E6 [[psysml:0aba1a21-1a42-4d2b-97f5-c2cba04c9345 ]] : <<objective>>\r\n",
       "E6 - -:|> E4 [[psysml:32f59106-5f4c-4aec-8305-226899de5705 ]] \r\n",
       "E7 ..> E2 [[psysml:1b5baffb-8729-41ae-bce6-1275f3b8062c ]] : <<subject>>\r\n",
       "E7 - ->> \"1\"E8 [[psysml:90e157ee-5294-4f98-a807-291d927bb48a ]] : <<objective>>\r\n",
       "E7 *- - E9 [[psysml:5b13e274-498b-4649-80bb-2ca5d783c8e3 ]] \r\n",
       "E9 - -:|> E5 [[psysml:2720ff20-3733-452c-91c5-acd446f65b05 ]] \r\n",
       "E9 - ->> E10 [[psysml:207a8d5d-7cc5-465d-969c-ac78b140bf51 ]] : <<objective>>\r\n",
       "E11 *- - E12 [[psysml:df4b3059-af15-4a6e-9f16-4ce8d388f00c ]] \r\n",
       "E12 - -:|> E7 [[psysml:b8e5c057-83f1-47ef-94c9-1676b303e623 ]] \r\n",
       "E12 - ->> \"1\"E13 [[psysml:7d3bd451-2ef5-4e75-9594-2e0dd7330291 ]] : <<objective>>\r\n",
       "@enduml\r\n",
       "\n",
       "PlantUML version 1.2020.13(Sat Jun 13 12:26:38 UTC 2020)\n",
       "(EPL source distribution)\n",
       "Java Runtime: OpenJDK Runtime Environment\n",
       "JVM: OpenJDK 64-Bit Server VM\n",
       "Default Encoding: UTF-8\n",
       "Language: en\n",
       "Country: null\n",
       "--></g></svg>"
      ]
     },
     "execution_count": 45,
     "metadata": {},
     "output_type": "execute_result"
    }
   ],
   "source": [
    "%viz --style=\"TB\" --view=\"Tree\" \"AnalysisTest\""
   ]
  },
  {
   "cell_type": "code",
   "execution_count": 46,
   "id": "92d69224",
   "metadata": {
    "execution": {
     "iopub.execute_input": "2021-11-13T12:57:21.302240Z",
     "iopub.status.busy": "2021-11-13T12:57:21.301874Z",
     "iopub.status.idle": "2021-11-13T12:57:21.306234Z",
     "shell.execute_reply": "2021-11-13T12:57:21.306390Z"
    }
   },
   "outputs": [
    {
     "data": {
      "image/svg+xml": [
       "<?xml version=\"1.0\" encoding=\"UTF-8\" standalone=\"no\"?><svg xmlns=\"http://www.w3.org/2000/svg\" xmlns:xlink=\"http://www.w3.org/1999/xlink\" contentScriptType=\"application/ecmascript\" contentStyleType=\"text/css\" height=\"12px\" preserveAspectRatio=\"none\" style=\"width:12px;height:12px;\" version=\"1.1\" viewBox=\"0 0 12 12\" width=\"12px\" zoomAndPan=\"magnify\"><defs/><g><!--MD5=[f4ee21bc66e489b5061b7c3e9601fdef]\n",
       "@startuml\r\n",
       "top to bottom direction\r\n",
       "skinparam monochrome true\r\n",
       "skinparam classbackgroundcolor white\r\n",
       "skinparam shadowing false\r\n",
       "skinparam wrapWidth 300\r\n",
       "hide circle\r\n",
       "\r\n",
       "@enduml\r\n",
       "\n",
       "PlantUML version 1.2020.13(Sat Jun 13 12:26:38 UTC 2020)\n",
       "(EPL source distribution)\n",
       "Java Runtime: OpenJDK Runtime Environment\n",
       "JVM: OpenJDK 64-Bit Server VM\n",
       "Default Encoding: UTF-8\n",
       "Language: en\n",
       "Country: null\n",
       "--></g></svg>"
      ]
     },
     "execution_count": 46,
     "metadata": {},
     "output_type": "execute_result"
    }
   ],
   "source": [
    "%viz --style=\"TB\" --view=\"State\" \"AnalysisTest\""
   ]
  },
  {
   "cell_type": "code",
   "execution_count": 47,
   "id": "b179188b",
   "metadata": {
    "execution": {
     "iopub.execute_input": "2021-11-13T12:57:21.356269Z",
     "iopub.status.busy": "2021-11-13T12:57:21.356016Z",
     "iopub.status.idle": "2021-11-13T12:57:21.410443Z",
     "shell.execute_reply": "2021-11-13T12:57:21.407894Z"
    }
   },
   "outputs": [
    {
     "data": {
      "image/svg+xml": [
       "<?xml version=\"1.0\" encoding=\"UTF-8\" standalone=\"no\"?><svg xmlns=\"http://www.w3.org/2000/svg\" xmlns:xlink=\"http://www.w3.org/1999/xlink\" contentScriptType=\"application/ecmascript\" contentStyleType=\"text/css\" height=\"446px\" preserveAspectRatio=\"none\" style=\"width:1132px;height:446px;\" version=\"1.1\" viewBox=\"0 0 1132 446\" width=\"1132px\" zoomAndPan=\"magnify\"><defs/><g><!--MD5=[fbc87193dbaf4d95561dea2c320d4a47]\n",
       "cluster E1--><a href=\"psysml:d47d9c93-f987-42aa-9c82-a11afa9e7a85\" target=\"_top\" title=\"psysml:d47d9c93-f987-42aa-9c82-a11afa9e7a85\" xlink:actuate=\"onRequest\" xlink:href=\"psysml:d47d9c93-f987-42aa-9c82-a11afa9e7a85\" xlink:show=\"new\" xlink:title=\"psysml:d47d9c93-f987-42aa-9c82-a11afa9e7a85\" xlink:type=\"simple\"><polygon fill=\"#FFFFFF\" points=\"16,6,108,6,115,28.2969,1110,28.2969,1110,434.86,16,434.86,16,6\" style=\"stroke: #000000; stroke-width: 1.5;\"/><line style=\"stroke: #000000; stroke-width: 1.5;\" x1=\"16\" x2=\"115\" y1=\"28.2969\" y2=\"28.2969\"/><text fill=\"#000000\" font-family=\"sans-serif\" font-size=\"14\" font-weight=\"bold\" lengthAdjust=\"spacingAndGlyphs\" textLength=\"86\" x=\"20\" y=\"20.9951\">AnalysisTest</text></a><!--MD5=[de5ec2e2e8f62f467e546659f5068c88]\n",
       "cluster E5--><a href=\"psysml:0d42cad1-3808-4e7b-8fe6-f660e27fd2bd\" target=\"_top\" title=\"psysml:0d42cad1-3808-4e7b-8fe6-f660e27fd2bd\" xlink:actuate=\"onRequest\" xlink:href=\"psysml:0d42cad1-3808-4e7b-8fe6-f660e27fd2bd\" xlink:show=\"new\" xlink:title=\"psysml:0d42cad1-3808-4e7b-8fe6-f660e27fd2bd\" xlink:type=\"simple\"><rect fill=\"#FFFFFF\" height=\"228.86\" id=\"E5\" style=\"stroke: #383838; stroke-width: 1.5;\" width=\"146\" x=\"948\" y=\"107\"/><rect fill=\"#F8F8F8\" height=\"37.9375\" style=\"stroke: #383838; stroke-width: 1.5;\" width=\"146\" x=\"948\" y=\"107\"/><text fill=\"#000000\" font-family=\"sans-serif\" font-size=\"12\" font-style=\"italic\" lengthAdjust=\"spacingAndGlyphs\" textLength=\"88\" x=\"977\" y=\"123.1387\">«analysis def»</text><text fill=\"#000000\" font-family=\"sans-serif\" font-size=\"12\" lengthAdjust=\"spacingAndGlyphs\" textLength=\"81\" x=\"980.5\" y=\"137.1074\">AnalysisCase</text></a><!--MD5=[55dfccfc6c49c2d10cd1bd2211a6c90c]\n",
       "cluster E8--><a href=\"psysml:058a72e0-0a98-4261-856d-73366cf47a25\" target=\"_top\" title=\"psysml:058a72e0-0a98-4261-856d-73366cf47a25\" xlink:actuate=\"onRequest\" xlink:href=\"psysml:058a72e0-0a98-4261-856d-73366cf47a25\" xlink:show=\"new\" xlink:title=\"psysml:058a72e0-0a98-4261-856d-73366cf47a25\" xlink:type=\"simple\"><rect fill=\"#FFFFFF\" height=\"303.86\" id=\"E8\" style=\"stroke: #383838; stroke-width: 1.5;\" width=\"259\" x=\"659\" y=\"107\"/><rect fill=\"#F8F8F8\" height=\"37.9375\" style=\"stroke: #383838; stroke-width: 1.5;\" width=\"259\" x=\"659\" y=\"107\"/><text fill=\"#000000\" font-family=\"sans-serif\" font-size=\"12\" font-style=\"italic\" lengthAdjust=\"spacingAndGlyphs\" textLength=\"88\" x=\"744.5\" y=\"123.1387\">«analysis def»</text><text fill=\"#000000\" font-family=\"sans-serif\" font-size=\"12\" lengthAdjust=\"spacingAndGlyphs\" textLength=\"77\" x=\"750\" y=\"137.1074\">AnalysisPlan</text></a><!--MD5=[a84b4591f868c1fa4a211716a82f2f0d]\n",
       "cluster E10--><a href=\"psysml:ebac0614-db53-4f6a-a11b-2a64966401ed\" target=\"_top\" title=\"psysml:ebac0614-db53-4f6a-a11b-2a64966401ed\" xlink:actuate=\"onRequest\" xlink:href=\"psysml:ebac0614-db53-4f6a-a11b-2a64966401ed\" xlink:show=\"new\" xlink:title=\"psysml:ebac0614-db53-4f6a-a11b-2a64966401ed\" xlink:type=\"simple\"><rect fill=\"#FFFFFF\" height=\"165.86\" id=\"E10\" rx=\"10\" ry=\"10\" style=\"stroke: #383838; stroke-width: 1.5;\" width=\"138\" x=\"742\" y=\"207\"/><rect fill=\"#F8F8F8\" height=\"37.9375\" rx=\"10\" ry=\"10\" style=\"stroke: #F8F8F8; stroke-width: 1.5;\" width=\"138\" x=\"742\" y=\"207\"/><rect fill=\"#F8F8F8\" height=\"10\" style=\"stroke: #F8F8F8; stroke-width: 1.5;\" width=\"138\" x=\"742\" y=\"234.9375\"/><rect fill=\"none\" height=\"165.86\" id=\"E10\" rx=\"10\" ry=\"10\" style=\"stroke: #383838; stroke-width: 1.5;\" width=\"138\" x=\"742\" y=\"207\"/><text fill=\"#000000\" font-family=\"sans-serif\" font-size=\"12\" font-style=\"italic\" lengthAdjust=\"spacingAndGlyphs\" textLength=\"64\" x=\"779\" y=\"223.1387\">«analysis»</text><text fill=\"#000000\" font-family=\"sans-serif\" font-size=\"12\" lengthAdjust=\"spacingAndGlyphs\" textLength=\"81\" x=\"770.5\" y=\"237.1074\">analysisCase</text><line style=\"stroke: #383838; stroke-width: 1.0;\" x1=\"742\" x2=\"880\" y1=\"244.9375\" y2=\"244.9375\"/></a><!--MD5=[bcf29f0808fc96f19b1afbee8cfc1f11]\n",
       "cluster E14--><a href=\"psysml:2f29b586-744b-44a6-b354-0cb36fac52ba\" target=\"_top\" title=\"psysml:2f29b586-744b-44a6-b354-0cb36fac52ba\" xlink:actuate=\"onRequest\" xlink:href=\"psysml:2f29b586-744b-44a6-b354-0cb36fac52ba\" xlink:show=\"new\" xlink:title=\"psysml:2f29b586-744b-44a6-b354-0cb36fac52ba\" xlink:type=\"simple\"><rect fill=\"#FFFFFF\" height=\"197\" id=\"E14\" rx=\"10\" ry=\"10\" style=\"stroke: #383838; stroke-width: 1.5;\" width=\"204\" x=\"368\" y=\"49\"/><rect fill=\"#F8F8F8\" height=\"23.9688\" rx=\"10\" ry=\"10\" style=\"stroke: #F8F8F8; stroke-width: 1.5;\" width=\"204\" x=\"368\" y=\"49\"/><rect fill=\"#F8F8F8\" height=\"10\" style=\"stroke: #F8F8F8; stroke-width: 1.5;\" width=\"204\" x=\"368\" y=\"62.9688\"/><rect fill=\"none\" height=\"197\" id=\"E14\" rx=\"10\" ry=\"10\" style=\"stroke: #383838; stroke-width: 1.5;\" width=\"204\" x=\"368\" y=\"49\"/><text fill=\"#000000\" font-family=\"sans-serif\" font-size=\"12\" lengthAdjust=\"spacingAndGlyphs\" textLength=\"98\" x=\"421\" y=\"65.1387\">analysisContext</text><line style=\"stroke: #383838; stroke-width: 1.0;\" x1=\"368\" x2=\"572\" y1=\"72.9688\" y2=\"72.9688\"/></a><!--MD5=[ebbe1d658d1005bcc118a6aa81145e00]\n",
       "class E4--><a href=\"psysml:31fce779-d9ab-452b-8111-7f3c68bff972\" target=\"_top\" title=\"psysml:31fce779-d9ab-452b-8111-7f3c68bff972\" xlink:actuate=\"onRequest\" xlink:href=\"psysml:31fce779-d9ab-452b-8111-7f3c68bff972\" xlink:show=\"new\" xlink:title=\"psysml:31fce779-d9ab-452b-8111-7f3c68bff972\" xlink:type=\"simple\"><rect fill=\"#FFFFFF\" height=\"66.7422\" id=\"E4\" style=\"stroke: #383838; stroke-width: 1.5;\" width=\"121\" x=\"227.5\" y=\"73.5\"/><text fill=\"#000000\" font-family=\"sans-serif\" font-size=\"12\" font-style=\"italic\" lengthAdjust=\"spacingAndGlyphs\" textLength=\"119\" x=\"228.5\" y=\"89.6387\">«requirement  def»</text><text fill=\"#000000\" font-family=\"sans-serif\" font-size=\"12\" lengthAdjust=\"spacingAndGlyphs\" textLength=\"107\" x=\"234.5\" y=\"103.6074\">AnalysisObjective</text><line style=\"stroke: #383838; stroke-width: 1.5;\" x1=\"228.5\" x2=\"347.5\" y1=\"111.4375\" y2=\"111.4375\"/><text fill=\"#000000\" font-family=\"sans-serif\" font-size=\"11\" lengthAdjust=\"spacingAndGlyphs\" textLength=\"12\" x=\"233.5\" y=\"125.6479\">...</text><line style=\"stroke: #383838; stroke-width: 1.0;\" x1=\"228.5\" x2=\"347.5\" y1=\"132.2422\" y2=\"132.2422\"/></a><g id=\"E1.E2\"><a href=\"psysml:6e318fc7-f06d-4e4c-8e44-1e6d0f884455\" target=\"_top\" title=\"psysml:6e318fc7-f06d-4e4c-8e44-1e6d0f884455\" xlink:actuate=\"onRequest\" xlink:href=\"psysml:6e318fc7-f06d-4e4c-8e44-1e6d0f884455\" xlink:show=\"new\" xlink:title=\"psysml:6e318fc7-f06d-4e4c-8e44-1e6d0f884455\" xlink:type=\"simple\"><rect fill=\"#FFFFFF\" height=\"42.9375\" id=\"E2\" style=\"stroke: #383838; stroke-width: 1.5;\" width=\"75\" x=\"117.5\" y=\"85.5\"/><rect fill=\"#F8F8F8\" height=\"37.9375\" style=\"stroke: #383838; stroke-width: 1.5;\" width=\"75\" x=\"117.5\" y=\"85.5\"/><text fill=\"#000000\" font-family=\"sans-serif\" font-size=\"12\" font-style=\"italic\" lengthAdjust=\"spacingAndGlyphs\" textLength=\"68\" x=\"121\" y=\"101.6387\">«part  def»</text><text fill=\"#000000\" font-family=\"sans-serif\" font-size=\"12\" lengthAdjust=\"spacingAndGlyphs\" textLength=\"8\" x=\"151\" y=\"115.6074\">V</text></a></g><g id=\"E1.E3\"><a href=\"psysml:27999d5c-daad-4ed7-92ff-020a622ea083\" target=\"_top\" title=\"psysml:27999d5c-daad-4ed7-92ff-020a622ea083\" xlink:actuate=\"onRequest\" xlink:href=\"psysml:27999d5c-daad-4ed7-92ff-020a622ea083\" xlink:show=\"new\" xlink:title=\"psysml:27999d5c-daad-4ed7-92ff-020a622ea083\" xlink:type=\"simple\"><rect fill=\"#FFFFFF\" height=\"40\" id=\"E3\" rx=\"10\" ry=\"10\" style=\"stroke: #383838; stroke-width: 1.5;\" width=\"50\" x=\"32\" y=\"87\"/><rect fill=\"#F8F8F8\" height=\"23.9688\" rx=\"10\" ry=\"10\" style=\"stroke: #F8F8F8; stroke-width: 1.5;\" width=\"50\" x=\"32\" y=\"87\"/><rect fill=\"#F8F8F8\" height=\"10\" style=\"stroke: #F8F8F8; stroke-width: 1.5;\" width=\"50\" x=\"32\" y=\"100.9688\"/><rect fill=\"none\" height=\"40\" id=\"E3\" rx=\"10\" ry=\"10\" style=\"stroke: #383838; stroke-width: 1.5;\" width=\"50\" x=\"32\" y=\"87\"/><text fill=\"#000000\" font-family=\"sans-serif\" font-size=\"12\" lengthAdjust=\"spacingAndGlyphs\" textLength=\"28\" x=\"43\" y=\"103.1387\">vv: V</text></a></g><text fill=\"#000000\" font-family=\"sans-serif\" font-size=\"14\" lengthAdjust=\"spacingAndGlyphs\" textLength=\"7\" x=\"1017.5\" y=\"85.6982\">v</text><rect fill=\"#383838\" height=\"12\" style=\"stroke: #F8F8F8; stroke-width: 1.5;\" width=\"12\" x=\"1015\" y=\"101\"/><text fill=\"#000000\" font-family=\"sans-serif\" font-size=\"14\" lengthAdjust=\"spacingAndGlyphs\" textLength=\"39\" x=\"1001.5\" y=\"354.8551\">result</text><rect fill=\"#383838\" height=\"12\" style=\"stroke: #F8F8F8; stroke-width: 1.5;\" width=\"12\" x=\"1015\" y=\"329.86\"/><text fill=\"#000000\" font-family=\"sans-serif\" font-size=\"14\" lengthAdjust=\"spacingAndGlyphs\" textLength=\"7\" x=\"673.5\" y=\"85.6982\">v</text><rect fill=\"#383838\" height=\"12\" style=\"stroke: #F8F8F8; stroke-width: 1.5;\" width=\"12\" x=\"671\" y=\"101\"/><text fill=\"#000000\" font-family=\"sans-serif\" font-size=\"14\" lengthAdjust=\"spacingAndGlyphs\" textLength=\"39\" x=\"898.5\" y=\"354.8551\">result</text><rect fill=\"#383838\" height=\"12\" style=\"stroke: #F8F8F8; stroke-width: 1.5;\" width=\"12\" x=\"912\" y=\"329.86\"/><text fill=\"#000000\" font-family=\"sans-serif\" font-size=\"14\" lengthAdjust=\"spacingAndGlyphs\" textLength=\"37\" x=\"792.5\" y=\"391.8551\">mass</text><rect fill=\"#383838\" height=\"12\" style=\"stroke: #F8F8F8; stroke-width: 1.5;\" width=\"12\" x=\"805\" y=\"366.86\"/><text fill=\"#000000\" font-family=\"sans-serif\" font-size=\"14\" lengthAdjust=\"spacingAndGlyphs\" textLength=\"7\" x=\"807.5\" y=\"185.6982\">v</text><rect fill=\"#383838\" height=\"12\" style=\"stroke: #F8F8F8; stroke-width: 1.5;\" width=\"12\" x=\"805\" y=\"201\"/><!--MD5=[0c48fb7552dae8cbbef69381101a84c8]\n",
       "class E15--><a href=\"psysml:cfe8b385-7bc2-406c-91e1-db9911ba5874\" target=\"_top\" title=\"psysml:cfe8b385-7bc2-406c-91e1-db9911ba5874\" xlink:actuate=\"onRequest\" xlink:href=\"psysml:cfe8b385-7bc2-406c-91e1-db9911ba5874\" xlink:show=\"new\" xlink:title=\"psysml:cfe8b385-7bc2-406c-91e1-db9911ba5874\" xlink:type=\"simple\"><rect fill=\"#FFFFFF\" height=\"45.9375\" id=\"E15\" rx=\"10\" ry=\"10\" style=\"stroke: #383838; stroke-width: 1.5;\" width=\"172\" x=\"384\" y=\"84\"/><text fill=\"#000000\" font-family=\"sans-serif\" font-size=\"12\" font-style=\"italic\" lengthAdjust=\"spacingAndGlyphs\" textLength=\"64\" x=\"438\" y=\"100.1387\">«analysis»</text><text fill=\"#000000\" font-family=\"sans-serif\" font-size=\"12\" lengthAdjust=\"spacingAndGlyphs\" textLength=\"162\" x=\"387\" y=\"114.1074\">analysisPlan: AnalysisPlan</text><line style=\"stroke: #383838; stroke-width: 1.5;\" x1=\"385\" x2=\"555\" y1=\"121.9375\" y2=\"121.9375\"/></a><!--MD5=[35f0587eaee8d5bb9a02e25b63afc23b]\n",
       "class E16--><a href=\"psysml:63325e1e-8a82-4691-b26b-3354962a7cad\" target=\"_top\" title=\"psysml:63325e1e-8a82-4691-b26b-3354962a7cad\" xlink:actuate=\"onRequest\" xlink:href=\"psysml:63325e1e-8a82-4691-b26b-3354962a7cad\" xlink:show=\"new\" xlink:title=\"psysml:63325e1e-8a82-4691-b26b-3354962a7cad\" xlink:type=\"simple\"><rect fill=\"#FFFFFF\" height=\"45.9375\" id=\"E16\" rx=\"10\" ry=\"10\" style=\"stroke: #383838; stroke-width: 1.5;\" width=\"93\" x=\"423.5\" y=\"184\"/><text fill=\"#000000\" font-family=\"sans-serif\" font-size=\"12\" font-style=\"italic\" lengthAdjust=\"spacingAndGlyphs\" textLength=\"91\" x=\"424.5\" y=\"200.1387\">«requirement»</text><text fill=\"#000000\" font-family=\"sans-serif\" font-size=\"12\" lengthAdjust=\"spacingAndGlyphs\" textLength=\"19\" x=\"460.5\" y=\"214.1074\">obj</text><line style=\"stroke: #383838; stroke-width: 1.5;\" x1=\"424.5\" x2=\"515.5\" y1=\"221.9375\" y2=\"221.9375\"/></a><!--MD5=[1b01d5b954197aaf3899ca0bde35faf5]\n",
       "link E15 to E8--><a href=\"psysml:b8e5c057-83f1-47ef-94c9-1676b303e623\" target=\"_top\" title=\"psysml:b8e5c057-83f1-47ef-94c9-1676b303e623\" xlink:actuate=\"onRequest\" xlink:href=\"psysml:b8e5c057-83f1-47ef-94c9-1676b303e623\" xlink:show=\"new\" xlink:title=\"psysml:b8e5c057-83f1-47ef-94c9-1676b303e623\" xlink:type=\"simple\"><path d=\"M516.71,130.12 C554.75,148.12 607.61,173.15 642.06,189.46 \" fill=\"none\" id=\"E15-&gt;E8\" style=\"stroke: #383838; stroke-width: 1.0;\"/><polygon fill=\"#FFFFFF\" points=\"642.06,189.46,621.892,187.6566,627.8827,175.003,642.06,189.46\" style=\"stroke: #383838; stroke-width: 1.0;\"/><ellipse cx=\"617.596\" cy=\"183.4098\" fill=\"#383838\" rx=\"2\" ry=\"2\" style=\"stroke: #383838; stroke-width: 1.0;\"/><ellipse cx=\"621.8751\" cy=\"174.3716\" fill=\"#383838\" rx=\"2\" ry=\"2\" style=\"stroke: #383838; stroke-width: 1.0;\"/></a><!--MD5=[f8b155c46b092be73bb522b0a8fc72a2]\n",
       "link E15 to E16--><a href=\"psysml:7d3bd451-2ef5-4e75-9594-2e0dd7330291\" target=\"_top\" title=\"psysml:7d3bd451-2ef5-4e75-9594-2e0dd7330291\" xlink:actuate=\"onRequest\" xlink:href=\"psysml:7d3bd451-2ef5-4e75-9594-2e0dd7330291\" xlink:show=\"new\" xlink:title=\"psysml:7d3bd451-2ef5-4e75-9594-2e0dd7330291\" xlink:type=\"simple\"><path d=\"M470,130.24 C470,143.64 470,160.91 470,175.57 \" fill=\"none\" id=\"E15-&gt;E16\" style=\"stroke: #383838; stroke-width: 1.0;\"/><polygon fill=\"#383838\" points=\"470,183.85,473,175.85,467,175.85,470,183.85\" style=\"stroke: #383838; stroke-width: 1.0;\"/><text fill=\"#000000\" font-family=\"sans-serif\" font-size=\"13\" lengthAdjust=\"spacingAndGlyphs\" textLength=\"73\" x=\"471\" y=\"161.5669\">«objective»</text><text fill=\"#000000\" font-family=\"sans-serif\" font-size=\"13\" lengthAdjust=\"spacingAndGlyphs\" textLength=\"8\" x=\"460.975\" y=\"173.0879\">1</text></a><!--MD5=[e67f5ade951066320cc77f48ad3a145a]\n",
       "@startuml\r\n",
       "skinparam ranksep 10\r\n",
       "skinparam rectangle {\r\n",
       " backgroundColor<<block>> LightGreen\r\n",
       "}\r\n",
       "top to bottom direction\r\n",
       "skinparam monochrome true\r\n",
       "skinparam classbackgroundcolor white\r\n",
       "skinparam shadowing false\r\n",
       "skinparam wrapWidth 300\r\n",
       "hide circle\r\n",
       "\r\n",
       "package \"AnalysisTest\" as E1  [[psysml:d47d9c93-f987-42aa-9c82-a11afa9e7a85 ]]  {\r\n",
       "rec def \"V\" as E2  <<(T,blue) part  def>> [[psysml:6e318fc7-f06d-4e4c-8e44-1e6d0f884455 ]] {\r\n",
       "}\r\n",
       "rec usage \"vv: V\" as E3  [[psysml:27999d5c-daad-4ed7-92ff-020a622ea083 ]] {\r\n",
       "}\r\n",
       "comp def \"AnalysisObjective\" as E4  <<(T,blue) requirement  def>> [[psysml:31fce779-d9ab-452b-8111-7f3c68bff972 ]] {\r\n",
       "...\r\n",
       "- -\r\n",
       "}\r\n",
       "rec def \"AnalysisCase\" as E5 << analysis def>> [[psysml:0d42cad1-3808-4e7b-8fe6-f660e27fd2bd ]] {\r\n",
       "portin \"v\" as E6  [[psysml:f7aad551-6165-4689-8df3-b128f6f54571 ]] \r\n",
       "portout \"result\" as E7  [[psysml:d8a9a5d1-c1b2-404a-b54f-35037ecf4c2d ]] \r\n",
       "}\r\n",
       "\r\n",
       "rec def \"AnalysisPlan\" as E8 << analysis def>> [[psysml:058a72e0-0a98-4261-856d-73366cf47a25 ]] {\r\n",
       "portin \"v\" as E9  [[psysml:40d43c87-89d5-4dcb-a988-f011f6f29ac5 ]] \r\n",
       "rec usage \"analysisCase\" as E10 << analysis>> [[psysml:ebac0614-db53-4f6a-a11b-2a64966401ed ]] {\r\n",
       "portout \"mass\" as E11  [[psysml:94298e01-1500-44a7-8244-0cc3e5620ae6 ]] \r\n",
       "portin \"v\" as E12  [[psysml:fabccdcf-1c94-4d5c-8a0b-5626b651aa80 ]] \r\n",
       "}\r\n",
       "\r\n",
       "portout \"result\" as E13  [[psysml:633f1383-e65f-4e22-9e6d-6ffcdde4bc38 ]] \r\n",
       "}\r\n",
       "\r\n",
       "rec usage \"analysisContext\" as E14  [[psysml:2f29b586-744b-44a6-b354-0cb36fac52ba ]] {\r\n",
       "comp usage \"analysisPlan: AnalysisPlan \" as E15 << analysis>> [[psysml:cfe8b385-7bc2-406c-91e1-db9911ba5874 ]] {\r\n",
       "}\r\n",
       "comp usage \"obj\" as E16  <<(T,blue) requirement>> [[psysml:63325e1e-8a82-4691-b26b-3354962a7cad ]] {\r\n",
       "}\r\n",
       "}\r\n",
       "}\r\n",
       "E15 - -:|> E8 [[psysml:b8e5c057-83f1-47ef-94c9-1676b303e623 ]] \r\n",
       "E15 - ->> \"1\"E16 [[psysml:7d3bd451-2ef5-4e75-9594-2e0dd7330291 ]] : <<objective>>\r\n",
       "@enduml\r\n",
       "\n",
       "PlantUML version 1.2020.13(Sat Jun 13 12:26:38 UTC 2020)\n",
       "(EPL source distribution)\n",
       "Java Runtime: OpenJDK Runtime Environment\n",
       "JVM: OpenJDK 64-Bit Server VM\n",
       "Default Encoding: UTF-8\n",
       "Language: en\n",
       "Country: null\n",
       "--></g></svg>"
      ]
     },
     "execution_count": 47,
     "metadata": {},
     "output_type": "execute_result"
    }
   ],
   "source": [
    "%viz --style=\"TB\" --view=\"Interconnection\" \"AnalysisTest\""
   ]
  },
  {
   "cell_type": "code",
   "execution_count": 48,
   "id": "7c697040",
   "metadata": {
    "execution": {
     "iopub.execute_input": "2021-11-13T12:57:21.458622Z",
     "iopub.status.busy": "2021-11-13T12:57:21.458200Z",
     "iopub.status.idle": "2021-11-13T12:57:21.495285Z",
     "shell.execute_reply": "2021-11-13T12:57:21.495619Z"
    }
   },
   "outputs": [
    {
     "data": {
      "image/svg+xml": [
       "<?xml version=\"1.0\" encoding=\"UTF-8\" standalone=\"no\"?><svg xmlns=\"http://www.w3.org/2000/svg\" xmlns:xlink=\"http://www.w3.org/1999/xlink\" contentScriptType=\"application/ecmascript\" contentStyleType=\"text/css\" height=\"233px\" preserveAspectRatio=\"none\" style=\"width:649px;height:233px;\" version=\"1.1\" viewBox=\"0 0 649 233\" width=\"649px\" zoomAndPan=\"magnify\"><defs/><g><!--MD5=[fbc87193dbaf4d95561dea2c320d4a47]\n",
       "cluster E1--><a href=\"psysml:0d42cad1-3808-4e7b-8fe6-f660e27fd2bd\" target=\"_top\" title=\"psysml:0d42cad1-3808-4e7b-8fe6-f660e27fd2bd\" xlink:actuate=\"onRequest\" xlink:href=\"psysml:0d42cad1-3808-4e7b-8fe6-f660e27fd2bd\" xlink:show=\"new\" xlink:title=\"psysml:0d42cad1-3808-4e7b-8fe6-f660e27fd2bd\" xlink:type=\"simple\"><rect fill=\"#FFFFFF\" height=\"122\" id=\"E1\" style=\"stroke: #383838; stroke-width: 1.5;\" width=\"146\" x=\"7\" y=\"42.0986\"/><rect fill=\"#F8F8F8\" height=\"37.9375\" style=\"stroke: #383838; stroke-width: 1.5;\" width=\"146\" x=\"7\" y=\"42.0986\"/><text fill=\"#000000\" font-family=\"sans-serif\" font-size=\"12\" font-style=\"italic\" lengthAdjust=\"spacingAndGlyphs\" textLength=\"88\" x=\"36\" y=\"58.2373\">«analysis def»</text><text fill=\"#000000\" font-family=\"sans-serif\" font-size=\"12\" lengthAdjust=\"spacingAndGlyphs\" textLength=\"81\" x=\"39.5\" y=\"72.2061\">AnalysisCase</text></a><!--MD5=[f6df4d0ebaf0b5dfb2ced0ae5af7c670]\n",
       "cluster E4--><a href=\"psysml:058a72e0-0a98-4261-856d-73366cf47a25\" target=\"_top\" title=\"psysml:058a72e0-0a98-4261-856d-73366cf47a25\" xlink:actuate=\"onRequest\" xlink:href=\"psysml:058a72e0-0a98-4261-856d-73366cf47a25\" xlink:show=\"new\" xlink:title=\"psysml:058a72e0-0a98-4261-856d-73366cf47a25\" xlink:type=\"simple\"><rect fill=\"#FFFFFF\" height=\"180\" id=\"E4\" style=\"stroke: #383838; stroke-width: 1.5;\" width=\"262\" x=\"216\" y=\"42.0986\"/><rect fill=\"#F8F8F8\" height=\"37.9375\" style=\"stroke: #383838; stroke-width: 1.5;\" width=\"262\" x=\"216\" y=\"42.0986\"/><text fill=\"#000000\" font-family=\"sans-serif\" font-size=\"12\" font-style=\"italic\" lengthAdjust=\"spacingAndGlyphs\" textLength=\"88\" x=\"303\" y=\"58.2373\">«analysis def»</text><text fill=\"#000000\" font-family=\"sans-serif\" font-size=\"12\" lengthAdjust=\"spacingAndGlyphs\" textLength=\"77\" x=\"308.5\" y=\"72.2061\">AnalysisPlan</text></a><!--MD5=[14e3b0961a2654348d326746436168a1]\n",
       "cluster E6--><a href=\"psysml:ebac0614-db53-4f6a-a11b-2a64966401ed\" target=\"_top\" title=\"psysml:ebac0614-db53-4f6a-a11b-2a64966401ed\" xlink:actuate=\"onRequest\" xlink:href=\"psysml:ebac0614-db53-4f6a-a11b-2a64966401ed\" xlink:show=\"new\" xlink:title=\"psysml:ebac0614-db53-4f6a-a11b-2a64966401ed\" xlink:type=\"simple\"><rect fill=\"#FFFFFF\" height=\"110.5\" id=\"E6\" rx=\"10\" ry=\"10\" style=\"stroke: #383838; stroke-width: 1.5;\" width=\"138\" x=\"299\" y=\"81.5986\"/><rect fill=\"#F8F8F8\" height=\"37.9375\" rx=\"10\" ry=\"10\" style=\"stroke: #F8F8F8; stroke-width: 1.5;\" width=\"138\" x=\"299\" y=\"81.5986\"/><rect fill=\"#F8F8F8\" height=\"10\" style=\"stroke: #F8F8F8; stroke-width: 1.5;\" width=\"138\" x=\"299\" y=\"109.5361\"/><rect fill=\"none\" height=\"110.5\" id=\"E6\" rx=\"10\" ry=\"10\" style=\"stroke: #383838; stroke-width: 1.5;\" width=\"138\" x=\"299\" y=\"81.5986\"/><text fill=\"#000000\" font-family=\"sans-serif\" font-size=\"12\" font-style=\"italic\" lengthAdjust=\"spacingAndGlyphs\" textLength=\"64\" x=\"336\" y=\"97.7373\">«analysis»</text><text fill=\"#000000\" font-family=\"sans-serif\" font-size=\"12\" lengthAdjust=\"spacingAndGlyphs\" textLength=\"81\" x=\"327.5\" y=\"111.7061\">analysisCase</text><line style=\"stroke: #383838; stroke-width: 1.0;\" x1=\"299\" x2=\"437\" y1=\"119.5361\" y2=\"119.5361\"/></a><!--MD5=[a84b4591f868c1fa4a211716a82f2f0d]\n",
       "cluster E10--><a href=\"psysml:cfe8b385-7bc2-406c-91e1-db9911ba5874\" target=\"_top\" title=\"psysml:cfe8b385-7bc2-406c-91e1-db9911ba5874\" xlink:actuate=\"onRequest\" xlink:href=\"psysml:cfe8b385-7bc2-406c-91e1-db9911ba5874\" xlink:show=\"new\" xlink:title=\"psysml:cfe8b385-7bc2-406c-91e1-db9911ba5874\" xlink:type=\"simple\"><rect fill=\"#FFFFFF\" height=\"122\" id=\"E10\" rx=\"10\" ry=\"10\" style=\"stroke: #383838; stroke-width: 1.5;\" width=\"130\" x=\"507\" y=\"42.0986\"/><rect fill=\"#F8F8F8\" height=\"37.9375\" rx=\"10\" ry=\"10\" style=\"stroke: #F8F8F8; stroke-width: 1.5;\" width=\"130\" x=\"507\" y=\"42.0986\"/><rect fill=\"#F8F8F8\" height=\"10\" style=\"stroke: #F8F8F8; stroke-width: 1.5;\" width=\"130\" x=\"507\" y=\"70.0361\"/><rect fill=\"none\" height=\"122\" id=\"E10\" rx=\"10\" ry=\"10\" style=\"stroke: #383838; stroke-width: 1.5;\" width=\"130\" x=\"507\" y=\"42.0986\"/><text fill=\"#000000\" font-family=\"sans-serif\" font-size=\"12\" font-style=\"italic\" lengthAdjust=\"spacingAndGlyphs\" textLength=\"64\" x=\"540\" y=\"58.2373\">«analysis»</text><text fill=\"#000000\" font-family=\"sans-serif\" font-size=\"12\" lengthAdjust=\"spacingAndGlyphs\" textLength=\"77\" x=\"533.5\" y=\"72.2061\">analysisPlan</text><line style=\"stroke: #383838; stroke-width: 1.0;\" x1=\"507\" x2=\"637\" y1=\"80.0361\" y2=\"80.0361\"/></a><text fill=\"#000000\" font-family=\"sans-serif\" font-size=\"14\" lengthAdjust=\"spacingAndGlyphs\" textLength=\"7\" x=\"76.5\" y=\"20.7969\">v</text><rect fill=\"#383838\" height=\"12\" style=\"stroke: #F8F8F8; stroke-width: 1.5;\" width=\"12\" x=\"74\" y=\"36.0986\"/><text fill=\"#000000\" font-family=\"sans-serif\" font-size=\"14\" lengthAdjust=\"spacingAndGlyphs\" textLength=\"39\" x=\"60.5\" y=\"183.0938\">result</text><rect fill=\"#383838\" height=\"12\" style=\"stroke: #F8F8F8; stroke-width: 1.5;\" width=\"12\" x=\"74\" y=\"158.0986\"/><text fill=\"#000000\" font-family=\"sans-serif\" font-size=\"14\" lengthAdjust=\"spacingAndGlyphs\" textLength=\"7\" x=\"230.5\" y=\"20.7969\">v</text><rect fill=\"#383838\" height=\"12\" style=\"stroke: #F8F8F8; stroke-width: 1.5;\" width=\"12\" x=\"228\" y=\"36.0986\"/><text fill=\"#000000\" font-family=\"sans-serif\" font-size=\"14\" lengthAdjust=\"spacingAndGlyphs\" textLength=\"39\" x=\"458.5\" y=\"183.0938\">result</text><rect fill=\"#383838\" height=\"12\" style=\"stroke: #F8F8F8; stroke-width: 1.5;\" width=\"12\" x=\"472\" y=\"158.0986\"/><text fill=\"#000000\" font-family=\"sans-serif\" font-size=\"14\" lengthAdjust=\"spacingAndGlyphs\" textLength=\"37\" x=\"349.5\" y=\"211.0938\">mass</text><rect fill=\"#383838\" height=\"12\" style=\"stroke: #F8F8F8; stroke-width: 1.5;\" width=\"12\" x=\"362\" y=\"186.0986\"/><text fill=\"#000000\" font-family=\"sans-serif\" font-size=\"14\" lengthAdjust=\"spacingAndGlyphs\" textLength=\"7\" x=\"364.5\" y=\"60.2969\">v</text><rect fill=\"#383838\" height=\"12\" style=\"stroke: #F8F8F8; stroke-width: 1.5;\" width=\"12\" x=\"362\" y=\"75.5986\"/><text fill=\"#000000\" font-family=\"sans-serif\" font-size=\"14\" lengthAdjust=\"spacingAndGlyphs\" textLength=\"7\" x=\"567.5\" y=\"20.7969\">v</text><rect fill=\"#383838\" height=\"12\" style=\"stroke: #F8F8F8; stroke-width: 1.5;\" width=\"12\" x=\"565\" y=\"36.0986\"/><text fill=\"#000000\" font-family=\"sans-serif\" font-size=\"14\" lengthAdjust=\"spacingAndGlyphs\" textLength=\"39\" x=\"505.5\" y=\"183.0938\">result</text><rect fill=\"#383838\" height=\"12\" style=\"stroke: #F8F8F8; stroke-width: 1.5;\" width=\"12\" x=\"519\" y=\"158.0986\"/><!--MD5=[98404c9ccacd754625d54ccdb29a8cd9]\n",
       "@startuml\r\n",
       "skinparam ranksep 8\r\n",
       "top to bottom direction\r\n",
       "skinparam monochrome true\r\n",
       "skinparam classbackgroundcolor white\r\n",
       "skinparam shadowing false\r\n",
       "skinparam wrapWidth 300\r\n",
       "hide circle\r\n",
       "\r\n",
       "rec def \"AnalysisCase\" as E1 << analysis def>> [[psysml:0d42cad1-3808-4e7b-8fe6-f660e27fd2bd ]] {\r\n",
       "portin \"v\" as E2  [[psysml:f7aad551-6165-4689-8df3-b128f6f54571 ]] \r\n",
       "portout \"result\" as E3  [[psysml:d8a9a5d1-c1b2-404a-b54f-35037ecf4c2d ]] \r\n",
       "}\r\n",
       "\r\n",
       "rec def \"AnalysisPlan\" as E4 << analysis def>> [[psysml:058a72e0-0a98-4261-856d-73366cf47a25 ]] {\r\n",
       "portin \"v\" as E5  [[psysml:40d43c87-89d5-4dcb-a988-f011f6f29ac5 ]] \r\n",
       "rec usage \"analysisCase\" as E6 << analysis>> [[psysml:ebac0614-db53-4f6a-a11b-2a64966401ed ]] {\r\n",
       "portout \"mass\" as E7  [[psysml:94298e01-1500-44a7-8244-0cc3e5620ae6 ]] \r\n",
       "portin \"v\" as E8  [[psysml:fabccdcf-1c94-4d5c-8a0b-5626b651aa80 ]] \r\n",
       "}\r\n",
       "\r\n",
       "portout \"result\" as E9  [[psysml:633f1383-e65f-4e22-9e6d-6ffcdde4bc38 ]] \r\n",
       "}\r\n",
       "\r\n",
       "rec usage \"analysisPlan\" as E10 << analysis>> [[psysml:cfe8b385-7bc2-406c-91e1-db9911ba5874 ]] {\r\n",
       "portin \"v\" as E11  [[psysml:55cfee2c-c24c-468f-9db4-77480ce5a457 ]] \r\n",
       "portout \"result\" as E12  [[psysml:8005f62b-cb79-4c8e-b32b-9a19d0c6c24c ]] \r\n",
       "}\r\n",
       "\r\n",
       "@enduml\r\n",
       "\n",
       "PlantUML version 1.2020.13(Sat Jun 13 12:26:38 UTC 2020)\n",
       "(EPL source distribution)\n",
       "Java Runtime: OpenJDK Runtime Environment\n",
       "JVM: OpenJDK 64-Bit Server VM\n",
       "Default Encoding: UTF-8\n",
       "Language: en\n",
       "Country: null\n",
       "--></g></svg>"
      ]
     },
     "execution_count": 48,
     "metadata": {},
     "output_type": "execute_result"
    }
   ],
   "source": [
    "%viz --style=\"TB\" --view=\"Action\" \"AnalysisTest\""
   ]
  },
  {
   "cell_type": "code",
   "execution_count": 49,
   "id": "b717c64b",
   "metadata": {
    "execution": {
     "iopub.execute_input": "2021-11-13T12:57:21.545090Z",
     "iopub.status.busy": "2021-11-13T12:57:21.544676Z",
     "iopub.status.idle": "2021-11-13T12:57:21.551375Z",
     "shell.execute_reply": "2021-11-13T12:57:21.550868Z"
    }
   },
   "outputs": [
    {
     "data": {
      "image/svg+xml": [
       "<?xml version=\"1.0\" encoding=\"UTF-8\" standalone=\"no\"?><svg xmlns=\"http://www.w3.org/2000/svg\" xmlns:xlink=\"http://www.w3.org/1999/xlink\" contentScriptType=\"application/ecmascript\" contentStyleType=\"text/css\" height=\"12px\" preserveAspectRatio=\"none\" style=\"width:12px;height:12px;\" version=\"1.1\" viewBox=\"0 0 12 12\" width=\"12px\" zoomAndPan=\"magnify\"><defs/><g><!--MD5=[e1ab0c84c44d2fef8bf5f140f2689906]\n",
       "@startuml\r\n",
       "skinparam roundcorner 20\r\n",
       "skinparam BoxPadding 20\r\n",
       "skinparam SequenceBoxBackgroundColor #white\r\n",
       "skinparam style strictuml\r\n",
       "skinparam maxMessageSize 100\r\n",
       "top to bottom direction\r\n",
       "skinparam monochrome true\r\n",
       "skinparam classbackgroundcolor white\r\n",
       "skinparam shadowing false\r\n",
       "skinparam wrapWidth 300\r\n",
       "hide circle\r\n",
       "\r\n",
       "@enduml\r\n",
       "\n",
       "PlantUML version 1.2020.13(Sat Jun 13 12:26:38 UTC 2020)\n",
       "(EPL source distribution)\n",
       "Java Runtime: OpenJDK Runtime Environment\n",
       "JVM: OpenJDK 64-Bit Server VM\n",
       "Default Encoding: UTF-8\n",
       "Language: en\n",
       "Country: null\n",
       "--></g></svg>"
      ]
     },
     "execution_count": 49,
     "metadata": {},
     "output_type": "execute_result"
    }
   ],
   "source": [
    "%viz --style=\"TB\" --view=\"Sequence\" \"AnalysisTest\""
   ]
  },
  {
   "cell_type": "code",
   "execution_count": 50,
   "id": "e4df2512",
   "metadata": {
    "execution": {
     "iopub.execute_input": "2021-11-13T12:57:21.600602Z",
     "iopub.status.busy": "2021-11-13T12:57:21.599995Z",
     "iopub.status.idle": "2021-11-13T12:57:21.663875Z",
     "shell.execute_reply": "2021-11-13T12:57:21.661947Z"
    }
   },
   "outputs": [
    {
     "data": {
      "image/svg+xml": [
       "<?xml version=\"1.0\" encoding=\"UTF-8\" standalone=\"no\"?><svg xmlns=\"http://www.w3.org/2000/svg\" xmlns:xlink=\"http://www.w3.org/1999/xlink\" contentScriptType=\"application/ecmascript\" contentStyleType=\"text/css\" height=\"658px\" preserveAspectRatio=\"none\" style=\"width:845px;height:658px;\" version=\"1.1\" viewBox=\"0 0 845 658\" width=\"845px\" zoomAndPan=\"magnify\"><defs/><g><!--MD5=[fbc87193dbaf4d95561dea2c320d4a47]\n",
       "cluster E1--><a href=\"psysml:d47d9c93-f987-42aa-9c82-a11afa9e7a85\" target=\"_top\" title=\"psysml:d47d9c93-f987-42aa-9c82-a11afa9e7a85\" xlink:actuate=\"onRequest\" xlink:href=\"psysml:d47d9c93-f987-42aa-9c82-a11afa9e7a85\" xlink:show=\"new\" xlink:title=\"psysml:d47d9c93-f987-42aa-9c82-a11afa9e7a85\" xlink:type=\"simple\"><polygon fill=\"#FFFFFF\" points=\"16,6,108,6,115,28.2969,823,28.2969,823,646,16,646,16,6\" style=\"stroke: #000000; stroke-width: 1.5;\"/><line style=\"stroke: #000000; stroke-width: 1.5;\" x1=\"16\" x2=\"115\" y1=\"28.2969\" y2=\"28.2969\"/><text fill=\"#000000\" font-family=\"sans-serif\" font-size=\"14\" font-weight=\"bold\" lengthAdjust=\"spacingAndGlyphs\" textLength=\"86\" x=\"20\" y=\"20.9951\">AnalysisTest</text></a><!--MD5=[de5ec2e2e8f62f467e546659f5068c88]\n",
       "cluster E5--><a href=\"psysml:0d42cad1-3808-4e7b-8fe6-f660e27fd2bd\" target=\"_top\" title=\"psysml:0d42cad1-3808-4e7b-8fe6-f660e27fd2bd\" xlink:actuate=\"onRequest\" xlink:href=\"psysml:0d42cad1-3808-4e7b-8fe6-f660e27fd2bd\" xlink:show=\"new\" xlink:title=\"psysml:0d42cad1-3808-4e7b-8fe6-f660e27fd2bd\" xlink:type=\"simple\"><rect fill=\"#FFFFFF\" height=\"329.5\" id=\"E5\" style=\"stroke: #383838; stroke-width: 1.5;\" width=\"146\" x=\"661\" y=\"74.5\"/><rect fill=\"#F8F8F8\" height=\"37.9375\" style=\"stroke: #383838; stroke-width: 1.5;\" width=\"146\" x=\"661\" y=\"74.5\"/><text fill=\"#000000\" font-family=\"sans-serif\" font-size=\"12\" font-style=\"italic\" lengthAdjust=\"spacingAndGlyphs\" textLength=\"88\" x=\"690\" y=\"90.6387\">«analysis def»</text><text fill=\"#000000\" font-family=\"sans-serif\" font-size=\"12\" lengthAdjust=\"spacingAndGlyphs\" textLength=\"81\" x=\"693.5\" y=\"104.6074\">AnalysisCase</text></a><!--MD5=[55dfccfc6c49c2d10cd1bd2211a6c90c]\n",
       "cluster E8--><a href=\"psysml:058a72e0-0a98-4261-856d-73366cf47a25\" target=\"_top\" title=\"psysml:058a72e0-0a98-4261-856d-73366cf47a25\" xlink:actuate=\"onRequest\" xlink:href=\"psysml:058a72e0-0a98-4261-856d-73366cf47a25\" xlink:show=\"new\" xlink:title=\"psysml:058a72e0-0a98-4261-856d-73366cf47a25\" xlink:type=\"simple\"><rect fill=\"#FFFFFF\" height=\"415\" id=\"E8\" style=\"stroke: #383838; stroke-width: 1.5;\" width=\"259\" x=\"283\" y=\"207\"/><rect fill=\"#F8F8F8\" height=\"37.9375\" style=\"stroke: #383838; stroke-width: 1.5;\" width=\"259\" x=\"283\" y=\"207\"/><text fill=\"#000000\" font-family=\"sans-serif\" font-size=\"12\" font-style=\"italic\" lengthAdjust=\"spacingAndGlyphs\" textLength=\"88\" x=\"368.5\" y=\"223.1387\">«analysis def»</text><text fill=\"#000000\" font-family=\"sans-serif\" font-size=\"12\" lengthAdjust=\"spacingAndGlyphs\" textLength=\"77\" x=\"374\" y=\"237.1074\">AnalysisPlan</text></a><!--MD5=[a84b4591f868c1fa4a211716a82f2f0d]\n",
       "cluster E10--><a href=\"psysml:ebac0614-db53-4f6a-a11b-2a64966401ed\" target=\"_top\" title=\"psysml:ebac0614-db53-4f6a-a11b-2a64966401ed\" xlink:actuate=\"onRequest\" xlink:href=\"psysml:ebac0614-db53-4f6a-a11b-2a64966401ed\" xlink:show=\"new\" xlink:title=\"psysml:ebac0614-db53-4f6a-a11b-2a64966401ed\" xlink:type=\"simple\"><rect fill=\"#FFFFFF\" height=\"239\" id=\"E10\" rx=\"10\" ry=\"10\" style=\"stroke: #383838; stroke-width: 1.5;\" width=\"138\" x=\"366\" y=\"345\"/><rect fill=\"#F8F8F8\" height=\"37.9375\" rx=\"10\" ry=\"10\" style=\"stroke: #F8F8F8; stroke-width: 1.5;\" width=\"138\" x=\"366\" y=\"345\"/><rect fill=\"#F8F8F8\" height=\"10\" style=\"stroke: #F8F8F8; stroke-width: 1.5;\" width=\"138\" x=\"366\" y=\"372.9375\"/><rect fill=\"none\" height=\"239\" id=\"E10\" rx=\"10\" ry=\"10\" style=\"stroke: #383838; stroke-width: 1.5;\" width=\"138\" x=\"366\" y=\"345\"/><text fill=\"#000000\" font-family=\"sans-serif\" font-size=\"12\" font-style=\"italic\" lengthAdjust=\"spacingAndGlyphs\" textLength=\"64\" x=\"403\" y=\"361.1387\">«analysis»</text><text fill=\"#000000\" font-family=\"sans-serif\" font-size=\"12\" lengthAdjust=\"spacingAndGlyphs\" textLength=\"81\" x=\"394.5\" y=\"375.1074\">analysisCase</text><line style=\"stroke: #383838; stroke-width: 1.0;\" x1=\"366\" x2=\"504\" y1=\"382.9375\" y2=\"382.9375\"/></a><!--MD5=[b4997ac47864f28c2f74865a473b2911]\n",
       "class E2--><a href=\"psysml:6e318fc7-f06d-4e4c-8e44-1e6d0f884455\" target=\"_top\" title=\"psysml:6e318fc7-f06d-4e4c-8e44-1e6d0f884455\" xlink:actuate=\"onRequest\" xlink:href=\"psysml:6e318fc7-f06d-4e4c-8e44-1e6d0f884455\" xlink:show=\"new\" xlink:title=\"psysml:6e318fc7-f06d-4e4c-8e44-1e6d0f884455\" xlink:type=\"simple\"><rect fill=\"#FFFFFF\" height=\"75.5469\" id=\"E2\" style=\"stroke: #383838; stroke-width: 1.5;\" width=\"70\" x=\"572\" y=\"169\"/><text fill=\"#000000\" font-family=\"sans-serif\" font-size=\"12\" font-style=\"italic\" lengthAdjust=\"spacingAndGlyphs\" textLength=\"68\" x=\"573\" y=\"185.1387\">«part  def»</text><text fill=\"#000000\" font-family=\"sans-serif\" font-size=\"12\" lengthAdjust=\"spacingAndGlyphs\" textLength=\"8\" x=\"603\" y=\"199.1074\">V</text><line style=\"stroke: #383838; stroke-width: 1.5;\" x1=\"573\" x2=\"641\" y1=\"206.9375\" y2=\"206.9375\"/><text fill=\"#000000\" font-family=\"sans-serif\" font-size=\"11\" lengthAdjust=\"spacingAndGlyphs\" textLength=\"11\" x=\"578\" y=\"237.9526\">m</text><line style=\"stroke: #383838; stroke-width: 1.0;\" x1=\"573\" x2=\"576\" y1=\"221.3398\" y2=\"221.3398\"/><text fill=\"#000000\" font-family=\"sans-serif\" font-size=\"11\" lengthAdjust=\"spacingAndGlyphs\" textLength=\"62\" x=\"576\" y=\"224.6479\">references</text><line style=\"stroke: #383838; stroke-width: 1.0;\" x1=\"638\" x2=\"641\" y1=\"221.3398\" y2=\"221.3398\"/></a><!--MD5=[09b614a08d8cba4a07c9adeb5e0fee81]\n",
       "class E3--><a href=\"psysml:27999d5c-daad-4ed7-92ff-020a622ea083\" target=\"_top\" title=\"psysml:27999d5c-daad-4ed7-92ff-020a622ea083\" xlink:actuate=\"onRequest\" xlink:href=\"psysml:27999d5c-daad-4ed7-92ff-020a622ea083\" xlink:show=\"new\" xlink:title=\"psysml:27999d5c-daad-4ed7-92ff-020a622ea083\" xlink:type=\"simple\"><rect fill=\"#FFFFFF\" height=\"45.9375\" id=\"E3\" rx=\"10\" ry=\"10\" style=\"stroke: #383838; stroke-width: 1.5;\" width=\"42\" x=\"586\" y=\"51.5\"/><text fill=\"#000000\" font-family=\"sans-serif\" font-size=\"12\" font-style=\"italic\" lengthAdjust=\"spacingAndGlyphs\" textLength=\"40\" x=\"587\" y=\"67.6387\">«part»</text><text fill=\"#000000\" font-family=\"sans-serif\" font-size=\"12\" lengthAdjust=\"spacingAndGlyphs\" textLength=\"28\" x=\"591\" y=\"81.6074\">vv: V</text><line style=\"stroke: #383838; stroke-width: 1.5;\" x1=\"587\" x2=\"627\" y1=\"89.4375\" y2=\"89.4375\"/></a><!--MD5=[ebbe1d658d1005bcc118a6aa81145e00]\n",
       "class E4--><a href=\"psysml:31fce779-d9ab-452b-8111-7f3c68bff972\" target=\"_top\" title=\"psysml:31fce779-d9ab-452b-8111-7f3c68bff972\" xlink:actuate=\"onRequest\" xlink:href=\"psysml:31fce779-d9ab-452b-8111-7f3c68bff972\" xlink:show=\"new\" xlink:title=\"psysml:31fce779-d9ab-452b-8111-7f3c68bff972\" xlink:type=\"simple\"><rect fill=\"#FFFFFF\" height=\"66.7422\" id=\"E4\" style=\"stroke: #383838; stroke-width: 1.5;\" width=\"121\" x=\"317.5\" y=\"41\"/><text fill=\"#000000\" font-family=\"sans-serif\" font-size=\"12\" font-style=\"italic\" lengthAdjust=\"spacingAndGlyphs\" textLength=\"119\" x=\"318.5\" y=\"57.1387\">«requirement  def»</text><text fill=\"#000000\" font-family=\"sans-serif\" font-size=\"12\" lengthAdjust=\"spacingAndGlyphs\" textLength=\"107\" x=\"324.5\" y=\"71.1074\">AnalysisObjective</text><line style=\"stroke: #383838; stroke-width: 1.5;\" x1=\"318.5\" x2=\"437.5\" y1=\"78.9375\" y2=\"78.9375\"/><text fill=\"#000000\" font-family=\"sans-serif\" font-size=\"11\" lengthAdjust=\"spacingAndGlyphs\" textLength=\"12\" x=\"323.5\" y=\"93.1479\">...</text><line style=\"stroke: #383838; stroke-width: 1.0;\" x1=\"318.5\" x2=\"437.5\" y1=\"99.7422\" y2=\"99.7422\"/></a><!--MD5=[bee11217b2f71d958a27249dc326068c]\n",
       "class E14--><a href=\"psysml:2f29b586-744b-44a6-b354-0cb36fac52ba\" target=\"_top\" title=\"psysml:2f29b586-744b-44a6-b354-0cb36fac52ba\" xlink:actuate=\"onRequest\" xlink:href=\"psysml:2f29b586-744b-44a6-b354-0cb36fac52ba\" xlink:show=\"new\" xlink:title=\"psysml:2f29b586-744b-44a6-b354-0cb36fac52ba\" xlink:type=\"simple\"><rect fill=\"#FFFFFF\" height=\"45.9375\" id=\"E14\" rx=\"10\" ry=\"10\" style=\"stroke: #383838; stroke-width: 1.5;\" width=\"104\" x=\"66\" y=\"51.5\"/><text fill=\"#000000\" font-family=\"sans-serif\" font-size=\"12\" font-style=\"italic\" lengthAdjust=\"spacingAndGlyphs\" textLength=\"40\" x=\"98\" y=\"67.6387\">«part»</text><text fill=\"#000000\" font-family=\"sans-serif\" font-size=\"12\" lengthAdjust=\"spacingAndGlyphs\" textLength=\"98\" x=\"69\" y=\"81.6074\">analysisContext</text><line style=\"stroke: #383838; stroke-width: 1.5;\" x1=\"67\" x2=\"169\" y1=\"89.4375\" y2=\"89.4375\"/></a><!--MD5=[0c48fb7552dae8cbbef69381101a84c8]\n",
       "class E15--><a href=\"psysml:cfe8b385-7bc2-406c-91e1-db9911ba5874\" target=\"_top\" title=\"psysml:cfe8b385-7bc2-406c-91e1-db9911ba5874\" xlink:actuate=\"onRequest\" xlink:href=\"psysml:cfe8b385-7bc2-406c-91e1-db9911ba5874\" xlink:show=\"new\" xlink:title=\"psysml:cfe8b385-7bc2-406c-91e1-db9911ba5874\" xlink:type=\"simple\"><rect fill=\"#FFFFFF\" height=\"45.9375\" id=\"E15\" rx=\"10\" ry=\"10\" style=\"stroke: #383838; stroke-width: 1.5;\" width=\"172\" x=\"32\" y=\"184\"/><text fill=\"#000000\" font-family=\"sans-serif\" font-size=\"12\" font-style=\"italic\" lengthAdjust=\"spacingAndGlyphs\" textLength=\"64\" x=\"86\" y=\"200.1387\">«analysis»</text><text fill=\"#000000\" font-family=\"sans-serif\" font-size=\"12\" lengthAdjust=\"spacingAndGlyphs\" textLength=\"162\" x=\"35\" y=\"214.1074\">analysisPlan: AnalysisPlan</text><line style=\"stroke: #383838; stroke-width: 1.5;\" x1=\"33\" x2=\"203\" y1=\"221.9375\" y2=\"221.9375\"/></a><!--MD5=[35f0587eaee8d5bb9a02e25b63afc23b]\n",
       "class E16--><a href=\"psysml:63325e1e-8a82-4691-b26b-3354962a7cad\" target=\"_top\" title=\"psysml:63325e1e-8a82-4691-b26b-3354962a7cad\" xlink:actuate=\"onRequest\" xlink:href=\"psysml:63325e1e-8a82-4691-b26b-3354962a7cad\" xlink:show=\"new\" xlink:title=\"psysml:63325e1e-8a82-4691-b26b-3354962a7cad\" xlink:type=\"simple\"><rect fill=\"#FFFFFF\" height=\"45.9375\" id=\"E16\" rx=\"10\" ry=\"10\" style=\"stroke: #383838; stroke-width: 1.5;\" width=\"93\" x=\"71.5\" y=\"322\"/><text fill=\"#000000\" font-family=\"sans-serif\" font-size=\"12\" font-style=\"italic\" lengthAdjust=\"spacingAndGlyphs\" textLength=\"91\" x=\"72.5\" y=\"338.1387\">«requirement»</text><text fill=\"#000000\" font-family=\"sans-serif\" font-size=\"12\" lengthAdjust=\"spacingAndGlyphs\" textLength=\"19\" x=\"108.5\" y=\"352.1074\">obj</text><line style=\"stroke: #383838; stroke-width: 1.5;\" x1=\"72.5\" x2=\"163.5\" y1=\"359.9375\" y2=\"359.9375\"/></a><text fill=\"#000000\" font-family=\"sans-serif\" font-size=\"14\" lengthAdjust=\"spacingAndGlyphs\" textLength=\"7\" x=\"730.5\" y=\"53.1982\">v</text><rect fill=\"#383838\" height=\"12\" style=\"stroke: #F8F8F8; stroke-width: 1.5;\" width=\"12\" x=\"728\" y=\"68.5\"/><text fill=\"#000000\" font-family=\"sans-serif\" font-size=\"14\" lengthAdjust=\"spacingAndGlyphs\" textLength=\"39\" x=\"714.5\" y=\"422.9951\">result</text><rect fill=\"#383838\" height=\"12\" style=\"stroke: #F8F8F8; stroke-width: 1.5;\" width=\"12\" x=\"728\" y=\"398\"/><text fill=\"#000000\" font-family=\"sans-serif\" font-size=\"14\" lengthAdjust=\"spacingAndGlyphs\" textLength=\"7\" x=\"297.5\" y=\"185.6982\">v</text><rect fill=\"#383838\" height=\"12\" style=\"stroke: #F8F8F8; stroke-width: 1.5;\" width=\"12\" x=\"295\" y=\"201\"/><text fill=\"#000000\" font-family=\"sans-serif\" font-size=\"14\" lengthAdjust=\"spacingAndGlyphs\" textLength=\"39\" x=\"522.5\" y=\"529.9951\">result</text><rect fill=\"#383838\" height=\"12\" style=\"stroke: #F8F8F8; stroke-width: 1.5;\" width=\"12\" x=\"536\" y=\"505\"/><text fill=\"#000000\" font-family=\"sans-serif\" font-size=\"14\" lengthAdjust=\"spacingAndGlyphs\" textLength=\"37\" x=\"416.5\" y=\"602.9951\">mass</text><rect fill=\"#383838\" height=\"12\" style=\"stroke: #F8F8F8; stroke-width: 1.5;\" width=\"12\" x=\"429\" y=\"578\"/><text fill=\"#000000\" font-family=\"sans-serif\" font-size=\"14\" lengthAdjust=\"spacingAndGlyphs\" textLength=\"7\" x=\"431.5\" y=\"323.6982\">v</text><rect fill=\"#383838\" height=\"12\" style=\"stroke: #F8F8F8; stroke-width: 1.5;\" width=\"12\" x=\"429\" y=\"339\"/><!--MD5=[05d275557350bfb9b23a4ef7222b4c39]\n",
       "link E3 to E2--><a href=\"psysml:4413170d-8387-4bcf-a661-a8e63eefb5dc\" target=\"_top\" title=\"psysml:4413170d-8387-4bcf-a661-a8e63eefb5dc\" xlink:actuate=\"onRequest\" xlink:href=\"psysml:4413170d-8387-4bcf-a661-a8e63eefb5dc\" xlink:show=\"new\" xlink:title=\"psysml:4413170d-8387-4bcf-a661-a8e63eefb5dc\" xlink:type=\"simple\"><path d=\"M607,97.64 C607,111.72 607,130.66 607,148.75 \" fill=\"none\" id=\"E3-&gt;E2\" style=\"stroke: #383838; stroke-width: 1.0;\"/><polygon fill=\"#FFFFFF\" points=\"607,168.9,600,149.9,614,149.9,607,168.9\" style=\"stroke: #383838; stroke-width: 1.0;\"/><ellipse cx=\"602\" cy=\"144.2\" fill=\"#383838\" rx=\"2\" ry=\"2\" style=\"stroke: #383838; stroke-width: 1.0;\"/><ellipse cx=\"612\" cy=\"144.2\" fill=\"#383838\" rx=\"2\" ry=\"2\" style=\"stroke: #383838; stroke-width: 1.0;\"/></a><!--MD5=[17bf29720e4688890742b92d9a67fdf0]\n",
       "reverse link E14 to E15--><a href=\"psysml:df4b3059-af15-4a6e-9f16-4ce8d388f00c\" target=\"_top\" title=\"psysml:df4b3059-af15-4a6e-9f16-4ce8d388f00c\" xlink:actuate=\"onRequest\" xlink:href=\"psysml:df4b3059-af15-4a6e-9f16-4ce8d388f00c\" xlink:show=\"new\" xlink:title=\"psysml:df4b3059-af15-4a6e-9f16-4ce8d388f00c\" xlink:type=\"simple\"><path d=\"M118,110.79 C118,134.03 118,163.75 118,183.75 \" fill=\"none\" id=\"E14&lt;-E15\" style=\"stroke: #383838; stroke-width: 1.0;\"/><polygon fill=\"#383838\" points=\"118,97.64,114,103.64,118,109.64,122,103.64,118,97.64\" style=\"stroke: #383838; stroke-width: 1.0;\"/></a><!--MD5=[1b01d5b954197aaf3899ca0bde35faf5]\n",
       "link E15 to E8--><a href=\"psysml:b8e5c057-83f1-47ef-94c9-1676b303e623\" target=\"_top\" title=\"psysml:b8e5c057-83f1-47ef-94c9-1676b303e623\" xlink:actuate=\"onRequest\" xlink:href=\"psysml:b8e5c057-83f1-47ef-94c9-1676b303e623\" xlink:show=\"new\" xlink:title=\"psysml:b8e5c057-83f1-47ef-94c9-1676b303e623\" xlink:type=\"simple\"><path d=\"M147.81,230.15 C184.47,257.4 245.87,303.03 278.7,327.43 \" fill=\"none\" id=\"E15-&gt;E8\" style=\"stroke: #383838; stroke-width: 1.0;\"/><polygon fill=\"#FFFFFF\" points=\"278.7,327.43,259.2749,321.7145,267.6261,310.478,278.7,327.43\" style=\"stroke: #383838; stroke-width: 1.0;\"/><ellipse cx=\"255.8931\" cy=\"316.7091\" fill=\"#383838\" rx=\"2\" ry=\"2\" style=\"stroke: #383838; stroke-width: 1.0;\"/><ellipse cx=\"261.8583\" cy=\"308.6831\" fill=\"#383838\" rx=\"2\" ry=\"2\" style=\"stroke: #383838; stroke-width: 1.0;\"/></a><!--MD5=[f8b155c46b092be73bb522b0a8fc72a2]\n",
       "link E15 to E16--><a href=\"psysml:7d3bd451-2ef5-4e75-9594-2e0dd7330291\" target=\"_top\" title=\"psysml:7d3bd451-2ef5-4e75-9594-2e0dd7330291\" xlink:actuate=\"onRequest\" xlink:href=\"psysml:7d3bd451-2ef5-4e75-9594-2e0dd7330291\" xlink:show=\"new\" xlink:title=\"psysml:7d3bd451-2ef5-4e75-9594-2e0dd7330291\" xlink:type=\"simple\"><path d=\"M118,230.15 C118,252.87 118,288.38 118,313.69 \" fill=\"none\" id=\"E15-&gt;E16\" style=\"stroke: #383838; stroke-width: 1.0;\"/><polygon fill=\"#383838\" points=\"118,321.86,121,313.86,115,313.86,118,321.86\" style=\"stroke: #383838; stroke-width: 1.0;\"/><text fill=\"#000000\" font-family=\"sans-serif\" font-size=\"13\" lengthAdjust=\"spacingAndGlyphs\" textLength=\"73\" x=\"119\" y=\"288.0669\">«objective»</text><text fill=\"#000000\" font-family=\"sans-serif\" font-size=\"13\" lengthAdjust=\"spacingAndGlyphs\" textLength=\"8\" x=\"108.975\" y=\"311.1004\">1</text></a><!--MD5=[608ebae08825364992cc4eb541bd7dad]\n",
       "@startuml\r\n",
       "top to bottom direction\r\n",
       "skinparam monochrome true\r\n",
       "skinparam classbackgroundcolor white\r\n",
       "skinparam shadowing false\r\n",
       "skinparam wrapWidth 300\r\n",
       "hide circle\r\n",
       "\r\n",
       "package \"AnalysisTest\" as E1  [[psysml:d47d9c93-f987-42aa-9c82-a11afa9e7a85 ]]  {\r\n",
       "comp def \"V\" as E2  <<(T,blue) part  def>> [[psysml:6e318fc7-f06d-4e4c-8e44-1e6d0f884455 ]] {\r\n",
       "- - references - -\r\n",
       "m\r\n",
       "}\r\n",
       "comp usage \"vv: V \" as E3  <<(T,blue) part>> [[psysml:27999d5c-daad-4ed7-92ff-020a622ea083 ]] {\r\n",
       "}\r\n",
       "comp def \"AnalysisObjective\" as E4  <<(T,blue) requirement  def>> [[psysml:31fce779-d9ab-452b-8111-7f3c68bff972 ]] {\r\n",
       "...\r\n",
       "- -\r\n",
       "}\r\n",
       "rec def \"AnalysisCase\" as E5 << analysis def>> [[psysml:0d42cad1-3808-4e7b-8fe6-f660e27fd2bd ]] {\r\n",
       "portin \"v\" as E6  [[psysml:f7aad551-6165-4689-8df3-b128f6f54571 ]] \r\n",
       "portout \"result\" as E7  [[psysml:d8a9a5d1-c1b2-404a-b54f-35037ecf4c2d ]] \r\n",
       "}\r\n",
       "\r\n",
       "rec def \"AnalysisPlan\" as E8 << analysis def>> [[psysml:058a72e0-0a98-4261-856d-73366cf47a25 ]] {\r\n",
       "portin \"v\" as E9  [[psysml:40d43c87-89d5-4dcb-a988-f011f6f29ac5 ]] \r\n",
       "rec usage \"analysisCase\" as E10 << analysis>> [[psysml:ebac0614-db53-4f6a-a11b-2a64966401ed ]] {\r\n",
       "portout \"mass\" as E11  [[psysml:94298e01-1500-44a7-8244-0cc3e5620ae6 ]] \r\n",
       "portin \"v\" as E12  [[psysml:fabccdcf-1c94-4d5c-8a0b-5626b651aa80 ]] \r\n",
       "}\r\n",
       "\r\n",
       "portout \"result\" as E13  [[psysml:633f1383-e65f-4e22-9e6d-6ffcdde4bc38 ]] \r\n",
       "}\r\n",
       "\r\n",
       "comp usage \"analysisContext\" as E14  <<(T,blue) part>> [[psysml:2f29b586-744b-44a6-b354-0cb36fac52ba ]] {\r\n",
       "}\r\n",
       "comp usage \"analysisPlan: AnalysisPlan \" as E15 << analysis>> [[psysml:cfe8b385-7bc2-406c-91e1-db9911ba5874 ]] {\r\n",
       "}\r\n",
       "comp usage \"obj\" as E16  <<(T,blue) requirement>> [[psysml:63325e1e-8a82-4691-b26b-3354962a7cad ]] {\r\n",
       "}\r\n",
       "}\r\n",
       "E3 - -:|> E2 [[psysml:4413170d-8387-4bcf-a661-a8e63eefb5dc ]] \r\n",
       "E14 *- - E15 [[psysml:df4b3059-af15-4a6e-9f16-4ce8d388f00c ]] \r\n",
       "E15 - -:|> E8 [[psysml:b8e5c057-83f1-47ef-94c9-1676b303e623 ]] \r\n",
       "E15 - ->> \"1\"E16 [[psysml:7d3bd451-2ef5-4e75-9594-2e0dd7330291 ]] : <<objective>>\r\n",
       "@enduml\r\n",
       "\n",
       "PlantUML version 1.2020.13(Sat Jun 13 12:26:38 UTC 2020)\n",
       "(EPL source distribution)\n",
       "Java Runtime: OpenJDK Runtime Environment\n",
       "JVM: OpenJDK 64-Bit Server VM\n",
       "Default Encoding: UTF-8\n",
       "Language: en\n",
       "Country: null\n",
       "--></g></svg>"
      ]
     },
     "execution_count": 50,
     "metadata": {},
     "output_type": "execute_result"
    }
   ],
   "source": [
    "%viz --style=\"TB\" --view=\"MIXED\" \"AnalysisTest\""
   ]
  },
  {
   "cell_type": "code",
   "execution_count": 51,
   "id": "a2da80ad",
   "metadata": {
    "execution": {
     "iopub.execute_input": "2021-11-13T12:57:21.712583Z",
     "iopub.status.busy": "2021-11-13T12:57:21.712157Z",
     "iopub.status.idle": "2021-11-13T12:57:21.777272Z",
     "shell.execute_reply": "2021-11-13T12:57:21.775342Z"
    }
   },
   "outputs": [
    {
     "data": {
      "image/svg+xml": [
       "<?xml version=\"1.0\" encoding=\"UTF-8\" standalone=\"no\"?><svg xmlns=\"http://www.w3.org/2000/svg\" xmlns:xlink=\"http://www.w3.org/1999/xlink\" contentScriptType=\"application/ecmascript\" contentStyleType=\"text/css\" height=\"658px\" preserveAspectRatio=\"none\" style=\"width:845px;height:658px;\" version=\"1.1\" viewBox=\"0 0 845 658\" width=\"845px\" zoomAndPan=\"magnify\"><defs/><g><!--MD5=[fbc87193dbaf4d95561dea2c320d4a47]\n",
       "cluster E1--><a href=\"psysml:d47d9c93-f987-42aa-9c82-a11afa9e7a85\" target=\"_top\" title=\"psysml:d47d9c93-f987-42aa-9c82-a11afa9e7a85\" xlink:actuate=\"onRequest\" xlink:href=\"psysml:d47d9c93-f987-42aa-9c82-a11afa9e7a85\" xlink:show=\"new\" xlink:title=\"psysml:d47d9c93-f987-42aa-9c82-a11afa9e7a85\" xlink:type=\"simple\"><polygon fill=\"#FFFFFF\" points=\"16,6,108,6,115,28.2969,823,28.2969,823,646,16,646,16,6\" style=\"stroke: #000000; stroke-width: 1.5;\"/><line style=\"stroke: #000000; stroke-width: 1.5;\" x1=\"16\" x2=\"115\" y1=\"28.2969\" y2=\"28.2969\"/><text fill=\"#000000\" font-family=\"sans-serif\" font-size=\"14\" font-weight=\"bold\" lengthAdjust=\"spacingAndGlyphs\" textLength=\"86\" x=\"20\" y=\"20.9951\">AnalysisTest</text></a><!--MD5=[de5ec2e2e8f62f467e546659f5068c88]\n",
       "cluster E5--><a href=\"psysml:0d42cad1-3808-4e7b-8fe6-f660e27fd2bd\" target=\"_top\" title=\"psysml:0d42cad1-3808-4e7b-8fe6-f660e27fd2bd\" xlink:actuate=\"onRequest\" xlink:href=\"psysml:0d42cad1-3808-4e7b-8fe6-f660e27fd2bd\" xlink:show=\"new\" xlink:title=\"psysml:0d42cad1-3808-4e7b-8fe6-f660e27fd2bd\" xlink:type=\"simple\"><rect fill=\"#FFFFFF\" height=\"329.5\" id=\"E5\" style=\"stroke: #383838; stroke-width: 1.5;\" width=\"146\" x=\"661\" y=\"74.5\"/><rect fill=\"#F8F8F8\" height=\"37.9375\" style=\"stroke: #383838; stroke-width: 1.5;\" width=\"146\" x=\"661\" y=\"74.5\"/><text fill=\"#000000\" font-family=\"sans-serif\" font-size=\"12\" font-style=\"italic\" lengthAdjust=\"spacingAndGlyphs\" textLength=\"88\" x=\"690\" y=\"90.6387\">«analysis def»</text><text fill=\"#000000\" font-family=\"sans-serif\" font-size=\"12\" lengthAdjust=\"spacingAndGlyphs\" textLength=\"81\" x=\"693.5\" y=\"104.6074\">AnalysisCase</text></a><!--MD5=[55dfccfc6c49c2d10cd1bd2211a6c90c]\n",
       "cluster E8--><a href=\"psysml:058a72e0-0a98-4261-856d-73366cf47a25\" target=\"_top\" title=\"psysml:058a72e0-0a98-4261-856d-73366cf47a25\" xlink:actuate=\"onRequest\" xlink:href=\"psysml:058a72e0-0a98-4261-856d-73366cf47a25\" xlink:show=\"new\" xlink:title=\"psysml:058a72e0-0a98-4261-856d-73366cf47a25\" xlink:type=\"simple\"><rect fill=\"#FFFFFF\" height=\"415\" id=\"E8\" style=\"stroke: #383838; stroke-width: 1.5;\" width=\"259\" x=\"283\" y=\"207\"/><rect fill=\"#F8F8F8\" height=\"37.9375\" style=\"stroke: #383838; stroke-width: 1.5;\" width=\"259\" x=\"283\" y=\"207\"/><text fill=\"#000000\" font-family=\"sans-serif\" font-size=\"12\" font-style=\"italic\" lengthAdjust=\"spacingAndGlyphs\" textLength=\"88\" x=\"368.5\" y=\"223.1387\">«analysis def»</text><text fill=\"#000000\" font-family=\"sans-serif\" font-size=\"12\" lengthAdjust=\"spacingAndGlyphs\" textLength=\"77\" x=\"374\" y=\"237.1074\">AnalysisPlan</text></a><!--MD5=[a84b4591f868c1fa4a211716a82f2f0d]\n",
       "cluster E10--><a href=\"psysml:ebac0614-db53-4f6a-a11b-2a64966401ed\" target=\"_top\" title=\"psysml:ebac0614-db53-4f6a-a11b-2a64966401ed\" xlink:actuate=\"onRequest\" xlink:href=\"psysml:ebac0614-db53-4f6a-a11b-2a64966401ed\" xlink:show=\"new\" xlink:title=\"psysml:ebac0614-db53-4f6a-a11b-2a64966401ed\" xlink:type=\"simple\"><rect fill=\"#FFFFFF\" height=\"239\" id=\"E10\" rx=\"10\" ry=\"10\" style=\"stroke: #383838; stroke-width: 1.5;\" width=\"138\" x=\"366\" y=\"345\"/><rect fill=\"#F8F8F8\" height=\"37.9375\" rx=\"10\" ry=\"10\" style=\"stroke: #F8F8F8; stroke-width: 1.5;\" width=\"138\" x=\"366\" y=\"345\"/><rect fill=\"#F8F8F8\" height=\"10\" style=\"stroke: #F8F8F8; stroke-width: 1.5;\" width=\"138\" x=\"366\" y=\"372.9375\"/><rect fill=\"none\" height=\"239\" id=\"E10\" rx=\"10\" ry=\"10\" style=\"stroke: #383838; stroke-width: 1.5;\" width=\"138\" x=\"366\" y=\"345\"/><text fill=\"#000000\" font-family=\"sans-serif\" font-size=\"12\" font-style=\"italic\" lengthAdjust=\"spacingAndGlyphs\" textLength=\"64\" x=\"403\" y=\"361.1387\">«analysis»</text><text fill=\"#000000\" font-family=\"sans-serif\" font-size=\"12\" lengthAdjust=\"spacingAndGlyphs\" textLength=\"81\" x=\"394.5\" y=\"375.1074\">analysisCase</text><line style=\"stroke: #383838; stroke-width: 1.0;\" x1=\"366\" x2=\"504\" y1=\"382.9375\" y2=\"382.9375\"/></a><!--MD5=[b4997ac47864f28c2f74865a473b2911]\n",
       "class E2--><a href=\"psysml:6e318fc7-f06d-4e4c-8e44-1e6d0f884455\" target=\"_top\" title=\"psysml:6e318fc7-f06d-4e4c-8e44-1e6d0f884455\" xlink:actuate=\"onRequest\" xlink:href=\"psysml:6e318fc7-f06d-4e4c-8e44-1e6d0f884455\" xlink:show=\"new\" xlink:title=\"psysml:6e318fc7-f06d-4e4c-8e44-1e6d0f884455\" xlink:type=\"simple\"><rect fill=\"#FFFFFF\" height=\"75.5469\" id=\"E2\" style=\"stroke: #383838; stroke-width: 1.5;\" width=\"70\" x=\"572\" y=\"169\"/><text fill=\"#000000\" font-family=\"sans-serif\" font-size=\"12\" font-style=\"italic\" lengthAdjust=\"spacingAndGlyphs\" textLength=\"68\" x=\"573\" y=\"185.1387\">«part  def»</text><text fill=\"#000000\" font-family=\"sans-serif\" font-size=\"12\" lengthAdjust=\"spacingAndGlyphs\" textLength=\"8\" x=\"603\" y=\"199.1074\">V</text><line style=\"stroke: #383838; stroke-width: 1.5;\" x1=\"573\" x2=\"641\" y1=\"206.9375\" y2=\"206.9375\"/><text fill=\"#000000\" font-family=\"sans-serif\" font-size=\"11\" lengthAdjust=\"spacingAndGlyphs\" textLength=\"11\" x=\"578\" y=\"237.9526\">m</text><line style=\"stroke: #383838; stroke-width: 1.0;\" x1=\"573\" x2=\"576\" y1=\"221.3398\" y2=\"221.3398\"/><text fill=\"#000000\" font-family=\"sans-serif\" font-size=\"11\" lengthAdjust=\"spacingAndGlyphs\" textLength=\"62\" x=\"576\" y=\"224.6479\">references</text><line style=\"stroke: #383838; stroke-width: 1.0;\" x1=\"638\" x2=\"641\" y1=\"221.3398\" y2=\"221.3398\"/></a><!--MD5=[09b614a08d8cba4a07c9adeb5e0fee81]\n",
       "class E3--><a href=\"psysml:27999d5c-daad-4ed7-92ff-020a622ea083\" target=\"_top\" title=\"psysml:27999d5c-daad-4ed7-92ff-020a622ea083\" xlink:actuate=\"onRequest\" xlink:href=\"psysml:27999d5c-daad-4ed7-92ff-020a622ea083\" xlink:show=\"new\" xlink:title=\"psysml:27999d5c-daad-4ed7-92ff-020a622ea083\" xlink:type=\"simple\"><rect fill=\"#FFFFFF\" height=\"45.9375\" id=\"E3\" rx=\"10\" ry=\"10\" style=\"stroke: #383838; stroke-width: 1.5;\" width=\"42\" x=\"586\" y=\"51.5\"/><text fill=\"#000000\" font-family=\"sans-serif\" font-size=\"12\" font-style=\"italic\" lengthAdjust=\"spacingAndGlyphs\" textLength=\"40\" x=\"587\" y=\"67.6387\">«part»</text><text fill=\"#000000\" font-family=\"sans-serif\" font-size=\"12\" lengthAdjust=\"spacingAndGlyphs\" textLength=\"28\" x=\"591\" y=\"81.6074\">vv: V</text><line style=\"stroke: #383838; stroke-width: 1.5;\" x1=\"587\" x2=\"627\" y1=\"89.4375\" y2=\"89.4375\"/></a><!--MD5=[ebbe1d658d1005bcc118a6aa81145e00]\n",
       "class E4--><a href=\"psysml:31fce779-d9ab-452b-8111-7f3c68bff972\" target=\"_top\" title=\"psysml:31fce779-d9ab-452b-8111-7f3c68bff972\" xlink:actuate=\"onRequest\" xlink:href=\"psysml:31fce779-d9ab-452b-8111-7f3c68bff972\" xlink:show=\"new\" xlink:title=\"psysml:31fce779-d9ab-452b-8111-7f3c68bff972\" xlink:type=\"simple\"><rect fill=\"#FFFFFF\" height=\"66.7422\" id=\"E4\" style=\"stroke: #383838; stroke-width: 1.5;\" width=\"121\" x=\"317.5\" y=\"41\"/><text fill=\"#000000\" font-family=\"sans-serif\" font-size=\"12\" font-style=\"italic\" lengthAdjust=\"spacingAndGlyphs\" textLength=\"119\" x=\"318.5\" y=\"57.1387\">«requirement  def»</text><text fill=\"#000000\" font-family=\"sans-serif\" font-size=\"12\" lengthAdjust=\"spacingAndGlyphs\" textLength=\"107\" x=\"324.5\" y=\"71.1074\">AnalysisObjective</text><line style=\"stroke: #383838; stroke-width: 1.5;\" x1=\"318.5\" x2=\"437.5\" y1=\"78.9375\" y2=\"78.9375\"/><text fill=\"#000000\" font-family=\"sans-serif\" font-size=\"11\" lengthAdjust=\"spacingAndGlyphs\" textLength=\"12\" x=\"323.5\" y=\"93.1479\">...</text><line style=\"stroke: #383838; stroke-width: 1.0;\" x1=\"318.5\" x2=\"437.5\" y1=\"99.7422\" y2=\"99.7422\"/></a><!--MD5=[bee11217b2f71d958a27249dc326068c]\n",
       "class E14--><a href=\"psysml:2f29b586-744b-44a6-b354-0cb36fac52ba\" target=\"_top\" title=\"psysml:2f29b586-744b-44a6-b354-0cb36fac52ba\" xlink:actuate=\"onRequest\" xlink:href=\"psysml:2f29b586-744b-44a6-b354-0cb36fac52ba\" xlink:show=\"new\" xlink:title=\"psysml:2f29b586-744b-44a6-b354-0cb36fac52ba\" xlink:type=\"simple\"><rect fill=\"#FFFFFF\" height=\"45.9375\" id=\"E14\" rx=\"10\" ry=\"10\" style=\"stroke: #383838; stroke-width: 1.5;\" width=\"104\" x=\"66\" y=\"51.5\"/><text fill=\"#000000\" font-family=\"sans-serif\" font-size=\"12\" font-style=\"italic\" lengthAdjust=\"spacingAndGlyphs\" textLength=\"40\" x=\"98\" y=\"67.6387\">«part»</text><text fill=\"#000000\" font-family=\"sans-serif\" font-size=\"12\" lengthAdjust=\"spacingAndGlyphs\" textLength=\"98\" x=\"69\" y=\"81.6074\">analysisContext</text><line style=\"stroke: #383838; stroke-width: 1.5;\" x1=\"67\" x2=\"169\" y1=\"89.4375\" y2=\"89.4375\"/></a><!--MD5=[0c48fb7552dae8cbbef69381101a84c8]\n",
       "class E15--><a href=\"psysml:cfe8b385-7bc2-406c-91e1-db9911ba5874\" target=\"_top\" title=\"psysml:cfe8b385-7bc2-406c-91e1-db9911ba5874\" xlink:actuate=\"onRequest\" xlink:href=\"psysml:cfe8b385-7bc2-406c-91e1-db9911ba5874\" xlink:show=\"new\" xlink:title=\"psysml:cfe8b385-7bc2-406c-91e1-db9911ba5874\" xlink:type=\"simple\"><rect fill=\"#FFFFFF\" height=\"45.9375\" id=\"E15\" rx=\"10\" ry=\"10\" style=\"stroke: #383838; stroke-width: 1.5;\" width=\"172\" x=\"32\" y=\"184\"/><text fill=\"#000000\" font-family=\"sans-serif\" font-size=\"12\" font-style=\"italic\" lengthAdjust=\"spacingAndGlyphs\" textLength=\"64\" x=\"86\" y=\"200.1387\">«analysis»</text><text fill=\"#000000\" font-family=\"sans-serif\" font-size=\"12\" lengthAdjust=\"spacingAndGlyphs\" textLength=\"162\" x=\"35\" y=\"214.1074\">analysisPlan: AnalysisPlan</text><line style=\"stroke: #383838; stroke-width: 1.5;\" x1=\"33\" x2=\"203\" y1=\"221.9375\" y2=\"221.9375\"/></a><!--MD5=[35f0587eaee8d5bb9a02e25b63afc23b]\n",
       "class E16--><a href=\"psysml:63325e1e-8a82-4691-b26b-3354962a7cad\" target=\"_top\" title=\"psysml:63325e1e-8a82-4691-b26b-3354962a7cad\" xlink:actuate=\"onRequest\" xlink:href=\"psysml:63325e1e-8a82-4691-b26b-3354962a7cad\" xlink:show=\"new\" xlink:title=\"psysml:63325e1e-8a82-4691-b26b-3354962a7cad\" xlink:type=\"simple\"><rect fill=\"#FFFFFF\" height=\"45.9375\" id=\"E16\" rx=\"10\" ry=\"10\" style=\"stroke: #383838; stroke-width: 1.5;\" width=\"93\" x=\"71.5\" y=\"322\"/><text fill=\"#000000\" font-family=\"sans-serif\" font-size=\"12\" font-style=\"italic\" lengthAdjust=\"spacingAndGlyphs\" textLength=\"91\" x=\"72.5\" y=\"338.1387\">«requirement»</text><text fill=\"#000000\" font-family=\"sans-serif\" font-size=\"12\" lengthAdjust=\"spacingAndGlyphs\" textLength=\"19\" x=\"108.5\" y=\"352.1074\">obj</text><line style=\"stroke: #383838; stroke-width: 1.5;\" x1=\"72.5\" x2=\"163.5\" y1=\"359.9375\" y2=\"359.9375\"/></a><text fill=\"#000000\" font-family=\"sans-serif\" font-size=\"14\" lengthAdjust=\"spacingAndGlyphs\" textLength=\"7\" x=\"730.5\" y=\"53.1982\">v</text><rect fill=\"#383838\" height=\"12\" style=\"stroke: #F8F8F8; stroke-width: 1.5;\" width=\"12\" x=\"728\" y=\"68.5\"/><text fill=\"#000000\" font-family=\"sans-serif\" font-size=\"14\" lengthAdjust=\"spacingAndGlyphs\" textLength=\"39\" x=\"714.5\" y=\"422.9951\">result</text><rect fill=\"#383838\" height=\"12\" style=\"stroke: #F8F8F8; stroke-width: 1.5;\" width=\"12\" x=\"728\" y=\"398\"/><text fill=\"#000000\" font-family=\"sans-serif\" font-size=\"14\" lengthAdjust=\"spacingAndGlyphs\" textLength=\"7\" x=\"297.5\" y=\"185.6982\">v</text><rect fill=\"#383838\" height=\"12\" style=\"stroke: #F8F8F8; stroke-width: 1.5;\" width=\"12\" x=\"295\" y=\"201\"/><text fill=\"#000000\" font-family=\"sans-serif\" font-size=\"14\" lengthAdjust=\"spacingAndGlyphs\" textLength=\"39\" x=\"522.5\" y=\"529.9951\">result</text><rect fill=\"#383838\" height=\"12\" style=\"stroke: #F8F8F8; stroke-width: 1.5;\" width=\"12\" x=\"536\" y=\"505\"/><text fill=\"#000000\" font-family=\"sans-serif\" font-size=\"14\" lengthAdjust=\"spacingAndGlyphs\" textLength=\"37\" x=\"416.5\" y=\"602.9951\">mass</text><rect fill=\"#383838\" height=\"12\" style=\"stroke: #F8F8F8; stroke-width: 1.5;\" width=\"12\" x=\"429\" y=\"578\"/><text fill=\"#000000\" font-family=\"sans-serif\" font-size=\"14\" lengthAdjust=\"spacingAndGlyphs\" textLength=\"7\" x=\"431.5\" y=\"323.6982\">v</text><rect fill=\"#383838\" height=\"12\" style=\"stroke: #F8F8F8; stroke-width: 1.5;\" width=\"12\" x=\"429\" y=\"339\"/><!--MD5=[05d275557350bfb9b23a4ef7222b4c39]\n",
       "link E3 to E2--><a href=\"psysml:4413170d-8387-4bcf-a661-a8e63eefb5dc\" target=\"_top\" title=\"psysml:4413170d-8387-4bcf-a661-a8e63eefb5dc\" xlink:actuate=\"onRequest\" xlink:href=\"psysml:4413170d-8387-4bcf-a661-a8e63eefb5dc\" xlink:show=\"new\" xlink:title=\"psysml:4413170d-8387-4bcf-a661-a8e63eefb5dc\" xlink:type=\"simple\"><path d=\"M607,97.58 C607,97.58 607,148.89 607,148.89 \" fill=\"none\" id=\"E3-&gt;E2\" style=\"stroke: #383838; stroke-width: 1.0;\"/><polygon fill=\"#FFFFFF\" points=\"607,168.89,600,149.89,614,149.89,607,168.89\" style=\"stroke: #383838; stroke-width: 1.0;\"/><ellipse cx=\"602\" cy=\"144.19\" fill=\"#383838\" rx=\"2\" ry=\"2\" style=\"stroke: #383838; stroke-width: 1.0;\"/><ellipse cx=\"612\" cy=\"144.19\" fill=\"#383838\" rx=\"2\" ry=\"2\" style=\"stroke: #383838; stroke-width: 1.0;\"/></a><!--MD5=[17bf29720e4688890742b92d9a67fdf0]\n",
       "reverse link E14 to E15--><a href=\"psysml:df4b3059-af15-4a6e-9f16-4ce8d388f00c\" target=\"_top\" title=\"psysml:df4b3059-af15-4a6e-9f16-4ce8d388f00c\" xlink:actuate=\"onRequest\" xlink:href=\"psysml:df4b3059-af15-4a6e-9f16-4ce8d388f00c\" xlink:show=\"new\" xlink:title=\"psysml:df4b3059-af15-4a6e-9f16-4ce8d388f00c\" xlink:type=\"simple\"><path d=\"M118,110.58 C118,110.58 118,183.74 118,183.74 \" fill=\"none\" id=\"E14&lt;-E15\" style=\"stroke: #383838; stroke-width: 1.0;\"/><polygon fill=\"#383838\" points=\"118,97.58,114,103.58,118,109.58,122,103.58,118,97.58\" style=\"stroke: #383838; stroke-width: 1.0;\"/></a><!--MD5=[1b01d5b954197aaf3899ca0bde35faf5]\n",
       "link E15 to E8--><a href=\"psysml:b8e5c057-83f1-47ef-94c9-1676b303e623\" target=\"_top\" title=\"psysml:b8e5c057-83f1-47ef-94c9-1676b303e623\" xlink:actuate=\"onRequest\" xlink:href=\"psysml:b8e5c057-83f1-47ef-94c9-1676b303e623\" xlink:show=\"new\" xlink:title=\"psysml:b8e5c057-83f1-47ef-94c9-1676b303e623\" xlink:type=\"simple\"><path d=\"M204.37,222 C238.39,222 269.5,222 269.5,222 C269.5,222 269.5,293.37 269.5,327.38 \" fill=\"none\" id=\"E15-&gt;E8\" style=\"stroke: #383838; stroke-width: 1.0;\"/><polygon fill=\"#FFFFFF\" points=\"269.5,327.38,262.5,308.38,276.5,308.38,269.5,327.38\" style=\"stroke: #383838; stroke-width: 1.0;\"/><ellipse cx=\"264.5\" cy=\"302.68\" fill=\"#383838\" rx=\"2\" ry=\"2\" style=\"stroke: #383838; stroke-width: 1.0;\"/><ellipse cx=\"274.5\" cy=\"302.68\" fill=\"#383838\" rx=\"2\" ry=\"2\" style=\"stroke: #383838; stroke-width: 1.0;\"/></a><!--MD5=[f8b155c46b092be73bb522b0a8fc72a2]\n",
       "link E15 to E16--><a href=\"psysml:7d3bd451-2ef5-4e75-9594-2e0dd7330291\" target=\"_top\" title=\"psysml:7d3bd451-2ef5-4e75-9594-2e0dd7330291\" xlink:actuate=\"onRequest\" xlink:href=\"psysml:7d3bd451-2ef5-4e75-9594-2e0dd7330291\" xlink:show=\"new\" xlink:title=\"psysml:7d3bd451-2ef5-4e75-9594-2e0dd7330291\" xlink:type=\"simple\"><path d=\"M118,230.1 C118,230.1 118,313.83 118,313.83 \" fill=\"none\" id=\"E15-&gt;E16\" style=\"stroke: #383838; stroke-width: 1.0;\"/><polygon fill=\"#383838\" points=\"118,321.83,121,313.83,115,313.83,118,321.83\" style=\"stroke: #383838; stroke-width: 1.0;\"/><text fill=\"#000000\" font-family=\"sans-serif\" font-size=\"13\" lengthAdjust=\"spacingAndGlyphs\" textLength=\"73\" x=\"119\" y=\"288.0669\">«objective»</text><text fill=\"#000000\" font-family=\"sans-serif\" font-size=\"13\" lengthAdjust=\"spacingAndGlyphs\" textLength=\"8\" x=\"108.975\" y=\"311.0627\">1</text></a><!--MD5=[365bb7619728e2786a0aa61bc8d3eac2]\n",
       "@startuml\r\n",
       "skinparam linetype ortho\r\n",
       "skinparam monochrome true\r\n",
       "skinparam classbackgroundcolor white\r\n",
       "skinparam shadowing false\r\n",
       "skinparam wrapWidth 300\r\n",
       "hide circle\r\n",
       "\r\n",
       "package \"AnalysisTest\" as E1  [[psysml:d47d9c93-f987-42aa-9c82-a11afa9e7a85 ]]  {\r\n",
       "comp def \"V\" as E2  <<(T,blue) part  def>> [[psysml:6e318fc7-f06d-4e4c-8e44-1e6d0f884455 ]] {\r\n",
       "- - references - -\r\n",
       "m\r\n",
       "}\r\n",
       "comp usage \"vv: V \" as E3  <<(T,blue) part>> [[psysml:27999d5c-daad-4ed7-92ff-020a622ea083 ]] {\r\n",
       "}\r\n",
       "comp def \"AnalysisObjective\" as E4  <<(T,blue) requirement  def>> [[psysml:31fce779-d9ab-452b-8111-7f3c68bff972 ]] {\r\n",
       "...\r\n",
       "- -\r\n",
       "}\r\n",
       "rec def \"AnalysisCase\" as E5 << analysis def>> [[psysml:0d42cad1-3808-4e7b-8fe6-f660e27fd2bd ]] {\r\n",
       "portin \"v\" as E6  [[psysml:f7aad551-6165-4689-8df3-b128f6f54571 ]] \r\n",
       "portout \"result\" as E7  [[psysml:d8a9a5d1-c1b2-404a-b54f-35037ecf4c2d ]] \r\n",
       "}\r\n",
       "\r\n",
       "rec def \"AnalysisPlan\" as E8 << analysis def>> [[psysml:058a72e0-0a98-4261-856d-73366cf47a25 ]] {\r\n",
       "portin \"v\" as E9  [[psysml:40d43c87-89d5-4dcb-a988-f011f6f29ac5 ]] \r\n",
       "rec usage \"analysisCase\" as E10 << analysis>> [[psysml:ebac0614-db53-4f6a-a11b-2a64966401ed ]] {\r\n",
       "portout \"mass\" as E11  [[psysml:94298e01-1500-44a7-8244-0cc3e5620ae6 ]] \r\n",
       "portin \"v\" as E12  [[psysml:fabccdcf-1c94-4d5c-8a0b-5626b651aa80 ]] \r\n",
       "}\r\n",
       "\r\n",
       "portout \"result\" as E13  [[psysml:633f1383-e65f-4e22-9e6d-6ffcdde4bc38 ]] \r\n",
       "}\r\n",
       "\r\n",
       "comp usage \"analysisContext\" as E14  <<(T,blue) part>> [[psysml:2f29b586-744b-44a6-b354-0cb36fac52ba ]] {\r\n",
       "}\r\n",
       "comp usage \"analysisPlan: AnalysisPlan \" as E15 << analysis>> [[psysml:cfe8b385-7bc2-406c-91e1-db9911ba5874 ]] {\r\n",
       "}\r\n",
       "comp usage \"obj\" as E16  <<(T,blue) requirement>> [[psysml:63325e1e-8a82-4691-b26b-3354962a7cad ]] {\r\n",
       "}\r\n",
       "}\r\n",
       "E3 - -:|> E2 [[psysml:4413170d-8387-4bcf-a661-a8e63eefb5dc ]] \r\n",
       "E14 *- - E15 [[psysml:df4b3059-af15-4a6e-9f16-4ce8d388f00c ]] \r\n",
       "E15 - -:|> E8 [[psysml:b8e5c057-83f1-47ef-94c9-1676b303e623 ]] \r\n",
       "E15 - ->> \"1\"E16 [[psysml:7d3bd451-2ef5-4e75-9594-2e0dd7330291 ]] : <<objective>>\r\n",
       "@enduml\r\n",
       "\n",
       "PlantUML version 1.2020.13(Sat Jun 13 12:26:38 UTC 2020)\n",
       "(EPL source distribution)\n",
       "Java Runtime: OpenJDK Runtime Environment\n",
       "JVM: OpenJDK 64-Bit Server VM\n",
       "Default Encoding: UTF-8\n",
       "Language: en\n",
       "Country: null\n",
       "--></g></svg>"
      ]
     },
     "execution_count": 51,
     "metadata": {},
     "output_type": "execute_result"
    }
   ],
   "source": [
    "%viz --style=\"ORTHOLINE\" --view=\"Default\" \"AnalysisTest\""
   ]
  },
  {
   "cell_type": "code",
   "execution_count": 52,
   "id": "0db56155",
   "metadata": {
    "execution": {
     "iopub.execute_input": "2021-11-13T12:57:21.825947Z",
     "iopub.status.busy": "2021-11-13T12:57:21.825537Z",
     "iopub.status.idle": "2021-11-13T12:57:21.903368Z",
     "shell.execute_reply": "2021-11-13T12:57:21.901420Z"
    }
   },
   "outputs": [
    {
     "data": {
      "image/svg+xml": [
       "<?xml version=\"1.0\" encoding=\"UTF-8\" standalone=\"no\"?><svg xmlns=\"http://www.w3.org/2000/svg\" xmlns:xlink=\"http://www.w3.org/1999/xlink\" contentScriptType=\"application/ecmascript\" contentStyleType=\"text/css\" height=\"923px\" preserveAspectRatio=\"none\" style=\"width:449px;height:923px;\" version=\"1.1\" viewBox=\"0 0 449 923\" width=\"449px\" zoomAndPan=\"magnify\"><defs/><g><!--MD5=[fbc87193dbaf4d95561dea2c320d4a47]\n",
       "cluster E1--><a href=\"psysml:d47d9c93-f987-42aa-9c82-a11afa9e7a85\" target=\"_top\" title=\"psysml:d47d9c93-f987-42aa-9c82-a11afa9e7a85\" xlink:actuate=\"onRequest\" xlink:href=\"psysml:d47d9c93-f987-42aa-9c82-a11afa9e7a85\" xlink:show=\"new\" xlink:title=\"psysml:d47d9c93-f987-42aa-9c82-a11afa9e7a85\" xlink:type=\"simple\"><polygon fill=\"#FFFFFF\" points=\"16,6,108,6,115,28.2969,427,28.2969,427,911,16,911,16,6\" style=\"stroke: #000000; stroke-width: 1.5;\"/><line style=\"stroke: #000000; stroke-width: 1.5;\" x1=\"16\" x2=\"115\" y1=\"28.2969\" y2=\"28.2969\"/><text fill=\"#000000\" font-family=\"sans-serif\" font-size=\"14\" font-weight=\"bold\" lengthAdjust=\"spacingAndGlyphs\" textLength=\"86\" x=\"20\" y=\"20.9951\">AnalysisTest</text></a><!--MD5=[b4997ac47864f28c2f74865a473b2911]\n",
       "class E2--><a href=\"psysml:6e318fc7-f06d-4e4c-8e44-1e6d0f884455\" target=\"_top\" title=\"psysml:6e318fc7-f06d-4e4c-8e44-1e6d0f884455\" xlink:actuate=\"onRequest\" xlink:href=\"psysml:6e318fc7-f06d-4e4c-8e44-1e6d0f884455\" xlink:show=\"new\" xlink:title=\"psysml:6e318fc7-f06d-4e4c-8e44-1e6d0f884455\" xlink:type=\"simple\"><rect fill=\"#FFFFFF\" height=\"75.5469\" id=\"E2\" style=\"stroke: #383838; stroke-width: 1.5;\" width=\"70\" x=\"156\" y=\"691\"/><text fill=\"#000000\" font-family=\"sans-serif\" font-size=\"12\" font-style=\"italic\" lengthAdjust=\"spacingAndGlyphs\" textLength=\"68\" x=\"157\" y=\"707.1387\">«part  def»</text><text fill=\"#000000\" font-family=\"sans-serif\" font-size=\"12\" lengthAdjust=\"spacingAndGlyphs\" textLength=\"8\" x=\"187\" y=\"721.1074\">V</text><line style=\"stroke: #383838; stroke-width: 1.5;\" x1=\"157\" x2=\"225\" y1=\"728.9375\" y2=\"728.9375\"/><text fill=\"#000000\" font-family=\"sans-serif\" font-size=\"11\" lengthAdjust=\"spacingAndGlyphs\" textLength=\"11\" x=\"162\" y=\"759.9526\">m</text><line style=\"stroke: #383838; stroke-width: 1.0;\" x1=\"157\" x2=\"160\" y1=\"743.3398\" y2=\"743.3398\"/><text fill=\"#000000\" font-family=\"sans-serif\" font-size=\"11\" lengthAdjust=\"spacingAndGlyphs\" textLength=\"62\" x=\"160\" y=\"746.6479\">references</text><line style=\"stroke: #383838; stroke-width: 1.0;\" x1=\"222\" x2=\"225\" y1=\"743.3398\" y2=\"743.3398\"/></a><!--MD5=[09b614a08d8cba4a07c9adeb5e0fee81]\n",
       "class E3--><a href=\"psysml:27999d5c-daad-4ed7-92ff-020a622ea083\" target=\"_top\" title=\"psysml:27999d5c-daad-4ed7-92ff-020a622ea083\" xlink:actuate=\"onRequest\" xlink:href=\"psysml:27999d5c-daad-4ed7-92ff-020a622ea083\" xlink:show=\"new\" xlink:title=\"psysml:27999d5c-daad-4ed7-92ff-020a622ea083\" xlink:type=\"simple\"><rect fill=\"#FFFFFF\" height=\"45.9375\" id=\"E3\" rx=\"10\" ry=\"10\" style=\"stroke: #383838; stroke-width: 1.5;\" width=\"42\" x=\"198\" y=\"553\"/><text fill=\"#000000\" font-family=\"sans-serif\" font-size=\"12\" font-style=\"italic\" lengthAdjust=\"spacingAndGlyphs\" textLength=\"40\" x=\"199\" y=\"569.1387\">«part»</text><text fill=\"#000000\" font-family=\"sans-serif\" font-size=\"12\" lengthAdjust=\"spacingAndGlyphs\" textLength=\"28\" x=\"203\" y=\"583.1074\">vv: V</text><line style=\"stroke: #383838; stroke-width: 1.5;\" x1=\"199\" x2=\"239\" y1=\"590.9375\" y2=\"590.9375\"/></a><!--MD5=[ebbe1d658d1005bcc118a6aa81145e00]\n",
       "class E4--><a href=\"psysml:31fce779-d9ab-452b-8111-7f3c68bff972\" target=\"_top\" title=\"psysml:31fce779-d9ab-452b-8111-7f3c68bff972\" xlink:actuate=\"onRequest\" xlink:href=\"psysml:31fce779-d9ab-452b-8111-7f3c68bff972\" xlink:show=\"new\" xlink:title=\"psysml:31fce779-d9ab-452b-8111-7f3c68bff972\" xlink:type=\"simple\"><rect fill=\"#FFFFFF\" height=\"66.7422\" id=\"E4\" style=\"stroke: #383838; stroke-width: 1.5;\" width=\"121\" x=\"275.5\" y=\"828\"/><text fill=\"#000000\" font-family=\"sans-serif\" font-size=\"12\" font-style=\"italic\" lengthAdjust=\"spacingAndGlyphs\" textLength=\"119\" x=\"276.5\" y=\"844.1387\">«requirement  def»</text><text fill=\"#000000\" font-family=\"sans-serif\" font-size=\"12\" lengthAdjust=\"spacingAndGlyphs\" textLength=\"107\" x=\"282.5\" y=\"858.1074\">AnalysisObjective</text><line style=\"stroke: #383838; stroke-width: 1.5;\" x1=\"276.5\" x2=\"395.5\" y1=\"865.9375\" y2=\"865.9375\"/><text fill=\"#000000\" font-family=\"sans-serif\" font-size=\"11\" lengthAdjust=\"spacingAndGlyphs\" textLength=\"12\" x=\"281.5\" y=\"880.1479\">...</text><line style=\"stroke: #383838; stroke-width: 1.0;\" x1=\"276.5\" x2=\"395.5\" y1=\"886.7422\" y2=\"886.7422\"/></a><!--MD5=[270fce915f116d4de14055a7c1d9a0f3]\n",
       "class E5--><a href=\"psysml:0d42cad1-3808-4e7b-8fe6-f660e27fd2bd\" target=\"_top\" title=\"psysml:0d42cad1-3808-4e7b-8fe6-f660e27fd2bd\" xlink:actuate=\"onRequest\" xlink:href=\"psysml:0d42cad1-3808-4e7b-8fe6-f660e27fd2bd\" xlink:show=\"new\" xlink:title=\"psysml:0d42cad1-3808-4e7b-8fe6-f660e27fd2bd\" xlink:type=\"simple\"><rect fill=\"#FFFFFF\" height=\"75.5469\" id=\"E5\" style=\"stroke: #383838; stroke-width: 1.5;\" width=\"136\" x=\"275\" y=\"538\"/><text fill=\"#000000\" font-family=\"sans-serif\" font-size=\"12\" font-style=\"italic\" lengthAdjust=\"spacingAndGlyphs\" textLength=\"88\" x=\"299\" y=\"554.1387\">«analysis def»</text><text fill=\"#000000\" font-family=\"sans-serif\" font-size=\"12\" lengthAdjust=\"spacingAndGlyphs\" textLength=\"81\" x=\"302.5\" y=\"568.1074\">AnalysisCase</text><line style=\"stroke: #383838; stroke-width: 1.5;\" x1=\"276\" x2=\"410\" y1=\"575.9375\" y2=\"575.9375\"/><text fill=\"#000000\" font-family=\"sans-serif\" font-size=\"11\" lengthAdjust=\"spacingAndGlyphs\" textLength=\"43\" x=\"281\" y=\"606.9526\">{ v.m }</text><line style=\"stroke: #383838; stroke-width: 1.0;\" x1=\"276\" x2=\"279\" y1=\"590.3398\" y2=\"590.3398\"/><text fill=\"#000000\" font-family=\"sans-serif\" font-size=\"11\" lengthAdjust=\"spacingAndGlyphs\" textLength=\"128\" x=\"279\" y=\"593.6479\">path step expressions</text><line style=\"stroke: #383838; stroke-width: 1.0;\" x1=\"407\" x2=\"410\" y1=\"590.3398\" y2=\"590.3398\"/></a><!--MD5=[60a26617385b1d2d0262a64233df1f8d]\n",
       "class E6--><a href=\"psysml:b64c7347-1249-45eb-ab10-0bf79737e87a\" target=\"_top\" title=\"psysml:b64c7347-1249-45eb-ab10-0bf79737e87a\" xlink:actuate=\"onRequest\" xlink:href=\"psysml:b64c7347-1249-45eb-ab10-0bf79737e87a\" xlink:show=\"new\" xlink:title=\"psysml:b64c7347-1249-45eb-ab10-0bf79737e87a\" xlink:type=\"simple\"><rect fill=\"#FFFFFF\" height=\"45.9375\" id=\"E6\" rx=\"10\" ry=\"10\" style=\"stroke: #383838; stroke-width: 1.5;\" width=\"144\" x=\"264\" y=\"706\"/><text fill=\"#000000\" font-family=\"sans-serif\" font-size=\"12\" font-style=\"italic\" lengthAdjust=\"spacingAndGlyphs\" textLength=\"91\" x=\"290.5\" y=\"722.1387\">«requirement»</text><text fill=\"#000000\" font-family=\"sans-serif\" font-size=\"12\" lengthAdjust=\"spacingAndGlyphs\" textLength=\"134\" x=\"267\" y=\"736.1074\">obj: AnalysisObjective</text><line style=\"stroke: #383838; stroke-width: 1.5;\" x1=\"265\" x2=\"407\" y1=\"743.9375\" y2=\"743.9375\"/></a><!--MD5=[2156ba9850f5573cc1fc38a6a4b2f02b]\n",
       "class E7--><a href=\"psysml:058a72e0-0a98-4261-856d-73366cf47a25\" target=\"_top\" title=\"psysml:058a72e0-0a98-4261-856d-73366cf47a25\" xlink:actuate=\"onRequest\" xlink:href=\"psysml:058a72e0-0a98-4261-856d-73366cf47a25\" xlink:show=\"new\" xlink:title=\"psysml:058a72e0-0a98-4261-856d-73366cf47a25\" xlink:type=\"simple\"><rect fill=\"#FFFFFF\" height=\"45.9375\" id=\"E7\" style=\"stroke: #383838; stroke-width: 1.5;\" width=\"90\" x=\"104\" y=\"271\"/><text fill=\"#000000\" font-family=\"sans-serif\" font-size=\"12\" font-style=\"italic\" lengthAdjust=\"spacingAndGlyphs\" textLength=\"88\" x=\"105\" y=\"287.1387\">«analysis def»</text><text fill=\"#000000\" font-family=\"sans-serif\" font-size=\"12\" lengthAdjust=\"spacingAndGlyphs\" textLength=\"77\" x=\"110.5\" y=\"301.1074\">AnalysisPlan</text><line style=\"stroke: #383838; stroke-width: 1.5;\" x1=\"105\" x2=\"193\" y1=\"308.9375\" y2=\"308.9375\"/></a><!--MD5=[b9389687b975829384b498ac4b7476b2]\n",
       "class E8--><a href=\"psysml:185eeef5-681f-4700-9ef2-09baff1a4526\" target=\"_top\" title=\"psysml:185eeef5-681f-4700-9ef2-09baff1a4526\" xlink:actuate=\"onRequest\" xlink:href=\"psysml:185eeef5-681f-4700-9ef2-09baff1a4526\" xlink:show=\"new\" xlink:title=\"psysml:185eeef5-681f-4700-9ef2-09baff1a4526\" xlink:type=\"simple\"><rect fill=\"#FFFFFF\" height=\"66.7422\" id=\"E8\" rx=\"10\" ry=\"10\" style=\"stroke: #383838; stroke-width: 1.5;\" width=\"93\" x=\"102.5\" y=\"394\"/><text fill=\"#000000\" font-family=\"sans-serif\" font-size=\"12\" font-style=\"italic\" lengthAdjust=\"spacingAndGlyphs\" textLength=\"91\" x=\"103.5\" y=\"410.1387\">«requirement»</text><text fill=\"#000000\" font-family=\"sans-serif\" font-size=\"12\" lengthAdjust=\"spacingAndGlyphs\" textLength=\"19\" x=\"139.5\" y=\"424.1074\">obj</text><line style=\"stroke: #383838; stroke-width: 1.5;\" x1=\"103.5\" x2=\"194.5\" y1=\"431.9375\" y2=\"431.9375\"/><text fill=\"#000000\" font-family=\"sans-serif\" font-size=\"11\" lengthAdjust=\"spacingAndGlyphs\" textLength=\"12\" x=\"108.5\" y=\"446.1479\">...</text><line style=\"stroke: #383838; stroke-width: 1.0;\" x1=\"103.5\" x2=\"194.5\" y1=\"452.7422\" y2=\"452.7422\"/></a><!--MD5=[fd4143e9d270a159db93a4ea2a975926]\n",
       "class E9--><a href=\"psysml:ebac0614-db53-4f6a-a11b-2a64966401ed\" target=\"_top\" title=\"psysml:ebac0614-db53-4f6a-a11b-2a64966401ed\" xlink:actuate=\"onRequest\" xlink:href=\"psysml:ebac0614-db53-4f6a-a11b-2a64966401ed\" xlink:show=\"new\" xlink:title=\"psysml:ebac0614-db53-4f6a-a11b-2a64966401ed\" xlink:type=\"simple\"><rect fill=\"#FFFFFF\" height=\"45.9375\" id=\"E9\" rx=\"10\" ry=\"10\" style=\"stroke: #383838; stroke-width: 1.5;\" width=\"180\" x=\"231\" y=\"404.5\"/><text fill=\"#000000\" font-family=\"sans-serif\" font-size=\"12\" font-style=\"italic\" lengthAdjust=\"spacingAndGlyphs\" textLength=\"64\" x=\"289\" y=\"420.6387\">«analysis»</text><text fill=\"#000000\" font-family=\"sans-serif\" font-size=\"12\" lengthAdjust=\"spacingAndGlyphs\" textLength=\"170\" x=\"234\" y=\"434.6074\">analysisCase: AnalysisCase</text><line style=\"stroke: #383838; stroke-width: 1.5;\" x1=\"232\" x2=\"410\" y1=\"442.4375\" y2=\"442.4375\"/></a><!--MD5=[96f4274e9e20536e775497830990834d]\n",
       "class E10--><a href=\"psysml:885560a7-695c-4aea-bf29-e47629fa314b\" target=\"_top\" title=\"psysml:885560a7-695c-4aea-bf29-e47629fa314b\" xlink:actuate=\"onRequest\" xlink:href=\"psysml:885560a7-695c-4aea-bf29-e47629fa314b\" xlink:show=\"new\" xlink:title=\"psysml:885560a7-695c-4aea-bf29-e47629fa314b\" xlink:type=\"simple\"><rect fill=\"#FFFFFF\" height=\"45.9375\" id=\"E10\" rx=\"10\" ry=\"10\" style=\"stroke: #383838; stroke-width: 1.5;\" width=\"93\" x=\"69.5\" y=\"553\"/><text fill=\"#000000\" font-family=\"sans-serif\" font-size=\"12\" font-style=\"italic\" lengthAdjust=\"spacingAndGlyphs\" textLength=\"91\" x=\"70.5\" y=\"569.1387\">«requirement»</text><text fill=\"#000000\" font-family=\"sans-serif\" font-size=\"12\" lengthAdjust=\"spacingAndGlyphs\" textLength=\"19\" x=\"106.5\" y=\"583.1074\">obj</text><line style=\"stroke: #383838; stroke-width: 1.5;\" x1=\"70.5\" x2=\"161.5\" y1=\"590.9375\" y2=\"590.9375\"/></a><!--MD5=[1dd1bfd58a279cf63c5f349dbc8fc6a1]\n",
       "class E11--><a href=\"psysml:2f29b586-744b-44a6-b354-0cb36fac52ba\" target=\"_top\" title=\"psysml:2f29b586-744b-44a6-b354-0cb36fac52ba\" xlink:actuate=\"onRequest\" xlink:href=\"psysml:2f29b586-744b-44a6-b354-0cb36fac52ba\" xlink:show=\"new\" xlink:title=\"psysml:2f29b586-744b-44a6-b354-0cb36fac52ba\" xlink:type=\"simple\"><rect fill=\"#FFFFFF\" height=\"45.9375\" id=\"E11\" rx=\"10\" ry=\"10\" style=\"stroke: #383838; stroke-width: 1.5;\" width=\"104\" x=\"160\" y=\"41\"/><text fill=\"#000000\" font-family=\"sans-serif\" font-size=\"12\" font-style=\"italic\" lengthAdjust=\"spacingAndGlyphs\" textLength=\"40\" x=\"192\" y=\"57.1387\">«part»</text><text fill=\"#000000\" font-family=\"sans-serif\" font-size=\"12\" lengthAdjust=\"spacingAndGlyphs\" textLength=\"98\" x=\"163\" y=\"71.1074\">analysisContext</text><line style=\"stroke: #383838; stroke-width: 1.5;\" x1=\"161\" x2=\"263\" y1=\"78.9375\" y2=\"78.9375\"/></a><!--MD5=[49a0ec8f00dab7302a31f22d0f0fe584]\n",
       "class E12--><a href=\"psysml:cfe8b385-7bc2-406c-91e1-db9911ba5874\" target=\"_top\" title=\"psysml:cfe8b385-7bc2-406c-91e1-db9911ba5874\" xlink:actuate=\"onRequest\" xlink:href=\"psysml:cfe8b385-7bc2-406c-91e1-db9911ba5874\" xlink:show=\"new\" xlink:title=\"psysml:cfe8b385-7bc2-406c-91e1-db9911ba5874\" xlink:type=\"simple\"><rect fill=\"#FFFFFF\" height=\"45.9375\" id=\"E12\" rx=\"10\" ry=\"10\" style=\"stroke: #383838; stroke-width: 1.5;\" width=\"172\" x=\"126\" y=\"148\"/><text fill=\"#000000\" font-family=\"sans-serif\" font-size=\"12\" font-style=\"italic\" lengthAdjust=\"spacingAndGlyphs\" textLength=\"64\" x=\"180\" y=\"164.1387\">«analysis»</text><text fill=\"#000000\" font-family=\"sans-serif\" font-size=\"12\" lengthAdjust=\"spacingAndGlyphs\" textLength=\"162\" x=\"129\" y=\"178.1074\">analysisPlan: AnalysisPlan</text><line style=\"stroke: #383838; stroke-width: 1.5;\" x1=\"127\" x2=\"297\" y1=\"185.9375\" y2=\"185.9375\"/></a><!--MD5=[ee3c913d1a06f366521f9ef512b67efe]\n",
       "class E13--><a href=\"psysml:63325e1e-8a82-4691-b26b-3354962a7cad\" target=\"_top\" title=\"psysml:63325e1e-8a82-4691-b26b-3354962a7cad\" xlink:actuate=\"onRequest\" xlink:href=\"psysml:63325e1e-8a82-4691-b26b-3354962a7cad\" xlink:show=\"new\" xlink:title=\"psysml:63325e1e-8a82-4691-b26b-3354962a7cad\" xlink:type=\"simple\"><rect fill=\"#FFFFFF\" height=\"45.9375\" id=\"E13\" rx=\"10\" ry=\"10\" style=\"stroke: #383838; stroke-width: 1.5;\" width=\"93\" x=\"229.5\" y=\"271\"/><text fill=\"#000000\" font-family=\"sans-serif\" font-size=\"12\" font-style=\"italic\" lengthAdjust=\"spacingAndGlyphs\" textLength=\"91\" x=\"230.5\" y=\"287.1387\">«requirement»</text><text fill=\"#000000\" font-family=\"sans-serif\" font-size=\"12\" lengthAdjust=\"spacingAndGlyphs\" textLength=\"19\" x=\"266.5\" y=\"301.1074\">obj</text><line style=\"stroke: #383838; stroke-width: 1.5;\" x1=\"230.5\" x2=\"321.5\" y1=\"308.9375\" y2=\"308.9375\"/></a><!--MD5=[05d275557350bfb9b23a4ef7222b4c39]\n",
       "link E3 to E2--><a href=\"psysml:4413170d-8387-4bcf-a661-a8e63eefb5dc\" target=\"_top\" title=\"psysml:4413170d-8387-4bcf-a661-a8e63eefb5dc\" xlink:actuate=\"onRequest\" xlink:href=\"psysml:4413170d-8387-4bcf-a661-a8e63eefb5dc\" xlink:show=\"new\" xlink:title=\"psysml:4413170d-8387-4bcf-a661-a8e63eefb5dc\" xlink:type=\"simple\"><path d=\"M207.33,599.24 C207.33,599.24 207.33,670.94 207.33,670.94 \" fill=\"none\" id=\"E3-&gt;E2\" style=\"stroke: #383838; stroke-width: 1.0;\"/><polygon fill=\"#FFFFFF\" points=\"207.33,690.94,200.33,671.94,214.33,671.94,207.33,690.94\" style=\"stroke: #383838; stroke-width: 1.0;\"/><ellipse cx=\"202.33\" cy=\"666.24\" fill=\"#383838\" rx=\"2\" ry=\"2\" style=\"stroke: #383838; stroke-width: 1.0;\"/><ellipse cx=\"212.33\" cy=\"666.24\" fill=\"#383838\" rx=\"2\" ry=\"2\" style=\"stroke: #383838; stroke-width: 1.0;\"/></a><!--MD5=[15ebcb19ae302d9b601edb458606d402]\n",
       "link E5 to E2--><a href=\"psysml:0e59658b-8c20-4184-9a82-84e161b0c6e1\" target=\"_top\" title=\"psysml:0e59658b-8c20-4184-9a82-84e161b0c6e1\" xlink:actuate=\"onRequest\" xlink:href=\"psysml:0e59658b-8c20-4184-9a82-84e161b0c6e1\" xlink:show=\"new\" xlink:title=\"psysml:0e59658b-8c20-4184-9a82-84e161b0c6e1\" xlink:type=\"simple\"><path d=\"M274.66,607 C244.89,607 216.67,607 216.67,607 C216.67,607 216.67,685.73 216.67,685.73 \" fill=\"none\" id=\"E5-&gt;E2\" style=\"stroke: #383838; stroke-width: 1.0; stroke-dasharray: 7.0,7.0;\"/><polygon fill=\"#383838\" points=\"216.67,690.73,220.67,681.73,216.67,685.73,212.67,681.73,216.67,690.73\" style=\"stroke: #383838; stroke-width: 1.0;\"/><text fill=\"#000000\" font-family=\"sans-serif\" font-size=\"13\" lengthAdjust=\"spacingAndGlyphs\" textLength=\"62\" x=\"233\" y=\"657.0669\">«subject»</text></a><!--MD5=[9120cf2e5df3bff93db8f754bbbc09b4]\n",
       "link E5 to E6--><a href=\"psysml:0aba1a21-1a42-4d2b-97f5-c2cba04c9345\" target=\"_top\" title=\"psysml:0aba1a21-1a42-4d2b-97f5-c2cba04c9345\" xlink:actuate=\"onRequest\" xlink:href=\"psysml:0aba1a21-1a42-4d2b-97f5-c2cba04c9345\" xlink:show=\"new\" xlink:title=\"psysml:0aba1a21-1a42-4d2b-97f5-c2cba04c9345\" xlink:type=\"simple\"><path d=\"M341.5,614.21 C341.5,614.21 341.5,697.98 341.5,697.98 \" fill=\"none\" id=\"E5-&gt;E6\" style=\"stroke: #383838; stroke-width: 1.0;\"/><polygon fill=\"#383838\" points=\"341.5,705.98,344.5,697.98,338.5,697.98,341.5,705.98\" style=\"stroke: #383838; stroke-width: 1.0;\"/><text fill=\"#000000\" font-family=\"sans-serif\" font-size=\"13\" lengthAdjust=\"spacingAndGlyphs\" textLength=\"73\" x=\"337\" y=\"657.0669\">«objective»</text></a><!--MD5=[f667431f98296947986a1a7595a31603]\n",
       "link E6 to E4--><a href=\"psysml:32f59106-5f4c-4aec-8305-226899de5705\" target=\"_top\" title=\"psysml:32f59106-5f4c-4aec-8305-226899de5705\" xlink:actuate=\"onRequest\" xlink:href=\"psysml:32f59106-5f4c-4aec-8305-226899de5705\" xlink:show=\"new\" xlink:title=\"psysml:32f59106-5f4c-4aec-8305-226899de5705\" xlink:type=\"simple\"><path d=\"M336,752.08 C336,752.08 336,807.75 336,807.75 \" fill=\"none\" id=\"E6-&gt;E4\" style=\"stroke: #383838; stroke-width: 1.0;\"/><polygon fill=\"#FFFFFF\" points=\"336,827.75,329,808.75,343,808.75,336,827.75\" style=\"stroke: #383838; stroke-width: 1.0;\"/><ellipse cx=\"331\" cy=\"803.05\" fill=\"#383838\" rx=\"2\" ry=\"2\" style=\"stroke: #383838; stroke-width: 1.0;\"/><ellipse cx=\"341\" cy=\"803.05\" fill=\"#383838\" rx=\"2\" ry=\"2\" style=\"stroke: #383838; stroke-width: 1.0;\"/></a><!--MD5=[583832df87f4419a098336a29a52fa00]\n",
       "link E7 to E2--><a href=\"psysml:1b5baffb-8729-41ae-bce6-1275f3b8062c\" target=\"_top\" title=\"psysml:1b5baffb-8729-41ae-bce6-1275f3b8062c\" xlink:actuate=\"onRequest\" xlink:href=\"psysml:1b5baffb-8729-41ae-bce6-1275f3b8062c\" xlink:show=\"new\" xlink:title=\"psysml:1b5baffb-8729-41ae-bce6-1275f3b8062c\" xlink:type=\"simple\"><path d=\"M103.96,294 C78.41,294 51.5,294 51.5,294 C51.5,294 51.5,729 51.5,729 C51.5,729 150.8,729 150.8,729 \" fill=\"none\" id=\"E7-&gt;E2\" style=\"stroke: #383838; stroke-width: 1.0; stroke-dasharray: 7.0,7.0;\"/><polygon fill=\"#383838\" points=\"155.8,729,146.8,725,150.8,729,146.8,733,155.8,729\" style=\"stroke: #383838; stroke-width: 1.0;\"/><text fill=\"#000000\" font-family=\"sans-serif\" font-size=\"13\" lengthAdjust=\"spacingAndGlyphs\" textLength=\"62\" x=\"68\" y=\"504.0669\">«subject»</text></a><!--MD5=[79bc8f324ef4d02c541433f2e6e513c3]\n",
       "link E7 to E8--><a href=\"psysml:90e157ee-5294-4f98-a807-291d927bb48a\" target=\"_top\" title=\"psysml:90e157ee-5294-4f98-a807-291d927bb48a\" xlink:actuate=\"onRequest\" xlink:href=\"psysml:90e157ee-5294-4f98-a807-291d927bb48a\" xlink:show=\"new\" xlink:title=\"psysml:90e157ee-5294-4f98-a807-291d927bb48a\" xlink:type=\"simple\"><path d=\"M149,317.25 C149,317.25 149,385.75 149,385.75 \" fill=\"none\" id=\"E7-&gt;E8\" style=\"stroke: #383838; stroke-width: 1.0;\"/><polygon fill=\"#383838\" points=\"149,393.75,152,385.75,146,385.75,149,393.75\" style=\"stroke: #383838; stroke-width: 1.0;\"/><text fill=\"#000000\" font-family=\"sans-serif\" font-size=\"13\" lengthAdjust=\"spacingAndGlyphs\" textLength=\"73\" x=\"150\" y=\"360.0669\">«objective»</text><text fill=\"#000000\" font-family=\"sans-serif\" font-size=\"13\" lengthAdjust=\"spacingAndGlyphs\" textLength=\"8\" x=\"140.2375\" y=\"382.9908\">1</text></a><!--MD5=[e4a10ef82d0e328e31cac39a31e58dda]\n",
       "reverse link E7 to E9--><a href=\"psysml:5b13e274-498b-4649-80bb-2ca5d783c8e3\" target=\"_top\" title=\"psysml:5b13e274-498b-4649-80bb-2ca5d783c8e3\" xlink:actuate=\"onRequest\" xlink:href=\"psysml:5b13e274-498b-4649-80bb-2ca5d783c8e3\" xlink:show=\"new\" xlink:title=\"psysml:5b13e274-498b-4649-80bb-2ca5d783c8e3\" xlink:type=\"simple\"><path d=\"M207.32,294 C207.32,294 213.75,294 213.75,294 C213.75,294 213.75,428 213.75,428 C213.75,428 220.66,428 230.98,428 \" fill=\"none\" id=\"E7&lt;-E9\" style=\"stroke: #383838; stroke-width: 1.0;\"/><polygon fill=\"#383838\" points=\"194.32,294,200.32,298,206.32,294,200.32,290,194.32,294\" style=\"stroke: #383838; stroke-width: 1.0;\"/></a><!--MD5=[bfc3ddf2e613be37104f658f09af896c]\n",
       "link E9 to E5--><a href=\"psysml:2720ff20-3733-452c-91c5-acd446f65b05\" target=\"_top\" title=\"psysml:2720ff20-3733-452c-91c5-acd446f65b05\" xlink:actuate=\"onRequest\" xlink:href=\"psysml:2720ff20-3733-452c-91c5-acd446f65b05\" xlink:show=\"new\" xlink:title=\"psysml:2720ff20-3733-452c-91c5-acd446f65b05\" xlink:type=\"simple\"><path d=\"M343,450.7 C343,450.7 343,517.95 343,517.95 \" fill=\"none\" id=\"E9-&gt;E5\" style=\"stroke: #383838; stroke-width: 1.0;\"/><polygon fill=\"#FFFFFF\" points=\"343,537.95,336,518.95,350,518.95,343,537.95\" style=\"stroke: #383838; stroke-width: 1.0;\"/><ellipse cx=\"338\" cy=\"513.25\" fill=\"#383838\" rx=\"2\" ry=\"2\" style=\"stroke: #383838; stroke-width: 1.0;\"/><ellipse cx=\"348\" cy=\"513.25\" fill=\"#383838\" rx=\"2\" ry=\"2\" style=\"stroke: #383838; stroke-width: 1.0;\"/></a><!--MD5=[35e5f1cbde42fa304a029880aa2bc7f2]\n",
       "link E9 to E10--><a href=\"psysml:207a8d5d-7cc5-465d-969c-ac78b140bf51\" target=\"_top\" title=\"psysml:207a8d5d-7cc5-465d-969c-ac78b140bf51\" xlink:actuate=\"onRequest\" xlink:href=\"psysml:207a8d5d-7cc5-465d-969c-ac78b140bf51\" xlink:show=\"new\" xlink:title=\"psysml:207a8d5d-7cc5-465d-969c-ac78b140bf51\" xlink:type=\"simple\"><path d=\"M235.5,450.84 C235.5,472.03 235.5,500 235.5,500 C235.5,500 132.5,500 132.5,500 C132.5,500 132.5,544.78 132.5,544.78 \" fill=\"none\" id=\"E9-&gt;E10\" style=\"stroke: #383838; stroke-width: 1.0;\"/><polygon fill=\"#383838\" points=\"132.5,552.78,135.5,544.78,129.5,544.78,132.5,552.78\" style=\"stroke: #383838; stroke-width: 1.0;\"/><text fill=\"#000000\" font-family=\"sans-serif\" font-size=\"13\" lengthAdjust=\"spacingAndGlyphs\" textLength=\"73\" x=\"218\" y=\"504.0669\">«objective»</text></a><!--MD5=[94adabc162ce7e41b39f13be14fbaeb3]\n",
       "reverse link E11 to E12--><a href=\"psysml:df4b3059-af15-4a6e-9f16-4ce8d388f00c\" target=\"_top\" title=\"psysml:df4b3059-af15-4a6e-9f16-4ce8d388f00c\" xlink:actuate=\"onRequest\" xlink:href=\"psysml:df4b3059-af15-4a6e-9f16-4ce8d388f00c\" xlink:show=\"new\" xlink:title=\"psysml:df4b3059-af15-4a6e-9f16-4ce8d388f00c\" xlink:type=\"simple\"><path d=\"M212,100.22 C212,100.22 212,147.83 212,147.83 \" fill=\"none\" id=\"E11&lt;-E12\" style=\"stroke: #383838; stroke-width: 1.0;\"/><polygon fill=\"#383838\" points=\"212,87.22,208,93.22,212,99.22,216,93.22,212,87.22\" style=\"stroke: #383838; stroke-width: 1.0;\"/></a><!--MD5=[ae660f5ecd7ddb04a8913625960940af]\n",
       "link E12 to E7--><a href=\"psysml:b8e5c057-83f1-47ef-94c9-1676b303e623\" target=\"_top\" title=\"psysml:b8e5c057-83f1-47ef-94c9-1676b303e623\" xlink:actuate=\"onRequest\" xlink:href=\"psysml:b8e5c057-83f1-47ef-94c9-1676b303e623\" xlink:show=\"new\" xlink:title=\"psysml:b8e5c057-83f1-47ef-94c9-1676b303e623\" xlink:type=\"simple\"><path d=\"M160,194.14 C160,194.14 160,250.97 160,250.97 \" fill=\"none\" id=\"E12-&gt;E7\" style=\"stroke: #383838; stroke-width: 1.0;\"/><polygon fill=\"#FFFFFF\" points=\"160,270.97,153,251.97,167,251.97,160,270.97\" style=\"stroke: #383838; stroke-width: 1.0;\"/><ellipse cx=\"155\" cy=\"246.27\" fill=\"#383838\" rx=\"2\" ry=\"2\" style=\"stroke: #383838; stroke-width: 1.0;\"/><ellipse cx=\"165\" cy=\"246.27\" fill=\"#383838\" rx=\"2\" ry=\"2\" style=\"stroke: #383838; stroke-width: 1.0;\"/></a><!--MD5=[e2a9ac97dcd3257bb5342dae06547bad]\n",
       "link E12 to E13--><a href=\"psysml:7d3bd451-2ef5-4e75-9594-2e0dd7330291\" target=\"_top\" title=\"psysml:7d3bd451-2ef5-4e75-9594-2e0dd7330291\" xlink:actuate=\"onRequest\" xlink:href=\"psysml:7d3bd451-2ef5-4e75-9594-2e0dd7330291\" xlink:show=\"new\" xlink:title=\"psysml:7d3bd451-2ef5-4e75-9594-2e0dd7330291\" xlink:type=\"simple\"><path d=\"M263.75,194.14 C263.75,194.14 263.75,262.97 263.75,262.97 \" fill=\"none\" id=\"E12-&gt;E13\" style=\"stroke: #383838; stroke-width: 1.0;\"/><polygon fill=\"#383838\" points=\"263.75,270.97,266.75,262.97,260.75,262.97,263.75,270.97\" style=\"stroke: #383838; stroke-width: 1.0;\"/><text fill=\"#000000\" font-family=\"sans-serif\" font-size=\"13\" lengthAdjust=\"spacingAndGlyphs\" textLength=\"73\" x=\"255\" y=\"237.0669\">«objective»</text><text fill=\"#000000\" font-family=\"sans-serif\" font-size=\"13\" lengthAdjust=\"spacingAndGlyphs\" textLength=\"8\" x=\"251.3828\" y=\"259.8582\">1</text></a><!--MD5=[06ea5a0dcc03502ea31ab71e02d6fe94]\n",
       "@startuml\r\n",
       "skinparam linetype ortho\r\n",
       "skinparam monochrome true\r\n",
       "skinparam classbackgroundcolor white\r\n",
       "skinparam shadowing false\r\n",
       "skinparam wrapWidth 300\r\n",
       "hide circle\r\n",
       "\r\n",
       "package \"AnalysisTest\" as E1  [[psysml:d47d9c93-f987-42aa-9c82-a11afa9e7a85 ]]  {\r\n",
       "comp def \"V\" as E2  <<(T,blue) part  def>> [[psysml:6e318fc7-f06d-4e4c-8e44-1e6d0f884455 ]] {\r\n",
       "- - references - -\r\n",
       "m\r\n",
       "}\r\n",
       "comp usage \"vv: V \" as E3  <<(T,blue) part>> [[psysml:27999d5c-daad-4ed7-92ff-020a622ea083 ]] {\r\n",
       "}\r\n",
       "comp def \"AnalysisObjective\" as E4  <<(T,blue) requirement  def>> [[psysml:31fce779-d9ab-452b-8111-7f3c68bff972 ]] {\r\n",
       "...\r\n",
       "- -\r\n",
       "}\r\n",
       "comp def \"AnalysisCase\" as E5 << analysis def>> [[psysml:0d42cad1-3808-4e7b-8fe6-f660e27fd2bd ]] {\r\n",
       "- - path step expressions - -\r\n",
       " { v.m }\r\n",
       "}\r\n",
       "comp usage \"obj: AnalysisObjective \" as E6  <<(T,blue) requirement>> [[psysml:b64c7347-1249-45eb-ab10-0bf79737e87a ]] {\r\n",
       "}\r\n",
       "comp def \"AnalysisPlan\" as E7 << analysis def>> [[psysml:058a72e0-0a98-4261-856d-73366cf47a25 ]] {\r\n",
       "}\r\n",
       "comp usage \"obj\" as E8  <<(T,blue) requirement>> [[psysml:185eeef5-681f-4700-9ef2-09baff1a4526 ]] {\r\n",
       "...\r\n",
       "- -\r\n",
       "}\r\n",
       "comp usage \"analysisCase: AnalysisCase \" as E9 << analysis>> [[psysml:ebac0614-db53-4f6a-a11b-2a64966401ed ]] {\r\n",
       "}\r\n",
       "comp usage \"obj\" as E10  <<(T,blue) requirement>> [[psysml:885560a7-695c-4aea-bf29-e47629fa314b ]] {\r\n",
       "}\r\n",
       "comp usage \"analysisContext\" as E11  <<(T,blue) part>> [[psysml:2f29b586-744b-44a6-b354-0cb36fac52ba ]] {\r\n",
       "}\r\n",
       "comp usage \"analysisPlan: AnalysisPlan \" as E12 << analysis>> [[psysml:cfe8b385-7bc2-406c-91e1-db9911ba5874 ]] {\r\n",
       "}\r\n",
       "comp usage \"obj\" as E13  <<(T,blue) requirement>> [[psysml:63325e1e-8a82-4691-b26b-3354962a7cad ]] {\r\n",
       "}\r\n",
       "}\r\n",
       "E3 - -:|> E2 [[psysml:4413170d-8387-4bcf-a661-a8e63eefb5dc ]] \r\n",
       "E5 ..> E2 [[psysml:0e59658b-8c20-4184-9a82-84e161b0c6e1 ]] : <<subject>>\r\n",
       "E5 - ->> E6 [[psysml:0aba1a21-1a42-4d2b-97f5-c2cba04c9345 ]] : <<objective>>\r\n",
       "E6 - -:|> E4 [[psysml:32f59106-5f4c-4aec-8305-226899de5705 ]] \r\n",
       "E7 ..> E2 [[psysml:1b5baffb-8729-41ae-bce6-1275f3b8062c ]] : <<subject>>\r\n",
       "E7 - ->> \"1\"E8 [[psysml:90e157ee-5294-4f98-a807-291d927bb48a ]] : <<objective>>\r\n",
       "E7 *- - E9 [[psysml:5b13e274-498b-4649-80bb-2ca5d783c8e3 ]] \r\n",
       "E9 - -:|> E5 [[psysml:2720ff20-3733-452c-91c5-acd446f65b05 ]] \r\n",
       "E9 - ->> E10 [[psysml:207a8d5d-7cc5-465d-969c-ac78b140bf51 ]] : <<objective>>\r\n",
       "E11 *- - E12 [[psysml:df4b3059-af15-4a6e-9f16-4ce8d388f00c ]] \r\n",
       "E12 - -:|> E7 [[psysml:b8e5c057-83f1-47ef-94c9-1676b303e623 ]] \r\n",
       "E12 - ->> \"1\"E13 [[psysml:7d3bd451-2ef5-4e75-9594-2e0dd7330291 ]] : <<objective>>\r\n",
       "@enduml\r\n",
       "\n",
       "PlantUML version 1.2020.13(Sat Jun 13 12:26:38 UTC 2020)\n",
       "(EPL source distribution)\n",
       "Java Runtime: OpenJDK Runtime Environment\n",
       "JVM: OpenJDK 64-Bit Server VM\n",
       "Default Encoding: UTF-8\n",
       "Language: en\n",
       "Country: null\n",
       "--></g></svg>"
      ]
     },
     "execution_count": 52,
     "metadata": {},
     "output_type": "execute_result"
    }
   ],
   "source": [
    "%viz --style=\"ORTHOLINE\" --view=\"Tree\" \"AnalysisTest\""
   ]
  },
  {
   "cell_type": "code",
   "execution_count": 53,
   "id": "61bf99ee",
   "metadata": {
    "execution": {
     "iopub.execute_input": "2021-11-13T12:57:21.952154Z",
     "iopub.status.busy": "2021-11-13T12:57:21.951751Z",
     "iopub.status.idle": "2021-11-13T12:57:21.955840Z",
     "shell.execute_reply": "2021-11-13T12:57:21.955443Z"
    }
   },
   "outputs": [
    {
     "data": {
      "image/svg+xml": [
       "<?xml version=\"1.0\" encoding=\"UTF-8\" standalone=\"no\"?><svg xmlns=\"http://www.w3.org/2000/svg\" xmlns:xlink=\"http://www.w3.org/1999/xlink\" contentScriptType=\"application/ecmascript\" contentStyleType=\"text/css\" height=\"12px\" preserveAspectRatio=\"none\" style=\"width:12px;height:12px;\" version=\"1.1\" viewBox=\"0 0 12 12\" width=\"12px\" zoomAndPan=\"magnify\"><defs/><g><!--MD5=[97d6f38768b311333d388e66b2b27985]\n",
       "@startuml\r\n",
       "skinparam linetype ortho\r\n",
       "skinparam monochrome true\r\n",
       "skinparam classbackgroundcolor white\r\n",
       "skinparam shadowing false\r\n",
       "skinparam wrapWidth 300\r\n",
       "hide circle\r\n",
       "\r\n",
       "@enduml\r\n",
       "\n",
       "PlantUML version 1.2020.13(Sat Jun 13 12:26:38 UTC 2020)\n",
       "(EPL source distribution)\n",
       "Java Runtime: OpenJDK Runtime Environment\n",
       "JVM: OpenJDK 64-Bit Server VM\n",
       "Default Encoding: UTF-8\n",
       "Language: en\n",
       "Country: null\n",
       "--></g></svg>"
      ]
     },
     "execution_count": 53,
     "metadata": {},
     "output_type": "execute_result"
    }
   ],
   "source": [
    "%viz --style=\"ORTHOLINE\" --view=\"State\" \"AnalysisTest\""
   ]
  },
  {
   "cell_type": "code",
   "execution_count": 54,
   "id": "5eccac0b",
   "metadata": {
    "execution": {
     "iopub.execute_input": "2021-11-13T12:57:22.005171Z",
     "iopub.status.busy": "2021-11-13T12:57:22.004770Z",
     "iopub.status.idle": "2021-11-13T12:57:22.059490Z",
     "shell.execute_reply": "2021-11-13T12:57:22.059139Z"
    }
   },
   "outputs": [
    {
     "data": {
      "image/svg+xml": [
       "<?xml version=\"1.0\" encoding=\"UTF-8\" standalone=\"no\"?><svg xmlns=\"http://www.w3.org/2000/svg\" xmlns:xlink=\"http://www.w3.org/1999/xlink\" contentScriptType=\"application/ecmascript\" contentStyleType=\"text/css\" height=\"446px\" preserveAspectRatio=\"none\" style=\"width:1132px;height:446px;\" version=\"1.1\" viewBox=\"0 0 1132 446\" width=\"1132px\" zoomAndPan=\"magnify\"><defs/><g><!--MD5=[fbc87193dbaf4d95561dea2c320d4a47]\n",
       "cluster E1--><a href=\"psysml:d47d9c93-f987-42aa-9c82-a11afa9e7a85\" target=\"_top\" title=\"psysml:d47d9c93-f987-42aa-9c82-a11afa9e7a85\" xlink:actuate=\"onRequest\" xlink:href=\"psysml:d47d9c93-f987-42aa-9c82-a11afa9e7a85\" xlink:show=\"new\" xlink:title=\"psysml:d47d9c93-f987-42aa-9c82-a11afa9e7a85\" xlink:type=\"simple\"><polygon fill=\"#FFFFFF\" points=\"16,6,108,6,115,28.2969,1110,28.2969,1110,434.86,16,434.86,16,6\" style=\"stroke: #000000; stroke-width: 1.5;\"/><line style=\"stroke: #000000; stroke-width: 1.5;\" x1=\"16\" x2=\"115\" y1=\"28.2969\" y2=\"28.2969\"/><text fill=\"#000000\" font-family=\"sans-serif\" font-size=\"14\" font-weight=\"bold\" lengthAdjust=\"spacingAndGlyphs\" textLength=\"86\" x=\"20\" y=\"20.9951\">AnalysisTest</text></a><!--MD5=[de5ec2e2e8f62f467e546659f5068c88]\n",
       "cluster E5--><a href=\"psysml:0d42cad1-3808-4e7b-8fe6-f660e27fd2bd\" target=\"_top\" title=\"psysml:0d42cad1-3808-4e7b-8fe6-f660e27fd2bd\" xlink:actuate=\"onRequest\" xlink:href=\"psysml:0d42cad1-3808-4e7b-8fe6-f660e27fd2bd\" xlink:show=\"new\" xlink:title=\"psysml:0d42cad1-3808-4e7b-8fe6-f660e27fd2bd\" xlink:type=\"simple\"><rect fill=\"#FFFFFF\" height=\"228.86\" id=\"E5\" style=\"stroke: #383838; stroke-width: 1.5;\" width=\"146\" x=\"948\" y=\"107\"/><rect fill=\"#F8F8F8\" height=\"37.9375\" style=\"stroke: #383838; stroke-width: 1.5;\" width=\"146\" x=\"948\" y=\"107\"/><text fill=\"#000000\" font-family=\"sans-serif\" font-size=\"12\" font-style=\"italic\" lengthAdjust=\"spacingAndGlyphs\" textLength=\"88\" x=\"977\" y=\"123.1387\">«analysis def»</text><text fill=\"#000000\" font-family=\"sans-serif\" font-size=\"12\" lengthAdjust=\"spacingAndGlyphs\" textLength=\"81\" x=\"980.5\" y=\"137.1074\">AnalysisCase</text></a><!--MD5=[55dfccfc6c49c2d10cd1bd2211a6c90c]\n",
       "cluster E8--><a href=\"psysml:058a72e0-0a98-4261-856d-73366cf47a25\" target=\"_top\" title=\"psysml:058a72e0-0a98-4261-856d-73366cf47a25\" xlink:actuate=\"onRequest\" xlink:href=\"psysml:058a72e0-0a98-4261-856d-73366cf47a25\" xlink:show=\"new\" xlink:title=\"psysml:058a72e0-0a98-4261-856d-73366cf47a25\" xlink:type=\"simple\"><rect fill=\"#FFFFFF\" height=\"303.86\" id=\"E8\" style=\"stroke: #383838; stroke-width: 1.5;\" width=\"259\" x=\"659\" y=\"107\"/><rect fill=\"#F8F8F8\" height=\"37.9375\" style=\"stroke: #383838; stroke-width: 1.5;\" width=\"259\" x=\"659\" y=\"107\"/><text fill=\"#000000\" font-family=\"sans-serif\" font-size=\"12\" font-style=\"italic\" lengthAdjust=\"spacingAndGlyphs\" textLength=\"88\" x=\"744.5\" y=\"123.1387\">«analysis def»</text><text fill=\"#000000\" font-family=\"sans-serif\" font-size=\"12\" lengthAdjust=\"spacingAndGlyphs\" textLength=\"77\" x=\"750\" y=\"137.1074\">AnalysisPlan</text></a><!--MD5=[a84b4591f868c1fa4a211716a82f2f0d]\n",
       "cluster E10--><a href=\"psysml:ebac0614-db53-4f6a-a11b-2a64966401ed\" target=\"_top\" title=\"psysml:ebac0614-db53-4f6a-a11b-2a64966401ed\" xlink:actuate=\"onRequest\" xlink:href=\"psysml:ebac0614-db53-4f6a-a11b-2a64966401ed\" xlink:show=\"new\" xlink:title=\"psysml:ebac0614-db53-4f6a-a11b-2a64966401ed\" xlink:type=\"simple\"><rect fill=\"#FFFFFF\" height=\"165.86\" id=\"E10\" rx=\"10\" ry=\"10\" style=\"stroke: #383838; stroke-width: 1.5;\" width=\"138\" x=\"742\" y=\"207\"/><rect fill=\"#F8F8F8\" height=\"37.9375\" rx=\"10\" ry=\"10\" style=\"stroke: #F8F8F8; stroke-width: 1.5;\" width=\"138\" x=\"742\" y=\"207\"/><rect fill=\"#F8F8F8\" height=\"10\" style=\"stroke: #F8F8F8; stroke-width: 1.5;\" width=\"138\" x=\"742\" y=\"234.9375\"/><rect fill=\"none\" height=\"165.86\" id=\"E10\" rx=\"10\" ry=\"10\" style=\"stroke: #383838; stroke-width: 1.5;\" width=\"138\" x=\"742\" y=\"207\"/><text fill=\"#000000\" font-family=\"sans-serif\" font-size=\"12\" font-style=\"italic\" lengthAdjust=\"spacingAndGlyphs\" textLength=\"64\" x=\"779\" y=\"223.1387\">«analysis»</text><text fill=\"#000000\" font-family=\"sans-serif\" font-size=\"12\" lengthAdjust=\"spacingAndGlyphs\" textLength=\"81\" x=\"770.5\" y=\"237.1074\">analysisCase</text><line style=\"stroke: #383838; stroke-width: 1.0;\" x1=\"742\" x2=\"880\" y1=\"244.9375\" y2=\"244.9375\"/></a><!--MD5=[bcf29f0808fc96f19b1afbee8cfc1f11]\n",
       "cluster E14--><a href=\"psysml:2f29b586-744b-44a6-b354-0cb36fac52ba\" target=\"_top\" title=\"psysml:2f29b586-744b-44a6-b354-0cb36fac52ba\" xlink:actuate=\"onRequest\" xlink:href=\"psysml:2f29b586-744b-44a6-b354-0cb36fac52ba\" xlink:show=\"new\" xlink:title=\"psysml:2f29b586-744b-44a6-b354-0cb36fac52ba\" xlink:type=\"simple\"><rect fill=\"#FFFFFF\" height=\"197\" id=\"E14\" rx=\"10\" ry=\"10\" style=\"stroke: #383838; stroke-width: 1.5;\" width=\"204\" x=\"368\" y=\"49\"/><rect fill=\"#F8F8F8\" height=\"23.9688\" rx=\"10\" ry=\"10\" style=\"stroke: #F8F8F8; stroke-width: 1.5;\" width=\"204\" x=\"368\" y=\"49\"/><rect fill=\"#F8F8F8\" height=\"10\" style=\"stroke: #F8F8F8; stroke-width: 1.5;\" width=\"204\" x=\"368\" y=\"62.9688\"/><rect fill=\"none\" height=\"197\" id=\"E14\" rx=\"10\" ry=\"10\" style=\"stroke: #383838; stroke-width: 1.5;\" width=\"204\" x=\"368\" y=\"49\"/><text fill=\"#000000\" font-family=\"sans-serif\" font-size=\"12\" lengthAdjust=\"spacingAndGlyphs\" textLength=\"98\" x=\"421\" y=\"65.1387\">analysisContext</text><line style=\"stroke: #383838; stroke-width: 1.0;\" x1=\"368\" x2=\"572\" y1=\"72.9688\" y2=\"72.9688\"/></a><!--MD5=[ebbe1d658d1005bcc118a6aa81145e00]\n",
       "class E4--><a href=\"psysml:31fce779-d9ab-452b-8111-7f3c68bff972\" target=\"_top\" title=\"psysml:31fce779-d9ab-452b-8111-7f3c68bff972\" xlink:actuate=\"onRequest\" xlink:href=\"psysml:31fce779-d9ab-452b-8111-7f3c68bff972\" xlink:show=\"new\" xlink:title=\"psysml:31fce779-d9ab-452b-8111-7f3c68bff972\" xlink:type=\"simple\"><rect fill=\"#FFFFFF\" height=\"66.7422\" id=\"E4\" style=\"stroke: #383838; stroke-width: 1.5;\" width=\"121\" x=\"227.5\" y=\"73.5\"/><text fill=\"#000000\" font-family=\"sans-serif\" font-size=\"12\" font-style=\"italic\" lengthAdjust=\"spacingAndGlyphs\" textLength=\"119\" x=\"228.5\" y=\"89.6387\">«requirement  def»</text><text fill=\"#000000\" font-family=\"sans-serif\" font-size=\"12\" lengthAdjust=\"spacingAndGlyphs\" textLength=\"107\" x=\"234.5\" y=\"103.6074\">AnalysisObjective</text><line style=\"stroke: #383838; stroke-width: 1.5;\" x1=\"228.5\" x2=\"347.5\" y1=\"111.4375\" y2=\"111.4375\"/><text fill=\"#000000\" font-family=\"sans-serif\" font-size=\"11\" lengthAdjust=\"spacingAndGlyphs\" textLength=\"12\" x=\"233.5\" y=\"125.6479\">...</text><line style=\"stroke: #383838; stroke-width: 1.0;\" x1=\"228.5\" x2=\"347.5\" y1=\"132.2422\" y2=\"132.2422\"/></a><g id=\"E1.E2\"><a href=\"psysml:6e318fc7-f06d-4e4c-8e44-1e6d0f884455\" target=\"_top\" title=\"psysml:6e318fc7-f06d-4e4c-8e44-1e6d0f884455\" xlink:actuate=\"onRequest\" xlink:href=\"psysml:6e318fc7-f06d-4e4c-8e44-1e6d0f884455\" xlink:show=\"new\" xlink:title=\"psysml:6e318fc7-f06d-4e4c-8e44-1e6d0f884455\" xlink:type=\"simple\"><rect fill=\"#FFFFFF\" height=\"42.9375\" id=\"E2\" style=\"stroke: #383838; stroke-width: 1.5;\" width=\"75\" x=\"117.5\" y=\"85.5\"/><rect fill=\"#F8F8F8\" height=\"37.9375\" style=\"stroke: #383838; stroke-width: 1.5;\" width=\"75\" x=\"117.5\" y=\"85.5\"/><text fill=\"#000000\" font-family=\"sans-serif\" font-size=\"12\" font-style=\"italic\" lengthAdjust=\"spacingAndGlyphs\" textLength=\"68\" x=\"121\" y=\"101.6387\">«part  def»</text><text fill=\"#000000\" font-family=\"sans-serif\" font-size=\"12\" lengthAdjust=\"spacingAndGlyphs\" textLength=\"8\" x=\"151\" y=\"115.6074\">V</text></a></g><g id=\"E1.E3\"><a href=\"psysml:27999d5c-daad-4ed7-92ff-020a622ea083\" target=\"_top\" title=\"psysml:27999d5c-daad-4ed7-92ff-020a622ea083\" xlink:actuate=\"onRequest\" xlink:href=\"psysml:27999d5c-daad-4ed7-92ff-020a622ea083\" xlink:show=\"new\" xlink:title=\"psysml:27999d5c-daad-4ed7-92ff-020a622ea083\" xlink:type=\"simple\"><rect fill=\"#FFFFFF\" height=\"40\" id=\"E3\" rx=\"10\" ry=\"10\" style=\"stroke: #383838; stroke-width: 1.5;\" width=\"50\" x=\"32\" y=\"87\"/><rect fill=\"#F8F8F8\" height=\"23.9688\" rx=\"10\" ry=\"10\" style=\"stroke: #F8F8F8; stroke-width: 1.5;\" width=\"50\" x=\"32\" y=\"87\"/><rect fill=\"#F8F8F8\" height=\"10\" style=\"stroke: #F8F8F8; stroke-width: 1.5;\" width=\"50\" x=\"32\" y=\"100.9688\"/><rect fill=\"none\" height=\"40\" id=\"E3\" rx=\"10\" ry=\"10\" style=\"stroke: #383838; stroke-width: 1.5;\" width=\"50\" x=\"32\" y=\"87\"/><text fill=\"#000000\" font-family=\"sans-serif\" font-size=\"12\" lengthAdjust=\"spacingAndGlyphs\" textLength=\"28\" x=\"43\" y=\"103.1387\">vv: V</text></a></g><text fill=\"#000000\" font-family=\"sans-serif\" font-size=\"14\" lengthAdjust=\"spacingAndGlyphs\" textLength=\"7\" x=\"1017.5\" y=\"85.6982\">v</text><rect fill=\"#383838\" height=\"12\" style=\"stroke: #F8F8F8; stroke-width: 1.5;\" width=\"12\" x=\"1015\" y=\"101\"/><text fill=\"#000000\" font-family=\"sans-serif\" font-size=\"14\" lengthAdjust=\"spacingAndGlyphs\" textLength=\"39\" x=\"1001.5\" y=\"354.8551\">result</text><rect fill=\"#383838\" height=\"12\" style=\"stroke: #F8F8F8; stroke-width: 1.5;\" width=\"12\" x=\"1015\" y=\"329.86\"/><text fill=\"#000000\" font-family=\"sans-serif\" font-size=\"14\" lengthAdjust=\"spacingAndGlyphs\" textLength=\"7\" x=\"673.5\" y=\"85.6982\">v</text><rect fill=\"#383838\" height=\"12\" style=\"stroke: #F8F8F8; stroke-width: 1.5;\" width=\"12\" x=\"671\" y=\"101\"/><text fill=\"#000000\" font-family=\"sans-serif\" font-size=\"14\" lengthAdjust=\"spacingAndGlyphs\" textLength=\"39\" x=\"898.5\" y=\"354.8551\">result</text><rect fill=\"#383838\" height=\"12\" style=\"stroke: #F8F8F8; stroke-width: 1.5;\" width=\"12\" x=\"912\" y=\"329.86\"/><text fill=\"#000000\" font-family=\"sans-serif\" font-size=\"14\" lengthAdjust=\"spacingAndGlyphs\" textLength=\"37\" x=\"792.5\" y=\"391.8551\">mass</text><rect fill=\"#383838\" height=\"12\" style=\"stroke: #F8F8F8; stroke-width: 1.5;\" width=\"12\" x=\"805\" y=\"366.86\"/><text fill=\"#000000\" font-family=\"sans-serif\" font-size=\"14\" lengthAdjust=\"spacingAndGlyphs\" textLength=\"7\" x=\"807.5\" y=\"185.6982\">v</text><rect fill=\"#383838\" height=\"12\" style=\"stroke: #F8F8F8; stroke-width: 1.5;\" width=\"12\" x=\"805\" y=\"201\"/><!--MD5=[0c48fb7552dae8cbbef69381101a84c8]\n",
       "class E15--><a href=\"psysml:cfe8b385-7bc2-406c-91e1-db9911ba5874\" target=\"_top\" title=\"psysml:cfe8b385-7bc2-406c-91e1-db9911ba5874\" xlink:actuate=\"onRequest\" xlink:href=\"psysml:cfe8b385-7bc2-406c-91e1-db9911ba5874\" xlink:show=\"new\" xlink:title=\"psysml:cfe8b385-7bc2-406c-91e1-db9911ba5874\" xlink:type=\"simple\"><rect fill=\"#FFFFFF\" height=\"45.9375\" id=\"E15\" rx=\"10\" ry=\"10\" style=\"stroke: #383838; stroke-width: 1.5;\" width=\"172\" x=\"384\" y=\"84\"/><text fill=\"#000000\" font-family=\"sans-serif\" font-size=\"12\" font-style=\"italic\" lengthAdjust=\"spacingAndGlyphs\" textLength=\"64\" x=\"438\" y=\"100.1387\">«analysis»</text><text fill=\"#000000\" font-family=\"sans-serif\" font-size=\"12\" lengthAdjust=\"spacingAndGlyphs\" textLength=\"162\" x=\"387\" y=\"114.1074\">analysisPlan: AnalysisPlan</text><line style=\"stroke: #383838; stroke-width: 1.5;\" x1=\"385\" x2=\"555\" y1=\"121.9375\" y2=\"121.9375\"/></a><!--MD5=[35f0587eaee8d5bb9a02e25b63afc23b]\n",
       "class E16--><a href=\"psysml:63325e1e-8a82-4691-b26b-3354962a7cad\" target=\"_top\" title=\"psysml:63325e1e-8a82-4691-b26b-3354962a7cad\" xlink:actuate=\"onRequest\" xlink:href=\"psysml:63325e1e-8a82-4691-b26b-3354962a7cad\" xlink:show=\"new\" xlink:title=\"psysml:63325e1e-8a82-4691-b26b-3354962a7cad\" xlink:type=\"simple\"><rect fill=\"#FFFFFF\" height=\"45.9375\" id=\"E16\" rx=\"10\" ry=\"10\" style=\"stroke: #383838; stroke-width: 1.5;\" width=\"93\" x=\"423.5\" y=\"184\"/><text fill=\"#000000\" font-family=\"sans-serif\" font-size=\"12\" font-style=\"italic\" lengthAdjust=\"spacingAndGlyphs\" textLength=\"91\" x=\"424.5\" y=\"200.1387\">«requirement»</text><text fill=\"#000000\" font-family=\"sans-serif\" font-size=\"12\" lengthAdjust=\"spacingAndGlyphs\" textLength=\"19\" x=\"460.5\" y=\"214.1074\">obj</text><line style=\"stroke: #383838; stroke-width: 1.5;\" x1=\"424.5\" x2=\"515.5\" y1=\"221.9375\" y2=\"221.9375\"/></a><!--MD5=[1b01d5b954197aaf3899ca0bde35faf5]\n",
       "link E15 to E8--><a href=\"psysml:b8e5c057-83f1-47ef-94c9-1676b303e623\" target=\"_top\" title=\"psysml:b8e5c057-83f1-47ef-94c9-1676b303e623\" xlink:actuate=\"onRequest\" xlink:href=\"psysml:b8e5c057-83f1-47ef-94c9-1676b303e623\" xlink:show=\"new\" xlink:title=\"psysml:b8e5c057-83f1-47ef-94c9-1676b303e623\" xlink:type=\"simple\"><path d=\"M556.21,121.86 C600.59,121.86 645.5,121.86 645.5,121.86 C645.5,121.86 645.5,164.42 645.5,189.36 \" fill=\"none\" id=\"E15-&gt;E8\" style=\"stroke: #383838; stroke-width: 1.0;\"/><polygon fill=\"#FFFFFF\" points=\"645.5,189.36,638.5,170.36,652.5,170.36,645.5,189.36\" style=\"stroke: #383838; stroke-width: 1.0;\"/><ellipse cx=\"640.5\" cy=\"164.66\" fill=\"#383838\" rx=\"2\" ry=\"2\" style=\"stroke: #383838; stroke-width: 1.0;\"/><ellipse cx=\"650.5\" cy=\"164.66\" fill=\"#383838\" rx=\"2\" ry=\"2\" style=\"stroke: #383838; stroke-width: 1.0;\"/></a><!--MD5=[f8b155c46b092be73bb522b0a8fc72a2]\n",
       "link E15 to E16--><a href=\"psysml:7d3bd451-2ef5-4e75-9594-2e0dd7330291\" target=\"_top\" title=\"psysml:7d3bd451-2ef5-4e75-9594-2e0dd7330291\" xlink:actuate=\"onRequest\" xlink:href=\"psysml:7d3bd451-2ef5-4e75-9594-2e0dd7330291\" xlink:show=\"new\" xlink:title=\"psysml:7d3bd451-2ef5-4e75-9594-2e0dd7330291\" xlink:type=\"simple\"><path d=\"M470,130.19 C470,130.19 470,175.93 470,175.93 \" fill=\"none\" id=\"E15-&gt;E16\" style=\"stroke: #383838; stroke-width: 1.0;\"/><polygon fill=\"#383838\" points=\"470,183.93,473,175.93,467,175.93,470,183.93\" style=\"stroke: #383838; stroke-width: 1.0;\"/><text fill=\"#000000\" font-family=\"sans-serif\" font-size=\"13\" lengthAdjust=\"spacingAndGlyphs\" textLength=\"73\" x=\"471\" y=\"161.5669\">«objective»</text><text fill=\"#000000\" font-family=\"sans-serif\" font-size=\"13\" lengthAdjust=\"spacingAndGlyphs\" textLength=\"8\" x=\"460.925\" y=\"172.8075\">1</text></a><!--MD5=[885cb11a6e98bd3cfc6883eb5a60ffc8]\n",
       "@startuml\r\n",
       "skinparam ranksep 10\r\n",
       "skinparam rectangle {\r\n",
       " backgroundColor<<block>> LightGreen\r\n",
       "}\r\n",
       "skinparam linetype ortho\r\n",
       "skinparam monochrome true\r\n",
       "skinparam classbackgroundcolor white\r\n",
       "skinparam shadowing false\r\n",
       "skinparam wrapWidth 300\r\n",
       "hide circle\r\n",
       "\r\n",
       "package \"AnalysisTest\" as E1  [[psysml:d47d9c93-f987-42aa-9c82-a11afa9e7a85 ]]  {\r\n",
       "rec def \"V\" as E2  <<(T,blue) part  def>> [[psysml:6e318fc7-f06d-4e4c-8e44-1e6d0f884455 ]] {\r\n",
       "}\r\n",
       "rec usage \"vv: V\" as E3  [[psysml:27999d5c-daad-4ed7-92ff-020a622ea083 ]] {\r\n",
       "}\r\n",
       "comp def \"AnalysisObjective\" as E4  <<(T,blue) requirement  def>> [[psysml:31fce779-d9ab-452b-8111-7f3c68bff972 ]] {\r\n",
       "...\r\n",
       "- -\r\n",
       "}\r\n",
       "rec def \"AnalysisCase\" as E5 << analysis def>> [[psysml:0d42cad1-3808-4e7b-8fe6-f660e27fd2bd ]] {\r\n",
       "portin \"v\" as E6  [[psysml:f7aad551-6165-4689-8df3-b128f6f54571 ]] \r\n",
       "portout \"result\" as E7  [[psysml:d8a9a5d1-c1b2-404a-b54f-35037ecf4c2d ]] \r\n",
       "}\r\n",
       "\r\n",
       "rec def \"AnalysisPlan\" as E8 << analysis def>> [[psysml:058a72e0-0a98-4261-856d-73366cf47a25 ]] {\r\n",
       "portin \"v\" as E9  [[psysml:40d43c87-89d5-4dcb-a988-f011f6f29ac5 ]] \r\n",
       "rec usage \"analysisCase\" as E10 << analysis>> [[psysml:ebac0614-db53-4f6a-a11b-2a64966401ed ]] {\r\n",
       "portout \"mass\" as E11  [[psysml:94298e01-1500-44a7-8244-0cc3e5620ae6 ]] \r\n",
       "portin \"v\" as E12  [[psysml:fabccdcf-1c94-4d5c-8a0b-5626b651aa80 ]] \r\n",
       "}\r\n",
       "\r\n",
       "portout \"result\" as E13  [[psysml:633f1383-e65f-4e22-9e6d-6ffcdde4bc38 ]] \r\n",
       "}\r\n",
       "\r\n",
       "rec usage \"analysisContext\" as E14  [[psysml:2f29b586-744b-44a6-b354-0cb36fac52ba ]] {\r\n",
       "comp usage \"analysisPlan: AnalysisPlan \" as E15 << analysis>> [[psysml:cfe8b385-7bc2-406c-91e1-db9911ba5874 ]] {\r\n",
       "}\r\n",
       "comp usage \"obj\" as E16  <<(T,blue) requirement>> [[psysml:63325e1e-8a82-4691-b26b-3354962a7cad ]] {\r\n",
       "}\r\n",
       "}\r\n",
       "}\r\n",
       "E15 - -:|> E8 [[psysml:b8e5c057-83f1-47ef-94c9-1676b303e623 ]] \r\n",
       "E15 - ->> \"1\"E16 [[psysml:7d3bd451-2ef5-4e75-9594-2e0dd7330291 ]] : <<objective>>\r\n",
       "@enduml\r\n",
       "\n",
       "PlantUML version 1.2020.13(Sat Jun 13 12:26:38 UTC 2020)\n",
       "(EPL source distribution)\n",
       "Java Runtime: OpenJDK Runtime Environment\n",
       "JVM: OpenJDK 64-Bit Server VM\n",
       "Default Encoding: UTF-8\n",
       "Language: en\n",
       "Country: null\n",
       "--></g></svg>"
      ]
     },
     "execution_count": 54,
     "metadata": {},
     "output_type": "execute_result"
    }
   ],
   "source": [
    "%viz --style=\"ORTHOLINE\" --view=\"Interconnection\" \"AnalysisTest\""
   ]
  },
  {
   "cell_type": "code",
   "execution_count": 55,
   "id": "d22877a5",
   "metadata": {
    "execution": {
     "iopub.execute_input": "2021-11-13T12:57:22.108633Z",
     "iopub.status.busy": "2021-11-13T12:57:22.108233Z",
     "iopub.status.idle": "2021-11-13T12:57:22.147086Z",
     "shell.execute_reply": "2021-11-13T12:57:22.146733Z"
    }
   },
   "outputs": [
    {
     "data": {
      "image/svg+xml": [
       "<?xml version=\"1.0\" encoding=\"UTF-8\" standalone=\"no\"?><svg xmlns=\"http://www.w3.org/2000/svg\" xmlns:xlink=\"http://www.w3.org/1999/xlink\" contentScriptType=\"application/ecmascript\" contentStyleType=\"text/css\" height=\"233px\" preserveAspectRatio=\"none\" style=\"width:649px;height:233px;\" version=\"1.1\" viewBox=\"0 0 649 233\" width=\"649px\" zoomAndPan=\"magnify\"><defs/><g><!--MD5=[fbc87193dbaf4d95561dea2c320d4a47]\n",
       "cluster E1--><a href=\"psysml:0d42cad1-3808-4e7b-8fe6-f660e27fd2bd\" target=\"_top\" title=\"psysml:0d42cad1-3808-4e7b-8fe6-f660e27fd2bd\" xlink:actuate=\"onRequest\" xlink:href=\"psysml:0d42cad1-3808-4e7b-8fe6-f660e27fd2bd\" xlink:show=\"new\" xlink:title=\"psysml:0d42cad1-3808-4e7b-8fe6-f660e27fd2bd\" xlink:type=\"simple\"><rect fill=\"#FFFFFF\" height=\"122\" id=\"E1\" style=\"stroke: #383838; stroke-width: 1.5;\" width=\"146\" x=\"7\" y=\"42.0986\"/><rect fill=\"#F8F8F8\" height=\"37.9375\" style=\"stroke: #383838; stroke-width: 1.5;\" width=\"146\" x=\"7\" y=\"42.0986\"/><text fill=\"#000000\" font-family=\"sans-serif\" font-size=\"12\" font-style=\"italic\" lengthAdjust=\"spacingAndGlyphs\" textLength=\"88\" x=\"36\" y=\"58.2373\">«analysis def»</text><text fill=\"#000000\" font-family=\"sans-serif\" font-size=\"12\" lengthAdjust=\"spacingAndGlyphs\" textLength=\"81\" x=\"39.5\" y=\"72.2061\">AnalysisCase</text></a><!--MD5=[f6df4d0ebaf0b5dfb2ced0ae5af7c670]\n",
       "cluster E4--><a href=\"psysml:058a72e0-0a98-4261-856d-73366cf47a25\" target=\"_top\" title=\"psysml:058a72e0-0a98-4261-856d-73366cf47a25\" xlink:actuate=\"onRequest\" xlink:href=\"psysml:058a72e0-0a98-4261-856d-73366cf47a25\" xlink:show=\"new\" xlink:title=\"psysml:058a72e0-0a98-4261-856d-73366cf47a25\" xlink:type=\"simple\"><rect fill=\"#FFFFFF\" height=\"180\" id=\"E4\" style=\"stroke: #383838; stroke-width: 1.5;\" width=\"262\" x=\"216\" y=\"42.0986\"/><rect fill=\"#F8F8F8\" height=\"37.9375\" style=\"stroke: #383838; stroke-width: 1.5;\" width=\"262\" x=\"216\" y=\"42.0986\"/><text fill=\"#000000\" font-family=\"sans-serif\" font-size=\"12\" font-style=\"italic\" lengthAdjust=\"spacingAndGlyphs\" textLength=\"88\" x=\"303\" y=\"58.2373\">«analysis def»</text><text fill=\"#000000\" font-family=\"sans-serif\" font-size=\"12\" lengthAdjust=\"spacingAndGlyphs\" textLength=\"77\" x=\"308.5\" y=\"72.2061\">AnalysisPlan</text></a><!--MD5=[14e3b0961a2654348d326746436168a1]\n",
       "cluster E6--><a href=\"psysml:ebac0614-db53-4f6a-a11b-2a64966401ed\" target=\"_top\" title=\"psysml:ebac0614-db53-4f6a-a11b-2a64966401ed\" xlink:actuate=\"onRequest\" xlink:href=\"psysml:ebac0614-db53-4f6a-a11b-2a64966401ed\" xlink:show=\"new\" xlink:title=\"psysml:ebac0614-db53-4f6a-a11b-2a64966401ed\" xlink:type=\"simple\"><rect fill=\"#FFFFFF\" height=\"110.5\" id=\"E6\" rx=\"10\" ry=\"10\" style=\"stroke: #383838; stroke-width: 1.5;\" width=\"138\" x=\"299\" y=\"81.5986\"/><rect fill=\"#F8F8F8\" height=\"37.9375\" rx=\"10\" ry=\"10\" style=\"stroke: #F8F8F8; stroke-width: 1.5;\" width=\"138\" x=\"299\" y=\"81.5986\"/><rect fill=\"#F8F8F8\" height=\"10\" style=\"stroke: #F8F8F8; stroke-width: 1.5;\" width=\"138\" x=\"299\" y=\"109.5361\"/><rect fill=\"none\" height=\"110.5\" id=\"E6\" rx=\"10\" ry=\"10\" style=\"stroke: #383838; stroke-width: 1.5;\" width=\"138\" x=\"299\" y=\"81.5986\"/><text fill=\"#000000\" font-family=\"sans-serif\" font-size=\"12\" font-style=\"italic\" lengthAdjust=\"spacingAndGlyphs\" textLength=\"64\" x=\"336\" y=\"97.7373\">«analysis»</text><text fill=\"#000000\" font-family=\"sans-serif\" font-size=\"12\" lengthAdjust=\"spacingAndGlyphs\" textLength=\"81\" x=\"327.5\" y=\"111.7061\">analysisCase</text><line style=\"stroke: #383838; stroke-width: 1.0;\" x1=\"299\" x2=\"437\" y1=\"119.5361\" y2=\"119.5361\"/></a><!--MD5=[a84b4591f868c1fa4a211716a82f2f0d]\n",
       "cluster E10--><a href=\"psysml:cfe8b385-7bc2-406c-91e1-db9911ba5874\" target=\"_top\" title=\"psysml:cfe8b385-7bc2-406c-91e1-db9911ba5874\" xlink:actuate=\"onRequest\" xlink:href=\"psysml:cfe8b385-7bc2-406c-91e1-db9911ba5874\" xlink:show=\"new\" xlink:title=\"psysml:cfe8b385-7bc2-406c-91e1-db9911ba5874\" xlink:type=\"simple\"><rect fill=\"#FFFFFF\" height=\"122\" id=\"E10\" rx=\"10\" ry=\"10\" style=\"stroke: #383838; stroke-width: 1.5;\" width=\"130\" x=\"507\" y=\"42.0986\"/><rect fill=\"#F8F8F8\" height=\"37.9375\" rx=\"10\" ry=\"10\" style=\"stroke: #F8F8F8; stroke-width: 1.5;\" width=\"130\" x=\"507\" y=\"42.0986\"/><rect fill=\"#F8F8F8\" height=\"10\" style=\"stroke: #F8F8F8; stroke-width: 1.5;\" width=\"130\" x=\"507\" y=\"70.0361\"/><rect fill=\"none\" height=\"122\" id=\"E10\" rx=\"10\" ry=\"10\" style=\"stroke: #383838; stroke-width: 1.5;\" width=\"130\" x=\"507\" y=\"42.0986\"/><text fill=\"#000000\" font-family=\"sans-serif\" font-size=\"12\" font-style=\"italic\" lengthAdjust=\"spacingAndGlyphs\" textLength=\"64\" x=\"540\" y=\"58.2373\">«analysis»</text><text fill=\"#000000\" font-family=\"sans-serif\" font-size=\"12\" lengthAdjust=\"spacingAndGlyphs\" textLength=\"77\" x=\"533.5\" y=\"72.2061\">analysisPlan</text><line style=\"stroke: #383838; stroke-width: 1.0;\" x1=\"507\" x2=\"637\" y1=\"80.0361\" y2=\"80.0361\"/></a><text fill=\"#000000\" font-family=\"sans-serif\" font-size=\"14\" lengthAdjust=\"spacingAndGlyphs\" textLength=\"7\" x=\"76.5\" y=\"20.7969\">v</text><rect fill=\"#383838\" height=\"12\" style=\"stroke: #F8F8F8; stroke-width: 1.5;\" width=\"12\" x=\"74\" y=\"36.0986\"/><text fill=\"#000000\" font-family=\"sans-serif\" font-size=\"14\" lengthAdjust=\"spacingAndGlyphs\" textLength=\"39\" x=\"60.5\" y=\"183.0938\">result</text><rect fill=\"#383838\" height=\"12\" style=\"stroke: #F8F8F8; stroke-width: 1.5;\" width=\"12\" x=\"74\" y=\"158.0986\"/><text fill=\"#000000\" font-family=\"sans-serif\" font-size=\"14\" lengthAdjust=\"spacingAndGlyphs\" textLength=\"7\" x=\"230.5\" y=\"20.7969\">v</text><rect fill=\"#383838\" height=\"12\" style=\"stroke: #F8F8F8; stroke-width: 1.5;\" width=\"12\" x=\"228\" y=\"36.0986\"/><text fill=\"#000000\" font-family=\"sans-serif\" font-size=\"14\" lengthAdjust=\"spacingAndGlyphs\" textLength=\"39\" x=\"458.5\" y=\"183.0938\">result</text><rect fill=\"#383838\" height=\"12\" style=\"stroke: #F8F8F8; stroke-width: 1.5;\" width=\"12\" x=\"472\" y=\"158.0986\"/><text fill=\"#000000\" font-family=\"sans-serif\" font-size=\"14\" lengthAdjust=\"spacingAndGlyphs\" textLength=\"37\" x=\"349.5\" y=\"211.0938\">mass</text><rect fill=\"#383838\" height=\"12\" style=\"stroke: #F8F8F8; stroke-width: 1.5;\" width=\"12\" x=\"362\" y=\"186.0986\"/><text fill=\"#000000\" font-family=\"sans-serif\" font-size=\"14\" lengthAdjust=\"spacingAndGlyphs\" textLength=\"7\" x=\"364.5\" y=\"60.2969\">v</text><rect fill=\"#383838\" height=\"12\" style=\"stroke: #F8F8F8; stroke-width: 1.5;\" width=\"12\" x=\"362\" y=\"75.5986\"/><text fill=\"#000000\" font-family=\"sans-serif\" font-size=\"14\" lengthAdjust=\"spacingAndGlyphs\" textLength=\"7\" x=\"567.5\" y=\"20.7969\">v</text><rect fill=\"#383838\" height=\"12\" style=\"stroke: #F8F8F8; stroke-width: 1.5;\" width=\"12\" x=\"565\" y=\"36.0986\"/><text fill=\"#000000\" font-family=\"sans-serif\" font-size=\"14\" lengthAdjust=\"spacingAndGlyphs\" textLength=\"39\" x=\"505.5\" y=\"183.0938\">result</text><rect fill=\"#383838\" height=\"12\" style=\"stroke: #F8F8F8; stroke-width: 1.5;\" width=\"12\" x=\"519\" y=\"158.0986\"/><!--MD5=[80328951b6837ec0563a13f8f00acfb7]\n",
       "@startuml\r\n",
       "skinparam ranksep 8\r\n",
       "skinparam linetype ortho\r\n",
       "skinparam monochrome true\r\n",
       "skinparam classbackgroundcolor white\r\n",
       "skinparam shadowing false\r\n",
       "skinparam wrapWidth 300\r\n",
       "hide circle\r\n",
       "\r\n",
       "rec def \"AnalysisCase\" as E1 << analysis def>> [[psysml:0d42cad1-3808-4e7b-8fe6-f660e27fd2bd ]] {\r\n",
       "portin \"v\" as E2  [[psysml:f7aad551-6165-4689-8df3-b128f6f54571 ]] \r\n",
       "portout \"result\" as E3  [[psysml:d8a9a5d1-c1b2-404a-b54f-35037ecf4c2d ]] \r\n",
       "}\r\n",
       "\r\n",
       "rec def \"AnalysisPlan\" as E4 << analysis def>> [[psysml:058a72e0-0a98-4261-856d-73366cf47a25 ]] {\r\n",
       "portin \"v\" as E5  [[psysml:40d43c87-89d5-4dcb-a988-f011f6f29ac5 ]] \r\n",
       "rec usage \"analysisCase\" as E6 << analysis>> [[psysml:ebac0614-db53-4f6a-a11b-2a64966401ed ]] {\r\n",
       "portout \"mass\" as E7  [[psysml:94298e01-1500-44a7-8244-0cc3e5620ae6 ]] \r\n",
       "portin \"v\" as E8  [[psysml:fabccdcf-1c94-4d5c-8a0b-5626b651aa80 ]] \r\n",
       "}\r\n",
       "\r\n",
       "portout \"result\" as E9  [[psysml:633f1383-e65f-4e22-9e6d-6ffcdde4bc38 ]] \r\n",
       "}\r\n",
       "\r\n",
       "rec usage \"analysisPlan\" as E10 << analysis>> [[psysml:cfe8b385-7bc2-406c-91e1-db9911ba5874 ]] {\r\n",
       "portin \"v\" as E11  [[psysml:55cfee2c-c24c-468f-9db4-77480ce5a457 ]] \r\n",
       "portout \"result\" as E12  [[psysml:8005f62b-cb79-4c8e-b32b-9a19d0c6c24c ]] \r\n",
       "}\r\n",
       "\r\n",
       "@enduml\r\n",
       "\n",
       "PlantUML version 1.2020.13(Sat Jun 13 12:26:38 UTC 2020)\n",
       "(EPL source distribution)\n",
       "Java Runtime: OpenJDK Runtime Environment\n",
       "JVM: OpenJDK 64-Bit Server VM\n",
       "Default Encoding: UTF-8\n",
       "Language: en\n",
       "Country: null\n",
       "--></g></svg>"
      ]
     },
     "execution_count": 55,
     "metadata": {},
     "output_type": "execute_result"
    }
   ],
   "source": [
    "%viz --style=\"ORTHOLINE\" --view=\"Action\" \"AnalysisTest\""
   ]
  },
  {
   "cell_type": "code",
   "execution_count": 56,
   "id": "d1cdf5c0",
   "metadata": {
    "execution": {
     "iopub.execute_input": "2021-11-13T12:57:22.196366Z",
     "iopub.status.busy": "2021-11-13T12:57:22.195964Z",
     "iopub.status.idle": "2021-11-13T12:57:22.201483Z",
     "shell.execute_reply": "2021-11-13T12:57:22.201155Z"
    }
   },
   "outputs": [
    {
     "data": {
      "image/svg+xml": [
       "<?xml version=\"1.0\" encoding=\"UTF-8\" standalone=\"no\"?><svg xmlns=\"http://www.w3.org/2000/svg\" xmlns:xlink=\"http://www.w3.org/1999/xlink\" contentScriptType=\"application/ecmascript\" contentStyleType=\"text/css\" height=\"12px\" preserveAspectRatio=\"none\" style=\"width:12px;height:12px;\" version=\"1.1\" viewBox=\"0 0 12 12\" width=\"12px\" zoomAndPan=\"magnify\"><defs/><g><!--MD5=[30fc1de5121c5abddedd55b44417fde8]\n",
       "@startuml\r\n",
       "skinparam roundcorner 20\r\n",
       "skinparam BoxPadding 20\r\n",
       "skinparam SequenceBoxBackgroundColor #white\r\n",
       "skinparam style strictuml\r\n",
       "skinparam maxMessageSize 100\r\n",
       "skinparam linetype ortho\r\n",
       "skinparam monochrome true\r\n",
       "skinparam classbackgroundcolor white\r\n",
       "skinparam shadowing false\r\n",
       "skinparam wrapWidth 300\r\n",
       "hide circle\r\n",
       "\r\n",
       "@enduml\r\n",
       "\n",
       "PlantUML version 1.2020.13(Sat Jun 13 12:26:38 UTC 2020)\n",
       "(EPL source distribution)\n",
       "Java Runtime: OpenJDK Runtime Environment\n",
       "JVM: OpenJDK 64-Bit Server VM\n",
       "Default Encoding: UTF-8\n",
       "Language: en\n",
       "Country: null\n",
       "--></g></svg>"
      ]
     },
     "execution_count": 56,
     "metadata": {},
     "output_type": "execute_result"
    }
   ],
   "source": [
    "%viz --style=\"ORTHOLINE\" --view=\"Sequence\" \"AnalysisTest\""
   ]
  },
  {
   "cell_type": "code",
   "execution_count": 57,
   "id": "09f538de",
   "metadata": {
    "execution": {
     "iopub.execute_input": "2021-11-13T12:57:22.250891Z",
     "iopub.status.busy": "2021-11-13T12:57:22.250499Z",
     "iopub.status.idle": "2021-11-13T12:57:22.311577Z",
     "shell.execute_reply": "2021-11-13T12:57:22.309815Z"
    }
   },
   "outputs": [
    {
     "data": {
      "image/svg+xml": [
       "<?xml version=\"1.0\" encoding=\"UTF-8\" standalone=\"no\"?><svg xmlns=\"http://www.w3.org/2000/svg\" xmlns:xlink=\"http://www.w3.org/1999/xlink\" contentScriptType=\"application/ecmascript\" contentStyleType=\"text/css\" height=\"658px\" preserveAspectRatio=\"none\" style=\"width:845px;height:658px;\" version=\"1.1\" viewBox=\"0 0 845 658\" width=\"845px\" zoomAndPan=\"magnify\"><defs/><g><!--MD5=[fbc87193dbaf4d95561dea2c320d4a47]\n",
       "cluster E1--><a href=\"psysml:d47d9c93-f987-42aa-9c82-a11afa9e7a85\" target=\"_top\" title=\"psysml:d47d9c93-f987-42aa-9c82-a11afa9e7a85\" xlink:actuate=\"onRequest\" xlink:href=\"psysml:d47d9c93-f987-42aa-9c82-a11afa9e7a85\" xlink:show=\"new\" xlink:title=\"psysml:d47d9c93-f987-42aa-9c82-a11afa9e7a85\" xlink:type=\"simple\"><polygon fill=\"#FFFFFF\" points=\"16,6,108,6,115,28.2969,823,28.2969,823,646,16,646,16,6\" style=\"stroke: #000000; stroke-width: 1.5;\"/><line style=\"stroke: #000000; stroke-width: 1.5;\" x1=\"16\" x2=\"115\" y1=\"28.2969\" y2=\"28.2969\"/><text fill=\"#000000\" font-family=\"sans-serif\" font-size=\"14\" font-weight=\"bold\" lengthAdjust=\"spacingAndGlyphs\" textLength=\"86\" x=\"20\" y=\"20.9951\">AnalysisTest</text></a><!--MD5=[de5ec2e2e8f62f467e546659f5068c88]\n",
       "cluster E5--><a href=\"psysml:0d42cad1-3808-4e7b-8fe6-f660e27fd2bd\" target=\"_top\" title=\"psysml:0d42cad1-3808-4e7b-8fe6-f660e27fd2bd\" xlink:actuate=\"onRequest\" xlink:href=\"psysml:0d42cad1-3808-4e7b-8fe6-f660e27fd2bd\" xlink:show=\"new\" xlink:title=\"psysml:0d42cad1-3808-4e7b-8fe6-f660e27fd2bd\" xlink:type=\"simple\"><rect fill=\"#FFFFFF\" height=\"329.5\" id=\"E5\" style=\"stroke: #383838; stroke-width: 1.5;\" width=\"146\" x=\"661\" y=\"74.5\"/><rect fill=\"#F8F8F8\" height=\"37.9375\" style=\"stroke: #383838; stroke-width: 1.5;\" width=\"146\" x=\"661\" y=\"74.5\"/><text fill=\"#000000\" font-family=\"sans-serif\" font-size=\"12\" font-style=\"italic\" lengthAdjust=\"spacingAndGlyphs\" textLength=\"88\" x=\"690\" y=\"90.6387\">«analysis def»</text><text fill=\"#000000\" font-family=\"sans-serif\" font-size=\"12\" lengthAdjust=\"spacingAndGlyphs\" textLength=\"81\" x=\"693.5\" y=\"104.6074\">AnalysisCase</text></a><!--MD5=[55dfccfc6c49c2d10cd1bd2211a6c90c]\n",
       "cluster E8--><a href=\"psysml:058a72e0-0a98-4261-856d-73366cf47a25\" target=\"_top\" title=\"psysml:058a72e0-0a98-4261-856d-73366cf47a25\" xlink:actuate=\"onRequest\" xlink:href=\"psysml:058a72e0-0a98-4261-856d-73366cf47a25\" xlink:show=\"new\" xlink:title=\"psysml:058a72e0-0a98-4261-856d-73366cf47a25\" xlink:type=\"simple\"><rect fill=\"#FFFFFF\" height=\"415\" id=\"E8\" style=\"stroke: #383838; stroke-width: 1.5;\" width=\"259\" x=\"283\" y=\"207\"/><rect fill=\"#F8F8F8\" height=\"37.9375\" style=\"stroke: #383838; stroke-width: 1.5;\" width=\"259\" x=\"283\" y=\"207\"/><text fill=\"#000000\" font-family=\"sans-serif\" font-size=\"12\" font-style=\"italic\" lengthAdjust=\"spacingAndGlyphs\" textLength=\"88\" x=\"368.5\" y=\"223.1387\">«analysis def»</text><text fill=\"#000000\" font-family=\"sans-serif\" font-size=\"12\" lengthAdjust=\"spacingAndGlyphs\" textLength=\"77\" x=\"374\" y=\"237.1074\">AnalysisPlan</text></a><!--MD5=[a84b4591f868c1fa4a211716a82f2f0d]\n",
       "cluster E10--><a href=\"psysml:ebac0614-db53-4f6a-a11b-2a64966401ed\" target=\"_top\" title=\"psysml:ebac0614-db53-4f6a-a11b-2a64966401ed\" xlink:actuate=\"onRequest\" xlink:href=\"psysml:ebac0614-db53-4f6a-a11b-2a64966401ed\" xlink:show=\"new\" xlink:title=\"psysml:ebac0614-db53-4f6a-a11b-2a64966401ed\" xlink:type=\"simple\"><rect fill=\"#FFFFFF\" height=\"239\" id=\"E10\" rx=\"10\" ry=\"10\" style=\"stroke: #383838; stroke-width: 1.5;\" width=\"138\" x=\"366\" y=\"345\"/><rect fill=\"#F8F8F8\" height=\"37.9375\" rx=\"10\" ry=\"10\" style=\"stroke: #F8F8F8; stroke-width: 1.5;\" width=\"138\" x=\"366\" y=\"345\"/><rect fill=\"#F8F8F8\" height=\"10\" style=\"stroke: #F8F8F8; stroke-width: 1.5;\" width=\"138\" x=\"366\" y=\"372.9375\"/><rect fill=\"none\" height=\"239\" id=\"E10\" rx=\"10\" ry=\"10\" style=\"stroke: #383838; stroke-width: 1.5;\" width=\"138\" x=\"366\" y=\"345\"/><text fill=\"#000000\" font-family=\"sans-serif\" font-size=\"12\" font-style=\"italic\" lengthAdjust=\"spacingAndGlyphs\" textLength=\"64\" x=\"403\" y=\"361.1387\">«analysis»</text><text fill=\"#000000\" font-family=\"sans-serif\" font-size=\"12\" lengthAdjust=\"spacingAndGlyphs\" textLength=\"81\" x=\"394.5\" y=\"375.1074\">analysisCase</text><line style=\"stroke: #383838; stroke-width: 1.0;\" x1=\"366\" x2=\"504\" y1=\"382.9375\" y2=\"382.9375\"/></a><!--MD5=[b4997ac47864f28c2f74865a473b2911]\n",
       "class E2--><a href=\"psysml:6e318fc7-f06d-4e4c-8e44-1e6d0f884455\" target=\"_top\" title=\"psysml:6e318fc7-f06d-4e4c-8e44-1e6d0f884455\" xlink:actuate=\"onRequest\" xlink:href=\"psysml:6e318fc7-f06d-4e4c-8e44-1e6d0f884455\" xlink:show=\"new\" xlink:title=\"psysml:6e318fc7-f06d-4e4c-8e44-1e6d0f884455\" xlink:type=\"simple\"><rect fill=\"#FFFFFF\" height=\"75.5469\" id=\"E2\" style=\"stroke: #383838; stroke-width: 1.5;\" width=\"70\" x=\"572\" y=\"169\"/><text fill=\"#000000\" font-family=\"sans-serif\" font-size=\"12\" font-style=\"italic\" lengthAdjust=\"spacingAndGlyphs\" textLength=\"68\" x=\"573\" y=\"185.1387\">«part  def»</text><text fill=\"#000000\" font-family=\"sans-serif\" font-size=\"12\" lengthAdjust=\"spacingAndGlyphs\" textLength=\"8\" x=\"603\" y=\"199.1074\">V</text><line style=\"stroke: #383838; stroke-width: 1.5;\" x1=\"573\" x2=\"641\" y1=\"206.9375\" y2=\"206.9375\"/><text fill=\"#000000\" font-family=\"sans-serif\" font-size=\"11\" lengthAdjust=\"spacingAndGlyphs\" textLength=\"11\" x=\"578\" y=\"237.9526\">m</text><line style=\"stroke: #383838; stroke-width: 1.0;\" x1=\"573\" x2=\"576\" y1=\"221.3398\" y2=\"221.3398\"/><text fill=\"#000000\" font-family=\"sans-serif\" font-size=\"11\" lengthAdjust=\"spacingAndGlyphs\" textLength=\"62\" x=\"576\" y=\"224.6479\">references</text><line style=\"stroke: #383838; stroke-width: 1.0;\" x1=\"638\" x2=\"641\" y1=\"221.3398\" y2=\"221.3398\"/></a><!--MD5=[09b614a08d8cba4a07c9adeb5e0fee81]\n",
       "class E3--><a href=\"psysml:27999d5c-daad-4ed7-92ff-020a622ea083\" target=\"_top\" title=\"psysml:27999d5c-daad-4ed7-92ff-020a622ea083\" xlink:actuate=\"onRequest\" xlink:href=\"psysml:27999d5c-daad-4ed7-92ff-020a622ea083\" xlink:show=\"new\" xlink:title=\"psysml:27999d5c-daad-4ed7-92ff-020a622ea083\" xlink:type=\"simple\"><rect fill=\"#FFFFFF\" height=\"45.9375\" id=\"E3\" rx=\"10\" ry=\"10\" style=\"stroke: #383838; stroke-width: 1.5;\" width=\"42\" x=\"586\" y=\"51.5\"/><text fill=\"#000000\" font-family=\"sans-serif\" font-size=\"12\" font-style=\"italic\" lengthAdjust=\"spacingAndGlyphs\" textLength=\"40\" x=\"587\" y=\"67.6387\">«part»</text><text fill=\"#000000\" font-family=\"sans-serif\" font-size=\"12\" lengthAdjust=\"spacingAndGlyphs\" textLength=\"28\" x=\"591\" y=\"81.6074\">vv: V</text><line style=\"stroke: #383838; stroke-width: 1.5;\" x1=\"587\" x2=\"627\" y1=\"89.4375\" y2=\"89.4375\"/></a><!--MD5=[ebbe1d658d1005bcc118a6aa81145e00]\n",
       "class E4--><a href=\"psysml:31fce779-d9ab-452b-8111-7f3c68bff972\" target=\"_top\" title=\"psysml:31fce779-d9ab-452b-8111-7f3c68bff972\" xlink:actuate=\"onRequest\" xlink:href=\"psysml:31fce779-d9ab-452b-8111-7f3c68bff972\" xlink:show=\"new\" xlink:title=\"psysml:31fce779-d9ab-452b-8111-7f3c68bff972\" xlink:type=\"simple\"><rect fill=\"#FFFFFF\" height=\"66.7422\" id=\"E4\" style=\"stroke: #383838; stroke-width: 1.5;\" width=\"121\" x=\"317.5\" y=\"41\"/><text fill=\"#000000\" font-family=\"sans-serif\" font-size=\"12\" font-style=\"italic\" lengthAdjust=\"spacingAndGlyphs\" textLength=\"119\" x=\"318.5\" y=\"57.1387\">«requirement  def»</text><text fill=\"#000000\" font-family=\"sans-serif\" font-size=\"12\" lengthAdjust=\"spacingAndGlyphs\" textLength=\"107\" x=\"324.5\" y=\"71.1074\">AnalysisObjective</text><line style=\"stroke: #383838; stroke-width: 1.5;\" x1=\"318.5\" x2=\"437.5\" y1=\"78.9375\" y2=\"78.9375\"/><text fill=\"#000000\" font-family=\"sans-serif\" font-size=\"11\" lengthAdjust=\"spacingAndGlyphs\" textLength=\"12\" x=\"323.5\" y=\"93.1479\">...</text><line style=\"stroke: #383838; stroke-width: 1.0;\" x1=\"318.5\" x2=\"437.5\" y1=\"99.7422\" y2=\"99.7422\"/></a><!--MD5=[bee11217b2f71d958a27249dc326068c]\n",
       "class E14--><a href=\"psysml:2f29b586-744b-44a6-b354-0cb36fac52ba\" target=\"_top\" title=\"psysml:2f29b586-744b-44a6-b354-0cb36fac52ba\" xlink:actuate=\"onRequest\" xlink:href=\"psysml:2f29b586-744b-44a6-b354-0cb36fac52ba\" xlink:show=\"new\" xlink:title=\"psysml:2f29b586-744b-44a6-b354-0cb36fac52ba\" xlink:type=\"simple\"><rect fill=\"#FFFFFF\" height=\"45.9375\" id=\"E14\" rx=\"10\" ry=\"10\" style=\"stroke: #383838; stroke-width: 1.5;\" width=\"104\" x=\"66\" y=\"51.5\"/><text fill=\"#000000\" font-family=\"sans-serif\" font-size=\"12\" font-style=\"italic\" lengthAdjust=\"spacingAndGlyphs\" textLength=\"40\" x=\"98\" y=\"67.6387\">«part»</text><text fill=\"#000000\" font-family=\"sans-serif\" font-size=\"12\" lengthAdjust=\"spacingAndGlyphs\" textLength=\"98\" x=\"69\" y=\"81.6074\">analysisContext</text><line style=\"stroke: #383838; stroke-width: 1.5;\" x1=\"67\" x2=\"169\" y1=\"89.4375\" y2=\"89.4375\"/></a><!--MD5=[0c48fb7552dae8cbbef69381101a84c8]\n",
       "class E15--><a href=\"psysml:cfe8b385-7bc2-406c-91e1-db9911ba5874\" target=\"_top\" title=\"psysml:cfe8b385-7bc2-406c-91e1-db9911ba5874\" xlink:actuate=\"onRequest\" xlink:href=\"psysml:cfe8b385-7bc2-406c-91e1-db9911ba5874\" xlink:show=\"new\" xlink:title=\"psysml:cfe8b385-7bc2-406c-91e1-db9911ba5874\" xlink:type=\"simple\"><rect fill=\"#FFFFFF\" height=\"45.9375\" id=\"E15\" rx=\"10\" ry=\"10\" style=\"stroke: #383838; stroke-width: 1.5;\" width=\"172\" x=\"32\" y=\"184\"/><text fill=\"#000000\" font-family=\"sans-serif\" font-size=\"12\" font-style=\"italic\" lengthAdjust=\"spacingAndGlyphs\" textLength=\"64\" x=\"86\" y=\"200.1387\">«analysis»</text><text fill=\"#000000\" font-family=\"sans-serif\" font-size=\"12\" lengthAdjust=\"spacingAndGlyphs\" textLength=\"162\" x=\"35\" y=\"214.1074\">analysisPlan: AnalysisPlan</text><line style=\"stroke: #383838; stroke-width: 1.5;\" x1=\"33\" x2=\"203\" y1=\"221.9375\" y2=\"221.9375\"/></a><!--MD5=[35f0587eaee8d5bb9a02e25b63afc23b]\n",
       "class E16--><a href=\"psysml:63325e1e-8a82-4691-b26b-3354962a7cad\" target=\"_top\" title=\"psysml:63325e1e-8a82-4691-b26b-3354962a7cad\" xlink:actuate=\"onRequest\" xlink:href=\"psysml:63325e1e-8a82-4691-b26b-3354962a7cad\" xlink:show=\"new\" xlink:title=\"psysml:63325e1e-8a82-4691-b26b-3354962a7cad\" xlink:type=\"simple\"><rect fill=\"#FFFFFF\" height=\"45.9375\" id=\"E16\" rx=\"10\" ry=\"10\" style=\"stroke: #383838; stroke-width: 1.5;\" width=\"93\" x=\"71.5\" y=\"322\"/><text fill=\"#000000\" font-family=\"sans-serif\" font-size=\"12\" font-style=\"italic\" lengthAdjust=\"spacingAndGlyphs\" textLength=\"91\" x=\"72.5\" y=\"338.1387\">«requirement»</text><text fill=\"#000000\" font-family=\"sans-serif\" font-size=\"12\" lengthAdjust=\"spacingAndGlyphs\" textLength=\"19\" x=\"108.5\" y=\"352.1074\">obj</text><line style=\"stroke: #383838; stroke-width: 1.5;\" x1=\"72.5\" x2=\"163.5\" y1=\"359.9375\" y2=\"359.9375\"/></a><text fill=\"#000000\" font-family=\"sans-serif\" font-size=\"14\" lengthAdjust=\"spacingAndGlyphs\" textLength=\"7\" x=\"730.5\" y=\"53.1982\">v</text><rect fill=\"#383838\" height=\"12\" style=\"stroke: #F8F8F8; stroke-width: 1.5;\" width=\"12\" x=\"728\" y=\"68.5\"/><text fill=\"#000000\" font-family=\"sans-serif\" font-size=\"14\" lengthAdjust=\"spacingAndGlyphs\" textLength=\"39\" x=\"714.5\" y=\"422.9951\">result</text><rect fill=\"#383838\" height=\"12\" style=\"stroke: #F8F8F8; stroke-width: 1.5;\" width=\"12\" x=\"728\" y=\"398\"/><text fill=\"#000000\" font-family=\"sans-serif\" font-size=\"14\" lengthAdjust=\"spacingAndGlyphs\" textLength=\"7\" x=\"297.5\" y=\"185.6982\">v</text><rect fill=\"#383838\" height=\"12\" style=\"stroke: #F8F8F8; stroke-width: 1.5;\" width=\"12\" x=\"295\" y=\"201\"/><text fill=\"#000000\" font-family=\"sans-serif\" font-size=\"14\" lengthAdjust=\"spacingAndGlyphs\" textLength=\"39\" x=\"522.5\" y=\"529.9951\">result</text><rect fill=\"#383838\" height=\"12\" style=\"stroke: #F8F8F8; stroke-width: 1.5;\" width=\"12\" x=\"536\" y=\"505\"/><text fill=\"#000000\" font-family=\"sans-serif\" font-size=\"14\" lengthAdjust=\"spacingAndGlyphs\" textLength=\"37\" x=\"416.5\" y=\"602.9951\">mass</text><rect fill=\"#383838\" height=\"12\" style=\"stroke: #F8F8F8; stroke-width: 1.5;\" width=\"12\" x=\"429\" y=\"578\"/><text fill=\"#000000\" font-family=\"sans-serif\" font-size=\"14\" lengthAdjust=\"spacingAndGlyphs\" textLength=\"7\" x=\"431.5\" y=\"323.6982\">v</text><rect fill=\"#383838\" height=\"12\" style=\"stroke: #F8F8F8; stroke-width: 1.5;\" width=\"12\" x=\"429\" y=\"339\"/><!--MD5=[05d275557350bfb9b23a4ef7222b4c39]\n",
       "link E3 to E2--><a href=\"psysml:4413170d-8387-4bcf-a661-a8e63eefb5dc\" target=\"_top\" title=\"psysml:4413170d-8387-4bcf-a661-a8e63eefb5dc\" xlink:actuate=\"onRequest\" xlink:href=\"psysml:4413170d-8387-4bcf-a661-a8e63eefb5dc\" xlink:show=\"new\" xlink:title=\"psysml:4413170d-8387-4bcf-a661-a8e63eefb5dc\" xlink:type=\"simple\"><path d=\"M607,97.58 C607,97.58 607,148.89 607,148.89 \" fill=\"none\" id=\"E3-&gt;E2\" style=\"stroke: #383838; stroke-width: 1.0;\"/><polygon fill=\"#FFFFFF\" points=\"607,168.89,600,149.89,614,149.89,607,168.89\" style=\"stroke: #383838; stroke-width: 1.0;\"/><ellipse cx=\"602\" cy=\"144.19\" fill=\"#383838\" rx=\"2\" ry=\"2\" style=\"stroke: #383838; stroke-width: 1.0;\"/><ellipse cx=\"612\" cy=\"144.19\" fill=\"#383838\" rx=\"2\" ry=\"2\" style=\"stroke: #383838; stroke-width: 1.0;\"/></a><!--MD5=[17bf29720e4688890742b92d9a67fdf0]\n",
       "reverse link E14 to E15--><a href=\"psysml:df4b3059-af15-4a6e-9f16-4ce8d388f00c\" target=\"_top\" title=\"psysml:df4b3059-af15-4a6e-9f16-4ce8d388f00c\" xlink:actuate=\"onRequest\" xlink:href=\"psysml:df4b3059-af15-4a6e-9f16-4ce8d388f00c\" xlink:show=\"new\" xlink:title=\"psysml:df4b3059-af15-4a6e-9f16-4ce8d388f00c\" xlink:type=\"simple\"><path d=\"M118,110.58 C118,110.58 118,183.74 118,183.74 \" fill=\"none\" id=\"E14&lt;-E15\" style=\"stroke: #383838; stroke-width: 1.0;\"/><polygon fill=\"#383838\" points=\"118,97.58,114,103.58,118,109.58,122,103.58,118,97.58\" style=\"stroke: #383838; stroke-width: 1.0;\"/></a><!--MD5=[1b01d5b954197aaf3899ca0bde35faf5]\n",
       "link E15 to E8--><a href=\"psysml:b8e5c057-83f1-47ef-94c9-1676b303e623\" target=\"_top\" title=\"psysml:b8e5c057-83f1-47ef-94c9-1676b303e623\" xlink:actuate=\"onRequest\" xlink:href=\"psysml:b8e5c057-83f1-47ef-94c9-1676b303e623\" xlink:show=\"new\" xlink:title=\"psysml:b8e5c057-83f1-47ef-94c9-1676b303e623\" xlink:type=\"simple\"><path d=\"M204.37,222 C238.39,222 269.5,222 269.5,222 C269.5,222 269.5,293.37 269.5,327.38 \" fill=\"none\" id=\"E15-&gt;E8\" style=\"stroke: #383838; stroke-width: 1.0;\"/><polygon fill=\"#FFFFFF\" points=\"269.5,327.38,262.5,308.38,276.5,308.38,269.5,327.38\" style=\"stroke: #383838; stroke-width: 1.0;\"/><ellipse cx=\"264.5\" cy=\"302.68\" fill=\"#383838\" rx=\"2\" ry=\"2\" style=\"stroke: #383838; stroke-width: 1.0;\"/><ellipse cx=\"274.5\" cy=\"302.68\" fill=\"#383838\" rx=\"2\" ry=\"2\" style=\"stroke: #383838; stroke-width: 1.0;\"/></a><!--MD5=[f8b155c46b092be73bb522b0a8fc72a2]\n",
       "link E15 to E16--><a href=\"psysml:7d3bd451-2ef5-4e75-9594-2e0dd7330291\" target=\"_top\" title=\"psysml:7d3bd451-2ef5-4e75-9594-2e0dd7330291\" xlink:actuate=\"onRequest\" xlink:href=\"psysml:7d3bd451-2ef5-4e75-9594-2e0dd7330291\" xlink:show=\"new\" xlink:title=\"psysml:7d3bd451-2ef5-4e75-9594-2e0dd7330291\" xlink:type=\"simple\"><path d=\"M118,230.1 C118,230.1 118,313.83 118,313.83 \" fill=\"none\" id=\"E15-&gt;E16\" style=\"stroke: #383838; stroke-width: 1.0;\"/><polygon fill=\"#383838\" points=\"118,321.83,121,313.83,115,313.83,118,321.83\" style=\"stroke: #383838; stroke-width: 1.0;\"/><text fill=\"#000000\" font-family=\"sans-serif\" font-size=\"13\" lengthAdjust=\"spacingAndGlyphs\" textLength=\"73\" x=\"119\" y=\"288.0669\">«objective»</text><text fill=\"#000000\" font-family=\"sans-serif\" font-size=\"13\" lengthAdjust=\"spacingAndGlyphs\" textLength=\"8\" x=\"108.975\" y=\"311.0627\">1</text></a><!--MD5=[365bb7619728e2786a0aa61bc8d3eac2]\n",
       "@startuml\r\n",
       "skinparam linetype ortho\r\n",
       "skinparam monochrome true\r\n",
       "skinparam classbackgroundcolor white\r\n",
       "skinparam shadowing false\r\n",
       "skinparam wrapWidth 300\r\n",
       "hide circle\r\n",
       "\r\n",
       "package \"AnalysisTest\" as E1  [[psysml:d47d9c93-f987-42aa-9c82-a11afa9e7a85 ]]  {\r\n",
       "comp def \"V\" as E2  <<(T,blue) part  def>> [[psysml:6e318fc7-f06d-4e4c-8e44-1e6d0f884455 ]] {\r\n",
       "- - references - -\r\n",
       "m\r\n",
       "}\r\n",
       "comp usage \"vv: V \" as E3  <<(T,blue) part>> [[psysml:27999d5c-daad-4ed7-92ff-020a622ea083 ]] {\r\n",
       "}\r\n",
       "comp def \"AnalysisObjective\" as E4  <<(T,blue) requirement  def>> [[psysml:31fce779-d9ab-452b-8111-7f3c68bff972 ]] {\r\n",
       "...\r\n",
       "- -\r\n",
       "}\r\n",
       "rec def \"AnalysisCase\" as E5 << analysis def>> [[psysml:0d42cad1-3808-4e7b-8fe6-f660e27fd2bd ]] {\r\n",
       "portin \"v\" as E6  [[psysml:f7aad551-6165-4689-8df3-b128f6f54571 ]] \r\n",
       "portout \"result\" as E7  [[psysml:d8a9a5d1-c1b2-404a-b54f-35037ecf4c2d ]] \r\n",
       "}\r\n",
       "\r\n",
       "rec def \"AnalysisPlan\" as E8 << analysis def>> [[psysml:058a72e0-0a98-4261-856d-73366cf47a25 ]] {\r\n",
       "portin \"v\" as E9  [[psysml:40d43c87-89d5-4dcb-a988-f011f6f29ac5 ]] \r\n",
       "rec usage \"analysisCase\" as E10 << analysis>> [[psysml:ebac0614-db53-4f6a-a11b-2a64966401ed ]] {\r\n",
       "portout \"mass\" as E11  [[psysml:94298e01-1500-44a7-8244-0cc3e5620ae6 ]] \r\n",
       "portin \"v\" as E12  [[psysml:fabccdcf-1c94-4d5c-8a0b-5626b651aa80 ]] \r\n",
       "}\r\n",
       "\r\n",
       "portout \"result\" as E13  [[psysml:633f1383-e65f-4e22-9e6d-6ffcdde4bc38 ]] \r\n",
       "}\r\n",
       "\r\n",
       "comp usage \"analysisContext\" as E14  <<(T,blue) part>> [[psysml:2f29b586-744b-44a6-b354-0cb36fac52ba ]] {\r\n",
       "}\r\n",
       "comp usage \"analysisPlan: AnalysisPlan \" as E15 << analysis>> [[psysml:cfe8b385-7bc2-406c-91e1-db9911ba5874 ]] {\r\n",
       "}\r\n",
       "comp usage \"obj\" as E16  <<(T,blue) requirement>> [[psysml:63325e1e-8a82-4691-b26b-3354962a7cad ]] {\r\n",
       "}\r\n",
       "}\r\n",
       "E3 - -:|> E2 [[psysml:4413170d-8387-4bcf-a661-a8e63eefb5dc ]] \r\n",
       "E14 *- - E15 [[psysml:df4b3059-af15-4a6e-9f16-4ce8d388f00c ]] \r\n",
       "E15 - -:|> E8 [[psysml:b8e5c057-83f1-47ef-94c9-1676b303e623 ]] \r\n",
       "E15 - ->> \"1\"E16 [[psysml:7d3bd451-2ef5-4e75-9594-2e0dd7330291 ]] : <<objective>>\r\n",
       "@enduml\r\n",
       "\n",
       "PlantUML version 1.2020.13(Sat Jun 13 12:26:38 UTC 2020)\n",
       "(EPL source distribution)\n",
       "Java Runtime: OpenJDK Runtime Environment\n",
       "JVM: OpenJDK 64-Bit Server VM\n",
       "Default Encoding: UTF-8\n",
       "Language: en\n",
       "Country: null\n",
       "--></g></svg>"
      ]
     },
     "execution_count": 57,
     "metadata": {},
     "output_type": "execute_result"
    }
   ],
   "source": [
    "%viz --style=\"ORTHOLINE\" --view=\"MIXED\" \"AnalysisTest\""
   ]
  }
 ],
 "metadata": {
  "kernelspec": {
   "display_name": "SysML",
   "language": "sysml",
   "name": "sysml"
  },
  "language_info": {
   "codemirror_mode": "sysml",
   "file_extension": ".sysml",
   "mimetype": "text/x-sysml",
   "name": "SysML",
   "pygments_lexer": "java",
   "version": "1.0.0"
  }
 },
 "nbformat": 4,
 "nbformat_minor": 5
}
