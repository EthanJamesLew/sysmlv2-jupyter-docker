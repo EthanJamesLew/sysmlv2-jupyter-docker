{
 "cells": [
  {
   "cell_type": "markdown",
   "id": "0c1e57be",
   "metadata": {},
   "source": [
    "# SysML v2 Test Suite\n",
    "\n",
    "This can notebook can be cleared using menu `Edit --> Clear All Outputs` and then all cells can be\n",
    "run using menu `Run --> Run All Cells`.\n",
    "\n",
    "**WARNING**: This file is generated, all modifications here will be ignored.\n"
   ]
  },
  {
   "cell_type": "markdown",
   "id": "71f5421f",
   "metadata": {},
   "source": [
    "## File: ../../sysml/src/examples/Simple Tests/AnalysisTest.sysml"
   ]
  },
  {
   "cell_type": "code",
   "execution_count": 1,
   "id": "40fe9204",
   "metadata": {
    "execution": {
     "iopub.execute_input": "2022-02-05T16:51:59.328878Z",
     "iopub.status.busy": "2022-02-05T16:51:59.327184Z",
     "iopub.status.idle": "2022-02-05T16:51:59.703454Z",
     "shell.execute_reply": "2022-02-05T16:51:59.703922Z"
    }
   },
   "outputs": [
    {
     "data": {
      "text/plain": [
       "Package AnalysisTest (3b557eb1-9d48-4151-b9be-5dabf884f10a)\n"
      ]
     },
     "execution_count": 1,
     "metadata": {},
     "output_type": "execute_result"
    }
   ],
   "source": [
    "package AnalysisTest {\n",
    "\n",
    "\tpart def V {\n",
    "\t\tm;\n",
    "\t}\n",
    "\t\n",
    "\tpart vv : V;\n",
    "\t\n",
    "\trequirement def AnalysisObjective {\n",
    "\t\tdoc /* ... */\n",
    "\t}\n",
    "\n",
    "\tanalysis def AnalysisCase {\n",
    "\t\tsubject v : V;\n",
    "\t\t\n",
    "\t\tobjective obj : AnalysisObjective { \n",
    "\t\t\tsubject = result;\n",
    "\t\t}\n",
    "\t\t\n",
    "\t\tv.m\n",
    "\t}\n",
    "\t\n",
    "\tanalysis def AnalysisPlan {\n",
    "\t\tsubject v : V;\n",
    "\t\t\n",
    "\t\tobjective {\n",
    "\t\t\tdoc /* ... */\n",
    "\t\t}\n",
    "\t\t\n",
    "\t\tanalysis analysisCase : AnalysisCase () return mass;\n",
    "\t}\n",
    "\t\n",
    "\tpart analysisContext {\n",
    "\t\tanalysis analysisPlan : AnalysisPlan {\n",
    "\t\t\tsubject v = vv;\n",
    "\t\t}\n",
    "\t}\n",
    "}"
   ]
  },
  {
   "cell_type": "code",
   "execution_count": 2,
   "id": "c58c9f50",
   "metadata": {
    "execution": {
     "iopub.execute_input": "2022-02-05T16:51:59.755461Z",
     "iopub.status.busy": "2022-02-05T16:51:59.755002Z",
     "iopub.status.idle": "2022-02-05T16:52:00.312095Z",
     "shell.execute_reply": "2022-02-05T16:52:00.310542Z"
    }
   },
   "outputs": [
    {
     "data": {
      "image/svg+xml": [
       "<?xml version=\"1.0\" encoding=\"UTF-8\" standalone=\"no\"?><svg xmlns=\"http://www.w3.org/2000/svg\" xmlns:xlink=\"http://www.w3.org/1999/xlink\" contentScriptType=\"application/ecmascript\" contentStyleType=\"text/css\" height=\"685px\" preserveAspectRatio=\"none\" style=\"width:380px;height:685px;\" version=\"1.1\" viewBox=\"0 0 380 685\" width=\"380px\" zoomAndPan=\"magnify\"><defs/><g><!--MD5=[fbc87193dbaf4d95561dea2c320d4a47]\n",
       "cluster E1--><a href=\"psysml:e1dfe890-ec15-4931-b288-05d8c66f0e23\" target=\"_top\" title=\"psysml:e1dfe890-ec15-4931-b288-05d8c66f0e23\" xlink:actuate=\"onRequest\" xlink:href=\"psysml:e1dfe890-ec15-4931-b288-05d8c66f0e23\" xlink:show=\"new\" xlink:title=\"psysml:e1dfe890-ec15-4931-b288-05d8c66f0e23\" xlink:type=\"simple\"><polygon fill=\"#FFFFFF\" points=\"16,6,108,6,115,28.2969,358,28.2969,358,673,16,673,16,6\" style=\"stroke: #000000; stroke-width: 1.5;\"/><line style=\"stroke: #000000; stroke-width: 1.5;\" x1=\"16\" x2=\"115\" y1=\"28.2969\" y2=\"28.2969\"/><text fill=\"#000000\" font-family=\"sans-serif\" font-size=\"14\" font-weight=\"bold\" lengthAdjust=\"spacingAndGlyphs\" textLength=\"86\" x=\"20\" y=\"20.9951\">AnalysisTest</text></a><!--MD5=[14e3b0961a2654348d326746436168a1]\n",
       "cluster E6--><a href=\"psysml:0d28215e-abd0-4258-9ce4-d7487f47f154\" target=\"_top\" title=\"psysml:0d28215e-abd0-4258-9ce4-d7487f47f154\" xlink:actuate=\"onRequest\" xlink:href=\"psysml:0d28215e-abd0-4258-9ce4-d7487f47f154\" xlink:show=\"new\" xlink:title=\"psysml:0d28215e-abd0-4258-9ce4-d7487f47f154\" xlink:type=\"simple\"><rect fill=\"#FFFFFF\" height=\"136\" id=\"E6\" style=\"stroke: #383838; stroke-width: 1.5;\" width=\"278\" x=\"48\" y=\"267\"/><rect fill=\"#F8F8F8\" height=\"37.9375\" style=\"stroke: #383838; stroke-width: 1.5;\" width=\"278\" x=\"48\" y=\"267\"/><text fill=\"#000000\" font-family=\"sans-serif\" font-size=\"12\" font-style=\"italic\" lengthAdjust=\"spacingAndGlyphs\" textLength=\"88\" x=\"143\" y=\"283.1387\">«analysis def»</text><text fill=\"#000000\" font-family=\"sans-serif\" font-size=\"12\" lengthAdjust=\"spacingAndGlyphs\" textLength=\"77\" x=\"148.5\" y=\"297.1074\">AnalysisPlan</text></a><!--MD5=[b4997ac47864f28c2f74865a473b2911]\n",
       "class E2--><a href=\"psysml:e8de7c06-a552-45cc-9ef9-bdca622a4dc8\" target=\"_top\" title=\"psysml:e8de7c06-a552-45cc-9ef9-bdca622a4dc8\" xlink:actuate=\"onRequest\" xlink:href=\"psysml:e8de7c06-a552-45cc-9ef9-bdca622a4dc8\" xlink:show=\"new\" xlink:title=\"psysml:e8de7c06-a552-45cc-9ef9-bdca622a4dc8\" xlink:type=\"simple\"><rect fill=\"#FFFFFF\" height=\"75.5469\" id=\"E2\" style=\"stroke: #383838; stroke-width: 1.5;\" width=\"70\" x=\"179\" y=\"581\"/><text fill=\"#000000\" font-family=\"sans-serif\" font-size=\"12\" font-style=\"italic\" lengthAdjust=\"spacingAndGlyphs\" textLength=\"68\" x=\"180\" y=\"597.1387\">«part  def»</text><text fill=\"#000000\" font-family=\"sans-serif\" font-size=\"12\" lengthAdjust=\"spacingAndGlyphs\" textLength=\"8\" x=\"210\" y=\"611.1074\">V</text><line style=\"stroke: #383838; stroke-width: 1.5;\" x1=\"180\" x2=\"248\" y1=\"618.9375\" y2=\"618.9375\"/><text fill=\"#000000\" font-family=\"sans-serif\" font-size=\"11\" lengthAdjust=\"spacingAndGlyphs\" textLength=\"11\" x=\"185\" y=\"649.9526\">m</text><line style=\"stroke: #383838; stroke-width: 1.0;\" x1=\"180\" x2=\"183\" y1=\"633.3398\" y2=\"633.3398\"/><text fill=\"#000000\" font-family=\"sans-serif\" font-size=\"11\" lengthAdjust=\"spacingAndGlyphs\" textLength=\"62\" x=\"183\" y=\"636.6479\">references</text><line style=\"stroke: #383838; stroke-width: 1.0;\" x1=\"245\" x2=\"248\" y1=\"633.3398\" y2=\"633.3398\"/></a><!--MD5=[09b614a08d8cba4a07c9adeb5e0fee81]\n",
       "class E3--><a href=\"psysml:e405eddc-d04c-43ee-94c7-f68d6bd4037b\" target=\"_top\" title=\"psysml:e405eddc-d04c-43ee-94c7-f68d6bd4037b\" xlink:actuate=\"onRequest\" xlink:href=\"psysml:e405eddc-d04c-43ee-94c7-f68d6bd4037b\" xlink:show=\"new\" xlink:title=\"psysml:e405eddc-d04c-43ee-94c7-f68d6bd4037b\" xlink:type=\"simple\"><rect fill=\"#FFFFFF\" height=\"45.9375\" id=\"E3\" rx=\"10\" ry=\"10\" style=\"stroke: #383838; stroke-width: 1.5;\" width=\"42\" x=\"297\" y=\"458\"/><text fill=\"#000000\" font-family=\"sans-serif\" font-size=\"12\" font-style=\"italic\" lengthAdjust=\"spacingAndGlyphs\" textLength=\"40\" x=\"298\" y=\"474.1387\">«part»</text><text fill=\"#000000\" font-family=\"sans-serif\" font-size=\"12\" lengthAdjust=\"spacingAndGlyphs\" textLength=\"28\" x=\"302\" y=\"488.1074\">vv: V</text><line style=\"stroke: #383838; stroke-width: 1.5;\" x1=\"298\" x2=\"338\" y1=\"495.9375\" y2=\"495.9375\"/></a><!--MD5=[ebbe1d658d1005bcc118a6aa81145e00]\n",
       "class E4--><a href=\"psysml:61935c6a-e9b2-427b-8e93-9f8ea2764a4f\" target=\"_top\" title=\"psysml:61935c6a-e9b2-427b-8e93-9f8ea2764a4f\" xlink:actuate=\"onRequest\" xlink:href=\"psysml:61935c6a-e9b2-427b-8e93-9f8ea2764a4f\" xlink:show=\"new\" xlink:title=\"psysml:61935c6a-e9b2-427b-8e93-9f8ea2764a4f\" xlink:type=\"simple\"><rect fill=\"#FFFFFF\" height=\"66.7422\" id=\"E4\" style=\"stroke: #383838; stroke-width: 1.5;\" width=\"121\" x=\"197.5\" y=\"41\"/><text fill=\"#000000\" font-family=\"sans-serif\" font-size=\"12\" font-style=\"italic\" lengthAdjust=\"spacingAndGlyphs\" textLength=\"119\" x=\"198.5\" y=\"57.1387\">«requirement  def»</text><text fill=\"#000000\" font-family=\"sans-serif\" font-size=\"12\" lengthAdjust=\"spacingAndGlyphs\" textLength=\"107\" x=\"204.5\" y=\"71.1074\">AnalysisObjective</text><line style=\"stroke: #383838; stroke-width: 1.5;\" x1=\"198.5\" x2=\"317.5\" y1=\"78.9375\" y2=\"78.9375\"/><text fill=\"#000000\" font-family=\"sans-serif\" font-size=\"11\" lengthAdjust=\"spacingAndGlyphs\" textLength=\"12\" x=\"203.5\" y=\"93.1479\">...</text><line style=\"stroke: #383838; stroke-width: 1.0;\" x1=\"198.5\" x2=\"317.5\" y1=\"99.7422\" y2=\"99.7422\"/></a><!--MD5=[fd4143e9d270a159db93a4ea2a975926]\n",
       "class E9--><a href=\"psysml:b24749b9-9e77-4740-bd21-7fc3830bb957\" target=\"_top\" title=\"psysml:b24749b9-9e77-4740-bd21-7fc3830bb957\" xlink:actuate=\"onRequest\" xlink:href=\"psysml:b24749b9-9e77-4740-bd21-7fc3830bb957\" xlink:show=\"new\" xlink:title=\"psysml:b24749b9-9e77-4740-bd21-7fc3830bb957\" xlink:type=\"simple\"><rect fill=\"#FFFFFF\" height=\"45.9375\" id=\"E9\" rx=\"10\" ry=\"10\" style=\"stroke: #383838; stroke-width: 1.5;\" width=\"108\" x=\"32\" y=\"51.5\"/><text fill=\"#000000\" font-family=\"sans-serif\" font-size=\"12\" font-style=\"italic\" lengthAdjust=\"spacingAndGlyphs\" textLength=\"40\" x=\"66\" y=\"67.6387\">«part»</text><text fill=\"#000000\" font-family=\"sans-serif\" font-size=\"12\" lengthAdjust=\"spacingAndGlyphs\" textLength=\"98\" x=\"35\" y=\"81.6074\">analysisContext</text><line style=\"stroke: #383838; stroke-width: 1.5;\" x1=\"33\" x2=\"139\" y1=\"89.4375\" y2=\"89.4375\"/></a><g id=\"E1.E5\"><a href=\"psysml:5016a817-b8b6-43b2-a1c9-71130e2545c5\" target=\"_top\" title=\"psysml:5016a817-b8b6-43b2-a1c9-71130e2545c5\" xlink:actuate=\"onRequest\" xlink:href=\"psysml:5016a817-b8b6-43b2-a1c9-71130e2545c5\" xlink:show=\"new\" xlink:title=\"psysml:5016a817-b8b6-43b2-a1c9-71130e2545c5\" xlink:type=\"simple\"><rect fill=\"#FFFFFF\" height=\"42.9375\" id=\"E5\" style=\"stroke: #383838; stroke-width: 1.5;\" width=\"95\" x=\"166.5\" y=\"459.5\"/><rect fill=\"#F8F8F8\" height=\"37.9375\" style=\"stroke: #383838; stroke-width: 1.5;\" width=\"95\" x=\"166.5\" y=\"459.5\"/><text fill=\"#000000\" font-family=\"sans-serif\" font-size=\"12\" font-style=\"italic\" lengthAdjust=\"spacingAndGlyphs\" textLength=\"88\" x=\"170\" y=\"475.6387\">«analysis def»</text><text fill=\"#000000\" font-family=\"sans-serif\" font-size=\"12\" lengthAdjust=\"spacingAndGlyphs\" textLength=\"81\" x=\"173.5\" y=\"489.6074\">AnalysisCase</text></a></g><!--MD5=[2156ba9850f5573cc1fc38a6a4b2f02b]\n",
       "class E7--><a href=\"psysml:317ace64-a3b7-4095-b75a-9c551641bbd2\" target=\"_top\" title=\"psysml:317ace64-a3b7-4095-b75a-9c551641bbd2\" xlink:actuate=\"onRequest\" xlink:href=\"psysml:317ace64-a3b7-4095-b75a-9c551641bbd2\" xlink:show=\"new\" xlink:title=\"psysml:317ace64-a3b7-4095-b75a-9c551641bbd2\" xlink:type=\"simple\"><rect fill=\"#FFFFFF\" height=\"52.7734\" id=\"E7\" rx=\"10\" ry=\"10\" style=\"stroke: #383838; stroke-width: 1.5;\" width=\"84\" x=\"218\" y=\"326\"/><text fill=\"#000000\" font-family=\"sans-serif\" font-size=\"12\" lengthAdjust=\"spacingAndGlyphs\" textLength=\"70\" x=\"225\" y=\"342.1387\">«objective»</text><line style=\"stroke: #383838; stroke-width: 1.5;\" x1=\"219\" x2=\"301\" y1=\"349.9688\" y2=\"349.9688\"/><text fill=\"#000000\" font-family=\"sans-serif\" font-size=\"11\" lengthAdjust=\"spacingAndGlyphs\" textLength=\"12\" x=\"224\" y=\"364.1792\">...</text><line style=\"stroke: #383838; stroke-width: 1.0;\" x1=\"219\" x2=\"301\" y1=\"370.7734\" y2=\"370.7734\"/></a><g id=\"E1.E6.E8\"><a href=\"psysml:0f757ff2-27a2-40d5-a25f-af43358ff77a\" target=\"_top\" title=\"psysml:0f757ff2-27a2-40d5-a25f-af43358ff77a\" xlink:actuate=\"onRequest\" xlink:href=\"psysml:0f757ff2-27a2-40d5-a25f-af43358ff77a\" xlink:show=\"new\" xlink:title=\"psysml:0f757ff2-27a2-40d5-a25f-af43358ff77a\" xlink:type=\"simple\"><rect fill=\"#FFFFFF\" height=\"42.9375\" id=\"E8\" rx=\"10\" ry=\"10\" style=\"stroke: #383838; stroke-width: 1.5;\" width=\"92\" x=\"91\" y=\"331\"/><rect fill=\"#F8F8F8\" height=\"37.9375\" rx=\"10\" ry=\"10\" style=\"stroke: #F8F8F8; stroke-width: 1.5;\" width=\"92\" x=\"91\" y=\"331\"/><rect fill=\"#F8F8F8\" height=\"10\" style=\"stroke: #F8F8F8; stroke-width: 1.5;\" width=\"92\" x=\"91\" y=\"358.9375\"/><rect fill=\"none\" height=\"42.9375\" id=\"E8\" rx=\"10\" ry=\"10\" style=\"stroke: #383838; stroke-width: 1.5;\" width=\"92\" x=\"91\" y=\"331\"/><text fill=\"#000000\" font-family=\"sans-serif\" font-size=\"12\" font-style=\"italic\" lengthAdjust=\"spacingAndGlyphs\" textLength=\"64\" x=\"105\" y=\"347.1387\">«analysis»</text><text fill=\"#000000\" font-family=\"sans-serif\" font-size=\"12\" lengthAdjust=\"spacingAndGlyphs\" textLength=\"81\" x=\"96.5\" y=\"361.1074\">analysisCase</text></a></g><g id=\"E1.E10\"><a href=\"psysml:9d8d7d87-8dd4-470f-9d18-cffbc3763f0c\" target=\"_top\" title=\"psysml:9d8d7d87-8dd4-470f-9d18-cffbc3763f0c\" xlink:actuate=\"onRequest\" xlink:href=\"psysml:9d8d7d87-8dd4-470f-9d18-cffbc3763f0c\" xlink:show=\"new\" xlink:title=\"psysml:9d8d7d87-8dd4-470f-9d18-cffbc3763f0c\" xlink:type=\"simple\"><rect fill=\"#FFFFFF\" height=\"42.9375\" id=\"E10\" rx=\"10\" ry=\"10\" style=\"stroke: #383838; stroke-width: 1.5;\" width=\"88\" x=\"37\" y=\"169\"/><rect fill=\"#F8F8F8\" height=\"37.9375\" rx=\"10\" ry=\"10\" style=\"stroke: #F8F8F8; stroke-width: 1.5;\" width=\"88\" x=\"37\" y=\"169\"/><rect fill=\"#F8F8F8\" height=\"10\" style=\"stroke: #F8F8F8; stroke-width: 1.5;\" width=\"88\" x=\"37\" y=\"196.9375\"/><rect fill=\"none\" height=\"42.9375\" id=\"E10\" rx=\"10\" ry=\"10\" style=\"stroke: #383838; stroke-width: 1.5;\" width=\"88\" x=\"37\" y=\"169\"/><text fill=\"#000000\" font-family=\"sans-serif\" font-size=\"12\" font-style=\"italic\" lengthAdjust=\"spacingAndGlyphs\" textLength=\"64\" x=\"49\" y=\"185.1387\">«analysis»</text><text fill=\"#000000\" font-family=\"sans-serif\" font-size=\"12\" lengthAdjust=\"spacingAndGlyphs\" textLength=\"77\" x=\"42.5\" y=\"199.1074\">analysisPlan</text></a></g><!--MD5=[05d275557350bfb9b23a4ef7222b4c39]\n",
       "link E3 to E2--><a href=\"psysml:f45a4065-dcd9-4d0e-be10-466e9a1a32d6\" target=\"_top\" title=\"psysml:f45a4065-dcd9-4d0e-be10-466e9a1a32d6\" xlink:actuate=\"onRequest\" xlink:href=\"psysml:f45a4065-dcd9-4d0e-be10-466e9a1a32d6\" xlink:show=\"new\" xlink:title=\"psysml:f45a4065-dcd9-4d0e-be10-466e9a1a32d6\" xlink:type=\"simple\"><path d=\"M310.33,504 C304.8,518.17 296.47,536.57 286,551 C279.62,559.78 271.98,568.34 264.08,576.23 \" fill=\"none\" id=\"E3-&gt;E2\" style=\"stroke: #383838; stroke-width: 1.0;\"/><polygon fill=\"#FFFFFF\" points=\"249.34,590.06,258.406,571.9545,267.9855,582.164,249.34,590.06\" style=\"stroke: #383838; stroke-width: 1.0;\"/><ellipse cx=\"263.9312\" cy=\"569.5128\" fill=\"#383838\" rx=\"2\" ry=\"2\" style=\"stroke: #383838; stroke-width: 1.0;\"/><ellipse cx=\"270.7737\" cy=\"576.8053\" fill=\"#383838\" rx=\"2\" ry=\"2\" style=\"stroke: #383838; stroke-width: 1.0;\"/></a><!--MD5=[15ebcb19ae302d9b601edb458606d402]\n",
       "link E5 to E2--><a href=\"psysml:4ce798b4-e7f7-45ac-94f6-a9dc23ec95c2\" target=\"_top\" title=\"psysml:4ce798b4-e7f7-45ac-94f6-a9dc23ec95c2\" xlink:actuate=\"onRequest\" xlink:href=\"psysml:4ce798b4-e7f7-45ac-94f6-a9dc23ec95c2\" xlink:show=\"new\" xlink:title=\"psysml:4ce798b4-e7f7-45ac-94f6-a9dc23ec95c2\" xlink:type=\"simple\"><path d=\"M214,502.66 C214,522.01 214,551.52 214,575.85 \" fill=\"none\" id=\"E5-&gt;E2\" style=\"stroke: #383838; stroke-width: 1.0; stroke-dasharray: 7.0,7.0;\"/><polygon fill=\"#383838\" points=\"214,580.96,218,571.96,214,575.96,210,571.96,214,580.96\" style=\"stroke: #383838; stroke-width: 1.0;\"/><text fill=\"#000000\" font-family=\"sans-serif\" font-size=\"13\" lengthAdjust=\"spacingAndGlyphs\" textLength=\"62\" x=\"215\" y=\"547.0669\">«subject»</text></a><!--MD5=[2351f337d6de0f557b50152ba70847b5]\n",
       "link E6 to E2--><a href=\"psysml:38ee38e5-fe2f-49e8-a238-8ef961814591\" target=\"_top\" title=\"psysml:38ee38e5-fe2f-49e8-a238-8ef961814591\" xlink:actuate=\"onRequest\" xlink:href=\"psysml:38ee38e5-fe2f-49e8-a238-8ef961814591\" xlink:show=\"new\" xlink:title=\"psysml:38ee38e5-fe2f-49e8-a238-8ef961814591\" xlink:type=\"simple\"><path d=\"M57.5084,403.137 C57.5293,403.365 57.5504,403.5934 57.5718,403.8223 C57.6145,404.2801 57.6581,404.7398 57.7028,405.2013 C57.792,406.1242 57.8852,407.0543 57.9825,407.9913 C61.095,437.9725 68.38,474.885 85,504 C106.54,541.73 145.2,573.36 174.61,593.66 \" fill=\"none\" id=\"E6-&gt;E2\" style=\"stroke: #383838; stroke-width: 1.0; stroke-dasharray: 7.0,7.0;\"/><polygon fill=\"#383838\" points=\"178.87,596.58,173.6864,588.2056,174.7386,593.7638,169.1804,594.8159,178.87,596.58\" style=\"stroke: #383838; stroke-width: 1.0;\"/><text fill=\"#000000\" font-family=\"sans-serif\" font-size=\"13\" lengthAdjust=\"spacingAndGlyphs\" textLength=\"62\" x=\"86\" y=\"485.5669\">«subject»</text></a><!--MD5=[1ccb2481ffa92f8d51a74ee30c51832a]\n",
       "link E8 to E5--><a href=\"psysml:cf5e8ef0-758f-412b-8419-a299a9750eac\" target=\"_top\" title=\"psysml:cf5e8ef0-758f-412b-8419-a299a9750eac\" xlink:actuate=\"onRequest\" xlink:href=\"psysml:cf5e8ef0-758f-412b-8419-a299a9750eac\" xlink:show=\"new\" xlink:title=\"psysml:cf5e8ef0-758f-412b-8419-a299a9750eac\" xlink:type=\"simple\"><path d=\"M149.54,374.11 C160.73,392.48 177.39,419.85 190.97,442.16 \" fill=\"none\" id=\"E8-&gt;E5\" style=\"stroke: #383838; stroke-width: 1.0;\"/><polygon fill=\"#FFFFFF\" points=\"201.46,459.4,185.6016,446.8099,197.5604,439.5306,201.46,459.4\" style=\"stroke: #383838; stroke-width: 1.0;\"/><ellipse cx=\"184.3463\" cy=\"440.901\" fill=\"#383838\" rx=\"2\" ry=\"2\" style=\"stroke: #383838; stroke-width: 1.0;\"/><ellipse cx=\"192.8883\" cy=\"435.7016\" fill=\"#383838\" rx=\"2\" ry=\"2\" style=\"stroke: #383838; stroke-width: 1.0;\"/></a><!--MD5=[198716bf12f04006f5c20d61bde6d80d]\n",
       "link E10 to E6--><a href=\"psysml:4172c94c-9fb8-4464-b137-e530fc31134b\" target=\"_top\" title=\"psysml:4172c94c-9fb8-4464-b137-e530fc31134b\" xlink:actuate=\"onRequest\" xlink:href=\"psysml:4172c94c-9fb8-4464-b137-e530fc31134b\" xlink:show=\"new\" xlink:title=\"psysml:4172c94c-9fb8-4464-b137-e530fc31134b\" xlink:type=\"simple\"><path d=\"M77.78,212.09 C76.12,222.725 73.9581,236.5687 71.6419,251.3978 C71.0628,255.1051 70.4741,258.8739 69.8812,262.6696 C69.7329,263.6185 69.5844,264.5691 69.4358,265.5209 C69.3614,265.9967 69.287,266.4729 69.2126,266.9493 \" fill=\"none\" id=\"E10-&gt;E6\" style=\"stroke: #383838; stroke-width: 1.0;\"/><polygon fill=\"#FFFFFF\" points=\"69.2126,266.9493,65.2291,247.0965,79.0613,249.2573,69.2126,266.9493\" style=\"stroke: #383838; stroke-width: 1.0;\"/><ellipse cx=\"68.0849\" cy=\"241.7735\" fill=\"#383838\" rx=\"2\" ry=\"2\" style=\"stroke: #383838; stroke-width: 1.0;\"/><ellipse cx=\"77.965\" cy=\"243.317\" fill=\"#383838\" rx=\"2\" ry=\"2\" style=\"stroke: #383838; stroke-width: 1.0;\"/></a><!--MD5=[23ac544a70576c3e717098101004234c]\n",
       "reverse link E9 to E10--><a href=\"psysml:9d8d7d87-8dd4-470f-9d18-cffbc3763f0c\" target=\"_top\" title=\"psysml:9d8d7d87-8dd4-470f-9d18-cffbc3763f0c\" xlink:actuate=\"onRequest\" xlink:href=\"psysml:9d8d7d87-8dd4-470f-9d18-cffbc3763f0c\" xlink:show=\"new\" xlink:title=\"psysml:9d8d7d87-8dd4-470f-9d18-cffbc3763f0c\" xlink:type=\"simple\"><path d=\"M84.45,110.8 C83.62,129.84 82.61,152.68 81.91,168.84 \" fill=\"none\" id=\"E9&lt;-E10\" style=\"stroke: #383838; stroke-width: 1.0;\"/><polygon fill=\"#383838\" points=\"85.02,97.75,80.7601,103.5684,84.4925,109.7384,88.7524,103.92,85.02,97.75\" style=\"stroke: #383838; stroke-width: 1.0;\"/></a><!--MD5=[85d1ba0a00382af0601a65b58bdfdbdc]\n",
       "@startuml\r\n",
       " skinparam monochrome true\r\n",
       "skinparam classbackgroundcolor white\r\n",
       "skinparam shadowing false\r\n",
       "skinparam wrapWidth 300\r\n",
       "hide circle\r\n",
       "\r\n",
       "package \"AnalysisTest\" as E1  [[psysml:e1dfe890-ec15-4931-b288-05d8c66f0e23 ]]  {\r\n",
       "comp def \"V\" as E2  <<(T,blue) part  def>> [[psysml:e8de7c06-a552-45cc-9ef9-bdca622a4dc8 ]] {\r\n",
       "- - references - -\r\n",
       "m\r\n",
       "}\r\n",
       "comp usage \"vv: V \" as E3  <<(T,blue) part>> [[psysml:e405eddc-d04c-43ee-94c7-f68d6bd4037b ]] {\r\n",
       "}\r\n",
       "comp def \"AnalysisObjective\" as E4  <<(T,blue) requirement  def>> [[psysml:61935c6a-e9b2-427b-8e93-9f8ea2764a4f ]] {\r\n",
       "...\r\n",
       "- -\r\n",
       "}\r\n",
       "rec def \"AnalysisCase\" as E5 << analysis def>> [[psysml:5016a817-b8b6-43b2-a1c9-71130e2545c5 ]] {\r\n",
       "}\r\n",
       "rec def \"AnalysisPlan\" as E6 << analysis def>> [[psysml:0d28215e-abd0-4258-9ce4-d7487f47f154 ]] {\r\n",
       "comp usage \" <U+00AB>objective<U+00BB> \" as E7 [[psysml:317ace64-a3b7-4095-b75a-9c551641bbd2 ]] {\r\n",
       "...\r\n",
       "- -\r\n",
       "}\r\n",
       "rec usage \"analysisCase\" as E8 << analysis>> [[psysml:0f757ff2-27a2-40d5-a25f-af43358ff77a ]] {\r\n",
       "}\r\n",
       "}\r\n",
       "comp usage \"analysisContext \" as E9  <<(T,blue) part>> [[psysml:b24749b9-9e77-4740-bd21-7fc3830bb957 ]] {\r\n",
       "}\r\n",
       "rec usage \"analysisPlan\" as E10 << analysis>> [[psysml:9d8d7d87-8dd4-470f-9d18-cffbc3763f0c ]] {\r\n",
       "}\r\n",
       "}\r\n",
       "E3 - -:|> E2 [[psysml:f45a4065-dcd9-4d0e-be10-466e9a1a32d6 ]] \r\n",
       "E5 ..> E2 [[psysml:4ce798b4-e7f7-45ac-94f6-a9dc23ec95c2 ]] : <<subject>>\r\n",
       "E6 ..> E2 [[psysml:38ee38e5-fe2f-49e8-a238-8ef961814591 ]] : <<subject>>\r\n",
       "E8 - -:|> E5 [[psysml:cf5e8ef0-758f-412b-8419-a299a9750eac ]] \r\n",
       "E10 - -:|> E6 [[psysml:4172c94c-9fb8-4464-b137-e530fc31134b ]] \r\n",
       "E9 *- - E10 [[psysml:9d8d7d87-8dd4-470f-9d18-cffbc3763f0c ]] \r\n",
       "@enduml\r\n",
       "\n",
       "PlantUML version 1.2020.13(Sat Jun 13 12:26:38 UTC 2020)\n",
       "(EPL source distribution)\n",
       "Java Runtime: OpenJDK Runtime Environment\n",
       "JVM: OpenJDK 64-Bit Server VM\n",
       "Default Encoding: UTF-8\n",
       "Language: en\n",
       "Country: null\n",
       "--></g></svg>"
      ]
     },
     "execution_count": 2,
     "metadata": {},
     "output_type": "execute_result"
    }
   ],
   "source": [
    "%viz --style=\"COMPTREE\" --view=\"Default\" \"AnalysisTest\""
   ]
  },
  {
   "cell_type": "code",
   "execution_count": 3,
   "id": "9e91185c",
   "metadata": {
    "execution": {
     "iopub.execute_input": "2022-02-05T16:52:00.361699Z",
     "iopub.status.busy": "2022-02-05T16:52:00.361266Z",
     "iopub.status.idle": "2022-02-05T16:52:00.473531Z",
     "shell.execute_reply": "2022-02-05T16:52:00.471904Z"
    }
   },
   "outputs": [
    {
     "data": {
      "image/svg+xml": [
       "<?xml version=\"1.0\" encoding=\"UTF-8\" standalone=\"no\"?><svg xmlns=\"http://www.w3.org/2000/svg\" xmlns:xlink=\"http://www.w3.org/1999/xlink\" contentScriptType=\"application/ecmascript\" contentStyleType=\"text/css\" height=\"923px\" preserveAspectRatio=\"none\" style=\"width:453px;height:923px;\" version=\"1.1\" viewBox=\"0 0 453 923\" width=\"453px\" zoomAndPan=\"magnify\"><defs/><g><!--MD5=[fbc87193dbaf4d95561dea2c320d4a47]\n",
       "cluster E1--><a href=\"psysml:e1dfe890-ec15-4931-b288-05d8c66f0e23\" target=\"_top\" title=\"psysml:e1dfe890-ec15-4931-b288-05d8c66f0e23\" xlink:actuate=\"onRequest\" xlink:href=\"psysml:e1dfe890-ec15-4931-b288-05d8c66f0e23\" xlink:show=\"new\" xlink:title=\"psysml:e1dfe890-ec15-4931-b288-05d8c66f0e23\" xlink:type=\"simple\"><polygon fill=\"#FFFFFF\" points=\"20.13,6,112.13,6,119.13,28.2969,431.13,28.2969,431.13,911,20.13,911,20.13,6\" style=\"stroke: #000000; stroke-width: 1.5;\"/><line style=\"stroke: #000000; stroke-width: 1.5;\" x1=\"20.13\" x2=\"119.13\" y1=\"28.2969\" y2=\"28.2969\"/><text fill=\"#000000\" font-family=\"sans-serif\" font-size=\"14\" font-weight=\"bold\" lengthAdjust=\"spacingAndGlyphs\" textLength=\"86\" x=\"24.13\" y=\"20.9951\">AnalysisTest</text></a><!--MD5=[b4997ac47864f28c2f74865a473b2911]\n",
       "class E2--><a href=\"psysml:e8de7c06-a552-45cc-9ef9-bdca622a4dc8\" target=\"_top\" title=\"psysml:e8de7c06-a552-45cc-9ef9-bdca622a4dc8\" xlink:actuate=\"onRequest\" xlink:href=\"psysml:e8de7c06-a552-45cc-9ef9-bdca622a4dc8\" xlink:show=\"new\" xlink:title=\"psysml:e8de7c06-a552-45cc-9ef9-bdca622a4dc8\" xlink:type=\"simple\"><rect fill=\"#FFFFFF\" height=\"75.5469\" id=\"E2\" style=\"stroke: #383838; stroke-width: 1.5;\" width=\"70\" x=\"160.13\" y=\"691\"/><text fill=\"#000000\" font-family=\"sans-serif\" font-size=\"12\" font-style=\"italic\" lengthAdjust=\"spacingAndGlyphs\" textLength=\"68\" x=\"161.13\" y=\"707.1387\">«part  def»</text><text fill=\"#000000\" font-family=\"sans-serif\" font-size=\"12\" lengthAdjust=\"spacingAndGlyphs\" textLength=\"8\" x=\"191.13\" y=\"721.1074\">V</text><line style=\"stroke: #383838; stroke-width: 1.5;\" x1=\"161.13\" x2=\"229.13\" y1=\"728.9375\" y2=\"728.9375\"/><text fill=\"#000000\" font-family=\"sans-serif\" font-size=\"11\" lengthAdjust=\"spacingAndGlyphs\" textLength=\"11\" x=\"166.13\" y=\"759.9526\">m</text><line style=\"stroke: #383838; stroke-width: 1.0;\" x1=\"161.13\" x2=\"164.13\" y1=\"743.3398\" y2=\"743.3398\"/><text fill=\"#000000\" font-family=\"sans-serif\" font-size=\"11\" lengthAdjust=\"spacingAndGlyphs\" textLength=\"62\" x=\"164.13\" y=\"746.6479\">references</text><line style=\"stroke: #383838; stroke-width: 1.0;\" x1=\"226.13\" x2=\"229.13\" y1=\"743.3398\" y2=\"743.3398\"/></a><!--MD5=[09b614a08d8cba4a07c9adeb5e0fee81]\n",
       "class E3--><a href=\"psysml:e405eddc-d04c-43ee-94c7-f68d6bd4037b\" target=\"_top\" title=\"psysml:e405eddc-d04c-43ee-94c7-f68d6bd4037b\" xlink:actuate=\"onRequest\" xlink:href=\"psysml:e405eddc-d04c-43ee-94c7-f68d6bd4037b\" xlink:show=\"new\" xlink:title=\"psysml:e405eddc-d04c-43ee-94c7-f68d6bd4037b\" xlink:type=\"simple\"><rect fill=\"#FFFFFF\" height=\"45.9375\" id=\"E3\" rx=\"10\" ry=\"10\" style=\"stroke: #383838; stroke-width: 1.5;\" width=\"42\" x=\"202.13\" y=\"553\"/><text fill=\"#000000\" font-family=\"sans-serif\" font-size=\"12\" font-style=\"italic\" lengthAdjust=\"spacingAndGlyphs\" textLength=\"40\" x=\"203.13\" y=\"569.1387\">«part»</text><text fill=\"#000000\" font-family=\"sans-serif\" font-size=\"12\" lengthAdjust=\"spacingAndGlyphs\" textLength=\"28\" x=\"207.13\" y=\"583.1074\">vv: V</text><line style=\"stroke: #383838; stroke-width: 1.5;\" x1=\"203.13\" x2=\"243.13\" y1=\"590.9375\" y2=\"590.9375\"/></a><!--MD5=[ebbe1d658d1005bcc118a6aa81145e00]\n",
       "class E4--><a href=\"psysml:61935c6a-e9b2-427b-8e93-9f8ea2764a4f\" target=\"_top\" title=\"psysml:61935c6a-e9b2-427b-8e93-9f8ea2764a4f\" xlink:actuate=\"onRequest\" xlink:href=\"psysml:61935c6a-e9b2-427b-8e93-9f8ea2764a4f\" xlink:show=\"new\" xlink:title=\"psysml:61935c6a-e9b2-427b-8e93-9f8ea2764a4f\" xlink:type=\"simple\"><rect fill=\"#FFFFFF\" height=\"66.7422\" id=\"E4\" style=\"stroke: #383838; stroke-width: 1.5;\" width=\"121\" x=\"279.63\" y=\"828\"/><text fill=\"#000000\" font-family=\"sans-serif\" font-size=\"12\" font-style=\"italic\" lengthAdjust=\"spacingAndGlyphs\" textLength=\"119\" x=\"280.63\" y=\"844.1387\">«requirement  def»</text><text fill=\"#000000\" font-family=\"sans-serif\" font-size=\"12\" lengthAdjust=\"spacingAndGlyphs\" textLength=\"107\" x=\"286.63\" y=\"858.1074\">AnalysisObjective</text><line style=\"stroke: #383838; stroke-width: 1.5;\" x1=\"280.63\" x2=\"399.63\" y1=\"865.9375\" y2=\"865.9375\"/><text fill=\"#000000\" font-family=\"sans-serif\" font-size=\"11\" lengthAdjust=\"spacingAndGlyphs\" textLength=\"12\" x=\"285.63\" y=\"880.1479\">...</text><line style=\"stroke: #383838; stroke-width: 1.0;\" x1=\"280.63\" x2=\"399.63\" y1=\"886.7422\" y2=\"886.7422\"/></a><!--MD5=[270fce915f116d4de14055a7c1d9a0f3]\n",
       "class E5--><a href=\"psysml:5016a817-b8b6-43b2-a1c9-71130e2545c5\" target=\"_top\" title=\"psysml:5016a817-b8b6-43b2-a1c9-71130e2545c5\" xlink:actuate=\"onRequest\" xlink:href=\"psysml:5016a817-b8b6-43b2-a1c9-71130e2545c5\" xlink:show=\"new\" xlink:title=\"psysml:5016a817-b8b6-43b2-a1c9-71130e2545c5\" xlink:type=\"simple\"><rect fill=\"#FFFFFF\" height=\"75.5469\" id=\"E5\" style=\"stroke: #383838; stroke-width: 1.5;\" width=\"136\" x=\"279.13\" y=\"538\"/><text fill=\"#000000\" font-family=\"sans-serif\" font-size=\"12\" font-style=\"italic\" lengthAdjust=\"spacingAndGlyphs\" textLength=\"88\" x=\"303.13\" y=\"554.1387\">«analysis def»</text><text fill=\"#000000\" font-family=\"sans-serif\" font-size=\"12\" lengthAdjust=\"spacingAndGlyphs\" textLength=\"81\" x=\"306.63\" y=\"568.1074\">AnalysisCase</text><line style=\"stroke: #383838; stroke-width: 1.5;\" x1=\"280.13\" x2=\"414.13\" y1=\"575.9375\" y2=\"575.9375\"/><text fill=\"#000000\" font-family=\"sans-serif\" font-size=\"11\" lengthAdjust=\"spacingAndGlyphs\" textLength=\"43\" x=\"285.13\" y=\"606.9526\">{ v.m }</text><line style=\"stroke: #383838; stroke-width: 1.0;\" x1=\"280.13\" x2=\"283.13\" y1=\"590.3398\" y2=\"590.3398\"/><text fill=\"#000000\" font-family=\"sans-serif\" font-size=\"11\" lengthAdjust=\"spacingAndGlyphs\" textLength=\"128\" x=\"283.13\" y=\"593.6479\">path step expressions</text><line style=\"stroke: #383838; stroke-width: 1.0;\" x1=\"411.13\" x2=\"414.13\" y1=\"590.3398\" y2=\"590.3398\"/></a><!--MD5=[60a26617385b1d2d0262a64233df1f8d]\n",
       "class E6--><a href=\"psysml:8ed6d9d8-007f-466a-ada9-4e78a60ebf86\" target=\"_top\" title=\"psysml:8ed6d9d8-007f-466a-ada9-4e78a60ebf86\" xlink:actuate=\"onRequest\" xlink:href=\"psysml:8ed6d9d8-007f-466a-ada9-4e78a60ebf86\" xlink:show=\"new\" xlink:title=\"psysml:8ed6d9d8-007f-466a-ada9-4e78a60ebf86\" xlink:type=\"simple\"><rect fill=\"#FFFFFF\" height=\"45.9375\" id=\"E6\" rx=\"10\" ry=\"10\" style=\"stroke: #383838; stroke-width: 1.5;\" width=\"144\" x=\"268.13\" y=\"706\"/><text fill=\"#000000\" font-family=\"sans-serif\" font-size=\"12\" font-style=\"italic\" lengthAdjust=\"spacingAndGlyphs\" textLength=\"91\" x=\"294.63\" y=\"722.1387\">«requirement»</text><text fill=\"#000000\" font-family=\"sans-serif\" font-size=\"12\" lengthAdjust=\"spacingAndGlyphs\" textLength=\"134\" x=\"271.13\" y=\"736.1074\">obj: AnalysisObjective</text><line style=\"stroke: #383838; stroke-width: 1.5;\" x1=\"269.13\" x2=\"411.13\" y1=\"743.9375\" y2=\"743.9375\"/></a><!--MD5=[2156ba9850f5573cc1fc38a6a4b2f02b]\n",
       "class E7--><a href=\"psysml:0d28215e-abd0-4258-9ce4-d7487f47f154\" target=\"_top\" title=\"psysml:0d28215e-abd0-4258-9ce4-d7487f47f154\" xlink:actuate=\"onRequest\" xlink:href=\"psysml:0d28215e-abd0-4258-9ce4-d7487f47f154\" xlink:show=\"new\" xlink:title=\"psysml:0d28215e-abd0-4258-9ce4-d7487f47f154\" xlink:type=\"simple\"><rect fill=\"#FFFFFF\" height=\"45.9375\" id=\"E7\" style=\"stroke: #383838; stroke-width: 1.5;\" width=\"90\" x=\"108.13\" y=\"271\"/><text fill=\"#000000\" font-family=\"sans-serif\" font-size=\"12\" font-style=\"italic\" lengthAdjust=\"spacingAndGlyphs\" textLength=\"88\" x=\"109.13\" y=\"287.1387\">«analysis def»</text><text fill=\"#000000\" font-family=\"sans-serif\" font-size=\"12\" lengthAdjust=\"spacingAndGlyphs\" textLength=\"77\" x=\"114.63\" y=\"301.1074\">AnalysisPlan</text><line style=\"stroke: #383838; stroke-width: 1.5;\" x1=\"109.13\" x2=\"197.13\" y1=\"308.9375\" y2=\"308.9375\"/></a><!--MD5=[b9389687b975829384b498ac4b7476b2]\n",
       "class E8--><a href=\"psysml:317ace64-a3b7-4095-b75a-9c551641bbd2\" target=\"_top\" title=\"psysml:317ace64-a3b7-4095-b75a-9c551641bbd2\" xlink:actuate=\"onRequest\" xlink:href=\"psysml:317ace64-a3b7-4095-b75a-9c551641bbd2\" xlink:show=\"new\" xlink:title=\"psysml:317ace64-a3b7-4095-b75a-9c551641bbd2\" xlink:type=\"simple\"><rect fill=\"#FFFFFF\" height=\"66.7422\" id=\"E8\" rx=\"10\" ry=\"10\" style=\"stroke: #383838; stroke-width: 1.5;\" width=\"93\" x=\"106.63\" y=\"394\"/><text fill=\"#000000\" font-family=\"sans-serif\" font-size=\"12\" font-style=\"italic\" lengthAdjust=\"spacingAndGlyphs\" textLength=\"91\" x=\"107.63\" y=\"410.1387\">«requirement»</text><text fill=\"#000000\" font-family=\"sans-serif\" font-size=\"12\" lengthAdjust=\"spacingAndGlyphs\" textLength=\"19\" x=\"141.63\" y=\"424.1074\">obj</text><line style=\"stroke: #383838; stroke-width: 1.5;\" x1=\"107.63\" x2=\"198.63\" y1=\"431.9375\" y2=\"431.9375\"/><text fill=\"#000000\" font-family=\"sans-serif\" font-size=\"11\" lengthAdjust=\"spacingAndGlyphs\" textLength=\"12\" x=\"112.63\" y=\"446.1479\">...</text><line style=\"stroke: #383838; stroke-width: 1.0;\" x1=\"107.63\" x2=\"198.63\" y1=\"452.7422\" y2=\"452.7422\"/></a><!--MD5=[fd4143e9d270a159db93a4ea2a975926]\n",
       "class E9--><a href=\"psysml:0f757ff2-27a2-40d5-a25f-af43358ff77a\" target=\"_top\" title=\"psysml:0f757ff2-27a2-40d5-a25f-af43358ff77a\" xlink:actuate=\"onRequest\" xlink:href=\"psysml:0f757ff2-27a2-40d5-a25f-af43358ff77a\" xlink:show=\"new\" xlink:title=\"psysml:0f757ff2-27a2-40d5-a25f-af43358ff77a\" xlink:type=\"simple\"><rect fill=\"#FFFFFF\" height=\"45.9375\" id=\"E9\" rx=\"10\" ry=\"10\" style=\"stroke: #383838; stroke-width: 1.5;\" width=\"180\" x=\"235.13\" y=\"404.5\"/><text fill=\"#000000\" font-family=\"sans-serif\" font-size=\"12\" font-style=\"italic\" lengthAdjust=\"spacingAndGlyphs\" textLength=\"64\" x=\"293.13\" y=\"420.6387\">«analysis»</text><text fill=\"#000000\" font-family=\"sans-serif\" font-size=\"12\" lengthAdjust=\"spacingAndGlyphs\" textLength=\"170\" x=\"238.13\" y=\"434.6074\">analysisCase: AnalysisCase</text><line style=\"stroke: #383838; stroke-width: 1.5;\" x1=\"236.13\" x2=\"414.13\" y1=\"442.4375\" y2=\"442.4375\"/></a><!--MD5=[96f4274e9e20536e775497830990834d]\n",
       "class E10--><a href=\"psysml:756c2ee8-950e-4679-a51a-3cb75b1efb3e\" target=\"_top\" title=\"psysml:756c2ee8-950e-4679-a51a-3cb75b1efb3e\" xlink:actuate=\"onRequest\" xlink:href=\"psysml:756c2ee8-950e-4679-a51a-3cb75b1efb3e\" xlink:show=\"new\" xlink:title=\"psysml:756c2ee8-950e-4679-a51a-3cb75b1efb3e\" xlink:type=\"simple\"><rect fill=\"#FFFFFF\" height=\"45.9375\" id=\"E10\" rx=\"10\" ry=\"10\" style=\"stroke: #383838; stroke-width: 1.5;\" width=\"93\" x=\"73.63\" y=\"553\"/><text fill=\"#000000\" font-family=\"sans-serif\" font-size=\"12\" font-style=\"italic\" lengthAdjust=\"spacingAndGlyphs\" textLength=\"91\" x=\"74.63\" y=\"569.1387\">«requirement»</text><text fill=\"#000000\" font-family=\"sans-serif\" font-size=\"12\" lengthAdjust=\"spacingAndGlyphs\" textLength=\"19\" x=\"108.63\" y=\"583.1074\">obj</text><line style=\"stroke: #383838; stroke-width: 1.5;\" x1=\"74.63\" x2=\"165.63\" y1=\"590.9375\" y2=\"590.9375\"/></a><!--MD5=[1dd1bfd58a279cf63c5f349dbc8fc6a1]\n",
       "class E11--><a href=\"psysml:b24749b9-9e77-4740-bd21-7fc3830bb957\" target=\"_top\" title=\"psysml:b24749b9-9e77-4740-bd21-7fc3830bb957\" xlink:actuate=\"onRequest\" xlink:href=\"psysml:b24749b9-9e77-4740-bd21-7fc3830bb957\" xlink:show=\"new\" xlink:title=\"psysml:b24749b9-9e77-4740-bd21-7fc3830bb957\" xlink:type=\"simple\"><rect fill=\"#FFFFFF\" height=\"45.9375\" id=\"E11\" rx=\"10\" ry=\"10\" style=\"stroke: #383838; stroke-width: 1.5;\" width=\"108\" x=\"162.13\" y=\"41\"/><text fill=\"#000000\" font-family=\"sans-serif\" font-size=\"12\" font-style=\"italic\" lengthAdjust=\"spacingAndGlyphs\" textLength=\"40\" x=\"196.13\" y=\"57.1387\">«part»</text><text fill=\"#000000\" font-family=\"sans-serif\" font-size=\"12\" lengthAdjust=\"spacingAndGlyphs\" textLength=\"98\" x=\"165.13\" y=\"71.1074\">analysisContext</text><line style=\"stroke: #383838; stroke-width: 1.5;\" x1=\"163.13\" x2=\"269.13\" y1=\"78.9375\" y2=\"78.9375\"/></a><!--MD5=[49a0ec8f00dab7302a31f22d0f0fe584]\n",
       "class E12--><a href=\"psysml:9d8d7d87-8dd4-470f-9d18-cffbc3763f0c\" target=\"_top\" title=\"psysml:9d8d7d87-8dd4-470f-9d18-cffbc3763f0c\" xlink:actuate=\"onRequest\" xlink:href=\"psysml:9d8d7d87-8dd4-470f-9d18-cffbc3763f0c\" xlink:show=\"new\" xlink:title=\"psysml:9d8d7d87-8dd4-470f-9d18-cffbc3763f0c\" xlink:type=\"simple\"><rect fill=\"#FFFFFF\" height=\"45.9375\" id=\"E12\" rx=\"10\" ry=\"10\" style=\"stroke: #383838; stroke-width: 1.5;\" width=\"172\" x=\"130.13\" y=\"148\"/><text fill=\"#000000\" font-family=\"sans-serif\" font-size=\"12\" font-style=\"italic\" lengthAdjust=\"spacingAndGlyphs\" textLength=\"64\" x=\"184.13\" y=\"164.1387\">«analysis»</text><text fill=\"#000000\" font-family=\"sans-serif\" font-size=\"12\" lengthAdjust=\"spacingAndGlyphs\" textLength=\"162\" x=\"133.13\" y=\"178.1074\">analysisPlan: AnalysisPlan</text><line style=\"stroke: #383838; stroke-width: 1.5;\" x1=\"131.13\" x2=\"301.13\" y1=\"185.9375\" y2=\"185.9375\"/></a><!--MD5=[ee3c913d1a06f366521f9ef512b67efe]\n",
       "class E13--><a href=\"psysml:215563a4-4360-48d3-80f1-175339b6797a\" target=\"_top\" title=\"psysml:215563a4-4360-48d3-80f1-175339b6797a\" xlink:actuate=\"onRequest\" xlink:href=\"psysml:215563a4-4360-48d3-80f1-175339b6797a\" xlink:show=\"new\" xlink:title=\"psysml:215563a4-4360-48d3-80f1-175339b6797a\" xlink:type=\"simple\"><rect fill=\"#FFFFFF\" height=\"45.9375\" id=\"E13\" rx=\"10\" ry=\"10\" style=\"stroke: #383838; stroke-width: 1.5;\" width=\"93\" x=\"233.63\" y=\"271\"/><text fill=\"#000000\" font-family=\"sans-serif\" font-size=\"12\" font-style=\"italic\" lengthAdjust=\"spacingAndGlyphs\" textLength=\"91\" x=\"234.63\" y=\"287.1387\">«requirement»</text><text fill=\"#000000\" font-family=\"sans-serif\" font-size=\"12\" lengthAdjust=\"spacingAndGlyphs\" textLength=\"19\" x=\"268.63\" y=\"301.1074\">obj</text><line style=\"stroke: #383838; stroke-width: 1.5;\" x1=\"234.63\" x2=\"325.63\" y1=\"308.9375\" y2=\"308.9375\"/></a><!--MD5=[05d275557350bfb9b23a4ef7222b4c39]\n",
       "link E3 to E2--><a href=\"psysml:f45a4065-dcd9-4d0e-be10-466e9a1a32d6\" target=\"_top\" title=\"psysml:f45a4065-dcd9-4d0e-be10-466e9a1a32d6\" xlink:actuate=\"onRequest\" xlink:href=\"psysml:f45a4065-dcd9-4d0e-be10-466e9a1a32d6\" xlink:show=\"new\" xlink:title=\"psysml:f45a4065-dcd9-4d0e-be10-466e9a1a32d6\" xlink:type=\"simple\"><path d=\"M213.8,599.22 C208.84,612.07 203.16,628.68 200.13,644 C198.44,652.55 197.27,661.67 196.46,670.63 \" fill=\"none\" id=\"E3-&gt;E2\" style=\"stroke: #383838; stroke-width: 1.0;\"/><polygon fill=\"#FFFFFF\" points=\"195.18,690.93,189.4022,671.5234,203.3738,672.4135,195.18,690.93\" style=\"stroke: #383838; stroke-width: 1.0;\"/><ellipse cx=\"191.7605\" cy=\"665.9621\" fill=\"#383838\" rx=\"2\" ry=\"2\" style=\"stroke: #383838; stroke-width: 1.0;\"/><ellipse cx=\"201.7403\" cy=\"666.5979\" fill=\"#383838\" rx=\"2\" ry=\"2\" style=\"stroke: #383838; stroke-width: 1.0;\"/></a><!--MD5=[15ebcb19ae302d9b601edb458606d402]\n",
       "link E5 to E2--><a href=\"psysml:4ce798b4-e7f7-45ac-94f6-a9dc23ec95c2\" target=\"_top\" title=\"psysml:4ce798b4-e7f7-45ac-94f6-a9dc23ec95c2\" xlink:actuate=\"onRequest\" xlink:href=\"psysml:4ce798b4-e7f7-45ac-94f6-a9dc23ec95c2\" xlink:show=\"new\" xlink:title=\"psysml:4ce798b4-e7f7-45ac-94f6-a9dc23ec95c2\" xlink:type=\"simple\"><path d=\"M303.36,614.09 C292.6,623.61 281.27,633.99 271.13,644 C257.44,657.51 243.12,672.96 230.65,686.89 \" fill=\"none\" id=\"E5-&gt;E2\" style=\"stroke: #383838; stroke-width: 1.0; stroke-dasharray: 7.0,7.0;\"/><polygon fill=\"#383838\" points=\"227.18,690.78,236.1576,686.7299,230.5098,687.0501,230.1897,681.4023,227.18,690.78\" style=\"stroke: #383838; stroke-width: 1.0;\"/><text fill=\"#000000\" font-family=\"sans-serif\" font-size=\"13\" lengthAdjust=\"spacingAndGlyphs\" textLength=\"62\" x=\"272.13\" y=\"657.0669\">«subject»</text></a><!--MD5=[9120cf2e5df3bff93db8f754bbbc09b4]\n",
       "link E5 to E6--><a href=\"psysml:b91cd128-722a-4ae9-a5d3-51e53a9e38d7\" target=\"_top\" title=\"psysml:b91cd128-722a-4ae9-a5d3-51e53a9e38d7\" xlink:actuate=\"onRequest\" xlink:href=\"psysml:b91cd128-722a-4ae9-a5d3-51e53a9e38d7\" xlink:show=\"new\" xlink:title=\"psysml:b91cd128-722a-4ae9-a5d3-51e53a9e38d7\" xlink:type=\"simple\"><path d=\"M345.4,614.33 C344.21,639.95 342.65,673.54 341.54,697.54 \" fill=\"none\" id=\"E5-&gt;E6\" style=\"stroke: #383838; stroke-width: 1.0;\"/><polygon fill=\"#383838\" points=\"341.17,705.61,344.5378,697.7577,338.5443,697.4795,341.17,705.61\" style=\"stroke: #383838; stroke-width: 1.0;\"/><text fill=\"#000000\" font-family=\"sans-serif\" font-size=\"13\" lengthAdjust=\"spacingAndGlyphs\" textLength=\"73\" x=\"344.13\" y=\"657.0669\">«objective»</text></a><!--MD5=[f667431f98296947986a1a7595a31603]\n",
       "link E6 to E4--><a href=\"psysml:b2f535bd-3827-4daf-a953-8c36dc8e5a05\" target=\"_top\" title=\"psysml:b2f535bd-3827-4daf-a953-8c36dc8e5a05\" xlink:actuate=\"onRequest\" xlink:href=\"psysml:b2f535bd-3827-4daf-a953-8c36dc8e5a05\" xlink:show=\"new\" xlink:title=\"psysml:b2f535bd-3827-4daf-a953-8c36dc8e5a05\" xlink:type=\"simple\"><path d=\"M340.13,752.14 C340.13,767.41 340.13,788.39 340.13,807.82 \" fill=\"none\" id=\"E6-&gt;E4\" style=\"stroke: #383838; stroke-width: 1.0;\"/><polygon fill=\"#FFFFFF\" points=\"340.13,827.96,333.13,808.96,347.13,808.96,340.13,827.96\" style=\"stroke: #383838; stroke-width: 1.0;\"/><ellipse cx=\"335.13\" cy=\"803.26\" fill=\"#383838\" rx=\"2\" ry=\"2\" style=\"stroke: #383838; stroke-width: 1.0;\"/><ellipse cx=\"345.13\" cy=\"803.26\" fill=\"#383838\" rx=\"2\" ry=\"2\" style=\"stroke: #383838; stroke-width: 1.0;\"/></a><!--MD5=[583832df87f4419a098336a29a52fa00]\n",
       "link E7 to E2--><a href=\"psysml:38ee38e5-fe2f-49e8-a238-8ef961814591\" target=\"_top\" title=\"psysml:38ee38e5-fe2f-49e8-a238-8ef961814591\" xlink:actuate=\"onRequest\" xlink:href=\"psysml:38ee38e5-fe2f-49e8-a238-8ef961814591\" xlink:show=\"new\" xlink:title=\"psysml:38ee38e5-fe2f-49e8-a238-8ef961814591\" xlink:type=\"simple\"><path d=\"M135.62,317.09 C95.87,370.11 6,508.04 56.13,614 C76.51,657.06 122,689.3 155.42,708.32 \" fill=\"none\" id=\"E7-&gt;E2\" style=\"stroke: #383838; stroke-width: 1.0; stroke-dasharray: 7.0,7.0;\"/><polygon fill=\"#383838\" points=\"159.84,710.8,153.9458,702.9096,155.4787,708.3548,150.0335,709.8877,159.84,710.8\" style=\"stroke: #383838; stroke-width: 1.0;\"/><text fill=\"#000000\" font-family=\"sans-serif\" font-size=\"13\" lengthAdjust=\"spacingAndGlyphs\" textLength=\"62\" x=\"48.13\" y=\"504.0669\">«subject»</text></a><!--MD5=[79bc8f324ef4d02c541433f2e6e513c3]\n",
       "link E7 to E8--><a href=\"psysml:17344d0c-3816-44f9-9c17-e4b7438070db\" target=\"_top\" title=\"psysml:17344d0c-3816-44f9-9c17-e4b7438070db\" xlink:actuate=\"onRequest\" xlink:href=\"psysml:17344d0c-3816-44f9-9c17-e4b7438070db\" xlink:show=\"new\" xlink:title=\"psysml:17344d0c-3816-44f9-9c17-e4b7438070db\" xlink:type=\"simple\"><path d=\"M153.13,317.01 C153.13,335.7 153.13,363.02 153.13,385.69 \" fill=\"none\" id=\"E7-&gt;E8\" style=\"stroke: #383838; stroke-width: 1.0;\"/><polygon fill=\"#383838\" points=\"153.13,393.81,156.13,385.81,150.13,385.81,153.13,393.81\" style=\"stroke: #383838; stroke-width: 1.0;\"/><text fill=\"#000000\" font-family=\"sans-serif\" font-size=\"13\" lengthAdjust=\"spacingAndGlyphs\" textLength=\"73\" x=\"154.13\" y=\"360.0669\">«objective»</text><text fill=\"#000000\" font-family=\"sans-serif\" font-size=\"13\" lengthAdjust=\"spacingAndGlyphs\" textLength=\"7\" x=\"145.4409\" y=\"382.8061\">*</text></a><!--MD5=[e4a10ef82d0e328e31cac39a31e58dda]\n",
       "reverse link E7 to E9--><a href=\"psysml:270a9b55-e8f2-46f5-9c02-ba45f5a1be19\" target=\"_top\" title=\"psysml:270a9b55-e8f2-46f5-9c02-ba45f5a1be19\" xlink:actuate=\"onRequest\" xlink:href=\"psysml:270a9b55-e8f2-46f5-9c02-ba45f5a1be19\" xlink:show=\"new\" xlink:title=\"psysml:270a9b55-e8f2-46f5-9c02-ba45f5a1be19\" xlink:type=\"simple\"><path d=\"M203.01,324.33 C214.15,331.41 225.74,339.19 236.13,347 C259.98,364.92 285.16,387.84 302.63,404.46 \" fill=\"none\" id=\"E7&lt;-E9\" style=\"stroke: #383838; stroke-width: 1.0;\"/><polygon fill=\"#383838\" points=\"191.63,317.25,194.6072,323.8178,201.8149,323.5958,198.8377,317.0279,191.63,317.25\" style=\"stroke: #383838; stroke-width: 1.0;\"/></a><!--MD5=[bfc3ddf2e613be37104f658f09af896c]\n",
       "link E9 to E5--><a href=\"psysml:cf5e8ef0-758f-412b-8419-a299a9750eac\" target=\"_top\" title=\"psysml:cf5e8ef0-758f-412b-8419-a299a9750eac\" xlink:actuate=\"onRequest\" xlink:href=\"psysml:cf5e8ef0-758f-412b-8419-a299a9750eac\" xlink:show=\"new\" xlink:title=\"psysml:cf5e8ef0-758f-412b-8419-a299a9750eac\" xlink:type=\"simple\"><path d=\"M328.47,450.75 C331.16,468.64 335.06,494.59 338.59,518.16 \" fill=\"none\" id=\"E9-&gt;E5\" style=\"stroke: #383838; stroke-width: 1.0;\"/><polygon fill=\"#FFFFFF\" points=\"341.57,537.99,331.824,520.2413,345.6685,518.1607,341.57,537.99\" style=\"stroke: #383838; stroke-width: 1.0;\"/><ellipse cx=\"332.9546\" cy=\"514.3074\" fill=\"#383838\" rx=\"2\" ry=\"2\" style=\"stroke: #383838; stroke-width: 1.0;\"/><ellipse cx=\"342.8436\" cy=\"512.8212\" fill=\"#383838\" rx=\"2\" ry=\"2\" style=\"stroke: #383838; stroke-width: 1.0;\"/></a><!--MD5=[35e5f1cbde42fa304a029880aa2bc7f2]\n",
       "link E9 to E10--><a href=\"psysml:03a60127-fd3f-4561-ae6d-a87475bfdaf0\" target=\"_top\" title=\"psysml:03a60127-fd3f-4561-ae6d-a87475bfdaf0\" xlink:actuate=\"onRequest\" xlink:href=\"psysml:03a60127-fd3f-4561-ae6d-a87475bfdaf0\" xlink:show=\"new\" xlink:title=\"psysml:03a60127-fd3f-4561-ae6d-a87475bfdaf0\" xlink:type=\"simple\"><path d=\"M293.99,450.75 C257.47,476.86 196.93,520.12 157.79,548.09 \" fill=\"none\" id=\"E9-&gt;E10\" style=\"stroke: #383838; stroke-width: 1.0;\"/><polygon fill=\"#383838\" points=\"151.22,552.78,159.4727,550.5679,155.9832,545.6869,151.22,552.78\" style=\"stroke: #383838; stroke-width: 1.0;\"/><text fill=\"#000000\" font-family=\"sans-serif\" font-size=\"13\" lengthAdjust=\"spacingAndGlyphs\" textLength=\"73\" x=\"235.13\" y=\"504.0669\">«objective»</text><text fill=\"#000000\" font-family=\"sans-serif\" font-size=\"13\" lengthAdjust=\"spacingAndGlyphs\" textLength=\"7\" x=\"151.2899\" y=\"541.9999\">*</text></a><!--MD5=[94adabc162ce7e41b39f13be14fbaeb3]\n",
       "reverse link E11 to E12--><a href=\"psysml:7df3fd9f-252d-4e83-afe5-15252f6bd5d9\" target=\"_top\" title=\"psysml:7df3fd9f-252d-4e83-afe5-15252f6bd5d9\" xlink:actuate=\"onRequest\" xlink:href=\"psysml:7df3fd9f-252d-4e83-afe5-15252f6bd5d9\" xlink:show=\"new\" xlink:title=\"psysml:7df3fd9f-252d-4e83-afe5-15252f6bd5d9\" xlink:type=\"simple\"><path d=\"M216.13,100.05 C216.13,115.76 216.13,133.82 216.13,147.66 \" fill=\"none\" id=\"E11&lt;-E12\" style=\"stroke: #383838; stroke-width: 1.0;\"/><polygon fill=\"#383838\" points=\"216.13,87.01,212.13,93.01,216.13,99.01,220.13,93.01,216.13,87.01\" style=\"stroke: #383838; stroke-width: 1.0;\"/></a><!--MD5=[ae660f5ecd7ddb04a8913625960940af]\n",
       "link E12 to E7--><a href=\"psysml:4172c94c-9fb8-4464-b137-e530fc31134b\" target=\"_top\" title=\"psysml:4172c94c-9fb8-4464-b137-e530fc31134b\" xlink:actuate=\"onRequest\" xlink:href=\"psysml:4172c94c-9fb8-4464-b137-e530fc31134b\" xlink:show=\"new\" xlink:title=\"psysml:4172c94c-9fb8-4464-b137-e530fc31134b\" xlink:type=\"simple\"><path d=\"M204.57,194.19 C196.01,210.65 184.09,233.54 173.88,253.14 \" fill=\"none\" id=\"E12-&gt;E7\" style=\"stroke: #383838; stroke-width: 1.0;\"/><polygon fill=\"#FFFFFF\" points=\"164.61,270.95,167.1672,250.8637,179.5876,257.3239,164.61,270.95\" style=\"stroke: #383838; stroke-width: 1.0;\"/><ellipse cx=\"171.5718\" cy=\"246.7297\" fill=\"#383838\" rx=\"2\" ry=\"2\" style=\"stroke: #383838; stroke-width: 1.0;\"/><ellipse cx=\"180.4435\" cy=\"251.3441\" fill=\"#383838\" rx=\"2\" ry=\"2\" style=\"stroke: #383838; stroke-width: 1.0;\"/></a><!--MD5=[e2a9ac97dcd3257bb5342dae06547bad]\n",
       "link E12 to E13--><a href=\"psysml:aee64b6c-bc56-4d82-a56f-3ba6edf4c149\" target=\"_top\" title=\"psysml:aee64b6c-bc56-4d82-a56f-3ba6edf4c149\" xlink:actuate=\"onRequest\" xlink:href=\"psysml:aee64b6c-bc56-4d82-a56f-3ba6edf4c149\" xlink:show=\"new\" xlink:title=\"psysml:aee64b6c-bc56-4d82-a56f-3ba6edf4c149\" xlink:type=\"simple\"><path d=\"M227.87,194.19 C238.2,213.72 253.31,242.3 264.63,263.7 \" fill=\"none\" id=\"E12-&gt;E13\" style=\"stroke: #383838; stroke-width: 1.0;\"/><polygon fill=\"#383838\" points=\"268.47,270.95,267.3924,262.4742,262.085,265.2727,268.47,270.95\" style=\"stroke: #383838; stroke-width: 1.0;\"/><text fill=\"#000000\" font-family=\"sans-serif\" font-size=\"13\" lengthAdjust=\"spacingAndGlyphs\" textLength=\"73\" x=\"252.13\" y=\"237.0669\">«objective»</text><text fill=\"#000000\" font-family=\"sans-serif\" font-size=\"13\" lengthAdjust=\"spacingAndGlyphs\" textLength=\"7\" x=\"257.3957\" y=\"259.8328\">*</text></a><!--MD5=[09f02f3ff17ef089f9c3724791e790ff]\n",
       "@startuml\r\n",
       " skinparam monochrome true\r\n",
       "skinparam classbackgroundcolor white\r\n",
       "skinparam shadowing false\r\n",
       "skinparam wrapWidth 300\r\n",
       "hide circle\r\n",
       "\r\n",
       "package \"AnalysisTest\" as E1  [[psysml:e1dfe890-ec15-4931-b288-05d8c66f0e23 ]]  {\r\n",
       "comp def \"V\" as E2  <<(T,blue) part  def>> [[psysml:e8de7c06-a552-45cc-9ef9-bdca622a4dc8 ]] {\r\n",
       "- - references - -\r\n",
       "m\r\n",
       "}\r\n",
       "comp usage \"vv: V \" as E3  <<(T,blue) part>> [[psysml:e405eddc-d04c-43ee-94c7-f68d6bd4037b ]] {\r\n",
       "}\r\n",
       "comp def \"AnalysisObjective\" as E4  <<(T,blue) requirement  def>> [[psysml:61935c6a-e9b2-427b-8e93-9f8ea2764a4f ]] {\r\n",
       "...\r\n",
       "- -\r\n",
       "}\r\n",
       "comp def \"AnalysisCase\" as E5 << analysis def>> [[psysml:5016a817-b8b6-43b2-a1c9-71130e2545c5 ]] {\r\n",
       "- - path step expressions - -\r\n",
       " { v.m }\r\n",
       "}\r\n",
       "comp usage \"obj: AnalysisObjective \" as E6  <<(T,blue) requirement>> [[psysml:8ed6d9d8-007f-466a-ada9-4e78a60ebf86 ]] {\r\n",
       "}\r\n",
       "comp def \"AnalysisPlan\" as E7 << analysis def>> [[psysml:0d28215e-abd0-4258-9ce4-d7487f47f154 ]] {\r\n",
       "}\r\n",
       "comp usage \"obj \" as E8  <<(T,blue) requirement>> [[psysml:317ace64-a3b7-4095-b75a-9c551641bbd2 ]] {\r\n",
       "...\r\n",
       "- -\r\n",
       "}\r\n",
       "comp usage \"analysisCase: AnalysisCase \" as E9 << analysis>> [[psysml:0f757ff2-27a2-40d5-a25f-af43358ff77a ]] {\r\n",
       "}\r\n",
       "comp usage \"obj \" as E10  <<(T,blue) requirement>> [[psysml:756c2ee8-950e-4679-a51a-3cb75b1efb3e ]] {\r\n",
       "}\r\n",
       "comp usage \"analysisContext \" as E11  <<(T,blue) part>> [[psysml:b24749b9-9e77-4740-bd21-7fc3830bb957 ]] {\r\n",
       "}\r\n",
       "comp usage \"analysisPlan: AnalysisPlan \" as E12 << analysis>> [[psysml:9d8d7d87-8dd4-470f-9d18-cffbc3763f0c ]] {\r\n",
       "}\r\n",
       "comp usage \"obj \" as E13  <<(T,blue) requirement>> [[psysml:215563a4-4360-48d3-80f1-175339b6797a ]] {\r\n",
       "}\r\n",
       "}\r\n",
       "E3 - -:|> E2 [[psysml:f45a4065-dcd9-4d0e-be10-466e9a1a32d6 ]] \r\n",
       "E5 ..> E2 [[psysml:4ce798b4-e7f7-45ac-94f6-a9dc23ec95c2 ]] : <<subject>>\r\n",
       "E5 - ->> E6 [[psysml:b91cd128-722a-4ae9-a5d3-51e53a9e38d7 ]] : <<objective>>\r\n",
       "E6 - -:|> E4 [[psysml:b2f535bd-3827-4daf-a953-8c36dc8e5a05 ]] \r\n",
       "E7 ..> E2 [[psysml:38ee38e5-fe2f-49e8-a238-8ef961814591 ]] : <<subject>>\r\n",
       "E7 - ->> \"*\"E8 [[psysml:17344d0c-3816-44f9-9c17-e4b7438070db ]] : <<objective>>\r\n",
       "E7 *- - E9 [[psysml:270a9b55-e8f2-46f5-9c02-ba45f5a1be19 ]] \r\n",
       "E9 - -:|> E5 [[psysml:cf5e8ef0-758f-412b-8419-a299a9750eac ]] \r\n",
       "E9 - ->> \"*\"E10 [[psysml:03a60127-fd3f-4561-ae6d-a87475bfdaf0 ]] : <<objective>>\r\n",
       "E11 *- - E12 [[psysml:7df3fd9f-252d-4e83-afe5-15252f6bd5d9 ]] \r\n",
       "E12 - -:|> E7 [[psysml:4172c94c-9fb8-4464-b137-e530fc31134b ]] \r\n",
       "E12 - ->> \"*\"E13 [[psysml:aee64b6c-bc56-4d82-a56f-3ba6edf4c149 ]] : <<objective>>\r\n",
       "@enduml\r\n",
       "\n",
       "PlantUML version 1.2020.13(Sat Jun 13 12:26:38 UTC 2020)\n",
       "(EPL source distribution)\n",
       "Java Runtime: OpenJDK Runtime Environment\n",
       "JVM: OpenJDK 64-Bit Server VM\n",
       "Default Encoding: UTF-8\n",
       "Language: en\n",
       "Country: null\n",
       "--></g></svg>"
      ]
     },
     "execution_count": 3,
     "metadata": {},
     "output_type": "execute_result"
    }
   ],
   "source": [
    "%viz --style=\"COMPTREE\" --view=\"Tree\" \"AnalysisTest\""
   ]
  },
  {
   "cell_type": "code",
   "execution_count": 4,
   "id": "9ca8c40f",
   "metadata": {
    "execution": {
     "iopub.execute_input": "2022-02-05T16:52:00.522982Z",
     "iopub.status.busy": "2022-02-05T16:52:00.522553Z",
     "iopub.status.idle": "2022-02-05T16:52:00.528303Z",
     "shell.execute_reply": "2022-02-05T16:52:00.528638Z"
    }
   },
   "outputs": [
    {
     "data": {
      "image/svg+xml": [
       "<?xml version=\"1.0\" encoding=\"UTF-8\" standalone=\"no\"?><svg xmlns=\"http://www.w3.org/2000/svg\" xmlns:xlink=\"http://www.w3.org/1999/xlink\" contentScriptType=\"application/ecmascript\" contentStyleType=\"text/css\" height=\"12px\" preserveAspectRatio=\"none\" style=\"width:12px;height:12px;\" version=\"1.1\" viewBox=\"0 0 12 12\" width=\"12px\" zoomAndPan=\"magnify\"><defs/><g><!--MD5=[f19188ef49e11757b5c46753f95d9edc]\n",
       "@startuml\r\n",
       " skinparam monochrome true\r\n",
       "skinparam classbackgroundcolor white\r\n",
       "skinparam shadowing false\r\n",
       "skinparam wrapWidth 300\r\n",
       "hide circle\r\n",
       "\r\n",
       "@enduml\r\n",
       "\n",
       "PlantUML version 1.2020.13(Sat Jun 13 12:26:38 UTC 2020)\n",
       "(EPL source distribution)\n",
       "Java Runtime: OpenJDK Runtime Environment\n",
       "JVM: OpenJDK 64-Bit Server VM\n",
       "Default Encoding: UTF-8\n",
       "Language: en\n",
       "Country: null\n",
       "--></g></svg>"
      ]
     },
     "execution_count": 4,
     "metadata": {},
     "output_type": "execute_result"
    }
   ],
   "source": [
    "%viz --style=\"COMPTREE\" --view=\"State\" \"AnalysisTest\""
   ]
  },
  {
   "cell_type": "code",
   "execution_count": 5,
   "id": "270a7d75",
   "metadata": {
    "execution": {
     "iopub.execute_input": "2022-02-05T16:52:00.578870Z",
     "iopub.status.busy": "2022-02-05T16:52:00.578434Z",
     "iopub.status.idle": "2022-02-05T16:52:00.664338Z",
     "shell.execute_reply": "2022-02-05T16:52:00.664031Z"
    }
   },
   "outputs": [
    {
     "data": {
      "image/svg+xml": [
       "<?xml version=\"1.0\" encoding=\"UTF-8\" standalone=\"no\"?><svg xmlns=\"http://www.w3.org/2000/svg\" xmlns:xlink=\"http://www.w3.org/1999/xlink\" contentScriptType=\"application/ecmascript\" contentStyleType=\"text/css\" height=\"500px\" preserveAspectRatio=\"none\" style=\"width:425px;height:500px;\" version=\"1.1\" viewBox=\"0 0 425 500\" width=\"425px\" zoomAndPan=\"magnify\"><defs/><g><!--MD5=[fbc87193dbaf4d95561dea2c320d4a47]\n",
       "cluster E1--><a href=\"psysml:e1dfe890-ec15-4931-b288-05d8c66f0e23\" target=\"_top\" title=\"psysml:e1dfe890-ec15-4931-b288-05d8c66f0e23\" xlink:actuate=\"onRequest\" xlink:href=\"psysml:e1dfe890-ec15-4931-b288-05d8c66f0e23\" xlink:show=\"new\" xlink:title=\"psysml:e1dfe890-ec15-4931-b288-05d8c66f0e23\" xlink:type=\"simple\"><polygon fill=\"#FFFFFF\" points=\"16,6,108,6,115,28.2969,403,28.2969,403,488,16,488,16,6\" style=\"stroke: #000000; stroke-width: 1.5;\"/><line style=\"stroke: #000000; stroke-width: 1.5;\" x1=\"16\" x2=\"115\" y1=\"28.2969\" y2=\"28.2969\"/><text fill=\"#000000\" font-family=\"sans-serif\" font-size=\"14\" font-weight=\"bold\" lengthAdjust=\"spacingAndGlyphs\" textLength=\"86\" x=\"20\" y=\"20.9951\">AnalysisTest</text></a><!--MD5=[14e3b0961a2654348d326746436168a1]\n",
       "cluster E6--><a href=\"psysml:0d28215e-abd0-4258-9ce4-d7487f47f154\" target=\"_top\" title=\"psysml:0d28215e-abd0-4258-9ce4-d7487f47f154\" xlink:actuate=\"onRequest\" xlink:href=\"psysml:0d28215e-abd0-4258-9ce4-d7487f47f154\" xlink:show=\"new\" xlink:title=\"psysml:0d28215e-abd0-4258-9ce4-d7487f47f154\" xlink:type=\"simple\"><rect fill=\"#FFFFFF\" height=\"136\" id=\"E6\" style=\"stroke: #383838; stroke-width: 1.5;\" width=\"278\" x=\"93\" y=\"184\"/><rect fill=\"#F8F8F8\" height=\"37.9375\" style=\"stroke: #383838; stroke-width: 1.5;\" width=\"278\" x=\"93\" y=\"184\"/><text fill=\"#000000\" font-family=\"sans-serif\" font-size=\"12\" font-style=\"italic\" lengthAdjust=\"spacingAndGlyphs\" textLength=\"88\" x=\"188\" y=\"200.1387\">«analysis def»</text><text fill=\"#000000\" font-family=\"sans-serif\" font-size=\"12\" lengthAdjust=\"spacingAndGlyphs\" textLength=\"77\" x=\"193.5\" y=\"214.1074\">AnalysisPlan</text></a><!--MD5=[7f149f147074ac12df2cb0a7728a5fb0]\n",
       "cluster E9--><a href=\"psysml:b24749b9-9e77-4740-bd21-7fc3830bb957\" target=\"_top\" title=\"psysml:b24749b9-9e77-4740-bd21-7fc3830bb957\" xlink:actuate=\"onRequest\" xlink:href=\"psysml:b24749b9-9e77-4740-bd21-7fc3830bb957\" xlink:show=\"new\" xlink:title=\"psysml:b24749b9-9e77-4740-bd21-7fc3830bb957\" xlink:type=\"simple\"><rect fill=\"#FFFFFF\" height=\"94\" id=\"E9\" rx=\"10\" ry=\"10\" style=\"stroke: #383838; stroke-width: 1.5;\" width=\"124\" x=\"255\" y=\"49\"/><rect fill=\"#F8F8F8\" height=\"23.9688\" rx=\"10\" ry=\"10\" style=\"stroke: #F8F8F8; stroke-width: 1.5;\" width=\"124\" x=\"255\" y=\"49\"/><rect fill=\"#F8F8F8\" height=\"10\" style=\"stroke: #F8F8F8; stroke-width: 1.5;\" width=\"124\" x=\"255\" y=\"62.9688\"/><rect fill=\"none\" height=\"94\" id=\"E9\" rx=\"10\" ry=\"10\" style=\"stroke: #383838; stroke-width: 1.5;\" width=\"124\" x=\"255\" y=\"49\"/><text fill=\"#000000\" font-family=\"sans-serif\" font-size=\"12\" lengthAdjust=\"spacingAndGlyphs\" textLength=\"98\" x=\"268\" y=\"65.1387\">analysisContext</text><line style=\"stroke: #383838; stroke-width: 1.0;\" x1=\"255\" x2=\"379\" y1=\"72.9688\" y2=\"72.9688\"/></a><!--MD5=[ebbe1d658d1005bcc118a6aa81145e00]\n",
       "class E4--><a href=\"psysml:61935c6a-e9b2-427b-8e93-9f8ea2764a4f\" target=\"_top\" title=\"psysml:61935c6a-e9b2-427b-8e93-9f8ea2764a4f\" xlink:actuate=\"onRequest\" xlink:href=\"psysml:61935c6a-e9b2-427b-8e93-9f8ea2764a4f\" xlink:show=\"new\" xlink:title=\"psysml:61935c6a-e9b2-427b-8e93-9f8ea2764a4f\" xlink:type=\"simple\"><rect fill=\"#FFFFFF\" height=\"66.7422\" id=\"E4\" style=\"stroke: #383838; stroke-width: 1.5;\" width=\"121\" x=\"117.5\" y=\"72\"/><text fill=\"#000000\" font-family=\"sans-serif\" font-size=\"12\" font-style=\"italic\" lengthAdjust=\"spacingAndGlyphs\" textLength=\"119\" x=\"118.5\" y=\"88.1387\">«requirement  def»</text><text fill=\"#000000\" font-family=\"sans-serif\" font-size=\"12\" lengthAdjust=\"spacingAndGlyphs\" textLength=\"107\" x=\"124.5\" y=\"102.1074\">AnalysisObjective</text><line style=\"stroke: #383838; stroke-width: 1.5;\" x1=\"118.5\" x2=\"237.5\" y1=\"109.9375\" y2=\"109.9375\"/><text fill=\"#000000\" font-family=\"sans-serif\" font-size=\"11\" lengthAdjust=\"spacingAndGlyphs\" textLength=\"12\" x=\"123.5\" y=\"124.1479\">...</text><line style=\"stroke: #383838; stroke-width: 1.0;\" x1=\"118.5\" x2=\"237.5\" y1=\"130.7422\" y2=\"130.7422\"/></a><g id=\"E1.E2\"><a href=\"psysml:e8de7c06-a552-45cc-9ef9-bdca622a4dc8\" target=\"_top\" title=\"psysml:e8de7c06-a552-45cc-9ef9-bdca622a4dc8\" xlink:actuate=\"onRequest\" xlink:href=\"psysml:e8de7c06-a552-45cc-9ef9-bdca622a4dc8\" xlink:show=\"new\" xlink:title=\"psysml:e8de7c06-a552-45cc-9ef9-bdca622a4dc8\" xlink:type=\"simple\"><rect fill=\"#FFFFFF\" height=\"42.9375\" id=\"E2\" style=\"stroke: #383838; stroke-width: 1.5;\" width=\"75\" x=\"77.5\" y=\"429\"/><rect fill=\"#F8F8F8\" height=\"37.9375\" style=\"stroke: #383838; stroke-width: 1.5;\" width=\"75\" x=\"77.5\" y=\"429\"/><text fill=\"#000000\" font-family=\"sans-serif\" font-size=\"12\" font-style=\"italic\" lengthAdjust=\"spacingAndGlyphs\" textLength=\"68\" x=\"81\" y=\"445.1387\">«part  def»</text><text fill=\"#000000\" font-family=\"sans-serif\" font-size=\"12\" lengthAdjust=\"spacingAndGlyphs\" textLength=\"8\" x=\"111\" y=\"459.1074\">V</text></a></g><g id=\"E1.E3\"><a href=\"psysml:e405eddc-d04c-43ee-94c7-f68d6bd4037b\" target=\"_top\" title=\"psysml:e405eddc-d04c-43ee-94c7-f68d6bd4037b\" xlink:actuate=\"onRequest\" xlink:href=\"psysml:e405eddc-d04c-43ee-94c7-f68d6bd4037b\" xlink:show=\"new\" xlink:title=\"psysml:e405eddc-d04c-43ee-94c7-f68d6bd4037b\" xlink:type=\"simple\"><rect fill=\"#FFFFFF\" height=\"40\" id=\"E3\" rx=\"10\" ry=\"10\" style=\"stroke: #383838; stroke-width: 1.5;\" width=\"50\" x=\"32\" y=\"85.5\"/><rect fill=\"#F8F8F8\" height=\"23.9688\" rx=\"10\" ry=\"10\" style=\"stroke: #F8F8F8; stroke-width: 1.5;\" width=\"50\" x=\"32\" y=\"85.5\"/><rect fill=\"#F8F8F8\" height=\"10\" style=\"stroke: #F8F8F8; stroke-width: 1.5;\" width=\"50\" x=\"32\" y=\"99.4688\"/><rect fill=\"none\" height=\"40\" id=\"E3\" rx=\"10\" ry=\"10\" style=\"stroke: #383838; stroke-width: 1.5;\" width=\"50\" x=\"32\" y=\"85.5\"/><text fill=\"#000000\" font-family=\"sans-serif\" font-size=\"12\" lengthAdjust=\"spacingAndGlyphs\" textLength=\"28\" x=\"43\" y=\"101.6387\">vv: V</text></a></g><g id=\"E1.E5\"><a href=\"psysml:5016a817-b8b6-43b2-a1c9-71130e2545c5\" target=\"_top\" title=\"psysml:5016a817-b8b6-43b2-a1c9-71130e2545c5\" xlink:actuate=\"onRequest\" xlink:href=\"psysml:5016a817-b8b6-43b2-a1c9-71130e2545c5\" xlink:show=\"new\" xlink:title=\"psysml:5016a817-b8b6-43b2-a1c9-71130e2545c5\" xlink:type=\"simple\"><rect fill=\"#FFFFFF\" height=\"42.9375\" id=\"E5\" style=\"stroke: #383838; stroke-width: 1.5;\" width=\"95\" x=\"167.5\" y=\"353\"/><rect fill=\"#F8F8F8\" height=\"37.9375\" style=\"stroke: #383838; stroke-width: 1.5;\" width=\"95\" x=\"167.5\" y=\"353\"/><text fill=\"#000000\" font-family=\"sans-serif\" font-size=\"12\" font-style=\"italic\" lengthAdjust=\"spacingAndGlyphs\" textLength=\"88\" x=\"171\" y=\"369.1387\">«analysis def»</text><text fill=\"#000000\" font-family=\"sans-serif\" font-size=\"12\" lengthAdjust=\"spacingAndGlyphs\" textLength=\"81\" x=\"174.5\" y=\"383.1074\">AnalysisCase</text></a></g><!--MD5=[2156ba9850f5573cc1fc38a6a4b2f02b]\n",
       "class E7--><a href=\"psysml:317ace64-a3b7-4095-b75a-9c551641bbd2\" target=\"_top\" title=\"psysml:317ace64-a3b7-4095-b75a-9c551641bbd2\" xlink:actuate=\"onRequest\" xlink:href=\"psysml:317ace64-a3b7-4095-b75a-9c551641bbd2\" xlink:show=\"new\" xlink:title=\"psysml:317ace64-a3b7-4095-b75a-9c551641bbd2\" xlink:type=\"simple\"><rect fill=\"#FFFFFF\" height=\"52.7734\" id=\"E7\" rx=\"10\" ry=\"10\" style=\"stroke: #383838; stroke-width: 1.5;\" width=\"84\" x=\"263\" y=\"243\"/><text fill=\"#000000\" font-family=\"sans-serif\" font-size=\"12\" lengthAdjust=\"spacingAndGlyphs\" textLength=\"70\" x=\"270\" y=\"259.1387\">«objective»</text><line style=\"stroke: #383838; stroke-width: 1.5;\" x1=\"264\" x2=\"346\" y1=\"266.9688\" y2=\"266.9688\"/><text fill=\"#000000\" font-family=\"sans-serif\" font-size=\"11\" lengthAdjust=\"spacingAndGlyphs\" textLength=\"12\" x=\"269\" y=\"281.1792\">...</text><line style=\"stroke: #383838; stroke-width: 1.0;\" x1=\"264\" x2=\"346\" y1=\"287.7734\" y2=\"287.7734\"/></a><g id=\"E1.E6.E8\"><a href=\"psysml:0f757ff2-27a2-40d5-a25f-af43358ff77a\" target=\"_top\" title=\"psysml:0f757ff2-27a2-40d5-a25f-af43358ff77a\" xlink:actuate=\"onRequest\" xlink:href=\"psysml:0f757ff2-27a2-40d5-a25f-af43358ff77a\" xlink:show=\"new\" xlink:title=\"psysml:0f757ff2-27a2-40d5-a25f-af43358ff77a\" xlink:type=\"simple\"><rect fill=\"#FFFFFF\" height=\"42.9375\" id=\"E8\" rx=\"10\" ry=\"10\" style=\"stroke: #383838; stroke-width: 1.5;\" width=\"92\" x=\"136\" y=\"248\"/><rect fill=\"#F8F8F8\" height=\"37.9375\" rx=\"10\" ry=\"10\" style=\"stroke: #F8F8F8; stroke-width: 1.5;\" width=\"92\" x=\"136\" y=\"248\"/><rect fill=\"#F8F8F8\" height=\"10\" style=\"stroke: #F8F8F8; stroke-width: 1.5;\" width=\"92\" x=\"136\" y=\"275.9375\"/><rect fill=\"none\" height=\"42.9375\" id=\"E8\" rx=\"10\" ry=\"10\" style=\"stroke: #383838; stroke-width: 1.5;\" width=\"92\" x=\"136\" y=\"248\"/><text fill=\"#000000\" font-family=\"sans-serif\" font-size=\"12\" font-style=\"italic\" lengthAdjust=\"spacingAndGlyphs\" textLength=\"64\" x=\"150\" y=\"264.1387\">«analysis»</text><text fill=\"#000000\" font-family=\"sans-serif\" font-size=\"12\" lengthAdjust=\"spacingAndGlyphs\" textLength=\"81\" x=\"141.5\" y=\"278.1074\">analysisCase</text></a></g><g id=\"E1.E9.E10\"><a href=\"psysml:9d8d7d87-8dd4-470f-9d18-cffbc3763f0c\" target=\"_top\" title=\"psysml:9d8d7d87-8dd4-470f-9d18-cffbc3763f0c\" xlink:actuate=\"onRequest\" xlink:href=\"psysml:9d8d7d87-8dd4-470f-9d18-cffbc3763f0c\" xlink:show=\"new\" xlink:title=\"psysml:9d8d7d87-8dd4-470f-9d18-cffbc3763f0c\" xlink:type=\"simple\"><rect fill=\"#FFFFFF\" height=\"42.9375\" id=\"E10\" rx=\"10\" ry=\"10\" style=\"stroke: #383838; stroke-width: 1.5;\" width=\"88\" x=\"274\" y=\"84\"/><rect fill=\"#F8F8F8\" height=\"37.9375\" rx=\"10\" ry=\"10\" style=\"stroke: #F8F8F8; stroke-width: 1.5;\" width=\"88\" x=\"274\" y=\"84\"/><rect fill=\"#F8F8F8\" height=\"10\" style=\"stroke: #F8F8F8; stroke-width: 1.5;\" width=\"88\" x=\"274\" y=\"111.9375\"/><rect fill=\"none\" height=\"42.9375\" id=\"E10\" rx=\"10\" ry=\"10\" style=\"stroke: #383838; stroke-width: 1.5;\" width=\"88\" x=\"274\" y=\"84\"/><text fill=\"#000000\" font-family=\"sans-serif\" font-size=\"12\" font-style=\"italic\" lengthAdjust=\"spacingAndGlyphs\" textLength=\"64\" x=\"286\" y=\"100.1387\">«analysis»</text><text fill=\"#000000\" font-family=\"sans-serif\" font-size=\"12\" lengthAdjust=\"spacingAndGlyphs\" textLength=\"77\" x=\"279.5\" y=\"114.1074\">analysisPlan</text></a></g><!--MD5=[15ebcb19ae302d9b601edb458606d402]\n",
       "link E5 to E2--><a href=\"psysml:4ce798b4-e7f7-45ac-94f6-a9dc23ec95c2\" target=\"_top\" title=\"psysml:4ce798b4-e7f7-45ac-94f6-a9dc23ec95c2\" xlink:actuate=\"onRequest\" xlink:href=\"psysml:4ce798b4-e7f7-45ac-94f6-a9dc23ec95c2\" xlink:show=\"new\" xlink:title=\"psysml:4ce798b4-e7f7-45ac-94f6-a9dc23ec95c2\" xlink:type=\"simple\"><path d=\"M187.14,396.11 C174.68,405.33 159.92,416.26 147.01,425.81 \" fill=\"none\" id=\"E5-&gt;E2\" style=\"stroke: #383838; stroke-width: 1.0; stroke-dasharray: 7.0,7.0;\"/><polygon fill=\"#383838\" points=\"142.71,429,152.3187,426.8384,146.722,426.016,147.5443,420.4193,142.71,429\" style=\"stroke: #383838; stroke-width: 1.0;\"/><text fill=\"#000000\" font-family=\"sans-serif\" font-size=\"13\" lengthAdjust=\"spacingAndGlyphs\" textLength=\"62\" x=\"174\" y=\"417.0669\">«subject»</text></a><!--MD5=[2351f337d6de0f557b50152ba70847b5]\n",
       "link E6 to E2--><a href=\"psysml:38ee38e5-fe2f-49e8-a238-8ef961814591\" target=\"_top\" title=\"psysml:38ee38e5-fe2f-49e8-a238-8ef961814591\" xlink:actuate=\"onRequest\" xlink:href=\"psysml:38ee38e5-fe2f-49e8-a238-8ef961814591\" xlink:show=\"new\" xlink:title=\"psysml:38ee38e5-fe2f-49e8-a238-8ef961814591\" xlink:type=\"simple\"><path d=\"M92.9414,294.7008 C92.8971,294.8555 92.8528,295.0108 92.8084,295.1667 C92.631,295.7901 92.4529,296.4226 92.2746,297.064 C90.848,302.1949 89.4013,307.8909 88.0675,313.9888 C82.7325,338.38 79.205,369.2 86,396 C88.48,405.76 93.13,415.68 98,424.27 \" fill=\"none\" id=\"E6-&gt;E2\" style=\"stroke: #383838; stroke-width: 1.0; stroke-dasharray: 7.0,7.0;\"/><polygon fill=\"#383838\" points=\"100.71,428.9,99.6101,419.1127,98.1818,424.5863,92.7082,423.1579,100.71,428.9\" style=\"stroke: #383838; stroke-width: 1.0;\"/><text fill=\"#000000\" font-family=\"sans-serif\" font-size=\"13\" lengthAdjust=\"spacingAndGlyphs\" textLength=\"62\" x=\"87\" y=\"379.0669\">«subject»</text></a><!--MD5=[1ccb2481ffa92f8d51a74ee30c51832a]\n",
       "link E8 to E5--><a href=\"psysml:cf5e8ef0-758f-412b-8419-a299a9750eac\" target=\"_top\" title=\"psysml:cf5e8ef0-758f-412b-8419-a299a9750eac\" xlink:actuate=\"onRequest\" xlink:href=\"psysml:cf5e8ef0-758f-412b-8419-a299a9750eac\" xlink:show=\"new\" xlink:title=\"psysml:cf5e8ef0-758f-412b-8419-a299a9750eac\" xlink:type=\"simple\"><path d=\"M188.68,291.34 C192.52,303.35 197.49,318.85 202.07,333.15 \" fill=\"none\" id=\"E8-&gt;E5\" style=\"stroke: #383838; stroke-width: 1.0;\"/><polygon fill=\"#FFFFFF\" points=\"208.33,352.69,195.871,336.7284,209.2046,332.4604,208.33,352.69\" style=\"stroke: #383838; stroke-width: 1.0;\"/><ellipse cx=\"196.0381\" cy=\"330.69\" fill=\"#383838\" rx=\"2\" ry=\"2\" style=\"stroke: #383838; stroke-width: 1.0;\"/><ellipse cx=\"205.5621\" cy=\"327.6415\" fill=\"#383838\" rx=\"2\" ry=\"2\" style=\"stroke: #383838; stroke-width: 1.0;\"/></a><!--MD5=[198716bf12f04006f5c20d61bde6d80d]\n",
       "link E10 to E6--><a href=\"psysml:4172c94c-9fb8-4464-b137-e530fc31134b\" target=\"_top\" title=\"psysml:4172c94c-9fb8-4464-b137-e530fc31134b\" xlink:actuate=\"onRequest\" xlink:href=\"psysml:4172c94c-9fb8-4464-b137-e530fc31134b\" xlink:show=\"new\" xlink:title=\"psysml:4172c94c-9fb8-4464-b137-e530fc31134b\" xlink:type=\"simple\"><path d=\"M300.95,127.4 C292.58,136.18 281.77,145.6 270,151 C239.51,164.99 144.58,145.17 120,168 C115.9013,171.8063 112.5234,176.1975 109.7512,180.9721 C109.4047,181.569 109.0676,182.1718 108.7398,182.7802 C108.5759,183.0844 108.4143,183.39 108.2549,183.697 \" fill=\"none\" id=\"E10-&gt;E6\" style=\"stroke: #383838; stroke-width: 1.0;\"/><polygon fill=\"#FFFFFF\" points=\"108.2549,183.697,110.795,163.6085,123.2209,170.058,108.2549,183.697\" style=\"stroke: #383838; stroke-width: 1.0;\"/><ellipse cx=\"115.196\" cy=\"159.4707\" fill=\"#383838\" rx=\"2\" ry=\"2\" style=\"stroke: #383838; stroke-width: 1.0;\"/><ellipse cx=\"124.0716\" cy=\"164.0776\" fill=\"#383838\" rx=\"2\" ry=\"2\" style=\"stroke: #383838; stroke-width: 1.0;\"/></a><!--MD5=[e0ee1429233e5e2fb92d7f73d05328e0]\n",
       "@startuml\r\n",
       "skinparam ranksep 10\r\n",
       "skinparam rectangle {\r\n",
       " backgroundColor<<block>> LightGreen\r\n",
       "}\r\n",
       " skinparam monochrome true\r\n",
       "skinparam classbackgroundcolor white\r\n",
       "skinparam shadowing false\r\n",
       "skinparam wrapWidth 300\r\n",
       "hide circle\r\n",
       "\r\n",
       "package \"AnalysisTest\" as E1  [[psysml:e1dfe890-ec15-4931-b288-05d8c66f0e23 ]]  {\r\n",
       "rec def \"V\" as E2  <<(T,blue) part  def>> [[psysml:e8de7c06-a552-45cc-9ef9-bdca622a4dc8 ]] {\r\n",
       "}\r\n",
       "rec usage \"vv: V\" as E3  [[psysml:e405eddc-d04c-43ee-94c7-f68d6bd4037b ]] {\r\n",
       "}\r\n",
       "comp def \"AnalysisObjective\" as E4  <<(T,blue) requirement  def>> [[psysml:61935c6a-e9b2-427b-8e93-9f8ea2764a4f ]] {\r\n",
       "...\r\n",
       "- -\r\n",
       "}\r\n",
       "rec def \"AnalysisCase\" as E5 << analysis def>> [[psysml:5016a817-b8b6-43b2-a1c9-71130e2545c5 ]] {\r\n",
       "}\r\n",
       "rec def \"AnalysisPlan\" as E6 << analysis def>> [[psysml:0d28215e-abd0-4258-9ce4-d7487f47f154 ]] {\r\n",
       "comp usage \" <U+00AB>objective<U+00BB> \" as E7 [[psysml:317ace64-a3b7-4095-b75a-9c551641bbd2 ]] {\r\n",
       "...\r\n",
       "- -\r\n",
       "}\r\n",
       "rec usage \"analysisCase\" as E8 << analysis>> [[psysml:0f757ff2-27a2-40d5-a25f-af43358ff77a ]] {\r\n",
       "}\r\n",
       "}\r\n",
       "rec usage \"analysisContext\" as E9  [[psysml:b24749b9-9e77-4740-bd21-7fc3830bb957 ]] {\r\n",
       "rec usage \"analysisPlan\" as E10 << analysis>> [[psysml:9d8d7d87-8dd4-470f-9d18-cffbc3763f0c ]] {\r\n",
       "}\r\n",
       "}\r\n",
       "}\r\n",
       "E5 ..> E2 [[psysml:4ce798b4-e7f7-45ac-94f6-a9dc23ec95c2 ]] : <<subject>>\r\n",
       "E6 ..> E2 [[psysml:38ee38e5-fe2f-49e8-a238-8ef961814591 ]] : <<subject>>\r\n",
       "E8 - -:|> E5 [[psysml:cf5e8ef0-758f-412b-8419-a299a9750eac ]] \r\n",
       "E10 - -:|> E6 [[psysml:4172c94c-9fb8-4464-b137-e530fc31134b ]] \r\n",
       "@enduml\r\n",
       "\n",
       "PlantUML version 1.2020.13(Sat Jun 13 12:26:38 UTC 2020)\n",
       "(EPL source distribution)\n",
       "Java Runtime: OpenJDK Runtime Environment\n",
       "JVM: OpenJDK 64-Bit Server VM\n",
       "Default Encoding: UTF-8\n",
       "Language: en\n",
       "Country: null\n",
       "--></g></svg>"
      ]
     },
     "execution_count": 5,
     "metadata": {},
     "output_type": "execute_result"
    }
   ],
   "source": [
    "%viz --style=\"COMPTREE\" --view=\"Interconnection\" \"AnalysisTest\""
   ]
  },
  {
   "cell_type": "code",
   "execution_count": 6,
   "id": "16a8e21f",
   "metadata": {
    "execution": {
     "iopub.execute_input": "2022-02-05T16:52:00.714399Z",
     "iopub.status.busy": "2022-02-05T16:52:00.714069Z",
     "iopub.status.idle": "2022-02-05T16:52:00.788944Z",
     "shell.execute_reply": "2022-02-05T16:52:00.787569Z"
    }
   },
   "outputs": [
    {
     "data": {
      "image/svg+xml": [
       "<?xml version=\"1.0\" encoding=\"UTF-8\" standalone=\"no\"?><svg xmlns=\"http://www.w3.org/2000/svg\" xmlns:xlink=\"http://www.w3.org/1999/xlink\" contentScriptType=\"application/ecmascript\" contentStyleType=\"text/css\" height=\"233px\" preserveAspectRatio=\"none\" style=\"width:649px;height:233px;\" version=\"1.1\" viewBox=\"0 0 649 233\" width=\"649px\" zoomAndPan=\"magnify\"><defs/><g><!--MD5=[fbc87193dbaf4d95561dea2c320d4a47]\n",
       "cluster E1--><a href=\"psysml:5016a817-b8b6-43b2-a1c9-71130e2545c5\" target=\"_top\" title=\"psysml:5016a817-b8b6-43b2-a1c9-71130e2545c5\" xlink:actuate=\"onRequest\" xlink:href=\"psysml:5016a817-b8b6-43b2-a1c9-71130e2545c5\" xlink:show=\"new\" xlink:title=\"psysml:5016a817-b8b6-43b2-a1c9-71130e2545c5\" xlink:type=\"simple\"><rect fill=\"#FFFFFF\" height=\"122\" id=\"E1\" style=\"stroke: #383838; stroke-width: 1.5;\" width=\"146\" x=\"7\" y=\"42.0986\"/><rect fill=\"#F8F8F8\" height=\"37.9375\" style=\"stroke: #383838; stroke-width: 1.5;\" width=\"146\" x=\"7\" y=\"42.0986\"/><text fill=\"#000000\" font-family=\"sans-serif\" font-size=\"12\" font-style=\"italic\" lengthAdjust=\"spacingAndGlyphs\" textLength=\"88\" x=\"36\" y=\"58.2373\">«analysis def»</text><text fill=\"#000000\" font-family=\"sans-serif\" font-size=\"12\" lengthAdjust=\"spacingAndGlyphs\" textLength=\"81\" x=\"39.5\" y=\"72.2061\">AnalysisCase</text></a><!--MD5=[f6df4d0ebaf0b5dfb2ced0ae5af7c670]\n",
       "cluster E4--><a href=\"psysml:0d28215e-abd0-4258-9ce4-d7487f47f154\" target=\"_top\" title=\"psysml:0d28215e-abd0-4258-9ce4-d7487f47f154\" xlink:actuate=\"onRequest\" xlink:href=\"psysml:0d28215e-abd0-4258-9ce4-d7487f47f154\" xlink:show=\"new\" xlink:title=\"psysml:0d28215e-abd0-4258-9ce4-d7487f47f154\" xlink:type=\"simple\"><rect fill=\"#FFFFFF\" height=\"180\" id=\"E4\" style=\"stroke: #383838; stroke-width: 1.5;\" width=\"262\" x=\"216\" y=\"42.0986\"/><rect fill=\"#F8F8F8\" height=\"37.9375\" style=\"stroke: #383838; stroke-width: 1.5;\" width=\"262\" x=\"216\" y=\"42.0986\"/><text fill=\"#000000\" font-family=\"sans-serif\" font-size=\"12\" font-style=\"italic\" lengthAdjust=\"spacingAndGlyphs\" textLength=\"88\" x=\"303\" y=\"58.2373\">«analysis def»</text><text fill=\"#000000\" font-family=\"sans-serif\" font-size=\"12\" lengthAdjust=\"spacingAndGlyphs\" textLength=\"77\" x=\"308.5\" y=\"72.2061\">AnalysisPlan</text></a><!--MD5=[14e3b0961a2654348d326746436168a1]\n",
       "cluster E6--><a href=\"psysml:0f757ff2-27a2-40d5-a25f-af43358ff77a\" target=\"_top\" title=\"psysml:0f757ff2-27a2-40d5-a25f-af43358ff77a\" xlink:actuate=\"onRequest\" xlink:href=\"psysml:0f757ff2-27a2-40d5-a25f-af43358ff77a\" xlink:show=\"new\" xlink:title=\"psysml:0f757ff2-27a2-40d5-a25f-af43358ff77a\" xlink:type=\"simple\"><rect fill=\"#FFFFFF\" height=\"110.5\" id=\"E6\" rx=\"10\" ry=\"10\" style=\"stroke: #383838; stroke-width: 1.5;\" width=\"138\" x=\"299\" y=\"81.5986\"/><rect fill=\"#F8F8F8\" height=\"37.9375\" rx=\"10\" ry=\"10\" style=\"stroke: #F8F8F8; stroke-width: 1.5;\" width=\"138\" x=\"299\" y=\"81.5986\"/><rect fill=\"#F8F8F8\" height=\"10\" style=\"stroke: #F8F8F8; stroke-width: 1.5;\" width=\"138\" x=\"299\" y=\"109.5361\"/><rect fill=\"none\" height=\"110.5\" id=\"E6\" rx=\"10\" ry=\"10\" style=\"stroke: #383838; stroke-width: 1.5;\" width=\"138\" x=\"299\" y=\"81.5986\"/><text fill=\"#000000\" font-family=\"sans-serif\" font-size=\"12\" font-style=\"italic\" lengthAdjust=\"spacingAndGlyphs\" textLength=\"64\" x=\"336\" y=\"97.7373\">«analysis»</text><text fill=\"#000000\" font-family=\"sans-serif\" font-size=\"12\" lengthAdjust=\"spacingAndGlyphs\" textLength=\"81\" x=\"327.5\" y=\"111.7061\">analysisCase</text><line style=\"stroke: #383838; stroke-width: 1.0;\" x1=\"299\" x2=\"437\" y1=\"119.5361\" y2=\"119.5361\"/></a><!--MD5=[a84b4591f868c1fa4a211716a82f2f0d]\n",
       "cluster E10--><a href=\"psysml:9d8d7d87-8dd4-470f-9d18-cffbc3763f0c\" target=\"_top\" title=\"psysml:9d8d7d87-8dd4-470f-9d18-cffbc3763f0c\" xlink:actuate=\"onRequest\" xlink:href=\"psysml:9d8d7d87-8dd4-470f-9d18-cffbc3763f0c\" xlink:show=\"new\" xlink:title=\"psysml:9d8d7d87-8dd4-470f-9d18-cffbc3763f0c\" xlink:type=\"simple\"><rect fill=\"#FFFFFF\" height=\"122\" id=\"E10\" rx=\"10\" ry=\"10\" style=\"stroke: #383838; stroke-width: 1.5;\" width=\"130\" x=\"507\" y=\"42.0986\"/><rect fill=\"#F8F8F8\" height=\"37.9375\" rx=\"10\" ry=\"10\" style=\"stroke: #F8F8F8; stroke-width: 1.5;\" width=\"130\" x=\"507\" y=\"42.0986\"/><rect fill=\"#F8F8F8\" height=\"10\" style=\"stroke: #F8F8F8; stroke-width: 1.5;\" width=\"130\" x=\"507\" y=\"70.0361\"/><rect fill=\"none\" height=\"122\" id=\"E10\" rx=\"10\" ry=\"10\" style=\"stroke: #383838; stroke-width: 1.5;\" width=\"130\" x=\"507\" y=\"42.0986\"/><text fill=\"#000000\" font-family=\"sans-serif\" font-size=\"12\" font-style=\"italic\" lengthAdjust=\"spacingAndGlyphs\" textLength=\"64\" x=\"540\" y=\"58.2373\">«analysis»</text><text fill=\"#000000\" font-family=\"sans-serif\" font-size=\"12\" lengthAdjust=\"spacingAndGlyphs\" textLength=\"77\" x=\"533.5\" y=\"72.2061\">analysisPlan</text><line style=\"stroke: #383838; stroke-width: 1.0;\" x1=\"507\" x2=\"637\" y1=\"80.0361\" y2=\"80.0361\"/></a><text fill=\"#000000\" font-family=\"sans-serif\" font-size=\"14\" lengthAdjust=\"spacingAndGlyphs\" textLength=\"7\" x=\"76.5\" y=\"20.7969\">v</text><rect fill=\"#383838\" height=\"12\" style=\"stroke: #F8F8F8; stroke-width: 1.5;\" width=\"12\" x=\"74\" y=\"36.0986\"/><text fill=\"#000000\" font-family=\"sans-serif\" font-size=\"14\" lengthAdjust=\"spacingAndGlyphs\" textLength=\"39\" x=\"60.5\" y=\"183.0938\">result</text><rect fill=\"#383838\" height=\"12\" style=\"stroke: #F8F8F8; stroke-width: 1.5;\" width=\"12\" x=\"74\" y=\"158.0986\"/><text fill=\"#000000\" font-family=\"sans-serif\" font-size=\"14\" lengthAdjust=\"spacingAndGlyphs\" textLength=\"7\" x=\"230.5\" y=\"20.7969\">v</text><rect fill=\"#383838\" height=\"12\" style=\"stroke: #F8F8F8; stroke-width: 1.5;\" width=\"12\" x=\"228\" y=\"36.0986\"/><text fill=\"#000000\" font-family=\"sans-serif\" font-size=\"14\" lengthAdjust=\"spacingAndGlyphs\" textLength=\"39\" x=\"458.5\" y=\"183.0938\">result</text><rect fill=\"#383838\" height=\"12\" style=\"stroke: #F8F8F8; stroke-width: 1.5;\" width=\"12\" x=\"472\" y=\"158.0986\"/><text fill=\"#000000\" font-family=\"sans-serif\" font-size=\"14\" lengthAdjust=\"spacingAndGlyphs\" textLength=\"37\" x=\"349.5\" y=\"211.0938\">mass</text><rect fill=\"#383838\" height=\"12\" style=\"stroke: #F8F8F8; stroke-width: 1.5;\" width=\"12\" x=\"362\" y=\"186.0986\"/><text fill=\"#000000\" font-family=\"sans-serif\" font-size=\"14\" lengthAdjust=\"spacingAndGlyphs\" textLength=\"7\" x=\"364.5\" y=\"60.2969\">v</text><rect fill=\"#383838\" height=\"12\" style=\"stroke: #F8F8F8; stroke-width: 1.5;\" width=\"12\" x=\"362\" y=\"75.5986\"/><text fill=\"#000000\" font-family=\"sans-serif\" font-size=\"14\" lengthAdjust=\"spacingAndGlyphs\" textLength=\"7\" x=\"567.5\" y=\"20.7969\">v</text><rect fill=\"#383838\" height=\"12\" style=\"stroke: #F8F8F8; stroke-width: 1.5;\" width=\"12\" x=\"565\" y=\"36.0986\"/><text fill=\"#000000\" font-family=\"sans-serif\" font-size=\"14\" lengthAdjust=\"spacingAndGlyphs\" textLength=\"39\" x=\"505.5\" y=\"183.0938\">result</text><rect fill=\"#383838\" height=\"12\" style=\"stroke: #F8F8F8; stroke-width: 1.5;\" width=\"12\" x=\"519\" y=\"158.0986\"/><!--MD5=[fe0864d9ffbf2d1f69908a9e39bbb399]\n",
       "@startuml\r\n",
       "skinparam ranksep 8\r\n",
       " skinparam monochrome true\r\n",
       "skinparam classbackgroundcolor white\r\n",
       "skinparam shadowing false\r\n",
       "skinparam wrapWidth 300\r\n",
       "hide circle\r\n",
       "\r\n",
       "rec def \"AnalysisCase\" as E1 << analysis def>> [[psysml:5016a817-b8b6-43b2-a1c9-71130e2545c5 ]] {\r\n",
       "portin \"v\" as E2  [[psysml:164c7fef-cc79-47d0-81ef-11274fabe5a7 ]] \r\n",
       "portout \"result\" as E3  [[psysml:6e4742d8-6cff-49ed-9a2e-48d7290da8ea ]] \r\n",
       "}\r\n",
       "\r\n",
       "rec def \"AnalysisPlan\" as E4 << analysis def>> [[psysml:0d28215e-abd0-4258-9ce4-d7487f47f154 ]] {\r\n",
       "portin \"v\" as E5  [[psysml:7943f1e5-2d26-4cd3-a00e-7357be36b5d6 ]] \r\n",
       "rec usage \"analysisCase\" as E6 << analysis>> [[psysml:0f757ff2-27a2-40d5-a25f-af43358ff77a ]] {\r\n",
       "portout \"mass\" as E7  [[psysml:ec31ed6f-aea4-4ab3-8935-1d2e29a82c61 ]] \r\n",
       "portin \"v\" as E8  [[psysml:1b55d686-bd3b-4923-8e60-8b313cbf92b9 ]] \r\n",
       "}\r\n",
       "\r\n",
       "portout \"result\" as E9  [[psysml:301e1961-b4b0-4f3f-9bd8-8820561614e6 ]] \r\n",
       "}\r\n",
       "\r\n",
       "rec usage \"analysisPlan\" as E10 << analysis>> [[psysml:9d8d7d87-8dd4-470f-9d18-cffbc3763f0c ]] {\r\n",
       "portin \"v\" as E11  [[psysml:fb21399e-f4a1-4dd2-99a6-b4e6906605c8 ]] \r\n",
       "portout \"result\" as E12  [[psysml:db81a387-1cd1-4bdf-be56-65aa7adff2a2 ]] \r\n",
       "}\r\n",
       "\r\n",
       "@enduml\r\n",
       "\n",
       "PlantUML version 1.2020.13(Sat Jun 13 12:26:38 UTC 2020)\n",
       "(EPL source distribution)\n",
       "Java Runtime: OpenJDK Runtime Environment\n",
       "JVM: OpenJDK 64-Bit Server VM\n",
       "Default Encoding: UTF-8\n",
       "Language: en\n",
       "Country: null\n",
       "--></g></svg>"
      ]
     },
     "execution_count": 6,
     "metadata": {},
     "output_type": "execute_result"
    }
   ],
   "source": [
    "%viz --style=\"COMPTREE\" --view=\"Action\" \"AnalysisTest\""
   ]
  },
  {
   "cell_type": "code",
   "execution_count": 7,
   "id": "0d300af3",
   "metadata": {
    "execution": {
     "iopub.execute_input": "2022-02-05T16:52:00.838707Z",
     "iopub.status.busy": "2022-02-05T16:52:00.838294Z",
     "iopub.status.idle": "2022-02-05T16:52:00.850497Z",
     "shell.execute_reply": "2022-02-05T16:52:00.850824Z"
    }
   },
   "outputs": [
    {
     "data": {
      "image/svg+xml": [
       "<?xml version=\"1.0\" encoding=\"UTF-8\" standalone=\"no\"?><svg xmlns=\"http://www.w3.org/2000/svg\" xmlns:xlink=\"http://www.w3.org/1999/xlink\" contentScriptType=\"application/ecmascript\" contentStyleType=\"text/css\" height=\"12px\" preserveAspectRatio=\"none\" style=\"width:12px;height:12px;\" version=\"1.1\" viewBox=\"0 0 12 12\" width=\"12px\" zoomAndPan=\"magnify\"><defs/><g><!--MD5=[803fc46c337be7a5c8a9831e35356779]\n",
       "@startuml\r\n",
       "skinparam roundcorner 20\r\n",
       "skinparam BoxPadding 20\r\n",
       "skinparam SequenceBoxBackgroundColor #white\r\n",
       "skinparam style strictuml\r\n",
       "skinparam maxMessageSize 100\r\n",
       " skinparam monochrome true\r\n",
       "skinparam classbackgroundcolor white\r\n",
       "skinparam shadowing false\r\n",
       "skinparam wrapWidth 300\r\n",
       "hide circle\r\n",
       "\r\n",
       "@enduml\r\n",
       "\n",
       "PlantUML version 1.2020.13(Sat Jun 13 12:26:38 UTC 2020)\n",
       "(EPL source distribution)\n",
       "Java Runtime: OpenJDK Runtime Environment\n",
       "JVM: OpenJDK 64-Bit Server VM\n",
       "Default Encoding: UTF-8\n",
       "Language: en\n",
       "Country: null\n",
       "--></g></svg>"
      ]
     },
     "execution_count": 7,
     "metadata": {},
     "output_type": "execute_result"
    }
   ],
   "source": [
    "%viz --style=\"COMPTREE\" --view=\"Sequence\" \"AnalysisTest\""
   ]
  },
  {
   "cell_type": "code",
   "execution_count": 8,
   "id": "803110e9",
   "metadata": {
    "execution": {
     "iopub.execute_input": "2022-02-05T16:52:00.900779Z",
     "iopub.status.busy": "2022-02-05T16:52:00.900365Z",
     "iopub.status.idle": "2022-02-05T16:52:00.979406Z",
     "shell.execute_reply": "2022-02-05T16:52:00.979003Z"
    }
   },
   "outputs": [
    {
     "data": {
      "image/svg+xml": [
       "<?xml version=\"1.0\" encoding=\"UTF-8\" standalone=\"no\"?><svg xmlns=\"http://www.w3.org/2000/svg\" xmlns:xlink=\"http://www.w3.org/1999/xlink\" contentScriptType=\"application/ecmascript\" contentStyleType=\"text/css\" height=\"685px\" preserveAspectRatio=\"none\" style=\"width:380px;height:685px;\" version=\"1.1\" viewBox=\"0 0 380 685\" width=\"380px\" zoomAndPan=\"magnify\"><defs/><g><!--MD5=[fbc87193dbaf4d95561dea2c320d4a47]\n",
       "cluster E1--><a href=\"psysml:e1dfe890-ec15-4931-b288-05d8c66f0e23\" target=\"_top\" title=\"psysml:e1dfe890-ec15-4931-b288-05d8c66f0e23\" xlink:actuate=\"onRequest\" xlink:href=\"psysml:e1dfe890-ec15-4931-b288-05d8c66f0e23\" xlink:show=\"new\" xlink:title=\"psysml:e1dfe890-ec15-4931-b288-05d8c66f0e23\" xlink:type=\"simple\"><polygon fill=\"#FFFFFF\" points=\"16,6,108,6,115,28.2969,358,28.2969,358,673,16,673,16,6\" style=\"stroke: #000000; stroke-width: 1.5;\"/><line style=\"stroke: #000000; stroke-width: 1.5;\" x1=\"16\" x2=\"115\" y1=\"28.2969\" y2=\"28.2969\"/><text fill=\"#000000\" font-family=\"sans-serif\" font-size=\"14\" font-weight=\"bold\" lengthAdjust=\"spacingAndGlyphs\" textLength=\"86\" x=\"20\" y=\"20.9951\">AnalysisTest</text></a><!--MD5=[14e3b0961a2654348d326746436168a1]\n",
       "cluster E6--><a href=\"psysml:0d28215e-abd0-4258-9ce4-d7487f47f154\" target=\"_top\" title=\"psysml:0d28215e-abd0-4258-9ce4-d7487f47f154\" xlink:actuate=\"onRequest\" xlink:href=\"psysml:0d28215e-abd0-4258-9ce4-d7487f47f154\" xlink:show=\"new\" xlink:title=\"psysml:0d28215e-abd0-4258-9ce4-d7487f47f154\" xlink:type=\"simple\"><rect fill=\"#FFFFFF\" height=\"136\" id=\"E6\" style=\"stroke: #383838; stroke-width: 1.5;\" width=\"278\" x=\"48\" y=\"267\"/><rect fill=\"#F8F8F8\" height=\"37.9375\" style=\"stroke: #383838; stroke-width: 1.5;\" width=\"278\" x=\"48\" y=\"267\"/><text fill=\"#000000\" font-family=\"sans-serif\" font-size=\"12\" font-style=\"italic\" lengthAdjust=\"spacingAndGlyphs\" textLength=\"88\" x=\"143\" y=\"283.1387\">«analysis def»</text><text fill=\"#000000\" font-family=\"sans-serif\" font-size=\"12\" lengthAdjust=\"spacingAndGlyphs\" textLength=\"77\" x=\"148.5\" y=\"297.1074\">AnalysisPlan</text></a><!--MD5=[b4997ac47864f28c2f74865a473b2911]\n",
       "class E2--><a href=\"psysml:e8de7c06-a552-45cc-9ef9-bdca622a4dc8\" target=\"_top\" title=\"psysml:e8de7c06-a552-45cc-9ef9-bdca622a4dc8\" xlink:actuate=\"onRequest\" xlink:href=\"psysml:e8de7c06-a552-45cc-9ef9-bdca622a4dc8\" xlink:show=\"new\" xlink:title=\"psysml:e8de7c06-a552-45cc-9ef9-bdca622a4dc8\" xlink:type=\"simple\"><rect fill=\"#FFFFFF\" height=\"75.5469\" id=\"E2\" style=\"stroke: #383838; stroke-width: 1.5;\" width=\"70\" x=\"179\" y=\"581\"/><text fill=\"#000000\" font-family=\"sans-serif\" font-size=\"12\" font-style=\"italic\" lengthAdjust=\"spacingAndGlyphs\" textLength=\"68\" x=\"180\" y=\"597.1387\">«part  def»</text><text fill=\"#000000\" font-family=\"sans-serif\" font-size=\"12\" lengthAdjust=\"spacingAndGlyphs\" textLength=\"8\" x=\"210\" y=\"611.1074\">V</text><line style=\"stroke: #383838; stroke-width: 1.5;\" x1=\"180\" x2=\"248\" y1=\"618.9375\" y2=\"618.9375\"/><text fill=\"#000000\" font-family=\"sans-serif\" font-size=\"11\" lengthAdjust=\"spacingAndGlyphs\" textLength=\"11\" x=\"185\" y=\"649.9526\">m</text><line style=\"stroke: #383838; stroke-width: 1.0;\" x1=\"180\" x2=\"183\" y1=\"633.3398\" y2=\"633.3398\"/><text fill=\"#000000\" font-family=\"sans-serif\" font-size=\"11\" lengthAdjust=\"spacingAndGlyphs\" textLength=\"62\" x=\"183\" y=\"636.6479\">references</text><line style=\"stroke: #383838; stroke-width: 1.0;\" x1=\"245\" x2=\"248\" y1=\"633.3398\" y2=\"633.3398\"/></a><!--MD5=[09b614a08d8cba4a07c9adeb5e0fee81]\n",
       "class E3--><a href=\"psysml:e405eddc-d04c-43ee-94c7-f68d6bd4037b\" target=\"_top\" title=\"psysml:e405eddc-d04c-43ee-94c7-f68d6bd4037b\" xlink:actuate=\"onRequest\" xlink:href=\"psysml:e405eddc-d04c-43ee-94c7-f68d6bd4037b\" xlink:show=\"new\" xlink:title=\"psysml:e405eddc-d04c-43ee-94c7-f68d6bd4037b\" xlink:type=\"simple\"><rect fill=\"#FFFFFF\" height=\"45.9375\" id=\"E3\" rx=\"10\" ry=\"10\" style=\"stroke: #383838; stroke-width: 1.5;\" width=\"42\" x=\"297\" y=\"458\"/><text fill=\"#000000\" font-family=\"sans-serif\" font-size=\"12\" font-style=\"italic\" lengthAdjust=\"spacingAndGlyphs\" textLength=\"40\" x=\"298\" y=\"474.1387\">«part»</text><text fill=\"#000000\" font-family=\"sans-serif\" font-size=\"12\" lengthAdjust=\"spacingAndGlyphs\" textLength=\"28\" x=\"302\" y=\"488.1074\">vv: V</text><line style=\"stroke: #383838; stroke-width: 1.5;\" x1=\"298\" x2=\"338\" y1=\"495.9375\" y2=\"495.9375\"/></a><!--MD5=[ebbe1d658d1005bcc118a6aa81145e00]\n",
       "class E4--><a href=\"psysml:61935c6a-e9b2-427b-8e93-9f8ea2764a4f\" target=\"_top\" title=\"psysml:61935c6a-e9b2-427b-8e93-9f8ea2764a4f\" xlink:actuate=\"onRequest\" xlink:href=\"psysml:61935c6a-e9b2-427b-8e93-9f8ea2764a4f\" xlink:show=\"new\" xlink:title=\"psysml:61935c6a-e9b2-427b-8e93-9f8ea2764a4f\" xlink:type=\"simple\"><rect fill=\"#FFFFFF\" height=\"66.7422\" id=\"E4\" style=\"stroke: #383838; stroke-width: 1.5;\" width=\"121\" x=\"197.5\" y=\"41\"/><text fill=\"#000000\" font-family=\"sans-serif\" font-size=\"12\" font-style=\"italic\" lengthAdjust=\"spacingAndGlyphs\" textLength=\"119\" x=\"198.5\" y=\"57.1387\">«requirement  def»</text><text fill=\"#000000\" font-family=\"sans-serif\" font-size=\"12\" lengthAdjust=\"spacingAndGlyphs\" textLength=\"107\" x=\"204.5\" y=\"71.1074\">AnalysisObjective</text><line style=\"stroke: #383838; stroke-width: 1.5;\" x1=\"198.5\" x2=\"317.5\" y1=\"78.9375\" y2=\"78.9375\"/><text fill=\"#000000\" font-family=\"sans-serif\" font-size=\"11\" lengthAdjust=\"spacingAndGlyphs\" textLength=\"12\" x=\"203.5\" y=\"93.1479\">...</text><line style=\"stroke: #383838; stroke-width: 1.0;\" x1=\"198.5\" x2=\"317.5\" y1=\"99.7422\" y2=\"99.7422\"/></a><!--MD5=[fd4143e9d270a159db93a4ea2a975926]\n",
       "class E9--><a href=\"psysml:b24749b9-9e77-4740-bd21-7fc3830bb957\" target=\"_top\" title=\"psysml:b24749b9-9e77-4740-bd21-7fc3830bb957\" xlink:actuate=\"onRequest\" xlink:href=\"psysml:b24749b9-9e77-4740-bd21-7fc3830bb957\" xlink:show=\"new\" xlink:title=\"psysml:b24749b9-9e77-4740-bd21-7fc3830bb957\" xlink:type=\"simple\"><rect fill=\"#FFFFFF\" height=\"45.9375\" id=\"E9\" rx=\"10\" ry=\"10\" style=\"stroke: #383838; stroke-width: 1.5;\" width=\"108\" x=\"32\" y=\"51.5\"/><text fill=\"#000000\" font-family=\"sans-serif\" font-size=\"12\" font-style=\"italic\" lengthAdjust=\"spacingAndGlyphs\" textLength=\"40\" x=\"66\" y=\"67.6387\">«part»</text><text fill=\"#000000\" font-family=\"sans-serif\" font-size=\"12\" lengthAdjust=\"spacingAndGlyphs\" textLength=\"98\" x=\"35\" y=\"81.6074\">analysisContext</text><line style=\"stroke: #383838; stroke-width: 1.5;\" x1=\"33\" x2=\"139\" y1=\"89.4375\" y2=\"89.4375\"/></a><g id=\"E1.E5\"><a href=\"psysml:5016a817-b8b6-43b2-a1c9-71130e2545c5\" target=\"_top\" title=\"psysml:5016a817-b8b6-43b2-a1c9-71130e2545c5\" xlink:actuate=\"onRequest\" xlink:href=\"psysml:5016a817-b8b6-43b2-a1c9-71130e2545c5\" xlink:show=\"new\" xlink:title=\"psysml:5016a817-b8b6-43b2-a1c9-71130e2545c5\" xlink:type=\"simple\"><rect fill=\"#FFFFFF\" height=\"42.9375\" id=\"E5\" style=\"stroke: #383838; stroke-width: 1.5;\" width=\"95\" x=\"166.5\" y=\"459.5\"/><rect fill=\"#F8F8F8\" height=\"37.9375\" style=\"stroke: #383838; stroke-width: 1.5;\" width=\"95\" x=\"166.5\" y=\"459.5\"/><text fill=\"#000000\" font-family=\"sans-serif\" font-size=\"12\" font-style=\"italic\" lengthAdjust=\"spacingAndGlyphs\" textLength=\"88\" x=\"170\" y=\"475.6387\">«analysis def»</text><text fill=\"#000000\" font-family=\"sans-serif\" font-size=\"12\" lengthAdjust=\"spacingAndGlyphs\" textLength=\"81\" x=\"173.5\" y=\"489.6074\">AnalysisCase</text></a></g><!--MD5=[2156ba9850f5573cc1fc38a6a4b2f02b]\n",
       "class E7--><a href=\"psysml:317ace64-a3b7-4095-b75a-9c551641bbd2\" target=\"_top\" title=\"psysml:317ace64-a3b7-4095-b75a-9c551641bbd2\" xlink:actuate=\"onRequest\" xlink:href=\"psysml:317ace64-a3b7-4095-b75a-9c551641bbd2\" xlink:show=\"new\" xlink:title=\"psysml:317ace64-a3b7-4095-b75a-9c551641bbd2\" xlink:type=\"simple\"><rect fill=\"#FFFFFF\" height=\"52.7734\" id=\"E7\" rx=\"10\" ry=\"10\" style=\"stroke: #383838; stroke-width: 1.5;\" width=\"84\" x=\"218\" y=\"326\"/><text fill=\"#000000\" font-family=\"sans-serif\" font-size=\"12\" lengthAdjust=\"spacingAndGlyphs\" textLength=\"70\" x=\"225\" y=\"342.1387\">«objective»</text><line style=\"stroke: #383838; stroke-width: 1.5;\" x1=\"219\" x2=\"301\" y1=\"349.9688\" y2=\"349.9688\"/><text fill=\"#000000\" font-family=\"sans-serif\" font-size=\"11\" lengthAdjust=\"spacingAndGlyphs\" textLength=\"12\" x=\"224\" y=\"364.1792\">...</text><line style=\"stroke: #383838; stroke-width: 1.0;\" x1=\"219\" x2=\"301\" y1=\"370.7734\" y2=\"370.7734\"/></a><g id=\"E1.E6.E8\"><a href=\"psysml:0f757ff2-27a2-40d5-a25f-af43358ff77a\" target=\"_top\" title=\"psysml:0f757ff2-27a2-40d5-a25f-af43358ff77a\" xlink:actuate=\"onRequest\" xlink:href=\"psysml:0f757ff2-27a2-40d5-a25f-af43358ff77a\" xlink:show=\"new\" xlink:title=\"psysml:0f757ff2-27a2-40d5-a25f-af43358ff77a\" xlink:type=\"simple\"><rect fill=\"#FFFFFF\" height=\"42.9375\" id=\"E8\" rx=\"10\" ry=\"10\" style=\"stroke: #383838; stroke-width: 1.5;\" width=\"92\" x=\"91\" y=\"331\"/><rect fill=\"#F8F8F8\" height=\"37.9375\" rx=\"10\" ry=\"10\" style=\"stroke: #F8F8F8; stroke-width: 1.5;\" width=\"92\" x=\"91\" y=\"331\"/><rect fill=\"#F8F8F8\" height=\"10\" style=\"stroke: #F8F8F8; stroke-width: 1.5;\" width=\"92\" x=\"91\" y=\"358.9375\"/><rect fill=\"none\" height=\"42.9375\" id=\"E8\" rx=\"10\" ry=\"10\" style=\"stroke: #383838; stroke-width: 1.5;\" width=\"92\" x=\"91\" y=\"331\"/><text fill=\"#000000\" font-family=\"sans-serif\" font-size=\"12\" font-style=\"italic\" lengthAdjust=\"spacingAndGlyphs\" textLength=\"64\" x=\"105\" y=\"347.1387\">«analysis»</text><text fill=\"#000000\" font-family=\"sans-serif\" font-size=\"12\" lengthAdjust=\"spacingAndGlyphs\" textLength=\"81\" x=\"96.5\" y=\"361.1074\">analysisCase</text></a></g><g id=\"E1.E10\"><a href=\"psysml:9d8d7d87-8dd4-470f-9d18-cffbc3763f0c\" target=\"_top\" title=\"psysml:9d8d7d87-8dd4-470f-9d18-cffbc3763f0c\" xlink:actuate=\"onRequest\" xlink:href=\"psysml:9d8d7d87-8dd4-470f-9d18-cffbc3763f0c\" xlink:show=\"new\" xlink:title=\"psysml:9d8d7d87-8dd4-470f-9d18-cffbc3763f0c\" xlink:type=\"simple\"><rect fill=\"#FFFFFF\" height=\"42.9375\" id=\"E10\" rx=\"10\" ry=\"10\" style=\"stroke: #383838; stroke-width: 1.5;\" width=\"88\" x=\"37\" y=\"169\"/><rect fill=\"#F8F8F8\" height=\"37.9375\" rx=\"10\" ry=\"10\" style=\"stroke: #F8F8F8; stroke-width: 1.5;\" width=\"88\" x=\"37\" y=\"169\"/><rect fill=\"#F8F8F8\" height=\"10\" style=\"stroke: #F8F8F8; stroke-width: 1.5;\" width=\"88\" x=\"37\" y=\"196.9375\"/><rect fill=\"none\" height=\"42.9375\" id=\"E10\" rx=\"10\" ry=\"10\" style=\"stroke: #383838; stroke-width: 1.5;\" width=\"88\" x=\"37\" y=\"169\"/><text fill=\"#000000\" font-family=\"sans-serif\" font-size=\"12\" font-style=\"italic\" lengthAdjust=\"spacingAndGlyphs\" textLength=\"64\" x=\"49\" y=\"185.1387\">«analysis»</text><text fill=\"#000000\" font-family=\"sans-serif\" font-size=\"12\" lengthAdjust=\"spacingAndGlyphs\" textLength=\"77\" x=\"42.5\" y=\"199.1074\">analysisPlan</text></a></g><!--MD5=[05d275557350bfb9b23a4ef7222b4c39]\n",
       "link E3 to E2--><a href=\"psysml:f45a4065-dcd9-4d0e-be10-466e9a1a32d6\" target=\"_top\" title=\"psysml:f45a4065-dcd9-4d0e-be10-466e9a1a32d6\" xlink:actuate=\"onRequest\" xlink:href=\"psysml:f45a4065-dcd9-4d0e-be10-466e9a1a32d6\" xlink:show=\"new\" xlink:title=\"psysml:f45a4065-dcd9-4d0e-be10-466e9a1a32d6\" xlink:type=\"simple\"><path d=\"M310.33,504 C304.8,518.17 296.47,536.57 286,551 C279.62,559.78 271.98,568.34 264.08,576.23 \" fill=\"none\" id=\"E3-&gt;E2\" style=\"stroke: #383838; stroke-width: 1.0;\"/><polygon fill=\"#FFFFFF\" points=\"249.34,590.06,258.406,571.9545,267.9855,582.164,249.34,590.06\" style=\"stroke: #383838; stroke-width: 1.0;\"/><ellipse cx=\"263.9312\" cy=\"569.5128\" fill=\"#383838\" rx=\"2\" ry=\"2\" style=\"stroke: #383838; stroke-width: 1.0;\"/><ellipse cx=\"270.7737\" cy=\"576.8053\" fill=\"#383838\" rx=\"2\" ry=\"2\" style=\"stroke: #383838; stroke-width: 1.0;\"/></a><!--MD5=[15ebcb19ae302d9b601edb458606d402]\n",
       "link E5 to E2--><a href=\"psysml:4ce798b4-e7f7-45ac-94f6-a9dc23ec95c2\" target=\"_top\" title=\"psysml:4ce798b4-e7f7-45ac-94f6-a9dc23ec95c2\" xlink:actuate=\"onRequest\" xlink:href=\"psysml:4ce798b4-e7f7-45ac-94f6-a9dc23ec95c2\" xlink:show=\"new\" xlink:title=\"psysml:4ce798b4-e7f7-45ac-94f6-a9dc23ec95c2\" xlink:type=\"simple\"><path d=\"M214,502.66 C214,522.01 214,551.52 214,575.85 \" fill=\"none\" id=\"E5-&gt;E2\" style=\"stroke: #383838; stroke-width: 1.0; stroke-dasharray: 7.0,7.0;\"/><polygon fill=\"#383838\" points=\"214,580.96,218,571.96,214,575.96,210,571.96,214,580.96\" style=\"stroke: #383838; stroke-width: 1.0;\"/><text fill=\"#000000\" font-family=\"sans-serif\" font-size=\"13\" lengthAdjust=\"spacingAndGlyphs\" textLength=\"62\" x=\"215\" y=\"547.0669\">«subject»</text></a><!--MD5=[2351f337d6de0f557b50152ba70847b5]\n",
       "link E6 to E2--><a href=\"psysml:38ee38e5-fe2f-49e8-a238-8ef961814591\" target=\"_top\" title=\"psysml:38ee38e5-fe2f-49e8-a238-8ef961814591\" xlink:actuate=\"onRequest\" xlink:href=\"psysml:38ee38e5-fe2f-49e8-a238-8ef961814591\" xlink:show=\"new\" xlink:title=\"psysml:38ee38e5-fe2f-49e8-a238-8ef961814591\" xlink:type=\"simple\"><path d=\"M57.5084,403.137 C57.5293,403.365 57.5504,403.5934 57.5718,403.8223 C57.6145,404.2801 57.6581,404.7398 57.7028,405.2013 C57.792,406.1242 57.8852,407.0543 57.9825,407.9913 C61.095,437.9725 68.38,474.885 85,504 C106.54,541.73 145.2,573.36 174.61,593.66 \" fill=\"none\" id=\"E6-&gt;E2\" style=\"stroke: #383838; stroke-width: 1.0; stroke-dasharray: 7.0,7.0;\"/><polygon fill=\"#383838\" points=\"178.87,596.58,173.6864,588.2056,174.7386,593.7638,169.1804,594.8159,178.87,596.58\" style=\"stroke: #383838; stroke-width: 1.0;\"/><text fill=\"#000000\" font-family=\"sans-serif\" font-size=\"13\" lengthAdjust=\"spacingAndGlyphs\" textLength=\"62\" x=\"86\" y=\"485.5669\">«subject»</text></a><!--MD5=[1ccb2481ffa92f8d51a74ee30c51832a]\n",
       "link E8 to E5--><a href=\"psysml:cf5e8ef0-758f-412b-8419-a299a9750eac\" target=\"_top\" title=\"psysml:cf5e8ef0-758f-412b-8419-a299a9750eac\" xlink:actuate=\"onRequest\" xlink:href=\"psysml:cf5e8ef0-758f-412b-8419-a299a9750eac\" xlink:show=\"new\" xlink:title=\"psysml:cf5e8ef0-758f-412b-8419-a299a9750eac\" xlink:type=\"simple\"><path d=\"M149.54,374.11 C160.73,392.48 177.39,419.85 190.97,442.16 \" fill=\"none\" id=\"E8-&gt;E5\" style=\"stroke: #383838; stroke-width: 1.0;\"/><polygon fill=\"#FFFFFF\" points=\"201.46,459.4,185.6016,446.8099,197.5604,439.5306,201.46,459.4\" style=\"stroke: #383838; stroke-width: 1.0;\"/><ellipse cx=\"184.3463\" cy=\"440.901\" fill=\"#383838\" rx=\"2\" ry=\"2\" style=\"stroke: #383838; stroke-width: 1.0;\"/><ellipse cx=\"192.8883\" cy=\"435.7016\" fill=\"#383838\" rx=\"2\" ry=\"2\" style=\"stroke: #383838; stroke-width: 1.0;\"/></a><!--MD5=[198716bf12f04006f5c20d61bde6d80d]\n",
       "link E10 to E6--><a href=\"psysml:4172c94c-9fb8-4464-b137-e530fc31134b\" target=\"_top\" title=\"psysml:4172c94c-9fb8-4464-b137-e530fc31134b\" xlink:actuate=\"onRequest\" xlink:href=\"psysml:4172c94c-9fb8-4464-b137-e530fc31134b\" xlink:show=\"new\" xlink:title=\"psysml:4172c94c-9fb8-4464-b137-e530fc31134b\" xlink:type=\"simple\"><path d=\"M77.78,212.09 C76.12,222.725 73.9581,236.5687 71.6419,251.3978 C71.0628,255.1051 70.4741,258.8739 69.8812,262.6696 C69.7329,263.6185 69.5844,264.5691 69.4358,265.5209 C69.3614,265.9967 69.287,266.4729 69.2126,266.9493 \" fill=\"none\" id=\"E10-&gt;E6\" style=\"stroke: #383838; stroke-width: 1.0;\"/><polygon fill=\"#FFFFFF\" points=\"69.2126,266.9493,65.2291,247.0965,79.0613,249.2573,69.2126,266.9493\" style=\"stroke: #383838; stroke-width: 1.0;\"/><ellipse cx=\"68.0849\" cy=\"241.7735\" fill=\"#383838\" rx=\"2\" ry=\"2\" style=\"stroke: #383838; stroke-width: 1.0;\"/><ellipse cx=\"77.965\" cy=\"243.317\" fill=\"#383838\" rx=\"2\" ry=\"2\" style=\"stroke: #383838; stroke-width: 1.0;\"/></a><!--MD5=[23ac544a70576c3e717098101004234c]\n",
       "reverse link E9 to E10--><a href=\"psysml:9d8d7d87-8dd4-470f-9d18-cffbc3763f0c\" target=\"_top\" title=\"psysml:9d8d7d87-8dd4-470f-9d18-cffbc3763f0c\" xlink:actuate=\"onRequest\" xlink:href=\"psysml:9d8d7d87-8dd4-470f-9d18-cffbc3763f0c\" xlink:show=\"new\" xlink:title=\"psysml:9d8d7d87-8dd4-470f-9d18-cffbc3763f0c\" xlink:type=\"simple\"><path d=\"M84.45,110.8 C83.62,129.84 82.61,152.68 81.91,168.84 \" fill=\"none\" id=\"E9&lt;-E10\" style=\"stroke: #383838; stroke-width: 1.0;\"/><polygon fill=\"#383838\" points=\"85.02,97.75,80.7601,103.5684,84.4925,109.7384,88.7524,103.92,85.02,97.75\" style=\"stroke: #383838; stroke-width: 1.0;\"/></a><!--MD5=[85d1ba0a00382af0601a65b58bdfdbdc]\n",
       "@startuml\r\n",
       " skinparam monochrome true\r\n",
       "skinparam classbackgroundcolor white\r\n",
       "skinparam shadowing false\r\n",
       "skinparam wrapWidth 300\r\n",
       "hide circle\r\n",
       "\r\n",
       "package \"AnalysisTest\" as E1  [[psysml:e1dfe890-ec15-4931-b288-05d8c66f0e23 ]]  {\r\n",
       "comp def \"V\" as E2  <<(T,blue) part  def>> [[psysml:e8de7c06-a552-45cc-9ef9-bdca622a4dc8 ]] {\r\n",
       "- - references - -\r\n",
       "m\r\n",
       "}\r\n",
       "comp usage \"vv: V \" as E3  <<(T,blue) part>> [[psysml:e405eddc-d04c-43ee-94c7-f68d6bd4037b ]] {\r\n",
       "}\r\n",
       "comp def \"AnalysisObjective\" as E4  <<(T,blue) requirement  def>> [[psysml:61935c6a-e9b2-427b-8e93-9f8ea2764a4f ]] {\r\n",
       "...\r\n",
       "- -\r\n",
       "}\r\n",
       "rec def \"AnalysisCase\" as E5 << analysis def>> [[psysml:5016a817-b8b6-43b2-a1c9-71130e2545c5 ]] {\r\n",
       "}\r\n",
       "rec def \"AnalysisPlan\" as E6 << analysis def>> [[psysml:0d28215e-abd0-4258-9ce4-d7487f47f154 ]] {\r\n",
       "comp usage \" <U+00AB>objective<U+00BB> \" as E7 [[psysml:317ace64-a3b7-4095-b75a-9c551641bbd2 ]] {\r\n",
       "...\r\n",
       "- -\r\n",
       "}\r\n",
       "rec usage \"analysisCase\" as E8 << analysis>> [[psysml:0f757ff2-27a2-40d5-a25f-af43358ff77a ]] {\r\n",
       "}\r\n",
       "}\r\n",
       "comp usage \"analysisContext \" as E9  <<(T,blue) part>> [[psysml:b24749b9-9e77-4740-bd21-7fc3830bb957 ]] {\r\n",
       "}\r\n",
       "rec usage \"analysisPlan\" as E10 << analysis>> [[psysml:9d8d7d87-8dd4-470f-9d18-cffbc3763f0c ]] {\r\n",
       "}\r\n",
       "}\r\n",
       "E3 - -:|> E2 [[psysml:f45a4065-dcd9-4d0e-be10-466e9a1a32d6 ]] \r\n",
       "E5 ..> E2 [[psysml:4ce798b4-e7f7-45ac-94f6-a9dc23ec95c2 ]] : <<subject>>\r\n",
       "E6 ..> E2 [[psysml:38ee38e5-fe2f-49e8-a238-8ef961814591 ]] : <<subject>>\r\n",
       "E8 - -:|> E5 [[psysml:cf5e8ef0-758f-412b-8419-a299a9750eac ]] \r\n",
       "E10 - -:|> E6 [[psysml:4172c94c-9fb8-4464-b137-e530fc31134b ]] \r\n",
       "E9 *- - E10 [[psysml:9d8d7d87-8dd4-470f-9d18-cffbc3763f0c ]] \r\n",
       "@enduml\r\n",
       "\n",
       "PlantUML version 1.2020.13(Sat Jun 13 12:26:38 UTC 2020)\n",
       "(EPL source distribution)\n",
       "Java Runtime: OpenJDK Runtime Environment\n",
       "JVM: OpenJDK 64-Bit Server VM\n",
       "Default Encoding: UTF-8\n",
       "Language: en\n",
       "Country: null\n",
       "--></g></svg>"
      ]
     },
     "execution_count": 8,
     "metadata": {},
     "output_type": "execute_result"
    }
   ],
   "source": [
    "%viz --style=\"COMPTREE\" --view=\"MIXED\" \"AnalysisTest\""
   ]
  },
  {
   "cell_type": "code",
   "execution_count": 9,
   "id": "79914783",
   "metadata": {
    "execution": {
     "iopub.execute_input": "2022-02-05T16:52:01.029331Z",
     "iopub.status.busy": "2022-02-05T16:52:01.028693Z",
     "iopub.status.idle": "2022-02-05T16:52:01.101816Z",
     "shell.execute_reply": "2022-02-05T16:52:01.100333Z"
    }
   },
   "outputs": [
    {
     "data": {
      "image/svg+xml": [
       "<?xml version=\"1.0\" encoding=\"UTF-8\" standalone=\"no\"?><svg xmlns=\"http://www.w3.org/2000/svg\" xmlns:xlink=\"http://www.w3.org/1999/xlink\" contentScriptType=\"application/ecmascript\" contentStyleType=\"text/css\" height=\"685px\" preserveAspectRatio=\"none\" style=\"width:380px;height:685px;\" version=\"1.1\" viewBox=\"0 0 380 685\" width=\"380px\" zoomAndPan=\"magnify\"><defs/><g><!--MD5=[fbc87193dbaf4d95561dea2c320d4a47]\n",
       "cluster E1--><a href=\"psysml:e1dfe890-ec15-4931-b288-05d8c66f0e23\" target=\"_top\" title=\"psysml:e1dfe890-ec15-4931-b288-05d8c66f0e23\" xlink:actuate=\"onRequest\" xlink:href=\"psysml:e1dfe890-ec15-4931-b288-05d8c66f0e23\" xlink:show=\"new\" xlink:title=\"psysml:e1dfe890-ec15-4931-b288-05d8c66f0e23\" xlink:type=\"simple\"><polygon fill=\"#FFFFFF\" points=\"16,6,108,6,115,28.2969,358,28.2969,358,673,16,673,16,6\" style=\"stroke: #000000; stroke-width: 1.5;\"/><line style=\"stroke: #000000; stroke-width: 1.5;\" x1=\"16\" x2=\"115\" y1=\"28.2969\" y2=\"28.2969\"/><text fill=\"#000000\" font-family=\"sans-serif\" font-size=\"14\" font-weight=\"bold\" lengthAdjust=\"spacingAndGlyphs\" textLength=\"86\" x=\"20\" y=\"20.9951\">AnalysisTest</text></a><!--MD5=[14e3b0961a2654348d326746436168a1]\n",
       "cluster E6--><a href=\"psysml:0d28215e-abd0-4258-9ce4-d7487f47f154\" target=\"_top\" title=\"psysml:0d28215e-abd0-4258-9ce4-d7487f47f154\" xlink:actuate=\"onRequest\" xlink:href=\"psysml:0d28215e-abd0-4258-9ce4-d7487f47f154\" xlink:show=\"new\" xlink:title=\"psysml:0d28215e-abd0-4258-9ce4-d7487f47f154\" xlink:type=\"simple\"><rect fill=\"#FFFFFF\" height=\"136\" id=\"E6\" style=\"stroke: #383838; stroke-width: 1.5;\" width=\"278\" x=\"48\" y=\"267\"/><rect fill=\"#F8F8F8\" height=\"37.9375\" style=\"stroke: #383838; stroke-width: 1.5;\" width=\"278\" x=\"48\" y=\"267\"/><text fill=\"#000000\" font-family=\"sans-serif\" font-size=\"12\" font-style=\"italic\" lengthAdjust=\"spacingAndGlyphs\" textLength=\"88\" x=\"143\" y=\"283.1387\">«analysis def»</text><text fill=\"#000000\" font-family=\"sans-serif\" font-size=\"12\" lengthAdjust=\"spacingAndGlyphs\" textLength=\"77\" x=\"148.5\" y=\"297.1074\">AnalysisPlan</text></a><!--MD5=[b4997ac47864f28c2f74865a473b2911]\n",
       "class E2--><a href=\"psysml:e8de7c06-a552-45cc-9ef9-bdca622a4dc8\" target=\"_top\" title=\"psysml:e8de7c06-a552-45cc-9ef9-bdca622a4dc8\" xlink:actuate=\"onRequest\" xlink:href=\"psysml:e8de7c06-a552-45cc-9ef9-bdca622a4dc8\" xlink:show=\"new\" xlink:title=\"psysml:e8de7c06-a552-45cc-9ef9-bdca622a4dc8\" xlink:type=\"simple\"><rect fill=\"#FFFFFF\" height=\"75.5469\" id=\"E2\" style=\"stroke: #383838; stroke-width: 1.5;\" width=\"70\" x=\"179\" y=\"581\"/><text fill=\"#000000\" font-family=\"sans-serif\" font-size=\"12\" font-style=\"italic\" lengthAdjust=\"spacingAndGlyphs\" textLength=\"68\" x=\"180\" y=\"597.1387\">«part  def»</text><text fill=\"#000000\" font-family=\"sans-serif\" font-size=\"12\" lengthAdjust=\"spacingAndGlyphs\" textLength=\"8\" x=\"210\" y=\"611.1074\">V</text><line style=\"stroke: #383838; stroke-width: 1.5;\" x1=\"180\" x2=\"248\" y1=\"618.9375\" y2=\"618.9375\"/><text fill=\"#000000\" font-family=\"sans-serif\" font-size=\"11\" lengthAdjust=\"spacingAndGlyphs\" textLength=\"11\" x=\"185\" y=\"649.9526\">m</text><line style=\"stroke: #383838; stroke-width: 1.0;\" x1=\"180\" x2=\"183\" y1=\"633.3398\" y2=\"633.3398\"/><text fill=\"#000000\" font-family=\"sans-serif\" font-size=\"11\" lengthAdjust=\"spacingAndGlyphs\" textLength=\"62\" x=\"183\" y=\"636.6479\">references</text><line style=\"stroke: #383838; stroke-width: 1.0;\" x1=\"245\" x2=\"248\" y1=\"633.3398\" y2=\"633.3398\"/></a><!--MD5=[09b614a08d8cba4a07c9adeb5e0fee81]\n",
       "class E3--><a href=\"psysml:e405eddc-d04c-43ee-94c7-f68d6bd4037b\" target=\"_top\" title=\"psysml:e405eddc-d04c-43ee-94c7-f68d6bd4037b\" xlink:actuate=\"onRequest\" xlink:href=\"psysml:e405eddc-d04c-43ee-94c7-f68d6bd4037b\" xlink:show=\"new\" xlink:title=\"psysml:e405eddc-d04c-43ee-94c7-f68d6bd4037b\" xlink:type=\"simple\"><rect fill=\"#FFFFFF\" height=\"45.9375\" id=\"E3\" rx=\"10\" ry=\"10\" style=\"stroke: #383838; stroke-width: 1.5;\" width=\"42\" x=\"297\" y=\"458\"/><text fill=\"#000000\" font-family=\"sans-serif\" font-size=\"12\" font-style=\"italic\" lengthAdjust=\"spacingAndGlyphs\" textLength=\"40\" x=\"298\" y=\"474.1387\">«part»</text><text fill=\"#000000\" font-family=\"sans-serif\" font-size=\"12\" lengthAdjust=\"spacingAndGlyphs\" textLength=\"28\" x=\"302\" y=\"488.1074\">vv: V</text><line style=\"stroke: #383838; stroke-width: 1.5;\" x1=\"298\" x2=\"338\" y1=\"495.9375\" y2=\"495.9375\"/></a><!--MD5=[ebbe1d658d1005bcc118a6aa81145e00]\n",
       "class E4--><a href=\"psysml:61935c6a-e9b2-427b-8e93-9f8ea2764a4f\" target=\"_top\" title=\"psysml:61935c6a-e9b2-427b-8e93-9f8ea2764a4f\" xlink:actuate=\"onRequest\" xlink:href=\"psysml:61935c6a-e9b2-427b-8e93-9f8ea2764a4f\" xlink:show=\"new\" xlink:title=\"psysml:61935c6a-e9b2-427b-8e93-9f8ea2764a4f\" xlink:type=\"simple\"><rect fill=\"#FFFFFF\" height=\"66.7422\" id=\"E4\" style=\"stroke: #383838; stroke-width: 1.5;\" width=\"121\" x=\"197.5\" y=\"41\"/><text fill=\"#000000\" font-family=\"sans-serif\" font-size=\"12\" font-style=\"italic\" lengthAdjust=\"spacingAndGlyphs\" textLength=\"119\" x=\"198.5\" y=\"57.1387\">«requirement  def»</text><text fill=\"#000000\" font-family=\"sans-serif\" font-size=\"12\" lengthAdjust=\"spacingAndGlyphs\" textLength=\"107\" x=\"204.5\" y=\"71.1074\">AnalysisObjective</text><line style=\"stroke: #383838; stroke-width: 1.5;\" x1=\"198.5\" x2=\"317.5\" y1=\"78.9375\" y2=\"78.9375\"/><text fill=\"#000000\" font-family=\"sans-serif\" font-size=\"11\" lengthAdjust=\"spacingAndGlyphs\" textLength=\"12\" x=\"203.5\" y=\"93.1479\">...</text><line style=\"stroke: #383838; stroke-width: 1.0;\" x1=\"198.5\" x2=\"317.5\" y1=\"99.7422\" y2=\"99.7422\"/></a><!--MD5=[fd4143e9d270a159db93a4ea2a975926]\n",
       "class E9--><a href=\"psysml:b24749b9-9e77-4740-bd21-7fc3830bb957\" target=\"_top\" title=\"psysml:b24749b9-9e77-4740-bd21-7fc3830bb957\" xlink:actuate=\"onRequest\" xlink:href=\"psysml:b24749b9-9e77-4740-bd21-7fc3830bb957\" xlink:show=\"new\" xlink:title=\"psysml:b24749b9-9e77-4740-bd21-7fc3830bb957\" xlink:type=\"simple\"><rect fill=\"#FFFFFF\" height=\"45.9375\" id=\"E9\" rx=\"10\" ry=\"10\" style=\"stroke: #383838; stroke-width: 1.5;\" width=\"108\" x=\"32\" y=\"51.5\"/><text fill=\"#000000\" font-family=\"sans-serif\" font-size=\"12\" font-style=\"italic\" lengthAdjust=\"spacingAndGlyphs\" textLength=\"40\" x=\"66\" y=\"67.6387\">«part»</text><text fill=\"#000000\" font-family=\"sans-serif\" font-size=\"12\" lengthAdjust=\"spacingAndGlyphs\" textLength=\"98\" x=\"35\" y=\"81.6074\">analysisContext</text><line style=\"stroke: #383838; stroke-width: 1.5;\" x1=\"33\" x2=\"139\" y1=\"89.4375\" y2=\"89.4375\"/></a><g id=\"E1.E5\"><a href=\"psysml:5016a817-b8b6-43b2-a1c9-71130e2545c5\" target=\"_top\" title=\"psysml:5016a817-b8b6-43b2-a1c9-71130e2545c5\" xlink:actuate=\"onRequest\" xlink:href=\"psysml:5016a817-b8b6-43b2-a1c9-71130e2545c5\" xlink:show=\"new\" xlink:title=\"psysml:5016a817-b8b6-43b2-a1c9-71130e2545c5\" xlink:type=\"simple\"><rect fill=\"#FFFFFF\" height=\"42.9375\" id=\"E5\" style=\"stroke: #383838; stroke-width: 1.5;\" width=\"95\" x=\"166.5\" y=\"459.5\"/><rect fill=\"#F8F8F8\" height=\"37.9375\" style=\"stroke: #383838; stroke-width: 1.5;\" width=\"95\" x=\"166.5\" y=\"459.5\"/><text fill=\"#000000\" font-family=\"sans-serif\" font-size=\"12\" font-style=\"italic\" lengthAdjust=\"spacingAndGlyphs\" textLength=\"88\" x=\"170\" y=\"475.6387\">«analysis def»</text><text fill=\"#000000\" font-family=\"sans-serif\" font-size=\"12\" lengthAdjust=\"spacingAndGlyphs\" textLength=\"81\" x=\"173.5\" y=\"489.6074\">AnalysisCase</text></a></g><!--MD5=[2156ba9850f5573cc1fc38a6a4b2f02b]\n",
       "class E7--><a href=\"psysml:317ace64-a3b7-4095-b75a-9c551641bbd2\" target=\"_top\" title=\"psysml:317ace64-a3b7-4095-b75a-9c551641bbd2\" xlink:actuate=\"onRequest\" xlink:href=\"psysml:317ace64-a3b7-4095-b75a-9c551641bbd2\" xlink:show=\"new\" xlink:title=\"psysml:317ace64-a3b7-4095-b75a-9c551641bbd2\" xlink:type=\"simple\"><rect fill=\"#FFFFFF\" height=\"52.7734\" id=\"E7\" rx=\"10\" ry=\"10\" style=\"stroke: #383838; stroke-width: 1.5;\" width=\"84\" x=\"218\" y=\"326\"/><text fill=\"#000000\" font-family=\"sans-serif\" font-size=\"12\" lengthAdjust=\"spacingAndGlyphs\" textLength=\"70\" x=\"225\" y=\"342.1387\">«objective»</text><line style=\"stroke: #383838; stroke-width: 1.5;\" x1=\"219\" x2=\"301\" y1=\"349.9688\" y2=\"349.9688\"/><text fill=\"#000000\" font-family=\"sans-serif\" font-size=\"11\" lengthAdjust=\"spacingAndGlyphs\" textLength=\"12\" x=\"224\" y=\"364.1792\">...</text><line style=\"stroke: #383838; stroke-width: 1.0;\" x1=\"219\" x2=\"301\" y1=\"370.7734\" y2=\"370.7734\"/></a><g id=\"E1.E6.E8\"><a href=\"psysml:0f757ff2-27a2-40d5-a25f-af43358ff77a\" target=\"_top\" title=\"psysml:0f757ff2-27a2-40d5-a25f-af43358ff77a\" xlink:actuate=\"onRequest\" xlink:href=\"psysml:0f757ff2-27a2-40d5-a25f-af43358ff77a\" xlink:show=\"new\" xlink:title=\"psysml:0f757ff2-27a2-40d5-a25f-af43358ff77a\" xlink:type=\"simple\"><rect fill=\"#FFFFFF\" height=\"42.9375\" id=\"E8\" rx=\"10\" ry=\"10\" style=\"stroke: #383838; stroke-width: 1.5;\" width=\"92\" x=\"91\" y=\"331\"/><rect fill=\"#F8F8F8\" height=\"37.9375\" rx=\"10\" ry=\"10\" style=\"stroke: #F8F8F8; stroke-width: 1.5;\" width=\"92\" x=\"91\" y=\"331\"/><rect fill=\"#F8F8F8\" height=\"10\" style=\"stroke: #F8F8F8; stroke-width: 1.5;\" width=\"92\" x=\"91\" y=\"358.9375\"/><rect fill=\"none\" height=\"42.9375\" id=\"E8\" rx=\"10\" ry=\"10\" style=\"stroke: #383838; stroke-width: 1.5;\" width=\"92\" x=\"91\" y=\"331\"/><text fill=\"#000000\" font-family=\"sans-serif\" font-size=\"12\" font-style=\"italic\" lengthAdjust=\"spacingAndGlyphs\" textLength=\"64\" x=\"105\" y=\"347.1387\">«analysis»</text><text fill=\"#000000\" font-family=\"sans-serif\" font-size=\"12\" lengthAdjust=\"spacingAndGlyphs\" textLength=\"81\" x=\"96.5\" y=\"361.1074\">analysisCase</text></a></g><g id=\"E1.E10\"><a href=\"psysml:9d8d7d87-8dd4-470f-9d18-cffbc3763f0c\" target=\"_top\" title=\"psysml:9d8d7d87-8dd4-470f-9d18-cffbc3763f0c\" xlink:actuate=\"onRequest\" xlink:href=\"psysml:9d8d7d87-8dd4-470f-9d18-cffbc3763f0c\" xlink:show=\"new\" xlink:title=\"psysml:9d8d7d87-8dd4-470f-9d18-cffbc3763f0c\" xlink:type=\"simple\"><rect fill=\"#FFFFFF\" height=\"42.9375\" id=\"E10\" rx=\"10\" ry=\"10\" style=\"stroke: #383838; stroke-width: 1.5;\" width=\"88\" x=\"37\" y=\"169\"/><rect fill=\"#F8F8F8\" height=\"37.9375\" rx=\"10\" ry=\"10\" style=\"stroke: #F8F8F8; stroke-width: 1.5;\" width=\"88\" x=\"37\" y=\"169\"/><rect fill=\"#F8F8F8\" height=\"10\" style=\"stroke: #F8F8F8; stroke-width: 1.5;\" width=\"88\" x=\"37\" y=\"196.9375\"/><rect fill=\"none\" height=\"42.9375\" id=\"E10\" rx=\"10\" ry=\"10\" style=\"stroke: #383838; stroke-width: 1.5;\" width=\"88\" x=\"37\" y=\"169\"/><text fill=\"#000000\" font-family=\"sans-serif\" font-size=\"12\" font-style=\"italic\" lengthAdjust=\"spacingAndGlyphs\" textLength=\"64\" x=\"49\" y=\"185.1387\">«analysis»</text><text fill=\"#000000\" font-family=\"sans-serif\" font-size=\"12\" lengthAdjust=\"spacingAndGlyphs\" textLength=\"77\" x=\"42.5\" y=\"199.1074\">analysisPlan</text></a></g><!--MD5=[05d275557350bfb9b23a4ef7222b4c39]\n",
       "link E3 to E2--><a href=\"psysml:f45a4065-dcd9-4d0e-be10-466e9a1a32d6\" target=\"_top\" title=\"psysml:f45a4065-dcd9-4d0e-be10-466e9a1a32d6\" xlink:actuate=\"onRequest\" xlink:href=\"psysml:f45a4065-dcd9-4d0e-be10-466e9a1a32d6\" xlink:show=\"new\" xlink:title=\"psysml:f45a4065-dcd9-4d0e-be10-466e9a1a32d6\" xlink:type=\"simple\"><path d=\"M307.7,504.21 C298.34,524.38 286,551 286,551 C286,551 276.2,560.12 263.83,571.63 \" fill=\"none\" id=\"E3-&gt;E2\" style=\"stroke: #383838; stroke-width: 1.0;\"/><polygon fill=\"#FFFFFF\" points=\"249.16,585.29,258.2902,567.2168,267.8334,577.4602,249.16,585.29\" style=\"stroke: #383838; stroke-width: 1.0;\"/><ellipse cx=\"263.824\" cy=\"564.7947\" fill=\"#383838\" rx=\"2\" ry=\"2\" style=\"stroke: #383838; stroke-width: 1.0;\"/><ellipse cx=\"270.6406\" cy=\"572.1115\" fill=\"#383838\" rx=\"2\" ry=\"2\" style=\"stroke: #383838; stroke-width: 1.0;\"/></a><!--MD5=[15ebcb19ae302d9b601edb458606d402]\n",
       "link E5 to E2--><a href=\"psysml:4ce798b4-e7f7-45ac-94f6-a9dc23ec95c2\" target=\"_top\" title=\"psysml:4ce798b4-e7f7-45ac-94f6-a9dc23ec95c2\" xlink:actuate=\"onRequest\" xlink:href=\"psysml:4ce798b4-e7f7-45ac-94f6-a9dc23ec95c2\" xlink:show=\"new\" xlink:title=\"psysml:4ce798b4-e7f7-45ac-94f6-a9dc23ec95c2\" xlink:type=\"simple\"><path d=\"M214,502.66 C214,522.01 214,551.52 214,575.85 \" fill=\"none\" id=\"E5-&gt;E2\" style=\"stroke: #383838; stroke-width: 1.0; stroke-dasharray: 7.0,7.0;\"/><polygon fill=\"#383838\" points=\"214,580.96,218,571.96,214,575.96,210,571.96,214,580.96\" style=\"stroke: #383838; stroke-width: 1.0;\"/><text fill=\"#000000\" font-family=\"sans-serif\" font-size=\"13\" lengthAdjust=\"spacingAndGlyphs\" textLength=\"62\" x=\"215\" y=\"547.0669\">«subject»</text></a><!--MD5=[2351f337d6de0f557b50152ba70847b5]\n",
       "link E6 to E2--><a href=\"psysml:38ee38e5-fe2f-49e8-a238-8ef961814591\" target=\"_top\" title=\"psysml:38ee38e5-fe2f-49e8-a238-8ef961814591\" xlink:actuate=\"onRequest\" xlink:href=\"psysml:38ee38e5-fe2f-49e8-a238-8ef961814591\" xlink:show=\"new\" xlink:title=\"psysml:38ee38e5-fe2f-49e8-a238-8ef961814591\" xlink:type=\"simple\"><path d=\"M65.5762,403.1982 C67.2656,411.9656 69.0563,421.2581 70.84,430.515 C77.975,467.5425 85,504 85,504 C85,504 136.72,549.7 174.66,583.23 \" fill=\"none\" id=\"E6-&gt;E2\" style=\"stroke: #383838; stroke-width: 1.0; stroke-dasharray: 7.0,7.0;\"/><polygon fill=\"#383838\" points=\"178.75,586.85,174.6638,577.8888,175.0067,583.5353,169.3602,583.8782,178.75,586.85\" style=\"stroke: #383838; stroke-width: 1.0;\"/><text fill=\"#000000\" font-family=\"sans-serif\" font-size=\"13\" lengthAdjust=\"spacingAndGlyphs\" textLength=\"62\" x=\"86\" y=\"485.5669\">«subject»</text></a><!--MD5=[1ccb2481ffa92f8d51a74ee30c51832a]\n",
       "link E8 to E5--><a href=\"psysml:cf5e8ef0-758f-412b-8419-a299a9750eac\" target=\"_top\" title=\"psysml:cf5e8ef0-758f-412b-8419-a299a9750eac\" xlink:actuate=\"onRequest\" xlink:href=\"psysml:cf5e8ef0-758f-412b-8419-a299a9750eac\" xlink:show=\"new\" xlink:title=\"psysml:cf5e8ef0-758f-412b-8419-a299a9750eac\" xlink:type=\"simple\"><path d=\"M149.54,374.11 C160.73,392.48 177.39,419.85 190.97,442.16 \" fill=\"none\" id=\"E8-&gt;E5\" style=\"stroke: #383838; stroke-width: 1.0;\"/><polygon fill=\"#FFFFFF\" points=\"201.46,459.4,185.6016,446.8099,197.5604,439.5306,201.46,459.4\" style=\"stroke: #383838; stroke-width: 1.0;\"/><ellipse cx=\"184.3463\" cy=\"440.901\" fill=\"#383838\" rx=\"2\" ry=\"2\" style=\"stroke: #383838; stroke-width: 1.0;\"/><ellipse cx=\"192.8883\" cy=\"435.7016\" fill=\"#383838\" rx=\"2\" ry=\"2\" style=\"stroke: #383838; stroke-width: 1.0;\"/></a><!--MD5=[198716bf12f04006f5c20d61bde6d80d]\n",
       "link E10 to E6--><a href=\"psysml:4172c94c-9fb8-4464-b137-e530fc31134b\" target=\"_top\" title=\"psysml:4172c94c-9fb8-4464-b137-e530fc31134b\" xlink:actuate=\"onRequest\" xlink:href=\"psysml:4172c94c-9fb8-4464-b137-e530fc31134b\" xlink:show=\"new\" xlink:title=\"psysml:4172c94c-9fb8-4464-b137-e530fc31134b\" xlink:type=\"simple\"><path d=\"M77.78,212.09 C76.12,222.725 73.9581,236.5687 71.6419,251.3978 C71.0628,255.1051 70.4741,258.8739 69.8812,262.6696 C69.7329,263.6185 69.5844,264.5691 69.4358,265.5209 C69.3614,265.9967 69.287,266.4729 69.2126,266.9493 \" fill=\"none\" id=\"E10-&gt;E6\" style=\"stroke: #383838; stroke-width: 1.0;\"/><polygon fill=\"#FFFFFF\" points=\"69.2126,266.9493,65.2291,247.0965,79.0613,249.2573,69.2126,266.9493\" style=\"stroke: #383838; stroke-width: 1.0;\"/><ellipse cx=\"68.0849\" cy=\"241.7735\" fill=\"#383838\" rx=\"2\" ry=\"2\" style=\"stroke: #383838; stroke-width: 1.0;\"/><ellipse cx=\"77.965\" cy=\"243.317\" fill=\"#383838\" rx=\"2\" ry=\"2\" style=\"stroke: #383838; stroke-width: 1.0;\"/></a><!--MD5=[23ac544a70576c3e717098101004234c]\n",
       "reverse link E9 to E10--><a href=\"psysml:9d8d7d87-8dd4-470f-9d18-cffbc3763f0c\" target=\"_top\" title=\"psysml:9d8d7d87-8dd4-470f-9d18-cffbc3763f0c\" xlink:actuate=\"onRequest\" xlink:href=\"psysml:9d8d7d87-8dd4-470f-9d18-cffbc3763f0c\" xlink:show=\"new\" xlink:title=\"psysml:9d8d7d87-8dd4-470f-9d18-cffbc3763f0c\" xlink:type=\"simple\"><path d=\"M84.45,110.8 C83.62,129.84 82.61,152.68 81.91,168.84 \" fill=\"none\" id=\"E9&lt;-E10\" style=\"stroke: #383838; stroke-width: 1.0;\"/><polygon fill=\"#383838\" points=\"85.02,97.75,80.7601,103.5684,84.4925,109.7384,88.7524,103.92,85.02,97.75\" style=\"stroke: #383838; stroke-width: 1.0;\"/></a><!--MD5=[6366452d8878a4fdb79241ab50f533c0]\n",
       "@startuml\r\n",
       "skinparam linetype polyline\r\n",
       "skinparam monochrome true\r\n",
       "skinparam classbackgroundcolor white\r\n",
       "skinparam shadowing false\r\n",
       "skinparam wrapWidth 300\r\n",
       "hide circle\r\n",
       "\r\n",
       "package \"AnalysisTest\" as E1  [[psysml:e1dfe890-ec15-4931-b288-05d8c66f0e23 ]]  {\r\n",
       "comp def \"V\" as E2  <<(T,blue) part  def>> [[psysml:e8de7c06-a552-45cc-9ef9-bdca622a4dc8 ]] {\r\n",
       "- - references - -\r\n",
       "m\r\n",
       "}\r\n",
       "comp usage \"vv: V \" as E3  <<(T,blue) part>> [[psysml:e405eddc-d04c-43ee-94c7-f68d6bd4037b ]] {\r\n",
       "}\r\n",
       "comp def \"AnalysisObjective\" as E4  <<(T,blue) requirement  def>> [[psysml:61935c6a-e9b2-427b-8e93-9f8ea2764a4f ]] {\r\n",
       "...\r\n",
       "- -\r\n",
       "}\r\n",
       "rec def \"AnalysisCase\" as E5 << analysis def>> [[psysml:5016a817-b8b6-43b2-a1c9-71130e2545c5 ]] {\r\n",
       "}\r\n",
       "rec def \"AnalysisPlan\" as E6 << analysis def>> [[psysml:0d28215e-abd0-4258-9ce4-d7487f47f154 ]] {\r\n",
       "comp usage \" <U+00AB>objective<U+00BB> \" as E7 [[psysml:317ace64-a3b7-4095-b75a-9c551641bbd2 ]] {\r\n",
       "...\r\n",
       "- -\r\n",
       "}\r\n",
       "rec usage \"analysisCase\" as E8 << analysis>> [[psysml:0f757ff2-27a2-40d5-a25f-af43358ff77a ]] {\r\n",
       "}\r\n",
       "}\r\n",
       "comp usage \"analysisContext \" as E9  <<(T,blue) part>> [[psysml:b24749b9-9e77-4740-bd21-7fc3830bb957 ]] {\r\n",
       "}\r\n",
       "rec usage \"analysisPlan\" as E10 << analysis>> [[psysml:9d8d7d87-8dd4-470f-9d18-cffbc3763f0c ]] {\r\n",
       "}\r\n",
       "}\r\n",
       "E3 - -:|> E2 [[psysml:f45a4065-dcd9-4d0e-be10-466e9a1a32d6 ]] \r\n",
       "E5 ..> E2 [[psysml:4ce798b4-e7f7-45ac-94f6-a9dc23ec95c2 ]] : <<subject>>\r\n",
       "E6 ..> E2 [[psysml:38ee38e5-fe2f-49e8-a238-8ef961814591 ]] : <<subject>>\r\n",
       "E8 - -:|> E5 [[psysml:cf5e8ef0-758f-412b-8419-a299a9750eac ]] \r\n",
       "E10 - -:|> E6 [[psysml:4172c94c-9fb8-4464-b137-e530fc31134b ]] \r\n",
       "E9 *- - E10 [[psysml:9d8d7d87-8dd4-470f-9d18-cffbc3763f0c ]] \r\n",
       "@enduml\r\n",
       "\n",
       "PlantUML version 1.2020.13(Sat Jun 13 12:26:38 UTC 2020)\n",
       "(EPL source distribution)\n",
       "Java Runtime: OpenJDK Runtime Environment\n",
       "JVM: OpenJDK 64-Bit Server VM\n",
       "Default Encoding: UTF-8\n",
       "Language: en\n",
       "Country: null\n",
       "--></g></svg>"
      ]
     },
     "execution_count": 9,
     "metadata": {},
     "output_type": "execute_result"
    }
   ],
   "source": [
    "%viz --style=\"POLYLINE\" --view=\"Default\" \"AnalysisTest\""
   ]
  },
  {
   "cell_type": "code",
   "execution_count": 10,
   "id": "b688ef04",
   "metadata": {
    "execution": {
     "iopub.execute_input": "2022-02-05T16:52:01.151327Z",
     "iopub.status.busy": "2022-02-05T16:52:01.150896Z",
     "iopub.status.idle": "2022-02-05T16:52:01.248840Z",
     "shell.execute_reply": "2022-02-05T16:52:01.247193Z"
    }
   },
   "outputs": [
    {
     "data": {
      "image/svg+xml": [
       "<?xml version=\"1.0\" encoding=\"UTF-8\" standalone=\"no\"?><svg xmlns=\"http://www.w3.org/2000/svg\" xmlns:xlink=\"http://www.w3.org/1999/xlink\" contentScriptType=\"application/ecmascript\" contentStyleType=\"text/css\" height=\"923px\" preserveAspectRatio=\"none\" style=\"width:449px;height:923px;\" version=\"1.1\" viewBox=\"0 0 449 923\" width=\"449px\" zoomAndPan=\"magnify\"><defs/><g><!--MD5=[fbc87193dbaf4d95561dea2c320d4a47]\n",
       "cluster E1--><a href=\"psysml:e1dfe890-ec15-4931-b288-05d8c66f0e23\" target=\"_top\" title=\"psysml:e1dfe890-ec15-4931-b288-05d8c66f0e23\" xlink:actuate=\"onRequest\" xlink:href=\"psysml:e1dfe890-ec15-4931-b288-05d8c66f0e23\" xlink:show=\"new\" xlink:title=\"psysml:e1dfe890-ec15-4931-b288-05d8c66f0e23\" xlink:type=\"simple\"><polygon fill=\"#FFFFFF\" points=\"16,6,108,6,115,28.2969,427,28.2969,427,911,16,911,16,6\" style=\"stroke: #000000; stroke-width: 1.5;\"/><line style=\"stroke: #000000; stroke-width: 1.5;\" x1=\"16\" x2=\"115\" y1=\"28.2969\" y2=\"28.2969\"/><text fill=\"#000000\" font-family=\"sans-serif\" font-size=\"14\" font-weight=\"bold\" lengthAdjust=\"spacingAndGlyphs\" textLength=\"86\" x=\"20\" y=\"20.9951\">AnalysisTest</text></a><!--MD5=[b4997ac47864f28c2f74865a473b2911]\n",
       "class E2--><a href=\"psysml:e8de7c06-a552-45cc-9ef9-bdca622a4dc8\" target=\"_top\" title=\"psysml:e8de7c06-a552-45cc-9ef9-bdca622a4dc8\" xlink:actuate=\"onRequest\" xlink:href=\"psysml:e8de7c06-a552-45cc-9ef9-bdca622a4dc8\" xlink:show=\"new\" xlink:title=\"psysml:e8de7c06-a552-45cc-9ef9-bdca622a4dc8\" xlink:type=\"simple\"><rect fill=\"#FFFFFF\" height=\"75.5469\" id=\"E2\" style=\"stroke: #383838; stroke-width: 1.5;\" width=\"70\" x=\"156\" y=\"691\"/><text fill=\"#000000\" font-family=\"sans-serif\" font-size=\"12\" font-style=\"italic\" lengthAdjust=\"spacingAndGlyphs\" textLength=\"68\" x=\"157\" y=\"707.1387\">«part  def»</text><text fill=\"#000000\" font-family=\"sans-serif\" font-size=\"12\" lengthAdjust=\"spacingAndGlyphs\" textLength=\"8\" x=\"187\" y=\"721.1074\">V</text><line style=\"stroke: #383838; stroke-width: 1.5;\" x1=\"157\" x2=\"225\" y1=\"728.9375\" y2=\"728.9375\"/><text fill=\"#000000\" font-family=\"sans-serif\" font-size=\"11\" lengthAdjust=\"spacingAndGlyphs\" textLength=\"11\" x=\"162\" y=\"759.9526\">m</text><line style=\"stroke: #383838; stroke-width: 1.0;\" x1=\"157\" x2=\"160\" y1=\"743.3398\" y2=\"743.3398\"/><text fill=\"#000000\" font-family=\"sans-serif\" font-size=\"11\" lengthAdjust=\"spacingAndGlyphs\" textLength=\"62\" x=\"160\" y=\"746.6479\">references</text><line style=\"stroke: #383838; stroke-width: 1.0;\" x1=\"222\" x2=\"225\" y1=\"743.3398\" y2=\"743.3398\"/></a><!--MD5=[09b614a08d8cba4a07c9adeb5e0fee81]\n",
       "class E3--><a href=\"psysml:e405eddc-d04c-43ee-94c7-f68d6bd4037b\" target=\"_top\" title=\"psysml:e405eddc-d04c-43ee-94c7-f68d6bd4037b\" xlink:actuate=\"onRequest\" xlink:href=\"psysml:e405eddc-d04c-43ee-94c7-f68d6bd4037b\" xlink:show=\"new\" xlink:title=\"psysml:e405eddc-d04c-43ee-94c7-f68d6bd4037b\" xlink:type=\"simple\"><rect fill=\"#FFFFFF\" height=\"45.9375\" id=\"E3\" rx=\"10\" ry=\"10\" style=\"stroke: #383838; stroke-width: 1.5;\" width=\"42\" x=\"198\" y=\"553\"/><text fill=\"#000000\" font-family=\"sans-serif\" font-size=\"12\" font-style=\"italic\" lengthAdjust=\"spacingAndGlyphs\" textLength=\"40\" x=\"199\" y=\"569.1387\">«part»</text><text fill=\"#000000\" font-family=\"sans-serif\" font-size=\"12\" lengthAdjust=\"spacingAndGlyphs\" textLength=\"28\" x=\"203\" y=\"583.1074\">vv: V</text><line style=\"stroke: #383838; stroke-width: 1.5;\" x1=\"199\" x2=\"239\" y1=\"590.9375\" y2=\"590.9375\"/></a><!--MD5=[ebbe1d658d1005bcc118a6aa81145e00]\n",
       "class E4--><a href=\"psysml:61935c6a-e9b2-427b-8e93-9f8ea2764a4f\" target=\"_top\" title=\"psysml:61935c6a-e9b2-427b-8e93-9f8ea2764a4f\" xlink:actuate=\"onRequest\" xlink:href=\"psysml:61935c6a-e9b2-427b-8e93-9f8ea2764a4f\" xlink:show=\"new\" xlink:title=\"psysml:61935c6a-e9b2-427b-8e93-9f8ea2764a4f\" xlink:type=\"simple\"><rect fill=\"#FFFFFF\" height=\"66.7422\" id=\"E4\" style=\"stroke: #383838; stroke-width: 1.5;\" width=\"121\" x=\"275.5\" y=\"828\"/><text fill=\"#000000\" font-family=\"sans-serif\" font-size=\"12\" font-style=\"italic\" lengthAdjust=\"spacingAndGlyphs\" textLength=\"119\" x=\"276.5\" y=\"844.1387\">«requirement  def»</text><text fill=\"#000000\" font-family=\"sans-serif\" font-size=\"12\" lengthAdjust=\"spacingAndGlyphs\" textLength=\"107\" x=\"282.5\" y=\"858.1074\">AnalysisObjective</text><line style=\"stroke: #383838; stroke-width: 1.5;\" x1=\"276.5\" x2=\"395.5\" y1=\"865.9375\" y2=\"865.9375\"/><text fill=\"#000000\" font-family=\"sans-serif\" font-size=\"11\" lengthAdjust=\"spacingAndGlyphs\" textLength=\"12\" x=\"281.5\" y=\"880.1479\">...</text><line style=\"stroke: #383838; stroke-width: 1.0;\" x1=\"276.5\" x2=\"395.5\" y1=\"886.7422\" y2=\"886.7422\"/></a><!--MD5=[270fce915f116d4de14055a7c1d9a0f3]\n",
       "class E5--><a href=\"psysml:5016a817-b8b6-43b2-a1c9-71130e2545c5\" target=\"_top\" title=\"psysml:5016a817-b8b6-43b2-a1c9-71130e2545c5\" xlink:actuate=\"onRequest\" xlink:href=\"psysml:5016a817-b8b6-43b2-a1c9-71130e2545c5\" xlink:show=\"new\" xlink:title=\"psysml:5016a817-b8b6-43b2-a1c9-71130e2545c5\" xlink:type=\"simple\"><rect fill=\"#FFFFFF\" height=\"75.5469\" id=\"E5\" style=\"stroke: #383838; stroke-width: 1.5;\" width=\"136\" x=\"275\" y=\"538\"/><text fill=\"#000000\" font-family=\"sans-serif\" font-size=\"12\" font-style=\"italic\" lengthAdjust=\"spacingAndGlyphs\" textLength=\"88\" x=\"299\" y=\"554.1387\">«analysis def»</text><text fill=\"#000000\" font-family=\"sans-serif\" font-size=\"12\" lengthAdjust=\"spacingAndGlyphs\" textLength=\"81\" x=\"302.5\" y=\"568.1074\">AnalysisCase</text><line style=\"stroke: #383838; stroke-width: 1.5;\" x1=\"276\" x2=\"410\" y1=\"575.9375\" y2=\"575.9375\"/><text fill=\"#000000\" font-family=\"sans-serif\" font-size=\"11\" lengthAdjust=\"spacingAndGlyphs\" textLength=\"43\" x=\"281\" y=\"606.9526\">{ v.m }</text><line style=\"stroke: #383838; stroke-width: 1.0;\" x1=\"276\" x2=\"279\" y1=\"590.3398\" y2=\"590.3398\"/><text fill=\"#000000\" font-family=\"sans-serif\" font-size=\"11\" lengthAdjust=\"spacingAndGlyphs\" textLength=\"128\" x=\"279\" y=\"593.6479\">path step expressions</text><line style=\"stroke: #383838; stroke-width: 1.0;\" x1=\"407\" x2=\"410\" y1=\"590.3398\" y2=\"590.3398\"/></a><!--MD5=[60a26617385b1d2d0262a64233df1f8d]\n",
       "class E6--><a href=\"psysml:8ed6d9d8-007f-466a-ada9-4e78a60ebf86\" target=\"_top\" title=\"psysml:8ed6d9d8-007f-466a-ada9-4e78a60ebf86\" xlink:actuate=\"onRequest\" xlink:href=\"psysml:8ed6d9d8-007f-466a-ada9-4e78a60ebf86\" xlink:show=\"new\" xlink:title=\"psysml:8ed6d9d8-007f-466a-ada9-4e78a60ebf86\" xlink:type=\"simple\"><rect fill=\"#FFFFFF\" height=\"45.9375\" id=\"E6\" rx=\"10\" ry=\"10\" style=\"stroke: #383838; stroke-width: 1.5;\" width=\"144\" x=\"264\" y=\"706\"/><text fill=\"#000000\" font-family=\"sans-serif\" font-size=\"12\" font-style=\"italic\" lengthAdjust=\"spacingAndGlyphs\" textLength=\"91\" x=\"290.5\" y=\"722.1387\">«requirement»</text><text fill=\"#000000\" font-family=\"sans-serif\" font-size=\"12\" lengthAdjust=\"spacingAndGlyphs\" textLength=\"134\" x=\"267\" y=\"736.1074\">obj: AnalysisObjective</text><line style=\"stroke: #383838; stroke-width: 1.5;\" x1=\"265\" x2=\"407\" y1=\"743.9375\" y2=\"743.9375\"/></a><!--MD5=[2156ba9850f5573cc1fc38a6a4b2f02b]\n",
       "class E7--><a href=\"psysml:0d28215e-abd0-4258-9ce4-d7487f47f154\" target=\"_top\" title=\"psysml:0d28215e-abd0-4258-9ce4-d7487f47f154\" xlink:actuate=\"onRequest\" xlink:href=\"psysml:0d28215e-abd0-4258-9ce4-d7487f47f154\" xlink:show=\"new\" xlink:title=\"psysml:0d28215e-abd0-4258-9ce4-d7487f47f154\" xlink:type=\"simple\"><rect fill=\"#FFFFFF\" height=\"45.9375\" id=\"E7\" style=\"stroke: #383838; stroke-width: 1.5;\" width=\"90\" x=\"104\" y=\"271\"/><text fill=\"#000000\" font-family=\"sans-serif\" font-size=\"12\" font-style=\"italic\" lengthAdjust=\"spacingAndGlyphs\" textLength=\"88\" x=\"105\" y=\"287.1387\">«analysis def»</text><text fill=\"#000000\" font-family=\"sans-serif\" font-size=\"12\" lengthAdjust=\"spacingAndGlyphs\" textLength=\"77\" x=\"110.5\" y=\"301.1074\">AnalysisPlan</text><line style=\"stroke: #383838; stroke-width: 1.5;\" x1=\"105\" x2=\"193\" y1=\"308.9375\" y2=\"308.9375\"/></a><!--MD5=[b9389687b975829384b498ac4b7476b2]\n",
       "class E8--><a href=\"psysml:317ace64-a3b7-4095-b75a-9c551641bbd2\" target=\"_top\" title=\"psysml:317ace64-a3b7-4095-b75a-9c551641bbd2\" xlink:actuate=\"onRequest\" xlink:href=\"psysml:317ace64-a3b7-4095-b75a-9c551641bbd2\" xlink:show=\"new\" xlink:title=\"psysml:317ace64-a3b7-4095-b75a-9c551641bbd2\" xlink:type=\"simple\"><rect fill=\"#FFFFFF\" height=\"66.7422\" id=\"E8\" rx=\"10\" ry=\"10\" style=\"stroke: #383838; stroke-width: 1.5;\" width=\"93\" x=\"102.5\" y=\"394\"/><text fill=\"#000000\" font-family=\"sans-serif\" font-size=\"12\" font-style=\"italic\" lengthAdjust=\"spacingAndGlyphs\" textLength=\"91\" x=\"103.5\" y=\"410.1387\">«requirement»</text><text fill=\"#000000\" font-family=\"sans-serif\" font-size=\"12\" lengthAdjust=\"spacingAndGlyphs\" textLength=\"19\" x=\"137.5\" y=\"424.1074\">obj</text><line style=\"stroke: #383838; stroke-width: 1.5;\" x1=\"103.5\" x2=\"194.5\" y1=\"431.9375\" y2=\"431.9375\"/><text fill=\"#000000\" font-family=\"sans-serif\" font-size=\"11\" lengthAdjust=\"spacingAndGlyphs\" textLength=\"12\" x=\"108.5\" y=\"446.1479\">...</text><line style=\"stroke: #383838; stroke-width: 1.0;\" x1=\"103.5\" x2=\"194.5\" y1=\"452.7422\" y2=\"452.7422\"/></a><!--MD5=[fd4143e9d270a159db93a4ea2a975926]\n",
       "class E9--><a href=\"psysml:0f757ff2-27a2-40d5-a25f-af43358ff77a\" target=\"_top\" title=\"psysml:0f757ff2-27a2-40d5-a25f-af43358ff77a\" xlink:actuate=\"onRequest\" xlink:href=\"psysml:0f757ff2-27a2-40d5-a25f-af43358ff77a\" xlink:show=\"new\" xlink:title=\"psysml:0f757ff2-27a2-40d5-a25f-af43358ff77a\" xlink:type=\"simple\"><rect fill=\"#FFFFFF\" height=\"45.9375\" id=\"E9\" rx=\"10\" ry=\"10\" style=\"stroke: #383838; stroke-width: 1.5;\" width=\"180\" x=\"231\" y=\"404.5\"/><text fill=\"#000000\" font-family=\"sans-serif\" font-size=\"12\" font-style=\"italic\" lengthAdjust=\"spacingAndGlyphs\" textLength=\"64\" x=\"289\" y=\"420.6387\">«analysis»</text><text fill=\"#000000\" font-family=\"sans-serif\" font-size=\"12\" lengthAdjust=\"spacingAndGlyphs\" textLength=\"170\" x=\"234\" y=\"434.6074\">analysisCase: AnalysisCase</text><line style=\"stroke: #383838; stroke-width: 1.5;\" x1=\"232\" x2=\"410\" y1=\"442.4375\" y2=\"442.4375\"/></a><!--MD5=[96f4274e9e20536e775497830990834d]\n",
       "class E10--><a href=\"psysml:756c2ee8-950e-4679-a51a-3cb75b1efb3e\" target=\"_top\" title=\"psysml:756c2ee8-950e-4679-a51a-3cb75b1efb3e\" xlink:actuate=\"onRequest\" xlink:href=\"psysml:756c2ee8-950e-4679-a51a-3cb75b1efb3e\" xlink:show=\"new\" xlink:title=\"psysml:756c2ee8-950e-4679-a51a-3cb75b1efb3e\" xlink:type=\"simple\"><rect fill=\"#FFFFFF\" height=\"45.9375\" id=\"E10\" rx=\"10\" ry=\"10\" style=\"stroke: #383838; stroke-width: 1.5;\" width=\"93\" x=\"69.5\" y=\"553\"/><text fill=\"#000000\" font-family=\"sans-serif\" font-size=\"12\" font-style=\"italic\" lengthAdjust=\"spacingAndGlyphs\" textLength=\"91\" x=\"70.5\" y=\"569.1387\">«requirement»</text><text fill=\"#000000\" font-family=\"sans-serif\" font-size=\"12\" lengthAdjust=\"spacingAndGlyphs\" textLength=\"19\" x=\"104.5\" y=\"583.1074\">obj</text><line style=\"stroke: #383838; stroke-width: 1.5;\" x1=\"70.5\" x2=\"161.5\" y1=\"590.9375\" y2=\"590.9375\"/></a><!--MD5=[1dd1bfd58a279cf63c5f349dbc8fc6a1]\n",
       "class E11--><a href=\"psysml:b24749b9-9e77-4740-bd21-7fc3830bb957\" target=\"_top\" title=\"psysml:b24749b9-9e77-4740-bd21-7fc3830bb957\" xlink:actuate=\"onRequest\" xlink:href=\"psysml:b24749b9-9e77-4740-bd21-7fc3830bb957\" xlink:show=\"new\" xlink:title=\"psysml:b24749b9-9e77-4740-bd21-7fc3830bb957\" xlink:type=\"simple\"><rect fill=\"#FFFFFF\" height=\"45.9375\" id=\"E11\" rx=\"10\" ry=\"10\" style=\"stroke: #383838; stroke-width: 1.5;\" width=\"108\" x=\"158\" y=\"41\"/><text fill=\"#000000\" font-family=\"sans-serif\" font-size=\"12\" font-style=\"italic\" lengthAdjust=\"spacingAndGlyphs\" textLength=\"40\" x=\"192\" y=\"57.1387\">«part»</text><text fill=\"#000000\" font-family=\"sans-serif\" font-size=\"12\" lengthAdjust=\"spacingAndGlyphs\" textLength=\"98\" x=\"161\" y=\"71.1074\">analysisContext</text><line style=\"stroke: #383838; stroke-width: 1.5;\" x1=\"159\" x2=\"265\" y1=\"78.9375\" y2=\"78.9375\"/></a><!--MD5=[49a0ec8f00dab7302a31f22d0f0fe584]\n",
       "class E12--><a href=\"psysml:9d8d7d87-8dd4-470f-9d18-cffbc3763f0c\" target=\"_top\" title=\"psysml:9d8d7d87-8dd4-470f-9d18-cffbc3763f0c\" xlink:actuate=\"onRequest\" xlink:href=\"psysml:9d8d7d87-8dd4-470f-9d18-cffbc3763f0c\" xlink:show=\"new\" xlink:title=\"psysml:9d8d7d87-8dd4-470f-9d18-cffbc3763f0c\" xlink:type=\"simple\"><rect fill=\"#FFFFFF\" height=\"45.9375\" id=\"E12\" rx=\"10\" ry=\"10\" style=\"stroke: #383838; stroke-width: 1.5;\" width=\"172\" x=\"126\" y=\"148\"/><text fill=\"#000000\" font-family=\"sans-serif\" font-size=\"12\" font-style=\"italic\" lengthAdjust=\"spacingAndGlyphs\" textLength=\"64\" x=\"180\" y=\"164.1387\">«analysis»</text><text fill=\"#000000\" font-family=\"sans-serif\" font-size=\"12\" lengthAdjust=\"spacingAndGlyphs\" textLength=\"162\" x=\"129\" y=\"178.1074\">analysisPlan: AnalysisPlan</text><line style=\"stroke: #383838; stroke-width: 1.5;\" x1=\"127\" x2=\"297\" y1=\"185.9375\" y2=\"185.9375\"/></a><!--MD5=[ee3c913d1a06f366521f9ef512b67efe]\n",
       "class E13--><a href=\"psysml:215563a4-4360-48d3-80f1-175339b6797a\" target=\"_top\" title=\"psysml:215563a4-4360-48d3-80f1-175339b6797a\" xlink:actuate=\"onRequest\" xlink:href=\"psysml:215563a4-4360-48d3-80f1-175339b6797a\" xlink:show=\"new\" xlink:title=\"psysml:215563a4-4360-48d3-80f1-175339b6797a\" xlink:type=\"simple\"><rect fill=\"#FFFFFF\" height=\"45.9375\" id=\"E13\" rx=\"10\" ry=\"10\" style=\"stroke: #383838; stroke-width: 1.5;\" width=\"93\" x=\"229.5\" y=\"271\"/><text fill=\"#000000\" font-family=\"sans-serif\" font-size=\"12\" font-style=\"italic\" lengthAdjust=\"spacingAndGlyphs\" textLength=\"91\" x=\"230.5\" y=\"287.1387\">«requirement»</text><text fill=\"#000000\" font-family=\"sans-serif\" font-size=\"12\" lengthAdjust=\"spacingAndGlyphs\" textLength=\"19\" x=\"264.5\" y=\"301.1074\">obj</text><line style=\"stroke: #383838; stroke-width: 1.5;\" x1=\"230.5\" x2=\"321.5\" y1=\"308.9375\" y2=\"308.9375\"/></a><!--MD5=[05d275557350bfb9b23a4ef7222b4c39]\n",
       "link E3 to E2--><a href=\"psysml:f45a4065-dcd9-4d0e-be10-466e9a1a32d6\" target=\"_top\" title=\"psysml:f45a4065-dcd9-4d0e-be10-466e9a1a32d6\" xlink:actuate=\"onRequest\" xlink:href=\"psysml:f45a4065-dcd9-4d0e-be10-466e9a1a32d6\" xlink:show=\"new\" xlink:title=\"psysml:f45a4065-dcd9-4d0e-be10-466e9a1a32d6\" xlink:type=\"simple\"><path d=\"M211.34,599.31 C204.65,618.8 196,644 196,644 C196,644 195.3,655.8 194.42,670.56 \" fill=\"none\" id=\"E3-&gt;E2\" style=\"stroke: #383838; stroke-width: 1.0;\"/><polygon fill=\"#FFFFFF\" points=\"193.21,690.91,187.3492,671.5283,201.3245,672.3586,193.21,690.91\" style=\"stroke: #383838; stroke-width: 1.0;\"/><ellipse cx=\"189.6837\" cy=\"665.9569\" fill=\"#383838\" rx=\"2\" ry=\"2\" style=\"stroke: #383838; stroke-width: 1.0;\"/><ellipse cx=\"199.6661\" cy=\"666.55\" fill=\"#383838\" rx=\"2\" ry=\"2\" style=\"stroke: #383838; stroke-width: 1.0;\"/></a><!--MD5=[15ebcb19ae302d9b601edb458606d402]\n",
       "link E5 to E2--><a href=\"psysml:4ce798b4-e7f7-45ac-94f6-a9dc23ec95c2\" target=\"_top\" title=\"psysml:4ce798b4-e7f7-45ac-94f6-a9dc23ec95c2\" xlink:actuate=\"onRequest\" xlink:href=\"psysml:4ce798b4-e7f7-45ac-94f6-a9dc23ec95c2\" xlink:show=\"new\" xlink:title=\"psysml:4ce798b4-e7f7-45ac-94f6-a9dc23ec95c2\" xlink:type=\"simple\"><path d=\"M301,614.03 C283.42,629.52 267,644 267,644 C267,644 247.43,665.63 228.15,686.94 \" fill=\"none\" id=\"E5-&gt;E2\" style=\"stroke: #383838; stroke-width: 1.0; stroke-dasharray: 7.0,7.0;\"/><polygon fill=\"#383838\" points=\"224.56,690.91,233.5624,686.9153,227.9127,687.2006,227.6274,681.551,224.56,690.91\" style=\"stroke: #383838; stroke-width: 1.0;\"/><text fill=\"#000000\" font-family=\"sans-serif\" font-size=\"13\" lengthAdjust=\"spacingAndGlyphs\" textLength=\"62\" x=\"268\" y=\"657.0669\">«subject»</text></a><!--MD5=[9120cf2e5df3bff93db8f754bbbc09b4]\n",
       "link E5 to E6--><a href=\"psysml:b91cd128-722a-4ae9-a5d3-51e53a9e38d7\" target=\"_top\" title=\"psysml:b91cd128-722a-4ae9-a5d3-51e53a9e38d7\" xlink:actuate=\"onRequest\" xlink:href=\"psysml:b91cd128-722a-4ae9-a5d3-51e53a9e38d7\" xlink:show=\"new\" xlink:title=\"psysml:b91cd128-722a-4ae9-a5d3-51e53a9e38d7\" xlink:type=\"simple\"><path d=\"M341.27,614.33 C340.08,639.95 338.52,673.54 337.41,697.54 \" fill=\"none\" id=\"E5-&gt;E6\" style=\"stroke: #383838; stroke-width: 1.0;\"/><polygon fill=\"#383838\" points=\"337.04,705.61,340.4078,697.7577,334.4143,697.4795,337.04,705.61\" style=\"stroke: #383838; stroke-width: 1.0;\"/><text fill=\"#000000\" font-family=\"sans-serif\" font-size=\"13\" lengthAdjust=\"spacingAndGlyphs\" textLength=\"73\" x=\"340\" y=\"657.0669\">«objective»</text></a><!--MD5=[f667431f98296947986a1a7595a31603]\n",
       "link E6 to E4--><a href=\"psysml:b2f535bd-3827-4daf-a953-8c36dc8e5a05\" target=\"_top\" title=\"psysml:b2f535bd-3827-4daf-a953-8c36dc8e5a05\" xlink:actuate=\"onRequest\" xlink:href=\"psysml:b2f535bd-3827-4daf-a953-8c36dc8e5a05\" xlink:show=\"new\" xlink:title=\"psysml:b2f535bd-3827-4daf-a953-8c36dc8e5a05\" xlink:type=\"simple\"><path d=\"M336,752.14 C336,767.41 336,788.39 336,807.82 \" fill=\"none\" id=\"E6-&gt;E4\" style=\"stroke: #383838; stroke-width: 1.0;\"/><polygon fill=\"#FFFFFF\" points=\"336,827.96,329,808.96,343,808.96,336,827.96\" style=\"stroke: #383838; stroke-width: 1.0;\"/><ellipse cx=\"331\" cy=\"803.26\" fill=\"#383838\" rx=\"2\" ry=\"2\" style=\"stroke: #383838; stroke-width: 1.0;\"/><ellipse cx=\"341\" cy=\"803.26\" fill=\"#383838\" rx=\"2\" ry=\"2\" style=\"stroke: #383838; stroke-width: 1.0;\"/></a><!--MD5=[583832df87f4419a098336a29a52fa00]\n",
       "link E7 to E2--><a href=\"psysml:38ee38e5-fe2f-49e8-a238-8ef961814591\" target=\"_top\" title=\"psysml:38ee38e5-fe2f-49e8-a238-8ef961814591\" xlink:actuate=\"onRequest\" xlink:href=\"psysml:38ee38e5-fe2f-49e8-a238-8ef961814591\" xlink:show=\"new\" xlink:title=\"psysml:38ee38e5-fe2f-49e8-a238-8ef961814591\" xlink:type=\"simple\"><path d=\"M134.48,317.46 C115.59,346.67 85,394 85,394 C85,394 52,538 52,538 C52,538 52,614 52,614 C52,614 110.89,662.3 152,696.02 \" fill=\"none\" id=\"E7-&gt;E2\" style=\"stroke: #383838; stroke-width: 1.0; stroke-dasharray: 7.0,7.0;\"/><polygon fill=\"#383838\" points=\"155.92,699.23,151.4926,690.4324,152.0521,696.0615,146.423,696.621,155.92,699.23\" style=\"stroke: #383838; stroke-width: 1.0;\"/><text fill=\"#000000\" font-family=\"sans-serif\" font-size=\"13\" lengthAdjust=\"spacingAndGlyphs\" textLength=\"62\" x=\"63\" y=\"504.0669\">«subject»</text></a><!--MD5=[79bc8f324ef4d02c541433f2e6e513c3]\n",
       "link E7 to E8--><a href=\"psysml:17344d0c-3816-44f9-9c17-e4b7438070db\" target=\"_top\" title=\"psysml:17344d0c-3816-44f9-9c17-e4b7438070db\" xlink:actuate=\"onRequest\" xlink:href=\"psysml:17344d0c-3816-44f9-9c17-e4b7438070db\" xlink:show=\"new\" xlink:title=\"psysml:17344d0c-3816-44f9-9c17-e4b7438070db\" xlink:type=\"simple\"><path d=\"M149,317.01 C149,335.7 149,363.02 149,385.69 \" fill=\"none\" id=\"E7-&gt;E8\" style=\"stroke: #383838; stroke-width: 1.0;\"/><polygon fill=\"#383838\" points=\"149,393.81,152,385.81,146,385.81,149,393.81\" style=\"stroke: #383838; stroke-width: 1.0;\"/><text fill=\"#000000\" font-family=\"sans-serif\" font-size=\"13\" lengthAdjust=\"spacingAndGlyphs\" textLength=\"73\" x=\"150\" y=\"360.0669\">«objective»</text><text fill=\"#000000\" font-family=\"sans-serif\" font-size=\"13\" lengthAdjust=\"spacingAndGlyphs\" textLength=\"7\" x=\"141.3109\" y=\"382.8061\">*</text></a><!--MD5=[e4a10ef82d0e328e31cac39a31e58dda]\n",
       "reverse link E7 to E9--><a href=\"psysml:270a9b55-e8f2-46f5-9c02-ba45f5a1be19\" target=\"_top\" title=\"psysml:270a9b55-e8f2-46f5-9c02-ba45f5a1be19\" xlink:actuate=\"onRequest\" xlink:href=\"psysml:270a9b55-e8f2-46f5-9c02-ba45f5a1be19\" xlink:show=\"new\" xlink:title=\"psysml:270a9b55-e8f2-46f5-9c02-ba45f5a1be19\" xlink:type=\"simple\"><path d=\"M195.42,324.08 C214.41,335.98 232,347 232,347 C232,347 269.87,380.83 296.21,404.35 \" fill=\"none\" id=\"E7&lt;-E9\" style=\"stroke: #383838; stroke-width: 1.0;\"/><polygon fill=\"#383838\" points=\"184.2,317.05,187.1611,323.6251,194.3693,323.4207,191.4082,316.8456,184.2,317.05\" style=\"stroke: #383838; stroke-width: 1.0;\"/></a><!--MD5=[bfc3ddf2e613be37104f658f09af896c]\n",
       "link E9 to E5--><a href=\"psysml:cf5e8ef0-758f-412b-8419-a299a9750eac\" target=\"_top\" title=\"psysml:cf5e8ef0-758f-412b-8419-a299a9750eac\" xlink:actuate=\"onRequest\" xlink:href=\"psysml:cf5e8ef0-758f-412b-8419-a299a9750eac\" xlink:show=\"new\" xlink:title=\"psysml:cf5e8ef0-758f-412b-8419-a299a9750eac\" xlink:type=\"simple\"><path d=\"M324.34,450.75 C327.03,468.64 330.93,494.59 334.46,518.16 \" fill=\"none\" id=\"E9-&gt;E5\" style=\"stroke: #383838; stroke-width: 1.0;\"/><polygon fill=\"#FFFFFF\" points=\"337.44,537.99,327.694,520.2413,341.5385,518.1607,337.44,537.99\" style=\"stroke: #383838; stroke-width: 1.0;\"/><ellipse cx=\"328.8246\" cy=\"514.3074\" fill=\"#383838\" rx=\"2\" ry=\"2\" style=\"stroke: #383838; stroke-width: 1.0;\"/><ellipse cx=\"338.7136\" cy=\"512.8212\" fill=\"#383838\" rx=\"2\" ry=\"2\" style=\"stroke: #383838; stroke-width: 1.0;\"/></a><!--MD5=[35e5f1cbde42fa304a029880aa2bc7f2]\n",
       "link E9 to E10--><a href=\"psysml:03a60127-fd3f-4561-ae6d-a87475bfdaf0\" target=\"_top\" title=\"psysml:03a60127-fd3f-4561-ae6d-a87475bfdaf0\" xlink:actuate=\"onRequest\" xlink:href=\"psysml:03a60127-fd3f-4561-ae6d-a87475bfdaf0\" xlink:show=\"new\" xlink:title=\"psysml:03a60127-fd3f-4561-ae6d-a87475bfdaf0\" xlink:type=\"simple\"><path d=\"M289.86,450.75 C253.34,476.86 192.8,520.12 153.66,548.09 \" fill=\"none\" id=\"E9-&gt;E10\" style=\"stroke: #383838; stroke-width: 1.0;\"/><polygon fill=\"#383838\" points=\"147.09,552.78,155.3427,550.5679,151.8532,545.6869,147.09,552.78\" style=\"stroke: #383838; stroke-width: 1.0;\"/><text fill=\"#000000\" font-family=\"sans-serif\" font-size=\"13\" lengthAdjust=\"spacingAndGlyphs\" textLength=\"73\" x=\"231\" y=\"504.0669\">«objective»</text><text fill=\"#000000\" font-family=\"sans-serif\" font-size=\"13\" lengthAdjust=\"spacingAndGlyphs\" textLength=\"7\" x=\"147.1599\" y=\"541.9999\">*</text></a><!--MD5=[94adabc162ce7e41b39f13be14fbaeb3]\n",
       "reverse link E11 to E12--><a href=\"psysml:7df3fd9f-252d-4e83-afe5-15252f6bd5d9\" target=\"_top\" title=\"psysml:7df3fd9f-252d-4e83-afe5-15252f6bd5d9\" xlink:actuate=\"onRequest\" xlink:href=\"psysml:7df3fd9f-252d-4e83-afe5-15252f6bd5d9\" xlink:show=\"new\" xlink:title=\"psysml:7df3fd9f-252d-4e83-afe5-15252f6bd5d9\" xlink:type=\"simple\"><path d=\"M212,100.05 C212,115.76 212,133.82 212,147.66 \" fill=\"none\" id=\"E11&lt;-E12\" style=\"stroke: #383838; stroke-width: 1.0;\"/><polygon fill=\"#383838\" points=\"212,87.01,208,93.01,212,99.01,216,93.01,212,87.01\" style=\"stroke: #383838; stroke-width: 1.0;\"/></a><!--MD5=[ae660f5ecd7ddb04a8913625960940af]\n",
       "link E12 to E7--><a href=\"psysml:4172c94c-9fb8-4464-b137-e530fc31134b\" target=\"_top\" title=\"psysml:4172c94c-9fb8-4464-b137-e530fc31134b\" xlink:actuate=\"onRequest\" xlink:href=\"psysml:4172c94c-9fb8-4464-b137-e530fc31134b\" xlink:show=\"new\" xlink:title=\"psysml:4172c94c-9fb8-4464-b137-e530fc31134b\" xlink:type=\"simple\"><path d=\"M200.44,194.19 C191.88,210.65 179.96,233.54 169.75,253.14 \" fill=\"none\" id=\"E12-&gt;E7\" style=\"stroke: #383838; stroke-width: 1.0;\"/><polygon fill=\"#FFFFFF\" points=\"160.48,270.95,163.0372,250.8637,175.4576,257.3239,160.48,270.95\" style=\"stroke: #383838; stroke-width: 1.0;\"/><ellipse cx=\"167.4418\" cy=\"246.7297\" fill=\"#383838\" rx=\"2\" ry=\"2\" style=\"stroke: #383838; stroke-width: 1.0;\"/><ellipse cx=\"176.3135\" cy=\"251.3441\" fill=\"#383838\" rx=\"2\" ry=\"2\" style=\"stroke: #383838; stroke-width: 1.0;\"/></a><!--MD5=[e2a9ac97dcd3257bb5342dae06547bad]\n",
       "link E12 to E13--><a href=\"psysml:aee64b6c-bc56-4d82-a56f-3ba6edf4c149\" target=\"_top\" title=\"psysml:aee64b6c-bc56-4d82-a56f-3ba6edf4c149\" xlink:actuate=\"onRequest\" xlink:href=\"psysml:aee64b6c-bc56-4d82-a56f-3ba6edf4c149\" xlink:show=\"new\" xlink:title=\"psysml:aee64b6c-bc56-4d82-a56f-3ba6edf4c149\" xlink:type=\"simple\"><path d=\"M223.74,194.19 C234.07,213.72 249.18,242.3 260.5,263.7 \" fill=\"none\" id=\"E12-&gt;E13\" style=\"stroke: #383838; stroke-width: 1.0;\"/><polygon fill=\"#383838\" points=\"264.34,270.95,263.2624,262.4742,257.955,265.2727,264.34,270.95\" style=\"stroke: #383838; stroke-width: 1.0;\"/><text fill=\"#000000\" font-family=\"sans-serif\" font-size=\"13\" lengthAdjust=\"spacingAndGlyphs\" textLength=\"73\" x=\"248\" y=\"237.0669\">«objective»</text><text fill=\"#000000\" font-family=\"sans-serif\" font-size=\"13\" lengthAdjust=\"spacingAndGlyphs\" textLength=\"7\" x=\"253.2657\" y=\"259.8328\">*</text></a><!--MD5=[6c6f72e12741a22313929193dc99dbd6]\n",
       "@startuml\r\n",
       "skinparam linetype polyline\r\n",
       "skinparam monochrome true\r\n",
       "skinparam classbackgroundcolor white\r\n",
       "skinparam shadowing false\r\n",
       "skinparam wrapWidth 300\r\n",
       "hide circle\r\n",
       "\r\n",
       "package \"AnalysisTest\" as E1  [[psysml:e1dfe890-ec15-4931-b288-05d8c66f0e23 ]]  {\r\n",
       "comp def \"V\" as E2  <<(T,blue) part  def>> [[psysml:e8de7c06-a552-45cc-9ef9-bdca622a4dc8 ]] {\r\n",
       "- - references - -\r\n",
       "m\r\n",
       "}\r\n",
       "comp usage \"vv: V \" as E3  <<(T,blue) part>> [[psysml:e405eddc-d04c-43ee-94c7-f68d6bd4037b ]] {\r\n",
       "}\r\n",
       "comp def \"AnalysisObjective\" as E4  <<(T,blue) requirement  def>> [[psysml:61935c6a-e9b2-427b-8e93-9f8ea2764a4f ]] {\r\n",
       "...\r\n",
       "- -\r\n",
       "}\r\n",
       "comp def \"AnalysisCase\" as E5 << analysis def>> [[psysml:5016a817-b8b6-43b2-a1c9-71130e2545c5 ]] {\r\n",
       "- - path step expressions - -\r\n",
       " { v.m }\r\n",
       "}\r\n",
       "comp usage \"obj: AnalysisObjective \" as E6  <<(T,blue) requirement>> [[psysml:8ed6d9d8-007f-466a-ada9-4e78a60ebf86 ]] {\r\n",
       "}\r\n",
       "comp def \"AnalysisPlan\" as E7 << analysis def>> [[psysml:0d28215e-abd0-4258-9ce4-d7487f47f154 ]] {\r\n",
       "}\r\n",
       "comp usage \"obj \" as E8  <<(T,blue) requirement>> [[psysml:317ace64-a3b7-4095-b75a-9c551641bbd2 ]] {\r\n",
       "...\r\n",
       "- -\r\n",
       "}\r\n",
       "comp usage \"analysisCase: AnalysisCase \" as E9 << analysis>> [[psysml:0f757ff2-27a2-40d5-a25f-af43358ff77a ]] {\r\n",
       "}\r\n",
       "comp usage \"obj \" as E10  <<(T,blue) requirement>> [[psysml:756c2ee8-950e-4679-a51a-3cb75b1efb3e ]] {\r\n",
       "}\r\n",
       "comp usage \"analysisContext \" as E11  <<(T,blue) part>> [[psysml:b24749b9-9e77-4740-bd21-7fc3830bb957 ]] {\r\n",
       "}\r\n",
       "comp usage \"analysisPlan: AnalysisPlan \" as E12 << analysis>> [[psysml:9d8d7d87-8dd4-470f-9d18-cffbc3763f0c ]] {\r\n",
       "}\r\n",
       "comp usage \"obj \" as E13  <<(T,blue) requirement>> [[psysml:215563a4-4360-48d3-80f1-175339b6797a ]] {\r\n",
       "}\r\n",
       "}\r\n",
       "E3 - -:|> E2 [[psysml:f45a4065-dcd9-4d0e-be10-466e9a1a32d6 ]] \r\n",
       "E5 ..> E2 [[psysml:4ce798b4-e7f7-45ac-94f6-a9dc23ec95c2 ]] : <<subject>>\r\n",
       "E5 - ->> E6 [[psysml:b91cd128-722a-4ae9-a5d3-51e53a9e38d7 ]] : <<objective>>\r\n",
       "E6 - -:|> E4 [[psysml:b2f535bd-3827-4daf-a953-8c36dc8e5a05 ]] \r\n",
       "E7 ..> E2 [[psysml:38ee38e5-fe2f-49e8-a238-8ef961814591 ]] : <<subject>>\r\n",
       "E7 - ->> \"*\"E8 [[psysml:17344d0c-3816-44f9-9c17-e4b7438070db ]] : <<objective>>\r\n",
       "E7 *- - E9 [[psysml:270a9b55-e8f2-46f5-9c02-ba45f5a1be19 ]] \r\n",
       "E9 - -:|> E5 [[psysml:cf5e8ef0-758f-412b-8419-a299a9750eac ]] \r\n",
       "E9 - ->> \"*\"E10 [[psysml:03a60127-fd3f-4561-ae6d-a87475bfdaf0 ]] : <<objective>>\r\n",
       "E11 *- - E12 [[psysml:7df3fd9f-252d-4e83-afe5-15252f6bd5d9 ]] \r\n",
       "E12 - -:|> E7 [[psysml:4172c94c-9fb8-4464-b137-e530fc31134b ]] \r\n",
       "E12 - ->> \"*\"E13 [[psysml:aee64b6c-bc56-4d82-a56f-3ba6edf4c149 ]] : <<objective>>\r\n",
       "@enduml\r\n",
       "\n",
       "PlantUML version 1.2020.13(Sat Jun 13 12:26:38 UTC 2020)\n",
       "(EPL source distribution)\n",
       "Java Runtime: OpenJDK Runtime Environment\n",
       "JVM: OpenJDK 64-Bit Server VM\n",
       "Default Encoding: UTF-8\n",
       "Language: en\n",
       "Country: null\n",
       "--></g></svg>"
      ]
     },
     "execution_count": 10,
     "metadata": {},
     "output_type": "execute_result"
    }
   ],
   "source": [
    "%viz --style=\"POLYLINE\" --view=\"Tree\" \"AnalysisTest\""
   ]
  },
  {
   "cell_type": "code",
   "execution_count": 11,
   "id": "b85c9eb6",
   "metadata": {
    "execution": {
     "iopub.execute_input": "2022-02-05T16:52:01.297842Z",
     "iopub.status.busy": "2022-02-05T16:52:01.297422Z",
     "iopub.status.idle": "2022-02-05T16:52:01.301751Z",
     "shell.execute_reply": "2022-02-05T16:52:01.302084Z"
    }
   },
   "outputs": [
    {
     "data": {
      "image/svg+xml": [
       "<?xml version=\"1.0\" encoding=\"UTF-8\" standalone=\"no\"?><svg xmlns=\"http://www.w3.org/2000/svg\" xmlns:xlink=\"http://www.w3.org/1999/xlink\" contentScriptType=\"application/ecmascript\" contentStyleType=\"text/css\" height=\"12px\" preserveAspectRatio=\"none\" style=\"width:12px;height:12px;\" version=\"1.1\" viewBox=\"0 0 12 12\" width=\"12px\" zoomAndPan=\"magnify\"><defs/><g><!--MD5=[896ac0e7a515d8dd7765a661cb4ee08b]\n",
       "@startuml\r\n",
       "skinparam linetype polyline\r\n",
       "skinparam monochrome true\r\n",
       "skinparam classbackgroundcolor white\r\n",
       "skinparam shadowing false\r\n",
       "skinparam wrapWidth 300\r\n",
       "hide circle\r\n",
       "\r\n",
       "@enduml\r\n",
       "\n",
       "PlantUML version 1.2020.13(Sat Jun 13 12:26:38 UTC 2020)\n",
       "(EPL source distribution)\n",
       "Java Runtime: OpenJDK Runtime Environment\n",
       "JVM: OpenJDK 64-Bit Server VM\n",
       "Default Encoding: UTF-8\n",
       "Language: en\n",
       "Country: null\n",
       "--></g></svg>"
      ]
     },
     "execution_count": 11,
     "metadata": {},
     "output_type": "execute_result"
    }
   ],
   "source": [
    "%viz --style=\"POLYLINE\" --view=\"State\" \"AnalysisTest\""
   ]
  },
  {
   "cell_type": "code",
   "execution_count": 12,
   "id": "736a61a2",
   "metadata": {
    "execution": {
     "iopub.execute_input": "2022-02-05T16:52:01.351904Z",
     "iopub.status.busy": "2022-02-05T16:52:01.351484Z",
     "iopub.status.idle": "2022-02-05T16:52:01.407710Z",
     "shell.execute_reply": "2022-02-05T16:52:01.407334Z"
    }
   },
   "outputs": [
    {
     "data": {
      "image/svg+xml": [
       "<?xml version=\"1.0\" encoding=\"UTF-8\" standalone=\"no\"?><svg xmlns=\"http://www.w3.org/2000/svg\" xmlns:xlink=\"http://www.w3.org/1999/xlink\" contentScriptType=\"application/ecmascript\" contentStyleType=\"text/css\" height=\"500px\" preserveAspectRatio=\"none\" style=\"width:425px;height:500px;\" version=\"1.1\" viewBox=\"0 0 425 500\" width=\"425px\" zoomAndPan=\"magnify\"><defs/><g><!--MD5=[fbc87193dbaf4d95561dea2c320d4a47]\n",
       "cluster E1--><a href=\"psysml:e1dfe890-ec15-4931-b288-05d8c66f0e23\" target=\"_top\" title=\"psysml:e1dfe890-ec15-4931-b288-05d8c66f0e23\" xlink:actuate=\"onRequest\" xlink:href=\"psysml:e1dfe890-ec15-4931-b288-05d8c66f0e23\" xlink:show=\"new\" xlink:title=\"psysml:e1dfe890-ec15-4931-b288-05d8c66f0e23\" xlink:type=\"simple\"><polygon fill=\"#FFFFFF\" points=\"16,6,108,6,115,28.2969,403,28.2969,403,488,16,488,16,6\" style=\"stroke: #000000; stroke-width: 1.5;\"/><line style=\"stroke: #000000; stroke-width: 1.5;\" x1=\"16\" x2=\"115\" y1=\"28.2969\" y2=\"28.2969\"/><text fill=\"#000000\" font-family=\"sans-serif\" font-size=\"14\" font-weight=\"bold\" lengthAdjust=\"spacingAndGlyphs\" textLength=\"86\" x=\"20\" y=\"20.9951\">AnalysisTest</text></a><!--MD5=[14e3b0961a2654348d326746436168a1]\n",
       "cluster E6--><a href=\"psysml:0d28215e-abd0-4258-9ce4-d7487f47f154\" target=\"_top\" title=\"psysml:0d28215e-abd0-4258-9ce4-d7487f47f154\" xlink:actuate=\"onRequest\" xlink:href=\"psysml:0d28215e-abd0-4258-9ce4-d7487f47f154\" xlink:show=\"new\" xlink:title=\"psysml:0d28215e-abd0-4258-9ce4-d7487f47f154\" xlink:type=\"simple\"><rect fill=\"#FFFFFF\" height=\"136\" id=\"E6\" style=\"stroke: #383838; stroke-width: 1.5;\" width=\"278\" x=\"93\" y=\"184\"/><rect fill=\"#F8F8F8\" height=\"37.9375\" style=\"stroke: #383838; stroke-width: 1.5;\" width=\"278\" x=\"93\" y=\"184\"/><text fill=\"#000000\" font-family=\"sans-serif\" font-size=\"12\" font-style=\"italic\" lengthAdjust=\"spacingAndGlyphs\" textLength=\"88\" x=\"188\" y=\"200.1387\">«analysis def»</text><text fill=\"#000000\" font-family=\"sans-serif\" font-size=\"12\" lengthAdjust=\"spacingAndGlyphs\" textLength=\"77\" x=\"193.5\" y=\"214.1074\">AnalysisPlan</text></a><!--MD5=[7f149f147074ac12df2cb0a7728a5fb0]\n",
       "cluster E9--><a href=\"psysml:b24749b9-9e77-4740-bd21-7fc3830bb957\" target=\"_top\" title=\"psysml:b24749b9-9e77-4740-bd21-7fc3830bb957\" xlink:actuate=\"onRequest\" xlink:href=\"psysml:b24749b9-9e77-4740-bd21-7fc3830bb957\" xlink:show=\"new\" xlink:title=\"psysml:b24749b9-9e77-4740-bd21-7fc3830bb957\" xlink:type=\"simple\"><rect fill=\"#FFFFFF\" height=\"94\" id=\"E9\" rx=\"10\" ry=\"10\" style=\"stroke: #383838; stroke-width: 1.5;\" width=\"124\" x=\"255\" y=\"49\"/><rect fill=\"#F8F8F8\" height=\"23.9688\" rx=\"10\" ry=\"10\" style=\"stroke: #F8F8F8; stroke-width: 1.5;\" width=\"124\" x=\"255\" y=\"49\"/><rect fill=\"#F8F8F8\" height=\"10\" style=\"stroke: #F8F8F8; stroke-width: 1.5;\" width=\"124\" x=\"255\" y=\"62.9688\"/><rect fill=\"none\" height=\"94\" id=\"E9\" rx=\"10\" ry=\"10\" style=\"stroke: #383838; stroke-width: 1.5;\" width=\"124\" x=\"255\" y=\"49\"/><text fill=\"#000000\" font-family=\"sans-serif\" font-size=\"12\" lengthAdjust=\"spacingAndGlyphs\" textLength=\"98\" x=\"268\" y=\"65.1387\">analysisContext</text><line style=\"stroke: #383838; stroke-width: 1.0;\" x1=\"255\" x2=\"379\" y1=\"72.9688\" y2=\"72.9688\"/></a><!--MD5=[ebbe1d658d1005bcc118a6aa81145e00]\n",
       "class E4--><a href=\"psysml:61935c6a-e9b2-427b-8e93-9f8ea2764a4f\" target=\"_top\" title=\"psysml:61935c6a-e9b2-427b-8e93-9f8ea2764a4f\" xlink:actuate=\"onRequest\" xlink:href=\"psysml:61935c6a-e9b2-427b-8e93-9f8ea2764a4f\" xlink:show=\"new\" xlink:title=\"psysml:61935c6a-e9b2-427b-8e93-9f8ea2764a4f\" xlink:type=\"simple\"><rect fill=\"#FFFFFF\" height=\"66.7422\" id=\"E4\" style=\"stroke: #383838; stroke-width: 1.5;\" width=\"121\" x=\"117.5\" y=\"72\"/><text fill=\"#000000\" font-family=\"sans-serif\" font-size=\"12\" font-style=\"italic\" lengthAdjust=\"spacingAndGlyphs\" textLength=\"119\" x=\"118.5\" y=\"88.1387\">«requirement  def»</text><text fill=\"#000000\" font-family=\"sans-serif\" font-size=\"12\" lengthAdjust=\"spacingAndGlyphs\" textLength=\"107\" x=\"124.5\" y=\"102.1074\">AnalysisObjective</text><line style=\"stroke: #383838; stroke-width: 1.5;\" x1=\"118.5\" x2=\"237.5\" y1=\"109.9375\" y2=\"109.9375\"/><text fill=\"#000000\" font-family=\"sans-serif\" font-size=\"11\" lengthAdjust=\"spacingAndGlyphs\" textLength=\"12\" x=\"123.5\" y=\"124.1479\">...</text><line style=\"stroke: #383838; stroke-width: 1.0;\" x1=\"118.5\" x2=\"237.5\" y1=\"130.7422\" y2=\"130.7422\"/></a><g id=\"E1.E2\"><a href=\"psysml:e8de7c06-a552-45cc-9ef9-bdca622a4dc8\" target=\"_top\" title=\"psysml:e8de7c06-a552-45cc-9ef9-bdca622a4dc8\" xlink:actuate=\"onRequest\" xlink:href=\"psysml:e8de7c06-a552-45cc-9ef9-bdca622a4dc8\" xlink:show=\"new\" xlink:title=\"psysml:e8de7c06-a552-45cc-9ef9-bdca622a4dc8\" xlink:type=\"simple\"><rect fill=\"#FFFFFF\" height=\"42.9375\" id=\"E2\" style=\"stroke: #383838; stroke-width: 1.5;\" width=\"75\" x=\"77.5\" y=\"429\"/><rect fill=\"#F8F8F8\" height=\"37.9375\" style=\"stroke: #383838; stroke-width: 1.5;\" width=\"75\" x=\"77.5\" y=\"429\"/><text fill=\"#000000\" font-family=\"sans-serif\" font-size=\"12\" font-style=\"italic\" lengthAdjust=\"spacingAndGlyphs\" textLength=\"68\" x=\"81\" y=\"445.1387\">«part  def»</text><text fill=\"#000000\" font-family=\"sans-serif\" font-size=\"12\" lengthAdjust=\"spacingAndGlyphs\" textLength=\"8\" x=\"111\" y=\"459.1074\">V</text></a></g><g id=\"E1.E3\"><a href=\"psysml:e405eddc-d04c-43ee-94c7-f68d6bd4037b\" target=\"_top\" title=\"psysml:e405eddc-d04c-43ee-94c7-f68d6bd4037b\" xlink:actuate=\"onRequest\" xlink:href=\"psysml:e405eddc-d04c-43ee-94c7-f68d6bd4037b\" xlink:show=\"new\" xlink:title=\"psysml:e405eddc-d04c-43ee-94c7-f68d6bd4037b\" xlink:type=\"simple\"><rect fill=\"#FFFFFF\" height=\"40\" id=\"E3\" rx=\"10\" ry=\"10\" style=\"stroke: #383838; stroke-width: 1.5;\" width=\"50\" x=\"32\" y=\"85.5\"/><rect fill=\"#F8F8F8\" height=\"23.9688\" rx=\"10\" ry=\"10\" style=\"stroke: #F8F8F8; stroke-width: 1.5;\" width=\"50\" x=\"32\" y=\"85.5\"/><rect fill=\"#F8F8F8\" height=\"10\" style=\"stroke: #F8F8F8; stroke-width: 1.5;\" width=\"50\" x=\"32\" y=\"99.4688\"/><rect fill=\"none\" height=\"40\" id=\"E3\" rx=\"10\" ry=\"10\" style=\"stroke: #383838; stroke-width: 1.5;\" width=\"50\" x=\"32\" y=\"85.5\"/><text fill=\"#000000\" font-family=\"sans-serif\" font-size=\"12\" lengthAdjust=\"spacingAndGlyphs\" textLength=\"28\" x=\"43\" y=\"101.6387\">vv: V</text></a></g><g id=\"E1.E5\"><a href=\"psysml:5016a817-b8b6-43b2-a1c9-71130e2545c5\" target=\"_top\" title=\"psysml:5016a817-b8b6-43b2-a1c9-71130e2545c5\" xlink:actuate=\"onRequest\" xlink:href=\"psysml:5016a817-b8b6-43b2-a1c9-71130e2545c5\" xlink:show=\"new\" xlink:title=\"psysml:5016a817-b8b6-43b2-a1c9-71130e2545c5\" xlink:type=\"simple\"><rect fill=\"#FFFFFF\" height=\"42.9375\" id=\"E5\" style=\"stroke: #383838; stroke-width: 1.5;\" width=\"95\" x=\"167.5\" y=\"353\"/><rect fill=\"#F8F8F8\" height=\"37.9375\" style=\"stroke: #383838; stroke-width: 1.5;\" width=\"95\" x=\"167.5\" y=\"353\"/><text fill=\"#000000\" font-family=\"sans-serif\" font-size=\"12\" font-style=\"italic\" lengthAdjust=\"spacingAndGlyphs\" textLength=\"88\" x=\"171\" y=\"369.1387\">«analysis def»</text><text fill=\"#000000\" font-family=\"sans-serif\" font-size=\"12\" lengthAdjust=\"spacingAndGlyphs\" textLength=\"81\" x=\"174.5\" y=\"383.1074\">AnalysisCase</text></a></g><!--MD5=[2156ba9850f5573cc1fc38a6a4b2f02b]\n",
       "class E7--><a href=\"psysml:317ace64-a3b7-4095-b75a-9c551641bbd2\" target=\"_top\" title=\"psysml:317ace64-a3b7-4095-b75a-9c551641bbd2\" xlink:actuate=\"onRequest\" xlink:href=\"psysml:317ace64-a3b7-4095-b75a-9c551641bbd2\" xlink:show=\"new\" xlink:title=\"psysml:317ace64-a3b7-4095-b75a-9c551641bbd2\" xlink:type=\"simple\"><rect fill=\"#FFFFFF\" height=\"52.7734\" id=\"E7\" rx=\"10\" ry=\"10\" style=\"stroke: #383838; stroke-width: 1.5;\" width=\"84\" x=\"263\" y=\"243\"/><text fill=\"#000000\" font-family=\"sans-serif\" font-size=\"12\" lengthAdjust=\"spacingAndGlyphs\" textLength=\"70\" x=\"270\" y=\"259.1387\">«objective»</text><line style=\"stroke: #383838; stroke-width: 1.5;\" x1=\"264\" x2=\"346\" y1=\"266.9688\" y2=\"266.9688\"/><text fill=\"#000000\" font-family=\"sans-serif\" font-size=\"11\" lengthAdjust=\"spacingAndGlyphs\" textLength=\"12\" x=\"269\" y=\"281.1792\">...</text><line style=\"stroke: #383838; stroke-width: 1.0;\" x1=\"264\" x2=\"346\" y1=\"287.7734\" y2=\"287.7734\"/></a><g id=\"E1.E6.E8\"><a href=\"psysml:0f757ff2-27a2-40d5-a25f-af43358ff77a\" target=\"_top\" title=\"psysml:0f757ff2-27a2-40d5-a25f-af43358ff77a\" xlink:actuate=\"onRequest\" xlink:href=\"psysml:0f757ff2-27a2-40d5-a25f-af43358ff77a\" xlink:show=\"new\" xlink:title=\"psysml:0f757ff2-27a2-40d5-a25f-af43358ff77a\" xlink:type=\"simple\"><rect fill=\"#FFFFFF\" height=\"42.9375\" id=\"E8\" rx=\"10\" ry=\"10\" style=\"stroke: #383838; stroke-width: 1.5;\" width=\"92\" x=\"136\" y=\"248\"/><rect fill=\"#F8F8F8\" height=\"37.9375\" rx=\"10\" ry=\"10\" style=\"stroke: #F8F8F8; stroke-width: 1.5;\" width=\"92\" x=\"136\" y=\"248\"/><rect fill=\"#F8F8F8\" height=\"10\" style=\"stroke: #F8F8F8; stroke-width: 1.5;\" width=\"92\" x=\"136\" y=\"275.9375\"/><rect fill=\"none\" height=\"42.9375\" id=\"E8\" rx=\"10\" ry=\"10\" style=\"stroke: #383838; stroke-width: 1.5;\" width=\"92\" x=\"136\" y=\"248\"/><text fill=\"#000000\" font-family=\"sans-serif\" font-size=\"12\" font-style=\"italic\" lengthAdjust=\"spacingAndGlyphs\" textLength=\"64\" x=\"150\" y=\"264.1387\">«analysis»</text><text fill=\"#000000\" font-family=\"sans-serif\" font-size=\"12\" lengthAdjust=\"spacingAndGlyphs\" textLength=\"81\" x=\"141.5\" y=\"278.1074\">analysisCase</text></a></g><g id=\"E1.E9.E10\"><a href=\"psysml:9d8d7d87-8dd4-470f-9d18-cffbc3763f0c\" target=\"_top\" title=\"psysml:9d8d7d87-8dd4-470f-9d18-cffbc3763f0c\" xlink:actuate=\"onRequest\" xlink:href=\"psysml:9d8d7d87-8dd4-470f-9d18-cffbc3763f0c\" xlink:show=\"new\" xlink:title=\"psysml:9d8d7d87-8dd4-470f-9d18-cffbc3763f0c\" xlink:type=\"simple\"><rect fill=\"#FFFFFF\" height=\"42.9375\" id=\"E10\" rx=\"10\" ry=\"10\" style=\"stroke: #383838; stroke-width: 1.5;\" width=\"88\" x=\"274\" y=\"84\"/><rect fill=\"#F8F8F8\" height=\"37.9375\" rx=\"10\" ry=\"10\" style=\"stroke: #F8F8F8; stroke-width: 1.5;\" width=\"88\" x=\"274\" y=\"84\"/><rect fill=\"#F8F8F8\" height=\"10\" style=\"stroke: #F8F8F8; stroke-width: 1.5;\" width=\"88\" x=\"274\" y=\"111.9375\"/><rect fill=\"none\" height=\"42.9375\" id=\"E10\" rx=\"10\" ry=\"10\" style=\"stroke: #383838; stroke-width: 1.5;\" width=\"88\" x=\"274\" y=\"84\"/><text fill=\"#000000\" font-family=\"sans-serif\" font-size=\"12\" font-style=\"italic\" lengthAdjust=\"spacingAndGlyphs\" textLength=\"64\" x=\"286\" y=\"100.1387\">«analysis»</text><text fill=\"#000000\" font-family=\"sans-serif\" font-size=\"12\" lengthAdjust=\"spacingAndGlyphs\" textLength=\"77\" x=\"279.5\" y=\"114.1074\">analysisPlan</text></a></g><!--MD5=[15ebcb19ae302d9b601edb458606d402]\n",
       "link E5 to E2--><a href=\"psysml:4ce798b4-e7f7-45ac-94f6-a9dc23ec95c2\" target=\"_top\" title=\"psysml:4ce798b4-e7f7-45ac-94f6-a9dc23ec95c2\" xlink:actuate=\"onRequest\" xlink:href=\"psysml:4ce798b4-e7f7-45ac-94f6-a9dc23ec95c2\" xlink:show=\"new\" xlink:title=\"psysml:4ce798b4-e7f7-45ac-94f6-a9dc23ec95c2\" xlink:type=\"simple\"><path d=\"M187.14,396.11 C174.68,405.33 159.92,416.26 147.01,425.81 \" fill=\"none\" id=\"E5-&gt;E2\" style=\"stroke: #383838; stroke-width: 1.0; stroke-dasharray: 7.0,7.0;\"/><polygon fill=\"#383838\" points=\"142.71,429,152.3187,426.8384,146.722,426.016,147.5443,420.4193,142.71,429\" style=\"stroke: #383838; stroke-width: 1.0;\"/><text fill=\"#000000\" font-family=\"sans-serif\" font-size=\"13\" lengthAdjust=\"spacingAndGlyphs\" textLength=\"62\" x=\"174\" y=\"417.0669\">«subject»</text></a><!--MD5=[2351f337d6de0f557b50152ba70847b5]\n",
       "link E6 to E2--><a href=\"psysml:38ee38e5-fe2f-49e8-a238-8ef961814591\" target=\"_top\" title=\"psysml:38ee38e5-fe2f-49e8-a238-8ef961814591\" xlink:actuate=\"onRequest\" xlink:href=\"psysml:38ee38e5-fe2f-49e8-a238-8ef961814591\" xlink:show=\"new\" xlink:title=\"psysml:38ee38e5-fe2f-49e8-a238-8ef961814591\" xlink:type=\"simple\"><path d=\"M92.9768,314.6189 C92.8617,315.252 92.7468,315.8841 92.6322,316.5148 C92.4029,317.7762 92.1747,319.0315 91.9484,320.276 C91.496,322.765 91.0514,325.2107 90.6216,327.5746 C89.7622,332.3026 88.9622,336.7036 88.2775,340.4703 C86.9081,348.0037 86,353 86,353 C86,353 86,396 86,396 C86,396 93.82,410.43 101.34,424.31 \" fill=\"none\" id=\"E6-&gt;E2\" style=\"stroke: #383838; stroke-width: 1.0; stroke-dasharray: 7.0,7.0;\"/><polygon fill=\"#383838\" points=\"103.87,428.97,103.0965,419.1516,101.4867,424.5745,96.0638,422.9648,103.87,428.97\" style=\"stroke: #383838; stroke-width: 1.0;\"/><text fill=\"#000000\" font-family=\"sans-serif\" font-size=\"13\" lengthAdjust=\"spacingAndGlyphs\" textLength=\"62\" x=\"87\" y=\"379.0669\">«subject»</text></a><!--MD5=[1ccb2481ffa92f8d51a74ee30c51832a]\n",
       "link E8 to E5--><a href=\"psysml:cf5e8ef0-758f-412b-8419-a299a9750eac\" target=\"_top\" title=\"psysml:cf5e8ef0-758f-412b-8419-a299a9750eac\" xlink:actuate=\"onRequest\" xlink:href=\"psysml:cf5e8ef0-758f-412b-8419-a299a9750eac\" xlink:show=\"new\" xlink:title=\"psysml:cf5e8ef0-758f-412b-8419-a299a9750eac\" xlink:type=\"simple\"><path d=\"M188.68,291.34 C192.52,303.35 197.49,318.85 202.07,333.15 \" fill=\"none\" id=\"E8-&gt;E5\" style=\"stroke: #383838; stroke-width: 1.0;\"/><polygon fill=\"#FFFFFF\" points=\"208.33,352.69,195.871,336.7284,209.2046,332.4604,208.33,352.69\" style=\"stroke: #383838; stroke-width: 1.0;\"/><ellipse cx=\"196.0381\" cy=\"330.69\" fill=\"#383838\" rx=\"2\" ry=\"2\" style=\"stroke: #383838; stroke-width: 1.0;\"/><ellipse cx=\"205.5621\" cy=\"327.6415\" fill=\"#383838\" rx=\"2\" ry=\"2\" style=\"stroke: #383838; stroke-width: 1.0;\"/></a><!--MD5=[198716bf12f04006f5c20d61bde6d80d]\n",
       "link E10 to E6--><a href=\"psysml:4172c94c-9fb8-4464-b137-e530fc31134b\" target=\"_top\" title=\"psysml:4172c94c-9fb8-4464-b137-e530fc31134b\" xlink:actuate=\"onRequest\" xlink:href=\"psysml:4172c94c-9fb8-4464-b137-e530fc31134b\" xlink:show=\"new\" xlink:title=\"psysml:4172c94c-9fb8-4464-b137-e530fc31134b\" xlink:type=\"simple\"><path d=\"M295.69,127.19 C283.15,138.81 270,151 270,151 C270,151 120,168 120,168 C120,168 118.8494,174.0863 117.1144,183.2633 C117.0873,183.4067 117.06,183.5508 117.0326,183.6957 \" fill=\"none\" id=\"E10-&gt;E6\" style=\"stroke: #383838; stroke-width: 1.0;\"/><polygon fill=\"#FFFFFF\" points=\"117.0326,183.6957,113.6841,163.7261,127.4404,166.3268,117.0326,183.6957\" style=\"stroke: #383838; stroke-width: 1.0;\"/><ellipse cx=\"116.7081\" cy=\"158.4968\" fill=\"#383838\" rx=\"2\" ry=\"2\" style=\"stroke: #383838; stroke-width: 1.0;\"/><ellipse cx=\"126.5341\" cy=\"160.3545\" fill=\"#383838\" rx=\"2\" ry=\"2\" style=\"stroke: #383838; stroke-width: 1.0;\"/></a><!--MD5=[5c826b0cf34537db0f00a3bc904a849f]\n",
       "@startuml\r\n",
       "skinparam ranksep 10\r\n",
       "skinparam rectangle {\r\n",
       " backgroundColor<<block>> LightGreen\r\n",
       "}\r\n",
       "skinparam linetype polyline\r\n",
       "skinparam monochrome true\r\n",
       "skinparam classbackgroundcolor white\r\n",
       "skinparam shadowing false\r\n",
       "skinparam wrapWidth 300\r\n",
       "hide circle\r\n",
       "\r\n",
       "package \"AnalysisTest\" as E1  [[psysml:e1dfe890-ec15-4931-b288-05d8c66f0e23 ]]  {\r\n",
       "rec def \"V\" as E2  <<(T,blue) part  def>> [[psysml:e8de7c06-a552-45cc-9ef9-bdca622a4dc8 ]] {\r\n",
       "}\r\n",
       "rec usage \"vv: V\" as E3  [[psysml:e405eddc-d04c-43ee-94c7-f68d6bd4037b ]] {\r\n",
       "}\r\n",
       "comp def \"AnalysisObjective\" as E4  <<(T,blue) requirement  def>> [[psysml:61935c6a-e9b2-427b-8e93-9f8ea2764a4f ]] {\r\n",
       "...\r\n",
       "- -\r\n",
       "}\r\n",
       "rec def \"AnalysisCase\" as E5 << analysis def>> [[psysml:5016a817-b8b6-43b2-a1c9-71130e2545c5 ]] {\r\n",
       "}\r\n",
       "rec def \"AnalysisPlan\" as E6 << analysis def>> [[psysml:0d28215e-abd0-4258-9ce4-d7487f47f154 ]] {\r\n",
       "comp usage \" <U+00AB>objective<U+00BB> \" as E7 [[psysml:317ace64-a3b7-4095-b75a-9c551641bbd2 ]] {\r\n",
       "...\r\n",
       "- -\r\n",
       "}\r\n",
       "rec usage \"analysisCase\" as E8 << analysis>> [[psysml:0f757ff2-27a2-40d5-a25f-af43358ff77a ]] {\r\n",
       "}\r\n",
       "}\r\n",
       "rec usage \"analysisContext\" as E9  [[psysml:b24749b9-9e77-4740-bd21-7fc3830bb957 ]] {\r\n",
       "rec usage \"analysisPlan\" as E10 << analysis>> [[psysml:9d8d7d87-8dd4-470f-9d18-cffbc3763f0c ]] {\r\n",
       "}\r\n",
       "}\r\n",
       "}\r\n",
       "E5 ..> E2 [[psysml:4ce798b4-e7f7-45ac-94f6-a9dc23ec95c2 ]] : <<subject>>\r\n",
       "E6 ..> E2 [[psysml:38ee38e5-fe2f-49e8-a238-8ef961814591 ]] : <<subject>>\r\n",
       "E8 - -:|> E5 [[psysml:cf5e8ef0-758f-412b-8419-a299a9750eac ]] \r\n",
       "E10 - -:|> E6 [[psysml:4172c94c-9fb8-4464-b137-e530fc31134b ]] \r\n",
       "@enduml\r\n",
       "\n",
       "PlantUML version 1.2020.13(Sat Jun 13 12:26:38 UTC 2020)\n",
       "(EPL source distribution)\n",
       "Java Runtime: OpenJDK Runtime Environment\n",
       "JVM: OpenJDK 64-Bit Server VM\n",
       "Default Encoding: UTF-8\n",
       "Language: en\n",
       "Country: null\n",
       "--></g></svg>"
      ]
     },
     "execution_count": 12,
     "metadata": {},
     "output_type": "execute_result"
    }
   ],
   "source": [
    "%viz --style=\"POLYLINE\" --view=\"Interconnection\" \"AnalysisTest\""
   ]
  },
  {
   "cell_type": "code",
   "execution_count": 13,
   "id": "89d3fdc7",
   "metadata": {
    "execution": {
     "iopub.execute_input": "2022-02-05T16:52:01.457322Z",
     "iopub.status.busy": "2022-02-05T16:52:01.456908Z",
     "iopub.status.idle": "2022-02-05T16:52:01.509088Z",
     "shell.execute_reply": "2022-02-05T16:52:01.508716Z"
    }
   },
   "outputs": [
    {
     "data": {
      "image/svg+xml": [
       "<?xml version=\"1.0\" encoding=\"UTF-8\" standalone=\"no\"?><svg xmlns=\"http://www.w3.org/2000/svg\" xmlns:xlink=\"http://www.w3.org/1999/xlink\" contentScriptType=\"application/ecmascript\" contentStyleType=\"text/css\" height=\"233px\" preserveAspectRatio=\"none\" style=\"width:649px;height:233px;\" version=\"1.1\" viewBox=\"0 0 649 233\" width=\"649px\" zoomAndPan=\"magnify\"><defs/><g><!--MD5=[fbc87193dbaf4d95561dea2c320d4a47]\n",
       "cluster E1--><a href=\"psysml:5016a817-b8b6-43b2-a1c9-71130e2545c5\" target=\"_top\" title=\"psysml:5016a817-b8b6-43b2-a1c9-71130e2545c5\" xlink:actuate=\"onRequest\" xlink:href=\"psysml:5016a817-b8b6-43b2-a1c9-71130e2545c5\" xlink:show=\"new\" xlink:title=\"psysml:5016a817-b8b6-43b2-a1c9-71130e2545c5\" xlink:type=\"simple\"><rect fill=\"#FFFFFF\" height=\"122\" id=\"E1\" style=\"stroke: #383838; stroke-width: 1.5;\" width=\"146\" x=\"7\" y=\"42.0986\"/><rect fill=\"#F8F8F8\" height=\"37.9375\" style=\"stroke: #383838; stroke-width: 1.5;\" width=\"146\" x=\"7\" y=\"42.0986\"/><text fill=\"#000000\" font-family=\"sans-serif\" font-size=\"12\" font-style=\"italic\" lengthAdjust=\"spacingAndGlyphs\" textLength=\"88\" x=\"36\" y=\"58.2373\">«analysis def»</text><text fill=\"#000000\" font-family=\"sans-serif\" font-size=\"12\" lengthAdjust=\"spacingAndGlyphs\" textLength=\"81\" x=\"39.5\" y=\"72.2061\">AnalysisCase</text></a><!--MD5=[f6df4d0ebaf0b5dfb2ced0ae5af7c670]\n",
       "cluster E4--><a href=\"psysml:0d28215e-abd0-4258-9ce4-d7487f47f154\" target=\"_top\" title=\"psysml:0d28215e-abd0-4258-9ce4-d7487f47f154\" xlink:actuate=\"onRequest\" xlink:href=\"psysml:0d28215e-abd0-4258-9ce4-d7487f47f154\" xlink:show=\"new\" xlink:title=\"psysml:0d28215e-abd0-4258-9ce4-d7487f47f154\" xlink:type=\"simple\"><rect fill=\"#FFFFFF\" height=\"180\" id=\"E4\" style=\"stroke: #383838; stroke-width: 1.5;\" width=\"262\" x=\"216\" y=\"42.0986\"/><rect fill=\"#F8F8F8\" height=\"37.9375\" style=\"stroke: #383838; stroke-width: 1.5;\" width=\"262\" x=\"216\" y=\"42.0986\"/><text fill=\"#000000\" font-family=\"sans-serif\" font-size=\"12\" font-style=\"italic\" lengthAdjust=\"spacingAndGlyphs\" textLength=\"88\" x=\"303\" y=\"58.2373\">«analysis def»</text><text fill=\"#000000\" font-family=\"sans-serif\" font-size=\"12\" lengthAdjust=\"spacingAndGlyphs\" textLength=\"77\" x=\"308.5\" y=\"72.2061\">AnalysisPlan</text></a><!--MD5=[14e3b0961a2654348d326746436168a1]\n",
       "cluster E6--><a href=\"psysml:0f757ff2-27a2-40d5-a25f-af43358ff77a\" target=\"_top\" title=\"psysml:0f757ff2-27a2-40d5-a25f-af43358ff77a\" xlink:actuate=\"onRequest\" xlink:href=\"psysml:0f757ff2-27a2-40d5-a25f-af43358ff77a\" xlink:show=\"new\" xlink:title=\"psysml:0f757ff2-27a2-40d5-a25f-af43358ff77a\" xlink:type=\"simple\"><rect fill=\"#FFFFFF\" height=\"110.5\" id=\"E6\" rx=\"10\" ry=\"10\" style=\"stroke: #383838; stroke-width: 1.5;\" width=\"138\" x=\"299\" y=\"81.5986\"/><rect fill=\"#F8F8F8\" height=\"37.9375\" rx=\"10\" ry=\"10\" style=\"stroke: #F8F8F8; stroke-width: 1.5;\" width=\"138\" x=\"299\" y=\"81.5986\"/><rect fill=\"#F8F8F8\" height=\"10\" style=\"stroke: #F8F8F8; stroke-width: 1.5;\" width=\"138\" x=\"299\" y=\"109.5361\"/><rect fill=\"none\" height=\"110.5\" id=\"E6\" rx=\"10\" ry=\"10\" style=\"stroke: #383838; stroke-width: 1.5;\" width=\"138\" x=\"299\" y=\"81.5986\"/><text fill=\"#000000\" font-family=\"sans-serif\" font-size=\"12\" font-style=\"italic\" lengthAdjust=\"spacingAndGlyphs\" textLength=\"64\" x=\"336\" y=\"97.7373\">«analysis»</text><text fill=\"#000000\" font-family=\"sans-serif\" font-size=\"12\" lengthAdjust=\"spacingAndGlyphs\" textLength=\"81\" x=\"327.5\" y=\"111.7061\">analysisCase</text><line style=\"stroke: #383838; stroke-width: 1.0;\" x1=\"299\" x2=\"437\" y1=\"119.5361\" y2=\"119.5361\"/></a><!--MD5=[a84b4591f868c1fa4a211716a82f2f0d]\n",
       "cluster E10--><a href=\"psysml:9d8d7d87-8dd4-470f-9d18-cffbc3763f0c\" target=\"_top\" title=\"psysml:9d8d7d87-8dd4-470f-9d18-cffbc3763f0c\" xlink:actuate=\"onRequest\" xlink:href=\"psysml:9d8d7d87-8dd4-470f-9d18-cffbc3763f0c\" xlink:show=\"new\" xlink:title=\"psysml:9d8d7d87-8dd4-470f-9d18-cffbc3763f0c\" xlink:type=\"simple\"><rect fill=\"#FFFFFF\" height=\"122\" id=\"E10\" rx=\"10\" ry=\"10\" style=\"stroke: #383838; stroke-width: 1.5;\" width=\"130\" x=\"507\" y=\"42.0986\"/><rect fill=\"#F8F8F8\" height=\"37.9375\" rx=\"10\" ry=\"10\" style=\"stroke: #F8F8F8; stroke-width: 1.5;\" width=\"130\" x=\"507\" y=\"42.0986\"/><rect fill=\"#F8F8F8\" height=\"10\" style=\"stroke: #F8F8F8; stroke-width: 1.5;\" width=\"130\" x=\"507\" y=\"70.0361\"/><rect fill=\"none\" height=\"122\" id=\"E10\" rx=\"10\" ry=\"10\" style=\"stroke: #383838; stroke-width: 1.5;\" width=\"130\" x=\"507\" y=\"42.0986\"/><text fill=\"#000000\" font-family=\"sans-serif\" font-size=\"12\" font-style=\"italic\" lengthAdjust=\"spacingAndGlyphs\" textLength=\"64\" x=\"540\" y=\"58.2373\">«analysis»</text><text fill=\"#000000\" font-family=\"sans-serif\" font-size=\"12\" lengthAdjust=\"spacingAndGlyphs\" textLength=\"77\" x=\"533.5\" y=\"72.2061\">analysisPlan</text><line style=\"stroke: #383838; stroke-width: 1.0;\" x1=\"507\" x2=\"637\" y1=\"80.0361\" y2=\"80.0361\"/></a><text fill=\"#000000\" font-family=\"sans-serif\" font-size=\"14\" lengthAdjust=\"spacingAndGlyphs\" textLength=\"7\" x=\"76.5\" y=\"20.7969\">v</text><rect fill=\"#383838\" height=\"12\" style=\"stroke: #F8F8F8; stroke-width: 1.5;\" width=\"12\" x=\"74\" y=\"36.0986\"/><text fill=\"#000000\" font-family=\"sans-serif\" font-size=\"14\" lengthAdjust=\"spacingAndGlyphs\" textLength=\"39\" x=\"60.5\" y=\"183.0938\">result</text><rect fill=\"#383838\" height=\"12\" style=\"stroke: #F8F8F8; stroke-width: 1.5;\" width=\"12\" x=\"74\" y=\"158.0986\"/><text fill=\"#000000\" font-family=\"sans-serif\" font-size=\"14\" lengthAdjust=\"spacingAndGlyphs\" textLength=\"7\" x=\"230.5\" y=\"20.7969\">v</text><rect fill=\"#383838\" height=\"12\" style=\"stroke: #F8F8F8; stroke-width: 1.5;\" width=\"12\" x=\"228\" y=\"36.0986\"/><text fill=\"#000000\" font-family=\"sans-serif\" font-size=\"14\" lengthAdjust=\"spacingAndGlyphs\" textLength=\"39\" x=\"458.5\" y=\"183.0938\">result</text><rect fill=\"#383838\" height=\"12\" style=\"stroke: #F8F8F8; stroke-width: 1.5;\" width=\"12\" x=\"472\" y=\"158.0986\"/><text fill=\"#000000\" font-family=\"sans-serif\" font-size=\"14\" lengthAdjust=\"spacingAndGlyphs\" textLength=\"37\" x=\"349.5\" y=\"211.0938\">mass</text><rect fill=\"#383838\" height=\"12\" style=\"stroke: #F8F8F8; stroke-width: 1.5;\" width=\"12\" x=\"362\" y=\"186.0986\"/><text fill=\"#000000\" font-family=\"sans-serif\" font-size=\"14\" lengthAdjust=\"spacingAndGlyphs\" textLength=\"7\" x=\"364.5\" y=\"60.2969\">v</text><rect fill=\"#383838\" height=\"12\" style=\"stroke: #F8F8F8; stroke-width: 1.5;\" width=\"12\" x=\"362\" y=\"75.5986\"/><text fill=\"#000000\" font-family=\"sans-serif\" font-size=\"14\" lengthAdjust=\"spacingAndGlyphs\" textLength=\"7\" x=\"567.5\" y=\"20.7969\">v</text><rect fill=\"#383838\" height=\"12\" style=\"stroke: #F8F8F8; stroke-width: 1.5;\" width=\"12\" x=\"565\" y=\"36.0986\"/><text fill=\"#000000\" font-family=\"sans-serif\" font-size=\"14\" lengthAdjust=\"spacingAndGlyphs\" textLength=\"39\" x=\"505.5\" y=\"183.0938\">result</text><rect fill=\"#383838\" height=\"12\" style=\"stroke: #F8F8F8; stroke-width: 1.5;\" width=\"12\" x=\"519\" y=\"158.0986\"/><!--MD5=[fa1c7795a40868ff67e84d5866ef2ac8]\n",
       "@startuml\r\n",
       "skinparam ranksep 8\r\n",
       "skinparam linetype polyline\r\n",
       "skinparam monochrome true\r\n",
       "skinparam classbackgroundcolor white\r\n",
       "skinparam shadowing false\r\n",
       "skinparam wrapWidth 300\r\n",
       "hide circle\r\n",
       "\r\n",
       "rec def \"AnalysisCase\" as E1 << analysis def>> [[psysml:5016a817-b8b6-43b2-a1c9-71130e2545c5 ]] {\r\n",
       "portin \"v\" as E2  [[psysml:164c7fef-cc79-47d0-81ef-11274fabe5a7 ]] \r\n",
       "portout \"result\" as E3  [[psysml:6e4742d8-6cff-49ed-9a2e-48d7290da8ea ]] \r\n",
       "}\r\n",
       "\r\n",
       "rec def \"AnalysisPlan\" as E4 << analysis def>> [[psysml:0d28215e-abd0-4258-9ce4-d7487f47f154 ]] {\r\n",
       "portin \"v\" as E5  [[psysml:7943f1e5-2d26-4cd3-a00e-7357be36b5d6 ]] \r\n",
       "rec usage \"analysisCase\" as E6 << analysis>> [[psysml:0f757ff2-27a2-40d5-a25f-af43358ff77a ]] {\r\n",
       "portout \"mass\" as E7  [[psysml:ec31ed6f-aea4-4ab3-8935-1d2e29a82c61 ]] \r\n",
       "portin \"v\" as E8  [[psysml:1b55d686-bd3b-4923-8e60-8b313cbf92b9 ]] \r\n",
       "}\r\n",
       "\r\n",
       "portout \"result\" as E9  [[psysml:301e1961-b4b0-4f3f-9bd8-8820561614e6 ]] \r\n",
       "}\r\n",
       "\r\n",
       "rec usage \"analysisPlan\" as E10 << analysis>> [[psysml:9d8d7d87-8dd4-470f-9d18-cffbc3763f0c ]] {\r\n",
       "portin \"v\" as E11  [[psysml:fb21399e-f4a1-4dd2-99a6-b4e6906605c8 ]] \r\n",
       "portout \"result\" as E12  [[psysml:db81a387-1cd1-4bdf-be56-65aa7adff2a2 ]] \r\n",
       "}\r\n",
       "\r\n",
       "@enduml\r\n",
       "\n",
       "PlantUML version 1.2020.13(Sat Jun 13 12:26:38 UTC 2020)\n",
       "(EPL source distribution)\n",
       "Java Runtime: OpenJDK Runtime Environment\n",
       "JVM: OpenJDK 64-Bit Server VM\n",
       "Default Encoding: UTF-8\n",
       "Language: en\n",
       "Country: null\n",
       "--></g></svg>"
      ]
     },
     "execution_count": 13,
     "metadata": {},
     "output_type": "execute_result"
    }
   ],
   "source": [
    "%viz --style=\"POLYLINE\" --view=\"Action\" \"AnalysisTest\""
   ]
  },
  {
   "cell_type": "code",
   "execution_count": 14,
   "id": "6b6a8e5e",
   "metadata": {
    "execution": {
     "iopub.execute_input": "2022-02-05T16:52:01.558625Z",
     "iopub.status.busy": "2022-02-05T16:52:01.558212Z",
     "iopub.status.idle": "2022-02-05T16:52:01.564430Z",
     "shell.execute_reply": "2022-02-05T16:52:01.564758Z"
    }
   },
   "outputs": [
    {
     "data": {
      "image/svg+xml": [
       "<?xml version=\"1.0\" encoding=\"UTF-8\" standalone=\"no\"?><svg xmlns=\"http://www.w3.org/2000/svg\" xmlns:xlink=\"http://www.w3.org/1999/xlink\" contentScriptType=\"application/ecmascript\" contentStyleType=\"text/css\" height=\"12px\" preserveAspectRatio=\"none\" style=\"width:12px;height:12px;\" version=\"1.1\" viewBox=\"0 0 12 12\" width=\"12px\" zoomAndPan=\"magnify\"><defs/><g><!--MD5=[dc938048236c351797870c36b62f92ad]\n",
       "@startuml\r\n",
       "skinparam roundcorner 20\r\n",
       "skinparam BoxPadding 20\r\n",
       "skinparam SequenceBoxBackgroundColor #white\r\n",
       "skinparam style strictuml\r\n",
       "skinparam maxMessageSize 100\r\n",
       "skinparam linetype polyline\r\n",
       "skinparam monochrome true\r\n",
       "skinparam classbackgroundcolor white\r\n",
       "skinparam shadowing false\r\n",
       "skinparam wrapWidth 300\r\n",
       "hide circle\r\n",
       "\r\n",
       "@enduml\r\n",
       "\n",
       "PlantUML version 1.2020.13(Sat Jun 13 12:26:38 UTC 2020)\n",
       "(EPL source distribution)\n",
       "Java Runtime: OpenJDK Runtime Environment\n",
       "JVM: OpenJDK 64-Bit Server VM\n",
       "Default Encoding: UTF-8\n",
       "Language: en\n",
       "Country: null\n",
       "--></g></svg>"
      ]
     },
     "execution_count": 14,
     "metadata": {},
     "output_type": "execute_result"
    }
   ],
   "source": [
    "%viz --style=\"POLYLINE\" --view=\"Sequence\" \"AnalysisTest\""
   ]
  },
  {
   "cell_type": "code",
   "execution_count": 15,
   "id": "c5f25236",
   "metadata": {
    "execution": {
     "iopub.execute_input": "2022-02-05T16:52:01.614905Z",
     "iopub.status.busy": "2022-02-05T16:52:01.614492Z",
     "iopub.status.idle": "2022-02-05T16:52:01.680984Z",
     "shell.execute_reply": "2022-02-05T16:52:01.681282Z"
    }
   },
   "outputs": [
    {
     "data": {
      "image/svg+xml": [
       "<?xml version=\"1.0\" encoding=\"UTF-8\" standalone=\"no\"?><svg xmlns=\"http://www.w3.org/2000/svg\" xmlns:xlink=\"http://www.w3.org/1999/xlink\" contentScriptType=\"application/ecmascript\" contentStyleType=\"text/css\" height=\"685px\" preserveAspectRatio=\"none\" style=\"width:380px;height:685px;\" version=\"1.1\" viewBox=\"0 0 380 685\" width=\"380px\" zoomAndPan=\"magnify\"><defs/><g><!--MD5=[fbc87193dbaf4d95561dea2c320d4a47]\n",
       "cluster E1--><a href=\"psysml:e1dfe890-ec15-4931-b288-05d8c66f0e23\" target=\"_top\" title=\"psysml:e1dfe890-ec15-4931-b288-05d8c66f0e23\" xlink:actuate=\"onRequest\" xlink:href=\"psysml:e1dfe890-ec15-4931-b288-05d8c66f0e23\" xlink:show=\"new\" xlink:title=\"psysml:e1dfe890-ec15-4931-b288-05d8c66f0e23\" xlink:type=\"simple\"><polygon fill=\"#FFFFFF\" points=\"16,6,108,6,115,28.2969,358,28.2969,358,673,16,673,16,6\" style=\"stroke: #000000; stroke-width: 1.5;\"/><line style=\"stroke: #000000; stroke-width: 1.5;\" x1=\"16\" x2=\"115\" y1=\"28.2969\" y2=\"28.2969\"/><text fill=\"#000000\" font-family=\"sans-serif\" font-size=\"14\" font-weight=\"bold\" lengthAdjust=\"spacingAndGlyphs\" textLength=\"86\" x=\"20\" y=\"20.9951\">AnalysisTest</text></a><!--MD5=[14e3b0961a2654348d326746436168a1]\n",
       "cluster E6--><a href=\"psysml:0d28215e-abd0-4258-9ce4-d7487f47f154\" target=\"_top\" title=\"psysml:0d28215e-abd0-4258-9ce4-d7487f47f154\" xlink:actuate=\"onRequest\" xlink:href=\"psysml:0d28215e-abd0-4258-9ce4-d7487f47f154\" xlink:show=\"new\" xlink:title=\"psysml:0d28215e-abd0-4258-9ce4-d7487f47f154\" xlink:type=\"simple\"><rect fill=\"#FFFFFF\" height=\"136\" id=\"E6\" style=\"stroke: #383838; stroke-width: 1.5;\" width=\"278\" x=\"48\" y=\"267\"/><rect fill=\"#F8F8F8\" height=\"37.9375\" style=\"stroke: #383838; stroke-width: 1.5;\" width=\"278\" x=\"48\" y=\"267\"/><text fill=\"#000000\" font-family=\"sans-serif\" font-size=\"12\" font-style=\"italic\" lengthAdjust=\"spacingAndGlyphs\" textLength=\"88\" x=\"143\" y=\"283.1387\">«analysis def»</text><text fill=\"#000000\" font-family=\"sans-serif\" font-size=\"12\" lengthAdjust=\"spacingAndGlyphs\" textLength=\"77\" x=\"148.5\" y=\"297.1074\">AnalysisPlan</text></a><!--MD5=[b4997ac47864f28c2f74865a473b2911]\n",
       "class E2--><a href=\"psysml:e8de7c06-a552-45cc-9ef9-bdca622a4dc8\" target=\"_top\" title=\"psysml:e8de7c06-a552-45cc-9ef9-bdca622a4dc8\" xlink:actuate=\"onRequest\" xlink:href=\"psysml:e8de7c06-a552-45cc-9ef9-bdca622a4dc8\" xlink:show=\"new\" xlink:title=\"psysml:e8de7c06-a552-45cc-9ef9-bdca622a4dc8\" xlink:type=\"simple\"><rect fill=\"#FFFFFF\" height=\"75.5469\" id=\"E2\" style=\"stroke: #383838; stroke-width: 1.5;\" width=\"70\" x=\"179\" y=\"581\"/><text fill=\"#000000\" font-family=\"sans-serif\" font-size=\"12\" font-style=\"italic\" lengthAdjust=\"spacingAndGlyphs\" textLength=\"68\" x=\"180\" y=\"597.1387\">«part  def»</text><text fill=\"#000000\" font-family=\"sans-serif\" font-size=\"12\" lengthAdjust=\"spacingAndGlyphs\" textLength=\"8\" x=\"210\" y=\"611.1074\">V</text><line style=\"stroke: #383838; stroke-width: 1.5;\" x1=\"180\" x2=\"248\" y1=\"618.9375\" y2=\"618.9375\"/><text fill=\"#000000\" font-family=\"sans-serif\" font-size=\"11\" lengthAdjust=\"spacingAndGlyphs\" textLength=\"11\" x=\"185\" y=\"649.9526\">m</text><line style=\"stroke: #383838; stroke-width: 1.0;\" x1=\"180\" x2=\"183\" y1=\"633.3398\" y2=\"633.3398\"/><text fill=\"#000000\" font-family=\"sans-serif\" font-size=\"11\" lengthAdjust=\"spacingAndGlyphs\" textLength=\"62\" x=\"183\" y=\"636.6479\">references</text><line style=\"stroke: #383838; stroke-width: 1.0;\" x1=\"245\" x2=\"248\" y1=\"633.3398\" y2=\"633.3398\"/></a><!--MD5=[09b614a08d8cba4a07c9adeb5e0fee81]\n",
       "class E3--><a href=\"psysml:e405eddc-d04c-43ee-94c7-f68d6bd4037b\" target=\"_top\" title=\"psysml:e405eddc-d04c-43ee-94c7-f68d6bd4037b\" xlink:actuate=\"onRequest\" xlink:href=\"psysml:e405eddc-d04c-43ee-94c7-f68d6bd4037b\" xlink:show=\"new\" xlink:title=\"psysml:e405eddc-d04c-43ee-94c7-f68d6bd4037b\" xlink:type=\"simple\"><rect fill=\"#FFFFFF\" height=\"45.9375\" id=\"E3\" rx=\"10\" ry=\"10\" style=\"stroke: #383838; stroke-width: 1.5;\" width=\"42\" x=\"297\" y=\"458\"/><text fill=\"#000000\" font-family=\"sans-serif\" font-size=\"12\" font-style=\"italic\" lengthAdjust=\"spacingAndGlyphs\" textLength=\"40\" x=\"298\" y=\"474.1387\">«part»</text><text fill=\"#000000\" font-family=\"sans-serif\" font-size=\"12\" lengthAdjust=\"spacingAndGlyphs\" textLength=\"28\" x=\"302\" y=\"488.1074\">vv: V</text><line style=\"stroke: #383838; stroke-width: 1.5;\" x1=\"298\" x2=\"338\" y1=\"495.9375\" y2=\"495.9375\"/></a><!--MD5=[ebbe1d658d1005bcc118a6aa81145e00]\n",
       "class E4--><a href=\"psysml:61935c6a-e9b2-427b-8e93-9f8ea2764a4f\" target=\"_top\" title=\"psysml:61935c6a-e9b2-427b-8e93-9f8ea2764a4f\" xlink:actuate=\"onRequest\" xlink:href=\"psysml:61935c6a-e9b2-427b-8e93-9f8ea2764a4f\" xlink:show=\"new\" xlink:title=\"psysml:61935c6a-e9b2-427b-8e93-9f8ea2764a4f\" xlink:type=\"simple\"><rect fill=\"#FFFFFF\" height=\"66.7422\" id=\"E4\" style=\"stroke: #383838; stroke-width: 1.5;\" width=\"121\" x=\"197.5\" y=\"41\"/><text fill=\"#000000\" font-family=\"sans-serif\" font-size=\"12\" font-style=\"italic\" lengthAdjust=\"spacingAndGlyphs\" textLength=\"119\" x=\"198.5\" y=\"57.1387\">«requirement  def»</text><text fill=\"#000000\" font-family=\"sans-serif\" font-size=\"12\" lengthAdjust=\"spacingAndGlyphs\" textLength=\"107\" x=\"204.5\" y=\"71.1074\">AnalysisObjective</text><line style=\"stroke: #383838; stroke-width: 1.5;\" x1=\"198.5\" x2=\"317.5\" y1=\"78.9375\" y2=\"78.9375\"/><text fill=\"#000000\" font-family=\"sans-serif\" font-size=\"11\" lengthAdjust=\"spacingAndGlyphs\" textLength=\"12\" x=\"203.5\" y=\"93.1479\">...</text><line style=\"stroke: #383838; stroke-width: 1.0;\" x1=\"198.5\" x2=\"317.5\" y1=\"99.7422\" y2=\"99.7422\"/></a><!--MD5=[fd4143e9d270a159db93a4ea2a975926]\n",
       "class E9--><a href=\"psysml:b24749b9-9e77-4740-bd21-7fc3830bb957\" target=\"_top\" title=\"psysml:b24749b9-9e77-4740-bd21-7fc3830bb957\" xlink:actuate=\"onRequest\" xlink:href=\"psysml:b24749b9-9e77-4740-bd21-7fc3830bb957\" xlink:show=\"new\" xlink:title=\"psysml:b24749b9-9e77-4740-bd21-7fc3830bb957\" xlink:type=\"simple\"><rect fill=\"#FFFFFF\" height=\"45.9375\" id=\"E9\" rx=\"10\" ry=\"10\" style=\"stroke: #383838; stroke-width: 1.5;\" width=\"108\" x=\"32\" y=\"51.5\"/><text fill=\"#000000\" font-family=\"sans-serif\" font-size=\"12\" font-style=\"italic\" lengthAdjust=\"spacingAndGlyphs\" textLength=\"40\" x=\"66\" y=\"67.6387\">«part»</text><text fill=\"#000000\" font-family=\"sans-serif\" font-size=\"12\" lengthAdjust=\"spacingAndGlyphs\" textLength=\"98\" x=\"35\" y=\"81.6074\">analysisContext</text><line style=\"stroke: #383838; stroke-width: 1.5;\" x1=\"33\" x2=\"139\" y1=\"89.4375\" y2=\"89.4375\"/></a><g id=\"E1.E5\"><a href=\"psysml:5016a817-b8b6-43b2-a1c9-71130e2545c5\" target=\"_top\" title=\"psysml:5016a817-b8b6-43b2-a1c9-71130e2545c5\" xlink:actuate=\"onRequest\" xlink:href=\"psysml:5016a817-b8b6-43b2-a1c9-71130e2545c5\" xlink:show=\"new\" xlink:title=\"psysml:5016a817-b8b6-43b2-a1c9-71130e2545c5\" xlink:type=\"simple\"><rect fill=\"#FFFFFF\" height=\"42.9375\" id=\"E5\" style=\"stroke: #383838; stroke-width: 1.5;\" width=\"95\" x=\"166.5\" y=\"459.5\"/><rect fill=\"#F8F8F8\" height=\"37.9375\" style=\"stroke: #383838; stroke-width: 1.5;\" width=\"95\" x=\"166.5\" y=\"459.5\"/><text fill=\"#000000\" font-family=\"sans-serif\" font-size=\"12\" font-style=\"italic\" lengthAdjust=\"spacingAndGlyphs\" textLength=\"88\" x=\"170\" y=\"475.6387\">«analysis def»</text><text fill=\"#000000\" font-family=\"sans-serif\" font-size=\"12\" lengthAdjust=\"spacingAndGlyphs\" textLength=\"81\" x=\"173.5\" y=\"489.6074\">AnalysisCase</text></a></g><!--MD5=[2156ba9850f5573cc1fc38a6a4b2f02b]\n",
       "class E7--><a href=\"psysml:317ace64-a3b7-4095-b75a-9c551641bbd2\" target=\"_top\" title=\"psysml:317ace64-a3b7-4095-b75a-9c551641bbd2\" xlink:actuate=\"onRequest\" xlink:href=\"psysml:317ace64-a3b7-4095-b75a-9c551641bbd2\" xlink:show=\"new\" xlink:title=\"psysml:317ace64-a3b7-4095-b75a-9c551641bbd2\" xlink:type=\"simple\"><rect fill=\"#FFFFFF\" height=\"52.7734\" id=\"E7\" rx=\"10\" ry=\"10\" style=\"stroke: #383838; stroke-width: 1.5;\" width=\"84\" x=\"218\" y=\"326\"/><text fill=\"#000000\" font-family=\"sans-serif\" font-size=\"12\" lengthAdjust=\"spacingAndGlyphs\" textLength=\"70\" x=\"225\" y=\"342.1387\">«objective»</text><line style=\"stroke: #383838; stroke-width: 1.5;\" x1=\"219\" x2=\"301\" y1=\"349.9688\" y2=\"349.9688\"/><text fill=\"#000000\" font-family=\"sans-serif\" font-size=\"11\" lengthAdjust=\"spacingAndGlyphs\" textLength=\"12\" x=\"224\" y=\"364.1792\">...</text><line style=\"stroke: #383838; stroke-width: 1.0;\" x1=\"219\" x2=\"301\" y1=\"370.7734\" y2=\"370.7734\"/></a><g id=\"E1.E6.E8\"><a href=\"psysml:0f757ff2-27a2-40d5-a25f-af43358ff77a\" target=\"_top\" title=\"psysml:0f757ff2-27a2-40d5-a25f-af43358ff77a\" xlink:actuate=\"onRequest\" xlink:href=\"psysml:0f757ff2-27a2-40d5-a25f-af43358ff77a\" xlink:show=\"new\" xlink:title=\"psysml:0f757ff2-27a2-40d5-a25f-af43358ff77a\" xlink:type=\"simple\"><rect fill=\"#FFFFFF\" height=\"42.9375\" id=\"E8\" rx=\"10\" ry=\"10\" style=\"stroke: #383838; stroke-width: 1.5;\" width=\"92\" x=\"91\" y=\"331\"/><rect fill=\"#F8F8F8\" height=\"37.9375\" rx=\"10\" ry=\"10\" style=\"stroke: #F8F8F8; stroke-width: 1.5;\" width=\"92\" x=\"91\" y=\"331\"/><rect fill=\"#F8F8F8\" height=\"10\" style=\"stroke: #F8F8F8; stroke-width: 1.5;\" width=\"92\" x=\"91\" y=\"358.9375\"/><rect fill=\"none\" height=\"42.9375\" id=\"E8\" rx=\"10\" ry=\"10\" style=\"stroke: #383838; stroke-width: 1.5;\" width=\"92\" x=\"91\" y=\"331\"/><text fill=\"#000000\" font-family=\"sans-serif\" font-size=\"12\" font-style=\"italic\" lengthAdjust=\"spacingAndGlyphs\" textLength=\"64\" x=\"105\" y=\"347.1387\">«analysis»</text><text fill=\"#000000\" font-family=\"sans-serif\" font-size=\"12\" lengthAdjust=\"spacingAndGlyphs\" textLength=\"81\" x=\"96.5\" y=\"361.1074\">analysisCase</text></a></g><g id=\"E1.E10\"><a href=\"psysml:9d8d7d87-8dd4-470f-9d18-cffbc3763f0c\" target=\"_top\" title=\"psysml:9d8d7d87-8dd4-470f-9d18-cffbc3763f0c\" xlink:actuate=\"onRequest\" xlink:href=\"psysml:9d8d7d87-8dd4-470f-9d18-cffbc3763f0c\" xlink:show=\"new\" xlink:title=\"psysml:9d8d7d87-8dd4-470f-9d18-cffbc3763f0c\" xlink:type=\"simple\"><rect fill=\"#FFFFFF\" height=\"42.9375\" id=\"E10\" rx=\"10\" ry=\"10\" style=\"stroke: #383838; stroke-width: 1.5;\" width=\"88\" x=\"37\" y=\"169\"/><rect fill=\"#F8F8F8\" height=\"37.9375\" rx=\"10\" ry=\"10\" style=\"stroke: #F8F8F8; stroke-width: 1.5;\" width=\"88\" x=\"37\" y=\"169\"/><rect fill=\"#F8F8F8\" height=\"10\" style=\"stroke: #F8F8F8; stroke-width: 1.5;\" width=\"88\" x=\"37\" y=\"196.9375\"/><rect fill=\"none\" height=\"42.9375\" id=\"E10\" rx=\"10\" ry=\"10\" style=\"stroke: #383838; stroke-width: 1.5;\" width=\"88\" x=\"37\" y=\"169\"/><text fill=\"#000000\" font-family=\"sans-serif\" font-size=\"12\" font-style=\"italic\" lengthAdjust=\"spacingAndGlyphs\" textLength=\"64\" x=\"49\" y=\"185.1387\">«analysis»</text><text fill=\"#000000\" font-family=\"sans-serif\" font-size=\"12\" lengthAdjust=\"spacingAndGlyphs\" textLength=\"77\" x=\"42.5\" y=\"199.1074\">analysisPlan</text></a></g><!--MD5=[05d275557350bfb9b23a4ef7222b4c39]\n",
       "link E3 to E2--><a href=\"psysml:f45a4065-dcd9-4d0e-be10-466e9a1a32d6\" target=\"_top\" title=\"psysml:f45a4065-dcd9-4d0e-be10-466e9a1a32d6\" xlink:actuate=\"onRequest\" xlink:href=\"psysml:f45a4065-dcd9-4d0e-be10-466e9a1a32d6\" xlink:show=\"new\" xlink:title=\"psysml:f45a4065-dcd9-4d0e-be10-466e9a1a32d6\" xlink:type=\"simple\"><path d=\"M307.7,504.21 C298.34,524.38 286,551 286,551 C286,551 276.2,560.12 263.83,571.63 \" fill=\"none\" id=\"E3-&gt;E2\" style=\"stroke: #383838; stroke-width: 1.0;\"/><polygon fill=\"#FFFFFF\" points=\"249.16,585.29,258.2902,567.2168,267.8334,577.4602,249.16,585.29\" style=\"stroke: #383838; stroke-width: 1.0;\"/><ellipse cx=\"263.824\" cy=\"564.7947\" fill=\"#383838\" rx=\"2\" ry=\"2\" style=\"stroke: #383838; stroke-width: 1.0;\"/><ellipse cx=\"270.6406\" cy=\"572.1115\" fill=\"#383838\" rx=\"2\" ry=\"2\" style=\"stroke: #383838; stroke-width: 1.0;\"/></a><!--MD5=[15ebcb19ae302d9b601edb458606d402]\n",
       "link E5 to E2--><a href=\"psysml:4ce798b4-e7f7-45ac-94f6-a9dc23ec95c2\" target=\"_top\" title=\"psysml:4ce798b4-e7f7-45ac-94f6-a9dc23ec95c2\" xlink:actuate=\"onRequest\" xlink:href=\"psysml:4ce798b4-e7f7-45ac-94f6-a9dc23ec95c2\" xlink:show=\"new\" xlink:title=\"psysml:4ce798b4-e7f7-45ac-94f6-a9dc23ec95c2\" xlink:type=\"simple\"><path d=\"M214,502.66 C214,522.01 214,551.52 214,575.85 \" fill=\"none\" id=\"E5-&gt;E2\" style=\"stroke: #383838; stroke-width: 1.0; stroke-dasharray: 7.0,7.0;\"/><polygon fill=\"#383838\" points=\"214,580.96,218,571.96,214,575.96,210,571.96,214,580.96\" style=\"stroke: #383838; stroke-width: 1.0;\"/><text fill=\"#000000\" font-family=\"sans-serif\" font-size=\"13\" lengthAdjust=\"spacingAndGlyphs\" textLength=\"62\" x=\"215\" y=\"547.0669\">«subject»</text></a><!--MD5=[2351f337d6de0f557b50152ba70847b5]\n",
       "link E6 to E2--><a href=\"psysml:38ee38e5-fe2f-49e8-a238-8ef961814591\" target=\"_top\" title=\"psysml:38ee38e5-fe2f-49e8-a238-8ef961814591\" xlink:actuate=\"onRequest\" xlink:href=\"psysml:38ee38e5-fe2f-49e8-a238-8ef961814591\" xlink:show=\"new\" xlink:title=\"psysml:38ee38e5-fe2f-49e8-a238-8ef961814591\" xlink:type=\"simple\"><path d=\"M65.5762,403.1982 C67.2656,411.9656 69.0563,421.2581 70.84,430.515 C77.975,467.5425 85,504 85,504 C85,504 136.72,549.7 174.66,583.23 \" fill=\"none\" id=\"E6-&gt;E2\" style=\"stroke: #383838; stroke-width: 1.0; stroke-dasharray: 7.0,7.0;\"/><polygon fill=\"#383838\" points=\"178.75,586.85,174.6638,577.8888,175.0067,583.5353,169.3602,583.8782,178.75,586.85\" style=\"stroke: #383838; stroke-width: 1.0;\"/><text fill=\"#000000\" font-family=\"sans-serif\" font-size=\"13\" lengthAdjust=\"spacingAndGlyphs\" textLength=\"62\" x=\"86\" y=\"485.5669\">«subject»</text></a><!--MD5=[1ccb2481ffa92f8d51a74ee30c51832a]\n",
       "link E8 to E5--><a href=\"psysml:cf5e8ef0-758f-412b-8419-a299a9750eac\" target=\"_top\" title=\"psysml:cf5e8ef0-758f-412b-8419-a299a9750eac\" xlink:actuate=\"onRequest\" xlink:href=\"psysml:cf5e8ef0-758f-412b-8419-a299a9750eac\" xlink:show=\"new\" xlink:title=\"psysml:cf5e8ef0-758f-412b-8419-a299a9750eac\" xlink:type=\"simple\"><path d=\"M149.54,374.11 C160.73,392.48 177.39,419.85 190.97,442.16 \" fill=\"none\" id=\"E8-&gt;E5\" style=\"stroke: #383838; stroke-width: 1.0;\"/><polygon fill=\"#FFFFFF\" points=\"201.46,459.4,185.6016,446.8099,197.5604,439.5306,201.46,459.4\" style=\"stroke: #383838; stroke-width: 1.0;\"/><ellipse cx=\"184.3463\" cy=\"440.901\" fill=\"#383838\" rx=\"2\" ry=\"2\" style=\"stroke: #383838; stroke-width: 1.0;\"/><ellipse cx=\"192.8883\" cy=\"435.7016\" fill=\"#383838\" rx=\"2\" ry=\"2\" style=\"stroke: #383838; stroke-width: 1.0;\"/></a><!--MD5=[198716bf12f04006f5c20d61bde6d80d]\n",
       "link E10 to E6--><a href=\"psysml:4172c94c-9fb8-4464-b137-e530fc31134b\" target=\"_top\" title=\"psysml:4172c94c-9fb8-4464-b137-e530fc31134b\" xlink:actuate=\"onRequest\" xlink:href=\"psysml:4172c94c-9fb8-4464-b137-e530fc31134b\" xlink:show=\"new\" xlink:title=\"psysml:4172c94c-9fb8-4464-b137-e530fc31134b\" xlink:type=\"simple\"><path d=\"M77.78,212.09 C76.12,222.725 73.9581,236.5687 71.6419,251.3978 C71.0628,255.1051 70.4741,258.8739 69.8812,262.6696 C69.7329,263.6185 69.5844,264.5691 69.4358,265.5209 C69.3614,265.9967 69.287,266.4729 69.2126,266.9493 \" fill=\"none\" id=\"E10-&gt;E6\" style=\"stroke: #383838; stroke-width: 1.0;\"/><polygon fill=\"#FFFFFF\" points=\"69.2126,266.9493,65.2291,247.0965,79.0613,249.2573,69.2126,266.9493\" style=\"stroke: #383838; stroke-width: 1.0;\"/><ellipse cx=\"68.0849\" cy=\"241.7735\" fill=\"#383838\" rx=\"2\" ry=\"2\" style=\"stroke: #383838; stroke-width: 1.0;\"/><ellipse cx=\"77.965\" cy=\"243.317\" fill=\"#383838\" rx=\"2\" ry=\"2\" style=\"stroke: #383838; stroke-width: 1.0;\"/></a><!--MD5=[23ac544a70576c3e717098101004234c]\n",
       "reverse link E9 to E10--><a href=\"psysml:9d8d7d87-8dd4-470f-9d18-cffbc3763f0c\" target=\"_top\" title=\"psysml:9d8d7d87-8dd4-470f-9d18-cffbc3763f0c\" xlink:actuate=\"onRequest\" xlink:href=\"psysml:9d8d7d87-8dd4-470f-9d18-cffbc3763f0c\" xlink:show=\"new\" xlink:title=\"psysml:9d8d7d87-8dd4-470f-9d18-cffbc3763f0c\" xlink:type=\"simple\"><path d=\"M84.45,110.8 C83.62,129.84 82.61,152.68 81.91,168.84 \" fill=\"none\" id=\"E9&lt;-E10\" style=\"stroke: #383838; stroke-width: 1.0;\"/><polygon fill=\"#383838\" points=\"85.02,97.75,80.7601,103.5684,84.4925,109.7384,88.7524,103.92,85.02,97.75\" style=\"stroke: #383838; stroke-width: 1.0;\"/></a><!--MD5=[6366452d8878a4fdb79241ab50f533c0]\n",
       "@startuml\r\n",
       "skinparam linetype polyline\r\n",
       "skinparam monochrome true\r\n",
       "skinparam classbackgroundcolor white\r\n",
       "skinparam shadowing false\r\n",
       "skinparam wrapWidth 300\r\n",
       "hide circle\r\n",
       "\r\n",
       "package \"AnalysisTest\" as E1  [[psysml:e1dfe890-ec15-4931-b288-05d8c66f0e23 ]]  {\r\n",
       "comp def \"V\" as E2  <<(T,blue) part  def>> [[psysml:e8de7c06-a552-45cc-9ef9-bdca622a4dc8 ]] {\r\n",
       "- - references - -\r\n",
       "m\r\n",
       "}\r\n",
       "comp usage \"vv: V \" as E3  <<(T,blue) part>> [[psysml:e405eddc-d04c-43ee-94c7-f68d6bd4037b ]] {\r\n",
       "}\r\n",
       "comp def \"AnalysisObjective\" as E4  <<(T,blue) requirement  def>> [[psysml:61935c6a-e9b2-427b-8e93-9f8ea2764a4f ]] {\r\n",
       "...\r\n",
       "- -\r\n",
       "}\r\n",
       "rec def \"AnalysisCase\" as E5 << analysis def>> [[psysml:5016a817-b8b6-43b2-a1c9-71130e2545c5 ]] {\r\n",
       "}\r\n",
       "rec def \"AnalysisPlan\" as E6 << analysis def>> [[psysml:0d28215e-abd0-4258-9ce4-d7487f47f154 ]] {\r\n",
       "comp usage \" <U+00AB>objective<U+00BB> \" as E7 [[psysml:317ace64-a3b7-4095-b75a-9c551641bbd2 ]] {\r\n",
       "...\r\n",
       "- -\r\n",
       "}\r\n",
       "rec usage \"analysisCase\" as E8 << analysis>> [[psysml:0f757ff2-27a2-40d5-a25f-af43358ff77a ]] {\r\n",
       "}\r\n",
       "}\r\n",
       "comp usage \"analysisContext \" as E9  <<(T,blue) part>> [[psysml:b24749b9-9e77-4740-bd21-7fc3830bb957 ]] {\r\n",
       "}\r\n",
       "rec usage \"analysisPlan\" as E10 << analysis>> [[psysml:9d8d7d87-8dd4-470f-9d18-cffbc3763f0c ]] {\r\n",
       "}\r\n",
       "}\r\n",
       "E3 - -:|> E2 [[psysml:f45a4065-dcd9-4d0e-be10-466e9a1a32d6 ]] \r\n",
       "E5 ..> E2 [[psysml:4ce798b4-e7f7-45ac-94f6-a9dc23ec95c2 ]] : <<subject>>\r\n",
       "E6 ..> E2 [[psysml:38ee38e5-fe2f-49e8-a238-8ef961814591 ]] : <<subject>>\r\n",
       "E8 - -:|> E5 [[psysml:cf5e8ef0-758f-412b-8419-a299a9750eac ]] \r\n",
       "E10 - -:|> E6 [[psysml:4172c94c-9fb8-4464-b137-e530fc31134b ]] \r\n",
       "E9 *- - E10 [[psysml:9d8d7d87-8dd4-470f-9d18-cffbc3763f0c ]] \r\n",
       "@enduml\r\n",
       "\n",
       "PlantUML version 1.2020.13(Sat Jun 13 12:26:38 UTC 2020)\n",
       "(EPL source distribution)\n",
       "Java Runtime: OpenJDK Runtime Environment\n",
       "JVM: OpenJDK 64-Bit Server VM\n",
       "Default Encoding: UTF-8\n",
       "Language: en\n",
       "Country: null\n",
       "--></g></svg>"
      ]
     },
     "execution_count": 15,
     "metadata": {},
     "output_type": "execute_result"
    }
   ],
   "source": [
    "%viz --style=\"POLYLINE\" --view=\"MIXED\" \"AnalysisTest\""
   ]
  },
  {
   "cell_type": "code",
   "execution_count": 16,
   "id": "6b59105d",
   "metadata": {
    "execution": {
     "iopub.execute_input": "2022-02-05T16:52:01.731531Z",
     "iopub.status.busy": "2022-02-05T16:52:01.731085Z",
     "iopub.status.idle": "2022-02-05T16:52:01.796345Z",
     "shell.execute_reply": "2022-02-05T16:52:01.795978Z"
    }
   },
   "outputs": [
    {
     "data": {
      "image/svg+xml": [
       "<?xml version=\"1.0\" encoding=\"UTF-8\" standalone=\"no\"?><svg xmlns=\"http://www.w3.org/2000/svg\" xmlns:xlink=\"http://www.w3.org/1999/xlink\" contentScriptType=\"application/ecmascript\" contentStyleType=\"text/css\" height=\"335px\" preserveAspectRatio=\"none\" style=\"width:879px;height:335px;\" version=\"1.1\" viewBox=\"0 0 879 335\" width=\"879px\" zoomAndPan=\"magnify\"><defs/><g><!--MD5=[fbc87193dbaf4d95561dea2c320d4a47]\n",
       "cluster E1--><a href=\"psysml:e1dfe890-ec15-4931-b288-05d8c66f0e23\" target=\"_top\" title=\"psysml:e1dfe890-ec15-4931-b288-05d8c66f0e23\" xlink:actuate=\"onRequest\" xlink:href=\"psysml:e1dfe890-ec15-4931-b288-05d8c66f0e23\" xlink:show=\"new\" xlink:title=\"psysml:e1dfe890-ec15-4931-b288-05d8c66f0e23\" xlink:type=\"simple\"><polygon fill=\"#FFFFFF\" points=\"16,6,108,6,115,28.2969,857,28.2969,857,323,16,323,16,6\" style=\"stroke: #000000; stroke-width: 1.5;\"/><line style=\"stroke: #000000; stroke-width: 1.5;\" x1=\"16\" x2=\"115\" y1=\"28.2969\" y2=\"28.2969\"/><text fill=\"#000000\" font-family=\"sans-serif\" font-size=\"14\" font-weight=\"bold\" lengthAdjust=\"spacingAndGlyphs\" textLength=\"86\" x=\"20\" y=\"20.9951\">AnalysisTest</text></a><!--MD5=[14e3b0961a2654348d326746436168a1]\n",
       "cluster E6--><a href=\"psysml:0d28215e-abd0-4258-9ce4-d7487f47f154\" target=\"_top\" title=\"psysml:0d28215e-abd0-4258-9ce4-d7487f47f154\" xlink:actuate=\"onRequest\" xlink:href=\"psysml:0d28215e-abd0-4258-9ce4-d7487f47f154\" xlink:show=\"new\" xlink:title=\"psysml:0d28215e-abd0-4258-9ce4-d7487f47f154\" xlink:type=\"simple\"><rect fill=\"#FFFFFF\" height=\"234\" id=\"E6\" style=\"stroke: #383838; stroke-width: 1.5;\" width=\"140\" x=\"357\" y=\"57\"/><rect fill=\"#F8F8F8\" height=\"37.9375\" style=\"stroke: #383838; stroke-width: 1.5;\" width=\"140\" x=\"357\" y=\"57\"/><text fill=\"#000000\" font-family=\"sans-serif\" font-size=\"12\" font-style=\"italic\" lengthAdjust=\"spacingAndGlyphs\" textLength=\"88\" x=\"383\" y=\"73.1387\">«analysis def»</text><text fill=\"#000000\" font-family=\"sans-serif\" font-size=\"12\" lengthAdjust=\"spacingAndGlyphs\" textLength=\"77\" x=\"388.5\" y=\"87.1074\">AnalysisPlan</text></a><!--MD5=[b4997ac47864f28c2f74865a473b2911]\n",
       "class E2--><a href=\"psysml:e8de7c06-a552-45cc-9ef9-bdca622a4dc8\" target=\"_top\" title=\"psysml:e8de7c06-a552-45cc-9ef9-bdca622a4dc8\" xlink:actuate=\"onRequest\" xlink:href=\"psysml:e8de7c06-a552-45cc-9ef9-bdca622a4dc8\" xlink:show=\"new\" xlink:title=\"psysml:e8de7c06-a552-45cc-9ef9-bdca622a4dc8\" xlink:type=\"simple\"><rect fill=\"#FFFFFF\" height=\"75.5469\" id=\"E2\" style=\"stroke: #383838; stroke-width: 1.5;\" width=\"70\" x=\"771\" y=\"160\"/><text fill=\"#000000\" font-family=\"sans-serif\" font-size=\"12\" font-style=\"italic\" lengthAdjust=\"spacingAndGlyphs\" textLength=\"68\" x=\"772\" y=\"176.1387\">«part  def»</text><text fill=\"#000000\" font-family=\"sans-serif\" font-size=\"12\" lengthAdjust=\"spacingAndGlyphs\" textLength=\"8\" x=\"802\" y=\"190.1074\">V</text><line style=\"stroke: #383838; stroke-width: 1.5;\" x1=\"772\" x2=\"840\" y1=\"197.9375\" y2=\"197.9375\"/><text fill=\"#000000\" font-family=\"sans-serif\" font-size=\"11\" lengthAdjust=\"spacingAndGlyphs\" textLength=\"11\" x=\"777\" y=\"228.9526\">m</text><line style=\"stroke: #383838; stroke-width: 1.0;\" x1=\"772\" x2=\"775\" y1=\"212.3398\" y2=\"212.3398\"/><text fill=\"#000000\" font-family=\"sans-serif\" font-size=\"11\" lengthAdjust=\"spacingAndGlyphs\" textLength=\"62\" x=\"775\" y=\"215.6479\">references</text><line style=\"stroke: #383838; stroke-width: 1.0;\" x1=\"837\" x2=\"840\" y1=\"212.3398\" y2=\"212.3398\"/></a><!--MD5=[09b614a08d8cba4a07c9adeb5e0fee81]\n",
       "class E3--><a href=\"psysml:e405eddc-d04c-43ee-94c7-f68d6bd4037b\" target=\"_top\" title=\"psysml:e405eddc-d04c-43ee-94c7-f68d6bd4037b\" xlink:actuate=\"onRequest\" xlink:href=\"psysml:e405eddc-d04c-43ee-94c7-f68d6bd4037b\" xlink:show=\"new\" xlink:title=\"psysml:e405eddc-d04c-43ee-94c7-f68d6bd4037b\" xlink:type=\"simple\"><rect fill=\"#FFFFFF\" height=\"45.9375\" id=\"E3\" rx=\"10\" ry=\"10\" style=\"stroke: #383838; stroke-width: 1.5;\" width=\"42\" x=\"578.5\" y=\"95\"/><text fill=\"#000000\" font-family=\"sans-serif\" font-size=\"12\" font-style=\"italic\" lengthAdjust=\"spacingAndGlyphs\" textLength=\"40\" x=\"579.5\" y=\"111.1387\">«part»</text><text fill=\"#000000\" font-family=\"sans-serif\" font-size=\"12\" lengthAdjust=\"spacingAndGlyphs\" textLength=\"28\" x=\"583.5\" y=\"125.1074\">vv: V</text><line style=\"stroke: #383838; stroke-width: 1.5;\" x1=\"579.5\" x2=\"619.5\" y1=\"132.9375\" y2=\"132.9375\"/></a><!--MD5=[ebbe1d658d1005bcc118a6aa81145e00]\n",
       "class E4--><a href=\"psysml:61935c6a-e9b2-427b-8e93-9f8ea2764a4f\" target=\"_top\" title=\"psysml:61935c6a-e9b2-427b-8e93-9f8ea2764a4f\" xlink:actuate=\"onRequest\" xlink:href=\"psysml:61935c6a-e9b2-427b-8e93-9f8ea2764a4f\" xlink:show=\"new\" xlink:title=\"psysml:61935c6a-e9b2-427b-8e93-9f8ea2764a4f\" xlink:type=\"simple\"><rect fill=\"#FFFFFF\" height=\"66.7422\" id=\"E4\" style=\"stroke: #383838; stroke-width: 1.5;\" width=\"121\" x=\"32\" y=\"99.5\"/><text fill=\"#000000\" font-family=\"sans-serif\" font-size=\"12\" font-style=\"italic\" lengthAdjust=\"spacingAndGlyphs\" textLength=\"119\" x=\"33\" y=\"115.6387\">«requirement  def»</text><text fill=\"#000000\" font-family=\"sans-serif\" font-size=\"12\" lengthAdjust=\"spacingAndGlyphs\" textLength=\"107\" x=\"39\" y=\"129.6074\">AnalysisObjective</text><line style=\"stroke: #383838; stroke-width: 1.5;\" x1=\"33\" x2=\"152\" y1=\"137.4375\" y2=\"137.4375\"/><text fill=\"#000000\" font-family=\"sans-serif\" font-size=\"11\" lengthAdjust=\"spacingAndGlyphs\" textLength=\"12\" x=\"38\" y=\"151.6479\">...</text><line style=\"stroke: #383838; stroke-width: 1.0;\" x1=\"33\" x2=\"152\" y1=\"158.2422\" y2=\"158.2422\"/></a><!--MD5=[fd4143e9d270a159db93a4ea2a975926]\n",
       "class E9--><a href=\"psysml:b24749b9-9e77-4740-bd21-7fc3830bb957\" target=\"_top\" title=\"psysml:b24749b9-9e77-4740-bd21-7fc3830bb957\" xlink:actuate=\"onRequest\" xlink:href=\"psysml:b24749b9-9e77-4740-bd21-7fc3830bb957\" xlink:show=\"new\" xlink:title=\"psysml:b24749b9-9e77-4740-bd21-7fc3830bb957\" xlink:type=\"simple\"><rect fill=\"#FFFFFF\" height=\"45.9375\" id=\"E9\" rx=\"10\" ry=\"10\" style=\"stroke: #383838; stroke-width: 1.5;\" width=\"108\" x=\"38.5\" y=\"260\"/><text fill=\"#000000\" font-family=\"sans-serif\" font-size=\"12\" font-style=\"italic\" lengthAdjust=\"spacingAndGlyphs\" textLength=\"40\" x=\"72.5\" y=\"276.1387\">«part»</text><text fill=\"#000000\" font-family=\"sans-serif\" font-size=\"12\" lengthAdjust=\"spacingAndGlyphs\" textLength=\"98\" x=\"41.5\" y=\"290.1074\">analysisContext</text><line style=\"stroke: #383838; stroke-width: 1.5;\" x1=\"39.5\" x2=\"145.5\" y1=\"297.9375\" y2=\"297.9375\"/></a><g id=\"E1.E5\"><a href=\"psysml:5016a817-b8b6-43b2-a1c9-71130e2545c5\" target=\"_top\" title=\"psysml:5016a817-b8b6-43b2-a1c9-71130e2545c5\" xlink:actuate=\"onRequest\" xlink:href=\"psysml:5016a817-b8b6-43b2-a1c9-71130e2545c5\" xlink:show=\"new\" xlink:title=\"psysml:5016a817-b8b6-43b2-a1c9-71130e2545c5\" xlink:type=\"simple\"><rect fill=\"#FFFFFF\" height=\"42.9375\" id=\"E5\" style=\"stroke: #383838; stroke-width: 1.5;\" width=\"95\" x=\"552\" y=\"176.5\"/><rect fill=\"#F8F8F8\" height=\"37.9375\" style=\"stroke: #383838; stroke-width: 1.5;\" width=\"95\" x=\"552\" y=\"176.5\"/><text fill=\"#000000\" font-family=\"sans-serif\" font-size=\"12\" font-style=\"italic\" lengthAdjust=\"spacingAndGlyphs\" textLength=\"88\" x=\"555.5\" y=\"192.6387\">«analysis def»</text><text fill=\"#000000\" font-family=\"sans-serif\" font-size=\"12\" lengthAdjust=\"spacingAndGlyphs\" textLength=\"81\" x=\"559\" y=\"206.6074\">AnalysisCase</text></a></g><!--MD5=[2156ba9850f5573cc1fc38a6a4b2f02b]\n",
       "class E7--><a href=\"psysml:317ace64-a3b7-4095-b75a-9c551641bbd2\" target=\"_top\" title=\"psysml:317ace64-a3b7-4095-b75a-9c551641bbd2\" xlink:actuate=\"onRequest\" xlink:href=\"psysml:317ace64-a3b7-4095-b75a-9c551641bbd2\" xlink:show=\"new\" xlink:title=\"psysml:317ace64-a3b7-4095-b75a-9c551641bbd2\" xlink:type=\"simple\"><rect fill=\"#FFFFFF\" height=\"52.7734\" id=\"E7\" rx=\"10\" ry=\"10\" style=\"stroke: #383838; stroke-width: 1.5;\" width=\"84\" x=\"385\" y=\"116.5\"/><text fill=\"#000000\" font-family=\"sans-serif\" font-size=\"12\" lengthAdjust=\"spacingAndGlyphs\" textLength=\"70\" x=\"392\" y=\"132.6387\">«objective»</text><line style=\"stroke: #383838; stroke-width: 1.5;\" x1=\"386\" x2=\"468\" y1=\"140.4688\" y2=\"140.4688\"/><text fill=\"#000000\" font-family=\"sans-serif\" font-size=\"11\" lengthAdjust=\"spacingAndGlyphs\" textLength=\"12\" x=\"391\" y=\"154.6792\">...</text><line style=\"stroke: #383838; stroke-width: 1.0;\" x1=\"386\" x2=\"468\" y1=\"161.2734\" y2=\"161.2734\"/></a><g id=\"E1.E6.E8\"><a href=\"psysml:0f757ff2-27a2-40d5-a25f-af43358ff77a\" target=\"_top\" title=\"psysml:0f757ff2-27a2-40d5-a25f-af43358ff77a\" xlink:actuate=\"onRequest\" xlink:href=\"psysml:0f757ff2-27a2-40d5-a25f-af43358ff77a\" xlink:show=\"new\" xlink:title=\"psysml:0f757ff2-27a2-40d5-a25f-af43358ff77a\" xlink:type=\"simple\"><rect fill=\"#FFFFFF\" height=\"42.9375\" id=\"E8\" rx=\"10\" ry=\"10\" style=\"stroke: #383838; stroke-width: 1.5;\" width=\"92\" x=\"381\" y=\"204.5\"/><rect fill=\"#F8F8F8\" height=\"37.9375\" rx=\"10\" ry=\"10\" style=\"stroke: #F8F8F8; stroke-width: 1.5;\" width=\"92\" x=\"381\" y=\"204.5\"/><rect fill=\"#F8F8F8\" height=\"10\" style=\"stroke: #F8F8F8; stroke-width: 1.5;\" width=\"92\" x=\"381\" y=\"232.4375\"/><rect fill=\"none\" height=\"42.9375\" id=\"E8\" rx=\"10\" ry=\"10\" style=\"stroke: #383838; stroke-width: 1.5;\" width=\"92\" x=\"381\" y=\"204.5\"/><text fill=\"#000000\" font-family=\"sans-serif\" font-size=\"12\" font-style=\"italic\" lengthAdjust=\"spacingAndGlyphs\" textLength=\"64\" x=\"395\" y=\"220.6387\">«analysis»</text><text fill=\"#000000\" font-family=\"sans-serif\" font-size=\"12\" lengthAdjust=\"spacingAndGlyphs\" textLength=\"81\" x=\"386.5\" y=\"234.6074\">analysisCase</text></a></g><g id=\"E1.E10\"><a href=\"psysml:9d8d7d87-8dd4-470f-9d18-cffbc3763f0c\" target=\"_top\" title=\"psysml:9d8d7d87-8dd4-470f-9d18-cffbc3763f0c\" xlink:actuate=\"onRequest\" xlink:href=\"psysml:9d8d7d87-8dd4-470f-9d18-cffbc3763f0c\" xlink:show=\"new\" xlink:title=\"psysml:9d8d7d87-8dd4-470f-9d18-cffbc3763f0c\" xlink:type=\"simple\"><rect fill=\"#FFFFFF\" height=\"42.9375\" id=\"E10\" rx=\"10\" ry=\"10\" style=\"stroke: #383838; stroke-width: 1.5;\" width=\"88\" x=\"214\" y=\"261.5\"/><rect fill=\"#F8F8F8\" height=\"37.9375\" rx=\"10\" ry=\"10\" style=\"stroke: #F8F8F8; stroke-width: 1.5;\" width=\"88\" x=\"214\" y=\"261.5\"/><rect fill=\"#F8F8F8\" height=\"10\" style=\"stroke: #F8F8F8; stroke-width: 1.5;\" width=\"88\" x=\"214\" y=\"289.4375\"/><rect fill=\"none\" height=\"42.9375\" id=\"E10\" rx=\"10\" ry=\"10\" style=\"stroke: #383838; stroke-width: 1.5;\" width=\"88\" x=\"214\" y=\"261.5\"/><text fill=\"#000000\" font-family=\"sans-serif\" font-size=\"12\" font-style=\"italic\" lengthAdjust=\"spacingAndGlyphs\" textLength=\"64\" x=\"226\" y=\"277.6387\">«analysis»</text><text fill=\"#000000\" font-family=\"sans-serif\" font-size=\"12\" lengthAdjust=\"spacingAndGlyphs\" textLength=\"77\" x=\"219.5\" y=\"291.6074\">analysisPlan</text></a></g><!--MD5=[05d275557350bfb9b23a4ef7222b4c39]\n",
       "link E3 to E2--><a href=\"psysml:f45a4065-dcd9-4d0e-be10-466e9a1a32d6\" target=\"_top\" title=\"psysml:f45a4065-dcd9-4d0e-be10-466e9a1a32d6\" xlink:actuate=\"onRequest\" xlink:href=\"psysml:f45a4065-dcd9-4d0e-be10-466e9a1a32d6\" xlink:show=\"new\" xlink:title=\"psysml:f45a4065-dcd9-4d0e-be10-466e9a1a32d6\" xlink:type=\"simple\"><path d=\"M620.86,125.96 C651.19,137.83 709.27,160.55 752.12,177.31 \" fill=\"none\" id=\"E3-&gt;E2\" style=\"stroke: #383838; stroke-width: 1.0;\"/><polygon fill=\"#FFFFFF\" points=\"770.88,184.65,750.6356,184.2434,755.7383,171.2064,770.88,184.65\" style=\"stroke: #383838; stroke-width: 1.0;\"/><ellipse cx=\"746.0567\" cy=\"180.3034\" fill=\"#383838\" rx=\"2\" ry=\"2\" style=\"stroke: #383838; stroke-width: 1.0;\"/><ellipse cx=\"749.7015\" cy=\"170.9913\" fill=\"#383838\" rx=\"2\" ry=\"2\" style=\"stroke: #383838; stroke-width: 1.0;\"/></a><!--MD5=[15ebcb19ae302d9b601edb458606d402]\n",
       "link E5 to E2--><a href=\"psysml:4ce798b4-e7f7-45ac-94f6-a9dc23ec95c2\" target=\"_top\" title=\"psysml:4ce798b4-e7f7-45ac-94f6-a9dc23ec95c2\" xlink:actuate=\"onRequest\" xlink:href=\"psysml:4ce798b4-e7f7-45ac-94f6-a9dc23ec95c2\" xlink:show=\"new\" xlink:title=\"psysml:4ce798b4-e7f7-45ac-94f6-a9dc23ec95c2\" xlink:type=\"simple\"><path d=\"M647.16,198 C682.97,198 731.84,198 765.68,198 \" fill=\"none\" id=\"E5-&gt;E2\" style=\"stroke: #383838; stroke-width: 1.0; stroke-dasharray: 7.0,7.0;\"/><polygon fill=\"#383838\" points=\"770.97,198,761.97,194,765.97,198,761.97,202,770.97,198\" style=\"stroke: #383838; stroke-width: 1.0;\"/><text fill=\"#000000\" font-family=\"sans-serif\" font-size=\"13\" lengthAdjust=\"spacingAndGlyphs\" textLength=\"62\" x=\"678\" y=\"194.0669\">«subject»</text></a><!--MD5=[2351f337d6de0f557b50152ba70847b5]\n",
       "link E6 to E2--><a href=\"psysml:38ee38e5-fe2f-49e8-a238-8ef961814591\" target=\"_top\" title=\"psysml:38ee38e5-fe2f-49e8-a238-8ef961814591\" xlink:actuate=\"onRequest\" xlink:href=\"psysml:38ee38e5-fe2f-49e8-a238-8ef961814591\" xlink:show=\"new\" xlink:title=\"psysml:38ee38e5-fe2f-49e8-a238-8ef961814591\" xlink:type=\"simple\"><path d=\"M497.8143,277.5079 C498.4614,277.4432 499.1115,277.3779 499.7644,277.3118 C501.0703,277.1798 502.3878,277.045 503.7163,276.9075 C546.2275,272.5075 600.015,265.305 647,254 C688.5,244.02 734.3,227.09 765.86,214.46 \" fill=\"none\" id=\"E6-&gt;E2\" style=\"stroke: #383838; stroke-width: 1.0; stroke-dasharray: 7.0,7.0;\"/><polygon fill=\"#383838\" points=\"770.8,212.47,760.9581,212.0986,766.1576,214.327,763.9293,219.5264,770.8,212.47\" style=\"stroke: #383838; stroke-width: 1.0;\"/><text fill=\"#000000\" font-family=\"sans-serif\" font-size=\"13\" lengthAdjust=\"spacingAndGlyphs\" textLength=\"62\" x=\"568.5\" y=\"250.0669\">«subject»</text></a><!--MD5=[1ccb2481ffa92f8d51a74ee30c51832a]\n",
       "link E8 to E5--><a href=\"psysml:cf5e8ef0-758f-412b-8419-a299a9750eac\" target=\"_top\" title=\"psysml:cf5e8ef0-758f-412b-8419-a299a9750eac\" xlink:actuate=\"onRequest\" xlink:href=\"psysml:cf5e8ef0-758f-412b-8419-a299a9750eac\" xlink:show=\"new\" xlink:title=\"psysml:cf5e8ef0-758f-412b-8419-a299a9750eac\" xlink:type=\"simple\"><path d=\"M473.24,218.57 C491.26,215.61 512.35,212.15 532.04,208.91 \" fill=\"none\" id=\"E8-&gt;E5\" style=\"stroke: #383838; stroke-width: 1.0;\"/><polygon fill=\"#FFFFFF\" points=\"551.86,205.66,534.2388,215.6346,531.9794,201.8181,551.86,205.66\" style=\"stroke: #383838; stroke-width: 1.0;\"/><ellipse cx=\"528.2907\" cy=\"214.5807\" fill=\"#383838\" rx=\"2\" ry=\"2\" style=\"stroke: #383838; stroke-width: 1.0;\"/><ellipse cx=\"526.6769\" cy=\"204.7118\" fill=\"#383838\" rx=\"2\" ry=\"2\" style=\"stroke: #383838; stroke-width: 1.0;\"/></a><!--MD5=[198716bf12f04006f5c20d61bde6d80d]\n",
       "link E10 to E6--><a href=\"psysml:4172c94c-9fb8-4464-b137-e530fc31134b\" target=\"_top\" title=\"psysml:4172c94c-9fb8-4464-b137-e530fc31134b\" xlink:actuate=\"onRequest\" xlink:href=\"psysml:4172c94c-9fb8-4464-b137-e530fc31134b\" xlink:show=\"new\" xlink:title=\"psysml:4172c94c-9fb8-4464-b137-e530fc31134b\" xlink:type=\"simple\"><path d=\"M302.01,283 C314.185,283 327.8769,283 341.6017,283 C345.0329,283 348.4662,283 351.8783,283 C353.5844,283 355.2852,283 356.9778,283 \" fill=\"none\" id=\"E10-&gt;E6\" style=\"stroke: #383838; stroke-width: 1.0;\"/><polygon fill=\"#FFFFFF\" points=\"356.9778,283,337.9778,290,337.9778,276,356.9778,283\" style=\"stroke: #383838; stroke-width: 1.0;\"/><ellipse cx=\"332.2778\" cy=\"288\" fill=\"#383838\" rx=\"2\" ry=\"2\" style=\"stroke: #383838; stroke-width: 1.0;\"/><ellipse cx=\"332.2778\" cy=\"278\" fill=\"#383838\" rx=\"2\" ry=\"2\" style=\"stroke: #383838; stroke-width: 1.0;\"/></a><!--MD5=[23ac544a70576c3e717098101004234c]\n",
       "reverse link E9 to E10--><a href=\"psysml:9d8d7d87-8dd4-470f-9d18-cffbc3763f0c\" target=\"_top\" title=\"psysml:9d8d7d87-8dd4-470f-9d18-cffbc3763f0c\" xlink:actuate=\"onRequest\" xlink:href=\"psysml:9d8d7d87-8dd4-470f-9d18-cffbc3763f0c\" xlink:show=\"new\" xlink:title=\"psysml:9d8d7d87-8dd4-470f-9d18-cffbc3763f0c\" xlink:type=\"simple\"><path d=\"M159.67,283 C177.98,283 197.37,283 213.99,283 \" fill=\"none\" id=\"E9&lt;-E10\" style=\"stroke: #383838; stroke-width: 1.0;\"/><polygon fill=\"#383838\" points=\"146.58,283,152.58,287,158.58,283,152.58,279,146.58,283\" style=\"stroke: #383838; stroke-width: 1.0;\"/></a><!--MD5=[e99bf5e1e0666379b176fbf8767fe457]\n",
       "@startuml\r\n",
       "left to right direction\r\n",
       "skinparam monochrome true\r\n",
       "skinparam classbackgroundcolor white\r\n",
       "skinparam shadowing false\r\n",
       "skinparam wrapWidth 300\r\n",
       "hide circle\r\n",
       "\r\n",
       "package \"AnalysisTest\" as E1  [[psysml:e1dfe890-ec15-4931-b288-05d8c66f0e23 ]]  {\r\n",
       "comp def \"V\" as E2  <<(T,blue) part  def>> [[psysml:e8de7c06-a552-45cc-9ef9-bdca622a4dc8 ]] {\r\n",
       "- - references - -\r\n",
       "m\r\n",
       "}\r\n",
       "comp usage \"vv: V \" as E3  <<(T,blue) part>> [[psysml:e405eddc-d04c-43ee-94c7-f68d6bd4037b ]] {\r\n",
       "}\r\n",
       "comp def \"AnalysisObjective\" as E4  <<(T,blue) requirement  def>> [[psysml:61935c6a-e9b2-427b-8e93-9f8ea2764a4f ]] {\r\n",
       "...\r\n",
       "- -\r\n",
       "}\r\n",
       "rec def \"AnalysisCase\" as E5 << analysis def>> [[psysml:5016a817-b8b6-43b2-a1c9-71130e2545c5 ]] {\r\n",
       "}\r\n",
       "rec def \"AnalysisPlan\" as E6 << analysis def>> [[psysml:0d28215e-abd0-4258-9ce4-d7487f47f154 ]] {\r\n",
       "comp usage \" <U+00AB>objective<U+00BB> \" as E7 [[psysml:317ace64-a3b7-4095-b75a-9c551641bbd2 ]] {\r\n",
       "...\r\n",
       "- -\r\n",
       "}\r\n",
       "rec usage \"analysisCase\" as E8 << analysis>> [[psysml:0f757ff2-27a2-40d5-a25f-af43358ff77a ]] {\r\n",
       "}\r\n",
       "}\r\n",
       "comp usage \"analysisContext \" as E9  <<(T,blue) part>> [[psysml:b24749b9-9e77-4740-bd21-7fc3830bb957 ]] {\r\n",
       "}\r\n",
       "rec usage \"analysisPlan\" as E10 << analysis>> [[psysml:9d8d7d87-8dd4-470f-9d18-cffbc3763f0c ]] {\r\n",
       "}\r\n",
       "}\r\n",
       "E3 - -:|> E2 [[psysml:f45a4065-dcd9-4d0e-be10-466e9a1a32d6 ]] \r\n",
       "E5 ..> E2 [[psysml:4ce798b4-e7f7-45ac-94f6-a9dc23ec95c2 ]] : <<subject>>\r\n",
       "E6 ..> E2 [[psysml:38ee38e5-fe2f-49e8-a238-8ef961814591 ]] : <<subject>>\r\n",
       "E8 - -:|> E5 [[psysml:cf5e8ef0-758f-412b-8419-a299a9750eac ]] \r\n",
       "E10 - -:|> E6 [[psysml:4172c94c-9fb8-4464-b137-e530fc31134b ]] \r\n",
       "E9 *- - E10 [[psysml:9d8d7d87-8dd4-470f-9d18-cffbc3763f0c ]] \r\n",
       "@enduml\r\n",
       "\n",
       "PlantUML version 1.2020.13(Sat Jun 13 12:26:38 UTC 2020)\n",
       "(EPL source distribution)\n",
       "Java Runtime: OpenJDK Runtime Environment\n",
       "JVM: OpenJDK 64-Bit Server VM\n",
       "Default Encoding: UTF-8\n",
       "Language: en\n",
       "Country: null\n",
       "--></g></svg>"
      ]
     },
     "execution_count": 16,
     "metadata": {},
     "output_type": "execute_result"
    }
   ],
   "source": [
    "%viz --style=\"LR\" --view=\"Default\" \"AnalysisTest\""
   ]
  },
  {
   "cell_type": "code",
   "execution_count": 17,
   "id": "b1e78ed0",
   "metadata": {
    "execution": {
     "iopub.execute_input": "2022-02-05T16:52:01.845750Z",
     "iopub.status.busy": "2022-02-05T16:52:01.845342Z",
     "iopub.status.idle": "2022-02-05T16:52:01.914649Z",
     "shell.execute_reply": "2022-02-05T16:52:01.914311Z"
    }
   },
   "outputs": [
    {
     "data": {
      "image/svg+xml": [
       "<?xml version=\"1.0\" encoding=\"UTF-8\" standalone=\"no\"?><svg xmlns=\"http://www.w3.org/2000/svg\" xmlns:xlink=\"http://www.w3.org/1999/xlink\" contentScriptType=\"application/ecmascript\" contentStyleType=\"text/css\" height=\"366px\" preserveAspectRatio=\"none\" style=\"width:1686px;height:366px;\" version=\"1.1\" viewBox=\"0 0 1686 366\" width=\"1686px\" zoomAndPan=\"magnify\"><defs/><g><!--MD5=[fbc87193dbaf4d95561dea2c320d4a47]\n",
       "cluster E1--><a href=\"psysml:e1dfe890-ec15-4931-b288-05d8c66f0e23\" target=\"_top\" title=\"psysml:e1dfe890-ec15-4931-b288-05d8c66f0e23\" xlink:actuate=\"onRequest\" xlink:href=\"psysml:e1dfe890-ec15-4931-b288-05d8c66f0e23\" xlink:show=\"new\" xlink:title=\"psysml:e1dfe890-ec15-4931-b288-05d8c66f0e23\" xlink:type=\"simple\"><polygon fill=\"#FFFFFF\" points=\"16,6,108,6,115,28.2969,1664,28.2969,1664,332,16,332,16,6\" style=\"stroke: #000000; stroke-width: 1.5;\"/><line style=\"stroke: #000000; stroke-width: 1.5;\" x1=\"16\" x2=\"115\" y1=\"28.2969\" y2=\"28.2969\"/><text fill=\"#000000\" font-family=\"sans-serif\" font-size=\"14\" font-weight=\"bold\" lengthAdjust=\"spacingAndGlyphs\" textLength=\"86\" x=\"20\" y=\"20.9951\">AnalysisTest</text></a><!--MD5=[b4997ac47864f28c2f74865a473b2911]\n",
       "class E2--><a href=\"psysml:e8de7c06-a552-45cc-9ef9-bdca622a4dc8\" target=\"_top\" title=\"psysml:e8de7c06-a552-45cc-9ef9-bdca622a4dc8\" xlink:actuate=\"onRequest\" xlink:href=\"psysml:e8de7c06-a552-45cc-9ef9-bdca622a4dc8\" xlink:show=\"new\" xlink:title=\"psysml:e8de7c06-a552-45cc-9ef9-bdca622a4dc8\" xlink:type=\"simple\"><rect fill=\"#FFFFFF\" height=\"75.5469\" id=\"E2\" style=\"stroke: #383838; stroke-width: 1.5;\" width=\"70\" x=\"1359\" y=\"138\"/><text fill=\"#000000\" font-family=\"sans-serif\" font-size=\"12\" font-style=\"italic\" lengthAdjust=\"spacingAndGlyphs\" textLength=\"68\" x=\"1360\" y=\"154.1387\">«part  def»</text><text fill=\"#000000\" font-family=\"sans-serif\" font-size=\"12\" lengthAdjust=\"spacingAndGlyphs\" textLength=\"8\" x=\"1390\" y=\"168.1074\">V</text><line style=\"stroke: #383838; stroke-width: 1.5;\" x1=\"1360\" x2=\"1428\" y1=\"175.9375\" y2=\"175.9375\"/><text fill=\"#000000\" font-family=\"sans-serif\" font-size=\"11\" lengthAdjust=\"spacingAndGlyphs\" textLength=\"11\" x=\"1365\" y=\"206.9526\">m</text><line style=\"stroke: #383838; stroke-width: 1.0;\" x1=\"1360\" x2=\"1363\" y1=\"190.3398\" y2=\"190.3398\"/><text fill=\"#000000\" font-family=\"sans-serif\" font-size=\"11\" lengthAdjust=\"spacingAndGlyphs\" textLength=\"62\" x=\"1363\" y=\"193.6479\">references</text><line style=\"stroke: #383838; stroke-width: 1.0;\" x1=\"1425\" x2=\"1428\" y1=\"190.3398\" y2=\"190.3398\"/></a><!--MD5=[09b614a08d8cba4a07c9adeb5e0fee81]\n",
       "class E3--><a href=\"psysml:e405eddc-d04c-43ee-94c7-f68d6bd4037b\" target=\"_top\" title=\"psysml:e405eddc-d04c-43ee-94c7-f68d6bd4037b\" xlink:actuate=\"onRequest\" xlink:href=\"psysml:e405eddc-d04c-43ee-94c7-f68d6bd4037b\" xlink:show=\"new\" xlink:title=\"psysml:e405eddc-d04c-43ee-94c7-f68d6bd4037b\" xlink:type=\"simple\"><rect fill=\"#FFFFFF\" height=\"45.9375\" id=\"E3\" rx=\"10\" ry=\"10\" style=\"stroke: #383838; stroke-width: 1.5;\" width=\"42\" x=\"1098\" y=\"152\"/><text fill=\"#000000\" font-family=\"sans-serif\" font-size=\"12\" font-style=\"italic\" lengthAdjust=\"spacingAndGlyphs\" textLength=\"40\" x=\"1099\" y=\"168.1387\">«part»</text><text fill=\"#000000\" font-family=\"sans-serif\" font-size=\"12\" lengthAdjust=\"spacingAndGlyphs\" textLength=\"28\" x=\"1103\" y=\"182.1074\">vv: V</text><line style=\"stroke: #383838; stroke-width: 1.5;\" x1=\"1099\" x2=\"1139\" y1=\"189.9375\" y2=\"189.9375\"/></a><!--MD5=[ebbe1d658d1005bcc118a6aa81145e00]\n",
       "class E4--><a href=\"psysml:61935c6a-e9b2-427b-8e93-9f8ea2764a4f\" target=\"_top\" title=\"psysml:61935c6a-e9b2-427b-8e93-9f8ea2764a4f\" xlink:actuate=\"onRequest\" xlink:href=\"psysml:61935c6a-e9b2-427b-8e93-9f8ea2764a4f\" xlink:show=\"new\" xlink:title=\"psysml:61935c6a-e9b2-427b-8e93-9f8ea2764a4f\" xlink:type=\"simple\"><rect fill=\"#FFFFFF\" height=\"66.7422\" id=\"E4\" style=\"stroke: #383838; stroke-width: 1.5;\" width=\"121\" x=\"1527\" y=\"44.5\"/><text fill=\"#000000\" font-family=\"sans-serif\" font-size=\"12\" font-style=\"italic\" lengthAdjust=\"spacingAndGlyphs\" textLength=\"119\" x=\"1528\" y=\"60.6387\">«requirement  def»</text><text fill=\"#000000\" font-family=\"sans-serif\" font-size=\"12\" lengthAdjust=\"spacingAndGlyphs\" textLength=\"107\" x=\"1534\" y=\"74.6074\">AnalysisObjective</text><line style=\"stroke: #383838; stroke-width: 1.5;\" x1=\"1528\" x2=\"1647\" y1=\"82.4375\" y2=\"82.4375\"/><text fill=\"#000000\" font-family=\"sans-serif\" font-size=\"11\" lengthAdjust=\"spacingAndGlyphs\" textLength=\"12\" x=\"1533\" y=\"96.6479\">...</text><line style=\"stroke: #383838; stroke-width: 1.0;\" x1=\"1528\" x2=\"1647\" y1=\"103.2422\" y2=\"103.2422\"/></a><!--MD5=[270fce915f116d4de14055a7c1d9a0f3]\n",
       "class E5--><a href=\"psysml:5016a817-b8b6-43b2-a1c9-71130e2545c5\" target=\"_top\" title=\"psysml:5016a817-b8b6-43b2-a1c9-71130e2545c5\" xlink:actuate=\"onRequest\" xlink:href=\"psysml:5016a817-b8b6-43b2-a1c9-71130e2545c5\" xlink:show=\"new\" xlink:title=\"psysml:5016a817-b8b6-43b2-a1c9-71130e2545c5\" xlink:type=\"simple\"><rect fill=\"#FFFFFF\" height=\"75.5469\" id=\"E5\" style=\"stroke: #383838; stroke-width: 1.5;\" width=\"136\" x=\"1051\" y=\"41\"/><text fill=\"#000000\" font-family=\"sans-serif\" font-size=\"12\" font-style=\"italic\" lengthAdjust=\"spacingAndGlyphs\" textLength=\"88\" x=\"1075\" y=\"57.1387\">«analysis def»</text><text fill=\"#000000\" font-family=\"sans-serif\" font-size=\"12\" lengthAdjust=\"spacingAndGlyphs\" textLength=\"81\" x=\"1078.5\" y=\"71.1074\">AnalysisCase</text><line style=\"stroke: #383838; stroke-width: 1.5;\" x1=\"1052\" x2=\"1186\" y1=\"78.9375\" y2=\"78.9375\"/><text fill=\"#000000\" font-family=\"sans-serif\" font-size=\"11\" lengthAdjust=\"spacingAndGlyphs\" textLength=\"43\" x=\"1057\" y=\"109.9526\">{ v.m }</text><line style=\"stroke: #383838; stroke-width: 1.0;\" x1=\"1052\" x2=\"1055\" y1=\"93.3398\" y2=\"93.3398\"/><text fill=\"#000000\" font-family=\"sans-serif\" font-size=\"11\" lengthAdjust=\"spacingAndGlyphs\" textLength=\"128\" x=\"1055\" y=\"96.6479\">path step expressions</text><line style=\"stroke: #383838; stroke-width: 1.0;\" x1=\"1183\" x2=\"1186\" y1=\"93.3398\" y2=\"93.3398\"/></a><!--MD5=[60a26617385b1d2d0262a64233df1f8d]\n",
       "class E6--><a href=\"psysml:8ed6d9d8-007f-466a-ada9-4e78a60ebf86\" target=\"_top\" title=\"psysml:8ed6d9d8-007f-466a-ada9-4e78a60ebf86\" xlink:actuate=\"onRequest\" xlink:href=\"psysml:8ed6d9d8-007f-466a-ada9-4e78a60ebf86\" xlink:show=\"new\" xlink:title=\"psysml:8ed6d9d8-007f-466a-ada9-4e78a60ebf86\" xlink:type=\"simple\"><rect fill=\"#FFFFFF\" height=\"45.9375\" id=\"E6\" rx=\"10\" ry=\"10\" style=\"stroke: #383838; stroke-width: 1.5;\" width=\"144\" x=\"1322\" y=\"55\"/><text fill=\"#000000\" font-family=\"sans-serif\" font-size=\"12\" font-style=\"italic\" lengthAdjust=\"spacingAndGlyphs\" textLength=\"91\" x=\"1348.5\" y=\"71.1387\">«requirement»</text><text fill=\"#000000\" font-family=\"sans-serif\" font-size=\"12\" lengthAdjust=\"spacingAndGlyphs\" textLength=\"134\" x=\"1325\" y=\"85.1074\">obj: AnalysisObjective</text><line style=\"stroke: #383838; stroke-width: 1.5;\" x1=\"1323\" x2=\"1465\" y1=\"92.9375\" y2=\"92.9375\"/></a><!--MD5=[2156ba9850f5573cc1fc38a6a4b2f02b]\n",
       "class E7--><a href=\"psysml:0d28215e-abd0-4258-9ce4-d7487f47f154\" target=\"_top\" title=\"psysml:0d28215e-abd0-4258-9ce4-d7487f47f154\" xlink:actuate=\"onRequest\" xlink:href=\"psysml:0d28215e-abd0-4258-9ce4-d7487f47f154\" xlink:show=\"new\" xlink:title=\"psysml:0d28215e-abd0-4258-9ce4-d7487f47f154\" xlink:type=\"simple\"><rect fill=\"#FFFFFF\" height=\"45.9375\" id=\"E7\" style=\"stroke: #383838; stroke-width: 1.5;\" width=\"90\" x=\"509.5\" y=\"188\"/><text fill=\"#000000\" font-family=\"sans-serif\" font-size=\"12\" font-style=\"italic\" lengthAdjust=\"spacingAndGlyphs\" textLength=\"88\" x=\"510.5\" y=\"204.1387\">«analysis def»</text><text fill=\"#000000\" font-family=\"sans-serif\" font-size=\"12\" lengthAdjust=\"spacingAndGlyphs\" textLength=\"77\" x=\"516\" y=\"218.1074\">AnalysisPlan</text><line style=\"stroke: #383838; stroke-width: 1.5;\" x1=\"510.5\" x2=\"598.5\" y1=\"225.9375\" y2=\"225.9375\"/></a><!--MD5=[b9389687b975829384b498ac4b7476b2]\n",
       "class E8--><a href=\"psysml:317ace64-a3b7-4095-b75a-9c551641bbd2\" target=\"_top\" title=\"psysml:317ace64-a3b7-4095-b75a-9c551641bbd2\" xlink:actuate=\"onRequest\" xlink:href=\"psysml:317ace64-a3b7-4095-b75a-9c551641bbd2\" xlink:show=\"new\" xlink:title=\"psysml:317ace64-a3b7-4095-b75a-9c551641bbd2\" xlink:type=\"simple\"><rect fill=\"#FFFFFF\" height=\"66.7422\" id=\"E8\" rx=\"10\" ry=\"10\" style=\"stroke: #383838; stroke-width: 1.5;\" width=\"93\" x=\"779.5\" y=\"177.5\"/><text fill=\"#000000\" font-family=\"sans-serif\" font-size=\"12\" font-style=\"italic\" lengthAdjust=\"spacingAndGlyphs\" textLength=\"91\" x=\"780.5\" y=\"193.6387\">«requirement»</text><text fill=\"#000000\" font-family=\"sans-serif\" font-size=\"12\" lengthAdjust=\"spacingAndGlyphs\" textLength=\"19\" x=\"814.5\" y=\"207.6074\">obj</text><line style=\"stroke: #383838; stroke-width: 1.5;\" x1=\"780.5\" x2=\"871.5\" y1=\"215.4375\" y2=\"215.4375\"/><text fill=\"#000000\" font-family=\"sans-serif\" font-size=\"11\" lengthAdjust=\"spacingAndGlyphs\" textLength=\"12\" x=\"785.5\" y=\"229.6479\">...</text><line style=\"stroke: #383838; stroke-width: 1.0;\" x1=\"780.5\" x2=\"871.5\" y1=\"236.2422\" y2=\"236.2422\"/></a><!--MD5=[fd4143e9d270a159db93a4ea2a975926]\n",
       "class E9--><a href=\"psysml:0f757ff2-27a2-40d5-a25f-af43358ff77a\" target=\"_top\" title=\"psysml:0f757ff2-27a2-40d5-a25f-af43358ff77a\" xlink:actuate=\"onRequest\" xlink:href=\"psysml:0f757ff2-27a2-40d5-a25f-af43358ff77a\" xlink:show=\"new\" xlink:title=\"psysml:0f757ff2-27a2-40d5-a25f-af43358ff77a\" xlink:type=\"simple\"><rect fill=\"#FFFFFF\" height=\"45.9375\" id=\"E9\" rx=\"10\" ry=\"10\" style=\"stroke: #383838; stroke-width: 1.5;\" width=\"180\" x=\"736\" y=\"96\"/><text fill=\"#000000\" font-family=\"sans-serif\" font-size=\"12\" font-style=\"italic\" lengthAdjust=\"spacingAndGlyphs\" textLength=\"64\" x=\"794\" y=\"112.1387\">«analysis»</text><text fill=\"#000000\" font-family=\"sans-serif\" font-size=\"12\" lengthAdjust=\"spacingAndGlyphs\" textLength=\"170\" x=\"739\" y=\"126.1074\">analysisCase: AnalysisCase</text><line style=\"stroke: #383838; stroke-width: 1.5;\" x1=\"737\" x2=\"915\" y1=\"133.9375\" y2=\"133.9375\"/></a><!--MD5=[96f4274e9e20536e775497830990834d]\n",
       "class E10--><a href=\"psysml:756c2ee8-950e-4679-a51a-3cb75b1efb3e\" target=\"_top\" title=\"psysml:756c2ee8-950e-4679-a51a-3cb75b1efb3e\" xlink:actuate=\"onRequest\" xlink:href=\"psysml:756c2ee8-950e-4679-a51a-3cb75b1efb3e\" xlink:show=\"new\" xlink:title=\"psysml:756c2ee8-950e-4679-a51a-3cb75b1efb3e\" xlink:type=\"simple\"><rect fill=\"#FFFFFF\" height=\"45.9375\" id=\"E10\" rx=\"10\" ry=\"10\" style=\"stroke: #383838; stroke-width: 1.5;\" width=\"93\" x=\"1072.5\" y=\"233\"/><text fill=\"#000000\" font-family=\"sans-serif\" font-size=\"12\" font-style=\"italic\" lengthAdjust=\"spacingAndGlyphs\" textLength=\"91\" x=\"1073.5\" y=\"249.1387\">«requirement»</text><text fill=\"#000000\" font-family=\"sans-serif\" font-size=\"12\" lengthAdjust=\"spacingAndGlyphs\" textLength=\"19\" x=\"1107.5\" y=\"263.1074\">obj</text><line style=\"stroke: #383838; stroke-width: 1.5;\" x1=\"1073.5\" x2=\"1164.5\" y1=\"270.9375\" y2=\"270.9375\"/></a><!--MD5=[1dd1bfd58a279cf63c5f349dbc8fc6a1]\n",
       "class E11--><a href=\"psysml:b24749b9-9e77-4740-bd21-7fc3830bb957\" target=\"_top\" title=\"psysml:b24749b9-9e77-4740-bd21-7fc3830bb957\" xlink:actuate=\"onRequest\" xlink:href=\"psysml:b24749b9-9e77-4740-bd21-7fc3830bb957\" xlink:show=\"new\" xlink:title=\"psysml:b24749b9-9e77-4740-bd21-7fc3830bb957\" xlink:type=\"simple\"><rect fill=\"#FFFFFF\" height=\"45.9375\" id=\"E11\" rx=\"10\" ry=\"10\" style=\"stroke: #383838; stroke-width: 1.5;\" width=\"108\" x=\"32\" y=\"148\"/><text fill=\"#000000\" font-family=\"sans-serif\" font-size=\"12\" font-style=\"italic\" lengthAdjust=\"spacingAndGlyphs\" textLength=\"40\" x=\"66\" y=\"164.1387\">«part»</text><text fill=\"#000000\" font-family=\"sans-serif\" font-size=\"12\" lengthAdjust=\"spacingAndGlyphs\" textLength=\"98\" x=\"35\" y=\"178.1074\">analysisContext</text><line style=\"stroke: #383838; stroke-width: 1.5;\" x1=\"33\" x2=\"139\" y1=\"185.9375\" y2=\"185.9375\"/></a><!--MD5=[49a0ec8f00dab7302a31f22d0f0fe584]\n",
       "class E12--><a href=\"psysml:9d8d7d87-8dd4-470f-9d18-cffbc3763f0c\" target=\"_top\" title=\"psysml:9d8d7d87-8dd4-470f-9d18-cffbc3763f0c\" xlink:actuate=\"onRequest\" xlink:href=\"psysml:9d8d7d87-8dd4-470f-9d18-cffbc3763f0c\" xlink:show=\"new\" xlink:title=\"psysml:9d8d7d87-8dd4-470f-9d18-cffbc3763f0c\" xlink:type=\"simple\"><rect fill=\"#FFFFFF\" height=\"45.9375\" id=\"E12\" rx=\"10\" ry=\"10\" style=\"stroke: #383838; stroke-width: 1.5;\" width=\"172\" x=\"201\" y=\"148\"/><text fill=\"#000000\" font-family=\"sans-serif\" font-size=\"12\" font-style=\"italic\" lengthAdjust=\"spacingAndGlyphs\" textLength=\"64\" x=\"255\" y=\"164.1387\">«analysis»</text><text fill=\"#000000\" font-family=\"sans-serif\" font-size=\"12\" lengthAdjust=\"spacingAndGlyphs\" textLength=\"162\" x=\"204\" y=\"178.1074\">analysisPlan: AnalysisPlan</text><line style=\"stroke: #383838; stroke-width: 1.5;\" x1=\"202\" x2=\"372\" y1=\"185.9375\" y2=\"185.9375\"/></a><!--MD5=[ee3c913d1a06f366521f9ef512b67efe]\n",
       "class E13--><a href=\"psysml:215563a4-4360-48d3-80f1-175339b6797a\" target=\"_top\" title=\"psysml:215563a4-4360-48d3-80f1-175339b6797a\" xlink:actuate=\"onRequest\" xlink:href=\"psysml:215563a4-4360-48d3-80f1-175339b6797a\" xlink:show=\"new\" xlink:title=\"psysml:215563a4-4360-48d3-80f1-175339b6797a\" xlink:type=\"simple\"><rect fill=\"#FFFFFF\" height=\"45.9375\" id=\"E13\" rx=\"10\" ry=\"10\" style=\"stroke: #383838; stroke-width: 1.5;\" width=\"93\" x=\"508\" y=\"107\"/><text fill=\"#000000\" font-family=\"sans-serif\" font-size=\"12\" font-style=\"italic\" lengthAdjust=\"spacingAndGlyphs\" textLength=\"91\" x=\"509\" y=\"123.1387\">«requirement»</text><text fill=\"#000000\" font-family=\"sans-serif\" font-size=\"12\" lengthAdjust=\"spacingAndGlyphs\" textLength=\"19\" x=\"543\" y=\"137.1074\">obj</text><line style=\"stroke: #383838; stroke-width: 1.5;\" x1=\"509\" x2=\"600\" y1=\"144.9375\" y2=\"144.9375\"/></a><!--MD5=[05d275557350bfb9b23a4ef7222b4c39]\n",
       "link E3 to E2--><a href=\"psysml:f45a4065-dcd9-4d0e-be10-466e9a1a32d6\" target=\"_top\" title=\"psysml:f45a4065-dcd9-4d0e-be10-466e9a1a32d6\" xlink:actuate=\"onRequest\" xlink:href=\"psysml:f45a4065-dcd9-4d0e-be10-466e9a1a32d6\" xlink:show=\"new\" xlink:title=\"psysml:f45a4065-dcd9-4d0e-be10-466e9a1a32d6\" xlink:type=\"simple\"><path d=\"M1140.07,175.07 C1181.49,175.23 1277.64,175.58 1338.74,175.8 \" fill=\"none\" id=\"E3-&gt;E2\" style=\"stroke: #383838; stroke-width: 1.0;\"/><polygon fill=\"#FFFFFF\" points=\"1358.74,175.87,1339.7151,182.8021,1339.7651,168.8022,1358.74,175.87\" style=\"stroke: #383838; stroke-width: 1.0;\"/><ellipse cx=\"1334.0223\" cy=\"180.7818\" fill=\"#383838\" rx=\"2\" ry=\"2\" style=\"stroke: #383838; stroke-width: 1.0;\"/><ellipse cx=\"1334.058\" cy=\"170.7818\" fill=\"#383838\" rx=\"2\" ry=\"2\" style=\"stroke: #383838; stroke-width: 1.0;\"/></a><!--MD5=[15ebcb19ae302d9b601edb458606d402]\n",
       "link E5 to E2--><a href=\"psysml:4ce798b4-e7f7-45ac-94f6-a9dc23ec95c2\" target=\"_top\" title=\"psysml:4ce798b4-e7f7-45ac-94f6-a9dc23ec95c2\" xlink:actuate=\"onRequest\" xlink:href=\"psysml:4ce798b4-e7f7-45ac-94f6-a9dc23ec95c2\" xlink:show=\"new\" xlink:title=\"psysml:4ce798b4-e7f7-45ac-94f6-a9dc23ec95c2\" xlink:type=\"simple\"><path d=\"M1187.13,102.85 C1239.58,121.49 1310.63,146.73 1354.07,162.17 \" fill=\"none\" id=\"E5-&gt;E2\" style=\"stroke: #383838; stroke-width: 1.0; stroke-dasharray: 7.0,7.0;\"/><polygon fill=\"#383838\" points=\"1358.97,163.91,1351.824,157.1325,1354.2574,162.2392,1349.1507,164.6726,1358.97,163.91\" style=\"stroke: #383838; stroke-width: 1.0;\"/><text fill=\"#000000\" font-family=\"sans-serif\" font-size=\"13\" lengthAdjust=\"spacingAndGlyphs\" textLength=\"62\" x=\"1223.5\" y=\"112.0669\">«subject»</text></a><!--MD5=[9120cf2e5df3bff93db8f754bbbc09b4]\n",
       "link E5 to E6--><a href=\"psysml:b91cd128-722a-4ae9-a5d3-51e53a9e38d7\" target=\"_top\" title=\"psysml:b91cd128-722a-4ae9-a5d3-51e53a9e38d7\" xlink:actuate=\"onRequest\" xlink:href=\"psysml:b91cd128-722a-4ae9-a5d3-51e53a9e38d7\" xlink:show=\"new\" xlink:title=\"psysml:b91cd128-722a-4ae9-a5d3-51e53a9e38d7\" xlink:type=\"simple\"><path d=\"M1187.13,78.75 C1225.39,78.61 1273.54,78.44 1313.66,78.29 \" fill=\"none\" id=\"E5-&gt;E6\" style=\"stroke: #383838; stroke-width: 1.0;\"/><polygon fill=\"#383838\" points=\"1321.83,78.26,1313.8193,75.2886,1313.8408,81.2886,1321.83,78.26\" style=\"stroke: #383838; stroke-width: 1.0;\"/><text fill=\"#000000\" font-family=\"sans-serif\" font-size=\"13\" lengthAdjust=\"spacingAndGlyphs\" textLength=\"73\" x=\"1218\" y=\"75.0669\">«objective»</text></a><!--MD5=[f667431f98296947986a1a7595a31603]\n",
       "link E6 to E4--><a href=\"psysml:b2f535bd-3827-4daf-a953-8c36dc8e5a05\" target=\"_top\" title=\"psysml:b2f535bd-3827-4daf-a953-8c36dc8e5a05\" xlink:actuate=\"onRequest\" xlink:href=\"psysml:b2f535bd-3827-4daf-a953-8c36dc8e5a05\" xlink:show=\"new\" xlink:title=\"psysml:b2f535bd-3827-4daf-a953-8c36dc8e5a05\" xlink:type=\"simple\"><path d=\"M1466.04,78 C1479.32,78 1493.29,78 1506.82,78 \" fill=\"none\" id=\"E6-&gt;E4\" style=\"stroke: #383838; stroke-width: 1.0;\"/><polygon fill=\"#FFFFFF\" points=\"1526.87,78,1507.87,85,1507.87,71,1526.87,78\" style=\"stroke: #383838; stroke-width: 1.0;\"/><ellipse cx=\"1502.17\" cy=\"83\" fill=\"#383838\" rx=\"2\" ry=\"2\" style=\"stroke: #383838; stroke-width: 1.0;\"/><ellipse cx=\"1502.17\" cy=\"73\" fill=\"#383838\" rx=\"2\" ry=\"2\" style=\"stroke: #383838; stroke-width: 1.0;\"/></a><!--MD5=[583832df87f4419a098336a29a52fa00]\n",
       "link E7 to E2--><a href=\"psysml:38ee38e5-fe2f-49e8-a238-8ef961814591\" target=\"_top\" title=\"psysml:38ee38e5-fe2f-49e8-a238-8ef961814591\" xlink:actuate=\"onRequest\" xlink:href=\"psysml:38ee38e5-fe2f-49e8-a238-8ef961814591\" xlink:show=\"new\" xlink:title=\"psysml:38ee38e5-fe2f-49e8-a238-8ef961814591\" xlink:type=\"simple\"><path d=\"M599.53,228.67 C703.47,267.87 971.53,354.18 1187,296 C1250.81,278.77 1315.16,236.35 1354.56,206.86 \" fill=\"none\" id=\"E7-&gt;E2\" style=\"stroke: #383838; stroke-width: 1.0; stroke-dasharray: 7.0,7.0;\"/><polygon fill=\"#383838\" points=\"1358.76,203.69,1349.16,205.89,1354.76,206.69,1353.96,212.29,1358.76,203.69\" style=\"stroke: #383838; stroke-width: 1.0;\"/><text fill=\"#000000\" font-family=\"sans-serif\" font-size=\"13\" lengthAdjust=\"spacingAndGlyphs\" textLength=\"62\" x=\"952.5\" y=\"309.0669\">«subject»</text></a><!--MD5=[79bc8f324ef4d02c541433f2e6e513c3]\n",
       "link E7 to E8--><a href=\"psysml:17344d0c-3816-44f9-9c17-e4b7438070db\" target=\"_top\" title=\"psysml:17344d0c-3816-44f9-9c17-e4b7438070db\" xlink:actuate=\"onRequest\" xlink:href=\"psysml:17344d0c-3816-44f9-9c17-e4b7438070db\" xlink:show=\"new\" xlink:title=\"psysml:17344d0c-3816-44f9-9c17-e4b7438070db\" xlink:type=\"simple\"><path d=\"M599.7,211 C646.66,211 720.94,211 771.25,211 \" fill=\"none\" id=\"E7-&gt;E8\" style=\"stroke: #383838; stroke-width: 1.0;\"/><polygon fill=\"#383838\" points=\"779.42,211,771.42,208,771.42,214,779.42,211\" style=\"stroke: #383838; stroke-width: 1.0;\"/><text fill=\"#000000\" font-family=\"sans-serif\" font-size=\"13\" lengthAdjust=\"spacingAndGlyphs\" textLength=\"73\" x=\"632\" y=\"207.0669\">«objective»</text><text fill=\"#000000\" font-family=\"sans-serif\" font-size=\"13\" lengthAdjust=\"spacingAndGlyphs\" textLength=\"7\" x=\"764.4385\" y=\"224.2933\">*</text></a><!--MD5=[e4a10ef82d0e328e31cac39a31e58dda]\n",
       "reverse link E7 to E9--><a href=\"psysml:270a9b55-e8f2-46f5-9c02-ba45f5a1be19\" target=\"_top\" title=\"psysml:270a9b55-e8f2-46f5-9c02-ba45f5a1be19\" xlink:actuate=\"onRequest\" xlink:href=\"psysml:270a9b55-e8f2-46f5-9c02-ba45f5a1be19\" xlink:show=\"new\" xlink:title=\"psysml:270a9b55-e8f2-46f5-9c02-ba45f5a1be19\" xlink:type=\"simple\"><path d=\"M612.05,191.7 C654.47,177.22 712.69,157.34 757.54,142.03 \" fill=\"none\" id=\"E7&lt;-E9\" style=\"stroke: #383838; stroke-width: 1.0;\"/><polygon fill=\"#383838\" points=\"599.7,195.91,606.6707,197.7565,611.0562,192.0323,604.0855,190.1857,599.7,195.91\" style=\"stroke: #383838; stroke-width: 1.0;\"/></a><!--MD5=[bfc3ddf2e613be37104f658f09af896c]\n",
       "link E9 to E5--><a href=\"psysml:cf5e8ef0-758f-412b-8419-a299a9750eac\" target=\"_top\" title=\"psysml:cf5e8ef0-758f-412b-8419-a299a9750eac\" xlink:actuate=\"onRequest\" xlink:href=\"psysml:cf5e8ef0-758f-412b-8419-a299a9750eac\" xlink:show=\"new\" xlink:title=\"psysml:cf5e8ef0-758f-412b-8419-a299a9750eac\" xlink:type=\"simple\"><path d=\"M916.29,106.73 C952.63,101.73 994.5,95.98 1030.64,91.01 \" fill=\"none\" id=\"E9-&gt;E5\" style=\"stroke: #383838; stroke-width: 1.0;\"/><polygon fill=\"#FFFFFF\" points=\"1050.61,88.26,1032.7358,97.7739,1030.8358,83.9034,1050.61,88.26\" style=\"stroke: #383838; stroke-width: 1.0;\"/><ellipse cx=\"1026.8171\" cy=\"96.566\" fill=\"#383838\" rx=\"2\" ry=\"2\" style=\"stroke: #383838; stroke-width: 1.0;\"/><ellipse cx=\"1025.4599\" cy=\"86.6585\" fill=\"#383838\" rx=\"2\" ry=\"2\" style=\"stroke: #383838; stroke-width: 1.0;\"/></a><!--MD5=[35e5f1cbde42fa304a029880aa2bc7f2]\n",
       "link E9 to E10--><a href=\"psysml:03a60127-fd3f-4561-ae6d-a87475bfdaf0\" target=\"_top\" title=\"psysml:03a60127-fd3f-4561-ae6d-a87475bfdaf0\" xlink:actuate=\"onRequest\" xlink:href=\"psysml:03a60127-fd3f-4561-ae6d-a87475bfdaf0\" xlink:show=\"new\" xlink:title=\"psysml:03a60127-fd3f-4561-ae6d-a87475bfdaf0\" xlink:type=\"simple\"><path d=\"M877.41,142.1 C890.03,147.91 903.52,154.16 916,160 C966.65,183.7 1024.25,211.12 1064.95,230.58 \" fill=\"none\" id=\"E9-&gt;E10\" style=\"stroke: #383838; stroke-width: 1.0;\"/><polygon fill=\"#383838\" points=\"1072.34,234.11,1066.4173,227.952,1063.8286,233.3648,1072.34,234.11\" style=\"stroke: #383838; stroke-width: 1.0;\"/><text fill=\"#000000\" font-family=\"sans-serif\" font-size=\"13\" lengthAdjust=\"spacingAndGlyphs\" textLength=\"73\" x=\"947\" y=\"172.0669\">«objective»</text><text fill=\"#000000\" font-family=\"sans-serif\" font-size=\"13\" lengthAdjust=\"spacingAndGlyphs\" textLength=\"7\" x=\"1057.3458\" y=\"243.8991\">*</text></a><!--MD5=[94adabc162ce7e41b39f13be14fbaeb3]\n",
       "reverse link E11 to E12--><a href=\"psysml:7df3fd9f-252d-4e83-afe5-15252f6bd5d9\" target=\"_top\" title=\"psysml:7df3fd9f-252d-4e83-afe5-15252f6bd5d9\" xlink:actuate=\"onRequest\" xlink:href=\"psysml:7df3fd9f-252d-4e83-afe5-15252f6bd5d9\" xlink:show=\"new\" xlink:title=\"psysml:7df3fd9f-252d-4e83-afe5-15252f6bd5d9\" xlink:type=\"simple\"><path d=\"M153.13,171 C168.4,171 184.85,171 200.8,171 \" fill=\"none\" id=\"E11&lt;-E12\" style=\"stroke: #383838; stroke-width: 1.0;\"/><polygon fill=\"#383838\" points=\"140.07,171,146.07,175,152.07,171,146.07,167,140.07,171\" style=\"stroke: #383838; stroke-width: 1.0;\"/></a><!--MD5=[ae660f5ecd7ddb04a8913625960940af]\n",
       "link E12 to E7--><a href=\"psysml:4172c94c-9fb8-4464-b137-e530fc31134b\" target=\"_top\" title=\"psysml:4172c94c-9fb8-4464-b137-e530fc31134b\" xlink:actuate=\"onRequest\" xlink:href=\"psysml:4172c94c-9fb8-4464-b137-e530fc31134b\" xlink:show=\"new\" xlink:title=\"psysml:4172c94c-9fb8-4464-b137-e530fc31134b\" xlink:type=\"simple\"><path d=\"M373.1,183.82 C410.83,189.51 454.49,196.08 489.4,201.34 \" fill=\"none\" id=\"E12-&gt;E7\" style=\"stroke: #383838; stroke-width: 1.0;\"/><polygon fill=\"#FFFFFF\" points=\"509.36,204.35,489.5278,208.4345,491.6182,194.5914,509.36,204.35\" style=\"stroke: #383838; stroke-width: 1.0;\"/><ellipse cx=\"484.1903\" cy=\"205.6058\" fill=\"#383838\" rx=\"2\" ry=\"2\" style=\"stroke: #383838; stroke-width: 1.0;\"/><ellipse cx=\"485.6835\" cy=\"195.7179\" fill=\"#383838\" rx=\"2\" ry=\"2\" style=\"stroke: #383838; stroke-width: 1.0;\"/></a><!--MD5=[e2a9ac97dcd3257bb5342dae06547bad]\n",
       "link E12 to E13--><a href=\"psysml:aee64b6c-bc56-4d82-a56f-3ba6edf4c149\" target=\"_top\" title=\"psysml:aee64b6c-bc56-4d82-a56f-3ba6edf4c149\" xlink:actuate=\"onRequest\" xlink:href=\"psysml:aee64b6c-bc56-4d82-a56f-3ba6edf4c149\" xlink:show=\"new\" xlink:title=\"psysml:aee64b6c-bc56-4d82-a56f-3ba6edf4c149\" xlink:type=\"simple\"><path d=\"M373.1,157.86 C414.7,151.43 463.49,143.9 499.84,138.29 \" fill=\"none\" id=\"E12-&gt;E13\" style=\"stroke: #383838; stroke-width: 1.0;\"/><polygon fill=\"#383838\" points=\"507.87,137.05,499.5045,135.3127,500.4249,141.2417,507.87,137.05\" style=\"stroke: #383838; stroke-width: 1.0;\"/><text fill=\"#000000\" font-family=\"sans-serif\" font-size=\"13\" lengthAdjust=\"spacingAndGlyphs\" textLength=\"73\" x=\"404\" y=\"139.0669\">«objective»</text><text fill=\"#000000\" font-family=\"sans-serif\" font-size=\"13\" lengthAdjust=\"spacingAndGlyphs\" textLength=\"7\" x=\"492.8805\" y=\"151.4514\">*</text></a><!--MD5=[cc2e523ad94d025e09e29b1b58ec1684]\n",
       "@startuml\r\n",
       "left to right direction\r\n",
       "skinparam monochrome true\r\n",
       "skinparam classbackgroundcolor white\r\n",
       "skinparam shadowing false\r\n",
       "skinparam wrapWidth 300\r\n",
       "hide circle\r\n",
       "\r\n",
       "package \"AnalysisTest\" as E1  [[psysml:e1dfe890-ec15-4931-b288-05d8c66f0e23 ]]  {\r\n",
       "comp def \"V\" as E2  <<(T,blue) part  def>> [[psysml:e8de7c06-a552-45cc-9ef9-bdca622a4dc8 ]] {\r\n",
       "- - references - -\r\n",
       "m\r\n",
       "}\r\n",
       "comp usage \"vv: V \" as E3  <<(T,blue) part>> [[psysml:e405eddc-d04c-43ee-94c7-f68d6bd4037b ]] {\r\n",
       "}\r\n",
       "comp def \"AnalysisObjective\" as E4  <<(T,blue) requirement  def>> [[psysml:61935c6a-e9b2-427b-8e93-9f8ea2764a4f ]] {\r\n",
       "...\r\n",
       "- -\r\n",
       "}\r\n",
       "comp def \"AnalysisCase\" as E5 << analysis def>> [[psysml:5016a817-b8b6-43b2-a1c9-71130e2545c5 ]] {\r\n",
       "- - path step expressions - -\r\n",
       " { v.m }\r\n",
       "}\r\n",
       "comp usage \"obj: AnalysisObjective \" as E6  <<(T,blue) requirement>> [[psysml:8ed6d9d8-007f-466a-ada9-4e78a60ebf86 ]] {\r\n",
       "}\r\n",
       "comp def \"AnalysisPlan\" as E7 << analysis def>> [[psysml:0d28215e-abd0-4258-9ce4-d7487f47f154 ]] {\r\n",
       "}\r\n",
       "comp usage \"obj \" as E8  <<(T,blue) requirement>> [[psysml:317ace64-a3b7-4095-b75a-9c551641bbd2 ]] {\r\n",
       "...\r\n",
       "- -\r\n",
       "}\r\n",
       "comp usage \"analysisCase: AnalysisCase \" as E9 << analysis>> [[psysml:0f757ff2-27a2-40d5-a25f-af43358ff77a ]] {\r\n",
       "}\r\n",
       "comp usage \"obj \" as E10  <<(T,blue) requirement>> [[psysml:756c2ee8-950e-4679-a51a-3cb75b1efb3e ]] {\r\n",
       "}\r\n",
       "comp usage \"analysisContext \" as E11  <<(T,blue) part>> [[psysml:b24749b9-9e77-4740-bd21-7fc3830bb957 ]] {\r\n",
       "}\r\n",
       "comp usage \"analysisPlan: AnalysisPlan \" as E12 << analysis>> [[psysml:9d8d7d87-8dd4-470f-9d18-cffbc3763f0c ]] {\r\n",
       "}\r\n",
       "comp usage \"obj \" as E13  <<(T,blue) requirement>> [[psysml:215563a4-4360-48d3-80f1-175339b6797a ]] {\r\n",
       "}\r\n",
       "}\r\n",
       "E3 - -:|> E2 [[psysml:f45a4065-dcd9-4d0e-be10-466e9a1a32d6 ]] \r\n",
       "E5 ..> E2 [[psysml:4ce798b4-e7f7-45ac-94f6-a9dc23ec95c2 ]] : <<subject>>\r\n",
       "E5 - ->> E6 [[psysml:b91cd128-722a-4ae9-a5d3-51e53a9e38d7 ]] : <<objective>>\r\n",
       "E6 - -:|> E4 [[psysml:b2f535bd-3827-4daf-a953-8c36dc8e5a05 ]] \r\n",
       "E7 ..> E2 [[psysml:38ee38e5-fe2f-49e8-a238-8ef961814591 ]] : <<subject>>\r\n",
       "E7 - ->> \"*\"E8 [[psysml:17344d0c-3816-44f9-9c17-e4b7438070db ]] : <<objective>>\r\n",
       "E7 *- - E9 [[psysml:270a9b55-e8f2-46f5-9c02-ba45f5a1be19 ]] \r\n",
       "E9 - -:|> E5 [[psysml:cf5e8ef0-758f-412b-8419-a299a9750eac ]] \r\n",
       "E9 - ->> \"*\"E10 [[psysml:03a60127-fd3f-4561-ae6d-a87475bfdaf0 ]] : <<objective>>\r\n",
       "E11 *- - E12 [[psysml:7df3fd9f-252d-4e83-afe5-15252f6bd5d9 ]] \r\n",
       "E12 - -:|> E7 [[psysml:4172c94c-9fb8-4464-b137-e530fc31134b ]] \r\n",
       "E12 - ->> \"*\"E13 [[psysml:aee64b6c-bc56-4d82-a56f-3ba6edf4c149 ]] : <<objective>>\r\n",
       "@enduml\r\n",
       "\n",
       "PlantUML version 1.2020.13(Sat Jun 13 12:26:38 UTC 2020)\n",
       "(EPL source distribution)\n",
       "Java Runtime: OpenJDK Runtime Environment\n",
       "JVM: OpenJDK 64-Bit Server VM\n",
       "Default Encoding: UTF-8\n",
       "Language: en\n",
       "Country: null\n",
       "--></g></svg>"
      ]
     },
     "execution_count": 17,
     "metadata": {},
     "output_type": "execute_result"
    }
   ],
   "source": [
    "%viz --style=\"LR\" --view=\"Tree\" \"AnalysisTest\""
   ]
  },
  {
   "cell_type": "code",
   "execution_count": 18,
   "id": "904fd26d",
   "metadata": {
    "execution": {
     "iopub.execute_input": "2022-02-05T16:52:01.964271Z",
     "iopub.status.busy": "2022-02-05T16:52:01.963870Z",
     "iopub.status.idle": "2022-02-05T16:52:01.968503Z",
     "shell.execute_reply": "2022-02-05T16:52:01.968817Z"
    }
   },
   "outputs": [
    {
     "data": {
      "image/svg+xml": [
       "<?xml version=\"1.0\" encoding=\"UTF-8\" standalone=\"no\"?><svg xmlns=\"http://www.w3.org/2000/svg\" xmlns:xlink=\"http://www.w3.org/1999/xlink\" contentScriptType=\"application/ecmascript\" contentStyleType=\"text/css\" height=\"12px\" preserveAspectRatio=\"none\" style=\"width:12px;height:12px;\" version=\"1.1\" viewBox=\"0 0 12 12\" width=\"12px\" zoomAndPan=\"magnify\"><defs/><g><!--MD5=[19d285c9d72a204eba4e2cd117d745e8]\n",
       "@startuml\r\n",
       "left to right direction\r\n",
       "skinparam monochrome true\r\n",
       "skinparam classbackgroundcolor white\r\n",
       "skinparam shadowing false\r\n",
       "skinparam wrapWidth 300\r\n",
       "hide circle\r\n",
       "\r\n",
       "@enduml\r\n",
       "\n",
       "PlantUML version 1.2020.13(Sat Jun 13 12:26:38 UTC 2020)\n",
       "(EPL source distribution)\n",
       "Java Runtime: OpenJDK Runtime Environment\n",
       "JVM: OpenJDK 64-Bit Server VM\n",
       "Default Encoding: UTF-8\n",
       "Language: en\n",
       "Country: null\n",
       "--></g></svg>"
      ]
     },
     "execution_count": 18,
     "metadata": {},
     "output_type": "execute_result"
    }
   ],
   "source": [
    "%viz --style=\"LR\" --view=\"State\" \"AnalysisTest\""
   ]
  },
  {
   "cell_type": "code",
   "execution_count": 19,
   "id": "b0ee3796",
   "metadata": {
    "execution": {
     "iopub.execute_input": "2022-02-05T16:52:02.018951Z",
     "iopub.status.busy": "2022-02-05T16:52:02.018544Z",
     "iopub.status.idle": "2022-02-05T16:52:02.066100Z",
     "shell.execute_reply": "2022-02-05T16:52:02.065745Z"
    }
   },
   "outputs": [
    {
     "data": {
      "image/svg+xml": [
       "<?xml version=\"1.0\" encoding=\"UTF-8\" standalone=\"no\"?><svg xmlns=\"http://www.w3.org/2000/svg\" xmlns:xlink=\"http://www.w3.org/1999/xlink\" contentScriptType=\"application/ecmascript\" contentStyleType=\"text/css\" height=\"335px\" preserveAspectRatio=\"none\" style=\"width:690px;height:335px;\" version=\"1.1\" viewBox=\"0 0 690 335\" width=\"690px\" zoomAndPan=\"magnify\"><defs/><g><!--MD5=[fbc87193dbaf4d95561dea2c320d4a47]\n",
       "cluster E1--><a href=\"psysml:e1dfe890-ec15-4931-b288-05d8c66f0e23\" target=\"_top\" title=\"psysml:e1dfe890-ec15-4931-b288-05d8c66f0e23\" xlink:actuate=\"onRequest\" xlink:href=\"psysml:e1dfe890-ec15-4931-b288-05d8c66f0e23\" xlink:show=\"new\" xlink:title=\"psysml:e1dfe890-ec15-4931-b288-05d8c66f0e23\" xlink:type=\"simple\"><polygon fill=\"#FFFFFF\" points=\"16,6,108,6,115,28.2969,668,28.2969,668,323,16,323,16,6\" style=\"stroke: #000000; stroke-width: 1.5;\"/><line style=\"stroke: #000000; stroke-width: 1.5;\" x1=\"16\" x2=\"115\" y1=\"28.2969\" y2=\"28.2969\"/><text fill=\"#000000\" font-family=\"sans-serif\" font-size=\"14\" font-weight=\"bold\" lengthAdjust=\"spacingAndGlyphs\" textLength=\"86\" x=\"20\" y=\"20.9951\">AnalysisTest</text></a><!--MD5=[14e3b0961a2654348d326746436168a1]\n",
       "cluster E6--><a href=\"psysml:0d28215e-abd0-4258-9ce4-d7487f47f154\" target=\"_top\" title=\"psysml:0d28215e-abd0-4258-9ce4-d7487f47f154\" xlink:actuate=\"onRequest\" xlink:href=\"psysml:0d28215e-abd0-4258-9ce4-d7487f47f154\" xlink:show=\"new\" xlink:title=\"psysml:0d28215e-abd0-4258-9ce4-d7487f47f154\" xlink:type=\"simple\"><rect fill=\"#FFFFFF\" height=\"234\" id=\"E6\" style=\"stroke: #383838; stroke-width: 1.5;\" width=\"140\" x=\"229\" y=\"57\"/><rect fill=\"#F8F8F8\" height=\"37.9375\" style=\"stroke: #383838; stroke-width: 1.5;\" width=\"140\" x=\"229\" y=\"57\"/><text fill=\"#000000\" font-family=\"sans-serif\" font-size=\"12\" font-style=\"italic\" lengthAdjust=\"spacingAndGlyphs\" textLength=\"88\" x=\"255\" y=\"73.1387\">«analysis def»</text><text fill=\"#000000\" font-family=\"sans-serif\" font-size=\"12\" lengthAdjust=\"spacingAndGlyphs\" textLength=\"77\" x=\"260.5\" y=\"87.1074\">AnalysisPlan</text></a><!--MD5=[7f149f147074ac12df2cb0a7728a5fb0]\n",
       "cluster E9--><a href=\"psysml:b24749b9-9e77-4740-bd21-7fc3830bb957\" target=\"_top\" title=\"psysml:b24749b9-9e77-4740-bd21-7fc3830bb957\" xlink:actuate=\"onRequest\" xlink:href=\"psysml:b24749b9-9e77-4740-bd21-7fc3830bb957\" xlink:show=\"new\" xlink:title=\"psysml:b24749b9-9e77-4740-bd21-7fc3830bb957\" xlink:type=\"simple\"><rect fill=\"#FFFFFF\" height=\"95\" id=\"E9\" rx=\"10\" ry=\"10\" style=\"stroke: #383838; stroke-width: 1.5;\" width=\"124\" x=\"40\" y=\"51\"/><rect fill=\"#F8F8F8\" height=\"23.9688\" rx=\"10\" ry=\"10\" style=\"stroke: #F8F8F8; stroke-width: 1.5;\" width=\"124\" x=\"40\" y=\"51\"/><rect fill=\"#F8F8F8\" height=\"10\" style=\"stroke: #F8F8F8; stroke-width: 1.5;\" width=\"124\" x=\"40\" y=\"64.9688\"/><rect fill=\"none\" height=\"95\" id=\"E9\" rx=\"10\" ry=\"10\" style=\"stroke: #383838; stroke-width: 1.5;\" width=\"124\" x=\"40\" y=\"51\"/><text fill=\"#000000\" font-family=\"sans-serif\" font-size=\"12\" lengthAdjust=\"spacingAndGlyphs\" textLength=\"98\" x=\"53\" y=\"67.1387\">analysisContext</text><line style=\"stroke: #383838; stroke-width: 1.0;\" x1=\"40\" x2=\"164\" y1=\"74.9688\" y2=\"74.9688\"/></a><!--MD5=[ebbe1d658d1005bcc118a6aa81145e00]\n",
       "class E4--><a href=\"psysml:61935c6a-e9b2-427b-8e93-9f8ea2764a4f\" target=\"_top\" title=\"psysml:61935c6a-e9b2-427b-8e93-9f8ea2764a4f\" xlink:actuate=\"onRequest\" xlink:href=\"psysml:61935c6a-e9b2-427b-8e93-9f8ea2764a4f\" xlink:show=\"new\" xlink:title=\"psysml:61935c6a-e9b2-427b-8e93-9f8ea2764a4f\" xlink:type=\"simple\"><rect fill=\"#FFFFFF\" height=\"66.7422\" id=\"E4\" style=\"stroke: #383838; stroke-width: 1.5;\" width=\"121\" x=\"41.5\" y=\"164.5\"/><text fill=\"#000000\" font-family=\"sans-serif\" font-size=\"12\" font-style=\"italic\" lengthAdjust=\"spacingAndGlyphs\" textLength=\"119\" x=\"42.5\" y=\"180.6387\">«requirement  def»</text><text fill=\"#000000\" font-family=\"sans-serif\" font-size=\"12\" lengthAdjust=\"spacingAndGlyphs\" textLength=\"107\" x=\"48.5\" y=\"194.6074\">AnalysisObjective</text><line style=\"stroke: #383838; stroke-width: 1.5;\" x1=\"42.5\" x2=\"161.5\" y1=\"202.4375\" y2=\"202.4375\"/><text fill=\"#000000\" font-family=\"sans-serif\" font-size=\"11\" lengthAdjust=\"spacingAndGlyphs\" textLength=\"12\" x=\"47.5\" y=\"216.6479\">...</text><line style=\"stroke: #383838; stroke-width: 1.0;\" x1=\"42.5\" x2=\"161.5\" y1=\"223.2422\" y2=\"223.2422\"/></a><g id=\"E1.E2\"><a href=\"psysml:e8de7c06-a552-45cc-9ef9-bdca622a4dc8\" target=\"_top\" title=\"psysml:e8de7c06-a552-45cc-9ef9-bdca622a4dc8\" xlink:actuate=\"onRequest\" xlink:href=\"psysml:e8de7c06-a552-45cc-9ef9-bdca622a4dc8\" xlink:show=\"new\" xlink:title=\"psysml:e8de7c06-a552-45cc-9ef9-bdca622a4dc8\" xlink:type=\"simple\"><rect fill=\"#FFFFFF\" height=\"42.9375\" id=\"E2\" style=\"stroke: #383838; stroke-width: 1.5;\" width=\"75\" x=\"577\" y=\"230.5\"/><rect fill=\"#F8F8F8\" height=\"37.9375\" style=\"stroke: #383838; stroke-width: 1.5;\" width=\"75\" x=\"577\" y=\"230.5\"/><text fill=\"#000000\" font-family=\"sans-serif\" font-size=\"12\" font-style=\"italic\" lengthAdjust=\"spacingAndGlyphs\" textLength=\"68\" x=\"580.5\" y=\"246.6387\">«part  def»</text><text fill=\"#000000\" font-family=\"sans-serif\" font-size=\"12\" lengthAdjust=\"spacingAndGlyphs\" textLength=\"8\" x=\"610.5\" y=\"260.6074\">V</text></a></g><g id=\"E1.E3\"><a href=\"psysml:e405eddc-d04c-43ee-94c7-f68d6bd4037b\" target=\"_top\" title=\"psysml:e405eddc-d04c-43ee-94c7-f68d6bd4037b\" xlink:actuate=\"onRequest\" xlink:href=\"psysml:e405eddc-d04c-43ee-94c7-f68d6bd4037b\" xlink:show=\"new\" xlink:title=\"psysml:e405eddc-d04c-43ee-94c7-f68d6bd4037b\" xlink:type=\"simple\"><rect fill=\"#FFFFFF\" height=\"40\" id=\"E3\" rx=\"10\" ry=\"10\" style=\"stroke: #383838; stroke-width: 1.5;\" width=\"50\" x=\"77\" y=\"267\"/><rect fill=\"#F8F8F8\" height=\"23.9688\" rx=\"10\" ry=\"10\" style=\"stroke: #F8F8F8; stroke-width: 1.5;\" width=\"50\" x=\"77\" y=\"267\"/><rect fill=\"#F8F8F8\" height=\"10\" style=\"stroke: #F8F8F8; stroke-width: 1.5;\" width=\"50\" x=\"77\" y=\"280.9688\"/><rect fill=\"none\" height=\"40\" id=\"E3\" rx=\"10\" ry=\"10\" style=\"stroke: #383838; stroke-width: 1.5;\" width=\"50\" x=\"77\" y=\"267\"/><text fill=\"#000000\" font-family=\"sans-serif\" font-size=\"12\" lengthAdjust=\"spacingAndGlyphs\" textLength=\"28\" x=\"88\" y=\"283.1387\">vv: V</text></a></g><g id=\"E1.E5\"><a href=\"psysml:5016a817-b8b6-43b2-a1c9-71130e2545c5\" target=\"_top\" title=\"psysml:5016a817-b8b6-43b2-a1c9-71130e2545c5\" xlink:actuate=\"onRequest\" xlink:href=\"psysml:5016a817-b8b6-43b2-a1c9-71130e2545c5\" xlink:show=\"new\" xlink:title=\"psysml:5016a817-b8b6-43b2-a1c9-71130e2545c5\" xlink:type=\"simple\"><rect fill=\"#FFFFFF\" height=\"42.9375\" id=\"E5\" style=\"stroke: #383838; stroke-width: 1.5;\" width=\"95\" x=\"402\" y=\"176.5\"/><rect fill=\"#F8F8F8\" height=\"37.9375\" style=\"stroke: #383838; stroke-width: 1.5;\" width=\"95\" x=\"402\" y=\"176.5\"/><text fill=\"#000000\" font-family=\"sans-serif\" font-size=\"12\" font-style=\"italic\" lengthAdjust=\"spacingAndGlyphs\" textLength=\"88\" x=\"405.5\" y=\"192.6387\">«analysis def»</text><text fill=\"#000000\" font-family=\"sans-serif\" font-size=\"12\" lengthAdjust=\"spacingAndGlyphs\" textLength=\"81\" x=\"409\" y=\"206.6074\">AnalysisCase</text></a></g><!--MD5=[2156ba9850f5573cc1fc38a6a4b2f02b]\n",
       "class E7--><a href=\"psysml:317ace64-a3b7-4095-b75a-9c551641bbd2\" target=\"_top\" title=\"psysml:317ace64-a3b7-4095-b75a-9c551641bbd2\" xlink:actuate=\"onRequest\" xlink:href=\"psysml:317ace64-a3b7-4095-b75a-9c551641bbd2\" xlink:show=\"new\" xlink:title=\"psysml:317ace64-a3b7-4095-b75a-9c551641bbd2\" xlink:type=\"simple\"><rect fill=\"#FFFFFF\" height=\"52.7734\" id=\"E7\" rx=\"10\" ry=\"10\" style=\"stroke: #383838; stroke-width: 1.5;\" width=\"84\" x=\"257\" y=\"116.5\"/><text fill=\"#000000\" font-family=\"sans-serif\" font-size=\"12\" lengthAdjust=\"spacingAndGlyphs\" textLength=\"70\" x=\"264\" y=\"132.6387\">«objective»</text><line style=\"stroke: #383838; stroke-width: 1.5;\" x1=\"258\" x2=\"340\" y1=\"140.4688\" y2=\"140.4688\"/><text fill=\"#000000\" font-family=\"sans-serif\" font-size=\"11\" lengthAdjust=\"spacingAndGlyphs\" textLength=\"12\" x=\"263\" y=\"154.6792\">...</text><line style=\"stroke: #383838; stroke-width: 1.0;\" x1=\"258\" x2=\"340\" y1=\"161.2734\" y2=\"161.2734\"/></a><g id=\"E1.E6.E8\"><a href=\"psysml:0f757ff2-27a2-40d5-a25f-af43358ff77a\" target=\"_top\" title=\"psysml:0f757ff2-27a2-40d5-a25f-af43358ff77a\" xlink:actuate=\"onRequest\" xlink:href=\"psysml:0f757ff2-27a2-40d5-a25f-af43358ff77a\" xlink:show=\"new\" xlink:title=\"psysml:0f757ff2-27a2-40d5-a25f-af43358ff77a\" xlink:type=\"simple\"><rect fill=\"#FFFFFF\" height=\"42.9375\" id=\"E8\" rx=\"10\" ry=\"10\" style=\"stroke: #383838; stroke-width: 1.5;\" width=\"92\" x=\"253\" y=\"204.5\"/><rect fill=\"#F8F8F8\" height=\"37.9375\" rx=\"10\" ry=\"10\" style=\"stroke: #F8F8F8; stroke-width: 1.5;\" width=\"92\" x=\"253\" y=\"204.5\"/><rect fill=\"#F8F8F8\" height=\"10\" style=\"stroke: #F8F8F8; stroke-width: 1.5;\" width=\"92\" x=\"253\" y=\"232.4375\"/><rect fill=\"none\" height=\"42.9375\" id=\"E8\" rx=\"10\" ry=\"10\" style=\"stroke: #383838; stroke-width: 1.5;\" width=\"92\" x=\"253\" y=\"204.5\"/><text fill=\"#000000\" font-family=\"sans-serif\" font-size=\"12\" font-style=\"italic\" lengthAdjust=\"spacingAndGlyphs\" textLength=\"64\" x=\"267\" y=\"220.6387\">«analysis»</text><text fill=\"#000000\" font-family=\"sans-serif\" font-size=\"12\" lengthAdjust=\"spacingAndGlyphs\" textLength=\"81\" x=\"258.5\" y=\"234.6074\">analysisCase</text></a></g><g id=\"E1.E9.E10\"><a href=\"psysml:9d8d7d87-8dd4-470f-9d18-cffbc3763f0c\" target=\"_top\" title=\"psysml:9d8d7d87-8dd4-470f-9d18-cffbc3763f0c\" xlink:actuate=\"onRequest\" xlink:href=\"psysml:9d8d7d87-8dd4-470f-9d18-cffbc3763f0c\" xlink:show=\"new\" xlink:title=\"psysml:9d8d7d87-8dd4-470f-9d18-cffbc3763f0c\" xlink:type=\"simple\"><rect fill=\"#FFFFFF\" height=\"42.9375\" id=\"E10\" rx=\"10\" ry=\"10\" style=\"stroke: #383838; stroke-width: 1.5;\" width=\"88\" x=\"58\" y=\"86.5\"/><rect fill=\"#F8F8F8\" height=\"37.9375\" rx=\"10\" ry=\"10\" style=\"stroke: #F8F8F8; stroke-width: 1.5;\" width=\"88\" x=\"58\" y=\"86.5\"/><rect fill=\"#F8F8F8\" height=\"10\" style=\"stroke: #F8F8F8; stroke-width: 1.5;\" width=\"88\" x=\"58\" y=\"114.4375\"/><rect fill=\"none\" height=\"42.9375\" id=\"E10\" rx=\"10\" ry=\"10\" style=\"stroke: #383838; stroke-width: 1.5;\" width=\"88\" x=\"58\" y=\"86.5\"/><text fill=\"#000000\" font-family=\"sans-serif\" font-size=\"12\" font-style=\"italic\" lengthAdjust=\"spacingAndGlyphs\" textLength=\"64\" x=\"70\" y=\"102.6387\">«analysis»</text><text fill=\"#000000\" font-family=\"sans-serif\" font-size=\"12\" lengthAdjust=\"spacingAndGlyphs\" textLength=\"77\" x=\"63.5\" y=\"116.6074\">analysisPlan</text></a></g><!--MD5=[15ebcb19ae302d9b601edb458606d402]\n",
       "link E5 to E2--><a href=\"psysml:4ce798b4-e7f7-45ac-94f6-a9dc23ec95c2\" target=\"_top\" title=\"psysml:4ce798b4-e7f7-45ac-94f6-a9dc23ec95c2\" xlink:actuate=\"onRequest\" xlink:href=\"psysml:4ce798b4-e7f7-45ac-94f6-a9dc23ec95c2\" xlink:show=\"new\" xlink:title=\"psysml:4ce798b4-e7f7-45ac-94f6-a9dc23ec95c2\" xlink:type=\"simple\"><path d=\"M497.21,213.47 C520.83,221.3 549.26,230.72 572.1,238.28 \" fill=\"none\" id=\"E5-&gt;E2\" style=\"stroke: #383838; stroke-width: 1.0; stroke-dasharray: 7.0,7.0;\"/><polygon fill=\"#383838\" points=\"576.88,239.87,569.5888,233.2489,572.1323,238.3017,567.0795,240.8452,576.88,239.87\" style=\"stroke: #383838; stroke-width: 1.0;\"/><text fill=\"#000000\" font-family=\"sans-serif\" font-size=\"13\" lengthAdjust=\"spacingAndGlyphs\" textLength=\"62\" x=\"506\" y=\"214.0669\">«subject»</text></a><!--MD5=[2351f337d6de0f557b50152ba70847b5]\n",
       "link E6 to E2--><a href=\"psysml:38ee38e5-fe2f-49e8-a238-8ef961814591\" target=\"_top\" title=\"psysml:38ee38e5-fe2f-49e8-a238-8ef961814591\" xlink:actuate=\"onRequest\" xlink:href=\"psysml:38ee38e5-fe2f-49e8-a238-8ef961814591\" xlink:show=\"new\" xlink:title=\"psysml:38ee38e5-fe2f-49e8-a238-8ef961814591\" xlink:type=\"simple\"><path d=\"M370.0518,276.0724 C371.6389,275.9155 373.2433,275.7568 374.864,275.5966 C378.1053,275.2761 381.4115,274.9491 384.7743,274.6166 C391.4997,273.9516 398.4509,273.2642 405.56,272.5613 C462.4325,266.9375 529.405,260.315 571.66,256.14 \" fill=\"none\" id=\"E6-&gt;E2\" style=\"stroke: #383838; stroke-width: 1.0; stroke-dasharray: 7.0,7.0;\"/><polygon fill=\"#383838\" points=\"576.84,255.63,567.4937,252.5241,571.8637,256.1162,568.2716,260.4862,576.84,255.63\" style=\"stroke: #383838; stroke-width: 1.0;\"/><text fill=\"#000000\" font-family=\"sans-serif\" font-size=\"13\" lengthAdjust=\"spacingAndGlyphs\" textLength=\"62\" x=\"418.5\" y=\"260.0669\">«subject»</text></a><!--MD5=[1ccb2481ffa92f8d51a74ee30c51832a]\n",
       "link E8 to E5--><a href=\"psysml:cf5e8ef0-758f-412b-8419-a299a9750eac\" target=\"_top\" title=\"psysml:cf5e8ef0-758f-412b-8419-a299a9750eac\" xlink:actuate=\"onRequest\" xlink:href=\"psysml:cf5e8ef0-758f-412b-8419-a299a9750eac\" xlink:show=\"new\" xlink:title=\"psysml:cf5e8ef0-758f-412b-8419-a299a9750eac\" xlink:type=\"simple\"><path d=\"M345.36,217.45 C356.98,215.26 369.71,212.86 382.14,210.51 \" fill=\"none\" id=\"E8-&gt;E5\" style=\"stroke: #383838; stroke-width: 1.0;\"/><polygon fill=\"#FFFFFF\" points=\"401.88,206.79,384.5027,217.1838,381.913,203.4254,401.88,206.79\" style=\"stroke: #383838; stroke-width: 1.0;\"/><ellipse cx=\"378.5312\" cy=\"216.2727\" fill=\"#383838\" rx=\"2\" ry=\"2\" style=\"stroke: #383838; stroke-width: 1.0;\"/><ellipse cx=\"376.6814\" cy=\"206.4453\" fill=\"#383838\" rx=\"2\" ry=\"2\" style=\"stroke: #383838; stroke-width: 1.0;\"/></a><!--MD5=[198716bf12f04006f5c20d61bde6d80d]\n",
       "link E10 to E6--><a href=\"psysml:4172c94c-9fb8-4464-b137-e530fc31134b\" target=\"_top\" title=\"psysml:4172c94c-9fb8-4464-b137-e530fc31134b\" xlink:actuate=\"onRequest\" xlink:href=\"psysml:4172c94c-9fb8-4464-b137-e530fc31134b\" xlink:show=\"new\" xlink:title=\"psysml:4172c94c-9fb8-4464-b137-e530fc31134b\" xlink:type=\"simple\"><path d=\"M146.01,116.76 C155.57,120.43 164.95,125.63 172,133 C214.17,177.08 168.1,222.7 213,264 C216.45,267.1738 220.3109,269.8575 224.4327,272.1234 C225.4631,272.6898 226.5099,273.2302 227.5706,273.7456 C227.8357,273.8744 228.1018,274.0017 228.3687,274.1274 C228.5021,274.1903 228.6358,274.2528 228.7696,274.3149 \" fill=\"none\" id=\"E10-&gt;E6\" style=\"stroke: #383838; stroke-width: 1.0;\"/><polygon fill=\"#FFFFFF\" points=\"228.7696,274.3149,208.5882,272.6689,214.4799,259.969,228.7696,274.3149\" style=\"stroke: #383838; stroke-width: 1.0;\"/><ellipse cx=\"204.2592\" cy=\"268.4559\" fill=\"#383838\" rx=\"2\" ry=\"2\" style=\"stroke: #383838; stroke-width: 1.0;\"/><ellipse cx=\"208.4675\" cy=\"259.3845\" fill=\"#383838\" rx=\"2\" ry=\"2\" style=\"stroke: #383838; stroke-width: 1.0;\"/></a><!--MD5=[c3c014d079dab49805553e0c309dfe77]\n",
       "@startuml\r\n",
       "skinparam ranksep 10\r\n",
       "skinparam rectangle {\r\n",
       " backgroundColor<<block>> LightGreen\r\n",
       "}\r\n",
       "left to right direction\r\n",
       "skinparam monochrome true\r\n",
       "skinparam classbackgroundcolor white\r\n",
       "skinparam shadowing false\r\n",
       "skinparam wrapWidth 300\r\n",
       "hide circle\r\n",
       "\r\n",
       "package \"AnalysisTest\" as E1  [[psysml:e1dfe890-ec15-4931-b288-05d8c66f0e23 ]]  {\r\n",
       "rec def \"V\" as E2  <<(T,blue) part  def>> [[psysml:e8de7c06-a552-45cc-9ef9-bdca622a4dc8 ]] {\r\n",
       "}\r\n",
       "rec usage \"vv: V\" as E3  [[psysml:e405eddc-d04c-43ee-94c7-f68d6bd4037b ]] {\r\n",
       "}\r\n",
       "comp def \"AnalysisObjective\" as E4  <<(T,blue) requirement  def>> [[psysml:61935c6a-e9b2-427b-8e93-9f8ea2764a4f ]] {\r\n",
       "...\r\n",
       "- -\r\n",
       "}\r\n",
       "rec def \"AnalysisCase\" as E5 << analysis def>> [[psysml:5016a817-b8b6-43b2-a1c9-71130e2545c5 ]] {\r\n",
       "}\r\n",
       "rec def \"AnalysisPlan\" as E6 << analysis def>> [[psysml:0d28215e-abd0-4258-9ce4-d7487f47f154 ]] {\r\n",
       "comp usage \" <U+00AB>objective<U+00BB> \" as E7 [[psysml:317ace64-a3b7-4095-b75a-9c551641bbd2 ]] {\r\n",
       "...\r\n",
       "- -\r\n",
       "}\r\n",
       "rec usage \"analysisCase\" as E8 << analysis>> [[psysml:0f757ff2-27a2-40d5-a25f-af43358ff77a ]] {\r\n",
       "}\r\n",
       "}\r\n",
       "rec usage \"analysisContext\" as E9  [[psysml:b24749b9-9e77-4740-bd21-7fc3830bb957 ]] {\r\n",
       "rec usage \"analysisPlan\" as E10 << analysis>> [[psysml:9d8d7d87-8dd4-470f-9d18-cffbc3763f0c ]] {\r\n",
       "}\r\n",
       "}\r\n",
       "}\r\n",
       "E5 ..> E2 [[psysml:4ce798b4-e7f7-45ac-94f6-a9dc23ec95c2 ]] : <<subject>>\r\n",
       "E6 ..> E2 [[psysml:38ee38e5-fe2f-49e8-a238-8ef961814591 ]] : <<subject>>\r\n",
       "E8 - -:|> E5 [[psysml:cf5e8ef0-758f-412b-8419-a299a9750eac ]] \r\n",
       "E10 - -:|> E6 [[psysml:4172c94c-9fb8-4464-b137-e530fc31134b ]] \r\n",
       "@enduml\r\n",
       "\n",
       "PlantUML version 1.2020.13(Sat Jun 13 12:26:38 UTC 2020)\n",
       "(EPL source distribution)\n",
       "Java Runtime: OpenJDK Runtime Environment\n",
       "JVM: OpenJDK 64-Bit Server VM\n",
       "Default Encoding: UTF-8\n",
       "Language: en\n",
       "Country: null\n",
       "--></g></svg>"
      ]
     },
     "execution_count": 19,
     "metadata": {},
     "output_type": "execute_result"
    }
   ],
   "source": [
    "%viz --style=\"LR\" --view=\"Interconnection\" \"AnalysisTest\""
   ]
  },
  {
   "cell_type": "code",
   "execution_count": 20,
   "id": "7f2baf89",
   "metadata": {
    "execution": {
     "iopub.execute_input": "2022-02-05T16:52:02.115896Z",
     "iopub.status.busy": "2022-02-05T16:52:02.115488Z",
     "iopub.status.idle": "2022-02-05T16:52:02.152117Z",
     "shell.execute_reply": "2022-02-05T16:52:02.151762Z"
    }
   },
   "outputs": [
    {
     "data": {
      "image/svg+xml": [
       "<?xml version=\"1.0\" encoding=\"UTF-8\" standalone=\"no\"?><svg xmlns=\"http://www.w3.org/2000/svg\" xmlns:xlink=\"http://www.w3.org/1999/xlink\" contentScriptType=\"application/ecmascript\" contentStyleType=\"text/css\" height=\"358px\" preserveAspectRatio=\"none\" style=\"width:365px;height:358px;\" version=\"1.1\" viewBox=\"0 0 365 358\" width=\"365px\" zoomAndPan=\"magnify\"><defs/><g><!--MD5=[fbc87193dbaf4d95561dea2c320d4a47]\n",
       "cluster E1--><a href=\"psysml:5016a817-b8b6-43b2-a1c9-71130e2545c5\" target=\"_top\" title=\"psysml:5016a817-b8b6-43b2-a1c9-71130e2545c5\" xlink:actuate=\"onRequest\" xlink:href=\"psysml:5016a817-b8b6-43b2-a1c9-71130e2545c5\" xlink:show=\"new\" xlink:title=\"psysml:5016a817-b8b6-43b2-a1c9-71130e2545c5\" xlink:type=\"simple\"><rect fill=\"#FFFFFF\" height=\"68\" id=\"E1\" style=\"stroke: #383838; stroke-width: 1.5;\" width=\"271\" x=\"25\" y=\"279\"/><rect fill=\"#F8F8F8\" height=\"37.9375\" style=\"stroke: #383838; stroke-width: 1.5;\" width=\"271\" x=\"25\" y=\"279\"/><text fill=\"#000000\" font-family=\"sans-serif\" font-size=\"12\" font-style=\"italic\" lengthAdjust=\"spacingAndGlyphs\" textLength=\"88\" x=\"116.5\" y=\"295.1387\">«analysis def»</text><text fill=\"#000000\" font-family=\"sans-serif\" font-size=\"12\" lengthAdjust=\"spacingAndGlyphs\" textLength=\"81\" x=\"120\" y=\"309.1074\">AnalysisCase</text></a><!--MD5=[f6df4d0ebaf0b5dfb2ced0ae5af7c670]\n",
       "cluster E4--><a href=\"psysml:0d28215e-abd0-4258-9ce4-d7487f47f154\" target=\"_top\" title=\"psysml:0d28215e-abd0-4258-9ce4-d7487f47f154\" xlink:actuate=\"onRequest\" xlink:href=\"psysml:0d28215e-abd0-4258-9ce4-d7487f47f154\" xlink:show=\"new\" xlink:title=\"psysml:0d28215e-abd0-4258-9ce4-d7487f47f154\" xlink:type=\"simple\"><rect fill=\"#FFFFFF\" height=\"135\" id=\"E4\" style=\"stroke: #383838; stroke-width: 1.5;\" width=\"347\" x=\"7\" y=\"102\"/><rect fill=\"#F8F8F8\" height=\"37.9375\" style=\"stroke: #383838; stroke-width: 1.5;\" width=\"347\" x=\"7\" y=\"102\"/><text fill=\"#000000\" font-family=\"sans-serif\" font-size=\"12\" font-style=\"italic\" lengthAdjust=\"spacingAndGlyphs\" textLength=\"88\" x=\"136.5\" y=\"118.1387\">«analysis def»</text><text fill=\"#000000\" font-family=\"sans-serif\" font-size=\"12\" lengthAdjust=\"spacingAndGlyphs\" textLength=\"77\" x=\"142\" y=\"132.1074\">AnalysisPlan</text></a><!--MD5=[14e3b0961a2654348d326746436168a1]\n",
       "cluster E6--><a href=\"psysml:0f757ff2-27a2-40d5-a25f-af43358ff77a\" target=\"_top\" title=\"psysml:0f757ff2-27a2-40d5-a25f-af43358ff77a\" xlink:actuate=\"onRequest\" xlink:href=\"psysml:0f757ff2-27a2-40d5-a25f-af43358ff77a\" xlink:show=\"new\" xlink:title=\"psysml:0f757ff2-27a2-40d5-a25f-af43358ff77a\" xlink:type=\"simple\"><rect fill=\"#FFFFFF\" height=\"68\" id=\"E6\" rx=\"10\" ry=\"10\" style=\"stroke: #383838; stroke-width: 1.5;\" width=\"220\" x=\"104\" y=\"143\"/><rect fill=\"#F8F8F8\" height=\"37.9375\" rx=\"10\" ry=\"10\" style=\"stroke: #F8F8F8; stroke-width: 1.5;\" width=\"220\" x=\"104\" y=\"143\"/><rect fill=\"#F8F8F8\" height=\"10\" style=\"stroke: #F8F8F8; stroke-width: 1.5;\" width=\"220\" x=\"104\" y=\"170.9375\"/><rect fill=\"none\" height=\"68\" id=\"E6\" rx=\"10\" ry=\"10\" style=\"stroke: #383838; stroke-width: 1.5;\" width=\"220\" x=\"104\" y=\"143\"/><text fill=\"#000000\" font-family=\"sans-serif\" font-size=\"12\" font-style=\"italic\" lengthAdjust=\"spacingAndGlyphs\" textLength=\"64\" x=\"182\" y=\"159.1387\">«analysis»</text><text fill=\"#000000\" font-family=\"sans-serif\" font-size=\"12\" lengthAdjust=\"spacingAndGlyphs\" textLength=\"81\" x=\"173.5\" y=\"173.1074\">analysisCase</text><line style=\"stroke: #383838; stroke-width: 1.0;\" x1=\"104\" x2=\"324\" y1=\"180.9375\" y2=\"180.9375\"/></a><!--MD5=[a84b4591f868c1fa4a211716a82f2f0d]\n",
       "cluster E10--><a href=\"psysml:9d8d7d87-8dd4-470f-9d18-cffbc3763f0c\" target=\"_top\" title=\"psysml:9d8d7d87-8dd4-470f-9d18-cffbc3763f0c\" xlink:actuate=\"onRequest\" xlink:href=\"psysml:9d8d7d87-8dd4-470f-9d18-cffbc3763f0c\" xlink:show=\"new\" xlink:title=\"psysml:9d8d7d87-8dd4-470f-9d18-cffbc3763f0c\" xlink:type=\"simple\"><rect fill=\"#FFFFFF\" height=\"48\" id=\"E10\" rx=\"10\" ry=\"10\" style=\"stroke: #383838; stroke-width: 1.5;\" width=\"289\" x=\"25\" y=\"7\"/><rect fill=\"#F8F8F8\" height=\"37.9375\" rx=\"10\" ry=\"10\" style=\"stroke: #F8F8F8; stroke-width: 1.5;\" width=\"289\" x=\"25\" y=\"7\"/><rect fill=\"#F8F8F8\" height=\"10\" style=\"stroke: #F8F8F8; stroke-width: 1.5;\" width=\"289\" x=\"25\" y=\"34.9375\"/><rect fill=\"none\" height=\"48\" id=\"E10\" rx=\"10\" ry=\"10\" style=\"stroke: #383838; stroke-width: 1.5;\" width=\"289\" x=\"25\" y=\"7\"/><text fill=\"#000000\" font-family=\"sans-serif\" font-size=\"12\" font-style=\"italic\" lengthAdjust=\"spacingAndGlyphs\" textLength=\"64\" x=\"137.5\" y=\"23.1387\">«analysis»</text><text fill=\"#000000\" font-family=\"sans-serif\" font-size=\"12\" lengthAdjust=\"spacingAndGlyphs\" textLength=\"77\" x=\"131\" y=\"37.1074\">analysisPlan</text><line style=\"stroke: #383838; stroke-width: 1.0;\" x1=\"25\" x2=\"314\" y1=\"44.9375\" y2=\"44.9375\"/></a><text fill=\"#000000\" font-family=\"sans-serif\" font-size=\"14\" lengthAdjust=\"spacingAndGlyphs\" textLength=\"7\" x=\"21.5\" y=\"291.6982\">v</text><rect fill=\"#383838\" height=\"12\" style=\"stroke: #F8F8F8; stroke-width: 1.5;\" width=\"12\" x=\"19\" y=\"307\"/><text fill=\"#000000\" font-family=\"sans-serif\" font-size=\"14\" lengthAdjust=\"spacingAndGlyphs\" textLength=\"39\" x=\"276.5\" y=\"291.6982\">result</text><rect fill=\"#383838\" height=\"12\" style=\"stroke: #F8F8F8; stroke-width: 1.5;\" width=\"12\" x=\"290\" y=\"307\"/><text fill=\"#000000\" font-family=\"sans-serif\" font-size=\"14\" lengthAdjust=\"spacingAndGlyphs\" textLength=\"7\" x=\"21.5\" y=\"255.9951\">v</text><rect fill=\"#383838\" height=\"12\" style=\"stroke: #F8F8F8; stroke-width: 1.5;\" width=\"12\" x=\"19\" y=\"231\"/><text fill=\"#000000\" font-family=\"sans-serif\" font-size=\"14\" lengthAdjust=\"spacingAndGlyphs\" textLength=\"39\" x=\"276.5\" y=\"80.6982\">result</text><rect fill=\"#383838\" height=\"12\" style=\"stroke: #F8F8F8; stroke-width: 1.5;\" width=\"12\" x=\"290\" y=\"96\"/><text fill=\"#000000\" font-family=\"sans-serif\" font-size=\"14\" lengthAdjust=\"spacingAndGlyphs\" textLength=\"37\" x=\"305.5\" y=\"155.6982\">mass</text><rect fill=\"#383838\" height=\"12\" style=\"stroke: #F8F8F8; stroke-width: 1.5;\" width=\"12\" x=\"318\" y=\"171\"/><text fill=\"#000000\" font-family=\"sans-serif\" font-size=\"14\" lengthAdjust=\"spacingAndGlyphs\" textLength=\"7\" x=\"100.5\" y=\"155.6982\">v</text><rect fill=\"#383838\" height=\"12\" style=\"stroke: #F8F8F8; stroke-width: 1.5;\" width=\"12\" x=\"98\" y=\"171\"/><text fill=\"#000000\" font-family=\"sans-serif\" font-size=\"14\" lengthAdjust=\"spacingAndGlyphs\" textLength=\"7\" x=\"21.5\" y=\"59.9951\">v</text><rect fill=\"#383838\" height=\"12\" style=\"stroke: #F8F8F8; stroke-width: 1.5;\" width=\"12\" x=\"19\" y=\"35\"/><text fill=\"#000000\" font-family=\"sans-serif\" font-size=\"14\" lengthAdjust=\"spacingAndGlyphs\" textLength=\"39\" x=\"276.5\" y=\"73.9951\">result</text><rect fill=\"#383838\" height=\"12\" style=\"stroke: #F8F8F8; stroke-width: 1.5;\" width=\"12\" x=\"290\" y=\"49\"/><!--MD5=[9be0bd14cfd59d7821b420389e0183d8]\n",
       "@startuml\r\n",
       "skinparam ranksep 8\r\n",
       "left to right direction\r\n",
       "skinparam monochrome true\r\n",
       "skinparam classbackgroundcolor white\r\n",
       "skinparam shadowing false\r\n",
       "skinparam wrapWidth 300\r\n",
       "hide circle\r\n",
       "\r\n",
       "rec def \"AnalysisCase\" as E1 << analysis def>> [[psysml:5016a817-b8b6-43b2-a1c9-71130e2545c5 ]] {\r\n",
       "portin \"v\" as E2  [[psysml:164c7fef-cc79-47d0-81ef-11274fabe5a7 ]] \r\n",
       "portout \"result\" as E3  [[psysml:6e4742d8-6cff-49ed-9a2e-48d7290da8ea ]] \r\n",
       "}\r\n",
       "\r\n",
       "rec def \"AnalysisPlan\" as E4 << analysis def>> [[psysml:0d28215e-abd0-4258-9ce4-d7487f47f154 ]] {\r\n",
       "portin \"v\" as E5  [[psysml:7943f1e5-2d26-4cd3-a00e-7357be36b5d6 ]] \r\n",
       "rec usage \"analysisCase\" as E6 << analysis>> [[psysml:0f757ff2-27a2-40d5-a25f-af43358ff77a ]] {\r\n",
       "portout \"mass\" as E7  [[psysml:ec31ed6f-aea4-4ab3-8935-1d2e29a82c61 ]] \r\n",
       "portin \"v\" as E8  [[psysml:1b55d686-bd3b-4923-8e60-8b313cbf92b9 ]] \r\n",
       "}\r\n",
       "\r\n",
       "portout \"result\" as E9  [[psysml:301e1961-b4b0-4f3f-9bd8-8820561614e6 ]] \r\n",
       "}\r\n",
       "\r\n",
       "rec usage \"analysisPlan\" as E10 << analysis>> [[psysml:9d8d7d87-8dd4-470f-9d18-cffbc3763f0c ]] {\r\n",
       "portin \"v\" as E11  [[psysml:fb21399e-f4a1-4dd2-99a6-b4e6906605c8 ]] \r\n",
       "portout \"result\" as E12  [[psysml:db81a387-1cd1-4bdf-be56-65aa7adff2a2 ]] \r\n",
       "}\r\n",
       "\r\n",
       "@enduml\r\n",
       "\n",
       "PlantUML version 1.2020.13(Sat Jun 13 12:26:38 UTC 2020)\n",
       "(EPL source distribution)\n",
       "Java Runtime: OpenJDK Runtime Environment\n",
       "JVM: OpenJDK 64-Bit Server VM\n",
       "Default Encoding: UTF-8\n",
       "Language: en\n",
       "Country: null\n",
       "--></g></svg>"
      ]
     },
     "execution_count": 20,
     "metadata": {},
     "output_type": "execute_result"
    }
   ],
   "source": [
    "%viz --style=\"LR\" --view=\"Action\" \"AnalysisTest\""
   ]
  },
  {
   "cell_type": "code",
   "execution_count": 21,
   "id": "52adca4b",
   "metadata": {
    "execution": {
     "iopub.execute_input": "2022-02-05T16:52:02.201686Z",
     "iopub.status.busy": "2022-02-05T16:52:02.201281Z",
     "iopub.status.idle": "2022-02-05T16:52:02.205649Z",
     "shell.execute_reply": "2022-02-05T16:52:02.205295Z"
    }
   },
   "outputs": [
    {
     "data": {
      "image/svg+xml": [
       "<?xml version=\"1.0\" encoding=\"UTF-8\" standalone=\"no\"?><svg xmlns=\"http://www.w3.org/2000/svg\" xmlns:xlink=\"http://www.w3.org/1999/xlink\" contentScriptType=\"application/ecmascript\" contentStyleType=\"text/css\" height=\"12px\" preserveAspectRatio=\"none\" style=\"width:12px;height:12px;\" version=\"1.1\" viewBox=\"0 0 12 12\" width=\"12px\" zoomAndPan=\"magnify\"><defs/><g><!--MD5=[238c11ea2002f03115ad6b49a457d50e]\n",
       "@startuml\r\n",
       "skinparam roundcorner 20\r\n",
       "skinparam BoxPadding 20\r\n",
       "skinparam SequenceBoxBackgroundColor #white\r\n",
       "skinparam style strictuml\r\n",
       "skinparam maxMessageSize 100\r\n",
       "left to right direction\r\n",
       "skinparam monochrome true\r\n",
       "skinparam classbackgroundcolor white\r\n",
       "skinparam shadowing false\r\n",
       "skinparam wrapWidth 300\r\n",
       "hide circle\r\n",
       "\r\n",
       "@enduml\r\n",
       "\n",
       "PlantUML version 1.2020.13(Sat Jun 13 12:26:38 UTC 2020)\n",
       "(EPL source distribution)\n",
       "Java Runtime: OpenJDK Runtime Environment\n",
       "JVM: OpenJDK 64-Bit Server VM\n",
       "Default Encoding: UTF-8\n",
       "Language: en\n",
       "Country: null\n",
       "--></g></svg>"
      ]
     },
     "execution_count": 21,
     "metadata": {},
     "output_type": "execute_result"
    }
   ],
   "source": [
    "%viz --style=\"LR\" --view=\"Sequence\" \"AnalysisTest\""
   ]
  },
  {
   "cell_type": "code",
   "execution_count": 22,
   "id": "b156ea7f",
   "metadata": {
    "execution": {
     "iopub.execute_input": "2022-02-05T16:52:02.255617Z",
     "iopub.status.busy": "2022-02-05T16:52:02.255192Z",
     "iopub.status.idle": "2022-02-05T16:52:02.310436Z",
     "shell.execute_reply": "2022-02-05T16:52:02.310083Z"
    }
   },
   "outputs": [
    {
     "data": {
      "image/svg+xml": [
       "<?xml version=\"1.0\" encoding=\"UTF-8\" standalone=\"no\"?><svg xmlns=\"http://www.w3.org/2000/svg\" xmlns:xlink=\"http://www.w3.org/1999/xlink\" contentScriptType=\"application/ecmascript\" contentStyleType=\"text/css\" height=\"335px\" preserveAspectRatio=\"none\" style=\"width:879px;height:335px;\" version=\"1.1\" viewBox=\"0 0 879 335\" width=\"879px\" zoomAndPan=\"magnify\"><defs/><g><!--MD5=[fbc87193dbaf4d95561dea2c320d4a47]\n",
       "cluster E1--><a href=\"psysml:e1dfe890-ec15-4931-b288-05d8c66f0e23\" target=\"_top\" title=\"psysml:e1dfe890-ec15-4931-b288-05d8c66f0e23\" xlink:actuate=\"onRequest\" xlink:href=\"psysml:e1dfe890-ec15-4931-b288-05d8c66f0e23\" xlink:show=\"new\" xlink:title=\"psysml:e1dfe890-ec15-4931-b288-05d8c66f0e23\" xlink:type=\"simple\"><polygon fill=\"#FFFFFF\" points=\"16,6,108,6,115,28.2969,857,28.2969,857,323,16,323,16,6\" style=\"stroke: #000000; stroke-width: 1.5;\"/><line style=\"stroke: #000000; stroke-width: 1.5;\" x1=\"16\" x2=\"115\" y1=\"28.2969\" y2=\"28.2969\"/><text fill=\"#000000\" font-family=\"sans-serif\" font-size=\"14\" font-weight=\"bold\" lengthAdjust=\"spacingAndGlyphs\" textLength=\"86\" x=\"20\" y=\"20.9951\">AnalysisTest</text></a><!--MD5=[14e3b0961a2654348d326746436168a1]\n",
       "cluster E6--><a href=\"psysml:0d28215e-abd0-4258-9ce4-d7487f47f154\" target=\"_top\" title=\"psysml:0d28215e-abd0-4258-9ce4-d7487f47f154\" xlink:actuate=\"onRequest\" xlink:href=\"psysml:0d28215e-abd0-4258-9ce4-d7487f47f154\" xlink:show=\"new\" xlink:title=\"psysml:0d28215e-abd0-4258-9ce4-d7487f47f154\" xlink:type=\"simple\"><rect fill=\"#FFFFFF\" height=\"234\" id=\"E6\" style=\"stroke: #383838; stroke-width: 1.5;\" width=\"140\" x=\"357\" y=\"57\"/><rect fill=\"#F8F8F8\" height=\"37.9375\" style=\"stroke: #383838; stroke-width: 1.5;\" width=\"140\" x=\"357\" y=\"57\"/><text fill=\"#000000\" font-family=\"sans-serif\" font-size=\"12\" font-style=\"italic\" lengthAdjust=\"spacingAndGlyphs\" textLength=\"88\" x=\"383\" y=\"73.1387\">«analysis def»</text><text fill=\"#000000\" font-family=\"sans-serif\" font-size=\"12\" lengthAdjust=\"spacingAndGlyphs\" textLength=\"77\" x=\"388.5\" y=\"87.1074\">AnalysisPlan</text></a><!--MD5=[b4997ac47864f28c2f74865a473b2911]\n",
       "class E2--><a href=\"psysml:e8de7c06-a552-45cc-9ef9-bdca622a4dc8\" target=\"_top\" title=\"psysml:e8de7c06-a552-45cc-9ef9-bdca622a4dc8\" xlink:actuate=\"onRequest\" xlink:href=\"psysml:e8de7c06-a552-45cc-9ef9-bdca622a4dc8\" xlink:show=\"new\" xlink:title=\"psysml:e8de7c06-a552-45cc-9ef9-bdca622a4dc8\" xlink:type=\"simple\"><rect fill=\"#FFFFFF\" height=\"75.5469\" id=\"E2\" style=\"stroke: #383838; stroke-width: 1.5;\" width=\"70\" x=\"771\" y=\"160\"/><text fill=\"#000000\" font-family=\"sans-serif\" font-size=\"12\" font-style=\"italic\" lengthAdjust=\"spacingAndGlyphs\" textLength=\"68\" x=\"772\" y=\"176.1387\">«part  def»</text><text fill=\"#000000\" font-family=\"sans-serif\" font-size=\"12\" lengthAdjust=\"spacingAndGlyphs\" textLength=\"8\" x=\"802\" y=\"190.1074\">V</text><line style=\"stroke: #383838; stroke-width: 1.5;\" x1=\"772\" x2=\"840\" y1=\"197.9375\" y2=\"197.9375\"/><text fill=\"#000000\" font-family=\"sans-serif\" font-size=\"11\" lengthAdjust=\"spacingAndGlyphs\" textLength=\"11\" x=\"777\" y=\"228.9526\">m</text><line style=\"stroke: #383838; stroke-width: 1.0;\" x1=\"772\" x2=\"775\" y1=\"212.3398\" y2=\"212.3398\"/><text fill=\"#000000\" font-family=\"sans-serif\" font-size=\"11\" lengthAdjust=\"spacingAndGlyphs\" textLength=\"62\" x=\"775\" y=\"215.6479\">references</text><line style=\"stroke: #383838; stroke-width: 1.0;\" x1=\"837\" x2=\"840\" y1=\"212.3398\" y2=\"212.3398\"/></a><!--MD5=[09b614a08d8cba4a07c9adeb5e0fee81]\n",
       "class E3--><a href=\"psysml:e405eddc-d04c-43ee-94c7-f68d6bd4037b\" target=\"_top\" title=\"psysml:e405eddc-d04c-43ee-94c7-f68d6bd4037b\" xlink:actuate=\"onRequest\" xlink:href=\"psysml:e405eddc-d04c-43ee-94c7-f68d6bd4037b\" xlink:show=\"new\" xlink:title=\"psysml:e405eddc-d04c-43ee-94c7-f68d6bd4037b\" xlink:type=\"simple\"><rect fill=\"#FFFFFF\" height=\"45.9375\" id=\"E3\" rx=\"10\" ry=\"10\" style=\"stroke: #383838; stroke-width: 1.5;\" width=\"42\" x=\"578.5\" y=\"95\"/><text fill=\"#000000\" font-family=\"sans-serif\" font-size=\"12\" font-style=\"italic\" lengthAdjust=\"spacingAndGlyphs\" textLength=\"40\" x=\"579.5\" y=\"111.1387\">«part»</text><text fill=\"#000000\" font-family=\"sans-serif\" font-size=\"12\" lengthAdjust=\"spacingAndGlyphs\" textLength=\"28\" x=\"583.5\" y=\"125.1074\">vv: V</text><line style=\"stroke: #383838; stroke-width: 1.5;\" x1=\"579.5\" x2=\"619.5\" y1=\"132.9375\" y2=\"132.9375\"/></a><!--MD5=[ebbe1d658d1005bcc118a6aa81145e00]\n",
       "class E4--><a href=\"psysml:61935c6a-e9b2-427b-8e93-9f8ea2764a4f\" target=\"_top\" title=\"psysml:61935c6a-e9b2-427b-8e93-9f8ea2764a4f\" xlink:actuate=\"onRequest\" xlink:href=\"psysml:61935c6a-e9b2-427b-8e93-9f8ea2764a4f\" xlink:show=\"new\" xlink:title=\"psysml:61935c6a-e9b2-427b-8e93-9f8ea2764a4f\" xlink:type=\"simple\"><rect fill=\"#FFFFFF\" height=\"66.7422\" id=\"E4\" style=\"stroke: #383838; stroke-width: 1.5;\" width=\"121\" x=\"32\" y=\"99.5\"/><text fill=\"#000000\" font-family=\"sans-serif\" font-size=\"12\" font-style=\"italic\" lengthAdjust=\"spacingAndGlyphs\" textLength=\"119\" x=\"33\" y=\"115.6387\">«requirement  def»</text><text fill=\"#000000\" font-family=\"sans-serif\" font-size=\"12\" lengthAdjust=\"spacingAndGlyphs\" textLength=\"107\" x=\"39\" y=\"129.6074\">AnalysisObjective</text><line style=\"stroke: #383838; stroke-width: 1.5;\" x1=\"33\" x2=\"152\" y1=\"137.4375\" y2=\"137.4375\"/><text fill=\"#000000\" font-family=\"sans-serif\" font-size=\"11\" lengthAdjust=\"spacingAndGlyphs\" textLength=\"12\" x=\"38\" y=\"151.6479\">...</text><line style=\"stroke: #383838; stroke-width: 1.0;\" x1=\"33\" x2=\"152\" y1=\"158.2422\" y2=\"158.2422\"/></a><!--MD5=[fd4143e9d270a159db93a4ea2a975926]\n",
       "class E9--><a href=\"psysml:b24749b9-9e77-4740-bd21-7fc3830bb957\" target=\"_top\" title=\"psysml:b24749b9-9e77-4740-bd21-7fc3830bb957\" xlink:actuate=\"onRequest\" xlink:href=\"psysml:b24749b9-9e77-4740-bd21-7fc3830bb957\" xlink:show=\"new\" xlink:title=\"psysml:b24749b9-9e77-4740-bd21-7fc3830bb957\" xlink:type=\"simple\"><rect fill=\"#FFFFFF\" height=\"45.9375\" id=\"E9\" rx=\"10\" ry=\"10\" style=\"stroke: #383838; stroke-width: 1.5;\" width=\"108\" x=\"38.5\" y=\"260\"/><text fill=\"#000000\" font-family=\"sans-serif\" font-size=\"12\" font-style=\"italic\" lengthAdjust=\"spacingAndGlyphs\" textLength=\"40\" x=\"72.5\" y=\"276.1387\">«part»</text><text fill=\"#000000\" font-family=\"sans-serif\" font-size=\"12\" lengthAdjust=\"spacingAndGlyphs\" textLength=\"98\" x=\"41.5\" y=\"290.1074\">analysisContext</text><line style=\"stroke: #383838; stroke-width: 1.5;\" x1=\"39.5\" x2=\"145.5\" y1=\"297.9375\" y2=\"297.9375\"/></a><g id=\"E1.E5\"><a href=\"psysml:5016a817-b8b6-43b2-a1c9-71130e2545c5\" target=\"_top\" title=\"psysml:5016a817-b8b6-43b2-a1c9-71130e2545c5\" xlink:actuate=\"onRequest\" xlink:href=\"psysml:5016a817-b8b6-43b2-a1c9-71130e2545c5\" xlink:show=\"new\" xlink:title=\"psysml:5016a817-b8b6-43b2-a1c9-71130e2545c5\" xlink:type=\"simple\"><rect fill=\"#FFFFFF\" height=\"42.9375\" id=\"E5\" style=\"stroke: #383838; stroke-width: 1.5;\" width=\"95\" x=\"552\" y=\"176.5\"/><rect fill=\"#F8F8F8\" height=\"37.9375\" style=\"stroke: #383838; stroke-width: 1.5;\" width=\"95\" x=\"552\" y=\"176.5\"/><text fill=\"#000000\" font-family=\"sans-serif\" font-size=\"12\" font-style=\"italic\" lengthAdjust=\"spacingAndGlyphs\" textLength=\"88\" x=\"555.5\" y=\"192.6387\">«analysis def»</text><text fill=\"#000000\" font-family=\"sans-serif\" font-size=\"12\" lengthAdjust=\"spacingAndGlyphs\" textLength=\"81\" x=\"559\" y=\"206.6074\">AnalysisCase</text></a></g><!--MD5=[2156ba9850f5573cc1fc38a6a4b2f02b]\n",
       "class E7--><a href=\"psysml:317ace64-a3b7-4095-b75a-9c551641bbd2\" target=\"_top\" title=\"psysml:317ace64-a3b7-4095-b75a-9c551641bbd2\" xlink:actuate=\"onRequest\" xlink:href=\"psysml:317ace64-a3b7-4095-b75a-9c551641bbd2\" xlink:show=\"new\" xlink:title=\"psysml:317ace64-a3b7-4095-b75a-9c551641bbd2\" xlink:type=\"simple\"><rect fill=\"#FFFFFF\" height=\"52.7734\" id=\"E7\" rx=\"10\" ry=\"10\" style=\"stroke: #383838; stroke-width: 1.5;\" width=\"84\" x=\"385\" y=\"116.5\"/><text fill=\"#000000\" font-family=\"sans-serif\" font-size=\"12\" lengthAdjust=\"spacingAndGlyphs\" textLength=\"70\" x=\"392\" y=\"132.6387\">«objective»</text><line style=\"stroke: #383838; stroke-width: 1.5;\" x1=\"386\" x2=\"468\" y1=\"140.4688\" y2=\"140.4688\"/><text fill=\"#000000\" font-family=\"sans-serif\" font-size=\"11\" lengthAdjust=\"spacingAndGlyphs\" textLength=\"12\" x=\"391\" y=\"154.6792\">...</text><line style=\"stroke: #383838; stroke-width: 1.0;\" x1=\"386\" x2=\"468\" y1=\"161.2734\" y2=\"161.2734\"/></a><g id=\"E1.E6.E8\"><a href=\"psysml:0f757ff2-27a2-40d5-a25f-af43358ff77a\" target=\"_top\" title=\"psysml:0f757ff2-27a2-40d5-a25f-af43358ff77a\" xlink:actuate=\"onRequest\" xlink:href=\"psysml:0f757ff2-27a2-40d5-a25f-af43358ff77a\" xlink:show=\"new\" xlink:title=\"psysml:0f757ff2-27a2-40d5-a25f-af43358ff77a\" xlink:type=\"simple\"><rect fill=\"#FFFFFF\" height=\"42.9375\" id=\"E8\" rx=\"10\" ry=\"10\" style=\"stroke: #383838; stroke-width: 1.5;\" width=\"92\" x=\"381\" y=\"204.5\"/><rect fill=\"#F8F8F8\" height=\"37.9375\" rx=\"10\" ry=\"10\" style=\"stroke: #F8F8F8; stroke-width: 1.5;\" width=\"92\" x=\"381\" y=\"204.5\"/><rect fill=\"#F8F8F8\" height=\"10\" style=\"stroke: #F8F8F8; stroke-width: 1.5;\" width=\"92\" x=\"381\" y=\"232.4375\"/><rect fill=\"none\" height=\"42.9375\" id=\"E8\" rx=\"10\" ry=\"10\" style=\"stroke: #383838; stroke-width: 1.5;\" width=\"92\" x=\"381\" y=\"204.5\"/><text fill=\"#000000\" font-family=\"sans-serif\" font-size=\"12\" font-style=\"italic\" lengthAdjust=\"spacingAndGlyphs\" textLength=\"64\" x=\"395\" y=\"220.6387\">«analysis»</text><text fill=\"#000000\" font-family=\"sans-serif\" font-size=\"12\" lengthAdjust=\"spacingAndGlyphs\" textLength=\"81\" x=\"386.5\" y=\"234.6074\">analysisCase</text></a></g><g id=\"E1.E10\"><a href=\"psysml:9d8d7d87-8dd4-470f-9d18-cffbc3763f0c\" target=\"_top\" title=\"psysml:9d8d7d87-8dd4-470f-9d18-cffbc3763f0c\" xlink:actuate=\"onRequest\" xlink:href=\"psysml:9d8d7d87-8dd4-470f-9d18-cffbc3763f0c\" xlink:show=\"new\" xlink:title=\"psysml:9d8d7d87-8dd4-470f-9d18-cffbc3763f0c\" xlink:type=\"simple\"><rect fill=\"#FFFFFF\" height=\"42.9375\" id=\"E10\" rx=\"10\" ry=\"10\" style=\"stroke: #383838; stroke-width: 1.5;\" width=\"88\" x=\"214\" y=\"261.5\"/><rect fill=\"#F8F8F8\" height=\"37.9375\" rx=\"10\" ry=\"10\" style=\"stroke: #F8F8F8; stroke-width: 1.5;\" width=\"88\" x=\"214\" y=\"261.5\"/><rect fill=\"#F8F8F8\" height=\"10\" style=\"stroke: #F8F8F8; stroke-width: 1.5;\" width=\"88\" x=\"214\" y=\"289.4375\"/><rect fill=\"none\" height=\"42.9375\" id=\"E10\" rx=\"10\" ry=\"10\" style=\"stroke: #383838; stroke-width: 1.5;\" width=\"88\" x=\"214\" y=\"261.5\"/><text fill=\"#000000\" font-family=\"sans-serif\" font-size=\"12\" font-style=\"italic\" lengthAdjust=\"spacingAndGlyphs\" textLength=\"64\" x=\"226\" y=\"277.6387\">«analysis»</text><text fill=\"#000000\" font-family=\"sans-serif\" font-size=\"12\" lengthAdjust=\"spacingAndGlyphs\" textLength=\"77\" x=\"219.5\" y=\"291.6074\">analysisPlan</text></a></g><!--MD5=[05d275557350bfb9b23a4ef7222b4c39]\n",
       "link E3 to E2--><a href=\"psysml:f45a4065-dcd9-4d0e-be10-466e9a1a32d6\" target=\"_top\" title=\"psysml:f45a4065-dcd9-4d0e-be10-466e9a1a32d6\" xlink:actuate=\"onRequest\" xlink:href=\"psysml:f45a4065-dcd9-4d0e-be10-466e9a1a32d6\" xlink:show=\"new\" xlink:title=\"psysml:f45a4065-dcd9-4d0e-be10-466e9a1a32d6\" xlink:type=\"simple\"><path d=\"M620.86,125.96 C651.19,137.83 709.27,160.55 752.12,177.31 \" fill=\"none\" id=\"E3-&gt;E2\" style=\"stroke: #383838; stroke-width: 1.0;\"/><polygon fill=\"#FFFFFF\" points=\"770.88,184.65,750.6356,184.2434,755.7383,171.2064,770.88,184.65\" style=\"stroke: #383838; stroke-width: 1.0;\"/><ellipse cx=\"746.0567\" cy=\"180.3034\" fill=\"#383838\" rx=\"2\" ry=\"2\" style=\"stroke: #383838; stroke-width: 1.0;\"/><ellipse cx=\"749.7015\" cy=\"170.9913\" fill=\"#383838\" rx=\"2\" ry=\"2\" style=\"stroke: #383838; stroke-width: 1.0;\"/></a><!--MD5=[15ebcb19ae302d9b601edb458606d402]\n",
       "link E5 to E2--><a href=\"psysml:4ce798b4-e7f7-45ac-94f6-a9dc23ec95c2\" target=\"_top\" title=\"psysml:4ce798b4-e7f7-45ac-94f6-a9dc23ec95c2\" xlink:actuate=\"onRequest\" xlink:href=\"psysml:4ce798b4-e7f7-45ac-94f6-a9dc23ec95c2\" xlink:show=\"new\" xlink:title=\"psysml:4ce798b4-e7f7-45ac-94f6-a9dc23ec95c2\" xlink:type=\"simple\"><path d=\"M647.16,198 C682.97,198 731.84,198 765.68,198 \" fill=\"none\" id=\"E5-&gt;E2\" style=\"stroke: #383838; stroke-width: 1.0; stroke-dasharray: 7.0,7.0;\"/><polygon fill=\"#383838\" points=\"770.97,198,761.97,194,765.97,198,761.97,202,770.97,198\" style=\"stroke: #383838; stroke-width: 1.0;\"/><text fill=\"#000000\" font-family=\"sans-serif\" font-size=\"13\" lengthAdjust=\"spacingAndGlyphs\" textLength=\"62\" x=\"678\" y=\"194.0669\">«subject»</text></a><!--MD5=[2351f337d6de0f557b50152ba70847b5]\n",
       "link E6 to E2--><a href=\"psysml:38ee38e5-fe2f-49e8-a238-8ef961814591\" target=\"_top\" title=\"psysml:38ee38e5-fe2f-49e8-a238-8ef961814591\" xlink:actuate=\"onRequest\" xlink:href=\"psysml:38ee38e5-fe2f-49e8-a238-8ef961814591\" xlink:show=\"new\" xlink:title=\"psysml:38ee38e5-fe2f-49e8-a238-8ef961814591\" xlink:type=\"simple\"><path d=\"M497.8143,277.5079 C498.4614,277.4432 499.1115,277.3779 499.7644,277.3118 C501.0703,277.1798 502.3878,277.045 503.7163,276.9075 C546.2275,272.5075 600.015,265.305 647,254 C688.5,244.02 734.3,227.09 765.86,214.46 \" fill=\"none\" id=\"E6-&gt;E2\" style=\"stroke: #383838; stroke-width: 1.0; stroke-dasharray: 7.0,7.0;\"/><polygon fill=\"#383838\" points=\"770.8,212.47,760.9581,212.0986,766.1576,214.327,763.9293,219.5264,770.8,212.47\" style=\"stroke: #383838; stroke-width: 1.0;\"/><text fill=\"#000000\" font-family=\"sans-serif\" font-size=\"13\" lengthAdjust=\"spacingAndGlyphs\" textLength=\"62\" x=\"568.5\" y=\"250.0669\">«subject»</text></a><!--MD5=[1ccb2481ffa92f8d51a74ee30c51832a]\n",
       "link E8 to E5--><a href=\"psysml:cf5e8ef0-758f-412b-8419-a299a9750eac\" target=\"_top\" title=\"psysml:cf5e8ef0-758f-412b-8419-a299a9750eac\" xlink:actuate=\"onRequest\" xlink:href=\"psysml:cf5e8ef0-758f-412b-8419-a299a9750eac\" xlink:show=\"new\" xlink:title=\"psysml:cf5e8ef0-758f-412b-8419-a299a9750eac\" xlink:type=\"simple\"><path d=\"M473.24,218.57 C491.26,215.61 512.35,212.15 532.04,208.91 \" fill=\"none\" id=\"E8-&gt;E5\" style=\"stroke: #383838; stroke-width: 1.0;\"/><polygon fill=\"#FFFFFF\" points=\"551.86,205.66,534.2388,215.6346,531.9794,201.8181,551.86,205.66\" style=\"stroke: #383838; stroke-width: 1.0;\"/><ellipse cx=\"528.2907\" cy=\"214.5807\" fill=\"#383838\" rx=\"2\" ry=\"2\" style=\"stroke: #383838; stroke-width: 1.0;\"/><ellipse cx=\"526.6769\" cy=\"204.7118\" fill=\"#383838\" rx=\"2\" ry=\"2\" style=\"stroke: #383838; stroke-width: 1.0;\"/></a><!--MD5=[198716bf12f04006f5c20d61bde6d80d]\n",
       "link E10 to E6--><a href=\"psysml:4172c94c-9fb8-4464-b137-e530fc31134b\" target=\"_top\" title=\"psysml:4172c94c-9fb8-4464-b137-e530fc31134b\" xlink:actuate=\"onRequest\" xlink:href=\"psysml:4172c94c-9fb8-4464-b137-e530fc31134b\" xlink:show=\"new\" xlink:title=\"psysml:4172c94c-9fb8-4464-b137-e530fc31134b\" xlink:type=\"simple\"><path d=\"M302.01,283 C314.185,283 327.8769,283 341.6017,283 C345.0329,283 348.4662,283 351.8783,283 C353.5844,283 355.2852,283 356.9778,283 \" fill=\"none\" id=\"E10-&gt;E6\" style=\"stroke: #383838; stroke-width: 1.0;\"/><polygon fill=\"#FFFFFF\" points=\"356.9778,283,337.9778,290,337.9778,276,356.9778,283\" style=\"stroke: #383838; stroke-width: 1.0;\"/><ellipse cx=\"332.2778\" cy=\"288\" fill=\"#383838\" rx=\"2\" ry=\"2\" style=\"stroke: #383838; stroke-width: 1.0;\"/><ellipse cx=\"332.2778\" cy=\"278\" fill=\"#383838\" rx=\"2\" ry=\"2\" style=\"stroke: #383838; stroke-width: 1.0;\"/></a><!--MD5=[23ac544a70576c3e717098101004234c]\n",
       "reverse link E9 to E10--><a href=\"psysml:9d8d7d87-8dd4-470f-9d18-cffbc3763f0c\" target=\"_top\" title=\"psysml:9d8d7d87-8dd4-470f-9d18-cffbc3763f0c\" xlink:actuate=\"onRequest\" xlink:href=\"psysml:9d8d7d87-8dd4-470f-9d18-cffbc3763f0c\" xlink:show=\"new\" xlink:title=\"psysml:9d8d7d87-8dd4-470f-9d18-cffbc3763f0c\" xlink:type=\"simple\"><path d=\"M159.67,283 C177.98,283 197.37,283 213.99,283 \" fill=\"none\" id=\"E9&lt;-E10\" style=\"stroke: #383838; stroke-width: 1.0;\"/><polygon fill=\"#383838\" points=\"146.58,283,152.58,287,158.58,283,152.58,279,146.58,283\" style=\"stroke: #383838; stroke-width: 1.0;\"/></a><!--MD5=[e99bf5e1e0666379b176fbf8767fe457]\n",
       "@startuml\r\n",
       "left to right direction\r\n",
       "skinparam monochrome true\r\n",
       "skinparam classbackgroundcolor white\r\n",
       "skinparam shadowing false\r\n",
       "skinparam wrapWidth 300\r\n",
       "hide circle\r\n",
       "\r\n",
       "package \"AnalysisTest\" as E1  [[psysml:e1dfe890-ec15-4931-b288-05d8c66f0e23 ]]  {\r\n",
       "comp def \"V\" as E2  <<(T,blue) part  def>> [[psysml:e8de7c06-a552-45cc-9ef9-bdca622a4dc8 ]] {\r\n",
       "- - references - -\r\n",
       "m\r\n",
       "}\r\n",
       "comp usage \"vv: V \" as E3  <<(T,blue) part>> [[psysml:e405eddc-d04c-43ee-94c7-f68d6bd4037b ]] {\r\n",
       "}\r\n",
       "comp def \"AnalysisObjective\" as E4  <<(T,blue) requirement  def>> [[psysml:61935c6a-e9b2-427b-8e93-9f8ea2764a4f ]] {\r\n",
       "...\r\n",
       "- -\r\n",
       "}\r\n",
       "rec def \"AnalysisCase\" as E5 << analysis def>> [[psysml:5016a817-b8b6-43b2-a1c9-71130e2545c5 ]] {\r\n",
       "}\r\n",
       "rec def \"AnalysisPlan\" as E6 << analysis def>> [[psysml:0d28215e-abd0-4258-9ce4-d7487f47f154 ]] {\r\n",
       "comp usage \" <U+00AB>objective<U+00BB> \" as E7 [[psysml:317ace64-a3b7-4095-b75a-9c551641bbd2 ]] {\r\n",
       "...\r\n",
       "- -\r\n",
       "}\r\n",
       "rec usage \"analysisCase\" as E8 << analysis>> [[psysml:0f757ff2-27a2-40d5-a25f-af43358ff77a ]] {\r\n",
       "}\r\n",
       "}\r\n",
       "comp usage \"analysisContext \" as E9  <<(T,blue) part>> [[psysml:b24749b9-9e77-4740-bd21-7fc3830bb957 ]] {\r\n",
       "}\r\n",
       "rec usage \"analysisPlan\" as E10 << analysis>> [[psysml:9d8d7d87-8dd4-470f-9d18-cffbc3763f0c ]] {\r\n",
       "}\r\n",
       "}\r\n",
       "E3 - -:|> E2 [[psysml:f45a4065-dcd9-4d0e-be10-466e9a1a32d6 ]] \r\n",
       "E5 ..> E2 [[psysml:4ce798b4-e7f7-45ac-94f6-a9dc23ec95c2 ]] : <<subject>>\r\n",
       "E6 ..> E2 [[psysml:38ee38e5-fe2f-49e8-a238-8ef961814591 ]] : <<subject>>\r\n",
       "E8 - -:|> E5 [[psysml:cf5e8ef0-758f-412b-8419-a299a9750eac ]] \r\n",
       "E10 - -:|> E6 [[psysml:4172c94c-9fb8-4464-b137-e530fc31134b ]] \r\n",
       "E9 *- - E10 [[psysml:9d8d7d87-8dd4-470f-9d18-cffbc3763f0c ]] \r\n",
       "@enduml\r\n",
       "\n",
       "PlantUML version 1.2020.13(Sat Jun 13 12:26:38 UTC 2020)\n",
       "(EPL source distribution)\n",
       "Java Runtime: OpenJDK Runtime Environment\n",
       "JVM: OpenJDK 64-Bit Server VM\n",
       "Default Encoding: UTF-8\n",
       "Language: en\n",
       "Country: null\n",
       "--></g></svg>"
      ]
     },
     "execution_count": 22,
     "metadata": {},
     "output_type": "execute_result"
    }
   ],
   "source": [
    "%viz --style=\"LR\" --view=\"MIXED\" \"AnalysisTest\""
   ]
  },
  {
   "cell_type": "code",
   "execution_count": 23,
   "id": "d2daea39",
   "metadata": {
    "execution": {
     "iopub.execute_input": "2022-02-05T16:52:02.360134Z",
     "iopub.status.busy": "2022-02-05T16:52:02.359735Z",
     "iopub.status.idle": "2022-02-05T16:52:02.415737Z",
     "shell.execute_reply": "2022-02-05T16:52:02.415383Z"
    }
   },
   "outputs": [
    {
     "data": {
      "image/svg+xml": [
       "<?xml version=\"1.0\" encoding=\"UTF-8\" standalone=\"no\"?><svg xmlns=\"http://www.w3.org/2000/svg\" xmlns:xlink=\"http://www.w3.org/1999/xlink\" contentScriptType=\"application/ecmascript\" contentStyleType=\"text/css\" height=\"685px\" preserveAspectRatio=\"none\" style=\"width:380px;height:685px;\" version=\"1.1\" viewBox=\"0 0 380 685\" width=\"380px\" zoomAndPan=\"magnify\"><defs><filter height=\"300%\" id=\"f1jnidbuqfw36m\" width=\"300%\" x=\"-1\" y=\"-1\"><feGaussianBlur result=\"blurOut\" stdDeviation=\"2.0\"/><feColorMatrix in=\"blurOut\" result=\"blurOut2\" type=\"matrix\" values=\"0 0 0 0 0 0 0 0 0 0 0 0 0 0 0 0 0 0 .4 0\"/><feOffset dx=\"4.0\" dy=\"4.0\" in=\"blurOut2\" result=\"blurOut3\"/><feBlend in=\"SourceGraphic\" in2=\"blurOut3\" mode=\"normal\"/></filter></defs><g><!--MD5=[fbc87193dbaf4d95561dea2c320d4a47]\n",
       "cluster E1--><a href=\"psysml:e1dfe890-ec15-4931-b288-05d8c66f0e23\" target=\"_top\" title=\"psysml:e1dfe890-ec15-4931-b288-05d8c66f0e23\" xlink:actuate=\"onRequest\" xlink:href=\"psysml:e1dfe890-ec15-4931-b288-05d8c66f0e23\" xlink:show=\"new\" xlink:title=\"psysml:e1dfe890-ec15-4931-b288-05d8c66f0e23\" xlink:type=\"simple\"><polygon fill=\"#FFFFFF\" filter=\"url(#f1jnidbuqfw36m)\" points=\"16,6,108,6,115,28.2969,358,28.2969,358,673,16,673,16,6\" style=\"stroke: #000000; stroke-width: 1.5;\"/><line style=\"stroke: #000000; stroke-width: 1.5;\" x1=\"16\" x2=\"115\" y1=\"28.2969\" y2=\"28.2969\"/><text fill=\"#000000\" font-family=\"sans-serif\" font-size=\"14\" font-weight=\"bold\" lengthAdjust=\"spacingAndGlyphs\" textLength=\"86\" x=\"20\" y=\"20.9951\">AnalysisTest</text></a><!--MD5=[14e3b0961a2654348d326746436168a1]\n",
       "cluster E6--><a href=\"psysml:0d28215e-abd0-4258-9ce4-d7487f47f154\" target=\"_top\" title=\"psysml:0d28215e-abd0-4258-9ce4-d7487f47f154\" xlink:actuate=\"onRequest\" xlink:href=\"psysml:0d28215e-abd0-4258-9ce4-d7487f47f154\" xlink:show=\"new\" xlink:title=\"psysml:0d28215e-abd0-4258-9ce4-d7487f47f154\" xlink:type=\"simple\"><rect fill=\"#FFFFFF\" filter=\"url(#f1jnidbuqfw36m)\" height=\"136\" id=\"E6\" style=\"stroke: #A80036; stroke-width: 1.5;\" width=\"278\" x=\"48\" y=\"267\"/><rect fill=\"#FEFECE\" height=\"37.9375\" style=\"stroke: #A80036; stroke-width: 1.5;\" width=\"278\" x=\"48\" y=\"267\"/><text fill=\"#000000\" font-family=\"sans-serif\" font-size=\"12\" font-style=\"italic\" lengthAdjust=\"spacingAndGlyphs\" textLength=\"88\" x=\"143\" y=\"283.1387\">«analysis def»</text><text fill=\"#000000\" font-family=\"sans-serif\" font-size=\"12\" lengthAdjust=\"spacingAndGlyphs\" textLength=\"77\" x=\"148.5\" y=\"297.1074\">AnalysisPlan</text></a><!--MD5=[b4997ac47864f28c2f74865a473b2911]\n",
       "class E2--><a href=\"psysml:e8de7c06-a552-45cc-9ef9-bdca622a4dc8\" target=\"_top\" title=\"psysml:e8de7c06-a552-45cc-9ef9-bdca622a4dc8\" xlink:actuate=\"onRequest\" xlink:href=\"psysml:e8de7c06-a552-45cc-9ef9-bdca622a4dc8\" xlink:show=\"new\" xlink:title=\"psysml:e8de7c06-a552-45cc-9ef9-bdca622a4dc8\" xlink:type=\"simple\"><rect fill=\"#FEFECE\" filter=\"url(#f1jnidbuqfw36m)\" height=\"75.5469\" id=\"E2\" style=\"stroke: #A80036; stroke-width: 1.5;\" width=\"70\" x=\"179\" y=\"581\"/><text fill=\"#000000\" font-family=\"sans-serif\" font-size=\"12\" font-style=\"italic\" lengthAdjust=\"spacingAndGlyphs\" textLength=\"68\" x=\"180\" y=\"597.1387\">«part  def»</text><text fill=\"#000000\" font-family=\"sans-serif\" font-size=\"12\" lengthAdjust=\"spacingAndGlyphs\" textLength=\"8\" x=\"210\" y=\"611.1074\">V</text><line style=\"stroke: #A80036; stroke-width: 1.5;\" x1=\"180\" x2=\"248\" y1=\"618.9375\" y2=\"618.9375\"/><text fill=\"#000000\" font-family=\"sans-serif\" font-size=\"11\" lengthAdjust=\"spacingAndGlyphs\" textLength=\"11\" x=\"185\" y=\"649.9526\">m</text><line style=\"stroke: #A80036; stroke-width: 1.0;\" x1=\"180\" x2=\"183\" y1=\"633.3398\" y2=\"633.3398\"/><text fill=\"#000000\" font-family=\"sans-serif\" font-size=\"11\" lengthAdjust=\"spacingAndGlyphs\" textLength=\"62\" x=\"183\" y=\"636.6479\">references</text><line style=\"stroke: #A80036; stroke-width: 1.0;\" x1=\"245\" x2=\"248\" y1=\"633.3398\" y2=\"633.3398\"/></a><!--MD5=[09b614a08d8cba4a07c9adeb5e0fee81]\n",
       "class E3--><a href=\"psysml:e405eddc-d04c-43ee-94c7-f68d6bd4037b\" target=\"_top\" title=\"psysml:e405eddc-d04c-43ee-94c7-f68d6bd4037b\" xlink:actuate=\"onRequest\" xlink:href=\"psysml:e405eddc-d04c-43ee-94c7-f68d6bd4037b\" xlink:show=\"new\" xlink:title=\"psysml:e405eddc-d04c-43ee-94c7-f68d6bd4037b\" xlink:type=\"simple\"><rect fill=\"#FEFECE\" filter=\"url(#f1jnidbuqfw36m)\" height=\"45.9375\" id=\"E3\" rx=\"10\" ry=\"10\" style=\"stroke: #A80036; stroke-width: 1.5;\" width=\"42\" x=\"297\" y=\"458\"/><text fill=\"#000000\" font-family=\"sans-serif\" font-size=\"12\" font-style=\"italic\" lengthAdjust=\"spacingAndGlyphs\" textLength=\"40\" x=\"298\" y=\"474.1387\">«part»</text><text fill=\"#000000\" font-family=\"sans-serif\" font-size=\"12\" lengthAdjust=\"spacingAndGlyphs\" textLength=\"28\" x=\"302\" y=\"488.1074\">vv: V</text><line style=\"stroke: #A80036; stroke-width: 1.5;\" x1=\"298\" x2=\"338\" y1=\"495.9375\" y2=\"495.9375\"/></a><!--MD5=[ebbe1d658d1005bcc118a6aa81145e00]\n",
       "class E4--><a href=\"psysml:61935c6a-e9b2-427b-8e93-9f8ea2764a4f\" target=\"_top\" title=\"psysml:61935c6a-e9b2-427b-8e93-9f8ea2764a4f\" xlink:actuate=\"onRequest\" xlink:href=\"psysml:61935c6a-e9b2-427b-8e93-9f8ea2764a4f\" xlink:show=\"new\" xlink:title=\"psysml:61935c6a-e9b2-427b-8e93-9f8ea2764a4f\" xlink:type=\"simple\"><rect fill=\"#FEFECE\" filter=\"url(#f1jnidbuqfw36m)\" height=\"66.7422\" id=\"E4\" style=\"stroke: #A80036; stroke-width: 1.5;\" width=\"121\" x=\"197.5\" y=\"41\"/><text fill=\"#000000\" font-family=\"sans-serif\" font-size=\"12\" font-style=\"italic\" lengthAdjust=\"spacingAndGlyphs\" textLength=\"119\" x=\"198.5\" y=\"57.1387\">«requirement  def»</text><text fill=\"#000000\" font-family=\"sans-serif\" font-size=\"12\" lengthAdjust=\"spacingAndGlyphs\" textLength=\"107\" x=\"204.5\" y=\"71.1074\">AnalysisObjective</text><line style=\"stroke: #A80036; stroke-width: 1.5;\" x1=\"198.5\" x2=\"317.5\" y1=\"78.9375\" y2=\"78.9375\"/><text fill=\"#000000\" font-family=\"sans-serif\" font-size=\"11\" lengthAdjust=\"spacingAndGlyphs\" textLength=\"12\" x=\"203.5\" y=\"93.1479\">...</text><line style=\"stroke: #A80036; stroke-width: 1.0;\" x1=\"198.5\" x2=\"317.5\" y1=\"99.7422\" y2=\"99.7422\"/></a><!--MD5=[fd4143e9d270a159db93a4ea2a975926]\n",
       "class E9--><a href=\"psysml:b24749b9-9e77-4740-bd21-7fc3830bb957\" target=\"_top\" title=\"psysml:b24749b9-9e77-4740-bd21-7fc3830bb957\" xlink:actuate=\"onRequest\" xlink:href=\"psysml:b24749b9-9e77-4740-bd21-7fc3830bb957\" xlink:show=\"new\" xlink:title=\"psysml:b24749b9-9e77-4740-bd21-7fc3830bb957\" xlink:type=\"simple\"><rect fill=\"#FEFECE\" filter=\"url(#f1jnidbuqfw36m)\" height=\"45.9375\" id=\"E9\" rx=\"10\" ry=\"10\" style=\"stroke: #A80036; stroke-width: 1.5;\" width=\"108\" x=\"32\" y=\"51.5\"/><text fill=\"#000000\" font-family=\"sans-serif\" font-size=\"12\" font-style=\"italic\" lengthAdjust=\"spacingAndGlyphs\" textLength=\"40\" x=\"66\" y=\"67.6387\">«part»</text><text fill=\"#000000\" font-family=\"sans-serif\" font-size=\"12\" lengthAdjust=\"spacingAndGlyphs\" textLength=\"98\" x=\"35\" y=\"81.6074\">analysisContext</text><line style=\"stroke: #A80036; stroke-width: 1.5;\" x1=\"33\" x2=\"139\" y1=\"89.4375\" y2=\"89.4375\"/></a><g id=\"E1.E5\"><a href=\"psysml:5016a817-b8b6-43b2-a1c9-71130e2545c5\" target=\"_top\" title=\"psysml:5016a817-b8b6-43b2-a1c9-71130e2545c5\" xlink:actuate=\"onRequest\" xlink:href=\"psysml:5016a817-b8b6-43b2-a1c9-71130e2545c5\" xlink:show=\"new\" xlink:title=\"psysml:5016a817-b8b6-43b2-a1c9-71130e2545c5\" xlink:type=\"simple\"><rect fill=\"#FEFECE\" filter=\"url(#f1jnidbuqfw36m)\" height=\"42.9375\" id=\"E5\" style=\"stroke: #A80036; stroke-width: 1.5;\" width=\"95\" x=\"166.5\" y=\"459.5\"/><text fill=\"#000000\" font-family=\"sans-serif\" font-size=\"12\" font-style=\"italic\" lengthAdjust=\"spacingAndGlyphs\" textLength=\"88\" x=\"170\" y=\"475.6387\">«analysis def»</text><text fill=\"#000000\" font-family=\"sans-serif\" font-size=\"12\" lengthAdjust=\"spacingAndGlyphs\" textLength=\"81\" x=\"173.5\" y=\"489.6074\">AnalysisCase</text></a></g><!--MD5=[2156ba9850f5573cc1fc38a6a4b2f02b]\n",
       "class E7--><a href=\"psysml:317ace64-a3b7-4095-b75a-9c551641bbd2\" target=\"_top\" title=\"psysml:317ace64-a3b7-4095-b75a-9c551641bbd2\" xlink:actuate=\"onRequest\" xlink:href=\"psysml:317ace64-a3b7-4095-b75a-9c551641bbd2\" xlink:show=\"new\" xlink:title=\"psysml:317ace64-a3b7-4095-b75a-9c551641bbd2\" xlink:type=\"simple\"><rect fill=\"#FEFECE\" filter=\"url(#f1jnidbuqfw36m)\" height=\"52.7734\" id=\"E7\" rx=\"10\" ry=\"10\" style=\"stroke: #A80036; stroke-width: 1.5;\" width=\"84\" x=\"218\" y=\"326\"/><text fill=\"#000000\" font-family=\"sans-serif\" font-size=\"12\" lengthAdjust=\"spacingAndGlyphs\" textLength=\"70\" x=\"225\" y=\"342.1387\">«objective»</text><line style=\"stroke: #A80036; stroke-width: 1.5;\" x1=\"219\" x2=\"301\" y1=\"349.9688\" y2=\"349.9688\"/><text fill=\"#000000\" font-family=\"sans-serif\" font-size=\"11\" lengthAdjust=\"spacingAndGlyphs\" textLength=\"12\" x=\"224\" y=\"364.1792\">...</text><line style=\"stroke: #A80036; stroke-width: 1.0;\" x1=\"219\" x2=\"301\" y1=\"370.7734\" y2=\"370.7734\"/></a><g id=\"E1.E6.E8\"><a href=\"psysml:0f757ff2-27a2-40d5-a25f-af43358ff77a\" target=\"_top\" title=\"psysml:0f757ff2-27a2-40d5-a25f-af43358ff77a\" xlink:actuate=\"onRequest\" xlink:href=\"psysml:0f757ff2-27a2-40d5-a25f-af43358ff77a\" xlink:show=\"new\" xlink:title=\"psysml:0f757ff2-27a2-40d5-a25f-af43358ff77a\" xlink:type=\"simple\"><rect fill=\"#FEFECE\" filter=\"url(#f1jnidbuqfw36m)\" height=\"42.9375\" id=\"E8\" rx=\"10\" ry=\"10\" style=\"stroke: #A80036; stroke-width: 1.5;\" width=\"92\" x=\"91\" y=\"331\"/><text fill=\"#000000\" font-family=\"sans-serif\" font-size=\"12\" font-style=\"italic\" lengthAdjust=\"spacingAndGlyphs\" textLength=\"64\" x=\"105\" y=\"347.1387\">«analysis»</text><text fill=\"#000000\" font-family=\"sans-serif\" font-size=\"12\" lengthAdjust=\"spacingAndGlyphs\" textLength=\"81\" x=\"96.5\" y=\"361.1074\">analysisCase</text></a></g><g id=\"E1.E10\"><a href=\"psysml:9d8d7d87-8dd4-470f-9d18-cffbc3763f0c\" target=\"_top\" title=\"psysml:9d8d7d87-8dd4-470f-9d18-cffbc3763f0c\" xlink:actuate=\"onRequest\" xlink:href=\"psysml:9d8d7d87-8dd4-470f-9d18-cffbc3763f0c\" xlink:show=\"new\" xlink:title=\"psysml:9d8d7d87-8dd4-470f-9d18-cffbc3763f0c\" xlink:type=\"simple\"><rect fill=\"#FEFECE\" filter=\"url(#f1jnidbuqfw36m)\" height=\"42.9375\" id=\"E10\" rx=\"10\" ry=\"10\" style=\"stroke: #A80036; stroke-width: 1.5;\" width=\"88\" x=\"37\" y=\"169\"/><text fill=\"#000000\" font-family=\"sans-serif\" font-size=\"12\" font-style=\"italic\" lengthAdjust=\"spacingAndGlyphs\" textLength=\"64\" x=\"49\" y=\"185.1387\">«analysis»</text><text fill=\"#000000\" font-family=\"sans-serif\" font-size=\"12\" lengthAdjust=\"spacingAndGlyphs\" textLength=\"77\" x=\"42.5\" y=\"199.1074\">analysisPlan</text></a></g><!--MD5=[05d275557350bfb9b23a4ef7222b4c39]\n",
       "link E3 to E2--><a href=\"psysml:f45a4065-dcd9-4d0e-be10-466e9a1a32d6\" target=\"_top\" title=\"psysml:f45a4065-dcd9-4d0e-be10-466e9a1a32d6\" xlink:actuate=\"onRequest\" xlink:href=\"psysml:f45a4065-dcd9-4d0e-be10-466e9a1a32d6\" xlink:show=\"new\" xlink:title=\"psysml:f45a4065-dcd9-4d0e-be10-466e9a1a32d6\" xlink:type=\"simple\"><path d=\"M310.33,504 C304.8,518.17 296.47,536.57 286,551 C279.62,559.78 271.98,568.34 264.08,576.23 \" fill=\"none\" id=\"E3-&gt;E2\" style=\"stroke: #A80036; stroke-width: 1.0;\"/><polygon fill=\"#FFFFFF\" points=\"249.34,590.06,258.406,571.9545,267.9855,582.164,249.34,590.06\" style=\"stroke: #A80036; stroke-width: 1.0;\"/><ellipse cx=\"263.9312\" cy=\"569.5128\" fill=\"#A80036\" rx=\"2\" ry=\"2\" style=\"stroke: #A80036; stroke-width: 1.0;\"/><ellipse cx=\"270.7737\" cy=\"576.8053\" fill=\"#A80036\" rx=\"2\" ry=\"2\" style=\"stroke: #A80036; stroke-width: 1.0;\"/></a><!--MD5=[15ebcb19ae302d9b601edb458606d402]\n",
       "link E5 to E2--><a href=\"psysml:4ce798b4-e7f7-45ac-94f6-a9dc23ec95c2\" target=\"_top\" title=\"psysml:4ce798b4-e7f7-45ac-94f6-a9dc23ec95c2\" xlink:actuate=\"onRequest\" xlink:href=\"psysml:4ce798b4-e7f7-45ac-94f6-a9dc23ec95c2\" xlink:show=\"new\" xlink:title=\"psysml:4ce798b4-e7f7-45ac-94f6-a9dc23ec95c2\" xlink:type=\"simple\"><path d=\"M214,502.66 C214,522.01 214,551.52 214,575.85 \" fill=\"none\" id=\"E5-&gt;E2\" style=\"stroke: #A80036; stroke-width: 1.0; stroke-dasharray: 7.0,7.0;\"/><polygon fill=\"#A80036\" points=\"214,580.96,218,571.96,214,575.96,210,571.96,214,580.96\" style=\"stroke: #A80036; stroke-width: 1.0;\"/><text fill=\"#000000\" font-family=\"sans-serif\" font-size=\"13\" lengthAdjust=\"spacingAndGlyphs\" textLength=\"62\" x=\"215\" y=\"547.0669\">«subject»</text></a><!--MD5=[2351f337d6de0f557b50152ba70847b5]\n",
       "link E6 to E2--><a href=\"psysml:38ee38e5-fe2f-49e8-a238-8ef961814591\" target=\"_top\" title=\"psysml:38ee38e5-fe2f-49e8-a238-8ef961814591\" xlink:actuate=\"onRequest\" xlink:href=\"psysml:38ee38e5-fe2f-49e8-a238-8ef961814591\" xlink:show=\"new\" xlink:title=\"psysml:38ee38e5-fe2f-49e8-a238-8ef961814591\" xlink:type=\"simple\"><path d=\"M57.5084,403.137 C57.5293,403.365 57.5504,403.5934 57.5718,403.8223 C57.6145,404.2801 57.6581,404.7398 57.7028,405.2013 C57.792,406.1242 57.8852,407.0543 57.9825,407.9913 C61.095,437.9725 68.38,474.885 85,504 C106.54,541.73 145.2,573.36 174.61,593.66 \" fill=\"none\" id=\"E6-&gt;E2\" style=\"stroke: #A80036; stroke-width: 1.0; stroke-dasharray: 7.0,7.0;\"/><polygon fill=\"#A80036\" points=\"178.87,596.58,173.6864,588.2056,174.7386,593.7638,169.1804,594.8159,178.87,596.58\" style=\"stroke: #A80036; stroke-width: 1.0;\"/><text fill=\"#000000\" font-family=\"sans-serif\" font-size=\"13\" lengthAdjust=\"spacingAndGlyphs\" textLength=\"62\" x=\"86\" y=\"485.5669\">«subject»</text></a><!--MD5=[1ccb2481ffa92f8d51a74ee30c51832a]\n",
       "link E8 to E5--><a href=\"psysml:cf5e8ef0-758f-412b-8419-a299a9750eac\" target=\"_top\" title=\"psysml:cf5e8ef0-758f-412b-8419-a299a9750eac\" xlink:actuate=\"onRequest\" xlink:href=\"psysml:cf5e8ef0-758f-412b-8419-a299a9750eac\" xlink:show=\"new\" xlink:title=\"psysml:cf5e8ef0-758f-412b-8419-a299a9750eac\" xlink:type=\"simple\"><path d=\"M149.54,374.11 C160.73,392.48 177.39,419.85 190.97,442.16 \" fill=\"none\" id=\"E8-&gt;E5\" style=\"stroke: #A80036; stroke-width: 1.0;\"/><polygon fill=\"#FFFFFF\" points=\"201.46,459.4,185.6016,446.8099,197.5604,439.5306,201.46,459.4\" style=\"stroke: #A80036; stroke-width: 1.0;\"/><ellipse cx=\"184.3463\" cy=\"440.901\" fill=\"#A80036\" rx=\"2\" ry=\"2\" style=\"stroke: #A80036; stroke-width: 1.0;\"/><ellipse cx=\"192.8883\" cy=\"435.7016\" fill=\"#A80036\" rx=\"2\" ry=\"2\" style=\"stroke: #A80036; stroke-width: 1.0;\"/></a><!--MD5=[198716bf12f04006f5c20d61bde6d80d]\n",
       "link E10 to E6--><a href=\"psysml:4172c94c-9fb8-4464-b137-e530fc31134b\" target=\"_top\" title=\"psysml:4172c94c-9fb8-4464-b137-e530fc31134b\" xlink:actuate=\"onRequest\" xlink:href=\"psysml:4172c94c-9fb8-4464-b137-e530fc31134b\" xlink:show=\"new\" xlink:title=\"psysml:4172c94c-9fb8-4464-b137-e530fc31134b\" xlink:type=\"simple\"><path d=\"M77.78,212.09 C76.12,222.725 73.9581,236.5687 71.6419,251.3978 C71.0628,255.1051 70.4741,258.8739 69.8812,262.6696 C69.7329,263.6185 69.5844,264.5691 69.4358,265.5209 C69.3614,265.9967 69.287,266.4729 69.2126,266.9493 \" fill=\"none\" id=\"E10-&gt;E6\" style=\"stroke: #A80036; stroke-width: 1.0;\"/><polygon fill=\"#FFFFFF\" points=\"69.2126,266.9493,65.2291,247.0965,79.0613,249.2573,69.2126,266.9493\" style=\"stroke: #A80036; stroke-width: 1.0;\"/><ellipse cx=\"68.0849\" cy=\"241.7735\" fill=\"#A80036\" rx=\"2\" ry=\"2\" style=\"stroke: #A80036; stroke-width: 1.0;\"/><ellipse cx=\"77.965\" cy=\"243.317\" fill=\"#A80036\" rx=\"2\" ry=\"2\" style=\"stroke: #A80036; stroke-width: 1.0;\"/></a><!--MD5=[23ac544a70576c3e717098101004234c]\n",
       "reverse link E9 to E10--><a href=\"psysml:9d8d7d87-8dd4-470f-9d18-cffbc3763f0c\" target=\"_top\" title=\"psysml:9d8d7d87-8dd4-470f-9d18-cffbc3763f0c\" xlink:actuate=\"onRequest\" xlink:href=\"psysml:9d8d7d87-8dd4-470f-9d18-cffbc3763f0c\" xlink:show=\"new\" xlink:title=\"psysml:9d8d7d87-8dd4-470f-9d18-cffbc3763f0c\" xlink:type=\"simple\"><path d=\"M84.45,110.8 C83.62,129.84 82.61,152.68 81.91,168.84 \" fill=\"none\" id=\"E9&lt;-E10\" style=\"stroke: #A80036; stroke-width: 1.0;\"/><polygon fill=\"#A80036\" points=\"85.02,97.75,80.7601,103.5684,84.4925,109.7384,88.7524,103.92,85.02,97.75\" style=\"stroke: #A80036; stroke-width: 1.0;\"/></a><!--MD5=[7ef858c65e4232e950107e9d40e8f60b]\n",
       "@startuml\r\n",
       "skinparam wrapWidth 300\r\n",
       "hide circle\r\n",
       "\r\n",
       "package \"AnalysisTest\" as E1  [[psysml:e1dfe890-ec15-4931-b288-05d8c66f0e23 ]]  {\r\n",
       "comp def \"V\" as E2  <<(T,blue) part  def>> [[psysml:e8de7c06-a552-45cc-9ef9-bdca622a4dc8 ]] {\r\n",
       "- - references - -\r\n",
       "m\r\n",
       "}\r\n",
       "comp usage \"vv: V \" as E3  <<(T,blue) part>> [[psysml:e405eddc-d04c-43ee-94c7-f68d6bd4037b ]] {\r\n",
       "}\r\n",
       "comp def \"AnalysisObjective\" as E4  <<(T,blue) requirement  def>> [[psysml:61935c6a-e9b2-427b-8e93-9f8ea2764a4f ]] {\r\n",
       "...\r\n",
       "- -\r\n",
       "}\r\n",
       "rec def \"AnalysisCase\" as E5 << analysis def>> [[psysml:5016a817-b8b6-43b2-a1c9-71130e2545c5 ]] {\r\n",
       "}\r\n",
       "rec def \"AnalysisPlan\" as E6 << analysis def>> [[psysml:0d28215e-abd0-4258-9ce4-d7487f47f154 ]] {\r\n",
       "comp usage \" <U+00AB>objective<U+00BB> \" as E7 [[psysml:317ace64-a3b7-4095-b75a-9c551641bbd2 ]] {\r\n",
       "...\r\n",
       "- -\r\n",
       "}\r\n",
       "rec usage \"analysisCase\" as E8 << analysis>> [[psysml:0f757ff2-27a2-40d5-a25f-af43358ff77a ]] {\r\n",
       "}\r\n",
       "}\r\n",
       "comp usage \"analysisContext \" as E9  <<(T,blue) part>> [[psysml:b24749b9-9e77-4740-bd21-7fc3830bb957 ]] {\r\n",
       "}\r\n",
       "rec usage \"analysisPlan\" as E10 << analysis>> [[psysml:9d8d7d87-8dd4-470f-9d18-cffbc3763f0c ]] {\r\n",
       "}\r\n",
       "}\r\n",
       "E3 - -:|> E2 [[psysml:f45a4065-dcd9-4d0e-be10-466e9a1a32d6 ]] \r\n",
       "E5 ..> E2 [[psysml:4ce798b4-e7f7-45ac-94f6-a9dc23ec95c2 ]] : <<subject>>\r\n",
       "E6 ..> E2 [[psysml:38ee38e5-fe2f-49e8-a238-8ef961814591 ]] : <<subject>>\r\n",
       "E8 - -:|> E5 [[psysml:cf5e8ef0-758f-412b-8419-a299a9750eac ]] \r\n",
       "E10 - -:|> E6 [[psysml:4172c94c-9fb8-4464-b137-e530fc31134b ]] \r\n",
       "E9 *- - E10 [[psysml:9d8d7d87-8dd4-470f-9d18-cffbc3763f0c ]] \r\n",
       "@enduml\r\n",
       "\n",
       "PlantUML version 1.2020.13(Sat Jun 13 12:26:38 UTC 2020)\n",
       "(EPL source distribution)\n",
       "Java Runtime: OpenJDK Runtime Environment\n",
       "JVM: OpenJDK 64-Bit Server VM\n",
       "Default Encoding: UTF-8\n",
       "Language: en\n",
       "Country: null\n",
       "--></g></svg>"
      ]
     },
     "execution_count": 23,
     "metadata": {},
     "output_type": "execute_result"
    }
   ],
   "source": [
    "%viz --style=\"STDCOLOR\" --view=\"Default\" \"AnalysisTest\""
   ]
  },
  {
   "cell_type": "code",
   "execution_count": 24,
   "id": "03753039",
   "metadata": {
    "execution": {
     "iopub.execute_input": "2022-02-05T16:52:02.464985Z",
     "iopub.status.busy": "2022-02-05T16:52:02.464547Z",
     "iopub.status.idle": "2022-02-05T16:52:02.545493Z",
     "shell.execute_reply": "2022-02-05T16:52:02.545127Z"
    }
   },
   "outputs": [
    {
     "data": {
      "image/svg+xml": [
       "<?xml version=\"1.0\" encoding=\"UTF-8\" standalone=\"no\"?><svg xmlns=\"http://www.w3.org/2000/svg\" xmlns:xlink=\"http://www.w3.org/1999/xlink\" contentScriptType=\"application/ecmascript\" contentStyleType=\"text/css\" height=\"923px\" preserveAspectRatio=\"none\" style=\"width:453px;height:923px;\" version=\"1.1\" viewBox=\"0 0 453 923\" width=\"453px\" zoomAndPan=\"magnify\"><defs><filter height=\"300%\" id=\"f154cls26b13nm\" width=\"300%\" x=\"-1\" y=\"-1\"><feGaussianBlur result=\"blurOut\" stdDeviation=\"2.0\"/><feColorMatrix in=\"blurOut\" result=\"blurOut2\" type=\"matrix\" values=\"0 0 0 0 0 0 0 0 0 0 0 0 0 0 0 0 0 0 .4 0\"/><feOffset dx=\"4.0\" dy=\"4.0\" in=\"blurOut2\" result=\"blurOut3\"/><feBlend in=\"SourceGraphic\" in2=\"blurOut3\" mode=\"normal\"/></filter></defs><g><!--MD5=[fbc87193dbaf4d95561dea2c320d4a47]\n",
       "cluster E1--><a href=\"psysml:e1dfe890-ec15-4931-b288-05d8c66f0e23\" target=\"_top\" title=\"psysml:e1dfe890-ec15-4931-b288-05d8c66f0e23\" xlink:actuate=\"onRequest\" xlink:href=\"psysml:e1dfe890-ec15-4931-b288-05d8c66f0e23\" xlink:show=\"new\" xlink:title=\"psysml:e1dfe890-ec15-4931-b288-05d8c66f0e23\" xlink:type=\"simple\"><polygon fill=\"#FFFFFF\" filter=\"url(#f154cls26b13nm)\" points=\"20.13,6,112.13,6,119.13,28.2969,431.13,28.2969,431.13,911,20.13,911,20.13,6\" style=\"stroke: #000000; stroke-width: 1.5;\"/><line style=\"stroke: #000000; stroke-width: 1.5;\" x1=\"20.13\" x2=\"119.13\" y1=\"28.2969\" y2=\"28.2969\"/><text fill=\"#000000\" font-family=\"sans-serif\" font-size=\"14\" font-weight=\"bold\" lengthAdjust=\"spacingAndGlyphs\" textLength=\"86\" x=\"24.13\" y=\"20.9951\">AnalysisTest</text></a><!--MD5=[b4997ac47864f28c2f74865a473b2911]\n",
       "class E2--><a href=\"psysml:e8de7c06-a552-45cc-9ef9-bdca622a4dc8\" target=\"_top\" title=\"psysml:e8de7c06-a552-45cc-9ef9-bdca622a4dc8\" xlink:actuate=\"onRequest\" xlink:href=\"psysml:e8de7c06-a552-45cc-9ef9-bdca622a4dc8\" xlink:show=\"new\" xlink:title=\"psysml:e8de7c06-a552-45cc-9ef9-bdca622a4dc8\" xlink:type=\"simple\"><rect fill=\"#FEFECE\" filter=\"url(#f154cls26b13nm)\" height=\"75.5469\" id=\"E2\" style=\"stroke: #A80036; stroke-width: 1.5;\" width=\"70\" x=\"160.13\" y=\"691\"/><text fill=\"#000000\" font-family=\"sans-serif\" font-size=\"12\" font-style=\"italic\" lengthAdjust=\"spacingAndGlyphs\" textLength=\"68\" x=\"161.13\" y=\"707.1387\">«part  def»</text><text fill=\"#000000\" font-family=\"sans-serif\" font-size=\"12\" lengthAdjust=\"spacingAndGlyphs\" textLength=\"8\" x=\"191.13\" y=\"721.1074\">V</text><line style=\"stroke: #A80036; stroke-width: 1.5;\" x1=\"161.13\" x2=\"229.13\" y1=\"728.9375\" y2=\"728.9375\"/><text fill=\"#000000\" font-family=\"sans-serif\" font-size=\"11\" lengthAdjust=\"spacingAndGlyphs\" textLength=\"11\" x=\"166.13\" y=\"759.9526\">m</text><line style=\"stroke: #A80036; stroke-width: 1.0;\" x1=\"161.13\" x2=\"164.13\" y1=\"743.3398\" y2=\"743.3398\"/><text fill=\"#000000\" font-family=\"sans-serif\" font-size=\"11\" lengthAdjust=\"spacingAndGlyphs\" textLength=\"62\" x=\"164.13\" y=\"746.6479\">references</text><line style=\"stroke: #A80036; stroke-width: 1.0;\" x1=\"226.13\" x2=\"229.13\" y1=\"743.3398\" y2=\"743.3398\"/></a><!--MD5=[09b614a08d8cba4a07c9adeb5e0fee81]\n",
       "class E3--><a href=\"psysml:e405eddc-d04c-43ee-94c7-f68d6bd4037b\" target=\"_top\" title=\"psysml:e405eddc-d04c-43ee-94c7-f68d6bd4037b\" xlink:actuate=\"onRequest\" xlink:href=\"psysml:e405eddc-d04c-43ee-94c7-f68d6bd4037b\" xlink:show=\"new\" xlink:title=\"psysml:e405eddc-d04c-43ee-94c7-f68d6bd4037b\" xlink:type=\"simple\"><rect fill=\"#FEFECE\" filter=\"url(#f154cls26b13nm)\" height=\"45.9375\" id=\"E3\" rx=\"10\" ry=\"10\" style=\"stroke: #A80036; stroke-width: 1.5;\" width=\"42\" x=\"202.13\" y=\"553\"/><text fill=\"#000000\" font-family=\"sans-serif\" font-size=\"12\" font-style=\"italic\" lengthAdjust=\"spacingAndGlyphs\" textLength=\"40\" x=\"203.13\" y=\"569.1387\">«part»</text><text fill=\"#000000\" font-family=\"sans-serif\" font-size=\"12\" lengthAdjust=\"spacingAndGlyphs\" textLength=\"28\" x=\"207.13\" y=\"583.1074\">vv: V</text><line style=\"stroke: #A80036; stroke-width: 1.5;\" x1=\"203.13\" x2=\"243.13\" y1=\"590.9375\" y2=\"590.9375\"/></a><!--MD5=[ebbe1d658d1005bcc118a6aa81145e00]\n",
       "class E4--><a href=\"psysml:61935c6a-e9b2-427b-8e93-9f8ea2764a4f\" target=\"_top\" title=\"psysml:61935c6a-e9b2-427b-8e93-9f8ea2764a4f\" xlink:actuate=\"onRequest\" xlink:href=\"psysml:61935c6a-e9b2-427b-8e93-9f8ea2764a4f\" xlink:show=\"new\" xlink:title=\"psysml:61935c6a-e9b2-427b-8e93-9f8ea2764a4f\" xlink:type=\"simple\"><rect fill=\"#FEFECE\" filter=\"url(#f154cls26b13nm)\" height=\"66.7422\" id=\"E4\" style=\"stroke: #A80036; stroke-width: 1.5;\" width=\"121\" x=\"279.63\" y=\"828\"/><text fill=\"#000000\" font-family=\"sans-serif\" font-size=\"12\" font-style=\"italic\" lengthAdjust=\"spacingAndGlyphs\" textLength=\"119\" x=\"280.63\" y=\"844.1387\">«requirement  def»</text><text fill=\"#000000\" font-family=\"sans-serif\" font-size=\"12\" lengthAdjust=\"spacingAndGlyphs\" textLength=\"107\" x=\"286.63\" y=\"858.1074\">AnalysisObjective</text><line style=\"stroke: #A80036; stroke-width: 1.5;\" x1=\"280.63\" x2=\"399.63\" y1=\"865.9375\" y2=\"865.9375\"/><text fill=\"#000000\" font-family=\"sans-serif\" font-size=\"11\" lengthAdjust=\"spacingAndGlyphs\" textLength=\"12\" x=\"285.63\" y=\"880.1479\">...</text><line style=\"stroke: #A80036; stroke-width: 1.0;\" x1=\"280.63\" x2=\"399.63\" y1=\"886.7422\" y2=\"886.7422\"/></a><!--MD5=[270fce915f116d4de14055a7c1d9a0f3]\n",
       "class E5--><a href=\"psysml:5016a817-b8b6-43b2-a1c9-71130e2545c5\" target=\"_top\" title=\"psysml:5016a817-b8b6-43b2-a1c9-71130e2545c5\" xlink:actuate=\"onRequest\" xlink:href=\"psysml:5016a817-b8b6-43b2-a1c9-71130e2545c5\" xlink:show=\"new\" xlink:title=\"psysml:5016a817-b8b6-43b2-a1c9-71130e2545c5\" xlink:type=\"simple\"><rect fill=\"#FEFECE\" filter=\"url(#f154cls26b13nm)\" height=\"75.5469\" id=\"E5\" style=\"stroke: #A80036; stroke-width: 1.5;\" width=\"136\" x=\"279.13\" y=\"538\"/><text fill=\"#000000\" font-family=\"sans-serif\" font-size=\"12\" font-style=\"italic\" lengthAdjust=\"spacingAndGlyphs\" textLength=\"88\" x=\"303.13\" y=\"554.1387\">«analysis def»</text><text fill=\"#000000\" font-family=\"sans-serif\" font-size=\"12\" lengthAdjust=\"spacingAndGlyphs\" textLength=\"81\" x=\"306.63\" y=\"568.1074\">AnalysisCase</text><line style=\"stroke: #A80036; stroke-width: 1.5;\" x1=\"280.13\" x2=\"414.13\" y1=\"575.9375\" y2=\"575.9375\"/><text fill=\"#000000\" font-family=\"sans-serif\" font-size=\"11\" lengthAdjust=\"spacingAndGlyphs\" textLength=\"43\" x=\"285.13\" y=\"606.9526\">{ v.m }</text><line style=\"stroke: #A80036; stroke-width: 1.0;\" x1=\"280.13\" x2=\"283.13\" y1=\"590.3398\" y2=\"590.3398\"/><text fill=\"#000000\" font-family=\"sans-serif\" font-size=\"11\" lengthAdjust=\"spacingAndGlyphs\" textLength=\"128\" x=\"283.13\" y=\"593.6479\">path step expressions</text><line style=\"stroke: #A80036; stroke-width: 1.0;\" x1=\"411.13\" x2=\"414.13\" y1=\"590.3398\" y2=\"590.3398\"/></a><!--MD5=[60a26617385b1d2d0262a64233df1f8d]\n",
       "class E6--><a href=\"psysml:8ed6d9d8-007f-466a-ada9-4e78a60ebf86\" target=\"_top\" title=\"psysml:8ed6d9d8-007f-466a-ada9-4e78a60ebf86\" xlink:actuate=\"onRequest\" xlink:href=\"psysml:8ed6d9d8-007f-466a-ada9-4e78a60ebf86\" xlink:show=\"new\" xlink:title=\"psysml:8ed6d9d8-007f-466a-ada9-4e78a60ebf86\" xlink:type=\"simple\"><rect fill=\"#FEFECE\" filter=\"url(#f154cls26b13nm)\" height=\"45.9375\" id=\"E6\" rx=\"10\" ry=\"10\" style=\"stroke: #A80036; stroke-width: 1.5;\" width=\"144\" x=\"268.13\" y=\"706\"/><text fill=\"#000000\" font-family=\"sans-serif\" font-size=\"12\" font-style=\"italic\" lengthAdjust=\"spacingAndGlyphs\" textLength=\"91\" x=\"294.63\" y=\"722.1387\">«requirement»</text><text fill=\"#000000\" font-family=\"sans-serif\" font-size=\"12\" lengthAdjust=\"spacingAndGlyphs\" textLength=\"134\" x=\"271.13\" y=\"736.1074\">obj: AnalysisObjective</text><line style=\"stroke: #A80036; stroke-width: 1.5;\" x1=\"269.13\" x2=\"411.13\" y1=\"743.9375\" y2=\"743.9375\"/></a><!--MD5=[2156ba9850f5573cc1fc38a6a4b2f02b]\n",
       "class E7--><a href=\"psysml:0d28215e-abd0-4258-9ce4-d7487f47f154\" target=\"_top\" title=\"psysml:0d28215e-abd0-4258-9ce4-d7487f47f154\" xlink:actuate=\"onRequest\" xlink:href=\"psysml:0d28215e-abd0-4258-9ce4-d7487f47f154\" xlink:show=\"new\" xlink:title=\"psysml:0d28215e-abd0-4258-9ce4-d7487f47f154\" xlink:type=\"simple\"><rect fill=\"#FEFECE\" filter=\"url(#f154cls26b13nm)\" height=\"45.9375\" id=\"E7\" style=\"stroke: #A80036; stroke-width: 1.5;\" width=\"90\" x=\"108.13\" y=\"271\"/><text fill=\"#000000\" font-family=\"sans-serif\" font-size=\"12\" font-style=\"italic\" lengthAdjust=\"spacingAndGlyphs\" textLength=\"88\" x=\"109.13\" y=\"287.1387\">«analysis def»</text><text fill=\"#000000\" font-family=\"sans-serif\" font-size=\"12\" lengthAdjust=\"spacingAndGlyphs\" textLength=\"77\" x=\"114.63\" y=\"301.1074\">AnalysisPlan</text><line style=\"stroke: #A80036; stroke-width: 1.5;\" x1=\"109.13\" x2=\"197.13\" y1=\"308.9375\" y2=\"308.9375\"/></a><!--MD5=[b9389687b975829384b498ac4b7476b2]\n",
       "class E8--><a href=\"psysml:317ace64-a3b7-4095-b75a-9c551641bbd2\" target=\"_top\" title=\"psysml:317ace64-a3b7-4095-b75a-9c551641bbd2\" xlink:actuate=\"onRequest\" xlink:href=\"psysml:317ace64-a3b7-4095-b75a-9c551641bbd2\" xlink:show=\"new\" xlink:title=\"psysml:317ace64-a3b7-4095-b75a-9c551641bbd2\" xlink:type=\"simple\"><rect fill=\"#FEFECE\" filter=\"url(#f154cls26b13nm)\" height=\"66.7422\" id=\"E8\" rx=\"10\" ry=\"10\" style=\"stroke: #A80036; stroke-width: 1.5;\" width=\"93\" x=\"106.63\" y=\"394\"/><text fill=\"#000000\" font-family=\"sans-serif\" font-size=\"12\" font-style=\"italic\" lengthAdjust=\"spacingAndGlyphs\" textLength=\"91\" x=\"107.63\" y=\"410.1387\">«requirement»</text><text fill=\"#000000\" font-family=\"sans-serif\" font-size=\"12\" lengthAdjust=\"spacingAndGlyphs\" textLength=\"19\" x=\"141.63\" y=\"424.1074\">obj</text><line style=\"stroke: #A80036; stroke-width: 1.5;\" x1=\"107.63\" x2=\"198.63\" y1=\"431.9375\" y2=\"431.9375\"/><text fill=\"#000000\" font-family=\"sans-serif\" font-size=\"11\" lengthAdjust=\"spacingAndGlyphs\" textLength=\"12\" x=\"112.63\" y=\"446.1479\">...</text><line style=\"stroke: #A80036; stroke-width: 1.0;\" x1=\"107.63\" x2=\"198.63\" y1=\"452.7422\" y2=\"452.7422\"/></a><!--MD5=[fd4143e9d270a159db93a4ea2a975926]\n",
       "class E9--><a href=\"psysml:0f757ff2-27a2-40d5-a25f-af43358ff77a\" target=\"_top\" title=\"psysml:0f757ff2-27a2-40d5-a25f-af43358ff77a\" xlink:actuate=\"onRequest\" xlink:href=\"psysml:0f757ff2-27a2-40d5-a25f-af43358ff77a\" xlink:show=\"new\" xlink:title=\"psysml:0f757ff2-27a2-40d5-a25f-af43358ff77a\" xlink:type=\"simple\"><rect fill=\"#FEFECE\" filter=\"url(#f154cls26b13nm)\" height=\"45.9375\" id=\"E9\" rx=\"10\" ry=\"10\" style=\"stroke: #A80036; stroke-width: 1.5;\" width=\"180\" x=\"235.13\" y=\"404.5\"/><text fill=\"#000000\" font-family=\"sans-serif\" font-size=\"12\" font-style=\"italic\" lengthAdjust=\"spacingAndGlyphs\" textLength=\"64\" x=\"293.13\" y=\"420.6387\">«analysis»</text><text fill=\"#000000\" font-family=\"sans-serif\" font-size=\"12\" lengthAdjust=\"spacingAndGlyphs\" textLength=\"170\" x=\"238.13\" y=\"434.6074\">analysisCase: AnalysisCase</text><line style=\"stroke: #A80036; stroke-width: 1.5;\" x1=\"236.13\" x2=\"414.13\" y1=\"442.4375\" y2=\"442.4375\"/></a><!--MD5=[96f4274e9e20536e775497830990834d]\n",
       "class E10--><a href=\"psysml:756c2ee8-950e-4679-a51a-3cb75b1efb3e\" target=\"_top\" title=\"psysml:756c2ee8-950e-4679-a51a-3cb75b1efb3e\" xlink:actuate=\"onRequest\" xlink:href=\"psysml:756c2ee8-950e-4679-a51a-3cb75b1efb3e\" xlink:show=\"new\" xlink:title=\"psysml:756c2ee8-950e-4679-a51a-3cb75b1efb3e\" xlink:type=\"simple\"><rect fill=\"#FEFECE\" filter=\"url(#f154cls26b13nm)\" height=\"45.9375\" id=\"E10\" rx=\"10\" ry=\"10\" style=\"stroke: #A80036; stroke-width: 1.5;\" width=\"93\" x=\"73.63\" y=\"553\"/><text fill=\"#000000\" font-family=\"sans-serif\" font-size=\"12\" font-style=\"italic\" lengthAdjust=\"spacingAndGlyphs\" textLength=\"91\" x=\"74.63\" y=\"569.1387\">«requirement»</text><text fill=\"#000000\" font-family=\"sans-serif\" font-size=\"12\" lengthAdjust=\"spacingAndGlyphs\" textLength=\"19\" x=\"108.63\" y=\"583.1074\">obj</text><line style=\"stroke: #A80036; stroke-width: 1.5;\" x1=\"74.63\" x2=\"165.63\" y1=\"590.9375\" y2=\"590.9375\"/></a><!--MD5=[1dd1bfd58a279cf63c5f349dbc8fc6a1]\n",
       "class E11--><a href=\"psysml:b24749b9-9e77-4740-bd21-7fc3830bb957\" target=\"_top\" title=\"psysml:b24749b9-9e77-4740-bd21-7fc3830bb957\" xlink:actuate=\"onRequest\" xlink:href=\"psysml:b24749b9-9e77-4740-bd21-7fc3830bb957\" xlink:show=\"new\" xlink:title=\"psysml:b24749b9-9e77-4740-bd21-7fc3830bb957\" xlink:type=\"simple\"><rect fill=\"#FEFECE\" filter=\"url(#f154cls26b13nm)\" height=\"45.9375\" id=\"E11\" rx=\"10\" ry=\"10\" style=\"stroke: #A80036; stroke-width: 1.5;\" width=\"108\" x=\"162.13\" y=\"41\"/><text fill=\"#000000\" font-family=\"sans-serif\" font-size=\"12\" font-style=\"italic\" lengthAdjust=\"spacingAndGlyphs\" textLength=\"40\" x=\"196.13\" y=\"57.1387\">«part»</text><text fill=\"#000000\" font-family=\"sans-serif\" font-size=\"12\" lengthAdjust=\"spacingAndGlyphs\" textLength=\"98\" x=\"165.13\" y=\"71.1074\">analysisContext</text><line style=\"stroke: #A80036; stroke-width: 1.5;\" x1=\"163.13\" x2=\"269.13\" y1=\"78.9375\" y2=\"78.9375\"/></a><!--MD5=[49a0ec8f00dab7302a31f22d0f0fe584]\n",
       "class E12--><a href=\"psysml:9d8d7d87-8dd4-470f-9d18-cffbc3763f0c\" target=\"_top\" title=\"psysml:9d8d7d87-8dd4-470f-9d18-cffbc3763f0c\" xlink:actuate=\"onRequest\" xlink:href=\"psysml:9d8d7d87-8dd4-470f-9d18-cffbc3763f0c\" xlink:show=\"new\" xlink:title=\"psysml:9d8d7d87-8dd4-470f-9d18-cffbc3763f0c\" xlink:type=\"simple\"><rect fill=\"#FEFECE\" filter=\"url(#f154cls26b13nm)\" height=\"45.9375\" id=\"E12\" rx=\"10\" ry=\"10\" style=\"stroke: #A80036; stroke-width: 1.5;\" width=\"172\" x=\"130.13\" y=\"148\"/><text fill=\"#000000\" font-family=\"sans-serif\" font-size=\"12\" font-style=\"italic\" lengthAdjust=\"spacingAndGlyphs\" textLength=\"64\" x=\"184.13\" y=\"164.1387\">«analysis»</text><text fill=\"#000000\" font-family=\"sans-serif\" font-size=\"12\" lengthAdjust=\"spacingAndGlyphs\" textLength=\"162\" x=\"133.13\" y=\"178.1074\">analysisPlan: AnalysisPlan</text><line style=\"stroke: #A80036; stroke-width: 1.5;\" x1=\"131.13\" x2=\"301.13\" y1=\"185.9375\" y2=\"185.9375\"/></a><!--MD5=[ee3c913d1a06f366521f9ef512b67efe]\n",
       "class E13--><a href=\"psysml:215563a4-4360-48d3-80f1-175339b6797a\" target=\"_top\" title=\"psysml:215563a4-4360-48d3-80f1-175339b6797a\" xlink:actuate=\"onRequest\" xlink:href=\"psysml:215563a4-4360-48d3-80f1-175339b6797a\" xlink:show=\"new\" xlink:title=\"psysml:215563a4-4360-48d3-80f1-175339b6797a\" xlink:type=\"simple\"><rect fill=\"#FEFECE\" filter=\"url(#f154cls26b13nm)\" height=\"45.9375\" id=\"E13\" rx=\"10\" ry=\"10\" style=\"stroke: #A80036; stroke-width: 1.5;\" width=\"93\" x=\"233.63\" y=\"271\"/><text fill=\"#000000\" font-family=\"sans-serif\" font-size=\"12\" font-style=\"italic\" lengthAdjust=\"spacingAndGlyphs\" textLength=\"91\" x=\"234.63\" y=\"287.1387\">«requirement»</text><text fill=\"#000000\" font-family=\"sans-serif\" font-size=\"12\" lengthAdjust=\"spacingAndGlyphs\" textLength=\"19\" x=\"268.63\" y=\"301.1074\">obj</text><line style=\"stroke: #A80036; stroke-width: 1.5;\" x1=\"234.63\" x2=\"325.63\" y1=\"308.9375\" y2=\"308.9375\"/></a><!--MD5=[05d275557350bfb9b23a4ef7222b4c39]\n",
       "link E3 to E2--><a href=\"psysml:f45a4065-dcd9-4d0e-be10-466e9a1a32d6\" target=\"_top\" title=\"psysml:f45a4065-dcd9-4d0e-be10-466e9a1a32d6\" xlink:actuate=\"onRequest\" xlink:href=\"psysml:f45a4065-dcd9-4d0e-be10-466e9a1a32d6\" xlink:show=\"new\" xlink:title=\"psysml:f45a4065-dcd9-4d0e-be10-466e9a1a32d6\" xlink:type=\"simple\"><path d=\"M213.8,599.22 C208.84,612.07 203.16,628.68 200.13,644 C198.44,652.55 197.27,661.67 196.46,670.63 \" fill=\"none\" id=\"E3-&gt;E2\" style=\"stroke: #A80036; stroke-width: 1.0;\"/><polygon fill=\"#FFFFFF\" points=\"195.18,690.93,189.4022,671.5234,203.3738,672.4135,195.18,690.93\" style=\"stroke: #A80036; stroke-width: 1.0;\"/><ellipse cx=\"191.7605\" cy=\"665.9621\" fill=\"#A80036\" rx=\"2\" ry=\"2\" style=\"stroke: #A80036; stroke-width: 1.0;\"/><ellipse cx=\"201.7403\" cy=\"666.5979\" fill=\"#A80036\" rx=\"2\" ry=\"2\" style=\"stroke: #A80036; stroke-width: 1.0;\"/></a><!--MD5=[15ebcb19ae302d9b601edb458606d402]\n",
       "link E5 to E2--><a href=\"psysml:4ce798b4-e7f7-45ac-94f6-a9dc23ec95c2\" target=\"_top\" title=\"psysml:4ce798b4-e7f7-45ac-94f6-a9dc23ec95c2\" xlink:actuate=\"onRequest\" xlink:href=\"psysml:4ce798b4-e7f7-45ac-94f6-a9dc23ec95c2\" xlink:show=\"new\" xlink:title=\"psysml:4ce798b4-e7f7-45ac-94f6-a9dc23ec95c2\" xlink:type=\"simple\"><path d=\"M303.36,614.09 C292.6,623.61 281.27,633.99 271.13,644 C257.44,657.51 243.12,672.96 230.65,686.89 \" fill=\"none\" id=\"E5-&gt;E2\" style=\"stroke: #A80036; stroke-width: 1.0; stroke-dasharray: 7.0,7.0;\"/><polygon fill=\"#A80036\" points=\"227.18,690.78,236.1576,686.7299,230.5098,687.0501,230.1897,681.4023,227.18,690.78\" style=\"stroke: #A80036; stroke-width: 1.0;\"/><text fill=\"#000000\" font-family=\"sans-serif\" font-size=\"13\" lengthAdjust=\"spacingAndGlyphs\" textLength=\"62\" x=\"272.13\" y=\"657.0669\">«subject»</text></a><!--MD5=[9120cf2e5df3bff93db8f754bbbc09b4]\n",
       "link E5 to E6--><a href=\"psysml:b91cd128-722a-4ae9-a5d3-51e53a9e38d7\" target=\"_top\" title=\"psysml:b91cd128-722a-4ae9-a5d3-51e53a9e38d7\" xlink:actuate=\"onRequest\" xlink:href=\"psysml:b91cd128-722a-4ae9-a5d3-51e53a9e38d7\" xlink:show=\"new\" xlink:title=\"psysml:b91cd128-722a-4ae9-a5d3-51e53a9e38d7\" xlink:type=\"simple\"><path d=\"M345.4,614.33 C344.21,639.95 342.65,673.54 341.54,697.54 \" fill=\"none\" id=\"E5-&gt;E6\" style=\"stroke: #A80036; stroke-width: 1.0;\"/><polygon fill=\"#A80036\" points=\"341.17,705.61,344.5378,697.7577,338.5443,697.4795,341.17,705.61\" style=\"stroke: #A80036; stroke-width: 1.0;\"/><text fill=\"#000000\" font-family=\"sans-serif\" font-size=\"13\" lengthAdjust=\"spacingAndGlyphs\" textLength=\"73\" x=\"344.13\" y=\"657.0669\">«objective»</text></a><!--MD5=[f667431f98296947986a1a7595a31603]\n",
       "link E6 to E4--><a href=\"psysml:b2f535bd-3827-4daf-a953-8c36dc8e5a05\" target=\"_top\" title=\"psysml:b2f535bd-3827-4daf-a953-8c36dc8e5a05\" xlink:actuate=\"onRequest\" xlink:href=\"psysml:b2f535bd-3827-4daf-a953-8c36dc8e5a05\" xlink:show=\"new\" xlink:title=\"psysml:b2f535bd-3827-4daf-a953-8c36dc8e5a05\" xlink:type=\"simple\"><path d=\"M340.13,752.14 C340.13,767.41 340.13,788.39 340.13,807.82 \" fill=\"none\" id=\"E6-&gt;E4\" style=\"stroke: #A80036; stroke-width: 1.0;\"/><polygon fill=\"#FFFFFF\" points=\"340.13,827.96,333.13,808.96,347.13,808.96,340.13,827.96\" style=\"stroke: #A80036; stroke-width: 1.0;\"/><ellipse cx=\"335.13\" cy=\"803.26\" fill=\"#A80036\" rx=\"2\" ry=\"2\" style=\"stroke: #A80036; stroke-width: 1.0;\"/><ellipse cx=\"345.13\" cy=\"803.26\" fill=\"#A80036\" rx=\"2\" ry=\"2\" style=\"stroke: #A80036; stroke-width: 1.0;\"/></a><!--MD5=[583832df87f4419a098336a29a52fa00]\n",
       "link E7 to E2--><a href=\"psysml:38ee38e5-fe2f-49e8-a238-8ef961814591\" target=\"_top\" title=\"psysml:38ee38e5-fe2f-49e8-a238-8ef961814591\" xlink:actuate=\"onRequest\" xlink:href=\"psysml:38ee38e5-fe2f-49e8-a238-8ef961814591\" xlink:show=\"new\" xlink:title=\"psysml:38ee38e5-fe2f-49e8-a238-8ef961814591\" xlink:type=\"simple\"><path d=\"M135.62,317.09 C95.87,370.11 6,508.04 56.13,614 C76.51,657.06 122,689.3 155.42,708.32 \" fill=\"none\" id=\"E7-&gt;E2\" style=\"stroke: #A80036; stroke-width: 1.0; stroke-dasharray: 7.0,7.0;\"/><polygon fill=\"#A80036\" points=\"159.84,710.8,153.9458,702.9096,155.4787,708.3548,150.0335,709.8877,159.84,710.8\" style=\"stroke: #A80036; stroke-width: 1.0;\"/><text fill=\"#000000\" font-family=\"sans-serif\" font-size=\"13\" lengthAdjust=\"spacingAndGlyphs\" textLength=\"62\" x=\"48.13\" y=\"504.0669\">«subject»</text></a><!--MD5=[79bc8f324ef4d02c541433f2e6e513c3]\n",
       "link E7 to E8--><a href=\"psysml:17344d0c-3816-44f9-9c17-e4b7438070db\" target=\"_top\" title=\"psysml:17344d0c-3816-44f9-9c17-e4b7438070db\" xlink:actuate=\"onRequest\" xlink:href=\"psysml:17344d0c-3816-44f9-9c17-e4b7438070db\" xlink:show=\"new\" xlink:title=\"psysml:17344d0c-3816-44f9-9c17-e4b7438070db\" xlink:type=\"simple\"><path d=\"M153.13,317.01 C153.13,335.7 153.13,363.02 153.13,385.69 \" fill=\"none\" id=\"E7-&gt;E8\" style=\"stroke: #A80036; stroke-width: 1.0;\"/><polygon fill=\"#A80036\" points=\"153.13,393.81,156.13,385.81,150.13,385.81,153.13,393.81\" style=\"stroke: #A80036; stroke-width: 1.0;\"/><text fill=\"#000000\" font-family=\"sans-serif\" font-size=\"13\" lengthAdjust=\"spacingAndGlyphs\" textLength=\"73\" x=\"154.13\" y=\"360.0669\">«objective»</text><text fill=\"#000000\" font-family=\"sans-serif\" font-size=\"13\" lengthAdjust=\"spacingAndGlyphs\" textLength=\"7\" x=\"145.4409\" y=\"382.8061\">*</text></a><!--MD5=[e4a10ef82d0e328e31cac39a31e58dda]\n",
       "reverse link E7 to E9--><a href=\"psysml:270a9b55-e8f2-46f5-9c02-ba45f5a1be19\" target=\"_top\" title=\"psysml:270a9b55-e8f2-46f5-9c02-ba45f5a1be19\" xlink:actuate=\"onRequest\" xlink:href=\"psysml:270a9b55-e8f2-46f5-9c02-ba45f5a1be19\" xlink:show=\"new\" xlink:title=\"psysml:270a9b55-e8f2-46f5-9c02-ba45f5a1be19\" xlink:type=\"simple\"><path d=\"M203.01,324.33 C214.15,331.41 225.74,339.19 236.13,347 C259.98,364.92 285.16,387.84 302.63,404.46 \" fill=\"none\" id=\"E7&lt;-E9\" style=\"stroke: #A80036; stroke-width: 1.0;\"/><polygon fill=\"#A80036\" points=\"191.63,317.25,194.6072,323.8178,201.8149,323.5958,198.8377,317.0279,191.63,317.25\" style=\"stroke: #A80036; stroke-width: 1.0;\"/></a><!--MD5=[bfc3ddf2e613be37104f658f09af896c]\n",
       "link E9 to E5--><a href=\"psysml:cf5e8ef0-758f-412b-8419-a299a9750eac\" target=\"_top\" title=\"psysml:cf5e8ef0-758f-412b-8419-a299a9750eac\" xlink:actuate=\"onRequest\" xlink:href=\"psysml:cf5e8ef0-758f-412b-8419-a299a9750eac\" xlink:show=\"new\" xlink:title=\"psysml:cf5e8ef0-758f-412b-8419-a299a9750eac\" xlink:type=\"simple\"><path d=\"M328.47,450.75 C331.16,468.64 335.06,494.59 338.59,518.16 \" fill=\"none\" id=\"E9-&gt;E5\" style=\"stroke: #A80036; stroke-width: 1.0;\"/><polygon fill=\"#FFFFFF\" points=\"341.57,537.99,331.824,520.2413,345.6685,518.1607,341.57,537.99\" style=\"stroke: #A80036; stroke-width: 1.0;\"/><ellipse cx=\"332.9546\" cy=\"514.3074\" fill=\"#A80036\" rx=\"2\" ry=\"2\" style=\"stroke: #A80036; stroke-width: 1.0;\"/><ellipse cx=\"342.8436\" cy=\"512.8212\" fill=\"#A80036\" rx=\"2\" ry=\"2\" style=\"stroke: #A80036; stroke-width: 1.0;\"/></a><!--MD5=[35e5f1cbde42fa304a029880aa2bc7f2]\n",
       "link E9 to E10--><a href=\"psysml:03a60127-fd3f-4561-ae6d-a87475bfdaf0\" target=\"_top\" title=\"psysml:03a60127-fd3f-4561-ae6d-a87475bfdaf0\" xlink:actuate=\"onRequest\" xlink:href=\"psysml:03a60127-fd3f-4561-ae6d-a87475bfdaf0\" xlink:show=\"new\" xlink:title=\"psysml:03a60127-fd3f-4561-ae6d-a87475bfdaf0\" xlink:type=\"simple\"><path d=\"M293.99,450.75 C257.47,476.86 196.93,520.12 157.79,548.09 \" fill=\"none\" id=\"E9-&gt;E10\" style=\"stroke: #A80036; stroke-width: 1.0;\"/><polygon fill=\"#A80036\" points=\"151.22,552.78,159.4727,550.5679,155.9832,545.6869,151.22,552.78\" style=\"stroke: #A80036; stroke-width: 1.0;\"/><text fill=\"#000000\" font-family=\"sans-serif\" font-size=\"13\" lengthAdjust=\"spacingAndGlyphs\" textLength=\"73\" x=\"235.13\" y=\"504.0669\">«objective»</text><text fill=\"#000000\" font-family=\"sans-serif\" font-size=\"13\" lengthAdjust=\"spacingAndGlyphs\" textLength=\"7\" x=\"151.2899\" y=\"541.9999\">*</text></a><!--MD5=[94adabc162ce7e41b39f13be14fbaeb3]\n",
       "reverse link E11 to E12--><a href=\"psysml:7df3fd9f-252d-4e83-afe5-15252f6bd5d9\" target=\"_top\" title=\"psysml:7df3fd9f-252d-4e83-afe5-15252f6bd5d9\" xlink:actuate=\"onRequest\" xlink:href=\"psysml:7df3fd9f-252d-4e83-afe5-15252f6bd5d9\" xlink:show=\"new\" xlink:title=\"psysml:7df3fd9f-252d-4e83-afe5-15252f6bd5d9\" xlink:type=\"simple\"><path d=\"M216.13,100.05 C216.13,115.76 216.13,133.82 216.13,147.66 \" fill=\"none\" id=\"E11&lt;-E12\" style=\"stroke: #A80036; stroke-width: 1.0;\"/><polygon fill=\"#A80036\" points=\"216.13,87.01,212.13,93.01,216.13,99.01,220.13,93.01,216.13,87.01\" style=\"stroke: #A80036; stroke-width: 1.0;\"/></a><!--MD5=[ae660f5ecd7ddb04a8913625960940af]\n",
       "link E12 to E7--><a href=\"psysml:4172c94c-9fb8-4464-b137-e530fc31134b\" target=\"_top\" title=\"psysml:4172c94c-9fb8-4464-b137-e530fc31134b\" xlink:actuate=\"onRequest\" xlink:href=\"psysml:4172c94c-9fb8-4464-b137-e530fc31134b\" xlink:show=\"new\" xlink:title=\"psysml:4172c94c-9fb8-4464-b137-e530fc31134b\" xlink:type=\"simple\"><path d=\"M204.57,194.19 C196.01,210.65 184.09,233.54 173.88,253.14 \" fill=\"none\" id=\"E12-&gt;E7\" style=\"stroke: #A80036; stroke-width: 1.0;\"/><polygon fill=\"#FFFFFF\" points=\"164.61,270.95,167.1672,250.8637,179.5876,257.3239,164.61,270.95\" style=\"stroke: #A80036; stroke-width: 1.0;\"/><ellipse cx=\"171.5718\" cy=\"246.7297\" fill=\"#A80036\" rx=\"2\" ry=\"2\" style=\"stroke: #A80036; stroke-width: 1.0;\"/><ellipse cx=\"180.4435\" cy=\"251.3441\" fill=\"#A80036\" rx=\"2\" ry=\"2\" style=\"stroke: #A80036; stroke-width: 1.0;\"/></a><!--MD5=[e2a9ac97dcd3257bb5342dae06547bad]\n",
       "link E12 to E13--><a href=\"psysml:aee64b6c-bc56-4d82-a56f-3ba6edf4c149\" target=\"_top\" title=\"psysml:aee64b6c-bc56-4d82-a56f-3ba6edf4c149\" xlink:actuate=\"onRequest\" xlink:href=\"psysml:aee64b6c-bc56-4d82-a56f-3ba6edf4c149\" xlink:show=\"new\" xlink:title=\"psysml:aee64b6c-bc56-4d82-a56f-3ba6edf4c149\" xlink:type=\"simple\"><path d=\"M227.87,194.19 C238.2,213.72 253.31,242.3 264.63,263.7 \" fill=\"none\" id=\"E12-&gt;E13\" style=\"stroke: #A80036; stroke-width: 1.0;\"/><polygon fill=\"#A80036\" points=\"268.47,270.95,267.3924,262.4742,262.085,265.2727,268.47,270.95\" style=\"stroke: #A80036; stroke-width: 1.0;\"/><text fill=\"#000000\" font-family=\"sans-serif\" font-size=\"13\" lengthAdjust=\"spacingAndGlyphs\" textLength=\"73\" x=\"252.13\" y=\"237.0669\">«objective»</text><text fill=\"#000000\" font-family=\"sans-serif\" font-size=\"13\" lengthAdjust=\"spacingAndGlyphs\" textLength=\"7\" x=\"257.3957\" y=\"259.8328\">*</text></a><!--MD5=[f21ee48b68889d832dd0d250e0112688]\n",
       "@startuml\r\n",
       "skinparam wrapWidth 300\r\n",
       "hide circle\r\n",
       "\r\n",
       "package \"AnalysisTest\" as E1  [[psysml:e1dfe890-ec15-4931-b288-05d8c66f0e23 ]]  {\r\n",
       "comp def \"V\" as E2  <<(T,blue) part  def>> [[psysml:e8de7c06-a552-45cc-9ef9-bdca622a4dc8 ]] {\r\n",
       "- - references - -\r\n",
       "m\r\n",
       "}\r\n",
       "comp usage \"vv: V \" as E3  <<(T,blue) part>> [[psysml:e405eddc-d04c-43ee-94c7-f68d6bd4037b ]] {\r\n",
       "}\r\n",
       "comp def \"AnalysisObjective\" as E4  <<(T,blue) requirement  def>> [[psysml:61935c6a-e9b2-427b-8e93-9f8ea2764a4f ]] {\r\n",
       "...\r\n",
       "- -\r\n",
       "}\r\n",
       "comp def \"AnalysisCase\" as E5 << analysis def>> [[psysml:5016a817-b8b6-43b2-a1c9-71130e2545c5 ]] {\r\n",
       "- - path step expressions - -\r\n",
       " { v.m }\r\n",
       "}\r\n",
       "comp usage \"obj: AnalysisObjective \" as E6  <<(T,blue) requirement>> [[psysml:8ed6d9d8-007f-466a-ada9-4e78a60ebf86 ]] {\r\n",
       "}\r\n",
       "comp def \"AnalysisPlan\" as E7 << analysis def>> [[psysml:0d28215e-abd0-4258-9ce4-d7487f47f154 ]] {\r\n",
       "}\r\n",
       "comp usage \"obj \" as E8  <<(T,blue) requirement>> [[psysml:317ace64-a3b7-4095-b75a-9c551641bbd2 ]] {\r\n",
       "...\r\n",
       "- -\r\n",
       "}\r\n",
       "comp usage \"analysisCase: AnalysisCase \" as E9 << analysis>> [[psysml:0f757ff2-27a2-40d5-a25f-af43358ff77a ]] {\r\n",
       "}\r\n",
       "comp usage \"obj \" as E10  <<(T,blue) requirement>> [[psysml:756c2ee8-950e-4679-a51a-3cb75b1efb3e ]] {\r\n",
       "}\r\n",
       "comp usage \"analysisContext \" as E11  <<(T,blue) part>> [[psysml:b24749b9-9e77-4740-bd21-7fc3830bb957 ]] {\r\n",
       "}\r\n",
       "comp usage \"analysisPlan: AnalysisPlan \" as E12 << analysis>> [[psysml:9d8d7d87-8dd4-470f-9d18-cffbc3763f0c ]] {\r\n",
       "}\r\n",
       "comp usage \"obj \" as E13  <<(T,blue) requirement>> [[psysml:215563a4-4360-48d3-80f1-175339b6797a ]] {\r\n",
       "}\r\n",
       "}\r\n",
       "E3 - -:|> E2 [[psysml:f45a4065-dcd9-4d0e-be10-466e9a1a32d6 ]] \r\n",
       "E5 ..> E2 [[psysml:4ce798b4-e7f7-45ac-94f6-a9dc23ec95c2 ]] : <<subject>>\r\n",
       "E5 - ->> E6 [[psysml:b91cd128-722a-4ae9-a5d3-51e53a9e38d7 ]] : <<objective>>\r\n",
       "E6 - -:|> E4 [[psysml:b2f535bd-3827-4daf-a953-8c36dc8e5a05 ]] \r\n",
       "E7 ..> E2 [[psysml:38ee38e5-fe2f-49e8-a238-8ef961814591 ]] : <<subject>>\r\n",
       "E7 - ->> \"*\"E8 [[psysml:17344d0c-3816-44f9-9c17-e4b7438070db ]] : <<objective>>\r\n",
       "E7 *- - E9 [[psysml:270a9b55-e8f2-46f5-9c02-ba45f5a1be19 ]] \r\n",
       "E9 - -:|> E5 [[psysml:cf5e8ef0-758f-412b-8419-a299a9750eac ]] \r\n",
       "E9 - ->> \"*\"E10 [[psysml:03a60127-fd3f-4561-ae6d-a87475bfdaf0 ]] : <<objective>>\r\n",
       "E11 *- - E12 [[psysml:7df3fd9f-252d-4e83-afe5-15252f6bd5d9 ]] \r\n",
       "E12 - -:|> E7 [[psysml:4172c94c-9fb8-4464-b137-e530fc31134b ]] \r\n",
       "E12 - ->> \"*\"E13 [[psysml:aee64b6c-bc56-4d82-a56f-3ba6edf4c149 ]] : <<objective>>\r\n",
       "@enduml\r\n",
       "\n",
       "PlantUML version 1.2020.13(Sat Jun 13 12:26:38 UTC 2020)\n",
       "(EPL source distribution)\n",
       "Java Runtime: OpenJDK Runtime Environment\n",
       "JVM: OpenJDK 64-Bit Server VM\n",
       "Default Encoding: UTF-8\n",
       "Language: en\n",
       "Country: null\n",
       "--></g></svg>"
      ]
     },
     "execution_count": 24,
     "metadata": {},
     "output_type": "execute_result"
    }
   ],
   "source": [
    "%viz --style=\"STDCOLOR\" --view=\"Tree\" \"AnalysisTest\""
   ]
  },
  {
   "cell_type": "code",
   "execution_count": 25,
   "id": "676b5237",
   "metadata": {
    "execution": {
     "iopub.execute_input": "2022-02-05T16:52:02.594834Z",
     "iopub.status.busy": "2022-02-05T16:52:02.594427Z",
     "iopub.status.idle": "2022-02-05T16:52:02.599323Z",
     "shell.execute_reply": "2022-02-05T16:52:02.599632Z"
    }
   },
   "outputs": [
    {
     "data": {
      "image/svg+xml": [
       "<?xml version=\"1.0\" encoding=\"UTF-8\" standalone=\"no\"?><svg xmlns=\"http://www.w3.org/2000/svg\" xmlns:xlink=\"http://www.w3.org/1999/xlink\" contentScriptType=\"application/ecmascript\" contentStyleType=\"text/css\" height=\"12px\" preserveAspectRatio=\"none\" style=\"width:12px;height:12px;\" version=\"1.1\" viewBox=\"0 0 12 12\" width=\"12px\" zoomAndPan=\"magnify\"><defs/><g><!--MD5=[aeeef50f102b80d730deb6443d14f702]\n",
       "@startuml\r\n",
       "skinparam wrapWidth 300\r\n",
       "hide circle\r\n",
       "\r\n",
       "@enduml\r\n",
       "\n",
       "PlantUML version 1.2020.13(Sat Jun 13 12:26:38 UTC 2020)\n",
       "(EPL source distribution)\n",
       "Java Runtime: OpenJDK Runtime Environment\n",
       "JVM: OpenJDK 64-Bit Server VM\n",
       "Default Encoding: UTF-8\n",
       "Language: en\n",
       "Country: null\n",
       "--></g></svg>"
      ]
     },
     "execution_count": 25,
     "metadata": {},
     "output_type": "execute_result"
    }
   ],
   "source": [
    "%viz --style=\"STDCOLOR\" --view=\"State\" \"AnalysisTest\""
   ]
  },
  {
   "cell_type": "code",
   "execution_count": 26,
   "id": "e2d86b32",
   "metadata": {
    "execution": {
     "iopub.execute_input": "2022-02-05T16:52:02.649603Z",
     "iopub.status.busy": "2022-02-05T16:52:02.649200Z",
     "iopub.status.idle": "2022-02-05T16:52:02.705509Z",
     "shell.execute_reply": "2022-02-05T16:52:02.705174Z"
    }
   },
   "outputs": [
    {
     "data": {
      "image/svg+xml": [
       "<?xml version=\"1.0\" encoding=\"UTF-8\" standalone=\"no\"?><svg xmlns=\"http://www.w3.org/2000/svg\" xmlns:xlink=\"http://www.w3.org/1999/xlink\" contentScriptType=\"application/ecmascript\" contentStyleType=\"text/css\" height=\"500px\" preserveAspectRatio=\"none\" style=\"width:425px;height:500px;\" version=\"1.1\" viewBox=\"0 0 425 500\" width=\"425px\" zoomAndPan=\"magnify\"><defs><filter height=\"300%\" id=\"f1q8grntdyq2o\" width=\"300%\" x=\"-1\" y=\"-1\"><feGaussianBlur result=\"blurOut\" stdDeviation=\"2.0\"/><feColorMatrix in=\"blurOut\" result=\"blurOut2\" type=\"matrix\" values=\"0 0 0 0 0 0 0 0 0 0 0 0 0 0 0 0 0 0 .4 0\"/><feOffset dx=\"4.0\" dy=\"4.0\" in=\"blurOut2\" result=\"blurOut3\"/><feBlend in=\"SourceGraphic\" in2=\"blurOut3\" mode=\"normal\"/></filter></defs><g><!--MD5=[fbc87193dbaf4d95561dea2c320d4a47]\n",
       "cluster E1--><a href=\"psysml:e1dfe890-ec15-4931-b288-05d8c66f0e23\" target=\"_top\" title=\"psysml:e1dfe890-ec15-4931-b288-05d8c66f0e23\" xlink:actuate=\"onRequest\" xlink:href=\"psysml:e1dfe890-ec15-4931-b288-05d8c66f0e23\" xlink:show=\"new\" xlink:title=\"psysml:e1dfe890-ec15-4931-b288-05d8c66f0e23\" xlink:type=\"simple\"><polygon fill=\"#FFFFFF\" filter=\"url(#f1q8grntdyq2o)\" points=\"16,6,108,6,115,28.2969,403,28.2969,403,488,16,488,16,6\" style=\"stroke: #000000; stroke-width: 1.5;\"/><line style=\"stroke: #000000; stroke-width: 1.5;\" x1=\"16\" x2=\"115\" y1=\"28.2969\" y2=\"28.2969\"/><text fill=\"#000000\" font-family=\"sans-serif\" font-size=\"14\" font-weight=\"bold\" lengthAdjust=\"spacingAndGlyphs\" textLength=\"86\" x=\"20\" y=\"20.9951\">AnalysisTest</text></a><!--MD5=[14e3b0961a2654348d326746436168a1]\n",
       "cluster E6--><a href=\"psysml:0d28215e-abd0-4258-9ce4-d7487f47f154\" target=\"_top\" title=\"psysml:0d28215e-abd0-4258-9ce4-d7487f47f154\" xlink:actuate=\"onRequest\" xlink:href=\"psysml:0d28215e-abd0-4258-9ce4-d7487f47f154\" xlink:show=\"new\" xlink:title=\"psysml:0d28215e-abd0-4258-9ce4-d7487f47f154\" xlink:type=\"simple\"><rect fill=\"#FFFFFF\" filter=\"url(#f1q8grntdyq2o)\" height=\"136\" id=\"E6\" style=\"stroke: #A80036; stroke-width: 1.5;\" width=\"278\" x=\"93\" y=\"184\"/><rect fill=\"#FEFECE\" height=\"37.9375\" style=\"stroke: #A80036; stroke-width: 1.5;\" width=\"278\" x=\"93\" y=\"184\"/><text fill=\"#000000\" font-family=\"sans-serif\" font-size=\"12\" font-style=\"italic\" lengthAdjust=\"spacingAndGlyphs\" textLength=\"88\" x=\"188\" y=\"200.1387\">«analysis def»</text><text fill=\"#000000\" font-family=\"sans-serif\" font-size=\"12\" lengthAdjust=\"spacingAndGlyphs\" textLength=\"77\" x=\"193.5\" y=\"214.1074\">AnalysisPlan</text></a><!--MD5=[7f149f147074ac12df2cb0a7728a5fb0]\n",
       "cluster E9--><a href=\"psysml:b24749b9-9e77-4740-bd21-7fc3830bb957\" target=\"_top\" title=\"psysml:b24749b9-9e77-4740-bd21-7fc3830bb957\" xlink:actuate=\"onRequest\" xlink:href=\"psysml:b24749b9-9e77-4740-bd21-7fc3830bb957\" xlink:show=\"new\" xlink:title=\"psysml:b24749b9-9e77-4740-bd21-7fc3830bb957\" xlink:type=\"simple\"><rect fill=\"#FFFFFF\" filter=\"url(#f1q8grntdyq2o)\" height=\"94\" id=\"E9\" rx=\"10\" ry=\"10\" style=\"stroke: #A80036; stroke-width: 1.5;\" width=\"124\" x=\"255\" y=\"49\"/><rect fill=\"#FEFECE\" height=\"23.9688\" rx=\"10\" ry=\"10\" style=\"stroke: #FEFECE; stroke-width: 1.5;\" width=\"124\" x=\"255\" y=\"49\"/><rect fill=\"#FEFECE\" height=\"10\" style=\"stroke: #FEFECE; stroke-width: 1.5;\" width=\"124\" x=\"255\" y=\"62.9688\"/><rect fill=\"none\" height=\"94\" id=\"E9\" rx=\"10\" ry=\"10\" style=\"stroke: #A80036; stroke-width: 1.5;\" width=\"124\" x=\"255\" y=\"49\"/><text fill=\"#000000\" font-family=\"sans-serif\" font-size=\"12\" lengthAdjust=\"spacingAndGlyphs\" textLength=\"98\" x=\"268\" y=\"65.1387\">analysisContext</text><line style=\"stroke: #A80036; stroke-width: 1.0;\" x1=\"255\" x2=\"379\" y1=\"72.9688\" y2=\"72.9688\"/></a><!--MD5=[ebbe1d658d1005bcc118a6aa81145e00]\n",
       "class E4--><a href=\"psysml:61935c6a-e9b2-427b-8e93-9f8ea2764a4f\" target=\"_top\" title=\"psysml:61935c6a-e9b2-427b-8e93-9f8ea2764a4f\" xlink:actuate=\"onRequest\" xlink:href=\"psysml:61935c6a-e9b2-427b-8e93-9f8ea2764a4f\" xlink:show=\"new\" xlink:title=\"psysml:61935c6a-e9b2-427b-8e93-9f8ea2764a4f\" xlink:type=\"simple\"><rect fill=\"#FEFECE\" filter=\"url(#f1q8grntdyq2o)\" height=\"66.7422\" id=\"E4\" style=\"stroke: #A80036; stroke-width: 1.5;\" width=\"121\" x=\"117.5\" y=\"72\"/><text fill=\"#000000\" font-family=\"sans-serif\" font-size=\"12\" font-style=\"italic\" lengthAdjust=\"spacingAndGlyphs\" textLength=\"119\" x=\"118.5\" y=\"88.1387\">«requirement  def»</text><text fill=\"#000000\" font-family=\"sans-serif\" font-size=\"12\" lengthAdjust=\"spacingAndGlyphs\" textLength=\"107\" x=\"124.5\" y=\"102.1074\">AnalysisObjective</text><line style=\"stroke: #A80036; stroke-width: 1.5;\" x1=\"118.5\" x2=\"237.5\" y1=\"109.9375\" y2=\"109.9375\"/><text fill=\"#000000\" font-family=\"sans-serif\" font-size=\"11\" lengthAdjust=\"spacingAndGlyphs\" textLength=\"12\" x=\"123.5\" y=\"124.1479\">...</text><line style=\"stroke: #A80036; stroke-width: 1.0;\" x1=\"118.5\" x2=\"237.5\" y1=\"130.7422\" y2=\"130.7422\"/></a><g id=\"E1.E2\"><a href=\"psysml:e8de7c06-a552-45cc-9ef9-bdca622a4dc8\" target=\"_top\" title=\"psysml:e8de7c06-a552-45cc-9ef9-bdca622a4dc8\" xlink:actuate=\"onRequest\" xlink:href=\"psysml:e8de7c06-a552-45cc-9ef9-bdca622a4dc8\" xlink:show=\"new\" xlink:title=\"psysml:e8de7c06-a552-45cc-9ef9-bdca622a4dc8\" xlink:type=\"simple\"><rect fill=\"#FEFECE\" filter=\"url(#f1q8grntdyq2o)\" height=\"42.9375\" id=\"E2\" style=\"stroke: #A80036; stroke-width: 1.5;\" width=\"75\" x=\"77.5\" y=\"429\"/><text fill=\"#000000\" font-family=\"sans-serif\" font-size=\"12\" font-style=\"italic\" lengthAdjust=\"spacingAndGlyphs\" textLength=\"68\" x=\"81\" y=\"445.1387\">«part  def»</text><text fill=\"#000000\" font-family=\"sans-serif\" font-size=\"12\" lengthAdjust=\"spacingAndGlyphs\" textLength=\"8\" x=\"111\" y=\"459.1074\">V</text></a></g><g id=\"E1.E3\"><a href=\"psysml:e405eddc-d04c-43ee-94c7-f68d6bd4037b\" target=\"_top\" title=\"psysml:e405eddc-d04c-43ee-94c7-f68d6bd4037b\" xlink:actuate=\"onRequest\" xlink:href=\"psysml:e405eddc-d04c-43ee-94c7-f68d6bd4037b\" xlink:show=\"new\" xlink:title=\"psysml:e405eddc-d04c-43ee-94c7-f68d6bd4037b\" xlink:type=\"simple\"><rect fill=\"#FEFECE\" filter=\"url(#f1q8grntdyq2o)\" height=\"40\" id=\"E3\" rx=\"10\" ry=\"10\" style=\"stroke: #A80036; stroke-width: 1.5;\" width=\"50\" x=\"32\" y=\"85.5\"/><text fill=\"#000000\" font-family=\"sans-serif\" font-size=\"12\" lengthAdjust=\"spacingAndGlyphs\" textLength=\"28\" x=\"43\" y=\"101.6387\">vv: V</text></a></g><g id=\"E1.E5\"><a href=\"psysml:5016a817-b8b6-43b2-a1c9-71130e2545c5\" target=\"_top\" title=\"psysml:5016a817-b8b6-43b2-a1c9-71130e2545c5\" xlink:actuate=\"onRequest\" xlink:href=\"psysml:5016a817-b8b6-43b2-a1c9-71130e2545c5\" xlink:show=\"new\" xlink:title=\"psysml:5016a817-b8b6-43b2-a1c9-71130e2545c5\" xlink:type=\"simple\"><rect fill=\"#FEFECE\" filter=\"url(#f1q8grntdyq2o)\" height=\"42.9375\" id=\"E5\" style=\"stroke: #A80036; stroke-width: 1.5;\" width=\"95\" x=\"167.5\" y=\"353\"/><text fill=\"#000000\" font-family=\"sans-serif\" font-size=\"12\" font-style=\"italic\" lengthAdjust=\"spacingAndGlyphs\" textLength=\"88\" x=\"171\" y=\"369.1387\">«analysis def»</text><text fill=\"#000000\" font-family=\"sans-serif\" font-size=\"12\" lengthAdjust=\"spacingAndGlyphs\" textLength=\"81\" x=\"174.5\" y=\"383.1074\">AnalysisCase</text></a></g><!--MD5=[2156ba9850f5573cc1fc38a6a4b2f02b]\n",
       "class E7--><a href=\"psysml:317ace64-a3b7-4095-b75a-9c551641bbd2\" target=\"_top\" title=\"psysml:317ace64-a3b7-4095-b75a-9c551641bbd2\" xlink:actuate=\"onRequest\" xlink:href=\"psysml:317ace64-a3b7-4095-b75a-9c551641bbd2\" xlink:show=\"new\" xlink:title=\"psysml:317ace64-a3b7-4095-b75a-9c551641bbd2\" xlink:type=\"simple\"><rect fill=\"#FEFECE\" filter=\"url(#f1q8grntdyq2o)\" height=\"52.7734\" id=\"E7\" rx=\"10\" ry=\"10\" style=\"stroke: #A80036; stroke-width: 1.5;\" width=\"84\" x=\"263\" y=\"243\"/><text fill=\"#000000\" font-family=\"sans-serif\" font-size=\"12\" lengthAdjust=\"spacingAndGlyphs\" textLength=\"70\" x=\"270\" y=\"259.1387\">«objective»</text><line style=\"stroke: #A80036; stroke-width: 1.5;\" x1=\"264\" x2=\"346\" y1=\"266.9688\" y2=\"266.9688\"/><text fill=\"#000000\" font-family=\"sans-serif\" font-size=\"11\" lengthAdjust=\"spacingAndGlyphs\" textLength=\"12\" x=\"269\" y=\"281.1792\">...</text><line style=\"stroke: #A80036; stroke-width: 1.0;\" x1=\"264\" x2=\"346\" y1=\"287.7734\" y2=\"287.7734\"/></a><g id=\"E1.E6.E8\"><a href=\"psysml:0f757ff2-27a2-40d5-a25f-af43358ff77a\" target=\"_top\" title=\"psysml:0f757ff2-27a2-40d5-a25f-af43358ff77a\" xlink:actuate=\"onRequest\" xlink:href=\"psysml:0f757ff2-27a2-40d5-a25f-af43358ff77a\" xlink:show=\"new\" xlink:title=\"psysml:0f757ff2-27a2-40d5-a25f-af43358ff77a\" xlink:type=\"simple\"><rect fill=\"#FEFECE\" filter=\"url(#f1q8grntdyq2o)\" height=\"42.9375\" id=\"E8\" rx=\"10\" ry=\"10\" style=\"stroke: #A80036; stroke-width: 1.5;\" width=\"92\" x=\"136\" y=\"248\"/><text fill=\"#000000\" font-family=\"sans-serif\" font-size=\"12\" font-style=\"italic\" lengthAdjust=\"spacingAndGlyphs\" textLength=\"64\" x=\"150\" y=\"264.1387\">«analysis»</text><text fill=\"#000000\" font-family=\"sans-serif\" font-size=\"12\" lengthAdjust=\"spacingAndGlyphs\" textLength=\"81\" x=\"141.5\" y=\"278.1074\">analysisCase</text></a></g><g id=\"E1.E9.E10\"><a href=\"psysml:9d8d7d87-8dd4-470f-9d18-cffbc3763f0c\" target=\"_top\" title=\"psysml:9d8d7d87-8dd4-470f-9d18-cffbc3763f0c\" xlink:actuate=\"onRequest\" xlink:href=\"psysml:9d8d7d87-8dd4-470f-9d18-cffbc3763f0c\" xlink:show=\"new\" xlink:title=\"psysml:9d8d7d87-8dd4-470f-9d18-cffbc3763f0c\" xlink:type=\"simple\"><rect fill=\"#FEFECE\" filter=\"url(#f1q8grntdyq2o)\" height=\"42.9375\" id=\"E10\" rx=\"10\" ry=\"10\" style=\"stroke: #A80036; stroke-width: 1.5;\" width=\"88\" x=\"274\" y=\"84\"/><text fill=\"#000000\" font-family=\"sans-serif\" font-size=\"12\" font-style=\"italic\" lengthAdjust=\"spacingAndGlyphs\" textLength=\"64\" x=\"286\" y=\"100.1387\">«analysis»</text><text fill=\"#000000\" font-family=\"sans-serif\" font-size=\"12\" lengthAdjust=\"spacingAndGlyphs\" textLength=\"77\" x=\"279.5\" y=\"114.1074\">analysisPlan</text></a></g><!--MD5=[15ebcb19ae302d9b601edb458606d402]\n",
       "link E5 to E2--><a href=\"psysml:4ce798b4-e7f7-45ac-94f6-a9dc23ec95c2\" target=\"_top\" title=\"psysml:4ce798b4-e7f7-45ac-94f6-a9dc23ec95c2\" xlink:actuate=\"onRequest\" xlink:href=\"psysml:4ce798b4-e7f7-45ac-94f6-a9dc23ec95c2\" xlink:show=\"new\" xlink:title=\"psysml:4ce798b4-e7f7-45ac-94f6-a9dc23ec95c2\" xlink:type=\"simple\"><path d=\"M187.14,396.11 C174.68,405.33 159.92,416.26 147.01,425.81 \" fill=\"none\" id=\"E5-&gt;E2\" style=\"stroke: #A80036; stroke-width: 1.0; stroke-dasharray: 7.0,7.0;\"/><polygon fill=\"#A80036\" points=\"142.71,429,152.3187,426.8384,146.722,426.016,147.5443,420.4193,142.71,429\" style=\"stroke: #A80036; stroke-width: 1.0;\"/><text fill=\"#000000\" font-family=\"sans-serif\" font-size=\"13\" lengthAdjust=\"spacingAndGlyphs\" textLength=\"62\" x=\"174\" y=\"417.0669\">«subject»</text></a><!--MD5=[2351f337d6de0f557b50152ba70847b5]\n",
       "link E6 to E2--><a href=\"psysml:38ee38e5-fe2f-49e8-a238-8ef961814591\" target=\"_top\" title=\"psysml:38ee38e5-fe2f-49e8-a238-8ef961814591\" xlink:actuate=\"onRequest\" xlink:href=\"psysml:38ee38e5-fe2f-49e8-a238-8ef961814591\" xlink:show=\"new\" xlink:title=\"psysml:38ee38e5-fe2f-49e8-a238-8ef961814591\" xlink:type=\"simple\"><path d=\"M92.9414,294.7008 C92.8971,294.8555 92.8528,295.0108 92.8084,295.1667 C92.631,295.7901 92.4529,296.4226 92.2746,297.064 C90.848,302.1949 89.4013,307.8909 88.0675,313.9888 C82.7325,338.38 79.205,369.2 86,396 C88.48,405.76 93.13,415.68 98,424.27 \" fill=\"none\" id=\"E6-&gt;E2\" style=\"stroke: #A80036; stroke-width: 1.0; stroke-dasharray: 7.0,7.0;\"/><polygon fill=\"#A80036\" points=\"100.71,428.9,99.6101,419.1127,98.1818,424.5863,92.7082,423.1579,100.71,428.9\" style=\"stroke: #A80036; stroke-width: 1.0;\"/><text fill=\"#000000\" font-family=\"sans-serif\" font-size=\"13\" lengthAdjust=\"spacingAndGlyphs\" textLength=\"62\" x=\"87\" y=\"379.0669\">«subject»</text></a><!--MD5=[1ccb2481ffa92f8d51a74ee30c51832a]\n",
       "link E8 to E5--><a href=\"psysml:cf5e8ef0-758f-412b-8419-a299a9750eac\" target=\"_top\" title=\"psysml:cf5e8ef0-758f-412b-8419-a299a9750eac\" xlink:actuate=\"onRequest\" xlink:href=\"psysml:cf5e8ef0-758f-412b-8419-a299a9750eac\" xlink:show=\"new\" xlink:title=\"psysml:cf5e8ef0-758f-412b-8419-a299a9750eac\" xlink:type=\"simple\"><path d=\"M188.68,291.34 C192.52,303.35 197.49,318.85 202.07,333.15 \" fill=\"none\" id=\"E8-&gt;E5\" style=\"stroke: #A80036; stroke-width: 1.0;\"/><polygon fill=\"#FFFFFF\" points=\"208.33,352.69,195.871,336.7284,209.2046,332.4604,208.33,352.69\" style=\"stroke: #A80036; stroke-width: 1.0;\"/><ellipse cx=\"196.0381\" cy=\"330.69\" fill=\"#A80036\" rx=\"2\" ry=\"2\" style=\"stroke: #A80036; stroke-width: 1.0;\"/><ellipse cx=\"205.5621\" cy=\"327.6415\" fill=\"#A80036\" rx=\"2\" ry=\"2\" style=\"stroke: #A80036; stroke-width: 1.0;\"/></a><!--MD5=[198716bf12f04006f5c20d61bde6d80d]\n",
       "link E10 to E6--><a href=\"psysml:4172c94c-9fb8-4464-b137-e530fc31134b\" target=\"_top\" title=\"psysml:4172c94c-9fb8-4464-b137-e530fc31134b\" xlink:actuate=\"onRequest\" xlink:href=\"psysml:4172c94c-9fb8-4464-b137-e530fc31134b\" xlink:show=\"new\" xlink:title=\"psysml:4172c94c-9fb8-4464-b137-e530fc31134b\" xlink:type=\"simple\"><path d=\"M300.95,127.4 C292.58,136.18 281.77,145.6 270,151 C239.51,164.99 144.58,145.17 120,168 C115.9013,171.8063 112.5234,176.1975 109.7512,180.9721 C109.4047,181.569 109.0676,182.1718 108.7398,182.7802 C108.5759,183.0844 108.4143,183.39 108.2549,183.697 \" fill=\"none\" id=\"E10-&gt;E6\" style=\"stroke: #A80036; stroke-width: 1.0;\"/><polygon fill=\"#FFFFFF\" points=\"108.2549,183.697,110.795,163.6085,123.2209,170.058,108.2549,183.697\" style=\"stroke: #A80036; stroke-width: 1.0;\"/><ellipse cx=\"115.196\" cy=\"159.4707\" fill=\"#A80036\" rx=\"2\" ry=\"2\" style=\"stroke: #A80036; stroke-width: 1.0;\"/><ellipse cx=\"124.0716\" cy=\"164.0776\" fill=\"#A80036\" rx=\"2\" ry=\"2\" style=\"stroke: #A80036; stroke-width: 1.0;\"/></a><!--MD5=[9962a315f1b1f651ab7283ddcc23ea90]\n",
       "@startuml\r\n",
       "skinparam ranksep 10\r\n",
       "skinparam rectangle {\r\n",
       " backgroundColor<<block>> LightGreen\r\n",
       "}\r\n",
       "skinparam wrapWidth 300\r\n",
       "hide circle\r\n",
       "\r\n",
       "package \"AnalysisTest\" as E1  [[psysml:e1dfe890-ec15-4931-b288-05d8c66f0e23 ]]  {\r\n",
       "rec def \"V\" as E2  <<(T,blue) part  def>> [[psysml:e8de7c06-a552-45cc-9ef9-bdca622a4dc8 ]] {\r\n",
       "}\r\n",
       "rec usage \"vv: V\" as E3  [[psysml:e405eddc-d04c-43ee-94c7-f68d6bd4037b ]] {\r\n",
       "}\r\n",
       "comp def \"AnalysisObjective\" as E4  <<(T,blue) requirement  def>> [[psysml:61935c6a-e9b2-427b-8e93-9f8ea2764a4f ]] {\r\n",
       "...\r\n",
       "- -\r\n",
       "}\r\n",
       "rec def \"AnalysisCase\" as E5 << analysis def>> [[psysml:5016a817-b8b6-43b2-a1c9-71130e2545c5 ]] {\r\n",
       "}\r\n",
       "rec def \"AnalysisPlan\" as E6 << analysis def>> [[psysml:0d28215e-abd0-4258-9ce4-d7487f47f154 ]] {\r\n",
       "comp usage \" <U+00AB>objective<U+00BB> \" as E7 [[psysml:317ace64-a3b7-4095-b75a-9c551641bbd2 ]] {\r\n",
       "...\r\n",
       "- -\r\n",
       "}\r\n",
       "rec usage \"analysisCase\" as E8 << analysis>> [[psysml:0f757ff2-27a2-40d5-a25f-af43358ff77a ]] {\r\n",
       "}\r\n",
       "}\r\n",
       "rec usage \"analysisContext\" as E9  [[psysml:b24749b9-9e77-4740-bd21-7fc3830bb957 ]] {\r\n",
       "rec usage \"analysisPlan\" as E10 << analysis>> [[psysml:9d8d7d87-8dd4-470f-9d18-cffbc3763f0c ]] {\r\n",
       "}\r\n",
       "}\r\n",
       "}\r\n",
       "E5 ..> E2 [[psysml:4ce798b4-e7f7-45ac-94f6-a9dc23ec95c2 ]] : <<subject>>\r\n",
       "E6 ..> E2 [[psysml:38ee38e5-fe2f-49e8-a238-8ef961814591 ]] : <<subject>>\r\n",
       "E8 - -:|> E5 [[psysml:cf5e8ef0-758f-412b-8419-a299a9750eac ]] \r\n",
       "E10 - -:|> E6 [[psysml:4172c94c-9fb8-4464-b137-e530fc31134b ]] \r\n",
       "@enduml\r\n",
       "\n",
       "PlantUML version 1.2020.13(Sat Jun 13 12:26:38 UTC 2020)\n",
       "(EPL source distribution)\n",
       "Java Runtime: OpenJDK Runtime Environment\n",
       "JVM: OpenJDK 64-Bit Server VM\n",
       "Default Encoding: UTF-8\n",
       "Language: en\n",
       "Country: null\n",
       "--></g></svg>"
      ]
     },
     "execution_count": 26,
     "metadata": {},
     "output_type": "execute_result"
    }
   ],
   "source": [
    "%viz --style=\"STDCOLOR\" --view=\"Interconnection\" \"AnalysisTest\""
   ]
  },
  {
   "cell_type": "code",
   "execution_count": 27,
   "id": "f3638c35",
   "metadata": {
    "execution": {
     "iopub.execute_input": "2022-02-05T16:52:02.755244Z",
     "iopub.status.busy": "2022-02-05T16:52:02.754832Z",
     "iopub.status.idle": "2022-02-05T16:52:02.796743Z",
     "shell.execute_reply": "2022-02-05T16:52:02.796391Z"
    }
   },
   "outputs": [
    {
     "data": {
      "image/svg+xml": [
       "<?xml version=\"1.0\" encoding=\"UTF-8\" standalone=\"no\"?><svg xmlns=\"http://www.w3.org/2000/svg\" xmlns:xlink=\"http://www.w3.org/1999/xlink\" contentScriptType=\"application/ecmascript\" contentStyleType=\"text/css\" height=\"241px\" preserveAspectRatio=\"none\" style=\"width:656px;height:241px;\" version=\"1.1\" viewBox=\"0 0 656 241\" width=\"656px\" zoomAndPan=\"magnify\"><defs><filter height=\"300%\" id=\"fibw41xrr43di\" width=\"300%\" x=\"-1\" y=\"-1\"><feGaussianBlur result=\"blurOut\" stdDeviation=\"2.0\"/><feColorMatrix in=\"blurOut\" result=\"blurOut2\" type=\"matrix\" values=\"0 0 0 0 0 0 0 0 0 0 0 0 0 0 0 0 0 0 .4 0\"/><feOffset dx=\"4.0\" dy=\"4.0\" in=\"blurOut2\" result=\"blurOut3\"/><feBlend in=\"SourceGraphic\" in2=\"blurOut3\" mode=\"normal\"/></filter></defs><g><!--MD5=[fbc87193dbaf4d95561dea2c320d4a47]\n",
       "cluster E1--><a href=\"psysml:5016a817-b8b6-43b2-a1c9-71130e2545c5\" target=\"_top\" title=\"psysml:5016a817-b8b6-43b2-a1c9-71130e2545c5\" xlink:actuate=\"onRequest\" xlink:href=\"psysml:5016a817-b8b6-43b2-a1c9-71130e2545c5\" xlink:show=\"new\" xlink:title=\"psysml:5016a817-b8b6-43b2-a1c9-71130e2545c5\" xlink:type=\"simple\"><rect fill=\"#FFFFFF\" filter=\"url(#fibw41xrr43di)\" height=\"122\" id=\"E1\" style=\"stroke: #A80036; stroke-width: 1.5;\" width=\"146\" x=\"7\" y=\"42.0986\"/><rect fill=\"#FEFECE\" height=\"37.9375\" style=\"stroke: #A80036; stroke-width: 1.5;\" width=\"146\" x=\"7\" y=\"42.0986\"/><text fill=\"#000000\" font-family=\"sans-serif\" font-size=\"12\" font-style=\"italic\" lengthAdjust=\"spacingAndGlyphs\" textLength=\"88\" x=\"36\" y=\"58.2373\">«analysis def»</text><text fill=\"#000000\" font-family=\"sans-serif\" font-size=\"12\" lengthAdjust=\"spacingAndGlyphs\" textLength=\"81\" x=\"39.5\" y=\"72.2061\">AnalysisCase</text></a><!--MD5=[f6df4d0ebaf0b5dfb2ced0ae5af7c670]\n",
       "cluster E4--><a href=\"psysml:0d28215e-abd0-4258-9ce4-d7487f47f154\" target=\"_top\" title=\"psysml:0d28215e-abd0-4258-9ce4-d7487f47f154\" xlink:actuate=\"onRequest\" xlink:href=\"psysml:0d28215e-abd0-4258-9ce4-d7487f47f154\" xlink:show=\"new\" xlink:title=\"psysml:0d28215e-abd0-4258-9ce4-d7487f47f154\" xlink:type=\"simple\"><rect fill=\"#FFFFFF\" filter=\"url(#fibw41xrr43di)\" height=\"180\" id=\"E4\" style=\"stroke: #A80036; stroke-width: 1.5;\" width=\"262\" x=\"216\" y=\"42.0986\"/><rect fill=\"#FEFECE\" height=\"37.9375\" style=\"stroke: #A80036; stroke-width: 1.5;\" width=\"262\" x=\"216\" y=\"42.0986\"/><text fill=\"#000000\" font-family=\"sans-serif\" font-size=\"12\" font-style=\"italic\" lengthAdjust=\"spacingAndGlyphs\" textLength=\"88\" x=\"303\" y=\"58.2373\">«analysis def»</text><text fill=\"#000000\" font-family=\"sans-serif\" font-size=\"12\" lengthAdjust=\"spacingAndGlyphs\" textLength=\"77\" x=\"308.5\" y=\"72.2061\">AnalysisPlan</text></a><!--MD5=[14e3b0961a2654348d326746436168a1]\n",
       "cluster E6--><a href=\"psysml:0f757ff2-27a2-40d5-a25f-af43358ff77a\" target=\"_top\" title=\"psysml:0f757ff2-27a2-40d5-a25f-af43358ff77a\" xlink:actuate=\"onRequest\" xlink:href=\"psysml:0f757ff2-27a2-40d5-a25f-af43358ff77a\" xlink:show=\"new\" xlink:title=\"psysml:0f757ff2-27a2-40d5-a25f-af43358ff77a\" xlink:type=\"simple\"><rect fill=\"#FFFFFF\" filter=\"url(#fibw41xrr43di)\" height=\"110.5\" id=\"E6\" rx=\"10\" ry=\"10\" style=\"stroke: #A80036; stroke-width: 1.5;\" width=\"138\" x=\"299\" y=\"81.5986\"/><rect fill=\"#FEFECE\" height=\"37.9375\" rx=\"10\" ry=\"10\" style=\"stroke: #FEFECE; stroke-width: 1.5;\" width=\"138\" x=\"299\" y=\"81.5986\"/><rect fill=\"#FEFECE\" height=\"10\" style=\"stroke: #FEFECE; stroke-width: 1.5;\" width=\"138\" x=\"299\" y=\"109.5361\"/><rect fill=\"none\" height=\"110.5\" id=\"E6\" rx=\"10\" ry=\"10\" style=\"stroke: #A80036; stroke-width: 1.5;\" width=\"138\" x=\"299\" y=\"81.5986\"/><text fill=\"#000000\" font-family=\"sans-serif\" font-size=\"12\" font-style=\"italic\" lengthAdjust=\"spacingAndGlyphs\" textLength=\"64\" x=\"336\" y=\"97.7373\">«analysis»</text><text fill=\"#000000\" font-family=\"sans-serif\" font-size=\"12\" lengthAdjust=\"spacingAndGlyphs\" textLength=\"81\" x=\"327.5\" y=\"111.7061\">analysisCase</text><line style=\"stroke: #A80036; stroke-width: 1.0;\" x1=\"299\" x2=\"437\" y1=\"119.5361\" y2=\"119.5361\"/></a><!--MD5=[a84b4591f868c1fa4a211716a82f2f0d]\n",
       "cluster E10--><a href=\"psysml:9d8d7d87-8dd4-470f-9d18-cffbc3763f0c\" target=\"_top\" title=\"psysml:9d8d7d87-8dd4-470f-9d18-cffbc3763f0c\" xlink:actuate=\"onRequest\" xlink:href=\"psysml:9d8d7d87-8dd4-470f-9d18-cffbc3763f0c\" xlink:show=\"new\" xlink:title=\"psysml:9d8d7d87-8dd4-470f-9d18-cffbc3763f0c\" xlink:type=\"simple\"><rect fill=\"#FFFFFF\" filter=\"url(#fibw41xrr43di)\" height=\"122\" id=\"E10\" rx=\"10\" ry=\"10\" style=\"stroke: #A80036; stroke-width: 1.5;\" width=\"130\" x=\"507\" y=\"42.0986\"/><rect fill=\"#FEFECE\" height=\"37.9375\" rx=\"10\" ry=\"10\" style=\"stroke: #FEFECE; stroke-width: 1.5;\" width=\"130\" x=\"507\" y=\"42.0986\"/><rect fill=\"#FEFECE\" height=\"10\" style=\"stroke: #FEFECE; stroke-width: 1.5;\" width=\"130\" x=\"507\" y=\"70.0361\"/><rect fill=\"none\" height=\"122\" id=\"E10\" rx=\"10\" ry=\"10\" style=\"stroke: #A80036; stroke-width: 1.5;\" width=\"130\" x=\"507\" y=\"42.0986\"/><text fill=\"#000000\" font-family=\"sans-serif\" font-size=\"12\" font-style=\"italic\" lengthAdjust=\"spacingAndGlyphs\" textLength=\"64\" x=\"540\" y=\"58.2373\">«analysis»</text><text fill=\"#000000\" font-family=\"sans-serif\" font-size=\"12\" lengthAdjust=\"spacingAndGlyphs\" textLength=\"77\" x=\"533.5\" y=\"72.2061\">analysisPlan</text><line style=\"stroke: #A80036; stroke-width: 1.0;\" x1=\"507\" x2=\"637\" y1=\"80.0361\" y2=\"80.0361\"/></a><text fill=\"#000000\" font-family=\"sans-serif\" font-size=\"14\" lengthAdjust=\"spacingAndGlyphs\" textLength=\"7\" x=\"76.5\" y=\"20.7969\">v</text><rect fill=\"#A80036\" height=\"12\" style=\"stroke: #FEFECE; stroke-width: 1.5;\" width=\"12\" x=\"74\" y=\"36.0986\"/><text fill=\"#000000\" font-family=\"sans-serif\" font-size=\"14\" lengthAdjust=\"spacingAndGlyphs\" textLength=\"39\" x=\"60.5\" y=\"183.0938\">result</text><rect fill=\"#A80036\" height=\"12\" style=\"stroke: #FEFECE; stroke-width: 1.5;\" width=\"12\" x=\"74\" y=\"158.0986\"/><text fill=\"#000000\" font-family=\"sans-serif\" font-size=\"14\" lengthAdjust=\"spacingAndGlyphs\" textLength=\"7\" x=\"230.5\" y=\"20.7969\">v</text><rect fill=\"#A80036\" height=\"12\" style=\"stroke: #FEFECE; stroke-width: 1.5;\" width=\"12\" x=\"228\" y=\"36.0986\"/><text fill=\"#000000\" font-family=\"sans-serif\" font-size=\"14\" lengthAdjust=\"spacingAndGlyphs\" textLength=\"39\" x=\"458.5\" y=\"183.0938\">result</text><rect fill=\"#A80036\" height=\"12\" style=\"stroke: #FEFECE; stroke-width: 1.5;\" width=\"12\" x=\"472\" y=\"158.0986\"/><text fill=\"#000000\" font-family=\"sans-serif\" font-size=\"14\" lengthAdjust=\"spacingAndGlyphs\" textLength=\"37\" x=\"349.5\" y=\"211.0938\">mass</text><rect fill=\"#A80036\" height=\"12\" style=\"stroke: #FEFECE; stroke-width: 1.5;\" width=\"12\" x=\"362\" y=\"186.0986\"/><text fill=\"#000000\" font-family=\"sans-serif\" font-size=\"14\" lengthAdjust=\"spacingAndGlyphs\" textLength=\"7\" x=\"364.5\" y=\"60.2969\">v</text><rect fill=\"#A80036\" height=\"12\" style=\"stroke: #FEFECE; stroke-width: 1.5;\" width=\"12\" x=\"362\" y=\"75.5986\"/><text fill=\"#000000\" font-family=\"sans-serif\" font-size=\"14\" lengthAdjust=\"spacingAndGlyphs\" textLength=\"7\" x=\"567.5\" y=\"20.7969\">v</text><rect fill=\"#A80036\" height=\"12\" style=\"stroke: #FEFECE; stroke-width: 1.5;\" width=\"12\" x=\"565\" y=\"36.0986\"/><text fill=\"#000000\" font-family=\"sans-serif\" font-size=\"14\" lengthAdjust=\"spacingAndGlyphs\" textLength=\"39\" x=\"505.5\" y=\"183.0938\">result</text><rect fill=\"#A80036\" height=\"12\" style=\"stroke: #FEFECE; stroke-width: 1.5;\" width=\"12\" x=\"519\" y=\"158.0986\"/><!--MD5=[cc36c7c31d6953a23585cf91f0709567]\n",
       "@startuml\r\n",
       "skinparam ranksep 8\r\n",
       "skinparam wrapWidth 300\r\n",
       "hide circle\r\n",
       "\r\n",
       "rec def \"AnalysisCase\" as E1 << analysis def>> [[psysml:5016a817-b8b6-43b2-a1c9-71130e2545c5 ]] {\r\n",
       "portin \"v\" as E2  [[psysml:164c7fef-cc79-47d0-81ef-11274fabe5a7 ]] \r\n",
       "portout \"result\" as E3  [[psysml:6e4742d8-6cff-49ed-9a2e-48d7290da8ea ]] \r\n",
       "}\r\n",
       "\r\n",
       "rec def \"AnalysisPlan\" as E4 << analysis def>> [[psysml:0d28215e-abd0-4258-9ce4-d7487f47f154 ]] {\r\n",
       "portin \"v\" as E5  [[psysml:7943f1e5-2d26-4cd3-a00e-7357be36b5d6 ]] \r\n",
       "rec usage \"analysisCase\" as E6 << analysis>> [[psysml:0f757ff2-27a2-40d5-a25f-af43358ff77a ]] {\r\n",
       "portout \"mass\" as E7  [[psysml:ec31ed6f-aea4-4ab3-8935-1d2e29a82c61 ]] \r\n",
       "portin \"v\" as E8  [[psysml:1b55d686-bd3b-4923-8e60-8b313cbf92b9 ]] \r\n",
       "}\r\n",
       "\r\n",
       "portout \"result\" as E9  [[psysml:301e1961-b4b0-4f3f-9bd8-8820561614e6 ]] \r\n",
       "}\r\n",
       "\r\n",
       "rec usage \"analysisPlan\" as E10 << analysis>> [[psysml:9d8d7d87-8dd4-470f-9d18-cffbc3763f0c ]] {\r\n",
       "portin \"v\" as E11  [[psysml:fb21399e-f4a1-4dd2-99a6-b4e6906605c8 ]] \r\n",
       "portout \"result\" as E12  [[psysml:db81a387-1cd1-4bdf-be56-65aa7adff2a2 ]] \r\n",
       "}\r\n",
       "\r\n",
       "@enduml\r\n",
       "\n",
       "PlantUML version 1.2020.13(Sat Jun 13 12:26:38 UTC 2020)\n",
       "(EPL source distribution)\n",
       "Java Runtime: OpenJDK Runtime Environment\n",
       "JVM: OpenJDK 64-Bit Server VM\n",
       "Default Encoding: UTF-8\n",
       "Language: en\n",
       "Country: null\n",
       "--></g></svg>"
      ]
     },
     "execution_count": 27,
     "metadata": {},
     "output_type": "execute_result"
    }
   ],
   "source": [
    "%viz --style=\"STDCOLOR\" --view=\"Action\" \"AnalysisTest\""
   ]
  },
  {
   "cell_type": "code",
   "execution_count": 28,
   "id": "c84f8e3b",
   "metadata": {
    "execution": {
     "iopub.execute_input": "2022-02-05T16:52:02.846789Z",
     "iopub.status.busy": "2022-02-05T16:52:02.846383Z",
     "iopub.status.idle": "2022-02-05T16:52:02.851956Z",
     "shell.execute_reply": "2022-02-05T16:52:02.851627Z"
    }
   },
   "outputs": [
    {
     "data": {
      "image/svg+xml": [
       "<?xml version=\"1.0\" encoding=\"UTF-8\" standalone=\"no\"?><svg xmlns=\"http://www.w3.org/2000/svg\" xmlns:xlink=\"http://www.w3.org/1999/xlink\" contentScriptType=\"application/ecmascript\" contentStyleType=\"text/css\" height=\"12px\" preserveAspectRatio=\"none\" style=\"width:12px;height:12px;\" version=\"1.1\" viewBox=\"0 0 12 12\" width=\"12px\" zoomAndPan=\"magnify\"><defs/><g><!--MD5=[6c4bca67b4d71758159a5a7f1f1e1fc2]\n",
       "@startuml\r\n",
       "skinparam roundcorner 20\r\n",
       "skinparam BoxPadding 20\r\n",
       "skinparam SequenceBoxBackgroundColor #white\r\n",
       "skinparam style strictuml\r\n",
       "skinparam maxMessageSize 100\r\n",
       "skinparam wrapWidth 300\r\n",
       "hide circle\r\n",
       "\r\n",
       "@enduml\r\n",
       "\n",
       "PlantUML version 1.2020.13(Sat Jun 13 12:26:38 UTC 2020)\n",
       "(EPL source distribution)\n",
       "Java Runtime: OpenJDK Runtime Environment\n",
       "JVM: OpenJDK 64-Bit Server VM\n",
       "Default Encoding: UTF-8\n",
       "Language: en\n",
       "Country: null\n",
       "--></g></svg>"
      ]
     },
     "execution_count": 28,
     "metadata": {},
     "output_type": "execute_result"
    }
   ],
   "source": [
    "%viz --style=\"STDCOLOR\" --view=\"Sequence\" \"AnalysisTest\""
   ]
  },
  {
   "cell_type": "code",
   "execution_count": 29,
   "id": "a95f4ef4",
   "metadata": {
    "execution": {
     "iopub.execute_input": "2022-02-05T16:52:02.901873Z",
     "iopub.status.busy": "2022-02-05T16:52:02.901475Z",
     "iopub.status.idle": "2022-02-05T16:52:02.965412Z",
     "shell.execute_reply": "2022-02-05T16:52:02.965707Z"
    }
   },
   "outputs": [
    {
     "data": {
      "image/svg+xml": [
       "<?xml version=\"1.0\" encoding=\"UTF-8\" standalone=\"no\"?><svg xmlns=\"http://www.w3.org/2000/svg\" xmlns:xlink=\"http://www.w3.org/1999/xlink\" contentScriptType=\"application/ecmascript\" contentStyleType=\"text/css\" height=\"685px\" preserveAspectRatio=\"none\" style=\"width:380px;height:685px;\" version=\"1.1\" viewBox=\"0 0 380 685\" width=\"380px\" zoomAndPan=\"magnify\"><defs><filter height=\"300%\" id=\"f1jnidbuqfw36m\" width=\"300%\" x=\"-1\" y=\"-1\"><feGaussianBlur result=\"blurOut\" stdDeviation=\"2.0\"/><feColorMatrix in=\"blurOut\" result=\"blurOut2\" type=\"matrix\" values=\"0 0 0 0 0 0 0 0 0 0 0 0 0 0 0 0 0 0 .4 0\"/><feOffset dx=\"4.0\" dy=\"4.0\" in=\"blurOut2\" result=\"blurOut3\"/><feBlend in=\"SourceGraphic\" in2=\"blurOut3\" mode=\"normal\"/></filter></defs><g><!--MD5=[fbc87193dbaf4d95561dea2c320d4a47]\n",
       "cluster E1--><a href=\"psysml:e1dfe890-ec15-4931-b288-05d8c66f0e23\" target=\"_top\" title=\"psysml:e1dfe890-ec15-4931-b288-05d8c66f0e23\" xlink:actuate=\"onRequest\" xlink:href=\"psysml:e1dfe890-ec15-4931-b288-05d8c66f0e23\" xlink:show=\"new\" xlink:title=\"psysml:e1dfe890-ec15-4931-b288-05d8c66f0e23\" xlink:type=\"simple\"><polygon fill=\"#FFFFFF\" filter=\"url(#f1jnidbuqfw36m)\" points=\"16,6,108,6,115,28.2969,358,28.2969,358,673,16,673,16,6\" style=\"stroke: #000000; stroke-width: 1.5;\"/><line style=\"stroke: #000000; stroke-width: 1.5;\" x1=\"16\" x2=\"115\" y1=\"28.2969\" y2=\"28.2969\"/><text fill=\"#000000\" font-family=\"sans-serif\" font-size=\"14\" font-weight=\"bold\" lengthAdjust=\"spacingAndGlyphs\" textLength=\"86\" x=\"20\" y=\"20.9951\">AnalysisTest</text></a><!--MD5=[14e3b0961a2654348d326746436168a1]\n",
       "cluster E6--><a href=\"psysml:0d28215e-abd0-4258-9ce4-d7487f47f154\" target=\"_top\" title=\"psysml:0d28215e-abd0-4258-9ce4-d7487f47f154\" xlink:actuate=\"onRequest\" xlink:href=\"psysml:0d28215e-abd0-4258-9ce4-d7487f47f154\" xlink:show=\"new\" xlink:title=\"psysml:0d28215e-abd0-4258-9ce4-d7487f47f154\" xlink:type=\"simple\"><rect fill=\"#FFFFFF\" filter=\"url(#f1jnidbuqfw36m)\" height=\"136\" id=\"E6\" style=\"stroke: #A80036; stroke-width: 1.5;\" width=\"278\" x=\"48\" y=\"267\"/><rect fill=\"#FEFECE\" height=\"37.9375\" style=\"stroke: #A80036; stroke-width: 1.5;\" width=\"278\" x=\"48\" y=\"267\"/><text fill=\"#000000\" font-family=\"sans-serif\" font-size=\"12\" font-style=\"italic\" lengthAdjust=\"spacingAndGlyphs\" textLength=\"88\" x=\"143\" y=\"283.1387\">«analysis def»</text><text fill=\"#000000\" font-family=\"sans-serif\" font-size=\"12\" lengthAdjust=\"spacingAndGlyphs\" textLength=\"77\" x=\"148.5\" y=\"297.1074\">AnalysisPlan</text></a><!--MD5=[b4997ac47864f28c2f74865a473b2911]\n",
       "class E2--><a href=\"psysml:e8de7c06-a552-45cc-9ef9-bdca622a4dc8\" target=\"_top\" title=\"psysml:e8de7c06-a552-45cc-9ef9-bdca622a4dc8\" xlink:actuate=\"onRequest\" xlink:href=\"psysml:e8de7c06-a552-45cc-9ef9-bdca622a4dc8\" xlink:show=\"new\" xlink:title=\"psysml:e8de7c06-a552-45cc-9ef9-bdca622a4dc8\" xlink:type=\"simple\"><rect fill=\"#FEFECE\" filter=\"url(#f1jnidbuqfw36m)\" height=\"75.5469\" id=\"E2\" style=\"stroke: #A80036; stroke-width: 1.5;\" width=\"70\" x=\"179\" y=\"581\"/><text fill=\"#000000\" font-family=\"sans-serif\" font-size=\"12\" font-style=\"italic\" lengthAdjust=\"spacingAndGlyphs\" textLength=\"68\" x=\"180\" y=\"597.1387\">«part  def»</text><text fill=\"#000000\" font-family=\"sans-serif\" font-size=\"12\" lengthAdjust=\"spacingAndGlyphs\" textLength=\"8\" x=\"210\" y=\"611.1074\">V</text><line style=\"stroke: #A80036; stroke-width: 1.5;\" x1=\"180\" x2=\"248\" y1=\"618.9375\" y2=\"618.9375\"/><text fill=\"#000000\" font-family=\"sans-serif\" font-size=\"11\" lengthAdjust=\"spacingAndGlyphs\" textLength=\"11\" x=\"185\" y=\"649.9526\">m</text><line style=\"stroke: #A80036; stroke-width: 1.0;\" x1=\"180\" x2=\"183\" y1=\"633.3398\" y2=\"633.3398\"/><text fill=\"#000000\" font-family=\"sans-serif\" font-size=\"11\" lengthAdjust=\"spacingAndGlyphs\" textLength=\"62\" x=\"183\" y=\"636.6479\">references</text><line style=\"stroke: #A80036; stroke-width: 1.0;\" x1=\"245\" x2=\"248\" y1=\"633.3398\" y2=\"633.3398\"/></a><!--MD5=[09b614a08d8cba4a07c9adeb5e0fee81]\n",
       "class E3--><a href=\"psysml:e405eddc-d04c-43ee-94c7-f68d6bd4037b\" target=\"_top\" title=\"psysml:e405eddc-d04c-43ee-94c7-f68d6bd4037b\" xlink:actuate=\"onRequest\" xlink:href=\"psysml:e405eddc-d04c-43ee-94c7-f68d6bd4037b\" xlink:show=\"new\" xlink:title=\"psysml:e405eddc-d04c-43ee-94c7-f68d6bd4037b\" xlink:type=\"simple\"><rect fill=\"#FEFECE\" filter=\"url(#f1jnidbuqfw36m)\" height=\"45.9375\" id=\"E3\" rx=\"10\" ry=\"10\" style=\"stroke: #A80036; stroke-width: 1.5;\" width=\"42\" x=\"297\" y=\"458\"/><text fill=\"#000000\" font-family=\"sans-serif\" font-size=\"12\" font-style=\"italic\" lengthAdjust=\"spacingAndGlyphs\" textLength=\"40\" x=\"298\" y=\"474.1387\">«part»</text><text fill=\"#000000\" font-family=\"sans-serif\" font-size=\"12\" lengthAdjust=\"spacingAndGlyphs\" textLength=\"28\" x=\"302\" y=\"488.1074\">vv: V</text><line style=\"stroke: #A80036; stroke-width: 1.5;\" x1=\"298\" x2=\"338\" y1=\"495.9375\" y2=\"495.9375\"/></a><!--MD5=[ebbe1d658d1005bcc118a6aa81145e00]\n",
       "class E4--><a href=\"psysml:61935c6a-e9b2-427b-8e93-9f8ea2764a4f\" target=\"_top\" title=\"psysml:61935c6a-e9b2-427b-8e93-9f8ea2764a4f\" xlink:actuate=\"onRequest\" xlink:href=\"psysml:61935c6a-e9b2-427b-8e93-9f8ea2764a4f\" xlink:show=\"new\" xlink:title=\"psysml:61935c6a-e9b2-427b-8e93-9f8ea2764a4f\" xlink:type=\"simple\"><rect fill=\"#FEFECE\" filter=\"url(#f1jnidbuqfw36m)\" height=\"66.7422\" id=\"E4\" style=\"stroke: #A80036; stroke-width: 1.5;\" width=\"121\" x=\"197.5\" y=\"41\"/><text fill=\"#000000\" font-family=\"sans-serif\" font-size=\"12\" font-style=\"italic\" lengthAdjust=\"spacingAndGlyphs\" textLength=\"119\" x=\"198.5\" y=\"57.1387\">«requirement  def»</text><text fill=\"#000000\" font-family=\"sans-serif\" font-size=\"12\" lengthAdjust=\"spacingAndGlyphs\" textLength=\"107\" x=\"204.5\" y=\"71.1074\">AnalysisObjective</text><line style=\"stroke: #A80036; stroke-width: 1.5;\" x1=\"198.5\" x2=\"317.5\" y1=\"78.9375\" y2=\"78.9375\"/><text fill=\"#000000\" font-family=\"sans-serif\" font-size=\"11\" lengthAdjust=\"spacingAndGlyphs\" textLength=\"12\" x=\"203.5\" y=\"93.1479\">...</text><line style=\"stroke: #A80036; stroke-width: 1.0;\" x1=\"198.5\" x2=\"317.5\" y1=\"99.7422\" y2=\"99.7422\"/></a><!--MD5=[fd4143e9d270a159db93a4ea2a975926]\n",
       "class E9--><a href=\"psysml:b24749b9-9e77-4740-bd21-7fc3830bb957\" target=\"_top\" title=\"psysml:b24749b9-9e77-4740-bd21-7fc3830bb957\" xlink:actuate=\"onRequest\" xlink:href=\"psysml:b24749b9-9e77-4740-bd21-7fc3830bb957\" xlink:show=\"new\" xlink:title=\"psysml:b24749b9-9e77-4740-bd21-7fc3830bb957\" xlink:type=\"simple\"><rect fill=\"#FEFECE\" filter=\"url(#f1jnidbuqfw36m)\" height=\"45.9375\" id=\"E9\" rx=\"10\" ry=\"10\" style=\"stroke: #A80036; stroke-width: 1.5;\" width=\"108\" x=\"32\" y=\"51.5\"/><text fill=\"#000000\" font-family=\"sans-serif\" font-size=\"12\" font-style=\"italic\" lengthAdjust=\"spacingAndGlyphs\" textLength=\"40\" x=\"66\" y=\"67.6387\">«part»</text><text fill=\"#000000\" font-family=\"sans-serif\" font-size=\"12\" lengthAdjust=\"spacingAndGlyphs\" textLength=\"98\" x=\"35\" y=\"81.6074\">analysisContext</text><line style=\"stroke: #A80036; stroke-width: 1.5;\" x1=\"33\" x2=\"139\" y1=\"89.4375\" y2=\"89.4375\"/></a><g id=\"E1.E5\"><a href=\"psysml:5016a817-b8b6-43b2-a1c9-71130e2545c5\" target=\"_top\" title=\"psysml:5016a817-b8b6-43b2-a1c9-71130e2545c5\" xlink:actuate=\"onRequest\" xlink:href=\"psysml:5016a817-b8b6-43b2-a1c9-71130e2545c5\" xlink:show=\"new\" xlink:title=\"psysml:5016a817-b8b6-43b2-a1c9-71130e2545c5\" xlink:type=\"simple\"><rect fill=\"#FEFECE\" filter=\"url(#f1jnidbuqfw36m)\" height=\"42.9375\" id=\"E5\" style=\"stroke: #A80036; stroke-width: 1.5;\" width=\"95\" x=\"166.5\" y=\"459.5\"/><text fill=\"#000000\" font-family=\"sans-serif\" font-size=\"12\" font-style=\"italic\" lengthAdjust=\"spacingAndGlyphs\" textLength=\"88\" x=\"170\" y=\"475.6387\">«analysis def»</text><text fill=\"#000000\" font-family=\"sans-serif\" font-size=\"12\" lengthAdjust=\"spacingAndGlyphs\" textLength=\"81\" x=\"173.5\" y=\"489.6074\">AnalysisCase</text></a></g><!--MD5=[2156ba9850f5573cc1fc38a6a4b2f02b]\n",
       "class E7--><a href=\"psysml:317ace64-a3b7-4095-b75a-9c551641bbd2\" target=\"_top\" title=\"psysml:317ace64-a3b7-4095-b75a-9c551641bbd2\" xlink:actuate=\"onRequest\" xlink:href=\"psysml:317ace64-a3b7-4095-b75a-9c551641bbd2\" xlink:show=\"new\" xlink:title=\"psysml:317ace64-a3b7-4095-b75a-9c551641bbd2\" xlink:type=\"simple\"><rect fill=\"#FEFECE\" filter=\"url(#f1jnidbuqfw36m)\" height=\"52.7734\" id=\"E7\" rx=\"10\" ry=\"10\" style=\"stroke: #A80036; stroke-width: 1.5;\" width=\"84\" x=\"218\" y=\"326\"/><text fill=\"#000000\" font-family=\"sans-serif\" font-size=\"12\" lengthAdjust=\"spacingAndGlyphs\" textLength=\"70\" x=\"225\" y=\"342.1387\">«objective»</text><line style=\"stroke: #A80036; stroke-width: 1.5;\" x1=\"219\" x2=\"301\" y1=\"349.9688\" y2=\"349.9688\"/><text fill=\"#000000\" font-family=\"sans-serif\" font-size=\"11\" lengthAdjust=\"spacingAndGlyphs\" textLength=\"12\" x=\"224\" y=\"364.1792\">...</text><line style=\"stroke: #A80036; stroke-width: 1.0;\" x1=\"219\" x2=\"301\" y1=\"370.7734\" y2=\"370.7734\"/></a><g id=\"E1.E6.E8\"><a href=\"psysml:0f757ff2-27a2-40d5-a25f-af43358ff77a\" target=\"_top\" title=\"psysml:0f757ff2-27a2-40d5-a25f-af43358ff77a\" xlink:actuate=\"onRequest\" xlink:href=\"psysml:0f757ff2-27a2-40d5-a25f-af43358ff77a\" xlink:show=\"new\" xlink:title=\"psysml:0f757ff2-27a2-40d5-a25f-af43358ff77a\" xlink:type=\"simple\"><rect fill=\"#FEFECE\" filter=\"url(#f1jnidbuqfw36m)\" height=\"42.9375\" id=\"E8\" rx=\"10\" ry=\"10\" style=\"stroke: #A80036; stroke-width: 1.5;\" width=\"92\" x=\"91\" y=\"331\"/><text fill=\"#000000\" font-family=\"sans-serif\" font-size=\"12\" font-style=\"italic\" lengthAdjust=\"spacingAndGlyphs\" textLength=\"64\" x=\"105\" y=\"347.1387\">«analysis»</text><text fill=\"#000000\" font-family=\"sans-serif\" font-size=\"12\" lengthAdjust=\"spacingAndGlyphs\" textLength=\"81\" x=\"96.5\" y=\"361.1074\">analysisCase</text></a></g><g id=\"E1.E10\"><a href=\"psysml:9d8d7d87-8dd4-470f-9d18-cffbc3763f0c\" target=\"_top\" title=\"psysml:9d8d7d87-8dd4-470f-9d18-cffbc3763f0c\" xlink:actuate=\"onRequest\" xlink:href=\"psysml:9d8d7d87-8dd4-470f-9d18-cffbc3763f0c\" xlink:show=\"new\" xlink:title=\"psysml:9d8d7d87-8dd4-470f-9d18-cffbc3763f0c\" xlink:type=\"simple\"><rect fill=\"#FEFECE\" filter=\"url(#f1jnidbuqfw36m)\" height=\"42.9375\" id=\"E10\" rx=\"10\" ry=\"10\" style=\"stroke: #A80036; stroke-width: 1.5;\" width=\"88\" x=\"37\" y=\"169\"/><text fill=\"#000000\" font-family=\"sans-serif\" font-size=\"12\" font-style=\"italic\" lengthAdjust=\"spacingAndGlyphs\" textLength=\"64\" x=\"49\" y=\"185.1387\">«analysis»</text><text fill=\"#000000\" font-family=\"sans-serif\" font-size=\"12\" lengthAdjust=\"spacingAndGlyphs\" textLength=\"77\" x=\"42.5\" y=\"199.1074\">analysisPlan</text></a></g><!--MD5=[05d275557350bfb9b23a4ef7222b4c39]\n",
       "link E3 to E2--><a href=\"psysml:f45a4065-dcd9-4d0e-be10-466e9a1a32d6\" target=\"_top\" title=\"psysml:f45a4065-dcd9-4d0e-be10-466e9a1a32d6\" xlink:actuate=\"onRequest\" xlink:href=\"psysml:f45a4065-dcd9-4d0e-be10-466e9a1a32d6\" xlink:show=\"new\" xlink:title=\"psysml:f45a4065-dcd9-4d0e-be10-466e9a1a32d6\" xlink:type=\"simple\"><path d=\"M310.33,504 C304.8,518.17 296.47,536.57 286,551 C279.62,559.78 271.98,568.34 264.08,576.23 \" fill=\"none\" id=\"E3-&gt;E2\" style=\"stroke: #A80036; stroke-width: 1.0;\"/><polygon fill=\"#FFFFFF\" points=\"249.34,590.06,258.406,571.9545,267.9855,582.164,249.34,590.06\" style=\"stroke: #A80036; stroke-width: 1.0;\"/><ellipse cx=\"263.9312\" cy=\"569.5128\" fill=\"#A80036\" rx=\"2\" ry=\"2\" style=\"stroke: #A80036; stroke-width: 1.0;\"/><ellipse cx=\"270.7737\" cy=\"576.8053\" fill=\"#A80036\" rx=\"2\" ry=\"2\" style=\"stroke: #A80036; stroke-width: 1.0;\"/></a><!--MD5=[15ebcb19ae302d9b601edb458606d402]\n",
       "link E5 to E2--><a href=\"psysml:4ce798b4-e7f7-45ac-94f6-a9dc23ec95c2\" target=\"_top\" title=\"psysml:4ce798b4-e7f7-45ac-94f6-a9dc23ec95c2\" xlink:actuate=\"onRequest\" xlink:href=\"psysml:4ce798b4-e7f7-45ac-94f6-a9dc23ec95c2\" xlink:show=\"new\" xlink:title=\"psysml:4ce798b4-e7f7-45ac-94f6-a9dc23ec95c2\" xlink:type=\"simple\"><path d=\"M214,502.66 C214,522.01 214,551.52 214,575.85 \" fill=\"none\" id=\"E5-&gt;E2\" style=\"stroke: #A80036; stroke-width: 1.0; stroke-dasharray: 7.0,7.0;\"/><polygon fill=\"#A80036\" points=\"214,580.96,218,571.96,214,575.96,210,571.96,214,580.96\" style=\"stroke: #A80036; stroke-width: 1.0;\"/><text fill=\"#000000\" font-family=\"sans-serif\" font-size=\"13\" lengthAdjust=\"spacingAndGlyphs\" textLength=\"62\" x=\"215\" y=\"547.0669\">«subject»</text></a><!--MD5=[2351f337d6de0f557b50152ba70847b5]\n",
       "link E6 to E2--><a href=\"psysml:38ee38e5-fe2f-49e8-a238-8ef961814591\" target=\"_top\" title=\"psysml:38ee38e5-fe2f-49e8-a238-8ef961814591\" xlink:actuate=\"onRequest\" xlink:href=\"psysml:38ee38e5-fe2f-49e8-a238-8ef961814591\" xlink:show=\"new\" xlink:title=\"psysml:38ee38e5-fe2f-49e8-a238-8ef961814591\" xlink:type=\"simple\"><path d=\"M57.5084,403.137 C57.5293,403.365 57.5504,403.5934 57.5718,403.8223 C57.6145,404.2801 57.6581,404.7398 57.7028,405.2013 C57.792,406.1242 57.8852,407.0543 57.9825,407.9913 C61.095,437.9725 68.38,474.885 85,504 C106.54,541.73 145.2,573.36 174.61,593.66 \" fill=\"none\" id=\"E6-&gt;E2\" style=\"stroke: #A80036; stroke-width: 1.0; stroke-dasharray: 7.0,7.0;\"/><polygon fill=\"#A80036\" points=\"178.87,596.58,173.6864,588.2056,174.7386,593.7638,169.1804,594.8159,178.87,596.58\" style=\"stroke: #A80036; stroke-width: 1.0;\"/><text fill=\"#000000\" font-family=\"sans-serif\" font-size=\"13\" lengthAdjust=\"spacingAndGlyphs\" textLength=\"62\" x=\"86\" y=\"485.5669\">«subject»</text></a><!--MD5=[1ccb2481ffa92f8d51a74ee30c51832a]\n",
       "link E8 to E5--><a href=\"psysml:cf5e8ef0-758f-412b-8419-a299a9750eac\" target=\"_top\" title=\"psysml:cf5e8ef0-758f-412b-8419-a299a9750eac\" xlink:actuate=\"onRequest\" xlink:href=\"psysml:cf5e8ef0-758f-412b-8419-a299a9750eac\" xlink:show=\"new\" xlink:title=\"psysml:cf5e8ef0-758f-412b-8419-a299a9750eac\" xlink:type=\"simple\"><path d=\"M149.54,374.11 C160.73,392.48 177.39,419.85 190.97,442.16 \" fill=\"none\" id=\"E8-&gt;E5\" style=\"stroke: #A80036; stroke-width: 1.0;\"/><polygon fill=\"#FFFFFF\" points=\"201.46,459.4,185.6016,446.8099,197.5604,439.5306,201.46,459.4\" style=\"stroke: #A80036; stroke-width: 1.0;\"/><ellipse cx=\"184.3463\" cy=\"440.901\" fill=\"#A80036\" rx=\"2\" ry=\"2\" style=\"stroke: #A80036; stroke-width: 1.0;\"/><ellipse cx=\"192.8883\" cy=\"435.7016\" fill=\"#A80036\" rx=\"2\" ry=\"2\" style=\"stroke: #A80036; stroke-width: 1.0;\"/></a><!--MD5=[198716bf12f04006f5c20d61bde6d80d]\n",
       "link E10 to E6--><a href=\"psysml:4172c94c-9fb8-4464-b137-e530fc31134b\" target=\"_top\" title=\"psysml:4172c94c-9fb8-4464-b137-e530fc31134b\" xlink:actuate=\"onRequest\" xlink:href=\"psysml:4172c94c-9fb8-4464-b137-e530fc31134b\" xlink:show=\"new\" xlink:title=\"psysml:4172c94c-9fb8-4464-b137-e530fc31134b\" xlink:type=\"simple\"><path d=\"M77.78,212.09 C76.12,222.725 73.9581,236.5687 71.6419,251.3978 C71.0628,255.1051 70.4741,258.8739 69.8812,262.6696 C69.7329,263.6185 69.5844,264.5691 69.4358,265.5209 C69.3614,265.9967 69.287,266.4729 69.2126,266.9493 \" fill=\"none\" id=\"E10-&gt;E6\" style=\"stroke: #A80036; stroke-width: 1.0;\"/><polygon fill=\"#FFFFFF\" points=\"69.2126,266.9493,65.2291,247.0965,79.0613,249.2573,69.2126,266.9493\" style=\"stroke: #A80036; stroke-width: 1.0;\"/><ellipse cx=\"68.0849\" cy=\"241.7735\" fill=\"#A80036\" rx=\"2\" ry=\"2\" style=\"stroke: #A80036; stroke-width: 1.0;\"/><ellipse cx=\"77.965\" cy=\"243.317\" fill=\"#A80036\" rx=\"2\" ry=\"2\" style=\"stroke: #A80036; stroke-width: 1.0;\"/></a><!--MD5=[23ac544a70576c3e717098101004234c]\n",
       "reverse link E9 to E10--><a href=\"psysml:9d8d7d87-8dd4-470f-9d18-cffbc3763f0c\" target=\"_top\" title=\"psysml:9d8d7d87-8dd4-470f-9d18-cffbc3763f0c\" xlink:actuate=\"onRequest\" xlink:href=\"psysml:9d8d7d87-8dd4-470f-9d18-cffbc3763f0c\" xlink:show=\"new\" xlink:title=\"psysml:9d8d7d87-8dd4-470f-9d18-cffbc3763f0c\" xlink:type=\"simple\"><path d=\"M84.45,110.8 C83.62,129.84 82.61,152.68 81.91,168.84 \" fill=\"none\" id=\"E9&lt;-E10\" style=\"stroke: #A80036; stroke-width: 1.0;\"/><polygon fill=\"#A80036\" points=\"85.02,97.75,80.7601,103.5684,84.4925,109.7384,88.7524,103.92,85.02,97.75\" style=\"stroke: #A80036; stroke-width: 1.0;\"/></a><!--MD5=[7ef858c65e4232e950107e9d40e8f60b]\n",
       "@startuml\r\n",
       "skinparam wrapWidth 300\r\n",
       "hide circle\r\n",
       "\r\n",
       "package \"AnalysisTest\" as E1  [[psysml:e1dfe890-ec15-4931-b288-05d8c66f0e23 ]]  {\r\n",
       "comp def \"V\" as E2  <<(T,blue) part  def>> [[psysml:e8de7c06-a552-45cc-9ef9-bdca622a4dc8 ]] {\r\n",
       "- - references - -\r\n",
       "m\r\n",
       "}\r\n",
       "comp usage \"vv: V \" as E3  <<(T,blue) part>> [[psysml:e405eddc-d04c-43ee-94c7-f68d6bd4037b ]] {\r\n",
       "}\r\n",
       "comp def \"AnalysisObjective\" as E4  <<(T,blue) requirement  def>> [[psysml:61935c6a-e9b2-427b-8e93-9f8ea2764a4f ]] {\r\n",
       "...\r\n",
       "- -\r\n",
       "}\r\n",
       "rec def \"AnalysisCase\" as E5 << analysis def>> [[psysml:5016a817-b8b6-43b2-a1c9-71130e2545c5 ]] {\r\n",
       "}\r\n",
       "rec def \"AnalysisPlan\" as E6 << analysis def>> [[psysml:0d28215e-abd0-4258-9ce4-d7487f47f154 ]] {\r\n",
       "comp usage \" <U+00AB>objective<U+00BB> \" as E7 [[psysml:317ace64-a3b7-4095-b75a-9c551641bbd2 ]] {\r\n",
       "...\r\n",
       "- -\r\n",
       "}\r\n",
       "rec usage \"analysisCase\" as E8 << analysis>> [[psysml:0f757ff2-27a2-40d5-a25f-af43358ff77a ]] {\r\n",
       "}\r\n",
       "}\r\n",
       "comp usage \"analysisContext \" as E9  <<(T,blue) part>> [[psysml:b24749b9-9e77-4740-bd21-7fc3830bb957 ]] {\r\n",
       "}\r\n",
       "rec usage \"analysisPlan\" as E10 << analysis>> [[psysml:9d8d7d87-8dd4-470f-9d18-cffbc3763f0c ]] {\r\n",
       "}\r\n",
       "}\r\n",
       "E3 - -:|> E2 [[psysml:f45a4065-dcd9-4d0e-be10-466e9a1a32d6 ]] \r\n",
       "E5 ..> E2 [[psysml:4ce798b4-e7f7-45ac-94f6-a9dc23ec95c2 ]] : <<subject>>\r\n",
       "E6 ..> E2 [[psysml:38ee38e5-fe2f-49e8-a238-8ef961814591 ]] : <<subject>>\r\n",
       "E8 - -:|> E5 [[psysml:cf5e8ef0-758f-412b-8419-a299a9750eac ]] \r\n",
       "E10 - -:|> E6 [[psysml:4172c94c-9fb8-4464-b137-e530fc31134b ]] \r\n",
       "E9 *- - E10 [[psysml:9d8d7d87-8dd4-470f-9d18-cffbc3763f0c ]] \r\n",
       "@enduml\r\n",
       "\n",
       "PlantUML version 1.2020.13(Sat Jun 13 12:26:38 UTC 2020)\n",
       "(EPL source distribution)\n",
       "Java Runtime: OpenJDK Runtime Environment\n",
       "JVM: OpenJDK 64-Bit Server VM\n",
       "Default Encoding: UTF-8\n",
       "Language: en\n",
       "Country: null\n",
       "--></g></svg>"
      ]
     },
     "execution_count": 29,
     "metadata": {},
     "output_type": "execute_result"
    }
   ],
   "source": [
    "%viz --style=\"STDCOLOR\" --view=\"MIXED\" \"AnalysisTest\""
   ]
  },
  {
   "cell_type": "code",
   "execution_count": 30,
   "id": "519047df",
   "metadata": {
    "execution": {
     "iopub.execute_input": "2022-02-05T16:52:03.015497Z",
     "iopub.status.busy": "2022-02-05T16:52:03.015069Z",
     "iopub.status.idle": "2022-02-05T16:52:03.101225Z",
     "shell.execute_reply": "2022-02-05T16:52:03.101520Z"
    }
   },
   "outputs": [
    {
     "data": {
      "image/svg+xml": [
       "<?xml version=\"1.0\" encoding=\"UTF-8\" standalone=\"no\"?><svg xmlns=\"http://www.w3.org/2000/svg\" xmlns:xlink=\"http://www.w3.org/1999/xlink\" contentScriptType=\"application/ecmascript\" contentStyleType=\"text/css\" height=\"687px\" preserveAspectRatio=\"none\" style=\"width:432px;height:687px;\" version=\"1.1\" viewBox=\"0 0 432 687\" width=\"432px\" zoomAndPan=\"magnify\"><defs><filter height=\"300%\" id=\"fb1rlekrr7pv2\" width=\"300%\" x=\"-1\" y=\"-1\"><feGaussianBlur result=\"blurOut\" stdDeviation=\"2.0\"/><feColorMatrix in=\"blurOut\" result=\"blurOut2\" type=\"matrix\" values=\"0 0 0 0 0 0 0 0 0 0 0 0 0 0 0 0 0 0 .4 0\"/><feOffset dx=\"4.0\" dy=\"4.0\" in=\"blurOut2\" result=\"blurOut3\"/><feBlend in=\"SourceGraphic\" in2=\"blurOut3\" mode=\"normal\"/></filter></defs><g><!--MD5=[fbc87193dbaf4d95561dea2c320d4a47]\n",
       "cluster E1--><a href=\"psysml:e1dfe890-ec15-4931-b288-05d8c66f0e23\" target=\"_top\" title=\"psysml:e1dfe890-ec15-4931-b288-05d8c66f0e23\" xlink:actuate=\"onRequest\" xlink:href=\"psysml:e1dfe890-ec15-4931-b288-05d8c66f0e23\" xlink:show=\"new\" xlink:title=\"psysml:e1dfe890-ec15-4931-b288-05d8c66f0e23\" xlink:type=\"simple\"><polygon fill=\"#FFFFFF\" filter=\"url(#fb1rlekrr7pv2)\" points=\"16,6,108,6,115,28.2969,410,28.2969,410,675,16,675,16,6\" style=\"stroke: #000000; stroke-width: 1.5;\"/><line style=\"stroke: #000000; stroke-width: 1.5;\" x1=\"16\" x2=\"115\" y1=\"28.2969\" y2=\"28.2969\"/><text fill=\"#000000\" font-family=\"sans-serif\" font-size=\"14\" font-weight=\"bold\" lengthAdjust=\"spacingAndGlyphs\" textLength=\"86\" x=\"20\" y=\"20.9951\">AnalysisTest</text></a><!--MD5=[14e3b0961a2654348d326746436168a1]\n",
       "cluster E6--><a href=\"psysml:0d28215e-abd0-4258-9ce4-d7487f47f154\" target=\"_top\" title=\"psysml:0d28215e-abd0-4258-9ce4-d7487f47f154\" xlink:actuate=\"onRequest\" xlink:href=\"psysml:0d28215e-abd0-4258-9ce4-d7487f47f154\" xlink:show=\"new\" xlink:title=\"psysml:0d28215e-abd0-4258-9ce4-d7487f47f154\" xlink:type=\"simple\"><rect fill=\"#FFFFFF\" filter=\"url(#fb1rlekrr7pv2)\" height=\"144\" id=\"E6\" style=\"stroke: #A80036; stroke-width: 1.5;\" width=\"330\" x=\"48\" y=\"267\"/><rect fill=\"#FEFECE\" height=\"37.9375\" style=\"stroke: #A80036; stroke-width: 1.5;\" width=\"330\" x=\"48\" y=\"267\"/><text fill=\"#000000\" font-family=\"sans-serif\" font-size=\"12\" font-style=\"italic\" lengthAdjust=\"spacingAndGlyphs\" textLength=\"88\" x=\"169\" y=\"283.1387\">«analysis def»</text><text fill=\"#000000\" font-family=\"sans-serif\" font-size=\"12\" lengthAdjust=\"spacingAndGlyphs\" textLength=\"77\" x=\"174.5\" y=\"297.1074\">AnalysisPlan</text></a><!--MD5=[b4997ac47864f28c2f74865a473b2911]\n",
       "class E2--><a href=\"psysml:e8de7c06-a552-45cc-9ef9-bdca622a4dc8\" target=\"_top\" title=\"psysml:e8de7c06-a552-45cc-9ef9-bdca622a4dc8\" xlink:actuate=\"onRequest\" xlink:href=\"psysml:e8de7c06-a552-45cc-9ef9-bdca622a4dc8\" xlink:show=\"new\" xlink:title=\"psysml:e8de7c06-a552-45cc-9ef9-bdca622a4dc8\" xlink:type=\"simple\"><rect fill=\"#FEFECE\" filter=\"url(#fb1rlekrr7pv2)\" height=\"69.6094\" id=\"E2\" style=\"stroke: #A80036; stroke-width: 1.5;\" width=\"70\" x=\"192\" y=\"589\"/><ellipse cx=\"220.5\" cy=\"605\" fill=\"#008000\" rx=\"11\" ry=\"11\" style=\"stroke: #A80036; stroke-width: 1.0;\"/><path d=\"M217.375,610 L217.375,599.4063 L220.6094,599.4063 Q222.5156,599.4063 223.4219,600.1563 Q224.3438,600.9063 224.3438,602.0781 Q224.3438,602.7656 223.9531,603.4219 Q223.5781,604.0781 222.8594,604.375 Q223.7188,604.75 224.2344,605.4375 Q224.75,606.125 224.75,606.9375 Q224.75,608.3125 223.7188,609.1563 Q222.7031,610 220.5938,610 L217.375,610 Z M219.2969,603.6406 L220.4531,603.6406 Q221.5781,603.6406 221.9844,603.2656 Q222.4063,602.875 222.4063,602.25 Q222.4063,601.6719 221.9844,601.3125 Q221.5625,600.9531 220.625,600.9531 L219.2969,600.9531 L219.2969,603.6406 Z M219.2969,608.4219 L220.7969,608.4219 Q221.7031,608.4219 222.2344,608.0313 Q222.7656,607.6406 222.7656,606.8906 Q222.7656,606.125 222.2656,605.6563 Q221.7656,605.1719 220.5,605.1719 L219.2969,605.1719 L219.2969,608.4219 Z \"/><text fill=\"#000000\" font-family=\"sans-serif\" font-size=\"12\" lengthAdjust=\"spacingAndGlyphs\" textLength=\"8\" x=\"237.5\" y=\"609.1543\">V</text><line style=\"stroke: #A80036; stroke-width: 1.5;\" x1=\"193\" x2=\"261\" y1=\"621\" y2=\"621\"/><text fill=\"#000000\" font-family=\"sans-serif\" font-size=\"11\" lengthAdjust=\"spacingAndGlyphs\" textLength=\"11\" x=\"198\" y=\"652.0151\">m</text><line style=\"stroke: #A80036; stroke-width: 1.0;\" x1=\"193\" x2=\"196\" y1=\"635.4023\" y2=\"635.4023\"/><text fill=\"#000000\" font-family=\"sans-serif\" font-size=\"11\" lengthAdjust=\"spacingAndGlyphs\" textLength=\"62\" x=\"196\" y=\"638.7104\">references</text><line style=\"stroke: #A80036; stroke-width: 1.0;\" x1=\"258\" x2=\"261\" y1=\"635.4023\" y2=\"635.4023\"/></a><!--MD5=[09b614a08d8cba4a07c9adeb5e0fee81]\n",
       "class E3--><a href=\"psysml:e405eddc-d04c-43ee-94c7-f68d6bd4037b\" target=\"_top\" title=\"psysml:e405eddc-d04c-43ee-94c7-f68d6bd4037b\" xlink:actuate=\"onRequest\" xlink:href=\"psysml:e405eddc-d04c-43ee-94c7-f68d6bd4037b\" xlink:show=\"new\" xlink:title=\"psysml:e405eddc-d04c-43ee-94c7-f68d6bd4037b\" xlink:type=\"simple\"><rect fill=\"#FEFECE\" filter=\"url(#fb1rlekrr7pv2)\" height=\"45.9375\" id=\"E3\" rx=\"10\" ry=\"10\" style=\"stroke: #A80036; stroke-width: 1.5;\" width=\"68\" x=\"323\" y=\"466\"/><ellipse cx=\"338\" cy=\"484.9688\" fill=\"#32CD32\" rx=\"11\" ry=\"11\" style=\"stroke: #A80036; stroke-width: 1.0;\"/><path d=\"M334.8125,489.9688 L334.8125,479.375 L338.4219,479.375 Q339.6406,479.375 340.4375,479.8125 Q341.2344,480.2344 341.6094,480.9375 Q342,481.6406 342,482.4844 Q342,483.3281 341.625,484.0156 Q341.2656,484.7031 340.4688,485.125 Q339.6875,485.5313 338.5,485.5313 L336.7656,485.5313 L336.7656,489.9688 L334.8125,489.9688 Z M336.7656,483.9375 L338.375,483.9375 Q339.1875,483.9375 339.6094,483.5313 Q340.0313,483.125 340.0313,482.4844 Q340.0313,481.8594 339.6094,481.4531 Q339.1875,481.0469 338.3906,481.0469 L336.7656,481.0469 L336.7656,483.9375 Z \"/><text fill=\"#000000\" font-family=\"sans-serif\" font-size=\"12\" font-style=\"italic\" lengthAdjust=\"spacingAndGlyphs\" textLength=\"40\" x=\"350\" y=\"482.1387\">«part»</text><text fill=\"#000000\" font-family=\"sans-serif\" font-size=\"12\" lengthAdjust=\"spacingAndGlyphs\" textLength=\"28\" x=\"354\" y=\"496.1074\">vv: V</text><line style=\"stroke: #A80036; stroke-width: 1.5;\" x1=\"324\" x2=\"390\" y1=\"503.9375\" y2=\"503.9375\"/></a><!--MD5=[ebbe1d658d1005bcc118a6aa81145e00]\n",
       "class E4--><a href=\"psysml:61935c6a-e9b2-427b-8e93-9f8ea2764a4f\" target=\"_top\" title=\"psysml:61935c6a-e9b2-427b-8e93-9f8ea2764a4f\" xlink:actuate=\"onRequest\" xlink:href=\"psysml:61935c6a-e9b2-427b-8e93-9f8ea2764a4f\" xlink:show=\"new\" xlink:title=\"psysml:61935c6a-e9b2-427b-8e93-9f8ea2764a4f\" xlink:type=\"simple\"><rect fill=\"#FEFECE\" filter=\"url(#fb1rlekrr7pv2)\" height=\"66.7422\" id=\"E4\" style=\"stroke: #A80036; stroke-width: 1.5;\" width=\"147\" x=\"223.5\" y=\"41\"/><ellipse cx=\"238.5\" cy=\"59.9688\" fill=\"#A52A2A\" rx=\"11\" ry=\"11\" style=\"stroke: #A80036; stroke-width: 1.0;\"/><path d=\"M235.7188,64.9688 L235.7188,54.375 L238.4531,54.375 Q239.8438,54.375 240.6094,54.7656 Q241.3906,55.1406 241.9219,55.8438 Q242.4531,56.5469 242.75,57.5469 Q243.0469,58.5313 243.0469,59.75 Q243,61.3438 242.5,62.5313 Q242.0156,63.7031 240.9688,64.3438 Q239.9375,64.9688 238.25,64.9688 L235.7188,64.9688 Z M237.5781,63.4688 L238.2031,63.4688 Q239.2813,63.4688 239.9375,63.0156 Q240.5938,62.5625 240.875,61.7344 Q241.1719,60.8906 241.1563,59.7656 Q241.1563,58.5938 240.9063,57.7344 Q240.6563,56.8594 240.0469,56.3906 Q239.4375,55.9063 238.3906,55.9063 L237.5781,55.9063 L237.5781,63.4688 Z \"/><text fill=\"#000000\" font-family=\"sans-serif\" font-size=\"12\" font-style=\"italic\" lengthAdjust=\"spacingAndGlyphs\" textLength=\"119\" x=\"250.5\" y=\"57.1387\">«requirement  def»</text><text fill=\"#000000\" font-family=\"sans-serif\" font-size=\"12\" lengthAdjust=\"spacingAndGlyphs\" textLength=\"107\" x=\"256.5\" y=\"71.1074\">AnalysisObjective</text><line style=\"stroke: #A80036; stroke-width: 1.5;\" x1=\"224.5\" x2=\"369.5\" y1=\"78.9375\" y2=\"78.9375\"/><text fill=\"#000000\" font-family=\"sans-serif\" font-size=\"11\" lengthAdjust=\"spacingAndGlyphs\" textLength=\"12\" x=\"229.5\" y=\"93.1479\">...</text><line style=\"stroke: #A80036; stroke-width: 1.0;\" x1=\"224.5\" x2=\"369.5\" y1=\"99.7422\" y2=\"99.7422\"/></a><!--MD5=[fd4143e9d270a159db93a4ea2a975926]\n",
       "class E9--><a href=\"psysml:b24749b9-9e77-4740-bd21-7fc3830bb957\" target=\"_top\" title=\"psysml:b24749b9-9e77-4740-bd21-7fc3830bb957\" xlink:actuate=\"onRequest\" xlink:href=\"psysml:b24749b9-9e77-4740-bd21-7fc3830bb957\" xlink:show=\"new\" xlink:title=\"psysml:b24749b9-9e77-4740-bd21-7fc3830bb957\" xlink:type=\"simple\"><rect fill=\"#FEFECE\" filter=\"url(#fb1rlekrr7pv2)\" height=\"45.9375\" id=\"E9\" rx=\"10\" ry=\"10\" style=\"stroke: #A80036; stroke-width: 1.5;\" width=\"134\" x=\"32\" y=\"51.5\"/><ellipse cx=\"47\" cy=\"70.4688\" fill=\"#32CD32\" rx=\"11\" ry=\"11\" style=\"stroke: #A80036; stroke-width: 1.0;\"/><path d=\"M43.8125,75.4688 L43.8125,64.875 L47.4219,64.875 Q48.6406,64.875 49.4375,65.3125 Q50.2344,65.7344 50.6094,66.4375 Q51,67.1406 51,67.9844 Q51,68.8281 50.625,69.5156 Q50.2656,70.2031 49.4688,70.625 Q48.6875,71.0313 47.5,71.0313 L45.7656,71.0313 L45.7656,75.4688 L43.8125,75.4688 Z M45.7656,69.4375 L47.375,69.4375 Q48.1875,69.4375 48.6094,69.0313 Q49.0313,68.625 49.0313,67.9844 Q49.0313,67.3594 48.6094,66.9531 Q48.1875,66.5469 47.3906,66.5469 L45.7656,66.5469 L45.7656,69.4375 Z \"/><text fill=\"#000000\" font-family=\"sans-serif\" font-size=\"12\" font-style=\"italic\" lengthAdjust=\"spacingAndGlyphs\" textLength=\"40\" x=\"92\" y=\"67.6387\">«part»</text><text fill=\"#000000\" font-family=\"sans-serif\" font-size=\"12\" lengthAdjust=\"spacingAndGlyphs\" textLength=\"98\" x=\"61\" y=\"81.6074\">analysisContext</text><line style=\"stroke: #A80036; stroke-width: 1.5;\" x1=\"33\" x2=\"165\" y1=\"89.4375\" y2=\"89.4375\"/></a><g id=\"E1.E5\"><a href=\"psysml:5016a817-b8b6-43b2-a1c9-71130e2545c5\" target=\"_top\" title=\"psysml:5016a817-b8b6-43b2-a1c9-71130e2545c5\" xlink:actuate=\"onRequest\" xlink:href=\"psysml:5016a817-b8b6-43b2-a1c9-71130e2545c5\" xlink:show=\"new\" xlink:title=\"psysml:5016a817-b8b6-43b2-a1c9-71130e2545c5\" xlink:type=\"simple\"><rect fill=\"#FEFECE\" filter=\"url(#fb1rlekrr7pv2)\" height=\"42.9375\" id=\"E5\" style=\"stroke: #A80036; stroke-width: 1.5;\" width=\"121\" x=\"166.5\" y=\"467.5\"/><ellipse cx=\"183.75\" cy=\"486.4688\" fill=\"#ADD1B2\" rx=\"11\" ry=\"11\" style=\"stroke: #A80036; stroke-width: 1.0;\"/><path d=\"M180.9688,491.4688 L180.9688,480.875 L183.7031,480.875 Q185.0938,480.875 185.8594,481.2656 Q186.6406,481.6406 187.1719,482.3438 Q187.7031,483.0469 188,484.0469 Q188.2969,485.0313 188.2969,486.25 Q188.25,487.8438 187.75,489.0313 Q187.2656,490.2031 186.2188,490.8438 Q185.1875,491.4688 183.5,491.4688 L180.9688,491.4688 Z M182.8281,489.9688 L183.4531,489.9688 Q184.5313,489.9688 185.1875,489.5156 Q185.8438,489.0625 186.125,488.2344 Q186.4219,487.3906 186.4063,486.2656 Q186.4063,485.0938 186.1563,484.2344 Q185.9063,483.3594 185.2969,482.8906 Q184.6875,482.4063 183.6406,482.4063 L182.8281,482.4063 L182.8281,489.9688 Z \"/><text fill=\"#000000\" font-family=\"sans-serif\" font-size=\"12\" font-style=\"italic\" lengthAdjust=\"spacingAndGlyphs\" textLength=\"88\" x=\"196.25\" y=\"483.6387\">«analysis def»</text><text fill=\"#000000\" font-family=\"sans-serif\" font-size=\"12\" lengthAdjust=\"spacingAndGlyphs\" textLength=\"81\" x=\"199.75\" y=\"497.6074\">AnalysisCase</text></a></g><!--MD5=[2156ba9850f5573cc1fc38a6a4b2f02b]\n",
       "class E7--><a href=\"psysml:317ace64-a3b7-4095-b75a-9c551641bbd2\" target=\"_top\" title=\"psysml:317ace64-a3b7-4095-b75a-9c551641bbd2\" xlink:actuate=\"onRequest\" xlink:href=\"psysml:317ace64-a3b7-4095-b75a-9c551641bbd2\" xlink:show=\"new\" xlink:title=\"psysml:317ace64-a3b7-4095-b75a-9c551641bbd2\" xlink:type=\"simple\"><rect fill=\"#FEFECE\" filter=\"url(#fb1rlekrr7pv2)\" height=\"60.8047\" id=\"E7\" rx=\"10\" ry=\"10\" style=\"stroke: #A80036; stroke-width: 1.5;\" width=\"110\" x=\"244\" y=\"326\"/><ellipse cx=\"259\" cy=\"342\" fill=\"#B6DBBB\" rx=\"11\" ry=\"11\" style=\"stroke: #A80036; stroke-width: 1.0;\"/><path d=\"M258.75,347.4688 Q257,347.4688 256.0469,346.4375 Q255.1094,345.3906 255.1094,343.5469 L255.1094,336.6563 L257.1719,336.6563 L257.1719,336.8125 Q257.0781,336.9063 257.0469,337.0469 Q257.0313,337.1719 257.0313,337.4375 L257.0313,343.5625 Q257.0313,344.6563 257.4063,345.2813 Q257.7813,345.9063 258.7656,345.9063 Q259.75,345.9063 260.1406,345.2813 Q260.5313,344.6563 260.5313,343.5156 L260.5313,336.6563 L262.4063,336.6563 L262.4063,343.5 Q262.4063,345.5313 261.375,346.5 Q260.3594,347.4688 258.75,347.4688 Z \"/><text fill=\"#000000\" font-family=\"sans-serif\" font-size=\"12\" lengthAdjust=\"spacingAndGlyphs\" textLength=\"70\" x=\"277\" y=\"346.1543\">«objective»</text><line style=\"stroke: #A80036; stroke-width: 1.5;\" x1=\"245\" x2=\"353\" y1=\"358\" y2=\"358\"/><text fill=\"#000000\" font-family=\"sans-serif\" font-size=\"11\" lengthAdjust=\"spacingAndGlyphs\" textLength=\"12\" x=\"250\" y=\"372.2104\">...</text><line style=\"stroke: #A80036; stroke-width: 1.0;\" x1=\"245\" x2=\"353\" y1=\"378.8047\" y2=\"378.8047\"/></a><g id=\"E1.E6.E8\"><a href=\"psysml:0f757ff2-27a2-40d5-a25f-af43358ff77a\" target=\"_top\" title=\"psysml:0f757ff2-27a2-40d5-a25f-af43358ff77a\" xlink:actuate=\"onRequest\" xlink:href=\"psysml:0f757ff2-27a2-40d5-a25f-af43358ff77a\" xlink:show=\"new\" xlink:title=\"psysml:0f757ff2-27a2-40d5-a25f-af43358ff77a\" xlink:type=\"simple\"><rect fill=\"#FEFECE\" filter=\"url(#fb1rlekrr7pv2)\" height=\"42.9375\" id=\"E8\" rx=\"10\" ry=\"10\" style=\"stroke: #A80036; stroke-width: 1.5;\" width=\"118\" x=\"91\" y=\"335\"/><ellipse cx=\"108.25\" cy=\"353.9688\" fill=\"#B6DBBB\" rx=\"11\" ry=\"11\" style=\"stroke: #A80036; stroke-width: 1.0;\"/><path d=\"M108,359.4375 Q106.25,359.4375 105.2969,358.4063 Q104.3594,357.3594 104.3594,355.5156 L104.3594,348.625 L106.4219,348.625 L106.4219,348.7813 Q106.3281,348.875 106.2969,349.0156 Q106.2813,349.1406 106.2813,349.4063 L106.2813,355.5313 Q106.2813,356.625 106.6563,357.25 Q107.0313,357.875 108.0156,357.875 Q109,357.875 109.3906,357.25 Q109.7813,356.625 109.7813,355.4844 L109.7813,348.625 L111.6563,348.625 L111.6563,355.4688 Q111.6563,357.5 110.625,358.4688 Q109.6094,359.4375 108,359.4375 Z \"/><text fill=\"#000000\" font-family=\"sans-serif\" font-size=\"12\" font-style=\"italic\" lengthAdjust=\"spacingAndGlyphs\" textLength=\"64\" x=\"131.25\" y=\"351.1387\">«analysis»</text><text fill=\"#000000\" font-family=\"sans-serif\" font-size=\"12\" lengthAdjust=\"spacingAndGlyphs\" textLength=\"81\" x=\"122.75\" y=\"365.1074\">analysisCase</text></a></g><g id=\"E1.E10\"><a href=\"psysml:9d8d7d87-8dd4-470f-9d18-cffbc3763f0c\" target=\"_top\" title=\"psysml:9d8d7d87-8dd4-470f-9d18-cffbc3763f0c\" xlink:actuate=\"onRequest\" xlink:href=\"psysml:9d8d7d87-8dd4-470f-9d18-cffbc3763f0c\" xlink:show=\"new\" xlink:title=\"psysml:9d8d7d87-8dd4-470f-9d18-cffbc3763f0c\" xlink:type=\"simple\"><rect fill=\"#FEFECE\" filter=\"url(#fb1rlekrr7pv2)\" height=\"42.9375\" id=\"E10\" rx=\"10\" ry=\"10\" style=\"stroke: #A80036; stroke-width: 1.5;\" width=\"114\" x=\"37\" y=\"169\"/><ellipse cx=\"54.25\" cy=\"187.9688\" fill=\"#B6DBBB\" rx=\"11\" ry=\"11\" style=\"stroke: #A80036; stroke-width: 1.0;\"/><path d=\"M54,193.4375 Q52.25,193.4375 51.2969,192.4063 Q50.3594,191.3594 50.3594,189.5156 L50.3594,182.625 L52.4219,182.625 L52.4219,182.7813 Q52.3281,182.875 52.2969,183.0156 Q52.2813,183.1406 52.2813,183.4063 L52.2813,189.5313 Q52.2813,190.625 52.6563,191.25 Q53.0313,191.875 54.0156,191.875 Q55,191.875 55.3906,191.25 Q55.7813,190.625 55.7813,189.4844 L55.7813,182.625 L57.6563,182.625 L57.6563,189.4688 Q57.6563,191.5 56.625,192.4688 Q55.6094,193.4375 54,193.4375 Z \"/><text fill=\"#000000\" font-family=\"sans-serif\" font-size=\"12\" font-style=\"italic\" lengthAdjust=\"spacingAndGlyphs\" textLength=\"64\" x=\"75.25\" y=\"185.1387\">«analysis»</text><text fill=\"#000000\" font-family=\"sans-serif\" font-size=\"12\" lengthAdjust=\"spacingAndGlyphs\" textLength=\"77\" x=\"68.75\" y=\"199.1074\">analysisPlan</text></a></g><!--MD5=[05d275557350bfb9b23a4ef7222b4c39]\n",
       "link E3 to E2--><a href=\"psysml:f45a4065-dcd9-4d0e-be10-466e9a1a32d6\" target=\"_top\" title=\"psysml:f45a4065-dcd9-4d0e-be10-466e9a1a32d6\" xlink:actuate=\"onRequest\" xlink:href=\"psysml:f45a4065-dcd9-4d0e-be10-466e9a1a32d6\" xlink:show=\"new\" xlink:title=\"psysml:f45a4065-dcd9-4d0e-be10-466e9a1a32d6\" xlink:type=\"simple\"><path d=\"M339.75,512.15 C328.6,526.04 313.51,544.08 299,559 C292.21,565.98 284.79,573.09 277.38,579.91 \" fill=\"none\" id=\"E3-&gt;E2\" style=\"stroke: #A80036; stroke-width: 1.0;\"/><polygon fill=\"#FFFFFF\" points=\"262.36,593.38,271.8265,575.4807,281.1765,585.9007,262.36,593.38\" style=\"stroke: #A80036; stroke-width: 1.0;\"/><ellipse cx=\"277.4046\" cy=\"573.1624\" fill=\"#A80036\" rx=\"2\" ry=\"2\" style=\"stroke: #A80036; stroke-width: 1.0;\"/><ellipse cx=\"284.0832\" cy=\"580.6053\" fill=\"#A80036\" rx=\"2\" ry=\"2\" style=\"stroke: #A80036; stroke-width: 1.0;\"/></a><!--MD5=[15ebcb19ae302d9b601edb458606d402]\n",
       "link E5 to E2--><a href=\"psysml:4ce798b4-e7f7-45ac-94f6-a9dc23ec95c2\" target=\"_top\" title=\"psysml:4ce798b4-e7f7-45ac-94f6-a9dc23ec95c2\" xlink:actuate=\"onRequest\" xlink:href=\"psysml:4ce798b4-e7f7-45ac-94f6-a9dc23ec95c2\" xlink:show=\"new\" xlink:title=\"psysml:4ce798b4-e7f7-45ac-94f6-a9dc23ec95c2\" xlink:type=\"simple\"><path d=\"M227,510.78 C227,530.29 227,559.97 227,583.91 \" fill=\"none\" id=\"E5-&gt;E2\" style=\"stroke: #A80036; stroke-width: 1.0; stroke-dasharray: 7.0,7.0;\"/><polygon fill=\"#A80036\" points=\"227,588.92,231,579.92,227,583.92,223,579.92,227,588.92\" style=\"stroke: #A80036; stroke-width: 1.0;\"/><text fill=\"#000000\" font-family=\"sans-serif\" font-size=\"13\" lengthAdjust=\"spacingAndGlyphs\" textLength=\"62\" x=\"228\" y=\"555.0669\">«subject»</text></a><!--MD5=[2351f337d6de0f557b50152ba70847b5]\n",
       "link E6 to E2--><a href=\"psysml:38ee38e5-fe2f-49e8-a238-8ef961814591\" target=\"_top\" title=\"psysml:38ee38e5-fe2f-49e8-a238-8ef961814591\" xlink:actuate=\"onRequest\" xlink:href=\"psysml:38ee38e5-fe2f-49e8-a238-8ef961814591\" xlink:show=\"new\" xlink:title=\"psysml:38ee38e5-fe2f-49e8-a238-8ef961814591\" xlink:type=\"simple\"><path d=\"M56.8234,411.6689 C56.8438,411.9077 56.8644,412.1469 56.8852,412.3866 C56.927,412.866 56.9698,413.3471 57.0138,413.83 C59.825,444.7325 67.13,482.62 85,512 C109.49,552.26 154.3,583.57 187.06,602.52 \" fill=\"none\" id=\"E6-&gt;E2\" style=\"stroke: #A80036; stroke-width: 1.0; stroke-dasharray: 7.0,7.0;\"/><polygon fill=\"#A80036\" points=\"191.8,605.22,185.9563,597.2921,187.4544,602.747,181.9995,604.2451,191.8,605.22\" style=\"stroke: #A80036; stroke-width: 1.0;\"/><text fill=\"#000000\" font-family=\"sans-serif\" font-size=\"13\" lengthAdjust=\"spacingAndGlyphs\" textLength=\"62\" x=\"86\" y=\"493.5669\">«subject»</text></a><!--MD5=[1ccb2481ffa92f8d51a74ee30c51832a]\n",
       "link E8 to E5--><a href=\"psysml:cf5e8ef0-758f-412b-8419-a299a9750eac\" target=\"_top\" title=\"psysml:cf5e8ef0-758f-412b-8419-a299a9750eac\" xlink:actuate=\"onRequest\" xlink:href=\"psysml:cf5e8ef0-758f-412b-8419-a299a9750eac\" xlink:show=\"new\" xlink:title=\"psysml:cf5e8ef0-758f-412b-8419-a299a9750eac\" xlink:type=\"simple\"><path d=\"M162.2,378.18 C173.58,397.46 190.82,426.69 204.66,450.14 \" fill=\"none\" id=\"E8-&gt;E5\" style=\"stroke: #A80036; stroke-width: 1.0;\"/><polygon fill=\"#FFFFFF\" points=\"214.86,467.42,199.1805,454.6077,211.2407,447.4976,214.86,467.42\" style=\"stroke: #A80036; stroke-width: 1.0;\"/><ellipse cx=\"198.0086\" cy=\"448.6818\" fill=\"#A80036\" rx=\"2\" ry=\"2\" style=\"stroke: #A80036; stroke-width: 1.0;\"/><ellipse cx=\"206.623\" cy=\"443.6032\" fill=\"#A80036\" rx=\"2\" ry=\"2\" style=\"stroke: #A80036; stroke-width: 1.0;\"/></a><!--MD5=[198716bf12f04006f5c20d61bde6d80d]\n",
       "link E10 to E6--><a href=\"psysml:4172c94c-9fb8-4464-b137-e530fc31134b\" target=\"_top\" title=\"psysml:4172c94c-9fb8-4464-b137-e530fc31134b\" xlink:actuate=\"onRequest\" xlink:href=\"psysml:4172c94c-9fb8-4464-b137-e530fc31134b\" xlink:show=\"new\" xlink:title=\"psysml:4172c94c-9fb8-4464-b137-e530fc31134b\" xlink:type=\"simple\"><path d=\"M86.65,212.24 C82.81,223.59 78.25,237.95 75,251 C74.2969,253.8181 73.6084,256.685 72.9353,259.5841 C72.5988,261.0336 72.2661,262.4911 71.9375,263.9546 C71.7731,264.6864 71.6098,265.4196 71.4474,266.1541 C71.4069,266.3377 71.3663,266.5214 71.3259,266.7051 \" fill=\"none\" id=\"E10-&gt;E6\" style=\"stroke: #A80036; stroke-width: 1.0;\"/><polygon fill=\"#FFFFFF\" points=\"71.3259,266.7051,68.5749,246.6444,82.2474,249.6546,71.3259,266.7051\" style=\"stroke: #A80036; stroke-width: 1.0;\"/><ellipse cx=\"71.7537\" cy=\"241.5078\" fill=\"#A80036\" rx=\"2\" ry=\"2\" style=\"stroke: #A80036; stroke-width: 1.0;\"/><ellipse cx=\"81.5198\" cy=\"243.6579\" fill=\"#A80036\" rx=\"2\" ry=\"2\" style=\"stroke: #A80036; stroke-width: 1.0;\"/></a><!--MD5=[23ac544a70576c3e717098101004234c]\n",
       "reverse link E9 to E10--><a href=\"psysml:9d8d7d87-8dd4-470f-9d18-cffbc3763f0c\" target=\"_top\" title=\"psysml:9d8d7d87-8dd4-470f-9d18-cffbc3763f0c\" xlink:actuate=\"onRequest\" xlink:href=\"psysml:9d8d7d87-8dd4-470f-9d18-cffbc3763f0c\" xlink:show=\"new\" xlink:title=\"psysml:9d8d7d87-8dd4-470f-9d18-cffbc3763f0c\" xlink:type=\"simple\"><path d=\"M97.45,110.8 C96.62,129.84 95.61,152.68 94.91,168.84 \" fill=\"none\" id=\"E9&lt;-E10\" style=\"stroke: #A80036; stroke-width: 1.0;\"/><polygon fill=\"#A80036\" points=\"98.02,97.75,93.7601,103.5684,97.4925,109.7384,101.7524,103.92,98.02,97.75\" style=\"stroke: #A80036; stroke-width: 1.0;\"/></a><!--MD5=[0ce1f64064598fea5b8ddae78c90ce50]\n",
       "@startuml\r\n",
       " \r\n",
       "package \"AnalysisTest\" as E1  [[psysml:e1dfe890-ec15-4931-b288-05d8c66f0e23 ]]  {\r\n",
       "comp def \"V\" as E2 << << (B,green) >> [[psysml:e8de7c06-a552-45cc-9ef9-bdca622a4dc8 ]] {\r\n",
       "- - references - -\r\n",
       "m\r\n",
       "}\r\n",
       "comp usage \"vv: V \" as E3 << << (P,limegreen) part>> [[psysml:e405eddc-d04c-43ee-94c7-f68d6bd4037b ]] {\r\n",
       "}\r\n",
       "comp def \"AnalysisObjective\" as E4 << <<(D,brown) requirement  def>> [[psysml:61935c6a-e9b2-427b-8e93-9f8ea2764a4f ]] {\r\n",
       "...\r\n",
       "- -\r\n",
       "}\r\n",
       "rec def \"AnalysisCase\" as E5 << analysis def>> [[psysml:5016a817-b8b6-43b2-a1c9-71130e2545c5 ]] {\r\n",
       "}\r\n",
       "rec def \"AnalysisPlan\" as E6 << analysis def>> [[psysml:0d28215e-abd0-4258-9ce4-d7487f47f154 ]] {\r\n",
       "comp usage \" <U+00AB>objective<U+00BB> \" as E7 [[psysml:317ace64-a3b7-4095-b75a-9c551641bbd2 ]] {\r\n",
       "...\r\n",
       "- -\r\n",
       "}\r\n",
       "rec usage \"analysisCase\" as E8 << analysis>> [[psysml:0f757ff2-27a2-40d5-a25f-af43358ff77a ]] {\r\n",
       "}\r\n",
       "}\r\n",
       "comp usage \"analysisContext \" as E9 << << (P,limegreen) part>> [[psysml:b24749b9-9e77-4740-bd21-7fc3830bb957 ]] {\r\n",
       "}\r\n",
       "rec usage \"analysisPlan\" as E10 << analysis>> [[psysml:9d8d7d87-8dd4-470f-9d18-cffbc3763f0c ]] {\r\n",
       "}\r\n",
       "}\r\n",
       "E3 - -:|> E2 [[psysml:f45a4065-dcd9-4d0e-be10-466e9a1a32d6 ]] \r\n",
       "E5 ..> E2 [[psysml:4ce798b4-e7f7-45ac-94f6-a9dc23ec95c2 ]] : <<subject>>\r\n",
       "E6 ..> E2 [[psysml:38ee38e5-fe2f-49e8-a238-8ef961814591 ]] : <<subject>>\r\n",
       "E8 - -:|> E5 [[psysml:cf5e8ef0-758f-412b-8419-a299a9750eac ]] \r\n",
       "E10 - -:|> E6 [[psysml:4172c94c-9fb8-4464-b137-e530fc31134b ]] \r\n",
       "E9 *- - E10 [[psysml:9d8d7d87-8dd4-470f-9d18-cffbc3763f0c ]] \r\n",
       "@enduml\r\n",
       "\n",
       "PlantUML version 1.2020.13(Sat Jun 13 12:26:38 UTC 2020)\n",
       "(EPL source distribution)\n",
       "Java Runtime: OpenJDK Runtime Environment\n",
       "JVM: OpenJDK 64-Bit Server VM\n",
       "Default Encoding: UTF-8\n",
       "Language: en\n",
       "Country: null\n",
       "--></g></svg>"
      ]
     },
     "execution_count": 30,
     "metadata": {},
     "output_type": "execute_result"
    }
   ],
   "source": [
    "%viz --style=\"PLANTUML\" --view=\"Default\" \"AnalysisTest\""
   ]
  },
  {
   "cell_type": "code",
   "execution_count": 31,
   "id": "7bde687b",
   "metadata": {
    "execution": {
     "iopub.execute_input": "2022-02-05T16:52:03.151106Z",
     "iopub.status.busy": "2022-02-05T16:52:03.150709Z",
     "iopub.status.idle": "2022-02-05T16:52:03.231756Z",
     "shell.execute_reply": "2022-02-05T16:52:03.231407Z"
    }
   },
   "outputs": [
    {
     "data": {
      "image/svg+xml": [
       "<?xml version=\"1.0\" encoding=\"UTF-8\" standalone=\"no\"?><svg xmlns=\"http://www.w3.org/2000/svg\" xmlns:xlink=\"http://www.w3.org/1999/xlink\" contentScriptType=\"application/ecmascript\" contentStyleType=\"text/css\" height=\"917px\" preserveAspectRatio=\"none\" style=\"width:502px;height:917px;\" version=\"1.1\" viewBox=\"0 0 502 917\" width=\"502px\" zoomAndPan=\"magnify\"><defs><filter height=\"300%\" id=\"f1kgatyasc5whe\" width=\"300%\" x=\"-1\" y=\"-1\"><feGaussianBlur result=\"blurOut\" stdDeviation=\"2.0\"/><feColorMatrix in=\"blurOut\" result=\"blurOut2\" type=\"matrix\" values=\"0 0 0 0 0 0 0 0 0 0 0 0 0 0 0 0 0 0 .4 0\"/><feOffset dx=\"4.0\" dy=\"4.0\" in=\"blurOut2\" result=\"blurOut3\"/><feBlend in=\"SourceGraphic\" in2=\"blurOut3\" mode=\"normal\"/></filter></defs><g><!--MD5=[fbc87193dbaf4d95561dea2c320d4a47]\n",
       "cluster E1--><a href=\"psysml:e1dfe890-ec15-4931-b288-05d8c66f0e23\" target=\"_top\" title=\"psysml:e1dfe890-ec15-4931-b288-05d8c66f0e23\" xlink:actuate=\"onRequest\" xlink:href=\"psysml:e1dfe890-ec15-4931-b288-05d8c66f0e23\" xlink:show=\"new\" xlink:title=\"psysml:e1dfe890-ec15-4931-b288-05d8c66f0e23\" xlink:type=\"simple\"><polygon fill=\"#FFFFFF\" filter=\"url(#f1kgatyasc5whe)\" points=\"17.19,6,109.19,6,116.19,28.2969,480.19,28.2969,480.19,905,17.19,905,17.19,6\" style=\"stroke: #000000; stroke-width: 1.5;\"/><line style=\"stroke: #000000; stroke-width: 1.5;\" x1=\"17.19\" x2=\"116.19\" y1=\"28.2969\" y2=\"28.2969\"/><text fill=\"#000000\" font-family=\"sans-serif\" font-size=\"14\" font-weight=\"bold\" lengthAdjust=\"spacingAndGlyphs\" textLength=\"86\" x=\"21.19\" y=\"20.9951\">AnalysisTest</text></a><!--MD5=[b4997ac47864f28c2f74865a473b2911]\n",
       "class E2--><a href=\"psysml:e8de7c06-a552-45cc-9ef9-bdca622a4dc8\" target=\"_top\" title=\"psysml:e8de7c06-a552-45cc-9ef9-bdca622a4dc8\" xlink:actuate=\"onRequest\" xlink:href=\"psysml:e8de7c06-a552-45cc-9ef9-bdca622a4dc8\" xlink:show=\"new\" xlink:title=\"psysml:e8de7c06-a552-45cc-9ef9-bdca622a4dc8\" xlink:type=\"simple\"><rect fill=\"#FEFECE\" filter=\"url(#f1kgatyasc5whe)\" height=\"69.6094\" id=\"E2\" style=\"stroke: #A80036; stroke-width: 1.5;\" width=\"70\" x=\"189.19\" y=\"691\"/><ellipse cx=\"217.69\" cy=\"707\" fill=\"#008000\" rx=\"11\" ry=\"11\" style=\"stroke: #A80036; stroke-width: 1.0;\"/><path d=\"M214.565,712 L214.565,701.4063 L217.7994,701.4063 Q219.7056,701.4063 220.6119,702.1563 Q221.5338,702.9063 221.5338,704.0781 Q221.5338,704.7656 221.1431,705.4219 Q220.7681,706.0781 220.0494,706.375 Q220.9088,706.75 221.4244,707.4375 Q221.94,708.125 221.94,708.9375 Q221.94,710.3125 220.9088,711.1563 Q219.8931,712 217.7838,712 L214.565,712 Z M216.4869,705.6406 L217.6431,705.6406 Q218.7681,705.6406 219.1744,705.2656 Q219.5963,704.875 219.5963,704.25 Q219.5963,703.6719 219.1744,703.3125 Q218.7525,702.9531 217.815,702.9531 L216.4869,702.9531 L216.4869,705.6406 Z M216.4869,710.4219 L217.9869,710.4219 Q218.8931,710.4219 219.4244,710.0313 Q219.9556,709.6406 219.9556,708.8906 Q219.9556,708.125 219.4556,707.6563 Q218.9556,707.1719 217.69,707.1719 L216.4869,707.1719 L216.4869,710.4219 Z \"/><text fill=\"#000000\" font-family=\"sans-serif\" font-size=\"12\" lengthAdjust=\"spacingAndGlyphs\" textLength=\"8\" x=\"234.69\" y=\"711.1543\">V</text><line style=\"stroke: #A80036; stroke-width: 1.5;\" x1=\"190.19\" x2=\"258.19\" y1=\"723\" y2=\"723\"/><text fill=\"#000000\" font-family=\"sans-serif\" font-size=\"11\" lengthAdjust=\"spacingAndGlyphs\" textLength=\"11\" x=\"195.19\" y=\"754.0151\">m</text><line style=\"stroke: #A80036; stroke-width: 1.0;\" x1=\"190.19\" x2=\"193.19\" y1=\"737.4023\" y2=\"737.4023\"/><text fill=\"#000000\" font-family=\"sans-serif\" font-size=\"11\" lengthAdjust=\"spacingAndGlyphs\" textLength=\"62\" x=\"193.19\" y=\"740.7104\">references</text><line style=\"stroke: #A80036; stroke-width: 1.0;\" x1=\"255.19\" x2=\"258.19\" y1=\"737.4023\" y2=\"737.4023\"/></a><!--MD5=[09b614a08d8cba4a07c9adeb5e0fee81]\n",
       "class E3--><a href=\"psysml:e405eddc-d04c-43ee-94c7-f68d6bd4037b\" target=\"_top\" title=\"psysml:e405eddc-d04c-43ee-94c7-f68d6bd4037b\" xlink:actuate=\"onRequest\" xlink:href=\"psysml:e405eddc-d04c-43ee-94c7-f68d6bd4037b\" xlink:show=\"new\" xlink:title=\"psysml:e405eddc-d04c-43ee-94c7-f68d6bd4037b\" xlink:type=\"simple\"><rect fill=\"#FEFECE\" filter=\"url(#f1kgatyasc5whe)\" height=\"45.9375\" id=\"E3\" rx=\"10\" ry=\"10\" style=\"stroke: #A80036; stroke-width: 1.5;\" width=\"68\" x=\"225.19\" y=\"553\"/><ellipse cx=\"240.19\" cy=\"571.9688\" fill=\"#32CD32\" rx=\"11\" ry=\"11\" style=\"stroke: #A80036; stroke-width: 1.0;\"/><path d=\"M237.0025,576.9688 L237.0025,566.375 L240.6119,566.375 Q241.8306,566.375 242.6275,566.8125 Q243.4244,567.2344 243.7994,567.9375 Q244.19,568.6406 244.19,569.4844 Q244.19,570.3281 243.815,571.0156 Q243.4556,571.7031 242.6588,572.125 Q241.8775,572.5313 240.69,572.5313 L238.9556,572.5313 L238.9556,576.9688 L237.0025,576.9688 Z M238.9556,570.9375 L240.565,570.9375 Q241.3775,570.9375 241.7994,570.5313 Q242.2213,570.125 242.2213,569.4844 Q242.2213,568.8594 241.7994,568.4531 Q241.3775,568.0469 240.5806,568.0469 L238.9556,568.0469 L238.9556,570.9375 Z \"/><text fill=\"#000000\" font-family=\"sans-serif\" font-size=\"12\" font-style=\"italic\" lengthAdjust=\"spacingAndGlyphs\" textLength=\"40\" x=\"252.19\" y=\"569.1387\">«part»</text><text fill=\"#000000\" font-family=\"sans-serif\" font-size=\"12\" lengthAdjust=\"spacingAndGlyphs\" textLength=\"28\" x=\"256.19\" y=\"583.1074\">vv: V</text><line style=\"stroke: #A80036; stroke-width: 1.5;\" x1=\"226.19\" x2=\"292.19\" y1=\"590.9375\" y2=\"590.9375\"/></a><!--MD5=[ebbe1d658d1005bcc118a6aa81145e00]\n",
       "class E4--><a href=\"psysml:61935c6a-e9b2-427b-8e93-9f8ea2764a4f\" target=\"_top\" title=\"psysml:61935c6a-e9b2-427b-8e93-9f8ea2764a4f\" xlink:actuate=\"onRequest\" xlink:href=\"psysml:61935c6a-e9b2-427b-8e93-9f8ea2764a4f\" xlink:show=\"new\" xlink:title=\"psysml:61935c6a-e9b2-427b-8e93-9f8ea2764a4f\" xlink:type=\"simple\"><rect fill=\"#FEFECE\" filter=\"url(#f1kgatyasc5whe)\" height=\"66.7422\" id=\"E4\" style=\"stroke: #A80036; stroke-width: 1.5;\" width=\"147\" x=\"305.69\" y=\"822\"/><ellipse cx=\"320.69\" cy=\"840.9688\" fill=\"#A52A2A\" rx=\"11\" ry=\"11\" style=\"stroke: #A80036; stroke-width: 1.0;\"/><path d=\"M317.9088,845.9688 L317.9088,835.375 L320.6431,835.375 Q322.0338,835.375 322.7994,835.7656 Q323.5806,836.1406 324.1119,836.8438 Q324.6431,837.5469 324.94,838.5469 Q325.2369,839.5313 325.2369,840.75 Q325.19,842.3438 324.69,843.5313 Q324.2056,844.7031 323.1588,845.3438 Q322.1275,845.9688 320.44,845.9688 L317.9088,845.9688 Z M319.7681,844.4688 L320.3931,844.4688 Q321.4713,844.4688 322.1275,844.0156 Q322.7838,843.5625 323.065,842.7344 Q323.3619,841.8906 323.3463,840.7656 Q323.3463,839.5938 323.0963,838.7344 Q322.8463,837.8594 322.2369,837.3906 Q321.6275,836.9063 320.5806,836.9063 L319.7681,836.9063 L319.7681,844.4688 Z \"/><text fill=\"#000000\" font-family=\"sans-serif\" font-size=\"12\" font-style=\"italic\" lengthAdjust=\"spacingAndGlyphs\" textLength=\"119\" x=\"332.69\" y=\"838.1387\">«requirement  def»</text><text fill=\"#000000\" font-family=\"sans-serif\" font-size=\"12\" lengthAdjust=\"spacingAndGlyphs\" textLength=\"107\" x=\"338.69\" y=\"852.1074\">AnalysisObjective</text><line style=\"stroke: #A80036; stroke-width: 1.5;\" x1=\"306.69\" x2=\"451.69\" y1=\"859.9375\" y2=\"859.9375\"/><text fill=\"#000000\" font-family=\"sans-serif\" font-size=\"11\" lengthAdjust=\"spacingAndGlyphs\" textLength=\"12\" x=\"311.69\" y=\"874.1479\">...</text><line style=\"stroke: #A80036; stroke-width: 1.0;\" x1=\"306.69\" x2=\"451.69\" y1=\"880.7422\" y2=\"880.7422\"/></a><!--MD5=[270fce915f116d4de14055a7c1d9a0f3]\n",
       "class E5--><a href=\"psysml:5016a817-b8b6-43b2-a1c9-71130e2545c5\" target=\"_top\" title=\"psysml:5016a817-b8b6-43b2-a1c9-71130e2545c5\" xlink:actuate=\"onRequest\" xlink:href=\"psysml:5016a817-b8b6-43b2-a1c9-71130e2545c5\" xlink:show=\"new\" xlink:title=\"psysml:5016a817-b8b6-43b2-a1c9-71130e2545c5\" xlink:type=\"simple\"><rect fill=\"#FEFECE\" filter=\"url(#f1kgatyasc5whe)\" height=\"75.5469\" id=\"E5\" style=\"stroke: #A80036; stroke-width: 1.5;\" width=\"136\" x=\"328.19\" y=\"538\"/><ellipse cx=\"352.19\" cy=\"556.9688\" fill=\"#ADD1B2\" rx=\"11\" ry=\"11\" style=\"stroke: #A80036; stroke-width: 1.0;\"/><path d=\"M351.94,562.1563 Q350.7838,562.1563 349.815,561.5938 Q348.8619,561.0156 348.2838,559.8125 Q347.7213,558.6094 347.7213,556.7344 Q347.7213,555.1719 348.0963,554.1094 Q348.4869,553.0469 349.1119,552.4219 Q349.7369,551.7813 350.4869,551.5 Q351.2525,551.2188 352.0025,551.2188 Q353.19,551.2188 354.0494,551.7656 Q354.9088,552.3125 355.3463,553.2969 L354.1431,554.2031 L354.0025,554.2813 L353.9244,554.1563 Q353.94,554.0313 353.8931,553.9063 Q353.8463,553.7813 353.7213,553.5313 Q353.3463,553.0938 352.94,552.9375 Q352.5494,552.7656 352.0963,552.7656 Q351.4556,552.7656 350.8775,553.2188 Q350.315,553.6563 349.9713,554.5156 Q349.6275,555.375 349.6275,556.6406 Q349.6275,558.4844 350.2994,559.5313 Q350.9713,560.5781 351.9869,560.5781 Q352.6119,560.5781 353.065,560.3125 Q353.5338,560.0313 353.9088,559.4063 L355.2369,560.3906 Q354.6431,561.3594 353.8306,561.7656 Q353.0181,562.1563 351.94,562.1563 Z \"/><text fill=\"#000000\" font-family=\"sans-serif\" font-size=\"12\" font-style=\"italic\" lengthAdjust=\"spacingAndGlyphs\" textLength=\"88\" x=\"366.19\" y=\"554.1387\">«analysis def»</text><text fill=\"#000000\" font-family=\"sans-serif\" font-size=\"12\" lengthAdjust=\"spacingAndGlyphs\" textLength=\"81\" x=\"369.69\" y=\"568.1074\">AnalysisCase</text><line style=\"stroke: #A80036; stroke-width: 1.5;\" x1=\"329.19\" x2=\"463.19\" y1=\"575.9375\" y2=\"575.9375\"/><text fill=\"#000000\" font-family=\"sans-serif\" font-size=\"11\" lengthAdjust=\"spacingAndGlyphs\" textLength=\"43\" x=\"334.19\" y=\"606.9526\">{ v.m }</text><line style=\"stroke: #A80036; stroke-width: 1.0;\" x1=\"329.19\" x2=\"332.19\" y1=\"590.3398\" y2=\"590.3398\"/><text fill=\"#000000\" font-family=\"sans-serif\" font-size=\"11\" lengthAdjust=\"spacingAndGlyphs\" textLength=\"128\" x=\"332.19\" y=\"593.6479\">path step expressions</text><line style=\"stroke: #A80036; stroke-width: 1.0;\" x1=\"460.19\" x2=\"463.19\" y1=\"590.3398\" y2=\"590.3398\"/></a><!--MD5=[60a26617385b1d2d0262a64233df1f8d]\n",
       "class E6--><a href=\"psysml:8ed6d9d8-007f-466a-ada9-4e78a60ebf86\" target=\"_top\" title=\"psysml:8ed6d9d8-007f-466a-ada9-4e78a60ebf86\" xlink:actuate=\"onRequest\" xlink:href=\"psysml:8ed6d9d8-007f-466a-ada9-4e78a60ebf86\" xlink:show=\"new\" xlink:title=\"psysml:8ed6d9d8-007f-466a-ada9-4e78a60ebf86\" xlink:type=\"simple\"><rect fill=\"#FEFECE\" filter=\"url(#f1kgatyasc5whe)\" height=\"45.9375\" id=\"E6\" rx=\"10\" ry=\"10\" style=\"stroke: #A80036; stroke-width: 1.5;\" width=\"170\" x=\"294.19\" y=\"703\"/><ellipse cx=\"309.19\" cy=\"721.9688\" fill=\"#FFA500\" rx=\"11\" ry=\"11\" style=\"stroke: #A80036; stroke-width: 1.0;\"/><path d=\"M308.94,727.4375 Q307.19,727.4375 306.2369,726.4063 Q305.2994,725.3594 305.2994,723.5156 L305.2994,716.625 L307.3619,716.625 L307.3619,716.7813 Q307.2681,716.875 307.2369,717.0156 Q307.2213,717.1406 307.2213,717.4063 L307.2213,723.5313 Q307.2213,724.625 307.5963,725.25 Q307.9713,725.875 308.9556,725.875 Q309.94,725.875 310.3306,725.25 Q310.7213,724.625 310.7213,723.4844 L310.7213,716.625 L312.5963,716.625 L312.5963,723.4688 Q312.5963,725.5 311.565,726.4688 Q310.5494,727.4375 308.94,727.4375 Z \"/><text fill=\"#000000\" font-family=\"sans-serif\" font-size=\"12\" font-style=\"italic\" lengthAdjust=\"spacingAndGlyphs\" textLength=\"91\" x=\"346.69\" y=\"719.1387\">«requirement»</text><text fill=\"#000000\" font-family=\"sans-serif\" font-size=\"12\" lengthAdjust=\"spacingAndGlyphs\" textLength=\"134\" x=\"323.19\" y=\"733.1074\">obj: AnalysisObjective</text><line style=\"stroke: #A80036; stroke-width: 1.5;\" x1=\"295.19\" x2=\"463.19\" y1=\"740.9375\" y2=\"740.9375\"/></a><!--MD5=[2156ba9850f5573cc1fc38a6a4b2f02b]\n",
       "class E7--><a href=\"psysml:0d28215e-abd0-4258-9ce4-d7487f47f154\" target=\"_top\" title=\"psysml:0d28215e-abd0-4258-9ce4-d7487f47f154\" xlink:actuate=\"onRequest\" xlink:href=\"psysml:0d28215e-abd0-4258-9ce4-d7487f47f154\" xlink:show=\"new\" xlink:title=\"psysml:0d28215e-abd0-4258-9ce4-d7487f47f154\" xlink:type=\"simple\"><rect fill=\"#FEFECE\" filter=\"url(#f1kgatyasc5whe)\" height=\"45.9375\" id=\"E7\" style=\"stroke: #A80036; stroke-width: 1.5;\" width=\"116\" x=\"105.19\" y=\"271\"/><ellipse cx=\"120.19\" cy=\"289.9688\" fill=\"#ADD1B2\" rx=\"11\" ry=\"11\" style=\"stroke: #A80036; stroke-width: 1.0;\"/><path d=\"M119.94,295.1563 Q118.7838,295.1563 117.815,294.5938 Q116.8619,294.0156 116.2838,292.8125 Q115.7213,291.6094 115.7213,289.7344 Q115.7213,288.1719 116.0963,287.1094 Q116.4869,286.0469 117.1119,285.4219 Q117.7369,284.7813 118.4869,284.5 Q119.2525,284.2188 120.0025,284.2188 Q121.19,284.2188 122.0494,284.7656 Q122.9088,285.3125 123.3463,286.2969 L122.1431,287.2031 L122.0025,287.2813 L121.9244,287.1563 Q121.94,287.0313 121.8931,286.9063 Q121.8463,286.7813 121.7213,286.5313 Q121.3463,286.0938 120.94,285.9375 Q120.5494,285.7656 120.0963,285.7656 Q119.4556,285.7656 118.8775,286.2188 Q118.315,286.6563 117.9713,287.5156 Q117.6275,288.375 117.6275,289.6406 Q117.6275,291.4844 118.2994,292.5313 Q118.9713,293.5781 119.9869,293.5781 Q120.6119,293.5781 121.065,293.3125 Q121.5338,293.0313 121.9088,292.4063 L123.2369,293.3906 Q122.6431,294.3594 121.8306,294.7656 Q121.0181,295.1563 119.94,295.1563 Z \"/><text fill=\"#000000\" font-family=\"sans-serif\" font-size=\"12\" font-style=\"italic\" lengthAdjust=\"spacingAndGlyphs\" textLength=\"88\" x=\"132.19\" y=\"287.1387\">«analysis def»</text><text fill=\"#000000\" font-family=\"sans-serif\" font-size=\"12\" lengthAdjust=\"spacingAndGlyphs\" textLength=\"77\" x=\"137.69\" y=\"301.1074\">AnalysisPlan</text><line style=\"stroke: #A80036; stroke-width: 1.5;\" x1=\"106.19\" x2=\"220.19\" y1=\"308.9375\" y2=\"308.9375\"/></a><!--MD5=[b9389687b975829384b498ac4b7476b2]\n",
       "class E8--><a href=\"psysml:317ace64-a3b7-4095-b75a-9c551641bbd2\" target=\"_top\" title=\"psysml:317ace64-a3b7-4095-b75a-9c551641bbd2\" xlink:actuate=\"onRequest\" xlink:href=\"psysml:317ace64-a3b7-4095-b75a-9c551641bbd2\" xlink:show=\"new\" xlink:title=\"psysml:317ace64-a3b7-4095-b75a-9c551641bbd2\" xlink:type=\"simple\"><rect fill=\"#FEFECE\" filter=\"url(#f1kgatyasc5whe)\" height=\"66.7422\" id=\"E8\" rx=\"10\" ry=\"10\" style=\"stroke: #A80036; stroke-width: 1.5;\" width=\"119\" x=\"103.69\" y=\"394\"/><ellipse cx=\"118.69\" cy=\"412.9688\" fill=\"#FFA500\" rx=\"11\" ry=\"11\" style=\"stroke: #A80036; stroke-width: 1.0;\"/><path d=\"M118.44,418.4375 Q116.69,418.4375 115.7369,417.4063 Q114.7994,416.3594 114.7994,414.5156 L114.7994,407.625 L116.8619,407.625 L116.8619,407.7813 Q116.7681,407.875 116.7369,408.0156 Q116.7213,408.1406 116.7213,408.4063 L116.7213,414.5313 Q116.7213,415.625 117.0963,416.25 Q117.4713,416.875 118.4556,416.875 Q119.44,416.875 119.8306,416.25 Q120.2213,415.625 120.2213,414.4844 L120.2213,407.625 L122.0963,407.625 L122.0963,414.4688 Q122.0963,416.5 121.065,417.4688 Q120.0494,418.4375 118.44,418.4375 Z \"/><text fill=\"#000000\" font-family=\"sans-serif\" font-size=\"12\" font-style=\"italic\" lengthAdjust=\"spacingAndGlyphs\" textLength=\"91\" x=\"130.69\" y=\"410.1387\">«requirement»</text><text fill=\"#000000\" font-family=\"sans-serif\" font-size=\"12\" lengthAdjust=\"spacingAndGlyphs\" textLength=\"19\" x=\"164.69\" y=\"424.1074\">obj</text><line style=\"stroke: #A80036; stroke-width: 1.5;\" x1=\"104.69\" x2=\"221.69\" y1=\"431.9375\" y2=\"431.9375\"/><text fill=\"#000000\" font-family=\"sans-serif\" font-size=\"11\" lengthAdjust=\"spacingAndGlyphs\" textLength=\"12\" x=\"109.69\" y=\"446.1479\">...</text><line style=\"stroke: #A80036; stroke-width: 1.0;\" x1=\"104.69\" x2=\"221.69\" y1=\"452.7422\" y2=\"452.7422\"/></a><!--MD5=[fd4143e9d270a159db93a4ea2a975926]\n",
       "class E9--><a href=\"psysml:0f757ff2-27a2-40d5-a25f-af43358ff77a\" target=\"_top\" title=\"psysml:0f757ff2-27a2-40d5-a25f-af43358ff77a\" xlink:actuate=\"onRequest\" xlink:href=\"psysml:0f757ff2-27a2-40d5-a25f-af43358ff77a\" xlink:show=\"new\" xlink:title=\"psysml:0f757ff2-27a2-40d5-a25f-af43358ff77a\" xlink:type=\"simple\"><rect fill=\"#FEFECE\" filter=\"url(#f1kgatyasc5whe)\" height=\"45.9375\" id=\"E9\" rx=\"10\" ry=\"10\" style=\"stroke: #A80036; stroke-width: 1.5;\" width=\"206\" x=\"258.19\" y=\"404.5\"/><ellipse cx=\"273.19\" cy=\"423.4688\" fill=\"#B6DBBB\" rx=\"11\" ry=\"11\" style=\"stroke: #A80036; stroke-width: 1.0;\"/><path d=\"M272.94,428.9375 Q271.19,428.9375 270.2369,427.9063 Q269.2994,426.8594 269.2994,425.0156 L269.2994,418.125 L271.3619,418.125 L271.3619,418.2813 Q271.2681,418.375 271.2369,418.5156 Q271.2213,418.6406 271.2213,418.9063 L271.2213,425.0313 Q271.2213,426.125 271.5963,426.75 Q271.9713,427.375 272.9556,427.375 Q273.94,427.375 274.3306,426.75 Q274.7213,426.125 274.7213,424.9844 L274.7213,418.125 L276.5963,418.125 L276.5963,424.9688 Q276.5963,427 275.565,427.9688 Q274.5494,428.9375 272.94,428.9375 Z \"/><text fill=\"#000000\" font-family=\"sans-serif\" font-size=\"12\" font-style=\"italic\" lengthAdjust=\"spacingAndGlyphs\" textLength=\"64\" x=\"342.19\" y=\"420.6387\">«analysis»</text><text fill=\"#000000\" font-family=\"sans-serif\" font-size=\"12\" lengthAdjust=\"spacingAndGlyphs\" textLength=\"170\" x=\"287.19\" y=\"434.6074\">analysisCase: AnalysisCase</text><line style=\"stroke: #A80036; stroke-width: 1.5;\" x1=\"259.19\" x2=\"463.19\" y1=\"442.4375\" y2=\"442.4375\"/></a><!--MD5=[96f4274e9e20536e775497830990834d]\n",
       "class E10--><a href=\"psysml:756c2ee8-950e-4679-a51a-3cb75b1efb3e\" target=\"_top\" title=\"psysml:756c2ee8-950e-4679-a51a-3cb75b1efb3e\" xlink:actuate=\"onRequest\" xlink:href=\"psysml:756c2ee8-950e-4679-a51a-3cb75b1efb3e\" xlink:show=\"new\" xlink:title=\"psysml:756c2ee8-950e-4679-a51a-3cb75b1efb3e\" xlink:type=\"simple\"><rect fill=\"#FEFECE\" filter=\"url(#f1kgatyasc5whe)\" height=\"45.9375\" id=\"E10\" rx=\"10\" ry=\"10\" style=\"stroke: #A80036; stroke-width: 1.5;\" width=\"119\" x=\"70.69\" y=\"553\"/><ellipse cx=\"85.69\" cy=\"571.9688\" fill=\"#FFA500\" rx=\"11\" ry=\"11\" style=\"stroke: #A80036; stroke-width: 1.0;\"/><path d=\"M85.44,577.4375 Q83.69,577.4375 82.7369,576.4063 Q81.7994,575.3594 81.7994,573.5156 L81.7994,566.625 L83.8619,566.625 L83.8619,566.7813 Q83.7681,566.875 83.7369,567.0156 Q83.7213,567.1406 83.7213,567.4063 L83.7213,573.5313 Q83.7213,574.625 84.0963,575.25 Q84.4713,575.875 85.4556,575.875 Q86.44,575.875 86.8306,575.25 Q87.2213,574.625 87.2213,573.4844 L87.2213,566.625 L89.0963,566.625 L89.0963,573.4688 Q89.0963,575.5 88.065,576.4688 Q87.0494,577.4375 85.44,577.4375 Z \"/><text fill=\"#000000\" font-family=\"sans-serif\" font-size=\"12\" font-style=\"italic\" lengthAdjust=\"spacingAndGlyphs\" textLength=\"91\" x=\"97.69\" y=\"569.1387\">«requirement»</text><text fill=\"#000000\" font-family=\"sans-serif\" font-size=\"12\" lengthAdjust=\"spacingAndGlyphs\" textLength=\"19\" x=\"131.69\" y=\"583.1074\">obj</text><line style=\"stroke: #A80036; stroke-width: 1.5;\" x1=\"71.69\" x2=\"188.69\" y1=\"590.9375\" y2=\"590.9375\"/></a><!--MD5=[1dd1bfd58a279cf63c5f349dbc8fc6a1]\n",
       "class E11--><a href=\"psysml:b24749b9-9e77-4740-bd21-7fc3830bb957\" target=\"_top\" title=\"psysml:b24749b9-9e77-4740-bd21-7fc3830bb957\" xlink:actuate=\"onRequest\" xlink:href=\"psysml:b24749b9-9e77-4740-bd21-7fc3830bb957\" xlink:show=\"new\" xlink:title=\"psysml:b24749b9-9e77-4740-bd21-7fc3830bb957\" xlink:type=\"simple\"><rect fill=\"#FEFECE\" filter=\"url(#f1kgatyasc5whe)\" height=\"45.9375\" id=\"E11\" rx=\"10\" ry=\"10\" style=\"stroke: #A80036; stroke-width: 1.5;\" width=\"134\" x=\"172.19\" y=\"41\"/><ellipse cx=\"187.19\" cy=\"59.9688\" fill=\"#32CD32\" rx=\"11\" ry=\"11\" style=\"stroke: #A80036; stroke-width: 1.0;\"/><path d=\"M184.0025,64.9688 L184.0025,54.375 L187.6119,54.375 Q188.8306,54.375 189.6275,54.8125 Q190.4244,55.2344 190.7994,55.9375 Q191.19,56.6406 191.19,57.4844 Q191.19,58.3281 190.815,59.0156 Q190.4556,59.7031 189.6588,60.125 Q188.8775,60.5313 187.69,60.5313 L185.9556,60.5313 L185.9556,64.9688 L184.0025,64.9688 Z M185.9556,58.9375 L187.565,58.9375 Q188.3775,58.9375 188.7994,58.5313 Q189.2213,58.125 189.2213,57.4844 Q189.2213,56.8594 188.7994,56.4531 Q188.3775,56.0469 187.5806,56.0469 L185.9556,56.0469 L185.9556,58.9375 Z \"/><text fill=\"#000000\" font-family=\"sans-serif\" font-size=\"12\" font-style=\"italic\" lengthAdjust=\"spacingAndGlyphs\" textLength=\"40\" x=\"232.19\" y=\"57.1387\">«part»</text><text fill=\"#000000\" font-family=\"sans-serif\" font-size=\"12\" lengthAdjust=\"spacingAndGlyphs\" textLength=\"98\" x=\"201.19\" y=\"71.1074\">analysisContext</text><line style=\"stroke: #A80036; stroke-width: 1.5;\" x1=\"173.19\" x2=\"305.19\" y1=\"78.9375\" y2=\"78.9375\"/></a><!--MD5=[49a0ec8f00dab7302a31f22d0f0fe584]\n",
       "class E12--><a href=\"psysml:9d8d7d87-8dd4-470f-9d18-cffbc3763f0c\" target=\"_top\" title=\"psysml:9d8d7d87-8dd4-470f-9d18-cffbc3763f0c\" xlink:actuate=\"onRequest\" xlink:href=\"psysml:9d8d7d87-8dd4-470f-9d18-cffbc3763f0c\" xlink:show=\"new\" xlink:title=\"psysml:9d8d7d87-8dd4-470f-9d18-cffbc3763f0c\" xlink:type=\"simple\"><rect fill=\"#FEFECE\" filter=\"url(#f1kgatyasc5whe)\" height=\"45.9375\" id=\"E12\" rx=\"10\" ry=\"10\" style=\"stroke: #A80036; stroke-width: 1.5;\" width=\"198\" x=\"140.19\" y=\"148\"/><ellipse cx=\"155.19\" cy=\"166.9688\" fill=\"#B6DBBB\" rx=\"11\" ry=\"11\" style=\"stroke: #A80036; stroke-width: 1.0;\"/><path d=\"M154.94,172.4375 Q153.19,172.4375 152.2369,171.4063 Q151.2994,170.3594 151.2994,168.5156 L151.2994,161.625 L153.3619,161.625 L153.3619,161.7813 Q153.2681,161.875 153.2369,162.0156 Q153.2213,162.1406 153.2213,162.4063 L153.2213,168.5313 Q153.2213,169.625 153.5963,170.25 Q153.9713,170.875 154.9556,170.875 Q155.94,170.875 156.3306,170.25 Q156.7213,169.625 156.7213,168.4844 L156.7213,161.625 L158.5963,161.625 L158.5963,168.4688 Q158.5963,170.5 157.565,171.4688 Q156.5494,172.4375 154.94,172.4375 Z \"/><text fill=\"#000000\" font-family=\"sans-serif\" font-size=\"12\" font-style=\"italic\" lengthAdjust=\"spacingAndGlyphs\" textLength=\"64\" x=\"220.19\" y=\"164.1387\">«analysis»</text><text fill=\"#000000\" font-family=\"sans-serif\" font-size=\"12\" lengthAdjust=\"spacingAndGlyphs\" textLength=\"162\" x=\"169.19\" y=\"178.1074\">analysisPlan: AnalysisPlan</text><line style=\"stroke: #A80036; stroke-width: 1.5;\" x1=\"141.19\" x2=\"337.19\" y1=\"185.9375\" y2=\"185.9375\"/></a><!--MD5=[ee3c913d1a06f366521f9ef512b67efe]\n",
       "class E13--><a href=\"psysml:215563a4-4360-48d3-80f1-175339b6797a\" target=\"_top\" title=\"psysml:215563a4-4360-48d3-80f1-175339b6797a\" xlink:actuate=\"onRequest\" xlink:href=\"psysml:215563a4-4360-48d3-80f1-175339b6797a\" xlink:show=\"new\" xlink:title=\"psysml:215563a4-4360-48d3-80f1-175339b6797a\" xlink:type=\"simple\"><rect fill=\"#FEFECE\" filter=\"url(#f1kgatyasc5whe)\" height=\"45.9375\" id=\"E13\" rx=\"10\" ry=\"10\" style=\"stroke: #A80036; stroke-width: 1.5;\" width=\"119\" x=\"256.69\" y=\"271\"/><ellipse cx=\"271.69\" cy=\"289.9688\" fill=\"#FFA500\" rx=\"11\" ry=\"11\" style=\"stroke: #A80036; stroke-width: 1.0;\"/><path d=\"M271.44,295.4375 Q269.69,295.4375 268.7369,294.4063 Q267.7994,293.3594 267.7994,291.5156 L267.7994,284.625 L269.8619,284.625 L269.8619,284.7813 Q269.7681,284.875 269.7369,285.0156 Q269.7213,285.1406 269.7213,285.4063 L269.7213,291.5313 Q269.7213,292.625 270.0963,293.25 Q270.4713,293.875 271.4556,293.875 Q272.44,293.875 272.8306,293.25 Q273.2213,292.625 273.2213,291.4844 L273.2213,284.625 L275.0963,284.625 L275.0963,291.4688 Q275.0963,293.5 274.065,294.4688 Q273.0494,295.4375 271.44,295.4375 Z \"/><text fill=\"#000000\" font-family=\"sans-serif\" font-size=\"12\" font-style=\"italic\" lengthAdjust=\"spacingAndGlyphs\" textLength=\"91\" x=\"283.69\" y=\"287.1387\">«requirement»</text><text fill=\"#000000\" font-family=\"sans-serif\" font-size=\"12\" lengthAdjust=\"spacingAndGlyphs\" textLength=\"19\" x=\"317.69\" y=\"301.1074\">obj</text><line style=\"stroke: #A80036; stroke-width: 1.5;\" x1=\"257.69\" x2=\"374.69\" y1=\"308.9375\" y2=\"308.9375\"/></a><!--MD5=[05d275557350bfb9b23a4ef7222b4c39]\n",
       "link E3 to E2--><a href=\"psysml:f45a4065-dcd9-4d0e-be10-466e9a1a32d6\" target=\"_top\" title=\"psysml:f45a4065-dcd9-4d0e-be10-466e9a1a32d6\" xlink:actuate=\"onRequest\" xlink:href=\"psysml:f45a4065-dcd9-4d0e-be10-466e9a1a32d6\" xlink:show=\"new\" xlink:title=\"psysml:f45a4065-dcd9-4d0e-be10-466e9a1a32d6\" xlink:type=\"simple\"><path d=\"M248.42,599.11 C242.66,611.92 235.99,628.53 232.19,644 C230.11,652.49 228.56,661.61 227.42,670.56 \" fill=\"none\" id=\"E3-&gt;E2\" style=\"stroke: #A80036; stroke-width: 1.0;\"/><polygon fill=\"#FFFFFF\" points=\"225.41,690.74,220.3172,671.1425,234.249,672.5226,225.41,690.74\" style=\"stroke: #A80036; stroke-width: 1.0;\"/><ellipse cx=\"222.8694\" cy=\"665.6674\" fill=\"#A80036\" rx=\"2\" ry=\"2\" style=\"stroke: #A80036; stroke-width: 1.0;\"/><ellipse cx=\"232.8207\" cy=\"666.6532\" fill=\"#A80036\" rx=\"2\" ry=\"2\" style=\"stroke: #A80036; stroke-width: 1.0;\"/></a><!--MD5=[15ebcb19ae302d9b601edb458606d402]\n",
       "link E5 to E2--><a href=\"psysml:4ce798b4-e7f7-45ac-94f6-a9dc23ec95c2\" target=\"_top\" title=\"psysml:4ce798b4-e7f7-45ac-94f6-a9dc23ec95c2\" xlink:actuate=\"onRequest\" xlink:href=\"psysml:4ce798b4-e7f7-45ac-94f6-a9dc23ec95c2\" xlink:show=\"new\" xlink:title=\"psysml:4ce798b4-e7f7-45ac-94f6-a9dc23ec95c2\" xlink:type=\"simple\"><path d=\"M349.9,614.18 C338.16,623.78 325.63,634.19 314.19,644 C297.27,658.51 278.93,674.89 263.25,689.11 \" fill=\"none\" id=\"E5-&gt;E2\" style=\"stroke: #A80036; stroke-width: 1.0; stroke-dasharray: 7.0,7.0;\"/><polygon fill=\"#A80036\" points=\"259.32,692.67,268.6731,689.5847,263.0229,689.3102,263.2974,683.66,259.32,692.67\" style=\"stroke: #A80036; stroke-width: 1.0;\"/><text fill=\"#000000\" font-family=\"sans-serif\" font-size=\"13\" lengthAdjust=\"spacingAndGlyphs\" textLength=\"62\" x=\"315.19\" y=\"657.0669\">«subject»</text></a><!--MD5=[9120cf2e5df3bff93db8f754bbbc09b4]\n",
       "link E5 to E6--><a href=\"psysml:b91cd128-722a-4ae9-a5d3-51e53a9e38d7\" target=\"_top\" title=\"psysml:b91cd128-722a-4ae9-a5d3-51e53a9e38d7\" xlink:actuate=\"onRequest\" xlink:href=\"psysml:b91cd128-722a-4ae9-a5d3-51e53a9e38d7\" xlink:show=\"new\" xlink:title=\"psysml:b91cd128-722a-4ae9-a5d3-51e53a9e38d7\" xlink:type=\"simple\"><path d=\"M391.9,614.35 C389.04,639.21 385.34,671.46 382.67,694.72 \" fill=\"none\" id=\"E5-&gt;E6\" style=\"stroke: #A80036; stroke-width: 1.0;\"/><polygon fill=\"#A80036\" points=\"381.73,702.85,385.6116,695.2386,379.6498,694.5631,381.73,702.85\" style=\"stroke: #A80036; stroke-width: 1.0;\"/><text fill=\"#000000\" font-family=\"sans-serif\" font-size=\"13\" lengthAdjust=\"spacingAndGlyphs\" textLength=\"73\" x=\"389.19\" y=\"657.0669\">«objective»</text></a><!--MD5=[f667431f98296947986a1a7595a31603]\n",
       "link E6 to E4--><a href=\"psysml:b2f535bd-3827-4daf-a953-8c36dc8e5a05\" target=\"_top\" title=\"psysml:b2f535bd-3827-4daf-a953-8c36dc8e5a05\" xlink:actuate=\"onRequest\" xlink:href=\"psysml:b2f535bd-3827-4daf-a953-8c36dc8e5a05\" xlink:show=\"new\" xlink:title=\"psysml:b2f535bd-3827-4daf-a953-8c36dc8e5a05\" xlink:type=\"simple\"><path d=\"M379.19,749.21 C379.19,763.65 379.19,783.12 379.19,801.39 \" fill=\"none\" id=\"E6-&gt;E4\" style=\"stroke: #A80036; stroke-width: 1.0;\"/><polygon fill=\"#FFFFFF\" points=\"379.19,821.54,372.19,802.54,386.19,802.54,379.19,821.54\" style=\"stroke: #A80036; stroke-width: 1.0;\"/><ellipse cx=\"374.19\" cy=\"796.84\" fill=\"#A80036\" rx=\"2\" ry=\"2\" style=\"stroke: #A80036; stroke-width: 1.0;\"/><ellipse cx=\"384.19\" cy=\"796.84\" fill=\"#A80036\" rx=\"2\" ry=\"2\" style=\"stroke: #A80036; stroke-width: 1.0;\"/></a><!--MD5=[583832df87f4419a098336a29a52fa00]\n",
       "link E7 to E2--><a href=\"psysml:38ee38e5-fe2f-49e8-a238-8ef961814591\" target=\"_top\" title=\"psysml:38ee38e5-fe2f-49e8-a238-8ef961814591\" xlink:actuate=\"onRequest\" xlink:href=\"psysml:38ee38e5-fe2f-49e8-a238-8ef961814591\" xlink:show=\"new\" xlink:title=\"psysml:38ee38e5-fe2f-49e8-a238-8ef961814591\" xlink:type=\"simple\"><path d=\"M141.37,317.07 C123.9,335.96 100.1,364.69 86.19,394 C43.79,483.32 6,527.11 53.19,614 C80.78,664.81 142.79,695.97 184.06,711.87 \" fill=\"none\" id=\"E7-&gt;E2\" style=\"stroke: #A80036; stroke-width: 1.0; stroke-dasharray: 7.0,7.0;\"/><polygon fill=\"#A80036\" points=\"188.98,713.74,181.983,706.8088,184.3048,711.9672,179.1465,714.289,188.98,713.74\" style=\"stroke: #A80036; stroke-width: 1.0;\"/><text fill=\"#000000\" font-family=\"sans-serif\" font-size=\"13\" lengthAdjust=\"spacingAndGlyphs\" textLength=\"62\" x=\"41.19\" y=\"504.0669\">«subject»</text></a><!--MD5=[79bc8f324ef4d02c541433f2e6e513c3]\n",
       "link E7 to E8--><a href=\"psysml:17344d0c-3816-44f9-9c17-e4b7438070db\" target=\"_top\" title=\"psysml:17344d0c-3816-44f9-9c17-e4b7438070db\" xlink:actuate=\"onRequest\" xlink:href=\"psysml:17344d0c-3816-44f9-9c17-e4b7438070db\" xlink:show=\"new\" xlink:title=\"psysml:17344d0c-3816-44f9-9c17-e4b7438070db\" xlink:type=\"simple\"><path d=\"M163.19,317.01 C163.19,335.7 163.19,363.02 163.19,385.69 \" fill=\"none\" id=\"E7-&gt;E8\" style=\"stroke: #A80036; stroke-width: 1.0;\"/><polygon fill=\"#A80036\" points=\"163.19,393.81,166.19,385.81,160.19,385.81,163.19,393.81\" style=\"stroke: #A80036; stroke-width: 1.0;\"/><text fill=\"#000000\" font-family=\"sans-serif\" font-size=\"13\" lengthAdjust=\"spacingAndGlyphs\" textLength=\"73\" x=\"164.19\" y=\"360.0669\">«objective»</text><text fill=\"#000000\" font-family=\"sans-serif\" font-size=\"13\" lengthAdjust=\"spacingAndGlyphs\" textLength=\"7\" x=\"155.5009\" y=\"382.8061\">*</text></a><!--MD5=[e4a10ef82d0e328e31cac39a31e58dda]\n",
       "reverse link E7 to E9--><a href=\"psysml:270a9b55-e8f2-46f5-9c02-ba45f5a1be19\" target=\"_top\" title=\"psysml:270a9b55-e8f2-46f5-9c02-ba45f5a1be19\" xlink:actuate=\"onRequest\" xlink:href=\"psysml:270a9b55-e8f2-46f5-9c02-ba45f5a1be19\" xlink:show=\"new\" xlink:title=\"psysml:270a9b55-e8f2-46f5-9c02-ba45f5a1be19\" xlink:type=\"simple\"><path d=\"M210.72,324.26 C222.38,331.59 234.79,339.5 246.19,347 C274.77,365.82 306.76,388.03 329.72,404.18 \" fill=\"none\" id=\"E7&lt;-E9\" style=\"stroke: #A80036; stroke-width: 1.0;\"/><polygon fill=\"#A80036\" points=\"199.37,317.17,202.3411,323.7406,209.5489,323.5252,206.5779,316.9546,199.37,317.17\" style=\"stroke: #A80036; stroke-width: 1.0;\"/></a><!--MD5=[bfc3ddf2e613be37104f658f09af896c]\n",
       "link E9 to E5--><a href=\"psysml:cf5e8ef0-758f-412b-8419-a299a9750eac\" target=\"_top\" title=\"psysml:cf5e8ef0-758f-412b-8419-a299a9750eac\" xlink:actuate=\"onRequest\" xlink:href=\"psysml:cf5e8ef0-758f-412b-8419-a299a9750eac\" xlink:show=\"new\" xlink:title=\"psysml:cf5e8ef0-758f-412b-8419-a299a9750eac\" xlink:type=\"simple\"><path d=\"M366.51,450.75 C370.8,468.73 377.04,494.86 382.69,518.51 \" fill=\"none\" id=\"E9-&gt;E5\" style=\"stroke: #A80036; stroke-width: 1.0;\"/><polygon fill=\"#FFFFFF\" points=\"387.35,537.99,376.1312,521.1336,389.7489,517.8841,387.35,537.99\" style=\"stroke: #A80036; stroke-width: 1.0;\"/><ellipse cx=\"376.7536\" cy=\"515.125\" fill=\"#A80036\" rx=\"2\" ry=\"2\" style=\"stroke: #A80036; stroke-width: 1.0;\"/><ellipse cx=\"386.4805\" cy=\"512.804\" fill=\"#A80036\" rx=\"2\" ry=\"2\" style=\"stroke: #A80036; stroke-width: 1.0;\"/></a><!--MD5=[35e5f1cbde42fa304a029880aa2bc7f2]\n",
       "link E9 to E10--><a href=\"psysml:03a60127-fd3f-4561-ae6d-a87475bfdaf0\" target=\"_top\" title=\"psysml:03a60127-fd3f-4561-ae6d-a87475bfdaf0\" xlink:actuate=\"onRequest\" xlink:href=\"psysml:03a60127-fd3f-4561-ae6d-a87475bfdaf0\" xlink:show=\"new\" xlink:title=\"psysml:03a60127-fd3f-4561-ae6d-a87475bfdaf0\" xlink:type=\"simple\"><path d=\"M326.36,450.59 C284.96,476.84 215.96,520.61 171.79,548.61 \" fill=\"none\" id=\"E9-&gt;E10\" style=\"stroke: #A80036; stroke-width: 1.0;\"/><polygon fill=\"#A80036\" points=\"164.93,552.97,173.2926,551.2186,170.0789,546.1518,164.93,552.97\" style=\"stroke: #A80036; stroke-width: 1.0;\"/><text fill=\"#000000\" font-family=\"sans-serif\" font-size=\"13\" lengthAdjust=\"spacingAndGlyphs\" textLength=\"73\" x=\"260.19\" y=\"504.0669\">«objective»</text><text fill=\"#000000\" font-family=\"sans-serif\" font-size=\"13\" lengthAdjust=\"spacingAndGlyphs\" textLength=\"7\" x=\"166.3258\" y=\"541.8582\">*</text></a><!--MD5=[94adabc162ce7e41b39f13be14fbaeb3]\n",
       "reverse link E11 to E12--><a href=\"psysml:7df3fd9f-252d-4e83-afe5-15252f6bd5d9\" target=\"_top\" title=\"psysml:7df3fd9f-252d-4e83-afe5-15252f6bd5d9\" xlink:actuate=\"onRequest\" xlink:href=\"psysml:7df3fd9f-252d-4e83-afe5-15252f6bd5d9\" xlink:show=\"new\" xlink:title=\"psysml:7df3fd9f-252d-4e83-afe5-15252f6bd5d9\" xlink:type=\"simple\"><path d=\"M239.19,100.05 C239.19,115.76 239.19,133.82 239.19,147.66 \" fill=\"none\" id=\"E11&lt;-E12\" style=\"stroke: #A80036; stroke-width: 1.0;\"/><polygon fill=\"#A80036\" points=\"239.19,87.01,235.19,93.01,239.19,99.01,243.19,93.01,239.19,87.01\" style=\"stroke: #A80036; stroke-width: 1.0;\"/></a><!--MD5=[ae660f5ecd7ddb04a8913625960940af]\n",
       "link E12 to E7--><a href=\"psysml:4172c94c-9fb8-4464-b137-e530fc31134b\" target=\"_top\" title=\"psysml:4172c94c-9fb8-4464-b137-e530fc31134b\" xlink:actuate=\"onRequest\" xlink:href=\"psysml:4172c94c-9fb8-4464-b137-e530fc31134b\" xlink:show=\"new\" xlink:title=\"psysml:4172c94c-9fb8-4464-b137-e530fc31134b\" xlink:type=\"simple\"><path d=\"M225.25,194.19 C214.81,210.82 200.24,234.01 187.84,253.75 \" fill=\"none\" id=\"E12-&gt;E7\" style=\"stroke: #A80036; stroke-width: 1.0;\"/><polygon fill=\"#FFFFFF\" points=\"177.04,270.95,181.207,251.135,193.0666,258.5747,177.04,270.95\" style=\"stroke: #A80036; stroke-width: 1.0;\"/><ellipse cx=\"185.9303\" cy=\"247.3692\" fill=\"#A80036\" rx=\"2\" ry=\"2\" style=\"stroke: #A80036; stroke-width: 1.0;\"/><ellipse cx=\"194.4014\" cy=\"252.6833\" fill=\"#A80036\" rx=\"2\" ry=\"2\" style=\"stroke: #A80036; stroke-width: 1.0;\"/></a><!--MD5=[e2a9ac97dcd3257bb5342dae06547bad]\n",
       "link E12 to E13--><a href=\"psysml:aee64b6c-bc56-4d82-a56f-3ba6edf4c149\" target=\"_top\" title=\"psysml:aee64b6c-bc56-4d82-a56f-3ba6edf4c149\" xlink:actuate=\"onRequest\" xlink:href=\"psysml:aee64b6c-bc56-4d82-a56f-3ba6edf4c149\" xlink:show=\"new\" xlink:title=\"psysml:aee64b6c-bc56-4d82-a56f-3ba6edf4c149\" xlink:type=\"simple\"><path d=\"M253.31,194.19 C265.8,213.81 284.08,242.55 297.72,263.98 \" fill=\"none\" id=\"E12-&gt;E13\" style=\"stroke: #A80036; stroke-width: 1.0;\"/><polygon fill=\"#A80036\" points=\"302.16,270.95,300.388,262.5918,295.3291,265.8179,302.16,270.95\" style=\"stroke: #A80036; stroke-width: 1.0;\"/><text fill=\"#000000\" font-family=\"sans-serif\" font-size=\"13\" lengthAdjust=\"spacingAndGlyphs\" textLength=\"73\" x=\"283.19\" y=\"237.0669\">«objective»</text><text fill=\"#000000\" font-family=\"sans-serif\" font-size=\"13\" lengthAdjust=\"spacingAndGlyphs\" textLength=\"7\" x=\"290.4488\" y=\"259.8328\">*</text></a><!--MD5=[02ba918aef07dd11824195b111eb773e]\n",
       "@startuml\r\n",
       " \r\n",
       "package \"AnalysisTest\" as E1  [[psysml:e1dfe890-ec15-4931-b288-05d8c66f0e23 ]]  {\r\n",
       "comp def \"V\" as E2 << << (B,green) >> [[psysml:e8de7c06-a552-45cc-9ef9-bdca622a4dc8 ]] {\r\n",
       "- - references - -\r\n",
       "m\r\n",
       "}\r\n",
       "comp usage \"vv: V \" as E3 << << (P,limegreen) part>> [[psysml:e405eddc-d04c-43ee-94c7-f68d6bd4037b ]] {\r\n",
       "}\r\n",
       "comp def \"AnalysisObjective\" as E4 << <<(D,brown) requirement  def>> [[psysml:61935c6a-e9b2-427b-8e93-9f8ea2764a4f ]] {\r\n",
       "...\r\n",
       "- -\r\n",
       "}\r\n",
       "comp def \"AnalysisCase\" as E5 << analysis def>> [[psysml:5016a817-b8b6-43b2-a1c9-71130e2545c5 ]] {\r\n",
       "- - path step expressions - -\r\n",
       " { v.m }\r\n",
       "}\r\n",
       "comp usage \"obj: AnalysisObjective \" as E6 << <<(U,orange) requirement>> [[psysml:8ed6d9d8-007f-466a-ada9-4e78a60ebf86 ]] {\r\n",
       "}\r\n",
       "comp def \"AnalysisPlan\" as E7 << analysis def>> [[psysml:0d28215e-abd0-4258-9ce4-d7487f47f154 ]] {\r\n",
       "}\r\n",
       "comp usage \"obj \" as E8 << <<(U,orange) requirement>> [[psysml:317ace64-a3b7-4095-b75a-9c551641bbd2 ]] {\r\n",
       "...\r\n",
       "- -\r\n",
       "}\r\n",
       "comp usage \"analysisCase: AnalysisCase \" as E9 << analysis>> [[psysml:0f757ff2-27a2-40d5-a25f-af43358ff77a ]] {\r\n",
       "}\r\n",
       "comp usage \"obj \" as E10 << <<(U,orange) requirement>> [[psysml:756c2ee8-950e-4679-a51a-3cb75b1efb3e ]] {\r\n",
       "}\r\n",
       "comp usage \"analysisContext \" as E11 << << (P,limegreen) part>> [[psysml:b24749b9-9e77-4740-bd21-7fc3830bb957 ]] {\r\n",
       "}\r\n",
       "comp usage \"analysisPlan: AnalysisPlan \" as E12 << analysis>> [[psysml:9d8d7d87-8dd4-470f-9d18-cffbc3763f0c ]] {\r\n",
       "}\r\n",
       "comp usage \"obj \" as E13 << <<(U,orange) requirement>> [[psysml:215563a4-4360-48d3-80f1-175339b6797a ]] {\r\n",
       "}\r\n",
       "}\r\n",
       "E3 - -:|> E2 [[psysml:f45a4065-dcd9-4d0e-be10-466e9a1a32d6 ]] \r\n",
       "E5 ..> E2 [[psysml:4ce798b4-e7f7-45ac-94f6-a9dc23ec95c2 ]] : <<subject>>\r\n",
       "E5 - ->> E6 [[psysml:b91cd128-722a-4ae9-a5d3-51e53a9e38d7 ]] : <<objective>>\r\n",
       "E6 - -:|> E4 [[psysml:b2f535bd-3827-4daf-a953-8c36dc8e5a05 ]] \r\n",
       "E7 ..> E2 [[psysml:38ee38e5-fe2f-49e8-a238-8ef961814591 ]] : <<subject>>\r\n",
       "E7 - ->> \"*\"E8 [[psysml:17344d0c-3816-44f9-9c17-e4b7438070db ]] : <<objective>>\r\n",
       "E7 *- - E9 [[psysml:270a9b55-e8f2-46f5-9c02-ba45f5a1be19 ]] \r\n",
       "E9 - -:|> E5 [[psysml:cf5e8ef0-758f-412b-8419-a299a9750eac ]] \r\n",
       "E9 - ->> \"*\"E10 [[psysml:03a60127-fd3f-4561-ae6d-a87475bfdaf0 ]] : <<objective>>\r\n",
       "E11 *- - E12 [[psysml:7df3fd9f-252d-4e83-afe5-15252f6bd5d9 ]] \r\n",
       "E12 - -:|> E7 [[psysml:4172c94c-9fb8-4464-b137-e530fc31134b ]] \r\n",
       "E12 - ->> \"*\"E13 [[psysml:aee64b6c-bc56-4d82-a56f-3ba6edf4c149 ]] : <<objective>>\r\n",
       "@enduml\r\n",
       "\n",
       "PlantUML version 1.2020.13(Sat Jun 13 12:26:38 UTC 2020)\n",
       "(EPL source distribution)\n",
       "Java Runtime: OpenJDK Runtime Environment\n",
       "JVM: OpenJDK 64-Bit Server VM\n",
       "Default Encoding: UTF-8\n",
       "Language: en\n",
       "Country: null\n",
       "--></g></svg>"
      ]
     },
     "execution_count": 31,
     "metadata": {},
     "output_type": "execute_result"
    }
   ],
   "source": [
    "%viz --style=\"PLANTUML\" --view=\"Tree\" \"AnalysisTest\""
   ]
  },
  {
   "cell_type": "code",
   "execution_count": 32,
   "id": "49bc468c",
   "metadata": {
    "execution": {
     "iopub.execute_input": "2022-02-05T16:52:03.281268Z",
     "iopub.status.busy": "2022-02-05T16:52:03.280864Z",
     "iopub.status.idle": "2022-02-05T16:52:03.363902Z",
     "shell.execute_reply": "2022-02-05T16:52:03.362744Z"
    }
   },
   "outputs": [
    {
     "data": {
      "image/svg+xml": [
       "<?xml version=\"1.0\" encoding=\"UTF-8\" standalone=\"no\"?><svg xmlns=\"http://www.w3.org/2000/svg\" xmlns:xlink=\"http://www.w3.org/1999/xlink\" contentScriptType=\"application/ecmascript\" contentStyleType=\"text/css\" height=\"300px\" preserveAspectRatio=\"none\" style=\"width:603px;height:300px;background:#000000;\" version=\"1.1\" viewBox=\"0 0 603 300\" width=\"603px\" zoomAndPan=\"magnify\"><defs/><g><rect fill=\"#06161F\" height=\"1\" style=\"stroke: #06161F; stroke-width: 1.0;\" width=\"1\" x=\"0\" y=\"0\"/><rect fill=\"#FFFFFF\" height=\"202.8012\" style=\"stroke: #FFFFFF; stroke-width: 1.0;\" width=\"602\" x=\"0\" y=\"0\"/><text fill=\"#000000\" font-family=\"sans-serif\" font-size=\"12\" font-weight=\"bold\" lengthAdjust=\"spacingAndGlyphs\" textLength=\"139\" x=\"5\" y=\"16.1387\">Welcome to PlantUML!</text><text fill=\"#000000\" font-family=\"sans-serif\" font-size=\"12\" lengthAdjust=\"spacingAndGlyphs\" textLength=\"0\" x=\"9\" y=\"30.1074\"/><text fill=\"#000000\" font-family=\"sans-serif\" font-size=\"12\" lengthAdjust=\"spacingAndGlyphs\" textLength=\"293\" x=\"5\" y=\"44.0762\">If you use this software, you accept its license.</text><text fill=\"#000000\" font-family=\"sans-serif\" font-size=\"12\" lengthAdjust=\"spacingAndGlyphs\" textLength=\"107\" x=\"5\" y=\"58.0449\">(details by typing</text><text fill=\"#000000\" font-family=\"monospace\" font-size=\"12\" lengthAdjust=\"spacingAndGlyphs\" textLength=\"42\" x=\"116\" y=\"58.595\">license</text><text fill=\"#000000\" font-family=\"sans-serif\" font-size=\"12\" lengthAdjust=\"spacingAndGlyphs\" textLength=\"56\" x=\"162\" y=\"58.0449\">keyword)</text><text fill=\"#000000\" font-family=\"sans-serif\" font-size=\"12\" lengthAdjust=\"spacingAndGlyphs\" textLength=\"0\" x=\"9\" y=\"72.0137\"/><text fill=\"#000000\" font-family=\"sans-serif\" font-size=\"12\" lengthAdjust=\"spacingAndGlyphs\" textLength=\"283\" x=\"5\" y=\"85.9824\">You can start with a simple UML Diagram like:</text><text fill=\"#000000\" font-family=\"sans-serif\" font-size=\"12\" lengthAdjust=\"spacingAndGlyphs\" textLength=\"0\" x=\"9\" y=\"99.9512\"/><text fill=\"#000000\" font-family=\"monospace\" font-size=\"12\" lengthAdjust=\"spacingAndGlyphs\" textLength=\"102\" x=\"5\" y=\"113.0893\">Bob-&gt;Alice: Hello</text><text fill=\"#000000\" font-family=\"sans-serif\" font-size=\"12\" lengthAdjust=\"spacingAndGlyphs\" textLength=\"0\" x=\"9\" y=\"126.508\"/><text fill=\"#000000\" font-family=\"sans-serif\" font-size=\"12\" lengthAdjust=\"spacingAndGlyphs\" textLength=\"14\" x=\"5\" y=\"140.4768\">Or</text><text fill=\"#000000\" font-family=\"sans-serif\" font-size=\"12\" lengthAdjust=\"spacingAndGlyphs\" textLength=\"0\" x=\"9\" y=\"154.4455\"/><text fill=\"#000000\" font-family=\"monospace\" font-size=\"12\" lengthAdjust=\"spacingAndGlyphs\" textLength=\"78\" x=\"5\" y=\"167.5837\">class Example</text><text fill=\"#000000\" font-family=\"sans-serif\" font-size=\"12\" lengthAdjust=\"spacingAndGlyphs\" textLength=\"0\" x=\"9\" y=\"181.0023\"/><text fill=\"#000000\" font-family=\"sans-serif\" font-size=\"12\" lengthAdjust=\"spacingAndGlyphs\" textLength=\"349\" x=\"5\" y=\"194.9711\">You will find more information about PlantUML syntax on</text><text fill=\"#000000\" font-family=\"sans-serif\" font-size=\"12\" lengthAdjust=\"spacingAndGlyphs\" text-decoration=\"underline\" textLength=\"129\" x=\"358\" y=\"194.9711\">https://plantuml.com</text><image height=\"71\" width=\"80\" x=\"516\" xlink:href=\"data:image/png;base64,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\" y=\"6\"/><rect fill=\"#000000\" height=\"96.4844\" style=\"stroke: #000000; stroke-width: 1.0;\" width=\"602\" x=\"0\" y=\"202.8012\"/><rect fill=\"#33FF02\" height=\"21.2969\" style=\"stroke: #33FF02; stroke-width: 1.0;\" width=\"145\" x=\"5\" y=\"207.8012\"/><text fill=\"#000000\" font-family=\"sans-serif\" font-size=\"14\" font-weight=\"bold\" lengthAdjust=\"spacingAndGlyphs\" textLength=\"143\" x=\"6\" y=\"222.8012\">[From string (line 2) ]</text><text fill=\"#33FF02\" font-family=\"sans-serif\" font-size=\"14\" font-weight=\"bold\" lengthAdjust=\"spacingAndGlyphs\" textLength=\"0\" x=\"9\" y=\"243.0981\"/><text fill=\"#33FF02\" font-family=\"sans-serif\" font-size=\"14\" font-weight=\"bold\" lengthAdjust=\"spacingAndGlyphs\" textLength=\"70\" x=\"5\" y=\"259.3949\">@startuml</text><text fill=\"#33FF02\" font-family=\"sans-serif\" font-size=\"14\" font-weight=\"bold\" lengthAdjust=\"spacingAndGlyphs\" textLength=\"0\" x=\"9\" y=\"275.6918\"/><text fill=\"#FF0000\" font-family=\"sans-serif\" font-size=\"14\" font-weight=\"bold\" lengthAdjust=\"spacingAndGlyphs\" textLength=\"124\" x=\"9\" y=\"291.9887\">Empty description</text><!--MD5=[f59edd8218d337f74d0c332fc6737304]\n",
       "@startuml\r\n",
       " \r\n",
       "@enduml\r\n",
       "\n",
       "PlantUML version 1.2020.13(Sat Jun 13 12:26:38 UTC 2020)\n",
       "(EPL source distribution)\n",
       "Java Runtime: OpenJDK Runtime Environment\n",
       "JVM: OpenJDK 64-Bit Server VM\n",
       "Default Encoding: UTF-8\n",
       "Language: en\n",
       "Country: null\n",
       "--></g></svg>"
      ]
     },
     "execution_count": 32,
     "metadata": {},
     "output_type": "execute_result"
    }
   ],
   "source": [
    "%viz --style=\"PLANTUML\" --view=\"State\" \"AnalysisTest\""
   ]
  },
  {
   "cell_type": "code",
   "execution_count": 33,
   "id": "189e9e69",
   "metadata": {
    "execution": {
     "iopub.execute_input": "2022-02-05T16:52:03.413563Z",
     "iopub.status.busy": "2022-02-05T16:52:03.413162Z",
     "iopub.status.idle": "2022-02-05T16:52:03.445293Z",
     "shell.execute_reply": "2022-02-05T16:52:03.443980Z"
    }
   },
   "outputs": [
    {
     "data": {
      "image/svg+xml": [
       "<?xml version=\"1.0\" encoding=\"UTF-8\" standalone=\"no\"?><svg xmlns=\"http://www.w3.org/2000/svg\" xmlns:xlink=\"http://www.w3.org/1999/xlink\" contentScriptType=\"application/ecmascript\" contentStyleType=\"text/css\" height=\"505px\" preserveAspectRatio=\"none\" style=\"width:491px;height:505px;\" version=\"1.1\" viewBox=\"0 0 491 505\" width=\"491px\" zoomAndPan=\"magnify\"><defs><filter height=\"300%\" id=\"fb69iot0ig0kk\" width=\"300%\" x=\"-1\" y=\"-1\"><feGaussianBlur result=\"blurOut\" stdDeviation=\"2.0\"/><feColorMatrix in=\"blurOut\" result=\"blurOut2\" type=\"matrix\" values=\"0 0 0 0 0 0 0 0 0 0 0 0 0 0 0 0 0 0 .4 0\"/><feOffset dx=\"4.0\" dy=\"4.0\" in=\"blurOut2\" result=\"blurOut3\"/><feBlend in=\"SourceGraphic\" in2=\"blurOut3\" mode=\"normal\"/></filter></defs><g><!--MD5=[fbc87193dbaf4d95561dea2c320d4a47]\n",
       "cluster E1--><a href=\"psysml:e1dfe890-ec15-4931-b288-05d8c66f0e23\" target=\"_top\" title=\"psysml:e1dfe890-ec15-4931-b288-05d8c66f0e23\" xlink:actuate=\"onRequest\" xlink:href=\"psysml:e1dfe890-ec15-4931-b288-05d8c66f0e23\" xlink:show=\"new\" xlink:title=\"psysml:e1dfe890-ec15-4931-b288-05d8c66f0e23\" xlink:type=\"simple\"><polygon fill=\"#FFFFFF\" filter=\"url(#fb69iot0ig0kk)\" points=\"16,6,108,6,115,28.2969,469,28.2969,469,493,16,493,16,6\" style=\"stroke: #000000; stroke-width: 1.5;\"/><line style=\"stroke: #000000; stroke-width: 1.5;\" x1=\"16\" x2=\"115\" y1=\"28.2969\" y2=\"28.2969\"/><text fill=\"#000000\" font-family=\"sans-serif\" font-size=\"14\" font-weight=\"bold\" lengthAdjust=\"spacingAndGlyphs\" textLength=\"86\" x=\"20\" y=\"20.9951\">AnalysisTest</text></a><!--MD5=[14e3b0961a2654348d326746436168a1]\n",
       "cluster E6--><a href=\"psysml:0d28215e-abd0-4258-9ce4-d7487f47f154\" target=\"_top\" title=\"psysml:0d28215e-abd0-4258-9ce4-d7487f47f154\" xlink:actuate=\"onRequest\" xlink:href=\"psysml:0d28215e-abd0-4258-9ce4-d7487f47f154\" xlink:show=\"new\" xlink:title=\"psysml:0d28215e-abd0-4258-9ce4-d7487f47f154\" xlink:type=\"simple\"><rect fill=\"#FFFFFF\" filter=\"url(#fb69iot0ig0kk)\" height=\"144\" id=\"E6\" style=\"stroke: #A80036; stroke-width: 1.5;\" width=\"330\" x=\"107\" y=\"184\"/><rect fill=\"#FEFECE\" height=\"37.9375\" style=\"stroke: #A80036; stroke-width: 1.5;\" width=\"330\" x=\"107\" y=\"184\"/><text fill=\"#000000\" font-family=\"sans-serif\" font-size=\"12\" font-style=\"italic\" lengthAdjust=\"spacingAndGlyphs\" textLength=\"88\" x=\"228\" y=\"200.1387\">«analysis def»</text><text fill=\"#000000\" font-family=\"sans-serif\" font-size=\"12\" lengthAdjust=\"spacingAndGlyphs\" textLength=\"77\" x=\"233.5\" y=\"214.1074\">AnalysisPlan</text></a><!--MD5=[7f149f147074ac12df2cb0a7728a5fb0]\n",
       "cluster E9--><a href=\"psysml:b24749b9-9e77-4740-bd21-7fc3830bb957\" target=\"_top\" title=\"psysml:b24749b9-9e77-4740-bd21-7fc3830bb957\" xlink:actuate=\"onRequest\" xlink:href=\"psysml:b24749b9-9e77-4740-bd21-7fc3830bb957\" xlink:show=\"new\" xlink:title=\"psysml:b24749b9-9e77-4740-bd21-7fc3830bb957\" xlink:type=\"simple\"><rect fill=\"#FFFFFF\" filter=\"url(#fb69iot0ig0kk)\" height=\"94\" id=\"E9\" rx=\"10\" ry=\"10\" style=\"stroke: #A80036; stroke-width: 1.5;\" width=\"146\" x=\"299\" y=\"49\"/><rect fill=\"#FEFECE\" height=\"23.9688\" rx=\"10\" ry=\"10\" style=\"stroke: #FEFECE; stroke-width: 1.5;\" width=\"146\" x=\"299\" y=\"49\"/><rect fill=\"#FEFECE\" height=\"10\" style=\"stroke: #FEFECE; stroke-width: 1.5;\" width=\"146\" x=\"299\" y=\"62.9688\"/><rect fill=\"none\" height=\"94\" id=\"E9\" rx=\"10\" ry=\"10\" style=\"stroke: #A80036; stroke-width: 1.5;\" width=\"146\" x=\"299\" y=\"49\"/><text fill=\"#000000\" font-family=\"sans-serif\" font-size=\"12\" lengthAdjust=\"spacingAndGlyphs\" textLength=\"98\" x=\"323\" y=\"65.1387\">analysisContext</text><line style=\"stroke: #A80036; stroke-width: 1.0;\" x1=\"299\" x2=\"445\" y1=\"72.9688\" y2=\"72.9688\"/></a><!--MD5=[ebbe1d658d1005bcc118a6aa81145e00]\n",
       "class E4--><a href=\"psysml:61935c6a-e9b2-427b-8e93-9f8ea2764a4f\" target=\"_top\" title=\"psysml:61935c6a-e9b2-427b-8e93-9f8ea2764a4f\" xlink:actuate=\"onRequest\" xlink:href=\"psysml:61935c6a-e9b2-427b-8e93-9f8ea2764a4f\" xlink:show=\"new\" xlink:title=\"psysml:61935c6a-e9b2-427b-8e93-9f8ea2764a4f\" xlink:type=\"simple\"><rect fill=\"#FEFECE\" filter=\"url(#fb69iot0ig0kk)\" height=\"66.7422\" id=\"E4\" style=\"stroke: #A80036; stroke-width: 1.5;\" width=\"147\" x=\"132.5\" y=\"72\"/><ellipse cx=\"147.5\" cy=\"90.9688\" fill=\"#A52A2A\" rx=\"11\" ry=\"11\" style=\"stroke: #A80036; stroke-width: 1.0;\"/><path d=\"M144.7188,95.9688 L144.7188,85.375 L147.4531,85.375 Q148.8438,85.375 149.6094,85.7656 Q150.3906,86.1406 150.9219,86.8438 Q151.4531,87.5469 151.75,88.5469 Q152.0469,89.5313 152.0469,90.75 Q152,92.3438 151.5,93.5313 Q151.0156,94.7031 149.9688,95.3438 Q148.9375,95.9688 147.25,95.9688 L144.7188,95.9688 Z M146.5781,94.4688 L147.2031,94.4688 Q148.2813,94.4688 148.9375,94.0156 Q149.5938,93.5625 149.875,92.7344 Q150.1719,91.8906 150.1563,90.7656 Q150.1563,89.5938 149.9063,88.7344 Q149.6563,87.8594 149.0469,87.3906 Q148.4375,86.9063 147.3906,86.9063 L146.5781,86.9063 L146.5781,94.4688 Z \"/><text fill=\"#000000\" font-family=\"sans-serif\" font-size=\"12\" font-style=\"italic\" lengthAdjust=\"spacingAndGlyphs\" textLength=\"119\" x=\"159.5\" y=\"88.1387\">«requirement  def»</text><text fill=\"#000000\" font-family=\"sans-serif\" font-size=\"12\" lengthAdjust=\"spacingAndGlyphs\" textLength=\"107\" x=\"165.5\" y=\"102.1074\">AnalysisObjective</text><line style=\"stroke: #A80036; stroke-width: 1.5;\" x1=\"133.5\" x2=\"278.5\" y1=\"109.9375\" y2=\"109.9375\"/><text fill=\"#000000\" font-family=\"sans-serif\" font-size=\"11\" lengthAdjust=\"spacingAndGlyphs\" textLength=\"12\" x=\"138.5\" y=\"124.1479\">...</text><line style=\"stroke: #A80036; stroke-width: 1.0;\" x1=\"133.5\" x2=\"278.5\" y1=\"130.7422\" y2=\"130.7422\"/></a><g id=\"E1.E2\"><a href=\"psysml:e8de7c06-a552-45cc-9ef9-bdca622a4dc8\" target=\"_top\" title=\"psysml:e8de7c06-a552-45cc-9ef9-bdca622a4dc8\" xlink:actuate=\"onRequest\" xlink:href=\"psysml:e8de7c06-a552-45cc-9ef9-bdca622a4dc8\" xlink:show=\"new\" xlink:title=\"psysml:e8de7c06-a552-45cc-9ef9-bdca622a4dc8\" xlink:type=\"simple\"><rect fill=\"#FEFECE\" filter=\"url(#fb69iot0ig0kk)\" height=\"40\" id=\"E2\" style=\"stroke: #A80036; stroke-width: 1.5;\" width=\"50\" x=\"86\" y=\"437\"/><ellipse cx=\"105.5\" cy=\"453\" fill=\"#008000\" rx=\"11\" ry=\"11\" style=\"stroke: #A80036; stroke-width: 1.0;\"/><path d=\"M102.375,458 L102.375,447.4063 L105.6094,447.4063 Q107.5156,447.4063 108.4219,448.1563 Q109.3438,448.9063 109.3438,450.0781 Q109.3438,450.7656 108.9531,451.4219 Q108.5781,452.0781 107.8594,452.375 Q108.7188,452.75 109.2344,453.4375 Q109.75,454.125 109.75,454.9375 Q109.75,456.3125 108.7188,457.1563 Q107.7031,458 105.5938,458 L102.375,458 Z M104.2969,451.6406 L105.4531,451.6406 Q106.5781,451.6406 106.9844,451.2656 Q107.4063,450.875 107.4063,450.25 Q107.4063,449.6719 106.9844,449.3125 Q106.5625,448.9531 105.625,448.9531 L104.2969,448.9531 L104.2969,451.6406 Z M104.2969,456.4219 L105.7969,456.4219 Q106.7031,456.4219 107.2344,456.0313 Q107.7656,455.6406 107.7656,454.8906 Q107.7656,454.125 107.2656,453.6563 Q106.7656,453.1719 105.5,453.1719 L104.2969,453.1719 L104.2969,456.4219 Z \"/><text fill=\"#000000\" font-family=\"sans-serif\" font-size=\"12\" lengthAdjust=\"spacingAndGlyphs\" textLength=\"8\" x=\"120.5\" y=\"457.1543\">V</text></a></g><g id=\"E1.E3\"><a href=\"psysml:e405eddc-d04c-43ee-94c7-f68d6bd4037b\" target=\"_top\" title=\"psysml:e405eddc-d04c-43ee-94c7-f68d6bd4037b\" xlink:actuate=\"onRequest\" xlink:href=\"psysml:e405eddc-d04c-43ee-94c7-f68d6bd4037b\" xlink:show=\"new\" xlink:title=\"psysml:e405eddc-d04c-43ee-94c7-f68d6bd4037b\" xlink:type=\"simple\"><rect fill=\"#FEFECE\" filter=\"url(#fb69iot0ig0kk)\" height=\"40\" id=\"E3\" rx=\"10\" ry=\"10\" style=\"stroke: #A80036; stroke-width: 1.5;\" width=\"65\" x=\"32.5\" y=\"85.5\"/><ellipse cx=\"49.75\" cy=\"101.5\" fill=\"#B6DBBB\" rx=\"11\" ry=\"11\" style=\"stroke: #A80036; stroke-width: 1.0;\"/><path d=\"M49.5,106.9688 Q47.75,106.9688 46.7969,105.9375 Q45.8594,104.8906 45.8594,103.0469 L45.8594,96.1563 L47.9219,96.1563 L47.9219,96.3125 Q47.8281,96.4063 47.7969,96.5469 Q47.7813,96.6719 47.7813,96.9375 L47.7813,103.0625 Q47.7813,104.1563 48.1563,104.7813 Q48.5313,105.4063 49.5156,105.4063 Q50.5,105.4063 50.8906,104.7813 Q51.2813,104.1563 51.2813,103.0156 L51.2813,96.1563 L53.1563,96.1563 L53.1563,103 Q53.1563,105.0313 52.125,106 Q51.1094,106.9688 49.5,106.9688 Z \"/><text fill=\"#000000\" font-family=\"sans-serif\" font-size=\"12\" lengthAdjust=\"spacingAndGlyphs\" textLength=\"28\" x=\"64.25\" y=\"105.6543\">vv: V</text></a></g><g id=\"E1.E5\"><a href=\"psysml:5016a817-b8b6-43b2-a1c9-71130e2545c5\" target=\"_top\" title=\"psysml:5016a817-b8b6-43b2-a1c9-71130e2545c5\" xlink:actuate=\"onRequest\" xlink:href=\"psysml:5016a817-b8b6-43b2-a1c9-71130e2545c5\" xlink:show=\"new\" xlink:title=\"psysml:5016a817-b8b6-43b2-a1c9-71130e2545c5\" xlink:type=\"simple\"><rect fill=\"#FEFECE\" filter=\"url(#fb69iot0ig0kk)\" height=\"42.9375\" id=\"E5\" style=\"stroke: #A80036; stroke-width: 1.5;\" width=\"121\" x=\"190.5\" y=\"361\"/><ellipse cx=\"207.75\" cy=\"379.9688\" fill=\"#ADD1B2\" rx=\"11\" ry=\"11\" style=\"stroke: #A80036; stroke-width: 1.0;\"/><path d=\"M204.9688,384.9688 L204.9688,374.375 L207.7031,374.375 Q209.0938,374.375 209.8594,374.7656 Q210.6406,375.1406 211.1719,375.8438 Q211.7031,376.5469 212,377.5469 Q212.2969,378.5313 212.2969,379.75 Q212.25,381.3438 211.75,382.5313 Q211.2656,383.7031 210.2188,384.3438 Q209.1875,384.9688 207.5,384.9688 L204.9688,384.9688 Z M206.8281,383.4688 L207.4531,383.4688 Q208.5313,383.4688 209.1875,383.0156 Q209.8438,382.5625 210.125,381.7344 Q210.4219,380.8906 210.4063,379.7656 Q210.4063,378.5938 210.1563,377.7344 Q209.9063,376.8594 209.2969,376.3906 Q208.6875,375.9063 207.6406,375.9063 L206.8281,375.9063 L206.8281,383.4688 Z \"/><text fill=\"#000000\" font-family=\"sans-serif\" font-size=\"12\" font-style=\"italic\" lengthAdjust=\"spacingAndGlyphs\" textLength=\"88\" x=\"220.25\" y=\"377.1387\">«analysis def»</text><text fill=\"#000000\" font-family=\"sans-serif\" font-size=\"12\" lengthAdjust=\"spacingAndGlyphs\" textLength=\"81\" x=\"223.75\" y=\"391.1074\">AnalysisCase</text></a></g><!--MD5=[2156ba9850f5573cc1fc38a6a4b2f02b]\n",
       "class E7--><a href=\"psysml:317ace64-a3b7-4095-b75a-9c551641bbd2\" target=\"_top\" title=\"psysml:317ace64-a3b7-4095-b75a-9c551641bbd2\" xlink:actuate=\"onRequest\" xlink:href=\"psysml:317ace64-a3b7-4095-b75a-9c551641bbd2\" xlink:show=\"new\" xlink:title=\"psysml:317ace64-a3b7-4095-b75a-9c551641bbd2\" xlink:type=\"simple\"><rect fill=\"#FEFECE\" filter=\"url(#fb69iot0ig0kk)\" height=\"60.8047\" id=\"E7\" rx=\"10\" ry=\"10\" style=\"stroke: #A80036; stroke-width: 1.5;\" width=\"110\" x=\"303\" y=\"243\"/><ellipse cx=\"318\" cy=\"259\" fill=\"#B6DBBB\" rx=\"11\" ry=\"11\" style=\"stroke: #A80036; stroke-width: 1.0;\"/><path d=\"M317.75,264.4688 Q316,264.4688 315.0469,263.4375 Q314.1094,262.3906 314.1094,260.5469 L314.1094,253.6563 L316.1719,253.6563 L316.1719,253.8125 Q316.0781,253.9063 316.0469,254.0469 Q316.0313,254.1719 316.0313,254.4375 L316.0313,260.5625 Q316.0313,261.6563 316.4063,262.2813 Q316.7813,262.9063 317.7656,262.9063 Q318.75,262.9063 319.1406,262.2813 Q319.5313,261.6563 319.5313,260.5156 L319.5313,253.6563 L321.4063,253.6563 L321.4063,260.5 Q321.4063,262.5313 320.375,263.5 Q319.3594,264.4688 317.75,264.4688 Z \"/><text fill=\"#000000\" font-family=\"sans-serif\" font-size=\"12\" lengthAdjust=\"spacingAndGlyphs\" textLength=\"70\" x=\"336\" y=\"263.1543\">«objective»</text><line style=\"stroke: #A80036; stroke-width: 1.5;\" x1=\"304\" x2=\"412\" y1=\"275\" y2=\"275\"/><text fill=\"#000000\" font-family=\"sans-serif\" font-size=\"11\" lengthAdjust=\"spacingAndGlyphs\" textLength=\"12\" x=\"309\" y=\"289.2104\">...</text><line style=\"stroke: #A80036; stroke-width: 1.0;\" x1=\"304\" x2=\"412\" y1=\"295.8047\" y2=\"295.8047\"/></a><g id=\"E1.E6.E8\"><a href=\"psysml:0f757ff2-27a2-40d5-a25f-af43358ff77a\" target=\"_top\" title=\"psysml:0f757ff2-27a2-40d5-a25f-af43358ff77a\" xlink:actuate=\"onRequest\" xlink:href=\"psysml:0f757ff2-27a2-40d5-a25f-af43358ff77a\" xlink:show=\"new\" xlink:title=\"psysml:0f757ff2-27a2-40d5-a25f-af43358ff77a\" xlink:type=\"simple\"><rect fill=\"#FEFECE\" filter=\"url(#fb69iot0ig0kk)\" height=\"42.9375\" id=\"E8\" rx=\"10\" ry=\"10\" style=\"stroke: #A80036; stroke-width: 1.5;\" width=\"118\" x=\"150\" y=\"252\"/><ellipse cx=\"167.25\" cy=\"270.9688\" fill=\"#B6DBBB\" rx=\"11\" ry=\"11\" style=\"stroke: #A80036; stroke-width: 1.0;\"/><path d=\"M167,276.4375 Q165.25,276.4375 164.2969,275.4063 Q163.3594,274.3594 163.3594,272.5156 L163.3594,265.625 L165.4219,265.625 L165.4219,265.7813 Q165.3281,265.875 165.2969,266.0156 Q165.2813,266.1406 165.2813,266.4063 L165.2813,272.5313 Q165.2813,273.625 165.6563,274.25 Q166.0313,274.875 167.0156,274.875 Q168,274.875 168.3906,274.25 Q168.7813,273.625 168.7813,272.4844 L168.7813,265.625 L170.6563,265.625 L170.6563,272.4688 Q170.6563,274.5 169.625,275.4688 Q168.6094,276.4375 167,276.4375 Z \"/><text fill=\"#000000\" font-family=\"sans-serif\" font-size=\"12\" font-style=\"italic\" lengthAdjust=\"spacingAndGlyphs\" textLength=\"64\" x=\"190.25\" y=\"268.1387\">«analysis»</text><text fill=\"#000000\" font-family=\"sans-serif\" font-size=\"12\" lengthAdjust=\"spacingAndGlyphs\" textLength=\"81\" x=\"181.75\" y=\"282.1074\">analysisCase</text></a></g><g id=\"E1.E9.E10\"><a href=\"psysml:9d8d7d87-8dd4-470f-9d18-cffbc3763f0c\" target=\"_top\" title=\"psysml:9d8d7d87-8dd4-470f-9d18-cffbc3763f0c\" xlink:actuate=\"onRequest\" xlink:href=\"psysml:9d8d7d87-8dd4-470f-9d18-cffbc3763f0c\" xlink:show=\"new\" xlink:title=\"psysml:9d8d7d87-8dd4-470f-9d18-cffbc3763f0c\" xlink:type=\"simple\"><rect fill=\"#FEFECE\" filter=\"url(#fb69iot0ig0kk)\" height=\"42.9375\" id=\"E10\" rx=\"10\" ry=\"10\" style=\"stroke: #A80036; stroke-width: 1.5;\" width=\"114\" x=\"315\" y=\"84\"/><ellipse cx=\"332.25\" cy=\"102.9688\" fill=\"#B6DBBB\" rx=\"11\" ry=\"11\" style=\"stroke: #A80036; stroke-width: 1.0;\"/><path d=\"M332,108.4375 Q330.25,108.4375 329.2969,107.4063 Q328.3594,106.3594 328.3594,104.5156 L328.3594,97.625 L330.4219,97.625 L330.4219,97.7813 Q330.3281,97.875 330.2969,98.0156 Q330.2813,98.1406 330.2813,98.4063 L330.2813,104.5313 Q330.2813,105.625 330.6563,106.25 Q331.0313,106.875 332.0156,106.875 Q333,106.875 333.3906,106.25 Q333.7813,105.625 333.7813,104.4844 L333.7813,97.625 L335.6563,97.625 L335.6563,104.4688 Q335.6563,106.5 334.625,107.4688 Q333.6094,108.4375 332,108.4375 Z \"/><text fill=\"#000000\" font-family=\"sans-serif\" font-size=\"12\" font-style=\"italic\" lengthAdjust=\"spacingAndGlyphs\" textLength=\"64\" x=\"353.25\" y=\"100.1387\">«analysis»</text><text fill=\"#000000\" font-family=\"sans-serif\" font-size=\"12\" lengthAdjust=\"spacingAndGlyphs\" textLength=\"77\" x=\"346.75\" y=\"114.1074\">analysisPlan</text></a></g><!--MD5=[15ebcb19ae302d9b601edb458606d402]\n",
       "link E5 to E2--><a href=\"psysml:4ce798b4-e7f7-45ac-94f6-a9dc23ec95c2\" target=\"_top\" title=\"psysml:4ce798b4-e7f7-45ac-94f6-a9dc23ec95c2\" xlink:actuate=\"onRequest\" xlink:href=\"psysml:4ce798b4-e7f7-45ac-94f6-a9dc23ec95c2\" xlink:show=\"new\" xlink:title=\"psysml:4ce798b4-e7f7-45ac-94f6-a9dc23ec95c2\" xlink:type=\"simple\"><path d=\"M211.26,404.08 C188.86,415.68 161.35,429.93 140.81,440.56 \" fill=\"none\" id=\"E5-&gt;E2\" style=\"stroke: #A80036; stroke-width: 1.0; stroke-dasharray: 7.0,7.0;\"/><polygon fill=\"#A80036\" points=\"136.28,442.91,146.1107,442.3117,140.7173,440.6055,142.4235,435.2121,136.28,442.91\" style=\"stroke: #A80036; stroke-width: 1.0;\"/><text fill=\"#000000\" font-family=\"sans-serif\" font-size=\"13\" lengthAdjust=\"spacingAndGlyphs\" textLength=\"62\" x=\"194\" y=\"425.0669\">«subject»</text></a><!--MD5=[2351f337d6de0f557b50152ba70847b5]\n",
       "link E6 to E2--><a href=\"psysml:38ee38e5-fe2f-49e8-a238-8ef961814591\" target=\"_top\" title=\"psysml:38ee38e5-fe2f-49e8-a238-8ef961814591\" xlink:actuate=\"onRequest\" xlink:href=\"psysml:38ee38e5-fe2f-49e8-a238-8ef961814591\" xlink:show=\"new\" xlink:title=\"psysml:38ee38e5-fe2f-49e8-a238-8ef961814591\" xlink:type=\"simple\"><path d=\"M110.6985,328.1251 C110.6888,328.2741 110.6791,328.4231 110.6695,328.5722 C110.5921,329.7653 110.5158,330.9641 110.4408,332.1669 C109.8406,341.7894 109.3225,351.6725 109,361 C108.34,380.1 108.63,384.89 109,404 C109.17,412.98 109.51,422.82 109.86,431.5 \" fill=\"none\" id=\"E6-&gt;E2\" style=\"stroke: #A80036; stroke-width: 1.0; stroke-dasharray: 7.0,7.0;\"/><polygon fill=\"#A80036\" points=\"110.08,436.74,113.6898,427.5765,109.8653,431.7446,105.6972,427.9201,110.08,436.74\" style=\"stroke: #A80036; stroke-width: 1.0;\"/><text fill=\"#000000\" font-family=\"sans-serif\" font-size=\"13\" lengthAdjust=\"spacingAndGlyphs\" textLength=\"62\" x=\"110\" y=\"387.0669\">«subject»</text></a><!--MD5=[1ccb2481ffa92f8d51a74ee30c51832a]\n",
       "link E8 to E5--><a href=\"psysml:cf5e8ef0-758f-412b-8419-a299a9750eac\" target=\"_top\" title=\"psysml:cf5e8ef0-758f-412b-8419-a299a9750eac\" xlink:actuate=\"onRequest\" xlink:href=\"psysml:cf5e8ef0-758f-412b-8419-a299a9750eac\" xlink:show=\"new\" xlink:title=\"psysml:cf5e8ef0-758f-412b-8419-a299a9750eac\" xlink:type=\"simple\"><path d=\"M217.1,295.13 C222.33,308.45 229.3,326.21 235.56,342.17 \" fill=\"none\" id=\"E8-&gt;E5\" style=\"stroke: #A80036; stroke-width: 1.0;\"/><polygon fill=\"#FFFFFF\" points=\"242.93,360.93,229.4803,345.7938,242.5152,340.6858,242.93,360.93\" style=\"stroke: #A80036; stroke-width: 1.0;\"/><ellipse cx=\"229.2627\" cy=\"339.757\" fill=\"#A80036\" rx=\"2\" ry=\"2\" style=\"stroke: #A80036; stroke-width: 1.0;\"/><ellipse cx=\"238.5734\" cy=\"336.1084\" fill=\"#A80036\" rx=\"2\" ry=\"2\" style=\"stroke: #A80036; stroke-width: 1.0;\"/></a><!--MD5=[198716bf12f04006f5c20d61bde6d80d]\n",
       "link E10 to E6--><a href=\"psysml:4172c94c-9fb8-4464-b137-e530fc31134b\" target=\"_top\" title=\"psysml:4172c94c-9fb8-4464-b137-e530fc31134b\" xlink:actuate=\"onRequest\" xlink:href=\"psysml:4172c94c-9fb8-4464-b137-e530fc31134b\" xlink:show=\"new\" xlink:title=\"psysml:4172c94c-9fb8-4464-b137-e530fc31134b\" xlink:type=\"simple\"><path d=\"M349.98,127.03 C339.07,135.96 325.22,145.6 311,151 C274.06,165.03 163.09,141.26 134,168 C129.7238,171.9313 126.2122,176.4772 123.3419,181.427 C122.9831,182.0458 122.6343,182.6708 122.2953,183.3017 C122.2106,183.4595 122.1264,183.6176 122.0429,183.776 \" fill=\"none\" id=\"E10-&gt;E6\" style=\"stroke: #A80036; stroke-width: 1.0;\"/><polygon fill=\"#FFFFFF\" points=\"122.0429,183.776,124.7102,163.704,137.095,170.2322,122.0429,183.776\" style=\"stroke: #A80036; stroke-width: 1.0;\"/><ellipse cx=\"129.1373\" cy=\"159.5942\" fill=\"#A80036\" rx=\"2\" ry=\"2\" style=\"stroke: #A80036; stroke-width: 1.0;\"/><ellipse cx=\"137.9836\" cy=\"164.2572\" fill=\"#A80036\" rx=\"2\" ry=\"2\" style=\"stroke: #A80036; stroke-width: 1.0;\"/></a><!--MD5=[f6ae1923458e33e35f60f19a59aa6023]\n",
       "@startuml\r\n",
       "skinparam ranksep 10\r\n",
       "skinparam rectangle {\r\n",
       " backgroundColor<<block>> LightGreen\r\n",
       "}\r\n",
       " \r\n",
       "package \"AnalysisTest\" as E1  [[psysml:e1dfe890-ec15-4931-b288-05d8c66f0e23 ]]  {\r\n",
       "rec def \"V\" as E2 << << (B,green) >> [[psysml:e8de7c06-a552-45cc-9ef9-bdca622a4dc8 ]] {\r\n",
       "}\r\n",
       "rec usage \"vv: V\" as E3  [[psysml:e405eddc-d04c-43ee-94c7-f68d6bd4037b ]] {\r\n",
       "}\r\n",
       "comp def \"AnalysisObjective\" as E4 << <<(D,brown) requirement  def>> [[psysml:61935c6a-e9b2-427b-8e93-9f8ea2764a4f ]] {\r\n",
       "...\r\n",
       "- -\r\n",
       "}\r\n",
       "rec def \"AnalysisCase\" as E5 << analysis def>> [[psysml:5016a817-b8b6-43b2-a1c9-71130e2545c5 ]] {\r\n",
       "}\r\n",
       "rec def \"AnalysisPlan\" as E6 << analysis def>> [[psysml:0d28215e-abd0-4258-9ce4-d7487f47f154 ]] {\r\n",
       "comp usage \" <U+00AB>objective<U+00BB> \" as E7 [[psysml:317ace64-a3b7-4095-b75a-9c551641bbd2 ]] {\r\n",
       "...\r\n",
       "- -\r\n",
       "}\r\n",
       "rec usage \"analysisCase\" as E8 << analysis>> [[psysml:0f757ff2-27a2-40d5-a25f-af43358ff77a ]] {\r\n",
       "}\r\n",
       "}\r\n",
       "rec usage \"analysisContext\" as E9  [[psysml:b24749b9-9e77-4740-bd21-7fc3830bb957 ]] {\r\n",
       "rec usage \"analysisPlan\" as E10 << analysis>> [[psysml:9d8d7d87-8dd4-470f-9d18-cffbc3763f0c ]] {\r\n",
       "}\r\n",
       "}\r\n",
       "}\r\n",
       "E5 ..> E2 [[psysml:4ce798b4-e7f7-45ac-94f6-a9dc23ec95c2 ]] : <<subject>>\r\n",
       "E6 ..> E2 [[psysml:38ee38e5-fe2f-49e8-a238-8ef961814591 ]] : <<subject>>\r\n",
       "E8 - -:|> E5 [[psysml:cf5e8ef0-758f-412b-8419-a299a9750eac ]] \r\n",
       "E10 - -:|> E6 [[psysml:4172c94c-9fb8-4464-b137-e530fc31134b ]] \r\n",
       "@enduml\r\n",
       "\n",
       "PlantUML version 1.2020.13(Sat Jun 13 12:26:38 UTC 2020)\n",
       "(EPL source distribution)\n",
       "Java Runtime: OpenJDK Runtime Environment\n",
       "JVM: OpenJDK 64-Bit Server VM\n",
       "Default Encoding: UTF-8\n",
       "Language: en\n",
       "Country: null\n",
       "--></g></svg>"
      ]
     },
     "execution_count": 33,
     "metadata": {},
     "output_type": "execute_result"
    }
   ],
   "source": [
    "%viz --style=\"PLANTUML\" --view=\"Interconnection\" \"AnalysisTest\""
   ]
  },
  {
   "cell_type": "code",
   "execution_count": 34,
   "id": "2091a162",
   "metadata": {
    "execution": {
     "iopub.execute_input": "2022-02-05T16:52:03.494731Z",
     "iopub.status.busy": "2022-02-05T16:52:03.494325Z",
     "iopub.status.idle": "2022-02-05T16:52:03.526822Z",
     "shell.execute_reply": "2022-02-05T16:52:03.526474Z"
    }
   },
   "outputs": [
    {
     "data": {
      "image/svg+xml": [
       "<?xml version=\"1.0\" encoding=\"UTF-8\" standalone=\"no\"?><svg xmlns=\"http://www.w3.org/2000/svg\" xmlns:xlink=\"http://www.w3.org/1999/xlink\" contentScriptType=\"application/ecmascript\" contentStyleType=\"text/css\" height=\"241px\" preserveAspectRatio=\"none\" style=\"width:656px;height:241px;\" version=\"1.1\" viewBox=\"0 0 656 241\" width=\"656px\" zoomAndPan=\"magnify\"><defs><filter height=\"300%\" id=\"f1ly1nokowy8yp\" width=\"300%\" x=\"-1\" y=\"-1\"><feGaussianBlur result=\"blurOut\" stdDeviation=\"2.0\"/><feColorMatrix in=\"blurOut\" result=\"blurOut2\" type=\"matrix\" values=\"0 0 0 0 0 0 0 0 0 0 0 0 0 0 0 0 0 0 .4 0\"/><feOffset dx=\"4.0\" dy=\"4.0\" in=\"blurOut2\" result=\"blurOut3\"/><feBlend in=\"SourceGraphic\" in2=\"blurOut3\" mode=\"normal\"/></filter></defs><g><!--MD5=[fbc87193dbaf4d95561dea2c320d4a47]\n",
       "cluster E1--><a href=\"psysml:5016a817-b8b6-43b2-a1c9-71130e2545c5\" target=\"_top\" title=\"psysml:5016a817-b8b6-43b2-a1c9-71130e2545c5\" xlink:actuate=\"onRequest\" xlink:href=\"psysml:5016a817-b8b6-43b2-a1c9-71130e2545c5\" xlink:show=\"new\" xlink:title=\"psysml:5016a817-b8b6-43b2-a1c9-71130e2545c5\" xlink:type=\"simple\"><rect fill=\"#FFFFFF\" filter=\"url(#f1ly1nokowy8yp)\" height=\"122\" id=\"E1\" style=\"stroke: #A80036; stroke-width: 1.5;\" width=\"146\" x=\"7\" y=\"42.0986\"/><rect fill=\"#FEFECE\" height=\"37.9375\" style=\"stroke: #A80036; stroke-width: 1.5;\" width=\"146\" x=\"7\" y=\"42.0986\"/><text fill=\"#000000\" font-family=\"sans-serif\" font-size=\"12\" font-style=\"italic\" lengthAdjust=\"spacingAndGlyphs\" textLength=\"88\" x=\"36\" y=\"58.2373\">«analysis def»</text><text fill=\"#000000\" font-family=\"sans-serif\" font-size=\"12\" lengthAdjust=\"spacingAndGlyphs\" textLength=\"81\" x=\"39.5\" y=\"72.2061\">AnalysisCase</text></a><!--MD5=[f6df4d0ebaf0b5dfb2ced0ae5af7c670]\n",
       "cluster E4--><a href=\"psysml:0d28215e-abd0-4258-9ce4-d7487f47f154\" target=\"_top\" title=\"psysml:0d28215e-abd0-4258-9ce4-d7487f47f154\" xlink:actuate=\"onRequest\" xlink:href=\"psysml:0d28215e-abd0-4258-9ce4-d7487f47f154\" xlink:show=\"new\" xlink:title=\"psysml:0d28215e-abd0-4258-9ce4-d7487f47f154\" xlink:type=\"simple\"><rect fill=\"#FFFFFF\" filter=\"url(#f1ly1nokowy8yp)\" height=\"180\" id=\"E4\" style=\"stroke: #A80036; stroke-width: 1.5;\" width=\"262\" x=\"216\" y=\"42.0986\"/><rect fill=\"#FEFECE\" height=\"37.9375\" style=\"stroke: #A80036; stroke-width: 1.5;\" width=\"262\" x=\"216\" y=\"42.0986\"/><text fill=\"#000000\" font-family=\"sans-serif\" font-size=\"12\" font-style=\"italic\" lengthAdjust=\"spacingAndGlyphs\" textLength=\"88\" x=\"303\" y=\"58.2373\">«analysis def»</text><text fill=\"#000000\" font-family=\"sans-serif\" font-size=\"12\" lengthAdjust=\"spacingAndGlyphs\" textLength=\"77\" x=\"308.5\" y=\"72.2061\">AnalysisPlan</text></a><!--MD5=[14e3b0961a2654348d326746436168a1]\n",
       "cluster E6--><a href=\"psysml:0f757ff2-27a2-40d5-a25f-af43358ff77a\" target=\"_top\" title=\"psysml:0f757ff2-27a2-40d5-a25f-af43358ff77a\" xlink:actuate=\"onRequest\" xlink:href=\"psysml:0f757ff2-27a2-40d5-a25f-af43358ff77a\" xlink:show=\"new\" xlink:title=\"psysml:0f757ff2-27a2-40d5-a25f-af43358ff77a\" xlink:type=\"simple\"><rect fill=\"#FFFFFF\" filter=\"url(#f1ly1nokowy8yp)\" height=\"110.5\" id=\"E6\" rx=\"10\" ry=\"10\" style=\"stroke: #A80036; stroke-width: 1.5;\" width=\"138\" x=\"299\" y=\"81.5986\"/><rect fill=\"#FEFECE\" height=\"37.9375\" rx=\"10\" ry=\"10\" style=\"stroke: #FEFECE; stroke-width: 1.5;\" width=\"138\" x=\"299\" y=\"81.5986\"/><rect fill=\"#FEFECE\" height=\"10\" style=\"stroke: #FEFECE; stroke-width: 1.5;\" width=\"138\" x=\"299\" y=\"109.5361\"/><rect fill=\"none\" height=\"110.5\" id=\"E6\" rx=\"10\" ry=\"10\" style=\"stroke: #A80036; stroke-width: 1.5;\" width=\"138\" x=\"299\" y=\"81.5986\"/><text fill=\"#000000\" font-family=\"sans-serif\" font-size=\"12\" font-style=\"italic\" lengthAdjust=\"spacingAndGlyphs\" textLength=\"64\" x=\"336\" y=\"97.7373\">«analysis»</text><text fill=\"#000000\" font-family=\"sans-serif\" font-size=\"12\" lengthAdjust=\"spacingAndGlyphs\" textLength=\"81\" x=\"327.5\" y=\"111.7061\">analysisCase</text><line style=\"stroke: #A80036; stroke-width: 1.0;\" x1=\"299\" x2=\"437\" y1=\"119.5361\" y2=\"119.5361\"/></a><!--MD5=[a84b4591f868c1fa4a211716a82f2f0d]\n",
       "cluster E10--><a href=\"psysml:9d8d7d87-8dd4-470f-9d18-cffbc3763f0c\" target=\"_top\" title=\"psysml:9d8d7d87-8dd4-470f-9d18-cffbc3763f0c\" xlink:actuate=\"onRequest\" xlink:href=\"psysml:9d8d7d87-8dd4-470f-9d18-cffbc3763f0c\" xlink:show=\"new\" xlink:title=\"psysml:9d8d7d87-8dd4-470f-9d18-cffbc3763f0c\" xlink:type=\"simple\"><rect fill=\"#FFFFFF\" filter=\"url(#f1ly1nokowy8yp)\" height=\"122\" id=\"E10\" rx=\"10\" ry=\"10\" style=\"stroke: #A80036; stroke-width: 1.5;\" width=\"130\" x=\"507\" y=\"42.0986\"/><rect fill=\"#FEFECE\" height=\"37.9375\" rx=\"10\" ry=\"10\" style=\"stroke: #FEFECE; stroke-width: 1.5;\" width=\"130\" x=\"507\" y=\"42.0986\"/><rect fill=\"#FEFECE\" height=\"10\" style=\"stroke: #FEFECE; stroke-width: 1.5;\" width=\"130\" x=\"507\" y=\"70.0361\"/><rect fill=\"none\" height=\"122\" id=\"E10\" rx=\"10\" ry=\"10\" style=\"stroke: #A80036; stroke-width: 1.5;\" width=\"130\" x=\"507\" y=\"42.0986\"/><text fill=\"#000000\" font-family=\"sans-serif\" font-size=\"12\" font-style=\"italic\" lengthAdjust=\"spacingAndGlyphs\" textLength=\"64\" x=\"540\" y=\"58.2373\">«analysis»</text><text fill=\"#000000\" font-family=\"sans-serif\" font-size=\"12\" lengthAdjust=\"spacingAndGlyphs\" textLength=\"77\" x=\"533.5\" y=\"72.2061\">analysisPlan</text><line style=\"stroke: #A80036; stroke-width: 1.0;\" x1=\"507\" x2=\"637\" y1=\"80.0361\" y2=\"80.0361\"/></a><text fill=\"#000000\" font-family=\"sans-serif\" font-size=\"14\" lengthAdjust=\"spacingAndGlyphs\" textLength=\"7\" x=\"76.5\" y=\"20.7969\">v</text><rect fill=\"#A80036\" height=\"12\" style=\"stroke: #FEFECE; stroke-width: 1.5;\" width=\"12\" x=\"74\" y=\"36.0986\"/><text fill=\"#000000\" font-family=\"sans-serif\" font-size=\"14\" lengthAdjust=\"spacingAndGlyphs\" textLength=\"39\" x=\"60.5\" y=\"183.0938\">result</text><rect fill=\"#A80036\" height=\"12\" style=\"stroke: #FEFECE; stroke-width: 1.5;\" width=\"12\" x=\"74\" y=\"158.0986\"/><text fill=\"#000000\" font-family=\"sans-serif\" font-size=\"14\" lengthAdjust=\"spacingAndGlyphs\" textLength=\"7\" x=\"230.5\" y=\"20.7969\">v</text><rect fill=\"#A80036\" height=\"12\" style=\"stroke: #FEFECE; stroke-width: 1.5;\" width=\"12\" x=\"228\" y=\"36.0986\"/><text fill=\"#000000\" font-family=\"sans-serif\" font-size=\"14\" lengthAdjust=\"spacingAndGlyphs\" textLength=\"39\" x=\"458.5\" y=\"183.0938\">result</text><rect fill=\"#A80036\" height=\"12\" style=\"stroke: #FEFECE; stroke-width: 1.5;\" width=\"12\" x=\"472\" y=\"158.0986\"/><text fill=\"#000000\" font-family=\"sans-serif\" font-size=\"14\" lengthAdjust=\"spacingAndGlyphs\" textLength=\"37\" x=\"349.5\" y=\"211.0938\">mass</text><rect fill=\"#A80036\" height=\"12\" style=\"stroke: #FEFECE; stroke-width: 1.5;\" width=\"12\" x=\"362\" y=\"186.0986\"/><text fill=\"#000000\" font-family=\"sans-serif\" font-size=\"14\" lengthAdjust=\"spacingAndGlyphs\" textLength=\"7\" x=\"364.5\" y=\"60.2969\">v</text><rect fill=\"#A80036\" height=\"12\" style=\"stroke: #FEFECE; stroke-width: 1.5;\" width=\"12\" x=\"362\" y=\"75.5986\"/><text fill=\"#000000\" font-family=\"sans-serif\" font-size=\"14\" lengthAdjust=\"spacingAndGlyphs\" textLength=\"7\" x=\"567.5\" y=\"20.7969\">v</text><rect fill=\"#A80036\" height=\"12\" style=\"stroke: #FEFECE; stroke-width: 1.5;\" width=\"12\" x=\"565\" y=\"36.0986\"/><text fill=\"#000000\" font-family=\"sans-serif\" font-size=\"14\" lengthAdjust=\"spacingAndGlyphs\" textLength=\"39\" x=\"505.5\" y=\"183.0938\">result</text><rect fill=\"#A80036\" height=\"12\" style=\"stroke: #FEFECE; stroke-width: 1.5;\" width=\"12\" x=\"519\" y=\"158.0986\"/><!--MD5=[c73d31a5d986c52d5342d0ac55908fc9]\n",
       "@startuml\r\n",
       "skinparam ranksep 8\r\n",
       " \r\n",
       "rec def \"AnalysisCase\" as E1 << analysis def>> [[psysml:5016a817-b8b6-43b2-a1c9-71130e2545c5 ]] {\r\n",
       "portin \"v\" as E2  [[psysml:164c7fef-cc79-47d0-81ef-11274fabe5a7 ]] \r\n",
       "portout \"result\" as E3  [[psysml:6e4742d8-6cff-49ed-9a2e-48d7290da8ea ]] \r\n",
       "}\r\n",
       "\r\n",
       "rec def \"AnalysisPlan\" as E4 << analysis def>> [[psysml:0d28215e-abd0-4258-9ce4-d7487f47f154 ]] {\r\n",
       "portin \"v\" as E5  [[psysml:7943f1e5-2d26-4cd3-a00e-7357be36b5d6 ]] \r\n",
       "rec usage \"analysisCase\" as E6 << analysis>> [[psysml:0f757ff2-27a2-40d5-a25f-af43358ff77a ]] {\r\n",
       "portout \"mass\" as E7  [[psysml:ec31ed6f-aea4-4ab3-8935-1d2e29a82c61 ]] \r\n",
       "portin \"v\" as E8  [[psysml:1b55d686-bd3b-4923-8e60-8b313cbf92b9 ]] \r\n",
       "}\r\n",
       "\r\n",
       "portout \"result\" as E9  [[psysml:301e1961-b4b0-4f3f-9bd8-8820561614e6 ]] \r\n",
       "}\r\n",
       "\r\n",
       "rec usage \"analysisPlan\" as E10 << analysis>> [[psysml:9d8d7d87-8dd4-470f-9d18-cffbc3763f0c ]] {\r\n",
       "portin \"v\" as E11  [[psysml:fb21399e-f4a1-4dd2-99a6-b4e6906605c8 ]] \r\n",
       "portout \"result\" as E12  [[psysml:db81a387-1cd1-4bdf-be56-65aa7adff2a2 ]] \r\n",
       "}\r\n",
       "\r\n",
       "@enduml\r\n",
       "\n",
       "PlantUML version 1.2020.13(Sat Jun 13 12:26:38 UTC 2020)\n",
       "(EPL source distribution)\n",
       "Java Runtime: OpenJDK Runtime Environment\n",
       "JVM: OpenJDK 64-Bit Server VM\n",
       "Default Encoding: UTF-8\n",
       "Language: en\n",
       "Country: null\n",
       "--></g></svg>"
      ]
     },
     "execution_count": 34,
     "metadata": {},
     "output_type": "execute_result"
    }
   ],
   "source": [
    "%viz --style=\"PLANTUML\" --view=\"Action\" \"AnalysisTest\""
   ]
  },
  {
   "cell_type": "code",
   "execution_count": 35,
   "id": "8919bca5",
   "metadata": {
    "execution": {
     "iopub.execute_input": "2022-02-05T16:52:03.576541Z",
     "iopub.status.busy": "2022-02-05T16:52:03.576140Z",
     "iopub.status.idle": "2022-02-05T16:52:03.580712Z",
     "shell.execute_reply": "2022-02-05T16:52:03.580378Z"
    }
   },
   "outputs": [
    {
     "data": {
      "image/svg+xml": [
       "<?xml version=\"1.0\" encoding=\"UTF-8\" standalone=\"no\"?><svg xmlns=\"http://www.w3.org/2000/svg\" xmlns:xlink=\"http://www.w3.org/1999/xlink\" contentScriptType=\"application/ecmascript\" contentStyleType=\"text/css\" height=\"12px\" preserveAspectRatio=\"none\" style=\"width:12px;height:12px;\" version=\"1.1\" viewBox=\"0 0 12 12\" width=\"12px\" zoomAndPan=\"magnify\"><defs/><g><!--MD5=[ca4faa0b02def275ea33c14ea7a1a98d]\n",
       "@startuml\r\n",
       "skinparam roundcorner 20\r\n",
       "skinparam BoxPadding 20\r\n",
       "skinparam SequenceBoxBackgroundColor #white\r\n",
       "skinparam style strictuml\r\n",
       "skinparam maxMessageSize 100\r\n",
       " \r\n",
       "@enduml\r\n",
       "\n",
       "PlantUML version 1.2020.13(Sat Jun 13 12:26:38 UTC 2020)\n",
       "(EPL source distribution)\n",
       "Java Runtime: OpenJDK Runtime Environment\n",
       "JVM: OpenJDK 64-Bit Server VM\n",
       "Default Encoding: UTF-8\n",
       "Language: en\n",
       "Country: null\n",
       "--></g></svg>"
      ]
     },
     "execution_count": 35,
     "metadata": {},
     "output_type": "execute_result"
    }
   ],
   "source": [
    "%viz --style=\"PLANTUML\" --view=\"Sequence\" \"AnalysisTest\""
   ]
  },
  {
   "cell_type": "code",
   "execution_count": 36,
   "id": "7ea58abe",
   "metadata": {
    "execution": {
     "iopub.execute_input": "2022-02-05T16:52:03.630708Z",
     "iopub.status.busy": "2022-02-05T16:52:03.630312Z",
     "iopub.status.idle": "2022-02-05T16:52:03.692034Z",
     "shell.execute_reply": "2022-02-05T16:52:03.691679Z"
    }
   },
   "outputs": [
    {
     "data": {
      "image/svg+xml": [
       "<?xml version=\"1.0\" encoding=\"UTF-8\" standalone=\"no\"?><svg xmlns=\"http://www.w3.org/2000/svg\" xmlns:xlink=\"http://www.w3.org/1999/xlink\" contentScriptType=\"application/ecmascript\" contentStyleType=\"text/css\" height=\"687px\" preserveAspectRatio=\"none\" style=\"width:432px;height:687px;\" version=\"1.1\" viewBox=\"0 0 432 687\" width=\"432px\" zoomAndPan=\"magnify\"><defs><filter height=\"300%\" id=\"fb1rlekrr7pv2\" width=\"300%\" x=\"-1\" y=\"-1\"><feGaussianBlur result=\"blurOut\" stdDeviation=\"2.0\"/><feColorMatrix in=\"blurOut\" result=\"blurOut2\" type=\"matrix\" values=\"0 0 0 0 0 0 0 0 0 0 0 0 0 0 0 0 0 0 .4 0\"/><feOffset dx=\"4.0\" dy=\"4.0\" in=\"blurOut2\" result=\"blurOut3\"/><feBlend in=\"SourceGraphic\" in2=\"blurOut3\" mode=\"normal\"/></filter></defs><g><!--MD5=[fbc87193dbaf4d95561dea2c320d4a47]\n",
       "cluster E1--><a href=\"psysml:e1dfe890-ec15-4931-b288-05d8c66f0e23\" target=\"_top\" title=\"psysml:e1dfe890-ec15-4931-b288-05d8c66f0e23\" xlink:actuate=\"onRequest\" xlink:href=\"psysml:e1dfe890-ec15-4931-b288-05d8c66f0e23\" xlink:show=\"new\" xlink:title=\"psysml:e1dfe890-ec15-4931-b288-05d8c66f0e23\" xlink:type=\"simple\"><polygon fill=\"#FFFFFF\" filter=\"url(#fb1rlekrr7pv2)\" points=\"16,6,108,6,115,28.2969,410,28.2969,410,675,16,675,16,6\" style=\"stroke: #000000; stroke-width: 1.5;\"/><line style=\"stroke: #000000; stroke-width: 1.5;\" x1=\"16\" x2=\"115\" y1=\"28.2969\" y2=\"28.2969\"/><text fill=\"#000000\" font-family=\"sans-serif\" font-size=\"14\" font-weight=\"bold\" lengthAdjust=\"spacingAndGlyphs\" textLength=\"86\" x=\"20\" y=\"20.9951\">AnalysisTest</text></a><!--MD5=[14e3b0961a2654348d326746436168a1]\n",
       "cluster E6--><a href=\"psysml:0d28215e-abd0-4258-9ce4-d7487f47f154\" target=\"_top\" title=\"psysml:0d28215e-abd0-4258-9ce4-d7487f47f154\" xlink:actuate=\"onRequest\" xlink:href=\"psysml:0d28215e-abd0-4258-9ce4-d7487f47f154\" xlink:show=\"new\" xlink:title=\"psysml:0d28215e-abd0-4258-9ce4-d7487f47f154\" xlink:type=\"simple\"><rect fill=\"#FFFFFF\" filter=\"url(#fb1rlekrr7pv2)\" height=\"144\" id=\"E6\" style=\"stroke: #A80036; stroke-width: 1.5;\" width=\"330\" x=\"48\" y=\"267\"/><rect fill=\"#FEFECE\" height=\"37.9375\" style=\"stroke: #A80036; stroke-width: 1.5;\" width=\"330\" x=\"48\" y=\"267\"/><text fill=\"#000000\" font-family=\"sans-serif\" font-size=\"12\" font-style=\"italic\" lengthAdjust=\"spacingAndGlyphs\" textLength=\"88\" x=\"169\" y=\"283.1387\">«analysis def»</text><text fill=\"#000000\" font-family=\"sans-serif\" font-size=\"12\" lengthAdjust=\"spacingAndGlyphs\" textLength=\"77\" x=\"174.5\" y=\"297.1074\">AnalysisPlan</text></a><!--MD5=[b4997ac47864f28c2f74865a473b2911]\n",
       "class E2--><a href=\"psysml:e8de7c06-a552-45cc-9ef9-bdca622a4dc8\" target=\"_top\" title=\"psysml:e8de7c06-a552-45cc-9ef9-bdca622a4dc8\" xlink:actuate=\"onRequest\" xlink:href=\"psysml:e8de7c06-a552-45cc-9ef9-bdca622a4dc8\" xlink:show=\"new\" xlink:title=\"psysml:e8de7c06-a552-45cc-9ef9-bdca622a4dc8\" xlink:type=\"simple\"><rect fill=\"#FEFECE\" filter=\"url(#fb1rlekrr7pv2)\" height=\"69.6094\" id=\"E2\" style=\"stroke: #A80036; stroke-width: 1.5;\" width=\"70\" x=\"192\" y=\"589\"/><ellipse cx=\"220.5\" cy=\"605\" fill=\"#008000\" rx=\"11\" ry=\"11\" style=\"stroke: #A80036; stroke-width: 1.0;\"/><path d=\"M217.375,610 L217.375,599.4063 L220.6094,599.4063 Q222.5156,599.4063 223.4219,600.1563 Q224.3438,600.9063 224.3438,602.0781 Q224.3438,602.7656 223.9531,603.4219 Q223.5781,604.0781 222.8594,604.375 Q223.7188,604.75 224.2344,605.4375 Q224.75,606.125 224.75,606.9375 Q224.75,608.3125 223.7188,609.1563 Q222.7031,610 220.5938,610 L217.375,610 Z M219.2969,603.6406 L220.4531,603.6406 Q221.5781,603.6406 221.9844,603.2656 Q222.4063,602.875 222.4063,602.25 Q222.4063,601.6719 221.9844,601.3125 Q221.5625,600.9531 220.625,600.9531 L219.2969,600.9531 L219.2969,603.6406 Z M219.2969,608.4219 L220.7969,608.4219 Q221.7031,608.4219 222.2344,608.0313 Q222.7656,607.6406 222.7656,606.8906 Q222.7656,606.125 222.2656,605.6563 Q221.7656,605.1719 220.5,605.1719 L219.2969,605.1719 L219.2969,608.4219 Z \"/><text fill=\"#000000\" font-family=\"sans-serif\" font-size=\"12\" lengthAdjust=\"spacingAndGlyphs\" textLength=\"8\" x=\"237.5\" y=\"609.1543\">V</text><line style=\"stroke: #A80036; stroke-width: 1.5;\" x1=\"193\" x2=\"261\" y1=\"621\" y2=\"621\"/><text fill=\"#000000\" font-family=\"sans-serif\" font-size=\"11\" lengthAdjust=\"spacingAndGlyphs\" textLength=\"11\" x=\"198\" y=\"652.0151\">m</text><line style=\"stroke: #A80036; stroke-width: 1.0;\" x1=\"193\" x2=\"196\" y1=\"635.4023\" y2=\"635.4023\"/><text fill=\"#000000\" font-family=\"sans-serif\" font-size=\"11\" lengthAdjust=\"spacingAndGlyphs\" textLength=\"62\" x=\"196\" y=\"638.7104\">references</text><line style=\"stroke: #A80036; stroke-width: 1.0;\" x1=\"258\" x2=\"261\" y1=\"635.4023\" y2=\"635.4023\"/></a><!--MD5=[09b614a08d8cba4a07c9adeb5e0fee81]\n",
       "class E3--><a href=\"psysml:e405eddc-d04c-43ee-94c7-f68d6bd4037b\" target=\"_top\" title=\"psysml:e405eddc-d04c-43ee-94c7-f68d6bd4037b\" xlink:actuate=\"onRequest\" xlink:href=\"psysml:e405eddc-d04c-43ee-94c7-f68d6bd4037b\" xlink:show=\"new\" xlink:title=\"psysml:e405eddc-d04c-43ee-94c7-f68d6bd4037b\" xlink:type=\"simple\"><rect fill=\"#FEFECE\" filter=\"url(#fb1rlekrr7pv2)\" height=\"45.9375\" id=\"E3\" rx=\"10\" ry=\"10\" style=\"stroke: #A80036; stroke-width: 1.5;\" width=\"68\" x=\"323\" y=\"466\"/><ellipse cx=\"338\" cy=\"484.9688\" fill=\"#32CD32\" rx=\"11\" ry=\"11\" style=\"stroke: #A80036; stroke-width: 1.0;\"/><path d=\"M334.8125,489.9688 L334.8125,479.375 L338.4219,479.375 Q339.6406,479.375 340.4375,479.8125 Q341.2344,480.2344 341.6094,480.9375 Q342,481.6406 342,482.4844 Q342,483.3281 341.625,484.0156 Q341.2656,484.7031 340.4688,485.125 Q339.6875,485.5313 338.5,485.5313 L336.7656,485.5313 L336.7656,489.9688 L334.8125,489.9688 Z M336.7656,483.9375 L338.375,483.9375 Q339.1875,483.9375 339.6094,483.5313 Q340.0313,483.125 340.0313,482.4844 Q340.0313,481.8594 339.6094,481.4531 Q339.1875,481.0469 338.3906,481.0469 L336.7656,481.0469 L336.7656,483.9375 Z \"/><text fill=\"#000000\" font-family=\"sans-serif\" font-size=\"12\" font-style=\"italic\" lengthAdjust=\"spacingAndGlyphs\" textLength=\"40\" x=\"350\" y=\"482.1387\">«part»</text><text fill=\"#000000\" font-family=\"sans-serif\" font-size=\"12\" lengthAdjust=\"spacingAndGlyphs\" textLength=\"28\" x=\"354\" y=\"496.1074\">vv: V</text><line style=\"stroke: #A80036; stroke-width: 1.5;\" x1=\"324\" x2=\"390\" y1=\"503.9375\" y2=\"503.9375\"/></a><!--MD5=[ebbe1d658d1005bcc118a6aa81145e00]\n",
       "class E4--><a href=\"psysml:61935c6a-e9b2-427b-8e93-9f8ea2764a4f\" target=\"_top\" title=\"psysml:61935c6a-e9b2-427b-8e93-9f8ea2764a4f\" xlink:actuate=\"onRequest\" xlink:href=\"psysml:61935c6a-e9b2-427b-8e93-9f8ea2764a4f\" xlink:show=\"new\" xlink:title=\"psysml:61935c6a-e9b2-427b-8e93-9f8ea2764a4f\" xlink:type=\"simple\"><rect fill=\"#FEFECE\" filter=\"url(#fb1rlekrr7pv2)\" height=\"66.7422\" id=\"E4\" style=\"stroke: #A80036; stroke-width: 1.5;\" width=\"147\" x=\"223.5\" y=\"41\"/><ellipse cx=\"238.5\" cy=\"59.9688\" fill=\"#A52A2A\" rx=\"11\" ry=\"11\" style=\"stroke: #A80036; stroke-width: 1.0;\"/><path d=\"M235.7188,64.9688 L235.7188,54.375 L238.4531,54.375 Q239.8438,54.375 240.6094,54.7656 Q241.3906,55.1406 241.9219,55.8438 Q242.4531,56.5469 242.75,57.5469 Q243.0469,58.5313 243.0469,59.75 Q243,61.3438 242.5,62.5313 Q242.0156,63.7031 240.9688,64.3438 Q239.9375,64.9688 238.25,64.9688 L235.7188,64.9688 Z M237.5781,63.4688 L238.2031,63.4688 Q239.2813,63.4688 239.9375,63.0156 Q240.5938,62.5625 240.875,61.7344 Q241.1719,60.8906 241.1563,59.7656 Q241.1563,58.5938 240.9063,57.7344 Q240.6563,56.8594 240.0469,56.3906 Q239.4375,55.9063 238.3906,55.9063 L237.5781,55.9063 L237.5781,63.4688 Z \"/><text fill=\"#000000\" font-family=\"sans-serif\" font-size=\"12\" font-style=\"italic\" lengthAdjust=\"spacingAndGlyphs\" textLength=\"119\" x=\"250.5\" y=\"57.1387\">«requirement  def»</text><text fill=\"#000000\" font-family=\"sans-serif\" font-size=\"12\" lengthAdjust=\"spacingAndGlyphs\" textLength=\"107\" x=\"256.5\" y=\"71.1074\">AnalysisObjective</text><line style=\"stroke: #A80036; stroke-width: 1.5;\" x1=\"224.5\" x2=\"369.5\" y1=\"78.9375\" y2=\"78.9375\"/><text fill=\"#000000\" font-family=\"sans-serif\" font-size=\"11\" lengthAdjust=\"spacingAndGlyphs\" textLength=\"12\" x=\"229.5\" y=\"93.1479\">...</text><line style=\"stroke: #A80036; stroke-width: 1.0;\" x1=\"224.5\" x2=\"369.5\" y1=\"99.7422\" y2=\"99.7422\"/></a><!--MD5=[fd4143e9d270a159db93a4ea2a975926]\n",
       "class E9--><a href=\"psysml:b24749b9-9e77-4740-bd21-7fc3830bb957\" target=\"_top\" title=\"psysml:b24749b9-9e77-4740-bd21-7fc3830bb957\" xlink:actuate=\"onRequest\" xlink:href=\"psysml:b24749b9-9e77-4740-bd21-7fc3830bb957\" xlink:show=\"new\" xlink:title=\"psysml:b24749b9-9e77-4740-bd21-7fc3830bb957\" xlink:type=\"simple\"><rect fill=\"#FEFECE\" filter=\"url(#fb1rlekrr7pv2)\" height=\"45.9375\" id=\"E9\" rx=\"10\" ry=\"10\" style=\"stroke: #A80036; stroke-width: 1.5;\" width=\"134\" x=\"32\" y=\"51.5\"/><ellipse cx=\"47\" cy=\"70.4688\" fill=\"#32CD32\" rx=\"11\" ry=\"11\" style=\"stroke: #A80036; stroke-width: 1.0;\"/><path d=\"M43.8125,75.4688 L43.8125,64.875 L47.4219,64.875 Q48.6406,64.875 49.4375,65.3125 Q50.2344,65.7344 50.6094,66.4375 Q51,67.1406 51,67.9844 Q51,68.8281 50.625,69.5156 Q50.2656,70.2031 49.4688,70.625 Q48.6875,71.0313 47.5,71.0313 L45.7656,71.0313 L45.7656,75.4688 L43.8125,75.4688 Z M45.7656,69.4375 L47.375,69.4375 Q48.1875,69.4375 48.6094,69.0313 Q49.0313,68.625 49.0313,67.9844 Q49.0313,67.3594 48.6094,66.9531 Q48.1875,66.5469 47.3906,66.5469 L45.7656,66.5469 L45.7656,69.4375 Z \"/><text fill=\"#000000\" font-family=\"sans-serif\" font-size=\"12\" font-style=\"italic\" lengthAdjust=\"spacingAndGlyphs\" textLength=\"40\" x=\"92\" y=\"67.6387\">«part»</text><text fill=\"#000000\" font-family=\"sans-serif\" font-size=\"12\" lengthAdjust=\"spacingAndGlyphs\" textLength=\"98\" x=\"61\" y=\"81.6074\">analysisContext</text><line style=\"stroke: #A80036; stroke-width: 1.5;\" x1=\"33\" x2=\"165\" y1=\"89.4375\" y2=\"89.4375\"/></a><g id=\"E1.E5\"><a href=\"psysml:5016a817-b8b6-43b2-a1c9-71130e2545c5\" target=\"_top\" title=\"psysml:5016a817-b8b6-43b2-a1c9-71130e2545c5\" xlink:actuate=\"onRequest\" xlink:href=\"psysml:5016a817-b8b6-43b2-a1c9-71130e2545c5\" xlink:show=\"new\" xlink:title=\"psysml:5016a817-b8b6-43b2-a1c9-71130e2545c5\" xlink:type=\"simple\"><rect fill=\"#FEFECE\" filter=\"url(#fb1rlekrr7pv2)\" height=\"42.9375\" id=\"E5\" style=\"stroke: #A80036; stroke-width: 1.5;\" width=\"121\" x=\"166.5\" y=\"467.5\"/><ellipse cx=\"183.75\" cy=\"486.4688\" fill=\"#ADD1B2\" rx=\"11\" ry=\"11\" style=\"stroke: #A80036; stroke-width: 1.0;\"/><path d=\"M180.9688,491.4688 L180.9688,480.875 L183.7031,480.875 Q185.0938,480.875 185.8594,481.2656 Q186.6406,481.6406 187.1719,482.3438 Q187.7031,483.0469 188,484.0469 Q188.2969,485.0313 188.2969,486.25 Q188.25,487.8438 187.75,489.0313 Q187.2656,490.2031 186.2188,490.8438 Q185.1875,491.4688 183.5,491.4688 L180.9688,491.4688 Z M182.8281,489.9688 L183.4531,489.9688 Q184.5313,489.9688 185.1875,489.5156 Q185.8438,489.0625 186.125,488.2344 Q186.4219,487.3906 186.4063,486.2656 Q186.4063,485.0938 186.1563,484.2344 Q185.9063,483.3594 185.2969,482.8906 Q184.6875,482.4063 183.6406,482.4063 L182.8281,482.4063 L182.8281,489.9688 Z \"/><text fill=\"#000000\" font-family=\"sans-serif\" font-size=\"12\" font-style=\"italic\" lengthAdjust=\"spacingAndGlyphs\" textLength=\"88\" x=\"196.25\" y=\"483.6387\">«analysis def»</text><text fill=\"#000000\" font-family=\"sans-serif\" font-size=\"12\" lengthAdjust=\"spacingAndGlyphs\" textLength=\"81\" x=\"199.75\" y=\"497.6074\">AnalysisCase</text></a></g><!--MD5=[2156ba9850f5573cc1fc38a6a4b2f02b]\n",
       "class E7--><a href=\"psysml:317ace64-a3b7-4095-b75a-9c551641bbd2\" target=\"_top\" title=\"psysml:317ace64-a3b7-4095-b75a-9c551641bbd2\" xlink:actuate=\"onRequest\" xlink:href=\"psysml:317ace64-a3b7-4095-b75a-9c551641bbd2\" xlink:show=\"new\" xlink:title=\"psysml:317ace64-a3b7-4095-b75a-9c551641bbd2\" xlink:type=\"simple\"><rect fill=\"#FEFECE\" filter=\"url(#fb1rlekrr7pv2)\" height=\"60.8047\" id=\"E7\" rx=\"10\" ry=\"10\" style=\"stroke: #A80036; stroke-width: 1.5;\" width=\"110\" x=\"244\" y=\"326\"/><ellipse cx=\"259\" cy=\"342\" fill=\"#B6DBBB\" rx=\"11\" ry=\"11\" style=\"stroke: #A80036; stroke-width: 1.0;\"/><path d=\"M258.75,347.4688 Q257,347.4688 256.0469,346.4375 Q255.1094,345.3906 255.1094,343.5469 L255.1094,336.6563 L257.1719,336.6563 L257.1719,336.8125 Q257.0781,336.9063 257.0469,337.0469 Q257.0313,337.1719 257.0313,337.4375 L257.0313,343.5625 Q257.0313,344.6563 257.4063,345.2813 Q257.7813,345.9063 258.7656,345.9063 Q259.75,345.9063 260.1406,345.2813 Q260.5313,344.6563 260.5313,343.5156 L260.5313,336.6563 L262.4063,336.6563 L262.4063,343.5 Q262.4063,345.5313 261.375,346.5 Q260.3594,347.4688 258.75,347.4688 Z \"/><text fill=\"#000000\" font-family=\"sans-serif\" font-size=\"12\" lengthAdjust=\"spacingAndGlyphs\" textLength=\"70\" x=\"277\" y=\"346.1543\">«objective»</text><line style=\"stroke: #A80036; stroke-width: 1.5;\" x1=\"245\" x2=\"353\" y1=\"358\" y2=\"358\"/><text fill=\"#000000\" font-family=\"sans-serif\" font-size=\"11\" lengthAdjust=\"spacingAndGlyphs\" textLength=\"12\" x=\"250\" y=\"372.2104\">...</text><line style=\"stroke: #A80036; stroke-width: 1.0;\" x1=\"245\" x2=\"353\" y1=\"378.8047\" y2=\"378.8047\"/></a><g id=\"E1.E6.E8\"><a href=\"psysml:0f757ff2-27a2-40d5-a25f-af43358ff77a\" target=\"_top\" title=\"psysml:0f757ff2-27a2-40d5-a25f-af43358ff77a\" xlink:actuate=\"onRequest\" xlink:href=\"psysml:0f757ff2-27a2-40d5-a25f-af43358ff77a\" xlink:show=\"new\" xlink:title=\"psysml:0f757ff2-27a2-40d5-a25f-af43358ff77a\" xlink:type=\"simple\"><rect fill=\"#FEFECE\" filter=\"url(#fb1rlekrr7pv2)\" height=\"42.9375\" id=\"E8\" rx=\"10\" ry=\"10\" style=\"stroke: #A80036; stroke-width: 1.5;\" width=\"118\" x=\"91\" y=\"335\"/><ellipse cx=\"108.25\" cy=\"353.9688\" fill=\"#B6DBBB\" rx=\"11\" ry=\"11\" style=\"stroke: #A80036; stroke-width: 1.0;\"/><path d=\"M108,359.4375 Q106.25,359.4375 105.2969,358.4063 Q104.3594,357.3594 104.3594,355.5156 L104.3594,348.625 L106.4219,348.625 L106.4219,348.7813 Q106.3281,348.875 106.2969,349.0156 Q106.2813,349.1406 106.2813,349.4063 L106.2813,355.5313 Q106.2813,356.625 106.6563,357.25 Q107.0313,357.875 108.0156,357.875 Q109,357.875 109.3906,357.25 Q109.7813,356.625 109.7813,355.4844 L109.7813,348.625 L111.6563,348.625 L111.6563,355.4688 Q111.6563,357.5 110.625,358.4688 Q109.6094,359.4375 108,359.4375 Z \"/><text fill=\"#000000\" font-family=\"sans-serif\" font-size=\"12\" font-style=\"italic\" lengthAdjust=\"spacingAndGlyphs\" textLength=\"64\" x=\"131.25\" y=\"351.1387\">«analysis»</text><text fill=\"#000000\" font-family=\"sans-serif\" font-size=\"12\" lengthAdjust=\"spacingAndGlyphs\" textLength=\"81\" x=\"122.75\" y=\"365.1074\">analysisCase</text></a></g><g id=\"E1.E10\"><a href=\"psysml:9d8d7d87-8dd4-470f-9d18-cffbc3763f0c\" target=\"_top\" title=\"psysml:9d8d7d87-8dd4-470f-9d18-cffbc3763f0c\" xlink:actuate=\"onRequest\" xlink:href=\"psysml:9d8d7d87-8dd4-470f-9d18-cffbc3763f0c\" xlink:show=\"new\" xlink:title=\"psysml:9d8d7d87-8dd4-470f-9d18-cffbc3763f0c\" xlink:type=\"simple\"><rect fill=\"#FEFECE\" filter=\"url(#fb1rlekrr7pv2)\" height=\"42.9375\" id=\"E10\" rx=\"10\" ry=\"10\" style=\"stroke: #A80036; stroke-width: 1.5;\" width=\"114\" x=\"37\" y=\"169\"/><ellipse cx=\"54.25\" cy=\"187.9688\" fill=\"#B6DBBB\" rx=\"11\" ry=\"11\" style=\"stroke: #A80036; stroke-width: 1.0;\"/><path d=\"M54,193.4375 Q52.25,193.4375 51.2969,192.4063 Q50.3594,191.3594 50.3594,189.5156 L50.3594,182.625 L52.4219,182.625 L52.4219,182.7813 Q52.3281,182.875 52.2969,183.0156 Q52.2813,183.1406 52.2813,183.4063 L52.2813,189.5313 Q52.2813,190.625 52.6563,191.25 Q53.0313,191.875 54.0156,191.875 Q55,191.875 55.3906,191.25 Q55.7813,190.625 55.7813,189.4844 L55.7813,182.625 L57.6563,182.625 L57.6563,189.4688 Q57.6563,191.5 56.625,192.4688 Q55.6094,193.4375 54,193.4375 Z \"/><text fill=\"#000000\" font-family=\"sans-serif\" font-size=\"12\" font-style=\"italic\" lengthAdjust=\"spacingAndGlyphs\" textLength=\"64\" x=\"75.25\" y=\"185.1387\">«analysis»</text><text fill=\"#000000\" font-family=\"sans-serif\" font-size=\"12\" lengthAdjust=\"spacingAndGlyphs\" textLength=\"77\" x=\"68.75\" y=\"199.1074\">analysisPlan</text></a></g><!--MD5=[05d275557350bfb9b23a4ef7222b4c39]\n",
       "link E3 to E2--><a href=\"psysml:f45a4065-dcd9-4d0e-be10-466e9a1a32d6\" target=\"_top\" title=\"psysml:f45a4065-dcd9-4d0e-be10-466e9a1a32d6\" xlink:actuate=\"onRequest\" xlink:href=\"psysml:f45a4065-dcd9-4d0e-be10-466e9a1a32d6\" xlink:show=\"new\" xlink:title=\"psysml:f45a4065-dcd9-4d0e-be10-466e9a1a32d6\" xlink:type=\"simple\"><path d=\"M339.75,512.15 C328.6,526.04 313.51,544.08 299,559 C292.21,565.98 284.79,573.09 277.38,579.91 \" fill=\"none\" id=\"E3-&gt;E2\" style=\"stroke: #A80036; stroke-width: 1.0;\"/><polygon fill=\"#FFFFFF\" points=\"262.36,593.38,271.8265,575.4807,281.1765,585.9007,262.36,593.38\" style=\"stroke: #A80036; stroke-width: 1.0;\"/><ellipse cx=\"277.4046\" cy=\"573.1624\" fill=\"#A80036\" rx=\"2\" ry=\"2\" style=\"stroke: #A80036; stroke-width: 1.0;\"/><ellipse cx=\"284.0832\" cy=\"580.6053\" fill=\"#A80036\" rx=\"2\" ry=\"2\" style=\"stroke: #A80036; stroke-width: 1.0;\"/></a><!--MD5=[15ebcb19ae302d9b601edb458606d402]\n",
       "link E5 to E2--><a href=\"psysml:4ce798b4-e7f7-45ac-94f6-a9dc23ec95c2\" target=\"_top\" title=\"psysml:4ce798b4-e7f7-45ac-94f6-a9dc23ec95c2\" xlink:actuate=\"onRequest\" xlink:href=\"psysml:4ce798b4-e7f7-45ac-94f6-a9dc23ec95c2\" xlink:show=\"new\" xlink:title=\"psysml:4ce798b4-e7f7-45ac-94f6-a9dc23ec95c2\" xlink:type=\"simple\"><path d=\"M227,510.78 C227,530.29 227,559.97 227,583.91 \" fill=\"none\" id=\"E5-&gt;E2\" style=\"stroke: #A80036; stroke-width: 1.0; stroke-dasharray: 7.0,7.0;\"/><polygon fill=\"#A80036\" points=\"227,588.92,231,579.92,227,583.92,223,579.92,227,588.92\" style=\"stroke: #A80036; stroke-width: 1.0;\"/><text fill=\"#000000\" font-family=\"sans-serif\" font-size=\"13\" lengthAdjust=\"spacingAndGlyphs\" textLength=\"62\" x=\"228\" y=\"555.0669\">«subject»</text></a><!--MD5=[2351f337d6de0f557b50152ba70847b5]\n",
       "link E6 to E2--><a href=\"psysml:38ee38e5-fe2f-49e8-a238-8ef961814591\" target=\"_top\" title=\"psysml:38ee38e5-fe2f-49e8-a238-8ef961814591\" xlink:actuate=\"onRequest\" xlink:href=\"psysml:38ee38e5-fe2f-49e8-a238-8ef961814591\" xlink:show=\"new\" xlink:title=\"psysml:38ee38e5-fe2f-49e8-a238-8ef961814591\" xlink:type=\"simple\"><path d=\"M56.8234,411.6689 C56.8438,411.9077 56.8644,412.1469 56.8852,412.3866 C56.927,412.866 56.9698,413.3471 57.0138,413.83 C59.825,444.7325 67.13,482.62 85,512 C109.49,552.26 154.3,583.57 187.06,602.52 \" fill=\"none\" id=\"E6-&gt;E2\" style=\"stroke: #A80036; stroke-width: 1.0; stroke-dasharray: 7.0,7.0;\"/><polygon fill=\"#A80036\" points=\"191.8,605.22,185.9563,597.2921,187.4544,602.747,181.9995,604.2451,191.8,605.22\" style=\"stroke: #A80036; stroke-width: 1.0;\"/><text fill=\"#000000\" font-family=\"sans-serif\" font-size=\"13\" lengthAdjust=\"spacingAndGlyphs\" textLength=\"62\" x=\"86\" y=\"493.5669\">«subject»</text></a><!--MD5=[1ccb2481ffa92f8d51a74ee30c51832a]\n",
       "link E8 to E5--><a href=\"psysml:cf5e8ef0-758f-412b-8419-a299a9750eac\" target=\"_top\" title=\"psysml:cf5e8ef0-758f-412b-8419-a299a9750eac\" xlink:actuate=\"onRequest\" xlink:href=\"psysml:cf5e8ef0-758f-412b-8419-a299a9750eac\" xlink:show=\"new\" xlink:title=\"psysml:cf5e8ef0-758f-412b-8419-a299a9750eac\" xlink:type=\"simple\"><path d=\"M162.2,378.18 C173.58,397.46 190.82,426.69 204.66,450.14 \" fill=\"none\" id=\"E8-&gt;E5\" style=\"stroke: #A80036; stroke-width: 1.0;\"/><polygon fill=\"#FFFFFF\" points=\"214.86,467.42,199.1805,454.6077,211.2407,447.4976,214.86,467.42\" style=\"stroke: #A80036; stroke-width: 1.0;\"/><ellipse cx=\"198.0086\" cy=\"448.6818\" fill=\"#A80036\" rx=\"2\" ry=\"2\" style=\"stroke: #A80036; stroke-width: 1.0;\"/><ellipse cx=\"206.623\" cy=\"443.6032\" fill=\"#A80036\" rx=\"2\" ry=\"2\" style=\"stroke: #A80036; stroke-width: 1.0;\"/></a><!--MD5=[198716bf12f04006f5c20d61bde6d80d]\n",
       "link E10 to E6--><a href=\"psysml:4172c94c-9fb8-4464-b137-e530fc31134b\" target=\"_top\" title=\"psysml:4172c94c-9fb8-4464-b137-e530fc31134b\" xlink:actuate=\"onRequest\" xlink:href=\"psysml:4172c94c-9fb8-4464-b137-e530fc31134b\" xlink:show=\"new\" xlink:title=\"psysml:4172c94c-9fb8-4464-b137-e530fc31134b\" xlink:type=\"simple\"><path d=\"M86.65,212.24 C82.81,223.59 78.25,237.95 75,251 C74.2969,253.8181 73.6084,256.685 72.9353,259.5841 C72.5988,261.0336 72.2661,262.4911 71.9375,263.9546 C71.7731,264.6864 71.6098,265.4196 71.4474,266.1541 C71.4069,266.3377 71.3663,266.5214 71.3259,266.7051 \" fill=\"none\" id=\"E10-&gt;E6\" style=\"stroke: #A80036; stroke-width: 1.0;\"/><polygon fill=\"#FFFFFF\" points=\"71.3259,266.7051,68.5749,246.6444,82.2474,249.6546,71.3259,266.7051\" style=\"stroke: #A80036; stroke-width: 1.0;\"/><ellipse cx=\"71.7537\" cy=\"241.5078\" fill=\"#A80036\" rx=\"2\" ry=\"2\" style=\"stroke: #A80036; stroke-width: 1.0;\"/><ellipse cx=\"81.5198\" cy=\"243.6579\" fill=\"#A80036\" rx=\"2\" ry=\"2\" style=\"stroke: #A80036; stroke-width: 1.0;\"/></a><!--MD5=[23ac544a70576c3e717098101004234c]\n",
       "reverse link E9 to E10--><a href=\"psysml:9d8d7d87-8dd4-470f-9d18-cffbc3763f0c\" target=\"_top\" title=\"psysml:9d8d7d87-8dd4-470f-9d18-cffbc3763f0c\" xlink:actuate=\"onRequest\" xlink:href=\"psysml:9d8d7d87-8dd4-470f-9d18-cffbc3763f0c\" xlink:show=\"new\" xlink:title=\"psysml:9d8d7d87-8dd4-470f-9d18-cffbc3763f0c\" xlink:type=\"simple\"><path d=\"M97.45,110.8 C96.62,129.84 95.61,152.68 94.91,168.84 \" fill=\"none\" id=\"E9&lt;-E10\" style=\"stroke: #A80036; stroke-width: 1.0;\"/><polygon fill=\"#A80036\" points=\"98.02,97.75,93.7601,103.5684,97.4925,109.7384,101.7524,103.92,98.02,97.75\" style=\"stroke: #A80036; stroke-width: 1.0;\"/></a><!--MD5=[0ce1f64064598fea5b8ddae78c90ce50]\n",
       "@startuml\r\n",
       " \r\n",
       "package \"AnalysisTest\" as E1  [[psysml:e1dfe890-ec15-4931-b288-05d8c66f0e23 ]]  {\r\n",
       "comp def \"V\" as E2 << << (B,green) >> [[psysml:e8de7c06-a552-45cc-9ef9-bdca622a4dc8 ]] {\r\n",
       "- - references - -\r\n",
       "m\r\n",
       "}\r\n",
       "comp usage \"vv: V \" as E3 << << (P,limegreen) part>> [[psysml:e405eddc-d04c-43ee-94c7-f68d6bd4037b ]] {\r\n",
       "}\r\n",
       "comp def \"AnalysisObjective\" as E4 << <<(D,brown) requirement  def>> [[psysml:61935c6a-e9b2-427b-8e93-9f8ea2764a4f ]] {\r\n",
       "...\r\n",
       "- -\r\n",
       "}\r\n",
       "rec def \"AnalysisCase\" as E5 << analysis def>> [[psysml:5016a817-b8b6-43b2-a1c9-71130e2545c5 ]] {\r\n",
       "}\r\n",
       "rec def \"AnalysisPlan\" as E6 << analysis def>> [[psysml:0d28215e-abd0-4258-9ce4-d7487f47f154 ]] {\r\n",
       "comp usage \" <U+00AB>objective<U+00BB> \" as E7 [[psysml:317ace64-a3b7-4095-b75a-9c551641bbd2 ]] {\r\n",
       "...\r\n",
       "- -\r\n",
       "}\r\n",
       "rec usage \"analysisCase\" as E8 << analysis>> [[psysml:0f757ff2-27a2-40d5-a25f-af43358ff77a ]] {\r\n",
       "}\r\n",
       "}\r\n",
       "comp usage \"analysisContext \" as E9 << << (P,limegreen) part>> [[psysml:b24749b9-9e77-4740-bd21-7fc3830bb957 ]] {\r\n",
       "}\r\n",
       "rec usage \"analysisPlan\" as E10 << analysis>> [[psysml:9d8d7d87-8dd4-470f-9d18-cffbc3763f0c ]] {\r\n",
       "}\r\n",
       "}\r\n",
       "E3 - -:|> E2 [[psysml:f45a4065-dcd9-4d0e-be10-466e9a1a32d6 ]] \r\n",
       "E5 ..> E2 [[psysml:4ce798b4-e7f7-45ac-94f6-a9dc23ec95c2 ]] : <<subject>>\r\n",
       "E6 ..> E2 [[psysml:38ee38e5-fe2f-49e8-a238-8ef961814591 ]] : <<subject>>\r\n",
       "E8 - -:|> E5 [[psysml:cf5e8ef0-758f-412b-8419-a299a9750eac ]] \r\n",
       "E10 - -:|> E6 [[psysml:4172c94c-9fb8-4464-b137-e530fc31134b ]] \r\n",
       "E9 *- - E10 [[psysml:9d8d7d87-8dd4-470f-9d18-cffbc3763f0c ]] \r\n",
       "@enduml\r\n",
       "\n",
       "PlantUML version 1.2020.13(Sat Jun 13 12:26:38 UTC 2020)\n",
       "(EPL source distribution)\n",
       "Java Runtime: OpenJDK Runtime Environment\n",
       "JVM: OpenJDK 64-Bit Server VM\n",
       "Default Encoding: UTF-8\n",
       "Language: en\n",
       "Country: null\n",
       "--></g></svg>"
      ]
     },
     "execution_count": 36,
     "metadata": {},
     "output_type": "execute_result"
    }
   ],
   "source": [
    "%viz --style=\"PLANTUML\" --view=\"MIXED\" \"AnalysisTest\""
   ]
  },
  {
   "cell_type": "code",
   "execution_count": 37,
   "id": "d7084bb8",
   "metadata": {
    "execution": {
     "iopub.execute_input": "2022-02-05T16:52:03.741622Z",
     "iopub.status.busy": "2022-02-05T16:52:03.741225Z",
     "iopub.status.idle": "2022-02-05T16:52:03.800941Z",
     "shell.execute_reply": "2022-02-05T16:52:03.799620Z"
    }
   },
   "outputs": [
    {
     "data": {
      "image/svg+xml": [
       "<?xml version=\"1.0\" encoding=\"UTF-8\" standalone=\"no\"?><svg xmlns=\"http://www.w3.org/2000/svg\" xmlns:xlink=\"http://www.w3.org/1999/xlink\" contentScriptType=\"application/ecmascript\" contentStyleType=\"text/css\" height=\"685px\" preserveAspectRatio=\"none\" style=\"width:380px;height:685px;\" version=\"1.1\" viewBox=\"0 0 380 685\" width=\"380px\" zoomAndPan=\"magnify\"><defs/><g><!--MD5=[fbc87193dbaf4d95561dea2c320d4a47]\n",
       "cluster E1--><a href=\"psysml:e1dfe890-ec15-4931-b288-05d8c66f0e23\" target=\"_top\" title=\"psysml:e1dfe890-ec15-4931-b288-05d8c66f0e23\" xlink:actuate=\"onRequest\" xlink:href=\"psysml:e1dfe890-ec15-4931-b288-05d8c66f0e23\" xlink:show=\"new\" xlink:title=\"psysml:e1dfe890-ec15-4931-b288-05d8c66f0e23\" xlink:type=\"simple\"><polygon fill=\"#FFFFFF\" points=\"16,6,108,6,115,28.2969,358,28.2969,358,673,16,673,16,6\" style=\"stroke: #000000; stroke-width: 1.5;\"/><line style=\"stroke: #000000; stroke-width: 1.5;\" x1=\"16\" x2=\"115\" y1=\"28.2969\" y2=\"28.2969\"/><text fill=\"#000000\" font-family=\"sans-serif\" font-size=\"14\" font-weight=\"bold\" lengthAdjust=\"spacingAndGlyphs\" textLength=\"86\" x=\"20\" y=\"20.9951\">AnalysisTest</text></a><!--MD5=[14e3b0961a2654348d326746436168a1]\n",
       "cluster E6--><a href=\"psysml:0d28215e-abd0-4258-9ce4-d7487f47f154\" target=\"_top\" title=\"psysml:0d28215e-abd0-4258-9ce4-d7487f47f154\" xlink:actuate=\"onRequest\" xlink:href=\"psysml:0d28215e-abd0-4258-9ce4-d7487f47f154\" xlink:show=\"new\" xlink:title=\"psysml:0d28215e-abd0-4258-9ce4-d7487f47f154\" xlink:type=\"simple\"><rect fill=\"#FFFFFF\" height=\"136\" id=\"E6\" style=\"stroke: #383838; stroke-width: 1.5;\" width=\"278\" x=\"48\" y=\"267\"/><rect fill=\"#F8F8F8\" height=\"37.9375\" style=\"stroke: #383838; stroke-width: 1.5;\" width=\"278\" x=\"48\" y=\"267\"/><text fill=\"#000000\" font-family=\"sans-serif\" font-size=\"12\" font-style=\"italic\" lengthAdjust=\"spacingAndGlyphs\" textLength=\"88\" x=\"143\" y=\"283.1387\">«analysis def»</text><text fill=\"#000000\" font-family=\"sans-serif\" font-size=\"12\" lengthAdjust=\"spacingAndGlyphs\" textLength=\"77\" x=\"148.5\" y=\"297.1074\">AnalysisPlan</text></a><!--MD5=[b4997ac47864f28c2f74865a473b2911]\n",
       "class E2--><a href=\"psysml:e8de7c06-a552-45cc-9ef9-bdca622a4dc8\" target=\"_top\" title=\"psysml:e8de7c06-a552-45cc-9ef9-bdca622a4dc8\" xlink:actuate=\"onRequest\" xlink:href=\"psysml:e8de7c06-a552-45cc-9ef9-bdca622a4dc8\" xlink:show=\"new\" xlink:title=\"psysml:e8de7c06-a552-45cc-9ef9-bdca622a4dc8\" xlink:type=\"simple\"><rect fill=\"#FFFFFF\" height=\"75.5469\" id=\"E2\" style=\"stroke: #383838; stroke-width: 1.5;\" width=\"70\" x=\"179\" y=\"581\"/><text fill=\"#000000\" font-family=\"sans-serif\" font-size=\"12\" font-style=\"italic\" lengthAdjust=\"spacingAndGlyphs\" textLength=\"68\" x=\"180\" y=\"597.1387\">«part  def»</text><text fill=\"#000000\" font-family=\"sans-serif\" font-size=\"12\" lengthAdjust=\"spacingAndGlyphs\" textLength=\"8\" x=\"210\" y=\"611.1074\">V</text><line style=\"stroke: #383838; stroke-width: 1.5;\" x1=\"180\" x2=\"248\" y1=\"618.9375\" y2=\"618.9375\"/><text fill=\"#000000\" font-family=\"sans-serif\" font-size=\"11\" lengthAdjust=\"spacingAndGlyphs\" textLength=\"11\" x=\"185\" y=\"649.9526\">m</text><line style=\"stroke: #383838; stroke-width: 1.0;\" x1=\"180\" x2=\"183\" y1=\"633.3398\" y2=\"633.3398\"/><text fill=\"#000000\" font-family=\"sans-serif\" font-size=\"11\" lengthAdjust=\"spacingAndGlyphs\" textLength=\"62\" x=\"183\" y=\"636.6479\">references</text><line style=\"stroke: #383838; stroke-width: 1.0;\" x1=\"245\" x2=\"248\" y1=\"633.3398\" y2=\"633.3398\"/></a><!--MD5=[09b614a08d8cba4a07c9adeb5e0fee81]\n",
       "class E3--><a href=\"psysml:e405eddc-d04c-43ee-94c7-f68d6bd4037b\" target=\"_top\" title=\"psysml:e405eddc-d04c-43ee-94c7-f68d6bd4037b\" xlink:actuate=\"onRequest\" xlink:href=\"psysml:e405eddc-d04c-43ee-94c7-f68d6bd4037b\" xlink:show=\"new\" xlink:title=\"psysml:e405eddc-d04c-43ee-94c7-f68d6bd4037b\" xlink:type=\"simple\"><rect fill=\"#FFFFFF\" height=\"45.9375\" id=\"E3\" rx=\"10\" ry=\"10\" style=\"stroke: #383838; stroke-width: 1.5;\" width=\"42\" x=\"297\" y=\"458\"/><text fill=\"#000000\" font-family=\"sans-serif\" font-size=\"12\" font-style=\"italic\" lengthAdjust=\"spacingAndGlyphs\" textLength=\"40\" x=\"298\" y=\"474.1387\">«part»</text><text fill=\"#000000\" font-family=\"sans-serif\" font-size=\"12\" lengthAdjust=\"spacingAndGlyphs\" textLength=\"28\" x=\"302\" y=\"488.1074\">vv: V</text><line style=\"stroke: #383838; stroke-width: 1.5;\" x1=\"298\" x2=\"338\" y1=\"495.9375\" y2=\"495.9375\"/></a><!--MD5=[ebbe1d658d1005bcc118a6aa81145e00]\n",
       "class E4--><a href=\"psysml:61935c6a-e9b2-427b-8e93-9f8ea2764a4f\" target=\"_top\" title=\"psysml:61935c6a-e9b2-427b-8e93-9f8ea2764a4f\" xlink:actuate=\"onRequest\" xlink:href=\"psysml:61935c6a-e9b2-427b-8e93-9f8ea2764a4f\" xlink:show=\"new\" xlink:title=\"psysml:61935c6a-e9b2-427b-8e93-9f8ea2764a4f\" xlink:type=\"simple\"><rect fill=\"#FFFFFF\" height=\"66.7422\" id=\"E4\" style=\"stroke: #383838; stroke-width: 1.5;\" width=\"121\" x=\"197.5\" y=\"41\"/><text fill=\"#000000\" font-family=\"sans-serif\" font-size=\"12\" font-style=\"italic\" lengthAdjust=\"spacingAndGlyphs\" textLength=\"119\" x=\"198.5\" y=\"57.1387\">«requirement  def»</text><text fill=\"#000000\" font-family=\"sans-serif\" font-size=\"12\" lengthAdjust=\"spacingAndGlyphs\" textLength=\"107\" x=\"204.5\" y=\"71.1074\">AnalysisObjective</text><line style=\"stroke: #383838; stroke-width: 1.5;\" x1=\"198.5\" x2=\"317.5\" y1=\"78.9375\" y2=\"78.9375\"/><text fill=\"#000000\" font-family=\"sans-serif\" font-size=\"11\" lengthAdjust=\"spacingAndGlyphs\" textLength=\"12\" x=\"203.5\" y=\"93.1479\">...</text><line style=\"stroke: #383838; stroke-width: 1.0;\" x1=\"198.5\" x2=\"317.5\" y1=\"99.7422\" y2=\"99.7422\"/></a><!--MD5=[fd4143e9d270a159db93a4ea2a975926]\n",
       "class E9--><a href=\"psysml:b24749b9-9e77-4740-bd21-7fc3830bb957\" target=\"_top\" title=\"psysml:b24749b9-9e77-4740-bd21-7fc3830bb957\" xlink:actuate=\"onRequest\" xlink:href=\"psysml:b24749b9-9e77-4740-bd21-7fc3830bb957\" xlink:show=\"new\" xlink:title=\"psysml:b24749b9-9e77-4740-bd21-7fc3830bb957\" xlink:type=\"simple\"><rect fill=\"#FFFFFF\" height=\"45.9375\" id=\"E9\" rx=\"10\" ry=\"10\" style=\"stroke: #383838; stroke-width: 1.5;\" width=\"108\" x=\"32\" y=\"51.5\"/><text fill=\"#000000\" font-family=\"sans-serif\" font-size=\"12\" font-style=\"italic\" lengthAdjust=\"spacingAndGlyphs\" textLength=\"40\" x=\"66\" y=\"67.6387\">«part»</text><text fill=\"#000000\" font-family=\"sans-serif\" font-size=\"12\" lengthAdjust=\"spacingAndGlyphs\" textLength=\"98\" x=\"35\" y=\"81.6074\">analysisContext</text><line style=\"stroke: #383838; stroke-width: 1.5;\" x1=\"33\" x2=\"139\" y1=\"89.4375\" y2=\"89.4375\"/></a><g id=\"E1.E5\"><a href=\"psysml:5016a817-b8b6-43b2-a1c9-71130e2545c5\" target=\"_top\" title=\"psysml:5016a817-b8b6-43b2-a1c9-71130e2545c5\" xlink:actuate=\"onRequest\" xlink:href=\"psysml:5016a817-b8b6-43b2-a1c9-71130e2545c5\" xlink:show=\"new\" xlink:title=\"psysml:5016a817-b8b6-43b2-a1c9-71130e2545c5\" xlink:type=\"simple\"><rect fill=\"#FFFFFF\" height=\"42.9375\" id=\"E5\" style=\"stroke: #383838; stroke-width: 1.5;\" width=\"95\" x=\"166.5\" y=\"459.5\"/><rect fill=\"#F8F8F8\" height=\"37.9375\" style=\"stroke: #383838; stroke-width: 1.5;\" width=\"95\" x=\"166.5\" y=\"459.5\"/><text fill=\"#000000\" font-family=\"sans-serif\" font-size=\"12\" font-style=\"italic\" lengthAdjust=\"spacingAndGlyphs\" textLength=\"88\" x=\"170\" y=\"475.6387\">«analysis def»</text><text fill=\"#000000\" font-family=\"sans-serif\" font-size=\"12\" lengthAdjust=\"spacingAndGlyphs\" textLength=\"81\" x=\"173.5\" y=\"489.6074\">AnalysisCase</text></a></g><!--MD5=[2156ba9850f5573cc1fc38a6a4b2f02b]\n",
       "class E7--><a href=\"psysml:317ace64-a3b7-4095-b75a-9c551641bbd2\" target=\"_top\" title=\"psysml:317ace64-a3b7-4095-b75a-9c551641bbd2\" xlink:actuate=\"onRequest\" xlink:href=\"psysml:317ace64-a3b7-4095-b75a-9c551641bbd2\" xlink:show=\"new\" xlink:title=\"psysml:317ace64-a3b7-4095-b75a-9c551641bbd2\" xlink:type=\"simple\"><rect fill=\"#FFFFFF\" height=\"52.7734\" id=\"E7\" rx=\"10\" ry=\"10\" style=\"stroke: #383838; stroke-width: 1.5;\" width=\"84\" x=\"218\" y=\"326\"/><text fill=\"#000000\" font-family=\"sans-serif\" font-size=\"12\" lengthAdjust=\"spacingAndGlyphs\" textLength=\"70\" x=\"225\" y=\"342.1387\">«objective»</text><line style=\"stroke: #383838; stroke-width: 1.5;\" x1=\"219\" x2=\"301\" y1=\"349.9688\" y2=\"349.9688\"/><text fill=\"#000000\" font-family=\"sans-serif\" font-size=\"11\" lengthAdjust=\"spacingAndGlyphs\" textLength=\"12\" x=\"224\" y=\"364.1792\">...</text><line style=\"stroke: #383838; stroke-width: 1.0;\" x1=\"219\" x2=\"301\" y1=\"370.7734\" y2=\"370.7734\"/></a><g id=\"E1.E6.E8\"><a href=\"psysml:0f757ff2-27a2-40d5-a25f-af43358ff77a\" target=\"_top\" title=\"psysml:0f757ff2-27a2-40d5-a25f-af43358ff77a\" xlink:actuate=\"onRequest\" xlink:href=\"psysml:0f757ff2-27a2-40d5-a25f-af43358ff77a\" xlink:show=\"new\" xlink:title=\"psysml:0f757ff2-27a2-40d5-a25f-af43358ff77a\" xlink:type=\"simple\"><rect fill=\"#FFFFFF\" height=\"42.9375\" id=\"E8\" rx=\"10\" ry=\"10\" style=\"stroke: #383838; stroke-width: 1.5;\" width=\"92\" x=\"91\" y=\"331\"/><rect fill=\"#F8F8F8\" height=\"37.9375\" rx=\"10\" ry=\"10\" style=\"stroke: #F8F8F8; stroke-width: 1.5;\" width=\"92\" x=\"91\" y=\"331\"/><rect fill=\"#F8F8F8\" height=\"10\" style=\"stroke: #F8F8F8; stroke-width: 1.5;\" width=\"92\" x=\"91\" y=\"358.9375\"/><rect fill=\"none\" height=\"42.9375\" id=\"E8\" rx=\"10\" ry=\"10\" style=\"stroke: #383838; stroke-width: 1.5;\" width=\"92\" x=\"91\" y=\"331\"/><text fill=\"#000000\" font-family=\"sans-serif\" font-size=\"12\" font-style=\"italic\" lengthAdjust=\"spacingAndGlyphs\" textLength=\"64\" x=\"105\" y=\"347.1387\">«analysis»</text><text fill=\"#000000\" font-family=\"sans-serif\" font-size=\"12\" lengthAdjust=\"spacingAndGlyphs\" textLength=\"81\" x=\"96.5\" y=\"361.1074\">analysisCase</text></a></g><g id=\"E1.E10\"><a href=\"psysml:9d8d7d87-8dd4-470f-9d18-cffbc3763f0c\" target=\"_top\" title=\"psysml:9d8d7d87-8dd4-470f-9d18-cffbc3763f0c\" xlink:actuate=\"onRequest\" xlink:href=\"psysml:9d8d7d87-8dd4-470f-9d18-cffbc3763f0c\" xlink:show=\"new\" xlink:title=\"psysml:9d8d7d87-8dd4-470f-9d18-cffbc3763f0c\" xlink:type=\"simple\"><rect fill=\"#FFFFFF\" height=\"42.9375\" id=\"E10\" rx=\"10\" ry=\"10\" style=\"stroke: #383838; stroke-width: 1.5;\" width=\"88\" x=\"37\" y=\"169\"/><rect fill=\"#F8F8F8\" height=\"37.9375\" rx=\"10\" ry=\"10\" style=\"stroke: #F8F8F8; stroke-width: 1.5;\" width=\"88\" x=\"37\" y=\"169\"/><rect fill=\"#F8F8F8\" height=\"10\" style=\"stroke: #F8F8F8; stroke-width: 1.5;\" width=\"88\" x=\"37\" y=\"196.9375\"/><rect fill=\"none\" height=\"42.9375\" id=\"E10\" rx=\"10\" ry=\"10\" style=\"stroke: #383838; stroke-width: 1.5;\" width=\"88\" x=\"37\" y=\"169\"/><text fill=\"#000000\" font-family=\"sans-serif\" font-size=\"12\" font-style=\"italic\" lengthAdjust=\"spacingAndGlyphs\" textLength=\"64\" x=\"49\" y=\"185.1387\">«analysis»</text><text fill=\"#000000\" font-family=\"sans-serif\" font-size=\"12\" lengthAdjust=\"spacingAndGlyphs\" textLength=\"77\" x=\"42.5\" y=\"199.1074\">analysisPlan</text></a></g><!--MD5=[05d275557350bfb9b23a4ef7222b4c39]\n",
       "link E3 to E2--><a href=\"psysml:f45a4065-dcd9-4d0e-be10-466e9a1a32d6\" target=\"_top\" title=\"psysml:f45a4065-dcd9-4d0e-be10-466e9a1a32d6\" xlink:actuate=\"onRequest\" xlink:href=\"psysml:f45a4065-dcd9-4d0e-be10-466e9a1a32d6\" xlink:show=\"new\" xlink:title=\"psysml:f45a4065-dcd9-4d0e-be10-466e9a1a32d6\" xlink:type=\"simple\"><path d=\"M310.33,504 C304.8,518.17 296.47,536.57 286,551 C279.62,559.78 271.98,568.34 264.08,576.23 \" fill=\"none\" id=\"E3-&gt;E2\" style=\"stroke: #383838; stroke-width: 1.0;\"/><polygon fill=\"#FFFFFF\" points=\"249.34,590.06,258.406,571.9545,267.9855,582.164,249.34,590.06\" style=\"stroke: #383838; stroke-width: 1.0;\"/><ellipse cx=\"263.9312\" cy=\"569.5128\" fill=\"#383838\" rx=\"2\" ry=\"2\" style=\"stroke: #383838; stroke-width: 1.0;\"/><ellipse cx=\"270.7737\" cy=\"576.8053\" fill=\"#383838\" rx=\"2\" ry=\"2\" style=\"stroke: #383838; stroke-width: 1.0;\"/></a><!--MD5=[15ebcb19ae302d9b601edb458606d402]\n",
       "link E5 to E2--><a href=\"psysml:4ce798b4-e7f7-45ac-94f6-a9dc23ec95c2\" target=\"_top\" title=\"psysml:4ce798b4-e7f7-45ac-94f6-a9dc23ec95c2\" xlink:actuate=\"onRequest\" xlink:href=\"psysml:4ce798b4-e7f7-45ac-94f6-a9dc23ec95c2\" xlink:show=\"new\" xlink:title=\"psysml:4ce798b4-e7f7-45ac-94f6-a9dc23ec95c2\" xlink:type=\"simple\"><path d=\"M214,502.66 C214,522.01 214,551.52 214,575.85 \" fill=\"none\" id=\"E5-&gt;E2\" style=\"stroke: #383838; stroke-width: 1.0; stroke-dasharray: 7.0,7.0;\"/><polygon fill=\"#383838\" points=\"214,580.96,218,571.96,214,575.96,210,571.96,214,580.96\" style=\"stroke: #383838; stroke-width: 1.0;\"/><text fill=\"#000000\" font-family=\"sans-serif\" font-size=\"13\" lengthAdjust=\"spacingAndGlyphs\" textLength=\"62\" x=\"215\" y=\"547.0669\">«subject»</text></a><!--MD5=[2351f337d6de0f557b50152ba70847b5]\n",
       "link E6 to E2--><a href=\"psysml:38ee38e5-fe2f-49e8-a238-8ef961814591\" target=\"_top\" title=\"psysml:38ee38e5-fe2f-49e8-a238-8ef961814591\" xlink:actuate=\"onRequest\" xlink:href=\"psysml:38ee38e5-fe2f-49e8-a238-8ef961814591\" xlink:show=\"new\" xlink:title=\"psysml:38ee38e5-fe2f-49e8-a238-8ef961814591\" xlink:type=\"simple\"><path d=\"M57.5084,403.137 C57.5293,403.365 57.5504,403.5934 57.5718,403.8223 C57.6145,404.2801 57.6581,404.7398 57.7028,405.2013 C57.792,406.1242 57.8852,407.0543 57.9825,407.9913 C61.095,437.9725 68.38,474.885 85,504 C106.54,541.73 145.2,573.36 174.61,593.66 \" fill=\"none\" id=\"E6-&gt;E2\" style=\"stroke: #383838; stroke-width: 1.0; stroke-dasharray: 7.0,7.0;\"/><polygon fill=\"#383838\" points=\"178.87,596.58,173.6864,588.2056,174.7386,593.7638,169.1804,594.8159,178.87,596.58\" style=\"stroke: #383838; stroke-width: 1.0;\"/><text fill=\"#000000\" font-family=\"sans-serif\" font-size=\"13\" lengthAdjust=\"spacingAndGlyphs\" textLength=\"62\" x=\"86\" y=\"485.5669\">«subject»</text></a><!--MD5=[1ccb2481ffa92f8d51a74ee30c51832a]\n",
       "link E8 to E5--><a href=\"psysml:cf5e8ef0-758f-412b-8419-a299a9750eac\" target=\"_top\" title=\"psysml:cf5e8ef0-758f-412b-8419-a299a9750eac\" xlink:actuate=\"onRequest\" xlink:href=\"psysml:cf5e8ef0-758f-412b-8419-a299a9750eac\" xlink:show=\"new\" xlink:title=\"psysml:cf5e8ef0-758f-412b-8419-a299a9750eac\" xlink:type=\"simple\"><path d=\"M149.54,374.11 C160.73,392.48 177.39,419.85 190.97,442.16 \" fill=\"none\" id=\"E8-&gt;E5\" style=\"stroke: #383838; stroke-width: 1.0;\"/><polygon fill=\"#FFFFFF\" points=\"201.46,459.4,185.6016,446.8099,197.5604,439.5306,201.46,459.4\" style=\"stroke: #383838; stroke-width: 1.0;\"/><ellipse cx=\"184.3463\" cy=\"440.901\" fill=\"#383838\" rx=\"2\" ry=\"2\" style=\"stroke: #383838; stroke-width: 1.0;\"/><ellipse cx=\"192.8883\" cy=\"435.7016\" fill=\"#383838\" rx=\"2\" ry=\"2\" style=\"stroke: #383838; stroke-width: 1.0;\"/></a><!--MD5=[198716bf12f04006f5c20d61bde6d80d]\n",
       "link E10 to E6--><a href=\"psysml:4172c94c-9fb8-4464-b137-e530fc31134b\" target=\"_top\" title=\"psysml:4172c94c-9fb8-4464-b137-e530fc31134b\" xlink:actuate=\"onRequest\" xlink:href=\"psysml:4172c94c-9fb8-4464-b137-e530fc31134b\" xlink:show=\"new\" xlink:title=\"psysml:4172c94c-9fb8-4464-b137-e530fc31134b\" xlink:type=\"simple\"><path d=\"M77.78,212.09 C76.12,222.725 73.9581,236.5687 71.6419,251.3978 C71.0628,255.1051 70.4741,258.8739 69.8812,262.6696 C69.7329,263.6185 69.5844,264.5691 69.4358,265.5209 C69.3614,265.9967 69.287,266.4729 69.2126,266.9493 \" fill=\"none\" id=\"E10-&gt;E6\" style=\"stroke: #383838; stroke-width: 1.0;\"/><polygon fill=\"#FFFFFF\" points=\"69.2126,266.9493,65.2291,247.0965,79.0613,249.2573,69.2126,266.9493\" style=\"stroke: #383838; stroke-width: 1.0;\"/><ellipse cx=\"68.0849\" cy=\"241.7735\" fill=\"#383838\" rx=\"2\" ry=\"2\" style=\"stroke: #383838; stroke-width: 1.0;\"/><ellipse cx=\"77.965\" cy=\"243.317\" fill=\"#383838\" rx=\"2\" ry=\"2\" style=\"stroke: #383838; stroke-width: 1.0;\"/></a><!--MD5=[23ac544a70576c3e717098101004234c]\n",
       "reverse link E9 to E10--><a href=\"psysml:9d8d7d87-8dd4-470f-9d18-cffbc3763f0c\" target=\"_top\" title=\"psysml:9d8d7d87-8dd4-470f-9d18-cffbc3763f0c\" xlink:actuate=\"onRequest\" xlink:href=\"psysml:9d8d7d87-8dd4-470f-9d18-cffbc3763f0c\" xlink:show=\"new\" xlink:title=\"psysml:9d8d7d87-8dd4-470f-9d18-cffbc3763f0c\" xlink:type=\"simple\"><path d=\"M84.45,110.8 C83.62,129.84 82.61,152.68 81.91,168.84 \" fill=\"none\" id=\"E9&lt;-E10\" style=\"stroke: #383838; stroke-width: 1.0;\"/><polygon fill=\"#383838\" points=\"85.02,97.75,80.7601,103.5684,84.4925,109.7384,88.7524,103.92,85.02,97.75\" style=\"stroke: #383838; stroke-width: 1.0;\"/></a><!--MD5=[8a69838b850c4ee144f003b19861dcff]\n",
       "@startuml\r\n",
       "skinparam monochrome true\r\n",
       "skinparam classbackgroundcolor white\r\n",
       "skinparam shadowing false\r\n",
       "skinparam wrapWidth 300\r\n",
       "hide circle\r\n",
       "\r\n",
       "package \"AnalysisTest\" as E1  [[psysml:e1dfe890-ec15-4931-b288-05d8c66f0e23 ]]  {\r\n",
       "comp def \"V\" as E2  <<(T,blue) part  def>> [[psysml:e8de7c06-a552-45cc-9ef9-bdca622a4dc8 ]] {\r\n",
       "- - references - -\r\n",
       "m\r\n",
       "}\r\n",
       "comp usage \"vv: V \" as E3  <<(T,blue) part>> [[psysml:e405eddc-d04c-43ee-94c7-f68d6bd4037b ]] {\r\n",
       "}\r\n",
       "comp def \"AnalysisObjective\" as E4  <<(T,blue) requirement  def>> [[psysml:61935c6a-e9b2-427b-8e93-9f8ea2764a4f ]] {\r\n",
       "...\r\n",
       "- -\r\n",
       "}\r\n",
       "rec def \"AnalysisCase\" as E5 << analysis def>> [[psysml:5016a817-b8b6-43b2-a1c9-71130e2545c5 ]] {\r\n",
       "}\r\n",
       "rec def \"AnalysisPlan\" as E6 << analysis def>> [[psysml:0d28215e-abd0-4258-9ce4-d7487f47f154 ]] {\r\n",
       "comp usage \" <U+00AB>objective<U+00BB> \" as E7 [[psysml:317ace64-a3b7-4095-b75a-9c551641bbd2 ]] {\r\n",
       "...\r\n",
       "- -\r\n",
       "}\r\n",
       "rec usage \"analysisCase\" as E8 << analysis>> [[psysml:0f757ff2-27a2-40d5-a25f-af43358ff77a ]] {\r\n",
       "}\r\n",
       "}\r\n",
       "comp usage \"analysisContext \" as E9  <<(T,blue) part>> [[psysml:b24749b9-9e77-4740-bd21-7fc3830bb957 ]] {\r\n",
       "}\r\n",
       "rec usage \"analysisPlan\" as E10 << analysis>> [[psysml:9d8d7d87-8dd4-470f-9d18-cffbc3763f0c ]] {\r\n",
       "}\r\n",
       "}\r\n",
       "E3 - -:|> E2 [[psysml:f45a4065-dcd9-4d0e-be10-466e9a1a32d6 ]] \r\n",
       "E5 ..> E2 [[psysml:4ce798b4-e7f7-45ac-94f6-a9dc23ec95c2 ]] : <<subject>>\r\n",
       "E6 ..> E2 [[psysml:38ee38e5-fe2f-49e8-a238-8ef961814591 ]] : <<subject>>\r\n",
       "E8 - -:|> E5 [[psysml:cf5e8ef0-758f-412b-8419-a299a9750eac ]] \r\n",
       "E10 - -:|> E6 [[psysml:4172c94c-9fb8-4464-b137-e530fc31134b ]] \r\n",
       "E9 *- - E10 [[psysml:9d8d7d87-8dd4-470f-9d18-cffbc3763f0c ]] \r\n",
       "@enduml\r\n",
       "\n",
       "PlantUML version 1.2020.13(Sat Jun 13 12:26:38 UTC 2020)\n",
       "(EPL source distribution)\n",
       "Java Runtime: OpenJDK Runtime Environment\n",
       "JVM: OpenJDK 64-Bit Server VM\n",
       "Default Encoding: UTF-8\n",
       "Language: en\n",
       "Country: null\n",
       "--></g></svg>"
      ]
     },
     "execution_count": 37,
     "metadata": {},
     "output_type": "execute_result"
    }
   ],
   "source": [
    "%viz --style=\"DEFAULT\" --view=\"Default\" \"AnalysisTest\""
   ]
  },
  {
   "cell_type": "code",
   "execution_count": 38,
   "id": "175a3c20",
   "metadata": {
    "execution": {
     "iopub.execute_input": "2022-02-05T16:52:03.850692Z",
     "iopub.status.busy": "2022-02-05T16:52:03.850293Z",
     "iopub.status.idle": "2022-02-05T16:52:03.930424Z",
     "shell.execute_reply": "2022-02-05T16:52:03.930074Z"
    }
   },
   "outputs": [
    {
     "data": {
      "image/svg+xml": [
       "<?xml version=\"1.0\" encoding=\"UTF-8\" standalone=\"no\"?><svg xmlns=\"http://www.w3.org/2000/svg\" xmlns:xlink=\"http://www.w3.org/1999/xlink\" contentScriptType=\"application/ecmascript\" contentStyleType=\"text/css\" height=\"923px\" preserveAspectRatio=\"none\" style=\"width:453px;height:923px;\" version=\"1.1\" viewBox=\"0 0 453 923\" width=\"453px\" zoomAndPan=\"magnify\"><defs/><g><!--MD5=[fbc87193dbaf4d95561dea2c320d4a47]\n",
       "cluster E1--><a href=\"psysml:e1dfe890-ec15-4931-b288-05d8c66f0e23\" target=\"_top\" title=\"psysml:e1dfe890-ec15-4931-b288-05d8c66f0e23\" xlink:actuate=\"onRequest\" xlink:href=\"psysml:e1dfe890-ec15-4931-b288-05d8c66f0e23\" xlink:show=\"new\" xlink:title=\"psysml:e1dfe890-ec15-4931-b288-05d8c66f0e23\" xlink:type=\"simple\"><polygon fill=\"#FFFFFF\" points=\"20.13,6,112.13,6,119.13,28.2969,431.13,28.2969,431.13,911,20.13,911,20.13,6\" style=\"stroke: #000000; stroke-width: 1.5;\"/><line style=\"stroke: #000000; stroke-width: 1.5;\" x1=\"20.13\" x2=\"119.13\" y1=\"28.2969\" y2=\"28.2969\"/><text fill=\"#000000\" font-family=\"sans-serif\" font-size=\"14\" font-weight=\"bold\" lengthAdjust=\"spacingAndGlyphs\" textLength=\"86\" x=\"24.13\" y=\"20.9951\">AnalysisTest</text></a><!--MD5=[b4997ac47864f28c2f74865a473b2911]\n",
       "class E2--><a href=\"psysml:e8de7c06-a552-45cc-9ef9-bdca622a4dc8\" target=\"_top\" title=\"psysml:e8de7c06-a552-45cc-9ef9-bdca622a4dc8\" xlink:actuate=\"onRequest\" xlink:href=\"psysml:e8de7c06-a552-45cc-9ef9-bdca622a4dc8\" xlink:show=\"new\" xlink:title=\"psysml:e8de7c06-a552-45cc-9ef9-bdca622a4dc8\" xlink:type=\"simple\"><rect fill=\"#FFFFFF\" height=\"75.5469\" id=\"E2\" style=\"stroke: #383838; stroke-width: 1.5;\" width=\"70\" x=\"160.13\" y=\"691\"/><text fill=\"#000000\" font-family=\"sans-serif\" font-size=\"12\" font-style=\"italic\" lengthAdjust=\"spacingAndGlyphs\" textLength=\"68\" x=\"161.13\" y=\"707.1387\">«part  def»</text><text fill=\"#000000\" font-family=\"sans-serif\" font-size=\"12\" lengthAdjust=\"spacingAndGlyphs\" textLength=\"8\" x=\"191.13\" y=\"721.1074\">V</text><line style=\"stroke: #383838; stroke-width: 1.5;\" x1=\"161.13\" x2=\"229.13\" y1=\"728.9375\" y2=\"728.9375\"/><text fill=\"#000000\" font-family=\"sans-serif\" font-size=\"11\" lengthAdjust=\"spacingAndGlyphs\" textLength=\"11\" x=\"166.13\" y=\"759.9526\">m</text><line style=\"stroke: #383838; stroke-width: 1.0;\" x1=\"161.13\" x2=\"164.13\" y1=\"743.3398\" y2=\"743.3398\"/><text fill=\"#000000\" font-family=\"sans-serif\" font-size=\"11\" lengthAdjust=\"spacingAndGlyphs\" textLength=\"62\" x=\"164.13\" y=\"746.6479\">references</text><line style=\"stroke: #383838; stroke-width: 1.0;\" x1=\"226.13\" x2=\"229.13\" y1=\"743.3398\" y2=\"743.3398\"/></a><!--MD5=[09b614a08d8cba4a07c9adeb5e0fee81]\n",
       "class E3--><a href=\"psysml:e405eddc-d04c-43ee-94c7-f68d6bd4037b\" target=\"_top\" title=\"psysml:e405eddc-d04c-43ee-94c7-f68d6bd4037b\" xlink:actuate=\"onRequest\" xlink:href=\"psysml:e405eddc-d04c-43ee-94c7-f68d6bd4037b\" xlink:show=\"new\" xlink:title=\"psysml:e405eddc-d04c-43ee-94c7-f68d6bd4037b\" xlink:type=\"simple\"><rect fill=\"#FFFFFF\" height=\"45.9375\" id=\"E3\" rx=\"10\" ry=\"10\" style=\"stroke: #383838; stroke-width: 1.5;\" width=\"42\" x=\"202.13\" y=\"553\"/><text fill=\"#000000\" font-family=\"sans-serif\" font-size=\"12\" font-style=\"italic\" lengthAdjust=\"spacingAndGlyphs\" textLength=\"40\" x=\"203.13\" y=\"569.1387\">«part»</text><text fill=\"#000000\" font-family=\"sans-serif\" font-size=\"12\" lengthAdjust=\"spacingAndGlyphs\" textLength=\"28\" x=\"207.13\" y=\"583.1074\">vv: V</text><line style=\"stroke: #383838; stroke-width: 1.5;\" x1=\"203.13\" x2=\"243.13\" y1=\"590.9375\" y2=\"590.9375\"/></a><!--MD5=[ebbe1d658d1005bcc118a6aa81145e00]\n",
       "class E4--><a href=\"psysml:61935c6a-e9b2-427b-8e93-9f8ea2764a4f\" target=\"_top\" title=\"psysml:61935c6a-e9b2-427b-8e93-9f8ea2764a4f\" xlink:actuate=\"onRequest\" xlink:href=\"psysml:61935c6a-e9b2-427b-8e93-9f8ea2764a4f\" xlink:show=\"new\" xlink:title=\"psysml:61935c6a-e9b2-427b-8e93-9f8ea2764a4f\" xlink:type=\"simple\"><rect fill=\"#FFFFFF\" height=\"66.7422\" id=\"E4\" style=\"stroke: #383838; stroke-width: 1.5;\" width=\"121\" x=\"279.63\" y=\"828\"/><text fill=\"#000000\" font-family=\"sans-serif\" font-size=\"12\" font-style=\"italic\" lengthAdjust=\"spacingAndGlyphs\" textLength=\"119\" x=\"280.63\" y=\"844.1387\">«requirement  def»</text><text fill=\"#000000\" font-family=\"sans-serif\" font-size=\"12\" lengthAdjust=\"spacingAndGlyphs\" textLength=\"107\" x=\"286.63\" y=\"858.1074\">AnalysisObjective</text><line style=\"stroke: #383838; stroke-width: 1.5;\" x1=\"280.63\" x2=\"399.63\" y1=\"865.9375\" y2=\"865.9375\"/><text fill=\"#000000\" font-family=\"sans-serif\" font-size=\"11\" lengthAdjust=\"spacingAndGlyphs\" textLength=\"12\" x=\"285.63\" y=\"880.1479\">...</text><line style=\"stroke: #383838; stroke-width: 1.0;\" x1=\"280.63\" x2=\"399.63\" y1=\"886.7422\" y2=\"886.7422\"/></a><!--MD5=[270fce915f116d4de14055a7c1d9a0f3]\n",
       "class E5--><a href=\"psysml:5016a817-b8b6-43b2-a1c9-71130e2545c5\" target=\"_top\" title=\"psysml:5016a817-b8b6-43b2-a1c9-71130e2545c5\" xlink:actuate=\"onRequest\" xlink:href=\"psysml:5016a817-b8b6-43b2-a1c9-71130e2545c5\" xlink:show=\"new\" xlink:title=\"psysml:5016a817-b8b6-43b2-a1c9-71130e2545c5\" xlink:type=\"simple\"><rect fill=\"#FFFFFF\" height=\"75.5469\" id=\"E5\" style=\"stroke: #383838; stroke-width: 1.5;\" width=\"136\" x=\"279.13\" y=\"538\"/><text fill=\"#000000\" font-family=\"sans-serif\" font-size=\"12\" font-style=\"italic\" lengthAdjust=\"spacingAndGlyphs\" textLength=\"88\" x=\"303.13\" y=\"554.1387\">«analysis def»</text><text fill=\"#000000\" font-family=\"sans-serif\" font-size=\"12\" lengthAdjust=\"spacingAndGlyphs\" textLength=\"81\" x=\"306.63\" y=\"568.1074\">AnalysisCase</text><line style=\"stroke: #383838; stroke-width: 1.5;\" x1=\"280.13\" x2=\"414.13\" y1=\"575.9375\" y2=\"575.9375\"/><text fill=\"#000000\" font-family=\"sans-serif\" font-size=\"11\" lengthAdjust=\"spacingAndGlyphs\" textLength=\"43\" x=\"285.13\" y=\"606.9526\">{ v.m }</text><line style=\"stroke: #383838; stroke-width: 1.0;\" x1=\"280.13\" x2=\"283.13\" y1=\"590.3398\" y2=\"590.3398\"/><text fill=\"#000000\" font-family=\"sans-serif\" font-size=\"11\" lengthAdjust=\"spacingAndGlyphs\" textLength=\"128\" x=\"283.13\" y=\"593.6479\">path step expressions</text><line style=\"stroke: #383838; stroke-width: 1.0;\" x1=\"411.13\" x2=\"414.13\" y1=\"590.3398\" y2=\"590.3398\"/></a><!--MD5=[60a26617385b1d2d0262a64233df1f8d]\n",
       "class E6--><a href=\"psysml:8ed6d9d8-007f-466a-ada9-4e78a60ebf86\" target=\"_top\" title=\"psysml:8ed6d9d8-007f-466a-ada9-4e78a60ebf86\" xlink:actuate=\"onRequest\" xlink:href=\"psysml:8ed6d9d8-007f-466a-ada9-4e78a60ebf86\" xlink:show=\"new\" xlink:title=\"psysml:8ed6d9d8-007f-466a-ada9-4e78a60ebf86\" xlink:type=\"simple\"><rect fill=\"#FFFFFF\" height=\"45.9375\" id=\"E6\" rx=\"10\" ry=\"10\" style=\"stroke: #383838; stroke-width: 1.5;\" width=\"144\" x=\"268.13\" y=\"706\"/><text fill=\"#000000\" font-family=\"sans-serif\" font-size=\"12\" font-style=\"italic\" lengthAdjust=\"spacingAndGlyphs\" textLength=\"91\" x=\"294.63\" y=\"722.1387\">«requirement»</text><text fill=\"#000000\" font-family=\"sans-serif\" font-size=\"12\" lengthAdjust=\"spacingAndGlyphs\" textLength=\"134\" x=\"271.13\" y=\"736.1074\">obj: AnalysisObjective</text><line style=\"stroke: #383838; stroke-width: 1.5;\" x1=\"269.13\" x2=\"411.13\" y1=\"743.9375\" y2=\"743.9375\"/></a><!--MD5=[2156ba9850f5573cc1fc38a6a4b2f02b]\n",
       "class E7--><a href=\"psysml:0d28215e-abd0-4258-9ce4-d7487f47f154\" target=\"_top\" title=\"psysml:0d28215e-abd0-4258-9ce4-d7487f47f154\" xlink:actuate=\"onRequest\" xlink:href=\"psysml:0d28215e-abd0-4258-9ce4-d7487f47f154\" xlink:show=\"new\" xlink:title=\"psysml:0d28215e-abd0-4258-9ce4-d7487f47f154\" xlink:type=\"simple\"><rect fill=\"#FFFFFF\" height=\"45.9375\" id=\"E7\" style=\"stroke: #383838; stroke-width: 1.5;\" width=\"90\" x=\"108.13\" y=\"271\"/><text fill=\"#000000\" font-family=\"sans-serif\" font-size=\"12\" font-style=\"italic\" lengthAdjust=\"spacingAndGlyphs\" textLength=\"88\" x=\"109.13\" y=\"287.1387\">«analysis def»</text><text fill=\"#000000\" font-family=\"sans-serif\" font-size=\"12\" lengthAdjust=\"spacingAndGlyphs\" textLength=\"77\" x=\"114.63\" y=\"301.1074\">AnalysisPlan</text><line style=\"stroke: #383838; stroke-width: 1.5;\" x1=\"109.13\" x2=\"197.13\" y1=\"308.9375\" y2=\"308.9375\"/></a><!--MD5=[b9389687b975829384b498ac4b7476b2]\n",
       "class E8--><a href=\"psysml:317ace64-a3b7-4095-b75a-9c551641bbd2\" target=\"_top\" title=\"psysml:317ace64-a3b7-4095-b75a-9c551641bbd2\" xlink:actuate=\"onRequest\" xlink:href=\"psysml:317ace64-a3b7-4095-b75a-9c551641bbd2\" xlink:show=\"new\" xlink:title=\"psysml:317ace64-a3b7-4095-b75a-9c551641bbd2\" xlink:type=\"simple\"><rect fill=\"#FFFFFF\" height=\"66.7422\" id=\"E8\" rx=\"10\" ry=\"10\" style=\"stroke: #383838; stroke-width: 1.5;\" width=\"93\" x=\"106.63\" y=\"394\"/><text fill=\"#000000\" font-family=\"sans-serif\" font-size=\"12\" font-style=\"italic\" lengthAdjust=\"spacingAndGlyphs\" textLength=\"91\" x=\"107.63\" y=\"410.1387\">«requirement»</text><text fill=\"#000000\" font-family=\"sans-serif\" font-size=\"12\" lengthAdjust=\"spacingAndGlyphs\" textLength=\"19\" x=\"141.63\" y=\"424.1074\">obj</text><line style=\"stroke: #383838; stroke-width: 1.5;\" x1=\"107.63\" x2=\"198.63\" y1=\"431.9375\" y2=\"431.9375\"/><text fill=\"#000000\" font-family=\"sans-serif\" font-size=\"11\" lengthAdjust=\"spacingAndGlyphs\" textLength=\"12\" x=\"112.63\" y=\"446.1479\">...</text><line style=\"stroke: #383838; stroke-width: 1.0;\" x1=\"107.63\" x2=\"198.63\" y1=\"452.7422\" y2=\"452.7422\"/></a><!--MD5=[fd4143e9d270a159db93a4ea2a975926]\n",
       "class E9--><a href=\"psysml:0f757ff2-27a2-40d5-a25f-af43358ff77a\" target=\"_top\" title=\"psysml:0f757ff2-27a2-40d5-a25f-af43358ff77a\" xlink:actuate=\"onRequest\" xlink:href=\"psysml:0f757ff2-27a2-40d5-a25f-af43358ff77a\" xlink:show=\"new\" xlink:title=\"psysml:0f757ff2-27a2-40d5-a25f-af43358ff77a\" xlink:type=\"simple\"><rect fill=\"#FFFFFF\" height=\"45.9375\" id=\"E9\" rx=\"10\" ry=\"10\" style=\"stroke: #383838; stroke-width: 1.5;\" width=\"180\" x=\"235.13\" y=\"404.5\"/><text fill=\"#000000\" font-family=\"sans-serif\" font-size=\"12\" font-style=\"italic\" lengthAdjust=\"spacingAndGlyphs\" textLength=\"64\" x=\"293.13\" y=\"420.6387\">«analysis»</text><text fill=\"#000000\" font-family=\"sans-serif\" font-size=\"12\" lengthAdjust=\"spacingAndGlyphs\" textLength=\"170\" x=\"238.13\" y=\"434.6074\">analysisCase: AnalysisCase</text><line style=\"stroke: #383838; stroke-width: 1.5;\" x1=\"236.13\" x2=\"414.13\" y1=\"442.4375\" y2=\"442.4375\"/></a><!--MD5=[96f4274e9e20536e775497830990834d]\n",
       "class E10--><a href=\"psysml:756c2ee8-950e-4679-a51a-3cb75b1efb3e\" target=\"_top\" title=\"psysml:756c2ee8-950e-4679-a51a-3cb75b1efb3e\" xlink:actuate=\"onRequest\" xlink:href=\"psysml:756c2ee8-950e-4679-a51a-3cb75b1efb3e\" xlink:show=\"new\" xlink:title=\"psysml:756c2ee8-950e-4679-a51a-3cb75b1efb3e\" xlink:type=\"simple\"><rect fill=\"#FFFFFF\" height=\"45.9375\" id=\"E10\" rx=\"10\" ry=\"10\" style=\"stroke: #383838; stroke-width: 1.5;\" width=\"93\" x=\"73.63\" y=\"553\"/><text fill=\"#000000\" font-family=\"sans-serif\" font-size=\"12\" font-style=\"italic\" lengthAdjust=\"spacingAndGlyphs\" textLength=\"91\" x=\"74.63\" y=\"569.1387\">«requirement»</text><text fill=\"#000000\" font-family=\"sans-serif\" font-size=\"12\" lengthAdjust=\"spacingAndGlyphs\" textLength=\"19\" x=\"108.63\" y=\"583.1074\">obj</text><line style=\"stroke: #383838; stroke-width: 1.5;\" x1=\"74.63\" x2=\"165.63\" y1=\"590.9375\" y2=\"590.9375\"/></a><!--MD5=[1dd1bfd58a279cf63c5f349dbc8fc6a1]\n",
       "class E11--><a href=\"psysml:b24749b9-9e77-4740-bd21-7fc3830bb957\" target=\"_top\" title=\"psysml:b24749b9-9e77-4740-bd21-7fc3830bb957\" xlink:actuate=\"onRequest\" xlink:href=\"psysml:b24749b9-9e77-4740-bd21-7fc3830bb957\" xlink:show=\"new\" xlink:title=\"psysml:b24749b9-9e77-4740-bd21-7fc3830bb957\" xlink:type=\"simple\"><rect fill=\"#FFFFFF\" height=\"45.9375\" id=\"E11\" rx=\"10\" ry=\"10\" style=\"stroke: #383838; stroke-width: 1.5;\" width=\"108\" x=\"162.13\" y=\"41\"/><text fill=\"#000000\" font-family=\"sans-serif\" font-size=\"12\" font-style=\"italic\" lengthAdjust=\"spacingAndGlyphs\" textLength=\"40\" x=\"196.13\" y=\"57.1387\">«part»</text><text fill=\"#000000\" font-family=\"sans-serif\" font-size=\"12\" lengthAdjust=\"spacingAndGlyphs\" textLength=\"98\" x=\"165.13\" y=\"71.1074\">analysisContext</text><line style=\"stroke: #383838; stroke-width: 1.5;\" x1=\"163.13\" x2=\"269.13\" y1=\"78.9375\" y2=\"78.9375\"/></a><!--MD5=[49a0ec8f00dab7302a31f22d0f0fe584]\n",
       "class E12--><a href=\"psysml:9d8d7d87-8dd4-470f-9d18-cffbc3763f0c\" target=\"_top\" title=\"psysml:9d8d7d87-8dd4-470f-9d18-cffbc3763f0c\" xlink:actuate=\"onRequest\" xlink:href=\"psysml:9d8d7d87-8dd4-470f-9d18-cffbc3763f0c\" xlink:show=\"new\" xlink:title=\"psysml:9d8d7d87-8dd4-470f-9d18-cffbc3763f0c\" xlink:type=\"simple\"><rect fill=\"#FFFFFF\" height=\"45.9375\" id=\"E12\" rx=\"10\" ry=\"10\" style=\"stroke: #383838; stroke-width: 1.5;\" width=\"172\" x=\"130.13\" y=\"148\"/><text fill=\"#000000\" font-family=\"sans-serif\" font-size=\"12\" font-style=\"italic\" lengthAdjust=\"spacingAndGlyphs\" textLength=\"64\" x=\"184.13\" y=\"164.1387\">«analysis»</text><text fill=\"#000000\" font-family=\"sans-serif\" font-size=\"12\" lengthAdjust=\"spacingAndGlyphs\" textLength=\"162\" x=\"133.13\" y=\"178.1074\">analysisPlan: AnalysisPlan</text><line style=\"stroke: #383838; stroke-width: 1.5;\" x1=\"131.13\" x2=\"301.13\" y1=\"185.9375\" y2=\"185.9375\"/></a><!--MD5=[ee3c913d1a06f366521f9ef512b67efe]\n",
       "class E13--><a href=\"psysml:215563a4-4360-48d3-80f1-175339b6797a\" target=\"_top\" title=\"psysml:215563a4-4360-48d3-80f1-175339b6797a\" xlink:actuate=\"onRequest\" xlink:href=\"psysml:215563a4-4360-48d3-80f1-175339b6797a\" xlink:show=\"new\" xlink:title=\"psysml:215563a4-4360-48d3-80f1-175339b6797a\" xlink:type=\"simple\"><rect fill=\"#FFFFFF\" height=\"45.9375\" id=\"E13\" rx=\"10\" ry=\"10\" style=\"stroke: #383838; stroke-width: 1.5;\" width=\"93\" x=\"233.63\" y=\"271\"/><text fill=\"#000000\" font-family=\"sans-serif\" font-size=\"12\" font-style=\"italic\" lengthAdjust=\"spacingAndGlyphs\" textLength=\"91\" x=\"234.63\" y=\"287.1387\">«requirement»</text><text fill=\"#000000\" font-family=\"sans-serif\" font-size=\"12\" lengthAdjust=\"spacingAndGlyphs\" textLength=\"19\" x=\"268.63\" y=\"301.1074\">obj</text><line style=\"stroke: #383838; stroke-width: 1.5;\" x1=\"234.63\" x2=\"325.63\" y1=\"308.9375\" y2=\"308.9375\"/></a><!--MD5=[05d275557350bfb9b23a4ef7222b4c39]\n",
       "link E3 to E2--><a href=\"psysml:f45a4065-dcd9-4d0e-be10-466e9a1a32d6\" target=\"_top\" title=\"psysml:f45a4065-dcd9-4d0e-be10-466e9a1a32d6\" xlink:actuate=\"onRequest\" xlink:href=\"psysml:f45a4065-dcd9-4d0e-be10-466e9a1a32d6\" xlink:show=\"new\" xlink:title=\"psysml:f45a4065-dcd9-4d0e-be10-466e9a1a32d6\" xlink:type=\"simple\"><path d=\"M213.8,599.22 C208.84,612.07 203.16,628.68 200.13,644 C198.44,652.55 197.27,661.67 196.46,670.63 \" fill=\"none\" id=\"E3-&gt;E2\" style=\"stroke: #383838; stroke-width: 1.0;\"/><polygon fill=\"#FFFFFF\" points=\"195.18,690.93,189.4022,671.5234,203.3738,672.4135,195.18,690.93\" style=\"stroke: #383838; stroke-width: 1.0;\"/><ellipse cx=\"191.7605\" cy=\"665.9621\" fill=\"#383838\" rx=\"2\" ry=\"2\" style=\"stroke: #383838; stroke-width: 1.0;\"/><ellipse cx=\"201.7403\" cy=\"666.5979\" fill=\"#383838\" rx=\"2\" ry=\"2\" style=\"stroke: #383838; stroke-width: 1.0;\"/></a><!--MD5=[15ebcb19ae302d9b601edb458606d402]\n",
       "link E5 to E2--><a href=\"psysml:4ce798b4-e7f7-45ac-94f6-a9dc23ec95c2\" target=\"_top\" title=\"psysml:4ce798b4-e7f7-45ac-94f6-a9dc23ec95c2\" xlink:actuate=\"onRequest\" xlink:href=\"psysml:4ce798b4-e7f7-45ac-94f6-a9dc23ec95c2\" xlink:show=\"new\" xlink:title=\"psysml:4ce798b4-e7f7-45ac-94f6-a9dc23ec95c2\" xlink:type=\"simple\"><path d=\"M303.36,614.09 C292.6,623.61 281.27,633.99 271.13,644 C257.44,657.51 243.12,672.96 230.65,686.89 \" fill=\"none\" id=\"E5-&gt;E2\" style=\"stroke: #383838; stroke-width: 1.0; stroke-dasharray: 7.0,7.0;\"/><polygon fill=\"#383838\" points=\"227.18,690.78,236.1576,686.7299,230.5098,687.0501,230.1897,681.4023,227.18,690.78\" style=\"stroke: #383838; stroke-width: 1.0;\"/><text fill=\"#000000\" font-family=\"sans-serif\" font-size=\"13\" lengthAdjust=\"spacingAndGlyphs\" textLength=\"62\" x=\"272.13\" y=\"657.0669\">«subject»</text></a><!--MD5=[9120cf2e5df3bff93db8f754bbbc09b4]\n",
       "link E5 to E6--><a href=\"psysml:b91cd128-722a-4ae9-a5d3-51e53a9e38d7\" target=\"_top\" title=\"psysml:b91cd128-722a-4ae9-a5d3-51e53a9e38d7\" xlink:actuate=\"onRequest\" xlink:href=\"psysml:b91cd128-722a-4ae9-a5d3-51e53a9e38d7\" xlink:show=\"new\" xlink:title=\"psysml:b91cd128-722a-4ae9-a5d3-51e53a9e38d7\" xlink:type=\"simple\"><path d=\"M345.4,614.33 C344.21,639.95 342.65,673.54 341.54,697.54 \" fill=\"none\" id=\"E5-&gt;E6\" style=\"stroke: #383838; stroke-width: 1.0;\"/><polygon fill=\"#383838\" points=\"341.17,705.61,344.5378,697.7577,338.5443,697.4795,341.17,705.61\" style=\"stroke: #383838; stroke-width: 1.0;\"/><text fill=\"#000000\" font-family=\"sans-serif\" font-size=\"13\" lengthAdjust=\"spacingAndGlyphs\" textLength=\"73\" x=\"344.13\" y=\"657.0669\">«objective»</text></a><!--MD5=[f667431f98296947986a1a7595a31603]\n",
       "link E6 to E4--><a href=\"psysml:b2f535bd-3827-4daf-a953-8c36dc8e5a05\" target=\"_top\" title=\"psysml:b2f535bd-3827-4daf-a953-8c36dc8e5a05\" xlink:actuate=\"onRequest\" xlink:href=\"psysml:b2f535bd-3827-4daf-a953-8c36dc8e5a05\" xlink:show=\"new\" xlink:title=\"psysml:b2f535bd-3827-4daf-a953-8c36dc8e5a05\" xlink:type=\"simple\"><path d=\"M340.13,752.14 C340.13,767.41 340.13,788.39 340.13,807.82 \" fill=\"none\" id=\"E6-&gt;E4\" style=\"stroke: #383838; stroke-width: 1.0;\"/><polygon fill=\"#FFFFFF\" points=\"340.13,827.96,333.13,808.96,347.13,808.96,340.13,827.96\" style=\"stroke: #383838; stroke-width: 1.0;\"/><ellipse cx=\"335.13\" cy=\"803.26\" fill=\"#383838\" rx=\"2\" ry=\"2\" style=\"stroke: #383838; stroke-width: 1.0;\"/><ellipse cx=\"345.13\" cy=\"803.26\" fill=\"#383838\" rx=\"2\" ry=\"2\" style=\"stroke: #383838; stroke-width: 1.0;\"/></a><!--MD5=[583832df87f4419a098336a29a52fa00]\n",
       "link E7 to E2--><a href=\"psysml:38ee38e5-fe2f-49e8-a238-8ef961814591\" target=\"_top\" title=\"psysml:38ee38e5-fe2f-49e8-a238-8ef961814591\" xlink:actuate=\"onRequest\" xlink:href=\"psysml:38ee38e5-fe2f-49e8-a238-8ef961814591\" xlink:show=\"new\" xlink:title=\"psysml:38ee38e5-fe2f-49e8-a238-8ef961814591\" xlink:type=\"simple\"><path d=\"M135.62,317.09 C95.87,370.11 6,508.04 56.13,614 C76.51,657.06 122,689.3 155.42,708.32 \" fill=\"none\" id=\"E7-&gt;E2\" style=\"stroke: #383838; stroke-width: 1.0; stroke-dasharray: 7.0,7.0;\"/><polygon fill=\"#383838\" points=\"159.84,710.8,153.9458,702.9096,155.4787,708.3548,150.0335,709.8877,159.84,710.8\" style=\"stroke: #383838; stroke-width: 1.0;\"/><text fill=\"#000000\" font-family=\"sans-serif\" font-size=\"13\" lengthAdjust=\"spacingAndGlyphs\" textLength=\"62\" x=\"48.13\" y=\"504.0669\">«subject»</text></a><!--MD5=[79bc8f324ef4d02c541433f2e6e513c3]\n",
       "link E7 to E8--><a href=\"psysml:17344d0c-3816-44f9-9c17-e4b7438070db\" target=\"_top\" title=\"psysml:17344d0c-3816-44f9-9c17-e4b7438070db\" xlink:actuate=\"onRequest\" xlink:href=\"psysml:17344d0c-3816-44f9-9c17-e4b7438070db\" xlink:show=\"new\" xlink:title=\"psysml:17344d0c-3816-44f9-9c17-e4b7438070db\" xlink:type=\"simple\"><path d=\"M153.13,317.01 C153.13,335.7 153.13,363.02 153.13,385.69 \" fill=\"none\" id=\"E7-&gt;E8\" style=\"stroke: #383838; stroke-width: 1.0;\"/><polygon fill=\"#383838\" points=\"153.13,393.81,156.13,385.81,150.13,385.81,153.13,393.81\" style=\"stroke: #383838; stroke-width: 1.0;\"/><text fill=\"#000000\" font-family=\"sans-serif\" font-size=\"13\" lengthAdjust=\"spacingAndGlyphs\" textLength=\"73\" x=\"154.13\" y=\"360.0669\">«objective»</text><text fill=\"#000000\" font-family=\"sans-serif\" font-size=\"13\" lengthAdjust=\"spacingAndGlyphs\" textLength=\"7\" x=\"145.4409\" y=\"382.8061\">*</text></a><!--MD5=[e4a10ef82d0e328e31cac39a31e58dda]\n",
       "reverse link E7 to E9--><a href=\"psysml:270a9b55-e8f2-46f5-9c02-ba45f5a1be19\" target=\"_top\" title=\"psysml:270a9b55-e8f2-46f5-9c02-ba45f5a1be19\" xlink:actuate=\"onRequest\" xlink:href=\"psysml:270a9b55-e8f2-46f5-9c02-ba45f5a1be19\" xlink:show=\"new\" xlink:title=\"psysml:270a9b55-e8f2-46f5-9c02-ba45f5a1be19\" xlink:type=\"simple\"><path d=\"M203.01,324.33 C214.15,331.41 225.74,339.19 236.13,347 C259.98,364.92 285.16,387.84 302.63,404.46 \" fill=\"none\" id=\"E7&lt;-E9\" style=\"stroke: #383838; stroke-width: 1.0;\"/><polygon fill=\"#383838\" points=\"191.63,317.25,194.6072,323.8178,201.8149,323.5958,198.8377,317.0279,191.63,317.25\" style=\"stroke: #383838; stroke-width: 1.0;\"/></a><!--MD5=[bfc3ddf2e613be37104f658f09af896c]\n",
       "link E9 to E5--><a href=\"psysml:cf5e8ef0-758f-412b-8419-a299a9750eac\" target=\"_top\" title=\"psysml:cf5e8ef0-758f-412b-8419-a299a9750eac\" xlink:actuate=\"onRequest\" xlink:href=\"psysml:cf5e8ef0-758f-412b-8419-a299a9750eac\" xlink:show=\"new\" xlink:title=\"psysml:cf5e8ef0-758f-412b-8419-a299a9750eac\" xlink:type=\"simple\"><path d=\"M328.47,450.75 C331.16,468.64 335.06,494.59 338.59,518.16 \" fill=\"none\" id=\"E9-&gt;E5\" style=\"stroke: #383838; stroke-width: 1.0;\"/><polygon fill=\"#FFFFFF\" points=\"341.57,537.99,331.824,520.2413,345.6685,518.1607,341.57,537.99\" style=\"stroke: #383838; stroke-width: 1.0;\"/><ellipse cx=\"332.9546\" cy=\"514.3074\" fill=\"#383838\" rx=\"2\" ry=\"2\" style=\"stroke: #383838; stroke-width: 1.0;\"/><ellipse cx=\"342.8436\" cy=\"512.8212\" fill=\"#383838\" rx=\"2\" ry=\"2\" style=\"stroke: #383838; stroke-width: 1.0;\"/></a><!--MD5=[35e5f1cbde42fa304a029880aa2bc7f2]\n",
       "link E9 to E10--><a href=\"psysml:03a60127-fd3f-4561-ae6d-a87475bfdaf0\" target=\"_top\" title=\"psysml:03a60127-fd3f-4561-ae6d-a87475bfdaf0\" xlink:actuate=\"onRequest\" xlink:href=\"psysml:03a60127-fd3f-4561-ae6d-a87475bfdaf0\" xlink:show=\"new\" xlink:title=\"psysml:03a60127-fd3f-4561-ae6d-a87475bfdaf0\" xlink:type=\"simple\"><path d=\"M293.99,450.75 C257.47,476.86 196.93,520.12 157.79,548.09 \" fill=\"none\" id=\"E9-&gt;E10\" style=\"stroke: #383838; stroke-width: 1.0;\"/><polygon fill=\"#383838\" points=\"151.22,552.78,159.4727,550.5679,155.9832,545.6869,151.22,552.78\" style=\"stroke: #383838; stroke-width: 1.0;\"/><text fill=\"#000000\" font-family=\"sans-serif\" font-size=\"13\" lengthAdjust=\"spacingAndGlyphs\" textLength=\"73\" x=\"235.13\" y=\"504.0669\">«objective»</text><text fill=\"#000000\" font-family=\"sans-serif\" font-size=\"13\" lengthAdjust=\"spacingAndGlyphs\" textLength=\"7\" x=\"151.2899\" y=\"541.9999\">*</text></a><!--MD5=[94adabc162ce7e41b39f13be14fbaeb3]\n",
       "reverse link E11 to E12--><a href=\"psysml:7df3fd9f-252d-4e83-afe5-15252f6bd5d9\" target=\"_top\" title=\"psysml:7df3fd9f-252d-4e83-afe5-15252f6bd5d9\" xlink:actuate=\"onRequest\" xlink:href=\"psysml:7df3fd9f-252d-4e83-afe5-15252f6bd5d9\" xlink:show=\"new\" xlink:title=\"psysml:7df3fd9f-252d-4e83-afe5-15252f6bd5d9\" xlink:type=\"simple\"><path d=\"M216.13,100.05 C216.13,115.76 216.13,133.82 216.13,147.66 \" fill=\"none\" id=\"E11&lt;-E12\" style=\"stroke: #383838; stroke-width: 1.0;\"/><polygon fill=\"#383838\" points=\"216.13,87.01,212.13,93.01,216.13,99.01,220.13,93.01,216.13,87.01\" style=\"stroke: #383838; stroke-width: 1.0;\"/></a><!--MD5=[ae660f5ecd7ddb04a8913625960940af]\n",
       "link E12 to E7--><a href=\"psysml:4172c94c-9fb8-4464-b137-e530fc31134b\" target=\"_top\" title=\"psysml:4172c94c-9fb8-4464-b137-e530fc31134b\" xlink:actuate=\"onRequest\" xlink:href=\"psysml:4172c94c-9fb8-4464-b137-e530fc31134b\" xlink:show=\"new\" xlink:title=\"psysml:4172c94c-9fb8-4464-b137-e530fc31134b\" xlink:type=\"simple\"><path d=\"M204.57,194.19 C196.01,210.65 184.09,233.54 173.88,253.14 \" fill=\"none\" id=\"E12-&gt;E7\" style=\"stroke: #383838; stroke-width: 1.0;\"/><polygon fill=\"#FFFFFF\" points=\"164.61,270.95,167.1672,250.8637,179.5876,257.3239,164.61,270.95\" style=\"stroke: #383838; stroke-width: 1.0;\"/><ellipse cx=\"171.5718\" cy=\"246.7297\" fill=\"#383838\" rx=\"2\" ry=\"2\" style=\"stroke: #383838; stroke-width: 1.0;\"/><ellipse cx=\"180.4435\" cy=\"251.3441\" fill=\"#383838\" rx=\"2\" ry=\"2\" style=\"stroke: #383838; stroke-width: 1.0;\"/></a><!--MD5=[e2a9ac97dcd3257bb5342dae06547bad]\n",
       "link E12 to E13--><a href=\"psysml:aee64b6c-bc56-4d82-a56f-3ba6edf4c149\" target=\"_top\" title=\"psysml:aee64b6c-bc56-4d82-a56f-3ba6edf4c149\" xlink:actuate=\"onRequest\" xlink:href=\"psysml:aee64b6c-bc56-4d82-a56f-3ba6edf4c149\" xlink:show=\"new\" xlink:title=\"psysml:aee64b6c-bc56-4d82-a56f-3ba6edf4c149\" xlink:type=\"simple\"><path d=\"M227.87,194.19 C238.2,213.72 253.31,242.3 264.63,263.7 \" fill=\"none\" id=\"E12-&gt;E13\" style=\"stroke: #383838; stroke-width: 1.0;\"/><polygon fill=\"#383838\" points=\"268.47,270.95,267.3924,262.4742,262.085,265.2727,268.47,270.95\" style=\"stroke: #383838; stroke-width: 1.0;\"/><text fill=\"#000000\" font-family=\"sans-serif\" font-size=\"13\" lengthAdjust=\"spacingAndGlyphs\" textLength=\"73\" x=\"252.13\" y=\"237.0669\">«objective»</text><text fill=\"#000000\" font-family=\"sans-serif\" font-size=\"13\" lengthAdjust=\"spacingAndGlyphs\" textLength=\"7\" x=\"257.3957\" y=\"259.8328\">*</text></a><!--MD5=[fc876a59a4a4e04f893e8a52a0fd9ffc]\n",
       "@startuml\r\n",
       "skinparam monochrome true\r\n",
       "skinparam classbackgroundcolor white\r\n",
       "skinparam shadowing false\r\n",
       "skinparam wrapWidth 300\r\n",
       "hide circle\r\n",
       "\r\n",
       "package \"AnalysisTest\" as E1  [[psysml:e1dfe890-ec15-4931-b288-05d8c66f0e23 ]]  {\r\n",
       "comp def \"V\" as E2  <<(T,blue) part  def>> [[psysml:e8de7c06-a552-45cc-9ef9-bdca622a4dc8 ]] {\r\n",
       "- - references - -\r\n",
       "m\r\n",
       "}\r\n",
       "comp usage \"vv: V \" as E3  <<(T,blue) part>> [[psysml:e405eddc-d04c-43ee-94c7-f68d6bd4037b ]] {\r\n",
       "}\r\n",
       "comp def \"AnalysisObjective\" as E4  <<(T,blue) requirement  def>> [[psysml:61935c6a-e9b2-427b-8e93-9f8ea2764a4f ]] {\r\n",
       "...\r\n",
       "- -\r\n",
       "}\r\n",
       "comp def \"AnalysisCase\" as E5 << analysis def>> [[psysml:5016a817-b8b6-43b2-a1c9-71130e2545c5 ]] {\r\n",
       "- - path step expressions - -\r\n",
       " { v.m }\r\n",
       "}\r\n",
       "comp usage \"obj: AnalysisObjective \" as E6  <<(T,blue) requirement>> [[psysml:8ed6d9d8-007f-466a-ada9-4e78a60ebf86 ]] {\r\n",
       "}\r\n",
       "comp def \"AnalysisPlan\" as E7 << analysis def>> [[psysml:0d28215e-abd0-4258-9ce4-d7487f47f154 ]] {\r\n",
       "}\r\n",
       "comp usage \"obj \" as E8  <<(T,blue) requirement>> [[psysml:317ace64-a3b7-4095-b75a-9c551641bbd2 ]] {\r\n",
       "...\r\n",
       "- -\r\n",
       "}\r\n",
       "comp usage \"analysisCase: AnalysisCase \" as E9 << analysis>> [[psysml:0f757ff2-27a2-40d5-a25f-af43358ff77a ]] {\r\n",
       "}\r\n",
       "comp usage \"obj \" as E10  <<(T,blue) requirement>> [[psysml:756c2ee8-950e-4679-a51a-3cb75b1efb3e ]] {\r\n",
       "}\r\n",
       "comp usage \"analysisContext \" as E11  <<(T,blue) part>> [[psysml:b24749b9-9e77-4740-bd21-7fc3830bb957 ]] {\r\n",
       "}\r\n",
       "comp usage \"analysisPlan: AnalysisPlan \" as E12 << analysis>> [[psysml:9d8d7d87-8dd4-470f-9d18-cffbc3763f0c ]] {\r\n",
       "}\r\n",
       "comp usage \"obj \" as E13  <<(T,blue) requirement>> [[psysml:215563a4-4360-48d3-80f1-175339b6797a ]] {\r\n",
       "}\r\n",
       "}\r\n",
       "E3 - -:|> E2 [[psysml:f45a4065-dcd9-4d0e-be10-466e9a1a32d6 ]] \r\n",
       "E5 ..> E2 [[psysml:4ce798b4-e7f7-45ac-94f6-a9dc23ec95c2 ]] : <<subject>>\r\n",
       "E5 - ->> E6 [[psysml:b91cd128-722a-4ae9-a5d3-51e53a9e38d7 ]] : <<objective>>\r\n",
       "E6 - -:|> E4 [[psysml:b2f535bd-3827-4daf-a953-8c36dc8e5a05 ]] \r\n",
       "E7 ..> E2 [[psysml:38ee38e5-fe2f-49e8-a238-8ef961814591 ]] : <<subject>>\r\n",
       "E7 - ->> \"*\"E8 [[psysml:17344d0c-3816-44f9-9c17-e4b7438070db ]] : <<objective>>\r\n",
       "E7 *- - E9 [[psysml:270a9b55-e8f2-46f5-9c02-ba45f5a1be19 ]] \r\n",
       "E9 - -:|> E5 [[psysml:cf5e8ef0-758f-412b-8419-a299a9750eac ]] \r\n",
       "E9 - ->> \"*\"E10 [[psysml:03a60127-fd3f-4561-ae6d-a87475bfdaf0 ]] : <<objective>>\r\n",
       "E11 *- - E12 [[psysml:7df3fd9f-252d-4e83-afe5-15252f6bd5d9 ]] \r\n",
       "E12 - -:|> E7 [[psysml:4172c94c-9fb8-4464-b137-e530fc31134b ]] \r\n",
       "E12 - ->> \"*\"E13 [[psysml:aee64b6c-bc56-4d82-a56f-3ba6edf4c149 ]] : <<objective>>\r\n",
       "@enduml\r\n",
       "\n",
       "PlantUML version 1.2020.13(Sat Jun 13 12:26:38 UTC 2020)\n",
       "(EPL source distribution)\n",
       "Java Runtime: OpenJDK Runtime Environment\n",
       "JVM: OpenJDK 64-Bit Server VM\n",
       "Default Encoding: UTF-8\n",
       "Language: en\n",
       "Country: null\n",
       "--></g></svg>"
      ]
     },
     "execution_count": 38,
     "metadata": {},
     "output_type": "execute_result"
    }
   ],
   "source": [
    "%viz --style=\"DEFAULT\" --view=\"Tree\" \"AnalysisTest\""
   ]
  },
  {
   "cell_type": "code",
   "execution_count": 39,
   "id": "d3d180ee",
   "metadata": {
    "execution": {
     "iopub.execute_input": "2022-02-05T16:52:03.980159Z",
     "iopub.status.busy": "2022-02-05T16:52:03.979759Z",
     "iopub.status.idle": "2022-02-05T16:52:03.984464Z",
     "shell.execute_reply": "2022-02-05T16:52:03.984775Z"
    }
   },
   "outputs": [
    {
     "data": {
      "image/svg+xml": [
       "<?xml version=\"1.0\" encoding=\"UTF-8\" standalone=\"no\"?><svg xmlns=\"http://www.w3.org/2000/svg\" xmlns:xlink=\"http://www.w3.org/1999/xlink\" contentScriptType=\"application/ecmascript\" contentStyleType=\"text/css\" height=\"12px\" preserveAspectRatio=\"none\" style=\"width:12px;height:12px;\" version=\"1.1\" viewBox=\"0 0 12 12\" width=\"12px\" zoomAndPan=\"magnify\"><defs/><g><!--MD5=[c5f280e076d0d61ccf4b0f27871bda1d]\n",
       "@startuml\r\n",
       "skinparam monochrome true\r\n",
       "skinparam classbackgroundcolor white\r\n",
       "skinparam shadowing false\r\n",
       "skinparam wrapWidth 300\r\n",
       "hide circle\r\n",
       "\r\n",
       "@enduml\r\n",
       "\n",
       "PlantUML version 1.2020.13(Sat Jun 13 12:26:38 UTC 2020)\n",
       "(EPL source distribution)\n",
       "Java Runtime: OpenJDK Runtime Environment\n",
       "JVM: OpenJDK 64-Bit Server VM\n",
       "Default Encoding: UTF-8\n",
       "Language: en\n",
       "Country: null\n",
       "--></g></svg>"
      ]
     },
     "execution_count": 39,
     "metadata": {},
     "output_type": "execute_result"
    }
   ],
   "source": [
    "%viz --style=\"DEFAULT\" --view=\"State\" \"AnalysisTest\""
   ]
  },
  {
   "cell_type": "code",
   "execution_count": 40,
   "id": "0aff31db",
   "metadata": {
    "execution": {
     "iopub.execute_input": "2022-02-05T16:52:04.034912Z",
     "iopub.status.busy": "2022-02-05T16:52:04.034505Z",
     "iopub.status.idle": "2022-02-05T16:52:04.086197Z",
     "shell.execute_reply": "2022-02-05T16:52:04.085909Z"
    }
   },
   "outputs": [
    {
     "data": {
      "image/svg+xml": [
       "<?xml version=\"1.0\" encoding=\"UTF-8\" standalone=\"no\"?><svg xmlns=\"http://www.w3.org/2000/svg\" xmlns:xlink=\"http://www.w3.org/1999/xlink\" contentScriptType=\"application/ecmascript\" contentStyleType=\"text/css\" height=\"500px\" preserveAspectRatio=\"none\" style=\"width:425px;height:500px;\" version=\"1.1\" viewBox=\"0 0 425 500\" width=\"425px\" zoomAndPan=\"magnify\"><defs/><g><!--MD5=[fbc87193dbaf4d95561dea2c320d4a47]\n",
       "cluster E1--><a href=\"psysml:e1dfe890-ec15-4931-b288-05d8c66f0e23\" target=\"_top\" title=\"psysml:e1dfe890-ec15-4931-b288-05d8c66f0e23\" xlink:actuate=\"onRequest\" xlink:href=\"psysml:e1dfe890-ec15-4931-b288-05d8c66f0e23\" xlink:show=\"new\" xlink:title=\"psysml:e1dfe890-ec15-4931-b288-05d8c66f0e23\" xlink:type=\"simple\"><polygon fill=\"#FFFFFF\" points=\"16,6,108,6,115,28.2969,403,28.2969,403,488,16,488,16,6\" style=\"stroke: #000000; stroke-width: 1.5;\"/><line style=\"stroke: #000000; stroke-width: 1.5;\" x1=\"16\" x2=\"115\" y1=\"28.2969\" y2=\"28.2969\"/><text fill=\"#000000\" font-family=\"sans-serif\" font-size=\"14\" font-weight=\"bold\" lengthAdjust=\"spacingAndGlyphs\" textLength=\"86\" x=\"20\" y=\"20.9951\">AnalysisTest</text></a><!--MD5=[14e3b0961a2654348d326746436168a1]\n",
       "cluster E6--><a href=\"psysml:0d28215e-abd0-4258-9ce4-d7487f47f154\" target=\"_top\" title=\"psysml:0d28215e-abd0-4258-9ce4-d7487f47f154\" xlink:actuate=\"onRequest\" xlink:href=\"psysml:0d28215e-abd0-4258-9ce4-d7487f47f154\" xlink:show=\"new\" xlink:title=\"psysml:0d28215e-abd0-4258-9ce4-d7487f47f154\" xlink:type=\"simple\"><rect fill=\"#FFFFFF\" height=\"136\" id=\"E6\" style=\"stroke: #383838; stroke-width: 1.5;\" width=\"278\" x=\"93\" y=\"184\"/><rect fill=\"#F8F8F8\" height=\"37.9375\" style=\"stroke: #383838; stroke-width: 1.5;\" width=\"278\" x=\"93\" y=\"184\"/><text fill=\"#000000\" font-family=\"sans-serif\" font-size=\"12\" font-style=\"italic\" lengthAdjust=\"spacingAndGlyphs\" textLength=\"88\" x=\"188\" y=\"200.1387\">«analysis def»</text><text fill=\"#000000\" font-family=\"sans-serif\" font-size=\"12\" lengthAdjust=\"spacingAndGlyphs\" textLength=\"77\" x=\"193.5\" y=\"214.1074\">AnalysisPlan</text></a><!--MD5=[7f149f147074ac12df2cb0a7728a5fb0]\n",
       "cluster E9--><a href=\"psysml:b24749b9-9e77-4740-bd21-7fc3830bb957\" target=\"_top\" title=\"psysml:b24749b9-9e77-4740-bd21-7fc3830bb957\" xlink:actuate=\"onRequest\" xlink:href=\"psysml:b24749b9-9e77-4740-bd21-7fc3830bb957\" xlink:show=\"new\" xlink:title=\"psysml:b24749b9-9e77-4740-bd21-7fc3830bb957\" xlink:type=\"simple\"><rect fill=\"#FFFFFF\" height=\"94\" id=\"E9\" rx=\"10\" ry=\"10\" style=\"stroke: #383838; stroke-width: 1.5;\" width=\"124\" x=\"255\" y=\"49\"/><rect fill=\"#F8F8F8\" height=\"23.9688\" rx=\"10\" ry=\"10\" style=\"stroke: #F8F8F8; stroke-width: 1.5;\" width=\"124\" x=\"255\" y=\"49\"/><rect fill=\"#F8F8F8\" height=\"10\" style=\"stroke: #F8F8F8; stroke-width: 1.5;\" width=\"124\" x=\"255\" y=\"62.9688\"/><rect fill=\"none\" height=\"94\" id=\"E9\" rx=\"10\" ry=\"10\" style=\"stroke: #383838; stroke-width: 1.5;\" width=\"124\" x=\"255\" y=\"49\"/><text fill=\"#000000\" font-family=\"sans-serif\" font-size=\"12\" lengthAdjust=\"spacingAndGlyphs\" textLength=\"98\" x=\"268\" y=\"65.1387\">analysisContext</text><line style=\"stroke: #383838; stroke-width: 1.0;\" x1=\"255\" x2=\"379\" y1=\"72.9688\" y2=\"72.9688\"/></a><!--MD5=[ebbe1d658d1005bcc118a6aa81145e00]\n",
       "class E4--><a href=\"psysml:61935c6a-e9b2-427b-8e93-9f8ea2764a4f\" target=\"_top\" title=\"psysml:61935c6a-e9b2-427b-8e93-9f8ea2764a4f\" xlink:actuate=\"onRequest\" xlink:href=\"psysml:61935c6a-e9b2-427b-8e93-9f8ea2764a4f\" xlink:show=\"new\" xlink:title=\"psysml:61935c6a-e9b2-427b-8e93-9f8ea2764a4f\" xlink:type=\"simple\"><rect fill=\"#FFFFFF\" height=\"66.7422\" id=\"E4\" style=\"stroke: #383838; stroke-width: 1.5;\" width=\"121\" x=\"117.5\" y=\"72\"/><text fill=\"#000000\" font-family=\"sans-serif\" font-size=\"12\" font-style=\"italic\" lengthAdjust=\"spacingAndGlyphs\" textLength=\"119\" x=\"118.5\" y=\"88.1387\">«requirement  def»</text><text fill=\"#000000\" font-family=\"sans-serif\" font-size=\"12\" lengthAdjust=\"spacingAndGlyphs\" textLength=\"107\" x=\"124.5\" y=\"102.1074\">AnalysisObjective</text><line style=\"stroke: #383838; stroke-width: 1.5;\" x1=\"118.5\" x2=\"237.5\" y1=\"109.9375\" y2=\"109.9375\"/><text fill=\"#000000\" font-family=\"sans-serif\" font-size=\"11\" lengthAdjust=\"spacingAndGlyphs\" textLength=\"12\" x=\"123.5\" y=\"124.1479\">...</text><line style=\"stroke: #383838; stroke-width: 1.0;\" x1=\"118.5\" x2=\"237.5\" y1=\"130.7422\" y2=\"130.7422\"/></a><g id=\"E1.E2\"><a href=\"psysml:e8de7c06-a552-45cc-9ef9-bdca622a4dc8\" target=\"_top\" title=\"psysml:e8de7c06-a552-45cc-9ef9-bdca622a4dc8\" xlink:actuate=\"onRequest\" xlink:href=\"psysml:e8de7c06-a552-45cc-9ef9-bdca622a4dc8\" xlink:show=\"new\" xlink:title=\"psysml:e8de7c06-a552-45cc-9ef9-bdca622a4dc8\" xlink:type=\"simple\"><rect fill=\"#FFFFFF\" height=\"42.9375\" id=\"E2\" style=\"stroke: #383838; stroke-width: 1.5;\" width=\"75\" x=\"77.5\" y=\"429\"/><rect fill=\"#F8F8F8\" height=\"37.9375\" style=\"stroke: #383838; stroke-width: 1.5;\" width=\"75\" x=\"77.5\" y=\"429\"/><text fill=\"#000000\" font-family=\"sans-serif\" font-size=\"12\" font-style=\"italic\" lengthAdjust=\"spacingAndGlyphs\" textLength=\"68\" x=\"81\" y=\"445.1387\">«part  def»</text><text fill=\"#000000\" font-family=\"sans-serif\" font-size=\"12\" lengthAdjust=\"spacingAndGlyphs\" textLength=\"8\" x=\"111\" y=\"459.1074\">V</text></a></g><g id=\"E1.E3\"><a href=\"psysml:e405eddc-d04c-43ee-94c7-f68d6bd4037b\" target=\"_top\" title=\"psysml:e405eddc-d04c-43ee-94c7-f68d6bd4037b\" xlink:actuate=\"onRequest\" xlink:href=\"psysml:e405eddc-d04c-43ee-94c7-f68d6bd4037b\" xlink:show=\"new\" xlink:title=\"psysml:e405eddc-d04c-43ee-94c7-f68d6bd4037b\" xlink:type=\"simple\"><rect fill=\"#FFFFFF\" height=\"40\" id=\"E3\" rx=\"10\" ry=\"10\" style=\"stroke: #383838; stroke-width: 1.5;\" width=\"50\" x=\"32\" y=\"85.5\"/><rect fill=\"#F8F8F8\" height=\"23.9688\" rx=\"10\" ry=\"10\" style=\"stroke: #F8F8F8; stroke-width: 1.5;\" width=\"50\" x=\"32\" y=\"85.5\"/><rect fill=\"#F8F8F8\" height=\"10\" style=\"stroke: #F8F8F8; stroke-width: 1.5;\" width=\"50\" x=\"32\" y=\"99.4688\"/><rect fill=\"none\" height=\"40\" id=\"E3\" rx=\"10\" ry=\"10\" style=\"stroke: #383838; stroke-width: 1.5;\" width=\"50\" x=\"32\" y=\"85.5\"/><text fill=\"#000000\" font-family=\"sans-serif\" font-size=\"12\" lengthAdjust=\"spacingAndGlyphs\" textLength=\"28\" x=\"43\" y=\"101.6387\">vv: V</text></a></g><g id=\"E1.E5\"><a href=\"psysml:5016a817-b8b6-43b2-a1c9-71130e2545c5\" target=\"_top\" title=\"psysml:5016a817-b8b6-43b2-a1c9-71130e2545c5\" xlink:actuate=\"onRequest\" xlink:href=\"psysml:5016a817-b8b6-43b2-a1c9-71130e2545c5\" xlink:show=\"new\" xlink:title=\"psysml:5016a817-b8b6-43b2-a1c9-71130e2545c5\" xlink:type=\"simple\"><rect fill=\"#FFFFFF\" height=\"42.9375\" id=\"E5\" style=\"stroke: #383838; stroke-width: 1.5;\" width=\"95\" x=\"167.5\" y=\"353\"/><rect fill=\"#F8F8F8\" height=\"37.9375\" style=\"stroke: #383838; stroke-width: 1.5;\" width=\"95\" x=\"167.5\" y=\"353\"/><text fill=\"#000000\" font-family=\"sans-serif\" font-size=\"12\" font-style=\"italic\" lengthAdjust=\"spacingAndGlyphs\" textLength=\"88\" x=\"171\" y=\"369.1387\">«analysis def»</text><text fill=\"#000000\" font-family=\"sans-serif\" font-size=\"12\" lengthAdjust=\"spacingAndGlyphs\" textLength=\"81\" x=\"174.5\" y=\"383.1074\">AnalysisCase</text></a></g><!--MD5=[2156ba9850f5573cc1fc38a6a4b2f02b]\n",
       "class E7--><a href=\"psysml:317ace64-a3b7-4095-b75a-9c551641bbd2\" target=\"_top\" title=\"psysml:317ace64-a3b7-4095-b75a-9c551641bbd2\" xlink:actuate=\"onRequest\" xlink:href=\"psysml:317ace64-a3b7-4095-b75a-9c551641bbd2\" xlink:show=\"new\" xlink:title=\"psysml:317ace64-a3b7-4095-b75a-9c551641bbd2\" xlink:type=\"simple\"><rect fill=\"#FFFFFF\" height=\"52.7734\" id=\"E7\" rx=\"10\" ry=\"10\" style=\"stroke: #383838; stroke-width: 1.5;\" width=\"84\" x=\"263\" y=\"243\"/><text fill=\"#000000\" font-family=\"sans-serif\" font-size=\"12\" lengthAdjust=\"spacingAndGlyphs\" textLength=\"70\" x=\"270\" y=\"259.1387\">«objective»</text><line style=\"stroke: #383838; stroke-width: 1.5;\" x1=\"264\" x2=\"346\" y1=\"266.9688\" y2=\"266.9688\"/><text fill=\"#000000\" font-family=\"sans-serif\" font-size=\"11\" lengthAdjust=\"spacingAndGlyphs\" textLength=\"12\" x=\"269\" y=\"281.1792\">...</text><line style=\"stroke: #383838; stroke-width: 1.0;\" x1=\"264\" x2=\"346\" y1=\"287.7734\" y2=\"287.7734\"/></a><g id=\"E1.E6.E8\"><a href=\"psysml:0f757ff2-27a2-40d5-a25f-af43358ff77a\" target=\"_top\" title=\"psysml:0f757ff2-27a2-40d5-a25f-af43358ff77a\" xlink:actuate=\"onRequest\" xlink:href=\"psysml:0f757ff2-27a2-40d5-a25f-af43358ff77a\" xlink:show=\"new\" xlink:title=\"psysml:0f757ff2-27a2-40d5-a25f-af43358ff77a\" xlink:type=\"simple\"><rect fill=\"#FFFFFF\" height=\"42.9375\" id=\"E8\" rx=\"10\" ry=\"10\" style=\"stroke: #383838; stroke-width: 1.5;\" width=\"92\" x=\"136\" y=\"248\"/><rect fill=\"#F8F8F8\" height=\"37.9375\" rx=\"10\" ry=\"10\" style=\"stroke: #F8F8F8; stroke-width: 1.5;\" width=\"92\" x=\"136\" y=\"248\"/><rect fill=\"#F8F8F8\" height=\"10\" style=\"stroke: #F8F8F8; stroke-width: 1.5;\" width=\"92\" x=\"136\" y=\"275.9375\"/><rect fill=\"none\" height=\"42.9375\" id=\"E8\" rx=\"10\" ry=\"10\" style=\"stroke: #383838; stroke-width: 1.5;\" width=\"92\" x=\"136\" y=\"248\"/><text fill=\"#000000\" font-family=\"sans-serif\" font-size=\"12\" font-style=\"italic\" lengthAdjust=\"spacingAndGlyphs\" textLength=\"64\" x=\"150\" y=\"264.1387\">«analysis»</text><text fill=\"#000000\" font-family=\"sans-serif\" font-size=\"12\" lengthAdjust=\"spacingAndGlyphs\" textLength=\"81\" x=\"141.5\" y=\"278.1074\">analysisCase</text></a></g><g id=\"E1.E9.E10\"><a href=\"psysml:9d8d7d87-8dd4-470f-9d18-cffbc3763f0c\" target=\"_top\" title=\"psysml:9d8d7d87-8dd4-470f-9d18-cffbc3763f0c\" xlink:actuate=\"onRequest\" xlink:href=\"psysml:9d8d7d87-8dd4-470f-9d18-cffbc3763f0c\" xlink:show=\"new\" xlink:title=\"psysml:9d8d7d87-8dd4-470f-9d18-cffbc3763f0c\" xlink:type=\"simple\"><rect fill=\"#FFFFFF\" height=\"42.9375\" id=\"E10\" rx=\"10\" ry=\"10\" style=\"stroke: #383838; stroke-width: 1.5;\" width=\"88\" x=\"274\" y=\"84\"/><rect fill=\"#F8F8F8\" height=\"37.9375\" rx=\"10\" ry=\"10\" style=\"stroke: #F8F8F8; stroke-width: 1.5;\" width=\"88\" x=\"274\" y=\"84\"/><rect fill=\"#F8F8F8\" height=\"10\" style=\"stroke: #F8F8F8; stroke-width: 1.5;\" width=\"88\" x=\"274\" y=\"111.9375\"/><rect fill=\"none\" height=\"42.9375\" id=\"E10\" rx=\"10\" ry=\"10\" style=\"stroke: #383838; stroke-width: 1.5;\" width=\"88\" x=\"274\" y=\"84\"/><text fill=\"#000000\" font-family=\"sans-serif\" font-size=\"12\" font-style=\"italic\" lengthAdjust=\"spacingAndGlyphs\" textLength=\"64\" x=\"286\" y=\"100.1387\">«analysis»</text><text fill=\"#000000\" font-family=\"sans-serif\" font-size=\"12\" lengthAdjust=\"spacingAndGlyphs\" textLength=\"77\" x=\"279.5\" y=\"114.1074\">analysisPlan</text></a></g><!--MD5=[15ebcb19ae302d9b601edb458606d402]\n",
       "link E5 to E2--><a href=\"psysml:4ce798b4-e7f7-45ac-94f6-a9dc23ec95c2\" target=\"_top\" title=\"psysml:4ce798b4-e7f7-45ac-94f6-a9dc23ec95c2\" xlink:actuate=\"onRequest\" xlink:href=\"psysml:4ce798b4-e7f7-45ac-94f6-a9dc23ec95c2\" xlink:show=\"new\" xlink:title=\"psysml:4ce798b4-e7f7-45ac-94f6-a9dc23ec95c2\" xlink:type=\"simple\"><path d=\"M187.14,396.11 C174.68,405.33 159.92,416.26 147.01,425.81 \" fill=\"none\" id=\"E5-&gt;E2\" style=\"stroke: #383838; stroke-width: 1.0; stroke-dasharray: 7.0,7.0;\"/><polygon fill=\"#383838\" points=\"142.71,429,152.3187,426.8384,146.722,426.016,147.5443,420.4193,142.71,429\" style=\"stroke: #383838; stroke-width: 1.0;\"/><text fill=\"#000000\" font-family=\"sans-serif\" font-size=\"13\" lengthAdjust=\"spacingAndGlyphs\" textLength=\"62\" x=\"174\" y=\"417.0669\">«subject»</text></a><!--MD5=[2351f337d6de0f557b50152ba70847b5]\n",
       "link E6 to E2--><a href=\"psysml:38ee38e5-fe2f-49e8-a238-8ef961814591\" target=\"_top\" title=\"psysml:38ee38e5-fe2f-49e8-a238-8ef961814591\" xlink:actuate=\"onRequest\" xlink:href=\"psysml:38ee38e5-fe2f-49e8-a238-8ef961814591\" xlink:show=\"new\" xlink:title=\"psysml:38ee38e5-fe2f-49e8-a238-8ef961814591\" xlink:type=\"simple\"><path d=\"M92.9414,294.7008 C92.8971,294.8555 92.8528,295.0108 92.8084,295.1667 C92.631,295.7901 92.4529,296.4226 92.2746,297.064 C90.848,302.1949 89.4013,307.8909 88.0675,313.9888 C82.7325,338.38 79.205,369.2 86,396 C88.48,405.76 93.13,415.68 98,424.27 \" fill=\"none\" id=\"E6-&gt;E2\" style=\"stroke: #383838; stroke-width: 1.0; stroke-dasharray: 7.0,7.0;\"/><polygon fill=\"#383838\" points=\"100.71,428.9,99.6101,419.1127,98.1818,424.5863,92.7082,423.1579,100.71,428.9\" style=\"stroke: #383838; stroke-width: 1.0;\"/><text fill=\"#000000\" font-family=\"sans-serif\" font-size=\"13\" lengthAdjust=\"spacingAndGlyphs\" textLength=\"62\" x=\"87\" y=\"379.0669\">«subject»</text></a><!--MD5=[1ccb2481ffa92f8d51a74ee30c51832a]\n",
       "link E8 to E5--><a href=\"psysml:cf5e8ef0-758f-412b-8419-a299a9750eac\" target=\"_top\" title=\"psysml:cf5e8ef0-758f-412b-8419-a299a9750eac\" xlink:actuate=\"onRequest\" xlink:href=\"psysml:cf5e8ef0-758f-412b-8419-a299a9750eac\" xlink:show=\"new\" xlink:title=\"psysml:cf5e8ef0-758f-412b-8419-a299a9750eac\" xlink:type=\"simple\"><path d=\"M188.68,291.34 C192.52,303.35 197.49,318.85 202.07,333.15 \" fill=\"none\" id=\"E8-&gt;E5\" style=\"stroke: #383838; stroke-width: 1.0;\"/><polygon fill=\"#FFFFFF\" points=\"208.33,352.69,195.871,336.7284,209.2046,332.4604,208.33,352.69\" style=\"stroke: #383838; stroke-width: 1.0;\"/><ellipse cx=\"196.0381\" cy=\"330.69\" fill=\"#383838\" rx=\"2\" ry=\"2\" style=\"stroke: #383838; stroke-width: 1.0;\"/><ellipse cx=\"205.5621\" cy=\"327.6415\" fill=\"#383838\" rx=\"2\" ry=\"2\" style=\"stroke: #383838; stroke-width: 1.0;\"/></a><!--MD5=[198716bf12f04006f5c20d61bde6d80d]\n",
       "link E10 to E6--><a href=\"psysml:4172c94c-9fb8-4464-b137-e530fc31134b\" target=\"_top\" title=\"psysml:4172c94c-9fb8-4464-b137-e530fc31134b\" xlink:actuate=\"onRequest\" xlink:href=\"psysml:4172c94c-9fb8-4464-b137-e530fc31134b\" xlink:show=\"new\" xlink:title=\"psysml:4172c94c-9fb8-4464-b137-e530fc31134b\" xlink:type=\"simple\"><path d=\"M300.95,127.4 C292.58,136.18 281.77,145.6 270,151 C239.51,164.99 144.58,145.17 120,168 C115.9013,171.8063 112.5234,176.1975 109.7512,180.9721 C109.4047,181.569 109.0676,182.1718 108.7398,182.7802 C108.5759,183.0844 108.4143,183.39 108.2549,183.697 \" fill=\"none\" id=\"E10-&gt;E6\" style=\"stroke: #383838; stroke-width: 1.0;\"/><polygon fill=\"#FFFFFF\" points=\"108.2549,183.697,110.795,163.6085,123.2209,170.058,108.2549,183.697\" style=\"stroke: #383838; stroke-width: 1.0;\"/><ellipse cx=\"115.196\" cy=\"159.4707\" fill=\"#383838\" rx=\"2\" ry=\"2\" style=\"stroke: #383838; stroke-width: 1.0;\"/><ellipse cx=\"124.0716\" cy=\"164.0776\" fill=\"#383838\" rx=\"2\" ry=\"2\" style=\"stroke: #383838; stroke-width: 1.0;\"/></a><!--MD5=[c723d03ee32e60dd212973c090e7d35a]\n",
       "@startuml\r\n",
       "skinparam ranksep 10\r\n",
       "skinparam rectangle {\r\n",
       " backgroundColor<<block>> LightGreen\r\n",
       "}\r\n",
       "skinparam monochrome true\r\n",
       "skinparam classbackgroundcolor white\r\n",
       "skinparam shadowing false\r\n",
       "skinparam wrapWidth 300\r\n",
       "hide circle\r\n",
       "\r\n",
       "package \"AnalysisTest\" as E1  [[psysml:e1dfe890-ec15-4931-b288-05d8c66f0e23 ]]  {\r\n",
       "rec def \"V\" as E2  <<(T,blue) part  def>> [[psysml:e8de7c06-a552-45cc-9ef9-bdca622a4dc8 ]] {\r\n",
       "}\r\n",
       "rec usage \"vv: V\" as E3  [[psysml:e405eddc-d04c-43ee-94c7-f68d6bd4037b ]] {\r\n",
       "}\r\n",
       "comp def \"AnalysisObjective\" as E4  <<(T,blue) requirement  def>> [[psysml:61935c6a-e9b2-427b-8e93-9f8ea2764a4f ]] {\r\n",
       "...\r\n",
       "- -\r\n",
       "}\r\n",
       "rec def \"AnalysisCase\" as E5 << analysis def>> [[psysml:5016a817-b8b6-43b2-a1c9-71130e2545c5 ]] {\r\n",
       "}\r\n",
       "rec def \"AnalysisPlan\" as E6 << analysis def>> [[psysml:0d28215e-abd0-4258-9ce4-d7487f47f154 ]] {\r\n",
       "comp usage \" <U+00AB>objective<U+00BB> \" as E7 [[psysml:317ace64-a3b7-4095-b75a-9c551641bbd2 ]] {\r\n",
       "...\r\n",
       "- -\r\n",
       "}\r\n",
       "rec usage \"analysisCase\" as E8 << analysis>> [[psysml:0f757ff2-27a2-40d5-a25f-af43358ff77a ]] {\r\n",
       "}\r\n",
       "}\r\n",
       "rec usage \"analysisContext\" as E9  [[psysml:b24749b9-9e77-4740-bd21-7fc3830bb957 ]] {\r\n",
       "rec usage \"analysisPlan\" as E10 << analysis>> [[psysml:9d8d7d87-8dd4-470f-9d18-cffbc3763f0c ]] {\r\n",
       "}\r\n",
       "}\r\n",
       "}\r\n",
       "E5 ..> E2 [[psysml:4ce798b4-e7f7-45ac-94f6-a9dc23ec95c2 ]] : <<subject>>\r\n",
       "E6 ..> E2 [[psysml:38ee38e5-fe2f-49e8-a238-8ef961814591 ]] : <<subject>>\r\n",
       "E8 - -:|> E5 [[psysml:cf5e8ef0-758f-412b-8419-a299a9750eac ]] \r\n",
       "E10 - -:|> E6 [[psysml:4172c94c-9fb8-4464-b137-e530fc31134b ]] \r\n",
       "@enduml\r\n",
       "\n",
       "PlantUML version 1.2020.13(Sat Jun 13 12:26:38 UTC 2020)\n",
       "(EPL source distribution)\n",
       "Java Runtime: OpenJDK Runtime Environment\n",
       "JVM: OpenJDK 64-Bit Server VM\n",
       "Default Encoding: UTF-8\n",
       "Language: en\n",
       "Country: null\n",
       "--></g></svg>"
      ]
     },
     "execution_count": 40,
     "metadata": {},
     "output_type": "execute_result"
    }
   ],
   "source": [
    "%viz --style=\"DEFAULT\" --view=\"Interconnection\" \"AnalysisTest\""
   ]
  },
  {
   "cell_type": "code",
   "execution_count": 41,
   "id": "010bace4",
   "metadata": {
    "execution": {
     "iopub.execute_input": "2022-02-05T16:52:04.136129Z",
     "iopub.status.busy": "2022-02-05T16:52:04.135728Z",
     "iopub.status.idle": "2022-02-05T16:52:04.176247Z",
     "shell.execute_reply": "2022-02-05T16:52:04.172426Z"
    }
   },
   "outputs": [
    {
     "data": {
      "image/svg+xml": [
       "<?xml version=\"1.0\" encoding=\"UTF-8\" standalone=\"no\"?><svg xmlns=\"http://www.w3.org/2000/svg\" xmlns:xlink=\"http://www.w3.org/1999/xlink\" contentScriptType=\"application/ecmascript\" contentStyleType=\"text/css\" height=\"233px\" preserveAspectRatio=\"none\" style=\"width:649px;height:233px;\" version=\"1.1\" viewBox=\"0 0 649 233\" width=\"649px\" zoomAndPan=\"magnify\"><defs/><g><!--MD5=[fbc87193dbaf4d95561dea2c320d4a47]\n",
       "cluster E1--><a href=\"psysml:5016a817-b8b6-43b2-a1c9-71130e2545c5\" target=\"_top\" title=\"psysml:5016a817-b8b6-43b2-a1c9-71130e2545c5\" xlink:actuate=\"onRequest\" xlink:href=\"psysml:5016a817-b8b6-43b2-a1c9-71130e2545c5\" xlink:show=\"new\" xlink:title=\"psysml:5016a817-b8b6-43b2-a1c9-71130e2545c5\" xlink:type=\"simple\"><rect fill=\"#FFFFFF\" height=\"122\" id=\"E1\" style=\"stroke: #383838; stroke-width: 1.5;\" width=\"146\" x=\"7\" y=\"42.0986\"/><rect fill=\"#F8F8F8\" height=\"37.9375\" style=\"stroke: #383838; stroke-width: 1.5;\" width=\"146\" x=\"7\" y=\"42.0986\"/><text fill=\"#000000\" font-family=\"sans-serif\" font-size=\"12\" font-style=\"italic\" lengthAdjust=\"spacingAndGlyphs\" textLength=\"88\" x=\"36\" y=\"58.2373\">«analysis def»</text><text fill=\"#000000\" font-family=\"sans-serif\" font-size=\"12\" lengthAdjust=\"spacingAndGlyphs\" textLength=\"81\" x=\"39.5\" y=\"72.2061\">AnalysisCase</text></a><!--MD5=[f6df4d0ebaf0b5dfb2ced0ae5af7c670]\n",
       "cluster E4--><a href=\"psysml:0d28215e-abd0-4258-9ce4-d7487f47f154\" target=\"_top\" title=\"psysml:0d28215e-abd0-4258-9ce4-d7487f47f154\" xlink:actuate=\"onRequest\" xlink:href=\"psysml:0d28215e-abd0-4258-9ce4-d7487f47f154\" xlink:show=\"new\" xlink:title=\"psysml:0d28215e-abd0-4258-9ce4-d7487f47f154\" xlink:type=\"simple\"><rect fill=\"#FFFFFF\" height=\"180\" id=\"E4\" style=\"stroke: #383838; stroke-width: 1.5;\" width=\"262\" x=\"216\" y=\"42.0986\"/><rect fill=\"#F8F8F8\" height=\"37.9375\" style=\"stroke: #383838; stroke-width: 1.5;\" width=\"262\" x=\"216\" y=\"42.0986\"/><text fill=\"#000000\" font-family=\"sans-serif\" font-size=\"12\" font-style=\"italic\" lengthAdjust=\"spacingAndGlyphs\" textLength=\"88\" x=\"303\" y=\"58.2373\">«analysis def»</text><text fill=\"#000000\" font-family=\"sans-serif\" font-size=\"12\" lengthAdjust=\"spacingAndGlyphs\" textLength=\"77\" x=\"308.5\" y=\"72.2061\">AnalysisPlan</text></a><!--MD5=[14e3b0961a2654348d326746436168a1]\n",
       "cluster E6--><a href=\"psysml:0f757ff2-27a2-40d5-a25f-af43358ff77a\" target=\"_top\" title=\"psysml:0f757ff2-27a2-40d5-a25f-af43358ff77a\" xlink:actuate=\"onRequest\" xlink:href=\"psysml:0f757ff2-27a2-40d5-a25f-af43358ff77a\" xlink:show=\"new\" xlink:title=\"psysml:0f757ff2-27a2-40d5-a25f-af43358ff77a\" xlink:type=\"simple\"><rect fill=\"#FFFFFF\" height=\"110.5\" id=\"E6\" rx=\"10\" ry=\"10\" style=\"stroke: #383838; stroke-width: 1.5;\" width=\"138\" x=\"299\" y=\"81.5986\"/><rect fill=\"#F8F8F8\" height=\"37.9375\" rx=\"10\" ry=\"10\" style=\"stroke: #F8F8F8; stroke-width: 1.5;\" width=\"138\" x=\"299\" y=\"81.5986\"/><rect fill=\"#F8F8F8\" height=\"10\" style=\"stroke: #F8F8F8; stroke-width: 1.5;\" width=\"138\" x=\"299\" y=\"109.5361\"/><rect fill=\"none\" height=\"110.5\" id=\"E6\" rx=\"10\" ry=\"10\" style=\"stroke: #383838; stroke-width: 1.5;\" width=\"138\" x=\"299\" y=\"81.5986\"/><text fill=\"#000000\" font-family=\"sans-serif\" font-size=\"12\" font-style=\"italic\" lengthAdjust=\"spacingAndGlyphs\" textLength=\"64\" x=\"336\" y=\"97.7373\">«analysis»</text><text fill=\"#000000\" font-family=\"sans-serif\" font-size=\"12\" lengthAdjust=\"spacingAndGlyphs\" textLength=\"81\" x=\"327.5\" y=\"111.7061\">analysisCase</text><line style=\"stroke: #383838; stroke-width: 1.0;\" x1=\"299\" x2=\"437\" y1=\"119.5361\" y2=\"119.5361\"/></a><!--MD5=[a84b4591f868c1fa4a211716a82f2f0d]\n",
       "cluster E10--><a href=\"psysml:9d8d7d87-8dd4-470f-9d18-cffbc3763f0c\" target=\"_top\" title=\"psysml:9d8d7d87-8dd4-470f-9d18-cffbc3763f0c\" xlink:actuate=\"onRequest\" xlink:href=\"psysml:9d8d7d87-8dd4-470f-9d18-cffbc3763f0c\" xlink:show=\"new\" xlink:title=\"psysml:9d8d7d87-8dd4-470f-9d18-cffbc3763f0c\" xlink:type=\"simple\"><rect fill=\"#FFFFFF\" height=\"122\" id=\"E10\" rx=\"10\" ry=\"10\" style=\"stroke: #383838; stroke-width: 1.5;\" width=\"130\" x=\"507\" y=\"42.0986\"/><rect fill=\"#F8F8F8\" height=\"37.9375\" rx=\"10\" ry=\"10\" style=\"stroke: #F8F8F8; stroke-width: 1.5;\" width=\"130\" x=\"507\" y=\"42.0986\"/><rect fill=\"#F8F8F8\" height=\"10\" style=\"stroke: #F8F8F8; stroke-width: 1.5;\" width=\"130\" x=\"507\" y=\"70.0361\"/><rect fill=\"none\" height=\"122\" id=\"E10\" rx=\"10\" ry=\"10\" style=\"stroke: #383838; stroke-width: 1.5;\" width=\"130\" x=\"507\" y=\"42.0986\"/><text fill=\"#000000\" font-family=\"sans-serif\" font-size=\"12\" font-style=\"italic\" lengthAdjust=\"spacingAndGlyphs\" textLength=\"64\" x=\"540\" y=\"58.2373\">«analysis»</text><text fill=\"#000000\" font-family=\"sans-serif\" font-size=\"12\" lengthAdjust=\"spacingAndGlyphs\" textLength=\"77\" x=\"533.5\" y=\"72.2061\">analysisPlan</text><line style=\"stroke: #383838; stroke-width: 1.0;\" x1=\"507\" x2=\"637\" y1=\"80.0361\" y2=\"80.0361\"/></a><text fill=\"#000000\" font-family=\"sans-serif\" font-size=\"14\" lengthAdjust=\"spacingAndGlyphs\" textLength=\"7\" x=\"76.5\" y=\"20.7969\">v</text><rect fill=\"#383838\" height=\"12\" style=\"stroke: #F8F8F8; stroke-width: 1.5;\" width=\"12\" x=\"74\" y=\"36.0986\"/><text fill=\"#000000\" font-family=\"sans-serif\" font-size=\"14\" lengthAdjust=\"spacingAndGlyphs\" textLength=\"39\" x=\"60.5\" y=\"183.0938\">result</text><rect fill=\"#383838\" height=\"12\" style=\"stroke: #F8F8F8; stroke-width: 1.5;\" width=\"12\" x=\"74\" y=\"158.0986\"/><text fill=\"#000000\" font-family=\"sans-serif\" font-size=\"14\" lengthAdjust=\"spacingAndGlyphs\" textLength=\"7\" x=\"230.5\" y=\"20.7969\">v</text><rect fill=\"#383838\" height=\"12\" style=\"stroke: #F8F8F8; stroke-width: 1.5;\" width=\"12\" x=\"228\" y=\"36.0986\"/><text fill=\"#000000\" font-family=\"sans-serif\" font-size=\"14\" lengthAdjust=\"spacingAndGlyphs\" textLength=\"39\" x=\"458.5\" y=\"183.0938\">result</text><rect fill=\"#383838\" height=\"12\" style=\"stroke: #F8F8F8; stroke-width: 1.5;\" width=\"12\" x=\"472\" y=\"158.0986\"/><text fill=\"#000000\" font-family=\"sans-serif\" font-size=\"14\" lengthAdjust=\"spacingAndGlyphs\" textLength=\"37\" x=\"349.5\" y=\"211.0938\">mass</text><rect fill=\"#383838\" height=\"12\" style=\"stroke: #F8F8F8; stroke-width: 1.5;\" width=\"12\" x=\"362\" y=\"186.0986\"/><text fill=\"#000000\" font-family=\"sans-serif\" font-size=\"14\" lengthAdjust=\"spacingAndGlyphs\" textLength=\"7\" x=\"364.5\" y=\"60.2969\">v</text><rect fill=\"#383838\" height=\"12\" style=\"stroke: #F8F8F8; stroke-width: 1.5;\" width=\"12\" x=\"362\" y=\"75.5986\"/><text fill=\"#000000\" font-family=\"sans-serif\" font-size=\"14\" lengthAdjust=\"spacingAndGlyphs\" textLength=\"7\" x=\"567.5\" y=\"20.7969\">v</text><rect fill=\"#383838\" height=\"12\" style=\"stroke: #F8F8F8; stroke-width: 1.5;\" width=\"12\" x=\"565\" y=\"36.0986\"/><text fill=\"#000000\" font-family=\"sans-serif\" font-size=\"14\" lengthAdjust=\"spacingAndGlyphs\" textLength=\"39\" x=\"505.5\" y=\"183.0938\">result</text><rect fill=\"#383838\" height=\"12\" style=\"stroke: #F8F8F8; stroke-width: 1.5;\" width=\"12\" x=\"519\" y=\"158.0986\"/><!--MD5=[f52a689c099c92ef58fa28d035aa8400]\n",
       "@startuml\r\n",
       "skinparam ranksep 8\r\n",
       "skinparam monochrome true\r\n",
       "skinparam classbackgroundcolor white\r\n",
       "skinparam shadowing false\r\n",
       "skinparam wrapWidth 300\r\n",
       "hide circle\r\n",
       "\r\n",
       "rec def \"AnalysisCase\" as E1 << analysis def>> [[psysml:5016a817-b8b6-43b2-a1c9-71130e2545c5 ]] {\r\n",
       "portin \"v\" as E2  [[psysml:164c7fef-cc79-47d0-81ef-11274fabe5a7 ]] \r\n",
       "portout \"result\" as E3  [[psysml:6e4742d8-6cff-49ed-9a2e-48d7290da8ea ]] \r\n",
       "}\r\n",
       "\r\n",
       "rec def \"AnalysisPlan\" as E4 << analysis def>> [[psysml:0d28215e-abd0-4258-9ce4-d7487f47f154 ]] {\r\n",
       "portin \"v\" as E5  [[psysml:7943f1e5-2d26-4cd3-a00e-7357be36b5d6 ]] \r\n",
       "rec usage \"analysisCase\" as E6 << analysis>> [[psysml:0f757ff2-27a2-40d5-a25f-af43358ff77a ]] {\r\n",
       "portout \"mass\" as E7  [[psysml:ec31ed6f-aea4-4ab3-8935-1d2e29a82c61 ]] \r\n",
       "portin \"v\" as E8  [[psysml:1b55d686-bd3b-4923-8e60-8b313cbf92b9 ]] \r\n",
       "}\r\n",
       "\r\n",
       "portout \"result\" as E9  [[psysml:301e1961-b4b0-4f3f-9bd8-8820561614e6 ]] \r\n",
       "}\r\n",
       "\r\n",
       "rec usage \"analysisPlan\" as E10 << analysis>> [[psysml:9d8d7d87-8dd4-470f-9d18-cffbc3763f0c ]] {\r\n",
       "portin \"v\" as E11  [[psysml:fb21399e-f4a1-4dd2-99a6-b4e6906605c8 ]] \r\n",
       "portout \"result\" as E12  [[psysml:db81a387-1cd1-4bdf-be56-65aa7adff2a2 ]] \r\n",
       "}\r\n",
       "\r\n",
       "@enduml\r\n",
       "\n",
       "PlantUML version 1.2020.13(Sat Jun 13 12:26:38 UTC 2020)\n",
       "(EPL source distribution)\n",
       "Java Runtime: OpenJDK Runtime Environment\n",
       "JVM: OpenJDK 64-Bit Server VM\n",
       "Default Encoding: UTF-8\n",
       "Language: en\n",
       "Country: null\n",
       "--></g></svg>"
      ]
     },
     "execution_count": 41,
     "metadata": {},
     "output_type": "execute_result"
    }
   ],
   "source": [
    "%viz --style=\"DEFAULT\" --view=\"Action\" \"AnalysisTest\""
   ]
  },
  {
   "cell_type": "code",
   "execution_count": 42,
   "id": "111a076d",
   "metadata": {
    "execution": {
     "iopub.execute_input": "2022-02-05T16:52:04.223427Z",
     "iopub.status.busy": "2022-02-05T16:52:04.222933Z",
     "iopub.status.idle": "2022-02-05T16:52:04.228313Z",
     "shell.execute_reply": "2022-02-05T16:52:04.227950Z"
    }
   },
   "outputs": [
    {
     "data": {
      "image/svg+xml": [
       "<?xml version=\"1.0\" encoding=\"UTF-8\" standalone=\"no\"?><svg xmlns=\"http://www.w3.org/2000/svg\" xmlns:xlink=\"http://www.w3.org/1999/xlink\" contentScriptType=\"application/ecmascript\" contentStyleType=\"text/css\" height=\"12px\" preserveAspectRatio=\"none\" style=\"width:12px;height:12px;\" version=\"1.1\" viewBox=\"0 0 12 12\" width=\"12px\" zoomAndPan=\"magnify\"><defs/><g><!--MD5=[0b72472770326784bf6c2b53246e1e64]\n",
       "@startuml\r\n",
       "skinparam roundcorner 20\r\n",
       "skinparam BoxPadding 20\r\n",
       "skinparam SequenceBoxBackgroundColor #white\r\n",
       "skinparam style strictuml\r\n",
       "skinparam maxMessageSize 100\r\n",
       "skinparam monochrome true\r\n",
       "skinparam classbackgroundcolor white\r\n",
       "skinparam shadowing false\r\n",
       "skinparam wrapWidth 300\r\n",
       "hide circle\r\n",
       "\r\n",
       "@enduml\r\n",
       "\n",
       "PlantUML version 1.2020.13(Sat Jun 13 12:26:38 UTC 2020)\n",
       "(EPL source distribution)\n",
       "Java Runtime: OpenJDK Runtime Environment\n",
       "JVM: OpenJDK 64-Bit Server VM\n",
       "Default Encoding: UTF-8\n",
       "Language: en\n",
       "Country: null\n",
       "--></g></svg>"
      ]
     },
     "execution_count": 42,
     "metadata": {},
     "output_type": "execute_result"
    }
   ],
   "source": [
    "%viz --style=\"DEFAULT\" --view=\"Sequence\" \"AnalysisTest\""
   ]
  },
  {
   "cell_type": "code",
   "execution_count": 43,
   "id": "74a95d60",
   "metadata": {
    "execution": {
     "iopub.execute_input": "2022-02-05T16:52:04.278030Z",
     "iopub.status.busy": "2022-02-05T16:52:04.277625Z",
     "iopub.status.idle": "2022-02-05T16:52:04.337742Z",
     "shell.execute_reply": "2022-02-05T16:52:04.337328Z"
    }
   },
   "outputs": [
    {
     "data": {
      "image/svg+xml": [
       "<?xml version=\"1.0\" encoding=\"UTF-8\" standalone=\"no\"?><svg xmlns=\"http://www.w3.org/2000/svg\" xmlns:xlink=\"http://www.w3.org/1999/xlink\" contentScriptType=\"application/ecmascript\" contentStyleType=\"text/css\" height=\"685px\" preserveAspectRatio=\"none\" style=\"width:380px;height:685px;\" version=\"1.1\" viewBox=\"0 0 380 685\" width=\"380px\" zoomAndPan=\"magnify\"><defs/><g><!--MD5=[fbc87193dbaf4d95561dea2c320d4a47]\n",
       "cluster E1--><a href=\"psysml:e1dfe890-ec15-4931-b288-05d8c66f0e23\" target=\"_top\" title=\"psysml:e1dfe890-ec15-4931-b288-05d8c66f0e23\" xlink:actuate=\"onRequest\" xlink:href=\"psysml:e1dfe890-ec15-4931-b288-05d8c66f0e23\" xlink:show=\"new\" xlink:title=\"psysml:e1dfe890-ec15-4931-b288-05d8c66f0e23\" xlink:type=\"simple\"><polygon fill=\"#FFFFFF\" points=\"16,6,108,6,115,28.2969,358,28.2969,358,673,16,673,16,6\" style=\"stroke: #000000; stroke-width: 1.5;\"/><line style=\"stroke: #000000; stroke-width: 1.5;\" x1=\"16\" x2=\"115\" y1=\"28.2969\" y2=\"28.2969\"/><text fill=\"#000000\" font-family=\"sans-serif\" font-size=\"14\" font-weight=\"bold\" lengthAdjust=\"spacingAndGlyphs\" textLength=\"86\" x=\"20\" y=\"20.9951\">AnalysisTest</text></a><!--MD5=[14e3b0961a2654348d326746436168a1]\n",
       "cluster E6--><a href=\"psysml:0d28215e-abd0-4258-9ce4-d7487f47f154\" target=\"_top\" title=\"psysml:0d28215e-abd0-4258-9ce4-d7487f47f154\" xlink:actuate=\"onRequest\" xlink:href=\"psysml:0d28215e-abd0-4258-9ce4-d7487f47f154\" xlink:show=\"new\" xlink:title=\"psysml:0d28215e-abd0-4258-9ce4-d7487f47f154\" xlink:type=\"simple\"><rect fill=\"#FFFFFF\" height=\"136\" id=\"E6\" style=\"stroke: #383838; stroke-width: 1.5;\" width=\"278\" x=\"48\" y=\"267\"/><rect fill=\"#F8F8F8\" height=\"37.9375\" style=\"stroke: #383838; stroke-width: 1.5;\" width=\"278\" x=\"48\" y=\"267\"/><text fill=\"#000000\" font-family=\"sans-serif\" font-size=\"12\" font-style=\"italic\" lengthAdjust=\"spacingAndGlyphs\" textLength=\"88\" x=\"143\" y=\"283.1387\">«analysis def»</text><text fill=\"#000000\" font-family=\"sans-serif\" font-size=\"12\" lengthAdjust=\"spacingAndGlyphs\" textLength=\"77\" x=\"148.5\" y=\"297.1074\">AnalysisPlan</text></a><!--MD5=[b4997ac47864f28c2f74865a473b2911]\n",
       "class E2--><a href=\"psysml:e8de7c06-a552-45cc-9ef9-bdca622a4dc8\" target=\"_top\" title=\"psysml:e8de7c06-a552-45cc-9ef9-bdca622a4dc8\" xlink:actuate=\"onRequest\" xlink:href=\"psysml:e8de7c06-a552-45cc-9ef9-bdca622a4dc8\" xlink:show=\"new\" xlink:title=\"psysml:e8de7c06-a552-45cc-9ef9-bdca622a4dc8\" xlink:type=\"simple\"><rect fill=\"#FFFFFF\" height=\"75.5469\" id=\"E2\" style=\"stroke: #383838; stroke-width: 1.5;\" width=\"70\" x=\"179\" y=\"581\"/><text fill=\"#000000\" font-family=\"sans-serif\" font-size=\"12\" font-style=\"italic\" lengthAdjust=\"spacingAndGlyphs\" textLength=\"68\" x=\"180\" y=\"597.1387\">«part  def»</text><text fill=\"#000000\" font-family=\"sans-serif\" font-size=\"12\" lengthAdjust=\"spacingAndGlyphs\" textLength=\"8\" x=\"210\" y=\"611.1074\">V</text><line style=\"stroke: #383838; stroke-width: 1.5;\" x1=\"180\" x2=\"248\" y1=\"618.9375\" y2=\"618.9375\"/><text fill=\"#000000\" font-family=\"sans-serif\" font-size=\"11\" lengthAdjust=\"spacingAndGlyphs\" textLength=\"11\" x=\"185\" y=\"649.9526\">m</text><line style=\"stroke: #383838; stroke-width: 1.0;\" x1=\"180\" x2=\"183\" y1=\"633.3398\" y2=\"633.3398\"/><text fill=\"#000000\" font-family=\"sans-serif\" font-size=\"11\" lengthAdjust=\"spacingAndGlyphs\" textLength=\"62\" x=\"183\" y=\"636.6479\">references</text><line style=\"stroke: #383838; stroke-width: 1.0;\" x1=\"245\" x2=\"248\" y1=\"633.3398\" y2=\"633.3398\"/></a><!--MD5=[09b614a08d8cba4a07c9adeb5e0fee81]\n",
       "class E3--><a href=\"psysml:e405eddc-d04c-43ee-94c7-f68d6bd4037b\" target=\"_top\" title=\"psysml:e405eddc-d04c-43ee-94c7-f68d6bd4037b\" xlink:actuate=\"onRequest\" xlink:href=\"psysml:e405eddc-d04c-43ee-94c7-f68d6bd4037b\" xlink:show=\"new\" xlink:title=\"psysml:e405eddc-d04c-43ee-94c7-f68d6bd4037b\" xlink:type=\"simple\"><rect fill=\"#FFFFFF\" height=\"45.9375\" id=\"E3\" rx=\"10\" ry=\"10\" style=\"stroke: #383838; stroke-width: 1.5;\" width=\"42\" x=\"297\" y=\"458\"/><text fill=\"#000000\" font-family=\"sans-serif\" font-size=\"12\" font-style=\"italic\" lengthAdjust=\"spacingAndGlyphs\" textLength=\"40\" x=\"298\" y=\"474.1387\">«part»</text><text fill=\"#000000\" font-family=\"sans-serif\" font-size=\"12\" lengthAdjust=\"spacingAndGlyphs\" textLength=\"28\" x=\"302\" y=\"488.1074\">vv: V</text><line style=\"stroke: #383838; stroke-width: 1.5;\" x1=\"298\" x2=\"338\" y1=\"495.9375\" y2=\"495.9375\"/></a><!--MD5=[ebbe1d658d1005bcc118a6aa81145e00]\n",
       "class E4--><a href=\"psysml:61935c6a-e9b2-427b-8e93-9f8ea2764a4f\" target=\"_top\" title=\"psysml:61935c6a-e9b2-427b-8e93-9f8ea2764a4f\" xlink:actuate=\"onRequest\" xlink:href=\"psysml:61935c6a-e9b2-427b-8e93-9f8ea2764a4f\" xlink:show=\"new\" xlink:title=\"psysml:61935c6a-e9b2-427b-8e93-9f8ea2764a4f\" xlink:type=\"simple\"><rect fill=\"#FFFFFF\" height=\"66.7422\" id=\"E4\" style=\"stroke: #383838; stroke-width: 1.5;\" width=\"121\" x=\"197.5\" y=\"41\"/><text fill=\"#000000\" font-family=\"sans-serif\" font-size=\"12\" font-style=\"italic\" lengthAdjust=\"spacingAndGlyphs\" textLength=\"119\" x=\"198.5\" y=\"57.1387\">«requirement  def»</text><text fill=\"#000000\" font-family=\"sans-serif\" font-size=\"12\" lengthAdjust=\"spacingAndGlyphs\" textLength=\"107\" x=\"204.5\" y=\"71.1074\">AnalysisObjective</text><line style=\"stroke: #383838; stroke-width: 1.5;\" x1=\"198.5\" x2=\"317.5\" y1=\"78.9375\" y2=\"78.9375\"/><text fill=\"#000000\" font-family=\"sans-serif\" font-size=\"11\" lengthAdjust=\"spacingAndGlyphs\" textLength=\"12\" x=\"203.5\" y=\"93.1479\">...</text><line style=\"stroke: #383838; stroke-width: 1.0;\" x1=\"198.5\" x2=\"317.5\" y1=\"99.7422\" y2=\"99.7422\"/></a><!--MD5=[fd4143e9d270a159db93a4ea2a975926]\n",
       "class E9--><a href=\"psysml:b24749b9-9e77-4740-bd21-7fc3830bb957\" target=\"_top\" title=\"psysml:b24749b9-9e77-4740-bd21-7fc3830bb957\" xlink:actuate=\"onRequest\" xlink:href=\"psysml:b24749b9-9e77-4740-bd21-7fc3830bb957\" xlink:show=\"new\" xlink:title=\"psysml:b24749b9-9e77-4740-bd21-7fc3830bb957\" xlink:type=\"simple\"><rect fill=\"#FFFFFF\" height=\"45.9375\" id=\"E9\" rx=\"10\" ry=\"10\" style=\"stroke: #383838; stroke-width: 1.5;\" width=\"108\" x=\"32\" y=\"51.5\"/><text fill=\"#000000\" font-family=\"sans-serif\" font-size=\"12\" font-style=\"italic\" lengthAdjust=\"spacingAndGlyphs\" textLength=\"40\" x=\"66\" y=\"67.6387\">«part»</text><text fill=\"#000000\" font-family=\"sans-serif\" font-size=\"12\" lengthAdjust=\"spacingAndGlyphs\" textLength=\"98\" x=\"35\" y=\"81.6074\">analysisContext</text><line style=\"stroke: #383838; stroke-width: 1.5;\" x1=\"33\" x2=\"139\" y1=\"89.4375\" y2=\"89.4375\"/></a><g id=\"E1.E5\"><a href=\"psysml:5016a817-b8b6-43b2-a1c9-71130e2545c5\" target=\"_top\" title=\"psysml:5016a817-b8b6-43b2-a1c9-71130e2545c5\" xlink:actuate=\"onRequest\" xlink:href=\"psysml:5016a817-b8b6-43b2-a1c9-71130e2545c5\" xlink:show=\"new\" xlink:title=\"psysml:5016a817-b8b6-43b2-a1c9-71130e2545c5\" xlink:type=\"simple\"><rect fill=\"#FFFFFF\" height=\"42.9375\" id=\"E5\" style=\"stroke: #383838; stroke-width: 1.5;\" width=\"95\" x=\"166.5\" y=\"459.5\"/><rect fill=\"#F8F8F8\" height=\"37.9375\" style=\"stroke: #383838; stroke-width: 1.5;\" width=\"95\" x=\"166.5\" y=\"459.5\"/><text fill=\"#000000\" font-family=\"sans-serif\" font-size=\"12\" font-style=\"italic\" lengthAdjust=\"spacingAndGlyphs\" textLength=\"88\" x=\"170\" y=\"475.6387\">«analysis def»</text><text fill=\"#000000\" font-family=\"sans-serif\" font-size=\"12\" lengthAdjust=\"spacingAndGlyphs\" textLength=\"81\" x=\"173.5\" y=\"489.6074\">AnalysisCase</text></a></g><!--MD5=[2156ba9850f5573cc1fc38a6a4b2f02b]\n",
       "class E7--><a href=\"psysml:317ace64-a3b7-4095-b75a-9c551641bbd2\" target=\"_top\" title=\"psysml:317ace64-a3b7-4095-b75a-9c551641bbd2\" xlink:actuate=\"onRequest\" xlink:href=\"psysml:317ace64-a3b7-4095-b75a-9c551641bbd2\" xlink:show=\"new\" xlink:title=\"psysml:317ace64-a3b7-4095-b75a-9c551641bbd2\" xlink:type=\"simple\"><rect fill=\"#FFFFFF\" height=\"52.7734\" id=\"E7\" rx=\"10\" ry=\"10\" style=\"stroke: #383838; stroke-width: 1.5;\" width=\"84\" x=\"218\" y=\"326\"/><text fill=\"#000000\" font-family=\"sans-serif\" font-size=\"12\" lengthAdjust=\"spacingAndGlyphs\" textLength=\"70\" x=\"225\" y=\"342.1387\">«objective»</text><line style=\"stroke: #383838; stroke-width: 1.5;\" x1=\"219\" x2=\"301\" y1=\"349.9688\" y2=\"349.9688\"/><text fill=\"#000000\" font-family=\"sans-serif\" font-size=\"11\" lengthAdjust=\"spacingAndGlyphs\" textLength=\"12\" x=\"224\" y=\"364.1792\">...</text><line style=\"stroke: #383838; stroke-width: 1.0;\" x1=\"219\" x2=\"301\" y1=\"370.7734\" y2=\"370.7734\"/></a><g id=\"E1.E6.E8\"><a href=\"psysml:0f757ff2-27a2-40d5-a25f-af43358ff77a\" target=\"_top\" title=\"psysml:0f757ff2-27a2-40d5-a25f-af43358ff77a\" xlink:actuate=\"onRequest\" xlink:href=\"psysml:0f757ff2-27a2-40d5-a25f-af43358ff77a\" xlink:show=\"new\" xlink:title=\"psysml:0f757ff2-27a2-40d5-a25f-af43358ff77a\" xlink:type=\"simple\"><rect fill=\"#FFFFFF\" height=\"42.9375\" id=\"E8\" rx=\"10\" ry=\"10\" style=\"stroke: #383838; stroke-width: 1.5;\" width=\"92\" x=\"91\" y=\"331\"/><rect fill=\"#F8F8F8\" height=\"37.9375\" rx=\"10\" ry=\"10\" style=\"stroke: #F8F8F8; stroke-width: 1.5;\" width=\"92\" x=\"91\" y=\"331\"/><rect fill=\"#F8F8F8\" height=\"10\" style=\"stroke: #F8F8F8; stroke-width: 1.5;\" width=\"92\" x=\"91\" y=\"358.9375\"/><rect fill=\"none\" height=\"42.9375\" id=\"E8\" rx=\"10\" ry=\"10\" style=\"stroke: #383838; stroke-width: 1.5;\" width=\"92\" x=\"91\" y=\"331\"/><text fill=\"#000000\" font-family=\"sans-serif\" font-size=\"12\" font-style=\"italic\" lengthAdjust=\"spacingAndGlyphs\" textLength=\"64\" x=\"105\" y=\"347.1387\">«analysis»</text><text fill=\"#000000\" font-family=\"sans-serif\" font-size=\"12\" lengthAdjust=\"spacingAndGlyphs\" textLength=\"81\" x=\"96.5\" y=\"361.1074\">analysisCase</text></a></g><g id=\"E1.E10\"><a href=\"psysml:9d8d7d87-8dd4-470f-9d18-cffbc3763f0c\" target=\"_top\" title=\"psysml:9d8d7d87-8dd4-470f-9d18-cffbc3763f0c\" xlink:actuate=\"onRequest\" xlink:href=\"psysml:9d8d7d87-8dd4-470f-9d18-cffbc3763f0c\" xlink:show=\"new\" xlink:title=\"psysml:9d8d7d87-8dd4-470f-9d18-cffbc3763f0c\" xlink:type=\"simple\"><rect fill=\"#FFFFFF\" height=\"42.9375\" id=\"E10\" rx=\"10\" ry=\"10\" style=\"stroke: #383838; stroke-width: 1.5;\" width=\"88\" x=\"37\" y=\"169\"/><rect fill=\"#F8F8F8\" height=\"37.9375\" rx=\"10\" ry=\"10\" style=\"stroke: #F8F8F8; stroke-width: 1.5;\" width=\"88\" x=\"37\" y=\"169\"/><rect fill=\"#F8F8F8\" height=\"10\" style=\"stroke: #F8F8F8; stroke-width: 1.5;\" width=\"88\" x=\"37\" y=\"196.9375\"/><rect fill=\"none\" height=\"42.9375\" id=\"E10\" rx=\"10\" ry=\"10\" style=\"stroke: #383838; stroke-width: 1.5;\" width=\"88\" x=\"37\" y=\"169\"/><text fill=\"#000000\" font-family=\"sans-serif\" font-size=\"12\" font-style=\"italic\" lengthAdjust=\"spacingAndGlyphs\" textLength=\"64\" x=\"49\" y=\"185.1387\">«analysis»</text><text fill=\"#000000\" font-family=\"sans-serif\" font-size=\"12\" lengthAdjust=\"spacingAndGlyphs\" textLength=\"77\" x=\"42.5\" y=\"199.1074\">analysisPlan</text></a></g><!--MD5=[05d275557350bfb9b23a4ef7222b4c39]\n",
       "link E3 to E2--><a href=\"psysml:f45a4065-dcd9-4d0e-be10-466e9a1a32d6\" target=\"_top\" title=\"psysml:f45a4065-dcd9-4d0e-be10-466e9a1a32d6\" xlink:actuate=\"onRequest\" xlink:href=\"psysml:f45a4065-dcd9-4d0e-be10-466e9a1a32d6\" xlink:show=\"new\" xlink:title=\"psysml:f45a4065-dcd9-4d0e-be10-466e9a1a32d6\" xlink:type=\"simple\"><path d=\"M310.33,504 C304.8,518.17 296.47,536.57 286,551 C279.62,559.78 271.98,568.34 264.08,576.23 \" fill=\"none\" id=\"E3-&gt;E2\" style=\"stroke: #383838; stroke-width: 1.0;\"/><polygon fill=\"#FFFFFF\" points=\"249.34,590.06,258.406,571.9545,267.9855,582.164,249.34,590.06\" style=\"stroke: #383838; stroke-width: 1.0;\"/><ellipse cx=\"263.9312\" cy=\"569.5128\" fill=\"#383838\" rx=\"2\" ry=\"2\" style=\"stroke: #383838; stroke-width: 1.0;\"/><ellipse cx=\"270.7737\" cy=\"576.8053\" fill=\"#383838\" rx=\"2\" ry=\"2\" style=\"stroke: #383838; stroke-width: 1.0;\"/></a><!--MD5=[15ebcb19ae302d9b601edb458606d402]\n",
       "link E5 to E2--><a href=\"psysml:4ce798b4-e7f7-45ac-94f6-a9dc23ec95c2\" target=\"_top\" title=\"psysml:4ce798b4-e7f7-45ac-94f6-a9dc23ec95c2\" xlink:actuate=\"onRequest\" xlink:href=\"psysml:4ce798b4-e7f7-45ac-94f6-a9dc23ec95c2\" xlink:show=\"new\" xlink:title=\"psysml:4ce798b4-e7f7-45ac-94f6-a9dc23ec95c2\" xlink:type=\"simple\"><path d=\"M214,502.66 C214,522.01 214,551.52 214,575.85 \" fill=\"none\" id=\"E5-&gt;E2\" style=\"stroke: #383838; stroke-width: 1.0; stroke-dasharray: 7.0,7.0;\"/><polygon fill=\"#383838\" points=\"214,580.96,218,571.96,214,575.96,210,571.96,214,580.96\" style=\"stroke: #383838; stroke-width: 1.0;\"/><text fill=\"#000000\" font-family=\"sans-serif\" font-size=\"13\" lengthAdjust=\"spacingAndGlyphs\" textLength=\"62\" x=\"215\" y=\"547.0669\">«subject»</text></a><!--MD5=[2351f337d6de0f557b50152ba70847b5]\n",
       "link E6 to E2--><a href=\"psysml:38ee38e5-fe2f-49e8-a238-8ef961814591\" target=\"_top\" title=\"psysml:38ee38e5-fe2f-49e8-a238-8ef961814591\" xlink:actuate=\"onRequest\" xlink:href=\"psysml:38ee38e5-fe2f-49e8-a238-8ef961814591\" xlink:show=\"new\" xlink:title=\"psysml:38ee38e5-fe2f-49e8-a238-8ef961814591\" xlink:type=\"simple\"><path d=\"M57.5084,403.137 C57.5293,403.365 57.5504,403.5934 57.5718,403.8223 C57.6145,404.2801 57.6581,404.7398 57.7028,405.2013 C57.792,406.1242 57.8852,407.0543 57.9825,407.9913 C61.095,437.9725 68.38,474.885 85,504 C106.54,541.73 145.2,573.36 174.61,593.66 \" fill=\"none\" id=\"E6-&gt;E2\" style=\"stroke: #383838; stroke-width: 1.0; stroke-dasharray: 7.0,7.0;\"/><polygon fill=\"#383838\" points=\"178.87,596.58,173.6864,588.2056,174.7386,593.7638,169.1804,594.8159,178.87,596.58\" style=\"stroke: #383838; stroke-width: 1.0;\"/><text fill=\"#000000\" font-family=\"sans-serif\" font-size=\"13\" lengthAdjust=\"spacingAndGlyphs\" textLength=\"62\" x=\"86\" y=\"485.5669\">«subject»</text></a><!--MD5=[1ccb2481ffa92f8d51a74ee30c51832a]\n",
       "link E8 to E5--><a href=\"psysml:cf5e8ef0-758f-412b-8419-a299a9750eac\" target=\"_top\" title=\"psysml:cf5e8ef0-758f-412b-8419-a299a9750eac\" xlink:actuate=\"onRequest\" xlink:href=\"psysml:cf5e8ef0-758f-412b-8419-a299a9750eac\" xlink:show=\"new\" xlink:title=\"psysml:cf5e8ef0-758f-412b-8419-a299a9750eac\" xlink:type=\"simple\"><path d=\"M149.54,374.11 C160.73,392.48 177.39,419.85 190.97,442.16 \" fill=\"none\" id=\"E8-&gt;E5\" style=\"stroke: #383838; stroke-width: 1.0;\"/><polygon fill=\"#FFFFFF\" points=\"201.46,459.4,185.6016,446.8099,197.5604,439.5306,201.46,459.4\" style=\"stroke: #383838; stroke-width: 1.0;\"/><ellipse cx=\"184.3463\" cy=\"440.901\" fill=\"#383838\" rx=\"2\" ry=\"2\" style=\"stroke: #383838; stroke-width: 1.0;\"/><ellipse cx=\"192.8883\" cy=\"435.7016\" fill=\"#383838\" rx=\"2\" ry=\"2\" style=\"stroke: #383838; stroke-width: 1.0;\"/></a><!--MD5=[198716bf12f04006f5c20d61bde6d80d]\n",
       "link E10 to E6--><a href=\"psysml:4172c94c-9fb8-4464-b137-e530fc31134b\" target=\"_top\" title=\"psysml:4172c94c-9fb8-4464-b137-e530fc31134b\" xlink:actuate=\"onRequest\" xlink:href=\"psysml:4172c94c-9fb8-4464-b137-e530fc31134b\" xlink:show=\"new\" xlink:title=\"psysml:4172c94c-9fb8-4464-b137-e530fc31134b\" xlink:type=\"simple\"><path d=\"M77.78,212.09 C76.12,222.725 73.9581,236.5687 71.6419,251.3978 C71.0628,255.1051 70.4741,258.8739 69.8812,262.6696 C69.7329,263.6185 69.5844,264.5691 69.4358,265.5209 C69.3614,265.9967 69.287,266.4729 69.2126,266.9493 \" fill=\"none\" id=\"E10-&gt;E6\" style=\"stroke: #383838; stroke-width: 1.0;\"/><polygon fill=\"#FFFFFF\" points=\"69.2126,266.9493,65.2291,247.0965,79.0613,249.2573,69.2126,266.9493\" style=\"stroke: #383838; stroke-width: 1.0;\"/><ellipse cx=\"68.0849\" cy=\"241.7735\" fill=\"#383838\" rx=\"2\" ry=\"2\" style=\"stroke: #383838; stroke-width: 1.0;\"/><ellipse cx=\"77.965\" cy=\"243.317\" fill=\"#383838\" rx=\"2\" ry=\"2\" style=\"stroke: #383838; stroke-width: 1.0;\"/></a><!--MD5=[23ac544a70576c3e717098101004234c]\n",
       "reverse link E9 to E10--><a href=\"psysml:9d8d7d87-8dd4-470f-9d18-cffbc3763f0c\" target=\"_top\" title=\"psysml:9d8d7d87-8dd4-470f-9d18-cffbc3763f0c\" xlink:actuate=\"onRequest\" xlink:href=\"psysml:9d8d7d87-8dd4-470f-9d18-cffbc3763f0c\" xlink:show=\"new\" xlink:title=\"psysml:9d8d7d87-8dd4-470f-9d18-cffbc3763f0c\" xlink:type=\"simple\"><path d=\"M84.45,110.8 C83.62,129.84 82.61,152.68 81.91,168.84 \" fill=\"none\" id=\"E9&lt;-E10\" style=\"stroke: #383838; stroke-width: 1.0;\"/><polygon fill=\"#383838\" points=\"85.02,97.75,80.7601,103.5684,84.4925,109.7384,88.7524,103.92,85.02,97.75\" style=\"stroke: #383838; stroke-width: 1.0;\"/></a><!--MD5=[8a69838b850c4ee144f003b19861dcff]\n",
       "@startuml\r\n",
       "skinparam monochrome true\r\n",
       "skinparam classbackgroundcolor white\r\n",
       "skinparam shadowing false\r\n",
       "skinparam wrapWidth 300\r\n",
       "hide circle\r\n",
       "\r\n",
       "package \"AnalysisTest\" as E1  [[psysml:e1dfe890-ec15-4931-b288-05d8c66f0e23 ]]  {\r\n",
       "comp def \"V\" as E2  <<(T,blue) part  def>> [[psysml:e8de7c06-a552-45cc-9ef9-bdca622a4dc8 ]] {\r\n",
       "- - references - -\r\n",
       "m\r\n",
       "}\r\n",
       "comp usage \"vv: V \" as E3  <<(T,blue) part>> [[psysml:e405eddc-d04c-43ee-94c7-f68d6bd4037b ]] {\r\n",
       "}\r\n",
       "comp def \"AnalysisObjective\" as E4  <<(T,blue) requirement  def>> [[psysml:61935c6a-e9b2-427b-8e93-9f8ea2764a4f ]] {\r\n",
       "...\r\n",
       "- -\r\n",
       "}\r\n",
       "rec def \"AnalysisCase\" as E5 << analysis def>> [[psysml:5016a817-b8b6-43b2-a1c9-71130e2545c5 ]] {\r\n",
       "}\r\n",
       "rec def \"AnalysisPlan\" as E6 << analysis def>> [[psysml:0d28215e-abd0-4258-9ce4-d7487f47f154 ]] {\r\n",
       "comp usage \" <U+00AB>objective<U+00BB> \" as E7 [[psysml:317ace64-a3b7-4095-b75a-9c551641bbd2 ]] {\r\n",
       "...\r\n",
       "- -\r\n",
       "}\r\n",
       "rec usage \"analysisCase\" as E8 << analysis>> [[psysml:0f757ff2-27a2-40d5-a25f-af43358ff77a ]] {\r\n",
       "}\r\n",
       "}\r\n",
       "comp usage \"analysisContext \" as E9  <<(T,blue) part>> [[psysml:b24749b9-9e77-4740-bd21-7fc3830bb957 ]] {\r\n",
       "}\r\n",
       "rec usage \"analysisPlan\" as E10 << analysis>> [[psysml:9d8d7d87-8dd4-470f-9d18-cffbc3763f0c ]] {\r\n",
       "}\r\n",
       "}\r\n",
       "E3 - -:|> E2 [[psysml:f45a4065-dcd9-4d0e-be10-466e9a1a32d6 ]] \r\n",
       "E5 ..> E2 [[psysml:4ce798b4-e7f7-45ac-94f6-a9dc23ec95c2 ]] : <<subject>>\r\n",
       "E6 ..> E2 [[psysml:38ee38e5-fe2f-49e8-a238-8ef961814591 ]] : <<subject>>\r\n",
       "E8 - -:|> E5 [[psysml:cf5e8ef0-758f-412b-8419-a299a9750eac ]] \r\n",
       "E10 - -:|> E6 [[psysml:4172c94c-9fb8-4464-b137-e530fc31134b ]] \r\n",
       "E9 *- - E10 [[psysml:9d8d7d87-8dd4-470f-9d18-cffbc3763f0c ]] \r\n",
       "@enduml\r\n",
       "\n",
       "PlantUML version 1.2020.13(Sat Jun 13 12:26:38 UTC 2020)\n",
       "(EPL source distribution)\n",
       "Java Runtime: OpenJDK Runtime Environment\n",
       "JVM: OpenJDK 64-Bit Server VM\n",
       "Default Encoding: UTF-8\n",
       "Language: en\n",
       "Country: null\n",
       "--></g></svg>"
      ]
     },
     "execution_count": 43,
     "metadata": {},
     "output_type": "execute_result"
    }
   ],
   "source": [
    "%viz --style=\"DEFAULT\" --view=\"MIXED\" \"AnalysisTest\""
   ]
  },
  {
   "cell_type": "code",
   "execution_count": 44,
   "id": "ed9da18a",
   "metadata": {
    "execution": {
     "iopub.execute_input": "2022-02-05T16:52:04.386893Z",
     "iopub.status.busy": "2022-02-05T16:52:04.386488Z",
     "iopub.status.idle": "2022-02-05T16:52:04.439461Z",
     "shell.execute_reply": "2022-02-05T16:52:04.439090Z"
    }
   },
   "outputs": [
    {
     "data": {
      "image/svg+xml": [
       "<?xml version=\"1.0\" encoding=\"UTF-8\" standalone=\"no\"?><svg xmlns=\"http://www.w3.org/2000/svg\" xmlns:xlink=\"http://www.w3.org/1999/xlink\" contentScriptType=\"application/ecmascript\" contentStyleType=\"text/css\" height=\"685px\" preserveAspectRatio=\"none\" style=\"width:380px;height:685px;\" version=\"1.1\" viewBox=\"0 0 380 685\" width=\"380px\" zoomAndPan=\"magnify\"><defs/><g><!--MD5=[fbc87193dbaf4d95561dea2c320d4a47]\n",
       "cluster E1--><a href=\"psysml:e1dfe890-ec15-4931-b288-05d8c66f0e23\" target=\"_top\" title=\"psysml:e1dfe890-ec15-4931-b288-05d8c66f0e23\" xlink:actuate=\"onRequest\" xlink:href=\"psysml:e1dfe890-ec15-4931-b288-05d8c66f0e23\" xlink:show=\"new\" xlink:title=\"psysml:e1dfe890-ec15-4931-b288-05d8c66f0e23\" xlink:type=\"simple\"><polygon fill=\"#FFFFFF\" points=\"16,6,108,6,115,28.2969,358,28.2969,358,673,16,673,16,6\" style=\"stroke: #000000; stroke-width: 1.5;\"/><line style=\"stroke: #000000; stroke-width: 1.5;\" x1=\"16\" x2=\"115\" y1=\"28.2969\" y2=\"28.2969\"/><text fill=\"#000000\" font-family=\"sans-serif\" font-size=\"14\" font-weight=\"bold\" lengthAdjust=\"spacingAndGlyphs\" textLength=\"86\" x=\"20\" y=\"20.9951\">AnalysisTest</text></a><!--MD5=[14e3b0961a2654348d326746436168a1]\n",
       "cluster E6--><a href=\"psysml:0d28215e-abd0-4258-9ce4-d7487f47f154\" target=\"_top\" title=\"psysml:0d28215e-abd0-4258-9ce4-d7487f47f154\" xlink:actuate=\"onRequest\" xlink:href=\"psysml:0d28215e-abd0-4258-9ce4-d7487f47f154\" xlink:show=\"new\" xlink:title=\"psysml:0d28215e-abd0-4258-9ce4-d7487f47f154\" xlink:type=\"simple\"><rect fill=\"#FFFFFF\" height=\"136\" id=\"E6\" style=\"stroke: #383838; stroke-width: 1.5;\" width=\"278\" x=\"48\" y=\"267\"/><rect fill=\"#F8F8F8\" height=\"37.9375\" style=\"stroke: #383838; stroke-width: 1.5;\" width=\"278\" x=\"48\" y=\"267\"/><text fill=\"#000000\" font-family=\"sans-serif\" font-size=\"12\" font-style=\"italic\" lengthAdjust=\"spacingAndGlyphs\" textLength=\"88\" x=\"143\" y=\"283.1387\">«analysis def»</text><text fill=\"#000000\" font-family=\"sans-serif\" font-size=\"12\" lengthAdjust=\"spacingAndGlyphs\" textLength=\"77\" x=\"148.5\" y=\"297.1074\">AnalysisPlan</text></a><!--MD5=[b4997ac47864f28c2f74865a473b2911]\n",
       "class E2--><a href=\"psysml:e8de7c06-a552-45cc-9ef9-bdca622a4dc8\" target=\"_top\" title=\"psysml:e8de7c06-a552-45cc-9ef9-bdca622a4dc8\" xlink:actuate=\"onRequest\" xlink:href=\"psysml:e8de7c06-a552-45cc-9ef9-bdca622a4dc8\" xlink:show=\"new\" xlink:title=\"psysml:e8de7c06-a552-45cc-9ef9-bdca622a4dc8\" xlink:type=\"simple\"><rect fill=\"#FFFFFF\" height=\"75.5469\" id=\"E2\" style=\"stroke: #383838; stroke-width: 1.5;\" width=\"70\" x=\"179\" y=\"581\"/><text fill=\"#000000\" font-family=\"sans-serif\" font-size=\"12\" font-style=\"italic\" lengthAdjust=\"spacingAndGlyphs\" textLength=\"68\" x=\"180\" y=\"597.1387\">«part  def»</text><text fill=\"#000000\" font-family=\"sans-serif\" font-size=\"12\" lengthAdjust=\"spacingAndGlyphs\" textLength=\"8\" x=\"210\" y=\"611.1074\">V</text><line style=\"stroke: #383838; stroke-width: 1.5;\" x1=\"180\" x2=\"248\" y1=\"618.9375\" y2=\"618.9375\"/><text fill=\"#000000\" font-family=\"sans-serif\" font-size=\"11\" lengthAdjust=\"spacingAndGlyphs\" textLength=\"11\" x=\"185\" y=\"649.9526\">m</text><line style=\"stroke: #383838; stroke-width: 1.0;\" x1=\"180\" x2=\"183\" y1=\"633.3398\" y2=\"633.3398\"/><text fill=\"#000000\" font-family=\"sans-serif\" font-size=\"11\" lengthAdjust=\"spacingAndGlyphs\" textLength=\"62\" x=\"183\" y=\"636.6479\">references</text><line style=\"stroke: #383838; stroke-width: 1.0;\" x1=\"245\" x2=\"248\" y1=\"633.3398\" y2=\"633.3398\"/></a><!--MD5=[09b614a08d8cba4a07c9adeb5e0fee81]\n",
       "class E3--><a href=\"psysml:e405eddc-d04c-43ee-94c7-f68d6bd4037b\" target=\"_top\" title=\"psysml:e405eddc-d04c-43ee-94c7-f68d6bd4037b\" xlink:actuate=\"onRequest\" xlink:href=\"psysml:e405eddc-d04c-43ee-94c7-f68d6bd4037b\" xlink:show=\"new\" xlink:title=\"psysml:e405eddc-d04c-43ee-94c7-f68d6bd4037b\" xlink:type=\"simple\"><rect fill=\"#FFFFFF\" height=\"45.9375\" id=\"E3\" rx=\"10\" ry=\"10\" style=\"stroke: #383838; stroke-width: 1.5;\" width=\"42\" x=\"297\" y=\"458\"/><text fill=\"#000000\" font-family=\"sans-serif\" font-size=\"12\" font-style=\"italic\" lengthAdjust=\"spacingAndGlyphs\" textLength=\"40\" x=\"298\" y=\"474.1387\">«part»</text><text fill=\"#000000\" font-family=\"sans-serif\" font-size=\"12\" lengthAdjust=\"spacingAndGlyphs\" textLength=\"28\" x=\"302\" y=\"488.1074\">vv: V</text><line style=\"stroke: #383838; stroke-width: 1.5;\" x1=\"298\" x2=\"338\" y1=\"495.9375\" y2=\"495.9375\"/></a><!--MD5=[ebbe1d658d1005bcc118a6aa81145e00]\n",
       "class E4--><a href=\"psysml:61935c6a-e9b2-427b-8e93-9f8ea2764a4f\" target=\"_top\" title=\"psysml:61935c6a-e9b2-427b-8e93-9f8ea2764a4f\" xlink:actuate=\"onRequest\" xlink:href=\"psysml:61935c6a-e9b2-427b-8e93-9f8ea2764a4f\" xlink:show=\"new\" xlink:title=\"psysml:61935c6a-e9b2-427b-8e93-9f8ea2764a4f\" xlink:type=\"simple\"><rect fill=\"#FFFFFF\" height=\"66.7422\" id=\"E4\" style=\"stroke: #383838; stroke-width: 1.5;\" width=\"121\" x=\"197.5\" y=\"41\"/><text fill=\"#000000\" font-family=\"sans-serif\" font-size=\"12\" font-style=\"italic\" lengthAdjust=\"spacingAndGlyphs\" textLength=\"119\" x=\"198.5\" y=\"57.1387\">«requirement  def»</text><text fill=\"#000000\" font-family=\"sans-serif\" font-size=\"12\" lengthAdjust=\"spacingAndGlyphs\" textLength=\"107\" x=\"204.5\" y=\"71.1074\">AnalysisObjective</text><line style=\"stroke: #383838; stroke-width: 1.5;\" x1=\"198.5\" x2=\"317.5\" y1=\"78.9375\" y2=\"78.9375\"/><text fill=\"#000000\" font-family=\"sans-serif\" font-size=\"11\" lengthAdjust=\"spacingAndGlyphs\" textLength=\"12\" x=\"203.5\" y=\"93.1479\">...</text><line style=\"stroke: #383838; stroke-width: 1.0;\" x1=\"198.5\" x2=\"317.5\" y1=\"99.7422\" y2=\"99.7422\"/></a><!--MD5=[fd4143e9d270a159db93a4ea2a975926]\n",
       "class E9--><a href=\"psysml:b24749b9-9e77-4740-bd21-7fc3830bb957\" target=\"_top\" title=\"psysml:b24749b9-9e77-4740-bd21-7fc3830bb957\" xlink:actuate=\"onRequest\" xlink:href=\"psysml:b24749b9-9e77-4740-bd21-7fc3830bb957\" xlink:show=\"new\" xlink:title=\"psysml:b24749b9-9e77-4740-bd21-7fc3830bb957\" xlink:type=\"simple\"><rect fill=\"#FFFFFF\" height=\"45.9375\" id=\"E9\" rx=\"10\" ry=\"10\" style=\"stroke: #383838; stroke-width: 1.5;\" width=\"108\" x=\"32\" y=\"51.5\"/><text fill=\"#000000\" font-family=\"sans-serif\" font-size=\"12\" font-style=\"italic\" lengthAdjust=\"spacingAndGlyphs\" textLength=\"40\" x=\"66\" y=\"67.6387\">«part»</text><text fill=\"#000000\" font-family=\"sans-serif\" font-size=\"12\" lengthAdjust=\"spacingAndGlyphs\" textLength=\"98\" x=\"35\" y=\"81.6074\">analysisContext</text><line style=\"stroke: #383838; stroke-width: 1.5;\" x1=\"33\" x2=\"139\" y1=\"89.4375\" y2=\"89.4375\"/></a><g id=\"E1.E5\"><a href=\"psysml:5016a817-b8b6-43b2-a1c9-71130e2545c5\" target=\"_top\" title=\"psysml:5016a817-b8b6-43b2-a1c9-71130e2545c5\" xlink:actuate=\"onRequest\" xlink:href=\"psysml:5016a817-b8b6-43b2-a1c9-71130e2545c5\" xlink:show=\"new\" xlink:title=\"psysml:5016a817-b8b6-43b2-a1c9-71130e2545c5\" xlink:type=\"simple\"><rect fill=\"#FFFFFF\" height=\"42.9375\" id=\"E5\" style=\"stroke: #383838; stroke-width: 1.5;\" width=\"95\" x=\"166.5\" y=\"459.5\"/><rect fill=\"#F8F8F8\" height=\"37.9375\" style=\"stroke: #383838; stroke-width: 1.5;\" width=\"95\" x=\"166.5\" y=\"459.5\"/><text fill=\"#000000\" font-family=\"sans-serif\" font-size=\"12\" font-style=\"italic\" lengthAdjust=\"spacingAndGlyphs\" textLength=\"88\" x=\"170\" y=\"475.6387\">«analysis def»</text><text fill=\"#000000\" font-family=\"sans-serif\" font-size=\"12\" lengthAdjust=\"spacingAndGlyphs\" textLength=\"81\" x=\"173.5\" y=\"489.6074\">AnalysisCase</text></a></g><!--MD5=[2156ba9850f5573cc1fc38a6a4b2f02b]\n",
       "class E7--><a href=\"psysml:317ace64-a3b7-4095-b75a-9c551641bbd2\" target=\"_top\" title=\"psysml:317ace64-a3b7-4095-b75a-9c551641bbd2\" xlink:actuate=\"onRequest\" xlink:href=\"psysml:317ace64-a3b7-4095-b75a-9c551641bbd2\" xlink:show=\"new\" xlink:title=\"psysml:317ace64-a3b7-4095-b75a-9c551641bbd2\" xlink:type=\"simple\"><rect fill=\"#FFFFFF\" height=\"52.7734\" id=\"E7\" rx=\"10\" ry=\"10\" style=\"stroke: #383838; stroke-width: 1.5;\" width=\"84\" x=\"218\" y=\"326\"/><text fill=\"#000000\" font-family=\"sans-serif\" font-size=\"12\" lengthAdjust=\"spacingAndGlyphs\" textLength=\"70\" x=\"225\" y=\"342.1387\">«objective»</text><line style=\"stroke: #383838; stroke-width: 1.5;\" x1=\"219\" x2=\"301\" y1=\"349.9688\" y2=\"349.9688\"/><text fill=\"#000000\" font-family=\"sans-serif\" font-size=\"11\" lengthAdjust=\"spacingAndGlyphs\" textLength=\"12\" x=\"224\" y=\"364.1792\">...</text><line style=\"stroke: #383838; stroke-width: 1.0;\" x1=\"219\" x2=\"301\" y1=\"370.7734\" y2=\"370.7734\"/></a><g id=\"E1.E6.E8\"><a href=\"psysml:0f757ff2-27a2-40d5-a25f-af43358ff77a\" target=\"_top\" title=\"psysml:0f757ff2-27a2-40d5-a25f-af43358ff77a\" xlink:actuate=\"onRequest\" xlink:href=\"psysml:0f757ff2-27a2-40d5-a25f-af43358ff77a\" xlink:show=\"new\" xlink:title=\"psysml:0f757ff2-27a2-40d5-a25f-af43358ff77a\" xlink:type=\"simple\"><rect fill=\"#FFFFFF\" height=\"42.9375\" id=\"E8\" rx=\"10\" ry=\"10\" style=\"stroke: #383838; stroke-width: 1.5;\" width=\"92\" x=\"91\" y=\"331\"/><rect fill=\"#F8F8F8\" height=\"37.9375\" rx=\"10\" ry=\"10\" style=\"stroke: #F8F8F8; stroke-width: 1.5;\" width=\"92\" x=\"91\" y=\"331\"/><rect fill=\"#F8F8F8\" height=\"10\" style=\"stroke: #F8F8F8; stroke-width: 1.5;\" width=\"92\" x=\"91\" y=\"358.9375\"/><rect fill=\"none\" height=\"42.9375\" id=\"E8\" rx=\"10\" ry=\"10\" style=\"stroke: #383838; stroke-width: 1.5;\" width=\"92\" x=\"91\" y=\"331\"/><text fill=\"#000000\" font-family=\"sans-serif\" font-size=\"12\" font-style=\"italic\" lengthAdjust=\"spacingAndGlyphs\" textLength=\"64\" x=\"105\" y=\"347.1387\">«analysis»</text><text fill=\"#000000\" font-family=\"sans-serif\" font-size=\"12\" lengthAdjust=\"spacingAndGlyphs\" textLength=\"81\" x=\"96.5\" y=\"361.1074\">analysisCase</text></a></g><g id=\"E1.E10\"><a href=\"psysml:9d8d7d87-8dd4-470f-9d18-cffbc3763f0c\" target=\"_top\" title=\"psysml:9d8d7d87-8dd4-470f-9d18-cffbc3763f0c\" xlink:actuate=\"onRequest\" xlink:href=\"psysml:9d8d7d87-8dd4-470f-9d18-cffbc3763f0c\" xlink:show=\"new\" xlink:title=\"psysml:9d8d7d87-8dd4-470f-9d18-cffbc3763f0c\" xlink:type=\"simple\"><rect fill=\"#FFFFFF\" height=\"42.9375\" id=\"E10\" rx=\"10\" ry=\"10\" style=\"stroke: #383838; stroke-width: 1.5;\" width=\"88\" x=\"37\" y=\"169\"/><rect fill=\"#F8F8F8\" height=\"37.9375\" rx=\"10\" ry=\"10\" style=\"stroke: #F8F8F8; stroke-width: 1.5;\" width=\"88\" x=\"37\" y=\"169\"/><rect fill=\"#F8F8F8\" height=\"10\" style=\"stroke: #F8F8F8; stroke-width: 1.5;\" width=\"88\" x=\"37\" y=\"196.9375\"/><rect fill=\"none\" height=\"42.9375\" id=\"E10\" rx=\"10\" ry=\"10\" style=\"stroke: #383838; stroke-width: 1.5;\" width=\"88\" x=\"37\" y=\"169\"/><text fill=\"#000000\" font-family=\"sans-serif\" font-size=\"12\" font-style=\"italic\" lengthAdjust=\"spacingAndGlyphs\" textLength=\"64\" x=\"49\" y=\"185.1387\">«analysis»</text><text fill=\"#000000\" font-family=\"sans-serif\" font-size=\"12\" lengthAdjust=\"spacingAndGlyphs\" textLength=\"77\" x=\"42.5\" y=\"199.1074\">analysisPlan</text></a></g><!--MD5=[05d275557350bfb9b23a4ef7222b4c39]\n",
       "link E3 to E2--><a href=\"psysml:f45a4065-dcd9-4d0e-be10-466e9a1a32d6\" target=\"_top\" title=\"psysml:f45a4065-dcd9-4d0e-be10-466e9a1a32d6\" xlink:actuate=\"onRequest\" xlink:href=\"psysml:f45a4065-dcd9-4d0e-be10-466e9a1a32d6\" xlink:show=\"new\" xlink:title=\"psysml:f45a4065-dcd9-4d0e-be10-466e9a1a32d6\" xlink:type=\"simple\"><path d=\"M310.33,504 C304.8,518.17 296.47,536.57 286,551 C279.62,559.78 271.98,568.34 264.08,576.23 \" fill=\"none\" id=\"E3-&gt;E2\" style=\"stroke: #383838; stroke-width: 1.0;\"/><polygon fill=\"#FFFFFF\" points=\"249.34,590.06,258.406,571.9545,267.9855,582.164,249.34,590.06\" style=\"stroke: #383838; stroke-width: 1.0;\"/><ellipse cx=\"263.9312\" cy=\"569.5128\" fill=\"#383838\" rx=\"2\" ry=\"2\" style=\"stroke: #383838; stroke-width: 1.0;\"/><ellipse cx=\"270.7737\" cy=\"576.8053\" fill=\"#383838\" rx=\"2\" ry=\"2\" style=\"stroke: #383838; stroke-width: 1.0;\"/></a><!--MD5=[15ebcb19ae302d9b601edb458606d402]\n",
       "link E5 to E2--><a href=\"psysml:4ce798b4-e7f7-45ac-94f6-a9dc23ec95c2\" target=\"_top\" title=\"psysml:4ce798b4-e7f7-45ac-94f6-a9dc23ec95c2\" xlink:actuate=\"onRequest\" xlink:href=\"psysml:4ce798b4-e7f7-45ac-94f6-a9dc23ec95c2\" xlink:show=\"new\" xlink:title=\"psysml:4ce798b4-e7f7-45ac-94f6-a9dc23ec95c2\" xlink:type=\"simple\"><path d=\"M214,502.66 C214,522.01 214,551.52 214,575.85 \" fill=\"none\" id=\"E5-&gt;E2\" style=\"stroke: #383838; stroke-width: 1.0; stroke-dasharray: 7.0,7.0;\"/><polygon fill=\"#383838\" points=\"214,580.96,218,571.96,214,575.96,210,571.96,214,580.96\" style=\"stroke: #383838; stroke-width: 1.0;\"/><text fill=\"#000000\" font-family=\"sans-serif\" font-size=\"13\" lengthAdjust=\"spacingAndGlyphs\" textLength=\"62\" x=\"215\" y=\"547.0669\">«subject»</text></a><!--MD5=[2351f337d6de0f557b50152ba70847b5]\n",
       "link E6 to E2--><a href=\"psysml:38ee38e5-fe2f-49e8-a238-8ef961814591\" target=\"_top\" title=\"psysml:38ee38e5-fe2f-49e8-a238-8ef961814591\" xlink:actuate=\"onRequest\" xlink:href=\"psysml:38ee38e5-fe2f-49e8-a238-8ef961814591\" xlink:show=\"new\" xlink:title=\"psysml:38ee38e5-fe2f-49e8-a238-8ef961814591\" xlink:type=\"simple\"><path d=\"M57.5084,403.137 C57.5293,403.365 57.5504,403.5934 57.5718,403.8223 C57.6145,404.2801 57.6581,404.7398 57.7028,405.2013 C57.792,406.1242 57.8852,407.0543 57.9825,407.9913 C61.095,437.9725 68.38,474.885 85,504 C106.54,541.73 145.2,573.36 174.61,593.66 \" fill=\"none\" id=\"E6-&gt;E2\" style=\"stroke: #383838; stroke-width: 1.0; stroke-dasharray: 7.0,7.0;\"/><polygon fill=\"#383838\" points=\"178.87,596.58,173.6864,588.2056,174.7386,593.7638,169.1804,594.8159,178.87,596.58\" style=\"stroke: #383838; stroke-width: 1.0;\"/><text fill=\"#000000\" font-family=\"sans-serif\" font-size=\"13\" lengthAdjust=\"spacingAndGlyphs\" textLength=\"62\" x=\"86\" y=\"485.5669\">«subject»</text></a><!--MD5=[1ccb2481ffa92f8d51a74ee30c51832a]\n",
       "link E8 to E5--><a href=\"psysml:cf5e8ef0-758f-412b-8419-a299a9750eac\" target=\"_top\" title=\"psysml:cf5e8ef0-758f-412b-8419-a299a9750eac\" xlink:actuate=\"onRequest\" xlink:href=\"psysml:cf5e8ef0-758f-412b-8419-a299a9750eac\" xlink:show=\"new\" xlink:title=\"psysml:cf5e8ef0-758f-412b-8419-a299a9750eac\" xlink:type=\"simple\"><path d=\"M149.54,374.11 C160.73,392.48 177.39,419.85 190.97,442.16 \" fill=\"none\" id=\"E8-&gt;E5\" style=\"stroke: #383838; stroke-width: 1.0;\"/><polygon fill=\"#FFFFFF\" points=\"201.46,459.4,185.6016,446.8099,197.5604,439.5306,201.46,459.4\" style=\"stroke: #383838; stroke-width: 1.0;\"/><ellipse cx=\"184.3463\" cy=\"440.901\" fill=\"#383838\" rx=\"2\" ry=\"2\" style=\"stroke: #383838; stroke-width: 1.0;\"/><ellipse cx=\"192.8883\" cy=\"435.7016\" fill=\"#383838\" rx=\"2\" ry=\"2\" style=\"stroke: #383838; stroke-width: 1.0;\"/></a><!--MD5=[198716bf12f04006f5c20d61bde6d80d]\n",
       "link E10 to E6--><a href=\"psysml:4172c94c-9fb8-4464-b137-e530fc31134b\" target=\"_top\" title=\"psysml:4172c94c-9fb8-4464-b137-e530fc31134b\" xlink:actuate=\"onRequest\" xlink:href=\"psysml:4172c94c-9fb8-4464-b137-e530fc31134b\" xlink:show=\"new\" xlink:title=\"psysml:4172c94c-9fb8-4464-b137-e530fc31134b\" xlink:type=\"simple\"><path d=\"M77.78,212.09 C76.12,222.725 73.9581,236.5687 71.6419,251.3978 C71.0628,255.1051 70.4741,258.8739 69.8812,262.6696 C69.7329,263.6185 69.5844,264.5691 69.4358,265.5209 C69.3614,265.9967 69.287,266.4729 69.2126,266.9493 \" fill=\"none\" id=\"E10-&gt;E6\" style=\"stroke: #383838; stroke-width: 1.0;\"/><polygon fill=\"#FFFFFF\" points=\"69.2126,266.9493,65.2291,247.0965,79.0613,249.2573,69.2126,266.9493\" style=\"stroke: #383838; stroke-width: 1.0;\"/><ellipse cx=\"68.0849\" cy=\"241.7735\" fill=\"#383838\" rx=\"2\" ry=\"2\" style=\"stroke: #383838; stroke-width: 1.0;\"/><ellipse cx=\"77.965\" cy=\"243.317\" fill=\"#383838\" rx=\"2\" ry=\"2\" style=\"stroke: #383838; stroke-width: 1.0;\"/></a><!--MD5=[23ac544a70576c3e717098101004234c]\n",
       "reverse link E9 to E10--><a href=\"psysml:9d8d7d87-8dd4-470f-9d18-cffbc3763f0c\" target=\"_top\" title=\"psysml:9d8d7d87-8dd4-470f-9d18-cffbc3763f0c\" xlink:actuate=\"onRequest\" xlink:href=\"psysml:9d8d7d87-8dd4-470f-9d18-cffbc3763f0c\" xlink:show=\"new\" xlink:title=\"psysml:9d8d7d87-8dd4-470f-9d18-cffbc3763f0c\" xlink:type=\"simple\"><path d=\"M84.45,110.8 C83.62,129.84 82.61,152.68 81.91,168.84 \" fill=\"none\" id=\"E9&lt;-E10\" style=\"stroke: #383838; stroke-width: 1.0;\"/><polygon fill=\"#383838\" points=\"85.02,97.75,80.7601,103.5684,84.4925,109.7384,88.7524,103.92,85.02,97.75\" style=\"stroke: #383838; stroke-width: 1.0;\"/></a><!--MD5=[cd2a7f915049a256e866779e3cfba3aa]\n",
       "@startuml\r\n",
       "top to bottom direction\r\n",
       "skinparam monochrome true\r\n",
       "skinparam classbackgroundcolor white\r\n",
       "skinparam shadowing false\r\n",
       "skinparam wrapWidth 300\r\n",
       "hide circle\r\n",
       "\r\n",
       "package \"AnalysisTest\" as E1  [[psysml:e1dfe890-ec15-4931-b288-05d8c66f0e23 ]]  {\r\n",
       "comp def \"V\" as E2  <<(T,blue) part  def>> [[psysml:e8de7c06-a552-45cc-9ef9-bdca622a4dc8 ]] {\r\n",
       "- - references - -\r\n",
       "m\r\n",
       "}\r\n",
       "comp usage \"vv: V \" as E3  <<(T,blue) part>> [[psysml:e405eddc-d04c-43ee-94c7-f68d6bd4037b ]] {\r\n",
       "}\r\n",
       "comp def \"AnalysisObjective\" as E4  <<(T,blue) requirement  def>> [[psysml:61935c6a-e9b2-427b-8e93-9f8ea2764a4f ]] {\r\n",
       "...\r\n",
       "- -\r\n",
       "}\r\n",
       "rec def \"AnalysisCase\" as E5 << analysis def>> [[psysml:5016a817-b8b6-43b2-a1c9-71130e2545c5 ]] {\r\n",
       "}\r\n",
       "rec def \"AnalysisPlan\" as E6 << analysis def>> [[psysml:0d28215e-abd0-4258-9ce4-d7487f47f154 ]] {\r\n",
       "comp usage \" <U+00AB>objective<U+00BB> \" as E7 [[psysml:317ace64-a3b7-4095-b75a-9c551641bbd2 ]] {\r\n",
       "...\r\n",
       "- -\r\n",
       "}\r\n",
       "rec usage \"analysisCase\" as E8 << analysis>> [[psysml:0f757ff2-27a2-40d5-a25f-af43358ff77a ]] {\r\n",
       "}\r\n",
       "}\r\n",
       "comp usage \"analysisContext \" as E9  <<(T,blue) part>> [[psysml:b24749b9-9e77-4740-bd21-7fc3830bb957 ]] {\r\n",
       "}\r\n",
       "rec usage \"analysisPlan\" as E10 << analysis>> [[psysml:9d8d7d87-8dd4-470f-9d18-cffbc3763f0c ]] {\r\n",
       "}\r\n",
       "}\r\n",
       "E3 - -:|> E2 [[psysml:f45a4065-dcd9-4d0e-be10-466e9a1a32d6 ]] \r\n",
       "E5 ..> E2 [[psysml:4ce798b4-e7f7-45ac-94f6-a9dc23ec95c2 ]] : <<subject>>\r\n",
       "E6 ..> E2 [[psysml:38ee38e5-fe2f-49e8-a238-8ef961814591 ]] : <<subject>>\r\n",
       "E8 - -:|> E5 [[psysml:cf5e8ef0-758f-412b-8419-a299a9750eac ]] \r\n",
       "E10 - -:|> E6 [[psysml:4172c94c-9fb8-4464-b137-e530fc31134b ]] \r\n",
       "E9 *- - E10 [[psysml:9d8d7d87-8dd4-470f-9d18-cffbc3763f0c ]] \r\n",
       "@enduml\r\n",
       "\n",
       "PlantUML version 1.2020.13(Sat Jun 13 12:26:38 UTC 2020)\n",
       "(EPL source distribution)\n",
       "Java Runtime: OpenJDK Runtime Environment\n",
       "JVM: OpenJDK 64-Bit Server VM\n",
       "Default Encoding: UTF-8\n",
       "Language: en\n",
       "Country: null\n",
       "--></g></svg>"
      ]
     },
     "execution_count": 44,
     "metadata": {},
     "output_type": "execute_result"
    }
   ],
   "source": [
    "%viz --style=\"TB\" --view=\"Default\" \"AnalysisTest\""
   ]
  },
  {
   "cell_type": "code",
   "execution_count": 45,
   "id": "04483480",
   "metadata": {
    "execution": {
     "iopub.execute_input": "2022-02-05T16:52:04.489029Z",
     "iopub.status.busy": "2022-02-05T16:52:04.488626Z",
     "iopub.status.idle": "2022-02-05T16:52:04.568429Z",
     "shell.execute_reply": "2022-02-05T16:52:04.568011Z"
    }
   },
   "outputs": [
    {
     "data": {
      "image/svg+xml": [
       "<?xml version=\"1.0\" encoding=\"UTF-8\" standalone=\"no\"?><svg xmlns=\"http://www.w3.org/2000/svg\" xmlns:xlink=\"http://www.w3.org/1999/xlink\" contentScriptType=\"application/ecmascript\" contentStyleType=\"text/css\" height=\"923px\" preserveAspectRatio=\"none\" style=\"width:453px;height:923px;\" version=\"1.1\" viewBox=\"0 0 453 923\" width=\"453px\" zoomAndPan=\"magnify\"><defs/><g><!--MD5=[fbc87193dbaf4d95561dea2c320d4a47]\n",
       "cluster E1--><a href=\"psysml:e1dfe890-ec15-4931-b288-05d8c66f0e23\" target=\"_top\" title=\"psysml:e1dfe890-ec15-4931-b288-05d8c66f0e23\" xlink:actuate=\"onRequest\" xlink:href=\"psysml:e1dfe890-ec15-4931-b288-05d8c66f0e23\" xlink:show=\"new\" xlink:title=\"psysml:e1dfe890-ec15-4931-b288-05d8c66f0e23\" xlink:type=\"simple\"><polygon fill=\"#FFFFFF\" points=\"20.13,6,112.13,6,119.13,28.2969,431.13,28.2969,431.13,911,20.13,911,20.13,6\" style=\"stroke: #000000; stroke-width: 1.5;\"/><line style=\"stroke: #000000; stroke-width: 1.5;\" x1=\"20.13\" x2=\"119.13\" y1=\"28.2969\" y2=\"28.2969\"/><text fill=\"#000000\" font-family=\"sans-serif\" font-size=\"14\" font-weight=\"bold\" lengthAdjust=\"spacingAndGlyphs\" textLength=\"86\" x=\"24.13\" y=\"20.9951\">AnalysisTest</text></a><!--MD5=[b4997ac47864f28c2f74865a473b2911]\n",
       "class E2--><a href=\"psysml:e8de7c06-a552-45cc-9ef9-bdca622a4dc8\" target=\"_top\" title=\"psysml:e8de7c06-a552-45cc-9ef9-bdca622a4dc8\" xlink:actuate=\"onRequest\" xlink:href=\"psysml:e8de7c06-a552-45cc-9ef9-bdca622a4dc8\" xlink:show=\"new\" xlink:title=\"psysml:e8de7c06-a552-45cc-9ef9-bdca622a4dc8\" xlink:type=\"simple\"><rect fill=\"#FFFFFF\" height=\"75.5469\" id=\"E2\" style=\"stroke: #383838; stroke-width: 1.5;\" width=\"70\" x=\"160.13\" y=\"691\"/><text fill=\"#000000\" font-family=\"sans-serif\" font-size=\"12\" font-style=\"italic\" lengthAdjust=\"spacingAndGlyphs\" textLength=\"68\" x=\"161.13\" y=\"707.1387\">«part  def»</text><text fill=\"#000000\" font-family=\"sans-serif\" font-size=\"12\" lengthAdjust=\"spacingAndGlyphs\" textLength=\"8\" x=\"191.13\" y=\"721.1074\">V</text><line style=\"stroke: #383838; stroke-width: 1.5;\" x1=\"161.13\" x2=\"229.13\" y1=\"728.9375\" y2=\"728.9375\"/><text fill=\"#000000\" font-family=\"sans-serif\" font-size=\"11\" lengthAdjust=\"spacingAndGlyphs\" textLength=\"11\" x=\"166.13\" y=\"759.9526\">m</text><line style=\"stroke: #383838; stroke-width: 1.0;\" x1=\"161.13\" x2=\"164.13\" y1=\"743.3398\" y2=\"743.3398\"/><text fill=\"#000000\" font-family=\"sans-serif\" font-size=\"11\" lengthAdjust=\"spacingAndGlyphs\" textLength=\"62\" x=\"164.13\" y=\"746.6479\">references</text><line style=\"stroke: #383838; stroke-width: 1.0;\" x1=\"226.13\" x2=\"229.13\" y1=\"743.3398\" y2=\"743.3398\"/></a><!--MD5=[09b614a08d8cba4a07c9adeb5e0fee81]\n",
       "class E3--><a href=\"psysml:e405eddc-d04c-43ee-94c7-f68d6bd4037b\" target=\"_top\" title=\"psysml:e405eddc-d04c-43ee-94c7-f68d6bd4037b\" xlink:actuate=\"onRequest\" xlink:href=\"psysml:e405eddc-d04c-43ee-94c7-f68d6bd4037b\" xlink:show=\"new\" xlink:title=\"psysml:e405eddc-d04c-43ee-94c7-f68d6bd4037b\" xlink:type=\"simple\"><rect fill=\"#FFFFFF\" height=\"45.9375\" id=\"E3\" rx=\"10\" ry=\"10\" style=\"stroke: #383838; stroke-width: 1.5;\" width=\"42\" x=\"202.13\" y=\"553\"/><text fill=\"#000000\" font-family=\"sans-serif\" font-size=\"12\" font-style=\"italic\" lengthAdjust=\"spacingAndGlyphs\" textLength=\"40\" x=\"203.13\" y=\"569.1387\">«part»</text><text fill=\"#000000\" font-family=\"sans-serif\" font-size=\"12\" lengthAdjust=\"spacingAndGlyphs\" textLength=\"28\" x=\"207.13\" y=\"583.1074\">vv: V</text><line style=\"stroke: #383838; stroke-width: 1.5;\" x1=\"203.13\" x2=\"243.13\" y1=\"590.9375\" y2=\"590.9375\"/></a><!--MD5=[ebbe1d658d1005bcc118a6aa81145e00]\n",
       "class E4--><a href=\"psysml:61935c6a-e9b2-427b-8e93-9f8ea2764a4f\" target=\"_top\" title=\"psysml:61935c6a-e9b2-427b-8e93-9f8ea2764a4f\" xlink:actuate=\"onRequest\" xlink:href=\"psysml:61935c6a-e9b2-427b-8e93-9f8ea2764a4f\" xlink:show=\"new\" xlink:title=\"psysml:61935c6a-e9b2-427b-8e93-9f8ea2764a4f\" xlink:type=\"simple\"><rect fill=\"#FFFFFF\" height=\"66.7422\" id=\"E4\" style=\"stroke: #383838; stroke-width: 1.5;\" width=\"121\" x=\"279.63\" y=\"828\"/><text fill=\"#000000\" font-family=\"sans-serif\" font-size=\"12\" font-style=\"italic\" lengthAdjust=\"spacingAndGlyphs\" textLength=\"119\" x=\"280.63\" y=\"844.1387\">«requirement  def»</text><text fill=\"#000000\" font-family=\"sans-serif\" font-size=\"12\" lengthAdjust=\"spacingAndGlyphs\" textLength=\"107\" x=\"286.63\" y=\"858.1074\">AnalysisObjective</text><line style=\"stroke: #383838; stroke-width: 1.5;\" x1=\"280.63\" x2=\"399.63\" y1=\"865.9375\" y2=\"865.9375\"/><text fill=\"#000000\" font-family=\"sans-serif\" font-size=\"11\" lengthAdjust=\"spacingAndGlyphs\" textLength=\"12\" x=\"285.63\" y=\"880.1479\">...</text><line style=\"stroke: #383838; stroke-width: 1.0;\" x1=\"280.63\" x2=\"399.63\" y1=\"886.7422\" y2=\"886.7422\"/></a><!--MD5=[270fce915f116d4de14055a7c1d9a0f3]\n",
       "class E5--><a href=\"psysml:5016a817-b8b6-43b2-a1c9-71130e2545c5\" target=\"_top\" title=\"psysml:5016a817-b8b6-43b2-a1c9-71130e2545c5\" xlink:actuate=\"onRequest\" xlink:href=\"psysml:5016a817-b8b6-43b2-a1c9-71130e2545c5\" xlink:show=\"new\" xlink:title=\"psysml:5016a817-b8b6-43b2-a1c9-71130e2545c5\" xlink:type=\"simple\"><rect fill=\"#FFFFFF\" height=\"75.5469\" id=\"E5\" style=\"stroke: #383838; stroke-width: 1.5;\" width=\"136\" x=\"279.13\" y=\"538\"/><text fill=\"#000000\" font-family=\"sans-serif\" font-size=\"12\" font-style=\"italic\" lengthAdjust=\"spacingAndGlyphs\" textLength=\"88\" x=\"303.13\" y=\"554.1387\">«analysis def»</text><text fill=\"#000000\" font-family=\"sans-serif\" font-size=\"12\" lengthAdjust=\"spacingAndGlyphs\" textLength=\"81\" x=\"306.63\" y=\"568.1074\">AnalysisCase</text><line style=\"stroke: #383838; stroke-width: 1.5;\" x1=\"280.13\" x2=\"414.13\" y1=\"575.9375\" y2=\"575.9375\"/><text fill=\"#000000\" font-family=\"sans-serif\" font-size=\"11\" lengthAdjust=\"spacingAndGlyphs\" textLength=\"43\" x=\"285.13\" y=\"606.9526\">{ v.m }</text><line style=\"stroke: #383838; stroke-width: 1.0;\" x1=\"280.13\" x2=\"283.13\" y1=\"590.3398\" y2=\"590.3398\"/><text fill=\"#000000\" font-family=\"sans-serif\" font-size=\"11\" lengthAdjust=\"spacingAndGlyphs\" textLength=\"128\" x=\"283.13\" y=\"593.6479\">path step expressions</text><line style=\"stroke: #383838; stroke-width: 1.0;\" x1=\"411.13\" x2=\"414.13\" y1=\"590.3398\" y2=\"590.3398\"/></a><!--MD5=[60a26617385b1d2d0262a64233df1f8d]\n",
       "class E6--><a href=\"psysml:8ed6d9d8-007f-466a-ada9-4e78a60ebf86\" target=\"_top\" title=\"psysml:8ed6d9d8-007f-466a-ada9-4e78a60ebf86\" xlink:actuate=\"onRequest\" xlink:href=\"psysml:8ed6d9d8-007f-466a-ada9-4e78a60ebf86\" xlink:show=\"new\" xlink:title=\"psysml:8ed6d9d8-007f-466a-ada9-4e78a60ebf86\" xlink:type=\"simple\"><rect fill=\"#FFFFFF\" height=\"45.9375\" id=\"E6\" rx=\"10\" ry=\"10\" style=\"stroke: #383838; stroke-width: 1.5;\" width=\"144\" x=\"268.13\" y=\"706\"/><text fill=\"#000000\" font-family=\"sans-serif\" font-size=\"12\" font-style=\"italic\" lengthAdjust=\"spacingAndGlyphs\" textLength=\"91\" x=\"294.63\" y=\"722.1387\">«requirement»</text><text fill=\"#000000\" font-family=\"sans-serif\" font-size=\"12\" lengthAdjust=\"spacingAndGlyphs\" textLength=\"134\" x=\"271.13\" y=\"736.1074\">obj: AnalysisObjective</text><line style=\"stroke: #383838; stroke-width: 1.5;\" x1=\"269.13\" x2=\"411.13\" y1=\"743.9375\" y2=\"743.9375\"/></a><!--MD5=[2156ba9850f5573cc1fc38a6a4b2f02b]\n",
       "class E7--><a href=\"psysml:0d28215e-abd0-4258-9ce4-d7487f47f154\" target=\"_top\" title=\"psysml:0d28215e-abd0-4258-9ce4-d7487f47f154\" xlink:actuate=\"onRequest\" xlink:href=\"psysml:0d28215e-abd0-4258-9ce4-d7487f47f154\" xlink:show=\"new\" xlink:title=\"psysml:0d28215e-abd0-4258-9ce4-d7487f47f154\" xlink:type=\"simple\"><rect fill=\"#FFFFFF\" height=\"45.9375\" id=\"E7\" style=\"stroke: #383838; stroke-width: 1.5;\" width=\"90\" x=\"108.13\" y=\"271\"/><text fill=\"#000000\" font-family=\"sans-serif\" font-size=\"12\" font-style=\"italic\" lengthAdjust=\"spacingAndGlyphs\" textLength=\"88\" x=\"109.13\" y=\"287.1387\">«analysis def»</text><text fill=\"#000000\" font-family=\"sans-serif\" font-size=\"12\" lengthAdjust=\"spacingAndGlyphs\" textLength=\"77\" x=\"114.63\" y=\"301.1074\">AnalysisPlan</text><line style=\"stroke: #383838; stroke-width: 1.5;\" x1=\"109.13\" x2=\"197.13\" y1=\"308.9375\" y2=\"308.9375\"/></a><!--MD5=[b9389687b975829384b498ac4b7476b2]\n",
       "class E8--><a href=\"psysml:317ace64-a3b7-4095-b75a-9c551641bbd2\" target=\"_top\" title=\"psysml:317ace64-a3b7-4095-b75a-9c551641bbd2\" xlink:actuate=\"onRequest\" xlink:href=\"psysml:317ace64-a3b7-4095-b75a-9c551641bbd2\" xlink:show=\"new\" xlink:title=\"psysml:317ace64-a3b7-4095-b75a-9c551641bbd2\" xlink:type=\"simple\"><rect fill=\"#FFFFFF\" height=\"66.7422\" id=\"E8\" rx=\"10\" ry=\"10\" style=\"stroke: #383838; stroke-width: 1.5;\" width=\"93\" x=\"106.63\" y=\"394\"/><text fill=\"#000000\" font-family=\"sans-serif\" font-size=\"12\" font-style=\"italic\" lengthAdjust=\"spacingAndGlyphs\" textLength=\"91\" x=\"107.63\" y=\"410.1387\">«requirement»</text><text fill=\"#000000\" font-family=\"sans-serif\" font-size=\"12\" lengthAdjust=\"spacingAndGlyphs\" textLength=\"19\" x=\"141.63\" y=\"424.1074\">obj</text><line style=\"stroke: #383838; stroke-width: 1.5;\" x1=\"107.63\" x2=\"198.63\" y1=\"431.9375\" y2=\"431.9375\"/><text fill=\"#000000\" font-family=\"sans-serif\" font-size=\"11\" lengthAdjust=\"spacingAndGlyphs\" textLength=\"12\" x=\"112.63\" y=\"446.1479\">...</text><line style=\"stroke: #383838; stroke-width: 1.0;\" x1=\"107.63\" x2=\"198.63\" y1=\"452.7422\" y2=\"452.7422\"/></a><!--MD5=[fd4143e9d270a159db93a4ea2a975926]\n",
       "class E9--><a href=\"psysml:0f757ff2-27a2-40d5-a25f-af43358ff77a\" target=\"_top\" title=\"psysml:0f757ff2-27a2-40d5-a25f-af43358ff77a\" xlink:actuate=\"onRequest\" xlink:href=\"psysml:0f757ff2-27a2-40d5-a25f-af43358ff77a\" xlink:show=\"new\" xlink:title=\"psysml:0f757ff2-27a2-40d5-a25f-af43358ff77a\" xlink:type=\"simple\"><rect fill=\"#FFFFFF\" height=\"45.9375\" id=\"E9\" rx=\"10\" ry=\"10\" style=\"stroke: #383838; stroke-width: 1.5;\" width=\"180\" x=\"235.13\" y=\"404.5\"/><text fill=\"#000000\" font-family=\"sans-serif\" font-size=\"12\" font-style=\"italic\" lengthAdjust=\"spacingAndGlyphs\" textLength=\"64\" x=\"293.13\" y=\"420.6387\">«analysis»</text><text fill=\"#000000\" font-family=\"sans-serif\" font-size=\"12\" lengthAdjust=\"spacingAndGlyphs\" textLength=\"170\" x=\"238.13\" y=\"434.6074\">analysisCase: AnalysisCase</text><line style=\"stroke: #383838; stroke-width: 1.5;\" x1=\"236.13\" x2=\"414.13\" y1=\"442.4375\" y2=\"442.4375\"/></a><!--MD5=[96f4274e9e20536e775497830990834d]\n",
       "class E10--><a href=\"psysml:756c2ee8-950e-4679-a51a-3cb75b1efb3e\" target=\"_top\" title=\"psysml:756c2ee8-950e-4679-a51a-3cb75b1efb3e\" xlink:actuate=\"onRequest\" xlink:href=\"psysml:756c2ee8-950e-4679-a51a-3cb75b1efb3e\" xlink:show=\"new\" xlink:title=\"psysml:756c2ee8-950e-4679-a51a-3cb75b1efb3e\" xlink:type=\"simple\"><rect fill=\"#FFFFFF\" height=\"45.9375\" id=\"E10\" rx=\"10\" ry=\"10\" style=\"stroke: #383838; stroke-width: 1.5;\" width=\"93\" x=\"73.63\" y=\"553\"/><text fill=\"#000000\" font-family=\"sans-serif\" font-size=\"12\" font-style=\"italic\" lengthAdjust=\"spacingAndGlyphs\" textLength=\"91\" x=\"74.63\" y=\"569.1387\">«requirement»</text><text fill=\"#000000\" font-family=\"sans-serif\" font-size=\"12\" lengthAdjust=\"spacingAndGlyphs\" textLength=\"19\" x=\"108.63\" y=\"583.1074\">obj</text><line style=\"stroke: #383838; stroke-width: 1.5;\" x1=\"74.63\" x2=\"165.63\" y1=\"590.9375\" y2=\"590.9375\"/></a><!--MD5=[1dd1bfd58a279cf63c5f349dbc8fc6a1]\n",
       "class E11--><a href=\"psysml:b24749b9-9e77-4740-bd21-7fc3830bb957\" target=\"_top\" title=\"psysml:b24749b9-9e77-4740-bd21-7fc3830bb957\" xlink:actuate=\"onRequest\" xlink:href=\"psysml:b24749b9-9e77-4740-bd21-7fc3830bb957\" xlink:show=\"new\" xlink:title=\"psysml:b24749b9-9e77-4740-bd21-7fc3830bb957\" xlink:type=\"simple\"><rect fill=\"#FFFFFF\" height=\"45.9375\" id=\"E11\" rx=\"10\" ry=\"10\" style=\"stroke: #383838; stroke-width: 1.5;\" width=\"108\" x=\"162.13\" y=\"41\"/><text fill=\"#000000\" font-family=\"sans-serif\" font-size=\"12\" font-style=\"italic\" lengthAdjust=\"spacingAndGlyphs\" textLength=\"40\" x=\"196.13\" y=\"57.1387\">«part»</text><text fill=\"#000000\" font-family=\"sans-serif\" font-size=\"12\" lengthAdjust=\"spacingAndGlyphs\" textLength=\"98\" x=\"165.13\" y=\"71.1074\">analysisContext</text><line style=\"stroke: #383838; stroke-width: 1.5;\" x1=\"163.13\" x2=\"269.13\" y1=\"78.9375\" y2=\"78.9375\"/></a><!--MD5=[49a0ec8f00dab7302a31f22d0f0fe584]\n",
       "class E12--><a href=\"psysml:9d8d7d87-8dd4-470f-9d18-cffbc3763f0c\" target=\"_top\" title=\"psysml:9d8d7d87-8dd4-470f-9d18-cffbc3763f0c\" xlink:actuate=\"onRequest\" xlink:href=\"psysml:9d8d7d87-8dd4-470f-9d18-cffbc3763f0c\" xlink:show=\"new\" xlink:title=\"psysml:9d8d7d87-8dd4-470f-9d18-cffbc3763f0c\" xlink:type=\"simple\"><rect fill=\"#FFFFFF\" height=\"45.9375\" id=\"E12\" rx=\"10\" ry=\"10\" style=\"stroke: #383838; stroke-width: 1.5;\" width=\"172\" x=\"130.13\" y=\"148\"/><text fill=\"#000000\" font-family=\"sans-serif\" font-size=\"12\" font-style=\"italic\" lengthAdjust=\"spacingAndGlyphs\" textLength=\"64\" x=\"184.13\" y=\"164.1387\">«analysis»</text><text fill=\"#000000\" font-family=\"sans-serif\" font-size=\"12\" lengthAdjust=\"spacingAndGlyphs\" textLength=\"162\" x=\"133.13\" y=\"178.1074\">analysisPlan: AnalysisPlan</text><line style=\"stroke: #383838; stroke-width: 1.5;\" x1=\"131.13\" x2=\"301.13\" y1=\"185.9375\" y2=\"185.9375\"/></a><!--MD5=[ee3c913d1a06f366521f9ef512b67efe]\n",
       "class E13--><a href=\"psysml:215563a4-4360-48d3-80f1-175339b6797a\" target=\"_top\" title=\"psysml:215563a4-4360-48d3-80f1-175339b6797a\" xlink:actuate=\"onRequest\" xlink:href=\"psysml:215563a4-4360-48d3-80f1-175339b6797a\" xlink:show=\"new\" xlink:title=\"psysml:215563a4-4360-48d3-80f1-175339b6797a\" xlink:type=\"simple\"><rect fill=\"#FFFFFF\" height=\"45.9375\" id=\"E13\" rx=\"10\" ry=\"10\" style=\"stroke: #383838; stroke-width: 1.5;\" width=\"93\" x=\"233.63\" y=\"271\"/><text fill=\"#000000\" font-family=\"sans-serif\" font-size=\"12\" font-style=\"italic\" lengthAdjust=\"spacingAndGlyphs\" textLength=\"91\" x=\"234.63\" y=\"287.1387\">«requirement»</text><text fill=\"#000000\" font-family=\"sans-serif\" font-size=\"12\" lengthAdjust=\"spacingAndGlyphs\" textLength=\"19\" x=\"268.63\" y=\"301.1074\">obj</text><line style=\"stroke: #383838; stroke-width: 1.5;\" x1=\"234.63\" x2=\"325.63\" y1=\"308.9375\" y2=\"308.9375\"/></a><!--MD5=[05d275557350bfb9b23a4ef7222b4c39]\n",
       "link E3 to E2--><a href=\"psysml:f45a4065-dcd9-4d0e-be10-466e9a1a32d6\" target=\"_top\" title=\"psysml:f45a4065-dcd9-4d0e-be10-466e9a1a32d6\" xlink:actuate=\"onRequest\" xlink:href=\"psysml:f45a4065-dcd9-4d0e-be10-466e9a1a32d6\" xlink:show=\"new\" xlink:title=\"psysml:f45a4065-dcd9-4d0e-be10-466e9a1a32d6\" xlink:type=\"simple\"><path d=\"M213.8,599.22 C208.84,612.07 203.16,628.68 200.13,644 C198.44,652.55 197.27,661.67 196.46,670.63 \" fill=\"none\" id=\"E3-&gt;E2\" style=\"stroke: #383838; stroke-width: 1.0;\"/><polygon fill=\"#FFFFFF\" points=\"195.18,690.93,189.4022,671.5234,203.3738,672.4135,195.18,690.93\" style=\"stroke: #383838; stroke-width: 1.0;\"/><ellipse cx=\"191.7605\" cy=\"665.9621\" fill=\"#383838\" rx=\"2\" ry=\"2\" style=\"stroke: #383838; stroke-width: 1.0;\"/><ellipse cx=\"201.7403\" cy=\"666.5979\" fill=\"#383838\" rx=\"2\" ry=\"2\" style=\"stroke: #383838; stroke-width: 1.0;\"/></a><!--MD5=[15ebcb19ae302d9b601edb458606d402]\n",
       "link E5 to E2--><a href=\"psysml:4ce798b4-e7f7-45ac-94f6-a9dc23ec95c2\" target=\"_top\" title=\"psysml:4ce798b4-e7f7-45ac-94f6-a9dc23ec95c2\" xlink:actuate=\"onRequest\" xlink:href=\"psysml:4ce798b4-e7f7-45ac-94f6-a9dc23ec95c2\" xlink:show=\"new\" xlink:title=\"psysml:4ce798b4-e7f7-45ac-94f6-a9dc23ec95c2\" xlink:type=\"simple\"><path d=\"M303.36,614.09 C292.6,623.61 281.27,633.99 271.13,644 C257.44,657.51 243.12,672.96 230.65,686.89 \" fill=\"none\" id=\"E5-&gt;E2\" style=\"stroke: #383838; stroke-width: 1.0; stroke-dasharray: 7.0,7.0;\"/><polygon fill=\"#383838\" points=\"227.18,690.78,236.1576,686.7299,230.5098,687.0501,230.1897,681.4023,227.18,690.78\" style=\"stroke: #383838; stroke-width: 1.0;\"/><text fill=\"#000000\" font-family=\"sans-serif\" font-size=\"13\" lengthAdjust=\"spacingAndGlyphs\" textLength=\"62\" x=\"272.13\" y=\"657.0669\">«subject»</text></a><!--MD5=[9120cf2e5df3bff93db8f754bbbc09b4]\n",
       "link E5 to E6--><a href=\"psysml:b91cd128-722a-4ae9-a5d3-51e53a9e38d7\" target=\"_top\" title=\"psysml:b91cd128-722a-4ae9-a5d3-51e53a9e38d7\" xlink:actuate=\"onRequest\" xlink:href=\"psysml:b91cd128-722a-4ae9-a5d3-51e53a9e38d7\" xlink:show=\"new\" xlink:title=\"psysml:b91cd128-722a-4ae9-a5d3-51e53a9e38d7\" xlink:type=\"simple\"><path d=\"M345.4,614.33 C344.21,639.95 342.65,673.54 341.54,697.54 \" fill=\"none\" id=\"E5-&gt;E6\" style=\"stroke: #383838; stroke-width: 1.0;\"/><polygon fill=\"#383838\" points=\"341.17,705.61,344.5378,697.7577,338.5443,697.4795,341.17,705.61\" style=\"stroke: #383838; stroke-width: 1.0;\"/><text fill=\"#000000\" font-family=\"sans-serif\" font-size=\"13\" lengthAdjust=\"spacingAndGlyphs\" textLength=\"73\" x=\"344.13\" y=\"657.0669\">«objective»</text></a><!--MD5=[f667431f98296947986a1a7595a31603]\n",
       "link E6 to E4--><a href=\"psysml:b2f535bd-3827-4daf-a953-8c36dc8e5a05\" target=\"_top\" title=\"psysml:b2f535bd-3827-4daf-a953-8c36dc8e5a05\" xlink:actuate=\"onRequest\" xlink:href=\"psysml:b2f535bd-3827-4daf-a953-8c36dc8e5a05\" xlink:show=\"new\" xlink:title=\"psysml:b2f535bd-3827-4daf-a953-8c36dc8e5a05\" xlink:type=\"simple\"><path d=\"M340.13,752.14 C340.13,767.41 340.13,788.39 340.13,807.82 \" fill=\"none\" id=\"E6-&gt;E4\" style=\"stroke: #383838; stroke-width: 1.0;\"/><polygon fill=\"#FFFFFF\" points=\"340.13,827.96,333.13,808.96,347.13,808.96,340.13,827.96\" style=\"stroke: #383838; stroke-width: 1.0;\"/><ellipse cx=\"335.13\" cy=\"803.26\" fill=\"#383838\" rx=\"2\" ry=\"2\" style=\"stroke: #383838; stroke-width: 1.0;\"/><ellipse cx=\"345.13\" cy=\"803.26\" fill=\"#383838\" rx=\"2\" ry=\"2\" style=\"stroke: #383838; stroke-width: 1.0;\"/></a><!--MD5=[583832df87f4419a098336a29a52fa00]\n",
       "link E7 to E2--><a href=\"psysml:38ee38e5-fe2f-49e8-a238-8ef961814591\" target=\"_top\" title=\"psysml:38ee38e5-fe2f-49e8-a238-8ef961814591\" xlink:actuate=\"onRequest\" xlink:href=\"psysml:38ee38e5-fe2f-49e8-a238-8ef961814591\" xlink:show=\"new\" xlink:title=\"psysml:38ee38e5-fe2f-49e8-a238-8ef961814591\" xlink:type=\"simple\"><path d=\"M135.62,317.09 C95.87,370.11 6,508.04 56.13,614 C76.51,657.06 122,689.3 155.42,708.32 \" fill=\"none\" id=\"E7-&gt;E2\" style=\"stroke: #383838; stroke-width: 1.0; stroke-dasharray: 7.0,7.0;\"/><polygon fill=\"#383838\" points=\"159.84,710.8,153.9458,702.9096,155.4787,708.3548,150.0335,709.8877,159.84,710.8\" style=\"stroke: #383838; stroke-width: 1.0;\"/><text fill=\"#000000\" font-family=\"sans-serif\" font-size=\"13\" lengthAdjust=\"spacingAndGlyphs\" textLength=\"62\" x=\"48.13\" y=\"504.0669\">«subject»</text></a><!--MD5=[79bc8f324ef4d02c541433f2e6e513c3]\n",
       "link E7 to E8--><a href=\"psysml:17344d0c-3816-44f9-9c17-e4b7438070db\" target=\"_top\" title=\"psysml:17344d0c-3816-44f9-9c17-e4b7438070db\" xlink:actuate=\"onRequest\" xlink:href=\"psysml:17344d0c-3816-44f9-9c17-e4b7438070db\" xlink:show=\"new\" xlink:title=\"psysml:17344d0c-3816-44f9-9c17-e4b7438070db\" xlink:type=\"simple\"><path d=\"M153.13,317.01 C153.13,335.7 153.13,363.02 153.13,385.69 \" fill=\"none\" id=\"E7-&gt;E8\" style=\"stroke: #383838; stroke-width: 1.0;\"/><polygon fill=\"#383838\" points=\"153.13,393.81,156.13,385.81,150.13,385.81,153.13,393.81\" style=\"stroke: #383838; stroke-width: 1.0;\"/><text fill=\"#000000\" font-family=\"sans-serif\" font-size=\"13\" lengthAdjust=\"spacingAndGlyphs\" textLength=\"73\" x=\"154.13\" y=\"360.0669\">«objective»</text><text fill=\"#000000\" font-family=\"sans-serif\" font-size=\"13\" lengthAdjust=\"spacingAndGlyphs\" textLength=\"7\" x=\"145.4409\" y=\"382.8061\">*</text></a><!--MD5=[e4a10ef82d0e328e31cac39a31e58dda]\n",
       "reverse link E7 to E9--><a href=\"psysml:270a9b55-e8f2-46f5-9c02-ba45f5a1be19\" target=\"_top\" title=\"psysml:270a9b55-e8f2-46f5-9c02-ba45f5a1be19\" xlink:actuate=\"onRequest\" xlink:href=\"psysml:270a9b55-e8f2-46f5-9c02-ba45f5a1be19\" xlink:show=\"new\" xlink:title=\"psysml:270a9b55-e8f2-46f5-9c02-ba45f5a1be19\" xlink:type=\"simple\"><path d=\"M203.01,324.33 C214.15,331.41 225.74,339.19 236.13,347 C259.98,364.92 285.16,387.84 302.63,404.46 \" fill=\"none\" id=\"E7&lt;-E9\" style=\"stroke: #383838; stroke-width: 1.0;\"/><polygon fill=\"#383838\" points=\"191.63,317.25,194.6072,323.8178,201.8149,323.5958,198.8377,317.0279,191.63,317.25\" style=\"stroke: #383838; stroke-width: 1.0;\"/></a><!--MD5=[bfc3ddf2e613be37104f658f09af896c]\n",
       "link E9 to E5--><a href=\"psysml:cf5e8ef0-758f-412b-8419-a299a9750eac\" target=\"_top\" title=\"psysml:cf5e8ef0-758f-412b-8419-a299a9750eac\" xlink:actuate=\"onRequest\" xlink:href=\"psysml:cf5e8ef0-758f-412b-8419-a299a9750eac\" xlink:show=\"new\" xlink:title=\"psysml:cf5e8ef0-758f-412b-8419-a299a9750eac\" xlink:type=\"simple\"><path d=\"M328.47,450.75 C331.16,468.64 335.06,494.59 338.59,518.16 \" fill=\"none\" id=\"E9-&gt;E5\" style=\"stroke: #383838; stroke-width: 1.0;\"/><polygon fill=\"#FFFFFF\" points=\"341.57,537.99,331.824,520.2413,345.6685,518.1607,341.57,537.99\" style=\"stroke: #383838; stroke-width: 1.0;\"/><ellipse cx=\"332.9546\" cy=\"514.3074\" fill=\"#383838\" rx=\"2\" ry=\"2\" style=\"stroke: #383838; stroke-width: 1.0;\"/><ellipse cx=\"342.8436\" cy=\"512.8212\" fill=\"#383838\" rx=\"2\" ry=\"2\" style=\"stroke: #383838; stroke-width: 1.0;\"/></a><!--MD5=[35e5f1cbde42fa304a029880aa2bc7f2]\n",
       "link E9 to E10--><a href=\"psysml:03a60127-fd3f-4561-ae6d-a87475bfdaf0\" target=\"_top\" title=\"psysml:03a60127-fd3f-4561-ae6d-a87475bfdaf0\" xlink:actuate=\"onRequest\" xlink:href=\"psysml:03a60127-fd3f-4561-ae6d-a87475bfdaf0\" xlink:show=\"new\" xlink:title=\"psysml:03a60127-fd3f-4561-ae6d-a87475bfdaf0\" xlink:type=\"simple\"><path d=\"M293.99,450.75 C257.47,476.86 196.93,520.12 157.79,548.09 \" fill=\"none\" id=\"E9-&gt;E10\" style=\"stroke: #383838; stroke-width: 1.0;\"/><polygon fill=\"#383838\" points=\"151.22,552.78,159.4727,550.5679,155.9832,545.6869,151.22,552.78\" style=\"stroke: #383838; stroke-width: 1.0;\"/><text fill=\"#000000\" font-family=\"sans-serif\" font-size=\"13\" lengthAdjust=\"spacingAndGlyphs\" textLength=\"73\" x=\"235.13\" y=\"504.0669\">«objective»</text><text fill=\"#000000\" font-family=\"sans-serif\" font-size=\"13\" lengthAdjust=\"spacingAndGlyphs\" textLength=\"7\" x=\"151.2899\" y=\"541.9999\">*</text></a><!--MD5=[94adabc162ce7e41b39f13be14fbaeb3]\n",
       "reverse link E11 to E12--><a href=\"psysml:7df3fd9f-252d-4e83-afe5-15252f6bd5d9\" target=\"_top\" title=\"psysml:7df3fd9f-252d-4e83-afe5-15252f6bd5d9\" xlink:actuate=\"onRequest\" xlink:href=\"psysml:7df3fd9f-252d-4e83-afe5-15252f6bd5d9\" xlink:show=\"new\" xlink:title=\"psysml:7df3fd9f-252d-4e83-afe5-15252f6bd5d9\" xlink:type=\"simple\"><path d=\"M216.13,100.05 C216.13,115.76 216.13,133.82 216.13,147.66 \" fill=\"none\" id=\"E11&lt;-E12\" style=\"stroke: #383838; stroke-width: 1.0;\"/><polygon fill=\"#383838\" points=\"216.13,87.01,212.13,93.01,216.13,99.01,220.13,93.01,216.13,87.01\" style=\"stroke: #383838; stroke-width: 1.0;\"/></a><!--MD5=[ae660f5ecd7ddb04a8913625960940af]\n",
       "link E12 to E7--><a href=\"psysml:4172c94c-9fb8-4464-b137-e530fc31134b\" target=\"_top\" title=\"psysml:4172c94c-9fb8-4464-b137-e530fc31134b\" xlink:actuate=\"onRequest\" xlink:href=\"psysml:4172c94c-9fb8-4464-b137-e530fc31134b\" xlink:show=\"new\" xlink:title=\"psysml:4172c94c-9fb8-4464-b137-e530fc31134b\" xlink:type=\"simple\"><path d=\"M204.57,194.19 C196.01,210.65 184.09,233.54 173.88,253.14 \" fill=\"none\" id=\"E12-&gt;E7\" style=\"stroke: #383838; stroke-width: 1.0;\"/><polygon fill=\"#FFFFFF\" points=\"164.61,270.95,167.1672,250.8637,179.5876,257.3239,164.61,270.95\" style=\"stroke: #383838; stroke-width: 1.0;\"/><ellipse cx=\"171.5718\" cy=\"246.7297\" fill=\"#383838\" rx=\"2\" ry=\"2\" style=\"stroke: #383838; stroke-width: 1.0;\"/><ellipse cx=\"180.4435\" cy=\"251.3441\" fill=\"#383838\" rx=\"2\" ry=\"2\" style=\"stroke: #383838; stroke-width: 1.0;\"/></a><!--MD5=[e2a9ac97dcd3257bb5342dae06547bad]\n",
       "link E12 to E13--><a href=\"psysml:aee64b6c-bc56-4d82-a56f-3ba6edf4c149\" target=\"_top\" title=\"psysml:aee64b6c-bc56-4d82-a56f-3ba6edf4c149\" xlink:actuate=\"onRequest\" xlink:href=\"psysml:aee64b6c-bc56-4d82-a56f-3ba6edf4c149\" xlink:show=\"new\" xlink:title=\"psysml:aee64b6c-bc56-4d82-a56f-3ba6edf4c149\" xlink:type=\"simple\"><path d=\"M227.87,194.19 C238.2,213.72 253.31,242.3 264.63,263.7 \" fill=\"none\" id=\"E12-&gt;E13\" style=\"stroke: #383838; stroke-width: 1.0;\"/><polygon fill=\"#383838\" points=\"268.47,270.95,267.3924,262.4742,262.085,265.2727,268.47,270.95\" style=\"stroke: #383838; stroke-width: 1.0;\"/><text fill=\"#000000\" font-family=\"sans-serif\" font-size=\"13\" lengthAdjust=\"spacingAndGlyphs\" textLength=\"73\" x=\"252.13\" y=\"237.0669\">«objective»</text><text fill=\"#000000\" font-family=\"sans-serif\" font-size=\"13\" lengthAdjust=\"spacingAndGlyphs\" textLength=\"7\" x=\"257.3957\" y=\"259.8328\">*</text></a><!--MD5=[d77dd78aa8168cf46ac644dad4fca606]\n",
       "@startuml\r\n",
       "top to bottom direction\r\n",
       "skinparam monochrome true\r\n",
       "skinparam classbackgroundcolor white\r\n",
       "skinparam shadowing false\r\n",
       "skinparam wrapWidth 300\r\n",
       "hide circle\r\n",
       "\r\n",
       "package \"AnalysisTest\" as E1  [[psysml:e1dfe890-ec15-4931-b288-05d8c66f0e23 ]]  {\r\n",
       "comp def \"V\" as E2  <<(T,blue) part  def>> [[psysml:e8de7c06-a552-45cc-9ef9-bdca622a4dc8 ]] {\r\n",
       "- - references - -\r\n",
       "m\r\n",
       "}\r\n",
       "comp usage \"vv: V \" as E3  <<(T,blue) part>> [[psysml:e405eddc-d04c-43ee-94c7-f68d6bd4037b ]] {\r\n",
       "}\r\n",
       "comp def \"AnalysisObjective\" as E4  <<(T,blue) requirement  def>> [[psysml:61935c6a-e9b2-427b-8e93-9f8ea2764a4f ]] {\r\n",
       "...\r\n",
       "- -\r\n",
       "}\r\n",
       "comp def \"AnalysisCase\" as E5 << analysis def>> [[psysml:5016a817-b8b6-43b2-a1c9-71130e2545c5 ]] {\r\n",
       "- - path step expressions - -\r\n",
       " { v.m }\r\n",
       "}\r\n",
       "comp usage \"obj: AnalysisObjective \" as E6  <<(T,blue) requirement>> [[psysml:8ed6d9d8-007f-466a-ada9-4e78a60ebf86 ]] {\r\n",
       "}\r\n",
       "comp def \"AnalysisPlan\" as E7 << analysis def>> [[psysml:0d28215e-abd0-4258-9ce4-d7487f47f154 ]] {\r\n",
       "}\r\n",
       "comp usage \"obj \" as E8  <<(T,blue) requirement>> [[psysml:317ace64-a3b7-4095-b75a-9c551641bbd2 ]] {\r\n",
       "...\r\n",
       "- -\r\n",
       "}\r\n",
       "comp usage \"analysisCase: AnalysisCase \" as E9 << analysis>> [[psysml:0f757ff2-27a2-40d5-a25f-af43358ff77a ]] {\r\n",
       "}\r\n",
       "comp usage \"obj \" as E10  <<(T,blue) requirement>> [[psysml:756c2ee8-950e-4679-a51a-3cb75b1efb3e ]] {\r\n",
       "}\r\n",
       "comp usage \"analysisContext \" as E11  <<(T,blue) part>> [[psysml:b24749b9-9e77-4740-bd21-7fc3830bb957 ]] {\r\n",
       "}\r\n",
       "comp usage \"analysisPlan: AnalysisPlan \" as E12 << analysis>> [[psysml:9d8d7d87-8dd4-470f-9d18-cffbc3763f0c ]] {\r\n",
       "}\r\n",
       "comp usage \"obj \" as E13  <<(T,blue) requirement>> [[psysml:215563a4-4360-48d3-80f1-175339b6797a ]] {\r\n",
       "}\r\n",
       "}\r\n",
       "E3 - -:|> E2 [[psysml:f45a4065-dcd9-4d0e-be10-466e9a1a32d6 ]] \r\n",
       "E5 ..> E2 [[psysml:4ce798b4-e7f7-45ac-94f6-a9dc23ec95c2 ]] : <<subject>>\r\n",
       "E5 - ->> E6 [[psysml:b91cd128-722a-4ae9-a5d3-51e53a9e38d7 ]] : <<objective>>\r\n",
       "E6 - -:|> E4 [[psysml:b2f535bd-3827-4daf-a953-8c36dc8e5a05 ]] \r\n",
       "E7 ..> E2 [[psysml:38ee38e5-fe2f-49e8-a238-8ef961814591 ]] : <<subject>>\r\n",
       "E7 - ->> \"*\"E8 [[psysml:17344d0c-3816-44f9-9c17-e4b7438070db ]] : <<objective>>\r\n",
       "E7 *- - E9 [[psysml:270a9b55-e8f2-46f5-9c02-ba45f5a1be19 ]] \r\n",
       "E9 - -:|> E5 [[psysml:cf5e8ef0-758f-412b-8419-a299a9750eac ]] \r\n",
       "E9 - ->> \"*\"E10 [[psysml:03a60127-fd3f-4561-ae6d-a87475bfdaf0 ]] : <<objective>>\r\n",
       "E11 *- - E12 [[psysml:7df3fd9f-252d-4e83-afe5-15252f6bd5d9 ]] \r\n",
       "E12 - -:|> E7 [[psysml:4172c94c-9fb8-4464-b137-e530fc31134b ]] \r\n",
       "E12 - ->> \"*\"E13 [[psysml:aee64b6c-bc56-4d82-a56f-3ba6edf4c149 ]] : <<objective>>\r\n",
       "@enduml\r\n",
       "\n",
       "PlantUML version 1.2020.13(Sat Jun 13 12:26:38 UTC 2020)\n",
       "(EPL source distribution)\n",
       "Java Runtime: OpenJDK Runtime Environment\n",
       "JVM: OpenJDK 64-Bit Server VM\n",
       "Default Encoding: UTF-8\n",
       "Language: en\n",
       "Country: null\n",
       "--></g></svg>"
      ]
     },
     "execution_count": 45,
     "metadata": {},
     "output_type": "execute_result"
    }
   ],
   "source": [
    "%viz --style=\"TB\" --view=\"Tree\" \"AnalysisTest\""
   ]
  },
  {
   "cell_type": "code",
   "execution_count": 46,
   "id": "c9b9bb73",
   "metadata": {
    "execution": {
     "iopub.execute_input": "2022-02-05T16:52:04.617675Z",
     "iopub.status.busy": "2022-02-05T16:52:04.617273Z",
     "iopub.status.idle": "2022-02-05T16:52:04.622318Z",
     "shell.execute_reply": "2022-02-05T16:52:04.621990Z"
    }
   },
   "outputs": [
    {
     "data": {
      "image/svg+xml": [
       "<?xml version=\"1.0\" encoding=\"UTF-8\" standalone=\"no\"?><svg xmlns=\"http://www.w3.org/2000/svg\" xmlns:xlink=\"http://www.w3.org/1999/xlink\" contentScriptType=\"application/ecmascript\" contentStyleType=\"text/css\" height=\"12px\" preserveAspectRatio=\"none\" style=\"width:12px;height:12px;\" version=\"1.1\" viewBox=\"0 0 12 12\" width=\"12px\" zoomAndPan=\"magnify\"><defs/><g><!--MD5=[f4ee21bc66e489b5061b7c3e9601fdef]\n",
       "@startuml\r\n",
       "top to bottom direction\r\n",
       "skinparam monochrome true\r\n",
       "skinparam classbackgroundcolor white\r\n",
       "skinparam shadowing false\r\n",
       "skinparam wrapWidth 300\r\n",
       "hide circle\r\n",
       "\r\n",
       "@enduml\r\n",
       "\n",
       "PlantUML version 1.2020.13(Sat Jun 13 12:26:38 UTC 2020)\n",
       "(EPL source distribution)\n",
       "Java Runtime: OpenJDK Runtime Environment\n",
       "JVM: OpenJDK 64-Bit Server VM\n",
       "Default Encoding: UTF-8\n",
       "Language: en\n",
       "Country: null\n",
       "--></g></svg>"
      ]
     },
     "execution_count": 46,
     "metadata": {},
     "output_type": "execute_result"
    }
   ],
   "source": [
    "%viz --style=\"TB\" --view=\"State\" \"AnalysisTest\""
   ]
  },
  {
   "cell_type": "code",
   "execution_count": 47,
   "id": "fa9bb259",
   "metadata": {
    "execution": {
     "iopub.execute_input": "2022-02-05T16:52:04.672253Z",
     "iopub.status.busy": "2022-02-05T16:52:04.671851Z",
     "iopub.status.idle": "2022-02-05T16:52:04.723906Z",
     "shell.execute_reply": "2022-02-05T16:52:04.722479Z"
    }
   },
   "outputs": [
    {
     "data": {
      "image/svg+xml": [
       "<?xml version=\"1.0\" encoding=\"UTF-8\" standalone=\"no\"?><svg xmlns=\"http://www.w3.org/2000/svg\" xmlns:xlink=\"http://www.w3.org/1999/xlink\" contentScriptType=\"application/ecmascript\" contentStyleType=\"text/css\" height=\"500px\" preserveAspectRatio=\"none\" style=\"width:425px;height:500px;\" version=\"1.1\" viewBox=\"0 0 425 500\" width=\"425px\" zoomAndPan=\"magnify\"><defs/><g><!--MD5=[fbc87193dbaf4d95561dea2c320d4a47]\n",
       "cluster E1--><a href=\"psysml:e1dfe890-ec15-4931-b288-05d8c66f0e23\" target=\"_top\" title=\"psysml:e1dfe890-ec15-4931-b288-05d8c66f0e23\" xlink:actuate=\"onRequest\" xlink:href=\"psysml:e1dfe890-ec15-4931-b288-05d8c66f0e23\" xlink:show=\"new\" xlink:title=\"psysml:e1dfe890-ec15-4931-b288-05d8c66f0e23\" xlink:type=\"simple\"><polygon fill=\"#FFFFFF\" points=\"16,6,108,6,115,28.2969,403,28.2969,403,488,16,488,16,6\" style=\"stroke: #000000; stroke-width: 1.5;\"/><line style=\"stroke: #000000; stroke-width: 1.5;\" x1=\"16\" x2=\"115\" y1=\"28.2969\" y2=\"28.2969\"/><text fill=\"#000000\" font-family=\"sans-serif\" font-size=\"14\" font-weight=\"bold\" lengthAdjust=\"spacingAndGlyphs\" textLength=\"86\" x=\"20\" y=\"20.9951\">AnalysisTest</text></a><!--MD5=[14e3b0961a2654348d326746436168a1]\n",
       "cluster E6--><a href=\"psysml:0d28215e-abd0-4258-9ce4-d7487f47f154\" target=\"_top\" title=\"psysml:0d28215e-abd0-4258-9ce4-d7487f47f154\" xlink:actuate=\"onRequest\" xlink:href=\"psysml:0d28215e-abd0-4258-9ce4-d7487f47f154\" xlink:show=\"new\" xlink:title=\"psysml:0d28215e-abd0-4258-9ce4-d7487f47f154\" xlink:type=\"simple\"><rect fill=\"#FFFFFF\" height=\"136\" id=\"E6\" style=\"stroke: #383838; stroke-width: 1.5;\" width=\"278\" x=\"93\" y=\"184\"/><rect fill=\"#F8F8F8\" height=\"37.9375\" style=\"stroke: #383838; stroke-width: 1.5;\" width=\"278\" x=\"93\" y=\"184\"/><text fill=\"#000000\" font-family=\"sans-serif\" font-size=\"12\" font-style=\"italic\" lengthAdjust=\"spacingAndGlyphs\" textLength=\"88\" x=\"188\" y=\"200.1387\">«analysis def»</text><text fill=\"#000000\" font-family=\"sans-serif\" font-size=\"12\" lengthAdjust=\"spacingAndGlyphs\" textLength=\"77\" x=\"193.5\" y=\"214.1074\">AnalysisPlan</text></a><!--MD5=[7f149f147074ac12df2cb0a7728a5fb0]\n",
       "cluster E9--><a href=\"psysml:b24749b9-9e77-4740-bd21-7fc3830bb957\" target=\"_top\" title=\"psysml:b24749b9-9e77-4740-bd21-7fc3830bb957\" xlink:actuate=\"onRequest\" xlink:href=\"psysml:b24749b9-9e77-4740-bd21-7fc3830bb957\" xlink:show=\"new\" xlink:title=\"psysml:b24749b9-9e77-4740-bd21-7fc3830bb957\" xlink:type=\"simple\"><rect fill=\"#FFFFFF\" height=\"94\" id=\"E9\" rx=\"10\" ry=\"10\" style=\"stroke: #383838; stroke-width: 1.5;\" width=\"124\" x=\"255\" y=\"49\"/><rect fill=\"#F8F8F8\" height=\"23.9688\" rx=\"10\" ry=\"10\" style=\"stroke: #F8F8F8; stroke-width: 1.5;\" width=\"124\" x=\"255\" y=\"49\"/><rect fill=\"#F8F8F8\" height=\"10\" style=\"stroke: #F8F8F8; stroke-width: 1.5;\" width=\"124\" x=\"255\" y=\"62.9688\"/><rect fill=\"none\" height=\"94\" id=\"E9\" rx=\"10\" ry=\"10\" style=\"stroke: #383838; stroke-width: 1.5;\" width=\"124\" x=\"255\" y=\"49\"/><text fill=\"#000000\" font-family=\"sans-serif\" font-size=\"12\" lengthAdjust=\"spacingAndGlyphs\" textLength=\"98\" x=\"268\" y=\"65.1387\">analysisContext</text><line style=\"stroke: #383838; stroke-width: 1.0;\" x1=\"255\" x2=\"379\" y1=\"72.9688\" y2=\"72.9688\"/></a><!--MD5=[ebbe1d658d1005bcc118a6aa81145e00]\n",
       "class E4--><a href=\"psysml:61935c6a-e9b2-427b-8e93-9f8ea2764a4f\" target=\"_top\" title=\"psysml:61935c6a-e9b2-427b-8e93-9f8ea2764a4f\" xlink:actuate=\"onRequest\" xlink:href=\"psysml:61935c6a-e9b2-427b-8e93-9f8ea2764a4f\" xlink:show=\"new\" xlink:title=\"psysml:61935c6a-e9b2-427b-8e93-9f8ea2764a4f\" xlink:type=\"simple\"><rect fill=\"#FFFFFF\" height=\"66.7422\" id=\"E4\" style=\"stroke: #383838; stroke-width: 1.5;\" width=\"121\" x=\"117.5\" y=\"72\"/><text fill=\"#000000\" font-family=\"sans-serif\" font-size=\"12\" font-style=\"italic\" lengthAdjust=\"spacingAndGlyphs\" textLength=\"119\" x=\"118.5\" y=\"88.1387\">«requirement  def»</text><text fill=\"#000000\" font-family=\"sans-serif\" font-size=\"12\" lengthAdjust=\"spacingAndGlyphs\" textLength=\"107\" x=\"124.5\" y=\"102.1074\">AnalysisObjective</text><line style=\"stroke: #383838; stroke-width: 1.5;\" x1=\"118.5\" x2=\"237.5\" y1=\"109.9375\" y2=\"109.9375\"/><text fill=\"#000000\" font-family=\"sans-serif\" font-size=\"11\" lengthAdjust=\"spacingAndGlyphs\" textLength=\"12\" x=\"123.5\" y=\"124.1479\">...</text><line style=\"stroke: #383838; stroke-width: 1.0;\" x1=\"118.5\" x2=\"237.5\" y1=\"130.7422\" y2=\"130.7422\"/></a><g id=\"E1.E2\"><a href=\"psysml:e8de7c06-a552-45cc-9ef9-bdca622a4dc8\" target=\"_top\" title=\"psysml:e8de7c06-a552-45cc-9ef9-bdca622a4dc8\" xlink:actuate=\"onRequest\" xlink:href=\"psysml:e8de7c06-a552-45cc-9ef9-bdca622a4dc8\" xlink:show=\"new\" xlink:title=\"psysml:e8de7c06-a552-45cc-9ef9-bdca622a4dc8\" xlink:type=\"simple\"><rect fill=\"#FFFFFF\" height=\"42.9375\" id=\"E2\" style=\"stroke: #383838; stroke-width: 1.5;\" width=\"75\" x=\"77.5\" y=\"429\"/><rect fill=\"#F8F8F8\" height=\"37.9375\" style=\"stroke: #383838; stroke-width: 1.5;\" width=\"75\" x=\"77.5\" y=\"429\"/><text fill=\"#000000\" font-family=\"sans-serif\" font-size=\"12\" font-style=\"italic\" lengthAdjust=\"spacingAndGlyphs\" textLength=\"68\" x=\"81\" y=\"445.1387\">«part  def»</text><text fill=\"#000000\" font-family=\"sans-serif\" font-size=\"12\" lengthAdjust=\"spacingAndGlyphs\" textLength=\"8\" x=\"111\" y=\"459.1074\">V</text></a></g><g id=\"E1.E3\"><a href=\"psysml:e405eddc-d04c-43ee-94c7-f68d6bd4037b\" target=\"_top\" title=\"psysml:e405eddc-d04c-43ee-94c7-f68d6bd4037b\" xlink:actuate=\"onRequest\" xlink:href=\"psysml:e405eddc-d04c-43ee-94c7-f68d6bd4037b\" xlink:show=\"new\" xlink:title=\"psysml:e405eddc-d04c-43ee-94c7-f68d6bd4037b\" xlink:type=\"simple\"><rect fill=\"#FFFFFF\" height=\"40\" id=\"E3\" rx=\"10\" ry=\"10\" style=\"stroke: #383838; stroke-width: 1.5;\" width=\"50\" x=\"32\" y=\"85.5\"/><rect fill=\"#F8F8F8\" height=\"23.9688\" rx=\"10\" ry=\"10\" style=\"stroke: #F8F8F8; stroke-width: 1.5;\" width=\"50\" x=\"32\" y=\"85.5\"/><rect fill=\"#F8F8F8\" height=\"10\" style=\"stroke: #F8F8F8; stroke-width: 1.5;\" width=\"50\" x=\"32\" y=\"99.4688\"/><rect fill=\"none\" height=\"40\" id=\"E3\" rx=\"10\" ry=\"10\" style=\"stroke: #383838; stroke-width: 1.5;\" width=\"50\" x=\"32\" y=\"85.5\"/><text fill=\"#000000\" font-family=\"sans-serif\" font-size=\"12\" lengthAdjust=\"spacingAndGlyphs\" textLength=\"28\" x=\"43\" y=\"101.6387\">vv: V</text></a></g><g id=\"E1.E5\"><a href=\"psysml:5016a817-b8b6-43b2-a1c9-71130e2545c5\" target=\"_top\" title=\"psysml:5016a817-b8b6-43b2-a1c9-71130e2545c5\" xlink:actuate=\"onRequest\" xlink:href=\"psysml:5016a817-b8b6-43b2-a1c9-71130e2545c5\" xlink:show=\"new\" xlink:title=\"psysml:5016a817-b8b6-43b2-a1c9-71130e2545c5\" xlink:type=\"simple\"><rect fill=\"#FFFFFF\" height=\"42.9375\" id=\"E5\" style=\"stroke: #383838; stroke-width: 1.5;\" width=\"95\" x=\"167.5\" y=\"353\"/><rect fill=\"#F8F8F8\" height=\"37.9375\" style=\"stroke: #383838; stroke-width: 1.5;\" width=\"95\" x=\"167.5\" y=\"353\"/><text fill=\"#000000\" font-family=\"sans-serif\" font-size=\"12\" font-style=\"italic\" lengthAdjust=\"spacingAndGlyphs\" textLength=\"88\" x=\"171\" y=\"369.1387\">«analysis def»</text><text fill=\"#000000\" font-family=\"sans-serif\" font-size=\"12\" lengthAdjust=\"spacingAndGlyphs\" textLength=\"81\" x=\"174.5\" y=\"383.1074\">AnalysisCase</text></a></g><!--MD5=[2156ba9850f5573cc1fc38a6a4b2f02b]\n",
       "class E7--><a href=\"psysml:317ace64-a3b7-4095-b75a-9c551641bbd2\" target=\"_top\" title=\"psysml:317ace64-a3b7-4095-b75a-9c551641bbd2\" xlink:actuate=\"onRequest\" xlink:href=\"psysml:317ace64-a3b7-4095-b75a-9c551641bbd2\" xlink:show=\"new\" xlink:title=\"psysml:317ace64-a3b7-4095-b75a-9c551641bbd2\" xlink:type=\"simple\"><rect fill=\"#FFFFFF\" height=\"52.7734\" id=\"E7\" rx=\"10\" ry=\"10\" style=\"stroke: #383838; stroke-width: 1.5;\" width=\"84\" x=\"263\" y=\"243\"/><text fill=\"#000000\" font-family=\"sans-serif\" font-size=\"12\" lengthAdjust=\"spacingAndGlyphs\" textLength=\"70\" x=\"270\" y=\"259.1387\">«objective»</text><line style=\"stroke: #383838; stroke-width: 1.5;\" x1=\"264\" x2=\"346\" y1=\"266.9688\" y2=\"266.9688\"/><text fill=\"#000000\" font-family=\"sans-serif\" font-size=\"11\" lengthAdjust=\"spacingAndGlyphs\" textLength=\"12\" x=\"269\" y=\"281.1792\">...</text><line style=\"stroke: #383838; stroke-width: 1.0;\" x1=\"264\" x2=\"346\" y1=\"287.7734\" y2=\"287.7734\"/></a><g id=\"E1.E6.E8\"><a href=\"psysml:0f757ff2-27a2-40d5-a25f-af43358ff77a\" target=\"_top\" title=\"psysml:0f757ff2-27a2-40d5-a25f-af43358ff77a\" xlink:actuate=\"onRequest\" xlink:href=\"psysml:0f757ff2-27a2-40d5-a25f-af43358ff77a\" xlink:show=\"new\" xlink:title=\"psysml:0f757ff2-27a2-40d5-a25f-af43358ff77a\" xlink:type=\"simple\"><rect fill=\"#FFFFFF\" height=\"42.9375\" id=\"E8\" rx=\"10\" ry=\"10\" style=\"stroke: #383838; stroke-width: 1.5;\" width=\"92\" x=\"136\" y=\"248\"/><rect fill=\"#F8F8F8\" height=\"37.9375\" rx=\"10\" ry=\"10\" style=\"stroke: #F8F8F8; stroke-width: 1.5;\" width=\"92\" x=\"136\" y=\"248\"/><rect fill=\"#F8F8F8\" height=\"10\" style=\"stroke: #F8F8F8; stroke-width: 1.5;\" width=\"92\" x=\"136\" y=\"275.9375\"/><rect fill=\"none\" height=\"42.9375\" id=\"E8\" rx=\"10\" ry=\"10\" style=\"stroke: #383838; stroke-width: 1.5;\" width=\"92\" x=\"136\" y=\"248\"/><text fill=\"#000000\" font-family=\"sans-serif\" font-size=\"12\" font-style=\"italic\" lengthAdjust=\"spacingAndGlyphs\" textLength=\"64\" x=\"150\" y=\"264.1387\">«analysis»</text><text fill=\"#000000\" font-family=\"sans-serif\" font-size=\"12\" lengthAdjust=\"spacingAndGlyphs\" textLength=\"81\" x=\"141.5\" y=\"278.1074\">analysisCase</text></a></g><g id=\"E1.E9.E10\"><a href=\"psysml:9d8d7d87-8dd4-470f-9d18-cffbc3763f0c\" target=\"_top\" title=\"psysml:9d8d7d87-8dd4-470f-9d18-cffbc3763f0c\" xlink:actuate=\"onRequest\" xlink:href=\"psysml:9d8d7d87-8dd4-470f-9d18-cffbc3763f0c\" xlink:show=\"new\" xlink:title=\"psysml:9d8d7d87-8dd4-470f-9d18-cffbc3763f0c\" xlink:type=\"simple\"><rect fill=\"#FFFFFF\" height=\"42.9375\" id=\"E10\" rx=\"10\" ry=\"10\" style=\"stroke: #383838; stroke-width: 1.5;\" width=\"88\" x=\"274\" y=\"84\"/><rect fill=\"#F8F8F8\" height=\"37.9375\" rx=\"10\" ry=\"10\" style=\"stroke: #F8F8F8; stroke-width: 1.5;\" width=\"88\" x=\"274\" y=\"84\"/><rect fill=\"#F8F8F8\" height=\"10\" style=\"stroke: #F8F8F8; stroke-width: 1.5;\" width=\"88\" x=\"274\" y=\"111.9375\"/><rect fill=\"none\" height=\"42.9375\" id=\"E10\" rx=\"10\" ry=\"10\" style=\"stroke: #383838; stroke-width: 1.5;\" width=\"88\" x=\"274\" y=\"84\"/><text fill=\"#000000\" font-family=\"sans-serif\" font-size=\"12\" font-style=\"italic\" lengthAdjust=\"spacingAndGlyphs\" textLength=\"64\" x=\"286\" y=\"100.1387\">«analysis»</text><text fill=\"#000000\" font-family=\"sans-serif\" font-size=\"12\" lengthAdjust=\"spacingAndGlyphs\" textLength=\"77\" x=\"279.5\" y=\"114.1074\">analysisPlan</text></a></g><!--MD5=[15ebcb19ae302d9b601edb458606d402]\n",
       "link E5 to E2--><a href=\"psysml:4ce798b4-e7f7-45ac-94f6-a9dc23ec95c2\" target=\"_top\" title=\"psysml:4ce798b4-e7f7-45ac-94f6-a9dc23ec95c2\" xlink:actuate=\"onRequest\" xlink:href=\"psysml:4ce798b4-e7f7-45ac-94f6-a9dc23ec95c2\" xlink:show=\"new\" xlink:title=\"psysml:4ce798b4-e7f7-45ac-94f6-a9dc23ec95c2\" xlink:type=\"simple\"><path d=\"M187.14,396.11 C174.68,405.33 159.92,416.26 147.01,425.81 \" fill=\"none\" id=\"E5-&gt;E2\" style=\"stroke: #383838; stroke-width: 1.0; stroke-dasharray: 7.0,7.0;\"/><polygon fill=\"#383838\" points=\"142.71,429,152.3187,426.8384,146.722,426.016,147.5443,420.4193,142.71,429\" style=\"stroke: #383838; stroke-width: 1.0;\"/><text fill=\"#000000\" font-family=\"sans-serif\" font-size=\"13\" lengthAdjust=\"spacingAndGlyphs\" textLength=\"62\" x=\"174\" y=\"417.0669\">«subject»</text></a><!--MD5=[2351f337d6de0f557b50152ba70847b5]\n",
       "link E6 to E2--><a href=\"psysml:38ee38e5-fe2f-49e8-a238-8ef961814591\" target=\"_top\" title=\"psysml:38ee38e5-fe2f-49e8-a238-8ef961814591\" xlink:actuate=\"onRequest\" xlink:href=\"psysml:38ee38e5-fe2f-49e8-a238-8ef961814591\" xlink:show=\"new\" xlink:title=\"psysml:38ee38e5-fe2f-49e8-a238-8ef961814591\" xlink:type=\"simple\"><path d=\"M92.9414,294.7008 C92.8971,294.8555 92.8528,295.0108 92.8084,295.1667 C92.631,295.7901 92.4529,296.4226 92.2746,297.064 C90.848,302.1949 89.4013,307.8909 88.0675,313.9888 C82.7325,338.38 79.205,369.2 86,396 C88.48,405.76 93.13,415.68 98,424.27 \" fill=\"none\" id=\"E6-&gt;E2\" style=\"stroke: #383838; stroke-width: 1.0; stroke-dasharray: 7.0,7.0;\"/><polygon fill=\"#383838\" points=\"100.71,428.9,99.6101,419.1127,98.1818,424.5863,92.7082,423.1579,100.71,428.9\" style=\"stroke: #383838; stroke-width: 1.0;\"/><text fill=\"#000000\" font-family=\"sans-serif\" font-size=\"13\" lengthAdjust=\"spacingAndGlyphs\" textLength=\"62\" x=\"87\" y=\"379.0669\">«subject»</text></a><!--MD5=[1ccb2481ffa92f8d51a74ee30c51832a]\n",
       "link E8 to E5--><a href=\"psysml:cf5e8ef0-758f-412b-8419-a299a9750eac\" target=\"_top\" title=\"psysml:cf5e8ef0-758f-412b-8419-a299a9750eac\" xlink:actuate=\"onRequest\" xlink:href=\"psysml:cf5e8ef0-758f-412b-8419-a299a9750eac\" xlink:show=\"new\" xlink:title=\"psysml:cf5e8ef0-758f-412b-8419-a299a9750eac\" xlink:type=\"simple\"><path d=\"M188.68,291.34 C192.52,303.35 197.49,318.85 202.07,333.15 \" fill=\"none\" id=\"E8-&gt;E5\" style=\"stroke: #383838; stroke-width: 1.0;\"/><polygon fill=\"#FFFFFF\" points=\"208.33,352.69,195.871,336.7284,209.2046,332.4604,208.33,352.69\" style=\"stroke: #383838; stroke-width: 1.0;\"/><ellipse cx=\"196.0381\" cy=\"330.69\" fill=\"#383838\" rx=\"2\" ry=\"2\" style=\"stroke: #383838; stroke-width: 1.0;\"/><ellipse cx=\"205.5621\" cy=\"327.6415\" fill=\"#383838\" rx=\"2\" ry=\"2\" style=\"stroke: #383838; stroke-width: 1.0;\"/></a><!--MD5=[198716bf12f04006f5c20d61bde6d80d]\n",
       "link E10 to E6--><a href=\"psysml:4172c94c-9fb8-4464-b137-e530fc31134b\" target=\"_top\" title=\"psysml:4172c94c-9fb8-4464-b137-e530fc31134b\" xlink:actuate=\"onRequest\" xlink:href=\"psysml:4172c94c-9fb8-4464-b137-e530fc31134b\" xlink:show=\"new\" xlink:title=\"psysml:4172c94c-9fb8-4464-b137-e530fc31134b\" xlink:type=\"simple\"><path d=\"M300.95,127.4 C292.58,136.18 281.77,145.6 270,151 C239.51,164.99 144.58,145.17 120,168 C115.9013,171.8063 112.5234,176.1975 109.7512,180.9721 C109.4047,181.569 109.0676,182.1718 108.7398,182.7802 C108.5759,183.0844 108.4143,183.39 108.2549,183.697 \" fill=\"none\" id=\"E10-&gt;E6\" style=\"stroke: #383838; stroke-width: 1.0;\"/><polygon fill=\"#FFFFFF\" points=\"108.2549,183.697,110.795,163.6085,123.2209,170.058,108.2549,183.697\" style=\"stroke: #383838; stroke-width: 1.0;\"/><ellipse cx=\"115.196\" cy=\"159.4707\" fill=\"#383838\" rx=\"2\" ry=\"2\" style=\"stroke: #383838; stroke-width: 1.0;\"/><ellipse cx=\"124.0716\" cy=\"164.0776\" fill=\"#383838\" rx=\"2\" ry=\"2\" style=\"stroke: #383838; stroke-width: 1.0;\"/></a><!--MD5=[e65a44ddd92eae9b9cedf910966b92d5]\n",
       "@startuml\r\n",
       "skinparam ranksep 10\r\n",
       "skinparam rectangle {\r\n",
       " backgroundColor<<block>> LightGreen\r\n",
       "}\r\n",
       "top to bottom direction\r\n",
       "skinparam monochrome true\r\n",
       "skinparam classbackgroundcolor white\r\n",
       "skinparam shadowing false\r\n",
       "skinparam wrapWidth 300\r\n",
       "hide circle\r\n",
       "\r\n",
       "package \"AnalysisTest\" as E1  [[psysml:e1dfe890-ec15-4931-b288-05d8c66f0e23 ]]  {\r\n",
       "rec def \"V\" as E2  <<(T,blue) part  def>> [[psysml:e8de7c06-a552-45cc-9ef9-bdca622a4dc8 ]] {\r\n",
       "}\r\n",
       "rec usage \"vv: V\" as E3  [[psysml:e405eddc-d04c-43ee-94c7-f68d6bd4037b ]] {\r\n",
       "}\r\n",
       "comp def \"AnalysisObjective\" as E4  <<(T,blue) requirement  def>> [[psysml:61935c6a-e9b2-427b-8e93-9f8ea2764a4f ]] {\r\n",
       "...\r\n",
       "- -\r\n",
       "}\r\n",
       "rec def \"AnalysisCase\" as E5 << analysis def>> [[psysml:5016a817-b8b6-43b2-a1c9-71130e2545c5 ]] {\r\n",
       "}\r\n",
       "rec def \"AnalysisPlan\" as E6 << analysis def>> [[psysml:0d28215e-abd0-4258-9ce4-d7487f47f154 ]] {\r\n",
       "comp usage \" <U+00AB>objective<U+00BB> \" as E7 [[psysml:317ace64-a3b7-4095-b75a-9c551641bbd2 ]] {\r\n",
       "...\r\n",
       "- -\r\n",
       "}\r\n",
       "rec usage \"analysisCase\" as E8 << analysis>> [[psysml:0f757ff2-27a2-40d5-a25f-af43358ff77a ]] {\r\n",
       "}\r\n",
       "}\r\n",
       "rec usage \"analysisContext\" as E9  [[psysml:b24749b9-9e77-4740-bd21-7fc3830bb957 ]] {\r\n",
       "rec usage \"analysisPlan\" as E10 << analysis>> [[psysml:9d8d7d87-8dd4-470f-9d18-cffbc3763f0c ]] {\r\n",
       "}\r\n",
       "}\r\n",
       "}\r\n",
       "E5 ..> E2 [[psysml:4ce798b4-e7f7-45ac-94f6-a9dc23ec95c2 ]] : <<subject>>\r\n",
       "E6 ..> E2 [[psysml:38ee38e5-fe2f-49e8-a238-8ef961814591 ]] : <<subject>>\r\n",
       "E8 - -:|> E5 [[psysml:cf5e8ef0-758f-412b-8419-a299a9750eac ]] \r\n",
       "E10 - -:|> E6 [[psysml:4172c94c-9fb8-4464-b137-e530fc31134b ]] \r\n",
       "@enduml\r\n",
       "\n",
       "PlantUML version 1.2020.13(Sat Jun 13 12:26:38 UTC 2020)\n",
       "(EPL source distribution)\n",
       "Java Runtime: OpenJDK Runtime Environment\n",
       "JVM: OpenJDK 64-Bit Server VM\n",
       "Default Encoding: UTF-8\n",
       "Language: en\n",
       "Country: null\n",
       "--></g></svg>"
      ]
     },
     "execution_count": 47,
     "metadata": {},
     "output_type": "execute_result"
    }
   ],
   "source": [
    "%viz --style=\"TB\" --view=\"Interconnection\" \"AnalysisTest\""
   ]
  },
  {
   "cell_type": "code",
   "execution_count": 48,
   "id": "4493fba1",
   "metadata": {
    "execution": {
     "iopub.execute_input": "2022-02-05T16:52:04.773389Z",
     "iopub.status.busy": "2022-02-05T16:52:04.772984Z",
     "iopub.status.idle": "2022-02-05T16:52:04.814679Z",
     "shell.execute_reply": "2022-02-05T16:52:04.814317Z"
    }
   },
   "outputs": [
    {
     "data": {
      "image/svg+xml": [
       "<?xml version=\"1.0\" encoding=\"UTF-8\" standalone=\"no\"?><svg xmlns=\"http://www.w3.org/2000/svg\" xmlns:xlink=\"http://www.w3.org/1999/xlink\" contentScriptType=\"application/ecmascript\" contentStyleType=\"text/css\" height=\"233px\" preserveAspectRatio=\"none\" style=\"width:649px;height:233px;\" version=\"1.1\" viewBox=\"0 0 649 233\" width=\"649px\" zoomAndPan=\"magnify\"><defs/><g><!--MD5=[fbc87193dbaf4d95561dea2c320d4a47]\n",
       "cluster E1--><a href=\"psysml:5016a817-b8b6-43b2-a1c9-71130e2545c5\" target=\"_top\" title=\"psysml:5016a817-b8b6-43b2-a1c9-71130e2545c5\" xlink:actuate=\"onRequest\" xlink:href=\"psysml:5016a817-b8b6-43b2-a1c9-71130e2545c5\" xlink:show=\"new\" xlink:title=\"psysml:5016a817-b8b6-43b2-a1c9-71130e2545c5\" xlink:type=\"simple\"><rect fill=\"#FFFFFF\" height=\"122\" id=\"E1\" style=\"stroke: #383838; stroke-width: 1.5;\" width=\"146\" x=\"7\" y=\"42.0986\"/><rect fill=\"#F8F8F8\" height=\"37.9375\" style=\"stroke: #383838; stroke-width: 1.5;\" width=\"146\" x=\"7\" y=\"42.0986\"/><text fill=\"#000000\" font-family=\"sans-serif\" font-size=\"12\" font-style=\"italic\" lengthAdjust=\"spacingAndGlyphs\" textLength=\"88\" x=\"36\" y=\"58.2373\">«analysis def»</text><text fill=\"#000000\" font-family=\"sans-serif\" font-size=\"12\" lengthAdjust=\"spacingAndGlyphs\" textLength=\"81\" x=\"39.5\" y=\"72.2061\">AnalysisCase</text></a><!--MD5=[f6df4d0ebaf0b5dfb2ced0ae5af7c670]\n",
       "cluster E4--><a href=\"psysml:0d28215e-abd0-4258-9ce4-d7487f47f154\" target=\"_top\" title=\"psysml:0d28215e-abd0-4258-9ce4-d7487f47f154\" xlink:actuate=\"onRequest\" xlink:href=\"psysml:0d28215e-abd0-4258-9ce4-d7487f47f154\" xlink:show=\"new\" xlink:title=\"psysml:0d28215e-abd0-4258-9ce4-d7487f47f154\" xlink:type=\"simple\"><rect fill=\"#FFFFFF\" height=\"180\" id=\"E4\" style=\"stroke: #383838; stroke-width: 1.5;\" width=\"262\" x=\"216\" y=\"42.0986\"/><rect fill=\"#F8F8F8\" height=\"37.9375\" style=\"stroke: #383838; stroke-width: 1.5;\" width=\"262\" x=\"216\" y=\"42.0986\"/><text fill=\"#000000\" font-family=\"sans-serif\" font-size=\"12\" font-style=\"italic\" lengthAdjust=\"spacingAndGlyphs\" textLength=\"88\" x=\"303\" y=\"58.2373\">«analysis def»</text><text fill=\"#000000\" font-family=\"sans-serif\" font-size=\"12\" lengthAdjust=\"spacingAndGlyphs\" textLength=\"77\" x=\"308.5\" y=\"72.2061\">AnalysisPlan</text></a><!--MD5=[14e3b0961a2654348d326746436168a1]\n",
       "cluster E6--><a href=\"psysml:0f757ff2-27a2-40d5-a25f-af43358ff77a\" target=\"_top\" title=\"psysml:0f757ff2-27a2-40d5-a25f-af43358ff77a\" xlink:actuate=\"onRequest\" xlink:href=\"psysml:0f757ff2-27a2-40d5-a25f-af43358ff77a\" xlink:show=\"new\" xlink:title=\"psysml:0f757ff2-27a2-40d5-a25f-af43358ff77a\" xlink:type=\"simple\"><rect fill=\"#FFFFFF\" height=\"110.5\" id=\"E6\" rx=\"10\" ry=\"10\" style=\"stroke: #383838; stroke-width: 1.5;\" width=\"138\" x=\"299\" y=\"81.5986\"/><rect fill=\"#F8F8F8\" height=\"37.9375\" rx=\"10\" ry=\"10\" style=\"stroke: #F8F8F8; stroke-width: 1.5;\" width=\"138\" x=\"299\" y=\"81.5986\"/><rect fill=\"#F8F8F8\" height=\"10\" style=\"stroke: #F8F8F8; stroke-width: 1.5;\" width=\"138\" x=\"299\" y=\"109.5361\"/><rect fill=\"none\" height=\"110.5\" id=\"E6\" rx=\"10\" ry=\"10\" style=\"stroke: #383838; stroke-width: 1.5;\" width=\"138\" x=\"299\" y=\"81.5986\"/><text fill=\"#000000\" font-family=\"sans-serif\" font-size=\"12\" font-style=\"italic\" lengthAdjust=\"spacingAndGlyphs\" textLength=\"64\" x=\"336\" y=\"97.7373\">«analysis»</text><text fill=\"#000000\" font-family=\"sans-serif\" font-size=\"12\" lengthAdjust=\"spacingAndGlyphs\" textLength=\"81\" x=\"327.5\" y=\"111.7061\">analysisCase</text><line style=\"stroke: #383838; stroke-width: 1.0;\" x1=\"299\" x2=\"437\" y1=\"119.5361\" y2=\"119.5361\"/></a><!--MD5=[a84b4591f868c1fa4a211716a82f2f0d]\n",
       "cluster E10--><a href=\"psysml:9d8d7d87-8dd4-470f-9d18-cffbc3763f0c\" target=\"_top\" title=\"psysml:9d8d7d87-8dd4-470f-9d18-cffbc3763f0c\" xlink:actuate=\"onRequest\" xlink:href=\"psysml:9d8d7d87-8dd4-470f-9d18-cffbc3763f0c\" xlink:show=\"new\" xlink:title=\"psysml:9d8d7d87-8dd4-470f-9d18-cffbc3763f0c\" xlink:type=\"simple\"><rect fill=\"#FFFFFF\" height=\"122\" id=\"E10\" rx=\"10\" ry=\"10\" style=\"stroke: #383838; stroke-width: 1.5;\" width=\"130\" x=\"507\" y=\"42.0986\"/><rect fill=\"#F8F8F8\" height=\"37.9375\" rx=\"10\" ry=\"10\" style=\"stroke: #F8F8F8; stroke-width: 1.5;\" width=\"130\" x=\"507\" y=\"42.0986\"/><rect fill=\"#F8F8F8\" height=\"10\" style=\"stroke: #F8F8F8; stroke-width: 1.5;\" width=\"130\" x=\"507\" y=\"70.0361\"/><rect fill=\"none\" height=\"122\" id=\"E10\" rx=\"10\" ry=\"10\" style=\"stroke: #383838; stroke-width: 1.5;\" width=\"130\" x=\"507\" y=\"42.0986\"/><text fill=\"#000000\" font-family=\"sans-serif\" font-size=\"12\" font-style=\"italic\" lengthAdjust=\"spacingAndGlyphs\" textLength=\"64\" x=\"540\" y=\"58.2373\">«analysis»</text><text fill=\"#000000\" font-family=\"sans-serif\" font-size=\"12\" lengthAdjust=\"spacingAndGlyphs\" textLength=\"77\" x=\"533.5\" y=\"72.2061\">analysisPlan</text><line style=\"stroke: #383838; stroke-width: 1.0;\" x1=\"507\" x2=\"637\" y1=\"80.0361\" y2=\"80.0361\"/></a><text fill=\"#000000\" font-family=\"sans-serif\" font-size=\"14\" lengthAdjust=\"spacingAndGlyphs\" textLength=\"7\" x=\"76.5\" y=\"20.7969\">v</text><rect fill=\"#383838\" height=\"12\" style=\"stroke: #F8F8F8; stroke-width: 1.5;\" width=\"12\" x=\"74\" y=\"36.0986\"/><text fill=\"#000000\" font-family=\"sans-serif\" font-size=\"14\" lengthAdjust=\"spacingAndGlyphs\" textLength=\"39\" x=\"60.5\" y=\"183.0938\">result</text><rect fill=\"#383838\" height=\"12\" style=\"stroke: #F8F8F8; stroke-width: 1.5;\" width=\"12\" x=\"74\" y=\"158.0986\"/><text fill=\"#000000\" font-family=\"sans-serif\" font-size=\"14\" lengthAdjust=\"spacingAndGlyphs\" textLength=\"7\" x=\"230.5\" y=\"20.7969\">v</text><rect fill=\"#383838\" height=\"12\" style=\"stroke: #F8F8F8; stroke-width: 1.5;\" width=\"12\" x=\"228\" y=\"36.0986\"/><text fill=\"#000000\" font-family=\"sans-serif\" font-size=\"14\" lengthAdjust=\"spacingAndGlyphs\" textLength=\"39\" x=\"458.5\" y=\"183.0938\">result</text><rect fill=\"#383838\" height=\"12\" style=\"stroke: #F8F8F8; stroke-width: 1.5;\" width=\"12\" x=\"472\" y=\"158.0986\"/><text fill=\"#000000\" font-family=\"sans-serif\" font-size=\"14\" lengthAdjust=\"spacingAndGlyphs\" textLength=\"37\" x=\"349.5\" y=\"211.0938\">mass</text><rect fill=\"#383838\" height=\"12\" style=\"stroke: #F8F8F8; stroke-width: 1.5;\" width=\"12\" x=\"362\" y=\"186.0986\"/><text fill=\"#000000\" font-family=\"sans-serif\" font-size=\"14\" lengthAdjust=\"spacingAndGlyphs\" textLength=\"7\" x=\"364.5\" y=\"60.2969\">v</text><rect fill=\"#383838\" height=\"12\" style=\"stroke: #F8F8F8; stroke-width: 1.5;\" width=\"12\" x=\"362\" y=\"75.5986\"/><text fill=\"#000000\" font-family=\"sans-serif\" font-size=\"14\" lengthAdjust=\"spacingAndGlyphs\" textLength=\"7\" x=\"567.5\" y=\"20.7969\">v</text><rect fill=\"#383838\" height=\"12\" style=\"stroke: #F8F8F8; stroke-width: 1.5;\" width=\"12\" x=\"565\" y=\"36.0986\"/><text fill=\"#000000\" font-family=\"sans-serif\" font-size=\"14\" lengthAdjust=\"spacingAndGlyphs\" textLength=\"39\" x=\"505.5\" y=\"183.0938\">result</text><rect fill=\"#383838\" height=\"12\" style=\"stroke: #F8F8F8; stroke-width: 1.5;\" width=\"12\" x=\"519\" y=\"158.0986\"/><!--MD5=[467533457f507026045dae0fa23e6275]\n",
       "@startuml\r\n",
       "skinparam ranksep 8\r\n",
       "top to bottom direction\r\n",
       "skinparam monochrome true\r\n",
       "skinparam classbackgroundcolor white\r\n",
       "skinparam shadowing false\r\n",
       "skinparam wrapWidth 300\r\n",
       "hide circle\r\n",
       "\r\n",
       "rec def \"AnalysisCase\" as E1 << analysis def>> [[psysml:5016a817-b8b6-43b2-a1c9-71130e2545c5 ]] {\r\n",
       "portin \"v\" as E2  [[psysml:164c7fef-cc79-47d0-81ef-11274fabe5a7 ]] \r\n",
       "portout \"result\" as E3  [[psysml:6e4742d8-6cff-49ed-9a2e-48d7290da8ea ]] \r\n",
       "}\r\n",
       "\r\n",
       "rec def \"AnalysisPlan\" as E4 << analysis def>> [[psysml:0d28215e-abd0-4258-9ce4-d7487f47f154 ]] {\r\n",
       "portin \"v\" as E5  [[psysml:7943f1e5-2d26-4cd3-a00e-7357be36b5d6 ]] \r\n",
       "rec usage \"analysisCase\" as E6 << analysis>> [[psysml:0f757ff2-27a2-40d5-a25f-af43358ff77a ]] {\r\n",
       "portout \"mass\" as E7  [[psysml:ec31ed6f-aea4-4ab3-8935-1d2e29a82c61 ]] \r\n",
       "portin \"v\" as E8  [[psysml:1b55d686-bd3b-4923-8e60-8b313cbf92b9 ]] \r\n",
       "}\r\n",
       "\r\n",
       "portout \"result\" as E9  [[psysml:301e1961-b4b0-4f3f-9bd8-8820561614e6 ]] \r\n",
       "}\r\n",
       "\r\n",
       "rec usage \"analysisPlan\" as E10 << analysis>> [[psysml:9d8d7d87-8dd4-470f-9d18-cffbc3763f0c ]] {\r\n",
       "portin \"v\" as E11  [[psysml:fb21399e-f4a1-4dd2-99a6-b4e6906605c8 ]] \r\n",
       "portout \"result\" as E12  [[psysml:db81a387-1cd1-4bdf-be56-65aa7adff2a2 ]] \r\n",
       "}\r\n",
       "\r\n",
       "@enduml\r\n",
       "\n",
       "PlantUML version 1.2020.13(Sat Jun 13 12:26:38 UTC 2020)\n",
       "(EPL source distribution)\n",
       "Java Runtime: OpenJDK Runtime Environment\n",
       "JVM: OpenJDK 64-Bit Server VM\n",
       "Default Encoding: UTF-8\n",
       "Language: en\n",
       "Country: null\n",
       "--></g></svg>"
      ]
     },
     "execution_count": 48,
     "metadata": {},
     "output_type": "execute_result"
    }
   ],
   "source": [
    "%viz --style=\"TB\" --view=\"Action\" \"AnalysisTest\""
   ]
  },
  {
   "cell_type": "code",
   "execution_count": 49,
   "id": "bd36017a",
   "metadata": {
    "execution": {
     "iopub.execute_input": "2022-02-05T16:52:04.864330Z",
     "iopub.status.busy": "2022-02-05T16:52:04.863924Z",
     "iopub.status.idle": "2022-02-05T16:52:04.869456Z",
     "shell.execute_reply": "2022-02-05T16:52:04.869768Z"
    }
   },
   "outputs": [
    {
     "data": {
      "image/svg+xml": [
       "<?xml version=\"1.0\" encoding=\"UTF-8\" standalone=\"no\"?><svg xmlns=\"http://www.w3.org/2000/svg\" xmlns:xlink=\"http://www.w3.org/1999/xlink\" contentScriptType=\"application/ecmascript\" contentStyleType=\"text/css\" height=\"12px\" preserveAspectRatio=\"none\" style=\"width:12px;height:12px;\" version=\"1.1\" viewBox=\"0 0 12 12\" width=\"12px\" zoomAndPan=\"magnify\"><defs/><g><!--MD5=[e1ab0c84c44d2fef8bf5f140f2689906]\n",
       "@startuml\r\n",
       "skinparam roundcorner 20\r\n",
       "skinparam BoxPadding 20\r\n",
       "skinparam SequenceBoxBackgroundColor #white\r\n",
       "skinparam style strictuml\r\n",
       "skinparam maxMessageSize 100\r\n",
       "top to bottom direction\r\n",
       "skinparam monochrome true\r\n",
       "skinparam classbackgroundcolor white\r\n",
       "skinparam shadowing false\r\n",
       "skinparam wrapWidth 300\r\n",
       "hide circle\r\n",
       "\r\n",
       "@enduml\r\n",
       "\n",
       "PlantUML version 1.2020.13(Sat Jun 13 12:26:38 UTC 2020)\n",
       "(EPL source distribution)\n",
       "Java Runtime: OpenJDK Runtime Environment\n",
       "JVM: OpenJDK 64-Bit Server VM\n",
       "Default Encoding: UTF-8\n",
       "Language: en\n",
       "Country: null\n",
       "--></g></svg>"
      ]
     },
     "execution_count": 49,
     "metadata": {},
     "output_type": "execute_result"
    }
   ],
   "source": [
    "%viz --style=\"TB\" --view=\"Sequence\" \"AnalysisTest\""
   ]
  },
  {
   "cell_type": "code",
   "execution_count": 50,
   "id": "455efe03",
   "metadata": {
    "execution": {
     "iopub.execute_input": "2022-02-05T16:52:04.920071Z",
     "iopub.status.busy": "2022-02-05T16:52:04.919672Z",
     "iopub.status.idle": "2022-02-05T16:52:04.981701Z",
     "shell.execute_reply": "2022-02-05T16:52:04.981352Z"
    }
   },
   "outputs": [
    {
     "data": {
      "image/svg+xml": [
       "<?xml version=\"1.0\" encoding=\"UTF-8\" standalone=\"no\"?><svg xmlns=\"http://www.w3.org/2000/svg\" xmlns:xlink=\"http://www.w3.org/1999/xlink\" contentScriptType=\"application/ecmascript\" contentStyleType=\"text/css\" height=\"685px\" preserveAspectRatio=\"none\" style=\"width:380px;height:685px;\" version=\"1.1\" viewBox=\"0 0 380 685\" width=\"380px\" zoomAndPan=\"magnify\"><defs/><g><!--MD5=[fbc87193dbaf4d95561dea2c320d4a47]\n",
       "cluster E1--><a href=\"psysml:e1dfe890-ec15-4931-b288-05d8c66f0e23\" target=\"_top\" title=\"psysml:e1dfe890-ec15-4931-b288-05d8c66f0e23\" xlink:actuate=\"onRequest\" xlink:href=\"psysml:e1dfe890-ec15-4931-b288-05d8c66f0e23\" xlink:show=\"new\" xlink:title=\"psysml:e1dfe890-ec15-4931-b288-05d8c66f0e23\" xlink:type=\"simple\"><polygon fill=\"#FFFFFF\" points=\"16,6,108,6,115,28.2969,358,28.2969,358,673,16,673,16,6\" style=\"stroke: #000000; stroke-width: 1.5;\"/><line style=\"stroke: #000000; stroke-width: 1.5;\" x1=\"16\" x2=\"115\" y1=\"28.2969\" y2=\"28.2969\"/><text fill=\"#000000\" font-family=\"sans-serif\" font-size=\"14\" font-weight=\"bold\" lengthAdjust=\"spacingAndGlyphs\" textLength=\"86\" x=\"20\" y=\"20.9951\">AnalysisTest</text></a><!--MD5=[14e3b0961a2654348d326746436168a1]\n",
       "cluster E6--><a href=\"psysml:0d28215e-abd0-4258-9ce4-d7487f47f154\" target=\"_top\" title=\"psysml:0d28215e-abd0-4258-9ce4-d7487f47f154\" xlink:actuate=\"onRequest\" xlink:href=\"psysml:0d28215e-abd0-4258-9ce4-d7487f47f154\" xlink:show=\"new\" xlink:title=\"psysml:0d28215e-abd0-4258-9ce4-d7487f47f154\" xlink:type=\"simple\"><rect fill=\"#FFFFFF\" height=\"136\" id=\"E6\" style=\"stroke: #383838; stroke-width: 1.5;\" width=\"278\" x=\"48\" y=\"267\"/><rect fill=\"#F8F8F8\" height=\"37.9375\" style=\"stroke: #383838; stroke-width: 1.5;\" width=\"278\" x=\"48\" y=\"267\"/><text fill=\"#000000\" font-family=\"sans-serif\" font-size=\"12\" font-style=\"italic\" lengthAdjust=\"spacingAndGlyphs\" textLength=\"88\" x=\"143\" y=\"283.1387\">«analysis def»</text><text fill=\"#000000\" font-family=\"sans-serif\" font-size=\"12\" lengthAdjust=\"spacingAndGlyphs\" textLength=\"77\" x=\"148.5\" y=\"297.1074\">AnalysisPlan</text></a><!--MD5=[b4997ac47864f28c2f74865a473b2911]\n",
       "class E2--><a href=\"psysml:e8de7c06-a552-45cc-9ef9-bdca622a4dc8\" target=\"_top\" title=\"psysml:e8de7c06-a552-45cc-9ef9-bdca622a4dc8\" xlink:actuate=\"onRequest\" xlink:href=\"psysml:e8de7c06-a552-45cc-9ef9-bdca622a4dc8\" xlink:show=\"new\" xlink:title=\"psysml:e8de7c06-a552-45cc-9ef9-bdca622a4dc8\" xlink:type=\"simple\"><rect fill=\"#FFFFFF\" height=\"75.5469\" id=\"E2\" style=\"stroke: #383838; stroke-width: 1.5;\" width=\"70\" x=\"179\" y=\"581\"/><text fill=\"#000000\" font-family=\"sans-serif\" font-size=\"12\" font-style=\"italic\" lengthAdjust=\"spacingAndGlyphs\" textLength=\"68\" x=\"180\" y=\"597.1387\">«part  def»</text><text fill=\"#000000\" font-family=\"sans-serif\" font-size=\"12\" lengthAdjust=\"spacingAndGlyphs\" textLength=\"8\" x=\"210\" y=\"611.1074\">V</text><line style=\"stroke: #383838; stroke-width: 1.5;\" x1=\"180\" x2=\"248\" y1=\"618.9375\" y2=\"618.9375\"/><text fill=\"#000000\" font-family=\"sans-serif\" font-size=\"11\" lengthAdjust=\"spacingAndGlyphs\" textLength=\"11\" x=\"185\" y=\"649.9526\">m</text><line style=\"stroke: #383838; stroke-width: 1.0;\" x1=\"180\" x2=\"183\" y1=\"633.3398\" y2=\"633.3398\"/><text fill=\"#000000\" font-family=\"sans-serif\" font-size=\"11\" lengthAdjust=\"spacingAndGlyphs\" textLength=\"62\" x=\"183\" y=\"636.6479\">references</text><line style=\"stroke: #383838; stroke-width: 1.0;\" x1=\"245\" x2=\"248\" y1=\"633.3398\" y2=\"633.3398\"/></a><!--MD5=[09b614a08d8cba4a07c9adeb5e0fee81]\n",
       "class E3--><a href=\"psysml:e405eddc-d04c-43ee-94c7-f68d6bd4037b\" target=\"_top\" title=\"psysml:e405eddc-d04c-43ee-94c7-f68d6bd4037b\" xlink:actuate=\"onRequest\" xlink:href=\"psysml:e405eddc-d04c-43ee-94c7-f68d6bd4037b\" xlink:show=\"new\" xlink:title=\"psysml:e405eddc-d04c-43ee-94c7-f68d6bd4037b\" xlink:type=\"simple\"><rect fill=\"#FFFFFF\" height=\"45.9375\" id=\"E3\" rx=\"10\" ry=\"10\" style=\"stroke: #383838; stroke-width: 1.5;\" width=\"42\" x=\"297\" y=\"458\"/><text fill=\"#000000\" font-family=\"sans-serif\" font-size=\"12\" font-style=\"italic\" lengthAdjust=\"spacingAndGlyphs\" textLength=\"40\" x=\"298\" y=\"474.1387\">«part»</text><text fill=\"#000000\" font-family=\"sans-serif\" font-size=\"12\" lengthAdjust=\"spacingAndGlyphs\" textLength=\"28\" x=\"302\" y=\"488.1074\">vv: V</text><line style=\"stroke: #383838; stroke-width: 1.5;\" x1=\"298\" x2=\"338\" y1=\"495.9375\" y2=\"495.9375\"/></a><!--MD5=[ebbe1d658d1005bcc118a6aa81145e00]\n",
       "class E4--><a href=\"psysml:61935c6a-e9b2-427b-8e93-9f8ea2764a4f\" target=\"_top\" title=\"psysml:61935c6a-e9b2-427b-8e93-9f8ea2764a4f\" xlink:actuate=\"onRequest\" xlink:href=\"psysml:61935c6a-e9b2-427b-8e93-9f8ea2764a4f\" xlink:show=\"new\" xlink:title=\"psysml:61935c6a-e9b2-427b-8e93-9f8ea2764a4f\" xlink:type=\"simple\"><rect fill=\"#FFFFFF\" height=\"66.7422\" id=\"E4\" style=\"stroke: #383838; stroke-width: 1.5;\" width=\"121\" x=\"197.5\" y=\"41\"/><text fill=\"#000000\" font-family=\"sans-serif\" font-size=\"12\" font-style=\"italic\" lengthAdjust=\"spacingAndGlyphs\" textLength=\"119\" x=\"198.5\" y=\"57.1387\">«requirement  def»</text><text fill=\"#000000\" font-family=\"sans-serif\" font-size=\"12\" lengthAdjust=\"spacingAndGlyphs\" textLength=\"107\" x=\"204.5\" y=\"71.1074\">AnalysisObjective</text><line style=\"stroke: #383838; stroke-width: 1.5;\" x1=\"198.5\" x2=\"317.5\" y1=\"78.9375\" y2=\"78.9375\"/><text fill=\"#000000\" font-family=\"sans-serif\" font-size=\"11\" lengthAdjust=\"spacingAndGlyphs\" textLength=\"12\" x=\"203.5\" y=\"93.1479\">...</text><line style=\"stroke: #383838; stroke-width: 1.0;\" x1=\"198.5\" x2=\"317.5\" y1=\"99.7422\" y2=\"99.7422\"/></a><!--MD5=[fd4143e9d270a159db93a4ea2a975926]\n",
       "class E9--><a href=\"psysml:b24749b9-9e77-4740-bd21-7fc3830bb957\" target=\"_top\" title=\"psysml:b24749b9-9e77-4740-bd21-7fc3830bb957\" xlink:actuate=\"onRequest\" xlink:href=\"psysml:b24749b9-9e77-4740-bd21-7fc3830bb957\" xlink:show=\"new\" xlink:title=\"psysml:b24749b9-9e77-4740-bd21-7fc3830bb957\" xlink:type=\"simple\"><rect fill=\"#FFFFFF\" height=\"45.9375\" id=\"E9\" rx=\"10\" ry=\"10\" style=\"stroke: #383838; stroke-width: 1.5;\" width=\"108\" x=\"32\" y=\"51.5\"/><text fill=\"#000000\" font-family=\"sans-serif\" font-size=\"12\" font-style=\"italic\" lengthAdjust=\"spacingAndGlyphs\" textLength=\"40\" x=\"66\" y=\"67.6387\">«part»</text><text fill=\"#000000\" font-family=\"sans-serif\" font-size=\"12\" lengthAdjust=\"spacingAndGlyphs\" textLength=\"98\" x=\"35\" y=\"81.6074\">analysisContext</text><line style=\"stroke: #383838; stroke-width: 1.5;\" x1=\"33\" x2=\"139\" y1=\"89.4375\" y2=\"89.4375\"/></a><g id=\"E1.E5\"><a href=\"psysml:5016a817-b8b6-43b2-a1c9-71130e2545c5\" target=\"_top\" title=\"psysml:5016a817-b8b6-43b2-a1c9-71130e2545c5\" xlink:actuate=\"onRequest\" xlink:href=\"psysml:5016a817-b8b6-43b2-a1c9-71130e2545c5\" xlink:show=\"new\" xlink:title=\"psysml:5016a817-b8b6-43b2-a1c9-71130e2545c5\" xlink:type=\"simple\"><rect fill=\"#FFFFFF\" height=\"42.9375\" id=\"E5\" style=\"stroke: #383838; stroke-width: 1.5;\" width=\"95\" x=\"166.5\" y=\"459.5\"/><rect fill=\"#F8F8F8\" height=\"37.9375\" style=\"stroke: #383838; stroke-width: 1.5;\" width=\"95\" x=\"166.5\" y=\"459.5\"/><text fill=\"#000000\" font-family=\"sans-serif\" font-size=\"12\" font-style=\"italic\" lengthAdjust=\"spacingAndGlyphs\" textLength=\"88\" x=\"170\" y=\"475.6387\">«analysis def»</text><text fill=\"#000000\" font-family=\"sans-serif\" font-size=\"12\" lengthAdjust=\"spacingAndGlyphs\" textLength=\"81\" x=\"173.5\" y=\"489.6074\">AnalysisCase</text></a></g><!--MD5=[2156ba9850f5573cc1fc38a6a4b2f02b]\n",
       "class E7--><a href=\"psysml:317ace64-a3b7-4095-b75a-9c551641bbd2\" target=\"_top\" title=\"psysml:317ace64-a3b7-4095-b75a-9c551641bbd2\" xlink:actuate=\"onRequest\" xlink:href=\"psysml:317ace64-a3b7-4095-b75a-9c551641bbd2\" xlink:show=\"new\" xlink:title=\"psysml:317ace64-a3b7-4095-b75a-9c551641bbd2\" xlink:type=\"simple\"><rect fill=\"#FFFFFF\" height=\"52.7734\" id=\"E7\" rx=\"10\" ry=\"10\" style=\"stroke: #383838; stroke-width: 1.5;\" width=\"84\" x=\"218\" y=\"326\"/><text fill=\"#000000\" font-family=\"sans-serif\" font-size=\"12\" lengthAdjust=\"spacingAndGlyphs\" textLength=\"70\" x=\"225\" y=\"342.1387\">«objective»</text><line style=\"stroke: #383838; stroke-width: 1.5;\" x1=\"219\" x2=\"301\" y1=\"349.9688\" y2=\"349.9688\"/><text fill=\"#000000\" font-family=\"sans-serif\" font-size=\"11\" lengthAdjust=\"spacingAndGlyphs\" textLength=\"12\" x=\"224\" y=\"364.1792\">...</text><line style=\"stroke: #383838; stroke-width: 1.0;\" x1=\"219\" x2=\"301\" y1=\"370.7734\" y2=\"370.7734\"/></a><g id=\"E1.E6.E8\"><a href=\"psysml:0f757ff2-27a2-40d5-a25f-af43358ff77a\" target=\"_top\" title=\"psysml:0f757ff2-27a2-40d5-a25f-af43358ff77a\" xlink:actuate=\"onRequest\" xlink:href=\"psysml:0f757ff2-27a2-40d5-a25f-af43358ff77a\" xlink:show=\"new\" xlink:title=\"psysml:0f757ff2-27a2-40d5-a25f-af43358ff77a\" xlink:type=\"simple\"><rect fill=\"#FFFFFF\" height=\"42.9375\" id=\"E8\" rx=\"10\" ry=\"10\" style=\"stroke: #383838; stroke-width: 1.5;\" width=\"92\" x=\"91\" y=\"331\"/><rect fill=\"#F8F8F8\" height=\"37.9375\" rx=\"10\" ry=\"10\" style=\"stroke: #F8F8F8; stroke-width: 1.5;\" width=\"92\" x=\"91\" y=\"331\"/><rect fill=\"#F8F8F8\" height=\"10\" style=\"stroke: #F8F8F8; stroke-width: 1.5;\" width=\"92\" x=\"91\" y=\"358.9375\"/><rect fill=\"none\" height=\"42.9375\" id=\"E8\" rx=\"10\" ry=\"10\" style=\"stroke: #383838; stroke-width: 1.5;\" width=\"92\" x=\"91\" y=\"331\"/><text fill=\"#000000\" font-family=\"sans-serif\" font-size=\"12\" font-style=\"italic\" lengthAdjust=\"spacingAndGlyphs\" textLength=\"64\" x=\"105\" y=\"347.1387\">«analysis»</text><text fill=\"#000000\" font-family=\"sans-serif\" font-size=\"12\" lengthAdjust=\"spacingAndGlyphs\" textLength=\"81\" x=\"96.5\" y=\"361.1074\">analysisCase</text></a></g><g id=\"E1.E10\"><a href=\"psysml:9d8d7d87-8dd4-470f-9d18-cffbc3763f0c\" target=\"_top\" title=\"psysml:9d8d7d87-8dd4-470f-9d18-cffbc3763f0c\" xlink:actuate=\"onRequest\" xlink:href=\"psysml:9d8d7d87-8dd4-470f-9d18-cffbc3763f0c\" xlink:show=\"new\" xlink:title=\"psysml:9d8d7d87-8dd4-470f-9d18-cffbc3763f0c\" xlink:type=\"simple\"><rect fill=\"#FFFFFF\" height=\"42.9375\" id=\"E10\" rx=\"10\" ry=\"10\" style=\"stroke: #383838; stroke-width: 1.5;\" width=\"88\" x=\"37\" y=\"169\"/><rect fill=\"#F8F8F8\" height=\"37.9375\" rx=\"10\" ry=\"10\" style=\"stroke: #F8F8F8; stroke-width: 1.5;\" width=\"88\" x=\"37\" y=\"169\"/><rect fill=\"#F8F8F8\" height=\"10\" style=\"stroke: #F8F8F8; stroke-width: 1.5;\" width=\"88\" x=\"37\" y=\"196.9375\"/><rect fill=\"none\" height=\"42.9375\" id=\"E10\" rx=\"10\" ry=\"10\" style=\"stroke: #383838; stroke-width: 1.5;\" width=\"88\" x=\"37\" y=\"169\"/><text fill=\"#000000\" font-family=\"sans-serif\" font-size=\"12\" font-style=\"italic\" lengthAdjust=\"spacingAndGlyphs\" textLength=\"64\" x=\"49\" y=\"185.1387\">«analysis»</text><text fill=\"#000000\" font-family=\"sans-serif\" font-size=\"12\" lengthAdjust=\"spacingAndGlyphs\" textLength=\"77\" x=\"42.5\" y=\"199.1074\">analysisPlan</text></a></g><!--MD5=[05d275557350bfb9b23a4ef7222b4c39]\n",
       "link E3 to E2--><a href=\"psysml:f45a4065-dcd9-4d0e-be10-466e9a1a32d6\" target=\"_top\" title=\"psysml:f45a4065-dcd9-4d0e-be10-466e9a1a32d6\" xlink:actuate=\"onRequest\" xlink:href=\"psysml:f45a4065-dcd9-4d0e-be10-466e9a1a32d6\" xlink:show=\"new\" xlink:title=\"psysml:f45a4065-dcd9-4d0e-be10-466e9a1a32d6\" xlink:type=\"simple\"><path d=\"M310.33,504 C304.8,518.17 296.47,536.57 286,551 C279.62,559.78 271.98,568.34 264.08,576.23 \" fill=\"none\" id=\"E3-&gt;E2\" style=\"stroke: #383838; stroke-width: 1.0;\"/><polygon fill=\"#FFFFFF\" points=\"249.34,590.06,258.406,571.9545,267.9855,582.164,249.34,590.06\" style=\"stroke: #383838; stroke-width: 1.0;\"/><ellipse cx=\"263.9312\" cy=\"569.5128\" fill=\"#383838\" rx=\"2\" ry=\"2\" style=\"stroke: #383838; stroke-width: 1.0;\"/><ellipse cx=\"270.7737\" cy=\"576.8053\" fill=\"#383838\" rx=\"2\" ry=\"2\" style=\"stroke: #383838; stroke-width: 1.0;\"/></a><!--MD5=[15ebcb19ae302d9b601edb458606d402]\n",
       "link E5 to E2--><a href=\"psysml:4ce798b4-e7f7-45ac-94f6-a9dc23ec95c2\" target=\"_top\" title=\"psysml:4ce798b4-e7f7-45ac-94f6-a9dc23ec95c2\" xlink:actuate=\"onRequest\" xlink:href=\"psysml:4ce798b4-e7f7-45ac-94f6-a9dc23ec95c2\" xlink:show=\"new\" xlink:title=\"psysml:4ce798b4-e7f7-45ac-94f6-a9dc23ec95c2\" xlink:type=\"simple\"><path d=\"M214,502.66 C214,522.01 214,551.52 214,575.85 \" fill=\"none\" id=\"E5-&gt;E2\" style=\"stroke: #383838; stroke-width: 1.0; stroke-dasharray: 7.0,7.0;\"/><polygon fill=\"#383838\" points=\"214,580.96,218,571.96,214,575.96,210,571.96,214,580.96\" style=\"stroke: #383838; stroke-width: 1.0;\"/><text fill=\"#000000\" font-family=\"sans-serif\" font-size=\"13\" lengthAdjust=\"spacingAndGlyphs\" textLength=\"62\" x=\"215\" y=\"547.0669\">«subject»</text></a><!--MD5=[2351f337d6de0f557b50152ba70847b5]\n",
       "link E6 to E2--><a href=\"psysml:38ee38e5-fe2f-49e8-a238-8ef961814591\" target=\"_top\" title=\"psysml:38ee38e5-fe2f-49e8-a238-8ef961814591\" xlink:actuate=\"onRequest\" xlink:href=\"psysml:38ee38e5-fe2f-49e8-a238-8ef961814591\" xlink:show=\"new\" xlink:title=\"psysml:38ee38e5-fe2f-49e8-a238-8ef961814591\" xlink:type=\"simple\"><path d=\"M57.5084,403.137 C57.5293,403.365 57.5504,403.5934 57.5718,403.8223 C57.6145,404.2801 57.6581,404.7398 57.7028,405.2013 C57.792,406.1242 57.8852,407.0543 57.9825,407.9913 C61.095,437.9725 68.38,474.885 85,504 C106.54,541.73 145.2,573.36 174.61,593.66 \" fill=\"none\" id=\"E6-&gt;E2\" style=\"stroke: #383838; stroke-width: 1.0; stroke-dasharray: 7.0,7.0;\"/><polygon fill=\"#383838\" points=\"178.87,596.58,173.6864,588.2056,174.7386,593.7638,169.1804,594.8159,178.87,596.58\" style=\"stroke: #383838; stroke-width: 1.0;\"/><text fill=\"#000000\" font-family=\"sans-serif\" font-size=\"13\" lengthAdjust=\"spacingAndGlyphs\" textLength=\"62\" x=\"86\" y=\"485.5669\">«subject»</text></a><!--MD5=[1ccb2481ffa92f8d51a74ee30c51832a]\n",
       "link E8 to E5--><a href=\"psysml:cf5e8ef0-758f-412b-8419-a299a9750eac\" target=\"_top\" title=\"psysml:cf5e8ef0-758f-412b-8419-a299a9750eac\" xlink:actuate=\"onRequest\" xlink:href=\"psysml:cf5e8ef0-758f-412b-8419-a299a9750eac\" xlink:show=\"new\" xlink:title=\"psysml:cf5e8ef0-758f-412b-8419-a299a9750eac\" xlink:type=\"simple\"><path d=\"M149.54,374.11 C160.73,392.48 177.39,419.85 190.97,442.16 \" fill=\"none\" id=\"E8-&gt;E5\" style=\"stroke: #383838; stroke-width: 1.0;\"/><polygon fill=\"#FFFFFF\" points=\"201.46,459.4,185.6016,446.8099,197.5604,439.5306,201.46,459.4\" style=\"stroke: #383838; stroke-width: 1.0;\"/><ellipse cx=\"184.3463\" cy=\"440.901\" fill=\"#383838\" rx=\"2\" ry=\"2\" style=\"stroke: #383838; stroke-width: 1.0;\"/><ellipse cx=\"192.8883\" cy=\"435.7016\" fill=\"#383838\" rx=\"2\" ry=\"2\" style=\"stroke: #383838; stroke-width: 1.0;\"/></a><!--MD5=[198716bf12f04006f5c20d61bde6d80d]\n",
       "link E10 to E6--><a href=\"psysml:4172c94c-9fb8-4464-b137-e530fc31134b\" target=\"_top\" title=\"psysml:4172c94c-9fb8-4464-b137-e530fc31134b\" xlink:actuate=\"onRequest\" xlink:href=\"psysml:4172c94c-9fb8-4464-b137-e530fc31134b\" xlink:show=\"new\" xlink:title=\"psysml:4172c94c-9fb8-4464-b137-e530fc31134b\" xlink:type=\"simple\"><path d=\"M77.78,212.09 C76.12,222.725 73.9581,236.5687 71.6419,251.3978 C71.0628,255.1051 70.4741,258.8739 69.8812,262.6696 C69.7329,263.6185 69.5844,264.5691 69.4358,265.5209 C69.3614,265.9967 69.287,266.4729 69.2126,266.9493 \" fill=\"none\" id=\"E10-&gt;E6\" style=\"stroke: #383838; stroke-width: 1.0;\"/><polygon fill=\"#FFFFFF\" points=\"69.2126,266.9493,65.2291,247.0965,79.0613,249.2573,69.2126,266.9493\" style=\"stroke: #383838; stroke-width: 1.0;\"/><ellipse cx=\"68.0849\" cy=\"241.7735\" fill=\"#383838\" rx=\"2\" ry=\"2\" style=\"stroke: #383838; stroke-width: 1.0;\"/><ellipse cx=\"77.965\" cy=\"243.317\" fill=\"#383838\" rx=\"2\" ry=\"2\" style=\"stroke: #383838; stroke-width: 1.0;\"/></a><!--MD5=[23ac544a70576c3e717098101004234c]\n",
       "reverse link E9 to E10--><a href=\"psysml:9d8d7d87-8dd4-470f-9d18-cffbc3763f0c\" target=\"_top\" title=\"psysml:9d8d7d87-8dd4-470f-9d18-cffbc3763f0c\" xlink:actuate=\"onRequest\" xlink:href=\"psysml:9d8d7d87-8dd4-470f-9d18-cffbc3763f0c\" xlink:show=\"new\" xlink:title=\"psysml:9d8d7d87-8dd4-470f-9d18-cffbc3763f0c\" xlink:type=\"simple\"><path d=\"M84.45,110.8 C83.62,129.84 82.61,152.68 81.91,168.84 \" fill=\"none\" id=\"E9&lt;-E10\" style=\"stroke: #383838; stroke-width: 1.0;\"/><polygon fill=\"#383838\" points=\"85.02,97.75,80.7601,103.5684,84.4925,109.7384,88.7524,103.92,85.02,97.75\" style=\"stroke: #383838; stroke-width: 1.0;\"/></a><!--MD5=[cd2a7f915049a256e866779e3cfba3aa]\n",
       "@startuml\r\n",
       "top to bottom direction\r\n",
       "skinparam monochrome true\r\n",
       "skinparam classbackgroundcolor white\r\n",
       "skinparam shadowing false\r\n",
       "skinparam wrapWidth 300\r\n",
       "hide circle\r\n",
       "\r\n",
       "package \"AnalysisTest\" as E1  [[psysml:e1dfe890-ec15-4931-b288-05d8c66f0e23 ]]  {\r\n",
       "comp def \"V\" as E2  <<(T,blue) part  def>> [[psysml:e8de7c06-a552-45cc-9ef9-bdca622a4dc8 ]] {\r\n",
       "- - references - -\r\n",
       "m\r\n",
       "}\r\n",
       "comp usage \"vv: V \" as E3  <<(T,blue) part>> [[psysml:e405eddc-d04c-43ee-94c7-f68d6bd4037b ]] {\r\n",
       "}\r\n",
       "comp def \"AnalysisObjective\" as E4  <<(T,blue) requirement  def>> [[psysml:61935c6a-e9b2-427b-8e93-9f8ea2764a4f ]] {\r\n",
       "...\r\n",
       "- -\r\n",
       "}\r\n",
       "rec def \"AnalysisCase\" as E5 << analysis def>> [[psysml:5016a817-b8b6-43b2-a1c9-71130e2545c5 ]] {\r\n",
       "}\r\n",
       "rec def \"AnalysisPlan\" as E6 << analysis def>> [[psysml:0d28215e-abd0-4258-9ce4-d7487f47f154 ]] {\r\n",
       "comp usage \" <U+00AB>objective<U+00BB> \" as E7 [[psysml:317ace64-a3b7-4095-b75a-9c551641bbd2 ]] {\r\n",
       "...\r\n",
       "- -\r\n",
       "}\r\n",
       "rec usage \"analysisCase\" as E8 << analysis>> [[psysml:0f757ff2-27a2-40d5-a25f-af43358ff77a ]] {\r\n",
       "}\r\n",
       "}\r\n",
       "comp usage \"analysisContext \" as E9  <<(T,blue) part>> [[psysml:b24749b9-9e77-4740-bd21-7fc3830bb957 ]] {\r\n",
       "}\r\n",
       "rec usage \"analysisPlan\" as E10 << analysis>> [[psysml:9d8d7d87-8dd4-470f-9d18-cffbc3763f0c ]] {\r\n",
       "}\r\n",
       "}\r\n",
       "E3 - -:|> E2 [[psysml:f45a4065-dcd9-4d0e-be10-466e9a1a32d6 ]] \r\n",
       "E5 ..> E2 [[psysml:4ce798b4-e7f7-45ac-94f6-a9dc23ec95c2 ]] : <<subject>>\r\n",
       "E6 ..> E2 [[psysml:38ee38e5-fe2f-49e8-a238-8ef961814591 ]] : <<subject>>\r\n",
       "E8 - -:|> E5 [[psysml:cf5e8ef0-758f-412b-8419-a299a9750eac ]] \r\n",
       "E10 - -:|> E6 [[psysml:4172c94c-9fb8-4464-b137-e530fc31134b ]] \r\n",
       "E9 *- - E10 [[psysml:9d8d7d87-8dd4-470f-9d18-cffbc3763f0c ]] \r\n",
       "@enduml\r\n",
       "\n",
       "PlantUML version 1.2020.13(Sat Jun 13 12:26:38 UTC 2020)\n",
       "(EPL source distribution)\n",
       "Java Runtime: OpenJDK Runtime Environment\n",
       "JVM: OpenJDK 64-Bit Server VM\n",
       "Default Encoding: UTF-8\n",
       "Language: en\n",
       "Country: null\n",
       "--></g></svg>"
      ]
     },
     "execution_count": 50,
     "metadata": {},
     "output_type": "execute_result"
    }
   ],
   "source": [
    "%viz --style=\"TB\" --view=\"MIXED\" \"AnalysisTest\""
   ]
  },
  {
   "cell_type": "code",
   "execution_count": 51,
   "id": "f75a519b",
   "metadata": {
    "execution": {
     "iopub.execute_input": "2022-02-05T16:52:05.031329Z",
     "iopub.status.busy": "2022-02-05T16:52:05.030902Z",
     "iopub.status.idle": "2022-02-05T16:52:05.074724Z",
     "shell.execute_reply": "2022-02-05T16:52:05.073404Z"
    }
   },
   "outputs": [
    {
     "data": {
      "image/svg+xml": [
       "<?xml version=\"1.0\" encoding=\"UTF-8\" standalone=\"no\"?><svg xmlns=\"http://www.w3.org/2000/svg\" xmlns:xlink=\"http://www.w3.org/1999/xlink\" contentScriptType=\"application/ecmascript\" contentStyleType=\"text/css\" height=\"685px\" preserveAspectRatio=\"none\" style=\"width:380px;height:685px;\" version=\"1.1\" viewBox=\"0 0 380 685\" width=\"380px\" zoomAndPan=\"magnify\"><defs/><g><!--MD5=[fbc87193dbaf4d95561dea2c320d4a47]\n",
       "cluster E1--><a href=\"psysml:e1dfe890-ec15-4931-b288-05d8c66f0e23\" target=\"_top\" title=\"psysml:e1dfe890-ec15-4931-b288-05d8c66f0e23\" xlink:actuate=\"onRequest\" xlink:href=\"psysml:e1dfe890-ec15-4931-b288-05d8c66f0e23\" xlink:show=\"new\" xlink:title=\"psysml:e1dfe890-ec15-4931-b288-05d8c66f0e23\" xlink:type=\"simple\"><polygon fill=\"#FFFFFF\" points=\"16,6,108,6,115,28.2969,358,28.2969,358,673,16,673,16,6\" style=\"stroke: #000000; stroke-width: 1.5;\"/><line style=\"stroke: #000000; stroke-width: 1.5;\" x1=\"16\" x2=\"115\" y1=\"28.2969\" y2=\"28.2969\"/><text fill=\"#000000\" font-family=\"sans-serif\" font-size=\"14\" font-weight=\"bold\" lengthAdjust=\"spacingAndGlyphs\" textLength=\"86\" x=\"20\" y=\"20.9951\">AnalysisTest</text></a><!--MD5=[14e3b0961a2654348d326746436168a1]\n",
       "cluster E6--><a href=\"psysml:0d28215e-abd0-4258-9ce4-d7487f47f154\" target=\"_top\" title=\"psysml:0d28215e-abd0-4258-9ce4-d7487f47f154\" xlink:actuate=\"onRequest\" xlink:href=\"psysml:0d28215e-abd0-4258-9ce4-d7487f47f154\" xlink:show=\"new\" xlink:title=\"psysml:0d28215e-abd0-4258-9ce4-d7487f47f154\" xlink:type=\"simple\"><rect fill=\"#FFFFFF\" height=\"136\" id=\"E6\" style=\"stroke: #383838; stroke-width: 1.5;\" width=\"278\" x=\"48\" y=\"267\"/><rect fill=\"#F8F8F8\" height=\"37.9375\" style=\"stroke: #383838; stroke-width: 1.5;\" width=\"278\" x=\"48\" y=\"267\"/><text fill=\"#000000\" font-family=\"sans-serif\" font-size=\"12\" font-style=\"italic\" lengthAdjust=\"spacingAndGlyphs\" textLength=\"88\" x=\"143\" y=\"283.1387\">«analysis def»</text><text fill=\"#000000\" font-family=\"sans-serif\" font-size=\"12\" lengthAdjust=\"spacingAndGlyphs\" textLength=\"77\" x=\"148.5\" y=\"297.1074\">AnalysisPlan</text></a><!--MD5=[b4997ac47864f28c2f74865a473b2911]\n",
       "class E2--><a href=\"psysml:e8de7c06-a552-45cc-9ef9-bdca622a4dc8\" target=\"_top\" title=\"psysml:e8de7c06-a552-45cc-9ef9-bdca622a4dc8\" xlink:actuate=\"onRequest\" xlink:href=\"psysml:e8de7c06-a552-45cc-9ef9-bdca622a4dc8\" xlink:show=\"new\" xlink:title=\"psysml:e8de7c06-a552-45cc-9ef9-bdca622a4dc8\" xlink:type=\"simple\"><rect fill=\"#FFFFFF\" height=\"75.5469\" id=\"E2\" style=\"stroke: #383838; stroke-width: 1.5;\" width=\"70\" x=\"179\" y=\"581\"/><text fill=\"#000000\" font-family=\"sans-serif\" font-size=\"12\" font-style=\"italic\" lengthAdjust=\"spacingAndGlyphs\" textLength=\"68\" x=\"180\" y=\"597.1387\">«part  def»</text><text fill=\"#000000\" font-family=\"sans-serif\" font-size=\"12\" lengthAdjust=\"spacingAndGlyphs\" textLength=\"8\" x=\"210\" y=\"611.1074\">V</text><line style=\"stroke: #383838; stroke-width: 1.5;\" x1=\"180\" x2=\"248\" y1=\"618.9375\" y2=\"618.9375\"/><text fill=\"#000000\" font-family=\"sans-serif\" font-size=\"11\" lengthAdjust=\"spacingAndGlyphs\" textLength=\"11\" x=\"185\" y=\"649.9526\">m</text><line style=\"stroke: #383838; stroke-width: 1.0;\" x1=\"180\" x2=\"183\" y1=\"633.3398\" y2=\"633.3398\"/><text fill=\"#000000\" font-family=\"sans-serif\" font-size=\"11\" lengthAdjust=\"spacingAndGlyphs\" textLength=\"62\" x=\"183\" y=\"636.6479\">references</text><line style=\"stroke: #383838; stroke-width: 1.0;\" x1=\"245\" x2=\"248\" y1=\"633.3398\" y2=\"633.3398\"/></a><!--MD5=[09b614a08d8cba4a07c9adeb5e0fee81]\n",
       "class E3--><a href=\"psysml:e405eddc-d04c-43ee-94c7-f68d6bd4037b\" target=\"_top\" title=\"psysml:e405eddc-d04c-43ee-94c7-f68d6bd4037b\" xlink:actuate=\"onRequest\" xlink:href=\"psysml:e405eddc-d04c-43ee-94c7-f68d6bd4037b\" xlink:show=\"new\" xlink:title=\"psysml:e405eddc-d04c-43ee-94c7-f68d6bd4037b\" xlink:type=\"simple\"><rect fill=\"#FFFFFF\" height=\"45.9375\" id=\"E3\" rx=\"10\" ry=\"10\" style=\"stroke: #383838; stroke-width: 1.5;\" width=\"42\" x=\"297\" y=\"458\"/><text fill=\"#000000\" font-family=\"sans-serif\" font-size=\"12\" font-style=\"italic\" lengthAdjust=\"spacingAndGlyphs\" textLength=\"40\" x=\"298\" y=\"474.1387\">«part»</text><text fill=\"#000000\" font-family=\"sans-serif\" font-size=\"12\" lengthAdjust=\"spacingAndGlyphs\" textLength=\"28\" x=\"302\" y=\"488.1074\">vv: V</text><line style=\"stroke: #383838; stroke-width: 1.5;\" x1=\"298\" x2=\"338\" y1=\"495.9375\" y2=\"495.9375\"/></a><!--MD5=[ebbe1d658d1005bcc118a6aa81145e00]\n",
       "class E4--><a href=\"psysml:61935c6a-e9b2-427b-8e93-9f8ea2764a4f\" target=\"_top\" title=\"psysml:61935c6a-e9b2-427b-8e93-9f8ea2764a4f\" xlink:actuate=\"onRequest\" xlink:href=\"psysml:61935c6a-e9b2-427b-8e93-9f8ea2764a4f\" xlink:show=\"new\" xlink:title=\"psysml:61935c6a-e9b2-427b-8e93-9f8ea2764a4f\" xlink:type=\"simple\"><rect fill=\"#FFFFFF\" height=\"66.7422\" id=\"E4\" style=\"stroke: #383838; stroke-width: 1.5;\" width=\"121\" x=\"197.5\" y=\"41\"/><text fill=\"#000000\" font-family=\"sans-serif\" font-size=\"12\" font-style=\"italic\" lengthAdjust=\"spacingAndGlyphs\" textLength=\"119\" x=\"198.5\" y=\"57.1387\">«requirement  def»</text><text fill=\"#000000\" font-family=\"sans-serif\" font-size=\"12\" lengthAdjust=\"spacingAndGlyphs\" textLength=\"107\" x=\"204.5\" y=\"71.1074\">AnalysisObjective</text><line style=\"stroke: #383838; stroke-width: 1.5;\" x1=\"198.5\" x2=\"317.5\" y1=\"78.9375\" y2=\"78.9375\"/><text fill=\"#000000\" font-family=\"sans-serif\" font-size=\"11\" lengthAdjust=\"spacingAndGlyphs\" textLength=\"12\" x=\"203.5\" y=\"93.1479\">...</text><line style=\"stroke: #383838; stroke-width: 1.0;\" x1=\"198.5\" x2=\"317.5\" y1=\"99.7422\" y2=\"99.7422\"/></a><!--MD5=[fd4143e9d270a159db93a4ea2a975926]\n",
       "class E9--><a href=\"psysml:b24749b9-9e77-4740-bd21-7fc3830bb957\" target=\"_top\" title=\"psysml:b24749b9-9e77-4740-bd21-7fc3830bb957\" xlink:actuate=\"onRequest\" xlink:href=\"psysml:b24749b9-9e77-4740-bd21-7fc3830bb957\" xlink:show=\"new\" xlink:title=\"psysml:b24749b9-9e77-4740-bd21-7fc3830bb957\" xlink:type=\"simple\"><rect fill=\"#FFFFFF\" height=\"45.9375\" id=\"E9\" rx=\"10\" ry=\"10\" style=\"stroke: #383838; stroke-width: 1.5;\" width=\"108\" x=\"32\" y=\"51.5\"/><text fill=\"#000000\" font-family=\"sans-serif\" font-size=\"12\" font-style=\"italic\" lengthAdjust=\"spacingAndGlyphs\" textLength=\"40\" x=\"66\" y=\"67.6387\">«part»</text><text fill=\"#000000\" font-family=\"sans-serif\" font-size=\"12\" lengthAdjust=\"spacingAndGlyphs\" textLength=\"98\" x=\"35\" y=\"81.6074\">analysisContext</text><line style=\"stroke: #383838; stroke-width: 1.5;\" x1=\"33\" x2=\"139\" y1=\"89.4375\" y2=\"89.4375\"/></a><g id=\"E1.E5\"><a href=\"psysml:5016a817-b8b6-43b2-a1c9-71130e2545c5\" target=\"_top\" title=\"psysml:5016a817-b8b6-43b2-a1c9-71130e2545c5\" xlink:actuate=\"onRequest\" xlink:href=\"psysml:5016a817-b8b6-43b2-a1c9-71130e2545c5\" xlink:show=\"new\" xlink:title=\"psysml:5016a817-b8b6-43b2-a1c9-71130e2545c5\" xlink:type=\"simple\"><rect fill=\"#FFFFFF\" height=\"42.9375\" id=\"E5\" style=\"stroke: #383838; stroke-width: 1.5;\" width=\"95\" x=\"166.5\" y=\"459.5\"/><rect fill=\"#F8F8F8\" height=\"37.9375\" style=\"stroke: #383838; stroke-width: 1.5;\" width=\"95\" x=\"166.5\" y=\"459.5\"/><text fill=\"#000000\" font-family=\"sans-serif\" font-size=\"12\" font-style=\"italic\" lengthAdjust=\"spacingAndGlyphs\" textLength=\"88\" x=\"170\" y=\"475.6387\">«analysis def»</text><text fill=\"#000000\" font-family=\"sans-serif\" font-size=\"12\" lengthAdjust=\"spacingAndGlyphs\" textLength=\"81\" x=\"173.5\" y=\"489.6074\">AnalysisCase</text></a></g><!--MD5=[2156ba9850f5573cc1fc38a6a4b2f02b]\n",
       "class E7--><a href=\"psysml:317ace64-a3b7-4095-b75a-9c551641bbd2\" target=\"_top\" title=\"psysml:317ace64-a3b7-4095-b75a-9c551641bbd2\" xlink:actuate=\"onRequest\" xlink:href=\"psysml:317ace64-a3b7-4095-b75a-9c551641bbd2\" xlink:show=\"new\" xlink:title=\"psysml:317ace64-a3b7-4095-b75a-9c551641bbd2\" xlink:type=\"simple\"><rect fill=\"#FFFFFF\" height=\"52.7734\" id=\"E7\" rx=\"10\" ry=\"10\" style=\"stroke: #383838; stroke-width: 1.5;\" width=\"84\" x=\"218\" y=\"326\"/><text fill=\"#000000\" font-family=\"sans-serif\" font-size=\"12\" lengthAdjust=\"spacingAndGlyphs\" textLength=\"70\" x=\"225\" y=\"342.1387\">«objective»</text><line style=\"stroke: #383838; stroke-width: 1.5;\" x1=\"219\" x2=\"301\" y1=\"349.9688\" y2=\"349.9688\"/><text fill=\"#000000\" font-family=\"sans-serif\" font-size=\"11\" lengthAdjust=\"spacingAndGlyphs\" textLength=\"12\" x=\"224\" y=\"364.1792\">...</text><line style=\"stroke: #383838; stroke-width: 1.0;\" x1=\"219\" x2=\"301\" y1=\"370.7734\" y2=\"370.7734\"/></a><g id=\"E1.E6.E8\"><a href=\"psysml:0f757ff2-27a2-40d5-a25f-af43358ff77a\" target=\"_top\" title=\"psysml:0f757ff2-27a2-40d5-a25f-af43358ff77a\" xlink:actuate=\"onRequest\" xlink:href=\"psysml:0f757ff2-27a2-40d5-a25f-af43358ff77a\" xlink:show=\"new\" xlink:title=\"psysml:0f757ff2-27a2-40d5-a25f-af43358ff77a\" xlink:type=\"simple\"><rect fill=\"#FFFFFF\" height=\"42.9375\" id=\"E8\" rx=\"10\" ry=\"10\" style=\"stroke: #383838; stroke-width: 1.5;\" width=\"92\" x=\"91\" y=\"331\"/><rect fill=\"#F8F8F8\" height=\"37.9375\" rx=\"10\" ry=\"10\" style=\"stroke: #F8F8F8; stroke-width: 1.5;\" width=\"92\" x=\"91\" y=\"331\"/><rect fill=\"#F8F8F8\" height=\"10\" style=\"stroke: #F8F8F8; stroke-width: 1.5;\" width=\"92\" x=\"91\" y=\"358.9375\"/><rect fill=\"none\" height=\"42.9375\" id=\"E8\" rx=\"10\" ry=\"10\" style=\"stroke: #383838; stroke-width: 1.5;\" width=\"92\" x=\"91\" y=\"331\"/><text fill=\"#000000\" font-family=\"sans-serif\" font-size=\"12\" font-style=\"italic\" lengthAdjust=\"spacingAndGlyphs\" textLength=\"64\" x=\"105\" y=\"347.1387\">«analysis»</text><text fill=\"#000000\" font-family=\"sans-serif\" font-size=\"12\" lengthAdjust=\"spacingAndGlyphs\" textLength=\"81\" x=\"96.5\" y=\"361.1074\">analysisCase</text></a></g><g id=\"E1.E10\"><a href=\"psysml:9d8d7d87-8dd4-470f-9d18-cffbc3763f0c\" target=\"_top\" title=\"psysml:9d8d7d87-8dd4-470f-9d18-cffbc3763f0c\" xlink:actuate=\"onRequest\" xlink:href=\"psysml:9d8d7d87-8dd4-470f-9d18-cffbc3763f0c\" xlink:show=\"new\" xlink:title=\"psysml:9d8d7d87-8dd4-470f-9d18-cffbc3763f0c\" xlink:type=\"simple\"><rect fill=\"#FFFFFF\" height=\"42.9375\" id=\"E10\" rx=\"10\" ry=\"10\" style=\"stroke: #383838; stroke-width: 1.5;\" width=\"88\" x=\"37\" y=\"169\"/><rect fill=\"#F8F8F8\" height=\"37.9375\" rx=\"10\" ry=\"10\" style=\"stroke: #F8F8F8; stroke-width: 1.5;\" width=\"88\" x=\"37\" y=\"169\"/><rect fill=\"#F8F8F8\" height=\"10\" style=\"stroke: #F8F8F8; stroke-width: 1.5;\" width=\"88\" x=\"37\" y=\"196.9375\"/><rect fill=\"none\" height=\"42.9375\" id=\"E10\" rx=\"10\" ry=\"10\" style=\"stroke: #383838; stroke-width: 1.5;\" width=\"88\" x=\"37\" y=\"169\"/><text fill=\"#000000\" font-family=\"sans-serif\" font-size=\"12\" font-style=\"italic\" lengthAdjust=\"spacingAndGlyphs\" textLength=\"64\" x=\"49\" y=\"185.1387\">«analysis»</text><text fill=\"#000000\" font-family=\"sans-serif\" font-size=\"12\" lengthAdjust=\"spacingAndGlyphs\" textLength=\"77\" x=\"42.5\" y=\"199.1074\">analysisPlan</text></a></g><!--MD5=[05d275557350bfb9b23a4ef7222b4c39]\n",
       "link E3 to E2--><a href=\"psysml:f45a4065-dcd9-4d0e-be10-466e9a1a32d6\" target=\"_top\" title=\"psysml:f45a4065-dcd9-4d0e-be10-466e9a1a32d6\" xlink:actuate=\"onRequest\" xlink:href=\"psysml:f45a4065-dcd9-4d0e-be10-466e9a1a32d6\" xlink:show=\"new\" xlink:title=\"psysml:f45a4065-dcd9-4d0e-be10-466e9a1a32d6\" xlink:type=\"simple\"><path d=\"M318,504.1 C318,543.38 318,619 318,619 C318,619 269.21,619 269.21,619 \" fill=\"none\" id=\"E3-&gt;E2\" style=\"stroke: #383838; stroke-width: 1.0;\"/><polygon fill=\"#FFFFFF\" points=\"249.21,619,268.21,612,268.21,626,249.21,619\" style=\"stroke: #383838; stroke-width: 1.0;\"/><ellipse cx=\"273.91\" cy=\"614\" fill=\"#383838\" rx=\"2\" ry=\"2\" style=\"stroke: #383838; stroke-width: 1.0;\"/><ellipse cx=\"273.91\" cy=\"624\" fill=\"#383838\" rx=\"2\" ry=\"2\" style=\"stroke: #383838; stroke-width: 1.0;\"/></a><!--MD5=[15ebcb19ae302d9b601edb458606d402]\n",
       "link E5 to E2--><a href=\"psysml:4ce798b4-e7f7-45ac-94f6-a9dc23ec95c2\" target=\"_top\" title=\"psysml:4ce798b4-e7f7-45ac-94f6-a9dc23ec95c2\" xlink:actuate=\"onRequest\" xlink:href=\"psysml:4ce798b4-e7f7-45ac-94f6-a9dc23ec95c2\" xlink:show=\"new\" xlink:title=\"psysml:4ce798b4-e7f7-45ac-94f6-a9dc23ec95c2\" xlink:type=\"simple\"><path d=\"M214,502.56 C214,502.56 214,575.93 214,575.93 \" fill=\"none\" id=\"E5-&gt;E2\" style=\"stroke: #383838; stroke-width: 1.0; stroke-dasharray: 7.0,7.0;\"/><polygon fill=\"#383838\" points=\"214,580.93,218,571.93,214,575.93,210,571.93,214,580.93\" style=\"stroke: #383838; stroke-width: 1.0;\"/><text fill=\"#000000\" font-family=\"sans-serif\" font-size=\"13\" lengthAdjust=\"spacingAndGlyphs\" textLength=\"62\" x=\"215\" y=\"547.0669\">«subject»</text></a><!--MD5=[2351f337d6de0f557b50152ba70847b5]\n",
       "link E6 to E2--><a href=\"psysml:38ee38e5-fe2f-49e8-a238-8ef961814591\" target=\"_top\" title=\"psysml:38ee38e5-fe2f-49e8-a238-8ef961814591\" xlink:actuate=\"onRequest\" xlink:href=\"psysml:38ee38e5-fe2f-49e8-a238-8ef961814591\" xlink:show=\"new\" xlink:title=\"psysml:38ee38e5-fe2f-49e8-a238-8ef961814591\" xlink:type=\"simple\"><path d=\"M56,403.1664 C56,403.5754 56,403.9862 56,404.3986 C56,406.0483 56,407.725 56,409.4267 C56,412.8301 56,416.3338 56,419.9225 C56,427.1 56,434.6177 56,442.3545 C56,457.8281 56,474.1781 56,490.435 C56,555.4625 56,619 56,619 C56,619 173.93,619 173.93,619 \" fill=\"none\" id=\"E6-&gt;E2\" style=\"stroke: #383838; stroke-width: 1.0; stroke-dasharray: 7.0,7.0;\"/><polygon fill=\"#383838\" points=\"178.93,619,169.93,615,173.93,619,169.93,623,178.93,619\" style=\"stroke: #383838; stroke-width: 1.0;\"/><text fill=\"#000000\" font-family=\"sans-serif\" font-size=\"13\" lengthAdjust=\"spacingAndGlyphs\" textLength=\"62\" x=\"68\" y=\"485.5669\">«subject»</text></a><!--MD5=[1ccb2481ffa92f8d51a74ee30c51832a]\n",
       "link E8 to E5--><a href=\"psysml:cf5e8ef0-758f-412b-8419-a299a9750eac\" target=\"_top\" title=\"psysml:cf5e8ef0-758f-412b-8419-a299a9750eac\" xlink:actuate=\"onRequest\" xlink:href=\"psysml:cf5e8ef0-758f-412b-8419-a299a9750eac\" xlink:show=\"new\" xlink:title=\"psysml:cf5e8ef0-758f-412b-8419-a299a9750eac\" xlink:type=\"simple\"><path d=\"M174.75,374.01 C174.75,374.01 174.75,439.42 174.75,439.42 \" fill=\"none\" id=\"E8-&gt;E5\" style=\"stroke: #383838; stroke-width: 1.0;\"/><polygon fill=\"#FFFFFF\" points=\"174.75,459.42,167.75,440.42,181.75,440.42,174.75,459.42\" style=\"stroke: #383838; stroke-width: 1.0;\"/><ellipse cx=\"169.75\" cy=\"434.72\" fill=\"#383838\" rx=\"2\" ry=\"2\" style=\"stroke: #383838; stroke-width: 1.0;\"/><ellipse cx=\"179.75\" cy=\"434.72\" fill=\"#383838\" rx=\"2\" ry=\"2\" style=\"stroke: #383838; stroke-width: 1.0;\"/></a><!--MD5=[198716bf12f04006f5c20d61bde6d80d]\n",
       "link E10 to E6--><a href=\"psysml:4172c94c-9fb8-4464-b137-e530fc31134b\" target=\"_top\" title=\"psysml:4172c94c-9fb8-4464-b137-e530fc31134b\" xlink:actuate=\"onRequest\" xlink:href=\"psysml:4172c94c-9fb8-4464-b137-e530fc31134b\" xlink:show=\"new\" xlink:title=\"psysml:4172c94c-9fb8-4464-b137-e530fc31134b\" xlink:type=\"simple\"><path d=\"M56,212.01 C56,222.51 56,235.9831 56,250.4163 C56,254.0245 56,257.6928 56,261.3896 C56,263.2381 56,265.0936 56,266.9524 \" fill=\"none\" id=\"E10-&gt;E6\" style=\"stroke: #383838; stroke-width: 1.0;\"/><polygon fill=\"#FFFFFF\" points=\"56,266.9524,49,247.9524,63,247.9524,56,266.9524\" style=\"stroke: #383838; stroke-width: 1.0;\"/><ellipse cx=\"51\" cy=\"242.2524\" fill=\"#383838\" rx=\"2\" ry=\"2\" style=\"stroke: #383838; stroke-width: 1.0;\"/><ellipse cx=\"61\" cy=\"242.2524\" fill=\"#383838\" rx=\"2\" ry=\"2\" style=\"stroke: #383838; stroke-width: 1.0;\"/></a><!--MD5=[23ac544a70576c3e717098101004234c]\n",
       "reverse link E9 to E10--><a href=\"psysml:9d8d7d87-8dd4-470f-9d18-cffbc3763f0c\" target=\"_top\" title=\"psysml:9d8d7d87-8dd4-470f-9d18-cffbc3763f0c\" xlink:actuate=\"onRequest\" xlink:href=\"psysml:9d8d7d87-8dd4-470f-9d18-cffbc3763f0c\" xlink:show=\"new\" xlink:title=\"psysml:9d8d7d87-8dd4-470f-9d18-cffbc3763f0c\" xlink:type=\"simple\"><path d=\"M81,110.7 C81,110.7 81,168.91 81,168.91 \" fill=\"none\" id=\"E9&lt;-E10\" style=\"stroke: #383838; stroke-width: 1.0;\"/><polygon fill=\"#383838\" points=\"81,97.7,77,103.7,81,109.7,85,103.7,81,97.7\" style=\"stroke: #383838; stroke-width: 1.0;\"/></a><!--MD5=[ee23ac815ab670ca3c6d154653eacd00]\n",
       "@startuml\r\n",
       "skinparam linetype ortho\r\n",
       "skinparam monochrome true\r\n",
       "skinparam classbackgroundcolor white\r\n",
       "skinparam shadowing false\r\n",
       "skinparam wrapWidth 300\r\n",
       "hide circle\r\n",
       "\r\n",
       "package \"AnalysisTest\" as E1  [[psysml:e1dfe890-ec15-4931-b288-05d8c66f0e23 ]]  {\r\n",
       "comp def \"V\" as E2  <<(T,blue) part  def>> [[psysml:e8de7c06-a552-45cc-9ef9-bdca622a4dc8 ]] {\r\n",
       "- - references - -\r\n",
       "m\r\n",
       "}\r\n",
       "comp usage \"vv: V \" as E3  <<(T,blue) part>> [[psysml:e405eddc-d04c-43ee-94c7-f68d6bd4037b ]] {\r\n",
       "}\r\n",
       "comp def \"AnalysisObjective\" as E4  <<(T,blue) requirement  def>> [[psysml:61935c6a-e9b2-427b-8e93-9f8ea2764a4f ]] {\r\n",
       "...\r\n",
       "- -\r\n",
       "}\r\n",
       "rec def \"AnalysisCase\" as E5 << analysis def>> [[psysml:5016a817-b8b6-43b2-a1c9-71130e2545c5 ]] {\r\n",
       "}\r\n",
       "rec def \"AnalysisPlan\" as E6 << analysis def>> [[psysml:0d28215e-abd0-4258-9ce4-d7487f47f154 ]] {\r\n",
       "comp usage \" <U+00AB>objective<U+00BB> \" as E7 [[psysml:317ace64-a3b7-4095-b75a-9c551641bbd2 ]] {\r\n",
       "...\r\n",
       "- -\r\n",
       "}\r\n",
       "rec usage \"analysisCase\" as E8 << analysis>> [[psysml:0f757ff2-27a2-40d5-a25f-af43358ff77a ]] {\r\n",
       "}\r\n",
       "}\r\n",
       "comp usage \"analysisContext \" as E9  <<(T,blue) part>> [[psysml:b24749b9-9e77-4740-bd21-7fc3830bb957 ]] {\r\n",
       "}\r\n",
       "rec usage \"analysisPlan\" as E10 << analysis>> [[psysml:9d8d7d87-8dd4-470f-9d18-cffbc3763f0c ]] {\r\n",
       "}\r\n",
       "}\r\n",
       "E3 - -:|> E2 [[psysml:f45a4065-dcd9-4d0e-be10-466e9a1a32d6 ]] \r\n",
       "E5 ..> E2 [[psysml:4ce798b4-e7f7-45ac-94f6-a9dc23ec95c2 ]] : <<subject>>\r\n",
       "E6 ..> E2 [[psysml:38ee38e5-fe2f-49e8-a238-8ef961814591 ]] : <<subject>>\r\n",
       "E8 - -:|> E5 [[psysml:cf5e8ef0-758f-412b-8419-a299a9750eac ]] \r\n",
       "E10 - -:|> E6 [[psysml:4172c94c-9fb8-4464-b137-e530fc31134b ]] \r\n",
       "E9 *- - E10 [[psysml:9d8d7d87-8dd4-470f-9d18-cffbc3763f0c ]] \r\n",
       "@enduml\r\n",
       "\n",
       "PlantUML version 1.2020.13(Sat Jun 13 12:26:38 UTC 2020)\n",
       "(EPL source distribution)\n",
       "Java Runtime: OpenJDK Runtime Environment\n",
       "JVM: OpenJDK 64-Bit Server VM\n",
       "Default Encoding: UTF-8\n",
       "Language: en\n",
       "Country: null\n",
       "--></g></svg>"
      ]
     },
     "execution_count": 51,
     "metadata": {},
     "output_type": "execute_result"
    }
   ],
   "source": [
    "%viz --style=\"ORTHOLINE\" --view=\"Default\" \"AnalysisTest\""
   ]
  },
  {
   "cell_type": "code",
   "execution_count": 52,
   "id": "a2f92e65",
   "metadata": {
    "execution": {
     "iopub.execute_input": "2022-02-05T16:52:05.124081Z",
     "iopub.status.busy": "2022-02-05T16:52:05.123682Z",
     "iopub.status.idle": "2022-02-05T16:52:05.181403Z",
     "shell.execute_reply": "2022-02-05T16:52:05.179905Z"
    }
   },
   "outputs": [
    {
     "data": {
      "image/svg+xml": [
       "<?xml version=\"1.0\" encoding=\"UTF-8\" standalone=\"no\"?><svg xmlns=\"http://www.w3.org/2000/svg\" xmlns:xlink=\"http://www.w3.org/1999/xlink\" contentScriptType=\"application/ecmascript\" contentStyleType=\"text/css\" height=\"923px\" preserveAspectRatio=\"none\" style=\"width:449px;height:923px;\" version=\"1.1\" viewBox=\"0 0 449 923\" width=\"449px\" zoomAndPan=\"magnify\"><defs/><g><!--MD5=[fbc87193dbaf4d95561dea2c320d4a47]\n",
       "cluster E1--><a href=\"psysml:e1dfe890-ec15-4931-b288-05d8c66f0e23\" target=\"_top\" title=\"psysml:e1dfe890-ec15-4931-b288-05d8c66f0e23\" xlink:actuate=\"onRequest\" xlink:href=\"psysml:e1dfe890-ec15-4931-b288-05d8c66f0e23\" xlink:show=\"new\" xlink:title=\"psysml:e1dfe890-ec15-4931-b288-05d8c66f0e23\" xlink:type=\"simple\"><polygon fill=\"#FFFFFF\" points=\"16,6,108,6,115,28.2969,427,28.2969,427,911,16,911,16,6\" style=\"stroke: #000000; stroke-width: 1.5;\"/><line style=\"stroke: #000000; stroke-width: 1.5;\" x1=\"16\" x2=\"115\" y1=\"28.2969\" y2=\"28.2969\"/><text fill=\"#000000\" font-family=\"sans-serif\" font-size=\"14\" font-weight=\"bold\" lengthAdjust=\"spacingAndGlyphs\" textLength=\"86\" x=\"20\" y=\"20.9951\">AnalysisTest</text></a><!--MD5=[b4997ac47864f28c2f74865a473b2911]\n",
       "class E2--><a href=\"psysml:e8de7c06-a552-45cc-9ef9-bdca622a4dc8\" target=\"_top\" title=\"psysml:e8de7c06-a552-45cc-9ef9-bdca622a4dc8\" xlink:actuate=\"onRequest\" xlink:href=\"psysml:e8de7c06-a552-45cc-9ef9-bdca622a4dc8\" xlink:show=\"new\" xlink:title=\"psysml:e8de7c06-a552-45cc-9ef9-bdca622a4dc8\" xlink:type=\"simple\"><rect fill=\"#FFFFFF\" height=\"75.5469\" id=\"E2\" style=\"stroke: #383838; stroke-width: 1.5;\" width=\"70\" x=\"156\" y=\"691\"/><text fill=\"#000000\" font-family=\"sans-serif\" font-size=\"12\" font-style=\"italic\" lengthAdjust=\"spacingAndGlyphs\" textLength=\"68\" x=\"157\" y=\"707.1387\">«part  def»</text><text fill=\"#000000\" font-family=\"sans-serif\" font-size=\"12\" lengthAdjust=\"spacingAndGlyphs\" textLength=\"8\" x=\"187\" y=\"721.1074\">V</text><line style=\"stroke: #383838; stroke-width: 1.5;\" x1=\"157\" x2=\"225\" y1=\"728.9375\" y2=\"728.9375\"/><text fill=\"#000000\" font-family=\"sans-serif\" font-size=\"11\" lengthAdjust=\"spacingAndGlyphs\" textLength=\"11\" x=\"162\" y=\"759.9526\">m</text><line style=\"stroke: #383838; stroke-width: 1.0;\" x1=\"157\" x2=\"160\" y1=\"743.3398\" y2=\"743.3398\"/><text fill=\"#000000\" font-family=\"sans-serif\" font-size=\"11\" lengthAdjust=\"spacingAndGlyphs\" textLength=\"62\" x=\"160\" y=\"746.6479\">references</text><line style=\"stroke: #383838; stroke-width: 1.0;\" x1=\"222\" x2=\"225\" y1=\"743.3398\" y2=\"743.3398\"/></a><!--MD5=[09b614a08d8cba4a07c9adeb5e0fee81]\n",
       "class E3--><a href=\"psysml:e405eddc-d04c-43ee-94c7-f68d6bd4037b\" target=\"_top\" title=\"psysml:e405eddc-d04c-43ee-94c7-f68d6bd4037b\" xlink:actuate=\"onRequest\" xlink:href=\"psysml:e405eddc-d04c-43ee-94c7-f68d6bd4037b\" xlink:show=\"new\" xlink:title=\"psysml:e405eddc-d04c-43ee-94c7-f68d6bd4037b\" xlink:type=\"simple\"><rect fill=\"#FFFFFF\" height=\"45.9375\" id=\"E3\" rx=\"10\" ry=\"10\" style=\"stroke: #383838; stroke-width: 1.5;\" width=\"42\" x=\"198\" y=\"553\"/><text fill=\"#000000\" font-family=\"sans-serif\" font-size=\"12\" font-style=\"italic\" lengthAdjust=\"spacingAndGlyphs\" textLength=\"40\" x=\"199\" y=\"569.1387\">«part»</text><text fill=\"#000000\" font-family=\"sans-serif\" font-size=\"12\" lengthAdjust=\"spacingAndGlyphs\" textLength=\"28\" x=\"203\" y=\"583.1074\">vv: V</text><line style=\"stroke: #383838; stroke-width: 1.5;\" x1=\"199\" x2=\"239\" y1=\"590.9375\" y2=\"590.9375\"/></a><!--MD5=[ebbe1d658d1005bcc118a6aa81145e00]\n",
       "class E4--><a href=\"psysml:61935c6a-e9b2-427b-8e93-9f8ea2764a4f\" target=\"_top\" title=\"psysml:61935c6a-e9b2-427b-8e93-9f8ea2764a4f\" xlink:actuate=\"onRequest\" xlink:href=\"psysml:61935c6a-e9b2-427b-8e93-9f8ea2764a4f\" xlink:show=\"new\" xlink:title=\"psysml:61935c6a-e9b2-427b-8e93-9f8ea2764a4f\" xlink:type=\"simple\"><rect fill=\"#FFFFFF\" height=\"66.7422\" id=\"E4\" style=\"stroke: #383838; stroke-width: 1.5;\" width=\"121\" x=\"275.5\" y=\"828\"/><text fill=\"#000000\" font-family=\"sans-serif\" font-size=\"12\" font-style=\"italic\" lengthAdjust=\"spacingAndGlyphs\" textLength=\"119\" x=\"276.5\" y=\"844.1387\">«requirement  def»</text><text fill=\"#000000\" font-family=\"sans-serif\" font-size=\"12\" lengthAdjust=\"spacingAndGlyphs\" textLength=\"107\" x=\"282.5\" y=\"858.1074\">AnalysisObjective</text><line style=\"stroke: #383838; stroke-width: 1.5;\" x1=\"276.5\" x2=\"395.5\" y1=\"865.9375\" y2=\"865.9375\"/><text fill=\"#000000\" font-family=\"sans-serif\" font-size=\"11\" lengthAdjust=\"spacingAndGlyphs\" textLength=\"12\" x=\"281.5\" y=\"880.1479\">...</text><line style=\"stroke: #383838; stroke-width: 1.0;\" x1=\"276.5\" x2=\"395.5\" y1=\"886.7422\" y2=\"886.7422\"/></a><!--MD5=[270fce915f116d4de14055a7c1d9a0f3]\n",
       "class E5--><a href=\"psysml:5016a817-b8b6-43b2-a1c9-71130e2545c5\" target=\"_top\" title=\"psysml:5016a817-b8b6-43b2-a1c9-71130e2545c5\" xlink:actuate=\"onRequest\" xlink:href=\"psysml:5016a817-b8b6-43b2-a1c9-71130e2545c5\" xlink:show=\"new\" xlink:title=\"psysml:5016a817-b8b6-43b2-a1c9-71130e2545c5\" xlink:type=\"simple\"><rect fill=\"#FFFFFF\" height=\"75.5469\" id=\"E5\" style=\"stroke: #383838; stroke-width: 1.5;\" width=\"136\" x=\"275\" y=\"538\"/><text fill=\"#000000\" font-family=\"sans-serif\" font-size=\"12\" font-style=\"italic\" lengthAdjust=\"spacingAndGlyphs\" textLength=\"88\" x=\"299\" y=\"554.1387\">«analysis def»</text><text fill=\"#000000\" font-family=\"sans-serif\" font-size=\"12\" lengthAdjust=\"spacingAndGlyphs\" textLength=\"81\" x=\"302.5\" y=\"568.1074\">AnalysisCase</text><line style=\"stroke: #383838; stroke-width: 1.5;\" x1=\"276\" x2=\"410\" y1=\"575.9375\" y2=\"575.9375\"/><text fill=\"#000000\" font-family=\"sans-serif\" font-size=\"11\" lengthAdjust=\"spacingAndGlyphs\" textLength=\"43\" x=\"281\" y=\"606.9526\">{ v.m }</text><line style=\"stroke: #383838; stroke-width: 1.0;\" x1=\"276\" x2=\"279\" y1=\"590.3398\" y2=\"590.3398\"/><text fill=\"#000000\" font-family=\"sans-serif\" font-size=\"11\" lengthAdjust=\"spacingAndGlyphs\" textLength=\"128\" x=\"279\" y=\"593.6479\">path step expressions</text><line style=\"stroke: #383838; stroke-width: 1.0;\" x1=\"407\" x2=\"410\" y1=\"590.3398\" y2=\"590.3398\"/></a><!--MD5=[60a26617385b1d2d0262a64233df1f8d]\n",
       "class E6--><a href=\"psysml:8ed6d9d8-007f-466a-ada9-4e78a60ebf86\" target=\"_top\" title=\"psysml:8ed6d9d8-007f-466a-ada9-4e78a60ebf86\" xlink:actuate=\"onRequest\" xlink:href=\"psysml:8ed6d9d8-007f-466a-ada9-4e78a60ebf86\" xlink:show=\"new\" xlink:title=\"psysml:8ed6d9d8-007f-466a-ada9-4e78a60ebf86\" xlink:type=\"simple\"><rect fill=\"#FFFFFF\" height=\"45.9375\" id=\"E6\" rx=\"10\" ry=\"10\" style=\"stroke: #383838; stroke-width: 1.5;\" width=\"144\" x=\"264\" y=\"706\"/><text fill=\"#000000\" font-family=\"sans-serif\" font-size=\"12\" font-style=\"italic\" lengthAdjust=\"spacingAndGlyphs\" textLength=\"91\" x=\"290.5\" y=\"722.1387\">«requirement»</text><text fill=\"#000000\" font-family=\"sans-serif\" font-size=\"12\" lengthAdjust=\"spacingAndGlyphs\" textLength=\"134\" x=\"267\" y=\"736.1074\">obj: AnalysisObjective</text><line style=\"stroke: #383838; stroke-width: 1.5;\" x1=\"265\" x2=\"407\" y1=\"743.9375\" y2=\"743.9375\"/></a><!--MD5=[2156ba9850f5573cc1fc38a6a4b2f02b]\n",
       "class E7--><a href=\"psysml:0d28215e-abd0-4258-9ce4-d7487f47f154\" target=\"_top\" title=\"psysml:0d28215e-abd0-4258-9ce4-d7487f47f154\" xlink:actuate=\"onRequest\" xlink:href=\"psysml:0d28215e-abd0-4258-9ce4-d7487f47f154\" xlink:show=\"new\" xlink:title=\"psysml:0d28215e-abd0-4258-9ce4-d7487f47f154\" xlink:type=\"simple\"><rect fill=\"#FFFFFF\" height=\"45.9375\" id=\"E7\" style=\"stroke: #383838; stroke-width: 1.5;\" width=\"90\" x=\"104\" y=\"271\"/><text fill=\"#000000\" font-family=\"sans-serif\" font-size=\"12\" font-style=\"italic\" lengthAdjust=\"spacingAndGlyphs\" textLength=\"88\" x=\"105\" y=\"287.1387\">«analysis def»</text><text fill=\"#000000\" font-family=\"sans-serif\" font-size=\"12\" lengthAdjust=\"spacingAndGlyphs\" textLength=\"77\" x=\"110.5\" y=\"301.1074\">AnalysisPlan</text><line style=\"stroke: #383838; stroke-width: 1.5;\" x1=\"105\" x2=\"193\" y1=\"308.9375\" y2=\"308.9375\"/></a><!--MD5=[b9389687b975829384b498ac4b7476b2]\n",
       "class E8--><a href=\"psysml:317ace64-a3b7-4095-b75a-9c551641bbd2\" target=\"_top\" title=\"psysml:317ace64-a3b7-4095-b75a-9c551641bbd2\" xlink:actuate=\"onRequest\" xlink:href=\"psysml:317ace64-a3b7-4095-b75a-9c551641bbd2\" xlink:show=\"new\" xlink:title=\"psysml:317ace64-a3b7-4095-b75a-9c551641bbd2\" xlink:type=\"simple\"><rect fill=\"#FFFFFF\" height=\"66.7422\" id=\"E8\" rx=\"10\" ry=\"10\" style=\"stroke: #383838; stroke-width: 1.5;\" width=\"93\" x=\"102.5\" y=\"394\"/><text fill=\"#000000\" font-family=\"sans-serif\" font-size=\"12\" font-style=\"italic\" lengthAdjust=\"spacingAndGlyphs\" textLength=\"91\" x=\"103.5\" y=\"410.1387\">«requirement»</text><text fill=\"#000000\" font-family=\"sans-serif\" font-size=\"12\" lengthAdjust=\"spacingAndGlyphs\" textLength=\"19\" x=\"137.5\" y=\"424.1074\">obj</text><line style=\"stroke: #383838; stroke-width: 1.5;\" x1=\"103.5\" x2=\"194.5\" y1=\"431.9375\" y2=\"431.9375\"/><text fill=\"#000000\" font-family=\"sans-serif\" font-size=\"11\" lengthAdjust=\"spacingAndGlyphs\" textLength=\"12\" x=\"108.5\" y=\"446.1479\">...</text><line style=\"stroke: #383838; stroke-width: 1.0;\" x1=\"103.5\" x2=\"194.5\" y1=\"452.7422\" y2=\"452.7422\"/></a><!--MD5=[fd4143e9d270a159db93a4ea2a975926]\n",
       "class E9--><a href=\"psysml:0f757ff2-27a2-40d5-a25f-af43358ff77a\" target=\"_top\" title=\"psysml:0f757ff2-27a2-40d5-a25f-af43358ff77a\" xlink:actuate=\"onRequest\" xlink:href=\"psysml:0f757ff2-27a2-40d5-a25f-af43358ff77a\" xlink:show=\"new\" xlink:title=\"psysml:0f757ff2-27a2-40d5-a25f-af43358ff77a\" xlink:type=\"simple\"><rect fill=\"#FFFFFF\" height=\"45.9375\" id=\"E9\" rx=\"10\" ry=\"10\" style=\"stroke: #383838; stroke-width: 1.5;\" width=\"180\" x=\"231\" y=\"404.5\"/><text fill=\"#000000\" font-family=\"sans-serif\" font-size=\"12\" font-style=\"italic\" lengthAdjust=\"spacingAndGlyphs\" textLength=\"64\" x=\"289\" y=\"420.6387\">«analysis»</text><text fill=\"#000000\" font-family=\"sans-serif\" font-size=\"12\" lengthAdjust=\"spacingAndGlyphs\" textLength=\"170\" x=\"234\" y=\"434.6074\">analysisCase: AnalysisCase</text><line style=\"stroke: #383838; stroke-width: 1.5;\" x1=\"232\" x2=\"410\" y1=\"442.4375\" y2=\"442.4375\"/></a><!--MD5=[96f4274e9e20536e775497830990834d]\n",
       "class E10--><a href=\"psysml:756c2ee8-950e-4679-a51a-3cb75b1efb3e\" target=\"_top\" title=\"psysml:756c2ee8-950e-4679-a51a-3cb75b1efb3e\" xlink:actuate=\"onRequest\" xlink:href=\"psysml:756c2ee8-950e-4679-a51a-3cb75b1efb3e\" xlink:show=\"new\" xlink:title=\"psysml:756c2ee8-950e-4679-a51a-3cb75b1efb3e\" xlink:type=\"simple\"><rect fill=\"#FFFFFF\" height=\"45.9375\" id=\"E10\" rx=\"10\" ry=\"10\" style=\"stroke: #383838; stroke-width: 1.5;\" width=\"93\" x=\"69.5\" y=\"553\"/><text fill=\"#000000\" font-family=\"sans-serif\" font-size=\"12\" font-style=\"italic\" lengthAdjust=\"spacingAndGlyphs\" textLength=\"91\" x=\"70.5\" y=\"569.1387\">«requirement»</text><text fill=\"#000000\" font-family=\"sans-serif\" font-size=\"12\" lengthAdjust=\"spacingAndGlyphs\" textLength=\"19\" x=\"104.5\" y=\"583.1074\">obj</text><line style=\"stroke: #383838; stroke-width: 1.5;\" x1=\"70.5\" x2=\"161.5\" y1=\"590.9375\" y2=\"590.9375\"/></a><!--MD5=[1dd1bfd58a279cf63c5f349dbc8fc6a1]\n",
       "class E11--><a href=\"psysml:b24749b9-9e77-4740-bd21-7fc3830bb957\" target=\"_top\" title=\"psysml:b24749b9-9e77-4740-bd21-7fc3830bb957\" xlink:actuate=\"onRequest\" xlink:href=\"psysml:b24749b9-9e77-4740-bd21-7fc3830bb957\" xlink:show=\"new\" xlink:title=\"psysml:b24749b9-9e77-4740-bd21-7fc3830bb957\" xlink:type=\"simple\"><rect fill=\"#FFFFFF\" height=\"45.9375\" id=\"E11\" rx=\"10\" ry=\"10\" style=\"stroke: #383838; stroke-width: 1.5;\" width=\"108\" x=\"158\" y=\"41\"/><text fill=\"#000000\" font-family=\"sans-serif\" font-size=\"12\" font-style=\"italic\" lengthAdjust=\"spacingAndGlyphs\" textLength=\"40\" x=\"192\" y=\"57.1387\">«part»</text><text fill=\"#000000\" font-family=\"sans-serif\" font-size=\"12\" lengthAdjust=\"spacingAndGlyphs\" textLength=\"98\" x=\"161\" y=\"71.1074\">analysisContext</text><line style=\"stroke: #383838; stroke-width: 1.5;\" x1=\"159\" x2=\"265\" y1=\"78.9375\" y2=\"78.9375\"/></a><!--MD5=[49a0ec8f00dab7302a31f22d0f0fe584]\n",
       "class E12--><a href=\"psysml:9d8d7d87-8dd4-470f-9d18-cffbc3763f0c\" target=\"_top\" title=\"psysml:9d8d7d87-8dd4-470f-9d18-cffbc3763f0c\" xlink:actuate=\"onRequest\" xlink:href=\"psysml:9d8d7d87-8dd4-470f-9d18-cffbc3763f0c\" xlink:show=\"new\" xlink:title=\"psysml:9d8d7d87-8dd4-470f-9d18-cffbc3763f0c\" xlink:type=\"simple\"><rect fill=\"#FFFFFF\" height=\"45.9375\" id=\"E12\" rx=\"10\" ry=\"10\" style=\"stroke: #383838; stroke-width: 1.5;\" width=\"172\" x=\"126\" y=\"148\"/><text fill=\"#000000\" font-family=\"sans-serif\" font-size=\"12\" font-style=\"italic\" lengthAdjust=\"spacingAndGlyphs\" textLength=\"64\" x=\"180\" y=\"164.1387\">«analysis»</text><text fill=\"#000000\" font-family=\"sans-serif\" font-size=\"12\" lengthAdjust=\"spacingAndGlyphs\" textLength=\"162\" x=\"129\" y=\"178.1074\">analysisPlan: AnalysisPlan</text><line style=\"stroke: #383838; stroke-width: 1.5;\" x1=\"127\" x2=\"297\" y1=\"185.9375\" y2=\"185.9375\"/></a><!--MD5=[ee3c913d1a06f366521f9ef512b67efe]\n",
       "class E13--><a href=\"psysml:215563a4-4360-48d3-80f1-175339b6797a\" target=\"_top\" title=\"psysml:215563a4-4360-48d3-80f1-175339b6797a\" xlink:actuate=\"onRequest\" xlink:href=\"psysml:215563a4-4360-48d3-80f1-175339b6797a\" xlink:show=\"new\" xlink:title=\"psysml:215563a4-4360-48d3-80f1-175339b6797a\" xlink:type=\"simple\"><rect fill=\"#FFFFFF\" height=\"45.9375\" id=\"E13\" rx=\"10\" ry=\"10\" style=\"stroke: #383838; stroke-width: 1.5;\" width=\"93\" x=\"229.5\" y=\"271\"/><text fill=\"#000000\" font-family=\"sans-serif\" font-size=\"12\" font-style=\"italic\" lengthAdjust=\"spacingAndGlyphs\" textLength=\"91\" x=\"230.5\" y=\"287.1387\">«requirement»</text><text fill=\"#000000\" font-family=\"sans-serif\" font-size=\"12\" lengthAdjust=\"spacingAndGlyphs\" textLength=\"19\" x=\"264.5\" y=\"301.1074\">obj</text><line style=\"stroke: #383838; stroke-width: 1.5;\" x1=\"230.5\" x2=\"321.5\" y1=\"308.9375\" y2=\"308.9375\"/></a><!--MD5=[05d275557350bfb9b23a4ef7222b4c39]\n",
       "link E3 to E2--><a href=\"psysml:f45a4065-dcd9-4d0e-be10-466e9a1a32d6\" target=\"_top\" title=\"psysml:f45a4065-dcd9-4d0e-be10-466e9a1a32d6\" xlink:actuate=\"onRequest\" xlink:href=\"psysml:f45a4065-dcd9-4d0e-be10-466e9a1a32d6\" xlink:show=\"new\" xlink:title=\"psysml:f45a4065-dcd9-4d0e-be10-466e9a1a32d6\" xlink:type=\"simple\"><path d=\"M207.33,599.24 C207.33,599.24 207.33,670.94 207.33,670.94 \" fill=\"none\" id=\"E3-&gt;E2\" style=\"stroke: #383838; stroke-width: 1.0;\"/><polygon fill=\"#FFFFFF\" points=\"207.33,690.94,200.33,671.94,214.33,671.94,207.33,690.94\" style=\"stroke: #383838; stroke-width: 1.0;\"/><ellipse cx=\"202.33\" cy=\"666.24\" fill=\"#383838\" rx=\"2\" ry=\"2\" style=\"stroke: #383838; stroke-width: 1.0;\"/><ellipse cx=\"212.33\" cy=\"666.24\" fill=\"#383838\" rx=\"2\" ry=\"2\" style=\"stroke: #383838; stroke-width: 1.0;\"/></a><!--MD5=[15ebcb19ae302d9b601edb458606d402]\n",
       "link E5 to E2--><a href=\"psysml:4ce798b4-e7f7-45ac-94f6-a9dc23ec95c2\" target=\"_top\" title=\"psysml:4ce798b4-e7f7-45ac-94f6-a9dc23ec95c2\" xlink:actuate=\"onRequest\" xlink:href=\"psysml:4ce798b4-e7f7-45ac-94f6-a9dc23ec95c2\" xlink:show=\"new\" xlink:title=\"psysml:4ce798b4-e7f7-45ac-94f6-a9dc23ec95c2\" xlink:type=\"simple\"><path d=\"M274.66,607 C244.89,607 216.67,607 216.67,607 C216.67,607 216.67,685.73 216.67,685.73 \" fill=\"none\" id=\"E5-&gt;E2\" style=\"stroke: #383838; stroke-width: 1.0; stroke-dasharray: 7.0,7.0;\"/><polygon fill=\"#383838\" points=\"216.67,690.73,220.67,681.73,216.67,685.73,212.67,681.73,216.67,690.73\" style=\"stroke: #383838; stroke-width: 1.0;\"/><text fill=\"#000000\" font-family=\"sans-serif\" font-size=\"13\" lengthAdjust=\"spacingAndGlyphs\" textLength=\"62\" x=\"233\" y=\"657.0669\">«subject»</text></a><!--MD5=[9120cf2e5df3bff93db8f754bbbc09b4]\n",
       "link E5 to E6--><a href=\"psysml:b91cd128-722a-4ae9-a5d3-51e53a9e38d7\" target=\"_top\" title=\"psysml:b91cd128-722a-4ae9-a5d3-51e53a9e38d7\" xlink:actuate=\"onRequest\" xlink:href=\"psysml:b91cd128-722a-4ae9-a5d3-51e53a9e38d7\" xlink:show=\"new\" xlink:title=\"psysml:b91cd128-722a-4ae9-a5d3-51e53a9e38d7\" xlink:type=\"simple\"><path d=\"M341.5,614.21 C341.5,614.21 341.5,697.98 341.5,697.98 \" fill=\"none\" id=\"E5-&gt;E6\" style=\"stroke: #383838; stroke-width: 1.0;\"/><polygon fill=\"#383838\" points=\"341.5,705.98,344.5,697.98,338.5,697.98,341.5,705.98\" style=\"stroke: #383838; stroke-width: 1.0;\"/><text fill=\"#000000\" font-family=\"sans-serif\" font-size=\"13\" lengthAdjust=\"spacingAndGlyphs\" textLength=\"73\" x=\"337\" y=\"657.0669\">«objective»</text></a><!--MD5=[f667431f98296947986a1a7595a31603]\n",
       "link E6 to E4--><a href=\"psysml:b2f535bd-3827-4daf-a953-8c36dc8e5a05\" target=\"_top\" title=\"psysml:b2f535bd-3827-4daf-a953-8c36dc8e5a05\" xlink:actuate=\"onRequest\" xlink:href=\"psysml:b2f535bd-3827-4daf-a953-8c36dc8e5a05\" xlink:show=\"new\" xlink:title=\"psysml:b2f535bd-3827-4daf-a953-8c36dc8e5a05\" xlink:type=\"simple\"><path d=\"M336,752.08 C336,752.08 336,807.75 336,807.75 \" fill=\"none\" id=\"E6-&gt;E4\" style=\"stroke: #383838; stroke-width: 1.0;\"/><polygon fill=\"#FFFFFF\" points=\"336,827.75,329,808.75,343,808.75,336,827.75\" style=\"stroke: #383838; stroke-width: 1.0;\"/><ellipse cx=\"331\" cy=\"803.05\" fill=\"#383838\" rx=\"2\" ry=\"2\" style=\"stroke: #383838; stroke-width: 1.0;\"/><ellipse cx=\"341\" cy=\"803.05\" fill=\"#383838\" rx=\"2\" ry=\"2\" style=\"stroke: #383838; stroke-width: 1.0;\"/></a><!--MD5=[583832df87f4419a098336a29a52fa00]\n",
       "link E7 to E2--><a href=\"psysml:38ee38e5-fe2f-49e8-a238-8ef961814591\" target=\"_top\" title=\"psysml:38ee38e5-fe2f-49e8-a238-8ef961814591\" xlink:actuate=\"onRequest\" xlink:href=\"psysml:38ee38e5-fe2f-49e8-a238-8ef961814591\" xlink:show=\"new\" xlink:title=\"psysml:38ee38e5-fe2f-49e8-a238-8ef961814591\" xlink:type=\"simple\"><path d=\"M103.96,294 C78.41,294 51.5,294 51.5,294 C51.5,294 51.5,729 51.5,729 C51.5,729 150.8,729 150.8,729 \" fill=\"none\" id=\"E7-&gt;E2\" style=\"stroke: #383838; stroke-width: 1.0; stroke-dasharray: 7.0,7.0;\"/><polygon fill=\"#383838\" points=\"155.8,729,146.8,725,150.8,729,146.8,733,155.8,729\" style=\"stroke: #383838; stroke-width: 1.0;\"/><text fill=\"#000000\" font-family=\"sans-serif\" font-size=\"13\" lengthAdjust=\"spacingAndGlyphs\" textLength=\"62\" x=\"68\" y=\"504.0669\">«subject»</text></a><!--MD5=[79bc8f324ef4d02c541433f2e6e513c3]\n",
       "link E7 to E8--><a href=\"psysml:17344d0c-3816-44f9-9c17-e4b7438070db\" target=\"_top\" title=\"psysml:17344d0c-3816-44f9-9c17-e4b7438070db\" xlink:actuate=\"onRequest\" xlink:href=\"psysml:17344d0c-3816-44f9-9c17-e4b7438070db\" xlink:show=\"new\" xlink:title=\"psysml:17344d0c-3816-44f9-9c17-e4b7438070db\" xlink:type=\"simple\"><path d=\"M149,317.25 C149,317.25 149,385.75 149,385.75 \" fill=\"none\" id=\"E7-&gt;E8\" style=\"stroke: #383838; stroke-width: 1.0;\"/><polygon fill=\"#383838\" points=\"149,393.75,152,385.75,146,385.75,149,393.75\" style=\"stroke: #383838; stroke-width: 1.0;\"/><text fill=\"#000000\" font-family=\"sans-serif\" font-size=\"13\" lengthAdjust=\"spacingAndGlyphs\" textLength=\"73\" x=\"150\" y=\"360.0669\">«objective»</text><text fill=\"#000000\" font-family=\"sans-serif\" font-size=\"13\" lengthAdjust=\"spacingAndGlyphs\" textLength=\"7\" x=\"141.3328\" y=\"382.9908\">*</text></a><!--MD5=[e4a10ef82d0e328e31cac39a31e58dda]\n",
       "reverse link E7 to E9--><a href=\"psysml:270a9b55-e8f2-46f5-9c02-ba45f5a1be19\" target=\"_top\" title=\"psysml:270a9b55-e8f2-46f5-9c02-ba45f5a1be19\" xlink:actuate=\"onRequest\" xlink:href=\"psysml:270a9b55-e8f2-46f5-9c02-ba45f5a1be19\" xlink:show=\"new\" xlink:title=\"psysml:270a9b55-e8f2-46f5-9c02-ba45f5a1be19\" xlink:type=\"simple\"><path d=\"M207.32,294 C207.32,294 213.75,294 213.75,294 C213.75,294 213.75,428 213.75,428 C213.75,428 220.66,428 230.98,428 \" fill=\"none\" id=\"E7&lt;-E9\" style=\"stroke: #383838; stroke-width: 1.0;\"/><polygon fill=\"#383838\" points=\"194.32,294,200.32,298,206.32,294,200.32,290,194.32,294\" style=\"stroke: #383838; stroke-width: 1.0;\"/></a><!--MD5=[bfc3ddf2e613be37104f658f09af896c]\n",
       "link E9 to E5--><a href=\"psysml:cf5e8ef0-758f-412b-8419-a299a9750eac\" target=\"_top\" title=\"psysml:cf5e8ef0-758f-412b-8419-a299a9750eac\" xlink:actuate=\"onRequest\" xlink:href=\"psysml:cf5e8ef0-758f-412b-8419-a299a9750eac\" xlink:show=\"new\" xlink:title=\"psysml:cf5e8ef0-758f-412b-8419-a299a9750eac\" xlink:type=\"simple\"><path d=\"M343,450.7 C343,450.7 343,517.95 343,517.95 \" fill=\"none\" id=\"E9-&gt;E5\" style=\"stroke: #383838; stroke-width: 1.0;\"/><polygon fill=\"#FFFFFF\" points=\"343,537.95,336,518.95,350,518.95,343,537.95\" style=\"stroke: #383838; stroke-width: 1.0;\"/><ellipse cx=\"338\" cy=\"513.25\" fill=\"#383838\" rx=\"2\" ry=\"2\" style=\"stroke: #383838; stroke-width: 1.0;\"/><ellipse cx=\"348\" cy=\"513.25\" fill=\"#383838\" rx=\"2\" ry=\"2\" style=\"stroke: #383838; stroke-width: 1.0;\"/></a><!--MD5=[35e5f1cbde42fa304a029880aa2bc7f2]\n",
       "link E9 to E10--><a href=\"psysml:03a60127-fd3f-4561-ae6d-a87475bfdaf0\" target=\"_top\" title=\"psysml:03a60127-fd3f-4561-ae6d-a87475bfdaf0\" xlink:actuate=\"onRequest\" xlink:href=\"psysml:03a60127-fd3f-4561-ae6d-a87475bfdaf0\" xlink:show=\"new\" xlink:title=\"psysml:03a60127-fd3f-4561-ae6d-a87475bfdaf0\" xlink:type=\"simple\"><path d=\"M235.5,450.84 C235.5,472.03 235.5,500 235.5,500 C235.5,500 132.5,500 132.5,500 C132.5,500 132.5,544.78 132.5,544.78 \" fill=\"none\" id=\"E9-&gt;E10\" style=\"stroke: #383838; stroke-width: 1.0;\"/><polygon fill=\"#383838\" points=\"132.5,552.78,135.5,544.78,129.5,544.78,132.5,552.78\" style=\"stroke: #383838; stroke-width: 1.0;\"/><text fill=\"#000000\" font-family=\"sans-serif\" font-size=\"13\" lengthAdjust=\"spacingAndGlyphs\" textLength=\"73\" x=\"218\" y=\"504.0669\">«objective»</text><text fill=\"#000000\" font-family=\"sans-serif\" font-size=\"13\" lengthAdjust=\"spacingAndGlyphs\" textLength=\"7\" x=\"128.8313\" y=\"541.9999\">*</text></a><!--MD5=[94adabc162ce7e41b39f13be14fbaeb3]\n",
       "reverse link E11 to E12--><a href=\"psysml:7df3fd9f-252d-4e83-afe5-15252f6bd5d9\" target=\"_top\" title=\"psysml:7df3fd9f-252d-4e83-afe5-15252f6bd5d9\" xlink:actuate=\"onRequest\" xlink:href=\"psysml:7df3fd9f-252d-4e83-afe5-15252f6bd5d9\" xlink:show=\"new\" xlink:title=\"psysml:7df3fd9f-252d-4e83-afe5-15252f6bd5d9\" xlink:type=\"simple\"><path d=\"M212,100.22 C212,100.22 212,147.83 212,147.83 \" fill=\"none\" id=\"E11&lt;-E12\" style=\"stroke: #383838; stroke-width: 1.0;\"/><polygon fill=\"#383838\" points=\"212,87.22,208,93.22,212,99.22,216,93.22,212,87.22\" style=\"stroke: #383838; stroke-width: 1.0;\"/></a><!--MD5=[ae660f5ecd7ddb04a8913625960940af]\n",
       "link E12 to E7--><a href=\"psysml:4172c94c-9fb8-4464-b137-e530fc31134b\" target=\"_top\" title=\"psysml:4172c94c-9fb8-4464-b137-e530fc31134b\" xlink:actuate=\"onRequest\" xlink:href=\"psysml:4172c94c-9fb8-4464-b137-e530fc31134b\" xlink:show=\"new\" xlink:title=\"psysml:4172c94c-9fb8-4464-b137-e530fc31134b\" xlink:type=\"simple\"><path d=\"M160,194.14 C160,194.14 160,250.97 160,250.97 \" fill=\"none\" id=\"E12-&gt;E7\" style=\"stroke: #383838; stroke-width: 1.0;\"/><polygon fill=\"#FFFFFF\" points=\"160,270.97,153,251.97,167,251.97,160,270.97\" style=\"stroke: #383838; stroke-width: 1.0;\"/><ellipse cx=\"155\" cy=\"246.27\" fill=\"#383838\" rx=\"2\" ry=\"2\" style=\"stroke: #383838; stroke-width: 1.0;\"/><ellipse cx=\"165\" cy=\"246.27\" fill=\"#383838\" rx=\"2\" ry=\"2\" style=\"stroke: #383838; stroke-width: 1.0;\"/></a><!--MD5=[e2a9ac97dcd3257bb5342dae06547bad]\n",
       "link E12 to E13--><a href=\"psysml:aee64b6c-bc56-4d82-a56f-3ba6edf4c149\" target=\"_top\" title=\"psysml:aee64b6c-bc56-4d82-a56f-3ba6edf4c149\" xlink:actuate=\"onRequest\" xlink:href=\"psysml:aee64b6c-bc56-4d82-a56f-3ba6edf4c149\" xlink:show=\"new\" xlink:title=\"psysml:aee64b6c-bc56-4d82-a56f-3ba6edf4c149\" xlink:type=\"simple\"><path d=\"M263.75,194.14 C263.75,194.14 263.75,262.97 263.75,262.97 \" fill=\"none\" id=\"E12-&gt;E13\" style=\"stroke: #383838; stroke-width: 1.0;\"/><polygon fill=\"#383838\" points=\"263.75,270.97,266.75,262.97,260.75,262.97,263.75,270.97\" style=\"stroke: #383838; stroke-width: 1.0;\"/><text fill=\"#000000\" font-family=\"sans-serif\" font-size=\"13\" lengthAdjust=\"spacingAndGlyphs\" textLength=\"73\" x=\"255\" y=\"237.0669\">«objective»</text><text fill=\"#000000\" font-family=\"sans-serif\" font-size=\"13\" lengthAdjust=\"spacingAndGlyphs\" textLength=\"7\" x=\"252.5172\" y=\"259.8582\">*</text></a><!--MD5=[249fce13596253b8dac53bea6a7c6f0f]\n",
       "@startuml\r\n",
       "skinparam linetype ortho\r\n",
       "skinparam monochrome true\r\n",
       "skinparam classbackgroundcolor white\r\n",
       "skinparam shadowing false\r\n",
       "skinparam wrapWidth 300\r\n",
       "hide circle\r\n",
       "\r\n",
       "package \"AnalysisTest\" as E1  [[psysml:e1dfe890-ec15-4931-b288-05d8c66f0e23 ]]  {\r\n",
       "comp def \"V\" as E2  <<(T,blue) part  def>> [[psysml:e8de7c06-a552-45cc-9ef9-bdca622a4dc8 ]] {\r\n",
       "- - references - -\r\n",
       "m\r\n",
       "}\r\n",
       "comp usage \"vv: V \" as E3  <<(T,blue) part>> [[psysml:e405eddc-d04c-43ee-94c7-f68d6bd4037b ]] {\r\n",
       "}\r\n",
       "comp def \"AnalysisObjective\" as E4  <<(T,blue) requirement  def>> [[psysml:61935c6a-e9b2-427b-8e93-9f8ea2764a4f ]] {\r\n",
       "...\r\n",
       "- -\r\n",
       "}\r\n",
       "comp def \"AnalysisCase\" as E5 << analysis def>> [[psysml:5016a817-b8b6-43b2-a1c9-71130e2545c5 ]] {\r\n",
       "- - path step expressions - -\r\n",
       " { v.m }\r\n",
       "}\r\n",
       "comp usage \"obj: AnalysisObjective \" as E6  <<(T,blue) requirement>> [[psysml:8ed6d9d8-007f-466a-ada9-4e78a60ebf86 ]] {\r\n",
       "}\r\n",
       "comp def \"AnalysisPlan\" as E7 << analysis def>> [[psysml:0d28215e-abd0-4258-9ce4-d7487f47f154 ]] {\r\n",
       "}\r\n",
       "comp usage \"obj \" as E8  <<(T,blue) requirement>> [[psysml:317ace64-a3b7-4095-b75a-9c551641bbd2 ]] {\r\n",
       "...\r\n",
       "- -\r\n",
       "}\r\n",
       "comp usage \"analysisCase: AnalysisCase \" as E9 << analysis>> [[psysml:0f757ff2-27a2-40d5-a25f-af43358ff77a ]] {\r\n",
       "}\r\n",
       "comp usage \"obj \" as E10  <<(T,blue) requirement>> [[psysml:756c2ee8-950e-4679-a51a-3cb75b1efb3e ]] {\r\n",
       "}\r\n",
       "comp usage \"analysisContext \" as E11  <<(T,blue) part>> [[psysml:b24749b9-9e77-4740-bd21-7fc3830bb957 ]] {\r\n",
       "}\r\n",
       "comp usage \"analysisPlan: AnalysisPlan \" as E12 << analysis>> [[psysml:9d8d7d87-8dd4-470f-9d18-cffbc3763f0c ]] {\r\n",
       "}\r\n",
       "comp usage \"obj \" as E13  <<(T,blue) requirement>> [[psysml:215563a4-4360-48d3-80f1-175339b6797a ]] {\r\n",
       "}\r\n",
       "}\r\n",
       "E3 - -:|> E2 [[psysml:f45a4065-dcd9-4d0e-be10-466e9a1a32d6 ]] \r\n",
       "E5 ..> E2 [[psysml:4ce798b4-e7f7-45ac-94f6-a9dc23ec95c2 ]] : <<subject>>\r\n",
       "E5 - ->> E6 [[psysml:b91cd128-722a-4ae9-a5d3-51e53a9e38d7 ]] : <<objective>>\r\n",
       "E6 - -:|> E4 [[psysml:b2f535bd-3827-4daf-a953-8c36dc8e5a05 ]] \r\n",
       "E7 ..> E2 [[psysml:38ee38e5-fe2f-49e8-a238-8ef961814591 ]] : <<subject>>\r\n",
       "E7 - ->> \"*\"E8 [[psysml:17344d0c-3816-44f9-9c17-e4b7438070db ]] : <<objective>>\r\n",
       "E7 *- - E9 [[psysml:270a9b55-e8f2-46f5-9c02-ba45f5a1be19 ]] \r\n",
       "E9 - -:|> E5 [[psysml:cf5e8ef0-758f-412b-8419-a299a9750eac ]] \r\n",
       "E9 - ->> \"*\"E10 [[psysml:03a60127-fd3f-4561-ae6d-a87475bfdaf0 ]] : <<objective>>\r\n",
       "E11 *- - E12 [[psysml:7df3fd9f-252d-4e83-afe5-15252f6bd5d9 ]] \r\n",
       "E12 - -:|> E7 [[psysml:4172c94c-9fb8-4464-b137-e530fc31134b ]] \r\n",
       "E12 - ->> \"*\"E13 [[psysml:aee64b6c-bc56-4d82-a56f-3ba6edf4c149 ]] : <<objective>>\r\n",
       "@enduml\r\n",
       "\n",
       "PlantUML version 1.2020.13(Sat Jun 13 12:26:38 UTC 2020)\n",
       "(EPL source distribution)\n",
       "Java Runtime: OpenJDK Runtime Environment\n",
       "JVM: OpenJDK 64-Bit Server VM\n",
       "Default Encoding: UTF-8\n",
       "Language: en\n",
       "Country: null\n",
       "--></g></svg>"
      ]
     },
     "execution_count": 52,
     "metadata": {},
     "output_type": "execute_result"
    }
   ],
   "source": [
    "%viz --style=\"ORTHOLINE\" --view=\"Tree\" \"AnalysisTest\""
   ]
  },
  {
   "cell_type": "code",
   "execution_count": 53,
   "id": "259e39c2",
   "metadata": {
    "execution": {
     "iopub.execute_input": "2022-02-05T16:52:05.230532Z",
     "iopub.status.busy": "2022-02-05T16:52:05.230132Z",
     "iopub.status.idle": "2022-02-05T16:52:05.233648Z",
     "shell.execute_reply": "2022-02-05T16:52:05.233302Z"
    }
   },
   "outputs": [
    {
     "data": {
      "image/svg+xml": [
       "<?xml version=\"1.0\" encoding=\"UTF-8\" standalone=\"no\"?><svg xmlns=\"http://www.w3.org/2000/svg\" xmlns:xlink=\"http://www.w3.org/1999/xlink\" contentScriptType=\"application/ecmascript\" contentStyleType=\"text/css\" height=\"12px\" preserveAspectRatio=\"none\" style=\"width:12px;height:12px;\" version=\"1.1\" viewBox=\"0 0 12 12\" width=\"12px\" zoomAndPan=\"magnify\"><defs/><g><!--MD5=[97d6f38768b311333d388e66b2b27985]\n",
       "@startuml\r\n",
       "skinparam linetype ortho\r\n",
       "skinparam monochrome true\r\n",
       "skinparam classbackgroundcolor white\r\n",
       "skinparam shadowing false\r\n",
       "skinparam wrapWidth 300\r\n",
       "hide circle\r\n",
       "\r\n",
       "@enduml\r\n",
       "\n",
       "PlantUML version 1.2020.13(Sat Jun 13 12:26:38 UTC 2020)\n",
       "(EPL source distribution)\n",
       "Java Runtime: OpenJDK Runtime Environment\n",
       "JVM: OpenJDK 64-Bit Server VM\n",
       "Default Encoding: UTF-8\n",
       "Language: en\n",
       "Country: null\n",
       "--></g></svg>"
      ]
     },
     "execution_count": 53,
     "metadata": {},
     "output_type": "execute_result"
    }
   ],
   "source": [
    "%viz --style=\"ORTHOLINE\" --view=\"State\" \"AnalysisTest\""
   ]
  },
  {
   "cell_type": "code",
   "execution_count": 54,
   "id": "70ccf41c",
   "metadata": {
    "execution": {
     "iopub.execute_input": "2022-02-05T16:52:05.283388Z",
     "iopub.status.busy": "2022-02-05T16:52:05.282975Z",
     "iopub.status.idle": "2022-02-05T16:52:05.324884Z",
     "shell.execute_reply": "2022-02-05T16:52:05.323557Z"
    }
   },
   "outputs": [
    {
     "data": {
      "image/svg+xml": [
       "<?xml version=\"1.0\" encoding=\"UTF-8\" standalone=\"no\"?><svg xmlns=\"http://www.w3.org/2000/svg\" xmlns:xlink=\"http://www.w3.org/1999/xlink\" contentScriptType=\"application/ecmascript\" contentStyleType=\"text/css\" height=\"500px\" preserveAspectRatio=\"none\" style=\"width:425px;height:500px;\" version=\"1.1\" viewBox=\"0 0 425 500\" width=\"425px\" zoomAndPan=\"magnify\"><defs/><g><!--MD5=[fbc87193dbaf4d95561dea2c320d4a47]\n",
       "cluster E1--><a href=\"psysml:e1dfe890-ec15-4931-b288-05d8c66f0e23\" target=\"_top\" title=\"psysml:e1dfe890-ec15-4931-b288-05d8c66f0e23\" xlink:actuate=\"onRequest\" xlink:href=\"psysml:e1dfe890-ec15-4931-b288-05d8c66f0e23\" xlink:show=\"new\" xlink:title=\"psysml:e1dfe890-ec15-4931-b288-05d8c66f0e23\" xlink:type=\"simple\"><polygon fill=\"#FFFFFF\" points=\"16,6,108,6,115,28.2969,403,28.2969,403,488,16,488,16,6\" style=\"stroke: #000000; stroke-width: 1.5;\"/><line style=\"stroke: #000000; stroke-width: 1.5;\" x1=\"16\" x2=\"115\" y1=\"28.2969\" y2=\"28.2969\"/><text fill=\"#000000\" font-family=\"sans-serif\" font-size=\"14\" font-weight=\"bold\" lengthAdjust=\"spacingAndGlyphs\" textLength=\"86\" x=\"20\" y=\"20.9951\">AnalysisTest</text></a><!--MD5=[14e3b0961a2654348d326746436168a1]\n",
       "cluster E6--><a href=\"psysml:0d28215e-abd0-4258-9ce4-d7487f47f154\" target=\"_top\" title=\"psysml:0d28215e-abd0-4258-9ce4-d7487f47f154\" xlink:actuate=\"onRequest\" xlink:href=\"psysml:0d28215e-abd0-4258-9ce4-d7487f47f154\" xlink:show=\"new\" xlink:title=\"psysml:0d28215e-abd0-4258-9ce4-d7487f47f154\" xlink:type=\"simple\"><rect fill=\"#FFFFFF\" height=\"136\" id=\"E6\" style=\"stroke: #383838; stroke-width: 1.5;\" width=\"278\" x=\"93\" y=\"184\"/><rect fill=\"#F8F8F8\" height=\"37.9375\" style=\"stroke: #383838; stroke-width: 1.5;\" width=\"278\" x=\"93\" y=\"184\"/><text fill=\"#000000\" font-family=\"sans-serif\" font-size=\"12\" font-style=\"italic\" lengthAdjust=\"spacingAndGlyphs\" textLength=\"88\" x=\"188\" y=\"200.1387\">«analysis def»</text><text fill=\"#000000\" font-family=\"sans-serif\" font-size=\"12\" lengthAdjust=\"spacingAndGlyphs\" textLength=\"77\" x=\"193.5\" y=\"214.1074\">AnalysisPlan</text></a><!--MD5=[7f149f147074ac12df2cb0a7728a5fb0]\n",
       "cluster E9--><a href=\"psysml:b24749b9-9e77-4740-bd21-7fc3830bb957\" target=\"_top\" title=\"psysml:b24749b9-9e77-4740-bd21-7fc3830bb957\" xlink:actuate=\"onRequest\" xlink:href=\"psysml:b24749b9-9e77-4740-bd21-7fc3830bb957\" xlink:show=\"new\" xlink:title=\"psysml:b24749b9-9e77-4740-bd21-7fc3830bb957\" xlink:type=\"simple\"><rect fill=\"#FFFFFF\" height=\"94\" id=\"E9\" rx=\"10\" ry=\"10\" style=\"stroke: #383838; stroke-width: 1.5;\" width=\"124\" x=\"255\" y=\"49\"/><rect fill=\"#F8F8F8\" height=\"23.9688\" rx=\"10\" ry=\"10\" style=\"stroke: #F8F8F8; stroke-width: 1.5;\" width=\"124\" x=\"255\" y=\"49\"/><rect fill=\"#F8F8F8\" height=\"10\" style=\"stroke: #F8F8F8; stroke-width: 1.5;\" width=\"124\" x=\"255\" y=\"62.9688\"/><rect fill=\"none\" height=\"94\" id=\"E9\" rx=\"10\" ry=\"10\" style=\"stroke: #383838; stroke-width: 1.5;\" width=\"124\" x=\"255\" y=\"49\"/><text fill=\"#000000\" font-family=\"sans-serif\" font-size=\"12\" lengthAdjust=\"spacingAndGlyphs\" textLength=\"98\" x=\"268\" y=\"65.1387\">analysisContext</text><line style=\"stroke: #383838; stroke-width: 1.0;\" x1=\"255\" x2=\"379\" y1=\"72.9688\" y2=\"72.9688\"/></a><!--MD5=[ebbe1d658d1005bcc118a6aa81145e00]\n",
       "class E4--><a href=\"psysml:61935c6a-e9b2-427b-8e93-9f8ea2764a4f\" target=\"_top\" title=\"psysml:61935c6a-e9b2-427b-8e93-9f8ea2764a4f\" xlink:actuate=\"onRequest\" xlink:href=\"psysml:61935c6a-e9b2-427b-8e93-9f8ea2764a4f\" xlink:show=\"new\" xlink:title=\"psysml:61935c6a-e9b2-427b-8e93-9f8ea2764a4f\" xlink:type=\"simple\"><rect fill=\"#FFFFFF\" height=\"66.7422\" id=\"E4\" style=\"stroke: #383838; stroke-width: 1.5;\" width=\"121\" x=\"117.5\" y=\"72\"/><text fill=\"#000000\" font-family=\"sans-serif\" font-size=\"12\" font-style=\"italic\" lengthAdjust=\"spacingAndGlyphs\" textLength=\"119\" x=\"118.5\" y=\"88.1387\">«requirement  def»</text><text fill=\"#000000\" font-family=\"sans-serif\" font-size=\"12\" lengthAdjust=\"spacingAndGlyphs\" textLength=\"107\" x=\"124.5\" y=\"102.1074\">AnalysisObjective</text><line style=\"stroke: #383838; stroke-width: 1.5;\" x1=\"118.5\" x2=\"237.5\" y1=\"109.9375\" y2=\"109.9375\"/><text fill=\"#000000\" font-family=\"sans-serif\" font-size=\"11\" lengthAdjust=\"spacingAndGlyphs\" textLength=\"12\" x=\"123.5\" y=\"124.1479\">...</text><line style=\"stroke: #383838; stroke-width: 1.0;\" x1=\"118.5\" x2=\"237.5\" y1=\"130.7422\" y2=\"130.7422\"/></a><g id=\"E1.E2\"><a href=\"psysml:e8de7c06-a552-45cc-9ef9-bdca622a4dc8\" target=\"_top\" title=\"psysml:e8de7c06-a552-45cc-9ef9-bdca622a4dc8\" xlink:actuate=\"onRequest\" xlink:href=\"psysml:e8de7c06-a552-45cc-9ef9-bdca622a4dc8\" xlink:show=\"new\" xlink:title=\"psysml:e8de7c06-a552-45cc-9ef9-bdca622a4dc8\" xlink:type=\"simple\"><rect fill=\"#FFFFFF\" height=\"42.9375\" id=\"E2\" style=\"stroke: #383838; stroke-width: 1.5;\" width=\"75\" x=\"77.5\" y=\"429\"/><rect fill=\"#F8F8F8\" height=\"37.9375\" style=\"stroke: #383838; stroke-width: 1.5;\" width=\"75\" x=\"77.5\" y=\"429\"/><text fill=\"#000000\" font-family=\"sans-serif\" font-size=\"12\" font-style=\"italic\" lengthAdjust=\"spacingAndGlyphs\" textLength=\"68\" x=\"81\" y=\"445.1387\">«part  def»</text><text fill=\"#000000\" font-family=\"sans-serif\" font-size=\"12\" lengthAdjust=\"spacingAndGlyphs\" textLength=\"8\" x=\"111\" y=\"459.1074\">V</text></a></g><g id=\"E1.E3\"><a href=\"psysml:e405eddc-d04c-43ee-94c7-f68d6bd4037b\" target=\"_top\" title=\"psysml:e405eddc-d04c-43ee-94c7-f68d6bd4037b\" xlink:actuate=\"onRequest\" xlink:href=\"psysml:e405eddc-d04c-43ee-94c7-f68d6bd4037b\" xlink:show=\"new\" xlink:title=\"psysml:e405eddc-d04c-43ee-94c7-f68d6bd4037b\" xlink:type=\"simple\"><rect fill=\"#FFFFFF\" height=\"40\" id=\"E3\" rx=\"10\" ry=\"10\" style=\"stroke: #383838; stroke-width: 1.5;\" width=\"50\" x=\"32\" y=\"85.5\"/><rect fill=\"#F8F8F8\" height=\"23.9688\" rx=\"10\" ry=\"10\" style=\"stroke: #F8F8F8; stroke-width: 1.5;\" width=\"50\" x=\"32\" y=\"85.5\"/><rect fill=\"#F8F8F8\" height=\"10\" style=\"stroke: #F8F8F8; stroke-width: 1.5;\" width=\"50\" x=\"32\" y=\"99.4688\"/><rect fill=\"none\" height=\"40\" id=\"E3\" rx=\"10\" ry=\"10\" style=\"stroke: #383838; stroke-width: 1.5;\" width=\"50\" x=\"32\" y=\"85.5\"/><text fill=\"#000000\" font-family=\"sans-serif\" font-size=\"12\" lengthAdjust=\"spacingAndGlyphs\" textLength=\"28\" x=\"43\" y=\"101.6387\">vv: V</text></a></g><g id=\"E1.E5\"><a href=\"psysml:5016a817-b8b6-43b2-a1c9-71130e2545c5\" target=\"_top\" title=\"psysml:5016a817-b8b6-43b2-a1c9-71130e2545c5\" xlink:actuate=\"onRequest\" xlink:href=\"psysml:5016a817-b8b6-43b2-a1c9-71130e2545c5\" xlink:show=\"new\" xlink:title=\"psysml:5016a817-b8b6-43b2-a1c9-71130e2545c5\" xlink:type=\"simple\"><rect fill=\"#FFFFFF\" height=\"42.9375\" id=\"E5\" style=\"stroke: #383838; stroke-width: 1.5;\" width=\"95\" x=\"167.5\" y=\"353\"/><rect fill=\"#F8F8F8\" height=\"37.9375\" style=\"stroke: #383838; stroke-width: 1.5;\" width=\"95\" x=\"167.5\" y=\"353\"/><text fill=\"#000000\" font-family=\"sans-serif\" font-size=\"12\" font-style=\"italic\" lengthAdjust=\"spacingAndGlyphs\" textLength=\"88\" x=\"171\" y=\"369.1387\">«analysis def»</text><text fill=\"#000000\" font-family=\"sans-serif\" font-size=\"12\" lengthAdjust=\"spacingAndGlyphs\" textLength=\"81\" x=\"174.5\" y=\"383.1074\">AnalysisCase</text></a></g><!--MD5=[2156ba9850f5573cc1fc38a6a4b2f02b]\n",
       "class E7--><a href=\"psysml:317ace64-a3b7-4095-b75a-9c551641bbd2\" target=\"_top\" title=\"psysml:317ace64-a3b7-4095-b75a-9c551641bbd2\" xlink:actuate=\"onRequest\" xlink:href=\"psysml:317ace64-a3b7-4095-b75a-9c551641bbd2\" xlink:show=\"new\" xlink:title=\"psysml:317ace64-a3b7-4095-b75a-9c551641bbd2\" xlink:type=\"simple\"><rect fill=\"#FFFFFF\" height=\"52.7734\" id=\"E7\" rx=\"10\" ry=\"10\" style=\"stroke: #383838; stroke-width: 1.5;\" width=\"84\" x=\"263\" y=\"243\"/><text fill=\"#000000\" font-family=\"sans-serif\" font-size=\"12\" lengthAdjust=\"spacingAndGlyphs\" textLength=\"70\" x=\"270\" y=\"259.1387\">«objective»</text><line style=\"stroke: #383838; stroke-width: 1.5;\" x1=\"264\" x2=\"346\" y1=\"266.9688\" y2=\"266.9688\"/><text fill=\"#000000\" font-family=\"sans-serif\" font-size=\"11\" lengthAdjust=\"spacingAndGlyphs\" textLength=\"12\" x=\"269\" y=\"281.1792\">...</text><line style=\"stroke: #383838; stroke-width: 1.0;\" x1=\"264\" x2=\"346\" y1=\"287.7734\" y2=\"287.7734\"/></a><g id=\"E1.E6.E8\"><a href=\"psysml:0f757ff2-27a2-40d5-a25f-af43358ff77a\" target=\"_top\" title=\"psysml:0f757ff2-27a2-40d5-a25f-af43358ff77a\" xlink:actuate=\"onRequest\" xlink:href=\"psysml:0f757ff2-27a2-40d5-a25f-af43358ff77a\" xlink:show=\"new\" xlink:title=\"psysml:0f757ff2-27a2-40d5-a25f-af43358ff77a\" xlink:type=\"simple\"><rect fill=\"#FFFFFF\" height=\"42.9375\" id=\"E8\" rx=\"10\" ry=\"10\" style=\"stroke: #383838; stroke-width: 1.5;\" width=\"92\" x=\"136\" y=\"248\"/><rect fill=\"#F8F8F8\" height=\"37.9375\" rx=\"10\" ry=\"10\" style=\"stroke: #F8F8F8; stroke-width: 1.5;\" width=\"92\" x=\"136\" y=\"248\"/><rect fill=\"#F8F8F8\" height=\"10\" style=\"stroke: #F8F8F8; stroke-width: 1.5;\" width=\"92\" x=\"136\" y=\"275.9375\"/><rect fill=\"none\" height=\"42.9375\" id=\"E8\" rx=\"10\" ry=\"10\" style=\"stroke: #383838; stroke-width: 1.5;\" width=\"92\" x=\"136\" y=\"248\"/><text fill=\"#000000\" font-family=\"sans-serif\" font-size=\"12\" font-style=\"italic\" lengthAdjust=\"spacingAndGlyphs\" textLength=\"64\" x=\"150\" y=\"264.1387\">«analysis»</text><text fill=\"#000000\" font-family=\"sans-serif\" font-size=\"12\" lengthAdjust=\"spacingAndGlyphs\" textLength=\"81\" x=\"141.5\" y=\"278.1074\">analysisCase</text></a></g><g id=\"E1.E9.E10\"><a href=\"psysml:9d8d7d87-8dd4-470f-9d18-cffbc3763f0c\" target=\"_top\" title=\"psysml:9d8d7d87-8dd4-470f-9d18-cffbc3763f0c\" xlink:actuate=\"onRequest\" xlink:href=\"psysml:9d8d7d87-8dd4-470f-9d18-cffbc3763f0c\" xlink:show=\"new\" xlink:title=\"psysml:9d8d7d87-8dd4-470f-9d18-cffbc3763f0c\" xlink:type=\"simple\"><rect fill=\"#FFFFFF\" height=\"42.9375\" id=\"E10\" rx=\"10\" ry=\"10\" style=\"stroke: #383838; stroke-width: 1.5;\" width=\"88\" x=\"274\" y=\"84\"/><rect fill=\"#F8F8F8\" height=\"37.9375\" rx=\"10\" ry=\"10\" style=\"stroke: #F8F8F8; stroke-width: 1.5;\" width=\"88\" x=\"274\" y=\"84\"/><rect fill=\"#F8F8F8\" height=\"10\" style=\"stroke: #F8F8F8; stroke-width: 1.5;\" width=\"88\" x=\"274\" y=\"111.9375\"/><rect fill=\"none\" height=\"42.9375\" id=\"E10\" rx=\"10\" ry=\"10\" style=\"stroke: #383838; stroke-width: 1.5;\" width=\"88\" x=\"274\" y=\"84\"/><text fill=\"#000000\" font-family=\"sans-serif\" font-size=\"12\" font-style=\"italic\" lengthAdjust=\"spacingAndGlyphs\" textLength=\"64\" x=\"286\" y=\"100.1387\">«analysis»</text><text fill=\"#000000\" font-family=\"sans-serif\" font-size=\"12\" lengthAdjust=\"spacingAndGlyphs\" textLength=\"77\" x=\"279.5\" y=\"114.1074\">analysisPlan</text></a></g><!--MD5=[15ebcb19ae302d9b601edb458606d402]\n",
       "link E5 to E2--><a href=\"psysml:4ce798b4-e7f7-45ac-94f6-a9dc23ec95c2\" target=\"_top\" title=\"psysml:4ce798b4-e7f7-45ac-94f6-a9dc23ec95c2\" xlink:actuate=\"onRequest\" xlink:href=\"psysml:4ce798b4-e7f7-45ac-94f6-a9dc23ec95c2\" xlink:show=\"new\" xlink:title=\"psysml:4ce798b4-e7f7-45ac-94f6-a9dc23ec95c2\" xlink:type=\"simple\"><path d=\"M167.42,375 C154.62,375 144.25,375 144.25,375 C144.25,375 144.25,423.66 144.25,423.66 \" fill=\"none\" id=\"E5-&gt;E2\" style=\"stroke: #383838; stroke-width: 1.0; stroke-dasharray: 7.0,7.0;\"/><polygon fill=\"#383838\" points=\"144.25,428.66,148.25,419.66,144.25,423.66,140.25,419.66,144.25,428.66\" style=\"stroke: #383838; stroke-width: 1.0;\"/><text fill=\"#000000\" font-family=\"sans-serif\" font-size=\"13\" lengthAdjust=\"spacingAndGlyphs\" textLength=\"62\" x=\"163\" y=\"417.0669\">«subject»</text></a><!--MD5=[2351f337d6de0f557b50152ba70847b5]\n",
       "link E6 to E2--><a href=\"psysml:38ee38e5-fe2f-49e8-a238-8ef961814591\" target=\"_top\" title=\"psysml:38ee38e5-fe2f-49e8-a238-8ef961814591\" xlink:actuate=\"onRequest\" xlink:href=\"psysml:38ee38e5-fe2f-49e8-a238-8ef961814591\" xlink:show=\"new\" xlink:title=\"psysml:38ee38e5-fe2f-49e8-a238-8ef961814591\" xlink:type=\"simple\"><path d=\"M101,320.3962 C101,320.9642 101,321.5344 101,322.1066 C101,323.251 101,324.4037 101,325.5634 C101,327.8828 101,330.2303 101,332.5967 C101,337.3294 101,342.1372 101,346.945 C101,385.4075 101,423.87 101,423.87 \" fill=\"none\" id=\"E6-&gt;E2\" style=\"stroke: #383838; stroke-width: 1.0; stroke-dasharray: 7.0,7.0;\"/><polygon fill=\"#383838\" points=\"101,428.87,105,419.87,101,423.87,97,419.87,101,428.87\" style=\"stroke: #383838; stroke-width: 1.0;\"/><text fill=\"#000000\" font-family=\"sans-serif\" font-size=\"13\" lengthAdjust=\"spacingAndGlyphs\" textLength=\"62\" x=\"69\" y=\"379.0669\">«subject»</text></a><!--MD5=[1ccb2481ffa92f8d51a74ee30c51832a]\n",
       "link E8 to E5--><a href=\"psysml:cf5e8ef0-758f-412b-8419-a299a9750eac\" target=\"_top\" title=\"psysml:cf5e8ef0-758f-412b-8419-a299a9750eac\" xlink:actuate=\"onRequest\" xlink:href=\"psysml:cf5e8ef0-758f-412b-8419-a299a9750eac\" xlink:show=\"new\" xlink:title=\"psysml:cf5e8ef0-758f-412b-8419-a299a9750eac\" xlink:type=\"simple\"><path d=\"M197.75,291 C197.75,291 197.75,332.67 197.75,332.67 \" fill=\"none\" id=\"E8-&gt;E5\" style=\"stroke: #383838; stroke-width: 1.0;\"/><polygon fill=\"#FFFFFF\" points=\"197.75,352.67,190.75,333.67,204.75,333.67,197.75,352.67\" style=\"stroke: #383838; stroke-width: 1.0;\"/><ellipse cx=\"192.75\" cy=\"327.97\" fill=\"#383838\" rx=\"2\" ry=\"2\" style=\"stroke: #383838; stroke-width: 1.0;\"/><ellipse cx=\"202.75\" cy=\"327.97\" fill=\"#383838\" rx=\"2\" ry=\"2\" style=\"stroke: #383838; stroke-width: 1.0;\"/></a><!--MD5=[198716bf12f04006f5c20d61bde6d80d]\n",
       "link E10 to E6--><a href=\"psysml:4172c94c-9fb8-4464-b137-e530fc31134b\" target=\"_top\" title=\"psysml:4172c94c-9fb8-4464-b137-e530fc31134b\" xlink:actuate=\"onRequest\" xlink:href=\"psysml:4172c94c-9fb8-4464-b137-e530fc31134b\" xlink:show=\"new\" xlink:title=\"psysml:4172c94c-9fb8-4464-b137-e530fc31134b\" xlink:type=\"simple\"><path d=\"M310.5,127.08 C310.5,139.74 310.5,155.72 310.5,168.535 C310.5,171.7387 310.5,174.7447 310.5,177.4515 C310.5,178.8049 310.5,180.0835 310.5,181.2747 C310.5,181.8702 310.5,182.444 310.5,182.9942 C310.5,183.2694 310.5,183.5386 310.5,183.8019 C310.5,183.8677 310.5,183.9331 310.5,183.9981 \" fill=\"none\" id=\"E10-&gt;E6\" style=\"stroke: #383838; stroke-width: 1.0;\"/><polygon fill=\"#FFFFFF\" points=\"310.5,183.9981,303.5,164.9981,317.5,164.9981,310.5,183.9981\" style=\"stroke: #383838; stroke-width: 1.0;\"/><ellipse cx=\"305.5\" cy=\"159.2981\" fill=\"#383838\" rx=\"2\" ry=\"2\" style=\"stroke: #383838; stroke-width: 1.0;\"/><ellipse cx=\"315.5\" cy=\"159.2981\" fill=\"#383838\" rx=\"2\" ry=\"2\" style=\"stroke: #383838; stroke-width: 1.0;\"/></a><!--MD5=[9f84cee7ab5815f1069b03cb80caba2f]\n",
       "@startuml\r\n",
       "skinparam ranksep 10\r\n",
       "skinparam rectangle {\r\n",
       " backgroundColor<<block>> LightGreen\r\n",
       "}\r\n",
       "skinparam linetype ortho\r\n",
       "skinparam monochrome true\r\n",
       "skinparam classbackgroundcolor white\r\n",
       "skinparam shadowing false\r\n",
       "skinparam wrapWidth 300\r\n",
       "hide circle\r\n",
       "\r\n",
       "package \"AnalysisTest\" as E1  [[psysml:e1dfe890-ec15-4931-b288-05d8c66f0e23 ]]  {\r\n",
       "rec def \"V\" as E2  <<(T,blue) part  def>> [[psysml:e8de7c06-a552-45cc-9ef9-bdca622a4dc8 ]] {\r\n",
       "}\r\n",
       "rec usage \"vv: V\" as E3  [[psysml:e405eddc-d04c-43ee-94c7-f68d6bd4037b ]] {\r\n",
       "}\r\n",
       "comp def \"AnalysisObjective\" as E4  <<(T,blue) requirement  def>> [[psysml:61935c6a-e9b2-427b-8e93-9f8ea2764a4f ]] {\r\n",
       "...\r\n",
       "- -\r\n",
       "}\r\n",
       "rec def \"AnalysisCase\" as E5 << analysis def>> [[psysml:5016a817-b8b6-43b2-a1c9-71130e2545c5 ]] {\r\n",
       "}\r\n",
       "rec def \"AnalysisPlan\" as E6 << analysis def>> [[psysml:0d28215e-abd0-4258-9ce4-d7487f47f154 ]] {\r\n",
       "comp usage \" <U+00AB>objective<U+00BB> \" as E7 [[psysml:317ace64-a3b7-4095-b75a-9c551641bbd2 ]] {\r\n",
       "...\r\n",
       "- -\r\n",
       "}\r\n",
       "rec usage \"analysisCase\" as E8 << analysis>> [[psysml:0f757ff2-27a2-40d5-a25f-af43358ff77a ]] {\r\n",
       "}\r\n",
       "}\r\n",
       "rec usage \"analysisContext\" as E9  [[psysml:b24749b9-9e77-4740-bd21-7fc3830bb957 ]] {\r\n",
       "rec usage \"analysisPlan\" as E10 << analysis>> [[psysml:9d8d7d87-8dd4-470f-9d18-cffbc3763f0c ]] {\r\n",
       "}\r\n",
       "}\r\n",
       "}\r\n",
       "E5 ..> E2 [[psysml:4ce798b4-e7f7-45ac-94f6-a9dc23ec95c2 ]] : <<subject>>\r\n",
       "E6 ..> E2 [[psysml:38ee38e5-fe2f-49e8-a238-8ef961814591 ]] : <<subject>>\r\n",
       "E8 - -:|> E5 [[psysml:cf5e8ef0-758f-412b-8419-a299a9750eac ]] \r\n",
       "E10 - -:|> E6 [[psysml:4172c94c-9fb8-4464-b137-e530fc31134b ]] \r\n",
       "@enduml\r\n",
       "\n",
       "PlantUML version 1.2020.13(Sat Jun 13 12:26:38 UTC 2020)\n",
       "(EPL source distribution)\n",
       "Java Runtime: OpenJDK Runtime Environment\n",
       "JVM: OpenJDK 64-Bit Server VM\n",
       "Default Encoding: UTF-8\n",
       "Language: en\n",
       "Country: null\n",
       "--></g></svg>"
      ]
     },
     "execution_count": 54,
     "metadata": {},
     "output_type": "execute_result"
    }
   ],
   "source": [
    "%viz --style=\"ORTHOLINE\" --view=\"Interconnection\" \"AnalysisTest\""
   ]
  },
  {
   "cell_type": "code",
   "execution_count": 55,
   "id": "f7183f60",
   "metadata": {
    "execution": {
     "iopub.execute_input": "2022-02-05T16:52:05.374226Z",
     "iopub.status.busy": "2022-02-05T16:52:05.373830Z",
     "iopub.status.idle": "2022-02-05T16:52:05.412307Z",
     "shell.execute_reply": "2022-02-05T16:52:05.411126Z"
    }
   },
   "outputs": [
    {
     "data": {
      "image/svg+xml": [
       "<?xml version=\"1.0\" encoding=\"UTF-8\" standalone=\"no\"?><svg xmlns=\"http://www.w3.org/2000/svg\" xmlns:xlink=\"http://www.w3.org/1999/xlink\" contentScriptType=\"application/ecmascript\" contentStyleType=\"text/css\" height=\"233px\" preserveAspectRatio=\"none\" style=\"width:649px;height:233px;\" version=\"1.1\" viewBox=\"0 0 649 233\" width=\"649px\" zoomAndPan=\"magnify\"><defs/><g><!--MD5=[fbc87193dbaf4d95561dea2c320d4a47]\n",
       "cluster E1--><a href=\"psysml:5016a817-b8b6-43b2-a1c9-71130e2545c5\" target=\"_top\" title=\"psysml:5016a817-b8b6-43b2-a1c9-71130e2545c5\" xlink:actuate=\"onRequest\" xlink:href=\"psysml:5016a817-b8b6-43b2-a1c9-71130e2545c5\" xlink:show=\"new\" xlink:title=\"psysml:5016a817-b8b6-43b2-a1c9-71130e2545c5\" xlink:type=\"simple\"><rect fill=\"#FFFFFF\" height=\"122\" id=\"E1\" style=\"stroke: #383838; stroke-width: 1.5;\" width=\"146\" x=\"7\" y=\"42.0986\"/><rect fill=\"#F8F8F8\" height=\"37.9375\" style=\"stroke: #383838; stroke-width: 1.5;\" width=\"146\" x=\"7\" y=\"42.0986\"/><text fill=\"#000000\" font-family=\"sans-serif\" font-size=\"12\" font-style=\"italic\" lengthAdjust=\"spacingAndGlyphs\" textLength=\"88\" x=\"36\" y=\"58.2373\">«analysis def»</text><text fill=\"#000000\" font-family=\"sans-serif\" font-size=\"12\" lengthAdjust=\"spacingAndGlyphs\" textLength=\"81\" x=\"39.5\" y=\"72.2061\">AnalysisCase</text></a><!--MD5=[f6df4d0ebaf0b5dfb2ced0ae5af7c670]\n",
       "cluster E4--><a href=\"psysml:0d28215e-abd0-4258-9ce4-d7487f47f154\" target=\"_top\" title=\"psysml:0d28215e-abd0-4258-9ce4-d7487f47f154\" xlink:actuate=\"onRequest\" xlink:href=\"psysml:0d28215e-abd0-4258-9ce4-d7487f47f154\" xlink:show=\"new\" xlink:title=\"psysml:0d28215e-abd0-4258-9ce4-d7487f47f154\" xlink:type=\"simple\"><rect fill=\"#FFFFFF\" height=\"180\" id=\"E4\" style=\"stroke: #383838; stroke-width: 1.5;\" width=\"262\" x=\"216\" y=\"42.0986\"/><rect fill=\"#F8F8F8\" height=\"37.9375\" style=\"stroke: #383838; stroke-width: 1.5;\" width=\"262\" x=\"216\" y=\"42.0986\"/><text fill=\"#000000\" font-family=\"sans-serif\" font-size=\"12\" font-style=\"italic\" lengthAdjust=\"spacingAndGlyphs\" textLength=\"88\" x=\"303\" y=\"58.2373\">«analysis def»</text><text fill=\"#000000\" font-family=\"sans-serif\" font-size=\"12\" lengthAdjust=\"spacingAndGlyphs\" textLength=\"77\" x=\"308.5\" y=\"72.2061\">AnalysisPlan</text></a><!--MD5=[14e3b0961a2654348d326746436168a1]\n",
       "cluster E6--><a href=\"psysml:0f757ff2-27a2-40d5-a25f-af43358ff77a\" target=\"_top\" title=\"psysml:0f757ff2-27a2-40d5-a25f-af43358ff77a\" xlink:actuate=\"onRequest\" xlink:href=\"psysml:0f757ff2-27a2-40d5-a25f-af43358ff77a\" xlink:show=\"new\" xlink:title=\"psysml:0f757ff2-27a2-40d5-a25f-af43358ff77a\" xlink:type=\"simple\"><rect fill=\"#FFFFFF\" height=\"110.5\" id=\"E6\" rx=\"10\" ry=\"10\" style=\"stroke: #383838; stroke-width: 1.5;\" width=\"138\" x=\"299\" y=\"81.5986\"/><rect fill=\"#F8F8F8\" height=\"37.9375\" rx=\"10\" ry=\"10\" style=\"stroke: #F8F8F8; stroke-width: 1.5;\" width=\"138\" x=\"299\" y=\"81.5986\"/><rect fill=\"#F8F8F8\" height=\"10\" style=\"stroke: #F8F8F8; stroke-width: 1.5;\" width=\"138\" x=\"299\" y=\"109.5361\"/><rect fill=\"none\" height=\"110.5\" id=\"E6\" rx=\"10\" ry=\"10\" style=\"stroke: #383838; stroke-width: 1.5;\" width=\"138\" x=\"299\" y=\"81.5986\"/><text fill=\"#000000\" font-family=\"sans-serif\" font-size=\"12\" font-style=\"italic\" lengthAdjust=\"spacingAndGlyphs\" textLength=\"64\" x=\"336\" y=\"97.7373\">«analysis»</text><text fill=\"#000000\" font-family=\"sans-serif\" font-size=\"12\" lengthAdjust=\"spacingAndGlyphs\" textLength=\"81\" x=\"327.5\" y=\"111.7061\">analysisCase</text><line style=\"stroke: #383838; stroke-width: 1.0;\" x1=\"299\" x2=\"437\" y1=\"119.5361\" y2=\"119.5361\"/></a><!--MD5=[a84b4591f868c1fa4a211716a82f2f0d]\n",
       "cluster E10--><a href=\"psysml:9d8d7d87-8dd4-470f-9d18-cffbc3763f0c\" target=\"_top\" title=\"psysml:9d8d7d87-8dd4-470f-9d18-cffbc3763f0c\" xlink:actuate=\"onRequest\" xlink:href=\"psysml:9d8d7d87-8dd4-470f-9d18-cffbc3763f0c\" xlink:show=\"new\" xlink:title=\"psysml:9d8d7d87-8dd4-470f-9d18-cffbc3763f0c\" xlink:type=\"simple\"><rect fill=\"#FFFFFF\" height=\"122\" id=\"E10\" rx=\"10\" ry=\"10\" style=\"stroke: #383838; stroke-width: 1.5;\" width=\"130\" x=\"507\" y=\"42.0986\"/><rect fill=\"#F8F8F8\" height=\"37.9375\" rx=\"10\" ry=\"10\" style=\"stroke: #F8F8F8; stroke-width: 1.5;\" width=\"130\" x=\"507\" y=\"42.0986\"/><rect fill=\"#F8F8F8\" height=\"10\" style=\"stroke: #F8F8F8; stroke-width: 1.5;\" width=\"130\" x=\"507\" y=\"70.0361\"/><rect fill=\"none\" height=\"122\" id=\"E10\" rx=\"10\" ry=\"10\" style=\"stroke: #383838; stroke-width: 1.5;\" width=\"130\" x=\"507\" y=\"42.0986\"/><text fill=\"#000000\" font-family=\"sans-serif\" font-size=\"12\" font-style=\"italic\" lengthAdjust=\"spacingAndGlyphs\" textLength=\"64\" x=\"540\" y=\"58.2373\">«analysis»</text><text fill=\"#000000\" font-family=\"sans-serif\" font-size=\"12\" lengthAdjust=\"spacingAndGlyphs\" textLength=\"77\" x=\"533.5\" y=\"72.2061\">analysisPlan</text><line style=\"stroke: #383838; stroke-width: 1.0;\" x1=\"507\" x2=\"637\" y1=\"80.0361\" y2=\"80.0361\"/></a><text fill=\"#000000\" font-family=\"sans-serif\" font-size=\"14\" lengthAdjust=\"spacingAndGlyphs\" textLength=\"7\" x=\"76.5\" y=\"20.7969\">v</text><rect fill=\"#383838\" height=\"12\" style=\"stroke: #F8F8F8; stroke-width: 1.5;\" width=\"12\" x=\"74\" y=\"36.0986\"/><text fill=\"#000000\" font-family=\"sans-serif\" font-size=\"14\" lengthAdjust=\"spacingAndGlyphs\" textLength=\"39\" x=\"60.5\" y=\"183.0938\">result</text><rect fill=\"#383838\" height=\"12\" style=\"stroke: #F8F8F8; stroke-width: 1.5;\" width=\"12\" x=\"74\" y=\"158.0986\"/><text fill=\"#000000\" font-family=\"sans-serif\" font-size=\"14\" lengthAdjust=\"spacingAndGlyphs\" textLength=\"7\" x=\"230.5\" y=\"20.7969\">v</text><rect fill=\"#383838\" height=\"12\" style=\"stroke: #F8F8F8; stroke-width: 1.5;\" width=\"12\" x=\"228\" y=\"36.0986\"/><text fill=\"#000000\" font-family=\"sans-serif\" font-size=\"14\" lengthAdjust=\"spacingAndGlyphs\" textLength=\"39\" x=\"458.5\" y=\"183.0938\">result</text><rect fill=\"#383838\" height=\"12\" style=\"stroke: #F8F8F8; stroke-width: 1.5;\" width=\"12\" x=\"472\" y=\"158.0986\"/><text fill=\"#000000\" font-family=\"sans-serif\" font-size=\"14\" lengthAdjust=\"spacingAndGlyphs\" textLength=\"37\" x=\"349.5\" y=\"211.0938\">mass</text><rect fill=\"#383838\" height=\"12\" style=\"stroke: #F8F8F8; stroke-width: 1.5;\" width=\"12\" x=\"362\" y=\"186.0986\"/><text fill=\"#000000\" font-family=\"sans-serif\" font-size=\"14\" lengthAdjust=\"spacingAndGlyphs\" textLength=\"7\" x=\"364.5\" y=\"60.2969\">v</text><rect fill=\"#383838\" height=\"12\" style=\"stroke: #F8F8F8; stroke-width: 1.5;\" width=\"12\" x=\"362\" y=\"75.5986\"/><text fill=\"#000000\" font-family=\"sans-serif\" font-size=\"14\" lengthAdjust=\"spacingAndGlyphs\" textLength=\"7\" x=\"567.5\" y=\"20.7969\">v</text><rect fill=\"#383838\" height=\"12\" style=\"stroke: #F8F8F8; stroke-width: 1.5;\" width=\"12\" x=\"565\" y=\"36.0986\"/><text fill=\"#000000\" font-family=\"sans-serif\" font-size=\"14\" lengthAdjust=\"spacingAndGlyphs\" textLength=\"39\" x=\"505.5\" y=\"183.0938\">result</text><rect fill=\"#383838\" height=\"12\" style=\"stroke: #F8F8F8; stroke-width: 1.5;\" width=\"12\" x=\"519\" y=\"158.0986\"/><!--MD5=[f88a552376c5a038d8bece2305e3d99e]\n",
       "@startuml\r\n",
       "skinparam ranksep 8\r\n",
       "skinparam linetype ortho\r\n",
       "skinparam monochrome true\r\n",
       "skinparam classbackgroundcolor white\r\n",
       "skinparam shadowing false\r\n",
       "skinparam wrapWidth 300\r\n",
       "hide circle\r\n",
       "\r\n",
       "rec def \"AnalysisCase\" as E1 << analysis def>> [[psysml:5016a817-b8b6-43b2-a1c9-71130e2545c5 ]] {\r\n",
       "portin \"v\" as E2  [[psysml:164c7fef-cc79-47d0-81ef-11274fabe5a7 ]] \r\n",
       "portout \"result\" as E3  [[psysml:6e4742d8-6cff-49ed-9a2e-48d7290da8ea ]] \r\n",
       "}\r\n",
       "\r\n",
       "rec def \"AnalysisPlan\" as E4 << analysis def>> [[psysml:0d28215e-abd0-4258-9ce4-d7487f47f154 ]] {\r\n",
       "portin \"v\" as E5  [[psysml:7943f1e5-2d26-4cd3-a00e-7357be36b5d6 ]] \r\n",
       "rec usage \"analysisCase\" as E6 << analysis>> [[psysml:0f757ff2-27a2-40d5-a25f-af43358ff77a ]] {\r\n",
       "portout \"mass\" as E7  [[psysml:ec31ed6f-aea4-4ab3-8935-1d2e29a82c61 ]] \r\n",
       "portin \"v\" as E8  [[psysml:1b55d686-bd3b-4923-8e60-8b313cbf92b9 ]] \r\n",
       "}\r\n",
       "\r\n",
       "portout \"result\" as E9  [[psysml:301e1961-b4b0-4f3f-9bd8-8820561614e6 ]] \r\n",
       "}\r\n",
       "\r\n",
       "rec usage \"analysisPlan\" as E10 << analysis>> [[psysml:9d8d7d87-8dd4-470f-9d18-cffbc3763f0c ]] {\r\n",
       "portin \"v\" as E11  [[psysml:fb21399e-f4a1-4dd2-99a6-b4e6906605c8 ]] \r\n",
       "portout \"result\" as E12  [[psysml:db81a387-1cd1-4bdf-be56-65aa7adff2a2 ]] \r\n",
       "}\r\n",
       "\r\n",
       "@enduml\r\n",
       "\n",
       "PlantUML version 1.2020.13(Sat Jun 13 12:26:38 UTC 2020)\n",
       "(EPL source distribution)\n",
       "Java Runtime: OpenJDK Runtime Environment\n",
       "JVM: OpenJDK 64-Bit Server VM\n",
       "Default Encoding: UTF-8\n",
       "Language: en\n",
       "Country: null\n",
       "--></g></svg>"
      ]
     },
     "execution_count": 55,
     "metadata": {},
     "output_type": "execute_result"
    }
   ],
   "source": [
    "%viz --style=\"ORTHOLINE\" --view=\"Action\" \"AnalysisTest\""
   ]
  },
  {
   "cell_type": "code",
   "execution_count": 56,
   "id": "8f5990a5",
   "metadata": {
    "execution": {
     "iopub.execute_input": "2022-02-05T16:52:05.462013Z",
     "iopub.status.busy": "2022-02-05T16:52:05.461616Z",
     "iopub.status.idle": "2022-02-05T16:52:05.466239Z",
     "shell.execute_reply": "2022-02-05T16:52:05.465912Z"
    }
   },
   "outputs": [
    {
     "data": {
      "image/svg+xml": [
       "<?xml version=\"1.0\" encoding=\"UTF-8\" standalone=\"no\"?><svg xmlns=\"http://www.w3.org/2000/svg\" xmlns:xlink=\"http://www.w3.org/1999/xlink\" contentScriptType=\"application/ecmascript\" contentStyleType=\"text/css\" height=\"12px\" preserveAspectRatio=\"none\" style=\"width:12px;height:12px;\" version=\"1.1\" viewBox=\"0 0 12 12\" width=\"12px\" zoomAndPan=\"magnify\"><defs/><g><!--MD5=[30fc1de5121c5abddedd55b44417fde8]\n",
       "@startuml\r\n",
       "skinparam roundcorner 20\r\n",
       "skinparam BoxPadding 20\r\n",
       "skinparam SequenceBoxBackgroundColor #white\r\n",
       "skinparam style strictuml\r\n",
       "skinparam maxMessageSize 100\r\n",
       "skinparam linetype ortho\r\n",
       "skinparam monochrome true\r\n",
       "skinparam classbackgroundcolor white\r\n",
       "skinparam shadowing false\r\n",
       "skinparam wrapWidth 300\r\n",
       "hide circle\r\n",
       "\r\n",
       "@enduml\r\n",
       "\n",
       "PlantUML version 1.2020.13(Sat Jun 13 12:26:38 UTC 2020)\n",
       "(EPL source distribution)\n",
       "Java Runtime: OpenJDK Runtime Environment\n",
       "JVM: OpenJDK 64-Bit Server VM\n",
       "Default Encoding: UTF-8\n",
       "Language: en\n",
       "Country: null\n",
       "--></g></svg>"
      ]
     },
     "execution_count": 56,
     "metadata": {},
     "output_type": "execute_result"
    }
   ],
   "source": [
    "%viz --style=\"ORTHOLINE\" --view=\"Sequence\" \"AnalysisTest\""
   ]
  },
  {
   "cell_type": "code",
   "execution_count": 57,
   "id": "8dac6eb6",
   "metadata": {
    "execution": {
     "iopub.execute_input": "2022-02-05T16:52:05.516328Z",
     "iopub.status.busy": "2022-02-05T16:52:05.515932Z",
     "iopub.status.idle": "2022-02-05T16:52:05.583170Z",
     "shell.execute_reply": "2022-02-05T16:52:05.582803Z"
    }
   },
   "outputs": [
    {
     "data": {
      "image/svg+xml": [
       "<?xml version=\"1.0\" encoding=\"UTF-8\" standalone=\"no\"?><svg xmlns=\"http://www.w3.org/2000/svg\" xmlns:xlink=\"http://www.w3.org/1999/xlink\" contentScriptType=\"application/ecmascript\" contentStyleType=\"text/css\" height=\"685px\" preserveAspectRatio=\"none\" style=\"width:380px;height:685px;\" version=\"1.1\" viewBox=\"0 0 380 685\" width=\"380px\" zoomAndPan=\"magnify\"><defs/><g><!--MD5=[fbc87193dbaf4d95561dea2c320d4a47]\n",
       "cluster E1--><a href=\"psysml:e1dfe890-ec15-4931-b288-05d8c66f0e23\" target=\"_top\" title=\"psysml:e1dfe890-ec15-4931-b288-05d8c66f0e23\" xlink:actuate=\"onRequest\" xlink:href=\"psysml:e1dfe890-ec15-4931-b288-05d8c66f0e23\" xlink:show=\"new\" xlink:title=\"psysml:e1dfe890-ec15-4931-b288-05d8c66f0e23\" xlink:type=\"simple\"><polygon fill=\"#FFFFFF\" points=\"16,6,108,6,115,28.2969,358,28.2969,358,673,16,673,16,6\" style=\"stroke: #000000; stroke-width: 1.5;\"/><line style=\"stroke: #000000; stroke-width: 1.5;\" x1=\"16\" x2=\"115\" y1=\"28.2969\" y2=\"28.2969\"/><text fill=\"#000000\" font-family=\"sans-serif\" font-size=\"14\" font-weight=\"bold\" lengthAdjust=\"spacingAndGlyphs\" textLength=\"86\" x=\"20\" y=\"20.9951\">AnalysisTest</text></a><!--MD5=[14e3b0961a2654348d326746436168a1]\n",
       "cluster E6--><a href=\"psysml:0d28215e-abd0-4258-9ce4-d7487f47f154\" target=\"_top\" title=\"psysml:0d28215e-abd0-4258-9ce4-d7487f47f154\" xlink:actuate=\"onRequest\" xlink:href=\"psysml:0d28215e-abd0-4258-9ce4-d7487f47f154\" xlink:show=\"new\" xlink:title=\"psysml:0d28215e-abd0-4258-9ce4-d7487f47f154\" xlink:type=\"simple\"><rect fill=\"#FFFFFF\" height=\"136\" id=\"E6\" style=\"stroke: #383838; stroke-width: 1.5;\" width=\"278\" x=\"48\" y=\"267\"/><rect fill=\"#F8F8F8\" height=\"37.9375\" style=\"stroke: #383838; stroke-width: 1.5;\" width=\"278\" x=\"48\" y=\"267\"/><text fill=\"#000000\" font-family=\"sans-serif\" font-size=\"12\" font-style=\"italic\" lengthAdjust=\"spacingAndGlyphs\" textLength=\"88\" x=\"143\" y=\"283.1387\">«analysis def»</text><text fill=\"#000000\" font-family=\"sans-serif\" font-size=\"12\" lengthAdjust=\"spacingAndGlyphs\" textLength=\"77\" x=\"148.5\" y=\"297.1074\">AnalysisPlan</text></a><!--MD5=[b4997ac47864f28c2f74865a473b2911]\n",
       "class E2--><a href=\"psysml:e8de7c06-a552-45cc-9ef9-bdca622a4dc8\" target=\"_top\" title=\"psysml:e8de7c06-a552-45cc-9ef9-bdca622a4dc8\" xlink:actuate=\"onRequest\" xlink:href=\"psysml:e8de7c06-a552-45cc-9ef9-bdca622a4dc8\" xlink:show=\"new\" xlink:title=\"psysml:e8de7c06-a552-45cc-9ef9-bdca622a4dc8\" xlink:type=\"simple\"><rect fill=\"#FFFFFF\" height=\"75.5469\" id=\"E2\" style=\"stroke: #383838; stroke-width: 1.5;\" width=\"70\" x=\"179\" y=\"581\"/><text fill=\"#000000\" font-family=\"sans-serif\" font-size=\"12\" font-style=\"italic\" lengthAdjust=\"spacingAndGlyphs\" textLength=\"68\" x=\"180\" y=\"597.1387\">«part  def»</text><text fill=\"#000000\" font-family=\"sans-serif\" font-size=\"12\" lengthAdjust=\"spacingAndGlyphs\" textLength=\"8\" x=\"210\" y=\"611.1074\">V</text><line style=\"stroke: #383838; stroke-width: 1.5;\" x1=\"180\" x2=\"248\" y1=\"618.9375\" y2=\"618.9375\"/><text fill=\"#000000\" font-family=\"sans-serif\" font-size=\"11\" lengthAdjust=\"spacingAndGlyphs\" textLength=\"11\" x=\"185\" y=\"649.9526\">m</text><line style=\"stroke: #383838; stroke-width: 1.0;\" x1=\"180\" x2=\"183\" y1=\"633.3398\" y2=\"633.3398\"/><text fill=\"#000000\" font-family=\"sans-serif\" font-size=\"11\" lengthAdjust=\"spacingAndGlyphs\" textLength=\"62\" x=\"183\" y=\"636.6479\">references</text><line style=\"stroke: #383838; stroke-width: 1.0;\" x1=\"245\" x2=\"248\" y1=\"633.3398\" y2=\"633.3398\"/></a><!--MD5=[09b614a08d8cba4a07c9adeb5e0fee81]\n",
       "class E3--><a href=\"psysml:e405eddc-d04c-43ee-94c7-f68d6bd4037b\" target=\"_top\" title=\"psysml:e405eddc-d04c-43ee-94c7-f68d6bd4037b\" xlink:actuate=\"onRequest\" xlink:href=\"psysml:e405eddc-d04c-43ee-94c7-f68d6bd4037b\" xlink:show=\"new\" xlink:title=\"psysml:e405eddc-d04c-43ee-94c7-f68d6bd4037b\" xlink:type=\"simple\"><rect fill=\"#FFFFFF\" height=\"45.9375\" id=\"E3\" rx=\"10\" ry=\"10\" style=\"stroke: #383838; stroke-width: 1.5;\" width=\"42\" x=\"297\" y=\"458\"/><text fill=\"#000000\" font-family=\"sans-serif\" font-size=\"12\" font-style=\"italic\" lengthAdjust=\"spacingAndGlyphs\" textLength=\"40\" x=\"298\" y=\"474.1387\">«part»</text><text fill=\"#000000\" font-family=\"sans-serif\" font-size=\"12\" lengthAdjust=\"spacingAndGlyphs\" textLength=\"28\" x=\"302\" y=\"488.1074\">vv: V</text><line style=\"stroke: #383838; stroke-width: 1.5;\" x1=\"298\" x2=\"338\" y1=\"495.9375\" y2=\"495.9375\"/></a><!--MD5=[ebbe1d658d1005bcc118a6aa81145e00]\n",
       "class E4--><a href=\"psysml:61935c6a-e9b2-427b-8e93-9f8ea2764a4f\" target=\"_top\" title=\"psysml:61935c6a-e9b2-427b-8e93-9f8ea2764a4f\" xlink:actuate=\"onRequest\" xlink:href=\"psysml:61935c6a-e9b2-427b-8e93-9f8ea2764a4f\" xlink:show=\"new\" xlink:title=\"psysml:61935c6a-e9b2-427b-8e93-9f8ea2764a4f\" xlink:type=\"simple\"><rect fill=\"#FFFFFF\" height=\"66.7422\" id=\"E4\" style=\"stroke: #383838; stroke-width: 1.5;\" width=\"121\" x=\"197.5\" y=\"41\"/><text fill=\"#000000\" font-family=\"sans-serif\" font-size=\"12\" font-style=\"italic\" lengthAdjust=\"spacingAndGlyphs\" textLength=\"119\" x=\"198.5\" y=\"57.1387\">«requirement  def»</text><text fill=\"#000000\" font-family=\"sans-serif\" font-size=\"12\" lengthAdjust=\"spacingAndGlyphs\" textLength=\"107\" x=\"204.5\" y=\"71.1074\">AnalysisObjective</text><line style=\"stroke: #383838; stroke-width: 1.5;\" x1=\"198.5\" x2=\"317.5\" y1=\"78.9375\" y2=\"78.9375\"/><text fill=\"#000000\" font-family=\"sans-serif\" font-size=\"11\" lengthAdjust=\"spacingAndGlyphs\" textLength=\"12\" x=\"203.5\" y=\"93.1479\">...</text><line style=\"stroke: #383838; stroke-width: 1.0;\" x1=\"198.5\" x2=\"317.5\" y1=\"99.7422\" y2=\"99.7422\"/></a><!--MD5=[fd4143e9d270a159db93a4ea2a975926]\n",
       "class E9--><a href=\"psysml:b24749b9-9e77-4740-bd21-7fc3830bb957\" target=\"_top\" title=\"psysml:b24749b9-9e77-4740-bd21-7fc3830bb957\" xlink:actuate=\"onRequest\" xlink:href=\"psysml:b24749b9-9e77-4740-bd21-7fc3830bb957\" xlink:show=\"new\" xlink:title=\"psysml:b24749b9-9e77-4740-bd21-7fc3830bb957\" xlink:type=\"simple\"><rect fill=\"#FFFFFF\" height=\"45.9375\" id=\"E9\" rx=\"10\" ry=\"10\" style=\"stroke: #383838; stroke-width: 1.5;\" width=\"108\" x=\"32\" y=\"51.5\"/><text fill=\"#000000\" font-family=\"sans-serif\" font-size=\"12\" font-style=\"italic\" lengthAdjust=\"spacingAndGlyphs\" textLength=\"40\" x=\"66\" y=\"67.6387\">«part»</text><text fill=\"#000000\" font-family=\"sans-serif\" font-size=\"12\" lengthAdjust=\"spacingAndGlyphs\" textLength=\"98\" x=\"35\" y=\"81.6074\">analysisContext</text><line style=\"stroke: #383838; stroke-width: 1.5;\" x1=\"33\" x2=\"139\" y1=\"89.4375\" y2=\"89.4375\"/></a><g id=\"E1.E5\"><a href=\"psysml:5016a817-b8b6-43b2-a1c9-71130e2545c5\" target=\"_top\" title=\"psysml:5016a817-b8b6-43b2-a1c9-71130e2545c5\" xlink:actuate=\"onRequest\" xlink:href=\"psysml:5016a817-b8b6-43b2-a1c9-71130e2545c5\" xlink:show=\"new\" xlink:title=\"psysml:5016a817-b8b6-43b2-a1c9-71130e2545c5\" xlink:type=\"simple\"><rect fill=\"#FFFFFF\" height=\"42.9375\" id=\"E5\" style=\"stroke: #383838; stroke-width: 1.5;\" width=\"95\" x=\"166.5\" y=\"459.5\"/><rect fill=\"#F8F8F8\" height=\"37.9375\" style=\"stroke: #383838; stroke-width: 1.5;\" width=\"95\" x=\"166.5\" y=\"459.5\"/><text fill=\"#000000\" font-family=\"sans-serif\" font-size=\"12\" font-style=\"italic\" lengthAdjust=\"spacingAndGlyphs\" textLength=\"88\" x=\"170\" y=\"475.6387\">«analysis def»</text><text fill=\"#000000\" font-family=\"sans-serif\" font-size=\"12\" lengthAdjust=\"spacingAndGlyphs\" textLength=\"81\" x=\"173.5\" y=\"489.6074\">AnalysisCase</text></a></g><!--MD5=[2156ba9850f5573cc1fc38a6a4b2f02b]\n",
       "class E7--><a href=\"psysml:317ace64-a3b7-4095-b75a-9c551641bbd2\" target=\"_top\" title=\"psysml:317ace64-a3b7-4095-b75a-9c551641bbd2\" xlink:actuate=\"onRequest\" xlink:href=\"psysml:317ace64-a3b7-4095-b75a-9c551641bbd2\" xlink:show=\"new\" xlink:title=\"psysml:317ace64-a3b7-4095-b75a-9c551641bbd2\" xlink:type=\"simple\"><rect fill=\"#FFFFFF\" height=\"52.7734\" id=\"E7\" rx=\"10\" ry=\"10\" style=\"stroke: #383838; stroke-width: 1.5;\" width=\"84\" x=\"218\" y=\"326\"/><text fill=\"#000000\" font-family=\"sans-serif\" font-size=\"12\" lengthAdjust=\"spacingAndGlyphs\" textLength=\"70\" x=\"225\" y=\"342.1387\">«objective»</text><line style=\"stroke: #383838; stroke-width: 1.5;\" x1=\"219\" x2=\"301\" y1=\"349.9688\" y2=\"349.9688\"/><text fill=\"#000000\" font-family=\"sans-serif\" font-size=\"11\" lengthAdjust=\"spacingAndGlyphs\" textLength=\"12\" x=\"224\" y=\"364.1792\">...</text><line style=\"stroke: #383838; stroke-width: 1.0;\" x1=\"219\" x2=\"301\" y1=\"370.7734\" y2=\"370.7734\"/></a><g id=\"E1.E6.E8\"><a href=\"psysml:0f757ff2-27a2-40d5-a25f-af43358ff77a\" target=\"_top\" title=\"psysml:0f757ff2-27a2-40d5-a25f-af43358ff77a\" xlink:actuate=\"onRequest\" xlink:href=\"psysml:0f757ff2-27a2-40d5-a25f-af43358ff77a\" xlink:show=\"new\" xlink:title=\"psysml:0f757ff2-27a2-40d5-a25f-af43358ff77a\" xlink:type=\"simple\"><rect fill=\"#FFFFFF\" height=\"42.9375\" id=\"E8\" rx=\"10\" ry=\"10\" style=\"stroke: #383838; stroke-width: 1.5;\" width=\"92\" x=\"91\" y=\"331\"/><rect fill=\"#F8F8F8\" height=\"37.9375\" rx=\"10\" ry=\"10\" style=\"stroke: #F8F8F8; stroke-width: 1.5;\" width=\"92\" x=\"91\" y=\"331\"/><rect fill=\"#F8F8F8\" height=\"10\" style=\"stroke: #F8F8F8; stroke-width: 1.5;\" width=\"92\" x=\"91\" y=\"358.9375\"/><rect fill=\"none\" height=\"42.9375\" id=\"E8\" rx=\"10\" ry=\"10\" style=\"stroke: #383838; stroke-width: 1.5;\" width=\"92\" x=\"91\" y=\"331\"/><text fill=\"#000000\" font-family=\"sans-serif\" font-size=\"12\" font-style=\"italic\" lengthAdjust=\"spacingAndGlyphs\" textLength=\"64\" x=\"105\" y=\"347.1387\">«analysis»</text><text fill=\"#000000\" font-family=\"sans-serif\" font-size=\"12\" lengthAdjust=\"spacingAndGlyphs\" textLength=\"81\" x=\"96.5\" y=\"361.1074\">analysisCase</text></a></g><g id=\"E1.E10\"><a href=\"psysml:9d8d7d87-8dd4-470f-9d18-cffbc3763f0c\" target=\"_top\" title=\"psysml:9d8d7d87-8dd4-470f-9d18-cffbc3763f0c\" xlink:actuate=\"onRequest\" xlink:href=\"psysml:9d8d7d87-8dd4-470f-9d18-cffbc3763f0c\" xlink:show=\"new\" xlink:title=\"psysml:9d8d7d87-8dd4-470f-9d18-cffbc3763f0c\" xlink:type=\"simple\"><rect fill=\"#FFFFFF\" height=\"42.9375\" id=\"E10\" rx=\"10\" ry=\"10\" style=\"stroke: #383838; stroke-width: 1.5;\" width=\"88\" x=\"37\" y=\"169\"/><rect fill=\"#F8F8F8\" height=\"37.9375\" rx=\"10\" ry=\"10\" style=\"stroke: #F8F8F8; stroke-width: 1.5;\" width=\"88\" x=\"37\" y=\"169\"/><rect fill=\"#F8F8F8\" height=\"10\" style=\"stroke: #F8F8F8; stroke-width: 1.5;\" width=\"88\" x=\"37\" y=\"196.9375\"/><rect fill=\"none\" height=\"42.9375\" id=\"E10\" rx=\"10\" ry=\"10\" style=\"stroke: #383838; stroke-width: 1.5;\" width=\"88\" x=\"37\" y=\"169\"/><text fill=\"#000000\" font-family=\"sans-serif\" font-size=\"12\" font-style=\"italic\" lengthAdjust=\"spacingAndGlyphs\" textLength=\"64\" x=\"49\" y=\"185.1387\">«analysis»</text><text fill=\"#000000\" font-family=\"sans-serif\" font-size=\"12\" lengthAdjust=\"spacingAndGlyphs\" textLength=\"77\" x=\"42.5\" y=\"199.1074\">analysisPlan</text></a></g><!--MD5=[05d275557350bfb9b23a4ef7222b4c39]\n",
       "link E3 to E2--><a href=\"psysml:f45a4065-dcd9-4d0e-be10-466e9a1a32d6\" target=\"_top\" title=\"psysml:f45a4065-dcd9-4d0e-be10-466e9a1a32d6\" xlink:actuate=\"onRequest\" xlink:href=\"psysml:f45a4065-dcd9-4d0e-be10-466e9a1a32d6\" xlink:show=\"new\" xlink:title=\"psysml:f45a4065-dcd9-4d0e-be10-466e9a1a32d6\" xlink:type=\"simple\"><path d=\"M318,504.1 C318,543.38 318,619 318,619 C318,619 269.21,619 269.21,619 \" fill=\"none\" id=\"E3-&gt;E2\" style=\"stroke: #383838; stroke-width: 1.0;\"/><polygon fill=\"#FFFFFF\" points=\"249.21,619,268.21,612,268.21,626,249.21,619\" style=\"stroke: #383838; stroke-width: 1.0;\"/><ellipse cx=\"273.91\" cy=\"614\" fill=\"#383838\" rx=\"2\" ry=\"2\" style=\"stroke: #383838; stroke-width: 1.0;\"/><ellipse cx=\"273.91\" cy=\"624\" fill=\"#383838\" rx=\"2\" ry=\"2\" style=\"stroke: #383838; stroke-width: 1.0;\"/></a><!--MD5=[15ebcb19ae302d9b601edb458606d402]\n",
       "link E5 to E2--><a href=\"psysml:4ce798b4-e7f7-45ac-94f6-a9dc23ec95c2\" target=\"_top\" title=\"psysml:4ce798b4-e7f7-45ac-94f6-a9dc23ec95c2\" xlink:actuate=\"onRequest\" xlink:href=\"psysml:4ce798b4-e7f7-45ac-94f6-a9dc23ec95c2\" xlink:show=\"new\" xlink:title=\"psysml:4ce798b4-e7f7-45ac-94f6-a9dc23ec95c2\" xlink:type=\"simple\"><path d=\"M214,502.56 C214,502.56 214,575.93 214,575.93 \" fill=\"none\" id=\"E5-&gt;E2\" style=\"stroke: #383838; stroke-width: 1.0; stroke-dasharray: 7.0,7.0;\"/><polygon fill=\"#383838\" points=\"214,580.93,218,571.93,214,575.93,210,571.93,214,580.93\" style=\"stroke: #383838; stroke-width: 1.0;\"/><text fill=\"#000000\" font-family=\"sans-serif\" font-size=\"13\" lengthAdjust=\"spacingAndGlyphs\" textLength=\"62\" x=\"215\" y=\"547.0669\">«subject»</text></a><!--MD5=[2351f337d6de0f557b50152ba70847b5]\n",
       "link E6 to E2--><a href=\"psysml:38ee38e5-fe2f-49e8-a238-8ef961814591\" target=\"_top\" title=\"psysml:38ee38e5-fe2f-49e8-a238-8ef961814591\" xlink:actuate=\"onRequest\" xlink:href=\"psysml:38ee38e5-fe2f-49e8-a238-8ef961814591\" xlink:show=\"new\" xlink:title=\"psysml:38ee38e5-fe2f-49e8-a238-8ef961814591\" xlink:type=\"simple\"><path d=\"M56,403.1664 C56,403.5754 56,403.9862 56,404.3986 C56,406.0483 56,407.725 56,409.4267 C56,412.8301 56,416.3338 56,419.9225 C56,427.1 56,434.6177 56,442.3545 C56,457.8281 56,474.1781 56,490.435 C56,555.4625 56,619 56,619 C56,619 173.93,619 173.93,619 \" fill=\"none\" id=\"E6-&gt;E2\" style=\"stroke: #383838; stroke-width: 1.0; stroke-dasharray: 7.0,7.0;\"/><polygon fill=\"#383838\" points=\"178.93,619,169.93,615,173.93,619,169.93,623,178.93,619\" style=\"stroke: #383838; stroke-width: 1.0;\"/><text fill=\"#000000\" font-family=\"sans-serif\" font-size=\"13\" lengthAdjust=\"spacingAndGlyphs\" textLength=\"62\" x=\"68\" y=\"485.5669\">«subject»</text></a><!--MD5=[1ccb2481ffa92f8d51a74ee30c51832a]\n",
       "link E8 to E5--><a href=\"psysml:cf5e8ef0-758f-412b-8419-a299a9750eac\" target=\"_top\" title=\"psysml:cf5e8ef0-758f-412b-8419-a299a9750eac\" xlink:actuate=\"onRequest\" xlink:href=\"psysml:cf5e8ef0-758f-412b-8419-a299a9750eac\" xlink:show=\"new\" xlink:title=\"psysml:cf5e8ef0-758f-412b-8419-a299a9750eac\" xlink:type=\"simple\"><path d=\"M174.75,374.01 C174.75,374.01 174.75,439.42 174.75,439.42 \" fill=\"none\" id=\"E8-&gt;E5\" style=\"stroke: #383838; stroke-width: 1.0;\"/><polygon fill=\"#FFFFFF\" points=\"174.75,459.42,167.75,440.42,181.75,440.42,174.75,459.42\" style=\"stroke: #383838; stroke-width: 1.0;\"/><ellipse cx=\"169.75\" cy=\"434.72\" fill=\"#383838\" rx=\"2\" ry=\"2\" style=\"stroke: #383838; stroke-width: 1.0;\"/><ellipse cx=\"179.75\" cy=\"434.72\" fill=\"#383838\" rx=\"2\" ry=\"2\" style=\"stroke: #383838; stroke-width: 1.0;\"/></a><!--MD5=[198716bf12f04006f5c20d61bde6d80d]\n",
       "link E10 to E6--><a href=\"psysml:4172c94c-9fb8-4464-b137-e530fc31134b\" target=\"_top\" title=\"psysml:4172c94c-9fb8-4464-b137-e530fc31134b\" xlink:actuate=\"onRequest\" xlink:href=\"psysml:4172c94c-9fb8-4464-b137-e530fc31134b\" xlink:show=\"new\" xlink:title=\"psysml:4172c94c-9fb8-4464-b137-e530fc31134b\" xlink:type=\"simple\"><path d=\"M56,212.01 C56,222.51 56,235.9831 56,250.4163 C56,254.0245 56,257.6928 56,261.3896 C56,263.2381 56,265.0936 56,266.9524 \" fill=\"none\" id=\"E10-&gt;E6\" style=\"stroke: #383838; stroke-width: 1.0;\"/><polygon fill=\"#FFFFFF\" points=\"56,266.9524,49,247.9524,63,247.9524,56,266.9524\" style=\"stroke: #383838; stroke-width: 1.0;\"/><ellipse cx=\"51\" cy=\"242.2524\" fill=\"#383838\" rx=\"2\" ry=\"2\" style=\"stroke: #383838; stroke-width: 1.0;\"/><ellipse cx=\"61\" cy=\"242.2524\" fill=\"#383838\" rx=\"2\" ry=\"2\" style=\"stroke: #383838; stroke-width: 1.0;\"/></a><!--MD5=[23ac544a70576c3e717098101004234c]\n",
       "reverse link E9 to E10--><a href=\"psysml:9d8d7d87-8dd4-470f-9d18-cffbc3763f0c\" target=\"_top\" title=\"psysml:9d8d7d87-8dd4-470f-9d18-cffbc3763f0c\" xlink:actuate=\"onRequest\" xlink:href=\"psysml:9d8d7d87-8dd4-470f-9d18-cffbc3763f0c\" xlink:show=\"new\" xlink:title=\"psysml:9d8d7d87-8dd4-470f-9d18-cffbc3763f0c\" xlink:type=\"simple\"><path d=\"M81,110.7 C81,110.7 81,168.91 81,168.91 \" fill=\"none\" id=\"E9&lt;-E10\" style=\"stroke: #383838; stroke-width: 1.0;\"/><polygon fill=\"#383838\" points=\"81,97.7,77,103.7,81,109.7,85,103.7,81,97.7\" style=\"stroke: #383838; stroke-width: 1.0;\"/></a><!--MD5=[ee23ac815ab670ca3c6d154653eacd00]\n",
       "@startuml\r\n",
       "skinparam linetype ortho\r\n",
       "skinparam monochrome true\r\n",
       "skinparam classbackgroundcolor white\r\n",
       "skinparam shadowing false\r\n",
       "skinparam wrapWidth 300\r\n",
       "hide circle\r\n",
       "\r\n",
       "package \"AnalysisTest\" as E1  [[psysml:e1dfe890-ec15-4931-b288-05d8c66f0e23 ]]  {\r\n",
       "comp def \"V\" as E2  <<(T,blue) part  def>> [[psysml:e8de7c06-a552-45cc-9ef9-bdca622a4dc8 ]] {\r\n",
       "- - references - -\r\n",
       "m\r\n",
       "}\r\n",
       "comp usage \"vv: V \" as E3  <<(T,blue) part>> [[psysml:e405eddc-d04c-43ee-94c7-f68d6bd4037b ]] {\r\n",
       "}\r\n",
       "comp def \"AnalysisObjective\" as E4  <<(T,blue) requirement  def>> [[psysml:61935c6a-e9b2-427b-8e93-9f8ea2764a4f ]] {\r\n",
       "...\r\n",
       "- -\r\n",
       "}\r\n",
       "rec def \"AnalysisCase\" as E5 << analysis def>> [[psysml:5016a817-b8b6-43b2-a1c9-71130e2545c5 ]] {\r\n",
       "}\r\n",
       "rec def \"AnalysisPlan\" as E6 << analysis def>> [[psysml:0d28215e-abd0-4258-9ce4-d7487f47f154 ]] {\r\n",
       "comp usage \" <U+00AB>objective<U+00BB> \" as E7 [[psysml:317ace64-a3b7-4095-b75a-9c551641bbd2 ]] {\r\n",
       "...\r\n",
       "- -\r\n",
       "}\r\n",
       "rec usage \"analysisCase\" as E8 << analysis>> [[psysml:0f757ff2-27a2-40d5-a25f-af43358ff77a ]] {\r\n",
       "}\r\n",
       "}\r\n",
       "comp usage \"analysisContext \" as E9  <<(T,blue) part>> [[psysml:b24749b9-9e77-4740-bd21-7fc3830bb957 ]] {\r\n",
       "}\r\n",
       "rec usage \"analysisPlan\" as E10 << analysis>> [[psysml:9d8d7d87-8dd4-470f-9d18-cffbc3763f0c ]] {\r\n",
       "}\r\n",
       "}\r\n",
       "E3 - -:|> E2 [[psysml:f45a4065-dcd9-4d0e-be10-466e9a1a32d6 ]] \r\n",
       "E5 ..> E2 [[psysml:4ce798b4-e7f7-45ac-94f6-a9dc23ec95c2 ]] : <<subject>>\r\n",
       "E6 ..> E2 [[psysml:38ee38e5-fe2f-49e8-a238-8ef961814591 ]] : <<subject>>\r\n",
       "E8 - -:|> E5 [[psysml:cf5e8ef0-758f-412b-8419-a299a9750eac ]] \r\n",
       "E10 - -:|> E6 [[psysml:4172c94c-9fb8-4464-b137-e530fc31134b ]] \r\n",
       "E9 *- - E10 [[psysml:9d8d7d87-8dd4-470f-9d18-cffbc3763f0c ]] \r\n",
       "@enduml\r\n",
       "\n",
       "PlantUML version 1.2020.13(Sat Jun 13 12:26:38 UTC 2020)\n",
       "(EPL source distribution)\n",
       "Java Runtime: OpenJDK Runtime Environment\n",
       "JVM: OpenJDK 64-Bit Server VM\n",
       "Default Encoding: UTF-8\n",
       "Language: en\n",
       "Country: null\n",
       "--></g></svg>"
      ]
     },
     "execution_count": 57,
     "metadata": {},
     "output_type": "execute_result"
    }
   ],
   "source": [
    "%viz --style=\"ORTHOLINE\" --view=\"MIXED\" \"AnalysisTest\""
   ]
  }
 ],
 "metadata": {
  "kernelspec": {
   "display_name": "SysML",
   "language": "sysml",
   "name": "sysml"
  },
  "language_info": {
   "codemirror_mode": "sysml",
   "file_extension": ".sysml",
   "mimetype": "text/x-sysml",
   "name": "SysML",
   "pygments_lexer": "java",
   "version": "1.0.0"
  }
 },
 "nbformat": 4,
 "nbformat_minor": 5
}
