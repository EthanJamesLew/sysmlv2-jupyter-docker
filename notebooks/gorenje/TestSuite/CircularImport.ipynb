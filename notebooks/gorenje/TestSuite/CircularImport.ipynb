{
 "cells": [
  {
   "cell_type": "markdown",
   "id": "ca91ac30",
   "metadata": {},
   "source": [
    "# SysML v2 Test Suite\n",
    "\n",
    "This can notebook can be cleared using menu `Edit --> Clear All Outputs` and then all cells can be\n",
    "run using menu `Run --> Run All Cells`.\n",
    "\n",
    "**WARNING**: This file is generated, all modifications here will be ignored.\n"
   ]
  },
  {
   "cell_type": "markdown",
   "id": "e9b2eecc",
   "metadata": {},
   "source": [
    "## File: ../../sysml/src/examples/Import Tests/CircularImport.sysml"
   ]
  },
  {
   "cell_type": "code",
   "execution_count": 1,
   "id": "a2824bdb",
   "metadata": {
    "execution": {
     "iopub.execute_input": "2021-06-30T09:15:05.075159Z",
     "iopub.status.busy": "2021-06-30T09:15:05.073704Z",
     "iopub.status.idle": "2021-06-30T09:15:05.366074Z",
     "shell.execute_reply": "2021-06-30T09:15:05.364604Z"
    }
   },
   "outputs": [
    {
     "data": {
      "text/plain": [
       "Package CircularImport (97ff16d6-227f-4ae8-9468-a4afd1067533)\n"
      ]
     },
     "execution_count": 1,
     "metadata": {},
     "output_type": "execute_result"
    }
   ],
   "source": [
    "package CircularImport {\n",
    "\n",
    "\tpackage P1 {\n",
    "\t\timport P2::*;\n",
    "\t\tpart def A;\n",
    "\t}\n",
    "\tpackage P2 {\n",
    "\t\timport P1::*;\n",
    "\t\tpart def B;\n",
    "\t}\n",
    "\tpackage Test1 {\n",
    "\t\timport P1::*;\n",
    "\t\tpart x: A;\n",
    "\t\tpart y: B;\n",
    "\t}\n",
    "\tpackage Test2 {\n",
    "\t\timport P2::*;\n",
    "\t\tpart x: A;\n",
    "\t\tpart y: B;\n",
    "\t}\n",
    "\t\n",
    "\tpart x: P1::A;\n",
    "\t\n",
    "\t// The following should not fail.\n",
    "\tpart y: P1::B;\n",
    "\t\n",
    "}"
   ]
  },
  {
   "cell_type": "code",
   "execution_count": 2,
   "id": "96ecf61a",
   "metadata": {
    "execution": {
     "iopub.execute_input": "2021-06-30T09:15:05.397294Z",
     "iopub.status.busy": "2021-06-30T09:15:05.394778Z",
     "iopub.status.idle": "2021-06-30T09:15:07.184590Z",
     "shell.execute_reply": "2021-06-30T09:15:07.184073Z"
    }
   },
   "outputs": [
    {
     "data": {
      "image/svg+xml": [
       "<?xml version=\"1.0\" encoding=\"UTF-8\" standalone=\"no\"?><svg xmlns=\"http://www.w3.org/2000/svg\" xmlns:xlink=\"http://www.w3.org/1999/xlink\" contentScriptType=\"application/ecmascript\" contentStyleType=\"text/css\" height=\"303px\" preserveAspectRatio=\"none\" style=\"width:518px;height:303px;\" version=\"1.1\" viewBox=\"0 0 518 303\" width=\"518px\" zoomAndPan=\"magnify\"><defs/><g><!--MD5=[fbc87193dbaf4d95561dea2c320d4a47]\n",
       "cluster E1--><a href=\"psysml:33738fcf-e3ee-4a7e-98d6-e975d5107ba1\" target=\"_top\" title=\"psysml:33738fcf-e3ee-4a7e-98d6-e975d5107ba1\" xlink:actuate=\"onRequest\" xlink:href=\"psysml:33738fcf-e3ee-4a7e-98d6-e975d5107ba1\" xlink:show=\"new\" xlink:title=\"psysml:33738fcf-e3ee-4a7e-98d6-e975d5107ba1\" xlink:type=\"simple\"><polygon fill=\"#FFFFFF\" points=\"16,6,134,6,141,28.2969,496,28.2969,496,291,16,291,16,6\" style=\"stroke: #000000; stroke-width: 1.5;\"/><line style=\"stroke: #000000; stroke-width: 1.5;\" x1=\"16\" x2=\"141\" y1=\"28.2969\" y2=\"28.2969\"/><text fill=\"#000000\" font-family=\"sans-serif\" font-size=\"14\" font-weight=\"bold\" lengthAdjust=\"spacingAndGlyphs\" textLength=\"112\" x=\"20\" y=\"20.9951\">CircularImport</text></a><!--MD5=[e4f7fae6ed58524ba242bb0b0d3be6b7]\n",
       "cluster E2--><a href=\"psysml:130ef6c7-3ccc-43b9-a62a-eb926cce14a9\" target=\"_top\" title=\"psysml:130ef6c7-3ccc-43b9-a62a-eb926cce14a9\" xlink:actuate=\"onRequest\" xlink:href=\"psysml:130ef6c7-3ccc-43b9-a62a-eb926cce14a9\" xlink:show=\"new\" xlink:title=\"psysml:130ef6c7-3ccc-43b9-a62a-eb926cce14a9\" xlink:type=\"simple\"><polygon fill=\"#FFFFFF\" points=\"333,170,359,170,366,192.2969,431,192.2969,431,267,333,267,333,170\" style=\"stroke: #000000; stroke-width: 1.5;\"/><line style=\"stroke: #000000; stroke-width: 1.5;\" x1=\"333\" x2=\"366\" y1=\"192.2969\" y2=\"192.2969\"/><text fill=\"#000000\" font-family=\"sans-serif\" font-size=\"14\" font-weight=\"bold\" lengthAdjust=\"spacingAndGlyphs\" textLength=\"20\" x=\"337\" y=\"184.9951\">P1</text></a><!--MD5=[f6df4d0ebaf0b5dfb2ced0ae5af7c670]\n",
       "cluster E4--><a href=\"psysml:0bc4dbd6-620a-45b9-8d32-94753792e496\" target=\"_top\" title=\"psysml:0bc4dbd6-620a-45b9-8d32-94753792e496\" xlink:actuate=\"onRequest\" xlink:href=\"psysml:0bc4dbd6-620a-45b9-8d32-94753792e496\" xlink:show=\"new\" xlink:title=\"psysml:0bc4dbd6-620a-45b9-8d32-94753792e496\" xlink:type=\"simple\"><polygon fill=\"#FFFFFF\" points=\"81,170,107,170,114,192.2969,179,192.2969,179,267,81,267,81,170\" style=\"stroke: #000000; stroke-width: 1.5;\"/><line style=\"stroke: #000000; stroke-width: 1.5;\" x1=\"81\" x2=\"114\" y1=\"192.2969\" y2=\"192.2969\"/><text fill=\"#000000\" font-family=\"sans-serif\" font-size=\"14\" font-weight=\"bold\" lengthAdjust=\"spacingAndGlyphs\" textLength=\"20\" x=\"85\" y=\"184.9951\">P2</text></a><!--MD5=[14e3b0961a2654348d326746436168a1]\n",
       "cluster E6--><a href=\"psysml:b4043d48-e2a3-4796-9568-6bbff931ebfd\" target=\"_top\" title=\"psysml:b4043d48-e2a3-4796-9568-6bbff931ebfd\" xlink:actuate=\"onRequest\" xlink:href=\"psysml:b4043d48-e2a3-4796-9568-6bbff931ebfd\" xlink:show=\"new\" xlink:title=\"psysml:b4043d48-e2a3-4796-9568-6bbff931ebfd\" xlink:type=\"simple\"><polygon fill=\"#FFFFFF\" points=\"268,49,319,49,326,71.2969,419,71.2969,419,146,268,146,268,49\" style=\"stroke: #000000; stroke-width: 1.5;\"/><line style=\"stroke: #000000; stroke-width: 1.5;\" x1=\"268\" x2=\"326\" y1=\"71.2969\" y2=\"71.2969\"/><text fill=\"#000000\" font-family=\"sans-serif\" font-size=\"14\" font-weight=\"bold\" lengthAdjust=\"spacingAndGlyphs\" textLength=\"45\" x=\"272\" y=\"63.9951\">Test1</text></a><!--MD5=[7f149f147074ac12df2cb0a7728a5fb0]\n",
       "cluster E9--><a href=\"psysml:85a9df72-6515-46a6-853d-c4da844a4980\" target=\"_top\" title=\"psysml:85a9df72-6515-46a6-853d-c4da844a4980\" xlink:actuate=\"onRequest\" xlink:href=\"psysml:85a9df72-6515-46a6-853d-c4da844a4980\" xlink:show=\"new\" xlink:title=\"psysml:85a9df72-6515-46a6-853d-c4da844a4980\" xlink:type=\"simple\"><polygon fill=\"#FFFFFF\" points=\"93,49,144,49,151,71.2969,244,71.2969,244,146,93,146,93,49\" style=\"stroke: #000000; stroke-width: 1.5;\"/><line style=\"stroke: #000000; stroke-width: 1.5;\" x1=\"93\" x2=\"151\" y1=\"71.2969\" y2=\"71.2969\"/><text fill=\"#000000\" font-family=\"sans-serif\" font-size=\"14\" font-weight=\"bold\" lengthAdjust=\"spacingAndGlyphs\" textLength=\"45\" x=\"97\" y=\"63.9951\">Test2</text></a><!--MD5=[49a0ec8f00dab7302a31f22d0f0fe584]\n",
       "class E12--><a href=\"psysml:530a6ae9-7dc1-4851-ab10-936e92c948f7\" target=\"_top\" title=\"psysml:530a6ae9-7dc1-4851-ab10-936e92c948f7\" xlink:actuate=\"onRequest\" xlink:href=\"psysml:530a6ae9-7dc1-4851-ab10-936e92c948f7\" xlink:show=\"new\" xlink:title=\"psysml:530a6ae9-7dc1-4851-ab10-936e92c948f7\" xlink:type=\"simple\"><rect fill=\"#FFFFFF\" height=\"45.9375\" id=\"E12\" rx=\"10\" ry=\"10\" style=\"stroke: #383838; stroke-width: 1.5;\" width=\"42\" x=\"438\" y=\"84\"/><text fill=\"#000000\" font-family=\"sans-serif\" font-size=\"12\" font-style=\"italic\" lengthAdjust=\"spacingAndGlyphs\" textLength=\"40\" x=\"439\" y=\"100.1387\">«part»</text><text fill=\"#000000\" font-family=\"sans-serif\" font-size=\"12\" lengthAdjust=\"spacingAndGlyphs\" textLength=\"22\" x=\"448\" y=\"114.1074\">x: A</text><line style=\"stroke: #383838; stroke-width: 1.5;\" x1=\"439\" x2=\"479\" y1=\"121.9375\" y2=\"121.9375\"/></a><!--MD5=[ee3c913d1a06f366521f9ef512b67efe]\n",
       "class E13--><a href=\"psysml:561bfa55-252f-4783-9fb1-458618dbf236\" target=\"_top\" title=\"psysml:561bfa55-252f-4783-9fb1-458618dbf236\" xlink:actuate=\"onRequest\" xlink:href=\"psysml:561bfa55-252f-4783-9fb1-458618dbf236\" xlink:show=\"new\" xlink:title=\"psysml:561bfa55-252f-4783-9fb1-458618dbf236\" xlink:type=\"simple\"><rect fill=\"#FFFFFF\" height=\"45.9375\" id=\"E13\" rx=\"10\" ry=\"10\" style=\"stroke: #383838; stroke-width: 1.5;\" width=\"42\" x=\"32\" y=\"84\"/><text fill=\"#000000\" font-family=\"sans-serif\" font-size=\"12\" font-style=\"italic\" lengthAdjust=\"spacingAndGlyphs\" textLength=\"40\" x=\"33\" y=\"100.1387\">«part»</text><text fill=\"#000000\" font-family=\"sans-serif\" font-size=\"12\" lengthAdjust=\"spacingAndGlyphs\" textLength=\"22\" x=\"42\" y=\"114.1074\">y: B</text><line style=\"stroke: #383838; stroke-width: 1.5;\" x1=\"33\" x2=\"73\" y1=\"121.9375\" y2=\"121.9375\"/></a><!--MD5=[09b614a08d8cba4a07c9adeb5e0fee81]\n",
       "class E3--><a href=\"psysml:cb0f7157-438a-4ad5-8a96-0def6a248a5a\" target=\"_top\" title=\"psysml:cb0f7157-438a-4ad5-8a96-0def6a248a5a\" xlink:actuate=\"onRequest\" xlink:href=\"psysml:cb0f7157-438a-4ad5-8a96-0def6a248a5a\" xlink:show=\"new\" xlink:title=\"psysml:cb0f7157-438a-4ad5-8a96-0def6a248a5a\" xlink:type=\"simple\"><rect fill=\"#FFFFFF\" height=\"45.9375\" id=\"E3\" style=\"stroke: #383838; stroke-width: 1.5;\" width=\"66\" x=\"349\" y=\"205\"/><text fill=\"#000000\" font-family=\"sans-serif\" font-size=\"12\" font-style=\"italic\" lengthAdjust=\"spacingAndGlyphs\" textLength=\"64\" x=\"350\" y=\"221.1387\">«part def»</text><text fill=\"#000000\" font-family=\"sans-serif\" font-size=\"12\" lengthAdjust=\"spacingAndGlyphs\" textLength=\"8\" x=\"378\" y=\"235.1074\">A</text><line style=\"stroke: #383838; stroke-width: 1.5;\" x1=\"350\" x2=\"414\" y1=\"242.9375\" y2=\"242.9375\"/></a><!--MD5=[270fce915f116d4de14055a7c1d9a0f3]\n",
       "class E5--><a href=\"psysml:fa716e5d-1985-44ef-b151-4b2b4c0691ed\" target=\"_top\" title=\"psysml:fa716e5d-1985-44ef-b151-4b2b4c0691ed\" xlink:actuate=\"onRequest\" xlink:href=\"psysml:fa716e5d-1985-44ef-b151-4b2b4c0691ed\" xlink:show=\"new\" xlink:title=\"psysml:fa716e5d-1985-44ef-b151-4b2b4c0691ed\" xlink:type=\"simple\"><rect fill=\"#FFFFFF\" height=\"45.9375\" id=\"E5\" style=\"stroke: #383838; stroke-width: 1.5;\" width=\"66\" x=\"97\" y=\"205\"/><text fill=\"#000000\" font-family=\"sans-serif\" font-size=\"12\" font-style=\"italic\" lengthAdjust=\"spacingAndGlyphs\" textLength=\"64\" x=\"98\" y=\"221.1387\">«part def»</text><text fill=\"#000000\" font-family=\"sans-serif\" font-size=\"12\" lengthAdjust=\"spacingAndGlyphs\" textLength=\"8\" x=\"126\" y=\"235.1074\">B</text><line style=\"stroke: #383838; stroke-width: 1.5;\" x1=\"98\" x2=\"162\" y1=\"242.9375\" y2=\"242.9375\"/></a><!--MD5=[2156ba9850f5573cc1fc38a6a4b2f02b]\n",
       "class E7--><a href=\"psysml:418b0add-8d91-4a6d-810e-c529e1e5d9c2\" target=\"_top\" title=\"psysml:418b0add-8d91-4a6d-810e-c529e1e5d9c2\" xlink:actuate=\"onRequest\" xlink:href=\"psysml:418b0add-8d91-4a6d-810e-c529e1e5d9c2\" xlink:show=\"new\" xlink:title=\"psysml:418b0add-8d91-4a6d-810e-c529e1e5d9c2\" xlink:type=\"simple\"><rect fill=\"#FFFFFF\" height=\"45.9375\" id=\"E7\" rx=\"10\" ry=\"10\" style=\"stroke: #383838; stroke-width: 1.5;\" width=\"42\" x=\"361\" y=\"84\"/><text fill=\"#000000\" font-family=\"sans-serif\" font-size=\"12\" font-style=\"italic\" lengthAdjust=\"spacingAndGlyphs\" textLength=\"40\" x=\"362\" y=\"100.1387\">«part»</text><text fill=\"#000000\" font-family=\"sans-serif\" font-size=\"12\" lengthAdjust=\"spacingAndGlyphs\" textLength=\"22\" x=\"371\" y=\"114.1074\">x: A</text><line style=\"stroke: #383838; stroke-width: 1.5;\" x1=\"362\" x2=\"402\" y1=\"121.9375\" y2=\"121.9375\"/></a><!--MD5=[b9389687b975829384b498ac4b7476b2]\n",
       "class E8--><a href=\"psysml:c18479a8-8a5a-4a0f-a7e4-033b0648dafb\" target=\"_top\" title=\"psysml:c18479a8-8a5a-4a0f-a7e4-033b0648dafb\" xlink:actuate=\"onRequest\" xlink:href=\"psysml:c18479a8-8a5a-4a0f-a7e4-033b0648dafb\" xlink:show=\"new\" xlink:title=\"psysml:c18479a8-8a5a-4a0f-a7e4-033b0648dafb\" xlink:type=\"simple\"><rect fill=\"#FFFFFF\" height=\"45.9375\" id=\"E8\" rx=\"10\" ry=\"10\" style=\"stroke: #383838; stroke-width: 1.5;\" width=\"42\" x=\"284\" y=\"84\"/><text fill=\"#000000\" font-family=\"sans-serif\" font-size=\"12\" font-style=\"italic\" lengthAdjust=\"spacingAndGlyphs\" textLength=\"40\" x=\"285\" y=\"100.1387\">«part»</text><text fill=\"#000000\" font-family=\"sans-serif\" font-size=\"12\" lengthAdjust=\"spacingAndGlyphs\" textLength=\"22\" x=\"294\" y=\"114.1074\">y: B</text><line style=\"stroke: #383838; stroke-width: 1.5;\" x1=\"285\" x2=\"325\" y1=\"121.9375\" y2=\"121.9375\"/></a><!--MD5=[96f4274e9e20536e775497830990834d]\n",
       "class E10--><a href=\"psysml:61feb9d5-4074-478e-84bb-b7eccf03922b\" target=\"_top\" title=\"psysml:61feb9d5-4074-478e-84bb-b7eccf03922b\" xlink:actuate=\"onRequest\" xlink:href=\"psysml:61feb9d5-4074-478e-84bb-b7eccf03922b\" xlink:show=\"new\" xlink:title=\"psysml:61feb9d5-4074-478e-84bb-b7eccf03922b\" xlink:type=\"simple\"><rect fill=\"#FFFFFF\" height=\"45.9375\" id=\"E10\" rx=\"10\" ry=\"10\" style=\"stroke: #383838; stroke-width: 1.5;\" width=\"42\" x=\"186\" y=\"84\"/><text fill=\"#000000\" font-family=\"sans-serif\" font-size=\"12\" font-style=\"italic\" lengthAdjust=\"spacingAndGlyphs\" textLength=\"40\" x=\"187\" y=\"100.1387\">«part»</text><text fill=\"#000000\" font-family=\"sans-serif\" font-size=\"12\" lengthAdjust=\"spacingAndGlyphs\" textLength=\"22\" x=\"196\" y=\"114.1074\">x: A</text><line style=\"stroke: #383838; stroke-width: 1.5;\" x1=\"187\" x2=\"227\" y1=\"121.9375\" y2=\"121.9375\"/></a><!--MD5=[1dd1bfd58a279cf63c5f349dbc8fc6a1]\n",
       "class E11--><a href=\"psysml:2edd355f-e967-45cc-82fe-80091bb729bd\" target=\"_top\" title=\"psysml:2edd355f-e967-45cc-82fe-80091bb729bd\" xlink:actuate=\"onRequest\" xlink:href=\"psysml:2edd355f-e967-45cc-82fe-80091bb729bd\" xlink:show=\"new\" xlink:title=\"psysml:2edd355f-e967-45cc-82fe-80091bb729bd\" xlink:type=\"simple\"><rect fill=\"#FFFFFF\" height=\"45.9375\" id=\"E11\" rx=\"10\" ry=\"10\" style=\"stroke: #383838; stroke-width: 1.5;\" width=\"42\" x=\"109\" y=\"84\"/><text fill=\"#000000\" font-family=\"sans-serif\" font-size=\"12\" font-style=\"italic\" lengthAdjust=\"spacingAndGlyphs\" textLength=\"40\" x=\"110\" y=\"100.1387\">«part»</text><text fill=\"#000000\" font-family=\"sans-serif\" font-size=\"12\" lengthAdjust=\"spacingAndGlyphs\" textLength=\"22\" x=\"119\" y=\"114.1074\">y: B</text><line style=\"stroke: #383838; stroke-width: 1.5;\" x1=\"110\" x2=\"150\" y1=\"121.9375\" y2=\"121.9375\"/></a><!--MD5=[14ccda38c055a5c0da953d572bc50960]\n",
       "link E7 to E3--><a href=\"psysml:c27725e1-02a3-443e-822c-73205e66e264\" target=\"_top\" title=\"psysml:c27725e1-02a3-443e-822c-73205e66e264\" xlink:actuate=\"onRequest\" xlink:href=\"psysml:c27725e1-02a3-443e-822c-73205e66e264\" xlink:show=\"new\" xlink:title=\"psysml:c27725e1-02a3-443e-822c-73205e66e264\" xlink:type=\"simple\"><path d=\"M382,130.1 C382,145.37 382,166.16 382,184.57 \" fill=\"none\" id=\"E7-&gt;E3\" style=\"stroke: #383838; stroke-width: 1.0;\"/><polygon fill=\"#FFFFFF\" points=\"382,204.61,375,185.61,389,185.61,382,204.61\" style=\"stroke: #383838; stroke-width: 1.0;\"/><ellipse cx=\"377\" cy=\"179.91\" fill=\"#383838\" rx=\"2\" ry=\"2\" style=\"stroke: #383838; stroke-width: 1.0;\"/><ellipse cx=\"387\" cy=\"179.91\" fill=\"#383838\" rx=\"2\" ry=\"2\" style=\"stroke: #383838; stroke-width: 1.0;\"/></a><!--MD5=[1ccb2481ffa92f8d51a74ee30c51832a]\n",
       "link E8 to E5--><a href=\"psysml:43ceeb8e-eeaf-4aa9-b958-61b6f980f202\" target=\"_top\" title=\"psysml:43ceeb8e-eeaf-4aa9-b958-61b6f980f202\" xlink:actuate=\"onRequest\" xlink:href=\"psysml:43ceeb8e-eeaf-4aa9-b958-61b6f980f202\" xlink:show=\"new\" xlink:title=\"psysml:43ceeb8e-eeaf-4aa9-b958-61b6f980f202\" xlink:type=\"simple\"><path d=\"M283.84,124.59 C272.23,133.52 257.5,144.61 244,154 C223.51,168.25 200.41,183.24 180.38,195.91 \" fill=\"none\" id=\"E8-&gt;E5\" style=\"stroke: #383838; stroke-width: 1.0;\"/><polygon fill=\"#FFFFFF\" points=\"163.36,206.57,175.7353,190.5434,183.175,202.403,163.36,206.57\" style=\"stroke: #383838; stroke-width: 1.0;\"/><ellipse cx=\"181.6267\" cy=\"189.2086\" fill=\"#383838\" rx=\"2\" ry=\"2\" style=\"stroke: #383838; stroke-width: 1.0;\"/><ellipse cx=\"186.9408\" cy=\"197.6797\" fill=\"#383838\" rx=\"2\" ry=\"2\" style=\"stroke: #383838; stroke-width: 1.0;\"/></a><!--MD5=[feeac5eb423634930294aa81f2d25a4c]\n",
       "link E10 to E3--><a href=\"psysml:2f015e6c-7efc-43fd-92bb-26e8cb5e6a22\" target=\"_top\" title=\"psysml:2f015e6c-7efc-43fd-92bb-26e8cb5e6a22\" xlink:actuate=\"onRequest\" xlink:href=\"psysml:2f015e6c-7efc-43fd-92bb-26e8cb5e6a22\" xlink:show=\"new\" xlink:title=\"psysml:2f015e6c-7efc-43fd-92bb-26e8cb5e6a22\" xlink:type=\"simple\"><path d=\"M228.16,124.59 C239.77,133.52 254.5,144.61 268,154 C288.49,168.25 311.59,183.24 331.62,195.91 \" fill=\"none\" id=\"E10-&gt;E3\" style=\"stroke: #383838; stroke-width: 1.0;\"/><polygon fill=\"#FFFFFF\" points=\"348.64,206.57,328.825,202.403,336.2647,190.5434,348.64,206.57\" style=\"stroke: #383838; stroke-width: 1.0;\"/><ellipse cx=\"325.0592\" cy=\"197.6797\" fill=\"#383838\" rx=\"2\" ry=\"2\" style=\"stroke: #383838; stroke-width: 1.0;\"/><ellipse cx=\"330.3733\" cy=\"189.2086\" fill=\"#383838\" rx=\"2\" ry=\"2\" style=\"stroke: #383838; stroke-width: 1.0;\"/></a><!--MD5=[07b77f6f309248d16187045709d1c26e]\n",
       "link E11 to E5--><a href=\"psysml:7cf9fed8-155f-433e-a01b-9d13c54aa089\" target=\"_top\" title=\"psysml:7cf9fed8-155f-433e-a01b-9d13c54aa089\" xlink:actuate=\"onRequest\" xlink:href=\"psysml:7cf9fed8-155f-433e-a01b-9d13c54aa089\" xlink:show=\"new\" xlink:title=\"psysml:7cf9fed8-155f-433e-a01b-9d13c54aa089\" xlink:type=\"simple\"><path d=\"M130,130.1 C130,145.37 130,166.16 130,184.57 \" fill=\"none\" id=\"E11-&gt;E5\" style=\"stroke: #383838; stroke-width: 1.0;\"/><polygon fill=\"#FFFFFF\" points=\"130,204.61,123,185.61,137,185.61,130,204.61\" style=\"stroke: #383838; stroke-width: 1.0;\"/><ellipse cx=\"125\" cy=\"179.91\" fill=\"#383838\" rx=\"2\" ry=\"2\" style=\"stroke: #383838; stroke-width: 1.0;\"/><ellipse cx=\"135\" cy=\"179.91\" fill=\"#383838\" rx=\"2\" ry=\"2\" style=\"stroke: #383838; stroke-width: 1.0;\"/></a><!--MD5=[39f41a0e550fb3d73b4d8135617e30a2]\n",
       "link E12 to E3--><a href=\"psysml:2b9be10b-590f-4358-bedf-a86ab0ed6bce\" target=\"_top\" title=\"psysml:2b9be10b-590f-4358-bedf-a86ab0ed6bce\" xlink:actuate=\"onRequest\" xlink:href=\"psysml:2b9be10b-590f-4358-bedf-a86ab0ed6bce\" xlink:show=\"new\" xlink:title=\"psysml:2b9be10b-590f-4358-bedf-a86ab0ed6bce\" xlink:type=\"simple\"><path d=\"M444.7,130.1 C434.28,146.2 419.89,168.44 407.53,187.55 \" fill=\"none\" id=\"E12-&gt;E3\" style=\"stroke: #383838; stroke-width: 1.0;\"/><polygon fill=\"#FFFFFF\" points=\"396.49,204.61,400.9313,184.8546,412.6866,192.4581,396.49,204.61\" style=\"stroke: #383838; stroke-width: 1.0;\"/><ellipse cx=\"405.7063\" cy=\"181.1547\" fill=\"#383838\" rx=\"2\" ry=\"2\" style=\"stroke: #383838; stroke-width: 1.0;\"/><ellipse cx=\"414.103\" cy=\"186.5858\" fill=\"#383838\" rx=\"2\" ry=\"2\" style=\"stroke: #383838; stroke-width: 1.0;\"/></a><!--MD5=[066b2d8af59fea80ccdb3d54ad5c1091]\n",
       "link E13 to E5--><a href=\"psysml:78896435-f936-4df6-9172-2ff6f9da23d9\" target=\"_top\" title=\"psysml:78896435-f936-4df6-9172-2ff6f9da23d9\" xlink:actuate=\"onRequest\" xlink:href=\"psysml:78896435-f936-4df6-9172-2ff6f9da23d9\" xlink:show=\"new\" xlink:title=\"psysml:78896435-f936-4df6-9172-2ff6f9da23d9\" xlink:type=\"simple\"><path d=\"M67.3,130.1 C77.72,146.2 92.11,168.44 104.47,187.55 \" fill=\"none\" id=\"E13-&gt;E5\" style=\"stroke: #383838; stroke-width: 1.0;\"/><polygon fill=\"#FFFFFF\" points=\"115.51,204.61,99.3134,192.4581,111.0687,184.8546,115.51,204.61\" style=\"stroke: #383838; stroke-width: 1.0;\"/><ellipse cx=\"97.897\" cy=\"186.5858\" fill=\"#383838\" rx=\"2\" ry=\"2\" style=\"stroke: #383838; stroke-width: 1.0;\"/><ellipse cx=\"106.2937\" cy=\"181.1547\" fill=\"#383838\" rx=\"2\" ry=\"2\" style=\"stroke: #383838; stroke-width: 1.0;\"/></a><!--MD5=[ccd4db32b7eede7584f502ea5d0d2672]\n",
       "@startuml\r\n",
       " skinparam monochrome true\r\n",
       "skinparam classbackgroundcolor white\r\n",
       "skinparam shadowing false\r\n",
       "skinparam wrapWidth 300\r\n",
       "hide circle\r\n",
       "\r\n",
       "package \"CircularImport\" as E1  [[psysml:33738fcf-e3ee-4a7e-98d6-e975d5107ba1 ]]  {\r\n",
       "package \"P1\" as E2  [[psysml:130ef6c7-3ccc-43b9-a62a-eb926cce14a9 ]]  {\r\n",
       "comp def \"A\" as E3  <<(T,blue) part def>> [[psysml:cb0f7157-438a-4ad5-8a96-0def6a248a5a ]] {\r\n",
       "}\r\n",
       "}\r\n",
       "package \"P2\" as E4  [[psysml:0bc4dbd6-620a-45b9-8d32-94753792e496 ]]  {\r\n",
       "comp def \"B\" as E5  <<(T,blue) part def>> [[psysml:fa716e5d-1985-44ef-b151-4b2b4c0691ed ]] {\r\n",
       "}\r\n",
       "}\r\n",
       "package \"Test1\" as E6  [[psysml:b4043d48-e2a3-4796-9568-6bbff931ebfd ]]  {\r\n",
       "comp usage \"x: A\" as E7  <<(T,blue) part>> [[psysml:418b0add-8d91-4a6d-810e-c529e1e5d9c2 ]] {\r\n",
       "}\r\n",
       "comp usage \"y: B\" as E8  <<(T,blue) part>> [[psysml:c18479a8-8a5a-4a0f-a7e4-033b0648dafb ]] {\r\n",
       "}\r\n",
       "E7 - -:|> E3 [[psysml:c27725e1-02a3-443e-822c-73205e66e264 ]] \r\n",
       "E8 - -:|> E5 [[psysml:43ceeb8e-eeaf-4aa9-b958-61b6f980f202 ]] \r\n",
       "}\r\n",
       "package \"Test2\" as E9  [[psysml:85a9df72-6515-46a6-853d-c4da844a4980 ]]  {\r\n",
       "comp usage \"x: A\" as E10  <<(T,blue) part>> [[psysml:61feb9d5-4074-478e-84bb-b7eccf03922b ]] {\r\n",
       "}\r\n",
       "comp usage \"y: B\" as E11  <<(T,blue) part>> [[psysml:2edd355f-e967-45cc-82fe-80091bb729bd ]] {\r\n",
       "}\r\n",
       "E10 - -:|> E3 [[psysml:2f015e6c-7efc-43fd-92bb-26e8cb5e6a22 ]] \r\n",
       "E11 - -:|> E5 [[psysml:7cf9fed8-155f-433e-a01b-9d13c54aa089 ]] \r\n",
       "}\r\n",
       "comp usage \"x: A\" as E12  <<(T,blue) part>> [[psysml:530a6ae9-7dc1-4851-ab10-936e92c948f7 ]] {\r\n",
       "}\r\n",
       "comp usage \"y: B\" as E13  <<(T,blue) part>> [[psysml:561bfa55-252f-4783-9fb1-458618dbf236 ]] {\r\n",
       "}\r\n",
       "E12 - -:|> E3 [[psysml:2b9be10b-590f-4358-bedf-a86ab0ed6bce ]] \r\n",
       "E13 - -:|> E5 [[psysml:78896435-f936-4df6-9172-2ff6f9da23d9 ]] \r\n",
       "}\r\n",
       "@enduml\r\n",
       "\n",
       "PlantUML version 1.2020.13(Sat Jun 13 12:26:38 UTC 2020)\n",
       "(EPL source distribution)\n",
       "Java Runtime: OpenJDK Runtime Environment\n",
       "JVM: OpenJDK 64-Bit Server VM\n",
       "Default Encoding: UTF-8\n",
       "Language: en\n",
       "Country: null\n",
       "--></g></svg>"
      ]
     },
     "execution_count": 2,
     "metadata": {},
     "output_type": "execute_result"
    }
   ],
   "source": [
    "%viz --style=\"COMPTREE\" --view=\"Default\" \"CircularImport\""
   ]
  },
  {
   "cell_type": "code",
   "execution_count": 3,
   "id": "a5d98dcc",
   "metadata": {
    "execution": {
     "iopub.execute_input": "2021-06-30T09:15:07.236560Z",
     "iopub.status.busy": "2021-06-30T09:15:07.236026Z",
     "iopub.status.idle": "2021-06-30T09:15:07.348143Z",
     "shell.execute_reply": "2021-06-30T09:15:07.346100Z"
    }
   },
   "outputs": [
    {
     "data": {
      "image/svg+xml": [
       "<?xml version=\"1.0\" encoding=\"UTF-8\" standalone=\"no\"?><svg xmlns=\"http://www.w3.org/2000/svg\" xmlns:xlink=\"http://www.w3.org/1999/xlink\" contentScriptType=\"application/ecmascript\" contentStyleType=\"text/css\" height=\"303px\" preserveAspectRatio=\"none\" style=\"width:518px;height:303px;\" version=\"1.1\" viewBox=\"0 0 518 303\" width=\"518px\" zoomAndPan=\"magnify\"><defs/><g><!--MD5=[fbc87193dbaf4d95561dea2c320d4a47]\n",
       "cluster E1--><a href=\"psysml:33738fcf-e3ee-4a7e-98d6-e975d5107ba1\" target=\"_top\" title=\"psysml:33738fcf-e3ee-4a7e-98d6-e975d5107ba1\" xlink:actuate=\"onRequest\" xlink:href=\"psysml:33738fcf-e3ee-4a7e-98d6-e975d5107ba1\" xlink:show=\"new\" xlink:title=\"psysml:33738fcf-e3ee-4a7e-98d6-e975d5107ba1\" xlink:type=\"simple\"><polygon fill=\"#FFFFFF\" points=\"16,6,134,6,141,28.2969,496,28.2969,496,291,16,291,16,6\" style=\"stroke: #000000; stroke-width: 1.5;\"/><line style=\"stroke: #000000; stroke-width: 1.5;\" x1=\"16\" x2=\"141\" y1=\"28.2969\" y2=\"28.2969\"/><text fill=\"#000000\" font-family=\"sans-serif\" font-size=\"14\" font-weight=\"bold\" lengthAdjust=\"spacingAndGlyphs\" textLength=\"112\" x=\"20\" y=\"20.9951\">CircularImport</text></a><!--MD5=[e4f7fae6ed58524ba242bb0b0d3be6b7]\n",
       "cluster E2--><a href=\"psysml:130ef6c7-3ccc-43b9-a62a-eb926cce14a9\" target=\"_top\" title=\"psysml:130ef6c7-3ccc-43b9-a62a-eb926cce14a9\" xlink:actuate=\"onRequest\" xlink:href=\"psysml:130ef6c7-3ccc-43b9-a62a-eb926cce14a9\" xlink:show=\"new\" xlink:title=\"psysml:130ef6c7-3ccc-43b9-a62a-eb926cce14a9\" xlink:type=\"simple\"><polygon fill=\"#FFFFFF\" points=\"333,170,359,170,366,192.2969,431,192.2969,431,267,333,267,333,170\" style=\"stroke: #000000; stroke-width: 1.5;\"/><line style=\"stroke: #000000; stroke-width: 1.5;\" x1=\"333\" x2=\"366\" y1=\"192.2969\" y2=\"192.2969\"/><text fill=\"#000000\" font-family=\"sans-serif\" font-size=\"14\" font-weight=\"bold\" lengthAdjust=\"spacingAndGlyphs\" textLength=\"20\" x=\"337\" y=\"184.9951\">P1</text></a><!--MD5=[f6df4d0ebaf0b5dfb2ced0ae5af7c670]\n",
       "cluster E4--><a href=\"psysml:0bc4dbd6-620a-45b9-8d32-94753792e496\" target=\"_top\" title=\"psysml:0bc4dbd6-620a-45b9-8d32-94753792e496\" xlink:actuate=\"onRequest\" xlink:href=\"psysml:0bc4dbd6-620a-45b9-8d32-94753792e496\" xlink:show=\"new\" xlink:title=\"psysml:0bc4dbd6-620a-45b9-8d32-94753792e496\" xlink:type=\"simple\"><polygon fill=\"#FFFFFF\" points=\"81,170,107,170,114,192.2969,179,192.2969,179,267,81,267,81,170\" style=\"stroke: #000000; stroke-width: 1.5;\"/><line style=\"stroke: #000000; stroke-width: 1.5;\" x1=\"81\" x2=\"114\" y1=\"192.2969\" y2=\"192.2969\"/><text fill=\"#000000\" font-family=\"sans-serif\" font-size=\"14\" font-weight=\"bold\" lengthAdjust=\"spacingAndGlyphs\" textLength=\"20\" x=\"85\" y=\"184.9951\">P2</text></a><!--MD5=[14e3b0961a2654348d326746436168a1]\n",
       "cluster E6--><a href=\"psysml:b4043d48-e2a3-4796-9568-6bbff931ebfd\" target=\"_top\" title=\"psysml:b4043d48-e2a3-4796-9568-6bbff931ebfd\" xlink:actuate=\"onRequest\" xlink:href=\"psysml:b4043d48-e2a3-4796-9568-6bbff931ebfd\" xlink:show=\"new\" xlink:title=\"psysml:b4043d48-e2a3-4796-9568-6bbff931ebfd\" xlink:type=\"simple\"><polygon fill=\"#FFFFFF\" points=\"268,49,319,49,326,71.2969,419,71.2969,419,146,268,146,268,49\" style=\"stroke: #000000; stroke-width: 1.5;\"/><line style=\"stroke: #000000; stroke-width: 1.5;\" x1=\"268\" x2=\"326\" y1=\"71.2969\" y2=\"71.2969\"/><text fill=\"#000000\" font-family=\"sans-serif\" font-size=\"14\" font-weight=\"bold\" lengthAdjust=\"spacingAndGlyphs\" textLength=\"45\" x=\"272\" y=\"63.9951\">Test1</text></a><!--MD5=[7f149f147074ac12df2cb0a7728a5fb0]\n",
       "cluster E9--><a href=\"psysml:85a9df72-6515-46a6-853d-c4da844a4980\" target=\"_top\" title=\"psysml:85a9df72-6515-46a6-853d-c4da844a4980\" xlink:actuate=\"onRequest\" xlink:href=\"psysml:85a9df72-6515-46a6-853d-c4da844a4980\" xlink:show=\"new\" xlink:title=\"psysml:85a9df72-6515-46a6-853d-c4da844a4980\" xlink:type=\"simple\"><polygon fill=\"#FFFFFF\" points=\"93,49,144,49,151,71.2969,244,71.2969,244,146,93,146,93,49\" style=\"stroke: #000000; stroke-width: 1.5;\"/><line style=\"stroke: #000000; stroke-width: 1.5;\" x1=\"93\" x2=\"151\" y1=\"71.2969\" y2=\"71.2969\"/><text fill=\"#000000\" font-family=\"sans-serif\" font-size=\"14\" font-weight=\"bold\" lengthAdjust=\"spacingAndGlyphs\" textLength=\"45\" x=\"97\" y=\"63.9951\">Test2</text></a><!--MD5=[49a0ec8f00dab7302a31f22d0f0fe584]\n",
       "class E12--><a href=\"psysml:530a6ae9-7dc1-4851-ab10-936e92c948f7\" target=\"_top\" title=\"psysml:530a6ae9-7dc1-4851-ab10-936e92c948f7\" xlink:actuate=\"onRequest\" xlink:href=\"psysml:530a6ae9-7dc1-4851-ab10-936e92c948f7\" xlink:show=\"new\" xlink:title=\"psysml:530a6ae9-7dc1-4851-ab10-936e92c948f7\" xlink:type=\"simple\"><rect fill=\"#FFFFFF\" height=\"45.9375\" id=\"E12\" rx=\"10\" ry=\"10\" style=\"stroke: #383838; stroke-width: 1.5;\" width=\"42\" x=\"438\" y=\"84\"/><text fill=\"#000000\" font-family=\"sans-serif\" font-size=\"12\" font-style=\"italic\" lengthAdjust=\"spacingAndGlyphs\" textLength=\"40\" x=\"439\" y=\"100.1387\">«part»</text><text fill=\"#000000\" font-family=\"sans-serif\" font-size=\"12\" lengthAdjust=\"spacingAndGlyphs\" textLength=\"22\" x=\"448\" y=\"114.1074\">x: A</text><line style=\"stroke: #383838; stroke-width: 1.5;\" x1=\"439\" x2=\"479\" y1=\"121.9375\" y2=\"121.9375\"/></a><!--MD5=[ee3c913d1a06f366521f9ef512b67efe]\n",
       "class E13--><a href=\"psysml:561bfa55-252f-4783-9fb1-458618dbf236\" target=\"_top\" title=\"psysml:561bfa55-252f-4783-9fb1-458618dbf236\" xlink:actuate=\"onRequest\" xlink:href=\"psysml:561bfa55-252f-4783-9fb1-458618dbf236\" xlink:show=\"new\" xlink:title=\"psysml:561bfa55-252f-4783-9fb1-458618dbf236\" xlink:type=\"simple\"><rect fill=\"#FFFFFF\" height=\"45.9375\" id=\"E13\" rx=\"10\" ry=\"10\" style=\"stroke: #383838; stroke-width: 1.5;\" width=\"42\" x=\"32\" y=\"84\"/><text fill=\"#000000\" font-family=\"sans-serif\" font-size=\"12\" font-style=\"italic\" lengthAdjust=\"spacingAndGlyphs\" textLength=\"40\" x=\"33\" y=\"100.1387\">«part»</text><text fill=\"#000000\" font-family=\"sans-serif\" font-size=\"12\" lengthAdjust=\"spacingAndGlyphs\" textLength=\"22\" x=\"42\" y=\"114.1074\">y: B</text><line style=\"stroke: #383838; stroke-width: 1.5;\" x1=\"33\" x2=\"73\" y1=\"121.9375\" y2=\"121.9375\"/></a><!--MD5=[09b614a08d8cba4a07c9adeb5e0fee81]\n",
       "class E3--><a href=\"psysml:cb0f7157-438a-4ad5-8a96-0def6a248a5a\" target=\"_top\" title=\"psysml:cb0f7157-438a-4ad5-8a96-0def6a248a5a\" xlink:actuate=\"onRequest\" xlink:href=\"psysml:cb0f7157-438a-4ad5-8a96-0def6a248a5a\" xlink:show=\"new\" xlink:title=\"psysml:cb0f7157-438a-4ad5-8a96-0def6a248a5a\" xlink:type=\"simple\"><rect fill=\"#FFFFFF\" height=\"45.9375\" id=\"E3\" style=\"stroke: #383838; stroke-width: 1.5;\" width=\"66\" x=\"349\" y=\"205\"/><text fill=\"#000000\" font-family=\"sans-serif\" font-size=\"12\" font-style=\"italic\" lengthAdjust=\"spacingAndGlyphs\" textLength=\"64\" x=\"350\" y=\"221.1387\">«part def»</text><text fill=\"#000000\" font-family=\"sans-serif\" font-size=\"12\" lengthAdjust=\"spacingAndGlyphs\" textLength=\"8\" x=\"378\" y=\"235.1074\">A</text><line style=\"stroke: #383838; stroke-width: 1.5;\" x1=\"350\" x2=\"414\" y1=\"242.9375\" y2=\"242.9375\"/></a><!--MD5=[270fce915f116d4de14055a7c1d9a0f3]\n",
       "class E5--><a href=\"psysml:fa716e5d-1985-44ef-b151-4b2b4c0691ed\" target=\"_top\" title=\"psysml:fa716e5d-1985-44ef-b151-4b2b4c0691ed\" xlink:actuate=\"onRequest\" xlink:href=\"psysml:fa716e5d-1985-44ef-b151-4b2b4c0691ed\" xlink:show=\"new\" xlink:title=\"psysml:fa716e5d-1985-44ef-b151-4b2b4c0691ed\" xlink:type=\"simple\"><rect fill=\"#FFFFFF\" height=\"45.9375\" id=\"E5\" style=\"stroke: #383838; stroke-width: 1.5;\" width=\"66\" x=\"97\" y=\"205\"/><text fill=\"#000000\" font-family=\"sans-serif\" font-size=\"12\" font-style=\"italic\" lengthAdjust=\"spacingAndGlyphs\" textLength=\"64\" x=\"98\" y=\"221.1387\">«part def»</text><text fill=\"#000000\" font-family=\"sans-serif\" font-size=\"12\" lengthAdjust=\"spacingAndGlyphs\" textLength=\"8\" x=\"126\" y=\"235.1074\">B</text><line style=\"stroke: #383838; stroke-width: 1.5;\" x1=\"98\" x2=\"162\" y1=\"242.9375\" y2=\"242.9375\"/></a><!--MD5=[2156ba9850f5573cc1fc38a6a4b2f02b]\n",
       "class E7--><a href=\"psysml:418b0add-8d91-4a6d-810e-c529e1e5d9c2\" target=\"_top\" title=\"psysml:418b0add-8d91-4a6d-810e-c529e1e5d9c2\" xlink:actuate=\"onRequest\" xlink:href=\"psysml:418b0add-8d91-4a6d-810e-c529e1e5d9c2\" xlink:show=\"new\" xlink:title=\"psysml:418b0add-8d91-4a6d-810e-c529e1e5d9c2\" xlink:type=\"simple\"><rect fill=\"#FFFFFF\" height=\"45.9375\" id=\"E7\" rx=\"10\" ry=\"10\" style=\"stroke: #383838; stroke-width: 1.5;\" width=\"42\" x=\"361\" y=\"84\"/><text fill=\"#000000\" font-family=\"sans-serif\" font-size=\"12\" font-style=\"italic\" lengthAdjust=\"spacingAndGlyphs\" textLength=\"40\" x=\"362\" y=\"100.1387\">«part»</text><text fill=\"#000000\" font-family=\"sans-serif\" font-size=\"12\" lengthAdjust=\"spacingAndGlyphs\" textLength=\"22\" x=\"371\" y=\"114.1074\">x: A</text><line style=\"stroke: #383838; stroke-width: 1.5;\" x1=\"362\" x2=\"402\" y1=\"121.9375\" y2=\"121.9375\"/></a><!--MD5=[b9389687b975829384b498ac4b7476b2]\n",
       "class E8--><a href=\"psysml:c18479a8-8a5a-4a0f-a7e4-033b0648dafb\" target=\"_top\" title=\"psysml:c18479a8-8a5a-4a0f-a7e4-033b0648dafb\" xlink:actuate=\"onRequest\" xlink:href=\"psysml:c18479a8-8a5a-4a0f-a7e4-033b0648dafb\" xlink:show=\"new\" xlink:title=\"psysml:c18479a8-8a5a-4a0f-a7e4-033b0648dafb\" xlink:type=\"simple\"><rect fill=\"#FFFFFF\" height=\"45.9375\" id=\"E8\" rx=\"10\" ry=\"10\" style=\"stroke: #383838; stroke-width: 1.5;\" width=\"42\" x=\"284\" y=\"84\"/><text fill=\"#000000\" font-family=\"sans-serif\" font-size=\"12\" font-style=\"italic\" lengthAdjust=\"spacingAndGlyphs\" textLength=\"40\" x=\"285\" y=\"100.1387\">«part»</text><text fill=\"#000000\" font-family=\"sans-serif\" font-size=\"12\" lengthAdjust=\"spacingAndGlyphs\" textLength=\"22\" x=\"294\" y=\"114.1074\">y: B</text><line style=\"stroke: #383838; stroke-width: 1.5;\" x1=\"285\" x2=\"325\" y1=\"121.9375\" y2=\"121.9375\"/></a><!--MD5=[96f4274e9e20536e775497830990834d]\n",
       "class E10--><a href=\"psysml:61feb9d5-4074-478e-84bb-b7eccf03922b\" target=\"_top\" title=\"psysml:61feb9d5-4074-478e-84bb-b7eccf03922b\" xlink:actuate=\"onRequest\" xlink:href=\"psysml:61feb9d5-4074-478e-84bb-b7eccf03922b\" xlink:show=\"new\" xlink:title=\"psysml:61feb9d5-4074-478e-84bb-b7eccf03922b\" xlink:type=\"simple\"><rect fill=\"#FFFFFF\" height=\"45.9375\" id=\"E10\" rx=\"10\" ry=\"10\" style=\"stroke: #383838; stroke-width: 1.5;\" width=\"42\" x=\"186\" y=\"84\"/><text fill=\"#000000\" font-family=\"sans-serif\" font-size=\"12\" font-style=\"italic\" lengthAdjust=\"spacingAndGlyphs\" textLength=\"40\" x=\"187\" y=\"100.1387\">«part»</text><text fill=\"#000000\" font-family=\"sans-serif\" font-size=\"12\" lengthAdjust=\"spacingAndGlyphs\" textLength=\"22\" x=\"196\" y=\"114.1074\">x: A</text><line style=\"stroke: #383838; stroke-width: 1.5;\" x1=\"187\" x2=\"227\" y1=\"121.9375\" y2=\"121.9375\"/></a><!--MD5=[1dd1bfd58a279cf63c5f349dbc8fc6a1]\n",
       "class E11--><a href=\"psysml:2edd355f-e967-45cc-82fe-80091bb729bd\" target=\"_top\" title=\"psysml:2edd355f-e967-45cc-82fe-80091bb729bd\" xlink:actuate=\"onRequest\" xlink:href=\"psysml:2edd355f-e967-45cc-82fe-80091bb729bd\" xlink:show=\"new\" xlink:title=\"psysml:2edd355f-e967-45cc-82fe-80091bb729bd\" xlink:type=\"simple\"><rect fill=\"#FFFFFF\" height=\"45.9375\" id=\"E11\" rx=\"10\" ry=\"10\" style=\"stroke: #383838; stroke-width: 1.5;\" width=\"42\" x=\"109\" y=\"84\"/><text fill=\"#000000\" font-family=\"sans-serif\" font-size=\"12\" font-style=\"italic\" lengthAdjust=\"spacingAndGlyphs\" textLength=\"40\" x=\"110\" y=\"100.1387\">«part»</text><text fill=\"#000000\" font-family=\"sans-serif\" font-size=\"12\" lengthAdjust=\"spacingAndGlyphs\" textLength=\"22\" x=\"119\" y=\"114.1074\">y: B</text><line style=\"stroke: #383838; stroke-width: 1.5;\" x1=\"110\" x2=\"150\" y1=\"121.9375\" y2=\"121.9375\"/></a><!--MD5=[14ccda38c055a5c0da953d572bc50960]\n",
       "link E7 to E3--><a href=\"psysml:c27725e1-02a3-443e-822c-73205e66e264\" target=\"_top\" title=\"psysml:c27725e1-02a3-443e-822c-73205e66e264\" xlink:actuate=\"onRequest\" xlink:href=\"psysml:c27725e1-02a3-443e-822c-73205e66e264\" xlink:show=\"new\" xlink:title=\"psysml:c27725e1-02a3-443e-822c-73205e66e264\" xlink:type=\"simple\"><path d=\"M382,130.1 C382,145.37 382,166.16 382,184.57 \" fill=\"none\" id=\"E7-&gt;E3\" style=\"stroke: #383838; stroke-width: 1.0;\"/><polygon fill=\"#FFFFFF\" points=\"382,204.61,375,185.61,389,185.61,382,204.61\" style=\"stroke: #383838; stroke-width: 1.0;\"/><ellipse cx=\"377\" cy=\"179.91\" fill=\"#383838\" rx=\"2\" ry=\"2\" style=\"stroke: #383838; stroke-width: 1.0;\"/><ellipse cx=\"387\" cy=\"179.91\" fill=\"#383838\" rx=\"2\" ry=\"2\" style=\"stroke: #383838; stroke-width: 1.0;\"/></a><!--MD5=[1ccb2481ffa92f8d51a74ee30c51832a]\n",
       "link E8 to E5--><a href=\"psysml:43ceeb8e-eeaf-4aa9-b958-61b6f980f202\" target=\"_top\" title=\"psysml:43ceeb8e-eeaf-4aa9-b958-61b6f980f202\" xlink:actuate=\"onRequest\" xlink:href=\"psysml:43ceeb8e-eeaf-4aa9-b958-61b6f980f202\" xlink:show=\"new\" xlink:title=\"psysml:43ceeb8e-eeaf-4aa9-b958-61b6f980f202\" xlink:type=\"simple\"><path d=\"M283.84,124.59 C272.23,133.52 257.5,144.61 244,154 C223.51,168.25 200.41,183.24 180.38,195.91 \" fill=\"none\" id=\"E8-&gt;E5\" style=\"stroke: #383838; stroke-width: 1.0;\"/><polygon fill=\"#FFFFFF\" points=\"163.36,206.57,175.7353,190.5434,183.175,202.403,163.36,206.57\" style=\"stroke: #383838; stroke-width: 1.0;\"/><ellipse cx=\"181.6267\" cy=\"189.2086\" fill=\"#383838\" rx=\"2\" ry=\"2\" style=\"stroke: #383838; stroke-width: 1.0;\"/><ellipse cx=\"186.9408\" cy=\"197.6797\" fill=\"#383838\" rx=\"2\" ry=\"2\" style=\"stroke: #383838; stroke-width: 1.0;\"/></a><!--MD5=[feeac5eb423634930294aa81f2d25a4c]\n",
       "link E10 to E3--><a href=\"psysml:2f015e6c-7efc-43fd-92bb-26e8cb5e6a22\" target=\"_top\" title=\"psysml:2f015e6c-7efc-43fd-92bb-26e8cb5e6a22\" xlink:actuate=\"onRequest\" xlink:href=\"psysml:2f015e6c-7efc-43fd-92bb-26e8cb5e6a22\" xlink:show=\"new\" xlink:title=\"psysml:2f015e6c-7efc-43fd-92bb-26e8cb5e6a22\" xlink:type=\"simple\"><path d=\"M228.16,124.59 C239.77,133.52 254.5,144.61 268,154 C288.49,168.25 311.59,183.24 331.62,195.91 \" fill=\"none\" id=\"E10-&gt;E3\" style=\"stroke: #383838; stroke-width: 1.0;\"/><polygon fill=\"#FFFFFF\" points=\"348.64,206.57,328.825,202.403,336.2647,190.5434,348.64,206.57\" style=\"stroke: #383838; stroke-width: 1.0;\"/><ellipse cx=\"325.0592\" cy=\"197.6797\" fill=\"#383838\" rx=\"2\" ry=\"2\" style=\"stroke: #383838; stroke-width: 1.0;\"/><ellipse cx=\"330.3733\" cy=\"189.2086\" fill=\"#383838\" rx=\"2\" ry=\"2\" style=\"stroke: #383838; stroke-width: 1.0;\"/></a><!--MD5=[07b77f6f309248d16187045709d1c26e]\n",
       "link E11 to E5--><a href=\"psysml:7cf9fed8-155f-433e-a01b-9d13c54aa089\" target=\"_top\" title=\"psysml:7cf9fed8-155f-433e-a01b-9d13c54aa089\" xlink:actuate=\"onRequest\" xlink:href=\"psysml:7cf9fed8-155f-433e-a01b-9d13c54aa089\" xlink:show=\"new\" xlink:title=\"psysml:7cf9fed8-155f-433e-a01b-9d13c54aa089\" xlink:type=\"simple\"><path d=\"M130,130.1 C130,145.37 130,166.16 130,184.57 \" fill=\"none\" id=\"E11-&gt;E5\" style=\"stroke: #383838; stroke-width: 1.0;\"/><polygon fill=\"#FFFFFF\" points=\"130,204.61,123,185.61,137,185.61,130,204.61\" style=\"stroke: #383838; stroke-width: 1.0;\"/><ellipse cx=\"125\" cy=\"179.91\" fill=\"#383838\" rx=\"2\" ry=\"2\" style=\"stroke: #383838; stroke-width: 1.0;\"/><ellipse cx=\"135\" cy=\"179.91\" fill=\"#383838\" rx=\"2\" ry=\"2\" style=\"stroke: #383838; stroke-width: 1.0;\"/></a><!--MD5=[39f41a0e550fb3d73b4d8135617e30a2]\n",
       "link E12 to E3--><a href=\"psysml:2b9be10b-590f-4358-bedf-a86ab0ed6bce\" target=\"_top\" title=\"psysml:2b9be10b-590f-4358-bedf-a86ab0ed6bce\" xlink:actuate=\"onRequest\" xlink:href=\"psysml:2b9be10b-590f-4358-bedf-a86ab0ed6bce\" xlink:show=\"new\" xlink:title=\"psysml:2b9be10b-590f-4358-bedf-a86ab0ed6bce\" xlink:type=\"simple\"><path d=\"M444.7,130.1 C434.28,146.2 419.89,168.44 407.53,187.55 \" fill=\"none\" id=\"E12-&gt;E3\" style=\"stroke: #383838; stroke-width: 1.0;\"/><polygon fill=\"#FFFFFF\" points=\"396.49,204.61,400.9313,184.8546,412.6866,192.4581,396.49,204.61\" style=\"stroke: #383838; stroke-width: 1.0;\"/><ellipse cx=\"405.7063\" cy=\"181.1547\" fill=\"#383838\" rx=\"2\" ry=\"2\" style=\"stroke: #383838; stroke-width: 1.0;\"/><ellipse cx=\"414.103\" cy=\"186.5858\" fill=\"#383838\" rx=\"2\" ry=\"2\" style=\"stroke: #383838; stroke-width: 1.0;\"/></a><!--MD5=[066b2d8af59fea80ccdb3d54ad5c1091]\n",
       "link E13 to E5--><a href=\"psysml:78896435-f936-4df6-9172-2ff6f9da23d9\" target=\"_top\" title=\"psysml:78896435-f936-4df6-9172-2ff6f9da23d9\" xlink:actuate=\"onRequest\" xlink:href=\"psysml:78896435-f936-4df6-9172-2ff6f9da23d9\" xlink:show=\"new\" xlink:title=\"psysml:78896435-f936-4df6-9172-2ff6f9da23d9\" xlink:type=\"simple\"><path d=\"M67.3,130.1 C77.72,146.2 92.11,168.44 104.47,187.55 \" fill=\"none\" id=\"E13-&gt;E5\" style=\"stroke: #383838; stroke-width: 1.0;\"/><polygon fill=\"#FFFFFF\" points=\"115.51,204.61,99.3134,192.4581,111.0687,184.8546,115.51,204.61\" style=\"stroke: #383838; stroke-width: 1.0;\"/><ellipse cx=\"97.897\" cy=\"186.5858\" fill=\"#383838\" rx=\"2\" ry=\"2\" style=\"stroke: #383838; stroke-width: 1.0;\"/><ellipse cx=\"106.2937\" cy=\"181.1547\" fill=\"#383838\" rx=\"2\" ry=\"2\" style=\"stroke: #383838; stroke-width: 1.0;\"/></a><!--MD5=[ccd4db32b7eede7584f502ea5d0d2672]\n",
       "@startuml\r\n",
       " skinparam monochrome true\r\n",
       "skinparam classbackgroundcolor white\r\n",
       "skinparam shadowing false\r\n",
       "skinparam wrapWidth 300\r\n",
       "hide circle\r\n",
       "\r\n",
       "package \"CircularImport\" as E1  [[psysml:33738fcf-e3ee-4a7e-98d6-e975d5107ba1 ]]  {\r\n",
       "package \"P1\" as E2  [[psysml:130ef6c7-3ccc-43b9-a62a-eb926cce14a9 ]]  {\r\n",
       "comp def \"A\" as E3  <<(T,blue) part def>> [[psysml:cb0f7157-438a-4ad5-8a96-0def6a248a5a ]] {\r\n",
       "}\r\n",
       "}\r\n",
       "package \"P2\" as E4  [[psysml:0bc4dbd6-620a-45b9-8d32-94753792e496 ]]  {\r\n",
       "comp def \"B\" as E5  <<(T,blue) part def>> [[psysml:fa716e5d-1985-44ef-b151-4b2b4c0691ed ]] {\r\n",
       "}\r\n",
       "}\r\n",
       "package \"Test1\" as E6  [[psysml:b4043d48-e2a3-4796-9568-6bbff931ebfd ]]  {\r\n",
       "comp usage \"x: A\" as E7  <<(T,blue) part>> [[psysml:418b0add-8d91-4a6d-810e-c529e1e5d9c2 ]] {\r\n",
       "}\r\n",
       "comp usage \"y: B\" as E8  <<(T,blue) part>> [[psysml:c18479a8-8a5a-4a0f-a7e4-033b0648dafb ]] {\r\n",
       "}\r\n",
       "E7 - -:|> E3 [[psysml:c27725e1-02a3-443e-822c-73205e66e264 ]] \r\n",
       "E8 - -:|> E5 [[psysml:43ceeb8e-eeaf-4aa9-b958-61b6f980f202 ]] \r\n",
       "}\r\n",
       "package \"Test2\" as E9  [[psysml:85a9df72-6515-46a6-853d-c4da844a4980 ]]  {\r\n",
       "comp usage \"x: A\" as E10  <<(T,blue) part>> [[psysml:61feb9d5-4074-478e-84bb-b7eccf03922b ]] {\r\n",
       "}\r\n",
       "comp usage \"y: B\" as E11  <<(T,blue) part>> [[psysml:2edd355f-e967-45cc-82fe-80091bb729bd ]] {\r\n",
       "}\r\n",
       "E10 - -:|> E3 [[psysml:2f015e6c-7efc-43fd-92bb-26e8cb5e6a22 ]] \r\n",
       "E11 - -:|> E5 [[psysml:7cf9fed8-155f-433e-a01b-9d13c54aa089 ]] \r\n",
       "}\r\n",
       "comp usage \"x: A\" as E12  <<(T,blue) part>> [[psysml:530a6ae9-7dc1-4851-ab10-936e92c948f7 ]] {\r\n",
       "}\r\n",
       "comp usage \"y: B\" as E13  <<(T,blue) part>> [[psysml:561bfa55-252f-4783-9fb1-458618dbf236 ]] {\r\n",
       "}\r\n",
       "E12 - -:|> E3 [[psysml:2b9be10b-590f-4358-bedf-a86ab0ed6bce ]] \r\n",
       "E13 - -:|> E5 [[psysml:78896435-f936-4df6-9172-2ff6f9da23d9 ]] \r\n",
       "}\r\n",
       "@enduml\r\n",
       "\n",
       "PlantUML version 1.2020.13(Sat Jun 13 12:26:38 UTC 2020)\n",
       "(EPL source distribution)\n",
       "Java Runtime: OpenJDK Runtime Environment\n",
       "JVM: OpenJDK 64-Bit Server VM\n",
       "Default Encoding: UTF-8\n",
       "Language: en\n",
       "Country: null\n",
       "--></g></svg>"
      ]
     },
     "execution_count": 3,
     "metadata": {},
     "output_type": "execute_result"
    }
   ],
   "source": [
    "%viz --style=\"COMPTREE\" --view=\"Tree\" \"CircularImport\""
   ]
  },
  {
   "cell_type": "code",
   "execution_count": 4,
   "id": "c84238b4",
   "metadata": {
    "execution": {
     "iopub.execute_input": "2021-06-30T09:15:07.398233Z",
     "iopub.status.busy": "2021-06-30T09:15:07.397731Z",
     "iopub.status.idle": "2021-06-30T09:15:07.413799Z",
     "shell.execute_reply": "2021-06-30T09:15:07.413368Z"
    }
   },
   "outputs": [
    {
     "data": {
      "image/svg+xml": [
       "<?xml version=\"1.0\" encoding=\"UTF-8\" standalone=\"no\"?><svg xmlns=\"http://www.w3.org/2000/svg\" xmlns:xlink=\"http://www.w3.org/1999/xlink\" contentScriptType=\"application/ecmascript\" contentStyleType=\"text/css\" height=\"12px\" preserveAspectRatio=\"none\" style=\"width:12px;height:12px;\" version=\"1.1\" viewBox=\"0 0 12 12\" width=\"12px\" zoomAndPan=\"magnify\"><defs/><g><!--MD5=[f19188ef49e11757b5c46753f95d9edc]\n",
       "@startuml\r\n",
       " skinparam monochrome true\r\n",
       "skinparam classbackgroundcolor white\r\n",
       "skinparam shadowing false\r\n",
       "skinparam wrapWidth 300\r\n",
       "hide circle\r\n",
       "\r\n",
       "@enduml\r\n",
       "\n",
       "PlantUML version 1.2020.13(Sat Jun 13 12:26:38 UTC 2020)\n",
       "(EPL source distribution)\n",
       "Java Runtime: OpenJDK Runtime Environment\n",
       "JVM: OpenJDK 64-Bit Server VM\n",
       "Default Encoding: UTF-8\n",
       "Language: en\n",
       "Country: null\n",
       "--></g></svg>"
      ]
     },
     "execution_count": 4,
     "metadata": {},
     "output_type": "execute_result"
    }
   ],
   "source": [
    "%viz --style=\"COMPTREE\" --view=\"State\" \"CircularImport\""
   ]
  },
  {
   "cell_type": "code",
   "execution_count": 5,
   "id": "350cc454",
   "metadata": {
    "execution": {
     "iopub.execute_input": "2021-06-30T09:15:07.464910Z",
     "iopub.status.busy": "2021-06-30T09:15:07.464290Z",
     "iopub.status.idle": "2021-06-30T09:15:07.561930Z",
     "shell.execute_reply": "2021-06-30T09:15:07.561456Z"
    }
   },
   "outputs": [
    {
     "data": {
      "image/svg+xml": [
       "<?xml version=\"1.0\" encoding=\"UTF-8\" standalone=\"no\"?><svg xmlns=\"http://www.w3.org/2000/svg\" xmlns:xlink=\"http://www.w3.org/1999/xlink\" contentScriptType=\"application/ecmascript\" contentStyleType=\"text/css\" height=\"179px\" preserveAspectRatio=\"none\" style=\"width:846px;height:179px;\" version=\"1.1\" viewBox=\"0 0 846 179\" width=\"846px\" zoomAndPan=\"magnify\"><defs/><g><!--MD5=[fbc87193dbaf4d95561dea2c320d4a47]\n",
       "cluster E1--><a href=\"psysml:33738fcf-e3ee-4a7e-98d6-e975d5107ba1\" target=\"_top\" title=\"psysml:33738fcf-e3ee-4a7e-98d6-e975d5107ba1\" xlink:actuate=\"onRequest\" xlink:href=\"psysml:33738fcf-e3ee-4a7e-98d6-e975d5107ba1\" xlink:show=\"new\" xlink:title=\"psysml:33738fcf-e3ee-4a7e-98d6-e975d5107ba1\" xlink:type=\"simple\"><polygon fill=\"#FFFFFF\" points=\"16,6,134,6,141,28.2969,824,28.2969,824,167,16,167,16,6\" style=\"stroke: #000000; stroke-width: 1.5;\"/><line style=\"stroke: #000000; stroke-width: 1.5;\" x1=\"16\" x2=\"141\" y1=\"28.2969\" y2=\"28.2969\"/><text fill=\"#000000\" font-family=\"sans-serif\" font-size=\"14\" font-weight=\"bold\" lengthAdjust=\"spacingAndGlyphs\" textLength=\"112\" x=\"20\" y=\"20.9951\">CircularImport</text></a><!--MD5=[e4f7fae6ed58524ba242bb0b0d3be6b7]\n",
       "cluster E2--><a href=\"psysml:130ef6c7-3ccc-43b9-a62a-eb926cce14a9\" target=\"_top\" title=\"psysml:130ef6c7-3ccc-43b9-a62a-eb926cce14a9\" xlink:actuate=\"onRequest\" xlink:href=\"psysml:130ef6c7-3ccc-43b9-a62a-eb926cce14a9\" xlink:show=\"new\" xlink:title=\"psysml:130ef6c7-3ccc-43b9-a62a-eb926cce14a9\" xlink:type=\"simple\"><polygon fill=\"#FFFFFF\" points=\"696,49,722,49,729,71.2969,800,71.2969,800,143,696,143,696,49\" style=\"stroke: #000000; stroke-width: 1.5;\"/><line style=\"stroke: #000000; stroke-width: 1.5;\" x1=\"696\" x2=\"729\" y1=\"71.2969\" y2=\"71.2969\"/><text fill=\"#000000\" font-family=\"sans-serif\" font-size=\"14\" font-weight=\"bold\" lengthAdjust=\"spacingAndGlyphs\" textLength=\"20\" x=\"700\" y=\"63.9951\">P1</text></a><!--MD5=[f6df4d0ebaf0b5dfb2ced0ae5af7c670]\n",
       "cluster E4--><a href=\"psysml:0bc4dbd6-620a-45b9-8d32-94753792e496\" target=\"_top\" title=\"psysml:0bc4dbd6-620a-45b9-8d32-94753792e496\" xlink:actuate=\"onRequest\" xlink:href=\"psysml:0bc4dbd6-620a-45b9-8d32-94753792e496\" xlink:show=\"new\" xlink:title=\"psysml:0bc4dbd6-620a-45b9-8d32-94753792e496\" xlink:type=\"simple\"><polygon fill=\"#FFFFFF\" points=\"568,49,594,49,601,71.2969,672,71.2969,672,143,568,143,568,49\" style=\"stroke: #000000; stroke-width: 1.5;\"/><line style=\"stroke: #000000; stroke-width: 1.5;\" x1=\"568\" x2=\"601\" y1=\"71.2969\" y2=\"71.2969\"/><text fill=\"#000000\" font-family=\"sans-serif\" font-size=\"14\" font-weight=\"bold\" lengthAdjust=\"spacingAndGlyphs\" textLength=\"20\" x=\"572\" y=\"63.9951\">P2</text></a><!--MD5=[14e3b0961a2654348d326746436168a1]\n",
       "cluster E6--><a href=\"psysml:b4043d48-e2a3-4796-9568-6bbff931ebfd\" target=\"_top\" title=\"psysml:b4043d48-e2a3-4796-9568-6bbff931ebfd\" xlink:actuate=\"onRequest\" xlink:href=\"psysml:b4043d48-e2a3-4796-9568-6bbff931ebfd\" xlink:show=\"new\" xlink:title=\"psysml:b4043d48-e2a3-4796-9568-6bbff931ebfd\" xlink:type=\"simple\"><polygon fill=\"#FFFFFF\" points=\"377,50.5,428,50.5,435,72.7969,544,72.7969,544,141.5,377,141.5,377,50.5\" style=\"stroke: #000000; stroke-width: 1.5;\"/><line style=\"stroke: #000000; stroke-width: 1.5;\" x1=\"377\" x2=\"435\" y1=\"72.7969\" y2=\"72.7969\"/><text fill=\"#000000\" font-family=\"sans-serif\" font-size=\"14\" font-weight=\"bold\" lengthAdjust=\"spacingAndGlyphs\" textLength=\"45\" x=\"381\" y=\"65.4951\">Test1</text></a><!--MD5=[7f149f147074ac12df2cb0a7728a5fb0]\n",
       "cluster E9--><a href=\"psysml:85a9df72-6515-46a6-853d-c4da844a4980\" target=\"_top\" title=\"psysml:85a9df72-6515-46a6-853d-c4da844a4980\" xlink:actuate=\"onRequest\" xlink:href=\"psysml:85a9df72-6515-46a6-853d-c4da844a4980\" xlink:show=\"new\" xlink:title=\"psysml:85a9df72-6515-46a6-853d-c4da844a4980\" xlink:type=\"simple\"><polygon fill=\"#FFFFFF\" points=\"186,50.5,237,50.5,244,72.7969,353,72.7969,353,141.5,186,141.5,186,50.5\" style=\"stroke: #000000; stroke-width: 1.5;\"/><line style=\"stroke: #000000; stroke-width: 1.5;\" x1=\"186\" x2=\"244\" y1=\"72.7969\" y2=\"72.7969\"/><text fill=\"#000000\" font-family=\"sans-serif\" font-size=\"14\" font-weight=\"bold\" lengthAdjust=\"spacingAndGlyphs\" textLength=\"45\" x=\"190\" y=\"65.4951\">Test2</text></a><g id=\"E1.E2.E3\"><a href=\"psysml:cb0f7157-438a-4ad5-8a96-0def6a248a5a\" target=\"_top\" title=\"psysml:cb0f7157-438a-4ad5-8a96-0def6a248a5a\" xlink:actuate=\"onRequest\" xlink:href=\"psysml:cb0f7157-438a-4ad5-8a96-0def6a248a5a\" xlink:show=\"new\" xlink:title=\"psysml:cb0f7157-438a-4ad5-8a96-0def6a248a5a\" xlink:type=\"simple\"><rect fill=\"#FFFFFF\" height=\"42.9375\" id=\"E3\" style=\"stroke: #383838; stroke-width: 1.5;\" width=\"71\" x=\"712.5\" y=\"84\"/><rect fill=\"#F8F8F8\" height=\"37.9375\" style=\"stroke: #383838; stroke-width: 1.5;\" width=\"71\" x=\"712.5\" y=\"84\"/><text fill=\"#000000\" font-family=\"sans-serif\" font-size=\"12\" font-style=\"italic\" lengthAdjust=\"spacingAndGlyphs\" textLength=\"64\" x=\"716\" y=\"100.1387\">«part def»</text><text fill=\"#000000\" font-family=\"sans-serif\" font-size=\"12\" lengthAdjust=\"spacingAndGlyphs\" textLength=\"8\" x=\"744\" y=\"114.1074\">A</text></a></g><g id=\"E1.E4.E5\"><a href=\"psysml:fa716e5d-1985-44ef-b151-4b2b4c0691ed\" target=\"_top\" title=\"psysml:fa716e5d-1985-44ef-b151-4b2b4c0691ed\" xlink:actuate=\"onRequest\" xlink:href=\"psysml:fa716e5d-1985-44ef-b151-4b2b4c0691ed\" xlink:show=\"new\" xlink:title=\"psysml:fa716e5d-1985-44ef-b151-4b2b4c0691ed\" xlink:type=\"simple\"><rect fill=\"#FFFFFF\" height=\"42.9375\" id=\"E5\" style=\"stroke: #383838; stroke-width: 1.5;\" width=\"71\" x=\"584.5\" y=\"84\"/><rect fill=\"#F8F8F8\" height=\"37.9375\" style=\"stroke: #383838; stroke-width: 1.5;\" width=\"71\" x=\"584.5\" y=\"84\"/><text fill=\"#000000\" font-family=\"sans-serif\" font-size=\"12\" font-style=\"italic\" lengthAdjust=\"spacingAndGlyphs\" textLength=\"64\" x=\"588\" y=\"100.1387\">«part def»</text><text fill=\"#000000\" font-family=\"sans-serif\" font-size=\"12\" lengthAdjust=\"spacingAndGlyphs\" textLength=\"8\" x=\"616\" y=\"114.1074\">B</text></a></g><g id=\"E1.E6.E7\"><a href=\"psysml:418b0add-8d91-4a6d-810e-c529e1e5d9c2\" target=\"_top\" title=\"psysml:418b0add-8d91-4a6d-810e-c529e1e5d9c2\" xlink:actuate=\"onRequest\" xlink:href=\"psysml:418b0add-8d91-4a6d-810e-c529e1e5d9c2\" xlink:show=\"new\" xlink:title=\"psysml:418b0add-8d91-4a6d-810e-c529e1e5d9c2\" xlink:type=\"simple\"><rect fill=\"#FFFFFF\" height=\"40\" id=\"E7\" rx=\"10\" ry=\"10\" style=\"stroke: #383838; stroke-width: 1.5;\" width=\"50\" x=\"478\" y=\"85.5\"/><rect fill=\"#F8F8F8\" height=\"23.9688\" rx=\"10\" ry=\"10\" style=\"stroke: #F8F8F8; stroke-width: 1.5;\" width=\"50\" x=\"478\" y=\"85.5\"/><rect fill=\"#F8F8F8\" height=\"10\" style=\"stroke: #F8F8F8; stroke-width: 1.5;\" width=\"50\" x=\"478\" y=\"99.4688\"/><rect fill=\"none\" height=\"40\" id=\"E7\" rx=\"10\" ry=\"10\" style=\"stroke: #383838; stroke-width: 1.5;\" width=\"50\" x=\"478\" y=\"85.5\"/><text fill=\"#000000\" font-family=\"sans-serif\" font-size=\"12\" lengthAdjust=\"spacingAndGlyphs\" textLength=\"22\" x=\"492\" y=\"101.6387\">x: A</text></a></g><g id=\"E1.E6.E8\"><a href=\"psysml:c18479a8-8a5a-4a0f-a7e4-033b0648dafb\" target=\"_top\" title=\"psysml:c18479a8-8a5a-4a0f-a7e4-033b0648dafb\" xlink:actuate=\"onRequest\" xlink:href=\"psysml:c18479a8-8a5a-4a0f-a7e4-033b0648dafb\" xlink:show=\"new\" xlink:title=\"psysml:c18479a8-8a5a-4a0f-a7e4-033b0648dafb\" xlink:type=\"simple\"><rect fill=\"#FFFFFF\" height=\"40\" id=\"E8\" rx=\"10\" ry=\"10\" style=\"stroke: #383838; stroke-width: 1.5;\" width=\"50\" x=\"393\" y=\"85.5\"/><rect fill=\"#F8F8F8\" height=\"23.9688\" rx=\"10\" ry=\"10\" style=\"stroke: #F8F8F8; stroke-width: 1.5;\" width=\"50\" x=\"393\" y=\"85.5\"/><rect fill=\"#F8F8F8\" height=\"10\" style=\"stroke: #F8F8F8; stroke-width: 1.5;\" width=\"50\" x=\"393\" y=\"99.4688\"/><rect fill=\"none\" height=\"40\" id=\"E8\" rx=\"10\" ry=\"10\" style=\"stroke: #383838; stroke-width: 1.5;\" width=\"50\" x=\"393\" y=\"85.5\"/><text fill=\"#000000\" font-family=\"sans-serif\" font-size=\"12\" lengthAdjust=\"spacingAndGlyphs\" textLength=\"22\" x=\"407\" y=\"101.6387\">y: B</text></a></g><g id=\"E1.E9.E10\"><a href=\"psysml:61feb9d5-4074-478e-84bb-b7eccf03922b\" target=\"_top\" title=\"psysml:61feb9d5-4074-478e-84bb-b7eccf03922b\" xlink:actuate=\"onRequest\" xlink:href=\"psysml:61feb9d5-4074-478e-84bb-b7eccf03922b\" xlink:show=\"new\" xlink:title=\"psysml:61feb9d5-4074-478e-84bb-b7eccf03922b\" xlink:type=\"simple\"><rect fill=\"#FFFFFF\" height=\"40\" id=\"E10\" rx=\"10\" ry=\"10\" style=\"stroke: #383838; stroke-width: 1.5;\" width=\"50\" x=\"287\" y=\"85.5\"/><rect fill=\"#F8F8F8\" height=\"23.9688\" rx=\"10\" ry=\"10\" style=\"stroke: #F8F8F8; stroke-width: 1.5;\" width=\"50\" x=\"287\" y=\"85.5\"/><rect fill=\"#F8F8F8\" height=\"10\" style=\"stroke: #F8F8F8; stroke-width: 1.5;\" width=\"50\" x=\"287\" y=\"99.4688\"/><rect fill=\"none\" height=\"40\" id=\"E10\" rx=\"10\" ry=\"10\" style=\"stroke: #383838; stroke-width: 1.5;\" width=\"50\" x=\"287\" y=\"85.5\"/><text fill=\"#000000\" font-family=\"sans-serif\" font-size=\"12\" lengthAdjust=\"spacingAndGlyphs\" textLength=\"22\" x=\"301\" y=\"101.6387\">x: A</text></a></g><g id=\"E1.E9.E11\"><a href=\"psysml:2edd355f-e967-45cc-82fe-80091bb729bd\" target=\"_top\" title=\"psysml:2edd355f-e967-45cc-82fe-80091bb729bd\" xlink:actuate=\"onRequest\" xlink:href=\"psysml:2edd355f-e967-45cc-82fe-80091bb729bd\" xlink:show=\"new\" xlink:title=\"psysml:2edd355f-e967-45cc-82fe-80091bb729bd\" xlink:type=\"simple\"><rect fill=\"#FFFFFF\" height=\"40\" id=\"E11\" rx=\"10\" ry=\"10\" style=\"stroke: #383838; stroke-width: 1.5;\" width=\"50\" x=\"202\" y=\"85.5\"/><rect fill=\"#F8F8F8\" height=\"23.9688\" rx=\"10\" ry=\"10\" style=\"stroke: #F8F8F8; stroke-width: 1.5;\" width=\"50\" x=\"202\" y=\"85.5\"/><rect fill=\"#F8F8F8\" height=\"10\" style=\"stroke: #F8F8F8; stroke-width: 1.5;\" width=\"50\" x=\"202\" y=\"99.4688\"/><rect fill=\"none\" height=\"40\" id=\"E11\" rx=\"10\" ry=\"10\" style=\"stroke: #383838; stroke-width: 1.5;\" width=\"50\" x=\"202\" y=\"85.5\"/><text fill=\"#000000\" font-family=\"sans-serif\" font-size=\"12\" lengthAdjust=\"spacingAndGlyphs\" textLength=\"22\" x=\"216\" y=\"101.6387\">y: B</text></a></g><g id=\"E1.E12\"><a href=\"psysml:530a6ae9-7dc1-4851-ab10-936e92c948f7\" target=\"_top\" title=\"psysml:530a6ae9-7dc1-4851-ab10-936e92c948f7\" xlink:actuate=\"onRequest\" xlink:href=\"psysml:530a6ae9-7dc1-4851-ab10-936e92c948f7\" xlink:show=\"new\" xlink:title=\"psysml:530a6ae9-7dc1-4851-ab10-936e92c948f7\" xlink:type=\"simple\"><rect fill=\"#FFFFFF\" height=\"40\" id=\"E12\" rx=\"10\" ry=\"10\" style=\"stroke: #383838; stroke-width: 1.5;\" width=\"50\" x=\"117\" y=\"85.5\"/><rect fill=\"#F8F8F8\" height=\"23.9688\" rx=\"10\" ry=\"10\" style=\"stroke: #F8F8F8; stroke-width: 1.5;\" width=\"50\" x=\"117\" y=\"85.5\"/><rect fill=\"#F8F8F8\" height=\"10\" style=\"stroke: #F8F8F8; stroke-width: 1.5;\" width=\"50\" x=\"117\" y=\"99.4688\"/><rect fill=\"none\" height=\"40\" id=\"E12\" rx=\"10\" ry=\"10\" style=\"stroke: #383838; stroke-width: 1.5;\" width=\"50\" x=\"117\" y=\"85.5\"/><text fill=\"#000000\" font-family=\"sans-serif\" font-size=\"12\" lengthAdjust=\"spacingAndGlyphs\" textLength=\"22\" x=\"131\" y=\"101.6387\">x: A</text></a></g><g id=\"E1.E13\"><a href=\"psysml:561bfa55-252f-4783-9fb1-458618dbf236\" target=\"_top\" title=\"psysml:561bfa55-252f-4783-9fb1-458618dbf236\" xlink:actuate=\"onRequest\" xlink:href=\"psysml:561bfa55-252f-4783-9fb1-458618dbf236\" xlink:show=\"new\" xlink:title=\"psysml:561bfa55-252f-4783-9fb1-458618dbf236\" xlink:type=\"simple\"><rect fill=\"#FFFFFF\" height=\"40\" id=\"E13\" rx=\"10\" ry=\"10\" style=\"stroke: #383838; stroke-width: 1.5;\" width=\"50\" x=\"32\" y=\"85.5\"/><rect fill=\"#F8F8F8\" height=\"23.9688\" rx=\"10\" ry=\"10\" style=\"stroke: #F8F8F8; stroke-width: 1.5;\" width=\"50\" x=\"32\" y=\"85.5\"/><rect fill=\"#F8F8F8\" height=\"10\" style=\"stroke: #F8F8F8; stroke-width: 1.5;\" width=\"50\" x=\"32\" y=\"99.4688\"/><rect fill=\"none\" height=\"40\" id=\"E13\" rx=\"10\" ry=\"10\" style=\"stroke: #383838; stroke-width: 1.5;\" width=\"50\" x=\"32\" y=\"85.5\"/><text fill=\"#000000\" font-family=\"sans-serif\" font-size=\"12\" lengthAdjust=\"spacingAndGlyphs\" textLength=\"22\" x=\"46\" y=\"101.6387\">y: B</text></a></g><!--MD5=[a29bbd92656cf7266ccbd1df0bd6aada]\n",
       "@startuml\r\n",
       "skinparam ranksep 10\r\n",
       "skinparam rectangle {\r\n",
       " backgroundColor<<block>> LightGreen\r\n",
       "}\r\n",
       " skinparam monochrome true\r\n",
       "skinparam classbackgroundcolor white\r\n",
       "skinparam shadowing false\r\n",
       "skinparam wrapWidth 300\r\n",
       "hide circle\r\n",
       "\r\n",
       "package \"CircularImport\" as E1  [[psysml:33738fcf-e3ee-4a7e-98d6-e975d5107ba1 ]]  {\r\n",
       "package \"P1\" as E2  [[psysml:130ef6c7-3ccc-43b9-a62a-eb926cce14a9 ]]  {\r\n",
       "rec def \"A\" as E3  <<(T,blue) part def>> [[psysml:cb0f7157-438a-4ad5-8a96-0def6a248a5a ]] {\r\n",
       "}\r\n",
       "}\r\n",
       "package \"P2\" as E4  [[psysml:0bc4dbd6-620a-45b9-8d32-94753792e496 ]]  {\r\n",
       "rec def \"B\" as E5  <<(T,blue) part def>> [[psysml:fa716e5d-1985-44ef-b151-4b2b4c0691ed ]] {\r\n",
       "}\r\n",
       "}\r\n",
       "package \"Test1\" as E6  [[psysml:b4043d48-e2a3-4796-9568-6bbff931ebfd ]]  {\r\n",
       "rec usage \"x: A\" as E7  [[psysml:418b0add-8d91-4a6d-810e-c529e1e5d9c2 ]] {\r\n",
       "}\r\n",
       "rec usage \"y: B\" as E8  [[psysml:c18479a8-8a5a-4a0f-a7e4-033b0648dafb ]] {\r\n",
       "}\r\n",
       "}\r\n",
       "package \"Test2\" as E9  [[psysml:85a9df72-6515-46a6-853d-c4da844a4980 ]]  {\r\n",
       "rec usage \"x: A\" as E10  [[psysml:61feb9d5-4074-478e-84bb-b7eccf03922b ]] {\r\n",
       "}\r\n",
       "rec usage \"y: B\" as E11  [[psysml:2edd355f-e967-45cc-82fe-80091bb729bd ]] {\r\n",
       "}\r\n",
       "}\r\n",
       "rec usage \"x: A\" as E12  [[psysml:530a6ae9-7dc1-4851-ab10-936e92c948f7 ]] {\r\n",
       "}\r\n",
       "rec usage \"y: B\" as E13  [[psysml:561bfa55-252f-4783-9fb1-458618dbf236 ]] {\r\n",
       "}\r\n",
       "}\r\n",
       "@enduml\r\n",
       "\n",
       "PlantUML version 1.2020.13(Sat Jun 13 12:26:38 UTC 2020)\n",
       "(EPL source distribution)\n",
       "Java Runtime: OpenJDK Runtime Environment\n",
       "JVM: OpenJDK 64-Bit Server VM\n",
       "Default Encoding: UTF-8\n",
       "Language: en\n",
       "Country: null\n",
       "--></g></svg>"
      ]
     },
     "execution_count": 5,
     "metadata": {},
     "output_type": "execute_result"
    }
   ],
   "source": [
    "%viz --style=\"COMPTREE\" --view=\"Interconnection\" \"CircularImport\""
   ]
  },
  {
   "cell_type": "code",
   "execution_count": 6,
   "id": "440e5d06",
   "metadata": {
    "execution": {
     "iopub.execute_input": "2021-06-30T09:15:07.613724Z",
     "iopub.status.busy": "2021-06-30T09:15:07.613010Z",
     "iopub.status.idle": "2021-06-30T09:15:07.621871Z",
     "shell.execute_reply": "2021-06-30T09:15:07.622192Z"
    }
   },
   "outputs": [
    {
     "data": {
      "image/svg+xml": [
       "<?xml version=\"1.0\" encoding=\"UTF-8\" standalone=\"no\"?><svg xmlns=\"http://www.w3.org/2000/svg\" xmlns:xlink=\"http://www.w3.org/1999/xlink\" contentScriptType=\"application/ecmascript\" contentStyleType=\"text/css\" height=\"12px\" preserveAspectRatio=\"none\" style=\"width:12px;height:12px;\" version=\"1.1\" viewBox=\"0 0 12 12\" width=\"12px\" zoomAndPan=\"magnify\"><defs/><g><!--MD5=[655b888544ca4751ea36af1068543f84]\n",
       "@startuml\r\n",
       "skinparam ranksep 8\r\n",
       " skinparam monochrome true\r\n",
       "skinparam classbackgroundcolor white\r\n",
       "skinparam shadowing false\r\n",
       "skinparam wrapWidth 300\r\n",
       "hide circle\r\n",
       "\r\n",
       "@enduml\r\n",
       "\n",
       "PlantUML version 1.2020.13(Sat Jun 13 12:26:38 UTC 2020)\n",
       "(EPL source distribution)\n",
       "Java Runtime: OpenJDK Runtime Environment\n",
       "JVM: OpenJDK 64-Bit Server VM\n",
       "Default Encoding: UTF-8\n",
       "Language: en\n",
       "Country: null\n",
       "--></g></svg>"
      ]
     },
     "execution_count": 6,
     "metadata": {},
     "output_type": "execute_result"
    }
   ],
   "source": [
    "%viz --style=\"COMPTREE\" --view=\"Action\" \"CircularImport\""
   ]
  },
  {
   "cell_type": "code",
   "execution_count": 7,
   "id": "7b8f9e47",
   "metadata": {
    "execution": {
     "iopub.execute_input": "2021-06-30T09:15:07.675717Z",
     "iopub.status.busy": "2021-06-30T09:15:07.674922Z",
     "iopub.status.idle": "2021-06-30T09:15:07.763558Z",
     "shell.execute_reply": "2021-06-30T09:15:07.763978Z"
    }
   },
   "outputs": [
    {
     "data": {
      "image/svg+xml": [
       "<?xml version=\"1.0\" encoding=\"UTF-8\" standalone=\"no\"?><svg xmlns=\"http://www.w3.org/2000/svg\" xmlns:xlink=\"http://www.w3.org/1999/xlink\" contentScriptType=\"application/ecmascript\" contentStyleType=\"text/css\" height=\"303px\" preserveAspectRatio=\"none\" style=\"width:518px;height:303px;\" version=\"1.1\" viewBox=\"0 0 518 303\" width=\"518px\" zoomAndPan=\"magnify\"><defs/><g><!--MD5=[fbc87193dbaf4d95561dea2c320d4a47]\n",
       "cluster E1--><a href=\"psysml:33738fcf-e3ee-4a7e-98d6-e975d5107ba1\" target=\"_top\" title=\"psysml:33738fcf-e3ee-4a7e-98d6-e975d5107ba1\" xlink:actuate=\"onRequest\" xlink:href=\"psysml:33738fcf-e3ee-4a7e-98d6-e975d5107ba1\" xlink:show=\"new\" xlink:title=\"psysml:33738fcf-e3ee-4a7e-98d6-e975d5107ba1\" xlink:type=\"simple\"><polygon fill=\"#FFFFFF\" points=\"16,6,134,6,141,28.2969,496,28.2969,496,291,16,291,16,6\" style=\"stroke: #000000; stroke-width: 1.5;\"/><line style=\"stroke: #000000; stroke-width: 1.5;\" x1=\"16\" x2=\"141\" y1=\"28.2969\" y2=\"28.2969\"/><text fill=\"#000000\" font-family=\"sans-serif\" font-size=\"14\" font-weight=\"bold\" lengthAdjust=\"spacingAndGlyphs\" textLength=\"112\" x=\"20\" y=\"20.9951\">CircularImport</text></a><!--MD5=[e4f7fae6ed58524ba242bb0b0d3be6b7]\n",
       "cluster E2--><a href=\"psysml:130ef6c7-3ccc-43b9-a62a-eb926cce14a9\" target=\"_top\" title=\"psysml:130ef6c7-3ccc-43b9-a62a-eb926cce14a9\" xlink:actuate=\"onRequest\" xlink:href=\"psysml:130ef6c7-3ccc-43b9-a62a-eb926cce14a9\" xlink:show=\"new\" xlink:title=\"psysml:130ef6c7-3ccc-43b9-a62a-eb926cce14a9\" xlink:type=\"simple\"><polygon fill=\"#FFFFFF\" points=\"333,170,359,170,366,192.2969,431,192.2969,431,267,333,267,333,170\" style=\"stroke: #000000; stroke-width: 1.5;\"/><line style=\"stroke: #000000; stroke-width: 1.5;\" x1=\"333\" x2=\"366\" y1=\"192.2969\" y2=\"192.2969\"/><text fill=\"#000000\" font-family=\"sans-serif\" font-size=\"14\" font-weight=\"bold\" lengthAdjust=\"spacingAndGlyphs\" textLength=\"20\" x=\"337\" y=\"184.9951\">P1</text></a><!--MD5=[f6df4d0ebaf0b5dfb2ced0ae5af7c670]\n",
       "cluster E4--><a href=\"psysml:0bc4dbd6-620a-45b9-8d32-94753792e496\" target=\"_top\" title=\"psysml:0bc4dbd6-620a-45b9-8d32-94753792e496\" xlink:actuate=\"onRequest\" xlink:href=\"psysml:0bc4dbd6-620a-45b9-8d32-94753792e496\" xlink:show=\"new\" xlink:title=\"psysml:0bc4dbd6-620a-45b9-8d32-94753792e496\" xlink:type=\"simple\"><polygon fill=\"#FFFFFF\" points=\"81,170,107,170,114,192.2969,179,192.2969,179,267,81,267,81,170\" style=\"stroke: #000000; stroke-width: 1.5;\"/><line style=\"stroke: #000000; stroke-width: 1.5;\" x1=\"81\" x2=\"114\" y1=\"192.2969\" y2=\"192.2969\"/><text fill=\"#000000\" font-family=\"sans-serif\" font-size=\"14\" font-weight=\"bold\" lengthAdjust=\"spacingAndGlyphs\" textLength=\"20\" x=\"85\" y=\"184.9951\">P2</text></a><!--MD5=[14e3b0961a2654348d326746436168a1]\n",
       "cluster E6--><a href=\"psysml:b4043d48-e2a3-4796-9568-6bbff931ebfd\" target=\"_top\" title=\"psysml:b4043d48-e2a3-4796-9568-6bbff931ebfd\" xlink:actuate=\"onRequest\" xlink:href=\"psysml:b4043d48-e2a3-4796-9568-6bbff931ebfd\" xlink:show=\"new\" xlink:title=\"psysml:b4043d48-e2a3-4796-9568-6bbff931ebfd\" xlink:type=\"simple\"><polygon fill=\"#FFFFFF\" points=\"268,49,319,49,326,71.2969,419,71.2969,419,146,268,146,268,49\" style=\"stroke: #000000; stroke-width: 1.5;\"/><line style=\"stroke: #000000; stroke-width: 1.5;\" x1=\"268\" x2=\"326\" y1=\"71.2969\" y2=\"71.2969\"/><text fill=\"#000000\" font-family=\"sans-serif\" font-size=\"14\" font-weight=\"bold\" lengthAdjust=\"spacingAndGlyphs\" textLength=\"45\" x=\"272\" y=\"63.9951\">Test1</text></a><!--MD5=[7f149f147074ac12df2cb0a7728a5fb0]\n",
       "cluster E9--><a href=\"psysml:85a9df72-6515-46a6-853d-c4da844a4980\" target=\"_top\" title=\"psysml:85a9df72-6515-46a6-853d-c4da844a4980\" xlink:actuate=\"onRequest\" xlink:href=\"psysml:85a9df72-6515-46a6-853d-c4da844a4980\" xlink:show=\"new\" xlink:title=\"psysml:85a9df72-6515-46a6-853d-c4da844a4980\" xlink:type=\"simple\"><polygon fill=\"#FFFFFF\" points=\"93,49,144,49,151,71.2969,244,71.2969,244,146,93,146,93,49\" style=\"stroke: #000000; stroke-width: 1.5;\"/><line style=\"stroke: #000000; stroke-width: 1.5;\" x1=\"93\" x2=\"151\" y1=\"71.2969\" y2=\"71.2969\"/><text fill=\"#000000\" font-family=\"sans-serif\" font-size=\"14\" font-weight=\"bold\" lengthAdjust=\"spacingAndGlyphs\" textLength=\"45\" x=\"97\" y=\"63.9951\">Test2</text></a><!--MD5=[49a0ec8f00dab7302a31f22d0f0fe584]\n",
       "class E12--><a href=\"psysml:530a6ae9-7dc1-4851-ab10-936e92c948f7\" target=\"_top\" title=\"psysml:530a6ae9-7dc1-4851-ab10-936e92c948f7\" xlink:actuate=\"onRequest\" xlink:href=\"psysml:530a6ae9-7dc1-4851-ab10-936e92c948f7\" xlink:show=\"new\" xlink:title=\"psysml:530a6ae9-7dc1-4851-ab10-936e92c948f7\" xlink:type=\"simple\"><rect fill=\"#FFFFFF\" height=\"45.9375\" id=\"E12\" rx=\"10\" ry=\"10\" style=\"stroke: #383838; stroke-width: 1.5;\" width=\"42\" x=\"438\" y=\"84\"/><text fill=\"#000000\" font-family=\"sans-serif\" font-size=\"12\" font-style=\"italic\" lengthAdjust=\"spacingAndGlyphs\" textLength=\"40\" x=\"439\" y=\"100.1387\">«part»</text><text fill=\"#000000\" font-family=\"sans-serif\" font-size=\"12\" lengthAdjust=\"spacingAndGlyphs\" textLength=\"22\" x=\"448\" y=\"114.1074\">x: A</text><line style=\"stroke: #383838; stroke-width: 1.5;\" x1=\"439\" x2=\"479\" y1=\"121.9375\" y2=\"121.9375\"/></a><!--MD5=[ee3c913d1a06f366521f9ef512b67efe]\n",
       "class E13--><a href=\"psysml:561bfa55-252f-4783-9fb1-458618dbf236\" target=\"_top\" title=\"psysml:561bfa55-252f-4783-9fb1-458618dbf236\" xlink:actuate=\"onRequest\" xlink:href=\"psysml:561bfa55-252f-4783-9fb1-458618dbf236\" xlink:show=\"new\" xlink:title=\"psysml:561bfa55-252f-4783-9fb1-458618dbf236\" xlink:type=\"simple\"><rect fill=\"#FFFFFF\" height=\"45.9375\" id=\"E13\" rx=\"10\" ry=\"10\" style=\"stroke: #383838; stroke-width: 1.5;\" width=\"42\" x=\"32\" y=\"84\"/><text fill=\"#000000\" font-family=\"sans-serif\" font-size=\"12\" font-style=\"italic\" lengthAdjust=\"spacingAndGlyphs\" textLength=\"40\" x=\"33\" y=\"100.1387\">«part»</text><text fill=\"#000000\" font-family=\"sans-serif\" font-size=\"12\" lengthAdjust=\"spacingAndGlyphs\" textLength=\"22\" x=\"42\" y=\"114.1074\">y: B</text><line style=\"stroke: #383838; stroke-width: 1.5;\" x1=\"33\" x2=\"73\" y1=\"121.9375\" y2=\"121.9375\"/></a><!--MD5=[09b614a08d8cba4a07c9adeb5e0fee81]\n",
       "class E3--><a href=\"psysml:cb0f7157-438a-4ad5-8a96-0def6a248a5a\" target=\"_top\" title=\"psysml:cb0f7157-438a-4ad5-8a96-0def6a248a5a\" xlink:actuate=\"onRequest\" xlink:href=\"psysml:cb0f7157-438a-4ad5-8a96-0def6a248a5a\" xlink:show=\"new\" xlink:title=\"psysml:cb0f7157-438a-4ad5-8a96-0def6a248a5a\" xlink:type=\"simple\"><rect fill=\"#FFFFFF\" height=\"45.9375\" id=\"E3\" style=\"stroke: #383838; stroke-width: 1.5;\" width=\"66\" x=\"349\" y=\"205\"/><text fill=\"#000000\" font-family=\"sans-serif\" font-size=\"12\" font-style=\"italic\" lengthAdjust=\"spacingAndGlyphs\" textLength=\"64\" x=\"350\" y=\"221.1387\">«part def»</text><text fill=\"#000000\" font-family=\"sans-serif\" font-size=\"12\" lengthAdjust=\"spacingAndGlyphs\" textLength=\"8\" x=\"378\" y=\"235.1074\">A</text><line style=\"stroke: #383838; stroke-width: 1.5;\" x1=\"350\" x2=\"414\" y1=\"242.9375\" y2=\"242.9375\"/></a><!--MD5=[270fce915f116d4de14055a7c1d9a0f3]\n",
       "class E5--><a href=\"psysml:fa716e5d-1985-44ef-b151-4b2b4c0691ed\" target=\"_top\" title=\"psysml:fa716e5d-1985-44ef-b151-4b2b4c0691ed\" xlink:actuate=\"onRequest\" xlink:href=\"psysml:fa716e5d-1985-44ef-b151-4b2b4c0691ed\" xlink:show=\"new\" xlink:title=\"psysml:fa716e5d-1985-44ef-b151-4b2b4c0691ed\" xlink:type=\"simple\"><rect fill=\"#FFFFFF\" height=\"45.9375\" id=\"E5\" style=\"stroke: #383838; stroke-width: 1.5;\" width=\"66\" x=\"97\" y=\"205\"/><text fill=\"#000000\" font-family=\"sans-serif\" font-size=\"12\" font-style=\"italic\" lengthAdjust=\"spacingAndGlyphs\" textLength=\"64\" x=\"98\" y=\"221.1387\">«part def»</text><text fill=\"#000000\" font-family=\"sans-serif\" font-size=\"12\" lengthAdjust=\"spacingAndGlyphs\" textLength=\"8\" x=\"126\" y=\"235.1074\">B</text><line style=\"stroke: #383838; stroke-width: 1.5;\" x1=\"98\" x2=\"162\" y1=\"242.9375\" y2=\"242.9375\"/></a><!--MD5=[2156ba9850f5573cc1fc38a6a4b2f02b]\n",
       "class E7--><a href=\"psysml:418b0add-8d91-4a6d-810e-c529e1e5d9c2\" target=\"_top\" title=\"psysml:418b0add-8d91-4a6d-810e-c529e1e5d9c2\" xlink:actuate=\"onRequest\" xlink:href=\"psysml:418b0add-8d91-4a6d-810e-c529e1e5d9c2\" xlink:show=\"new\" xlink:title=\"psysml:418b0add-8d91-4a6d-810e-c529e1e5d9c2\" xlink:type=\"simple\"><rect fill=\"#FFFFFF\" height=\"45.9375\" id=\"E7\" rx=\"10\" ry=\"10\" style=\"stroke: #383838; stroke-width: 1.5;\" width=\"42\" x=\"361\" y=\"84\"/><text fill=\"#000000\" font-family=\"sans-serif\" font-size=\"12\" font-style=\"italic\" lengthAdjust=\"spacingAndGlyphs\" textLength=\"40\" x=\"362\" y=\"100.1387\">«part»</text><text fill=\"#000000\" font-family=\"sans-serif\" font-size=\"12\" lengthAdjust=\"spacingAndGlyphs\" textLength=\"22\" x=\"371\" y=\"114.1074\">x: A</text><line style=\"stroke: #383838; stroke-width: 1.5;\" x1=\"362\" x2=\"402\" y1=\"121.9375\" y2=\"121.9375\"/></a><!--MD5=[b9389687b975829384b498ac4b7476b2]\n",
       "class E8--><a href=\"psysml:c18479a8-8a5a-4a0f-a7e4-033b0648dafb\" target=\"_top\" title=\"psysml:c18479a8-8a5a-4a0f-a7e4-033b0648dafb\" xlink:actuate=\"onRequest\" xlink:href=\"psysml:c18479a8-8a5a-4a0f-a7e4-033b0648dafb\" xlink:show=\"new\" xlink:title=\"psysml:c18479a8-8a5a-4a0f-a7e4-033b0648dafb\" xlink:type=\"simple\"><rect fill=\"#FFFFFF\" height=\"45.9375\" id=\"E8\" rx=\"10\" ry=\"10\" style=\"stroke: #383838; stroke-width: 1.5;\" width=\"42\" x=\"284\" y=\"84\"/><text fill=\"#000000\" font-family=\"sans-serif\" font-size=\"12\" font-style=\"italic\" lengthAdjust=\"spacingAndGlyphs\" textLength=\"40\" x=\"285\" y=\"100.1387\">«part»</text><text fill=\"#000000\" font-family=\"sans-serif\" font-size=\"12\" lengthAdjust=\"spacingAndGlyphs\" textLength=\"22\" x=\"294\" y=\"114.1074\">y: B</text><line style=\"stroke: #383838; stroke-width: 1.5;\" x1=\"285\" x2=\"325\" y1=\"121.9375\" y2=\"121.9375\"/></a><!--MD5=[96f4274e9e20536e775497830990834d]\n",
       "class E10--><a href=\"psysml:61feb9d5-4074-478e-84bb-b7eccf03922b\" target=\"_top\" title=\"psysml:61feb9d5-4074-478e-84bb-b7eccf03922b\" xlink:actuate=\"onRequest\" xlink:href=\"psysml:61feb9d5-4074-478e-84bb-b7eccf03922b\" xlink:show=\"new\" xlink:title=\"psysml:61feb9d5-4074-478e-84bb-b7eccf03922b\" xlink:type=\"simple\"><rect fill=\"#FFFFFF\" height=\"45.9375\" id=\"E10\" rx=\"10\" ry=\"10\" style=\"stroke: #383838; stroke-width: 1.5;\" width=\"42\" x=\"186\" y=\"84\"/><text fill=\"#000000\" font-family=\"sans-serif\" font-size=\"12\" font-style=\"italic\" lengthAdjust=\"spacingAndGlyphs\" textLength=\"40\" x=\"187\" y=\"100.1387\">«part»</text><text fill=\"#000000\" font-family=\"sans-serif\" font-size=\"12\" lengthAdjust=\"spacingAndGlyphs\" textLength=\"22\" x=\"196\" y=\"114.1074\">x: A</text><line style=\"stroke: #383838; stroke-width: 1.5;\" x1=\"187\" x2=\"227\" y1=\"121.9375\" y2=\"121.9375\"/></a><!--MD5=[1dd1bfd58a279cf63c5f349dbc8fc6a1]\n",
       "class E11--><a href=\"psysml:2edd355f-e967-45cc-82fe-80091bb729bd\" target=\"_top\" title=\"psysml:2edd355f-e967-45cc-82fe-80091bb729bd\" xlink:actuate=\"onRequest\" xlink:href=\"psysml:2edd355f-e967-45cc-82fe-80091bb729bd\" xlink:show=\"new\" xlink:title=\"psysml:2edd355f-e967-45cc-82fe-80091bb729bd\" xlink:type=\"simple\"><rect fill=\"#FFFFFF\" height=\"45.9375\" id=\"E11\" rx=\"10\" ry=\"10\" style=\"stroke: #383838; stroke-width: 1.5;\" width=\"42\" x=\"109\" y=\"84\"/><text fill=\"#000000\" font-family=\"sans-serif\" font-size=\"12\" font-style=\"italic\" lengthAdjust=\"spacingAndGlyphs\" textLength=\"40\" x=\"110\" y=\"100.1387\">«part»</text><text fill=\"#000000\" font-family=\"sans-serif\" font-size=\"12\" lengthAdjust=\"spacingAndGlyphs\" textLength=\"22\" x=\"119\" y=\"114.1074\">y: B</text><line style=\"stroke: #383838; stroke-width: 1.5;\" x1=\"110\" x2=\"150\" y1=\"121.9375\" y2=\"121.9375\"/></a><!--MD5=[14ccda38c055a5c0da953d572bc50960]\n",
       "link E7 to E3--><a href=\"psysml:c27725e1-02a3-443e-822c-73205e66e264\" target=\"_top\" title=\"psysml:c27725e1-02a3-443e-822c-73205e66e264\" xlink:actuate=\"onRequest\" xlink:href=\"psysml:c27725e1-02a3-443e-822c-73205e66e264\" xlink:show=\"new\" xlink:title=\"psysml:c27725e1-02a3-443e-822c-73205e66e264\" xlink:type=\"simple\"><path d=\"M382,130.1 C382,145.37 382,166.16 382,184.57 \" fill=\"none\" id=\"E7-&gt;E3\" style=\"stroke: #383838; stroke-width: 1.0;\"/><polygon fill=\"#FFFFFF\" points=\"382,204.61,375,185.61,389,185.61,382,204.61\" style=\"stroke: #383838; stroke-width: 1.0;\"/><ellipse cx=\"377\" cy=\"179.91\" fill=\"#383838\" rx=\"2\" ry=\"2\" style=\"stroke: #383838; stroke-width: 1.0;\"/><ellipse cx=\"387\" cy=\"179.91\" fill=\"#383838\" rx=\"2\" ry=\"2\" style=\"stroke: #383838; stroke-width: 1.0;\"/></a><!--MD5=[1ccb2481ffa92f8d51a74ee30c51832a]\n",
       "link E8 to E5--><a href=\"psysml:43ceeb8e-eeaf-4aa9-b958-61b6f980f202\" target=\"_top\" title=\"psysml:43ceeb8e-eeaf-4aa9-b958-61b6f980f202\" xlink:actuate=\"onRequest\" xlink:href=\"psysml:43ceeb8e-eeaf-4aa9-b958-61b6f980f202\" xlink:show=\"new\" xlink:title=\"psysml:43ceeb8e-eeaf-4aa9-b958-61b6f980f202\" xlink:type=\"simple\"><path d=\"M283.84,124.59 C272.23,133.52 257.5,144.61 244,154 C223.51,168.25 200.41,183.24 180.38,195.91 \" fill=\"none\" id=\"E8-&gt;E5\" style=\"stroke: #383838; stroke-width: 1.0;\"/><polygon fill=\"#FFFFFF\" points=\"163.36,206.57,175.7353,190.5434,183.175,202.403,163.36,206.57\" style=\"stroke: #383838; stroke-width: 1.0;\"/><ellipse cx=\"181.6267\" cy=\"189.2086\" fill=\"#383838\" rx=\"2\" ry=\"2\" style=\"stroke: #383838; stroke-width: 1.0;\"/><ellipse cx=\"186.9408\" cy=\"197.6797\" fill=\"#383838\" rx=\"2\" ry=\"2\" style=\"stroke: #383838; stroke-width: 1.0;\"/></a><!--MD5=[feeac5eb423634930294aa81f2d25a4c]\n",
       "link E10 to E3--><a href=\"psysml:2f015e6c-7efc-43fd-92bb-26e8cb5e6a22\" target=\"_top\" title=\"psysml:2f015e6c-7efc-43fd-92bb-26e8cb5e6a22\" xlink:actuate=\"onRequest\" xlink:href=\"psysml:2f015e6c-7efc-43fd-92bb-26e8cb5e6a22\" xlink:show=\"new\" xlink:title=\"psysml:2f015e6c-7efc-43fd-92bb-26e8cb5e6a22\" xlink:type=\"simple\"><path d=\"M228.16,124.59 C239.77,133.52 254.5,144.61 268,154 C288.49,168.25 311.59,183.24 331.62,195.91 \" fill=\"none\" id=\"E10-&gt;E3\" style=\"stroke: #383838; stroke-width: 1.0;\"/><polygon fill=\"#FFFFFF\" points=\"348.64,206.57,328.825,202.403,336.2647,190.5434,348.64,206.57\" style=\"stroke: #383838; stroke-width: 1.0;\"/><ellipse cx=\"325.0592\" cy=\"197.6797\" fill=\"#383838\" rx=\"2\" ry=\"2\" style=\"stroke: #383838; stroke-width: 1.0;\"/><ellipse cx=\"330.3733\" cy=\"189.2086\" fill=\"#383838\" rx=\"2\" ry=\"2\" style=\"stroke: #383838; stroke-width: 1.0;\"/></a><!--MD5=[07b77f6f309248d16187045709d1c26e]\n",
       "link E11 to E5--><a href=\"psysml:7cf9fed8-155f-433e-a01b-9d13c54aa089\" target=\"_top\" title=\"psysml:7cf9fed8-155f-433e-a01b-9d13c54aa089\" xlink:actuate=\"onRequest\" xlink:href=\"psysml:7cf9fed8-155f-433e-a01b-9d13c54aa089\" xlink:show=\"new\" xlink:title=\"psysml:7cf9fed8-155f-433e-a01b-9d13c54aa089\" xlink:type=\"simple\"><path d=\"M130,130.1 C130,145.37 130,166.16 130,184.57 \" fill=\"none\" id=\"E11-&gt;E5\" style=\"stroke: #383838; stroke-width: 1.0;\"/><polygon fill=\"#FFFFFF\" points=\"130,204.61,123,185.61,137,185.61,130,204.61\" style=\"stroke: #383838; stroke-width: 1.0;\"/><ellipse cx=\"125\" cy=\"179.91\" fill=\"#383838\" rx=\"2\" ry=\"2\" style=\"stroke: #383838; stroke-width: 1.0;\"/><ellipse cx=\"135\" cy=\"179.91\" fill=\"#383838\" rx=\"2\" ry=\"2\" style=\"stroke: #383838; stroke-width: 1.0;\"/></a><!--MD5=[39f41a0e550fb3d73b4d8135617e30a2]\n",
       "link E12 to E3--><a href=\"psysml:2b9be10b-590f-4358-bedf-a86ab0ed6bce\" target=\"_top\" title=\"psysml:2b9be10b-590f-4358-bedf-a86ab0ed6bce\" xlink:actuate=\"onRequest\" xlink:href=\"psysml:2b9be10b-590f-4358-bedf-a86ab0ed6bce\" xlink:show=\"new\" xlink:title=\"psysml:2b9be10b-590f-4358-bedf-a86ab0ed6bce\" xlink:type=\"simple\"><path d=\"M444.7,130.1 C434.28,146.2 419.89,168.44 407.53,187.55 \" fill=\"none\" id=\"E12-&gt;E3\" style=\"stroke: #383838; stroke-width: 1.0;\"/><polygon fill=\"#FFFFFF\" points=\"396.49,204.61,400.9313,184.8546,412.6866,192.4581,396.49,204.61\" style=\"stroke: #383838; stroke-width: 1.0;\"/><ellipse cx=\"405.7063\" cy=\"181.1547\" fill=\"#383838\" rx=\"2\" ry=\"2\" style=\"stroke: #383838; stroke-width: 1.0;\"/><ellipse cx=\"414.103\" cy=\"186.5858\" fill=\"#383838\" rx=\"2\" ry=\"2\" style=\"stroke: #383838; stroke-width: 1.0;\"/></a><!--MD5=[066b2d8af59fea80ccdb3d54ad5c1091]\n",
       "link E13 to E5--><a href=\"psysml:78896435-f936-4df6-9172-2ff6f9da23d9\" target=\"_top\" title=\"psysml:78896435-f936-4df6-9172-2ff6f9da23d9\" xlink:actuate=\"onRequest\" xlink:href=\"psysml:78896435-f936-4df6-9172-2ff6f9da23d9\" xlink:show=\"new\" xlink:title=\"psysml:78896435-f936-4df6-9172-2ff6f9da23d9\" xlink:type=\"simple\"><path d=\"M67.3,130.1 C77.72,146.2 92.11,168.44 104.47,187.55 \" fill=\"none\" id=\"E13-&gt;E5\" style=\"stroke: #383838; stroke-width: 1.0;\"/><polygon fill=\"#FFFFFF\" points=\"115.51,204.61,99.3134,192.4581,111.0687,184.8546,115.51,204.61\" style=\"stroke: #383838; stroke-width: 1.0;\"/><ellipse cx=\"97.897\" cy=\"186.5858\" fill=\"#383838\" rx=\"2\" ry=\"2\" style=\"stroke: #383838; stroke-width: 1.0;\"/><ellipse cx=\"106.2937\" cy=\"181.1547\" fill=\"#383838\" rx=\"2\" ry=\"2\" style=\"stroke: #383838; stroke-width: 1.0;\"/></a><!--MD5=[ccd4db32b7eede7584f502ea5d0d2672]\n",
       "@startuml\r\n",
       " skinparam monochrome true\r\n",
       "skinparam classbackgroundcolor white\r\n",
       "skinparam shadowing false\r\n",
       "skinparam wrapWidth 300\r\n",
       "hide circle\r\n",
       "\r\n",
       "package \"CircularImport\" as E1  [[psysml:33738fcf-e3ee-4a7e-98d6-e975d5107ba1 ]]  {\r\n",
       "package \"P1\" as E2  [[psysml:130ef6c7-3ccc-43b9-a62a-eb926cce14a9 ]]  {\r\n",
       "comp def \"A\" as E3  <<(T,blue) part def>> [[psysml:cb0f7157-438a-4ad5-8a96-0def6a248a5a ]] {\r\n",
       "}\r\n",
       "}\r\n",
       "package \"P2\" as E4  [[psysml:0bc4dbd6-620a-45b9-8d32-94753792e496 ]]  {\r\n",
       "comp def \"B\" as E5  <<(T,blue) part def>> [[psysml:fa716e5d-1985-44ef-b151-4b2b4c0691ed ]] {\r\n",
       "}\r\n",
       "}\r\n",
       "package \"Test1\" as E6  [[psysml:b4043d48-e2a3-4796-9568-6bbff931ebfd ]]  {\r\n",
       "comp usage \"x: A\" as E7  <<(T,blue) part>> [[psysml:418b0add-8d91-4a6d-810e-c529e1e5d9c2 ]] {\r\n",
       "}\r\n",
       "comp usage \"y: B\" as E8  <<(T,blue) part>> [[psysml:c18479a8-8a5a-4a0f-a7e4-033b0648dafb ]] {\r\n",
       "}\r\n",
       "E7 - -:|> E3 [[psysml:c27725e1-02a3-443e-822c-73205e66e264 ]] \r\n",
       "E8 - -:|> E5 [[psysml:43ceeb8e-eeaf-4aa9-b958-61b6f980f202 ]] \r\n",
       "}\r\n",
       "package \"Test2\" as E9  [[psysml:85a9df72-6515-46a6-853d-c4da844a4980 ]]  {\r\n",
       "comp usage \"x: A\" as E10  <<(T,blue) part>> [[psysml:61feb9d5-4074-478e-84bb-b7eccf03922b ]] {\r\n",
       "}\r\n",
       "comp usage \"y: B\" as E11  <<(T,blue) part>> [[psysml:2edd355f-e967-45cc-82fe-80091bb729bd ]] {\r\n",
       "}\r\n",
       "E10 - -:|> E3 [[psysml:2f015e6c-7efc-43fd-92bb-26e8cb5e6a22 ]] \r\n",
       "E11 - -:|> E5 [[psysml:7cf9fed8-155f-433e-a01b-9d13c54aa089 ]] \r\n",
       "}\r\n",
       "comp usage \"x: A\" as E12  <<(T,blue) part>> [[psysml:530a6ae9-7dc1-4851-ab10-936e92c948f7 ]] {\r\n",
       "}\r\n",
       "comp usage \"y: B\" as E13  <<(T,blue) part>> [[psysml:561bfa55-252f-4783-9fb1-458618dbf236 ]] {\r\n",
       "}\r\n",
       "E12 - -:|> E3 [[psysml:2b9be10b-590f-4358-bedf-a86ab0ed6bce ]] \r\n",
       "E13 - -:|> E5 [[psysml:78896435-f936-4df6-9172-2ff6f9da23d9 ]] \r\n",
       "}\r\n",
       "@enduml\r\n",
       "\n",
       "PlantUML version 1.2020.13(Sat Jun 13 12:26:38 UTC 2020)\n",
       "(EPL source distribution)\n",
       "Java Runtime: OpenJDK Runtime Environment\n",
       "JVM: OpenJDK 64-Bit Server VM\n",
       "Default Encoding: UTF-8\n",
       "Language: en\n",
       "Country: null\n",
       "--></g></svg>"
      ]
     },
     "execution_count": 7,
     "metadata": {},
     "output_type": "execute_result"
    }
   ],
   "source": [
    "%viz --style=\"COMPTREE\" --view=\"Sequence\" \"CircularImport\""
   ]
  },
  {
   "cell_type": "code",
   "execution_count": 8,
   "id": "916a8a32",
   "metadata": {
    "execution": {
     "iopub.execute_input": "2021-06-30T09:15:07.814718Z",
     "iopub.status.busy": "2021-06-30T09:15:07.814111Z",
     "iopub.status.idle": "2021-06-30T09:15:07.922368Z",
     "shell.execute_reply": "2021-06-30T09:15:07.922852Z"
    }
   },
   "outputs": [
    {
     "data": {
      "image/svg+xml": [
       "<?xml version=\"1.0\" encoding=\"UTF-8\" standalone=\"no\"?><svg xmlns=\"http://www.w3.org/2000/svg\" xmlns:xlink=\"http://www.w3.org/1999/xlink\" contentScriptType=\"application/ecmascript\" contentStyleType=\"text/css\" height=\"303px\" preserveAspectRatio=\"none\" style=\"width:518px;height:303px;\" version=\"1.1\" viewBox=\"0 0 518 303\" width=\"518px\" zoomAndPan=\"magnify\"><defs/><g><!--MD5=[fbc87193dbaf4d95561dea2c320d4a47]\n",
       "cluster E1--><a href=\"psysml:33738fcf-e3ee-4a7e-98d6-e975d5107ba1\" target=\"_top\" title=\"psysml:33738fcf-e3ee-4a7e-98d6-e975d5107ba1\" xlink:actuate=\"onRequest\" xlink:href=\"psysml:33738fcf-e3ee-4a7e-98d6-e975d5107ba1\" xlink:show=\"new\" xlink:title=\"psysml:33738fcf-e3ee-4a7e-98d6-e975d5107ba1\" xlink:type=\"simple\"><polygon fill=\"#FFFFFF\" points=\"16,6,134,6,141,28.2969,496,28.2969,496,291,16,291,16,6\" style=\"stroke: #000000; stroke-width: 1.5;\"/><line style=\"stroke: #000000; stroke-width: 1.5;\" x1=\"16\" x2=\"141\" y1=\"28.2969\" y2=\"28.2969\"/><text fill=\"#000000\" font-family=\"sans-serif\" font-size=\"14\" font-weight=\"bold\" lengthAdjust=\"spacingAndGlyphs\" textLength=\"112\" x=\"20\" y=\"20.9951\">CircularImport</text></a><!--MD5=[e4f7fae6ed58524ba242bb0b0d3be6b7]\n",
       "cluster E2--><a href=\"psysml:130ef6c7-3ccc-43b9-a62a-eb926cce14a9\" target=\"_top\" title=\"psysml:130ef6c7-3ccc-43b9-a62a-eb926cce14a9\" xlink:actuate=\"onRequest\" xlink:href=\"psysml:130ef6c7-3ccc-43b9-a62a-eb926cce14a9\" xlink:show=\"new\" xlink:title=\"psysml:130ef6c7-3ccc-43b9-a62a-eb926cce14a9\" xlink:type=\"simple\"><polygon fill=\"#FFFFFF\" points=\"333,170,359,170,366,192.2969,431,192.2969,431,267,333,267,333,170\" style=\"stroke: #000000; stroke-width: 1.5;\"/><line style=\"stroke: #000000; stroke-width: 1.5;\" x1=\"333\" x2=\"366\" y1=\"192.2969\" y2=\"192.2969\"/><text fill=\"#000000\" font-family=\"sans-serif\" font-size=\"14\" font-weight=\"bold\" lengthAdjust=\"spacingAndGlyphs\" textLength=\"20\" x=\"337\" y=\"184.9951\">P1</text></a><!--MD5=[f6df4d0ebaf0b5dfb2ced0ae5af7c670]\n",
       "cluster E4--><a href=\"psysml:0bc4dbd6-620a-45b9-8d32-94753792e496\" target=\"_top\" title=\"psysml:0bc4dbd6-620a-45b9-8d32-94753792e496\" xlink:actuate=\"onRequest\" xlink:href=\"psysml:0bc4dbd6-620a-45b9-8d32-94753792e496\" xlink:show=\"new\" xlink:title=\"psysml:0bc4dbd6-620a-45b9-8d32-94753792e496\" xlink:type=\"simple\"><polygon fill=\"#FFFFFF\" points=\"81,170,107,170,114,192.2969,179,192.2969,179,267,81,267,81,170\" style=\"stroke: #000000; stroke-width: 1.5;\"/><line style=\"stroke: #000000; stroke-width: 1.5;\" x1=\"81\" x2=\"114\" y1=\"192.2969\" y2=\"192.2969\"/><text fill=\"#000000\" font-family=\"sans-serif\" font-size=\"14\" font-weight=\"bold\" lengthAdjust=\"spacingAndGlyphs\" textLength=\"20\" x=\"85\" y=\"184.9951\">P2</text></a><!--MD5=[14e3b0961a2654348d326746436168a1]\n",
       "cluster E6--><a href=\"psysml:b4043d48-e2a3-4796-9568-6bbff931ebfd\" target=\"_top\" title=\"psysml:b4043d48-e2a3-4796-9568-6bbff931ebfd\" xlink:actuate=\"onRequest\" xlink:href=\"psysml:b4043d48-e2a3-4796-9568-6bbff931ebfd\" xlink:show=\"new\" xlink:title=\"psysml:b4043d48-e2a3-4796-9568-6bbff931ebfd\" xlink:type=\"simple\"><polygon fill=\"#FFFFFF\" points=\"268,49,319,49,326,71.2969,419,71.2969,419,146,268,146,268,49\" style=\"stroke: #000000; stroke-width: 1.5;\"/><line style=\"stroke: #000000; stroke-width: 1.5;\" x1=\"268\" x2=\"326\" y1=\"71.2969\" y2=\"71.2969\"/><text fill=\"#000000\" font-family=\"sans-serif\" font-size=\"14\" font-weight=\"bold\" lengthAdjust=\"spacingAndGlyphs\" textLength=\"45\" x=\"272\" y=\"63.9951\">Test1</text></a><!--MD5=[7f149f147074ac12df2cb0a7728a5fb0]\n",
       "cluster E9--><a href=\"psysml:85a9df72-6515-46a6-853d-c4da844a4980\" target=\"_top\" title=\"psysml:85a9df72-6515-46a6-853d-c4da844a4980\" xlink:actuate=\"onRequest\" xlink:href=\"psysml:85a9df72-6515-46a6-853d-c4da844a4980\" xlink:show=\"new\" xlink:title=\"psysml:85a9df72-6515-46a6-853d-c4da844a4980\" xlink:type=\"simple\"><polygon fill=\"#FFFFFF\" points=\"93,49,144,49,151,71.2969,244,71.2969,244,146,93,146,93,49\" style=\"stroke: #000000; stroke-width: 1.5;\"/><line style=\"stroke: #000000; stroke-width: 1.5;\" x1=\"93\" x2=\"151\" y1=\"71.2969\" y2=\"71.2969\"/><text fill=\"#000000\" font-family=\"sans-serif\" font-size=\"14\" font-weight=\"bold\" lengthAdjust=\"spacingAndGlyphs\" textLength=\"45\" x=\"97\" y=\"63.9951\">Test2</text></a><!--MD5=[49a0ec8f00dab7302a31f22d0f0fe584]\n",
       "class E12--><a href=\"psysml:530a6ae9-7dc1-4851-ab10-936e92c948f7\" target=\"_top\" title=\"psysml:530a6ae9-7dc1-4851-ab10-936e92c948f7\" xlink:actuate=\"onRequest\" xlink:href=\"psysml:530a6ae9-7dc1-4851-ab10-936e92c948f7\" xlink:show=\"new\" xlink:title=\"psysml:530a6ae9-7dc1-4851-ab10-936e92c948f7\" xlink:type=\"simple\"><rect fill=\"#FFFFFF\" height=\"45.9375\" id=\"E12\" rx=\"10\" ry=\"10\" style=\"stroke: #383838; stroke-width: 1.5;\" width=\"42\" x=\"438\" y=\"84\"/><text fill=\"#000000\" font-family=\"sans-serif\" font-size=\"12\" font-style=\"italic\" lengthAdjust=\"spacingAndGlyphs\" textLength=\"40\" x=\"439\" y=\"100.1387\">«part»</text><text fill=\"#000000\" font-family=\"sans-serif\" font-size=\"12\" lengthAdjust=\"spacingAndGlyphs\" textLength=\"22\" x=\"448\" y=\"114.1074\">x: A</text><line style=\"stroke: #383838; stroke-width: 1.5;\" x1=\"439\" x2=\"479\" y1=\"121.9375\" y2=\"121.9375\"/></a><!--MD5=[ee3c913d1a06f366521f9ef512b67efe]\n",
       "class E13--><a href=\"psysml:561bfa55-252f-4783-9fb1-458618dbf236\" target=\"_top\" title=\"psysml:561bfa55-252f-4783-9fb1-458618dbf236\" xlink:actuate=\"onRequest\" xlink:href=\"psysml:561bfa55-252f-4783-9fb1-458618dbf236\" xlink:show=\"new\" xlink:title=\"psysml:561bfa55-252f-4783-9fb1-458618dbf236\" xlink:type=\"simple\"><rect fill=\"#FFFFFF\" height=\"45.9375\" id=\"E13\" rx=\"10\" ry=\"10\" style=\"stroke: #383838; stroke-width: 1.5;\" width=\"42\" x=\"32\" y=\"84\"/><text fill=\"#000000\" font-family=\"sans-serif\" font-size=\"12\" font-style=\"italic\" lengthAdjust=\"spacingAndGlyphs\" textLength=\"40\" x=\"33\" y=\"100.1387\">«part»</text><text fill=\"#000000\" font-family=\"sans-serif\" font-size=\"12\" lengthAdjust=\"spacingAndGlyphs\" textLength=\"22\" x=\"42\" y=\"114.1074\">y: B</text><line style=\"stroke: #383838; stroke-width: 1.5;\" x1=\"33\" x2=\"73\" y1=\"121.9375\" y2=\"121.9375\"/></a><!--MD5=[09b614a08d8cba4a07c9adeb5e0fee81]\n",
       "class E3--><a href=\"psysml:cb0f7157-438a-4ad5-8a96-0def6a248a5a\" target=\"_top\" title=\"psysml:cb0f7157-438a-4ad5-8a96-0def6a248a5a\" xlink:actuate=\"onRequest\" xlink:href=\"psysml:cb0f7157-438a-4ad5-8a96-0def6a248a5a\" xlink:show=\"new\" xlink:title=\"psysml:cb0f7157-438a-4ad5-8a96-0def6a248a5a\" xlink:type=\"simple\"><rect fill=\"#FFFFFF\" height=\"45.9375\" id=\"E3\" style=\"stroke: #383838; stroke-width: 1.5;\" width=\"66\" x=\"349\" y=\"205\"/><text fill=\"#000000\" font-family=\"sans-serif\" font-size=\"12\" font-style=\"italic\" lengthAdjust=\"spacingAndGlyphs\" textLength=\"64\" x=\"350\" y=\"221.1387\">«part def»</text><text fill=\"#000000\" font-family=\"sans-serif\" font-size=\"12\" lengthAdjust=\"spacingAndGlyphs\" textLength=\"8\" x=\"378\" y=\"235.1074\">A</text><line style=\"stroke: #383838; stroke-width: 1.5;\" x1=\"350\" x2=\"414\" y1=\"242.9375\" y2=\"242.9375\"/></a><!--MD5=[270fce915f116d4de14055a7c1d9a0f3]\n",
       "class E5--><a href=\"psysml:fa716e5d-1985-44ef-b151-4b2b4c0691ed\" target=\"_top\" title=\"psysml:fa716e5d-1985-44ef-b151-4b2b4c0691ed\" xlink:actuate=\"onRequest\" xlink:href=\"psysml:fa716e5d-1985-44ef-b151-4b2b4c0691ed\" xlink:show=\"new\" xlink:title=\"psysml:fa716e5d-1985-44ef-b151-4b2b4c0691ed\" xlink:type=\"simple\"><rect fill=\"#FFFFFF\" height=\"45.9375\" id=\"E5\" style=\"stroke: #383838; stroke-width: 1.5;\" width=\"66\" x=\"97\" y=\"205\"/><text fill=\"#000000\" font-family=\"sans-serif\" font-size=\"12\" font-style=\"italic\" lengthAdjust=\"spacingAndGlyphs\" textLength=\"64\" x=\"98\" y=\"221.1387\">«part def»</text><text fill=\"#000000\" font-family=\"sans-serif\" font-size=\"12\" lengthAdjust=\"spacingAndGlyphs\" textLength=\"8\" x=\"126\" y=\"235.1074\">B</text><line style=\"stroke: #383838; stroke-width: 1.5;\" x1=\"98\" x2=\"162\" y1=\"242.9375\" y2=\"242.9375\"/></a><!--MD5=[2156ba9850f5573cc1fc38a6a4b2f02b]\n",
       "class E7--><a href=\"psysml:418b0add-8d91-4a6d-810e-c529e1e5d9c2\" target=\"_top\" title=\"psysml:418b0add-8d91-4a6d-810e-c529e1e5d9c2\" xlink:actuate=\"onRequest\" xlink:href=\"psysml:418b0add-8d91-4a6d-810e-c529e1e5d9c2\" xlink:show=\"new\" xlink:title=\"psysml:418b0add-8d91-4a6d-810e-c529e1e5d9c2\" xlink:type=\"simple\"><rect fill=\"#FFFFFF\" height=\"45.9375\" id=\"E7\" rx=\"10\" ry=\"10\" style=\"stroke: #383838; stroke-width: 1.5;\" width=\"42\" x=\"361\" y=\"84\"/><text fill=\"#000000\" font-family=\"sans-serif\" font-size=\"12\" font-style=\"italic\" lengthAdjust=\"spacingAndGlyphs\" textLength=\"40\" x=\"362\" y=\"100.1387\">«part»</text><text fill=\"#000000\" font-family=\"sans-serif\" font-size=\"12\" lengthAdjust=\"spacingAndGlyphs\" textLength=\"22\" x=\"371\" y=\"114.1074\">x: A</text><line style=\"stroke: #383838; stroke-width: 1.5;\" x1=\"362\" x2=\"402\" y1=\"121.9375\" y2=\"121.9375\"/></a><!--MD5=[b9389687b975829384b498ac4b7476b2]\n",
       "class E8--><a href=\"psysml:c18479a8-8a5a-4a0f-a7e4-033b0648dafb\" target=\"_top\" title=\"psysml:c18479a8-8a5a-4a0f-a7e4-033b0648dafb\" xlink:actuate=\"onRequest\" xlink:href=\"psysml:c18479a8-8a5a-4a0f-a7e4-033b0648dafb\" xlink:show=\"new\" xlink:title=\"psysml:c18479a8-8a5a-4a0f-a7e4-033b0648dafb\" xlink:type=\"simple\"><rect fill=\"#FFFFFF\" height=\"45.9375\" id=\"E8\" rx=\"10\" ry=\"10\" style=\"stroke: #383838; stroke-width: 1.5;\" width=\"42\" x=\"284\" y=\"84\"/><text fill=\"#000000\" font-family=\"sans-serif\" font-size=\"12\" font-style=\"italic\" lengthAdjust=\"spacingAndGlyphs\" textLength=\"40\" x=\"285\" y=\"100.1387\">«part»</text><text fill=\"#000000\" font-family=\"sans-serif\" font-size=\"12\" lengthAdjust=\"spacingAndGlyphs\" textLength=\"22\" x=\"294\" y=\"114.1074\">y: B</text><line style=\"stroke: #383838; stroke-width: 1.5;\" x1=\"285\" x2=\"325\" y1=\"121.9375\" y2=\"121.9375\"/></a><!--MD5=[96f4274e9e20536e775497830990834d]\n",
       "class E10--><a href=\"psysml:61feb9d5-4074-478e-84bb-b7eccf03922b\" target=\"_top\" title=\"psysml:61feb9d5-4074-478e-84bb-b7eccf03922b\" xlink:actuate=\"onRequest\" xlink:href=\"psysml:61feb9d5-4074-478e-84bb-b7eccf03922b\" xlink:show=\"new\" xlink:title=\"psysml:61feb9d5-4074-478e-84bb-b7eccf03922b\" xlink:type=\"simple\"><rect fill=\"#FFFFFF\" height=\"45.9375\" id=\"E10\" rx=\"10\" ry=\"10\" style=\"stroke: #383838; stroke-width: 1.5;\" width=\"42\" x=\"186\" y=\"84\"/><text fill=\"#000000\" font-family=\"sans-serif\" font-size=\"12\" font-style=\"italic\" lengthAdjust=\"spacingAndGlyphs\" textLength=\"40\" x=\"187\" y=\"100.1387\">«part»</text><text fill=\"#000000\" font-family=\"sans-serif\" font-size=\"12\" lengthAdjust=\"spacingAndGlyphs\" textLength=\"22\" x=\"196\" y=\"114.1074\">x: A</text><line style=\"stroke: #383838; stroke-width: 1.5;\" x1=\"187\" x2=\"227\" y1=\"121.9375\" y2=\"121.9375\"/></a><!--MD5=[1dd1bfd58a279cf63c5f349dbc8fc6a1]\n",
       "class E11--><a href=\"psysml:2edd355f-e967-45cc-82fe-80091bb729bd\" target=\"_top\" title=\"psysml:2edd355f-e967-45cc-82fe-80091bb729bd\" xlink:actuate=\"onRequest\" xlink:href=\"psysml:2edd355f-e967-45cc-82fe-80091bb729bd\" xlink:show=\"new\" xlink:title=\"psysml:2edd355f-e967-45cc-82fe-80091bb729bd\" xlink:type=\"simple\"><rect fill=\"#FFFFFF\" height=\"45.9375\" id=\"E11\" rx=\"10\" ry=\"10\" style=\"stroke: #383838; stroke-width: 1.5;\" width=\"42\" x=\"109\" y=\"84\"/><text fill=\"#000000\" font-family=\"sans-serif\" font-size=\"12\" font-style=\"italic\" lengthAdjust=\"spacingAndGlyphs\" textLength=\"40\" x=\"110\" y=\"100.1387\">«part»</text><text fill=\"#000000\" font-family=\"sans-serif\" font-size=\"12\" lengthAdjust=\"spacingAndGlyphs\" textLength=\"22\" x=\"119\" y=\"114.1074\">y: B</text><line style=\"stroke: #383838; stroke-width: 1.5;\" x1=\"110\" x2=\"150\" y1=\"121.9375\" y2=\"121.9375\"/></a><!--MD5=[14ccda38c055a5c0da953d572bc50960]\n",
       "link E7 to E3--><a href=\"psysml:c27725e1-02a3-443e-822c-73205e66e264\" target=\"_top\" title=\"psysml:c27725e1-02a3-443e-822c-73205e66e264\" xlink:actuate=\"onRequest\" xlink:href=\"psysml:c27725e1-02a3-443e-822c-73205e66e264\" xlink:show=\"new\" xlink:title=\"psysml:c27725e1-02a3-443e-822c-73205e66e264\" xlink:type=\"simple\"><path d=\"M382,130.1 C382,145.37 382,166.16 382,184.57 \" fill=\"none\" id=\"E7-&gt;E3\" style=\"stroke: #383838; stroke-width: 1.0;\"/><polygon fill=\"#FFFFFF\" points=\"382,204.61,375,185.61,389,185.61,382,204.61\" style=\"stroke: #383838; stroke-width: 1.0;\"/><ellipse cx=\"377\" cy=\"179.91\" fill=\"#383838\" rx=\"2\" ry=\"2\" style=\"stroke: #383838; stroke-width: 1.0;\"/><ellipse cx=\"387\" cy=\"179.91\" fill=\"#383838\" rx=\"2\" ry=\"2\" style=\"stroke: #383838; stroke-width: 1.0;\"/></a><!--MD5=[1ccb2481ffa92f8d51a74ee30c51832a]\n",
       "link E8 to E5--><a href=\"psysml:43ceeb8e-eeaf-4aa9-b958-61b6f980f202\" target=\"_top\" title=\"psysml:43ceeb8e-eeaf-4aa9-b958-61b6f980f202\" xlink:actuate=\"onRequest\" xlink:href=\"psysml:43ceeb8e-eeaf-4aa9-b958-61b6f980f202\" xlink:show=\"new\" xlink:title=\"psysml:43ceeb8e-eeaf-4aa9-b958-61b6f980f202\" xlink:type=\"simple\"><path d=\"M283.84,124.59 C272.23,133.52 257.5,144.61 244,154 C223.51,168.25 200.41,183.24 180.38,195.91 \" fill=\"none\" id=\"E8-&gt;E5\" style=\"stroke: #383838; stroke-width: 1.0;\"/><polygon fill=\"#FFFFFF\" points=\"163.36,206.57,175.7353,190.5434,183.175,202.403,163.36,206.57\" style=\"stroke: #383838; stroke-width: 1.0;\"/><ellipse cx=\"181.6267\" cy=\"189.2086\" fill=\"#383838\" rx=\"2\" ry=\"2\" style=\"stroke: #383838; stroke-width: 1.0;\"/><ellipse cx=\"186.9408\" cy=\"197.6797\" fill=\"#383838\" rx=\"2\" ry=\"2\" style=\"stroke: #383838; stroke-width: 1.0;\"/></a><!--MD5=[feeac5eb423634930294aa81f2d25a4c]\n",
       "link E10 to E3--><a href=\"psysml:2f015e6c-7efc-43fd-92bb-26e8cb5e6a22\" target=\"_top\" title=\"psysml:2f015e6c-7efc-43fd-92bb-26e8cb5e6a22\" xlink:actuate=\"onRequest\" xlink:href=\"psysml:2f015e6c-7efc-43fd-92bb-26e8cb5e6a22\" xlink:show=\"new\" xlink:title=\"psysml:2f015e6c-7efc-43fd-92bb-26e8cb5e6a22\" xlink:type=\"simple\"><path d=\"M228.16,124.59 C239.77,133.52 254.5,144.61 268,154 C288.49,168.25 311.59,183.24 331.62,195.91 \" fill=\"none\" id=\"E10-&gt;E3\" style=\"stroke: #383838; stroke-width: 1.0;\"/><polygon fill=\"#FFFFFF\" points=\"348.64,206.57,328.825,202.403,336.2647,190.5434,348.64,206.57\" style=\"stroke: #383838; stroke-width: 1.0;\"/><ellipse cx=\"325.0592\" cy=\"197.6797\" fill=\"#383838\" rx=\"2\" ry=\"2\" style=\"stroke: #383838; stroke-width: 1.0;\"/><ellipse cx=\"330.3733\" cy=\"189.2086\" fill=\"#383838\" rx=\"2\" ry=\"2\" style=\"stroke: #383838; stroke-width: 1.0;\"/></a><!--MD5=[07b77f6f309248d16187045709d1c26e]\n",
       "link E11 to E5--><a href=\"psysml:7cf9fed8-155f-433e-a01b-9d13c54aa089\" target=\"_top\" title=\"psysml:7cf9fed8-155f-433e-a01b-9d13c54aa089\" xlink:actuate=\"onRequest\" xlink:href=\"psysml:7cf9fed8-155f-433e-a01b-9d13c54aa089\" xlink:show=\"new\" xlink:title=\"psysml:7cf9fed8-155f-433e-a01b-9d13c54aa089\" xlink:type=\"simple\"><path d=\"M130,130.1 C130,145.37 130,166.16 130,184.57 \" fill=\"none\" id=\"E11-&gt;E5\" style=\"stroke: #383838; stroke-width: 1.0;\"/><polygon fill=\"#FFFFFF\" points=\"130,204.61,123,185.61,137,185.61,130,204.61\" style=\"stroke: #383838; stroke-width: 1.0;\"/><ellipse cx=\"125\" cy=\"179.91\" fill=\"#383838\" rx=\"2\" ry=\"2\" style=\"stroke: #383838; stroke-width: 1.0;\"/><ellipse cx=\"135\" cy=\"179.91\" fill=\"#383838\" rx=\"2\" ry=\"2\" style=\"stroke: #383838; stroke-width: 1.0;\"/></a><!--MD5=[39f41a0e550fb3d73b4d8135617e30a2]\n",
       "link E12 to E3--><a href=\"psysml:2b9be10b-590f-4358-bedf-a86ab0ed6bce\" target=\"_top\" title=\"psysml:2b9be10b-590f-4358-bedf-a86ab0ed6bce\" xlink:actuate=\"onRequest\" xlink:href=\"psysml:2b9be10b-590f-4358-bedf-a86ab0ed6bce\" xlink:show=\"new\" xlink:title=\"psysml:2b9be10b-590f-4358-bedf-a86ab0ed6bce\" xlink:type=\"simple\"><path d=\"M444.7,130.1 C434.28,146.2 419.89,168.44 407.53,187.55 \" fill=\"none\" id=\"E12-&gt;E3\" style=\"stroke: #383838; stroke-width: 1.0;\"/><polygon fill=\"#FFFFFF\" points=\"396.49,204.61,400.9313,184.8546,412.6866,192.4581,396.49,204.61\" style=\"stroke: #383838; stroke-width: 1.0;\"/><ellipse cx=\"405.7063\" cy=\"181.1547\" fill=\"#383838\" rx=\"2\" ry=\"2\" style=\"stroke: #383838; stroke-width: 1.0;\"/><ellipse cx=\"414.103\" cy=\"186.5858\" fill=\"#383838\" rx=\"2\" ry=\"2\" style=\"stroke: #383838; stroke-width: 1.0;\"/></a><!--MD5=[066b2d8af59fea80ccdb3d54ad5c1091]\n",
       "link E13 to E5--><a href=\"psysml:78896435-f936-4df6-9172-2ff6f9da23d9\" target=\"_top\" title=\"psysml:78896435-f936-4df6-9172-2ff6f9da23d9\" xlink:actuate=\"onRequest\" xlink:href=\"psysml:78896435-f936-4df6-9172-2ff6f9da23d9\" xlink:show=\"new\" xlink:title=\"psysml:78896435-f936-4df6-9172-2ff6f9da23d9\" xlink:type=\"simple\"><path d=\"M67.3,130.1 C77.72,146.2 92.11,168.44 104.47,187.55 \" fill=\"none\" id=\"E13-&gt;E5\" style=\"stroke: #383838; stroke-width: 1.0;\"/><polygon fill=\"#FFFFFF\" points=\"115.51,204.61,99.3134,192.4581,111.0687,184.8546,115.51,204.61\" style=\"stroke: #383838; stroke-width: 1.0;\"/><ellipse cx=\"97.897\" cy=\"186.5858\" fill=\"#383838\" rx=\"2\" ry=\"2\" style=\"stroke: #383838; stroke-width: 1.0;\"/><ellipse cx=\"106.2937\" cy=\"181.1547\" fill=\"#383838\" rx=\"2\" ry=\"2\" style=\"stroke: #383838; stroke-width: 1.0;\"/></a><!--MD5=[ccd4db32b7eede7584f502ea5d0d2672]\n",
       "@startuml\r\n",
       " skinparam monochrome true\r\n",
       "skinparam classbackgroundcolor white\r\n",
       "skinparam shadowing false\r\n",
       "skinparam wrapWidth 300\r\n",
       "hide circle\r\n",
       "\r\n",
       "package \"CircularImport\" as E1  [[psysml:33738fcf-e3ee-4a7e-98d6-e975d5107ba1 ]]  {\r\n",
       "package \"P1\" as E2  [[psysml:130ef6c7-3ccc-43b9-a62a-eb926cce14a9 ]]  {\r\n",
       "comp def \"A\" as E3  <<(T,blue) part def>> [[psysml:cb0f7157-438a-4ad5-8a96-0def6a248a5a ]] {\r\n",
       "}\r\n",
       "}\r\n",
       "package \"P2\" as E4  [[psysml:0bc4dbd6-620a-45b9-8d32-94753792e496 ]]  {\r\n",
       "comp def \"B\" as E5  <<(T,blue) part def>> [[psysml:fa716e5d-1985-44ef-b151-4b2b4c0691ed ]] {\r\n",
       "}\r\n",
       "}\r\n",
       "package \"Test1\" as E6  [[psysml:b4043d48-e2a3-4796-9568-6bbff931ebfd ]]  {\r\n",
       "comp usage \"x: A\" as E7  <<(T,blue) part>> [[psysml:418b0add-8d91-4a6d-810e-c529e1e5d9c2 ]] {\r\n",
       "}\r\n",
       "comp usage \"y: B\" as E8  <<(T,blue) part>> [[psysml:c18479a8-8a5a-4a0f-a7e4-033b0648dafb ]] {\r\n",
       "}\r\n",
       "E7 - -:|> E3 [[psysml:c27725e1-02a3-443e-822c-73205e66e264 ]] \r\n",
       "E8 - -:|> E5 [[psysml:43ceeb8e-eeaf-4aa9-b958-61b6f980f202 ]] \r\n",
       "}\r\n",
       "package \"Test2\" as E9  [[psysml:85a9df72-6515-46a6-853d-c4da844a4980 ]]  {\r\n",
       "comp usage \"x: A\" as E10  <<(T,blue) part>> [[psysml:61feb9d5-4074-478e-84bb-b7eccf03922b ]] {\r\n",
       "}\r\n",
       "comp usage \"y: B\" as E11  <<(T,blue) part>> [[psysml:2edd355f-e967-45cc-82fe-80091bb729bd ]] {\r\n",
       "}\r\n",
       "E10 - -:|> E3 [[psysml:2f015e6c-7efc-43fd-92bb-26e8cb5e6a22 ]] \r\n",
       "E11 - -:|> E5 [[psysml:7cf9fed8-155f-433e-a01b-9d13c54aa089 ]] \r\n",
       "}\r\n",
       "comp usage \"x: A\" as E12  <<(T,blue) part>> [[psysml:530a6ae9-7dc1-4851-ab10-936e92c948f7 ]] {\r\n",
       "}\r\n",
       "comp usage \"y: B\" as E13  <<(T,blue) part>> [[psysml:561bfa55-252f-4783-9fb1-458618dbf236 ]] {\r\n",
       "}\r\n",
       "E12 - -:|> E3 [[psysml:2b9be10b-590f-4358-bedf-a86ab0ed6bce ]] \r\n",
       "E13 - -:|> E5 [[psysml:78896435-f936-4df6-9172-2ff6f9da23d9 ]] \r\n",
       "}\r\n",
       "@enduml\r\n",
       "\n",
       "PlantUML version 1.2020.13(Sat Jun 13 12:26:38 UTC 2020)\n",
       "(EPL source distribution)\n",
       "Java Runtime: OpenJDK Runtime Environment\n",
       "JVM: OpenJDK 64-Bit Server VM\n",
       "Default Encoding: UTF-8\n",
       "Language: en\n",
       "Country: null\n",
       "--></g></svg>"
      ]
     },
     "execution_count": 8,
     "metadata": {},
     "output_type": "execute_result"
    }
   ],
   "source": [
    "%viz --style=\"COMPTREE\" --view=\"MIXED\" \"CircularImport\""
   ]
  },
  {
   "cell_type": "code",
   "execution_count": 9,
   "id": "7b91610b",
   "metadata": {
    "execution": {
     "iopub.execute_input": "2021-06-30T09:15:07.975997Z",
     "iopub.status.busy": "2021-06-30T09:15:07.974558Z",
     "iopub.status.idle": "2021-06-30T09:15:08.086561Z",
     "shell.execute_reply": "2021-06-30T09:15:08.086183Z"
    }
   },
   "outputs": [
    {
     "data": {
      "image/svg+xml": [
       "<?xml version=\"1.0\" encoding=\"UTF-8\" standalone=\"no\"?><svg xmlns=\"http://www.w3.org/2000/svg\" xmlns:xlink=\"http://www.w3.org/1999/xlink\" contentScriptType=\"application/ecmascript\" contentStyleType=\"text/css\" height=\"303px\" preserveAspectRatio=\"none\" style=\"width:518px;height:303px;\" version=\"1.1\" viewBox=\"0 0 518 303\" width=\"518px\" zoomAndPan=\"magnify\"><defs/><g><!--MD5=[fbc87193dbaf4d95561dea2c320d4a47]\n",
       "cluster E1--><a href=\"psysml:33738fcf-e3ee-4a7e-98d6-e975d5107ba1\" target=\"_top\" title=\"psysml:33738fcf-e3ee-4a7e-98d6-e975d5107ba1\" xlink:actuate=\"onRequest\" xlink:href=\"psysml:33738fcf-e3ee-4a7e-98d6-e975d5107ba1\" xlink:show=\"new\" xlink:title=\"psysml:33738fcf-e3ee-4a7e-98d6-e975d5107ba1\" xlink:type=\"simple\"><polygon fill=\"#FFFFFF\" points=\"16,6,134,6,141,28.2969,496,28.2969,496,291,16,291,16,6\" style=\"stroke: #000000; stroke-width: 1.5;\"/><line style=\"stroke: #000000; stroke-width: 1.5;\" x1=\"16\" x2=\"141\" y1=\"28.2969\" y2=\"28.2969\"/><text fill=\"#000000\" font-family=\"sans-serif\" font-size=\"14\" font-weight=\"bold\" lengthAdjust=\"spacingAndGlyphs\" textLength=\"112\" x=\"20\" y=\"20.9951\">CircularImport</text></a><!--MD5=[e4f7fae6ed58524ba242bb0b0d3be6b7]\n",
       "cluster E2--><a href=\"psysml:130ef6c7-3ccc-43b9-a62a-eb926cce14a9\" target=\"_top\" title=\"psysml:130ef6c7-3ccc-43b9-a62a-eb926cce14a9\" xlink:actuate=\"onRequest\" xlink:href=\"psysml:130ef6c7-3ccc-43b9-a62a-eb926cce14a9\" xlink:show=\"new\" xlink:title=\"psysml:130ef6c7-3ccc-43b9-a62a-eb926cce14a9\" xlink:type=\"simple\"><polygon fill=\"#FFFFFF\" points=\"333,170,359,170,366,192.2969,431,192.2969,431,267,333,267,333,170\" style=\"stroke: #000000; stroke-width: 1.5;\"/><line style=\"stroke: #000000; stroke-width: 1.5;\" x1=\"333\" x2=\"366\" y1=\"192.2969\" y2=\"192.2969\"/><text fill=\"#000000\" font-family=\"sans-serif\" font-size=\"14\" font-weight=\"bold\" lengthAdjust=\"spacingAndGlyphs\" textLength=\"20\" x=\"337\" y=\"184.9951\">P1</text></a><!--MD5=[f6df4d0ebaf0b5dfb2ced0ae5af7c670]\n",
       "cluster E4--><a href=\"psysml:0bc4dbd6-620a-45b9-8d32-94753792e496\" target=\"_top\" title=\"psysml:0bc4dbd6-620a-45b9-8d32-94753792e496\" xlink:actuate=\"onRequest\" xlink:href=\"psysml:0bc4dbd6-620a-45b9-8d32-94753792e496\" xlink:show=\"new\" xlink:title=\"psysml:0bc4dbd6-620a-45b9-8d32-94753792e496\" xlink:type=\"simple\"><polygon fill=\"#FFFFFF\" points=\"81,170,107,170,114,192.2969,179,192.2969,179,267,81,267,81,170\" style=\"stroke: #000000; stroke-width: 1.5;\"/><line style=\"stroke: #000000; stroke-width: 1.5;\" x1=\"81\" x2=\"114\" y1=\"192.2969\" y2=\"192.2969\"/><text fill=\"#000000\" font-family=\"sans-serif\" font-size=\"14\" font-weight=\"bold\" lengthAdjust=\"spacingAndGlyphs\" textLength=\"20\" x=\"85\" y=\"184.9951\">P2</text></a><!--MD5=[14e3b0961a2654348d326746436168a1]\n",
       "cluster E6--><a href=\"psysml:b4043d48-e2a3-4796-9568-6bbff931ebfd\" target=\"_top\" title=\"psysml:b4043d48-e2a3-4796-9568-6bbff931ebfd\" xlink:actuate=\"onRequest\" xlink:href=\"psysml:b4043d48-e2a3-4796-9568-6bbff931ebfd\" xlink:show=\"new\" xlink:title=\"psysml:b4043d48-e2a3-4796-9568-6bbff931ebfd\" xlink:type=\"simple\"><polygon fill=\"#FFFFFF\" points=\"268,49,319,49,326,71.2969,419,71.2969,419,146,268,146,268,49\" style=\"stroke: #000000; stroke-width: 1.5;\"/><line style=\"stroke: #000000; stroke-width: 1.5;\" x1=\"268\" x2=\"326\" y1=\"71.2969\" y2=\"71.2969\"/><text fill=\"#000000\" font-family=\"sans-serif\" font-size=\"14\" font-weight=\"bold\" lengthAdjust=\"spacingAndGlyphs\" textLength=\"45\" x=\"272\" y=\"63.9951\">Test1</text></a><!--MD5=[7f149f147074ac12df2cb0a7728a5fb0]\n",
       "cluster E9--><a href=\"psysml:85a9df72-6515-46a6-853d-c4da844a4980\" target=\"_top\" title=\"psysml:85a9df72-6515-46a6-853d-c4da844a4980\" xlink:actuate=\"onRequest\" xlink:href=\"psysml:85a9df72-6515-46a6-853d-c4da844a4980\" xlink:show=\"new\" xlink:title=\"psysml:85a9df72-6515-46a6-853d-c4da844a4980\" xlink:type=\"simple\"><polygon fill=\"#FFFFFF\" points=\"93,49,144,49,151,71.2969,244,71.2969,244,146,93,146,93,49\" style=\"stroke: #000000; stroke-width: 1.5;\"/><line style=\"stroke: #000000; stroke-width: 1.5;\" x1=\"93\" x2=\"151\" y1=\"71.2969\" y2=\"71.2969\"/><text fill=\"#000000\" font-family=\"sans-serif\" font-size=\"14\" font-weight=\"bold\" lengthAdjust=\"spacingAndGlyphs\" textLength=\"45\" x=\"97\" y=\"63.9951\">Test2</text></a><!--MD5=[49a0ec8f00dab7302a31f22d0f0fe584]\n",
       "class E12--><a href=\"psysml:530a6ae9-7dc1-4851-ab10-936e92c948f7\" target=\"_top\" title=\"psysml:530a6ae9-7dc1-4851-ab10-936e92c948f7\" xlink:actuate=\"onRequest\" xlink:href=\"psysml:530a6ae9-7dc1-4851-ab10-936e92c948f7\" xlink:show=\"new\" xlink:title=\"psysml:530a6ae9-7dc1-4851-ab10-936e92c948f7\" xlink:type=\"simple\"><rect fill=\"#FFFFFF\" height=\"45.9375\" id=\"E12\" rx=\"10\" ry=\"10\" style=\"stroke: #383838; stroke-width: 1.5;\" width=\"42\" x=\"438\" y=\"84\"/><text fill=\"#000000\" font-family=\"sans-serif\" font-size=\"12\" font-style=\"italic\" lengthAdjust=\"spacingAndGlyphs\" textLength=\"40\" x=\"439\" y=\"100.1387\">«part»</text><text fill=\"#000000\" font-family=\"sans-serif\" font-size=\"12\" lengthAdjust=\"spacingAndGlyphs\" textLength=\"22\" x=\"448\" y=\"114.1074\">x: A</text><line style=\"stroke: #383838; stroke-width: 1.5;\" x1=\"439\" x2=\"479\" y1=\"121.9375\" y2=\"121.9375\"/></a><!--MD5=[ee3c913d1a06f366521f9ef512b67efe]\n",
       "class E13--><a href=\"psysml:561bfa55-252f-4783-9fb1-458618dbf236\" target=\"_top\" title=\"psysml:561bfa55-252f-4783-9fb1-458618dbf236\" xlink:actuate=\"onRequest\" xlink:href=\"psysml:561bfa55-252f-4783-9fb1-458618dbf236\" xlink:show=\"new\" xlink:title=\"psysml:561bfa55-252f-4783-9fb1-458618dbf236\" xlink:type=\"simple\"><rect fill=\"#FFFFFF\" height=\"45.9375\" id=\"E13\" rx=\"10\" ry=\"10\" style=\"stroke: #383838; stroke-width: 1.5;\" width=\"42\" x=\"32\" y=\"84\"/><text fill=\"#000000\" font-family=\"sans-serif\" font-size=\"12\" font-style=\"italic\" lengthAdjust=\"spacingAndGlyphs\" textLength=\"40\" x=\"33\" y=\"100.1387\">«part»</text><text fill=\"#000000\" font-family=\"sans-serif\" font-size=\"12\" lengthAdjust=\"spacingAndGlyphs\" textLength=\"22\" x=\"42\" y=\"114.1074\">y: B</text><line style=\"stroke: #383838; stroke-width: 1.5;\" x1=\"33\" x2=\"73\" y1=\"121.9375\" y2=\"121.9375\"/></a><!--MD5=[09b614a08d8cba4a07c9adeb5e0fee81]\n",
       "class E3--><a href=\"psysml:cb0f7157-438a-4ad5-8a96-0def6a248a5a\" target=\"_top\" title=\"psysml:cb0f7157-438a-4ad5-8a96-0def6a248a5a\" xlink:actuate=\"onRequest\" xlink:href=\"psysml:cb0f7157-438a-4ad5-8a96-0def6a248a5a\" xlink:show=\"new\" xlink:title=\"psysml:cb0f7157-438a-4ad5-8a96-0def6a248a5a\" xlink:type=\"simple\"><rect fill=\"#FFFFFF\" height=\"45.9375\" id=\"E3\" style=\"stroke: #383838; stroke-width: 1.5;\" width=\"66\" x=\"349\" y=\"205\"/><text fill=\"#000000\" font-family=\"sans-serif\" font-size=\"12\" font-style=\"italic\" lengthAdjust=\"spacingAndGlyphs\" textLength=\"64\" x=\"350\" y=\"221.1387\">«part def»</text><text fill=\"#000000\" font-family=\"sans-serif\" font-size=\"12\" lengthAdjust=\"spacingAndGlyphs\" textLength=\"8\" x=\"378\" y=\"235.1074\">A</text><line style=\"stroke: #383838; stroke-width: 1.5;\" x1=\"350\" x2=\"414\" y1=\"242.9375\" y2=\"242.9375\"/></a><!--MD5=[270fce915f116d4de14055a7c1d9a0f3]\n",
       "class E5--><a href=\"psysml:fa716e5d-1985-44ef-b151-4b2b4c0691ed\" target=\"_top\" title=\"psysml:fa716e5d-1985-44ef-b151-4b2b4c0691ed\" xlink:actuate=\"onRequest\" xlink:href=\"psysml:fa716e5d-1985-44ef-b151-4b2b4c0691ed\" xlink:show=\"new\" xlink:title=\"psysml:fa716e5d-1985-44ef-b151-4b2b4c0691ed\" xlink:type=\"simple\"><rect fill=\"#FFFFFF\" height=\"45.9375\" id=\"E5\" style=\"stroke: #383838; stroke-width: 1.5;\" width=\"66\" x=\"97\" y=\"205\"/><text fill=\"#000000\" font-family=\"sans-serif\" font-size=\"12\" font-style=\"italic\" lengthAdjust=\"spacingAndGlyphs\" textLength=\"64\" x=\"98\" y=\"221.1387\">«part def»</text><text fill=\"#000000\" font-family=\"sans-serif\" font-size=\"12\" lengthAdjust=\"spacingAndGlyphs\" textLength=\"8\" x=\"126\" y=\"235.1074\">B</text><line style=\"stroke: #383838; stroke-width: 1.5;\" x1=\"98\" x2=\"162\" y1=\"242.9375\" y2=\"242.9375\"/></a><!--MD5=[2156ba9850f5573cc1fc38a6a4b2f02b]\n",
       "class E7--><a href=\"psysml:418b0add-8d91-4a6d-810e-c529e1e5d9c2\" target=\"_top\" title=\"psysml:418b0add-8d91-4a6d-810e-c529e1e5d9c2\" xlink:actuate=\"onRequest\" xlink:href=\"psysml:418b0add-8d91-4a6d-810e-c529e1e5d9c2\" xlink:show=\"new\" xlink:title=\"psysml:418b0add-8d91-4a6d-810e-c529e1e5d9c2\" xlink:type=\"simple\"><rect fill=\"#FFFFFF\" height=\"45.9375\" id=\"E7\" rx=\"10\" ry=\"10\" style=\"stroke: #383838; stroke-width: 1.5;\" width=\"42\" x=\"361\" y=\"84\"/><text fill=\"#000000\" font-family=\"sans-serif\" font-size=\"12\" font-style=\"italic\" lengthAdjust=\"spacingAndGlyphs\" textLength=\"40\" x=\"362\" y=\"100.1387\">«part»</text><text fill=\"#000000\" font-family=\"sans-serif\" font-size=\"12\" lengthAdjust=\"spacingAndGlyphs\" textLength=\"22\" x=\"371\" y=\"114.1074\">x: A</text><line style=\"stroke: #383838; stroke-width: 1.5;\" x1=\"362\" x2=\"402\" y1=\"121.9375\" y2=\"121.9375\"/></a><!--MD5=[b9389687b975829384b498ac4b7476b2]\n",
       "class E8--><a href=\"psysml:c18479a8-8a5a-4a0f-a7e4-033b0648dafb\" target=\"_top\" title=\"psysml:c18479a8-8a5a-4a0f-a7e4-033b0648dafb\" xlink:actuate=\"onRequest\" xlink:href=\"psysml:c18479a8-8a5a-4a0f-a7e4-033b0648dafb\" xlink:show=\"new\" xlink:title=\"psysml:c18479a8-8a5a-4a0f-a7e4-033b0648dafb\" xlink:type=\"simple\"><rect fill=\"#FFFFFF\" height=\"45.9375\" id=\"E8\" rx=\"10\" ry=\"10\" style=\"stroke: #383838; stroke-width: 1.5;\" width=\"42\" x=\"284\" y=\"84\"/><text fill=\"#000000\" font-family=\"sans-serif\" font-size=\"12\" font-style=\"italic\" lengthAdjust=\"spacingAndGlyphs\" textLength=\"40\" x=\"285\" y=\"100.1387\">«part»</text><text fill=\"#000000\" font-family=\"sans-serif\" font-size=\"12\" lengthAdjust=\"spacingAndGlyphs\" textLength=\"22\" x=\"294\" y=\"114.1074\">y: B</text><line style=\"stroke: #383838; stroke-width: 1.5;\" x1=\"285\" x2=\"325\" y1=\"121.9375\" y2=\"121.9375\"/></a><!--MD5=[96f4274e9e20536e775497830990834d]\n",
       "class E10--><a href=\"psysml:61feb9d5-4074-478e-84bb-b7eccf03922b\" target=\"_top\" title=\"psysml:61feb9d5-4074-478e-84bb-b7eccf03922b\" xlink:actuate=\"onRequest\" xlink:href=\"psysml:61feb9d5-4074-478e-84bb-b7eccf03922b\" xlink:show=\"new\" xlink:title=\"psysml:61feb9d5-4074-478e-84bb-b7eccf03922b\" xlink:type=\"simple\"><rect fill=\"#FFFFFF\" height=\"45.9375\" id=\"E10\" rx=\"10\" ry=\"10\" style=\"stroke: #383838; stroke-width: 1.5;\" width=\"42\" x=\"186\" y=\"84\"/><text fill=\"#000000\" font-family=\"sans-serif\" font-size=\"12\" font-style=\"italic\" lengthAdjust=\"spacingAndGlyphs\" textLength=\"40\" x=\"187\" y=\"100.1387\">«part»</text><text fill=\"#000000\" font-family=\"sans-serif\" font-size=\"12\" lengthAdjust=\"spacingAndGlyphs\" textLength=\"22\" x=\"196\" y=\"114.1074\">x: A</text><line style=\"stroke: #383838; stroke-width: 1.5;\" x1=\"187\" x2=\"227\" y1=\"121.9375\" y2=\"121.9375\"/></a><!--MD5=[1dd1bfd58a279cf63c5f349dbc8fc6a1]\n",
       "class E11--><a href=\"psysml:2edd355f-e967-45cc-82fe-80091bb729bd\" target=\"_top\" title=\"psysml:2edd355f-e967-45cc-82fe-80091bb729bd\" xlink:actuate=\"onRequest\" xlink:href=\"psysml:2edd355f-e967-45cc-82fe-80091bb729bd\" xlink:show=\"new\" xlink:title=\"psysml:2edd355f-e967-45cc-82fe-80091bb729bd\" xlink:type=\"simple\"><rect fill=\"#FFFFFF\" height=\"45.9375\" id=\"E11\" rx=\"10\" ry=\"10\" style=\"stroke: #383838; stroke-width: 1.5;\" width=\"42\" x=\"109\" y=\"84\"/><text fill=\"#000000\" font-family=\"sans-serif\" font-size=\"12\" font-style=\"italic\" lengthAdjust=\"spacingAndGlyphs\" textLength=\"40\" x=\"110\" y=\"100.1387\">«part»</text><text fill=\"#000000\" font-family=\"sans-serif\" font-size=\"12\" lengthAdjust=\"spacingAndGlyphs\" textLength=\"22\" x=\"119\" y=\"114.1074\">y: B</text><line style=\"stroke: #383838; stroke-width: 1.5;\" x1=\"110\" x2=\"150\" y1=\"121.9375\" y2=\"121.9375\"/></a><!--MD5=[14ccda38c055a5c0da953d572bc50960]\n",
       "link E7 to E3--><a href=\"psysml:c27725e1-02a3-443e-822c-73205e66e264\" target=\"_top\" title=\"psysml:c27725e1-02a3-443e-822c-73205e66e264\" xlink:actuate=\"onRequest\" xlink:href=\"psysml:c27725e1-02a3-443e-822c-73205e66e264\" xlink:show=\"new\" xlink:title=\"psysml:c27725e1-02a3-443e-822c-73205e66e264\" xlink:type=\"simple\"><path d=\"M382,130.1 C382,145.37 382,166.16 382,184.57 \" fill=\"none\" id=\"E7-&gt;E3\" style=\"stroke: #383838; stroke-width: 1.0;\"/><polygon fill=\"#FFFFFF\" points=\"382,204.61,375,185.61,389,185.61,382,204.61\" style=\"stroke: #383838; stroke-width: 1.0;\"/><ellipse cx=\"377\" cy=\"179.91\" fill=\"#383838\" rx=\"2\" ry=\"2\" style=\"stroke: #383838; stroke-width: 1.0;\"/><ellipse cx=\"387\" cy=\"179.91\" fill=\"#383838\" rx=\"2\" ry=\"2\" style=\"stroke: #383838; stroke-width: 1.0;\"/></a><!--MD5=[1ccb2481ffa92f8d51a74ee30c51832a]\n",
       "link E8 to E5--><a href=\"psysml:43ceeb8e-eeaf-4aa9-b958-61b6f980f202\" target=\"_top\" title=\"psysml:43ceeb8e-eeaf-4aa9-b958-61b6f980f202\" xlink:actuate=\"onRequest\" xlink:href=\"psysml:43ceeb8e-eeaf-4aa9-b958-61b6f980f202\" xlink:show=\"new\" xlink:title=\"psysml:43ceeb8e-eeaf-4aa9-b958-61b6f980f202\" xlink:type=\"simple\"><path d=\"M283.67,124.09 C266.07,137.35 244,154 244,154 C244,154 210.8,175.26 180.23,194.83 \" fill=\"none\" id=\"E8-&gt;E5\" style=\"stroke: #383838; stroke-width: 1.0;\"/><polygon fill=\"#FFFFFF\" points=\"163.28,205.69,175.5055,189.5488,183.0554,201.3386,163.28,205.69\" style=\"stroke: #383838; stroke-width: 1.0;\"/><ellipse cx=\"181.3842\" cy=\"188.1592\" fill=\"#383838\" rx=\"2\" ry=\"2\" style=\"stroke: #383838; stroke-width: 1.0;\"/><ellipse cx=\"186.777\" cy=\"196.5805\" fill=\"#383838\" rx=\"2\" ry=\"2\" style=\"stroke: #383838; stroke-width: 1.0;\"/></a><!--MD5=[feeac5eb423634930294aa81f2d25a4c]\n",
       "link E10 to E3--><a href=\"psysml:2f015e6c-7efc-43fd-92bb-26e8cb5e6a22\" target=\"_top\" title=\"psysml:2f015e6c-7efc-43fd-92bb-26e8cb5e6a22\" xlink:actuate=\"onRequest\" xlink:href=\"psysml:2f015e6c-7efc-43fd-92bb-26e8cb5e6a22\" xlink:show=\"new\" xlink:title=\"psysml:2f015e6c-7efc-43fd-92bb-26e8cb5e6a22\" xlink:type=\"simple\"><path d=\"M228.33,124.09 C245.93,137.35 268,154 268,154 C268,154 301.2,175.26 331.77,194.83 \" fill=\"none\" id=\"E10-&gt;E3\" style=\"stroke: #383838; stroke-width: 1.0;\"/><polygon fill=\"#FFFFFF\" points=\"348.72,205.69,328.9446,201.3386,336.4945,189.5488,348.72,205.69\" style=\"stroke: #383838; stroke-width: 1.0;\"/><ellipse cx=\"325.223\" cy=\"196.5805\" fill=\"#383838\" rx=\"2\" ry=\"2\" style=\"stroke: #383838; stroke-width: 1.0;\"/><ellipse cx=\"330.6158\" cy=\"188.1592\" fill=\"#383838\" rx=\"2\" ry=\"2\" style=\"stroke: #383838; stroke-width: 1.0;\"/></a><!--MD5=[07b77f6f309248d16187045709d1c26e]\n",
       "link E11 to E5--><a href=\"psysml:7cf9fed8-155f-433e-a01b-9d13c54aa089\" target=\"_top\" title=\"psysml:7cf9fed8-155f-433e-a01b-9d13c54aa089\" xlink:actuate=\"onRequest\" xlink:href=\"psysml:7cf9fed8-155f-433e-a01b-9d13c54aa089\" xlink:show=\"new\" xlink:title=\"psysml:7cf9fed8-155f-433e-a01b-9d13c54aa089\" xlink:type=\"simple\"><path d=\"M130,130.1 C130,145.37 130,166.16 130,184.57 \" fill=\"none\" id=\"E11-&gt;E5\" style=\"stroke: #383838; stroke-width: 1.0;\"/><polygon fill=\"#FFFFFF\" points=\"130,204.61,123,185.61,137,185.61,130,204.61\" style=\"stroke: #383838; stroke-width: 1.0;\"/><ellipse cx=\"125\" cy=\"179.91\" fill=\"#383838\" rx=\"2\" ry=\"2\" style=\"stroke: #383838; stroke-width: 1.0;\"/><ellipse cx=\"135\" cy=\"179.91\" fill=\"#383838\" rx=\"2\" ry=\"2\" style=\"stroke: #383838; stroke-width: 1.0;\"/></a><!--MD5=[39f41a0e550fb3d73b4d8135617e30a2]\n",
       "link E12 to E3--><a href=\"psysml:2b9be10b-590f-4358-bedf-a86ab0ed6bce\" target=\"_top\" title=\"psysml:2b9be10b-590f-4358-bedf-a86ab0ed6bce\" xlink:actuate=\"onRequest\" xlink:href=\"psysml:2b9be10b-590f-4358-bedf-a86ab0ed6bce\" xlink:show=\"new\" xlink:title=\"psysml:2b9be10b-590f-4358-bedf-a86ab0ed6bce\" xlink:type=\"simple\"><path d=\"M444.7,130.1 C434.28,146.2 419.89,168.44 407.53,187.55 \" fill=\"none\" id=\"E12-&gt;E3\" style=\"stroke: #383838; stroke-width: 1.0;\"/><polygon fill=\"#FFFFFF\" points=\"396.49,204.61,400.9313,184.8546,412.6866,192.4581,396.49,204.61\" style=\"stroke: #383838; stroke-width: 1.0;\"/><ellipse cx=\"405.7063\" cy=\"181.1547\" fill=\"#383838\" rx=\"2\" ry=\"2\" style=\"stroke: #383838; stroke-width: 1.0;\"/><ellipse cx=\"414.103\" cy=\"186.5858\" fill=\"#383838\" rx=\"2\" ry=\"2\" style=\"stroke: #383838; stroke-width: 1.0;\"/></a><!--MD5=[066b2d8af59fea80ccdb3d54ad5c1091]\n",
       "link E13 to E5--><a href=\"psysml:78896435-f936-4df6-9172-2ff6f9da23d9\" target=\"_top\" title=\"psysml:78896435-f936-4df6-9172-2ff6f9da23d9\" xlink:actuate=\"onRequest\" xlink:href=\"psysml:78896435-f936-4df6-9172-2ff6f9da23d9\" xlink:show=\"new\" xlink:title=\"psysml:78896435-f936-4df6-9172-2ff6f9da23d9\" xlink:type=\"simple\"><path d=\"M67.3,130.1 C77.72,146.2 92.11,168.44 104.47,187.55 \" fill=\"none\" id=\"E13-&gt;E5\" style=\"stroke: #383838; stroke-width: 1.0;\"/><polygon fill=\"#FFFFFF\" points=\"115.51,204.61,99.3134,192.4581,111.0687,184.8546,115.51,204.61\" style=\"stroke: #383838; stroke-width: 1.0;\"/><ellipse cx=\"97.897\" cy=\"186.5858\" fill=\"#383838\" rx=\"2\" ry=\"2\" style=\"stroke: #383838; stroke-width: 1.0;\"/><ellipse cx=\"106.2937\" cy=\"181.1547\" fill=\"#383838\" rx=\"2\" ry=\"2\" style=\"stroke: #383838; stroke-width: 1.0;\"/></a><!--MD5=[3fbde009d5aa620b72db78883976aa9d]\n",
       "@startuml\r\n",
       "skinparam linetype polyline\r\n",
       "skinparam monochrome true\r\n",
       "skinparam classbackgroundcolor white\r\n",
       "skinparam shadowing false\r\n",
       "skinparam wrapWidth 300\r\n",
       "hide circle\r\n",
       "\r\n",
       "package \"CircularImport\" as E1  [[psysml:33738fcf-e3ee-4a7e-98d6-e975d5107ba1 ]]  {\r\n",
       "package \"P1\" as E2  [[psysml:130ef6c7-3ccc-43b9-a62a-eb926cce14a9 ]]  {\r\n",
       "comp def \"A\" as E3  <<(T,blue) part def>> [[psysml:cb0f7157-438a-4ad5-8a96-0def6a248a5a ]] {\r\n",
       "}\r\n",
       "}\r\n",
       "package \"P2\" as E4  [[psysml:0bc4dbd6-620a-45b9-8d32-94753792e496 ]]  {\r\n",
       "comp def \"B\" as E5  <<(T,blue) part def>> [[psysml:fa716e5d-1985-44ef-b151-4b2b4c0691ed ]] {\r\n",
       "}\r\n",
       "}\r\n",
       "package \"Test1\" as E6  [[psysml:b4043d48-e2a3-4796-9568-6bbff931ebfd ]]  {\r\n",
       "comp usage \"x: A\" as E7  <<(T,blue) part>> [[psysml:418b0add-8d91-4a6d-810e-c529e1e5d9c2 ]] {\r\n",
       "}\r\n",
       "comp usage \"y: B\" as E8  <<(T,blue) part>> [[psysml:c18479a8-8a5a-4a0f-a7e4-033b0648dafb ]] {\r\n",
       "}\r\n",
       "E7 - -:|> E3 [[psysml:c27725e1-02a3-443e-822c-73205e66e264 ]] \r\n",
       "E8 - -:|> E5 [[psysml:43ceeb8e-eeaf-4aa9-b958-61b6f980f202 ]] \r\n",
       "}\r\n",
       "package \"Test2\" as E9  [[psysml:85a9df72-6515-46a6-853d-c4da844a4980 ]]  {\r\n",
       "comp usage \"x: A\" as E10  <<(T,blue) part>> [[psysml:61feb9d5-4074-478e-84bb-b7eccf03922b ]] {\r\n",
       "}\r\n",
       "comp usage \"y: B\" as E11  <<(T,blue) part>> [[psysml:2edd355f-e967-45cc-82fe-80091bb729bd ]] {\r\n",
       "}\r\n",
       "E10 - -:|> E3 [[psysml:2f015e6c-7efc-43fd-92bb-26e8cb5e6a22 ]] \r\n",
       "E11 - -:|> E5 [[psysml:7cf9fed8-155f-433e-a01b-9d13c54aa089 ]] \r\n",
       "}\r\n",
       "comp usage \"x: A\" as E12  <<(T,blue) part>> [[psysml:530a6ae9-7dc1-4851-ab10-936e92c948f7 ]] {\r\n",
       "}\r\n",
       "comp usage \"y: B\" as E13  <<(T,blue) part>> [[psysml:561bfa55-252f-4783-9fb1-458618dbf236 ]] {\r\n",
       "}\r\n",
       "E12 - -:|> E3 [[psysml:2b9be10b-590f-4358-bedf-a86ab0ed6bce ]] \r\n",
       "E13 - -:|> E5 [[psysml:78896435-f936-4df6-9172-2ff6f9da23d9 ]] \r\n",
       "}\r\n",
       "@enduml\r\n",
       "\n",
       "PlantUML version 1.2020.13(Sat Jun 13 12:26:38 UTC 2020)\n",
       "(EPL source distribution)\n",
       "Java Runtime: OpenJDK Runtime Environment\n",
       "JVM: OpenJDK 64-Bit Server VM\n",
       "Default Encoding: UTF-8\n",
       "Language: en\n",
       "Country: null\n",
       "--></g></svg>"
      ]
     },
     "execution_count": 9,
     "metadata": {},
     "output_type": "execute_result"
    }
   ],
   "source": [
    "%viz --style=\"POLYLINE\" --view=\"Default\" \"CircularImport\""
   ]
  },
  {
   "cell_type": "code",
   "execution_count": 10,
   "id": "e7c0dca1",
   "metadata": {
    "execution": {
     "iopub.execute_input": "2021-06-30T09:15:08.137517Z",
     "iopub.status.busy": "2021-06-30T09:15:08.136867Z",
     "iopub.status.idle": "2021-06-30T09:15:08.277042Z",
     "shell.execute_reply": "2021-06-30T09:15:08.275512Z"
    }
   },
   "outputs": [
    {
     "data": {
      "image/svg+xml": [
       "<?xml version=\"1.0\" encoding=\"UTF-8\" standalone=\"no\"?><svg xmlns=\"http://www.w3.org/2000/svg\" xmlns:xlink=\"http://www.w3.org/1999/xlink\" contentScriptType=\"application/ecmascript\" contentStyleType=\"text/css\" height=\"303px\" preserveAspectRatio=\"none\" style=\"width:518px;height:303px;\" version=\"1.1\" viewBox=\"0 0 518 303\" width=\"518px\" zoomAndPan=\"magnify\"><defs/><g><!--MD5=[fbc87193dbaf4d95561dea2c320d4a47]\n",
       "cluster E1--><a href=\"psysml:33738fcf-e3ee-4a7e-98d6-e975d5107ba1\" target=\"_top\" title=\"psysml:33738fcf-e3ee-4a7e-98d6-e975d5107ba1\" xlink:actuate=\"onRequest\" xlink:href=\"psysml:33738fcf-e3ee-4a7e-98d6-e975d5107ba1\" xlink:show=\"new\" xlink:title=\"psysml:33738fcf-e3ee-4a7e-98d6-e975d5107ba1\" xlink:type=\"simple\"><polygon fill=\"#FFFFFF\" points=\"16,6,134,6,141,28.2969,496,28.2969,496,291,16,291,16,6\" style=\"stroke: #000000; stroke-width: 1.5;\"/><line style=\"stroke: #000000; stroke-width: 1.5;\" x1=\"16\" x2=\"141\" y1=\"28.2969\" y2=\"28.2969\"/><text fill=\"#000000\" font-family=\"sans-serif\" font-size=\"14\" font-weight=\"bold\" lengthAdjust=\"spacingAndGlyphs\" textLength=\"112\" x=\"20\" y=\"20.9951\">CircularImport</text></a><!--MD5=[e4f7fae6ed58524ba242bb0b0d3be6b7]\n",
       "cluster E2--><a href=\"psysml:130ef6c7-3ccc-43b9-a62a-eb926cce14a9\" target=\"_top\" title=\"psysml:130ef6c7-3ccc-43b9-a62a-eb926cce14a9\" xlink:actuate=\"onRequest\" xlink:href=\"psysml:130ef6c7-3ccc-43b9-a62a-eb926cce14a9\" xlink:show=\"new\" xlink:title=\"psysml:130ef6c7-3ccc-43b9-a62a-eb926cce14a9\" xlink:type=\"simple\"><polygon fill=\"#FFFFFF\" points=\"333,170,359,170,366,192.2969,431,192.2969,431,267,333,267,333,170\" style=\"stroke: #000000; stroke-width: 1.5;\"/><line style=\"stroke: #000000; stroke-width: 1.5;\" x1=\"333\" x2=\"366\" y1=\"192.2969\" y2=\"192.2969\"/><text fill=\"#000000\" font-family=\"sans-serif\" font-size=\"14\" font-weight=\"bold\" lengthAdjust=\"spacingAndGlyphs\" textLength=\"20\" x=\"337\" y=\"184.9951\">P1</text></a><!--MD5=[f6df4d0ebaf0b5dfb2ced0ae5af7c670]\n",
       "cluster E4--><a href=\"psysml:0bc4dbd6-620a-45b9-8d32-94753792e496\" target=\"_top\" title=\"psysml:0bc4dbd6-620a-45b9-8d32-94753792e496\" xlink:actuate=\"onRequest\" xlink:href=\"psysml:0bc4dbd6-620a-45b9-8d32-94753792e496\" xlink:show=\"new\" xlink:title=\"psysml:0bc4dbd6-620a-45b9-8d32-94753792e496\" xlink:type=\"simple\"><polygon fill=\"#FFFFFF\" points=\"81,170,107,170,114,192.2969,179,192.2969,179,267,81,267,81,170\" style=\"stroke: #000000; stroke-width: 1.5;\"/><line style=\"stroke: #000000; stroke-width: 1.5;\" x1=\"81\" x2=\"114\" y1=\"192.2969\" y2=\"192.2969\"/><text fill=\"#000000\" font-family=\"sans-serif\" font-size=\"14\" font-weight=\"bold\" lengthAdjust=\"spacingAndGlyphs\" textLength=\"20\" x=\"85\" y=\"184.9951\">P2</text></a><!--MD5=[14e3b0961a2654348d326746436168a1]\n",
       "cluster E6--><a href=\"psysml:b4043d48-e2a3-4796-9568-6bbff931ebfd\" target=\"_top\" title=\"psysml:b4043d48-e2a3-4796-9568-6bbff931ebfd\" xlink:actuate=\"onRequest\" xlink:href=\"psysml:b4043d48-e2a3-4796-9568-6bbff931ebfd\" xlink:show=\"new\" xlink:title=\"psysml:b4043d48-e2a3-4796-9568-6bbff931ebfd\" xlink:type=\"simple\"><polygon fill=\"#FFFFFF\" points=\"268,49,319,49,326,71.2969,419,71.2969,419,146,268,146,268,49\" style=\"stroke: #000000; stroke-width: 1.5;\"/><line style=\"stroke: #000000; stroke-width: 1.5;\" x1=\"268\" x2=\"326\" y1=\"71.2969\" y2=\"71.2969\"/><text fill=\"#000000\" font-family=\"sans-serif\" font-size=\"14\" font-weight=\"bold\" lengthAdjust=\"spacingAndGlyphs\" textLength=\"45\" x=\"272\" y=\"63.9951\">Test1</text></a><!--MD5=[7f149f147074ac12df2cb0a7728a5fb0]\n",
       "cluster E9--><a href=\"psysml:85a9df72-6515-46a6-853d-c4da844a4980\" target=\"_top\" title=\"psysml:85a9df72-6515-46a6-853d-c4da844a4980\" xlink:actuate=\"onRequest\" xlink:href=\"psysml:85a9df72-6515-46a6-853d-c4da844a4980\" xlink:show=\"new\" xlink:title=\"psysml:85a9df72-6515-46a6-853d-c4da844a4980\" xlink:type=\"simple\"><polygon fill=\"#FFFFFF\" points=\"93,49,144,49,151,71.2969,244,71.2969,244,146,93,146,93,49\" style=\"stroke: #000000; stroke-width: 1.5;\"/><line style=\"stroke: #000000; stroke-width: 1.5;\" x1=\"93\" x2=\"151\" y1=\"71.2969\" y2=\"71.2969\"/><text fill=\"#000000\" font-family=\"sans-serif\" font-size=\"14\" font-weight=\"bold\" lengthAdjust=\"spacingAndGlyphs\" textLength=\"45\" x=\"97\" y=\"63.9951\">Test2</text></a><!--MD5=[49a0ec8f00dab7302a31f22d0f0fe584]\n",
       "class E12--><a href=\"psysml:530a6ae9-7dc1-4851-ab10-936e92c948f7\" target=\"_top\" title=\"psysml:530a6ae9-7dc1-4851-ab10-936e92c948f7\" xlink:actuate=\"onRequest\" xlink:href=\"psysml:530a6ae9-7dc1-4851-ab10-936e92c948f7\" xlink:show=\"new\" xlink:title=\"psysml:530a6ae9-7dc1-4851-ab10-936e92c948f7\" xlink:type=\"simple\"><rect fill=\"#FFFFFF\" height=\"45.9375\" id=\"E12\" rx=\"10\" ry=\"10\" style=\"stroke: #383838; stroke-width: 1.5;\" width=\"42\" x=\"438\" y=\"84\"/><text fill=\"#000000\" font-family=\"sans-serif\" font-size=\"12\" font-style=\"italic\" lengthAdjust=\"spacingAndGlyphs\" textLength=\"40\" x=\"439\" y=\"100.1387\">«part»</text><text fill=\"#000000\" font-family=\"sans-serif\" font-size=\"12\" lengthAdjust=\"spacingAndGlyphs\" textLength=\"22\" x=\"448\" y=\"114.1074\">x: A</text><line style=\"stroke: #383838; stroke-width: 1.5;\" x1=\"439\" x2=\"479\" y1=\"121.9375\" y2=\"121.9375\"/></a><!--MD5=[ee3c913d1a06f366521f9ef512b67efe]\n",
       "class E13--><a href=\"psysml:561bfa55-252f-4783-9fb1-458618dbf236\" target=\"_top\" title=\"psysml:561bfa55-252f-4783-9fb1-458618dbf236\" xlink:actuate=\"onRequest\" xlink:href=\"psysml:561bfa55-252f-4783-9fb1-458618dbf236\" xlink:show=\"new\" xlink:title=\"psysml:561bfa55-252f-4783-9fb1-458618dbf236\" xlink:type=\"simple\"><rect fill=\"#FFFFFF\" height=\"45.9375\" id=\"E13\" rx=\"10\" ry=\"10\" style=\"stroke: #383838; stroke-width: 1.5;\" width=\"42\" x=\"32\" y=\"84\"/><text fill=\"#000000\" font-family=\"sans-serif\" font-size=\"12\" font-style=\"italic\" lengthAdjust=\"spacingAndGlyphs\" textLength=\"40\" x=\"33\" y=\"100.1387\">«part»</text><text fill=\"#000000\" font-family=\"sans-serif\" font-size=\"12\" lengthAdjust=\"spacingAndGlyphs\" textLength=\"22\" x=\"42\" y=\"114.1074\">y: B</text><line style=\"stroke: #383838; stroke-width: 1.5;\" x1=\"33\" x2=\"73\" y1=\"121.9375\" y2=\"121.9375\"/></a><!--MD5=[09b614a08d8cba4a07c9adeb5e0fee81]\n",
       "class E3--><a href=\"psysml:cb0f7157-438a-4ad5-8a96-0def6a248a5a\" target=\"_top\" title=\"psysml:cb0f7157-438a-4ad5-8a96-0def6a248a5a\" xlink:actuate=\"onRequest\" xlink:href=\"psysml:cb0f7157-438a-4ad5-8a96-0def6a248a5a\" xlink:show=\"new\" xlink:title=\"psysml:cb0f7157-438a-4ad5-8a96-0def6a248a5a\" xlink:type=\"simple\"><rect fill=\"#FFFFFF\" height=\"45.9375\" id=\"E3\" style=\"stroke: #383838; stroke-width: 1.5;\" width=\"66\" x=\"349\" y=\"205\"/><text fill=\"#000000\" font-family=\"sans-serif\" font-size=\"12\" font-style=\"italic\" lengthAdjust=\"spacingAndGlyphs\" textLength=\"64\" x=\"350\" y=\"221.1387\">«part def»</text><text fill=\"#000000\" font-family=\"sans-serif\" font-size=\"12\" lengthAdjust=\"spacingAndGlyphs\" textLength=\"8\" x=\"378\" y=\"235.1074\">A</text><line style=\"stroke: #383838; stroke-width: 1.5;\" x1=\"350\" x2=\"414\" y1=\"242.9375\" y2=\"242.9375\"/></a><!--MD5=[270fce915f116d4de14055a7c1d9a0f3]\n",
       "class E5--><a href=\"psysml:fa716e5d-1985-44ef-b151-4b2b4c0691ed\" target=\"_top\" title=\"psysml:fa716e5d-1985-44ef-b151-4b2b4c0691ed\" xlink:actuate=\"onRequest\" xlink:href=\"psysml:fa716e5d-1985-44ef-b151-4b2b4c0691ed\" xlink:show=\"new\" xlink:title=\"psysml:fa716e5d-1985-44ef-b151-4b2b4c0691ed\" xlink:type=\"simple\"><rect fill=\"#FFFFFF\" height=\"45.9375\" id=\"E5\" style=\"stroke: #383838; stroke-width: 1.5;\" width=\"66\" x=\"97\" y=\"205\"/><text fill=\"#000000\" font-family=\"sans-serif\" font-size=\"12\" font-style=\"italic\" lengthAdjust=\"spacingAndGlyphs\" textLength=\"64\" x=\"98\" y=\"221.1387\">«part def»</text><text fill=\"#000000\" font-family=\"sans-serif\" font-size=\"12\" lengthAdjust=\"spacingAndGlyphs\" textLength=\"8\" x=\"126\" y=\"235.1074\">B</text><line style=\"stroke: #383838; stroke-width: 1.5;\" x1=\"98\" x2=\"162\" y1=\"242.9375\" y2=\"242.9375\"/></a><!--MD5=[2156ba9850f5573cc1fc38a6a4b2f02b]\n",
       "class E7--><a href=\"psysml:418b0add-8d91-4a6d-810e-c529e1e5d9c2\" target=\"_top\" title=\"psysml:418b0add-8d91-4a6d-810e-c529e1e5d9c2\" xlink:actuate=\"onRequest\" xlink:href=\"psysml:418b0add-8d91-4a6d-810e-c529e1e5d9c2\" xlink:show=\"new\" xlink:title=\"psysml:418b0add-8d91-4a6d-810e-c529e1e5d9c2\" xlink:type=\"simple\"><rect fill=\"#FFFFFF\" height=\"45.9375\" id=\"E7\" rx=\"10\" ry=\"10\" style=\"stroke: #383838; stroke-width: 1.5;\" width=\"42\" x=\"361\" y=\"84\"/><text fill=\"#000000\" font-family=\"sans-serif\" font-size=\"12\" font-style=\"italic\" lengthAdjust=\"spacingAndGlyphs\" textLength=\"40\" x=\"362\" y=\"100.1387\">«part»</text><text fill=\"#000000\" font-family=\"sans-serif\" font-size=\"12\" lengthAdjust=\"spacingAndGlyphs\" textLength=\"22\" x=\"371\" y=\"114.1074\">x: A</text><line style=\"stroke: #383838; stroke-width: 1.5;\" x1=\"362\" x2=\"402\" y1=\"121.9375\" y2=\"121.9375\"/></a><!--MD5=[b9389687b975829384b498ac4b7476b2]\n",
       "class E8--><a href=\"psysml:c18479a8-8a5a-4a0f-a7e4-033b0648dafb\" target=\"_top\" title=\"psysml:c18479a8-8a5a-4a0f-a7e4-033b0648dafb\" xlink:actuate=\"onRequest\" xlink:href=\"psysml:c18479a8-8a5a-4a0f-a7e4-033b0648dafb\" xlink:show=\"new\" xlink:title=\"psysml:c18479a8-8a5a-4a0f-a7e4-033b0648dafb\" xlink:type=\"simple\"><rect fill=\"#FFFFFF\" height=\"45.9375\" id=\"E8\" rx=\"10\" ry=\"10\" style=\"stroke: #383838; stroke-width: 1.5;\" width=\"42\" x=\"284\" y=\"84\"/><text fill=\"#000000\" font-family=\"sans-serif\" font-size=\"12\" font-style=\"italic\" lengthAdjust=\"spacingAndGlyphs\" textLength=\"40\" x=\"285\" y=\"100.1387\">«part»</text><text fill=\"#000000\" font-family=\"sans-serif\" font-size=\"12\" lengthAdjust=\"spacingAndGlyphs\" textLength=\"22\" x=\"294\" y=\"114.1074\">y: B</text><line style=\"stroke: #383838; stroke-width: 1.5;\" x1=\"285\" x2=\"325\" y1=\"121.9375\" y2=\"121.9375\"/></a><!--MD5=[96f4274e9e20536e775497830990834d]\n",
       "class E10--><a href=\"psysml:61feb9d5-4074-478e-84bb-b7eccf03922b\" target=\"_top\" title=\"psysml:61feb9d5-4074-478e-84bb-b7eccf03922b\" xlink:actuate=\"onRequest\" xlink:href=\"psysml:61feb9d5-4074-478e-84bb-b7eccf03922b\" xlink:show=\"new\" xlink:title=\"psysml:61feb9d5-4074-478e-84bb-b7eccf03922b\" xlink:type=\"simple\"><rect fill=\"#FFFFFF\" height=\"45.9375\" id=\"E10\" rx=\"10\" ry=\"10\" style=\"stroke: #383838; stroke-width: 1.5;\" width=\"42\" x=\"186\" y=\"84\"/><text fill=\"#000000\" font-family=\"sans-serif\" font-size=\"12\" font-style=\"italic\" lengthAdjust=\"spacingAndGlyphs\" textLength=\"40\" x=\"187\" y=\"100.1387\">«part»</text><text fill=\"#000000\" font-family=\"sans-serif\" font-size=\"12\" lengthAdjust=\"spacingAndGlyphs\" textLength=\"22\" x=\"196\" y=\"114.1074\">x: A</text><line style=\"stroke: #383838; stroke-width: 1.5;\" x1=\"187\" x2=\"227\" y1=\"121.9375\" y2=\"121.9375\"/></a><!--MD5=[1dd1bfd58a279cf63c5f349dbc8fc6a1]\n",
       "class E11--><a href=\"psysml:2edd355f-e967-45cc-82fe-80091bb729bd\" target=\"_top\" title=\"psysml:2edd355f-e967-45cc-82fe-80091bb729bd\" xlink:actuate=\"onRequest\" xlink:href=\"psysml:2edd355f-e967-45cc-82fe-80091bb729bd\" xlink:show=\"new\" xlink:title=\"psysml:2edd355f-e967-45cc-82fe-80091bb729bd\" xlink:type=\"simple\"><rect fill=\"#FFFFFF\" height=\"45.9375\" id=\"E11\" rx=\"10\" ry=\"10\" style=\"stroke: #383838; stroke-width: 1.5;\" width=\"42\" x=\"109\" y=\"84\"/><text fill=\"#000000\" font-family=\"sans-serif\" font-size=\"12\" font-style=\"italic\" lengthAdjust=\"spacingAndGlyphs\" textLength=\"40\" x=\"110\" y=\"100.1387\">«part»</text><text fill=\"#000000\" font-family=\"sans-serif\" font-size=\"12\" lengthAdjust=\"spacingAndGlyphs\" textLength=\"22\" x=\"119\" y=\"114.1074\">y: B</text><line style=\"stroke: #383838; stroke-width: 1.5;\" x1=\"110\" x2=\"150\" y1=\"121.9375\" y2=\"121.9375\"/></a><!--MD5=[14ccda38c055a5c0da953d572bc50960]\n",
       "link E7 to E3--><a href=\"psysml:c27725e1-02a3-443e-822c-73205e66e264\" target=\"_top\" title=\"psysml:c27725e1-02a3-443e-822c-73205e66e264\" xlink:actuate=\"onRequest\" xlink:href=\"psysml:c27725e1-02a3-443e-822c-73205e66e264\" xlink:show=\"new\" xlink:title=\"psysml:c27725e1-02a3-443e-822c-73205e66e264\" xlink:type=\"simple\"><path d=\"M382,130.1 C382,145.37 382,166.16 382,184.57 \" fill=\"none\" id=\"E7-&gt;E3\" style=\"stroke: #383838; stroke-width: 1.0;\"/><polygon fill=\"#FFFFFF\" points=\"382,204.61,375,185.61,389,185.61,382,204.61\" style=\"stroke: #383838; stroke-width: 1.0;\"/><ellipse cx=\"377\" cy=\"179.91\" fill=\"#383838\" rx=\"2\" ry=\"2\" style=\"stroke: #383838; stroke-width: 1.0;\"/><ellipse cx=\"387\" cy=\"179.91\" fill=\"#383838\" rx=\"2\" ry=\"2\" style=\"stroke: #383838; stroke-width: 1.0;\"/></a><!--MD5=[1ccb2481ffa92f8d51a74ee30c51832a]\n",
       "link E8 to E5--><a href=\"psysml:43ceeb8e-eeaf-4aa9-b958-61b6f980f202\" target=\"_top\" title=\"psysml:43ceeb8e-eeaf-4aa9-b958-61b6f980f202\" xlink:actuate=\"onRequest\" xlink:href=\"psysml:43ceeb8e-eeaf-4aa9-b958-61b6f980f202\" xlink:show=\"new\" xlink:title=\"psysml:43ceeb8e-eeaf-4aa9-b958-61b6f980f202\" xlink:type=\"simple\"><path d=\"M283.67,124.09 C266.07,137.35 244,154 244,154 C244,154 210.8,175.26 180.23,194.83 \" fill=\"none\" id=\"E8-&gt;E5\" style=\"stroke: #383838; stroke-width: 1.0;\"/><polygon fill=\"#FFFFFF\" points=\"163.28,205.69,175.5055,189.5488,183.0554,201.3386,163.28,205.69\" style=\"stroke: #383838; stroke-width: 1.0;\"/><ellipse cx=\"181.3842\" cy=\"188.1592\" fill=\"#383838\" rx=\"2\" ry=\"2\" style=\"stroke: #383838; stroke-width: 1.0;\"/><ellipse cx=\"186.777\" cy=\"196.5805\" fill=\"#383838\" rx=\"2\" ry=\"2\" style=\"stroke: #383838; stroke-width: 1.0;\"/></a><!--MD5=[feeac5eb423634930294aa81f2d25a4c]\n",
       "link E10 to E3--><a href=\"psysml:2f015e6c-7efc-43fd-92bb-26e8cb5e6a22\" target=\"_top\" title=\"psysml:2f015e6c-7efc-43fd-92bb-26e8cb5e6a22\" xlink:actuate=\"onRequest\" xlink:href=\"psysml:2f015e6c-7efc-43fd-92bb-26e8cb5e6a22\" xlink:show=\"new\" xlink:title=\"psysml:2f015e6c-7efc-43fd-92bb-26e8cb5e6a22\" xlink:type=\"simple\"><path d=\"M228.33,124.09 C245.93,137.35 268,154 268,154 C268,154 301.2,175.26 331.77,194.83 \" fill=\"none\" id=\"E10-&gt;E3\" style=\"stroke: #383838; stroke-width: 1.0;\"/><polygon fill=\"#FFFFFF\" points=\"348.72,205.69,328.9446,201.3386,336.4945,189.5488,348.72,205.69\" style=\"stroke: #383838; stroke-width: 1.0;\"/><ellipse cx=\"325.223\" cy=\"196.5805\" fill=\"#383838\" rx=\"2\" ry=\"2\" style=\"stroke: #383838; stroke-width: 1.0;\"/><ellipse cx=\"330.6158\" cy=\"188.1592\" fill=\"#383838\" rx=\"2\" ry=\"2\" style=\"stroke: #383838; stroke-width: 1.0;\"/></a><!--MD5=[07b77f6f309248d16187045709d1c26e]\n",
       "link E11 to E5--><a href=\"psysml:7cf9fed8-155f-433e-a01b-9d13c54aa089\" target=\"_top\" title=\"psysml:7cf9fed8-155f-433e-a01b-9d13c54aa089\" xlink:actuate=\"onRequest\" xlink:href=\"psysml:7cf9fed8-155f-433e-a01b-9d13c54aa089\" xlink:show=\"new\" xlink:title=\"psysml:7cf9fed8-155f-433e-a01b-9d13c54aa089\" xlink:type=\"simple\"><path d=\"M130,130.1 C130,145.37 130,166.16 130,184.57 \" fill=\"none\" id=\"E11-&gt;E5\" style=\"stroke: #383838; stroke-width: 1.0;\"/><polygon fill=\"#FFFFFF\" points=\"130,204.61,123,185.61,137,185.61,130,204.61\" style=\"stroke: #383838; stroke-width: 1.0;\"/><ellipse cx=\"125\" cy=\"179.91\" fill=\"#383838\" rx=\"2\" ry=\"2\" style=\"stroke: #383838; stroke-width: 1.0;\"/><ellipse cx=\"135\" cy=\"179.91\" fill=\"#383838\" rx=\"2\" ry=\"2\" style=\"stroke: #383838; stroke-width: 1.0;\"/></a><!--MD5=[39f41a0e550fb3d73b4d8135617e30a2]\n",
       "link E12 to E3--><a href=\"psysml:2b9be10b-590f-4358-bedf-a86ab0ed6bce\" target=\"_top\" title=\"psysml:2b9be10b-590f-4358-bedf-a86ab0ed6bce\" xlink:actuate=\"onRequest\" xlink:href=\"psysml:2b9be10b-590f-4358-bedf-a86ab0ed6bce\" xlink:show=\"new\" xlink:title=\"psysml:2b9be10b-590f-4358-bedf-a86ab0ed6bce\" xlink:type=\"simple\"><path d=\"M444.7,130.1 C434.28,146.2 419.89,168.44 407.53,187.55 \" fill=\"none\" id=\"E12-&gt;E3\" style=\"stroke: #383838; stroke-width: 1.0;\"/><polygon fill=\"#FFFFFF\" points=\"396.49,204.61,400.9313,184.8546,412.6866,192.4581,396.49,204.61\" style=\"stroke: #383838; stroke-width: 1.0;\"/><ellipse cx=\"405.7063\" cy=\"181.1547\" fill=\"#383838\" rx=\"2\" ry=\"2\" style=\"stroke: #383838; stroke-width: 1.0;\"/><ellipse cx=\"414.103\" cy=\"186.5858\" fill=\"#383838\" rx=\"2\" ry=\"2\" style=\"stroke: #383838; stroke-width: 1.0;\"/></a><!--MD5=[066b2d8af59fea80ccdb3d54ad5c1091]\n",
       "link E13 to E5--><a href=\"psysml:78896435-f936-4df6-9172-2ff6f9da23d9\" target=\"_top\" title=\"psysml:78896435-f936-4df6-9172-2ff6f9da23d9\" xlink:actuate=\"onRequest\" xlink:href=\"psysml:78896435-f936-4df6-9172-2ff6f9da23d9\" xlink:show=\"new\" xlink:title=\"psysml:78896435-f936-4df6-9172-2ff6f9da23d9\" xlink:type=\"simple\"><path d=\"M67.3,130.1 C77.72,146.2 92.11,168.44 104.47,187.55 \" fill=\"none\" id=\"E13-&gt;E5\" style=\"stroke: #383838; stroke-width: 1.0;\"/><polygon fill=\"#FFFFFF\" points=\"115.51,204.61,99.3134,192.4581,111.0687,184.8546,115.51,204.61\" style=\"stroke: #383838; stroke-width: 1.0;\"/><ellipse cx=\"97.897\" cy=\"186.5858\" fill=\"#383838\" rx=\"2\" ry=\"2\" style=\"stroke: #383838; stroke-width: 1.0;\"/><ellipse cx=\"106.2937\" cy=\"181.1547\" fill=\"#383838\" rx=\"2\" ry=\"2\" style=\"stroke: #383838; stroke-width: 1.0;\"/></a><!--MD5=[3fbde009d5aa620b72db78883976aa9d]\n",
       "@startuml\r\n",
       "skinparam linetype polyline\r\n",
       "skinparam monochrome true\r\n",
       "skinparam classbackgroundcolor white\r\n",
       "skinparam shadowing false\r\n",
       "skinparam wrapWidth 300\r\n",
       "hide circle\r\n",
       "\r\n",
       "package \"CircularImport\" as E1  [[psysml:33738fcf-e3ee-4a7e-98d6-e975d5107ba1 ]]  {\r\n",
       "package \"P1\" as E2  [[psysml:130ef6c7-3ccc-43b9-a62a-eb926cce14a9 ]]  {\r\n",
       "comp def \"A\" as E3  <<(T,blue) part def>> [[psysml:cb0f7157-438a-4ad5-8a96-0def6a248a5a ]] {\r\n",
       "}\r\n",
       "}\r\n",
       "package \"P2\" as E4  [[psysml:0bc4dbd6-620a-45b9-8d32-94753792e496 ]]  {\r\n",
       "comp def \"B\" as E5  <<(T,blue) part def>> [[psysml:fa716e5d-1985-44ef-b151-4b2b4c0691ed ]] {\r\n",
       "}\r\n",
       "}\r\n",
       "package \"Test1\" as E6  [[psysml:b4043d48-e2a3-4796-9568-6bbff931ebfd ]]  {\r\n",
       "comp usage \"x: A\" as E7  <<(T,blue) part>> [[psysml:418b0add-8d91-4a6d-810e-c529e1e5d9c2 ]] {\r\n",
       "}\r\n",
       "comp usage \"y: B\" as E8  <<(T,blue) part>> [[psysml:c18479a8-8a5a-4a0f-a7e4-033b0648dafb ]] {\r\n",
       "}\r\n",
       "E7 - -:|> E3 [[psysml:c27725e1-02a3-443e-822c-73205e66e264 ]] \r\n",
       "E8 - -:|> E5 [[psysml:43ceeb8e-eeaf-4aa9-b958-61b6f980f202 ]] \r\n",
       "}\r\n",
       "package \"Test2\" as E9  [[psysml:85a9df72-6515-46a6-853d-c4da844a4980 ]]  {\r\n",
       "comp usage \"x: A\" as E10  <<(T,blue) part>> [[psysml:61feb9d5-4074-478e-84bb-b7eccf03922b ]] {\r\n",
       "}\r\n",
       "comp usage \"y: B\" as E11  <<(T,blue) part>> [[psysml:2edd355f-e967-45cc-82fe-80091bb729bd ]] {\r\n",
       "}\r\n",
       "E10 - -:|> E3 [[psysml:2f015e6c-7efc-43fd-92bb-26e8cb5e6a22 ]] \r\n",
       "E11 - -:|> E5 [[psysml:7cf9fed8-155f-433e-a01b-9d13c54aa089 ]] \r\n",
       "}\r\n",
       "comp usage \"x: A\" as E12  <<(T,blue) part>> [[psysml:530a6ae9-7dc1-4851-ab10-936e92c948f7 ]] {\r\n",
       "}\r\n",
       "comp usage \"y: B\" as E13  <<(T,blue) part>> [[psysml:561bfa55-252f-4783-9fb1-458618dbf236 ]] {\r\n",
       "}\r\n",
       "E12 - -:|> E3 [[psysml:2b9be10b-590f-4358-bedf-a86ab0ed6bce ]] \r\n",
       "E13 - -:|> E5 [[psysml:78896435-f936-4df6-9172-2ff6f9da23d9 ]] \r\n",
       "}\r\n",
       "@enduml\r\n",
       "\n",
       "PlantUML version 1.2020.13(Sat Jun 13 12:26:38 UTC 2020)\n",
       "(EPL source distribution)\n",
       "Java Runtime: OpenJDK Runtime Environment\n",
       "JVM: OpenJDK 64-Bit Server VM\n",
       "Default Encoding: UTF-8\n",
       "Language: en\n",
       "Country: null\n",
       "--></g></svg>"
      ]
     },
     "execution_count": 10,
     "metadata": {},
     "output_type": "execute_result"
    }
   ],
   "source": [
    "%viz --style=\"POLYLINE\" --view=\"Tree\" \"CircularImport\""
   ]
  },
  {
   "cell_type": "code",
   "execution_count": 11,
   "id": "bd8fee85",
   "metadata": {
    "execution": {
     "iopub.execute_input": "2021-06-30T09:15:08.332811Z",
     "iopub.status.busy": "2021-06-30T09:15:08.328581Z",
     "iopub.status.idle": "2021-06-30T09:15:08.351236Z",
     "shell.execute_reply": "2021-06-30T09:15:08.347464Z"
    }
   },
   "outputs": [
    {
     "data": {
      "image/svg+xml": [
       "<?xml version=\"1.0\" encoding=\"UTF-8\" standalone=\"no\"?><svg xmlns=\"http://www.w3.org/2000/svg\" xmlns:xlink=\"http://www.w3.org/1999/xlink\" contentScriptType=\"application/ecmascript\" contentStyleType=\"text/css\" height=\"12px\" preserveAspectRatio=\"none\" style=\"width:12px;height:12px;\" version=\"1.1\" viewBox=\"0 0 12 12\" width=\"12px\" zoomAndPan=\"magnify\"><defs/><g><!--MD5=[896ac0e7a515d8dd7765a661cb4ee08b]\n",
       "@startuml\r\n",
       "skinparam linetype polyline\r\n",
       "skinparam monochrome true\r\n",
       "skinparam classbackgroundcolor white\r\n",
       "skinparam shadowing false\r\n",
       "skinparam wrapWidth 300\r\n",
       "hide circle\r\n",
       "\r\n",
       "@enduml\r\n",
       "\n",
       "PlantUML version 1.2020.13(Sat Jun 13 12:26:38 UTC 2020)\n",
       "(EPL source distribution)\n",
       "Java Runtime: OpenJDK Runtime Environment\n",
       "JVM: OpenJDK 64-Bit Server VM\n",
       "Default Encoding: UTF-8\n",
       "Language: en\n",
       "Country: null\n",
       "--></g></svg>"
      ]
     },
     "execution_count": 11,
     "metadata": {},
     "output_type": "execute_result"
    }
   ],
   "source": [
    "%viz --style=\"POLYLINE\" --view=\"State\" \"CircularImport\""
   ]
  },
  {
   "cell_type": "code",
   "execution_count": 12,
   "id": "0282b5be",
   "metadata": {
    "execution": {
     "iopub.execute_input": "2021-06-30T09:15:08.403071Z",
     "iopub.status.busy": "2021-06-30T09:15:08.400754Z",
     "iopub.status.idle": "2021-06-30T09:15:08.494049Z",
     "shell.execute_reply": "2021-06-30T09:15:08.492955Z"
    }
   },
   "outputs": [
    {
     "data": {
      "image/svg+xml": [
       "<?xml version=\"1.0\" encoding=\"UTF-8\" standalone=\"no\"?><svg xmlns=\"http://www.w3.org/2000/svg\" xmlns:xlink=\"http://www.w3.org/1999/xlink\" contentScriptType=\"application/ecmascript\" contentStyleType=\"text/css\" height=\"179px\" preserveAspectRatio=\"none\" style=\"width:846px;height:179px;\" version=\"1.1\" viewBox=\"0 0 846 179\" width=\"846px\" zoomAndPan=\"magnify\"><defs/><g><!--MD5=[fbc87193dbaf4d95561dea2c320d4a47]\n",
       "cluster E1--><a href=\"psysml:33738fcf-e3ee-4a7e-98d6-e975d5107ba1\" target=\"_top\" title=\"psysml:33738fcf-e3ee-4a7e-98d6-e975d5107ba1\" xlink:actuate=\"onRequest\" xlink:href=\"psysml:33738fcf-e3ee-4a7e-98d6-e975d5107ba1\" xlink:show=\"new\" xlink:title=\"psysml:33738fcf-e3ee-4a7e-98d6-e975d5107ba1\" xlink:type=\"simple\"><polygon fill=\"#FFFFFF\" points=\"16,6,134,6,141,28.2969,824,28.2969,824,167,16,167,16,6\" style=\"stroke: #000000; stroke-width: 1.5;\"/><line style=\"stroke: #000000; stroke-width: 1.5;\" x1=\"16\" x2=\"141\" y1=\"28.2969\" y2=\"28.2969\"/><text fill=\"#000000\" font-family=\"sans-serif\" font-size=\"14\" font-weight=\"bold\" lengthAdjust=\"spacingAndGlyphs\" textLength=\"112\" x=\"20\" y=\"20.9951\">CircularImport</text></a><!--MD5=[e4f7fae6ed58524ba242bb0b0d3be6b7]\n",
       "cluster E2--><a href=\"psysml:130ef6c7-3ccc-43b9-a62a-eb926cce14a9\" target=\"_top\" title=\"psysml:130ef6c7-3ccc-43b9-a62a-eb926cce14a9\" xlink:actuate=\"onRequest\" xlink:href=\"psysml:130ef6c7-3ccc-43b9-a62a-eb926cce14a9\" xlink:show=\"new\" xlink:title=\"psysml:130ef6c7-3ccc-43b9-a62a-eb926cce14a9\" xlink:type=\"simple\"><polygon fill=\"#FFFFFF\" points=\"696,49,722,49,729,71.2969,800,71.2969,800,143,696,143,696,49\" style=\"stroke: #000000; stroke-width: 1.5;\"/><line style=\"stroke: #000000; stroke-width: 1.5;\" x1=\"696\" x2=\"729\" y1=\"71.2969\" y2=\"71.2969\"/><text fill=\"#000000\" font-family=\"sans-serif\" font-size=\"14\" font-weight=\"bold\" lengthAdjust=\"spacingAndGlyphs\" textLength=\"20\" x=\"700\" y=\"63.9951\">P1</text></a><!--MD5=[f6df4d0ebaf0b5dfb2ced0ae5af7c670]\n",
       "cluster E4--><a href=\"psysml:0bc4dbd6-620a-45b9-8d32-94753792e496\" target=\"_top\" title=\"psysml:0bc4dbd6-620a-45b9-8d32-94753792e496\" xlink:actuate=\"onRequest\" xlink:href=\"psysml:0bc4dbd6-620a-45b9-8d32-94753792e496\" xlink:show=\"new\" xlink:title=\"psysml:0bc4dbd6-620a-45b9-8d32-94753792e496\" xlink:type=\"simple\"><polygon fill=\"#FFFFFF\" points=\"568,49,594,49,601,71.2969,672,71.2969,672,143,568,143,568,49\" style=\"stroke: #000000; stroke-width: 1.5;\"/><line style=\"stroke: #000000; stroke-width: 1.5;\" x1=\"568\" x2=\"601\" y1=\"71.2969\" y2=\"71.2969\"/><text fill=\"#000000\" font-family=\"sans-serif\" font-size=\"14\" font-weight=\"bold\" lengthAdjust=\"spacingAndGlyphs\" textLength=\"20\" x=\"572\" y=\"63.9951\">P2</text></a><!--MD5=[14e3b0961a2654348d326746436168a1]\n",
       "cluster E6--><a href=\"psysml:b4043d48-e2a3-4796-9568-6bbff931ebfd\" target=\"_top\" title=\"psysml:b4043d48-e2a3-4796-9568-6bbff931ebfd\" xlink:actuate=\"onRequest\" xlink:href=\"psysml:b4043d48-e2a3-4796-9568-6bbff931ebfd\" xlink:show=\"new\" xlink:title=\"psysml:b4043d48-e2a3-4796-9568-6bbff931ebfd\" xlink:type=\"simple\"><polygon fill=\"#FFFFFF\" points=\"377,50.5,428,50.5,435,72.7969,544,72.7969,544,141.5,377,141.5,377,50.5\" style=\"stroke: #000000; stroke-width: 1.5;\"/><line style=\"stroke: #000000; stroke-width: 1.5;\" x1=\"377\" x2=\"435\" y1=\"72.7969\" y2=\"72.7969\"/><text fill=\"#000000\" font-family=\"sans-serif\" font-size=\"14\" font-weight=\"bold\" lengthAdjust=\"spacingAndGlyphs\" textLength=\"45\" x=\"381\" y=\"65.4951\">Test1</text></a><!--MD5=[7f149f147074ac12df2cb0a7728a5fb0]\n",
       "cluster E9--><a href=\"psysml:85a9df72-6515-46a6-853d-c4da844a4980\" target=\"_top\" title=\"psysml:85a9df72-6515-46a6-853d-c4da844a4980\" xlink:actuate=\"onRequest\" xlink:href=\"psysml:85a9df72-6515-46a6-853d-c4da844a4980\" xlink:show=\"new\" xlink:title=\"psysml:85a9df72-6515-46a6-853d-c4da844a4980\" xlink:type=\"simple\"><polygon fill=\"#FFFFFF\" points=\"186,50.5,237,50.5,244,72.7969,353,72.7969,353,141.5,186,141.5,186,50.5\" style=\"stroke: #000000; stroke-width: 1.5;\"/><line style=\"stroke: #000000; stroke-width: 1.5;\" x1=\"186\" x2=\"244\" y1=\"72.7969\" y2=\"72.7969\"/><text fill=\"#000000\" font-family=\"sans-serif\" font-size=\"14\" font-weight=\"bold\" lengthAdjust=\"spacingAndGlyphs\" textLength=\"45\" x=\"190\" y=\"65.4951\">Test2</text></a><g id=\"E1.E2.E3\"><a href=\"psysml:cb0f7157-438a-4ad5-8a96-0def6a248a5a\" target=\"_top\" title=\"psysml:cb0f7157-438a-4ad5-8a96-0def6a248a5a\" xlink:actuate=\"onRequest\" xlink:href=\"psysml:cb0f7157-438a-4ad5-8a96-0def6a248a5a\" xlink:show=\"new\" xlink:title=\"psysml:cb0f7157-438a-4ad5-8a96-0def6a248a5a\" xlink:type=\"simple\"><rect fill=\"#FFFFFF\" height=\"42.9375\" id=\"E3\" style=\"stroke: #383838; stroke-width: 1.5;\" width=\"71\" x=\"712.5\" y=\"84\"/><rect fill=\"#F8F8F8\" height=\"37.9375\" style=\"stroke: #383838; stroke-width: 1.5;\" width=\"71\" x=\"712.5\" y=\"84\"/><text fill=\"#000000\" font-family=\"sans-serif\" font-size=\"12\" font-style=\"italic\" lengthAdjust=\"spacingAndGlyphs\" textLength=\"64\" x=\"716\" y=\"100.1387\">«part def»</text><text fill=\"#000000\" font-family=\"sans-serif\" font-size=\"12\" lengthAdjust=\"spacingAndGlyphs\" textLength=\"8\" x=\"744\" y=\"114.1074\">A</text></a></g><g id=\"E1.E4.E5\"><a href=\"psysml:fa716e5d-1985-44ef-b151-4b2b4c0691ed\" target=\"_top\" title=\"psysml:fa716e5d-1985-44ef-b151-4b2b4c0691ed\" xlink:actuate=\"onRequest\" xlink:href=\"psysml:fa716e5d-1985-44ef-b151-4b2b4c0691ed\" xlink:show=\"new\" xlink:title=\"psysml:fa716e5d-1985-44ef-b151-4b2b4c0691ed\" xlink:type=\"simple\"><rect fill=\"#FFFFFF\" height=\"42.9375\" id=\"E5\" style=\"stroke: #383838; stroke-width: 1.5;\" width=\"71\" x=\"584.5\" y=\"84\"/><rect fill=\"#F8F8F8\" height=\"37.9375\" style=\"stroke: #383838; stroke-width: 1.5;\" width=\"71\" x=\"584.5\" y=\"84\"/><text fill=\"#000000\" font-family=\"sans-serif\" font-size=\"12\" font-style=\"italic\" lengthAdjust=\"spacingAndGlyphs\" textLength=\"64\" x=\"588\" y=\"100.1387\">«part def»</text><text fill=\"#000000\" font-family=\"sans-serif\" font-size=\"12\" lengthAdjust=\"spacingAndGlyphs\" textLength=\"8\" x=\"616\" y=\"114.1074\">B</text></a></g><g id=\"E1.E6.E7\"><a href=\"psysml:418b0add-8d91-4a6d-810e-c529e1e5d9c2\" target=\"_top\" title=\"psysml:418b0add-8d91-4a6d-810e-c529e1e5d9c2\" xlink:actuate=\"onRequest\" xlink:href=\"psysml:418b0add-8d91-4a6d-810e-c529e1e5d9c2\" xlink:show=\"new\" xlink:title=\"psysml:418b0add-8d91-4a6d-810e-c529e1e5d9c2\" xlink:type=\"simple\"><rect fill=\"#FFFFFF\" height=\"40\" id=\"E7\" rx=\"10\" ry=\"10\" style=\"stroke: #383838; stroke-width: 1.5;\" width=\"50\" x=\"478\" y=\"85.5\"/><rect fill=\"#F8F8F8\" height=\"23.9688\" rx=\"10\" ry=\"10\" style=\"stroke: #F8F8F8; stroke-width: 1.5;\" width=\"50\" x=\"478\" y=\"85.5\"/><rect fill=\"#F8F8F8\" height=\"10\" style=\"stroke: #F8F8F8; stroke-width: 1.5;\" width=\"50\" x=\"478\" y=\"99.4688\"/><rect fill=\"none\" height=\"40\" id=\"E7\" rx=\"10\" ry=\"10\" style=\"stroke: #383838; stroke-width: 1.5;\" width=\"50\" x=\"478\" y=\"85.5\"/><text fill=\"#000000\" font-family=\"sans-serif\" font-size=\"12\" lengthAdjust=\"spacingAndGlyphs\" textLength=\"22\" x=\"492\" y=\"101.6387\">x: A</text></a></g><g id=\"E1.E6.E8\"><a href=\"psysml:c18479a8-8a5a-4a0f-a7e4-033b0648dafb\" target=\"_top\" title=\"psysml:c18479a8-8a5a-4a0f-a7e4-033b0648dafb\" xlink:actuate=\"onRequest\" xlink:href=\"psysml:c18479a8-8a5a-4a0f-a7e4-033b0648dafb\" xlink:show=\"new\" xlink:title=\"psysml:c18479a8-8a5a-4a0f-a7e4-033b0648dafb\" xlink:type=\"simple\"><rect fill=\"#FFFFFF\" height=\"40\" id=\"E8\" rx=\"10\" ry=\"10\" style=\"stroke: #383838; stroke-width: 1.5;\" width=\"50\" x=\"393\" y=\"85.5\"/><rect fill=\"#F8F8F8\" height=\"23.9688\" rx=\"10\" ry=\"10\" style=\"stroke: #F8F8F8; stroke-width: 1.5;\" width=\"50\" x=\"393\" y=\"85.5\"/><rect fill=\"#F8F8F8\" height=\"10\" style=\"stroke: #F8F8F8; stroke-width: 1.5;\" width=\"50\" x=\"393\" y=\"99.4688\"/><rect fill=\"none\" height=\"40\" id=\"E8\" rx=\"10\" ry=\"10\" style=\"stroke: #383838; stroke-width: 1.5;\" width=\"50\" x=\"393\" y=\"85.5\"/><text fill=\"#000000\" font-family=\"sans-serif\" font-size=\"12\" lengthAdjust=\"spacingAndGlyphs\" textLength=\"22\" x=\"407\" y=\"101.6387\">y: B</text></a></g><g id=\"E1.E9.E10\"><a href=\"psysml:61feb9d5-4074-478e-84bb-b7eccf03922b\" target=\"_top\" title=\"psysml:61feb9d5-4074-478e-84bb-b7eccf03922b\" xlink:actuate=\"onRequest\" xlink:href=\"psysml:61feb9d5-4074-478e-84bb-b7eccf03922b\" xlink:show=\"new\" xlink:title=\"psysml:61feb9d5-4074-478e-84bb-b7eccf03922b\" xlink:type=\"simple\"><rect fill=\"#FFFFFF\" height=\"40\" id=\"E10\" rx=\"10\" ry=\"10\" style=\"stroke: #383838; stroke-width: 1.5;\" width=\"50\" x=\"287\" y=\"85.5\"/><rect fill=\"#F8F8F8\" height=\"23.9688\" rx=\"10\" ry=\"10\" style=\"stroke: #F8F8F8; stroke-width: 1.5;\" width=\"50\" x=\"287\" y=\"85.5\"/><rect fill=\"#F8F8F8\" height=\"10\" style=\"stroke: #F8F8F8; stroke-width: 1.5;\" width=\"50\" x=\"287\" y=\"99.4688\"/><rect fill=\"none\" height=\"40\" id=\"E10\" rx=\"10\" ry=\"10\" style=\"stroke: #383838; stroke-width: 1.5;\" width=\"50\" x=\"287\" y=\"85.5\"/><text fill=\"#000000\" font-family=\"sans-serif\" font-size=\"12\" lengthAdjust=\"spacingAndGlyphs\" textLength=\"22\" x=\"301\" y=\"101.6387\">x: A</text></a></g><g id=\"E1.E9.E11\"><a href=\"psysml:2edd355f-e967-45cc-82fe-80091bb729bd\" target=\"_top\" title=\"psysml:2edd355f-e967-45cc-82fe-80091bb729bd\" xlink:actuate=\"onRequest\" xlink:href=\"psysml:2edd355f-e967-45cc-82fe-80091bb729bd\" xlink:show=\"new\" xlink:title=\"psysml:2edd355f-e967-45cc-82fe-80091bb729bd\" xlink:type=\"simple\"><rect fill=\"#FFFFFF\" height=\"40\" id=\"E11\" rx=\"10\" ry=\"10\" style=\"stroke: #383838; stroke-width: 1.5;\" width=\"50\" x=\"202\" y=\"85.5\"/><rect fill=\"#F8F8F8\" height=\"23.9688\" rx=\"10\" ry=\"10\" style=\"stroke: #F8F8F8; stroke-width: 1.5;\" width=\"50\" x=\"202\" y=\"85.5\"/><rect fill=\"#F8F8F8\" height=\"10\" style=\"stroke: #F8F8F8; stroke-width: 1.5;\" width=\"50\" x=\"202\" y=\"99.4688\"/><rect fill=\"none\" height=\"40\" id=\"E11\" rx=\"10\" ry=\"10\" style=\"stroke: #383838; stroke-width: 1.5;\" width=\"50\" x=\"202\" y=\"85.5\"/><text fill=\"#000000\" font-family=\"sans-serif\" font-size=\"12\" lengthAdjust=\"spacingAndGlyphs\" textLength=\"22\" x=\"216\" y=\"101.6387\">y: B</text></a></g><g id=\"E1.E12\"><a href=\"psysml:530a6ae9-7dc1-4851-ab10-936e92c948f7\" target=\"_top\" title=\"psysml:530a6ae9-7dc1-4851-ab10-936e92c948f7\" xlink:actuate=\"onRequest\" xlink:href=\"psysml:530a6ae9-7dc1-4851-ab10-936e92c948f7\" xlink:show=\"new\" xlink:title=\"psysml:530a6ae9-7dc1-4851-ab10-936e92c948f7\" xlink:type=\"simple\"><rect fill=\"#FFFFFF\" height=\"40\" id=\"E12\" rx=\"10\" ry=\"10\" style=\"stroke: #383838; stroke-width: 1.5;\" width=\"50\" x=\"117\" y=\"85.5\"/><rect fill=\"#F8F8F8\" height=\"23.9688\" rx=\"10\" ry=\"10\" style=\"stroke: #F8F8F8; stroke-width: 1.5;\" width=\"50\" x=\"117\" y=\"85.5\"/><rect fill=\"#F8F8F8\" height=\"10\" style=\"stroke: #F8F8F8; stroke-width: 1.5;\" width=\"50\" x=\"117\" y=\"99.4688\"/><rect fill=\"none\" height=\"40\" id=\"E12\" rx=\"10\" ry=\"10\" style=\"stroke: #383838; stroke-width: 1.5;\" width=\"50\" x=\"117\" y=\"85.5\"/><text fill=\"#000000\" font-family=\"sans-serif\" font-size=\"12\" lengthAdjust=\"spacingAndGlyphs\" textLength=\"22\" x=\"131\" y=\"101.6387\">x: A</text></a></g><g id=\"E1.E13\"><a href=\"psysml:561bfa55-252f-4783-9fb1-458618dbf236\" target=\"_top\" title=\"psysml:561bfa55-252f-4783-9fb1-458618dbf236\" xlink:actuate=\"onRequest\" xlink:href=\"psysml:561bfa55-252f-4783-9fb1-458618dbf236\" xlink:show=\"new\" xlink:title=\"psysml:561bfa55-252f-4783-9fb1-458618dbf236\" xlink:type=\"simple\"><rect fill=\"#FFFFFF\" height=\"40\" id=\"E13\" rx=\"10\" ry=\"10\" style=\"stroke: #383838; stroke-width: 1.5;\" width=\"50\" x=\"32\" y=\"85.5\"/><rect fill=\"#F8F8F8\" height=\"23.9688\" rx=\"10\" ry=\"10\" style=\"stroke: #F8F8F8; stroke-width: 1.5;\" width=\"50\" x=\"32\" y=\"85.5\"/><rect fill=\"#F8F8F8\" height=\"10\" style=\"stroke: #F8F8F8; stroke-width: 1.5;\" width=\"50\" x=\"32\" y=\"99.4688\"/><rect fill=\"none\" height=\"40\" id=\"E13\" rx=\"10\" ry=\"10\" style=\"stroke: #383838; stroke-width: 1.5;\" width=\"50\" x=\"32\" y=\"85.5\"/><text fill=\"#000000\" font-family=\"sans-serif\" font-size=\"12\" lengthAdjust=\"spacingAndGlyphs\" textLength=\"22\" x=\"46\" y=\"101.6387\">y: B</text></a></g><!--MD5=[1170f4d2d44b68aa2706cd6e0f5fc53b]\n",
       "@startuml\r\n",
       "skinparam ranksep 10\r\n",
       "skinparam rectangle {\r\n",
       " backgroundColor<<block>> LightGreen\r\n",
       "}\r\n",
       "skinparam linetype polyline\r\n",
       "skinparam monochrome true\r\n",
       "skinparam classbackgroundcolor white\r\n",
       "skinparam shadowing false\r\n",
       "skinparam wrapWidth 300\r\n",
       "hide circle\r\n",
       "\r\n",
       "package \"CircularImport\" as E1  [[psysml:33738fcf-e3ee-4a7e-98d6-e975d5107ba1 ]]  {\r\n",
       "package \"P1\" as E2  [[psysml:130ef6c7-3ccc-43b9-a62a-eb926cce14a9 ]]  {\r\n",
       "rec def \"A\" as E3  <<(T,blue) part def>> [[psysml:cb0f7157-438a-4ad5-8a96-0def6a248a5a ]] {\r\n",
       "}\r\n",
       "}\r\n",
       "package \"P2\" as E4  [[psysml:0bc4dbd6-620a-45b9-8d32-94753792e496 ]]  {\r\n",
       "rec def \"B\" as E5  <<(T,blue) part def>> [[psysml:fa716e5d-1985-44ef-b151-4b2b4c0691ed ]] {\r\n",
       "}\r\n",
       "}\r\n",
       "package \"Test1\" as E6  [[psysml:b4043d48-e2a3-4796-9568-6bbff931ebfd ]]  {\r\n",
       "rec usage \"x: A\" as E7  [[psysml:418b0add-8d91-4a6d-810e-c529e1e5d9c2 ]] {\r\n",
       "}\r\n",
       "rec usage \"y: B\" as E8  [[psysml:c18479a8-8a5a-4a0f-a7e4-033b0648dafb ]] {\r\n",
       "}\r\n",
       "}\r\n",
       "package \"Test2\" as E9  [[psysml:85a9df72-6515-46a6-853d-c4da844a4980 ]]  {\r\n",
       "rec usage \"x: A\" as E10  [[psysml:61feb9d5-4074-478e-84bb-b7eccf03922b ]] {\r\n",
       "}\r\n",
       "rec usage \"y: B\" as E11  [[psysml:2edd355f-e967-45cc-82fe-80091bb729bd ]] {\r\n",
       "}\r\n",
       "}\r\n",
       "rec usage \"x: A\" as E12  [[psysml:530a6ae9-7dc1-4851-ab10-936e92c948f7 ]] {\r\n",
       "}\r\n",
       "rec usage \"y: B\" as E13  [[psysml:561bfa55-252f-4783-9fb1-458618dbf236 ]] {\r\n",
       "}\r\n",
       "}\r\n",
       "@enduml\r\n",
       "\n",
       "PlantUML version 1.2020.13(Sat Jun 13 12:26:38 UTC 2020)\n",
       "(EPL source distribution)\n",
       "Java Runtime: OpenJDK Runtime Environment\n",
       "JVM: OpenJDK 64-Bit Server VM\n",
       "Default Encoding: UTF-8\n",
       "Language: en\n",
       "Country: null\n",
       "--></g></svg>"
      ]
     },
     "execution_count": 12,
     "metadata": {},
     "output_type": "execute_result"
    }
   ],
   "source": [
    "%viz --style=\"POLYLINE\" --view=\"Interconnection\" \"CircularImport\""
   ]
  },
  {
   "cell_type": "code",
   "execution_count": 13,
   "id": "54e353dc",
   "metadata": {
    "execution": {
     "iopub.execute_input": "2021-06-30T09:15:08.549579Z",
     "iopub.status.busy": "2021-06-30T09:15:08.548302Z",
     "iopub.status.idle": "2021-06-30T09:15:08.563456Z",
     "shell.execute_reply": "2021-06-30T09:15:08.562895Z"
    }
   },
   "outputs": [
    {
     "data": {
      "image/svg+xml": [
       "<?xml version=\"1.0\" encoding=\"UTF-8\" standalone=\"no\"?><svg xmlns=\"http://www.w3.org/2000/svg\" xmlns:xlink=\"http://www.w3.org/1999/xlink\" contentScriptType=\"application/ecmascript\" contentStyleType=\"text/css\" height=\"12px\" preserveAspectRatio=\"none\" style=\"width:12px;height:12px;\" version=\"1.1\" viewBox=\"0 0 12 12\" width=\"12px\" zoomAndPan=\"magnify\"><defs/><g><!--MD5=[97bbf32f66ccd50cbc40d92ea8f5a65e]\n",
       "@startuml\r\n",
       "skinparam ranksep 8\r\n",
       "skinparam linetype polyline\r\n",
       "skinparam monochrome true\r\n",
       "skinparam classbackgroundcolor white\r\n",
       "skinparam shadowing false\r\n",
       "skinparam wrapWidth 300\r\n",
       "hide circle\r\n",
       "\r\n",
       "@enduml\r\n",
       "\n",
       "PlantUML version 1.2020.13(Sat Jun 13 12:26:38 UTC 2020)\n",
       "(EPL source distribution)\n",
       "Java Runtime: OpenJDK Runtime Environment\n",
       "JVM: OpenJDK 64-Bit Server VM\n",
       "Default Encoding: UTF-8\n",
       "Language: en\n",
       "Country: null\n",
       "--></g></svg>"
      ]
     },
     "execution_count": 13,
     "metadata": {},
     "output_type": "execute_result"
    }
   ],
   "source": [
    "%viz --style=\"POLYLINE\" --view=\"Action\" \"CircularImport\""
   ]
  },
  {
   "cell_type": "code",
   "execution_count": 14,
   "id": "f16b0260",
   "metadata": {
    "execution": {
     "iopub.execute_input": "2021-06-30T09:15:08.613314Z",
     "iopub.status.busy": "2021-06-30T09:15:08.611765Z",
     "iopub.status.idle": "2021-06-30T09:15:08.711403Z",
     "shell.execute_reply": "2021-06-30T09:15:08.710500Z"
    }
   },
   "outputs": [
    {
     "data": {
      "image/svg+xml": [
       "<?xml version=\"1.0\" encoding=\"UTF-8\" standalone=\"no\"?><svg xmlns=\"http://www.w3.org/2000/svg\" xmlns:xlink=\"http://www.w3.org/1999/xlink\" contentScriptType=\"application/ecmascript\" contentStyleType=\"text/css\" height=\"303px\" preserveAspectRatio=\"none\" style=\"width:518px;height:303px;\" version=\"1.1\" viewBox=\"0 0 518 303\" width=\"518px\" zoomAndPan=\"magnify\"><defs/><g><!--MD5=[fbc87193dbaf4d95561dea2c320d4a47]\n",
       "cluster E1--><a href=\"psysml:33738fcf-e3ee-4a7e-98d6-e975d5107ba1\" target=\"_top\" title=\"psysml:33738fcf-e3ee-4a7e-98d6-e975d5107ba1\" xlink:actuate=\"onRequest\" xlink:href=\"psysml:33738fcf-e3ee-4a7e-98d6-e975d5107ba1\" xlink:show=\"new\" xlink:title=\"psysml:33738fcf-e3ee-4a7e-98d6-e975d5107ba1\" xlink:type=\"simple\"><polygon fill=\"#FFFFFF\" points=\"16,6,134,6,141,28.2969,496,28.2969,496,291,16,291,16,6\" style=\"stroke: #000000; stroke-width: 1.5;\"/><line style=\"stroke: #000000; stroke-width: 1.5;\" x1=\"16\" x2=\"141\" y1=\"28.2969\" y2=\"28.2969\"/><text fill=\"#000000\" font-family=\"sans-serif\" font-size=\"14\" font-weight=\"bold\" lengthAdjust=\"spacingAndGlyphs\" textLength=\"112\" x=\"20\" y=\"20.9951\">CircularImport</text></a><!--MD5=[e4f7fae6ed58524ba242bb0b0d3be6b7]\n",
       "cluster E2--><a href=\"psysml:130ef6c7-3ccc-43b9-a62a-eb926cce14a9\" target=\"_top\" title=\"psysml:130ef6c7-3ccc-43b9-a62a-eb926cce14a9\" xlink:actuate=\"onRequest\" xlink:href=\"psysml:130ef6c7-3ccc-43b9-a62a-eb926cce14a9\" xlink:show=\"new\" xlink:title=\"psysml:130ef6c7-3ccc-43b9-a62a-eb926cce14a9\" xlink:type=\"simple\"><polygon fill=\"#FFFFFF\" points=\"333,170,359,170,366,192.2969,431,192.2969,431,267,333,267,333,170\" style=\"stroke: #000000; stroke-width: 1.5;\"/><line style=\"stroke: #000000; stroke-width: 1.5;\" x1=\"333\" x2=\"366\" y1=\"192.2969\" y2=\"192.2969\"/><text fill=\"#000000\" font-family=\"sans-serif\" font-size=\"14\" font-weight=\"bold\" lengthAdjust=\"spacingAndGlyphs\" textLength=\"20\" x=\"337\" y=\"184.9951\">P1</text></a><!--MD5=[f6df4d0ebaf0b5dfb2ced0ae5af7c670]\n",
       "cluster E4--><a href=\"psysml:0bc4dbd6-620a-45b9-8d32-94753792e496\" target=\"_top\" title=\"psysml:0bc4dbd6-620a-45b9-8d32-94753792e496\" xlink:actuate=\"onRequest\" xlink:href=\"psysml:0bc4dbd6-620a-45b9-8d32-94753792e496\" xlink:show=\"new\" xlink:title=\"psysml:0bc4dbd6-620a-45b9-8d32-94753792e496\" xlink:type=\"simple\"><polygon fill=\"#FFFFFF\" points=\"81,170,107,170,114,192.2969,179,192.2969,179,267,81,267,81,170\" style=\"stroke: #000000; stroke-width: 1.5;\"/><line style=\"stroke: #000000; stroke-width: 1.5;\" x1=\"81\" x2=\"114\" y1=\"192.2969\" y2=\"192.2969\"/><text fill=\"#000000\" font-family=\"sans-serif\" font-size=\"14\" font-weight=\"bold\" lengthAdjust=\"spacingAndGlyphs\" textLength=\"20\" x=\"85\" y=\"184.9951\">P2</text></a><!--MD5=[14e3b0961a2654348d326746436168a1]\n",
       "cluster E6--><a href=\"psysml:b4043d48-e2a3-4796-9568-6bbff931ebfd\" target=\"_top\" title=\"psysml:b4043d48-e2a3-4796-9568-6bbff931ebfd\" xlink:actuate=\"onRequest\" xlink:href=\"psysml:b4043d48-e2a3-4796-9568-6bbff931ebfd\" xlink:show=\"new\" xlink:title=\"psysml:b4043d48-e2a3-4796-9568-6bbff931ebfd\" xlink:type=\"simple\"><polygon fill=\"#FFFFFF\" points=\"268,49,319,49,326,71.2969,419,71.2969,419,146,268,146,268,49\" style=\"stroke: #000000; stroke-width: 1.5;\"/><line style=\"stroke: #000000; stroke-width: 1.5;\" x1=\"268\" x2=\"326\" y1=\"71.2969\" y2=\"71.2969\"/><text fill=\"#000000\" font-family=\"sans-serif\" font-size=\"14\" font-weight=\"bold\" lengthAdjust=\"spacingAndGlyphs\" textLength=\"45\" x=\"272\" y=\"63.9951\">Test1</text></a><!--MD5=[7f149f147074ac12df2cb0a7728a5fb0]\n",
       "cluster E9--><a href=\"psysml:85a9df72-6515-46a6-853d-c4da844a4980\" target=\"_top\" title=\"psysml:85a9df72-6515-46a6-853d-c4da844a4980\" xlink:actuate=\"onRequest\" xlink:href=\"psysml:85a9df72-6515-46a6-853d-c4da844a4980\" xlink:show=\"new\" xlink:title=\"psysml:85a9df72-6515-46a6-853d-c4da844a4980\" xlink:type=\"simple\"><polygon fill=\"#FFFFFF\" points=\"93,49,144,49,151,71.2969,244,71.2969,244,146,93,146,93,49\" style=\"stroke: #000000; stroke-width: 1.5;\"/><line style=\"stroke: #000000; stroke-width: 1.5;\" x1=\"93\" x2=\"151\" y1=\"71.2969\" y2=\"71.2969\"/><text fill=\"#000000\" font-family=\"sans-serif\" font-size=\"14\" font-weight=\"bold\" lengthAdjust=\"spacingAndGlyphs\" textLength=\"45\" x=\"97\" y=\"63.9951\">Test2</text></a><!--MD5=[49a0ec8f00dab7302a31f22d0f0fe584]\n",
       "class E12--><a href=\"psysml:530a6ae9-7dc1-4851-ab10-936e92c948f7\" target=\"_top\" title=\"psysml:530a6ae9-7dc1-4851-ab10-936e92c948f7\" xlink:actuate=\"onRequest\" xlink:href=\"psysml:530a6ae9-7dc1-4851-ab10-936e92c948f7\" xlink:show=\"new\" xlink:title=\"psysml:530a6ae9-7dc1-4851-ab10-936e92c948f7\" xlink:type=\"simple\"><rect fill=\"#FFFFFF\" height=\"45.9375\" id=\"E12\" rx=\"10\" ry=\"10\" style=\"stroke: #383838; stroke-width: 1.5;\" width=\"42\" x=\"438\" y=\"84\"/><text fill=\"#000000\" font-family=\"sans-serif\" font-size=\"12\" font-style=\"italic\" lengthAdjust=\"spacingAndGlyphs\" textLength=\"40\" x=\"439\" y=\"100.1387\">«part»</text><text fill=\"#000000\" font-family=\"sans-serif\" font-size=\"12\" lengthAdjust=\"spacingAndGlyphs\" textLength=\"22\" x=\"448\" y=\"114.1074\">x: A</text><line style=\"stroke: #383838; stroke-width: 1.5;\" x1=\"439\" x2=\"479\" y1=\"121.9375\" y2=\"121.9375\"/></a><!--MD5=[ee3c913d1a06f366521f9ef512b67efe]\n",
       "class E13--><a href=\"psysml:561bfa55-252f-4783-9fb1-458618dbf236\" target=\"_top\" title=\"psysml:561bfa55-252f-4783-9fb1-458618dbf236\" xlink:actuate=\"onRequest\" xlink:href=\"psysml:561bfa55-252f-4783-9fb1-458618dbf236\" xlink:show=\"new\" xlink:title=\"psysml:561bfa55-252f-4783-9fb1-458618dbf236\" xlink:type=\"simple\"><rect fill=\"#FFFFFF\" height=\"45.9375\" id=\"E13\" rx=\"10\" ry=\"10\" style=\"stroke: #383838; stroke-width: 1.5;\" width=\"42\" x=\"32\" y=\"84\"/><text fill=\"#000000\" font-family=\"sans-serif\" font-size=\"12\" font-style=\"italic\" lengthAdjust=\"spacingAndGlyphs\" textLength=\"40\" x=\"33\" y=\"100.1387\">«part»</text><text fill=\"#000000\" font-family=\"sans-serif\" font-size=\"12\" lengthAdjust=\"spacingAndGlyphs\" textLength=\"22\" x=\"42\" y=\"114.1074\">y: B</text><line style=\"stroke: #383838; stroke-width: 1.5;\" x1=\"33\" x2=\"73\" y1=\"121.9375\" y2=\"121.9375\"/></a><!--MD5=[09b614a08d8cba4a07c9adeb5e0fee81]\n",
       "class E3--><a href=\"psysml:cb0f7157-438a-4ad5-8a96-0def6a248a5a\" target=\"_top\" title=\"psysml:cb0f7157-438a-4ad5-8a96-0def6a248a5a\" xlink:actuate=\"onRequest\" xlink:href=\"psysml:cb0f7157-438a-4ad5-8a96-0def6a248a5a\" xlink:show=\"new\" xlink:title=\"psysml:cb0f7157-438a-4ad5-8a96-0def6a248a5a\" xlink:type=\"simple\"><rect fill=\"#FFFFFF\" height=\"45.9375\" id=\"E3\" style=\"stroke: #383838; stroke-width: 1.5;\" width=\"66\" x=\"349\" y=\"205\"/><text fill=\"#000000\" font-family=\"sans-serif\" font-size=\"12\" font-style=\"italic\" lengthAdjust=\"spacingAndGlyphs\" textLength=\"64\" x=\"350\" y=\"221.1387\">«part def»</text><text fill=\"#000000\" font-family=\"sans-serif\" font-size=\"12\" lengthAdjust=\"spacingAndGlyphs\" textLength=\"8\" x=\"378\" y=\"235.1074\">A</text><line style=\"stroke: #383838; stroke-width: 1.5;\" x1=\"350\" x2=\"414\" y1=\"242.9375\" y2=\"242.9375\"/></a><!--MD5=[270fce915f116d4de14055a7c1d9a0f3]\n",
       "class E5--><a href=\"psysml:fa716e5d-1985-44ef-b151-4b2b4c0691ed\" target=\"_top\" title=\"psysml:fa716e5d-1985-44ef-b151-4b2b4c0691ed\" xlink:actuate=\"onRequest\" xlink:href=\"psysml:fa716e5d-1985-44ef-b151-4b2b4c0691ed\" xlink:show=\"new\" xlink:title=\"psysml:fa716e5d-1985-44ef-b151-4b2b4c0691ed\" xlink:type=\"simple\"><rect fill=\"#FFFFFF\" height=\"45.9375\" id=\"E5\" style=\"stroke: #383838; stroke-width: 1.5;\" width=\"66\" x=\"97\" y=\"205\"/><text fill=\"#000000\" font-family=\"sans-serif\" font-size=\"12\" font-style=\"italic\" lengthAdjust=\"spacingAndGlyphs\" textLength=\"64\" x=\"98\" y=\"221.1387\">«part def»</text><text fill=\"#000000\" font-family=\"sans-serif\" font-size=\"12\" lengthAdjust=\"spacingAndGlyphs\" textLength=\"8\" x=\"126\" y=\"235.1074\">B</text><line style=\"stroke: #383838; stroke-width: 1.5;\" x1=\"98\" x2=\"162\" y1=\"242.9375\" y2=\"242.9375\"/></a><!--MD5=[2156ba9850f5573cc1fc38a6a4b2f02b]\n",
       "class E7--><a href=\"psysml:418b0add-8d91-4a6d-810e-c529e1e5d9c2\" target=\"_top\" title=\"psysml:418b0add-8d91-4a6d-810e-c529e1e5d9c2\" xlink:actuate=\"onRequest\" xlink:href=\"psysml:418b0add-8d91-4a6d-810e-c529e1e5d9c2\" xlink:show=\"new\" xlink:title=\"psysml:418b0add-8d91-4a6d-810e-c529e1e5d9c2\" xlink:type=\"simple\"><rect fill=\"#FFFFFF\" height=\"45.9375\" id=\"E7\" rx=\"10\" ry=\"10\" style=\"stroke: #383838; stroke-width: 1.5;\" width=\"42\" x=\"361\" y=\"84\"/><text fill=\"#000000\" font-family=\"sans-serif\" font-size=\"12\" font-style=\"italic\" lengthAdjust=\"spacingAndGlyphs\" textLength=\"40\" x=\"362\" y=\"100.1387\">«part»</text><text fill=\"#000000\" font-family=\"sans-serif\" font-size=\"12\" lengthAdjust=\"spacingAndGlyphs\" textLength=\"22\" x=\"371\" y=\"114.1074\">x: A</text><line style=\"stroke: #383838; stroke-width: 1.5;\" x1=\"362\" x2=\"402\" y1=\"121.9375\" y2=\"121.9375\"/></a><!--MD5=[b9389687b975829384b498ac4b7476b2]\n",
       "class E8--><a href=\"psysml:c18479a8-8a5a-4a0f-a7e4-033b0648dafb\" target=\"_top\" title=\"psysml:c18479a8-8a5a-4a0f-a7e4-033b0648dafb\" xlink:actuate=\"onRequest\" xlink:href=\"psysml:c18479a8-8a5a-4a0f-a7e4-033b0648dafb\" xlink:show=\"new\" xlink:title=\"psysml:c18479a8-8a5a-4a0f-a7e4-033b0648dafb\" xlink:type=\"simple\"><rect fill=\"#FFFFFF\" height=\"45.9375\" id=\"E8\" rx=\"10\" ry=\"10\" style=\"stroke: #383838; stroke-width: 1.5;\" width=\"42\" x=\"284\" y=\"84\"/><text fill=\"#000000\" font-family=\"sans-serif\" font-size=\"12\" font-style=\"italic\" lengthAdjust=\"spacingAndGlyphs\" textLength=\"40\" x=\"285\" y=\"100.1387\">«part»</text><text fill=\"#000000\" font-family=\"sans-serif\" font-size=\"12\" lengthAdjust=\"spacingAndGlyphs\" textLength=\"22\" x=\"294\" y=\"114.1074\">y: B</text><line style=\"stroke: #383838; stroke-width: 1.5;\" x1=\"285\" x2=\"325\" y1=\"121.9375\" y2=\"121.9375\"/></a><!--MD5=[96f4274e9e20536e775497830990834d]\n",
       "class E10--><a href=\"psysml:61feb9d5-4074-478e-84bb-b7eccf03922b\" target=\"_top\" title=\"psysml:61feb9d5-4074-478e-84bb-b7eccf03922b\" xlink:actuate=\"onRequest\" xlink:href=\"psysml:61feb9d5-4074-478e-84bb-b7eccf03922b\" xlink:show=\"new\" xlink:title=\"psysml:61feb9d5-4074-478e-84bb-b7eccf03922b\" xlink:type=\"simple\"><rect fill=\"#FFFFFF\" height=\"45.9375\" id=\"E10\" rx=\"10\" ry=\"10\" style=\"stroke: #383838; stroke-width: 1.5;\" width=\"42\" x=\"186\" y=\"84\"/><text fill=\"#000000\" font-family=\"sans-serif\" font-size=\"12\" font-style=\"italic\" lengthAdjust=\"spacingAndGlyphs\" textLength=\"40\" x=\"187\" y=\"100.1387\">«part»</text><text fill=\"#000000\" font-family=\"sans-serif\" font-size=\"12\" lengthAdjust=\"spacingAndGlyphs\" textLength=\"22\" x=\"196\" y=\"114.1074\">x: A</text><line style=\"stroke: #383838; stroke-width: 1.5;\" x1=\"187\" x2=\"227\" y1=\"121.9375\" y2=\"121.9375\"/></a><!--MD5=[1dd1bfd58a279cf63c5f349dbc8fc6a1]\n",
       "class E11--><a href=\"psysml:2edd355f-e967-45cc-82fe-80091bb729bd\" target=\"_top\" title=\"psysml:2edd355f-e967-45cc-82fe-80091bb729bd\" xlink:actuate=\"onRequest\" xlink:href=\"psysml:2edd355f-e967-45cc-82fe-80091bb729bd\" xlink:show=\"new\" xlink:title=\"psysml:2edd355f-e967-45cc-82fe-80091bb729bd\" xlink:type=\"simple\"><rect fill=\"#FFFFFF\" height=\"45.9375\" id=\"E11\" rx=\"10\" ry=\"10\" style=\"stroke: #383838; stroke-width: 1.5;\" width=\"42\" x=\"109\" y=\"84\"/><text fill=\"#000000\" font-family=\"sans-serif\" font-size=\"12\" font-style=\"italic\" lengthAdjust=\"spacingAndGlyphs\" textLength=\"40\" x=\"110\" y=\"100.1387\">«part»</text><text fill=\"#000000\" font-family=\"sans-serif\" font-size=\"12\" lengthAdjust=\"spacingAndGlyphs\" textLength=\"22\" x=\"119\" y=\"114.1074\">y: B</text><line style=\"stroke: #383838; stroke-width: 1.5;\" x1=\"110\" x2=\"150\" y1=\"121.9375\" y2=\"121.9375\"/></a><!--MD5=[14ccda38c055a5c0da953d572bc50960]\n",
       "link E7 to E3--><a href=\"psysml:c27725e1-02a3-443e-822c-73205e66e264\" target=\"_top\" title=\"psysml:c27725e1-02a3-443e-822c-73205e66e264\" xlink:actuate=\"onRequest\" xlink:href=\"psysml:c27725e1-02a3-443e-822c-73205e66e264\" xlink:show=\"new\" xlink:title=\"psysml:c27725e1-02a3-443e-822c-73205e66e264\" xlink:type=\"simple\"><path d=\"M382,130.1 C382,145.37 382,166.16 382,184.57 \" fill=\"none\" id=\"E7-&gt;E3\" style=\"stroke: #383838; stroke-width: 1.0;\"/><polygon fill=\"#FFFFFF\" points=\"382,204.61,375,185.61,389,185.61,382,204.61\" style=\"stroke: #383838; stroke-width: 1.0;\"/><ellipse cx=\"377\" cy=\"179.91\" fill=\"#383838\" rx=\"2\" ry=\"2\" style=\"stroke: #383838; stroke-width: 1.0;\"/><ellipse cx=\"387\" cy=\"179.91\" fill=\"#383838\" rx=\"2\" ry=\"2\" style=\"stroke: #383838; stroke-width: 1.0;\"/></a><!--MD5=[1ccb2481ffa92f8d51a74ee30c51832a]\n",
       "link E8 to E5--><a href=\"psysml:43ceeb8e-eeaf-4aa9-b958-61b6f980f202\" target=\"_top\" title=\"psysml:43ceeb8e-eeaf-4aa9-b958-61b6f980f202\" xlink:actuate=\"onRequest\" xlink:href=\"psysml:43ceeb8e-eeaf-4aa9-b958-61b6f980f202\" xlink:show=\"new\" xlink:title=\"psysml:43ceeb8e-eeaf-4aa9-b958-61b6f980f202\" xlink:type=\"simple\"><path d=\"M283.67,124.09 C266.07,137.35 244,154 244,154 C244,154 210.8,175.26 180.23,194.83 \" fill=\"none\" id=\"E8-&gt;E5\" style=\"stroke: #383838; stroke-width: 1.0;\"/><polygon fill=\"#FFFFFF\" points=\"163.28,205.69,175.5055,189.5488,183.0554,201.3386,163.28,205.69\" style=\"stroke: #383838; stroke-width: 1.0;\"/><ellipse cx=\"181.3842\" cy=\"188.1592\" fill=\"#383838\" rx=\"2\" ry=\"2\" style=\"stroke: #383838; stroke-width: 1.0;\"/><ellipse cx=\"186.777\" cy=\"196.5805\" fill=\"#383838\" rx=\"2\" ry=\"2\" style=\"stroke: #383838; stroke-width: 1.0;\"/></a><!--MD5=[feeac5eb423634930294aa81f2d25a4c]\n",
       "link E10 to E3--><a href=\"psysml:2f015e6c-7efc-43fd-92bb-26e8cb5e6a22\" target=\"_top\" title=\"psysml:2f015e6c-7efc-43fd-92bb-26e8cb5e6a22\" xlink:actuate=\"onRequest\" xlink:href=\"psysml:2f015e6c-7efc-43fd-92bb-26e8cb5e6a22\" xlink:show=\"new\" xlink:title=\"psysml:2f015e6c-7efc-43fd-92bb-26e8cb5e6a22\" xlink:type=\"simple\"><path d=\"M228.33,124.09 C245.93,137.35 268,154 268,154 C268,154 301.2,175.26 331.77,194.83 \" fill=\"none\" id=\"E10-&gt;E3\" style=\"stroke: #383838; stroke-width: 1.0;\"/><polygon fill=\"#FFFFFF\" points=\"348.72,205.69,328.9446,201.3386,336.4945,189.5488,348.72,205.69\" style=\"stroke: #383838; stroke-width: 1.0;\"/><ellipse cx=\"325.223\" cy=\"196.5805\" fill=\"#383838\" rx=\"2\" ry=\"2\" style=\"stroke: #383838; stroke-width: 1.0;\"/><ellipse cx=\"330.6158\" cy=\"188.1592\" fill=\"#383838\" rx=\"2\" ry=\"2\" style=\"stroke: #383838; stroke-width: 1.0;\"/></a><!--MD5=[07b77f6f309248d16187045709d1c26e]\n",
       "link E11 to E5--><a href=\"psysml:7cf9fed8-155f-433e-a01b-9d13c54aa089\" target=\"_top\" title=\"psysml:7cf9fed8-155f-433e-a01b-9d13c54aa089\" xlink:actuate=\"onRequest\" xlink:href=\"psysml:7cf9fed8-155f-433e-a01b-9d13c54aa089\" xlink:show=\"new\" xlink:title=\"psysml:7cf9fed8-155f-433e-a01b-9d13c54aa089\" xlink:type=\"simple\"><path d=\"M130,130.1 C130,145.37 130,166.16 130,184.57 \" fill=\"none\" id=\"E11-&gt;E5\" style=\"stroke: #383838; stroke-width: 1.0;\"/><polygon fill=\"#FFFFFF\" points=\"130,204.61,123,185.61,137,185.61,130,204.61\" style=\"stroke: #383838; stroke-width: 1.0;\"/><ellipse cx=\"125\" cy=\"179.91\" fill=\"#383838\" rx=\"2\" ry=\"2\" style=\"stroke: #383838; stroke-width: 1.0;\"/><ellipse cx=\"135\" cy=\"179.91\" fill=\"#383838\" rx=\"2\" ry=\"2\" style=\"stroke: #383838; stroke-width: 1.0;\"/></a><!--MD5=[39f41a0e550fb3d73b4d8135617e30a2]\n",
       "link E12 to E3--><a href=\"psysml:2b9be10b-590f-4358-bedf-a86ab0ed6bce\" target=\"_top\" title=\"psysml:2b9be10b-590f-4358-bedf-a86ab0ed6bce\" xlink:actuate=\"onRequest\" xlink:href=\"psysml:2b9be10b-590f-4358-bedf-a86ab0ed6bce\" xlink:show=\"new\" xlink:title=\"psysml:2b9be10b-590f-4358-bedf-a86ab0ed6bce\" xlink:type=\"simple\"><path d=\"M444.7,130.1 C434.28,146.2 419.89,168.44 407.53,187.55 \" fill=\"none\" id=\"E12-&gt;E3\" style=\"stroke: #383838; stroke-width: 1.0;\"/><polygon fill=\"#FFFFFF\" points=\"396.49,204.61,400.9313,184.8546,412.6866,192.4581,396.49,204.61\" style=\"stroke: #383838; stroke-width: 1.0;\"/><ellipse cx=\"405.7063\" cy=\"181.1547\" fill=\"#383838\" rx=\"2\" ry=\"2\" style=\"stroke: #383838; stroke-width: 1.0;\"/><ellipse cx=\"414.103\" cy=\"186.5858\" fill=\"#383838\" rx=\"2\" ry=\"2\" style=\"stroke: #383838; stroke-width: 1.0;\"/></a><!--MD5=[066b2d8af59fea80ccdb3d54ad5c1091]\n",
       "link E13 to E5--><a href=\"psysml:78896435-f936-4df6-9172-2ff6f9da23d9\" target=\"_top\" title=\"psysml:78896435-f936-4df6-9172-2ff6f9da23d9\" xlink:actuate=\"onRequest\" xlink:href=\"psysml:78896435-f936-4df6-9172-2ff6f9da23d9\" xlink:show=\"new\" xlink:title=\"psysml:78896435-f936-4df6-9172-2ff6f9da23d9\" xlink:type=\"simple\"><path d=\"M67.3,130.1 C77.72,146.2 92.11,168.44 104.47,187.55 \" fill=\"none\" id=\"E13-&gt;E5\" style=\"stroke: #383838; stroke-width: 1.0;\"/><polygon fill=\"#FFFFFF\" points=\"115.51,204.61,99.3134,192.4581,111.0687,184.8546,115.51,204.61\" style=\"stroke: #383838; stroke-width: 1.0;\"/><ellipse cx=\"97.897\" cy=\"186.5858\" fill=\"#383838\" rx=\"2\" ry=\"2\" style=\"stroke: #383838; stroke-width: 1.0;\"/><ellipse cx=\"106.2937\" cy=\"181.1547\" fill=\"#383838\" rx=\"2\" ry=\"2\" style=\"stroke: #383838; stroke-width: 1.0;\"/></a><!--MD5=[3fbde009d5aa620b72db78883976aa9d]\n",
       "@startuml\r\n",
       "skinparam linetype polyline\r\n",
       "skinparam monochrome true\r\n",
       "skinparam classbackgroundcolor white\r\n",
       "skinparam shadowing false\r\n",
       "skinparam wrapWidth 300\r\n",
       "hide circle\r\n",
       "\r\n",
       "package \"CircularImport\" as E1  [[psysml:33738fcf-e3ee-4a7e-98d6-e975d5107ba1 ]]  {\r\n",
       "package \"P1\" as E2  [[psysml:130ef6c7-3ccc-43b9-a62a-eb926cce14a9 ]]  {\r\n",
       "comp def \"A\" as E3  <<(T,blue) part def>> [[psysml:cb0f7157-438a-4ad5-8a96-0def6a248a5a ]] {\r\n",
       "}\r\n",
       "}\r\n",
       "package \"P2\" as E4  [[psysml:0bc4dbd6-620a-45b9-8d32-94753792e496 ]]  {\r\n",
       "comp def \"B\" as E5  <<(T,blue) part def>> [[psysml:fa716e5d-1985-44ef-b151-4b2b4c0691ed ]] {\r\n",
       "}\r\n",
       "}\r\n",
       "package \"Test1\" as E6  [[psysml:b4043d48-e2a3-4796-9568-6bbff931ebfd ]]  {\r\n",
       "comp usage \"x: A\" as E7  <<(T,blue) part>> [[psysml:418b0add-8d91-4a6d-810e-c529e1e5d9c2 ]] {\r\n",
       "}\r\n",
       "comp usage \"y: B\" as E8  <<(T,blue) part>> [[psysml:c18479a8-8a5a-4a0f-a7e4-033b0648dafb ]] {\r\n",
       "}\r\n",
       "E7 - -:|> E3 [[psysml:c27725e1-02a3-443e-822c-73205e66e264 ]] \r\n",
       "E8 - -:|> E5 [[psysml:43ceeb8e-eeaf-4aa9-b958-61b6f980f202 ]] \r\n",
       "}\r\n",
       "package \"Test2\" as E9  [[psysml:85a9df72-6515-46a6-853d-c4da844a4980 ]]  {\r\n",
       "comp usage \"x: A\" as E10  <<(T,blue) part>> [[psysml:61feb9d5-4074-478e-84bb-b7eccf03922b ]] {\r\n",
       "}\r\n",
       "comp usage \"y: B\" as E11  <<(T,blue) part>> [[psysml:2edd355f-e967-45cc-82fe-80091bb729bd ]] {\r\n",
       "}\r\n",
       "E10 - -:|> E3 [[psysml:2f015e6c-7efc-43fd-92bb-26e8cb5e6a22 ]] \r\n",
       "E11 - -:|> E5 [[psysml:7cf9fed8-155f-433e-a01b-9d13c54aa089 ]] \r\n",
       "}\r\n",
       "comp usage \"x: A\" as E12  <<(T,blue) part>> [[psysml:530a6ae9-7dc1-4851-ab10-936e92c948f7 ]] {\r\n",
       "}\r\n",
       "comp usage \"y: B\" as E13  <<(T,blue) part>> [[psysml:561bfa55-252f-4783-9fb1-458618dbf236 ]] {\r\n",
       "}\r\n",
       "E12 - -:|> E3 [[psysml:2b9be10b-590f-4358-bedf-a86ab0ed6bce ]] \r\n",
       "E13 - -:|> E5 [[psysml:78896435-f936-4df6-9172-2ff6f9da23d9 ]] \r\n",
       "}\r\n",
       "@enduml\r\n",
       "\n",
       "PlantUML version 1.2020.13(Sat Jun 13 12:26:38 UTC 2020)\n",
       "(EPL source distribution)\n",
       "Java Runtime: OpenJDK Runtime Environment\n",
       "JVM: OpenJDK 64-Bit Server VM\n",
       "Default Encoding: UTF-8\n",
       "Language: en\n",
       "Country: null\n",
       "--></g></svg>"
      ]
     },
     "execution_count": 14,
     "metadata": {},
     "output_type": "execute_result"
    }
   ],
   "source": [
    "%viz --style=\"POLYLINE\" --view=\"Sequence\" \"CircularImport\""
   ]
  },
  {
   "cell_type": "code",
   "execution_count": 15,
   "id": "9f668cf1",
   "metadata": {
    "execution": {
     "iopub.execute_input": "2021-06-30T09:15:08.762085Z",
     "iopub.status.busy": "2021-06-30T09:15:08.760931Z",
     "iopub.status.idle": "2021-06-30T09:15:08.873900Z",
     "shell.execute_reply": "2021-06-30T09:15:08.873086Z"
    }
   },
   "outputs": [
    {
     "data": {
      "image/svg+xml": [
       "<?xml version=\"1.0\" encoding=\"UTF-8\" standalone=\"no\"?><svg xmlns=\"http://www.w3.org/2000/svg\" xmlns:xlink=\"http://www.w3.org/1999/xlink\" contentScriptType=\"application/ecmascript\" contentStyleType=\"text/css\" height=\"303px\" preserveAspectRatio=\"none\" style=\"width:518px;height:303px;\" version=\"1.1\" viewBox=\"0 0 518 303\" width=\"518px\" zoomAndPan=\"magnify\"><defs/><g><!--MD5=[fbc87193dbaf4d95561dea2c320d4a47]\n",
       "cluster E1--><a href=\"psysml:33738fcf-e3ee-4a7e-98d6-e975d5107ba1\" target=\"_top\" title=\"psysml:33738fcf-e3ee-4a7e-98d6-e975d5107ba1\" xlink:actuate=\"onRequest\" xlink:href=\"psysml:33738fcf-e3ee-4a7e-98d6-e975d5107ba1\" xlink:show=\"new\" xlink:title=\"psysml:33738fcf-e3ee-4a7e-98d6-e975d5107ba1\" xlink:type=\"simple\"><polygon fill=\"#FFFFFF\" points=\"16,6,134,6,141,28.2969,496,28.2969,496,291,16,291,16,6\" style=\"stroke: #000000; stroke-width: 1.5;\"/><line style=\"stroke: #000000; stroke-width: 1.5;\" x1=\"16\" x2=\"141\" y1=\"28.2969\" y2=\"28.2969\"/><text fill=\"#000000\" font-family=\"sans-serif\" font-size=\"14\" font-weight=\"bold\" lengthAdjust=\"spacingAndGlyphs\" textLength=\"112\" x=\"20\" y=\"20.9951\">CircularImport</text></a><!--MD5=[e4f7fae6ed58524ba242bb0b0d3be6b7]\n",
       "cluster E2--><a href=\"psysml:130ef6c7-3ccc-43b9-a62a-eb926cce14a9\" target=\"_top\" title=\"psysml:130ef6c7-3ccc-43b9-a62a-eb926cce14a9\" xlink:actuate=\"onRequest\" xlink:href=\"psysml:130ef6c7-3ccc-43b9-a62a-eb926cce14a9\" xlink:show=\"new\" xlink:title=\"psysml:130ef6c7-3ccc-43b9-a62a-eb926cce14a9\" xlink:type=\"simple\"><polygon fill=\"#FFFFFF\" points=\"333,170,359,170,366,192.2969,431,192.2969,431,267,333,267,333,170\" style=\"stroke: #000000; stroke-width: 1.5;\"/><line style=\"stroke: #000000; stroke-width: 1.5;\" x1=\"333\" x2=\"366\" y1=\"192.2969\" y2=\"192.2969\"/><text fill=\"#000000\" font-family=\"sans-serif\" font-size=\"14\" font-weight=\"bold\" lengthAdjust=\"spacingAndGlyphs\" textLength=\"20\" x=\"337\" y=\"184.9951\">P1</text></a><!--MD5=[f6df4d0ebaf0b5dfb2ced0ae5af7c670]\n",
       "cluster E4--><a href=\"psysml:0bc4dbd6-620a-45b9-8d32-94753792e496\" target=\"_top\" title=\"psysml:0bc4dbd6-620a-45b9-8d32-94753792e496\" xlink:actuate=\"onRequest\" xlink:href=\"psysml:0bc4dbd6-620a-45b9-8d32-94753792e496\" xlink:show=\"new\" xlink:title=\"psysml:0bc4dbd6-620a-45b9-8d32-94753792e496\" xlink:type=\"simple\"><polygon fill=\"#FFFFFF\" points=\"81,170,107,170,114,192.2969,179,192.2969,179,267,81,267,81,170\" style=\"stroke: #000000; stroke-width: 1.5;\"/><line style=\"stroke: #000000; stroke-width: 1.5;\" x1=\"81\" x2=\"114\" y1=\"192.2969\" y2=\"192.2969\"/><text fill=\"#000000\" font-family=\"sans-serif\" font-size=\"14\" font-weight=\"bold\" lengthAdjust=\"spacingAndGlyphs\" textLength=\"20\" x=\"85\" y=\"184.9951\">P2</text></a><!--MD5=[14e3b0961a2654348d326746436168a1]\n",
       "cluster E6--><a href=\"psysml:b4043d48-e2a3-4796-9568-6bbff931ebfd\" target=\"_top\" title=\"psysml:b4043d48-e2a3-4796-9568-6bbff931ebfd\" xlink:actuate=\"onRequest\" xlink:href=\"psysml:b4043d48-e2a3-4796-9568-6bbff931ebfd\" xlink:show=\"new\" xlink:title=\"psysml:b4043d48-e2a3-4796-9568-6bbff931ebfd\" xlink:type=\"simple\"><polygon fill=\"#FFFFFF\" points=\"268,49,319,49,326,71.2969,419,71.2969,419,146,268,146,268,49\" style=\"stroke: #000000; stroke-width: 1.5;\"/><line style=\"stroke: #000000; stroke-width: 1.5;\" x1=\"268\" x2=\"326\" y1=\"71.2969\" y2=\"71.2969\"/><text fill=\"#000000\" font-family=\"sans-serif\" font-size=\"14\" font-weight=\"bold\" lengthAdjust=\"spacingAndGlyphs\" textLength=\"45\" x=\"272\" y=\"63.9951\">Test1</text></a><!--MD5=[7f149f147074ac12df2cb0a7728a5fb0]\n",
       "cluster E9--><a href=\"psysml:85a9df72-6515-46a6-853d-c4da844a4980\" target=\"_top\" title=\"psysml:85a9df72-6515-46a6-853d-c4da844a4980\" xlink:actuate=\"onRequest\" xlink:href=\"psysml:85a9df72-6515-46a6-853d-c4da844a4980\" xlink:show=\"new\" xlink:title=\"psysml:85a9df72-6515-46a6-853d-c4da844a4980\" xlink:type=\"simple\"><polygon fill=\"#FFFFFF\" points=\"93,49,144,49,151,71.2969,244,71.2969,244,146,93,146,93,49\" style=\"stroke: #000000; stroke-width: 1.5;\"/><line style=\"stroke: #000000; stroke-width: 1.5;\" x1=\"93\" x2=\"151\" y1=\"71.2969\" y2=\"71.2969\"/><text fill=\"#000000\" font-family=\"sans-serif\" font-size=\"14\" font-weight=\"bold\" lengthAdjust=\"spacingAndGlyphs\" textLength=\"45\" x=\"97\" y=\"63.9951\">Test2</text></a><!--MD5=[49a0ec8f00dab7302a31f22d0f0fe584]\n",
       "class E12--><a href=\"psysml:530a6ae9-7dc1-4851-ab10-936e92c948f7\" target=\"_top\" title=\"psysml:530a6ae9-7dc1-4851-ab10-936e92c948f7\" xlink:actuate=\"onRequest\" xlink:href=\"psysml:530a6ae9-7dc1-4851-ab10-936e92c948f7\" xlink:show=\"new\" xlink:title=\"psysml:530a6ae9-7dc1-4851-ab10-936e92c948f7\" xlink:type=\"simple\"><rect fill=\"#FFFFFF\" height=\"45.9375\" id=\"E12\" rx=\"10\" ry=\"10\" style=\"stroke: #383838; stroke-width: 1.5;\" width=\"42\" x=\"438\" y=\"84\"/><text fill=\"#000000\" font-family=\"sans-serif\" font-size=\"12\" font-style=\"italic\" lengthAdjust=\"spacingAndGlyphs\" textLength=\"40\" x=\"439\" y=\"100.1387\">«part»</text><text fill=\"#000000\" font-family=\"sans-serif\" font-size=\"12\" lengthAdjust=\"spacingAndGlyphs\" textLength=\"22\" x=\"448\" y=\"114.1074\">x: A</text><line style=\"stroke: #383838; stroke-width: 1.5;\" x1=\"439\" x2=\"479\" y1=\"121.9375\" y2=\"121.9375\"/></a><!--MD5=[ee3c913d1a06f366521f9ef512b67efe]\n",
       "class E13--><a href=\"psysml:561bfa55-252f-4783-9fb1-458618dbf236\" target=\"_top\" title=\"psysml:561bfa55-252f-4783-9fb1-458618dbf236\" xlink:actuate=\"onRequest\" xlink:href=\"psysml:561bfa55-252f-4783-9fb1-458618dbf236\" xlink:show=\"new\" xlink:title=\"psysml:561bfa55-252f-4783-9fb1-458618dbf236\" xlink:type=\"simple\"><rect fill=\"#FFFFFF\" height=\"45.9375\" id=\"E13\" rx=\"10\" ry=\"10\" style=\"stroke: #383838; stroke-width: 1.5;\" width=\"42\" x=\"32\" y=\"84\"/><text fill=\"#000000\" font-family=\"sans-serif\" font-size=\"12\" font-style=\"italic\" lengthAdjust=\"spacingAndGlyphs\" textLength=\"40\" x=\"33\" y=\"100.1387\">«part»</text><text fill=\"#000000\" font-family=\"sans-serif\" font-size=\"12\" lengthAdjust=\"spacingAndGlyphs\" textLength=\"22\" x=\"42\" y=\"114.1074\">y: B</text><line style=\"stroke: #383838; stroke-width: 1.5;\" x1=\"33\" x2=\"73\" y1=\"121.9375\" y2=\"121.9375\"/></a><!--MD5=[09b614a08d8cba4a07c9adeb5e0fee81]\n",
       "class E3--><a href=\"psysml:cb0f7157-438a-4ad5-8a96-0def6a248a5a\" target=\"_top\" title=\"psysml:cb0f7157-438a-4ad5-8a96-0def6a248a5a\" xlink:actuate=\"onRequest\" xlink:href=\"psysml:cb0f7157-438a-4ad5-8a96-0def6a248a5a\" xlink:show=\"new\" xlink:title=\"psysml:cb0f7157-438a-4ad5-8a96-0def6a248a5a\" xlink:type=\"simple\"><rect fill=\"#FFFFFF\" height=\"45.9375\" id=\"E3\" style=\"stroke: #383838; stroke-width: 1.5;\" width=\"66\" x=\"349\" y=\"205\"/><text fill=\"#000000\" font-family=\"sans-serif\" font-size=\"12\" font-style=\"italic\" lengthAdjust=\"spacingAndGlyphs\" textLength=\"64\" x=\"350\" y=\"221.1387\">«part def»</text><text fill=\"#000000\" font-family=\"sans-serif\" font-size=\"12\" lengthAdjust=\"spacingAndGlyphs\" textLength=\"8\" x=\"378\" y=\"235.1074\">A</text><line style=\"stroke: #383838; stroke-width: 1.5;\" x1=\"350\" x2=\"414\" y1=\"242.9375\" y2=\"242.9375\"/></a><!--MD5=[270fce915f116d4de14055a7c1d9a0f3]\n",
       "class E5--><a href=\"psysml:fa716e5d-1985-44ef-b151-4b2b4c0691ed\" target=\"_top\" title=\"psysml:fa716e5d-1985-44ef-b151-4b2b4c0691ed\" xlink:actuate=\"onRequest\" xlink:href=\"psysml:fa716e5d-1985-44ef-b151-4b2b4c0691ed\" xlink:show=\"new\" xlink:title=\"psysml:fa716e5d-1985-44ef-b151-4b2b4c0691ed\" xlink:type=\"simple\"><rect fill=\"#FFFFFF\" height=\"45.9375\" id=\"E5\" style=\"stroke: #383838; stroke-width: 1.5;\" width=\"66\" x=\"97\" y=\"205\"/><text fill=\"#000000\" font-family=\"sans-serif\" font-size=\"12\" font-style=\"italic\" lengthAdjust=\"spacingAndGlyphs\" textLength=\"64\" x=\"98\" y=\"221.1387\">«part def»</text><text fill=\"#000000\" font-family=\"sans-serif\" font-size=\"12\" lengthAdjust=\"spacingAndGlyphs\" textLength=\"8\" x=\"126\" y=\"235.1074\">B</text><line style=\"stroke: #383838; stroke-width: 1.5;\" x1=\"98\" x2=\"162\" y1=\"242.9375\" y2=\"242.9375\"/></a><!--MD5=[2156ba9850f5573cc1fc38a6a4b2f02b]\n",
       "class E7--><a href=\"psysml:418b0add-8d91-4a6d-810e-c529e1e5d9c2\" target=\"_top\" title=\"psysml:418b0add-8d91-4a6d-810e-c529e1e5d9c2\" xlink:actuate=\"onRequest\" xlink:href=\"psysml:418b0add-8d91-4a6d-810e-c529e1e5d9c2\" xlink:show=\"new\" xlink:title=\"psysml:418b0add-8d91-4a6d-810e-c529e1e5d9c2\" xlink:type=\"simple\"><rect fill=\"#FFFFFF\" height=\"45.9375\" id=\"E7\" rx=\"10\" ry=\"10\" style=\"stroke: #383838; stroke-width: 1.5;\" width=\"42\" x=\"361\" y=\"84\"/><text fill=\"#000000\" font-family=\"sans-serif\" font-size=\"12\" font-style=\"italic\" lengthAdjust=\"spacingAndGlyphs\" textLength=\"40\" x=\"362\" y=\"100.1387\">«part»</text><text fill=\"#000000\" font-family=\"sans-serif\" font-size=\"12\" lengthAdjust=\"spacingAndGlyphs\" textLength=\"22\" x=\"371\" y=\"114.1074\">x: A</text><line style=\"stroke: #383838; stroke-width: 1.5;\" x1=\"362\" x2=\"402\" y1=\"121.9375\" y2=\"121.9375\"/></a><!--MD5=[b9389687b975829384b498ac4b7476b2]\n",
       "class E8--><a href=\"psysml:c18479a8-8a5a-4a0f-a7e4-033b0648dafb\" target=\"_top\" title=\"psysml:c18479a8-8a5a-4a0f-a7e4-033b0648dafb\" xlink:actuate=\"onRequest\" xlink:href=\"psysml:c18479a8-8a5a-4a0f-a7e4-033b0648dafb\" xlink:show=\"new\" xlink:title=\"psysml:c18479a8-8a5a-4a0f-a7e4-033b0648dafb\" xlink:type=\"simple\"><rect fill=\"#FFFFFF\" height=\"45.9375\" id=\"E8\" rx=\"10\" ry=\"10\" style=\"stroke: #383838; stroke-width: 1.5;\" width=\"42\" x=\"284\" y=\"84\"/><text fill=\"#000000\" font-family=\"sans-serif\" font-size=\"12\" font-style=\"italic\" lengthAdjust=\"spacingAndGlyphs\" textLength=\"40\" x=\"285\" y=\"100.1387\">«part»</text><text fill=\"#000000\" font-family=\"sans-serif\" font-size=\"12\" lengthAdjust=\"spacingAndGlyphs\" textLength=\"22\" x=\"294\" y=\"114.1074\">y: B</text><line style=\"stroke: #383838; stroke-width: 1.5;\" x1=\"285\" x2=\"325\" y1=\"121.9375\" y2=\"121.9375\"/></a><!--MD5=[96f4274e9e20536e775497830990834d]\n",
       "class E10--><a href=\"psysml:61feb9d5-4074-478e-84bb-b7eccf03922b\" target=\"_top\" title=\"psysml:61feb9d5-4074-478e-84bb-b7eccf03922b\" xlink:actuate=\"onRequest\" xlink:href=\"psysml:61feb9d5-4074-478e-84bb-b7eccf03922b\" xlink:show=\"new\" xlink:title=\"psysml:61feb9d5-4074-478e-84bb-b7eccf03922b\" xlink:type=\"simple\"><rect fill=\"#FFFFFF\" height=\"45.9375\" id=\"E10\" rx=\"10\" ry=\"10\" style=\"stroke: #383838; stroke-width: 1.5;\" width=\"42\" x=\"186\" y=\"84\"/><text fill=\"#000000\" font-family=\"sans-serif\" font-size=\"12\" font-style=\"italic\" lengthAdjust=\"spacingAndGlyphs\" textLength=\"40\" x=\"187\" y=\"100.1387\">«part»</text><text fill=\"#000000\" font-family=\"sans-serif\" font-size=\"12\" lengthAdjust=\"spacingAndGlyphs\" textLength=\"22\" x=\"196\" y=\"114.1074\">x: A</text><line style=\"stroke: #383838; stroke-width: 1.5;\" x1=\"187\" x2=\"227\" y1=\"121.9375\" y2=\"121.9375\"/></a><!--MD5=[1dd1bfd58a279cf63c5f349dbc8fc6a1]\n",
       "class E11--><a href=\"psysml:2edd355f-e967-45cc-82fe-80091bb729bd\" target=\"_top\" title=\"psysml:2edd355f-e967-45cc-82fe-80091bb729bd\" xlink:actuate=\"onRequest\" xlink:href=\"psysml:2edd355f-e967-45cc-82fe-80091bb729bd\" xlink:show=\"new\" xlink:title=\"psysml:2edd355f-e967-45cc-82fe-80091bb729bd\" xlink:type=\"simple\"><rect fill=\"#FFFFFF\" height=\"45.9375\" id=\"E11\" rx=\"10\" ry=\"10\" style=\"stroke: #383838; stroke-width: 1.5;\" width=\"42\" x=\"109\" y=\"84\"/><text fill=\"#000000\" font-family=\"sans-serif\" font-size=\"12\" font-style=\"italic\" lengthAdjust=\"spacingAndGlyphs\" textLength=\"40\" x=\"110\" y=\"100.1387\">«part»</text><text fill=\"#000000\" font-family=\"sans-serif\" font-size=\"12\" lengthAdjust=\"spacingAndGlyphs\" textLength=\"22\" x=\"119\" y=\"114.1074\">y: B</text><line style=\"stroke: #383838; stroke-width: 1.5;\" x1=\"110\" x2=\"150\" y1=\"121.9375\" y2=\"121.9375\"/></a><!--MD5=[14ccda38c055a5c0da953d572bc50960]\n",
       "link E7 to E3--><a href=\"psysml:c27725e1-02a3-443e-822c-73205e66e264\" target=\"_top\" title=\"psysml:c27725e1-02a3-443e-822c-73205e66e264\" xlink:actuate=\"onRequest\" xlink:href=\"psysml:c27725e1-02a3-443e-822c-73205e66e264\" xlink:show=\"new\" xlink:title=\"psysml:c27725e1-02a3-443e-822c-73205e66e264\" xlink:type=\"simple\"><path d=\"M382,130.1 C382,145.37 382,166.16 382,184.57 \" fill=\"none\" id=\"E7-&gt;E3\" style=\"stroke: #383838; stroke-width: 1.0;\"/><polygon fill=\"#FFFFFF\" points=\"382,204.61,375,185.61,389,185.61,382,204.61\" style=\"stroke: #383838; stroke-width: 1.0;\"/><ellipse cx=\"377\" cy=\"179.91\" fill=\"#383838\" rx=\"2\" ry=\"2\" style=\"stroke: #383838; stroke-width: 1.0;\"/><ellipse cx=\"387\" cy=\"179.91\" fill=\"#383838\" rx=\"2\" ry=\"2\" style=\"stroke: #383838; stroke-width: 1.0;\"/></a><!--MD5=[1ccb2481ffa92f8d51a74ee30c51832a]\n",
       "link E8 to E5--><a href=\"psysml:43ceeb8e-eeaf-4aa9-b958-61b6f980f202\" target=\"_top\" title=\"psysml:43ceeb8e-eeaf-4aa9-b958-61b6f980f202\" xlink:actuate=\"onRequest\" xlink:href=\"psysml:43ceeb8e-eeaf-4aa9-b958-61b6f980f202\" xlink:show=\"new\" xlink:title=\"psysml:43ceeb8e-eeaf-4aa9-b958-61b6f980f202\" xlink:type=\"simple\"><path d=\"M283.67,124.09 C266.07,137.35 244,154 244,154 C244,154 210.8,175.26 180.23,194.83 \" fill=\"none\" id=\"E8-&gt;E5\" style=\"stroke: #383838; stroke-width: 1.0;\"/><polygon fill=\"#FFFFFF\" points=\"163.28,205.69,175.5055,189.5488,183.0554,201.3386,163.28,205.69\" style=\"stroke: #383838; stroke-width: 1.0;\"/><ellipse cx=\"181.3842\" cy=\"188.1592\" fill=\"#383838\" rx=\"2\" ry=\"2\" style=\"stroke: #383838; stroke-width: 1.0;\"/><ellipse cx=\"186.777\" cy=\"196.5805\" fill=\"#383838\" rx=\"2\" ry=\"2\" style=\"stroke: #383838; stroke-width: 1.0;\"/></a><!--MD5=[feeac5eb423634930294aa81f2d25a4c]\n",
       "link E10 to E3--><a href=\"psysml:2f015e6c-7efc-43fd-92bb-26e8cb5e6a22\" target=\"_top\" title=\"psysml:2f015e6c-7efc-43fd-92bb-26e8cb5e6a22\" xlink:actuate=\"onRequest\" xlink:href=\"psysml:2f015e6c-7efc-43fd-92bb-26e8cb5e6a22\" xlink:show=\"new\" xlink:title=\"psysml:2f015e6c-7efc-43fd-92bb-26e8cb5e6a22\" xlink:type=\"simple\"><path d=\"M228.33,124.09 C245.93,137.35 268,154 268,154 C268,154 301.2,175.26 331.77,194.83 \" fill=\"none\" id=\"E10-&gt;E3\" style=\"stroke: #383838; stroke-width: 1.0;\"/><polygon fill=\"#FFFFFF\" points=\"348.72,205.69,328.9446,201.3386,336.4945,189.5488,348.72,205.69\" style=\"stroke: #383838; stroke-width: 1.0;\"/><ellipse cx=\"325.223\" cy=\"196.5805\" fill=\"#383838\" rx=\"2\" ry=\"2\" style=\"stroke: #383838; stroke-width: 1.0;\"/><ellipse cx=\"330.6158\" cy=\"188.1592\" fill=\"#383838\" rx=\"2\" ry=\"2\" style=\"stroke: #383838; stroke-width: 1.0;\"/></a><!--MD5=[07b77f6f309248d16187045709d1c26e]\n",
       "link E11 to E5--><a href=\"psysml:7cf9fed8-155f-433e-a01b-9d13c54aa089\" target=\"_top\" title=\"psysml:7cf9fed8-155f-433e-a01b-9d13c54aa089\" xlink:actuate=\"onRequest\" xlink:href=\"psysml:7cf9fed8-155f-433e-a01b-9d13c54aa089\" xlink:show=\"new\" xlink:title=\"psysml:7cf9fed8-155f-433e-a01b-9d13c54aa089\" xlink:type=\"simple\"><path d=\"M130,130.1 C130,145.37 130,166.16 130,184.57 \" fill=\"none\" id=\"E11-&gt;E5\" style=\"stroke: #383838; stroke-width: 1.0;\"/><polygon fill=\"#FFFFFF\" points=\"130,204.61,123,185.61,137,185.61,130,204.61\" style=\"stroke: #383838; stroke-width: 1.0;\"/><ellipse cx=\"125\" cy=\"179.91\" fill=\"#383838\" rx=\"2\" ry=\"2\" style=\"stroke: #383838; stroke-width: 1.0;\"/><ellipse cx=\"135\" cy=\"179.91\" fill=\"#383838\" rx=\"2\" ry=\"2\" style=\"stroke: #383838; stroke-width: 1.0;\"/></a><!--MD5=[39f41a0e550fb3d73b4d8135617e30a2]\n",
       "link E12 to E3--><a href=\"psysml:2b9be10b-590f-4358-bedf-a86ab0ed6bce\" target=\"_top\" title=\"psysml:2b9be10b-590f-4358-bedf-a86ab0ed6bce\" xlink:actuate=\"onRequest\" xlink:href=\"psysml:2b9be10b-590f-4358-bedf-a86ab0ed6bce\" xlink:show=\"new\" xlink:title=\"psysml:2b9be10b-590f-4358-bedf-a86ab0ed6bce\" xlink:type=\"simple\"><path d=\"M444.7,130.1 C434.28,146.2 419.89,168.44 407.53,187.55 \" fill=\"none\" id=\"E12-&gt;E3\" style=\"stroke: #383838; stroke-width: 1.0;\"/><polygon fill=\"#FFFFFF\" points=\"396.49,204.61,400.9313,184.8546,412.6866,192.4581,396.49,204.61\" style=\"stroke: #383838; stroke-width: 1.0;\"/><ellipse cx=\"405.7063\" cy=\"181.1547\" fill=\"#383838\" rx=\"2\" ry=\"2\" style=\"stroke: #383838; stroke-width: 1.0;\"/><ellipse cx=\"414.103\" cy=\"186.5858\" fill=\"#383838\" rx=\"2\" ry=\"2\" style=\"stroke: #383838; stroke-width: 1.0;\"/></a><!--MD5=[066b2d8af59fea80ccdb3d54ad5c1091]\n",
       "link E13 to E5--><a href=\"psysml:78896435-f936-4df6-9172-2ff6f9da23d9\" target=\"_top\" title=\"psysml:78896435-f936-4df6-9172-2ff6f9da23d9\" xlink:actuate=\"onRequest\" xlink:href=\"psysml:78896435-f936-4df6-9172-2ff6f9da23d9\" xlink:show=\"new\" xlink:title=\"psysml:78896435-f936-4df6-9172-2ff6f9da23d9\" xlink:type=\"simple\"><path d=\"M67.3,130.1 C77.72,146.2 92.11,168.44 104.47,187.55 \" fill=\"none\" id=\"E13-&gt;E5\" style=\"stroke: #383838; stroke-width: 1.0;\"/><polygon fill=\"#FFFFFF\" points=\"115.51,204.61,99.3134,192.4581,111.0687,184.8546,115.51,204.61\" style=\"stroke: #383838; stroke-width: 1.0;\"/><ellipse cx=\"97.897\" cy=\"186.5858\" fill=\"#383838\" rx=\"2\" ry=\"2\" style=\"stroke: #383838; stroke-width: 1.0;\"/><ellipse cx=\"106.2937\" cy=\"181.1547\" fill=\"#383838\" rx=\"2\" ry=\"2\" style=\"stroke: #383838; stroke-width: 1.0;\"/></a><!--MD5=[3fbde009d5aa620b72db78883976aa9d]\n",
       "@startuml\r\n",
       "skinparam linetype polyline\r\n",
       "skinparam monochrome true\r\n",
       "skinparam classbackgroundcolor white\r\n",
       "skinparam shadowing false\r\n",
       "skinparam wrapWidth 300\r\n",
       "hide circle\r\n",
       "\r\n",
       "package \"CircularImport\" as E1  [[psysml:33738fcf-e3ee-4a7e-98d6-e975d5107ba1 ]]  {\r\n",
       "package \"P1\" as E2  [[psysml:130ef6c7-3ccc-43b9-a62a-eb926cce14a9 ]]  {\r\n",
       "comp def \"A\" as E3  <<(T,blue) part def>> [[psysml:cb0f7157-438a-4ad5-8a96-0def6a248a5a ]] {\r\n",
       "}\r\n",
       "}\r\n",
       "package \"P2\" as E4  [[psysml:0bc4dbd6-620a-45b9-8d32-94753792e496 ]]  {\r\n",
       "comp def \"B\" as E5  <<(T,blue) part def>> [[psysml:fa716e5d-1985-44ef-b151-4b2b4c0691ed ]] {\r\n",
       "}\r\n",
       "}\r\n",
       "package \"Test1\" as E6  [[psysml:b4043d48-e2a3-4796-9568-6bbff931ebfd ]]  {\r\n",
       "comp usage \"x: A\" as E7  <<(T,blue) part>> [[psysml:418b0add-8d91-4a6d-810e-c529e1e5d9c2 ]] {\r\n",
       "}\r\n",
       "comp usage \"y: B\" as E8  <<(T,blue) part>> [[psysml:c18479a8-8a5a-4a0f-a7e4-033b0648dafb ]] {\r\n",
       "}\r\n",
       "E7 - -:|> E3 [[psysml:c27725e1-02a3-443e-822c-73205e66e264 ]] \r\n",
       "E8 - -:|> E5 [[psysml:43ceeb8e-eeaf-4aa9-b958-61b6f980f202 ]] \r\n",
       "}\r\n",
       "package \"Test2\" as E9  [[psysml:85a9df72-6515-46a6-853d-c4da844a4980 ]]  {\r\n",
       "comp usage \"x: A\" as E10  <<(T,blue) part>> [[psysml:61feb9d5-4074-478e-84bb-b7eccf03922b ]] {\r\n",
       "}\r\n",
       "comp usage \"y: B\" as E11  <<(T,blue) part>> [[psysml:2edd355f-e967-45cc-82fe-80091bb729bd ]] {\r\n",
       "}\r\n",
       "E10 - -:|> E3 [[psysml:2f015e6c-7efc-43fd-92bb-26e8cb5e6a22 ]] \r\n",
       "E11 - -:|> E5 [[psysml:7cf9fed8-155f-433e-a01b-9d13c54aa089 ]] \r\n",
       "}\r\n",
       "comp usage \"x: A\" as E12  <<(T,blue) part>> [[psysml:530a6ae9-7dc1-4851-ab10-936e92c948f7 ]] {\r\n",
       "}\r\n",
       "comp usage \"y: B\" as E13  <<(T,blue) part>> [[psysml:561bfa55-252f-4783-9fb1-458618dbf236 ]] {\r\n",
       "}\r\n",
       "E12 - -:|> E3 [[psysml:2b9be10b-590f-4358-bedf-a86ab0ed6bce ]] \r\n",
       "E13 - -:|> E5 [[psysml:78896435-f936-4df6-9172-2ff6f9da23d9 ]] \r\n",
       "}\r\n",
       "@enduml\r\n",
       "\n",
       "PlantUML version 1.2020.13(Sat Jun 13 12:26:38 UTC 2020)\n",
       "(EPL source distribution)\n",
       "Java Runtime: OpenJDK Runtime Environment\n",
       "JVM: OpenJDK 64-Bit Server VM\n",
       "Default Encoding: UTF-8\n",
       "Language: en\n",
       "Country: null\n",
       "--></g></svg>"
      ]
     },
     "execution_count": 15,
     "metadata": {},
     "output_type": "execute_result"
    }
   ],
   "source": [
    "%viz --style=\"POLYLINE\" --view=\"MIXED\" \"CircularImport\""
   ]
  },
  {
   "cell_type": "code",
   "execution_count": 16,
   "id": "9ee83ff6",
   "metadata": {
    "execution": {
     "iopub.execute_input": "2021-06-30T09:15:08.926986Z",
     "iopub.status.busy": "2021-06-30T09:15:08.925861Z",
     "iopub.status.idle": "2021-06-30T09:15:09.008663Z",
     "shell.execute_reply": "2021-06-30T09:15:09.009017Z"
    }
   },
   "outputs": [
    {
     "data": {
      "image/svg+xml": [
       "<?xml version=\"1.0\" encoding=\"UTF-8\" standalone=\"no\"?><svg xmlns=\"http://www.w3.org/2000/svg\" xmlns:xlink=\"http://www.w3.org/1999/xlink\" contentScriptType=\"application/ecmascript\" contentStyleType=\"text/css\" height=\"576px\" preserveAspectRatio=\"none\" style=\"width:286px;height:576px;\" version=\"1.1\" viewBox=\"0 0 286 576\" width=\"286px\" zoomAndPan=\"magnify\"><defs/><g><!--MD5=[fbc87193dbaf4d95561dea2c320d4a47]\n",
       "cluster E1--><a href=\"psysml:33738fcf-e3ee-4a7e-98d6-e975d5107ba1\" target=\"_top\" title=\"psysml:33738fcf-e3ee-4a7e-98d6-e975d5107ba1\" xlink:actuate=\"onRequest\" xlink:href=\"psysml:33738fcf-e3ee-4a7e-98d6-e975d5107ba1\" xlink:show=\"new\" xlink:title=\"psysml:33738fcf-e3ee-4a7e-98d6-e975d5107ba1\" xlink:type=\"simple\"><polygon fill=\"#FFFFFF\" points=\"16,6,134,6,141,28.2969,264,28.2969,264,564,16,564,16,6\" style=\"stroke: #000000; stroke-width: 1.5;\"/><line style=\"stroke: #000000; stroke-width: 1.5;\" x1=\"16\" x2=\"141\" y1=\"28.2969\" y2=\"28.2969\"/><text fill=\"#000000\" font-family=\"sans-serif\" font-size=\"14\" font-weight=\"bold\" lengthAdjust=\"spacingAndGlyphs\" textLength=\"112\" x=\"20\" y=\"20.9951\">CircularImport</text></a><!--MD5=[e4f7fae6ed58524ba242bb0b0d3be6b7]\n",
       "cluster E2--><a href=\"psysml:130ef6c7-3ccc-43b9-a62a-eb926cce14a9\" target=\"_top\" title=\"psysml:130ef6c7-3ccc-43b9-a62a-eb926cce14a9\" xlink:actuate=\"onRequest\" xlink:href=\"psysml:130ef6c7-3ccc-43b9-a62a-eb926cce14a9\" xlink:show=\"new\" xlink:title=\"psysml:130ef6c7-3ccc-43b9-a62a-eb926cce14a9\" xlink:type=\"simple\"><polygon fill=\"#FFFFFF\" points=\"142,103,168,103,175,125.2969,240,125.2969,240,200,142,200,142,103\" style=\"stroke: #000000; stroke-width: 1.5;\"/><line style=\"stroke: #000000; stroke-width: 1.5;\" x1=\"142\" x2=\"175\" y1=\"125.2969\" y2=\"125.2969\"/><text fill=\"#000000\" font-family=\"sans-serif\" font-size=\"14\" font-weight=\"bold\" lengthAdjust=\"spacingAndGlyphs\" textLength=\"20\" x=\"146\" y=\"117.9951\">P1</text></a><!--MD5=[f6df4d0ebaf0b5dfb2ced0ae5af7c670]\n",
       "cluster E4--><a href=\"psysml:0bc4dbd6-620a-45b9-8d32-94753792e496\" target=\"_top\" title=\"psysml:0bc4dbd6-620a-45b9-8d32-94753792e496\" xlink:actuate=\"onRequest\" xlink:href=\"psysml:0bc4dbd6-620a-45b9-8d32-94753792e496\" xlink:show=\"new\" xlink:title=\"psysml:0bc4dbd6-620a-45b9-8d32-94753792e496\" xlink:type=\"simple\"><polygon fill=\"#FFFFFF\" points=\"142,386,168,386,175,408.2969,240,408.2969,240,483,142,483,142,386\" style=\"stroke: #000000; stroke-width: 1.5;\"/><line style=\"stroke: #000000; stroke-width: 1.5;\" x1=\"142\" x2=\"175\" y1=\"408.2969\" y2=\"408.2969\"/><text fill=\"#000000\" font-family=\"sans-serif\" font-size=\"14\" font-weight=\"bold\" lengthAdjust=\"spacingAndGlyphs\" textLength=\"20\" x=\"146\" y=\"400.9951\">P2</text></a><!--MD5=[14e3b0961a2654348d326746436168a1]\n",
       "cluster E6--><a href=\"psysml:b4043d48-e2a3-4796-9568-6bbff931ebfd\" target=\"_top\" title=\"psysml:b4043d48-e2a3-4796-9568-6bbff931ebfd\" xlink:actuate=\"onRequest\" xlink:href=\"psysml:b4043d48-e2a3-4796-9568-6bbff931ebfd\" xlink:show=\"new\" xlink:title=\"psysml:b4043d48-e2a3-4796-9568-6bbff931ebfd\" xlink:type=\"simple\"><polygon fill=\"#FFFFFF\" points=\"40,103,91,103,98,125.2969,114,125.2969,114,281,40,281,40,103\" style=\"stroke: #000000; stroke-width: 1.5;\"/><line style=\"stroke: #000000; stroke-width: 1.5;\" x1=\"40\" x2=\"98\" y1=\"125.2969\" y2=\"125.2969\"/><text fill=\"#000000\" font-family=\"sans-serif\" font-size=\"14\" font-weight=\"bold\" lengthAdjust=\"spacingAndGlyphs\" textLength=\"45\" x=\"44\" y=\"117.9951\">Test1</text></a><!--MD5=[7f149f147074ac12df2cb0a7728a5fb0]\n",
       "cluster E9--><a href=\"psysml:85a9df72-6515-46a6-853d-c4da844a4980\" target=\"_top\" title=\"psysml:85a9df72-6515-46a6-853d-c4da844a4980\" xlink:actuate=\"onRequest\" xlink:href=\"psysml:85a9df72-6515-46a6-853d-c4da844a4980\" xlink:show=\"new\" xlink:title=\"psysml:85a9df72-6515-46a6-853d-c4da844a4980\" xlink:type=\"simple\"><polygon fill=\"#FFFFFF\" points=\"40,305,91,305,98,327.2969,114,327.2969,114,483,40,483,40,305\" style=\"stroke: #000000; stroke-width: 1.5;\"/><line style=\"stroke: #000000; stroke-width: 1.5;\" x1=\"40\" x2=\"98\" y1=\"327.2969\" y2=\"327.2969\"/><text fill=\"#000000\" font-family=\"sans-serif\" font-size=\"14\" font-weight=\"bold\" lengthAdjust=\"spacingAndGlyphs\" textLength=\"45\" x=\"44\" y=\"319.9951\">Test2</text></a><!--MD5=[49a0ec8f00dab7302a31f22d0f0fe584]\n",
       "class E12--><a href=\"psysml:530a6ae9-7dc1-4851-ab10-936e92c948f7\" target=\"_top\" title=\"psysml:530a6ae9-7dc1-4851-ab10-936e92c948f7\" xlink:actuate=\"onRequest\" xlink:href=\"psysml:530a6ae9-7dc1-4851-ab10-936e92c948f7\" xlink:show=\"new\" xlink:title=\"psysml:530a6ae9-7dc1-4851-ab10-936e92c948f7\" xlink:type=\"simple\"><rect fill=\"#FFFFFF\" height=\"45.9375\" id=\"E12\" rx=\"10\" ry=\"10\" style=\"stroke: #383838; stroke-width: 1.5;\" width=\"42\" x=\"56\" y=\"41\"/><text fill=\"#000000\" font-family=\"sans-serif\" font-size=\"12\" font-style=\"italic\" lengthAdjust=\"spacingAndGlyphs\" textLength=\"40\" x=\"57\" y=\"57.1387\">«part»</text><text fill=\"#000000\" font-family=\"sans-serif\" font-size=\"12\" lengthAdjust=\"spacingAndGlyphs\" textLength=\"22\" x=\"66\" y=\"71.1074\">x: A</text><line style=\"stroke: #383838; stroke-width: 1.5;\" x1=\"57\" x2=\"97\" y1=\"78.9375\" y2=\"78.9375\"/></a><!--MD5=[ee3c913d1a06f366521f9ef512b67efe]\n",
       "class E13--><a href=\"psysml:561bfa55-252f-4783-9fb1-458618dbf236\" target=\"_top\" title=\"psysml:561bfa55-252f-4783-9fb1-458618dbf236\" xlink:actuate=\"onRequest\" xlink:href=\"psysml:561bfa55-252f-4783-9fb1-458618dbf236\" xlink:show=\"new\" xlink:title=\"psysml:561bfa55-252f-4783-9fb1-458618dbf236\" xlink:type=\"simple\"><rect fill=\"#FFFFFF\" height=\"45.9375\" id=\"E13\" rx=\"10\" ry=\"10\" style=\"stroke: #383838; stroke-width: 1.5;\" width=\"42\" x=\"56\" y=\"502\"/><text fill=\"#000000\" font-family=\"sans-serif\" font-size=\"12\" font-style=\"italic\" lengthAdjust=\"spacingAndGlyphs\" textLength=\"40\" x=\"57\" y=\"518.1387\">«part»</text><text fill=\"#000000\" font-family=\"sans-serif\" font-size=\"12\" lengthAdjust=\"spacingAndGlyphs\" textLength=\"22\" x=\"66\" y=\"532.1074\">y: B</text><line style=\"stroke: #383838; stroke-width: 1.5;\" x1=\"57\" x2=\"97\" y1=\"539.9375\" y2=\"539.9375\"/></a><!--MD5=[09b614a08d8cba4a07c9adeb5e0fee81]\n",
       "class E3--><a href=\"psysml:cb0f7157-438a-4ad5-8a96-0def6a248a5a\" target=\"_top\" title=\"psysml:cb0f7157-438a-4ad5-8a96-0def6a248a5a\" xlink:actuate=\"onRequest\" xlink:href=\"psysml:cb0f7157-438a-4ad5-8a96-0def6a248a5a\" xlink:show=\"new\" xlink:title=\"psysml:cb0f7157-438a-4ad5-8a96-0def6a248a5a\" xlink:type=\"simple\"><rect fill=\"#FFFFFF\" height=\"45.9375\" id=\"E3\" style=\"stroke: #383838; stroke-width: 1.5;\" width=\"66\" x=\"158\" y=\"138\"/><text fill=\"#000000\" font-family=\"sans-serif\" font-size=\"12\" font-style=\"italic\" lengthAdjust=\"spacingAndGlyphs\" textLength=\"64\" x=\"159\" y=\"154.1387\">«part def»</text><text fill=\"#000000\" font-family=\"sans-serif\" font-size=\"12\" lengthAdjust=\"spacingAndGlyphs\" textLength=\"8\" x=\"187\" y=\"168.1074\">A</text><line style=\"stroke: #383838; stroke-width: 1.5;\" x1=\"159\" x2=\"223\" y1=\"175.9375\" y2=\"175.9375\"/></a><!--MD5=[270fce915f116d4de14055a7c1d9a0f3]\n",
       "class E5--><a href=\"psysml:fa716e5d-1985-44ef-b151-4b2b4c0691ed\" target=\"_top\" title=\"psysml:fa716e5d-1985-44ef-b151-4b2b4c0691ed\" xlink:actuate=\"onRequest\" xlink:href=\"psysml:fa716e5d-1985-44ef-b151-4b2b4c0691ed\" xlink:show=\"new\" xlink:title=\"psysml:fa716e5d-1985-44ef-b151-4b2b4c0691ed\" xlink:type=\"simple\"><rect fill=\"#FFFFFF\" height=\"45.9375\" id=\"E5\" style=\"stroke: #383838; stroke-width: 1.5;\" width=\"66\" x=\"158\" y=\"421\"/><text fill=\"#000000\" font-family=\"sans-serif\" font-size=\"12\" font-style=\"italic\" lengthAdjust=\"spacingAndGlyphs\" textLength=\"64\" x=\"159\" y=\"437.1387\">«part def»</text><text fill=\"#000000\" font-family=\"sans-serif\" font-size=\"12\" lengthAdjust=\"spacingAndGlyphs\" textLength=\"8\" x=\"187\" y=\"451.1074\">B</text><line style=\"stroke: #383838; stroke-width: 1.5;\" x1=\"159\" x2=\"223\" y1=\"458.9375\" y2=\"458.9375\"/></a><!--MD5=[2156ba9850f5573cc1fc38a6a4b2f02b]\n",
       "class E7--><a href=\"psysml:418b0add-8d91-4a6d-810e-c529e1e5d9c2\" target=\"_top\" title=\"psysml:418b0add-8d91-4a6d-810e-c529e1e5d9c2\" xlink:actuate=\"onRequest\" xlink:href=\"psysml:418b0add-8d91-4a6d-810e-c529e1e5d9c2\" xlink:show=\"new\" xlink:title=\"psysml:418b0add-8d91-4a6d-810e-c529e1e5d9c2\" xlink:type=\"simple\"><rect fill=\"#FFFFFF\" height=\"45.9375\" id=\"E7\" rx=\"10\" ry=\"10\" style=\"stroke: #383838; stroke-width: 1.5;\" width=\"42\" x=\"56\" y=\"138\"/><text fill=\"#000000\" font-family=\"sans-serif\" font-size=\"12\" font-style=\"italic\" lengthAdjust=\"spacingAndGlyphs\" textLength=\"40\" x=\"57\" y=\"154.1387\">«part»</text><text fill=\"#000000\" font-family=\"sans-serif\" font-size=\"12\" lengthAdjust=\"spacingAndGlyphs\" textLength=\"22\" x=\"66\" y=\"168.1074\">x: A</text><line style=\"stroke: #383838; stroke-width: 1.5;\" x1=\"57\" x2=\"97\" y1=\"175.9375\" y2=\"175.9375\"/></a><!--MD5=[b9389687b975829384b498ac4b7476b2]\n",
       "class E8--><a href=\"psysml:c18479a8-8a5a-4a0f-a7e4-033b0648dafb\" target=\"_top\" title=\"psysml:c18479a8-8a5a-4a0f-a7e4-033b0648dafb\" xlink:actuate=\"onRequest\" xlink:href=\"psysml:c18479a8-8a5a-4a0f-a7e4-033b0648dafb\" xlink:show=\"new\" xlink:title=\"psysml:c18479a8-8a5a-4a0f-a7e4-033b0648dafb\" xlink:type=\"simple\"><rect fill=\"#FFFFFF\" height=\"45.9375\" id=\"E8\" rx=\"10\" ry=\"10\" style=\"stroke: #383838; stroke-width: 1.5;\" width=\"42\" x=\"56\" y=\"219\"/><text fill=\"#000000\" font-family=\"sans-serif\" font-size=\"12\" font-style=\"italic\" lengthAdjust=\"spacingAndGlyphs\" textLength=\"40\" x=\"57\" y=\"235.1387\">«part»</text><text fill=\"#000000\" font-family=\"sans-serif\" font-size=\"12\" lengthAdjust=\"spacingAndGlyphs\" textLength=\"22\" x=\"66\" y=\"249.1074\">y: B</text><line style=\"stroke: #383838; stroke-width: 1.5;\" x1=\"57\" x2=\"97\" y1=\"256.9375\" y2=\"256.9375\"/></a><!--MD5=[96f4274e9e20536e775497830990834d]\n",
       "class E10--><a href=\"psysml:61feb9d5-4074-478e-84bb-b7eccf03922b\" target=\"_top\" title=\"psysml:61feb9d5-4074-478e-84bb-b7eccf03922b\" xlink:actuate=\"onRequest\" xlink:href=\"psysml:61feb9d5-4074-478e-84bb-b7eccf03922b\" xlink:show=\"new\" xlink:title=\"psysml:61feb9d5-4074-478e-84bb-b7eccf03922b\" xlink:type=\"simple\"><rect fill=\"#FFFFFF\" height=\"45.9375\" id=\"E10\" rx=\"10\" ry=\"10\" style=\"stroke: #383838; stroke-width: 1.5;\" width=\"42\" x=\"56\" y=\"340\"/><text fill=\"#000000\" font-family=\"sans-serif\" font-size=\"12\" font-style=\"italic\" lengthAdjust=\"spacingAndGlyphs\" textLength=\"40\" x=\"57\" y=\"356.1387\">«part»</text><text fill=\"#000000\" font-family=\"sans-serif\" font-size=\"12\" lengthAdjust=\"spacingAndGlyphs\" textLength=\"22\" x=\"66\" y=\"370.1074\">x: A</text><line style=\"stroke: #383838; stroke-width: 1.5;\" x1=\"57\" x2=\"97\" y1=\"377.9375\" y2=\"377.9375\"/></a><!--MD5=[1dd1bfd58a279cf63c5f349dbc8fc6a1]\n",
       "class E11--><a href=\"psysml:2edd355f-e967-45cc-82fe-80091bb729bd\" target=\"_top\" title=\"psysml:2edd355f-e967-45cc-82fe-80091bb729bd\" xlink:actuate=\"onRequest\" xlink:href=\"psysml:2edd355f-e967-45cc-82fe-80091bb729bd\" xlink:show=\"new\" xlink:title=\"psysml:2edd355f-e967-45cc-82fe-80091bb729bd\" xlink:type=\"simple\"><rect fill=\"#FFFFFF\" height=\"45.9375\" id=\"E11\" rx=\"10\" ry=\"10\" style=\"stroke: #383838; stroke-width: 1.5;\" width=\"42\" x=\"56\" y=\"421\"/><text fill=\"#000000\" font-family=\"sans-serif\" font-size=\"12\" font-style=\"italic\" lengthAdjust=\"spacingAndGlyphs\" textLength=\"40\" x=\"57\" y=\"437.1387\">«part»</text><text fill=\"#000000\" font-family=\"sans-serif\" font-size=\"12\" lengthAdjust=\"spacingAndGlyphs\" textLength=\"22\" x=\"66\" y=\"451.1074\">y: B</text><line style=\"stroke: #383838; stroke-width: 1.5;\" x1=\"57\" x2=\"97\" y1=\"458.9375\" y2=\"458.9375\"/></a><!--MD5=[14ccda38c055a5c0da953d572bc50960]\n",
       "link E7 to E3--><a href=\"psysml:c27725e1-02a3-443e-822c-73205e66e264\" target=\"_top\" title=\"psysml:c27725e1-02a3-443e-822c-73205e66e264\" xlink:actuate=\"onRequest\" xlink:href=\"psysml:c27725e1-02a3-443e-822c-73205e66e264\" xlink:show=\"new\" xlink:title=\"psysml:c27725e1-02a3-443e-822c-73205e66e264\" xlink:type=\"simple\"><path d=\"M98.02,161 C109.18,161 123.65,161 137.79,161 \" fill=\"none\" id=\"E7-&gt;E3\" style=\"stroke: #383838; stroke-width: 1.0;\"/><polygon fill=\"#FFFFFF\" points=\"157.86,161,138.86,168,138.86,154,157.86,161\" style=\"stroke: #383838; stroke-width: 1.0;\"/><ellipse cx=\"133.16\" cy=\"166\" fill=\"#383838\" rx=\"2\" ry=\"2\" style=\"stroke: #383838; stroke-width: 1.0;\"/><ellipse cx=\"133.16\" cy=\"156\" fill=\"#383838\" rx=\"2\" ry=\"2\" style=\"stroke: #383838; stroke-width: 1.0;\"/></a><!--MD5=[1ccb2481ffa92f8d51a74ee30c51832a]\n",
       "link E8 to E5--><a href=\"psysml:43ceeb8e-eeaf-4aa9-b958-61b6f980f202\" target=\"_top\" title=\"psysml:43ceeb8e-eeaf-4aa9-b958-61b6f980f202\" xlink:actuate=\"onRequest\" xlink:href=\"psysml:43ceeb8e-eeaf-4aa9-b958-61b6f980f202\" xlink:show=\"new\" xlink:title=\"psysml:43ceeb8e-eeaf-4aa9-b958-61b6f980f202\" xlink:type=\"simple\"><path d=\"M90.85,265.17 C109.49,298.8 144.32,361.62 167.34,403.13 \" fill=\"none\" id=\"E8-&gt;E5\" style=\"stroke: #383838; stroke-width: 1.0;\"/><polygon fill=\"#FFFFFF\" points=\"177.13,420.79,161.7919,407.5709,174.0344,400.7796,177.13,420.79\" style=\"stroke: #383838; stroke-width: 1.0;\"/><ellipse cx=\"160.7758\" cy=\"401.6163\" fill=\"#383838\" rx=\"2\" ry=\"2\" style=\"stroke: #383838; stroke-width: 1.0;\"/><ellipse cx=\"169.5204\" cy=\"396.7653\" fill=\"#383838\" rx=\"2\" ry=\"2\" style=\"stroke: #383838; stroke-width: 1.0;\"/></a><!--MD5=[feeac5eb423634930294aa81f2d25a4c]\n",
       "link E10 to E3--><a href=\"psysml:2f015e6c-7efc-43fd-92bb-26e8cb5e6a22\" target=\"_top\" title=\"psysml:2f015e6c-7efc-43fd-92bb-26e8cb5e6a22\" xlink:actuate=\"onRequest\" xlink:href=\"psysml:2f015e6c-7efc-43fd-92bb-26e8cb5e6a22\" xlink:show=\"new\" xlink:title=\"psysml:2f015e6c-7efc-43fd-92bb-26e8cb5e6a22\" xlink:type=\"simple\"><path d=\"M90.85,339.83 C109.49,306.2 144.32,243.38 167.34,201.87 \" fill=\"none\" id=\"E10-&gt;E3\" style=\"stroke: #383838; stroke-width: 1.0;\"/><polygon fill=\"#FFFFFF\" points=\"177.13,184.21,174.0344,204.2204,161.7919,197.4291,177.13,184.21\" style=\"stroke: #383838; stroke-width: 1.0;\"/><ellipse cx=\"169.5204\" cy=\"208.2347\" fill=\"#383838\" rx=\"2\" ry=\"2\" style=\"stroke: #383838; stroke-width: 1.0;\"/><ellipse cx=\"160.7758\" cy=\"203.3837\" fill=\"#383838\" rx=\"2\" ry=\"2\" style=\"stroke: #383838; stroke-width: 1.0;\"/></a><!--MD5=[07b77f6f309248d16187045709d1c26e]\n",
       "link E11 to E5--><a href=\"psysml:7cf9fed8-155f-433e-a01b-9d13c54aa089\" target=\"_top\" title=\"psysml:7cf9fed8-155f-433e-a01b-9d13c54aa089\" xlink:actuate=\"onRequest\" xlink:href=\"psysml:7cf9fed8-155f-433e-a01b-9d13c54aa089\" xlink:show=\"new\" xlink:title=\"psysml:7cf9fed8-155f-433e-a01b-9d13c54aa089\" xlink:type=\"simple\"><path d=\"M98.02,444 C109.18,444 123.65,444 137.79,444 \" fill=\"none\" id=\"E11-&gt;E5\" style=\"stroke: #383838; stroke-width: 1.0;\"/><polygon fill=\"#FFFFFF\" points=\"157.86,444,138.86,451,138.86,437,157.86,444\" style=\"stroke: #383838; stroke-width: 1.0;\"/><ellipse cx=\"133.16\" cy=\"449\" fill=\"#383838\" rx=\"2\" ry=\"2\" style=\"stroke: #383838; stroke-width: 1.0;\"/><ellipse cx=\"133.16\" cy=\"439\" fill=\"#383838\" rx=\"2\" ry=\"2\" style=\"stroke: #383838; stroke-width: 1.0;\"/></a><!--MD5=[39f41a0e550fb3d73b4d8135617e30a2]\n",
       "link E12 to E3--><a href=\"psysml:2b9be10b-590f-4358-bedf-a86ab0ed6bce\" target=\"_top\" title=\"psysml:2b9be10b-590f-4358-bedf-a86ab0ed6bce\" xlink:actuate=\"onRequest\" xlink:href=\"psysml:2b9be10b-590f-4358-bedf-a86ab0ed6bce\" xlink:show=\"new\" xlink:title=\"psysml:2b9be10b-590f-4358-bedf-a86ab0ed6bce\" xlink:type=\"simple\"><path d=\"M98.02,81.34 C111.92,93.38 130.95,109.86 148.09,124.7 \" fill=\"none\" id=\"E12-&gt;E3\" style=\"stroke: #383838; stroke-width: 1.0;\"/><polygon fill=\"#FFFFFF\" points=\"163.41,137.97,144.4677,130.8155,153.6371,120.2361,163.41,137.97\" style=\"stroke: #383838; stroke-width: 1.0;\"/><ellipse cx=\"141.4703\" cy=\"125.5709\" fill=\"#383838\" rx=\"2\" ry=\"2\" style=\"stroke: #383838; stroke-width: 1.0;\"/><ellipse cx=\"148.0199\" cy=\"118.0142\" fill=\"#383838\" rx=\"2\" ry=\"2\" style=\"stroke: #383838; stroke-width: 1.0;\"/></a><!--MD5=[066b2d8af59fea80ccdb3d54ad5c1091]\n",
       "link E13 to E5--><a href=\"psysml:78896435-f936-4df6-9172-2ff6f9da23d9\" target=\"_top\" title=\"psysml:78896435-f936-4df6-9172-2ff6f9da23d9\" xlink:actuate=\"onRequest\" xlink:href=\"psysml:78896435-f936-4df6-9172-2ff6f9da23d9\" xlink:show=\"new\" xlink:title=\"psysml:78896435-f936-4df6-9172-2ff6f9da23d9\" xlink:type=\"simple\"><path d=\"M98.02,510.52 C110.09,501.79 126.03,490.27 141.24,479.27 \" fill=\"none\" id=\"E13-&gt;E5\" style=\"stroke: #383838; stroke-width: 1.0;\"/><polygon fill=\"#FFFFFF\" points=\"157.86,467.25,146.5582,484.0509,138.3595,472.7027,157.86,467.25\" style=\"stroke: #383838; stroke-width: 1.0;\"/><ellipse cx=\"140.7667\" cy=\"485.7678\" fill=\"#383838\" rx=\"2\" ry=\"2\" style=\"stroke: #383838; stroke-width: 1.0;\"/><ellipse cx=\"134.9104\" cy=\"477.6619\" fill=\"#383838\" rx=\"2\" ry=\"2\" style=\"stroke: #383838; stroke-width: 1.0;\"/></a><!--MD5=[64214a45567fc67504625b0afc239e12]\n",
       "@startuml\r\n",
       "left to right direction\r\n",
       "skinparam monochrome true\r\n",
       "skinparam classbackgroundcolor white\r\n",
       "skinparam shadowing false\r\n",
       "skinparam wrapWidth 300\r\n",
       "hide circle\r\n",
       "\r\n",
       "package \"CircularImport\" as E1  [[psysml:33738fcf-e3ee-4a7e-98d6-e975d5107ba1 ]]  {\r\n",
       "package \"P1\" as E2  [[psysml:130ef6c7-3ccc-43b9-a62a-eb926cce14a9 ]]  {\r\n",
       "comp def \"A\" as E3  <<(T,blue) part def>> [[psysml:cb0f7157-438a-4ad5-8a96-0def6a248a5a ]] {\r\n",
       "}\r\n",
       "}\r\n",
       "package \"P2\" as E4  [[psysml:0bc4dbd6-620a-45b9-8d32-94753792e496 ]]  {\r\n",
       "comp def \"B\" as E5  <<(T,blue) part def>> [[psysml:fa716e5d-1985-44ef-b151-4b2b4c0691ed ]] {\r\n",
       "}\r\n",
       "}\r\n",
       "package \"Test1\" as E6  [[psysml:b4043d48-e2a3-4796-9568-6bbff931ebfd ]]  {\r\n",
       "comp usage \"x: A\" as E7  <<(T,blue) part>> [[psysml:418b0add-8d91-4a6d-810e-c529e1e5d9c2 ]] {\r\n",
       "}\r\n",
       "comp usage \"y: B\" as E8  <<(T,blue) part>> [[psysml:c18479a8-8a5a-4a0f-a7e4-033b0648dafb ]] {\r\n",
       "}\r\n",
       "E7 - -:|> E3 [[psysml:c27725e1-02a3-443e-822c-73205e66e264 ]] \r\n",
       "E8 - -:|> E5 [[psysml:43ceeb8e-eeaf-4aa9-b958-61b6f980f202 ]] \r\n",
       "}\r\n",
       "package \"Test2\" as E9  [[psysml:85a9df72-6515-46a6-853d-c4da844a4980 ]]  {\r\n",
       "comp usage \"x: A\" as E10  <<(T,blue) part>> [[psysml:61feb9d5-4074-478e-84bb-b7eccf03922b ]] {\r\n",
       "}\r\n",
       "comp usage \"y: B\" as E11  <<(T,blue) part>> [[psysml:2edd355f-e967-45cc-82fe-80091bb729bd ]] {\r\n",
       "}\r\n",
       "E10 - -:|> E3 [[psysml:2f015e6c-7efc-43fd-92bb-26e8cb5e6a22 ]] \r\n",
       "E11 - -:|> E5 [[psysml:7cf9fed8-155f-433e-a01b-9d13c54aa089 ]] \r\n",
       "}\r\n",
       "comp usage \"x: A\" as E12  <<(T,blue) part>> [[psysml:530a6ae9-7dc1-4851-ab10-936e92c948f7 ]] {\r\n",
       "}\r\n",
       "comp usage \"y: B\" as E13  <<(T,blue) part>> [[psysml:561bfa55-252f-4783-9fb1-458618dbf236 ]] {\r\n",
       "}\r\n",
       "E12 - -:|> E3 [[psysml:2b9be10b-590f-4358-bedf-a86ab0ed6bce ]] \r\n",
       "E13 - -:|> E5 [[psysml:78896435-f936-4df6-9172-2ff6f9da23d9 ]] \r\n",
       "}\r\n",
       "@enduml\r\n",
       "\n",
       "PlantUML version 1.2020.13(Sat Jun 13 12:26:38 UTC 2020)\n",
       "(EPL source distribution)\n",
       "Java Runtime: OpenJDK Runtime Environment\n",
       "JVM: OpenJDK 64-Bit Server VM\n",
       "Default Encoding: UTF-8\n",
       "Language: en\n",
       "Country: null\n",
       "--></g></svg>"
      ]
     },
     "execution_count": 16,
     "metadata": {},
     "output_type": "execute_result"
    }
   ],
   "source": [
    "%viz --style=\"LR\" --view=\"Default\" \"CircularImport\""
   ]
  },
  {
   "cell_type": "code",
   "execution_count": 17,
   "id": "e0fd56c2",
   "metadata": {
    "execution": {
     "iopub.execute_input": "2021-06-30T09:15:09.060171Z",
     "iopub.status.busy": "2021-06-30T09:15:09.059575Z",
     "iopub.status.idle": "2021-06-30T09:15:09.148223Z",
     "shell.execute_reply": "2021-06-30T09:15:09.147814Z"
    }
   },
   "outputs": [
    {
     "data": {
      "image/svg+xml": [
       "<?xml version=\"1.0\" encoding=\"UTF-8\" standalone=\"no\"?><svg xmlns=\"http://www.w3.org/2000/svg\" xmlns:xlink=\"http://www.w3.org/1999/xlink\" contentScriptType=\"application/ecmascript\" contentStyleType=\"text/css\" height=\"576px\" preserveAspectRatio=\"none\" style=\"width:286px;height:576px;\" version=\"1.1\" viewBox=\"0 0 286 576\" width=\"286px\" zoomAndPan=\"magnify\"><defs/><g><!--MD5=[fbc87193dbaf4d95561dea2c320d4a47]\n",
       "cluster E1--><a href=\"psysml:33738fcf-e3ee-4a7e-98d6-e975d5107ba1\" target=\"_top\" title=\"psysml:33738fcf-e3ee-4a7e-98d6-e975d5107ba1\" xlink:actuate=\"onRequest\" xlink:href=\"psysml:33738fcf-e3ee-4a7e-98d6-e975d5107ba1\" xlink:show=\"new\" xlink:title=\"psysml:33738fcf-e3ee-4a7e-98d6-e975d5107ba1\" xlink:type=\"simple\"><polygon fill=\"#FFFFFF\" points=\"16,6,134,6,141,28.2969,264,28.2969,264,564,16,564,16,6\" style=\"stroke: #000000; stroke-width: 1.5;\"/><line style=\"stroke: #000000; stroke-width: 1.5;\" x1=\"16\" x2=\"141\" y1=\"28.2969\" y2=\"28.2969\"/><text fill=\"#000000\" font-family=\"sans-serif\" font-size=\"14\" font-weight=\"bold\" lengthAdjust=\"spacingAndGlyphs\" textLength=\"112\" x=\"20\" y=\"20.9951\">CircularImport</text></a><!--MD5=[e4f7fae6ed58524ba242bb0b0d3be6b7]\n",
       "cluster E2--><a href=\"psysml:130ef6c7-3ccc-43b9-a62a-eb926cce14a9\" target=\"_top\" title=\"psysml:130ef6c7-3ccc-43b9-a62a-eb926cce14a9\" xlink:actuate=\"onRequest\" xlink:href=\"psysml:130ef6c7-3ccc-43b9-a62a-eb926cce14a9\" xlink:show=\"new\" xlink:title=\"psysml:130ef6c7-3ccc-43b9-a62a-eb926cce14a9\" xlink:type=\"simple\"><polygon fill=\"#FFFFFF\" points=\"142,103,168,103,175,125.2969,240,125.2969,240,200,142,200,142,103\" style=\"stroke: #000000; stroke-width: 1.5;\"/><line style=\"stroke: #000000; stroke-width: 1.5;\" x1=\"142\" x2=\"175\" y1=\"125.2969\" y2=\"125.2969\"/><text fill=\"#000000\" font-family=\"sans-serif\" font-size=\"14\" font-weight=\"bold\" lengthAdjust=\"spacingAndGlyphs\" textLength=\"20\" x=\"146\" y=\"117.9951\">P1</text></a><!--MD5=[f6df4d0ebaf0b5dfb2ced0ae5af7c670]\n",
       "cluster E4--><a href=\"psysml:0bc4dbd6-620a-45b9-8d32-94753792e496\" target=\"_top\" title=\"psysml:0bc4dbd6-620a-45b9-8d32-94753792e496\" xlink:actuate=\"onRequest\" xlink:href=\"psysml:0bc4dbd6-620a-45b9-8d32-94753792e496\" xlink:show=\"new\" xlink:title=\"psysml:0bc4dbd6-620a-45b9-8d32-94753792e496\" xlink:type=\"simple\"><polygon fill=\"#FFFFFF\" points=\"142,386,168,386,175,408.2969,240,408.2969,240,483,142,483,142,386\" style=\"stroke: #000000; stroke-width: 1.5;\"/><line style=\"stroke: #000000; stroke-width: 1.5;\" x1=\"142\" x2=\"175\" y1=\"408.2969\" y2=\"408.2969\"/><text fill=\"#000000\" font-family=\"sans-serif\" font-size=\"14\" font-weight=\"bold\" lengthAdjust=\"spacingAndGlyphs\" textLength=\"20\" x=\"146\" y=\"400.9951\">P2</text></a><!--MD5=[14e3b0961a2654348d326746436168a1]\n",
       "cluster E6--><a href=\"psysml:b4043d48-e2a3-4796-9568-6bbff931ebfd\" target=\"_top\" title=\"psysml:b4043d48-e2a3-4796-9568-6bbff931ebfd\" xlink:actuate=\"onRequest\" xlink:href=\"psysml:b4043d48-e2a3-4796-9568-6bbff931ebfd\" xlink:show=\"new\" xlink:title=\"psysml:b4043d48-e2a3-4796-9568-6bbff931ebfd\" xlink:type=\"simple\"><polygon fill=\"#FFFFFF\" points=\"40,103,91,103,98,125.2969,114,125.2969,114,281,40,281,40,103\" style=\"stroke: #000000; stroke-width: 1.5;\"/><line style=\"stroke: #000000; stroke-width: 1.5;\" x1=\"40\" x2=\"98\" y1=\"125.2969\" y2=\"125.2969\"/><text fill=\"#000000\" font-family=\"sans-serif\" font-size=\"14\" font-weight=\"bold\" lengthAdjust=\"spacingAndGlyphs\" textLength=\"45\" x=\"44\" y=\"117.9951\">Test1</text></a><!--MD5=[7f149f147074ac12df2cb0a7728a5fb0]\n",
       "cluster E9--><a href=\"psysml:85a9df72-6515-46a6-853d-c4da844a4980\" target=\"_top\" title=\"psysml:85a9df72-6515-46a6-853d-c4da844a4980\" xlink:actuate=\"onRequest\" xlink:href=\"psysml:85a9df72-6515-46a6-853d-c4da844a4980\" xlink:show=\"new\" xlink:title=\"psysml:85a9df72-6515-46a6-853d-c4da844a4980\" xlink:type=\"simple\"><polygon fill=\"#FFFFFF\" points=\"40,305,91,305,98,327.2969,114,327.2969,114,483,40,483,40,305\" style=\"stroke: #000000; stroke-width: 1.5;\"/><line style=\"stroke: #000000; stroke-width: 1.5;\" x1=\"40\" x2=\"98\" y1=\"327.2969\" y2=\"327.2969\"/><text fill=\"#000000\" font-family=\"sans-serif\" font-size=\"14\" font-weight=\"bold\" lengthAdjust=\"spacingAndGlyphs\" textLength=\"45\" x=\"44\" y=\"319.9951\">Test2</text></a><!--MD5=[49a0ec8f00dab7302a31f22d0f0fe584]\n",
       "class E12--><a href=\"psysml:530a6ae9-7dc1-4851-ab10-936e92c948f7\" target=\"_top\" title=\"psysml:530a6ae9-7dc1-4851-ab10-936e92c948f7\" xlink:actuate=\"onRequest\" xlink:href=\"psysml:530a6ae9-7dc1-4851-ab10-936e92c948f7\" xlink:show=\"new\" xlink:title=\"psysml:530a6ae9-7dc1-4851-ab10-936e92c948f7\" xlink:type=\"simple\"><rect fill=\"#FFFFFF\" height=\"45.9375\" id=\"E12\" rx=\"10\" ry=\"10\" style=\"stroke: #383838; stroke-width: 1.5;\" width=\"42\" x=\"56\" y=\"41\"/><text fill=\"#000000\" font-family=\"sans-serif\" font-size=\"12\" font-style=\"italic\" lengthAdjust=\"spacingAndGlyphs\" textLength=\"40\" x=\"57\" y=\"57.1387\">«part»</text><text fill=\"#000000\" font-family=\"sans-serif\" font-size=\"12\" lengthAdjust=\"spacingAndGlyphs\" textLength=\"22\" x=\"66\" y=\"71.1074\">x: A</text><line style=\"stroke: #383838; stroke-width: 1.5;\" x1=\"57\" x2=\"97\" y1=\"78.9375\" y2=\"78.9375\"/></a><!--MD5=[ee3c913d1a06f366521f9ef512b67efe]\n",
       "class E13--><a href=\"psysml:561bfa55-252f-4783-9fb1-458618dbf236\" target=\"_top\" title=\"psysml:561bfa55-252f-4783-9fb1-458618dbf236\" xlink:actuate=\"onRequest\" xlink:href=\"psysml:561bfa55-252f-4783-9fb1-458618dbf236\" xlink:show=\"new\" xlink:title=\"psysml:561bfa55-252f-4783-9fb1-458618dbf236\" xlink:type=\"simple\"><rect fill=\"#FFFFFF\" height=\"45.9375\" id=\"E13\" rx=\"10\" ry=\"10\" style=\"stroke: #383838; stroke-width: 1.5;\" width=\"42\" x=\"56\" y=\"502\"/><text fill=\"#000000\" font-family=\"sans-serif\" font-size=\"12\" font-style=\"italic\" lengthAdjust=\"spacingAndGlyphs\" textLength=\"40\" x=\"57\" y=\"518.1387\">«part»</text><text fill=\"#000000\" font-family=\"sans-serif\" font-size=\"12\" lengthAdjust=\"spacingAndGlyphs\" textLength=\"22\" x=\"66\" y=\"532.1074\">y: B</text><line style=\"stroke: #383838; stroke-width: 1.5;\" x1=\"57\" x2=\"97\" y1=\"539.9375\" y2=\"539.9375\"/></a><!--MD5=[09b614a08d8cba4a07c9adeb5e0fee81]\n",
       "class E3--><a href=\"psysml:cb0f7157-438a-4ad5-8a96-0def6a248a5a\" target=\"_top\" title=\"psysml:cb0f7157-438a-4ad5-8a96-0def6a248a5a\" xlink:actuate=\"onRequest\" xlink:href=\"psysml:cb0f7157-438a-4ad5-8a96-0def6a248a5a\" xlink:show=\"new\" xlink:title=\"psysml:cb0f7157-438a-4ad5-8a96-0def6a248a5a\" xlink:type=\"simple\"><rect fill=\"#FFFFFF\" height=\"45.9375\" id=\"E3\" style=\"stroke: #383838; stroke-width: 1.5;\" width=\"66\" x=\"158\" y=\"138\"/><text fill=\"#000000\" font-family=\"sans-serif\" font-size=\"12\" font-style=\"italic\" lengthAdjust=\"spacingAndGlyphs\" textLength=\"64\" x=\"159\" y=\"154.1387\">«part def»</text><text fill=\"#000000\" font-family=\"sans-serif\" font-size=\"12\" lengthAdjust=\"spacingAndGlyphs\" textLength=\"8\" x=\"187\" y=\"168.1074\">A</text><line style=\"stroke: #383838; stroke-width: 1.5;\" x1=\"159\" x2=\"223\" y1=\"175.9375\" y2=\"175.9375\"/></a><!--MD5=[270fce915f116d4de14055a7c1d9a0f3]\n",
       "class E5--><a href=\"psysml:fa716e5d-1985-44ef-b151-4b2b4c0691ed\" target=\"_top\" title=\"psysml:fa716e5d-1985-44ef-b151-4b2b4c0691ed\" xlink:actuate=\"onRequest\" xlink:href=\"psysml:fa716e5d-1985-44ef-b151-4b2b4c0691ed\" xlink:show=\"new\" xlink:title=\"psysml:fa716e5d-1985-44ef-b151-4b2b4c0691ed\" xlink:type=\"simple\"><rect fill=\"#FFFFFF\" height=\"45.9375\" id=\"E5\" style=\"stroke: #383838; stroke-width: 1.5;\" width=\"66\" x=\"158\" y=\"421\"/><text fill=\"#000000\" font-family=\"sans-serif\" font-size=\"12\" font-style=\"italic\" lengthAdjust=\"spacingAndGlyphs\" textLength=\"64\" x=\"159\" y=\"437.1387\">«part def»</text><text fill=\"#000000\" font-family=\"sans-serif\" font-size=\"12\" lengthAdjust=\"spacingAndGlyphs\" textLength=\"8\" x=\"187\" y=\"451.1074\">B</text><line style=\"stroke: #383838; stroke-width: 1.5;\" x1=\"159\" x2=\"223\" y1=\"458.9375\" y2=\"458.9375\"/></a><!--MD5=[2156ba9850f5573cc1fc38a6a4b2f02b]\n",
       "class E7--><a href=\"psysml:418b0add-8d91-4a6d-810e-c529e1e5d9c2\" target=\"_top\" title=\"psysml:418b0add-8d91-4a6d-810e-c529e1e5d9c2\" xlink:actuate=\"onRequest\" xlink:href=\"psysml:418b0add-8d91-4a6d-810e-c529e1e5d9c2\" xlink:show=\"new\" xlink:title=\"psysml:418b0add-8d91-4a6d-810e-c529e1e5d9c2\" xlink:type=\"simple\"><rect fill=\"#FFFFFF\" height=\"45.9375\" id=\"E7\" rx=\"10\" ry=\"10\" style=\"stroke: #383838; stroke-width: 1.5;\" width=\"42\" x=\"56\" y=\"138\"/><text fill=\"#000000\" font-family=\"sans-serif\" font-size=\"12\" font-style=\"italic\" lengthAdjust=\"spacingAndGlyphs\" textLength=\"40\" x=\"57\" y=\"154.1387\">«part»</text><text fill=\"#000000\" font-family=\"sans-serif\" font-size=\"12\" lengthAdjust=\"spacingAndGlyphs\" textLength=\"22\" x=\"66\" y=\"168.1074\">x: A</text><line style=\"stroke: #383838; stroke-width: 1.5;\" x1=\"57\" x2=\"97\" y1=\"175.9375\" y2=\"175.9375\"/></a><!--MD5=[b9389687b975829384b498ac4b7476b2]\n",
       "class E8--><a href=\"psysml:c18479a8-8a5a-4a0f-a7e4-033b0648dafb\" target=\"_top\" title=\"psysml:c18479a8-8a5a-4a0f-a7e4-033b0648dafb\" xlink:actuate=\"onRequest\" xlink:href=\"psysml:c18479a8-8a5a-4a0f-a7e4-033b0648dafb\" xlink:show=\"new\" xlink:title=\"psysml:c18479a8-8a5a-4a0f-a7e4-033b0648dafb\" xlink:type=\"simple\"><rect fill=\"#FFFFFF\" height=\"45.9375\" id=\"E8\" rx=\"10\" ry=\"10\" style=\"stroke: #383838; stroke-width: 1.5;\" width=\"42\" x=\"56\" y=\"219\"/><text fill=\"#000000\" font-family=\"sans-serif\" font-size=\"12\" font-style=\"italic\" lengthAdjust=\"spacingAndGlyphs\" textLength=\"40\" x=\"57\" y=\"235.1387\">«part»</text><text fill=\"#000000\" font-family=\"sans-serif\" font-size=\"12\" lengthAdjust=\"spacingAndGlyphs\" textLength=\"22\" x=\"66\" y=\"249.1074\">y: B</text><line style=\"stroke: #383838; stroke-width: 1.5;\" x1=\"57\" x2=\"97\" y1=\"256.9375\" y2=\"256.9375\"/></a><!--MD5=[96f4274e9e20536e775497830990834d]\n",
       "class E10--><a href=\"psysml:61feb9d5-4074-478e-84bb-b7eccf03922b\" target=\"_top\" title=\"psysml:61feb9d5-4074-478e-84bb-b7eccf03922b\" xlink:actuate=\"onRequest\" xlink:href=\"psysml:61feb9d5-4074-478e-84bb-b7eccf03922b\" xlink:show=\"new\" xlink:title=\"psysml:61feb9d5-4074-478e-84bb-b7eccf03922b\" xlink:type=\"simple\"><rect fill=\"#FFFFFF\" height=\"45.9375\" id=\"E10\" rx=\"10\" ry=\"10\" style=\"stroke: #383838; stroke-width: 1.5;\" width=\"42\" x=\"56\" y=\"340\"/><text fill=\"#000000\" font-family=\"sans-serif\" font-size=\"12\" font-style=\"italic\" lengthAdjust=\"spacingAndGlyphs\" textLength=\"40\" x=\"57\" y=\"356.1387\">«part»</text><text fill=\"#000000\" font-family=\"sans-serif\" font-size=\"12\" lengthAdjust=\"spacingAndGlyphs\" textLength=\"22\" x=\"66\" y=\"370.1074\">x: A</text><line style=\"stroke: #383838; stroke-width: 1.5;\" x1=\"57\" x2=\"97\" y1=\"377.9375\" y2=\"377.9375\"/></a><!--MD5=[1dd1bfd58a279cf63c5f349dbc8fc6a1]\n",
       "class E11--><a href=\"psysml:2edd355f-e967-45cc-82fe-80091bb729bd\" target=\"_top\" title=\"psysml:2edd355f-e967-45cc-82fe-80091bb729bd\" xlink:actuate=\"onRequest\" xlink:href=\"psysml:2edd355f-e967-45cc-82fe-80091bb729bd\" xlink:show=\"new\" xlink:title=\"psysml:2edd355f-e967-45cc-82fe-80091bb729bd\" xlink:type=\"simple\"><rect fill=\"#FFFFFF\" height=\"45.9375\" id=\"E11\" rx=\"10\" ry=\"10\" style=\"stroke: #383838; stroke-width: 1.5;\" width=\"42\" x=\"56\" y=\"421\"/><text fill=\"#000000\" font-family=\"sans-serif\" font-size=\"12\" font-style=\"italic\" lengthAdjust=\"spacingAndGlyphs\" textLength=\"40\" x=\"57\" y=\"437.1387\">«part»</text><text fill=\"#000000\" font-family=\"sans-serif\" font-size=\"12\" lengthAdjust=\"spacingAndGlyphs\" textLength=\"22\" x=\"66\" y=\"451.1074\">y: B</text><line style=\"stroke: #383838; stroke-width: 1.5;\" x1=\"57\" x2=\"97\" y1=\"458.9375\" y2=\"458.9375\"/></a><!--MD5=[14ccda38c055a5c0da953d572bc50960]\n",
       "link E7 to E3--><a href=\"psysml:c27725e1-02a3-443e-822c-73205e66e264\" target=\"_top\" title=\"psysml:c27725e1-02a3-443e-822c-73205e66e264\" xlink:actuate=\"onRequest\" xlink:href=\"psysml:c27725e1-02a3-443e-822c-73205e66e264\" xlink:show=\"new\" xlink:title=\"psysml:c27725e1-02a3-443e-822c-73205e66e264\" xlink:type=\"simple\"><path d=\"M98.02,161 C109.18,161 123.65,161 137.79,161 \" fill=\"none\" id=\"E7-&gt;E3\" style=\"stroke: #383838; stroke-width: 1.0;\"/><polygon fill=\"#FFFFFF\" points=\"157.86,161,138.86,168,138.86,154,157.86,161\" style=\"stroke: #383838; stroke-width: 1.0;\"/><ellipse cx=\"133.16\" cy=\"166\" fill=\"#383838\" rx=\"2\" ry=\"2\" style=\"stroke: #383838; stroke-width: 1.0;\"/><ellipse cx=\"133.16\" cy=\"156\" fill=\"#383838\" rx=\"2\" ry=\"2\" style=\"stroke: #383838; stroke-width: 1.0;\"/></a><!--MD5=[1ccb2481ffa92f8d51a74ee30c51832a]\n",
       "link E8 to E5--><a href=\"psysml:43ceeb8e-eeaf-4aa9-b958-61b6f980f202\" target=\"_top\" title=\"psysml:43ceeb8e-eeaf-4aa9-b958-61b6f980f202\" xlink:actuate=\"onRequest\" xlink:href=\"psysml:43ceeb8e-eeaf-4aa9-b958-61b6f980f202\" xlink:show=\"new\" xlink:title=\"psysml:43ceeb8e-eeaf-4aa9-b958-61b6f980f202\" xlink:type=\"simple\"><path d=\"M90.85,265.17 C109.49,298.8 144.32,361.62 167.34,403.13 \" fill=\"none\" id=\"E8-&gt;E5\" style=\"stroke: #383838; stroke-width: 1.0;\"/><polygon fill=\"#FFFFFF\" points=\"177.13,420.79,161.7919,407.5709,174.0344,400.7796,177.13,420.79\" style=\"stroke: #383838; stroke-width: 1.0;\"/><ellipse cx=\"160.7758\" cy=\"401.6163\" fill=\"#383838\" rx=\"2\" ry=\"2\" style=\"stroke: #383838; stroke-width: 1.0;\"/><ellipse cx=\"169.5204\" cy=\"396.7653\" fill=\"#383838\" rx=\"2\" ry=\"2\" style=\"stroke: #383838; stroke-width: 1.0;\"/></a><!--MD5=[feeac5eb423634930294aa81f2d25a4c]\n",
       "link E10 to E3--><a href=\"psysml:2f015e6c-7efc-43fd-92bb-26e8cb5e6a22\" target=\"_top\" title=\"psysml:2f015e6c-7efc-43fd-92bb-26e8cb5e6a22\" xlink:actuate=\"onRequest\" xlink:href=\"psysml:2f015e6c-7efc-43fd-92bb-26e8cb5e6a22\" xlink:show=\"new\" xlink:title=\"psysml:2f015e6c-7efc-43fd-92bb-26e8cb5e6a22\" xlink:type=\"simple\"><path d=\"M90.85,339.83 C109.49,306.2 144.32,243.38 167.34,201.87 \" fill=\"none\" id=\"E10-&gt;E3\" style=\"stroke: #383838; stroke-width: 1.0;\"/><polygon fill=\"#FFFFFF\" points=\"177.13,184.21,174.0344,204.2204,161.7919,197.4291,177.13,184.21\" style=\"stroke: #383838; stroke-width: 1.0;\"/><ellipse cx=\"169.5204\" cy=\"208.2347\" fill=\"#383838\" rx=\"2\" ry=\"2\" style=\"stroke: #383838; stroke-width: 1.0;\"/><ellipse cx=\"160.7758\" cy=\"203.3837\" fill=\"#383838\" rx=\"2\" ry=\"2\" style=\"stroke: #383838; stroke-width: 1.0;\"/></a><!--MD5=[07b77f6f309248d16187045709d1c26e]\n",
       "link E11 to E5--><a href=\"psysml:7cf9fed8-155f-433e-a01b-9d13c54aa089\" target=\"_top\" title=\"psysml:7cf9fed8-155f-433e-a01b-9d13c54aa089\" xlink:actuate=\"onRequest\" xlink:href=\"psysml:7cf9fed8-155f-433e-a01b-9d13c54aa089\" xlink:show=\"new\" xlink:title=\"psysml:7cf9fed8-155f-433e-a01b-9d13c54aa089\" xlink:type=\"simple\"><path d=\"M98.02,444 C109.18,444 123.65,444 137.79,444 \" fill=\"none\" id=\"E11-&gt;E5\" style=\"stroke: #383838; stroke-width: 1.0;\"/><polygon fill=\"#FFFFFF\" points=\"157.86,444,138.86,451,138.86,437,157.86,444\" style=\"stroke: #383838; stroke-width: 1.0;\"/><ellipse cx=\"133.16\" cy=\"449\" fill=\"#383838\" rx=\"2\" ry=\"2\" style=\"stroke: #383838; stroke-width: 1.0;\"/><ellipse cx=\"133.16\" cy=\"439\" fill=\"#383838\" rx=\"2\" ry=\"2\" style=\"stroke: #383838; stroke-width: 1.0;\"/></a><!--MD5=[39f41a0e550fb3d73b4d8135617e30a2]\n",
       "link E12 to E3--><a href=\"psysml:2b9be10b-590f-4358-bedf-a86ab0ed6bce\" target=\"_top\" title=\"psysml:2b9be10b-590f-4358-bedf-a86ab0ed6bce\" xlink:actuate=\"onRequest\" xlink:href=\"psysml:2b9be10b-590f-4358-bedf-a86ab0ed6bce\" xlink:show=\"new\" xlink:title=\"psysml:2b9be10b-590f-4358-bedf-a86ab0ed6bce\" xlink:type=\"simple\"><path d=\"M98.02,81.34 C111.92,93.38 130.95,109.86 148.09,124.7 \" fill=\"none\" id=\"E12-&gt;E3\" style=\"stroke: #383838; stroke-width: 1.0;\"/><polygon fill=\"#FFFFFF\" points=\"163.41,137.97,144.4677,130.8155,153.6371,120.2361,163.41,137.97\" style=\"stroke: #383838; stroke-width: 1.0;\"/><ellipse cx=\"141.4703\" cy=\"125.5709\" fill=\"#383838\" rx=\"2\" ry=\"2\" style=\"stroke: #383838; stroke-width: 1.0;\"/><ellipse cx=\"148.0199\" cy=\"118.0142\" fill=\"#383838\" rx=\"2\" ry=\"2\" style=\"stroke: #383838; stroke-width: 1.0;\"/></a><!--MD5=[066b2d8af59fea80ccdb3d54ad5c1091]\n",
       "link E13 to E5--><a href=\"psysml:78896435-f936-4df6-9172-2ff6f9da23d9\" target=\"_top\" title=\"psysml:78896435-f936-4df6-9172-2ff6f9da23d9\" xlink:actuate=\"onRequest\" xlink:href=\"psysml:78896435-f936-4df6-9172-2ff6f9da23d9\" xlink:show=\"new\" xlink:title=\"psysml:78896435-f936-4df6-9172-2ff6f9da23d9\" xlink:type=\"simple\"><path d=\"M98.02,510.52 C110.09,501.79 126.03,490.27 141.24,479.27 \" fill=\"none\" id=\"E13-&gt;E5\" style=\"stroke: #383838; stroke-width: 1.0;\"/><polygon fill=\"#FFFFFF\" points=\"157.86,467.25,146.5582,484.0509,138.3595,472.7027,157.86,467.25\" style=\"stroke: #383838; stroke-width: 1.0;\"/><ellipse cx=\"140.7667\" cy=\"485.7678\" fill=\"#383838\" rx=\"2\" ry=\"2\" style=\"stroke: #383838; stroke-width: 1.0;\"/><ellipse cx=\"134.9104\" cy=\"477.6619\" fill=\"#383838\" rx=\"2\" ry=\"2\" style=\"stroke: #383838; stroke-width: 1.0;\"/></a><!--MD5=[64214a45567fc67504625b0afc239e12]\n",
       "@startuml\r\n",
       "left to right direction\r\n",
       "skinparam monochrome true\r\n",
       "skinparam classbackgroundcolor white\r\n",
       "skinparam shadowing false\r\n",
       "skinparam wrapWidth 300\r\n",
       "hide circle\r\n",
       "\r\n",
       "package \"CircularImport\" as E1  [[psysml:33738fcf-e3ee-4a7e-98d6-e975d5107ba1 ]]  {\r\n",
       "package \"P1\" as E2  [[psysml:130ef6c7-3ccc-43b9-a62a-eb926cce14a9 ]]  {\r\n",
       "comp def \"A\" as E3  <<(T,blue) part def>> [[psysml:cb0f7157-438a-4ad5-8a96-0def6a248a5a ]] {\r\n",
       "}\r\n",
       "}\r\n",
       "package \"P2\" as E4  [[psysml:0bc4dbd6-620a-45b9-8d32-94753792e496 ]]  {\r\n",
       "comp def \"B\" as E5  <<(T,blue) part def>> [[psysml:fa716e5d-1985-44ef-b151-4b2b4c0691ed ]] {\r\n",
       "}\r\n",
       "}\r\n",
       "package \"Test1\" as E6  [[psysml:b4043d48-e2a3-4796-9568-6bbff931ebfd ]]  {\r\n",
       "comp usage \"x: A\" as E7  <<(T,blue) part>> [[psysml:418b0add-8d91-4a6d-810e-c529e1e5d9c2 ]] {\r\n",
       "}\r\n",
       "comp usage \"y: B\" as E8  <<(T,blue) part>> [[psysml:c18479a8-8a5a-4a0f-a7e4-033b0648dafb ]] {\r\n",
       "}\r\n",
       "E7 - -:|> E3 [[psysml:c27725e1-02a3-443e-822c-73205e66e264 ]] \r\n",
       "E8 - -:|> E5 [[psysml:43ceeb8e-eeaf-4aa9-b958-61b6f980f202 ]] \r\n",
       "}\r\n",
       "package \"Test2\" as E9  [[psysml:85a9df72-6515-46a6-853d-c4da844a4980 ]]  {\r\n",
       "comp usage \"x: A\" as E10  <<(T,blue) part>> [[psysml:61feb9d5-4074-478e-84bb-b7eccf03922b ]] {\r\n",
       "}\r\n",
       "comp usage \"y: B\" as E11  <<(T,blue) part>> [[psysml:2edd355f-e967-45cc-82fe-80091bb729bd ]] {\r\n",
       "}\r\n",
       "E10 - -:|> E3 [[psysml:2f015e6c-7efc-43fd-92bb-26e8cb5e6a22 ]] \r\n",
       "E11 - -:|> E5 [[psysml:7cf9fed8-155f-433e-a01b-9d13c54aa089 ]] \r\n",
       "}\r\n",
       "comp usage \"x: A\" as E12  <<(T,blue) part>> [[psysml:530a6ae9-7dc1-4851-ab10-936e92c948f7 ]] {\r\n",
       "}\r\n",
       "comp usage \"y: B\" as E13  <<(T,blue) part>> [[psysml:561bfa55-252f-4783-9fb1-458618dbf236 ]] {\r\n",
       "}\r\n",
       "E12 - -:|> E3 [[psysml:2b9be10b-590f-4358-bedf-a86ab0ed6bce ]] \r\n",
       "E13 - -:|> E5 [[psysml:78896435-f936-4df6-9172-2ff6f9da23d9 ]] \r\n",
       "}\r\n",
       "@enduml\r\n",
       "\n",
       "PlantUML version 1.2020.13(Sat Jun 13 12:26:38 UTC 2020)\n",
       "(EPL source distribution)\n",
       "Java Runtime: OpenJDK Runtime Environment\n",
       "JVM: OpenJDK 64-Bit Server VM\n",
       "Default Encoding: UTF-8\n",
       "Language: en\n",
       "Country: null\n",
       "--></g></svg>"
      ]
     },
     "execution_count": 17,
     "metadata": {},
     "output_type": "execute_result"
    }
   ],
   "source": [
    "%viz --style=\"LR\" --view=\"Tree\" \"CircularImport\""
   ]
  },
  {
   "cell_type": "code",
   "execution_count": 18,
   "id": "ade2cfc6",
   "metadata": {
    "execution": {
     "iopub.execute_input": "2021-06-30T09:15:09.198422Z",
     "iopub.status.busy": "2021-06-30T09:15:09.197873Z",
     "iopub.status.idle": "2021-06-30T09:15:09.204082Z",
     "shell.execute_reply": "2021-06-30T09:15:09.204434Z"
    }
   },
   "outputs": [
    {
     "data": {
      "image/svg+xml": [
       "<?xml version=\"1.0\" encoding=\"UTF-8\" standalone=\"no\"?><svg xmlns=\"http://www.w3.org/2000/svg\" xmlns:xlink=\"http://www.w3.org/1999/xlink\" contentScriptType=\"application/ecmascript\" contentStyleType=\"text/css\" height=\"12px\" preserveAspectRatio=\"none\" style=\"width:12px;height:12px;\" version=\"1.1\" viewBox=\"0 0 12 12\" width=\"12px\" zoomAndPan=\"magnify\"><defs/><g><!--MD5=[19d285c9d72a204eba4e2cd117d745e8]\n",
       "@startuml\r\n",
       "left to right direction\r\n",
       "skinparam monochrome true\r\n",
       "skinparam classbackgroundcolor white\r\n",
       "skinparam shadowing false\r\n",
       "skinparam wrapWidth 300\r\n",
       "hide circle\r\n",
       "\r\n",
       "@enduml\r\n",
       "\n",
       "PlantUML version 1.2020.13(Sat Jun 13 12:26:38 UTC 2020)\n",
       "(EPL source distribution)\n",
       "Java Runtime: OpenJDK Runtime Environment\n",
       "JVM: OpenJDK 64-Bit Server VM\n",
       "Default Encoding: UTF-8\n",
       "Language: en\n",
       "Country: null\n",
       "--></g></svg>"
      ]
     },
     "execution_count": 18,
     "metadata": {},
     "output_type": "execute_result"
    }
   ],
   "source": [
    "%viz --style=\"LR\" --view=\"State\" \"CircularImport\""
   ]
  },
  {
   "cell_type": "code",
   "execution_count": 19,
   "id": "8f09c876",
   "metadata": {
    "execution": {
     "iopub.execute_input": "2021-06-30T09:15:09.259228Z",
     "iopub.status.busy": "2021-06-30T09:15:09.258386Z",
     "iopub.status.idle": "2021-06-30T09:15:09.339285Z",
     "shell.execute_reply": "2021-06-30T09:15:09.338798Z"
    }
   },
   "outputs": [
    {
     "data": {
      "image/svg+xml": [
       "<?xml version=\"1.0\" encoding=\"UTF-8\" standalone=\"no\"?><svg xmlns=\"http://www.w3.org/2000/svg\" xmlns:xlink=\"http://www.w3.org/1999/xlink\" contentScriptType=\"application/ecmascript\" contentStyleType=\"text/css\" height=\"805px\" preserveAspectRatio=\"none\" style=\"width:189px;height:805px;\" version=\"1.1\" viewBox=\"0 0 189 805\" width=\"189px\" zoomAndPan=\"magnify\"><defs/><g><!--MD5=[fbc87193dbaf4d95561dea2c320d4a47]\n",
       "cluster E1--><a href=\"psysml:33738fcf-e3ee-4a7e-98d6-e975d5107ba1\" target=\"_top\" title=\"psysml:33738fcf-e3ee-4a7e-98d6-e975d5107ba1\" xlink:actuate=\"onRequest\" xlink:href=\"psysml:33738fcf-e3ee-4a7e-98d6-e975d5107ba1\" xlink:show=\"new\" xlink:title=\"psysml:33738fcf-e3ee-4a7e-98d6-e975d5107ba1\" xlink:type=\"simple\"><polygon fill=\"#FFFFFF\" points=\"16,6,134,6,141,28.2969,167,28.2969,167,793,16,793,16,6\" style=\"stroke: #000000; stroke-width: 1.5;\"/><line style=\"stroke: #000000; stroke-width: 1.5;\" x1=\"16\" x2=\"141\" y1=\"28.2969\" y2=\"28.2969\"/><text fill=\"#000000\" font-family=\"sans-serif\" font-size=\"14\" font-weight=\"bold\" lengthAdjust=\"spacingAndGlyphs\" textLength=\"112\" x=\"20\" y=\"20.9951\">CircularImport</text></a><!--MD5=[e4f7fae6ed58524ba242bb0b0d3be6b7]\n",
       "cluster E2--><a href=\"psysml:130ef6c7-3ccc-43b9-a62a-eb926cce14a9\" target=\"_top\" title=\"psysml:130ef6c7-3ccc-43b9-a62a-eb926cce14a9\" xlink:actuate=\"onRequest\" xlink:href=\"psysml:130ef6c7-3ccc-43b9-a62a-eb926cce14a9\" xlink:show=\"new\" xlink:title=\"psysml:130ef6c7-3ccc-43b9-a62a-eb926cce14a9\" xlink:type=\"simple\"><polygon fill=\"#FFFFFF\" points=\"40,49,66,49,73,71.2969,143,71.2969,143,144,40,144,40,49\" style=\"stroke: #000000; stroke-width: 1.5;\"/><line style=\"stroke: #000000; stroke-width: 1.5;\" x1=\"40\" x2=\"73\" y1=\"71.2969\" y2=\"71.2969\"/><text fill=\"#000000\" font-family=\"sans-serif\" font-size=\"14\" font-weight=\"bold\" lengthAdjust=\"spacingAndGlyphs\" textLength=\"20\" x=\"44\" y=\"63.9951\">P1</text></a><!--MD5=[f6df4d0ebaf0b5dfb2ced0ae5af7c670]\n",
       "cluster E4--><a href=\"psysml:0bc4dbd6-620a-45b9-8d32-94753792e496\" target=\"_top\" title=\"psysml:0bc4dbd6-620a-45b9-8d32-94753792e496\" xlink:actuate=\"onRequest\" xlink:href=\"psysml:0bc4dbd6-620a-45b9-8d32-94753792e496\" xlink:show=\"new\" xlink:title=\"psysml:0bc4dbd6-620a-45b9-8d32-94753792e496\" xlink:type=\"simple\"><polygon fill=\"#FFFFFF\" points=\"40,168,66,168,73,190.2969,143,190.2969,143,263,40,263,40,168\" style=\"stroke: #000000; stroke-width: 1.5;\"/><line style=\"stroke: #000000; stroke-width: 1.5;\" x1=\"40\" x2=\"73\" y1=\"190.2969\" y2=\"190.2969\"/><text fill=\"#000000\" font-family=\"sans-serif\" font-size=\"14\" font-weight=\"bold\" lengthAdjust=\"spacingAndGlyphs\" textLength=\"20\" x=\"44\" y=\"182.9951\">P2</text></a><!--MD5=[14e3b0961a2654348d326746436168a1]\n",
       "cluster E6--><a href=\"psysml:b4043d48-e2a3-4796-9568-6bbff931ebfd\" target=\"_top\" title=\"psysml:b4043d48-e2a3-4796-9568-6bbff931ebfd\" xlink:actuate=\"onRequest\" xlink:href=\"psysml:b4043d48-e2a3-4796-9568-6bbff931ebfd\" xlink:show=\"new\" xlink:title=\"psysml:b4043d48-e2a3-4796-9568-6bbff931ebfd\" xlink:type=\"simple\"><polygon fill=\"#FFFFFF\" points=\"50.5,287,101.5,287,108.5,309.2969,132.5,309.2969,132.5,453,50.5,453,50.5,287\" style=\"stroke: #000000; stroke-width: 1.5;\"/><line style=\"stroke: #000000; stroke-width: 1.5;\" x1=\"50.5\" x2=\"108.5\" y1=\"309.2969\" y2=\"309.2969\"/><text fill=\"#000000\" font-family=\"sans-serif\" font-size=\"14\" font-weight=\"bold\" lengthAdjust=\"spacingAndGlyphs\" textLength=\"45\" x=\"54.5\" y=\"301.9951\">Test1</text></a><!--MD5=[7f149f147074ac12df2cb0a7728a5fb0]\n",
       "cluster E9--><a href=\"psysml:85a9df72-6515-46a6-853d-c4da844a4980\" target=\"_top\" title=\"psysml:85a9df72-6515-46a6-853d-c4da844a4980\" xlink:actuate=\"onRequest\" xlink:href=\"psysml:85a9df72-6515-46a6-853d-c4da844a4980\" xlink:show=\"new\" xlink:title=\"psysml:85a9df72-6515-46a6-853d-c4da844a4980\" xlink:type=\"simple\"><polygon fill=\"#FFFFFF\" points=\"50.5,477,101.5,477,108.5,499.2969,132.5,499.2969,132.5,643,50.5,643,50.5,477\" style=\"stroke: #000000; stroke-width: 1.5;\"/><line style=\"stroke: #000000; stroke-width: 1.5;\" x1=\"50.5\" x2=\"108.5\" y1=\"499.2969\" y2=\"499.2969\"/><text fill=\"#000000\" font-family=\"sans-serif\" font-size=\"14\" font-weight=\"bold\" lengthAdjust=\"spacingAndGlyphs\" textLength=\"45\" x=\"54.5\" y=\"491.9951\">Test2</text></a><g id=\"E1.E2.E3\"><a href=\"psysml:cb0f7157-438a-4ad5-8a96-0def6a248a5a\" target=\"_top\" title=\"psysml:cb0f7157-438a-4ad5-8a96-0def6a248a5a\" xlink:actuate=\"onRequest\" xlink:href=\"psysml:cb0f7157-438a-4ad5-8a96-0def6a248a5a\" xlink:show=\"new\" xlink:title=\"psysml:cb0f7157-438a-4ad5-8a96-0def6a248a5a\" xlink:type=\"simple\"><rect fill=\"#FFFFFF\" height=\"42.9375\" id=\"E3\" style=\"stroke: #383838; stroke-width: 1.5;\" width=\"71\" x=\"56\" y=\"84.5\"/><rect fill=\"#F8F8F8\" height=\"37.9375\" style=\"stroke: #383838; stroke-width: 1.5;\" width=\"71\" x=\"56\" y=\"84.5\"/><text fill=\"#000000\" font-family=\"sans-serif\" font-size=\"12\" font-style=\"italic\" lengthAdjust=\"spacingAndGlyphs\" textLength=\"64\" x=\"59.5\" y=\"100.6387\">«part def»</text><text fill=\"#000000\" font-family=\"sans-serif\" font-size=\"12\" lengthAdjust=\"spacingAndGlyphs\" textLength=\"8\" x=\"87.5\" y=\"114.6074\">A</text></a></g><g id=\"E1.E4.E5\"><a href=\"psysml:fa716e5d-1985-44ef-b151-4b2b4c0691ed\" target=\"_top\" title=\"psysml:fa716e5d-1985-44ef-b151-4b2b4c0691ed\" xlink:actuate=\"onRequest\" xlink:href=\"psysml:fa716e5d-1985-44ef-b151-4b2b4c0691ed\" xlink:show=\"new\" xlink:title=\"psysml:fa716e5d-1985-44ef-b151-4b2b4c0691ed\" xlink:type=\"simple\"><rect fill=\"#FFFFFF\" height=\"42.9375\" id=\"E5\" style=\"stroke: #383838; stroke-width: 1.5;\" width=\"71\" x=\"56\" y=\"203.5\"/><rect fill=\"#F8F8F8\" height=\"37.9375\" style=\"stroke: #383838; stroke-width: 1.5;\" width=\"71\" x=\"56\" y=\"203.5\"/><text fill=\"#000000\" font-family=\"sans-serif\" font-size=\"12\" font-style=\"italic\" lengthAdjust=\"spacingAndGlyphs\" textLength=\"64\" x=\"59.5\" y=\"219.6387\">«part def»</text><text fill=\"#000000\" font-family=\"sans-serif\" font-size=\"12\" lengthAdjust=\"spacingAndGlyphs\" textLength=\"8\" x=\"87.5\" y=\"233.6074\">B</text></a></g><g id=\"E1.E6.E7\"><a href=\"psysml:418b0add-8d91-4a6d-810e-c529e1e5d9c2\" target=\"_top\" title=\"psysml:418b0add-8d91-4a6d-810e-c529e1e5d9c2\" xlink:actuate=\"onRequest\" xlink:href=\"psysml:418b0add-8d91-4a6d-810e-c529e1e5d9c2\" xlink:show=\"new\" xlink:title=\"psysml:418b0add-8d91-4a6d-810e-c529e1e5d9c2\" xlink:type=\"simple\"><rect fill=\"#FFFFFF\" height=\"40\" id=\"E7\" rx=\"10\" ry=\"10\" style=\"stroke: #383838; stroke-width: 1.5;\" width=\"50\" x=\"66.5\" y=\"322\"/><rect fill=\"#F8F8F8\" height=\"23.9688\" rx=\"10\" ry=\"10\" style=\"stroke: #F8F8F8; stroke-width: 1.5;\" width=\"50\" x=\"66.5\" y=\"322\"/><rect fill=\"#F8F8F8\" height=\"10\" style=\"stroke: #F8F8F8; stroke-width: 1.5;\" width=\"50\" x=\"66.5\" y=\"335.9688\"/><rect fill=\"none\" height=\"40\" id=\"E7\" rx=\"10\" ry=\"10\" style=\"stroke: #383838; stroke-width: 1.5;\" width=\"50\" x=\"66.5\" y=\"322\"/><text fill=\"#000000\" font-family=\"sans-serif\" font-size=\"12\" lengthAdjust=\"spacingAndGlyphs\" textLength=\"22\" x=\"80.5\" y=\"338.1387\">x: A</text></a></g><g id=\"E1.E6.E8\"><a href=\"psysml:c18479a8-8a5a-4a0f-a7e4-033b0648dafb\" target=\"_top\" title=\"psysml:c18479a8-8a5a-4a0f-a7e4-033b0648dafb\" xlink:actuate=\"onRequest\" xlink:href=\"psysml:c18479a8-8a5a-4a0f-a7e4-033b0648dafb\" xlink:show=\"new\" xlink:title=\"psysml:c18479a8-8a5a-4a0f-a7e4-033b0648dafb\" xlink:type=\"simple\"><rect fill=\"#FFFFFF\" height=\"40\" id=\"E8\" rx=\"10\" ry=\"10\" style=\"stroke: #383838; stroke-width: 1.5;\" width=\"50\" x=\"66.5\" y=\"397\"/><rect fill=\"#F8F8F8\" height=\"23.9688\" rx=\"10\" ry=\"10\" style=\"stroke: #F8F8F8; stroke-width: 1.5;\" width=\"50\" x=\"66.5\" y=\"397\"/><rect fill=\"#F8F8F8\" height=\"10\" style=\"stroke: #F8F8F8; stroke-width: 1.5;\" width=\"50\" x=\"66.5\" y=\"410.9688\"/><rect fill=\"none\" height=\"40\" id=\"E8\" rx=\"10\" ry=\"10\" style=\"stroke: #383838; stroke-width: 1.5;\" width=\"50\" x=\"66.5\" y=\"397\"/><text fill=\"#000000\" font-family=\"sans-serif\" font-size=\"12\" lengthAdjust=\"spacingAndGlyphs\" textLength=\"22\" x=\"80.5\" y=\"413.1387\">y: B</text></a></g><g id=\"E1.E9.E10\"><a href=\"psysml:61feb9d5-4074-478e-84bb-b7eccf03922b\" target=\"_top\" title=\"psysml:61feb9d5-4074-478e-84bb-b7eccf03922b\" xlink:actuate=\"onRequest\" xlink:href=\"psysml:61feb9d5-4074-478e-84bb-b7eccf03922b\" xlink:show=\"new\" xlink:title=\"psysml:61feb9d5-4074-478e-84bb-b7eccf03922b\" xlink:type=\"simple\"><rect fill=\"#FFFFFF\" height=\"40\" id=\"E10\" rx=\"10\" ry=\"10\" style=\"stroke: #383838; stroke-width: 1.5;\" width=\"50\" x=\"66.5\" y=\"512\"/><rect fill=\"#F8F8F8\" height=\"23.9688\" rx=\"10\" ry=\"10\" style=\"stroke: #F8F8F8; stroke-width: 1.5;\" width=\"50\" x=\"66.5\" y=\"512\"/><rect fill=\"#F8F8F8\" height=\"10\" style=\"stroke: #F8F8F8; stroke-width: 1.5;\" width=\"50\" x=\"66.5\" y=\"525.9688\"/><rect fill=\"none\" height=\"40\" id=\"E10\" rx=\"10\" ry=\"10\" style=\"stroke: #383838; stroke-width: 1.5;\" width=\"50\" x=\"66.5\" y=\"512\"/><text fill=\"#000000\" font-family=\"sans-serif\" font-size=\"12\" lengthAdjust=\"spacingAndGlyphs\" textLength=\"22\" x=\"80.5\" y=\"528.1387\">x: A</text></a></g><g id=\"E1.E9.E11\"><a href=\"psysml:2edd355f-e967-45cc-82fe-80091bb729bd\" target=\"_top\" title=\"psysml:2edd355f-e967-45cc-82fe-80091bb729bd\" xlink:actuate=\"onRequest\" xlink:href=\"psysml:2edd355f-e967-45cc-82fe-80091bb729bd\" xlink:show=\"new\" xlink:title=\"psysml:2edd355f-e967-45cc-82fe-80091bb729bd\" xlink:type=\"simple\"><rect fill=\"#FFFFFF\" height=\"40\" id=\"E11\" rx=\"10\" ry=\"10\" style=\"stroke: #383838; stroke-width: 1.5;\" width=\"50\" x=\"66.5\" y=\"587\"/><rect fill=\"#F8F8F8\" height=\"23.9688\" rx=\"10\" ry=\"10\" style=\"stroke: #F8F8F8; stroke-width: 1.5;\" width=\"50\" x=\"66.5\" y=\"587\"/><rect fill=\"#F8F8F8\" height=\"10\" style=\"stroke: #F8F8F8; stroke-width: 1.5;\" width=\"50\" x=\"66.5\" y=\"600.9688\"/><rect fill=\"none\" height=\"40\" id=\"E11\" rx=\"10\" ry=\"10\" style=\"stroke: #383838; stroke-width: 1.5;\" width=\"50\" x=\"66.5\" y=\"587\"/><text fill=\"#000000\" font-family=\"sans-serif\" font-size=\"12\" lengthAdjust=\"spacingAndGlyphs\" textLength=\"22\" x=\"80.5\" y=\"603.1387\">y: B</text></a></g><g id=\"E1.E12\"><a href=\"psysml:530a6ae9-7dc1-4851-ab10-936e92c948f7\" target=\"_top\" title=\"psysml:530a6ae9-7dc1-4851-ab10-936e92c948f7\" xlink:actuate=\"onRequest\" xlink:href=\"psysml:530a6ae9-7dc1-4851-ab10-936e92c948f7\" xlink:show=\"new\" xlink:title=\"psysml:530a6ae9-7dc1-4851-ab10-936e92c948f7\" xlink:type=\"simple\"><rect fill=\"#FFFFFF\" height=\"40\" id=\"E12\" rx=\"10\" ry=\"10\" style=\"stroke: #383838; stroke-width: 1.5;\" width=\"50\" x=\"66.5\" y=\"662\"/><rect fill=\"#F8F8F8\" height=\"23.9688\" rx=\"10\" ry=\"10\" style=\"stroke: #F8F8F8; stroke-width: 1.5;\" width=\"50\" x=\"66.5\" y=\"662\"/><rect fill=\"#F8F8F8\" height=\"10\" style=\"stroke: #F8F8F8; stroke-width: 1.5;\" width=\"50\" x=\"66.5\" y=\"675.9688\"/><rect fill=\"none\" height=\"40\" id=\"E12\" rx=\"10\" ry=\"10\" style=\"stroke: #383838; stroke-width: 1.5;\" width=\"50\" x=\"66.5\" y=\"662\"/><text fill=\"#000000\" font-family=\"sans-serif\" font-size=\"12\" lengthAdjust=\"spacingAndGlyphs\" textLength=\"22\" x=\"80.5\" y=\"678.1387\">x: A</text></a></g><g id=\"E1.E13\"><a href=\"psysml:561bfa55-252f-4783-9fb1-458618dbf236\" target=\"_top\" title=\"psysml:561bfa55-252f-4783-9fb1-458618dbf236\" xlink:actuate=\"onRequest\" xlink:href=\"psysml:561bfa55-252f-4783-9fb1-458618dbf236\" xlink:show=\"new\" xlink:title=\"psysml:561bfa55-252f-4783-9fb1-458618dbf236\" xlink:type=\"simple\"><rect fill=\"#FFFFFF\" height=\"40\" id=\"E13\" rx=\"10\" ry=\"10\" style=\"stroke: #383838; stroke-width: 1.5;\" width=\"50\" x=\"66.5\" y=\"737\"/><rect fill=\"#F8F8F8\" height=\"23.9688\" rx=\"10\" ry=\"10\" style=\"stroke: #F8F8F8; stroke-width: 1.5;\" width=\"50\" x=\"66.5\" y=\"737\"/><rect fill=\"#F8F8F8\" height=\"10\" style=\"stroke: #F8F8F8; stroke-width: 1.5;\" width=\"50\" x=\"66.5\" y=\"750.9688\"/><rect fill=\"none\" height=\"40\" id=\"E13\" rx=\"10\" ry=\"10\" style=\"stroke: #383838; stroke-width: 1.5;\" width=\"50\" x=\"66.5\" y=\"737\"/><text fill=\"#000000\" font-family=\"sans-serif\" font-size=\"12\" lengthAdjust=\"spacingAndGlyphs\" textLength=\"22\" x=\"80.5\" y=\"753.1387\">y: B</text></a></g><!--MD5=[e364df12b96461beda6f385e12bbea09]\n",
       "@startuml\r\n",
       "skinparam ranksep 10\r\n",
       "skinparam rectangle {\r\n",
       " backgroundColor<<block>> LightGreen\r\n",
       "}\r\n",
       "left to right direction\r\n",
       "skinparam monochrome true\r\n",
       "skinparam classbackgroundcolor white\r\n",
       "skinparam shadowing false\r\n",
       "skinparam wrapWidth 300\r\n",
       "hide circle\r\n",
       "\r\n",
       "package \"CircularImport\" as E1  [[psysml:33738fcf-e3ee-4a7e-98d6-e975d5107ba1 ]]  {\r\n",
       "package \"P1\" as E2  [[psysml:130ef6c7-3ccc-43b9-a62a-eb926cce14a9 ]]  {\r\n",
       "rec def \"A\" as E3  <<(T,blue) part def>> [[psysml:cb0f7157-438a-4ad5-8a96-0def6a248a5a ]] {\r\n",
       "}\r\n",
       "}\r\n",
       "package \"P2\" as E4  [[psysml:0bc4dbd6-620a-45b9-8d32-94753792e496 ]]  {\r\n",
       "rec def \"B\" as E5  <<(T,blue) part def>> [[psysml:fa716e5d-1985-44ef-b151-4b2b4c0691ed ]] {\r\n",
       "}\r\n",
       "}\r\n",
       "package \"Test1\" as E6  [[psysml:b4043d48-e2a3-4796-9568-6bbff931ebfd ]]  {\r\n",
       "rec usage \"x: A\" as E7  [[psysml:418b0add-8d91-4a6d-810e-c529e1e5d9c2 ]] {\r\n",
       "}\r\n",
       "rec usage \"y: B\" as E8  [[psysml:c18479a8-8a5a-4a0f-a7e4-033b0648dafb ]] {\r\n",
       "}\r\n",
       "}\r\n",
       "package \"Test2\" as E9  [[psysml:85a9df72-6515-46a6-853d-c4da844a4980 ]]  {\r\n",
       "rec usage \"x: A\" as E10  [[psysml:61feb9d5-4074-478e-84bb-b7eccf03922b ]] {\r\n",
       "}\r\n",
       "rec usage \"y: B\" as E11  [[psysml:2edd355f-e967-45cc-82fe-80091bb729bd ]] {\r\n",
       "}\r\n",
       "}\r\n",
       "rec usage \"x: A\" as E12  [[psysml:530a6ae9-7dc1-4851-ab10-936e92c948f7 ]] {\r\n",
       "}\r\n",
       "rec usage \"y: B\" as E13  [[psysml:561bfa55-252f-4783-9fb1-458618dbf236 ]] {\r\n",
       "}\r\n",
       "}\r\n",
       "@enduml\r\n",
       "\n",
       "PlantUML version 1.2020.13(Sat Jun 13 12:26:38 UTC 2020)\n",
       "(EPL source distribution)\n",
       "Java Runtime: OpenJDK Runtime Environment\n",
       "JVM: OpenJDK 64-Bit Server VM\n",
       "Default Encoding: UTF-8\n",
       "Language: en\n",
       "Country: null\n",
       "--></g></svg>"
      ]
     },
     "execution_count": 19,
     "metadata": {},
     "output_type": "execute_result"
    }
   ],
   "source": [
    "%viz --style=\"LR\" --view=\"Interconnection\" \"CircularImport\""
   ]
  },
  {
   "cell_type": "code",
   "execution_count": 20,
   "id": "2d09ebc5",
   "metadata": {
    "execution": {
     "iopub.execute_input": "2021-06-30T09:15:09.394311Z",
     "iopub.status.busy": "2021-06-30T09:15:09.392482Z",
     "iopub.status.idle": "2021-06-30T09:15:09.416201Z",
     "shell.execute_reply": "2021-06-30T09:15:09.415323Z"
    }
   },
   "outputs": [
    {
     "data": {
      "image/svg+xml": [
       "<?xml version=\"1.0\" encoding=\"UTF-8\" standalone=\"no\"?><svg xmlns=\"http://www.w3.org/2000/svg\" xmlns:xlink=\"http://www.w3.org/1999/xlink\" contentScriptType=\"application/ecmascript\" contentStyleType=\"text/css\" height=\"12px\" preserveAspectRatio=\"none\" style=\"width:12px;height:12px;\" version=\"1.1\" viewBox=\"0 0 12 12\" width=\"12px\" zoomAndPan=\"magnify\"><defs/><g><!--MD5=[7aeb398939421629f6affaa4a1a7b125]\n",
       "@startuml\r\n",
       "skinparam ranksep 8\r\n",
       "left to right direction\r\n",
       "skinparam monochrome true\r\n",
       "skinparam classbackgroundcolor white\r\n",
       "skinparam shadowing false\r\n",
       "skinparam wrapWidth 300\r\n",
       "hide circle\r\n",
       "\r\n",
       "@enduml\r\n",
       "\n",
       "PlantUML version 1.2020.13(Sat Jun 13 12:26:38 UTC 2020)\n",
       "(EPL source distribution)\n",
       "Java Runtime: OpenJDK Runtime Environment\n",
       "JVM: OpenJDK 64-Bit Server VM\n",
       "Default Encoding: UTF-8\n",
       "Language: en\n",
       "Country: null\n",
       "--></g></svg>"
      ]
     },
     "execution_count": 20,
     "metadata": {},
     "output_type": "execute_result"
    }
   ],
   "source": [
    "%viz --style=\"LR\" --view=\"Action\" \"CircularImport\""
   ]
  },
  {
   "cell_type": "code",
   "execution_count": 21,
   "id": "eaa5f6eb",
   "metadata": {
    "execution": {
     "iopub.execute_input": "2021-06-30T09:15:09.467082Z",
     "iopub.status.busy": "2021-06-30T09:15:09.466336Z",
     "iopub.status.idle": "2021-06-30T09:15:09.588559Z",
     "shell.execute_reply": "2021-06-30T09:15:09.585249Z"
    }
   },
   "outputs": [
    {
     "data": {
      "image/svg+xml": [
       "<?xml version=\"1.0\" encoding=\"UTF-8\" standalone=\"no\"?><svg xmlns=\"http://www.w3.org/2000/svg\" xmlns:xlink=\"http://www.w3.org/1999/xlink\" contentScriptType=\"application/ecmascript\" contentStyleType=\"text/css\" height=\"576px\" preserveAspectRatio=\"none\" style=\"width:286px;height:576px;\" version=\"1.1\" viewBox=\"0 0 286 576\" width=\"286px\" zoomAndPan=\"magnify\"><defs/><g><!--MD5=[fbc87193dbaf4d95561dea2c320d4a47]\n",
       "cluster E1--><a href=\"psysml:33738fcf-e3ee-4a7e-98d6-e975d5107ba1\" target=\"_top\" title=\"psysml:33738fcf-e3ee-4a7e-98d6-e975d5107ba1\" xlink:actuate=\"onRequest\" xlink:href=\"psysml:33738fcf-e3ee-4a7e-98d6-e975d5107ba1\" xlink:show=\"new\" xlink:title=\"psysml:33738fcf-e3ee-4a7e-98d6-e975d5107ba1\" xlink:type=\"simple\"><polygon fill=\"#FFFFFF\" points=\"16,6,134,6,141,28.2969,264,28.2969,264,564,16,564,16,6\" style=\"stroke: #000000; stroke-width: 1.5;\"/><line style=\"stroke: #000000; stroke-width: 1.5;\" x1=\"16\" x2=\"141\" y1=\"28.2969\" y2=\"28.2969\"/><text fill=\"#000000\" font-family=\"sans-serif\" font-size=\"14\" font-weight=\"bold\" lengthAdjust=\"spacingAndGlyphs\" textLength=\"112\" x=\"20\" y=\"20.9951\">CircularImport</text></a><!--MD5=[e4f7fae6ed58524ba242bb0b0d3be6b7]\n",
       "cluster E2--><a href=\"psysml:130ef6c7-3ccc-43b9-a62a-eb926cce14a9\" target=\"_top\" title=\"psysml:130ef6c7-3ccc-43b9-a62a-eb926cce14a9\" xlink:actuate=\"onRequest\" xlink:href=\"psysml:130ef6c7-3ccc-43b9-a62a-eb926cce14a9\" xlink:show=\"new\" xlink:title=\"psysml:130ef6c7-3ccc-43b9-a62a-eb926cce14a9\" xlink:type=\"simple\"><polygon fill=\"#FFFFFF\" points=\"142,103,168,103,175,125.2969,240,125.2969,240,200,142,200,142,103\" style=\"stroke: #000000; stroke-width: 1.5;\"/><line style=\"stroke: #000000; stroke-width: 1.5;\" x1=\"142\" x2=\"175\" y1=\"125.2969\" y2=\"125.2969\"/><text fill=\"#000000\" font-family=\"sans-serif\" font-size=\"14\" font-weight=\"bold\" lengthAdjust=\"spacingAndGlyphs\" textLength=\"20\" x=\"146\" y=\"117.9951\">P1</text></a><!--MD5=[f6df4d0ebaf0b5dfb2ced0ae5af7c670]\n",
       "cluster E4--><a href=\"psysml:0bc4dbd6-620a-45b9-8d32-94753792e496\" target=\"_top\" title=\"psysml:0bc4dbd6-620a-45b9-8d32-94753792e496\" xlink:actuate=\"onRequest\" xlink:href=\"psysml:0bc4dbd6-620a-45b9-8d32-94753792e496\" xlink:show=\"new\" xlink:title=\"psysml:0bc4dbd6-620a-45b9-8d32-94753792e496\" xlink:type=\"simple\"><polygon fill=\"#FFFFFF\" points=\"142,386,168,386,175,408.2969,240,408.2969,240,483,142,483,142,386\" style=\"stroke: #000000; stroke-width: 1.5;\"/><line style=\"stroke: #000000; stroke-width: 1.5;\" x1=\"142\" x2=\"175\" y1=\"408.2969\" y2=\"408.2969\"/><text fill=\"#000000\" font-family=\"sans-serif\" font-size=\"14\" font-weight=\"bold\" lengthAdjust=\"spacingAndGlyphs\" textLength=\"20\" x=\"146\" y=\"400.9951\">P2</text></a><!--MD5=[14e3b0961a2654348d326746436168a1]\n",
       "cluster E6--><a href=\"psysml:b4043d48-e2a3-4796-9568-6bbff931ebfd\" target=\"_top\" title=\"psysml:b4043d48-e2a3-4796-9568-6bbff931ebfd\" xlink:actuate=\"onRequest\" xlink:href=\"psysml:b4043d48-e2a3-4796-9568-6bbff931ebfd\" xlink:show=\"new\" xlink:title=\"psysml:b4043d48-e2a3-4796-9568-6bbff931ebfd\" xlink:type=\"simple\"><polygon fill=\"#FFFFFF\" points=\"40,103,91,103,98,125.2969,114,125.2969,114,281,40,281,40,103\" style=\"stroke: #000000; stroke-width: 1.5;\"/><line style=\"stroke: #000000; stroke-width: 1.5;\" x1=\"40\" x2=\"98\" y1=\"125.2969\" y2=\"125.2969\"/><text fill=\"#000000\" font-family=\"sans-serif\" font-size=\"14\" font-weight=\"bold\" lengthAdjust=\"spacingAndGlyphs\" textLength=\"45\" x=\"44\" y=\"117.9951\">Test1</text></a><!--MD5=[7f149f147074ac12df2cb0a7728a5fb0]\n",
       "cluster E9--><a href=\"psysml:85a9df72-6515-46a6-853d-c4da844a4980\" target=\"_top\" title=\"psysml:85a9df72-6515-46a6-853d-c4da844a4980\" xlink:actuate=\"onRequest\" xlink:href=\"psysml:85a9df72-6515-46a6-853d-c4da844a4980\" xlink:show=\"new\" xlink:title=\"psysml:85a9df72-6515-46a6-853d-c4da844a4980\" xlink:type=\"simple\"><polygon fill=\"#FFFFFF\" points=\"40,305,91,305,98,327.2969,114,327.2969,114,483,40,483,40,305\" style=\"stroke: #000000; stroke-width: 1.5;\"/><line style=\"stroke: #000000; stroke-width: 1.5;\" x1=\"40\" x2=\"98\" y1=\"327.2969\" y2=\"327.2969\"/><text fill=\"#000000\" font-family=\"sans-serif\" font-size=\"14\" font-weight=\"bold\" lengthAdjust=\"spacingAndGlyphs\" textLength=\"45\" x=\"44\" y=\"319.9951\">Test2</text></a><!--MD5=[49a0ec8f00dab7302a31f22d0f0fe584]\n",
       "class E12--><a href=\"psysml:530a6ae9-7dc1-4851-ab10-936e92c948f7\" target=\"_top\" title=\"psysml:530a6ae9-7dc1-4851-ab10-936e92c948f7\" xlink:actuate=\"onRequest\" xlink:href=\"psysml:530a6ae9-7dc1-4851-ab10-936e92c948f7\" xlink:show=\"new\" xlink:title=\"psysml:530a6ae9-7dc1-4851-ab10-936e92c948f7\" xlink:type=\"simple\"><rect fill=\"#FFFFFF\" height=\"45.9375\" id=\"E12\" rx=\"10\" ry=\"10\" style=\"stroke: #383838; stroke-width: 1.5;\" width=\"42\" x=\"56\" y=\"41\"/><text fill=\"#000000\" font-family=\"sans-serif\" font-size=\"12\" font-style=\"italic\" lengthAdjust=\"spacingAndGlyphs\" textLength=\"40\" x=\"57\" y=\"57.1387\">«part»</text><text fill=\"#000000\" font-family=\"sans-serif\" font-size=\"12\" lengthAdjust=\"spacingAndGlyphs\" textLength=\"22\" x=\"66\" y=\"71.1074\">x: A</text><line style=\"stroke: #383838; stroke-width: 1.5;\" x1=\"57\" x2=\"97\" y1=\"78.9375\" y2=\"78.9375\"/></a><!--MD5=[ee3c913d1a06f366521f9ef512b67efe]\n",
       "class E13--><a href=\"psysml:561bfa55-252f-4783-9fb1-458618dbf236\" target=\"_top\" title=\"psysml:561bfa55-252f-4783-9fb1-458618dbf236\" xlink:actuate=\"onRequest\" xlink:href=\"psysml:561bfa55-252f-4783-9fb1-458618dbf236\" xlink:show=\"new\" xlink:title=\"psysml:561bfa55-252f-4783-9fb1-458618dbf236\" xlink:type=\"simple\"><rect fill=\"#FFFFFF\" height=\"45.9375\" id=\"E13\" rx=\"10\" ry=\"10\" style=\"stroke: #383838; stroke-width: 1.5;\" width=\"42\" x=\"56\" y=\"502\"/><text fill=\"#000000\" font-family=\"sans-serif\" font-size=\"12\" font-style=\"italic\" lengthAdjust=\"spacingAndGlyphs\" textLength=\"40\" x=\"57\" y=\"518.1387\">«part»</text><text fill=\"#000000\" font-family=\"sans-serif\" font-size=\"12\" lengthAdjust=\"spacingAndGlyphs\" textLength=\"22\" x=\"66\" y=\"532.1074\">y: B</text><line style=\"stroke: #383838; stroke-width: 1.5;\" x1=\"57\" x2=\"97\" y1=\"539.9375\" y2=\"539.9375\"/></a><!--MD5=[09b614a08d8cba4a07c9adeb5e0fee81]\n",
       "class E3--><a href=\"psysml:cb0f7157-438a-4ad5-8a96-0def6a248a5a\" target=\"_top\" title=\"psysml:cb0f7157-438a-4ad5-8a96-0def6a248a5a\" xlink:actuate=\"onRequest\" xlink:href=\"psysml:cb0f7157-438a-4ad5-8a96-0def6a248a5a\" xlink:show=\"new\" xlink:title=\"psysml:cb0f7157-438a-4ad5-8a96-0def6a248a5a\" xlink:type=\"simple\"><rect fill=\"#FFFFFF\" height=\"45.9375\" id=\"E3\" style=\"stroke: #383838; stroke-width: 1.5;\" width=\"66\" x=\"158\" y=\"138\"/><text fill=\"#000000\" font-family=\"sans-serif\" font-size=\"12\" font-style=\"italic\" lengthAdjust=\"spacingAndGlyphs\" textLength=\"64\" x=\"159\" y=\"154.1387\">«part def»</text><text fill=\"#000000\" font-family=\"sans-serif\" font-size=\"12\" lengthAdjust=\"spacingAndGlyphs\" textLength=\"8\" x=\"187\" y=\"168.1074\">A</text><line style=\"stroke: #383838; stroke-width: 1.5;\" x1=\"159\" x2=\"223\" y1=\"175.9375\" y2=\"175.9375\"/></a><!--MD5=[270fce915f116d4de14055a7c1d9a0f3]\n",
       "class E5--><a href=\"psysml:fa716e5d-1985-44ef-b151-4b2b4c0691ed\" target=\"_top\" title=\"psysml:fa716e5d-1985-44ef-b151-4b2b4c0691ed\" xlink:actuate=\"onRequest\" xlink:href=\"psysml:fa716e5d-1985-44ef-b151-4b2b4c0691ed\" xlink:show=\"new\" xlink:title=\"psysml:fa716e5d-1985-44ef-b151-4b2b4c0691ed\" xlink:type=\"simple\"><rect fill=\"#FFFFFF\" height=\"45.9375\" id=\"E5\" style=\"stroke: #383838; stroke-width: 1.5;\" width=\"66\" x=\"158\" y=\"421\"/><text fill=\"#000000\" font-family=\"sans-serif\" font-size=\"12\" font-style=\"italic\" lengthAdjust=\"spacingAndGlyphs\" textLength=\"64\" x=\"159\" y=\"437.1387\">«part def»</text><text fill=\"#000000\" font-family=\"sans-serif\" font-size=\"12\" lengthAdjust=\"spacingAndGlyphs\" textLength=\"8\" x=\"187\" y=\"451.1074\">B</text><line style=\"stroke: #383838; stroke-width: 1.5;\" x1=\"159\" x2=\"223\" y1=\"458.9375\" y2=\"458.9375\"/></a><!--MD5=[2156ba9850f5573cc1fc38a6a4b2f02b]\n",
       "class E7--><a href=\"psysml:418b0add-8d91-4a6d-810e-c529e1e5d9c2\" target=\"_top\" title=\"psysml:418b0add-8d91-4a6d-810e-c529e1e5d9c2\" xlink:actuate=\"onRequest\" xlink:href=\"psysml:418b0add-8d91-4a6d-810e-c529e1e5d9c2\" xlink:show=\"new\" xlink:title=\"psysml:418b0add-8d91-4a6d-810e-c529e1e5d9c2\" xlink:type=\"simple\"><rect fill=\"#FFFFFF\" height=\"45.9375\" id=\"E7\" rx=\"10\" ry=\"10\" style=\"stroke: #383838; stroke-width: 1.5;\" width=\"42\" x=\"56\" y=\"138\"/><text fill=\"#000000\" font-family=\"sans-serif\" font-size=\"12\" font-style=\"italic\" lengthAdjust=\"spacingAndGlyphs\" textLength=\"40\" x=\"57\" y=\"154.1387\">«part»</text><text fill=\"#000000\" font-family=\"sans-serif\" font-size=\"12\" lengthAdjust=\"spacingAndGlyphs\" textLength=\"22\" x=\"66\" y=\"168.1074\">x: A</text><line style=\"stroke: #383838; stroke-width: 1.5;\" x1=\"57\" x2=\"97\" y1=\"175.9375\" y2=\"175.9375\"/></a><!--MD5=[b9389687b975829384b498ac4b7476b2]\n",
       "class E8--><a href=\"psysml:c18479a8-8a5a-4a0f-a7e4-033b0648dafb\" target=\"_top\" title=\"psysml:c18479a8-8a5a-4a0f-a7e4-033b0648dafb\" xlink:actuate=\"onRequest\" xlink:href=\"psysml:c18479a8-8a5a-4a0f-a7e4-033b0648dafb\" xlink:show=\"new\" xlink:title=\"psysml:c18479a8-8a5a-4a0f-a7e4-033b0648dafb\" xlink:type=\"simple\"><rect fill=\"#FFFFFF\" height=\"45.9375\" id=\"E8\" rx=\"10\" ry=\"10\" style=\"stroke: #383838; stroke-width: 1.5;\" width=\"42\" x=\"56\" y=\"219\"/><text fill=\"#000000\" font-family=\"sans-serif\" font-size=\"12\" font-style=\"italic\" lengthAdjust=\"spacingAndGlyphs\" textLength=\"40\" x=\"57\" y=\"235.1387\">«part»</text><text fill=\"#000000\" font-family=\"sans-serif\" font-size=\"12\" lengthAdjust=\"spacingAndGlyphs\" textLength=\"22\" x=\"66\" y=\"249.1074\">y: B</text><line style=\"stroke: #383838; stroke-width: 1.5;\" x1=\"57\" x2=\"97\" y1=\"256.9375\" y2=\"256.9375\"/></a><!--MD5=[96f4274e9e20536e775497830990834d]\n",
       "class E10--><a href=\"psysml:61feb9d5-4074-478e-84bb-b7eccf03922b\" target=\"_top\" title=\"psysml:61feb9d5-4074-478e-84bb-b7eccf03922b\" xlink:actuate=\"onRequest\" xlink:href=\"psysml:61feb9d5-4074-478e-84bb-b7eccf03922b\" xlink:show=\"new\" xlink:title=\"psysml:61feb9d5-4074-478e-84bb-b7eccf03922b\" xlink:type=\"simple\"><rect fill=\"#FFFFFF\" height=\"45.9375\" id=\"E10\" rx=\"10\" ry=\"10\" style=\"stroke: #383838; stroke-width: 1.5;\" width=\"42\" x=\"56\" y=\"340\"/><text fill=\"#000000\" font-family=\"sans-serif\" font-size=\"12\" font-style=\"italic\" lengthAdjust=\"spacingAndGlyphs\" textLength=\"40\" x=\"57\" y=\"356.1387\">«part»</text><text fill=\"#000000\" font-family=\"sans-serif\" font-size=\"12\" lengthAdjust=\"spacingAndGlyphs\" textLength=\"22\" x=\"66\" y=\"370.1074\">x: A</text><line style=\"stroke: #383838; stroke-width: 1.5;\" x1=\"57\" x2=\"97\" y1=\"377.9375\" y2=\"377.9375\"/></a><!--MD5=[1dd1bfd58a279cf63c5f349dbc8fc6a1]\n",
       "class E11--><a href=\"psysml:2edd355f-e967-45cc-82fe-80091bb729bd\" target=\"_top\" title=\"psysml:2edd355f-e967-45cc-82fe-80091bb729bd\" xlink:actuate=\"onRequest\" xlink:href=\"psysml:2edd355f-e967-45cc-82fe-80091bb729bd\" xlink:show=\"new\" xlink:title=\"psysml:2edd355f-e967-45cc-82fe-80091bb729bd\" xlink:type=\"simple\"><rect fill=\"#FFFFFF\" height=\"45.9375\" id=\"E11\" rx=\"10\" ry=\"10\" style=\"stroke: #383838; stroke-width: 1.5;\" width=\"42\" x=\"56\" y=\"421\"/><text fill=\"#000000\" font-family=\"sans-serif\" font-size=\"12\" font-style=\"italic\" lengthAdjust=\"spacingAndGlyphs\" textLength=\"40\" x=\"57\" y=\"437.1387\">«part»</text><text fill=\"#000000\" font-family=\"sans-serif\" font-size=\"12\" lengthAdjust=\"spacingAndGlyphs\" textLength=\"22\" x=\"66\" y=\"451.1074\">y: B</text><line style=\"stroke: #383838; stroke-width: 1.5;\" x1=\"57\" x2=\"97\" y1=\"458.9375\" y2=\"458.9375\"/></a><!--MD5=[14ccda38c055a5c0da953d572bc50960]\n",
       "link E7 to E3--><a href=\"psysml:c27725e1-02a3-443e-822c-73205e66e264\" target=\"_top\" title=\"psysml:c27725e1-02a3-443e-822c-73205e66e264\" xlink:actuate=\"onRequest\" xlink:href=\"psysml:c27725e1-02a3-443e-822c-73205e66e264\" xlink:show=\"new\" xlink:title=\"psysml:c27725e1-02a3-443e-822c-73205e66e264\" xlink:type=\"simple\"><path d=\"M98.02,161 C109.18,161 123.65,161 137.79,161 \" fill=\"none\" id=\"E7-&gt;E3\" style=\"stroke: #383838; stroke-width: 1.0;\"/><polygon fill=\"#FFFFFF\" points=\"157.86,161,138.86,168,138.86,154,157.86,161\" style=\"stroke: #383838; stroke-width: 1.0;\"/><ellipse cx=\"133.16\" cy=\"166\" fill=\"#383838\" rx=\"2\" ry=\"2\" style=\"stroke: #383838; stroke-width: 1.0;\"/><ellipse cx=\"133.16\" cy=\"156\" fill=\"#383838\" rx=\"2\" ry=\"2\" style=\"stroke: #383838; stroke-width: 1.0;\"/></a><!--MD5=[1ccb2481ffa92f8d51a74ee30c51832a]\n",
       "link E8 to E5--><a href=\"psysml:43ceeb8e-eeaf-4aa9-b958-61b6f980f202\" target=\"_top\" title=\"psysml:43ceeb8e-eeaf-4aa9-b958-61b6f980f202\" xlink:actuate=\"onRequest\" xlink:href=\"psysml:43ceeb8e-eeaf-4aa9-b958-61b6f980f202\" xlink:show=\"new\" xlink:title=\"psysml:43ceeb8e-eeaf-4aa9-b958-61b6f980f202\" xlink:type=\"simple\"><path d=\"M90.85,265.17 C109.49,298.8 144.32,361.62 167.34,403.13 \" fill=\"none\" id=\"E8-&gt;E5\" style=\"stroke: #383838; stroke-width: 1.0;\"/><polygon fill=\"#FFFFFF\" points=\"177.13,420.79,161.7919,407.5709,174.0344,400.7796,177.13,420.79\" style=\"stroke: #383838; stroke-width: 1.0;\"/><ellipse cx=\"160.7758\" cy=\"401.6163\" fill=\"#383838\" rx=\"2\" ry=\"2\" style=\"stroke: #383838; stroke-width: 1.0;\"/><ellipse cx=\"169.5204\" cy=\"396.7653\" fill=\"#383838\" rx=\"2\" ry=\"2\" style=\"stroke: #383838; stroke-width: 1.0;\"/></a><!--MD5=[feeac5eb423634930294aa81f2d25a4c]\n",
       "link E10 to E3--><a href=\"psysml:2f015e6c-7efc-43fd-92bb-26e8cb5e6a22\" target=\"_top\" title=\"psysml:2f015e6c-7efc-43fd-92bb-26e8cb5e6a22\" xlink:actuate=\"onRequest\" xlink:href=\"psysml:2f015e6c-7efc-43fd-92bb-26e8cb5e6a22\" xlink:show=\"new\" xlink:title=\"psysml:2f015e6c-7efc-43fd-92bb-26e8cb5e6a22\" xlink:type=\"simple\"><path d=\"M90.85,339.83 C109.49,306.2 144.32,243.38 167.34,201.87 \" fill=\"none\" id=\"E10-&gt;E3\" style=\"stroke: #383838; stroke-width: 1.0;\"/><polygon fill=\"#FFFFFF\" points=\"177.13,184.21,174.0344,204.2204,161.7919,197.4291,177.13,184.21\" style=\"stroke: #383838; stroke-width: 1.0;\"/><ellipse cx=\"169.5204\" cy=\"208.2347\" fill=\"#383838\" rx=\"2\" ry=\"2\" style=\"stroke: #383838; stroke-width: 1.0;\"/><ellipse cx=\"160.7758\" cy=\"203.3837\" fill=\"#383838\" rx=\"2\" ry=\"2\" style=\"stroke: #383838; stroke-width: 1.0;\"/></a><!--MD5=[07b77f6f309248d16187045709d1c26e]\n",
       "link E11 to E5--><a href=\"psysml:7cf9fed8-155f-433e-a01b-9d13c54aa089\" target=\"_top\" title=\"psysml:7cf9fed8-155f-433e-a01b-9d13c54aa089\" xlink:actuate=\"onRequest\" xlink:href=\"psysml:7cf9fed8-155f-433e-a01b-9d13c54aa089\" xlink:show=\"new\" xlink:title=\"psysml:7cf9fed8-155f-433e-a01b-9d13c54aa089\" xlink:type=\"simple\"><path d=\"M98.02,444 C109.18,444 123.65,444 137.79,444 \" fill=\"none\" id=\"E11-&gt;E5\" style=\"stroke: #383838; stroke-width: 1.0;\"/><polygon fill=\"#FFFFFF\" points=\"157.86,444,138.86,451,138.86,437,157.86,444\" style=\"stroke: #383838; stroke-width: 1.0;\"/><ellipse cx=\"133.16\" cy=\"449\" fill=\"#383838\" rx=\"2\" ry=\"2\" style=\"stroke: #383838; stroke-width: 1.0;\"/><ellipse cx=\"133.16\" cy=\"439\" fill=\"#383838\" rx=\"2\" ry=\"2\" style=\"stroke: #383838; stroke-width: 1.0;\"/></a><!--MD5=[39f41a0e550fb3d73b4d8135617e30a2]\n",
       "link E12 to E3--><a href=\"psysml:2b9be10b-590f-4358-bedf-a86ab0ed6bce\" target=\"_top\" title=\"psysml:2b9be10b-590f-4358-bedf-a86ab0ed6bce\" xlink:actuate=\"onRequest\" xlink:href=\"psysml:2b9be10b-590f-4358-bedf-a86ab0ed6bce\" xlink:show=\"new\" xlink:title=\"psysml:2b9be10b-590f-4358-bedf-a86ab0ed6bce\" xlink:type=\"simple\"><path d=\"M98.02,81.34 C111.92,93.38 130.95,109.86 148.09,124.7 \" fill=\"none\" id=\"E12-&gt;E3\" style=\"stroke: #383838; stroke-width: 1.0;\"/><polygon fill=\"#FFFFFF\" points=\"163.41,137.97,144.4677,130.8155,153.6371,120.2361,163.41,137.97\" style=\"stroke: #383838; stroke-width: 1.0;\"/><ellipse cx=\"141.4703\" cy=\"125.5709\" fill=\"#383838\" rx=\"2\" ry=\"2\" style=\"stroke: #383838; stroke-width: 1.0;\"/><ellipse cx=\"148.0199\" cy=\"118.0142\" fill=\"#383838\" rx=\"2\" ry=\"2\" style=\"stroke: #383838; stroke-width: 1.0;\"/></a><!--MD5=[066b2d8af59fea80ccdb3d54ad5c1091]\n",
       "link E13 to E5--><a href=\"psysml:78896435-f936-4df6-9172-2ff6f9da23d9\" target=\"_top\" title=\"psysml:78896435-f936-4df6-9172-2ff6f9da23d9\" xlink:actuate=\"onRequest\" xlink:href=\"psysml:78896435-f936-4df6-9172-2ff6f9da23d9\" xlink:show=\"new\" xlink:title=\"psysml:78896435-f936-4df6-9172-2ff6f9da23d9\" xlink:type=\"simple\"><path d=\"M98.02,510.52 C110.09,501.79 126.03,490.27 141.24,479.27 \" fill=\"none\" id=\"E13-&gt;E5\" style=\"stroke: #383838; stroke-width: 1.0;\"/><polygon fill=\"#FFFFFF\" points=\"157.86,467.25,146.5582,484.0509,138.3595,472.7027,157.86,467.25\" style=\"stroke: #383838; stroke-width: 1.0;\"/><ellipse cx=\"140.7667\" cy=\"485.7678\" fill=\"#383838\" rx=\"2\" ry=\"2\" style=\"stroke: #383838; stroke-width: 1.0;\"/><ellipse cx=\"134.9104\" cy=\"477.6619\" fill=\"#383838\" rx=\"2\" ry=\"2\" style=\"stroke: #383838; stroke-width: 1.0;\"/></a><!--MD5=[64214a45567fc67504625b0afc239e12]\n",
       "@startuml\r\n",
       "left to right direction\r\n",
       "skinparam monochrome true\r\n",
       "skinparam classbackgroundcolor white\r\n",
       "skinparam shadowing false\r\n",
       "skinparam wrapWidth 300\r\n",
       "hide circle\r\n",
       "\r\n",
       "package \"CircularImport\" as E1  [[psysml:33738fcf-e3ee-4a7e-98d6-e975d5107ba1 ]]  {\r\n",
       "package \"P1\" as E2  [[psysml:130ef6c7-3ccc-43b9-a62a-eb926cce14a9 ]]  {\r\n",
       "comp def \"A\" as E3  <<(T,blue) part def>> [[psysml:cb0f7157-438a-4ad5-8a96-0def6a248a5a ]] {\r\n",
       "}\r\n",
       "}\r\n",
       "package \"P2\" as E4  [[psysml:0bc4dbd6-620a-45b9-8d32-94753792e496 ]]  {\r\n",
       "comp def \"B\" as E5  <<(T,blue) part def>> [[psysml:fa716e5d-1985-44ef-b151-4b2b4c0691ed ]] {\r\n",
       "}\r\n",
       "}\r\n",
       "package \"Test1\" as E6  [[psysml:b4043d48-e2a3-4796-9568-6bbff931ebfd ]]  {\r\n",
       "comp usage \"x: A\" as E7  <<(T,blue) part>> [[psysml:418b0add-8d91-4a6d-810e-c529e1e5d9c2 ]] {\r\n",
       "}\r\n",
       "comp usage \"y: B\" as E8  <<(T,blue) part>> [[psysml:c18479a8-8a5a-4a0f-a7e4-033b0648dafb ]] {\r\n",
       "}\r\n",
       "E7 - -:|> E3 [[psysml:c27725e1-02a3-443e-822c-73205e66e264 ]] \r\n",
       "E8 - -:|> E5 [[psysml:43ceeb8e-eeaf-4aa9-b958-61b6f980f202 ]] \r\n",
       "}\r\n",
       "package \"Test2\" as E9  [[psysml:85a9df72-6515-46a6-853d-c4da844a4980 ]]  {\r\n",
       "comp usage \"x: A\" as E10  <<(T,blue) part>> [[psysml:61feb9d5-4074-478e-84bb-b7eccf03922b ]] {\r\n",
       "}\r\n",
       "comp usage \"y: B\" as E11  <<(T,blue) part>> [[psysml:2edd355f-e967-45cc-82fe-80091bb729bd ]] {\r\n",
       "}\r\n",
       "E10 - -:|> E3 [[psysml:2f015e6c-7efc-43fd-92bb-26e8cb5e6a22 ]] \r\n",
       "E11 - -:|> E5 [[psysml:7cf9fed8-155f-433e-a01b-9d13c54aa089 ]] \r\n",
       "}\r\n",
       "comp usage \"x: A\" as E12  <<(T,blue) part>> [[psysml:530a6ae9-7dc1-4851-ab10-936e92c948f7 ]] {\r\n",
       "}\r\n",
       "comp usage \"y: B\" as E13  <<(T,blue) part>> [[psysml:561bfa55-252f-4783-9fb1-458618dbf236 ]] {\r\n",
       "}\r\n",
       "E12 - -:|> E3 [[psysml:2b9be10b-590f-4358-bedf-a86ab0ed6bce ]] \r\n",
       "E13 - -:|> E5 [[psysml:78896435-f936-4df6-9172-2ff6f9da23d9 ]] \r\n",
       "}\r\n",
       "@enduml\r\n",
       "\n",
       "PlantUML version 1.2020.13(Sat Jun 13 12:26:38 UTC 2020)\n",
       "(EPL source distribution)\n",
       "Java Runtime: OpenJDK Runtime Environment\n",
       "JVM: OpenJDK 64-Bit Server VM\n",
       "Default Encoding: UTF-8\n",
       "Language: en\n",
       "Country: null\n",
       "--></g></svg>"
      ]
     },
     "execution_count": 21,
     "metadata": {},
     "output_type": "execute_result"
    }
   ],
   "source": [
    "%viz --style=\"LR\" --view=\"Sequence\" \"CircularImport\""
   ]
  },
  {
   "cell_type": "code",
   "execution_count": 22,
   "id": "8a61d5e7",
   "metadata": {
    "execution": {
     "iopub.execute_input": "2021-06-30T09:15:09.641631Z",
     "iopub.status.busy": "2021-06-30T09:15:09.640435Z",
     "iopub.status.idle": "2021-06-30T09:15:09.746091Z",
     "shell.execute_reply": "2021-06-30T09:15:09.746853Z"
    }
   },
   "outputs": [
    {
     "data": {
      "image/svg+xml": [
       "<?xml version=\"1.0\" encoding=\"UTF-8\" standalone=\"no\"?><svg xmlns=\"http://www.w3.org/2000/svg\" xmlns:xlink=\"http://www.w3.org/1999/xlink\" contentScriptType=\"application/ecmascript\" contentStyleType=\"text/css\" height=\"576px\" preserveAspectRatio=\"none\" style=\"width:286px;height:576px;\" version=\"1.1\" viewBox=\"0 0 286 576\" width=\"286px\" zoomAndPan=\"magnify\"><defs/><g><!--MD5=[fbc87193dbaf4d95561dea2c320d4a47]\n",
       "cluster E1--><a href=\"psysml:33738fcf-e3ee-4a7e-98d6-e975d5107ba1\" target=\"_top\" title=\"psysml:33738fcf-e3ee-4a7e-98d6-e975d5107ba1\" xlink:actuate=\"onRequest\" xlink:href=\"psysml:33738fcf-e3ee-4a7e-98d6-e975d5107ba1\" xlink:show=\"new\" xlink:title=\"psysml:33738fcf-e3ee-4a7e-98d6-e975d5107ba1\" xlink:type=\"simple\"><polygon fill=\"#FFFFFF\" points=\"16,6,134,6,141,28.2969,264,28.2969,264,564,16,564,16,6\" style=\"stroke: #000000; stroke-width: 1.5;\"/><line style=\"stroke: #000000; stroke-width: 1.5;\" x1=\"16\" x2=\"141\" y1=\"28.2969\" y2=\"28.2969\"/><text fill=\"#000000\" font-family=\"sans-serif\" font-size=\"14\" font-weight=\"bold\" lengthAdjust=\"spacingAndGlyphs\" textLength=\"112\" x=\"20\" y=\"20.9951\">CircularImport</text></a><!--MD5=[e4f7fae6ed58524ba242bb0b0d3be6b7]\n",
       "cluster E2--><a href=\"psysml:130ef6c7-3ccc-43b9-a62a-eb926cce14a9\" target=\"_top\" title=\"psysml:130ef6c7-3ccc-43b9-a62a-eb926cce14a9\" xlink:actuate=\"onRequest\" xlink:href=\"psysml:130ef6c7-3ccc-43b9-a62a-eb926cce14a9\" xlink:show=\"new\" xlink:title=\"psysml:130ef6c7-3ccc-43b9-a62a-eb926cce14a9\" xlink:type=\"simple\"><polygon fill=\"#FFFFFF\" points=\"142,103,168,103,175,125.2969,240,125.2969,240,200,142,200,142,103\" style=\"stroke: #000000; stroke-width: 1.5;\"/><line style=\"stroke: #000000; stroke-width: 1.5;\" x1=\"142\" x2=\"175\" y1=\"125.2969\" y2=\"125.2969\"/><text fill=\"#000000\" font-family=\"sans-serif\" font-size=\"14\" font-weight=\"bold\" lengthAdjust=\"spacingAndGlyphs\" textLength=\"20\" x=\"146\" y=\"117.9951\">P1</text></a><!--MD5=[f6df4d0ebaf0b5dfb2ced0ae5af7c670]\n",
       "cluster E4--><a href=\"psysml:0bc4dbd6-620a-45b9-8d32-94753792e496\" target=\"_top\" title=\"psysml:0bc4dbd6-620a-45b9-8d32-94753792e496\" xlink:actuate=\"onRequest\" xlink:href=\"psysml:0bc4dbd6-620a-45b9-8d32-94753792e496\" xlink:show=\"new\" xlink:title=\"psysml:0bc4dbd6-620a-45b9-8d32-94753792e496\" xlink:type=\"simple\"><polygon fill=\"#FFFFFF\" points=\"142,386,168,386,175,408.2969,240,408.2969,240,483,142,483,142,386\" style=\"stroke: #000000; stroke-width: 1.5;\"/><line style=\"stroke: #000000; stroke-width: 1.5;\" x1=\"142\" x2=\"175\" y1=\"408.2969\" y2=\"408.2969\"/><text fill=\"#000000\" font-family=\"sans-serif\" font-size=\"14\" font-weight=\"bold\" lengthAdjust=\"spacingAndGlyphs\" textLength=\"20\" x=\"146\" y=\"400.9951\">P2</text></a><!--MD5=[14e3b0961a2654348d326746436168a1]\n",
       "cluster E6--><a href=\"psysml:b4043d48-e2a3-4796-9568-6bbff931ebfd\" target=\"_top\" title=\"psysml:b4043d48-e2a3-4796-9568-6bbff931ebfd\" xlink:actuate=\"onRequest\" xlink:href=\"psysml:b4043d48-e2a3-4796-9568-6bbff931ebfd\" xlink:show=\"new\" xlink:title=\"psysml:b4043d48-e2a3-4796-9568-6bbff931ebfd\" xlink:type=\"simple\"><polygon fill=\"#FFFFFF\" points=\"40,103,91,103,98,125.2969,114,125.2969,114,281,40,281,40,103\" style=\"stroke: #000000; stroke-width: 1.5;\"/><line style=\"stroke: #000000; stroke-width: 1.5;\" x1=\"40\" x2=\"98\" y1=\"125.2969\" y2=\"125.2969\"/><text fill=\"#000000\" font-family=\"sans-serif\" font-size=\"14\" font-weight=\"bold\" lengthAdjust=\"spacingAndGlyphs\" textLength=\"45\" x=\"44\" y=\"117.9951\">Test1</text></a><!--MD5=[7f149f147074ac12df2cb0a7728a5fb0]\n",
       "cluster E9--><a href=\"psysml:85a9df72-6515-46a6-853d-c4da844a4980\" target=\"_top\" title=\"psysml:85a9df72-6515-46a6-853d-c4da844a4980\" xlink:actuate=\"onRequest\" xlink:href=\"psysml:85a9df72-6515-46a6-853d-c4da844a4980\" xlink:show=\"new\" xlink:title=\"psysml:85a9df72-6515-46a6-853d-c4da844a4980\" xlink:type=\"simple\"><polygon fill=\"#FFFFFF\" points=\"40,305,91,305,98,327.2969,114,327.2969,114,483,40,483,40,305\" style=\"stroke: #000000; stroke-width: 1.5;\"/><line style=\"stroke: #000000; stroke-width: 1.5;\" x1=\"40\" x2=\"98\" y1=\"327.2969\" y2=\"327.2969\"/><text fill=\"#000000\" font-family=\"sans-serif\" font-size=\"14\" font-weight=\"bold\" lengthAdjust=\"spacingAndGlyphs\" textLength=\"45\" x=\"44\" y=\"319.9951\">Test2</text></a><!--MD5=[49a0ec8f00dab7302a31f22d0f0fe584]\n",
       "class E12--><a href=\"psysml:530a6ae9-7dc1-4851-ab10-936e92c948f7\" target=\"_top\" title=\"psysml:530a6ae9-7dc1-4851-ab10-936e92c948f7\" xlink:actuate=\"onRequest\" xlink:href=\"psysml:530a6ae9-7dc1-4851-ab10-936e92c948f7\" xlink:show=\"new\" xlink:title=\"psysml:530a6ae9-7dc1-4851-ab10-936e92c948f7\" xlink:type=\"simple\"><rect fill=\"#FFFFFF\" height=\"45.9375\" id=\"E12\" rx=\"10\" ry=\"10\" style=\"stroke: #383838; stroke-width: 1.5;\" width=\"42\" x=\"56\" y=\"41\"/><text fill=\"#000000\" font-family=\"sans-serif\" font-size=\"12\" font-style=\"italic\" lengthAdjust=\"spacingAndGlyphs\" textLength=\"40\" x=\"57\" y=\"57.1387\">«part»</text><text fill=\"#000000\" font-family=\"sans-serif\" font-size=\"12\" lengthAdjust=\"spacingAndGlyphs\" textLength=\"22\" x=\"66\" y=\"71.1074\">x: A</text><line style=\"stroke: #383838; stroke-width: 1.5;\" x1=\"57\" x2=\"97\" y1=\"78.9375\" y2=\"78.9375\"/></a><!--MD5=[ee3c913d1a06f366521f9ef512b67efe]\n",
       "class E13--><a href=\"psysml:561bfa55-252f-4783-9fb1-458618dbf236\" target=\"_top\" title=\"psysml:561bfa55-252f-4783-9fb1-458618dbf236\" xlink:actuate=\"onRequest\" xlink:href=\"psysml:561bfa55-252f-4783-9fb1-458618dbf236\" xlink:show=\"new\" xlink:title=\"psysml:561bfa55-252f-4783-9fb1-458618dbf236\" xlink:type=\"simple\"><rect fill=\"#FFFFFF\" height=\"45.9375\" id=\"E13\" rx=\"10\" ry=\"10\" style=\"stroke: #383838; stroke-width: 1.5;\" width=\"42\" x=\"56\" y=\"502\"/><text fill=\"#000000\" font-family=\"sans-serif\" font-size=\"12\" font-style=\"italic\" lengthAdjust=\"spacingAndGlyphs\" textLength=\"40\" x=\"57\" y=\"518.1387\">«part»</text><text fill=\"#000000\" font-family=\"sans-serif\" font-size=\"12\" lengthAdjust=\"spacingAndGlyphs\" textLength=\"22\" x=\"66\" y=\"532.1074\">y: B</text><line style=\"stroke: #383838; stroke-width: 1.5;\" x1=\"57\" x2=\"97\" y1=\"539.9375\" y2=\"539.9375\"/></a><!--MD5=[09b614a08d8cba4a07c9adeb5e0fee81]\n",
       "class E3--><a href=\"psysml:cb0f7157-438a-4ad5-8a96-0def6a248a5a\" target=\"_top\" title=\"psysml:cb0f7157-438a-4ad5-8a96-0def6a248a5a\" xlink:actuate=\"onRequest\" xlink:href=\"psysml:cb0f7157-438a-4ad5-8a96-0def6a248a5a\" xlink:show=\"new\" xlink:title=\"psysml:cb0f7157-438a-4ad5-8a96-0def6a248a5a\" xlink:type=\"simple\"><rect fill=\"#FFFFFF\" height=\"45.9375\" id=\"E3\" style=\"stroke: #383838; stroke-width: 1.5;\" width=\"66\" x=\"158\" y=\"138\"/><text fill=\"#000000\" font-family=\"sans-serif\" font-size=\"12\" font-style=\"italic\" lengthAdjust=\"spacingAndGlyphs\" textLength=\"64\" x=\"159\" y=\"154.1387\">«part def»</text><text fill=\"#000000\" font-family=\"sans-serif\" font-size=\"12\" lengthAdjust=\"spacingAndGlyphs\" textLength=\"8\" x=\"187\" y=\"168.1074\">A</text><line style=\"stroke: #383838; stroke-width: 1.5;\" x1=\"159\" x2=\"223\" y1=\"175.9375\" y2=\"175.9375\"/></a><!--MD5=[270fce915f116d4de14055a7c1d9a0f3]\n",
       "class E5--><a href=\"psysml:fa716e5d-1985-44ef-b151-4b2b4c0691ed\" target=\"_top\" title=\"psysml:fa716e5d-1985-44ef-b151-4b2b4c0691ed\" xlink:actuate=\"onRequest\" xlink:href=\"psysml:fa716e5d-1985-44ef-b151-4b2b4c0691ed\" xlink:show=\"new\" xlink:title=\"psysml:fa716e5d-1985-44ef-b151-4b2b4c0691ed\" xlink:type=\"simple\"><rect fill=\"#FFFFFF\" height=\"45.9375\" id=\"E5\" style=\"stroke: #383838; stroke-width: 1.5;\" width=\"66\" x=\"158\" y=\"421\"/><text fill=\"#000000\" font-family=\"sans-serif\" font-size=\"12\" font-style=\"italic\" lengthAdjust=\"spacingAndGlyphs\" textLength=\"64\" x=\"159\" y=\"437.1387\">«part def»</text><text fill=\"#000000\" font-family=\"sans-serif\" font-size=\"12\" lengthAdjust=\"spacingAndGlyphs\" textLength=\"8\" x=\"187\" y=\"451.1074\">B</text><line style=\"stroke: #383838; stroke-width: 1.5;\" x1=\"159\" x2=\"223\" y1=\"458.9375\" y2=\"458.9375\"/></a><!--MD5=[2156ba9850f5573cc1fc38a6a4b2f02b]\n",
       "class E7--><a href=\"psysml:418b0add-8d91-4a6d-810e-c529e1e5d9c2\" target=\"_top\" title=\"psysml:418b0add-8d91-4a6d-810e-c529e1e5d9c2\" xlink:actuate=\"onRequest\" xlink:href=\"psysml:418b0add-8d91-4a6d-810e-c529e1e5d9c2\" xlink:show=\"new\" xlink:title=\"psysml:418b0add-8d91-4a6d-810e-c529e1e5d9c2\" xlink:type=\"simple\"><rect fill=\"#FFFFFF\" height=\"45.9375\" id=\"E7\" rx=\"10\" ry=\"10\" style=\"stroke: #383838; stroke-width: 1.5;\" width=\"42\" x=\"56\" y=\"138\"/><text fill=\"#000000\" font-family=\"sans-serif\" font-size=\"12\" font-style=\"italic\" lengthAdjust=\"spacingAndGlyphs\" textLength=\"40\" x=\"57\" y=\"154.1387\">«part»</text><text fill=\"#000000\" font-family=\"sans-serif\" font-size=\"12\" lengthAdjust=\"spacingAndGlyphs\" textLength=\"22\" x=\"66\" y=\"168.1074\">x: A</text><line style=\"stroke: #383838; stroke-width: 1.5;\" x1=\"57\" x2=\"97\" y1=\"175.9375\" y2=\"175.9375\"/></a><!--MD5=[b9389687b975829384b498ac4b7476b2]\n",
       "class E8--><a href=\"psysml:c18479a8-8a5a-4a0f-a7e4-033b0648dafb\" target=\"_top\" title=\"psysml:c18479a8-8a5a-4a0f-a7e4-033b0648dafb\" xlink:actuate=\"onRequest\" xlink:href=\"psysml:c18479a8-8a5a-4a0f-a7e4-033b0648dafb\" xlink:show=\"new\" xlink:title=\"psysml:c18479a8-8a5a-4a0f-a7e4-033b0648dafb\" xlink:type=\"simple\"><rect fill=\"#FFFFFF\" height=\"45.9375\" id=\"E8\" rx=\"10\" ry=\"10\" style=\"stroke: #383838; stroke-width: 1.5;\" width=\"42\" x=\"56\" y=\"219\"/><text fill=\"#000000\" font-family=\"sans-serif\" font-size=\"12\" font-style=\"italic\" lengthAdjust=\"spacingAndGlyphs\" textLength=\"40\" x=\"57\" y=\"235.1387\">«part»</text><text fill=\"#000000\" font-family=\"sans-serif\" font-size=\"12\" lengthAdjust=\"spacingAndGlyphs\" textLength=\"22\" x=\"66\" y=\"249.1074\">y: B</text><line style=\"stroke: #383838; stroke-width: 1.5;\" x1=\"57\" x2=\"97\" y1=\"256.9375\" y2=\"256.9375\"/></a><!--MD5=[96f4274e9e20536e775497830990834d]\n",
       "class E10--><a href=\"psysml:61feb9d5-4074-478e-84bb-b7eccf03922b\" target=\"_top\" title=\"psysml:61feb9d5-4074-478e-84bb-b7eccf03922b\" xlink:actuate=\"onRequest\" xlink:href=\"psysml:61feb9d5-4074-478e-84bb-b7eccf03922b\" xlink:show=\"new\" xlink:title=\"psysml:61feb9d5-4074-478e-84bb-b7eccf03922b\" xlink:type=\"simple\"><rect fill=\"#FFFFFF\" height=\"45.9375\" id=\"E10\" rx=\"10\" ry=\"10\" style=\"stroke: #383838; stroke-width: 1.5;\" width=\"42\" x=\"56\" y=\"340\"/><text fill=\"#000000\" font-family=\"sans-serif\" font-size=\"12\" font-style=\"italic\" lengthAdjust=\"spacingAndGlyphs\" textLength=\"40\" x=\"57\" y=\"356.1387\">«part»</text><text fill=\"#000000\" font-family=\"sans-serif\" font-size=\"12\" lengthAdjust=\"spacingAndGlyphs\" textLength=\"22\" x=\"66\" y=\"370.1074\">x: A</text><line style=\"stroke: #383838; stroke-width: 1.5;\" x1=\"57\" x2=\"97\" y1=\"377.9375\" y2=\"377.9375\"/></a><!--MD5=[1dd1bfd58a279cf63c5f349dbc8fc6a1]\n",
       "class E11--><a href=\"psysml:2edd355f-e967-45cc-82fe-80091bb729bd\" target=\"_top\" title=\"psysml:2edd355f-e967-45cc-82fe-80091bb729bd\" xlink:actuate=\"onRequest\" xlink:href=\"psysml:2edd355f-e967-45cc-82fe-80091bb729bd\" xlink:show=\"new\" xlink:title=\"psysml:2edd355f-e967-45cc-82fe-80091bb729bd\" xlink:type=\"simple\"><rect fill=\"#FFFFFF\" height=\"45.9375\" id=\"E11\" rx=\"10\" ry=\"10\" style=\"stroke: #383838; stroke-width: 1.5;\" width=\"42\" x=\"56\" y=\"421\"/><text fill=\"#000000\" font-family=\"sans-serif\" font-size=\"12\" font-style=\"italic\" lengthAdjust=\"spacingAndGlyphs\" textLength=\"40\" x=\"57\" y=\"437.1387\">«part»</text><text fill=\"#000000\" font-family=\"sans-serif\" font-size=\"12\" lengthAdjust=\"spacingAndGlyphs\" textLength=\"22\" x=\"66\" y=\"451.1074\">y: B</text><line style=\"stroke: #383838; stroke-width: 1.5;\" x1=\"57\" x2=\"97\" y1=\"458.9375\" y2=\"458.9375\"/></a><!--MD5=[14ccda38c055a5c0da953d572bc50960]\n",
       "link E7 to E3--><a href=\"psysml:c27725e1-02a3-443e-822c-73205e66e264\" target=\"_top\" title=\"psysml:c27725e1-02a3-443e-822c-73205e66e264\" xlink:actuate=\"onRequest\" xlink:href=\"psysml:c27725e1-02a3-443e-822c-73205e66e264\" xlink:show=\"new\" xlink:title=\"psysml:c27725e1-02a3-443e-822c-73205e66e264\" xlink:type=\"simple\"><path d=\"M98.02,161 C109.18,161 123.65,161 137.79,161 \" fill=\"none\" id=\"E7-&gt;E3\" style=\"stroke: #383838; stroke-width: 1.0;\"/><polygon fill=\"#FFFFFF\" points=\"157.86,161,138.86,168,138.86,154,157.86,161\" style=\"stroke: #383838; stroke-width: 1.0;\"/><ellipse cx=\"133.16\" cy=\"166\" fill=\"#383838\" rx=\"2\" ry=\"2\" style=\"stroke: #383838; stroke-width: 1.0;\"/><ellipse cx=\"133.16\" cy=\"156\" fill=\"#383838\" rx=\"2\" ry=\"2\" style=\"stroke: #383838; stroke-width: 1.0;\"/></a><!--MD5=[1ccb2481ffa92f8d51a74ee30c51832a]\n",
       "link E8 to E5--><a href=\"psysml:43ceeb8e-eeaf-4aa9-b958-61b6f980f202\" target=\"_top\" title=\"psysml:43ceeb8e-eeaf-4aa9-b958-61b6f980f202\" xlink:actuate=\"onRequest\" xlink:href=\"psysml:43ceeb8e-eeaf-4aa9-b958-61b6f980f202\" xlink:show=\"new\" xlink:title=\"psysml:43ceeb8e-eeaf-4aa9-b958-61b6f980f202\" xlink:type=\"simple\"><path d=\"M90.85,265.17 C109.49,298.8 144.32,361.62 167.34,403.13 \" fill=\"none\" id=\"E8-&gt;E5\" style=\"stroke: #383838; stroke-width: 1.0;\"/><polygon fill=\"#FFFFFF\" points=\"177.13,420.79,161.7919,407.5709,174.0344,400.7796,177.13,420.79\" style=\"stroke: #383838; stroke-width: 1.0;\"/><ellipse cx=\"160.7758\" cy=\"401.6163\" fill=\"#383838\" rx=\"2\" ry=\"2\" style=\"stroke: #383838; stroke-width: 1.0;\"/><ellipse cx=\"169.5204\" cy=\"396.7653\" fill=\"#383838\" rx=\"2\" ry=\"2\" style=\"stroke: #383838; stroke-width: 1.0;\"/></a><!--MD5=[feeac5eb423634930294aa81f2d25a4c]\n",
       "link E10 to E3--><a href=\"psysml:2f015e6c-7efc-43fd-92bb-26e8cb5e6a22\" target=\"_top\" title=\"psysml:2f015e6c-7efc-43fd-92bb-26e8cb5e6a22\" xlink:actuate=\"onRequest\" xlink:href=\"psysml:2f015e6c-7efc-43fd-92bb-26e8cb5e6a22\" xlink:show=\"new\" xlink:title=\"psysml:2f015e6c-7efc-43fd-92bb-26e8cb5e6a22\" xlink:type=\"simple\"><path d=\"M90.85,339.83 C109.49,306.2 144.32,243.38 167.34,201.87 \" fill=\"none\" id=\"E10-&gt;E3\" style=\"stroke: #383838; stroke-width: 1.0;\"/><polygon fill=\"#FFFFFF\" points=\"177.13,184.21,174.0344,204.2204,161.7919,197.4291,177.13,184.21\" style=\"stroke: #383838; stroke-width: 1.0;\"/><ellipse cx=\"169.5204\" cy=\"208.2347\" fill=\"#383838\" rx=\"2\" ry=\"2\" style=\"stroke: #383838; stroke-width: 1.0;\"/><ellipse cx=\"160.7758\" cy=\"203.3837\" fill=\"#383838\" rx=\"2\" ry=\"2\" style=\"stroke: #383838; stroke-width: 1.0;\"/></a><!--MD5=[07b77f6f309248d16187045709d1c26e]\n",
       "link E11 to E5--><a href=\"psysml:7cf9fed8-155f-433e-a01b-9d13c54aa089\" target=\"_top\" title=\"psysml:7cf9fed8-155f-433e-a01b-9d13c54aa089\" xlink:actuate=\"onRequest\" xlink:href=\"psysml:7cf9fed8-155f-433e-a01b-9d13c54aa089\" xlink:show=\"new\" xlink:title=\"psysml:7cf9fed8-155f-433e-a01b-9d13c54aa089\" xlink:type=\"simple\"><path d=\"M98.02,444 C109.18,444 123.65,444 137.79,444 \" fill=\"none\" id=\"E11-&gt;E5\" style=\"stroke: #383838; stroke-width: 1.0;\"/><polygon fill=\"#FFFFFF\" points=\"157.86,444,138.86,451,138.86,437,157.86,444\" style=\"stroke: #383838; stroke-width: 1.0;\"/><ellipse cx=\"133.16\" cy=\"449\" fill=\"#383838\" rx=\"2\" ry=\"2\" style=\"stroke: #383838; stroke-width: 1.0;\"/><ellipse cx=\"133.16\" cy=\"439\" fill=\"#383838\" rx=\"2\" ry=\"2\" style=\"stroke: #383838; stroke-width: 1.0;\"/></a><!--MD5=[39f41a0e550fb3d73b4d8135617e30a2]\n",
       "link E12 to E3--><a href=\"psysml:2b9be10b-590f-4358-bedf-a86ab0ed6bce\" target=\"_top\" title=\"psysml:2b9be10b-590f-4358-bedf-a86ab0ed6bce\" xlink:actuate=\"onRequest\" xlink:href=\"psysml:2b9be10b-590f-4358-bedf-a86ab0ed6bce\" xlink:show=\"new\" xlink:title=\"psysml:2b9be10b-590f-4358-bedf-a86ab0ed6bce\" xlink:type=\"simple\"><path d=\"M98.02,81.34 C111.92,93.38 130.95,109.86 148.09,124.7 \" fill=\"none\" id=\"E12-&gt;E3\" style=\"stroke: #383838; stroke-width: 1.0;\"/><polygon fill=\"#FFFFFF\" points=\"163.41,137.97,144.4677,130.8155,153.6371,120.2361,163.41,137.97\" style=\"stroke: #383838; stroke-width: 1.0;\"/><ellipse cx=\"141.4703\" cy=\"125.5709\" fill=\"#383838\" rx=\"2\" ry=\"2\" style=\"stroke: #383838; stroke-width: 1.0;\"/><ellipse cx=\"148.0199\" cy=\"118.0142\" fill=\"#383838\" rx=\"2\" ry=\"2\" style=\"stroke: #383838; stroke-width: 1.0;\"/></a><!--MD5=[066b2d8af59fea80ccdb3d54ad5c1091]\n",
       "link E13 to E5--><a href=\"psysml:78896435-f936-4df6-9172-2ff6f9da23d9\" target=\"_top\" title=\"psysml:78896435-f936-4df6-9172-2ff6f9da23d9\" xlink:actuate=\"onRequest\" xlink:href=\"psysml:78896435-f936-4df6-9172-2ff6f9da23d9\" xlink:show=\"new\" xlink:title=\"psysml:78896435-f936-4df6-9172-2ff6f9da23d9\" xlink:type=\"simple\"><path d=\"M98.02,510.52 C110.09,501.79 126.03,490.27 141.24,479.27 \" fill=\"none\" id=\"E13-&gt;E5\" style=\"stroke: #383838; stroke-width: 1.0;\"/><polygon fill=\"#FFFFFF\" points=\"157.86,467.25,146.5582,484.0509,138.3595,472.7027,157.86,467.25\" style=\"stroke: #383838; stroke-width: 1.0;\"/><ellipse cx=\"140.7667\" cy=\"485.7678\" fill=\"#383838\" rx=\"2\" ry=\"2\" style=\"stroke: #383838; stroke-width: 1.0;\"/><ellipse cx=\"134.9104\" cy=\"477.6619\" fill=\"#383838\" rx=\"2\" ry=\"2\" style=\"stroke: #383838; stroke-width: 1.0;\"/></a><!--MD5=[64214a45567fc67504625b0afc239e12]\n",
       "@startuml\r\n",
       "left to right direction\r\n",
       "skinparam monochrome true\r\n",
       "skinparam classbackgroundcolor white\r\n",
       "skinparam shadowing false\r\n",
       "skinparam wrapWidth 300\r\n",
       "hide circle\r\n",
       "\r\n",
       "package \"CircularImport\" as E1  [[psysml:33738fcf-e3ee-4a7e-98d6-e975d5107ba1 ]]  {\r\n",
       "package \"P1\" as E2  [[psysml:130ef6c7-3ccc-43b9-a62a-eb926cce14a9 ]]  {\r\n",
       "comp def \"A\" as E3  <<(T,blue) part def>> [[psysml:cb0f7157-438a-4ad5-8a96-0def6a248a5a ]] {\r\n",
       "}\r\n",
       "}\r\n",
       "package \"P2\" as E4  [[psysml:0bc4dbd6-620a-45b9-8d32-94753792e496 ]]  {\r\n",
       "comp def \"B\" as E5  <<(T,blue) part def>> [[psysml:fa716e5d-1985-44ef-b151-4b2b4c0691ed ]] {\r\n",
       "}\r\n",
       "}\r\n",
       "package \"Test1\" as E6  [[psysml:b4043d48-e2a3-4796-9568-6bbff931ebfd ]]  {\r\n",
       "comp usage \"x: A\" as E7  <<(T,blue) part>> [[psysml:418b0add-8d91-4a6d-810e-c529e1e5d9c2 ]] {\r\n",
       "}\r\n",
       "comp usage \"y: B\" as E8  <<(T,blue) part>> [[psysml:c18479a8-8a5a-4a0f-a7e4-033b0648dafb ]] {\r\n",
       "}\r\n",
       "E7 - -:|> E3 [[psysml:c27725e1-02a3-443e-822c-73205e66e264 ]] \r\n",
       "E8 - -:|> E5 [[psysml:43ceeb8e-eeaf-4aa9-b958-61b6f980f202 ]] \r\n",
       "}\r\n",
       "package \"Test2\" as E9  [[psysml:85a9df72-6515-46a6-853d-c4da844a4980 ]]  {\r\n",
       "comp usage \"x: A\" as E10  <<(T,blue) part>> [[psysml:61feb9d5-4074-478e-84bb-b7eccf03922b ]] {\r\n",
       "}\r\n",
       "comp usage \"y: B\" as E11  <<(T,blue) part>> [[psysml:2edd355f-e967-45cc-82fe-80091bb729bd ]] {\r\n",
       "}\r\n",
       "E10 - -:|> E3 [[psysml:2f015e6c-7efc-43fd-92bb-26e8cb5e6a22 ]] \r\n",
       "E11 - -:|> E5 [[psysml:7cf9fed8-155f-433e-a01b-9d13c54aa089 ]] \r\n",
       "}\r\n",
       "comp usage \"x: A\" as E12  <<(T,blue) part>> [[psysml:530a6ae9-7dc1-4851-ab10-936e92c948f7 ]] {\r\n",
       "}\r\n",
       "comp usage \"y: B\" as E13  <<(T,blue) part>> [[psysml:561bfa55-252f-4783-9fb1-458618dbf236 ]] {\r\n",
       "}\r\n",
       "E12 - -:|> E3 [[psysml:2b9be10b-590f-4358-bedf-a86ab0ed6bce ]] \r\n",
       "E13 - -:|> E5 [[psysml:78896435-f936-4df6-9172-2ff6f9da23d9 ]] \r\n",
       "}\r\n",
       "@enduml\r\n",
       "\n",
       "PlantUML version 1.2020.13(Sat Jun 13 12:26:38 UTC 2020)\n",
       "(EPL source distribution)\n",
       "Java Runtime: OpenJDK Runtime Environment\n",
       "JVM: OpenJDK 64-Bit Server VM\n",
       "Default Encoding: UTF-8\n",
       "Language: en\n",
       "Country: null\n",
       "--></g></svg>"
      ]
     },
     "execution_count": 22,
     "metadata": {},
     "output_type": "execute_result"
    }
   ],
   "source": [
    "%viz --style=\"LR\" --view=\"MIXED\" \"CircularImport\""
   ]
  },
  {
   "cell_type": "code",
   "execution_count": 23,
   "id": "980eae3a",
   "metadata": {
    "execution": {
     "iopub.execute_input": "2021-06-30T09:15:09.805127Z",
     "iopub.status.busy": "2021-06-30T09:15:09.803837Z",
     "iopub.status.idle": "2021-06-30T09:15:09.910073Z",
     "shell.execute_reply": "2021-06-30T09:15:09.905914Z"
    }
   },
   "outputs": [
    {
     "data": {
      "image/svg+xml": [
       "<?xml version=\"1.0\" encoding=\"UTF-8\" standalone=\"no\"?><svg xmlns=\"http://www.w3.org/2000/svg\" xmlns:xlink=\"http://www.w3.org/1999/xlink\" contentScriptType=\"application/ecmascript\" contentStyleType=\"text/css\" height=\"303px\" preserveAspectRatio=\"none\" style=\"width:518px;height:303px;\" version=\"1.1\" viewBox=\"0 0 518 303\" width=\"518px\" zoomAndPan=\"magnify\"><defs><filter height=\"300%\" id=\"f1jbeihld86d0f\" width=\"300%\" x=\"-1\" y=\"-1\"><feGaussianBlur result=\"blurOut\" stdDeviation=\"2.0\"/><feColorMatrix in=\"blurOut\" result=\"blurOut2\" type=\"matrix\" values=\"0 0 0 0 0 0 0 0 0 0 0 0 0 0 0 0 0 0 .4 0\"/><feOffset dx=\"4.0\" dy=\"4.0\" in=\"blurOut2\" result=\"blurOut3\"/><feBlend in=\"SourceGraphic\" in2=\"blurOut3\" mode=\"normal\"/></filter></defs><g><!--MD5=[fbc87193dbaf4d95561dea2c320d4a47]\n",
       "cluster E1--><a href=\"psysml:33738fcf-e3ee-4a7e-98d6-e975d5107ba1\" target=\"_top\" title=\"psysml:33738fcf-e3ee-4a7e-98d6-e975d5107ba1\" xlink:actuate=\"onRequest\" xlink:href=\"psysml:33738fcf-e3ee-4a7e-98d6-e975d5107ba1\" xlink:show=\"new\" xlink:title=\"psysml:33738fcf-e3ee-4a7e-98d6-e975d5107ba1\" xlink:type=\"simple\"><polygon fill=\"#FFFFFF\" filter=\"url(#f1jbeihld86d0f)\" points=\"16,6,134,6,141,28.2969,496,28.2969,496,291,16,291,16,6\" style=\"stroke: #000000; stroke-width: 1.5;\"/><line style=\"stroke: #000000; stroke-width: 1.5;\" x1=\"16\" x2=\"141\" y1=\"28.2969\" y2=\"28.2969\"/><text fill=\"#000000\" font-family=\"sans-serif\" font-size=\"14\" font-weight=\"bold\" lengthAdjust=\"spacingAndGlyphs\" textLength=\"112\" x=\"20\" y=\"20.9951\">CircularImport</text></a><!--MD5=[e4f7fae6ed58524ba242bb0b0d3be6b7]\n",
       "cluster E2--><a href=\"psysml:130ef6c7-3ccc-43b9-a62a-eb926cce14a9\" target=\"_top\" title=\"psysml:130ef6c7-3ccc-43b9-a62a-eb926cce14a9\" xlink:actuate=\"onRequest\" xlink:href=\"psysml:130ef6c7-3ccc-43b9-a62a-eb926cce14a9\" xlink:show=\"new\" xlink:title=\"psysml:130ef6c7-3ccc-43b9-a62a-eb926cce14a9\" xlink:type=\"simple\"><polygon fill=\"#FFFFFF\" filter=\"url(#f1jbeihld86d0f)\" points=\"333,170,359,170,366,192.2969,431,192.2969,431,267,333,267,333,170\" style=\"stroke: #000000; stroke-width: 1.5;\"/><line style=\"stroke: #000000; stroke-width: 1.5;\" x1=\"333\" x2=\"366\" y1=\"192.2969\" y2=\"192.2969\"/><text fill=\"#000000\" font-family=\"sans-serif\" font-size=\"14\" font-weight=\"bold\" lengthAdjust=\"spacingAndGlyphs\" textLength=\"20\" x=\"337\" y=\"184.9951\">P1</text></a><!--MD5=[f6df4d0ebaf0b5dfb2ced0ae5af7c670]\n",
       "cluster E4--><a href=\"psysml:0bc4dbd6-620a-45b9-8d32-94753792e496\" target=\"_top\" title=\"psysml:0bc4dbd6-620a-45b9-8d32-94753792e496\" xlink:actuate=\"onRequest\" xlink:href=\"psysml:0bc4dbd6-620a-45b9-8d32-94753792e496\" xlink:show=\"new\" xlink:title=\"psysml:0bc4dbd6-620a-45b9-8d32-94753792e496\" xlink:type=\"simple\"><polygon fill=\"#FFFFFF\" filter=\"url(#f1jbeihld86d0f)\" points=\"81,170,107,170,114,192.2969,179,192.2969,179,267,81,267,81,170\" style=\"stroke: #000000; stroke-width: 1.5;\"/><line style=\"stroke: #000000; stroke-width: 1.5;\" x1=\"81\" x2=\"114\" y1=\"192.2969\" y2=\"192.2969\"/><text fill=\"#000000\" font-family=\"sans-serif\" font-size=\"14\" font-weight=\"bold\" lengthAdjust=\"spacingAndGlyphs\" textLength=\"20\" x=\"85\" y=\"184.9951\">P2</text></a><!--MD5=[14e3b0961a2654348d326746436168a1]\n",
       "cluster E6--><a href=\"psysml:b4043d48-e2a3-4796-9568-6bbff931ebfd\" target=\"_top\" title=\"psysml:b4043d48-e2a3-4796-9568-6bbff931ebfd\" xlink:actuate=\"onRequest\" xlink:href=\"psysml:b4043d48-e2a3-4796-9568-6bbff931ebfd\" xlink:show=\"new\" xlink:title=\"psysml:b4043d48-e2a3-4796-9568-6bbff931ebfd\" xlink:type=\"simple\"><polygon fill=\"#FFFFFF\" filter=\"url(#f1jbeihld86d0f)\" points=\"268,49,319,49,326,71.2969,419,71.2969,419,146,268,146,268,49\" style=\"stroke: #000000; stroke-width: 1.5;\"/><line style=\"stroke: #000000; stroke-width: 1.5;\" x1=\"268\" x2=\"326\" y1=\"71.2969\" y2=\"71.2969\"/><text fill=\"#000000\" font-family=\"sans-serif\" font-size=\"14\" font-weight=\"bold\" lengthAdjust=\"spacingAndGlyphs\" textLength=\"45\" x=\"272\" y=\"63.9951\">Test1</text></a><!--MD5=[7f149f147074ac12df2cb0a7728a5fb0]\n",
       "cluster E9--><a href=\"psysml:85a9df72-6515-46a6-853d-c4da844a4980\" target=\"_top\" title=\"psysml:85a9df72-6515-46a6-853d-c4da844a4980\" xlink:actuate=\"onRequest\" xlink:href=\"psysml:85a9df72-6515-46a6-853d-c4da844a4980\" xlink:show=\"new\" xlink:title=\"psysml:85a9df72-6515-46a6-853d-c4da844a4980\" xlink:type=\"simple\"><polygon fill=\"#FFFFFF\" filter=\"url(#f1jbeihld86d0f)\" points=\"93,49,144,49,151,71.2969,244,71.2969,244,146,93,146,93,49\" style=\"stroke: #000000; stroke-width: 1.5;\"/><line style=\"stroke: #000000; stroke-width: 1.5;\" x1=\"93\" x2=\"151\" y1=\"71.2969\" y2=\"71.2969\"/><text fill=\"#000000\" font-family=\"sans-serif\" font-size=\"14\" font-weight=\"bold\" lengthAdjust=\"spacingAndGlyphs\" textLength=\"45\" x=\"97\" y=\"63.9951\">Test2</text></a><!--MD5=[49a0ec8f00dab7302a31f22d0f0fe584]\n",
       "class E12--><a href=\"psysml:530a6ae9-7dc1-4851-ab10-936e92c948f7\" target=\"_top\" title=\"psysml:530a6ae9-7dc1-4851-ab10-936e92c948f7\" xlink:actuate=\"onRequest\" xlink:href=\"psysml:530a6ae9-7dc1-4851-ab10-936e92c948f7\" xlink:show=\"new\" xlink:title=\"psysml:530a6ae9-7dc1-4851-ab10-936e92c948f7\" xlink:type=\"simple\"><rect fill=\"#FEFECE\" filter=\"url(#f1jbeihld86d0f)\" height=\"45.9375\" id=\"E12\" rx=\"10\" ry=\"10\" style=\"stroke: #A80036; stroke-width: 1.5;\" width=\"42\" x=\"438\" y=\"84\"/><text fill=\"#000000\" font-family=\"sans-serif\" font-size=\"12\" font-style=\"italic\" lengthAdjust=\"spacingAndGlyphs\" textLength=\"40\" x=\"439\" y=\"100.1387\">«part»</text><text fill=\"#000000\" font-family=\"sans-serif\" font-size=\"12\" lengthAdjust=\"spacingAndGlyphs\" textLength=\"22\" x=\"448\" y=\"114.1074\">x: A</text><line style=\"stroke: #A80036; stroke-width: 1.5;\" x1=\"439\" x2=\"479\" y1=\"121.9375\" y2=\"121.9375\"/></a><!--MD5=[ee3c913d1a06f366521f9ef512b67efe]\n",
       "class E13--><a href=\"psysml:561bfa55-252f-4783-9fb1-458618dbf236\" target=\"_top\" title=\"psysml:561bfa55-252f-4783-9fb1-458618dbf236\" xlink:actuate=\"onRequest\" xlink:href=\"psysml:561bfa55-252f-4783-9fb1-458618dbf236\" xlink:show=\"new\" xlink:title=\"psysml:561bfa55-252f-4783-9fb1-458618dbf236\" xlink:type=\"simple\"><rect fill=\"#FEFECE\" filter=\"url(#f1jbeihld86d0f)\" height=\"45.9375\" id=\"E13\" rx=\"10\" ry=\"10\" style=\"stroke: #A80036; stroke-width: 1.5;\" width=\"42\" x=\"32\" y=\"84\"/><text fill=\"#000000\" font-family=\"sans-serif\" font-size=\"12\" font-style=\"italic\" lengthAdjust=\"spacingAndGlyphs\" textLength=\"40\" x=\"33\" y=\"100.1387\">«part»</text><text fill=\"#000000\" font-family=\"sans-serif\" font-size=\"12\" lengthAdjust=\"spacingAndGlyphs\" textLength=\"22\" x=\"42\" y=\"114.1074\">y: B</text><line style=\"stroke: #A80036; stroke-width: 1.5;\" x1=\"33\" x2=\"73\" y1=\"121.9375\" y2=\"121.9375\"/></a><!--MD5=[09b614a08d8cba4a07c9adeb5e0fee81]\n",
       "class E3--><a href=\"psysml:cb0f7157-438a-4ad5-8a96-0def6a248a5a\" target=\"_top\" title=\"psysml:cb0f7157-438a-4ad5-8a96-0def6a248a5a\" xlink:actuate=\"onRequest\" xlink:href=\"psysml:cb0f7157-438a-4ad5-8a96-0def6a248a5a\" xlink:show=\"new\" xlink:title=\"psysml:cb0f7157-438a-4ad5-8a96-0def6a248a5a\" xlink:type=\"simple\"><rect fill=\"#FEFECE\" filter=\"url(#f1jbeihld86d0f)\" height=\"45.9375\" id=\"E3\" style=\"stroke: #A80036; stroke-width: 1.5;\" width=\"66\" x=\"349\" y=\"205\"/><text fill=\"#000000\" font-family=\"sans-serif\" font-size=\"12\" font-style=\"italic\" lengthAdjust=\"spacingAndGlyphs\" textLength=\"64\" x=\"350\" y=\"221.1387\">«part def»</text><text fill=\"#000000\" font-family=\"sans-serif\" font-size=\"12\" lengthAdjust=\"spacingAndGlyphs\" textLength=\"8\" x=\"378\" y=\"235.1074\">A</text><line style=\"stroke: #A80036; stroke-width: 1.5;\" x1=\"350\" x2=\"414\" y1=\"242.9375\" y2=\"242.9375\"/></a><!--MD5=[270fce915f116d4de14055a7c1d9a0f3]\n",
       "class E5--><a href=\"psysml:fa716e5d-1985-44ef-b151-4b2b4c0691ed\" target=\"_top\" title=\"psysml:fa716e5d-1985-44ef-b151-4b2b4c0691ed\" xlink:actuate=\"onRequest\" xlink:href=\"psysml:fa716e5d-1985-44ef-b151-4b2b4c0691ed\" xlink:show=\"new\" xlink:title=\"psysml:fa716e5d-1985-44ef-b151-4b2b4c0691ed\" xlink:type=\"simple\"><rect fill=\"#FEFECE\" filter=\"url(#f1jbeihld86d0f)\" height=\"45.9375\" id=\"E5\" style=\"stroke: #A80036; stroke-width: 1.5;\" width=\"66\" x=\"97\" y=\"205\"/><text fill=\"#000000\" font-family=\"sans-serif\" font-size=\"12\" font-style=\"italic\" lengthAdjust=\"spacingAndGlyphs\" textLength=\"64\" x=\"98\" y=\"221.1387\">«part def»</text><text fill=\"#000000\" font-family=\"sans-serif\" font-size=\"12\" lengthAdjust=\"spacingAndGlyphs\" textLength=\"8\" x=\"126\" y=\"235.1074\">B</text><line style=\"stroke: #A80036; stroke-width: 1.5;\" x1=\"98\" x2=\"162\" y1=\"242.9375\" y2=\"242.9375\"/></a><!--MD5=[2156ba9850f5573cc1fc38a6a4b2f02b]\n",
       "class E7--><a href=\"psysml:418b0add-8d91-4a6d-810e-c529e1e5d9c2\" target=\"_top\" title=\"psysml:418b0add-8d91-4a6d-810e-c529e1e5d9c2\" xlink:actuate=\"onRequest\" xlink:href=\"psysml:418b0add-8d91-4a6d-810e-c529e1e5d9c2\" xlink:show=\"new\" xlink:title=\"psysml:418b0add-8d91-4a6d-810e-c529e1e5d9c2\" xlink:type=\"simple\"><rect fill=\"#FEFECE\" filter=\"url(#f1jbeihld86d0f)\" height=\"45.9375\" id=\"E7\" rx=\"10\" ry=\"10\" style=\"stroke: #A80036; stroke-width: 1.5;\" width=\"42\" x=\"361\" y=\"84\"/><text fill=\"#000000\" font-family=\"sans-serif\" font-size=\"12\" font-style=\"italic\" lengthAdjust=\"spacingAndGlyphs\" textLength=\"40\" x=\"362\" y=\"100.1387\">«part»</text><text fill=\"#000000\" font-family=\"sans-serif\" font-size=\"12\" lengthAdjust=\"spacingAndGlyphs\" textLength=\"22\" x=\"371\" y=\"114.1074\">x: A</text><line style=\"stroke: #A80036; stroke-width: 1.5;\" x1=\"362\" x2=\"402\" y1=\"121.9375\" y2=\"121.9375\"/></a><!--MD5=[b9389687b975829384b498ac4b7476b2]\n",
       "class E8--><a href=\"psysml:c18479a8-8a5a-4a0f-a7e4-033b0648dafb\" target=\"_top\" title=\"psysml:c18479a8-8a5a-4a0f-a7e4-033b0648dafb\" xlink:actuate=\"onRequest\" xlink:href=\"psysml:c18479a8-8a5a-4a0f-a7e4-033b0648dafb\" xlink:show=\"new\" xlink:title=\"psysml:c18479a8-8a5a-4a0f-a7e4-033b0648dafb\" xlink:type=\"simple\"><rect fill=\"#FEFECE\" filter=\"url(#f1jbeihld86d0f)\" height=\"45.9375\" id=\"E8\" rx=\"10\" ry=\"10\" style=\"stroke: #A80036; stroke-width: 1.5;\" width=\"42\" x=\"284\" y=\"84\"/><text fill=\"#000000\" font-family=\"sans-serif\" font-size=\"12\" font-style=\"italic\" lengthAdjust=\"spacingAndGlyphs\" textLength=\"40\" x=\"285\" y=\"100.1387\">«part»</text><text fill=\"#000000\" font-family=\"sans-serif\" font-size=\"12\" lengthAdjust=\"spacingAndGlyphs\" textLength=\"22\" x=\"294\" y=\"114.1074\">y: B</text><line style=\"stroke: #A80036; stroke-width: 1.5;\" x1=\"285\" x2=\"325\" y1=\"121.9375\" y2=\"121.9375\"/></a><!--MD5=[96f4274e9e20536e775497830990834d]\n",
       "class E10--><a href=\"psysml:61feb9d5-4074-478e-84bb-b7eccf03922b\" target=\"_top\" title=\"psysml:61feb9d5-4074-478e-84bb-b7eccf03922b\" xlink:actuate=\"onRequest\" xlink:href=\"psysml:61feb9d5-4074-478e-84bb-b7eccf03922b\" xlink:show=\"new\" xlink:title=\"psysml:61feb9d5-4074-478e-84bb-b7eccf03922b\" xlink:type=\"simple\"><rect fill=\"#FEFECE\" filter=\"url(#f1jbeihld86d0f)\" height=\"45.9375\" id=\"E10\" rx=\"10\" ry=\"10\" style=\"stroke: #A80036; stroke-width: 1.5;\" width=\"42\" x=\"186\" y=\"84\"/><text fill=\"#000000\" font-family=\"sans-serif\" font-size=\"12\" font-style=\"italic\" lengthAdjust=\"spacingAndGlyphs\" textLength=\"40\" x=\"187\" y=\"100.1387\">«part»</text><text fill=\"#000000\" font-family=\"sans-serif\" font-size=\"12\" lengthAdjust=\"spacingAndGlyphs\" textLength=\"22\" x=\"196\" y=\"114.1074\">x: A</text><line style=\"stroke: #A80036; stroke-width: 1.5;\" x1=\"187\" x2=\"227\" y1=\"121.9375\" y2=\"121.9375\"/></a><!--MD5=[1dd1bfd58a279cf63c5f349dbc8fc6a1]\n",
       "class E11--><a href=\"psysml:2edd355f-e967-45cc-82fe-80091bb729bd\" target=\"_top\" title=\"psysml:2edd355f-e967-45cc-82fe-80091bb729bd\" xlink:actuate=\"onRequest\" xlink:href=\"psysml:2edd355f-e967-45cc-82fe-80091bb729bd\" xlink:show=\"new\" xlink:title=\"psysml:2edd355f-e967-45cc-82fe-80091bb729bd\" xlink:type=\"simple\"><rect fill=\"#FEFECE\" filter=\"url(#f1jbeihld86d0f)\" height=\"45.9375\" id=\"E11\" rx=\"10\" ry=\"10\" style=\"stroke: #A80036; stroke-width: 1.5;\" width=\"42\" x=\"109\" y=\"84\"/><text fill=\"#000000\" font-family=\"sans-serif\" font-size=\"12\" font-style=\"italic\" lengthAdjust=\"spacingAndGlyphs\" textLength=\"40\" x=\"110\" y=\"100.1387\">«part»</text><text fill=\"#000000\" font-family=\"sans-serif\" font-size=\"12\" lengthAdjust=\"spacingAndGlyphs\" textLength=\"22\" x=\"119\" y=\"114.1074\">y: B</text><line style=\"stroke: #A80036; stroke-width: 1.5;\" x1=\"110\" x2=\"150\" y1=\"121.9375\" y2=\"121.9375\"/></a><!--MD5=[14ccda38c055a5c0da953d572bc50960]\n",
       "link E7 to E3--><a href=\"psysml:c27725e1-02a3-443e-822c-73205e66e264\" target=\"_top\" title=\"psysml:c27725e1-02a3-443e-822c-73205e66e264\" xlink:actuate=\"onRequest\" xlink:href=\"psysml:c27725e1-02a3-443e-822c-73205e66e264\" xlink:show=\"new\" xlink:title=\"psysml:c27725e1-02a3-443e-822c-73205e66e264\" xlink:type=\"simple\"><path d=\"M382,130.1 C382,145.37 382,166.16 382,184.57 \" fill=\"none\" id=\"E7-&gt;E3\" style=\"stroke: #A80036; stroke-width: 1.0;\"/><polygon fill=\"#FFFFFF\" points=\"382,204.61,375,185.61,389,185.61,382,204.61\" style=\"stroke: #A80036; stroke-width: 1.0;\"/><ellipse cx=\"377\" cy=\"179.91\" fill=\"#A80036\" rx=\"2\" ry=\"2\" style=\"stroke: #A80036; stroke-width: 1.0;\"/><ellipse cx=\"387\" cy=\"179.91\" fill=\"#A80036\" rx=\"2\" ry=\"2\" style=\"stroke: #A80036; stroke-width: 1.0;\"/></a><!--MD5=[1ccb2481ffa92f8d51a74ee30c51832a]\n",
       "link E8 to E5--><a href=\"psysml:43ceeb8e-eeaf-4aa9-b958-61b6f980f202\" target=\"_top\" title=\"psysml:43ceeb8e-eeaf-4aa9-b958-61b6f980f202\" xlink:actuate=\"onRequest\" xlink:href=\"psysml:43ceeb8e-eeaf-4aa9-b958-61b6f980f202\" xlink:show=\"new\" xlink:title=\"psysml:43ceeb8e-eeaf-4aa9-b958-61b6f980f202\" xlink:type=\"simple\"><path d=\"M283.84,124.59 C272.23,133.52 257.5,144.61 244,154 C223.51,168.25 200.41,183.24 180.38,195.91 \" fill=\"none\" id=\"E8-&gt;E5\" style=\"stroke: #A80036; stroke-width: 1.0;\"/><polygon fill=\"#FFFFFF\" points=\"163.36,206.57,175.7353,190.5434,183.175,202.403,163.36,206.57\" style=\"stroke: #A80036; stroke-width: 1.0;\"/><ellipse cx=\"181.6267\" cy=\"189.2086\" fill=\"#A80036\" rx=\"2\" ry=\"2\" style=\"stroke: #A80036; stroke-width: 1.0;\"/><ellipse cx=\"186.9408\" cy=\"197.6797\" fill=\"#A80036\" rx=\"2\" ry=\"2\" style=\"stroke: #A80036; stroke-width: 1.0;\"/></a><!--MD5=[feeac5eb423634930294aa81f2d25a4c]\n",
       "link E10 to E3--><a href=\"psysml:2f015e6c-7efc-43fd-92bb-26e8cb5e6a22\" target=\"_top\" title=\"psysml:2f015e6c-7efc-43fd-92bb-26e8cb5e6a22\" xlink:actuate=\"onRequest\" xlink:href=\"psysml:2f015e6c-7efc-43fd-92bb-26e8cb5e6a22\" xlink:show=\"new\" xlink:title=\"psysml:2f015e6c-7efc-43fd-92bb-26e8cb5e6a22\" xlink:type=\"simple\"><path d=\"M228.16,124.59 C239.77,133.52 254.5,144.61 268,154 C288.49,168.25 311.59,183.24 331.62,195.91 \" fill=\"none\" id=\"E10-&gt;E3\" style=\"stroke: #A80036; stroke-width: 1.0;\"/><polygon fill=\"#FFFFFF\" points=\"348.64,206.57,328.825,202.403,336.2647,190.5434,348.64,206.57\" style=\"stroke: #A80036; stroke-width: 1.0;\"/><ellipse cx=\"325.0592\" cy=\"197.6797\" fill=\"#A80036\" rx=\"2\" ry=\"2\" style=\"stroke: #A80036; stroke-width: 1.0;\"/><ellipse cx=\"330.3733\" cy=\"189.2086\" fill=\"#A80036\" rx=\"2\" ry=\"2\" style=\"stroke: #A80036; stroke-width: 1.0;\"/></a><!--MD5=[07b77f6f309248d16187045709d1c26e]\n",
       "link E11 to E5--><a href=\"psysml:7cf9fed8-155f-433e-a01b-9d13c54aa089\" target=\"_top\" title=\"psysml:7cf9fed8-155f-433e-a01b-9d13c54aa089\" xlink:actuate=\"onRequest\" xlink:href=\"psysml:7cf9fed8-155f-433e-a01b-9d13c54aa089\" xlink:show=\"new\" xlink:title=\"psysml:7cf9fed8-155f-433e-a01b-9d13c54aa089\" xlink:type=\"simple\"><path d=\"M130,130.1 C130,145.37 130,166.16 130,184.57 \" fill=\"none\" id=\"E11-&gt;E5\" style=\"stroke: #A80036; stroke-width: 1.0;\"/><polygon fill=\"#FFFFFF\" points=\"130,204.61,123,185.61,137,185.61,130,204.61\" style=\"stroke: #A80036; stroke-width: 1.0;\"/><ellipse cx=\"125\" cy=\"179.91\" fill=\"#A80036\" rx=\"2\" ry=\"2\" style=\"stroke: #A80036; stroke-width: 1.0;\"/><ellipse cx=\"135\" cy=\"179.91\" fill=\"#A80036\" rx=\"2\" ry=\"2\" style=\"stroke: #A80036; stroke-width: 1.0;\"/></a><!--MD5=[39f41a0e550fb3d73b4d8135617e30a2]\n",
       "link E12 to E3--><a href=\"psysml:2b9be10b-590f-4358-bedf-a86ab0ed6bce\" target=\"_top\" title=\"psysml:2b9be10b-590f-4358-bedf-a86ab0ed6bce\" xlink:actuate=\"onRequest\" xlink:href=\"psysml:2b9be10b-590f-4358-bedf-a86ab0ed6bce\" xlink:show=\"new\" xlink:title=\"psysml:2b9be10b-590f-4358-bedf-a86ab0ed6bce\" xlink:type=\"simple\"><path d=\"M444.7,130.1 C434.28,146.2 419.89,168.44 407.53,187.55 \" fill=\"none\" id=\"E12-&gt;E3\" style=\"stroke: #A80036; stroke-width: 1.0;\"/><polygon fill=\"#FFFFFF\" points=\"396.49,204.61,400.9313,184.8546,412.6866,192.4581,396.49,204.61\" style=\"stroke: #A80036; stroke-width: 1.0;\"/><ellipse cx=\"405.7063\" cy=\"181.1547\" fill=\"#A80036\" rx=\"2\" ry=\"2\" style=\"stroke: #A80036; stroke-width: 1.0;\"/><ellipse cx=\"414.103\" cy=\"186.5858\" fill=\"#A80036\" rx=\"2\" ry=\"2\" style=\"stroke: #A80036; stroke-width: 1.0;\"/></a><!--MD5=[066b2d8af59fea80ccdb3d54ad5c1091]\n",
       "link E13 to E5--><a href=\"psysml:78896435-f936-4df6-9172-2ff6f9da23d9\" target=\"_top\" title=\"psysml:78896435-f936-4df6-9172-2ff6f9da23d9\" xlink:actuate=\"onRequest\" xlink:href=\"psysml:78896435-f936-4df6-9172-2ff6f9da23d9\" xlink:show=\"new\" xlink:title=\"psysml:78896435-f936-4df6-9172-2ff6f9da23d9\" xlink:type=\"simple\"><path d=\"M67.3,130.1 C77.72,146.2 92.11,168.44 104.47,187.55 \" fill=\"none\" id=\"E13-&gt;E5\" style=\"stroke: #A80036; stroke-width: 1.0;\"/><polygon fill=\"#FFFFFF\" points=\"115.51,204.61,99.3134,192.4581,111.0687,184.8546,115.51,204.61\" style=\"stroke: #A80036; stroke-width: 1.0;\"/><ellipse cx=\"97.897\" cy=\"186.5858\" fill=\"#A80036\" rx=\"2\" ry=\"2\" style=\"stroke: #A80036; stroke-width: 1.0;\"/><ellipse cx=\"106.2937\" cy=\"181.1547\" fill=\"#A80036\" rx=\"2\" ry=\"2\" style=\"stroke: #A80036; stroke-width: 1.0;\"/></a><!--MD5=[ae221afc3a9f5d6cc4aa0158a6dc2ecb]\n",
       "@startuml\r\n",
       "skinparam wrapWidth 300\r\n",
       "hide circle\r\n",
       "\r\n",
       "package \"CircularImport\" as E1  [[psysml:33738fcf-e3ee-4a7e-98d6-e975d5107ba1 ]]  {\r\n",
       "package \"P1\" as E2  [[psysml:130ef6c7-3ccc-43b9-a62a-eb926cce14a9 ]]  {\r\n",
       "comp def \"A\" as E3  <<(T,blue) part def>> [[psysml:cb0f7157-438a-4ad5-8a96-0def6a248a5a ]] {\r\n",
       "}\r\n",
       "}\r\n",
       "package \"P2\" as E4  [[psysml:0bc4dbd6-620a-45b9-8d32-94753792e496 ]]  {\r\n",
       "comp def \"B\" as E5  <<(T,blue) part def>> [[psysml:fa716e5d-1985-44ef-b151-4b2b4c0691ed ]] {\r\n",
       "}\r\n",
       "}\r\n",
       "package \"Test1\" as E6  [[psysml:b4043d48-e2a3-4796-9568-6bbff931ebfd ]]  {\r\n",
       "comp usage \"x: A\" as E7  <<(T,blue) part>> [[psysml:418b0add-8d91-4a6d-810e-c529e1e5d9c2 ]] {\r\n",
       "}\r\n",
       "comp usage \"y: B\" as E8  <<(T,blue) part>> [[psysml:c18479a8-8a5a-4a0f-a7e4-033b0648dafb ]] {\r\n",
       "}\r\n",
       "E7 - -:|> E3 [[psysml:c27725e1-02a3-443e-822c-73205e66e264 ]] \r\n",
       "E8 - -:|> E5 [[psysml:43ceeb8e-eeaf-4aa9-b958-61b6f980f202 ]] \r\n",
       "}\r\n",
       "package \"Test2\" as E9  [[psysml:85a9df72-6515-46a6-853d-c4da844a4980 ]]  {\r\n",
       "comp usage \"x: A\" as E10  <<(T,blue) part>> [[psysml:61feb9d5-4074-478e-84bb-b7eccf03922b ]] {\r\n",
       "}\r\n",
       "comp usage \"y: B\" as E11  <<(T,blue) part>> [[psysml:2edd355f-e967-45cc-82fe-80091bb729bd ]] {\r\n",
       "}\r\n",
       "E10 - -:|> E3 [[psysml:2f015e6c-7efc-43fd-92bb-26e8cb5e6a22 ]] \r\n",
       "E11 - -:|> E5 [[psysml:7cf9fed8-155f-433e-a01b-9d13c54aa089 ]] \r\n",
       "}\r\n",
       "comp usage \"x: A\" as E12  <<(T,blue) part>> [[psysml:530a6ae9-7dc1-4851-ab10-936e92c948f7 ]] {\r\n",
       "}\r\n",
       "comp usage \"y: B\" as E13  <<(T,blue) part>> [[psysml:561bfa55-252f-4783-9fb1-458618dbf236 ]] {\r\n",
       "}\r\n",
       "E12 - -:|> E3 [[psysml:2b9be10b-590f-4358-bedf-a86ab0ed6bce ]] \r\n",
       "E13 - -:|> E5 [[psysml:78896435-f936-4df6-9172-2ff6f9da23d9 ]] \r\n",
       "}\r\n",
       "@enduml\r\n",
       "\n",
       "PlantUML version 1.2020.13(Sat Jun 13 12:26:38 UTC 2020)\n",
       "(EPL source distribution)\n",
       "Java Runtime: OpenJDK Runtime Environment\n",
       "JVM: OpenJDK 64-Bit Server VM\n",
       "Default Encoding: UTF-8\n",
       "Language: en\n",
       "Country: null\n",
       "--></g></svg>"
      ]
     },
     "execution_count": 23,
     "metadata": {},
     "output_type": "execute_result"
    }
   ],
   "source": [
    "%viz --style=\"STDCOLOR\" --view=\"Default\" \"CircularImport\""
   ]
  },
  {
   "cell_type": "code",
   "execution_count": 24,
   "id": "d34f1a4d",
   "metadata": {
    "execution": {
     "iopub.execute_input": "2021-06-30T09:15:09.961532Z",
     "iopub.status.busy": "2021-06-30T09:15:09.960895Z",
     "iopub.status.idle": "2021-06-30T09:15:10.057734Z",
     "shell.execute_reply": "2021-06-30T09:15:10.055213Z"
    }
   },
   "outputs": [
    {
     "data": {
      "image/svg+xml": [
       "<?xml version=\"1.0\" encoding=\"UTF-8\" standalone=\"no\"?><svg xmlns=\"http://www.w3.org/2000/svg\" xmlns:xlink=\"http://www.w3.org/1999/xlink\" contentScriptType=\"application/ecmascript\" contentStyleType=\"text/css\" height=\"303px\" preserveAspectRatio=\"none\" style=\"width:518px;height:303px;\" version=\"1.1\" viewBox=\"0 0 518 303\" width=\"518px\" zoomAndPan=\"magnify\"><defs><filter height=\"300%\" id=\"f1jbeihld86d0f\" width=\"300%\" x=\"-1\" y=\"-1\"><feGaussianBlur result=\"blurOut\" stdDeviation=\"2.0\"/><feColorMatrix in=\"blurOut\" result=\"blurOut2\" type=\"matrix\" values=\"0 0 0 0 0 0 0 0 0 0 0 0 0 0 0 0 0 0 .4 0\"/><feOffset dx=\"4.0\" dy=\"4.0\" in=\"blurOut2\" result=\"blurOut3\"/><feBlend in=\"SourceGraphic\" in2=\"blurOut3\" mode=\"normal\"/></filter></defs><g><!--MD5=[fbc87193dbaf4d95561dea2c320d4a47]\n",
       "cluster E1--><a href=\"psysml:33738fcf-e3ee-4a7e-98d6-e975d5107ba1\" target=\"_top\" title=\"psysml:33738fcf-e3ee-4a7e-98d6-e975d5107ba1\" xlink:actuate=\"onRequest\" xlink:href=\"psysml:33738fcf-e3ee-4a7e-98d6-e975d5107ba1\" xlink:show=\"new\" xlink:title=\"psysml:33738fcf-e3ee-4a7e-98d6-e975d5107ba1\" xlink:type=\"simple\"><polygon fill=\"#FFFFFF\" filter=\"url(#f1jbeihld86d0f)\" points=\"16,6,134,6,141,28.2969,496,28.2969,496,291,16,291,16,6\" style=\"stroke: #000000; stroke-width: 1.5;\"/><line style=\"stroke: #000000; stroke-width: 1.5;\" x1=\"16\" x2=\"141\" y1=\"28.2969\" y2=\"28.2969\"/><text fill=\"#000000\" font-family=\"sans-serif\" font-size=\"14\" font-weight=\"bold\" lengthAdjust=\"spacingAndGlyphs\" textLength=\"112\" x=\"20\" y=\"20.9951\">CircularImport</text></a><!--MD5=[e4f7fae6ed58524ba242bb0b0d3be6b7]\n",
       "cluster E2--><a href=\"psysml:130ef6c7-3ccc-43b9-a62a-eb926cce14a9\" target=\"_top\" title=\"psysml:130ef6c7-3ccc-43b9-a62a-eb926cce14a9\" xlink:actuate=\"onRequest\" xlink:href=\"psysml:130ef6c7-3ccc-43b9-a62a-eb926cce14a9\" xlink:show=\"new\" xlink:title=\"psysml:130ef6c7-3ccc-43b9-a62a-eb926cce14a9\" xlink:type=\"simple\"><polygon fill=\"#FFFFFF\" filter=\"url(#f1jbeihld86d0f)\" points=\"333,170,359,170,366,192.2969,431,192.2969,431,267,333,267,333,170\" style=\"stroke: #000000; stroke-width: 1.5;\"/><line style=\"stroke: #000000; stroke-width: 1.5;\" x1=\"333\" x2=\"366\" y1=\"192.2969\" y2=\"192.2969\"/><text fill=\"#000000\" font-family=\"sans-serif\" font-size=\"14\" font-weight=\"bold\" lengthAdjust=\"spacingAndGlyphs\" textLength=\"20\" x=\"337\" y=\"184.9951\">P1</text></a><!--MD5=[f6df4d0ebaf0b5dfb2ced0ae5af7c670]\n",
       "cluster E4--><a href=\"psysml:0bc4dbd6-620a-45b9-8d32-94753792e496\" target=\"_top\" title=\"psysml:0bc4dbd6-620a-45b9-8d32-94753792e496\" xlink:actuate=\"onRequest\" xlink:href=\"psysml:0bc4dbd6-620a-45b9-8d32-94753792e496\" xlink:show=\"new\" xlink:title=\"psysml:0bc4dbd6-620a-45b9-8d32-94753792e496\" xlink:type=\"simple\"><polygon fill=\"#FFFFFF\" filter=\"url(#f1jbeihld86d0f)\" points=\"81,170,107,170,114,192.2969,179,192.2969,179,267,81,267,81,170\" style=\"stroke: #000000; stroke-width: 1.5;\"/><line style=\"stroke: #000000; stroke-width: 1.5;\" x1=\"81\" x2=\"114\" y1=\"192.2969\" y2=\"192.2969\"/><text fill=\"#000000\" font-family=\"sans-serif\" font-size=\"14\" font-weight=\"bold\" lengthAdjust=\"spacingAndGlyphs\" textLength=\"20\" x=\"85\" y=\"184.9951\">P2</text></a><!--MD5=[14e3b0961a2654348d326746436168a1]\n",
       "cluster E6--><a href=\"psysml:b4043d48-e2a3-4796-9568-6bbff931ebfd\" target=\"_top\" title=\"psysml:b4043d48-e2a3-4796-9568-6bbff931ebfd\" xlink:actuate=\"onRequest\" xlink:href=\"psysml:b4043d48-e2a3-4796-9568-6bbff931ebfd\" xlink:show=\"new\" xlink:title=\"psysml:b4043d48-e2a3-4796-9568-6bbff931ebfd\" xlink:type=\"simple\"><polygon fill=\"#FFFFFF\" filter=\"url(#f1jbeihld86d0f)\" points=\"268,49,319,49,326,71.2969,419,71.2969,419,146,268,146,268,49\" style=\"stroke: #000000; stroke-width: 1.5;\"/><line style=\"stroke: #000000; stroke-width: 1.5;\" x1=\"268\" x2=\"326\" y1=\"71.2969\" y2=\"71.2969\"/><text fill=\"#000000\" font-family=\"sans-serif\" font-size=\"14\" font-weight=\"bold\" lengthAdjust=\"spacingAndGlyphs\" textLength=\"45\" x=\"272\" y=\"63.9951\">Test1</text></a><!--MD5=[7f149f147074ac12df2cb0a7728a5fb0]\n",
       "cluster E9--><a href=\"psysml:85a9df72-6515-46a6-853d-c4da844a4980\" target=\"_top\" title=\"psysml:85a9df72-6515-46a6-853d-c4da844a4980\" xlink:actuate=\"onRequest\" xlink:href=\"psysml:85a9df72-6515-46a6-853d-c4da844a4980\" xlink:show=\"new\" xlink:title=\"psysml:85a9df72-6515-46a6-853d-c4da844a4980\" xlink:type=\"simple\"><polygon fill=\"#FFFFFF\" filter=\"url(#f1jbeihld86d0f)\" points=\"93,49,144,49,151,71.2969,244,71.2969,244,146,93,146,93,49\" style=\"stroke: #000000; stroke-width: 1.5;\"/><line style=\"stroke: #000000; stroke-width: 1.5;\" x1=\"93\" x2=\"151\" y1=\"71.2969\" y2=\"71.2969\"/><text fill=\"#000000\" font-family=\"sans-serif\" font-size=\"14\" font-weight=\"bold\" lengthAdjust=\"spacingAndGlyphs\" textLength=\"45\" x=\"97\" y=\"63.9951\">Test2</text></a><!--MD5=[49a0ec8f00dab7302a31f22d0f0fe584]\n",
       "class E12--><a href=\"psysml:530a6ae9-7dc1-4851-ab10-936e92c948f7\" target=\"_top\" title=\"psysml:530a6ae9-7dc1-4851-ab10-936e92c948f7\" xlink:actuate=\"onRequest\" xlink:href=\"psysml:530a6ae9-7dc1-4851-ab10-936e92c948f7\" xlink:show=\"new\" xlink:title=\"psysml:530a6ae9-7dc1-4851-ab10-936e92c948f7\" xlink:type=\"simple\"><rect fill=\"#FEFECE\" filter=\"url(#f1jbeihld86d0f)\" height=\"45.9375\" id=\"E12\" rx=\"10\" ry=\"10\" style=\"stroke: #A80036; stroke-width: 1.5;\" width=\"42\" x=\"438\" y=\"84\"/><text fill=\"#000000\" font-family=\"sans-serif\" font-size=\"12\" font-style=\"italic\" lengthAdjust=\"spacingAndGlyphs\" textLength=\"40\" x=\"439\" y=\"100.1387\">«part»</text><text fill=\"#000000\" font-family=\"sans-serif\" font-size=\"12\" lengthAdjust=\"spacingAndGlyphs\" textLength=\"22\" x=\"448\" y=\"114.1074\">x: A</text><line style=\"stroke: #A80036; stroke-width: 1.5;\" x1=\"439\" x2=\"479\" y1=\"121.9375\" y2=\"121.9375\"/></a><!--MD5=[ee3c913d1a06f366521f9ef512b67efe]\n",
       "class E13--><a href=\"psysml:561bfa55-252f-4783-9fb1-458618dbf236\" target=\"_top\" title=\"psysml:561bfa55-252f-4783-9fb1-458618dbf236\" xlink:actuate=\"onRequest\" xlink:href=\"psysml:561bfa55-252f-4783-9fb1-458618dbf236\" xlink:show=\"new\" xlink:title=\"psysml:561bfa55-252f-4783-9fb1-458618dbf236\" xlink:type=\"simple\"><rect fill=\"#FEFECE\" filter=\"url(#f1jbeihld86d0f)\" height=\"45.9375\" id=\"E13\" rx=\"10\" ry=\"10\" style=\"stroke: #A80036; stroke-width: 1.5;\" width=\"42\" x=\"32\" y=\"84\"/><text fill=\"#000000\" font-family=\"sans-serif\" font-size=\"12\" font-style=\"italic\" lengthAdjust=\"spacingAndGlyphs\" textLength=\"40\" x=\"33\" y=\"100.1387\">«part»</text><text fill=\"#000000\" font-family=\"sans-serif\" font-size=\"12\" lengthAdjust=\"spacingAndGlyphs\" textLength=\"22\" x=\"42\" y=\"114.1074\">y: B</text><line style=\"stroke: #A80036; stroke-width: 1.5;\" x1=\"33\" x2=\"73\" y1=\"121.9375\" y2=\"121.9375\"/></a><!--MD5=[09b614a08d8cba4a07c9adeb5e0fee81]\n",
       "class E3--><a href=\"psysml:cb0f7157-438a-4ad5-8a96-0def6a248a5a\" target=\"_top\" title=\"psysml:cb0f7157-438a-4ad5-8a96-0def6a248a5a\" xlink:actuate=\"onRequest\" xlink:href=\"psysml:cb0f7157-438a-4ad5-8a96-0def6a248a5a\" xlink:show=\"new\" xlink:title=\"psysml:cb0f7157-438a-4ad5-8a96-0def6a248a5a\" xlink:type=\"simple\"><rect fill=\"#FEFECE\" filter=\"url(#f1jbeihld86d0f)\" height=\"45.9375\" id=\"E3\" style=\"stroke: #A80036; stroke-width: 1.5;\" width=\"66\" x=\"349\" y=\"205\"/><text fill=\"#000000\" font-family=\"sans-serif\" font-size=\"12\" font-style=\"italic\" lengthAdjust=\"spacingAndGlyphs\" textLength=\"64\" x=\"350\" y=\"221.1387\">«part def»</text><text fill=\"#000000\" font-family=\"sans-serif\" font-size=\"12\" lengthAdjust=\"spacingAndGlyphs\" textLength=\"8\" x=\"378\" y=\"235.1074\">A</text><line style=\"stroke: #A80036; stroke-width: 1.5;\" x1=\"350\" x2=\"414\" y1=\"242.9375\" y2=\"242.9375\"/></a><!--MD5=[270fce915f116d4de14055a7c1d9a0f3]\n",
       "class E5--><a href=\"psysml:fa716e5d-1985-44ef-b151-4b2b4c0691ed\" target=\"_top\" title=\"psysml:fa716e5d-1985-44ef-b151-4b2b4c0691ed\" xlink:actuate=\"onRequest\" xlink:href=\"psysml:fa716e5d-1985-44ef-b151-4b2b4c0691ed\" xlink:show=\"new\" xlink:title=\"psysml:fa716e5d-1985-44ef-b151-4b2b4c0691ed\" xlink:type=\"simple\"><rect fill=\"#FEFECE\" filter=\"url(#f1jbeihld86d0f)\" height=\"45.9375\" id=\"E5\" style=\"stroke: #A80036; stroke-width: 1.5;\" width=\"66\" x=\"97\" y=\"205\"/><text fill=\"#000000\" font-family=\"sans-serif\" font-size=\"12\" font-style=\"italic\" lengthAdjust=\"spacingAndGlyphs\" textLength=\"64\" x=\"98\" y=\"221.1387\">«part def»</text><text fill=\"#000000\" font-family=\"sans-serif\" font-size=\"12\" lengthAdjust=\"spacingAndGlyphs\" textLength=\"8\" x=\"126\" y=\"235.1074\">B</text><line style=\"stroke: #A80036; stroke-width: 1.5;\" x1=\"98\" x2=\"162\" y1=\"242.9375\" y2=\"242.9375\"/></a><!--MD5=[2156ba9850f5573cc1fc38a6a4b2f02b]\n",
       "class E7--><a href=\"psysml:418b0add-8d91-4a6d-810e-c529e1e5d9c2\" target=\"_top\" title=\"psysml:418b0add-8d91-4a6d-810e-c529e1e5d9c2\" xlink:actuate=\"onRequest\" xlink:href=\"psysml:418b0add-8d91-4a6d-810e-c529e1e5d9c2\" xlink:show=\"new\" xlink:title=\"psysml:418b0add-8d91-4a6d-810e-c529e1e5d9c2\" xlink:type=\"simple\"><rect fill=\"#FEFECE\" filter=\"url(#f1jbeihld86d0f)\" height=\"45.9375\" id=\"E7\" rx=\"10\" ry=\"10\" style=\"stroke: #A80036; stroke-width: 1.5;\" width=\"42\" x=\"361\" y=\"84\"/><text fill=\"#000000\" font-family=\"sans-serif\" font-size=\"12\" font-style=\"italic\" lengthAdjust=\"spacingAndGlyphs\" textLength=\"40\" x=\"362\" y=\"100.1387\">«part»</text><text fill=\"#000000\" font-family=\"sans-serif\" font-size=\"12\" lengthAdjust=\"spacingAndGlyphs\" textLength=\"22\" x=\"371\" y=\"114.1074\">x: A</text><line style=\"stroke: #A80036; stroke-width: 1.5;\" x1=\"362\" x2=\"402\" y1=\"121.9375\" y2=\"121.9375\"/></a><!--MD5=[b9389687b975829384b498ac4b7476b2]\n",
       "class E8--><a href=\"psysml:c18479a8-8a5a-4a0f-a7e4-033b0648dafb\" target=\"_top\" title=\"psysml:c18479a8-8a5a-4a0f-a7e4-033b0648dafb\" xlink:actuate=\"onRequest\" xlink:href=\"psysml:c18479a8-8a5a-4a0f-a7e4-033b0648dafb\" xlink:show=\"new\" xlink:title=\"psysml:c18479a8-8a5a-4a0f-a7e4-033b0648dafb\" xlink:type=\"simple\"><rect fill=\"#FEFECE\" filter=\"url(#f1jbeihld86d0f)\" height=\"45.9375\" id=\"E8\" rx=\"10\" ry=\"10\" style=\"stroke: #A80036; stroke-width: 1.5;\" width=\"42\" x=\"284\" y=\"84\"/><text fill=\"#000000\" font-family=\"sans-serif\" font-size=\"12\" font-style=\"italic\" lengthAdjust=\"spacingAndGlyphs\" textLength=\"40\" x=\"285\" y=\"100.1387\">«part»</text><text fill=\"#000000\" font-family=\"sans-serif\" font-size=\"12\" lengthAdjust=\"spacingAndGlyphs\" textLength=\"22\" x=\"294\" y=\"114.1074\">y: B</text><line style=\"stroke: #A80036; stroke-width: 1.5;\" x1=\"285\" x2=\"325\" y1=\"121.9375\" y2=\"121.9375\"/></a><!--MD5=[96f4274e9e20536e775497830990834d]\n",
       "class E10--><a href=\"psysml:61feb9d5-4074-478e-84bb-b7eccf03922b\" target=\"_top\" title=\"psysml:61feb9d5-4074-478e-84bb-b7eccf03922b\" xlink:actuate=\"onRequest\" xlink:href=\"psysml:61feb9d5-4074-478e-84bb-b7eccf03922b\" xlink:show=\"new\" xlink:title=\"psysml:61feb9d5-4074-478e-84bb-b7eccf03922b\" xlink:type=\"simple\"><rect fill=\"#FEFECE\" filter=\"url(#f1jbeihld86d0f)\" height=\"45.9375\" id=\"E10\" rx=\"10\" ry=\"10\" style=\"stroke: #A80036; stroke-width: 1.5;\" width=\"42\" x=\"186\" y=\"84\"/><text fill=\"#000000\" font-family=\"sans-serif\" font-size=\"12\" font-style=\"italic\" lengthAdjust=\"spacingAndGlyphs\" textLength=\"40\" x=\"187\" y=\"100.1387\">«part»</text><text fill=\"#000000\" font-family=\"sans-serif\" font-size=\"12\" lengthAdjust=\"spacingAndGlyphs\" textLength=\"22\" x=\"196\" y=\"114.1074\">x: A</text><line style=\"stroke: #A80036; stroke-width: 1.5;\" x1=\"187\" x2=\"227\" y1=\"121.9375\" y2=\"121.9375\"/></a><!--MD5=[1dd1bfd58a279cf63c5f349dbc8fc6a1]\n",
       "class E11--><a href=\"psysml:2edd355f-e967-45cc-82fe-80091bb729bd\" target=\"_top\" title=\"psysml:2edd355f-e967-45cc-82fe-80091bb729bd\" xlink:actuate=\"onRequest\" xlink:href=\"psysml:2edd355f-e967-45cc-82fe-80091bb729bd\" xlink:show=\"new\" xlink:title=\"psysml:2edd355f-e967-45cc-82fe-80091bb729bd\" xlink:type=\"simple\"><rect fill=\"#FEFECE\" filter=\"url(#f1jbeihld86d0f)\" height=\"45.9375\" id=\"E11\" rx=\"10\" ry=\"10\" style=\"stroke: #A80036; stroke-width: 1.5;\" width=\"42\" x=\"109\" y=\"84\"/><text fill=\"#000000\" font-family=\"sans-serif\" font-size=\"12\" font-style=\"italic\" lengthAdjust=\"spacingAndGlyphs\" textLength=\"40\" x=\"110\" y=\"100.1387\">«part»</text><text fill=\"#000000\" font-family=\"sans-serif\" font-size=\"12\" lengthAdjust=\"spacingAndGlyphs\" textLength=\"22\" x=\"119\" y=\"114.1074\">y: B</text><line style=\"stroke: #A80036; stroke-width: 1.5;\" x1=\"110\" x2=\"150\" y1=\"121.9375\" y2=\"121.9375\"/></a><!--MD5=[14ccda38c055a5c0da953d572bc50960]\n",
       "link E7 to E3--><a href=\"psysml:c27725e1-02a3-443e-822c-73205e66e264\" target=\"_top\" title=\"psysml:c27725e1-02a3-443e-822c-73205e66e264\" xlink:actuate=\"onRequest\" xlink:href=\"psysml:c27725e1-02a3-443e-822c-73205e66e264\" xlink:show=\"new\" xlink:title=\"psysml:c27725e1-02a3-443e-822c-73205e66e264\" xlink:type=\"simple\"><path d=\"M382,130.1 C382,145.37 382,166.16 382,184.57 \" fill=\"none\" id=\"E7-&gt;E3\" style=\"stroke: #A80036; stroke-width: 1.0;\"/><polygon fill=\"#FFFFFF\" points=\"382,204.61,375,185.61,389,185.61,382,204.61\" style=\"stroke: #A80036; stroke-width: 1.0;\"/><ellipse cx=\"377\" cy=\"179.91\" fill=\"#A80036\" rx=\"2\" ry=\"2\" style=\"stroke: #A80036; stroke-width: 1.0;\"/><ellipse cx=\"387\" cy=\"179.91\" fill=\"#A80036\" rx=\"2\" ry=\"2\" style=\"stroke: #A80036; stroke-width: 1.0;\"/></a><!--MD5=[1ccb2481ffa92f8d51a74ee30c51832a]\n",
       "link E8 to E5--><a href=\"psysml:43ceeb8e-eeaf-4aa9-b958-61b6f980f202\" target=\"_top\" title=\"psysml:43ceeb8e-eeaf-4aa9-b958-61b6f980f202\" xlink:actuate=\"onRequest\" xlink:href=\"psysml:43ceeb8e-eeaf-4aa9-b958-61b6f980f202\" xlink:show=\"new\" xlink:title=\"psysml:43ceeb8e-eeaf-4aa9-b958-61b6f980f202\" xlink:type=\"simple\"><path d=\"M283.84,124.59 C272.23,133.52 257.5,144.61 244,154 C223.51,168.25 200.41,183.24 180.38,195.91 \" fill=\"none\" id=\"E8-&gt;E5\" style=\"stroke: #A80036; stroke-width: 1.0;\"/><polygon fill=\"#FFFFFF\" points=\"163.36,206.57,175.7353,190.5434,183.175,202.403,163.36,206.57\" style=\"stroke: #A80036; stroke-width: 1.0;\"/><ellipse cx=\"181.6267\" cy=\"189.2086\" fill=\"#A80036\" rx=\"2\" ry=\"2\" style=\"stroke: #A80036; stroke-width: 1.0;\"/><ellipse cx=\"186.9408\" cy=\"197.6797\" fill=\"#A80036\" rx=\"2\" ry=\"2\" style=\"stroke: #A80036; stroke-width: 1.0;\"/></a><!--MD5=[feeac5eb423634930294aa81f2d25a4c]\n",
       "link E10 to E3--><a href=\"psysml:2f015e6c-7efc-43fd-92bb-26e8cb5e6a22\" target=\"_top\" title=\"psysml:2f015e6c-7efc-43fd-92bb-26e8cb5e6a22\" xlink:actuate=\"onRequest\" xlink:href=\"psysml:2f015e6c-7efc-43fd-92bb-26e8cb5e6a22\" xlink:show=\"new\" xlink:title=\"psysml:2f015e6c-7efc-43fd-92bb-26e8cb5e6a22\" xlink:type=\"simple\"><path d=\"M228.16,124.59 C239.77,133.52 254.5,144.61 268,154 C288.49,168.25 311.59,183.24 331.62,195.91 \" fill=\"none\" id=\"E10-&gt;E3\" style=\"stroke: #A80036; stroke-width: 1.0;\"/><polygon fill=\"#FFFFFF\" points=\"348.64,206.57,328.825,202.403,336.2647,190.5434,348.64,206.57\" style=\"stroke: #A80036; stroke-width: 1.0;\"/><ellipse cx=\"325.0592\" cy=\"197.6797\" fill=\"#A80036\" rx=\"2\" ry=\"2\" style=\"stroke: #A80036; stroke-width: 1.0;\"/><ellipse cx=\"330.3733\" cy=\"189.2086\" fill=\"#A80036\" rx=\"2\" ry=\"2\" style=\"stroke: #A80036; stroke-width: 1.0;\"/></a><!--MD5=[07b77f6f309248d16187045709d1c26e]\n",
       "link E11 to E5--><a href=\"psysml:7cf9fed8-155f-433e-a01b-9d13c54aa089\" target=\"_top\" title=\"psysml:7cf9fed8-155f-433e-a01b-9d13c54aa089\" xlink:actuate=\"onRequest\" xlink:href=\"psysml:7cf9fed8-155f-433e-a01b-9d13c54aa089\" xlink:show=\"new\" xlink:title=\"psysml:7cf9fed8-155f-433e-a01b-9d13c54aa089\" xlink:type=\"simple\"><path d=\"M130,130.1 C130,145.37 130,166.16 130,184.57 \" fill=\"none\" id=\"E11-&gt;E5\" style=\"stroke: #A80036; stroke-width: 1.0;\"/><polygon fill=\"#FFFFFF\" points=\"130,204.61,123,185.61,137,185.61,130,204.61\" style=\"stroke: #A80036; stroke-width: 1.0;\"/><ellipse cx=\"125\" cy=\"179.91\" fill=\"#A80036\" rx=\"2\" ry=\"2\" style=\"stroke: #A80036; stroke-width: 1.0;\"/><ellipse cx=\"135\" cy=\"179.91\" fill=\"#A80036\" rx=\"2\" ry=\"2\" style=\"stroke: #A80036; stroke-width: 1.0;\"/></a><!--MD5=[39f41a0e550fb3d73b4d8135617e30a2]\n",
       "link E12 to E3--><a href=\"psysml:2b9be10b-590f-4358-bedf-a86ab0ed6bce\" target=\"_top\" title=\"psysml:2b9be10b-590f-4358-bedf-a86ab0ed6bce\" xlink:actuate=\"onRequest\" xlink:href=\"psysml:2b9be10b-590f-4358-bedf-a86ab0ed6bce\" xlink:show=\"new\" xlink:title=\"psysml:2b9be10b-590f-4358-bedf-a86ab0ed6bce\" xlink:type=\"simple\"><path d=\"M444.7,130.1 C434.28,146.2 419.89,168.44 407.53,187.55 \" fill=\"none\" id=\"E12-&gt;E3\" style=\"stroke: #A80036; stroke-width: 1.0;\"/><polygon fill=\"#FFFFFF\" points=\"396.49,204.61,400.9313,184.8546,412.6866,192.4581,396.49,204.61\" style=\"stroke: #A80036; stroke-width: 1.0;\"/><ellipse cx=\"405.7063\" cy=\"181.1547\" fill=\"#A80036\" rx=\"2\" ry=\"2\" style=\"stroke: #A80036; stroke-width: 1.0;\"/><ellipse cx=\"414.103\" cy=\"186.5858\" fill=\"#A80036\" rx=\"2\" ry=\"2\" style=\"stroke: #A80036; stroke-width: 1.0;\"/></a><!--MD5=[066b2d8af59fea80ccdb3d54ad5c1091]\n",
       "link E13 to E5--><a href=\"psysml:78896435-f936-4df6-9172-2ff6f9da23d9\" target=\"_top\" title=\"psysml:78896435-f936-4df6-9172-2ff6f9da23d9\" xlink:actuate=\"onRequest\" xlink:href=\"psysml:78896435-f936-4df6-9172-2ff6f9da23d9\" xlink:show=\"new\" xlink:title=\"psysml:78896435-f936-4df6-9172-2ff6f9da23d9\" xlink:type=\"simple\"><path d=\"M67.3,130.1 C77.72,146.2 92.11,168.44 104.47,187.55 \" fill=\"none\" id=\"E13-&gt;E5\" style=\"stroke: #A80036; stroke-width: 1.0;\"/><polygon fill=\"#FFFFFF\" points=\"115.51,204.61,99.3134,192.4581,111.0687,184.8546,115.51,204.61\" style=\"stroke: #A80036; stroke-width: 1.0;\"/><ellipse cx=\"97.897\" cy=\"186.5858\" fill=\"#A80036\" rx=\"2\" ry=\"2\" style=\"stroke: #A80036; stroke-width: 1.0;\"/><ellipse cx=\"106.2937\" cy=\"181.1547\" fill=\"#A80036\" rx=\"2\" ry=\"2\" style=\"stroke: #A80036; stroke-width: 1.0;\"/></a><!--MD5=[ae221afc3a9f5d6cc4aa0158a6dc2ecb]\n",
       "@startuml\r\n",
       "skinparam wrapWidth 300\r\n",
       "hide circle\r\n",
       "\r\n",
       "package \"CircularImport\" as E1  [[psysml:33738fcf-e3ee-4a7e-98d6-e975d5107ba1 ]]  {\r\n",
       "package \"P1\" as E2  [[psysml:130ef6c7-3ccc-43b9-a62a-eb926cce14a9 ]]  {\r\n",
       "comp def \"A\" as E3  <<(T,blue) part def>> [[psysml:cb0f7157-438a-4ad5-8a96-0def6a248a5a ]] {\r\n",
       "}\r\n",
       "}\r\n",
       "package \"P2\" as E4  [[psysml:0bc4dbd6-620a-45b9-8d32-94753792e496 ]]  {\r\n",
       "comp def \"B\" as E5  <<(T,blue) part def>> [[psysml:fa716e5d-1985-44ef-b151-4b2b4c0691ed ]] {\r\n",
       "}\r\n",
       "}\r\n",
       "package \"Test1\" as E6  [[psysml:b4043d48-e2a3-4796-9568-6bbff931ebfd ]]  {\r\n",
       "comp usage \"x: A\" as E7  <<(T,blue) part>> [[psysml:418b0add-8d91-4a6d-810e-c529e1e5d9c2 ]] {\r\n",
       "}\r\n",
       "comp usage \"y: B\" as E8  <<(T,blue) part>> [[psysml:c18479a8-8a5a-4a0f-a7e4-033b0648dafb ]] {\r\n",
       "}\r\n",
       "E7 - -:|> E3 [[psysml:c27725e1-02a3-443e-822c-73205e66e264 ]] \r\n",
       "E8 - -:|> E5 [[psysml:43ceeb8e-eeaf-4aa9-b958-61b6f980f202 ]] \r\n",
       "}\r\n",
       "package \"Test2\" as E9  [[psysml:85a9df72-6515-46a6-853d-c4da844a4980 ]]  {\r\n",
       "comp usage \"x: A\" as E10  <<(T,blue) part>> [[psysml:61feb9d5-4074-478e-84bb-b7eccf03922b ]] {\r\n",
       "}\r\n",
       "comp usage \"y: B\" as E11  <<(T,blue) part>> [[psysml:2edd355f-e967-45cc-82fe-80091bb729bd ]] {\r\n",
       "}\r\n",
       "E10 - -:|> E3 [[psysml:2f015e6c-7efc-43fd-92bb-26e8cb5e6a22 ]] \r\n",
       "E11 - -:|> E5 [[psysml:7cf9fed8-155f-433e-a01b-9d13c54aa089 ]] \r\n",
       "}\r\n",
       "comp usage \"x: A\" as E12  <<(T,blue) part>> [[psysml:530a6ae9-7dc1-4851-ab10-936e92c948f7 ]] {\r\n",
       "}\r\n",
       "comp usage \"y: B\" as E13  <<(T,blue) part>> [[psysml:561bfa55-252f-4783-9fb1-458618dbf236 ]] {\r\n",
       "}\r\n",
       "E12 - -:|> E3 [[psysml:2b9be10b-590f-4358-bedf-a86ab0ed6bce ]] \r\n",
       "E13 - -:|> E5 [[psysml:78896435-f936-4df6-9172-2ff6f9da23d9 ]] \r\n",
       "}\r\n",
       "@enduml\r\n",
       "\n",
       "PlantUML version 1.2020.13(Sat Jun 13 12:26:38 UTC 2020)\n",
       "(EPL source distribution)\n",
       "Java Runtime: OpenJDK Runtime Environment\n",
       "JVM: OpenJDK 64-Bit Server VM\n",
       "Default Encoding: UTF-8\n",
       "Language: en\n",
       "Country: null\n",
       "--></g></svg>"
      ]
     },
     "execution_count": 24,
     "metadata": {},
     "output_type": "execute_result"
    }
   ],
   "source": [
    "%viz --style=\"STDCOLOR\" --view=\"Tree\" \"CircularImport\""
   ]
  },
  {
   "cell_type": "code",
   "execution_count": 25,
   "id": "0d5a4fc9",
   "metadata": {
    "execution": {
     "iopub.execute_input": "2021-06-30T09:15:10.108215Z",
     "iopub.status.busy": "2021-06-30T09:15:10.107569Z",
     "iopub.status.idle": "2021-06-30T09:15:10.113135Z",
     "shell.execute_reply": "2021-06-30T09:15:10.112612Z"
    }
   },
   "outputs": [
    {
     "data": {
      "image/svg+xml": [
       "<?xml version=\"1.0\" encoding=\"UTF-8\" standalone=\"no\"?><svg xmlns=\"http://www.w3.org/2000/svg\" xmlns:xlink=\"http://www.w3.org/1999/xlink\" contentScriptType=\"application/ecmascript\" contentStyleType=\"text/css\" height=\"12px\" preserveAspectRatio=\"none\" style=\"width:12px;height:12px;\" version=\"1.1\" viewBox=\"0 0 12 12\" width=\"12px\" zoomAndPan=\"magnify\"><defs/><g><!--MD5=[aeeef50f102b80d730deb6443d14f702]\n",
       "@startuml\r\n",
       "skinparam wrapWidth 300\r\n",
       "hide circle\r\n",
       "\r\n",
       "@enduml\r\n",
       "\n",
       "PlantUML version 1.2020.13(Sat Jun 13 12:26:38 UTC 2020)\n",
       "(EPL source distribution)\n",
       "Java Runtime: OpenJDK Runtime Environment\n",
       "JVM: OpenJDK 64-Bit Server VM\n",
       "Default Encoding: UTF-8\n",
       "Language: en\n",
       "Country: null\n",
       "--></g></svg>"
      ]
     },
     "execution_count": 25,
     "metadata": {},
     "output_type": "execute_result"
    }
   ],
   "source": [
    "%viz --style=\"STDCOLOR\" --view=\"State\" \"CircularImport\""
   ]
  },
  {
   "cell_type": "code",
   "execution_count": 26,
   "id": "9d0cfa94",
   "metadata": {
    "execution": {
     "iopub.execute_input": "2021-06-30T09:15:10.165864Z",
     "iopub.status.busy": "2021-06-30T09:15:10.165032Z",
     "iopub.status.idle": "2021-06-30T09:15:10.214971Z",
     "shell.execute_reply": "2021-06-30T09:15:10.212887Z"
    }
   },
   "outputs": [
    {
     "data": {
      "image/svg+xml": [
       "<?xml version=\"1.0\" encoding=\"UTF-8\" standalone=\"no\"?><svg xmlns=\"http://www.w3.org/2000/svg\" xmlns:xlink=\"http://www.w3.org/1999/xlink\" contentScriptType=\"application/ecmascript\" contentStyleType=\"text/css\" height=\"179px\" preserveAspectRatio=\"none\" style=\"width:846px;height:179px;\" version=\"1.1\" viewBox=\"0 0 846 179\" width=\"846px\" zoomAndPan=\"magnify\"><defs><filter height=\"300%\" id=\"fje5o7njf0fek\" width=\"300%\" x=\"-1\" y=\"-1\"><feGaussianBlur result=\"blurOut\" stdDeviation=\"2.0\"/><feColorMatrix in=\"blurOut\" result=\"blurOut2\" type=\"matrix\" values=\"0 0 0 0 0 0 0 0 0 0 0 0 0 0 0 0 0 0 .4 0\"/><feOffset dx=\"4.0\" dy=\"4.0\" in=\"blurOut2\" result=\"blurOut3\"/><feBlend in=\"SourceGraphic\" in2=\"blurOut3\" mode=\"normal\"/></filter></defs><g><!--MD5=[fbc87193dbaf4d95561dea2c320d4a47]\n",
       "cluster E1--><a href=\"psysml:33738fcf-e3ee-4a7e-98d6-e975d5107ba1\" target=\"_top\" title=\"psysml:33738fcf-e3ee-4a7e-98d6-e975d5107ba1\" xlink:actuate=\"onRequest\" xlink:href=\"psysml:33738fcf-e3ee-4a7e-98d6-e975d5107ba1\" xlink:show=\"new\" xlink:title=\"psysml:33738fcf-e3ee-4a7e-98d6-e975d5107ba1\" xlink:type=\"simple\"><polygon fill=\"#FFFFFF\" filter=\"url(#fje5o7njf0fek)\" points=\"16,6,134,6,141,28.2969,824,28.2969,824,167,16,167,16,6\" style=\"stroke: #000000; stroke-width: 1.5;\"/><line style=\"stroke: #000000; stroke-width: 1.5;\" x1=\"16\" x2=\"141\" y1=\"28.2969\" y2=\"28.2969\"/><text fill=\"#000000\" font-family=\"sans-serif\" font-size=\"14\" font-weight=\"bold\" lengthAdjust=\"spacingAndGlyphs\" textLength=\"112\" x=\"20\" y=\"20.9951\">CircularImport</text></a><!--MD5=[e4f7fae6ed58524ba242bb0b0d3be6b7]\n",
       "cluster E2--><a href=\"psysml:130ef6c7-3ccc-43b9-a62a-eb926cce14a9\" target=\"_top\" title=\"psysml:130ef6c7-3ccc-43b9-a62a-eb926cce14a9\" xlink:actuate=\"onRequest\" xlink:href=\"psysml:130ef6c7-3ccc-43b9-a62a-eb926cce14a9\" xlink:show=\"new\" xlink:title=\"psysml:130ef6c7-3ccc-43b9-a62a-eb926cce14a9\" xlink:type=\"simple\"><polygon fill=\"#FFFFFF\" filter=\"url(#fje5o7njf0fek)\" points=\"696,49,722,49,729,71.2969,800,71.2969,800,143,696,143,696,49\" style=\"stroke: #000000; stroke-width: 1.5;\"/><line style=\"stroke: #000000; stroke-width: 1.5;\" x1=\"696\" x2=\"729\" y1=\"71.2969\" y2=\"71.2969\"/><text fill=\"#000000\" font-family=\"sans-serif\" font-size=\"14\" font-weight=\"bold\" lengthAdjust=\"spacingAndGlyphs\" textLength=\"20\" x=\"700\" y=\"63.9951\">P1</text></a><!--MD5=[f6df4d0ebaf0b5dfb2ced0ae5af7c670]\n",
       "cluster E4--><a href=\"psysml:0bc4dbd6-620a-45b9-8d32-94753792e496\" target=\"_top\" title=\"psysml:0bc4dbd6-620a-45b9-8d32-94753792e496\" xlink:actuate=\"onRequest\" xlink:href=\"psysml:0bc4dbd6-620a-45b9-8d32-94753792e496\" xlink:show=\"new\" xlink:title=\"psysml:0bc4dbd6-620a-45b9-8d32-94753792e496\" xlink:type=\"simple\"><polygon fill=\"#FFFFFF\" filter=\"url(#fje5o7njf0fek)\" points=\"568,49,594,49,601,71.2969,672,71.2969,672,143,568,143,568,49\" style=\"stroke: #000000; stroke-width: 1.5;\"/><line style=\"stroke: #000000; stroke-width: 1.5;\" x1=\"568\" x2=\"601\" y1=\"71.2969\" y2=\"71.2969\"/><text fill=\"#000000\" font-family=\"sans-serif\" font-size=\"14\" font-weight=\"bold\" lengthAdjust=\"spacingAndGlyphs\" textLength=\"20\" x=\"572\" y=\"63.9951\">P2</text></a><!--MD5=[14e3b0961a2654348d326746436168a1]\n",
       "cluster E6--><a href=\"psysml:b4043d48-e2a3-4796-9568-6bbff931ebfd\" target=\"_top\" title=\"psysml:b4043d48-e2a3-4796-9568-6bbff931ebfd\" xlink:actuate=\"onRequest\" xlink:href=\"psysml:b4043d48-e2a3-4796-9568-6bbff931ebfd\" xlink:show=\"new\" xlink:title=\"psysml:b4043d48-e2a3-4796-9568-6bbff931ebfd\" xlink:type=\"simple\"><polygon fill=\"#FFFFFF\" filter=\"url(#fje5o7njf0fek)\" points=\"377,50.5,428,50.5,435,72.7969,544,72.7969,544,141.5,377,141.5,377,50.5\" style=\"stroke: #000000; stroke-width: 1.5;\"/><line style=\"stroke: #000000; stroke-width: 1.5;\" x1=\"377\" x2=\"435\" y1=\"72.7969\" y2=\"72.7969\"/><text fill=\"#000000\" font-family=\"sans-serif\" font-size=\"14\" font-weight=\"bold\" lengthAdjust=\"spacingAndGlyphs\" textLength=\"45\" x=\"381\" y=\"65.4951\">Test1</text></a><!--MD5=[7f149f147074ac12df2cb0a7728a5fb0]\n",
       "cluster E9--><a href=\"psysml:85a9df72-6515-46a6-853d-c4da844a4980\" target=\"_top\" title=\"psysml:85a9df72-6515-46a6-853d-c4da844a4980\" xlink:actuate=\"onRequest\" xlink:href=\"psysml:85a9df72-6515-46a6-853d-c4da844a4980\" xlink:show=\"new\" xlink:title=\"psysml:85a9df72-6515-46a6-853d-c4da844a4980\" xlink:type=\"simple\"><polygon fill=\"#FFFFFF\" filter=\"url(#fje5o7njf0fek)\" points=\"186,50.5,237,50.5,244,72.7969,353,72.7969,353,141.5,186,141.5,186,50.5\" style=\"stroke: #000000; stroke-width: 1.5;\"/><line style=\"stroke: #000000; stroke-width: 1.5;\" x1=\"186\" x2=\"244\" y1=\"72.7969\" y2=\"72.7969\"/><text fill=\"#000000\" font-family=\"sans-serif\" font-size=\"14\" font-weight=\"bold\" lengthAdjust=\"spacingAndGlyphs\" textLength=\"45\" x=\"190\" y=\"65.4951\">Test2</text></a><g id=\"E1.E2.E3\"><a href=\"psysml:cb0f7157-438a-4ad5-8a96-0def6a248a5a\" target=\"_top\" title=\"psysml:cb0f7157-438a-4ad5-8a96-0def6a248a5a\" xlink:actuate=\"onRequest\" xlink:href=\"psysml:cb0f7157-438a-4ad5-8a96-0def6a248a5a\" xlink:show=\"new\" xlink:title=\"psysml:cb0f7157-438a-4ad5-8a96-0def6a248a5a\" xlink:type=\"simple\"><rect fill=\"#FEFECE\" filter=\"url(#fje5o7njf0fek)\" height=\"42.9375\" id=\"E3\" style=\"stroke: #A80036; stroke-width: 1.5;\" width=\"71\" x=\"712.5\" y=\"84\"/><text fill=\"#000000\" font-family=\"sans-serif\" font-size=\"12\" font-style=\"italic\" lengthAdjust=\"spacingAndGlyphs\" textLength=\"64\" x=\"716\" y=\"100.1387\">«part def»</text><text fill=\"#000000\" font-family=\"sans-serif\" font-size=\"12\" lengthAdjust=\"spacingAndGlyphs\" textLength=\"8\" x=\"744\" y=\"114.1074\">A</text></a></g><g id=\"E1.E4.E5\"><a href=\"psysml:fa716e5d-1985-44ef-b151-4b2b4c0691ed\" target=\"_top\" title=\"psysml:fa716e5d-1985-44ef-b151-4b2b4c0691ed\" xlink:actuate=\"onRequest\" xlink:href=\"psysml:fa716e5d-1985-44ef-b151-4b2b4c0691ed\" xlink:show=\"new\" xlink:title=\"psysml:fa716e5d-1985-44ef-b151-4b2b4c0691ed\" xlink:type=\"simple\"><rect fill=\"#FEFECE\" filter=\"url(#fje5o7njf0fek)\" height=\"42.9375\" id=\"E5\" style=\"stroke: #A80036; stroke-width: 1.5;\" width=\"71\" x=\"584.5\" y=\"84\"/><text fill=\"#000000\" font-family=\"sans-serif\" font-size=\"12\" font-style=\"italic\" lengthAdjust=\"spacingAndGlyphs\" textLength=\"64\" x=\"588\" y=\"100.1387\">«part def»</text><text fill=\"#000000\" font-family=\"sans-serif\" font-size=\"12\" lengthAdjust=\"spacingAndGlyphs\" textLength=\"8\" x=\"616\" y=\"114.1074\">B</text></a></g><g id=\"E1.E6.E7\"><a href=\"psysml:418b0add-8d91-4a6d-810e-c529e1e5d9c2\" target=\"_top\" title=\"psysml:418b0add-8d91-4a6d-810e-c529e1e5d9c2\" xlink:actuate=\"onRequest\" xlink:href=\"psysml:418b0add-8d91-4a6d-810e-c529e1e5d9c2\" xlink:show=\"new\" xlink:title=\"psysml:418b0add-8d91-4a6d-810e-c529e1e5d9c2\" xlink:type=\"simple\"><rect fill=\"#FEFECE\" filter=\"url(#fje5o7njf0fek)\" height=\"40\" id=\"E7\" rx=\"10\" ry=\"10\" style=\"stroke: #A80036; stroke-width: 1.5;\" width=\"50\" x=\"478\" y=\"85.5\"/><text fill=\"#000000\" font-family=\"sans-serif\" font-size=\"12\" lengthAdjust=\"spacingAndGlyphs\" textLength=\"22\" x=\"492\" y=\"101.6387\">x: A</text></a></g><g id=\"E1.E6.E8\"><a href=\"psysml:c18479a8-8a5a-4a0f-a7e4-033b0648dafb\" target=\"_top\" title=\"psysml:c18479a8-8a5a-4a0f-a7e4-033b0648dafb\" xlink:actuate=\"onRequest\" xlink:href=\"psysml:c18479a8-8a5a-4a0f-a7e4-033b0648dafb\" xlink:show=\"new\" xlink:title=\"psysml:c18479a8-8a5a-4a0f-a7e4-033b0648dafb\" xlink:type=\"simple\"><rect fill=\"#FEFECE\" filter=\"url(#fje5o7njf0fek)\" height=\"40\" id=\"E8\" rx=\"10\" ry=\"10\" style=\"stroke: #A80036; stroke-width: 1.5;\" width=\"50\" x=\"393\" y=\"85.5\"/><text fill=\"#000000\" font-family=\"sans-serif\" font-size=\"12\" lengthAdjust=\"spacingAndGlyphs\" textLength=\"22\" x=\"407\" y=\"101.6387\">y: B</text></a></g><g id=\"E1.E9.E10\"><a href=\"psysml:61feb9d5-4074-478e-84bb-b7eccf03922b\" target=\"_top\" title=\"psysml:61feb9d5-4074-478e-84bb-b7eccf03922b\" xlink:actuate=\"onRequest\" xlink:href=\"psysml:61feb9d5-4074-478e-84bb-b7eccf03922b\" xlink:show=\"new\" xlink:title=\"psysml:61feb9d5-4074-478e-84bb-b7eccf03922b\" xlink:type=\"simple\"><rect fill=\"#FEFECE\" filter=\"url(#fje5o7njf0fek)\" height=\"40\" id=\"E10\" rx=\"10\" ry=\"10\" style=\"stroke: #A80036; stroke-width: 1.5;\" width=\"50\" x=\"287\" y=\"85.5\"/><text fill=\"#000000\" font-family=\"sans-serif\" font-size=\"12\" lengthAdjust=\"spacingAndGlyphs\" textLength=\"22\" x=\"301\" y=\"101.6387\">x: A</text></a></g><g id=\"E1.E9.E11\"><a href=\"psysml:2edd355f-e967-45cc-82fe-80091bb729bd\" target=\"_top\" title=\"psysml:2edd355f-e967-45cc-82fe-80091bb729bd\" xlink:actuate=\"onRequest\" xlink:href=\"psysml:2edd355f-e967-45cc-82fe-80091bb729bd\" xlink:show=\"new\" xlink:title=\"psysml:2edd355f-e967-45cc-82fe-80091bb729bd\" xlink:type=\"simple\"><rect fill=\"#FEFECE\" filter=\"url(#fje5o7njf0fek)\" height=\"40\" id=\"E11\" rx=\"10\" ry=\"10\" style=\"stroke: #A80036; stroke-width: 1.5;\" width=\"50\" x=\"202\" y=\"85.5\"/><text fill=\"#000000\" font-family=\"sans-serif\" font-size=\"12\" lengthAdjust=\"spacingAndGlyphs\" textLength=\"22\" x=\"216\" y=\"101.6387\">y: B</text></a></g><g id=\"E1.E12\"><a href=\"psysml:530a6ae9-7dc1-4851-ab10-936e92c948f7\" target=\"_top\" title=\"psysml:530a6ae9-7dc1-4851-ab10-936e92c948f7\" xlink:actuate=\"onRequest\" xlink:href=\"psysml:530a6ae9-7dc1-4851-ab10-936e92c948f7\" xlink:show=\"new\" xlink:title=\"psysml:530a6ae9-7dc1-4851-ab10-936e92c948f7\" xlink:type=\"simple\"><rect fill=\"#FEFECE\" filter=\"url(#fje5o7njf0fek)\" height=\"40\" id=\"E12\" rx=\"10\" ry=\"10\" style=\"stroke: #A80036; stroke-width: 1.5;\" width=\"50\" x=\"117\" y=\"85.5\"/><text fill=\"#000000\" font-family=\"sans-serif\" font-size=\"12\" lengthAdjust=\"spacingAndGlyphs\" textLength=\"22\" x=\"131\" y=\"101.6387\">x: A</text></a></g><g id=\"E1.E13\"><a href=\"psysml:561bfa55-252f-4783-9fb1-458618dbf236\" target=\"_top\" title=\"psysml:561bfa55-252f-4783-9fb1-458618dbf236\" xlink:actuate=\"onRequest\" xlink:href=\"psysml:561bfa55-252f-4783-9fb1-458618dbf236\" xlink:show=\"new\" xlink:title=\"psysml:561bfa55-252f-4783-9fb1-458618dbf236\" xlink:type=\"simple\"><rect fill=\"#FEFECE\" filter=\"url(#fje5o7njf0fek)\" height=\"40\" id=\"E13\" rx=\"10\" ry=\"10\" style=\"stroke: #A80036; stroke-width: 1.5;\" width=\"50\" x=\"32\" y=\"85.5\"/><text fill=\"#000000\" font-family=\"sans-serif\" font-size=\"12\" lengthAdjust=\"spacingAndGlyphs\" textLength=\"22\" x=\"46\" y=\"101.6387\">y: B</text></a></g><!--MD5=[8c595d4051ce167bc913fc0867f2549f]\n",
       "@startuml\r\n",
       "skinparam ranksep 10\r\n",
       "skinparam rectangle {\r\n",
       " backgroundColor<<block>> LightGreen\r\n",
       "}\r\n",
       "skinparam wrapWidth 300\r\n",
       "hide circle\r\n",
       "\r\n",
       "package \"CircularImport\" as E1  [[psysml:33738fcf-e3ee-4a7e-98d6-e975d5107ba1 ]]  {\r\n",
       "package \"P1\" as E2  [[psysml:130ef6c7-3ccc-43b9-a62a-eb926cce14a9 ]]  {\r\n",
       "rec def \"A\" as E3  <<(T,blue) part def>> [[psysml:cb0f7157-438a-4ad5-8a96-0def6a248a5a ]] {\r\n",
       "}\r\n",
       "}\r\n",
       "package \"P2\" as E4  [[psysml:0bc4dbd6-620a-45b9-8d32-94753792e496 ]]  {\r\n",
       "rec def \"B\" as E5  <<(T,blue) part def>> [[psysml:fa716e5d-1985-44ef-b151-4b2b4c0691ed ]] {\r\n",
       "}\r\n",
       "}\r\n",
       "package \"Test1\" as E6  [[psysml:b4043d48-e2a3-4796-9568-6bbff931ebfd ]]  {\r\n",
       "rec usage \"x: A\" as E7  [[psysml:418b0add-8d91-4a6d-810e-c529e1e5d9c2 ]] {\r\n",
       "}\r\n",
       "rec usage \"y: B\" as E8  [[psysml:c18479a8-8a5a-4a0f-a7e4-033b0648dafb ]] {\r\n",
       "}\r\n",
       "}\r\n",
       "package \"Test2\" as E9  [[psysml:85a9df72-6515-46a6-853d-c4da844a4980 ]]  {\r\n",
       "rec usage \"x: A\" as E10  [[psysml:61feb9d5-4074-478e-84bb-b7eccf03922b ]] {\r\n",
       "}\r\n",
       "rec usage \"y: B\" as E11  [[psysml:2edd355f-e967-45cc-82fe-80091bb729bd ]] {\r\n",
       "}\r\n",
       "}\r\n",
       "rec usage \"x: A\" as E12  [[psysml:530a6ae9-7dc1-4851-ab10-936e92c948f7 ]] {\r\n",
       "}\r\n",
       "rec usage \"y: B\" as E13  [[psysml:561bfa55-252f-4783-9fb1-458618dbf236 ]] {\r\n",
       "}\r\n",
       "}\r\n",
       "@enduml\r\n",
       "\n",
       "PlantUML version 1.2020.13(Sat Jun 13 12:26:38 UTC 2020)\n",
       "(EPL source distribution)\n",
       "Java Runtime: OpenJDK Runtime Environment\n",
       "JVM: OpenJDK 64-Bit Server VM\n",
       "Default Encoding: UTF-8\n",
       "Language: en\n",
       "Country: null\n",
       "--></g></svg>"
      ]
     },
     "execution_count": 26,
     "metadata": {},
     "output_type": "execute_result"
    }
   ],
   "source": [
    "%viz --style=\"STDCOLOR\" --view=\"Interconnection\" \"CircularImport\""
   ]
  },
  {
   "cell_type": "code",
   "execution_count": 27,
   "id": "6d0451ae",
   "metadata": {
    "execution": {
     "iopub.execute_input": "2021-06-30T09:15:10.267731Z",
     "iopub.status.busy": "2021-06-30T09:15:10.266904Z",
     "iopub.status.idle": "2021-06-30T09:15:10.274888Z",
     "shell.execute_reply": "2021-06-30T09:15:10.274253Z"
    }
   },
   "outputs": [
    {
     "data": {
      "image/svg+xml": [
       "<?xml version=\"1.0\" encoding=\"UTF-8\" standalone=\"no\"?><svg xmlns=\"http://www.w3.org/2000/svg\" xmlns:xlink=\"http://www.w3.org/1999/xlink\" contentScriptType=\"application/ecmascript\" contentStyleType=\"text/css\" height=\"12px\" preserveAspectRatio=\"none\" style=\"width:12px;height:12px;\" version=\"1.1\" viewBox=\"0 0 12 12\" width=\"12px\" zoomAndPan=\"magnify\"><defs/><g><!--MD5=[9863325348a96a77dacc89509d8ee65e]\n",
       "@startuml\r\n",
       "skinparam ranksep 8\r\n",
       "skinparam wrapWidth 300\r\n",
       "hide circle\r\n",
       "\r\n",
       "@enduml\r\n",
       "\n",
       "PlantUML version 1.2020.13(Sat Jun 13 12:26:38 UTC 2020)\n",
       "(EPL source distribution)\n",
       "Java Runtime: OpenJDK Runtime Environment\n",
       "JVM: OpenJDK 64-Bit Server VM\n",
       "Default Encoding: UTF-8\n",
       "Language: en\n",
       "Country: null\n",
       "--></g></svg>"
      ]
     },
     "execution_count": 27,
     "metadata": {},
     "output_type": "execute_result"
    }
   ],
   "source": [
    "%viz --style=\"STDCOLOR\" --view=\"Action\" \"CircularImport\""
   ]
  },
  {
   "cell_type": "code",
   "execution_count": 28,
   "id": "1124541f",
   "metadata": {
    "execution": {
     "iopub.execute_input": "2021-06-30T09:15:10.327773Z",
     "iopub.status.busy": "2021-06-30T09:15:10.326913Z",
     "iopub.status.idle": "2021-06-30T09:15:10.432460Z",
     "shell.execute_reply": "2021-06-30T09:15:10.431900Z"
    }
   },
   "outputs": [
    {
     "data": {
      "image/svg+xml": [
       "<?xml version=\"1.0\" encoding=\"UTF-8\" standalone=\"no\"?><svg xmlns=\"http://www.w3.org/2000/svg\" xmlns:xlink=\"http://www.w3.org/1999/xlink\" contentScriptType=\"application/ecmascript\" contentStyleType=\"text/css\" height=\"303px\" preserveAspectRatio=\"none\" style=\"width:518px;height:303px;\" version=\"1.1\" viewBox=\"0 0 518 303\" width=\"518px\" zoomAndPan=\"magnify\"><defs><filter height=\"300%\" id=\"f1jbeihld86d0f\" width=\"300%\" x=\"-1\" y=\"-1\"><feGaussianBlur result=\"blurOut\" stdDeviation=\"2.0\"/><feColorMatrix in=\"blurOut\" result=\"blurOut2\" type=\"matrix\" values=\"0 0 0 0 0 0 0 0 0 0 0 0 0 0 0 0 0 0 .4 0\"/><feOffset dx=\"4.0\" dy=\"4.0\" in=\"blurOut2\" result=\"blurOut3\"/><feBlend in=\"SourceGraphic\" in2=\"blurOut3\" mode=\"normal\"/></filter></defs><g><!--MD5=[fbc87193dbaf4d95561dea2c320d4a47]\n",
       "cluster E1--><a href=\"psysml:33738fcf-e3ee-4a7e-98d6-e975d5107ba1\" target=\"_top\" title=\"psysml:33738fcf-e3ee-4a7e-98d6-e975d5107ba1\" xlink:actuate=\"onRequest\" xlink:href=\"psysml:33738fcf-e3ee-4a7e-98d6-e975d5107ba1\" xlink:show=\"new\" xlink:title=\"psysml:33738fcf-e3ee-4a7e-98d6-e975d5107ba1\" xlink:type=\"simple\"><polygon fill=\"#FFFFFF\" filter=\"url(#f1jbeihld86d0f)\" points=\"16,6,134,6,141,28.2969,496,28.2969,496,291,16,291,16,6\" style=\"stroke: #000000; stroke-width: 1.5;\"/><line style=\"stroke: #000000; stroke-width: 1.5;\" x1=\"16\" x2=\"141\" y1=\"28.2969\" y2=\"28.2969\"/><text fill=\"#000000\" font-family=\"sans-serif\" font-size=\"14\" font-weight=\"bold\" lengthAdjust=\"spacingAndGlyphs\" textLength=\"112\" x=\"20\" y=\"20.9951\">CircularImport</text></a><!--MD5=[e4f7fae6ed58524ba242bb0b0d3be6b7]\n",
       "cluster E2--><a href=\"psysml:130ef6c7-3ccc-43b9-a62a-eb926cce14a9\" target=\"_top\" title=\"psysml:130ef6c7-3ccc-43b9-a62a-eb926cce14a9\" xlink:actuate=\"onRequest\" xlink:href=\"psysml:130ef6c7-3ccc-43b9-a62a-eb926cce14a9\" xlink:show=\"new\" xlink:title=\"psysml:130ef6c7-3ccc-43b9-a62a-eb926cce14a9\" xlink:type=\"simple\"><polygon fill=\"#FFFFFF\" filter=\"url(#f1jbeihld86d0f)\" points=\"333,170,359,170,366,192.2969,431,192.2969,431,267,333,267,333,170\" style=\"stroke: #000000; stroke-width: 1.5;\"/><line style=\"stroke: #000000; stroke-width: 1.5;\" x1=\"333\" x2=\"366\" y1=\"192.2969\" y2=\"192.2969\"/><text fill=\"#000000\" font-family=\"sans-serif\" font-size=\"14\" font-weight=\"bold\" lengthAdjust=\"spacingAndGlyphs\" textLength=\"20\" x=\"337\" y=\"184.9951\">P1</text></a><!--MD5=[f6df4d0ebaf0b5dfb2ced0ae5af7c670]\n",
       "cluster E4--><a href=\"psysml:0bc4dbd6-620a-45b9-8d32-94753792e496\" target=\"_top\" title=\"psysml:0bc4dbd6-620a-45b9-8d32-94753792e496\" xlink:actuate=\"onRequest\" xlink:href=\"psysml:0bc4dbd6-620a-45b9-8d32-94753792e496\" xlink:show=\"new\" xlink:title=\"psysml:0bc4dbd6-620a-45b9-8d32-94753792e496\" xlink:type=\"simple\"><polygon fill=\"#FFFFFF\" filter=\"url(#f1jbeihld86d0f)\" points=\"81,170,107,170,114,192.2969,179,192.2969,179,267,81,267,81,170\" style=\"stroke: #000000; stroke-width: 1.5;\"/><line style=\"stroke: #000000; stroke-width: 1.5;\" x1=\"81\" x2=\"114\" y1=\"192.2969\" y2=\"192.2969\"/><text fill=\"#000000\" font-family=\"sans-serif\" font-size=\"14\" font-weight=\"bold\" lengthAdjust=\"spacingAndGlyphs\" textLength=\"20\" x=\"85\" y=\"184.9951\">P2</text></a><!--MD5=[14e3b0961a2654348d326746436168a1]\n",
       "cluster E6--><a href=\"psysml:b4043d48-e2a3-4796-9568-6bbff931ebfd\" target=\"_top\" title=\"psysml:b4043d48-e2a3-4796-9568-6bbff931ebfd\" xlink:actuate=\"onRequest\" xlink:href=\"psysml:b4043d48-e2a3-4796-9568-6bbff931ebfd\" xlink:show=\"new\" xlink:title=\"psysml:b4043d48-e2a3-4796-9568-6bbff931ebfd\" xlink:type=\"simple\"><polygon fill=\"#FFFFFF\" filter=\"url(#f1jbeihld86d0f)\" points=\"268,49,319,49,326,71.2969,419,71.2969,419,146,268,146,268,49\" style=\"stroke: #000000; stroke-width: 1.5;\"/><line style=\"stroke: #000000; stroke-width: 1.5;\" x1=\"268\" x2=\"326\" y1=\"71.2969\" y2=\"71.2969\"/><text fill=\"#000000\" font-family=\"sans-serif\" font-size=\"14\" font-weight=\"bold\" lengthAdjust=\"spacingAndGlyphs\" textLength=\"45\" x=\"272\" y=\"63.9951\">Test1</text></a><!--MD5=[7f149f147074ac12df2cb0a7728a5fb0]\n",
       "cluster E9--><a href=\"psysml:85a9df72-6515-46a6-853d-c4da844a4980\" target=\"_top\" title=\"psysml:85a9df72-6515-46a6-853d-c4da844a4980\" xlink:actuate=\"onRequest\" xlink:href=\"psysml:85a9df72-6515-46a6-853d-c4da844a4980\" xlink:show=\"new\" xlink:title=\"psysml:85a9df72-6515-46a6-853d-c4da844a4980\" xlink:type=\"simple\"><polygon fill=\"#FFFFFF\" filter=\"url(#f1jbeihld86d0f)\" points=\"93,49,144,49,151,71.2969,244,71.2969,244,146,93,146,93,49\" style=\"stroke: #000000; stroke-width: 1.5;\"/><line style=\"stroke: #000000; stroke-width: 1.5;\" x1=\"93\" x2=\"151\" y1=\"71.2969\" y2=\"71.2969\"/><text fill=\"#000000\" font-family=\"sans-serif\" font-size=\"14\" font-weight=\"bold\" lengthAdjust=\"spacingAndGlyphs\" textLength=\"45\" x=\"97\" y=\"63.9951\">Test2</text></a><!--MD5=[49a0ec8f00dab7302a31f22d0f0fe584]\n",
       "class E12--><a href=\"psysml:530a6ae9-7dc1-4851-ab10-936e92c948f7\" target=\"_top\" title=\"psysml:530a6ae9-7dc1-4851-ab10-936e92c948f7\" xlink:actuate=\"onRequest\" xlink:href=\"psysml:530a6ae9-7dc1-4851-ab10-936e92c948f7\" xlink:show=\"new\" xlink:title=\"psysml:530a6ae9-7dc1-4851-ab10-936e92c948f7\" xlink:type=\"simple\"><rect fill=\"#FEFECE\" filter=\"url(#f1jbeihld86d0f)\" height=\"45.9375\" id=\"E12\" rx=\"10\" ry=\"10\" style=\"stroke: #A80036; stroke-width: 1.5;\" width=\"42\" x=\"438\" y=\"84\"/><text fill=\"#000000\" font-family=\"sans-serif\" font-size=\"12\" font-style=\"italic\" lengthAdjust=\"spacingAndGlyphs\" textLength=\"40\" x=\"439\" y=\"100.1387\">«part»</text><text fill=\"#000000\" font-family=\"sans-serif\" font-size=\"12\" lengthAdjust=\"spacingAndGlyphs\" textLength=\"22\" x=\"448\" y=\"114.1074\">x: A</text><line style=\"stroke: #A80036; stroke-width: 1.5;\" x1=\"439\" x2=\"479\" y1=\"121.9375\" y2=\"121.9375\"/></a><!--MD5=[ee3c913d1a06f366521f9ef512b67efe]\n",
       "class E13--><a href=\"psysml:561bfa55-252f-4783-9fb1-458618dbf236\" target=\"_top\" title=\"psysml:561bfa55-252f-4783-9fb1-458618dbf236\" xlink:actuate=\"onRequest\" xlink:href=\"psysml:561bfa55-252f-4783-9fb1-458618dbf236\" xlink:show=\"new\" xlink:title=\"psysml:561bfa55-252f-4783-9fb1-458618dbf236\" xlink:type=\"simple\"><rect fill=\"#FEFECE\" filter=\"url(#f1jbeihld86d0f)\" height=\"45.9375\" id=\"E13\" rx=\"10\" ry=\"10\" style=\"stroke: #A80036; stroke-width: 1.5;\" width=\"42\" x=\"32\" y=\"84\"/><text fill=\"#000000\" font-family=\"sans-serif\" font-size=\"12\" font-style=\"italic\" lengthAdjust=\"spacingAndGlyphs\" textLength=\"40\" x=\"33\" y=\"100.1387\">«part»</text><text fill=\"#000000\" font-family=\"sans-serif\" font-size=\"12\" lengthAdjust=\"spacingAndGlyphs\" textLength=\"22\" x=\"42\" y=\"114.1074\">y: B</text><line style=\"stroke: #A80036; stroke-width: 1.5;\" x1=\"33\" x2=\"73\" y1=\"121.9375\" y2=\"121.9375\"/></a><!--MD5=[09b614a08d8cba4a07c9adeb5e0fee81]\n",
       "class E3--><a href=\"psysml:cb0f7157-438a-4ad5-8a96-0def6a248a5a\" target=\"_top\" title=\"psysml:cb0f7157-438a-4ad5-8a96-0def6a248a5a\" xlink:actuate=\"onRequest\" xlink:href=\"psysml:cb0f7157-438a-4ad5-8a96-0def6a248a5a\" xlink:show=\"new\" xlink:title=\"psysml:cb0f7157-438a-4ad5-8a96-0def6a248a5a\" xlink:type=\"simple\"><rect fill=\"#FEFECE\" filter=\"url(#f1jbeihld86d0f)\" height=\"45.9375\" id=\"E3\" style=\"stroke: #A80036; stroke-width: 1.5;\" width=\"66\" x=\"349\" y=\"205\"/><text fill=\"#000000\" font-family=\"sans-serif\" font-size=\"12\" font-style=\"italic\" lengthAdjust=\"spacingAndGlyphs\" textLength=\"64\" x=\"350\" y=\"221.1387\">«part def»</text><text fill=\"#000000\" font-family=\"sans-serif\" font-size=\"12\" lengthAdjust=\"spacingAndGlyphs\" textLength=\"8\" x=\"378\" y=\"235.1074\">A</text><line style=\"stroke: #A80036; stroke-width: 1.5;\" x1=\"350\" x2=\"414\" y1=\"242.9375\" y2=\"242.9375\"/></a><!--MD5=[270fce915f116d4de14055a7c1d9a0f3]\n",
       "class E5--><a href=\"psysml:fa716e5d-1985-44ef-b151-4b2b4c0691ed\" target=\"_top\" title=\"psysml:fa716e5d-1985-44ef-b151-4b2b4c0691ed\" xlink:actuate=\"onRequest\" xlink:href=\"psysml:fa716e5d-1985-44ef-b151-4b2b4c0691ed\" xlink:show=\"new\" xlink:title=\"psysml:fa716e5d-1985-44ef-b151-4b2b4c0691ed\" xlink:type=\"simple\"><rect fill=\"#FEFECE\" filter=\"url(#f1jbeihld86d0f)\" height=\"45.9375\" id=\"E5\" style=\"stroke: #A80036; stroke-width: 1.5;\" width=\"66\" x=\"97\" y=\"205\"/><text fill=\"#000000\" font-family=\"sans-serif\" font-size=\"12\" font-style=\"italic\" lengthAdjust=\"spacingAndGlyphs\" textLength=\"64\" x=\"98\" y=\"221.1387\">«part def»</text><text fill=\"#000000\" font-family=\"sans-serif\" font-size=\"12\" lengthAdjust=\"spacingAndGlyphs\" textLength=\"8\" x=\"126\" y=\"235.1074\">B</text><line style=\"stroke: #A80036; stroke-width: 1.5;\" x1=\"98\" x2=\"162\" y1=\"242.9375\" y2=\"242.9375\"/></a><!--MD5=[2156ba9850f5573cc1fc38a6a4b2f02b]\n",
       "class E7--><a href=\"psysml:418b0add-8d91-4a6d-810e-c529e1e5d9c2\" target=\"_top\" title=\"psysml:418b0add-8d91-4a6d-810e-c529e1e5d9c2\" xlink:actuate=\"onRequest\" xlink:href=\"psysml:418b0add-8d91-4a6d-810e-c529e1e5d9c2\" xlink:show=\"new\" xlink:title=\"psysml:418b0add-8d91-4a6d-810e-c529e1e5d9c2\" xlink:type=\"simple\"><rect fill=\"#FEFECE\" filter=\"url(#f1jbeihld86d0f)\" height=\"45.9375\" id=\"E7\" rx=\"10\" ry=\"10\" style=\"stroke: #A80036; stroke-width: 1.5;\" width=\"42\" x=\"361\" y=\"84\"/><text fill=\"#000000\" font-family=\"sans-serif\" font-size=\"12\" font-style=\"italic\" lengthAdjust=\"spacingAndGlyphs\" textLength=\"40\" x=\"362\" y=\"100.1387\">«part»</text><text fill=\"#000000\" font-family=\"sans-serif\" font-size=\"12\" lengthAdjust=\"spacingAndGlyphs\" textLength=\"22\" x=\"371\" y=\"114.1074\">x: A</text><line style=\"stroke: #A80036; stroke-width: 1.5;\" x1=\"362\" x2=\"402\" y1=\"121.9375\" y2=\"121.9375\"/></a><!--MD5=[b9389687b975829384b498ac4b7476b2]\n",
       "class E8--><a href=\"psysml:c18479a8-8a5a-4a0f-a7e4-033b0648dafb\" target=\"_top\" title=\"psysml:c18479a8-8a5a-4a0f-a7e4-033b0648dafb\" xlink:actuate=\"onRequest\" xlink:href=\"psysml:c18479a8-8a5a-4a0f-a7e4-033b0648dafb\" xlink:show=\"new\" xlink:title=\"psysml:c18479a8-8a5a-4a0f-a7e4-033b0648dafb\" xlink:type=\"simple\"><rect fill=\"#FEFECE\" filter=\"url(#f1jbeihld86d0f)\" height=\"45.9375\" id=\"E8\" rx=\"10\" ry=\"10\" style=\"stroke: #A80036; stroke-width: 1.5;\" width=\"42\" x=\"284\" y=\"84\"/><text fill=\"#000000\" font-family=\"sans-serif\" font-size=\"12\" font-style=\"italic\" lengthAdjust=\"spacingAndGlyphs\" textLength=\"40\" x=\"285\" y=\"100.1387\">«part»</text><text fill=\"#000000\" font-family=\"sans-serif\" font-size=\"12\" lengthAdjust=\"spacingAndGlyphs\" textLength=\"22\" x=\"294\" y=\"114.1074\">y: B</text><line style=\"stroke: #A80036; stroke-width: 1.5;\" x1=\"285\" x2=\"325\" y1=\"121.9375\" y2=\"121.9375\"/></a><!--MD5=[96f4274e9e20536e775497830990834d]\n",
       "class E10--><a href=\"psysml:61feb9d5-4074-478e-84bb-b7eccf03922b\" target=\"_top\" title=\"psysml:61feb9d5-4074-478e-84bb-b7eccf03922b\" xlink:actuate=\"onRequest\" xlink:href=\"psysml:61feb9d5-4074-478e-84bb-b7eccf03922b\" xlink:show=\"new\" xlink:title=\"psysml:61feb9d5-4074-478e-84bb-b7eccf03922b\" xlink:type=\"simple\"><rect fill=\"#FEFECE\" filter=\"url(#f1jbeihld86d0f)\" height=\"45.9375\" id=\"E10\" rx=\"10\" ry=\"10\" style=\"stroke: #A80036; stroke-width: 1.5;\" width=\"42\" x=\"186\" y=\"84\"/><text fill=\"#000000\" font-family=\"sans-serif\" font-size=\"12\" font-style=\"italic\" lengthAdjust=\"spacingAndGlyphs\" textLength=\"40\" x=\"187\" y=\"100.1387\">«part»</text><text fill=\"#000000\" font-family=\"sans-serif\" font-size=\"12\" lengthAdjust=\"spacingAndGlyphs\" textLength=\"22\" x=\"196\" y=\"114.1074\">x: A</text><line style=\"stroke: #A80036; stroke-width: 1.5;\" x1=\"187\" x2=\"227\" y1=\"121.9375\" y2=\"121.9375\"/></a><!--MD5=[1dd1bfd58a279cf63c5f349dbc8fc6a1]\n",
       "class E11--><a href=\"psysml:2edd355f-e967-45cc-82fe-80091bb729bd\" target=\"_top\" title=\"psysml:2edd355f-e967-45cc-82fe-80091bb729bd\" xlink:actuate=\"onRequest\" xlink:href=\"psysml:2edd355f-e967-45cc-82fe-80091bb729bd\" xlink:show=\"new\" xlink:title=\"psysml:2edd355f-e967-45cc-82fe-80091bb729bd\" xlink:type=\"simple\"><rect fill=\"#FEFECE\" filter=\"url(#f1jbeihld86d0f)\" height=\"45.9375\" id=\"E11\" rx=\"10\" ry=\"10\" style=\"stroke: #A80036; stroke-width: 1.5;\" width=\"42\" x=\"109\" y=\"84\"/><text fill=\"#000000\" font-family=\"sans-serif\" font-size=\"12\" font-style=\"italic\" lengthAdjust=\"spacingAndGlyphs\" textLength=\"40\" x=\"110\" y=\"100.1387\">«part»</text><text fill=\"#000000\" font-family=\"sans-serif\" font-size=\"12\" lengthAdjust=\"spacingAndGlyphs\" textLength=\"22\" x=\"119\" y=\"114.1074\">y: B</text><line style=\"stroke: #A80036; stroke-width: 1.5;\" x1=\"110\" x2=\"150\" y1=\"121.9375\" y2=\"121.9375\"/></a><!--MD5=[14ccda38c055a5c0da953d572bc50960]\n",
       "link E7 to E3--><a href=\"psysml:c27725e1-02a3-443e-822c-73205e66e264\" target=\"_top\" title=\"psysml:c27725e1-02a3-443e-822c-73205e66e264\" xlink:actuate=\"onRequest\" xlink:href=\"psysml:c27725e1-02a3-443e-822c-73205e66e264\" xlink:show=\"new\" xlink:title=\"psysml:c27725e1-02a3-443e-822c-73205e66e264\" xlink:type=\"simple\"><path d=\"M382,130.1 C382,145.37 382,166.16 382,184.57 \" fill=\"none\" id=\"E7-&gt;E3\" style=\"stroke: #A80036; stroke-width: 1.0;\"/><polygon fill=\"#FFFFFF\" points=\"382,204.61,375,185.61,389,185.61,382,204.61\" style=\"stroke: #A80036; stroke-width: 1.0;\"/><ellipse cx=\"377\" cy=\"179.91\" fill=\"#A80036\" rx=\"2\" ry=\"2\" style=\"stroke: #A80036; stroke-width: 1.0;\"/><ellipse cx=\"387\" cy=\"179.91\" fill=\"#A80036\" rx=\"2\" ry=\"2\" style=\"stroke: #A80036; stroke-width: 1.0;\"/></a><!--MD5=[1ccb2481ffa92f8d51a74ee30c51832a]\n",
       "link E8 to E5--><a href=\"psysml:43ceeb8e-eeaf-4aa9-b958-61b6f980f202\" target=\"_top\" title=\"psysml:43ceeb8e-eeaf-4aa9-b958-61b6f980f202\" xlink:actuate=\"onRequest\" xlink:href=\"psysml:43ceeb8e-eeaf-4aa9-b958-61b6f980f202\" xlink:show=\"new\" xlink:title=\"psysml:43ceeb8e-eeaf-4aa9-b958-61b6f980f202\" xlink:type=\"simple\"><path d=\"M283.84,124.59 C272.23,133.52 257.5,144.61 244,154 C223.51,168.25 200.41,183.24 180.38,195.91 \" fill=\"none\" id=\"E8-&gt;E5\" style=\"stroke: #A80036; stroke-width: 1.0;\"/><polygon fill=\"#FFFFFF\" points=\"163.36,206.57,175.7353,190.5434,183.175,202.403,163.36,206.57\" style=\"stroke: #A80036; stroke-width: 1.0;\"/><ellipse cx=\"181.6267\" cy=\"189.2086\" fill=\"#A80036\" rx=\"2\" ry=\"2\" style=\"stroke: #A80036; stroke-width: 1.0;\"/><ellipse cx=\"186.9408\" cy=\"197.6797\" fill=\"#A80036\" rx=\"2\" ry=\"2\" style=\"stroke: #A80036; stroke-width: 1.0;\"/></a><!--MD5=[feeac5eb423634930294aa81f2d25a4c]\n",
       "link E10 to E3--><a href=\"psysml:2f015e6c-7efc-43fd-92bb-26e8cb5e6a22\" target=\"_top\" title=\"psysml:2f015e6c-7efc-43fd-92bb-26e8cb5e6a22\" xlink:actuate=\"onRequest\" xlink:href=\"psysml:2f015e6c-7efc-43fd-92bb-26e8cb5e6a22\" xlink:show=\"new\" xlink:title=\"psysml:2f015e6c-7efc-43fd-92bb-26e8cb5e6a22\" xlink:type=\"simple\"><path d=\"M228.16,124.59 C239.77,133.52 254.5,144.61 268,154 C288.49,168.25 311.59,183.24 331.62,195.91 \" fill=\"none\" id=\"E10-&gt;E3\" style=\"stroke: #A80036; stroke-width: 1.0;\"/><polygon fill=\"#FFFFFF\" points=\"348.64,206.57,328.825,202.403,336.2647,190.5434,348.64,206.57\" style=\"stroke: #A80036; stroke-width: 1.0;\"/><ellipse cx=\"325.0592\" cy=\"197.6797\" fill=\"#A80036\" rx=\"2\" ry=\"2\" style=\"stroke: #A80036; stroke-width: 1.0;\"/><ellipse cx=\"330.3733\" cy=\"189.2086\" fill=\"#A80036\" rx=\"2\" ry=\"2\" style=\"stroke: #A80036; stroke-width: 1.0;\"/></a><!--MD5=[07b77f6f309248d16187045709d1c26e]\n",
       "link E11 to E5--><a href=\"psysml:7cf9fed8-155f-433e-a01b-9d13c54aa089\" target=\"_top\" title=\"psysml:7cf9fed8-155f-433e-a01b-9d13c54aa089\" xlink:actuate=\"onRequest\" xlink:href=\"psysml:7cf9fed8-155f-433e-a01b-9d13c54aa089\" xlink:show=\"new\" xlink:title=\"psysml:7cf9fed8-155f-433e-a01b-9d13c54aa089\" xlink:type=\"simple\"><path d=\"M130,130.1 C130,145.37 130,166.16 130,184.57 \" fill=\"none\" id=\"E11-&gt;E5\" style=\"stroke: #A80036; stroke-width: 1.0;\"/><polygon fill=\"#FFFFFF\" points=\"130,204.61,123,185.61,137,185.61,130,204.61\" style=\"stroke: #A80036; stroke-width: 1.0;\"/><ellipse cx=\"125\" cy=\"179.91\" fill=\"#A80036\" rx=\"2\" ry=\"2\" style=\"stroke: #A80036; stroke-width: 1.0;\"/><ellipse cx=\"135\" cy=\"179.91\" fill=\"#A80036\" rx=\"2\" ry=\"2\" style=\"stroke: #A80036; stroke-width: 1.0;\"/></a><!--MD5=[39f41a0e550fb3d73b4d8135617e30a2]\n",
       "link E12 to E3--><a href=\"psysml:2b9be10b-590f-4358-bedf-a86ab0ed6bce\" target=\"_top\" title=\"psysml:2b9be10b-590f-4358-bedf-a86ab0ed6bce\" xlink:actuate=\"onRequest\" xlink:href=\"psysml:2b9be10b-590f-4358-bedf-a86ab0ed6bce\" xlink:show=\"new\" xlink:title=\"psysml:2b9be10b-590f-4358-bedf-a86ab0ed6bce\" xlink:type=\"simple\"><path d=\"M444.7,130.1 C434.28,146.2 419.89,168.44 407.53,187.55 \" fill=\"none\" id=\"E12-&gt;E3\" style=\"stroke: #A80036; stroke-width: 1.0;\"/><polygon fill=\"#FFFFFF\" points=\"396.49,204.61,400.9313,184.8546,412.6866,192.4581,396.49,204.61\" style=\"stroke: #A80036; stroke-width: 1.0;\"/><ellipse cx=\"405.7063\" cy=\"181.1547\" fill=\"#A80036\" rx=\"2\" ry=\"2\" style=\"stroke: #A80036; stroke-width: 1.0;\"/><ellipse cx=\"414.103\" cy=\"186.5858\" fill=\"#A80036\" rx=\"2\" ry=\"2\" style=\"stroke: #A80036; stroke-width: 1.0;\"/></a><!--MD5=[066b2d8af59fea80ccdb3d54ad5c1091]\n",
       "link E13 to E5--><a href=\"psysml:78896435-f936-4df6-9172-2ff6f9da23d9\" target=\"_top\" title=\"psysml:78896435-f936-4df6-9172-2ff6f9da23d9\" xlink:actuate=\"onRequest\" xlink:href=\"psysml:78896435-f936-4df6-9172-2ff6f9da23d9\" xlink:show=\"new\" xlink:title=\"psysml:78896435-f936-4df6-9172-2ff6f9da23d9\" xlink:type=\"simple\"><path d=\"M67.3,130.1 C77.72,146.2 92.11,168.44 104.47,187.55 \" fill=\"none\" id=\"E13-&gt;E5\" style=\"stroke: #A80036; stroke-width: 1.0;\"/><polygon fill=\"#FFFFFF\" points=\"115.51,204.61,99.3134,192.4581,111.0687,184.8546,115.51,204.61\" style=\"stroke: #A80036; stroke-width: 1.0;\"/><ellipse cx=\"97.897\" cy=\"186.5858\" fill=\"#A80036\" rx=\"2\" ry=\"2\" style=\"stroke: #A80036; stroke-width: 1.0;\"/><ellipse cx=\"106.2937\" cy=\"181.1547\" fill=\"#A80036\" rx=\"2\" ry=\"2\" style=\"stroke: #A80036; stroke-width: 1.0;\"/></a><!--MD5=[ae221afc3a9f5d6cc4aa0158a6dc2ecb]\n",
       "@startuml\r\n",
       "skinparam wrapWidth 300\r\n",
       "hide circle\r\n",
       "\r\n",
       "package \"CircularImport\" as E1  [[psysml:33738fcf-e3ee-4a7e-98d6-e975d5107ba1 ]]  {\r\n",
       "package \"P1\" as E2  [[psysml:130ef6c7-3ccc-43b9-a62a-eb926cce14a9 ]]  {\r\n",
       "comp def \"A\" as E3  <<(T,blue) part def>> [[psysml:cb0f7157-438a-4ad5-8a96-0def6a248a5a ]] {\r\n",
       "}\r\n",
       "}\r\n",
       "package \"P2\" as E4  [[psysml:0bc4dbd6-620a-45b9-8d32-94753792e496 ]]  {\r\n",
       "comp def \"B\" as E5  <<(T,blue) part def>> [[psysml:fa716e5d-1985-44ef-b151-4b2b4c0691ed ]] {\r\n",
       "}\r\n",
       "}\r\n",
       "package \"Test1\" as E6  [[psysml:b4043d48-e2a3-4796-9568-6bbff931ebfd ]]  {\r\n",
       "comp usage \"x: A\" as E7  <<(T,blue) part>> [[psysml:418b0add-8d91-4a6d-810e-c529e1e5d9c2 ]] {\r\n",
       "}\r\n",
       "comp usage \"y: B\" as E8  <<(T,blue) part>> [[psysml:c18479a8-8a5a-4a0f-a7e4-033b0648dafb ]] {\r\n",
       "}\r\n",
       "E7 - -:|> E3 [[psysml:c27725e1-02a3-443e-822c-73205e66e264 ]] \r\n",
       "E8 - -:|> E5 [[psysml:43ceeb8e-eeaf-4aa9-b958-61b6f980f202 ]] \r\n",
       "}\r\n",
       "package \"Test2\" as E9  [[psysml:85a9df72-6515-46a6-853d-c4da844a4980 ]]  {\r\n",
       "comp usage \"x: A\" as E10  <<(T,blue) part>> [[psysml:61feb9d5-4074-478e-84bb-b7eccf03922b ]] {\r\n",
       "}\r\n",
       "comp usage \"y: B\" as E11  <<(T,blue) part>> [[psysml:2edd355f-e967-45cc-82fe-80091bb729bd ]] {\r\n",
       "}\r\n",
       "E10 - -:|> E3 [[psysml:2f015e6c-7efc-43fd-92bb-26e8cb5e6a22 ]] \r\n",
       "E11 - -:|> E5 [[psysml:7cf9fed8-155f-433e-a01b-9d13c54aa089 ]] \r\n",
       "}\r\n",
       "comp usage \"x: A\" as E12  <<(T,blue) part>> [[psysml:530a6ae9-7dc1-4851-ab10-936e92c948f7 ]] {\r\n",
       "}\r\n",
       "comp usage \"y: B\" as E13  <<(T,blue) part>> [[psysml:561bfa55-252f-4783-9fb1-458618dbf236 ]] {\r\n",
       "}\r\n",
       "E12 - -:|> E3 [[psysml:2b9be10b-590f-4358-bedf-a86ab0ed6bce ]] \r\n",
       "E13 - -:|> E5 [[psysml:78896435-f936-4df6-9172-2ff6f9da23d9 ]] \r\n",
       "}\r\n",
       "@enduml\r\n",
       "\n",
       "PlantUML version 1.2020.13(Sat Jun 13 12:26:38 UTC 2020)\n",
       "(EPL source distribution)\n",
       "Java Runtime: OpenJDK Runtime Environment\n",
       "JVM: OpenJDK 64-Bit Server VM\n",
       "Default Encoding: UTF-8\n",
       "Language: en\n",
       "Country: null\n",
       "--></g></svg>"
      ]
     },
     "execution_count": 28,
     "metadata": {},
     "output_type": "execute_result"
    }
   ],
   "source": [
    "%viz --style=\"STDCOLOR\" --view=\"Sequence\" \"CircularImport\""
   ]
  },
  {
   "cell_type": "code",
   "execution_count": 29,
   "id": "7a3fa5ed",
   "metadata": {
    "execution": {
     "iopub.execute_input": "2021-06-30T09:15:10.483113Z",
     "iopub.status.busy": "2021-06-30T09:15:10.482060Z",
     "iopub.status.idle": "2021-06-30T09:15:10.576318Z",
     "shell.execute_reply": "2021-06-30T09:15:10.575368Z"
    }
   },
   "outputs": [
    {
     "data": {
      "image/svg+xml": [
       "<?xml version=\"1.0\" encoding=\"UTF-8\" standalone=\"no\"?><svg xmlns=\"http://www.w3.org/2000/svg\" xmlns:xlink=\"http://www.w3.org/1999/xlink\" contentScriptType=\"application/ecmascript\" contentStyleType=\"text/css\" height=\"303px\" preserveAspectRatio=\"none\" style=\"width:518px;height:303px;\" version=\"1.1\" viewBox=\"0 0 518 303\" width=\"518px\" zoomAndPan=\"magnify\"><defs><filter height=\"300%\" id=\"f1jbeihld86d0f\" width=\"300%\" x=\"-1\" y=\"-1\"><feGaussianBlur result=\"blurOut\" stdDeviation=\"2.0\"/><feColorMatrix in=\"blurOut\" result=\"blurOut2\" type=\"matrix\" values=\"0 0 0 0 0 0 0 0 0 0 0 0 0 0 0 0 0 0 .4 0\"/><feOffset dx=\"4.0\" dy=\"4.0\" in=\"blurOut2\" result=\"blurOut3\"/><feBlend in=\"SourceGraphic\" in2=\"blurOut3\" mode=\"normal\"/></filter></defs><g><!--MD5=[fbc87193dbaf4d95561dea2c320d4a47]\n",
       "cluster E1--><a href=\"psysml:33738fcf-e3ee-4a7e-98d6-e975d5107ba1\" target=\"_top\" title=\"psysml:33738fcf-e3ee-4a7e-98d6-e975d5107ba1\" xlink:actuate=\"onRequest\" xlink:href=\"psysml:33738fcf-e3ee-4a7e-98d6-e975d5107ba1\" xlink:show=\"new\" xlink:title=\"psysml:33738fcf-e3ee-4a7e-98d6-e975d5107ba1\" xlink:type=\"simple\"><polygon fill=\"#FFFFFF\" filter=\"url(#f1jbeihld86d0f)\" points=\"16,6,134,6,141,28.2969,496,28.2969,496,291,16,291,16,6\" style=\"stroke: #000000; stroke-width: 1.5;\"/><line style=\"stroke: #000000; stroke-width: 1.5;\" x1=\"16\" x2=\"141\" y1=\"28.2969\" y2=\"28.2969\"/><text fill=\"#000000\" font-family=\"sans-serif\" font-size=\"14\" font-weight=\"bold\" lengthAdjust=\"spacingAndGlyphs\" textLength=\"112\" x=\"20\" y=\"20.9951\">CircularImport</text></a><!--MD5=[e4f7fae6ed58524ba242bb0b0d3be6b7]\n",
       "cluster E2--><a href=\"psysml:130ef6c7-3ccc-43b9-a62a-eb926cce14a9\" target=\"_top\" title=\"psysml:130ef6c7-3ccc-43b9-a62a-eb926cce14a9\" xlink:actuate=\"onRequest\" xlink:href=\"psysml:130ef6c7-3ccc-43b9-a62a-eb926cce14a9\" xlink:show=\"new\" xlink:title=\"psysml:130ef6c7-3ccc-43b9-a62a-eb926cce14a9\" xlink:type=\"simple\"><polygon fill=\"#FFFFFF\" filter=\"url(#f1jbeihld86d0f)\" points=\"333,170,359,170,366,192.2969,431,192.2969,431,267,333,267,333,170\" style=\"stroke: #000000; stroke-width: 1.5;\"/><line style=\"stroke: #000000; stroke-width: 1.5;\" x1=\"333\" x2=\"366\" y1=\"192.2969\" y2=\"192.2969\"/><text fill=\"#000000\" font-family=\"sans-serif\" font-size=\"14\" font-weight=\"bold\" lengthAdjust=\"spacingAndGlyphs\" textLength=\"20\" x=\"337\" y=\"184.9951\">P1</text></a><!--MD5=[f6df4d0ebaf0b5dfb2ced0ae5af7c670]\n",
       "cluster E4--><a href=\"psysml:0bc4dbd6-620a-45b9-8d32-94753792e496\" target=\"_top\" title=\"psysml:0bc4dbd6-620a-45b9-8d32-94753792e496\" xlink:actuate=\"onRequest\" xlink:href=\"psysml:0bc4dbd6-620a-45b9-8d32-94753792e496\" xlink:show=\"new\" xlink:title=\"psysml:0bc4dbd6-620a-45b9-8d32-94753792e496\" xlink:type=\"simple\"><polygon fill=\"#FFFFFF\" filter=\"url(#f1jbeihld86d0f)\" points=\"81,170,107,170,114,192.2969,179,192.2969,179,267,81,267,81,170\" style=\"stroke: #000000; stroke-width: 1.5;\"/><line style=\"stroke: #000000; stroke-width: 1.5;\" x1=\"81\" x2=\"114\" y1=\"192.2969\" y2=\"192.2969\"/><text fill=\"#000000\" font-family=\"sans-serif\" font-size=\"14\" font-weight=\"bold\" lengthAdjust=\"spacingAndGlyphs\" textLength=\"20\" x=\"85\" y=\"184.9951\">P2</text></a><!--MD5=[14e3b0961a2654348d326746436168a1]\n",
       "cluster E6--><a href=\"psysml:b4043d48-e2a3-4796-9568-6bbff931ebfd\" target=\"_top\" title=\"psysml:b4043d48-e2a3-4796-9568-6bbff931ebfd\" xlink:actuate=\"onRequest\" xlink:href=\"psysml:b4043d48-e2a3-4796-9568-6bbff931ebfd\" xlink:show=\"new\" xlink:title=\"psysml:b4043d48-e2a3-4796-9568-6bbff931ebfd\" xlink:type=\"simple\"><polygon fill=\"#FFFFFF\" filter=\"url(#f1jbeihld86d0f)\" points=\"268,49,319,49,326,71.2969,419,71.2969,419,146,268,146,268,49\" style=\"stroke: #000000; stroke-width: 1.5;\"/><line style=\"stroke: #000000; stroke-width: 1.5;\" x1=\"268\" x2=\"326\" y1=\"71.2969\" y2=\"71.2969\"/><text fill=\"#000000\" font-family=\"sans-serif\" font-size=\"14\" font-weight=\"bold\" lengthAdjust=\"spacingAndGlyphs\" textLength=\"45\" x=\"272\" y=\"63.9951\">Test1</text></a><!--MD5=[7f149f147074ac12df2cb0a7728a5fb0]\n",
       "cluster E9--><a href=\"psysml:85a9df72-6515-46a6-853d-c4da844a4980\" target=\"_top\" title=\"psysml:85a9df72-6515-46a6-853d-c4da844a4980\" xlink:actuate=\"onRequest\" xlink:href=\"psysml:85a9df72-6515-46a6-853d-c4da844a4980\" xlink:show=\"new\" xlink:title=\"psysml:85a9df72-6515-46a6-853d-c4da844a4980\" xlink:type=\"simple\"><polygon fill=\"#FFFFFF\" filter=\"url(#f1jbeihld86d0f)\" points=\"93,49,144,49,151,71.2969,244,71.2969,244,146,93,146,93,49\" style=\"stroke: #000000; stroke-width: 1.5;\"/><line style=\"stroke: #000000; stroke-width: 1.5;\" x1=\"93\" x2=\"151\" y1=\"71.2969\" y2=\"71.2969\"/><text fill=\"#000000\" font-family=\"sans-serif\" font-size=\"14\" font-weight=\"bold\" lengthAdjust=\"spacingAndGlyphs\" textLength=\"45\" x=\"97\" y=\"63.9951\">Test2</text></a><!--MD5=[49a0ec8f00dab7302a31f22d0f0fe584]\n",
       "class E12--><a href=\"psysml:530a6ae9-7dc1-4851-ab10-936e92c948f7\" target=\"_top\" title=\"psysml:530a6ae9-7dc1-4851-ab10-936e92c948f7\" xlink:actuate=\"onRequest\" xlink:href=\"psysml:530a6ae9-7dc1-4851-ab10-936e92c948f7\" xlink:show=\"new\" xlink:title=\"psysml:530a6ae9-7dc1-4851-ab10-936e92c948f7\" xlink:type=\"simple\"><rect fill=\"#FEFECE\" filter=\"url(#f1jbeihld86d0f)\" height=\"45.9375\" id=\"E12\" rx=\"10\" ry=\"10\" style=\"stroke: #A80036; stroke-width: 1.5;\" width=\"42\" x=\"438\" y=\"84\"/><text fill=\"#000000\" font-family=\"sans-serif\" font-size=\"12\" font-style=\"italic\" lengthAdjust=\"spacingAndGlyphs\" textLength=\"40\" x=\"439\" y=\"100.1387\">«part»</text><text fill=\"#000000\" font-family=\"sans-serif\" font-size=\"12\" lengthAdjust=\"spacingAndGlyphs\" textLength=\"22\" x=\"448\" y=\"114.1074\">x: A</text><line style=\"stroke: #A80036; stroke-width: 1.5;\" x1=\"439\" x2=\"479\" y1=\"121.9375\" y2=\"121.9375\"/></a><!--MD5=[ee3c913d1a06f366521f9ef512b67efe]\n",
       "class E13--><a href=\"psysml:561bfa55-252f-4783-9fb1-458618dbf236\" target=\"_top\" title=\"psysml:561bfa55-252f-4783-9fb1-458618dbf236\" xlink:actuate=\"onRequest\" xlink:href=\"psysml:561bfa55-252f-4783-9fb1-458618dbf236\" xlink:show=\"new\" xlink:title=\"psysml:561bfa55-252f-4783-9fb1-458618dbf236\" xlink:type=\"simple\"><rect fill=\"#FEFECE\" filter=\"url(#f1jbeihld86d0f)\" height=\"45.9375\" id=\"E13\" rx=\"10\" ry=\"10\" style=\"stroke: #A80036; stroke-width: 1.5;\" width=\"42\" x=\"32\" y=\"84\"/><text fill=\"#000000\" font-family=\"sans-serif\" font-size=\"12\" font-style=\"italic\" lengthAdjust=\"spacingAndGlyphs\" textLength=\"40\" x=\"33\" y=\"100.1387\">«part»</text><text fill=\"#000000\" font-family=\"sans-serif\" font-size=\"12\" lengthAdjust=\"spacingAndGlyphs\" textLength=\"22\" x=\"42\" y=\"114.1074\">y: B</text><line style=\"stroke: #A80036; stroke-width: 1.5;\" x1=\"33\" x2=\"73\" y1=\"121.9375\" y2=\"121.9375\"/></a><!--MD5=[09b614a08d8cba4a07c9adeb5e0fee81]\n",
       "class E3--><a href=\"psysml:cb0f7157-438a-4ad5-8a96-0def6a248a5a\" target=\"_top\" title=\"psysml:cb0f7157-438a-4ad5-8a96-0def6a248a5a\" xlink:actuate=\"onRequest\" xlink:href=\"psysml:cb0f7157-438a-4ad5-8a96-0def6a248a5a\" xlink:show=\"new\" xlink:title=\"psysml:cb0f7157-438a-4ad5-8a96-0def6a248a5a\" xlink:type=\"simple\"><rect fill=\"#FEFECE\" filter=\"url(#f1jbeihld86d0f)\" height=\"45.9375\" id=\"E3\" style=\"stroke: #A80036; stroke-width: 1.5;\" width=\"66\" x=\"349\" y=\"205\"/><text fill=\"#000000\" font-family=\"sans-serif\" font-size=\"12\" font-style=\"italic\" lengthAdjust=\"spacingAndGlyphs\" textLength=\"64\" x=\"350\" y=\"221.1387\">«part def»</text><text fill=\"#000000\" font-family=\"sans-serif\" font-size=\"12\" lengthAdjust=\"spacingAndGlyphs\" textLength=\"8\" x=\"378\" y=\"235.1074\">A</text><line style=\"stroke: #A80036; stroke-width: 1.5;\" x1=\"350\" x2=\"414\" y1=\"242.9375\" y2=\"242.9375\"/></a><!--MD5=[270fce915f116d4de14055a7c1d9a0f3]\n",
       "class E5--><a href=\"psysml:fa716e5d-1985-44ef-b151-4b2b4c0691ed\" target=\"_top\" title=\"psysml:fa716e5d-1985-44ef-b151-4b2b4c0691ed\" xlink:actuate=\"onRequest\" xlink:href=\"psysml:fa716e5d-1985-44ef-b151-4b2b4c0691ed\" xlink:show=\"new\" xlink:title=\"psysml:fa716e5d-1985-44ef-b151-4b2b4c0691ed\" xlink:type=\"simple\"><rect fill=\"#FEFECE\" filter=\"url(#f1jbeihld86d0f)\" height=\"45.9375\" id=\"E5\" style=\"stroke: #A80036; stroke-width: 1.5;\" width=\"66\" x=\"97\" y=\"205\"/><text fill=\"#000000\" font-family=\"sans-serif\" font-size=\"12\" font-style=\"italic\" lengthAdjust=\"spacingAndGlyphs\" textLength=\"64\" x=\"98\" y=\"221.1387\">«part def»</text><text fill=\"#000000\" font-family=\"sans-serif\" font-size=\"12\" lengthAdjust=\"spacingAndGlyphs\" textLength=\"8\" x=\"126\" y=\"235.1074\">B</text><line style=\"stroke: #A80036; stroke-width: 1.5;\" x1=\"98\" x2=\"162\" y1=\"242.9375\" y2=\"242.9375\"/></a><!--MD5=[2156ba9850f5573cc1fc38a6a4b2f02b]\n",
       "class E7--><a href=\"psysml:418b0add-8d91-4a6d-810e-c529e1e5d9c2\" target=\"_top\" title=\"psysml:418b0add-8d91-4a6d-810e-c529e1e5d9c2\" xlink:actuate=\"onRequest\" xlink:href=\"psysml:418b0add-8d91-4a6d-810e-c529e1e5d9c2\" xlink:show=\"new\" xlink:title=\"psysml:418b0add-8d91-4a6d-810e-c529e1e5d9c2\" xlink:type=\"simple\"><rect fill=\"#FEFECE\" filter=\"url(#f1jbeihld86d0f)\" height=\"45.9375\" id=\"E7\" rx=\"10\" ry=\"10\" style=\"stroke: #A80036; stroke-width: 1.5;\" width=\"42\" x=\"361\" y=\"84\"/><text fill=\"#000000\" font-family=\"sans-serif\" font-size=\"12\" font-style=\"italic\" lengthAdjust=\"spacingAndGlyphs\" textLength=\"40\" x=\"362\" y=\"100.1387\">«part»</text><text fill=\"#000000\" font-family=\"sans-serif\" font-size=\"12\" lengthAdjust=\"spacingAndGlyphs\" textLength=\"22\" x=\"371\" y=\"114.1074\">x: A</text><line style=\"stroke: #A80036; stroke-width: 1.5;\" x1=\"362\" x2=\"402\" y1=\"121.9375\" y2=\"121.9375\"/></a><!--MD5=[b9389687b975829384b498ac4b7476b2]\n",
       "class E8--><a href=\"psysml:c18479a8-8a5a-4a0f-a7e4-033b0648dafb\" target=\"_top\" title=\"psysml:c18479a8-8a5a-4a0f-a7e4-033b0648dafb\" xlink:actuate=\"onRequest\" xlink:href=\"psysml:c18479a8-8a5a-4a0f-a7e4-033b0648dafb\" xlink:show=\"new\" xlink:title=\"psysml:c18479a8-8a5a-4a0f-a7e4-033b0648dafb\" xlink:type=\"simple\"><rect fill=\"#FEFECE\" filter=\"url(#f1jbeihld86d0f)\" height=\"45.9375\" id=\"E8\" rx=\"10\" ry=\"10\" style=\"stroke: #A80036; stroke-width: 1.5;\" width=\"42\" x=\"284\" y=\"84\"/><text fill=\"#000000\" font-family=\"sans-serif\" font-size=\"12\" font-style=\"italic\" lengthAdjust=\"spacingAndGlyphs\" textLength=\"40\" x=\"285\" y=\"100.1387\">«part»</text><text fill=\"#000000\" font-family=\"sans-serif\" font-size=\"12\" lengthAdjust=\"spacingAndGlyphs\" textLength=\"22\" x=\"294\" y=\"114.1074\">y: B</text><line style=\"stroke: #A80036; stroke-width: 1.5;\" x1=\"285\" x2=\"325\" y1=\"121.9375\" y2=\"121.9375\"/></a><!--MD5=[96f4274e9e20536e775497830990834d]\n",
       "class E10--><a href=\"psysml:61feb9d5-4074-478e-84bb-b7eccf03922b\" target=\"_top\" title=\"psysml:61feb9d5-4074-478e-84bb-b7eccf03922b\" xlink:actuate=\"onRequest\" xlink:href=\"psysml:61feb9d5-4074-478e-84bb-b7eccf03922b\" xlink:show=\"new\" xlink:title=\"psysml:61feb9d5-4074-478e-84bb-b7eccf03922b\" xlink:type=\"simple\"><rect fill=\"#FEFECE\" filter=\"url(#f1jbeihld86d0f)\" height=\"45.9375\" id=\"E10\" rx=\"10\" ry=\"10\" style=\"stroke: #A80036; stroke-width: 1.5;\" width=\"42\" x=\"186\" y=\"84\"/><text fill=\"#000000\" font-family=\"sans-serif\" font-size=\"12\" font-style=\"italic\" lengthAdjust=\"spacingAndGlyphs\" textLength=\"40\" x=\"187\" y=\"100.1387\">«part»</text><text fill=\"#000000\" font-family=\"sans-serif\" font-size=\"12\" lengthAdjust=\"spacingAndGlyphs\" textLength=\"22\" x=\"196\" y=\"114.1074\">x: A</text><line style=\"stroke: #A80036; stroke-width: 1.5;\" x1=\"187\" x2=\"227\" y1=\"121.9375\" y2=\"121.9375\"/></a><!--MD5=[1dd1bfd58a279cf63c5f349dbc8fc6a1]\n",
       "class E11--><a href=\"psysml:2edd355f-e967-45cc-82fe-80091bb729bd\" target=\"_top\" title=\"psysml:2edd355f-e967-45cc-82fe-80091bb729bd\" xlink:actuate=\"onRequest\" xlink:href=\"psysml:2edd355f-e967-45cc-82fe-80091bb729bd\" xlink:show=\"new\" xlink:title=\"psysml:2edd355f-e967-45cc-82fe-80091bb729bd\" xlink:type=\"simple\"><rect fill=\"#FEFECE\" filter=\"url(#f1jbeihld86d0f)\" height=\"45.9375\" id=\"E11\" rx=\"10\" ry=\"10\" style=\"stroke: #A80036; stroke-width: 1.5;\" width=\"42\" x=\"109\" y=\"84\"/><text fill=\"#000000\" font-family=\"sans-serif\" font-size=\"12\" font-style=\"italic\" lengthAdjust=\"spacingAndGlyphs\" textLength=\"40\" x=\"110\" y=\"100.1387\">«part»</text><text fill=\"#000000\" font-family=\"sans-serif\" font-size=\"12\" lengthAdjust=\"spacingAndGlyphs\" textLength=\"22\" x=\"119\" y=\"114.1074\">y: B</text><line style=\"stroke: #A80036; stroke-width: 1.5;\" x1=\"110\" x2=\"150\" y1=\"121.9375\" y2=\"121.9375\"/></a><!--MD5=[14ccda38c055a5c0da953d572bc50960]\n",
       "link E7 to E3--><a href=\"psysml:c27725e1-02a3-443e-822c-73205e66e264\" target=\"_top\" title=\"psysml:c27725e1-02a3-443e-822c-73205e66e264\" xlink:actuate=\"onRequest\" xlink:href=\"psysml:c27725e1-02a3-443e-822c-73205e66e264\" xlink:show=\"new\" xlink:title=\"psysml:c27725e1-02a3-443e-822c-73205e66e264\" xlink:type=\"simple\"><path d=\"M382,130.1 C382,145.37 382,166.16 382,184.57 \" fill=\"none\" id=\"E7-&gt;E3\" style=\"stroke: #A80036; stroke-width: 1.0;\"/><polygon fill=\"#FFFFFF\" points=\"382,204.61,375,185.61,389,185.61,382,204.61\" style=\"stroke: #A80036; stroke-width: 1.0;\"/><ellipse cx=\"377\" cy=\"179.91\" fill=\"#A80036\" rx=\"2\" ry=\"2\" style=\"stroke: #A80036; stroke-width: 1.0;\"/><ellipse cx=\"387\" cy=\"179.91\" fill=\"#A80036\" rx=\"2\" ry=\"2\" style=\"stroke: #A80036; stroke-width: 1.0;\"/></a><!--MD5=[1ccb2481ffa92f8d51a74ee30c51832a]\n",
       "link E8 to E5--><a href=\"psysml:43ceeb8e-eeaf-4aa9-b958-61b6f980f202\" target=\"_top\" title=\"psysml:43ceeb8e-eeaf-4aa9-b958-61b6f980f202\" xlink:actuate=\"onRequest\" xlink:href=\"psysml:43ceeb8e-eeaf-4aa9-b958-61b6f980f202\" xlink:show=\"new\" xlink:title=\"psysml:43ceeb8e-eeaf-4aa9-b958-61b6f980f202\" xlink:type=\"simple\"><path d=\"M283.84,124.59 C272.23,133.52 257.5,144.61 244,154 C223.51,168.25 200.41,183.24 180.38,195.91 \" fill=\"none\" id=\"E8-&gt;E5\" style=\"stroke: #A80036; stroke-width: 1.0;\"/><polygon fill=\"#FFFFFF\" points=\"163.36,206.57,175.7353,190.5434,183.175,202.403,163.36,206.57\" style=\"stroke: #A80036; stroke-width: 1.0;\"/><ellipse cx=\"181.6267\" cy=\"189.2086\" fill=\"#A80036\" rx=\"2\" ry=\"2\" style=\"stroke: #A80036; stroke-width: 1.0;\"/><ellipse cx=\"186.9408\" cy=\"197.6797\" fill=\"#A80036\" rx=\"2\" ry=\"2\" style=\"stroke: #A80036; stroke-width: 1.0;\"/></a><!--MD5=[feeac5eb423634930294aa81f2d25a4c]\n",
       "link E10 to E3--><a href=\"psysml:2f015e6c-7efc-43fd-92bb-26e8cb5e6a22\" target=\"_top\" title=\"psysml:2f015e6c-7efc-43fd-92bb-26e8cb5e6a22\" xlink:actuate=\"onRequest\" xlink:href=\"psysml:2f015e6c-7efc-43fd-92bb-26e8cb5e6a22\" xlink:show=\"new\" xlink:title=\"psysml:2f015e6c-7efc-43fd-92bb-26e8cb5e6a22\" xlink:type=\"simple\"><path d=\"M228.16,124.59 C239.77,133.52 254.5,144.61 268,154 C288.49,168.25 311.59,183.24 331.62,195.91 \" fill=\"none\" id=\"E10-&gt;E3\" style=\"stroke: #A80036; stroke-width: 1.0;\"/><polygon fill=\"#FFFFFF\" points=\"348.64,206.57,328.825,202.403,336.2647,190.5434,348.64,206.57\" style=\"stroke: #A80036; stroke-width: 1.0;\"/><ellipse cx=\"325.0592\" cy=\"197.6797\" fill=\"#A80036\" rx=\"2\" ry=\"2\" style=\"stroke: #A80036; stroke-width: 1.0;\"/><ellipse cx=\"330.3733\" cy=\"189.2086\" fill=\"#A80036\" rx=\"2\" ry=\"2\" style=\"stroke: #A80036; stroke-width: 1.0;\"/></a><!--MD5=[07b77f6f309248d16187045709d1c26e]\n",
       "link E11 to E5--><a href=\"psysml:7cf9fed8-155f-433e-a01b-9d13c54aa089\" target=\"_top\" title=\"psysml:7cf9fed8-155f-433e-a01b-9d13c54aa089\" xlink:actuate=\"onRequest\" xlink:href=\"psysml:7cf9fed8-155f-433e-a01b-9d13c54aa089\" xlink:show=\"new\" xlink:title=\"psysml:7cf9fed8-155f-433e-a01b-9d13c54aa089\" xlink:type=\"simple\"><path d=\"M130,130.1 C130,145.37 130,166.16 130,184.57 \" fill=\"none\" id=\"E11-&gt;E5\" style=\"stroke: #A80036; stroke-width: 1.0;\"/><polygon fill=\"#FFFFFF\" points=\"130,204.61,123,185.61,137,185.61,130,204.61\" style=\"stroke: #A80036; stroke-width: 1.0;\"/><ellipse cx=\"125\" cy=\"179.91\" fill=\"#A80036\" rx=\"2\" ry=\"2\" style=\"stroke: #A80036; stroke-width: 1.0;\"/><ellipse cx=\"135\" cy=\"179.91\" fill=\"#A80036\" rx=\"2\" ry=\"2\" style=\"stroke: #A80036; stroke-width: 1.0;\"/></a><!--MD5=[39f41a0e550fb3d73b4d8135617e30a2]\n",
       "link E12 to E3--><a href=\"psysml:2b9be10b-590f-4358-bedf-a86ab0ed6bce\" target=\"_top\" title=\"psysml:2b9be10b-590f-4358-bedf-a86ab0ed6bce\" xlink:actuate=\"onRequest\" xlink:href=\"psysml:2b9be10b-590f-4358-bedf-a86ab0ed6bce\" xlink:show=\"new\" xlink:title=\"psysml:2b9be10b-590f-4358-bedf-a86ab0ed6bce\" xlink:type=\"simple\"><path d=\"M444.7,130.1 C434.28,146.2 419.89,168.44 407.53,187.55 \" fill=\"none\" id=\"E12-&gt;E3\" style=\"stroke: #A80036; stroke-width: 1.0;\"/><polygon fill=\"#FFFFFF\" points=\"396.49,204.61,400.9313,184.8546,412.6866,192.4581,396.49,204.61\" style=\"stroke: #A80036; stroke-width: 1.0;\"/><ellipse cx=\"405.7063\" cy=\"181.1547\" fill=\"#A80036\" rx=\"2\" ry=\"2\" style=\"stroke: #A80036; stroke-width: 1.0;\"/><ellipse cx=\"414.103\" cy=\"186.5858\" fill=\"#A80036\" rx=\"2\" ry=\"2\" style=\"stroke: #A80036; stroke-width: 1.0;\"/></a><!--MD5=[066b2d8af59fea80ccdb3d54ad5c1091]\n",
       "link E13 to E5--><a href=\"psysml:78896435-f936-4df6-9172-2ff6f9da23d9\" target=\"_top\" title=\"psysml:78896435-f936-4df6-9172-2ff6f9da23d9\" xlink:actuate=\"onRequest\" xlink:href=\"psysml:78896435-f936-4df6-9172-2ff6f9da23d9\" xlink:show=\"new\" xlink:title=\"psysml:78896435-f936-4df6-9172-2ff6f9da23d9\" xlink:type=\"simple\"><path d=\"M67.3,130.1 C77.72,146.2 92.11,168.44 104.47,187.55 \" fill=\"none\" id=\"E13-&gt;E5\" style=\"stroke: #A80036; stroke-width: 1.0;\"/><polygon fill=\"#FFFFFF\" points=\"115.51,204.61,99.3134,192.4581,111.0687,184.8546,115.51,204.61\" style=\"stroke: #A80036; stroke-width: 1.0;\"/><ellipse cx=\"97.897\" cy=\"186.5858\" fill=\"#A80036\" rx=\"2\" ry=\"2\" style=\"stroke: #A80036; stroke-width: 1.0;\"/><ellipse cx=\"106.2937\" cy=\"181.1547\" fill=\"#A80036\" rx=\"2\" ry=\"2\" style=\"stroke: #A80036; stroke-width: 1.0;\"/></a><!--MD5=[ae221afc3a9f5d6cc4aa0158a6dc2ecb]\n",
       "@startuml\r\n",
       "skinparam wrapWidth 300\r\n",
       "hide circle\r\n",
       "\r\n",
       "package \"CircularImport\" as E1  [[psysml:33738fcf-e3ee-4a7e-98d6-e975d5107ba1 ]]  {\r\n",
       "package \"P1\" as E2  [[psysml:130ef6c7-3ccc-43b9-a62a-eb926cce14a9 ]]  {\r\n",
       "comp def \"A\" as E3  <<(T,blue) part def>> [[psysml:cb0f7157-438a-4ad5-8a96-0def6a248a5a ]] {\r\n",
       "}\r\n",
       "}\r\n",
       "package \"P2\" as E4  [[psysml:0bc4dbd6-620a-45b9-8d32-94753792e496 ]]  {\r\n",
       "comp def \"B\" as E5  <<(T,blue) part def>> [[psysml:fa716e5d-1985-44ef-b151-4b2b4c0691ed ]] {\r\n",
       "}\r\n",
       "}\r\n",
       "package \"Test1\" as E6  [[psysml:b4043d48-e2a3-4796-9568-6bbff931ebfd ]]  {\r\n",
       "comp usage \"x: A\" as E7  <<(T,blue) part>> [[psysml:418b0add-8d91-4a6d-810e-c529e1e5d9c2 ]] {\r\n",
       "}\r\n",
       "comp usage \"y: B\" as E8  <<(T,blue) part>> [[psysml:c18479a8-8a5a-4a0f-a7e4-033b0648dafb ]] {\r\n",
       "}\r\n",
       "E7 - -:|> E3 [[psysml:c27725e1-02a3-443e-822c-73205e66e264 ]] \r\n",
       "E8 - -:|> E5 [[psysml:43ceeb8e-eeaf-4aa9-b958-61b6f980f202 ]] \r\n",
       "}\r\n",
       "package \"Test2\" as E9  [[psysml:85a9df72-6515-46a6-853d-c4da844a4980 ]]  {\r\n",
       "comp usage \"x: A\" as E10  <<(T,blue) part>> [[psysml:61feb9d5-4074-478e-84bb-b7eccf03922b ]] {\r\n",
       "}\r\n",
       "comp usage \"y: B\" as E11  <<(T,blue) part>> [[psysml:2edd355f-e967-45cc-82fe-80091bb729bd ]] {\r\n",
       "}\r\n",
       "E10 - -:|> E3 [[psysml:2f015e6c-7efc-43fd-92bb-26e8cb5e6a22 ]] \r\n",
       "E11 - -:|> E5 [[psysml:7cf9fed8-155f-433e-a01b-9d13c54aa089 ]] \r\n",
       "}\r\n",
       "comp usage \"x: A\" as E12  <<(T,blue) part>> [[psysml:530a6ae9-7dc1-4851-ab10-936e92c948f7 ]] {\r\n",
       "}\r\n",
       "comp usage \"y: B\" as E13  <<(T,blue) part>> [[psysml:561bfa55-252f-4783-9fb1-458618dbf236 ]] {\r\n",
       "}\r\n",
       "E12 - -:|> E3 [[psysml:2b9be10b-590f-4358-bedf-a86ab0ed6bce ]] \r\n",
       "E13 - -:|> E5 [[psysml:78896435-f936-4df6-9172-2ff6f9da23d9 ]] \r\n",
       "}\r\n",
       "@enduml\r\n",
       "\n",
       "PlantUML version 1.2020.13(Sat Jun 13 12:26:38 UTC 2020)\n",
       "(EPL source distribution)\n",
       "Java Runtime: OpenJDK Runtime Environment\n",
       "JVM: OpenJDK 64-Bit Server VM\n",
       "Default Encoding: UTF-8\n",
       "Language: en\n",
       "Country: null\n",
       "--></g></svg>"
      ]
     },
     "execution_count": 29,
     "metadata": {},
     "output_type": "execute_result"
    }
   ],
   "source": [
    "%viz --style=\"STDCOLOR\" --view=\"MIXED\" \"CircularImport\""
   ]
  },
  {
   "cell_type": "code",
   "execution_count": 30,
   "id": "d6bee7cf",
   "metadata": {
    "execution": {
     "iopub.execute_input": "2021-06-30T09:15:10.626891Z",
     "iopub.status.busy": "2021-06-30T09:15:10.624890Z",
     "iopub.status.idle": "2021-06-30T09:15:10.762004Z",
     "shell.execute_reply": "2021-06-30T09:15:10.760401Z"
    }
   },
   "outputs": [
    {
     "data": {
      "image/svg+xml": [
       "<?xml version=\"1.0\" encoding=\"UTF-8\" standalone=\"no\"?><svg xmlns=\"http://www.w3.org/2000/svg\" xmlns:xlink=\"http://www.w3.org/1999/xlink\" contentScriptType=\"application/ecmascript\" contentStyleType=\"text/css\" height=\"297px\" preserveAspectRatio=\"none\" style=\"width:674px;height:297px;\" version=\"1.1\" viewBox=\"0 0 674 297\" width=\"674px\" zoomAndPan=\"magnify\"><defs><filter height=\"300%\" id=\"fh0jkiah8suhw\" width=\"300%\" x=\"-1\" y=\"-1\"><feGaussianBlur result=\"blurOut\" stdDeviation=\"2.0\"/><feColorMatrix in=\"blurOut\" result=\"blurOut2\" type=\"matrix\" values=\"0 0 0 0 0 0 0 0 0 0 0 0 0 0 0 0 0 0 .4 0\"/><feOffset dx=\"4.0\" dy=\"4.0\" in=\"blurOut2\" result=\"blurOut3\"/><feBlend in=\"SourceGraphic\" in2=\"blurOut3\" mode=\"normal\"/></filter></defs><g><!--MD5=[fbc87193dbaf4d95561dea2c320d4a47]\n",
       "cluster E1--><a href=\"psysml:33738fcf-e3ee-4a7e-98d6-e975d5107ba1\" target=\"_top\" title=\"psysml:33738fcf-e3ee-4a7e-98d6-e975d5107ba1\" xlink:actuate=\"onRequest\" xlink:href=\"psysml:33738fcf-e3ee-4a7e-98d6-e975d5107ba1\" xlink:show=\"new\" xlink:title=\"psysml:33738fcf-e3ee-4a7e-98d6-e975d5107ba1\" xlink:type=\"simple\"><polygon fill=\"#FFFFFF\" filter=\"url(#fh0jkiah8suhw)\" points=\"16,6,134,6,141,28.2969,652,28.2969,652,285,16,285,16,6\" style=\"stroke: #000000; stroke-width: 1.5;\"/><line style=\"stroke: #000000; stroke-width: 1.5;\" x1=\"16\" x2=\"141\" y1=\"28.2969\" y2=\"28.2969\"/><text fill=\"#000000\" font-family=\"sans-serif\" font-size=\"14\" font-weight=\"bold\" lengthAdjust=\"spacingAndGlyphs\" textLength=\"112\" x=\"20\" y=\"20.9951\">CircularImport</text></a><!--MD5=[e4f7fae6ed58524ba242bb0b0d3be6b7]\n",
       "cluster E2--><a href=\"psysml:130ef6c7-3ccc-43b9-a62a-eb926cce14a9\" target=\"_top\" title=\"psysml:130ef6c7-3ccc-43b9-a62a-eb926cce14a9\" xlink:actuate=\"onRequest\" xlink:href=\"psysml:130ef6c7-3ccc-43b9-a62a-eb926cce14a9\" xlink:show=\"new\" xlink:title=\"psysml:130ef6c7-3ccc-43b9-a62a-eb926cce14a9\" xlink:type=\"simple\"><polygon fill=\"#FFFFFF\" filter=\"url(#fh0jkiah8suhw)\" points=\"463,170,489,170,496,192.2969,535,192.2969,535,261,463,261,463,170\" style=\"stroke: #000000; stroke-width: 1.5;\"/><line style=\"stroke: #000000; stroke-width: 1.5;\" x1=\"463\" x2=\"496\" y1=\"192.2969\" y2=\"192.2969\"/><text fill=\"#000000\" font-family=\"sans-serif\" font-size=\"14\" font-weight=\"bold\" lengthAdjust=\"spacingAndGlyphs\" textLength=\"20\" x=\"467\" y=\"184.9951\">P1</text></a><!--MD5=[f6df4d0ebaf0b5dfb2ced0ae5af7c670]\n",
       "cluster E4--><a href=\"psysml:0bc4dbd6-620a-45b9-8d32-94753792e496\" target=\"_top\" title=\"psysml:0bc4dbd6-620a-45b9-8d32-94753792e496\" xlink:actuate=\"onRequest\" xlink:href=\"psysml:0bc4dbd6-620a-45b9-8d32-94753792e496\" xlink:show=\"new\" xlink:title=\"psysml:0bc4dbd6-620a-45b9-8d32-94753792e496\" xlink:type=\"simple\"><polygon fill=\"#FFFFFF\" filter=\"url(#fh0jkiah8suhw)\" points=\"133,170,159,170,166,192.2969,205,192.2969,205,261,133,261,133,170\" style=\"stroke: #000000; stroke-width: 1.5;\"/><line style=\"stroke: #000000; stroke-width: 1.5;\" x1=\"133\" x2=\"166\" y1=\"192.2969\" y2=\"192.2969\"/><text fill=\"#000000\" font-family=\"sans-serif\" font-size=\"14\" font-weight=\"bold\" lengthAdjust=\"spacingAndGlyphs\" textLength=\"20\" x=\"137\" y=\"184.9951\">P2</text></a><!--MD5=[14e3b0961a2654348d326746436168a1]\n",
       "cluster E6--><a href=\"psysml:b4043d48-e2a3-4796-9568-6bbff931ebfd\" target=\"_top\" title=\"psysml:b4043d48-e2a3-4796-9568-6bbff931ebfd\" xlink:actuate=\"onRequest\" xlink:href=\"psysml:b4043d48-e2a3-4796-9568-6bbff931ebfd\" xlink:show=\"new\" xlink:title=\"psysml:b4043d48-e2a3-4796-9568-6bbff931ebfd\" xlink:type=\"simple\"><polygon fill=\"#FFFFFF\" filter=\"url(#fh0jkiah8suhw)\" points=\"346,49,397,49,404,71.2969,549,71.2969,549,146,346,146,346,49\" style=\"stroke: #000000; stroke-width: 1.5;\"/><line style=\"stroke: #000000; stroke-width: 1.5;\" x1=\"346\" x2=\"404\" y1=\"71.2969\" y2=\"71.2969\"/><text fill=\"#000000\" font-family=\"sans-serif\" font-size=\"14\" font-weight=\"bold\" lengthAdjust=\"spacingAndGlyphs\" textLength=\"45\" x=\"350\" y=\"63.9951\">Test1</text></a><!--MD5=[7f149f147074ac12df2cb0a7728a5fb0]\n",
       "cluster E9--><a href=\"psysml:85a9df72-6515-46a6-853d-c4da844a4980\" target=\"_top\" title=\"psysml:85a9df72-6515-46a6-853d-c4da844a4980\" xlink:actuate=\"onRequest\" xlink:href=\"psysml:85a9df72-6515-46a6-853d-c4da844a4980\" xlink:show=\"new\" xlink:title=\"psysml:85a9df72-6515-46a6-853d-c4da844a4980\" xlink:type=\"simple\"><polygon fill=\"#FFFFFF\" filter=\"url(#fh0jkiah8suhw)\" points=\"119,49,170,49,177,71.2969,322,71.2969,322,146,119,146,119,49\" style=\"stroke: #000000; stroke-width: 1.5;\"/><line style=\"stroke: #000000; stroke-width: 1.5;\" x1=\"119\" x2=\"177\" y1=\"71.2969\" y2=\"71.2969\"/><text fill=\"#000000\" font-family=\"sans-serif\" font-size=\"14\" font-weight=\"bold\" lengthAdjust=\"spacingAndGlyphs\" textLength=\"45\" x=\"123\" y=\"63.9951\">Test2</text></a><!--MD5=[49a0ec8f00dab7302a31f22d0f0fe584]\n",
       "class E12--><a href=\"psysml:530a6ae9-7dc1-4851-ab10-936e92c948f7\" target=\"_top\" title=\"psysml:530a6ae9-7dc1-4851-ab10-936e92c948f7\" xlink:actuate=\"onRequest\" xlink:href=\"psysml:530a6ae9-7dc1-4851-ab10-936e92c948f7\" xlink:show=\"new\" xlink:title=\"psysml:530a6ae9-7dc1-4851-ab10-936e92c948f7\" xlink:type=\"simple\"><rect fill=\"#FEFECE\" filter=\"url(#fh0jkiah8suhw)\" height=\"45.9375\" id=\"E12\" rx=\"10\" ry=\"10\" style=\"stroke: #A80036; stroke-width: 1.5;\" width=\"68\" x=\"568\" y=\"84\"/><ellipse cx=\"583\" cy=\"102.9688\" fill=\"#32CD32\" rx=\"11\" ry=\"11\" style=\"stroke: #A80036; stroke-width: 1.0;\"/><path d=\"M582.7969,98.6406 L582.7969,102.2656 L583.7969,102.2656 Q585,102.2656 585.4844,101.8594 Q585.9688,101.4531 585.9688,100.4531 Q585.9688,99.4531 585.4844,99.0469 Q585,98.6406 583.7969,98.6406 L582.7969,98.6406 Z M580.3438,96.5781 L583.7031,96.5781 Q586.2656,96.5781 587.3906,97.5 Q588.5156,98.4063 588.5156,100.4531 Q588.5156,102.5 587.3906,103.4219 Q586.2656,104.3281 583.7031,104.3281 L582.7969,104.3281 L582.7969,108.9688 L580.3438,108.9688 L580.3438,96.5781 Z \"/><text fill=\"#000000\" font-family=\"sans-serif\" font-size=\"12\" font-style=\"italic\" lengthAdjust=\"spacingAndGlyphs\" textLength=\"40\" x=\"595\" y=\"100.1387\">«part»</text><text fill=\"#000000\" font-family=\"sans-serif\" font-size=\"12\" lengthAdjust=\"spacingAndGlyphs\" textLength=\"22\" x=\"604\" y=\"114.1074\">x: A</text><line style=\"stroke: #A80036; stroke-width: 1.5;\" x1=\"569\" x2=\"635\" y1=\"121.9375\" y2=\"121.9375\"/></a><!--MD5=[ee3c913d1a06f366521f9ef512b67efe]\n",
       "class E13--><a href=\"psysml:561bfa55-252f-4783-9fb1-458618dbf236\" target=\"_top\" title=\"psysml:561bfa55-252f-4783-9fb1-458618dbf236\" xlink:actuate=\"onRequest\" xlink:href=\"psysml:561bfa55-252f-4783-9fb1-458618dbf236\" xlink:show=\"new\" xlink:title=\"psysml:561bfa55-252f-4783-9fb1-458618dbf236\" xlink:type=\"simple\"><rect fill=\"#FEFECE\" filter=\"url(#fh0jkiah8suhw)\" height=\"45.9375\" id=\"E13\" rx=\"10\" ry=\"10\" style=\"stroke: #A80036; stroke-width: 1.5;\" width=\"68\" x=\"32\" y=\"84\"/><ellipse cx=\"47\" cy=\"102.9688\" fill=\"#32CD32\" rx=\"11\" ry=\"11\" style=\"stroke: #A80036; stroke-width: 1.0;\"/><path d=\"M46.7969,98.6406 L46.7969,102.2656 L47.7969,102.2656 Q49,102.2656 49.4844,101.8594 Q49.9688,101.4531 49.9688,100.4531 Q49.9688,99.4531 49.4844,99.0469 Q49,98.6406 47.7969,98.6406 L46.7969,98.6406 Z M44.3438,96.5781 L47.7031,96.5781 Q50.2656,96.5781 51.3906,97.5 Q52.5156,98.4063 52.5156,100.4531 Q52.5156,102.5 51.3906,103.4219 Q50.2656,104.3281 47.7031,104.3281 L46.7969,104.3281 L46.7969,108.9688 L44.3438,108.9688 L44.3438,96.5781 Z \"/><text fill=\"#000000\" font-family=\"sans-serif\" font-size=\"12\" font-style=\"italic\" lengthAdjust=\"spacingAndGlyphs\" textLength=\"40\" x=\"59\" y=\"100.1387\">«part»</text><text fill=\"#000000\" font-family=\"sans-serif\" font-size=\"12\" lengthAdjust=\"spacingAndGlyphs\" textLength=\"22\" x=\"68\" y=\"114.1074\">y: B</text><line style=\"stroke: #A80036; stroke-width: 1.5;\" x1=\"33\" x2=\"99\" y1=\"121.9375\" y2=\"121.9375\"/></a><!--MD5=[09b614a08d8cba4a07c9adeb5e0fee81]\n",
       "class E3--><a href=\"psysml:cb0f7157-438a-4ad5-8a96-0def6a248a5a\" target=\"_top\" title=\"psysml:cb0f7157-438a-4ad5-8a96-0def6a248a5a\" xlink:actuate=\"onRequest\" xlink:href=\"psysml:cb0f7157-438a-4ad5-8a96-0def6a248a5a\" xlink:show=\"new\" xlink:title=\"psysml:cb0f7157-438a-4ad5-8a96-0def6a248a5a\" xlink:type=\"simple\"><rect fill=\"#FEFECE\" filter=\"url(#fh0jkiah8suhw)\" height=\"40\" id=\"E3\" style=\"stroke: #A80036; stroke-width: 1.5;\" width=\"40\" x=\"479\" y=\"205\"/><ellipse cx=\"494\" cy=\"221\" fill=\"#008000\" rx=\"11\" ry=\"11\" style=\"stroke: #A80036; stroke-width: 1.0;\"/><path d=\"M492.9063,221.375 L492.9063,225.0469 L494.5313,225.0469 Q495.7031,225.0469 496.1719,224.6563 Q496.6406,224.25 496.6406,223.25 Q496.6406,222.25 496.1406,221.8125 Q495.6563,221.375 494.5313,221.375 L492.9063,221.375 Z M492.9063,216.5469 L492.9063,219.4219 L494.5313,219.4219 Q495.4531,219.4219 495.8438,219.0938 Q496.25,218.75 496.25,218 Q496.25,217.2344 495.8438,216.8906 Q495.4375,216.5469 494.5313,216.5469 L492.9063,216.5469 Z M490.5313,214.5938 L494.5313,214.5938 Q496.5938,214.5938 497.6406,215.375 Q498.6875,216.1563 498.6875,217.7188 Q498.6875,218.9219 498.0625,219.5938 Q497.4531,220.2656 496.2656,220.375 Q497.6875,220.5156 498.4063,221.3281 Q499.125,222.1406 499.125,223.5938 Q499.125,225.3906 498.0469,226.2031 Q496.9688,227 494.5313,227 L490.5313,227 L490.5313,214.5938 Z \"/><text fill=\"#000000\" font-family=\"sans-serif\" font-size=\"12\" lengthAdjust=\"spacingAndGlyphs\" textLength=\"8\" x=\"508\" y=\"225.1543\">A</text><line style=\"stroke: #A80036; stroke-width: 1.5;\" x1=\"480\" x2=\"518\" y1=\"237\" y2=\"237\"/></a><!--MD5=[270fce915f116d4de14055a7c1d9a0f3]\n",
       "class E5--><a href=\"psysml:fa716e5d-1985-44ef-b151-4b2b4c0691ed\" target=\"_top\" title=\"psysml:fa716e5d-1985-44ef-b151-4b2b4c0691ed\" xlink:actuate=\"onRequest\" xlink:href=\"psysml:fa716e5d-1985-44ef-b151-4b2b4c0691ed\" xlink:show=\"new\" xlink:title=\"psysml:fa716e5d-1985-44ef-b151-4b2b4c0691ed\" xlink:type=\"simple\"><rect fill=\"#FEFECE\" filter=\"url(#fh0jkiah8suhw)\" height=\"40\" id=\"E5\" style=\"stroke: #A80036; stroke-width: 1.5;\" width=\"40\" x=\"149\" y=\"205\"/><ellipse cx=\"164\" cy=\"221\" fill=\"#008000\" rx=\"11\" ry=\"11\" style=\"stroke: #A80036; stroke-width: 1.0;\"/><path d=\"M162.9063,221.375 L162.9063,225.0469 L164.5313,225.0469 Q165.7031,225.0469 166.1719,224.6563 Q166.6406,224.25 166.6406,223.25 Q166.6406,222.25 166.1406,221.8125 Q165.6563,221.375 164.5313,221.375 L162.9063,221.375 Z M162.9063,216.5469 L162.9063,219.4219 L164.5313,219.4219 Q165.4531,219.4219 165.8438,219.0938 Q166.25,218.75 166.25,218 Q166.25,217.2344 165.8438,216.8906 Q165.4375,216.5469 164.5313,216.5469 L162.9063,216.5469 Z M160.5313,214.5938 L164.5313,214.5938 Q166.5938,214.5938 167.6406,215.375 Q168.6875,216.1563 168.6875,217.7188 Q168.6875,218.9219 168.0625,219.5938 Q167.4531,220.2656 166.2656,220.375 Q167.6875,220.5156 168.4063,221.3281 Q169.125,222.1406 169.125,223.5938 Q169.125,225.3906 168.0469,226.2031 Q166.9688,227 164.5313,227 L160.5313,227 L160.5313,214.5938 Z \"/><text fill=\"#000000\" font-family=\"sans-serif\" font-size=\"12\" lengthAdjust=\"spacingAndGlyphs\" textLength=\"8\" x=\"178\" y=\"225.1543\">B</text><line style=\"stroke: #A80036; stroke-width: 1.5;\" x1=\"150\" x2=\"188\" y1=\"237\" y2=\"237\"/></a><!--MD5=[2156ba9850f5573cc1fc38a6a4b2f02b]\n",
       "class E7--><a href=\"psysml:418b0add-8d91-4a6d-810e-c529e1e5d9c2\" target=\"_top\" title=\"psysml:418b0add-8d91-4a6d-810e-c529e1e5d9c2\" xlink:actuate=\"onRequest\" xlink:href=\"psysml:418b0add-8d91-4a6d-810e-c529e1e5d9c2\" xlink:show=\"new\" xlink:title=\"psysml:418b0add-8d91-4a6d-810e-c529e1e5d9c2\" xlink:type=\"simple\"><rect fill=\"#FEFECE\" filter=\"url(#fh0jkiah8suhw)\" height=\"45.9375\" id=\"E7\" rx=\"10\" ry=\"10\" style=\"stroke: #A80036; stroke-width: 1.5;\" width=\"68\" x=\"465\" y=\"84\"/><ellipse cx=\"480\" cy=\"102.9688\" fill=\"#32CD32\" rx=\"11\" ry=\"11\" style=\"stroke: #A80036; stroke-width: 1.0;\"/><path d=\"M479.7969,98.6406 L479.7969,102.2656 L480.7969,102.2656 Q482,102.2656 482.4844,101.8594 Q482.9688,101.4531 482.9688,100.4531 Q482.9688,99.4531 482.4844,99.0469 Q482,98.6406 480.7969,98.6406 L479.7969,98.6406 Z M477.3438,96.5781 L480.7031,96.5781 Q483.2656,96.5781 484.3906,97.5 Q485.5156,98.4063 485.5156,100.4531 Q485.5156,102.5 484.3906,103.4219 Q483.2656,104.3281 480.7031,104.3281 L479.7969,104.3281 L479.7969,108.9688 L477.3438,108.9688 L477.3438,96.5781 Z \"/><text fill=\"#000000\" font-family=\"sans-serif\" font-size=\"12\" font-style=\"italic\" lengthAdjust=\"spacingAndGlyphs\" textLength=\"40\" x=\"492\" y=\"100.1387\">«part»</text><text fill=\"#000000\" font-family=\"sans-serif\" font-size=\"12\" lengthAdjust=\"spacingAndGlyphs\" textLength=\"22\" x=\"501\" y=\"114.1074\">x: A</text><line style=\"stroke: #A80036; stroke-width: 1.5;\" x1=\"466\" x2=\"532\" y1=\"121.9375\" y2=\"121.9375\"/></a><!--MD5=[b9389687b975829384b498ac4b7476b2]\n",
       "class E8--><a href=\"psysml:c18479a8-8a5a-4a0f-a7e4-033b0648dafb\" target=\"_top\" title=\"psysml:c18479a8-8a5a-4a0f-a7e4-033b0648dafb\" xlink:actuate=\"onRequest\" xlink:href=\"psysml:c18479a8-8a5a-4a0f-a7e4-033b0648dafb\" xlink:show=\"new\" xlink:title=\"psysml:c18479a8-8a5a-4a0f-a7e4-033b0648dafb\" xlink:type=\"simple\"><rect fill=\"#FEFECE\" filter=\"url(#fh0jkiah8suhw)\" height=\"45.9375\" id=\"E8\" rx=\"10\" ry=\"10\" style=\"stroke: #A80036; stroke-width: 1.5;\" width=\"68\" x=\"362\" y=\"84\"/><ellipse cx=\"377\" cy=\"102.9688\" fill=\"#32CD32\" rx=\"11\" ry=\"11\" style=\"stroke: #A80036; stroke-width: 1.0;\"/><path d=\"M376.7969,98.6406 L376.7969,102.2656 L377.7969,102.2656 Q379,102.2656 379.4844,101.8594 Q379.9688,101.4531 379.9688,100.4531 Q379.9688,99.4531 379.4844,99.0469 Q379,98.6406 377.7969,98.6406 L376.7969,98.6406 Z M374.3438,96.5781 L377.7031,96.5781 Q380.2656,96.5781 381.3906,97.5 Q382.5156,98.4063 382.5156,100.4531 Q382.5156,102.5 381.3906,103.4219 Q380.2656,104.3281 377.7031,104.3281 L376.7969,104.3281 L376.7969,108.9688 L374.3438,108.9688 L374.3438,96.5781 Z \"/><text fill=\"#000000\" font-family=\"sans-serif\" font-size=\"12\" font-style=\"italic\" lengthAdjust=\"spacingAndGlyphs\" textLength=\"40\" x=\"389\" y=\"100.1387\">«part»</text><text fill=\"#000000\" font-family=\"sans-serif\" font-size=\"12\" lengthAdjust=\"spacingAndGlyphs\" textLength=\"22\" x=\"398\" y=\"114.1074\">y: B</text><line style=\"stroke: #A80036; stroke-width: 1.5;\" x1=\"363\" x2=\"429\" y1=\"121.9375\" y2=\"121.9375\"/></a><!--MD5=[96f4274e9e20536e775497830990834d]\n",
       "class E10--><a href=\"psysml:61feb9d5-4074-478e-84bb-b7eccf03922b\" target=\"_top\" title=\"psysml:61feb9d5-4074-478e-84bb-b7eccf03922b\" xlink:actuate=\"onRequest\" xlink:href=\"psysml:61feb9d5-4074-478e-84bb-b7eccf03922b\" xlink:show=\"new\" xlink:title=\"psysml:61feb9d5-4074-478e-84bb-b7eccf03922b\" xlink:type=\"simple\"><rect fill=\"#FEFECE\" filter=\"url(#fh0jkiah8suhw)\" height=\"45.9375\" id=\"E10\" rx=\"10\" ry=\"10\" style=\"stroke: #A80036; stroke-width: 1.5;\" width=\"68\" x=\"238\" y=\"84\"/><ellipse cx=\"253\" cy=\"102.9688\" fill=\"#32CD32\" rx=\"11\" ry=\"11\" style=\"stroke: #A80036; stroke-width: 1.0;\"/><path d=\"M252.7969,98.6406 L252.7969,102.2656 L253.7969,102.2656 Q255,102.2656 255.4844,101.8594 Q255.9688,101.4531 255.9688,100.4531 Q255.9688,99.4531 255.4844,99.0469 Q255,98.6406 253.7969,98.6406 L252.7969,98.6406 Z M250.3438,96.5781 L253.7031,96.5781 Q256.2656,96.5781 257.3906,97.5 Q258.5156,98.4063 258.5156,100.4531 Q258.5156,102.5 257.3906,103.4219 Q256.2656,104.3281 253.7031,104.3281 L252.7969,104.3281 L252.7969,108.9688 L250.3438,108.9688 L250.3438,96.5781 Z \"/><text fill=\"#000000\" font-family=\"sans-serif\" font-size=\"12\" font-style=\"italic\" lengthAdjust=\"spacingAndGlyphs\" textLength=\"40\" x=\"265\" y=\"100.1387\">«part»</text><text fill=\"#000000\" font-family=\"sans-serif\" font-size=\"12\" lengthAdjust=\"spacingAndGlyphs\" textLength=\"22\" x=\"274\" y=\"114.1074\">x: A</text><line style=\"stroke: #A80036; stroke-width: 1.5;\" x1=\"239\" x2=\"305\" y1=\"121.9375\" y2=\"121.9375\"/></a><!--MD5=[1dd1bfd58a279cf63c5f349dbc8fc6a1]\n",
       "class E11--><a href=\"psysml:2edd355f-e967-45cc-82fe-80091bb729bd\" target=\"_top\" title=\"psysml:2edd355f-e967-45cc-82fe-80091bb729bd\" xlink:actuate=\"onRequest\" xlink:href=\"psysml:2edd355f-e967-45cc-82fe-80091bb729bd\" xlink:show=\"new\" xlink:title=\"psysml:2edd355f-e967-45cc-82fe-80091bb729bd\" xlink:type=\"simple\"><rect fill=\"#FEFECE\" filter=\"url(#fh0jkiah8suhw)\" height=\"45.9375\" id=\"E11\" rx=\"10\" ry=\"10\" style=\"stroke: #A80036; stroke-width: 1.5;\" width=\"68\" x=\"135\" y=\"84\"/><ellipse cx=\"150\" cy=\"102.9688\" fill=\"#32CD32\" rx=\"11\" ry=\"11\" style=\"stroke: #A80036; stroke-width: 1.0;\"/><path d=\"M149.7969,98.6406 L149.7969,102.2656 L150.7969,102.2656 Q152,102.2656 152.4844,101.8594 Q152.9688,101.4531 152.9688,100.4531 Q152.9688,99.4531 152.4844,99.0469 Q152,98.6406 150.7969,98.6406 L149.7969,98.6406 Z M147.3438,96.5781 L150.7031,96.5781 Q153.2656,96.5781 154.3906,97.5 Q155.5156,98.4063 155.5156,100.4531 Q155.5156,102.5 154.3906,103.4219 Q153.2656,104.3281 150.7031,104.3281 L149.7969,104.3281 L149.7969,108.9688 L147.3438,108.9688 L147.3438,96.5781 Z \"/><text fill=\"#000000\" font-family=\"sans-serif\" font-size=\"12\" font-style=\"italic\" lengthAdjust=\"spacingAndGlyphs\" textLength=\"40\" x=\"162\" y=\"100.1387\">«part»</text><text fill=\"#000000\" font-family=\"sans-serif\" font-size=\"12\" lengthAdjust=\"spacingAndGlyphs\" textLength=\"22\" x=\"171\" y=\"114.1074\">y: B</text><line style=\"stroke: #A80036; stroke-width: 1.5;\" x1=\"136\" x2=\"202\" y1=\"121.9375\" y2=\"121.9375\"/></a><!--MD5=[14ccda38c055a5c0da953d572bc50960]\n",
       "link E7 to E3--><a href=\"psysml:c27725e1-02a3-443e-822c-73205e66e264\" target=\"_top\" title=\"psysml:c27725e1-02a3-443e-822c-73205e66e264\" xlink:actuate=\"onRequest\" xlink:href=\"psysml:c27725e1-02a3-443e-822c-73205e66e264\" xlink:show=\"new\" xlink:title=\"psysml:c27725e1-02a3-443e-822c-73205e66e264\" xlink:type=\"simple\"><path d=\"M499,130.09 C499,145.42 499,166.27 499,184.42 \" fill=\"none\" id=\"E7-&gt;E3\" style=\"stroke: #A80036; stroke-width: 1.0;\"/><polygon fill=\"#FFFFFF\" points=\"499,204.69,492,185.69,506,185.69,499,204.69\" style=\"stroke: #A80036; stroke-width: 1.0;\"/><ellipse cx=\"494\" cy=\"179.99\" fill=\"#A80036\" rx=\"2\" ry=\"2\" style=\"stroke: #A80036; stroke-width: 1.0;\"/><ellipse cx=\"504\" cy=\"179.99\" fill=\"#A80036\" rx=\"2\" ry=\"2\" style=\"stroke: #A80036; stroke-width: 1.0;\"/></a><!--MD5=[1ccb2481ffa92f8d51a74ee30c51832a]\n",
       "link E8 to E5--><a href=\"psysml:43ceeb8e-eeaf-4aa9-b958-61b6f980f202\" target=\"_top\" title=\"psysml:43ceeb8e-eeaf-4aa9-b958-61b6f980f202\" xlink:actuate=\"onRequest\" xlink:href=\"psysml:43ceeb8e-eeaf-4aa9-b958-61b6f980f202\" xlink:show=\"new\" xlink:title=\"psysml:43ceeb8e-eeaf-4aa9-b958-61b6f980f202\" xlink:type=\"simple\"><path d=\"M362.27,130.22 C349.82,138.09 335.46,146.77 322,154 C284.18,174.3 239.36,194.36 208.05,207.77 \" fill=\"none\" id=\"E8-&gt;E5\" style=\"stroke: #A80036; stroke-width: 1.0;\"/><polygon fill=\"#FFFFFF\" points=\"189.2,215.73,203.9741,201.8834,209.4261,214.7782,189.2,215.73\" style=\"stroke: #A80036; stroke-width: 1.0;\"/><ellipse cx=\"210.0029\" cy=\"201.5058\" fill=\"#A80036\" rx=\"2\" ry=\"2\" style=\"stroke: #A80036; stroke-width: 1.0;\"/><ellipse cx=\"213.8972\" cy=\"210.7164\" fill=\"#A80036\" rx=\"2\" ry=\"2\" style=\"stroke: #A80036; stroke-width: 1.0;\"/></a><!--MD5=[feeac5eb423634930294aa81f2d25a4c]\n",
       "link E10 to E3--><a href=\"psysml:2f015e6c-7efc-43fd-92bb-26e8cb5e6a22\" target=\"_top\" title=\"psysml:2f015e6c-7efc-43fd-92bb-26e8cb5e6a22\" xlink:actuate=\"onRequest\" xlink:href=\"psysml:2f015e6c-7efc-43fd-92bb-26e8cb5e6a22\" xlink:show=\"new\" xlink:title=\"psysml:2f015e6c-7efc-43fd-92bb-26e8cb5e6a22\" xlink:type=\"simple\"><path d=\"M305.73,130.22 C318.18,138.09 332.54,146.77 346,154 C383.82,174.3 428.64,194.36 459.95,207.77 \" fill=\"none\" id=\"E10-&gt;E3\" style=\"stroke: #A80036; stroke-width: 1.0;\"/><polygon fill=\"#FFFFFF\" points=\"478.8,215.73,458.5739,214.7782,464.0259,201.8834,478.8,215.73\" style=\"stroke: #A80036; stroke-width: 1.0;\"/><ellipse cx=\"454.1028\" cy=\"210.7164\" fill=\"#A80036\" rx=\"2\" ry=\"2\" style=\"stroke: #A80036; stroke-width: 1.0;\"/><ellipse cx=\"457.9971\" cy=\"201.5058\" fill=\"#A80036\" rx=\"2\" ry=\"2\" style=\"stroke: #A80036; stroke-width: 1.0;\"/></a><!--MD5=[07b77f6f309248d16187045709d1c26e]\n",
       "link E11 to E5--><a href=\"psysml:7cf9fed8-155f-433e-a01b-9d13c54aa089\" target=\"_top\" title=\"psysml:7cf9fed8-155f-433e-a01b-9d13c54aa089\" xlink:actuate=\"onRequest\" xlink:href=\"psysml:7cf9fed8-155f-433e-a01b-9d13c54aa089\" xlink:show=\"new\" xlink:title=\"psysml:7cf9fed8-155f-433e-a01b-9d13c54aa089\" xlink:type=\"simple\"><path d=\"M169,130.09 C169,145.42 169,166.27 169,184.42 \" fill=\"none\" id=\"E11-&gt;E5\" style=\"stroke: #A80036; stroke-width: 1.0;\"/><polygon fill=\"#FFFFFF\" points=\"169,204.69,162,185.69,176,185.69,169,204.69\" style=\"stroke: #A80036; stroke-width: 1.0;\"/><ellipse cx=\"164\" cy=\"179.99\" fill=\"#A80036\" rx=\"2\" ry=\"2\" style=\"stroke: #A80036; stroke-width: 1.0;\"/><ellipse cx=\"174\" cy=\"179.99\" fill=\"#A80036\" rx=\"2\" ry=\"2\" style=\"stroke: #A80036; stroke-width: 1.0;\"/></a><!--MD5=[39f41a0e550fb3d73b4d8135617e30a2]\n",
       "link E12 to E3--><a href=\"psysml:2b9be10b-590f-4358-bedf-a86ab0ed6bce\" target=\"_top\" title=\"psysml:2b9be10b-590f-4358-bedf-a86ab0ed6bce\" xlink:actuate=\"onRequest\" xlink:href=\"psysml:2b9be10b-590f-4358-bedf-a86ab0ed6bce\" xlink:show=\"new\" xlink:title=\"psysml:2b9be10b-590f-4358-bedf-a86ab0ed6bce\" xlink:type=\"simple\"><path d=\"M582.38,130.09 C567.43,146.94 546.56,170.44 529.44,189.72 \" fill=\"none\" id=\"E12-&gt;E3\" style=\"stroke: #A80036; stroke-width: 1.0;\"/><polygon fill=\"#FFFFFF\" points=\"516.15,204.69,523.5343,185.836,534.0014,195.1334,516.15,204.69\" style=\"stroke: #A80036; stroke-width: 1.0;\"/><ellipse cx=\"528.815\" cy=\"182.9027\" fill=\"#A80036\" rx=\"2\" ry=\"2\" style=\"stroke: #A80036; stroke-width: 1.0;\"/><ellipse cx=\"536.2914\" cy=\"189.5436\" fill=\"#A80036\" rx=\"2\" ry=\"2\" style=\"stroke: #A80036; stroke-width: 1.0;\"/></a><!--MD5=[066b2d8af59fea80ccdb3d54ad5c1091]\n",
       "link E13 to E5--><a href=\"psysml:78896435-f936-4df6-9172-2ff6f9da23d9\" target=\"_top\" title=\"psysml:78896435-f936-4df6-9172-2ff6f9da23d9\" xlink:actuate=\"onRequest\" xlink:href=\"psysml:78896435-f936-4df6-9172-2ff6f9da23d9\" xlink:show=\"new\" xlink:title=\"psysml:78896435-f936-4df6-9172-2ff6f9da23d9\" xlink:type=\"simple\"><path d=\"M85.62,130.09 C100.57,146.94 121.44,170.44 138.56,189.72 \" fill=\"none\" id=\"E13-&gt;E5\" style=\"stroke: #A80036; stroke-width: 1.0;\"/><polygon fill=\"#FFFFFF\" points=\"151.85,204.69,133.9986,195.1334,144.4657,185.836,151.85,204.69\" style=\"stroke: #A80036; stroke-width: 1.0;\"/><ellipse cx=\"131.7086\" cy=\"189.5436\" fill=\"#A80036\" rx=\"2\" ry=\"2\" style=\"stroke: #A80036; stroke-width: 1.0;\"/><ellipse cx=\"139.185\" cy=\"182.9027\" fill=\"#A80036\" rx=\"2\" ry=\"2\" style=\"stroke: #A80036; stroke-width: 1.0;\"/></a><!--MD5=[27237d3d86b8aa83c2133d3930d563d1]\n",
       "@startuml\r\n",
       " \r\n",
       "package \"CircularImport\" as E1  [[psysml:33738fcf-e3ee-4a7e-98d6-e975d5107ba1 ]]  {\r\n",
       "package \"P1\" as E2  [[psysml:130ef6c7-3ccc-43b9-a62a-eb926cce14a9 ]]  {\r\n",
       "comp def \"A\" as E3 << << (B,green) >> [[psysml:cb0f7157-438a-4ad5-8a96-0def6a248a5a ]] {\r\n",
       "}\r\n",
       "}\r\n",
       "package \"P2\" as E4  [[psysml:0bc4dbd6-620a-45b9-8d32-94753792e496 ]]  {\r\n",
       "comp def \"B\" as E5 << << (B,green) >> [[psysml:fa716e5d-1985-44ef-b151-4b2b4c0691ed ]] {\r\n",
       "}\r\n",
       "}\r\n",
       "package \"Test1\" as E6  [[psysml:b4043d48-e2a3-4796-9568-6bbff931ebfd ]]  {\r\n",
       "comp usage \"x: A\" as E7 << << (P,limegreen) part>> [[psysml:418b0add-8d91-4a6d-810e-c529e1e5d9c2 ]] {\r\n",
       "}\r\n",
       "comp usage \"y: B\" as E8 << << (P,limegreen) part>> [[psysml:c18479a8-8a5a-4a0f-a7e4-033b0648dafb ]] {\r\n",
       "}\r\n",
       "E7 - -:|> E3 [[psysml:c27725e1-02a3-443e-822c-73205e66e264 ]] \r\n",
       "E8 - -:|> E5 [[psysml:43ceeb8e-eeaf-4aa9-b958-61b6f980f202 ]] \r\n",
       "}\r\n",
       "package \"Test2\" as E9  [[psysml:85a9df72-6515-46a6-853d-c4da844a4980 ]]  {\r\n",
       "comp usage \"x: A\" as E10 << << (P,limegreen) part>> [[psysml:61feb9d5-4074-478e-84bb-b7eccf03922b ]] {\r\n",
       "}\r\n",
       "comp usage \"y: B\" as E11 << << (P,limegreen) part>> [[psysml:2edd355f-e967-45cc-82fe-80091bb729bd ]] {\r\n",
       "}\r\n",
       "E10 - -:|> E3 [[psysml:2f015e6c-7efc-43fd-92bb-26e8cb5e6a22 ]] \r\n",
       "E11 - -:|> E5 [[psysml:7cf9fed8-155f-433e-a01b-9d13c54aa089 ]] \r\n",
       "}\r\n",
       "comp usage \"x: A\" as E12 << << (P,limegreen) part>> [[psysml:530a6ae9-7dc1-4851-ab10-936e92c948f7 ]] {\r\n",
       "}\r\n",
       "comp usage \"y: B\" as E13 << << (P,limegreen) part>> [[psysml:561bfa55-252f-4783-9fb1-458618dbf236 ]] {\r\n",
       "}\r\n",
       "E12 - -:|> E3 [[psysml:2b9be10b-590f-4358-bedf-a86ab0ed6bce ]] \r\n",
       "E13 - -:|> E5 [[psysml:78896435-f936-4df6-9172-2ff6f9da23d9 ]] \r\n",
       "}\r\n",
       "@enduml\r\n",
       "\n",
       "PlantUML version 1.2020.13(Sat Jun 13 12:26:38 UTC 2020)\n",
       "(EPL source distribution)\n",
       "Java Runtime: OpenJDK Runtime Environment\n",
       "JVM: OpenJDK 64-Bit Server VM\n",
       "Default Encoding: UTF-8\n",
       "Language: en\n",
       "Country: null\n",
       "--></g></svg>"
      ]
     },
     "execution_count": 30,
     "metadata": {},
     "output_type": "execute_result"
    }
   ],
   "source": [
    "%viz --style=\"PLANTUML\" --view=\"Default\" \"CircularImport\""
   ]
  },
  {
   "cell_type": "code",
   "execution_count": 31,
   "id": "2c3abeb5",
   "metadata": {
    "execution": {
     "iopub.execute_input": "2021-06-30T09:15:10.810482Z",
     "iopub.status.busy": "2021-06-30T09:15:10.808419Z",
     "iopub.status.idle": "2021-06-30T09:15:10.902912Z",
     "shell.execute_reply": "2021-06-30T09:15:10.903448Z"
    }
   },
   "outputs": [
    {
     "data": {
      "image/svg+xml": [
       "<?xml version=\"1.0\" encoding=\"UTF-8\" standalone=\"no\"?><svg xmlns=\"http://www.w3.org/2000/svg\" xmlns:xlink=\"http://www.w3.org/1999/xlink\" contentScriptType=\"application/ecmascript\" contentStyleType=\"text/css\" height=\"297px\" preserveAspectRatio=\"none\" style=\"width:674px;height:297px;\" version=\"1.1\" viewBox=\"0 0 674 297\" width=\"674px\" zoomAndPan=\"magnify\"><defs><filter height=\"300%\" id=\"fh0jkiah8suhw\" width=\"300%\" x=\"-1\" y=\"-1\"><feGaussianBlur result=\"blurOut\" stdDeviation=\"2.0\"/><feColorMatrix in=\"blurOut\" result=\"blurOut2\" type=\"matrix\" values=\"0 0 0 0 0 0 0 0 0 0 0 0 0 0 0 0 0 0 .4 0\"/><feOffset dx=\"4.0\" dy=\"4.0\" in=\"blurOut2\" result=\"blurOut3\"/><feBlend in=\"SourceGraphic\" in2=\"blurOut3\" mode=\"normal\"/></filter></defs><g><!--MD5=[fbc87193dbaf4d95561dea2c320d4a47]\n",
       "cluster E1--><a href=\"psysml:33738fcf-e3ee-4a7e-98d6-e975d5107ba1\" target=\"_top\" title=\"psysml:33738fcf-e3ee-4a7e-98d6-e975d5107ba1\" xlink:actuate=\"onRequest\" xlink:href=\"psysml:33738fcf-e3ee-4a7e-98d6-e975d5107ba1\" xlink:show=\"new\" xlink:title=\"psysml:33738fcf-e3ee-4a7e-98d6-e975d5107ba1\" xlink:type=\"simple\"><polygon fill=\"#FFFFFF\" filter=\"url(#fh0jkiah8suhw)\" points=\"16,6,134,6,141,28.2969,652,28.2969,652,285,16,285,16,6\" style=\"stroke: #000000; stroke-width: 1.5;\"/><line style=\"stroke: #000000; stroke-width: 1.5;\" x1=\"16\" x2=\"141\" y1=\"28.2969\" y2=\"28.2969\"/><text fill=\"#000000\" font-family=\"sans-serif\" font-size=\"14\" font-weight=\"bold\" lengthAdjust=\"spacingAndGlyphs\" textLength=\"112\" x=\"20\" y=\"20.9951\">CircularImport</text></a><!--MD5=[e4f7fae6ed58524ba242bb0b0d3be6b7]\n",
       "cluster E2--><a href=\"psysml:130ef6c7-3ccc-43b9-a62a-eb926cce14a9\" target=\"_top\" title=\"psysml:130ef6c7-3ccc-43b9-a62a-eb926cce14a9\" xlink:actuate=\"onRequest\" xlink:href=\"psysml:130ef6c7-3ccc-43b9-a62a-eb926cce14a9\" xlink:show=\"new\" xlink:title=\"psysml:130ef6c7-3ccc-43b9-a62a-eb926cce14a9\" xlink:type=\"simple\"><polygon fill=\"#FFFFFF\" filter=\"url(#fh0jkiah8suhw)\" points=\"463,170,489,170,496,192.2969,535,192.2969,535,261,463,261,463,170\" style=\"stroke: #000000; stroke-width: 1.5;\"/><line style=\"stroke: #000000; stroke-width: 1.5;\" x1=\"463\" x2=\"496\" y1=\"192.2969\" y2=\"192.2969\"/><text fill=\"#000000\" font-family=\"sans-serif\" font-size=\"14\" font-weight=\"bold\" lengthAdjust=\"spacingAndGlyphs\" textLength=\"20\" x=\"467\" y=\"184.9951\">P1</text></a><!--MD5=[f6df4d0ebaf0b5dfb2ced0ae5af7c670]\n",
       "cluster E4--><a href=\"psysml:0bc4dbd6-620a-45b9-8d32-94753792e496\" target=\"_top\" title=\"psysml:0bc4dbd6-620a-45b9-8d32-94753792e496\" xlink:actuate=\"onRequest\" xlink:href=\"psysml:0bc4dbd6-620a-45b9-8d32-94753792e496\" xlink:show=\"new\" xlink:title=\"psysml:0bc4dbd6-620a-45b9-8d32-94753792e496\" xlink:type=\"simple\"><polygon fill=\"#FFFFFF\" filter=\"url(#fh0jkiah8suhw)\" points=\"133,170,159,170,166,192.2969,205,192.2969,205,261,133,261,133,170\" style=\"stroke: #000000; stroke-width: 1.5;\"/><line style=\"stroke: #000000; stroke-width: 1.5;\" x1=\"133\" x2=\"166\" y1=\"192.2969\" y2=\"192.2969\"/><text fill=\"#000000\" font-family=\"sans-serif\" font-size=\"14\" font-weight=\"bold\" lengthAdjust=\"spacingAndGlyphs\" textLength=\"20\" x=\"137\" y=\"184.9951\">P2</text></a><!--MD5=[14e3b0961a2654348d326746436168a1]\n",
       "cluster E6--><a href=\"psysml:b4043d48-e2a3-4796-9568-6bbff931ebfd\" target=\"_top\" title=\"psysml:b4043d48-e2a3-4796-9568-6bbff931ebfd\" xlink:actuate=\"onRequest\" xlink:href=\"psysml:b4043d48-e2a3-4796-9568-6bbff931ebfd\" xlink:show=\"new\" xlink:title=\"psysml:b4043d48-e2a3-4796-9568-6bbff931ebfd\" xlink:type=\"simple\"><polygon fill=\"#FFFFFF\" filter=\"url(#fh0jkiah8suhw)\" points=\"346,49,397,49,404,71.2969,549,71.2969,549,146,346,146,346,49\" style=\"stroke: #000000; stroke-width: 1.5;\"/><line style=\"stroke: #000000; stroke-width: 1.5;\" x1=\"346\" x2=\"404\" y1=\"71.2969\" y2=\"71.2969\"/><text fill=\"#000000\" font-family=\"sans-serif\" font-size=\"14\" font-weight=\"bold\" lengthAdjust=\"spacingAndGlyphs\" textLength=\"45\" x=\"350\" y=\"63.9951\">Test1</text></a><!--MD5=[7f149f147074ac12df2cb0a7728a5fb0]\n",
       "cluster E9--><a href=\"psysml:85a9df72-6515-46a6-853d-c4da844a4980\" target=\"_top\" title=\"psysml:85a9df72-6515-46a6-853d-c4da844a4980\" xlink:actuate=\"onRequest\" xlink:href=\"psysml:85a9df72-6515-46a6-853d-c4da844a4980\" xlink:show=\"new\" xlink:title=\"psysml:85a9df72-6515-46a6-853d-c4da844a4980\" xlink:type=\"simple\"><polygon fill=\"#FFFFFF\" filter=\"url(#fh0jkiah8suhw)\" points=\"119,49,170,49,177,71.2969,322,71.2969,322,146,119,146,119,49\" style=\"stroke: #000000; stroke-width: 1.5;\"/><line style=\"stroke: #000000; stroke-width: 1.5;\" x1=\"119\" x2=\"177\" y1=\"71.2969\" y2=\"71.2969\"/><text fill=\"#000000\" font-family=\"sans-serif\" font-size=\"14\" font-weight=\"bold\" lengthAdjust=\"spacingAndGlyphs\" textLength=\"45\" x=\"123\" y=\"63.9951\">Test2</text></a><!--MD5=[49a0ec8f00dab7302a31f22d0f0fe584]\n",
       "class E12--><a href=\"psysml:530a6ae9-7dc1-4851-ab10-936e92c948f7\" target=\"_top\" title=\"psysml:530a6ae9-7dc1-4851-ab10-936e92c948f7\" xlink:actuate=\"onRequest\" xlink:href=\"psysml:530a6ae9-7dc1-4851-ab10-936e92c948f7\" xlink:show=\"new\" xlink:title=\"psysml:530a6ae9-7dc1-4851-ab10-936e92c948f7\" xlink:type=\"simple\"><rect fill=\"#FEFECE\" filter=\"url(#fh0jkiah8suhw)\" height=\"45.9375\" id=\"E12\" rx=\"10\" ry=\"10\" style=\"stroke: #A80036; stroke-width: 1.5;\" width=\"68\" x=\"568\" y=\"84\"/><ellipse cx=\"583\" cy=\"102.9688\" fill=\"#32CD32\" rx=\"11\" ry=\"11\" style=\"stroke: #A80036; stroke-width: 1.0;\"/><path d=\"M582.7969,98.6406 L582.7969,102.2656 L583.7969,102.2656 Q585,102.2656 585.4844,101.8594 Q585.9688,101.4531 585.9688,100.4531 Q585.9688,99.4531 585.4844,99.0469 Q585,98.6406 583.7969,98.6406 L582.7969,98.6406 Z M580.3438,96.5781 L583.7031,96.5781 Q586.2656,96.5781 587.3906,97.5 Q588.5156,98.4063 588.5156,100.4531 Q588.5156,102.5 587.3906,103.4219 Q586.2656,104.3281 583.7031,104.3281 L582.7969,104.3281 L582.7969,108.9688 L580.3438,108.9688 L580.3438,96.5781 Z \"/><text fill=\"#000000\" font-family=\"sans-serif\" font-size=\"12\" font-style=\"italic\" lengthAdjust=\"spacingAndGlyphs\" textLength=\"40\" x=\"595\" y=\"100.1387\">«part»</text><text fill=\"#000000\" font-family=\"sans-serif\" font-size=\"12\" lengthAdjust=\"spacingAndGlyphs\" textLength=\"22\" x=\"604\" y=\"114.1074\">x: A</text><line style=\"stroke: #A80036; stroke-width: 1.5;\" x1=\"569\" x2=\"635\" y1=\"121.9375\" y2=\"121.9375\"/></a><!--MD5=[ee3c913d1a06f366521f9ef512b67efe]\n",
       "class E13--><a href=\"psysml:561bfa55-252f-4783-9fb1-458618dbf236\" target=\"_top\" title=\"psysml:561bfa55-252f-4783-9fb1-458618dbf236\" xlink:actuate=\"onRequest\" xlink:href=\"psysml:561bfa55-252f-4783-9fb1-458618dbf236\" xlink:show=\"new\" xlink:title=\"psysml:561bfa55-252f-4783-9fb1-458618dbf236\" xlink:type=\"simple\"><rect fill=\"#FEFECE\" filter=\"url(#fh0jkiah8suhw)\" height=\"45.9375\" id=\"E13\" rx=\"10\" ry=\"10\" style=\"stroke: #A80036; stroke-width: 1.5;\" width=\"68\" x=\"32\" y=\"84\"/><ellipse cx=\"47\" cy=\"102.9688\" fill=\"#32CD32\" rx=\"11\" ry=\"11\" style=\"stroke: #A80036; stroke-width: 1.0;\"/><path d=\"M46.7969,98.6406 L46.7969,102.2656 L47.7969,102.2656 Q49,102.2656 49.4844,101.8594 Q49.9688,101.4531 49.9688,100.4531 Q49.9688,99.4531 49.4844,99.0469 Q49,98.6406 47.7969,98.6406 L46.7969,98.6406 Z M44.3438,96.5781 L47.7031,96.5781 Q50.2656,96.5781 51.3906,97.5 Q52.5156,98.4063 52.5156,100.4531 Q52.5156,102.5 51.3906,103.4219 Q50.2656,104.3281 47.7031,104.3281 L46.7969,104.3281 L46.7969,108.9688 L44.3438,108.9688 L44.3438,96.5781 Z \"/><text fill=\"#000000\" font-family=\"sans-serif\" font-size=\"12\" font-style=\"italic\" lengthAdjust=\"spacingAndGlyphs\" textLength=\"40\" x=\"59\" y=\"100.1387\">«part»</text><text fill=\"#000000\" font-family=\"sans-serif\" font-size=\"12\" lengthAdjust=\"spacingAndGlyphs\" textLength=\"22\" x=\"68\" y=\"114.1074\">y: B</text><line style=\"stroke: #A80036; stroke-width: 1.5;\" x1=\"33\" x2=\"99\" y1=\"121.9375\" y2=\"121.9375\"/></a><!--MD5=[09b614a08d8cba4a07c9adeb5e0fee81]\n",
       "class E3--><a href=\"psysml:cb0f7157-438a-4ad5-8a96-0def6a248a5a\" target=\"_top\" title=\"psysml:cb0f7157-438a-4ad5-8a96-0def6a248a5a\" xlink:actuate=\"onRequest\" xlink:href=\"psysml:cb0f7157-438a-4ad5-8a96-0def6a248a5a\" xlink:show=\"new\" xlink:title=\"psysml:cb0f7157-438a-4ad5-8a96-0def6a248a5a\" xlink:type=\"simple\"><rect fill=\"#FEFECE\" filter=\"url(#fh0jkiah8suhw)\" height=\"40\" id=\"E3\" style=\"stroke: #A80036; stroke-width: 1.5;\" width=\"40\" x=\"479\" y=\"205\"/><ellipse cx=\"494\" cy=\"221\" fill=\"#008000\" rx=\"11\" ry=\"11\" style=\"stroke: #A80036; stroke-width: 1.0;\"/><path d=\"M492.9063,221.375 L492.9063,225.0469 L494.5313,225.0469 Q495.7031,225.0469 496.1719,224.6563 Q496.6406,224.25 496.6406,223.25 Q496.6406,222.25 496.1406,221.8125 Q495.6563,221.375 494.5313,221.375 L492.9063,221.375 Z M492.9063,216.5469 L492.9063,219.4219 L494.5313,219.4219 Q495.4531,219.4219 495.8438,219.0938 Q496.25,218.75 496.25,218 Q496.25,217.2344 495.8438,216.8906 Q495.4375,216.5469 494.5313,216.5469 L492.9063,216.5469 Z M490.5313,214.5938 L494.5313,214.5938 Q496.5938,214.5938 497.6406,215.375 Q498.6875,216.1563 498.6875,217.7188 Q498.6875,218.9219 498.0625,219.5938 Q497.4531,220.2656 496.2656,220.375 Q497.6875,220.5156 498.4063,221.3281 Q499.125,222.1406 499.125,223.5938 Q499.125,225.3906 498.0469,226.2031 Q496.9688,227 494.5313,227 L490.5313,227 L490.5313,214.5938 Z \"/><text fill=\"#000000\" font-family=\"sans-serif\" font-size=\"12\" lengthAdjust=\"spacingAndGlyphs\" textLength=\"8\" x=\"508\" y=\"225.1543\">A</text><line style=\"stroke: #A80036; stroke-width: 1.5;\" x1=\"480\" x2=\"518\" y1=\"237\" y2=\"237\"/></a><!--MD5=[270fce915f116d4de14055a7c1d9a0f3]\n",
       "class E5--><a href=\"psysml:fa716e5d-1985-44ef-b151-4b2b4c0691ed\" target=\"_top\" title=\"psysml:fa716e5d-1985-44ef-b151-4b2b4c0691ed\" xlink:actuate=\"onRequest\" xlink:href=\"psysml:fa716e5d-1985-44ef-b151-4b2b4c0691ed\" xlink:show=\"new\" xlink:title=\"psysml:fa716e5d-1985-44ef-b151-4b2b4c0691ed\" xlink:type=\"simple\"><rect fill=\"#FEFECE\" filter=\"url(#fh0jkiah8suhw)\" height=\"40\" id=\"E5\" style=\"stroke: #A80036; stroke-width: 1.5;\" width=\"40\" x=\"149\" y=\"205\"/><ellipse cx=\"164\" cy=\"221\" fill=\"#008000\" rx=\"11\" ry=\"11\" style=\"stroke: #A80036; stroke-width: 1.0;\"/><path d=\"M162.9063,221.375 L162.9063,225.0469 L164.5313,225.0469 Q165.7031,225.0469 166.1719,224.6563 Q166.6406,224.25 166.6406,223.25 Q166.6406,222.25 166.1406,221.8125 Q165.6563,221.375 164.5313,221.375 L162.9063,221.375 Z M162.9063,216.5469 L162.9063,219.4219 L164.5313,219.4219 Q165.4531,219.4219 165.8438,219.0938 Q166.25,218.75 166.25,218 Q166.25,217.2344 165.8438,216.8906 Q165.4375,216.5469 164.5313,216.5469 L162.9063,216.5469 Z M160.5313,214.5938 L164.5313,214.5938 Q166.5938,214.5938 167.6406,215.375 Q168.6875,216.1563 168.6875,217.7188 Q168.6875,218.9219 168.0625,219.5938 Q167.4531,220.2656 166.2656,220.375 Q167.6875,220.5156 168.4063,221.3281 Q169.125,222.1406 169.125,223.5938 Q169.125,225.3906 168.0469,226.2031 Q166.9688,227 164.5313,227 L160.5313,227 L160.5313,214.5938 Z \"/><text fill=\"#000000\" font-family=\"sans-serif\" font-size=\"12\" lengthAdjust=\"spacingAndGlyphs\" textLength=\"8\" x=\"178\" y=\"225.1543\">B</text><line style=\"stroke: #A80036; stroke-width: 1.5;\" x1=\"150\" x2=\"188\" y1=\"237\" y2=\"237\"/></a><!--MD5=[2156ba9850f5573cc1fc38a6a4b2f02b]\n",
       "class E7--><a href=\"psysml:418b0add-8d91-4a6d-810e-c529e1e5d9c2\" target=\"_top\" title=\"psysml:418b0add-8d91-4a6d-810e-c529e1e5d9c2\" xlink:actuate=\"onRequest\" xlink:href=\"psysml:418b0add-8d91-4a6d-810e-c529e1e5d9c2\" xlink:show=\"new\" xlink:title=\"psysml:418b0add-8d91-4a6d-810e-c529e1e5d9c2\" xlink:type=\"simple\"><rect fill=\"#FEFECE\" filter=\"url(#fh0jkiah8suhw)\" height=\"45.9375\" id=\"E7\" rx=\"10\" ry=\"10\" style=\"stroke: #A80036; stroke-width: 1.5;\" width=\"68\" x=\"465\" y=\"84\"/><ellipse cx=\"480\" cy=\"102.9688\" fill=\"#32CD32\" rx=\"11\" ry=\"11\" style=\"stroke: #A80036; stroke-width: 1.0;\"/><path d=\"M479.7969,98.6406 L479.7969,102.2656 L480.7969,102.2656 Q482,102.2656 482.4844,101.8594 Q482.9688,101.4531 482.9688,100.4531 Q482.9688,99.4531 482.4844,99.0469 Q482,98.6406 480.7969,98.6406 L479.7969,98.6406 Z M477.3438,96.5781 L480.7031,96.5781 Q483.2656,96.5781 484.3906,97.5 Q485.5156,98.4063 485.5156,100.4531 Q485.5156,102.5 484.3906,103.4219 Q483.2656,104.3281 480.7031,104.3281 L479.7969,104.3281 L479.7969,108.9688 L477.3438,108.9688 L477.3438,96.5781 Z \"/><text fill=\"#000000\" font-family=\"sans-serif\" font-size=\"12\" font-style=\"italic\" lengthAdjust=\"spacingAndGlyphs\" textLength=\"40\" x=\"492\" y=\"100.1387\">«part»</text><text fill=\"#000000\" font-family=\"sans-serif\" font-size=\"12\" lengthAdjust=\"spacingAndGlyphs\" textLength=\"22\" x=\"501\" y=\"114.1074\">x: A</text><line style=\"stroke: #A80036; stroke-width: 1.5;\" x1=\"466\" x2=\"532\" y1=\"121.9375\" y2=\"121.9375\"/></a><!--MD5=[b9389687b975829384b498ac4b7476b2]\n",
       "class E8--><a href=\"psysml:c18479a8-8a5a-4a0f-a7e4-033b0648dafb\" target=\"_top\" title=\"psysml:c18479a8-8a5a-4a0f-a7e4-033b0648dafb\" xlink:actuate=\"onRequest\" xlink:href=\"psysml:c18479a8-8a5a-4a0f-a7e4-033b0648dafb\" xlink:show=\"new\" xlink:title=\"psysml:c18479a8-8a5a-4a0f-a7e4-033b0648dafb\" xlink:type=\"simple\"><rect fill=\"#FEFECE\" filter=\"url(#fh0jkiah8suhw)\" height=\"45.9375\" id=\"E8\" rx=\"10\" ry=\"10\" style=\"stroke: #A80036; stroke-width: 1.5;\" width=\"68\" x=\"362\" y=\"84\"/><ellipse cx=\"377\" cy=\"102.9688\" fill=\"#32CD32\" rx=\"11\" ry=\"11\" style=\"stroke: #A80036; stroke-width: 1.0;\"/><path d=\"M376.7969,98.6406 L376.7969,102.2656 L377.7969,102.2656 Q379,102.2656 379.4844,101.8594 Q379.9688,101.4531 379.9688,100.4531 Q379.9688,99.4531 379.4844,99.0469 Q379,98.6406 377.7969,98.6406 L376.7969,98.6406 Z M374.3438,96.5781 L377.7031,96.5781 Q380.2656,96.5781 381.3906,97.5 Q382.5156,98.4063 382.5156,100.4531 Q382.5156,102.5 381.3906,103.4219 Q380.2656,104.3281 377.7031,104.3281 L376.7969,104.3281 L376.7969,108.9688 L374.3438,108.9688 L374.3438,96.5781 Z \"/><text fill=\"#000000\" font-family=\"sans-serif\" font-size=\"12\" font-style=\"italic\" lengthAdjust=\"spacingAndGlyphs\" textLength=\"40\" x=\"389\" y=\"100.1387\">«part»</text><text fill=\"#000000\" font-family=\"sans-serif\" font-size=\"12\" lengthAdjust=\"spacingAndGlyphs\" textLength=\"22\" x=\"398\" y=\"114.1074\">y: B</text><line style=\"stroke: #A80036; stroke-width: 1.5;\" x1=\"363\" x2=\"429\" y1=\"121.9375\" y2=\"121.9375\"/></a><!--MD5=[96f4274e9e20536e775497830990834d]\n",
       "class E10--><a href=\"psysml:61feb9d5-4074-478e-84bb-b7eccf03922b\" target=\"_top\" title=\"psysml:61feb9d5-4074-478e-84bb-b7eccf03922b\" xlink:actuate=\"onRequest\" xlink:href=\"psysml:61feb9d5-4074-478e-84bb-b7eccf03922b\" xlink:show=\"new\" xlink:title=\"psysml:61feb9d5-4074-478e-84bb-b7eccf03922b\" xlink:type=\"simple\"><rect fill=\"#FEFECE\" filter=\"url(#fh0jkiah8suhw)\" height=\"45.9375\" id=\"E10\" rx=\"10\" ry=\"10\" style=\"stroke: #A80036; stroke-width: 1.5;\" width=\"68\" x=\"238\" y=\"84\"/><ellipse cx=\"253\" cy=\"102.9688\" fill=\"#32CD32\" rx=\"11\" ry=\"11\" style=\"stroke: #A80036; stroke-width: 1.0;\"/><path d=\"M252.7969,98.6406 L252.7969,102.2656 L253.7969,102.2656 Q255,102.2656 255.4844,101.8594 Q255.9688,101.4531 255.9688,100.4531 Q255.9688,99.4531 255.4844,99.0469 Q255,98.6406 253.7969,98.6406 L252.7969,98.6406 Z M250.3438,96.5781 L253.7031,96.5781 Q256.2656,96.5781 257.3906,97.5 Q258.5156,98.4063 258.5156,100.4531 Q258.5156,102.5 257.3906,103.4219 Q256.2656,104.3281 253.7031,104.3281 L252.7969,104.3281 L252.7969,108.9688 L250.3438,108.9688 L250.3438,96.5781 Z \"/><text fill=\"#000000\" font-family=\"sans-serif\" font-size=\"12\" font-style=\"italic\" lengthAdjust=\"spacingAndGlyphs\" textLength=\"40\" x=\"265\" y=\"100.1387\">«part»</text><text fill=\"#000000\" font-family=\"sans-serif\" font-size=\"12\" lengthAdjust=\"spacingAndGlyphs\" textLength=\"22\" x=\"274\" y=\"114.1074\">x: A</text><line style=\"stroke: #A80036; stroke-width: 1.5;\" x1=\"239\" x2=\"305\" y1=\"121.9375\" y2=\"121.9375\"/></a><!--MD5=[1dd1bfd58a279cf63c5f349dbc8fc6a1]\n",
       "class E11--><a href=\"psysml:2edd355f-e967-45cc-82fe-80091bb729bd\" target=\"_top\" title=\"psysml:2edd355f-e967-45cc-82fe-80091bb729bd\" xlink:actuate=\"onRequest\" xlink:href=\"psysml:2edd355f-e967-45cc-82fe-80091bb729bd\" xlink:show=\"new\" xlink:title=\"psysml:2edd355f-e967-45cc-82fe-80091bb729bd\" xlink:type=\"simple\"><rect fill=\"#FEFECE\" filter=\"url(#fh0jkiah8suhw)\" height=\"45.9375\" id=\"E11\" rx=\"10\" ry=\"10\" style=\"stroke: #A80036; stroke-width: 1.5;\" width=\"68\" x=\"135\" y=\"84\"/><ellipse cx=\"150\" cy=\"102.9688\" fill=\"#32CD32\" rx=\"11\" ry=\"11\" style=\"stroke: #A80036; stroke-width: 1.0;\"/><path d=\"M149.7969,98.6406 L149.7969,102.2656 L150.7969,102.2656 Q152,102.2656 152.4844,101.8594 Q152.9688,101.4531 152.9688,100.4531 Q152.9688,99.4531 152.4844,99.0469 Q152,98.6406 150.7969,98.6406 L149.7969,98.6406 Z M147.3438,96.5781 L150.7031,96.5781 Q153.2656,96.5781 154.3906,97.5 Q155.5156,98.4063 155.5156,100.4531 Q155.5156,102.5 154.3906,103.4219 Q153.2656,104.3281 150.7031,104.3281 L149.7969,104.3281 L149.7969,108.9688 L147.3438,108.9688 L147.3438,96.5781 Z \"/><text fill=\"#000000\" font-family=\"sans-serif\" font-size=\"12\" font-style=\"italic\" lengthAdjust=\"spacingAndGlyphs\" textLength=\"40\" x=\"162\" y=\"100.1387\">«part»</text><text fill=\"#000000\" font-family=\"sans-serif\" font-size=\"12\" lengthAdjust=\"spacingAndGlyphs\" textLength=\"22\" x=\"171\" y=\"114.1074\">y: B</text><line style=\"stroke: #A80036; stroke-width: 1.5;\" x1=\"136\" x2=\"202\" y1=\"121.9375\" y2=\"121.9375\"/></a><!--MD5=[14ccda38c055a5c0da953d572bc50960]\n",
       "link E7 to E3--><a href=\"psysml:c27725e1-02a3-443e-822c-73205e66e264\" target=\"_top\" title=\"psysml:c27725e1-02a3-443e-822c-73205e66e264\" xlink:actuate=\"onRequest\" xlink:href=\"psysml:c27725e1-02a3-443e-822c-73205e66e264\" xlink:show=\"new\" xlink:title=\"psysml:c27725e1-02a3-443e-822c-73205e66e264\" xlink:type=\"simple\"><path d=\"M499,130.09 C499,145.42 499,166.27 499,184.42 \" fill=\"none\" id=\"E7-&gt;E3\" style=\"stroke: #A80036; stroke-width: 1.0;\"/><polygon fill=\"#FFFFFF\" points=\"499,204.69,492,185.69,506,185.69,499,204.69\" style=\"stroke: #A80036; stroke-width: 1.0;\"/><ellipse cx=\"494\" cy=\"179.99\" fill=\"#A80036\" rx=\"2\" ry=\"2\" style=\"stroke: #A80036; stroke-width: 1.0;\"/><ellipse cx=\"504\" cy=\"179.99\" fill=\"#A80036\" rx=\"2\" ry=\"2\" style=\"stroke: #A80036; stroke-width: 1.0;\"/></a><!--MD5=[1ccb2481ffa92f8d51a74ee30c51832a]\n",
       "link E8 to E5--><a href=\"psysml:43ceeb8e-eeaf-4aa9-b958-61b6f980f202\" target=\"_top\" title=\"psysml:43ceeb8e-eeaf-4aa9-b958-61b6f980f202\" xlink:actuate=\"onRequest\" xlink:href=\"psysml:43ceeb8e-eeaf-4aa9-b958-61b6f980f202\" xlink:show=\"new\" xlink:title=\"psysml:43ceeb8e-eeaf-4aa9-b958-61b6f980f202\" xlink:type=\"simple\"><path d=\"M362.27,130.22 C349.82,138.09 335.46,146.77 322,154 C284.18,174.3 239.36,194.36 208.05,207.77 \" fill=\"none\" id=\"E8-&gt;E5\" style=\"stroke: #A80036; stroke-width: 1.0;\"/><polygon fill=\"#FFFFFF\" points=\"189.2,215.73,203.9741,201.8834,209.4261,214.7782,189.2,215.73\" style=\"stroke: #A80036; stroke-width: 1.0;\"/><ellipse cx=\"210.0029\" cy=\"201.5058\" fill=\"#A80036\" rx=\"2\" ry=\"2\" style=\"stroke: #A80036; stroke-width: 1.0;\"/><ellipse cx=\"213.8972\" cy=\"210.7164\" fill=\"#A80036\" rx=\"2\" ry=\"2\" style=\"stroke: #A80036; stroke-width: 1.0;\"/></a><!--MD5=[feeac5eb423634930294aa81f2d25a4c]\n",
       "link E10 to E3--><a href=\"psysml:2f015e6c-7efc-43fd-92bb-26e8cb5e6a22\" target=\"_top\" title=\"psysml:2f015e6c-7efc-43fd-92bb-26e8cb5e6a22\" xlink:actuate=\"onRequest\" xlink:href=\"psysml:2f015e6c-7efc-43fd-92bb-26e8cb5e6a22\" xlink:show=\"new\" xlink:title=\"psysml:2f015e6c-7efc-43fd-92bb-26e8cb5e6a22\" xlink:type=\"simple\"><path d=\"M305.73,130.22 C318.18,138.09 332.54,146.77 346,154 C383.82,174.3 428.64,194.36 459.95,207.77 \" fill=\"none\" id=\"E10-&gt;E3\" style=\"stroke: #A80036; stroke-width: 1.0;\"/><polygon fill=\"#FFFFFF\" points=\"478.8,215.73,458.5739,214.7782,464.0259,201.8834,478.8,215.73\" style=\"stroke: #A80036; stroke-width: 1.0;\"/><ellipse cx=\"454.1028\" cy=\"210.7164\" fill=\"#A80036\" rx=\"2\" ry=\"2\" style=\"stroke: #A80036; stroke-width: 1.0;\"/><ellipse cx=\"457.9971\" cy=\"201.5058\" fill=\"#A80036\" rx=\"2\" ry=\"2\" style=\"stroke: #A80036; stroke-width: 1.0;\"/></a><!--MD5=[07b77f6f309248d16187045709d1c26e]\n",
       "link E11 to E5--><a href=\"psysml:7cf9fed8-155f-433e-a01b-9d13c54aa089\" target=\"_top\" title=\"psysml:7cf9fed8-155f-433e-a01b-9d13c54aa089\" xlink:actuate=\"onRequest\" xlink:href=\"psysml:7cf9fed8-155f-433e-a01b-9d13c54aa089\" xlink:show=\"new\" xlink:title=\"psysml:7cf9fed8-155f-433e-a01b-9d13c54aa089\" xlink:type=\"simple\"><path d=\"M169,130.09 C169,145.42 169,166.27 169,184.42 \" fill=\"none\" id=\"E11-&gt;E5\" style=\"stroke: #A80036; stroke-width: 1.0;\"/><polygon fill=\"#FFFFFF\" points=\"169,204.69,162,185.69,176,185.69,169,204.69\" style=\"stroke: #A80036; stroke-width: 1.0;\"/><ellipse cx=\"164\" cy=\"179.99\" fill=\"#A80036\" rx=\"2\" ry=\"2\" style=\"stroke: #A80036; stroke-width: 1.0;\"/><ellipse cx=\"174\" cy=\"179.99\" fill=\"#A80036\" rx=\"2\" ry=\"2\" style=\"stroke: #A80036; stroke-width: 1.0;\"/></a><!--MD5=[39f41a0e550fb3d73b4d8135617e30a2]\n",
       "link E12 to E3--><a href=\"psysml:2b9be10b-590f-4358-bedf-a86ab0ed6bce\" target=\"_top\" title=\"psysml:2b9be10b-590f-4358-bedf-a86ab0ed6bce\" xlink:actuate=\"onRequest\" xlink:href=\"psysml:2b9be10b-590f-4358-bedf-a86ab0ed6bce\" xlink:show=\"new\" xlink:title=\"psysml:2b9be10b-590f-4358-bedf-a86ab0ed6bce\" xlink:type=\"simple\"><path d=\"M582.38,130.09 C567.43,146.94 546.56,170.44 529.44,189.72 \" fill=\"none\" id=\"E12-&gt;E3\" style=\"stroke: #A80036; stroke-width: 1.0;\"/><polygon fill=\"#FFFFFF\" points=\"516.15,204.69,523.5343,185.836,534.0014,195.1334,516.15,204.69\" style=\"stroke: #A80036; stroke-width: 1.0;\"/><ellipse cx=\"528.815\" cy=\"182.9027\" fill=\"#A80036\" rx=\"2\" ry=\"2\" style=\"stroke: #A80036; stroke-width: 1.0;\"/><ellipse cx=\"536.2914\" cy=\"189.5436\" fill=\"#A80036\" rx=\"2\" ry=\"2\" style=\"stroke: #A80036; stroke-width: 1.0;\"/></a><!--MD5=[066b2d8af59fea80ccdb3d54ad5c1091]\n",
       "link E13 to E5--><a href=\"psysml:78896435-f936-4df6-9172-2ff6f9da23d9\" target=\"_top\" title=\"psysml:78896435-f936-4df6-9172-2ff6f9da23d9\" xlink:actuate=\"onRequest\" xlink:href=\"psysml:78896435-f936-4df6-9172-2ff6f9da23d9\" xlink:show=\"new\" xlink:title=\"psysml:78896435-f936-4df6-9172-2ff6f9da23d9\" xlink:type=\"simple\"><path d=\"M85.62,130.09 C100.57,146.94 121.44,170.44 138.56,189.72 \" fill=\"none\" id=\"E13-&gt;E5\" style=\"stroke: #A80036; stroke-width: 1.0;\"/><polygon fill=\"#FFFFFF\" points=\"151.85,204.69,133.9986,195.1334,144.4657,185.836,151.85,204.69\" style=\"stroke: #A80036; stroke-width: 1.0;\"/><ellipse cx=\"131.7086\" cy=\"189.5436\" fill=\"#A80036\" rx=\"2\" ry=\"2\" style=\"stroke: #A80036; stroke-width: 1.0;\"/><ellipse cx=\"139.185\" cy=\"182.9027\" fill=\"#A80036\" rx=\"2\" ry=\"2\" style=\"stroke: #A80036; stroke-width: 1.0;\"/></a><!--MD5=[27237d3d86b8aa83c2133d3930d563d1]\n",
       "@startuml\r\n",
       " \r\n",
       "package \"CircularImport\" as E1  [[psysml:33738fcf-e3ee-4a7e-98d6-e975d5107ba1 ]]  {\r\n",
       "package \"P1\" as E2  [[psysml:130ef6c7-3ccc-43b9-a62a-eb926cce14a9 ]]  {\r\n",
       "comp def \"A\" as E3 << << (B,green) >> [[psysml:cb0f7157-438a-4ad5-8a96-0def6a248a5a ]] {\r\n",
       "}\r\n",
       "}\r\n",
       "package \"P2\" as E4  [[psysml:0bc4dbd6-620a-45b9-8d32-94753792e496 ]]  {\r\n",
       "comp def \"B\" as E5 << << (B,green) >> [[psysml:fa716e5d-1985-44ef-b151-4b2b4c0691ed ]] {\r\n",
       "}\r\n",
       "}\r\n",
       "package \"Test1\" as E6  [[psysml:b4043d48-e2a3-4796-9568-6bbff931ebfd ]]  {\r\n",
       "comp usage \"x: A\" as E7 << << (P,limegreen) part>> [[psysml:418b0add-8d91-4a6d-810e-c529e1e5d9c2 ]] {\r\n",
       "}\r\n",
       "comp usage \"y: B\" as E8 << << (P,limegreen) part>> [[psysml:c18479a8-8a5a-4a0f-a7e4-033b0648dafb ]] {\r\n",
       "}\r\n",
       "E7 - -:|> E3 [[psysml:c27725e1-02a3-443e-822c-73205e66e264 ]] \r\n",
       "E8 - -:|> E5 [[psysml:43ceeb8e-eeaf-4aa9-b958-61b6f980f202 ]] \r\n",
       "}\r\n",
       "package \"Test2\" as E9  [[psysml:85a9df72-6515-46a6-853d-c4da844a4980 ]]  {\r\n",
       "comp usage \"x: A\" as E10 << << (P,limegreen) part>> [[psysml:61feb9d5-4074-478e-84bb-b7eccf03922b ]] {\r\n",
       "}\r\n",
       "comp usage \"y: B\" as E11 << << (P,limegreen) part>> [[psysml:2edd355f-e967-45cc-82fe-80091bb729bd ]] {\r\n",
       "}\r\n",
       "E10 - -:|> E3 [[psysml:2f015e6c-7efc-43fd-92bb-26e8cb5e6a22 ]] \r\n",
       "E11 - -:|> E5 [[psysml:7cf9fed8-155f-433e-a01b-9d13c54aa089 ]] \r\n",
       "}\r\n",
       "comp usage \"x: A\" as E12 << << (P,limegreen) part>> [[psysml:530a6ae9-7dc1-4851-ab10-936e92c948f7 ]] {\r\n",
       "}\r\n",
       "comp usage \"y: B\" as E13 << << (P,limegreen) part>> [[psysml:561bfa55-252f-4783-9fb1-458618dbf236 ]] {\r\n",
       "}\r\n",
       "E12 - -:|> E3 [[psysml:2b9be10b-590f-4358-bedf-a86ab0ed6bce ]] \r\n",
       "E13 - -:|> E5 [[psysml:78896435-f936-4df6-9172-2ff6f9da23d9 ]] \r\n",
       "}\r\n",
       "@enduml\r\n",
       "\n",
       "PlantUML version 1.2020.13(Sat Jun 13 12:26:38 UTC 2020)\n",
       "(EPL source distribution)\n",
       "Java Runtime: OpenJDK Runtime Environment\n",
       "JVM: OpenJDK 64-Bit Server VM\n",
       "Default Encoding: UTF-8\n",
       "Language: en\n",
       "Country: null\n",
       "--></g></svg>"
      ]
     },
     "execution_count": 31,
     "metadata": {},
     "output_type": "execute_result"
    }
   ],
   "source": [
    "%viz --style=\"PLANTUML\" --view=\"Tree\" \"CircularImport\""
   ]
  },
  {
   "cell_type": "code",
   "execution_count": 32,
   "id": "fd35cfb7",
   "metadata": {
    "execution": {
     "iopub.execute_input": "2021-06-30T09:15:10.952442Z",
     "iopub.status.busy": "2021-06-30T09:15:10.951096Z",
     "iopub.status.idle": "2021-06-30T09:15:11.445739Z",
     "shell.execute_reply": "2021-06-30T09:15:11.446754Z"
    }
   },
   "outputs": [
    {
     "data": {
      "image/svg+xml": [
       "<?xml version=\"1.0\" encoding=\"UTF-8\" standalone=\"no\"?><svg xmlns=\"http://www.w3.org/2000/svg\" xmlns:xlink=\"http://www.w3.org/1999/xlink\" contentScriptType=\"application/ecmascript\" contentStyleType=\"text/css\" height=\"420px\" preserveAspectRatio=\"none\" style=\"width:603px;height:420px;background:#000000;\" version=\"1.1\" viewBox=\"0 0 603 420\" width=\"603px\" zoomAndPan=\"magnify\"><defs/><g><rect fill=\"#131816\" height=\"1\" style=\"stroke: #131816; stroke-width: 1.0;\" width=\"1\" x=\"0\" y=\"0\"/><rect fill=\"#F6C914\" height=\"58\" style=\"stroke: #F6C914; stroke-width: 1.0;\" width=\"602\" x=\"0\" y=\"0\"/><image height=\"58\" width=\"454\" x=\"1\" xlink:href=\"data:image/png;base64,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\" y=\"1\"/><rect fill=\"#FFFFFF\" height=\"205.5625\" style=\"stroke: #FFFFFF; stroke-width: 1.0;\" width=\"602\" x=\"0\" y=\"58\"/><text fill=\"#000000\" font-family=\"sans-serif\" font-size=\"12\" font-weight=\"bold\" lengthAdjust=\"spacingAndGlyphs\" textLength=\"159\" x=\"5\" y=\"74.1387\">Welcome to PlantUML!</text><text fill=\"#000000\" font-family=\"sans-serif\" font-size=\"12\" lengthAdjust=\"spacingAndGlyphs\" textLength=\"0\" x=\"9\" y=\"88.1074\"/><text fill=\"#000000\" font-family=\"sans-serif\" font-size=\"12\" lengthAdjust=\"spacingAndGlyphs\" textLength=\"293\" x=\"5\" y=\"102.0762\">If you use this software, you accept its license.</text><text fill=\"#000000\" font-family=\"sans-serif\" font-size=\"12\" lengthAdjust=\"spacingAndGlyphs\" textLength=\"107\" x=\"5\" y=\"116.0449\">(details by typing</text><text fill=\"#000000\" font-family=\"monospace\" font-size=\"12\" lengthAdjust=\"spacingAndGlyphs\" textLength=\"49\" x=\"116\" y=\"116.0449\">license</text><text fill=\"#000000\" font-family=\"sans-serif\" font-size=\"12\" lengthAdjust=\"spacingAndGlyphs\" textLength=\"56\" x=\"169\" y=\"116.0449\">keyword)</text><text fill=\"#000000\" font-family=\"sans-serif\" font-size=\"12\" lengthAdjust=\"spacingAndGlyphs\" textLength=\"0\" x=\"9\" y=\"130.0137\"/><text fill=\"#000000\" font-family=\"sans-serif\" font-size=\"12\" lengthAdjust=\"spacingAndGlyphs\" textLength=\"283\" x=\"5\" y=\"143.9824\">You can start with a simple UML Diagram like:</text><text fill=\"#000000\" font-family=\"sans-serif\" font-size=\"12\" lengthAdjust=\"spacingAndGlyphs\" textLength=\"0\" x=\"9\" y=\"157.9512\"/><text fill=\"#000000\" font-family=\"monospace\" font-size=\"12\" lengthAdjust=\"spacingAndGlyphs\" textLength=\"119\" x=\"5\" y=\"171.9199\">Bob-&gt;Alice: Hello</text><text fill=\"#000000\" font-family=\"sans-serif\" font-size=\"12\" lengthAdjust=\"spacingAndGlyphs\" textLength=\"0\" x=\"9\" y=\"185.8887\"/><text fill=\"#000000\" font-family=\"sans-serif\" font-size=\"12\" lengthAdjust=\"spacingAndGlyphs\" textLength=\"14\" x=\"5\" y=\"199.8574\">Or</text><text fill=\"#000000\" font-family=\"sans-serif\" font-size=\"12\" lengthAdjust=\"spacingAndGlyphs\" textLength=\"0\" x=\"9\" y=\"213.8262\"/><text fill=\"#000000\" font-family=\"monospace\" font-size=\"12\" lengthAdjust=\"spacingAndGlyphs\" textLength=\"91\" x=\"5\" y=\"227.7949\">class Example</text><text fill=\"#000000\" font-family=\"sans-serif\" font-size=\"12\" lengthAdjust=\"spacingAndGlyphs\" textLength=\"0\" x=\"9\" y=\"241.7637\"/><text fill=\"#000000\" font-family=\"sans-serif\" font-size=\"12\" lengthAdjust=\"spacingAndGlyphs\" textLength=\"349\" x=\"5\" y=\"255.7324\">You will find more information about PlantUML syntax on</text><text fill=\"#000000\" font-family=\"sans-serif\" font-size=\"12\" lengthAdjust=\"spacingAndGlyphs\" text-decoration=\"underline\" textLength=\"129\" x=\"358\" y=\"255.7324\">https://plantuml.com</text><image height=\"71\" width=\"80\" x=\"516\" xlink:href=\"data:image/png;base64,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\" y=\"64\"/><rect fill=\"#000000\" height=\"96.4844\" style=\"stroke: #000000; stroke-width: 1.0;\" width=\"602\" x=\"0\" y=\"263.5625\"/><rect fill=\"#33FF02\" height=\"21.2969\" style=\"stroke: #33FF02; stroke-width: 1.0;\" width=\"170\" x=\"5\" y=\"268.5625\"/><text fill=\"#000000\" font-family=\"sans-serif\" font-size=\"14\" font-weight=\"bold\" lengthAdjust=\"spacingAndGlyphs\" textLength=\"168\" x=\"6\" y=\"283.5625\">[From string (line 2) ]</text><text fill=\"#33FF02\" font-family=\"sans-serif\" font-size=\"14\" font-weight=\"bold\" lengthAdjust=\"spacingAndGlyphs\" textLength=\"0\" x=\"10\" y=\"303.8594\"/><text fill=\"#33FF02\" font-family=\"sans-serif\" font-size=\"14\" font-weight=\"bold\" lengthAdjust=\"spacingAndGlyphs\" textLength=\"79\" x=\"5\" y=\"320.1563\">@startuml</text><text fill=\"#33FF02\" font-family=\"sans-serif\" font-size=\"14\" font-weight=\"bold\" lengthAdjust=\"spacingAndGlyphs\" textLength=\"0\" x=\"10\" y=\"336.4531\"/><text fill=\"#FF0000\" font-family=\"sans-serif\" font-size=\"14\" font-weight=\"bold\" lengthAdjust=\"spacingAndGlyphs\" textLength=\"142\" x=\"10\" y=\"352.75\">Empty description</text><rect fill=\"#F6C914\" height=\"58\" style=\"stroke: #F6C914; stroke-width: 1.0;\" width=\"602\" x=\"0\" y=\"360.0469\"/><image height=\"58\" width=\"454\" x=\"1\" xlink:href=\"data:image/png;base64,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\" y=\"361.0469\"/><!--MD5=[f59edd8218d337f74d0c332fc6737304]\n",
       "@startuml\r\n",
       " \r\n",
       "@enduml\r\n",
       "\n",
       "PlantUML version 1.2020.13(Sat Jun 13 12:26:38 UTC 2020)\n",
       "(EPL source distribution)\n",
       "Java Runtime: OpenJDK Runtime Environment\n",
       "JVM: OpenJDK 64-Bit Server VM\n",
       "Default Encoding: UTF-8\n",
       "Language: en\n",
       "Country: null\n",
       "--></g></svg>"
      ]
     },
     "execution_count": 32,
     "metadata": {},
     "output_type": "execute_result"
    }
   ],
   "source": [
    "%viz --style=\"PLANTUML\" --view=\"State\" \"CircularImport\""
   ]
  },
  {
   "cell_type": "code",
   "execution_count": 33,
   "id": "1da209e9",
   "metadata": {
    "execution": {
     "iopub.execute_input": "2021-06-30T09:15:11.497930Z",
     "iopub.status.busy": "2021-06-30T09:15:11.496520Z",
     "iopub.status.idle": "2021-06-30T09:15:11.579847Z",
     "shell.execute_reply": "2021-06-30T09:15:11.578661Z"
    }
   },
   "outputs": [
    {
     "data": {
      "image/svg+xml": [
       "<?xml version=\"1.0\" encoding=\"UTF-8\" standalone=\"no\"?><svg xmlns=\"http://www.w3.org/2000/svg\" xmlns:xlink=\"http://www.w3.org/1999/xlink\" contentScriptType=\"application/ecmascript\" contentStyleType=\"text/css\" height=\"176px\" preserveAspectRatio=\"none\" style=\"width:858px;height:176px;\" version=\"1.1\" viewBox=\"0 0 858 176\" width=\"858px\" zoomAndPan=\"magnify\"><defs><filter height=\"300%\" id=\"fma99mihqbuq1\" width=\"300%\" x=\"-1\" y=\"-1\"><feGaussianBlur result=\"blurOut\" stdDeviation=\"2.0\"/><feColorMatrix in=\"blurOut\" result=\"blurOut2\" type=\"matrix\" values=\"0 0 0 0 0 0 0 0 0 0 0 0 0 0 0 0 0 0 .4 0\"/><feOffset dx=\"4.0\" dy=\"4.0\" in=\"blurOut2\" result=\"blurOut3\"/><feBlend in=\"SourceGraphic\" in2=\"blurOut3\" mode=\"normal\"/></filter></defs><g><!--MD5=[fbc87193dbaf4d95561dea2c320d4a47]\n",
       "cluster E1--><a href=\"psysml:33738fcf-e3ee-4a7e-98d6-e975d5107ba1\" target=\"_top\" title=\"psysml:33738fcf-e3ee-4a7e-98d6-e975d5107ba1\" xlink:actuate=\"onRequest\" xlink:href=\"psysml:33738fcf-e3ee-4a7e-98d6-e975d5107ba1\" xlink:show=\"new\" xlink:title=\"psysml:33738fcf-e3ee-4a7e-98d6-e975d5107ba1\" xlink:type=\"simple\"><polygon fill=\"#FFFFFF\" filter=\"url(#fma99mihqbuq1)\" points=\"16,6,134,6,141,28.2969,836,28.2969,836,164,16,164,16,6\" style=\"stroke: #000000; stroke-width: 1.5;\"/><line style=\"stroke: #000000; stroke-width: 1.5;\" x1=\"16\" x2=\"141\" y1=\"28.2969\" y2=\"28.2969\"/><text fill=\"#000000\" font-family=\"sans-serif\" font-size=\"14\" font-weight=\"bold\" lengthAdjust=\"spacingAndGlyphs\" textLength=\"112\" x=\"20\" y=\"20.9951\">CircularImport</text></a><!--MD5=[e4f7fae6ed58524ba242bb0b0d3be6b7]\n",
       "cluster E2--><a href=\"psysml:130ef6c7-3ccc-43b9-a62a-eb926cce14a9\" target=\"_top\" title=\"psysml:130ef6c7-3ccc-43b9-a62a-eb926cce14a9\" xlink:actuate=\"onRequest\" xlink:href=\"psysml:130ef6c7-3ccc-43b9-a62a-eb926cce14a9\" xlink:show=\"new\" xlink:title=\"psysml:130ef6c7-3ccc-43b9-a62a-eb926cce14a9\" xlink:type=\"simple\"><polygon fill=\"#FFFFFF\" filter=\"url(#fma99mihqbuq1)\" points=\"730,49,756,49,763,71.2969,812,71.2969,812,140,730,140,730,49\" style=\"stroke: #000000; stroke-width: 1.5;\"/><line style=\"stroke: #000000; stroke-width: 1.5;\" x1=\"730\" x2=\"763\" y1=\"71.2969\" y2=\"71.2969\"/><text fill=\"#000000\" font-family=\"sans-serif\" font-size=\"14\" font-weight=\"bold\" lengthAdjust=\"spacingAndGlyphs\" textLength=\"20\" x=\"734\" y=\"63.9951\">P1</text></a><!--MD5=[f6df4d0ebaf0b5dfb2ced0ae5af7c670]\n",
       "cluster E4--><a href=\"psysml:0bc4dbd6-620a-45b9-8d32-94753792e496\" target=\"_top\" title=\"psysml:0bc4dbd6-620a-45b9-8d32-94753792e496\" xlink:actuate=\"onRequest\" xlink:href=\"psysml:0bc4dbd6-620a-45b9-8d32-94753792e496\" xlink:show=\"new\" xlink:title=\"psysml:0bc4dbd6-620a-45b9-8d32-94753792e496\" xlink:type=\"simple\"><polygon fill=\"#FFFFFF\" filter=\"url(#fma99mihqbuq1)\" points=\"624,49,650,49,657,71.2969,706,71.2969,706,140,624,140,624,49\" style=\"stroke: #000000; stroke-width: 1.5;\"/><line style=\"stroke: #000000; stroke-width: 1.5;\" x1=\"624\" x2=\"657\" y1=\"71.2969\" y2=\"71.2969\"/><text fill=\"#000000\" font-family=\"sans-serif\" font-size=\"14\" font-weight=\"bold\" lengthAdjust=\"spacingAndGlyphs\" textLength=\"20\" x=\"628\" y=\"63.9951\">P2</text></a><!--MD5=[14e3b0961a2654348d326746436168a1]\n",
       "cluster E6--><a href=\"psysml:b4043d48-e2a3-4796-9568-6bbff931ebfd\" target=\"_top\" title=\"psysml:b4043d48-e2a3-4796-9568-6bbff931ebfd\" xlink:actuate=\"onRequest\" xlink:href=\"psysml:b4043d48-e2a3-4796-9568-6bbff931ebfd\" xlink:show=\"new\" xlink:title=\"psysml:b4043d48-e2a3-4796-9568-6bbff931ebfd\" xlink:type=\"simple\"><polygon fill=\"#FFFFFF\" filter=\"url(#fma99mihqbuq1)\" points=\"414,49,465,49,472,71.2969,600,71.2969,600,140,414,140,414,49\" style=\"stroke: #000000; stroke-width: 1.5;\"/><line style=\"stroke: #000000; stroke-width: 1.5;\" x1=\"414\" x2=\"472\" y1=\"71.2969\" y2=\"71.2969\"/><text fill=\"#000000\" font-family=\"sans-serif\" font-size=\"14\" font-weight=\"bold\" lengthAdjust=\"spacingAndGlyphs\" textLength=\"45\" x=\"418\" y=\"63.9951\">Test1</text></a><!--MD5=[7f149f147074ac12df2cb0a7728a5fb0]\n",
       "cluster E9--><a href=\"psysml:85a9df72-6515-46a6-853d-c4da844a4980\" target=\"_top\" title=\"psysml:85a9df72-6515-46a6-853d-c4da844a4980\" xlink:actuate=\"onRequest\" xlink:href=\"psysml:85a9df72-6515-46a6-853d-c4da844a4980\" xlink:show=\"new\" xlink:title=\"psysml:85a9df72-6515-46a6-853d-c4da844a4980\" xlink:type=\"simple\"><polygon fill=\"#FFFFFF\" filter=\"url(#fma99mihqbuq1)\" points=\"204,49,255,49,262,71.2969,390,71.2969,390,140,204,140,204,49\" style=\"stroke: #000000; stroke-width: 1.5;\"/><line style=\"stroke: #000000; stroke-width: 1.5;\" x1=\"204\" x2=\"262\" y1=\"71.2969\" y2=\"71.2969\"/><text fill=\"#000000\" font-family=\"sans-serif\" font-size=\"14\" font-weight=\"bold\" lengthAdjust=\"spacingAndGlyphs\" textLength=\"45\" x=\"208\" y=\"63.9951\">Test2</text></a><g id=\"E1.E2.E3\"><a href=\"psysml:cb0f7157-438a-4ad5-8a96-0def6a248a5a\" target=\"_top\" title=\"psysml:cb0f7157-438a-4ad5-8a96-0def6a248a5a\" xlink:actuate=\"onRequest\" xlink:href=\"psysml:cb0f7157-438a-4ad5-8a96-0def6a248a5a\" xlink:show=\"new\" xlink:title=\"psysml:cb0f7157-438a-4ad5-8a96-0def6a248a5a\" xlink:type=\"simple\"><rect fill=\"#FEFECE\" filter=\"url(#fma99mihqbuq1)\" height=\"40\" id=\"E3\" style=\"stroke: #A80036; stroke-width: 1.5;\" width=\"50\" x=\"746\" y=\"84\"/><ellipse cx=\"765.5\" cy=\"100\" fill=\"#008000\" rx=\"11\" ry=\"11\" style=\"stroke: #A80036; stroke-width: 1.0;\"/><path d=\"M764.4063,100.375 L764.4063,104.0469 L766.0313,104.0469 Q767.2031,104.0469 767.6719,103.6563 Q768.1406,103.25 768.1406,102.25 Q768.1406,101.25 767.6406,100.8125 Q767.1563,100.375 766.0313,100.375 L764.4063,100.375 Z M764.4063,95.5469 L764.4063,98.4219 L766.0313,98.4219 Q766.9531,98.4219 767.3438,98.0938 Q767.75,97.75 767.75,97 Q767.75,96.2344 767.3438,95.8906 Q766.9375,95.5469 766.0313,95.5469 L764.4063,95.5469 Z M762.0313,93.5938 L766.0313,93.5938 Q768.0938,93.5938 769.1406,94.375 Q770.1875,95.1563 770.1875,96.7188 Q770.1875,97.9219 769.5625,98.5938 Q768.9531,99.2656 767.7656,99.375 Q769.1875,99.5156 769.9063,100.3281 Q770.625,101.1406 770.625,102.5938 Q770.625,104.3906 769.5469,105.2031 Q768.4688,106 766.0313,106 L762.0313,106 L762.0313,93.5938 Z \"/><text fill=\"#000000\" font-family=\"sans-serif\" font-size=\"12\" lengthAdjust=\"spacingAndGlyphs\" textLength=\"8\" x=\"780.5\" y=\"104.1543\">A</text></a></g><g id=\"E1.E4.E5\"><a href=\"psysml:fa716e5d-1985-44ef-b151-4b2b4c0691ed\" target=\"_top\" title=\"psysml:fa716e5d-1985-44ef-b151-4b2b4c0691ed\" xlink:actuate=\"onRequest\" xlink:href=\"psysml:fa716e5d-1985-44ef-b151-4b2b4c0691ed\" xlink:show=\"new\" xlink:title=\"psysml:fa716e5d-1985-44ef-b151-4b2b4c0691ed\" xlink:type=\"simple\"><rect fill=\"#FEFECE\" filter=\"url(#fma99mihqbuq1)\" height=\"40\" id=\"E5\" style=\"stroke: #A80036; stroke-width: 1.5;\" width=\"50\" x=\"640\" y=\"84\"/><ellipse cx=\"659.5\" cy=\"100\" fill=\"#008000\" rx=\"11\" ry=\"11\" style=\"stroke: #A80036; stroke-width: 1.0;\"/><path d=\"M658.4063,100.375 L658.4063,104.0469 L660.0313,104.0469 Q661.2031,104.0469 661.6719,103.6563 Q662.1406,103.25 662.1406,102.25 Q662.1406,101.25 661.6406,100.8125 Q661.1563,100.375 660.0313,100.375 L658.4063,100.375 Z M658.4063,95.5469 L658.4063,98.4219 L660.0313,98.4219 Q660.9531,98.4219 661.3438,98.0938 Q661.75,97.75 661.75,97 Q661.75,96.2344 661.3438,95.8906 Q660.9375,95.5469 660.0313,95.5469 L658.4063,95.5469 Z M656.0313,93.5938 L660.0313,93.5938 Q662.0938,93.5938 663.1406,94.375 Q664.1875,95.1563 664.1875,96.7188 Q664.1875,97.9219 663.5625,98.5938 Q662.9531,99.2656 661.7656,99.375 Q663.1875,99.5156 663.9063,100.3281 Q664.625,101.1406 664.625,102.5938 Q664.625,104.3906 663.5469,105.2031 Q662.4688,106 660.0313,106 L656.0313,106 L656.0313,93.5938 Z \"/><text fill=\"#000000\" font-family=\"sans-serif\" font-size=\"12\" lengthAdjust=\"spacingAndGlyphs\" textLength=\"8\" x=\"674.5\" y=\"104.1543\">B</text></a></g><g id=\"E1.E6.E7\"><a href=\"psysml:418b0add-8d91-4a6d-810e-c529e1e5d9c2\" target=\"_top\" title=\"psysml:418b0add-8d91-4a6d-810e-c529e1e5d9c2\" xlink:actuate=\"onRequest\" xlink:href=\"psysml:418b0add-8d91-4a6d-810e-c529e1e5d9c2\" xlink:show=\"new\" xlink:title=\"psysml:418b0add-8d91-4a6d-810e-c529e1e5d9c2\" xlink:type=\"simple\"><rect fill=\"#FEFECE\" filter=\"url(#fma99mihqbuq1)\" height=\"40\" id=\"E7\" rx=\"10\" ry=\"10\" style=\"stroke: #A80036; stroke-width: 1.5;\" width=\"59\" x=\"524.5\" y=\"84\"/><ellipse cx=\"541.75\" cy=\"100\" fill=\"#B6DBBB\" rx=\"11\" ry=\"11\" style=\"stroke: #A80036; stroke-width: 1.0;\"/><path d=\"M537.625,101.9219 L537.625,94.1094 L540.0781,94.1094 L540.0781,102.5469 Q540.0781,103.4688 540.5469,104 Q541.0313,104.5313 541.8594,104.5313 Q542.7031,104.5313 543.1719,104 Q543.6406,103.4688 543.6406,102.5469 L543.6406,94.1094 L546.0938,94.1094 L546.0938,101.9219 Q546.0938,104.4531 545.0938,105.5938 Q544.0938,106.7344 541.8594,106.7344 Q539.6406,106.7344 538.625,105.5938 Q537.625,104.4531 537.625,101.9219 Z \"/><text fill=\"#000000\" font-family=\"sans-serif\" font-size=\"12\" lengthAdjust=\"spacingAndGlyphs\" textLength=\"22\" x=\"556.25\" y=\"104.1543\">x: A</text></a></g><g id=\"E1.E6.E8\"><a href=\"psysml:c18479a8-8a5a-4a0f-a7e4-033b0648dafb\" target=\"_top\" title=\"psysml:c18479a8-8a5a-4a0f-a7e4-033b0648dafb\" xlink:actuate=\"onRequest\" xlink:href=\"psysml:c18479a8-8a5a-4a0f-a7e4-033b0648dafb\" xlink:show=\"new\" xlink:title=\"psysml:c18479a8-8a5a-4a0f-a7e4-033b0648dafb\" xlink:type=\"simple\"><rect fill=\"#FEFECE\" filter=\"url(#fma99mihqbuq1)\" height=\"40\" id=\"E8\" rx=\"10\" ry=\"10\" style=\"stroke: #A80036; stroke-width: 1.5;\" width=\"59\" x=\"430.5\" y=\"84\"/><ellipse cx=\"447.75\" cy=\"100\" fill=\"#B6DBBB\" rx=\"11\" ry=\"11\" style=\"stroke: #A80036; stroke-width: 1.0;\"/><path d=\"M443.625,101.9219 L443.625,94.1094 L446.0781,94.1094 L446.0781,102.5469 Q446.0781,103.4688 446.5469,104 Q447.0313,104.5313 447.8594,104.5313 Q448.7031,104.5313 449.1719,104 Q449.6406,103.4688 449.6406,102.5469 L449.6406,94.1094 L452.0938,94.1094 L452.0938,101.9219 Q452.0938,104.4531 451.0938,105.5938 Q450.0938,106.7344 447.8594,106.7344 Q445.6406,106.7344 444.625,105.5938 Q443.625,104.4531 443.625,101.9219 Z \"/><text fill=\"#000000\" font-family=\"sans-serif\" font-size=\"12\" lengthAdjust=\"spacingAndGlyphs\" textLength=\"22\" x=\"462.25\" y=\"104.1543\">y: B</text></a></g><g id=\"E1.E9.E10\"><a href=\"psysml:61feb9d5-4074-478e-84bb-b7eccf03922b\" target=\"_top\" title=\"psysml:61feb9d5-4074-478e-84bb-b7eccf03922b\" xlink:actuate=\"onRequest\" xlink:href=\"psysml:61feb9d5-4074-478e-84bb-b7eccf03922b\" xlink:show=\"new\" xlink:title=\"psysml:61feb9d5-4074-478e-84bb-b7eccf03922b\" xlink:type=\"simple\"><rect fill=\"#FEFECE\" filter=\"url(#fma99mihqbuq1)\" height=\"40\" id=\"E10\" rx=\"10\" ry=\"10\" style=\"stroke: #A80036; stroke-width: 1.5;\" width=\"59\" x=\"314.5\" y=\"84\"/><ellipse cx=\"331.75\" cy=\"100\" fill=\"#B6DBBB\" rx=\"11\" ry=\"11\" style=\"stroke: #A80036; stroke-width: 1.0;\"/><path d=\"M327.625,101.9219 L327.625,94.1094 L330.0781,94.1094 L330.0781,102.5469 Q330.0781,103.4688 330.5469,104 Q331.0313,104.5313 331.8594,104.5313 Q332.7031,104.5313 333.1719,104 Q333.6406,103.4688 333.6406,102.5469 L333.6406,94.1094 L336.0938,94.1094 L336.0938,101.9219 Q336.0938,104.4531 335.0938,105.5938 Q334.0938,106.7344 331.8594,106.7344 Q329.6406,106.7344 328.625,105.5938 Q327.625,104.4531 327.625,101.9219 Z \"/><text fill=\"#000000\" font-family=\"sans-serif\" font-size=\"12\" lengthAdjust=\"spacingAndGlyphs\" textLength=\"22\" x=\"346.25\" y=\"104.1543\">x: A</text></a></g><g id=\"E1.E9.E11\"><a href=\"psysml:2edd355f-e967-45cc-82fe-80091bb729bd\" target=\"_top\" title=\"psysml:2edd355f-e967-45cc-82fe-80091bb729bd\" xlink:actuate=\"onRequest\" xlink:href=\"psysml:2edd355f-e967-45cc-82fe-80091bb729bd\" xlink:show=\"new\" xlink:title=\"psysml:2edd355f-e967-45cc-82fe-80091bb729bd\" xlink:type=\"simple\"><rect fill=\"#FEFECE\" filter=\"url(#fma99mihqbuq1)\" height=\"40\" id=\"E11\" rx=\"10\" ry=\"10\" style=\"stroke: #A80036; stroke-width: 1.5;\" width=\"59\" x=\"220.5\" y=\"84\"/><ellipse cx=\"237.75\" cy=\"100\" fill=\"#B6DBBB\" rx=\"11\" ry=\"11\" style=\"stroke: #A80036; stroke-width: 1.0;\"/><path d=\"M233.625,101.9219 L233.625,94.1094 L236.0781,94.1094 L236.0781,102.5469 Q236.0781,103.4688 236.5469,104 Q237.0313,104.5313 237.8594,104.5313 Q238.7031,104.5313 239.1719,104 Q239.6406,103.4688 239.6406,102.5469 L239.6406,94.1094 L242.0938,94.1094 L242.0938,101.9219 Q242.0938,104.4531 241.0938,105.5938 Q240.0938,106.7344 237.8594,106.7344 Q235.6406,106.7344 234.625,105.5938 Q233.625,104.4531 233.625,101.9219 Z \"/><text fill=\"#000000\" font-family=\"sans-serif\" font-size=\"12\" lengthAdjust=\"spacingAndGlyphs\" textLength=\"22\" x=\"252.25\" y=\"104.1543\">y: B</text></a></g><g id=\"E1.E12\"><a href=\"psysml:530a6ae9-7dc1-4851-ab10-936e92c948f7\" target=\"_top\" title=\"psysml:530a6ae9-7dc1-4851-ab10-936e92c948f7\" xlink:actuate=\"onRequest\" xlink:href=\"psysml:530a6ae9-7dc1-4851-ab10-936e92c948f7\" xlink:show=\"new\" xlink:title=\"psysml:530a6ae9-7dc1-4851-ab10-936e92c948f7\" xlink:type=\"simple\"><rect fill=\"#FEFECE\" filter=\"url(#fma99mihqbuq1)\" height=\"40\" id=\"E12\" rx=\"10\" ry=\"10\" style=\"stroke: #A80036; stroke-width: 1.5;\" width=\"59\" x=\"126.5\" y=\"84\"/><ellipse cx=\"143.75\" cy=\"100\" fill=\"#B6DBBB\" rx=\"11\" ry=\"11\" style=\"stroke: #A80036; stroke-width: 1.0;\"/><path d=\"M139.625,101.9219 L139.625,94.1094 L142.0781,94.1094 L142.0781,102.5469 Q142.0781,103.4688 142.5469,104 Q143.0313,104.5313 143.8594,104.5313 Q144.7031,104.5313 145.1719,104 Q145.6406,103.4688 145.6406,102.5469 L145.6406,94.1094 L148.0938,94.1094 L148.0938,101.9219 Q148.0938,104.4531 147.0938,105.5938 Q146.0938,106.7344 143.8594,106.7344 Q141.6406,106.7344 140.625,105.5938 Q139.625,104.4531 139.625,101.9219 Z \"/><text fill=\"#000000\" font-family=\"sans-serif\" font-size=\"12\" lengthAdjust=\"spacingAndGlyphs\" textLength=\"22\" x=\"158.25\" y=\"104.1543\">x: A</text></a></g><g id=\"E1.E13\"><a href=\"psysml:561bfa55-252f-4783-9fb1-458618dbf236\" target=\"_top\" title=\"psysml:561bfa55-252f-4783-9fb1-458618dbf236\" xlink:actuate=\"onRequest\" xlink:href=\"psysml:561bfa55-252f-4783-9fb1-458618dbf236\" xlink:show=\"new\" xlink:title=\"psysml:561bfa55-252f-4783-9fb1-458618dbf236\" xlink:type=\"simple\"><rect fill=\"#FEFECE\" filter=\"url(#fma99mihqbuq1)\" height=\"40\" id=\"E13\" rx=\"10\" ry=\"10\" style=\"stroke: #A80036; stroke-width: 1.5;\" width=\"59\" x=\"32.5\" y=\"84\"/><ellipse cx=\"49.75\" cy=\"100\" fill=\"#B6DBBB\" rx=\"11\" ry=\"11\" style=\"stroke: #A80036; stroke-width: 1.0;\"/><path d=\"M45.625,101.9219 L45.625,94.1094 L48.0781,94.1094 L48.0781,102.5469 Q48.0781,103.4688 48.5469,104 Q49.0313,104.5313 49.8594,104.5313 Q50.7031,104.5313 51.1719,104 Q51.6406,103.4688 51.6406,102.5469 L51.6406,94.1094 L54.0938,94.1094 L54.0938,101.9219 Q54.0938,104.4531 53.0938,105.5938 Q52.0938,106.7344 49.8594,106.7344 Q47.6406,106.7344 46.625,105.5938 Q45.625,104.4531 45.625,101.9219 Z \"/><text fill=\"#000000\" font-family=\"sans-serif\" font-size=\"12\" lengthAdjust=\"spacingAndGlyphs\" textLength=\"22\" x=\"64.25\" y=\"104.1543\">y: B</text></a></g><!--MD5=[301d5b99cf17cc632b7e09df7adf06ba]\n",
       "@startuml\r\n",
       "skinparam ranksep 10\r\n",
       "skinparam rectangle {\r\n",
       " backgroundColor<<block>> LightGreen\r\n",
       "}\r\n",
       " \r\n",
       "package \"CircularImport\" as E1  [[psysml:33738fcf-e3ee-4a7e-98d6-e975d5107ba1 ]]  {\r\n",
       "package \"P1\" as E2  [[psysml:130ef6c7-3ccc-43b9-a62a-eb926cce14a9 ]]  {\r\n",
       "rec def \"A\" as E3 << << (B,green) >> [[psysml:cb0f7157-438a-4ad5-8a96-0def6a248a5a ]] {\r\n",
       "}\r\n",
       "}\r\n",
       "package \"P2\" as E4  [[psysml:0bc4dbd6-620a-45b9-8d32-94753792e496 ]]  {\r\n",
       "rec def \"B\" as E5 << << (B,green) >> [[psysml:fa716e5d-1985-44ef-b151-4b2b4c0691ed ]] {\r\n",
       "}\r\n",
       "}\r\n",
       "package \"Test1\" as E6  [[psysml:b4043d48-e2a3-4796-9568-6bbff931ebfd ]]  {\r\n",
       "rec usage \"x: A\" as E7  [[psysml:418b0add-8d91-4a6d-810e-c529e1e5d9c2 ]] {\r\n",
       "}\r\n",
       "rec usage \"y: B\" as E8  [[psysml:c18479a8-8a5a-4a0f-a7e4-033b0648dafb ]] {\r\n",
       "}\r\n",
       "}\r\n",
       "package \"Test2\" as E9  [[psysml:85a9df72-6515-46a6-853d-c4da844a4980 ]]  {\r\n",
       "rec usage \"x: A\" as E10  [[psysml:61feb9d5-4074-478e-84bb-b7eccf03922b ]] {\r\n",
       "}\r\n",
       "rec usage \"y: B\" as E11  [[psysml:2edd355f-e967-45cc-82fe-80091bb729bd ]] {\r\n",
       "}\r\n",
       "}\r\n",
       "rec usage \"x: A\" as E12  [[psysml:530a6ae9-7dc1-4851-ab10-936e92c948f7 ]] {\r\n",
       "}\r\n",
       "rec usage \"y: B\" as E13  [[psysml:561bfa55-252f-4783-9fb1-458618dbf236 ]] {\r\n",
       "}\r\n",
       "}\r\n",
       "@enduml\r\n",
       "\n",
       "PlantUML version 1.2020.13(Sat Jun 13 12:26:38 UTC 2020)\n",
       "(EPL source distribution)\n",
       "Java Runtime: OpenJDK Runtime Environment\n",
       "JVM: OpenJDK 64-Bit Server VM\n",
       "Default Encoding: UTF-8\n",
       "Language: en\n",
       "Country: null\n",
       "--></g></svg>"
      ]
     },
     "execution_count": 33,
     "metadata": {},
     "output_type": "execute_result"
    }
   ],
   "source": [
    "%viz --style=\"PLANTUML\" --view=\"Interconnection\" \"CircularImport\""
   ]
  },
  {
   "cell_type": "code",
   "execution_count": 34,
   "id": "515e6df2",
   "metadata": {
    "execution": {
     "iopub.execute_input": "2021-06-30T09:15:11.631390Z",
     "iopub.status.busy": "2021-06-30T09:15:11.629575Z",
     "iopub.status.idle": "2021-06-30T09:15:11.643916Z",
     "shell.execute_reply": "2021-06-30T09:15:11.643366Z"
    }
   },
   "outputs": [
    {
     "data": {
      "image/svg+xml": [
       "<?xml version=\"1.0\" encoding=\"UTF-8\" standalone=\"no\"?><svg xmlns=\"http://www.w3.org/2000/svg\" xmlns:xlink=\"http://www.w3.org/1999/xlink\" contentScriptType=\"application/ecmascript\" contentStyleType=\"text/css\" height=\"12px\" preserveAspectRatio=\"none\" style=\"width:12px;height:12px;\" version=\"1.1\" viewBox=\"0 0 12 12\" width=\"12px\" zoomAndPan=\"magnify\"><defs/><g><!--MD5=[6a4cb978cab31700e1ce5529f947a75d]\n",
       "@startuml\r\n",
       "skinparam ranksep 8\r\n",
       " \r\n",
       "@enduml\r\n",
       "\n",
       "PlantUML version 1.2020.13(Sat Jun 13 12:26:38 UTC 2020)\n",
       "(EPL source distribution)\n",
       "Java Runtime: OpenJDK Runtime Environment\n",
       "JVM: OpenJDK 64-Bit Server VM\n",
       "Default Encoding: UTF-8\n",
       "Language: en\n",
       "Country: null\n",
       "--></g></svg>"
      ]
     },
     "execution_count": 34,
     "metadata": {},
     "output_type": "execute_result"
    }
   ],
   "source": [
    "%viz --style=\"PLANTUML\" --view=\"Action\" \"CircularImport\""
   ]
  },
  {
   "cell_type": "code",
   "execution_count": 35,
   "id": "e5f26c3d",
   "metadata": {
    "execution": {
     "iopub.execute_input": "2021-06-30T09:15:11.696477Z",
     "iopub.status.busy": "2021-06-30T09:15:11.695472Z",
     "iopub.status.idle": "2021-06-30T09:15:11.785823Z",
     "shell.execute_reply": "2021-06-30T09:15:11.781334Z"
    }
   },
   "outputs": [
    {
     "data": {
      "image/svg+xml": [
       "<?xml version=\"1.0\" encoding=\"UTF-8\" standalone=\"no\"?><svg xmlns=\"http://www.w3.org/2000/svg\" xmlns:xlink=\"http://www.w3.org/1999/xlink\" contentScriptType=\"application/ecmascript\" contentStyleType=\"text/css\" height=\"297px\" preserveAspectRatio=\"none\" style=\"width:674px;height:297px;\" version=\"1.1\" viewBox=\"0 0 674 297\" width=\"674px\" zoomAndPan=\"magnify\"><defs><filter height=\"300%\" id=\"fh0jkiah8suhw\" width=\"300%\" x=\"-1\" y=\"-1\"><feGaussianBlur result=\"blurOut\" stdDeviation=\"2.0\"/><feColorMatrix in=\"blurOut\" result=\"blurOut2\" type=\"matrix\" values=\"0 0 0 0 0 0 0 0 0 0 0 0 0 0 0 0 0 0 .4 0\"/><feOffset dx=\"4.0\" dy=\"4.0\" in=\"blurOut2\" result=\"blurOut3\"/><feBlend in=\"SourceGraphic\" in2=\"blurOut3\" mode=\"normal\"/></filter></defs><g><!--MD5=[fbc87193dbaf4d95561dea2c320d4a47]\n",
       "cluster E1--><a href=\"psysml:33738fcf-e3ee-4a7e-98d6-e975d5107ba1\" target=\"_top\" title=\"psysml:33738fcf-e3ee-4a7e-98d6-e975d5107ba1\" xlink:actuate=\"onRequest\" xlink:href=\"psysml:33738fcf-e3ee-4a7e-98d6-e975d5107ba1\" xlink:show=\"new\" xlink:title=\"psysml:33738fcf-e3ee-4a7e-98d6-e975d5107ba1\" xlink:type=\"simple\"><polygon fill=\"#FFFFFF\" filter=\"url(#fh0jkiah8suhw)\" points=\"16,6,134,6,141,28.2969,652,28.2969,652,285,16,285,16,6\" style=\"stroke: #000000; stroke-width: 1.5;\"/><line style=\"stroke: #000000; stroke-width: 1.5;\" x1=\"16\" x2=\"141\" y1=\"28.2969\" y2=\"28.2969\"/><text fill=\"#000000\" font-family=\"sans-serif\" font-size=\"14\" font-weight=\"bold\" lengthAdjust=\"spacingAndGlyphs\" textLength=\"112\" x=\"20\" y=\"20.9951\">CircularImport</text></a><!--MD5=[e4f7fae6ed58524ba242bb0b0d3be6b7]\n",
       "cluster E2--><a href=\"psysml:130ef6c7-3ccc-43b9-a62a-eb926cce14a9\" target=\"_top\" title=\"psysml:130ef6c7-3ccc-43b9-a62a-eb926cce14a9\" xlink:actuate=\"onRequest\" xlink:href=\"psysml:130ef6c7-3ccc-43b9-a62a-eb926cce14a9\" xlink:show=\"new\" xlink:title=\"psysml:130ef6c7-3ccc-43b9-a62a-eb926cce14a9\" xlink:type=\"simple\"><polygon fill=\"#FFFFFF\" filter=\"url(#fh0jkiah8suhw)\" points=\"463,170,489,170,496,192.2969,535,192.2969,535,261,463,261,463,170\" style=\"stroke: #000000; stroke-width: 1.5;\"/><line style=\"stroke: #000000; stroke-width: 1.5;\" x1=\"463\" x2=\"496\" y1=\"192.2969\" y2=\"192.2969\"/><text fill=\"#000000\" font-family=\"sans-serif\" font-size=\"14\" font-weight=\"bold\" lengthAdjust=\"spacingAndGlyphs\" textLength=\"20\" x=\"467\" y=\"184.9951\">P1</text></a><!--MD5=[f6df4d0ebaf0b5dfb2ced0ae5af7c670]\n",
       "cluster E4--><a href=\"psysml:0bc4dbd6-620a-45b9-8d32-94753792e496\" target=\"_top\" title=\"psysml:0bc4dbd6-620a-45b9-8d32-94753792e496\" xlink:actuate=\"onRequest\" xlink:href=\"psysml:0bc4dbd6-620a-45b9-8d32-94753792e496\" xlink:show=\"new\" xlink:title=\"psysml:0bc4dbd6-620a-45b9-8d32-94753792e496\" xlink:type=\"simple\"><polygon fill=\"#FFFFFF\" filter=\"url(#fh0jkiah8suhw)\" points=\"133,170,159,170,166,192.2969,205,192.2969,205,261,133,261,133,170\" style=\"stroke: #000000; stroke-width: 1.5;\"/><line style=\"stroke: #000000; stroke-width: 1.5;\" x1=\"133\" x2=\"166\" y1=\"192.2969\" y2=\"192.2969\"/><text fill=\"#000000\" font-family=\"sans-serif\" font-size=\"14\" font-weight=\"bold\" lengthAdjust=\"spacingAndGlyphs\" textLength=\"20\" x=\"137\" y=\"184.9951\">P2</text></a><!--MD5=[14e3b0961a2654348d326746436168a1]\n",
       "cluster E6--><a href=\"psysml:b4043d48-e2a3-4796-9568-6bbff931ebfd\" target=\"_top\" title=\"psysml:b4043d48-e2a3-4796-9568-6bbff931ebfd\" xlink:actuate=\"onRequest\" xlink:href=\"psysml:b4043d48-e2a3-4796-9568-6bbff931ebfd\" xlink:show=\"new\" xlink:title=\"psysml:b4043d48-e2a3-4796-9568-6bbff931ebfd\" xlink:type=\"simple\"><polygon fill=\"#FFFFFF\" filter=\"url(#fh0jkiah8suhw)\" points=\"346,49,397,49,404,71.2969,549,71.2969,549,146,346,146,346,49\" style=\"stroke: #000000; stroke-width: 1.5;\"/><line style=\"stroke: #000000; stroke-width: 1.5;\" x1=\"346\" x2=\"404\" y1=\"71.2969\" y2=\"71.2969\"/><text fill=\"#000000\" font-family=\"sans-serif\" font-size=\"14\" font-weight=\"bold\" lengthAdjust=\"spacingAndGlyphs\" textLength=\"45\" x=\"350\" y=\"63.9951\">Test1</text></a><!--MD5=[7f149f147074ac12df2cb0a7728a5fb0]\n",
       "cluster E9--><a href=\"psysml:85a9df72-6515-46a6-853d-c4da844a4980\" target=\"_top\" title=\"psysml:85a9df72-6515-46a6-853d-c4da844a4980\" xlink:actuate=\"onRequest\" xlink:href=\"psysml:85a9df72-6515-46a6-853d-c4da844a4980\" xlink:show=\"new\" xlink:title=\"psysml:85a9df72-6515-46a6-853d-c4da844a4980\" xlink:type=\"simple\"><polygon fill=\"#FFFFFF\" filter=\"url(#fh0jkiah8suhw)\" points=\"119,49,170,49,177,71.2969,322,71.2969,322,146,119,146,119,49\" style=\"stroke: #000000; stroke-width: 1.5;\"/><line style=\"stroke: #000000; stroke-width: 1.5;\" x1=\"119\" x2=\"177\" y1=\"71.2969\" y2=\"71.2969\"/><text fill=\"#000000\" font-family=\"sans-serif\" font-size=\"14\" font-weight=\"bold\" lengthAdjust=\"spacingAndGlyphs\" textLength=\"45\" x=\"123\" y=\"63.9951\">Test2</text></a><!--MD5=[49a0ec8f00dab7302a31f22d0f0fe584]\n",
       "class E12--><a href=\"psysml:530a6ae9-7dc1-4851-ab10-936e92c948f7\" target=\"_top\" title=\"psysml:530a6ae9-7dc1-4851-ab10-936e92c948f7\" xlink:actuate=\"onRequest\" xlink:href=\"psysml:530a6ae9-7dc1-4851-ab10-936e92c948f7\" xlink:show=\"new\" xlink:title=\"psysml:530a6ae9-7dc1-4851-ab10-936e92c948f7\" xlink:type=\"simple\"><rect fill=\"#FEFECE\" filter=\"url(#fh0jkiah8suhw)\" height=\"45.9375\" id=\"E12\" rx=\"10\" ry=\"10\" style=\"stroke: #A80036; stroke-width: 1.5;\" width=\"68\" x=\"568\" y=\"84\"/><ellipse cx=\"583\" cy=\"102.9688\" fill=\"#32CD32\" rx=\"11\" ry=\"11\" style=\"stroke: #A80036; stroke-width: 1.0;\"/><path d=\"M582.7969,98.6406 L582.7969,102.2656 L583.7969,102.2656 Q585,102.2656 585.4844,101.8594 Q585.9688,101.4531 585.9688,100.4531 Q585.9688,99.4531 585.4844,99.0469 Q585,98.6406 583.7969,98.6406 L582.7969,98.6406 Z M580.3438,96.5781 L583.7031,96.5781 Q586.2656,96.5781 587.3906,97.5 Q588.5156,98.4063 588.5156,100.4531 Q588.5156,102.5 587.3906,103.4219 Q586.2656,104.3281 583.7031,104.3281 L582.7969,104.3281 L582.7969,108.9688 L580.3438,108.9688 L580.3438,96.5781 Z \"/><text fill=\"#000000\" font-family=\"sans-serif\" font-size=\"12\" font-style=\"italic\" lengthAdjust=\"spacingAndGlyphs\" textLength=\"40\" x=\"595\" y=\"100.1387\">«part»</text><text fill=\"#000000\" font-family=\"sans-serif\" font-size=\"12\" lengthAdjust=\"spacingAndGlyphs\" textLength=\"22\" x=\"604\" y=\"114.1074\">x: A</text><line style=\"stroke: #A80036; stroke-width: 1.5;\" x1=\"569\" x2=\"635\" y1=\"121.9375\" y2=\"121.9375\"/></a><!--MD5=[ee3c913d1a06f366521f9ef512b67efe]\n",
       "class E13--><a href=\"psysml:561bfa55-252f-4783-9fb1-458618dbf236\" target=\"_top\" title=\"psysml:561bfa55-252f-4783-9fb1-458618dbf236\" xlink:actuate=\"onRequest\" xlink:href=\"psysml:561bfa55-252f-4783-9fb1-458618dbf236\" xlink:show=\"new\" xlink:title=\"psysml:561bfa55-252f-4783-9fb1-458618dbf236\" xlink:type=\"simple\"><rect fill=\"#FEFECE\" filter=\"url(#fh0jkiah8suhw)\" height=\"45.9375\" id=\"E13\" rx=\"10\" ry=\"10\" style=\"stroke: #A80036; stroke-width: 1.5;\" width=\"68\" x=\"32\" y=\"84\"/><ellipse cx=\"47\" cy=\"102.9688\" fill=\"#32CD32\" rx=\"11\" ry=\"11\" style=\"stroke: #A80036; stroke-width: 1.0;\"/><path d=\"M46.7969,98.6406 L46.7969,102.2656 L47.7969,102.2656 Q49,102.2656 49.4844,101.8594 Q49.9688,101.4531 49.9688,100.4531 Q49.9688,99.4531 49.4844,99.0469 Q49,98.6406 47.7969,98.6406 L46.7969,98.6406 Z M44.3438,96.5781 L47.7031,96.5781 Q50.2656,96.5781 51.3906,97.5 Q52.5156,98.4063 52.5156,100.4531 Q52.5156,102.5 51.3906,103.4219 Q50.2656,104.3281 47.7031,104.3281 L46.7969,104.3281 L46.7969,108.9688 L44.3438,108.9688 L44.3438,96.5781 Z \"/><text fill=\"#000000\" font-family=\"sans-serif\" font-size=\"12\" font-style=\"italic\" lengthAdjust=\"spacingAndGlyphs\" textLength=\"40\" x=\"59\" y=\"100.1387\">«part»</text><text fill=\"#000000\" font-family=\"sans-serif\" font-size=\"12\" lengthAdjust=\"spacingAndGlyphs\" textLength=\"22\" x=\"68\" y=\"114.1074\">y: B</text><line style=\"stroke: #A80036; stroke-width: 1.5;\" x1=\"33\" x2=\"99\" y1=\"121.9375\" y2=\"121.9375\"/></a><!--MD5=[09b614a08d8cba4a07c9adeb5e0fee81]\n",
       "class E3--><a href=\"psysml:cb0f7157-438a-4ad5-8a96-0def6a248a5a\" target=\"_top\" title=\"psysml:cb0f7157-438a-4ad5-8a96-0def6a248a5a\" xlink:actuate=\"onRequest\" xlink:href=\"psysml:cb0f7157-438a-4ad5-8a96-0def6a248a5a\" xlink:show=\"new\" xlink:title=\"psysml:cb0f7157-438a-4ad5-8a96-0def6a248a5a\" xlink:type=\"simple\"><rect fill=\"#FEFECE\" filter=\"url(#fh0jkiah8suhw)\" height=\"40\" id=\"E3\" style=\"stroke: #A80036; stroke-width: 1.5;\" width=\"40\" x=\"479\" y=\"205\"/><ellipse cx=\"494\" cy=\"221\" fill=\"#008000\" rx=\"11\" ry=\"11\" style=\"stroke: #A80036; stroke-width: 1.0;\"/><path d=\"M492.9063,221.375 L492.9063,225.0469 L494.5313,225.0469 Q495.7031,225.0469 496.1719,224.6563 Q496.6406,224.25 496.6406,223.25 Q496.6406,222.25 496.1406,221.8125 Q495.6563,221.375 494.5313,221.375 L492.9063,221.375 Z M492.9063,216.5469 L492.9063,219.4219 L494.5313,219.4219 Q495.4531,219.4219 495.8438,219.0938 Q496.25,218.75 496.25,218 Q496.25,217.2344 495.8438,216.8906 Q495.4375,216.5469 494.5313,216.5469 L492.9063,216.5469 Z M490.5313,214.5938 L494.5313,214.5938 Q496.5938,214.5938 497.6406,215.375 Q498.6875,216.1563 498.6875,217.7188 Q498.6875,218.9219 498.0625,219.5938 Q497.4531,220.2656 496.2656,220.375 Q497.6875,220.5156 498.4063,221.3281 Q499.125,222.1406 499.125,223.5938 Q499.125,225.3906 498.0469,226.2031 Q496.9688,227 494.5313,227 L490.5313,227 L490.5313,214.5938 Z \"/><text fill=\"#000000\" font-family=\"sans-serif\" font-size=\"12\" lengthAdjust=\"spacingAndGlyphs\" textLength=\"8\" x=\"508\" y=\"225.1543\">A</text><line style=\"stroke: #A80036; stroke-width: 1.5;\" x1=\"480\" x2=\"518\" y1=\"237\" y2=\"237\"/></a><!--MD5=[270fce915f116d4de14055a7c1d9a0f3]\n",
       "class E5--><a href=\"psysml:fa716e5d-1985-44ef-b151-4b2b4c0691ed\" target=\"_top\" title=\"psysml:fa716e5d-1985-44ef-b151-4b2b4c0691ed\" xlink:actuate=\"onRequest\" xlink:href=\"psysml:fa716e5d-1985-44ef-b151-4b2b4c0691ed\" xlink:show=\"new\" xlink:title=\"psysml:fa716e5d-1985-44ef-b151-4b2b4c0691ed\" xlink:type=\"simple\"><rect fill=\"#FEFECE\" filter=\"url(#fh0jkiah8suhw)\" height=\"40\" id=\"E5\" style=\"stroke: #A80036; stroke-width: 1.5;\" width=\"40\" x=\"149\" y=\"205\"/><ellipse cx=\"164\" cy=\"221\" fill=\"#008000\" rx=\"11\" ry=\"11\" style=\"stroke: #A80036; stroke-width: 1.0;\"/><path d=\"M162.9063,221.375 L162.9063,225.0469 L164.5313,225.0469 Q165.7031,225.0469 166.1719,224.6563 Q166.6406,224.25 166.6406,223.25 Q166.6406,222.25 166.1406,221.8125 Q165.6563,221.375 164.5313,221.375 L162.9063,221.375 Z M162.9063,216.5469 L162.9063,219.4219 L164.5313,219.4219 Q165.4531,219.4219 165.8438,219.0938 Q166.25,218.75 166.25,218 Q166.25,217.2344 165.8438,216.8906 Q165.4375,216.5469 164.5313,216.5469 L162.9063,216.5469 Z M160.5313,214.5938 L164.5313,214.5938 Q166.5938,214.5938 167.6406,215.375 Q168.6875,216.1563 168.6875,217.7188 Q168.6875,218.9219 168.0625,219.5938 Q167.4531,220.2656 166.2656,220.375 Q167.6875,220.5156 168.4063,221.3281 Q169.125,222.1406 169.125,223.5938 Q169.125,225.3906 168.0469,226.2031 Q166.9688,227 164.5313,227 L160.5313,227 L160.5313,214.5938 Z \"/><text fill=\"#000000\" font-family=\"sans-serif\" font-size=\"12\" lengthAdjust=\"spacingAndGlyphs\" textLength=\"8\" x=\"178\" y=\"225.1543\">B</text><line style=\"stroke: #A80036; stroke-width: 1.5;\" x1=\"150\" x2=\"188\" y1=\"237\" y2=\"237\"/></a><!--MD5=[2156ba9850f5573cc1fc38a6a4b2f02b]\n",
       "class E7--><a href=\"psysml:418b0add-8d91-4a6d-810e-c529e1e5d9c2\" target=\"_top\" title=\"psysml:418b0add-8d91-4a6d-810e-c529e1e5d9c2\" xlink:actuate=\"onRequest\" xlink:href=\"psysml:418b0add-8d91-4a6d-810e-c529e1e5d9c2\" xlink:show=\"new\" xlink:title=\"psysml:418b0add-8d91-4a6d-810e-c529e1e5d9c2\" xlink:type=\"simple\"><rect fill=\"#FEFECE\" filter=\"url(#fh0jkiah8suhw)\" height=\"45.9375\" id=\"E7\" rx=\"10\" ry=\"10\" style=\"stroke: #A80036; stroke-width: 1.5;\" width=\"68\" x=\"465\" y=\"84\"/><ellipse cx=\"480\" cy=\"102.9688\" fill=\"#32CD32\" rx=\"11\" ry=\"11\" style=\"stroke: #A80036; stroke-width: 1.0;\"/><path d=\"M479.7969,98.6406 L479.7969,102.2656 L480.7969,102.2656 Q482,102.2656 482.4844,101.8594 Q482.9688,101.4531 482.9688,100.4531 Q482.9688,99.4531 482.4844,99.0469 Q482,98.6406 480.7969,98.6406 L479.7969,98.6406 Z M477.3438,96.5781 L480.7031,96.5781 Q483.2656,96.5781 484.3906,97.5 Q485.5156,98.4063 485.5156,100.4531 Q485.5156,102.5 484.3906,103.4219 Q483.2656,104.3281 480.7031,104.3281 L479.7969,104.3281 L479.7969,108.9688 L477.3438,108.9688 L477.3438,96.5781 Z \"/><text fill=\"#000000\" font-family=\"sans-serif\" font-size=\"12\" font-style=\"italic\" lengthAdjust=\"spacingAndGlyphs\" textLength=\"40\" x=\"492\" y=\"100.1387\">«part»</text><text fill=\"#000000\" font-family=\"sans-serif\" font-size=\"12\" lengthAdjust=\"spacingAndGlyphs\" textLength=\"22\" x=\"501\" y=\"114.1074\">x: A</text><line style=\"stroke: #A80036; stroke-width: 1.5;\" x1=\"466\" x2=\"532\" y1=\"121.9375\" y2=\"121.9375\"/></a><!--MD5=[b9389687b975829384b498ac4b7476b2]\n",
       "class E8--><a href=\"psysml:c18479a8-8a5a-4a0f-a7e4-033b0648dafb\" target=\"_top\" title=\"psysml:c18479a8-8a5a-4a0f-a7e4-033b0648dafb\" xlink:actuate=\"onRequest\" xlink:href=\"psysml:c18479a8-8a5a-4a0f-a7e4-033b0648dafb\" xlink:show=\"new\" xlink:title=\"psysml:c18479a8-8a5a-4a0f-a7e4-033b0648dafb\" xlink:type=\"simple\"><rect fill=\"#FEFECE\" filter=\"url(#fh0jkiah8suhw)\" height=\"45.9375\" id=\"E8\" rx=\"10\" ry=\"10\" style=\"stroke: #A80036; stroke-width: 1.5;\" width=\"68\" x=\"362\" y=\"84\"/><ellipse cx=\"377\" cy=\"102.9688\" fill=\"#32CD32\" rx=\"11\" ry=\"11\" style=\"stroke: #A80036; stroke-width: 1.0;\"/><path d=\"M376.7969,98.6406 L376.7969,102.2656 L377.7969,102.2656 Q379,102.2656 379.4844,101.8594 Q379.9688,101.4531 379.9688,100.4531 Q379.9688,99.4531 379.4844,99.0469 Q379,98.6406 377.7969,98.6406 L376.7969,98.6406 Z M374.3438,96.5781 L377.7031,96.5781 Q380.2656,96.5781 381.3906,97.5 Q382.5156,98.4063 382.5156,100.4531 Q382.5156,102.5 381.3906,103.4219 Q380.2656,104.3281 377.7031,104.3281 L376.7969,104.3281 L376.7969,108.9688 L374.3438,108.9688 L374.3438,96.5781 Z \"/><text fill=\"#000000\" font-family=\"sans-serif\" font-size=\"12\" font-style=\"italic\" lengthAdjust=\"spacingAndGlyphs\" textLength=\"40\" x=\"389\" y=\"100.1387\">«part»</text><text fill=\"#000000\" font-family=\"sans-serif\" font-size=\"12\" lengthAdjust=\"spacingAndGlyphs\" textLength=\"22\" x=\"398\" y=\"114.1074\">y: B</text><line style=\"stroke: #A80036; stroke-width: 1.5;\" x1=\"363\" x2=\"429\" y1=\"121.9375\" y2=\"121.9375\"/></a><!--MD5=[96f4274e9e20536e775497830990834d]\n",
       "class E10--><a href=\"psysml:61feb9d5-4074-478e-84bb-b7eccf03922b\" target=\"_top\" title=\"psysml:61feb9d5-4074-478e-84bb-b7eccf03922b\" xlink:actuate=\"onRequest\" xlink:href=\"psysml:61feb9d5-4074-478e-84bb-b7eccf03922b\" xlink:show=\"new\" xlink:title=\"psysml:61feb9d5-4074-478e-84bb-b7eccf03922b\" xlink:type=\"simple\"><rect fill=\"#FEFECE\" filter=\"url(#fh0jkiah8suhw)\" height=\"45.9375\" id=\"E10\" rx=\"10\" ry=\"10\" style=\"stroke: #A80036; stroke-width: 1.5;\" width=\"68\" x=\"238\" y=\"84\"/><ellipse cx=\"253\" cy=\"102.9688\" fill=\"#32CD32\" rx=\"11\" ry=\"11\" style=\"stroke: #A80036; stroke-width: 1.0;\"/><path d=\"M252.7969,98.6406 L252.7969,102.2656 L253.7969,102.2656 Q255,102.2656 255.4844,101.8594 Q255.9688,101.4531 255.9688,100.4531 Q255.9688,99.4531 255.4844,99.0469 Q255,98.6406 253.7969,98.6406 L252.7969,98.6406 Z M250.3438,96.5781 L253.7031,96.5781 Q256.2656,96.5781 257.3906,97.5 Q258.5156,98.4063 258.5156,100.4531 Q258.5156,102.5 257.3906,103.4219 Q256.2656,104.3281 253.7031,104.3281 L252.7969,104.3281 L252.7969,108.9688 L250.3438,108.9688 L250.3438,96.5781 Z \"/><text fill=\"#000000\" font-family=\"sans-serif\" font-size=\"12\" font-style=\"italic\" lengthAdjust=\"spacingAndGlyphs\" textLength=\"40\" x=\"265\" y=\"100.1387\">«part»</text><text fill=\"#000000\" font-family=\"sans-serif\" font-size=\"12\" lengthAdjust=\"spacingAndGlyphs\" textLength=\"22\" x=\"274\" y=\"114.1074\">x: A</text><line style=\"stroke: #A80036; stroke-width: 1.5;\" x1=\"239\" x2=\"305\" y1=\"121.9375\" y2=\"121.9375\"/></a><!--MD5=[1dd1bfd58a279cf63c5f349dbc8fc6a1]\n",
       "class E11--><a href=\"psysml:2edd355f-e967-45cc-82fe-80091bb729bd\" target=\"_top\" title=\"psysml:2edd355f-e967-45cc-82fe-80091bb729bd\" xlink:actuate=\"onRequest\" xlink:href=\"psysml:2edd355f-e967-45cc-82fe-80091bb729bd\" xlink:show=\"new\" xlink:title=\"psysml:2edd355f-e967-45cc-82fe-80091bb729bd\" xlink:type=\"simple\"><rect fill=\"#FEFECE\" filter=\"url(#fh0jkiah8suhw)\" height=\"45.9375\" id=\"E11\" rx=\"10\" ry=\"10\" style=\"stroke: #A80036; stroke-width: 1.5;\" width=\"68\" x=\"135\" y=\"84\"/><ellipse cx=\"150\" cy=\"102.9688\" fill=\"#32CD32\" rx=\"11\" ry=\"11\" style=\"stroke: #A80036; stroke-width: 1.0;\"/><path d=\"M149.7969,98.6406 L149.7969,102.2656 L150.7969,102.2656 Q152,102.2656 152.4844,101.8594 Q152.9688,101.4531 152.9688,100.4531 Q152.9688,99.4531 152.4844,99.0469 Q152,98.6406 150.7969,98.6406 L149.7969,98.6406 Z M147.3438,96.5781 L150.7031,96.5781 Q153.2656,96.5781 154.3906,97.5 Q155.5156,98.4063 155.5156,100.4531 Q155.5156,102.5 154.3906,103.4219 Q153.2656,104.3281 150.7031,104.3281 L149.7969,104.3281 L149.7969,108.9688 L147.3438,108.9688 L147.3438,96.5781 Z \"/><text fill=\"#000000\" font-family=\"sans-serif\" font-size=\"12\" font-style=\"italic\" lengthAdjust=\"spacingAndGlyphs\" textLength=\"40\" x=\"162\" y=\"100.1387\">«part»</text><text fill=\"#000000\" font-family=\"sans-serif\" font-size=\"12\" lengthAdjust=\"spacingAndGlyphs\" textLength=\"22\" x=\"171\" y=\"114.1074\">y: B</text><line style=\"stroke: #A80036; stroke-width: 1.5;\" x1=\"136\" x2=\"202\" y1=\"121.9375\" y2=\"121.9375\"/></a><!--MD5=[14ccda38c055a5c0da953d572bc50960]\n",
       "link E7 to E3--><a href=\"psysml:c27725e1-02a3-443e-822c-73205e66e264\" target=\"_top\" title=\"psysml:c27725e1-02a3-443e-822c-73205e66e264\" xlink:actuate=\"onRequest\" xlink:href=\"psysml:c27725e1-02a3-443e-822c-73205e66e264\" xlink:show=\"new\" xlink:title=\"psysml:c27725e1-02a3-443e-822c-73205e66e264\" xlink:type=\"simple\"><path d=\"M499,130.09 C499,145.42 499,166.27 499,184.42 \" fill=\"none\" id=\"E7-&gt;E3\" style=\"stroke: #A80036; stroke-width: 1.0;\"/><polygon fill=\"#FFFFFF\" points=\"499,204.69,492,185.69,506,185.69,499,204.69\" style=\"stroke: #A80036; stroke-width: 1.0;\"/><ellipse cx=\"494\" cy=\"179.99\" fill=\"#A80036\" rx=\"2\" ry=\"2\" style=\"stroke: #A80036; stroke-width: 1.0;\"/><ellipse cx=\"504\" cy=\"179.99\" fill=\"#A80036\" rx=\"2\" ry=\"2\" style=\"stroke: #A80036; stroke-width: 1.0;\"/></a><!--MD5=[1ccb2481ffa92f8d51a74ee30c51832a]\n",
       "link E8 to E5--><a href=\"psysml:43ceeb8e-eeaf-4aa9-b958-61b6f980f202\" target=\"_top\" title=\"psysml:43ceeb8e-eeaf-4aa9-b958-61b6f980f202\" xlink:actuate=\"onRequest\" xlink:href=\"psysml:43ceeb8e-eeaf-4aa9-b958-61b6f980f202\" xlink:show=\"new\" xlink:title=\"psysml:43ceeb8e-eeaf-4aa9-b958-61b6f980f202\" xlink:type=\"simple\"><path d=\"M362.27,130.22 C349.82,138.09 335.46,146.77 322,154 C284.18,174.3 239.36,194.36 208.05,207.77 \" fill=\"none\" id=\"E8-&gt;E5\" style=\"stroke: #A80036; stroke-width: 1.0;\"/><polygon fill=\"#FFFFFF\" points=\"189.2,215.73,203.9741,201.8834,209.4261,214.7782,189.2,215.73\" style=\"stroke: #A80036; stroke-width: 1.0;\"/><ellipse cx=\"210.0029\" cy=\"201.5058\" fill=\"#A80036\" rx=\"2\" ry=\"2\" style=\"stroke: #A80036; stroke-width: 1.0;\"/><ellipse cx=\"213.8972\" cy=\"210.7164\" fill=\"#A80036\" rx=\"2\" ry=\"2\" style=\"stroke: #A80036; stroke-width: 1.0;\"/></a><!--MD5=[feeac5eb423634930294aa81f2d25a4c]\n",
       "link E10 to E3--><a href=\"psysml:2f015e6c-7efc-43fd-92bb-26e8cb5e6a22\" target=\"_top\" title=\"psysml:2f015e6c-7efc-43fd-92bb-26e8cb5e6a22\" xlink:actuate=\"onRequest\" xlink:href=\"psysml:2f015e6c-7efc-43fd-92bb-26e8cb5e6a22\" xlink:show=\"new\" xlink:title=\"psysml:2f015e6c-7efc-43fd-92bb-26e8cb5e6a22\" xlink:type=\"simple\"><path d=\"M305.73,130.22 C318.18,138.09 332.54,146.77 346,154 C383.82,174.3 428.64,194.36 459.95,207.77 \" fill=\"none\" id=\"E10-&gt;E3\" style=\"stroke: #A80036; stroke-width: 1.0;\"/><polygon fill=\"#FFFFFF\" points=\"478.8,215.73,458.5739,214.7782,464.0259,201.8834,478.8,215.73\" style=\"stroke: #A80036; stroke-width: 1.0;\"/><ellipse cx=\"454.1028\" cy=\"210.7164\" fill=\"#A80036\" rx=\"2\" ry=\"2\" style=\"stroke: #A80036; stroke-width: 1.0;\"/><ellipse cx=\"457.9971\" cy=\"201.5058\" fill=\"#A80036\" rx=\"2\" ry=\"2\" style=\"stroke: #A80036; stroke-width: 1.0;\"/></a><!--MD5=[07b77f6f309248d16187045709d1c26e]\n",
       "link E11 to E5--><a href=\"psysml:7cf9fed8-155f-433e-a01b-9d13c54aa089\" target=\"_top\" title=\"psysml:7cf9fed8-155f-433e-a01b-9d13c54aa089\" xlink:actuate=\"onRequest\" xlink:href=\"psysml:7cf9fed8-155f-433e-a01b-9d13c54aa089\" xlink:show=\"new\" xlink:title=\"psysml:7cf9fed8-155f-433e-a01b-9d13c54aa089\" xlink:type=\"simple\"><path d=\"M169,130.09 C169,145.42 169,166.27 169,184.42 \" fill=\"none\" id=\"E11-&gt;E5\" style=\"stroke: #A80036; stroke-width: 1.0;\"/><polygon fill=\"#FFFFFF\" points=\"169,204.69,162,185.69,176,185.69,169,204.69\" style=\"stroke: #A80036; stroke-width: 1.0;\"/><ellipse cx=\"164\" cy=\"179.99\" fill=\"#A80036\" rx=\"2\" ry=\"2\" style=\"stroke: #A80036; stroke-width: 1.0;\"/><ellipse cx=\"174\" cy=\"179.99\" fill=\"#A80036\" rx=\"2\" ry=\"2\" style=\"stroke: #A80036; stroke-width: 1.0;\"/></a><!--MD5=[39f41a0e550fb3d73b4d8135617e30a2]\n",
       "link E12 to E3--><a href=\"psysml:2b9be10b-590f-4358-bedf-a86ab0ed6bce\" target=\"_top\" title=\"psysml:2b9be10b-590f-4358-bedf-a86ab0ed6bce\" xlink:actuate=\"onRequest\" xlink:href=\"psysml:2b9be10b-590f-4358-bedf-a86ab0ed6bce\" xlink:show=\"new\" xlink:title=\"psysml:2b9be10b-590f-4358-bedf-a86ab0ed6bce\" xlink:type=\"simple\"><path d=\"M582.38,130.09 C567.43,146.94 546.56,170.44 529.44,189.72 \" fill=\"none\" id=\"E12-&gt;E3\" style=\"stroke: #A80036; stroke-width: 1.0;\"/><polygon fill=\"#FFFFFF\" points=\"516.15,204.69,523.5343,185.836,534.0014,195.1334,516.15,204.69\" style=\"stroke: #A80036; stroke-width: 1.0;\"/><ellipse cx=\"528.815\" cy=\"182.9027\" fill=\"#A80036\" rx=\"2\" ry=\"2\" style=\"stroke: #A80036; stroke-width: 1.0;\"/><ellipse cx=\"536.2914\" cy=\"189.5436\" fill=\"#A80036\" rx=\"2\" ry=\"2\" style=\"stroke: #A80036; stroke-width: 1.0;\"/></a><!--MD5=[066b2d8af59fea80ccdb3d54ad5c1091]\n",
       "link E13 to E5--><a href=\"psysml:78896435-f936-4df6-9172-2ff6f9da23d9\" target=\"_top\" title=\"psysml:78896435-f936-4df6-9172-2ff6f9da23d9\" xlink:actuate=\"onRequest\" xlink:href=\"psysml:78896435-f936-4df6-9172-2ff6f9da23d9\" xlink:show=\"new\" xlink:title=\"psysml:78896435-f936-4df6-9172-2ff6f9da23d9\" xlink:type=\"simple\"><path d=\"M85.62,130.09 C100.57,146.94 121.44,170.44 138.56,189.72 \" fill=\"none\" id=\"E13-&gt;E5\" style=\"stroke: #A80036; stroke-width: 1.0;\"/><polygon fill=\"#FFFFFF\" points=\"151.85,204.69,133.9986,195.1334,144.4657,185.836,151.85,204.69\" style=\"stroke: #A80036; stroke-width: 1.0;\"/><ellipse cx=\"131.7086\" cy=\"189.5436\" fill=\"#A80036\" rx=\"2\" ry=\"2\" style=\"stroke: #A80036; stroke-width: 1.0;\"/><ellipse cx=\"139.185\" cy=\"182.9027\" fill=\"#A80036\" rx=\"2\" ry=\"2\" style=\"stroke: #A80036; stroke-width: 1.0;\"/></a><!--MD5=[27237d3d86b8aa83c2133d3930d563d1]\n",
       "@startuml\r\n",
       " \r\n",
       "package \"CircularImport\" as E1  [[psysml:33738fcf-e3ee-4a7e-98d6-e975d5107ba1 ]]  {\r\n",
       "package \"P1\" as E2  [[psysml:130ef6c7-3ccc-43b9-a62a-eb926cce14a9 ]]  {\r\n",
       "comp def \"A\" as E3 << << (B,green) >> [[psysml:cb0f7157-438a-4ad5-8a96-0def6a248a5a ]] {\r\n",
       "}\r\n",
       "}\r\n",
       "package \"P2\" as E4  [[psysml:0bc4dbd6-620a-45b9-8d32-94753792e496 ]]  {\r\n",
       "comp def \"B\" as E5 << << (B,green) >> [[psysml:fa716e5d-1985-44ef-b151-4b2b4c0691ed ]] {\r\n",
       "}\r\n",
       "}\r\n",
       "package \"Test1\" as E6  [[psysml:b4043d48-e2a3-4796-9568-6bbff931ebfd ]]  {\r\n",
       "comp usage \"x: A\" as E7 << << (P,limegreen) part>> [[psysml:418b0add-8d91-4a6d-810e-c529e1e5d9c2 ]] {\r\n",
       "}\r\n",
       "comp usage \"y: B\" as E8 << << (P,limegreen) part>> [[psysml:c18479a8-8a5a-4a0f-a7e4-033b0648dafb ]] {\r\n",
       "}\r\n",
       "E7 - -:|> E3 [[psysml:c27725e1-02a3-443e-822c-73205e66e264 ]] \r\n",
       "E8 - -:|> E5 [[psysml:43ceeb8e-eeaf-4aa9-b958-61b6f980f202 ]] \r\n",
       "}\r\n",
       "package \"Test2\" as E9  [[psysml:85a9df72-6515-46a6-853d-c4da844a4980 ]]  {\r\n",
       "comp usage \"x: A\" as E10 << << (P,limegreen) part>> [[psysml:61feb9d5-4074-478e-84bb-b7eccf03922b ]] {\r\n",
       "}\r\n",
       "comp usage \"y: B\" as E11 << << (P,limegreen) part>> [[psysml:2edd355f-e967-45cc-82fe-80091bb729bd ]] {\r\n",
       "}\r\n",
       "E10 - -:|> E3 [[psysml:2f015e6c-7efc-43fd-92bb-26e8cb5e6a22 ]] \r\n",
       "E11 - -:|> E5 [[psysml:7cf9fed8-155f-433e-a01b-9d13c54aa089 ]] \r\n",
       "}\r\n",
       "comp usage \"x: A\" as E12 << << (P,limegreen) part>> [[psysml:530a6ae9-7dc1-4851-ab10-936e92c948f7 ]] {\r\n",
       "}\r\n",
       "comp usage \"y: B\" as E13 << << (P,limegreen) part>> [[psysml:561bfa55-252f-4783-9fb1-458618dbf236 ]] {\r\n",
       "}\r\n",
       "E12 - -:|> E3 [[psysml:2b9be10b-590f-4358-bedf-a86ab0ed6bce ]] \r\n",
       "E13 - -:|> E5 [[psysml:78896435-f936-4df6-9172-2ff6f9da23d9 ]] \r\n",
       "}\r\n",
       "@enduml\r\n",
       "\n",
       "PlantUML version 1.2020.13(Sat Jun 13 12:26:38 UTC 2020)\n",
       "(EPL source distribution)\n",
       "Java Runtime: OpenJDK Runtime Environment\n",
       "JVM: OpenJDK 64-Bit Server VM\n",
       "Default Encoding: UTF-8\n",
       "Language: en\n",
       "Country: null\n",
       "--></g></svg>"
      ]
     },
     "execution_count": 35,
     "metadata": {},
     "output_type": "execute_result"
    }
   ],
   "source": [
    "%viz --style=\"PLANTUML\" --view=\"Sequence\" \"CircularImport\""
   ]
  },
  {
   "cell_type": "code",
   "execution_count": 36,
   "id": "3c839d1d",
   "metadata": {
    "execution": {
     "iopub.execute_input": "2021-06-30T09:15:11.837459Z",
     "iopub.status.busy": "2021-06-30T09:15:11.835893Z",
     "iopub.status.idle": "2021-06-30T09:15:11.922976Z",
     "shell.execute_reply": "2021-06-30T09:15:11.923458Z"
    }
   },
   "outputs": [
    {
     "data": {
      "image/svg+xml": [
       "<?xml version=\"1.0\" encoding=\"UTF-8\" standalone=\"no\"?><svg xmlns=\"http://www.w3.org/2000/svg\" xmlns:xlink=\"http://www.w3.org/1999/xlink\" contentScriptType=\"application/ecmascript\" contentStyleType=\"text/css\" height=\"297px\" preserveAspectRatio=\"none\" style=\"width:674px;height:297px;\" version=\"1.1\" viewBox=\"0 0 674 297\" width=\"674px\" zoomAndPan=\"magnify\"><defs><filter height=\"300%\" id=\"fh0jkiah8suhw\" width=\"300%\" x=\"-1\" y=\"-1\"><feGaussianBlur result=\"blurOut\" stdDeviation=\"2.0\"/><feColorMatrix in=\"blurOut\" result=\"blurOut2\" type=\"matrix\" values=\"0 0 0 0 0 0 0 0 0 0 0 0 0 0 0 0 0 0 .4 0\"/><feOffset dx=\"4.0\" dy=\"4.0\" in=\"blurOut2\" result=\"blurOut3\"/><feBlend in=\"SourceGraphic\" in2=\"blurOut3\" mode=\"normal\"/></filter></defs><g><!--MD5=[fbc87193dbaf4d95561dea2c320d4a47]\n",
       "cluster E1--><a href=\"psysml:33738fcf-e3ee-4a7e-98d6-e975d5107ba1\" target=\"_top\" title=\"psysml:33738fcf-e3ee-4a7e-98d6-e975d5107ba1\" xlink:actuate=\"onRequest\" xlink:href=\"psysml:33738fcf-e3ee-4a7e-98d6-e975d5107ba1\" xlink:show=\"new\" xlink:title=\"psysml:33738fcf-e3ee-4a7e-98d6-e975d5107ba1\" xlink:type=\"simple\"><polygon fill=\"#FFFFFF\" filter=\"url(#fh0jkiah8suhw)\" points=\"16,6,134,6,141,28.2969,652,28.2969,652,285,16,285,16,6\" style=\"stroke: #000000; stroke-width: 1.5;\"/><line style=\"stroke: #000000; stroke-width: 1.5;\" x1=\"16\" x2=\"141\" y1=\"28.2969\" y2=\"28.2969\"/><text fill=\"#000000\" font-family=\"sans-serif\" font-size=\"14\" font-weight=\"bold\" lengthAdjust=\"spacingAndGlyphs\" textLength=\"112\" x=\"20\" y=\"20.9951\">CircularImport</text></a><!--MD5=[e4f7fae6ed58524ba242bb0b0d3be6b7]\n",
       "cluster E2--><a href=\"psysml:130ef6c7-3ccc-43b9-a62a-eb926cce14a9\" target=\"_top\" title=\"psysml:130ef6c7-3ccc-43b9-a62a-eb926cce14a9\" xlink:actuate=\"onRequest\" xlink:href=\"psysml:130ef6c7-3ccc-43b9-a62a-eb926cce14a9\" xlink:show=\"new\" xlink:title=\"psysml:130ef6c7-3ccc-43b9-a62a-eb926cce14a9\" xlink:type=\"simple\"><polygon fill=\"#FFFFFF\" filter=\"url(#fh0jkiah8suhw)\" points=\"463,170,489,170,496,192.2969,535,192.2969,535,261,463,261,463,170\" style=\"stroke: #000000; stroke-width: 1.5;\"/><line style=\"stroke: #000000; stroke-width: 1.5;\" x1=\"463\" x2=\"496\" y1=\"192.2969\" y2=\"192.2969\"/><text fill=\"#000000\" font-family=\"sans-serif\" font-size=\"14\" font-weight=\"bold\" lengthAdjust=\"spacingAndGlyphs\" textLength=\"20\" x=\"467\" y=\"184.9951\">P1</text></a><!--MD5=[f6df4d0ebaf0b5dfb2ced0ae5af7c670]\n",
       "cluster E4--><a href=\"psysml:0bc4dbd6-620a-45b9-8d32-94753792e496\" target=\"_top\" title=\"psysml:0bc4dbd6-620a-45b9-8d32-94753792e496\" xlink:actuate=\"onRequest\" xlink:href=\"psysml:0bc4dbd6-620a-45b9-8d32-94753792e496\" xlink:show=\"new\" xlink:title=\"psysml:0bc4dbd6-620a-45b9-8d32-94753792e496\" xlink:type=\"simple\"><polygon fill=\"#FFFFFF\" filter=\"url(#fh0jkiah8suhw)\" points=\"133,170,159,170,166,192.2969,205,192.2969,205,261,133,261,133,170\" style=\"stroke: #000000; stroke-width: 1.5;\"/><line style=\"stroke: #000000; stroke-width: 1.5;\" x1=\"133\" x2=\"166\" y1=\"192.2969\" y2=\"192.2969\"/><text fill=\"#000000\" font-family=\"sans-serif\" font-size=\"14\" font-weight=\"bold\" lengthAdjust=\"spacingAndGlyphs\" textLength=\"20\" x=\"137\" y=\"184.9951\">P2</text></a><!--MD5=[14e3b0961a2654348d326746436168a1]\n",
       "cluster E6--><a href=\"psysml:b4043d48-e2a3-4796-9568-6bbff931ebfd\" target=\"_top\" title=\"psysml:b4043d48-e2a3-4796-9568-6bbff931ebfd\" xlink:actuate=\"onRequest\" xlink:href=\"psysml:b4043d48-e2a3-4796-9568-6bbff931ebfd\" xlink:show=\"new\" xlink:title=\"psysml:b4043d48-e2a3-4796-9568-6bbff931ebfd\" xlink:type=\"simple\"><polygon fill=\"#FFFFFF\" filter=\"url(#fh0jkiah8suhw)\" points=\"346,49,397,49,404,71.2969,549,71.2969,549,146,346,146,346,49\" style=\"stroke: #000000; stroke-width: 1.5;\"/><line style=\"stroke: #000000; stroke-width: 1.5;\" x1=\"346\" x2=\"404\" y1=\"71.2969\" y2=\"71.2969\"/><text fill=\"#000000\" font-family=\"sans-serif\" font-size=\"14\" font-weight=\"bold\" lengthAdjust=\"spacingAndGlyphs\" textLength=\"45\" x=\"350\" y=\"63.9951\">Test1</text></a><!--MD5=[7f149f147074ac12df2cb0a7728a5fb0]\n",
       "cluster E9--><a href=\"psysml:85a9df72-6515-46a6-853d-c4da844a4980\" target=\"_top\" title=\"psysml:85a9df72-6515-46a6-853d-c4da844a4980\" xlink:actuate=\"onRequest\" xlink:href=\"psysml:85a9df72-6515-46a6-853d-c4da844a4980\" xlink:show=\"new\" xlink:title=\"psysml:85a9df72-6515-46a6-853d-c4da844a4980\" xlink:type=\"simple\"><polygon fill=\"#FFFFFF\" filter=\"url(#fh0jkiah8suhw)\" points=\"119,49,170,49,177,71.2969,322,71.2969,322,146,119,146,119,49\" style=\"stroke: #000000; stroke-width: 1.5;\"/><line style=\"stroke: #000000; stroke-width: 1.5;\" x1=\"119\" x2=\"177\" y1=\"71.2969\" y2=\"71.2969\"/><text fill=\"#000000\" font-family=\"sans-serif\" font-size=\"14\" font-weight=\"bold\" lengthAdjust=\"spacingAndGlyphs\" textLength=\"45\" x=\"123\" y=\"63.9951\">Test2</text></a><!--MD5=[49a0ec8f00dab7302a31f22d0f0fe584]\n",
       "class E12--><a href=\"psysml:530a6ae9-7dc1-4851-ab10-936e92c948f7\" target=\"_top\" title=\"psysml:530a6ae9-7dc1-4851-ab10-936e92c948f7\" xlink:actuate=\"onRequest\" xlink:href=\"psysml:530a6ae9-7dc1-4851-ab10-936e92c948f7\" xlink:show=\"new\" xlink:title=\"psysml:530a6ae9-7dc1-4851-ab10-936e92c948f7\" xlink:type=\"simple\"><rect fill=\"#FEFECE\" filter=\"url(#fh0jkiah8suhw)\" height=\"45.9375\" id=\"E12\" rx=\"10\" ry=\"10\" style=\"stroke: #A80036; stroke-width: 1.5;\" width=\"68\" x=\"568\" y=\"84\"/><ellipse cx=\"583\" cy=\"102.9688\" fill=\"#32CD32\" rx=\"11\" ry=\"11\" style=\"stroke: #A80036; stroke-width: 1.0;\"/><path d=\"M582.7969,98.6406 L582.7969,102.2656 L583.7969,102.2656 Q585,102.2656 585.4844,101.8594 Q585.9688,101.4531 585.9688,100.4531 Q585.9688,99.4531 585.4844,99.0469 Q585,98.6406 583.7969,98.6406 L582.7969,98.6406 Z M580.3438,96.5781 L583.7031,96.5781 Q586.2656,96.5781 587.3906,97.5 Q588.5156,98.4063 588.5156,100.4531 Q588.5156,102.5 587.3906,103.4219 Q586.2656,104.3281 583.7031,104.3281 L582.7969,104.3281 L582.7969,108.9688 L580.3438,108.9688 L580.3438,96.5781 Z \"/><text fill=\"#000000\" font-family=\"sans-serif\" font-size=\"12\" font-style=\"italic\" lengthAdjust=\"spacingAndGlyphs\" textLength=\"40\" x=\"595\" y=\"100.1387\">«part»</text><text fill=\"#000000\" font-family=\"sans-serif\" font-size=\"12\" lengthAdjust=\"spacingAndGlyphs\" textLength=\"22\" x=\"604\" y=\"114.1074\">x: A</text><line style=\"stroke: #A80036; stroke-width: 1.5;\" x1=\"569\" x2=\"635\" y1=\"121.9375\" y2=\"121.9375\"/></a><!--MD5=[ee3c913d1a06f366521f9ef512b67efe]\n",
       "class E13--><a href=\"psysml:561bfa55-252f-4783-9fb1-458618dbf236\" target=\"_top\" title=\"psysml:561bfa55-252f-4783-9fb1-458618dbf236\" xlink:actuate=\"onRequest\" xlink:href=\"psysml:561bfa55-252f-4783-9fb1-458618dbf236\" xlink:show=\"new\" xlink:title=\"psysml:561bfa55-252f-4783-9fb1-458618dbf236\" xlink:type=\"simple\"><rect fill=\"#FEFECE\" filter=\"url(#fh0jkiah8suhw)\" height=\"45.9375\" id=\"E13\" rx=\"10\" ry=\"10\" style=\"stroke: #A80036; stroke-width: 1.5;\" width=\"68\" x=\"32\" y=\"84\"/><ellipse cx=\"47\" cy=\"102.9688\" fill=\"#32CD32\" rx=\"11\" ry=\"11\" style=\"stroke: #A80036; stroke-width: 1.0;\"/><path d=\"M46.7969,98.6406 L46.7969,102.2656 L47.7969,102.2656 Q49,102.2656 49.4844,101.8594 Q49.9688,101.4531 49.9688,100.4531 Q49.9688,99.4531 49.4844,99.0469 Q49,98.6406 47.7969,98.6406 L46.7969,98.6406 Z M44.3438,96.5781 L47.7031,96.5781 Q50.2656,96.5781 51.3906,97.5 Q52.5156,98.4063 52.5156,100.4531 Q52.5156,102.5 51.3906,103.4219 Q50.2656,104.3281 47.7031,104.3281 L46.7969,104.3281 L46.7969,108.9688 L44.3438,108.9688 L44.3438,96.5781 Z \"/><text fill=\"#000000\" font-family=\"sans-serif\" font-size=\"12\" font-style=\"italic\" lengthAdjust=\"spacingAndGlyphs\" textLength=\"40\" x=\"59\" y=\"100.1387\">«part»</text><text fill=\"#000000\" font-family=\"sans-serif\" font-size=\"12\" lengthAdjust=\"spacingAndGlyphs\" textLength=\"22\" x=\"68\" y=\"114.1074\">y: B</text><line style=\"stroke: #A80036; stroke-width: 1.5;\" x1=\"33\" x2=\"99\" y1=\"121.9375\" y2=\"121.9375\"/></a><!--MD5=[09b614a08d8cba4a07c9adeb5e0fee81]\n",
       "class E3--><a href=\"psysml:cb0f7157-438a-4ad5-8a96-0def6a248a5a\" target=\"_top\" title=\"psysml:cb0f7157-438a-4ad5-8a96-0def6a248a5a\" xlink:actuate=\"onRequest\" xlink:href=\"psysml:cb0f7157-438a-4ad5-8a96-0def6a248a5a\" xlink:show=\"new\" xlink:title=\"psysml:cb0f7157-438a-4ad5-8a96-0def6a248a5a\" xlink:type=\"simple\"><rect fill=\"#FEFECE\" filter=\"url(#fh0jkiah8suhw)\" height=\"40\" id=\"E3\" style=\"stroke: #A80036; stroke-width: 1.5;\" width=\"40\" x=\"479\" y=\"205\"/><ellipse cx=\"494\" cy=\"221\" fill=\"#008000\" rx=\"11\" ry=\"11\" style=\"stroke: #A80036; stroke-width: 1.0;\"/><path d=\"M492.9063,221.375 L492.9063,225.0469 L494.5313,225.0469 Q495.7031,225.0469 496.1719,224.6563 Q496.6406,224.25 496.6406,223.25 Q496.6406,222.25 496.1406,221.8125 Q495.6563,221.375 494.5313,221.375 L492.9063,221.375 Z M492.9063,216.5469 L492.9063,219.4219 L494.5313,219.4219 Q495.4531,219.4219 495.8438,219.0938 Q496.25,218.75 496.25,218 Q496.25,217.2344 495.8438,216.8906 Q495.4375,216.5469 494.5313,216.5469 L492.9063,216.5469 Z M490.5313,214.5938 L494.5313,214.5938 Q496.5938,214.5938 497.6406,215.375 Q498.6875,216.1563 498.6875,217.7188 Q498.6875,218.9219 498.0625,219.5938 Q497.4531,220.2656 496.2656,220.375 Q497.6875,220.5156 498.4063,221.3281 Q499.125,222.1406 499.125,223.5938 Q499.125,225.3906 498.0469,226.2031 Q496.9688,227 494.5313,227 L490.5313,227 L490.5313,214.5938 Z \"/><text fill=\"#000000\" font-family=\"sans-serif\" font-size=\"12\" lengthAdjust=\"spacingAndGlyphs\" textLength=\"8\" x=\"508\" y=\"225.1543\">A</text><line style=\"stroke: #A80036; stroke-width: 1.5;\" x1=\"480\" x2=\"518\" y1=\"237\" y2=\"237\"/></a><!--MD5=[270fce915f116d4de14055a7c1d9a0f3]\n",
       "class E5--><a href=\"psysml:fa716e5d-1985-44ef-b151-4b2b4c0691ed\" target=\"_top\" title=\"psysml:fa716e5d-1985-44ef-b151-4b2b4c0691ed\" xlink:actuate=\"onRequest\" xlink:href=\"psysml:fa716e5d-1985-44ef-b151-4b2b4c0691ed\" xlink:show=\"new\" xlink:title=\"psysml:fa716e5d-1985-44ef-b151-4b2b4c0691ed\" xlink:type=\"simple\"><rect fill=\"#FEFECE\" filter=\"url(#fh0jkiah8suhw)\" height=\"40\" id=\"E5\" style=\"stroke: #A80036; stroke-width: 1.5;\" width=\"40\" x=\"149\" y=\"205\"/><ellipse cx=\"164\" cy=\"221\" fill=\"#008000\" rx=\"11\" ry=\"11\" style=\"stroke: #A80036; stroke-width: 1.0;\"/><path d=\"M162.9063,221.375 L162.9063,225.0469 L164.5313,225.0469 Q165.7031,225.0469 166.1719,224.6563 Q166.6406,224.25 166.6406,223.25 Q166.6406,222.25 166.1406,221.8125 Q165.6563,221.375 164.5313,221.375 L162.9063,221.375 Z M162.9063,216.5469 L162.9063,219.4219 L164.5313,219.4219 Q165.4531,219.4219 165.8438,219.0938 Q166.25,218.75 166.25,218 Q166.25,217.2344 165.8438,216.8906 Q165.4375,216.5469 164.5313,216.5469 L162.9063,216.5469 Z M160.5313,214.5938 L164.5313,214.5938 Q166.5938,214.5938 167.6406,215.375 Q168.6875,216.1563 168.6875,217.7188 Q168.6875,218.9219 168.0625,219.5938 Q167.4531,220.2656 166.2656,220.375 Q167.6875,220.5156 168.4063,221.3281 Q169.125,222.1406 169.125,223.5938 Q169.125,225.3906 168.0469,226.2031 Q166.9688,227 164.5313,227 L160.5313,227 L160.5313,214.5938 Z \"/><text fill=\"#000000\" font-family=\"sans-serif\" font-size=\"12\" lengthAdjust=\"spacingAndGlyphs\" textLength=\"8\" x=\"178\" y=\"225.1543\">B</text><line style=\"stroke: #A80036; stroke-width: 1.5;\" x1=\"150\" x2=\"188\" y1=\"237\" y2=\"237\"/></a><!--MD5=[2156ba9850f5573cc1fc38a6a4b2f02b]\n",
       "class E7--><a href=\"psysml:418b0add-8d91-4a6d-810e-c529e1e5d9c2\" target=\"_top\" title=\"psysml:418b0add-8d91-4a6d-810e-c529e1e5d9c2\" xlink:actuate=\"onRequest\" xlink:href=\"psysml:418b0add-8d91-4a6d-810e-c529e1e5d9c2\" xlink:show=\"new\" xlink:title=\"psysml:418b0add-8d91-4a6d-810e-c529e1e5d9c2\" xlink:type=\"simple\"><rect fill=\"#FEFECE\" filter=\"url(#fh0jkiah8suhw)\" height=\"45.9375\" id=\"E7\" rx=\"10\" ry=\"10\" style=\"stroke: #A80036; stroke-width: 1.5;\" width=\"68\" x=\"465\" y=\"84\"/><ellipse cx=\"480\" cy=\"102.9688\" fill=\"#32CD32\" rx=\"11\" ry=\"11\" style=\"stroke: #A80036; stroke-width: 1.0;\"/><path d=\"M479.7969,98.6406 L479.7969,102.2656 L480.7969,102.2656 Q482,102.2656 482.4844,101.8594 Q482.9688,101.4531 482.9688,100.4531 Q482.9688,99.4531 482.4844,99.0469 Q482,98.6406 480.7969,98.6406 L479.7969,98.6406 Z M477.3438,96.5781 L480.7031,96.5781 Q483.2656,96.5781 484.3906,97.5 Q485.5156,98.4063 485.5156,100.4531 Q485.5156,102.5 484.3906,103.4219 Q483.2656,104.3281 480.7031,104.3281 L479.7969,104.3281 L479.7969,108.9688 L477.3438,108.9688 L477.3438,96.5781 Z \"/><text fill=\"#000000\" font-family=\"sans-serif\" font-size=\"12\" font-style=\"italic\" lengthAdjust=\"spacingAndGlyphs\" textLength=\"40\" x=\"492\" y=\"100.1387\">«part»</text><text fill=\"#000000\" font-family=\"sans-serif\" font-size=\"12\" lengthAdjust=\"spacingAndGlyphs\" textLength=\"22\" x=\"501\" y=\"114.1074\">x: A</text><line style=\"stroke: #A80036; stroke-width: 1.5;\" x1=\"466\" x2=\"532\" y1=\"121.9375\" y2=\"121.9375\"/></a><!--MD5=[b9389687b975829384b498ac4b7476b2]\n",
       "class E8--><a href=\"psysml:c18479a8-8a5a-4a0f-a7e4-033b0648dafb\" target=\"_top\" title=\"psysml:c18479a8-8a5a-4a0f-a7e4-033b0648dafb\" xlink:actuate=\"onRequest\" xlink:href=\"psysml:c18479a8-8a5a-4a0f-a7e4-033b0648dafb\" xlink:show=\"new\" xlink:title=\"psysml:c18479a8-8a5a-4a0f-a7e4-033b0648dafb\" xlink:type=\"simple\"><rect fill=\"#FEFECE\" filter=\"url(#fh0jkiah8suhw)\" height=\"45.9375\" id=\"E8\" rx=\"10\" ry=\"10\" style=\"stroke: #A80036; stroke-width: 1.5;\" width=\"68\" x=\"362\" y=\"84\"/><ellipse cx=\"377\" cy=\"102.9688\" fill=\"#32CD32\" rx=\"11\" ry=\"11\" style=\"stroke: #A80036; stroke-width: 1.0;\"/><path d=\"M376.7969,98.6406 L376.7969,102.2656 L377.7969,102.2656 Q379,102.2656 379.4844,101.8594 Q379.9688,101.4531 379.9688,100.4531 Q379.9688,99.4531 379.4844,99.0469 Q379,98.6406 377.7969,98.6406 L376.7969,98.6406 Z M374.3438,96.5781 L377.7031,96.5781 Q380.2656,96.5781 381.3906,97.5 Q382.5156,98.4063 382.5156,100.4531 Q382.5156,102.5 381.3906,103.4219 Q380.2656,104.3281 377.7031,104.3281 L376.7969,104.3281 L376.7969,108.9688 L374.3438,108.9688 L374.3438,96.5781 Z \"/><text fill=\"#000000\" font-family=\"sans-serif\" font-size=\"12\" font-style=\"italic\" lengthAdjust=\"spacingAndGlyphs\" textLength=\"40\" x=\"389\" y=\"100.1387\">«part»</text><text fill=\"#000000\" font-family=\"sans-serif\" font-size=\"12\" lengthAdjust=\"spacingAndGlyphs\" textLength=\"22\" x=\"398\" y=\"114.1074\">y: B</text><line style=\"stroke: #A80036; stroke-width: 1.5;\" x1=\"363\" x2=\"429\" y1=\"121.9375\" y2=\"121.9375\"/></a><!--MD5=[96f4274e9e20536e775497830990834d]\n",
       "class E10--><a href=\"psysml:61feb9d5-4074-478e-84bb-b7eccf03922b\" target=\"_top\" title=\"psysml:61feb9d5-4074-478e-84bb-b7eccf03922b\" xlink:actuate=\"onRequest\" xlink:href=\"psysml:61feb9d5-4074-478e-84bb-b7eccf03922b\" xlink:show=\"new\" xlink:title=\"psysml:61feb9d5-4074-478e-84bb-b7eccf03922b\" xlink:type=\"simple\"><rect fill=\"#FEFECE\" filter=\"url(#fh0jkiah8suhw)\" height=\"45.9375\" id=\"E10\" rx=\"10\" ry=\"10\" style=\"stroke: #A80036; stroke-width: 1.5;\" width=\"68\" x=\"238\" y=\"84\"/><ellipse cx=\"253\" cy=\"102.9688\" fill=\"#32CD32\" rx=\"11\" ry=\"11\" style=\"stroke: #A80036; stroke-width: 1.0;\"/><path d=\"M252.7969,98.6406 L252.7969,102.2656 L253.7969,102.2656 Q255,102.2656 255.4844,101.8594 Q255.9688,101.4531 255.9688,100.4531 Q255.9688,99.4531 255.4844,99.0469 Q255,98.6406 253.7969,98.6406 L252.7969,98.6406 Z M250.3438,96.5781 L253.7031,96.5781 Q256.2656,96.5781 257.3906,97.5 Q258.5156,98.4063 258.5156,100.4531 Q258.5156,102.5 257.3906,103.4219 Q256.2656,104.3281 253.7031,104.3281 L252.7969,104.3281 L252.7969,108.9688 L250.3438,108.9688 L250.3438,96.5781 Z \"/><text fill=\"#000000\" font-family=\"sans-serif\" font-size=\"12\" font-style=\"italic\" lengthAdjust=\"spacingAndGlyphs\" textLength=\"40\" x=\"265\" y=\"100.1387\">«part»</text><text fill=\"#000000\" font-family=\"sans-serif\" font-size=\"12\" lengthAdjust=\"spacingAndGlyphs\" textLength=\"22\" x=\"274\" y=\"114.1074\">x: A</text><line style=\"stroke: #A80036; stroke-width: 1.5;\" x1=\"239\" x2=\"305\" y1=\"121.9375\" y2=\"121.9375\"/></a><!--MD5=[1dd1bfd58a279cf63c5f349dbc8fc6a1]\n",
       "class E11--><a href=\"psysml:2edd355f-e967-45cc-82fe-80091bb729bd\" target=\"_top\" title=\"psysml:2edd355f-e967-45cc-82fe-80091bb729bd\" xlink:actuate=\"onRequest\" xlink:href=\"psysml:2edd355f-e967-45cc-82fe-80091bb729bd\" xlink:show=\"new\" xlink:title=\"psysml:2edd355f-e967-45cc-82fe-80091bb729bd\" xlink:type=\"simple\"><rect fill=\"#FEFECE\" filter=\"url(#fh0jkiah8suhw)\" height=\"45.9375\" id=\"E11\" rx=\"10\" ry=\"10\" style=\"stroke: #A80036; stroke-width: 1.5;\" width=\"68\" x=\"135\" y=\"84\"/><ellipse cx=\"150\" cy=\"102.9688\" fill=\"#32CD32\" rx=\"11\" ry=\"11\" style=\"stroke: #A80036; stroke-width: 1.0;\"/><path d=\"M149.7969,98.6406 L149.7969,102.2656 L150.7969,102.2656 Q152,102.2656 152.4844,101.8594 Q152.9688,101.4531 152.9688,100.4531 Q152.9688,99.4531 152.4844,99.0469 Q152,98.6406 150.7969,98.6406 L149.7969,98.6406 Z M147.3438,96.5781 L150.7031,96.5781 Q153.2656,96.5781 154.3906,97.5 Q155.5156,98.4063 155.5156,100.4531 Q155.5156,102.5 154.3906,103.4219 Q153.2656,104.3281 150.7031,104.3281 L149.7969,104.3281 L149.7969,108.9688 L147.3438,108.9688 L147.3438,96.5781 Z \"/><text fill=\"#000000\" font-family=\"sans-serif\" font-size=\"12\" font-style=\"italic\" lengthAdjust=\"spacingAndGlyphs\" textLength=\"40\" x=\"162\" y=\"100.1387\">«part»</text><text fill=\"#000000\" font-family=\"sans-serif\" font-size=\"12\" lengthAdjust=\"spacingAndGlyphs\" textLength=\"22\" x=\"171\" y=\"114.1074\">y: B</text><line style=\"stroke: #A80036; stroke-width: 1.5;\" x1=\"136\" x2=\"202\" y1=\"121.9375\" y2=\"121.9375\"/></a><!--MD5=[14ccda38c055a5c0da953d572bc50960]\n",
       "link E7 to E3--><a href=\"psysml:c27725e1-02a3-443e-822c-73205e66e264\" target=\"_top\" title=\"psysml:c27725e1-02a3-443e-822c-73205e66e264\" xlink:actuate=\"onRequest\" xlink:href=\"psysml:c27725e1-02a3-443e-822c-73205e66e264\" xlink:show=\"new\" xlink:title=\"psysml:c27725e1-02a3-443e-822c-73205e66e264\" xlink:type=\"simple\"><path d=\"M499,130.09 C499,145.42 499,166.27 499,184.42 \" fill=\"none\" id=\"E7-&gt;E3\" style=\"stroke: #A80036; stroke-width: 1.0;\"/><polygon fill=\"#FFFFFF\" points=\"499,204.69,492,185.69,506,185.69,499,204.69\" style=\"stroke: #A80036; stroke-width: 1.0;\"/><ellipse cx=\"494\" cy=\"179.99\" fill=\"#A80036\" rx=\"2\" ry=\"2\" style=\"stroke: #A80036; stroke-width: 1.0;\"/><ellipse cx=\"504\" cy=\"179.99\" fill=\"#A80036\" rx=\"2\" ry=\"2\" style=\"stroke: #A80036; stroke-width: 1.0;\"/></a><!--MD5=[1ccb2481ffa92f8d51a74ee30c51832a]\n",
       "link E8 to E5--><a href=\"psysml:43ceeb8e-eeaf-4aa9-b958-61b6f980f202\" target=\"_top\" title=\"psysml:43ceeb8e-eeaf-4aa9-b958-61b6f980f202\" xlink:actuate=\"onRequest\" xlink:href=\"psysml:43ceeb8e-eeaf-4aa9-b958-61b6f980f202\" xlink:show=\"new\" xlink:title=\"psysml:43ceeb8e-eeaf-4aa9-b958-61b6f980f202\" xlink:type=\"simple\"><path d=\"M362.27,130.22 C349.82,138.09 335.46,146.77 322,154 C284.18,174.3 239.36,194.36 208.05,207.77 \" fill=\"none\" id=\"E8-&gt;E5\" style=\"stroke: #A80036; stroke-width: 1.0;\"/><polygon fill=\"#FFFFFF\" points=\"189.2,215.73,203.9741,201.8834,209.4261,214.7782,189.2,215.73\" style=\"stroke: #A80036; stroke-width: 1.0;\"/><ellipse cx=\"210.0029\" cy=\"201.5058\" fill=\"#A80036\" rx=\"2\" ry=\"2\" style=\"stroke: #A80036; stroke-width: 1.0;\"/><ellipse cx=\"213.8972\" cy=\"210.7164\" fill=\"#A80036\" rx=\"2\" ry=\"2\" style=\"stroke: #A80036; stroke-width: 1.0;\"/></a><!--MD5=[feeac5eb423634930294aa81f2d25a4c]\n",
       "link E10 to E3--><a href=\"psysml:2f015e6c-7efc-43fd-92bb-26e8cb5e6a22\" target=\"_top\" title=\"psysml:2f015e6c-7efc-43fd-92bb-26e8cb5e6a22\" xlink:actuate=\"onRequest\" xlink:href=\"psysml:2f015e6c-7efc-43fd-92bb-26e8cb5e6a22\" xlink:show=\"new\" xlink:title=\"psysml:2f015e6c-7efc-43fd-92bb-26e8cb5e6a22\" xlink:type=\"simple\"><path d=\"M305.73,130.22 C318.18,138.09 332.54,146.77 346,154 C383.82,174.3 428.64,194.36 459.95,207.77 \" fill=\"none\" id=\"E10-&gt;E3\" style=\"stroke: #A80036; stroke-width: 1.0;\"/><polygon fill=\"#FFFFFF\" points=\"478.8,215.73,458.5739,214.7782,464.0259,201.8834,478.8,215.73\" style=\"stroke: #A80036; stroke-width: 1.0;\"/><ellipse cx=\"454.1028\" cy=\"210.7164\" fill=\"#A80036\" rx=\"2\" ry=\"2\" style=\"stroke: #A80036; stroke-width: 1.0;\"/><ellipse cx=\"457.9971\" cy=\"201.5058\" fill=\"#A80036\" rx=\"2\" ry=\"2\" style=\"stroke: #A80036; stroke-width: 1.0;\"/></a><!--MD5=[07b77f6f309248d16187045709d1c26e]\n",
       "link E11 to E5--><a href=\"psysml:7cf9fed8-155f-433e-a01b-9d13c54aa089\" target=\"_top\" title=\"psysml:7cf9fed8-155f-433e-a01b-9d13c54aa089\" xlink:actuate=\"onRequest\" xlink:href=\"psysml:7cf9fed8-155f-433e-a01b-9d13c54aa089\" xlink:show=\"new\" xlink:title=\"psysml:7cf9fed8-155f-433e-a01b-9d13c54aa089\" xlink:type=\"simple\"><path d=\"M169,130.09 C169,145.42 169,166.27 169,184.42 \" fill=\"none\" id=\"E11-&gt;E5\" style=\"stroke: #A80036; stroke-width: 1.0;\"/><polygon fill=\"#FFFFFF\" points=\"169,204.69,162,185.69,176,185.69,169,204.69\" style=\"stroke: #A80036; stroke-width: 1.0;\"/><ellipse cx=\"164\" cy=\"179.99\" fill=\"#A80036\" rx=\"2\" ry=\"2\" style=\"stroke: #A80036; stroke-width: 1.0;\"/><ellipse cx=\"174\" cy=\"179.99\" fill=\"#A80036\" rx=\"2\" ry=\"2\" style=\"stroke: #A80036; stroke-width: 1.0;\"/></a><!--MD5=[39f41a0e550fb3d73b4d8135617e30a2]\n",
       "link E12 to E3--><a href=\"psysml:2b9be10b-590f-4358-bedf-a86ab0ed6bce\" target=\"_top\" title=\"psysml:2b9be10b-590f-4358-bedf-a86ab0ed6bce\" xlink:actuate=\"onRequest\" xlink:href=\"psysml:2b9be10b-590f-4358-bedf-a86ab0ed6bce\" xlink:show=\"new\" xlink:title=\"psysml:2b9be10b-590f-4358-bedf-a86ab0ed6bce\" xlink:type=\"simple\"><path d=\"M582.38,130.09 C567.43,146.94 546.56,170.44 529.44,189.72 \" fill=\"none\" id=\"E12-&gt;E3\" style=\"stroke: #A80036; stroke-width: 1.0;\"/><polygon fill=\"#FFFFFF\" points=\"516.15,204.69,523.5343,185.836,534.0014,195.1334,516.15,204.69\" style=\"stroke: #A80036; stroke-width: 1.0;\"/><ellipse cx=\"528.815\" cy=\"182.9027\" fill=\"#A80036\" rx=\"2\" ry=\"2\" style=\"stroke: #A80036; stroke-width: 1.0;\"/><ellipse cx=\"536.2914\" cy=\"189.5436\" fill=\"#A80036\" rx=\"2\" ry=\"2\" style=\"stroke: #A80036; stroke-width: 1.0;\"/></a><!--MD5=[066b2d8af59fea80ccdb3d54ad5c1091]\n",
       "link E13 to E5--><a href=\"psysml:78896435-f936-4df6-9172-2ff6f9da23d9\" target=\"_top\" title=\"psysml:78896435-f936-4df6-9172-2ff6f9da23d9\" xlink:actuate=\"onRequest\" xlink:href=\"psysml:78896435-f936-4df6-9172-2ff6f9da23d9\" xlink:show=\"new\" xlink:title=\"psysml:78896435-f936-4df6-9172-2ff6f9da23d9\" xlink:type=\"simple\"><path d=\"M85.62,130.09 C100.57,146.94 121.44,170.44 138.56,189.72 \" fill=\"none\" id=\"E13-&gt;E5\" style=\"stroke: #A80036; stroke-width: 1.0;\"/><polygon fill=\"#FFFFFF\" points=\"151.85,204.69,133.9986,195.1334,144.4657,185.836,151.85,204.69\" style=\"stroke: #A80036; stroke-width: 1.0;\"/><ellipse cx=\"131.7086\" cy=\"189.5436\" fill=\"#A80036\" rx=\"2\" ry=\"2\" style=\"stroke: #A80036; stroke-width: 1.0;\"/><ellipse cx=\"139.185\" cy=\"182.9027\" fill=\"#A80036\" rx=\"2\" ry=\"2\" style=\"stroke: #A80036; stroke-width: 1.0;\"/></a><!--MD5=[27237d3d86b8aa83c2133d3930d563d1]\n",
       "@startuml\r\n",
       " \r\n",
       "package \"CircularImport\" as E1  [[psysml:33738fcf-e3ee-4a7e-98d6-e975d5107ba1 ]]  {\r\n",
       "package \"P1\" as E2  [[psysml:130ef6c7-3ccc-43b9-a62a-eb926cce14a9 ]]  {\r\n",
       "comp def \"A\" as E3 << << (B,green) >> [[psysml:cb0f7157-438a-4ad5-8a96-0def6a248a5a ]] {\r\n",
       "}\r\n",
       "}\r\n",
       "package \"P2\" as E4  [[psysml:0bc4dbd6-620a-45b9-8d32-94753792e496 ]]  {\r\n",
       "comp def \"B\" as E5 << << (B,green) >> [[psysml:fa716e5d-1985-44ef-b151-4b2b4c0691ed ]] {\r\n",
       "}\r\n",
       "}\r\n",
       "package \"Test1\" as E6  [[psysml:b4043d48-e2a3-4796-9568-6bbff931ebfd ]]  {\r\n",
       "comp usage \"x: A\" as E7 << << (P,limegreen) part>> [[psysml:418b0add-8d91-4a6d-810e-c529e1e5d9c2 ]] {\r\n",
       "}\r\n",
       "comp usage \"y: B\" as E8 << << (P,limegreen) part>> [[psysml:c18479a8-8a5a-4a0f-a7e4-033b0648dafb ]] {\r\n",
       "}\r\n",
       "E7 - -:|> E3 [[psysml:c27725e1-02a3-443e-822c-73205e66e264 ]] \r\n",
       "E8 - -:|> E5 [[psysml:43ceeb8e-eeaf-4aa9-b958-61b6f980f202 ]] \r\n",
       "}\r\n",
       "package \"Test2\" as E9  [[psysml:85a9df72-6515-46a6-853d-c4da844a4980 ]]  {\r\n",
       "comp usage \"x: A\" as E10 << << (P,limegreen) part>> [[psysml:61feb9d5-4074-478e-84bb-b7eccf03922b ]] {\r\n",
       "}\r\n",
       "comp usage \"y: B\" as E11 << << (P,limegreen) part>> [[psysml:2edd355f-e967-45cc-82fe-80091bb729bd ]] {\r\n",
       "}\r\n",
       "E10 - -:|> E3 [[psysml:2f015e6c-7efc-43fd-92bb-26e8cb5e6a22 ]] \r\n",
       "E11 - -:|> E5 [[psysml:7cf9fed8-155f-433e-a01b-9d13c54aa089 ]] \r\n",
       "}\r\n",
       "comp usage \"x: A\" as E12 << << (P,limegreen) part>> [[psysml:530a6ae9-7dc1-4851-ab10-936e92c948f7 ]] {\r\n",
       "}\r\n",
       "comp usage \"y: B\" as E13 << << (P,limegreen) part>> [[psysml:561bfa55-252f-4783-9fb1-458618dbf236 ]] {\r\n",
       "}\r\n",
       "E12 - -:|> E3 [[psysml:2b9be10b-590f-4358-bedf-a86ab0ed6bce ]] \r\n",
       "E13 - -:|> E5 [[psysml:78896435-f936-4df6-9172-2ff6f9da23d9 ]] \r\n",
       "}\r\n",
       "@enduml\r\n",
       "\n",
       "PlantUML version 1.2020.13(Sat Jun 13 12:26:38 UTC 2020)\n",
       "(EPL source distribution)\n",
       "Java Runtime: OpenJDK Runtime Environment\n",
       "JVM: OpenJDK 64-Bit Server VM\n",
       "Default Encoding: UTF-8\n",
       "Language: en\n",
       "Country: null\n",
       "--></g></svg>"
      ]
     },
     "execution_count": 36,
     "metadata": {},
     "output_type": "execute_result"
    }
   ],
   "source": [
    "%viz --style=\"PLANTUML\" --view=\"MIXED\" \"CircularImport\""
   ]
  },
  {
   "cell_type": "code",
   "execution_count": 37,
   "id": "c5ab702f",
   "metadata": {
    "execution": {
     "iopub.execute_input": "2021-06-30T09:15:11.973857Z",
     "iopub.status.busy": "2021-06-30T09:15:11.972864Z",
     "iopub.status.idle": "2021-06-30T09:15:12.075438Z",
     "shell.execute_reply": "2021-06-30T09:15:12.072159Z"
    }
   },
   "outputs": [
    {
     "data": {
      "image/svg+xml": [
       "<?xml version=\"1.0\" encoding=\"UTF-8\" standalone=\"no\"?><svg xmlns=\"http://www.w3.org/2000/svg\" xmlns:xlink=\"http://www.w3.org/1999/xlink\" contentScriptType=\"application/ecmascript\" contentStyleType=\"text/css\" height=\"303px\" preserveAspectRatio=\"none\" style=\"width:518px;height:303px;\" version=\"1.1\" viewBox=\"0 0 518 303\" width=\"518px\" zoomAndPan=\"magnify\"><defs/><g><!--MD5=[fbc87193dbaf4d95561dea2c320d4a47]\n",
       "cluster E1--><a href=\"psysml:33738fcf-e3ee-4a7e-98d6-e975d5107ba1\" target=\"_top\" title=\"psysml:33738fcf-e3ee-4a7e-98d6-e975d5107ba1\" xlink:actuate=\"onRequest\" xlink:href=\"psysml:33738fcf-e3ee-4a7e-98d6-e975d5107ba1\" xlink:show=\"new\" xlink:title=\"psysml:33738fcf-e3ee-4a7e-98d6-e975d5107ba1\" xlink:type=\"simple\"><polygon fill=\"#FFFFFF\" points=\"16,6,134,6,141,28.2969,496,28.2969,496,291,16,291,16,6\" style=\"stroke: #000000; stroke-width: 1.5;\"/><line style=\"stroke: #000000; stroke-width: 1.5;\" x1=\"16\" x2=\"141\" y1=\"28.2969\" y2=\"28.2969\"/><text fill=\"#000000\" font-family=\"sans-serif\" font-size=\"14\" font-weight=\"bold\" lengthAdjust=\"spacingAndGlyphs\" textLength=\"112\" x=\"20\" y=\"20.9951\">CircularImport</text></a><!--MD5=[e4f7fae6ed58524ba242bb0b0d3be6b7]\n",
       "cluster E2--><a href=\"psysml:130ef6c7-3ccc-43b9-a62a-eb926cce14a9\" target=\"_top\" title=\"psysml:130ef6c7-3ccc-43b9-a62a-eb926cce14a9\" xlink:actuate=\"onRequest\" xlink:href=\"psysml:130ef6c7-3ccc-43b9-a62a-eb926cce14a9\" xlink:show=\"new\" xlink:title=\"psysml:130ef6c7-3ccc-43b9-a62a-eb926cce14a9\" xlink:type=\"simple\"><polygon fill=\"#FFFFFF\" points=\"333,170,359,170,366,192.2969,431,192.2969,431,267,333,267,333,170\" style=\"stroke: #000000; stroke-width: 1.5;\"/><line style=\"stroke: #000000; stroke-width: 1.5;\" x1=\"333\" x2=\"366\" y1=\"192.2969\" y2=\"192.2969\"/><text fill=\"#000000\" font-family=\"sans-serif\" font-size=\"14\" font-weight=\"bold\" lengthAdjust=\"spacingAndGlyphs\" textLength=\"20\" x=\"337\" y=\"184.9951\">P1</text></a><!--MD5=[f6df4d0ebaf0b5dfb2ced0ae5af7c670]\n",
       "cluster E4--><a href=\"psysml:0bc4dbd6-620a-45b9-8d32-94753792e496\" target=\"_top\" title=\"psysml:0bc4dbd6-620a-45b9-8d32-94753792e496\" xlink:actuate=\"onRequest\" xlink:href=\"psysml:0bc4dbd6-620a-45b9-8d32-94753792e496\" xlink:show=\"new\" xlink:title=\"psysml:0bc4dbd6-620a-45b9-8d32-94753792e496\" xlink:type=\"simple\"><polygon fill=\"#FFFFFF\" points=\"81,170,107,170,114,192.2969,179,192.2969,179,267,81,267,81,170\" style=\"stroke: #000000; stroke-width: 1.5;\"/><line style=\"stroke: #000000; stroke-width: 1.5;\" x1=\"81\" x2=\"114\" y1=\"192.2969\" y2=\"192.2969\"/><text fill=\"#000000\" font-family=\"sans-serif\" font-size=\"14\" font-weight=\"bold\" lengthAdjust=\"spacingAndGlyphs\" textLength=\"20\" x=\"85\" y=\"184.9951\">P2</text></a><!--MD5=[14e3b0961a2654348d326746436168a1]\n",
       "cluster E6--><a href=\"psysml:b4043d48-e2a3-4796-9568-6bbff931ebfd\" target=\"_top\" title=\"psysml:b4043d48-e2a3-4796-9568-6bbff931ebfd\" xlink:actuate=\"onRequest\" xlink:href=\"psysml:b4043d48-e2a3-4796-9568-6bbff931ebfd\" xlink:show=\"new\" xlink:title=\"psysml:b4043d48-e2a3-4796-9568-6bbff931ebfd\" xlink:type=\"simple\"><polygon fill=\"#FFFFFF\" points=\"268,49,319,49,326,71.2969,419,71.2969,419,146,268,146,268,49\" style=\"stroke: #000000; stroke-width: 1.5;\"/><line style=\"stroke: #000000; stroke-width: 1.5;\" x1=\"268\" x2=\"326\" y1=\"71.2969\" y2=\"71.2969\"/><text fill=\"#000000\" font-family=\"sans-serif\" font-size=\"14\" font-weight=\"bold\" lengthAdjust=\"spacingAndGlyphs\" textLength=\"45\" x=\"272\" y=\"63.9951\">Test1</text></a><!--MD5=[7f149f147074ac12df2cb0a7728a5fb0]\n",
       "cluster E9--><a href=\"psysml:85a9df72-6515-46a6-853d-c4da844a4980\" target=\"_top\" title=\"psysml:85a9df72-6515-46a6-853d-c4da844a4980\" xlink:actuate=\"onRequest\" xlink:href=\"psysml:85a9df72-6515-46a6-853d-c4da844a4980\" xlink:show=\"new\" xlink:title=\"psysml:85a9df72-6515-46a6-853d-c4da844a4980\" xlink:type=\"simple\"><polygon fill=\"#FFFFFF\" points=\"93,49,144,49,151,71.2969,244,71.2969,244,146,93,146,93,49\" style=\"stroke: #000000; stroke-width: 1.5;\"/><line style=\"stroke: #000000; stroke-width: 1.5;\" x1=\"93\" x2=\"151\" y1=\"71.2969\" y2=\"71.2969\"/><text fill=\"#000000\" font-family=\"sans-serif\" font-size=\"14\" font-weight=\"bold\" lengthAdjust=\"spacingAndGlyphs\" textLength=\"45\" x=\"97\" y=\"63.9951\">Test2</text></a><!--MD5=[49a0ec8f00dab7302a31f22d0f0fe584]\n",
       "class E12--><a href=\"psysml:530a6ae9-7dc1-4851-ab10-936e92c948f7\" target=\"_top\" title=\"psysml:530a6ae9-7dc1-4851-ab10-936e92c948f7\" xlink:actuate=\"onRequest\" xlink:href=\"psysml:530a6ae9-7dc1-4851-ab10-936e92c948f7\" xlink:show=\"new\" xlink:title=\"psysml:530a6ae9-7dc1-4851-ab10-936e92c948f7\" xlink:type=\"simple\"><rect fill=\"#FFFFFF\" height=\"45.9375\" id=\"E12\" rx=\"10\" ry=\"10\" style=\"stroke: #383838; stroke-width: 1.5;\" width=\"42\" x=\"438\" y=\"84\"/><text fill=\"#000000\" font-family=\"sans-serif\" font-size=\"12\" font-style=\"italic\" lengthAdjust=\"spacingAndGlyphs\" textLength=\"40\" x=\"439\" y=\"100.1387\">«part»</text><text fill=\"#000000\" font-family=\"sans-serif\" font-size=\"12\" lengthAdjust=\"spacingAndGlyphs\" textLength=\"22\" x=\"448\" y=\"114.1074\">x: A</text><line style=\"stroke: #383838; stroke-width: 1.5;\" x1=\"439\" x2=\"479\" y1=\"121.9375\" y2=\"121.9375\"/></a><!--MD5=[ee3c913d1a06f366521f9ef512b67efe]\n",
       "class E13--><a href=\"psysml:561bfa55-252f-4783-9fb1-458618dbf236\" target=\"_top\" title=\"psysml:561bfa55-252f-4783-9fb1-458618dbf236\" xlink:actuate=\"onRequest\" xlink:href=\"psysml:561bfa55-252f-4783-9fb1-458618dbf236\" xlink:show=\"new\" xlink:title=\"psysml:561bfa55-252f-4783-9fb1-458618dbf236\" xlink:type=\"simple\"><rect fill=\"#FFFFFF\" height=\"45.9375\" id=\"E13\" rx=\"10\" ry=\"10\" style=\"stroke: #383838; stroke-width: 1.5;\" width=\"42\" x=\"32\" y=\"84\"/><text fill=\"#000000\" font-family=\"sans-serif\" font-size=\"12\" font-style=\"italic\" lengthAdjust=\"spacingAndGlyphs\" textLength=\"40\" x=\"33\" y=\"100.1387\">«part»</text><text fill=\"#000000\" font-family=\"sans-serif\" font-size=\"12\" lengthAdjust=\"spacingAndGlyphs\" textLength=\"22\" x=\"42\" y=\"114.1074\">y: B</text><line style=\"stroke: #383838; stroke-width: 1.5;\" x1=\"33\" x2=\"73\" y1=\"121.9375\" y2=\"121.9375\"/></a><!--MD5=[09b614a08d8cba4a07c9adeb5e0fee81]\n",
       "class E3--><a href=\"psysml:cb0f7157-438a-4ad5-8a96-0def6a248a5a\" target=\"_top\" title=\"psysml:cb0f7157-438a-4ad5-8a96-0def6a248a5a\" xlink:actuate=\"onRequest\" xlink:href=\"psysml:cb0f7157-438a-4ad5-8a96-0def6a248a5a\" xlink:show=\"new\" xlink:title=\"psysml:cb0f7157-438a-4ad5-8a96-0def6a248a5a\" xlink:type=\"simple\"><rect fill=\"#FFFFFF\" height=\"45.9375\" id=\"E3\" style=\"stroke: #383838; stroke-width: 1.5;\" width=\"66\" x=\"349\" y=\"205\"/><text fill=\"#000000\" font-family=\"sans-serif\" font-size=\"12\" font-style=\"italic\" lengthAdjust=\"spacingAndGlyphs\" textLength=\"64\" x=\"350\" y=\"221.1387\">«part def»</text><text fill=\"#000000\" font-family=\"sans-serif\" font-size=\"12\" lengthAdjust=\"spacingAndGlyphs\" textLength=\"8\" x=\"378\" y=\"235.1074\">A</text><line style=\"stroke: #383838; stroke-width: 1.5;\" x1=\"350\" x2=\"414\" y1=\"242.9375\" y2=\"242.9375\"/></a><!--MD5=[270fce915f116d4de14055a7c1d9a0f3]\n",
       "class E5--><a href=\"psysml:fa716e5d-1985-44ef-b151-4b2b4c0691ed\" target=\"_top\" title=\"psysml:fa716e5d-1985-44ef-b151-4b2b4c0691ed\" xlink:actuate=\"onRequest\" xlink:href=\"psysml:fa716e5d-1985-44ef-b151-4b2b4c0691ed\" xlink:show=\"new\" xlink:title=\"psysml:fa716e5d-1985-44ef-b151-4b2b4c0691ed\" xlink:type=\"simple\"><rect fill=\"#FFFFFF\" height=\"45.9375\" id=\"E5\" style=\"stroke: #383838; stroke-width: 1.5;\" width=\"66\" x=\"97\" y=\"205\"/><text fill=\"#000000\" font-family=\"sans-serif\" font-size=\"12\" font-style=\"italic\" lengthAdjust=\"spacingAndGlyphs\" textLength=\"64\" x=\"98\" y=\"221.1387\">«part def»</text><text fill=\"#000000\" font-family=\"sans-serif\" font-size=\"12\" lengthAdjust=\"spacingAndGlyphs\" textLength=\"8\" x=\"126\" y=\"235.1074\">B</text><line style=\"stroke: #383838; stroke-width: 1.5;\" x1=\"98\" x2=\"162\" y1=\"242.9375\" y2=\"242.9375\"/></a><!--MD5=[2156ba9850f5573cc1fc38a6a4b2f02b]\n",
       "class E7--><a href=\"psysml:418b0add-8d91-4a6d-810e-c529e1e5d9c2\" target=\"_top\" title=\"psysml:418b0add-8d91-4a6d-810e-c529e1e5d9c2\" xlink:actuate=\"onRequest\" xlink:href=\"psysml:418b0add-8d91-4a6d-810e-c529e1e5d9c2\" xlink:show=\"new\" xlink:title=\"psysml:418b0add-8d91-4a6d-810e-c529e1e5d9c2\" xlink:type=\"simple\"><rect fill=\"#FFFFFF\" height=\"45.9375\" id=\"E7\" rx=\"10\" ry=\"10\" style=\"stroke: #383838; stroke-width: 1.5;\" width=\"42\" x=\"361\" y=\"84\"/><text fill=\"#000000\" font-family=\"sans-serif\" font-size=\"12\" font-style=\"italic\" lengthAdjust=\"spacingAndGlyphs\" textLength=\"40\" x=\"362\" y=\"100.1387\">«part»</text><text fill=\"#000000\" font-family=\"sans-serif\" font-size=\"12\" lengthAdjust=\"spacingAndGlyphs\" textLength=\"22\" x=\"371\" y=\"114.1074\">x: A</text><line style=\"stroke: #383838; stroke-width: 1.5;\" x1=\"362\" x2=\"402\" y1=\"121.9375\" y2=\"121.9375\"/></a><!--MD5=[b9389687b975829384b498ac4b7476b2]\n",
       "class E8--><a href=\"psysml:c18479a8-8a5a-4a0f-a7e4-033b0648dafb\" target=\"_top\" title=\"psysml:c18479a8-8a5a-4a0f-a7e4-033b0648dafb\" xlink:actuate=\"onRequest\" xlink:href=\"psysml:c18479a8-8a5a-4a0f-a7e4-033b0648dafb\" xlink:show=\"new\" xlink:title=\"psysml:c18479a8-8a5a-4a0f-a7e4-033b0648dafb\" xlink:type=\"simple\"><rect fill=\"#FFFFFF\" height=\"45.9375\" id=\"E8\" rx=\"10\" ry=\"10\" style=\"stroke: #383838; stroke-width: 1.5;\" width=\"42\" x=\"284\" y=\"84\"/><text fill=\"#000000\" font-family=\"sans-serif\" font-size=\"12\" font-style=\"italic\" lengthAdjust=\"spacingAndGlyphs\" textLength=\"40\" x=\"285\" y=\"100.1387\">«part»</text><text fill=\"#000000\" font-family=\"sans-serif\" font-size=\"12\" lengthAdjust=\"spacingAndGlyphs\" textLength=\"22\" x=\"294\" y=\"114.1074\">y: B</text><line style=\"stroke: #383838; stroke-width: 1.5;\" x1=\"285\" x2=\"325\" y1=\"121.9375\" y2=\"121.9375\"/></a><!--MD5=[96f4274e9e20536e775497830990834d]\n",
       "class E10--><a href=\"psysml:61feb9d5-4074-478e-84bb-b7eccf03922b\" target=\"_top\" title=\"psysml:61feb9d5-4074-478e-84bb-b7eccf03922b\" xlink:actuate=\"onRequest\" xlink:href=\"psysml:61feb9d5-4074-478e-84bb-b7eccf03922b\" xlink:show=\"new\" xlink:title=\"psysml:61feb9d5-4074-478e-84bb-b7eccf03922b\" xlink:type=\"simple\"><rect fill=\"#FFFFFF\" height=\"45.9375\" id=\"E10\" rx=\"10\" ry=\"10\" style=\"stroke: #383838; stroke-width: 1.5;\" width=\"42\" x=\"186\" y=\"84\"/><text fill=\"#000000\" font-family=\"sans-serif\" font-size=\"12\" font-style=\"italic\" lengthAdjust=\"spacingAndGlyphs\" textLength=\"40\" x=\"187\" y=\"100.1387\">«part»</text><text fill=\"#000000\" font-family=\"sans-serif\" font-size=\"12\" lengthAdjust=\"spacingAndGlyphs\" textLength=\"22\" x=\"196\" y=\"114.1074\">x: A</text><line style=\"stroke: #383838; stroke-width: 1.5;\" x1=\"187\" x2=\"227\" y1=\"121.9375\" y2=\"121.9375\"/></a><!--MD5=[1dd1bfd58a279cf63c5f349dbc8fc6a1]\n",
       "class E11--><a href=\"psysml:2edd355f-e967-45cc-82fe-80091bb729bd\" target=\"_top\" title=\"psysml:2edd355f-e967-45cc-82fe-80091bb729bd\" xlink:actuate=\"onRequest\" xlink:href=\"psysml:2edd355f-e967-45cc-82fe-80091bb729bd\" xlink:show=\"new\" xlink:title=\"psysml:2edd355f-e967-45cc-82fe-80091bb729bd\" xlink:type=\"simple\"><rect fill=\"#FFFFFF\" height=\"45.9375\" id=\"E11\" rx=\"10\" ry=\"10\" style=\"stroke: #383838; stroke-width: 1.5;\" width=\"42\" x=\"109\" y=\"84\"/><text fill=\"#000000\" font-family=\"sans-serif\" font-size=\"12\" font-style=\"italic\" lengthAdjust=\"spacingAndGlyphs\" textLength=\"40\" x=\"110\" y=\"100.1387\">«part»</text><text fill=\"#000000\" font-family=\"sans-serif\" font-size=\"12\" lengthAdjust=\"spacingAndGlyphs\" textLength=\"22\" x=\"119\" y=\"114.1074\">y: B</text><line style=\"stroke: #383838; stroke-width: 1.5;\" x1=\"110\" x2=\"150\" y1=\"121.9375\" y2=\"121.9375\"/></a><!--MD5=[14ccda38c055a5c0da953d572bc50960]\n",
       "link E7 to E3--><a href=\"psysml:c27725e1-02a3-443e-822c-73205e66e264\" target=\"_top\" title=\"psysml:c27725e1-02a3-443e-822c-73205e66e264\" xlink:actuate=\"onRequest\" xlink:href=\"psysml:c27725e1-02a3-443e-822c-73205e66e264\" xlink:show=\"new\" xlink:title=\"psysml:c27725e1-02a3-443e-822c-73205e66e264\" xlink:type=\"simple\"><path d=\"M382,130.1 C382,145.37 382,166.16 382,184.57 \" fill=\"none\" id=\"E7-&gt;E3\" style=\"stroke: #383838; stroke-width: 1.0;\"/><polygon fill=\"#FFFFFF\" points=\"382,204.61,375,185.61,389,185.61,382,204.61\" style=\"stroke: #383838; stroke-width: 1.0;\"/><ellipse cx=\"377\" cy=\"179.91\" fill=\"#383838\" rx=\"2\" ry=\"2\" style=\"stroke: #383838; stroke-width: 1.0;\"/><ellipse cx=\"387\" cy=\"179.91\" fill=\"#383838\" rx=\"2\" ry=\"2\" style=\"stroke: #383838; stroke-width: 1.0;\"/></a><!--MD5=[1ccb2481ffa92f8d51a74ee30c51832a]\n",
       "link E8 to E5--><a href=\"psysml:43ceeb8e-eeaf-4aa9-b958-61b6f980f202\" target=\"_top\" title=\"psysml:43ceeb8e-eeaf-4aa9-b958-61b6f980f202\" xlink:actuate=\"onRequest\" xlink:href=\"psysml:43ceeb8e-eeaf-4aa9-b958-61b6f980f202\" xlink:show=\"new\" xlink:title=\"psysml:43ceeb8e-eeaf-4aa9-b958-61b6f980f202\" xlink:type=\"simple\"><path d=\"M283.84,124.59 C272.23,133.52 257.5,144.61 244,154 C223.51,168.25 200.41,183.24 180.38,195.91 \" fill=\"none\" id=\"E8-&gt;E5\" style=\"stroke: #383838; stroke-width: 1.0;\"/><polygon fill=\"#FFFFFF\" points=\"163.36,206.57,175.7353,190.5434,183.175,202.403,163.36,206.57\" style=\"stroke: #383838; stroke-width: 1.0;\"/><ellipse cx=\"181.6267\" cy=\"189.2086\" fill=\"#383838\" rx=\"2\" ry=\"2\" style=\"stroke: #383838; stroke-width: 1.0;\"/><ellipse cx=\"186.9408\" cy=\"197.6797\" fill=\"#383838\" rx=\"2\" ry=\"2\" style=\"stroke: #383838; stroke-width: 1.0;\"/></a><!--MD5=[feeac5eb423634930294aa81f2d25a4c]\n",
       "link E10 to E3--><a href=\"psysml:2f015e6c-7efc-43fd-92bb-26e8cb5e6a22\" target=\"_top\" title=\"psysml:2f015e6c-7efc-43fd-92bb-26e8cb5e6a22\" xlink:actuate=\"onRequest\" xlink:href=\"psysml:2f015e6c-7efc-43fd-92bb-26e8cb5e6a22\" xlink:show=\"new\" xlink:title=\"psysml:2f015e6c-7efc-43fd-92bb-26e8cb5e6a22\" xlink:type=\"simple\"><path d=\"M228.16,124.59 C239.77,133.52 254.5,144.61 268,154 C288.49,168.25 311.59,183.24 331.62,195.91 \" fill=\"none\" id=\"E10-&gt;E3\" style=\"stroke: #383838; stroke-width: 1.0;\"/><polygon fill=\"#FFFFFF\" points=\"348.64,206.57,328.825,202.403,336.2647,190.5434,348.64,206.57\" style=\"stroke: #383838; stroke-width: 1.0;\"/><ellipse cx=\"325.0592\" cy=\"197.6797\" fill=\"#383838\" rx=\"2\" ry=\"2\" style=\"stroke: #383838; stroke-width: 1.0;\"/><ellipse cx=\"330.3733\" cy=\"189.2086\" fill=\"#383838\" rx=\"2\" ry=\"2\" style=\"stroke: #383838; stroke-width: 1.0;\"/></a><!--MD5=[07b77f6f309248d16187045709d1c26e]\n",
       "link E11 to E5--><a href=\"psysml:7cf9fed8-155f-433e-a01b-9d13c54aa089\" target=\"_top\" title=\"psysml:7cf9fed8-155f-433e-a01b-9d13c54aa089\" xlink:actuate=\"onRequest\" xlink:href=\"psysml:7cf9fed8-155f-433e-a01b-9d13c54aa089\" xlink:show=\"new\" xlink:title=\"psysml:7cf9fed8-155f-433e-a01b-9d13c54aa089\" xlink:type=\"simple\"><path d=\"M130,130.1 C130,145.37 130,166.16 130,184.57 \" fill=\"none\" id=\"E11-&gt;E5\" style=\"stroke: #383838; stroke-width: 1.0;\"/><polygon fill=\"#FFFFFF\" points=\"130,204.61,123,185.61,137,185.61,130,204.61\" style=\"stroke: #383838; stroke-width: 1.0;\"/><ellipse cx=\"125\" cy=\"179.91\" fill=\"#383838\" rx=\"2\" ry=\"2\" style=\"stroke: #383838; stroke-width: 1.0;\"/><ellipse cx=\"135\" cy=\"179.91\" fill=\"#383838\" rx=\"2\" ry=\"2\" style=\"stroke: #383838; stroke-width: 1.0;\"/></a><!--MD5=[39f41a0e550fb3d73b4d8135617e30a2]\n",
       "link E12 to E3--><a href=\"psysml:2b9be10b-590f-4358-bedf-a86ab0ed6bce\" target=\"_top\" title=\"psysml:2b9be10b-590f-4358-bedf-a86ab0ed6bce\" xlink:actuate=\"onRequest\" xlink:href=\"psysml:2b9be10b-590f-4358-bedf-a86ab0ed6bce\" xlink:show=\"new\" xlink:title=\"psysml:2b9be10b-590f-4358-bedf-a86ab0ed6bce\" xlink:type=\"simple\"><path d=\"M444.7,130.1 C434.28,146.2 419.89,168.44 407.53,187.55 \" fill=\"none\" id=\"E12-&gt;E3\" style=\"stroke: #383838; stroke-width: 1.0;\"/><polygon fill=\"#FFFFFF\" points=\"396.49,204.61,400.9313,184.8546,412.6866,192.4581,396.49,204.61\" style=\"stroke: #383838; stroke-width: 1.0;\"/><ellipse cx=\"405.7063\" cy=\"181.1547\" fill=\"#383838\" rx=\"2\" ry=\"2\" style=\"stroke: #383838; stroke-width: 1.0;\"/><ellipse cx=\"414.103\" cy=\"186.5858\" fill=\"#383838\" rx=\"2\" ry=\"2\" style=\"stroke: #383838; stroke-width: 1.0;\"/></a><!--MD5=[066b2d8af59fea80ccdb3d54ad5c1091]\n",
       "link E13 to E5--><a href=\"psysml:78896435-f936-4df6-9172-2ff6f9da23d9\" target=\"_top\" title=\"psysml:78896435-f936-4df6-9172-2ff6f9da23d9\" xlink:actuate=\"onRequest\" xlink:href=\"psysml:78896435-f936-4df6-9172-2ff6f9da23d9\" xlink:show=\"new\" xlink:title=\"psysml:78896435-f936-4df6-9172-2ff6f9da23d9\" xlink:type=\"simple\"><path d=\"M67.3,130.1 C77.72,146.2 92.11,168.44 104.47,187.55 \" fill=\"none\" id=\"E13-&gt;E5\" style=\"stroke: #383838; stroke-width: 1.0;\"/><polygon fill=\"#FFFFFF\" points=\"115.51,204.61,99.3134,192.4581,111.0687,184.8546,115.51,204.61\" style=\"stroke: #383838; stroke-width: 1.0;\"/><ellipse cx=\"97.897\" cy=\"186.5858\" fill=\"#383838\" rx=\"2\" ry=\"2\" style=\"stroke: #383838; stroke-width: 1.0;\"/><ellipse cx=\"106.2937\" cy=\"181.1547\" fill=\"#383838\" rx=\"2\" ry=\"2\" style=\"stroke: #383838; stroke-width: 1.0;\"/></a><!--MD5=[83293b11f3890e636a559b4687e1d887]\n",
       "@startuml\r\n",
       "skinparam monochrome true\r\n",
       "skinparam classbackgroundcolor white\r\n",
       "skinparam shadowing false\r\n",
       "skinparam wrapWidth 300\r\n",
       "hide circle\r\n",
       "\r\n",
       "package \"CircularImport\" as E1  [[psysml:33738fcf-e3ee-4a7e-98d6-e975d5107ba1 ]]  {\r\n",
       "package \"P1\" as E2  [[psysml:130ef6c7-3ccc-43b9-a62a-eb926cce14a9 ]]  {\r\n",
       "comp def \"A\" as E3  <<(T,blue) part def>> [[psysml:cb0f7157-438a-4ad5-8a96-0def6a248a5a ]] {\r\n",
       "}\r\n",
       "}\r\n",
       "package \"P2\" as E4  [[psysml:0bc4dbd6-620a-45b9-8d32-94753792e496 ]]  {\r\n",
       "comp def \"B\" as E5  <<(T,blue) part def>> [[psysml:fa716e5d-1985-44ef-b151-4b2b4c0691ed ]] {\r\n",
       "}\r\n",
       "}\r\n",
       "package \"Test1\" as E6  [[psysml:b4043d48-e2a3-4796-9568-6bbff931ebfd ]]  {\r\n",
       "comp usage \"x: A\" as E7  <<(T,blue) part>> [[psysml:418b0add-8d91-4a6d-810e-c529e1e5d9c2 ]] {\r\n",
       "}\r\n",
       "comp usage \"y: B\" as E8  <<(T,blue) part>> [[psysml:c18479a8-8a5a-4a0f-a7e4-033b0648dafb ]] {\r\n",
       "}\r\n",
       "E7 - -:|> E3 [[psysml:c27725e1-02a3-443e-822c-73205e66e264 ]] \r\n",
       "E8 - -:|> E5 [[psysml:43ceeb8e-eeaf-4aa9-b958-61b6f980f202 ]] \r\n",
       "}\r\n",
       "package \"Test2\" as E9  [[psysml:85a9df72-6515-46a6-853d-c4da844a4980 ]]  {\r\n",
       "comp usage \"x: A\" as E10  <<(T,blue) part>> [[psysml:61feb9d5-4074-478e-84bb-b7eccf03922b ]] {\r\n",
       "}\r\n",
       "comp usage \"y: B\" as E11  <<(T,blue) part>> [[psysml:2edd355f-e967-45cc-82fe-80091bb729bd ]] {\r\n",
       "}\r\n",
       "E10 - -:|> E3 [[psysml:2f015e6c-7efc-43fd-92bb-26e8cb5e6a22 ]] \r\n",
       "E11 - -:|> E5 [[psysml:7cf9fed8-155f-433e-a01b-9d13c54aa089 ]] \r\n",
       "}\r\n",
       "comp usage \"x: A\" as E12  <<(T,blue) part>> [[psysml:530a6ae9-7dc1-4851-ab10-936e92c948f7 ]] {\r\n",
       "}\r\n",
       "comp usage \"y: B\" as E13  <<(T,blue) part>> [[psysml:561bfa55-252f-4783-9fb1-458618dbf236 ]] {\r\n",
       "}\r\n",
       "E12 - -:|> E3 [[psysml:2b9be10b-590f-4358-bedf-a86ab0ed6bce ]] \r\n",
       "E13 - -:|> E5 [[psysml:78896435-f936-4df6-9172-2ff6f9da23d9 ]] \r\n",
       "}\r\n",
       "@enduml\r\n",
       "\n",
       "PlantUML version 1.2020.13(Sat Jun 13 12:26:38 UTC 2020)\n",
       "(EPL source distribution)\n",
       "Java Runtime: OpenJDK Runtime Environment\n",
       "JVM: OpenJDK 64-Bit Server VM\n",
       "Default Encoding: UTF-8\n",
       "Language: en\n",
       "Country: null\n",
       "--></g></svg>"
      ]
     },
     "execution_count": 37,
     "metadata": {},
     "output_type": "execute_result"
    }
   ],
   "source": [
    "%viz --style=\"DEFAULT\" --view=\"Default\" \"CircularImport\""
   ]
  },
  {
   "cell_type": "code",
   "execution_count": 38,
   "id": "fb566c47",
   "metadata": {
    "execution": {
     "iopub.execute_input": "2021-06-30T09:15:12.126550Z",
     "iopub.status.busy": "2021-06-30T09:15:12.125439Z",
     "iopub.status.idle": "2021-06-30T09:15:12.227705Z",
     "shell.execute_reply": "2021-06-30T09:15:12.227018Z"
    }
   },
   "outputs": [
    {
     "data": {
      "image/svg+xml": [
       "<?xml version=\"1.0\" encoding=\"UTF-8\" standalone=\"no\"?><svg xmlns=\"http://www.w3.org/2000/svg\" xmlns:xlink=\"http://www.w3.org/1999/xlink\" contentScriptType=\"application/ecmascript\" contentStyleType=\"text/css\" height=\"303px\" preserveAspectRatio=\"none\" style=\"width:518px;height:303px;\" version=\"1.1\" viewBox=\"0 0 518 303\" width=\"518px\" zoomAndPan=\"magnify\"><defs/><g><!--MD5=[fbc87193dbaf4d95561dea2c320d4a47]\n",
       "cluster E1--><a href=\"psysml:33738fcf-e3ee-4a7e-98d6-e975d5107ba1\" target=\"_top\" title=\"psysml:33738fcf-e3ee-4a7e-98d6-e975d5107ba1\" xlink:actuate=\"onRequest\" xlink:href=\"psysml:33738fcf-e3ee-4a7e-98d6-e975d5107ba1\" xlink:show=\"new\" xlink:title=\"psysml:33738fcf-e3ee-4a7e-98d6-e975d5107ba1\" xlink:type=\"simple\"><polygon fill=\"#FFFFFF\" points=\"16,6,134,6,141,28.2969,496,28.2969,496,291,16,291,16,6\" style=\"stroke: #000000; stroke-width: 1.5;\"/><line style=\"stroke: #000000; stroke-width: 1.5;\" x1=\"16\" x2=\"141\" y1=\"28.2969\" y2=\"28.2969\"/><text fill=\"#000000\" font-family=\"sans-serif\" font-size=\"14\" font-weight=\"bold\" lengthAdjust=\"spacingAndGlyphs\" textLength=\"112\" x=\"20\" y=\"20.9951\">CircularImport</text></a><!--MD5=[e4f7fae6ed58524ba242bb0b0d3be6b7]\n",
       "cluster E2--><a href=\"psysml:130ef6c7-3ccc-43b9-a62a-eb926cce14a9\" target=\"_top\" title=\"psysml:130ef6c7-3ccc-43b9-a62a-eb926cce14a9\" xlink:actuate=\"onRequest\" xlink:href=\"psysml:130ef6c7-3ccc-43b9-a62a-eb926cce14a9\" xlink:show=\"new\" xlink:title=\"psysml:130ef6c7-3ccc-43b9-a62a-eb926cce14a9\" xlink:type=\"simple\"><polygon fill=\"#FFFFFF\" points=\"333,170,359,170,366,192.2969,431,192.2969,431,267,333,267,333,170\" style=\"stroke: #000000; stroke-width: 1.5;\"/><line style=\"stroke: #000000; stroke-width: 1.5;\" x1=\"333\" x2=\"366\" y1=\"192.2969\" y2=\"192.2969\"/><text fill=\"#000000\" font-family=\"sans-serif\" font-size=\"14\" font-weight=\"bold\" lengthAdjust=\"spacingAndGlyphs\" textLength=\"20\" x=\"337\" y=\"184.9951\">P1</text></a><!--MD5=[f6df4d0ebaf0b5dfb2ced0ae5af7c670]\n",
       "cluster E4--><a href=\"psysml:0bc4dbd6-620a-45b9-8d32-94753792e496\" target=\"_top\" title=\"psysml:0bc4dbd6-620a-45b9-8d32-94753792e496\" xlink:actuate=\"onRequest\" xlink:href=\"psysml:0bc4dbd6-620a-45b9-8d32-94753792e496\" xlink:show=\"new\" xlink:title=\"psysml:0bc4dbd6-620a-45b9-8d32-94753792e496\" xlink:type=\"simple\"><polygon fill=\"#FFFFFF\" points=\"81,170,107,170,114,192.2969,179,192.2969,179,267,81,267,81,170\" style=\"stroke: #000000; stroke-width: 1.5;\"/><line style=\"stroke: #000000; stroke-width: 1.5;\" x1=\"81\" x2=\"114\" y1=\"192.2969\" y2=\"192.2969\"/><text fill=\"#000000\" font-family=\"sans-serif\" font-size=\"14\" font-weight=\"bold\" lengthAdjust=\"spacingAndGlyphs\" textLength=\"20\" x=\"85\" y=\"184.9951\">P2</text></a><!--MD5=[14e3b0961a2654348d326746436168a1]\n",
       "cluster E6--><a href=\"psysml:b4043d48-e2a3-4796-9568-6bbff931ebfd\" target=\"_top\" title=\"psysml:b4043d48-e2a3-4796-9568-6bbff931ebfd\" xlink:actuate=\"onRequest\" xlink:href=\"psysml:b4043d48-e2a3-4796-9568-6bbff931ebfd\" xlink:show=\"new\" xlink:title=\"psysml:b4043d48-e2a3-4796-9568-6bbff931ebfd\" xlink:type=\"simple\"><polygon fill=\"#FFFFFF\" points=\"268,49,319,49,326,71.2969,419,71.2969,419,146,268,146,268,49\" style=\"stroke: #000000; stroke-width: 1.5;\"/><line style=\"stroke: #000000; stroke-width: 1.5;\" x1=\"268\" x2=\"326\" y1=\"71.2969\" y2=\"71.2969\"/><text fill=\"#000000\" font-family=\"sans-serif\" font-size=\"14\" font-weight=\"bold\" lengthAdjust=\"spacingAndGlyphs\" textLength=\"45\" x=\"272\" y=\"63.9951\">Test1</text></a><!--MD5=[7f149f147074ac12df2cb0a7728a5fb0]\n",
       "cluster E9--><a href=\"psysml:85a9df72-6515-46a6-853d-c4da844a4980\" target=\"_top\" title=\"psysml:85a9df72-6515-46a6-853d-c4da844a4980\" xlink:actuate=\"onRequest\" xlink:href=\"psysml:85a9df72-6515-46a6-853d-c4da844a4980\" xlink:show=\"new\" xlink:title=\"psysml:85a9df72-6515-46a6-853d-c4da844a4980\" xlink:type=\"simple\"><polygon fill=\"#FFFFFF\" points=\"93,49,144,49,151,71.2969,244,71.2969,244,146,93,146,93,49\" style=\"stroke: #000000; stroke-width: 1.5;\"/><line style=\"stroke: #000000; stroke-width: 1.5;\" x1=\"93\" x2=\"151\" y1=\"71.2969\" y2=\"71.2969\"/><text fill=\"#000000\" font-family=\"sans-serif\" font-size=\"14\" font-weight=\"bold\" lengthAdjust=\"spacingAndGlyphs\" textLength=\"45\" x=\"97\" y=\"63.9951\">Test2</text></a><!--MD5=[49a0ec8f00dab7302a31f22d0f0fe584]\n",
       "class E12--><a href=\"psysml:530a6ae9-7dc1-4851-ab10-936e92c948f7\" target=\"_top\" title=\"psysml:530a6ae9-7dc1-4851-ab10-936e92c948f7\" xlink:actuate=\"onRequest\" xlink:href=\"psysml:530a6ae9-7dc1-4851-ab10-936e92c948f7\" xlink:show=\"new\" xlink:title=\"psysml:530a6ae9-7dc1-4851-ab10-936e92c948f7\" xlink:type=\"simple\"><rect fill=\"#FFFFFF\" height=\"45.9375\" id=\"E12\" rx=\"10\" ry=\"10\" style=\"stroke: #383838; stroke-width: 1.5;\" width=\"42\" x=\"438\" y=\"84\"/><text fill=\"#000000\" font-family=\"sans-serif\" font-size=\"12\" font-style=\"italic\" lengthAdjust=\"spacingAndGlyphs\" textLength=\"40\" x=\"439\" y=\"100.1387\">«part»</text><text fill=\"#000000\" font-family=\"sans-serif\" font-size=\"12\" lengthAdjust=\"spacingAndGlyphs\" textLength=\"22\" x=\"448\" y=\"114.1074\">x: A</text><line style=\"stroke: #383838; stroke-width: 1.5;\" x1=\"439\" x2=\"479\" y1=\"121.9375\" y2=\"121.9375\"/></a><!--MD5=[ee3c913d1a06f366521f9ef512b67efe]\n",
       "class E13--><a href=\"psysml:561bfa55-252f-4783-9fb1-458618dbf236\" target=\"_top\" title=\"psysml:561bfa55-252f-4783-9fb1-458618dbf236\" xlink:actuate=\"onRequest\" xlink:href=\"psysml:561bfa55-252f-4783-9fb1-458618dbf236\" xlink:show=\"new\" xlink:title=\"psysml:561bfa55-252f-4783-9fb1-458618dbf236\" xlink:type=\"simple\"><rect fill=\"#FFFFFF\" height=\"45.9375\" id=\"E13\" rx=\"10\" ry=\"10\" style=\"stroke: #383838; stroke-width: 1.5;\" width=\"42\" x=\"32\" y=\"84\"/><text fill=\"#000000\" font-family=\"sans-serif\" font-size=\"12\" font-style=\"italic\" lengthAdjust=\"spacingAndGlyphs\" textLength=\"40\" x=\"33\" y=\"100.1387\">«part»</text><text fill=\"#000000\" font-family=\"sans-serif\" font-size=\"12\" lengthAdjust=\"spacingAndGlyphs\" textLength=\"22\" x=\"42\" y=\"114.1074\">y: B</text><line style=\"stroke: #383838; stroke-width: 1.5;\" x1=\"33\" x2=\"73\" y1=\"121.9375\" y2=\"121.9375\"/></a><!--MD5=[09b614a08d8cba4a07c9adeb5e0fee81]\n",
       "class E3--><a href=\"psysml:cb0f7157-438a-4ad5-8a96-0def6a248a5a\" target=\"_top\" title=\"psysml:cb0f7157-438a-4ad5-8a96-0def6a248a5a\" xlink:actuate=\"onRequest\" xlink:href=\"psysml:cb0f7157-438a-4ad5-8a96-0def6a248a5a\" xlink:show=\"new\" xlink:title=\"psysml:cb0f7157-438a-4ad5-8a96-0def6a248a5a\" xlink:type=\"simple\"><rect fill=\"#FFFFFF\" height=\"45.9375\" id=\"E3\" style=\"stroke: #383838; stroke-width: 1.5;\" width=\"66\" x=\"349\" y=\"205\"/><text fill=\"#000000\" font-family=\"sans-serif\" font-size=\"12\" font-style=\"italic\" lengthAdjust=\"spacingAndGlyphs\" textLength=\"64\" x=\"350\" y=\"221.1387\">«part def»</text><text fill=\"#000000\" font-family=\"sans-serif\" font-size=\"12\" lengthAdjust=\"spacingAndGlyphs\" textLength=\"8\" x=\"378\" y=\"235.1074\">A</text><line style=\"stroke: #383838; stroke-width: 1.5;\" x1=\"350\" x2=\"414\" y1=\"242.9375\" y2=\"242.9375\"/></a><!--MD5=[270fce915f116d4de14055a7c1d9a0f3]\n",
       "class E5--><a href=\"psysml:fa716e5d-1985-44ef-b151-4b2b4c0691ed\" target=\"_top\" title=\"psysml:fa716e5d-1985-44ef-b151-4b2b4c0691ed\" xlink:actuate=\"onRequest\" xlink:href=\"psysml:fa716e5d-1985-44ef-b151-4b2b4c0691ed\" xlink:show=\"new\" xlink:title=\"psysml:fa716e5d-1985-44ef-b151-4b2b4c0691ed\" xlink:type=\"simple\"><rect fill=\"#FFFFFF\" height=\"45.9375\" id=\"E5\" style=\"stroke: #383838; stroke-width: 1.5;\" width=\"66\" x=\"97\" y=\"205\"/><text fill=\"#000000\" font-family=\"sans-serif\" font-size=\"12\" font-style=\"italic\" lengthAdjust=\"spacingAndGlyphs\" textLength=\"64\" x=\"98\" y=\"221.1387\">«part def»</text><text fill=\"#000000\" font-family=\"sans-serif\" font-size=\"12\" lengthAdjust=\"spacingAndGlyphs\" textLength=\"8\" x=\"126\" y=\"235.1074\">B</text><line style=\"stroke: #383838; stroke-width: 1.5;\" x1=\"98\" x2=\"162\" y1=\"242.9375\" y2=\"242.9375\"/></a><!--MD5=[2156ba9850f5573cc1fc38a6a4b2f02b]\n",
       "class E7--><a href=\"psysml:418b0add-8d91-4a6d-810e-c529e1e5d9c2\" target=\"_top\" title=\"psysml:418b0add-8d91-4a6d-810e-c529e1e5d9c2\" xlink:actuate=\"onRequest\" xlink:href=\"psysml:418b0add-8d91-4a6d-810e-c529e1e5d9c2\" xlink:show=\"new\" xlink:title=\"psysml:418b0add-8d91-4a6d-810e-c529e1e5d9c2\" xlink:type=\"simple\"><rect fill=\"#FFFFFF\" height=\"45.9375\" id=\"E7\" rx=\"10\" ry=\"10\" style=\"stroke: #383838; stroke-width: 1.5;\" width=\"42\" x=\"361\" y=\"84\"/><text fill=\"#000000\" font-family=\"sans-serif\" font-size=\"12\" font-style=\"italic\" lengthAdjust=\"spacingAndGlyphs\" textLength=\"40\" x=\"362\" y=\"100.1387\">«part»</text><text fill=\"#000000\" font-family=\"sans-serif\" font-size=\"12\" lengthAdjust=\"spacingAndGlyphs\" textLength=\"22\" x=\"371\" y=\"114.1074\">x: A</text><line style=\"stroke: #383838; stroke-width: 1.5;\" x1=\"362\" x2=\"402\" y1=\"121.9375\" y2=\"121.9375\"/></a><!--MD5=[b9389687b975829384b498ac4b7476b2]\n",
       "class E8--><a href=\"psysml:c18479a8-8a5a-4a0f-a7e4-033b0648dafb\" target=\"_top\" title=\"psysml:c18479a8-8a5a-4a0f-a7e4-033b0648dafb\" xlink:actuate=\"onRequest\" xlink:href=\"psysml:c18479a8-8a5a-4a0f-a7e4-033b0648dafb\" xlink:show=\"new\" xlink:title=\"psysml:c18479a8-8a5a-4a0f-a7e4-033b0648dafb\" xlink:type=\"simple\"><rect fill=\"#FFFFFF\" height=\"45.9375\" id=\"E8\" rx=\"10\" ry=\"10\" style=\"stroke: #383838; stroke-width: 1.5;\" width=\"42\" x=\"284\" y=\"84\"/><text fill=\"#000000\" font-family=\"sans-serif\" font-size=\"12\" font-style=\"italic\" lengthAdjust=\"spacingAndGlyphs\" textLength=\"40\" x=\"285\" y=\"100.1387\">«part»</text><text fill=\"#000000\" font-family=\"sans-serif\" font-size=\"12\" lengthAdjust=\"spacingAndGlyphs\" textLength=\"22\" x=\"294\" y=\"114.1074\">y: B</text><line style=\"stroke: #383838; stroke-width: 1.5;\" x1=\"285\" x2=\"325\" y1=\"121.9375\" y2=\"121.9375\"/></a><!--MD5=[96f4274e9e20536e775497830990834d]\n",
       "class E10--><a href=\"psysml:61feb9d5-4074-478e-84bb-b7eccf03922b\" target=\"_top\" title=\"psysml:61feb9d5-4074-478e-84bb-b7eccf03922b\" xlink:actuate=\"onRequest\" xlink:href=\"psysml:61feb9d5-4074-478e-84bb-b7eccf03922b\" xlink:show=\"new\" xlink:title=\"psysml:61feb9d5-4074-478e-84bb-b7eccf03922b\" xlink:type=\"simple\"><rect fill=\"#FFFFFF\" height=\"45.9375\" id=\"E10\" rx=\"10\" ry=\"10\" style=\"stroke: #383838; stroke-width: 1.5;\" width=\"42\" x=\"186\" y=\"84\"/><text fill=\"#000000\" font-family=\"sans-serif\" font-size=\"12\" font-style=\"italic\" lengthAdjust=\"spacingAndGlyphs\" textLength=\"40\" x=\"187\" y=\"100.1387\">«part»</text><text fill=\"#000000\" font-family=\"sans-serif\" font-size=\"12\" lengthAdjust=\"spacingAndGlyphs\" textLength=\"22\" x=\"196\" y=\"114.1074\">x: A</text><line style=\"stroke: #383838; stroke-width: 1.5;\" x1=\"187\" x2=\"227\" y1=\"121.9375\" y2=\"121.9375\"/></a><!--MD5=[1dd1bfd58a279cf63c5f349dbc8fc6a1]\n",
       "class E11--><a href=\"psysml:2edd355f-e967-45cc-82fe-80091bb729bd\" target=\"_top\" title=\"psysml:2edd355f-e967-45cc-82fe-80091bb729bd\" xlink:actuate=\"onRequest\" xlink:href=\"psysml:2edd355f-e967-45cc-82fe-80091bb729bd\" xlink:show=\"new\" xlink:title=\"psysml:2edd355f-e967-45cc-82fe-80091bb729bd\" xlink:type=\"simple\"><rect fill=\"#FFFFFF\" height=\"45.9375\" id=\"E11\" rx=\"10\" ry=\"10\" style=\"stroke: #383838; stroke-width: 1.5;\" width=\"42\" x=\"109\" y=\"84\"/><text fill=\"#000000\" font-family=\"sans-serif\" font-size=\"12\" font-style=\"italic\" lengthAdjust=\"spacingAndGlyphs\" textLength=\"40\" x=\"110\" y=\"100.1387\">«part»</text><text fill=\"#000000\" font-family=\"sans-serif\" font-size=\"12\" lengthAdjust=\"spacingAndGlyphs\" textLength=\"22\" x=\"119\" y=\"114.1074\">y: B</text><line style=\"stroke: #383838; stroke-width: 1.5;\" x1=\"110\" x2=\"150\" y1=\"121.9375\" y2=\"121.9375\"/></a><!--MD5=[14ccda38c055a5c0da953d572bc50960]\n",
       "link E7 to E3--><a href=\"psysml:c27725e1-02a3-443e-822c-73205e66e264\" target=\"_top\" title=\"psysml:c27725e1-02a3-443e-822c-73205e66e264\" xlink:actuate=\"onRequest\" xlink:href=\"psysml:c27725e1-02a3-443e-822c-73205e66e264\" xlink:show=\"new\" xlink:title=\"psysml:c27725e1-02a3-443e-822c-73205e66e264\" xlink:type=\"simple\"><path d=\"M382,130.1 C382,145.37 382,166.16 382,184.57 \" fill=\"none\" id=\"E7-&gt;E3\" style=\"stroke: #383838; stroke-width: 1.0;\"/><polygon fill=\"#FFFFFF\" points=\"382,204.61,375,185.61,389,185.61,382,204.61\" style=\"stroke: #383838; stroke-width: 1.0;\"/><ellipse cx=\"377\" cy=\"179.91\" fill=\"#383838\" rx=\"2\" ry=\"2\" style=\"stroke: #383838; stroke-width: 1.0;\"/><ellipse cx=\"387\" cy=\"179.91\" fill=\"#383838\" rx=\"2\" ry=\"2\" style=\"stroke: #383838; stroke-width: 1.0;\"/></a><!--MD5=[1ccb2481ffa92f8d51a74ee30c51832a]\n",
       "link E8 to E5--><a href=\"psysml:43ceeb8e-eeaf-4aa9-b958-61b6f980f202\" target=\"_top\" title=\"psysml:43ceeb8e-eeaf-4aa9-b958-61b6f980f202\" xlink:actuate=\"onRequest\" xlink:href=\"psysml:43ceeb8e-eeaf-4aa9-b958-61b6f980f202\" xlink:show=\"new\" xlink:title=\"psysml:43ceeb8e-eeaf-4aa9-b958-61b6f980f202\" xlink:type=\"simple\"><path d=\"M283.84,124.59 C272.23,133.52 257.5,144.61 244,154 C223.51,168.25 200.41,183.24 180.38,195.91 \" fill=\"none\" id=\"E8-&gt;E5\" style=\"stroke: #383838; stroke-width: 1.0;\"/><polygon fill=\"#FFFFFF\" points=\"163.36,206.57,175.7353,190.5434,183.175,202.403,163.36,206.57\" style=\"stroke: #383838; stroke-width: 1.0;\"/><ellipse cx=\"181.6267\" cy=\"189.2086\" fill=\"#383838\" rx=\"2\" ry=\"2\" style=\"stroke: #383838; stroke-width: 1.0;\"/><ellipse cx=\"186.9408\" cy=\"197.6797\" fill=\"#383838\" rx=\"2\" ry=\"2\" style=\"stroke: #383838; stroke-width: 1.0;\"/></a><!--MD5=[feeac5eb423634930294aa81f2d25a4c]\n",
       "link E10 to E3--><a href=\"psysml:2f015e6c-7efc-43fd-92bb-26e8cb5e6a22\" target=\"_top\" title=\"psysml:2f015e6c-7efc-43fd-92bb-26e8cb5e6a22\" xlink:actuate=\"onRequest\" xlink:href=\"psysml:2f015e6c-7efc-43fd-92bb-26e8cb5e6a22\" xlink:show=\"new\" xlink:title=\"psysml:2f015e6c-7efc-43fd-92bb-26e8cb5e6a22\" xlink:type=\"simple\"><path d=\"M228.16,124.59 C239.77,133.52 254.5,144.61 268,154 C288.49,168.25 311.59,183.24 331.62,195.91 \" fill=\"none\" id=\"E10-&gt;E3\" style=\"stroke: #383838; stroke-width: 1.0;\"/><polygon fill=\"#FFFFFF\" points=\"348.64,206.57,328.825,202.403,336.2647,190.5434,348.64,206.57\" style=\"stroke: #383838; stroke-width: 1.0;\"/><ellipse cx=\"325.0592\" cy=\"197.6797\" fill=\"#383838\" rx=\"2\" ry=\"2\" style=\"stroke: #383838; stroke-width: 1.0;\"/><ellipse cx=\"330.3733\" cy=\"189.2086\" fill=\"#383838\" rx=\"2\" ry=\"2\" style=\"stroke: #383838; stroke-width: 1.0;\"/></a><!--MD5=[07b77f6f309248d16187045709d1c26e]\n",
       "link E11 to E5--><a href=\"psysml:7cf9fed8-155f-433e-a01b-9d13c54aa089\" target=\"_top\" title=\"psysml:7cf9fed8-155f-433e-a01b-9d13c54aa089\" xlink:actuate=\"onRequest\" xlink:href=\"psysml:7cf9fed8-155f-433e-a01b-9d13c54aa089\" xlink:show=\"new\" xlink:title=\"psysml:7cf9fed8-155f-433e-a01b-9d13c54aa089\" xlink:type=\"simple\"><path d=\"M130,130.1 C130,145.37 130,166.16 130,184.57 \" fill=\"none\" id=\"E11-&gt;E5\" style=\"stroke: #383838; stroke-width: 1.0;\"/><polygon fill=\"#FFFFFF\" points=\"130,204.61,123,185.61,137,185.61,130,204.61\" style=\"stroke: #383838; stroke-width: 1.0;\"/><ellipse cx=\"125\" cy=\"179.91\" fill=\"#383838\" rx=\"2\" ry=\"2\" style=\"stroke: #383838; stroke-width: 1.0;\"/><ellipse cx=\"135\" cy=\"179.91\" fill=\"#383838\" rx=\"2\" ry=\"2\" style=\"stroke: #383838; stroke-width: 1.0;\"/></a><!--MD5=[39f41a0e550fb3d73b4d8135617e30a2]\n",
       "link E12 to E3--><a href=\"psysml:2b9be10b-590f-4358-bedf-a86ab0ed6bce\" target=\"_top\" title=\"psysml:2b9be10b-590f-4358-bedf-a86ab0ed6bce\" xlink:actuate=\"onRequest\" xlink:href=\"psysml:2b9be10b-590f-4358-bedf-a86ab0ed6bce\" xlink:show=\"new\" xlink:title=\"psysml:2b9be10b-590f-4358-bedf-a86ab0ed6bce\" xlink:type=\"simple\"><path d=\"M444.7,130.1 C434.28,146.2 419.89,168.44 407.53,187.55 \" fill=\"none\" id=\"E12-&gt;E3\" style=\"stroke: #383838; stroke-width: 1.0;\"/><polygon fill=\"#FFFFFF\" points=\"396.49,204.61,400.9313,184.8546,412.6866,192.4581,396.49,204.61\" style=\"stroke: #383838; stroke-width: 1.0;\"/><ellipse cx=\"405.7063\" cy=\"181.1547\" fill=\"#383838\" rx=\"2\" ry=\"2\" style=\"stroke: #383838; stroke-width: 1.0;\"/><ellipse cx=\"414.103\" cy=\"186.5858\" fill=\"#383838\" rx=\"2\" ry=\"2\" style=\"stroke: #383838; stroke-width: 1.0;\"/></a><!--MD5=[066b2d8af59fea80ccdb3d54ad5c1091]\n",
       "link E13 to E5--><a href=\"psysml:78896435-f936-4df6-9172-2ff6f9da23d9\" target=\"_top\" title=\"psysml:78896435-f936-4df6-9172-2ff6f9da23d9\" xlink:actuate=\"onRequest\" xlink:href=\"psysml:78896435-f936-4df6-9172-2ff6f9da23d9\" xlink:show=\"new\" xlink:title=\"psysml:78896435-f936-4df6-9172-2ff6f9da23d9\" xlink:type=\"simple\"><path d=\"M67.3,130.1 C77.72,146.2 92.11,168.44 104.47,187.55 \" fill=\"none\" id=\"E13-&gt;E5\" style=\"stroke: #383838; stroke-width: 1.0;\"/><polygon fill=\"#FFFFFF\" points=\"115.51,204.61,99.3134,192.4581,111.0687,184.8546,115.51,204.61\" style=\"stroke: #383838; stroke-width: 1.0;\"/><ellipse cx=\"97.897\" cy=\"186.5858\" fill=\"#383838\" rx=\"2\" ry=\"2\" style=\"stroke: #383838; stroke-width: 1.0;\"/><ellipse cx=\"106.2937\" cy=\"181.1547\" fill=\"#383838\" rx=\"2\" ry=\"2\" style=\"stroke: #383838; stroke-width: 1.0;\"/></a><!--MD5=[83293b11f3890e636a559b4687e1d887]\n",
       "@startuml\r\n",
       "skinparam monochrome true\r\n",
       "skinparam classbackgroundcolor white\r\n",
       "skinparam shadowing false\r\n",
       "skinparam wrapWidth 300\r\n",
       "hide circle\r\n",
       "\r\n",
       "package \"CircularImport\" as E1  [[psysml:33738fcf-e3ee-4a7e-98d6-e975d5107ba1 ]]  {\r\n",
       "package \"P1\" as E2  [[psysml:130ef6c7-3ccc-43b9-a62a-eb926cce14a9 ]]  {\r\n",
       "comp def \"A\" as E3  <<(T,blue) part def>> [[psysml:cb0f7157-438a-4ad5-8a96-0def6a248a5a ]] {\r\n",
       "}\r\n",
       "}\r\n",
       "package \"P2\" as E4  [[psysml:0bc4dbd6-620a-45b9-8d32-94753792e496 ]]  {\r\n",
       "comp def \"B\" as E5  <<(T,blue) part def>> [[psysml:fa716e5d-1985-44ef-b151-4b2b4c0691ed ]] {\r\n",
       "}\r\n",
       "}\r\n",
       "package \"Test1\" as E6  [[psysml:b4043d48-e2a3-4796-9568-6bbff931ebfd ]]  {\r\n",
       "comp usage \"x: A\" as E7  <<(T,blue) part>> [[psysml:418b0add-8d91-4a6d-810e-c529e1e5d9c2 ]] {\r\n",
       "}\r\n",
       "comp usage \"y: B\" as E8  <<(T,blue) part>> [[psysml:c18479a8-8a5a-4a0f-a7e4-033b0648dafb ]] {\r\n",
       "}\r\n",
       "E7 - -:|> E3 [[psysml:c27725e1-02a3-443e-822c-73205e66e264 ]] \r\n",
       "E8 - -:|> E5 [[psysml:43ceeb8e-eeaf-4aa9-b958-61b6f980f202 ]] \r\n",
       "}\r\n",
       "package \"Test2\" as E9  [[psysml:85a9df72-6515-46a6-853d-c4da844a4980 ]]  {\r\n",
       "comp usage \"x: A\" as E10  <<(T,blue) part>> [[psysml:61feb9d5-4074-478e-84bb-b7eccf03922b ]] {\r\n",
       "}\r\n",
       "comp usage \"y: B\" as E11  <<(T,blue) part>> [[psysml:2edd355f-e967-45cc-82fe-80091bb729bd ]] {\r\n",
       "}\r\n",
       "E10 - -:|> E3 [[psysml:2f015e6c-7efc-43fd-92bb-26e8cb5e6a22 ]] \r\n",
       "E11 - -:|> E5 [[psysml:7cf9fed8-155f-433e-a01b-9d13c54aa089 ]] \r\n",
       "}\r\n",
       "comp usage \"x: A\" as E12  <<(T,blue) part>> [[psysml:530a6ae9-7dc1-4851-ab10-936e92c948f7 ]] {\r\n",
       "}\r\n",
       "comp usage \"y: B\" as E13  <<(T,blue) part>> [[psysml:561bfa55-252f-4783-9fb1-458618dbf236 ]] {\r\n",
       "}\r\n",
       "E12 - -:|> E3 [[psysml:2b9be10b-590f-4358-bedf-a86ab0ed6bce ]] \r\n",
       "E13 - -:|> E5 [[psysml:78896435-f936-4df6-9172-2ff6f9da23d9 ]] \r\n",
       "}\r\n",
       "@enduml\r\n",
       "\n",
       "PlantUML version 1.2020.13(Sat Jun 13 12:26:38 UTC 2020)\n",
       "(EPL source distribution)\n",
       "Java Runtime: OpenJDK Runtime Environment\n",
       "JVM: OpenJDK 64-Bit Server VM\n",
       "Default Encoding: UTF-8\n",
       "Language: en\n",
       "Country: null\n",
       "--></g></svg>"
      ]
     },
     "execution_count": 38,
     "metadata": {},
     "output_type": "execute_result"
    }
   ],
   "source": [
    "%viz --style=\"DEFAULT\" --view=\"Tree\" \"CircularImport\""
   ]
  },
  {
   "cell_type": "code",
   "execution_count": 39,
   "id": "fb773df8",
   "metadata": {
    "execution": {
     "iopub.execute_input": "2021-06-30T09:15:12.278419Z",
     "iopub.status.busy": "2021-06-30T09:15:12.277314Z",
     "iopub.status.idle": "2021-06-30T09:15:12.284875Z",
     "shell.execute_reply": "2021-06-30T09:15:12.284345Z"
    }
   },
   "outputs": [
    {
     "data": {
      "image/svg+xml": [
       "<?xml version=\"1.0\" encoding=\"UTF-8\" standalone=\"no\"?><svg xmlns=\"http://www.w3.org/2000/svg\" xmlns:xlink=\"http://www.w3.org/1999/xlink\" contentScriptType=\"application/ecmascript\" contentStyleType=\"text/css\" height=\"12px\" preserveAspectRatio=\"none\" style=\"width:12px;height:12px;\" version=\"1.1\" viewBox=\"0 0 12 12\" width=\"12px\" zoomAndPan=\"magnify\"><defs/><g><!--MD5=[c5f280e076d0d61ccf4b0f27871bda1d]\n",
       "@startuml\r\n",
       "skinparam monochrome true\r\n",
       "skinparam classbackgroundcolor white\r\n",
       "skinparam shadowing false\r\n",
       "skinparam wrapWidth 300\r\n",
       "hide circle\r\n",
       "\r\n",
       "@enduml\r\n",
       "\n",
       "PlantUML version 1.2020.13(Sat Jun 13 12:26:38 UTC 2020)\n",
       "(EPL source distribution)\n",
       "Java Runtime: OpenJDK Runtime Environment\n",
       "JVM: OpenJDK 64-Bit Server VM\n",
       "Default Encoding: UTF-8\n",
       "Language: en\n",
       "Country: null\n",
       "--></g></svg>"
      ]
     },
     "execution_count": 39,
     "metadata": {},
     "output_type": "execute_result"
    }
   ],
   "source": [
    "%viz --style=\"DEFAULT\" --view=\"State\" \"CircularImport\""
   ]
  },
  {
   "cell_type": "code",
   "execution_count": 40,
   "id": "68cf1cc7",
   "metadata": {
    "execution": {
     "iopub.execute_input": "2021-06-30T09:15:12.336623Z",
     "iopub.status.busy": "2021-06-30T09:15:12.335776Z",
     "iopub.status.idle": "2021-06-30T09:15:12.383912Z",
     "shell.execute_reply": "2021-06-30T09:15:12.383277Z"
    }
   },
   "outputs": [
    {
     "data": {
      "image/svg+xml": [
       "<?xml version=\"1.0\" encoding=\"UTF-8\" standalone=\"no\"?><svg xmlns=\"http://www.w3.org/2000/svg\" xmlns:xlink=\"http://www.w3.org/1999/xlink\" contentScriptType=\"application/ecmascript\" contentStyleType=\"text/css\" height=\"179px\" preserveAspectRatio=\"none\" style=\"width:846px;height:179px;\" version=\"1.1\" viewBox=\"0 0 846 179\" width=\"846px\" zoomAndPan=\"magnify\"><defs/><g><!--MD5=[fbc87193dbaf4d95561dea2c320d4a47]\n",
       "cluster E1--><a href=\"psysml:33738fcf-e3ee-4a7e-98d6-e975d5107ba1\" target=\"_top\" title=\"psysml:33738fcf-e3ee-4a7e-98d6-e975d5107ba1\" xlink:actuate=\"onRequest\" xlink:href=\"psysml:33738fcf-e3ee-4a7e-98d6-e975d5107ba1\" xlink:show=\"new\" xlink:title=\"psysml:33738fcf-e3ee-4a7e-98d6-e975d5107ba1\" xlink:type=\"simple\"><polygon fill=\"#FFFFFF\" points=\"16,6,134,6,141,28.2969,824,28.2969,824,167,16,167,16,6\" style=\"stroke: #000000; stroke-width: 1.5;\"/><line style=\"stroke: #000000; stroke-width: 1.5;\" x1=\"16\" x2=\"141\" y1=\"28.2969\" y2=\"28.2969\"/><text fill=\"#000000\" font-family=\"sans-serif\" font-size=\"14\" font-weight=\"bold\" lengthAdjust=\"spacingAndGlyphs\" textLength=\"112\" x=\"20\" y=\"20.9951\">CircularImport</text></a><!--MD5=[e4f7fae6ed58524ba242bb0b0d3be6b7]\n",
       "cluster E2--><a href=\"psysml:130ef6c7-3ccc-43b9-a62a-eb926cce14a9\" target=\"_top\" title=\"psysml:130ef6c7-3ccc-43b9-a62a-eb926cce14a9\" xlink:actuate=\"onRequest\" xlink:href=\"psysml:130ef6c7-3ccc-43b9-a62a-eb926cce14a9\" xlink:show=\"new\" xlink:title=\"psysml:130ef6c7-3ccc-43b9-a62a-eb926cce14a9\" xlink:type=\"simple\"><polygon fill=\"#FFFFFF\" points=\"696,49,722,49,729,71.2969,800,71.2969,800,143,696,143,696,49\" style=\"stroke: #000000; stroke-width: 1.5;\"/><line style=\"stroke: #000000; stroke-width: 1.5;\" x1=\"696\" x2=\"729\" y1=\"71.2969\" y2=\"71.2969\"/><text fill=\"#000000\" font-family=\"sans-serif\" font-size=\"14\" font-weight=\"bold\" lengthAdjust=\"spacingAndGlyphs\" textLength=\"20\" x=\"700\" y=\"63.9951\">P1</text></a><!--MD5=[f6df4d0ebaf0b5dfb2ced0ae5af7c670]\n",
       "cluster E4--><a href=\"psysml:0bc4dbd6-620a-45b9-8d32-94753792e496\" target=\"_top\" title=\"psysml:0bc4dbd6-620a-45b9-8d32-94753792e496\" xlink:actuate=\"onRequest\" xlink:href=\"psysml:0bc4dbd6-620a-45b9-8d32-94753792e496\" xlink:show=\"new\" xlink:title=\"psysml:0bc4dbd6-620a-45b9-8d32-94753792e496\" xlink:type=\"simple\"><polygon fill=\"#FFFFFF\" points=\"568,49,594,49,601,71.2969,672,71.2969,672,143,568,143,568,49\" style=\"stroke: #000000; stroke-width: 1.5;\"/><line style=\"stroke: #000000; stroke-width: 1.5;\" x1=\"568\" x2=\"601\" y1=\"71.2969\" y2=\"71.2969\"/><text fill=\"#000000\" font-family=\"sans-serif\" font-size=\"14\" font-weight=\"bold\" lengthAdjust=\"spacingAndGlyphs\" textLength=\"20\" x=\"572\" y=\"63.9951\">P2</text></a><!--MD5=[14e3b0961a2654348d326746436168a1]\n",
       "cluster E6--><a href=\"psysml:b4043d48-e2a3-4796-9568-6bbff931ebfd\" target=\"_top\" title=\"psysml:b4043d48-e2a3-4796-9568-6bbff931ebfd\" xlink:actuate=\"onRequest\" xlink:href=\"psysml:b4043d48-e2a3-4796-9568-6bbff931ebfd\" xlink:show=\"new\" xlink:title=\"psysml:b4043d48-e2a3-4796-9568-6bbff931ebfd\" xlink:type=\"simple\"><polygon fill=\"#FFFFFF\" points=\"377,50.5,428,50.5,435,72.7969,544,72.7969,544,141.5,377,141.5,377,50.5\" style=\"stroke: #000000; stroke-width: 1.5;\"/><line style=\"stroke: #000000; stroke-width: 1.5;\" x1=\"377\" x2=\"435\" y1=\"72.7969\" y2=\"72.7969\"/><text fill=\"#000000\" font-family=\"sans-serif\" font-size=\"14\" font-weight=\"bold\" lengthAdjust=\"spacingAndGlyphs\" textLength=\"45\" x=\"381\" y=\"65.4951\">Test1</text></a><!--MD5=[7f149f147074ac12df2cb0a7728a5fb0]\n",
       "cluster E9--><a href=\"psysml:85a9df72-6515-46a6-853d-c4da844a4980\" target=\"_top\" title=\"psysml:85a9df72-6515-46a6-853d-c4da844a4980\" xlink:actuate=\"onRequest\" xlink:href=\"psysml:85a9df72-6515-46a6-853d-c4da844a4980\" xlink:show=\"new\" xlink:title=\"psysml:85a9df72-6515-46a6-853d-c4da844a4980\" xlink:type=\"simple\"><polygon fill=\"#FFFFFF\" points=\"186,50.5,237,50.5,244,72.7969,353,72.7969,353,141.5,186,141.5,186,50.5\" style=\"stroke: #000000; stroke-width: 1.5;\"/><line style=\"stroke: #000000; stroke-width: 1.5;\" x1=\"186\" x2=\"244\" y1=\"72.7969\" y2=\"72.7969\"/><text fill=\"#000000\" font-family=\"sans-serif\" font-size=\"14\" font-weight=\"bold\" lengthAdjust=\"spacingAndGlyphs\" textLength=\"45\" x=\"190\" y=\"65.4951\">Test2</text></a><g id=\"E1.E2.E3\"><a href=\"psysml:cb0f7157-438a-4ad5-8a96-0def6a248a5a\" target=\"_top\" title=\"psysml:cb0f7157-438a-4ad5-8a96-0def6a248a5a\" xlink:actuate=\"onRequest\" xlink:href=\"psysml:cb0f7157-438a-4ad5-8a96-0def6a248a5a\" xlink:show=\"new\" xlink:title=\"psysml:cb0f7157-438a-4ad5-8a96-0def6a248a5a\" xlink:type=\"simple\"><rect fill=\"#FFFFFF\" height=\"42.9375\" id=\"E3\" style=\"stroke: #383838; stroke-width: 1.5;\" width=\"71\" x=\"712.5\" y=\"84\"/><rect fill=\"#F8F8F8\" height=\"37.9375\" style=\"stroke: #383838; stroke-width: 1.5;\" width=\"71\" x=\"712.5\" y=\"84\"/><text fill=\"#000000\" font-family=\"sans-serif\" font-size=\"12\" font-style=\"italic\" lengthAdjust=\"spacingAndGlyphs\" textLength=\"64\" x=\"716\" y=\"100.1387\">«part def»</text><text fill=\"#000000\" font-family=\"sans-serif\" font-size=\"12\" lengthAdjust=\"spacingAndGlyphs\" textLength=\"8\" x=\"744\" y=\"114.1074\">A</text></a></g><g id=\"E1.E4.E5\"><a href=\"psysml:fa716e5d-1985-44ef-b151-4b2b4c0691ed\" target=\"_top\" title=\"psysml:fa716e5d-1985-44ef-b151-4b2b4c0691ed\" xlink:actuate=\"onRequest\" xlink:href=\"psysml:fa716e5d-1985-44ef-b151-4b2b4c0691ed\" xlink:show=\"new\" xlink:title=\"psysml:fa716e5d-1985-44ef-b151-4b2b4c0691ed\" xlink:type=\"simple\"><rect fill=\"#FFFFFF\" height=\"42.9375\" id=\"E5\" style=\"stroke: #383838; stroke-width: 1.5;\" width=\"71\" x=\"584.5\" y=\"84\"/><rect fill=\"#F8F8F8\" height=\"37.9375\" style=\"stroke: #383838; stroke-width: 1.5;\" width=\"71\" x=\"584.5\" y=\"84\"/><text fill=\"#000000\" font-family=\"sans-serif\" font-size=\"12\" font-style=\"italic\" lengthAdjust=\"spacingAndGlyphs\" textLength=\"64\" x=\"588\" y=\"100.1387\">«part def»</text><text fill=\"#000000\" font-family=\"sans-serif\" font-size=\"12\" lengthAdjust=\"spacingAndGlyphs\" textLength=\"8\" x=\"616\" y=\"114.1074\">B</text></a></g><g id=\"E1.E6.E7\"><a href=\"psysml:418b0add-8d91-4a6d-810e-c529e1e5d9c2\" target=\"_top\" title=\"psysml:418b0add-8d91-4a6d-810e-c529e1e5d9c2\" xlink:actuate=\"onRequest\" xlink:href=\"psysml:418b0add-8d91-4a6d-810e-c529e1e5d9c2\" xlink:show=\"new\" xlink:title=\"psysml:418b0add-8d91-4a6d-810e-c529e1e5d9c2\" xlink:type=\"simple\"><rect fill=\"#FFFFFF\" height=\"40\" id=\"E7\" rx=\"10\" ry=\"10\" style=\"stroke: #383838; stroke-width: 1.5;\" width=\"50\" x=\"478\" y=\"85.5\"/><rect fill=\"#F8F8F8\" height=\"23.9688\" rx=\"10\" ry=\"10\" style=\"stroke: #F8F8F8; stroke-width: 1.5;\" width=\"50\" x=\"478\" y=\"85.5\"/><rect fill=\"#F8F8F8\" height=\"10\" style=\"stroke: #F8F8F8; stroke-width: 1.5;\" width=\"50\" x=\"478\" y=\"99.4688\"/><rect fill=\"none\" height=\"40\" id=\"E7\" rx=\"10\" ry=\"10\" style=\"stroke: #383838; stroke-width: 1.5;\" width=\"50\" x=\"478\" y=\"85.5\"/><text fill=\"#000000\" font-family=\"sans-serif\" font-size=\"12\" lengthAdjust=\"spacingAndGlyphs\" textLength=\"22\" x=\"492\" y=\"101.6387\">x: A</text></a></g><g id=\"E1.E6.E8\"><a href=\"psysml:c18479a8-8a5a-4a0f-a7e4-033b0648dafb\" target=\"_top\" title=\"psysml:c18479a8-8a5a-4a0f-a7e4-033b0648dafb\" xlink:actuate=\"onRequest\" xlink:href=\"psysml:c18479a8-8a5a-4a0f-a7e4-033b0648dafb\" xlink:show=\"new\" xlink:title=\"psysml:c18479a8-8a5a-4a0f-a7e4-033b0648dafb\" xlink:type=\"simple\"><rect fill=\"#FFFFFF\" height=\"40\" id=\"E8\" rx=\"10\" ry=\"10\" style=\"stroke: #383838; stroke-width: 1.5;\" width=\"50\" x=\"393\" y=\"85.5\"/><rect fill=\"#F8F8F8\" height=\"23.9688\" rx=\"10\" ry=\"10\" style=\"stroke: #F8F8F8; stroke-width: 1.5;\" width=\"50\" x=\"393\" y=\"85.5\"/><rect fill=\"#F8F8F8\" height=\"10\" style=\"stroke: #F8F8F8; stroke-width: 1.5;\" width=\"50\" x=\"393\" y=\"99.4688\"/><rect fill=\"none\" height=\"40\" id=\"E8\" rx=\"10\" ry=\"10\" style=\"stroke: #383838; stroke-width: 1.5;\" width=\"50\" x=\"393\" y=\"85.5\"/><text fill=\"#000000\" font-family=\"sans-serif\" font-size=\"12\" lengthAdjust=\"spacingAndGlyphs\" textLength=\"22\" x=\"407\" y=\"101.6387\">y: B</text></a></g><g id=\"E1.E9.E10\"><a href=\"psysml:61feb9d5-4074-478e-84bb-b7eccf03922b\" target=\"_top\" title=\"psysml:61feb9d5-4074-478e-84bb-b7eccf03922b\" xlink:actuate=\"onRequest\" xlink:href=\"psysml:61feb9d5-4074-478e-84bb-b7eccf03922b\" xlink:show=\"new\" xlink:title=\"psysml:61feb9d5-4074-478e-84bb-b7eccf03922b\" xlink:type=\"simple\"><rect fill=\"#FFFFFF\" height=\"40\" id=\"E10\" rx=\"10\" ry=\"10\" style=\"stroke: #383838; stroke-width: 1.5;\" width=\"50\" x=\"287\" y=\"85.5\"/><rect fill=\"#F8F8F8\" height=\"23.9688\" rx=\"10\" ry=\"10\" style=\"stroke: #F8F8F8; stroke-width: 1.5;\" width=\"50\" x=\"287\" y=\"85.5\"/><rect fill=\"#F8F8F8\" height=\"10\" style=\"stroke: #F8F8F8; stroke-width: 1.5;\" width=\"50\" x=\"287\" y=\"99.4688\"/><rect fill=\"none\" height=\"40\" id=\"E10\" rx=\"10\" ry=\"10\" style=\"stroke: #383838; stroke-width: 1.5;\" width=\"50\" x=\"287\" y=\"85.5\"/><text fill=\"#000000\" font-family=\"sans-serif\" font-size=\"12\" lengthAdjust=\"spacingAndGlyphs\" textLength=\"22\" x=\"301\" y=\"101.6387\">x: A</text></a></g><g id=\"E1.E9.E11\"><a href=\"psysml:2edd355f-e967-45cc-82fe-80091bb729bd\" target=\"_top\" title=\"psysml:2edd355f-e967-45cc-82fe-80091bb729bd\" xlink:actuate=\"onRequest\" xlink:href=\"psysml:2edd355f-e967-45cc-82fe-80091bb729bd\" xlink:show=\"new\" xlink:title=\"psysml:2edd355f-e967-45cc-82fe-80091bb729bd\" xlink:type=\"simple\"><rect fill=\"#FFFFFF\" height=\"40\" id=\"E11\" rx=\"10\" ry=\"10\" style=\"stroke: #383838; stroke-width: 1.5;\" width=\"50\" x=\"202\" y=\"85.5\"/><rect fill=\"#F8F8F8\" height=\"23.9688\" rx=\"10\" ry=\"10\" style=\"stroke: #F8F8F8; stroke-width: 1.5;\" width=\"50\" x=\"202\" y=\"85.5\"/><rect fill=\"#F8F8F8\" height=\"10\" style=\"stroke: #F8F8F8; stroke-width: 1.5;\" width=\"50\" x=\"202\" y=\"99.4688\"/><rect fill=\"none\" height=\"40\" id=\"E11\" rx=\"10\" ry=\"10\" style=\"stroke: #383838; stroke-width: 1.5;\" width=\"50\" x=\"202\" y=\"85.5\"/><text fill=\"#000000\" font-family=\"sans-serif\" font-size=\"12\" lengthAdjust=\"spacingAndGlyphs\" textLength=\"22\" x=\"216\" y=\"101.6387\">y: B</text></a></g><g id=\"E1.E12\"><a href=\"psysml:530a6ae9-7dc1-4851-ab10-936e92c948f7\" target=\"_top\" title=\"psysml:530a6ae9-7dc1-4851-ab10-936e92c948f7\" xlink:actuate=\"onRequest\" xlink:href=\"psysml:530a6ae9-7dc1-4851-ab10-936e92c948f7\" xlink:show=\"new\" xlink:title=\"psysml:530a6ae9-7dc1-4851-ab10-936e92c948f7\" xlink:type=\"simple\"><rect fill=\"#FFFFFF\" height=\"40\" id=\"E12\" rx=\"10\" ry=\"10\" style=\"stroke: #383838; stroke-width: 1.5;\" width=\"50\" x=\"117\" y=\"85.5\"/><rect fill=\"#F8F8F8\" height=\"23.9688\" rx=\"10\" ry=\"10\" style=\"stroke: #F8F8F8; stroke-width: 1.5;\" width=\"50\" x=\"117\" y=\"85.5\"/><rect fill=\"#F8F8F8\" height=\"10\" style=\"stroke: #F8F8F8; stroke-width: 1.5;\" width=\"50\" x=\"117\" y=\"99.4688\"/><rect fill=\"none\" height=\"40\" id=\"E12\" rx=\"10\" ry=\"10\" style=\"stroke: #383838; stroke-width: 1.5;\" width=\"50\" x=\"117\" y=\"85.5\"/><text fill=\"#000000\" font-family=\"sans-serif\" font-size=\"12\" lengthAdjust=\"spacingAndGlyphs\" textLength=\"22\" x=\"131\" y=\"101.6387\">x: A</text></a></g><g id=\"E1.E13\"><a href=\"psysml:561bfa55-252f-4783-9fb1-458618dbf236\" target=\"_top\" title=\"psysml:561bfa55-252f-4783-9fb1-458618dbf236\" xlink:actuate=\"onRequest\" xlink:href=\"psysml:561bfa55-252f-4783-9fb1-458618dbf236\" xlink:show=\"new\" xlink:title=\"psysml:561bfa55-252f-4783-9fb1-458618dbf236\" xlink:type=\"simple\"><rect fill=\"#FFFFFF\" height=\"40\" id=\"E13\" rx=\"10\" ry=\"10\" style=\"stroke: #383838; stroke-width: 1.5;\" width=\"50\" x=\"32\" y=\"85.5\"/><rect fill=\"#F8F8F8\" height=\"23.9688\" rx=\"10\" ry=\"10\" style=\"stroke: #F8F8F8; stroke-width: 1.5;\" width=\"50\" x=\"32\" y=\"85.5\"/><rect fill=\"#F8F8F8\" height=\"10\" style=\"stroke: #F8F8F8; stroke-width: 1.5;\" width=\"50\" x=\"32\" y=\"99.4688\"/><rect fill=\"none\" height=\"40\" id=\"E13\" rx=\"10\" ry=\"10\" style=\"stroke: #383838; stroke-width: 1.5;\" width=\"50\" x=\"32\" y=\"85.5\"/><text fill=\"#000000\" font-family=\"sans-serif\" font-size=\"12\" lengthAdjust=\"spacingAndGlyphs\" textLength=\"22\" x=\"46\" y=\"101.6387\">y: B</text></a></g><!--MD5=[972048bb6c6744730475c6ce291a20d7]\n",
       "@startuml\r\n",
       "skinparam ranksep 10\r\n",
       "skinparam rectangle {\r\n",
       " backgroundColor<<block>> LightGreen\r\n",
       "}\r\n",
       "skinparam monochrome true\r\n",
       "skinparam classbackgroundcolor white\r\n",
       "skinparam shadowing false\r\n",
       "skinparam wrapWidth 300\r\n",
       "hide circle\r\n",
       "\r\n",
       "package \"CircularImport\" as E1  [[psysml:33738fcf-e3ee-4a7e-98d6-e975d5107ba1 ]]  {\r\n",
       "package \"P1\" as E2  [[psysml:130ef6c7-3ccc-43b9-a62a-eb926cce14a9 ]]  {\r\n",
       "rec def \"A\" as E3  <<(T,blue) part def>> [[psysml:cb0f7157-438a-4ad5-8a96-0def6a248a5a ]] {\r\n",
       "}\r\n",
       "}\r\n",
       "package \"P2\" as E4  [[psysml:0bc4dbd6-620a-45b9-8d32-94753792e496 ]]  {\r\n",
       "rec def \"B\" as E5  <<(T,blue) part def>> [[psysml:fa716e5d-1985-44ef-b151-4b2b4c0691ed ]] {\r\n",
       "}\r\n",
       "}\r\n",
       "package \"Test1\" as E6  [[psysml:b4043d48-e2a3-4796-9568-6bbff931ebfd ]]  {\r\n",
       "rec usage \"x: A\" as E7  [[psysml:418b0add-8d91-4a6d-810e-c529e1e5d9c2 ]] {\r\n",
       "}\r\n",
       "rec usage \"y: B\" as E8  [[psysml:c18479a8-8a5a-4a0f-a7e4-033b0648dafb ]] {\r\n",
       "}\r\n",
       "}\r\n",
       "package \"Test2\" as E9  [[psysml:85a9df72-6515-46a6-853d-c4da844a4980 ]]  {\r\n",
       "rec usage \"x: A\" as E10  [[psysml:61feb9d5-4074-478e-84bb-b7eccf03922b ]] {\r\n",
       "}\r\n",
       "rec usage \"y: B\" as E11  [[psysml:2edd355f-e967-45cc-82fe-80091bb729bd ]] {\r\n",
       "}\r\n",
       "}\r\n",
       "rec usage \"x: A\" as E12  [[psysml:530a6ae9-7dc1-4851-ab10-936e92c948f7 ]] {\r\n",
       "}\r\n",
       "rec usage \"y: B\" as E13  [[psysml:561bfa55-252f-4783-9fb1-458618dbf236 ]] {\r\n",
       "}\r\n",
       "}\r\n",
       "@enduml\r\n",
       "\n",
       "PlantUML version 1.2020.13(Sat Jun 13 12:26:38 UTC 2020)\n",
       "(EPL source distribution)\n",
       "Java Runtime: OpenJDK Runtime Environment\n",
       "JVM: OpenJDK 64-Bit Server VM\n",
       "Default Encoding: UTF-8\n",
       "Language: en\n",
       "Country: null\n",
       "--></g></svg>"
      ]
     },
     "execution_count": 40,
     "metadata": {},
     "output_type": "execute_result"
    }
   ],
   "source": [
    "%viz --style=\"DEFAULT\" --view=\"Interconnection\" \"CircularImport\""
   ]
  },
  {
   "cell_type": "code",
   "execution_count": 41,
   "id": "ca5c6e65",
   "metadata": {
    "execution": {
     "iopub.execute_input": "2021-06-30T09:15:12.433519Z",
     "iopub.status.busy": "2021-06-30T09:15:12.432412Z",
     "iopub.status.idle": "2021-06-30T09:15:12.443104Z",
     "shell.execute_reply": "2021-06-30T09:15:12.443678Z"
    }
   },
   "outputs": [
    {
     "data": {
      "image/svg+xml": [
       "<?xml version=\"1.0\" encoding=\"UTF-8\" standalone=\"no\"?><svg xmlns=\"http://www.w3.org/2000/svg\" xmlns:xlink=\"http://www.w3.org/1999/xlink\" contentScriptType=\"application/ecmascript\" contentStyleType=\"text/css\" height=\"12px\" preserveAspectRatio=\"none\" style=\"width:12px;height:12px;\" version=\"1.1\" viewBox=\"0 0 12 12\" width=\"12px\" zoomAndPan=\"magnify\"><defs/><g><!--MD5=[388f21188e31bfdd97050473b19af356]\n",
       "@startuml\r\n",
       "skinparam ranksep 8\r\n",
       "skinparam monochrome true\r\n",
       "skinparam classbackgroundcolor white\r\n",
       "skinparam shadowing false\r\n",
       "skinparam wrapWidth 300\r\n",
       "hide circle\r\n",
       "\r\n",
       "@enduml\r\n",
       "\n",
       "PlantUML version 1.2020.13(Sat Jun 13 12:26:38 UTC 2020)\n",
       "(EPL source distribution)\n",
       "Java Runtime: OpenJDK Runtime Environment\n",
       "JVM: OpenJDK 64-Bit Server VM\n",
       "Default Encoding: UTF-8\n",
       "Language: en\n",
       "Country: null\n",
       "--></g></svg>"
      ]
     },
     "execution_count": 41,
     "metadata": {},
     "output_type": "execute_result"
    }
   ],
   "source": [
    "%viz --style=\"DEFAULT\" --view=\"Action\" \"CircularImport\""
   ]
  },
  {
   "cell_type": "code",
   "execution_count": 42,
   "id": "031032cf",
   "metadata": {
    "execution": {
     "iopub.execute_input": "2021-06-30T09:15:12.497352Z",
     "iopub.status.busy": "2021-06-30T09:15:12.496147Z",
     "iopub.status.idle": "2021-06-30T09:15:12.570703Z",
     "shell.execute_reply": "2021-06-30T09:15:12.568321Z"
    }
   },
   "outputs": [
    {
     "data": {
      "image/svg+xml": [
       "<?xml version=\"1.0\" encoding=\"UTF-8\" standalone=\"no\"?><svg xmlns=\"http://www.w3.org/2000/svg\" xmlns:xlink=\"http://www.w3.org/1999/xlink\" contentScriptType=\"application/ecmascript\" contentStyleType=\"text/css\" height=\"303px\" preserveAspectRatio=\"none\" style=\"width:518px;height:303px;\" version=\"1.1\" viewBox=\"0 0 518 303\" width=\"518px\" zoomAndPan=\"magnify\"><defs/><g><!--MD5=[fbc87193dbaf4d95561dea2c320d4a47]\n",
       "cluster E1--><a href=\"psysml:33738fcf-e3ee-4a7e-98d6-e975d5107ba1\" target=\"_top\" title=\"psysml:33738fcf-e3ee-4a7e-98d6-e975d5107ba1\" xlink:actuate=\"onRequest\" xlink:href=\"psysml:33738fcf-e3ee-4a7e-98d6-e975d5107ba1\" xlink:show=\"new\" xlink:title=\"psysml:33738fcf-e3ee-4a7e-98d6-e975d5107ba1\" xlink:type=\"simple\"><polygon fill=\"#FFFFFF\" points=\"16,6,134,6,141,28.2969,496,28.2969,496,291,16,291,16,6\" style=\"stroke: #000000; stroke-width: 1.5;\"/><line style=\"stroke: #000000; stroke-width: 1.5;\" x1=\"16\" x2=\"141\" y1=\"28.2969\" y2=\"28.2969\"/><text fill=\"#000000\" font-family=\"sans-serif\" font-size=\"14\" font-weight=\"bold\" lengthAdjust=\"spacingAndGlyphs\" textLength=\"112\" x=\"20\" y=\"20.9951\">CircularImport</text></a><!--MD5=[e4f7fae6ed58524ba242bb0b0d3be6b7]\n",
       "cluster E2--><a href=\"psysml:130ef6c7-3ccc-43b9-a62a-eb926cce14a9\" target=\"_top\" title=\"psysml:130ef6c7-3ccc-43b9-a62a-eb926cce14a9\" xlink:actuate=\"onRequest\" xlink:href=\"psysml:130ef6c7-3ccc-43b9-a62a-eb926cce14a9\" xlink:show=\"new\" xlink:title=\"psysml:130ef6c7-3ccc-43b9-a62a-eb926cce14a9\" xlink:type=\"simple\"><polygon fill=\"#FFFFFF\" points=\"333,170,359,170,366,192.2969,431,192.2969,431,267,333,267,333,170\" style=\"stroke: #000000; stroke-width: 1.5;\"/><line style=\"stroke: #000000; stroke-width: 1.5;\" x1=\"333\" x2=\"366\" y1=\"192.2969\" y2=\"192.2969\"/><text fill=\"#000000\" font-family=\"sans-serif\" font-size=\"14\" font-weight=\"bold\" lengthAdjust=\"spacingAndGlyphs\" textLength=\"20\" x=\"337\" y=\"184.9951\">P1</text></a><!--MD5=[f6df4d0ebaf0b5dfb2ced0ae5af7c670]\n",
       "cluster E4--><a href=\"psysml:0bc4dbd6-620a-45b9-8d32-94753792e496\" target=\"_top\" title=\"psysml:0bc4dbd6-620a-45b9-8d32-94753792e496\" xlink:actuate=\"onRequest\" xlink:href=\"psysml:0bc4dbd6-620a-45b9-8d32-94753792e496\" xlink:show=\"new\" xlink:title=\"psysml:0bc4dbd6-620a-45b9-8d32-94753792e496\" xlink:type=\"simple\"><polygon fill=\"#FFFFFF\" points=\"81,170,107,170,114,192.2969,179,192.2969,179,267,81,267,81,170\" style=\"stroke: #000000; stroke-width: 1.5;\"/><line style=\"stroke: #000000; stroke-width: 1.5;\" x1=\"81\" x2=\"114\" y1=\"192.2969\" y2=\"192.2969\"/><text fill=\"#000000\" font-family=\"sans-serif\" font-size=\"14\" font-weight=\"bold\" lengthAdjust=\"spacingAndGlyphs\" textLength=\"20\" x=\"85\" y=\"184.9951\">P2</text></a><!--MD5=[14e3b0961a2654348d326746436168a1]\n",
       "cluster E6--><a href=\"psysml:b4043d48-e2a3-4796-9568-6bbff931ebfd\" target=\"_top\" title=\"psysml:b4043d48-e2a3-4796-9568-6bbff931ebfd\" xlink:actuate=\"onRequest\" xlink:href=\"psysml:b4043d48-e2a3-4796-9568-6bbff931ebfd\" xlink:show=\"new\" xlink:title=\"psysml:b4043d48-e2a3-4796-9568-6bbff931ebfd\" xlink:type=\"simple\"><polygon fill=\"#FFFFFF\" points=\"268,49,319,49,326,71.2969,419,71.2969,419,146,268,146,268,49\" style=\"stroke: #000000; stroke-width: 1.5;\"/><line style=\"stroke: #000000; stroke-width: 1.5;\" x1=\"268\" x2=\"326\" y1=\"71.2969\" y2=\"71.2969\"/><text fill=\"#000000\" font-family=\"sans-serif\" font-size=\"14\" font-weight=\"bold\" lengthAdjust=\"spacingAndGlyphs\" textLength=\"45\" x=\"272\" y=\"63.9951\">Test1</text></a><!--MD5=[7f149f147074ac12df2cb0a7728a5fb0]\n",
       "cluster E9--><a href=\"psysml:85a9df72-6515-46a6-853d-c4da844a4980\" target=\"_top\" title=\"psysml:85a9df72-6515-46a6-853d-c4da844a4980\" xlink:actuate=\"onRequest\" xlink:href=\"psysml:85a9df72-6515-46a6-853d-c4da844a4980\" xlink:show=\"new\" xlink:title=\"psysml:85a9df72-6515-46a6-853d-c4da844a4980\" xlink:type=\"simple\"><polygon fill=\"#FFFFFF\" points=\"93,49,144,49,151,71.2969,244,71.2969,244,146,93,146,93,49\" style=\"stroke: #000000; stroke-width: 1.5;\"/><line style=\"stroke: #000000; stroke-width: 1.5;\" x1=\"93\" x2=\"151\" y1=\"71.2969\" y2=\"71.2969\"/><text fill=\"#000000\" font-family=\"sans-serif\" font-size=\"14\" font-weight=\"bold\" lengthAdjust=\"spacingAndGlyphs\" textLength=\"45\" x=\"97\" y=\"63.9951\">Test2</text></a><!--MD5=[49a0ec8f00dab7302a31f22d0f0fe584]\n",
       "class E12--><a href=\"psysml:530a6ae9-7dc1-4851-ab10-936e92c948f7\" target=\"_top\" title=\"psysml:530a6ae9-7dc1-4851-ab10-936e92c948f7\" xlink:actuate=\"onRequest\" xlink:href=\"psysml:530a6ae9-7dc1-4851-ab10-936e92c948f7\" xlink:show=\"new\" xlink:title=\"psysml:530a6ae9-7dc1-4851-ab10-936e92c948f7\" xlink:type=\"simple\"><rect fill=\"#FFFFFF\" height=\"45.9375\" id=\"E12\" rx=\"10\" ry=\"10\" style=\"stroke: #383838; stroke-width: 1.5;\" width=\"42\" x=\"438\" y=\"84\"/><text fill=\"#000000\" font-family=\"sans-serif\" font-size=\"12\" font-style=\"italic\" lengthAdjust=\"spacingAndGlyphs\" textLength=\"40\" x=\"439\" y=\"100.1387\">«part»</text><text fill=\"#000000\" font-family=\"sans-serif\" font-size=\"12\" lengthAdjust=\"spacingAndGlyphs\" textLength=\"22\" x=\"448\" y=\"114.1074\">x: A</text><line style=\"stroke: #383838; stroke-width: 1.5;\" x1=\"439\" x2=\"479\" y1=\"121.9375\" y2=\"121.9375\"/></a><!--MD5=[ee3c913d1a06f366521f9ef512b67efe]\n",
       "class E13--><a href=\"psysml:561bfa55-252f-4783-9fb1-458618dbf236\" target=\"_top\" title=\"psysml:561bfa55-252f-4783-9fb1-458618dbf236\" xlink:actuate=\"onRequest\" xlink:href=\"psysml:561bfa55-252f-4783-9fb1-458618dbf236\" xlink:show=\"new\" xlink:title=\"psysml:561bfa55-252f-4783-9fb1-458618dbf236\" xlink:type=\"simple\"><rect fill=\"#FFFFFF\" height=\"45.9375\" id=\"E13\" rx=\"10\" ry=\"10\" style=\"stroke: #383838; stroke-width: 1.5;\" width=\"42\" x=\"32\" y=\"84\"/><text fill=\"#000000\" font-family=\"sans-serif\" font-size=\"12\" font-style=\"italic\" lengthAdjust=\"spacingAndGlyphs\" textLength=\"40\" x=\"33\" y=\"100.1387\">«part»</text><text fill=\"#000000\" font-family=\"sans-serif\" font-size=\"12\" lengthAdjust=\"spacingAndGlyphs\" textLength=\"22\" x=\"42\" y=\"114.1074\">y: B</text><line style=\"stroke: #383838; stroke-width: 1.5;\" x1=\"33\" x2=\"73\" y1=\"121.9375\" y2=\"121.9375\"/></a><!--MD5=[09b614a08d8cba4a07c9adeb5e0fee81]\n",
       "class E3--><a href=\"psysml:cb0f7157-438a-4ad5-8a96-0def6a248a5a\" target=\"_top\" title=\"psysml:cb0f7157-438a-4ad5-8a96-0def6a248a5a\" xlink:actuate=\"onRequest\" xlink:href=\"psysml:cb0f7157-438a-4ad5-8a96-0def6a248a5a\" xlink:show=\"new\" xlink:title=\"psysml:cb0f7157-438a-4ad5-8a96-0def6a248a5a\" xlink:type=\"simple\"><rect fill=\"#FFFFFF\" height=\"45.9375\" id=\"E3\" style=\"stroke: #383838; stroke-width: 1.5;\" width=\"66\" x=\"349\" y=\"205\"/><text fill=\"#000000\" font-family=\"sans-serif\" font-size=\"12\" font-style=\"italic\" lengthAdjust=\"spacingAndGlyphs\" textLength=\"64\" x=\"350\" y=\"221.1387\">«part def»</text><text fill=\"#000000\" font-family=\"sans-serif\" font-size=\"12\" lengthAdjust=\"spacingAndGlyphs\" textLength=\"8\" x=\"378\" y=\"235.1074\">A</text><line style=\"stroke: #383838; stroke-width: 1.5;\" x1=\"350\" x2=\"414\" y1=\"242.9375\" y2=\"242.9375\"/></a><!--MD5=[270fce915f116d4de14055a7c1d9a0f3]\n",
       "class E5--><a href=\"psysml:fa716e5d-1985-44ef-b151-4b2b4c0691ed\" target=\"_top\" title=\"psysml:fa716e5d-1985-44ef-b151-4b2b4c0691ed\" xlink:actuate=\"onRequest\" xlink:href=\"psysml:fa716e5d-1985-44ef-b151-4b2b4c0691ed\" xlink:show=\"new\" xlink:title=\"psysml:fa716e5d-1985-44ef-b151-4b2b4c0691ed\" xlink:type=\"simple\"><rect fill=\"#FFFFFF\" height=\"45.9375\" id=\"E5\" style=\"stroke: #383838; stroke-width: 1.5;\" width=\"66\" x=\"97\" y=\"205\"/><text fill=\"#000000\" font-family=\"sans-serif\" font-size=\"12\" font-style=\"italic\" lengthAdjust=\"spacingAndGlyphs\" textLength=\"64\" x=\"98\" y=\"221.1387\">«part def»</text><text fill=\"#000000\" font-family=\"sans-serif\" font-size=\"12\" lengthAdjust=\"spacingAndGlyphs\" textLength=\"8\" x=\"126\" y=\"235.1074\">B</text><line style=\"stroke: #383838; stroke-width: 1.5;\" x1=\"98\" x2=\"162\" y1=\"242.9375\" y2=\"242.9375\"/></a><!--MD5=[2156ba9850f5573cc1fc38a6a4b2f02b]\n",
       "class E7--><a href=\"psysml:418b0add-8d91-4a6d-810e-c529e1e5d9c2\" target=\"_top\" title=\"psysml:418b0add-8d91-4a6d-810e-c529e1e5d9c2\" xlink:actuate=\"onRequest\" xlink:href=\"psysml:418b0add-8d91-4a6d-810e-c529e1e5d9c2\" xlink:show=\"new\" xlink:title=\"psysml:418b0add-8d91-4a6d-810e-c529e1e5d9c2\" xlink:type=\"simple\"><rect fill=\"#FFFFFF\" height=\"45.9375\" id=\"E7\" rx=\"10\" ry=\"10\" style=\"stroke: #383838; stroke-width: 1.5;\" width=\"42\" x=\"361\" y=\"84\"/><text fill=\"#000000\" font-family=\"sans-serif\" font-size=\"12\" font-style=\"italic\" lengthAdjust=\"spacingAndGlyphs\" textLength=\"40\" x=\"362\" y=\"100.1387\">«part»</text><text fill=\"#000000\" font-family=\"sans-serif\" font-size=\"12\" lengthAdjust=\"spacingAndGlyphs\" textLength=\"22\" x=\"371\" y=\"114.1074\">x: A</text><line style=\"stroke: #383838; stroke-width: 1.5;\" x1=\"362\" x2=\"402\" y1=\"121.9375\" y2=\"121.9375\"/></a><!--MD5=[b9389687b975829384b498ac4b7476b2]\n",
       "class E8--><a href=\"psysml:c18479a8-8a5a-4a0f-a7e4-033b0648dafb\" target=\"_top\" title=\"psysml:c18479a8-8a5a-4a0f-a7e4-033b0648dafb\" xlink:actuate=\"onRequest\" xlink:href=\"psysml:c18479a8-8a5a-4a0f-a7e4-033b0648dafb\" xlink:show=\"new\" xlink:title=\"psysml:c18479a8-8a5a-4a0f-a7e4-033b0648dafb\" xlink:type=\"simple\"><rect fill=\"#FFFFFF\" height=\"45.9375\" id=\"E8\" rx=\"10\" ry=\"10\" style=\"stroke: #383838; stroke-width: 1.5;\" width=\"42\" x=\"284\" y=\"84\"/><text fill=\"#000000\" font-family=\"sans-serif\" font-size=\"12\" font-style=\"italic\" lengthAdjust=\"spacingAndGlyphs\" textLength=\"40\" x=\"285\" y=\"100.1387\">«part»</text><text fill=\"#000000\" font-family=\"sans-serif\" font-size=\"12\" lengthAdjust=\"spacingAndGlyphs\" textLength=\"22\" x=\"294\" y=\"114.1074\">y: B</text><line style=\"stroke: #383838; stroke-width: 1.5;\" x1=\"285\" x2=\"325\" y1=\"121.9375\" y2=\"121.9375\"/></a><!--MD5=[96f4274e9e20536e775497830990834d]\n",
       "class E10--><a href=\"psysml:61feb9d5-4074-478e-84bb-b7eccf03922b\" target=\"_top\" title=\"psysml:61feb9d5-4074-478e-84bb-b7eccf03922b\" xlink:actuate=\"onRequest\" xlink:href=\"psysml:61feb9d5-4074-478e-84bb-b7eccf03922b\" xlink:show=\"new\" xlink:title=\"psysml:61feb9d5-4074-478e-84bb-b7eccf03922b\" xlink:type=\"simple\"><rect fill=\"#FFFFFF\" height=\"45.9375\" id=\"E10\" rx=\"10\" ry=\"10\" style=\"stroke: #383838; stroke-width: 1.5;\" width=\"42\" x=\"186\" y=\"84\"/><text fill=\"#000000\" font-family=\"sans-serif\" font-size=\"12\" font-style=\"italic\" lengthAdjust=\"spacingAndGlyphs\" textLength=\"40\" x=\"187\" y=\"100.1387\">«part»</text><text fill=\"#000000\" font-family=\"sans-serif\" font-size=\"12\" lengthAdjust=\"spacingAndGlyphs\" textLength=\"22\" x=\"196\" y=\"114.1074\">x: A</text><line style=\"stroke: #383838; stroke-width: 1.5;\" x1=\"187\" x2=\"227\" y1=\"121.9375\" y2=\"121.9375\"/></a><!--MD5=[1dd1bfd58a279cf63c5f349dbc8fc6a1]\n",
       "class E11--><a href=\"psysml:2edd355f-e967-45cc-82fe-80091bb729bd\" target=\"_top\" title=\"psysml:2edd355f-e967-45cc-82fe-80091bb729bd\" xlink:actuate=\"onRequest\" xlink:href=\"psysml:2edd355f-e967-45cc-82fe-80091bb729bd\" xlink:show=\"new\" xlink:title=\"psysml:2edd355f-e967-45cc-82fe-80091bb729bd\" xlink:type=\"simple\"><rect fill=\"#FFFFFF\" height=\"45.9375\" id=\"E11\" rx=\"10\" ry=\"10\" style=\"stroke: #383838; stroke-width: 1.5;\" width=\"42\" x=\"109\" y=\"84\"/><text fill=\"#000000\" font-family=\"sans-serif\" font-size=\"12\" font-style=\"italic\" lengthAdjust=\"spacingAndGlyphs\" textLength=\"40\" x=\"110\" y=\"100.1387\">«part»</text><text fill=\"#000000\" font-family=\"sans-serif\" font-size=\"12\" lengthAdjust=\"spacingAndGlyphs\" textLength=\"22\" x=\"119\" y=\"114.1074\">y: B</text><line style=\"stroke: #383838; stroke-width: 1.5;\" x1=\"110\" x2=\"150\" y1=\"121.9375\" y2=\"121.9375\"/></a><!--MD5=[14ccda38c055a5c0da953d572bc50960]\n",
       "link E7 to E3--><a href=\"psysml:c27725e1-02a3-443e-822c-73205e66e264\" target=\"_top\" title=\"psysml:c27725e1-02a3-443e-822c-73205e66e264\" xlink:actuate=\"onRequest\" xlink:href=\"psysml:c27725e1-02a3-443e-822c-73205e66e264\" xlink:show=\"new\" xlink:title=\"psysml:c27725e1-02a3-443e-822c-73205e66e264\" xlink:type=\"simple\"><path d=\"M382,130.1 C382,145.37 382,166.16 382,184.57 \" fill=\"none\" id=\"E7-&gt;E3\" style=\"stroke: #383838; stroke-width: 1.0;\"/><polygon fill=\"#FFFFFF\" points=\"382,204.61,375,185.61,389,185.61,382,204.61\" style=\"stroke: #383838; stroke-width: 1.0;\"/><ellipse cx=\"377\" cy=\"179.91\" fill=\"#383838\" rx=\"2\" ry=\"2\" style=\"stroke: #383838; stroke-width: 1.0;\"/><ellipse cx=\"387\" cy=\"179.91\" fill=\"#383838\" rx=\"2\" ry=\"2\" style=\"stroke: #383838; stroke-width: 1.0;\"/></a><!--MD5=[1ccb2481ffa92f8d51a74ee30c51832a]\n",
       "link E8 to E5--><a href=\"psysml:43ceeb8e-eeaf-4aa9-b958-61b6f980f202\" target=\"_top\" title=\"psysml:43ceeb8e-eeaf-4aa9-b958-61b6f980f202\" xlink:actuate=\"onRequest\" xlink:href=\"psysml:43ceeb8e-eeaf-4aa9-b958-61b6f980f202\" xlink:show=\"new\" xlink:title=\"psysml:43ceeb8e-eeaf-4aa9-b958-61b6f980f202\" xlink:type=\"simple\"><path d=\"M283.84,124.59 C272.23,133.52 257.5,144.61 244,154 C223.51,168.25 200.41,183.24 180.38,195.91 \" fill=\"none\" id=\"E8-&gt;E5\" style=\"stroke: #383838; stroke-width: 1.0;\"/><polygon fill=\"#FFFFFF\" points=\"163.36,206.57,175.7353,190.5434,183.175,202.403,163.36,206.57\" style=\"stroke: #383838; stroke-width: 1.0;\"/><ellipse cx=\"181.6267\" cy=\"189.2086\" fill=\"#383838\" rx=\"2\" ry=\"2\" style=\"stroke: #383838; stroke-width: 1.0;\"/><ellipse cx=\"186.9408\" cy=\"197.6797\" fill=\"#383838\" rx=\"2\" ry=\"2\" style=\"stroke: #383838; stroke-width: 1.0;\"/></a><!--MD5=[feeac5eb423634930294aa81f2d25a4c]\n",
       "link E10 to E3--><a href=\"psysml:2f015e6c-7efc-43fd-92bb-26e8cb5e6a22\" target=\"_top\" title=\"psysml:2f015e6c-7efc-43fd-92bb-26e8cb5e6a22\" xlink:actuate=\"onRequest\" xlink:href=\"psysml:2f015e6c-7efc-43fd-92bb-26e8cb5e6a22\" xlink:show=\"new\" xlink:title=\"psysml:2f015e6c-7efc-43fd-92bb-26e8cb5e6a22\" xlink:type=\"simple\"><path d=\"M228.16,124.59 C239.77,133.52 254.5,144.61 268,154 C288.49,168.25 311.59,183.24 331.62,195.91 \" fill=\"none\" id=\"E10-&gt;E3\" style=\"stroke: #383838; stroke-width: 1.0;\"/><polygon fill=\"#FFFFFF\" points=\"348.64,206.57,328.825,202.403,336.2647,190.5434,348.64,206.57\" style=\"stroke: #383838; stroke-width: 1.0;\"/><ellipse cx=\"325.0592\" cy=\"197.6797\" fill=\"#383838\" rx=\"2\" ry=\"2\" style=\"stroke: #383838; stroke-width: 1.0;\"/><ellipse cx=\"330.3733\" cy=\"189.2086\" fill=\"#383838\" rx=\"2\" ry=\"2\" style=\"stroke: #383838; stroke-width: 1.0;\"/></a><!--MD5=[07b77f6f309248d16187045709d1c26e]\n",
       "link E11 to E5--><a href=\"psysml:7cf9fed8-155f-433e-a01b-9d13c54aa089\" target=\"_top\" title=\"psysml:7cf9fed8-155f-433e-a01b-9d13c54aa089\" xlink:actuate=\"onRequest\" xlink:href=\"psysml:7cf9fed8-155f-433e-a01b-9d13c54aa089\" xlink:show=\"new\" xlink:title=\"psysml:7cf9fed8-155f-433e-a01b-9d13c54aa089\" xlink:type=\"simple\"><path d=\"M130,130.1 C130,145.37 130,166.16 130,184.57 \" fill=\"none\" id=\"E11-&gt;E5\" style=\"stroke: #383838; stroke-width: 1.0;\"/><polygon fill=\"#FFFFFF\" points=\"130,204.61,123,185.61,137,185.61,130,204.61\" style=\"stroke: #383838; stroke-width: 1.0;\"/><ellipse cx=\"125\" cy=\"179.91\" fill=\"#383838\" rx=\"2\" ry=\"2\" style=\"stroke: #383838; stroke-width: 1.0;\"/><ellipse cx=\"135\" cy=\"179.91\" fill=\"#383838\" rx=\"2\" ry=\"2\" style=\"stroke: #383838; stroke-width: 1.0;\"/></a><!--MD5=[39f41a0e550fb3d73b4d8135617e30a2]\n",
       "link E12 to E3--><a href=\"psysml:2b9be10b-590f-4358-bedf-a86ab0ed6bce\" target=\"_top\" title=\"psysml:2b9be10b-590f-4358-bedf-a86ab0ed6bce\" xlink:actuate=\"onRequest\" xlink:href=\"psysml:2b9be10b-590f-4358-bedf-a86ab0ed6bce\" xlink:show=\"new\" xlink:title=\"psysml:2b9be10b-590f-4358-bedf-a86ab0ed6bce\" xlink:type=\"simple\"><path d=\"M444.7,130.1 C434.28,146.2 419.89,168.44 407.53,187.55 \" fill=\"none\" id=\"E12-&gt;E3\" style=\"stroke: #383838; stroke-width: 1.0;\"/><polygon fill=\"#FFFFFF\" points=\"396.49,204.61,400.9313,184.8546,412.6866,192.4581,396.49,204.61\" style=\"stroke: #383838; stroke-width: 1.0;\"/><ellipse cx=\"405.7063\" cy=\"181.1547\" fill=\"#383838\" rx=\"2\" ry=\"2\" style=\"stroke: #383838; stroke-width: 1.0;\"/><ellipse cx=\"414.103\" cy=\"186.5858\" fill=\"#383838\" rx=\"2\" ry=\"2\" style=\"stroke: #383838; stroke-width: 1.0;\"/></a><!--MD5=[066b2d8af59fea80ccdb3d54ad5c1091]\n",
       "link E13 to E5--><a href=\"psysml:78896435-f936-4df6-9172-2ff6f9da23d9\" target=\"_top\" title=\"psysml:78896435-f936-4df6-9172-2ff6f9da23d9\" xlink:actuate=\"onRequest\" xlink:href=\"psysml:78896435-f936-4df6-9172-2ff6f9da23d9\" xlink:show=\"new\" xlink:title=\"psysml:78896435-f936-4df6-9172-2ff6f9da23d9\" xlink:type=\"simple\"><path d=\"M67.3,130.1 C77.72,146.2 92.11,168.44 104.47,187.55 \" fill=\"none\" id=\"E13-&gt;E5\" style=\"stroke: #383838; stroke-width: 1.0;\"/><polygon fill=\"#FFFFFF\" points=\"115.51,204.61,99.3134,192.4581,111.0687,184.8546,115.51,204.61\" style=\"stroke: #383838; stroke-width: 1.0;\"/><ellipse cx=\"97.897\" cy=\"186.5858\" fill=\"#383838\" rx=\"2\" ry=\"2\" style=\"stroke: #383838; stroke-width: 1.0;\"/><ellipse cx=\"106.2937\" cy=\"181.1547\" fill=\"#383838\" rx=\"2\" ry=\"2\" style=\"stroke: #383838; stroke-width: 1.0;\"/></a><!--MD5=[83293b11f3890e636a559b4687e1d887]\n",
       "@startuml\r\n",
       "skinparam monochrome true\r\n",
       "skinparam classbackgroundcolor white\r\n",
       "skinparam shadowing false\r\n",
       "skinparam wrapWidth 300\r\n",
       "hide circle\r\n",
       "\r\n",
       "package \"CircularImport\" as E1  [[psysml:33738fcf-e3ee-4a7e-98d6-e975d5107ba1 ]]  {\r\n",
       "package \"P1\" as E2  [[psysml:130ef6c7-3ccc-43b9-a62a-eb926cce14a9 ]]  {\r\n",
       "comp def \"A\" as E3  <<(T,blue) part def>> [[psysml:cb0f7157-438a-4ad5-8a96-0def6a248a5a ]] {\r\n",
       "}\r\n",
       "}\r\n",
       "package \"P2\" as E4  [[psysml:0bc4dbd6-620a-45b9-8d32-94753792e496 ]]  {\r\n",
       "comp def \"B\" as E5  <<(T,blue) part def>> [[psysml:fa716e5d-1985-44ef-b151-4b2b4c0691ed ]] {\r\n",
       "}\r\n",
       "}\r\n",
       "package \"Test1\" as E6  [[psysml:b4043d48-e2a3-4796-9568-6bbff931ebfd ]]  {\r\n",
       "comp usage \"x: A\" as E7  <<(T,blue) part>> [[psysml:418b0add-8d91-4a6d-810e-c529e1e5d9c2 ]] {\r\n",
       "}\r\n",
       "comp usage \"y: B\" as E8  <<(T,blue) part>> [[psysml:c18479a8-8a5a-4a0f-a7e4-033b0648dafb ]] {\r\n",
       "}\r\n",
       "E7 - -:|> E3 [[psysml:c27725e1-02a3-443e-822c-73205e66e264 ]] \r\n",
       "E8 - -:|> E5 [[psysml:43ceeb8e-eeaf-4aa9-b958-61b6f980f202 ]] \r\n",
       "}\r\n",
       "package \"Test2\" as E9  [[psysml:85a9df72-6515-46a6-853d-c4da844a4980 ]]  {\r\n",
       "comp usage \"x: A\" as E10  <<(T,blue) part>> [[psysml:61feb9d5-4074-478e-84bb-b7eccf03922b ]] {\r\n",
       "}\r\n",
       "comp usage \"y: B\" as E11  <<(T,blue) part>> [[psysml:2edd355f-e967-45cc-82fe-80091bb729bd ]] {\r\n",
       "}\r\n",
       "E10 - -:|> E3 [[psysml:2f015e6c-7efc-43fd-92bb-26e8cb5e6a22 ]] \r\n",
       "E11 - -:|> E5 [[psysml:7cf9fed8-155f-433e-a01b-9d13c54aa089 ]] \r\n",
       "}\r\n",
       "comp usage \"x: A\" as E12  <<(T,blue) part>> [[psysml:530a6ae9-7dc1-4851-ab10-936e92c948f7 ]] {\r\n",
       "}\r\n",
       "comp usage \"y: B\" as E13  <<(T,blue) part>> [[psysml:561bfa55-252f-4783-9fb1-458618dbf236 ]] {\r\n",
       "}\r\n",
       "E12 - -:|> E3 [[psysml:2b9be10b-590f-4358-bedf-a86ab0ed6bce ]] \r\n",
       "E13 - -:|> E5 [[psysml:78896435-f936-4df6-9172-2ff6f9da23d9 ]] \r\n",
       "}\r\n",
       "@enduml\r\n",
       "\n",
       "PlantUML version 1.2020.13(Sat Jun 13 12:26:38 UTC 2020)\n",
       "(EPL source distribution)\n",
       "Java Runtime: OpenJDK Runtime Environment\n",
       "JVM: OpenJDK 64-Bit Server VM\n",
       "Default Encoding: UTF-8\n",
       "Language: en\n",
       "Country: null\n",
       "--></g></svg>"
      ]
     },
     "execution_count": 42,
     "metadata": {},
     "output_type": "execute_result"
    }
   ],
   "source": [
    "%viz --style=\"DEFAULT\" --view=\"Sequence\" \"CircularImport\""
   ]
  },
  {
   "cell_type": "code",
   "execution_count": 43,
   "id": "7ac5e41f",
   "metadata": {
    "execution": {
     "iopub.execute_input": "2021-06-30T09:15:12.628274Z",
     "iopub.status.busy": "2021-06-30T09:15:12.627153Z",
     "iopub.status.idle": "2021-06-30T09:15:12.697178Z",
     "shell.execute_reply": "2021-06-30T09:15:12.696349Z"
    }
   },
   "outputs": [
    {
     "data": {
      "image/svg+xml": [
       "<?xml version=\"1.0\" encoding=\"UTF-8\" standalone=\"no\"?><svg xmlns=\"http://www.w3.org/2000/svg\" xmlns:xlink=\"http://www.w3.org/1999/xlink\" contentScriptType=\"application/ecmascript\" contentStyleType=\"text/css\" height=\"303px\" preserveAspectRatio=\"none\" style=\"width:518px;height:303px;\" version=\"1.1\" viewBox=\"0 0 518 303\" width=\"518px\" zoomAndPan=\"magnify\"><defs/><g><!--MD5=[fbc87193dbaf4d95561dea2c320d4a47]\n",
       "cluster E1--><a href=\"psysml:33738fcf-e3ee-4a7e-98d6-e975d5107ba1\" target=\"_top\" title=\"psysml:33738fcf-e3ee-4a7e-98d6-e975d5107ba1\" xlink:actuate=\"onRequest\" xlink:href=\"psysml:33738fcf-e3ee-4a7e-98d6-e975d5107ba1\" xlink:show=\"new\" xlink:title=\"psysml:33738fcf-e3ee-4a7e-98d6-e975d5107ba1\" xlink:type=\"simple\"><polygon fill=\"#FFFFFF\" points=\"16,6,134,6,141,28.2969,496,28.2969,496,291,16,291,16,6\" style=\"stroke: #000000; stroke-width: 1.5;\"/><line style=\"stroke: #000000; stroke-width: 1.5;\" x1=\"16\" x2=\"141\" y1=\"28.2969\" y2=\"28.2969\"/><text fill=\"#000000\" font-family=\"sans-serif\" font-size=\"14\" font-weight=\"bold\" lengthAdjust=\"spacingAndGlyphs\" textLength=\"112\" x=\"20\" y=\"20.9951\">CircularImport</text></a><!--MD5=[e4f7fae6ed58524ba242bb0b0d3be6b7]\n",
       "cluster E2--><a href=\"psysml:130ef6c7-3ccc-43b9-a62a-eb926cce14a9\" target=\"_top\" title=\"psysml:130ef6c7-3ccc-43b9-a62a-eb926cce14a9\" xlink:actuate=\"onRequest\" xlink:href=\"psysml:130ef6c7-3ccc-43b9-a62a-eb926cce14a9\" xlink:show=\"new\" xlink:title=\"psysml:130ef6c7-3ccc-43b9-a62a-eb926cce14a9\" xlink:type=\"simple\"><polygon fill=\"#FFFFFF\" points=\"333,170,359,170,366,192.2969,431,192.2969,431,267,333,267,333,170\" style=\"stroke: #000000; stroke-width: 1.5;\"/><line style=\"stroke: #000000; stroke-width: 1.5;\" x1=\"333\" x2=\"366\" y1=\"192.2969\" y2=\"192.2969\"/><text fill=\"#000000\" font-family=\"sans-serif\" font-size=\"14\" font-weight=\"bold\" lengthAdjust=\"spacingAndGlyphs\" textLength=\"20\" x=\"337\" y=\"184.9951\">P1</text></a><!--MD5=[f6df4d0ebaf0b5dfb2ced0ae5af7c670]\n",
       "cluster E4--><a href=\"psysml:0bc4dbd6-620a-45b9-8d32-94753792e496\" target=\"_top\" title=\"psysml:0bc4dbd6-620a-45b9-8d32-94753792e496\" xlink:actuate=\"onRequest\" xlink:href=\"psysml:0bc4dbd6-620a-45b9-8d32-94753792e496\" xlink:show=\"new\" xlink:title=\"psysml:0bc4dbd6-620a-45b9-8d32-94753792e496\" xlink:type=\"simple\"><polygon fill=\"#FFFFFF\" points=\"81,170,107,170,114,192.2969,179,192.2969,179,267,81,267,81,170\" style=\"stroke: #000000; stroke-width: 1.5;\"/><line style=\"stroke: #000000; stroke-width: 1.5;\" x1=\"81\" x2=\"114\" y1=\"192.2969\" y2=\"192.2969\"/><text fill=\"#000000\" font-family=\"sans-serif\" font-size=\"14\" font-weight=\"bold\" lengthAdjust=\"spacingAndGlyphs\" textLength=\"20\" x=\"85\" y=\"184.9951\">P2</text></a><!--MD5=[14e3b0961a2654348d326746436168a1]\n",
       "cluster E6--><a href=\"psysml:b4043d48-e2a3-4796-9568-6bbff931ebfd\" target=\"_top\" title=\"psysml:b4043d48-e2a3-4796-9568-6bbff931ebfd\" xlink:actuate=\"onRequest\" xlink:href=\"psysml:b4043d48-e2a3-4796-9568-6bbff931ebfd\" xlink:show=\"new\" xlink:title=\"psysml:b4043d48-e2a3-4796-9568-6bbff931ebfd\" xlink:type=\"simple\"><polygon fill=\"#FFFFFF\" points=\"268,49,319,49,326,71.2969,419,71.2969,419,146,268,146,268,49\" style=\"stroke: #000000; stroke-width: 1.5;\"/><line style=\"stroke: #000000; stroke-width: 1.5;\" x1=\"268\" x2=\"326\" y1=\"71.2969\" y2=\"71.2969\"/><text fill=\"#000000\" font-family=\"sans-serif\" font-size=\"14\" font-weight=\"bold\" lengthAdjust=\"spacingAndGlyphs\" textLength=\"45\" x=\"272\" y=\"63.9951\">Test1</text></a><!--MD5=[7f149f147074ac12df2cb0a7728a5fb0]\n",
       "cluster E9--><a href=\"psysml:85a9df72-6515-46a6-853d-c4da844a4980\" target=\"_top\" title=\"psysml:85a9df72-6515-46a6-853d-c4da844a4980\" xlink:actuate=\"onRequest\" xlink:href=\"psysml:85a9df72-6515-46a6-853d-c4da844a4980\" xlink:show=\"new\" xlink:title=\"psysml:85a9df72-6515-46a6-853d-c4da844a4980\" xlink:type=\"simple\"><polygon fill=\"#FFFFFF\" points=\"93,49,144,49,151,71.2969,244,71.2969,244,146,93,146,93,49\" style=\"stroke: #000000; stroke-width: 1.5;\"/><line style=\"stroke: #000000; stroke-width: 1.5;\" x1=\"93\" x2=\"151\" y1=\"71.2969\" y2=\"71.2969\"/><text fill=\"#000000\" font-family=\"sans-serif\" font-size=\"14\" font-weight=\"bold\" lengthAdjust=\"spacingAndGlyphs\" textLength=\"45\" x=\"97\" y=\"63.9951\">Test2</text></a><!--MD5=[49a0ec8f00dab7302a31f22d0f0fe584]\n",
       "class E12--><a href=\"psysml:530a6ae9-7dc1-4851-ab10-936e92c948f7\" target=\"_top\" title=\"psysml:530a6ae9-7dc1-4851-ab10-936e92c948f7\" xlink:actuate=\"onRequest\" xlink:href=\"psysml:530a6ae9-7dc1-4851-ab10-936e92c948f7\" xlink:show=\"new\" xlink:title=\"psysml:530a6ae9-7dc1-4851-ab10-936e92c948f7\" xlink:type=\"simple\"><rect fill=\"#FFFFFF\" height=\"45.9375\" id=\"E12\" rx=\"10\" ry=\"10\" style=\"stroke: #383838; stroke-width: 1.5;\" width=\"42\" x=\"438\" y=\"84\"/><text fill=\"#000000\" font-family=\"sans-serif\" font-size=\"12\" font-style=\"italic\" lengthAdjust=\"spacingAndGlyphs\" textLength=\"40\" x=\"439\" y=\"100.1387\">«part»</text><text fill=\"#000000\" font-family=\"sans-serif\" font-size=\"12\" lengthAdjust=\"spacingAndGlyphs\" textLength=\"22\" x=\"448\" y=\"114.1074\">x: A</text><line style=\"stroke: #383838; stroke-width: 1.5;\" x1=\"439\" x2=\"479\" y1=\"121.9375\" y2=\"121.9375\"/></a><!--MD5=[ee3c913d1a06f366521f9ef512b67efe]\n",
       "class E13--><a href=\"psysml:561bfa55-252f-4783-9fb1-458618dbf236\" target=\"_top\" title=\"psysml:561bfa55-252f-4783-9fb1-458618dbf236\" xlink:actuate=\"onRequest\" xlink:href=\"psysml:561bfa55-252f-4783-9fb1-458618dbf236\" xlink:show=\"new\" xlink:title=\"psysml:561bfa55-252f-4783-9fb1-458618dbf236\" xlink:type=\"simple\"><rect fill=\"#FFFFFF\" height=\"45.9375\" id=\"E13\" rx=\"10\" ry=\"10\" style=\"stroke: #383838; stroke-width: 1.5;\" width=\"42\" x=\"32\" y=\"84\"/><text fill=\"#000000\" font-family=\"sans-serif\" font-size=\"12\" font-style=\"italic\" lengthAdjust=\"spacingAndGlyphs\" textLength=\"40\" x=\"33\" y=\"100.1387\">«part»</text><text fill=\"#000000\" font-family=\"sans-serif\" font-size=\"12\" lengthAdjust=\"spacingAndGlyphs\" textLength=\"22\" x=\"42\" y=\"114.1074\">y: B</text><line style=\"stroke: #383838; stroke-width: 1.5;\" x1=\"33\" x2=\"73\" y1=\"121.9375\" y2=\"121.9375\"/></a><!--MD5=[09b614a08d8cba4a07c9adeb5e0fee81]\n",
       "class E3--><a href=\"psysml:cb0f7157-438a-4ad5-8a96-0def6a248a5a\" target=\"_top\" title=\"psysml:cb0f7157-438a-4ad5-8a96-0def6a248a5a\" xlink:actuate=\"onRequest\" xlink:href=\"psysml:cb0f7157-438a-4ad5-8a96-0def6a248a5a\" xlink:show=\"new\" xlink:title=\"psysml:cb0f7157-438a-4ad5-8a96-0def6a248a5a\" xlink:type=\"simple\"><rect fill=\"#FFFFFF\" height=\"45.9375\" id=\"E3\" style=\"stroke: #383838; stroke-width: 1.5;\" width=\"66\" x=\"349\" y=\"205\"/><text fill=\"#000000\" font-family=\"sans-serif\" font-size=\"12\" font-style=\"italic\" lengthAdjust=\"spacingAndGlyphs\" textLength=\"64\" x=\"350\" y=\"221.1387\">«part def»</text><text fill=\"#000000\" font-family=\"sans-serif\" font-size=\"12\" lengthAdjust=\"spacingAndGlyphs\" textLength=\"8\" x=\"378\" y=\"235.1074\">A</text><line style=\"stroke: #383838; stroke-width: 1.5;\" x1=\"350\" x2=\"414\" y1=\"242.9375\" y2=\"242.9375\"/></a><!--MD5=[270fce915f116d4de14055a7c1d9a0f3]\n",
       "class E5--><a href=\"psysml:fa716e5d-1985-44ef-b151-4b2b4c0691ed\" target=\"_top\" title=\"psysml:fa716e5d-1985-44ef-b151-4b2b4c0691ed\" xlink:actuate=\"onRequest\" xlink:href=\"psysml:fa716e5d-1985-44ef-b151-4b2b4c0691ed\" xlink:show=\"new\" xlink:title=\"psysml:fa716e5d-1985-44ef-b151-4b2b4c0691ed\" xlink:type=\"simple\"><rect fill=\"#FFFFFF\" height=\"45.9375\" id=\"E5\" style=\"stroke: #383838; stroke-width: 1.5;\" width=\"66\" x=\"97\" y=\"205\"/><text fill=\"#000000\" font-family=\"sans-serif\" font-size=\"12\" font-style=\"italic\" lengthAdjust=\"spacingAndGlyphs\" textLength=\"64\" x=\"98\" y=\"221.1387\">«part def»</text><text fill=\"#000000\" font-family=\"sans-serif\" font-size=\"12\" lengthAdjust=\"spacingAndGlyphs\" textLength=\"8\" x=\"126\" y=\"235.1074\">B</text><line style=\"stroke: #383838; stroke-width: 1.5;\" x1=\"98\" x2=\"162\" y1=\"242.9375\" y2=\"242.9375\"/></a><!--MD5=[2156ba9850f5573cc1fc38a6a4b2f02b]\n",
       "class E7--><a href=\"psysml:418b0add-8d91-4a6d-810e-c529e1e5d9c2\" target=\"_top\" title=\"psysml:418b0add-8d91-4a6d-810e-c529e1e5d9c2\" xlink:actuate=\"onRequest\" xlink:href=\"psysml:418b0add-8d91-4a6d-810e-c529e1e5d9c2\" xlink:show=\"new\" xlink:title=\"psysml:418b0add-8d91-4a6d-810e-c529e1e5d9c2\" xlink:type=\"simple\"><rect fill=\"#FFFFFF\" height=\"45.9375\" id=\"E7\" rx=\"10\" ry=\"10\" style=\"stroke: #383838; stroke-width: 1.5;\" width=\"42\" x=\"361\" y=\"84\"/><text fill=\"#000000\" font-family=\"sans-serif\" font-size=\"12\" font-style=\"italic\" lengthAdjust=\"spacingAndGlyphs\" textLength=\"40\" x=\"362\" y=\"100.1387\">«part»</text><text fill=\"#000000\" font-family=\"sans-serif\" font-size=\"12\" lengthAdjust=\"spacingAndGlyphs\" textLength=\"22\" x=\"371\" y=\"114.1074\">x: A</text><line style=\"stroke: #383838; stroke-width: 1.5;\" x1=\"362\" x2=\"402\" y1=\"121.9375\" y2=\"121.9375\"/></a><!--MD5=[b9389687b975829384b498ac4b7476b2]\n",
       "class E8--><a href=\"psysml:c18479a8-8a5a-4a0f-a7e4-033b0648dafb\" target=\"_top\" title=\"psysml:c18479a8-8a5a-4a0f-a7e4-033b0648dafb\" xlink:actuate=\"onRequest\" xlink:href=\"psysml:c18479a8-8a5a-4a0f-a7e4-033b0648dafb\" xlink:show=\"new\" xlink:title=\"psysml:c18479a8-8a5a-4a0f-a7e4-033b0648dafb\" xlink:type=\"simple\"><rect fill=\"#FFFFFF\" height=\"45.9375\" id=\"E8\" rx=\"10\" ry=\"10\" style=\"stroke: #383838; stroke-width: 1.5;\" width=\"42\" x=\"284\" y=\"84\"/><text fill=\"#000000\" font-family=\"sans-serif\" font-size=\"12\" font-style=\"italic\" lengthAdjust=\"spacingAndGlyphs\" textLength=\"40\" x=\"285\" y=\"100.1387\">«part»</text><text fill=\"#000000\" font-family=\"sans-serif\" font-size=\"12\" lengthAdjust=\"spacingAndGlyphs\" textLength=\"22\" x=\"294\" y=\"114.1074\">y: B</text><line style=\"stroke: #383838; stroke-width: 1.5;\" x1=\"285\" x2=\"325\" y1=\"121.9375\" y2=\"121.9375\"/></a><!--MD5=[96f4274e9e20536e775497830990834d]\n",
       "class E10--><a href=\"psysml:61feb9d5-4074-478e-84bb-b7eccf03922b\" target=\"_top\" title=\"psysml:61feb9d5-4074-478e-84bb-b7eccf03922b\" xlink:actuate=\"onRequest\" xlink:href=\"psysml:61feb9d5-4074-478e-84bb-b7eccf03922b\" xlink:show=\"new\" xlink:title=\"psysml:61feb9d5-4074-478e-84bb-b7eccf03922b\" xlink:type=\"simple\"><rect fill=\"#FFFFFF\" height=\"45.9375\" id=\"E10\" rx=\"10\" ry=\"10\" style=\"stroke: #383838; stroke-width: 1.5;\" width=\"42\" x=\"186\" y=\"84\"/><text fill=\"#000000\" font-family=\"sans-serif\" font-size=\"12\" font-style=\"italic\" lengthAdjust=\"spacingAndGlyphs\" textLength=\"40\" x=\"187\" y=\"100.1387\">«part»</text><text fill=\"#000000\" font-family=\"sans-serif\" font-size=\"12\" lengthAdjust=\"spacingAndGlyphs\" textLength=\"22\" x=\"196\" y=\"114.1074\">x: A</text><line style=\"stroke: #383838; stroke-width: 1.5;\" x1=\"187\" x2=\"227\" y1=\"121.9375\" y2=\"121.9375\"/></a><!--MD5=[1dd1bfd58a279cf63c5f349dbc8fc6a1]\n",
       "class E11--><a href=\"psysml:2edd355f-e967-45cc-82fe-80091bb729bd\" target=\"_top\" title=\"psysml:2edd355f-e967-45cc-82fe-80091bb729bd\" xlink:actuate=\"onRequest\" xlink:href=\"psysml:2edd355f-e967-45cc-82fe-80091bb729bd\" xlink:show=\"new\" xlink:title=\"psysml:2edd355f-e967-45cc-82fe-80091bb729bd\" xlink:type=\"simple\"><rect fill=\"#FFFFFF\" height=\"45.9375\" id=\"E11\" rx=\"10\" ry=\"10\" style=\"stroke: #383838; stroke-width: 1.5;\" width=\"42\" x=\"109\" y=\"84\"/><text fill=\"#000000\" font-family=\"sans-serif\" font-size=\"12\" font-style=\"italic\" lengthAdjust=\"spacingAndGlyphs\" textLength=\"40\" x=\"110\" y=\"100.1387\">«part»</text><text fill=\"#000000\" font-family=\"sans-serif\" font-size=\"12\" lengthAdjust=\"spacingAndGlyphs\" textLength=\"22\" x=\"119\" y=\"114.1074\">y: B</text><line style=\"stroke: #383838; stroke-width: 1.5;\" x1=\"110\" x2=\"150\" y1=\"121.9375\" y2=\"121.9375\"/></a><!--MD5=[14ccda38c055a5c0da953d572bc50960]\n",
       "link E7 to E3--><a href=\"psysml:c27725e1-02a3-443e-822c-73205e66e264\" target=\"_top\" title=\"psysml:c27725e1-02a3-443e-822c-73205e66e264\" xlink:actuate=\"onRequest\" xlink:href=\"psysml:c27725e1-02a3-443e-822c-73205e66e264\" xlink:show=\"new\" xlink:title=\"psysml:c27725e1-02a3-443e-822c-73205e66e264\" xlink:type=\"simple\"><path d=\"M382,130.1 C382,145.37 382,166.16 382,184.57 \" fill=\"none\" id=\"E7-&gt;E3\" style=\"stroke: #383838; stroke-width: 1.0;\"/><polygon fill=\"#FFFFFF\" points=\"382,204.61,375,185.61,389,185.61,382,204.61\" style=\"stroke: #383838; stroke-width: 1.0;\"/><ellipse cx=\"377\" cy=\"179.91\" fill=\"#383838\" rx=\"2\" ry=\"2\" style=\"stroke: #383838; stroke-width: 1.0;\"/><ellipse cx=\"387\" cy=\"179.91\" fill=\"#383838\" rx=\"2\" ry=\"2\" style=\"stroke: #383838; stroke-width: 1.0;\"/></a><!--MD5=[1ccb2481ffa92f8d51a74ee30c51832a]\n",
       "link E8 to E5--><a href=\"psysml:43ceeb8e-eeaf-4aa9-b958-61b6f980f202\" target=\"_top\" title=\"psysml:43ceeb8e-eeaf-4aa9-b958-61b6f980f202\" xlink:actuate=\"onRequest\" xlink:href=\"psysml:43ceeb8e-eeaf-4aa9-b958-61b6f980f202\" xlink:show=\"new\" xlink:title=\"psysml:43ceeb8e-eeaf-4aa9-b958-61b6f980f202\" xlink:type=\"simple\"><path d=\"M283.84,124.59 C272.23,133.52 257.5,144.61 244,154 C223.51,168.25 200.41,183.24 180.38,195.91 \" fill=\"none\" id=\"E8-&gt;E5\" style=\"stroke: #383838; stroke-width: 1.0;\"/><polygon fill=\"#FFFFFF\" points=\"163.36,206.57,175.7353,190.5434,183.175,202.403,163.36,206.57\" style=\"stroke: #383838; stroke-width: 1.0;\"/><ellipse cx=\"181.6267\" cy=\"189.2086\" fill=\"#383838\" rx=\"2\" ry=\"2\" style=\"stroke: #383838; stroke-width: 1.0;\"/><ellipse cx=\"186.9408\" cy=\"197.6797\" fill=\"#383838\" rx=\"2\" ry=\"2\" style=\"stroke: #383838; stroke-width: 1.0;\"/></a><!--MD5=[feeac5eb423634930294aa81f2d25a4c]\n",
       "link E10 to E3--><a href=\"psysml:2f015e6c-7efc-43fd-92bb-26e8cb5e6a22\" target=\"_top\" title=\"psysml:2f015e6c-7efc-43fd-92bb-26e8cb5e6a22\" xlink:actuate=\"onRequest\" xlink:href=\"psysml:2f015e6c-7efc-43fd-92bb-26e8cb5e6a22\" xlink:show=\"new\" xlink:title=\"psysml:2f015e6c-7efc-43fd-92bb-26e8cb5e6a22\" xlink:type=\"simple\"><path d=\"M228.16,124.59 C239.77,133.52 254.5,144.61 268,154 C288.49,168.25 311.59,183.24 331.62,195.91 \" fill=\"none\" id=\"E10-&gt;E3\" style=\"stroke: #383838; stroke-width: 1.0;\"/><polygon fill=\"#FFFFFF\" points=\"348.64,206.57,328.825,202.403,336.2647,190.5434,348.64,206.57\" style=\"stroke: #383838; stroke-width: 1.0;\"/><ellipse cx=\"325.0592\" cy=\"197.6797\" fill=\"#383838\" rx=\"2\" ry=\"2\" style=\"stroke: #383838; stroke-width: 1.0;\"/><ellipse cx=\"330.3733\" cy=\"189.2086\" fill=\"#383838\" rx=\"2\" ry=\"2\" style=\"stroke: #383838; stroke-width: 1.0;\"/></a><!--MD5=[07b77f6f309248d16187045709d1c26e]\n",
       "link E11 to E5--><a href=\"psysml:7cf9fed8-155f-433e-a01b-9d13c54aa089\" target=\"_top\" title=\"psysml:7cf9fed8-155f-433e-a01b-9d13c54aa089\" xlink:actuate=\"onRequest\" xlink:href=\"psysml:7cf9fed8-155f-433e-a01b-9d13c54aa089\" xlink:show=\"new\" xlink:title=\"psysml:7cf9fed8-155f-433e-a01b-9d13c54aa089\" xlink:type=\"simple\"><path d=\"M130,130.1 C130,145.37 130,166.16 130,184.57 \" fill=\"none\" id=\"E11-&gt;E5\" style=\"stroke: #383838; stroke-width: 1.0;\"/><polygon fill=\"#FFFFFF\" points=\"130,204.61,123,185.61,137,185.61,130,204.61\" style=\"stroke: #383838; stroke-width: 1.0;\"/><ellipse cx=\"125\" cy=\"179.91\" fill=\"#383838\" rx=\"2\" ry=\"2\" style=\"stroke: #383838; stroke-width: 1.0;\"/><ellipse cx=\"135\" cy=\"179.91\" fill=\"#383838\" rx=\"2\" ry=\"2\" style=\"stroke: #383838; stroke-width: 1.0;\"/></a><!--MD5=[39f41a0e550fb3d73b4d8135617e30a2]\n",
       "link E12 to E3--><a href=\"psysml:2b9be10b-590f-4358-bedf-a86ab0ed6bce\" target=\"_top\" title=\"psysml:2b9be10b-590f-4358-bedf-a86ab0ed6bce\" xlink:actuate=\"onRequest\" xlink:href=\"psysml:2b9be10b-590f-4358-bedf-a86ab0ed6bce\" xlink:show=\"new\" xlink:title=\"psysml:2b9be10b-590f-4358-bedf-a86ab0ed6bce\" xlink:type=\"simple\"><path d=\"M444.7,130.1 C434.28,146.2 419.89,168.44 407.53,187.55 \" fill=\"none\" id=\"E12-&gt;E3\" style=\"stroke: #383838; stroke-width: 1.0;\"/><polygon fill=\"#FFFFFF\" points=\"396.49,204.61,400.9313,184.8546,412.6866,192.4581,396.49,204.61\" style=\"stroke: #383838; stroke-width: 1.0;\"/><ellipse cx=\"405.7063\" cy=\"181.1547\" fill=\"#383838\" rx=\"2\" ry=\"2\" style=\"stroke: #383838; stroke-width: 1.0;\"/><ellipse cx=\"414.103\" cy=\"186.5858\" fill=\"#383838\" rx=\"2\" ry=\"2\" style=\"stroke: #383838; stroke-width: 1.0;\"/></a><!--MD5=[066b2d8af59fea80ccdb3d54ad5c1091]\n",
       "link E13 to E5--><a href=\"psysml:78896435-f936-4df6-9172-2ff6f9da23d9\" target=\"_top\" title=\"psysml:78896435-f936-4df6-9172-2ff6f9da23d9\" xlink:actuate=\"onRequest\" xlink:href=\"psysml:78896435-f936-4df6-9172-2ff6f9da23d9\" xlink:show=\"new\" xlink:title=\"psysml:78896435-f936-4df6-9172-2ff6f9da23d9\" xlink:type=\"simple\"><path d=\"M67.3,130.1 C77.72,146.2 92.11,168.44 104.47,187.55 \" fill=\"none\" id=\"E13-&gt;E5\" style=\"stroke: #383838; stroke-width: 1.0;\"/><polygon fill=\"#FFFFFF\" points=\"115.51,204.61,99.3134,192.4581,111.0687,184.8546,115.51,204.61\" style=\"stroke: #383838; stroke-width: 1.0;\"/><ellipse cx=\"97.897\" cy=\"186.5858\" fill=\"#383838\" rx=\"2\" ry=\"2\" style=\"stroke: #383838; stroke-width: 1.0;\"/><ellipse cx=\"106.2937\" cy=\"181.1547\" fill=\"#383838\" rx=\"2\" ry=\"2\" style=\"stroke: #383838; stroke-width: 1.0;\"/></a><!--MD5=[83293b11f3890e636a559b4687e1d887]\n",
       "@startuml\r\n",
       "skinparam monochrome true\r\n",
       "skinparam classbackgroundcolor white\r\n",
       "skinparam shadowing false\r\n",
       "skinparam wrapWidth 300\r\n",
       "hide circle\r\n",
       "\r\n",
       "package \"CircularImport\" as E1  [[psysml:33738fcf-e3ee-4a7e-98d6-e975d5107ba1 ]]  {\r\n",
       "package \"P1\" as E2  [[psysml:130ef6c7-3ccc-43b9-a62a-eb926cce14a9 ]]  {\r\n",
       "comp def \"A\" as E3  <<(T,blue) part def>> [[psysml:cb0f7157-438a-4ad5-8a96-0def6a248a5a ]] {\r\n",
       "}\r\n",
       "}\r\n",
       "package \"P2\" as E4  [[psysml:0bc4dbd6-620a-45b9-8d32-94753792e496 ]]  {\r\n",
       "comp def \"B\" as E5  <<(T,blue) part def>> [[psysml:fa716e5d-1985-44ef-b151-4b2b4c0691ed ]] {\r\n",
       "}\r\n",
       "}\r\n",
       "package \"Test1\" as E6  [[psysml:b4043d48-e2a3-4796-9568-6bbff931ebfd ]]  {\r\n",
       "comp usage \"x: A\" as E7  <<(T,blue) part>> [[psysml:418b0add-8d91-4a6d-810e-c529e1e5d9c2 ]] {\r\n",
       "}\r\n",
       "comp usage \"y: B\" as E8  <<(T,blue) part>> [[psysml:c18479a8-8a5a-4a0f-a7e4-033b0648dafb ]] {\r\n",
       "}\r\n",
       "E7 - -:|> E3 [[psysml:c27725e1-02a3-443e-822c-73205e66e264 ]] \r\n",
       "E8 - -:|> E5 [[psysml:43ceeb8e-eeaf-4aa9-b958-61b6f980f202 ]] \r\n",
       "}\r\n",
       "package \"Test2\" as E9  [[psysml:85a9df72-6515-46a6-853d-c4da844a4980 ]]  {\r\n",
       "comp usage \"x: A\" as E10  <<(T,blue) part>> [[psysml:61feb9d5-4074-478e-84bb-b7eccf03922b ]] {\r\n",
       "}\r\n",
       "comp usage \"y: B\" as E11  <<(T,blue) part>> [[psysml:2edd355f-e967-45cc-82fe-80091bb729bd ]] {\r\n",
       "}\r\n",
       "E10 - -:|> E3 [[psysml:2f015e6c-7efc-43fd-92bb-26e8cb5e6a22 ]] \r\n",
       "E11 - -:|> E5 [[psysml:7cf9fed8-155f-433e-a01b-9d13c54aa089 ]] \r\n",
       "}\r\n",
       "comp usage \"x: A\" as E12  <<(T,blue) part>> [[psysml:530a6ae9-7dc1-4851-ab10-936e92c948f7 ]] {\r\n",
       "}\r\n",
       "comp usage \"y: B\" as E13  <<(T,blue) part>> [[psysml:561bfa55-252f-4783-9fb1-458618dbf236 ]] {\r\n",
       "}\r\n",
       "E12 - -:|> E3 [[psysml:2b9be10b-590f-4358-bedf-a86ab0ed6bce ]] \r\n",
       "E13 - -:|> E5 [[psysml:78896435-f936-4df6-9172-2ff6f9da23d9 ]] \r\n",
       "}\r\n",
       "@enduml\r\n",
       "\n",
       "PlantUML version 1.2020.13(Sat Jun 13 12:26:38 UTC 2020)\n",
       "(EPL source distribution)\n",
       "Java Runtime: OpenJDK Runtime Environment\n",
       "JVM: OpenJDK 64-Bit Server VM\n",
       "Default Encoding: UTF-8\n",
       "Language: en\n",
       "Country: null\n",
       "--></g></svg>"
      ]
     },
     "execution_count": 43,
     "metadata": {},
     "output_type": "execute_result"
    }
   ],
   "source": [
    "%viz --style=\"DEFAULT\" --view=\"MIXED\" \"CircularImport\""
   ]
  },
  {
   "cell_type": "code",
   "execution_count": 44,
   "id": "361c69a2",
   "metadata": {
    "execution": {
     "iopub.execute_input": "2021-06-30T09:15:12.746412Z",
     "iopub.status.busy": "2021-06-30T09:15:12.745056Z",
     "iopub.status.idle": "2021-06-30T09:15:12.824347Z",
     "shell.execute_reply": "2021-06-30T09:15:12.824951Z"
    }
   },
   "outputs": [
    {
     "data": {
      "image/svg+xml": [
       "<?xml version=\"1.0\" encoding=\"UTF-8\" standalone=\"no\"?><svg xmlns=\"http://www.w3.org/2000/svg\" xmlns:xlink=\"http://www.w3.org/1999/xlink\" contentScriptType=\"application/ecmascript\" contentStyleType=\"text/css\" height=\"303px\" preserveAspectRatio=\"none\" style=\"width:518px;height:303px;\" version=\"1.1\" viewBox=\"0 0 518 303\" width=\"518px\" zoomAndPan=\"magnify\"><defs/><g><!--MD5=[fbc87193dbaf4d95561dea2c320d4a47]\n",
       "cluster E1--><a href=\"psysml:33738fcf-e3ee-4a7e-98d6-e975d5107ba1\" target=\"_top\" title=\"psysml:33738fcf-e3ee-4a7e-98d6-e975d5107ba1\" xlink:actuate=\"onRequest\" xlink:href=\"psysml:33738fcf-e3ee-4a7e-98d6-e975d5107ba1\" xlink:show=\"new\" xlink:title=\"psysml:33738fcf-e3ee-4a7e-98d6-e975d5107ba1\" xlink:type=\"simple\"><polygon fill=\"#FFFFFF\" points=\"16,6,134,6,141,28.2969,496,28.2969,496,291,16,291,16,6\" style=\"stroke: #000000; stroke-width: 1.5;\"/><line style=\"stroke: #000000; stroke-width: 1.5;\" x1=\"16\" x2=\"141\" y1=\"28.2969\" y2=\"28.2969\"/><text fill=\"#000000\" font-family=\"sans-serif\" font-size=\"14\" font-weight=\"bold\" lengthAdjust=\"spacingAndGlyphs\" textLength=\"112\" x=\"20\" y=\"20.9951\">CircularImport</text></a><!--MD5=[e4f7fae6ed58524ba242bb0b0d3be6b7]\n",
       "cluster E2--><a href=\"psysml:130ef6c7-3ccc-43b9-a62a-eb926cce14a9\" target=\"_top\" title=\"psysml:130ef6c7-3ccc-43b9-a62a-eb926cce14a9\" xlink:actuate=\"onRequest\" xlink:href=\"psysml:130ef6c7-3ccc-43b9-a62a-eb926cce14a9\" xlink:show=\"new\" xlink:title=\"psysml:130ef6c7-3ccc-43b9-a62a-eb926cce14a9\" xlink:type=\"simple\"><polygon fill=\"#FFFFFF\" points=\"333,170,359,170,366,192.2969,431,192.2969,431,267,333,267,333,170\" style=\"stroke: #000000; stroke-width: 1.5;\"/><line style=\"stroke: #000000; stroke-width: 1.5;\" x1=\"333\" x2=\"366\" y1=\"192.2969\" y2=\"192.2969\"/><text fill=\"#000000\" font-family=\"sans-serif\" font-size=\"14\" font-weight=\"bold\" lengthAdjust=\"spacingAndGlyphs\" textLength=\"20\" x=\"337\" y=\"184.9951\">P1</text></a><!--MD5=[f6df4d0ebaf0b5dfb2ced0ae5af7c670]\n",
       "cluster E4--><a href=\"psysml:0bc4dbd6-620a-45b9-8d32-94753792e496\" target=\"_top\" title=\"psysml:0bc4dbd6-620a-45b9-8d32-94753792e496\" xlink:actuate=\"onRequest\" xlink:href=\"psysml:0bc4dbd6-620a-45b9-8d32-94753792e496\" xlink:show=\"new\" xlink:title=\"psysml:0bc4dbd6-620a-45b9-8d32-94753792e496\" xlink:type=\"simple\"><polygon fill=\"#FFFFFF\" points=\"81,170,107,170,114,192.2969,179,192.2969,179,267,81,267,81,170\" style=\"stroke: #000000; stroke-width: 1.5;\"/><line style=\"stroke: #000000; stroke-width: 1.5;\" x1=\"81\" x2=\"114\" y1=\"192.2969\" y2=\"192.2969\"/><text fill=\"#000000\" font-family=\"sans-serif\" font-size=\"14\" font-weight=\"bold\" lengthAdjust=\"spacingAndGlyphs\" textLength=\"20\" x=\"85\" y=\"184.9951\">P2</text></a><!--MD5=[14e3b0961a2654348d326746436168a1]\n",
       "cluster E6--><a href=\"psysml:b4043d48-e2a3-4796-9568-6bbff931ebfd\" target=\"_top\" title=\"psysml:b4043d48-e2a3-4796-9568-6bbff931ebfd\" xlink:actuate=\"onRequest\" xlink:href=\"psysml:b4043d48-e2a3-4796-9568-6bbff931ebfd\" xlink:show=\"new\" xlink:title=\"psysml:b4043d48-e2a3-4796-9568-6bbff931ebfd\" xlink:type=\"simple\"><polygon fill=\"#FFFFFF\" points=\"268,49,319,49,326,71.2969,419,71.2969,419,146,268,146,268,49\" style=\"stroke: #000000; stroke-width: 1.5;\"/><line style=\"stroke: #000000; stroke-width: 1.5;\" x1=\"268\" x2=\"326\" y1=\"71.2969\" y2=\"71.2969\"/><text fill=\"#000000\" font-family=\"sans-serif\" font-size=\"14\" font-weight=\"bold\" lengthAdjust=\"spacingAndGlyphs\" textLength=\"45\" x=\"272\" y=\"63.9951\">Test1</text></a><!--MD5=[7f149f147074ac12df2cb0a7728a5fb0]\n",
       "cluster E9--><a href=\"psysml:85a9df72-6515-46a6-853d-c4da844a4980\" target=\"_top\" title=\"psysml:85a9df72-6515-46a6-853d-c4da844a4980\" xlink:actuate=\"onRequest\" xlink:href=\"psysml:85a9df72-6515-46a6-853d-c4da844a4980\" xlink:show=\"new\" xlink:title=\"psysml:85a9df72-6515-46a6-853d-c4da844a4980\" xlink:type=\"simple\"><polygon fill=\"#FFFFFF\" points=\"93,49,144,49,151,71.2969,244,71.2969,244,146,93,146,93,49\" style=\"stroke: #000000; stroke-width: 1.5;\"/><line style=\"stroke: #000000; stroke-width: 1.5;\" x1=\"93\" x2=\"151\" y1=\"71.2969\" y2=\"71.2969\"/><text fill=\"#000000\" font-family=\"sans-serif\" font-size=\"14\" font-weight=\"bold\" lengthAdjust=\"spacingAndGlyphs\" textLength=\"45\" x=\"97\" y=\"63.9951\">Test2</text></a><!--MD5=[49a0ec8f00dab7302a31f22d0f0fe584]\n",
       "class E12--><a href=\"psysml:530a6ae9-7dc1-4851-ab10-936e92c948f7\" target=\"_top\" title=\"psysml:530a6ae9-7dc1-4851-ab10-936e92c948f7\" xlink:actuate=\"onRequest\" xlink:href=\"psysml:530a6ae9-7dc1-4851-ab10-936e92c948f7\" xlink:show=\"new\" xlink:title=\"psysml:530a6ae9-7dc1-4851-ab10-936e92c948f7\" xlink:type=\"simple\"><rect fill=\"#FFFFFF\" height=\"45.9375\" id=\"E12\" rx=\"10\" ry=\"10\" style=\"stroke: #383838; stroke-width: 1.5;\" width=\"42\" x=\"438\" y=\"84\"/><text fill=\"#000000\" font-family=\"sans-serif\" font-size=\"12\" font-style=\"italic\" lengthAdjust=\"spacingAndGlyphs\" textLength=\"40\" x=\"439\" y=\"100.1387\">«part»</text><text fill=\"#000000\" font-family=\"sans-serif\" font-size=\"12\" lengthAdjust=\"spacingAndGlyphs\" textLength=\"22\" x=\"448\" y=\"114.1074\">x: A</text><line style=\"stroke: #383838; stroke-width: 1.5;\" x1=\"439\" x2=\"479\" y1=\"121.9375\" y2=\"121.9375\"/></a><!--MD5=[ee3c913d1a06f366521f9ef512b67efe]\n",
       "class E13--><a href=\"psysml:561bfa55-252f-4783-9fb1-458618dbf236\" target=\"_top\" title=\"psysml:561bfa55-252f-4783-9fb1-458618dbf236\" xlink:actuate=\"onRequest\" xlink:href=\"psysml:561bfa55-252f-4783-9fb1-458618dbf236\" xlink:show=\"new\" xlink:title=\"psysml:561bfa55-252f-4783-9fb1-458618dbf236\" xlink:type=\"simple\"><rect fill=\"#FFFFFF\" height=\"45.9375\" id=\"E13\" rx=\"10\" ry=\"10\" style=\"stroke: #383838; stroke-width: 1.5;\" width=\"42\" x=\"32\" y=\"84\"/><text fill=\"#000000\" font-family=\"sans-serif\" font-size=\"12\" font-style=\"italic\" lengthAdjust=\"spacingAndGlyphs\" textLength=\"40\" x=\"33\" y=\"100.1387\">«part»</text><text fill=\"#000000\" font-family=\"sans-serif\" font-size=\"12\" lengthAdjust=\"spacingAndGlyphs\" textLength=\"22\" x=\"42\" y=\"114.1074\">y: B</text><line style=\"stroke: #383838; stroke-width: 1.5;\" x1=\"33\" x2=\"73\" y1=\"121.9375\" y2=\"121.9375\"/></a><!--MD5=[09b614a08d8cba4a07c9adeb5e0fee81]\n",
       "class E3--><a href=\"psysml:cb0f7157-438a-4ad5-8a96-0def6a248a5a\" target=\"_top\" title=\"psysml:cb0f7157-438a-4ad5-8a96-0def6a248a5a\" xlink:actuate=\"onRequest\" xlink:href=\"psysml:cb0f7157-438a-4ad5-8a96-0def6a248a5a\" xlink:show=\"new\" xlink:title=\"psysml:cb0f7157-438a-4ad5-8a96-0def6a248a5a\" xlink:type=\"simple\"><rect fill=\"#FFFFFF\" height=\"45.9375\" id=\"E3\" style=\"stroke: #383838; stroke-width: 1.5;\" width=\"66\" x=\"349\" y=\"205\"/><text fill=\"#000000\" font-family=\"sans-serif\" font-size=\"12\" font-style=\"italic\" lengthAdjust=\"spacingAndGlyphs\" textLength=\"64\" x=\"350\" y=\"221.1387\">«part def»</text><text fill=\"#000000\" font-family=\"sans-serif\" font-size=\"12\" lengthAdjust=\"spacingAndGlyphs\" textLength=\"8\" x=\"378\" y=\"235.1074\">A</text><line style=\"stroke: #383838; stroke-width: 1.5;\" x1=\"350\" x2=\"414\" y1=\"242.9375\" y2=\"242.9375\"/></a><!--MD5=[270fce915f116d4de14055a7c1d9a0f3]\n",
       "class E5--><a href=\"psysml:fa716e5d-1985-44ef-b151-4b2b4c0691ed\" target=\"_top\" title=\"psysml:fa716e5d-1985-44ef-b151-4b2b4c0691ed\" xlink:actuate=\"onRequest\" xlink:href=\"psysml:fa716e5d-1985-44ef-b151-4b2b4c0691ed\" xlink:show=\"new\" xlink:title=\"psysml:fa716e5d-1985-44ef-b151-4b2b4c0691ed\" xlink:type=\"simple\"><rect fill=\"#FFFFFF\" height=\"45.9375\" id=\"E5\" style=\"stroke: #383838; stroke-width: 1.5;\" width=\"66\" x=\"97\" y=\"205\"/><text fill=\"#000000\" font-family=\"sans-serif\" font-size=\"12\" font-style=\"italic\" lengthAdjust=\"spacingAndGlyphs\" textLength=\"64\" x=\"98\" y=\"221.1387\">«part def»</text><text fill=\"#000000\" font-family=\"sans-serif\" font-size=\"12\" lengthAdjust=\"spacingAndGlyphs\" textLength=\"8\" x=\"126\" y=\"235.1074\">B</text><line style=\"stroke: #383838; stroke-width: 1.5;\" x1=\"98\" x2=\"162\" y1=\"242.9375\" y2=\"242.9375\"/></a><!--MD5=[2156ba9850f5573cc1fc38a6a4b2f02b]\n",
       "class E7--><a href=\"psysml:418b0add-8d91-4a6d-810e-c529e1e5d9c2\" target=\"_top\" title=\"psysml:418b0add-8d91-4a6d-810e-c529e1e5d9c2\" xlink:actuate=\"onRequest\" xlink:href=\"psysml:418b0add-8d91-4a6d-810e-c529e1e5d9c2\" xlink:show=\"new\" xlink:title=\"psysml:418b0add-8d91-4a6d-810e-c529e1e5d9c2\" xlink:type=\"simple\"><rect fill=\"#FFFFFF\" height=\"45.9375\" id=\"E7\" rx=\"10\" ry=\"10\" style=\"stroke: #383838; stroke-width: 1.5;\" width=\"42\" x=\"361\" y=\"84\"/><text fill=\"#000000\" font-family=\"sans-serif\" font-size=\"12\" font-style=\"italic\" lengthAdjust=\"spacingAndGlyphs\" textLength=\"40\" x=\"362\" y=\"100.1387\">«part»</text><text fill=\"#000000\" font-family=\"sans-serif\" font-size=\"12\" lengthAdjust=\"spacingAndGlyphs\" textLength=\"22\" x=\"371\" y=\"114.1074\">x: A</text><line style=\"stroke: #383838; stroke-width: 1.5;\" x1=\"362\" x2=\"402\" y1=\"121.9375\" y2=\"121.9375\"/></a><!--MD5=[b9389687b975829384b498ac4b7476b2]\n",
       "class E8--><a href=\"psysml:c18479a8-8a5a-4a0f-a7e4-033b0648dafb\" target=\"_top\" title=\"psysml:c18479a8-8a5a-4a0f-a7e4-033b0648dafb\" xlink:actuate=\"onRequest\" xlink:href=\"psysml:c18479a8-8a5a-4a0f-a7e4-033b0648dafb\" xlink:show=\"new\" xlink:title=\"psysml:c18479a8-8a5a-4a0f-a7e4-033b0648dafb\" xlink:type=\"simple\"><rect fill=\"#FFFFFF\" height=\"45.9375\" id=\"E8\" rx=\"10\" ry=\"10\" style=\"stroke: #383838; stroke-width: 1.5;\" width=\"42\" x=\"284\" y=\"84\"/><text fill=\"#000000\" font-family=\"sans-serif\" font-size=\"12\" font-style=\"italic\" lengthAdjust=\"spacingAndGlyphs\" textLength=\"40\" x=\"285\" y=\"100.1387\">«part»</text><text fill=\"#000000\" font-family=\"sans-serif\" font-size=\"12\" lengthAdjust=\"spacingAndGlyphs\" textLength=\"22\" x=\"294\" y=\"114.1074\">y: B</text><line style=\"stroke: #383838; stroke-width: 1.5;\" x1=\"285\" x2=\"325\" y1=\"121.9375\" y2=\"121.9375\"/></a><!--MD5=[96f4274e9e20536e775497830990834d]\n",
       "class E10--><a href=\"psysml:61feb9d5-4074-478e-84bb-b7eccf03922b\" target=\"_top\" title=\"psysml:61feb9d5-4074-478e-84bb-b7eccf03922b\" xlink:actuate=\"onRequest\" xlink:href=\"psysml:61feb9d5-4074-478e-84bb-b7eccf03922b\" xlink:show=\"new\" xlink:title=\"psysml:61feb9d5-4074-478e-84bb-b7eccf03922b\" xlink:type=\"simple\"><rect fill=\"#FFFFFF\" height=\"45.9375\" id=\"E10\" rx=\"10\" ry=\"10\" style=\"stroke: #383838; stroke-width: 1.5;\" width=\"42\" x=\"186\" y=\"84\"/><text fill=\"#000000\" font-family=\"sans-serif\" font-size=\"12\" font-style=\"italic\" lengthAdjust=\"spacingAndGlyphs\" textLength=\"40\" x=\"187\" y=\"100.1387\">«part»</text><text fill=\"#000000\" font-family=\"sans-serif\" font-size=\"12\" lengthAdjust=\"spacingAndGlyphs\" textLength=\"22\" x=\"196\" y=\"114.1074\">x: A</text><line style=\"stroke: #383838; stroke-width: 1.5;\" x1=\"187\" x2=\"227\" y1=\"121.9375\" y2=\"121.9375\"/></a><!--MD5=[1dd1bfd58a279cf63c5f349dbc8fc6a1]\n",
       "class E11--><a href=\"psysml:2edd355f-e967-45cc-82fe-80091bb729bd\" target=\"_top\" title=\"psysml:2edd355f-e967-45cc-82fe-80091bb729bd\" xlink:actuate=\"onRequest\" xlink:href=\"psysml:2edd355f-e967-45cc-82fe-80091bb729bd\" xlink:show=\"new\" xlink:title=\"psysml:2edd355f-e967-45cc-82fe-80091bb729bd\" xlink:type=\"simple\"><rect fill=\"#FFFFFF\" height=\"45.9375\" id=\"E11\" rx=\"10\" ry=\"10\" style=\"stroke: #383838; stroke-width: 1.5;\" width=\"42\" x=\"109\" y=\"84\"/><text fill=\"#000000\" font-family=\"sans-serif\" font-size=\"12\" font-style=\"italic\" lengthAdjust=\"spacingAndGlyphs\" textLength=\"40\" x=\"110\" y=\"100.1387\">«part»</text><text fill=\"#000000\" font-family=\"sans-serif\" font-size=\"12\" lengthAdjust=\"spacingAndGlyphs\" textLength=\"22\" x=\"119\" y=\"114.1074\">y: B</text><line style=\"stroke: #383838; stroke-width: 1.5;\" x1=\"110\" x2=\"150\" y1=\"121.9375\" y2=\"121.9375\"/></a><!--MD5=[14ccda38c055a5c0da953d572bc50960]\n",
       "link E7 to E3--><a href=\"psysml:c27725e1-02a3-443e-822c-73205e66e264\" target=\"_top\" title=\"psysml:c27725e1-02a3-443e-822c-73205e66e264\" xlink:actuate=\"onRequest\" xlink:href=\"psysml:c27725e1-02a3-443e-822c-73205e66e264\" xlink:show=\"new\" xlink:title=\"psysml:c27725e1-02a3-443e-822c-73205e66e264\" xlink:type=\"simple\"><path d=\"M382,130.1 C382,145.37 382,166.16 382,184.57 \" fill=\"none\" id=\"E7-&gt;E3\" style=\"stroke: #383838; stroke-width: 1.0;\"/><polygon fill=\"#FFFFFF\" points=\"382,204.61,375,185.61,389,185.61,382,204.61\" style=\"stroke: #383838; stroke-width: 1.0;\"/><ellipse cx=\"377\" cy=\"179.91\" fill=\"#383838\" rx=\"2\" ry=\"2\" style=\"stroke: #383838; stroke-width: 1.0;\"/><ellipse cx=\"387\" cy=\"179.91\" fill=\"#383838\" rx=\"2\" ry=\"2\" style=\"stroke: #383838; stroke-width: 1.0;\"/></a><!--MD5=[1ccb2481ffa92f8d51a74ee30c51832a]\n",
       "link E8 to E5--><a href=\"psysml:43ceeb8e-eeaf-4aa9-b958-61b6f980f202\" target=\"_top\" title=\"psysml:43ceeb8e-eeaf-4aa9-b958-61b6f980f202\" xlink:actuate=\"onRequest\" xlink:href=\"psysml:43ceeb8e-eeaf-4aa9-b958-61b6f980f202\" xlink:show=\"new\" xlink:title=\"psysml:43ceeb8e-eeaf-4aa9-b958-61b6f980f202\" xlink:type=\"simple\"><path d=\"M283.84,124.59 C272.23,133.52 257.5,144.61 244,154 C223.51,168.25 200.41,183.24 180.38,195.91 \" fill=\"none\" id=\"E8-&gt;E5\" style=\"stroke: #383838; stroke-width: 1.0;\"/><polygon fill=\"#FFFFFF\" points=\"163.36,206.57,175.7353,190.5434,183.175,202.403,163.36,206.57\" style=\"stroke: #383838; stroke-width: 1.0;\"/><ellipse cx=\"181.6267\" cy=\"189.2086\" fill=\"#383838\" rx=\"2\" ry=\"2\" style=\"stroke: #383838; stroke-width: 1.0;\"/><ellipse cx=\"186.9408\" cy=\"197.6797\" fill=\"#383838\" rx=\"2\" ry=\"2\" style=\"stroke: #383838; stroke-width: 1.0;\"/></a><!--MD5=[feeac5eb423634930294aa81f2d25a4c]\n",
       "link E10 to E3--><a href=\"psysml:2f015e6c-7efc-43fd-92bb-26e8cb5e6a22\" target=\"_top\" title=\"psysml:2f015e6c-7efc-43fd-92bb-26e8cb5e6a22\" xlink:actuate=\"onRequest\" xlink:href=\"psysml:2f015e6c-7efc-43fd-92bb-26e8cb5e6a22\" xlink:show=\"new\" xlink:title=\"psysml:2f015e6c-7efc-43fd-92bb-26e8cb5e6a22\" xlink:type=\"simple\"><path d=\"M228.16,124.59 C239.77,133.52 254.5,144.61 268,154 C288.49,168.25 311.59,183.24 331.62,195.91 \" fill=\"none\" id=\"E10-&gt;E3\" style=\"stroke: #383838; stroke-width: 1.0;\"/><polygon fill=\"#FFFFFF\" points=\"348.64,206.57,328.825,202.403,336.2647,190.5434,348.64,206.57\" style=\"stroke: #383838; stroke-width: 1.0;\"/><ellipse cx=\"325.0592\" cy=\"197.6797\" fill=\"#383838\" rx=\"2\" ry=\"2\" style=\"stroke: #383838; stroke-width: 1.0;\"/><ellipse cx=\"330.3733\" cy=\"189.2086\" fill=\"#383838\" rx=\"2\" ry=\"2\" style=\"stroke: #383838; stroke-width: 1.0;\"/></a><!--MD5=[07b77f6f309248d16187045709d1c26e]\n",
       "link E11 to E5--><a href=\"psysml:7cf9fed8-155f-433e-a01b-9d13c54aa089\" target=\"_top\" title=\"psysml:7cf9fed8-155f-433e-a01b-9d13c54aa089\" xlink:actuate=\"onRequest\" xlink:href=\"psysml:7cf9fed8-155f-433e-a01b-9d13c54aa089\" xlink:show=\"new\" xlink:title=\"psysml:7cf9fed8-155f-433e-a01b-9d13c54aa089\" xlink:type=\"simple\"><path d=\"M130,130.1 C130,145.37 130,166.16 130,184.57 \" fill=\"none\" id=\"E11-&gt;E5\" style=\"stroke: #383838; stroke-width: 1.0;\"/><polygon fill=\"#FFFFFF\" points=\"130,204.61,123,185.61,137,185.61,130,204.61\" style=\"stroke: #383838; stroke-width: 1.0;\"/><ellipse cx=\"125\" cy=\"179.91\" fill=\"#383838\" rx=\"2\" ry=\"2\" style=\"stroke: #383838; stroke-width: 1.0;\"/><ellipse cx=\"135\" cy=\"179.91\" fill=\"#383838\" rx=\"2\" ry=\"2\" style=\"stroke: #383838; stroke-width: 1.0;\"/></a><!--MD5=[39f41a0e550fb3d73b4d8135617e30a2]\n",
       "link E12 to E3--><a href=\"psysml:2b9be10b-590f-4358-bedf-a86ab0ed6bce\" target=\"_top\" title=\"psysml:2b9be10b-590f-4358-bedf-a86ab0ed6bce\" xlink:actuate=\"onRequest\" xlink:href=\"psysml:2b9be10b-590f-4358-bedf-a86ab0ed6bce\" xlink:show=\"new\" xlink:title=\"psysml:2b9be10b-590f-4358-bedf-a86ab0ed6bce\" xlink:type=\"simple\"><path d=\"M444.7,130.1 C434.28,146.2 419.89,168.44 407.53,187.55 \" fill=\"none\" id=\"E12-&gt;E3\" style=\"stroke: #383838; stroke-width: 1.0;\"/><polygon fill=\"#FFFFFF\" points=\"396.49,204.61,400.9313,184.8546,412.6866,192.4581,396.49,204.61\" style=\"stroke: #383838; stroke-width: 1.0;\"/><ellipse cx=\"405.7063\" cy=\"181.1547\" fill=\"#383838\" rx=\"2\" ry=\"2\" style=\"stroke: #383838; stroke-width: 1.0;\"/><ellipse cx=\"414.103\" cy=\"186.5858\" fill=\"#383838\" rx=\"2\" ry=\"2\" style=\"stroke: #383838; stroke-width: 1.0;\"/></a><!--MD5=[066b2d8af59fea80ccdb3d54ad5c1091]\n",
       "link E13 to E5--><a href=\"psysml:78896435-f936-4df6-9172-2ff6f9da23d9\" target=\"_top\" title=\"psysml:78896435-f936-4df6-9172-2ff6f9da23d9\" xlink:actuate=\"onRequest\" xlink:href=\"psysml:78896435-f936-4df6-9172-2ff6f9da23d9\" xlink:show=\"new\" xlink:title=\"psysml:78896435-f936-4df6-9172-2ff6f9da23d9\" xlink:type=\"simple\"><path d=\"M67.3,130.1 C77.72,146.2 92.11,168.44 104.47,187.55 \" fill=\"none\" id=\"E13-&gt;E5\" style=\"stroke: #383838; stroke-width: 1.0;\"/><polygon fill=\"#FFFFFF\" points=\"115.51,204.61,99.3134,192.4581,111.0687,184.8546,115.51,204.61\" style=\"stroke: #383838; stroke-width: 1.0;\"/><ellipse cx=\"97.897\" cy=\"186.5858\" fill=\"#383838\" rx=\"2\" ry=\"2\" style=\"stroke: #383838; stroke-width: 1.0;\"/><ellipse cx=\"106.2937\" cy=\"181.1547\" fill=\"#383838\" rx=\"2\" ry=\"2\" style=\"stroke: #383838; stroke-width: 1.0;\"/></a><!--MD5=[0162edeea2fa51ab8e954216216a256f]\n",
       "@startuml\r\n",
       "top to bottom direction\r\n",
       "skinparam monochrome true\r\n",
       "skinparam classbackgroundcolor white\r\n",
       "skinparam shadowing false\r\n",
       "skinparam wrapWidth 300\r\n",
       "hide circle\r\n",
       "\r\n",
       "package \"CircularImport\" as E1  [[psysml:33738fcf-e3ee-4a7e-98d6-e975d5107ba1 ]]  {\r\n",
       "package \"P1\" as E2  [[psysml:130ef6c7-3ccc-43b9-a62a-eb926cce14a9 ]]  {\r\n",
       "comp def \"A\" as E3  <<(T,blue) part def>> [[psysml:cb0f7157-438a-4ad5-8a96-0def6a248a5a ]] {\r\n",
       "}\r\n",
       "}\r\n",
       "package \"P2\" as E4  [[psysml:0bc4dbd6-620a-45b9-8d32-94753792e496 ]]  {\r\n",
       "comp def \"B\" as E5  <<(T,blue) part def>> [[psysml:fa716e5d-1985-44ef-b151-4b2b4c0691ed ]] {\r\n",
       "}\r\n",
       "}\r\n",
       "package \"Test1\" as E6  [[psysml:b4043d48-e2a3-4796-9568-6bbff931ebfd ]]  {\r\n",
       "comp usage \"x: A\" as E7  <<(T,blue) part>> [[psysml:418b0add-8d91-4a6d-810e-c529e1e5d9c2 ]] {\r\n",
       "}\r\n",
       "comp usage \"y: B\" as E8  <<(T,blue) part>> [[psysml:c18479a8-8a5a-4a0f-a7e4-033b0648dafb ]] {\r\n",
       "}\r\n",
       "E7 - -:|> E3 [[psysml:c27725e1-02a3-443e-822c-73205e66e264 ]] \r\n",
       "E8 - -:|> E5 [[psysml:43ceeb8e-eeaf-4aa9-b958-61b6f980f202 ]] \r\n",
       "}\r\n",
       "package \"Test2\" as E9  [[psysml:85a9df72-6515-46a6-853d-c4da844a4980 ]]  {\r\n",
       "comp usage \"x: A\" as E10  <<(T,blue) part>> [[psysml:61feb9d5-4074-478e-84bb-b7eccf03922b ]] {\r\n",
       "}\r\n",
       "comp usage \"y: B\" as E11  <<(T,blue) part>> [[psysml:2edd355f-e967-45cc-82fe-80091bb729bd ]] {\r\n",
       "}\r\n",
       "E10 - -:|> E3 [[psysml:2f015e6c-7efc-43fd-92bb-26e8cb5e6a22 ]] \r\n",
       "E11 - -:|> E5 [[psysml:7cf9fed8-155f-433e-a01b-9d13c54aa089 ]] \r\n",
       "}\r\n",
       "comp usage \"x: A\" as E12  <<(T,blue) part>> [[psysml:530a6ae9-7dc1-4851-ab10-936e92c948f7 ]] {\r\n",
       "}\r\n",
       "comp usage \"y: B\" as E13  <<(T,blue) part>> [[psysml:561bfa55-252f-4783-9fb1-458618dbf236 ]] {\r\n",
       "}\r\n",
       "E12 - -:|> E3 [[psysml:2b9be10b-590f-4358-bedf-a86ab0ed6bce ]] \r\n",
       "E13 - -:|> E5 [[psysml:78896435-f936-4df6-9172-2ff6f9da23d9 ]] \r\n",
       "}\r\n",
       "@enduml\r\n",
       "\n",
       "PlantUML version 1.2020.13(Sat Jun 13 12:26:38 UTC 2020)\n",
       "(EPL source distribution)\n",
       "Java Runtime: OpenJDK Runtime Environment\n",
       "JVM: OpenJDK 64-Bit Server VM\n",
       "Default Encoding: UTF-8\n",
       "Language: en\n",
       "Country: null\n",
       "--></g></svg>"
      ]
     },
     "execution_count": 44,
     "metadata": {},
     "output_type": "execute_result"
    }
   ],
   "source": [
    "%viz --style=\"TB\" --view=\"Default\" \"CircularImport\""
   ]
  },
  {
   "cell_type": "code",
   "execution_count": 45,
   "id": "8614b40b",
   "metadata": {
    "execution": {
     "iopub.execute_input": "2021-06-30T09:15:12.900198Z",
     "iopub.status.busy": "2021-06-30T09:15:12.898091Z",
     "iopub.status.idle": "2021-06-30T09:15:12.956808Z",
     "shell.execute_reply": "2021-06-30T09:15:12.953936Z"
    }
   },
   "outputs": [
    {
     "data": {
      "image/svg+xml": [
       "<?xml version=\"1.0\" encoding=\"UTF-8\" standalone=\"no\"?><svg xmlns=\"http://www.w3.org/2000/svg\" xmlns:xlink=\"http://www.w3.org/1999/xlink\" contentScriptType=\"application/ecmascript\" contentStyleType=\"text/css\" height=\"303px\" preserveAspectRatio=\"none\" style=\"width:518px;height:303px;\" version=\"1.1\" viewBox=\"0 0 518 303\" width=\"518px\" zoomAndPan=\"magnify\"><defs/><g><!--MD5=[fbc87193dbaf4d95561dea2c320d4a47]\n",
       "cluster E1--><a href=\"psysml:33738fcf-e3ee-4a7e-98d6-e975d5107ba1\" target=\"_top\" title=\"psysml:33738fcf-e3ee-4a7e-98d6-e975d5107ba1\" xlink:actuate=\"onRequest\" xlink:href=\"psysml:33738fcf-e3ee-4a7e-98d6-e975d5107ba1\" xlink:show=\"new\" xlink:title=\"psysml:33738fcf-e3ee-4a7e-98d6-e975d5107ba1\" xlink:type=\"simple\"><polygon fill=\"#FFFFFF\" points=\"16,6,134,6,141,28.2969,496,28.2969,496,291,16,291,16,6\" style=\"stroke: #000000; stroke-width: 1.5;\"/><line style=\"stroke: #000000; stroke-width: 1.5;\" x1=\"16\" x2=\"141\" y1=\"28.2969\" y2=\"28.2969\"/><text fill=\"#000000\" font-family=\"sans-serif\" font-size=\"14\" font-weight=\"bold\" lengthAdjust=\"spacingAndGlyphs\" textLength=\"112\" x=\"20\" y=\"20.9951\">CircularImport</text></a><!--MD5=[e4f7fae6ed58524ba242bb0b0d3be6b7]\n",
       "cluster E2--><a href=\"psysml:130ef6c7-3ccc-43b9-a62a-eb926cce14a9\" target=\"_top\" title=\"psysml:130ef6c7-3ccc-43b9-a62a-eb926cce14a9\" xlink:actuate=\"onRequest\" xlink:href=\"psysml:130ef6c7-3ccc-43b9-a62a-eb926cce14a9\" xlink:show=\"new\" xlink:title=\"psysml:130ef6c7-3ccc-43b9-a62a-eb926cce14a9\" xlink:type=\"simple\"><polygon fill=\"#FFFFFF\" points=\"333,170,359,170,366,192.2969,431,192.2969,431,267,333,267,333,170\" style=\"stroke: #000000; stroke-width: 1.5;\"/><line style=\"stroke: #000000; stroke-width: 1.5;\" x1=\"333\" x2=\"366\" y1=\"192.2969\" y2=\"192.2969\"/><text fill=\"#000000\" font-family=\"sans-serif\" font-size=\"14\" font-weight=\"bold\" lengthAdjust=\"spacingAndGlyphs\" textLength=\"20\" x=\"337\" y=\"184.9951\">P1</text></a><!--MD5=[f6df4d0ebaf0b5dfb2ced0ae5af7c670]\n",
       "cluster E4--><a href=\"psysml:0bc4dbd6-620a-45b9-8d32-94753792e496\" target=\"_top\" title=\"psysml:0bc4dbd6-620a-45b9-8d32-94753792e496\" xlink:actuate=\"onRequest\" xlink:href=\"psysml:0bc4dbd6-620a-45b9-8d32-94753792e496\" xlink:show=\"new\" xlink:title=\"psysml:0bc4dbd6-620a-45b9-8d32-94753792e496\" xlink:type=\"simple\"><polygon fill=\"#FFFFFF\" points=\"81,170,107,170,114,192.2969,179,192.2969,179,267,81,267,81,170\" style=\"stroke: #000000; stroke-width: 1.5;\"/><line style=\"stroke: #000000; stroke-width: 1.5;\" x1=\"81\" x2=\"114\" y1=\"192.2969\" y2=\"192.2969\"/><text fill=\"#000000\" font-family=\"sans-serif\" font-size=\"14\" font-weight=\"bold\" lengthAdjust=\"spacingAndGlyphs\" textLength=\"20\" x=\"85\" y=\"184.9951\">P2</text></a><!--MD5=[14e3b0961a2654348d326746436168a1]\n",
       "cluster E6--><a href=\"psysml:b4043d48-e2a3-4796-9568-6bbff931ebfd\" target=\"_top\" title=\"psysml:b4043d48-e2a3-4796-9568-6bbff931ebfd\" xlink:actuate=\"onRequest\" xlink:href=\"psysml:b4043d48-e2a3-4796-9568-6bbff931ebfd\" xlink:show=\"new\" xlink:title=\"psysml:b4043d48-e2a3-4796-9568-6bbff931ebfd\" xlink:type=\"simple\"><polygon fill=\"#FFFFFF\" points=\"268,49,319,49,326,71.2969,419,71.2969,419,146,268,146,268,49\" style=\"stroke: #000000; stroke-width: 1.5;\"/><line style=\"stroke: #000000; stroke-width: 1.5;\" x1=\"268\" x2=\"326\" y1=\"71.2969\" y2=\"71.2969\"/><text fill=\"#000000\" font-family=\"sans-serif\" font-size=\"14\" font-weight=\"bold\" lengthAdjust=\"spacingAndGlyphs\" textLength=\"45\" x=\"272\" y=\"63.9951\">Test1</text></a><!--MD5=[7f149f147074ac12df2cb0a7728a5fb0]\n",
       "cluster E9--><a href=\"psysml:85a9df72-6515-46a6-853d-c4da844a4980\" target=\"_top\" title=\"psysml:85a9df72-6515-46a6-853d-c4da844a4980\" xlink:actuate=\"onRequest\" xlink:href=\"psysml:85a9df72-6515-46a6-853d-c4da844a4980\" xlink:show=\"new\" xlink:title=\"psysml:85a9df72-6515-46a6-853d-c4da844a4980\" xlink:type=\"simple\"><polygon fill=\"#FFFFFF\" points=\"93,49,144,49,151,71.2969,244,71.2969,244,146,93,146,93,49\" style=\"stroke: #000000; stroke-width: 1.5;\"/><line style=\"stroke: #000000; stroke-width: 1.5;\" x1=\"93\" x2=\"151\" y1=\"71.2969\" y2=\"71.2969\"/><text fill=\"#000000\" font-family=\"sans-serif\" font-size=\"14\" font-weight=\"bold\" lengthAdjust=\"spacingAndGlyphs\" textLength=\"45\" x=\"97\" y=\"63.9951\">Test2</text></a><!--MD5=[49a0ec8f00dab7302a31f22d0f0fe584]\n",
       "class E12--><a href=\"psysml:530a6ae9-7dc1-4851-ab10-936e92c948f7\" target=\"_top\" title=\"psysml:530a6ae9-7dc1-4851-ab10-936e92c948f7\" xlink:actuate=\"onRequest\" xlink:href=\"psysml:530a6ae9-7dc1-4851-ab10-936e92c948f7\" xlink:show=\"new\" xlink:title=\"psysml:530a6ae9-7dc1-4851-ab10-936e92c948f7\" xlink:type=\"simple\"><rect fill=\"#FFFFFF\" height=\"45.9375\" id=\"E12\" rx=\"10\" ry=\"10\" style=\"stroke: #383838; stroke-width: 1.5;\" width=\"42\" x=\"438\" y=\"84\"/><text fill=\"#000000\" font-family=\"sans-serif\" font-size=\"12\" font-style=\"italic\" lengthAdjust=\"spacingAndGlyphs\" textLength=\"40\" x=\"439\" y=\"100.1387\">«part»</text><text fill=\"#000000\" font-family=\"sans-serif\" font-size=\"12\" lengthAdjust=\"spacingAndGlyphs\" textLength=\"22\" x=\"448\" y=\"114.1074\">x: A</text><line style=\"stroke: #383838; stroke-width: 1.5;\" x1=\"439\" x2=\"479\" y1=\"121.9375\" y2=\"121.9375\"/></a><!--MD5=[ee3c913d1a06f366521f9ef512b67efe]\n",
       "class E13--><a href=\"psysml:561bfa55-252f-4783-9fb1-458618dbf236\" target=\"_top\" title=\"psysml:561bfa55-252f-4783-9fb1-458618dbf236\" xlink:actuate=\"onRequest\" xlink:href=\"psysml:561bfa55-252f-4783-9fb1-458618dbf236\" xlink:show=\"new\" xlink:title=\"psysml:561bfa55-252f-4783-9fb1-458618dbf236\" xlink:type=\"simple\"><rect fill=\"#FFFFFF\" height=\"45.9375\" id=\"E13\" rx=\"10\" ry=\"10\" style=\"stroke: #383838; stroke-width: 1.5;\" width=\"42\" x=\"32\" y=\"84\"/><text fill=\"#000000\" font-family=\"sans-serif\" font-size=\"12\" font-style=\"italic\" lengthAdjust=\"spacingAndGlyphs\" textLength=\"40\" x=\"33\" y=\"100.1387\">«part»</text><text fill=\"#000000\" font-family=\"sans-serif\" font-size=\"12\" lengthAdjust=\"spacingAndGlyphs\" textLength=\"22\" x=\"42\" y=\"114.1074\">y: B</text><line style=\"stroke: #383838; stroke-width: 1.5;\" x1=\"33\" x2=\"73\" y1=\"121.9375\" y2=\"121.9375\"/></a><!--MD5=[09b614a08d8cba4a07c9adeb5e0fee81]\n",
       "class E3--><a href=\"psysml:cb0f7157-438a-4ad5-8a96-0def6a248a5a\" target=\"_top\" title=\"psysml:cb0f7157-438a-4ad5-8a96-0def6a248a5a\" xlink:actuate=\"onRequest\" xlink:href=\"psysml:cb0f7157-438a-4ad5-8a96-0def6a248a5a\" xlink:show=\"new\" xlink:title=\"psysml:cb0f7157-438a-4ad5-8a96-0def6a248a5a\" xlink:type=\"simple\"><rect fill=\"#FFFFFF\" height=\"45.9375\" id=\"E3\" style=\"stroke: #383838; stroke-width: 1.5;\" width=\"66\" x=\"349\" y=\"205\"/><text fill=\"#000000\" font-family=\"sans-serif\" font-size=\"12\" font-style=\"italic\" lengthAdjust=\"spacingAndGlyphs\" textLength=\"64\" x=\"350\" y=\"221.1387\">«part def»</text><text fill=\"#000000\" font-family=\"sans-serif\" font-size=\"12\" lengthAdjust=\"spacingAndGlyphs\" textLength=\"8\" x=\"378\" y=\"235.1074\">A</text><line style=\"stroke: #383838; stroke-width: 1.5;\" x1=\"350\" x2=\"414\" y1=\"242.9375\" y2=\"242.9375\"/></a><!--MD5=[270fce915f116d4de14055a7c1d9a0f3]\n",
       "class E5--><a href=\"psysml:fa716e5d-1985-44ef-b151-4b2b4c0691ed\" target=\"_top\" title=\"psysml:fa716e5d-1985-44ef-b151-4b2b4c0691ed\" xlink:actuate=\"onRequest\" xlink:href=\"psysml:fa716e5d-1985-44ef-b151-4b2b4c0691ed\" xlink:show=\"new\" xlink:title=\"psysml:fa716e5d-1985-44ef-b151-4b2b4c0691ed\" xlink:type=\"simple\"><rect fill=\"#FFFFFF\" height=\"45.9375\" id=\"E5\" style=\"stroke: #383838; stroke-width: 1.5;\" width=\"66\" x=\"97\" y=\"205\"/><text fill=\"#000000\" font-family=\"sans-serif\" font-size=\"12\" font-style=\"italic\" lengthAdjust=\"spacingAndGlyphs\" textLength=\"64\" x=\"98\" y=\"221.1387\">«part def»</text><text fill=\"#000000\" font-family=\"sans-serif\" font-size=\"12\" lengthAdjust=\"spacingAndGlyphs\" textLength=\"8\" x=\"126\" y=\"235.1074\">B</text><line style=\"stroke: #383838; stroke-width: 1.5;\" x1=\"98\" x2=\"162\" y1=\"242.9375\" y2=\"242.9375\"/></a><!--MD5=[2156ba9850f5573cc1fc38a6a4b2f02b]\n",
       "class E7--><a href=\"psysml:418b0add-8d91-4a6d-810e-c529e1e5d9c2\" target=\"_top\" title=\"psysml:418b0add-8d91-4a6d-810e-c529e1e5d9c2\" xlink:actuate=\"onRequest\" xlink:href=\"psysml:418b0add-8d91-4a6d-810e-c529e1e5d9c2\" xlink:show=\"new\" xlink:title=\"psysml:418b0add-8d91-4a6d-810e-c529e1e5d9c2\" xlink:type=\"simple\"><rect fill=\"#FFFFFF\" height=\"45.9375\" id=\"E7\" rx=\"10\" ry=\"10\" style=\"stroke: #383838; stroke-width: 1.5;\" width=\"42\" x=\"361\" y=\"84\"/><text fill=\"#000000\" font-family=\"sans-serif\" font-size=\"12\" font-style=\"italic\" lengthAdjust=\"spacingAndGlyphs\" textLength=\"40\" x=\"362\" y=\"100.1387\">«part»</text><text fill=\"#000000\" font-family=\"sans-serif\" font-size=\"12\" lengthAdjust=\"spacingAndGlyphs\" textLength=\"22\" x=\"371\" y=\"114.1074\">x: A</text><line style=\"stroke: #383838; stroke-width: 1.5;\" x1=\"362\" x2=\"402\" y1=\"121.9375\" y2=\"121.9375\"/></a><!--MD5=[b9389687b975829384b498ac4b7476b2]\n",
       "class E8--><a href=\"psysml:c18479a8-8a5a-4a0f-a7e4-033b0648dafb\" target=\"_top\" title=\"psysml:c18479a8-8a5a-4a0f-a7e4-033b0648dafb\" xlink:actuate=\"onRequest\" xlink:href=\"psysml:c18479a8-8a5a-4a0f-a7e4-033b0648dafb\" xlink:show=\"new\" xlink:title=\"psysml:c18479a8-8a5a-4a0f-a7e4-033b0648dafb\" xlink:type=\"simple\"><rect fill=\"#FFFFFF\" height=\"45.9375\" id=\"E8\" rx=\"10\" ry=\"10\" style=\"stroke: #383838; stroke-width: 1.5;\" width=\"42\" x=\"284\" y=\"84\"/><text fill=\"#000000\" font-family=\"sans-serif\" font-size=\"12\" font-style=\"italic\" lengthAdjust=\"spacingAndGlyphs\" textLength=\"40\" x=\"285\" y=\"100.1387\">«part»</text><text fill=\"#000000\" font-family=\"sans-serif\" font-size=\"12\" lengthAdjust=\"spacingAndGlyphs\" textLength=\"22\" x=\"294\" y=\"114.1074\">y: B</text><line style=\"stroke: #383838; stroke-width: 1.5;\" x1=\"285\" x2=\"325\" y1=\"121.9375\" y2=\"121.9375\"/></a><!--MD5=[96f4274e9e20536e775497830990834d]\n",
       "class E10--><a href=\"psysml:61feb9d5-4074-478e-84bb-b7eccf03922b\" target=\"_top\" title=\"psysml:61feb9d5-4074-478e-84bb-b7eccf03922b\" xlink:actuate=\"onRequest\" xlink:href=\"psysml:61feb9d5-4074-478e-84bb-b7eccf03922b\" xlink:show=\"new\" xlink:title=\"psysml:61feb9d5-4074-478e-84bb-b7eccf03922b\" xlink:type=\"simple\"><rect fill=\"#FFFFFF\" height=\"45.9375\" id=\"E10\" rx=\"10\" ry=\"10\" style=\"stroke: #383838; stroke-width: 1.5;\" width=\"42\" x=\"186\" y=\"84\"/><text fill=\"#000000\" font-family=\"sans-serif\" font-size=\"12\" font-style=\"italic\" lengthAdjust=\"spacingAndGlyphs\" textLength=\"40\" x=\"187\" y=\"100.1387\">«part»</text><text fill=\"#000000\" font-family=\"sans-serif\" font-size=\"12\" lengthAdjust=\"spacingAndGlyphs\" textLength=\"22\" x=\"196\" y=\"114.1074\">x: A</text><line style=\"stroke: #383838; stroke-width: 1.5;\" x1=\"187\" x2=\"227\" y1=\"121.9375\" y2=\"121.9375\"/></a><!--MD5=[1dd1bfd58a279cf63c5f349dbc8fc6a1]\n",
       "class E11--><a href=\"psysml:2edd355f-e967-45cc-82fe-80091bb729bd\" target=\"_top\" title=\"psysml:2edd355f-e967-45cc-82fe-80091bb729bd\" xlink:actuate=\"onRequest\" xlink:href=\"psysml:2edd355f-e967-45cc-82fe-80091bb729bd\" xlink:show=\"new\" xlink:title=\"psysml:2edd355f-e967-45cc-82fe-80091bb729bd\" xlink:type=\"simple\"><rect fill=\"#FFFFFF\" height=\"45.9375\" id=\"E11\" rx=\"10\" ry=\"10\" style=\"stroke: #383838; stroke-width: 1.5;\" width=\"42\" x=\"109\" y=\"84\"/><text fill=\"#000000\" font-family=\"sans-serif\" font-size=\"12\" font-style=\"italic\" lengthAdjust=\"spacingAndGlyphs\" textLength=\"40\" x=\"110\" y=\"100.1387\">«part»</text><text fill=\"#000000\" font-family=\"sans-serif\" font-size=\"12\" lengthAdjust=\"spacingAndGlyphs\" textLength=\"22\" x=\"119\" y=\"114.1074\">y: B</text><line style=\"stroke: #383838; stroke-width: 1.5;\" x1=\"110\" x2=\"150\" y1=\"121.9375\" y2=\"121.9375\"/></a><!--MD5=[14ccda38c055a5c0da953d572bc50960]\n",
       "link E7 to E3--><a href=\"psysml:c27725e1-02a3-443e-822c-73205e66e264\" target=\"_top\" title=\"psysml:c27725e1-02a3-443e-822c-73205e66e264\" xlink:actuate=\"onRequest\" xlink:href=\"psysml:c27725e1-02a3-443e-822c-73205e66e264\" xlink:show=\"new\" xlink:title=\"psysml:c27725e1-02a3-443e-822c-73205e66e264\" xlink:type=\"simple\"><path d=\"M382,130.1 C382,145.37 382,166.16 382,184.57 \" fill=\"none\" id=\"E7-&gt;E3\" style=\"stroke: #383838; stroke-width: 1.0;\"/><polygon fill=\"#FFFFFF\" points=\"382,204.61,375,185.61,389,185.61,382,204.61\" style=\"stroke: #383838; stroke-width: 1.0;\"/><ellipse cx=\"377\" cy=\"179.91\" fill=\"#383838\" rx=\"2\" ry=\"2\" style=\"stroke: #383838; stroke-width: 1.0;\"/><ellipse cx=\"387\" cy=\"179.91\" fill=\"#383838\" rx=\"2\" ry=\"2\" style=\"stroke: #383838; stroke-width: 1.0;\"/></a><!--MD5=[1ccb2481ffa92f8d51a74ee30c51832a]\n",
       "link E8 to E5--><a href=\"psysml:43ceeb8e-eeaf-4aa9-b958-61b6f980f202\" target=\"_top\" title=\"psysml:43ceeb8e-eeaf-4aa9-b958-61b6f980f202\" xlink:actuate=\"onRequest\" xlink:href=\"psysml:43ceeb8e-eeaf-4aa9-b958-61b6f980f202\" xlink:show=\"new\" xlink:title=\"psysml:43ceeb8e-eeaf-4aa9-b958-61b6f980f202\" xlink:type=\"simple\"><path d=\"M283.84,124.59 C272.23,133.52 257.5,144.61 244,154 C223.51,168.25 200.41,183.24 180.38,195.91 \" fill=\"none\" id=\"E8-&gt;E5\" style=\"stroke: #383838; stroke-width: 1.0;\"/><polygon fill=\"#FFFFFF\" points=\"163.36,206.57,175.7353,190.5434,183.175,202.403,163.36,206.57\" style=\"stroke: #383838; stroke-width: 1.0;\"/><ellipse cx=\"181.6267\" cy=\"189.2086\" fill=\"#383838\" rx=\"2\" ry=\"2\" style=\"stroke: #383838; stroke-width: 1.0;\"/><ellipse cx=\"186.9408\" cy=\"197.6797\" fill=\"#383838\" rx=\"2\" ry=\"2\" style=\"stroke: #383838; stroke-width: 1.0;\"/></a><!--MD5=[feeac5eb423634930294aa81f2d25a4c]\n",
       "link E10 to E3--><a href=\"psysml:2f015e6c-7efc-43fd-92bb-26e8cb5e6a22\" target=\"_top\" title=\"psysml:2f015e6c-7efc-43fd-92bb-26e8cb5e6a22\" xlink:actuate=\"onRequest\" xlink:href=\"psysml:2f015e6c-7efc-43fd-92bb-26e8cb5e6a22\" xlink:show=\"new\" xlink:title=\"psysml:2f015e6c-7efc-43fd-92bb-26e8cb5e6a22\" xlink:type=\"simple\"><path d=\"M228.16,124.59 C239.77,133.52 254.5,144.61 268,154 C288.49,168.25 311.59,183.24 331.62,195.91 \" fill=\"none\" id=\"E10-&gt;E3\" style=\"stroke: #383838; stroke-width: 1.0;\"/><polygon fill=\"#FFFFFF\" points=\"348.64,206.57,328.825,202.403,336.2647,190.5434,348.64,206.57\" style=\"stroke: #383838; stroke-width: 1.0;\"/><ellipse cx=\"325.0592\" cy=\"197.6797\" fill=\"#383838\" rx=\"2\" ry=\"2\" style=\"stroke: #383838; stroke-width: 1.0;\"/><ellipse cx=\"330.3733\" cy=\"189.2086\" fill=\"#383838\" rx=\"2\" ry=\"2\" style=\"stroke: #383838; stroke-width: 1.0;\"/></a><!--MD5=[07b77f6f309248d16187045709d1c26e]\n",
       "link E11 to E5--><a href=\"psysml:7cf9fed8-155f-433e-a01b-9d13c54aa089\" target=\"_top\" title=\"psysml:7cf9fed8-155f-433e-a01b-9d13c54aa089\" xlink:actuate=\"onRequest\" xlink:href=\"psysml:7cf9fed8-155f-433e-a01b-9d13c54aa089\" xlink:show=\"new\" xlink:title=\"psysml:7cf9fed8-155f-433e-a01b-9d13c54aa089\" xlink:type=\"simple\"><path d=\"M130,130.1 C130,145.37 130,166.16 130,184.57 \" fill=\"none\" id=\"E11-&gt;E5\" style=\"stroke: #383838; stroke-width: 1.0;\"/><polygon fill=\"#FFFFFF\" points=\"130,204.61,123,185.61,137,185.61,130,204.61\" style=\"stroke: #383838; stroke-width: 1.0;\"/><ellipse cx=\"125\" cy=\"179.91\" fill=\"#383838\" rx=\"2\" ry=\"2\" style=\"stroke: #383838; stroke-width: 1.0;\"/><ellipse cx=\"135\" cy=\"179.91\" fill=\"#383838\" rx=\"2\" ry=\"2\" style=\"stroke: #383838; stroke-width: 1.0;\"/></a><!--MD5=[39f41a0e550fb3d73b4d8135617e30a2]\n",
       "link E12 to E3--><a href=\"psysml:2b9be10b-590f-4358-bedf-a86ab0ed6bce\" target=\"_top\" title=\"psysml:2b9be10b-590f-4358-bedf-a86ab0ed6bce\" xlink:actuate=\"onRequest\" xlink:href=\"psysml:2b9be10b-590f-4358-bedf-a86ab0ed6bce\" xlink:show=\"new\" xlink:title=\"psysml:2b9be10b-590f-4358-bedf-a86ab0ed6bce\" xlink:type=\"simple\"><path d=\"M444.7,130.1 C434.28,146.2 419.89,168.44 407.53,187.55 \" fill=\"none\" id=\"E12-&gt;E3\" style=\"stroke: #383838; stroke-width: 1.0;\"/><polygon fill=\"#FFFFFF\" points=\"396.49,204.61,400.9313,184.8546,412.6866,192.4581,396.49,204.61\" style=\"stroke: #383838; stroke-width: 1.0;\"/><ellipse cx=\"405.7063\" cy=\"181.1547\" fill=\"#383838\" rx=\"2\" ry=\"2\" style=\"stroke: #383838; stroke-width: 1.0;\"/><ellipse cx=\"414.103\" cy=\"186.5858\" fill=\"#383838\" rx=\"2\" ry=\"2\" style=\"stroke: #383838; stroke-width: 1.0;\"/></a><!--MD5=[066b2d8af59fea80ccdb3d54ad5c1091]\n",
       "link E13 to E5--><a href=\"psysml:78896435-f936-4df6-9172-2ff6f9da23d9\" target=\"_top\" title=\"psysml:78896435-f936-4df6-9172-2ff6f9da23d9\" xlink:actuate=\"onRequest\" xlink:href=\"psysml:78896435-f936-4df6-9172-2ff6f9da23d9\" xlink:show=\"new\" xlink:title=\"psysml:78896435-f936-4df6-9172-2ff6f9da23d9\" xlink:type=\"simple\"><path d=\"M67.3,130.1 C77.72,146.2 92.11,168.44 104.47,187.55 \" fill=\"none\" id=\"E13-&gt;E5\" style=\"stroke: #383838; stroke-width: 1.0;\"/><polygon fill=\"#FFFFFF\" points=\"115.51,204.61,99.3134,192.4581,111.0687,184.8546,115.51,204.61\" style=\"stroke: #383838; stroke-width: 1.0;\"/><ellipse cx=\"97.897\" cy=\"186.5858\" fill=\"#383838\" rx=\"2\" ry=\"2\" style=\"stroke: #383838; stroke-width: 1.0;\"/><ellipse cx=\"106.2937\" cy=\"181.1547\" fill=\"#383838\" rx=\"2\" ry=\"2\" style=\"stroke: #383838; stroke-width: 1.0;\"/></a><!--MD5=[0162edeea2fa51ab8e954216216a256f]\n",
       "@startuml\r\n",
       "top to bottom direction\r\n",
       "skinparam monochrome true\r\n",
       "skinparam classbackgroundcolor white\r\n",
       "skinparam shadowing false\r\n",
       "skinparam wrapWidth 300\r\n",
       "hide circle\r\n",
       "\r\n",
       "package \"CircularImport\" as E1  [[psysml:33738fcf-e3ee-4a7e-98d6-e975d5107ba1 ]]  {\r\n",
       "package \"P1\" as E2  [[psysml:130ef6c7-3ccc-43b9-a62a-eb926cce14a9 ]]  {\r\n",
       "comp def \"A\" as E3  <<(T,blue) part def>> [[psysml:cb0f7157-438a-4ad5-8a96-0def6a248a5a ]] {\r\n",
       "}\r\n",
       "}\r\n",
       "package \"P2\" as E4  [[psysml:0bc4dbd6-620a-45b9-8d32-94753792e496 ]]  {\r\n",
       "comp def \"B\" as E5  <<(T,blue) part def>> [[psysml:fa716e5d-1985-44ef-b151-4b2b4c0691ed ]] {\r\n",
       "}\r\n",
       "}\r\n",
       "package \"Test1\" as E6  [[psysml:b4043d48-e2a3-4796-9568-6bbff931ebfd ]]  {\r\n",
       "comp usage \"x: A\" as E7  <<(T,blue) part>> [[psysml:418b0add-8d91-4a6d-810e-c529e1e5d9c2 ]] {\r\n",
       "}\r\n",
       "comp usage \"y: B\" as E8  <<(T,blue) part>> [[psysml:c18479a8-8a5a-4a0f-a7e4-033b0648dafb ]] {\r\n",
       "}\r\n",
       "E7 - -:|> E3 [[psysml:c27725e1-02a3-443e-822c-73205e66e264 ]] \r\n",
       "E8 - -:|> E5 [[psysml:43ceeb8e-eeaf-4aa9-b958-61b6f980f202 ]] \r\n",
       "}\r\n",
       "package \"Test2\" as E9  [[psysml:85a9df72-6515-46a6-853d-c4da844a4980 ]]  {\r\n",
       "comp usage \"x: A\" as E10  <<(T,blue) part>> [[psysml:61feb9d5-4074-478e-84bb-b7eccf03922b ]] {\r\n",
       "}\r\n",
       "comp usage \"y: B\" as E11  <<(T,blue) part>> [[psysml:2edd355f-e967-45cc-82fe-80091bb729bd ]] {\r\n",
       "}\r\n",
       "E10 - -:|> E3 [[psysml:2f015e6c-7efc-43fd-92bb-26e8cb5e6a22 ]] \r\n",
       "E11 - -:|> E5 [[psysml:7cf9fed8-155f-433e-a01b-9d13c54aa089 ]] \r\n",
       "}\r\n",
       "comp usage \"x: A\" as E12  <<(T,blue) part>> [[psysml:530a6ae9-7dc1-4851-ab10-936e92c948f7 ]] {\r\n",
       "}\r\n",
       "comp usage \"y: B\" as E13  <<(T,blue) part>> [[psysml:561bfa55-252f-4783-9fb1-458618dbf236 ]] {\r\n",
       "}\r\n",
       "E12 - -:|> E3 [[psysml:2b9be10b-590f-4358-bedf-a86ab0ed6bce ]] \r\n",
       "E13 - -:|> E5 [[psysml:78896435-f936-4df6-9172-2ff6f9da23d9 ]] \r\n",
       "}\r\n",
       "@enduml\r\n",
       "\n",
       "PlantUML version 1.2020.13(Sat Jun 13 12:26:38 UTC 2020)\n",
       "(EPL source distribution)\n",
       "Java Runtime: OpenJDK Runtime Environment\n",
       "JVM: OpenJDK 64-Bit Server VM\n",
       "Default Encoding: UTF-8\n",
       "Language: en\n",
       "Country: null\n",
       "--></g></svg>"
      ]
     },
     "execution_count": 45,
     "metadata": {},
     "output_type": "execute_result"
    }
   ],
   "source": [
    "%viz --style=\"TB\" --view=\"Tree\" \"CircularImport\""
   ]
  },
  {
   "cell_type": "code",
   "execution_count": 46,
   "id": "ac112d50",
   "metadata": {
    "execution": {
     "iopub.execute_input": "2021-06-30T09:15:13.013997Z",
     "iopub.status.busy": "2021-06-30T09:15:13.013010Z",
     "iopub.status.idle": "2021-06-30T09:15:13.015347Z",
     "shell.execute_reply": "2021-06-30T09:15:13.013439Z"
    }
   },
   "outputs": [
    {
     "data": {
      "image/svg+xml": [
       "<?xml version=\"1.0\" encoding=\"UTF-8\" standalone=\"no\"?><svg xmlns=\"http://www.w3.org/2000/svg\" xmlns:xlink=\"http://www.w3.org/1999/xlink\" contentScriptType=\"application/ecmascript\" contentStyleType=\"text/css\" height=\"12px\" preserveAspectRatio=\"none\" style=\"width:12px;height:12px;\" version=\"1.1\" viewBox=\"0 0 12 12\" width=\"12px\" zoomAndPan=\"magnify\"><defs/><g><!--MD5=[f4ee21bc66e489b5061b7c3e9601fdef]\n",
       "@startuml\r\n",
       "top to bottom direction\r\n",
       "skinparam monochrome true\r\n",
       "skinparam classbackgroundcolor white\r\n",
       "skinparam shadowing false\r\n",
       "skinparam wrapWidth 300\r\n",
       "hide circle\r\n",
       "\r\n",
       "@enduml\r\n",
       "\n",
       "PlantUML version 1.2020.13(Sat Jun 13 12:26:38 UTC 2020)\n",
       "(EPL source distribution)\n",
       "Java Runtime: OpenJDK Runtime Environment\n",
       "JVM: OpenJDK 64-Bit Server VM\n",
       "Default Encoding: UTF-8\n",
       "Language: en\n",
       "Country: null\n",
       "--></g></svg>"
      ]
     },
     "execution_count": 46,
     "metadata": {},
     "output_type": "execute_result"
    }
   ],
   "source": [
    "%viz --style=\"TB\" --view=\"State\" \"CircularImport\""
   ]
  },
  {
   "cell_type": "code",
   "execution_count": 47,
   "id": "f6030943",
   "metadata": {
    "execution": {
     "iopub.execute_input": "2021-06-30T09:15:13.084997Z",
     "iopub.status.busy": "2021-06-30T09:15:13.084288Z",
     "iopub.status.idle": "2021-06-30T09:15:13.141534Z",
     "shell.execute_reply": "2021-06-30T09:15:13.142468Z"
    }
   },
   "outputs": [
    {
     "data": {
      "image/svg+xml": [
       "<?xml version=\"1.0\" encoding=\"UTF-8\" standalone=\"no\"?><svg xmlns=\"http://www.w3.org/2000/svg\" xmlns:xlink=\"http://www.w3.org/1999/xlink\" contentScriptType=\"application/ecmascript\" contentStyleType=\"text/css\" height=\"179px\" preserveAspectRatio=\"none\" style=\"width:846px;height:179px;\" version=\"1.1\" viewBox=\"0 0 846 179\" width=\"846px\" zoomAndPan=\"magnify\"><defs/><g><!--MD5=[fbc87193dbaf4d95561dea2c320d4a47]\n",
       "cluster E1--><a href=\"psysml:33738fcf-e3ee-4a7e-98d6-e975d5107ba1\" target=\"_top\" title=\"psysml:33738fcf-e3ee-4a7e-98d6-e975d5107ba1\" xlink:actuate=\"onRequest\" xlink:href=\"psysml:33738fcf-e3ee-4a7e-98d6-e975d5107ba1\" xlink:show=\"new\" xlink:title=\"psysml:33738fcf-e3ee-4a7e-98d6-e975d5107ba1\" xlink:type=\"simple\"><polygon fill=\"#FFFFFF\" points=\"16,6,134,6,141,28.2969,824,28.2969,824,167,16,167,16,6\" style=\"stroke: #000000; stroke-width: 1.5;\"/><line style=\"stroke: #000000; stroke-width: 1.5;\" x1=\"16\" x2=\"141\" y1=\"28.2969\" y2=\"28.2969\"/><text fill=\"#000000\" font-family=\"sans-serif\" font-size=\"14\" font-weight=\"bold\" lengthAdjust=\"spacingAndGlyphs\" textLength=\"112\" x=\"20\" y=\"20.9951\">CircularImport</text></a><!--MD5=[e4f7fae6ed58524ba242bb0b0d3be6b7]\n",
       "cluster E2--><a href=\"psysml:130ef6c7-3ccc-43b9-a62a-eb926cce14a9\" target=\"_top\" title=\"psysml:130ef6c7-3ccc-43b9-a62a-eb926cce14a9\" xlink:actuate=\"onRequest\" xlink:href=\"psysml:130ef6c7-3ccc-43b9-a62a-eb926cce14a9\" xlink:show=\"new\" xlink:title=\"psysml:130ef6c7-3ccc-43b9-a62a-eb926cce14a9\" xlink:type=\"simple\"><polygon fill=\"#FFFFFF\" points=\"696,49,722,49,729,71.2969,800,71.2969,800,143,696,143,696,49\" style=\"stroke: #000000; stroke-width: 1.5;\"/><line style=\"stroke: #000000; stroke-width: 1.5;\" x1=\"696\" x2=\"729\" y1=\"71.2969\" y2=\"71.2969\"/><text fill=\"#000000\" font-family=\"sans-serif\" font-size=\"14\" font-weight=\"bold\" lengthAdjust=\"spacingAndGlyphs\" textLength=\"20\" x=\"700\" y=\"63.9951\">P1</text></a><!--MD5=[f6df4d0ebaf0b5dfb2ced0ae5af7c670]\n",
       "cluster E4--><a href=\"psysml:0bc4dbd6-620a-45b9-8d32-94753792e496\" target=\"_top\" title=\"psysml:0bc4dbd6-620a-45b9-8d32-94753792e496\" xlink:actuate=\"onRequest\" xlink:href=\"psysml:0bc4dbd6-620a-45b9-8d32-94753792e496\" xlink:show=\"new\" xlink:title=\"psysml:0bc4dbd6-620a-45b9-8d32-94753792e496\" xlink:type=\"simple\"><polygon fill=\"#FFFFFF\" points=\"568,49,594,49,601,71.2969,672,71.2969,672,143,568,143,568,49\" style=\"stroke: #000000; stroke-width: 1.5;\"/><line style=\"stroke: #000000; stroke-width: 1.5;\" x1=\"568\" x2=\"601\" y1=\"71.2969\" y2=\"71.2969\"/><text fill=\"#000000\" font-family=\"sans-serif\" font-size=\"14\" font-weight=\"bold\" lengthAdjust=\"spacingAndGlyphs\" textLength=\"20\" x=\"572\" y=\"63.9951\">P2</text></a><!--MD5=[14e3b0961a2654348d326746436168a1]\n",
       "cluster E6--><a href=\"psysml:b4043d48-e2a3-4796-9568-6bbff931ebfd\" target=\"_top\" title=\"psysml:b4043d48-e2a3-4796-9568-6bbff931ebfd\" xlink:actuate=\"onRequest\" xlink:href=\"psysml:b4043d48-e2a3-4796-9568-6bbff931ebfd\" xlink:show=\"new\" xlink:title=\"psysml:b4043d48-e2a3-4796-9568-6bbff931ebfd\" xlink:type=\"simple\"><polygon fill=\"#FFFFFF\" points=\"377,50.5,428,50.5,435,72.7969,544,72.7969,544,141.5,377,141.5,377,50.5\" style=\"stroke: #000000; stroke-width: 1.5;\"/><line style=\"stroke: #000000; stroke-width: 1.5;\" x1=\"377\" x2=\"435\" y1=\"72.7969\" y2=\"72.7969\"/><text fill=\"#000000\" font-family=\"sans-serif\" font-size=\"14\" font-weight=\"bold\" lengthAdjust=\"spacingAndGlyphs\" textLength=\"45\" x=\"381\" y=\"65.4951\">Test1</text></a><!--MD5=[7f149f147074ac12df2cb0a7728a5fb0]\n",
       "cluster E9--><a href=\"psysml:85a9df72-6515-46a6-853d-c4da844a4980\" target=\"_top\" title=\"psysml:85a9df72-6515-46a6-853d-c4da844a4980\" xlink:actuate=\"onRequest\" xlink:href=\"psysml:85a9df72-6515-46a6-853d-c4da844a4980\" xlink:show=\"new\" xlink:title=\"psysml:85a9df72-6515-46a6-853d-c4da844a4980\" xlink:type=\"simple\"><polygon fill=\"#FFFFFF\" points=\"186,50.5,237,50.5,244,72.7969,353,72.7969,353,141.5,186,141.5,186,50.5\" style=\"stroke: #000000; stroke-width: 1.5;\"/><line style=\"stroke: #000000; stroke-width: 1.5;\" x1=\"186\" x2=\"244\" y1=\"72.7969\" y2=\"72.7969\"/><text fill=\"#000000\" font-family=\"sans-serif\" font-size=\"14\" font-weight=\"bold\" lengthAdjust=\"spacingAndGlyphs\" textLength=\"45\" x=\"190\" y=\"65.4951\">Test2</text></a><g id=\"E1.E2.E3\"><a href=\"psysml:cb0f7157-438a-4ad5-8a96-0def6a248a5a\" target=\"_top\" title=\"psysml:cb0f7157-438a-4ad5-8a96-0def6a248a5a\" xlink:actuate=\"onRequest\" xlink:href=\"psysml:cb0f7157-438a-4ad5-8a96-0def6a248a5a\" xlink:show=\"new\" xlink:title=\"psysml:cb0f7157-438a-4ad5-8a96-0def6a248a5a\" xlink:type=\"simple\"><rect fill=\"#FFFFFF\" height=\"42.9375\" id=\"E3\" style=\"stroke: #383838; stroke-width: 1.5;\" width=\"71\" x=\"712.5\" y=\"84\"/><rect fill=\"#F8F8F8\" height=\"37.9375\" style=\"stroke: #383838; stroke-width: 1.5;\" width=\"71\" x=\"712.5\" y=\"84\"/><text fill=\"#000000\" font-family=\"sans-serif\" font-size=\"12\" font-style=\"italic\" lengthAdjust=\"spacingAndGlyphs\" textLength=\"64\" x=\"716\" y=\"100.1387\">«part def»</text><text fill=\"#000000\" font-family=\"sans-serif\" font-size=\"12\" lengthAdjust=\"spacingAndGlyphs\" textLength=\"8\" x=\"744\" y=\"114.1074\">A</text></a></g><g id=\"E1.E4.E5\"><a href=\"psysml:fa716e5d-1985-44ef-b151-4b2b4c0691ed\" target=\"_top\" title=\"psysml:fa716e5d-1985-44ef-b151-4b2b4c0691ed\" xlink:actuate=\"onRequest\" xlink:href=\"psysml:fa716e5d-1985-44ef-b151-4b2b4c0691ed\" xlink:show=\"new\" xlink:title=\"psysml:fa716e5d-1985-44ef-b151-4b2b4c0691ed\" xlink:type=\"simple\"><rect fill=\"#FFFFFF\" height=\"42.9375\" id=\"E5\" style=\"stroke: #383838; stroke-width: 1.5;\" width=\"71\" x=\"584.5\" y=\"84\"/><rect fill=\"#F8F8F8\" height=\"37.9375\" style=\"stroke: #383838; stroke-width: 1.5;\" width=\"71\" x=\"584.5\" y=\"84\"/><text fill=\"#000000\" font-family=\"sans-serif\" font-size=\"12\" font-style=\"italic\" lengthAdjust=\"spacingAndGlyphs\" textLength=\"64\" x=\"588\" y=\"100.1387\">«part def»</text><text fill=\"#000000\" font-family=\"sans-serif\" font-size=\"12\" lengthAdjust=\"spacingAndGlyphs\" textLength=\"8\" x=\"616\" y=\"114.1074\">B</text></a></g><g id=\"E1.E6.E7\"><a href=\"psysml:418b0add-8d91-4a6d-810e-c529e1e5d9c2\" target=\"_top\" title=\"psysml:418b0add-8d91-4a6d-810e-c529e1e5d9c2\" xlink:actuate=\"onRequest\" xlink:href=\"psysml:418b0add-8d91-4a6d-810e-c529e1e5d9c2\" xlink:show=\"new\" xlink:title=\"psysml:418b0add-8d91-4a6d-810e-c529e1e5d9c2\" xlink:type=\"simple\"><rect fill=\"#FFFFFF\" height=\"40\" id=\"E7\" rx=\"10\" ry=\"10\" style=\"stroke: #383838; stroke-width: 1.5;\" width=\"50\" x=\"478\" y=\"85.5\"/><rect fill=\"#F8F8F8\" height=\"23.9688\" rx=\"10\" ry=\"10\" style=\"stroke: #F8F8F8; stroke-width: 1.5;\" width=\"50\" x=\"478\" y=\"85.5\"/><rect fill=\"#F8F8F8\" height=\"10\" style=\"stroke: #F8F8F8; stroke-width: 1.5;\" width=\"50\" x=\"478\" y=\"99.4688\"/><rect fill=\"none\" height=\"40\" id=\"E7\" rx=\"10\" ry=\"10\" style=\"stroke: #383838; stroke-width: 1.5;\" width=\"50\" x=\"478\" y=\"85.5\"/><text fill=\"#000000\" font-family=\"sans-serif\" font-size=\"12\" lengthAdjust=\"spacingAndGlyphs\" textLength=\"22\" x=\"492\" y=\"101.6387\">x: A</text></a></g><g id=\"E1.E6.E8\"><a href=\"psysml:c18479a8-8a5a-4a0f-a7e4-033b0648dafb\" target=\"_top\" title=\"psysml:c18479a8-8a5a-4a0f-a7e4-033b0648dafb\" xlink:actuate=\"onRequest\" xlink:href=\"psysml:c18479a8-8a5a-4a0f-a7e4-033b0648dafb\" xlink:show=\"new\" xlink:title=\"psysml:c18479a8-8a5a-4a0f-a7e4-033b0648dafb\" xlink:type=\"simple\"><rect fill=\"#FFFFFF\" height=\"40\" id=\"E8\" rx=\"10\" ry=\"10\" style=\"stroke: #383838; stroke-width: 1.5;\" width=\"50\" x=\"393\" y=\"85.5\"/><rect fill=\"#F8F8F8\" height=\"23.9688\" rx=\"10\" ry=\"10\" style=\"stroke: #F8F8F8; stroke-width: 1.5;\" width=\"50\" x=\"393\" y=\"85.5\"/><rect fill=\"#F8F8F8\" height=\"10\" style=\"stroke: #F8F8F8; stroke-width: 1.5;\" width=\"50\" x=\"393\" y=\"99.4688\"/><rect fill=\"none\" height=\"40\" id=\"E8\" rx=\"10\" ry=\"10\" style=\"stroke: #383838; stroke-width: 1.5;\" width=\"50\" x=\"393\" y=\"85.5\"/><text fill=\"#000000\" font-family=\"sans-serif\" font-size=\"12\" lengthAdjust=\"spacingAndGlyphs\" textLength=\"22\" x=\"407\" y=\"101.6387\">y: B</text></a></g><g id=\"E1.E9.E10\"><a href=\"psysml:61feb9d5-4074-478e-84bb-b7eccf03922b\" target=\"_top\" title=\"psysml:61feb9d5-4074-478e-84bb-b7eccf03922b\" xlink:actuate=\"onRequest\" xlink:href=\"psysml:61feb9d5-4074-478e-84bb-b7eccf03922b\" xlink:show=\"new\" xlink:title=\"psysml:61feb9d5-4074-478e-84bb-b7eccf03922b\" xlink:type=\"simple\"><rect fill=\"#FFFFFF\" height=\"40\" id=\"E10\" rx=\"10\" ry=\"10\" style=\"stroke: #383838; stroke-width: 1.5;\" width=\"50\" x=\"287\" y=\"85.5\"/><rect fill=\"#F8F8F8\" height=\"23.9688\" rx=\"10\" ry=\"10\" style=\"stroke: #F8F8F8; stroke-width: 1.5;\" width=\"50\" x=\"287\" y=\"85.5\"/><rect fill=\"#F8F8F8\" height=\"10\" style=\"stroke: #F8F8F8; stroke-width: 1.5;\" width=\"50\" x=\"287\" y=\"99.4688\"/><rect fill=\"none\" height=\"40\" id=\"E10\" rx=\"10\" ry=\"10\" style=\"stroke: #383838; stroke-width: 1.5;\" width=\"50\" x=\"287\" y=\"85.5\"/><text fill=\"#000000\" font-family=\"sans-serif\" font-size=\"12\" lengthAdjust=\"spacingAndGlyphs\" textLength=\"22\" x=\"301\" y=\"101.6387\">x: A</text></a></g><g id=\"E1.E9.E11\"><a href=\"psysml:2edd355f-e967-45cc-82fe-80091bb729bd\" target=\"_top\" title=\"psysml:2edd355f-e967-45cc-82fe-80091bb729bd\" xlink:actuate=\"onRequest\" xlink:href=\"psysml:2edd355f-e967-45cc-82fe-80091bb729bd\" xlink:show=\"new\" xlink:title=\"psysml:2edd355f-e967-45cc-82fe-80091bb729bd\" xlink:type=\"simple\"><rect fill=\"#FFFFFF\" height=\"40\" id=\"E11\" rx=\"10\" ry=\"10\" style=\"stroke: #383838; stroke-width: 1.5;\" width=\"50\" x=\"202\" y=\"85.5\"/><rect fill=\"#F8F8F8\" height=\"23.9688\" rx=\"10\" ry=\"10\" style=\"stroke: #F8F8F8; stroke-width: 1.5;\" width=\"50\" x=\"202\" y=\"85.5\"/><rect fill=\"#F8F8F8\" height=\"10\" style=\"stroke: #F8F8F8; stroke-width: 1.5;\" width=\"50\" x=\"202\" y=\"99.4688\"/><rect fill=\"none\" height=\"40\" id=\"E11\" rx=\"10\" ry=\"10\" style=\"stroke: #383838; stroke-width: 1.5;\" width=\"50\" x=\"202\" y=\"85.5\"/><text fill=\"#000000\" font-family=\"sans-serif\" font-size=\"12\" lengthAdjust=\"spacingAndGlyphs\" textLength=\"22\" x=\"216\" y=\"101.6387\">y: B</text></a></g><g id=\"E1.E12\"><a href=\"psysml:530a6ae9-7dc1-4851-ab10-936e92c948f7\" target=\"_top\" title=\"psysml:530a6ae9-7dc1-4851-ab10-936e92c948f7\" xlink:actuate=\"onRequest\" xlink:href=\"psysml:530a6ae9-7dc1-4851-ab10-936e92c948f7\" xlink:show=\"new\" xlink:title=\"psysml:530a6ae9-7dc1-4851-ab10-936e92c948f7\" xlink:type=\"simple\"><rect fill=\"#FFFFFF\" height=\"40\" id=\"E12\" rx=\"10\" ry=\"10\" style=\"stroke: #383838; stroke-width: 1.5;\" width=\"50\" x=\"117\" y=\"85.5\"/><rect fill=\"#F8F8F8\" height=\"23.9688\" rx=\"10\" ry=\"10\" style=\"stroke: #F8F8F8; stroke-width: 1.5;\" width=\"50\" x=\"117\" y=\"85.5\"/><rect fill=\"#F8F8F8\" height=\"10\" style=\"stroke: #F8F8F8; stroke-width: 1.5;\" width=\"50\" x=\"117\" y=\"99.4688\"/><rect fill=\"none\" height=\"40\" id=\"E12\" rx=\"10\" ry=\"10\" style=\"stroke: #383838; stroke-width: 1.5;\" width=\"50\" x=\"117\" y=\"85.5\"/><text fill=\"#000000\" font-family=\"sans-serif\" font-size=\"12\" lengthAdjust=\"spacingAndGlyphs\" textLength=\"22\" x=\"131\" y=\"101.6387\">x: A</text></a></g><g id=\"E1.E13\"><a href=\"psysml:561bfa55-252f-4783-9fb1-458618dbf236\" target=\"_top\" title=\"psysml:561bfa55-252f-4783-9fb1-458618dbf236\" xlink:actuate=\"onRequest\" xlink:href=\"psysml:561bfa55-252f-4783-9fb1-458618dbf236\" xlink:show=\"new\" xlink:title=\"psysml:561bfa55-252f-4783-9fb1-458618dbf236\" xlink:type=\"simple\"><rect fill=\"#FFFFFF\" height=\"40\" id=\"E13\" rx=\"10\" ry=\"10\" style=\"stroke: #383838; stroke-width: 1.5;\" width=\"50\" x=\"32\" y=\"85.5\"/><rect fill=\"#F8F8F8\" height=\"23.9688\" rx=\"10\" ry=\"10\" style=\"stroke: #F8F8F8; stroke-width: 1.5;\" width=\"50\" x=\"32\" y=\"85.5\"/><rect fill=\"#F8F8F8\" height=\"10\" style=\"stroke: #F8F8F8; stroke-width: 1.5;\" width=\"50\" x=\"32\" y=\"99.4688\"/><rect fill=\"none\" height=\"40\" id=\"E13\" rx=\"10\" ry=\"10\" style=\"stroke: #383838; stroke-width: 1.5;\" width=\"50\" x=\"32\" y=\"85.5\"/><text fill=\"#000000\" font-family=\"sans-serif\" font-size=\"12\" lengthAdjust=\"spacingAndGlyphs\" textLength=\"22\" x=\"46\" y=\"101.6387\">y: B</text></a></g><!--MD5=[05972b1ccaac7ae3025383eb90dc8176]\n",
       "@startuml\r\n",
       "skinparam ranksep 10\r\n",
       "skinparam rectangle {\r\n",
       " backgroundColor<<block>> LightGreen\r\n",
       "}\r\n",
       "top to bottom direction\r\n",
       "skinparam monochrome true\r\n",
       "skinparam classbackgroundcolor white\r\n",
       "skinparam shadowing false\r\n",
       "skinparam wrapWidth 300\r\n",
       "hide circle\r\n",
       "\r\n",
       "package \"CircularImport\" as E1  [[psysml:33738fcf-e3ee-4a7e-98d6-e975d5107ba1 ]]  {\r\n",
       "package \"P1\" as E2  [[psysml:130ef6c7-3ccc-43b9-a62a-eb926cce14a9 ]]  {\r\n",
       "rec def \"A\" as E3  <<(T,blue) part def>> [[psysml:cb0f7157-438a-4ad5-8a96-0def6a248a5a ]] {\r\n",
       "}\r\n",
       "}\r\n",
       "package \"P2\" as E4  [[psysml:0bc4dbd6-620a-45b9-8d32-94753792e496 ]]  {\r\n",
       "rec def \"B\" as E5  <<(T,blue) part def>> [[psysml:fa716e5d-1985-44ef-b151-4b2b4c0691ed ]] {\r\n",
       "}\r\n",
       "}\r\n",
       "package \"Test1\" as E6  [[psysml:b4043d48-e2a3-4796-9568-6bbff931ebfd ]]  {\r\n",
       "rec usage \"x: A\" as E7  [[psysml:418b0add-8d91-4a6d-810e-c529e1e5d9c2 ]] {\r\n",
       "}\r\n",
       "rec usage \"y: B\" as E8  [[psysml:c18479a8-8a5a-4a0f-a7e4-033b0648dafb ]] {\r\n",
       "}\r\n",
       "}\r\n",
       "package \"Test2\" as E9  [[psysml:85a9df72-6515-46a6-853d-c4da844a4980 ]]  {\r\n",
       "rec usage \"x: A\" as E10  [[psysml:61feb9d5-4074-478e-84bb-b7eccf03922b ]] {\r\n",
       "}\r\n",
       "rec usage \"y: B\" as E11  [[psysml:2edd355f-e967-45cc-82fe-80091bb729bd ]] {\r\n",
       "}\r\n",
       "}\r\n",
       "rec usage \"x: A\" as E12  [[psysml:530a6ae9-7dc1-4851-ab10-936e92c948f7 ]] {\r\n",
       "}\r\n",
       "rec usage \"y: B\" as E13  [[psysml:561bfa55-252f-4783-9fb1-458618dbf236 ]] {\r\n",
       "}\r\n",
       "}\r\n",
       "@enduml\r\n",
       "\n",
       "PlantUML version 1.2020.13(Sat Jun 13 12:26:38 UTC 2020)\n",
       "(EPL source distribution)\n",
       "Java Runtime: OpenJDK Runtime Environment\n",
       "JVM: OpenJDK 64-Bit Server VM\n",
       "Default Encoding: UTF-8\n",
       "Language: en\n",
       "Country: null\n",
       "--></g></svg>"
      ]
     },
     "execution_count": 47,
     "metadata": {},
     "output_type": "execute_result"
    }
   ],
   "source": [
    "%viz --style=\"TB\" --view=\"Interconnection\" \"CircularImport\""
   ]
  },
  {
   "cell_type": "code",
   "execution_count": 48,
   "id": "2388ec86",
   "metadata": {
    "execution": {
     "iopub.execute_input": "2021-06-30T09:15:13.192828Z",
     "iopub.status.busy": "2021-06-30T09:15:13.191903Z",
     "iopub.status.idle": "2021-06-30T09:15:13.203326Z",
     "shell.execute_reply": "2021-06-30T09:15:13.202663Z"
    }
   },
   "outputs": [
    {
     "data": {
      "image/svg+xml": [
       "<?xml version=\"1.0\" encoding=\"UTF-8\" standalone=\"no\"?><svg xmlns=\"http://www.w3.org/2000/svg\" xmlns:xlink=\"http://www.w3.org/1999/xlink\" contentScriptType=\"application/ecmascript\" contentStyleType=\"text/css\" height=\"12px\" preserveAspectRatio=\"none\" style=\"width:12px;height:12px;\" version=\"1.1\" viewBox=\"0 0 12 12\" width=\"12px\" zoomAndPan=\"magnify\"><defs/><g><!--MD5=[06afc254b03ac5e9d9fb7773b07d0800]\n",
       "@startuml\r\n",
       "skinparam ranksep 8\r\n",
       "top to bottom direction\r\n",
       "skinparam monochrome true\r\n",
       "skinparam classbackgroundcolor white\r\n",
       "skinparam shadowing false\r\n",
       "skinparam wrapWidth 300\r\n",
       "hide circle\r\n",
       "\r\n",
       "@enduml\r\n",
       "\n",
       "PlantUML version 1.2020.13(Sat Jun 13 12:26:38 UTC 2020)\n",
       "(EPL source distribution)\n",
       "Java Runtime: OpenJDK Runtime Environment\n",
       "JVM: OpenJDK 64-Bit Server VM\n",
       "Default Encoding: UTF-8\n",
       "Language: en\n",
       "Country: null\n",
       "--></g></svg>"
      ]
     },
     "execution_count": 48,
     "metadata": {},
     "output_type": "execute_result"
    }
   ],
   "source": [
    "%viz --style=\"TB\" --view=\"Action\" \"CircularImport\""
   ]
  },
  {
   "cell_type": "code",
   "execution_count": 49,
   "id": "277d253e",
   "metadata": {
    "execution": {
     "iopub.execute_input": "2021-06-30T09:15:13.256502Z",
     "iopub.status.busy": "2021-06-30T09:15:13.255689Z",
     "iopub.status.idle": "2021-06-30T09:15:13.314479Z",
     "shell.execute_reply": "2021-06-30T09:15:13.312595Z"
    }
   },
   "outputs": [
    {
     "data": {
      "image/svg+xml": [
       "<?xml version=\"1.0\" encoding=\"UTF-8\" standalone=\"no\"?><svg xmlns=\"http://www.w3.org/2000/svg\" xmlns:xlink=\"http://www.w3.org/1999/xlink\" contentScriptType=\"application/ecmascript\" contentStyleType=\"text/css\" height=\"303px\" preserveAspectRatio=\"none\" style=\"width:518px;height:303px;\" version=\"1.1\" viewBox=\"0 0 518 303\" width=\"518px\" zoomAndPan=\"magnify\"><defs/><g><!--MD5=[fbc87193dbaf4d95561dea2c320d4a47]\n",
       "cluster E1--><a href=\"psysml:33738fcf-e3ee-4a7e-98d6-e975d5107ba1\" target=\"_top\" title=\"psysml:33738fcf-e3ee-4a7e-98d6-e975d5107ba1\" xlink:actuate=\"onRequest\" xlink:href=\"psysml:33738fcf-e3ee-4a7e-98d6-e975d5107ba1\" xlink:show=\"new\" xlink:title=\"psysml:33738fcf-e3ee-4a7e-98d6-e975d5107ba1\" xlink:type=\"simple\"><polygon fill=\"#FFFFFF\" points=\"16,6,134,6,141,28.2969,496,28.2969,496,291,16,291,16,6\" style=\"stroke: #000000; stroke-width: 1.5;\"/><line style=\"stroke: #000000; stroke-width: 1.5;\" x1=\"16\" x2=\"141\" y1=\"28.2969\" y2=\"28.2969\"/><text fill=\"#000000\" font-family=\"sans-serif\" font-size=\"14\" font-weight=\"bold\" lengthAdjust=\"spacingAndGlyphs\" textLength=\"112\" x=\"20\" y=\"20.9951\">CircularImport</text></a><!--MD5=[e4f7fae6ed58524ba242bb0b0d3be6b7]\n",
       "cluster E2--><a href=\"psysml:130ef6c7-3ccc-43b9-a62a-eb926cce14a9\" target=\"_top\" title=\"psysml:130ef6c7-3ccc-43b9-a62a-eb926cce14a9\" xlink:actuate=\"onRequest\" xlink:href=\"psysml:130ef6c7-3ccc-43b9-a62a-eb926cce14a9\" xlink:show=\"new\" xlink:title=\"psysml:130ef6c7-3ccc-43b9-a62a-eb926cce14a9\" xlink:type=\"simple\"><polygon fill=\"#FFFFFF\" points=\"333,170,359,170,366,192.2969,431,192.2969,431,267,333,267,333,170\" style=\"stroke: #000000; stroke-width: 1.5;\"/><line style=\"stroke: #000000; stroke-width: 1.5;\" x1=\"333\" x2=\"366\" y1=\"192.2969\" y2=\"192.2969\"/><text fill=\"#000000\" font-family=\"sans-serif\" font-size=\"14\" font-weight=\"bold\" lengthAdjust=\"spacingAndGlyphs\" textLength=\"20\" x=\"337\" y=\"184.9951\">P1</text></a><!--MD5=[f6df4d0ebaf0b5dfb2ced0ae5af7c670]\n",
       "cluster E4--><a href=\"psysml:0bc4dbd6-620a-45b9-8d32-94753792e496\" target=\"_top\" title=\"psysml:0bc4dbd6-620a-45b9-8d32-94753792e496\" xlink:actuate=\"onRequest\" xlink:href=\"psysml:0bc4dbd6-620a-45b9-8d32-94753792e496\" xlink:show=\"new\" xlink:title=\"psysml:0bc4dbd6-620a-45b9-8d32-94753792e496\" xlink:type=\"simple\"><polygon fill=\"#FFFFFF\" points=\"81,170,107,170,114,192.2969,179,192.2969,179,267,81,267,81,170\" style=\"stroke: #000000; stroke-width: 1.5;\"/><line style=\"stroke: #000000; stroke-width: 1.5;\" x1=\"81\" x2=\"114\" y1=\"192.2969\" y2=\"192.2969\"/><text fill=\"#000000\" font-family=\"sans-serif\" font-size=\"14\" font-weight=\"bold\" lengthAdjust=\"spacingAndGlyphs\" textLength=\"20\" x=\"85\" y=\"184.9951\">P2</text></a><!--MD5=[14e3b0961a2654348d326746436168a1]\n",
       "cluster E6--><a href=\"psysml:b4043d48-e2a3-4796-9568-6bbff931ebfd\" target=\"_top\" title=\"psysml:b4043d48-e2a3-4796-9568-6bbff931ebfd\" xlink:actuate=\"onRequest\" xlink:href=\"psysml:b4043d48-e2a3-4796-9568-6bbff931ebfd\" xlink:show=\"new\" xlink:title=\"psysml:b4043d48-e2a3-4796-9568-6bbff931ebfd\" xlink:type=\"simple\"><polygon fill=\"#FFFFFF\" points=\"268,49,319,49,326,71.2969,419,71.2969,419,146,268,146,268,49\" style=\"stroke: #000000; stroke-width: 1.5;\"/><line style=\"stroke: #000000; stroke-width: 1.5;\" x1=\"268\" x2=\"326\" y1=\"71.2969\" y2=\"71.2969\"/><text fill=\"#000000\" font-family=\"sans-serif\" font-size=\"14\" font-weight=\"bold\" lengthAdjust=\"spacingAndGlyphs\" textLength=\"45\" x=\"272\" y=\"63.9951\">Test1</text></a><!--MD5=[7f149f147074ac12df2cb0a7728a5fb0]\n",
       "cluster E9--><a href=\"psysml:85a9df72-6515-46a6-853d-c4da844a4980\" target=\"_top\" title=\"psysml:85a9df72-6515-46a6-853d-c4da844a4980\" xlink:actuate=\"onRequest\" xlink:href=\"psysml:85a9df72-6515-46a6-853d-c4da844a4980\" xlink:show=\"new\" xlink:title=\"psysml:85a9df72-6515-46a6-853d-c4da844a4980\" xlink:type=\"simple\"><polygon fill=\"#FFFFFF\" points=\"93,49,144,49,151,71.2969,244,71.2969,244,146,93,146,93,49\" style=\"stroke: #000000; stroke-width: 1.5;\"/><line style=\"stroke: #000000; stroke-width: 1.5;\" x1=\"93\" x2=\"151\" y1=\"71.2969\" y2=\"71.2969\"/><text fill=\"#000000\" font-family=\"sans-serif\" font-size=\"14\" font-weight=\"bold\" lengthAdjust=\"spacingAndGlyphs\" textLength=\"45\" x=\"97\" y=\"63.9951\">Test2</text></a><!--MD5=[49a0ec8f00dab7302a31f22d0f0fe584]\n",
       "class E12--><a href=\"psysml:530a6ae9-7dc1-4851-ab10-936e92c948f7\" target=\"_top\" title=\"psysml:530a6ae9-7dc1-4851-ab10-936e92c948f7\" xlink:actuate=\"onRequest\" xlink:href=\"psysml:530a6ae9-7dc1-4851-ab10-936e92c948f7\" xlink:show=\"new\" xlink:title=\"psysml:530a6ae9-7dc1-4851-ab10-936e92c948f7\" xlink:type=\"simple\"><rect fill=\"#FFFFFF\" height=\"45.9375\" id=\"E12\" rx=\"10\" ry=\"10\" style=\"stroke: #383838; stroke-width: 1.5;\" width=\"42\" x=\"438\" y=\"84\"/><text fill=\"#000000\" font-family=\"sans-serif\" font-size=\"12\" font-style=\"italic\" lengthAdjust=\"spacingAndGlyphs\" textLength=\"40\" x=\"439\" y=\"100.1387\">«part»</text><text fill=\"#000000\" font-family=\"sans-serif\" font-size=\"12\" lengthAdjust=\"spacingAndGlyphs\" textLength=\"22\" x=\"448\" y=\"114.1074\">x: A</text><line style=\"stroke: #383838; stroke-width: 1.5;\" x1=\"439\" x2=\"479\" y1=\"121.9375\" y2=\"121.9375\"/></a><!--MD5=[ee3c913d1a06f366521f9ef512b67efe]\n",
       "class E13--><a href=\"psysml:561bfa55-252f-4783-9fb1-458618dbf236\" target=\"_top\" title=\"psysml:561bfa55-252f-4783-9fb1-458618dbf236\" xlink:actuate=\"onRequest\" xlink:href=\"psysml:561bfa55-252f-4783-9fb1-458618dbf236\" xlink:show=\"new\" xlink:title=\"psysml:561bfa55-252f-4783-9fb1-458618dbf236\" xlink:type=\"simple\"><rect fill=\"#FFFFFF\" height=\"45.9375\" id=\"E13\" rx=\"10\" ry=\"10\" style=\"stroke: #383838; stroke-width: 1.5;\" width=\"42\" x=\"32\" y=\"84\"/><text fill=\"#000000\" font-family=\"sans-serif\" font-size=\"12\" font-style=\"italic\" lengthAdjust=\"spacingAndGlyphs\" textLength=\"40\" x=\"33\" y=\"100.1387\">«part»</text><text fill=\"#000000\" font-family=\"sans-serif\" font-size=\"12\" lengthAdjust=\"spacingAndGlyphs\" textLength=\"22\" x=\"42\" y=\"114.1074\">y: B</text><line style=\"stroke: #383838; stroke-width: 1.5;\" x1=\"33\" x2=\"73\" y1=\"121.9375\" y2=\"121.9375\"/></a><!--MD5=[09b614a08d8cba4a07c9adeb5e0fee81]\n",
       "class E3--><a href=\"psysml:cb0f7157-438a-4ad5-8a96-0def6a248a5a\" target=\"_top\" title=\"psysml:cb0f7157-438a-4ad5-8a96-0def6a248a5a\" xlink:actuate=\"onRequest\" xlink:href=\"psysml:cb0f7157-438a-4ad5-8a96-0def6a248a5a\" xlink:show=\"new\" xlink:title=\"psysml:cb0f7157-438a-4ad5-8a96-0def6a248a5a\" xlink:type=\"simple\"><rect fill=\"#FFFFFF\" height=\"45.9375\" id=\"E3\" style=\"stroke: #383838; stroke-width: 1.5;\" width=\"66\" x=\"349\" y=\"205\"/><text fill=\"#000000\" font-family=\"sans-serif\" font-size=\"12\" font-style=\"italic\" lengthAdjust=\"spacingAndGlyphs\" textLength=\"64\" x=\"350\" y=\"221.1387\">«part def»</text><text fill=\"#000000\" font-family=\"sans-serif\" font-size=\"12\" lengthAdjust=\"spacingAndGlyphs\" textLength=\"8\" x=\"378\" y=\"235.1074\">A</text><line style=\"stroke: #383838; stroke-width: 1.5;\" x1=\"350\" x2=\"414\" y1=\"242.9375\" y2=\"242.9375\"/></a><!--MD5=[270fce915f116d4de14055a7c1d9a0f3]\n",
       "class E5--><a href=\"psysml:fa716e5d-1985-44ef-b151-4b2b4c0691ed\" target=\"_top\" title=\"psysml:fa716e5d-1985-44ef-b151-4b2b4c0691ed\" xlink:actuate=\"onRequest\" xlink:href=\"psysml:fa716e5d-1985-44ef-b151-4b2b4c0691ed\" xlink:show=\"new\" xlink:title=\"psysml:fa716e5d-1985-44ef-b151-4b2b4c0691ed\" xlink:type=\"simple\"><rect fill=\"#FFFFFF\" height=\"45.9375\" id=\"E5\" style=\"stroke: #383838; stroke-width: 1.5;\" width=\"66\" x=\"97\" y=\"205\"/><text fill=\"#000000\" font-family=\"sans-serif\" font-size=\"12\" font-style=\"italic\" lengthAdjust=\"spacingAndGlyphs\" textLength=\"64\" x=\"98\" y=\"221.1387\">«part def»</text><text fill=\"#000000\" font-family=\"sans-serif\" font-size=\"12\" lengthAdjust=\"spacingAndGlyphs\" textLength=\"8\" x=\"126\" y=\"235.1074\">B</text><line style=\"stroke: #383838; stroke-width: 1.5;\" x1=\"98\" x2=\"162\" y1=\"242.9375\" y2=\"242.9375\"/></a><!--MD5=[2156ba9850f5573cc1fc38a6a4b2f02b]\n",
       "class E7--><a href=\"psysml:418b0add-8d91-4a6d-810e-c529e1e5d9c2\" target=\"_top\" title=\"psysml:418b0add-8d91-4a6d-810e-c529e1e5d9c2\" xlink:actuate=\"onRequest\" xlink:href=\"psysml:418b0add-8d91-4a6d-810e-c529e1e5d9c2\" xlink:show=\"new\" xlink:title=\"psysml:418b0add-8d91-4a6d-810e-c529e1e5d9c2\" xlink:type=\"simple\"><rect fill=\"#FFFFFF\" height=\"45.9375\" id=\"E7\" rx=\"10\" ry=\"10\" style=\"stroke: #383838; stroke-width: 1.5;\" width=\"42\" x=\"361\" y=\"84\"/><text fill=\"#000000\" font-family=\"sans-serif\" font-size=\"12\" font-style=\"italic\" lengthAdjust=\"spacingAndGlyphs\" textLength=\"40\" x=\"362\" y=\"100.1387\">«part»</text><text fill=\"#000000\" font-family=\"sans-serif\" font-size=\"12\" lengthAdjust=\"spacingAndGlyphs\" textLength=\"22\" x=\"371\" y=\"114.1074\">x: A</text><line style=\"stroke: #383838; stroke-width: 1.5;\" x1=\"362\" x2=\"402\" y1=\"121.9375\" y2=\"121.9375\"/></a><!--MD5=[b9389687b975829384b498ac4b7476b2]\n",
       "class E8--><a href=\"psysml:c18479a8-8a5a-4a0f-a7e4-033b0648dafb\" target=\"_top\" title=\"psysml:c18479a8-8a5a-4a0f-a7e4-033b0648dafb\" xlink:actuate=\"onRequest\" xlink:href=\"psysml:c18479a8-8a5a-4a0f-a7e4-033b0648dafb\" xlink:show=\"new\" xlink:title=\"psysml:c18479a8-8a5a-4a0f-a7e4-033b0648dafb\" xlink:type=\"simple\"><rect fill=\"#FFFFFF\" height=\"45.9375\" id=\"E8\" rx=\"10\" ry=\"10\" style=\"stroke: #383838; stroke-width: 1.5;\" width=\"42\" x=\"284\" y=\"84\"/><text fill=\"#000000\" font-family=\"sans-serif\" font-size=\"12\" font-style=\"italic\" lengthAdjust=\"spacingAndGlyphs\" textLength=\"40\" x=\"285\" y=\"100.1387\">«part»</text><text fill=\"#000000\" font-family=\"sans-serif\" font-size=\"12\" lengthAdjust=\"spacingAndGlyphs\" textLength=\"22\" x=\"294\" y=\"114.1074\">y: B</text><line style=\"stroke: #383838; stroke-width: 1.5;\" x1=\"285\" x2=\"325\" y1=\"121.9375\" y2=\"121.9375\"/></a><!--MD5=[96f4274e9e20536e775497830990834d]\n",
       "class E10--><a href=\"psysml:61feb9d5-4074-478e-84bb-b7eccf03922b\" target=\"_top\" title=\"psysml:61feb9d5-4074-478e-84bb-b7eccf03922b\" xlink:actuate=\"onRequest\" xlink:href=\"psysml:61feb9d5-4074-478e-84bb-b7eccf03922b\" xlink:show=\"new\" xlink:title=\"psysml:61feb9d5-4074-478e-84bb-b7eccf03922b\" xlink:type=\"simple\"><rect fill=\"#FFFFFF\" height=\"45.9375\" id=\"E10\" rx=\"10\" ry=\"10\" style=\"stroke: #383838; stroke-width: 1.5;\" width=\"42\" x=\"186\" y=\"84\"/><text fill=\"#000000\" font-family=\"sans-serif\" font-size=\"12\" font-style=\"italic\" lengthAdjust=\"spacingAndGlyphs\" textLength=\"40\" x=\"187\" y=\"100.1387\">«part»</text><text fill=\"#000000\" font-family=\"sans-serif\" font-size=\"12\" lengthAdjust=\"spacingAndGlyphs\" textLength=\"22\" x=\"196\" y=\"114.1074\">x: A</text><line style=\"stroke: #383838; stroke-width: 1.5;\" x1=\"187\" x2=\"227\" y1=\"121.9375\" y2=\"121.9375\"/></a><!--MD5=[1dd1bfd58a279cf63c5f349dbc8fc6a1]\n",
       "class E11--><a href=\"psysml:2edd355f-e967-45cc-82fe-80091bb729bd\" target=\"_top\" title=\"psysml:2edd355f-e967-45cc-82fe-80091bb729bd\" xlink:actuate=\"onRequest\" xlink:href=\"psysml:2edd355f-e967-45cc-82fe-80091bb729bd\" xlink:show=\"new\" xlink:title=\"psysml:2edd355f-e967-45cc-82fe-80091bb729bd\" xlink:type=\"simple\"><rect fill=\"#FFFFFF\" height=\"45.9375\" id=\"E11\" rx=\"10\" ry=\"10\" style=\"stroke: #383838; stroke-width: 1.5;\" width=\"42\" x=\"109\" y=\"84\"/><text fill=\"#000000\" font-family=\"sans-serif\" font-size=\"12\" font-style=\"italic\" lengthAdjust=\"spacingAndGlyphs\" textLength=\"40\" x=\"110\" y=\"100.1387\">«part»</text><text fill=\"#000000\" font-family=\"sans-serif\" font-size=\"12\" lengthAdjust=\"spacingAndGlyphs\" textLength=\"22\" x=\"119\" y=\"114.1074\">y: B</text><line style=\"stroke: #383838; stroke-width: 1.5;\" x1=\"110\" x2=\"150\" y1=\"121.9375\" y2=\"121.9375\"/></a><!--MD5=[14ccda38c055a5c0da953d572bc50960]\n",
       "link E7 to E3--><a href=\"psysml:c27725e1-02a3-443e-822c-73205e66e264\" target=\"_top\" title=\"psysml:c27725e1-02a3-443e-822c-73205e66e264\" xlink:actuate=\"onRequest\" xlink:href=\"psysml:c27725e1-02a3-443e-822c-73205e66e264\" xlink:show=\"new\" xlink:title=\"psysml:c27725e1-02a3-443e-822c-73205e66e264\" xlink:type=\"simple\"><path d=\"M382,130.1 C382,145.37 382,166.16 382,184.57 \" fill=\"none\" id=\"E7-&gt;E3\" style=\"stroke: #383838; stroke-width: 1.0;\"/><polygon fill=\"#FFFFFF\" points=\"382,204.61,375,185.61,389,185.61,382,204.61\" style=\"stroke: #383838; stroke-width: 1.0;\"/><ellipse cx=\"377\" cy=\"179.91\" fill=\"#383838\" rx=\"2\" ry=\"2\" style=\"stroke: #383838; stroke-width: 1.0;\"/><ellipse cx=\"387\" cy=\"179.91\" fill=\"#383838\" rx=\"2\" ry=\"2\" style=\"stroke: #383838; stroke-width: 1.0;\"/></a><!--MD5=[1ccb2481ffa92f8d51a74ee30c51832a]\n",
       "link E8 to E5--><a href=\"psysml:43ceeb8e-eeaf-4aa9-b958-61b6f980f202\" target=\"_top\" title=\"psysml:43ceeb8e-eeaf-4aa9-b958-61b6f980f202\" xlink:actuate=\"onRequest\" xlink:href=\"psysml:43ceeb8e-eeaf-4aa9-b958-61b6f980f202\" xlink:show=\"new\" xlink:title=\"psysml:43ceeb8e-eeaf-4aa9-b958-61b6f980f202\" xlink:type=\"simple\"><path d=\"M283.84,124.59 C272.23,133.52 257.5,144.61 244,154 C223.51,168.25 200.41,183.24 180.38,195.91 \" fill=\"none\" id=\"E8-&gt;E5\" style=\"stroke: #383838; stroke-width: 1.0;\"/><polygon fill=\"#FFFFFF\" points=\"163.36,206.57,175.7353,190.5434,183.175,202.403,163.36,206.57\" style=\"stroke: #383838; stroke-width: 1.0;\"/><ellipse cx=\"181.6267\" cy=\"189.2086\" fill=\"#383838\" rx=\"2\" ry=\"2\" style=\"stroke: #383838; stroke-width: 1.0;\"/><ellipse cx=\"186.9408\" cy=\"197.6797\" fill=\"#383838\" rx=\"2\" ry=\"2\" style=\"stroke: #383838; stroke-width: 1.0;\"/></a><!--MD5=[feeac5eb423634930294aa81f2d25a4c]\n",
       "link E10 to E3--><a href=\"psysml:2f015e6c-7efc-43fd-92bb-26e8cb5e6a22\" target=\"_top\" title=\"psysml:2f015e6c-7efc-43fd-92bb-26e8cb5e6a22\" xlink:actuate=\"onRequest\" xlink:href=\"psysml:2f015e6c-7efc-43fd-92bb-26e8cb5e6a22\" xlink:show=\"new\" xlink:title=\"psysml:2f015e6c-7efc-43fd-92bb-26e8cb5e6a22\" xlink:type=\"simple\"><path d=\"M228.16,124.59 C239.77,133.52 254.5,144.61 268,154 C288.49,168.25 311.59,183.24 331.62,195.91 \" fill=\"none\" id=\"E10-&gt;E3\" style=\"stroke: #383838; stroke-width: 1.0;\"/><polygon fill=\"#FFFFFF\" points=\"348.64,206.57,328.825,202.403,336.2647,190.5434,348.64,206.57\" style=\"stroke: #383838; stroke-width: 1.0;\"/><ellipse cx=\"325.0592\" cy=\"197.6797\" fill=\"#383838\" rx=\"2\" ry=\"2\" style=\"stroke: #383838; stroke-width: 1.0;\"/><ellipse cx=\"330.3733\" cy=\"189.2086\" fill=\"#383838\" rx=\"2\" ry=\"2\" style=\"stroke: #383838; stroke-width: 1.0;\"/></a><!--MD5=[07b77f6f309248d16187045709d1c26e]\n",
       "link E11 to E5--><a href=\"psysml:7cf9fed8-155f-433e-a01b-9d13c54aa089\" target=\"_top\" title=\"psysml:7cf9fed8-155f-433e-a01b-9d13c54aa089\" xlink:actuate=\"onRequest\" xlink:href=\"psysml:7cf9fed8-155f-433e-a01b-9d13c54aa089\" xlink:show=\"new\" xlink:title=\"psysml:7cf9fed8-155f-433e-a01b-9d13c54aa089\" xlink:type=\"simple\"><path d=\"M130,130.1 C130,145.37 130,166.16 130,184.57 \" fill=\"none\" id=\"E11-&gt;E5\" style=\"stroke: #383838; stroke-width: 1.0;\"/><polygon fill=\"#FFFFFF\" points=\"130,204.61,123,185.61,137,185.61,130,204.61\" style=\"stroke: #383838; stroke-width: 1.0;\"/><ellipse cx=\"125\" cy=\"179.91\" fill=\"#383838\" rx=\"2\" ry=\"2\" style=\"stroke: #383838; stroke-width: 1.0;\"/><ellipse cx=\"135\" cy=\"179.91\" fill=\"#383838\" rx=\"2\" ry=\"2\" style=\"stroke: #383838; stroke-width: 1.0;\"/></a><!--MD5=[39f41a0e550fb3d73b4d8135617e30a2]\n",
       "link E12 to E3--><a href=\"psysml:2b9be10b-590f-4358-bedf-a86ab0ed6bce\" target=\"_top\" title=\"psysml:2b9be10b-590f-4358-bedf-a86ab0ed6bce\" xlink:actuate=\"onRequest\" xlink:href=\"psysml:2b9be10b-590f-4358-bedf-a86ab0ed6bce\" xlink:show=\"new\" xlink:title=\"psysml:2b9be10b-590f-4358-bedf-a86ab0ed6bce\" xlink:type=\"simple\"><path d=\"M444.7,130.1 C434.28,146.2 419.89,168.44 407.53,187.55 \" fill=\"none\" id=\"E12-&gt;E3\" style=\"stroke: #383838; stroke-width: 1.0;\"/><polygon fill=\"#FFFFFF\" points=\"396.49,204.61,400.9313,184.8546,412.6866,192.4581,396.49,204.61\" style=\"stroke: #383838; stroke-width: 1.0;\"/><ellipse cx=\"405.7063\" cy=\"181.1547\" fill=\"#383838\" rx=\"2\" ry=\"2\" style=\"stroke: #383838; stroke-width: 1.0;\"/><ellipse cx=\"414.103\" cy=\"186.5858\" fill=\"#383838\" rx=\"2\" ry=\"2\" style=\"stroke: #383838; stroke-width: 1.0;\"/></a><!--MD5=[066b2d8af59fea80ccdb3d54ad5c1091]\n",
       "link E13 to E5--><a href=\"psysml:78896435-f936-4df6-9172-2ff6f9da23d9\" target=\"_top\" title=\"psysml:78896435-f936-4df6-9172-2ff6f9da23d9\" xlink:actuate=\"onRequest\" xlink:href=\"psysml:78896435-f936-4df6-9172-2ff6f9da23d9\" xlink:show=\"new\" xlink:title=\"psysml:78896435-f936-4df6-9172-2ff6f9da23d9\" xlink:type=\"simple\"><path d=\"M67.3,130.1 C77.72,146.2 92.11,168.44 104.47,187.55 \" fill=\"none\" id=\"E13-&gt;E5\" style=\"stroke: #383838; stroke-width: 1.0;\"/><polygon fill=\"#FFFFFF\" points=\"115.51,204.61,99.3134,192.4581,111.0687,184.8546,115.51,204.61\" style=\"stroke: #383838; stroke-width: 1.0;\"/><ellipse cx=\"97.897\" cy=\"186.5858\" fill=\"#383838\" rx=\"2\" ry=\"2\" style=\"stroke: #383838; stroke-width: 1.0;\"/><ellipse cx=\"106.2937\" cy=\"181.1547\" fill=\"#383838\" rx=\"2\" ry=\"2\" style=\"stroke: #383838; stroke-width: 1.0;\"/></a><!--MD5=[0162edeea2fa51ab8e954216216a256f]\n",
       "@startuml\r\n",
       "top to bottom direction\r\n",
       "skinparam monochrome true\r\n",
       "skinparam classbackgroundcolor white\r\n",
       "skinparam shadowing false\r\n",
       "skinparam wrapWidth 300\r\n",
       "hide circle\r\n",
       "\r\n",
       "package \"CircularImport\" as E1  [[psysml:33738fcf-e3ee-4a7e-98d6-e975d5107ba1 ]]  {\r\n",
       "package \"P1\" as E2  [[psysml:130ef6c7-3ccc-43b9-a62a-eb926cce14a9 ]]  {\r\n",
       "comp def \"A\" as E3  <<(T,blue) part def>> [[psysml:cb0f7157-438a-4ad5-8a96-0def6a248a5a ]] {\r\n",
       "}\r\n",
       "}\r\n",
       "package \"P2\" as E4  [[psysml:0bc4dbd6-620a-45b9-8d32-94753792e496 ]]  {\r\n",
       "comp def \"B\" as E5  <<(T,blue) part def>> [[psysml:fa716e5d-1985-44ef-b151-4b2b4c0691ed ]] {\r\n",
       "}\r\n",
       "}\r\n",
       "package \"Test1\" as E6  [[psysml:b4043d48-e2a3-4796-9568-6bbff931ebfd ]]  {\r\n",
       "comp usage \"x: A\" as E7  <<(T,blue) part>> [[psysml:418b0add-8d91-4a6d-810e-c529e1e5d9c2 ]] {\r\n",
       "}\r\n",
       "comp usage \"y: B\" as E8  <<(T,blue) part>> [[psysml:c18479a8-8a5a-4a0f-a7e4-033b0648dafb ]] {\r\n",
       "}\r\n",
       "E7 - -:|> E3 [[psysml:c27725e1-02a3-443e-822c-73205e66e264 ]] \r\n",
       "E8 - -:|> E5 [[psysml:43ceeb8e-eeaf-4aa9-b958-61b6f980f202 ]] \r\n",
       "}\r\n",
       "package \"Test2\" as E9  [[psysml:85a9df72-6515-46a6-853d-c4da844a4980 ]]  {\r\n",
       "comp usage \"x: A\" as E10  <<(T,blue) part>> [[psysml:61feb9d5-4074-478e-84bb-b7eccf03922b ]] {\r\n",
       "}\r\n",
       "comp usage \"y: B\" as E11  <<(T,blue) part>> [[psysml:2edd355f-e967-45cc-82fe-80091bb729bd ]] {\r\n",
       "}\r\n",
       "E10 - -:|> E3 [[psysml:2f015e6c-7efc-43fd-92bb-26e8cb5e6a22 ]] \r\n",
       "E11 - -:|> E5 [[psysml:7cf9fed8-155f-433e-a01b-9d13c54aa089 ]] \r\n",
       "}\r\n",
       "comp usage \"x: A\" as E12  <<(T,blue) part>> [[psysml:530a6ae9-7dc1-4851-ab10-936e92c948f7 ]] {\r\n",
       "}\r\n",
       "comp usage \"y: B\" as E13  <<(T,blue) part>> [[psysml:561bfa55-252f-4783-9fb1-458618dbf236 ]] {\r\n",
       "}\r\n",
       "E12 - -:|> E3 [[psysml:2b9be10b-590f-4358-bedf-a86ab0ed6bce ]] \r\n",
       "E13 - -:|> E5 [[psysml:78896435-f936-4df6-9172-2ff6f9da23d9 ]] \r\n",
       "}\r\n",
       "@enduml\r\n",
       "\n",
       "PlantUML version 1.2020.13(Sat Jun 13 12:26:38 UTC 2020)\n",
       "(EPL source distribution)\n",
       "Java Runtime: OpenJDK Runtime Environment\n",
       "JVM: OpenJDK 64-Bit Server VM\n",
       "Default Encoding: UTF-8\n",
       "Language: en\n",
       "Country: null\n",
       "--></g></svg>"
      ]
     },
     "execution_count": 49,
     "metadata": {},
     "output_type": "execute_result"
    }
   ],
   "source": [
    "%viz --style=\"TB\" --view=\"Sequence\" \"CircularImport\""
   ]
  },
  {
   "cell_type": "code",
   "execution_count": 50,
   "id": "be663c84",
   "metadata": {
    "execution": {
     "iopub.execute_input": "2021-06-30T09:15:13.364262Z",
     "iopub.status.busy": "2021-06-30T09:15:13.363727Z",
     "iopub.status.idle": "2021-06-30T09:15:13.416774Z",
     "shell.execute_reply": "2021-06-30T09:15:13.414996Z"
    }
   },
   "outputs": [
    {
     "data": {
      "image/svg+xml": [
       "<?xml version=\"1.0\" encoding=\"UTF-8\" standalone=\"no\"?><svg xmlns=\"http://www.w3.org/2000/svg\" xmlns:xlink=\"http://www.w3.org/1999/xlink\" contentScriptType=\"application/ecmascript\" contentStyleType=\"text/css\" height=\"303px\" preserveAspectRatio=\"none\" style=\"width:518px;height:303px;\" version=\"1.1\" viewBox=\"0 0 518 303\" width=\"518px\" zoomAndPan=\"magnify\"><defs/><g><!--MD5=[fbc87193dbaf4d95561dea2c320d4a47]\n",
       "cluster E1--><a href=\"psysml:33738fcf-e3ee-4a7e-98d6-e975d5107ba1\" target=\"_top\" title=\"psysml:33738fcf-e3ee-4a7e-98d6-e975d5107ba1\" xlink:actuate=\"onRequest\" xlink:href=\"psysml:33738fcf-e3ee-4a7e-98d6-e975d5107ba1\" xlink:show=\"new\" xlink:title=\"psysml:33738fcf-e3ee-4a7e-98d6-e975d5107ba1\" xlink:type=\"simple\"><polygon fill=\"#FFFFFF\" points=\"16,6,134,6,141,28.2969,496,28.2969,496,291,16,291,16,6\" style=\"stroke: #000000; stroke-width: 1.5;\"/><line style=\"stroke: #000000; stroke-width: 1.5;\" x1=\"16\" x2=\"141\" y1=\"28.2969\" y2=\"28.2969\"/><text fill=\"#000000\" font-family=\"sans-serif\" font-size=\"14\" font-weight=\"bold\" lengthAdjust=\"spacingAndGlyphs\" textLength=\"112\" x=\"20\" y=\"20.9951\">CircularImport</text></a><!--MD5=[e4f7fae6ed58524ba242bb0b0d3be6b7]\n",
       "cluster E2--><a href=\"psysml:130ef6c7-3ccc-43b9-a62a-eb926cce14a9\" target=\"_top\" title=\"psysml:130ef6c7-3ccc-43b9-a62a-eb926cce14a9\" xlink:actuate=\"onRequest\" xlink:href=\"psysml:130ef6c7-3ccc-43b9-a62a-eb926cce14a9\" xlink:show=\"new\" xlink:title=\"psysml:130ef6c7-3ccc-43b9-a62a-eb926cce14a9\" xlink:type=\"simple\"><polygon fill=\"#FFFFFF\" points=\"333,170,359,170,366,192.2969,431,192.2969,431,267,333,267,333,170\" style=\"stroke: #000000; stroke-width: 1.5;\"/><line style=\"stroke: #000000; stroke-width: 1.5;\" x1=\"333\" x2=\"366\" y1=\"192.2969\" y2=\"192.2969\"/><text fill=\"#000000\" font-family=\"sans-serif\" font-size=\"14\" font-weight=\"bold\" lengthAdjust=\"spacingAndGlyphs\" textLength=\"20\" x=\"337\" y=\"184.9951\">P1</text></a><!--MD5=[f6df4d0ebaf0b5dfb2ced0ae5af7c670]\n",
       "cluster E4--><a href=\"psysml:0bc4dbd6-620a-45b9-8d32-94753792e496\" target=\"_top\" title=\"psysml:0bc4dbd6-620a-45b9-8d32-94753792e496\" xlink:actuate=\"onRequest\" xlink:href=\"psysml:0bc4dbd6-620a-45b9-8d32-94753792e496\" xlink:show=\"new\" xlink:title=\"psysml:0bc4dbd6-620a-45b9-8d32-94753792e496\" xlink:type=\"simple\"><polygon fill=\"#FFFFFF\" points=\"81,170,107,170,114,192.2969,179,192.2969,179,267,81,267,81,170\" style=\"stroke: #000000; stroke-width: 1.5;\"/><line style=\"stroke: #000000; stroke-width: 1.5;\" x1=\"81\" x2=\"114\" y1=\"192.2969\" y2=\"192.2969\"/><text fill=\"#000000\" font-family=\"sans-serif\" font-size=\"14\" font-weight=\"bold\" lengthAdjust=\"spacingAndGlyphs\" textLength=\"20\" x=\"85\" y=\"184.9951\">P2</text></a><!--MD5=[14e3b0961a2654348d326746436168a1]\n",
       "cluster E6--><a href=\"psysml:b4043d48-e2a3-4796-9568-6bbff931ebfd\" target=\"_top\" title=\"psysml:b4043d48-e2a3-4796-9568-6bbff931ebfd\" xlink:actuate=\"onRequest\" xlink:href=\"psysml:b4043d48-e2a3-4796-9568-6bbff931ebfd\" xlink:show=\"new\" xlink:title=\"psysml:b4043d48-e2a3-4796-9568-6bbff931ebfd\" xlink:type=\"simple\"><polygon fill=\"#FFFFFF\" points=\"268,49,319,49,326,71.2969,419,71.2969,419,146,268,146,268,49\" style=\"stroke: #000000; stroke-width: 1.5;\"/><line style=\"stroke: #000000; stroke-width: 1.5;\" x1=\"268\" x2=\"326\" y1=\"71.2969\" y2=\"71.2969\"/><text fill=\"#000000\" font-family=\"sans-serif\" font-size=\"14\" font-weight=\"bold\" lengthAdjust=\"spacingAndGlyphs\" textLength=\"45\" x=\"272\" y=\"63.9951\">Test1</text></a><!--MD5=[7f149f147074ac12df2cb0a7728a5fb0]\n",
       "cluster E9--><a href=\"psysml:85a9df72-6515-46a6-853d-c4da844a4980\" target=\"_top\" title=\"psysml:85a9df72-6515-46a6-853d-c4da844a4980\" xlink:actuate=\"onRequest\" xlink:href=\"psysml:85a9df72-6515-46a6-853d-c4da844a4980\" xlink:show=\"new\" xlink:title=\"psysml:85a9df72-6515-46a6-853d-c4da844a4980\" xlink:type=\"simple\"><polygon fill=\"#FFFFFF\" points=\"93,49,144,49,151,71.2969,244,71.2969,244,146,93,146,93,49\" style=\"stroke: #000000; stroke-width: 1.5;\"/><line style=\"stroke: #000000; stroke-width: 1.5;\" x1=\"93\" x2=\"151\" y1=\"71.2969\" y2=\"71.2969\"/><text fill=\"#000000\" font-family=\"sans-serif\" font-size=\"14\" font-weight=\"bold\" lengthAdjust=\"spacingAndGlyphs\" textLength=\"45\" x=\"97\" y=\"63.9951\">Test2</text></a><!--MD5=[49a0ec8f00dab7302a31f22d0f0fe584]\n",
       "class E12--><a href=\"psysml:530a6ae9-7dc1-4851-ab10-936e92c948f7\" target=\"_top\" title=\"psysml:530a6ae9-7dc1-4851-ab10-936e92c948f7\" xlink:actuate=\"onRequest\" xlink:href=\"psysml:530a6ae9-7dc1-4851-ab10-936e92c948f7\" xlink:show=\"new\" xlink:title=\"psysml:530a6ae9-7dc1-4851-ab10-936e92c948f7\" xlink:type=\"simple\"><rect fill=\"#FFFFFF\" height=\"45.9375\" id=\"E12\" rx=\"10\" ry=\"10\" style=\"stroke: #383838; stroke-width: 1.5;\" width=\"42\" x=\"438\" y=\"84\"/><text fill=\"#000000\" font-family=\"sans-serif\" font-size=\"12\" font-style=\"italic\" lengthAdjust=\"spacingAndGlyphs\" textLength=\"40\" x=\"439\" y=\"100.1387\">«part»</text><text fill=\"#000000\" font-family=\"sans-serif\" font-size=\"12\" lengthAdjust=\"spacingAndGlyphs\" textLength=\"22\" x=\"448\" y=\"114.1074\">x: A</text><line style=\"stroke: #383838; stroke-width: 1.5;\" x1=\"439\" x2=\"479\" y1=\"121.9375\" y2=\"121.9375\"/></a><!--MD5=[ee3c913d1a06f366521f9ef512b67efe]\n",
       "class E13--><a href=\"psysml:561bfa55-252f-4783-9fb1-458618dbf236\" target=\"_top\" title=\"psysml:561bfa55-252f-4783-9fb1-458618dbf236\" xlink:actuate=\"onRequest\" xlink:href=\"psysml:561bfa55-252f-4783-9fb1-458618dbf236\" xlink:show=\"new\" xlink:title=\"psysml:561bfa55-252f-4783-9fb1-458618dbf236\" xlink:type=\"simple\"><rect fill=\"#FFFFFF\" height=\"45.9375\" id=\"E13\" rx=\"10\" ry=\"10\" style=\"stroke: #383838; stroke-width: 1.5;\" width=\"42\" x=\"32\" y=\"84\"/><text fill=\"#000000\" font-family=\"sans-serif\" font-size=\"12\" font-style=\"italic\" lengthAdjust=\"spacingAndGlyphs\" textLength=\"40\" x=\"33\" y=\"100.1387\">«part»</text><text fill=\"#000000\" font-family=\"sans-serif\" font-size=\"12\" lengthAdjust=\"spacingAndGlyphs\" textLength=\"22\" x=\"42\" y=\"114.1074\">y: B</text><line style=\"stroke: #383838; stroke-width: 1.5;\" x1=\"33\" x2=\"73\" y1=\"121.9375\" y2=\"121.9375\"/></a><!--MD5=[09b614a08d8cba4a07c9adeb5e0fee81]\n",
       "class E3--><a href=\"psysml:cb0f7157-438a-4ad5-8a96-0def6a248a5a\" target=\"_top\" title=\"psysml:cb0f7157-438a-4ad5-8a96-0def6a248a5a\" xlink:actuate=\"onRequest\" xlink:href=\"psysml:cb0f7157-438a-4ad5-8a96-0def6a248a5a\" xlink:show=\"new\" xlink:title=\"psysml:cb0f7157-438a-4ad5-8a96-0def6a248a5a\" xlink:type=\"simple\"><rect fill=\"#FFFFFF\" height=\"45.9375\" id=\"E3\" style=\"stroke: #383838; stroke-width: 1.5;\" width=\"66\" x=\"349\" y=\"205\"/><text fill=\"#000000\" font-family=\"sans-serif\" font-size=\"12\" font-style=\"italic\" lengthAdjust=\"spacingAndGlyphs\" textLength=\"64\" x=\"350\" y=\"221.1387\">«part def»</text><text fill=\"#000000\" font-family=\"sans-serif\" font-size=\"12\" lengthAdjust=\"spacingAndGlyphs\" textLength=\"8\" x=\"378\" y=\"235.1074\">A</text><line style=\"stroke: #383838; stroke-width: 1.5;\" x1=\"350\" x2=\"414\" y1=\"242.9375\" y2=\"242.9375\"/></a><!--MD5=[270fce915f116d4de14055a7c1d9a0f3]\n",
       "class E5--><a href=\"psysml:fa716e5d-1985-44ef-b151-4b2b4c0691ed\" target=\"_top\" title=\"psysml:fa716e5d-1985-44ef-b151-4b2b4c0691ed\" xlink:actuate=\"onRequest\" xlink:href=\"psysml:fa716e5d-1985-44ef-b151-4b2b4c0691ed\" xlink:show=\"new\" xlink:title=\"psysml:fa716e5d-1985-44ef-b151-4b2b4c0691ed\" xlink:type=\"simple\"><rect fill=\"#FFFFFF\" height=\"45.9375\" id=\"E5\" style=\"stroke: #383838; stroke-width: 1.5;\" width=\"66\" x=\"97\" y=\"205\"/><text fill=\"#000000\" font-family=\"sans-serif\" font-size=\"12\" font-style=\"italic\" lengthAdjust=\"spacingAndGlyphs\" textLength=\"64\" x=\"98\" y=\"221.1387\">«part def»</text><text fill=\"#000000\" font-family=\"sans-serif\" font-size=\"12\" lengthAdjust=\"spacingAndGlyphs\" textLength=\"8\" x=\"126\" y=\"235.1074\">B</text><line style=\"stroke: #383838; stroke-width: 1.5;\" x1=\"98\" x2=\"162\" y1=\"242.9375\" y2=\"242.9375\"/></a><!--MD5=[2156ba9850f5573cc1fc38a6a4b2f02b]\n",
       "class E7--><a href=\"psysml:418b0add-8d91-4a6d-810e-c529e1e5d9c2\" target=\"_top\" title=\"psysml:418b0add-8d91-4a6d-810e-c529e1e5d9c2\" xlink:actuate=\"onRequest\" xlink:href=\"psysml:418b0add-8d91-4a6d-810e-c529e1e5d9c2\" xlink:show=\"new\" xlink:title=\"psysml:418b0add-8d91-4a6d-810e-c529e1e5d9c2\" xlink:type=\"simple\"><rect fill=\"#FFFFFF\" height=\"45.9375\" id=\"E7\" rx=\"10\" ry=\"10\" style=\"stroke: #383838; stroke-width: 1.5;\" width=\"42\" x=\"361\" y=\"84\"/><text fill=\"#000000\" font-family=\"sans-serif\" font-size=\"12\" font-style=\"italic\" lengthAdjust=\"spacingAndGlyphs\" textLength=\"40\" x=\"362\" y=\"100.1387\">«part»</text><text fill=\"#000000\" font-family=\"sans-serif\" font-size=\"12\" lengthAdjust=\"spacingAndGlyphs\" textLength=\"22\" x=\"371\" y=\"114.1074\">x: A</text><line style=\"stroke: #383838; stroke-width: 1.5;\" x1=\"362\" x2=\"402\" y1=\"121.9375\" y2=\"121.9375\"/></a><!--MD5=[b9389687b975829384b498ac4b7476b2]\n",
       "class E8--><a href=\"psysml:c18479a8-8a5a-4a0f-a7e4-033b0648dafb\" target=\"_top\" title=\"psysml:c18479a8-8a5a-4a0f-a7e4-033b0648dafb\" xlink:actuate=\"onRequest\" xlink:href=\"psysml:c18479a8-8a5a-4a0f-a7e4-033b0648dafb\" xlink:show=\"new\" xlink:title=\"psysml:c18479a8-8a5a-4a0f-a7e4-033b0648dafb\" xlink:type=\"simple\"><rect fill=\"#FFFFFF\" height=\"45.9375\" id=\"E8\" rx=\"10\" ry=\"10\" style=\"stroke: #383838; stroke-width: 1.5;\" width=\"42\" x=\"284\" y=\"84\"/><text fill=\"#000000\" font-family=\"sans-serif\" font-size=\"12\" font-style=\"italic\" lengthAdjust=\"spacingAndGlyphs\" textLength=\"40\" x=\"285\" y=\"100.1387\">«part»</text><text fill=\"#000000\" font-family=\"sans-serif\" font-size=\"12\" lengthAdjust=\"spacingAndGlyphs\" textLength=\"22\" x=\"294\" y=\"114.1074\">y: B</text><line style=\"stroke: #383838; stroke-width: 1.5;\" x1=\"285\" x2=\"325\" y1=\"121.9375\" y2=\"121.9375\"/></a><!--MD5=[96f4274e9e20536e775497830990834d]\n",
       "class E10--><a href=\"psysml:61feb9d5-4074-478e-84bb-b7eccf03922b\" target=\"_top\" title=\"psysml:61feb9d5-4074-478e-84bb-b7eccf03922b\" xlink:actuate=\"onRequest\" xlink:href=\"psysml:61feb9d5-4074-478e-84bb-b7eccf03922b\" xlink:show=\"new\" xlink:title=\"psysml:61feb9d5-4074-478e-84bb-b7eccf03922b\" xlink:type=\"simple\"><rect fill=\"#FFFFFF\" height=\"45.9375\" id=\"E10\" rx=\"10\" ry=\"10\" style=\"stroke: #383838; stroke-width: 1.5;\" width=\"42\" x=\"186\" y=\"84\"/><text fill=\"#000000\" font-family=\"sans-serif\" font-size=\"12\" font-style=\"italic\" lengthAdjust=\"spacingAndGlyphs\" textLength=\"40\" x=\"187\" y=\"100.1387\">«part»</text><text fill=\"#000000\" font-family=\"sans-serif\" font-size=\"12\" lengthAdjust=\"spacingAndGlyphs\" textLength=\"22\" x=\"196\" y=\"114.1074\">x: A</text><line style=\"stroke: #383838; stroke-width: 1.5;\" x1=\"187\" x2=\"227\" y1=\"121.9375\" y2=\"121.9375\"/></a><!--MD5=[1dd1bfd58a279cf63c5f349dbc8fc6a1]\n",
       "class E11--><a href=\"psysml:2edd355f-e967-45cc-82fe-80091bb729bd\" target=\"_top\" title=\"psysml:2edd355f-e967-45cc-82fe-80091bb729bd\" xlink:actuate=\"onRequest\" xlink:href=\"psysml:2edd355f-e967-45cc-82fe-80091bb729bd\" xlink:show=\"new\" xlink:title=\"psysml:2edd355f-e967-45cc-82fe-80091bb729bd\" xlink:type=\"simple\"><rect fill=\"#FFFFFF\" height=\"45.9375\" id=\"E11\" rx=\"10\" ry=\"10\" style=\"stroke: #383838; stroke-width: 1.5;\" width=\"42\" x=\"109\" y=\"84\"/><text fill=\"#000000\" font-family=\"sans-serif\" font-size=\"12\" font-style=\"italic\" lengthAdjust=\"spacingAndGlyphs\" textLength=\"40\" x=\"110\" y=\"100.1387\">«part»</text><text fill=\"#000000\" font-family=\"sans-serif\" font-size=\"12\" lengthAdjust=\"spacingAndGlyphs\" textLength=\"22\" x=\"119\" y=\"114.1074\">y: B</text><line style=\"stroke: #383838; stroke-width: 1.5;\" x1=\"110\" x2=\"150\" y1=\"121.9375\" y2=\"121.9375\"/></a><!--MD5=[14ccda38c055a5c0da953d572bc50960]\n",
       "link E7 to E3--><a href=\"psysml:c27725e1-02a3-443e-822c-73205e66e264\" target=\"_top\" title=\"psysml:c27725e1-02a3-443e-822c-73205e66e264\" xlink:actuate=\"onRequest\" xlink:href=\"psysml:c27725e1-02a3-443e-822c-73205e66e264\" xlink:show=\"new\" xlink:title=\"psysml:c27725e1-02a3-443e-822c-73205e66e264\" xlink:type=\"simple\"><path d=\"M382,130.1 C382,145.37 382,166.16 382,184.57 \" fill=\"none\" id=\"E7-&gt;E3\" style=\"stroke: #383838; stroke-width: 1.0;\"/><polygon fill=\"#FFFFFF\" points=\"382,204.61,375,185.61,389,185.61,382,204.61\" style=\"stroke: #383838; stroke-width: 1.0;\"/><ellipse cx=\"377\" cy=\"179.91\" fill=\"#383838\" rx=\"2\" ry=\"2\" style=\"stroke: #383838; stroke-width: 1.0;\"/><ellipse cx=\"387\" cy=\"179.91\" fill=\"#383838\" rx=\"2\" ry=\"2\" style=\"stroke: #383838; stroke-width: 1.0;\"/></a><!--MD5=[1ccb2481ffa92f8d51a74ee30c51832a]\n",
       "link E8 to E5--><a href=\"psysml:43ceeb8e-eeaf-4aa9-b958-61b6f980f202\" target=\"_top\" title=\"psysml:43ceeb8e-eeaf-4aa9-b958-61b6f980f202\" xlink:actuate=\"onRequest\" xlink:href=\"psysml:43ceeb8e-eeaf-4aa9-b958-61b6f980f202\" xlink:show=\"new\" xlink:title=\"psysml:43ceeb8e-eeaf-4aa9-b958-61b6f980f202\" xlink:type=\"simple\"><path d=\"M283.84,124.59 C272.23,133.52 257.5,144.61 244,154 C223.51,168.25 200.41,183.24 180.38,195.91 \" fill=\"none\" id=\"E8-&gt;E5\" style=\"stroke: #383838; stroke-width: 1.0;\"/><polygon fill=\"#FFFFFF\" points=\"163.36,206.57,175.7353,190.5434,183.175,202.403,163.36,206.57\" style=\"stroke: #383838; stroke-width: 1.0;\"/><ellipse cx=\"181.6267\" cy=\"189.2086\" fill=\"#383838\" rx=\"2\" ry=\"2\" style=\"stroke: #383838; stroke-width: 1.0;\"/><ellipse cx=\"186.9408\" cy=\"197.6797\" fill=\"#383838\" rx=\"2\" ry=\"2\" style=\"stroke: #383838; stroke-width: 1.0;\"/></a><!--MD5=[feeac5eb423634930294aa81f2d25a4c]\n",
       "link E10 to E3--><a href=\"psysml:2f015e6c-7efc-43fd-92bb-26e8cb5e6a22\" target=\"_top\" title=\"psysml:2f015e6c-7efc-43fd-92bb-26e8cb5e6a22\" xlink:actuate=\"onRequest\" xlink:href=\"psysml:2f015e6c-7efc-43fd-92bb-26e8cb5e6a22\" xlink:show=\"new\" xlink:title=\"psysml:2f015e6c-7efc-43fd-92bb-26e8cb5e6a22\" xlink:type=\"simple\"><path d=\"M228.16,124.59 C239.77,133.52 254.5,144.61 268,154 C288.49,168.25 311.59,183.24 331.62,195.91 \" fill=\"none\" id=\"E10-&gt;E3\" style=\"stroke: #383838; stroke-width: 1.0;\"/><polygon fill=\"#FFFFFF\" points=\"348.64,206.57,328.825,202.403,336.2647,190.5434,348.64,206.57\" style=\"stroke: #383838; stroke-width: 1.0;\"/><ellipse cx=\"325.0592\" cy=\"197.6797\" fill=\"#383838\" rx=\"2\" ry=\"2\" style=\"stroke: #383838; stroke-width: 1.0;\"/><ellipse cx=\"330.3733\" cy=\"189.2086\" fill=\"#383838\" rx=\"2\" ry=\"2\" style=\"stroke: #383838; stroke-width: 1.0;\"/></a><!--MD5=[07b77f6f309248d16187045709d1c26e]\n",
       "link E11 to E5--><a href=\"psysml:7cf9fed8-155f-433e-a01b-9d13c54aa089\" target=\"_top\" title=\"psysml:7cf9fed8-155f-433e-a01b-9d13c54aa089\" xlink:actuate=\"onRequest\" xlink:href=\"psysml:7cf9fed8-155f-433e-a01b-9d13c54aa089\" xlink:show=\"new\" xlink:title=\"psysml:7cf9fed8-155f-433e-a01b-9d13c54aa089\" xlink:type=\"simple\"><path d=\"M130,130.1 C130,145.37 130,166.16 130,184.57 \" fill=\"none\" id=\"E11-&gt;E5\" style=\"stroke: #383838; stroke-width: 1.0;\"/><polygon fill=\"#FFFFFF\" points=\"130,204.61,123,185.61,137,185.61,130,204.61\" style=\"stroke: #383838; stroke-width: 1.0;\"/><ellipse cx=\"125\" cy=\"179.91\" fill=\"#383838\" rx=\"2\" ry=\"2\" style=\"stroke: #383838; stroke-width: 1.0;\"/><ellipse cx=\"135\" cy=\"179.91\" fill=\"#383838\" rx=\"2\" ry=\"2\" style=\"stroke: #383838; stroke-width: 1.0;\"/></a><!--MD5=[39f41a0e550fb3d73b4d8135617e30a2]\n",
       "link E12 to E3--><a href=\"psysml:2b9be10b-590f-4358-bedf-a86ab0ed6bce\" target=\"_top\" title=\"psysml:2b9be10b-590f-4358-bedf-a86ab0ed6bce\" xlink:actuate=\"onRequest\" xlink:href=\"psysml:2b9be10b-590f-4358-bedf-a86ab0ed6bce\" xlink:show=\"new\" xlink:title=\"psysml:2b9be10b-590f-4358-bedf-a86ab0ed6bce\" xlink:type=\"simple\"><path d=\"M444.7,130.1 C434.28,146.2 419.89,168.44 407.53,187.55 \" fill=\"none\" id=\"E12-&gt;E3\" style=\"stroke: #383838; stroke-width: 1.0;\"/><polygon fill=\"#FFFFFF\" points=\"396.49,204.61,400.9313,184.8546,412.6866,192.4581,396.49,204.61\" style=\"stroke: #383838; stroke-width: 1.0;\"/><ellipse cx=\"405.7063\" cy=\"181.1547\" fill=\"#383838\" rx=\"2\" ry=\"2\" style=\"stroke: #383838; stroke-width: 1.0;\"/><ellipse cx=\"414.103\" cy=\"186.5858\" fill=\"#383838\" rx=\"2\" ry=\"2\" style=\"stroke: #383838; stroke-width: 1.0;\"/></a><!--MD5=[066b2d8af59fea80ccdb3d54ad5c1091]\n",
       "link E13 to E5--><a href=\"psysml:78896435-f936-4df6-9172-2ff6f9da23d9\" target=\"_top\" title=\"psysml:78896435-f936-4df6-9172-2ff6f9da23d9\" xlink:actuate=\"onRequest\" xlink:href=\"psysml:78896435-f936-4df6-9172-2ff6f9da23d9\" xlink:show=\"new\" xlink:title=\"psysml:78896435-f936-4df6-9172-2ff6f9da23d9\" xlink:type=\"simple\"><path d=\"M67.3,130.1 C77.72,146.2 92.11,168.44 104.47,187.55 \" fill=\"none\" id=\"E13-&gt;E5\" style=\"stroke: #383838; stroke-width: 1.0;\"/><polygon fill=\"#FFFFFF\" points=\"115.51,204.61,99.3134,192.4581,111.0687,184.8546,115.51,204.61\" style=\"stroke: #383838; stroke-width: 1.0;\"/><ellipse cx=\"97.897\" cy=\"186.5858\" fill=\"#383838\" rx=\"2\" ry=\"2\" style=\"stroke: #383838; stroke-width: 1.0;\"/><ellipse cx=\"106.2937\" cy=\"181.1547\" fill=\"#383838\" rx=\"2\" ry=\"2\" style=\"stroke: #383838; stroke-width: 1.0;\"/></a><!--MD5=[0162edeea2fa51ab8e954216216a256f]\n",
       "@startuml\r\n",
       "top to bottom direction\r\n",
       "skinparam monochrome true\r\n",
       "skinparam classbackgroundcolor white\r\n",
       "skinparam shadowing false\r\n",
       "skinparam wrapWidth 300\r\n",
       "hide circle\r\n",
       "\r\n",
       "package \"CircularImport\" as E1  [[psysml:33738fcf-e3ee-4a7e-98d6-e975d5107ba1 ]]  {\r\n",
       "package \"P1\" as E2  [[psysml:130ef6c7-3ccc-43b9-a62a-eb926cce14a9 ]]  {\r\n",
       "comp def \"A\" as E3  <<(T,blue) part def>> [[psysml:cb0f7157-438a-4ad5-8a96-0def6a248a5a ]] {\r\n",
       "}\r\n",
       "}\r\n",
       "package \"P2\" as E4  [[psysml:0bc4dbd6-620a-45b9-8d32-94753792e496 ]]  {\r\n",
       "comp def \"B\" as E5  <<(T,blue) part def>> [[psysml:fa716e5d-1985-44ef-b151-4b2b4c0691ed ]] {\r\n",
       "}\r\n",
       "}\r\n",
       "package \"Test1\" as E6  [[psysml:b4043d48-e2a3-4796-9568-6bbff931ebfd ]]  {\r\n",
       "comp usage \"x: A\" as E7  <<(T,blue) part>> [[psysml:418b0add-8d91-4a6d-810e-c529e1e5d9c2 ]] {\r\n",
       "}\r\n",
       "comp usage \"y: B\" as E8  <<(T,blue) part>> [[psysml:c18479a8-8a5a-4a0f-a7e4-033b0648dafb ]] {\r\n",
       "}\r\n",
       "E7 - -:|> E3 [[psysml:c27725e1-02a3-443e-822c-73205e66e264 ]] \r\n",
       "E8 - -:|> E5 [[psysml:43ceeb8e-eeaf-4aa9-b958-61b6f980f202 ]] \r\n",
       "}\r\n",
       "package \"Test2\" as E9  [[psysml:85a9df72-6515-46a6-853d-c4da844a4980 ]]  {\r\n",
       "comp usage \"x: A\" as E10  <<(T,blue) part>> [[psysml:61feb9d5-4074-478e-84bb-b7eccf03922b ]] {\r\n",
       "}\r\n",
       "comp usage \"y: B\" as E11  <<(T,blue) part>> [[psysml:2edd355f-e967-45cc-82fe-80091bb729bd ]] {\r\n",
       "}\r\n",
       "E10 - -:|> E3 [[psysml:2f015e6c-7efc-43fd-92bb-26e8cb5e6a22 ]] \r\n",
       "E11 - -:|> E5 [[psysml:7cf9fed8-155f-433e-a01b-9d13c54aa089 ]] \r\n",
       "}\r\n",
       "comp usage \"x: A\" as E12  <<(T,blue) part>> [[psysml:530a6ae9-7dc1-4851-ab10-936e92c948f7 ]] {\r\n",
       "}\r\n",
       "comp usage \"y: B\" as E13  <<(T,blue) part>> [[psysml:561bfa55-252f-4783-9fb1-458618dbf236 ]] {\r\n",
       "}\r\n",
       "E12 - -:|> E3 [[psysml:2b9be10b-590f-4358-bedf-a86ab0ed6bce ]] \r\n",
       "E13 - -:|> E5 [[psysml:78896435-f936-4df6-9172-2ff6f9da23d9 ]] \r\n",
       "}\r\n",
       "@enduml\r\n",
       "\n",
       "PlantUML version 1.2020.13(Sat Jun 13 12:26:38 UTC 2020)\n",
       "(EPL source distribution)\n",
       "Java Runtime: OpenJDK Runtime Environment\n",
       "JVM: OpenJDK 64-Bit Server VM\n",
       "Default Encoding: UTF-8\n",
       "Language: en\n",
       "Country: null\n",
       "--></g></svg>"
      ]
     },
     "execution_count": 50,
     "metadata": {},
     "output_type": "execute_result"
    }
   ],
   "source": [
    "%viz --style=\"TB\" --view=\"MIXED\" \"CircularImport\""
   ]
  },
  {
   "cell_type": "code",
   "execution_count": 51,
   "id": "9c90ded5",
   "metadata": {
    "execution": {
     "iopub.execute_input": "2021-06-30T09:15:13.468348Z",
     "iopub.status.busy": "2021-06-30T09:15:13.467394Z",
     "iopub.status.idle": "2021-06-30T09:15:13.543989Z",
     "shell.execute_reply": "2021-06-30T09:15:13.538952Z"
    }
   },
   "outputs": [
    {
     "data": {
      "image/svg+xml": [
       "<?xml version=\"1.0\" encoding=\"UTF-8\" standalone=\"no\"?><svg xmlns=\"http://www.w3.org/2000/svg\" xmlns:xlink=\"http://www.w3.org/1999/xlink\" contentScriptType=\"application/ecmascript\" contentStyleType=\"text/css\" height=\"303px\" preserveAspectRatio=\"none\" style=\"width:518px;height:303px;\" version=\"1.1\" viewBox=\"0 0 518 303\" width=\"518px\" zoomAndPan=\"magnify\"><defs/><g><!--MD5=[fbc87193dbaf4d95561dea2c320d4a47]\n",
       "cluster E1--><a href=\"psysml:33738fcf-e3ee-4a7e-98d6-e975d5107ba1\" target=\"_top\" title=\"psysml:33738fcf-e3ee-4a7e-98d6-e975d5107ba1\" xlink:actuate=\"onRequest\" xlink:href=\"psysml:33738fcf-e3ee-4a7e-98d6-e975d5107ba1\" xlink:show=\"new\" xlink:title=\"psysml:33738fcf-e3ee-4a7e-98d6-e975d5107ba1\" xlink:type=\"simple\"><polygon fill=\"#FFFFFF\" points=\"16,6,134,6,141,28.2969,496,28.2969,496,291,16,291,16,6\" style=\"stroke: #000000; stroke-width: 1.5;\"/><line style=\"stroke: #000000; stroke-width: 1.5;\" x1=\"16\" x2=\"141\" y1=\"28.2969\" y2=\"28.2969\"/><text fill=\"#000000\" font-family=\"sans-serif\" font-size=\"14\" font-weight=\"bold\" lengthAdjust=\"spacingAndGlyphs\" textLength=\"112\" x=\"20\" y=\"20.9951\">CircularImport</text></a><!--MD5=[e4f7fae6ed58524ba242bb0b0d3be6b7]\n",
       "cluster E2--><a href=\"psysml:130ef6c7-3ccc-43b9-a62a-eb926cce14a9\" target=\"_top\" title=\"psysml:130ef6c7-3ccc-43b9-a62a-eb926cce14a9\" xlink:actuate=\"onRequest\" xlink:href=\"psysml:130ef6c7-3ccc-43b9-a62a-eb926cce14a9\" xlink:show=\"new\" xlink:title=\"psysml:130ef6c7-3ccc-43b9-a62a-eb926cce14a9\" xlink:type=\"simple\"><polygon fill=\"#FFFFFF\" points=\"333,170,359,170,366,192.2969,431,192.2969,431,267,333,267,333,170\" style=\"stroke: #000000; stroke-width: 1.5;\"/><line style=\"stroke: #000000; stroke-width: 1.5;\" x1=\"333\" x2=\"366\" y1=\"192.2969\" y2=\"192.2969\"/><text fill=\"#000000\" font-family=\"sans-serif\" font-size=\"14\" font-weight=\"bold\" lengthAdjust=\"spacingAndGlyphs\" textLength=\"20\" x=\"337\" y=\"184.9951\">P1</text></a><!--MD5=[f6df4d0ebaf0b5dfb2ced0ae5af7c670]\n",
       "cluster E4--><a href=\"psysml:0bc4dbd6-620a-45b9-8d32-94753792e496\" target=\"_top\" title=\"psysml:0bc4dbd6-620a-45b9-8d32-94753792e496\" xlink:actuate=\"onRequest\" xlink:href=\"psysml:0bc4dbd6-620a-45b9-8d32-94753792e496\" xlink:show=\"new\" xlink:title=\"psysml:0bc4dbd6-620a-45b9-8d32-94753792e496\" xlink:type=\"simple\"><polygon fill=\"#FFFFFF\" points=\"81,170,107,170,114,192.2969,179,192.2969,179,267,81,267,81,170\" style=\"stroke: #000000; stroke-width: 1.5;\"/><line style=\"stroke: #000000; stroke-width: 1.5;\" x1=\"81\" x2=\"114\" y1=\"192.2969\" y2=\"192.2969\"/><text fill=\"#000000\" font-family=\"sans-serif\" font-size=\"14\" font-weight=\"bold\" lengthAdjust=\"spacingAndGlyphs\" textLength=\"20\" x=\"85\" y=\"184.9951\">P2</text></a><!--MD5=[14e3b0961a2654348d326746436168a1]\n",
       "cluster E6--><a href=\"psysml:b4043d48-e2a3-4796-9568-6bbff931ebfd\" target=\"_top\" title=\"psysml:b4043d48-e2a3-4796-9568-6bbff931ebfd\" xlink:actuate=\"onRequest\" xlink:href=\"psysml:b4043d48-e2a3-4796-9568-6bbff931ebfd\" xlink:show=\"new\" xlink:title=\"psysml:b4043d48-e2a3-4796-9568-6bbff931ebfd\" xlink:type=\"simple\"><polygon fill=\"#FFFFFF\" points=\"268,49,319,49,326,71.2969,419,71.2969,419,146,268,146,268,49\" style=\"stroke: #000000; stroke-width: 1.5;\"/><line style=\"stroke: #000000; stroke-width: 1.5;\" x1=\"268\" x2=\"326\" y1=\"71.2969\" y2=\"71.2969\"/><text fill=\"#000000\" font-family=\"sans-serif\" font-size=\"14\" font-weight=\"bold\" lengthAdjust=\"spacingAndGlyphs\" textLength=\"45\" x=\"272\" y=\"63.9951\">Test1</text></a><!--MD5=[7f149f147074ac12df2cb0a7728a5fb0]\n",
       "cluster E9--><a href=\"psysml:85a9df72-6515-46a6-853d-c4da844a4980\" target=\"_top\" title=\"psysml:85a9df72-6515-46a6-853d-c4da844a4980\" xlink:actuate=\"onRequest\" xlink:href=\"psysml:85a9df72-6515-46a6-853d-c4da844a4980\" xlink:show=\"new\" xlink:title=\"psysml:85a9df72-6515-46a6-853d-c4da844a4980\" xlink:type=\"simple\"><polygon fill=\"#FFFFFF\" points=\"93,49,144,49,151,71.2969,244,71.2969,244,146,93,146,93,49\" style=\"stroke: #000000; stroke-width: 1.5;\"/><line style=\"stroke: #000000; stroke-width: 1.5;\" x1=\"93\" x2=\"151\" y1=\"71.2969\" y2=\"71.2969\"/><text fill=\"#000000\" font-family=\"sans-serif\" font-size=\"14\" font-weight=\"bold\" lengthAdjust=\"spacingAndGlyphs\" textLength=\"45\" x=\"97\" y=\"63.9951\">Test2</text></a><!--MD5=[49a0ec8f00dab7302a31f22d0f0fe584]\n",
       "class E12--><a href=\"psysml:530a6ae9-7dc1-4851-ab10-936e92c948f7\" target=\"_top\" title=\"psysml:530a6ae9-7dc1-4851-ab10-936e92c948f7\" xlink:actuate=\"onRequest\" xlink:href=\"psysml:530a6ae9-7dc1-4851-ab10-936e92c948f7\" xlink:show=\"new\" xlink:title=\"psysml:530a6ae9-7dc1-4851-ab10-936e92c948f7\" xlink:type=\"simple\"><rect fill=\"#FFFFFF\" height=\"45.9375\" id=\"E12\" rx=\"10\" ry=\"10\" style=\"stroke: #383838; stroke-width: 1.5;\" width=\"42\" x=\"438\" y=\"84\"/><text fill=\"#000000\" font-family=\"sans-serif\" font-size=\"12\" font-style=\"italic\" lengthAdjust=\"spacingAndGlyphs\" textLength=\"40\" x=\"439\" y=\"100.1387\">«part»</text><text fill=\"#000000\" font-family=\"sans-serif\" font-size=\"12\" lengthAdjust=\"spacingAndGlyphs\" textLength=\"22\" x=\"448\" y=\"114.1074\">x: A</text><line style=\"stroke: #383838; stroke-width: 1.5;\" x1=\"439\" x2=\"479\" y1=\"121.9375\" y2=\"121.9375\"/></a><!--MD5=[ee3c913d1a06f366521f9ef512b67efe]\n",
       "class E13--><a href=\"psysml:561bfa55-252f-4783-9fb1-458618dbf236\" target=\"_top\" title=\"psysml:561bfa55-252f-4783-9fb1-458618dbf236\" xlink:actuate=\"onRequest\" xlink:href=\"psysml:561bfa55-252f-4783-9fb1-458618dbf236\" xlink:show=\"new\" xlink:title=\"psysml:561bfa55-252f-4783-9fb1-458618dbf236\" xlink:type=\"simple\"><rect fill=\"#FFFFFF\" height=\"45.9375\" id=\"E13\" rx=\"10\" ry=\"10\" style=\"stroke: #383838; stroke-width: 1.5;\" width=\"42\" x=\"32\" y=\"84\"/><text fill=\"#000000\" font-family=\"sans-serif\" font-size=\"12\" font-style=\"italic\" lengthAdjust=\"spacingAndGlyphs\" textLength=\"40\" x=\"33\" y=\"100.1387\">«part»</text><text fill=\"#000000\" font-family=\"sans-serif\" font-size=\"12\" lengthAdjust=\"spacingAndGlyphs\" textLength=\"22\" x=\"42\" y=\"114.1074\">y: B</text><line style=\"stroke: #383838; stroke-width: 1.5;\" x1=\"33\" x2=\"73\" y1=\"121.9375\" y2=\"121.9375\"/></a><!--MD5=[09b614a08d8cba4a07c9adeb5e0fee81]\n",
       "class E3--><a href=\"psysml:cb0f7157-438a-4ad5-8a96-0def6a248a5a\" target=\"_top\" title=\"psysml:cb0f7157-438a-4ad5-8a96-0def6a248a5a\" xlink:actuate=\"onRequest\" xlink:href=\"psysml:cb0f7157-438a-4ad5-8a96-0def6a248a5a\" xlink:show=\"new\" xlink:title=\"psysml:cb0f7157-438a-4ad5-8a96-0def6a248a5a\" xlink:type=\"simple\"><rect fill=\"#FFFFFF\" height=\"45.9375\" id=\"E3\" style=\"stroke: #383838; stroke-width: 1.5;\" width=\"66\" x=\"349\" y=\"205\"/><text fill=\"#000000\" font-family=\"sans-serif\" font-size=\"12\" font-style=\"italic\" lengthAdjust=\"spacingAndGlyphs\" textLength=\"64\" x=\"350\" y=\"221.1387\">«part def»</text><text fill=\"#000000\" font-family=\"sans-serif\" font-size=\"12\" lengthAdjust=\"spacingAndGlyphs\" textLength=\"8\" x=\"378\" y=\"235.1074\">A</text><line style=\"stroke: #383838; stroke-width: 1.5;\" x1=\"350\" x2=\"414\" y1=\"242.9375\" y2=\"242.9375\"/></a><!--MD5=[270fce915f116d4de14055a7c1d9a0f3]\n",
       "class E5--><a href=\"psysml:fa716e5d-1985-44ef-b151-4b2b4c0691ed\" target=\"_top\" title=\"psysml:fa716e5d-1985-44ef-b151-4b2b4c0691ed\" xlink:actuate=\"onRequest\" xlink:href=\"psysml:fa716e5d-1985-44ef-b151-4b2b4c0691ed\" xlink:show=\"new\" xlink:title=\"psysml:fa716e5d-1985-44ef-b151-4b2b4c0691ed\" xlink:type=\"simple\"><rect fill=\"#FFFFFF\" height=\"45.9375\" id=\"E5\" style=\"stroke: #383838; stroke-width: 1.5;\" width=\"66\" x=\"97\" y=\"205\"/><text fill=\"#000000\" font-family=\"sans-serif\" font-size=\"12\" font-style=\"italic\" lengthAdjust=\"spacingAndGlyphs\" textLength=\"64\" x=\"98\" y=\"221.1387\">«part def»</text><text fill=\"#000000\" font-family=\"sans-serif\" font-size=\"12\" lengthAdjust=\"spacingAndGlyphs\" textLength=\"8\" x=\"126\" y=\"235.1074\">B</text><line style=\"stroke: #383838; stroke-width: 1.5;\" x1=\"98\" x2=\"162\" y1=\"242.9375\" y2=\"242.9375\"/></a><!--MD5=[2156ba9850f5573cc1fc38a6a4b2f02b]\n",
       "class E7--><a href=\"psysml:418b0add-8d91-4a6d-810e-c529e1e5d9c2\" target=\"_top\" title=\"psysml:418b0add-8d91-4a6d-810e-c529e1e5d9c2\" xlink:actuate=\"onRequest\" xlink:href=\"psysml:418b0add-8d91-4a6d-810e-c529e1e5d9c2\" xlink:show=\"new\" xlink:title=\"psysml:418b0add-8d91-4a6d-810e-c529e1e5d9c2\" xlink:type=\"simple\"><rect fill=\"#FFFFFF\" height=\"45.9375\" id=\"E7\" rx=\"10\" ry=\"10\" style=\"stroke: #383838; stroke-width: 1.5;\" width=\"42\" x=\"361\" y=\"84\"/><text fill=\"#000000\" font-family=\"sans-serif\" font-size=\"12\" font-style=\"italic\" lengthAdjust=\"spacingAndGlyphs\" textLength=\"40\" x=\"362\" y=\"100.1387\">«part»</text><text fill=\"#000000\" font-family=\"sans-serif\" font-size=\"12\" lengthAdjust=\"spacingAndGlyphs\" textLength=\"22\" x=\"371\" y=\"114.1074\">x: A</text><line style=\"stroke: #383838; stroke-width: 1.5;\" x1=\"362\" x2=\"402\" y1=\"121.9375\" y2=\"121.9375\"/></a><!--MD5=[b9389687b975829384b498ac4b7476b2]\n",
       "class E8--><a href=\"psysml:c18479a8-8a5a-4a0f-a7e4-033b0648dafb\" target=\"_top\" title=\"psysml:c18479a8-8a5a-4a0f-a7e4-033b0648dafb\" xlink:actuate=\"onRequest\" xlink:href=\"psysml:c18479a8-8a5a-4a0f-a7e4-033b0648dafb\" xlink:show=\"new\" xlink:title=\"psysml:c18479a8-8a5a-4a0f-a7e4-033b0648dafb\" xlink:type=\"simple\"><rect fill=\"#FFFFFF\" height=\"45.9375\" id=\"E8\" rx=\"10\" ry=\"10\" style=\"stroke: #383838; stroke-width: 1.5;\" width=\"42\" x=\"284\" y=\"84\"/><text fill=\"#000000\" font-family=\"sans-serif\" font-size=\"12\" font-style=\"italic\" lengthAdjust=\"spacingAndGlyphs\" textLength=\"40\" x=\"285\" y=\"100.1387\">«part»</text><text fill=\"#000000\" font-family=\"sans-serif\" font-size=\"12\" lengthAdjust=\"spacingAndGlyphs\" textLength=\"22\" x=\"294\" y=\"114.1074\">y: B</text><line style=\"stroke: #383838; stroke-width: 1.5;\" x1=\"285\" x2=\"325\" y1=\"121.9375\" y2=\"121.9375\"/></a><!--MD5=[96f4274e9e20536e775497830990834d]\n",
       "class E10--><a href=\"psysml:61feb9d5-4074-478e-84bb-b7eccf03922b\" target=\"_top\" title=\"psysml:61feb9d5-4074-478e-84bb-b7eccf03922b\" xlink:actuate=\"onRequest\" xlink:href=\"psysml:61feb9d5-4074-478e-84bb-b7eccf03922b\" xlink:show=\"new\" xlink:title=\"psysml:61feb9d5-4074-478e-84bb-b7eccf03922b\" xlink:type=\"simple\"><rect fill=\"#FFFFFF\" height=\"45.9375\" id=\"E10\" rx=\"10\" ry=\"10\" style=\"stroke: #383838; stroke-width: 1.5;\" width=\"42\" x=\"186\" y=\"84\"/><text fill=\"#000000\" font-family=\"sans-serif\" font-size=\"12\" font-style=\"italic\" lengthAdjust=\"spacingAndGlyphs\" textLength=\"40\" x=\"187\" y=\"100.1387\">«part»</text><text fill=\"#000000\" font-family=\"sans-serif\" font-size=\"12\" lengthAdjust=\"spacingAndGlyphs\" textLength=\"22\" x=\"196\" y=\"114.1074\">x: A</text><line style=\"stroke: #383838; stroke-width: 1.5;\" x1=\"187\" x2=\"227\" y1=\"121.9375\" y2=\"121.9375\"/></a><!--MD5=[1dd1bfd58a279cf63c5f349dbc8fc6a1]\n",
       "class E11--><a href=\"psysml:2edd355f-e967-45cc-82fe-80091bb729bd\" target=\"_top\" title=\"psysml:2edd355f-e967-45cc-82fe-80091bb729bd\" xlink:actuate=\"onRequest\" xlink:href=\"psysml:2edd355f-e967-45cc-82fe-80091bb729bd\" xlink:show=\"new\" xlink:title=\"psysml:2edd355f-e967-45cc-82fe-80091bb729bd\" xlink:type=\"simple\"><rect fill=\"#FFFFFF\" height=\"45.9375\" id=\"E11\" rx=\"10\" ry=\"10\" style=\"stroke: #383838; stroke-width: 1.5;\" width=\"42\" x=\"109\" y=\"84\"/><text fill=\"#000000\" font-family=\"sans-serif\" font-size=\"12\" font-style=\"italic\" lengthAdjust=\"spacingAndGlyphs\" textLength=\"40\" x=\"110\" y=\"100.1387\">«part»</text><text fill=\"#000000\" font-family=\"sans-serif\" font-size=\"12\" lengthAdjust=\"spacingAndGlyphs\" textLength=\"22\" x=\"119\" y=\"114.1074\">y: B</text><line style=\"stroke: #383838; stroke-width: 1.5;\" x1=\"110\" x2=\"150\" y1=\"121.9375\" y2=\"121.9375\"/></a><!--MD5=[14ccda38c055a5c0da953d572bc50960]\n",
       "link E7 to E3--><a href=\"psysml:c27725e1-02a3-443e-822c-73205e66e264\" target=\"_top\" title=\"psysml:c27725e1-02a3-443e-822c-73205e66e264\" xlink:actuate=\"onRequest\" xlink:href=\"psysml:c27725e1-02a3-443e-822c-73205e66e264\" xlink:show=\"new\" xlink:title=\"psysml:c27725e1-02a3-443e-822c-73205e66e264\" xlink:type=\"simple\"><path d=\"M382,130.04 C382,130.04 382,184.63 382,184.63 \" fill=\"none\" id=\"E7-&gt;E3\" style=\"stroke: #383838; stroke-width: 1.0;\"/><polygon fill=\"#FFFFFF\" points=\"382,204.63,375,185.63,389,185.63,382,204.63\" style=\"stroke: #383838; stroke-width: 1.0;\"/><ellipse cx=\"377\" cy=\"179.93\" fill=\"#383838\" rx=\"2\" ry=\"2\" style=\"stroke: #383838; stroke-width: 1.0;\"/><ellipse cx=\"387\" cy=\"179.93\" fill=\"#383838\" rx=\"2\" ry=\"2\" style=\"stroke: #383838; stroke-width: 1.0;\"/></a><!--MD5=[1ccb2481ffa92f8d51a74ee30c51832a]\n",
       "link E8 to E5--><a href=\"psysml:43ceeb8e-eeaf-4aa9-b958-61b6f980f202\" target=\"_top\" title=\"psysml:43ceeb8e-eeaf-4aa9-b958-61b6f980f202\" xlink:actuate=\"onRequest\" xlink:href=\"psysml:43ceeb8e-eeaf-4aa9-b958-61b6f980f202\" xlink:show=\"new\" xlink:title=\"psysml:43ceeb8e-eeaf-4aa9-b958-61b6f980f202\" xlink:type=\"simple\"><path d=\"M305,130.06 C305,167.17 305,236 305,236 C305,236 183.33,236 183.33,236 \" fill=\"none\" id=\"E8-&gt;E5\" style=\"stroke: #383838; stroke-width: 1.0;\"/><polygon fill=\"#FFFFFF\" points=\"163.33,236,182.33,229,182.33,243,163.33,236\" style=\"stroke: #383838; stroke-width: 1.0;\"/><ellipse cx=\"188.03\" cy=\"231\" fill=\"#383838\" rx=\"2\" ry=\"2\" style=\"stroke: #383838; stroke-width: 1.0;\"/><ellipse cx=\"188.03\" cy=\"241\" fill=\"#383838\" rx=\"2\" ry=\"2\" style=\"stroke: #383838; stroke-width: 1.0;\"/></a><!--MD5=[feeac5eb423634930294aa81f2d25a4c]\n",
       "link E10 to E3--><a href=\"psysml:2f015e6c-7efc-43fd-92bb-26e8cb5e6a22\" target=\"_top\" title=\"psysml:2f015e6c-7efc-43fd-92bb-26e8cb5e6a22\" xlink:actuate=\"onRequest\" xlink:href=\"psysml:2f015e6c-7efc-43fd-92bb-26e8cb5e6a22\" xlink:show=\"new\" xlink:title=\"psysml:2f015e6c-7efc-43fd-92bb-26e8cb5e6a22\" xlink:type=\"simple\"><path d=\"M207,130.07 C207,163.38 207,221 207,221 C207,221 328.67,221 328.67,221 \" fill=\"none\" id=\"E10-&gt;E3\" style=\"stroke: #383838; stroke-width: 1.0;\"/><polygon fill=\"#FFFFFF\" points=\"348.67,221,329.67,228,329.67,214,348.67,221\" style=\"stroke: #383838; stroke-width: 1.0;\"/><ellipse cx=\"323.97\" cy=\"226\" fill=\"#383838\" rx=\"2\" ry=\"2\" style=\"stroke: #383838; stroke-width: 1.0;\"/><ellipse cx=\"323.97\" cy=\"216\" fill=\"#383838\" rx=\"2\" ry=\"2\" style=\"stroke: #383838; stroke-width: 1.0;\"/></a><!--MD5=[07b77f6f309248d16187045709d1c26e]\n",
       "link E11 to E5--><a href=\"psysml:7cf9fed8-155f-433e-a01b-9d13c54aa089\" target=\"_top\" title=\"psysml:7cf9fed8-155f-433e-a01b-9d13c54aa089\" xlink:actuate=\"onRequest\" xlink:href=\"psysml:7cf9fed8-155f-433e-a01b-9d13c54aa089\" xlink:show=\"new\" xlink:title=\"psysml:7cf9fed8-155f-433e-a01b-9d13c54aa089\" xlink:type=\"simple\"><path d=\"M130,130.04 C130,130.04 130,184.63 130,184.63 \" fill=\"none\" id=\"E11-&gt;E5\" style=\"stroke: #383838; stroke-width: 1.0;\"/><polygon fill=\"#FFFFFF\" points=\"130,204.63,123,185.63,137,185.63,130,204.63\" style=\"stroke: #383838; stroke-width: 1.0;\"/><ellipse cx=\"125\" cy=\"179.93\" fill=\"#383838\" rx=\"2\" ry=\"2\" style=\"stroke: #383838; stroke-width: 1.0;\"/><ellipse cx=\"135\" cy=\"179.93\" fill=\"#383838\" rx=\"2\" ry=\"2\" style=\"stroke: #383838; stroke-width: 1.0;\"/></a><!--MD5=[39f41a0e550fb3d73b4d8135617e30a2]\n",
       "link E12 to E3--><a href=\"psysml:2b9be10b-590f-4358-bedf-a86ab0ed6bce\" target=\"_top\" title=\"psysml:2b9be10b-590f-4358-bedf-a86ab0ed6bce\" xlink:actuate=\"onRequest\" xlink:href=\"psysml:2b9be10b-590f-4358-bedf-a86ab0ed6bce\" xlink:show=\"new\" xlink:title=\"psysml:2b9be10b-590f-4358-bedf-a86ab0ed6bce\" xlink:type=\"simple\"><path d=\"M437.8,107 C424.17,107 409,107 409,107 C409,107 409,184.96 409,184.96 \" fill=\"none\" id=\"E12-&gt;E3\" style=\"stroke: #383838; stroke-width: 1.0;\"/><polygon fill=\"#FFFFFF\" points=\"409,204.96,402,185.96,416,185.96,409,204.96\" style=\"stroke: #383838; stroke-width: 1.0;\"/><ellipse cx=\"404\" cy=\"180.26\" fill=\"#383838\" rx=\"2\" ry=\"2\" style=\"stroke: #383838; stroke-width: 1.0;\"/><ellipse cx=\"414\" cy=\"180.26\" fill=\"#383838\" rx=\"2\" ry=\"2\" style=\"stroke: #383838; stroke-width: 1.0;\"/></a><!--MD5=[066b2d8af59fea80ccdb3d54ad5c1091]\n",
       "link E13 to E5--><a href=\"psysml:78896435-f936-4df6-9172-2ff6f9da23d9\" target=\"_top\" title=\"psysml:78896435-f936-4df6-9172-2ff6f9da23d9\" xlink:actuate=\"onRequest\" xlink:href=\"psysml:78896435-f936-4df6-9172-2ff6f9da23d9\" xlink:show=\"new\" xlink:title=\"psysml:78896435-f936-4df6-9172-2ff6f9da23d9\" xlink:type=\"simple\"><path d=\"M74.2,107 C87.83,107 103,107 103,107 C103,107 103,184.96 103,184.96 \" fill=\"none\" id=\"E13-&gt;E5\" style=\"stroke: #383838; stroke-width: 1.0;\"/><polygon fill=\"#FFFFFF\" points=\"103,204.96,96,185.96,110,185.96,103,204.96\" style=\"stroke: #383838; stroke-width: 1.0;\"/><ellipse cx=\"98\" cy=\"180.26\" fill=\"#383838\" rx=\"2\" ry=\"2\" style=\"stroke: #383838; stroke-width: 1.0;\"/><ellipse cx=\"108\" cy=\"180.26\" fill=\"#383838\" rx=\"2\" ry=\"2\" style=\"stroke: #383838; stroke-width: 1.0;\"/></a><!--MD5=[4d10f1042f4add445b6fa8009f43117f]\n",
       "@startuml\r\n",
       "skinparam linetype ortho\r\n",
       "skinparam monochrome true\r\n",
       "skinparam classbackgroundcolor white\r\n",
       "skinparam shadowing false\r\n",
       "skinparam wrapWidth 300\r\n",
       "hide circle\r\n",
       "\r\n",
       "package \"CircularImport\" as E1  [[psysml:33738fcf-e3ee-4a7e-98d6-e975d5107ba1 ]]  {\r\n",
       "package \"P1\" as E2  [[psysml:130ef6c7-3ccc-43b9-a62a-eb926cce14a9 ]]  {\r\n",
       "comp def \"A\" as E3  <<(T,blue) part def>> [[psysml:cb0f7157-438a-4ad5-8a96-0def6a248a5a ]] {\r\n",
       "}\r\n",
       "}\r\n",
       "package \"P2\" as E4  [[psysml:0bc4dbd6-620a-45b9-8d32-94753792e496 ]]  {\r\n",
       "comp def \"B\" as E5  <<(T,blue) part def>> [[psysml:fa716e5d-1985-44ef-b151-4b2b4c0691ed ]] {\r\n",
       "}\r\n",
       "}\r\n",
       "package \"Test1\" as E6  [[psysml:b4043d48-e2a3-4796-9568-6bbff931ebfd ]]  {\r\n",
       "comp usage \"x: A\" as E7  <<(T,blue) part>> [[psysml:418b0add-8d91-4a6d-810e-c529e1e5d9c2 ]] {\r\n",
       "}\r\n",
       "comp usage \"y: B\" as E8  <<(T,blue) part>> [[psysml:c18479a8-8a5a-4a0f-a7e4-033b0648dafb ]] {\r\n",
       "}\r\n",
       "E7 - -:|> E3 [[psysml:c27725e1-02a3-443e-822c-73205e66e264 ]] \r\n",
       "E8 - -:|> E5 [[psysml:43ceeb8e-eeaf-4aa9-b958-61b6f980f202 ]] \r\n",
       "}\r\n",
       "package \"Test2\" as E9  [[psysml:85a9df72-6515-46a6-853d-c4da844a4980 ]]  {\r\n",
       "comp usage \"x: A\" as E10  <<(T,blue) part>> [[psysml:61feb9d5-4074-478e-84bb-b7eccf03922b ]] {\r\n",
       "}\r\n",
       "comp usage \"y: B\" as E11  <<(T,blue) part>> [[psysml:2edd355f-e967-45cc-82fe-80091bb729bd ]] {\r\n",
       "}\r\n",
       "E10 - -:|> E3 [[psysml:2f015e6c-7efc-43fd-92bb-26e8cb5e6a22 ]] \r\n",
       "E11 - -:|> E5 [[psysml:7cf9fed8-155f-433e-a01b-9d13c54aa089 ]] \r\n",
       "}\r\n",
       "comp usage \"x: A\" as E12  <<(T,blue) part>> [[psysml:530a6ae9-7dc1-4851-ab10-936e92c948f7 ]] {\r\n",
       "}\r\n",
       "comp usage \"y: B\" as E13  <<(T,blue) part>> [[psysml:561bfa55-252f-4783-9fb1-458618dbf236 ]] {\r\n",
       "}\r\n",
       "E12 - -:|> E3 [[psysml:2b9be10b-590f-4358-bedf-a86ab0ed6bce ]] \r\n",
       "E13 - -:|> E5 [[psysml:78896435-f936-4df6-9172-2ff6f9da23d9 ]] \r\n",
       "}\r\n",
       "@enduml\r\n",
       "\n",
       "PlantUML version 1.2020.13(Sat Jun 13 12:26:38 UTC 2020)\n",
       "(EPL source distribution)\n",
       "Java Runtime: OpenJDK Runtime Environment\n",
       "JVM: OpenJDK 64-Bit Server VM\n",
       "Default Encoding: UTF-8\n",
       "Language: en\n",
       "Country: null\n",
       "--></g></svg>"
      ]
     },
     "execution_count": 51,
     "metadata": {},
     "output_type": "execute_result"
    }
   ],
   "source": [
    "%viz --style=\"ORTHOLINE\" --view=\"Default\" \"CircularImport\""
   ]
  },
  {
   "cell_type": "code",
   "execution_count": 52,
   "id": "52ea2a70",
   "metadata": {
    "execution": {
     "iopub.execute_input": "2021-06-30T09:15:13.596021Z",
     "iopub.status.busy": "2021-06-30T09:15:13.594751Z",
     "iopub.status.idle": "2021-06-30T09:15:13.663454Z",
     "shell.execute_reply": "2021-06-30T09:15:13.662865Z"
    }
   },
   "outputs": [
    {
     "data": {
      "image/svg+xml": [
       "<?xml version=\"1.0\" encoding=\"UTF-8\" standalone=\"no\"?><svg xmlns=\"http://www.w3.org/2000/svg\" xmlns:xlink=\"http://www.w3.org/1999/xlink\" contentScriptType=\"application/ecmascript\" contentStyleType=\"text/css\" height=\"303px\" preserveAspectRatio=\"none\" style=\"width:518px;height:303px;\" version=\"1.1\" viewBox=\"0 0 518 303\" width=\"518px\" zoomAndPan=\"magnify\"><defs/><g><!--MD5=[fbc87193dbaf4d95561dea2c320d4a47]\n",
       "cluster E1--><a href=\"psysml:33738fcf-e3ee-4a7e-98d6-e975d5107ba1\" target=\"_top\" title=\"psysml:33738fcf-e3ee-4a7e-98d6-e975d5107ba1\" xlink:actuate=\"onRequest\" xlink:href=\"psysml:33738fcf-e3ee-4a7e-98d6-e975d5107ba1\" xlink:show=\"new\" xlink:title=\"psysml:33738fcf-e3ee-4a7e-98d6-e975d5107ba1\" xlink:type=\"simple\"><polygon fill=\"#FFFFFF\" points=\"16,6,134,6,141,28.2969,496,28.2969,496,291,16,291,16,6\" style=\"stroke: #000000; stroke-width: 1.5;\"/><line style=\"stroke: #000000; stroke-width: 1.5;\" x1=\"16\" x2=\"141\" y1=\"28.2969\" y2=\"28.2969\"/><text fill=\"#000000\" font-family=\"sans-serif\" font-size=\"14\" font-weight=\"bold\" lengthAdjust=\"spacingAndGlyphs\" textLength=\"112\" x=\"20\" y=\"20.9951\">CircularImport</text></a><!--MD5=[e4f7fae6ed58524ba242bb0b0d3be6b7]\n",
       "cluster E2--><a href=\"psysml:130ef6c7-3ccc-43b9-a62a-eb926cce14a9\" target=\"_top\" title=\"psysml:130ef6c7-3ccc-43b9-a62a-eb926cce14a9\" xlink:actuate=\"onRequest\" xlink:href=\"psysml:130ef6c7-3ccc-43b9-a62a-eb926cce14a9\" xlink:show=\"new\" xlink:title=\"psysml:130ef6c7-3ccc-43b9-a62a-eb926cce14a9\" xlink:type=\"simple\"><polygon fill=\"#FFFFFF\" points=\"333,170,359,170,366,192.2969,431,192.2969,431,267,333,267,333,170\" style=\"stroke: #000000; stroke-width: 1.5;\"/><line style=\"stroke: #000000; stroke-width: 1.5;\" x1=\"333\" x2=\"366\" y1=\"192.2969\" y2=\"192.2969\"/><text fill=\"#000000\" font-family=\"sans-serif\" font-size=\"14\" font-weight=\"bold\" lengthAdjust=\"spacingAndGlyphs\" textLength=\"20\" x=\"337\" y=\"184.9951\">P1</text></a><!--MD5=[f6df4d0ebaf0b5dfb2ced0ae5af7c670]\n",
       "cluster E4--><a href=\"psysml:0bc4dbd6-620a-45b9-8d32-94753792e496\" target=\"_top\" title=\"psysml:0bc4dbd6-620a-45b9-8d32-94753792e496\" xlink:actuate=\"onRequest\" xlink:href=\"psysml:0bc4dbd6-620a-45b9-8d32-94753792e496\" xlink:show=\"new\" xlink:title=\"psysml:0bc4dbd6-620a-45b9-8d32-94753792e496\" xlink:type=\"simple\"><polygon fill=\"#FFFFFF\" points=\"81,170,107,170,114,192.2969,179,192.2969,179,267,81,267,81,170\" style=\"stroke: #000000; stroke-width: 1.5;\"/><line style=\"stroke: #000000; stroke-width: 1.5;\" x1=\"81\" x2=\"114\" y1=\"192.2969\" y2=\"192.2969\"/><text fill=\"#000000\" font-family=\"sans-serif\" font-size=\"14\" font-weight=\"bold\" lengthAdjust=\"spacingAndGlyphs\" textLength=\"20\" x=\"85\" y=\"184.9951\">P2</text></a><!--MD5=[14e3b0961a2654348d326746436168a1]\n",
       "cluster E6--><a href=\"psysml:b4043d48-e2a3-4796-9568-6bbff931ebfd\" target=\"_top\" title=\"psysml:b4043d48-e2a3-4796-9568-6bbff931ebfd\" xlink:actuate=\"onRequest\" xlink:href=\"psysml:b4043d48-e2a3-4796-9568-6bbff931ebfd\" xlink:show=\"new\" xlink:title=\"psysml:b4043d48-e2a3-4796-9568-6bbff931ebfd\" xlink:type=\"simple\"><polygon fill=\"#FFFFFF\" points=\"268,49,319,49,326,71.2969,419,71.2969,419,146,268,146,268,49\" style=\"stroke: #000000; stroke-width: 1.5;\"/><line style=\"stroke: #000000; stroke-width: 1.5;\" x1=\"268\" x2=\"326\" y1=\"71.2969\" y2=\"71.2969\"/><text fill=\"#000000\" font-family=\"sans-serif\" font-size=\"14\" font-weight=\"bold\" lengthAdjust=\"spacingAndGlyphs\" textLength=\"45\" x=\"272\" y=\"63.9951\">Test1</text></a><!--MD5=[7f149f147074ac12df2cb0a7728a5fb0]\n",
       "cluster E9--><a href=\"psysml:85a9df72-6515-46a6-853d-c4da844a4980\" target=\"_top\" title=\"psysml:85a9df72-6515-46a6-853d-c4da844a4980\" xlink:actuate=\"onRequest\" xlink:href=\"psysml:85a9df72-6515-46a6-853d-c4da844a4980\" xlink:show=\"new\" xlink:title=\"psysml:85a9df72-6515-46a6-853d-c4da844a4980\" xlink:type=\"simple\"><polygon fill=\"#FFFFFF\" points=\"93,49,144,49,151,71.2969,244,71.2969,244,146,93,146,93,49\" style=\"stroke: #000000; stroke-width: 1.5;\"/><line style=\"stroke: #000000; stroke-width: 1.5;\" x1=\"93\" x2=\"151\" y1=\"71.2969\" y2=\"71.2969\"/><text fill=\"#000000\" font-family=\"sans-serif\" font-size=\"14\" font-weight=\"bold\" lengthAdjust=\"spacingAndGlyphs\" textLength=\"45\" x=\"97\" y=\"63.9951\">Test2</text></a><!--MD5=[49a0ec8f00dab7302a31f22d0f0fe584]\n",
       "class E12--><a href=\"psysml:530a6ae9-7dc1-4851-ab10-936e92c948f7\" target=\"_top\" title=\"psysml:530a6ae9-7dc1-4851-ab10-936e92c948f7\" xlink:actuate=\"onRequest\" xlink:href=\"psysml:530a6ae9-7dc1-4851-ab10-936e92c948f7\" xlink:show=\"new\" xlink:title=\"psysml:530a6ae9-7dc1-4851-ab10-936e92c948f7\" xlink:type=\"simple\"><rect fill=\"#FFFFFF\" height=\"45.9375\" id=\"E12\" rx=\"10\" ry=\"10\" style=\"stroke: #383838; stroke-width: 1.5;\" width=\"42\" x=\"438\" y=\"84\"/><text fill=\"#000000\" font-family=\"sans-serif\" font-size=\"12\" font-style=\"italic\" lengthAdjust=\"spacingAndGlyphs\" textLength=\"40\" x=\"439\" y=\"100.1387\">«part»</text><text fill=\"#000000\" font-family=\"sans-serif\" font-size=\"12\" lengthAdjust=\"spacingAndGlyphs\" textLength=\"22\" x=\"448\" y=\"114.1074\">x: A</text><line style=\"stroke: #383838; stroke-width: 1.5;\" x1=\"439\" x2=\"479\" y1=\"121.9375\" y2=\"121.9375\"/></a><!--MD5=[ee3c913d1a06f366521f9ef512b67efe]\n",
       "class E13--><a href=\"psysml:561bfa55-252f-4783-9fb1-458618dbf236\" target=\"_top\" title=\"psysml:561bfa55-252f-4783-9fb1-458618dbf236\" xlink:actuate=\"onRequest\" xlink:href=\"psysml:561bfa55-252f-4783-9fb1-458618dbf236\" xlink:show=\"new\" xlink:title=\"psysml:561bfa55-252f-4783-9fb1-458618dbf236\" xlink:type=\"simple\"><rect fill=\"#FFFFFF\" height=\"45.9375\" id=\"E13\" rx=\"10\" ry=\"10\" style=\"stroke: #383838; stroke-width: 1.5;\" width=\"42\" x=\"32\" y=\"84\"/><text fill=\"#000000\" font-family=\"sans-serif\" font-size=\"12\" font-style=\"italic\" lengthAdjust=\"spacingAndGlyphs\" textLength=\"40\" x=\"33\" y=\"100.1387\">«part»</text><text fill=\"#000000\" font-family=\"sans-serif\" font-size=\"12\" lengthAdjust=\"spacingAndGlyphs\" textLength=\"22\" x=\"42\" y=\"114.1074\">y: B</text><line style=\"stroke: #383838; stroke-width: 1.5;\" x1=\"33\" x2=\"73\" y1=\"121.9375\" y2=\"121.9375\"/></a><!--MD5=[09b614a08d8cba4a07c9adeb5e0fee81]\n",
       "class E3--><a href=\"psysml:cb0f7157-438a-4ad5-8a96-0def6a248a5a\" target=\"_top\" title=\"psysml:cb0f7157-438a-4ad5-8a96-0def6a248a5a\" xlink:actuate=\"onRequest\" xlink:href=\"psysml:cb0f7157-438a-4ad5-8a96-0def6a248a5a\" xlink:show=\"new\" xlink:title=\"psysml:cb0f7157-438a-4ad5-8a96-0def6a248a5a\" xlink:type=\"simple\"><rect fill=\"#FFFFFF\" height=\"45.9375\" id=\"E3\" style=\"stroke: #383838; stroke-width: 1.5;\" width=\"66\" x=\"349\" y=\"205\"/><text fill=\"#000000\" font-family=\"sans-serif\" font-size=\"12\" font-style=\"italic\" lengthAdjust=\"spacingAndGlyphs\" textLength=\"64\" x=\"350\" y=\"221.1387\">«part def»</text><text fill=\"#000000\" font-family=\"sans-serif\" font-size=\"12\" lengthAdjust=\"spacingAndGlyphs\" textLength=\"8\" x=\"378\" y=\"235.1074\">A</text><line style=\"stroke: #383838; stroke-width: 1.5;\" x1=\"350\" x2=\"414\" y1=\"242.9375\" y2=\"242.9375\"/></a><!--MD5=[270fce915f116d4de14055a7c1d9a0f3]\n",
       "class E5--><a href=\"psysml:fa716e5d-1985-44ef-b151-4b2b4c0691ed\" target=\"_top\" title=\"psysml:fa716e5d-1985-44ef-b151-4b2b4c0691ed\" xlink:actuate=\"onRequest\" xlink:href=\"psysml:fa716e5d-1985-44ef-b151-4b2b4c0691ed\" xlink:show=\"new\" xlink:title=\"psysml:fa716e5d-1985-44ef-b151-4b2b4c0691ed\" xlink:type=\"simple\"><rect fill=\"#FFFFFF\" height=\"45.9375\" id=\"E5\" style=\"stroke: #383838; stroke-width: 1.5;\" width=\"66\" x=\"97\" y=\"205\"/><text fill=\"#000000\" font-family=\"sans-serif\" font-size=\"12\" font-style=\"italic\" lengthAdjust=\"spacingAndGlyphs\" textLength=\"64\" x=\"98\" y=\"221.1387\">«part def»</text><text fill=\"#000000\" font-family=\"sans-serif\" font-size=\"12\" lengthAdjust=\"spacingAndGlyphs\" textLength=\"8\" x=\"126\" y=\"235.1074\">B</text><line style=\"stroke: #383838; stroke-width: 1.5;\" x1=\"98\" x2=\"162\" y1=\"242.9375\" y2=\"242.9375\"/></a><!--MD5=[2156ba9850f5573cc1fc38a6a4b2f02b]\n",
       "class E7--><a href=\"psysml:418b0add-8d91-4a6d-810e-c529e1e5d9c2\" target=\"_top\" title=\"psysml:418b0add-8d91-4a6d-810e-c529e1e5d9c2\" xlink:actuate=\"onRequest\" xlink:href=\"psysml:418b0add-8d91-4a6d-810e-c529e1e5d9c2\" xlink:show=\"new\" xlink:title=\"psysml:418b0add-8d91-4a6d-810e-c529e1e5d9c2\" xlink:type=\"simple\"><rect fill=\"#FFFFFF\" height=\"45.9375\" id=\"E7\" rx=\"10\" ry=\"10\" style=\"stroke: #383838; stroke-width: 1.5;\" width=\"42\" x=\"361\" y=\"84\"/><text fill=\"#000000\" font-family=\"sans-serif\" font-size=\"12\" font-style=\"italic\" lengthAdjust=\"spacingAndGlyphs\" textLength=\"40\" x=\"362\" y=\"100.1387\">«part»</text><text fill=\"#000000\" font-family=\"sans-serif\" font-size=\"12\" lengthAdjust=\"spacingAndGlyphs\" textLength=\"22\" x=\"371\" y=\"114.1074\">x: A</text><line style=\"stroke: #383838; stroke-width: 1.5;\" x1=\"362\" x2=\"402\" y1=\"121.9375\" y2=\"121.9375\"/></a><!--MD5=[b9389687b975829384b498ac4b7476b2]\n",
       "class E8--><a href=\"psysml:c18479a8-8a5a-4a0f-a7e4-033b0648dafb\" target=\"_top\" title=\"psysml:c18479a8-8a5a-4a0f-a7e4-033b0648dafb\" xlink:actuate=\"onRequest\" xlink:href=\"psysml:c18479a8-8a5a-4a0f-a7e4-033b0648dafb\" xlink:show=\"new\" xlink:title=\"psysml:c18479a8-8a5a-4a0f-a7e4-033b0648dafb\" xlink:type=\"simple\"><rect fill=\"#FFFFFF\" height=\"45.9375\" id=\"E8\" rx=\"10\" ry=\"10\" style=\"stroke: #383838; stroke-width: 1.5;\" width=\"42\" x=\"284\" y=\"84\"/><text fill=\"#000000\" font-family=\"sans-serif\" font-size=\"12\" font-style=\"italic\" lengthAdjust=\"spacingAndGlyphs\" textLength=\"40\" x=\"285\" y=\"100.1387\">«part»</text><text fill=\"#000000\" font-family=\"sans-serif\" font-size=\"12\" lengthAdjust=\"spacingAndGlyphs\" textLength=\"22\" x=\"294\" y=\"114.1074\">y: B</text><line style=\"stroke: #383838; stroke-width: 1.5;\" x1=\"285\" x2=\"325\" y1=\"121.9375\" y2=\"121.9375\"/></a><!--MD5=[96f4274e9e20536e775497830990834d]\n",
       "class E10--><a href=\"psysml:61feb9d5-4074-478e-84bb-b7eccf03922b\" target=\"_top\" title=\"psysml:61feb9d5-4074-478e-84bb-b7eccf03922b\" xlink:actuate=\"onRequest\" xlink:href=\"psysml:61feb9d5-4074-478e-84bb-b7eccf03922b\" xlink:show=\"new\" xlink:title=\"psysml:61feb9d5-4074-478e-84bb-b7eccf03922b\" xlink:type=\"simple\"><rect fill=\"#FFFFFF\" height=\"45.9375\" id=\"E10\" rx=\"10\" ry=\"10\" style=\"stroke: #383838; stroke-width: 1.5;\" width=\"42\" x=\"186\" y=\"84\"/><text fill=\"#000000\" font-family=\"sans-serif\" font-size=\"12\" font-style=\"italic\" lengthAdjust=\"spacingAndGlyphs\" textLength=\"40\" x=\"187\" y=\"100.1387\">«part»</text><text fill=\"#000000\" font-family=\"sans-serif\" font-size=\"12\" lengthAdjust=\"spacingAndGlyphs\" textLength=\"22\" x=\"196\" y=\"114.1074\">x: A</text><line style=\"stroke: #383838; stroke-width: 1.5;\" x1=\"187\" x2=\"227\" y1=\"121.9375\" y2=\"121.9375\"/></a><!--MD5=[1dd1bfd58a279cf63c5f349dbc8fc6a1]\n",
       "class E11--><a href=\"psysml:2edd355f-e967-45cc-82fe-80091bb729bd\" target=\"_top\" title=\"psysml:2edd355f-e967-45cc-82fe-80091bb729bd\" xlink:actuate=\"onRequest\" xlink:href=\"psysml:2edd355f-e967-45cc-82fe-80091bb729bd\" xlink:show=\"new\" xlink:title=\"psysml:2edd355f-e967-45cc-82fe-80091bb729bd\" xlink:type=\"simple\"><rect fill=\"#FFFFFF\" height=\"45.9375\" id=\"E11\" rx=\"10\" ry=\"10\" style=\"stroke: #383838; stroke-width: 1.5;\" width=\"42\" x=\"109\" y=\"84\"/><text fill=\"#000000\" font-family=\"sans-serif\" font-size=\"12\" font-style=\"italic\" lengthAdjust=\"spacingAndGlyphs\" textLength=\"40\" x=\"110\" y=\"100.1387\">«part»</text><text fill=\"#000000\" font-family=\"sans-serif\" font-size=\"12\" lengthAdjust=\"spacingAndGlyphs\" textLength=\"22\" x=\"119\" y=\"114.1074\">y: B</text><line style=\"stroke: #383838; stroke-width: 1.5;\" x1=\"110\" x2=\"150\" y1=\"121.9375\" y2=\"121.9375\"/></a><!--MD5=[14ccda38c055a5c0da953d572bc50960]\n",
       "link E7 to E3--><a href=\"psysml:c27725e1-02a3-443e-822c-73205e66e264\" target=\"_top\" title=\"psysml:c27725e1-02a3-443e-822c-73205e66e264\" xlink:actuate=\"onRequest\" xlink:href=\"psysml:c27725e1-02a3-443e-822c-73205e66e264\" xlink:show=\"new\" xlink:title=\"psysml:c27725e1-02a3-443e-822c-73205e66e264\" xlink:type=\"simple\"><path d=\"M382,130.04 C382,130.04 382,184.63 382,184.63 \" fill=\"none\" id=\"E7-&gt;E3\" style=\"stroke: #383838; stroke-width: 1.0;\"/><polygon fill=\"#FFFFFF\" points=\"382,204.63,375,185.63,389,185.63,382,204.63\" style=\"stroke: #383838; stroke-width: 1.0;\"/><ellipse cx=\"377\" cy=\"179.93\" fill=\"#383838\" rx=\"2\" ry=\"2\" style=\"stroke: #383838; stroke-width: 1.0;\"/><ellipse cx=\"387\" cy=\"179.93\" fill=\"#383838\" rx=\"2\" ry=\"2\" style=\"stroke: #383838; stroke-width: 1.0;\"/></a><!--MD5=[1ccb2481ffa92f8d51a74ee30c51832a]\n",
       "link E8 to E5--><a href=\"psysml:43ceeb8e-eeaf-4aa9-b958-61b6f980f202\" target=\"_top\" title=\"psysml:43ceeb8e-eeaf-4aa9-b958-61b6f980f202\" xlink:actuate=\"onRequest\" xlink:href=\"psysml:43ceeb8e-eeaf-4aa9-b958-61b6f980f202\" xlink:show=\"new\" xlink:title=\"psysml:43ceeb8e-eeaf-4aa9-b958-61b6f980f202\" xlink:type=\"simple\"><path d=\"M305,130.06 C305,167.17 305,236 305,236 C305,236 183.33,236 183.33,236 \" fill=\"none\" id=\"E8-&gt;E5\" style=\"stroke: #383838; stroke-width: 1.0;\"/><polygon fill=\"#FFFFFF\" points=\"163.33,236,182.33,229,182.33,243,163.33,236\" style=\"stroke: #383838; stroke-width: 1.0;\"/><ellipse cx=\"188.03\" cy=\"231\" fill=\"#383838\" rx=\"2\" ry=\"2\" style=\"stroke: #383838; stroke-width: 1.0;\"/><ellipse cx=\"188.03\" cy=\"241\" fill=\"#383838\" rx=\"2\" ry=\"2\" style=\"stroke: #383838; stroke-width: 1.0;\"/></a><!--MD5=[feeac5eb423634930294aa81f2d25a4c]\n",
       "link E10 to E3--><a href=\"psysml:2f015e6c-7efc-43fd-92bb-26e8cb5e6a22\" target=\"_top\" title=\"psysml:2f015e6c-7efc-43fd-92bb-26e8cb5e6a22\" xlink:actuate=\"onRequest\" xlink:href=\"psysml:2f015e6c-7efc-43fd-92bb-26e8cb5e6a22\" xlink:show=\"new\" xlink:title=\"psysml:2f015e6c-7efc-43fd-92bb-26e8cb5e6a22\" xlink:type=\"simple\"><path d=\"M207,130.07 C207,163.38 207,221 207,221 C207,221 328.67,221 328.67,221 \" fill=\"none\" id=\"E10-&gt;E3\" style=\"stroke: #383838; stroke-width: 1.0;\"/><polygon fill=\"#FFFFFF\" points=\"348.67,221,329.67,228,329.67,214,348.67,221\" style=\"stroke: #383838; stroke-width: 1.0;\"/><ellipse cx=\"323.97\" cy=\"226\" fill=\"#383838\" rx=\"2\" ry=\"2\" style=\"stroke: #383838; stroke-width: 1.0;\"/><ellipse cx=\"323.97\" cy=\"216\" fill=\"#383838\" rx=\"2\" ry=\"2\" style=\"stroke: #383838; stroke-width: 1.0;\"/></a><!--MD5=[07b77f6f309248d16187045709d1c26e]\n",
       "link E11 to E5--><a href=\"psysml:7cf9fed8-155f-433e-a01b-9d13c54aa089\" target=\"_top\" title=\"psysml:7cf9fed8-155f-433e-a01b-9d13c54aa089\" xlink:actuate=\"onRequest\" xlink:href=\"psysml:7cf9fed8-155f-433e-a01b-9d13c54aa089\" xlink:show=\"new\" xlink:title=\"psysml:7cf9fed8-155f-433e-a01b-9d13c54aa089\" xlink:type=\"simple\"><path d=\"M130,130.04 C130,130.04 130,184.63 130,184.63 \" fill=\"none\" id=\"E11-&gt;E5\" style=\"stroke: #383838; stroke-width: 1.0;\"/><polygon fill=\"#FFFFFF\" points=\"130,204.63,123,185.63,137,185.63,130,204.63\" style=\"stroke: #383838; stroke-width: 1.0;\"/><ellipse cx=\"125\" cy=\"179.93\" fill=\"#383838\" rx=\"2\" ry=\"2\" style=\"stroke: #383838; stroke-width: 1.0;\"/><ellipse cx=\"135\" cy=\"179.93\" fill=\"#383838\" rx=\"2\" ry=\"2\" style=\"stroke: #383838; stroke-width: 1.0;\"/></a><!--MD5=[39f41a0e550fb3d73b4d8135617e30a2]\n",
       "link E12 to E3--><a href=\"psysml:2b9be10b-590f-4358-bedf-a86ab0ed6bce\" target=\"_top\" title=\"psysml:2b9be10b-590f-4358-bedf-a86ab0ed6bce\" xlink:actuate=\"onRequest\" xlink:href=\"psysml:2b9be10b-590f-4358-bedf-a86ab0ed6bce\" xlink:show=\"new\" xlink:title=\"psysml:2b9be10b-590f-4358-bedf-a86ab0ed6bce\" xlink:type=\"simple\"><path d=\"M437.8,107 C424.17,107 409,107 409,107 C409,107 409,184.96 409,184.96 \" fill=\"none\" id=\"E12-&gt;E3\" style=\"stroke: #383838; stroke-width: 1.0;\"/><polygon fill=\"#FFFFFF\" points=\"409,204.96,402,185.96,416,185.96,409,204.96\" style=\"stroke: #383838; stroke-width: 1.0;\"/><ellipse cx=\"404\" cy=\"180.26\" fill=\"#383838\" rx=\"2\" ry=\"2\" style=\"stroke: #383838; stroke-width: 1.0;\"/><ellipse cx=\"414\" cy=\"180.26\" fill=\"#383838\" rx=\"2\" ry=\"2\" style=\"stroke: #383838; stroke-width: 1.0;\"/></a><!--MD5=[066b2d8af59fea80ccdb3d54ad5c1091]\n",
       "link E13 to E5--><a href=\"psysml:78896435-f936-4df6-9172-2ff6f9da23d9\" target=\"_top\" title=\"psysml:78896435-f936-4df6-9172-2ff6f9da23d9\" xlink:actuate=\"onRequest\" xlink:href=\"psysml:78896435-f936-4df6-9172-2ff6f9da23d9\" xlink:show=\"new\" xlink:title=\"psysml:78896435-f936-4df6-9172-2ff6f9da23d9\" xlink:type=\"simple\"><path d=\"M74.2,107 C87.83,107 103,107 103,107 C103,107 103,184.96 103,184.96 \" fill=\"none\" id=\"E13-&gt;E5\" style=\"stroke: #383838; stroke-width: 1.0;\"/><polygon fill=\"#FFFFFF\" points=\"103,204.96,96,185.96,110,185.96,103,204.96\" style=\"stroke: #383838; stroke-width: 1.0;\"/><ellipse cx=\"98\" cy=\"180.26\" fill=\"#383838\" rx=\"2\" ry=\"2\" style=\"stroke: #383838; stroke-width: 1.0;\"/><ellipse cx=\"108\" cy=\"180.26\" fill=\"#383838\" rx=\"2\" ry=\"2\" style=\"stroke: #383838; stroke-width: 1.0;\"/></a><!--MD5=[4d10f1042f4add445b6fa8009f43117f]\n",
       "@startuml\r\n",
       "skinparam linetype ortho\r\n",
       "skinparam monochrome true\r\n",
       "skinparam classbackgroundcolor white\r\n",
       "skinparam shadowing false\r\n",
       "skinparam wrapWidth 300\r\n",
       "hide circle\r\n",
       "\r\n",
       "package \"CircularImport\" as E1  [[psysml:33738fcf-e3ee-4a7e-98d6-e975d5107ba1 ]]  {\r\n",
       "package \"P1\" as E2  [[psysml:130ef6c7-3ccc-43b9-a62a-eb926cce14a9 ]]  {\r\n",
       "comp def \"A\" as E3  <<(T,blue) part def>> [[psysml:cb0f7157-438a-4ad5-8a96-0def6a248a5a ]] {\r\n",
       "}\r\n",
       "}\r\n",
       "package \"P2\" as E4  [[psysml:0bc4dbd6-620a-45b9-8d32-94753792e496 ]]  {\r\n",
       "comp def \"B\" as E5  <<(T,blue) part def>> [[psysml:fa716e5d-1985-44ef-b151-4b2b4c0691ed ]] {\r\n",
       "}\r\n",
       "}\r\n",
       "package \"Test1\" as E6  [[psysml:b4043d48-e2a3-4796-9568-6bbff931ebfd ]]  {\r\n",
       "comp usage \"x: A\" as E7  <<(T,blue) part>> [[psysml:418b0add-8d91-4a6d-810e-c529e1e5d9c2 ]] {\r\n",
       "}\r\n",
       "comp usage \"y: B\" as E8  <<(T,blue) part>> [[psysml:c18479a8-8a5a-4a0f-a7e4-033b0648dafb ]] {\r\n",
       "}\r\n",
       "E7 - -:|> E3 [[psysml:c27725e1-02a3-443e-822c-73205e66e264 ]] \r\n",
       "E8 - -:|> E5 [[psysml:43ceeb8e-eeaf-4aa9-b958-61b6f980f202 ]] \r\n",
       "}\r\n",
       "package \"Test2\" as E9  [[psysml:85a9df72-6515-46a6-853d-c4da844a4980 ]]  {\r\n",
       "comp usage \"x: A\" as E10  <<(T,blue) part>> [[psysml:61feb9d5-4074-478e-84bb-b7eccf03922b ]] {\r\n",
       "}\r\n",
       "comp usage \"y: B\" as E11  <<(T,blue) part>> [[psysml:2edd355f-e967-45cc-82fe-80091bb729bd ]] {\r\n",
       "}\r\n",
       "E10 - -:|> E3 [[psysml:2f015e6c-7efc-43fd-92bb-26e8cb5e6a22 ]] \r\n",
       "E11 - -:|> E5 [[psysml:7cf9fed8-155f-433e-a01b-9d13c54aa089 ]] \r\n",
       "}\r\n",
       "comp usage \"x: A\" as E12  <<(T,blue) part>> [[psysml:530a6ae9-7dc1-4851-ab10-936e92c948f7 ]] {\r\n",
       "}\r\n",
       "comp usage \"y: B\" as E13  <<(T,blue) part>> [[psysml:561bfa55-252f-4783-9fb1-458618dbf236 ]] {\r\n",
       "}\r\n",
       "E12 - -:|> E3 [[psysml:2b9be10b-590f-4358-bedf-a86ab0ed6bce ]] \r\n",
       "E13 - -:|> E5 [[psysml:78896435-f936-4df6-9172-2ff6f9da23d9 ]] \r\n",
       "}\r\n",
       "@enduml\r\n",
       "\n",
       "PlantUML version 1.2020.13(Sat Jun 13 12:26:38 UTC 2020)\n",
       "(EPL source distribution)\n",
       "Java Runtime: OpenJDK Runtime Environment\n",
       "JVM: OpenJDK 64-Bit Server VM\n",
       "Default Encoding: UTF-8\n",
       "Language: en\n",
       "Country: null\n",
       "--></g></svg>"
      ]
     },
     "execution_count": 52,
     "metadata": {},
     "output_type": "execute_result"
    }
   ],
   "source": [
    "%viz --style=\"ORTHOLINE\" --view=\"Tree\" \"CircularImport\""
   ]
  },
  {
   "cell_type": "code",
   "execution_count": 53,
   "id": "c71311a4",
   "metadata": {
    "execution": {
     "iopub.execute_input": "2021-06-30T09:15:13.714820Z",
     "iopub.status.busy": "2021-06-30T09:15:13.713875Z",
     "iopub.status.idle": "2021-06-30T09:15:13.720638Z",
     "shell.execute_reply": "2021-06-30T09:15:13.719987Z"
    }
   },
   "outputs": [
    {
     "data": {
      "image/svg+xml": [
       "<?xml version=\"1.0\" encoding=\"UTF-8\" standalone=\"no\"?><svg xmlns=\"http://www.w3.org/2000/svg\" xmlns:xlink=\"http://www.w3.org/1999/xlink\" contentScriptType=\"application/ecmascript\" contentStyleType=\"text/css\" height=\"12px\" preserveAspectRatio=\"none\" style=\"width:12px;height:12px;\" version=\"1.1\" viewBox=\"0 0 12 12\" width=\"12px\" zoomAndPan=\"magnify\"><defs/><g><!--MD5=[97d6f38768b311333d388e66b2b27985]\n",
       "@startuml\r\n",
       "skinparam linetype ortho\r\n",
       "skinparam monochrome true\r\n",
       "skinparam classbackgroundcolor white\r\n",
       "skinparam shadowing false\r\n",
       "skinparam wrapWidth 300\r\n",
       "hide circle\r\n",
       "\r\n",
       "@enduml\r\n",
       "\n",
       "PlantUML version 1.2020.13(Sat Jun 13 12:26:38 UTC 2020)\n",
       "(EPL source distribution)\n",
       "Java Runtime: OpenJDK Runtime Environment\n",
       "JVM: OpenJDK 64-Bit Server VM\n",
       "Default Encoding: UTF-8\n",
       "Language: en\n",
       "Country: null\n",
       "--></g></svg>"
      ]
     },
     "execution_count": 53,
     "metadata": {},
     "output_type": "execute_result"
    }
   ],
   "source": [
    "%viz --style=\"ORTHOLINE\" --view=\"State\" \"CircularImport\""
   ]
  },
  {
   "cell_type": "code",
   "execution_count": 54,
   "id": "af9a0ea9",
   "metadata": {
    "execution": {
     "iopub.execute_input": "2021-06-30T09:15:13.779365Z",
     "iopub.status.busy": "2021-06-30T09:15:13.777020Z",
     "iopub.status.idle": "2021-06-30T09:15:13.827558Z",
     "shell.execute_reply": "2021-06-30T09:15:13.827160Z"
    }
   },
   "outputs": [
    {
     "data": {
      "image/svg+xml": [
       "<?xml version=\"1.0\" encoding=\"UTF-8\" standalone=\"no\"?><svg xmlns=\"http://www.w3.org/2000/svg\" xmlns:xlink=\"http://www.w3.org/1999/xlink\" contentScriptType=\"application/ecmascript\" contentStyleType=\"text/css\" height=\"179px\" preserveAspectRatio=\"none\" style=\"width:846px;height:179px;\" version=\"1.1\" viewBox=\"0 0 846 179\" width=\"846px\" zoomAndPan=\"magnify\"><defs/><g><!--MD5=[fbc87193dbaf4d95561dea2c320d4a47]\n",
       "cluster E1--><a href=\"psysml:33738fcf-e3ee-4a7e-98d6-e975d5107ba1\" target=\"_top\" title=\"psysml:33738fcf-e3ee-4a7e-98d6-e975d5107ba1\" xlink:actuate=\"onRequest\" xlink:href=\"psysml:33738fcf-e3ee-4a7e-98d6-e975d5107ba1\" xlink:show=\"new\" xlink:title=\"psysml:33738fcf-e3ee-4a7e-98d6-e975d5107ba1\" xlink:type=\"simple\"><polygon fill=\"#FFFFFF\" points=\"16,6,134,6,141,28.2969,824,28.2969,824,167,16,167,16,6\" style=\"stroke: #000000; stroke-width: 1.5;\"/><line style=\"stroke: #000000; stroke-width: 1.5;\" x1=\"16\" x2=\"141\" y1=\"28.2969\" y2=\"28.2969\"/><text fill=\"#000000\" font-family=\"sans-serif\" font-size=\"14\" font-weight=\"bold\" lengthAdjust=\"spacingAndGlyphs\" textLength=\"112\" x=\"20\" y=\"20.9951\">CircularImport</text></a><!--MD5=[e4f7fae6ed58524ba242bb0b0d3be6b7]\n",
       "cluster E2--><a href=\"psysml:130ef6c7-3ccc-43b9-a62a-eb926cce14a9\" target=\"_top\" title=\"psysml:130ef6c7-3ccc-43b9-a62a-eb926cce14a9\" xlink:actuate=\"onRequest\" xlink:href=\"psysml:130ef6c7-3ccc-43b9-a62a-eb926cce14a9\" xlink:show=\"new\" xlink:title=\"psysml:130ef6c7-3ccc-43b9-a62a-eb926cce14a9\" xlink:type=\"simple\"><polygon fill=\"#FFFFFF\" points=\"696,49,722,49,729,71.2969,800,71.2969,800,143,696,143,696,49\" style=\"stroke: #000000; stroke-width: 1.5;\"/><line style=\"stroke: #000000; stroke-width: 1.5;\" x1=\"696\" x2=\"729\" y1=\"71.2969\" y2=\"71.2969\"/><text fill=\"#000000\" font-family=\"sans-serif\" font-size=\"14\" font-weight=\"bold\" lengthAdjust=\"spacingAndGlyphs\" textLength=\"20\" x=\"700\" y=\"63.9951\">P1</text></a><!--MD5=[f6df4d0ebaf0b5dfb2ced0ae5af7c670]\n",
       "cluster E4--><a href=\"psysml:0bc4dbd6-620a-45b9-8d32-94753792e496\" target=\"_top\" title=\"psysml:0bc4dbd6-620a-45b9-8d32-94753792e496\" xlink:actuate=\"onRequest\" xlink:href=\"psysml:0bc4dbd6-620a-45b9-8d32-94753792e496\" xlink:show=\"new\" xlink:title=\"psysml:0bc4dbd6-620a-45b9-8d32-94753792e496\" xlink:type=\"simple\"><polygon fill=\"#FFFFFF\" points=\"568,49,594,49,601,71.2969,672,71.2969,672,143,568,143,568,49\" style=\"stroke: #000000; stroke-width: 1.5;\"/><line style=\"stroke: #000000; stroke-width: 1.5;\" x1=\"568\" x2=\"601\" y1=\"71.2969\" y2=\"71.2969\"/><text fill=\"#000000\" font-family=\"sans-serif\" font-size=\"14\" font-weight=\"bold\" lengthAdjust=\"spacingAndGlyphs\" textLength=\"20\" x=\"572\" y=\"63.9951\">P2</text></a><!--MD5=[14e3b0961a2654348d326746436168a1]\n",
       "cluster E6--><a href=\"psysml:b4043d48-e2a3-4796-9568-6bbff931ebfd\" target=\"_top\" title=\"psysml:b4043d48-e2a3-4796-9568-6bbff931ebfd\" xlink:actuate=\"onRequest\" xlink:href=\"psysml:b4043d48-e2a3-4796-9568-6bbff931ebfd\" xlink:show=\"new\" xlink:title=\"psysml:b4043d48-e2a3-4796-9568-6bbff931ebfd\" xlink:type=\"simple\"><polygon fill=\"#FFFFFF\" points=\"377,50.5,428,50.5,435,72.7969,544,72.7969,544,141.5,377,141.5,377,50.5\" style=\"stroke: #000000; stroke-width: 1.5;\"/><line style=\"stroke: #000000; stroke-width: 1.5;\" x1=\"377\" x2=\"435\" y1=\"72.7969\" y2=\"72.7969\"/><text fill=\"#000000\" font-family=\"sans-serif\" font-size=\"14\" font-weight=\"bold\" lengthAdjust=\"spacingAndGlyphs\" textLength=\"45\" x=\"381\" y=\"65.4951\">Test1</text></a><!--MD5=[7f149f147074ac12df2cb0a7728a5fb0]\n",
       "cluster E9--><a href=\"psysml:85a9df72-6515-46a6-853d-c4da844a4980\" target=\"_top\" title=\"psysml:85a9df72-6515-46a6-853d-c4da844a4980\" xlink:actuate=\"onRequest\" xlink:href=\"psysml:85a9df72-6515-46a6-853d-c4da844a4980\" xlink:show=\"new\" xlink:title=\"psysml:85a9df72-6515-46a6-853d-c4da844a4980\" xlink:type=\"simple\"><polygon fill=\"#FFFFFF\" points=\"186,50.5,237,50.5,244,72.7969,353,72.7969,353,141.5,186,141.5,186,50.5\" style=\"stroke: #000000; stroke-width: 1.5;\"/><line style=\"stroke: #000000; stroke-width: 1.5;\" x1=\"186\" x2=\"244\" y1=\"72.7969\" y2=\"72.7969\"/><text fill=\"#000000\" font-family=\"sans-serif\" font-size=\"14\" font-weight=\"bold\" lengthAdjust=\"spacingAndGlyphs\" textLength=\"45\" x=\"190\" y=\"65.4951\">Test2</text></a><g id=\"E1.E2.E3\"><a href=\"psysml:cb0f7157-438a-4ad5-8a96-0def6a248a5a\" target=\"_top\" title=\"psysml:cb0f7157-438a-4ad5-8a96-0def6a248a5a\" xlink:actuate=\"onRequest\" xlink:href=\"psysml:cb0f7157-438a-4ad5-8a96-0def6a248a5a\" xlink:show=\"new\" xlink:title=\"psysml:cb0f7157-438a-4ad5-8a96-0def6a248a5a\" xlink:type=\"simple\"><rect fill=\"#FFFFFF\" height=\"42.9375\" id=\"E3\" style=\"stroke: #383838; stroke-width: 1.5;\" width=\"71\" x=\"712.5\" y=\"84\"/><rect fill=\"#F8F8F8\" height=\"37.9375\" style=\"stroke: #383838; stroke-width: 1.5;\" width=\"71\" x=\"712.5\" y=\"84\"/><text fill=\"#000000\" font-family=\"sans-serif\" font-size=\"12\" font-style=\"italic\" lengthAdjust=\"spacingAndGlyphs\" textLength=\"64\" x=\"716\" y=\"100.1387\">«part def»</text><text fill=\"#000000\" font-family=\"sans-serif\" font-size=\"12\" lengthAdjust=\"spacingAndGlyphs\" textLength=\"8\" x=\"744\" y=\"114.1074\">A</text></a></g><g id=\"E1.E4.E5\"><a href=\"psysml:fa716e5d-1985-44ef-b151-4b2b4c0691ed\" target=\"_top\" title=\"psysml:fa716e5d-1985-44ef-b151-4b2b4c0691ed\" xlink:actuate=\"onRequest\" xlink:href=\"psysml:fa716e5d-1985-44ef-b151-4b2b4c0691ed\" xlink:show=\"new\" xlink:title=\"psysml:fa716e5d-1985-44ef-b151-4b2b4c0691ed\" xlink:type=\"simple\"><rect fill=\"#FFFFFF\" height=\"42.9375\" id=\"E5\" style=\"stroke: #383838; stroke-width: 1.5;\" width=\"71\" x=\"584.5\" y=\"84\"/><rect fill=\"#F8F8F8\" height=\"37.9375\" style=\"stroke: #383838; stroke-width: 1.5;\" width=\"71\" x=\"584.5\" y=\"84\"/><text fill=\"#000000\" font-family=\"sans-serif\" font-size=\"12\" font-style=\"italic\" lengthAdjust=\"spacingAndGlyphs\" textLength=\"64\" x=\"588\" y=\"100.1387\">«part def»</text><text fill=\"#000000\" font-family=\"sans-serif\" font-size=\"12\" lengthAdjust=\"spacingAndGlyphs\" textLength=\"8\" x=\"616\" y=\"114.1074\">B</text></a></g><g id=\"E1.E6.E7\"><a href=\"psysml:418b0add-8d91-4a6d-810e-c529e1e5d9c2\" target=\"_top\" title=\"psysml:418b0add-8d91-4a6d-810e-c529e1e5d9c2\" xlink:actuate=\"onRequest\" xlink:href=\"psysml:418b0add-8d91-4a6d-810e-c529e1e5d9c2\" xlink:show=\"new\" xlink:title=\"psysml:418b0add-8d91-4a6d-810e-c529e1e5d9c2\" xlink:type=\"simple\"><rect fill=\"#FFFFFF\" height=\"40\" id=\"E7\" rx=\"10\" ry=\"10\" style=\"stroke: #383838; stroke-width: 1.5;\" width=\"50\" x=\"478\" y=\"85.5\"/><rect fill=\"#F8F8F8\" height=\"23.9688\" rx=\"10\" ry=\"10\" style=\"stroke: #F8F8F8; stroke-width: 1.5;\" width=\"50\" x=\"478\" y=\"85.5\"/><rect fill=\"#F8F8F8\" height=\"10\" style=\"stroke: #F8F8F8; stroke-width: 1.5;\" width=\"50\" x=\"478\" y=\"99.4688\"/><rect fill=\"none\" height=\"40\" id=\"E7\" rx=\"10\" ry=\"10\" style=\"stroke: #383838; stroke-width: 1.5;\" width=\"50\" x=\"478\" y=\"85.5\"/><text fill=\"#000000\" font-family=\"sans-serif\" font-size=\"12\" lengthAdjust=\"spacingAndGlyphs\" textLength=\"22\" x=\"492\" y=\"101.6387\">x: A</text></a></g><g id=\"E1.E6.E8\"><a href=\"psysml:c18479a8-8a5a-4a0f-a7e4-033b0648dafb\" target=\"_top\" title=\"psysml:c18479a8-8a5a-4a0f-a7e4-033b0648dafb\" xlink:actuate=\"onRequest\" xlink:href=\"psysml:c18479a8-8a5a-4a0f-a7e4-033b0648dafb\" xlink:show=\"new\" xlink:title=\"psysml:c18479a8-8a5a-4a0f-a7e4-033b0648dafb\" xlink:type=\"simple\"><rect fill=\"#FFFFFF\" height=\"40\" id=\"E8\" rx=\"10\" ry=\"10\" style=\"stroke: #383838; stroke-width: 1.5;\" width=\"50\" x=\"393\" y=\"85.5\"/><rect fill=\"#F8F8F8\" height=\"23.9688\" rx=\"10\" ry=\"10\" style=\"stroke: #F8F8F8; stroke-width: 1.5;\" width=\"50\" x=\"393\" y=\"85.5\"/><rect fill=\"#F8F8F8\" height=\"10\" style=\"stroke: #F8F8F8; stroke-width: 1.5;\" width=\"50\" x=\"393\" y=\"99.4688\"/><rect fill=\"none\" height=\"40\" id=\"E8\" rx=\"10\" ry=\"10\" style=\"stroke: #383838; stroke-width: 1.5;\" width=\"50\" x=\"393\" y=\"85.5\"/><text fill=\"#000000\" font-family=\"sans-serif\" font-size=\"12\" lengthAdjust=\"spacingAndGlyphs\" textLength=\"22\" x=\"407\" y=\"101.6387\">y: B</text></a></g><g id=\"E1.E9.E10\"><a href=\"psysml:61feb9d5-4074-478e-84bb-b7eccf03922b\" target=\"_top\" title=\"psysml:61feb9d5-4074-478e-84bb-b7eccf03922b\" xlink:actuate=\"onRequest\" xlink:href=\"psysml:61feb9d5-4074-478e-84bb-b7eccf03922b\" xlink:show=\"new\" xlink:title=\"psysml:61feb9d5-4074-478e-84bb-b7eccf03922b\" xlink:type=\"simple\"><rect fill=\"#FFFFFF\" height=\"40\" id=\"E10\" rx=\"10\" ry=\"10\" style=\"stroke: #383838; stroke-width: 1.5;\" width=\"50\" x=\"287\" y=\"85.5\"/><rect fill=\"#F8F8F8\" height=\"23.9688\" rx=\"10\" ry=\"10\" style=\"stroke: #F8F8F8; stroke-width: 1.5;\" width=\"50\" x=\"287\" y=\"85.5\"/><rect fill=\"#F8F8F8\" height=\"10\" style=\"stroke: #F8F8F8; stroke-width: 1.5;\" width=\"50\" x=\"287\" y=\"99.4688\"/><rect fill=\"none\" height=\"40\" id=\"E10\" rx=\"10\" ry=\"10\" style=\"stroke: #383838; stroke-width: 1.5;\" width=\"50\" x=\"287\" y=\"85.5\"/><text fill=\"#000000\" font-family=\"sans-serif\" font-size=\"12\" lengthAdjust=\"spacingAndGlyphs\" textLength=\"22\" x=\"301\" y=\"101.6387\">x: A</text></a></g><g id=\"E1.E9.E11\"><a href=\"psysml:2edd355f-e967-45cc-82fe-80091bb729bd\" target=\"_top\" title=\"psysml:2edd355f-e967-45cc-82fe-80091bb729bd\" xlink:actuate=\"onRequest\" xlink:href=\"psysml:2edd355f-e967-45cc-82fe-80091bb729bd\" xlink:show=\"new\" xlink:title=\"psysml:2edd355f-e967-45cc-82fe-80091bb729bd\" xlink:type=\"simple\"><rect fill=\"#FFFFFF\" height=\"40\" id=\"E11\" rx=\"10\" ry=\"10\" style=\"stroke: #383838; stroke-width: 1.5;\" width=\"50\" x=\"202\" y=\"85.5\"/><rect fill=\"#F8F8F8\" height=\"23.9688\" rx=\"10\" ry=\"10\" style=\"stroke: #F8F8F8; stroke-width: 1.5;\" width=\"50\" x=\"202\" y=\"85.5\"/><rect fill=\"#F8F8F8\" height=\"10\" style=\"stroke: #F8F8F8; stroke-width: 1.5;\" width=\"50\" x=\"202\" y=\"99.4688\"/><rect fill=\"none\" height=\"40\" id=\"E11\" rx=\"10\" ry=\"10\" style=\"stroke: #383838; stroke-width: 1.5;\" width=\"50\" x=\"202\" y=\"85.5\"/><text fill=\"#000000\" font-family=\"sans-serif\" font-size=\"12\" lengthAdjust=\"spacingAndGlyphs\" textLength=\"22\" x=\"216\" y=\"101.6387\">y: B</text></a></g><g id=\"E1.E12\"><a href=\"psysml:530a6ae9-7dc1-4851-ab10-936e92c948f7\" target=\"_top\" title=\"psysml:530a6ae9-7dc1-4851-ab10-936e92c948f7\" xlink:actuate=\"onRequest\" xlink:href=\"psysml:530a6ae9-7dc1-4851-ab10-936e92c948f7\" xlink:show=\"new\" xlink:title=\"psysml:530a6ae9-7dc1-4851-ab10-936e92c948f7\" xlink:type=\"simple\"><rect fill=\"#FFFFFF\" height=\"40\" id=\"E12\" rx=\"10\" ry=\"10\" style=\"stroke: #383838; stroke-width: 1.5;\" width=\"50\" x=\"117\" y=\"85.5\"/><rect fill=\"#F8F8F8\" height=\"23.9688\" rx=\"10\" ry=\"10\" style=\"stroke: #F8F8F8; stroke-width: 1.5;\" width=\"50\" x=\"117\" y=\"85.5\"/><rect fill=\"#F8F8F8\" height=\"10\" style=\"stroke: #F8F8F8; stroke-width: 1.5;\" width=\"50\" x=\"117\" y=\"99.4688\"/><rect fill=\"none\" height=\"40\" id=\"E12\" rx=\"10\" ry=\"10\" style=\"stroke: #383838; stroke-width: 1.5;\" width=\"50\" x=\"117\" y=\"85.5\"/><text fill=\"#000000\" font-family=\"sans-serif\" font-size=\"12\" lengthAdjust=\"spacingAndGlyphs\" textLength=\"22\" x=\"131\" y=\"101.6387\">x: A</text></a></g><g id=\"E1.E13\"><a href=\"psysml:561bfa55-252f-4783-9fb1-458618dbf236\" target=\"_top\" title=\"psysml:561bfa55-252f-4783-9fb1-458618dbf236\" xlink:actuate=\"onRequest\" xlink:href=\"psysml:561bfa55-252f-4783-9fb1-458618dbf236\" xlink:show=\"new\" xlink:title=\"psysml:561bfa55-252f-4783-9fb1-458618dbf236\" xlink:type=\"simple\"><rect fill=\"#FFFFFF\" height=\"40\" id=\"E13\" rx=\"10\" ry=\"10\" style=\"stroke: #383838; stroke-width: 1.5;\" width=\"50\" x=\"32\" y=\"85.5\"/><rect fill=\"#F8F8F8\" height=\"23.9688\" rx=\"10\" ry=\"10\" style=\"stroke: #F8F8F8; stroke-width: 1.5;\" width=\"50\" x=\"32\" y=\"85.5\"/><rect fill=\"#F8F8F8\" height=\"10\" style=\"stroke: #F8F8F8; stroke-width: 1.5;\" width=\"50\" x=\"32\" y=\"99.4688\"/><rect fill=\"none\" height=\"40\" id=\"E13\" rx=\"10\" ry=\"10\" style=\"stroke: #383838; stroke-width: 1.5;\" width=\"50\" x=\"32\" y=\"85.5\"/><text fill=\"#000000\" font-family=\"sans-serif\" font-size=\"12\" lengthAdjust=\"spacingAndGlyphs\" textLength=\"22\" x=\"46\" y=\"101.6387\">y: B</text></a></g><!--MD5=[dd92a6f2c653dba9a7657903ede5cfe4]\n",
       "@startuml\r\n",
       "skinparam ranksep 10\r\n",
       "skinparam rectangle {\r\n",
       " backgroundColor<<block>> LightGreen\r\n",
       "}\r\n",
       "skinparam linetype ortho\r\n",
       "skinparam monochrome true\r\n",
       "skinparam classbackgroundcolor white\r\n",
       "skinparam shadowing false\r\n",
       "skinparam wrapWidth 300\r\n",
       "hide circle\r\n",
       "\r\n",
       "package \"CircularImport\" as E1  [[psysml:33738fcf-e3ee-4a7e-98d6-e975d5107ba1 ]]  {\r\n",
       "package \"P1\" as E2  [[psysml:130ef6c7-3ccc-43b9-a62a-eb926cce14a9 ]]  {\r\n",
       "rec def \"A\" as E3  <<(T,blue) part def>> [[psysml:cb0f7157-438a-4ad5-8a96-0def6a248a5a ]] {\r\n",
       "}\r\n",
       "}\r\n",
       "package \"P2\" as E4  [[psysml:0bc4dbd6-620a-45b9-8d32-94753792e496 ]]  {\r\n",
       "rec def \"B\" as E5  <<(T,blue) part def>> [[psysml:fa716e5d-1985-44ef-b151-4b2b4c0691ed ]] {\r\n",
       "}\r\n",
       "}\r\n",
       "package \"Test1\" as E6  [[psysml:b4043d48-e2a3-4796-9568-6bbff931ebfd ]]  {\r\n",
       "rec usage \"x: A\" as E7  [[psysml:418b0add-8d91-4a6d-810e-c529e1e5d9c2 ]] {\r\n",
       "}\r\n",
       "rec usage \"y: B\" as E8  [[psysml:c18479a8-8a5a-4a0f-a7e4-033b0648dafb ]] {\r\n",
       "}\r\n",
       "}\r\n",
       "package \"Test2\" as E9  [[psysml:85a9df72-6515-46a6-853d-c4da844a4980 ]]  {\r\n",
       "rec usage \"x: A\" as E10  [[psysml:61feb9d5-4074-478e-84bb-b7eccf03922b ]] {\r\n",
       "}\r\n",
       "rec usage \"y: B\" as E11  [[psysml:2edd355f-e967-45cc-82fe-80091bb729bd ]] {\r\n",
       "}\r\n",
       "}\r\n",
       "rec usage \"x: A\" as E12  [[psysml:530a6ae9-7dc1-4851-ab10-936e92c948f7 ]] {\r\n",
       "}\r\n",
       "rec usage \"y: B\" as E13  [[psysml:561bfa55-252f-4783-9fb1-458618dbf236 ]] {\r\n",
       "}\r\n",
       "}\r\n",
       "@enduml\r\n",
       "\n",
       "PlantUML version 1.2020.13(Sat Jun 13 12:26:38 UTC 2020)\n",
       "(EPL source distribution)\n",
       "Java Runtime: OpenJDK Runtime Environment\n",
       "JVM: OpenJDK 64-Bit Server VM\n",
       "Default Encoding: UTF-8\n",
       "Language: en\n",
       "Country: null\n",
       "--></g></svg>"
      ]
     },
     "execution_count": 54,
     "metadata": {},
     "output_type": "execute_result"
    }
   ],
   "source": [
    "%viz --style=\"ORTHOLINE\" --view=\"Interconnection\" \"CircularImport\""
   ]
  },
  {
   "cell_type": "code",
   "execution_count": 55,
   "id": "2f48ddc9",
   "metadata": {
    "execution": {
     "iopub.execute_input": "2021-06-30T09:15:13.877981Z",
     "iopub.status.busy": "2021-06-30T09:15:13.877239Z",
     "iopub.status.idle": "2021-06-30T09:15:13.886252Z",
     "shell.execute_reply": "2021-06-30T09:15:13.885740Z"
    }
   },
   "outputs": [
    {
     "data": {
      "image/svg+xml": [
       "<?xml version=\"1.0\" encoding=\"UTF-8\" standalone=\"no\"?><svg xmlns=\"http://www.w3.org/2000/svg\" xmlns:xlink=\"http://www.w3.org/1999/xlink\" contentScriptType=\"application/ecmascript\" contentStyleType=\"text/css\" height=\"12px\" preserveAspectRatio=\"none\" style=\"width:12px;height:12px;\" version=\"1.1\" viewBox=\"0 0 12 12\" width=\"12px\" zoomAndPan=\"magnify\"><defs/><g><!--MD5=[72934c63077099a26744516a776b4749]\n",
       "@startuml\r\n",
       "skinparam ranksep 8\r\n",
       "skinparam linetype ortho\r\n",
       "skinparam monochrome true\r\n",
       "skinparam classbackgroundcolor white\r\n",
       "skinparam shadowing false\r\n",
       "skinparam wrapWidth 300\r\n",
       "hide circle\r\n",
       "\r\n",
       "@enduml\r\n",
       "\n",
       "PlantUML version 1.2020.13(Sat Jun 13 12:26:38 UTC 2020)\n",
       "(EPL source distribution)\n",
       "Java Runtime: OpenJDK Runtime Environment\n",
       "JVM: OpenJDK 64-Bit Server VM\n",
       "Default Encoding: UTF-8\n",
       "Language: en\n",
       "Country: null\n",
       "--></g></svg>"
      ]
     },
     "execution_count": 55,
     "metadata": {},
     "output_type": "execute_result"
    }
   ],
   "source": [
    "%viz --style=\"ORTHOLINE\" --view=\"Action\" \"CircularImport\""
   ]
  },
  {
   "cell_type": "code",
   "execution_count": 56,
   "id": "f78aff95",
   "metadata": {
    "execution": {
     "iopub.execute_input": "2021-06-30T09:15:13.937717Z",
     "iopub.status.busy": "2021-06-30T09:15:13.936995Z",
     "iopub.status.idle": "2021-06-30T09:15:13.987209Z",
     "shell.execute_reply": "2021-06-30T09:15:13.985244Z"
    }
   },
   "outputs": [
    {
     "data": {
      "image/svg+xml": [
       "<?xml version=\"1.0\" encoding=\"UTF-8\" standalone=\"no\"?><svg xmlns=\"http://www.w3.org/2000/svg\" xmlns:xlink=\"http://www.w3.org/1999/xlink\" contentScriptType=\"application/ecmascript\" contentStyleType=\"text/css\" height=\"303px\" preserveAspectRatio=\"none\" style=\"width:518px;height:303px;\" version=\"1.1\" viewBox=\"0 0 518 303\" width=\"518px\" zoomAndPan=\"magnify\"><defs/><g><!--MD5=[fbc87193dbaf4d95561dea2c320d4a47]\n",
       "cluster E1--><a href=\"psysml:33738fcf-e3ee-4a7e-98d6-e975d5107ba1\" target=\"_top\" title=\"psysml:33738fcf-e3ee-4a7e-98d6-e975d5107ba1\" xlink:actuate=\"onRequest\" xlink:href=\"psysml:33738fcf-e3ee-4a7e-98d6-e975d5107ba1\" xlink:show=\"new\" xlink:title=\"psysml:33738fcf-e3ee-4a7e-98d6-e975d5107ba1\" xlink:type=\"simple\"><polygon fill=\"#FFFFFF\" points=\"16,6,134,6,141,28.2969,496,28.2969,496,291,16,291,16,6\" style=\"stroke: #000000; stroke-width: 1.5;\"/><line style=\"stroke: #000000; stroke-width: 1.5;\" x1=\"16\" x2=\"141\" y1=\"28.2969\" y2=\"28.2969\"/><text fill=\"#000000\" font-family=\"sans-serif\" font-size=\"14\" font-weight=\"bold\" lengthAdjust=\"spacingAndGlyphs\" textLength=\"112\" x=\"20\" y=\"20.9951\">CircularImport</text></a><!--MD5=[e4f7fae6ed58524ba242bb0b0d3be6b7]\n",
       "cluster E2--><a href=\"psysml:130ef6c7-3ccc-43b9-a62a-eb926cce14a9\" target=\"_top\" title=\"psysml:130ef6c7-3ccc-43b9-a62a-eb926cce14a9\" xlink:actuate=\"onRequest\" xlink:href=\"psysml:130ef6c7-3ccc-43b9-a62a-eb926cce14a9\" xlink:show=\"new\" xlink:title=\"psysml:130ef6c7-3ccc-43b9-a62a-eb926cce14a9\" xlink:type=\"simple\"><polygon fill=\"#FFFFFF\" points=\"333,170,359,170,366,192.2969,431,192.2969,431,267,333,267,333,170\" style=\"stroke: #000000; stroke-width: 1.5;\"/><line style=\"stroke: #000000; stroke-width: 1.5;\" x1=\"333\" x2=\"366\" y1=\"192.2969\" y2=\"192.2969\"/><text fill=\"#000000\" font-family=\"sans-serif\" font-size=\"14\" font-weight=\"bold\" lengthAdjust=\"spacingAndGlyphs\" textLength=\"20\" x=\"337\" y=\"184.9951\">P1</text></a><!--MD5=[f6df4d0ebaf0b5dfb2ced0ae5af7c670]\n",
       "cluster E4--><a href=\"psysml:0bc4dbd6-620a-45b9-8d32-94753792e496\" target=\"_top\" title=\"psysml:0bc4dbd6-620a-45b9-8d32-94753792e496\" xlink:actuate=\"onRequest\" xlink:href=\"psysml:0bc4dbd6-620a-45b9-8d32-94753792e496\" xlink:show=\"new\" xlink:title=\"psysml:0bc4dbd6-620a-45b9-8d32-94753792e496\" xlink:type=\"simple\"><polygon fill=\"#FFFFFF\" points=\"81,170,107,170,114,192.2969,179,192.2969,179,267,81,267,81,170\" style=\"stroke: #000000; stroke-width: 1.5;\"/><line style=\"stroke: #000000; stroke-width: 1.5;\" x1=\"81\" x2=\"114\" y1=\"192.2969\" y2=\"192.2969\"/><text fill=\"#000000\" font-family=\"sans-serif\" font-size=\"14\" font-weight=\"bold\" lengthAdjust=\"spacingAndGlyphs\" textLength=\"20\" x=\"85\" y=\"184.9951\">P2</text></a><!--MD5=[14e3b0961a2654348d326746436168a1]\n",
       "cluster E6--><a href=\"psysml:b4043d48-e2a3-4796-9568-6bbff931ebfd\" target=\"_top\" title=\"psysml:b4043d48-e2a3-4796-9568-6bbff931ebfd\" xlink:actuate=\"onRequest\" xlink:href=\"psysml:b4043d48-e2a3-4796-9568-6bbff931ebfd\" xlink:show=\"new\" xlink:title=\"psysml:b4043d48-e2a3-4796-9568-6bbff931ebfd\" xlink:type=\"simple\"><polygon fill=\"#FFFFFF\" points=\"268,49,319,49,326,71.2969,419,71.2969,419,146,268,146,268,49\" style=\"stroke: #000000; stroke-width: 1.5;\"/><line style=\"stroke: #000000; stroke-width: 1.5;\" x1=\"268\" x2=\"326\" y1=\"71.2969\" y2=\"71.2969\"/><text fill=\"#000000\" font-family=\"sans-serif\" font-size=\"14\" font-weight=\"bold\" lengthAdjust=\"spacingAndGlyphs\" textLength=\"45\" x=\"272\" y=\"63.9951\">Test1</text></a><!--MD5=[7f149f147074ac12df2cb0a7728a5fb0]\n",
       "cluster E9--><a href=\"psysml:85a9df72-6515-46a6-853d-c4da844a4980\" target=\"_top\" title=\"psysml:85a9df72-6515-46a6-853d-c4da844a4980\" xlink:actuate=\"onRequest\" xlink:href=\"psysml:85a9df72-6515-46a6-853d-c4da844a4980\" xlink:show=\"new\" xlink:title=\"psysml:85a9df72-6515-46a6-853d-c4da844a4980\" xlink:type=\"simple\"><polygon fill=\"#FFFFFF\" points=\"93,49,144,49,151,71.2969,244,71.2969,244,146,93,146,93,49\" style=\"stroke: #000000; stroke-width: 1.5;\"/><line style=\"stroke: #000000; stroke-width: 1.5;\" x1=\"93\" x2=\"151\" y1=\"71.2969\" y2=\"71.2969\"/><text fill=\"#000000\" font-family=\"sans-serif\" font-size=\"14\" font-weight=\"bold\" lengthAdjust=\"spacingAndGlyphs\" textLength=\"45\" x=\"97\" y=\"63.9951\">Test2</text></a><!--MD5=[49a0ec8f00dab7302a31f22d0f0fe584]\n",
       "class E12--><a href=\"psysml:530a6ae9-7dc1-4851-ab10-936e92c948f7\" target=\"_top\" title=\"psysml:530a6ae9-7dc1-4851-ab10-936e92c948f7\" xlink:actuate=\"onRequest\" xlink:href=\"psysml:530a6ae9-7dc1-4851-ab10-936e92c948f7\" xlink:show=\"new\" xlink:title=\"psysml:530a6ae9-7dc1-4851-ab10-936e92c948f7\" xlink:type=\"simple\"><rect fill=\"#FFFFFF\" height=\"45.9375\" id=\"E12\" rx=\"10\" ry=\"10\" style=\"stroke: #383838; stroke-width: 1.5;\" width=\"42\" x=\"438\" y=\"84\"/><text fill=\"#000000\" font-family=\"sans-serif\" font-size=\"12\" font-style=\"italic\" lengthAdjust=\"spacingAndGlyphs\" textLength=\"40\" x=\"439\" y=\"100.1387\">«part»</text><text fill=\"#000000\" font-family=\"sans-serif\" font-size=\"12\" lengthAdjust=\"spacingAndGlyphs\" textLength=\"22\" x=\"448\" y=\"114.1074\">x: A</text><line style=\"stroke: #383838; stroke-width: 1.5;\" x1=\"439\" x2=\"479\" y1=\"121.9375\" y2=\"121.9375\"/></a><!--MD5=[ee3c913d1a06f366521f9ef512b67efe]\n",
       "class E13--><a href=\"psysml:561bfa55-252f-4783-9fb1-458618dbf236\" target=\"_top\" title=\"psysml:561bfa55-252f-4783-9fb1-458618dbf236\" xlink:actuate=\"onRequest\" xlink:href=\"psysml:561bfa55-252f-4783-9fb1-458618dbf236\" xlink:show=\"new\" xlink:title=\"psysml:561bfa55-252f-4783-9fb1-458618dbf236\" xlink:type=\"simple\"><rect fill=\"#FFFFFF\" height=\"45.9375\" id=\"E13\" rx=\"10\" ry=\"10\" style=\"stroke: #383838; stroke-width: 1.5;\" width=\"42\" x=\"32\" y=\"84\"/><text fill=\"#000000\" font-family=\"sans-serif\" font-size=\"12\" font-style=\"italic\" lengthAdjust=\"spacingAndGlyphs\" textLength=\"40\" x=\"33\" y=\"100.1387\">«part»</text><text fill=\"#000000\" font-family=\"sans-serif\" font-size=\"12\" lengthAdjust=\"spacingAndGlyphs\" textLength=\"22\" x=\"42\" y=\"114.1074\">y: B</text><line style=\"stroke: #383838; stroke-width: 1.5;\" x1=\"33\" x2=\"73\" y1=\"121.9375\" y2=\"121.9375\"/></a><!--MD5=[09b614a08d8cba4a07c9adeb5e0fee81]\n",
       "class E3--><a href=\"psysml:cb0f7157-438a-4ad5-8a96-0def6a248a5a\" target=\"_top\" title=\"psysml:cb0f7157-438a-4ad5-8a96-0def6a248a5a\" xlink:actuate=\"onRequest\" xlink:href=\"psysml:cb0f7157-438a-4ad5-8a96-0def6a248a5a\" xlink:show=\"new\" xlink:title=\"psysml:cb0f7157-438a-4ad5-8a96-0def6a248a5a\" xlink:type=\"simple\"><rect fill=\"#FFFFFF\" height=\"45.9375\" id=\"E3\" style=\"stroke: #383838; stroke-width: 1.5;\" width=\"66\" x=\"349\" y=\"205\"/><text fill=\"#000000\" font-family=\"sans-serif\" font-size=\"12\" font-style=\"italic\" lengthAdjust=\"spacingAndGlyphs\" textLength=\"64\" x=\"350\" y=\"221.1387\">«part def»</text><text fill=\"#000000\" font-family=\"sans-serif\" font-size=\"12\" lengthAdjust=\"spacingAndGlyphs\" textLength=\"8\" x=\"378\" y=\"235.1074\">A</text><line style=\"stroke: #383838; stroke-width: 1.5;\" x1=\"350\" x2=\"414\" y1=\"242.9375\" y2=\"242.9375\"/></a><!--MD5=[270fce915f116d4de14055a7c1d9a0f3]\n",
       "class E5--><a href=\"psysml:fa716e5d-1985-44ef-b151-4b2b4c0691ed\" target=\"_top\" title=\"psysml:fa716e5d-1985-44ef-b151-4b2b4c0691ed\" xlink:actuate=\"onRequest\" xlink:href=\"psysml:fa716e5d-1985-44ef-b151-4b2b4c0691ed\" xlink:show=\"new\" xlink:title=\"psysml:fa716e5d-1985-44ef-b151-4b2b4c0691ed\" xlink:type=\"simple\"><rect fill=\"#FFFFFF\" height=\"45.9375\" id=\"E5\" style=\"stroke: #383838; stroke-width: 1.5;\" width=\"66\" x=\"97\" y=\"205\"/><text fill=\"#000000\" font-family=\"sans-serif\" font-size=\"12\" font-style=\"italic\" lengthAdjust=\"spacingAndGlyphs\" textLength=\"64\" x=\"98\" y=\"221.1387\">«part def»</text><text fill=\"#000000\" font-family=\"sans-serif\" font-size=\"12\" lengthAdjust=\"spacingAndGlyphs\" textLength=\"8\" x=\"126\" y=\"235.1074\">B</text><line style=\"stroke: #383838; stroke-width: 1.5;\" x1=\"98\" x2=\"162\" y1=\"242.9375\" y2=\"242.9375\"/></a><!--MD5=[2156ba9850f5573cc1fc38a6a4b2f02b]\n",
       "class E7--><a href=\"psysml:418b0add-8d91-4a6d-810e-c529e1e5d9c2\" target=\"_top\" title=\"psysml:418b0add-8d91-4a6d-810e-c529e1e5d9c2\" xlink:actuate=\"onRequest\" xlink:href=\"psysml:418b0add-8d91-4a6d-810e-c529e1e5d9c2\" xlink:show=\"new\" xlink:title=\"psysml:418b0add-8d91-4a6d-810e-c529e1e5d9c2\" xlink:type=\"simple\"><rect fill=\"#FFFFFF\" height=\"45.9375\" id=\"E7\" rx=\"10\" ry=\"10\" style=\"stroke: #383838; stroke-width: 1.5;\" width=\"42\" x=\"361\" y=\"84\"/><text fill=\"#000000\" font-family=\"sans-serif\" font-size=\"12\" font-style=\"italic\" lengthAdjust=\"spacingAndGlyphs\" textLength=\"40\" x=\"362\" y=\"100.1387\">«part»</text><text fill=\"#000000\" font-family=\"sans-serif\" font-size=\"12\" lengthAdjust=\"spacingAndGlyphs\" textLength=\"22\" x=\"371\" y=\"114.1074\">x: A</text><line style=\"stroke: #383838; stroke-width: 1.5;\" x1=\"362\" x2=\"402\" y1=\"121.9375\" y2=\"121.9375\"/></a><!--MD5=[b9389687b975829384b498ac4b7476b2]\n",
       "class E8--><a href=\"psysml:c18479a8-8a5a-4a0f-a7e4-033b0648dafb\" target=\"_top\" title=\"psysml:c18479a8-8a5a-4a0f-a7e4-033b0648dafb\" xlink:actuate=\"onRequest\" xlink:href=\"psysml:c18479a8-8a5a-4a0f-a7e4-033b0648dafb\" xlink:show=\"new\" xlink:title=\"psysml:c18479a8-8a5a-4a0f-a7e4-033b0648dafb\" xlink:type=\"simple\"><rect fill=\"#FFFFFF\" height=\"45.9375\" id=\"E8\" rx=\"10\" ry=\"10\" style=\"stroke: #383838; stroke-width: 1.5;\" width=\"42\" x=\"284\" y=\"84\"/><text fill=\"#000000\" font-family=\"sans-serif\" font-size=\"12\" font-style=\"italic\" lengthAdjust=\"spacingAndGlyphs\" textLength=\"40\" x=\"285\" y=\"100.1387\">«part»</text><text fill=\"#000000\" font-family=\"sans-serif\" font-size=\"12\" lengthAdjust=\"spacingAndGlyphs\" textLength=\"22\" x=\"294\" y=\"114.1074\">y: B</text><line style=\"stroke: #383838; stroke-width: 1.5;\" x1=\"285\" x2=\"325\" y1=\"121.9375\" y2=\"121.9375\"/></a><!--MD5=[96f4274e9e20536e775497830990834d]\n",
       "class E10--><a href=\"psysml:61feb9d5-4074-478e-84bb-b7eccf03922b\" target=\"_top\" title=\"psysml:61feb9d5-4074-478e-84bb-b7eccf03922b\" xlink:actuate=\"onRequest\" xlink:href=\"psysml:61feb9d5-4074-478e-84bb-b7eccf03922b\" xlink:show=\"new\" xlink:title=\"psysml:61feb9d5-4074-478e-84bb-b7eccf03922b\" xlink:type=\"simple\"><rect fill=\"#FFFFFF\" height=\"45.9375\" id=\"E10\" rx=\"10\" ry=\"10\" style=\"stroke: #383838; stroke-width: 1.5;\" width=\"42\" x=\"186\" y=\"84\"/><text fill=\"#000000\" font-family=\"sans-serif\" font-size=\"12\" font-style=\"italic\" lengthAdjust=\"spacingAndGlyphs\" textLength=\"40\" x=\"187\" y=\"100.1387\">«part»</text><text fill=\"#000000\" font-family=\"sans-serif\" font-size=\"12\" lengthAdjust=\"spacingAndGlyphs\" textLength=\"22\" x=\"196\" y=\"114.1074\">x: A</text><line style=\"stroke: #383838; stroke-width: 1.5;\" x1=\"187\" x2=\"227\" y1=\"121.9375\" y2=\"121.9375\"/></a><!--MD5=[1dd1bfd58a279cf63c5f349dbc8fc6a1]\n",
       "class E11--><a href=\"psysml:2edd355f-e967-45cc-82fe-80091bb729bd\" target=\"_top\" title=\"psysml:2edd355f-e967-45cc-82fe-80091bb729bd\" xlink:actuate=\"onRequest\" xlink:href=\"psysml:2edd355f-e967-45cc-82fe-80091bb729bd\" xlink:show=\"new\" xlink:title=\"psysml:2edd355f-e967-45cc-82fe-80091bb729bd\" xlink:type=\"simple\"><rect fill=\"#FFFFFF\" height=\"45.9375\" id=\"E11\" rx=\"10\" ry=\"10\" style=\"stroke: #383838; stroke-width: 1.5;\" width=\"42\" x=\"109\" y=\"84\"/><text fill=\"#000000\" font-family=\"sans-serif\" font-size=\"12\" font-style=\"italic\" lengthAdjust=\"spacingAndGlyphs\" textLength=\"40\" x=\"110\" y=\"100.1387\">«part»</text><text fill=\"#000000\" font-family=\"sans-serif\" font-size=\"12\" lengthAdjust=\"spacingAndGlyphs\" textLength=\"22\" x=\"119\" y=\"114.1074\">y: B</text><line style=\"stroke: #383838; stroke-width: 1.5;\" x1=\"110\" x2=\"150\" y1=\"121.9375\" y2=\"121.9375\"/></a><!--MD5=[14ccda38c055a5c0da953d572bc50960]\n",
       "link E7 to E3--><a href=\"psysml:c27725e1-02a3-443e-822c-73205e66e264\" target=\"_top\" title=\"psysml:c27725e1-02a3-443e-822c-73205e66e264\" xlink:actuate=\"onRequest\" xlink:href=\"psysml:c27725e1-02a3-443e-822c-73205e66e264\" xlink:show=\"new\" xlink:title=\"psysml:c27725e1-02a3-443e-822c-73205e66e264\" xlink:type=\"simple\"><path d=\"M382,130.04 C382,130.04 382,184.63 382,184.63 \" fill=\"none\" id=\"E7-&gt;E3\" style=\"stroke: #383838; stroke-width: 1.0;\"/><polygon fill=\"#FFFFFF\" points=\"382,204.63,375,185.63,389,185.63,382,204.63\" style=\"stroke: #383838; stroke-width: 1.0;\"/><ellipse cx=\"377\" cy=\"179.93\" fill=\"#383838\" rx=\"2\" ry=\"2\" style=\"stroke: #383838; stroke-width: 1.0;\"/><ellipse cx=\"387\" cy=\"179.93\" fill=\"#383838\" rx=\"2\" ry=\"2\" style=\"stroke: #383838; stroke-width: 1.0;\"/></a><!--MD5=[1ccb2481ffa92f8d51a74ee30c51832a]\n",
       "link E8 to E5--><a href=\"psysml:43ceeb8e-eeaf-4aa9-b958-61b6f980f202\" target=\"_top\" title=\"psysml:43ceeb8e-eeaf-4aa9-b958-61b6f980f202\" xlink:actuate=\"onRequest\" xlink:href=\"psysml:43ceeb8e-eeaf-4aa9-b958-61b6f980f202\" xlink:show=\"new\" xlink:title=\"psysml:43ceeb8e-eeaf-4aa9-b958-61b6f980f202\" xlink:type=\"simple\"><path d=\"M305,130.06 C305,167.17 305,236 305,236 C305,236 183.33,236 183.33,236 \" fill=\"none\" id=\"E8-&gt;E5\" style=\"stroke: #383838; stroke-width: 1.0;\"/><polygon fill=\"#FFFFFF\" points=\"163.33,236,182.33,229,182.33,243,163.33,236\" style=\"stroke: #383838; stroke-width: 1.0;\"/><ellipse cx=\"188.03\" cy=\"231\" fill=\"#383838\" rx=\"2\" ry=\"2\" style=\"stroke: #383838; stroke-width: 1.0;\"/><ellipse cx=\"188.03\" cy=\"241\" fill=\"#383838\" rx=\"2\" ry=\"2\" style=\"stroke: #383838; stroke-width: 1.0;\"/></a><!--MD5=[feeac5eb423634930294aa81f2d25a4c]\n",
       "link E10 to E3--><a href=\"psysml:2f015e6c-7efc-43fd-92bb-26e8cb5e6a22\" target=\"_top\" title=\"psysml:2f015e6c-7efc-43fd-92bb-26e8cb5e6a22\" xlink:actuate=\"onRequest\" xlink:href=\"psysml:2f015e6c-7efc-43fd-92bb-26e8cb5e6a22\" xlink:show=\"new\" xlink:title=\"psysml:2f015e6c-7efc-43fd-92bb-26e8cb5e6a22\" xlink:type=\"simple\"><path d=\"M207,130.07 C207,163.38 207,221 207,221 C207,221 328.67,221 328.67,221 \" fill=\"none\" id=\"E10-&gt;E3\" style=\"stroke: #383838; stroke-width: 1.0;\"/><polygon fill=\"#FFFFFF\" points=\"348.67,221,329.67,228,329.67,214,348.67,221\" style=\"stroke: #383838; stroke-width: 1.0;\"/><ellipse cx=\"323.97\" cy=\"226\" fill=\"#383838\" rx=\"2\" ry=\"2\" style=\"stroke: #383838; stroke-width: 1.0;\"/><ellipse cx=\"323.97\" cy=\"216\" fill=\"#383838\" rx=\"2\" ry=\"2\" style=\"stroke: #383838; stroke-width: 1.0;\"/></a><!--MD5=[07b77f6f309248d16187045709d1c26e]\n",
       "link E11 to E5--><a href=\"psysml:7cf9fed8-155f-433e-a01b-9d13c54aa089\" target=\"_top\" title=\"psysml:7cf9fed8-155f-433e-a01b-9d13c54aa089\" xlink:actuate=\"onRequest\" xlink:href=\"psysml:7cf9fed8-155f-433e-a01b-9d13c54aa089\" xlink:show=\"new\" xlink:title=\"psysml:7cf9fed8-155f-433e-a01b-9d13c54aa089\" xlink:type=\"simple\"><path d=\"M130,130.04 C130,130.04 130,184.63 130,184.63 \" fill=\"none\" id=\"E11-&gt;E5\" style=\"stroke: #383838; stroke-width: 1.0;\"/><polygon fill=\"#FFFFFF\" points=\"130,204.63,123,185.63,137,185.63,130,204.63\" style=\"stroke: #383838; stroke-width: 1.0;\"/><ellipse cx=\"125\" cy=\"179.93\" fill=\"#383838\" rx=\"2\" ry=\"2\" style=\"stroke: #383838; stroke-width: 1.0;\"/><ellipse cx=\"135\" cy=\"179.93\" fill=\"#383838\" rx=\"2\" ry=\"2\" style=\"stroke: #383838; stroke-width: 1.0;\"/></a><!--MD5=[39f41a0e550fb3d73b4d8135617e30a2]\n",
       "link E12 to E3--><a href=\"psysml:2b9be10b-590f-4358-bedf-a86ab0ed6bce\" target=\"_top\" title=\"psysml:2b9be10b-590f-4358-bedf-a86ab0ed6bce\" xlink:actuate=\"onRequest\" xlink:href=\"psysml:2b9be10b-590f-4358-bedf-a86ab0ed6bce\" xlink:show=\"new\" xlink:title=\"psysml:2b9be10b-590f-4358-bedf-a86ab0ed6bce\" xlink:type=\"simple\"><path d=\"M437.8,107 C424.17,107 409,107 409,107 C409,107 409,184.96 409,184.96 \" fill=\"none\" id=\"E12-&gt;E3\" style=\"stroke: #383838; stroke-width: 1.0;\"/><polygon fill=\"#FFFFFF\" points=\"409,204.96,402,185.96,416,185.96,409,204.96\" style=\"stroke: #383838; stroke-width: 1.0;\"/><ellipse cx=\"404\" cy=\"180.26\" fill=\"#383838\" rx=\"2\" ry=\"2\" style=\"stroke: #383838; stroke-width: 1.0;\"/><ellipse cx=\"414\" cy=\"180.26\" fill=\"#383838\" rx=\"2\" ry=\"2\" style=\"stroke: #383838; stroke-width: 1.0;\"/></a><!--MD5=[066b2d8af59fea80ccdb3d54ad5c1091]\n",
       "link E13 to E5--><a href=\"psysml:78896435-f936-4df6-9172-2ff6f9da23d9\" target=\"_top\" title=\"psysml:78896435-f936-4df6-9172-2ff6f9da23d9\" xlink:actuate=\"onRequest\" xlink:href=\"psysml:78896435-f936-4df6-9172-2ff6f9da23d9\" xlink:show=\"new\" xlink:title=\"psysml:78896435-f936-4df6-9172-2ff6f9da23d9\" xlink:type=\"simple\"><path d=\"M74.2,107 C87.83,107 103,107 103,107 C103,107 103,184.96 103,184.96 \" fill=\"none\" id=\"E13-&gt;E5\" style=\"stroke: #383838; stroke-width: 1.0;\"/><polygon fill=\"#FFFFFF\" points=\"103,204.96,96,185.96,110,185.96,103,204.96\" style=\"stroke: #383838; stroke-width: 1.0;\"/><ellipse cx=\"98\" cy=\"180.26\" fill=\"#383838\" rx=\"2\" ry=\"2\" style=\"stroke: #383838; stroke-width: 1.0;\"/><ellipse cx=\"108\" cy=\"180.26\" fill=\"#383838\" rx=\"2\" ry=\"2\" style=\"stroke: #383838; stroke-width: 1.0;\"/></a><!--MD5=[4d10f1042f4add445b6fa8009f43117f]\n",
       "@startuml\r\n",
       "skinparam linetype ortho\r\n",
       "skinparam monochrome true\r\n",
       "skinparam classbackgroundcolor white\r\n",
       "skinparam shadowing false\r\n",
       "skinparam wrapWidth 300\r\n",
       "hide circle\r\n",
       "\r\n",
       "package \"CircularImport\" as E1  [[psysml:33738fcf-e3ee-4a7e-98d6-e975d5107ba1 ]]  {\r\n",
       "package \"P1\" as E2  [[psysml:130ef6c7-3ccc-43b9-a62a-eb926cce14a9 ]]  {\r\n",
       "comp def \"A\" as E3  <<(T,blue) part def>> [[psysml:cb0f7157-438a-4ad5-8a96-0def6a248a5a ]] {\r\n",
       "}\r\n",
       "}\r\n",
       "package \"P2\" as E4  [[psysml:0bc4dbd6-620a-45b9-8d32-94753792e496 ]]  {\r\n",
       "comp def \"B\" as E5  <<(T,blue) part def>> [[psysml:fa716e5d-1985-44ef-b151-4b2b4c0691ed ]] {\r\n",
       "}\r\n",
       "}\r\n",
       "package \"Test1\" as E6  [[psysml:b4043d48-e2a3-4796-9568-6bbff931ebfd ]]  {\r\n",
       "comp usage \"x: A\" as E7  <<(T,blue) part>> [[psysml:418b0add-8d91-4a6d-810e-c529e1e5d9c2 ]] {\r\n",
       "}\r\n",
       "comp usage \"y: B\" as E8  <<(T,blue) part>> [[psysml:c18479a8-8a5a-4a0f-a7e4-033b0648dafb ]] {\r\n",
       "}\r\n",
       "E7 - -:|> E3 [[psysml:c27725e1-02a3-443e-822c-73205e66e264 ]] \r\n",
       "E8 - -:|> E5 [[psysml:43ceeb8e-eeaf-4aa9-b958-61b6f980f202 ]] \r\n",
       "}\r\n",
       "package \"Test2\" as E9  [[psysml:85a9df72-6515-46a6-853d-c4da844a4980 ]]  {\r\n",
       "comp usage \"x: A\" as E10  <<(T,blue) part>> [[psysml:61feb9d5-4074-478e-84bb-b7eccf03922b ]] {\r\n",
       "}\r\n",
       "comp usage \"y: B\" as E11  <<(T,blue) part>> [[psysml:2edd355f-e967-45cc-82fe-80091bb729bd ]] {\r\n",
       "}\r\n",
       "E10 - -:|> E3 [[psysml:2f015e6c-7efc-43fd-92bb-26e8cb5e6a22 ]] \r\n",
       "E11 - -:|> E5 [[psysml:7cf9fed8-155f-433e-a01b-9d13c54aa089 ]] \r\n",
       "}\r\n",
       "comp usage \"x: A\" as E12  <<(T,blue) part>> [[psysml:530a6ae9-7dc1-4851-ab10-936e92c948f7 ]] {\r\n",
       "}\r\n",
       "comp usage \"y: B\" as E13  <<(T,blue) part>> [[psysml:561bfa55-252f-4783-9fb1-458618dbf236 ]] {\r\n",
       "}\r\n",
       "E12 - -:|> E3 [[psysml:2b9be10b-590f-4358-bedf-a86ab0ed6bce ]] \r\n",
       "E13 - -:|> E5 [[psysml:78896435-f936-4df6-9172-2ff6f9da23d9 ]] \r\n",
       "}\r\n",
       "@enduml\r\n",
       "\n",
       "PlantUML version 1.2020.13(Sat Jun 13 12:26:38 UTC 2020)\n",
       "(EPL source distribution)\n",
       "Java Runtime: OpenJDK Runtime Environment\n",
       "JVM: OpenJDK 64-Bit Server VM\n",
       "Default Encoding: UTF-8\n",
       "Language: en\n",
       "Country: null\n",
       "--></g></svg>"
      ]
     },
     "execution_count": 56,
     "metadata": {},
     "output_type": "execute_result"
    }
   ],
   "source": [
    "%viz --style=\"ORTHOLINE\" --view=\"Sequence\" \"CircularImport\""
   ]
  },
  {
   "cell_type": "code",
   "execution_count": 57,
   "id": "1c666d71",
   "metadata": {
    "execution": {
     "iopub.execute_input": "2021-06-30T09:15:14.038065Z",
     "iopub.status.busy": "2021-06-30T09:15:14.037527Z",
     "iopub.status.idle": "2021-06-30T09:15:14.091970Z",
     "shell.execute_reply": "2021-06-30T09:15:14.089218Z"
    }
   },
   "outputs": [
    {
     "data": {
      "image/svg+xml": [
       "<?xml version=\"1.0\" encoding=\"UTF-8\" standalone=\"no\"?><svg xmlns=\"http://www.w3.org/2000/svg\" xmlns:xlink=\"http://www.w3.org/1999/xlink\" contentScriptType=\"application/ecmascript\" contentStyleType=\"text/css\" height=\"303px\" preserveAspectRatio=\"none\" style=\"width:518px;height:303px;\" version=\"1.1\" viewBox=\"0 0 518 303\" width=\"518px\" zoomAndPan=\"magnify\"><defs/><g><!--MD5=[fbc87193dbaf4d95561dea2c320d4a47]\n",
       "cluster E1--><a href=\"psysml:33738fcf-e3ee-4a7e-98d6-e975d5107ba1\" target=\"_top\" title=\"psysml:33738fcf-e3ee-4a7e-98d6-e975d5107ba1\" xlink:actuate=\"onRequest\" xlink:href=\"psysml:33738fcf-e3ee-4a7e-98d6-e975d5107ba1\" xlink:show=\"new\" xlink:title=\"psysml:33738fcf-e3ee-4a7e-98d6-e975d5107ba1\" xlink:type=\"simple\"><polygon fill=\"#FFFFFF\" points=\"16,6,134,6,141,28.2969,496,28.2969,496,291,16,291,16,6\" style=\"stroke: #000000; stroke-width: 1.5;\"/><line style=\"stroke: #000000; stroke-width: 1.5;\" x1=\"16\" x2=\"141\" y1=\"28.2969\" y2=\"28.2969\"/><text fill=\"#000000\" font-family=\"sans-serif\" font-size=\"14\" font-weight=\"bold\" lengthAdjust=\"spacingAndGlyphs\" textLength=\"112\" x=\"20\" y=\"20.9951\">CircularImport</text></a><!--MD5=[e4f7fae6ed58524ba242bb0b0d3be6b7]\n",
       "cluster E2--><a href=\"psysml:130ef6c7-3ccc-43b9-a62a-eb926cce14a9\" target=\"_top\" title=\"psysml:130ef6c7-3ccc-43b9-a62a-eb926cce14a9\" xlink:actuate=\"onRequest\" xlink:href=\"psysml:130ef6c7-3ccc-43b9-a62a-eb926cce14a9\" xlink:show=\"new\" xlink:title=\"psysml:130ef6c7-3ccc-43b9-a62a-eb926cce14a9\" xlink:type=\"simple\"><polygon fill=\"#FFFFFF\" points=\"333,170,359,170,366,192.2969,431,192.2969,431,267,333,267,333,170\" style=\"stroke: #000000; stroke-width: 1.5;\"/><line style=\"stroke: #000000; stroke-width: 1.5;\" x1=\"333\" x2=\"366\" y1=\"192.2969\" y2=\"192.2969\"/><text fill=\"#000000\" font-family=\"sans-serif\" font-size=\"14\" font-weight=\"bold\" lengthAdjust=\"spacingAndGlyphs\" textLength=\"20\" x=\"337\" y=\"184.9951\">P1</text></a><!--MD5=[f6df4d0ebaf0b5dfb2ced0ae5af7c670]\n",
       "cluster E4--><a href=\"psysml:0bc4dbd6-620a-45b9-8d32-94753792e496\" target=\"_top\" title=\"psysml:0bc4dbd6-620a-45b9-8d32-94753792e496\" xlink:actuate=\"onRequest\" xlink:href=\"psysml:0bc4dbd6-620a-45b9-8d32-94753792e496\" xlink:show=\"new\" xlink:title=\"psysml:0bc4dbd6-620a-45b9-8d32-94753792e496\" xlink:type=\"simple\"><polygon fill=\"#FFFFFF\" points=\"81,170,107,170,114,192.2969,179,192.2969,179,267,81,267,81,170\" style=\"stroke: #000000; stroke-width: 1.5;\"/><line style=\"stroke: #000000; stroke-width: 1.5;\" x1=\"81\" x2=\"114\" y1=\"192.2969\" y2=\"192.2969\"/><text fill=\"#000000\" font-family=\"sans-serif\" font-size=\"14\" font-weight=\"bold\" lengthAdjust=\"spacingAndGlyphs\" textLength=\"20\" x=\"85\" y=\"184.9951\">P2</text></a><!--MD5=[14e3b0961a2654348d326746436168a1]\n",
       "cluster E6--><a href=\"psysml:b4043d48-e2a3-4796-9568-6bbff931ebfd\" target=\"_top\" title=\"psysml:b4043d48-e2a3-4796-9568-6bbff931ebfd\" xlink:actuate=\"onRequest\" xlink:href=\"psysml:b4043d48-e2a3-4796-9568-6bbff931ebfd\" xlink:show=\"new\" xlink:title=\"psysml:b4043d48-e2a3-4796-9568-6bbff931ebfd\" xlink:type=\"simple\"><polygon fill=\"#FFFFFF\" points=\"268,49,319,49,326,71.2969,419,71.2969,419,146,268,146,268,49\" style=\"stroke: #000000; stroke-width: 1.5;\"/><line style=\"stroke: #000000; stroke-width: 1.5;\" x1=\"268\" x2=\"326\" y1=\"71.2969\" y2=\"71.2969\"/><text fill=\"#000000\" font-family=\"sans-serif\" font-size=\"14\" font-weight=\"bold\" lengthAdjust=\"spacingAndGlyphs\" textLength=\"45\" x=\"272\" y=\"63.9951\">Test1</text></a><!--MD5=[7f149f147074ac12df2cb0a7728a5fb0]\n",
       "cluster E9--><a href=\"psysml:85a9df72-6515-46a6-853d-c4da844a4980\" target=\"_top\" title=\"psysml:85a9df72-6515-46a6-853d-c4da844a4980\" xlink:actuate=\"onRequest\" xlink:href=\"psysml:85a9df72-6515-46a6-853d-c4da844a4980\" xlink:show=\"new\" xlink:title=\"psysml:85a9df72-6515-46a6-853d-c4da844a4980\" xlink:type=\"simple\"><polygon fill=\"#FFFFFF\" points=\"93,49,144,49,151,71.2969,244,71.2969,244,146,93,146,93,49\" style=\"stroke: #000000; stroke-width: 1.5;\"/><line style=\"stroke: #000000; stroke-width: 1.5;\" x1=\"93\" x2=\"151\" y1=\"71.2969\" y2=\"71.2969\"/><text fill=\"#000000\" font-family=\"sans-serif\" font-size=\"14\" font-weight=\"bold\" lengthAdjust=\"spacingAndGlyphs\" textLength=\"45\" x=\"97\" y=\"63.9951\">Test2</text></a><!--MD5=[49a0ec8f00dab7302a31f22d0f0fe584]\n",
       "class E12--><a href=\"psysml:530a6ae9-7dc1-4851-ab10-936e92c948f7\" target=\"_top\" title=\"psysml:530a6ae9-7dc1-4851-ab10-936e92c948f7\" xlink:actuate=\"onRequest\" xlink:href=\"psysml:530a6ae9-7dc1-4851-ab10-936e92c948f7\" xlink:show=\"new\" xlink:title=\"psysml:530a6ae9-7dc1-4851-ab10-936e92c948f7\" xlink:type=\"simple\"><rect fill=\"#FFFFFF\" height=\"45.9375\" id=\"E12\" rx=\"10\" ry=\"10\" style=\"stroke: #383838; stroke-width: 1.5;\" width=\"42\" x=\"438\" y=\"84\"/><text fill=\"#000000\" font-family=\"sans-serif\" font-size=\"12\" font-style=\"italic\" lengthAdjust=\"spacingAndGlyphs\" textLength=\"40\" x=\"439\" y=\"100.1387\">«part»</text><text fill=\"#000000\" font-family=\"sans-serif\" font-size=\"12\" lengthAdjust=\"spacingAndGlyphs\" textLength=\"22\" x=\"448\" y=\"114.1074\">x: A</text><line style=\"stroke: #383838; stroke-width: 1.5;\" x1=\"439\" x2=\"479\" y1=\"121.9375\" y2=\"121.9375\"/></a><!--MD5=[ee3c913d1a06f366521f9ef512b67efe]\n",
       "class E13--><a href=\"psysml:561bfa55-252f-4783-9fb1-458618dbf236\" target=\"_top\" title=\"psysml:561bfa55-252f-4783-9fb1-458618dbf236\" xlink:actuate=\"onRequest\" xlink:href=\"psysml:561bfa55-252f-4783-9fb1-458618dbf236\" xlink:show=\"new\" xlink:title=\"psysml:561bfa55-252f-4783-9fb1-458618dbf236\" xlink:type=\"simple\"><rect fill=\"#FFFFFF\" height=\"45.9375\" id=\"E13\" rx=\"10\" ry=\"10\" style=\"stroke: #383838; stroke-width: 1.5;\" width=\"42\" x=\"32\" y=\"84\"/><text fill=\"#000000\" font-family=\"sans-serif\" font-size=\"12\" font-style=\"italic\" lengthAdjust=\"spacingAndGlyphs\" textLength=\"40\" x=\"33\" y=\"100.1387\">«part»</text><text fill=\"#000000\" font-family=\"sans-serif\" font-size=\"12\" lengthAdjust=\"spacingAndGlyphs\" textLength=\"22\" x=\"42\" y=\"114.1074\">y: B</text><line style=\"stroke: #383838; stroke-width: 1.5;\" x1=\"33\" x2=\"73\" y1=\"121.9375\" y2=\"121.9375\"/></a><!--MD5=[09b614a08d8cba4a07c9adeb5e0fee81]\n",
       "class E3--><a href=\"psysml:cb0f7157-438a-4ad5-8a96-0def6a248a5a\" target=\"_top\" title=\"psysml:cb0f7157-438a-4ad5-8a96-0def6a248a5a\" xlink:actuate=\"onRequest\" xlink:href=\"psysml:cb0f7157-438a-4ad5-8a96-0def6a248a5a\" xlink:show=\"new\" xlink:title=\"psysml:cb0f7157-438a-4ad5-8a96-0def6a248a5a\" xlink:type=\"simple\"><rect fill=\"#FFFFFF\" height=\"45.9375\" id=\"E3\" style=\"stroke: #383838; stroke-width: 1.5;\" width=\"66\" x=\"349\" y=\"205\"/><text fill=\"#000000\" font-family=\"sans-serif\" font-size=\"12\" font-style=\"italic\" lengthAdjust=\"spacingAndGlyphs\" textLength=\"64\" x=\"350\" y=\"221.1387\">«part def»</text><text fill=\"#000000\" font-family=\"sans-serif\" font-size=\"12\" lengthAdjust=\"spacingAndGlyphs\" textLength=\"8\" x=\"378\" y=\"235.1074\">A</text><line style=\"stroke: #383838; stroke-width: 1.5;\" x1=\"350\" x2=\"414\" y1=\"242.9375\" y2=\"242.9375\"/></a><!--MD5=[270fce915f116d4de14055a7c1d9a0f3]\n",
       "class E5--><a href=\"psysml:fa716e5d-1985-44ef-b151-4b2b4c0691ed\" target=\"_top\" title=\"psysml:fa716e5d-1985-44ef-b151-4b2b4c0691ed\" xlink:actuate=\"onRequest\" xlink:href=\"psysml:fa716e5d-1985-44ef-b151-4b2b4c0691ed\" xlink:show=\"new\" xlink:title=\"psysml:fa716e5d-1985-44ef-b151-4b2b4c0691ed\" xlink:type=\"simple\"><rect fill=\"#FFFFFF\" height=\"45.9375\" id=\"E5\" style=\"stroke: #383838; stroke-width: 1.5;\" width=\"66\" x=\"97\" y=\"205\"/><text fill=\"#000000\" font-family=\"sans-serif\" font-size=\"12\" font-style=\"italic\" lengthAdjust=\"spacingAndGlyphs\" textLength=\"64\" x=\"98\" y=\"221.1387\">«part def»</text><text fill=\"#000000\" font-family=\"sans-serif\" font-size=\"12\" lengthAdjust=\"spacingAndGlyphs\" textLength=\"8\" x=\"126\" y=\"235.1074\">B</text><line style=\"stroke: #383838; stroke-width: 1.5;\" x1=\"98\" x2=\"162\" y1=\"242.9375\" y2=\"242.9375\"/></a><!--MD5=[2156ba9850f5573cc1fc38a6a4b2f02b]\n",
       "class E7--><a href=\"psysml:418b0add-8d91-4a6d-810e-c529e1e5d9c2\" target=\"_top\" title=\"psysml:418b0add-8d91-4a6d-810e-c529e1e5d9c2\" xlink:actuate=\"onRequest\" xlink:href=\"psysml:418b0add-8d91-4a6d-810e-c529e1e5d9c2\" xlink:show=\"new\" xlink:title=\"psysml:418b0add-8d91-4a6d-810e-c529e1e5d9c2\" xlink:type=\"simple\"><rect fill=\"#FFFFFF\" height=\"45.9375\" id=\"E7\" rx=\"10\" ry=\"10\" style=\"stroke: #383838; stroke-width: 1.5;\" width=\"42\" x=\"361\" y=\"84\"/><text fill=\"#000000\" font-family=\"sans-serif\" font-size=\"12\" font-style=\"italic\" lengthAdjust=\"spacingAndGlyphs\" textLength=\"40\" x=\"362\" y=\"100.1387\">«part»</text><text fill=\"#000000\" font-family=\"sans-serif\" font-size=\"12\" lengthAdjust=\"spacingAndGlyphs\" textLength=\"22\" x=\"371\" y=\"114.1074\">x: A</text><line style=\"stroke: #383838; stroke-width: 1.5;\" x1=\"362\" x2=\"402\" y1=\"121.9375\" y2=\"121.9375\"/></a><!--MD5=[b9389687b975829384b498ac4b7476b2]\n",
       "class E8--><a href=\"psysml:c18479a8-8a5a-4a0f-a7e4-033b0648dafb\" target=\"_top\" title=\"psysml:c18479a8-8a5a-4a0f-a7e4-033b0648dafb\" xlink:actuate=\"onRequest\" xlink:href=\"psysml:c18479a8-8a5a-4a0f-a7e4-033b0648dafb\" xlink:show=\"new\" xlink:title=\"psysml:c18479a8-8a5a-4a0f-a7e4-033b0648dafb\" xlink:type=\"simple\"><rect fill=\"#FFFFFF\" height=\"45.9375\" id=\"E8\" rx=\"10\" ry=\"10\" style=\"stroke: #383838; stroke-width: 1.5;\" width=\"42\" x=\"284\" y=\"84\"/><text fill=\"#000000\" font-family=\"sans-serif\" font-size=\"12\" font-style=\"italic\" lengthAdjust=\"spacingAndGlyphs\" textLength=\"40\" x=\"285\" y=\"100.1387\">«part»</text><text fill=\"#000000\" font-family=\"sans-serif\" font-size=\"12\" lengthAdjust=\"spacingAndGlyphs\" textLength=\"22\" x=\"294\" y=\"114.1074\">y: B</text><line style=\"stroke: #383838; stroke-width: 1.5;\" x1=\"285\" x2=\"325\" y1=\"121.9375\" y2=\"121.9375\"/></a><!--MD5=[96f4274e9e20536e775497830990834d]\n",
       "class E10--><a href=\"psysml:61feb9d5-4074-478e-84bb-b7eccf03922b\" target=\"_top\" title=\"psysml:61feb9d5-4074-478e-84bb-b7eccf03922b\" xlink:actuate=\"onRequest\" xlink:href=\"psysml:61feb9d5-4074-478e-84bb-b7eccf03922b\" xlink:show=\"new\" xlink:title=\"psysml:61feb9d5-4074-478e-84bb-b7eccf03922b\" xlink:type=\"simple\"><rect fill=\"#FFFFFF\" height=\"45.9375\" id=\"E10\" rx=\"10\" ry=\"10\" style=\"stroke: #383838; stroke-width: 1.5;\" width=\"42\" x=\"186\" y=\"84\"/><text fill=\"#000000\" font-family=\"sans-serif\" font-size=\"12\" font-style=\"italic\" lengthAdjust=\"spacingAndGlyphs\" textLength=\"40\" x=\"187\" y=\"100.1387\">«part»</text><text fill=\"#000000\" font-family=\"sans-serif\" font-size=\"12\" lengthAdjust=\"spacingAndGlyphs\" textLength=\"22\" x=\"196\" y=\"114.1074\">x: A</text><line style=\"stroke: #383838; stroke-width: 1.5;\" x1=\"187\" x2=\"227\" y1=\"121.9375\" y2=\"121.9375\"/></a><!--MD5=[1dd1bfd58a279cf63c5f349dbc8fc6a1]\n",
       "class E11--><a href=\"psysml:2edd355f-e967-45cc-82fe-80091bb729bd\" target=\"_top\" title=\"psysml:2edd355f-e967-45cc-82fe-80091bb729bd\" xlink:actuate=\"onRequest\" xlink:href=\"psysml:2edd355f-e967-45cc-82fe-80091bb729bd\" xlink:show=\"new\" xlink:title=\"psysml:2edd355f-e967-45cc-82fe-80091bb729bd\" xlink:type=\"simple\"><rect fill=\"#FFFFFF\" height=\"45.9375\" id=\"E11\" rx=\"10\" ry=\"10\" style=\"stroke: #383838; stroke-width: 1.5;\" width=\"42\" x=\"109\" y=\"84\"/><text fill=\"#000000\" font-family=\"sans-serif\" font-size=\"12\" font-style=\"italic\" lengthAdjust=\"spacingAndGlyphs\" textLength=\"40\" x=\"110\" y=\"100.1387\">«part»</text><text fill=\"#000000\" font-family=\"sans-serif\" font-size=\"12\" lengthAdjust=\"spacingAndGlyphs\" textLength=\"22\" x=\"119\" y=\"114.1074\">y: B</text><line style=\"stroke: #383838; stroke-width: 1.5;\" x1=\"110\" x2=\"150\" y1=\"121.9375\" y2=\"121.9375\"/></a><!--MD5=[14ccda38c055a5c0da953d572bc50960]\n",
       "link E7 to E3--><a href=\"psysml:c27725e1-02a3-443e-822c-73205e66e264\" target=\"_top\" title=\"psysml:c27725e1-02a3-443e-822c-73205e66e264\" xlink:actuate=\"onRequest\" xlink:href=\"psysml:c27725e1-02a3-443e-822c-73205e66e264\" xlink:show=\"new\" xlink:title=\"psysml:c27725e1-02a3-443e-822c-73205e66e264\" xlink:type=\"simple\"><path d=\"M382,130.04 C382,130.04 382,184.63 382,184.63 \" fill=\"none\" id=\"E7-&gt;E3\" style=\"stroke: #383838; stroke-width: 1.0;\"/><polygon fill=\"#FFFFFF\" points=\"382,204.63,375,185.63,389,185.63,382,204.63\" style=\"stroke: #383838; stroke-width: 1.0;\"/><ellipse cx=\"377\" cy=\"179.93\" fill=\"#383838\" rx=\"2\" ry=\"2\" style=\"stroke: #383838; stroke-width: 1.0;\"/><ellipse cx=\"387\" cy=\"179.93\" fill=\"#383838\" rx=\"2\" ry=\"2\" style=\"stroke: #383838; stroke-width: 1.0;\"/></a><!--MD5=[1ccb2481ffa92f8d51a74ee30c51832a]\n",
       "link E8 to E5--><a href=\"psysml:43ceeb8e-eeaf-4aa9-b958-61b6f980f202\" target=\"_top\" title=\"psysml:43ceeb8e-eeaf-4aa9-b958-61b6f980f202\" xlink:actuate=\"onRequest\" xlink:href=\"psysml:43ceeb8e-eeaf-4aa9-b958-61b6f980f202\" xlink:show=\"new\" xlink:title=\"psysml:43ceeb8e-eeaf-4aa9-b958-61b6f980f202\" xlink:type=\"simple\"><path d=\"M305,130.06 C305,167.17 305,236 305,236 C305,236 183.33,236 183.33,236 \" fill=\"none\" id=\"E8-&gt;E5\" style=\"stroke: #383838; stroke-width: 1.0;\"/><polygon fill=\"#FFFFFF\" points=\"163.33,236,182.33,229,182.33,243,163.33,236\" style=\"stroke: #383838; stroke-width: 1.0;\"/><ellipse cx=\"188.03\" cy=\"231\" fill=\"#383838\" rx=\"2\" ry=\"2\" style=\"stroke: #383838; stroke-width: 1.0;\"/><ellipse cx=\"188.03\" cy=\"241\" fill=\"#383838\" rx=\"2\" ry=\"2\" style=\"stroke: #383838; stroke-width: 1.0;\"/></a><!--MD5=[feeac5eb423634930294aa81f2d25a4c]\n",
       "link E10 to E3--><a href=\"psysml:2f015e6c-7efc-43fd-92bb-26e8cb5e6a22\" target=\"_top\" title=\"psysml:2f015e6c-7efc-43fd-92bb-26e8cb5e6a22\" xlink:actuate=\"onRequest\" xlink:href=\"psysml:2f015e6c-7efc-43fd-92bb-26e8cb5e6a22\" xlink:show=\"new\" xlink:title=\"psysml:2f015e6c-7efc-43fd-92bb-26e8cb5e6a22\" xlink:type=\"simple\"><path d=\"M207,130.07 C207,163.38 207,221 207,221 C207,221 328.67,221 328.67,221 \" fill=\"none\" id=\"E10-&gt;E3\" style=\"stroke: #383838; stroke-width: 1.0;\"/><polygon fill=\"#FFFFFF\" points=\"348.67,221,329.67,228,329.67,214,348.67,221\" style=\"stroke: #383838; stroke-width: 1.0;\"/><ellipse cx=\"323.97\" cy=\"226\" fill=\"#383838\" rx=\"2\" ry=\"2\" style=\"stroke: #383838; stroke-width: 1.0;\"/><ellipse cx=\"323.97\" cy=\"216\" fill=\"#383838\" rx=\"2\" ry=\"2\" style=\"stroke: #383838; stroke-width: 1.0;\"/></a><!--MD5=[07b77f6f309248d16187045709d1c26e]\n",
       "link E11 to E5--><a href=\"psysml:7cf9fed8-155f-433e-a01b-9d13c54aa089\" target=\"_top\" title=\"psysml:7cf9fed8-155f-433e-a01b-9d13c54aa089\" xlink:actuate=\"onRequest\" xlink:href=\"psysml:7cf9fed8-155f-433e-a01b-9d13c54aa089\" xlink:show=\"new\" xlink:title=\"psysml:7cf9fed8-155f-433e-a01b-9d13c54aa089\" xlink:type=\"simple\"><path d=\"M130,130.04 C130,130.04 130,184.63 130,184.63 \" fill=\"none\" id=\"E11-&gt;E5\" style=\"stroke: #383838; stroke-width: 1.0;\"/><polygon fill=\"#FFFFFF\" points=\"130,204.63,123,185.63,137,185.63,130,204.63\" style=\"stroke: #383838; stroke-width: 1.0;\"/><ellipse cx=\"125\" cy=\"179.93\" fill=\"#383838\" rx=\"2\" ry=\"2\" style=\"stroke: #383838; stroke-width: 1.0;\"/><ellipse cx=\"135\" cy=\"179.93\" fill=\"#383838\" rx=\"2\" ry=\"2\" style=\"stroke: #383838; stroke-width: 1.0;\"/></a><!--MD5=[39f41a0e550fb3d73b4d8135617e30a2]\n",
       "link E12 to E3--><a href=\"psysml:2b9be10b-590f-4358-bedf-a86ab0ed6bce\" target=\"_top\" title=\"psysml:2b9be10b-590f-4358-bedf-a86ab0ed6bce\" xlink:actuate=\"onRequest\" xlink:href=\"psysml:2b9be10b-590f-4358-bedf-a86ab0ed6bce\" xlink:show=\"new\" xlink:title=\"psysml:2b9be10b-590f-4358-bedf-a86ab0ed6bce\" xlink:type=\"simple\"><path d=\"M437.8,107 C424.17,107 409,107 409,107 C409,107 409,184.96 409,184.96 \" fill=\"none\" id=\"E12-&gt;E3\" style=\"stroke: #383838; stroke-width: 1.0;\"/><polygon fill=\"#FFFFFF\" points=\"409,204.96,402,185.96,416,185.96,409,204.96\" style=\"stroke: #383838; stroke-width: 1.0;\"/><ellipse cx=\"404\" cy=\"180.26\" fill=\"#383838\" rx=\"2\" ry=\"2\" style=\"stroke: #383838; stroke-width: 1.0;\"/><ellipse cx=\"414\" cy=\"180.26\" fill=\"#383838\" rx=\"2\" ry=\"2\" style=\"stroke: #383838; stroke-width: 1.0;\"/></a><!--MD5=[066b2d8af59fea80ccdb3d54ad5c1091]\n",
       "link E13 to E5--><a href=\"psysml:78896435-f936-4df6-9172-2ff6f9da23d9\" target=\"_top\" title=\"psysml:78896435-f936-4df6-9172-2ff6f9da23d9\" xlink:actuate=\"onRequest\" xlink:href=\"psysml:78896435-f936-4df6-9172-2ff6f9da23d9\" xlink:show=\"new\" xlink:title=\"psysml:78896435-f936-4df6-9172-2ff6f9da23d9\" xlink:type=\"simple\"><path d=\"M74.2,107 C87.83,107 103,107 103,107 C103,107 103,184.96 103,184.96 \" fill=\"none\" id=\"E13-&gt;E5\" style=\"stroke: #383838; stroke-width: 1.0;\"/><polygon fill=\"#FFFFFF\" points=\"103,204.96,96,185.96,110,185.96,103,204.96\" style=\"stroke: #383838; stroke-width: 1.0;\"/><ellipse cx=\"98\" cy=\"180.26\" fill=\"#383838\" rx=\"2\" ry=\"2\" style=\"stroke: #383838; stroke-width: 1.0;\"/><ellipse cx=\"108\" cy=\"180.26\" fill=\"#383838\" rx=\"2\" ry=\"2\" style=\"stroke: #383838; stroke-width: 1.0;\"/></a><!--MD5=[4d10f1042f4add445b6fa8009f43117f]\n",
       "@startuml\r\n",
       "skinparam linetype ortho\r\n",
       "skinparam monochrome true\r\n",
       "skinparam classbackgroundcolor white\r\n",
       "skinparam shadowing false\r\n",
       "skinparam wrapWidth 300\r\n",
       "hide circle\r\n",
       "\r\n",
       "package \"CircularImport\" as E1  [[psysml:33738fcf-e3ee-4a7e-98d6-e975d5107ba1 ]]  {\r\n",
       "package \"P1\" as E2  [[psysml:130ef6c7-3ccc-43b9-a62a-eb926cce14a9 ]]  {\r\n",
       "comp def \"A\" as E3  <<(T,blue) part def>> [[psysml:cb0f7157-438a-4ad5-8a96-0def6a248a5a ]] {\r\n",
       "}\r\n",
       "}\r\n",
       "package \"P2\" as E4  [[psysml:0bc4dbd6-620a-45b9-8d32-94753792e496 ]]  {\r\n",
       "comp def \"B\" as E5  <<(T,blue) part def>> [[psysml:fa716e5d-1985-44ef-b151-4b2b4c0691ed ]] {\r\n",
       "}\r\n",
       "}\r\n",
       "package \"Test1\" as E6  [[psysml:b4043d48-e2a3-4796-9568-6bbff931ebfd ]]  {\r\n",
       "comp usage \"x: A\" as E7  <<(T,blue) part>> [[psysml:418b0add-8d91-4a6d-810e-c529e1e5d9c2 ]] {\r\n",
       "}\r\n",
       "comp usage \"y: B\" as E8  <<(T,blue) part>> [[psysml:c18479a8-8a5a-4a0f-a7e4-033b0648dafb ]] {\r\n",
       "}\r\n",
       "E7 - -:|> E3 [[psysml:c27725e1-02a3-443e-822c-73205e66e264 ]] \r\n",
       "E8 - -:|> E5 [[psysml:43ceeb8e-eeaf-4aa9-b958-61b6f980f202 ]] \r\n",
       "}\r\n",
       "package \"Test2\" as E9  [[psysml:85a9df72-6515-46a6-853d-c4da844a4980 ]]  {\r\n",
       "comp usage \"x: A\" as E10  <<(T,blue) part>> [[psysml:61feb9d5-4074-478e-84bb-b7eccf03922b ]] {\r\n",
       "}\r\n",
       "comp usage \"y: B\" as E11  <<(T,blue) part>> [[psysml:2edd355f-e967-45cc-82fe-80091bb729bd ]] {\r\n",
       "}\r\n",
       "E10 - -:|> E3 [[psysml:2f015e6c-7efc-43fd-92bb-26e8cb5e6a22 ]] \r\n",
       "E11 - -:|> E5 [[psysml:7cf9fed8-155f-433e-a01b-9d13c54aa089 ]] \r\n",
       "}\r\n",
       "comp usage \"x: A\" as E12  <<(T,blue) part>> [[psysml:530a6ae9-7dc1-4851-ab10-936e92c948f7 ]] {\r\n",
       "}\r\n",
       "comp usage \"y: B\" as E13  <<(T,blue) part>> [[psysml:561bfa55-252f-4783-9fb1-458618dbf236 ]] {\r\n",
       "}\r\n",
       "E12 - -:|> E3 [[psysml:2b9be10b-590f-4358-bedf-a86ab0ed6bce ]] \r\n",
       "E13 - -:|> E5 [[psysml:78896435-f936-4df6-9172-2ff6f9da23d9 ]] \r\n",
       "}\r\n",
       "@enduml\r\n",
       "\n",
       "PlantUML version 1.2020.13(Sat Jun 13 12:26:38 UTC 2020)\n",
       "(EPL source distribution)\n",
       "Java Runtime: OpenJDK Runtime Environment\n",
       "JVM: OpenJDK 64-Bit Server VM\n",
       "Default Encoding: UTF-8\n",
       "Language: en\n",
       "Country: null\n",
       "--></g></svg>"
      ]
     },
     "execution_count": 57,
     "metadata": {},
     "output_type": "execute_result"
    }
   ],
   "source": [
    "%viz --style=\"ORTHOLINE\" --view=\"MIXED\" \"CircularImport\""
   ]
  }
 ],
 "metadata": {
  "kernelspec": {
   "display_name": "SysML",
   "language": "sysml",
   "name": "sysml"
  },
  "language_info": {
   "codemirror_mode": "sysml",
   "file_extension": ".sysml",
   "mimetype": "text/x-sysml",
   "name": "SysML",
   "pygments_lexer": "java",
   "version": "1.0.0"
  }
 },
 "nbformat": 4,
 "nbformat_minor": 5
}
