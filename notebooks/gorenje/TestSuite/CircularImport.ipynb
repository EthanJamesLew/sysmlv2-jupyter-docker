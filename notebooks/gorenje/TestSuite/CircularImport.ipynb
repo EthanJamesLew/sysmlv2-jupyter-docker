{
 "cells": [
  {
   "cell_type": "markdown",
   "id": "075f7994",
   "metadata": {},
   "source": [
    "# SysML v2 Test Suite\n",
    "\n",
    "This can notebook can be cleared using menu `Edit --> Clear All Outputs` and then all cells can be\n",
    "run using menu `Run --> Run All Cells`.\n",
    "\n",
    "**WARNING**: This file is generated, all modifications here will be ignored.\n"
   ]
  },
  {
   "cell_type": "markdown",
   "id": "4c978a9e",
   "metadata": {},
   "source": [
    "## File: ../../sysml/src/examples/Import Tests/CircularImport.sysml"
   ]
  },
  {
   "cell_type": "code",
   "execution_count": 1,
   "id": "7fbaebad",
   "metadata": {
    "execution": {
     "iopub.execute_input": "2021-12-15T15:15:35.689208Z",
     "iopub.status.busy": "2021-12-15T15:15:35.687972Z",
     "iopub.status.idle": "2021-12-15T15:15:35.797131Z",
     "shell.execute_reply": "2021-12-15T15:15:35.797611Z"
    }
   },
   "outputs": [
    {
     "data": {
      "text/plain": [
       "Package CircularImport (2553c23a-5291-49ab-a317-a1da0e3871cd)\n"
      ]
     },
     "execution_count": 1,
     "metadata": {},
     "output_type": "execute_result"
    }
   ],
   "source": [
    "package CircularImport {\n",
    "\n",
    "\tpackage P1 {\n",
    "\t\timport P2::*;\n",
    "\t\tpart def A;\n",
    "\t}\n",
    "\tpackage P2 {\n",
    "\t\timport P1::*;\n",
    "\t\tpart def B;\n",
    "\t}\n",
    "\tpackage Test1 {\n",
    "\t\timport P1::*;\n",
    "\t\tpart x: A;\n",
    "\t\tpart y: B;\n",
    "\t}\n",
    "\tpackage Test2 {\n",
    "\t\timport P2::*;\n",
    "\t\tpart x: A;\n",
    "\t\tpart y: B;\n",
    "\t}\n",
    "\t\n",
    "\tpart x: P1::A;\n",
    "\t\n",
    "\t// The following should not fail.\n",
    "\tpart y: P1::B;\n",
    "\t\n",
    "}"
   ]
  },
  {
   "cell_type": "code",
   "execution_count": 2,
   "id": "d035a33a",
   "metadata": {
    "execution": {
     "iopub.execute_input": "2021-12-15T15:15:35.847930Z",
     "iopub.status.busy": "2021-12-15T15:15:35.847454Z",
     "iopub.status.idle": "2021-12-15T15:15:36.309032Z",
     "shell.execute_reply": "2021-12-15T15:15:36.305957Z"
    }
   },
   "outputs": [
    {
     "data": {
      "image/svg+xml": [
       "<?xml version=\"1.0\" encoding=\"UTF-8\" standalone=\"no\"?><svg xmlns=\"http://www.w3.org/2000/svg\" xmlns:xlink=\"http://www.w3.org/1999/xlink\" contentScriptType=\"application/ecmascript\" contentStyleType=\"text/css\" height=\"303px\" preserveAspectRatio=\"none\" style=\"width:518px;height:303px;\" version=\"1.1\" viewBox=\"0 0 518 303\" width=\"518px\" zoomAndPan=\"magnify\"><defs/><g><!--MD5=[fbc87193dbaf4d95561dea2c320d4a47]\n",
       "cluster E1--><a href=\"psysml:6d002b47-1de9-4cb8-be5e-1d54cb7fff5c\" target=\"_top\" title=\"psysml:6d002b47-1de9-4cb8-be5e-1d54cb7fff5c\" xlink:actuate=\"onRequest\" xlink:href=\"psysml:6d002b47-1de9-4cb8-be5e-1d54cb7fff5c\" xlink:show=\"new\" xlink:title=\"psysml:6d002b47-1de9-4cb8-be5e-1d54cb7fff5c\" xlink:type=\"simple\"><polygon fill=\"#FFFFFF\" points=\"16,6,117,6,124,28.2969,496,28.2969,496,291,16,291,16,6\" style=\"stroke: #000000; stroke-width: 1.5;\"/><line style=\"stroke: #000000; stroke-width: 1.5;\" x1=\"16\" x2=\"124\" y1=\"28.2969\" y2=\"28.2969\"/><text fill=\"#000000\" font-family=\"sans-serif\" font-size=\"14\" font-weight=\"bold\" lengthAdjust=\"spacingAndGlyphs\" textLength=\"95\" x=\"20\" y=\"20.9951\">CircularImport</text></a><!--MD5=[e4f7fae6ed58524ba242bb0b0d3be6b7]\n",
       "cluster E2--><a href=\"psysml:531dfa6c-428e-410a-a6f8-c5b9ff8ecb34\" target=\"_top\" title=\"psysml:531dfa6c-428e-410a-a6f8-c5b9ff8ecb34\" xlink:actuate=\"onRequest\" xlink:href=\"psysml:531dfa6c-428e-410a-a6f8-c5b9ff8ecb34\" xlink:show=\"new\" xlink:title=\"psysml:531dfa6c-428e-410a-a6f8-c5b9ff8ecb34\" xlink:type=\"simple\"><polygon fill=\"#FFFFFF\" points=\"331,170,355,170,362,192.2969,433,192.2969,433,267,331,267,331,170\" style=\"stroke: #000000; stroke-width: 1.5;\"/><line style=\"stroke: #000000; stroke-width: 1.5;\" x1=\"331\" x2=\"362\" y1=\"192.2969\" y2=\"192.2969\"/><text fill=\"#000000\" font-family=\"sans-serif\" font-size=\"14\" font-weight=\"bold\" lengthAdjust=\"spacingAndGlyphs\" textLength=\"18\" x=\"335\" y=\"184.9951\">P1</text></a><!--MD5=[f6df4d0ebaf0b5dfb2ced0ae5af7c670]\n",
       "cluster E4--><a href=\"psysml:62a929fe-702a-4460-9e53-8584d6f6435e\" target=\"_top\" title=\"psysml:62a929fe-702a-4460-9e53-8584d6f6435e\" xlink:actuate=\"onRequest\" xlink:href=\"psysml:62a929fe-702a-4460-9e53-8584d6f6435e\" xlink:show=\"new\" xlink:title=\"psysml:62a929fe-702a-4460-9e53-8584d6f6435e\" xlink:type=\"simple\"><polygon fill=\"#FFFFFF\" points=\"79,170,103,170,110,192.2969,181,192.2969,181,267,79,267,79,170\" style=\"stroke: #000000; stroke-width: 1.5;\"/><line style=\"stroke: #000000; stroke-width: 1.5;\" x1=\"79\" x2=\"110\" y1=\"192.2969\" y2=\"192.2969\"/><text fill=\"#000000\" font-family=\"sans-serif\" font-size=\"14\" font-weight=\"bold\" lengthAdjust=\"spacingAndGlyphs\" textLength=\"18\" x=\"83\" y=\"184.9951\">P2</text></a><!--MD5=[14e3b0961a2654348d326746436168a1]\n",
       "cluster E6--><a href=\"psysml:0f17a3a9-0805-4d7f-ba6a-07da905c8abf\" target=\"_top\" title=\"psysml:0f17a3a9-0805-4d7f-ba6a-07da905c8abf\" xlink:actuate=\"onRequest\" xlink:href=\"psysml:0f17a3a9-0805-4d7f-ba6a-07da905c8abf\" xlink:show=\"new\" xlink:title=\"psysml:0f17a3a9-0805-4d7f-ba6a-07da905c8abf\" xlink:type=\"simple\"><polygon fill=\"#FFFFFF\" points=\"268,49,314,49,321,71.2969,419,71.2969,419,146,268,146,268,49\" style=\"stroke: #000000; stroke-width: 1.5;\"/><line style=\"stroke: #000000; stroke-width: 1.5;\" x1=\"268\" x2=\"321\" y1=\"71.2969\" y2=\"71.2969\"/><text fill=\"#000000\" font-family=\"sans-serif\" font-size=\"14\" font-weight=\"bold\" lengthAdjust=\"spacingAndGlyphs\" textLength=\"40\" x=\"272\" y=\"63.9951\">Test1</text></a><!--MD5=[7f149f147074ac12df2cb0a7728a5fb0]\n",
       "cluster E9--><a href=\"psysml:a06e7d3b-be80-4318-b479-ae1779c5974b\" target=\"_top\" title=\"psysml:a06e7d3b-be80-4318-b479-ae1779c5974b\" xlink:actuate=\"onRequest\" xlink:href=\"psysml:a06e7d3b-be80-4318-b479-ae1779c5974b\" xlink:show=\"new\" xlink:title=\"psysml:a06e7d3b-be80-4318-b479-ae1779c5974b\" xlink:type=\"simple\"><polygon fill=\"#FFFFFF\" points=\"93,49,139,49,146,71.2969,244,71.2969,244,146,93,146,93,49\" style=\"stroke: #000000; stroke-width: 1.5;\"/><line style=\"stroke: #000000; stroke-width: 1.5;\" x1=\"93\" x2=\"146\" y1=\"71.2969\" y2=\"71.2969\"/><text fill=\"#000000\" font-family=\"sans-serif\" font-size=\"14\" font-weight=\"bold\" lengthAdjust=\"spacingAndGlyphs\" textLength=\"40\" x=\"97\" y=\"63.9951\">Test2</text></a><!--MD5=[49a0ec8f00dab7302a31f22d0f0fe584]\n",
       "class E12--><a href=\"psysml:665d223a-8fea-436a-b414-0efd919424fb\" target=\"_top\" title=\"psysml:665d223a-8fea-436a-b414-0efd919424fb\" xlink:actuate=\"onRequest\" xlink:href=\"psysml:665d223a-8fea-436a-b414-0efd919424fb\" xlink:show=\"new\" xlink:title=\"psysml:665d223a-8fea-436a-b414-0efd919424fb\" xlink:type=\"simple\"><rect fill=\"#FFFFFF\" height=\"45.9375\" id=\"E12\" rx=\"10\" ry=\"10\" style=\"stroke: #383838; stroke-width: 1.5;\" width=\"42\" x=\"438\" y=\"84\"/><text fill=\"#000000\" font-family=\"sans-serif\" font-size=\"12\" font-style=\"italic\" lengthAdjust=\"spacingAndGlyphs\" textLength=\"40\" x=\"439\" y=\"100.1387\">«part»</text><text fill=\"#000000\" font-family=\"sans-serif\" font-size=\"12\" lengthAdjust=\"spacingAndGlyphs\" textLength=\"22\" x=\"446\" y=\"114.1074\">x: A</text><line style=\"stroke: #383838; stroke-width: 1.5;\" x1=\"439\" x2=\"479\" y1=\"121.9375\" y2=\"121.9375\"/></a><!--MD5=[ee3c913d1a06f366521f9ef512b67efe]\n",
       "class E13--><a href=\"psysml:a1b35d80-8992-43c2-aa5d-6937f2901599\" target=\"_top\" title=\"psysml:a1b35d80-8992-43c2-aa5d-6937f2901599\" xlink:actuate=\"onRequest\" xlink:href=\"psysml:a1b35d80-8992-43c2-aa5d-6937f2901599\" xlink:show=\"new\" xlink:title=\"psysml:a1b35d80-8992-43c2-aa5d-6937f2901599\" xlink:type=\"simple\"><rect fill=\"#FFFFFF\" height=\"45.9375\" id=\"E13\" rx=\"10\" ry=\"10\" style=\"stroke: #383838; stroke-width: 1.5;\" width=\"42\" x=\"32\" y=\"84\"/><text fill=\"#000000\" font-family=\"sans-serif\" font-size=\"12\" font-style=\"italic\" lengthAdjust=\"spacingAndGlyphs\" textLength=\"40\" x=\"33\" y=\"100.1387\">«part»</text><text fill=\"#000000\" font-family=\"sans-serif\" font-size=\"12\" lengthAdjust=\"spacingAndGlyphs\" textLength=\"22\" x=\"40\" y=\"114.1074\">y: B</text><line style=\"stroke: #383838; stroke-width: 1.5;\" x1=\"33\" x2=\"73\" y1=\"121.9375\" y2=\"121.9375\"/></a><!--MD5=[09b614a08d8cba4a07c9adeb5e0fee81]\n",
       "class E3--><a href=\"psysml:8ceeee5f-0d5a-4279-aee9-7758649ab8be\" target=\"_top\" title=\"psysml:8ceeee5f-0d5a-4279-aee9-7758649ab8be\" xlink:actuate=\"onRequest\" xlink:href=\"psysml:8ceeee5f-0d5a-4279-aee9-7758649ab8be\" xlink:show=\"new\" xlink:title=\"psysml:8ceeee5f-0d5a-4279-aee9-7758649ab8be\" xlink:type=\"simple\"><rect fill=\"#FFFFFF\" height=\"45.9375\" id=\"E3\" style=\"stroke: #383838; stroke-width: 1.5;\" width=\"70\" x=\"347\" y=\"205\"/><text fill=\"#000000\" font-family=\"sans-serif\" font-size=\"12\" font-style=\"italic\" lengthAdjust=\"spacingAndGlyphs\" textLength=\"68\" x=\"348\" y=\"221.1387\">«part  def»</text><text fill=\"#000000\" font-family=\"sans-serif\" font-size=\"12\" lengthAdjust=\"spacingAndGlyphs\" textLength=\"8\" x=\"378\" y=\"235.1074\">A</text><line style=\"stroke: #383838; stroke-width: 1.5;\" x1=\"348\" x2=\"416\" y1=\"242.9375\" y2=\"242.9375\"/></a><!--MD5=[270fce915f116d4de14055a7c1d9a0f3]\n",
       "class E5--><a href=\"psysml:90844ba8-c1a9-4c46-b7c9-d1a2572e7365\" target=\"_top\" title=\"psysml:90844ba8-c1a9-4c46-b7c9-d1a2572e7365\" xlink:actuate=\"onRequest\" xlink:href=\"psysml:90844ba8-c1a9-4c46-b7c9-d1a2572e7365\" xlink:show=\"new\" xlink:title=\"psysml:90844ba8-c1a9-4c46-b7c9-d1a2572e7365\" xlink:type=\"simple\"><rect fill=\"#FFFFFF\" height=\"45.9375\" id=\"E5\" style=\"stroke: #383838; stroke-width: 1.5;\" width=\"70\" x=\"95\" y=\"205\"/><text fill=\"#000000\" font-family=\"sans-serif\" font-size=\"12\" font-style=\"italic\" lengthAdjust=\"spacingAndGlyphs\" textLength=\"68\" x=\"96\" y=\"221.1387\">«part  def»</text><text fill=\"#000000\" font-family=\"sans-serif\" font-size=\"12\" lengthAdjust=\"spacingAndGlyphs\" textLength=\"8\" x=\"126\" y=\"235.1074\">B</text><line style=\"stroke: #383838; stroke-width: 1.5;\" x1=\"96\" x2=\"164\" y1=\"242.9375\" y2=\"242.9375\"/></a><!--MD5=[2156ba9850f5573cc1fc38a6a4b2f02b]\n",
       "class E7--><a href=\"psysml:9a31b8cb-b3f5-4478-b49b-73e9fd0f6da5\" target=\"_top\" title=\"psysml:9a31b8cb-b3f5-4478-b49b-73e9fd0f6da5\" xlink:actuate=\"onRequest\" xlink:href=\"psysml:9a31b8cb-b3f5-4478-b49b-73e9fd0f6da5\" xlink:show=\"new\" xlink:title=\"psysml:9a31b8cb-b3f5-4478-b49b-73e9fd0f6da5\" xlink:type=\"simple\"><rect fill=\"#FFFFFF\" height=\"45.9375\" id=\"E7\" rx=\"10\" ry=\"10\" style=\"stroke: #383838; stroke-width: 1.5;\" width=\"42\" x=\"361\" y=\"84\"/><text fill=\"#000000\" font-family=\"sans-serif\" font-size=\"12\" font-style=\"italic\" lengthAdjust=\"spacingAndGlyphs\" textLength=\"40\" x=\"362\" y=\"100.1387\">«part»</text><text fill=\"#000000\" font-family=\"sans-serif\" font-size=\"12\" lengthAdjust=\"spacingAndGlyphs\" textLength=\"22\" x=\"369\" y=\"114.1074\">x: A</text><line style=\"stroke: #383838; stroke-width: 1.5;\" x1=\"362\" x2=\"402\" y1=\"121.9375\" y2=\"121.9375\"/></a><!--MD5=[b9389687b975829384b498ac4b7476b2]\n",
       "class E8--><a href=\"psysml:084cb86b-cc59-4a41-8b1c-7b7410cc5029\" target=\"_top\" title=\"psysml:084cb86b-cc59-4a41-8b1c-7b7410cc5029\" xlink:actuate=\"onRequest\" xlink:href=\"psysml:084cb86b-cc59-4a41-8b1c-7b7410cc5029\" xlink:show=\"new\" xlink:title=\"psysml:084cb86b-cc59-4a41-8b1c-7b7410cc5029\" xlink:type=\"simple\"><rect fill=\"#FFFFFF\" height=\"45.9375\" id=\"E8\" rx=\"10\" ry=\"10\" style=\"stroke: #383838; stroke-width: 1.5;\" width=\"42\" x=\"284\" y=\"84\"/><text fill=\"#000000\" font-family=\"sans-serif\" font-size=\"12\" font-style=\"italic\" lengthAdjust=\"spacingAndGlyphs\" textLength=\"40\" x=\"285\" y=\"100.1387\">«part»</text><text fill=\"#000000\" font-family=\"sans-serif\" font-size=\"12\" lengthAdjust=\"spacingAndGlyphs\" textLength=\"22\" x=\"292\" y=\"114.1074\">y: B</text><line style=\"stroke: #383838; stroke-width: 1.5;\" x1=\"285\" x2=\"325\" y1=\"121.9375\" y2=\"121.9375\"/></a><!--MD5=[96f4274e9e20536e775497830990834d]\n",
       "class E10--><a href=\"psysml:377a64d2-1aa6-4a9b-ba95-6aeb6c1d992f\" target=\"_top\" title=\"psysml:377a64d2-1aa6-4a9b-ba95-6aeb6c1d992f\" xlink:actuate=\"onRequest\" xlink:href=\"psysml:377a64d2-1aa6-4a9b-ba95-6aeb6c1d992f\" xlink:show=\"new\" xlink:title=\"psysml:377a64d2-1aa6-4a9b-ba95-6aeb6c1d992f\" xlink:type=\"simple\"><rect fill=\"#FFFFFF\" height=\"45.9375\" id=\"E10\" rx=\"10\" ry=\"10\" style=\"stroke: #383838; stroke-width: 1.5;\" width=\"42\" x=\"186\" y=\"84\"/><text fill=\"#000000\" font-family=\"sans-serif\" font-size=\"12\" font-style=\"italic\" lengthAdjust=\"spacingAndGlyphs\" textLength=\"40\" x=\"187\" y=\"100.1387\">«part»</text><text fill=\"#000000\" font-family=\"sans-serif\" font-size=\"12\" lengthAdjust=\"spacingAndGlyphs\" textLength=\"22\" x=\"194\" y=\"114.1074\">x: A</text><line style=\"stroke: #383838; stroke-width: 1.5;\" x1=\"187\" x2=\"227\" y1=\"121.9375\" y2=\"121.9375\"/></a><!--MD5=[1dd1bfd58a279cf63c5f349dbc8fc6a1]\n",
       "class E11--><a href=\"psysml:7cdd5db6-fbbe-4f9d-b259-3a085be4f068\" target=\"_top\" title=\"psysml:7cdd5db6-fbbe-4f9d-b259-3a085be4f068\" xlink:actuate=\"onRequest\" xlink:href=\"psysml:7cdd5db6-fbbe-4f9d-b259-3a085be4f068\" xlink:show=\"new\" xlink:title=\"psysml:7cdd5db6-fbbe-4f9d-b259-3a085be4f068\" xlink:type=\"simple\"><rect fill=\"#FFFFFF\" height=\"45.9375\" id=\"E11\" rx=\"10\" ry=\"10\" style=\"stroke: #383838; stroke-width: 1.5;\" width=\"42\" x=\"109\" y=\"84\"/><text fill=\"#000000\" font-family=\"sans-serif\" font-size=\"12\" font-style=\"italic\" lengthAdjust=\"spacingAndGlyphs\" textLength=\"40\" x=\"110\" y=\"100.1387\">«part»</text><text fill=\"#000000\" font-family=\"sans-serif\" font-size=\"12\" lengthAdjust=\"spacingAndGlyphs\" textLength=\"22\" x=\"117\" y=\"114.1074\">y: B</text><line style=\"stroke: #383838; stroke-width: 1.5;\" x1=\"110\" x2=\"150\" y1=\"121.9375\" y2=\"121.9375\"/></a><!--MD5=[14ccda38c055a5c0da953d572bc50960]\n",
       "link E7 to E3--><a href=\"psysml:0b2c7bde-3c6f-4711-9ee8-a744dba64aec\" target=\"_top\" title=\"psysml:0b2c7bde-3c6f-4711-9ee8-a744dba64aec\" xlink:actuate=\"onRequest\" xlink:href=\"psysml:0b2c7bde-3c6f-4711-9ee8-a744dba64aec\" xlink:show=\"new\" xlink:title=\"psysml:0b2c7bde-3c6f-4711-9ee8-a744dba64aec\" xlink:type=\"simple\"><path d=\"M382,130.1 C382,145.37 382,166.16 382,184.57 \" fill=\"none\" id=\"E7-&gt;E3\" style=\"stroke: #383838; stroke-width: 1.0;\"/><polygon fill=\"#FFFFFF\" points=\"382,204.61,375,185.61,389,185.61,382,204.61\" style=\"stroke: #383838; stroke-width: 1.0;\"/><ellipse cx=\"377\" cy=\"179.91\" fill=\"#383838\" rx=\"2\" ry=\"2\" style=\"stroke: #383838; stroke-width: 1.0;\"/><ellipse cx=\"387\" cy=\"179.91\" fill=\"#383838\" rx=\"2\" ry=\"2\" style=\"stroke: #383838; stroke-width: 1.0;\"/></a><!--MD5=[1ccb2481ffa92f8d51a74ee30c51832a]\n",
       "link E8 to E5--><a href=\"psysml:16eea2e1-2a1c-45c0-89dc-072c92b0db51\" target=\"_top\" title=\"psysml:16eea2e1-2a1c-45c0-89dc-072c92b0db51\" xlink:actuate=\"onRequest\" xlink:href=\"psysml:16eea2e1-2a1c-45c0-89dc-072c92b0db51\" xlink:show=\"new\" xlink:title=\"psysml:16eea2e1-2a1c-45c0-89dc-072c92b0db51\" xlink:type=\"simple\"><path d=\"M283.84,124.59 C272.23,133.52 257.5,144.61 244,154 C224.13,167.82 201.8,182.34 182.21,194.75 \" fill=\"none\" id=\"E8-&gt;E5\" style=\"stroke: #383838; stroke-width: 1.0;\"/><polygon fill=\"#FFFFFF\" points=\"165.13,205.48,177.4956,189.4459,184.9425,201.301,165.13,205.48\" style=\"stroke: #383838; stroke-width: 1.0;\"/><ellipse cx=\"183.3862\" cy=\"188.1075\" fill=\"#383838\" rx=\"2\" ry=\"2\" style=\"stroke: #383838; stroke-width: 1.0;\"/><ellipse cx=\"188.7054\" cy=\"196.5755\" fill=\"#383838\" rx=\"2\" ry=\"2\" style=\"stroke: #383838; stroke-width: 1.0;\"/></a><!--MD5=[feeac5eb423634930294aa81f2d25a4c]\n",
       "link E10 to E3--><a href=\"psysml:0ac0ff17-b961-483b-88a6-6c34531d2872\" target=\"_top\" title=\"psysml:0ac0ff17-b961-483b-88a6-6c34531d2872\" xlink:actuate=\"onRequest\" xlink:href=\"psysml:0ac0ff17-b961-483b-88a6-6c34531d2872\" xlink:show=\"new\" xlink:title=\"psysml:0ac0ff17-b961-483b-88a6-6c34531d2872\" xlink:type=\"simple\"><path d=\"M228.16,124.59 C239.77,133.52 254.5,144.61 268,154 C287.87,167.82 310.2,182.34 329.79,194.75 \" fill=\"none\" id=\"E10-&gt;E3\" style=\"stroke: #383838; stroke-width: 1.0;\"/><polygon fill=\"#FFFFFF\" points=\"346.87,205.48,327.0575,201.301,334.5044,189.4459,346.87,205.48\" style=\"stroke: #383838; stroke-width: 1.0;\"/><ellipse cx=\"323.2946\" cy=\"196.5755\" fill=\"#383838\" rx=\"2\" ry=\"2\" style=\"stroke: #383838; stroke-width: 1.0;\"/><ellipse cx=\"328.6138\" cy=\"188.1075\" fill=\"#383838\" rx=\"2\" ry=\"2\" style=\"stroke: #383838; stroke-width: 1.0;\"/></a><!--MD5=[07b77f6f309248d16187045709d1c26e]\n",
       "link E11 to E5--><a href=\"psysml:7353245a-aec5-4316-8af8-2852475c4dc4\" target=\"_top\" title=\"psysml:7353245a-aec5-4316-8af8-2852475c4dc4\" xlink:actuate=\"onRequest\" xlink:href=\"psysml:7353245a-aec5-4316-8af8-2852475c4dc4\" xlink:show=\"new\" xlink:title=\"psysml:7353245a-aec5-4316-8af8-2852475c4dc4\" xlink:type=\"simple\"><path d=\"M130,130.1 C130,145.37 130,166.16 130,184.57 \" fill=\"none\" id=\"E11-&gt;E5\" style=\"stroke: #383838; stroke-width: 1.0;\"/><polygon fill=\"#FFFFFF\" points=\"130,204.61,123,185.61,137,185.61,130,204.61\" style=\"stroke: #383838; stroke-width: 1.0;\"/><ellipse cx=\"125\" cy=\"179.91\" fill=\"#383838\" rx=\"2\" ry=\"2\" style=\"stroke: #383838; stroke-width: 1.0;\"/><ellipse cx=\"135\" cy=\"179.91\" fill=\"#383838\" rx=\"2\" ry=\"2\" style=\"stroke: #383838; stroke-width: 1.0;\"/></a><!--MD5=[39f41a0e550fb3d73b4d8135617e30a2]\n",
       "link E12 to E3--><a href=\"psysml:6cc10db6-ba98-48a2-919a-a7b34cb2bdfc\" target=\"_top\" title=\"psysml:6cc10db6-ba98-48a2-919a-a7b34cb2bdfc\" xlink:actuate=\"onRequest\" xlink:href=\"psysml:6cc10db6-ba98-48a2-919a-a7b34cb2bdfc\" xlink:show=\"new\" xlink:title=\"psysml:6cc10db6-ba98-48a2-919a-a7b34cb2bdfc\" xlink:type=\"simple\"><path d=\"M444.7,130.1 C434.28,146.2 419.89,168.44 407.53,187.55 \" fill=\"none\" id=\"E12-&gt;E3\" style=\"stroke: #383838; stroke-width: 1.0;\"/><polygon fill=\"#FFFFFF\" points=\"396.49,204.61,400.9313,184.8546,412.6866,192.4581,396.49,204.61\" style=\"stroke: #383838; stroke-width: 1.0;\"/><ellipse cx=\"405.7063\" cy=\"181.1547\" fill=\"#383838\" rx=\"2\" ry=\"2\" style=\"stroke: #383838; stroke-width: 1.0;\"/><ellipse cx=\"414.103\" cy=\"186.5858\" fill=\"#383838\" rx=\"2\" ry=\"2\" style=\"stroke: #383838; stroke-width: 1.0;\"/></a><!--MD5=[066b2d8af59fea80ccdb3d54ad5c1091]\n",
       "link E13 to E5--><a href=\"psysml:fb180b05-d2cf-42d1-bf2a-01829ad20206\" target=\"_top\" title=\"psysml:fb180b05-d2cf-42d1-bf2a-01829ad20206\" xlink:actuate=\"onRequest\" xlink:href=\"psysml:fb180b05-d2cf-42d1-bf2a-01829ad20206\" xlink:show=\"new\" xlink:title=\"psysml:fb180b05-d2cf-42d1-bf2a-01829ad20206\" xlink:type=\"simple\"><path d=\"M67.3,130.1 C77.72,146.2 92.11,168.44 104.47,187.55 \" fill=\"none\" id=\"E13-&gt;E5\" style=\"stroke: #383838; stroke-width: 1.0;\"/><polygon fill=\"#FFFFFF\" points=\"115.51,204.61,99.3134,192.4581,111.0687,184.8546,115.51,204.61\" style=\"stroke: #383838; stroke-width: 1.0;\"/><ellipse cx=\"97.897\" cy=\"186.5858\" fill=\"#383838\" rx=\"2\" ry=\"2\" style=\"stroke: #383838; stroke-width: 1.0;\"/><ellipse cx=\"106.2937\" cy=\"181.1547\" fill=\"#383838\" rx=\"2\" ry=\"2\" style=\"stroke: #383838; stroke-width: 1.0;\"/></a><!--MD5=[b4b5c19f5fd7d851e75cc07391f43165]\n",
       "@startuml\r\n",
       " skinparam monochrome true\r\n",
       "skinparam classbackgroundcolor white\r\n",
       "skinparam shadowing false\r\n",
       "skinparam wrapWidth 300\r\n",
       "hide circle\r\n",
       "\r\n",
       "package \"CircularImport\" as E1  [[psysml:6d002b47-1de9-4cb8-be5e-1d54cb7fff5c ]]  {\r\n",
       "package \"P1\" as E2  [[psysml:531dfa6c-428e-410a-a6f8-c5b9ff8ecb34 ]]  {\r\n",
       "comp def \"A\" as E3  <<(T,blue) part  def>> [[psysml:8ceeee5f-0d5a-4279-aee9-7758649ab8be ]] {\r\n",
       "}\r\n",
       "}\r\n",
       "package \"P2\" as E4  [[psysml:62a929fe-702a-4460-9e53-8584d6f6435e ]]  {\r\n",
       "comp def \"B\" as E5  <<(T,blue) part  def>> [[psysml:90844ba8-c1a9-4c46-b7c9-d1a2572e7365 ]] {\r\n",
       "}\r\n",
       "}\r\n",
       "package \"Test1\" as E6  [[psysml:0f17a3a9-0805-4d7f-ba6a-07da905c8abf ]]  {\r\n",
       "comp usage \"x: A \" as E7  <<(T,blue) part>> [[psysml:9a31b8cb-b3f5-4478-b49b-73e9fd0f6da5 ]] {\r\n",
       "}\r\n",
       "comp usage \"y: B \" as E8  <<(T,blue) part>> [[psysml:084cb86b-cc59-4a41-8b1c-7b7410cc5029 ]] {\r\n",
       "}\r\n",
       "}\r\n",
       "package \"Test2\" as E9  [[psysml:a06e7d3b-be80-4318-b479-ae1779c5974b ]]  {\r\n",
       "comp usage \"x: A \" as E10  <<(T,blue) part>> [[psysml:377a64d2-1aa6-4a9b-ba95-6aeb6c1d992f ]] {\r\n",
       "}\r\n",
       "comp usage \"y: B \" as E11  <<(T,blue) part>> [[psysml:7cdd5db6-fbbe-4f9d-b259-3a085be4f068 ]] {\r\n",
       "}\r\n",
       "}\r\n",
       "comp usage \"x: A \" as E12  <<(T,blue) part>> [[psysml:665d223a-8fea-436a-b414-0efd919424fb ]] {\r\n",
       "}\r\n",
       "comp usage \"y: B \" as E13  <<(T,blue) part>> [[psysml:a1b35d80-8992-43c2-aa5d-6937f2901599 ]] {\r\n",
       "}\r\n",
       "}\r\n",
       "E7 - -:|> E3 [[psysml:0b2c7bde-3c6f-4711-9ee8-a744dba64aec ]] \r\n",
       "E8 - -:|> E5 [[psysml:16eea2e1-2a1c-45c0-89dc-072c92b0db51 ]] \r\n",
       "E10 - -:|> E3 [[psysml:0ac0ff17-b961-483b-88a6-6c34531d2872 ]] \r\n",
       "E11 - -:|> E5 [[psysml:7353245a-aec5-4316-8af8-2852475c4dc4 ]] \r\n",
       "E12 - -:|> E3 [[psysml:6cc10db6-ba98-48a2-919a-a7b34cb2bdfc ]] \r\n",
       "E13 - -:|> E5 [[psysml:fb180b05-d2cf-42d1-bf2a-01829ad20206 ]] \r\n",
       "@enduml\r\n",
       "\n",
       "PlantUML version 1.2020.13(Sat Jun 13 12:26:38 UTC 2020)\n",
       "(EPL source distribution)\n",
       "Java Runtime: OpenJDK Runtime Environment\n",
       "JVM: OpenJDK 64-Bit Server VM\n",
       "Default Encoding: UTF-8\n",
       "Language: en\n",
       "Country: null\n",
       "--></g></svg>"
      ]
     },
     "execution_count": 2,
     "metadata": {},
     "output_type": "execute_result"
    }
   ],
   "source": [
    "%viz --style=\"COMPTREE\" --view=\"Default\" \"CircularImport\""
   ]
  },
  {
   "cell_type": "code",
   "execution_count": 3,
   "id": "c7a987f6",
   "metadata": {
    "execution": {
     "iopub.execute_input": "2021-12-15T15:15:36.356311Z",
     "iopub.status.busy": "2021-12-15T15:15:36.355849Z",
     "iopub.status.idle": "2021-12-15T15:15:36.425962Z",
     "shell.execute_reply": "2021-12-15T15:15:36.425536Z"
    }
   },
   "outputs": [
    {
     "data": {
      "image/svg+xml": [
       "<?xml version=\"1.0\" encoding=\"UTF-8\" standalone=\"no\"?><svg xmlns=\"http://www.w3.org/2000/svg\" xmlns:xlink=\"http://www.w3.org/1999/xlink\" contentScriptType=\"application/ecmascript\" contentStyleType=\"text/css\" height=\"303px\" preserveAspectRatio=\"none\" style=\"width:518px;height:303px;\" version=\"1.1\" viewBox=\"0 0 518 303\" width=\"518px\" zoomAndPan=\"magnify\"><defs/><g><!--MD5=[fbc87193dbaf4d95561dea2c320d4a47]\n",
       "cluster E1--><a href=\"psysml:6d002b47-1de9-4cb8-be5e-1d54cb7fff5c\" target=\"_top\" title=\"psysml:6d002b47-1de9-4cb8-be5e-1d54cb7fff5c\" xlink:actuate=\"onRequest\" xlink:href=\"psysml:6d002b47-1de9-4cb8-be5e-1d54cb7fff5c\" xlink:show=\"new\" xlink:title=\"psysml:6d002b47-1de9-4cb8-be5e-1d54cb7fff5c\" xlink:type=\"simple\"><polygon fill=\"#FFFFFF\" points=\"16,6,117,6,124,28.2969,496,28.2969,496,291,16,291,16,6\" style=\"stroke: #000000; stroke-width: 1.5;\"/><line style=\"stroke: #000000; stroke-width: 1.5;\" x1=\"16\" x2=\"124\" y1=\"28.2969\" y2=\"28.2969\"/><text fill=\"#000000\" font-family=\"sans-serif\" font-size=\"14\" font-weight=\"bold\" lengthAdjust=\"spacingAndGlyphs\" textLength=\"95\" x=\"20\" y=\"20.9951\">CircularImport</text></a><!--MD5=[e4f7fae6ed58524ba242bb0b0d3be6b7]\n",
       "cluster E2--><a href=\"psysml:531dfa6c-428e-410a-a6f8-c5b9ff8ecb34\" target=\"_top\" title=\"psysml:531dfa6c-428e-410a-a6f8-c5b9ff8ecb34\" xlink:actuate=\"onRequest\" xlink:href=\"psysml:531dfa6c-428e-410a-a6f8-c5b9ff8ecb34\" xlink:show=\"new\" xlink:title=\"psysml:531dfa6c-428e-410a-a6f8-c5b9ff8ecb34\" xlink:type=\"simple\"><polygon fill=\"#FFFFFF\" points=\"331,170,355,170,362,192.2969,433,192.2969,433,267,331,267,331,170\" style=\"stroke: #000000; stroke-width: 1.5;\"/><line style=\"stroke: #000000; stroke-width: 1.5;\" x1=\"331\" x2=\"362\" y1=\"192.2969\" y2=\"192.2969\"/><text fill=\"#000000\" font-family=\"sans-serif\" font-size=\"14\" font-weight=\"bold\" lengthAdjust=\"spacingAndGlyphs\" textLength=\"18\" x=\"335\" y=\"184.9951\">P1</text></a><!--MD5=[f6df4d0ebaf0b5dfb2ced0ae5af7c670]\n",
       "cluster E4--><a href=\"psysml:62a929fe-702a-4460-9e53-8584d6f6435e\" target=\"_top\" title=\"psysml:62a929fe-702a-4460-9e53-8584d6f6435e\" xlink:actuate=\"onRequest\" xlink:href=\"psysml:62a929fe-702a-4460-9e53-8584d6f6435e\" xlink:show=\"new\" xlink:title=\"psysml:62a929fe-702a-4460-9e53-8584d6f6435e\" xlink:type=\"simple\"><polygon fill=\"#FFFFFF\" points=\"79,170,103,170,110,192.2969,181,192.2969,181,267,79,267,79,170\" style=\"stroke: #000000; stroke-width: 1.5;\"/><line style=\"stroke: #000000; stroke-width: 1.5;\" x1=\"79\" x2=\"110\" y1=\"192.2969\" y2=\"192.2969\"/><text fill=\"#000000\" font-family=\"sans-serif\" font-size=\"14\" font-weight=\"bold\" lengthAdjust=\"spacingAndGlyphs\" textLength=\"18\" x=\"83\" y=\"184.9951\">P2</text></a><!--MD5=[14e3b0961a2654348d326746436168a1]\n",
       "cluster E6--><a href=\"psysml:0f17a3a9-0805-4d7f-ba6a-07da905c8abf\" target=\"_top\" title=\"psysml:0f17a3a9-0805-4d7f-ba6a-07da905c8abf\" xlink:actuate=\"onRequest\" xlink:href=\"psysml:0f17a3a9-0805-4d7f-ba6a-07da905c8abf\" xlink:show=\"new\" xlink:title=\"psysml:0f17a3a9-0805-4d7f-ba6a-07da905c8abf\" xlink:type=\"simple\"><polygon fill=\"#FFFFFF\" points=\"268,49,314,49,321,71.2969,419,71.2969,419,146,268,146,268,49\" style=\"stroke: #000000; stroke-width: 1.5;\"/><line style=\"stroke: #000000; stroke-width: 1.5;\" x1=\"268\" x2=\"321\" y1=\"71.2969\" y2=\"71.2969\"/><text fill=\"#000000\" font-family=\"sans-serif\" font-size=\"14\" font-weight=\"bold\" lengthAdjust=\"spacingAndGlyphs\" textLength=\"40\" x=\"272\" y=\"63.9951\">Test1</text></a><!--MD5=[7f149f147074ac12df2cb0a7728a5fb0]\n",
       "cluster E9--><a href=\"psysml:a06e7d3b-be80-4318-b479-ae1779c5974b\" target=\"_top\" title=\"psysml:a06e7d3b-be80-4318-b479-ae1779c5974b\" xlink:actuate=\"onRequest\" xlink:href=\"psysml:a06e7d3b-be80-4318-b479-ae1779c5974b\" xlink:show=\"new\" xlink:title=\"psysml:a06e7d3b-be80-4318-b479-ae1779c5974b\" xlink:type=\"simple\"><polygon fill=\"#FFFFFF\" points=\"93,49,139,49,146,71.2969,244,71.2969,244,146,93,146,93,49\" style=\"stroke: #000000; stroke-width: 1.5;\"/><line style=\"stroke: #000000; stroke-width: 1.5;\" x1=\"93\" x2=\"146\" y1=\"71.2969\" y2=\"71.2969\"/><text fill=\"#000000\" font-family=\"sans-serif\" font-size=\"14\" font-weight=\"bold\" lengthAdjust=\"spacingAndGlyphs\" textLength=\"40\" x=\"97\" y=\"63.9951\">Test2</text></a><!--MD5=[49a0ec8f00dab7302a31f22d0f0fe584]\n",
       "class E12--><a href=\"psysml:665d223a-8fea-436a-b414-0efd919424fb\" target=\"_top\" title=\"psysml:665d223a-8fea-436a-b414-0efd919424fb\" xlink:actuate=\"onRequest\" xlink:href=\"psysml:665d223a-8fea-436a-b414-0efd919424fb\" xlink:show=\"new\" xlink:title=\"psysml:665d223a-8fea-436a-b414-0efd919424fb\" xlink:type=\"simple\"><rect fill=\"#FFFFFF\" height=\"45.9375\" id=\"E12\" rx=\"10\" ry=\"10\" style=\"stroke: #383838; stroke-width: 1.5;\" width=\"42\" x=\"438\" y=\"84\"/><text fill=\"#000000\" font-family=\"sans-serif\" font-size=\"12\" font-style=\"italic\" lengthAdjust=\"spacingAndGlyphs\" textLength=\"40\" x=\"439\" y=\"100.1387\">«part»</text><text fill=\"#000000\" font-family=\"sans-serif\" font-size=\"12\" lengthAdjust=\"spacingAndGlyphs\" textLength=\"22\" x=\"446\" y=\"114.1074\">x: A</text><line style=\"stroke: #383838; stroke-width: 1.5;\" x1=\"439\" x2=\"479\" y1=\"121.9375\" y2=\"121.9375\"/></a><!--MD5=[ee3c913d1a06f366521f9ef512b67efe]\n",
       "class E13--><a href=\"psysml:a1b35d80-8992-43c2-aa5d-6937f2901599\" target=\"_top\" title=\"psysml:a1b35d80-8992-43c2-aa5d-6937f2901599\" xlink:actuate=\"onRequest\" xlink:href=\"psysml:a1b35d80-8992-43c2-aa5d-6937f2901599\" xlink:show=\"new\" xlink:title=\"psysml:a1b35d80-8992-43c2-aa5d-6937f2901599\" xlink:type=\"simple\"><rect fill=\"#FFFFFF\" height=\"45.9375\" id=\"E13\" rx=\"10\" ry=\"10\" style=\"stroke: #383838; stroke-width: 1.5;\" width=\"42\" x=\"32\" y=\"84\"/><text fill=\"#000000\" font-family=\"sans-serif\" font-size=\"12\" font-style=\"italic\" lengthAdjust=\"spacingAndGlyphs\" textLength=\"40\" x=\"33\" y=\"100.1387\">«part»</text><text fill=\"#000000\" font-family=\"sans-serif\" font-size=\"12\" lengthAdjust=\"spacingAndGlyphs\" textLength=\"22\" x=\"40\" y=\"114.1074\">y: B</text><line style=\"stroke: #383838; stroke-width: 1.5;\" x1=\"33\" x2=\"73\" y1=\"121.9375\" y2=\"121.9375\"/></a><!--MD5=[09b614a08d8cba4a07c9adeb5e0fee81]\n",
       "class E3--><a href=\"psysml:8ceeee5f-0d5a-4279-aee9-7758649ab8be\" target=\"_top\" title=\"psysml:8ceeee5f-0d5a-4279-aee9-7758649ab8be\" xlink:actuate=\"onRequest\" xlink:href=\"psysml:8ceeee5f-0d5a-4279-aee9-7758649ab8be\" xlink:show=\"new\" xlink:title=\"psysml:8ceeee5f-0d5a-4279-aee9-7758649ab8be\" xlink:type=\"simple\"><rect fill=\"#FFFFFF\" height=\"45.9375\" id=\"E3\" style=\"stroke: #383838; stroke-width: 1.5;\" width=\"70\" x=\"347\" y=\"205\"/><text fill=\"#000000\" font-family=\"sans-serif\" font-size=\"12\" font-style=\"italic\" lengthAdjust=\"spacingAndGlyphs\" textLength=\"68\" x=\"348\" y=\"221.1387\">«part  def»</text><text fill=\"#000000\" font-family=\"sans-serif\" font-size=\"12\" lengthAdjust=\"spacingAndGlyphs\" textLength=\"8\" x=\"378\" y=\"235.1074\">A</text><line style=\"stroke: #383838; stroke-width: 1.5;\" x1=\"348\" x2=\"416\" y1=\"242.9375\" y2=\"242.9375\"/></a><!--MD5=[270fce915f116d4de14055a7c1d9a0f3]\n",
       "class E5--><a href=\"psysml:90844ba8-c1a9-4c46-b7c9-d1a2572e7365\" target=\"_top\" title=\"psysml:90844ba8-c1a9-4c46-b7c9-d1a2572e7365\" xlink:actuate=\"onRequest\" xlink:href=\"psysml:90844ba8-c1a9-4c46-b7c9-d1a2572e7365\" xlink:show=\"new\" xlink:title=\"psysml:90844ba8-c1a9-4c46-b7c9-d1a2572e7365\" xlink:type=\"simple\"><rect fill=\"#FFFFFF\" height=\"45.9375\" id=\"E5\" style=\"stroke: #383838; stroke-width: 1.5;\" width=\"70\" x=\"95\" y=\"205\"/><text fill=\"#000000\" font-family=\"sans-serif\" font-size=\"12\" font-style=\"italic\" lengthAdjust=\"spacingAndGlyphs\" textLength=\"68\" x=\"96\" y=\"221.1387\">«part  def»</text><text fill=\"#000000\" font-family=\"sans-serif\" font-size=\"12\" lengthAdjust=\"spacingAndGlyphs\" textLength=\"8\" x=\"126\" y=\"235.1074\">B</text><line style=\"stroke: #383838; stroke-width: 1.5;\" x1=\"96\" x2=\"164\" y1=\"242.9375\" y2=\"242.9375\"/></a><!--MD5=[2156ba9850f5573cc1fc38a6a4b2f02b]\n",
       "class E7--><a href=\"psysml:9a31b8cb-b3f5-4478-b49b-73e9fd0f6da5\" target=\"_top\" title=\"psysml:9a31b8cb-b3f5-4478-b49b-73e9fd0f6da5\" xlink:actuate=\"onRequest\" xlink:href=\"psysml:9a31b8cb-b3f5-4478-b49b-73e9fd0f6da5\" xlink:show=\"new\" xlink:title=\"psysml:9a31b8cb-b3f5-4478-b49b-73e9fd0f6da5\" xlink:type=\"simple\"><rect fill=\"#FFFFFF\" height=\"45.9375\" id=\"E7\" rx=\"10\" ry=\"10\" style=\"stroke: #383838; stroke-width: 1.5;\" width=\"42\" x=\"361\" y=\"84\"/><text fill=\"#000000\" font-family=\"sans-serif\" font-size=\"12\" font-style=\"italic\" lengthAdjust=\"spacingAndGlyphs\" textLength=\"40\" x=\"362\" y=\"100.1387\">«part»</text><text fill=\"#000000\" font-family=\"sans-serif\" font-size=\"12\" lengthAdjust=\"spacingAndGlyphs\" textLength=\"22\" x=\"369\" y=\"114.1074\">x: A</text><line style=\"stroke: #383838; stroke-width: 1.5;\" x1=\"362\" x2=\"402\" y1=\"121.9375\" y2=\"121.9375\"/></a><!--MD5=[b9389687b975829384b498ac4b7476b2]\n",
       "class E8--><a href=\"psysml:084cb86b-cc59-4a41-8b1c-7b7410cc5029\" target=\"_top\" title=\"psysml:084cb86b-cc59-4a41-8b1c-7b7410cc5029\" xlink:actuate=\"onRequest\" xlink:href=\"psysml:084cb86b-cc59-4a41-8b1c-7b7410cc5029\" xlink:show=\"new\" xlink:title=\"psysml:084cb86b-cc59-4a41-8b1c-7b7410cc5029\" xlink:type=\"simple\"><rect fill=\"#FFFFFF\" height=\"45.9375\" id=\"E8\" rx=\"10\" ry=\"10\" style=\"stroke: #383838; stroke-width: 1.5;\" width=\"42\" x=\"284\" y=\"84\"/><text fill=\"#000000\" font-family=\"sans-serif\" font-size=\"12\" font-style=\"italic\" lengthAdjust=\"spacingAndGlyphs\" textLength=\"40\" x=\"285\" y=\"100.1387\">«part»</text><text fill=\"#000000\" font-family=\"sans-serif\" font-size=\"12\" lengthAdjust=\"spacingAndGlyphs\" textLength=\"22\" x=\"292\" y=\"114.1074\">y: B</text><line style=\"stroke: #383838; stroke-width: 1.5;\" x1=\"285\" x2=\"325\" y1=\"121.9375\" y2=\"121.9375\"/></a><!--MD5=[96f4274e9e20536e775497830990834d]\n",
       "class E10--><a href=\"psysml:377a64d2-1aa6-4a9b-ba95-6aeb6c1d992f\" target=\"_top\" title=\"psysml:377a64d2-1aa6-4a9b-ba95-6aeb6c1d992f\" xlink:actuate=\"onRequest\" xlink:href=\"psysml:377a64d2-1aa6-4a9b-ba95-6aeb6c1d992f\" xlink:show=\"new\" xlink:title=\"psysml:377a64d2-1aa6-4a9b-ba95-6aeb6c1d992f\" xlink:type=\"simple\"><rect fill=\"#FFFFFF\" height=\"45.9375\" id=\"E10\" rx=\"10\" ry=\"10\" style=\"stroke: #383838; stroke-width: 1.5;\" width=\"42\" x=\"186\" y=\"84\"/><text fill=\"#000000\" font-family=\"sans-serif\" font-size=\"12\" font-style=\"italic\" lengthAdjust=\"spacingAndGlyphs\" textLength=\"40\" x=\"187\" y=\"100.1387\">«part»</text><text fill=\"#000000\" font-family=\"sans-serif\" font-size=\"12\" lengthAdjust=\"spacingAndGlyphs\" textLength=\"22\" x=\"194\" y=\"114.1074\">x: A</text><line style=\"stroke: #383838; stroke-width: 1.5;\" x1=\"187\" x2=\"227\" y1=\"121.9375\" y2=\"121.9375\"/></a><!--MD5=[1dd1bfd58a279cf63c5f349dbc8fc6a1]\n",
       "class E11--><a href=\"psysml:7cdd5db6-fbbe-4f9d-b259-3a085be4f068\" target=\"_top\" title=\"psysml:7cdd5db6-fbbe-4f9d-b259-3a085be4f068\" xlink:actuate=\"onRequest\" xlink:href=\"psysml:7cdd5db6-fbbe-4f9d-b259-3a085be4f068\" xlink:show=\"new\" xlink:title=\"psysml:7cdd5db6-fbbe-4f9d-b259-3a085be4f068\" xlink:type=\"simple\"><rect fill=\"#FFFFFF\" height=\"45.9375\" id=\"E11\" rx=\"10\" ry=\"10\" style=\"stroke: #383838; stroke-width: 1.5;\" width=\"42\" x=\"109\" y=\"84\"/><text fill=\"#000000\" font-family=\"sans-serif\" font-size=\"12\" font-style=\"italic\" lengthAdjust=\"spacingAndGlyphs\" textLength=\"40\" x=\"110\" y=\"100.1387\">«part»</text><text fill=\"#000000\" font-family=\"sans-serif\" font-size=\"12\" lengthAdjust=\"spacingAndGlyphs\" textLength=\"22\" x=\"117\" y=\"114.1074\">y: B</text><line style=\"stroke: #383838; stroke-width: 1.5;\" x1=\"110\" x2=\"150\" y1=\"121.9375\" y2=\"121.9375\"/></a><!--MD5=[14ccda38c055a5c0da953d572bc50960]\n",
       "link E7 to E3--><a href=\"psysml:0b2c7bde-3c6f-4711-9ee8-a744dba64aec\" target=\"_top\" title=\"psysml:0b2c7bde-3c6f-4711-9ee8-a744dba64aec\" xlink:actuate=\"onRequest\" xlink:href=\"psysml:0b2c7bde-3c6f-4711-9ee8-a744dba64aec\" xlink:show=\"new\" xlink:title=\"psysml:0b2c7bde-3c6f-4711-9ee8-a744dba64aec\" xlink:type=\"simple\"><path d=\"M382,130.1 C382,145.37 382,166.16 382,184.57 \" fill=\"none\" id=\"E7-&gt;E3\" style=\"stroke: #383838; stroke-width: 1.0;\"/><polygon fill=\"#FFFFFF\" points=\"382,204.61,375,185.61,389,185.61,382,204.61\" style=\"stroke: #383838; stroke-width: 1.0;\"/><ellipse cx=\"377\" cy=\"179.91\" fill=\"#383838\" rx=\"2\" ry=\"2\" style=\"stroke: #383838; stroke-width: 1.0;\"/><ellipse cx=\"387\" cy=\"179.91\" fill=\"#383838\" rx=\"2\" ry=\"2\" style=\"stroke: #383838; stroke-width: 1.0;\"/></a><!--MD5=[1ccb2481ffa92f8d51a74ee30c51832a]\n",
       "link E8 to E5--><a href=\"psysml:16eea2e1-2a1c-45c0-89dc-072c92b0db51\" target=\"_top\" title=\"psysml:16eea2e1-2a1c-45c0-89dc-072c92b0db51\" xlink:actuate=\"onRequest\" xlink:href=\"psysml:16eea2e1-2a1c-45c0-89dc-072c92b0db51\" xlink:show=\"new\" xlink:title=\"psysml:16eea2e1-2a1c-45c0-89dc-072c92b0db51\" xlink:type=\"simple\"><path d=\"M283.84,124.59 C272.23,133.52 257.5,144.61 244,154 C224.13,167.82 201.8,182.34 182.21,194.75 \" fill=\"none\" id=\"E8-&gt;E5\" style=\"stroke: #383838; stroke-width: 1.0;\"/><polygon fill=\"#FFFFFF\" points=\"165.13,205.48,177.4956,189.4459,184.9425,201.301,165.13,205.48\" style=\"stroke: #383838; stroke-width: 1.0;\"/><ellipse cx=\"183.3862\" cy=\"188.1075\" fill=\"#383838\" rx=\"2\" ry=\"2\" style=\"stroke: #383838; stroke-width: 1.0;\"/><ellipse cx=\"188.7054\" cy=\"196.5755\" fill=\"#383838\" rx=\"2\" ry=\"2\" style=\"stroke: #383838; stroke-width: 1.0;\"/></a><!--MD5=[feeac5eb423634930294aa81f2d25a4c]\n",
       "link E10 to E3--><a href=\"psysml:0ac0ff17-b961-483b-88a6-6c34531d2872\" target=\"_top\" title=\"psysml:0ac0ff17-b961-483b-88a6-6c34531d2872\" xlink:actuate=\"onRequest\" xlink:href=\"psysml:0ac0ff17-b961-483b-88a6-6c34531d2872\" xlink:show=\"new\" xlink:title=\"psysml:0ac0ff17-b961-483b-88a6-6c34531d2872\" xlink:type=\"simple\"><path d=\"M228.16,124.59 C239.77,133.52 254.5,144.61 268,154 C287.87,167.82 310.2,182.34 329.79,194.75 \" fill=\"none\" id=\"E10-&gt;E3\" style=\"stroke: #383838; stroke-width: 1.0;\"/><polygon fill=\"#FFFFFF\" points=\"346.87,205.48,327.0575,201.301,334.5044,189.4459,346.87,205.48\" style=\"stroke: #383838; stroke-width: 1.0;\"/><ellipse cx=\"323.2946\" cy=\"196.5755\" fill=\"#383838\" rx=\"2\" ry=\"2\" style=\"stroke: #383838; stroke-width: 1.0;\"/><ellipse cx=\"328.6138\" cy=\"188.1075\" fill=\"#383838\" rx=\"2\" ry=\"2\" style=\"stroke: #383838; stroke-width: 1.0;\"/></a><!--MD5=[07b77f6f309248d16187045709d1c26e]\n",
       "link E11 to E5--><a href=\"psysml:7353245a-aec5-4316-8af8-2852475c4dc4\" target=\"_top\" title=\"psysml:7353245a-aec5-4316-8af8-2852475c4dc4\" xlink:actuate=\"onRequest\" xlink:href=\"psysml:7353245a-aec5-4316-8af8-2852475c4dc4\" xlink:show=\"new\" xlink:title=\"psysml:7353245a-aec5-4316-8af8-2852475c4dc4\" xlink:type=\"simple\"><path d=\"M130,130.1 C130,145.37 130,166.16 130,184.57 \" fill=\"none\" id=\"E11-&gt;E5\" style=\"stroke: #383838; stroke-width: 1.0;\"/><polygon fill=\"#FFFFFF\" points=\"130,204.61,123,185.61,137,185.61,130,204.61\" style=\"stroke: #383838; stroke-width: 1.0;\"/><ellipse cx=\"125\" cy=\"179.91\" fill=\"#383838\" rx=\"2\" ry=\"2\" style=\"stroke: #383838; stroke-width: 1.0;\"/><ellipse cx=\"135\" cy=\"179.91\" fill=\"#383838\" rx=\"2\" ry=\"2\" style=\"stroke: #383838; stroke-width: 1.0;\"/></a><!--MD5=[39f41a0e550fb3d73b4d8135617e30a2]\n",
       "link E12 to E3--><a href=\"psysml:6cc10db6-ba98-48a2-919a-a7b34cb2bdfc\" target=\"_top\" title=\"psysml:6cc10db6-ba98-48a2-919a-a7b34cb2bdfc\" xlink:actuate=\"onRequest\" xlink:href=\"psysml:6cc10db6-ba98-48a2-919a-a7b34cb2bdfc\" xlink:show=\"new\" xlink:title=\"psysml:6cc10db6-ba98-48a2-919a-a7b34cb2bdfc\" xlink:type=\"simple\"><path d=\"M444.7,130.1 C434.28,146.2 419.89,168.44 407.53,187.55 \" fill=\"none\" id=\"E12-&gt;E3\" style=\"stroke: #383838; stroke-width: 1.0;\"/><polygon fill=\"#FFFFFF\" points=\"396.49,204.61,400.9313,184.8546,412.6866,192.4581,396.49,204.61\" style=\"stroke: #383838; stroke-width: 1.0;\"/><ellipse cx=\"405.7063\" cy=\"181.1547\" fill=\"#383838\" rx=\"2\" ry=\"2\" style=\"stroke: #383838; stroke-width: 1.0;\"/><ellipse cx=\"414.103\" cy=\"186.5858\" fill=\"#383838\" rx=\"2\" ry=\"2\" style=\"stroke: #383838; stroke-width: 1.0;\"/></a><!--MD5=[066b2d8af59fea80ccdb3d54ad5c1091]\n",
       "link E13 to E5--><a href=\"psysml:fb180b05-d2cf-42d1-bf2a-01829ad20206\" target=\"_top\" title=\"psysml:fb180b05-d2cf-42d1-bf2a-01829ad20206\" xlink:actuate=\"onRequest\" xlink:href=\"psysml:fb180b05-d2cf-42d1-bf2a-01829ad20206\" xlink:show=\"new\" xlink:title=\"psysml:fb180b05-d2cf-42d1-bf2a-01829ad20206\" xlink:type=\"simple\"><path d=\"M67.3,130.1 C77.72,146.2 92.11,168.44 104.47,187.55 \" fill=\"none\" id=\"E13-&gt;E5\" style=\"stroke: #383838; stroke-width: 1.0;\"/><polygon fill=\"#FFFFFF\" points=\"115.51,204.61,99.3134,192.4581,111.0687,184.8546,115.51,204.61\" style=\"stroke: #383838; stroke-width: 1.0;\"/><ellipse cx=\"97.897\" cy=\"186.5858\" fill=\"#383838\" rx=\"2\" ry=\"2\" style=\"stroke: #383838; stroke-width: 1.0;\"/><ellipse cx=\"106.2937\" cy=\"181.1547\" fill=\"#383838\" rx=\"2\" ry=\"2\" style=\"stroke: #383838; stroke-width: 1.0;\"/></a><!--MD5=[b4b5c19f5fd7d851e75cc07391f43165]\n",
       "@startuml\r\n",
       " skinparam monochrome true\r\n",
       "skinparam classbackgroundcolor white\r\n",
       "skinparam shadowing false\r\n",
       "skinparam wrapWidth 300\r\n",
       "hide circle\r\n",
       "\r\n",
       "package \"CircularImport\" as E1  [[psysml:6d002b47-1de9-4cb8-be5e-1d54cb7fff5c ]]  {\r\n",
       "package \"P1\" as E2  [[psysml:531dfa6c-428e-410a-a6f8-c5b9ff8ecb34 ]]  {\r\n",
       "comp def \"A\" as E3  <<(T,blue) part  def>> [[psysml:8ceeee5f-0d5a-4279-aee9-7758649ab8be ]] {\r\n",
       "}\r\n",
       "}\r\n",
       "package \"P2\" as E4  [[psysml:62a929fe-702a-4460-9e53-8584d6f6435e ]]  {\r\n",
       "comp def \"B\" as E5  <<(T,blue) part  def>> [[psysml:90844ba8-c1a9-4c46-b7c9-d1a2572e7365 ]] {\r\n",
       "}\r\n",
       "}\r\n",
       "package \"Test1\" as E6  [[psysml:0f17a3a9-0805-4d7f-ba6a-07da905c8abf ]]  {\r\n",
       "comp usage \"x: A \" as E7  <<(T,blue) part>> [[psysml:9a31b8cb-b3f5-4478-b49b-73e9fd0f6da5 ]] {\r\n",
       "}\r\n",
       "comp usage \"y: B \" as E8  <<(T,blue) part>> [[psysml:084cb86b-cc59-4a41-8b1c-7b7410cc5029 ]] {\r\n",
       "}\r\n",
       "}\r\n",
       "package \"Test2\" as E9  [[psysml:a06e7d3b-be80-4318-b479-ae1779c5974b ]]  {\r\n",
       "comp usage \"x: A \" as E10  <<(T,blue) part>> [[psysml:377a64d2-1aa6-4a9b-ba95-6aeb6c1d992f ]] {\r\n",
       "}\r\n",
       "comp usage \"y: B \" as E11  <<(T,blue) part>> [[psysml:7cdd5db6-fbbe-4f9d-b259-3a085be4f068 ]] {\r\n",
       "}\r\n",
       "}\r\n",
       "comp usage \"x: A \" as E12  <<(T,blue) part>> [[psysml:665d223a-8fea-436a-b414-0efd919424fb ]] {\r\n",
       "}\r\n",
       "comp usage \"y: B \" as E13  <<(T,blue) part>> [[psysml:a1b35d80-8992-43c2-aa5d-6937f2901599 ]] {\r\n",
       "}\r\n",
       "}\r\n",
       "E7 - -:|> E3 [[psysml:0b2c7bde-3c6f-4711-9ee8-a744dba64aec ]] \r\n",
       "E8 - -:|> E5 [[psysml:16eea2e1-2a1c-45c0-89dc-072c92b0db51 ]] \r\n",
       "E10 - -:|> E3 [[psysml:0ac0ff17-b961-483b-88a6-6c34531d2872 ]] \r\n",
       "E11 - -:|> E5 [[psysml:7353245a-aec5-4316-8af8-2852475c4dc4 ]] \r\n",
       "E12 - -:|> E3 [[psysml:6cc10db6-ba98-48a2-919a-a7b34cb2bdfc ]] \r\n",
       "E13 - -:|> E5 [[psysml:fb180b05-d2cf-42d1-bf2a-01829ad20206 ]] \r\n",
       "@enduml\r\n",
       "\n",
       "PlantUML version 1.2020.13(Sat Jun 13 12:26:38 UTC 2020)\n",
       "(EPL source distribution)\n",
       "Java Runtime: OpenJDK Runtime Environment\n",
       "JVM: OpenJDK 64-Bit Server VM\n",
       "Default Encoding: UTF-8\n",
       "Language: en\n",
       "Country: null\n",
       "--></g></svg>"
      ]
     },
     "execution_count": 3,
     "metadata": {},
     "output_type": "execute_result"
    }
   ],
   "source": [
    "%viz --style=\"COMPTREE\" --view=\"Tree\" \"CircularImport\""
   ]
  },
  {
   "cell_type": "code",
   "execution_count": 4,
   "id": "d2d64dd9",
   "metadata": {
    "execution": {
     "iopub.execute_input": "2021-12-15T15:15:36.474766Z",
     "iopub.status.busy": "2021-12-15T15:15:36.474191Z",
     "iopub.status.idle": "2021-12-15T15:15:36.483058Z",
     "shell.execute_reply": "2021-12-15T15:15:36.483377Z"
    }
   },
   "outputs": [
    {
     "data": {
      "image/svg+xml": [
       "<?xml version=\"1.0\" encoding=\"UTF-8\" standalone=\"no\"?><svg xmlns=\"http://www.w3.org/2000/svg\" xmlns:xlink=\"http://www.w3.org/1999/xlink\" contentScriptType=\"application/ecmascript\" contentStyleType=\"text/css\" height=\"12px\" preserveAspectRatio=\"none\" style=\"width:12px;height:12px;\" version=\"1.1\" viewBox=\"0 0 12 12\" width=\"12px\" zoomAndPan=\"magnify\"><defs/><g><!--MD5=[f19188ef49e11757b5c46753f95d9edc]\n",
       "@startuml\r\n",
       " skinparam monochrome true\r\n",
       "skinparam classbackgroundcolor white\r\n",
       "skinparam shadowing false\r\n",
       "skinparam wrapWidth 300\r\n",
       "hide circle\r\n",
       "\r\n",
       "@enduml\r\n",
       "\n",
       "PlantUML version 1.2020.13(Sat Jun 13 12:26:38 UTC 2020)\n",
       "(EPL source distribution)\n",
       "Java Runtime: OpenJDK Runtime Environment\n",
       "JVM: OpenJDK 64-Bit Server VM\n",
       "Default Encoding: UTF-8\n",
       "Language: en\n",
       "Country: null\n",
       "--></g></svg>"
      ]
     },
     "execution_count": 4,
     "metadata": {},
     "output_type": "execute_result"
    }
   ],
   "source": [
    "%viz --style=\"COMPTREE\" --view=\"State\" \"CircularImport\""
   ]
  },
  {
   "cell_type": "code",
   "execution_count": 5,
   "id": "27a60cac",
   "metadata": {
    "execution": {
     "iopub.execute_input": "2021-12-15T15:15:36.533308Z",
     "iopub.status.busy": "2021-12-15T15:15:36.532755Z",
     "iopub.status.idle": "2021-12-15T15:15:36.588897Z",
     "shell.execute_reply": "2021-12-15T15:15:36.588547Z"
    }
   },
   "outputs": [
    {
     "data": {
      "image/svg+xml": [
       "<?xml version=\"1.0\" encoding=\"UTF-8\" standalone=\"no\"?><svg xmlns=\"http://www.w3.org/2000/svg\" xmlns:xlink=\"http://www.w3.org/1999/xlink\" contentScriptType=\"application/ecmascript\" contentStyleType=\"text/css\" height=\"179px\" preserveAspectRatio=\"none\" style=\"width:850px;height:179px;\" version=\"1.1\" viewBox=\"0 0 850 179\" width=\"850px\" zoomAndPan=\"magnify\"><defs/><g><!--MD5=[fbc87193dbaf4d95561dea2c320d4a47]\n",
       "cluster E1--><a href=\"psysml:6d002b47-1de9-4cb8-be5e-1d54cb7fff5c\" target=\"_top\" title=\"psysml:6d002b47-1de9-4cb8-be5e-1d54cb7fff5c\" xlink:actuate=\"onRequest\" xlink:href=\"psysml:6d002b47-1de9-4cb8-be5e-1d54cb7fff5c\" xlink:show=\"new\" xlink:title=\"psysml:6d002b47-1de9-4cb8-be5e-1d54cb7fff5c\" xlink:type=\"simple\"><polygon fill=\"#FFFFFF\" points=\"16,6,117,6,124,28.2969,828,28.2969,828,167,16,167,16,6\" style=\"stroke: #000000; stroke-width: 1.5;\"/><line style=\"stroke: #000000; stroke-width: 1.5;\" x1=\"16\" x2=\"124\" y1=\"28.2969\" y2=\"28.2969\"/><text fill=\"#000000\" font-family=\"sans-serif\" font-size=\"14\" font-weight=\"bold\" lengthAdjust=\"spacingAndGlyphs\" textLength=\"95\" x=\"20\" y=\"20.9951\">CircularImport</text></a><!--MD5=[e4f7fae6ed58524ba242bb0b0d3be6b7]\n",
       "cluster E2--><a href=\"psysml:531dfa6c-428e-410a-a6f8-c5b9ff8ecb34\" target=\"_top\" title=\"psysml:531dfa6c-428e-410a-a6f8-c5b9ff8ecb34\" xlink:actuate=\"onRequest\" xlink:href=\"psysml:531dfa6c-428e-410a-a6f8-c5b9ff8ecb34\" xlink:show=\"new\" xlink:title=\"psysml:531dfa6c-428e-410a-a6f8-c5b9ff8ecb34\" xlink:type=\"simple\"><polygon fill=\"#FFFFFF\" points=\"698,49,722,49,729,71.2969,804,71.2969,804,143,698,143,698,49\" style=\"stroke: #000000; stroke-width: 1.5;\"/><line style=\"stroke: #000000; stroke-width: 1.5;\" x1=\"698\" x2=\"729\" y1=\"71.2969\" y2=\"71.2969\"/><text fill=\"#000000\" font-family=\"sans-serif\" font-size=\"14\" font-weight=\"bold\" lengthAdjust=\"spacingAndGlyphs\" textLength=\"18\" x=\"702\" y=\"63.9951\">P1</text></a><!--MD5=[f6df4d0ebaf0b5dfb2ced0ae5af7c670]\n",
       "cluster E4--><a href=\"psysml:62a929fe-702a-4460-9e53-8584d6f6435e\" target=\"_top\" title=\"psysml:62a929fe-702a-4460-9e53-8584d6f6435e\" xlink:actuate=\"onRequest\" xlink:href=\"psysml:62a929fe-702a-4460-9e53-8584d6f6435e\" xlink:show=\"new\" xlink:title=\"psysml:62a929fe-702a-4460-9e53-8584d6f6435e\" xlink:type=\"simple\"><polygon fill=\"#FFFFFF\" points=\"568,49,592,49,599,71.2969,674,71.2969,674,143,568,143,568,49\" style=\"stroke: #000000; stroke-width: 1.5;\"/><line style=\"stroke: #000000; stroke-width: 1.5;\" x1=\"568\" x2=\"599\" y1=\"71.2969\" y2=\"71.2969\"/><text fill=\"#000000\" font-family=\"sans-serif\" font-size=\"14\" font-weight=\"bold\" lengthAdjust=\"spacingAndGlyphs\" textLength=\"18\" x=\"572\" y=\"63.9951\">P2</text></a><!--MD5=[14e3b0961a2654348d326746436168a1]\n",
       "cluster E6--><a href=\"psysml:0f17a3a9-0805-4d7f-ba6a-07da905c8abf\" target=\"_top\" title=\"psysml:0f17a3a9-0805-4d7f-ba6a-07da905c8abf\" xlink:actuate=\"onRequest\" xlink:href=\"psysml:0f17a3a9-0805-4d7f-ba6a-07da905c8abf\" xlink:show=\"new\" xlink:title=\"psysml:0f17a3a9-0805-4d7f-ba6a-07da905c8abf\" xlink:type=\"simple\"><polygon fill=\"#FFFFFF\" points=\"377,50.5,423,50.5,430,72.7969,544,72.7969,544,141.5,377,141.5,377,50.5\" style=\"stroke: #000000; stroke-width: 1.5;\"/><line style=\"stroke: #000000; stroke-width: 1.5;\" x1=\"377\" x2=\"430\" y1=\"72.7969\" y2=\"72.7969\"/><text fill=\"#000000\" font-family=\"sans-serif\" font-size=\"14\" font-weight=\"bold\" lengthAdjust=\"spacingAndGlyphs\" textLength=\"40\" x=\"381\" y=\"65.4951\">Test1</text></a><!--MD5=[7f149f147074ac12df2cb0a7728a5fb0]\n",
       "cluster E9--><a href=\"psysml:a06e7d3b-be80-4318-b479-ae1779c5974b\" target=\"_top\" title=\"psysml:a06e7d3b-be80-4318-b479-ae1779c5974b\" xlink:actuate=\"onRequest\" xlink:href=\"psysml:a06e7d3b-be80-4318-b479-ae1779c5974b\" xlink:show=\"new\" xlink:title=\"psysml:a06e7d3b-be80-4318-b479-ae1779c5974b\" xlink:type=\"simple\"><polygon fill=\"#FFFFFF\" points=\"186,50.5,232,50.5,239,72.7969,353,72.7969,353,141.5,186,141.5,186,50.5\" style=\"stroke: #000000; stroke-width: 1.5;\"/><line style=\"stroke: #000000; stroke-width: 1.5;\" x1=\"186\" x2=\"239\" y1=\"72.7969\" y2=\"72.7969\"/><text fill=\"#000000\" font-family=\"sans-serif\" font-size=\"14\" font-weight=\"bold\" lengthAdjust=\"spacingAndGlyphs\" textLength=\"40\" x=\"190\" y=\"65.4951\">Test2</text></a><g id=\"E1.E2.E3\"><a href=\"psysml:8ceeee5f-0d5a-4279-aee9-7758649ab8be\" target=\"_top\" title=\"psysml:8ceeee5f-0d5a-4279-aee9-7758649ab8be\" xlink:actuate=\"onRequest\" xlink:href=\"psysml:8ceeee5f-0d5a-4279-aee9-7758649ab8be\" xlink:show=\"new\" xlink:title=\"psysml:8ceeee5f-0d5a-4279-aee9-7758649ab8be\" xlink:type=\"simple\"><rect fill=\"#FFFFFF\" height=\"42.9375\" id=\"E3\" style=\"stroke: #383838; stroke-width: 1.5;\" width=\"75\" x=\"713.5\" y=\"84\"/><rect fill=\"#F8F8F8\" height=\"37.9375\" style=\"stroke: #383838; stroke-width: 1.5;\" width=\"75\" x=\"713.5\" y=\"84\"/><text fill=\"#000000\" font-family=\"sans-serif\" font-size=\"12\" font-style=\"italic\" lengthAdjust=\"spacingAndGlyphs\" textLength=\"68\" x=\"717\" y=\"100.1387\">«part  def»</text><text fill=\"#000000\" font-family=\"sans-serif\" font-size=\"12\" lengthAdjust=\"spacingAndGlyphs\" textLength=\"8\" x=\"747\" y=\"114.1074\">A</text></a></g><g id=\"E1.E4.E5\"><a href=\"psysml:90844ba8-c1a9-4c46-b7c9-d1a2572e7365\" target=\"_top\" title=\"psysml:90844ba8-c1a9-4c46-b7c9-d1a2572e7365\" xlink:actuate=\"onRequest\" xlink:href=\"psysml:90844ba8-c1a9-4c46-b7c9-d1a2572e7365\" xlink:show=\"new\" xlink:title=\"psysml:90844ba8-c1a9-4c46-b7c9-d1a2572e7365\" xlink:type=\"simple\"><rect fill=\"#FFFFFF\" height=\"42.9375\" id=\"E5\" style=\"stroke: #383838; stroke-width: 1.5;\" width=\"75\" x=\"583.5\" y=\"84\"/><rect fill=\"#F8F8F8\" height=\"37.9375\" style=\"stroke: #383838; stroke-width: 1.5;\" width=\"75\" x=\"583.5\" y=\"84\"/><text fill=\"#000000\" font-family=\"sans-serif\" font-size=\"12\" font-style=\"italic\" lengthAdjust=\"spacingAndGlyphs\" textLength=\"68\" x=\"587\" y=\"100.1387\">«part  def»</text><text fill=\"#000000\" font-family=\"sans-serif\" font-size=\"12\" lengthAdjust=\"spacingAndGlyphs\" textLength=\"8\" x=\"617\" y=\"114.1074\">B</text></a></g><g id=\"E1.E6.E7\"><a href=\"psysml:9a31b8cb-b3f5-4478-b49b-73e9fd0f6da5\" target=\"_top\" title=\"psysml:9a31b8cb-b3f5-4478-b49b-73e9fd0f6da5\" xlink:actuate=\"onRequest\" xlink:href=\"psysml:9a31b8cb-b3f5-4478-b49b-73e9fd0f6da5\" xlink:show=\"new\" xlink:title=\"psysml:9a31b8cb-b3f5-4478-b49b-73e9fd0f6da5\" xlink:type=\"simple\"><rect fill=\"#FFFFFF\" height=\"40\" id=\"E7\" rx=\"10\" ry=\"10\" style=\"stroke: #383838; stroke-width: 1.5;\" width=\"50\" x=\"478\" y=\"85.5\"/><rect fill=\"#F8F8F8\" height=\"23.9688\" rx=\"10\" ry=\"10\" style=\"stroke: #F8F8F8; stroke-width: 1.5;\" width=\"50\" x=\"478\" y=\"85.5\"/><rect fill=\"#F8F8F8\" height=\"10\" style=\"stroke: #F8F8F8; stroke-width: 1.5;\" width=\"50\" x=\"478\" y=\"99.4688\"/><rect fill=\"none\" height=\"40\" id=\"E7\" rx=\"10\" ry=\"10\" style=\"stroke: #383838; stroke-width: 1.5;\" width=\"50\" x=\"478\" y=\"85.5\"/><text fill=\"#000000\" font-family=\"sans-serif\" font-size=\"12\" lengthAdjust=\"spacingAndGlyphs\" textLength=\"22\" x=\"492\" y=\"101.6387\">x: A</text></a></g><g id=\"E1.E6.E8\"><a href=\"psysml:084cb86b-cc59-4a41-8b1c-7b7410cc5029\" target=\"_top\" title=\"psysml:084cb86b-cc59-4a41-8b1c-7b7410cc5029\" xlink:actuate=\"onRequest\" xlink:href=\"psysml:084cb86b-cc59-4a41-8b1c-7b7410cc5029\" xlink:show=\"new\" xlink:title=\"psysml:084cb86b-cc59-4a41-8b1c-7b7410cc5029\" xlink:type=\"simple\"><rect fill=\"#FFFFFF\" height=\"40\" id=\"E8\" rx=\"10\" ry=\"10\" style=\"stroke: #383838; stroke-width: 1.5;\" width=\"50\" x=\"393\" y=\"85.5\"/><rect fill=\"#F8F8F8\" height=\"23.9688\" rx=\"10\" ry=\"10\" style=\"stroke: #F8F8F8; stroke-width: 1.5;\" width=\"50\" x=\"393\" y=\"85.5\"/><rect fill=\"#F8F8F8\" height=\"10\" style=\"stroke: #F8F8F8; stroke-width: 1.5;\" width=\"50\" x=\"393\" y=\"99.4688\"/><rect fill=\"none\" height=\"40\" id=\"E8\" rx=\"10\" ry=\"10\" style=\"stroke: #383838; stroke-width: 1.5;\" width=\"50\" x=\"393\" y=\"85.5\"/><text fill=\"#000000\" font-family=\"sans-serif\" font-size=\"12\" lengthAdjust=\"spacingAndGlyphs\" textLength=\"22\" x=\"407\" y=\"101.6387\">y: B</text></a></g><g id=\"E1.E9.E10\"><a href=\"psysml:377a64d2-1aa6-4a9b-ba95-6aeb6c1d992f\" target=\"_top\" title=\"psysml:377a64d2-1aa6-4a9b-ba95-6aeb6c1d992f\" xlink:actuate=\"onRequest\" xlink:href=\"psysml:377a64d2-1aa6-4a9b-ba95-6aeb6c1d992f\" xlink:show=\"new\" xlink:title=\"psysml:377a64d2-1aa6-4a9b-ba95-6aeb6c1d992f\" xlink:type=\"simple\"><rect fill=\"#FFFFFF\" height=\"40\" id=\"E10\" rx=\"10\" ry=\"10\" style=\"stroke: #383838; stroke-width: 1.5;\" width=\"50\" x=\"287\" y=\"85.5\"/><rect fill=\"#F8F8F8\" height=\"23.9688\" rx=\"10\" ry=\"10\" style=\"stroke: #F8F8F8; stroke-width: 1.5;\" width=\"50\" x=\"287\" y=\"85.5\"/><rect fill=\"#F8F8F8\" height=\"10\" style=\"stroke: #F8F8F8; stroke-width: 1.5;\" width=\"50\" x=\"287\" y=\"99.4688\"/><rect fill=\"none\" height=\"40\" id=\"E10\" rx=\"10\" ry=\"10\" style=\"stroke: #383838; stroke-width: 1.5;\" width=\"50\" x=\"287\" y=\"85.5\"/><text fill=\"#000000\" font-family=\"sans-serif\" font-size=\"12\" lengthAdjust=\"spacingAndGlyphs\" textLength=\"22\" x=\"301\" y=\"101.6387\">x: A</text></a></g><g id=\"E1.E9.E11\"><a href=\"psysml:7cdd5db6-fbbe-4f9d-b259-3a085be4f068\" target=\"_top\" title=\"psysml:7cdd5db6-fbbe-4f9d-b259-3a085be4f068\" xlink:actuate=\"onRequest\" xlink:href=\"psysml:7cdd5db6-fbbe-4f9d-b259-3a085be4f068\" xlink:show=\"new\" xlink:title=\"psysml:7cdd5db6-fbbe-4f9d-b259-3a085be4f068\" xlink:type=\"simple\"><rect fill=\"#FFFFFF\" height=\"40\" id=\"E11\" rx=\"10\" ry=\"10\" style=\"stroke: #383838; stroke-width: 1.5;\" width=\"50\" x=\"202\" y=\"85.5\"/><rect fill=\"#F8F8F8\" height=\"23.9688\" rx=\"10\" ry=\"10\" style=\"stroke: #F8F8F8; stroke-width: 1.5;\" width=\"50\" x=\"202\" y=\"85.5\"/><rect fill=\"#F8F8F8\" height=\"10\" style=\"stroke: #F8F8F8; stroke-width: 1.5;\" width=\"50\" x=\"202\" y=\"99.4688\"/><rect fill=\"none\" height=\"40\" id=\"E11\" rx=\"10\" ry=\"10\" style=\"stroke: #383838; stroke-width: 1.5;\" width=\"50\" x=\"202\" y=\"85.5\"/><text fill=\"#000000\" font-family=\"sans-serif\" font-size=\"12\" lengthAdjust=\"spacingAndGlyphs\" textLength=\"22\" x=\"216\" y=\"101.6387\">y: B</text></a></g><g id=\"E1.E12\"><a href=\"psysml:665d223a-8fea-436a-b414-0efd919424fb\" target=\"_top\" title=\"psysml:665d223a-8fea-436a-b414-0efd919424fb\" xlink:actuate=\"onRequest\" xlink:href=\"psysml:665d223a-8fea-436a-b414-0efd919424fb\" xlink:show=\"new\" xlink:title=\"psysml:665d223a-8fea-436a-b414-0efd919424fb\" xlink:type=\"simple\"><rect fill=\"#FFFFFF\" height=\"40\" id=\"E12\" rx=\"10\" ry=\"10\" style=\"stroke: #383838; stroke-width: 1.5;\" width=\"50\" x=\"117\" y=\"85.5\"/><rect fill=\"#F8F8F8\" height=\"23.9688\" rx=\"10\" ry=\"10\" style=\"stroke: #F8F8F8; stroke-width: 1.5;\" width=\"50\" x=\"117\" y=\"85.5\"/><rect fill=\"#F8F8F8\" height=\"10\" style=\"stroke: #F8F8F8; stroke-width: 1.5;\" width=\"50\" x=\"117\" y=\"99.4688\"/><rect fill=\"none\" height=\"40\" id=\"E12\" rx=\"10\" ry=\"10\" style=\"stroke: #383838; stroke-width: 1.5;\" width=\"50\" x=\"117\" y=\"85.5\"/><text fill=\"#000000\" font-family=\"sans-serif\" font-size=\"12\" lengthAdjust=\"spacingAndGlyphs\" textLength=\"22\" x=\"131\" y=\"101.6387\">x: A</text></a></g><g id=\"E1.E13\"><a href=\"psysml:a1b35d80-8992-43c2-aa5d-6937f2901599\" target=\"_top\" title=\"psysml:a1b35d80-8992-43c2-aa5d-6937f2901599\" xlink:actuate=\"onRequest\" xlink:href=\"psysml:a1b35d80-8992-43c2-aa5d-6937f2901599\" xlink:show=\"new\" xlink:title=\"psysml:a1b35d80-8992-43c2-aa5d-6937f2901599\" xlink:type=\"simple\"><rect fill=\"#FFFFFF\" height=\"40\" id=\"E13\" rx=\"10\" ry=\"10\" style=\"stroke: #383838; stroke-width: 1.5;\" width=\"50\" x=\"32\" y=\"85.5\"/><rect fill=\"#F8F8F8\" height=\"23.9688\" rx=\"10\" ry=\"10\" style=\"stroke: #F8F8F8; stroke-width: 1.5;\" width=\"50\" x=\"32\" y=\"85.5\"/><rect fill=\"#F8F8F8\" height=\"10\" style=\"stroke: #F8F8F8; stroke-width: 1.5;\" width=\"50\" x=\"32\" y=\"99.4688\"/><rect fill=\"none\" height=\"40\" id=\"E13\" rx=\"10\" ry=\"10\" style=\"stroke: #383838; stroke-width: 1.5;\" width=\"50\" x=\"32\" y=\"85.5\"/><text fill=\"#000000\" font-family=\"sans-serif\" font-size=\"12\" lengthAdjust=\"spacingAndGlyphs\" textLength=\"22\" x=\"46\" y=\"101.6387\">y: B</text></a></g><!--MD5=[c128c0d70f0cf3b7fc7e3387c8d95156]\n",
       "@startuml\r\n",
       "skinparam ranksep 10\r\n",
       "skinparam rectangle {\r\n",
       " backgroundColor<<block>> LightGreen\r\n",
       "}\r\n",
       " skinparam monochrome true\r\n",
       "skinparam classbackgroundcolor white\r\n",
       "skinparam shadowing false\r\n",
       "skinparam wrapWidth 300\r\n",
       "hide circle\r\n",
       "\r\n",
       "package \"CircularImport\" as E1  [[psysml:6d002b47-1de9-4cb8-be5e-1d54cb7fff5c ]]  {\r\n",
       "package \"P1\" as E2  [[psysml:531dfa6c-428e-410a-a6f8-c5b9ff8ecb34 ]]  {\r\n",
       "rec def \"A\" as E3  <<(T,blue) part  def>> [[psysml:8ceeee5f-0d5a-4279-aee9-7758649ab8be ]] {\r\n",
       "}\r\n",
       "}\r\n",
       "package \"P2\" as E4  [[psysml:62a929fe-702a-4460-9e53-8584d6f6435e ]]  {\r\n",
       "rec def \"B\" as E5  <<(T,blue) part  def>> [[psysml:90844ba8-c1a9-4c46-b7c9-d1a2572e7365 ]] {\r\n",
       "}\r\n",
       "}\r\n",
       "package \"Test1\" as E6  [[psysml:0f17a3a9-0805-4d7f-ba6a-07da905c8abf ]]  {\r\n",
       "rec usage \"x: A\" as E7  [[psysml:9a31b8cb-b3f5-4478-b49b-73e9fd0f6da5 ]] {\r\n",
       "}\r\n",
       "rec usage \"y: B\" as E8  [[psysml:084cb86b-cc59-4a41-8b1c-7b7410cc5029 ]] {\r\n",
       "}\r\n",
       "}\r\n",
       "package \"Test2\" as E9  [[psysml:a06e7d3b-be80-4318-b479-ae1779c5974b ]]  {\r\n",
       "rec usage \"x: A\" as E10  [[psysml:377a64d2-1aa6-4a9b-ba95-6aeb6c1d992f ]] {\r\n",
       "}\r\n",
       "rec usage \"y: B\" as E11  [[psysml:7cdd5db6-fbbe-4f9d-b259-3a085be4f068 ]] {\r\n",
       "}\r\n",
       "}\r\n",
       "rec usage \"x: A\" as E12  [[psysml:665d223a-8fea-436a-b414-0efd919424fb ]] {\r\n",
       "}\r\n",
       "rec usage \"y: B\" as E13  [[psysml:a1b35d80-8992-43c2-aa5d-6937f2901599 ]] {\r\n",
       "}\r\n",
       "}\r\n",
       "@enduml\r\n",
       "\n",
       "PlantUML version 1.2020.13(Sat Jun 13 12:26:38 UTC 2020)\n",
       "(EPL source distribution)\n",
       "Java Runtime: OpenJDK Runtime Environment\n",
       "JVM: OpenJDK 64-Bit Server VM\n",
       "Default Encoding: UTF-8\n",
       "Language: en\n",
       "Country: null\n",
       "--></g></svg>"
      ]
     },
     "execution_count": 5,
     "metadata": {},
     "output_type": "execute_result"
    }
   ],
   "source": [
    "%viz --style=\"COMPTREE\" --view=\"Interconnection\" \"CircularImport\""
   ]
  },
  {
   "cell_type": "code",
   "execution_count": 6,
   "id": "fc635bda",
   "metadata": {
    "execution": {
     "iopub.execute_input": "2021-12-15T15:15:36.638222Z",
     "iopub.status.busy": "2021-12-15T15:15:36.637780Z",
     "iopub.status.idle": "2021-12-15T15:15:36.646051Z",
     "shell.execute_reply": "2021-12-15T15:15:36.646507Z"
    }
   },
   "outputs": [
    {
     "data": {
      "image/svg+xml": [
       "<?xml version=\"1.0\" encoding=\"UTF-8\" standalone=\"no\"?><svg xmlns=\"http://www.w3.org/2000/svg\" xmlns:xlink=\"http://www.w3.org/1999/xlink\" contentScriptType=\"application/ecmascript\" contentStyleType=\"text/css\" height=\"12px\" preserveAspectRatio=\"none\" style=\"width:12px;height:12px;\" version=\"1.1\" viewBox=\"0 0 12 12\" width=\"12px\" zoomAndPan=\"magnify\"><defs/><g><!--MD5=[655b888544ca4751ea36af1068543f84]\n",
       "@startuml\r\n",
       "skinparam ranksep 8\r\n",
       " skinparam monochrome true\r\n",
       "skinparam classbackgroundcolor white\r\n",
       "skinparam shadowing false\r\n",
       "skinparam wrapWidth 300\r\n",
       "hide circle\r\n",
       "\r\n",
       "@enduml\r\n",
       "\n",
       "PlantUML version 1.2020.13(Sat Jun 13 12:26:38 UTC 2020)\n",
       "(EPL source distribution)\n",
       "Java Runtime: OpenJDK Runtime Environment\n",
       "JVM: OpenJDK 64-Bit Server VM\n",
       "Default Encoding: UTF-8\n",
       "Language: en\n",
       "Country: null\n",
       "--></g></svg>"
      ]
     },
     "execution_count": 6,
     "metadata": {},
     "output_type": "execute_result"
    }
   ],
   "source": [
    "%viz --style=\"COMPTREE\" --view=\"Action\" \"CircularImport\""
   ]
  },
  {
   "cell_type": "code",
   "execution_count": 7,
   "id": "6383cf0a",
   "metadata": {
    "execution": {
     "iopub.execute_input": "2021-12-15T15:15:36.696228Z",
     "iopub.status.busy": "2021-12-15T15:15:36.695785Z",
     "iopub.status.idle": "2021-12-15T15:15:36.708197Z",
     "shell.execute_reply": "2021-12-15T15:15:36.708512Z"
    }
   },
   "outputs": [
    {
     "data": {
      "image/svg+xml": [
       "<?xml version=\"1.0\" encoding=\"UTF-8\" standalone=\"no\"?><svg xmlns=\"http://www.w3.org/2000/svg\" xmlns:xlink=\"http://www.w3.org/1999/xlink\" contentScriptType=\"application/ecmascript\" contentStyleType=\"text/css\" height=\"12px\" preserveAspectRatio=\"none\" style=\"width:12px;height:12px;\" version=\"1.1\" viewBox=\"0 0 12 12\" width=\"12px\" zoomAndPan=\"magnify\"><defs/><g><!--MD5=[803fc46c337be7a5c8a9831e35356779]\n",
       "@startuml\r\n",
       "skinparam roundcorner 20\r\n",
       "skinparam BoxPadding 20\r\n",
       "skinparam SequenceBoxBackgroundColor #white\r\n",
       "skinparam style strictuml\r\n",
       "skinparam maxMessageSize 100\r\n",
       " skinparam monochrome true\r\n",
       "skinparam classbackgroundcolor white\r\n",
       "skinparam shadowing false\r\n",
       "skinparam wrapWidth 300\r\n",
       "hide circle\r\n",
       "\r\n",
       "@enduml\r\n",
       "\n",
       "PlantUML version 1.2020.13(Sat Jun 13 12:26:38 UTC 2020)\n",
       "(EPL source distribution)\n",
       "Java Runtime: OpenJDK Runtime Environment\n",
       "JVM: OpenJDK 64-Bit Server VM\n",
       "Default Encoding: UTF-8\n",
       "Language: en\n",
       "Country: null\n",
       "--></g></svg>"
      ]
     },
     "execution_count": 7,
     "metadata": {},
     "output_type": "execute_result"
    }
   ],
   "source": [
    "%viz --style=\"COMPTREE\" --view=\"Sequence\" \"CircularImport\""
   ]
  },
  {
   "cell_type": "code",
   "execution_count": 8,
   "id": "ff59ff39",
   "metadata": {
    "execution": {
     "iopub.execute_input": "2021-12-15T15:15:36.758390Z",
     "iopub.status.busy": "2021-12-15T15:15:36.757974Z",
     "iopub.status.idle": "2021-12-15T15:15:36.816302Z",
     "shell.execute_reply": "2021-12-15T15:15:36.815784Z"
    }
   },
   "outputs": [
    {
     "data": {
      "image/svg+xml": [
       "<?xml version=\"1.0\" encoding=\"UTF-8\" standalone=\"no\"?><svg xmlns=\"http://www.w3.org/2000/svg\" xmlns:xlink=\"http://www.w3.org/1999/xlink\" contentScriptType=\"application/ecmascript\" contentStyleType=\"text/css\" height=\"303px\" preserveAspectRatio=\"none\" style=\"width:518px;height:303px;\" version=\"1.1\" viewBox=\"0 0 518 303\" width=\"518px\" zoomAndPan=\"magnify\"><defs/><g><!--MD5=[fbc87193dbaf4d95561dea2c320d4a47]\n",
       "cluster E1--><a href=\"psysml:6d002b47-1de9-4cb8-be5e-1d54cb7fff5c\" target=\"_top\" title=\"psysml:6d002b47-1de9-4cb8-be5e-1d54cb7fff5c\" xlink:actuate=\"onRequest\" xlink:href=\"psysml:6d002b47-1de9-4cb8-be5e-1d54cb7fff5c\" xlink:show=\"new\" xlink:title=\"psysml:6d002b47-1de9-4cb8-be5e-1d54cb7fff5c\" xlink:type=\"simple\"><polygon fill=\"#FFFFFF\" points=\"16,6,117,6,124,28.2969,496,28.2969,496,291,16,291,16,6\" style=\"stroke: #000000; stroke-width: 1.5;\"/><line style=\"stroke: #000000; stroke-width: 1.5;\" x1=\"16\" x2=\"124\" y1=\"28.2969\" y2=\"28.2969\"/><text fill=\"#000000\" font-family=\"sans-serif\" font-size=\"14\" font-weight=\"bold\" lengthAdjust=\"spacingAndGlyphs\" textLength=\"95\" x=\"20\" y=\"20.9951\">CircularImport</text></a><!--MD5=[e4f7fae6ed58524ba242bb0b0d3be6b7]\n",
       "cluster E2--><a href=\"psysml:531dfa6c-428e-410a-a6f8-c5b9ff8ecb34\" target=\"_top\" title=\"psysml:531dfa6c-428e-410a-a6f8-c5b9ff8ecb34\" xlink:actuate=\"onRequest\" xlink:href=\"psysml:531dfa6c-428e-410a-a6f8-c5b9ff8ecb34\" xlink:show=\"new\" xlink:title=\"psysml:531dfa6c-428e-410a-a6f8-c5b9ff8ecb34\" xlink:type=\"simple\"><polygon fill=\"#FFFFFF\" points=\"331,170,355,170,362,192.2969,433,192.2969,433,267,331,267,331,170\" style=\"stroke: #000000; stroke-width: 1.5;\"/><line style=\"stroke: #000000; stroke-width: 1.5;\" x1=\"331\" x2=\"362\" y1=\"192.2969\" y2=\"192.2969\"/><text fill=\"#000000\" font-family=\"sans-serif\" font-size=\"14\" font-weight=\"bold\" lengthAdjust=\"spacingAndGlyphs\" textLength=\"18\" x=\"335\" y=\"184.9951\">P1</text></a><!--MD5=[f6df4d0ebaf0b5dfb2ced0ae5af7c670]\n",
       "cluster E4--><a href=\"psysml:62a929fe-702a-4460-9e53-8584d6f6435e\" target=\"_top\" title=\"psysml:62a929fe-702a-4460-9e53-8584d6f6435e\" xlink:actuate=\"onRequest\" xlink:href=\"psysml:62a929fe-702a-4460-9e53-8584d6f6435e\" xlink:show=\"new\" xlink:title=\"psysml:62a929fe-702a-4460-9e53-8584d6f6435e\" xlink:type=\"simple\"><polygon fill=\"#FFFFFF\" points=\"79,170,103,170,110,192.2969,181,192.2969,181,267,79,267,79,170\" style=\"stroke: #000000; stroke-width: 1.5;\"/><line style=\"stroke: #000000; stroke-width: 1.5;\" x1=\"79\" x2=\"110\" y1=\"192.2969\" y2=\"192.2969\"/><text fill=\"#000000\" font-family=\"sans-serif\" font-size=\"14\" font-weight=\"bold\" lengthAdjust=\"spacingAndGlyphs\" textLength=\"18\" x=\"83\" y=\"184.9951\">P2</text></a><!--MD5=[14e3b0961a2654348d326746436168a1]\n",
       "cluster E6--><a href=\"psysml:0f17a3a9-0805-4d7f-ba6a-07da905c8abf\" target=\"_top\" title=\"psysml:0f17a3a9-0805-4d7f-ba6a-07da905c8abf\" xlink:actuate=\"onRequest\" xlink:href=\"psysml:0f17a3a9-0805-4d7f-ba6a-07da905c8abf\" xlink:show=\"new\" xlink:title=\"psysml:0f17a3a9-0805-4d7f-ba6a-07da905c8abf\" xlink:type=\"simple\"><polygon fill=\"#FFFFFF\" points=\"268,49,314,49,321,71.2969,419,71.2969,419,146,268,146,268,49\" style=\"stroke: #000000; stroke-width: 1.5;\"/><line style=\"stroke: #000000; stroke-width: 1.5;\" x1=\"268\" x2=\"321\" y1=\"71.2969\" y2=\"71.2969\"/><text fill=\"#000000\" font-family=\"sans-serif\" font-size=\"14\" font-weight=\"bold\" lengthAdjust=\"spacingAndGlyphs\" textLength=\"40\" x=\"272\" y=\"63.9951\">Test1</text></a><!--MD5=[7f149f147074ac12df2cb0a7728a5fb0]\n",
       "cluster E9--><a href=\"psysml:a06e7d3b-be80-4318-b479-ae1779c5974b\" target=\"_top\" title=\"psysml:a06e7d3b-be80-4318-b479-ae1779c5974b\" xlink:actuate=\"onRequest\" xlink:href=\"psysml:a06e7d3b-be80-4318-b479-ae1779c5974b\" xlink:show=\"new\" xlink:title=\"psysml:a06e7d3b-be80-4318-b479-ae1779c5974b\" xlink:type=\"simple\"><polygon fill=\"#FFFFFF\" points=\"93,49,139,49,146,71.2969,244,71.2969,244,146,93,146,93,49\" style=\"stroke: #000000; stroke-width: 1.5;\"/><line style=\"stroke: #000000; stroke-width: 1.5;\" x1=\"93\" x2=\"146\" y1=\"71.2969\" y2=\"71.2969\"/><text fill=\"#000000\" font-family=\"sans-serif\" font-size=\"14\" font-weight=\"bold\" lengthAdjust=\"spacingAndGlyphs\" textLength=\"40\" x=\"97\" y=\"63.9951\">Test2</text></a><!--MD5=[49a0ec8f00dab7302a31f22d0f0fe584]\n",
       "class E12--><a href=\"psysml:665d223a-8fea-436a-b414-0efd919424fb\" target=\"_top\" title=\"psysml:665d223a-8fea-436a-b414-0efd919424fb\" xlink:actuate=\"onRequest\" xlink:href=\"psysml:665d223a-8fea-436a-b414-0efd919424fb\" xlink:show=\"new\" xlink:title=\"psysml:665d223a-8fea-436a-b414-0efd919424fb\" xlink:type=\"simple\"><rect fill=\"#FFFFFF\" height=\"45.9375\" id=\"E12\" rx=\"10\" ry=\"10\" style=\"stroke: #383838; stroke-width: 1.5;\" width=\"42\" x=\"438\" y=\"84\"/><text fill=\"#000000\" font-family=\"sans-serif\" font-size=\"12\" font-style=\"italic\" lengthAdjust=\"spacingAndGlyphs\" textLength=\"40\" x=\"439\" y=\"100.1387\">«part»</text><text fill=\"#000000\" font-family=\"sans-serif\" font-size=\"12\" lengthAdjust=\"spacingAndGlyphs\" textLength=\"22\" x=\"446\" y=\"114.1074\">x: A</text><line style=\"stroke: #383838; stroke-width: 1.5;\" x1=\"439\" x2=\"479\" y1=\"121.9375\" y2=\"121.9375\"/></a><!--MD5=[ee3c913d1a06f366521f9ef512b67efe]\n",
       "class E13--><a href=\"psysml:a1b35d80-8992-43c2-aa5d-6937f2901599\" target=\"_top\" title=\"psysml:a1b35d80-8992-43c2-aa5d-6937f2901599\" xlink:actuate=\"onRequest\" xlink:href=\"psysml:a1b35d80-8992-43c2-aa5d-6937f2901599\" xlink:show=\"new\" xlink:title=\"psysml:a1b35d80-8992-43c2-aa5d-6937f2901599\" xlink:type=\"simple\"><rect fill=\"#FFFFFF\" height=\"45.9375\" id=\"E13\" rx=\"10\" ry=\"10\" style=\"stroke: #383838; stroke-width: 1.5;\" width=\"42\" x=\"32\" y=\"84\"/><text fill=\"#000000\" font-family=\"sans-serif\" font-size=\"12\" font-style=\"italic\" lengthAdjust=\"spacingAndGlyphs\" textLength=\"40\" x=\"33\" y=\"100.1387\">«part»</text><text fill=\"#000000\" font-family=\"sans-serif\" font-size=\"12\" lengthAdjust=\"spacingAndGlyphs\" textLength=\"22\" x=\"40\" y=\"114.1074\">y: B</text><line style=\"stroke: #383838; stroke-width: 1.5;\" x1=\"33\" x2=\"73\" y1=\"121.9375\" y2=\"121.9375\"/></a><!--MD5=[09b614a08d8cba4a07c9adeb5e0fee81]\n",
       "class E3--><a href=\"psysml:8ceeee5f-0d5a-4279-aee9-7758649ab8be\" target=\"_top\" title=\"psysml:8ceeee5f-0d5a-4279-aee9-7758649ab8be\" xlink:actuate=\"onRequest\" xlink:href=\"psysml:8ceeee5f-0d5a-4279-aee9-7758649ab8be\" xlink:show=\"new\" xlink:title=\"psysml:8ceeee5f-0d5a-4279-aee9-7758649ab8be\" xlink:type=\"simple\"><rect fill=\"#FFFFFF\" height=\"45.9375\" id=\"E3\" style=\"stroke: #383838; stroke-width: 1.5;\" width=\"70\" x=\"347\" y=\"205\"/><text fill=\"#000000\" font-family=\"sans-serif\" font-size=\"12\" font-style=\"italic\" lengthAdjust=\"spacingAndGlyphs\" textLength=\"68\" x=\"348\" y=\"221.1387\">«part  def»</text><text fill=\"#000000\" font-family=\"sans-serif\" font-size=\"12\" lengthAdjust=\"spacingAndGlyphs\" textLength=\"8\" x=\"378\" y=\"235.1074\">A</text><line style=\"stroke: #383838; stroke-width: 1.5;\" x1=\"348\" x2=\"416\" y1=\"242.9375\" y2=\"242.9375\"/></a><!--MD5=[270fce915f116d4de14055a7c1d9a0f3]\n",
       "class E5--><a href=\"psysml:90844ba8-c1a9-4c46-b7c9-d1a2572e7365\" target=\"_top\" title=\"psysml:90844ba8-c1a9-4c46-b7c9-d1a2572e7365\" xlink:actuate=\"onRequest\" xlink:href=\"psysml:90844ba8-c1a9-4c46-b7c9-d1a2572e7365\" xlink:show=\"new\" xlink:title=\"psysml:90844ba8-c1a9-4c46-b7c9-d1a2572e7365\" xlink:type=\"simple\"><rect fill=\"#FFFFFF\" height=\"45.9375\" id=\"E5\" style=\"stroke: #383838; stroke-width: 1.5;\" width=\"70\" x=\"95\" y=\"205\"/><text fill=\"#000000\" font-family=\"sans-serif\" font-size=\"12\" font-style=\"italic\" lengthAdjust=\"spacingAndGlyphs\" textLength=\"68\" x=\"96\" y=\"221.1387\">«part  def»</text><text fill=\"#000000\" font-family=\"sans-serif\" font-size=\"12\" lengthAdjust=\"spacingAndGlyphs\" textLength=\"8\" x=\"126\" y=\"235.1074\">B</text><line style=\"stroke: #383838; stroke-width: 1.5;\" x1=\"96\" x2=\"164\" y1=\"242.9375\" y2=\"242.9375\"/></a><!--MD5=[2156ba9850f5573cc1fc38a6a4b2f02b]\n",
       "class E7--><a href=\"psysml:9a31b8cb-b3f5-4478-b49b-73e9fd0f6da5\" target=\"_top\" title=\"psysml:9a31b8cb-b3f5-4478-b49b-73e9fd0f6da5\" xlink:actuate=\"onRequest\" xlink:href=\"psysml:9a31b8cb-b3f5-4478-b49b-73e9fd0f6da5\" xlink:show=\"new\" xlink:title=\"psysml:9a31b8cb-b3f5-4478-b49b-73e9fd0f6da5\" xlink:type=\"simple\"><rect fill=\"#FFFFFF\" height=\"45.9375\" id=\"E7\" rx=\"10\" ry=\"10\" style=\"stroke: #383838; stroke-width: 1.5;\" width=\"42\" x=\"361\" y=\"84\"/><text fill=\"#000000\" font-family=\"sans-serif\" font-size=\"12\" font-style=\"italic\" lengthAdjust=\"spacingAndGlyphs\" textLength=\"40\" x=\"362\" y=\"100.1387\">«part»</text><text fill=\"#000000\" font-family=\"sans-serif\" font-size=\"12\" lengthAdjust=\"spacingAndGlyphs\" textLength=\"22\" x=\"369\" y=\"114.1074\">x: A</text><line style=\"stroke: #383838; stroke-width: 1.5;\" x1=\"362\" x2=\"402\" y1=\"121.9375\" y2=\"121.9375\"/></a><!--MD5=[b9389687b975829384b498ac4b7476b2]\n",
       "class E8--><a href=\"psysml:084cb86b-cc59-4a41-8b1c-7b7410cc5029\" target=\"_top\" title=\"psysml:084cb86b-cc59-4a41-8b1c-7b7410cc5029\" xlink:actuate=\"onRequest\" xlink:href=\"psysml:084cb86b-cc59-4a41-8b1c-7b7410cc5029\" xlink:show=\"new\" xlink:title=\"psysml:084cb86b-cc59-4a41-8b1c-7b7410cc5029\" xlink:type=\"simple\"><rect fill=\"#FFFFFF\" height=\"45.9375\" id=\"E8\" rx=\"10\" ry=\"10\" style=\"stroke: #383838; stroke-width: 1.5;\" width=\"42\" x=\"284\" y=\"84\"/><text fill=\"#000000\" font-family=\"sans-serif\" font-size=\"12\" font-style=\"italic\" lengthAdjust=\"spacingAndGlyphs\" textLength=\"40\" x=\"285\" y=\"100.1387\">«part»</text><text fill=\"#000000\" font-family=\"sans-serif\" font-size=\"12\" lengthAdjust=\"spacingAndGlyphs\" textLength=\"22\" x=\"292\" y=\"114.1074\">y: B</text><line style=\"stroke: #383838; stroke-width: 1.5;\" x1=\"285\" x2=\"325\" y1=\"121.9375\" y2=\"121.9375\"/></a><!--MD5=[96f4274e9e20536e775497830990834d]\n",
       "class E10--><a href=\"psysml:377a64d2-1aa6-4a9b-ba95-6aeb6c1d992f\" target=\"_top\" title=\"psysml:377a64d2-1aa6-4a9b-ba95-6aeb6c1d992f\" xlink:actuate=\"onRequest\" xlink:href=\"psysml:377a64d2-1aa6-4a9b-ba95-6aeb6c1d992f\" xlink:show=\"new\" xlink:title=\"psysml:377a64d2-1aa6-4a9b-ba95-6aeb6c1d992f\" xlink:type=\"simple\"><rect fill=\"#FFFFFF\" height=\"45.9375\" id=\"E10\" rx=\"10\" ry=\"10\" style=\"stroke: #383838; stroke-width: 1.5;\" width=\"42\" x=\"186\" y=\"84\"/><text fill=\"#000000\" font-family=\"sans-serif\" font-size=\"12\" font-style=\"italic\" lengthAdjust=\"spacingAndGlyphs\" textLength=\"40\" x=\"187\" y=\"100.1387\">«part»</text><text fill=\"#000000\" font-family=\"sans-serif\" font-size=\"12\" lengthAdjust=\"spacingAndGlyphs\" textLength=\"22\" x=\"194\" y=\"114.1074\">x: A</text><line style=\"stroke: #383838; stroke-width: 1.5;\" x1=\"187\" x2=\"227\" y1=\"121.9375\" y2=\"121.9375\"/></a><!--MD5=[1dd1bfd58a279cf63c5f349dbc8fc6a1]\n",
       "class E11--><a href=\"psysml:7cdd5db6-fbbe-4f9d-b259-3a085be4f068\" target=\"_top\" title=\"psysml:7cdd5db6-fbbe-4f9d-b259-3a085be4f068\" xlink:actuate=\"onRequest\" xlink:href=\"psysml:7cdd5db6-fbbe-4f9d-b259-3a085be4f068\" xlink:show=\"new\" xlink:title=\"psysml:7cdd5db6-fbbe-4f9d-b259-3a085be4f068\" xlink:type=\"simple\"><rect fill=\"#FFFFFF\" height=\"45.9375\" id=\"E11\" rx=\"10\" ry=\"10\" style=\"stroke: #383838; stroke-width: 1.5;\" width=\"42\" x=\"109\" y=\"84\"/><text fill=\"#000000\" font-family=\"sans-serif\" font-size=\"12\" font-style=\"italic\" lengthAdjust=\"spacingAndGlyphs\" textLength=\"40\" x=\"110\" y=\"100.1387\">«part»</text><text fill=\"#000000\" font-family=\"sans-serif\" font-size=\"12\" lengthAdjust=\"spacingAndGlyphs\" textLength=\"22\" x=\"117\" y=\"114.1074\">y: B</text><line style=\"stroke: #383838; stroke-width: 1.5;\" x1=\"110\" x2=\"150\" y1=\"121.9375\" y2=\"121.9375\"/></a><!--MD5=[14ccda38c055a5c0da953d572bc50960]\n",
       "link E7 to E3--><a href=\"psysml:0b2c7bde-3c6f-4711-9ee8-a744dba64aec\" target=\"_top\" title=\"psysml:0b2c7bde-3c6f-4711-9ee8-a744dba64aec\" xlink:actuate=\"onRequest\" xlink:href=\"psysml:0b2c7bde-3c6f-4711-9ee8-a744dba64aec\" xlink:show=\"new\" xlink:title=\"psysml:0b2c7bde-3c6f-4711-9ee8-a744dba64aec\" xlink:type=\"simple\"><path d=\"M382,130.1 C382,145.37 382,166.16 382,184.57 \" fill=\"none\" id=\"E7-&gt;E3\" style=\"stroke: #383838; stroke-width: 1.0;\"/><polygon fill=\"#FFFFFF\" points=\"382,204.61,375,185.61,389,185.61,382,204.61\" style=\"stroke: #383838; stroke-width: 1.0;\"/><ellipse cx=\"377\" cy=\"179.91\" fill=\"#383838\" rx=\"2\" ry=\"2\" style=\"stroke: #383838; stroke-width: 1.0;\"/><ellipse cx=\"387\" cy=\"179.91\" fill=\"#383838\" rx=\"2\" ry=\"2\" style=\"stroke: #383838; stroke-width: 1.0;\"/></a><!--MD5=[1ccb2481ffa92f8d51a74ee30c51832a]\n",
       "link E8 to E5--><a href=\"psysml:16eea2e1-2a1c-45c0-89dc-072c92b0db51\" target=\"_top\" title=\"psysml:16eea2e1-2a1c-45c0-89dc-072c92b0db51\" xlink:actuate=\"onRequest\" xlink:href=\"psysml:16eea2e1-2a1c-45c0-89dc-072c92b0db51\" xlink:show=\"new\" xlink:title=\"psysml:16eea2e1-2a1c-45c0-89dc-072c92b0db51\" xlink:type=\"simple\"><path d=\"M283.84,124.59 C272.23,133.52 257.5,144.61 244,154 C224.13,167.82 201.8,182.34 182.21,194.75 \" fill=\"none\" id=\"E8-&gt;E5\" style=\"stroke: #383838; stroke-width: 1.0;\"/><polygon fill=\"#FFFFFF\" points=\"165.13,205.48,177.4956,189.4459,184.9425,201.301,165.13,205.48\" style=\"stroke: #383838; stroke-width: 1.0;\"/><ellipse cx=\"183.3862\" cy=\"188.1075\" fill=\"#383838\" rx=\"2\" ry=\"2\" style=\"stroke: #383838; stroke-width: 1.0;\"/><ellipse cx=\"188.7054\" cy=\"196.5755\" fill=\"#383838\" rx=\"2\" ry=\"2\" style=\"stroke: #383838; stroke-width: 1.0;\"/></a><!--MD5=[feeac5eb423634930294aa81f2d25a4c]\n",
       "link E10 to E3--><a href=\"psysml:0ac0ff17-b961-483b-88a6-6c34531d2872\" target=\"_top\" title=\"psysml:0ac0ff17-b961-483b-88a6-6c34531d2872\" xlink:actuate=\"onRequest\" xlink:href=\"psysml:0ac0ff17-b961-483b-88a6-6c34531d2872\" xlink:show=\"new\" xlink:title=\"psysml:0ac0ff17-b961-483b-88a6-6c34531d2872\" xlink:type=\"simple\"><path d=\"M228.16,124.59 C239.77,133.52 254.5,144.61 268,154 C287.87,167.82 310.2,182.34 329.79,194.75 \" fill=\"none\" id=\"E10-&gt;E3\" style=\"stroke: #383838; stroke-width: 1.0;\"/><polygon fill=\"#FFFFFF\" points=\"346.87,205.48,327.0575,201.301,334.5044,189.4459,346.87,205.48\" style=\"stroke: #383838; stroke-width: 1.0;\"/><ellipse cx=\"323.2946\" cy=\"196.5755\" fill=\"#383838\" rx=\"2\" ry=\"2\" style=\"stroke: #383838; stroke-width: 1.0;\"/><ellipse cx=\"328.6138\" cy=\"188.1075\" fill=\"#383838\" rx=\"2\" ry=\"2\" style=\"stroke: #383838; stroke-width: 1.0;\"/></a><!--MD5=[07b77f6f309248d16187045709d1c26e]\n",
       "link E11 to E5--><a href=\"psysml:7353245a-aec5-4316-8af8-2852475c4dc4\" target=\"_top\" title=\"psysml:7353245a-aec5-4316-8af8-2852475c4dc4\" xlink:actuate=\"onRequest\" xlink:href=\"psysml:7353245a-aec5-4316-8af8-2852475c4dc4\" xlink:show=\"new\" xlink:title=\"psysml:7353245a-aec5-4316-8af8-2852475c4dc4\" xlink:type=\"simple\"><path d=\"M130,130.1 C130,145.37 130,166.16 130,184.57 \" fill=\"none\" id=\"E11-&gt;E5\" style=\"stroke: #383838; stroke-width: 1.0;\"/><polygon fill=\"#FFFFFF\" points=\"130,204.61,123,185.61,137,185.61,130,204.61\" style=\"stroke: #383838; stroke-width: 1.0;\"/><ellipse cx=\"125\" cy=\"179.91\" fill=\"#383838\" rx=\"2\" ry=\"2\" style=\"stroke: #383838; stroke-width: 1.0;\"/><ellipse cx=\"135\" cy=\"179.91\" fill=\"#383838\" rx=\"2\" ry=\"2\" style=\"stroke: #383838; stroke-width: 1.0;\"/></a><!--MD5=[39f41a0e550fb3d73b4d8135617e30a2]\n",
       "link E12 to E3--><a href=\"psysml:6cc10db6-ba98-48a2-919a-a7b34cb2bdfc\" target=\"_top\" title=\"psysml:6cc10db6-ba98-48a2-919a-a7b34cb2bdfc\" xlink:actuate=\"onRequest\" xlink:href=\"psysml:6cc10db6-ba98-48a2-919a-a7b34cb2bdfc\" xlink:show=\"new\" xlink:title=\"psysml:6cc10db6-ba98-48a2-919a-a7b34cb2bdfc\" xlink:type=\"simple\"><path d=\"M444.7,130.1 C434.28,146.2 419.89,168.44 407.53,187.55 \" fill=\"none\" id=\"E12-&gt;E3\" style=\"stroke: #383838; stroke-width: 1.0;\"/><polygon fill=\"#FFFFFF\" points=\"396.49,204.61,400.9313,184.8546,412.6866,192.4581,396.49,204.61\" style=\"stroke: #383838; stroke-width: 1.0;\"/><ellipse cx=\"405.7063\" cy=\"181.1547\" fill=\"#383838\" rx=\"2\" ry=\"2\" style=\"stroke: #383838; stroke-width: 1.0;\"/><ellipse cx=\"414.103\" cy=\"186.5858\" fill=\"#383838\" rx=\"2\" ry=\"2\" style=\"stroke: #383838; stroke-width: 1.0;\"/></a><!--MD5=[066b2d8af59fea80ccdb3d54ad5c1091]\n",
       "link E13 to E5--><a href=\"psysml:fb180b05-d2cf-42d1-bf2a-01829ad20206\" target=\"_top\" title=\"psysml:fb180b05-d2cf-42d1-bf2a-01829ad20206\" xlink:actuate=\"onRequest\" xlink:href=\"psysml:fb180b05-d2cf-42d1-bf2a-01829ad20206\" xlink:show=\"new\" xlink:title=\"psysml:fb180b05-d2cf-42d1-bf2a-01829ad20206\" xlink:type=\"simple\"><path d=\"M67.3,130.1 C77.72,146.2 92.11,168.44 104.47,187.55 \" fill=\"none\" id=\"E13-&gt;E5\" style=\"stroke: #383838; stroke-width: 1.0;\"/><polygon fill=\"#FFFFFF\" points=\"115.51,204.61,99.3134,192.4581,111.0687,184.8546,115.51,204.61\" style=\"stroke: #383838; stroke-width: 1.0;\"/><ellipse cx=\"97.897\" cy=\"186.5858\" fill=\"#383838\" rx=\"2\" ry=\"2\" style=\"stroke: #383838; stroke-width: 1.0;\"/><ellipse cx=\"106.2937\" cy=\"181.1547\" fill=\"#383838\" rx=\"2\" ry=\"2\" style=\"stroke: #383838; stroke-width: 1.0;\"/></a><!--MD5=[b4b5c19f5fd7d851e75cc07391f43165]\n",
       "@startuml\r\n",
       " skinparam monochrome true\r\n",
       "skinparam classbackgroundcolor white\r\n",
       "skinparam shadowing false\r\n",
       "skinparam wrapWidth 300\r\n",
       "hide circle\r\n",
       "\r\n",
       "package \"CircularImport\" as E1  [[psysml:6d002b47-1de9-4cb8-be5e-1d54cb7fff5c ]]  {\r\n",
       "package \"P1\" as E2  [[psysml:531dfa6c-428e-410a-a6f8-c5b9ff8ecb34 ]]  {\r\n",
       "comp def \"A\" as E3  <<(T,blue) part  def>> [[psysml:8ceeee5f-0d5a-4279-aee9-7758649ab8be ]] {\r\n",
       "}\r\n",
       "}\r\n",
       "package \"P2\" as E4  [[psysml:62a929fe-702a-4460-9e53-8584d6f6435e ]]  {\r\n",
       "comp def \"B\" as E5  <<(T,blue) part  def>> [[psysml:90844ba8-c1a9-4c46-b7c9-d1a2572e7365 ]] {\r\n",
       "}\r\n",
       "}\r\n",
       "package \"Test1\" as E6  [[psysml:0f17a3a9-0805-4d7f-ba6a-07da905c8abf ]]  {\r\n",
       "comp usage \"x: A \" as E7  <<(T,blue) part>> [[psysml:9a31b8cb-b3f5-4478-b49b-73e9fd0f6da5 ]] {\r\n",
       "}\r\n",
       "comp usage \"y: B \" as E8  <<(T,blue) part>> [[psysml:084cb86b-cc59-4a41-8b1c-7b7410cc5029 ]] {\r\n",
       "}\r\n",
       "}\r\n",
       "package \"Test2\" as E9  [[psysml:a06e7d3b-be80-4318-b479-ae1779c5974b ]]  {\r\n",
       "comp usage \"x: A \" as E10  <<(T,blue) part>> [[psysml:377a64d2-1aa6-4a9b-ba95-6aeb6c1d992f ]] {\r\n",
       "}\r\n",
       "comp usage \"y: B \" as E11  <<(T,blue) part>> [[psysml:7cdd5db6-fbbe-4f9d-b259-3a085be4f068 ]] {\r\n",
       "}\r\n",
       "}\r\n",
       "comp usage \"x: A \" as E12  <<(T,blue) part>> [[psysml:665d223a-8fea-436a-b414-0efd919424fb ]] {\r\n",
       "}\r\n",
       "comp usage \"y: B \" as E13  <<(T,blue) part>> [[psysml:a1b35d80-8992-43c2-aa5d-6937f2901599 ]] {\r\n",
       "}\r\n",
       "}\r\n",
       "E7 - -:|> E3 [[psysml:0b2c7bde-3c6f-4711-9ee8-a744dba64aec ]] \r\n",
       "E8 - -:|> E5 [[psysml:16eea2e1-2a1c-45c0-89dc-072c92b0db51 ]] \r\n",
       "E10 - -:|> E3 [[psysml:0ac0ff17-b961-483b-88a6-6c34531d2872 ]] \r\n",
       "E11 - -:|> E5 [[psysml:7353245a-aec5-4316-8af8-2852475c4dc4 ]] \r\n",
       "E12 - -:|> E3 [[psysml:6cc10db6-ba98-48a2-919a-a7b34cb2bdfc ]] \r\n",
       "E13 - -:|> E5 [[psysml:fb180b05-d2cf-42d1-bf2a-01829ad20206 ]] \r\n",
       "@enduml\r\n",
       "\n",
       "PlantUML version 1.2020.13(Sat Jun 13 12:26:38 UTC 2020)\n",
       "(EPL source distribution)\n",
       "Java Runtime: OpenJDK Runtime Environment\n",
       "JVM: OpenJDK 64-Bit Server VM\n",
       "Default Encoding: UTF-8\n",
       "Language: en\n",
       "Country: null\n",
       "--></g></svg>"
      ]
     },
     "execution_count": 8,
     "metadata": {},
     "output_type": "execute_result"
    }
   ],
   "source": [
    "%viz --style=\"COMPTREE\" --view=\"MIXED\" \"CircularImport\""
   ]
  },
  {
   "cell_type": "code",
   "execution_count": 9,
   "id": "5f3cb358",
   "metadata": {
    "execution": {
     "iopub.execute_input": "2021-12-15T15:15:36.864924Z",
     "iopub.status.busy": "2021-12-15T15:15:36.864501Z",
     "iopub.status.idle": "2021-12-15T15:15:36.923789Z",
     "shell.execute_reply": "2021-12-15T15:15:36.923426Z"
    }
   },
   "outputs": [
    {
     "data": {
      "image/svg+xml": [
       "<?xml version=\"1.0\" encoding=\"UTF-8\" standalone=\"no\"?><svg xmlns=\"http://www.w3.org/2000/svg\" xmlns:xlink=\"http://www.w3.org/1999/xlink\" contentScriptType=\"application/ecmascript\" contentStyleType=\"text/css\" height=\"303px\" preserveAspectRatio=\"none\" style=\"width:518px;height:303px;\" version=\"1.1\" viewBox=\"0 0 518 303\" width=\"518px\" zoomAndPan=\"magnify\"><defs/><g><!--MD5=[fbc87193dbaf4d95561dea2c320d4a47]\n",
       "cluster E1--><a href=\"psysml:6d002b47-1de9-4cb8-be5e-1d54cb7fff5c\" target=\"_top\" title=\"psysml:6d002b47-1de9-4cb8-be5e-1d54cb7fff5c\" xlink:actuate=\"onRequest\" xlink:href=\"psysml:6d002b47-1de9-4cb8-be5e-1d54cb7fff5c\" xlink:show=\"new\" xlink:title=\"psysml:6d002b47-1de9-4cb8-be5e-1d54cb7fff5c\" xlink:type=\"simple\"><polygon fill=\"#FFFFFF\" points=\"16,6,117,6,124,28.2969,496,28.2969,496,291,16,291,16,6\" style=\"stroke: #000000; stroke-width: 1.5;\"/><line style=\"stroke: #000000; stroke-width: 1.5;\" x1=\"16\" x2=\"124\" y1=\"28.2969\" y2=\"28.2969\"/><text fill=\"#000000\" font-family=\"sans-serif\" font-size=\"14\" font-weight=\"bold\" lengthAdjust=\"spacingAndGlyphs\" textLength=\"95\" x=\"20\" y=\"20.9951\">CircularImport</text></a><!--MD5=[e4f7fae6ed58524ba242bb0b0d3be6b7]\n",
       "cluster E2--><a href=\"psysml:531dfa6c-428e-410a-a6f8-c5b9ff8ecb34\" target=\"_top\" title=\"psysml:531dfa6c-428e-410a-a6f8-c5b9ff8ecb34\" xlink:actuate=\"onRequest\" xlink:href=\"psysml:531dfa6c-428e-410a-a6f8-c5b9ff8ecb34\" xlink:show=\"new\" xlink:title=\"psysml:531dfa6c-428e-410a-a6f8-c5b9ff8ecb34\" xlink:type=\"simple\"><polygon fill=\"#FFFFFF\" points=\"331,170,355,170,362,192.2969,433,192.2969,433,267,331,267,331,170\" style=\"stroke: #000000; stroke-width: 1.5;\"/><line style=\"stroke: #000000; stroke-width: 1.5;\" x1=\"331\" x2=\"362\" y1=\"192.2969\" y2=\"192.2969\"/><text fill=\"#000000\" font-family=\"sans-serif\" font-size=\"14\" font-weight=\"bold\" lengthAdjust=\"spacingAndGlyphs\" textLength=\"18\" x=\"335\" y=\"184.9951\">P1</text></a><!--MD5=[f6df4d0ebaf0b5dfb2ced0ae5af7c670]\n",
       "cluster E4--><a href=\"psysml:62a929fe-702a-4460-9e53-8584d6f6435e\" target=\"_top\" title=\"psysml:62a929fe-702a-4460-9e53-8584d6f6435e\" xlink:actuate=\"onRequest\" xlink:href=\"psysml:62a929fe-702a-4460-9e53-8584d6f6435e\" xlink:show=\"new\" xlink:title=\"psysml:62a929fe-702a-4460-9e53-8584d6f6435e\" xlink:type=\"simple\"><polygon fill=\"#FFFFFF\" points=\"79,170,103,170,110,192.2969,181,192.2969,181,267,79,267,79,170\" style=\"stroke: #000000; stroke-width: 1.5;\"/><line style=\"stroke: #000000; stroke-width: 1.5;\" x1=\"79\" x2=\"110\" y1=\"192.2969\" y2=\"192.2969\"/><text fill=\"#000000\" font-family=\"sans-serif\" font-size=\"14\" font-weight=\"bold\" lengthAdjust=\"spacingAndGlyphs\" textLength=\"18\" x=\"83\" y=\"184.9951\">P2</text></a><!--MD5=[14e3b0961a2654348d326746436168a1]\n",
       "cluster E6--><a href=\"psysml:0f17a3a9-0805-4d7f-ba6a-07da905c8abf\" target=\"_top\" title=\"psysml:0f17a3a9-0805-4d7f-ba6a-07da905c8abf\" xlink:actuate=\"onRequest\" xlink:href=\"psysml:0f17a3a9-0805-4d7f-ba6a-07da905c8abf\" xlink:show=\"new\" xlink:title=\"psysml:0f17a3a9-0805-4d7f-ba6a-07da905c8abf\" xlink:type=\"simple\"><polygon fill=\"#FFFFFF\" points=\"268,49,314,49,321,71.2969,419,71.2969,419,146,268,146,268,49\" style=\"stroke: #000000; stroke-width: 1.5;\"/><line style=\"stroke: #000000; stroke-width: 1.5;\" x1=\"268\" x2=\"321\" y1=\"71.2969\" y2=\"71.2969\"/><text fill=\"#000000\" font-family=\"sans-serif\" font-size=\"14\" font-weight=\"bold\" lengthAdjust=\"spacingAndGlyphs\" textLength=\"40\" x=\"272\" y=\"63.9951\">Test1</text></a><!--MD5=[7f149f147074ac12df2cb0a7728a5fb0]\n",
       "cluster E9--><a href=\"psysml:a06e7d3b-be80-4318-b479-ae1779c5974b\" target=\"_top\" title=\"psysml:a06e7d3b-be80-4318-b479-ae1779c5974b\" xlink:actuate=\"onRequest\" xlink:href=\"psysml:a06e7d3b-be80-4318-b479-ae1779c5974b\" xlink:show=\"new\" xlink:title=\"psysml:a06e7d3b-be80-4318-b479-ae1779c5974b\" xlink:type=\"simple\"><polygon fill=\"#FFFFFF\" points=\"93,49,139,49,146,71.2969,244,71.2969,244,146,93,146,93,49\" style=\"stroke: #000000; stroke-width: 1.5;\"/><line style=\"stroke: #000000; stroke-width: 1.5;\" x1=\"93\" x2=\"146\" y1=\"71.2969\" y2=\"71.2969\"/><text fill=\"#000000\" font-family=\"sans-serif\" font-size=\"14\" font-weight=\"bold\" lengthAdjust=\"spacingAndGlyphs\" textLength=\"40\" x=\"97\" y=\"63.9951\">Test2</text></a><!--MD5=[49a0ec8f00dab7302a31f22d0f0fe584]\n",
       "class E12--><a href=\"psysml:665d223a-8fea-436a-b414-0efd919424fb\" target=\"_top\" title=\"psysml:665d223a-8fea-436a-b414-0efd919424fb\" xlink:actuate=\"onRequest\" xlink:href=\"psysml:665d223a-8fea-436a-b414-0efd919424fb\" xlink:show=\"new\" xlink:title=\"psysml:665d223a-8fea-436a-b414-0efd919424fb\" xlink:type=\"simple\"><rect fill=\"#FFFFFF\" height=\"45.9375\" id=\"E12\" rx=\"10\" ry=\"10\" style=\"stroke: #383838; stroke-width: 1.5;\" width=\"42\" x=\"438\" y=\"84\"/><text fill=\"#000000\" font-family=\"sans-serif\" font-size=\"12\" font-style=\"italic\" lengthAdjust=\"spacingAndGlyphs\" textLength=\"40\" x=\"439\" y=\"100.1387\">«part»</text><text fill=\"#000000\" font-family=\"sans-serif\" font-size=\"12\" lengthAdjust=\"spacingAndGlyphs\" textLength=\"22\" x=\"446\" y=\"114.1074\">x: A</text><line style=\"stroke: #383838; stroke-width: 1.5;\" x1=\"439\" x2=\"479\" y1=\"121.9375\" y2=\"121.9375\"/></a><!--MD5=[ee3c913d1a06f366521f9ef512b67efe]\n",
       "class E13--><a href=\"psysml:a1b35d80-8992-43c2-aa5d-6937f2901599\" target=\"_top\" title=\"psysml:a1b35d80-8992-43c2-aa5d-6937f2901599\" xlink:actuate=\"onRequest\" xlink:href=\"psysml:a1b35d80-8992-43c2-aa5d-6937f2901599\" xlink:show=\"new\" xlink:title=\"psysml:a1b35d80-8992-43c2-aa5d-6937f2901599\" xlink:type=\"simple\"><rect fill=\"#FFFFFF\" height=\"45.9375\" id=\"E13\" rx=\"10\" ry=\"10\" style=\"stroke: #383838; stroke-width: 1.5;\" width=\"42\" x=\"32\" y=\"84\"/><text fill=\"#000000\" font-family=\"sans-serif\" font-size=\"12\" font-style=\"italic\" lengthAdjust=\"spacingAndGlyphs\" textLength=\"40\" x=\"33\" y=\"100.1387\">«part»</text><text fill=\"#000000\" font-family=\"sans-serif\" font-size=\"12\" lengthAdjust=\"spacingAndGlyphs\" textLength=\"22\" x=\"40\" y=\"114.1074\">y: B</text><line style=\"stroke: #383838; stroke-width: 1.5;\" x1=\"33\" x2=\"73\" y1=\"121.9375\" y2=\"121.9375\"/></a><!--MD5=[09b614a08d8cba4a07c9adeb5e0fee81]\n",
       "class E3--><a href=\"psysml:8ceeee5f-0d5a-4279-aee9-7758649ab8be\" target=\"_top\" title=\"psysml:8ceeee5f-0d5a-4279-aee9-7758649ab8be\" xlink:actuate=\"onRequest\" xlink:href=\"psysml:8ceeee5f-0d5a-4279-aee9-7758649ab8be\" xlink:show=\"new\" xlink:title=\"psysml:8ceeee5f-0d5a-4279-aee9-7758649ab8be\" xlink:type=\"simple\"><rect fill=\"#FFFFFF\" height=\"45.9375\" id=\"E3\" style=\"stroke: #383838; stroke-width: 1.5;\" width=\"70\" x=\"347\" y=\"205\"/><text fill=\"#000000\" font-family=\"sans-serif\" font-size=\"12\" font-style=\"italic\" lengthAdjust=\"spacingAndGlyphs\" textLength=\"68\" x=\"348\" y=\"221.1387\">«part  def»</text><text fill=\"#000000\" font-family=\"sans-serif\" font-size=\"12\" lengthAdjust=\"spacingAndGlyphs\" textLength=\"8\" x=\"378\" y=\"235.1074\">A</text><line style=\"stroke: #383838; stroke-width: 1.5;\" x1=\"348\" x2=\"416\" y1=\"242.9375\" y2=\"242.9375\"/></a><!--MD5=[270fce915f116d4de14055a7c1d9a0f3]\n",
       "class E5--><a href=\"psysml:90844ba8-c1a9-4c46-b7c9-d1a2572e7365\" target=\"_top\" title=\"psysml:90844ba8-c1a9-4c46-b7c9-d1a2572e7365\" xlink:actuate=\"onRequest\" xlink:href=\"psysml:90844ba8-c1a9-4c46-b7c9-d1a2572e7365\" xlink:show=\"new\" xlink:title=\"psysml:90844ba8-c1a9-4c46-b7c9-d1a2572e7365\" xlink:type=\"simple\"><rect fill=\"#FFFFFF\" height=\"45.9375\" id=\"E5\" style=\"stroke: #383838; stroke-width: 1.5;\" width=\"70\" x=\"95\" y=\"205\"/><text fill=\"#000000\" font-family=\"sans-serif\" font-size=\"12\" font-style=\"italic\" lengthAdjust=\"spacingAndGlyphs\" textLength=\"68\" x=\"96\" y=\"221.1387\">«part  def»</text><text fill=\"#000000\" font-family=\"sans-serif\" font-size=\"12\" lengthAdjust=\"spacingAndGlyphs\" textLength=\"8\" x=\"126\" y=\"235.1074\">B</text><line style=\"stroke: #383838; stroke-width: 1.5;\" x1=\"96\" x2=\"164\" y1=\"242.9375\" y2=\"242.9375\"/></a><!--MD5=[2156ba9850f5573cc1fc38a6a4b2f02b]\n",
       "class E7--><a href=\"psysml:9a31b8cb-b3f5-4478-b49b-73e9fd0f6da5\" target=\"_top\" title=\"psysml:9a31b8cb-b3f5-4478-b49b-73e9fd0f6da5\" xlink:actuate=\"onRequest\" xlink:href=\"psysml:9a31b8cb-b3f5-4478-b49b-73e9fd0f6da5\" xlink:show=\"new\" xlink:title=\"psysml:9a31b8cb-b3f5-4478-b49b-73e9fd0f6da5\" xlink:type=\"simple\"><rect fill=\"#FFFFFF\" height=\"45.9375\" id=\"E7\" rx=\"10\" ry=\"10\" style=\"stroke: #383838; stroke-width: 1.5;\" width=\"42\" x=\"361\" y=\"84\"/><text fill=\"#000000\" font-family=\"sans-serif\" font-size=\"12\" font-style=\"italic\" lengthAdjust=\"spacingAndGlyphs\" textLength=\"40\" x=\"362\" y=\"100.1387\">«part»</text><text fill=\"#000000\" font-family=\"sans-serif\" font-size=\"12\" lengthAdjust=\"spacingAndGlyphs\" textLength=\"22\" x=\"369\" y=\"114.1074\">x: A</text><line style=\"stroke: #383838; stroke-width: 1.5;\" x1=\"362\" x2=\"402\" y1=\"121.9375\" y2=\"121.9375\"/></a><!--MD5=[b9389687b975829384b498ac4b7476b2]\n",
       "class E8--><a href=\"psysml:084cb86b-cc59-4a41-8b1c-7b7410cc5029\" target=\"_top\" title=\"psysml:084cb86b-cc59-4a41-8b1c-7b7410cc5029\" xlink:actuate=\"onRequest\" xlink:href=\"psysml:084cb86b-cc59-4a41-8b1c-7b7410cc5029\" xlink:show=\"new\" xlink:title=\"psysml:084cb86b-cc59-4a41-8b1c-7b7410cc5029\" xlink:type=\"simple\"><rect fill=\"#FFFFFF\" height=\"45.9375\" id=\"E8\" rx=\"10\" ry=\"10\" style=\"stroke: #383838; stroke-width: 1.5;\" width=\"42\" x=\"284\" y=\"84\"/><text fill=\"#000000\" font-family=\"sans-serif\" font-size=\"12\" font-style=\"italic\" lengthAdjust=\"spacingAndGlyphs\" textLength=\"40\" x=\"285\" y=\"100.1387\">«part»</text><text fill=\"#000000\" font-family=\"sans-serif\" font-size=\"12\" lengthAdjust=\"spacingAndGlyphs\" textLength=\"22\" x=\"292\" y=\"114.1074\">y: B</text><line style=\"stroke: #383838; stroke-width: 1.5;\" x1=\"285\" x2=\"325\" y1=\"121.9375\" y2=\"121.9375\"/></a><!--MD5=[96f4274e9e20536e775497830990834d]\n",
       "class E10--><a href=\"psysml:377a64d2-1aa6-4a9b-ba95-6aeb6c1d992f\" target=\"_top\" title=\"psysml:377a64d2-1aa6-4a9b-ba95-6aeb6c1d992f\" xlink:actuate=\"onRequest\" xlink:href=\"psysml:377a64d2-1aa6-4a9b-ba95-6aeb6c1d992f\" xlink:show=\"new\" xlink:title=\"psysml:377a64d2-1aa6-4a9b-ba95-6aeb6c1d992f\" xlink:type=\"simple\"><rect fill=\"#FFFFFF\" height=\"45.9375\" id=\"E10\" rx=\"10\" ry=\"10\" style=\"stroke: #383838; stroke-width: 1.5;\" width=\"42\" x=\"186\" y=\"84\"/><text fill=\"#000000\" font-family=\"sans-serif\" font-size=\"12\" font-style=\"italic\" lengthAdjust=\"spacingAndGlyphs\" textLength=\"40\" x=\"187\" y=\"100.1387\">«part»</text><text fill=\"#000000\" font-family=\"sans-serif\" font-size=\"12\" lengthAdjust=\"spacingAndGlyphs\" textLength=\"22\" x=\"194\" y=\"114.1074\">x: A</text><line style=\"stroke: #383838; stroke-width: 1.5;\" x1=\"187\" x2=\"227\" y1=\"121.9375\" y2=\"121.9375\"/></a><!--MD5=[1dd1bfd58a279cf63c5f349dbc8fc6a1]\n",
       "class E11--><a href=\"psysml:7cdd5db6-fbbe-4f9d-b259-3a085be4f068\" target=\"_top\" title=\"psysml:7cdd5db6-fbbe-4f9d-b259-3a085be4f068\" xlink:actuate=\"onRequest\" xlink:href=\"psysml:7cdd5db6-fbbe-4f9d-b259-3a085be4f068\" xlink:show=\"new\" xlink:title=\"psysml:7cdd5db6-fbbe-4f9d-b259-3a085be4f068\" xlink:type=\"simple\"><rect fill=\"#FFFFFF\" height=\"45.9375\" id=\"E11\" rx=\"10\" ry=\"10\" style=\"stroke: #383838; stroke-width: 1.5;\" width=\"42\" x=\"109\" y=\"84\"/><text fill=\"#000000\" font-family=\"sans-serif\" font-size=\"12\" font-style=\"italic\" lengthAdjust=\"spacingAndGlyphs\" textLength=\"40\" x=\"110\" y=\"100.1387\">«part»</text><text fill=\"#000000\" font-family=\"sans-serif\" font-size=\"12\" lengthAdjust=\"spacingAndGlyphs\" textLength=\"22\" x=\"117\" y=\"114.1074\">y: B</text><line style=\"stroke: #383838; stroke-width: 1.5;\" x1=\"110\" x2=\"150\" y1=\"121.9375\" y2=\"121.9375\"/></a><!--MD5=[14ccda38c055a5c0da953d572bc50960]\n",
       "link E7 to E3--><a href=\"psysml:0b2c7bde-3c6f-4711-9ee8-a744dba64aec\" target=\"_top\" title=\"psysml:0b2c7bde-3c6f-4711-9ee8-a744dba64aec\" xlink:actuate=\"onRequest\" xlink:href=\"psysml:0b2c7bde-3c6f-4711-9ee8-a744dba64aec\" xlink:show=\"new\" xlink:title=\"psysml:0b2c7bde-3c6f-4711-9ee8-a744dba64aec\" xlink:type=\"simple\"><path d=\"M382,130.1 C382,145.37 382,166.16 382,184.57 \" fill=\"none\" id=\"E7-&gt;E3\" style=\"stroke: #383838; stroke-width: 1.0;\"/><polygon fill=\"#FFFFFF\" points=\"382,204.61,375,185.61,389,185.61,382,204.61\" style=\"stroke: #383838; stroke-width: 1.0;\"/><ellipse cx=\"377\" cy=\"179.91\" fill=\"#383838\" rx=\"2\" ry=\"2\" style=\"stroke: #383838; stroke-width: 1.0;\"/><ellipse cx=\"387\" cy=\"179.91\" fill=\"#383838\" rx=\"2\" ry=\"2\" style=\"stroke: #383838; stroke-width: 1.0;\"/></a><!--MD5=[1ccb2481ffa92f8d51a74ee30c51832a]\n",
       "link E8 to E5--><a href=\"psysml:16eea2e1-2a1c-45c0-89dc-072c92b0db51\" target=\"_top\" title=\"psysml:16eea2e1-2a1c-45c0-89dc-072c92b0db51\" xlink:actuate=\"onRequest\" xlink:href=\"psysml:16eea2e1-2a1c-45c0-89dc-072c92b0db51\" xlink:show=\"new\" xlink:title=\"psysml:16eea2e1-2a1c-45c0-89dc-072c92b0db51\" xlink:type=\"simple\"><path d=\"M283.67,124.09 C266.07,137.35 244,154 244,154 C244,154 211.9,174.55 181.77,193.85 \" fill=\"none\" id=\"E8-&gt;E5\" style=\"stroke: #383838; stroke-width: 1.0;\"/><polygon fill=\"#FFFFFF\" points=\"164.51,204.9,176.7355,188.7588,184.2854,200.5486,164.51,204.9\" style=\"stroke: #383838; stroke-width: 1.0;\"/><ellipse cx=\"182.6142\" cy=\"187.3692\" fill=\"#383838\" rx=\"2\" ry=\"2\" style=\"stroke: #383838; stroke-width: 1.0;\"/><ellipse cx=\"188.007\" cy=\"195.7905\" fill=\"#383838\" rx=\"2\" ry=\"2\" style=\"stroke: #383838; stroke-width: 1.0;\"/></a><!--MD5=[feeac5eb423634930294aa81f2d25a4c]\n",
       "link E10 to E3--><a href=\"psysml:0ac0ff17-b961-483b-88a6-6c34531d2872\" target=\"_top\" title=\"psysml:0ac0ff17-b961-483b-88a6-6c34531d2872\" xlink:actuate=\"onRequest\" xlink:href=\"psysml:0ac0ff17-b961-483b-88a6-6c34531d2872\" xlink:show=\"new\" xlink:title=\"psysml:0ac0ff17-b961-483b-88a6-6c34531d2872\" xlink:type=\"simple\"><path d=\"M228.33,124.09 C245.93,137.35 268,154 268,154 C268,154 300.1,174.55 330.23,193.85 \" fill=\"none\" id=\"E10-&gt;E3\" style=\"stroke: #383838; stroke-width: 1.0;\"/><polygon fill=\"#FFFFFF\" points=\"347.49,204.9,327.7146,200.5486,335.2645,188.7588,347.49,204.9\" style=\"stroke: #383838; stroke-width: 1.0;\"/><ellipse cx=\"323.993\" cy=\"195.7905\" fill=\"#383838\" rx=\"2\" ry=\"2\" style=\"stroke: #383838; stroke-width: 1.0;\"/><ellipse cx=\"329.3858\" cy=\"187.3692\" fill=\"#383838\" rx=\"2\" ry=\"2\" style=\"stroke: #383838; stroke-width: 1.0;\"/></a><!--MD5=[07b77f6f309248d16187045709d1c26e]\n",
       "link E11 to E5--><a href=\"psysml:7353245a-aec5-4316-8af8-2852475c4dc4\" target=\"_top\" title=\"psysml:7353245a-aec5-4316-8af8-2852475c4dc4\" xlink:actuate=\"onRequest\" xlink:href=\"psysml:7353245a-aec5-4316-8af8-2852475c4dc4\" xlink:show=\"new\" xlink:title=\"psysml:7353245a-aec5-4316-8af8-2852475c4dc4\" xlink:type=\"simple\"><path d=\"M130,130.1 C130,145.37 130,166.16 130,184.57 \" fill=\"none\" id=\"E11-&gt;E5\" style=\"stroke: #383838; stroke-width: 1.0;\"/><polygon fill=\"#FFFFFF\" points=\"130,204.61,123,185.61,137,185.61,130,204.61\" style=\"stroke: #383838; stroke-width: 1.0;\"/><ellipse cx=\"125\" cy=\"179.91\" fill=\"#383838\" rx=\"2\" ry=\"2\" style=\"stroke: #383838; stroke-width: 1.0;\"/><ellipse cx=\"135\" cy=\"179.91\" fill=\"#383838\" rx=\"2\" ry=\"2\" style=\"stroke: #383838; stroke-width: 1.0;\"/></a><!--MD5=[39f41a0e550fb3d73b4d8135617e30a2]\n",
       "link E12 to E3--><a href=\"psysml:6cc10db6-ba98-48a2-919a-a7b34cb2bdfc\" target=\"_top\" title=\"psysml:6cc10db6-ba98-48a2-919a-a7b34cb2bdfc\" xlink:actuate=\"onRequest\" xlink:href=\"psysml:6cc10db6-ba98-48a2-919a-a7b34cb2bdfc\" xlink:show=\"new\" xlink:title=\"psysml:6cc10db6-ba98-48a2-919a-a7b34cb2bdfc\" xlink:type=\"simple\"><path d=\"M444.7,130.1 C434.28,146.2 419.89,168.44 407.53,187.55 \" fill=\"none\" id=\"E12-&gt;E3\" style=\"stroke: #383838; stroke-width: 1.0;\"/><polygon fill=\"#FFFFFF\" points=\"396.49,204.61,400.9313,184.8546,412.6866,192.4581,396.49,204.61\" style=\"stroke: #383838; stroke-width: 1.0;\"/><ellipse cx=\"405.7063\" cy=\"181.1547\" fill=\"#383838\" rx=\"2\" ry=\"2\" style=\"stroke: #383838; stroke-width: 1.0;\"/><ellipse cx=\"414.103\" cy=\"186.5858\" fill=\"#383838\" rx=\"2\" ry=\"2\" style=\"stroke: #383838; stroke-width: 1.0;\"/></a><!--MD5=[066b2d8af59fea80ccdb3d54ad5c1091]\n",
       "link E13 to E5--><a href=\"psysml:fb180b05-d2cf-42d1-bf2a-01829ad20206\" target=\"_top\" title=\"psysml:fb180b05-d2cf-42d1-bf2a-01829ad20206\" xlink:actuate=\"onRequest\" xlink:href=\"psysml:fb180b05-d2cf-42d1-bf2a-01829ad20206\" xlink:show=\"new\" xlink:title=\"psysml:fb180b05-d2cf-42d1-bf2a-01829ad20206\" xlink:type=\"simple\"><path d=\"M67.3,130.1 C77.72,146.2 92.11,168.44 104.47,187.55 \" fill=\"none\" id=\"E13-&gt;E5\" style=\"stroke: #383838; stroke-width: 1.0;\"/><polygon fill=\"#FFFFFF\" points=\"115.51,204.61,99.3134,192.4581,111.0687,184.8546,115.51,204.61\" style=\"stroke: #383838; stroke-width: 1.0;\"/><ellipse cx=\"97.897\" cy=\"186.5858\" fill=\"#383838\" rx=\"2\" ry=\"2\" style=\"stroke: #383838; stroke-width: 1.0;\"/><ellipse cx=\"106.2937\" cy=\"181.1547\" fill=\"#383838\" rx=\"2\" ry=\"2\" style=\"stroke: #383838; stroke-width: 1.0;\"/></a><!--MD5=[4cd418e9c2782f4e89e831fe74dc0076]\n",
       "@startuml\r\n",
       "skinparam linetype polyline\r\n",
       "skinparam monochrome true\r\n",
       "skinparam classbackgroundcolor white\r\n",
       "skinparam shadowing false\r\n",
       "skinparam wrapWidth 300\r\n",
       "hide circle\r\n",
       "\r\n",
       "package \"CircularImport\" as E1  [[psysml:6d002b47-1de9-4cb8-be5e-1d54cb7fff5c ]]  {\r\n",
       "package \"P1\" as E2  [[psysml:531dfa6c-428e-410a-a6f8-c5b9ff8ecb34 ]]  {\r\n",
       "comp def \"A\" as E3  <<(T,blue) part  def>> [[psysml:8ceeee5f-0d5a-4279-aee9-7758649ab8be ]] {\r\n",
       "}\r\n",
       "}\r\n",
       "package \"P2\" as E4  [[psysml:62a929fe-702a-4460-9e53-8584d6f6435e ]]  {\r\n",
       "comp def \"B\" as E5  <<(T,blue) part  def>> [[psysml:90844ba8-c1a9-4c46-b7c9-d1a2572e7365 ]] {\r\n",
       "}\r\n",
       "}\r\n",
       "package \"Test1\" as E6  [[psysml:0f17a3a9-0805-4d7f-ba6a-07da905c8abf ]]  {\r\n",
       "comp usage \"x: A \" as E7  <<(T,blue) part>> [[psysml:9a31b8cb-b3f5-4478-b49b-73e9fd0f6da5 ]] {\r\n",
       "}\r\n",
       "comp usage \"y: B \" as E8  <<(T,blue) part>> [[psysml:084cb86b-cc59-4a41-8b1c-7b7410cc5029 ]] {\r\n",
       "}\r\n",
       "}\r\n",
       "package \"Test2\" as E9  [[psysml:a06e7d3b-be80-4318-b479-ae1779c5974b ]]  {\r\n",
       "comp usage \"x: A \" as E10  <<(T,blue) part>> [[psysml:377a64d2-1aa6-4a9b-ba95-6aeb6c1d992f ]] {\r\n",
       "}\r\n",
       "comp usage \"y: B \" as E11  <<(T,blue) part>> [[psysml:7cdd5db6-fbbe-4f9d-b259-3a085be4f068 ]] {\r\n",
       "}\r\n",
       "}\r\n",
       "comp usage \"x: A \" as E12  <<(T,blue) part>> [[psysml:665d223a-8fea-436a-b414-0efd919424fb ]] {\r\n",
       "}\r\n",
       "comp usage \"y: B \" as E13  <<(T,blue) part>> [[psysml:a1b35d80-8992-43c2-aa5d-6937f2901599 ]] {\r\n",
       "}\r\n",
       "}\r\n",
       "E7 - -:|> E3 [[psysml:0b2c7bde-3c6f-4711-9ee8-a744dba64aec ]] \r\n",
       "E8 - -:|> E5 [[psysml:16eea2e1-2a1c-45c0-89dc-072c92b0db51 ]] \r\n",
       "E10 - -:|> E3 [[psysml:0ac0ff17-b961-483b-88a6-6c34531d2872 ]] \r\n",
       "E11 - -:|> E5 [[psysml:7353245a-aec5-4316-8af8-2852475c4dc4 ]] \r\n",
       "E12 - -:|> E3 [[psysml:6cc10db6-ba98-48a2-919a-a7b34cb2bdfc ]] \r\n",
       "E13 - -:|> E5 [[psysml:fb180b05-d2cf-42d1-bf2a-01829ad20206 ]] \r\n",
       "@enduml\r\n",
       "\n",
       "PlantUML version 1.2020.13(Sat Jun 13 12:26:38 UTC 2020)\n",
       "(EPL source distribution)\n",
       "Java Runtime: OpenJDK Runtime Environment\n",
       "JVM: OpenJDK 64-Bit Server VM\n",
       "Default Encoding: UTF-8\n",
       "Language: en\n",
       "Country: null\n",
       "--></g></svg>"
      ]
     },
     "execution_count": 9,
     "metadata": {},
     "output_type": "execute_result"
    }
   ],
   "source": [
    "%viz --style=\"POLYLINE\" --view=\"Default\" \"CircularImport\""
   ]
  },
  {
   "cell_type": "code",
   "execution_count": 10,
   "id": "f27fa19c",
   "metadata": {
    "execution": {
     "iopub.execute_input": "2021-12-15T15:15:36.972846Z",
     "iopub.status.busy": "2021-12-15T15:15:36.972436Z",
     "iopub.status.idle": "2021-12-15T15:15:37.031257Z",
     "shell.execute_reply": "2021-12-15T15:15:37.030897Z"
    }
   },
   "outputs": [
    {
     "data": {
      "image/svg+xml": [
       "<?xml version=\"1.0\" encoding=\"UTF-8\" standalone=\"no\"?><svg xmlns=\"http://www.w3.org/2000/svg\" xmlns:xlink=\"http://www.w3.org/1999/xlink\" contentScriptType=\"application/ecmascript\" contentStyleType=\"text/css\" height=\"303px\" preserveAspectRatio=\"none\" style=\"width:518px;height:303px;\" version=\"1.1\" viewBox=\"0 0 518 303\" width=\"518px\" zoomAndPan=\"magnify\"><defs/><g><!--MD5=[fbc87193dbaf4d95561dea2c320d4a47]\n",
       "cluster E1--><a href=\"psysml:6d002b47-1de9-4cb8-be5e-1d54cb7fff5c\" target=\"_top\" title=\"psysml:6d002b47-1de9-4cb8-be5e-1d54cb7fff5c\" xlink:actuate=\"onRequest\" xlink:href=\"psysml:6d002b47-1de9-4cb8-be5e-1d54cb7fff5c\" xlink:show=\"new\" xlink:title=\"psysml:6d002b47-1de9-4cb8-be5e-1d54cb7fff5c\" xlink:type=\"simple\"><polygon fill=\"#FFFFFF\" points=\"16,6,117,6,124,28.2969,496,28.2969,496,291,16,291,16,6\" style=\"stroke: #000000; stroke-width: 1.5;\"/><line style=\"stroke: #000000; stroke-width: 1.5;\" x1=\"16\" x2=\"124\" y1=\"28.2969\" y2=\"28.2969\"/><text fill=\"#000000\" font-family=\"sans-serif\" font-size=\"14\" font-weight=\"bold\" lengthAdjust=\"spacingAndGlyphs\" textLength=\"95\" x=\"20\" y=\"20.9951\">CircularImport</text></a><!--MD5=[e4f7fae6ed58524ba242bb0b0d3be6b7]\n",
       "cluster E2--><a href=\"psysml:531dfa6c-428e-410a-a6f8-c5b9ff8ecb34\" target=\"_top\" title=\"psysml:531dfa6c-428e-410a-a6f8-c5b9ff8ecb34\" xlink:actuate=\"onRequest\" xlink:href=\"psysml:531dfa6c-428e-410a-a6f8-c5b9ff8ecb34\" xlink:show=\"new\" xlink:title=\"psysml:531dfa6c-428e-410a-a6f8-c5b9ff8ecb34\" xlink:type=\"simple\"><polygon fill=\"#FFFFFF\" points=\"331,170,355,170,362,192.2969,433,192.2969,433,267,331,267,331,170\" style=\"stroke: #000000; stroke-width: 1.5;\"/><line style=\"stroke: #000000; stroke-width: 1.5;\" x1=\"331\" x2=\"362\" y1=\"192.2969\" y2=\"192.2969\"/><text fill=\"#000000\" font-family=\"sans-serif\" font-size=\"14\" font-weight=\"bold\" lengthAdjust=\"spacingAndGlyphs\" textLength=\"18\" x=\"335\" y=\"184.9951\">P1</text></a><!--MD5=[f6df4d0ebaf0b5dfb2ced0ae5af7c670]\n",
       "cluster E4--><a href=\"psysml:62a929fe-702a-4460-9e53-8584d6f6435e\" target=\"_top\" title=\"psysml:62a929fe-702a-4460-9e53-8584d6f6435e\" xlink:actuate=\"onRequest\" xlink:href=\"psysml:62a929fe-702a-4460-9e53-8584d6f6435e\" xlink:show=\"new\" xlink:title=\"psysml:62a929fe-702a-4460-9e53-8584d6f6435e\" xlink:type=\"simple\"><polygon fill=\"#FFFFFF\" points=\"79,170,103,170,110,192.2969,181,192.2969,181,267,79,267,79,170\" style=\"stroke: #000000; stroke-width: 1.5;\"/><line style=\"stroke: #000000; stroke-width: 1.5;\" x1=\"79\" x2=\"110\" y1=\"192.2969\" y2=\"192.2969\"/><text fill=\"#000000\" font-family=\"sans-serif\" font-size=\"14\" font-weight=\"bold\" lengthAdjust=\"spacingAndGlyphs\" textLength=\"18\" x=\"83\" y=\"184.9951\">P2</text></a><!--MD5=[14e3b0961a2654348d326746436168a1]\n",
       "cluster E6--><a href=\"psysml:0f17a3a9-0805-4d7f-ba6a-07da905c8abf\" target=\"_top\" title=\"psysml:0f17a3a9-0805-4d7f-ba6a-07da905c8abf\" xlink:actuate=\"onRequest\" xlink:href=\"psysml:0f17a3a9-0805-4d7f-ba6a-07da905c8abf\" xlink:show=\"new\" xlink:title=\"psysml:0f17a3a9-0805-4d7f-ba6a-07da905c8abf\" xlink:type=\"simple\"><polygon fill=\"#FFFFFF\" points=\"268,49,314,49,321,71.2969,419,71.2969,419,146,268,146,268,49\" style=\"stroke: #000000; stroke-width: 1.5;\"/><line style=\"stroke: #000000; stroke-width: 1.5;\" x1=\"268\" x2=\"321\" y1=\"71.2969\" y2=\"71.2969\"/><text fill=\"#000000\" font-family=\"sans-serif\" font-size=\"14\" font-weight=\"bold\" lengthAdjust=\"spacingAndGlyphs\" textLength=\"40\" x=\"272\" y=\"63.9951\">Test1</text></a><!--MD5=[7f149f147074ac12df2cb0a7728a5fb0]\n",
       "cluster E9--><a href=\"psysml:a06e7d3b-be80-4318-b479-ae1779c5974b\" target=\"_top\" title=\"psysml:a06e7d3b-be80-4318-b479-ae1779c5974b\" xlink:actuate=\"onRequest\" xlink:href=\"psysml:a06e7d3b-be80-4318-b479-ae1779c5974b\" xlink:show=\"new\" xlink:title=\"psysml:a06e7d3b-be80-4318-b479-ae1779c5974b\" xlink:type=\"simple\"><polygon fill=\"#FFFFFF\" points=\"93,49,139,49,146,71.2969,244,71.2969,244,146,93,146,93,49\" style=\"stroke: #000000; stroke-width: 1.5;\"/><line style=\"stroke: #000000; stroke-width: 1.5;\" x1=\"93\" x2=\"146\" y1=\"71.2969\" y2=\"71.2969\"/><text fill=\"#000000\" font-family=\"sans-serif\" font-size=\"14\" font-weight=\"bold\" lengthAdjust=\"spacingAndGlyphs\" textLength=\"40\" x=\"97\" y=\"63.9951\">Test2</text></a><!--MD5=[49a0ec8f00dab7302a31f22d0f0fe584]\n",
       "class E12--><a href=\"psysml:665d223a-8fea-436a-b414-0efd919424fb\" target=\"_top\" title=\"psysml:665d223a-8fea-436a-b414-0efd919424fb\" xlink:actuate=\"onRequest\" xlink:href=\"psysml:665d223a-8fea-436a-b414-0efd919424fb\" xlink:show=\"new\" xlink:title=\"psysml:665d223a-8fea-436a-b414-0efd919424fb\" xlink:type=\"simple\"><rect fill=\"#FFFFFF\" height=\"45.9375\" id=\"E12\" rx=\"10\" ry=\"10\" style=\"stroke: #383838; stroke-width: 1.5;\" width=\"42\" x=\"438\" y=\"84\"/><text fill=\"#000000\" font-family=\"sans-serif\" font-size=\"12\" font-style=\"italic\" lengthAdjust=\"spacingAndGlyphs\" textLength=\"40\" x=\"439\" y=\"100.1387\">«part»</text><text fill=\"#000000\" font-family=\"sans-serif\" font-size=\"12\" lengthAdjust=\"spacingAndGlyphs\" textLength=\"22\" x=\"446\" y=\"114.1074\">x: A</text><line style=\"stroke: #383838; stroke-width: 1.5;\" x1=\"439\" x2=\"479\" y1=\"121.9375\" y2=\"121.9375\"/></a><!--MD5=[ee3c913d1a06f366521f9ef512b67efe]\n",
       "class E13--><a href=\"psysml:a1b35d80-8992-43c2-aa5d-6937f2901599\" target=\"_top\" title=\"psysml:a1b35d80-8992-43c2-aa5d-6937f2901599\" xlink:actuate=\"onRequest\" xlink:href=\"psysml:a1b35d80-8992-43c2-aa5d-6937f2901599\" xlink:show=\"new\" xlink:title=\"psysml:a1b35d80-8992-43c2-aa5d-6937f2901599\" xlink:type=\"simple\"><rect fill=\"#FFFFFF\" height=\"45.9375\" id=\"E13\" rx=\"10\" ry=\"10\" style=\"stroke: #383838; stroke-width: 1.5;\" width=\"42\" x=\"32\" y=\"84\"/><text fill=\"#000000\" font-family=\"sans-serif\" font-size=\"12\" font-style=\"italic\" lengthAdjust=\"spacingAndGlyphs\" textLength=\"40\" x=\"33\" y=\"100.1387\">«part»</text><text fill=\"#000000\" font-family=\"sans-serif\" font-size=\"12\" lengthAdjust=\"spacingAndGlyphs\" textLength=\"22\" x=\"40\" y=\"114.1074\">y: B</text><line style=\"stroke: #383838; stroke-width: 1.5;\" x1=\"33\" x2=\"73\" y1=\"121.9375\" y2=\"121.9375\"/></a><!--MD5=[09b614a08d8cba4a07c9adeb5e0fee81]\n",
       "class E3--><a href=\"psysml:8ceeee5f-0d5a-4279-aee9-7758649ab8be\" target=\"_top\" title=\"psysml:8ceeee5f-0d5a-4279-aee9-7758649ab8be\" xlink:actuate=\"onRequest\" xlink:href=\"psysml:8ceeee5f-0d5a-4279-aee9-7758649ab8be\" xlink:show=\"new\" xlink:title=\"psysml:8ceeee5f-0d5a-4279-aee9-7758649ab8be\" xlink:type=\"simple\"><rect fill=\"#FFFFFF\" height=\"45.9375\" id=\"E3\" style=\"stroke: #383838; stroke-width: 1.5;\" width=\"70\" x=\"347\" y=\"205\"/><text fill=\"#000000\" font-family=\"sans-serif\" font-size=\"12\" font-style=\"italic\" lengthAdjust=\"spacingAndGlyphs\" textLength=\"68\" x=\"348\" y=\"221.1387\">«part  def»</text><text fill=\"#000000\" font-family=\"sans-serif\" font-size=\"12\" lengthAdjust=\"spacingAndGlyphs\" textLength=\"8\" x=\"378\" y=\"235.1074\">A</text><line style=\"stroke: #383838; stroke-width: 1.5;\" x1=\"348\" x2=\"416\" y1=\"242.9375\" y2=\"242.9375\"/></a><!--MD5=[270fce915f116d4de14055a7c1d9a0f3]\n",
       "class E5--><a href=\"psysml:90844ba8-c1a9-4c46-b7c9-d1a2572e7365\" target=\"_top\" title=\"psysml:90844ba8-c1a9-4c46-b7c9-d1a2572e7365\" xlink:actuate=\"onRequest\" xlink:href=\"psysml:90844ba8-c1a9-4c46-b7c9-d1a2572e7365\" xlink:show=\"new\" xlink:title=\"psysml:90844ba8-c1a9-4c46-b7c9-d1a2572e7365\" xlink:type=\"simple\"><rect fill=\"#FFFFFF\" height=\"45.9375\" id=\"E5\" style=\"stroke: #383838; stroke-width: 1.5;\" width=\"70\" x=\"95\" y=\"205\"/><text fill=\"#000000\" font-family=\"sans-serif\" font-size=\"12\" font-style=\"italic\" lengthAdjust=\"spacingAndGlyphs\" textLength=\"68\" x=\"96\" y=\"221.1387\">«part  def»</text><text fill=\"#000000\" font-family=\"sans-serif\" font-size=\"12\" lengthAdjust=\"spacingAndGlyphs\" textLength=\"8\" x=\"126\" y=\"235.1074\">B</text><line style=\"stroke: #383838; stroke-width: 1.5;\" x1=\"96\" x2=\"164\" y1=\"242.9375\" y2=\"242.9375\"/></a><!--MD5=[2156ba9850f5573cc1fc38a6a4b2f02b]\n",
       "class E7--><a href=\"psysml:9a31b8cb-b3f5-4478-b49b-73e9fd0f6da5\" target=\"_top\" title=\"psysml:9a31b8cb-b3f5-4478-b49b-73e9fd0f6da5\" xlink:actuate=\"onRequest\" xlink:href=\"psysml:9a31b8cb-b3f5-4478-b49b-73e9fd0f6da5\" xlink:show=\"new\" xlink:title=\"psysml:9a31b8cb-b3f5-4478-b49b-73e9fd0f6da5\" xlink:type=\"simple\"><rect fill=\"#FFFFFF\" height=\"45.9375\" id=\"E7\" rx=\"10\" ry=\"10\" style=\"stroke: #383838; stroke-width: 1.5;\" width=\"42\" x=\"361\" y=\"84\"/><text fill=\"#000000\" font-family=\"sans-serif\" font-size=\"12\" font-style=\"italic\" lengthAdjust=\"spacingAndGlyphs\" textLength=\"40\" x=\"362\" y=\"100.1387\">«part»</text><text fill=\"#000000\" font-family=\"sans-serif\" font-size=\"12\" lengthAdjust=\"spacingAndGlyphs\" textLength=\"22\" x=\"369\" y=\"114.1074\">x: A</text><line style=\"stroke: #383838; stroke-width: 1.5;\" x1=\"362\" x2=\"402\" y1=\"121.9375\" y2=\"121.9375\"/></a><!--MD5=[b9389687b975829384b498ac4b7476b2]\n",
       "class E8--><a href=\"psysml:084cb86b-cc59-4a41-8b1c-7b7410cc5029\" target=\"_top\" title=\"psysml:084cb86b-cc59-4a41-8b1c-7b7410cc5029\" xlink:actuate=\"onRequest\" xlink:href=\"psysml:084cb86b-cc59-4a41-8b1c-7b7410cc5029\" xlink:show=\"new\" xlink:title=\"psysml:084cb86b-cc59-4a41-8b1c-7b7410cc5029\" xlink:type=\"simple\"><rect fill=\"#FFFFFF\" height=\"45.9375\" id=\"E8\" rx=\"10\" ry=\"10\" style=\"stroke: #383838; stroke-width: 1.5;\" width=\"42\" x=\"284\" y=\"84\"/><text fill=\"#000000\" font-family=\"sans-serif\" font-size=\"12\" font-style=\"italic\" lengthAdjust=\"spacingAndGlyphs\" textLength=\"40\" x=\"285\" y=\"100.1387\">«part»</text><text fill=\"#000000\" font-family=\"sans-serif\" font-size=\"12\" lengthAdjust=\"spacingAndGlyphs\" textLength=\"22\" x=\"292\" y=\"114.1074\">y: B</text><line style=\"stroke: #383838; stroke-width: 1.5;\" x1=\"285\" x2=\"325\" y1=\"121.9375\" y2=\"121.9375\"/></a><!--MD5=[96f4274e9e20536e775497830990834d]\n",
       "class E10--><a href=\"psysml:377a64d2-1aa6-4a9b-ba95-6aeb6c1d992f\" target=\"_top\" title=\"psysml:377a64d2-1aa6-4a9b-ba95-6aeb6c1d992f\" xlink:actuate=\"onRequest\" xlink:href=\"psysml:377a64d2-1aa6-4a9b-ba95-6aeb6c1d992f\" xlink:show=\"new\" xlink:title=\"psysml:377a64d2-1aa6-4a9b-ba95-6aeb6c1d992f\" xlink:type=\"simple\"><rect fill=\"#FFFFFF\" height=\"45.9375\" id=\"E10\" rx=\"10\" ry=\"10\" style=\"stroke: #383838; stroke-width: 1.5;\" width=\"42\" x=\"186\" y=\"84\"/><text fill=\"#000000\" font-family=\"sans-serif\" font-size=\"12\" font-style=\"italic\" lengthAdjust=\"spacingAndGlyphs\" textLength=\"40\" x=\"187\" y=\"100.1387\">«part»</text><text fill=\"#000000\" font-family=\"sans-serif\" font-size=\"12\" lengthAdjust=\"spacingAndGlyphs\" textLength=\"22\" x=\"194\" y=\"114.1074\">x: A</text><line style=\"stroke: #383838; stroke-width: 1.5;\" x1=\"187\" x2=\"227\" y1=\"121.9375\" y2=\"121.9375\"/></a><!--MD5=[1dd1bfd58a279cf63c5f349dbc8fc6a1]\n",
       "class E11--><a href=\"psysml:7cdd5db6-fbbe-4f9d-b259-3a085be4f068\" target=\"_top\" title=\"psysml:7cdd5db6-fbbe-4f9d-b259-3a085be4f068\" xlink:actuate=\"onRequest\" xlink:href=\"psysml:7cdd5db6-fbbe-4f9d-b259-3a085be4f068\" xlink:show=\"new\" xlink:title=\"psysml:7cdd5db6-fbbe-4f9d-b259-3a085be4f068\" xlink:type=\"simple\"><rect fill=\"#FFFFFF\" height=\"45.9375\" id=\"E11\" rx=\"10\" ry=\"10\" style=\"stroke: #383838; stroke-width: 1.5;\" width=\"42\" x=\"109\" y=\"84\"/><text fill=\"#000000\" font-family=\"sans-serif\" font-size=\"12\" font-style=\"italic\" lengthAdjust=\"spacingAndGlyphs\" textLength=\"40\" x=\"110\" y=\"100.1387\">«part»</text><text fill=\"#000000\" font-family=\"sans-serif\" font-size=\"12\" lengthAdjust=\"spacingAndGlyphs\" textLength=\"22\" x=\"117\" y=\"114.1074\">y: B</text><line style=\"stroke: #383838; stroke-width: 1.5;\" x1=\"110\" x2=\"150\" y1=\"121.9375\" y2=\"121.9375\"/></a><!--MD5=[14ccda38c055a5c0da953d572bc50960]\n",
       "link E7 to E3--><a href=\"psysml:0b2c7bde-3c6f-4711-9ee8-a744dba64aec\" target=\"_top\" title=\"psysml:0b2c7bde-3c6f-4711-9ee8-a744dba64aec\" xlink:actuate=\"onRequest\" xlink:href=\"psysml:0b2c7bde-3c6f-4711-9ee8-a744dba64aec\" xlink:show=\"new\" xlink:title=\"psysml:0b2c7bde-3c6f-4711-9ee8-a744dba64aec\" xlink:type=\"simple\"><path d=\"M382,130.1 C382,145.37 382,166.16 382,184.57 \" fill=\"none\" id=\"E7-&gt;E3\" style=\"stroke: #383838; stroke-width: 1.0;\"/><polygon fill=\"#FFFFFF\" points=\"382,204.61,375,185.61,389,185.61,382,204.61\" style=\"stroke: #383838; stroke-width: 1.0;\"/><ellipse cx=\"377\" cy=\"179.91\" fill=\"#383838\" rx=\"2\" ry=\"2\" style=\"stroke: #383838; stroke-width: 1.0;\"/><ellipse cx=\"387\" cy=\"179.91\" fill=\"#383838\" rx=\"2\" ry=\"2\" style=\"stroke: #383838; stroke-width: 1.0;\"/></a><!--MD5=[1ccb2481ffa92f8d51a74ee30c51832a]\n",
       "link E8 to E5--><a href=\"psysml:16eea2e1-2a1c-45c0-89dc-072c92b0db51\" target=\"_top\" title=\"psysml:16eea2e1-2a1c-45c0-89dc-072c92b0db51\" xlink:actuate=\"onRequest\" xlink:href=\"psysml:16eea2e1-2a1c-45c0-89dc-072c92b0db51\" xlink:show=\"new\" xlink:title=\"psysml:16eea2e1-2a1c-45c0-89dc-072c92b0db51\" xlink:type=\"simple\"><path d=\"M283.67,124.09 C266.07,137.35 244,154 244,154 C244,154 211.9,174.55 181.77,193.85 \" fill=\"none\" id=\"E8-&gt;E5\" style=\"stroke: #383838; stroke-width: 1.0;\"/><polygon fill=\"#FFFFFF\" points=\"164.51,204.9,176.7355,188.7588,184.2854,200.5486,164.51,204.9\" style=\"stroke: #383838; stroke-width: 1.0;\"/><ellipse cx=\"182.6142\" cy=\"187.3692\" fill=\"#383838\" rx=\"2\" ry=\"2\" style=\"stroke: #383838; stroke-width: 1.0;\"/><ellipse cx=\"188.007\" cy=\"195.7905\" fill=\"#383838\" rx=\"2\" ry=\"2\" style=\"stroke: #383838; stroke-width: 1.0;\"/></a><!--MD5=[feeac5eb423634930294aa81f2d25a4c]\n",
       "link E10 to E3--><a href=\"psysml:0ac0ff17-b961-483b-88a6-6c34531d2872\" target=\"_top\" title=\"psysml:0ac0ff17-b961-483b-88a6-6c34531d2872\" xlink:actuate=\"onRequest\" xlink:href=\"psysml:0ac0ff17-b961-483b-88a6-6c34531d2872\" xlink:show=\"new\" xlink:title=\"psysml:0ac0ff17-b961-483b-88a6-6c34531d2872\" xlink:type=\"simple\"><path d=\"M228.33,124.09 C245.93,137.35 268,154 268,154 C268,154 300.1,174.55 330.23,193.85 \" fill=\"none\" id=\"E10-&gt;E3\" style=\"stroke: #383838; stroke-width: 1.0;\"/><polygon fill=\"#FFFFFF\" points=\"347.49,204.9,327.7146,200.5486,335.2645,188.7588,347.49,204.9\" style=\"stroke: #383838; stroke-width: 1.0;\"/><ellipse cx=\"323.993\" cy=\"195.7905\" fill=\"#383838\" rx=\"2\" ry=\"2\" style=\"stroke: #383838; stroke-width: 1.0;\"/><ellipse cx=\"329.3858\" cy=\"187.3692\" fill=\"#383838\" rx=\"2\" ry=\"2\" style=\"stroke: #383838; stroke-width: 1.0;\"/></a><!--MD5=[07b77f6f309248d16187045709d1c26e]\n",
       "link E11 to E5--><a href=\"psysml:7353245a-aec5-4316-8af8-2852475c4dc4\" target=\"_top\" title=\"psysml:7353245a-aec5-4316-8af8-2852475c4dc4\" xlink:actuate=\"onRequest\" xlink:href=\"psysml:7353245a-aec5-4316-8af8-2852475c4dc4\" xlink:show=\"new\" xlink:title=\"psysml:7353245a-aec5-4316-8af8-2852475c4dc4\" xlink:type=\"simple\"><path d=\"M130,130.1 C130,145.37 130,166.16 130,184.57 \" fill=\"none\" id=\"E11-&gt;E5\" style=\"stroke: #383838; stroke-width: 1.0;\"/><polygon fill=\"#FFFFFF\" points=\"130,204.61,123,185.61,137,185.61,130,204.61\" style=\"stroke: #383838; stroke-width: 1.0;\"/><ellipse cx=\"125\" cy=\"179.91\" fill=\"#383838\" rx=\"2\" ry=\"2\" style=\"stroke: #383838; stroke-width: 1.0;\"/><ellipse cx=\"135\" cy=\"179.91\" fill=\"#383838\" rx=\"2\" ry=\"2\" style=\"stroke: #383838; stroke-width: 1.0;\"/></a><!--MD5=[39f41a0e550fb3d73b4d8135617e30a2]\n",
       "link E12 to E3--><a href=\"psysml:6cc10db6-ba98-48a2-919a-a7b34cb2bdfc\" target=\"_top\" title=\"psysml:6cc10db6-ba98-48a2-919a-a7b34cb2bdfc\" xlink:actuate=\"onRequest\" xlink:href=\"psysml:6cc10db6-ba98-48a2-919a-a7b34cb2bdfc\" xlink:show=\"new\" xlink:title=\"psysml:6cc10db6-ba98-48a2-919a-a7b34cb2bdfc\" xlink:type=\"simple\"><path d=\"M444.7,130.1 C434.28,146.2 419.89,168.44 407.53,187.55 \" fill=\"none\" id=\"E12-&gt;E3\" style=\"stroke: #383838; stroke-width: 1.0;\"/><polygon fill=\"#FFFFFF\" points=\"396.49,204.61,400.9313,184.8546,412.6866,192.4581,396.49,204.61\" style=\"stroke: #383838; stroke-width: 1.0;\"/><ellipse cx=\"405.7063\" cy=\"181.1547\" fill=\"#383838\" rx=\"2\" ry=\"2\" style=\"stroke: #383838; stroke-width: 1.0;\"/><ellipse cx=\"414.103\" cy=\"186.5858\" fill=\"#383838\" rx=\"2\" ry=\"2\" style=\"stroke: #383838; stroke-width: 1.0;\"/></a><!--MD5=[066b2d8af59fea80ccdb3d54ad5c1091]\n",
       "link E13 to E5--><a href=\"psysml:fb180b05-d2cf-42d1-bf2a-01829ad20206\" target=\"_top\" title=\"psysml:fb180b05-d2cf-42d1-bf2a-01829ad20206\" xlink:actuate=\"onRequest\" xlink:href=\"psysml:fb180b05-d2cf-42d1-bf2a-01829ad20206\" xlink:show=\"new\" xlink:title=\"psysml:fb180b05-d2cf-42d1-bf2a-01829ad20206\" xlink:type=\"simple\"><path d=\"M67.3,130.1 C77.72,146.2 92.11,168.44 104.47,187.55 \" fill=\"none\" id=\"E13-&gt;E5\" style=\"stroke: #383838; stroke-width: 1.0;\"/><polygon fill=\"#FFFFFF\" points=\"115.51,204.61,99.3134,192.4581,111.0687,184.8546,115.51,204.61\" style=\"stroke: #383838; stroke-width: 1.0;\"/><ellipse cx=\"97.897\" cy=\"186.5858\" fill=\"#383838\" rx=\"2\" ry=\"2\" style=\"stroke: #383838; stroke-width: 1.0;\"/><ellipse cx=\"106.2937\" cy=\"181.1547\" fill=\"#383838\" rx=\"2\" ry=\"2\" style=\"stroke: #383838; stroke-width: 1.0;\"/></a><!--MD5=[4cd418e9c2782f4e89e831fe74dc0076]\n",
       "@startuml\r\n",
       "skinparam linetype polyline\r\n",
       "skinparam monochrome true\r\n",
       "skinparam classbackgroundcolor white\r\n",
       "skinparam shadowing false\r\n",
       "skinparam wrapWidth 300\r\n",
       "hide circle\r\n",
       "\r\n",
       "package \"CircularImport\" as E1  [[psysml:6d002b47-1de9-4cb8-be5e-1d54cb7fff5c ]]  {\r\n",
       "package \"P1\" as E2  [[psysml:531dfa6c-428e-410a-a6f8-c5b9ff8ecb34 ]]  {\r\n",
       "comp def \"A\" as E3  <<(T,blue) part  def>> [[psysml:8ceeee5f-0d5a-4279-aee9-7758649ab8be ]] {\r\n",
       "}\r\n",
       "}\r\n",
       "package \"P2\" as E4  [[psysml:62a929fe-702a-4460-9e53-8584d6f6435e ]]  {\r\n",
       "comp def \"B\" as E5  <<(T,blue) part  def>> [[psysml:90844ba8-c1a9-4c46-b7c9-d1a2572e7365 ]] {\r\n",
       "}\r\n",
       "}\r\n",
       "package \"Test1\" as E6  [[psysml:0f17a3a9-0805-4d7f-ba6a-07da905c8abf ]]  {\r\n",
       "comp usage \"x: A \" as E7  <<(T,blue) part>> [[psysml:9a31b8cb-b3f5-4478-b49b-73e9fd0f6da5 ]] {\r\n",
       "}\r\n",
       "comp usage \"y: B \" as E8  <<(T,blue) part>> [[psysml:084cb86b-cc59-4a41-8b1c-7b7410cc5029 ]] {\r\n",
       "}\r\n",
       "}\r\n",
       "package \"Test2\" as E9  [[psysml:a06e7d3b-be80-4318-b479-ae1779c5974b ]]  {\r\n",
       "comp usage \"x: A \" as E10  <<(T,blue) part>> [[psysml:377a64d2-1aa6-4a9b-ba95-6aeb6c1d992f ]] {\r\n",
       "}\r\n",
       "comp usage \"y: B \" as E11  <<(T,blue) part>> [[psysml:7cdd5db6-fbbe-4f9d-b259-3a085be4f068 ]] {\r\n",
       "}\r\n",
       "}\r\n",
       "comp usage \"x: A \" as E12  <<(T,blue) part>> [[psysml:665d223a-8fea-436a-b414-0efd919424fb ]] {\r\n",
       "}\r\n",
       "comp usage \"y: B \" as E13  <<(T,blue) part>> [[psysml:a1b35d80-8992-43c2-aa5d-6937f2901599 ]] {\r\n",
       "}\r\n",
       "}\r\n",
       "E7 - -:|> E3 [[psysml:0b2c7bde-3c6f-4711-9ee8-a744dba64aec ]] \r\n",
       "E8 - -:|> E5 [[psysml:16eea2e1-2a1c-45c0-89dc-072c92b0db51 ]] \r\n",
       "E10 - -:|> E3 [[psysml:0ac0ff17-b961-483b-88a6-6c34531d2872 ]] \r\n",
       "E11 - -:|> E5 [[psysml:7353245a-aec5-4316-8af8-2852475c4dc4 ]] \r\n",
       "E12 - -:|> E3 [[psysml:6cc10db6-ba98-48a2-919a-a7b34cb2bdfc ]] \r\n",
       "E13 - -:|> E5 [[psysml:fb180b05-d2cf-42d1-bf2a-01829ad20206 ]] \r\n",
       "@enduml\r\n",
       "\n",
       "PlantUML version 1.2020.13(Sat Jun 13 12:26:38 UTC 2020)\n",
       "(EPL source distribution)\n",
       "Java Runtime: OpenJDK Runtime Environment\n",
       "JVM: OpenJDK 64-Bit Server VM\n",
       "Default Encoding: UTF-8\n",
       "Language: en\n",
       "Country: null\n",
       "--></g></svg>"
      ]
     },
     "execution_count": 10,
     "metadata": {},
     "output_type": "execute_result"
    }
   ],
   "source": [
    "%viz --style=\"POLYLINE\" --view=\"Tree\" \"CircularImport\""
   ]
  },
  {
   "cell_type": "code",
   "execution_count": 11,
   "id": "53d59a28",
   "metadata": {
    "execution": {
     "iopub.execute_input": "2021-12-15T15:15:37.080720Z",
     "iopub.status.busy": "2021-12-15T15:15:37.080158Z",
     "iopub.status.idle": "2021-12-15T15:15:37.086919Z",
     "shell.execute_reply": "2021-12-15T15:15:37.087233Z"
    }
   },
   "outputs": [
    {
     "data": {
      "image/svg+xml": [
       "<?xml version=\"1.0\" encoding=\"UTF-8\" standalone=\"no\"?><svg xmlns=\"http://www.w3.org/2000/svg\" xmlns:xlink=\"http://www.w3.org/1999/xlink\" contentScriptType=\"application/ecmascript\" contentStyleType=\"text/css\" height=\"12px\" preserveAspectRatio=\"none\" style=\"width:12px;height:12px;\" version=\"1.1\" viewBox=\"0 0 12 12\" width=\"12px\" zoomAndPan=\"magnify\"><defs/><g><!--MD5=[896ac0e7a515d8dd7765a661cb4ee08b]\n",
       "@startuml\r\n",
       "skinparam linetype polyline\r\n",
       "skinparam monochrome true\r\n",
       "skinparam classbackgroundcolor white\r\n",
       "skinparam shadowing false\r\n",
       "skinparam wrapWidth 300\r\n",
       "hide circle\r\n",
       "\r\n",
       "@enduml\r\n",
       "\n",
       "PlantUML version 1.2020.13(Sat Jun 13 12:26:38 UTC 2020)\n",
       "(EPL source distribution)\n",
       "Java Runtime: OpenJDK Runtime Environment\n",
       "JVM: OpenJDK 64-Bit Server VM\n",
       "Default Encoding: UTF-8\n",
       "Language: en\n",
       "Country: null\n",
       "--></g></svg>"
      ]
     },
     "execution_count": 11,
     "metadata": {},
     "output_type": "execute_result"
    }
   ],
   "source": [
    "%viz --style=\"POLYLINE\" --view=\"State\" \"CircularImport\""
   ]
  },
  {
   "cell_type": "code",
   "execution_count": 12,
   "id": "6e1b99d9",
   "metadata": {
    "execution": {
     "iopub.execute_input": "2021-12-15T15:15:37.137638Z",
     "iopub.status.busy": "2021-12-15T15:15:37.137087Z",
     "iopub.status.idle": "2021-12-15T15:15:37.190729Z",
     "shell.execute_reply": "2021-12-15T15:15:37.190223Z"
    }
   },
   "outputs": [
    {
     "data": {
      "image/svg+xml": [
       "<?xml version=\"1.0\" encoding=\"UTF-8\" standalone=\"no\"?><svg xmlns=\"http://www.w3.org/2000/svg\" xmlns:xlink=\"http://www.w3.org/1999/xlink\" contentScriptType=\"application/ecmascript\" contentStyleType=\"text/css\" height=\"179px\" preserveAspectRatio=\"none\" style=\"width:850px;height:179px;\" version=\"1.1\" viewBox=\"0 0 850 179\" width=\"850px\" zoomAndPan=\"magnify\"><defs/><g><!--MD5=[fbc87193dbaf4d95561dea2c320d4a47]\n",
       "cluster E1--><a href=\"psysml:6d002b47-1de9-4cb8-be5e-1d54cb7fff5c\" target=\"_top\" title=\"psysml:6d002b47-1de9-4cb8-be5e-1d54cb7fff5c\" xlink:actuate=\"onRequest\" xlink:href=\"psysml:6d002b47-1de9-4cb8-be5e-1d54cb7fff5c\" xlink:show=\"new\" xlink:title=\"psysml:6d002b47-1de9-4cb8-be5e-1d54cb7fff5c\" xlink:type=\"simple\"><polygon fill=\"#FFFFFF\" points=\"16,6,117,6,124,28.2969,828,28.2969,828,167,16,167,16,6\" style=\"stroke: #000000; stroke-width: 1.5;\"/><line style=\"stroke: #000000; stroke-width: 1.5;\" x1=\"16\" x2=\"124\" y1=\"28.2969\" y2=\"28.2969\"/><text fill=\"#000000\" font-family=\"sans-serif\" font-size=\"14\" font-weight=\"bold\" lengthAdjust=\"spacingAndGlyphs\" textLength=\"95\" x=\"20\" y=\"20.9951\">CircularImport</text></a><!--MD5=[e4f7fae6ed58524ba242bb0b0d3be6b7]\n",
       "cluster E2--><a href=\"psysml:531dfa6c-428e-410a-a6f8-c5b9ff8ecb34\" target=\"_top\" title=\"psysml:531dfa6c-428e-410a-a6f8-c5b9ff8ecb34\" xlink:actuate=\"onRequest\" xlink:href=\"psysml:531dfa6c-428e-410a-a6f8-c5b9ff8ecb34\" xlink:show=\"new\" xlink:title=\"psysml:531dfa6c-428e-410a-a6f8-c5b9ff8ecb34\" xlink:type=\"simple\"><polygon fill=\"#FFFFFF\" points=\"698,49,722,49,729,71.2969,804,71.2969,804,143,698,143,698,49\" style=\"stroke: #000000; stroke-width: 1.5;\"/><line style=\"stroke: #000000; stroke-width: 1.5;\" x1=\"698\" x2=\"729\" y1=\"71.2969\" y2=\"71.2969\"/><text fill=\"#000000\" font-family=\"sans-serif\" font-size=\"14\" font-weight=\"bold\" lengthAdjust=\"spacingAndGlyphs\" textLength=\"18\" x=\"702\" y=\"63.9951\">P1</text></a><!--MD5=[f6df4d0ebaf0b5dfb2ced0ae5af7c670]\n",
       "cluster E4--><a href=\"psysml:62a929fe-702a-4460-9e53-8584d6f6435e\" target=\"_top\" title=\"psysml:62a929fe-702a-4460-9e53-8584d6f6435e\" xlink:actuate=\"onRequest\" xlink:href=\"psysml:62a929fe-702a-4460-9e53-8584d6f6435e\" xlink:show=\"new\" xlink:title=\"psysml:62a929fe-702a-4460-9e53-8584d6f6435e\" xlink:type=\"simple\"><polygon fill=\"#FFFFFF\" points=\"568,49,592,49,599,71.2969,674,71.2969,674,143,568,143,568,49\" style=\"stroke: #000000; stroke-width: 1.5;\"/><line style=\"stroke: #000000; stroke-width: 1.5;\" x1=\"568\" x2=\"599\" y1=\"71.2969\" y2=\"71.2969\"/><text fill=\"#000000\" font-family=\"sans-serif\" font-size=\"14\" font-weight=\"bold\" lengthAdjust=\"spacingAndGlyphs\" textLength=\"18\" x=\"572\" y=\"63.9951\">P2</text></a><!--MD5=[14e3b0961a2654348d326746436168a1]\n",
       "cluster E6--><a href=\"psysml:0f17a3a9-0805-4d7f-ba6a-07da905c8abf\" target=\"_top\" title=\"psysml:0f17a3a9-0805-4d7f-ba6a-07da905c8abf\" xlink:actuate=\"onRequest\" xlink:href=\"psysml:0f17a3a9-0805-4d7f-ba6a-07da905c8abf\" xlink:show=\"new\" xlink:title=\"psysml:0f17a3a9-0805-4d7f-ba6a-07da905c8abf\" xlink:type=\"simple\"><polygon fill=\"#FFFFFF\" points=\"377,50.5,423,50.5,430,72.7969,544,72.7969,544,141.5,377,141.5,377,50.5\" style=\"stroke: #000000; stroke-width: 1.5;\"/><line style=\"stroke: #000000; stroke-width: 1.5;\" x1=\"377\" x2=\"430\" y1=\"72.7969\" y2=\"72.7969\"/><text fill=\"#000000\" font-family=\"sans-serif\" font-size=\"14\" font-weight=\"bold\" lengthAdjust=\"spacingAndGlyphs\" textLength=\"40\" x=\"381\" y=\"65.4951\">Test1</text></a><!--MD5=[7f149f147074ac12df2cb0a7728a5fb0]\n",
       "cluster E9--><a href=\"psysml:a06e7d3b-be80-4318-b479-ae1779c5974b\" target=\"_top\" title=\"psysml:a06e7d3b-be80-4318-b479-ae1779c5974b\" xlink:actuate=\"onRequest\" xlink:href=\"psysml:a06e7d3b-be80-4318-b479-ae1779c5974b\" xlink:show=\"new\" xlink:title=\"psysml:a06e7d3b-be80-4318-b479-ae1779c5974b\" xlink:type=\"simple\"><polygon fill=\"#FFFFFF\" points=\"186,50.5,232,50.5,239,72.7969,353,72.7969,353,141.5,186,141.5,186,50.5\" style=\"stroke: #000000; stroke-width: 1.5;\"/><line style=\"stroke: #000000; stroke-width: 1.5;\" x1=\"186\" x2=\"239\" y1=\"72.7969\" y2=\"72.7969\"/><text fill=\"#000000\" font-family=\"sans-serif\" font-size=\"14\" font-weight=\"bold\" lengthAdjust=\"spacingAndGlyphs\" textLength=\"40\" x=\"190\" y=\"65.4951\">Test2</text></a><g id=\"E1.E2.E3\"><a href=\"psysml:8ceeee5f-0d5a-4279-aee9-7758649ab8be\" target=\"_top\" title=\"psysml:8ceeee5f-0d5a-4279-aee9-7758649ab8be\" xlink:actuate=\"onRequest\" xlink:href=\"psysml:8ceeee5f-0d5a-4279-aee9-7758649ab8be\" xlink:show=\"new\" xlink:title=\"psysml:8ceeee5f-0d5a-4279-aee9-7758649ab8be\" xlink:type=\"simple\"><rect fill=\"#FFFFFF\" height=\"42.9375\" id=\"E3\" style=\"stroke: #383838; stroke-width: 1.5;\" width=\"75\" x=\"713.5\" y=\"84\"/><rect fill=\"#F8F8F8\" height=\"37.9375\" style=\"stroke: #383838; stroke-width: 1.5;\" width=\"75\" x=\"713.5\" y=\"84\"/><text fill=\"#000000\" font-family=\"sans-serif\" font-size=\"12\" font-style=\"italic\" lengthAdjust=\"spacingAndGlyphs\" textLength=\"68\" x=\"717\" y=\"100.1387\">«part  def»</text><text fill=\"#000000\" font-family=\"sans-serif\" font-size=\"12\" lengthAdjust=\"spacingAndGlyphs\" textLength=\"8\" x=\"747\" y=\"114.1074\">A</text></a></g><g id=\"E1.E4.E5\"><a href=\"psysml:90844ba8-c1a9-4c46-b7c9-d1a2572e7365\" target=\"_top\" title=\"psysml:90844ba8-c1a9-4c46-b7c9-d1a2572e7365\" xlink:actuate=\"onRequest\" xlink:href=\"psysml:90844ba8-c1a9-4c46-b7c9-d1a2572e7365\" xlink:show=\"new\" xlink:title=\"psysml:90844ba8-c1a9-4c46-b7c9-d1a2572e7365\" xlink:type=\"simple\"><rect fill=\"#FFFFFF\" height=\"42.9375\" id=\"E5\" style=\"stroke: #383838; stroke-width: 1.5;\" width=\"75\" x=\"583.5\" y=\"84\"/><rect fill=\"#F8F8F8\" height=\"37.9375\" style=\"stroke: #383838; stroke-width: 1.5;\" width=\"75\" x=\"583.5\" y=\"84\"/><text fill=\"#000000\" font-family=\"sans-serif\" font-size=\"12\" font-style=\"italic\" lengthAdjust=\"spacingAndGlyphs\" textLength=\"68\" x=\"587\" y=\"100.1387\">«part  def»</text><text fill=\"#000000\" font-family=\"sans-serif\" font-size=\"12\" lengthAdjust=\"spacingAndGlyphs\" textLength=\"8\" x=\"617\" y=\"114.1074\">B</text></a></g><g id=\"E1.E6.E7\"><a href=\"psysml:9a31b8cb-b3f5-4478-b49b-73e9fd0f6da5\" target=\"_top\" title=\"psysml:9a31b8cb-b3f5-4478-b49b-73e9fd0f6da5\" xlink:actuate=\"onRequest\" xlink:href=\"psysml:9a31b8cb-b3f5-4478-b49b-73e9fd0f6da5\" xlink:show=\"new\" xlink:title=\"psysml:9a31b8cb-b3f5-4478-b49b-73e9fd0f6da5\" xlink:type=\"simple\"><rect fill=\"#FFFFFF\" height=\"40\" id=\"E7\" rx=\"10\" ry=\"10\" style=\"stroke: #383838; stroke-width: 1.5;\" width=\"50\" x=\"478\" y=\"85.5\"/><rect fill=\"#F8F8F8\" height=\"23.9688\" rx=\"10\" ry=\"10\" style=\"stroke: #F8F8F8; stroke-width: 1.5;\" width=\"50\" x=\"478\" y=\"85.5\"/><rect fill=\"#F8F8F8\" height=\"10\" style=\"stroke: #F8F8F8; stroke-width: 1.5;\" width=\"50\" x=\"478\" y=\"99.4688\"/><rect fill=\"none\" height=\"40\" id=\"E7\" rx=\"10\" ry=\"10\" style=\"stroke: #383838; stroke-width: 1.5;\" width=\"50\" x=\"478\" y=\"85.5\"/><text fill=\"#000000\" font-family=\"sans-serif\" font-size=\"12\" lengthAdjust=\"spacingAndGlyphs\" textLength=\"22\" x=\"492\" y=\"101.6387\">x: A</text></a></g><g id=\"E1.E6.E8\"><a href=\"psysml:084cb86b-cc59-4a41-8b1c-7b7410cc5029\" target=\"_top\" title=\"psysml:084cb86b-cc59-4a41-8b1c-7b7410cc5029\" xlink:actuate=\"onRequest\" xlink:href=\"psysml:084cb86b-cc59-4a41-8b1c-7b7410cc5029\" xlink:show=\"new\" xlink:title=\"psysml:084cb86b-cc59-4a41-8b1c-7b7410cc5029\" xlink:type=\"simple\"><rect fill=\"#FFFFFF\" height=\"40\" id=\"E8\" rx=\"10\" ry=\"10\" style=\"stroke: #383838; stroke-width: 1.5;\" width=\"50\" x=\"393\" y=\"85.5\"/><rect fill=\"#F8F8F8\" height=\"23.9688\" rx=\"10\" ry=\"10\" style=\"stroke: #F8F8F8; stroke-width: 1.5;\" width=\"50\" x=\"393\" y=\"85.5\"/><rect fill=\"#F8F8F8\" height=\"10\" style=\"stroke: #F8F8F8; stroke-width: 1.5;\" width=\"50\" x=\"393\" y=\"99.4688\"/><rect fill=\"none\" height=\"40\" id=\"E8\" rx=\"10\" ry=\"10\" style=\"stroke: #383838; stroke-width: 1.5;\" width=\"50\" x=\"393\" y=\"85.5\"/><text fill=\"#000000\" font-family=\"sans-serif\" font-size=\"12\" lengthAdjust=\"spacingAndGlyphs\" textLength=\"22\" x=\"407\" y=\"101.6387\">y: B</text></a></g><g id=\"E1.E9.E10\"><a href=\"psysml:377a64d2-1aa6-4a9b-ba95-6aeb6c1d992f\" target=\"_top\" title=\"psysml:377a64d2-1aa6-4a9b-ba95-6aeb6c1d992f\" xlink:actuate=\"onRequest\" xlink:href=\"psysml:377a64d2-1aa6-4a9b-ba95-6aeb6c1d992f\" xlink:show=\"new\" xlink:title=\"psysml:377a64d2-1aa6-4a9b-ba95-6aeb6c1d992f\" xlink:type=\"simple\"><rect fill=\"#FFFFFF\" height=\"40\" id=\"E10\" rx=\"10\" ry=\"10\" style=\"stroke: #383838; stroke-width: 1.5;\" width=\"50\" x=\"287\" y=\"85.5\"/><rect fill=\"#F8F8F8\" height=\"23.9688\" rx=\"10\" ry=\"10\" style=\"stroke: #F8F8F8; stroke-width: 1.5;\" width=\"50\" x=\"287\" y=\"85.5\"/><rect fill=\"#F8F8F8\" height=\"10\" style=\"stroke: #F8F8F8; stroke-width: 1.5;\" width=\"50\" x=\"287\" y=\"99.4688\"/><rect fill=\"none\" height=\"40\" id=\"E10\" rx=\"10\" ry=\"10\" style=\"stroke: #383838; stroke-width: 1.5;\" width=\"50\" x=\"287\" y=\"85.5\"/><text fill=\"#000000\" font-family=\"sans-serif\" font-size=\"12\" lengthAdjust=\"spacingAndGlyphs\" textLength=\"22\" x=\"301\" y=\"101.6387\">x: A</text></a></g><g id=\"E1.E9.E11\"><a href=\"psysml:7cdd5db6-fbbe-4f9d-b259-3a085be4f068\" target=\"_top\" title=\"psysml:7cdd5db6-fbbe-4f9d-b259-3a085be4f068\" xlink:actuate=\"onRequest\" xlink:href=\"psysml:7cdd5db6-fbbe-4f9d-b259-3a085be4f068\" xlink:show=\"new\" xlink:title=\"psysml:7cdd5db6-fbbe-4f9d-b259-3a085be4f068\" xlink:type=\"simple\"><rect fill=\"#FFFFFF\" height=\"40\" id=\"E11\" rx=\"10\" ry=\"10\" style=\"stroke: #383838; stroke-width: 1.5;\" width=\"50\" x=\"202\" y=\"85.5\"/><rect fill=\"#F8F8F8\" height=\"23.9688\" rx=\"10\" ry=\"10\" style=\"stroke: #F8F8F8; stroke-width: 1.5;\" width=\"50\" x=\"202\" y=\"85.5\"/><rect fill=\"#F8F8F8\" height=\"10\" style=\"stroke: #F8F8F8; stroke-width: 1.5;\" width=\"50\" x=\"202\" y=\"99.4688\"/><rect fill=\"none\" height=\"40\" id=\"E11\" rx=\"10\" ry=\"10\" style=\"stroke: #383838; stroke-width: 1.5;\" width=\"50\" x=\"202\" y=\"85.5\"/><text fill=\"#000000\" font-family=\"sans-serif\" font-size=\"12\" lengthAdjust=\"spacingAndGlyphs\" textLength=\"22\" x=\"216\" y=\"101.6387\">y: B</text></a></g><g id=\"E1.E12\"><a href=\"psysml:665d223a-8fea-436a-b414-0efd919424fb\" target=\"_top\" title=\"psysml:665d223a-8fea-436a-b414-0efd919424fb\" xlink:actuate=\"onRequest\" xlink:href=\"psysml:665d223a-8fea-436a-b414-0efd919424fb\" xlink:show=\"new\" xlink:title=\"psysml:665d223a-8fea-436a-b414-0efd919424fb\" xlink:type=\"simple\"><rect fill=\"#FFFFFF\" height=\"40\" id=\"E12\" rx=\"10\" ry=\"10\" style=\"stroke: #383838; stroke-width: 1.5;\" width=\"50\" x=\"117\" y=\"85.5\"/><rect fill=\"#F8F8F8\" height=\"23.9688\" rx=\"10\" ry=\"10\" style=\"stroke: #F8F8F8; stroke-width: 1.5;\" width=\"50\" x=\"117\" y=\"85.5\"/><rect fill=\"#F8F8F8\" height=\"10\" style=\"stroke: #F8F8F8; stroke-width: 1.5;\" width=\"50\" x=\"117\" y=\"99.4688\"/><rect fill=\"none\" height=\"40\" id=\"E12\" rx=\"10\" ry=\"10\" style=\"stroke: #383838; stroke-width: 1.5;\" width=\"50\" x=\"117\" y=\"85.5\"/><text fill=\"#000000\" font-family=\"sans-serif\" font-size=\"12\" lengthAdjust=\"spacingAndGlyphs\" textLength=\"22\" x=\"131\" y=\"101.6387\">x: A</text></a></g><g id=\"E1.E13\"><a href=\"psysml:a1b35d80-8992-43c2-aa5d-6937f2901599\" target=\"_top\" title=\"psysml:a1b35d80-8992-43c2-aa5d-6937f2901599\" xlink:actuate=\"onRequest\" xlink:href=\"psysml:a1b35d80-8992-43c2-aa5d-6937f2901599\" xlink:show=\"new\" xlink:title=\"psysml:a1b35d80-8992-43c2-aa5d-6937f2901599\" xlink:type=\"simple\"><rect fill=\"#FFFFFF\" height=\"40\" id=\"E13\" rx=\"10\" ry=\"10\" style=\"stroke: #383838; stroke-width: 1.5;\" width=\"50\" x=\"32\" y=\"85.5\"/><rect fill=\"#F8F8F8\" height=\"23.9688\" rx=\"10\" ry=\"10\" style=\"stroke: #F8F8F8; stroke-width: 1.5;\" width=\"50\" x=\"32\" y=\"85.5\"/><rect fill=\"#F8F8F8\" height=\"10\" style=\"stroke: #F8F8F8; stroke-width: 1.5;\" width=\"50\" x=\"32\" y=\"99.4688\"/><rect fill=\"none\" height=\"40\" id=\"E13\" rx=\"10\" ry=\"10\" style=\"stroke: #383838; stroke-width: 1.5;\" width=\"50\" x=\"32\" y=\"85.5\"/><text fill=\"#000000\" font-family=\"sans-serif\" font-size=\"12\" lengthAdjust=\"spacingAndGlyphs\" textLength=\"22\" x=\"46\" y=\"101.6387\">y: B</text></a></g><!--MD5=[77e6e557237a68302615ad50a70106fa]\n",
       "@startuml\r\n",
       "skinparam ranksep 10\r\n",
       "skinparam rectangle {\r\n",
       " backgroundColor<<block>> LightGreen\r\n",
       "}\r\n",
       "skinparam linetype polyline\r\n",
       "skinparam monochrome true\r\n",
       "skinparam classbackgroundcolor white\r\n",
       "skinparam shadowing false\r\n",
       "skinparam wrapWidth 300\r\n",
       "hide circle\r\n",
       "\r\n",
       "package \"CircularImport\" as E1  [[psysml:6d002b47-1de9-4cb8-be5e-1d54cb7fff5c ]]  {\r\n",
       "package \"P1\" as E2  [[psysml:531dfa6c-428e-410a-a6f8-c5b9ff8ecb34 ]]  {\r\n",
       "rec def \"A\" as E3  <<(T,blue) part  def>> [[psysml:8ceeee5f-0d5a-4279-aee9-7758649ab8be ]] {\r\n",
       "}\r\n",
       "}\r\n",
       "package \"P2\" as E4  [[psysml:62a929fe-702a-4460-9e53-8584d6f6435e ]]  {\r\n",
       "rec def \"B\" as E5  <<(T,blue) part  def>> [[psysml:90844ba8-c1a9-4c46-b7c9-d1a2572e7365 ]] {\r\n",
       "}\r\n",
       "}\r\n",
       "package \"Test1\" as E6  [[psysml:0f17a3a9-0805-4d7f-ba6a-07da905c8abf ]]  {\r\n",
       "rec usage \"x: A\" as E7  [[psysml:9a31b8cb-b3f5-4478-b49b-73e9fd0f6da5 ]] {\r\n",
       "}\r\n",
       "rec usage \"y: B\" as E8  [[psysml:084cb86b-cc59-4a41-8b1c-7b7410cc5029 ]] {\r\n",
       "}\r\n",
       "}\r\n",
       "package \"Test2\" as E9  [[psysml:a06e7d3b-be80-4318-b479-ae1779c5974b ]]  {\r\n",
       "rec usage \"x: A\" as E10  [[psysml:377a64d2-1aa6-4a9b-ba95-6aeb6c1d992f ]] {\r\n",
       "}\r\n",
       "rec usage \"y: B\" as E11  [[psysml:7cdd5db6-fbbe-4f9d-b259-3a085be4f068 ]] {\r\n",
       "}\r\n",
       "}\r\n",
       "rec usage \"x: A\" as E12  [[psysml:665d223a-8fea-436a-b414-0efd919424fb ]] {\r\n",
       "}\r\n",
       "rec usage \"y: B\" as E13  [[psysml:a1b35d80-8992-43c2-aa5d-6937f2901599 ]] {\r\n",
       "}\r\n",
       "}\r\n",
       "@enduml\r\n",
       "\n",
       "PlantUML version 1.2020.13(Sat Jun 13 12:26:38 UTC 2020)\n",
       "(EPL source distribution)\n",
       "Java Runtime: OpenJDK Runtime Environment\n",
       "JVM: OpenJDK 64-Bit Server VM\n",
       "Default Encoding: UTF-8\n",
       "Language: en\n",
       "Country: null\n",
       "--></g></svg>"
      ]
     },
     "execution_count": 12,
     "metadata": {},
     "output_type": "execute_result"
    }
   ],
   "source": [
    "%viz --style=\"POLYLINE\" --view=\"Interconnection\" \"CircularImport\""
   ]
  },
  {
   "cell_type": "code",
   "execution_count": 13,
   "id": "aecf7f78",
   "metadata": {
    "execution": {
     "iopub.execute_input": "2021-12-15T15:15:37.239131Z",
     "iopub.status.busy": "2021-12-15T15:15:37.238707Z",
     "iopub.status.idle": "2021-12-15T15:15:37.244954Z",
     "shell.execute_reply": "2021-12-15T15:15:37.245383Z"
    }
   },
   "outputs": [
    {
     "data": {
      "image/svg+xml": [
       "<?xml version=\"1.0\" encoding=\"UTF-8\" standalone=\"no\"?><svg xmlns=\"http://www.w3.org/2000/svg\" xmlns:xlink=\"http://www.w3.org/1999/xlink\" contentScriptType=\"application/ecmascript\" contentStyleType=\"text/css\" height=\"12px\" preserveAspectRatio=\"none\" style=\"width:12px;height:12px;\" version=\"1.1\" viewBox=\"0 0 12 12\" width=\"12px\" zoomAndPan=\"magnify\"><defs/><g><!--MD5=[97bbf32f66ccd50cbc40d92ea8f5a65e]\n",
       "@startuml\r\n",
       "skinparam ranksep 8\r\n",
       "skinparam linetype polyline\r\n",
       "skinparam monochrome true\r\n",
       "skinparam classbackgroundcolor white\r\n",
       "skinparam shadowing false\r\n",
       "skinparam wrapWidth 300\r\n",
       "hide circle\r\n",
       "\r\n",
       "@enduml\r\n",
       "\n",
       "PlantUML version 1.2020.13(Sat Jun 13 12:26:38 UTC 2020)\n",
       "(EPL source distribution)\n",
       "Java Runtime: OpenJDK Runtime Environment\n",
       "JVM: OpenJDK 64-Bit Server VM\n",
       "Default Encoding: UTF-8\n",
       "Language: en\n",
       "Country: null\n",
       "--></g></svg>"
      ]
     },
     "execution_count": 13,
     "metadata": {},
     "output_type": "execute_result"
    }
   ],
   "source": [
    "%viz --style=\"POLYLINE\" --view=\"Action\" \"CircularImport\""
   ]
  },
  {
   "cell_type": "code",
   "execution_count": 14,
   "id": "f5febf82",
   "metadata": {
    "execution": {
     "iopub.execute_input": "2021-12-15T15:15:37.294388Z",
     "iopub.status.busy": "2021-12-15T15:15:37.293969Z",
     "iopub.status.idle": "2021-12-15T15:15:37.299659Z",
     "shell.execute_reply": "2021-12-15T15:15:37.299986Z"
    }
   },
   "outputs": [
    {
     "data": {
      "image/svg+xml": [
       "<?xml version=\"1.0\" encoding=\"UTF-8\" standalone=\"no\"?><svg xmlns=\"http://www.w3.org/2000/svg\" xmlns:xlink=\"http://www.w3.org/1999/xlink\" contentScriptType=\"application/ecmascript\" contentStyleType=\"text/css\" height=\"12px\" preserveAspectRatio=\"none\" style=\"width:12px;height:12px;\" version=\"1.1\" viewBox=\"0 0 12 12\" width=\"12px\" zoomAndPan=\"magnify\"><defs/><g><!--MD5=[dc938048236c351797870c36b62f92ad]\n",
       "@startuml\r\n",
       "skinparam roundcorner 20\r\n",
       "skinparam BoxPadding 20\r\n",
       "skinparam SequenceBoxBackgroundColor #white\r\n",
       "skinparam style strictuml\r\n",
       "skinparam maxMessageSize 100\r\n",
       "skinparam linetype polyline\r\n",
       "skinparam monochrome true\r\n",
       "skinparam classbackgroundcolor white\r\n",
       "skinparam shadowing false\r\n",
       "skinparam wrapWidth 300\r\n",
       "hide circle\r\n",
       "\r\n",
       "@enduml\r\n",
       "\n",
       "PlantUML version 1.2020.13(Sat Jun 13 12:26:38 UTC 2020)\n",
       "(EPL source distribution)\n",
       "Java Runtime: OpenJDK Runtime Environment\n",
       "JVM: OpenJDK 64-Bit Server VM\n",
       "Default Encoding: UTF-8\n",
       "Language: en\n",
       "Country: null\n",
       "--></g></svg>"
      ]
     },
     "execution_count": 14,
     "metadata": {},
     "output_type": "execute_result"
    }
   ],
   "source": [
    "%viz --style=\"POLYLINE\" --view=\"Sequence\" \"CircularImport\""
   ]
  },
  {
   "cell_type": "code",
   "execution_count": 15,
   "id": "3440c434",
   "metadata": {
    "execution": {
     "iopub.execute_input": "2021-12-15T15:15:37.349627Z",
     "iopub.status.busy": "2021-12-15T15:15:37.349234Z",
     "iopub.status.idle": "2021-12-15T15:15:37.397806Z",
     "shell.execute_reply": "2021-12-15T15:15:37.398134Z"
    }
   },
   "outputs": [
    {
     "data": {
      "image/svg+xml": [
       "<?xml version=\"1.0\" encoding=\"UTF-8\" standalone=\"no\"?><svg xmlns=\"http://www.w3.org/2000/svg\" xmlns:xlink=\"http://www.w3.org/1999/xlink\" contentScriptType=\"application/ecmascript\" contentStyleType=\"text/css\" height=\"303px\" preserveAspectRatio=\"none\" style=\"width:518px;height:303px;\" version=\"1.1\" viewBox=\"0 0 518 303\" width=\"518px\" zoomAndPan=\"magnify\"><defs/><g><!--MD5=[fbc87193dbaf4d95561dea2c320d4a47]\n",
       "cluster E1--><a href=\"psysml:6d002b47-1de9-4cb8-be5e-1d54cb7fff5c\" target=\"_top\" title=\"psysml:6d002b47-1de9-4cb8-be5e-1d54cb7fff5c\" xlink:actuate=\"onRequest\" xlink:href=\"psysml:6d002b47-1de9-4cb8-be5e-1d54cb7fff5c\" xlink:show=\"new\" xlink:title=\"psysml:6d002b47-1de9-4cb8-be5e-1d54cb7fff5c\" xlink:type=\"simple\"><polygon fill=\"#FFFFFF\" points=\"16,6,117,6,124,28.2969,496,28.2969,496,291,16,291,16,6\" style=\"stroke: #000000; stroke-width: 1.5;\"/><line style=\"stroke: #000000; stroke-width: 1.5;\" x1=\"16\" x2=\"124\" y1=\"28.2969\" y2=\"28.2969\"/><text fill=\"#000000\" font-family=\"sans-serif\" font-size=\"14\" font-weight=\"bold\" lengthAdjust=\"spacingAndGlyphs\" textLength=\"95\" x=\"20\" y=\"20.9951\">CircularImport</text></a><!--MD5=[e4f7fae6ed58524ba242bb0b0d3be6b7]\n",
       "cluster E2--><a href=\"psysml:531dfa6c-428e-410a-a6f8-c5b9ff8ecb34\" target=\"_top\" title=\"psysml:531dfa6c-428e-410a-a6f8-c5b9ff8ecb34\" xlink:actuate=\"onRequest\" xlink:href=\"psysml:531dfa6c-428e-410a-a6f8-c5b9ff8ecb34\" xlink:show=\"new\" xlink:title=\"psysml:531dfa6c-428e-410a-a6f8-c5b9ff8ecb34\" xlink:type=\"simple\"><polygon fill=\"#FFFFFF\" points=\"331,170,355,170,362,192.2969,433,192.2969,433,267,331,267,331,170\" style=\"stroke: #000000; stroke-width: 1.5;\"/><line style=\"stroke: #000000; stroke-width: 1.5;\" x1=\"331\" x2=\"362\" y1=\"192.2969\" y2=\"192.2969\"/><text fill=\"#000000\" font-family=\"sans-serif\" font-size=\"14\" font-weight=\"bold\" lengthAdjust=\"spacingAndGlyphs\" textLength=\"18\" x=\"335\" y=\"184.9951\">P1</text></a><!--MD5=[f6df4d0ebaf0b5dfb2ced0ae5af7c670]\n",
       "cluster E4--><a href=\"psysml:62a929fe-702a-4460-9e53-8584d6f6435e\" target=\"_top\" title=\"psysml:62a929fe-702a-4460-9e53-8584d6f6435e\" xlink:actuate=\"onRequest\" xlink:href=\"psysml:62a929fe-702a-4460-9e53-8584d6f6435e\" xlink:show=\"new\" xlink:title=\"psysml:62a929fe-702a-4460-9e53-8584d6f6435e\" xlink:type=\"simple\"><polygon fill=\"#FFFFFF\" points=\"79,170,103,170,110,192.2969,181,192.2969,181,267,79,267,79,170\" style=\"stroke: #000000; stroke-width: 1.5;\"/><line style=\"stroke: #000000; stroke-width: 1.5;\" x1=\"79\" x2=\"110\" y1=\"192.2969\" y2=\"192.2969\"/><text fill=\"#000000\" font-family=\"sans-serif\" font-size=\"14\" font-weight=\"bold\" lengthAdjust=\"spacingAndGlyphs\" textLength=\"18\" x=\"83\" y=\"184.9951\">P2</text></a><!--MD5=[14e3b0961a2654348d326746436168a1]\n",
       "cluster E6--><a href=\"psysml:0f17a3a9-0805-4d7f-ba6a-07da905c8abf\" target=\"_top\" title=\"psysml:0f17a3a9-0805-4d7f-ba6a-07da905c8abf\" xlink:actuate=\"onRequest\" xlink:href=\"psysml:0f17a3a9-0805-4d7f-ba6a-07da905c8abf\" xlink:show=\"new\" xlink:title=\"psysml:0f17a3a9-0805-4d7f-ba6a-07da905c8abf\" xlink:type=\"simple\"><polygon fill=\"#FFFFFF\" points=\"268,49,314,49,321,71.2969,419,71.2969,419,146,268,146,268,49\" style=\"stroke: #000000; stroke-width: 1.5;\"/><line style=\"stroke: #000000; stroke-width: 1.5;\" x1=\"268\" x2=\"321\" y1=\"71.2969\" y2=\"71.2969\"/><text fill=\"#000000\" font-family=\"sans-serif\" font-size=\"14\" font-weight=\"bold\" lengthAdjust=\"spacingAndGlyphs\" textLength=\"40\" x=\"272\" y=\"63.9951\">Test1</text></a><!--MD5=[7f149f147074ac12df2cb0a7728a5fb0]\n",
       "cluster E9--><a href=\"psysml:a06e7d3b-be80-4318-b479-ae1779c5974b\" target=\"_top\" title=\"psysml:a06e7d3b-be80-4318-b479-ae1779c5974b\" xlink:actuate=\"onRequest\" xlink:href=\"psysml:a06e7d3b-be80-4318-b479-ae1779c5974b\" xlink:show=\"new\" xlink:title=\"psysml:a06e7d3b-be80-4318-b479-ae1779c5974b\" xlink:type=\"simple\"><polygon fill=\"#FFFFFF\" points=\"93,49,139,49,146,71.2969,244,71.2969,244,146,93,146,93,49\" style=\"stroke: #000000; stroke-width: 1.5;\"/><line style=\"stroke: #000000; stroke-width: 1.5;\" x1=\"93\" x2=\"146\" y1=\"71.2969\" y2=\"71.2969\"/><text fill=\"#000000\" font-family=\"sans-serif\" font-size=\"14\" font-weight=\"bold\" lengthAdjust=\"spacingAndGlyphs\" textLength=\"40\" x=\"97\" y=\"63.9951\">Test2</text></a><!--MD5=[49a0ec8f00dab7302a31f22d0f0fe584]\n",
       "class E12--><a href=\"psysml:665d223a-8fea-436a-b414-0efd919424fb\" target=\"_top\" title=\"psysml:665d223a-8fea-436a-b414-0efd919424fb\" xlink:actuate=\"onRequest\" xlink:href=\"psysml:665d223a-8fea-436a-b414-0efd919424fb\" xlink:show=\"new\" xlink:title=\"psysml:665d223a-8fea-436a-b414-0efd919424fb\" xlink:type=\"simple\"><rect fill=\"#FFFFFF\" height=\"45.9375\" id=\"E12\" rx=\"10\" ry=\"10\" style=\"stroke: #383838; stroke-width: 1.5;\" width=\"42\" x=\"438\" y=\"84\"/><text fill=\"#000000\" font-family=\"sans-serif\" font-size=\"12\" font-style=\"italic\" lengthAdjust=\"spacingAndGlyphs\" textLength=\"40\" x=\"439\" y=\"100.1387\">«part»</text><text fill=\"#000000\" font-family=\"sans-serif\" font-size=\"12\" lengthAdjust=\"spacingAndGlyphs\" textLength=\"22\" x=\"446\" y=\"114.1074\">x: A</text><line style=\"stroke: #383838; stroke-width: 1.5;\" x1=\"439\" x2=\"479\" y1=\"121.9375\" y2=\"121.9375\"/></a><!--MD5=[ee3c913d1a06f366521f9ef512b67efe]\n",
       "class E13--><a href=\"psysml:a1b35d80-8992-43c2-aa5d-6937f2901599\" target=\"_top\" title=\"psysml:a1b35d80-8992-43c2-aa5d-6937f2901599\" xlink:actuate=\"onRequest\" xlink:href=\"psysml:a1b35d80-8992-43c2-aa5d-6937f2901599\" xlink:show=\"new\" xlink:title=\"psysml:a1b35d80-8992-43c2-aa5d-6937f2901599\" xlink:type=\"simple\"><rect fill=\"#FFFFFF\" height=\"45.9375\" id=\"E13\" rx=\"10\" ry=\"10\" style=\"stroke: #383838; stroke-width: 1.5;\" width=\"42\" x=\"32\" y=\"84\"/><text fill=\"#000000\" font-family=\"sans-serif\" font-size=\"12\" font-style=\"italic\" lengthAdjust=\"spacingAndGlyphs\" textLength=\"40\" x=\"33\" y=\"100.1387\">«part»</text><text fill=\"#000000\" font-family=\"sans-serif\" font-size=\"12\" lengthAdjust=\"spacingAndGlyphs\" textLength=\"22\" x=\"40\" y=\"114.1074\">y: B</text><line style=\"stroke: #383838; stroke-width: 1.5;\" x1=\"33\" x2=\"73\" y1=\"121.9375\" y2=\"121.9375\"/></a><!--MD5=[09b614a08d8cba4a07c9adeb5e0fee81]\n",
       "class E3--><a href=\"psysml:8ceeee5f-0d5a-4279-aee9-7758649ab8be\" target=\"_top\" title=\"psysml:8ceeee5f-0d5a-4279-aee9-7758649ab8be\" xlink:actuate=\"onRequest\" xlink:href=\"psysml:8ceeee5f-0d5a-4279-aee9-7758649ab8be\" xlink:show=\"new\" xlink:title=\"psysml:8ceeee5f-0d5a-4279-aee9-7758649ab8be\" xlink:type=\"simple\"><rect fill=\"#FFFFFF\" height=\"45.9375\" id=\"E3\" style=\"stroke: #383838; stroke-width: 1.5;\" width=\"70\" x=\"347\" y=\"205\"/><text fill=\"#000000\" font-family=\"sans-serif\" font-size=\"12\" font-style=\"italic\" lengthAdjust=\"spacingAndGlyphs\" textLength=\"68\" x=\"348\" y=\"221.1387\">«part  def»</text><text fill=\"#000000\" font-family=\"sans-serif\" font-size=\"12\" lengthAdjust=\"spacingAndGlyphs\" textLength=\"8\" x=\"378\" y=\"235.1074\">A</text><line style=\"stroke: #383838; stroke-width: 1.5;\" x1=\"348\" x2=\"416\" y1=\"242.9375\" y2=\"242.9375\"/></a><!--MD5=[270fce915f116d4de14055a7c1d9a0f3]\n",
       "class E5--><a href=\"psysml:90844ba8-c1a9-4c46-b7c9-d1a2572e7365\" target=\"_top\" title=\"psysml:90844ba8-c1a9-4c46-b7c9-d1a2572e7365\" xlink:actuate=\"onRequest\" xlink:href=\"psysml:90844ba8-c1a9-4c46-b7c9-d1a2572e7365\" xlink:show=\"new\" xlink:title=\"psysml:90844ba8-c1a9-4c46-b7c9-d1a2572e7365\" xlink:type=\"simple\"><rect fill=\"#FFFFFF\" height=\"45.9375\" id=\"E5\" style=\"stroke: #383838; stroke-width: 1.5;\" width=\"70\" x=\"95\" y=\"205\"/><text fill=\"#000000\" font-family=\"sans-serif\" font-size=\"12\" font-style=\"italic\" lengthAdjust=\"spacingAndGlyphs\" textLength=\"68\" x=\"96\" y=\"221.1387\">«part  def»</text><text fill=\"#000000\" font-family=\"sans-serif\" font-size=\"12\" lengthAdjust=\"spacingAndGlyphs\" textLength=\"8\" x=\"126\" y=\"235.1074\">B</text><line style=\"stroke: #383838; stroke-width: 1.5;\" x1=\"96\" x2=\"164\" y1=\"242.9375\" y2=\"242.9375\"/></a><!--MD5=[2156ba9850f5573cc1fc38a6a4b2f02b]\n",
       "class E7--><a href=\"psysml:9a31b8cb-b3f5-4478-b49b-73e9fd0f6da5\" target=\"_top\" title=\"psysml:9a31b8cb-b3f5-4478-b49b-73e9fd0f6da5\" xlink:actuate=\"onRequest\" xlink:href=\"psysml:9a31b8cb-b3f5-4478-b49b-73e9fd0f6da5\" xlink:show=\"new\" xlink:title=\"psysml:9a31b8cb-b3f5-4478-b49b-73e9fd0f6da5\" xlink:type=\"simple\"><rect fill=\"#FFFFFF\" height=\"45.9375\" id=\"E7\" rx=\"10\" ry=\"10\" style=\"stroke: #383838; stroke-width: 1.5;\" width=\"42\" x=\"361\" y=\"84\"/><text fill=\"#000000\" font-family=\"sans-serif\" font-size=\"12\" font-style=\"italic\" lengthAdjust=\"spacingAndGlyphs\" textLength=\"40\" x=\"362\" y=\"100.1387\">«part»</text><text fill=\"#000000\" font-family=\"sans-serif\" font-size=\"12\" lengthAdjust=\"spacingAndGlyphs\" textLength=\"22\" x=\"369\" y=\"114.1074\">x: A</text><line style=\"stroke: #383838; stroke-width: 1.5;\" x1=\"362\" x2=\"402\" y1=\"121.9375\" y2=\"121.9375\"/></a><!--MD5=[b9389687b975829384b498ac4b7476b2]\n",
       "class E8--><a href=\"psysml:084cb86b-cc59-4a41-8b1c-7b7410cc5029\" target=\"_top\" title=\"psysml:084cb86b-cc59-4a41-8b1c-7b7410cc5029\" xlink:actuate=\"onRequest\" xlink:href=\"psysml:084cb86b-cc59-4a41-8b1c-7b7410cc5029\" xlink:show=\"new\" xlink:title=\"psysml:084cb86b-cc59-4a41-8b1c-7b7410cc5029\" xlink:type=\"simple\"><rect fill=\"#FFFFFF\" height=\"45.9375\" id=\"E8\" rx=\"10\" ry=\"10\" style=\"stroke: #383838; stroke-width: 1.5;\" width=\"42\" x=\"284\" y=\"84\"/><text fill=\"#000000\" font-family=\"sans-serif\" font-size=\"12\" font-style=\"italic\" lengthAdjust=\"spacingAndGlyphs\" textLength=\"40\" x=\"285\" y=\"100.1387\">«part»</text><text fill=\"#000000\" font-family=\"sans-serif\" font-size=\"12\" lengthAdjust=\"spacingAndGlyphs\" textLength=\"22\" x=\"292\" y=\"114.1074\">y: B</text><line style=\"stroke: #383838; stroke-width: 1.5;\" x1=\"285\" x2=\"325\" y1=\"121.9375\" y2=\"121.9375\"/></a><!--MD5=[96f4274e9e20536e775497830990834d]\n",
       "class E10--><a href=\"psysml:377a64d2-1aa6-4a9b-ba95-6aeb6c1d992f\" target=\"_top\" title=\"psysml:377a64d2-1aa6-4a9b-ba95-6aeb6c1d992f\" xlink:actuate=\"onRequest\" xlink:href=\"psysml:377a64d2-1aa6-4a9b-ba95-6aeb6c1d992f\" xlink:show=\"new\" xlink:title=\"psysml:377a64d2-1aa6-4a9b-ba95-6aeb6c1d992f\" xlink:type=\"simple\"><rect fill=\"#FFFFFF\" height=\"45.9375\" id=\"E10\" rx=\"10\" ry=\"10\" style=\"stroke: #383838; stroke-width: 1.5;\" width=\"42\" x=\"186\" y=\"84\"/><text fill=\"#000000\" font-family=\"sans-serif\" font-size=\"12\" font-style=\"italic\" lengthAdjust=\"spacingAndGlyphs\" textLength=\"40\" x=\"187\" y=\"100.1387\">«part»</text><text fill=\"#000000\" font-family=\"sans-serif\" font-size=\"12\" lengthAdjust=\"spacingAndGlyphs\" textLength=\"22\" x=\"194\" y=\"114.1074\">x: A</text><line style=\"stroke: #383838; stroke-width: 1.5;\" x1=\"187\" x2=\"227\" y1=\"121.9375\" y2=\"121.9375\"/></a><!--MD5=[1dd1bfd58a279cf63c5f349dbc8fc6a1]\n",
       "class E11--><a href=\"psysml:7cdd5db6-fbbe-4f9d-b259-3a085be4f068\" target=\"_top\" title=\"psysml:7cdd5db6-fbbe-4f9d-b259-3a085be4f068\" xlink:actuate=\"onRequest\" xlink:href=\"psysml:7cdd5db6-fbbe-4f9d-b259-3a085be4f068\" xlink:show=\"new\" xlink:title=\"psysml:7cdd5db6-fbbe-4f9d-b259-3a085be4f068\" xlink:type=\"simple\"><rect fill=\"#FFFFFF\" height=\"45.9375\" id=\"E11\" rx=\"10\" ry=\"10\" style=\"stroke: #383838; stroke-width: 1.5;\" width=\"42\" x=\"109\" y=\"84\"/><text fill=\"#000000\" font-family=\"sans-serif\" font-size=\"12\" font-style=\"italic\" lengthAdjust=\"spacingAndGlyphs\" textLength=\"40\" x=\"110\" y=\"100.1387\">«part»</text><text fill=\"#000000\" font-family=\"sans-serif\" font-size=\"12\" lengthAdjust=\"spacingAndGlyphs\" textLength=\"22\" x=\"117\" y=\"114.1074\">y: B</text><line style=\"stroke: #383838; stroke-width: 1.5;\" x1=\"110\" x2=\"150\" y1=\"121.9375\" y2=\"121.9375\"/></a><!--MD5=[14ccda38c055a5c0da953d572bc50960]\n",
       "link E7 to E3--><a href=\"psysml:0b2c7bde-3c6f-4711-9ee8-a744dba64aec\" target=\"_top\" title=\"psysml:0b2c7bde-3c6f-4711-9ee8-a744dba64aec\" xlink:actuate=\"onRequest\" xlink:href=\"psysml:0b2c7bde-3c6f-4711-9ee8-a744dba64aec\" xlink:show=\"new\" xlink:title=\"psysml:0b2c7bde-3c6f-4711-9ee8-a744dba64aec\" xlink:type=\"simple\"><path d=\"M382,130.1 C382,145.37 382,166.16 382,184.57 \" fill=\"none\" id=\"E7-&gt;E3\" style=\"stroke: #383838; stroke-width: 1.0;\"/><polygon fill=\"#FFFFFF\" points=\"382,204.61,375,185.61,389,185.61,382,204.61\" style=\"stroke: #383838; stroke-width: 1.0;\"/><ellipse cx=\"377\" cy=\"179.91\" fill=\"#383838\" rx=\"2\" ry=\"2\" style=\"stroke: #383838; stroke-width: 1.0;\"/><ellipse cx=\"387\" cy=\"179.91\" fill=\"#383838\" rx=\"2\" ry=\"2\" style=\"stroke: #383838; stroke-width: 1.0;\"/></a><!--MD5=[1ccb2481ffa92f8d51a74ee30c51832a]\n",
       "link E8 to E5--><a href=\"psysml:16eea2e1-2a1c-45c0-89dc-072c92b0db51\" target=\"_top\" title=\"psysml:16eea2e1-2a1c-45c0-89dc-072c92b0db51\" xlink:actuate=\"onRequest\" xlink:href=\"psysml:16eea2e1-2a1c-45c0-89dc-072c92b0db51\" xlink:show=\"new\" xlink:title=\"psysml:16eea2e1-2a1c-45c0-89dc-072c92b0db51\" xlink:type=\"simple\"><path d=\"M283.67,124.09 C266.07,137.35 244,154 244,154 C244,154 211.9,174.55 181.77,193.85 \" fill=\"none\" id=\"E8-&gt;E5\" style=\"stroke: #383838; stroke-width: 1.0;\"/><polygon fill=\"#FFFFFF\" points=\"164.51,204.9,176.7355,188.7588,184.2854,200.5486,164.51,204.9\" style=\"stroke: #383838; stroke-width: 1.0;\"/><ellipse cx=\"182.6142\" cy=\"187.3692\" fill=\"#383838\" rx=\"2\" ry=\"2\" style=\"stroke: #383838; stroke-width: 1.0;\"/><ellipse cx=\"188.007\" cy=\"195.7905\" fill=\"#383838\" rx=\"2\" ry=\"2\" style=\"stroke: #383838; stroke-width: 1.0;\"/></a><!--MD5=[feeac5eb423634930294aa81f2d25a4c]\n",
       "link E10 to E3--><a href=\"psysml:0ac0ff17-b961-483b-88a6-6c34531d2872\" target=\"_top\" title=\"psysml:0ac0ff17-b961-483b-88a6-6c34531d2872\" xlink:actuate=\"onRequest\" xlink:href=\"psysml:0ac0ff17-b961-483b-88a6-6c34531d2872\" xlink:show=\"new\" xlink:title=\"psysml:0ac0ff17-b961-483b-88a6-6c34531d2872\" xlink:type=\"simple\"><path d=\"M228.33,124.09 C245.93,137.35 268,154 268,154 C268,154 300.1,174.55 330.23,193.85 \" fill=\"none\" id=\"E10-&gt;E3\" style=\"stroke: #383838; stroke-width: 1.0;\"/><polygon fill=\"#FFFFFF\" points=\"347.49,204.9,327.7146,200.5486,335.2645,188.7588,347.49,204.9\" style=\"stroke: #383838; stroke-width: 1.0;\"/><ellipse cx=\"323.993\" cy=\"195.7905\" fill=\"#383838\" rx=\"2\" ry=\"2\" style=\"stroke: #383838; stroke-width: 1.0;\"/><ellipse cx=\"329.3858\" cy=\"187.3692\" fill=\"#383838\" rx=\"2\" ry=\"2\" style=\"stroke: #383838; stroke-width: 1.0;\"/></a><!--MD5=[07b77f6f309248d16187045709d1c26e]\n",
       "link E11 to E5--><a href=\"psysml:7353245a-aec5-4316-8af8-2852475c4dc4\" target=\"_top\" title=\"psysml:7353245a-aec5-4316-8af8-2852475c4dc4\" xlink:actuate=\"onRequest\" xlink:href=\"psysml:7353245a-aec5-4316-8af8-2852475c4dc4\" xlink:show=\"new\" xlink:title=\"psysml:7353245a-aec5-4316-8af8-2852475c4dc4\" xlink:type=\"simple\"><path d=\"M130,130.1 C130,145.37 130,166.16 130,184.57 \" fill=\"none\" id=\"E11-&gt;E5\" style=\"stroke: #383838; stroke-width: 1.0;\"/><polygon fill=\"#FFFFFF\" points=\"130,204.61,123,185.61,137,185.61,130,204.61\" style=\"stroke: #383838; stroke-width: 1.0;\"/><ellipse cx=\"125\" cy=\"179.91\" fill=\"#383838\" rx=\"2\" ry=\"2\" style=\"stroke: #383838; stroke-width: 1.0;\"/><ellipse cx=\"135\" cy=\"179.91\" fill=\"#383838\" rx=\"2\" ry=\"2\" style=\"stroke: #383838; stroke-width: 1.0;\"/></a><!--MD5=[39f41a0e550fb3d73b4d8135617e30a2]\n",
       "link E12 to E3--><a href=\"psysml:6cc10db6-ba98-48a2-919a-a7b34cb2bdfc\" target=\"_top\" title=\"psysml:6cc10db6-ba98-48a2-919a-a7b34cb2bdfc\" xlink:actuate=\"onRequest\" xlink:href=\"psysml:6cc10db6-ba98-48a2-919a-a7b34cb2bdfc\" xlink:show=\"new\" xlink:title=\"psysml:6cc10db6-ba98-48a2-919a-a7b34cb2bdfc\" xlink:type=\"simple\"><path d=\"M444.7,130.1 C434.28,146.2 419.89,168.44 407.53,187.55 \" fill=\"none\" id=\"E12-&gt;E3\" style=\"stroke: #383838; stroke-width: 1.0;\"/><polygon fill=\"#FFFFFF\" points=\"396.49,204.61,400.9313,184.8546,412.6866,192.4581,396.49,204.61\" style=\"stroke: #383838; stroke-width: 1.0;\"/><ellipse cx=\"405.7063\" cy=\"181.1547\" fill=\"#383838\" rx=\"2\" ry=\"2\" style=\"stroke: #383838; stroke-width: 1.0;\"/><ellipse cx=\"414.103\" cy=\"186.5858\" fill=\"#383838\" rx=\"2\" ry=\"2\" style=\"stroke: #383838; stroke-width: 1.0;\"/></a><!--MD5=[066b2d8af59fea80ccdb3d54ad5c1091]\n",
       "link E13 to E5--><a href=\"psysml:fb180b05-d2cf-42d1-bf2a-01829ad20206\" target=\"_top\" title=\"psysml:fb180b05-d2cf-42d1-bf2a-01829ad20206\" xlink:actuate=\"onRequest\" xlink:href=\"psysml:fb180b05-d2cf-42d1-bf2a-01829ad20206\" xlink:show=\"new\" xlink:title=\"psysml:fb180b05-d2cf-42d1-bf2a-01829ad20206\" xlink:type=\"simple\"><path d=\"M67.3,130.1 C77.72,146.2 92.11,168.44 104.47,187.55 \" fill=\"none\" id=\"E13-&gt;E5\" style=\"stroke: #383838; stroke-width: 1.0;\"/><polygon fill=\"#FFFFFF\" points=\"115.51,204.61,99.3134,192.4581,111.0687,184.8546,115.51,204.61\" style=\"stroke: #383838; stroke-width: 1.0;\"/><ellipse cx=\"97.897\" cy=\"186.5858\" fill=\"#383838\" rx=\"2\" ry=\"2\" style=\"stroke: #383838; stroke-width: 1.0;\"/><ellipse cx=\"106.2937\" cy=\"181.1547\" fill=\"#383838\" rx=\"2\" ry=\"2\" style=\"stroke: #383838; stroke-width: 1.0;\"/></a><!--MD5=[4cd418e9c2782f4e89e831fe74dc0076]\n",
       "@startuml\r\n",
       "skinparam linetype polyline\r\n",
       "skinparam monochrome true\r\n",
       "skinparam classbackgroundcolor white\r\n",
       "skinparam shadowing false\r\n",
       "skinparam wrapWidth 300\r\n",
       "hide circle\r\n",
       "\r\n",
       "package \"CircularImport\" as E1  [[psysml:6d002b47-1de9-4cb8-be5e-1d54cb7fff5c ]]  {\r\n",
       "package \"P1\" as E2  [[psysml:531dfa6c-428e-410a-a6f8-c5b9ff8ecb34 ]]  {\r\n",
       "comp def \"A\" as E3  <<(T,blue) part  def>> [[psysml:8ceeee5f-0d5a-4279-aee9-7758649ab8be ]] {\r\n",
       "}\r\n",
       "}\r\n",
       "package \"P2\" as E4  [[psysml:62a929fe-702a-4460-9e53-8584d6f6435e ]]  {\r\n",
       "comp def \"B\" as E5  <<(T,blue) part  def>> [[psysml:90844ba8-c1a9-4c46-b7c9-d1a2572e7365 ]] {\r\n",
       "}\r\n",
       "}\r\n",
       "package \"Test1\" as E6  [[psysml:0f17a3a9-0805-4d7f-ba6a-07da905c8abf ]]  {\r\n",
       "comp usage \"x: A \" as E7  <<(T,blue) part>> [[psysml:9a31b8cb-b3f5-4478-b49b-73e9fd0f6da5 ]] {\r\n",
       "}\r\n",
       "comp usage \"y: B \" as E8  <<(T,blue) part>> [[psysml:084cb86b-cc59-4a41-8b1c-7b7410cc5029 ]] {\r\n",
       "}\r\n",
       "}\r\n",
       "package \"Test2\" as E9  [[psysml:a06e7d3b-be80-4318-b479-ae1779c5974b ]]  {\r\n",
       "comp usage \"x: A \" as E10  <<(T,blue) part>> [[psysml:377a64d2-1aa6-4a9b-ba95-6aeb6c1d992f ]] {\r\n",
       "}\r\n",
       "comp usage \"y: B \" as E11  <<(T,blue) part>> [[psysml:7cdd5db6-fbbe-4f9d-b259-3a085be4f068 ]] {\r\n",
       "}\r\n",
       "}\r\n",
       "comp usage \"x: A \" as E12  <<(T,blue) part>> [[psysml:665d223a-8fea-436a-b414-0efd919424fb ]] {\r\n",
       "}\r\n",
       "comp usage \"y: B \" as E13  <<(T,blue) part>> [[psysml:a1b35d80-8992-43c2-aa5d-6937f2901599 ]] {\r\n",
       "}\r\n",
       "}\r\n",
       "E7 - -:|> E3 [[psysml:0b2c7bde-3c6f-4711-9ee8-a744dba64aec ]] \r\n",
       "E8 - -:|> E5 [[psysml:16eea2e1-2a1c-45c0-89dc-072c92b0db51 ]] \r\n",
       "E10 - -:|> E3 [[psysml:0ac0ff17-b961-483b-88a6-6c34531d2872 ]] \r\n",
       "E11 - -:|> E5 [[psysml:7353245a-aec5-4316-8af8-2852475c4dc4 ]] \r\n",
       "E12 - -:|> E3 [[psysml:6cc10db6-ba98-48a2-919a-a7b34cb2bdfc ]] \r\n",
       "E13 - -:|> E5 [[psysml:fb180b05-d2cf-42d1-bf2a-01829ad20206 ]] \r\n",
       "@enduml\r\n",
       "\n",
       "PlantUML version 1.2020.13(Sat Jun 13 12:26:38 UTC 2020)\n",
       "(EPL source distribution)\n",
       "Java Runtime: OpenJDK Runtime Environment\n",
       "JVM: OpenJDK 64-Bit Server VM\n",
       "Default Encoding: UTF-8\n",
       "Language: en\n",
       "Country: null\n",
       "--></g></svg>"
      ]
     },
     "execution_count": 15,
     "metadata": {},
     "output_type": "execute_result"
    }
   ],
   "source": [
    "%viz --style=\"POLYLINE\" --view=\"MIXED\" \"CircularImport\""
   ]
  },
  {
   "cell_type": "code",
   "execution_count": 16,
   "id": "ba07d503",
   "metadata": {
    "execution": {
     "iopub.execute_input": "2021-12-15T15:15:37.447667Z",
     "iopub.status.busy": "2021-12-15T15:15:37.447246Z",
     "iopub.status.idle": "2021-12-15T15:15:37.480670Z",
     "shell.execute_reply": "2021-12-15T15:15:37.480304Z"
    }
   },
   "outputs": [
    {
     "data": {
      "image/svg+xml": [
       "<?xml version=\"1.0\" encoding=\"UTF-8\" standalone=\"no\"?><svg xmlns=\"http://www.w3.org/2000/svg\" xmlns:xlink=\"http://www.w3.org/1999/xlink\" contentScriptType=\"application/ecmascript\" contentStyleType=\"text/css\" height=\"576px\" preserveAspectRatio=\"none\" style=\"width:290px;height:576px;\" version=\"1.1\" viewBox=\"0 0 290 576\" width=\"290px\" zoomAndPan=\"magnify\"><defs/><g><!--MD5=[fbc87193dbaf4d95561dea2c320d4a47]\n",
       "cluster E1--><a href=\"psysml:6d002b47-1de9-4cb8-be5e-1d54cb7fff5c\" target=\"_top\" title=\"psysml:6d002b47-1de9-4cb8-be5e-1d54cb7fff5c\" xlink:actuate=\"onRequest\" xlink:href=\"psysml:6d002b47-1de9-4cb8-be5e-1d54cb7fff5c\" xlink:show=\"new\" xlink:title=\"psysml:6d002b47-1de9-4cb8-be5e-1d54cb7fff5c\" xlink:type=\"simple\"><polygon fill=\"#FFFFFF\" points=\"16,6,117,6,124,28.2969,268,28.2969,268,564,16,564,16,6\" style=\"stroke: #000000; stroke-width: 1.5;\"/><line style=\"stroke: #000000; stroke-width: 1.5;\" x1=\"16\" x2=\"124\" y1=\"28.2969\" y2=\"28.2969\"/><text fill=\"#000000\" font-family=\"sans-serif\" font-size=\"14\" font-weight=\"bold\" lengthAdjust=\"spacingAndGlyphs\" textLength=\"95\" x=\"20\" y=\"20.9951\">CircularImport</text></a><!--MD5=[e4f7fae6ed58524ba242bb0b0d3be6b7]\n",
       "cluster E2--><a href=\"psysml:531dfa6c-428e-410a-a6f8-c5b9ff8ecb34\" target=\"_top\" title=\"psysml:531dfa6c-428e-410a-a6f8-c5b9ff8ecb34\" xlink:actuate=\"onRequest\" xlink:href=\"psysml:531dfa6c-428e-410a-a6f8-c5b9ff8ecb34\" xlink:show=\"new\" xlink:title=\"psysml:531dfa6c-428e-410a-a6f8-c5b9ff8ecb34\" xlink:type=\"simple\"><polygon fill=\"#FFFFFF\" points=\"142,103,166,103,173,125.2969,244,125.2969,244,200,142,200,142,103\" style=\"stroke: #000000; stroke-width: 1.5;\"/><line style=\"stroke: #000000; stroke-width: 1.5;\" x1=\"142\" x2=\"173\" y1=\"125.2969\" y2=\"125.2969\"/><text fill=\"#000000\" font-family=\"sans-serif\" font-size=\"14\" font-weight=\"bold\" lengthAdjust=\"spacingAndGlyphs\" textLength=\"18\" x=\"146\" y=\"117.9951\">P1</text></a><!--MD5=[f6df4d0ebaf0b5dfb2ced0ae5af7c670]\n",
       "cluster E4--><a href=\"psysml:62a929fe-702a-4460-9e53-8584d6f6435e\" target=\"_top\" title=\"psysml:62a929fe-702a-4460-9e53-8584d6f6435e\" xlink:actuate=\"onRequest\" xlink:href=\"psysml:62a929fe-702a-4460-9e53-8584d6f6435e\" xlink:show=\"new\" xlink:title=\"psysml:62a929fe-702a-4460-9e53-8584d6f6435e\" xlink:type=\"simple\"><polygon fill=\"#FFFFFF\" points=\"142,386,166,386,173,408.2969,244,408.2969,244,483,142,483,142,386\" style=\"stroke: #000000; stroke-width: 1.5;\"/><line style=\"stroke: #000000; stroke-width: 1.5;\" x1=\"142\" x2=\"173\" y1=\"408.2969\" y2=\"408.2969\"/><text fill=\"#000000\" font-family=\"sans-serif\" font-size=\"14\" font-weight=\"bold\" lengthAdjust=\"spacingAndGlyphs\" textLength=\"18\" x=\"146\" y=\"400.9951\">P2</text></a><!--MD5=[14e3b0961a2654348d326746436168a1]\n",
       "cluster E6--><a href=\"psysml:0f17a3a9-0805-4d7f-ba6a-07da905c8abf\" target=\"_top\" title=\"psysml:0f17a3a9-0805-4d7f-ba6a-07da905c8abf\" xlink:actuate=\"onRequest\" xlink:href=\"psysml:0f17a3a9-0805-4d7f-ba6a-07da905c8abf\" xlink:show=\"new\" xlink:title=\"psysml:0f17a3a9-0805-4d7f-ba6a-07da905c8abf\" xlink:type=\"simple\"><polygon fill=\"#FFFFFF\" points=\"40,103,86,103,93,125.2969,114,125.2969,114,281,40,281,40,103\" style=\"stroke: #000000; stroke-width: 1.5;\"/><line style=\"stroke: #000000; stroke-width: 1.5;\" x1=\"40\" x2=\"93\" y1=\"125.2969\" y2=\"125.2969\"/><text fill=\"#000000\" font-family=\"sans-serif\" font-size=\"14\" font-weight=\"bold\" lengthAdjust=\"spacingAndGlyphs\" textLength=\"40\" x=\"44\" y=\"117.9951\">Test1</text></a><!--MD5=[7f149f147074ac12df2cb0a7728a5fb0]\n",
       "cluster E9--><a href=\"psysml:a06e7d3b-be80-4318-b479-ae1779c5974b\" target=\"_top\" title=\"psysml:a06e7d3b-be80-4318-b479-ae1779c5974b\" xlink:actuate=\"onRequest\" xlink:href=\"psysml:a06e7d3b-be80-4318-b479-ae1779c5974b\" xlink:show=\"new\" xlink:title=\"psysml:a06e7d3b-be80-4318-b479-ae1779c5974b\" xlink:type=\"simple\"><polygon fill=\"#FFFFFF\" points=\"40,305,86,305,93,327.2969,114,327.2969,114,483,40,483,40,305\" style=\"stroke: #000000; stroke-width: 1.5;\"/><line style=\"stroke: #000000; stroke-width: 1.5;\" x1=\"40\" x2=\"93\" y1=\"327.2969\" y2=\"327.2969\"/><text fill=\"#000000\" font-family=\"sans-serif\" font-size=\"14\" font-weight=\"bold\" lengthAdjust=\"spacingAndGlyphs\" textLength=\"40\" x=\"44\" y=\"319.9951\">Test2</text></a><!--MD5=[49a0ec8f00dab7302a31f22d0f0fe584]\n",
       "class E12--><a href=\"psysml:665d223a-8fea-436a-b414-0efd919424fb\" target=\"_top\" title=\"psysml:665d223a-8fea-436a-b414-0efd919424fb\" xlink:actuate=\"onRequest\" xlink:href=\"psysml:665d223a-8fea-436a-b414-0efd919424fb\" xlink:show=\"new\" xlink:title=\"psysml:665d223a-8fea-436a-b414-0efd919424fb\" xlink:type=\"simple\"><rect fill=\"#FFFFFF\" height=\"45.9375\" id=\"E12\" rx=\"10\" ry=\"10\" style=\"stroke: #383838; stroke-width: 1.5;\" width=\"42\" x=\"56\" y=\"41\"/><text fill=\"#000000\" font-family=\"sans-serif\" font-size=\"12\" font-style=\"italic\" lengthAdjust=\"spacingAndGlyphs\" textLength=\"40\" x=\"57\" y=\"57.1387\">«part»</text><text fill=\"#000000\" font-family=\"sans-serif\" font-size=\"12\" lengthAdjust=\"spacingAndGlyphs\" textLength=\"22\" x=\"64\" y=\"71.1074\">x: A</text><line style=\"stroke: #383838; stroke-width: 1.5;\" x1=\"57\" x2=\"97\" y1=\"78.9375\" y2=\"78.9375\"/></a><!--MD5=[ee3c913d1a06f366521f9ef512b67efe]\n",
       "class E13--><a href=\"psysml:a1b35d80-8992-43c2-aa5d-6937f2901599\" target=\"_top\" title=\"psysml:a1b35d80-8992-43c2-aa5d-6937f2901599\" xlink:actuate=\"onRequest\" xlink:href=\"psysml:a1b35d80-8992-43c2-aa5d-6937f2901599\" xlink:show=\"new\" xlink:title=\"psysml:a1b35d80-8992-43c2-aa5d-6937f2901599\" xlink:type=\"simple\"><rect fill=\"#FFFFFF\" height=\"45.9375\" id=\"E13\" rx=\"10\" ry=\"10\" style=\"stroke: #383838; stroke-width: 1.5;\" width=\"42\" x=\"56\" y=\"502\"/><text fill=\"#000000\" font-family=\"sans-serif\" font-size=\"12\" font-style=\"italic\" lengthAdjust=\"spacingAndGlyphs\" textLength=\"40\" x=\"57\" y=\"518.1387\">«part»</text><text fill=\"#000000\" font-family=\"sans-serif\" font-size=\"12\" lengthAdjust=\"spacingAndGlyphs\" textLength=\"22\" x=\"64\" y=\"532.1074\">y: B</text><line style=\"stroke: #383838; stroke-width: 1.5;\" x1=\"57\" x2=\"97\" y1=\"539.9375\" y2=\"539.9375\"/></a><!--MD5=[09b614a08d8cba4a07c9adeb5e0fee81]\n",
       "class E3--><a href=\"psysml:8ceeee5f-0d5a-4279-aee9-7758649ab8be\" target=\"_top\" title=\"psysml:8ceeee5f-0d5a-4279-aee9-7758649ab8be\" xlink:actuate=\"onRequest\" xlink:href=\"psysml:8ceeee5f-0d5a-4279-aee9-7758649ab8be\" xlink:show=\"new\" xlink:title=\"psysml:8ceeee5f-0d5a-4279-aee9-7758649ab8be\" xlink:type=\"simple\"><rect fill=\"#FFFFFF\" height=\"45.9375\" id=\"E3\" style=\"stroke: #383838; stroke-width: 1.5;\" width=\"70\" x=\"158\" y=\"138\"/><text fill=\"#000000\" font-family=\"sans-serif\" font-size=\"12\" font-style=\"italic\" lengthAdjust=\"spacingAndGlyphs\" textLength=\"68\" x=\"159\" y=\"154.1387\">«part  def»</text><text fill=\"#000000\" font-family=\"sans-serif\" font-size=\"12\" lengthAdjust=\"spacingAndGlyphs\" textLength=\"8\" x=\"189\" y=\"168.1074\">A</text><line style=\"stroke: #383838; stroke-width: 1.5;\" x1=\"159\" x2=\"227\" y1=\"175.9375\" y2=\"175.9375\"/></a><!--MD5=[270fce915f116d4de14055a7c1d9a0f3]\n",
       "class E5--><a href=\"psysml:90844ba8-c1a9-4c46-b7c9-d1a2572e7365\" target=\"_top\" title=\"psysml:90844ba8-c1a9-4c46-b7c9-d1a2572e7365\" xlink:actuate=\"onRequest\" xlink:href=\"psysml:90844ba8-c1a9-4c46-b7c9-d1a2572e7365\" xlink:show=\"new\" xlink:title=\"psysml:90844ba8-c1a9-4c46-b7c9-d1a2572e7365\" xlink:type=\"simple\"><rect fill=\"#FFFFFF\" height=\"45.9375\" id=\"E5\" style=\"stroke: #383838; stroke-width: 1.5;\" width=\"70\" x=\"158\" y=\"421\"/><text fill=\"#000000\" font-family=\"sans-serif\" font-size=\"12\" font-style=\"italic\" lengthAdjust=\"spacingAndGlyphs\" textLength=\"68\" x=\"159\" y=\"437.1387\">«part  def»</text><text fill=\"#000000\" font-family=\"sans-serif\" font-size=\"12\" lengthAdjust=\"spacingAndGlyphs\" textLength=\"8\" x=\"189\" y=\"451.1074\">B</text><line style=\"stroke: #383838; stroke-width: 1.5;\" x1=\"159\" x2=\"227\" y1=\"458.9375\" y2=\"458.9375\"/></a><!--MD5=[2156ba9850f5573cc1fc38a6a4b2f02b]\n",
       "class E7--><a href=\"psysml:9a31b8cb-b3f5-4478-b49b-73e9fd0f6da5\" target=\"_top\" title=\"psysml:9a31b8cb-b3f5-4478-b49b-73e9fd0f6da5\" xlink:actuate=\"onRequest\" xlink:href=\"psysml:9a31b8cb-b3f5-4478-b49b-73e9fd0f6da5\" xlink:show=\"new\" xlink:title=\"psysml:9a31b8cb-b3f5-4478-b49b-73e9fd0f6da5\" xlink:type=\"simple\"><rect fill=\"#FFFFFF\" height=\"45.9375\" id=\"E7\" rx=\"10\" ry=\"10\" style=\"stroke: #383838; stroke-width: 1.5;\" width=\"42\" x=\"56\" y=\"138\"/><text fill=\"#000000\" font-family=\"sans-serif\" font-size=\"12\" font-style=\"italic\" lengthAdjust=\"spacingAndGlyphs\" textLength=\"40\" x=\"57\" y=\"154.1387\">«part»</text><text fill=\"#000000\" font-family=\"sans-serif\" font-size=\"12\" lengthAdjust=\"spacingAndGlyphs\" textLength=\"22\" x=\"64\" y=\"168.1074\">x: A</text><line style=\"stroke: #383838; stroke-width: 1.5;\" x1=\"57\" x2=\"97\" y1=\"175.9375\" y2=\"175.9375\"/></a><!--MD5=[b9389687b975829384b498ac4b7476b2]\n",
       "class E8--><a href=\"psysml:084cb86b-cc59-4a41-8b1c-7b7410cc5029\" target=\"_top\" title=\"psysml:084cb86b-cc59-4a41-8b1c-7b7410cc5029\" xlink:actuate=\"onRequest\" xlink:href=\"psysml:084cb86b-cc59-4a41-8b1c-7b7410cc5029\" xlink:show=\"new\" xlink:title=\"psysml:084cb86b-cc59-4a41-8b1c-7b7410cc5029\" xlink:type=\"simple\"><rect fill=\"#FFFFFF\" height=\"45.9375\" id=\"E8\" rx=\"10\" ry=\"10\" style=\"stroke: #383838; stroke-width: 1.5;\" width=\"42\" x=\"56\" y=\"219\"/><text fill=\"#000000\" font-family=\"sans-serif\" font-size=\"12\" font-style=\"italic\" lengthAdjust=\"spacingAndGlyphs\" textLength=\"40\" x=\"57\" y=\"235.1387\">«part»</text><text fill=\"#000000\" font-family=\"sans-serif\" font-size=\"12\" lengthAdjust=\"spacingAndGlyphs\" textLength=\"22\" x=\"64\" y=\"249.1074\">y: B</text><line style=\"stroke: #383838; stroke-width: 1.5;\" x1=\"57\" x2=\"97\" y1=\"256.9375\" y2=\"256.9375\"/></a><!--MD5=[96f4274e9e20536e775497830990834d]\n",
       "class E10--><a href=\"psysml:377a64d2-1aa6-4a9b-ba95-6aeb6c1d992f\" target=\"_top\" title=\"psysml:377a64d2-1aa6-4a9b-ba95-6aeb6c1d992f\" xlink:actuate=\"onRequest\" xlink:href=\"psysml:377a64d2-1aa6-4a9b-ba95-6aeb6c1d992f\" xlink:show=\"new\" xlink:title=\"psysml:377a64d2-1aa6-4a9b-ba95-6aeb6c1d992f\" xlink:type=\"simple\"><rect fill=\"#FFFFFF\" height=\"45.9375\" id=\"E10\" rx=\"10\" ry=\"10\" style=\"stroke: #383838; stroke-width: 1.5;\" width=\"42\" x=\"56\" y=\"340\"/><text fill=\"#000000\" font-family=\"sans-serif\" font-size=\"12\" font-style=\"italic\" lengthAdjust=\"spacingAndGlyphs\" textLength=\"40\" x=\"57\" y=\"356.1387\">«part»</text><text fill=\"#000000\" font-family=\"sans-serif\" font-size=\"12\" lengthAdjust=\"spacingAndGlyphs\" textLength=\"22\" x=\"64\" y=\"370.1074\">x: A</text><line style=\"stroke: #383838; stroke-width: 1.5;\" x1=\"57\" x2=\"97\" y1=\"377.9375\" y2=\"377.9375\"/></a><!--MD5=[1dd1bfd58a279cf63c5f349dbc8fc6a1]\n",
       "class E11--><a href=\"psysml:7cdd5db6-fbbe-4f9d-b259-3a085be4f068\" target=\"_top\" title=\"psysml:7cdd5db6-fbbe-4f9d-b259-3a085be4f068\" xlink:actuate=\"onRequest\" xlink:href=\"psysml:7cdd5db6-fbbe-4f9d-b259-3a085be4f068\" xlink:show=\"new\" xlink:title=\"psysml:7cdd5db6-fbbe-4f9d-b259-3a085be4f068\" xlink:type=\"simple\"><rect fill=\"#FFFFFF\" height=\"45.9375\" id=\"E11\" rx=\"10\" ry=\"10\" style=\"stroke: #383838; stroke-width: 1.5;\" width=\"42\" x=\"56\" y=\"421\"/><text fill=\"#000000\" font-family=\"sans-serif\" font-size=\"12\" font-style=\"italic\" lengthAdjust=\"spacingAndGlyphs\" textLength=\"40\" x=\"57\" y=\"437.1387\">«part»</text><text fill=\"#000000\" font-family=\"sans-serif\" font-size=\"12\" lengthAdjust=\"spacingAndGlyphs\" textLength=\"22\" x=\"64\" y=\"451.1074\">y: B</text><line style=\"stroke: #383838; stroke-width: 1.5;\" x1=\"57\" x2=\"97\" y1=\"458.9375\" y2=\"458.9375\"/></a><!--MD5=[14ccda38c055a5c0da953d572bc50960]\n",
       "link E7 to E3--><a href=\"psysml:0b2c7bde-3c6f-4711-9ee8-a744dba64aec\" target=\"_top\" title=\"psysml:0b2c7bde-3c6f-4711-9ee8-a744dba64aec\" xlink:actuate=\"onRequest\" xlink:href=\"psysml:0b2c7bde-3c6f-4711-9ee8-a744dba64aec\" xlink:show=\"new\" xlink:title=\"psysml:0b2c7bde-3c6f-4711-9ee8-a744dba64aec\" xlink:type=\"simple\"><path d=\"M98.12,161 C109.2,161 123.54,161 137.66,161 \" fill=\"none\" id=\"E7-&gt;E3\" style=\"stroke: #383838; stroke-width: 1.0;\"/><polygon fill=\"#FFFFFF\" points=\"157.79,161,138.79,168,138.79,154,157.79,161\" style=\"stroke: #383838; stroke-width: 1.0;\"/><ellipse cx=\"133.09\" cy=\"166\" fill=\"#383838\" rx=\"2\" ry=\"2\" style=\"stroke: #383838; stroke-width: 1.0;\"/><ellipse cx=\"133.09\" cy=\"156\" fill=\"#383838\" rx=\"2\" ry=\"2\" style=\"stroke: #383838; stroke-width: 1.0;\"/></a><!--MD5=[1ccb2481ffa92f8d51a74ee30c51832a]\n",
       "link E8 to E5--><a href=\"psysml:16eea2e1-2a1c-45c0-89dc-072c92b0db51\" target=\"_top\" title=\"psysml:16eea2e1-2a1c-45c0-89dc-072c92b0db51\" xlink:actuate=\"onRequest\" xlink:href=\"psysml:16eea2e1-2a1c-45c0-89dc-072c92b0db51\" xlink:show=\"new\" xlink:title=\"psysml:16eea2e1-2a1c-45c0-89dc-072c92b0db51\" xlink:type=\"simple\"><path d=\"M91.08,265.17 C110.05,298.8 145.51,361.62 168.94,403.13 \" fill=\"none\" id=\"E8-&gt;E5\" style=\"stroke: #383838; stroke-width: 1.0;\"/><polygon fill=\"#FFFFFF\" points=\"178.9,420.79,163.4697,407.6787,175.6643,400.8017,178.9,420.79\" style=\"stroke: #383838; stroke-width: 1.0;\"/><ellipse cx=\"162.4119\" cy=\"401.7313\" fill=\"#383838\" rx=\"2\" ry=\"2\" style=\"stroke: #383838; stroke-width: 1.0;\"/><ellipse cx=\"171.1223\" cy=\"396.8192\" fill=\"#383838\" rx=\"2\" ry=\"2\" style=\"stroke: #383838; stroke-width: 1.0;\"/></a><!--MD5=[feeac5eb423634930294aa81f2d25a4c]\n",
       "link E10 to E3--><a href=\"psysml:0ac0ff17-b961-483b-88a6-6c34531d2872\" target=\"_top\" title=\"psysml:0ac0ff17-b961-483b-88a6-6c34531d2872\" xlink:actuate=\"onRequest\" xlink:href=\"psysml:0ac0ff17-b961-483b-88a6-6c34531d2872\" xlink:show=\"new\" xlink:title=\"psysml:0ac0ff17-b961-483b-88a6-6c34531d2872\" xlink:type=\"simple\"><path d=\"M91.08,339.83 C110.05,306.2 145.51,243.38 168.94,201.87 \" fill=\"none\" id=\"E10-&gt;E3\" style=\"stroke: #383838; stroke-width: 1.0;\"/><polygon fill=\"#FFFFFF\" points=\"178.9,184.21,175.6643,204.1983,163.4697,197.3213,178.9,184.21\" style=\"stroke: #383838; stroke-width: 1.0;\"/><ellipse cx=\"171.1223\" cy=\"208.1808\" fill=\"#383838\" rx=\"2\" ry=\"2\" style=\"stroke: #383838; stroke-width: 1.0;\"/><ellipse cx=\"162.4119\" cy=\"203.2687\" fill=\"#383838\" rx=\"2\" ry=\"2\" style=\"stroke: #383838; stroke-width: 1.0;\"/></a><!--MD5=[07b77f6f309248d16187045709d1c26e]\n",
       "link E11 to E5--><a href=\"psysml:7353245a-aec5-4316-8af8-2852475c4dc4\" target=\"_top\" title=\"psysml:7353245a-aec5-4316-8af8-2852475c4dc4\" xlink:actuate=\"onRequest\" xlink:href=\"psysml:7353245a-aec5-4316-8af8-2852475c4dc4\" xlink:show=\"new\" xlink:title=\"psysml:7353245a-aec5-4316-8af8-2852475c4dc4\" xlink:type=\"simple\"><path d=\"M98.12,444 C109.2,444 123.54,444 137.66,444 \" fill=\"none\" id=\"E11-&gt;E5\" style=\"stroke: #383838; stroke-width: 1.0;\"/><polygon fill=\"#FFFFFF\" points=\"157.79,444,138.79,451,138.79,437,157.79,444\" style=\"stroke: #383838; stroke-width: 1.0;\"/><ellipse cx=\"133.09\" cy=\"449\" fill=\"#383838\" rx=\"2\" ry=\"2\" style=\"stroke: #383838; stroke-width: 1.0;\"/><ellipse cx=\"133.09\" cy=\"439\" fill=\"#383838\" rx=\"2\" ry=\"2\" style=\"stroke: #383838; stroke-width: 1.0;\"/></a><!--MD5=[39f41a0e550fb3d73b4d8135617e30a2]\n",
       "link E12 to E3--><a href=\"psysml:6cc10db6-ba98-48a2-919a-a7b34cb2bdfc\" target=\"_top\" title=\"psysml:6cc10db6-ba98-48a2-919a-a7b34cb2bdfc\" xlink:actuate=\"onRequest\" xlink:href=\"psysml:6cc10db6-ba98-48a2-919a-a7b34cb2bdfc\" xlink:show=\"new\" xlink:title=\"psysml:6cc10db6-ba98-48a2-919a-a7b34cb2bdfc\" xlink:type=\"simple\"><path d=\"M98.12,81.12 C112.31,93.19 131.85,109.82 149.43,124.78 \" fill=\"none\" id=\"E12-&gt;E3\" style=\"stroke: #383838; stroke-width: 1.0;\"/><polygon fill=\"#FFFFFF\" points=\"164.81,137.87,145.7998,130.8977,154.8672,120.2308,164.81,137.87\" style=\"stroke: #383838; stroke-width: 1.0;\"/><ellipse cx=\"142.7522\" cy=\"125.6822\" fill=\"#383838\" rx=\"2\" ry=\"2\" style=\"stroke: #383838; stroke-width: 1.0;\"/><ellipse cx=\"149.2289\" cy=\"118.063\" fill=\"#383838\" rx=\"2\" ry=\"2\" style=\"stroke: #383838; stroke-width: 1.0;\"/></a><!--MD5=[066b2d8af59fea80ccdb3d54ad5c1091]\n",
       "link E13 to E5--><a href=\"psysml:fb180b05-d2cf-42d1-bf2a-01829ad20206\" target=\"_top\" title=\"psysml:fb180b05-d2cf-42d1-bf2a-01829ad20206\" xlink:actuate=\"onRequest\" xlink:href=\"psysml:fb180b05-d2cf-42d1-bf2a-01829ad20206\" xlink:show=\"new\" xlink:title=\"psysml:fb180b05-d2cf-42d1-bf2a-01829ad20206\" xlink:type=\"simple\"><path d=\"M98.12,510.71 C110.67,501.79 127.41,489.9 143.27,478.63 \" fill=\"none\" id=\"E13-&gt;E5\" style=\"stroke: #383838; stroke-width: 1.0;\"/><polygon fill=\"#FFFFFF\" points=\"159.58,467.03,148.1391,483.7365,140.0349,472.3206,159.58,467.03\" style=\"stroke: #383838; stroke-width: 1.0;\"/><ellipse cx=\"142.3335\" cy=\"485.4052\" fill=\"#383838\" rx=\"2\" ry=\"2\" style=\"stroke: #383838; stroke-width: 1.0;\"/><ellipse cx=\"136.5448\" cy=\"477.251\" fill=\"#383838\" rx=\"2\" ry=\"2\" style=\"stroke: #383838; stroke-width: 1.0;\"/></a><!--MD5=[84e82172339cd9697431452a2313a92c]\n",
       "@startuml\r\n",
       "left to right direction\r\n",
       "skinparam monochrome true\r\n",
       "skinparam classbackgroundcolor white\r\n",
       "skinparam shadowing false\r\n",
       "skinparam wrapWidth 300\r\n",
       "hide circle\r\n",
       "\r\n",
       "package \"CircularImport\" as E1  [[psysml:6d002b47-1de9-4cb8-be5e-1d54cb7fff5c ]]  {\r\n",
       "package \"P1\" as E2  [[psysml:531dfa6c-428e-410a-a6f8-c5b9ff8ecb34 ]]  {\r\n",
       "comp def \"A\" as E3  <<(T,blue) part  def>> [[psysml:8ceeee5f-0d5a-4279-aee9-7758649ab8be ]] {\r\n",
       "}\r\n",
       "}\r\n",
       "package \"P2\" as E4  [[psysml:62a929fe-702a-4460-9e53-8584d6f6435e ]]  {\r\n",
       "comp def \"B\" as E5  <<(T,blue) part  def>> [[psysml:90844ba8-c1a9-4c46-b7c9-d1a2572e7365 ]] {\r\n",
       "}\r\n",
       "}\r\n",
       "package \"Test1\" as E6  [[psysml:0f17a3a9-0805-4d7f-ba6a-07da905c8abf ]]  {\r\n",
       "comp usage \"x: A \" as E7  <<(T,blue) part>> [[psysml:9a31b8cb-b3f5-4478-b49b-73e9fd0f6da5 ]] {\r\n",
       "}\r\n",
       "comp usage \"y: B \" as E8  <<(T,blue) part>> [[psysml:084cb86b-cc59-4a41-8b1c-7b7410cc5029 ]] {\r\n",
       "}\r\n",
       "}\r\n",
       "package \"Test2\" as E9  [[psysml:a06e7d3b-be80-4318-b479-ae1779c5974b ]]  {\r\n",
       "comp usage \"x: A \" as E10  <<(T,blue) part>> [[psysml:377a64d2-1aa6-4a9b-ba95-6aeb6c1d992f ]] {\r\n",
       "}\r\n",
       "comp usage \"y: B \" as E11  <<(T,blue) part>> [[psysml:7cdd5db6-fbbe-4f9d-b259-3a085be4f068 ]] {\r\n",
       "}\r\n",
       "}\r\n",
       "comp usage \"x: A \" as E12  <<(T,blue) part>> [[psysml:665d223a-8fea-436a-b414-0efd919424fb ]] {\r\n",
       "}\r\n",
       "comp usage \"y: B \" as E13  <<(T,blue) part>> [[psysml:a1b35d80-8992-43c2-aa5d-6937f2901599 ]] {\r\n",
       "}\r\n",
       "}\r\n",
       "E7 - -:|> E3 [[psysml:0b2c7bde-3c6f-4711-9ee8-a744dba64aec ]] \r\n",
       "E8 - -:|> E5 [[psysml:16eea2e1-2a1c-45c0-89dc-072c92b0db51 ]] \r\n",
       "E10 - -:|> E3 [[psysml:0ac0ff17-b961-483b-88a6-6c34531d2872 ]] \r\n",
       "E11 - -:|> E5 [[psysml:7353245a-aec5-4316-8af8-2852475c4dc4 ]] \r\n",
       "E12 - -:|> E3 [[psysml:6cc10db6-ba98-48a2-919a-a7b34cb2bdfc ]] \r\n",
       "E13 - -:|> E5 [[psysml:fb180b05-d2cf-42d1-bf2a-01829ad20206 ]] \r\n",
       "@enduml\r\n",
       "\n",
       "PlantUML version 1.2020.13(Sat Jun 13 12:26:38 UTC 2020)\n",
       "(EPL source distribution)\n",
       "Java Runtime: OpenJDK Runtime Environment\n",
       "JVM: OpenJDK 64-Bit Server VM\n",
       "Default Encoding: UTF-8\n",
       "Language: en\n",
       "Country: null\n",
       "--></g></svg>"
      ]
     },
     "execution_count": 16,
     "metadata": {},
     "output_type": "execute_result"
    }
   ],
   "source": [
    "%viz --style=\"LR\" --view=\"Default\" \"CircularImport\""
   ]
  },
  {
   "cell_type": "code",
   "execution_count": 17,
   "id": "4effa22f",
   "metadata": {
    "execution": {
     "iopub.execute_input": "2021-12-15T15:15:37.529862Z",
     "iopub.status.busy": "2021-12-15T15:15:37.529450Z",
     "iopub.status.idle": "2021-12-15T15:15:37.577602Z",
     "shell.execute_reply": "2021-12-15T15:15:37.577207Z"
    }
   },
   "outputs": [
    {
     "data": {
      "image/svg+xml": [
       "<?xml version=\"1.0\" encoding=\"UTF-8\" standalone=\"no\"?><svg xmlns=\"http://www.w3.org/2000/svg\" xmlns:xlink=\"http://www.w3.org/1999/xlink\" contentScriptType=\"application/ecmascript\" contentStyleType=\"text/css\" height=\"576px\" preserveAspectRatio=\"none\" style=\"width:290px;height:576px;\" version=\"1.1\" viewBox=\"0 0 290 576\" width=\"290px\" zoomAndPan=\"magnify\"><defs/><g><!--MD5=[fbc87193dbaf4d95561dea2c320d4a47]\n",
       "cluster E1--><a href=\"psysml:6d002b47-1de9-4cb8-be5e-1d54cb7fff5c\" target=\"_top\" title=\"psysml:6d002b47-1de9-4cb8-be5e-1d54cb7fff5c\" xlink:actuate=\"onRequest\" xlink:href=\"psysml:6d002b47-1de9-4cb8-be5e-1d54cb7fff5c\" xlink:show=\"new\" xlink:title=\"psysml:6d002b47-1de9-4cb8-be5e-1d54cb7fff5c\" xlink:type=\"simple\"><polygon fill=\"#FFFFFF\" points=\"16,6,117,6,124,28.2969,268,28.2969,268,564,16,564,16,6\" style=\"stroke: #000000; stroke-width: 1.5;\"/><line style=\"stroke: #000000; stroke-width: 1.5;\" x1=\"16\" x2=\"124\" y1=\"28.2969\" y2=\"28.2969\"/><text fill=\"#000000\" font-family=\"sans-serif\" font-size=\"14\" font-weight=\"bold\" lengthAdjust=\"spacingAndGlyphs\" textLength=\"95\" x=\"20\" y=\"20.9951\">CircularImport</text></a><!--MD5=[e4f7fae6ed58524ba242bb0b0d3be6b7]\n",
       "cluster E2--><a href=\"psysml:531dfa6c-428e-410a-a6f8-c5b9ff8ecb34\" target=\"_top\" title=\"psysml:531dfa6c-428e-410a-a6f8-c5b9ff8ecb34\" xlink:actuate=\"onRequest\" xlink:href=\"psysml:531dfa6c-428e-410a-a6f8-c5b9ff8ecb34\" xlink:show=\"new\" xlink:title=\"psysml:531dfa6c-428e-410a-a6f8-c5b9ff8ecb34\" xlink:type=\"simple\"><polygon fill=\"#FFFFFF\" points=\"142,103,166,103,173,125.2969,244,125.2969,244,200,142,200,142,103\" style=\"stroke: #000000; stroke-width: 1.5;\"/><line style=\"stroke: #000000; stroke-width: 1.5;\" x1=\"142\" x2=\"173\" y1=\"125.2969\" y2=\"125.2969\"/><text fill=\"#000000\" font-family=\"sans-serif\" font-size=\"14\" font-weight=\"bold\" lengthAdjust=\"spacingAndGlyphs\" textLength=\"18\" x=\"146\" y=\"117.9951\">P1</text></a><!--MD5=[f6df4d0ebaf0b5dfb2ced0ae5af7c670]\n",
       "cluster E4--><a href=\"psysml:62a929fe-702a-4460-9e53-8584d6f6435e\" target=\"_top\" title=\"psysml:62a929fe-702a-4460-9e53-8584d6f6435e\" xlink:actuate=\"onRequest\" xlink:href=\"psysml:62a929fe-702a-4460-9e53-8584d6f6435e\" xlink:show=\"new\" xlink:title=\"psysml:62a929fe-702a-4460-9e53-8584d6f6435e\" xlink:type=\"simple\"><polygon fill=\"#FFFFFF\" points=\"142,386,166,386,173,408.2969,244,408.2969,244,483,142,483,142,386\" style=\"stroke: #000000; stroke-width: 1.5;\"/><line style=\"stroke: #000000; stroke-width: 1.5;\" x1=\"142\" x2=\"173\" y1=\"408.2969\" y2=\"408.2969\"/><text fill=\"#000000\" font-family=\"sans-serif\" font-size=\"14\" font-weight=\"bold\" lengthAdjust=\"spacingAndGlyphs\" textLength=\"18\" x=\"146\" y=\"400.9951\">P2</text></a><!--MD5=[14e3b0961a2654348d326746436168a1]\n",
       "cluster E6--><a href=\"psysml:0f17a3a9-0805-4d7f-ba6a-07da905c8abf\" target=\"_top\" title=\"psysml:0f17a3a9-0805-4d7f-ba6a-07da905c8abf\" xlink:actuate=\"onRequest\" xlink:href=\"psysml:0f17a3a9-0805-4d7f-ba6a-07da905c8abf\" xlink:show=\"new\" xlink:title=\"psysml:0f17a3a9-0805-4d7f-ba6a-07da905c8abf\" xlink:type=\"simple\"><polygon fill=\"#FFFFFF\" points=\"40,103,86,103,93,125.2969,114,125.2969,114,281,40,281,40,103\" style=\"stroke: #000000; stroke-width: 1.5;\"/><line style=\"stroke: #000000; stroke-width: 1.5;\" x1=\"40\" x2=\"93\" y1=\"125.2969\" y2=\"125.2969\"/><text fill=\"#000000\" font-family=\"sans-serif\" font-size=\"14\" font-weight=\"bold\" lengthAdjust=\"spacingAndGlyphs\" textLength=\"40\" x=\"44\" y=\"117.9951\">Test1</text></a><!--MD5=[7f149f147074ac12df2cb0a7728a5fb0]\n",
       "cluster E9--><a href=\"psysml:a06e7d3b-be80-4318-b479-ae1779c5974b\" target=\"_top\" title=\"psysml:a06e7d3b-be80-4318-b479-ae1779c5974b\" xlink:actuate=\"onRequest\" xlink:href=\"psysml:a06e7d3b-be80-4318-b479-ae1779c5974b\" xlink:show=\"new\" xlink:title=\"psysml:a06e7d3b-be80-4318-b479-ae1779c5974b\" xlink:type=\"simple\"><polygon fill=\"#FFFFFF\" points=\"40,305,86,305,93,327.2969,114,327.2969,114,483,40,483,40,305\" style=\"stroke: #000000; stroke-width: 1.5;\"/><line style=\"stroke: #000000; stroke-width: 1.5;\" x1=\"40\" x2=\"93\" y1=\"327.2969\" y2=\"327.2969\"/><text fill=\"#000000\" font-family=\"sans-serif\" font-size=\"14\" font-weight=\"bold\" lengthAdjust=\"spacingAndGlyphs\" textLength=\"40\" x=\"44\" y=\"319.9951\">Test2</text></a><!--MD5=[49a0ec8f00dab7302a31f22d0f0fe584]\n",
       "class E12--><a href=\"psysml:665d223a-8fea-436a-b414-0efd919424fb\" target=\"_top\" title=\"psysml:665d223a-8fea-436a-b414-0efd919424fb\" xlink:actuate=\"onRequest\" xlink:href=\"psysml:665d223a-8fea-436a-b414-0efd919424fb\" xlink:show=\"new\" xlink:title=\"psysml:665d223a-8fea-436a-b414-0efd919424fb\" xlink:type=\"simple\"><rect fill=\"#FFFFFF\" height=\"45.9375\" id=\"E12\" rx=\"10\" ry=\"10\" style=\"stroke: #383838; stroke-width: 1.5;\" width=\"42\" x=\"56\" y=\"41\"/><text fill=\"#000000\" font-family=\"sans-serif\" font-size=\"12\" font-style=\"italic\" lengthAdjust=\"spacingAndGlyphs\" textLength=\"40\" x=\"57\" y=\"57.1387\">«part»</text><text fill=\"#000000\" font-family=\"sans-serif\" font-size=\"12\" lengthAdjust=\"spacingAndGlyphs\" textLength=\"22\" x=\"64\" y=\"71.1074\">x: A</text><line style=\"stroke: #383838; stroke-width: 1.5;\" x1=\"57\" x2=\"97\" y1=\"78.9375\" y2=\"78.9375\"/></a><!--MD5=[ee3c913d1a06f366521f9ef512b67efe]\n",
       "class E13--><a href=\"psysml:a1b35d80-8992-43c2-aa5d-6937f2901599\" target=\"_top\" title=\"psysml:a1b35d80-8992-43c2-aa5d-6937f2901599\" xlink:actuate=\"onRequest\" xlink:href=\"psysml:a1b35d80-8992-43c2-aa5d-6937f2901599\" xlink:show=\"new\" xlink:title=\"psysml:a1b35d80-8992-43c2-aa5d-6937f2901599\" xlink:type=\"simple\"><rect fill=\"#FFFFFF\" height=\"45.9375\" id=\"E13\" rx=\"10\" ry=\"10\" style=\"stroke: #383838; stroke-width: 1.5;\" width=\"42\" x=\"56\" y=\"502\"/><text fill=\"#000000\" font-family=\"sans-serif\" font-size=\"12\" font-style=\"italic\" lengthAdjust=\"spacingAndGlyphs\" textLength=\"40\" x=\"57\" y=\"518.1387\">«part»</text><text fill=\"#000000\" font-family=\"sans-serif\" font-size=\"12\" lengthAdjust=\"spacingAndGlyphs\" textLength=\"22\" x=\"64\" y=\"532.1074\">y: B</text><line style=\"stroke: #383838; stroke-width: 1.5;\" x1=\"57\" x2=\"97\" y1=\"539.9375\" y2=\"539.9375\"/></a><!--MD5=[09b614a08d8cba4a07c9adeb5e0fee81]\n",
       "class E3--><a href=\"psysml:8ceeee5f-0d5a-4279-aee9-7758649ab8be\" target=\"_top\" title=\"psysml:8ceeee5f-0d5a-4279-aee9-7758649ab8be\" xlink:actuate=\"onRequest\" xlink:href=\"psysml:8ceeee5f-0d5a-4279-aee9-7758649ab8be\" xlink:show=\"new\" xlink:title=\"psysml:8ceeee5f-0d5a-4279-aee9-7758649ab8be\" xlink:type=\"simple\"><rect fill=\"#FFFFFF\" height=\"45.9375\" id=\"E3\" style=\"stroke: #383838; stroke-width: 1.5;\" width=\"70\" x=\"158\" y=\"138\"/><text fill=\"#000000\" font-family=\"sans-serif\" font-size=\"12\" font-style=\"italic\" lengthAdjust=\"spacingAndGlyphs\" textLength=\"68\" x=\"159\" y=\"154.1387\">«part  def»</text><text fill=\"#000000\" font-family=\"sans-serif\" font-size=\"12\" lengthAdjust=\"spacingAndGlyphs\" textLength=\"8\" x=\"189\" y=\"168.1074\">A</text><line style=\"stroke: #383838; stroke-width: 1.5;\" x1=\"159\" x2=\"227\" y1=\"175.9375\" y2=\"175.9375\"/></a><!--MD5=[270fce915f116d4de14055a7c1d9a0f3]\n",
       "class E5--><a href=\"psysml:90844ba8-c1a9-4c46-b7c9-d1a2572e7365\" target=\"_top\" title=\"psysml:90844ba8-c1a9-4c46-b7c9-d1a2572e7365\" xlink:actuate=\"onRequest\" xlink:href=\"psysml:90844ba8-c1a9-4c46-b7c9-d1a2572e7365\" xlink:show=\"new\" xlink:title=\"psysml:90844ba8-c1a9-4c46-b7c9-d1a2572e7365\" xlink:type=\"simple\"><rect fill=\"#FFFFFF\" height=\"45.9375\" id=\"E5\" style=\"stroke: #383838; stroke-width: 1.5;\" width=\"70\" x=\"158\" y=\"421\"/><text fill=\"#000000\" font-family=\"sans-serif\" font-size=\"12\" font-style=\"italic\" lengthAdjust=\"spacingAndGlyphs\" textLength=\"68\" x=\"159\" y=\"437.1387\">«part  def»</text><text fill=\"#000000\" font-family=\"sans-serif\" font-size=\"12\" lengthAdjust=\"spacingAndGlyphs\" textLength=\"8\" x=\"189\" y=\"451.1074\">B</text><line style=\"stroke: #383838; stroke-width: 1.5;\" x1=\"159\" x2=\"227\" y1=\"458.9375\" y2=\"458.9375\"/></a><!--MD5=[2156ba9850f5573cc1fc38a6a4b2f02b]\n",
       "class E7--><a href=\"psysml:9a31b8cb-b3f5-4478-b49b-73e9fd0f6da5\" target=\"_top\" title=\"psysml:9a31b8cb-b3f5-4478-b49b-73e9fd0f6da5\" xlink:actuate=\"onRequest\" xlink:href=\"psysml:9a31b8cb-b3f5-4478-b49b-73e9fd0f6da5\" xlink:show=\"new\" xlink:title=\"psysml:9a31b8cb-b3f5-4478-b49b-73e9fd0f6da5\" xlink:type=\"simple\"><rect fill=\"#FFFFFF\" height=\"45.9375\" id=\"E7\" rx=\"10\" ry=\"10\" style=\"stroke: #383838; stroke-width: 1.5;\" width=\"42\" x=\"56\" y=\"138\"/><text fill=\"#000000\" font-family=\"sans-serif\" font-size=\"12\" font-style=\"italic\" lengthAdjust=\"spacingAndGlyphs\" textLength=\"40\" x=\"57\" y=\"154.1387\">«part»</text><text fill=\"#000000\" font-family=\"sans-serif\" font-size=\"12\" lengthAdjust=\"spacingAndGlyphs\" textLength=\"22\" x=\"64\" y=\"168.1074\">x: A</text><line style=\"stroke: #383838; stroke-width: 1.5;\" x1=\"57\" x2=\"97\" y1=\"175.9375\" y2=\"175.9375\"/></a><!--MD5=[b9389687b975829384b498ac4b7476b2]\n",
       "class E8--><a href=\"psysml:084cb86b-cc59-4a41-8b1c-7b7410cc5029\" target=\"_top\" title=\"psysml:084cb86b-cc59-4a41-8b1c-7b7410cc5029\" xlink:actuate=\"onRequest\" xlink:href=\"psysml:084cb86b-cc59-4a41-8b1c-7b7410cc5029\" xlink:show=\"new\" xlink:title=\"psysml:084cb86b-cc59-4a41-8b1c-7b7410cc5029\" xlink:type=\"simple\"><rect fill=\"#FFFFFF\" height=\"45.9375\" id=\"E8\" rx=\"10\" ry=\"10\" style=\"stroke: #383838; stroke-width: 1.5;\" width=\"42\" x=\"56\" y=\"219\"/><text fill=\"#000000\" font-family=\"sans-serif\" font-size=\"12\" font-style=\"italic\" lengthAdjust=\"spacingAndGlyphs\" textLength=\"40\" x=\"57\" y=\"235.1387\">«part»</text><text fill=\"#000000\" font-family=\"sans-serif\" font-size=\"12\" lengthAdjust=\"spacingAndGlyphs\" textLength=\"22\" x=\"64\" y=\"249.1074\">y: B</text><line style=\"stroke: #383838; stroke-width: 1.5;\" x1=\"57\" x2=\"97\" y1=\"256.9375\" y2=\"256.9375\"/></a><!--MD5=[96f4274e9e20536e775497830990834d]\n",
       "class E10--><a href=\"psysml:377a64d2-1aa6-4a9b-ba95-6aeb6c1d992f\" target=\"_top\" title=\"psysml:377a64d2-1aa6-4a9b-ba95-6aeb6c1d992f\" xlink:actuate=\"onRequest\" xlink:href=\"psysml:377a64d2-1aa6-4a9b-ba95-6aeb6c1d992f\" xlink:show=\"new\" xlink:title=\"psysml:377a64d2-1aa6-4a9b-ba95-6aeb6c1d992f\" xlink:type=\"simple\"><rect fill=\"#FFFFFF\" height=\"45.9375\" id=\"E10\" rx=\"10\" ry=\"10\" style=\"stroke: #383838; stroke-width: 1.5;\" width=\"42\" x=\"56\" y=\"340\"/><text fill=\"#000000\" font-family=\"sans-serif\" font-size=\"12\" font-style=\"italic\" lengthAdjust=\"spacingAndGlyphs\" textLength=\"40\" x=\"57\" y=\"356.1387\">«part»</text><text fill=\"#000000\" font-family=\"sans-serif\" font-size=\"12\" lengthAdjust=\"spacingAndGlyphs\" textLength=\"22\" x=\"64\" y=\"370.1074\">x: A</text><line style=\"stroke: #383838; stroke-width: 1.5;\" x1=\"57\" x2=\"97\" y1=\"377.9375\" y2=\"377.9375\"/></a><!--MD5=[1dd1bfd58a279cf63c5f349dbc8fc6a1]\n",
       "class E11--><a href=\"psysml:7cdd5db6-fbbe-4f9d-b259-3a085be4f068\" target=\"_top\" title=\"psysml:7cdd5db6-fbbe-4f9d-b259-3a085be4f068\" xlink:actuate=\"onRequest\" xlink:href=\"psysml:7cdd5db6-fbbe-4f9d-b259-3a085be4f068\" xlink:show=\"new\" xlink:title=\"psysml:7cdd5db6-fbbe-4f9d-b259-3a085be4f068\" xlink:type=\"simple\"><rect fill=\"#FFFFFF\" height=\"45.9375\" id=\"E11\" rx=\"10\" ry=\"10\" style=\"stroke: #383838; stroke-width: 1.5;\" width=\"42\" x=\"56\" y=\"421\"/><text fill=\"#000000\" font-family=\"sans-serif\" font-size=\"12\" font-style=\"italic\" lengthAdjust=\"spacingAndGlyphs\" textLength=\"40\" x=\"57\" y=\"437.1387\">«part»</text><text fill=\"#000000\" font-family=\"sans-serif\" font-size=\"12\" lengthAdjust=\"spacingAndGlyphs\" textLength=\"22\" x=\"64\" y=\"451.1074\">y: B</text><line style=\"stroke: #383838; stroke-width: 1.5;\" x1=\"57\" x2=\"97\" y1=\"458.9375\" y2=\"458.9375\"/></a><!--MD5=[14ccda38c055a5c0da953d572bc50960]\n",
       "link E7 to E3--><a href=\"psysml:0b2c7bde-3c6f-4711-9ee8-a744dba64aec\" target=\"_top\" title=\"psysml:0b2c7bde-3c6f-4711-9ee8-a744dba64aec\" xlink:actuate=\"onRequest\" xlink:href=\"psysml:0b2c7bde-3c6f-4711-9ee8-a744dba64aec\" xlink:show=\"new\" xlink:title=\"psysml:0b2c7bde-3c6f-4711-9ee8-a744dba64aec\" xlink:type=\"simple\"><path d=\"M98.12,161 C109.2,161 123.54,161 137.66,161 \" fill=\"none\" id=\"E7-&gt;E3\" style=\"stroke: #383838; stroke-width: 1.0;\"/><polygon fill=\"#FFFFFF\" points=\"157.79,161,138.79,168,138.79,154,157.79,161\" style=\"stroke: #383838; stroke-width: 1.0;\"/><ellipse cx=\"133.09\" cy=\"166\" fill=\"#383838\" rx=\"2\" ry=\"2\" style=\"stroke: #383838; stroke-width: 1.0;\"/><ellipse cx=\"133.09\" cy=\"156\" fill=\"#383838\" rx=\"2\" ry=\"2\" style=\"stroke: #383838; stroke-width: 1.0;\"/></a><!--MD5=[1ccb2481ffa92f8d51a74ee30c51832a]\n",
       "link E8 to E5--><a href=\"psysml:16eea2e1-2a1c-45c0-89dc-072c92b0db51\" target=\"_top\" title=\"psysml:16eea2e1-2a1c-45c0-89dc-072c92b0db51\" xlink:actuate=\"onRequest\" xlink:href=\"psysml:16eea2e1-2a1c-45c0-89dc-072c92b0db51\" xlink:show=\"new\" xlink:title=\"psysml:16eea2e1-2a1c-45c0-89dc-072c92b0db51\" xlink:type=\"simple\"><path d=\"M91.08,265.17 C110.05,298.8 145.51,361.62 168.94,403.13 \" fill=\"none\" id=\"E8-&gt;E5\" style=\"stroke: #383838; stroke-width: 1.0;\"/><polygon fill=\"#FFFFFF\" points=\"178.9,420.79,163.4697,407.6787,175.6643,400.8017,178.9,420.79\" style=\"stroke: #383838; stroke-width: 1.0;\"/><ellipse cx=\"162.4119\" cy=\"401.7313\" fill=\"#383838\" rx=\"2\" ry=\"2\" style=\"stroke: #383838; stroke-width: 1.0;\"/><ellipse cx=\"171.1223\" cy=\"396.8192\" fill=\"#383838\" rx=\"2\" ry=\"2\" style=\"stroke: #383838; stroke-width: 1.0;\"/></a><!--MD5=[feeac5eb423634930294aa81f2d25a4c]\n",
       "link E10 to E3--><a href=\"psysml:0ac0ff17-b961-483b-88a6-6c34531d2872\" target=\"_top\" title=\"psysml:0ac0ff17-b961-483b-88a6-6c34531d2872\" xlink:actuate=\"onRequest\" xlink:href=\"psysml:0ac0ff17-b961-483b-88a6-6c34531d2872\" xlink:show=\"new\" xlink:title=\"psysml:0ac0ff17-b961-483b-88a6-6c34531d2872\" xlink:type=\"simple\"><path d=\"M91.08,339.83 C110.05,306.2 145.51,243.38 168.94,201.87 \" fill=\"none\" id=\"E10-&gt;E3\" style=\"stroke: #383838; stroke-width: 1.0;\"/><polygon fill=\"#FFFFFF\" points=\"178.9,184.21,175.6643,204.1983,163.4697,197.3213,178.9,184.21\" style=\"stroke: #383838; stroke-width: 1.0;\"/><ellipse cx=\"171.1223\" cy=\"208.1808\" fill=\"#383838\" rx=\"2\" ry=\"2\" style=\"stroke: #383838; stroke-width: 1.0;\"/><ellipse cx=\"162.4119\" cy=\"203.2687\" fill=\"#383838\" rx=\"2\" ry=\"2\" style=\"stroke: #383838; stroke-width: 1.0;\"/></a><!--MD5=[07b77f6f309248d16187045709d1c26e]\n",
       "link E11 to E5--><a href=\"psysml:7353245a-aec5-4316-8af8-2852475c4dc4\" target=\"_top\" title=\"psysml:7353245a-aec5-4316-8af8-2852475c4dc4\" xlink:actuate=\"onRequest\" xlink:href=\"psysml:7353245a-aec5-4316-8af8-2852475c4dc4\" xlink:show=\"new\" xlink:title=\"psysml:7353245a-aec5-4316-8af8-2852475c4dc4\" xlink:type=\"simple\"><path d=\"M98.12,444 C109.2,444 123.54,444 137.66,444 \" fill=\"none\" id=\"E11-&gt;E5\" style=\"stroke: #383838; stroke-width: 1.0;\"/><polygon fill=\"#FFFFFF\" points=\"157.79,444,138.79,451,138.79,437,157.79,444\" style=\"stroke: #383838; stroke-width: 1.0;\"/><ellipse cx=\"133.09\" cy=\"449\" fill=\"#383838\" rx=\"2\" ry=\"2\" style=\"stroke: #383838; stroke-width: 1.0;\"/><ellipse cx=\"133.09\" cy=\"439\" fill=\"#383838\" rx=\"2\" ry=\"2\" style=\"stroke: #383838; stroke-width: 1.0;\"/></a><!--MD5=[39f41a0e550fb3d73b4d8135617e30a2]\n",
       "link E12 to E3--><a href=\"psysml:6cc10db6-ba98-48a2-919a-a7b34cb2bdfc\" target=\"_top\" title=\"psysml:6cc10db6-ba98-48a2-919a-a7b34cb2bdfc\" xlink:actuate=\"onRequest\" xlink:href=\"psysml:6cc10db6-ba98-48a2-919a-a7b34cb2bdfc\" xlink:show=\"new\" xlink:title=\"psysml:6cc10db6-ba98-48a2-919a-a7b34cb2bdfc\" xlink:type=\"simple\"><path d=\"M98.12,81.12 C112.31,93.19 131.85,109.82 149.43,124.78 \" fill=\"none\" id=\"E12-&gt;E3\" style=\"stroke: #383838; stroke-width: 1.0;\"/><polygon fill=\"#FFFFFF\" points=\"164.81,137.87,145.7998,130.8977,154.8672,120.2308,164.81,137.87\" style=\"stroke: #383838; stroke-width: 1.0;\"/><ellipse cx=\"142.7522\" cy=\"125.6822\" fill=\"#383838\" rx=\"2\" ry=\"2\" style=\"stroke: #383838; stroke-width: 1.0;\"/><ellipse cx=\"149.2289\" cy=\"118.063\" fill=\"#383838\" rx=\"2\" ry=\"2\" style=\"stroke: #383838; stroke-width: 1.0;\"/></a><!--MD5=[066b2d8af59fea80ccdb3d54ad5c1091]\n",
       "link E13 to E5--><a href=\"psysml:fb180b05-d2cf-42d1-bf2a-01829ad20206\" target=\"_top\" title=\"psysml:fb180b05-d2cf-42d1-bf2a-01829ad20206\" xlink:actuate=\"onRequest\" xlink:href=\"psysml:fb180b05-d2cf-42d1-bf2a-01829ad20206\" xlink:show=\"new\" xlink:title=\"psysml:fb180b05-d2cf-42d1-bf2a-01829ad20206\" xlink:type=\"simple\"><path d=\"M98.12,510.71 C110.67,501.79 127.41,489.9 143.27,478.63 \" fill=\"none\" id=\"E13-&gt;E5\" style=\"stroke: #383838; stroke-width: 1.0;\"/><polygon fill=\"#FFFFFF\" points=\"159.58,467.03,148.1391,483.7365,140.0349,472.3206,159.58,467.03\" style=\"stroke: #383838; stroke-width: 1.0;\"/><ellipse cx=\"142.3335\" cy=\"485.4052\" fill=\"#383838\" rx=\"2\" ry=\"2\" style=\"stroke: #383838; stroke-width: 1.0;\"/><ellipse cx=\"136.5448\" cy=\"477.251\" fill=\"#383838\" rx=\"2\" ry=\"2\" style=\"stroke: #383838; stroke-width: 1.0;\"/></a><!--MD5=[84e82172339cd9697431452a2313a92c]\n",
       "@startuml\r\n",
       "left to right direction\r\n",
       "skinparam monochrome true\r\n",
       "skinparam classbackgroundcolor white\r\n",
       "skinparam shadowing false\r\n",
       "skinparam wrapWidth 300\r\n",
       "hide circle\r\n",
       "\r\n",
       "package \"CircularImport\" as E1  [[psysml:6d002b47-1de9-4cb8-be5e-1d54cb7fff5c ]]  {\r\n",
       "package \"P1\" as E2  [[psysml:531dfa6c-428e-410a-a6f8-c5b9ff8ecb34 ]]  {\r\n",
       "comp def \"A\" as E3  <<(T,blue) part  def>> [[psysml:8ceeee5f-0d5a-4279-aee9-7758649ab8be ]] {\r\n",
       "}\r\n",
       "}\r\n",
       "package \"P2\" as E4  [[psysml:62a929fe-702a-4460-9e53-8584d6f6435e ]]  {\r\n",
       "comp def \"B\" as E5  <<(T,blue) part  def>> [[psysml:90844ba8-c1a9-4c46-b7c9-d1a2572e7365 ]] {\r\n",
       "}\r\n",
       "}\r\n",
       "package \"Test1\" as E6  [[psysml:0f17a3a9-0805-4d7f-ba6a-07da905c8abf ]]  {\r\n",
       "comp usage \"x: A \" as E7  <<(T,blue) part>> [[psysml:9a31b8cb-b3f5-4478-b49b-73e9fd0f6da5 ]] {\r\n",
       "}\r\n",
       "comp usage \"y: B \" as E8  <<(T,blue) part>> [[psysml:084cb86b-cc59-4a41-8b1c-7b7410cc5029 ]] {\r\n",
       "}\r\n",
       "}\r\n",
       "package \"Test2\" as E9  [[psysml:a06e7d3b-be80-4318-b479-ae1779c5974b ]]  {\r\n",
       "comp usage \"x: A \" as E10  <<(T,blue) part>> [[psysml:377a64d2-1aa6-4a9b-ba95-6aeb6c1d992f ]] {\r\n",
       "}\r\n",
       "comp usage \"y: B \" as E11  <<(T,blue) part>> [[psysml:7cdd5db6-fbbe-4f9d-b259-3a085be4f068 ]] {\r\n",
       "}\r\n",
       "}\r\n",
       "comp usage \"x: A \" as E12  <<(T,blue) part>> [[psysml:665d223a-8fea-436a-b414-0efd919424fb ]] {\r\n",
       "}\r\n",
       "comp usage \"y: B \" as E13  <<(T,blue) part>> [[psysml:a1b35d80-8992-43c2-aa5d-6937f2901599 ]] {\r\n",
       "}\r\n",
       "}\r\n",
       "E7 - -:|> E3 [[psysml:0b2c7bde-3c6f-4711-9ee8-a744dba64aec ]] \r\n",
       "E8 - -:|> E5 [[psysml:16eea2e1-2a1c-45c0-89dc-072c92b0db51 ]] \r\n",
       "E10 - -:|> E3 [[psysml:0ac0ff17-b961-483b-88a6-6c34531d2872 ]] \r\n",
       "E11 - -:|> E5 [[psysml:7353245a-aec5-4316-8af8-2852475c4dc4 ]] \r\n",
       "E12 - -:|> E3 [[psysml:6cc10db6-ba98-48a2-919a-a7b34cb2bdfc ]] \r\n",
       "E13 - -:|> E5 [[psysml:fb180b05-d2cf-42d1-bf2a-01829ad20206 ]] \r\n",
       "@enduml\r\n",
       "\n",
       "PlantUML version 1.2020.13(Sat Jun 13 12:26:38 UTC 2020)\n",
       "(EPL source distribution)\n",
       "Java Runtime: OpenJDK Runtime Environment\n",
       "JVM: OpenJDK 64-Bit Server VM\n",
       "Default Encoding: UTF-8\n",
       "Language: en\n",
       "Country: null\n",
       "--></g></svg>"
      ]
     },
     "execution_count": 17,
     "metadata": {},
     "output_type": "execute_result"
    }
   ],
   "source": [
    "%viz --style=\"LR\" --view=\"Tree\" \"CircularImport\""
   ]
  },
  {
   "cell_type": "code",
   "execution_count": 18,
   "id": "1e884fd0",
   "metadata": {
    "execution": {
     "iopub.execute_input": "2021-12-15T15:15:37.626404Z",
     "iopub.status.busy": "2021-12-15T15:15:37.625910Z",
     "iopub.status.idle": "2021-12-15T15:15:37.631465Z",
     "shell.execute_reply": "2021-12-15T15:15:37.631768Z"
    }
   },
   "outputs": [
    {
     "data": {
      "image/svg+xml": [
       "<?xml version=\"1.0\" encoding=\"UTF-8\" standalone=\"no\"?><svg xmlns=\"http://www.w3.org/2000/svg\" xmlns:xlink=\"http://www.w3.org/1999/xlink\" contentScriptType=\"application/ecmascript\" contentStyleType=\"text/css\" height=\"12px\" preserveAspectRatio=\"none\" style=\"width:12px;height:12px;\" version=\"1.1\" viewBox=\"0 0 12 12\" width=\"12px\" zoomAndPan=\"magnify\"><defs/><g><!--MD5=[19d285c9d72a204eba4e2cd117d745e8]\n",
       "@startuml\r\n",
       "left to right direction\r\n",
       "skinparam monochrome true\r\n",
       "skinparam classbackgroundcolor white\r\n",
       "skinparam shadowing false\r\n",
       "skinparam wrapWidth 300\r\n",
       "hide circle\r\n",
       "\r\n",
       "@enduml\r\n",
       "\n",
       "PlantUML version 1.2020.13(Sat Jun 13 12:26:38 UTC 2020)\n",
       "(EPL source distribution)\n",
       "Java Runtime: OpenJDK Runtime Environment\n",
       "JVM: OpenJDK 64-Bit Server VM\n",
       "Default Encoding: UTF-8\n",
       "Language: en\n",
       "Country: null\n",
       "--></g></svg>"
      ]
     },
     "execution_count": 18,
     "metadata": {},
     "output_type": "execute_result"
    }
   ],
   "source": [
    "%viz --style=\"LR\" --view=\"State\" \"CircularImport\""
   ]
  },
  {
   "cell_type": "code",
   "execution_count": 19,
   "id": "d7c90c2a",
   "metadata": {
    "execution": {
     "iopub.execute_input": "2021-12-15T15:15:37.681734Z",
     "iopub.status.busy": "2021-12-15T15:15:37.681108Z",
     "iopub.status.idle": "2021-12-15T15:15:37.714761Z",
     "shell.execute_reply": "2021-12-15T15:15:37.714405Z"
    }
   },
   "outputs": [
    {
     "data": {
      "image/svg+xml": [
       "<?xml version=\"1.0\" encoding=\"UTF-8\" standalone=\"no\"?><svg xmlns=\"http://www.w3.org/2000/svg\" xmlns:xlink=\"http://www.w3.org/1999/xlink\" contentScriptType=\"application/ecmascript\" contentStyleType=\"text/css\" height=\"805px\" preserveAspectRatio=\"none\" style=\"width:193px;height:805px;\" version=\"1.1\" viewBox=\"0 0 193 805\" width=\"193px\" zoomAndPan=\"magnify\"><defs/><g><!--MD5=[fbc87193dbaf4d95561dea2c320d4a47]\n",
       "cluster E1--><a href=\"psysml:6d002b47-1de9-4cb8-be5e-1d54cb7fff5c\" target=\"_top\" title=\"psysml:6d002b47-1de9-4cb8-be5e-1d54cb7fff5c\" xlink:actuate=\"onRequest\" xlink:href=\"psysml:6d002b47-1de9-4cb8-be5e-1d54cb7fff5c\" xlink:show=\"new\" xlink:title=\"psysml:6d002b47-1de9-4cb8-be5e-1d54cb7fff5c\" xlink:type=\"simple\"><polygon fill=\"#FFFFFF\" points=\"16,6,117,6,124,28.2969,171,28.2969,171,793,16,793,16,6\" style=\"stroke: #000000; stroke-width: 1.5;\"/><line style=\"stroke: #000000; stroke-width: 1.5;\" x1=\"16\" x2=\"124\" y1=\"28.2969\" y2=\"28.2969\"/><text fill=\"#000000\" font-family=\"sans-serif\" font-size=\"14\" font-weight=\"bold\" lengthAdjust=\"spacingAndGlyphs\" textLength=\"95\" x=\"20\" y=\"20.9951\">CircularImport</text></a><!--MD5=[e4f7fae6ed58524ba242bb0b0d3be6b7]\n",
       "cluster E2--><a href=\"psysml:531dfa6c-428e-410a-a6f8-c5b9ff8ecb34\" target=\"_top\" title=\"psysml:531dfa6c-428e-410a-a6f8-c5b9ff8ecb34\" xlink:actuate=\"onRequest\" xlink:href=\"psysml:531dfa6c-428e-410a-a6f8-c5b9ff8ecb34\" xlink:show=\"new\" xlink:title=\"psysml:531dfa6c-428e-410a-a6f8-c5b9ff8ecb34\" xlink:type=\"simple\"><polygon fill=\"#FFFFFF\" points=\"40,49,64,49,71,71.2969,147,71.2969,147,144,40,144,40,49\" style=\"stroke: #000000; stroke-width: 1.5;\"/><line style=\"stroke: #000000; stroke-width: 1.5;\" x1=\"40\" x2=\"71\" y1=\"71.2969\" y2=\"71.2969\"/><text fill=\"#000000\" font-family=\"sans-serif\" font-size=\"14\" font-weight=\"bold\" lengthAdjust=\"spacingAndGlyphs\" textLength=\"18\" x=\"44\" y=\"63.9951\">P1</text></a><!--MD5=[f6df4d0ebaf0b5dfb2ced0ae5af7c670]\n",
       "cluster E4--><a href=\"psysml:62a929fe-702a-4460-9e53-8584d6f6435e\" target=\"_top\" title=\"psysml:62a929fe-702a-4460-9e53-8584d6f6435e\" xlink:actuate=\"onRequest\" xlink:href=\"psysml:62a929fe-702a-4460-9e53-8584d6f6435e\" xlink:show=\"new\" xlink:title=\"psysml:62a929fe-702a-4460-9e53-8584d6f6435e\" xlink:type=\"simple\"><polygon fill=\"#FFFFFF\" points=\"40,168,64,168,71,190.2969,147,190.2969,147,263,40,263,40,168\" style=\"stroke: #000000; stroke-width: 1.5;\"/><line style=\"stroke: #000000; stroke-width: 1.5;\" x1=\"40\" x2=\"71\" y1=\"190.2969\" y2=\"190.2969\"/><text fill=\"#000000\" font-family=\"sans-serif\" font-size=\"14\" font-weight=\"bold\" lengthAdjust=\"spacingAndGlyphs\" textLength=\"18\" x=\"44\" y=\"182.9951\">P2</text></a><!--MD5=[14e3b0961a2654348d326746436168a1]\n",
       "cluster E6--><a href=\"psysml:0f17a3a9-0805-4d7f-ba6a-07da905c8abf\" target=\"_top\" title=\"psysml:0f17a3a9-0805-4d7f-ba6a-07da905c8abf\" xlink:actuate=\"onRequest\" xlink:href=\"psysml:0f17a3a9-0805-4d7f-ba6a-07da905c8abf\" xlink:show=\"new\" xlink:title=\"psysml:0f17a3a9-0805-4d7f-ba6a-07da905c8abf\" xlink:type=\"simple\"><polygon fill=\"#FFFFFF\" points=\"52.5,287,98.5,287,105.5,309.2969,134.5,309.2969,134.5,453,52.5,453,52.5,287\" style=\"stroke: #000000; stroke-width: 1.5;\"/><line style=\"stroke: #000000; stroke-width: 1.5;\" x1=\"52.5\" x2=\"105.5\" y1=\"309.2969\" y2=\"309.2969\"/><text fill=\"#000000\" font-family=\"sans-serif\" font-size=\"14\" font-weight=\"bold\" lengthAdjust=\"spacingAndGlyphs\" textLength=\"40\" x=\"56.5\" y=\"301.9951\">Test1</text></a><!--MD5=[7f149f147074ac12df2cb0a7728a5fb0]\n",
       "cluster E9--><a href=\"psysml:a06e7d3b-be80-4318-b479-ae1779c5974b\" target=\"_top\" title=\"psysml:a06e7d3b-be80-4318-b479-ae1779c5974b\" xlink:actuate=\"onRequest\" xlink:href=\"psysml:a06e7d3b-be80-4318-b479-ae1779c5974b\" xlink:show=\"new\" xlink:title=\"psysml:a06e7d3b-be80-4318-b479-ae1779c5974b\" xlink:type=\"simple\"><polygon fill=\"#FFFFFF\" points=\"52.5,477,98.5,477,105.5,499.2969,134.5,499.2969,134.5,643,52.5,643,52.5,477\" style=\"stroke: #000000; stroke-width: 1.5;\"/><line style=\"stroke: #000000; stroke-width: 1.5;\" x1=\"52.5\" x2=\"105.5\" y1=\"499.2969\" y2=\"499.2969\"/><text fill=\"#000000\" font-family=\"sans-serif\" font-size=\"14\" font-weight=\"bold\" lengthAdjust=\"spacingAndGlyphs\" textLength=\"40\" x=\"56.5\" y=\"491.9951\">Test2</text></a><g id=\"E1.E2.E3\"><a href=\"psysml:8ceeee5f-0d5a-4279-aee9-7758649ab8be\" target=\"_top\" title=\"psysml:8ceeee5f-0d5a-4279-aee9-7758649ab8be\" xlink:actuate=\"onRequest\" xlink:href=\"psysml:8ceeee5f-0d5a-4279-aee9-7758649ab8be\" xlink:show=\"new\" xlink:title=\"psysml:8ceeee5f-0d5a-4279-aee9-7758649ab8be\" xlink:type=\"simple\"><rect fill=\"#FFFFFF\" height=\"42.9375\" id=\"E3\" style=\"stroke: #383838; stroke-width: 1.5;\" width=\"75\" x=\"56\" y=\"84.5\"/><rect fill=\"#F8F8F8\" height=\"37.9375\" style=\"stroke: #383838; stroke-width: 1.5;\" width=\"75\" x=\"56\" y=\"84.5\"/><text fill=\"#000000\" font-family=\"sans-serif\" font-size=\"12\" font-style=\"italic\" lengthAdjust=\"spacingAndGlyphs\" textLength=\"68\" x=\"59.5\" y=\"100.6387\">«part  def»</text><text fill=\"#000000\" font-family=\"sans-serif\" font-size=\"12\" lengthAdjust=\"spacingAndGlyphs\" textLength=\"8\" x=\"89.5\" y=\"114.6074\">A</text></a></g><g id=\"E1.E4.E5\"><a href=\"psysml:90844ba8-c1a9-4c46-b7c9-d1a2572e7365\" target=\"_top\" title=\"psysml:90844ba8-c1a9-4c46-b7c9-d1a2572e7365\" xlink:actuate=\"onRequest\" xlink:href=\"psysml:90844ba8-c1a9-4c46-b7c9-d1a2572e7365\" xlink:show=\"new\" xlink:title=\"psysml:90844ba8-c1a9-4c46-b7c9-d1a2572e7365\" xlink:type=\"simple\"><rect fill=\"#FFFFFF\" height=\"42.9375\" id=\"E5\" style=\"stroke: #383838; stroke-width: 1.5;\" width=\"75\" x=\"56\" y=\"203.5\"/><rect fill=\"#F8F8F8\" height=\"37.9375\" style=\"stroke: #383838; stroke-width: 1.5;\" width=\"75\" x=\"56\" y=\"203.5\"/><text fill=\"#000000\" font-family=\"sans-serif\" font-size=\"12\" font-style=\"italic\" lengthAdjust=\"spacingAndGlyphs\" textLength=\"68\" x=\"59.5\" y=\"219.6387\">«part  def»</text><text fill=\"#000000\" font-family=\"sans-serif\" font-size=\"12\" lengthAdjust=\"spacingAndGlyphs\" textLength=\"8\" x=\"89.5\" y=\"233.6074\">B</text></a></g><g id=\"E1.E6.E7\"><a href=\"psysml:9a31b8cb-b3f5-4478-b49b-73e9fd0f6da5\" target=\"_top\" title=\"psysml:9a31b8cb-b3f5-4478-b49b-73e9fd0f6da5\" xlink:actuate=\"onRequest\" xlink:href=\"psysml:9a31b8cb-b3f5-4478-b49b-73e9fd0f6da5\" xlink:show=\"new\" xlink:title=\"psysml:9a31b8cb-b3f5-4478-b49b-73e9fd0f6da5\" xlink:type=\"simple\"><rect fill=\"#FFFFFF\" height=\"40\" id=\"E7\" rx=\"10\" ry=\"10\" style=\"stroke: #383838; stroke-width: 1.5;\" width=\"50\" x=\"68.5\" y=\"322\"/><rect fill=\"#F8F8F8\" height=\"23.9688\" rx=\"10\" ry=\"10\" style=\"stroke: #F8F8F8; stroke-width: 1.5;\" width=\"50\" x=\"68.5\" y=\"322\"/><rect fill=\"#F8F8F8\" height=\"10\" style=\"stroke: #F8F8F8; stroke-width: 1.5;\" width=\"50\" x=\"68.5\" y=\"335.9688\"/><rect fill=\"none\" height=\"40\" id=\"E7\" rx=\"10\" ry=\"10\" style=\"stroke: #383838; stroke-width: 1.5;\" width=\"50\" x=\"68.5\" y=\"322\"/><text fill=\"#000000\" font-family=\"sans-serif\" font-size=\"12\" lengthAdjust=\"spacingAndGlyphs\" textLength=\"22\" x=\"82.5\" y=\"338.1387\">x: A</text></a></g><g id=\"E1.E6.E8\"><a href=\"psysml:084cb86b-cc59-4a41-8b1c-7b7410cc5029\" target=\"_top\" title=\"psysml:084cb86b-cc59-4a41-8b1c-7b7410cc5029\" xlink:actuate=\"onRequest\" xlink:href=\"psysml:084cb86b-cc59-4a41-8b1c-7b7410cc5029\" xlink:show=\"new\" xlink:title=\"psysml:084cb86b-cc59-4a41-8b1c-7b7410cc5029\" xlink:type=\"simple\"><rect fill=\"#FFFFFF\" height=\"40\" id=\"E8\" rx=\"10\" ry=\"10\" style=\"stroke: #383838; stroke-width: 1.5;\" width=\"50\" x=\"68.5\" y=\"397\"/><rect fill=\"#F8F8F8\" height=\"23.9688\" rx=\"10\" ry=\"10\" style=\"stroke: #F8F8F8; stroke-width: 1.5;\" width=\"50\" x=\"68.5\" y=\"397\"/><rect fill=\"#F8F8F8\" height=\"10\" style=\"stroke: #F8F8F8; stroke-width: 1.5;\" width=\"50\" x=\"68.5\" y=\"410.9688\"/><rect fill=\"none\" height=\"40\" id=\"E8\" rx=\"10\" ry=\"10\" style=\"stroke: #383838; stroke-width: 1.5;\" width=\"50\" x=\"68.5\" y=\"397\"/><text fill=\"#000000\" font-family=\"sans-serif\" font-size=\"12\" lengthAdjust=\"spacingAndGlyphs\" textLength=\"22\" x=\"82.5\" y=\"413.1387\">y: B</text></a></g><g id=\"E1.E9.E10\"><a href=\"psysml:377a64d2-1aa6-4a9b-ba95-6aeb6c1d992f\" target=\"_top\" title=\"psysml:377a64d2-1aa6-4a9b-ba95-6aeb6c1d992f\" xlink:actuate=\"onRequest\" xlink:href=\"psysml:377a64d2-1aa6-4a9b-ba95-6aeb6c1d992f\" xlink:show=\"new\" xlink:title=\"psysml:377a64d2-1aa6-4a9b-ba95-6aeb6c1d992f\" xlink:type=\"simple\"><rect fill=\"#FFFFFF\" height=\"40\" id=\"E10\" rx=\"10\" ry=\"10\" style=\"stroke: #383838; stroke-width: 1.5;\" width=\"50\" x=\"68.5\" y=\"512\"/><rect fill=\"#F8F8F8\" height=\"23.9688\" rx=\"10\" ry=\"10\" style=\"stroke: #F8F8F8; stroke-width: 1.5;\" width=\"50\" x=\"68.5\" y=\"512\"/><rect fill=\"#F8F8F8\" height=\"10\" style=\"stroke: #F8F8F8; stroke-width: 1.5;\" width=\"50\" x=\"68.5\" y=\"525.9688\"/><rect fill=\"none\" height=\"40\" id=\"E10\" rx=\"10\" ry=\"10\" style=\"stroke: #383838; stroke-width: 1.5;\" width=\"50\" x=\"68.5\" y=\"512\"/><text fill=\"#000000\" font-family=\"sans-serif\" font-size=\"12\" lengthAdjust=\"spacingAndGlyphs\" textLength=\"22\" x=\"82.5\" y=\"528.1387\">x: A</text></a></g><g id=\"E1.E9.E11\"><a href=\"psysml:7cdd5db6-fbbe-4f9d-b259-3a085be4f068\" target=\"_top\" title=\"psysml:7cdd5db6-fbbe-4f9d-b259-3a085be4f068\" xlink:actuate=\"onRequest\" xlink:href=\"psysml:7cdd5db6-fbbe-4f9d-b259-3a085be4f068\" xlink:show=\"new\" xlink:title=\"psysml:7cdd5db6-fbbe-4f9d-b259-3a085be4f068\" xlink:type=\"simple\"><rect fill=\"#FFFFFF\" height=\"40\" id=\"E11\" rx=\"10\" ry=\"10\" style=\"stroke: #383838; stroke-width: 1.5;\" width=\"50\" x=\"68.5\" y=\"587\"/><rect fill=\"#F8F8F8\" height=\"23.9688\" rx=\"10\" ry=\"10\" style=\"stroke: #F8F8F8; stroke-width: 1.5;\" width=\"50\" x=\"68.5\" y=\"587\"/><rect fill=\"#F8F8F8\" height=\"10\" style=\"stroke: #F8F8F8; stroke-width: 1.5;\" width=\"50\" x=\"68.5\" y=\"600.9688\"/><rect fill=\"none\" height=\"40\" id=\"E11\" rx=\"10\" ry=\"10\" style=\"stroke: #383838; stroke-width: 1.5;\" width=\"50\" x=\"68.5\" y=\"587\"/><text fill=\"#000000\" font-family=\"sans-serif\" font-size=\"12\" lengthAdjust=\"spacingAndGlyphs\" textLength=\"22\" x=\"82.5\" y=\"603.1387\">y: B</text></a></g><g id=\"E1.E12\"><a href=\"psysml:665d223a-8fea-436a-b414-0efd919424fb\" target=\"_top\" title=\"psysml:665d223a-8fea-436a-b414-0efd919424fb\" xlink:actuate=\"onRequest\" xlink:href=\"psysml:665d223a-8fea-436a-b414-0efd919424fb\" xlink:show=\"new\" xlink:title=\"psysml:665d223a-8fea-436a-b414-0efd919424fb\" xlink:type=\"simple\"><rect fill=\"#FFFFFF\" height=\"40\" id=\"E12\" rx=\"10\" ry=\"10\" style=\"stroke: #383838; stroke-width: 1.5;\" width=\"50\" x=\"68.5\" y=\"662\"/><rect fill=\"#F8F8F8\" height=\"23.9688\" rx=\"10\" ry=\"10\" style=\"stroke: #F8F8F8; stroke-width: 1.5;\" width=\"50\" x=\"68.5\" y=\"662\"/><rect fill=\"#F8F8F8\" height=\"10\" style=\"stroke: #F8F8F8; stroke-width: 1.5;\" width=\"50\" x=\"68.5\" y=\"675.9688\"/><rect fill=\"none\" height=\"40\" id=\"E12\" rx=\"10\" ry=\"10\" style=\"stroke: #383838; stroke-width: 1.5;\" width=\"50\" x=\"68.5\" y=\"662\"/><text fill=\"#000000\" font-family=\"sans-serif\" font-size=\"12\" lengthAdjust=\"spacingAndGlyphs\" textLength=\"22\" x=\"82.5\" y=\"678.1387\">x: A</text></a></g><g id=\"E1.E13\"><a href=\"psysml:a1b35d80-8992-43c2-aa5d-6937f2901599\" target=\"_top\" title=\"psysml:a1b35d80-8992-43c2-aa5d-6937f2901599\" xlink:actuate=\"onRequest\" xlink:href=\"psysml:a1b35d80-8992-43c2-aa5d-6937f2901599\" xlink:show=\"new\" xlink:title=\"psysml:a1b35d80-8992-43c2-aa5d-6937f2901599\" xlink:type=\"simple\"><rect fill=\"#FFFFFF\" height=\"40\" id=\"E13\" rx=\"10\" ry=\"10\" style=\"stroke: #383838; stroke-width: 1.5;\" width=\"50\" x=\"68.5\" y=\"737\"/><rect fill=\"#F8F8F8\" height=\"23.9688\" rx=\"10\" ry=\"10\" style=\"stroke: #F8F8F8; stroke-width: 1.5;\" width=\"50\" x=\"68.5\" y=\"737\"/><rect fill=\"#F8F8F8\" height=\"10\" style=\"stroke: #F8F8F8; stroke-width: 1.5;\" width=\"50\" x=\"68.5\" y=\"750.9688\"/><rect fill=\"none\" height=\"40\" id=\"E13\" rx=\"10\" ry=\"10\" style=\"stroke: #383838; stroke-width: 1.5;\" width=\"50\" x=\"68.5\" y=\"737\"/><text fill=\"#000000\" font-family=\"sans-serif\" font-size=\"12\" lengthAdjust=\"spacingAndGlyphs\" textLength=\"22\" x=\"82.5\" y=\"753.1387\">y: B</text></a></g><!--MD5=[c1d667b4de333f2276a71c2bec7a4b2b]\n",
       "@startuml\r\n",
       "skinparam ranksep 10\r\n",
       "skinparam rectangle {\r\n",
       " backgroundColor<<block>> LightGreen\r\n",
       "}\r\n",
       "left to right direction\r\n",
       "skinparam monochrome true\r\n",
       "skinparam classbackgroundcolor white\r\n",
       "skinparam shadowing false\r\n",
       "skinparam wrapWidth 300\r\n",
       "hide circle\r\n",
       "\r\n",
       "package \"CircularImport\" as E1  [[psysml:6d002b47-1de9-4cb8-be5e-1d54cb7fff5c ]]  {\r\n",
       "package \"P1\" as E2  [[psysml:531dfa6c-428e-410a-a6f8-c5b9ff8ecb34 ]]  {\r\n",
       "rec def \"A\" as E3  <<(T,blue) part  def>> [[psysml:8ceeee5f-0d5a-4279-aee9-7758649ab8be ]] {\r\n",
       "}\r\n",
       "}\r\n",
       "package \"P2\" as E4  [[psysml:62a929fe-702a-4460-9e53-8584d6f6435e ]]  {\r\n",
       "rec def \"B\" as E5  <<(T,blue) part  def>> [[psysml:90844ba8-c1a9-4c46-b7c9-d1a2572e7365 ]] {\r\n",
       "}\r\n",
       "}\r\n",
       "package \"Test1\" as E6  [[psysml:0f17a3a9-0805-4d7f-ba6a-07da905c8abf ]]  {\r\n",
       "rec usage \"x: A\" as E7  [[psysml:9a31b8cb-b3f5-4478-b49b-73e9fd0f6da5 ]] {\r\n",
       "}\r\n",
       "rec usage \"y: B\" as E8  [[psysml:084cb86b-cc59-4a41-8b1c-7b7410cc5029 ]] {\r\n",
       "}\r\n",
       "}\r\n",
       "package \"Test2\" as E9  [[psysml:a06e7d3b-be80-4318-b479-ae1779c5974b ]]  {\r\n",
       "rec usage \"x: A\" as E10  [[psysml:377a64d2-1aa6-4a9b-ba95-6aeb6c1d992f ]] {\r\n",
       "}\r\n",
       "rec usage \"y: B\" as E11  [[psysml:7cdd5db6-fbbe-4f9d-b259-3a085be4f068 ]] {\r\n",
       "}\r\n",
       "}\r\n",
       "rec usage \"x: A\" as E12  [[psysml:665d223a-8fea-436a-b414-0efd919424fb ]] {\r\n",
       "}\r\n",
       "rec usage \"y: B\" as E13  [[psysml:a1b35d80-8992-43c2-aa5d-6937f2901599 ]] {\r\n",
       "}\r\n",
       "}\r\n",
       "@enduml\r\n",
       "\n",
       "PlantUML version 1.2020.13(Sat Jun 13 12:26:38 UTC 2020)\n",
       "(EPL source distribution)\n",
       "Java Runtime: OpenJDK Runtime Environment\n",
       "JVM: OpenJDK 64-Bit Server VM\n",
       "Default Encoding: UTF-8\n",
       "Language: en\n",
       "Country: null\n",
       "--></g></svg>"
      ]
     },
     "execution_count": 19,
     "metadata": {},
     "output_type": "execute_result"
    }
   ],
   "source": [
    "%viz --style=\"LR\" --view=\"Interconnection\" \"CircularImport\""
   ]
  },
  {
   "cell_type": "code",
   "execution_count": 20,
   "id": "0d331ffe",
   "metadata": {
    "execution": {
     "iopub.execute_input": "2021-12-15T15:15:37.763855Z",
     "iopub.status.busy": "2021-12-15T15:15:37.763445Z",
     "iopub.status.idle": "2021-12-15T15:15:37.769132Z",
     "shell.execute_reply": "2021-12-15T15:15:37.769447Z"
    }
   },
   "outputs": [
    {
     "data": {
      "image/svg+xml": [
       "<?xml version=\"1.0\" encoding=\"UTF-8\" standalone=\"no\"?><svg xmlns=\"http://www.w3.org/2000/svg\" xmlns:xlink=\"http://www.w3.org/1999/xlink\" contentScriptType=\"application/ecmascript\" contentStyleType=\"text/css\" height=\"12px\" preserveAspectRatio=\"none\" style=\"width:12px;height:12px;\" version=\"1.1\" viewBox=\"0 0 12 12\" width=\"12px\" zoomAndPan=\"magnify\"><defs/><g><!--MD5=[7aeb398939421629f6affaa4a1a7b125]\n",
       "@startuml\r\n",
       "skinparam ranksep 8\r\n",
       "left to right direction\r\n",
       "skinparam monochrome true\r\n",
       "skinparam classbackgroundcolor white\r\n",
       "skinparam shadowing false\r\n",
       "skinparam wrapWidth 300\r\n",
       "hide circle\r\n",
       "\r\n",
       "@enduml\r\n",
       "\n",
       "PlantUML version 1.2020.13(Sat Jun 13 12:26:38 UTC 2020)\n",
       "(EPL source distribution)\n",
       "Java Runtime: OpenJDK Runtime Environment\n",
       "JVM: OpenJDK 64-Bit Server VM\n",
       "Default Encoding: UTF-8\n",
       "Language: en\n",
       "Country: null\n",
       "--></g></svg>"
      ]
     },
     "execution_count": 20,
     "metadata": {},
     "output_type": "execute_result"
    }
   ],
   "source": [
    "%viz --style=\"LR\" --view=\"Action\" \"CircularImport\""
   ]
  },
  {
   "cell_type": "code",
   "execution_count": 21,
   "id": "cfab65fa",
   "metadata": {
    "execution": {
     "iopub.execute_input": "2021-12-15T15:15:37.819041Z",
     "iopub.status.busy": "2021-12-15T15:15:37.818637Z",
     "iopub.status.idle": "2021-12-15T15:15:37.824607Z",
     "shell.execute_reply": "2021-12-15T15:15:37.824924Z"
    }
   },
   "outputs": [
    {
     "data": {
      "image/svg+xml": [
       "<?xml version=\"1.0\" encoding=\"UTF-8\" standalone=\"no\"?><svg xmlns=\"http://www.w3.org/2000/svg\" xmlns:xlink=\"http://www.w3.org/1999/xlink\" contentScriptType=\"application/ecmascript\" contentStyleType=\"text/css\" height=\"12px\" preserveAspectRatio=\"none\" style=\"width:12px;height:12px;\" version=\"1.1\" viewBox=\"0 0 12 12\" width=\"12px\" zoomAndPan=\"magnify\"><defs/><g><!--MD5=[238c11ea2002f03115ad6b49a457d50e]\n",
       "@startuml\r\n",
       "skinparam roundcorner 20\r\n",
       "skinparam BoxPadding 20\r\n",
       "skinparam SequenceBoxBackgroundColor #white\r\n",
       "skinparam style strictuml\r\n",
       "skinparam maxMessageSize 100\r\n",
       "left to right direction\r\n",
       "skinparam monochrome true\r\n",
       "skinparam classbackgroundcolor white\r\n",
       "skinparam shadowing false\r\n",
       "skinparam wrapWidth 300\r\n",
       "hide circle\r\n",
       "\r\n",
       "@enduml\r\n",
       "\n",
       "PlantUML version 1.2020.13(Sat Jun 13 12:26:38 UTC 2020)\n",
       "(EPL source distribution)\n",
       "Java Runtime: OpenJDK Runtime Environment\n",
       "JVM: OpenJDK 64-Bit Server VM\n",
       "Default Encoding: UTF-8\n",
       "Language: en\n",
       "Country: null\n",
       "--></g></svg>"
      ]
     },
     "execution_count": 21,
     "metadata": {},
     "output_type": "execute_result"
    }
   ],
   "source": [
    "%viz --style=\"LR\" --view=\"Sequence\" \"CircularImport\""
   ]
  },
  {
   "cell_type": "code",
   "execution_count": 22,
   "id": "994e494c",
   "metadata": {
    "execution": {
     "iopub.execute_input": "2021-12-15T15:15:37.874502Z",
     "iopub.status.busy": "2021-12-15T15:15:37.874111Z",
     "iopub.status.idle": "2021-12-15T15:15:37.917094Z",
     "shell.execute_reply": "2021-12-15T15:15:37.916728Z"
    }
   },
   "outputs": [
    {
     "data": {
      "image/svg+xml": [
       "<?xml version=\"1.0\" encoding=\"UTF-8\" standalone=\"no\"?><svg xmlns=\"http://www.w3.org/2000/svg\" xmlns:xlink=\"http://www.w3.org/1999/xlink\" contentScriptType=\"application/ecmascript\" contentStyleType=\"text/css\" height=\"576px\" preserveAspectRatio=\"none\" style=\"width:290px;height:576px;\" version=\"1.1\" viewBox=\"0 0 290 576\" width=\"290px\" zoomAndPan=\"magnify\"><defs/><g><!--MD5=[fbc87193dbaf4d95561dea2c320d4a47]\n",
       "cluster E1--><a href=\"psysml:6d002b47-1de9-4cb8-be5e-1d54cb7fff5c\" target=\"_top\" title=\"psysml:6d002b47-1de9-4cb8-be5e-1d54cb7fff5c\" xlink:actuate=\"onRequest\" xlink:href=\"psysml:6d002b47-1de9-4cb8-be5e-1d54cb7fff5c\" xlink:show=\"new\" xlink:title=\"psysml:6d002b47-1de9-4cb8-be5e-1d54cb7fff5c\" xlink:type=\"simple\"><polygon fill=\"#FFFFFF\" points=\"16,6,117,6,124,28.2969,268,28.2969,268,564,16,564,16,6\" style=\"stroke: #000000; stroke-width: 1.5;\"/><line style=\"stroke: #000000; stroke-width: 1.5;\" x1=\"16\" x2=\"124\" y1=\"28.2969\" y2=\"28.2969\"/><text fill=\"#000000\" font-family=\"sans-serif\" font-size=\"14\" font-weight=\"bold\" lengthAdjust=\"spacingAndGlyphs\" textLength=\"95\" x=\"20\" y=\"20.9951\">CircularImport</text></a><!--MD5=[e4f7fae6ed58524ba242bb0b0d3be6b7]\n",
       "cluster E2--><a href=\"psysml:531dfa6c-428e-410a-a6f8-c5b9ff8ecb34\" target=\"_top\" title=\"psysml:531dfa6c-428e-410a-a6f8-c5b9ff8ecb34\" xlink:actuate=\"onRequest\" xlink:href=\"psysml:531dfa6c-428e-410a-a6f8-c5b9ff8ecb34\" xlink:show=\"new\" xlink:title=\"psysml:531dfa6c-428e-410a-a6f8-c5b9ff8ecb34\" xlink:type=\"simple\"><polygon fill=\"#FFFFFF\" points=\"142,103,166,103,173,125.2969,244,125.2969,244,200,142,200,142,103\" style=\"stroke: #000000; stroke-width: 1.5;\"/><line style=\"stroke: #000000; stroke-width: 1.5;\" x1=\"142\" x2=\"173\" y1=\"125.2969\" y2=\"125.2969\"/><text fill=\"#000000\" font-family=\"sans-serif\" font-size=\"14\" font-weight=\"bold\" lengthAdjust=\"spacingAndGlyphs\" textLength=\"18\" x=\"146\" y=\"117.9951\">P1</text></a><!--MD5=[f6df4d0ebaf0b5dfb2ced0ae5af7c670]\n",
       "cluster E4--><a href=\"psysml:62a929fe-702a-4460-9e53-8584d6f6435e\" target=\"_top\" title=\"psysml:62a929fe-702a-4460-9e53-8584d6f6435e\" xlink:actuate=\"onRequest\" xlink:href=\"psysml:62a929fe-702a-4460-9e53-8584d6f6435e\" xlink:show=\"new\" xlink:title=\"psysml:62a929fe-702a-4460-9e53-8584d6f6435e\" xlink:type=\"simple\"><polygon fill=\"#FFFFFF\" points=\"142,386,166,386,173,408.2969,244,408.2969,244,483,142,483,142,386\" style=\"stroke: #000000; stroke-width: 1.5;\"/><line style=\"stroke: #000000; stroke-width: 1.5;\" x1=\"142\" x2=\"173\" y1=\"408.2969\" y2=\"408.2969\"/><text fill=\"#000000\" font-family=\"sans-serif\" font-size=\"14\" font-weight=\"bold\" lengthAdjust=\"spacingAndGlyphs\" textLength=\"18\" x=\"146\" y=\"400.9951\">P2</text></a><!--MD5=[14e3b0961a2654348d326746436168a1]\n",
       "cluster E6--><a href=\"psysml:0f17a3a9-0805-4d7f-ba6a-07da905c8abf\" target=\"_top\" title=\"psysml:0f17a3a9-0805-4d7f-ba6a-07da905c8abf\" xlink:actuate=\"onRequest\" xlink:href=\"psysml:0f17a3a9-0805-4d7f-ba6a-07da905c8abf\" xlink:show=\"new\" xlink:title=\"psysml:0f17a3a9-0805-4d7f-ba6a-07da905c8abf\" xlink:type=\"simple\"><polygon fill=\"#FFFFFF\" points=\"40,103,86,103,93,125.2969,114,125.2969,114,281,40,281,40,103\" style=\"stroke: #000000; stroke-width: 1.5;\"/><line style=\"stroke: #000000; stroke-width: 1.5;\" x1=\"40\" x2=\"93\" y1=\"125.2969\" y2=\"125.2969\"/><text fill=\"#000000\" font-family=\"sans-serif\" font-size=\"14\" font-weight=\"bold\" lengthAdjust=\"spacingAndGlyphs\" textLength=\"40\" x=\"44\" y=\"117.9951\">Test1</text></a><!--MD5=[7f149f147074ac12df2cb0a7728a5fb0]\n",
       "cluster E9--><a href=\"psysml:a06e7d3b-be80-4318-b479-ae1779c5974b\" target=\"_top\" title=\"psysml:a06e7d3b-be80-4318-b479-ae1779c5974b\" xlink:actuate=\"onRequest\" xlink:href=\"psysml:a06e7d3b-be80-4318-b479-ae1779c5974b\" xlink:show=\"new\" xlink:title=\"psysml:a06e7d3b-be80-4318-b479-ae1779c5974b\" xlink:type=\"simple\"><polygon fill=\"#FFFFFF\" points=\"40,305,86,305,93,327.2969,114,327.2969,114,483,40,483,40,305\" style=\"stroke: #000000; stroke-width: 1.5;\"/><line style=\"stroke: #000000; stroke-width: 1.5;\" x1=\"40\" x2=\"93\" y1=\"327.2969\" y2=\"327.2969\"/><text fill=\"#000000\" font-family=\"sans-serif\" font-size=\"14\" font-weight=\"bold\" lengthAdjust=\"spacingAndGlyphs\" textLength=\"40\" x=\"44\" y=\"319.9951\">Test2</text></a><!--MD5=[49a0ec8f00dab7302a31f22d0f0fe584]\n",
       "class E12--><a href=\"psysml:665d223a-8fea-436a-b414-0efd919424fb\" target=\"_top\" title=\"psysml:665d223a-8fea-436a-b414-0efd919424fb\" xlink:actuate=\"onRequest\" xlink:href=\"psysml:665d223a-8fea-436a-b414-0efd919424fb\" xlink:show=\"new\" xlink:title=\"psysml:665d223a-8fea-436a-b414-0efd919424fb\" xlink:type=\"simple\"><rect fill=\"#FFFFFF\" height=\"45.9375\" id=\"E12\" rx=\"10\" ry=\"10\" style=\"stroke: #383838; stroke-width: 1.5;\" width=\"42\" x=\"56\" y=\"41\"/><text fill=\"#000000\" font-family=\"sans-serif\" font-size=\"12\" font-style=\"italic\" lengthAdjust=\"spacingAndGlyphs\" textLength=\"40\" x=\"57\" y=\"57.1387\">«part»</text><text fill=\"#000000\" font-family=\"sans-serif\" font-size=\"12\" lengthAdjust=\"spacingAndGlyphs\" textLength=\"22\" x=\"64\" y=\"71.1074\">x: A</text><line style=\"stroke: #383838; stroke-width: 1.5;\" x1=\"57\" x2=\"97\" y1=\"78.9375\" y2=\"78.9375\"/></a><!--MD5=[ee3c913d1a06f366521f9ef512b67efe]\n",
       "class E13--><a href=\"psysml:a1b35d80-8992-43c2-aa5d-6937f2901599\" target=\"_top\" title=\"psysml:a1b35d80-8992-43c2-aa5d-6937f2901599\" xlink:actuate=\"onRequest\" xlink:href=\"psysml:a1b35d80-8992-43c2-aa5d-6937f2901599\" xlink:show=\"new\" xlink:title=\"psysml:a1b35d80-8992-43c2-aa5d-6937f2901599\" xlink:type=\"simple\"><rect fill=\"#FFFFFF\" height=\"45.9375\" id=\"E13\" rx=\"10\" ry=\"10\" style=\"stroke: #383838; stroke-width: 1.5;\" width=\"42\" x=\"56\" y=\"502\"/><text fill=\"#000000\" font-family=\"sans-serif\" font-size=\"12\" font-style=\"italic\" lengthAdjust=\"spacingAndGlyphs\" textLength=\"40\" x=\"57\" y=\"518.1387\">«part»</text><text fill=\"#000000\" font-family=\"sans-serif\" font-size=\"12\" lengthAdjust=\"spacingAndGlyphs\" textLength=\"22\" x=\"64\" y=\"532.1074\">y: B</text><line style=\"stroke: #383838; stroke-width: 1.5;\" x1=\"57\" x2=\"97\" y1=\"539.9375\" y2=\"539.9375\"/></a><!--MD5=[09b614a08d8cba4a07c9adeb5e0fee81]\n",
       "class E3--><a href=\"psysml:8ceeee5f-0d5a-4279-aee9-7758649ab8be\" target=\"_top\" title=\"psysml:8ceeee5f-0d5a-4279-aee9-7758649ab8be\" xlink:actuate=\"onRequest\" xlink:href=\"psysml:8ceeee5f-0d5a-4279-aee9-7758649ab8be\" xlink:show=\"new\" xlink:title=\"psysml:8ceeee5f-0d5a-4279-aee9-7758649ab8be\" xlink:type=\"simple\"><rect fill=\"#FFFFFF\" height=\"45.9375\" id=\"E3\" style=\"stroke: #383838; stroke-width: 1.5;\" width=\"70\" x=\"158\" y=\"138\"/><text fill=\"#000000\" font-family=\"sans-serif\" font-size=\"12\" font-style=\"italic\" lengthAdjust=\"spacingAndGlyphs\" textLength=\"68\" x=\"159\" y=\"154.1387\">«part  def»</text><text fill=\"#000000\" font-family=\"sans-serif\" font-size=\"12\" lengthAdjust=\"spacingAndGlyphs\" textLength=\"8\" x=\"189\" y=\"168.1074\">A</text><line style=\"stroke: #383838; stroke-width: 1.5;\" x1=\"159\" x2=\"227\" y1=\"175.9375\" y2=\"175.9375\"/></a><!--MD5=[270fce915f116d4de14055a7c1d9a0f3]\n",
       "class E5--><a href=\"psysml:90844ba8-c1a9-4c46-b7c9-d1a2572e7365\" target=\"_top\" title=\"psysml:90844ba8-c1a9-4c46-b7c9-d1a2572e7365\" xlink:actuate=\"onRequest\" xlink:href=\"psysml:90844ba8-c1a9-4c46-b7c9-d1a2572e7365\" xlink:show=\"new\" xlink:title=\"psysml:90844ba8-c1a9-4c46-b7c9-d1a2572e7365\" xlink:type=\"simple\"><rect fill=\"#FFFFFF\" height=\"45.9375\" id=\"E5\" style=\"stroke: #383838; stroke-width: 1.5;\" width=\"70\" x=\"158\" y=\"421\"/><text fill=\"#000000\" font-family=\"sans-serif\" font-size=\"12\" font-style=\"italic\" lengthAdjust=\"spacingAndGlyphs\" textLength=\"68\" x=\"159\" y=\"437.1387\">«part  def»</text><text fill=\"#000000\" font-family=\"sans-serif\" font-size=\"12\" lengthAdjust=\"spacingAndGlyphs\" textLength=\"8\" x=\"189\" y=\"451.1074\">B</text><line style=\"stroke: #383838; stroke-width: 1.5;\" x1=\"159\" x2=\"227\" y1=\"458.9375\" y2=\"458.9375\"/></a><!--MD5=[2156ba9850f5573cc1fc38a6a4b2f02b]\n",
       "class E7--><a href=\"psysml:9a31b8cb-b3f5-4478-b49b-73e9fd0f6da5\" target=\"_top\" title=\"psysml:9a31b8cb-b3f5-4478-b49b-73e9fd0f6da5\" xlink:actuate=\"onRequest\" xlink:href=\"psysml:9a31b8cb-b3f5-4478-b49b-73e9fd0f6da5\" xlink:show=\"new\" xlink:title=\"psysml:9a31b8cb-b3f5-4478-b49b-73e9fd0f6da5\" xlink:type=\"simple\"><rect fill=\"#FFFFFF\" height=\"45.9375\" id=\"E7\" rx=\"10\" ry=\"10\" style=\"stroke: #383838; stroke-width: 1.5;\" width=\"42\" x=\"56\" y=\"138\"/><text fill=\"#000000\" font-family=\"sans-serif\" font-size=\"12\" font-style=\"italic\" lengthAdjust=\"spacingAndGlyphs\" textLength=\"40\" x=\"57\" y=\"154.1387\">«part»</text><text fill=\"#000000\" font-family=\"sans-serif\" font-size=\"12\" lengthAdjust=\"spacingAndGlyphs\" textLength=\"22\" x=\"64\" y=\"168.1074\">x: A</text><line style=\"stroke: #383838; stroke-width: 1.5;\" x1=\"57\" x2=\"97\" y1=\"175.9375\" y2=\"175.9375\"/></a><!--MD5=[b9389687b975829384b498ac4b7476b2]\n",
       "class E8--><a href=\"psysml:084cb86b-cc59-4a41-8b1c-7b7410cc5029\" target=\"_top\" title=\"psysml:084cb86b-cc59-4a41-8b1c-7b7410cc5029\" xlink:actuate=\"onRequest\" xlink:href=\"psysml:084cb86b-cc59-4a41-8b1c-7b7410cc5029\" xlink:show=\"new\" xlink:title=\"psysml:084cb86b-cc59-4a41-8b1c-7b7410cc5029\" xlink:type=\"simple\"><rect fill=\"#FFFFFF\" height=\"45.9375\" id=\"E8\" rx=\"10\" ry=\"10\" style=\"stroke: #383838; stroke-width: 1.5;\" width=\"42\" x=\"56\" y=\"219\"/><text fill=\"#000000\" font-family=\"sans-serif\" font-size=\"12\" font-style=\"italic\" lengthAdjust=\"spacingAndGlyphs\" textLength=\"40\" x=\"57\" y=\"235.1387\">«part»</text><text fill=\"#000000\" font-family=\"sans-serif\" font-size=\"12\" lengthAdjust=\"spacingAndGlyphs\" textLength=\"22\" x=\"64\" y=\"249.1074\">y: B</text><line style=\"stroke: #383838; stroke-width: 1.5;\" x1=\"57\" x2=\"97\" y1=\"256.9375\" y2=\"256.9375\"/></a><!--MD5=[96f4274e9e20536e775497830990834d]\n",
       "class E10--><a href=\"psysml:377a64d2-1aa6-4a9b-ba95-6aeb6c1d992f\" target=\"_top\" title=\"psysml:377a64d2-1aa6-4a9b-ba95-6aeb6c1d992f\" xlink:actuate=\"onRequest\" xlink:href=\"psysml:377a64d2-1aa6-4a9b-ba95-6aeb6c1d992f\" xlink:show=\"new\" xlink:title=\"psysml:377a64d2-1aa6-4a9b-ba95-6aeb6c1d992f\" xlink:type=\"simple\"><rect fill=\"#FFFFFF\" height=\"45.9375\" id=\"E10\" rx=\"10\" ry=\"10\" style=\"stroke: #383838; stroke-width: 1.5;\" width=\"42\" x=\"56\" y=\"340\"/><text fill=\"#000000\" font-family=\"sans-serif\" font-size=\"12\" font-style=\"italic\" lengthAdjust=\"spacingAndGlyphs\" textLength=\"40\" x=\"57\" y=\"356.1387\">«part»</text><text fill=\"#000000\" font-family=\"sans-serif\" font-size=\"12\" lengthAdjust=\"spacingAndGlyphs\" textLength=\"22\" x=\"64\" y=\"370.1074\">x: A</text><line style=\"stroke: #383838; stroke-width: 1.5;\" x1=\"57\" x2=\"97\" y1=\"377.9375\" y2=\"377.9375\"/></a><!--MD5=[1dd1bfd58a279cf63c5f349dbc8fc6a1]\n",
       "class E11--><a href=\"psysml:7cdd5db6-fbbe-4f9d-b259-3a085be4f068\" target=\"_top\" title=\"psysml:7cdd5db6-fbbe-4f9d-b259-3a085be4f068\" xlink:actuate=\"onRequest\" xlink:href=\"psysml:7cdd5db6-fbbe-4f9d-b259-3a085be4f068\" xlink:show=\"new\" xlink:title=\"psysml:7cdd5db6-fbbe-4f9d-b259-3a085be4f068\" xlink:type=\"simple\"><rect fill=\"#FFFFFF\" height=\"45.9375\" id=\"E11\" rx=\"10\" ry=\"10\" style=\"stroke: #383838; stroke-width: 1.5;\" width=\"42\" x=\"56\" y=\"421\"/><text fill=\"#000000\" font-family=\"sans-serif\" font-size=\"12\" font-style=\"italic\" lengthAdjust=\"spacingAndGlyphs\" textLength=\"40\" x=\"57\" y=\"437.1387\">«part»</text><text fill=\"#000000\" font-family=\"sans-serif\" font-size=\"12\" lengthAdjust=\"spacingAndGlyphs\" textLength=\"22\" x=\"64\" y=\"451.1074\">y: B</text><line style=\"stroke: #383838; stroke-width: 1.5;\" x1=\"57\" x2=\"97\" y1=\"458.9375\" y2=\"458.9375\"/></a><!--MD5=[14ccda38c055a5c0da953d572bc50960]\n",
       "link E7 to E3--><a href=\"psysml:0b2c7bde-3c6f-4711-9ee8-a744dba64aec\" target=\"_top\" title=\"psysml:0b2c7bde-3c6f-4711-9ee8-a744dba64aec\" xlink:actuate=\"onRequest\" xlink:href=\"psysml:0b2c7bde-3c6f-4711-9ee8-a744dba64aec\" xlink:show=\"new\" xlink:title=\"psysml:0b2c7bde-3c6f-4711-9ee8-a744dba64aec\" xlink:type=\"simple\"><path d=\"M98.12,161 C109.2,161 123.54,161 137.66,161 \" fill=\"none\" id=\"E7-&gt;E3\" style=\"stroke: #383838; stroke-width: 1.0;\"/><polygon fill=\"#FFFFFF\" points=\"157.79,161,138.79,168,138.79,154,157.79,161\" style=\"stroke: #383838; stroke-width: 1.0;\"/><ellipse cx=\"133.09\" cy=\"166\" fill=\"#383838\" rx=\"2\" ry=\"2\" style=\"stroke: #383838; stroke-width: 1.0;\"/><ellipse cx=\"133.09\" cy=\"156\" fill=\"#383838\" rx=\"2\" ry=\"2\" style=\"stroke: #383838; stroke-width: 1.0;\"/></a><!--MD5=[1ccb2481ffa92f8d51a74ee30c51832a]\n",
       "link E8 to E5--><a href=\"psysml:16eea2e1-2a1c-45c0-89dc-072c92b0db51\" target=\"_top\" title=\"psysml:16eea2e1-2a1c-45c0-89dc-072c92b0db51\" xlink:actuate=\"onRequest\" xlink:href=\"psysml:16eea2e1-2a1c-45c0-89dc-072c92b0db51\" xlink:show=\"new\" xlink:title=\"psysml:16eea2e1-2a1c-45c0-89dc-072c92b0db51\" xlink:type=\"simple\"><path d=\"M91.08,265.17 C110.05,298.8 145.51,361.62 168.94,403.13 \" fill=\"none\" id=\"E8-&gt;E5\" style=\"stroke: #383838; stroke-width: 1.0;\"/><polygon fill=\"#FFFFFF\" points=\"178.9,420.79,163.4697,407.6787,175.6643,400.8017,178.9,420.79\" style=\"stroke: #383838; stroke-width: 1.0;\"/><ellipse cx=\"162.4119\" cy=\"401.7313\" fill=\"#383838\" rx=\"2\" ry=\"2\" style=\"stroke: #383838; stroke-width: 1.0;\"/><ellipse cx=\"171.1223\" cy=\"396.8192\" fill=\"#383838\" rx=\"2\" ry=\"2\" style=\"stroke: #383838; stroke-width: 1.0;\"/></a><!--MD5=[feeac5eb423634930294aa81f2d25a4c]\n",
       "link E10 to E3--><a href=\"psysml:0ac0ff17-b961-483b-88a6-6c34531d2872\" target=\"_top\" title=\"psysml:0ac0ff17-b961-483b-88a6-6c34531d2872\" xlink:actuate=\"onRequest\" xlink:href=\"psysml:0ac0ff17-b961-483b-88a6-6c34531d2872\" xlink:show=\"new\" xlink:title=\"psysml:0ac0ff17-b961-483b-88a6-6c34531d2872\" xlink:type=\"simple\"><path d=\"M91.08,339.83 C110.05,306.2 145.51,243.38 168.94,201.87 \" fill=\"none\" id=\"E10-&gt;E3\" style=\"stroke: #383838; stroke-width: 1.0;\"/><polygon fill=\"#FFFFFF\" points=\"178.9,184.21,175.6643,204.1983,163.4697,197.3213,178.9,184.21\" style=\"stroke: #383838; stroke-width: 1.0;\"/><ellipse cx=\"171.1223\" cy=\"208.1808\" fill=\"#383838\" rx=\"2\" ry=\"2\" style=\"stroke: #383838; stroke-width: 1.0;\"/><ellipse cx=\"162.4119\" cy=\"203.2687\" fill=\"#383838\" rx=\"2\" ry=\"2\" style=\"stroke: #383838; stroke-width: 1.0;\"/></a><!--MD5=[07b77f6f309248d16187045709d1c26e]\n",
       "link E11 to E5--><a href=\"psysml:7353245a-aec5-4316-8af8-2852475c4dc4\" target=\"_top\" title=\"psysml:7353245a-aec5-4316-8af8-2852475c4dc4\" xlink:actuate=\"onRequest\" xlink:href=\"psysml:7353245a-aec5-4316-8af8-2852475c4dc4\" xlink:show=\"new\" xlink:title=\"psysml:7353245a-aec5-4316-8af8-2852475c4dc4\" xlink:type=\"simple\"><path d=\"M98.12,444 C109.2,444 123.54,444 137.66,444 \" fill=\"none\" id=\"E11-&gt;E5\" style=\"stroke: #383838; stroke-width: 1.0;\"/><polygon fill=\"#FFFFFF\" points=\"157.79,444,138.79,451,138.79,437,157.79,444\" style=\"stroke: #383838; stroke-width: 1.0;\"/><ellipse cx=\"133.09\" cy=\"449\" fill=\"#383838\" rx=\"2\" ry=\"2\" style=\"stroke: #383838; stroke-width: 1.0;\"/><ellipse cx=\"133.09\" cy=\"439\" fill=\"#383838\" rx=\"2\" ry=\"2\" style=\"stroke: #383838; stroke-width: 1.0;\"/></a><!--MD5=[39f41a0e550fb3d73b4d8135617e30a2]\n",
       "link E12 to E3--><a href=\"psysml:6cc10db6-ba98-48a2-919a-a7b34cb2bdfc\" target=\"_top\" title=\"psysml:6cc10db6-ba98-48a2-919a-a7b34cb2bdfc\" xlink:actuate=\"onRequest\" xlink:href=\"psysml:6cc10db6-ba98-48a2-919a-a7b34cb2bdfc\" xlink:show=\"new\" xlink:title=\"psysml:6cc10db6-ba98-48a2-919a-a7b34cb2bdfc\" xlink:type=\"simple\"><path d=\"M98.12,81.12 C112.31,93.19 131.85,109.82 149.43,124.78 \" fill=\"none\" id=\"E12-&gt;E3\" style=\"stroke: #383838; stroke-width: 1.0;\"/><polygon fill=\"#FFFFFF\" points=\"164.81,137.87,145.7998,130.8977,154.8672,120.2308,164.81,137.87\" style=\"stroke: #383838; stroke-width: 1.0;\"/><ellipse cx=\"142.7522\" cy=\"125.6822\" fill=\"#383838\" rx=\"2\" ry=\"2\" style=\"stroke: #383838; stroke-width: 1.0;\"/><ellipse cx=\"149.2289\" cy=\"118.063\" fill=\"#383838\" rx=\"2\" ry=\"2\" style=\"stroke: #383838; stroke-width: 1.0;\"/></a><!--MD5=[066b2d8af59fea80ccdb3d54ad5c1091]\n",
       "link E13 to E5--><a href=\"psysml:fb180b05-d2cf-42d1-bf2a-01829ad20206\" target=\"_top\" title=\"psysml:fb180b05-d2cf-42d1-bf2a-01829ad20206\" xlink:actuate=\"onRequest\" xlink:href=\"psysml:fb180b05-d2cf-42d1-bf2a-01829ad20206\" xlink:show=\"new\" xlink:title=\"psysml:fb180b05-d2cf-42d1-bf2a-01829ad20206\" xlink:type=\"simple\"><path d=\"M98.12,510.71 C110.67,501.79 127.41,489.9 143.27,478.63 \" fill=\"none\" id=\"E13-&gt;E5\" style=\"stroke: #383838; stroke-width: 1.0;\"/><polygon fill=\"#FFFFFF\" points=\"159.58,467.03,148.1391,483.7365,140.0349,472.3206,159.58,467.03\" style=\"stroke: #383838; stroke-width: 1.0;\"/><ellipse cx=\"142.3335\" cy=\"485.4052\" fill=\"#383838\" rx=\"2\" ry=\"2\" style=\"stroke: #383838; stroke-width: 1.0;\"/><ellipse cx=\"136.5448\" cy=\"477.251\" fill=\"#383838\" rx=\"2\" ry=\"2\" style=\"stroke: #383838; stroke-width: 1.0;\"/></a><!--MD5=[84e82172339cd9697431452a2313a92c]\n",
       "@startuml\r\n",
       "left to right direction\r\n",
       "skinparam monochrome true\r\n",
       "skinparam classbackgroundcolor white\r\n",
       "skinparam shadowing false\r\n",
       "skinparam wrapWidth 300\r\n",
       "hide circle\r\n",
       "\r\n",
       "package \"CircularImport\" as E1  [[psysml:6d002b47-1de9-4cb8-be5e-1d54cb7fff5c ]]  {\r\n",
       "package \"P1\" as E2  [[psysml:531dfa6c-428e-410a-a6f8-c5b9ff8ecb34 ]]  {\r\n",
       "comp def \"A\" as E3  <<(T,blue) part  def>> [[psysml:8ceeee5f-0d5a-4279-aee9-7758649ab8be ]] {\r\n",
       "}\r\n",
       "}\r\n",
       "package \"P2\" as E4  [[psysml:62a929fe-702a-4460-9e53-8584d6f6435e ]]  {\r\n",
       "comp def \"B\" as E5  <<(T,blue) part  def>> [[psysml:90844ba8-c1a9-4c46-b7c9-d1a2572e7365 ]] {\r\n",
       "}\r\n",
       "}\r\n",
       "package \"Test1\" as E6  [[psysml:0f17a3a9-0805-4d7f-ba6a-07da905c8abf ]]  {\r\n",
       "comp usage \"x: A \" as E7  <<(T,blue) part>> [[psysml:9a31b8cb-b3f5-4478-b49b-73e9fd0f6da5 ]] {\r\n",
       "}\r\n",
       "comp usage \"y: B \" as E8  <<(T,blue) part>> [[psysml:084cb86b-cc59-4a41-8b1c-7b7410cc5029 ]] {\r\n",
       "}\r\n",
       "}\r\n",
       "package \"Test2\" as E9  [[psysml:a06e7d3b-be80-4318-b479-ae1779c5974b ]]  {\r\n",
       "comp usage \"x: A \" as E10  <<(T,blue) part>> [[psysml:377a64d2-1aa6-4a9b-ba95-6aeb6c1d992f ]] {\r\n",
       "}\r\n",
       "comp usage \"y: B \" as E11  <<(T,blue) part>> [[psysml:7cdd5db6-fbbe-4f9d-b259-3a085be4f068 ]] {\r\n",
       "}\r\n",
       "}\r\n",
       "comp usage \"x: A \" as E12  <<(T,blue) part>> [[psysml:665d223a-8fea-436a-b414-0efd919424fb ]] {\r\n",
       "}\r\n",
       "comp usage \"y: B \" as E13  <<(T,blue) part>> [[psysml:a1b35d80-8992-43c2-aa5d-6937f2901599 ]] {\r\n",
       "}\r\n",
       "}\r\n",
       "E7 - -:|> E3 [[psysml:0b2c7bde-3c6f-4711-9ee8-a744dba64aec ]] \r\n",
       "E8 - -:|> E5 [[psysml:16eea2e1-2a1c-45c0-89dc-072c92b0db51 ]] \r\n",
       "E10 - -:|> E3 [[psysml:0ac0ff17-b961-483b-88a6-6c34531d2872 ]] \r\n",
       "E11 - -:|> E5 [[psysml:7353245a-aec5-4316-8af8-2852475c4dc4 ]] \r\n",
       "E12 - -:|> E3 [[psysml:6cc10db6-ba98-48a2-919a-a7b34cb2bdfc ]] \r\n",
       "E13 - -:|> E5 [[psysml:fb180b05-d2cf-42d1-bf2a-01829ad20206 ]] \r\n",
       "@enduml\r\n",
       "\n",
       "PlantUML version 1.2020.13(Sat Jun 13 12:26:38 UTC 2020)\n",
       "(EPL source distribution)\n",
       "Java Runtime: OpenJDK Runtime Environment\n",
       "JVM: OpenJDK 64-Bit Server VM\n",
       "Default Encoding: UTF-8\n",
       "Language: en\n",
       "Country: null\n",
       "--></g></svg>"
      ]
     },
     "execution_count": 22,
     "metadata": {},
     "output_type": "execute_result"
    }
   ],
   "source": [
    "%viz --style=\"LR\" --view=\"MIXED\" \"CircularImport\""
   ]
  },
  {
   "cell_type": "code",
   "execution_count": 23,
   "id": "2158f004",
   "metadata": {
    "execution": {
     "iopub.execute_input": "2021-12-15T15:15:37.966311Z",
     "iopub.status.busy": "2021-12-15T15:15:37.965843Z",
     "iopub.status.idle": "2021-12-15T15:15:38.007889Z",
     "shell.execute_reply": "2021-12-15T15:15:38.007502Z"
    }
   },
   "outputs": [
    {
     "data": {
      "image/svg+xml": [
       "<?xml version=\"1.0\" encoding=\"UTF-8\" standalone=\"no\"?><svg xmlns=\"http://www.w3.org/2000/svg\" xmlns:xlink=\"http://www.w3.org/1999/xlink\" contentScriptType=\"application/ecmascript\" contentStyleType=\"text/css\" height=\"303px\" preserveAspectRatio=\"none\" style=\"width:518px;height:303px;\" version=\"1.1\" viewBox=\"0 0 518 303\" width=\"518px\" zoomAndPan=\"magnify\"><defs><filter height=\"300%\" id=\"fa828iosynioz\" width=\"300%\" x=\"-1\" y=\"-1\"><feGaussianBlur result=\"blurOut\" stdDeviation=\"2.0\"/><feColorMatrix in=\"blurOut\" result=\"blurOut2\" type=\"matrix\" values=\"0 0 0 0 0 0 0 0 0 0 0 0 0 0 0 0 0 0 .4 0\"/><feOffset dx=\"4.0\" dy=\"4.0\" in=\"blurOut2\" result=\"blurOut3\"/><feBlend in=\"SourceGraphic\" in2=\"blurOut3\" mode=\"normal\"/></filter></defs><g><!--MD5=[fbc87193dbaf4d95561dea2c320d4a47]\n",
       "cluster E1--><a href=\"psysml:6d002b47-1de9-4cb8-be5e-1d54cb7fff5c\" target=\"_top\" title=\"psysml:6d002b47-1de9-4cb8-be5e-1d54cb7fff5c\" xlink:actuate=\"onRequest\" xlink:href=\"psysml:6d002b47-1de9-4cb8-be5e-1d54cb7fff5c\" xlink:show=\"new\" xlink:title=\"psysml:6d002b47-1de9-4cb8-be5e-1d54cb7fff5c\" xlink:type=\"simple\"><polygon fill=\"#FFFFFF\" filter=\"url(#fa828iosynioz)\" points=\"16,6,117,6,124,28.2969,496,28.2969,496,291,16,291,16,6\" style=\"stroke: #000000; stroke-width: 1.5;\"/><line style=\"stroke: #000000; stroke-width: 1.5;\" x1=\"16\" x2=\"124\" y1=\"28.2969\" y2=\"28.2969\"/><text fill=\"#000000\" font-family=\"sans-serif\" font-size=\"14\" font-weight=\"bold\" lengthAdjust=\"spacingAndGlyphs\" textLength=\"95\" x=\"20\" y=\"20.9951\">CircularImport</text></a><!--MD5=[e4f7fae6ed58524ba242bb0b0d3be6b7]\n",
       "cluster E2--><a href=\"psysml:531dfa6c-428e-410a-a6f8-c5b9ff8ecb34\" target=\"_top\" title=\"psysml:531dfa6c-428e-410a-a6f8-c5b9ff8ecb34\" xlink:actuate=\"onRequest\" xlink:href=\"psysml:531dfa6c-428e-410a-a6f8-c5b9ff8ecb34\" xlink:show=\"new\" xlink:title=\"psysml:531dfa6c-428e-410a-a6f8-c5b9ff8ecb34\" xlink:type=\"simple\"><polygon fill=\"#FFFFFF\" filter=\"url(#fa828iosynioz)\" points=\"331,170,355,170,362,192.2969,433,192.2969,433,267,331,267,331,170\" style=\"stroke: #000000; stroke-width: 1.5;\"/><line style=\"stroke: #000000; stroke-width: 1.5;\" x1=\"331\" x2=\"362\" y1=\"192.2969\" y2=\"192.2969\"/><text fill=\"#000000\" font-family=\"sans-serif\" font-size=\"14\" font-weight=\"bold\" lengthAdjust=\"spacingAndGlyphs\" textLength=\"18\" x=\"335\" y=\"184.9951\">P1</text></a><!--MD5=[f6df4d0ebaf0b5dfb2ced0ae5af7c670]\n",
       "cluster E4--><a href=\"psysml:62a929fe-702a-4460-9e53-8584d6f6435e\" target=\"_top\" title=\"psysml:62a929fe-702a-4460-9e53-8584d6f6435e\" xlink:actuate=\"onRequest\" xlink:href=\"psysml:62a929fe-702a-4460-9e53-8584d6f6435e\" xlink:show=\"new\" xlink:title=\"psysml:62a929fe-702a-4460-9e53-8584d6f6435e\" xlink:type=\"simple\"><polygon fill=\"#FFFFFF\" filter=\"url(#fa828iosynioz)\" points=\"79,170,103,170,110,192.2969,181,192.2969,181,267,79,267,79,170\" style=\"stroke: #000000; stroke-width: 1.5;\"/><line style=\"stroke: #000000; stroke-width: 1.5;\" x1=\"79\" x2=\"110\" y1=\"192.2969\" y2=\"192.2969\"/><text fill=\"#000000\" font-family=\"sans-serif\" font-size=\"14\" font-weight=\"bold\" lengthAdjust=\"spacingAndGlyphs\" textLength=\"18\" x=\"83\" y=\"184.9951\">P2</text></a><!--MD5=[14e3b0961a2654348d326746436168a1]\n",
       "cluster E6--><a href=\"psysml:0f17a3a9-0805-4d7f-ba6a-07da905c8abf\" target=\"_top\" title=\"psysml:0f17a3a9-0805-4d7f-ba6a-07da905c8abf\" xlink:actuate=\"onRequest\" xlink:href=\"psysml:0f17a3a9-0805-4d7f-ba6a-07da905c8abf\" xlink:show=\"new\" xlink:title=\"psysml:0f17a3a9-0805-4d7f-ba6a-07da905c8abf\" xlink:type=\"simple\"><polygon fill=\"#FFFFFF\" filter=\"url(#fa828iosynioz)\" points=\"268,49,314,49,321,71.2969,419,71.2969,419,146,268,146,268,49\" style=\"stroke: #000000; stroke-width: 1.5;\"/><line style=\"stroke: #000000; stroke-width: 1.5;\" x1=\"268\" x2=\"321\" y1=\"71.2969\" y2=\"71.2969\"/><text fill=\"#000000\" font-family=\"sans-serif\" font-size=\"14\" font-weight=\"bold\" lengthAdjust=\"spacingAndGlyphs\" textLength=\"40\" x=\"272\" y=\"63.9951\">Test1</text></a><!--MD5=[7f149f147074ac12df2cb0a7728a5fb0]\n",
       "cluster E9--><a href=\"psysml:a06e7d3b-be80-4318-b479-ae1779c5974b\" target=\"_top\" title=\"psysml:a06e7d3b-be80-4318-b479-ae1779c5974b\" xlink:actuate=\"onRequest\" xlink:href=\"psysml:a06e7d3b-be80-4318-b479-ae1779c5974b\" xlink:show=\"new\" xlink:title=\"psysml:a06e7d3b-be80-4318-b479-ae1779c5974b\" xlink:type=\"simple\"><polygon fill=\"#FFFFFF\" filter=\"url(#fa828iosynioz)\" points=\"93,49,139,49,146,71.2969,244,71.2969,244,146,93,146,93,49\" style=\"stroke: #000000; stroke-width: 1.5;\"/><line style=\"stroke: #000000; stroke-width: 1.5;\" x1=\"93\" x2=\"146\" y1=\"71.2969\" y2=\"71.2969\"/><text fill=\"#000000\" font-family=\"sans-serif\" font-size=\"14\" font-weight=\"bold\" lengthAdjust=\"spacingAndGlyphs\" textLength=\"40\" x=\"97\" y=\"63.9951\">Test2</text></a><!--MD5=[49a0ec8f00dab7302a31f22d0f0fe584]\n",
       "class E12--><a href=\"psysml:665d223a-8fea-436a-b414-0efd919424fb\" target=\"_top\" title=\"psysml:665d223a-8fea-436a-b414-0efd919424fb\" xlink:actuate=\"onRequest\" xlink:href=\"psysml:665d223a-8fea-436a-b414-0efd919424fb\" xlink:show=\"new\" xlink:title=\"psysml:665d223a-8fea-436a-b414-0efd919424fb\" xlink:type=\"simple\"><rect fill=\"#FEFECE\" filter=\"url(#fa828iosynioz)\" height=\"45.9375\" id=\"E12\" rx=\"10\" ry=\"10\" style=\"stroke: #A80036; stroke-width: 1.5;\" width=\"42\" x=\"438\" y=\"84\"/><text fill=\"#000000\" font-family=\"sans-serif\" font-size=\"12\" font-style=\"italic\" lengthAdjust=\"spacingAndGlyphs\" textLength=\"40\" x=\"439\" y=\"100.1387\">«part»</text><text fill=\"#000000\" font-family=\"sans-serif\" font-size=\"12\" lengthAdjust=\"spacingAndGlyphs\" textLength=\"22\" x=\"446\" y=\"114.1074\">x: A</text><line style=\"stroke: #A80036; stroke-width: 1.5;\" x1=\"439\" x2=\"479\" y1=\"121.9375\" y2=\"121.9375\"/></a><!--MD5=[ee3c913d1a06f366521f9ef512b67efe]\n",
       "class E13--><a href=\"psysml:a1b35d80-8992-43c2-aa5d-6937f2901599\" target=\"_top\" title=\"psysml:a1b35d80-8992-43c2-aa5d-6937f2901599\" xlink:actuate=\"onRequest\" xlink:href=\"psysml:a1b35d80-8992-43c2-aa5d-6937f2901599\" xlink:show=\"new\" xlink:title=\"psysml:a1b35d80-8992-43c2-aa5d-6937f2901599\" xlink:type=\"simple\"><rect fill=\"#FEFECE\" filter=\"url(#fa828iosynioz)\" height=\"45.9375\" id=\"E13\" rx=\"10\" ry=\"10\" style=\"stroke: #A80036; stroke-width: 1.5;\" width=\"42\" x=\"32\" y=\"84\"/><text fill=\"#000000\" font-family=\"sans-serif\" font-size=\"12\" font-style=\"italic\" lengthAdjust=\"spacingAndGlyphs\" textLength=\"40\" x=\"33\" y=\"100.1387\">«part»</text><text fill=\"#000000\" font-family=\"sans-serif\" font-size=\"12\" lengthAdjust=\"spacingAndGlyphs\" textLength=\"22\" x=\"40\" y=\"114.1074\">y: B</text><line style=\"stroke: #A80036; stroke-width: 1.5;\" x1=\"33\" x2=\"73\" y1=\"121.9375\" y2=\"121.9375\"/></a><!--MD5=[09b614a08d8cba4a07c9adeb5e0fee81]\n",
       "class E3--><a href=\"psysml:8ceeee5f-0d5a-4279-aee9-7758649ab8be\" target=\"_top\" title=\"psysml:8ceeee5f-0d5a-4279-aee9-7758649ab8be\" xlink:actuate=\"onRequest\" xlink:href=\"psysml:8ceeee5f-0d5a-4279-aee9-7758649ab8be\" xlink:show=\"new\" xlink:title=\"psysml:8ceeee5f-0d5a-4279-aee9-7758649ab8be\" xlink:type=\"simple\"><rect fill=\"#FEFECE\" filter=\"url(#fa828iosynioz)\" height=\"45.9375\" id=\"E3\" style=\"stroke: #A80036; stroke-width: 1.5;\" width=\"70\" x=\"347\" y=\"205\"/><text fill=\"#000000\" font-family=\"sans-serif\" font-size=\"12\" font-style=\"italic\" lengthAdjust=\"spacingAndGlyphs\" textLength=\"68\" x=\"348\" y=\"221.1387\">«part  def»</text><text fill=\"#000000\" font-family=\"sans-serif\" font-size=\"12\" lengthAdjust=\"spacingAndGlyphs\" textLength=\"8\" x=\"378\" y=\"235.1074\">A</text><line style=\"stroke: #A80036; stroke-width: 1.5;\" x1=\"348\" x2=\"416\" y1=\"242.9375\" y2=\"242.9375\"/></a><!--MD5=[270fce915f116d4de14055a7c1d9a0f3]\n",
       "class E5--><a href=\"psysml:90844ba8-c1a9-4c46-b7c9-d1a2572e7365\" target=\"_top\" title=\"psysml:90844ba8-c1a9-4c46-b7c9-d1a2572e7365\" xlink:actuate=\"onRequest\" xlink:href=\"psysml:90844ba8-c1a9-4c46-b7c9-d1a2572e7365\" xlink:show=\"new\" xlink:title=\"psysml:90844ba8-c1a9-4c46-b7c9-d1a2572e7365\" xlink:type=\"simple\"><rect fill=\"#FEFECE\" filter=\"url(#fa828iosynioz)\" height=\"45.9375\" id=\"E5\" style=\"stroke: #A80036; stroke-width: 1.5;\" width=\"70\" x=\"95\" y=\"205\"/><text fill=\"#000000\" font-family=\"sans-serif\" font-size=\"12\" font-style=\"italic\" lengthAdjust=\"spacingAndGlyphs\" textLength=\"68\" x=\"96\" y=\"221.1387\">«part  def»</text><text fill=\"#000000\" font-family=\"sans-serif\" font-size=\"12\" lengthAdjust=\"spacingAndGlyphs\" textLength=\"8\" x=\"126\" y=\"235.1074\">B</text><line style=\"stroke: #A80036; stroke-width: 1.5;\" x1=\"96\" x2=\"164\" y1=\"242.9375\" y2=\"242.9375\"/></a><!--MD5=[2156ba9850f5573cc1fc38a6a4b2f02b]\n",
       "class E7--><a href=\"psysml:9a31b8cb-b3f5-4478-b49b-73e9fd0f6da5\" target=\"_top\" title=\"psysml:9a31b8cb-b3f5-4478-b49b-73e9fd0f6da5\" xlink:actuate=\"onRequest\" xlink:href=\"psysml:9a31b8cb-b3f5-4478-b49b-73e9fd0f6da5\" xlink:show=\"new\" xlink:title=\"psysml:9a31b8cb-b3f5-4478-b49b-73e9fd0f6da5\" xlink:type=\"simple\"><rect fill=\"#FEFECE\" filter=\"url(#fa828iosynioz)\" height=\"45.9375\" id=\"E7\" rx=\"10\" ry=\"10\" style=\"stroke: #A80036; stroke-width: 1.5;\" width=\"42\" x=\"361\" y=\"84\"/><text fill=\"#000000\" font-family=\"sans-serif\" font-size=\"12\" font-style=\"italic\" lengthAdjust=\"spacingAndGlyphs\" textLength=\"40\" x=\"362\" y=\"100.1387\">«part»</text><text fill=\"#000000\" font-family=\"sans-serif\" font-size=\"12\" lengthAdjust=\"spacingAndGlyphs\" textLength=\"22\" x=\"369\" y=\"114.1074\">x: A</text><line style=\"stroke: #A80036; stroke-width: 1.5;\" x1=\"362\" x2=\"402\" y1=\"121.9375\" y2=\"121.9375\"/></a><!--MD5=[b9389687b975829384b498ac4b7476b2]\n",
       "class E8--><a href=\"psysml:084cb86b-cc59-4a41-8b1c-7b7410cc5029\" target=\"_top\" title=\"psysml:084cb86b-cc59-4a41-8b1c-7b7410cc5029\" xlink:actuate=\"onRequest\" xlink:href=\"psysml:084cb86b-cc59-4a41-8b1c-7b7410cc5029\" xlink:show=\"new\" xlink:title=\"psysml:084cb86b-cc59-4a41-8b1c-7b7410cc5029\" xlink:type=\"simple\"><rect fill=\"#FEFECE\" filter=\"url(#fa828iosynioz)\" height=\"45.9375\" id=\"E8\" rx=\"10\" ry=\"10\" style=\"stroke: #A80036; stroke-width: 1.5;\" width=\"42\" x=\"284\" y=\"84\"/><text fill=\"#000000\" font-family=\"sans-serif\" font-size=\"12\" font-style=\"italic\" lengthAdjust=\"spacingAndGlyphs\" textLength=\"40\" x=\"285\" y=\"100.1387\">«part»</text><text fill=\"#000000\" font-family=\"sans-serif\" font-size=\"12\" lengthAdjust=\"spacingAndGlyphs\" textLength=\"22\" x=\"292\" y=\"114.1074\">y: B</text><line style=\"stroke: #A80036; stroke-width: 1.5;\" x1=\"285\" x2=\"325\" y1=\"121.9375\" y2=\"121.9375\"/></a><!--MD5=[96f4274e9e20536e775497830990834d]\n",
       "class E10--><a href=\"psysml:377a64d2-1aa6-4a9b-ba95-6aeb6c1d992f\" target=\"_top\" title=\"psysml:377a64d2-1aa6-4a9b-ba95-6aeb6c1d992f\" xlink:actuate=\"onRequest\" xlink:href=\"psysml:377a64d2-1aa6-4a9b-ba95-6aeb6c1d992f\" xlink:show=\"new\" xlink:title=\"psysml:377a64d2-1aa6-4a9b-ba95-6aeb6c1d992f\" xlink:type=\"simple\"><rect fill=\"#FEFECE\" filter=\"url(#fa828iosynioz)\" height=\"45.9375\" id=\"E10\" rx=\"10\" ry=\"10\" style=\"stroke: #A80036; stroke-width: 1.5;\" width=\"42\" x=\"186\" y=\"84\"/><text fill=\"#000000\" font-family=\"sans-serif\" font-size=\"12\" font-style=\"italic\" lengthAdjust=\"spacingAndGlyphs\" textLength=\"40\" x=\"187\" y=\"100.1387\">«part»</text><text fill=\"#000000\" font-family=\"sans-serif\" font-size=\"12\" lengthAdjust=\"spacingAndGlyphs\" textLength=\"22\" x=\"194\" y=\"114.1074\">x: A</text><line style=\"stroke: #A80036; stroke-width: 1.5;\" x1=\"187\" x2=\"227\" y1=\"121.9375\" y2=\"121.9375\"/></a><!--MD5=[1dd1bfd58a279cf63c5f349dbc8fc6a1]\n",
       "class E11--><a href=\"psysml:7cdd5db6-fbbe-4f9d-b259-3a085be4f068\" target=\"_top\" title=\"psysml:7cdd5db6-fbbe-4f9d-b259-3a085be4f068\" xlink:actuate=\"onRequest\" xlink:href=\"psysml:7cdd5db6-fbbe-4f9d-b259-3a085be4f068\" xlink:show=\"new\" xlink:title=\"psysml:7cdd5db6-fbbe-4f9d-b259-3a085be4f068\" xlink:type=\"simple\"><rect fill=\"#FEFECE\" filter=\"url(#fa828iosynioz)\" height=\"45.9375\" id=\"E11\" rx=\"10\" ry=\"10\" style=\"stroke: #A80036; stroke-width: 1.5;\" width=\"42\" x=\"109\" y=\"84\"/><text fill=\"#000000\" font-family=\"sans-serif\" font-size=\"12\" font-style=\"italic\" lengthAdjust=\"spacingAndGlyphs\" textLength=\"40\" x=\"110\" y=\"100.1387\">«part»</text><text fill=\"#000000\" font-family=\"sans-serif\" font-size=\"12\" lengthAdjust=\"spacingAndGlyphs\" textLength=\"22\" x=\"117\" y=\"114.1074\">y: B</text><line style=\"stroke: #A80036; stroke-width: 1.5;\" x1=\"110\" x2=\"150\" y1=\"121.9375\" y2=\"121.9375\"/></a><!--MD5=[14ccda38c055a5c0da953d572bc50960]\n",
       "link E7 to E3--><a href=\"psysml:0b2c7bde-3c6f-4711-9ee8-a744dba64aec\" target=\"_top\" title=\"psysml:0b2c7bde-3c6f-4711-9ee8-a744dba64aec\" xlink:actuate=\"onRequest\" xlink:href=\"psysml:0b2c7bde-3c6f-4711-9ee8-a744dba64aec\" xlink:show=\"new\" xlink:title=\"psysml:0b2c7bde-3c6f-4711-9ee8-a744dba64aec\" xlink:type=\"simple\"><path d=\"M382,130.1 C382,145.37 382,166.16 382,184.57 \" fill=\"none\" id=\"E7-&gt;E3\" style=\"stroke: #A80036; stroke-width: 1.0;\"/><polygon fill=\"#FFFFFF\" points=\"382,204.61,375,185.61,389,185.61,382,204.61\" style=\"stroke: #A80036; stroke-width: 1.0;\"/><ellipse cx=\"377\" cy=\"179.91\" fill=\"#A80036\" rx=\"2\" ry=\"2\" style=\"stroke: #A80036; stroke-width: 1.0;\"/><ellipse cx=\"387\" cy=\"179.91\" fill=\"#A80036\" rx=\"2\" ry=\"2\" style=\"stroke: #A80036; stroke-width: 1.0;\"/></a><!--MD5=[1ccb2481ffa92f8d51a74ee30c51832a]\n",
       "link E8 to E5--><a href=\"psysml:16eea2e1-2a1c-45c0-89dc-072c92b0db51\" target=\"_top\" title=\"psysml:16eea2e1-2a1c-45c0-89dc-072c92b0db51\" xlink:actuate=\"onRequest\" xlink:href=\"psysml:16eea2e1-2a1c-45c0-89dc-072c92b0db51\" xlink:show=\"new\" xlink:title=\"psysml:16eea2e1-2a1c-45c0-89dc-072c92b0db51\" xlink:type=\"simple\"><path d=\"M283.84,124.59 C272.23,133.52 257.5,144.61 244,154 C224.13,167.82 201.8,182.34 182.21,194.75 \" fill=\"none\" id=\"E8-&gt;E5\" style=\"stroke: #A80036; stroke-width: 1.0;\"/><polygon fill=\"#FFFFFF\" points=\"165.13,205.48,177.4956,189.4459,184.9425,201.301,165.13,205.48\" style=\"stroke: #A80036; stroke-width: 1.0;\"/><ellipse cx=\"183.3862\" cy=\"188.1075\" fill=\"#A80036\" rx=\"2\" ry=\"2\" style=\"stroke: #A80036; stroke-width: 1.0;\"/><ellipse cx=\"188.7054\" cy=\"196.5755\" fill=\"#A80036\" rx=\"2\" ry=\"2\" style=\"stroke: #A80036; stroke-width: 1.0;\"/></a><!--MD5=[feeac5eb423634930294aa81f2d25a4c]\n",
       "link E10 to E3--><a href=\"psysml:0ac0ff17-b961-483b-88a6-6c34531d2872\" target=\"_top\" title=\"psysml:0ac0ff17-b961-483b-88a6-6c34531d2872\" xlink:actuate=\"onRequest\" xlink:href=\"psysml:0ac0ff17-b961-483b-88a6-6c34531d2872\" xlink:show=\"new\" xlink:title=\"psysml:0ac0ff17-b961-483b-88a6-6c34531d2872\" xlink:type=\"simple\"><path d=\"M228.16,124.59 C239.77,133.52 254.5,144.61 268,154 C287.87,167.82 310.2,182.34 329.79,194.75 \" fill=\"none\" id=\"E10-&gt;E3\" style=\"stroke: #A80036; stroke-width: 1.0;\"/><polygon fill=\"#FFFFFF\" points=\"346.87,205.48,327.0575,201.301,334.5044,189.4459,346.87,205.48\" style=\"stroke: #A80036; stroke-width: 1.0;\"/><ellipse cx=\"323.2946\" cy=\"196.5755\" fill=\"#A80036\" rx=\"2\" ry=\"2\" style=\"stroke: #A80036; stroke-width: 1.0;\"/><ellipse cx=\"328.6138\" cy=\"188.1075\" fill=\"#A80036\" rx=\"2\" ry=\"2\" style=\"stroke: #A80036; stroke-width: 1.0;\"/></a><!--MD5=[07b77f6f309248d16187045709d1c26e]\n",
       "link E11 to E5--><a href=\"psysml:7353245a-aec5-4316-8af8-2852475c4dc4\" target=\"_top\" title=\"psysml:7353245a-aec5-4316-8af8-2852475c4dc4\" xlink:actuate=\"onRequest\" xlink:href=\"psysml:7353245a-aec5-4316-8af8-2852475c4dc4\" xlink:show=\"new\" xlink:title=\"psysml:7353245a-aec5-4316-8af8-2852475c4dc4\" xlink:type=\"simple\"><path d=\"M130,130.1 C130,145.37 130,166.16 130,184.57 \" fill=\"none\" id=\"E11-&gt;E5\" style=\"stroke: #A80036; stroke-width: 1.0;\"/><polygon fill=\"#FFFFFF\" points=\"130,204.61,123,185.61,137,185.61,130,204.61\" style=\"stroke: #A80036; stroke-width: 1.0;\"/><ellipse cx=\"125\" cy=\"179.91\" fill=\"#A80036\" rx=\"2\" ry=\"2\" style=\"stroke: #A80036; stroke-width: 1.0;\"/><ellipse cx=\"135\" cy=\"179.91\" fill=\"#A80036\" rx=\"2\" ry=\"2\" style=\"stroke: #A80036; stroke-width: 1.0;\"/></a><!--MD5=[39f41a0e550fb3d73b4d8135617e30a2]\n",
       "link E12 to E3--><a href=\"psysml:6cc10db6-ba98-48a2-919a-a7b34cb2bdfc\" target=\"_top\" title=\"psysml:6cc10db6-ba98-48a2-919a-a7b34cb2bdfc\" xlink:actuate=\"onRequest\" xlink:href=\"psysml:6cc10db6-ba98-48a2-919a-a7b34cb2bdfc\" xlink:show=\"new\" xlink:title=\"psysml:6cc10db6-ba98-48a2-919a-a7b34cb2bdfc\" xlink:type=\"simple\"><path d=\"M444.7,130.1 C434.28,146.2 419.89,168.44 407.53,187.55 \" fill=\"none\" id=\"E12-&gt;E3\" style=\"stroke: #A80036; stroke-width: 1.0;\"/><polygon fill=\"#FFFFFF\" points=\"396.49,204.61,400.9313,184.8546,412.6866,192.4581,396.49,204.61\" style=\"stroke: #A80036; stroke-width: 1.0;\"/><ellipse cx=\"405.7063\" cy=\"181.1547\" fill=\"#A80036\" rx=\"2\" ry=\"2\" style=\"stroke: #A80036; stroke-width: 1.0;\"/><ellipse cx=\"414.103\" cy=\"186.5858\" fill=\"#A80036\" rx=\"2\" ry=\"2\" style=\"stroke: #A80036; stroke-width: 1.0;\"/></a><!--MD5=[066b2d8af59fea80ccdb3d54ad5c1091]\n",
       "link E13 to E5--><a href=\"psysml:fb180b05-d2cf-42d1-bf2a-01829ad20206\" target=\"_top\" title=\"psysml:fb180b05-d2cf-42d1-bf2a-01829ad20206\" xlink:actuate=\"onRequest\" xlink:href=\"psysml:fb180b05-d2cf-42d1-bf2a-01829ad20206\" xlink:show=\"new\" xlink:title=\"psysml:fb180b05-d2cf-42d1-bf2a-01829ad20206\" xlink:type=\"simple\"><path d=\"M67.3,130.1 C77.72,146.2 92.11,168.44 104.47,187.55 \" fill=\"none\" id=\"E13-&gt;E5\" style=\"stroke: #A80036; stroke-width: 1.0;\"/><polygon fill=\"#FFFFFF\" points=\"115.51,204.61,99.3134,192.4581,111.0687,184.8546,115.51,204.61\" style=\"stroke: #A80036; stroke-width: 1.0;\"/><ellipse cx=\"97.897\" cy=\"186.5858\" fill=\"#A80036\" rx=\"2\" ry=\"2\" style=\"stroke: #A80036; stroke-width: 1.0;\"/><ellipse cx=\"106.2937\" cy=\"181.1547\" fill=\"#A80036\" rx=\"2\" ry=\"2\" style=\"stroke: #A80036; stroke-width: 1.0;\"/></a><!--MD5=[cf5cffaf461bd3b89a93a794bb8d11ef]\n",
       "@startuml\r\n",
       "skinparam wrapWidth 300\r\n",
       "hide circle\r\n",
       "\r\n",
       "package \"CircularImport\" as E1  [[psysml:6d002b47-1de9-4cb8-be5e-1d54cb7fff5c ]]  {\r\n",
       "package \"P1\" as E2  [[psysml:531dfa6c-428e-410a-a6f8-c5b9ff8ecb34 ]]  {\r\n",
       "comp def \"A\" as E3  <<(T,blue) part  def>> [[psysml:8ceeee5f-0d5a-4279-aee9-7758649ab8be ]] {\r\n",
       "}\r\n",
       "}\r\n",
       "package \"P2\" as E4  [[psysml:62a929fe-702a-4460-9e53-8584d6f6435e ]]  {\r\n",
       "comp def \"B\" as E5  <<(T,blue) part  def>> [[psysml:90844ba8-c1a9-4c46-b7c9-d1a2572e7365 ]] {\r\n",
       "}\r\n",
       "}\r\n",
       "package \"Test1\" as E6  [[psysml:0f17a3a9-0805-4d7f-ba6a-07da905c8abf ]]  {\r\n",
       "comp usage \"x: A \" as E7  <<(T,blue) part>> [[psysml:9a31b8cb-b3f5-4478-b49b-73e9fd0f6da5 ]] {\r\n",
       "}\r\n",
       "comp usage \"y: B \" as E8  <<(T,blue) part>> [[psysml:084cb86b-cc59-4a41-8b1c-7b7410cc5029 ]] {\r\n",
       "}\r\n",
       "}\r\n",
       "package \"Test2\" as E9  [[psysml:a06e7d3b-be80-4318-b479-ae1779c5974b ]]  {\r\n",
       "comp usage \"x: A \" as E10  <<(T,blue) part>> [[psysml:377a64d2-1aa6-4a9b-ba95-6aeb6c1d992f ]] {\r\n",
       "}\r\n",
       "comp usage \"y: B \" as E11  <<(T,blue) part>> [[psysml:7cdd5db6-fbbe-4f9d-b259-3a085be4f068 ]] {\r\n",
       "}\r\n",
       "}\r\n",
       "comp usage \"x: A \" as E12  <<(T,blue) part>> [[psysml:665d223a-8fea-436a-b414-0efd919424fb ]] {\r\n",
       "}\r\n",
       "comp usage \"y: B \" as E13  <<(T,blue) part>> [[psysml:a1b35d80-8992-43c2-aa5d-6937f2901599 ]] {\r\n",
       "}\r\n",
       "}\r\n",
       "E7 - -:|> E3 [[psysml:0b2c7bde-3c6f-4711-9ee8-a744dba64aec ]] \r\n",
       "E8 - -:|> E5 [[psysml:16eea2e1-2a1c-45c0-89dc-072c92b0db51 ]] \r\n",
       "E10 - -:|> E3 [[psysml:0ac0ff17-b961-483b-88a6-6c34531d2872 ]] \r\n",
       "E11 - -:|> E5 [[psysml:7353245a-aec5-4316-8af8-2852475c4dc4 ]] \r\n",
       "E12 - -:|> E3 [[psysml:6cc10db6-ba98-48a2-919a-a7b34cb2bdfc ]] \r\n",
       "E13 - -:|> E5 [[psysml:fb180b05-d2cf-42d1-bf2a-01829ad20206 ]] \r\n",
       "@enduml\r\n",
       "\n",
       "PlantUML version 1.2020.13(Sat Jun 13 12:26:38 UTC 2020)\n",
       "(EPL source distribution)\n",
       "Java Runtime: OpenJDK Runtime Environment\n",
       "JVM: OpenJDK 64-Bit Server VM\n",
       "Default Encoding: UTF-8\n",
       "Language: en\n",
       "Country: null\n",
       "--></g></svg>"
      ]
     },
     "execution_count": 23,
     "metadata": {},
     "output_type": "execute_result"
    }
   ],
   "source": [
    "%viz --style=\"STDCOLOR\" --view=\"Default\" \"CircularImport\""
   ]
  },
  {
   "cell_type": "code",
   "execution_count": 24,
   "id": "decebcd4",
   "metadata": {
    "execution": {
     "iopub.execute_input": "2021-12-15T15:15:38.057008Z",
     "iopub.status.busy": "2021-12-15T15:15:38.056416Z",
     "iopub.status.idle": "2021-12-15T15:15:38.096156Z",
     "shell.execute_reply": "2021-12-15T15:15:38.094157Z"
    }
   },
   "outputs": [
    {
     "data": {
      "image/svg+xml": [
       "<?xml version=\"1.0\" encoding=\"UTF-8\" standalone=\"no\"?><svg xmlns=\"http://www.w3.org/2000/svg\" xmlns:xlink=\"http://www.w3.org/1999/xlink\" contentScriptType=\"application/ecmascript\" contentStyleType=\"text/css\" height=\"303px\" preserveAspectRatio=\"none\" style=\"width:518px;height:303px;\" version=\"1.1\" viewBox=\"0 0 518 303\" width=\"518px\" zoomAndPan=\"magnify\"><defs><filter height=\"300%\" id=\"fa828iosynioz\" width=\"300%\" x=\"-1\" y=\"-1\"><feGaussianBlur result=\"blurOut\" stdDeviation=\"2.0\"/><feColorMatrix in=\"blurOut\" result=\"blurOut2\" type=\"matrix\" values=\"0 0 0 0 0 0 0 0 0 0 0 0 0 0 0 0 0 0 .4 0\"/><feOffset dx=\"4.0\" dy=\"4.0\" in=\"blurOut2\" result=\"blurOut3\"/><feBlend in=\"SourceGraphic\" in2=\"blurOut3\" mode=\"normal\"/></filter></defs><g><!--MD5=[fbc87193dbaf4d95561dea2c320d4a47]\n",
       "cluster E1--><a href=\"psysml:6d002b47-1de9-4cb8-be5e-1d54cb7fff5c\" target=\"_top\" title=\"psysml:6d002b47-1de9-4cb8-be5e-1d54cb7fff5c\" xlink:actuate=\"onRequest\" xlink:href=\"psysml:6d002b47-1de9-4cb8-be5e-1d54cb7fff5c\" xlink:show=\"new\" xlink:title=\"psysml:6d002b47-1de9-4cb8-be5e-1d54cb7fff5c\" xlink:type=\"simple\"><polygon fill=\"#FFFFFF\" filter=\"url(#fa828iosynioz)\" points=\"16,6,117,6,124,28.2969,496,28.2969,496,291,16,291,16,6\" style=\"stroke: #000000; stroke-width: 1.5;\"/><line style=\"stroke: #000000; stroke-width: 1.5;\" x1=\"16\" x2=\"124\" y1=\"28.2969\" y2=\"28.2969\"/><text fill=\"#000000\" font-family=\"sans-serif\" font-size=\"14\" font-weight=\"bold\" lengthAdjust=\"spacingAndGlyphs\" textLength=\"95\" x=\"20\" y=\"20.9951\">CircularImport</text></a><!--MD5=[e4f7fae6ed58524ba242bb0b0d3be6b7]\n",
       "cluster E2--><a href=\"psysml:531dfa6c-428e-410a-a6f8-c5b9ff8ecb34\" target=\"_top\" title=\"psysml:531dfa6c-428e-410a-a6f8-c5b9ff8ecb34\" xlink:actuate=\"onRequest\" xlink:href=\"psysml:531dfa6c-428e-410a-a6f8-c5b9ff8ecb34\" xlink:show=\"new\" xlink:title=\"psysml:531dfa6c-428e-410a-a6f8-c5b9ff8ecb34\" xlink:type=\"simple\"><polygon fill=\"#FFFFFF\" filter=\"url(#fa828iosynioz)\" points=\"331,170,355,170,362,192.2969,433,192.2969,433,267,331,267,331,170\" style=\"stroke: #000000; stroke-width: 1.5;\"/><line style=\"stroke: #000000; stroke-width: 1.5;\" x1=\"331\" x2=\"362\" y1=\"192.2969\" y2=\"192.2969\"/><text fill=\"#000000\" font-family=\"sans-serif\" font-size=\"14\" font-weight=\"bold\" lengthAdjust=\"spacingAndGlyphs\" textLength=\"18\" x=\"335\" y=\"184.9951\">P1</text></a><!--MD5=[f6df4d0ebaf0b5dfb2ced0ae5af7c670]\n",
       "cluster E4--><a href=\"psysml:62a929fe-702a-4460-9e53-8584d6f6435e\" target=\"_top\" title=\"psysml:62a929fe-702a-4460-9e53-8584d6f6435e\" xlink:actuate=\"onRequest\" xlink:href=\"psysml:62a929fe-702a-4460-9e53-8584d6f6435e\" xlink:show=\"new\" xlink:title=\"psysml:62a929fe-702a-4460-9e53-8584d6f6435e\" xlink:type=\"simple\"><polygon fill=\"#FFFFFF\" filter=\"url(#fa828iosynioz)\" points=\"79,170,103,170,110,192.2969,181,192.2969,181,267,79,267,79,170\" style=\"stroke: #000000; stroke-width: 1.5;\"/><line style=\"stroke: #000000; stroke-width: 1.5;\" x1=\"79\" x2=\"110\" y1=\"192.2969\" y2=\"192.2969\"/><text fill=\"#000000\" font-family=\"sans-serif\" font-size=\"14\" font-weight=\"bold\" lengthAdjust=\"spacingAndGlyphs\" textLength=\"18\" x=\"83\" y=\"184.9951\">P2</text></a><!--MD5=[14e3b0961a2654348d326746436168a1]\n",
       "cluster E6--><a href=\"psysml:0f17a3a9-0805-4d7f-ba6a-07da905c8abf\" target=\"_top\" title=\"psysml:0f17a3a9-0805-4d7f-ba6a-07da905c8abf\" xlink:actuate=\"onRequest\" xlink:href=\"psysml:0f17a3a9-0805-4d7f-ba6a-07da905c8abf\" xlink:show=\"new\" xlink:title=\"psysml:0f17a3a9-0805-4d7f-ba6a-07da905c8abf\" xlink:type=\"simple\"><polygon fill=\"#FFFFFF\" filter=\"url(#fa828iosynioz)\" points=\"268,49,314,49,321,71.2969,419,71.2969,419,146,268,146,268,49\" style=\"stroke: #000000; stroke-width: 1.5;\"/><line style=\"stroke: #000000; stroke-width: 1.5;\" x1=\"268\" x2=\"321\" y1=\"71.2969\" y2=\"71.2969\"/><text fill=\"#000000\" font-family=\"sans-serif\" font-size=\"14\" font-weight=\"bold\" lengthAdjust=\"spacingAndGlyphs\" textLength=\"40\" x=\"272\" y=\"63.9951\">Test1</text></a><!--MD5=[7f149f147074ac12df2cb0a7728a5fb0]\n",
       "cluster E9--><a href=\"psysml:a06e7d3b-be80-4318-b479-ae1779c5974b\" target=\"_top\" title=\"psysml:a06e7d3b-be80-4318-b479-ae1779c5974b\" xlink:actuate=\"onRequest\" xlink:href=\"psysml:a06e7d3b-be80-4318-b479-ae1779c5974b\" xlink:show=\"new\" xlink:title=\"psysml:a06e7d3b-be80-4318-b479-ae1779c5974b\" xlink:type=\"simple\"><polygon fill=\"#FFFFFF\" filter=\"url(#fa828iosynioz)\" points=\"93,49,139,49,146,71.2969,244,71.2969,244,146,93,146,93,49\" style=\"stroke: #000000; stroke-width: 1.5;\"/><line style=\"stroke: #000000; stroke-width: 1.5;\" x1=\"93\" x2=\"146\" y1=\"71.2969\" y2=\"71.2969\"/><text fill=\"#000000\" font-family=\"sans-serif\" font-size=\"14\" font-weight=\"bold\" lengthAdjust=\"spacingAndGlyphs\" textLength=\"40\" x=\"97\" y=\"63.9951\">Test2</text></a><!--MD5=[49a0ec8f00dab7302a31f22d0f0fe584]\n",
       "class E12--><a href=\"psysml:665d223a-8fea-436a-b414-0efd919424fb\" target=\"_top\" title=\"psysml:665d223a-8fea-436a-b414-0efd919424fb\" xlink:actuate=\"onRequest\" xlink:href=\"psysml:665d223a-8fea-436a-b414-0efd919424fb\" xlink:show=\"new\" xlink:title=\"psysml:665d223a-8fea-436a-b414-0efd919424fb\" xlink:type=\"simple\"><rect fill=\"#FEFECE\" filter=\"url(#fa828iosynioz)\" height=\"45.9375\" id=\"E12\" rx=\"10\" ry=\"10\" style=\"stroke: #A80036; stroke-width: 1.5;\" width=\"42\" x=\"438\" y=\"84\"/><text fill=\"#000000\" font-family=\"sans-serif\" font-size=\"12\" font-style=\"italic\" lengthAdjust=\"spacingAndGlyphs\" textLength=\"40\" x=\"439\" y=\"100.1387\">«part»</text><text fill=\"#000000\" font-family=\"sans-serif\" font-size=\"12\" lengthAdjust=\"spacingAndGlyphs\" textLength=\"22\" x=\"446\" y=\"114.1074\">x: A</text><line style=\"stroke: #A80036; stroke-width: 1.5;\" x1=\"439\" x2=\"479\" y1=\"121.9375\" y2=\"121.9375\"/></a><!--MD5=[ee3c913d1a06f366521f9ef512b67efe]\n",
       "class E13--><a href=\"psysml:a1b35d80-8992-43c2-aa5d-6937f2901599\" target=\"_top\" title=\"psysml:a1b35d80-8992-43c2-aa5d-6937f2901599\" xlink:actuate=\"onRequest\" xlink:href=\"psysml:a1b35d80-8992-43c2-aa5d-6937f2901599\" xlink:show=\"new\" xlink:title=\"psysml:a1b35d80-8992-43c2-aa5d-6937f2901599\" xlink:type=\"simple\"><rect fill=\"#FEFECE\" filter=\"url(#fa828iosynioz)\" height=\"45.9375\" id=\"E13\" rx=\"10\" ry=\"10\" style=\"stroke: #A80036; stroke-width: 1.5;\" width=\"42\" x=\"32\" y=\"84\"/><text fill=\"#000000\" font-family=\"sans-serif\" font-size=\"12\" font-style=\"italic\" lengthAdjust=\"spacingAndGlyphs\" textLength=\"40\" x=\"33\" y=\"100.1387\">«part»</text><text fill=\"#000000\" font-family=\"sans-serif\" font-size=\"12\" lengthAdjust=\"spacingAndGlyphs\" textLength=\"22\" x=\"40\" y=\"114.1074\">y: B</text><line style=\"stroke: #A80036; stroke-width: 1.5;\" x1=\"33\" x2=\"73\" y1=\"121.9375\" y2=\"121.9375\"/></a><!--MD5=[09b614a08d8cba4a07c9adeb5e0fee81]\n",
       "class E3--><a href=\"psysml:8ceeee5f-0d5a-4279-aee9-7758649ab8be\" target=\"_top\" title=\"psysml:8ceeee5f-0d5a-4279-aee9-7758649ab8be\" xlink:actuate=\"onRequest\" xlink:href=\"psysml:8ceeee5f-0d5a-4279-aee9-7758649ab8be\" xlink:show=\"new\" xlink:title=\"psysml:8ceeee5f-0d5a-4279-aee9-7758649ab8be\" xlink:type=\"simple\"><rect fill=\"#FEFECE\" filter=\"url(#fa828iosynioz)\" height=\"45.9375\" id=\"E3\" style=\"stroke: #A80036; stroke-width: 1.5;\" width=\"70\" x=\"347\" y=\"205\"/><text fill=\"#000000\" font-family=\"sans-serif\" font-size=\"12\" font-style=\"italic\" lengthAdjust=\"spacingAndGlyphs\" textLength=\"68\" x=\"348\" y=\"221.1387\">«part  def»</text><text fill=\"#000000\" font-family=\"sans-serif\" font-size=\"12\" lengthAdjust=\"spacingAndGlyphs\" textLength=\"8\" x=\"378\" y=\"235.1074\">A</text><line style=\"stroke: #A80036; stroke-width: 1.5;\" x1=\"348\" x2=\"416\" y1=\"242.9375\" y2=\"242.9375\"/></a><!--MD5=[270fce915f116d4de14055a7c1d9a0f3]\n",
       "class E5--><a href=\"psysml:90844ba8-c1a9-4c46-b7c9-d1a2572e7365\" target=\"_top\" title=\"psysml:90844ba8-c1a9-4c46-b7c9-d1a2572e7365\" xlink:actuate=\"onRequest\" xlink:href=\"psysml:90844ba8-c1a9-4c46-b7c9-d1a2572e7365\" xlink:show=\"new\" xlink:title=\"psysml:90844ba8-c1a9-4c46-b7c9-d1a2572e7365\" xlink:type=\"simple\"><rect fill=\"#FEFECE\" filter=\"url(#fa828iosynioz)\" height=\"45.9375\" id=\"E5\" style=\"stroke: #A80036; stroke-width: 1.5;\" width=\"70\" x=\"95\" y=\"205\"/><text fill=\"#000000\" font-family=\"sans-serif\" font-size=\"12\" font-style=\"italic\" lengthAdjust=\"spacingAndGlyphs\" textLength=\"68\" x=\"96\" y=\"221.1387\">«part  def»</text><text fill=\"#000000\" font-family=\"sans-serif\" font-size=\"12\" lengthAdjust=\"spacingAndGlyphs\" textLength=\"8\" x=\"126\" y=\"235.1074\">B</text><line style=\"stroke: #A80036; stroke-width: 1.5;\" x1=\"96\" x2=\"164\" y1=\"242.9375\" y2=\"242.9375\"/></a><!--MD5=[2156ba9850f5573cc1fc38a6a4b2f02b]\n",
       "class E7--><a href=\"psysml:9a31b8cb-b3f5-4478-b49b-73e9fd0f6da5\" target=\"_top\" title=\"psysml:9a31b8cb-b3f5-4478-b49b-73e9fd0f6da5\" xlink:actuate=\"onRequest\" xlink:href=\"psysml:9a31b8cb-b3f5-4478-b49b-73e9fd0f6da5\" xlink:show=\"new\" xlink:title=\"psysml:9a31b8cb-b3f5-4478-b49b-73e9fd0f6da5\" xlink:type=\"simple\"><rect fill=\"#FEFECE\" filter=\"url(#fa828iosynioz)\" height=\"45.9375\" id=\"E7\" rx=\"10\" ry=\"10\" style=\"stroke: #A80036; stroke-width: 1.5;\" width=\"42\" x=\"361\" y=\"84\"/><text fill=\"#000000\" font-family=\"sans-serif\" font-size=\"12\" font-style=\"italic\" lengthAdjust=\"spacingAndGlyphs\" textLength=\"40\" x=\"362\" y=\"100.1387\">«part»</text><text fill=\"#000000\" font-family=\"sans-serif\" font-size=\"12\" lengthAdjust=\"spacingAndGlyphs\" textLength=\"22\" x=\"369\" y=\"114.1074\">x: A</text><line style=\"stroke: #A80036; stroke-width: 1.5;\" x1=\"362\" x2=\"402\" y1=\"121.9375\" y2=\"121.9375\"/></a><!--MD5=[b9389687b975829384b498ac4b7476b2]\n",
       "class E8--><a href=\"psysml:084cb86b-cc59-4a41-8b1c-7b7410cc5029\" target=\"_top\" title=\"psysml:084cb86b-cc59-4a41-8b1c-7b7410cc5029\" xlink:actuate=\"onRequest\" xlink:href=\"psysml:084cb86b-cc59-4a41-8b1c-7b7410cc5029\" xlink:show=\"new\" xlink:title=\"psysml:084cb86b-cc59-4a41-8b1c-7b7410cc5029\" xlink:type=\"simple\"><rect fill=\"#FEFECE\" filter=\"url(#fa828iosynioz)\" height=\"45.9375\" id=\"E8\" rx=\"10\" ry=\"10\" style=\"stroke: #A80036; stroke-width: 1.5;\" width=\"42\" x=\"284\" y=\"84\"/><text fill=\"#000000\" font-family=\"sans-serif\" font-size=\"12\" font-style=\"italic\" lengthAdjust=\"spacingAndGlyphs\" textLength=\"40\" x=\"285\" y=\"100.1387\">«part»</text><text fill=\"#000000\" font-family=\"sans-serif\" font-size=\"12\" lengthAdjust=\"spacingAndGlyphs\" textLength=\"22\" x=\"292\" y=\"114.1074\">y: B</text><line style=\"stroke: #A80036; stroke-width: 1.5;\" x1=\"285\" x2=\"325\" y1=\"121.9375\" y2=\"121.9375\"/></a><!--MD5=[96f4274e9e20536e775497830990834d]\n",
       "class E10--><a href=\"psysml:377a64d2-1aa6-4a9b-ba95-6aeb6c1d992f\" target=\"_top\" title=\"psysml:377a64d2-1aa6-4a9b-ba95-6aeb6c1d992f\" xlink:actuate=\"onRequest\" xlink:href=\"psysml:377a64d2-1aa6-4a9b-ba95-6aeb6c1d992f\" xlink:show=\"new\" xlink:title=\"psysml:377a64d2-1aa6-4a9b-ba95-6aeb6c1d992f\" xlink:type=\"simple\"><rect fill=\"#FEFECE\" filter=\"url(#fa828iosynioz)\" height=\"45.9375\" id=\"E10\" rx=\"10\" ry=\"10\" style=\"stroke: #A80036; stroke-width: 1.5;\" width=\"42\" x=\"186\" y=\"84\"/><text fill=\"#000000\" font-family=\"sans-serif\" font-size=\"12\" font-style=\"italic\" lengthAdjust=\"spacingAndGlyphs\" textLength=\"40\" x=\"187\" y=\"100.1387\">«part»</text><text fill=\"#000000\" font-family=\"sans-serif\" font-size=\"12\" lengthAdjust=\"spacingAndGlyphs\" textLength=\"22\" x=\"194\" y=\"114.1074\">x: A</text><line style=\"stroke: #A80036; stroke-width: 1.5;\" x1=\"187\" x2=\"227\" y1=\"121.9375\" y2=\"121.9375\"/></a><!--MD5=[1dd1bfd58a279cf63c5f349dbc8fc6a1]\n",
       "class E11--><a href=\"psysml:7cdd5db6-fbbe-4f9d-b259-3a085be4f068\" target=\"_top\" title=\"psysml:7cdd5db6-fbbe-4f9d-b259-3a085be4f068\" xlink:actuate=\"onRequest\" xlink:href=\"psysml:7cdd5db6-fbbe-4f9d-b259-3a085be4f068\" xlink:show=\"new\" xlink:title=\"psysml:7cdd5db6-fbbe-4f9d-b259-3a085be4f068\" xlink:type=\"simple\"><rect fill=\"#FEFECE\" filter=\"url(#fa828iosynioz)\" height=\"45.9375\" id=\"E11\" rx=\"10\" ry=\"10\" style=\"stroke: #A80036; stroke-width: 1.5;\" width=\"42\" x=\"109\" y=\"84\"/><text fill=\"#000000\" font-family=\"sans-serif\" font-size=\"12\" font-style=\"italic\" lengthAdjust=\"spacingAndGlyphs\" textLength=\"40\" x=\"110\" y=\"100.1387\">«part»</text><text fill=\"#000000\" font-family=\"sans-serif\" font-size=\"12\" lengthAdjust=\"spacingAndGlyphs\" textLength=\"22\" x=\"117\" y=\"114.1074\">y: B</text><line style=\"stroke: #A80036; stroke-width: 1.5;\" x1=\"110\" x2=\"150\" y1=\"121.9375\" y2=\"121.9375\"/></a><!--MD5=[14ccda38c055a5c0da953d572bc50960]\n",
       "link E7 to E3--><a href=\"psysml:0b2c7bde-3c6f-4711-9ee8-a744dba64aec\" target=\"_top\" title=\"psysml:0b2c7bde-3c6f-4711-9ee8-a744dba64aec\" xlink:actuate=\"onRequest\" xlink:href=\"psysml:0b2c7bde-3c6f-4711-9ee8-a744dba64aec\" xlink:show=\"new\" xlink:title=\"psysml:0b2c7bde-3c6f-4711-9ee8-a744dba64aec\" xlink:type=\"simple\"><path d=\"M382,130.1 C382,145.37 382,166.16 382,184.57 \" fill=\"none\" id=\"E7-&gt;E3\" style=\"stroke: #A80036; stroke-width: 1.0;\"/><polygon fill=\"#FFFFFF\" points=\"382,204.61,375,185.61,389,185.61,382,204.61\" style=\"stroke: #A80036; stroke-width: 1.0;\"/><ellipse cx=\"377\" cy=\"179.91\" fill=\"#A80036\" rx=\"2\" ry=\"2\" style=\"stroke: #A80036; stroke-width: 1.0;\"/><ellipse cx=\"387\" cy=\"179.91\" fill=\"#A80036\" rx=\"2\" ry=\"2\" style=\"stroke: #A80036; stroke-width: 1.0;\"/></a><!--MD5=[1ccb2481ffa92f8d51a74ee30c51832a]\n",
       "link E8 to E5--><a href=\"psysml:16eea2e1-2a1c-45c0-89dc-072c92b0db51\" target=\"_top\" title=\"psysml:16eea2e1-2a1c-45c0-89dc-072c92b0db51\" xlink:actuate=\"onRequest\" xlink:href=\"psysml:16eea2e1-2a1c-45c0-89dc-072c92b0db51\" xlink:show=\"new\" xlink:title=\"psysml:16eea2e1-2a1c-45c0-89dc-072c92b0db51\" xlink:type=\"simple\"><path d=\"M283.84,124.59 C272.23,133.52 257.5,144.61 244,154 C224.13,167.82 201.8,182.34 182.21,194.75 \" fill=\"none\" id=\"E8-&gt;E5\" style=\"stroke: #A80036; stroke-width: 1.0;\"/><polygon fill=\"#FFFFFF\" points=\"165.13,205.48,177.4956,189.4459,184.9425,201.301,165.13,205.48\" style=\"stroke: #A80036; stroke-width: 1.0;\"/><ellipse cx=\"183.3862\" cy=\"188.1075\" fill=\"#A80036\" rx=\"2\" ry=\"2\" style=\"stroke: #A80036; stroke-width: 1.0;\"/><ellipse cx=\"188.7054\" cy=\"196.5755\" fill=\"#A80036\" rx=\"2\" ry=\"2\" style=\"stroke: #A80036; stroke-width: 1.0;\"/></a><!--MD5=[feeac5eb423634930294aa81f2d25a4c]\n",
       "link E10 to E3--><a href=\"psysml:0ac0ff17-b961-483b-88a6-6c34531d2872\" target=\"_top\" title=\"psysml:0ac0ff17-b961-483b-88a6-6c34531d2872\" xlink:actuate=\"onRequest\" xlink:href=\"psysml:0ac0ff17-b961-483b-88a6-6c34531d2872\" xlink:show=\"new\" xlink:title=\"psysml:0ac0ff17-b961-483b-88a6-6c34531d2872\" xlink:type=\"simple\"><path d=\"M228.16,124.59 C239.77,133.52 254.5,144.61 268,154 C287.87,167.82 310.2,182.34 329.79,194.75 \" fill=\"none\" id=\"E10-&gt;E3\" style=\"stroke: #A80036; stroke-width: 1.0;\"/><polygon fill=\"#FFFFFF\" points=\"346.87,205.48,327.0575,201.301,334.5044,189.4459,346.87,205.48\" style=\"stroke: #A80036; stroke-width: 1.0;\"/><ellipse cx=\"323.2946\" cy=\"196.5755\" fill=\"#A80036\" rx=\"2\" ry=\"2\" style=\"stroke: #A80036; stroke-width: 1.0;\"/><ellipse cx=\"328.6138\" cy=\"188.1075\" fill=\"#A80036\" rx=\"2\" ry=\"2\" style=\"stroke: #A80036; stroke-width: 1.0;\"/></a><!--MD5=[07b77f6f309248d16187045709d1c26e]\n",
       "link E11 to E5--><a href=\"psysml:7353245a-aec5-4316-8af8-2852475c4dc4\" target=\"_top\" title=\"psysml:7353245a-aec5-4316-8af8-2852475c4dc4\" xlink:actuate=\"onRequest\" xlink:href=\"psysml:7353245a-aec5-4316-8af8-2852475c4dc4\" xlink:show=\"new\" xlink:title=\"psysml:7353245a-aec5-4316-8af8-2852475c4dc4\" xlink:type=\"simple\"><path d=\"M130,130.1 C130,145.37 130,166.16 130,184.57 \" fill=\"none\" id=\"E11-&gt;E5\" style=\"stroke: #A80036; stroke-width: 1.0;\"/><polygon fill=\"#FFFFFF\" points=\"130,204.61,123,185.61,137,185.61,130,204.61\" style=\"stroke: #A80036; stroke-width: 1.0;\"/><ellipse cx=\"125\" cy=\"179.91\" fill=\"#A80036\" rx=\"2\" ry=\"2\" style=\"stroke: #A80036; stroke-width: 1.0;\"/><ellipse cx=\"135\" cy=\"179.91\" fill=\"#A80036\" rx=\"2\" ry=\"2\" style=\"stroke: #A80036; stroke-width: 1.0;\"/></a><!--MD5=[39f41a0e550fb3d73b4d8135617e30a2]\n",
       "link E12 to E3--><a href=\"psysml:6cc10db6-ba98-48a2-919a-a7b34cb2bdfc\" target=\"_top\" title=\"psysml:6cc10db6-ba98-48a2-919a-a7b34cb2bdfc\" xlink:actuate=\"onRequest\" xlink:href=\"psysml:6cc10db6-ba98-48a2-919a-a7b34cb2bdfc\" xlink:show=\"new\" xlink:title=\"psysml:6cc10db6-ba98-48a2-919a-a7b34cb2bdfc\" xlink:type=\"simple\"><path d=\"M444.7,130.1 C434.28,146.2 419.89,168.44 407.53,187.55 \" fill=\"none\" id=\"E12-&gt;E3\" style=\"stroke: #A80036; stroke-width: 1.0;\"/><polygon fill=\"#FFFFFF\" points=\"396.49,204.61,400.9313,184.8546,412.6866,192.4581,396.49,204.61\" style=\"stroke: #A80036; stroke-width: 1.0;\"/><ellipse cx=\"405.7063\" cy=\"181.1547\" fill=\"#A80036\" rx=\"2\" ry=\"2\" style=\"stroke: #A80036; stroke-width: 1.0;\"/><ellipse cx=\"414.103\" cy=\"186.5858\" fill=\"#A80036\" rx=\"2\" ry=\"2\" style=\"stroke: #A80036; stroke-width: 1.0;\"/></a><!--MD5=[066b2d8af59fea80ccdb3d54ad5c1091]\n",
       "link E13 to E5--><a href=\"psysml:fb180b05-d2cf-42d1-bf2a-01829ad20206\" target=\"_top\" title=\"psysml:fb180b05-d2cf-42d1-bf2a-01829ad20206\" xlink:actuate=\"onRequest\" xlink:href=\"psysml:fb180b05-d2cf-42d1-bf2a-01829ad20206\" xlink:show=\"new\" xlink:title=\"psysml:fb180b05-d2cf-42d1-bf2a-01829ad20206\" xlink:type=\"simple\"><path d=\"M67.3,130.1 C77.72,146.2 92.11,168.44 104.47,187.55 \" fill=\"none\" id=\"E13-&gt;E5\" style=\"stroke: #A80036; stroke-width: 1.0;\"/><polygon fill=\"#FFFFFF\" points=\"115.51,204.61,99.3134,192.4581,111.0687,184.8546,115.51,204.61\" style=\"stroke: #A80036; stroke-width: 1.0;\"/><ellipse cx=\"97.897\" cy=\"186.5858\" fill=\"#A80036\" rx=\"2\" ry=\"2\" style=\"stroke: #A80036; stroke-width: 1.0;\"/><ellipse cx=\"106.2937\" cy=\"181.1547\" fill=\"#A80036\" rx=\"2\" ry=\"2\" style=\"stroke: #A80036; stroke-width: 1.0;\"/></a><!--MD5=[cf5cffaf461bd3b89a93a794bb8d11ef]\n",
       "@startuml\r\n",
       "skinparam wrapWidth 300\r\n",
       "hide circle\r\n",
       "\r\n",
       "package \"CircularImport\" as E1  [[psysml:6d002b47-1de9-4cb8-be5e-1d54cb7fff5c ]]  {\r\n",
       "package \"P1\" as E2  [[psysml:531dfa6c-428e-410a-a6f8-c5b9ff8ecb34 ]]  {\r\n",
       "comp def \"A\" as E3  <<(T,blue) part  def>> [[psysml:8ceeee5f-0d5a-4279-aee9-7758649ab8be ]] {\r\n",
       "}\r\n",
       "}\r\n",
       "package \"P2\" as E4  [[psysml:62a929fe-702a-4460-9e53-8584d6f6435e ]]  {\r\n",
       "comp def \"B\" as E5  <<(T,blue) part  def>> [[psysml:90844ba8-c1a9-4c46-b7c9-d1a2572e7365 ]] {\r\n",
       "}\r\n",
       "}\r\n",
       "package \"Test1\" as E6  [[psysml:0f17a3a9-0805-4d7f-ba6a-07da905c8abf ]]  {\r\n",
       "comp usage \"x: A \" as E7  <<(T,blue) part>> [[psysml:9a31b8cb-b3f5-4478-b49b-73e9fd0f6da5 ]] {\r\n",
       "}\r\n",
       "comp usage \"y: B \" as E8  <<(T,blue) part>> [[psysml:084cb86b-cc59-4a41-8b1c-7b7410cc5029 ]] {\r\n",
       "}\r\n",
       "}\r\n",
       "package \"Test2\" as E9  [[psysml:a06e7d3b-be80-4318-b479-ae1779c5974b ]]  {\r\n",
       "comp usage \"x: A \" as E10  <<(T,blue) part>> [[psysml:377a64d2-1aa6-4a9b-ba95-6aeb6c1d992f ]] {\r\n",
       "}\r\n",
       "comp usage \"y: B \" as E11  <<(T,blue) part>> [[psysml:7cdd5db6-fbbe-4f9d-b259-3a085be4f068 ]] {\r\n",
       "}\r\n",
       "}\r\n",
       "comp usage \"x: A \" as E12  <<(T,blue) part>> [[psysml:665d223a-8fea-436a-b414-0efd919424fb ]] {\r\n",
       "}\r\n",
       "comp usage \"y: B \" as E13  <<(T,blue) part>> [[psysml:a1b35d80-8992-43c2-aa5d-6937f2901599 ]] {\r\n",
       "}\r\n",
       "}\r\n",
       "E7 - -:|> E3 [[psysml:0b2c7bde-3c6f-4711-9ee8-a744dba64aec ]] \r\n",
       "E8 - -:|> E5 [[psysml:16eea2e1-2a1c-45c0-89dc-072c92b0db51 ]] \r\n",
       "E10 - -:|> E3 [[psysml:0ac0ff17-b961-483b-88a6-6c34531d2872 ]] \r\n",
       "E11 - -:|> E5 [[psysml:7353245a-aec5-4316-8af8-2852475c4dc4 ]] \r\n",
       "E12 - -:|> E3 [[psysml:6cc10db6-ba98-48a2-919a-a7b34cb2bdfc ]] \r\n",
       "E13 - -:|> E5 [[psysml:fb180b05-d2cf-42d1-bf2a-01829ad20206 ]] \r\n",
       "@enduml\r\n",
       "\n",
       "PlantUML version 1.2020.13(Sat Jun 13 12:26:38 UTC 2020)\n",
       "(EPL source distribution)\n",
       "Java Runtime: OpenJDK Runtime Environment\n",
       "JVM: OpenJDK 64-Bit Server VM\n",
       "Default Encoding: UTF-8\n",
       "Language: en\n",
       "Country: null\n",
       "--></g></svg>"
      ]
     },
     "execution_count": 24,
     "metadata": {},
     "output_type": "execute_result"
    }
   ],
   "source": [
    "%viz --style=\"STDCOLOR\" --view=\"Tree\" \"CircularImport\""
   ]
  },
  {
   "cell_type": "code",
   "execution_count": 25,
   "id": "3ea7c22d",
   "metadata": {
    "execution": {
     "iopub.execute_input": "2021-12-15T15:15:38.145096Z",
     "iopub.status.busy": "2021-12-15T15:15:38.144626Z",
     "iopub.status.idle": "2021-12-15T15:15:38.149432Z",
     "shell.execute_reply": "2021-12-15T15:15:38.149753Z"
    }
   },
   "outputs": [
    {
     "data": {
      "image/svg+xml": [
       "<?xml version=\"1.0\" encoding=\"UTF-8\" standalone=\"no\"?><svg xmlns=\"http://www.w3.org/2000/svg\" xmlns:xlink=\"http://www.w3.org/1999/xlink\" contentScriptType=\"application/ecmascript\" contentStyleType=\"text/css\" height=\"12px\" preserveAspectRatio=\"none\" style=\"width:12px;height:12px;\" version=\"1.1\" viewBox=\"0 0 12 12\" width=\"12px\" zoomAndPan=\"magnify\"><defs/><g><!--MD5=[aeeef50f102b80d730deb6443d14f702]\n",
       "@startuml\r\n",
       "skinparam wrapWidth 300\r\n",
       "hide circle\r\n",
       "\r\n",
       "@enduml\r\n",
       "\n",
       "PlantUML version 1.2020.13(Sat Jun 13 12:26:38 UTC 2020)\n",
       "(EPL source distribution)\n",
       "Java Runtime: OpenJDK Runtime Environment\n",
       "JVM: OpenJDK 64-Bit Server VM\n",
       "Default Encoding: UTF-8\n",
       "Language: en\n",
       "Country: null\n",
       "--></g></svg>"
      ]
     },
     "execution_count": 25,
     "metadata": {},
     "output_type": "execute_result"
    }
   ],
   "source": [
    "%viz --style=\"STDCOLOR\" --view=\"State\" \"CircularImport\""
   ]
  },
  {
   "cell_type": "code",
   "execution_count": 26,
   "id": "806b81e0",
   "metadata": {
    "execution": {
     "iopub.execute_input": "2021-12-15T15:15:38.199667Z",
     "iopub.status.busy": "2021-12-15T15:15:38.199104Z",
     "iopub.status.idle": "2021-12-15T15:15:38.232089Z",
     "shell.execute_reply": "2021-12-15T15:15:38.231705Z"
    }
   },
   "outputs": [
    {
     "data": {
      "image/svg+xml": [
       "<?xml version=\"1.0\" encoding=\"UTF-8\" standalone=\"no\"?><svg xmlns=\"http://www.w3.org/2000/svg\" xmlns:xlink=\"http://www.w3.org/1999/xlink\" contentScriptType=\"application/ecmascript\" contentStyleType=\"text/css\" height=\"179px\" preserveAspectRatio=\"none\" style=\"width:850px;height:179px;\" version=\"1.1\" viewBox=\"0 0 850 179\" width=\"850px\" zoomAndPan=\"magnify\"><defs><filter height=\"300%\" id=\"f1xi9w7mtq9ol3\" width=\"300%\" x=\"-1\" y=\"-1\"><feGaussianBlur result=\"blurOut\" stdDeviation=\"2.0\"/><feColorMatrix in=\"blurOut\" result=\"blurOut2\" type=\"matrix\" values=\"0 0 0 0 0 0 0 0 0 0 0 0 0 0 0 0 0 0 .4 0\"/><feOffset dx=\"4.0\" dy=\"4.0\" in=\"blurOut2\" result=\"blurOut3\"/><feBlend in=\"SourceGraphic\" in2=\"blurOut3\" mode=\"normal\"/></filter></defs><g><!--MD5=[fbc87193dbaf4d95561dea2c320d4a47]\n",
       "cluster E1--><a href=\"psysml:6d002b47-1de9-4cb8-be5e-1d54cb7fff5c\" target=\"_top\" title=\"psysml:6d002b47-1de9-4cb8-be5e-1d54cb7fff5c\" xlink:actuate=\"onRequest\" xlink:href=\"psysml:6d002b47-1de9-4cb8-be5e-1d54cb7fff5c\" xlink:show=\"new\" xlink:title=\"psysml:6d002b47-1de9-4cb8-be5e-1d54cb7fff5c\" xlink:type=\"simple\"><polygon fill=\"#FFFFFF\" filter=\"url(#f1xi9w7mtq9ol3)\" points=\"16,6,117,6,124,28.2969,828,28.2969,828,167,16,167,16,6\" style=\"stroke: #000000; stroke-width: 1.5;\"/><line style=\"stroke: #000000; stroke-width: 1.5;\" x1=\"16\" x2=\"124\" y1=\"28.2969\" y2=\"28.2969\"/><text fill=\"#000000\" font-family=\"sans-serif\" font-size=\"14\" font-weight=\"bold\" lengthAdjust=\"spacingAndGlyphs\" textLength=\"95\" x=\"20\" y=\"20.9951\">CircularImport</text></a><!--MD5=[e4f7fae6ed58524ba242bb0b0d3be6b7]\n",
       "cluster E2--><a href=\"psysml:531dfa6c-428e-410a-a6f8-c5b9ff8ecb34\" target=\"_top\" title=\"psysml:531dfa6c-428e-410a-a6f8-c5b9ff8ecb34\" xlink:actuate=\"onRequest\" xlink:href=\"psysml:531dfa6c-428e-410a-a6f8-c5b9ff8ecb34\" xlink:show=\"new\" xlink:title=\"psysml:531dfa6c-428e-410a-a6f8-c5b9ff8ecb34\" xlink:type=\"simple\"><polygon fill=\"#FFFFFF\" filter=\"url(#f1xi9w7mtq9ol3)\" points=\"698,49,722,49,729,71.2969,804,71.2969,804,143,698,143,698,49\" style=\"stroke: #000000; stroke-width: 1.5;\"/><line style=\"stroke: #000000; stroke-width: 1.5;\" x1=\"698\" x2=\"729\" y1=\"71.2969\" y2=\"71.2969\"/><text fill=\"#000000\" font-family=\"sans-serif\" font-size=\"14\" font-weight=\"bold\" lengthAdjust=\"spacingAndGlyphs\" textLength=\"18\" x=\"702\" y=\"63.9951\">P1</text></a><!--MD5=[f6df4d0ebaf0b5dfb2ced0ae5af7c670]\n",
       "cluster E4--><a href=\"psysml:62a929fe-702a-4460-9e53-8584d6f6435e\" target=\"_top\" title=\"psysml:62a929fe-702a-4460-9e53-8584d6f6435e\" xlink:actuate=\"onRequest\" xlink:href=\"psysml:62a929fe-702a-4460-9e53-8584d6f6435e\" xlink:show=\"new\" xlink:title=\"psysml:62a929fe-702a-4460-9e53-8584d6f6435e\" xlink:type=\"simple\"><polygon fill=\"#FFFFFF\" filter=\"url(#f1xi9w7mtq9ol3)\" points=\"568,49,592,49,599,71.2969,674,71.2969,674,143,568,143,568,49\" style=\"stroke: #000000; stroke-width: 1.5;\"/><line style=\"stroke: #000000; stroke-width: 1.5;\" x1=\"568\" x2=\"599\" y1=\"71.2969\" y2=\"71.2969\"/><text fill=\"#000000\" font-family=\"sans-serif\" font-size=\"14\" font-weight=\"bold\" lengthAdjust=\"spacingAndGlyphs\" textLength=\"18\" x=\"572\" y=\"63.9951\">P2</text></a><!--MD5=[14e3b0961a2654348d326746436168a1]\n",
       "cluster E6--><a href=\"psysml:0f17a3a9-0805-4d7f-ba6a-07da905c8abf\" target=\"_top\" title=\"psysml:0f17a3a9-0805-4d7f-ba6a-07da905c8abf\" xlink:actuate=\"onRequest\" xlink:href=\"psysml:0f17a3a9-0805-4d7f-ba6a-07da905c8abf\" xlink:show=\"new\" xlink:title=\"psysml:0f17a3a9-0805-4d7f-ba6a-07da905c8abf\" xlink:type=\"simple\"><polygon fill=\"#FFFFFF\" filter=\"url(#f1xi9w7mtq9ol3)\" points=\"377,50.5,423,50.5,430,72.7969,544,72.7969,544,141.5,377,141.5,377,50.5\" style=\"stroke: #000000; stroke-width: 1.5;\"/><line style=\"stroke: #000000; stroke-width: 1.5;\" x1=\"377\" x2=\"430\" y1=\"72.7969\" y2=\"72.7969\"/><text fill=\"#000000\" font-family=\"sans-serif\" font-size=\"14\" font-weight=\"bold\" lengthAdjust=\"spacingAndGlyphs\" textLength=\"40\" x=\"381\" y=\"65.4951\">Test1</text></a><!--MD5=[7f149f147074ac12df2cb0a7728a5fb0]\n",
       "cluster E9--><a href=\"psysml:a06e7d3b-be80-4318-b479-ae1779c5974b\" target=\"_top\" title=\"psysml:a06e7d3b-be80-4318-b479-ae1779c5974b\" xlink:actuate=\"onRequest\" xlink:href=\"psysml:a06e7d3b-be80-4318-b479-ae1779c5974b\" xlink:show=\"new\" xlink:title=\"psysml:a06e7d3b-be80-4318-b479-ae1779c5974b\" xlink:type=\"simple\"><polygon fill=\"#FFFFFF\" filter=\"url(#f1xi9w7mtq9ol3)\" points=\"186,50.5,232,50.5,239,72.7969,353,72.7969,353,141.5,186,141.5,186,50.5\" style=\"stroke: #000000; stroke-width: 1.5;\"/><line style=\"stroke: #000000; stroke-width: 1.5;\" x1=\"186\" x2=\"239\" y1=\"72.7969\" y2=\"72.7969\"/><text fill=\"#000000\" font-family=\"sans-serif\" font-size=\"14\" font-weight=\"bold\" lengthAdjust=\"spacingAndGlyphs\" textLength=\"40\" x=\"190\" y=\"65.4951\">Test2</text></a><g id=\"E1.E2.E3\"><a href=\"psysml:8ceeee5f-0d5a-4279-aee9-7758649ab8be\" target=\"_top\" title=\"psysml:8ceeee5f-0d5a-4279-aee9-7758649ab8be\" xlink:actuate=\"onRequest\" xlink:href=\"psysml:8ceeee5f-0d5a-4279-aee9-7758649ab8be\" xlink:show=\"new\" xlink:title=\"psysml:8ceeee5f-0d5a-4279-aee9-7758649ab8be\" xlink:type=\"simple\"><rect fill=\"#FEFECE\" filter=\"url(#f1xi9w7mtq9ol3)\" height=\"42.9375\" id=\"E3\" style=\"stroke: #A80036; stroke-width: 1.5;\" width=\"75\" x=\"713.5\" y=\"84\"/><text fill=\"#000000\" font-family=\"sans-serif\" font-size=\"12\" font-style=\"italic\" lengthAdjust=\"spacingAndGlyphs\" textLength=\"68\" x=\"717\" y=\"100.1387\">«part  def»</text><text fill=\"#000000\" font-family=\"sans-serif\" font-size=\"12\" lengthAdjust=\"spacingAndGlyphs\" textLength=\"8\" x=\"747\" y=\"114.1074\">A</text></a></g><g id=\"E1.E4.E5\"><a href=\"psysml:90844ba8-c1a9-4c46-b7c9-d1a2572e7365\" target=\"_top\" title=\"psysml:90844ba8-c1a9-4c46-b7c9-d1a2572e7365\" xlink:actuate=\"onRequest\" xlink:href=\"psysml:90844ba8-c1a9-4c46-b7c9-d1a2572e7365\" xlink:show=\"new\" xlink:title=\"psysml:90844ba8-c1a9-4c46-b7c9-d1a2572e7365\" xlink:type=\"simple\"><rect fill=\"#FEFECE\" filter=\"url(#f1xi9w7mtq9ol3)\" height=\"42.9375\" id=\"E5\" style=\"stroke: #A80036; stroke-width: 1.5;\" width=\"75\" x=\"583.5\" y=\"84\"/><text fill=\"#000000\" font-family=\"sans-serif\" font-size=\"12\" font-style=\"italic\" lengthAdjust=\"spacingAndGlyphs\" textLength=\"68\" x=\"587\" y=\"100.1387\">«part  def»</text><text fill=\"#000000\" font-family=\"sans-serif\" font-size=\"12\" lengthAdjust=\"spacingAndGlyphs\" textLength=\"8\" x=\"617\" y=\"114.1074\">B</text></a></g><g id=\"E1.E6.E7\"><a href=\"psysml:9a31b8cb-b3f5-4478-b49b-73e9fd0f6da5\" target=\"_top\" title=\"psysml:9a31b8cb-b3f5-4478-b49b-73e9fd0f6da5\" xlink:actuate=\"onRequest\" xlink:href=\"psysml:9a31b8cb-b3f5-4478-b49b-73e9fd0f6da5\" xlink:show=\"new\" xlink:title=\"psysml:9a31b8cb-b3f5-4478-b49b-73e9fd0f6da5\" xlink:type=\"simple\"><rect fill=\"#FEFECE\" filter=\"url(#f1xi9w7mtq9ol3)\" height=\"40\" id=\"E7\" rx=\"10\" ry=\"10\" style=\"stroke: #A80036; stroke-width: 1.5;\" width=\"50\" x=\"478\" y=\"85.5\"/><text fill=\"#000000\" font-family=\"sans-serif\" font-size=\"12\" lengthAdjust=\"spacingAndGlyphs\" textLength=\"22\" x=\"492\" y=\"101.6387\">x: A</text></a></g><g id=\"E1.E6.E8\"><a href=\"psysml:084cb86b-cc59-4a41-8b1c-7b7410cc5029\" target=\"_top\" title=\"psysml:084cb86b-cc59-4a41-8b1c-7b7410cc5029\" xlink:actuate=\"onRequest\" xlink:href=\"psysml:084cb86b-cc59-4a41-8b1c-7b7410cc5029\" xlink:show=\"new\" xlink:title=\"psysml:084cb86b-cc59-4a41-8b1c-7b7410cc5029\" xlink:type=\"simple\"><rect fill=\"#FEFECE\" filter=\"url(#f1xi9w7mtq9ol3)\" height=\"40\" id=\"E8\" rx=\"10\" ry=\"10\" style=\"stroke: #A80036; stroke-width: 1.5;\" width=\"50\" x=\"393\" y=\"85.5\"/><text fill=\"#000000\" font-family=\"sans-serif\" font-size=\"12\" lengthAdjust=\"spacingAndGlyphs\" textLength=\"22\" x=\"407\" y=\"101.6387\">y: B</text></a></g><g id=\"E1.E9.E10\"><a href=\"psysml:377a64d2-1aa6-4a9b-ba95-6aeb6c1d992f\" target=\"_top\" title=\"psysml:377a64d2-1aa6-4a9b-ba95-6aeb6c1d992f\" xlink:actuate=\"onRequest\" xlink:href=\"psysml:377a64d2-1aa6-4a9b-ba95-6aeb6c1d992f\" xlink:show=\"new\" xlink:title=\"psysml:377a64d2-1aa6-4a9b-ba95-6aeb6c1d992f\" xlink:type=\"simple\"><rect fill=\"#FEFECE\" filter=\"url(#f1xi9w7mtq9ol3)\" height=\"40\" id=\"E10\" rx=\"10\" ry=\"10\" style=\"stroke: #A80036; stroke-width: 1.5;\" width=\"50\" x=\"287\" y=\"85.5\"/><text fill=\"#000000\" font-family=\"sans-serif\" font-size=\"12\" lengthAdjust=\"spacingAndGlyphs\" textLength=\"22\" x=\"301\" y=\"101.6387\">x: A</text></a></g><g id=\"E1.E9.E11\"><a href=\"psysml:7cdd5db6-fbbe-4f9d-b259-3a085be4f068\" target=\"_top\" title=\"psysml:7cdd5db6-fbbe-4f9d-b259-3a085be4f068\" xlink:actuate=\"onRequest\" xlink:href=\"psysml:7cdd5db6-fbbe-4f9d-b259-3a085be4f068\" xlink:show=\"new\" xlink:title=\"psysml:7cdd5db6-fbbe-4f9d-b259-3a085be4f068\" xlink:type=\"simple\"><rect fill=\"#FEFECE\" filter=\"url(#f1xi9w7mtq9ol3)\" height=\"40\" id=\"E11\" rx=\"10\" ry=\"10\" style=\"stroke: #A80036; stroke-width: 1.5;\" width=\"50\" x=\"202\" y=\"85.5\"/><text fill=\"#000000\" font-family=\"sans-serif\" font-size=\"12\" lengthAdjust=\"spacingAndGlyphs\" textLength=\"22\" x=\"216\" y=\"101.6387\">y: B</text></a></g><g id=\"E1.E12\"><a href=\"psysml:665d223a-8fea-436a-b414-0efd919424fb\" target=\"_top\" title=\"psysml:665d223a-8fea-436a-b414-0efd919424fb\" xlink:actuate=\"onRequest\" xlink:href=\"psysml:665d223a-8fea-436a-b414-0efd919424fb\" xlink:show=\"new\" xlink:title=\"psysml:665d223a-8fea-436a-b414-0efd919424fb\" xlink:type=\"simple\"><rect fill=\"#FEFECE\" filter=\"url(#f1xi9w7mtq9ol3)\" height=\"40\" id=\"E12\" rx=\"10\" ry=\"10\" style=\"stroke: #A80036; stroke-width: 1.5;\" width=\"50\" x=\"117\" y=\"85.5\"/><text fill=\"#000000\" font-family=\"sans-serif\" font-size=\"12\" lengthAdjust=\"spacingAndGlyphs\" textLength=\"22\" x=\"131\" y=\"101.6387\">x: A</text></a></g><g id=\"E1.E13\"><a href=\"psysml:a1b35d80-8992-43c2-aa5d-6937f2901599\" target=\"_top\" title=\"psysml:a1b35d80-8992-43c2-aa5d-6937f2901599\" xlink:actuate=\"onRequest\" xlink:href=\"psysml:a1b35d80-8992-43c2-aa5d-6937f2901599\" xlink:show=\"new\" xlink:title=\"psysml:a1b35d80-8992-43c2-aa5d-6937f2901599\" xlink:type=\"simple\"><rect fill=\"#FEFECE\" filter=\"url(#f1xi9w7mtq9ol3)\" height=\"40\" id=\"E13\" rx=\"10\" ry=\"10\" style=\"stroke: #A80036; stroke-width: 1.5;\" width=\"50\" x=\"32\" y=\"85.5\"/><text fill=\"#000000\" font-family=\"sans-serif\" font-size=\"12\" lengthAdjust=\"spacingAndGlyphs\" textLength=\"22\" x=\"46\" y=\"101.6387\">y: B</text></a></g><!--MD5=[f4f30b9936672fe9448f7103596546b1]\n",
       "@startuml\r\n",
       "skinparam ranksep 10\r\n",
       "skinparam rectangle {\r\n",
       " backgroundColor<<block>> LightGreen\r\n",
       "}\r\n",
       "skinparam wrapWidth 300\r\n",
       "hide circle\r\n",
       "\r\n",
       "package \"CircularImport\" as E1  [[psysml:6d002b47-1de9-4cb8-be5e-1d54cb7fff5c ]]  {\r\n",
       "package \"P1\" as E2  [[psysml:531dfa6c-428e-410a-a6f8-c5b9ff8ecb34 ]]  {\r\n",
       "rec def \"A\" as E3  <<(T,blue) part  def>> [[psysml:8ceeee5f-0d5a-4279-aee9-7758649ab8be ]] {\r\n",
       "}\r\n",
       "}\r\n",
       "package \"P2\" as E4  [[psysml:62a929fe-702a-4460-9e53-8584d6f6435e ]]  {\r\n",
       "rec def \"B\" as E5  <<(T,blue) part  def>> [[psysml:90844ba8-c1a9-4c46-b7c9-d1a2572e7365 ]] {\r\n",
       "}\r\n",
       "}\r\n",
       "package \"Test1\" as E6  [[psysml:0f17a3a9-0805-4d7f-ba6a-07da905c8abf ]]  {\r\n",
       "rec usage \"x: A\" as E7  [[psysml:9a31b8cb-b3f5-4478-b49b-73e9fd0f6da5 ]] {\r\n",
       "}\r\n",
       "rec usage \"y: B\" as E8  [[psysml:084cb86b-cc59-4a41-8b1c-7b7410cc5029 ]] {\r\n",
       "}\r\n",
       "}\r\n",
       "package \"Test2\" as E9  [[psysml:a06e7d3b-be80-4318-b479-ae1779c5974b ]]  {\r\n",
       "rec usage \"x: A\" as E10  [[psysml:377a64d2-1aa6-4a9b-ba95-6aeb6c1d992f ]] {\r\n",
       "}\r\n",
       "rec usage \"y: B\" as E11  [[psysml:7cdd5db6-fbbe-4f9d-b259-3a085be4f068 ]] {\r\n",
       "}\r\n",
       "}\r\n",
       "rec usage \"x: A\" as E12  [[psysml:665d223a-8fea-436a-b414-0efd919424fb ]] {\r\n",
       "}\r\n",
       "rec usage \"y: B\" as E13  [[psysml:a1b35d80-8992-43c2-aa5d-6937f2901599 ]] {\r\n",
       "}\r\n",
       "}\r\n",
       "@enduml\r\n",
       "\n",
       "PlantUML version 1.2020.13(Sat Jun 13 12:26:38 UTC 2020)\n",
       "(EPL source distribution)\n",
       "Java Runtime: OpenJDK Runtime Environment\n",
       "JVM: OpenJDK 64-Bit Server VM\n",
       "Default Encoding: UTF-8\n",
       "Language: en\n",
       "Country: null\n",
       "--></g></svg>"
      ]
     },
     "execution_count": 26,
     "metadata": {},
     "output_type": "execute_result"
    }
   ],
   "source": [
    "%viz --style=\"STDCOLOR\" --view=\"Interconnection\" \"CircularImport\""
   ]
  },
  {
   "cell_type": "code",
   "execution_count": 27,
   "id": "a1efc89e",
   "metadata": {
    "execution": {
     "iopub.execute_input": "2021-12-15T15:15:38.281281Z",
     "iopub.status.busy": "2021-12-15T15:15:38.280799Z",
     "iopub.status.idle": "2021-12-15T15:15:38.286262Z",
     "shell.execute_reply": "2021-12-15T15:15:38.286566Z"
    }
   },
   "outputs": [
    {
     "data": {
      "image/svg+xml": [
       "<?xml version=\"1.0\" encoding=\"UTF-8\" standalone=\"no\"?><svg xmlns=\"http://www.w3.org/2000/svg\" xmlns:xlink=\"http://www.w3.org/1999/xlink\" contentScriptType=\"application/ecmascript\" contentStyleType=\"text/css\" height=\"12px\" preserveAspectRatio=\"none\" style=\"width:12px;height:12px;\" version=\"1.1\" viewBox=\"0 0 12 12\" width=\"12px\" zoomAndPan=\"magnify\"><defs/><g><!--MD5=[9863325348a96a77dacc89509d8ee65e]\n",
       "@startuml\r\n",
       "skinparam ranksep 8\r\n",
       "skinparam wrapWidth 300\r\n",
       "hide circle\r\n",
       "\r\n",
       "@enduml\r\n",
       "\n",
       "PlantUML version 1.2020.13(Sat Jun 13 12:26:38 UTC 2020)\n",
       "(EPL source distribution)\n",
       "Java Runtime: OpenJDK Runtime Environment\n",
       "JVM: OpenJDK 64-Bit Server VM\n",
       "Default Encoding: UTF-8\n",
       "Language: en\n",
       "Country: null\n",
       "--></g></svg>"
      ]
     },
     "execution_count": 27,
     "metadata": {},
     "output_type": "execute_result"
    }
   ],
   "source": [
    "%viz --style=\"STDCOLOR\" --view=\"Action\" \"CircularImport\""
   ]
  },
  {
   "cell_type": "code",
   "execution_count": 28,
   "id": "07846527",
   "metadata": {
    "execution": {
     "iopub.execute_input": "2021-12-15T15:15:38.335750Z",
     "iopub.status.busy": "2021-12-15T15:15:38.335340Z",
     "iopub.status.idle": "2021-12-15T15:15:38.340902Z",
     "shell.execute_reply": "2021-12-15T15:15:38.341217Z"
    }
   },
   "outputs": [
    {
     "data": {
      "image/svg+xml": [
       "<?xml version=\"1.0\" encoding=\"UTF-8\" standalone=\"no\"?><svg xmlns=\"http://www.w3.org/2000/svg\" xmlns:xlink=\"http://www.w3.org/1999/xlink\" contentScriptType=\"application/ecmascript\" contentStyleType=\"text/css\" height=\"12px\" preserveAspectRatio=\"none\" style=\"width:12px;height:12px;\" version=\"1.1\" viewBox=\"0 0 12 12\" width=\"12px\" zoomAndPan=\"magnify\"><defs/><g><!--MD5=[6c4bca67b4d71758159a5a7f1f1e1fc2]\n",
       "@startuml\r\n",
       "skinparam roundcorner 20\r\n",
       "skinparam BoxPadding 20\r\n",
       "skinparam SequenceBoxBackgroundColor #white\r\n",
       "skinparam style strictuml\r\n",
       "skinparam maxMessageSize 100\r\n",
       "skinparam wrapWidth 300\r\n",
       "hide circle\r\n",
       "\r\n",
       "@enduml\r\n",
       "\n",
       "PlantUML version 1.2020.13(Sat Jun 13 12:26:38 UTC 2020)\n",
       "(EPL source distribution)\n",
       "Java Runtime: OpenJDK Runtime Environment\n",
       "JVM: OpenJDK 64-Bit Server VM\n",
       "Default Encoding: UTF-8\n",
       "Language: en\n",
       "Country: null\n",
       "--></g></svg>"
      ]
     },
     "execution_count": 28,
     "metadata": {},
     "output_type": "execute_result"
    }
   ],
   "source": [
    "%viz --style=\"STDCOLOR\" --view=\"Sequence\" \"CircularImport\""
   ]
  },
  {
   "cell_type": "code",
   "execution_count": 29,
   "id": "903c2b54",
   "metadata": {
    "execution": {
     "iopub.execute_input": "2021-12-15T15:15:38.390567Z",
     "iopub.status.busy": "2021-12-15T15:15:38.390167Z",
     "iopub.status.idle": "2021-12-15T15:15:38.431765Z",
     "shell.execute_reply": "2021-12-15T15:15:38.429818Z"
    }
   },
   "outputs": [
    {
     "data": {
      "image/svg+xml": [
       "<?xml version=\"1.0\" encoding=\"UTF-8\" standalone=\"no\"?><svg xmlns=\"http://www.w3.org/2000/svg\" xmlns:xlink=\"http://www.w3.org/1999/xlink\" contentScriptType=\"application/ecmascript\" contentStyleType=\"text/css\" height=\"303px\" preserveAspectRatio=\"none\" style=\"width:518px;height:303px;\" version=\"1.1\" viewBox=\"0 0 518 303\" width=\"518px\" zoomAndPan=\"magnify\"><defs><filter height=\"300%\" id=\"fa828iosynioz\" width=\"300%\" x=\"-1\" y=\"-1\"><feGaussianBlur result=\"blurOut\" stdDeviation=\"2.0\"/><feColorMatrix in=\"blurOut\" result=\"blurOut2\" type=\"matrix\" values=\"0 0 0 0 0 0 0 0 0 0 0 0 0 0 0 0 0 0 .4 0\"/><feOffset dx=\"4.0\" dy=\"4.0\" in=\"blurOut2\" result=\"blurOut3\"/><feBlend in=\"SourceGraphic\" in2=\"blurOut3\" mode=\"normal\"/></filter></defs><g><!--MD5=[fbc87193dbaf4d95561dea2c320d4a47]\n",
       "cluster E1--><a href=\"psysml:6d002b47-1de9-4cb8-be5e-1d54cb7fff5c\" target=\"_top\" title=\"psysml:6d002b47-1de9-4cb8-be5e-1d54cb7fff5c\" xlink:actuate=\"onRequest\" xlink:href=\"psysml:6d002b47-1de9-4cb8-be5e-1d54cb7fff5c\" xlink:show=\"new\" xlink:title=\"psysml:6d002b47-1de9-4cb8-be5e-1d54cb7fff5c\" xlink:type=\"simple\"><polygon fill=\"#FFFFFF\" filter=\"url(#fa828iosynioz)\" points=\"16,6,117,6,124,28.2969,496,28.2969,496,291,16,291,16,6\" style=\"stroke: #000000; stroke-width: 1.5;\"/><line style=\"stroke: #000000; stroke-width: 1.5;\" x1=\"16\" x2=\"124\" y1=\"28.2969\" y2=\"28.2969\"/><text fill=\"#000000\" font-family=\"sans-serif\" font-size=\"14\" font-weight=\"bold\" lengthAdjust=\"spacingAndGlyphs\" textLength=\"95\" x=\"20\" y=\"20.9951\">CircularImport</text></a><!--MD5=[e4f7fae6ed58524ba242bb0b0d3be6b7]\n",
       "cluster E2--><a href=\"psysml:531dfa6c-428e-410a-a6f8-c5b9ff8ecb34\" target=\"_top\" title=\"psysml:531dfa6c-428e-410a-a6f8-c5b9ff8ecb34\" xlink:actuate=\"onRequest\" xlink:href=\"psysml:531dfa6c-428e-410a-a6f8-c5b9ff8ecb34\" xlink:show=\"new\" xlink:title=\"psysml:531dfa6c-428e-410a-a6f8-c5b9ff8ecb34\" xlink:type=\"simple\"><polygon fill=\"#FFFFFF\" filter=\"url(#fa828iosynioz)\" points=\"331,170,355,170,362,192.2969,433,192.2969,433,267,331,267,331,170\" style=\"stroke: #000000; stroke-width: 1.5;\"/><line style=\"stroke: #000000; stroke-width: 1.5;\" x1=\"331\" x2=\"362\" y1=\"192.2969\" y2=\"192.2969\"/><text fill=\"#000000\" font-family=\"sans-serif\" font-size=\"14\" font-weight=\"bold\" lengthAdjust=\"spacingAndGlyphs\" textLength=\"18\" x=\"335\" y=\"184.9951\">P1</text></a><!--MD5=[f6df4d0ebaf0b5dfb2ced0ae5af7c670]\n",
       "cluster E4--><a href=\"psysml:62a929fe-702a-4460-9e53-8584d6f6435e\" target=\"_top\" title=\"psysml:62a929fe-702a-4460-9e53-8584d6f6435e\" xlink:actuate=\"onRequest\" xlink:href=\"psysml:62a929fe-702a-4460-9e53-8584d6f6435e\" xlink:show=\"new\" xlink:title=\"psysml:62a929fe-702a-4460-9e53-8584d6f6435e\" xlink:type=\"simple\"><polygon fill=\"#FFFFFF\" filter=\"url(#fa828iosynioz)\" points=\"79,170,103,170,110,192.2969,181,192.2969,181,267,79,267,79,170\" style=\"stroke: #000000; stroke-width: 1.5;\"/><line style=\"stroke: #000000; stroke-width: 1.5;\" x1=\"79\" x2=\"110\" y1=\"192.2969\" y2=\"192.2969\"/><text fill=\"#000000\" font-family=\"sans-serif\" font-size=\"14\" font-weight=\"bold\" lengthAdjust=\"spacingAndGlyphs\" textLength=\"18\" x=\"83\" y=\"184.9951\">P2</text></a><!--MD5=[14e3b0961a2654348d326746436168a1]\n",
       "cluster E6--><a href=\"psysml:0f17a3a9-0805-4d7f-ba6a-07da905c8abf\" target=\"_top\" title=\"psysml:0f17a3a9-0805-4d7f-ba6a-07da905c8abf\" xlink:actuate=\"onRequest\" xlink:href=\"psysml:0f17a3a9-0805-4d7f-ba6a-07da905c8abf\" xlink:show=\"new\" xlink:title=\"psysml:0f17a3a9-0805-4d7f-ba6a-07da905c8abf\" xlink:type=\"simple\"><polygon fill=\"#FFFFFF\" filter=\"url(#fa828iosynioz)\" points=\"268,49,314,49,321,71.2969,419,71.2969,419,146,268,146,268,49\" style=\"stroke: #000000; stroke-width: 1.5;\"/><line style=\"stroke: #000000; stroke-width: 1.5;\" x1=\"268\" x2=\"321\" y1=\"71.2969\" y2=\"71.2969\"/><text fill=\"#000000\" font-family=\"sans-serif\" font-size=\"14\" font-weight=\"bold\" lengthAdjust=\"spacingAndGlyphs\" textLength=\"40\" x=\"272\" y=\"63.9951\">Test1</text></a><!--MD5=[7f149f147074ac12df2cb0a7728a5fb0]\n",
       "cluster E9--><a href=\"psysml:a06e7d3b-be80-4318-b479-ae1779c5974b\" target=\"_top\" title=\"psysml:a06e7d3b-be80-4318-b479-ae1779c5974b\" xlink:actuate=\"onRequest\" xlink:href=\"psysml:a06e7d3b-be80-4318-b479-ae1779c5974b\" xlink:show=\"new\" xlink:title=\"psysml:a06e7d3b-be80-4318-b479-ae1779c5974b\" xlink:type=\"simple\"><polygon fill=\"#FFFFFF\" filter=\"url(#fa828iosynioz)\" points=\"93,49,139,49,146,71.2969,244,71.2969,244,146,93,146,93,49\" style=\"stroke: #000000; stroke-width: 1.5;\"/><line style=\"stroke: #000000; stroke-width: 1.5;\" x1=\"93\" x2=\"146\" y1=\"71.2969\" y2=\"71.2969\"/><text fill=\"#000000\" font-family=\"sans-serif\" font-size=\"14\" font-weight=\"bold\" lengthAdjust=\"spacingAndGlyphs\" textLength=\"40\" x=\"97\" y=\"63.9951\">Test2</text></a><!--MD5=[49a0ec8f00dab7302a31f22d0f0fe584]\n",
       "class E12--><a href=\"psysml:665d223a-8fea-436a-b414-0efd919424fb\" target=\"_top\" title=\"psysml:665d223a-8fea-436a-b414-0efd919424fb\" xlink:actuate=\"onRequest\" xlink:href=\"psysml:665d223a-8fea-436a-b414-0efd919424fb\" xlink:show=\"new\" xlink:title=\"psysml:665d223a-8fea-436a-b414-0efd919424fb\" xlink:type=\"simple\"><rect fill=\"#FEFECE\" filter=\"url(#fa828iosynioz)\" height=\"45.9375\" id=\"E12\" rx=\"10\" ry=\"10\" style=\"stroke: #A80036; stroke-width: 1.5;\" width=\"42\" x=\"438\" y=\"84\"/><text fill=\"#000000\" font-family=\"sans-serif\" font-size=\"12\" font-style=\"italic\" lengthAdjust=\"spacingAndGlyphs\" textLength=\"40\" x=\"439\" y=\"100.1387\">«part»</text><text fill=\"#000000\" font-family=\"sans-serif\" font-size=\"12\" lengthAdjust=\"spacingAndGlyphs\" textLength=\"22\" x=\"446\" y=\"114.1074\">x: A</text><line style=\"stroke: #A80036; stroke-width: 1.5;\" x1=\"439\" x2=\"479\" y1=\"121.9375\" y2=\"121.9375\"/></a><!--MD5=[ee3c913d1a06f366521f9ef512b67efe]\n",
       "class E13--><a href=\"psysml:a1b35d80-8992-43c2-aa5d-6937f2901599\" target=\"_top\" title=\"psysml:a1b35d80-8992-43c2-aa5d-6937f2901599\" xlink:actuate=\"onRequest\" xlink:href=\"psysml:a1b35d80-8992-43c2-aa5d-6937f2901599\" xlink:show=\"new\" xlink:title=\"psysml:a1b35d80-8992-43c2-aa5d-6937f2901599\" xlink:type=\"simple\"><rect fill=\"#FEFECE\" filter=\"url(#fa828iosynioz)\" height=\"45.9375\" id=\"E13\" rx=\"10\" ry=\"10\" style=\"stroke: #A80036; stroke-width: 1.5;\" width=\"42\" x=\"32\" y=\"84\"/><text fill=\"#000000\" font-family=\"sans-serif\" font-size=\"12\" font-style=\"italic\" lengthAdjust=\"spacingAndGlyphs\" textLength=\"40\" x=\"33\" y=\"100.1387\">«part»</text><text fill=\"#000000\" font-family=\"sans-serif\" font-size=\"12\" lengthAdjust=\"spacingAndGlyphs\" textLength=\"22\" x=\"40\" y=\"114.1074\">y: B</text><line style=\"stroke: #A80036; stroke-width: 1.5;\" x1=\"33\" x2=\"73\" y1=\"121.9375\" y2=\"121.9375\"/></a><!--MD5=[09b614a08d8cba4a07c9adeb5e0fee81]\n",
       "class E3--><a href=\"psysml:8ceeee5f-0d5a-4279-aee9-7758649ab8be\" target=\"_top\" title=\"psysml:8ceeee5f-0d5a-4279-aee9-7758649ab8be\" xlink:actuate=\"onRequest\" xlink:href=\"psysml:8ceeee5f-0d5a-4279-aee9-7758649ab8be\" xlink:show=\"new\" xlink:title=\"psysml:8ceeee5f-0d5a-4279-aee9-7758649ab8be\" xlink:type=\"simple\"><rect fill=\"#FEFECE\" filter=\"url(#fa828iosynioz)\" height=\"45.9375\" id=\"E3\" style=\"stroke: #A80036; stroke-width: 1.5;\" width=\"70\" x=\"347\" y=\"205\"/><text fill=\"#000000\" font-family=\"sans-serif\" font-size=\"12\" font-style=\"italic\" lengthAdjust=\"spacingAndGlyphs\" textLength=\"68\" x=\"348\" y=\"221.1387\">«part  def»</text><text fill=\"#000000\" font-family=\"sans-serif\" font-size=\"12\" lengthAdjust=\"spacingAndGlyphs\" textLength=\"8\" x=\"378\" y=\"235.1074\">A</text><line style=\"stroke: #A80036; stroke-width: 1.5;\" x1=\"348\" x2=\"416\" y1=\"242.9375\" y2=\"242.9375\"/></a><!--MD5=[270fce915f116d4de14055a7c1d9a0f3]\n",
       "class E5--><a href=\"psysml:90844ba8-c1a9-4c46-b7c9-d1a2572e7365\" target=\"_top\" title=\"psysml:90844ba8-c1a9-4c46-b7c9-d1a2572e7365\" xlink:actuate=\"onRequest\" xlink:href=\"psysml:90844ba8-c1a9-4c46-b7c9-d1a2572e7365\" xlink:show=\"new\" xlink:title=\"psysml:90844ba8-c1a9-4c46-b7c9-d1a2572e7365\" xlink:type=\"simple\"><rect fill=\"#FEFECE\" filter=\"url(#fa828iosynioz)\" height=\"45.9375\" id=\"E5\" style=\"stroke: #A80036; stroke-width: 1.5;\" width=\"70\" x=\"95\" y=\"205\"/><text fill=\"#000000\" font-family=\"sans-serif\" font-size=\"12\" font-style=\"italic\" lengthAdjust=\"spacingAndGlyphs\" textLength=\"68\" x=\"96\" y=\"221.1387\">«part  def»</text><text fill=\"#000000\" font-family=\"sans-serif\" font-size=\"12\" lengthAdjust=\"spacingAndGlyphs\" textLength=\"8\" x=\"126\" y=\"235.1074\">B</text><line style=\"stroke: #A80036; stroke-width: 1.5;\" x1=\"96\" x2=\"164\" y1=\"242.9375\" y2=\"242.9375\"/></a><!--MD5=[2156ba9850f5573cc1fc38a6a4b2f02b]\n",
       "class E7--><a href=\"psysml:9a31b8cb-b3f5-4478-b49b-73e9fd0f6da5\" target=\"_top\" title=\"psysml:9a31b8cb-b3f5-4478-b49b-73e9fd0f6da5\" xlink:actuate=\"onRequest\" xlink:href=\"psysml:9a31b8cb-b3f5-4478-b49b-73e9fd0f6da5\" xlink:show=\"new\" xlink:title=\"psysml:9a31b8cb-b3f5-4478-b49b-73e9fd0f6da5\" xlink:type=\"simple\"><rect fill=\"#FEFECE\" filter=\"url(#fa828iosynioz)\" height=\"45.9375\" id=\"E7\" rx=\"10\" ry=\"10\" style=\"stroke: #A80036; stroke-width: 1.5;\" width=\"42\" x=\"361\" y=\"84\"/><text fill=\"#000000\" font-family=\"sans-serif\" font-size=\"12\" font-style=\"italic\" lengthAdjust=\"spacingAndGlyphs\" textLength=\"40\" x=\"362\" y=\"100.1387\">«part»</text><text fill=\"#000000\" font-family=\"sans-serif\" font-size=\"12\" lengthAdjust=\"spacingAndGlyphs\" textLength=\"22\" x=\"369\" y=\"114.1074\">x: A</text><line style=\"stroke: #A80036; stroke-width: 1.5;\" x1=\"362\" x2=\"402\" y1=\"121.9375\" y2=\"121.9375\"/></a><!--MD5=[b9389687b975829384b498ac4b7476b2]\n",
       "class E8--><a href=\"psysml:084cb86b-cc59-4a41-8b1c-7b7410cc5029\" target=\"_top\" title=\"psysml:084cb86b-cc59-4a41-8b1c-7b7410cc5029\" xlink:actuate=\"onRequest\" xlink:href=\"psysml:084cb86b-cc59-4a41-8b1c-7b7410cc5029\" xlink:show=\"new\" xlink:title=\"psysml:084cb86b-cc59-4a41-8b1c-7b7410cc5029\" xlink:type=\"simple\"><rect fill=\"#FEFECE\" filter=\"url(#fa828iosynioz)\" height=\"45.9375\" id=\"E8\" rx=\"10\" ry=\"10\" style=\"stroke: #A80036; stroke-width: 1.5;\" width=\"42\" x=\"284\" y=\"84\"/><text fill=\"#000000\" font-family=\"sans-serif\" font-size=\"12\" font-style=\"italic\" lengthAdjust=\"spacingAndGlyphs\" textLength=\"40\" x=\"285\" y=\"100.1387\">«part»</text><text fill=\"#000000\" font-family=\"sans-serif\" font-size=\"12\" lengthAdjust=\"spacingAndGlyphs\" textLength=\"22\" x=\"292\" y=\"114.1074\">y: B</text><line style=\"stroke: #A80036; stroke-width: 1.5;\" x1=\"285\" x2=\"325\" y1=\"121.9375\" y2=\"121.9375\"/></a><!--MD5=[96f4274e9e20536e775497830990834d]\n",
       "class E10--><a href=\"psysml:377a64d2-1aa6-4a9b-ba95-6aeb6c1d992f\" target=\"_top\" title=\"psysml:377a64d2-1aa6-4a9b-ba95-6aeb6c1d992f\" xlink:actuate=\"onRequest\" xlink:href=\"psysml:377a64d2-1aa6-4a9b-ba95-6aeb6c1d992f\" xlink:show=\"new\" xlink:title=\"psysml:377a64d2-1aa6-4a9b-ba95-6aeb6c1d992f\" xlink:type=\"simple\"><rect fill=\"#FEFECE\" filter=\"url(#fa828iosynioz)\" height=\"45.9375\" id=\"E10\" rx=\"10\" ry=\"10\" style=\"stroke: #A80036; stroke-width: 1.5;\" width=\"42\" x=\"186\" y=\"84\"/><text fill=\"#000000\" font-family=\"sans-serif\" font-size=\"12\" font-style=\"italic\" lengthAdjust=\"spacingAndGlyphs\" textLength=\"40\" x=\"187\" y=\"100.1387\">«part»</text><text fill=\"#000000\" font-family=\"sans-serif\" font-size=\"12\" lengthAdjust=\"spacingAndGlyphs\" textLength=\"22\" x=\"194\" y=\"114.1074\">x: A</text><line style=\"stroke: #A80036; stroke-width: 1.5;\" x1=\"187\" x2=\"227\" y1=\"121.9375\" y2=\"121.9375\"/></a><!--MD5=[1dd1bfd58a279cf63c5f349dbc8fc6a1]\n",
       "class E11--><a href=\"psysml:7cdd5db6-fbbe-4f9d-b259-3a085be4f068\" target=\"_top\" title=\"psysml:7cdd5db6-fbbe-4f9d-b259-3a085be4f068\" xlink:actuate=\"onRequest\" xlink:href=\"psysml:7cdd5db6-fbbe-4f9d-b259-3a085be4f068\" xlink:show=\"new\" xlink:title=\"psysml:7cdd5db6-fbbe-4f9d-b259-3a085be4f068\" xlink:type=\"simple\"><rect fill=\"#FEFECE\" filter=\"url(#fa828iosynioz)\" height=\"45.9375\" id=\"E11\" rx=\"10\" ry=\"10\" style=\"stroke: #A80036; stroke-width: 1.5;\" width=\"42\" x=\"109\" y=\"84\"/><text fill=\"#000000\" font-family=\"sans-serif\" font-size=\"12\" font-style=\"italic\" lengthAdjust=\"spacingAndGlyphs\" textLength=\"40\" x=\"110\" y=\"100.1387\">«part»</text><text fill=\"#000000\" font-family=\"sans-serif\" font-size=\"12\" lengthAdjust=\"spacingAndGlyphs\" textLength=\"22\" x=\"117\" y=\"114.1074\">y: B</text><line style=\"stroke: #A80036; stroke-width: 1.5;\" x1=\"110\" x2=\"150\" y1=\"121.9375\" y2=\"121.9375\"/></a><!--MD5=[14ccda38c055a5c0da953d572bc50960]\n",
       "link E7 to E3--><a href=\"psysml:0b2c7bde-3c6f-4711-9ee8-a744dba64aec\" target=\"_top\" title=\"psysml:0b2c7bde-3c6f-4711-9ee8-a744dba64aec\" xlink:actuate=\"onRequest\" xlink:href=\"psysml:0b2c7bde-3c6f-4711-9ee8-a744dba64aec\" xlink:show=\"new\" xlink:title=\"psysml:0b2c7bde-3c6f-4711-9ee8-a744dba64aec\" xlink:type=\"simple\"><path d=\"M382,130.1 C382,145.37 382,166.16 382,184.57 \" fill=\"none\" id=\"E7-&gt;E3\" style=\"stroke: #A80036; stroke-width: 1.0;\"/><polygon fill=\"#FFFFFF\" points=\"382,204.61,375,185.61,389,185.61,382,204.61\" style=\"stroke: #A80036; stroke-width: 1.0;\"/><ellipse cx=\"377\" cy=\"179.91\" fill=\"#A80036\" rx=\"2\" ry=\"2\" style=\"stroke: #A80036; stroke-width: 1.0;\"/><ellipse cx=\"387\" cy=\"179.91\" fill=\"#A80036\" rx=\"2\" ry=\"2\" style=\"stroke: #A80036; stroke-width: 1.0;\"/></a><!--MD5=[1ccb2481ffa92f8d51a74ee30c51832a]\n",
       "link E8 to E5--><a href=\"psysml:16eea2e1-2a1c-45c0-89dc-072c92b0db51\" target=\"_top\" title=\"psysml:16eea2e1-2a1c-45c0-89dc-072c92b0db51\" xlink:actuate=\"onRequest\" xlink:href=\"psysml:16eea2e1-2a1c-45c0-89dc-072c92b0db51\" xlink:show=\"new\" xlink:title=\"psysml:16eea2e1-2a1c-45c0-89dc-072c92b0db51\" xlink:type=\"simple\"><path d=\"M283.84,124.59 C272.23,133.52 257.5,144.61 244,154 C224.13,167.82 201.8,182.34 182.21,194.75 \" fill=\"none\" id=\"E8-&gt;E5\" style=\"stroke: #A80036; stroke-width: 1.0;\"/><polygon fill=\"#FFFFFF\" points=\"165.13,205.48,177.4956,189.4459,184.9425,201.301,165.13,205.48\" style=\"stroke: #A80036; stroke-width: 1.0;\"/><ellipse cx=\"183.3862\" cy=\"188.1075\" fill=\"#A80036\" rx=\"2\" ry=\"2\" style=\"stroke: #A80036; stroke-width: 1.0;\"/><ellipse cx=\"188.7054\" cy=\"196.5755\" fill=\"#A80036\" rx=\"2\" ry=\"2\" style=\"stroke: #A80036; stroke-width: 1.0;\"/></a><!--MD5=[feeac5eb423634930294aa81f2d25a4c]\n",
       "link E10 to E3--><a href=\"psysml:0ac0ff17-b961-483b-88a6-6c34531d2872\" target=\"_top\" title=\"psysml:0ac0ff17-b961-483b-88a6-6c34531d2872\" xlink:actuate=\"onRequest\" xlink:href=\"psysml:0ac0ff17-b961-483b-88a6-6c34531d2872\" xlink:show=\"new\" xlink:title=\"psysml:0ac0ff17-b961-483b-88a6-6c34531d2872\" xlink:type=\"simple\"><path d=\"M228.16,124.59 C239.77,133.52 254.5,144.61 268,154 C287.87,167.82 310.2,182.34 329.79,194.75 \" fill=\"none\" id=\"E10-&gt;E3\" style=\"stroke: #A80036; stroke-width: 1.0;\"/><polygon fill=\"#FFFFFF\" points=\"346.87,205.48,327.0575,201.301,334.5044,189.4459,346.87,205.48\" style=\"stroke: #A80036; stroke-width: 1.0;\"/><ellipse cx=\"323.2946\" cy=\"196.5755\" fill=\"#A80036\" rx=\"2\" ry=\"2\" style=\"stroke: #A80036; stroke-width: 1.0;\"/><ellipse cx=\"328.6138\" cy=\"188.1075\" fill=\"#A80036\" rx=\"2\" ry=\"2\" style=\"stroke: #A80036; stroke-width: 1.0;\"/></a><!--MD5=[07b77f6f309248d16187045709d1c26e]\n",
       "link E11 to E5--><a href=\"psysml:7353245a-aec5-4316-8af8-2852475c4dc4\" target=\"_top\" title=\"psysml:7353245a-aec5-4316-8af8-2852475c4dc4\" xlink:actuate=\"onRequest\" xlink:href=\"psysml:7353245a-aec5-4316-8af8-2852475c4dc4\" xlink:show=\"new\" xlink:title=\"psysml:7353245a-aec5-4316-8af8-2852475c4dc4\" xlink:type=\"simple\"><path d=\"M130,130.1 C130,145.37 130,166.16 130,184.57 \" fill=\"none\" id=\"E11-&gt;E5\" style=\"stroke: #A80036; stroke-width: 1.0;\"/><polygon fill=\"#FFFFFF\" points=\"130,204.61,123,185.61,137,185.61,130,204.61\" style=\"stroke: #A80036; stroke-width: 1.0;\"/><ellipse cx=\"125\" cy=\"179.91\" fill=\"#A80036\" rx=\"2\" ry=\"2\" style=\"stroke: #A80036; stroke-width: 1.0;\"/><ellipse cx=\"135\" cy=\"179.91\" fill=\"#A80036\" rx=\"2\" ry=\"2\" style=\"stroke: #A80036; stroke-width: 1.0;\"/></a><!--MD5=[39f41a0e550fb3d73b4d8135617e30a2]\n",
       "link E12 to E3--><a href=\"psysml:6cc10db6-ba98-48a2-919a-a7b34cb2bdfc\" target=\"_top\" title=\"psysml:6cc10db6-ba98-48a2-919a-a7b34cb2bdfc\" xlink:actuate=\"onRequest\" xlink:href=\"psysml:6cc10db6-ba98-48a2-919a-a7b34cb2bdfc\" xlink:show=\"new\" xlink:title=\"psysml:6cc10db6-ba98-48a2-919a-a7b34cb2bdfc\" xlink:type=\"simple\"><path d=\"M444.7,130.1 C434.28,146.2 419.89,168.44 407.53,187.55 \" fill=\"none\" id=\"E12-&gt;E3\" style=\"stroke: #A80036; stroke-width: 1.0;\"/><polygon fill=\"#FFFFFF\" points=\"396.49,204.61,400.9313,184.8546,412.6866,192.4581,396.49,204.61\" style=\"stroke: #A80036; stroke-width: 1.0;\"/><ellipse cx=\"405.7063\" cy=\"181.1547\" fill=\"#A80036\" rx=\"2\" ry=\"2\" style=\"stroke: #A80036; stroke-width: 1.0;\"/><ellipse cx=\"414.103\" cy=\"186.5858\" fill=\"#A80036\" rx=\"2\" ry=\"2\" style=\"stroke: #A80036; stroke-width: 1.0;\"/></a><!--MD5=[066b2d8af59fea80ccdb3d54ad5c1091]\n",
       "link E13 to E5--><a href=\"psysml:fb180b05-d2cf-42d1-bf2a-01829ad20206\" target=\"_top\" title=\"psysml:fb180b05-d2cf-42d1-bf2a-01829ad20206\" xlink:actuate=\"onRequest\" xlink:href=\"psysml:fb180b05-d2cf-42d1-bf2a-01829ad20206\" xlink:show=\"new\" xlink:title=\"psysml:fb180b05-d2cf-42d1-bf2a-01829ad20206\" xlink:type=\"simple\"><path d=\"M67.3,130.1 C77.72,146.2 92.11,168.44 104.47,187.55 \" fill=\"none\" id=\"E13-&gt;E5\" style=\"stroke: #A80036; stroke-width: 1.0;\"/><polygon fill=\"#FFFFFF\" points=\"115.51,204.61,99.3134,192.4581,111.0687,184.8546,115.51,204.61\" style=\"stroke: #A80036; stroke-width: 1.0;\"/><ellipse cx=\"97.897\" cy=\"186.5858\" fill=\"#A80036\" rx=\"2\" ry=\"2\" style=\"stroke: #A80036; stroke-width: 1.0;\"/><ellipse cx=\"106.2937\" cy=\"181.1547\" fill=\"#A80036\" rx=\"2\" ry=\"2\" style=\"stroke: #A80036; stroke-width: 1.0;\"/></a><!--MD5=[cf5cffaf461bd3b89a93a794bb8d11ef]\n",
       "@startuml\r\n",
       "skinparam wrapWidth 300\r\n",
       "hide circle\r\n",
       "\r\n",
       "package \"CircularImport\" as E1  [[psysml:6d002b47-1de9-4cb8-be5e-1d54cb7fff5c ]]  {\r\n",
       "package \"P1\" as E2  [[psysml:531dfa6c-428e-410a-a6f8-c5b9ff8ecb34 ]]  {\r\n",
       "comp def \"A\" as E3  <<(T,blue) part  def>> [[psysml:8ceeee5f-0d5a-4279-aee9-7758649ab8be ]] {\r\n",
       "}\r\n",
       "}\r\n",
       "package \"P2\" as E4  [[psysml:62a929fe-702a-4460-9e53-8584d6f6435e ]]  {\r\n",
       "comp def \"B\" as E5  <<(T,blue) part  def>> [[psysml:90844ba8-c1a9-4c46-b7c9-d1a2572e7365 ]] {\r\n",
       "}\r\n",
       "}\r\n",
       "package \"Test1\" as E6  [[psysml:0f17a3a9-0805-4d7f-ba6a-07da905c8abf ]]  {\r\n",
       "comp usage \"x: A \" as E7  <<(T,blue) part>> [[psysml:9a31b8cb-b3f5-4478-b49b-73e9fd0f6da5 ]] {\r\n",
       "}\r\n",
       "comp usage \"y: B \" as E8  <<(T,blue) part>> [[psysml:084cb86b-cc59-4a41-8b1c-7b7410cc5029 ]] {\r\n",
       "}\r\n",
       "}\r\n",
       "package \"Test2\" as E9  [[psysml:a06e7d3b-be80-4318-b479-ae1779c5974b ]]  {\r\n",
       "comp usage \"x: A \" as E10  <<(T,blue) part>> [[psysml:377a64d2-1aa6-4a9b-ba95-6aeb6c1d992f ]] {\r\n",
       "}\r\n",
       "comp usage \"y: B \" as E11  <<(T,blue) part>> [[psysml:7cdd5db6-fbbe-4f9d-b259-3a085be4f068 ]] {\r\n",
       "}\r\n",
       "}\r\n",
       "comp usage \"x: A \" as E12  <<(T,blue) part>> [[psysml:665d223a-8fea-436a-b414-0efd919424fb ]] {\r\n",
       "}\r\n",
       "comp usage \"y: B \" as E13  <<(T,blue) part>> [[psysml:a1b35d80-8992-43c2-aa5d-6937f2901599 ]] {\r\n",
       "}\r\n",
       "}\r\n",
       "E7 - -:|> E3 [[psysml:0b2c7bde-3c6f-4711-9ee8-a744dba64aec ]] \r\n",
       "E8 - -:|> E5 [[psysml:16eea2e1-2a1c-45c0-89dc-072c92b0db51 ]] \r\n",
       "E10 - -:|> E3 [[psysml:0ac0ff17-b961-483b-88a6-6c34531d2872 ]] \r\n",
       "E11 - -:|> E5 [[psysml:7353245a-aec5-4316-8af8-2852475c4dc4 ]] \r\n",
       "E12 - -:|> E3 [[psysml:6cc10db6-ba98-48a2-919a-a7b34cb2bdfc ]] \r\n",
       "E13 - -:|> E5 [[psysml:fb180b05-d2cf-42d1-bf2a-01829ad20206 ]] \r\n",
       "@enduml\r\n",
       "\n",
       "PlantUML version 1.2020.13(Sat Jun 13 12:26:38 UTC 2020)\n",
       "(EPL source distribution)\n",
       "Java Runtime: OpenJDK Runtime Environment\n",
       "JVM: OpenJDK 64-Bit Server VM\n",
       "Default Encoding: UTF-8\n",
       "Language: en\n",
       "Country: null\n",
       "--></g></svg>"
      ]
     },
     "execution_count": 29,
     "metadata": {},
     "output_type": "execute_result"
    }
   ],
   "source": [
    "%viz --style=\"STDCOLOR\" --view=\"MIXED\" \"CircularImport\""
   ]
  },
  {
   "cell_type": "code",
   "execution_count": 30,
   "id": "c213c668",
   "metadata": {
    "execution": {
     "iopub.execute_input": "2021-12-15T15:15:38.480629Z",
     "iopub.status.busy": "2021-12-15T15:15:38.480215Z",
     "iopub.status.idle": "2021-12-15T15:15:38.547615Z",
     "shell.execute_reply": "2021-12-15T15:15:38.544874Z"
    }
   },
   "outputs": [
    {
     "data": {
      "image/svg+xml": [
       "<?xml version=\"1.0\" encoding=\"UTF-8\" standalone=\"no\"?><svg xmlns=\"http://www.w3.org/2000/svg\" xmlns:xlink=\"http://www.w3.org/1999/xlink\" contentScriptType=\"application/ecmascript\" contentStyleType=\"text/css\" height=\"297px\" preserveAspectRatio=\"none\" style=\"width:674px;height:297px;\" version=\"1.1\" viewBox=\"0 0 674 297\" width=\"674px\" zoomAndPan=\"magnify\"><defs><filter height=\"300%\" id=\"f1go8kc3yh4rks\" width=\"300%\" x=\"-1\" y=\"-1\"><feGaussianBlur result=\"blurOut\" stdDeviation=\"2.0\"/><feColorMatrix in=\"blurOut\" result=\"blurOut2\" type=\"matrix\" values=\"0 0 0 0 0 0 0 0 0 0 0 0 0 0 0 0 0 0 .4 0\"/><feOffset dx=\"4.0\" dy=\"4.0\" in=\"blurOut2\" result=\"blurOut3\"/><feBlend in=\"SourceGraphic\" in2=\"blurOut3\" mode=\"normal\"/></filter></defs><g><!--MD5=[fbc87193dbaf4d95561dea2c320d4a47]\n",
       "cluster E1--><a href=\"psysml:6d002b47-1de9-4cb8-be5e-1d54cb7fff5c\" target=\"_top\" title=\"psysml:6d002b47-1de9-4cb8-be5e-1d54cb7fff5c\" xlink:actuate=\"onRequest\" xlink:href=\"psysml:6d002b47-1de9-4cb8-be5e-1d54cb7fff5c\" xlink:show=\"new\" xlink:title=\"psysml:6d002b47-1de9-4cb8-be5e-1d54cb7fff5c\" xlink:type=\"simple\"><polygon fill=\"#FFFFFF\" filter=\"url(#f1go8kc3yh4rks)\" points=\"16,6,117,6,124,28.2969,652,28.2969,652,285,16,285,16,6\" style=\"stroke: #000000; stroke-width: 1.5;\"/><line style=\"stroke: #000000; stroke-width: 1.5;\" x1=\"16\" x2=\"124\" y1=\"28.2969\" y2=\"28.2969\"/><text fill=\"#000000\" font-family=\"sans-serif\" font-size=\"14\" font-weight=\"bold\" lengthAdjust=\"spacingAndGlyphs\" textLength=\"95\" x=\"20\" y=\"20.9951\">CircularImport</text></a><!--MD5=[e4f7fae6ed58524ba242bb0b0d3be6b7]\n",
       "cluster E2--><a href=\"psysml:531dfa6c-428e-410a-a6f8-c5b9ff8ecb34\" target=\"_top\" title=\"psysml:531dfa6c-428e-410a-a6f8-c5b9ff8ecb34\" xlink:actuate=\"onRequest\" xlink:href=\"psysml:531dfa6c-428e-410a-a6f8-c5b9ff8ecb34\" xlink:show=\"new\" xlink:title=\"psysml:531dfa6c-428e-410a-a6f8-c5b9ff8ecb34\" xlink:type=\"simple\"><polygon fill=\"#FFFFFF\" filter=\"url(#f1go8kc3yh4rks)\" points=\"463,170,487,170,494,192.2969,535,192.2969,535,261,463,261,463,170\" style=\"stroke: #000000; stroke-width: 1.5;\"/><line style=\"stroke: #000000; stroke-width: 1.5;\" x1=\"463\" x2=\"494\" y1=\"192.2969\" y2=\"192.2969\"/><text fill=\"#000000\" font-family=\"sans-serif\" font-size=\"14\" font-weight=\"bold\" lengthAdjust=\"spacingAndGlyphs\" textLength=\"18\" x=\"467\" y=\"184.9951\">P1</text></a><!--MD5=[f6df4d0ebaf0b5dfb2ced0ae5af7c670]\n",
       "cluster E4--><a href=\"psysml:62a929fe-702a-4460-9e53-8584d6f6435e\" target=\"_top\" title=\"psysml:62a929fe-702a-4460-9e53-8584d6f6435e\" xlink:actuate=\"onRequest\" xlink:href=\"psysml:62a929fe-702a-4460-9e53-8584d6f6435e\" xlink:show=\"new\" xlink:title=\"psysml:62a929fe-702a-4460-9e53-8584d6f6435e\" xlink:type=\"simple\"><polygon fill=\"#FFFFFF\" filter=\"url(#f1go8kc3yh4rks)\" points=\"133,170,157,170,164,192.2969,205,192.2969,205,261,133,261,133,170\" style=\"stroke: #000000; stroke-width: 1.5;\"/><line style=\"stroke: #000000; stroke-width: 1.5;\" x1=\"133\" x2=\"164\" y1=\"192.2969\" y2=\"192.2969\"/><text fill=\"#000000\" font-family=\"sans-serif\" font-size=\"14\" font-weight=\"bold\" lengthAdjust=\"spacingAndGlyphs\" textLength=\"18\" x=\"137\" y=\"184.9951\">P2</text></a><!--MD5=[14e3b0961a2654348d326746436168a1]\n",
       "cluster E6--><a href=\"psysml:0f17a3a9-0805-4d7f-ba6a-07da905c8abf\" target=\"_top\" title=\"psysml:0f17a3a9-0805-4d7f-ba6a-07da905c8abf\" xlink:actuate=\"onRequest\" xlink:href=\"psysml:0f17a3a9-0805-4d7f-ba6a-07da905c8abf\" xlink:show=\"new\" xlink:title=\"psysml:0f17a3a9-0805-4d7f-ba6a-07da905c8abf\" xlink:type=\"simple\"><polygon fill=\"#FFFFFF\" filter=\"url(#f1go8kc3yh4rks)\" points=\"346,49,392,49,399,71.2969,549,71.2969,549,146,346,146,346,49\" style=\"stroke: #000000; stroke-width: 1.5;\"/><line style=\"stroke: #000000; stroke-width: 1.5;\" x1=\"346\" x2=\"399\" y1=\"71.2969\" y2=\"71.2969\"/><text fill=\"#000000\" font-family=\"sans-serif\" font-size=\"14\" font-weight=\"bold\" lengthAdjust=\"spacingAndGlyphs\" textLength=\"40\" x=\"350\" y=\"63.9951\">Test1</text></a><!--MD5=[7f149f147074ac12df2cb0a7728a5fb0]\n",
       "cluster E9--><a href=\"psysml:a06e7d3b-be80-4318-b479-ae1779c5974b\" target=\"_top\" title=\"psysml:a06e7d3b-be80-4318-b479-ae1779c5974b\" xlink:actuate=\"onRequest\" xlink:href=\"psysml:a06e7d3b-be80-4318-b479-ae1779c5974b\" xlink:show=\"new\" xlink:title=\"psysml:a06e7d3b-be80-4318-b479-ae1779c5974b\" xlink:type=\"simple\"><polygon fill=\"#FFFFFF\" filter=\"url(#f1go8kc3yh4rks)\" points=\"119,49,165,49,172,71.2969,322,71.2969,322,146,119,146,119,49\" style=\"stroke: #000000; stroke-width: 1.5;\"/><line style=\"stroke: #000000; stroke-width: 1.5;\" x1=\"119\" x2=\"172\" y1=\"71.2969\" y2=\"71.2969\"/><text fill=\"#000000\" font-family=\"sans-serif\" font-size=\"14\" font-weight=\"bold\" lengthAdjust=\"spacingAndGlyphs\" textLength=\"40\" x=\"123\" y=\"63.9951\">Test2</text></a><!--MD5=[49a0ec8f00dab7302a31f22d0f0fe584]\n",
       "class E12--><a href=\"psysml:665d223a-8fea-436a-b414-0efd919424fb\" target=\"_top\" title=\"psysml:665d223a-8fea-436a-b414-0efd919424fb\" xlink:actuate=\"onRequest\" xlink:href=\"psysml:665d223a-8fea-436a-b414-0efd919424fb\" xlink:show=\"new\" xlink:title=\"psysml:665d223a-8fea-436a-b414-0efd919424fb\" xlink:type=\"simple\"><rect fill=\"#FEFECE\" filter=\"url(#f1go8kc3yh4rks)\" height=\"45.9375\" id=\"E12\" rx=\"10\" ry=\"10\" style=\"stroke: #A80036; stroke-width: 1.5;\" width=\"68\" x=\"568\" y=\"84\"/><ellipse cx=\"583\" cy=\"102.9688\" fill=\"#32CD32\" rx=\"11\" ry=\"11\" style=\"stroke: #A80036; stroke-width: 1.0;\"/><path d=\"M579.8125,107.9688 L579.8125,97.375 L583.4219,97.375 Q584.6406,97.375 585.4375,97.8125 Q586.2344,98.2344 586.6094,98.9375 Q587,99.6406 587,100.4844 Q587,101.3281 586.625,102.0156 Q586.2656,102.7031 585.4688,103.125 Q584.6875,103.5313 583.5,103.5313 L581.7656,103.5313 L581.7656,107.9688 L579.8125,107.9688 Z M581.7656,101.9375 L583.375,101.9375 Q584.1875,101.9375 584.6094,101.5313 Q585.0313,101.125 585.0313,100.4844 Q585.0313,99.8594 584.6094,99.4531 Q584.1875,99.0469 583.3906,99.0469 L581.7656,99.0469 L581.7656,101.9375 Z \"/><text fill=\"#000000\" font-family=\"sans-serif\" font-size=\"12\" font-style=\"italic\" lengthAdjust=\"spacingAndGlyphs\" textLength=\"40\" x=\"595\" y=\"100.1387\">«part»</text><text fill=\"#000000\" font-family=\"sans-serif\" font-size=\"12\" lengthAdjust=\"spacingAndGlyphs\" textLength=\"22\" x=\"602\" y=\"114.1074\">x: A</text><line style=\"stroke: #A80036; stroke-width: 1.5;\" x1=\"569\" x2=\"635\" y1=\"121.9375\" y2=\"121.9375\"/></a><!--MD5=[ee3c913d1a06f366521f9ef512b67efe]\n",
       "class E13--><a href=\"psysml:a1b35d80-8992-43c2-aa5d-6937f2901599\" target=\"_top\" title=\"psysml:a1b35d80-8992-43c2-aa5d-6937f2901599\" xlink:actuate=\"onRequest\" xlink:href=\"psysml:a1b35d80-8992-43c2-aa5d-6937f2901599\" xlink:show=\"new\" xlink:title=\"psysml:a1b35d80-8992-43c2-aa5d-6937f2901599\" xlink:type=\"simple\"><rect fill=\"#FEFECE\" filter=\"url(#f1go8kc3yh4rks)\" height=\"45.9375\" id=\"E13\" rx=\"10\" ry=\"10\" style=\"stroke: #A80036; stroke-width: 1.5;\" width=\"68\" x=\"32\" y=\"84\"/><ellipse cx=\"47\" cy=\"102.9688\" fill=\"#32CD32\" rx=\"11\" ry=\"11\" style=\"stroke: #A80036; stroke-width: 1.0;\"/><path d=\"M43.8125,107.9688 L43.8125,97.375 L47.4219,97.375 Q48.6406,97.375 49.4375,97.8125 Q50.2344,98.2344 50.6094,98.9375 Q51,99.6406 51,100.4844 Q51,101.3281 50.625,102.0156 Q50.2656,102.7031 49.4688,103.125 Q48.6875,103.5313 47.5,103.5313 L45.7656,103.5313 L45.7656,107.9688 L43.8125,107.9688 Z M45.7656,101.9375 L47.375,101.9375 Q48.1875,101.9375 48.6094,101.5313 Q49.0313,101.125 49.0313,100.4844 Q49.0313,99.8594 48.6094,99.4531 Q48.1875,99.0469 47.3906,99.0469 L45.7656,99.0469 L45.7656,101.9375 Z \"/><text fill=\"#000000\" font-family=\"sans-serif\" font-size=\"12\" font-style=\"italic\" lengthAdjust=\"spacingAndGlyphs\" textLength=\"40\" x=\"59\" y=\"100.1387\">«part»</text><text fill=\"#000000\" font-family=\"sans-serif\" font-size=\"12\" lengthAdjust=\"spacingAndGlyphs\" textLength=\"22\" x=\"66\" y=\"114.1074\">y: B</text><line style=\"stroke: #A80036; stroke-width: 1.5;\" x1=\"33\" x2=\"99\" y1=\"121.9375\" y2=\"121.9375\"/></a><!--MD5=[09b614a08d8cba4a07c9adeb5e0fee81]\n",
       "class E3--><a href=\"psysml:8ceeee5f-0d5a-4279-aee9-7758649ab8be\" target=\"_top\" title=\"psysml:8ceeee5f-0d5a-4279-aee9-7758649ab8be\" xlink:actuate=\"onRequest\" xlink:href=\"psysml:8ceeee5f-0d5a-4279-aee9-7758649ab8be\" xlink:show=\"new\" xlink:title=\"psysml:8ceeee5f-0d5a-4279-aee9-7758649ab8be\" xlink:type=\"simple\"><rect fill=\"#FEFECE\" filter=\"url(#f1go8kc3yh4rks)\" height=\"40\" id=\"E3\" style=\"stroke: #A80036; stroke-width: 1.5;\" width=\"40\" x=\"479\" y=\"205\"/><ellipse cx=\"494\" cy=\"221\" fill=\"#008000\" rx=\"11\" ry=\"11\" style=\"stroke: #A80036; stroke-width: 1.0;\"/><path d=\"M490.875,226 L490.875,215.4063 L494.1094,215.4063 Q496.0156,215.4063 496.9219,216.1563 Q497.8438,216.9063 497.8438,218.0781 Q497.8438,218.7656 497.4531,219.4219 Q497.0781,220.0781 496.3594,220.375 Q497.2188,220.75 497.7344,221.4375 Q498.25,222.125 498.25,222.9375 Q498.25,224.3125 497.2188,225.1563 Q496.2031,226 494.0938,226 L490.875,226 Z M492.7969,219.6406 L493.9531,219.6406 Q495.0781,219.6406 495.4844,219.2656 Q495.9063,218.875 495.9063,218.25 Q495.9063,217.6719 495.4844,217.3125 Q495.0625,216.9531 494.125,216.9531 L492.7969,216.9531 L492.7969,219.6406 Z M492.7969,224.4219 L494.2969,224.4219 Q495.2031,224.4219 495.7344,224.0313 Q496.2656,223.6406 496.2656,222.8906 Q496.2656,222.125 495.7656,221.6563 Q495.2656,221.1719 494,221.1719 L492.7969,221.1719 L492.7969,224.4219 Z \"/><text fill=\"#000000\" font-family=\"sans-serif\" font-size=\"12\" lengthAdjust=\"spacingAndGlyphs\" textLength=\"8\" x=\"508\" y=\"225.1543\">A</text><line style=\"stroke: #A80036; stroke-width: 1.5;\" x1=\"480\" x2=\"518\" y1=\"237\" y2=\"237\"/></a><!--MD5=[270fce915f116d4de14055a7c1d9a0f3]\n",
       "class E5--><a href=\"psysml:90844ba8-c1a9-4c46-b7c9-d1a2572e7365\" target=\"_top\" title=\"psysml:90844ba8-c1a9-4c46-b7c9-d1a2572e7365\" xlink:actuate=\"onRequest\" xlink:href=\"psysml:90844ba8-c1a9-4c46-b7c9-d1a2572e7365\" xlink:show=\"new\" xlink:title=\"psysml:90844ba8-c1a9-4c46-b7c9-d1a2572e7365\" xlink:type=\"simple\"><rect fill=\"#FEFECE\" filter=\"url(#f1go8kc3yh4rks)\" height=\"40\" id=\"E5\" style=\"stroke: #A80036; stroke-width: 1.5;\" width=\"40\" x=\"149\" y=\"205\"/><ellipse cx=\"164\" cy=\"221\" fill=\"#008000\" rx=\"11\" ry=\"11\" style=\"stroke: #A80036; stroke-width: 1.0;\"/><path d=\"M160.875,226 L160.875,215.4063 L164.1094,215.4063 Q166.0156,215.4063 166.9219,216.1563 Q167.8438,216.9063 167.8438,218.0781 Q167.8438,218.7656 167.4531,219.4219 Q167.0781,220.0781 166.3594,220.375 Q167.2188,220.75 167.7344,221.4375 Q168.25,222.125 168.25,222.9375 Q168.25,224.3125 167.2188,225.1563 Q166.2031,226 164.0938,226 L160.875,226 Z M162.7969,219.6406 L163.9531,219.6406 Q165.0781,219.6406 165.4844,219.2656 Q165.9063,218.875 165.9063,218.25 Q165.9063,217.6719 165.4844,217.3125 Q165.0625,216.9531 164.125,216.9531 L162.7969,216.9531 L162.7969,219.6406 Z M162.7969,224.4219 L164.2969,224.4219 Q165.2031,224.4219 165.7344,224.0313 Q166.2656,223.6406 166.2656,222.8906 Q166.2656,222.125 165.7656,221.6563 Q165.2656,221.1719 164,221.1719 L162.7969,221.1719 L162.7969,224.4219 Z \"/><text fill=\"#000000\" font-family=\"sans-serif\" font-size=\"12\" lengthAdjust=\"spacingAndGlyphs\" textLength=\"8\" x=\"178\" y=\"225.1543\">B</text><line style=\"stroke: #A80036; stroke-width: 1.5;\" x1=\"150\" x2=\"188\" y1=\"237\" y2=\"237\"/></a><!--MD5=[2156ba9850f5573cc1fc38a6a4b2f02b]\n",
       "class E7--><a href=\"psysml:9a31b8cb-b3f5-4478-b49b-73e9fd0f6da5\" target=\"_top\" title=\"psysml:9a31b8cb-b3f5-4478-b49b-73e9fd0f6da5\" xlink:actuate=\"onRequest\" xlink:href=\"psysml:9a31b8cb-b3f5-4478-b49b-73e9fd0f6da5\" xlink:show=\"new\" xlink:title=\"psysml:9a31b8cb-b3f5-4478-b49b-73e9fd0f6da5\" xlink:type=\"simple\"><rect fill=\"#FEFECE\" filter=\"url(#f1go8kc3yh4rks)\" height=\"45.9375\" id=\"E7\" rx=\"10\" ry=\"10\" style=\"stroke: #A80036; stroke-width: 1.5;\" width=\"68\" x=\"465\" y=\"84\"/><ellipse cx=\"480\" cy=\"102.9688\" fill=\"#32CD32\" rx=\"11\" ry=\"11\" style=\"stroke: #A80036; stroke-width: 1.0;\"/><path d=\"M476.8125,107.9688 L476.8125,97.375 L480.4219,97.375 Q481.6406,97.375 482.4375,97.8125 Q483.2344,98.2344 483.6094,98.9375 Q484,99.6406 484,100.4844 Q484,101.3281 483.625,102.0156 Q483.2656,102.7031 482.4688,103.125 Q481.6875,103.5313 480.5,103.5313 L478.7656,103.5313 L478.7656,107.9688 L476.8125,107.9688 Z M478.7656,101.9375 L480.375,101.9375 Q481.1875,101.9375 481.6094,101.5313 Q482.0313,101.125 482.0313,100.4844 Q482.0313,99.8594 481.6094,99.4531 Q481.1875,99.0469 480.3906,99.0469 L478.7656,99.0469 L478.7656,101.9375 Z \"/><text fill=\"#000000\" font-family=\"sans-serif\" font-size=\"12\" font-style=\"italic\" lengthAdjust=\"spacingAndGlyphs\" textLength=\"40\" x=\"492\" y=\"100.1387\">«part»</text><text fill=\"#000000\" font-family=\"sans-serif\" font-size=\"12\" lengthAdjust=\"spacingAndGlyphs\" textLength=\"22\" x=\"499\" y=\"114.1074\">x: A</text><line style=\"stroke: #A80036; stroke-width: 1.5;\" x1=\"466\" x2=\"532\" y1=\"121.9375\" y2=\"121.9375\"/></a><!--MD5=[b9389687b975829384b498ac4b7476b2]\n",
       "class E8--><a href=\"psysml:084cb86b-cc59-4a41-8b1c-7b7410cc5029\" target=\"_top\" title=\"psysml:084cb86b-cc59-4a41-8b1c-7b7410cc5029\" xlink:actuate=\"onRequest\" xlink:href=\"psysml:084cb86b-cc59-4a41-8b1c-7b7410cc5029\" xlink:show=\"new\" xlink:title=\"psysml:084cb86b-cc59-4a41-8b1c-7b7410cc5029\" xlink:type=\"simple\"><rect fill=\"#FEFECE\" filter=\"url(#f1go8kc3yh4rks)\" height=\"45.9375\" id=\"E8\" rx=\"10\" ry=\"10\" style=\"stroke: #A80036; stroke-width: 1.5;\" width=\"68\" x=\"362\" y=\"84\"/><ellipse cx=\"377\" cy=\"102.9688\" fill=\"#32CD32\" rx=\"11\" ry=\"11\" style=\"stroke: #A80036; stroke-width: 1.0;\"/><path d=\"M373.8125,107.9688 L373.8125,97.375 L377.4219,97.375 Q378.6406,97.375 379.4375,97.8125 Q380.2344,98.2344 380.6094,98.9375 Q381,99.6406 381,100.4844 Q381,101.3281 380.625,102.0156 Q380.2656,102.7031 379.4688,103.125 Q378.6875,103.5313 377.5,103.5313 L375.7656,103.5313 L375.7656,107.9688 L373.8125,107.9688 Z M375.7656,101.9375 L377.375,101.9375 Q378.1875,101.9375 378.6094,101.5313 Q379.0313,101.125 379.0313,100.4844 Q379.0313,99.8594 378.6094,99.4531 Q378.1875,99.0469 377.3906,99.0469 L375.7656,99.0469 L375.7656,101.9375 Z \"/><text fill=\"#000000\" font-family=\"sans-serif\" font-size=\"12\" font-style=\"italic\" lengthAdjust=\"spacingAndGlyphs\" textLength=\"40\" x=\"389\" y=\"100.1387\">«part»</text><text fill=\"#000000\" font-family=\"sans-serif\" font-size=\"12\" lengthAdjust=\"spacingAndGlyphs\" textLength=\"22\" x=\"396\" y=\"114.1074\">y: B</text><line style=\"stroke: #A80036; stroke-width: 1.5;\" x1=\"363\" x2=\"429\" y1=\"121.9375\" y2=\"121.9375\"/></a><!--MD5=[96f4274e9e20536e775497830990834d]\n",
       "class E10--><a href=\"psysml:377a64d2-1aa6-4a9b-ba95-6aeb6c1d992f\" target=\"_top\" title=\"psysml:377a64d2-1aa6-4a9b-ba95-6aeb6c1d992f\" xlink:actuate=\"onRequest\" xlink:href=\"psysml:377a64d2-1aa6-4a9b-ba95-6aeb6c1d992f\" xlink:show=\"new\" xlink:title=\"psysml:377a64d2-1aa6-4a9b-ba95-6aeb6c1d992f\" xlink:type=\"simple\"><rect fill=\"#FEFECE\" filter=\"url(#f1go8kc3yh4rks)\" height=\"45.9375\" id=\"E10\" rx=\"10\" ry=\"10\" style=\"stroke: #A80036; stroke-width: 1.5;\" width=\"68\" x=\"238\" y=\"84\"/><ellipse cx=\"253\" cy=\"102.9688\" fill=\"#32CD32\" rx=\"11\" ry=\"11\" style=\"stroke: #A80036; stroke-width: 1.0;\"/><path d=\"M249.8125,107.9688 L249.8125,97.375 L253.4219,97.375 Q254.6406,97.375 255.4375,97.8125 Q256.2344,98.2344 256.6094,98.9375 Q257,99.6406 257,100.4844 Q257,101.3281 256.625,102.0156 Q256.2656,102.7031 255.4688,103.125 Q254.6875,103.5313 253.5,103.5313 L251.7656,103.5313 L251.7656,107.9688 L249.8125,107.9688 Z M251.7656,101.9375 L253.375,101.9375 Q254.1875,101.9375 254.6094,101.5313 Q255.0313,101.125 255.0313,100.4844 Q255.0313,99.8594 254.6094,99.4531 Q254.1875,99.0469 253.3906,99.0469 L251.7656,99.0469 L251.7656,101.9375 Z \"/><text fill=\"#000000\" font-family=\"sans-serif\" font-size=\"12\" font-style=\"italic\" lengthAdjust=\"spacingAndGlyphs\" textLength=\"40\" x=\"265\" y=\"100.1387\">«part»</text><text fill=\"#000000\" font-family=\"sans-serif\" font-size=\"12\" lengthAdjust=\"spacingAndGlyphs\" textLength=\"22\" x=\"272\" y=\"114.1074\">x: A</text><line style=\"stroke: #A80036; stroke-width: 1.5;\" x1=\"239\" x2=\"305\" y1=\"121.9375\" y2=\"121.9375\"/></a><!--MD5=[1dd1bfd58a279cf63c5f349dbc8fc6a1]\n",
       "class E11--><a href=\"psysml:7cdd5db6-fbbe-4f9d-b259-3a085be4f068\" target=\"_top\" title=\"psysml:7cdd5db6-fbbe-4f9d-b259-3a085be4f068\" xlink:actuate=\"onRequest\" xlink:href=\"psysml:7cdd5db6-fbbe-4f9d-b259-3a085be4f068\" xlink:show=\"new\" xlink:title=\"psysml:7cdd5db6-fbbe-4f9d-b259-3a085be4f068\" xlink:type=\"simple\"><rect fill=\"#FEFECE\" filter=\"url(#f1go8kc3yh4rks)\" height=\"45.9375\" id=\"E11\" rx=\"10\" ry=\"10\" style=\"stroke: #A80036; stroke-width: 1.5;\" width=\"68\" x=\"135\" y=\"84\"/><ellipse cx=\"150\" cy=\"102.9688\" fill=\"#32CD32\" rx=\"11\" ry=\"11\" style=\"stroke: #A80036; stroke-width: 1.0;\"/><path d=\"M146.8125,107.9688 L146.8125,97.375 L150.4219,97.375 Q151.6406,97.375 152.4375,97.8125 Q153.2344,98.2344 153.6094,98.9375 Q154,99.6406 154,100.4844 Q154,101.3281 153.625,102.0156 Q153.2656,102.7031 152.4688,103.125 Q151.6875,103.5313 150.5,103.5313 L148.7656,103.5313 L148.7656,107.9688 L146.8125,107.9688 Z M148.7656,101.9375 L150.375,101.9375 Q151.1875,101.9375 151.6094,101.5313 Q152.0313,101.125 152.0313,100.4844 Q152.0313,99.8594 151.6094,99.4531 Q151.1875,99.0469 150.3906,99.0469 L148.7656,99.0469 L148.7656,101.9375 Z \"/><text fill=\"#000000\" font-family=\"sans-serif\" font-size=\"12\" font-style=\"italic\" lengthAdjust=\"spacingAndGlyphs\" textLength=\"40\" x=\"162\" y=\"100.1387\">«part»</text><text fill=\"#000000\" font-family=\"sans-serif\" font-size=\"12\" lengthAdjust=\"spacingAndGlyphs\" textLength=\"22\" x=\"169\" y=\"114.1074\">y: B</text><line style=\"stroke: #A80036; stroke-width: 1.5;\" x1=\"136\" x2=\"202\" y1=\"121.9375\" y2=\"121.9375\"/></a><!--MD5=[14ccda38c055a5c0da953d572bc50960]\n",
       "link E7 to E3--><a href=\"psysml:0b2c7bde-3c6f-4711-9ee8-a744dba64aec\" target=\"_top\" title=\"psysml:0b2c7bde-3c6f-4711-9ee8-a744dba64aec\" xlink:actuate=\"onRequest\" xlink:href=\"psysml:0b2c7bde-3c6f-4711-9ee8-a744dba64aec\" xlink:show=\"new\" xlink:title=\"psysml:0b2c7bde-3c6f-4711-9ee8-a744dba64aec\" xlink:type=\"simple\"><path d=\"M499,130.09 C499,145.42 499,166.27 499,184.42 \" fill=\"none\" id=\"E7-&gt;E3\" style=\"stroke: #A80036; stroke-width: 1.0;\"/><polygon fill=\"#FFFFFF\" points=\"499,204.69,492,185.69,506,185.69,499,204.69\" style=\"stroke: #A80036; stroke-width: 1.0;\"/><ellipse cx=\"494\" cy=\"179.99\" fill=\"#A80036\" rx=\"2\" ry=\"2\" style=\"stroke: #A80036; stroke-width: 1.0;\"/><ellipse cx=\"504\" cy=\"179.99\" fill=\"#A80036\" rx=\"2\" ry=\"2\" style=\"stroke: #A80036; stroke-width: 1.0;\"/></a><!--MD5=[1ccb2481ffa92f8d51a74ee30c51832a]\n",
       "link E8 to E5--><a href=\"psysml:16eea2e1-2a1c-45c0-89dc-072c92b0db51\" target=\"_top\" title=\"psysml:16eea2e1-2a1c-45c0-89dc-072c92b0db51\" xlink:actuate=\"onRequest\" xlink:href=\"psysml:16eea2e1-2a1c-45c0-89dc-072c92b0db51\" xlink:show=\"new\" xlink:title=\"psysml:16eea2e1-2a1c-45c0-89dc-072c92b0db51\" xlink:type=\"simple\"><path d=\"M362.27,130.22 C349.82,138.09 335.46,146.77 322,154 C284.18,174.3 239.36,194.36 208.05,207.77 \" fill=\"none\" id=\"E8-&gt;E5\" style=\"stroke: #A80036; stroke-width: 1.0;\"/><polygon fill=\"#FFFFFF\" points=\"189.2,215.73,203.9741,201.8834,209.4261,214.7782,189.2,215.73\" style=\"stroke: #A80036; stroke-width: 1.0;\"/><ellipse cx=\"210.0029\" cy=\"201.5058\" fill=\"#A80036\" rx=\"2\" ry=\"2\" style=\"stroke: #A80036; stroke-width: 1.0;\"/><ellipse cx=\"213.8972\" cy=\"210.7164\" fill=\"#A80036\" rx=\"2\" ry=\"2\" style=\"stroke: #A80036; stroke-width: 1.0;\"/></a><!--MD5=[feeac5eb423634930294aa81f2d25a4c]\n",
       "link E10 to E3--><a href=\"psysml:0ac0ff17-b961-483b-88a6-6c34531d2872\" target=\"_top\" title=\"psysml:0ac0ff17-b961-483b-88a6-6c34531d2872\" xlink:actuate=\"onRequest\" xlink:href=\"psysml:0ac0ff17-b961-483b-88a6-6c34531d2872\" xlink:show=\"new\" xlink:title=\"psysml:0ac0ff17-b961-483b-88a6-6c34531d2872\" xlink:type=\"simple\"><path d=\"M305.73,130.22 C318.18,138.09 332.54,146.77 346,154 C383.82,174.3 428.64,194.36 459.95,207.77 \" fill=\"none\" id=\"E10-&gt;E3\" style=\"stroke: #A80036; stroke-width: 1.0;\"/><polygon fill=\"#FFFFFF\" points=\"478.8,215.73,458.5739,214.7782,464.0259,201.8834,478.8,215.73\" style=\"stroke: #A80036; stroke-width: 1.0;\"/><ellipse cx=\"454.1028\" cy=\"210.7164\" fill=\"#A80036\" rx=\"2\" ry=\"2\" style=\"stroke: #A80036; stroke-width: 1.0;\"/><ellipse cx=\"457.9971\" cy=\"201.5058\" fill=\"#A80036\" rx=\"2\" ry=\"2\" style=\"stroke: #A80036; stroke-width: 1.0;\"/></a><!--MD5=[07b77f6f309248d16187045709d1c26e]\n",
       "link E11 to E5--><a href=\"psysml:7353245a-aec5-4316-8af8-2852475c4dc4\" target=\"_top\" title=\"psysml:7353245a-aec5-4316-8af8-2852475c4dc4\" xlink:actuate=\"onRequest\" xlink:href=\"psysml:7353245a-aec5-4316-8af8-2852475c4dc4\" xlink:show=\"new\" xlink:title=\"psysml:7353245a-aec5-4316-8af8-2852475c4dc4\" xlink:type=\"simple\"><path d=\"M169,130.09 C169,145.42 169,166.27 169,184.42 \" fill=\"none\" id=\"E11-&gt;E5\" style=\"stroke: #A80036; stroke-width: 1.0;\"/><polygon fill=\"#FFFFFF\" points=\"169,204.69,162,185.69,176,185.69,169,204.69\" style=\"stroke: #A80036; stroke-width: 1.0;\"/><ellipse cx=\"164\" cy=\"179.99\" fill=\"#A80036\" rx=\"2\" ry=\"2\" style=\"stroke: #A80036; stroke-width: 1.0;\"/><ellipse cx=\"174\" cy=\"179.99\" fill=\"#A80036\" rx=\"2\" ry=\"2\" style=\"stroke: #A80036; stroke-width: 1.0;\"/></a><!--MD5=[39f41a0e550fb3d73b4d8135617e30a2]\n",
       "link E12 to E3--><a href=\"psysml:6cc10db6-ba98-48a2-919a-a7b34cb2bdfc\" target=\"_top\" title=\"psysml:6cc10db6-ba98-48a2-919a-a7b34cb2bdfc\" xlink:actuate=\"onRequest\" xlink:href=\"psysml:6cc10db6-ba98-48a2-919a-a7b34cb2bdfc\" xlink:show=\"new\" xlink:title=\"psysml:6cc10db6-ba98-48a2-919a-a7b34cb2bdfc\" xlink:type=\"simple\"><path d=\"M582.38,130.09 C567.43,146.94 546.56,170.44 529.44,189.72 \" fill=\"none\" id=\"E12-&gt;E3\" style=\"stroke: #A80036; stroke-width: 1.0;\"/><polygon fill=\"#FFFFFF\" points=\"516.15,204.69,523.5343,185.836,534.0014,195.1334,516.15,204.69\" style=\"stroke: #A80036; stroke-width: 1.0;\"/><ellipse cx=\"528.815\" cy=\"182.9027\" fill=\"#A80036\" rx=\"2\" ry=\"2\" style=\"stroke: #A80036; stroke-width: 1.0;\"/><ellipse cx=\"536.2914\" cy=\"189.5436\" fill=\"#A80036\" rx=\"2\" ry=\"2\" style=\"stroke: #A80036; stroke-width: 1.0;\"/></a><!--MD5=[066b2d8af59fea80ccdb3d54ad5c1091]\n",
       "link E13 to E5--><a href=\"psysml:fb180b05-d2cf-42d1-bf2a-01829ad20206\" target=\"_top\" title=\"psysml:fb180b05-d2cf-42d1-bf2a-01829ad20206\" xlink:actuate=\"onRequest\" xlink:href=\"psysml:fb180b05-d2cf-42d1-bf2a-01829ad20206\" xlink:show=\"new\" xlink:title=\"psysml:fb180b05-d2cf-42d1-bf2a-01829ad20206\" xlink:type=\"simple\"><path d=\"M85.62,130.09 C100.57,146.94 121.44,170.44 138.56,189.72 \" fill=\"none\" id=\"E13-&gt;E5\" style=\"stroke: #A80036; stroke-width: 1.0;\"/><polygon fill=\"#FFFFFF\" points=\"151.85,204.69,133.9986,195.1334,144.4657,185.836,151.85,204.69\" style=\"stroke: #A80036; stroke-width: 1.0;\"/><ellipse cx=\"131.7086\" cy=\"189.5436\" fill=\"#A80036\" rx=\"2\" ry=\"2\" style=\"stroke: #A80036; stroke-width: 1.0;\"/><ellipse cx=\"139.185\" cy=\"182.9027\" fill=\"#A80036\" rx=\"2\" ry=\"2\" style=\"stroke: #A80036; stroke-width: 1.0;\"/></a><!--MD5=[651464c83a5ac8d412dd26718f5456e7]\n",
       "@startuml\r\n",
       " \r\n",
       "package \"CircularImport\" as E1  [[psysml:6d002b47-1de9-4cb8-be5e-1d54cb7fff5c ]]  {\r\n",
       "package \"P1\" as E2  [[psysml:531dfa6c-428e-410a-a6f8-c5b9ff8ecb34 ]]  {\r\n",
       "comp def \"A\" as E3 << << (B,green) >> [[psysml:8ceeee5f-0d5a-4279-aee9-7758649ab8be ]] {\r\n",
       "}\r\n",
       "}\r\n",
       "package \"P2\" as E4  [[psysml:62a929fe-702a-4460-9e53-8584d6f6435e ]]  {\r\n",
       "comp def \"B\" as E5 << << (B,green) >> [[psysml:90844ba8-c1a9-4c46-b7c9-d1a2572e7365 ]] {\r\n",
       "}\r\n",
       "}\r\n",
       "package \"Test1\" as E6  [[psysml:0f17a3a9-0805-4d7f-ba6a-07da905c8abf ]]  {\r\n",
       "comp usage \"x: A \" as E7 << << (P,limegreen) part>> [[psysml:9a31b8cb-b3f5-4478-b49b-73e9fd0f6da5 ]] {\r\n",
       "}\r\n",
       "comp usage \"y: B \" as E8 << << (P,limegreen) part>> [[psysml:084cb86b-cc59-4a41-8b1c-7b7410cc5029 ]] {\r\n",
       "}\r\n",
       "}\r\n",
       "package \"Test2\" as E9  [[psysml:a06e7d3b-be80-4318-b479-ae1779c5974b ]]  {\r\n",
       "comp usage \"x: A \" as E10 << << (P,limegreen) part>> [[psysml:377a64d2-1aa6-4a9b-ba95-6aeb6c1d992f ]] {\r\n",
       "}\r\n",
       "comp usage \"y: B \" as E11 << << (P,limegreen) part>> [[psysml:7cdd5db6-fbbe-4f9d-b259-3a085be4f068 ]] {\r\n",
       "}\r\n",
       "}\r\n",
       "comp usage \"x: A \" as E12 << << (P,limegreen) part>> [[psysml:665d223a-8fea-436a-b414-0efd919424fb ]] {\r\n",
       "}\r\n",
       "comp usage \"y: B \" as E13 << << (P,limegreen) part>> [[psysml:a1b35d80-8992-43c2-aa5d-6937f2901599 ]] {\r\n",
       "}\r\n",
       "}\r\n",
       "E7 - -:|> E3 [[psysml:0b2c7bde-3c6f-4711-9ee8-a744dba64aec ]] \r\n",
       "E8 - -:|> E5 [[psysml:16eea2e1-2a1c-45c0-89dc-072c92b0db51 ]] \r\n",
       "E10 - -:|> E3 [[psysml:0ac0ff17-b961-483b-88a6-6c34531d2872 ]] \r\n",
       "E11 - -:|> E5 [[psysml:7353245a-aec5-4316-8af8-2852475c4dc4 ]] \r\n",
       "E12 - -:|> E3 [[psysml:6cc10db6-ba98-48a2-919a-a7b34cb2bdfc ]] \r\n",
       "E13 - -:|> E5 [[psysml:fb180b05-d2cf-42d1-bf2a-01829ad20206 ]] \r\n",
       "@enduml\r\n",
       "\n",
       "PlantUML version 1.2020.13(Sat Jun 13 12:26:38 UTC 2020)\n",
       "(EPL source distribution)\n",
       "Java Runtime: OpenJDK Runtime Environment\n",
       "JVM: OpenJDK 64-Bit Server VM\n",
       "Default Encoding: UTF-8\n",
       "Language: en\n",
       "Country: null\n",
       "--></g></svg>"
      ]
     },
     "execution_count": 30,
     "metadata": {},
     "output_type": "execute_result"
    }
   ],
   "source": [
    "%viz --style=\"PLANTUML\" --view=\"Default\" \"CircularImport\""
   ]
  },
  {
   "cell_type": "code",
   "execution_count": 31,
   "id": "6aef7f53",
   "metadata": {
    "execution": {
     "iopub.execute_input": "2021-12-15T15:15:38.594740Z",
     "iopub.status.busy": "2021-12-15T15:15:38.594234Z",
     "iopub.status.idle": "2021-12-15T15:15:38.638828Z",
     "shell.execute_reply": "2021-12-15T15:15:38.636782Z"
    }
   },
   "outputs": [
    {
     "data": {
      "image/svg+xml": [
       "<?xml version=\"1.0\" encoding=\"UTF-8\" standalone=\"no\"?><svg xmlns=\"http://www.w3.org/2000/svg\" xmlns:xlink=\"http://www.w3.org/1999/xlink\" contentScriptType=\"application/ecmascript\" contentStyleType=\"text/css\" height=\"297px\" preserveAspectRatio=\"none\" style=\"width:674px;height:297px;\" version=\"1.1\" viewBox=\"0 0 674 297\" width=\"674px\" zoomAndPan=\"magnify\"><defs><filter height=\"300%\" id=\"f1go8kc3yh4rks\" width=\"300%\" x=\"-1\" y=\"-1\"><feGaussianBlur result=\"blurOut\" stdDeviation=\"2.0\"/><feColorMatrix in=\"blurOut\" result=\"blurOut2\" type=\"matrix\" values=\"0 0 0 0 0 0 0 0 0 0 0 0 0 0 0 0 0 0 .4 0\"/><feOffset dx=\"4.0\" dy=\"4.0\" in=\"blurOut2\" result=\"blurOut3\"/><feBlend in=\"SourceGraphic\" in2=\"blurOut3\" mode=\"normal\"/></filter></defs><g><!--MD5=[fbc87193dbaf4d95561dea2c320d4a47]\n",
       "cluster E1--><a href=\"psysml:6d002b47-1de9-4cb8-be5e-1d54cb7fff5c\" target=\"_top\" title=\"psysml:6d002b47-1de9-4cb8-be5e-1d54cb7fff5c\" xlink:actuate=\"onRequest\" xlink:href=\"psysml:6d002b47-1de9-4cb8-be5e-1d54cb7fff5c\" xlink:show=\"new\" xlink:title=\"psysml:6d002b47-1de9-4cb8-be5e-1d54cb7fff5c\" xlink:type=\"simple\"><polygon fill=\"#FFFFFF\" filter=\"url(#f1go8kc3yh4rks)\" points=\"16,6,117,6,124,28.2969,652,28.2969,652,285,16,285,16,6\" style=\"stroke: #000000; stroke-width: 1.5;\"/><line style=\"stroke: #000000; stroke-width: 1.5;\" x1=\"16\" x2=\"124\" y1=\"28.2969\" y2=\"28.2969\"/><text fill=\"#000000\" font-family=\"sans-serif\" font-size=\"14\" font-weight=\"bold\" lengthAdjust=\"spacingAndGlyphs\" textLength=\"95\" x=\"20\" y=\"20.9951\">CircularImport</text></a><!--MD5=[e4f7fae6ed58524ba242bb0b0d3be6b7]\n",
       "cluster E2--><a href=\"psysml:531dfa6c-428e-410a-a6f8-c5b9ff8ecb34\" target=\"_top\" title=\"psysml:531dfa6c-428e-410a-a6f8-c5b9ff8ecb34\" xlink:actuate=\"onRequest\" xlink:href=\"psysml:531dfa6c-428e-410a-a6f8-c5b9ff8ecb34\" xlink:show=\"new\" xlink:title=\"psysml:531dfa6c-428e-410a-a6f8-c5b9ff8ecb34\" xlink:type=\"simple\"><polygon fill=\"#FFFFFF\" filter=\"url(#f1go8kc3yh4rks)\" points=\"463,170,487,170,494,192.2969,535,192.2969,535,261,463,261,463,170\" style=\"stroke: #000000; stroke-width: 1.5;\"/><line style=\"stroke: #000000; stroke-width: 1.5;\" x1=\"463\" x2=\"494\" y1=\"192.2969\" y2=\"192.2969\"/><text fill=\"#000000\" font-family=\"sans-serif\" font-size=\"14\" font-weight=\"bold\" lengthAdjust=\"spacingAndGlyphs\" textLength=\"18\" x=\"467\" y=\"184.9951\">P1</text></a><!--MD5=[f6df4d0ebaf0b5dfb2ced0ae5af7c670]\n",
       "cluster E4--><a href=\"psysml:62a929fe-702a-4460-9e53-8584d6f6435e\" target=\"_top\" title=\"psysml:62a929fe-702a-4460-9e53-8584d6f6435e\" xlink:actuate=\"onRequest\" xlink:href=\"psysml:62a929fe-702a-4460-9e53-8584d6f6435e\" xlink:show=\"new\" xlink:title=\"psysml:62a929fe-702a-4460-9e53-8584d6f6435e\" xlink:type=\"simple\"><polygon fill=\"#FFFFFF\" filter=\"url(#f1go8kc3yh4rks)\" points=\"133,170,157,170,164,192.2969,205,192.2969,205,261,133,261,133,170\" style=\"stroke: #000000; stroke-width: 1.5;\"/><line style=\"stroke: #000000; stroke-width: 1.5;\" x1=\"133\" x2=\"164\" y1=\"192.2969\" y2=\"192.2969\"/><text fill=\"#000000\" font-family=\"sans-serif\" font-size=\"14\" font-weight=\"bold\" lengthAdjust=\"spacingAndGlyphs\" textLength=\"18\" x=\"137\" y=\"184.9951\">P2</text></a><!--MD5=[14e3b0961a2654348d326746436168a1]\n",
       "cluster E6--><a href=\"psysml:0f17a3a9-0805-4d7f-ba6a-07da905c8abf\" target=\"_top\" title=\"psysml:0f17a3a9-0805-4d7f-ba6a-07da905c8abf\" xlink:actuate=\"onRequest\" xlink:href=\"psysml:0f17a3a9-0805-4d7f-ba6a-07da905c8abf\" xlink:show=\"new\" xlink:title=\"psysml:0f17a3a9-0805-4d7f-ba6a-07da905c8abf\" xlink:type=\"simple\"><polygon fill=\"#FFFFFF\" filter=\"url(#f1go8kc3yh4rks)\" points=\"346,49,392,49,399,71.2969,549,71.2969,549,146,346,146,346,49\" style=\"stroke: #000000; stroke-width: 1.5;\"/><line style=\"stroke: #000000; stroke-width: 1.5;\" x1=\"346\" x2=\"399\" y1=\"71.2969\" y2=\"71.2969\"/><text fill=\"#000000\" font-family=\"sans-serif\" font-size=\"14\" font-weight=\"bold\" lengthAdjust=\"spacingAndGlyphs\" textLength=\"40\" x=\"350\" y=\"63.9951\">Test1</text></a><!--MD5=[7f149f147074ac12df2cb0a7728a5fb0]\n",
       "cluster E9--><a href=\"psysml:a06e7d3b-be80-4318-b479-ae1779c5974b\" target=\"_top\" title=\"psysml:a06e7d3b-be80-4318-b479-ae1779c5974b\" xlink:actuate=\"onRequest\" xlink:href=\"psysml:a06e7d3b-be80-4318-b479-ae1779c5974b\" xlink:show=\"new\" xlink:title=\"psysml:a06e7d3b-be80-4318-b479-ae1779c5974b\" xlink:type=\"simple\"><polygon fill=\"#FFFFFF\" filter=\"url(#f1go8kc3yh4rks)\" points=\"119,49,165,49,172,71.2969,322,71.2969,322,146,119,146,119,49\" style=\"stroke: #000000; stroke-width: 1.5;\"/><line style=\"stroke: #000000; stroke-width: 1.5;\" x1=\"119\" x2=\"172\" y1=\"71.2969\" y2=\"71.2969\"/><text fill=\"#000000\" font-family=\"sans-serif\" font-size=\"14\" font-weight=\"bold\" lengthAdjust=\"spacingAndGlyphs\" textLength=\"40\" x=\"123\" y=\"63.9951\">Test2</text></a><!--MD5=[49a0ec8f00dab7302a31f22d0f0fe584]\n",
       "class E12--><a href=\"psysml:665d223a-8fea-436a-b414-0efd919424fb\" target=\"_top\" title=\"psysml:665d223a-8fea-436a-b414-0efd919424fb\" xlink:actuate=\"onRequest\" xlink:href=\"psysml:665d223a-8fea-436a-b414-0efd919424fb\" xlink:show=\"new\" xlink:title=\"psysml:665d223a-8fea-436a-b414-0efd919424fb\" xlink:type=\"simple\"><rect fill=\"#FEFECE\" filter=\"url(#f1go8kc3yh4rks)\" height=\"45.9375\" id=\"E12\" rx=\"10\" ry=\"10\" style=\"stroke: #A80036; stroke-width: 1.5;\" width=\"68\" x=\"568\" y=\"84\"/><ellipse cx=\"583\" cy=\"102.9688\" fill=\"#32CD32\" rx=\"11\" ry=\"11\" style=\"stroke: #A80036; stroke-width: 1.0;\"/><path d=\"M579.8125,107.9688 L579.8125,97.375 L583.4219,97.375 Q584.6406,97.375 585.4375,97.8125 Q586.2344,98.2344 586.6094,98.9375 Q587,99.6406 587,100.4844 Q587,101.3281 586.625,102.0156 Q586.2656,102.7031 585.4688,103.125 Q584.6875,103.5313 583.5,103.5313 L581.7656,103.5313 L581.7656,107.9688 L579.8125,107.9688 Z M581.7656,101.9375 L583.375,101.9375 Q584.1875,101.9375 584.6094,101.5313 Q585.0313,101.125 585.0313,100.4844 Q585.0313,99.8594 584.6094,99.4531 Q584.1875,99.0469 583.3906,99.0469 L581.7656,99.0469 L581.7656,101.9375 Z \"/><text fill=\"#000000\" font-family=\"sans-serif\" font-size=\"12\" font-style=\"italic\" lengthAdjust=\"spacingAndGlyphs\" textLength=\"40\" x=\"595\" y=\"100.1387\">«part»</text><text fill=\"#000000\" font-family=\"sans-serif\" font-size=\"12\" lengthAdjust=\"spacingAndGlyphs\" textLength=\"22\" x=\"602\" y=\"114.1074\">x: A</text><line style=\"stroke: #A80036; stroke-width: 1.5;\" x1=\"569\" x2=\"635\" y1=\"121.9375\" y2=\"121.9375\"/></a><!--MD5=[ee3c913d1a06f366521f9ef512b67efe]\n",
       "class E13--><a href=\"psysml:a1b35d80-8992-43c2-aa5d-6937f2901599\" target=\"_top\" title=\"psysml:a1b35d80-8992-43c2-aa5d-6937f2901599\" xlink:actuate=\"onRequest\" xlink:href=\"psysml:a1b35d80-8992-43c2-aa5d-6937f2901599\" xlink:show=\"new\" xlink:title=\"psysml:a1b35d80-8992-43c2-aa5d-6937f2901599\" xlink:type=\"simple\"><rect fill=\"#FEFECE\" filter=\"url(#f1go8kc3yh4rks)\" height=\"45.9375\" id=\"E13\" rx=\"10\" ry=\"10\" style=\"stroke: #A80036; stroke-width: 1.5;\" width=\"68\" x=\"32\" y=\"84\"/><ellipse cx=\"47\" cy=\"102.9688\" fill=\"#32CD32\" rx=\"11\" ry=\"11\" style=\"stroke: #A80036; stroke-width: 1.0;\"/><path d=\"M43.8125,107.9688 L43.8125,97.375 L47.4219,97.375 Q48.6406,97.375 49.4375,97.8125 Q50.2344,98.2344 50.6094,98.9375 Q51,99.6406 51,100.4844 Q51,101.3281 50.625,102.0156 Q50.2656,102.7031 49.4688,103.125 Q48.6875,103.5313 47.5,103.5313 L45.7656,103.5313 L45.7656,107.9688 L43.8125,107.9688 Z M45.7656,101.9375 L47.375,101.9375 Q48.1875,101.9375 48.6094,101.5313 Q49.0313,101.125 49.0313,100.4844 Q49.0313,99.8594 48.6094,99.4531 Q48.1875,99.0469 47.3906,99.0469 L45.7656,99.0469 L45.7656,101.9375 Z \"/><text fill=\"#000000\" font-family=\"sans-serif\" font-size=\"12\" font-style=\"italic\" lengthAdjust=\"spacingAndGlyphs\" textLength=\"40\" x=\"59\" y=\"100.1387\">«part»</text><text fill=\"#000000\" font-family=\"sans-serif\" font-size=\"12\" lengthAdjust=\"spacingAndGlyphs\" textLength=\"22\" x=\"66\" y=\"114.1074\">y: B</text><line style=\"stroke: #A80036; stroke-width: 1.5;\" x1=\"33\" x2=\"99\" y1=\"121.9375\" y2=\"121.9375\"/></a><!--MD5=[09b614a08d8cba4a07c9adeb5e0fee81]\n",
       "class E3--><a href=\"psysml:8ceeee5f-0d5a-4279-aee9-7758649ab8be\" target=\"_top\" title=\"psysml:8ceeee5f-0d5a-4279-aee9-7758649ab8be\" xlink:actuate=\"onRequest\" xlink:href=\"psysml:8ceeee5f-0d5a-4279-aee9-7758649ab8be\" xlink:show=\"new\" xlink:title=\"psysml:8ceeee5f-0d5a-4279-aee9-7758649ab8be\" xlink:type=\"simple\"><rect fill=\"#FEFECE\" filter=\"url(#f1go8kc3yh4rks)\" height=\"40\" id=\"E3\" style=\"stroke: #A80036; stroke-width: 1.5;\" width=\"40\" x=\"479\" y=\"205\"/><ellipse cx=\"494\" cy=\"221\" fill=\"#008000\" rx=\"11\" ry=\"11\" style=\"stroke: #A80036; stroke-width: 1.0;\"/><path d=\"M490.875,226 L490.875,215.4063 L494.1094,215.4063 Q496.0156,215.4063 496.9219,216.1563 Q497.8438,216.9063 497.8438,218.0781 Q497.8438,218.7656 497.4531,219.4219 Q497.0781,220.0781 496.3594,220.375 Q497.2188,220.75 497.7344,221.4375 Q498.25,222.125 498.25,222.9375 Q498.25,224.3125 497.2188,225.1563 Q496.2031,226 494.0938,226 L490.875,226 Z M492.7969,219.6406 L493.9531,219.6406 Q495.0781,219.6406 495.4844,219.2656 Q495.9063,218.875 495.9063,218.25 Q495.9063,217.6719 495.4844,217.3125 Q495.0625,216.9531 494.125,216.9531 L492.7969,216.9531 L492.7969,219.6406 Z M492.7969,224.4219 L494.2969,224.4219 Q495.2031,224.4219 495.7344,224.0313 Q496.2656,223.6406 496.2656,222.8906 Q496.2656,222.125 495.7656,221.6563 Q495.2656,221.1719 494,221.1719 L492.7969,221.1719 L492.7969,224.4219 Z \"/><text fill=\"#000000\" font-family=\"sans-serif\" font-size=\"12\" lengthAdjust=\"spacingAndGlyphs\" textLength=\"8\" x=\"508\" y=\"225.1543\">A</text><line style=\"stroke: #A80036; stroke-width: 1.5;\" x1=\"480\" x2=\"518\" y1=\"237\" y2=\"237\"/></a><!--MD5=[270fce915f116d4de14055a7c1d9a0f3]\n",
       "class E5--><a href=\"psysml:90844ba8-c1a9-4c46-b7c9-d1a2572e7365\" target=\"_top\" title=\"psysml:90844ba8-c1a9-4c46-b7c9-d1a2572e7365\" xlink:actuate=\"onRequest\" xlink:href=\"psysml:90844ba8-c1a9-4c46-b7c9-d1a2572e7365\" xlink:show=\"new\" xlink:title=\"psysml:90844ba8-c1a9-4c46-b7c9-d1a2572e7365\" xlink:type=\"simple\"><rect fill=\"#FEFECE\" filter=\"url(#f1go8kc3yh4rks)\" height=\"40\" id=\"E5\" style=\"stroke: #A80036; stroke-width: 1.5;\" width=\"40\" x=\"149\" y=\"205\"/><ellipse cx=\"164\" cy=\"221\" fill=\"#008000\" rx=\"11\" ry=\"11\" style=\"stroke: #A80036; stroke-width: 1.0;\"/><path d=\"M160.875,226 L160.875,215.4063 L164.1094,215.4063 Q166.0156,215.4063 166.9219,216.1563 Q167.8438,216.9063 167.8438,218.0781 Q167.8438,218.7656 167.4531,219.4219 Q167.0781,220.0781 166.3594,220.375 Q167.2188,220.75 167.7344,221.4375 Q168.25,222.125 168.25,222.9375 Q168.25,224.3125 167.2188,225.1563 Q166.2031,226 164.0938,226 L160.875,226 Z M162.7969,219.6406 L163.9531,219.6406 Q165.0781,219.6406 165.4844,219.2656 Q165.9063,218.875 165.9063,218.25 Q165.9063,217.6719 165.4844,217.3125 Q165.0625,216.9531 164.125,216.9531 L162.7969,216.9531 L162.7969,219.6406 Z M162.7969,224.4219 L164.2969,224.4219 Q165.2031,224.4219 165.7344,224.0313 Q166.2656,223.6406 166.2656,222.8906 Q166.2656,222.125 165.7656,221.6563 Q165.2656,221.1719 164,221.1719 L162.7969,221.1719 L162.7969,224.4219 Z \"/><text fill=\"#000000\" font-family=\"sans-serif\" font-size=\"12\" lengthAdjust=\"spacingAndGlyphs\" textLength=\"8\" x=\"178\" y=\"225.1543\">B</text><line style=\"stroke: #A80036; stroke-width: 1.5;\" x1=\"150\" x2=\"188\" y1=\"237\" y2=\"237\"/></a><!--MD5=[2156ba9850f5573cc1fc38a6a4b2f02b]\n",
       "class E7--><a href=\"psysml:9a31b8cb-b3f5-4478-b49b-73e9fd0f6da5\" target=\"_top\" title=\"psysml:9a31b8cb-b3f5-4478-b49b-73e9fd0f6da5\" xlink:actuate=\"onRequest\" xlink:href=\"psysml:9a31b8cb-b3f5-4478-b49b-73e9fd0f6da5\" xlink:show=\"new\" xlink:title=\"psysml:9a31b8cb-b3f5-4478-b49b-73e9fd0f6da5\" xlink:type=\"simple\"><rect fill=\"#FEFECE\" filter=\"url(#f1go8kc3yh4rks)\" height=\"45.9375\" id=\"E7\" rx=\"10\" ry=\"10\" style=\"stroke: #A80036; stroke-width: 1.5;\" width=\"68\" x=\"465\" y=\"84\"/><ellipse cx=\"480\" cy=\"102.9688\" fill=\"#32CD32\" rx=\"11\" ry=\"11\" style=\"stroke: #A80036; stroke-width: 1.0;\"/><path d=\"M476.8125,107.9688 L476.8125,97.375 L480.4219,97.375 Q481.6406,97.375 482.4375,97.8125 Q483.2344,98.2344 483.6094,98.9375 Q484,99.6406 484,100.4844 Q484,101.3281 483.625,102.0156 Q483.2656,102.7031 482.4688,103.125 Q481.6875,103.5313 480.5,103.5313 L478.7656,103.5313 L478.7656,107.9688 L476.8125,107.9688 Z M478.7656,101.9375 L480.375,101.9375 Q481.1875,101.9375 481.6094,101.5313 Q482.0313,101.125 482.0313,100.4844 Q482.0313,99.8594 481.6094,99.4531 Q481.1875,99.0469 480.3906,99.0469 L478.7656,99.0469 L478.7656,101.9375 Z \"/><text fill=\"#000000\" font-family=\"sans-serif\" font-size=\"12\" font-style=\"italic\" lengthAdjust=\"spacingAndGlyphs\" textLength=\"40\" x=\"492\" y=\"100.1387\">«part»</text><text fill=\"#000000\" font-family=\"sans-serif\" font-size=\"12\" lengthAdjust=\"spacingAndGlyphs\" textLength=\"22\" x=\"499\" y=\"114.1074\">x: A</text><line style=\"stroke: #A80036; stroke-width: 1.5;\" x1=\"466\" x2=\"532\" y1=\"121.9375\" y2=\"121.9375\"/></a><!--MD5=[b9389687b975829384b498ac4b7476b2]\n",
       "class E8--><a href=\"psysml:084cb86b-cc59-4a41-8b1c-7b7410cc5029\" target=\"_top\" title=\"psysml:084cb86b-cc59-4a41-8b1c-7b7410cc5029\" xlink:actuate=\"onRequest\" xlink:href=\"psysml:084cb86b-cc59-4a41-8b1c-7b7410cc5029\" xlink:show=\"new\" xlink:title=\"psysml:084cb86b-cc59-4a41-8b1c-7b7410cc5029\" xlink:type=\"simple\"><rect fill=\"#FEFECE\" filter=\"url(#f1go8kc3yh4rks)\" height=\"45.9375\" id=\"E8\" rx=\"10\" ry=\"10\" style=\"stroke: #A80036; stroke-width: 1.5;\" width=\"68\" x=\"362\" y=\"84\"/><ellipse cx=\"377\" cy=\"102.9688\" fill=\"#32CD32\" rx=\"11\" ry=\"11\" style=\"stroke: #A80036; stroke-width: 1.0;\"/><path d=\"M373.8125,107.9688 L373.8125,97.375 L377.4219,97.375 Q378.6406,97.375 379.4375,97.8125 Q380.2344,98.2344 380.6094,98.9375 Q381,99.6406 381,100.4844 Q381,101.3281 380.625,102.0156 Q380.2656,102.7031 379.4688,103.125 Q378.6875,103.5313 377.5,103.5313 L375.7656,103.5313 L375.7656,107.9688 L373.8125,107.9688 Z M375.7656,101.9375 L377.375,101.9375 Q378.1875,101.9375 378.6094,101.5313 Q379.0313,101.125 379.0313,100.4844 Q379.0313,99.8594 378.6094,99.4531 Q378.1875,99.0469 377.3906,99.0469 L375.7656,99.0469 L375.7656,101.9375 Z \"/><text fill=\"#000000\" font-family=\"sans-serif\" font-size=\"12\" font-style=\"italic\" lengthAdjust=\"spacingAndGlyphs\" textLength=\"40\" x=\"389\" y=\"100.1387\">«part»</text><text fill=\"#000000\" font-family=\"sans-serif\" font-size=\"12\" lengthAdjust=\"spacingAndGlyphs\" textLength=\"22\" x=\"396\" y=\"114.1074\">y: B</text><line style=\"stroke: #A80036; stroke-width: 1.5;\" x1=\"363\" x2=\"429\" y1=\"121.9375\" y2=\"121.9375\"/></a><!--MD5=[96f4274e9e20536e775497830990834d]\n",
       "class E10--><a href=\"psysml:377a64d2-1aa6-4a9b-ba95-6aeb6c1d992f\" target=\"_top\" title=\"psysml:377a64d2-1aa6-4a9b-ba95-6aeb6c1d992f\" xlink:actuate=\"onRequest\" xlink:href=\"psysml:377a64d2-1aa6-4a9b-ba95-6aeb6c1d992f\" xlink:show=\"new\" xlink:title=\"psysml:377a64d2-1aa6-4a9b-ba95-6aeb6c1d992f\" xlink:type=\"simple\"><rect fill=\"#FEFECE\" filter=\"url(#f1go8kc3yh4rks)\" height=\"45.9375\" id=\"E10\" rx=\"10\" ry=\"10\" style=\"stroke: #A80036; stroke-width: 1.5;\" width=\"68\" x=\"238\" y=\"84\"/><ellipse cx=\"253\" cy=\"102.9688\" fill=\"#32CD32\" rx=\"11\" ry=\"11\" style=\"stroke: #A80036; stroke-width: 1.0;\"/><path d=\"M249.8125,107.9688 L249.8125,97.375 L253.4219,97.375 Q254.6406,97.375 255.4375,97.8125 Q256.2344,98.2344 256.6094,98.9375 Q257,99.6406 257,100.4844 Q257,101.3281 256.625,102.0156 Q256.2656,102.7031 255.4688,103.125 Q254.6875,103.5313 253.5,103.5313 L251.7656,103.5313 L251.7656,107.9688 L249.8125,107.9688 Z M251.7656,101.9375 L253.375,101.9375 Q254.1875,101.9375 254.6094,101.5313 Q255.0313,101.125 255.0313,100.4844 Q255.0313,99.8594 254.6094,99.4531 Q254.1875,99.0469 253.3906,99.0469 L251.7656,99.0469 L251.7656,101.9375 Z \"/><text fill=\"#000000\" font-family=\"sans-serif\" font-size=\"12\" font-style=\"italic\" lengthAdjust=\"spacingAndGlyphs\" textLength=\"40\" x=\"265\" y=\"100.1387\">«part»</text><text fill=\"#000000\" font-family=\"sans-serif\" font-size=\"12\" lengthAdjust=\"spacingAndGlyphs\" textLength=\"22\" x=\"272\" y=\"114.1074\">x: A</text><line style=\"stroke: #A80036; stroke-width: 1.5;\" x1=\"239\" x2=\"305\" y1=\"121.9375\" y2=\"121.9375\"/></a><!--MD5=[1dd1bfd58a279cf63c5f349dbc8fc6a1]\n",
       "class E11--><a href=\"psysml:7cdd5db6-fbbe-4f9d-b259-3a085be4f068\" target=\"_top\" title=\"psysml:7cdd5db6-fbbe-4f9d-b259-3a085be4f068\" xlink:actuate=\"onRequest\" xlink:href=\"psysml:7cdd5db6-fbbe-4f9d-b259-3a085be4f068\" xlink:show=\"new\" xlink:title=\"psysml:7cdd5db6-fbbe-4f9d-b259-3a085be4f068\" xlink:type=\"simple\"><rect fill=\"#FEFECE\" filter=\"url(#f1go8kc3yh4rks)\" height=\"45.9375\" id=\"E11\" rx=\"10\" ry=\"10\" style=\"stroke: #A80036; stroke-width: 1.5;\" width=\"68\" x=\"135\" y=\"84\"/><ellipse cx=\"150\" cy=\"102.9688\" fill=\"#32CD32\" rx=\"11\" ry=\"11\" style=\"stroke: #A80036; stroke-width: 1.0;\"/><path d=\"M146.8125,107.9688 L146.8125,97.375 L150.4219,97.375 Q151.6406,97.375 152.4375,97.8125 Q153.2344,98.2344 153.6094,98.9375 Q154,99.6406 154,100.4844 Q154,101.3281 153.625,102.0156 Q153.2656,102.7031 152.4688,103.125 Q151.6875,103.5313 150.5,103.5313 L148.7656,103.5313 L148.7656,107.9688 L146.8125,107.9688 Z M148.7656,101.9375 L150.375,101.9375 Q151.1875,101.9375 151.6094,101.5313 Q152.0313,101.125 152.0313,100.4844 Q152.0313,99.8594 151.6094,99.4531 Q151.1875,99.0469 150.3906,99.0469 L148.7656,99.0469 L148.7656,101.9375 Z \"/><text fill=\"#000000\" font-family=\"sans-serif\" font-size=\"12\" font-style=\"italic\" lengthAdjust=\"spacingAndGlyphs\" textLength=\"40\" x=\"162\" y=\"100.1387\">«part»</text><text fill=\"#000000\" font-family=\"sans-serif\" font-size=\"12\" lengthAdjust=\"spacingAndGlyphs\" textLength=\"22\" x=\"169\" y=\"114.1074\">y: B</text><line style=\"stroke: #A80036; stroke-width: 1.5;\" x1=\"136\" x2=\"202\" y1=\"121.9375\" y2=\"121.9375\"/></a><!--MD5=[14ccda38c055a5c0da953d572bc50960]\n",
       "link E7 to E3--><a href=\"psysml:0b2c7bde-3c6f-4711-9ee8-a744dba64aec\" target=\"_top\" title=\"psysml:0b2c7bde-3c6f-4711-9ee8-a744dba64aec\" xlink:actuate=\"onRequest\" xlink:href=\"psysml:0b2c7bde-3c6f-4711-9ee8-a744dba64aec\" xlink:show=\"new\" xlink:title=\"psysml:0b2c7bde-3c6f-4711-9ee8-a744dba64aec\" xlink:type=\"simple\"><path d=\"M499,130.09 C499,145.42 499,166.27 499,184.42 \" fill=\"none\" id=\"E7-&gt;E3\" style=\"stroke: #A80036; stroke-width: 1.0;\"/><polygon fill=\"#FFFFFF\" points=\"499,204.69,492,185.69,506,185.69,499,204.69\" style=\"stroke: #A80036; stroke-width: 1.0;\"/><ellipse cx=\"494\" cy=\"179.99\" fill=\"#A80036\" rx=\"2\" ry=\"2\" style=\"stroke: #A80036; stroke-width: 1.0;\"/><ellipse cx=\"504\" cy=\"179.99\" fill=\"#A80036\" rx=\"2\" ry=\"2\" style=\"stroke: #A80036; stroke-width: 1.0;\"/></a><!--MD5=[1ccb2481ffa92f8d51a74ee30c51832a]\n",
       "link E8 to E5--><a href=\"psysml:16eea2e1-2a1c-45c0-89dc-072c92b0db51\" target=\"_top\" title=\"psysml:16eea2e1-2a1c-45c0-89dc-072c92b0db51\" xlink:actuate=\"onRequest\" xlink:href=\"psysml:16eea2e1-2a1c-45c0-89dc-072c92b0db51\" xlink:show=\"new\" xlink:title=\"psysml:16eea2e1-2a1c-45c0-89dc-072c92b0db51\" xlink:type=\"simple\"><path d=\"M362.27,130.22 C349.82,138.09 335.46,146.77 322,154 C284.18,174.3 239.36,194.36 208.05,207.77 \" fill=\"none\" id=\"E8-&gt;E5\" style=\"stroke: #A80036; stroke-width: 1.0;\"/><polygon fill=\"#FFFFFF\" points=\"189.2,215.73,203.9741,201.8834,209.4261,214.7782,189.2,215.73\" style=\"stroke: #A80036; stroke-width: 1.0;\"/><ellipse cx=\"210.0029\" cy=\"201.5058\" fill=\"#A80036\" rx=\"2\" ry=\"2\" style=\"stroke: #A80036; stroke-width: 1.0;\"/><ellipse cx=\"213.8972\" cy=\"210.7164\" fill=\"#A80036\" rx=\"2\" ry=\"2\" style=\"stroke: #A80036; stroke-width: 1.0;\"/></a><!--MD5=[feeac5eb423634930294aa81f2d25a4c]\n",
       "link E10 to E3--><a href=\"psysml:0ac0ff17-b961-483b-88a6-6c34531d2872\" target=\"_top\" title=\"psysml:0ac0ff17-b961-483b-88a6-6c34531d2872\" xlink:actuate=\"onRequest\" xlink:href=\"psysml:0ac0ff17-b961-483b-88a6-6c34531d2872\" xlink:show=\"new\" xlink:title=\"psysml:0ac0ff17-b961-483b-88a6-6c34531d2872\" xlink:type=\"simple\"><path d=\"M305.73,130.22 C318.18,138.09 332.54,146.77 346,154 C383.82,174.3 428.64,194.36 459.95,207.77 \" fill=\"none\" id=\"E10-&gt;E3\" style=\"stroke: #A80036; stroke-width: 1.0;\"/><polygon fill=\"#FFFFFF\" points=\"478.8,215.73,458.5739,214.7782,464.0259,201.8834,478.8,215.73\" style=\"stroke: #A80036; stroke-width: 1.0;\"/><ellipse cx=\"454.1028\" cy=\"210.7164\" fill=\"#A80036\" rx=\"2\" ry=\"2\" style=\"stroke: #A80036; stroke-width: 1.0;\"/><ellipse cx=\"457.9971\" cy=\"201.5058\" fill=\"#A80036\" rx=\"2\" ry=\"2\" style=\"stroke: #A80036; stroke-width: 1.0;\"/></a><!--MD5=[07b77f6f309248d16187045709d1c26e]\n",
       "link E11 to E5--><a href=\"psysml:7353245a-aec5-4316-8af8-2852475c4dc4\" target=\"_top\" title=\"psysml:7353245a-aec5-4316-8af8-2852475c4dc4\" xlink:actuate=\"onRequest\" xlink:href=\"psysml:7353245a-aec5-4316-8af8-2852475c4dc4\" xlink:show=\"new\" xlink:title=\"psysml:7353245a-aec5-4316-8af8-2852475c4dc4\" xlink:type=\"simple\"><path d=\"M169,130.09 C169,145.42 169,166.27 169,184.42 \" fill=\"none\" id=\"E11-&gt;E5\" style=\"stroke: #A80036; stroke-width: 1.0;\"/><polygon fill=\"#FFFFFF\" points=\"169,204.69,162,185.69,176,185.69,169,204.69\" style=\"stroke: #A80036; stroke-width: 1.0;\"/><ellipse cx=\"164\" cy=\"179.99\" fill=\"#A80036\" rx=\"2\" ry=\"2\" style=\"stroke: #A80036; stroke-width: 1.0;\"/><ellipse cx=\"174\" cy=\"179.99\" fill=\"#A80036\" rx=\"2\" ry=\"2\" style=\"stroke: #A80036; stroke-width: 1.0;\"/></a><!--MD5=[39f41a0e550fb3d73b4d8135617e30a2]\n",
       "link E12 to E3--><a href=\"psysml:6cc10db6-ba98-48a2-919a-a7b34cb2bdfc\" target=\"_top\" title=\"psysml:6cc10db6-ba98-48a2-919a-a7b34cb2bdfc\" xlink:actuate=\"onRequest\" xlink:href=\"psysml:6cc10db6-ba98-48a2-919a-a7b34cb2bdfc\" xlink:show=\"new\" xlink:title=\"psysml:6cc10db6-ba98-48a2-919a-a7b34cb2bdfc\" xlink:type=\"simple\"><path d=\"M582.38,130.09 C567.43,146.94 546.56,170.44 529.44,189.72 \" fill=\"none\" id=\"E12-&gt;E3\" style=\"stroke: #A80036; stroke-width: 1.0;\"/><polygon fill=\"#FFFFFF\" points=\"516.15,204.69,523.5343,185.836,534.0014,195.1334,516.15,204.69\" style=\"stroke: #A80036; stroke-width: 1.0;\"/><ellipse cx=\"528.815\" cy=\"182.9027\" fill=\"#A80036\" rx=\"2\" ry=\"2\" style=\"stroke: #A80036; stroke-width: 1.0;\"/><ellipse cx=\"536.2914\" cy=\"189.5436\" fill=\"#A80036\" rx=\"2\" ry=\"2\" style=\"stroke: #A80036; stroke-width: 1.0;\"/></a><!--MD5=[066b2d8af59fea80ccdb3d54ad5c1091]\n",
       "link E13 to E5--><a href=\"psysml:fb180b05-d2cf-42d1-bf2a-01829ad20206\" target=\"_top\" title=\"psysml:fb180b05-d2cf-42d1-bf2a-01829ad20206\" xlink:actuate=\"onRequest\" xlink:href=\"psysml:fb180b05-d2cf-42d1-bf2a-01829ad20206\" xlink:show=\"new\" xlink:title=\"psysml:fb180b05-d2cf-42d1-bf2a-01829ad20206\" xlink:type=\"simple\"><path d=\"M85.62,130.09 C100.57,146.94 121.44,170.44 138.56,189.72 \" fill=\"none\" id=\"E13-&gt;E5\" style=\"stroke: #A80036; stroke-width: 1.0;\"/><polygon fill=\"#FFFFFF\" points=\"151.85,204.69,133.9986,195.1334,144.4657,185.836,151.85,204.69\" style=\"stroke: #A80036; stroke-width: 1.0;\"/><ellipse cx=\"131.7086\" cy=\"189.5436\" fill=\"#A80036\" rx=\"2\" ry=\"2\" style=\"stroke: #A80036; stroke-width: 1.0;\"/><ellipse cx=\"139.185\" cy=\"182.9027\" fill=\"#A80036\" rx=\"2\" ry=\"2\" style=\"stroke: #A80036; stroke-width: 1.0;\"/></a><!--MD5=[651464c83a5ac8d412dd26718f5456e7]\n",
       "@startuml\r\n",
       " \r\n",
       "package \"CircularImport\" as E1  [[psysml:6d002b47-1de9-4cb8-be5e-1d54cb7fff5c ]]  {\r\n",
       "package \"P1\" as E2  [[psysml:531dfa6c-428e-410a-a6f8-c5b9ff8ecb34 ]]  {\r\n",
       "comp def \"A\" as E3 << << (B,green) >> [[psysml:8ceeee5f-0d5a-4279-aee9-7758649ab8be ]] {\r\n",
       "}\r\n",
       "}\r\n",
       "package \"P2\" as E4  [[psysml:62a929fe-702a-4460-9e53-8584d6f6435e ]]  {\r\n",
       "comp def \"B\" as E5 << << (B,green) >> [[psysml:90844ba8-c1a9-4c46-b7c9-d1a2572e7365 ]] {\r\n",
       "}\r\n",
       "}\r\n",
       "package \"Test1\" as E6  [[psysml:0f17a3a9-0805-4d7f-ba6a-07da905c8abf ]]  {\r\n",
       "comp usage \"x: A \" as E7 << << (P,limegreen) part>> [[psysml:9a31b8cb-b3f5-4478-b49b-73e9fd0f6da5 ]] {\r\n",
       "}\r\n",
       "comp usage \"y: B \" as E8 << << (P,limegreen) part>> [[psysml:084cb86b-cc59-4a41-8b1c-7b7410cc5029 ]] {\r\n",
       "}\r\n",
       "}\r\n",
       "package \"Test2\" as E9  [[psysml:a06e7d3b-be80-4318-b479-ae1779c5974b ]]  {\r\n",
       "comp usage \"x: A \" as E10 << << (P,limegreen) part>> [[psysml:377a64d2-1aa6-4a9b-ba95-6aeb6c1d992f ]] {\r\n",
       "}\r\n",
       "comp usage \"y: B \" as E11 << << (P,limegreen) part>> [[psysml:7cdd5db6-fbbe-4f9d-b259-3a085be4f068 ]] {\r\n",
       "}\r\n",
       "}\r\n",
       "comp usage \"x: A \" as E12 << << (P,limegreen) part>> [[psysml:665d223a-8fea-436a-b414-0efd919424fb ]] {\r\n",
       "}\r\n",
       "comp usage \"y: B \" as E13 << << (P,limegreen) part>> [[psysml:a1b35d80-8992-43c2-aa5d-6937f2901599 ]] {\r\n",
       "}\r\n",
       "}\r\n",
       "E7 - -:|> E3 [[psysml:0b2c7bde-3c6f-4711-9ee8-a744dba64aec ]] \r\n",
       "E8 - -:|> E5 [[psysml:16eea2e1-2a1c-45c0-89dc-072c92b0db51 ]] \r\n",
       "E10 - -:|> E3 [[psysml:0ac0ff17-b961-483b-88a6-6c34531d2872 ]] \r\n",
       "E11 - -:|> E5 [[psysml:7353245a-aec5-4316-8af8-2852475c4dc4 ]] \r\n",
       "E12 - -:|> E3 [[psysml:6cc10db6-ba98-48a2-919a-a7b34cb2bdfc ]] \r\n",
       "E13 - -:|> E5 [[psysml:fb180b05-d2cf-42d1-bf2a-01829ad20206 ]] \r\n",
       "@enduml\r\n",
       "\n",
       "PlantUML version 1.2020.13(Sat Jun 13 12:26:38 UTC 2020)\n",
       "(EPL source distribution)\n",
       "Java Runtime: OpenJDK Runtime Environment\n",
       "JVM: OpenJDK 64-Bit Server VM\n",
       "Default Encoding: UTF-8\n",
       "Language: en\n",
       "Country: null\n",
       "--></g></svg>"
      ]
     },
     "execution_count": 31,
     "metadata": {},
     "output_type": "execute_result"
    }
   ],
   "source": [
    "%viz --style=\"PLANTUML\" --view=\"Tree\" \"CircularImport\""
   ]
  },
  {
   "cell_type": "code",
   "execution_count": 32,
   "id": "c09a855f",
   "metadata": {
    "execution": {
     "iopub.execute_input": "2021-12-15T15:15:38.687641Z",
     "iopub.status.busy": "2021-12-15T15:15:38.687230Z",
     "iopub.status.idle": "2021-12-15T15:15:38.840215Z",
     "shell.execute_reply": "2021-12-15T15:15:38.837831Z"
    }
   },
   "outputs": [
    {
     "data": {
      "image/svg+xml": [
       "<?xml version=\"1.0\" encoding=\"UTF-8\" standalone=\"no\"?><svg xmlns=\"http://www.w3.org/2000/svg\" xmlns:xlink=\"http://www.w3.org/1999/xlink\" contentScriptType=\"application/ecmascript\" contentStyleType=\"text/css\" height=\"417px\" preserveAspectRatio=\"none\" style=\"width:603px;height:417px;background:#000000;\" version=\"1.1\" viewBox=\"0 0 603 417\" width=\"603px\" zoomAndPan=\"magnify\"><defs/><g><rect fill=\"#090F07\" height=\"1\" style=\"stroke: #090F07; stroke-width: 1.0;\" width=\"1\" x=\"0\" y=\"0\"/><rect fill=\"#F6C914\" height=\"58\" style=\"stroke: #F6C914; stroke-width: 1.0;\" width=\"602\" x=\"0\" y=\"0\"/><image height=\"58\" width=\"454\" x=\"1\" xlink:href=\"data:image/png;base64,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\" y=\"1\"/><rect fill=\"#FFFFFF\" height=\"202.8012\" style=\"stroke: #FFFFFF; stroke-width: 1.0;\" width=\"602\" x=\"0\" y=\"58\"/><text fill=\"#000000\" font-family=\"sans-serif\" font-size=\"12\" font-weight=\"bold\" lengthAdjust=\"spacingAndGlyphs\" textLength=\"139\" x=\"5\" y=\"74.1387\">Welcome to PlantUML!</text><text fill=\"#000000\" font-family=\"sans-serif\" font-size=\"12\" lengthAdjust=\"spacingAndGlyphs\" textLength=\"0\" x=\"9\" y=\"88.1074\"/><text fill=\"#000000\" font-family=\"sans-serif\" font-size=\"12\" lengthAdjust=\"spacingAndGlyphs\" textLength=\"293\" x=\"5\" y=\"102.0762\">If you use this software, you accept its license.</text><text fill=\"#000000\" font-family=\"sans-serif\" font-size=\"12\" lengthAdjust=\"spacingAndGlyphs\" textLength=\"107\" x=\"5\" y=\"116.0449\">(details by typing</text><text fill=\"#000000\" font-family=\"monospace\" font-size=\"12\" lengthAdjust=\"spacingAndGlyphs\" textLength=\"42\" x=\"116\" y=\"116.595\">license</text><text fill=\"#000000\" font-family=\"sans-serif\" font-size=\"12\" lengthAdjust=\"spacingAndGlyphs\" textLength=\"56\" x=\"162\" y=\"116.0449\">keyword)</text><text fill=\"#000000\" font-family=\"sans-serif\" font-size=\"12\" lengthAdjust=\"spacingAndGlyphs\" textLength=\"0\" x=\"9\" y=\"130.0137\"/><text fill=\"#000000\" font-family=\"sans-serif\" font-size=\"12\" lengthAdjust=\"spacingAndGlyphs\" textLength=\"283\" x=\"5\" y=\"143.9824\">You can start with a simple UML Diagram like:</text><text fill=\"#000000\" font-family=\"sans-serif\" font-size=\"12\" lengthAdjust=\"spacingAndGlyphs\" textLength=\"0\" x=\"9\" y=\"157.9512\"/><text fill=\"#000000\" font-family=\"monospace\" font-size=\"12\" lengthAdjust=\"spacingAndGlyphs\" textLength=\"102\" x=\"5\" y=\"171.0893\">Bob-&gt;Alice: Hello</text><text fill=\"#000000\" font-family=\"sans-serif\" font-size=\"12\" lengthAdjust=\"spacingAndGlyphs\" textLength=\"0\" x=\"9\" y=\"184.508\"/><text fill=\"#000000\" font-family=\"sans-serif\" font-size=\"12\" lengthAdjust=\"spacingAndGlyphs\" textLength=\"14\" x=\"5\" y=\"198.4768\">Or</text><text fill=\"#000000\" font-family=\"sans-serif\" font-size=\"12\" lengthAdjust=\"spacingAndGlyphs\" textLength=\"0\" x=\"9\" y=\"212.4455\"/><text fill=\"#000000\" font-family=\"monospace\" font-size=\"12\" lengthAdjust=\"spacingAndGlyphs\" textLength=\"78\" x=\"5\" y=\"225.5837\">class Example</text><text fill=\"#000000\" font-family=\"sans-serif\" font-size=\"12\" lengthAdjust=\"spacingAndGlyphs\" textLength=\"0\" x=\"9\" y=\"239.0023\"/><text fill=\"#000000\" font-family=\"sans-serif\" font-size=\"12\" lengthAdjust=\"spacingAndGlyphs\" textLength=\"349\" x=\"5\" y=\"252.9711\">You will find more information about PlantUML syntax on</text><text fill=\"#000000\" font-family=\"sans-serif\" font-size=\"12\" lengthAdjust=\"spacingAndGlyphs\" text-decoration=\"underline\" textLength=\"129\" x=\"358\" y=\"252.9711\">https://plantuml.com</text><image height=\"71\" width=\"80\" x=\"516\" xlink:href=\"data:image/png;base64,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\" y=\"64\"/><rect fill=\"#000000\" height=\"96.4844\" style=\"stroke: #000000; stroke-width: 1.0;\" width=\"602\" x=\"0\" y=\"260.8012\"/><rect fill=\"#33FF02\" height=\"21.2969\" style=\"stroke: #33FF02; stroke-width: 1.0;\" width=\"145\" x=\"5\" y=\"265.8012\"/><text fill=\"#000000\" font-family=\"sans-serif\" font-size=\"14\" font-weight=\"bold\" lengthAdjust=\"spacingAndGlyphs\" textLength=\"143\" x=\"6\" y=\"280.8012\">[From string (line 2) ]</text><text fill=\"#33FF02\" font-family=\"sans-serif\" font-size=\"14\" font-weight=\"bold\" lengthAdjust=\"spacingAndGlyphs\" textLength=\"0\" x=\"9\" y=\"301.0981\"/><text fill=\"#33FF02\" font-family=\"sans-serif\" font-size=\"14\" font-weight=\"bold\" lengthAdjust=\"spacingAndGlyphs\" textLength=\"70\" x=\"5\" y=\"317.3949\">@startuml</text><text fill=\"#33FF02\" font-family=\"sans-serif\" font-size=\"14\" font-weight=\"bold\" lengthAdjust=\"spacingAndGlyphs\" textLength=\"0\" x=\"9\" y=\"333.6918\"/><text fill=\"#FF0000\" font-family=\"sans-serif\" font-size=\"14\" font-weight=\"bold\" lengthAdjust=\"spacingAndGlyphs\" textLength=\"124\" x=\"9\" y=\"349.9887\">Empty description</text><rect fill=\"#F6C914\" height=\"58\" style=\"stroke: #F6C914; stroke-width: 1.0;\" width=\"602\" x=\"0\" y=\"357.2856\"/><image height=\"58\" width=\"454\" x=\"1\" xlink:href=\"data:image/png;base64,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\" y=\"358.2856\"/><!--MD5=[f59edd8218d337f74d0c332fc6737304]\n",
       "@startuml\r\n",
       " \r\n",
       "@enduml\r\n",
       "\n",
       "PlantUML version 1.2020.13(Sat Jun 13 12:26:38 UTC 2020)\n",
       "(EPL source distribution)\n",
       "Java Runtime: OpenJDK Runtime Environment\n",
       "JVM: OpenJDK 64-Bit Server VM\n",
       "Default Encoding: UTF-8\n",
       "Language: en\n",
       "Country: null\n",
       "--></g></svg>"
      ]
     },
     "execution_count": 32,
     "metadata": {},
     "output_type": "execute_result"
    }
   ],
   "source": [
    "%viz --style=\"PLANTUML\" --view=\"State\" \"CircularImport\""
   ]
  },
  {
   "cell_type": "code",
   "execution_count": 33,
   "id": "c60505ae",
   "metadata": {
    "execution": {
     "iopub.execute_input": "2021-12-15T15:15:38.888165Z",
     "iopub.status.busy": "2021-12-15T15:15:38.887929Z",
     "iopub.status.idle": "2021-12-15T15:15:38.917464Z",
     "shell.execute_reply": "2021-12-15T15:15:38.914854Z"
    }
   },
   "outputs": [
    {
     "data": {
      "image/svg+xml": [
       "<?xml version=\"1.0\" encoding=\"UTF-8\" standalone=\"no\"?><svg xmlns=\"http://www.w3.org/2000/svg\" xmlns:xlink=\"http://www.w3.org/1999/xlink\" contentScriptType=\"application/ecmascript\" contentStyleType=\"text/css\" height=\"176px\" preserveAspectRatio=\"none\" style=\"width:858px;height:176px;\" version=\"1.1\" viewBox=\"0 0 858 176\" width=\"858px\" zoomAndPan=\"magnify\"><defs><filter height=\"300%\" id=\"f1ansfhzb404zu\" width=\"300%\" x=\"-1\" y=\"-1\"><feGaussianBlur result=\"blurOut\" stdDeviation=\"2.0\"/><feColorMatrix in=\"blurOut\" result=\"blurOut2\" type=\"matrix\" values=\"0 0 0 0 0 0 0 0 0 0 0 0 0 0 0 0 0 0 .4 0\"/><feOffset dx=\"4.0\" dy=\"4.0\" in=\"blurOut2\" result=\"blurOut3\"/><feBlend in=\"SourceGraphic\" in2=\"blurOut3\" mode=\"normal\"/></filter></defs><g><!--MD5=[fbc87193dbaf4d95561dea2c320d4a47]\n",
       "cluster E1--><a href=\"psysml:6d002b47-1de9-4cb8-be5e-1d54cb7fff5c\" target=\"_top\" title=\"psysml:6d002b47-1de9-4cb8-be5e-1d54cb7fff5c\" xlink:actuate=\"onRequest\" xlink:href=\"psysml:6d002b47-1de9-4cb8-be5e-1d54cb7fff5c\" xlink:show=\"new\" xlink:title=\"psysml:6d002b47-1de9-4cb8-be5e-1d54cb7fff5c\" xlink:type=\"simple\"><polygon fill=\"#FFFFFF\" filter=\"url(#f1ansfhzb404zu)\" points=\"16,6,117,6,124,28.2969,836,28.2969,836,164,16,164,16,6\" style=\"stroke: #000000; stroke-width: 1.5;\"/><line style=\"stroke: #000000; stroke-width: 1.5;\" x1=\"16\" x2=\"124\" y1=\"28.2969\" y2=\"28.2969\"/><text fill=\"#000000\" font-family=\"sans-serif\" font-size=\"14\" font-weight=\"bold\" lengthAdjust=\"spacingAndGlyphs\" textLength=\"95\" x=\"20\" y=\"20.9951\">CircularImport</text></a><!--MD5=[e4f7fae6ed58524ba242bb0b0d3be6b7]\n",
       "cluster E2--><a href=\"psysml:531dfa6c-428e-410a-a6f8-c5b9ff8ecb34\" target=\"_top\" title=\"psysml:531dfa6c-428e-410a-a6f8-c5b9ff8ecb34\" xlink:actuate=\"onRequest\" xlink:href=\"psysml:531dfa6c-428e-410a-a6f8-c5b9ff8ecb34\" xlink:show=\"new\" xlink:title=\"psysml:531dfa6c-428e-410a-a6f8-c5b9ff8ecb34\" xlink:type=\"simple\"><polygon fill=\"#FFFFFF\" filter=\"url(#f1ansfhzb404zu)\" points=\"730,49,754,49,761,71.2969,812,71.2969,812,140,730,140,730,49\" style=\"stroke: #000000; stroke-width: 1.5;\"/><line style=\"stroke: #000000; stroke-width: 1.5;\" x1=\"730\" x2=\"761\" y1=\"71.2969\" y2=\"71.2969\"/><text fill=\"#000000\" font-family=\"sans-serif\" font-size=\"14\" font-weight=\"bold\" lengthAdjust=\"spacingAndGlyphs\" textLength=\"18\" x=\"734\" y=\"63.9951\">P1</text></a><!--MD5=[f6df4d0ebaf0b5dfb2ced0ae5af7c670]\n",
       "cluster E4--><a href=\"psysml:62a929fe-702a-4460-9e53-8584d6f6435e\" target=\"_top\" title=\"psysml:62a929fe-702a-4460-9e53-8584d6f6435e\" xlink:actuate=\"onRequest\" xlink:href=\"psysml:62a929fe-702a-4460-9e53-8584d6f6435e\" xlink:show=\"new\" xlink:title=\"psysml:62a929fe-702a-4460-9e53-8584d6f6435e\" xlink:type=\"simple\"><polygon fill=\"#FFFFFF\" filter=\"url(#f1ansfhzb404zu)\" points=\"624,49,648,49,655,71.2969,706,71.2969,706,140,624,140,624,49\" style=\"stroke: #000000; stroke-width: 1.5;\"/><line style=\"stroke: #000000; stroke-width: 1.5;\" x1=\"624\" x2=\"655\" y1=\"71.2969\" y2=\"71.2969\"/><text fill=\"#000000\" font-family=\"sans-serif\" font-size=\"14\" font-weight=\"bold\" lengthAdjust=\"spacingAndGlyphs\" textLength=\"18\" x=\"628\" y=\"63.9951\">P2</text></a><!--MD5=[14e3b0961a2654348d326746436168a1]\n",
       "cluster E6--><a href=\"psysml:0f17a3a9-0805-4d7f-ba6a-07da905c8abf\" target=\"_top\" title=\"psysml:0f17a3a9-0805-4d7f-ba6a-07da905c8abf\" xlink:actuate=\"onRequest\" xlink:href=\"psysml:0f17a3a9-0805-4d7f-ba6a-07da905c8abf\" xlink:show=\"new\" xlink:title=\"psysml:0f17a3a9-0805-4d7f-ba6a-07da905c8abf\" xlink:type=\"simple\"><polygon fill=\"#FFFFFF\" filter=\"url(#f1ansfhzb404zu)\" points=\"414,49,460,49,467,71.2969,600,71.2969,600,140,414,140,414,49\" style=\"stroke: #000000; stroke-width: 1.5;\"/><line style=\"stroke: #000000; stroke-width: 1.5;\" x1=\"414\" x2=\"467\" y1=\"71.2969\" y2=\"71.2969\"/><text fill=\"#000000\" font-family=\"sans-serif\" font-size=\"14\" font-weight=\"bold\" lengthAdjust=\"spacingAndGlyphs\" textLength=\"40\" x=\"418\" y=\"63.9951\">Test1</text></a><!--MD5=[7f149f147074ac12df2cb0a7728a5fb0]\n",
       "cluster E9--><a href=\"psysml:a06e7d3b-be80-4318-b479-ae1779c5974b\" target=\"_top\" title=\"psysml:a06e7d3b-be80-4318-b479-ae1779c5974b\" xlink:actuate=\"onRequest\" xlink:href=\"psysml:a06e7d3b-be80-4318-b479-ae1779c5974b\" xlink:show=\"new\" xlink:title=\"psysml:a06e7d3b-be80-4318-b479-ae1779c5974b\" xlink:type=\"simple\"><polygon fill=\"#FFFFFF\" filter=\"url(#f1ansfhzb404zu)\" points=\"204,49,250,49,257,71.2969,390,71.2969,390,140,204,140,204,49\" style=\"stroke: #000000; stroke-width: 1.5;\"/><line style=\"stroke: #000000; stroke-width: 1.5;\" x1=\"204\" x2=\"257\" y1=\"71.2969\" y2=\"71.2969\"/><text fill=\"#000000\" font-family=\"sans-serif\" font-size=\"14\" font-weight=\"bold\" lengthAdjust=\"spacingAndGlyphs\" textLength=\"40\" x=\"208\" y=\"63.9951\">Test2</text></a><g id=\"E1.E2.E3\"><a href=\"psysml:8ceeee5f-0d5a-4279-aee9-7758649ab8be\" target=\"_top\" title=\"psysml:8ceeee5f-0d5a-4279-aee9-7758649ab8be\" xlink:actuate=\"onRequest\" xlink:href=\"psysml:8ceeee5f-0d5a-4279-aee9-7758649ab8be\" xlink:show=\"new\" xlink:title=\"psysml:8ceeee5f-0d5a-4279-aee9-7758649ab8be\" xlink:type=\"simple\"><rect fill=\"#FEFECE\" filter=\"url(#f1ansfhzb404zu)\" height=\"40\" id=\"E3\" style=\"stroke: #A80036; stroke-width: 1.5;\" width=\"50\" x=\"746\" y=\"84\"/><ellipse cx=\"765.5\" cy=\"100\" fill=\"#008000\" rx=\"11\" ry=\"11\" style=\"stroke: #A80036; stroke-width: 1.0;\"/><path d=\"M762.375,105 L762.375,94.4063 L765.6094,94.4063 Q767.5156,94.4063 768.4219,95.1563 Q769.3438,95.9063 769.3438,97.0781 Q769.3438,97.7656 768.9531,98.4219 Q768.5781,99.0781 767.8594,99.375 Q768.7188,99.75 769.2344,100.4375 Q769.75,101.125 769.75,101.9375 Q769.75,103.3125 768.7188,104.1563 Q767.7031,105 765.5938,105 L762.375,105 Z M764.2969,98.6406 L765.4531,98.6406 Q766.5781,98.6406 766.9844,98.2656 Q767.4063,97.875 767.4063,97.25 Q767.4063,96.6719 766.9844,96.3125 Q766.5625,95.9531 765.625,95.9531 L764.2969,95.9531 L764.2969,98.6406 Z M764.2969,103.4219 L765.7969,103.4219 Q766.7031,103.4219 767.2344,103.0313 Q767.7656,102.6406 767.7656,101.8906 Q767.7656,101.125 767.2656,100.6563 Q766.7656,100.1719 765.5,100.1719 L764.2969,100.1719 L764.2969,103.4219 Z \"/><text fill=\"#000000\" font-family=\"sans-serif\" font-size=\"12\" lengthAdjust=\"spacingAndGlyphs\" textLength=\"8\" x=\"780.5\" y=\"104.1543\">A</text></a></g><g id=\"E1.E4.E5\"><a href=\"psysml:90844ba8-c1a9-4c46-b7c9-d1a2572e7365\" target=\"_top\" title=\"psysml:90844ba8-c1a9-4c46-b7c9-d1a2572e7365\" xlink:actuate=\"onRequest\" xlink:href=\"psysml:90844ba8-c1a9-4c46-b7c9-d1a2572e7365\" xlink:show=\"new\" xlink:title=\"psysml:90844ba8-c1a9-4c46-b7c9-d1a2572e7365\" xlink:type=\"simple\"><rect fill=\"#FEFECE\" filter=\"url(#f1ansfhzb404zu)\" height=\"40\" id=\"E5\" style=\"stroke: #A80036; stroke-width: 1.5;\" width=\"50\" x=\"640\" y=\"84\"/><ellipse cx=\"659.5\" cy=\"100\" fill=\"#008000\" rx=\"11\" ry=\"11\" style=\"stroke: #A80036; stroke-width: 1.0;\"/><path d=\"M656.375,105 L656.375,94.4063 L659.6094,94.4063 Q661.5156,94.4063 662.4219,95.1563 Q663.3438,95.9063 663.3438,97.0781 Q663.3438,97.7656 662.9531,98.4219 Q662.5781,99.0781 661.8594,99.375 Q662.7188,99.75 663.2344,100.4375 Q663.75,101.125 663.75,101.9375 Q663.75,103.3125 662.7188,104.1563 Q661.7031,105 659.5938,105 L656.375,105 Z M658.2969,98.6406 L659.4531,98.6406 Q660.5781,98.6406 660.9844,98.2656 Q661.4063,97.875 661.4063,97.25 Q661.4063,96.6719 660.9844,96.3125 Q660.5625,95.9531 659.625,95.9531 L658.2969,95.9531 L658.2969,98.6406 Z M658.2969,103.4219 L659.7969,103.4219 Q660.7031,103.4219 661.2344,103.0313 Q661.7656,102.6406 661.7656,101.8906 Q661.7656,101.125 661.2656,100.6563 Q660.7656,100.1719 659.5,100.1719 L658.2969,100.1719 L658.2969,103.4219 Z \"/><text fill=\"#000000\" font-family=\"sans-serif\" font-size=\"12\" lengthAdjust=\"spacingAndGlyphs\" textLength=\"8\" x=\"674.5\" y=\"104.1543\">B</text></a></g><g id=\"E1.E6.E7\"><a href=\"psysml:9a31b8cb-b3f5-4478-b49b-73e9fd0f6da5\" target=\"_top\" title=\"psysml:9a31b8cb-b3f5-4478-b49b-73e9fd0f6da5\" xlink:actuate=\"onRequest\" xlink:href=\"psysml:9a31b8cb-b3f5-4478-b49b-73e9fd0f6da5\" xlink:show=\"new\" xlink:title=\"psysml:9a31b8cb-b3f5-4478-b49b-73e9fd0f6da5\" xlink:type=\"simple\"><rect fill=\"#FEFECE\" filter=\"url(#f1ansfhzb404zu)\" height=\"40\" id=\"E7\" rx=\"10\" ry=\"10\" style=\"stroke: #A80036; stroke-width: 1.5;\" width=\"59\" x=\"524.5\" y=\"84\"/><ellipse cx=\"541.75\" cy=\"100\" fill=\"#B6DBBB\" rx=\"11\" ry=\"11\" style=\"stroke: #A80036; stroke-width: 1.0;\"/><path d=\"M541.5,105.4688 Q539.75,105.4688 538.7969,104.4375 Q537.8594,103.3906 537.8594,101.5469 L537.8594,94.6563 L539.9219,94.6563 L539.9219,94.8125 Q539.8281,94.9063 539.7969,95.0469 Q539.7813,95.1719 539.7813,95.4375 L539.7813,101.5625 Q539.7813,102.6563 540.1563,103.2813 Q540.5313,103.9063 541.5156,103.9063 Q542.5,103.9063 542.8906,103.2813 Q543.2813,102.6563 543.2813,101.5156 L543.2813,94.6563 L545.1563,94.6563 L545.1563,101.5 Q545.1563,103.5313 544.125,104.5 Q543.1094,105.4688 541.5,105.4688 Z \"/><text fill=\"#000000\" font-family=\"sans-serif\" font-size=\"12\" lengthAdjust=\"spacingAndGlyphs\" textLength=\"22\" x=\"556.25\" y=\"104.1543\">x: A</text></a></g><g id=\"E1.E6.E8\"><a href=\"psysml:084cb86b-cc59-4a41-8b1c-7b7410cc5029\" target=\"_top\" title=\"psysml:084cb86b-cc59-4a41-8b1c-7b7410cc5029\" xlink:actuate=\"onRequest\" xlink:href=\"psysml:084cb86b-cc59-4a41-8b1c-7b7410cc5029\" xlink:show=\"new\" xlink:title=\"psysml:084cb86b-cc59-4a41-8b1c-7b7410cc5029\" xlink:type=\"simple\"><rect fill=\"#FEFECE\" filter=\"url(#f1ansfhzb404zu)\" height=\"40\" id=\"E8\" rx=\"10\" ry=\"10\" style=\"stroke: #A80036; stroke-width: 1.5;\" width=\"59\" x=\"430.5\" y=\"84\"/><ellipse cx=\"447.75\" cy=\"100\" fill=\"#B6DBBB\" rx=\"11\" ry=\"11\" style=\"stroke: #A80036; stroke-width: 1.0;\"/><path d=\"M447.5,105.4688 Q445.75,105.4688 444.7969,104.4375 Q443.8594,103.3906 443.8594,101.5469 L443.8594,94.6563 L445.9219,94.6563 L445.9219,94.8125 Q445.8281,94.9063 445.7969,95.0469 Q445.7813,95.1719 445.7813,95.4375 L445.7813,101.5625 Q445.7813,102.6563 446.1563,103.2813 Q446.5313,103.9063 447.5156,103.9063 Q448.5,103.9063 448.8906,103.2813 Q449.2813,102.6563 449.2813,101.5156 L449.2813,94.6563 L451.1563,94.6563 L451.1563,101.5 Q451.1563,103.5313 450.125,104.5 Q449.1094,105.4688 447.5,105.4688 Z \"/><text fill=\"#000000\" font-family=\"sans-serif\" font-size=\"12\" lengthAdjust=\"spacingAndGlyphs\" textLength=\"22\" x=\"462.25\" y=\"104.1543\">y: B</text></a></g><g id=\"E1.E9.E10\"><a href=\"psysml:377a64d2-1aa6-4a9b-ba95-6aeb6c1d992f\" target=\"_top\" title=\"psysml:377a64d2-1aa6-4a9b-ba95-6aeb6c1d992f\" xlink:actuate=\"onRequest\" xlink:href=\"psysml:377a64d2-1aa6-4a9b-ba95-6aeb6c1d992f\" xlink:show=\"new\" xlink:title=\"psysml:377a64d2-1aa6-4a9b-ba95-6aeb6c1d992f\" xlink:type=\"simple\"><rect fill=\"#FEFECE\" filter=\"url(#f1ansfhzb404zu)\" height=\"40\" id=\"E10\" rx=\"10\" ry=\"10\" style=\"stroke: #A80036; stroke-width: 1.5;\" width=\"59\" x=\"314.5\" y=\"84\"/><ellipse cx=\"331.75\" cy=\"100\" fill=\"#B6DBBB\" rx=\"11\" ry=\"11\" style=\"stroke: #A80036; stroke-width: 1.0;\"/><path d=\"M331.5,105.4688 Q329.75,105.4688 328.7969,104.4375 Q327.8594,103.3906 327.8594,101.5469 L327.8594,94.6563 L329.9219,94.6563 L329.9219,94.8125 Q329.8281,94.9063 329.7969,95.0469 Q329.7813,95.1719 329.7813,95.4375 L329.7813,101.5625 Q329.7813,102.6563 330.1563,103.2813 Q330.5313,103.9063 331.5156,103.9063 Q332.5,103.9063 332.8906,103.2813 Q333.2813,102.6563 333.2813,101.5156 L333.2813,94.6563 L335.1563,94.6563 L335.1563,101.5 Q335.1563,103.5313 334.125,104.5 Q333.1094,105.4688 331.5,105.4688 Z \"/><text fill=\"#000000\" font-family=\"sans-serif\" font-size=\"12\" lengthAdjust=\"spacingAndGlyphs\" textLength=\"22\" x=\"346.25\" y=\"104.1543\">x: A</text></a></g><g id=\"E1.E9.E11\"><a href=\"psysml:7cdd5db6-fbbe-4f9d-b259-3a085be4f068\" target=\"_top\" title=\"psysml:7cdd5db6-fbbe-4f9d-b259-3a085be4f068\" xlink:actuate=\"onRequest\" xlink:href=\"psysml:7cdd5db6-fbbe-4f9d-b259-3a085be4f068\" xlink:show=\"new\" xlink:title=\"psysml:7cdd5db6-fbbe-4f9d-b259-3a085be4f068\" xlink:type=\"simple\"><rect fill=\"#FEFECE\" filter=\"url(#f1ansfhzb404zu)\" height=\"40\" id=\"E11\" rx=\"10\" ry=\"10\" style=\"stroke: #A80036; stroke-width: 1.5;\" width=\"59\" x=\"220.5\" y=\"84\"/><ellipse cx=\"237.75\" cy=\"100\" fill=\"#B6DBBB\" rx=\"11\" ry=\"11\" style=\"stroke: #A80036; stroke-width: 1.0;\"/><path d=\"M237.5,105.4688 Q235.75,105.4688 234.7969,104.4375 Q233.8594,103.3906 233.8594,101.5469 L233.8594,94.6563 L235.9219,94.6563 L235.9219,94.8125 Q235.8281,94.9063 235.7969,95.0469 Q235.7813,95.1719 235.7813,95.4375 L235.7813,101.5625 Q235.7813,102.6563 236.1563,103.2813 Q236.5313,103.9063 237.5156,103.9063 Q238.5,103.9063 238.8906,103.2813 Q239.2813,102.6563 239.2813,101.5156 L239.2813,94.6563 L241.1563,94.6563 L241.1563,101.5 Q241.1563,103.5313 240.125,104.5 Q239.1094,105.4688 237.5,105.4688 Z \"/><text fill=\"#000000\" font-family=\"sans-serif\" font-size=\"12\" lengthAdjust=\"spacingAndGlyphs\" textLength=\"22\" x=\"252.25\" y=\"104.1543\">y: B</text></a></g><g id=\"E1.E12\"><a href=\"psysml:665d223a-8fea-436a-b414-0efd919424fb\" target=\"_top\" title=\"psysml:665d223a-8fea-436a-b414-0efd919424fb\" xlink:actuate=\"onRequest\" xlink:href=\"psysml:665d223a-8fea-436a-b414-0efd919424fb\" xlink:show=\"new\" xlink:title=\"psysml:665d223a-8fea-436a-b414-0efd919424fb\" xlink:type=\"simple\"><rect fill=\"#FEFECE\" filter=\"url(#f1ansfhzb404zu)\" height=\"40\" id=\"E12\" rx=\"10\" ry=\"10\" style=\"stroke: #A80036; stroke-width: 1.5;\" width=\"59\" x=\"126.5\" y=\"84\"/><ellipse cx=\"143.75\" cy=\"100\" fill=\"#B6DBBB\" rx=\"11\" ry=\"11\" style=\"stroke: #A80036; stroke-width: 1.0;\"/><path d=\"M143.5,105.4688 Q141.75,105.4688 140.7969,104.4375 Q139.8594,103.3906 139.8594,101.5469 L139.8594,94.6563 L141.9219,94.6563 L141.9219,94.8125 Q141.8281,94.9063 141.7969,95.0469 Q141.7813,95.1719 141.7813,95.4375 L141.7813,101.5625 Q141.7813,102.6563 142.1563,103.2813 Q142.5313,103.9063 143.5156,103.9063 Q144.5,103.9063 144.8906,103.2813 Q145.2813,102.6563 145.2813,101.5156 L145.2813,94.6563 L147.1563,94.6563 L147.1563,101.5 Q147.1563,103.5313 146.125,104.5 Q145.1094,105.4688 143.5,105.4688 Z \"/><text fill=\"#000000\" font-family=\"sans-serif\" font-size=\"12\" lengthAdjust=\"spacingAndGlyphs\" textLength=\"22\" x=\"158.25\" y=\"104.1543\">x: A</text></a></g><g id=\"E1.E13\"><a href=\"psysml:a1b35d80-8992-43c2-aa5d-6937f2901599\" target=\"_top\" title=\"psysml:a1b35d80-8992-43c2-aa5d-6937f2901599\" xlink:actuate=\"onRequest\" xlink:href=\"psysml:a1b35d80-8992-43c2-aa5d-6937f2901599\" xlink:show=\"new\" xlink:title=\"psysml:a1b35d80-8992-43c2-aa5d-6937f2901599\" xlink:type=\"simple\"><rect fill=\"#FEFECE\" filter=\"url(#f1ansfhzb404zu)\" height=\"40\" id=\"E13\" rx=\"10\" ry=\"10\" style=\"stroke: #A80036; stroke-width: 1.5;\" width=\"59\" x=\"32.5\" y=\"84\"/><ellipse cx=\"49.75\" cy=\"100\" fill=\"#B6DBBB\" rx=\"11\" ry=\"11\" style=\"stroke: #A80036; stroke-width: 1.0;\"/><path d=\"M49.5,105.4688 Q47.75,105.4688 46.7969,104.4375 Q45.8594,103.3906 45.8594,101.5469 L45.8594,94.6563 L47.9219,94.6563 L47.9219,94.8125 Q47.8281,94.9063 47.7969,95.0469 Q47.7813,95.1719 47.7813,95.4375 L47.7813,101.5625 Q47.7813,102.6563 48.1563,103.2813 Q48.5313,103.9063 49.5156,103.9063 Q50.5,103.9063 50.8906,103.2813 Q51.2813,102.6563 51.2813,101.5156 L51.2813,94.6563 L53.1563,94.6563 L53.1563,101.5 Q53.1563,103.5313 52.125,104.5 Q51.1094,105.4688 49.5,105.4688 Z \"/><text fill=\"#000000\" font-family=\"sans-serif\" font-size=\"12\" lengthAdjust=\"spacingAndGlyphs\" textLength=\"22\" x=\"64.25\" y=\"104.1543\">y: B</text></a></g><!--MD5=[19613a13eee03177d2b596a576eeae53]\n",
       "@startuml\r\n",
       "skinparam ranksep 10\r\n",
       "skinparam rectangle {\r\n",
       " backgroundColor<<block>> LightGreen\r\n",
       "}\r\n",
       " \r\n",
       "package \"CircularImport\" as E1  [[psysml:6d002b47-1de9-4cb8-be5e-1d54cb7fff5c ]]  {\r\n",
       "package \"P1\" as E2  [[psysml:531dfa6c-428e-410a-a6f8-c5b9ff8ecb34 ]]  {\r\n",
       "rec def \"A\" as E3 << << (B,green) >> [[psysml:8ceeee5f-0d5a-4279-aee9-7758649ab8be ]] {\r\n",
       "}\r\n",
       "}\r\n",
       "package \"P2\" as E4  [[psysml:62a929fe-702a-4460-9e53-8584d6f6435e ]]  {\r\n",
       "rec def \"B\" as E5 << << (B,green) >> [[psysml:90844ba8-c1a9-4c46-b7c9-d1a2572e7365 ]] {\r\n",
       "}\r\n",
       "}\r\n",
       "package \"Test1\" as E6  [[psysml:0f17a3a9-0805-4d7f-ba6a-07da905c8abf ]]  {\r\n",
       "rec usage \"x: A\" as E7  [[psysml:9a31b8cb-b3f5-4478-b49b-73e9fd0f6da5 ]] {\r\n",
       "}\r\n",
       "rec usage \"y: B\" as E8  [[psysml:084cb86b-cc59-4a41-8b1c-7b7410cc5029 ]] {\r\n",
       "}\r\n",
       "}\r\n",
       "package \"Test2\" as E9  [[psysml:a06e7d3b-be80-4318-b479-ae1779c5974b ]]  {\r\n",
       "rec usage \"x: A\" as E10  [[psysml:377a64d2-1aa6-4a9b-ba95-6aeb6c1d992f ]] {\r\n",
       "}\r\n",
       "rec usage \"y: B\" as E11  [[psysml:7cdd5db6-fbbe-4f9d-b259-3a085be4f068 ]] {\r\n",
       "}\r\n",
       "}\r\n",
       "rec usage \"x: A\" as E12  [[psysml:665d223a-8fea-436a-b414-0efd919424fb ]] {\r\n",
       "}\r\n",
       "rec usage \"y: B\" as E13  [[psysml:a1b35d80-8992-43c2-aa5d-6937f2901599 ]] {\r\n",
       "}\r\n",
       "}\r\n",
       "@enduml\r\n",
       "\n",
       "PlantUML version 1.2020.13(Sat Jun 13 12:26:38 UTC 2020)\n",
       "(EPL source distribution)\n",
       "Java Runtime: OpenJDK Runtime Environment\n",
       "JVM: OpenJDK 64-Bit Server VM\n",
       "Default Encoding: UTF-8\n",
       "Language: en\n",
       "Country: null\n",
       "--></g></svg>"
      ]
     },
     "execution_count": 33,
     "metadata": {},
     "output_type": "execute_result"
    }
   ],
   "source": [
    "%viz --style=\"PLANTUML\" --view=\"Interconnection\" \"CircularImport\""
   ]
  },
  {
   "cell_type": "code",
   "execution_count": 34,
   "id": "171554e0",
   "metadata": {
    "execution": {
     "iopub.execute_input": "2021-12-15T15:15:38.965909Z",
     "iopub.status.busy": "2021-12-15T15:15:38.965428Z",
     "iopub.status.idle": "2021-12-15T15:15:38.970402Z",
     "shell.execute_reply": "2021-12-15T15:15:38.970640Z"
    }
   },
   "outputs": [
    {
     "data": {
      "image/svg+xml": [
       "<?xml version=\"1.0\" encoding=\"UTF-8\" standalone=\"no\"?><svg xmlns=\"http://www.w3.org/2000/svg\" xmlns:xlink=\"http://www.w3.org/1999/xlink\" contentScriptType=\"application/ecmascript\" contentStyleType=\"text/css\" height=\"12px\" preserveAspectRatio=\"none\" style=\"width:12px;height:12px;\" version=\"1.1\" viewBox=\"0 0 12 12\" width=\"12px\" zoomAndPan=\"magnify\"><defs/><g><!--MD5=[6a4cb978cab31700e1ce5529f947a75d]\n",
       "@startuml\r\n",
       "skinparam ranksep 8\r\n",
       " \r\n",
       "@enduml\r\n",
       "\n",
       "PlantUML version 1.2020.13(Sat Jun 13 12:26:38 UTC 2020)\n",
       "(EPL source distribution)\n",
       "Java Runtime: OpenJDK Runtime Environment\n",
       "JVM: OpenJDK 64-Bit Server VM\n",
       "Default Encoding: UTF-8\n",
       "Language: en\n",
       "Country: null\n",
       "--></g></svg>"
      ]
     },
     "execution_count": 34,
     "metadata": {},
     "output_type": "execute_result"
    }
   ],
   "source": [
    "%viz --style=\"PLANTUML\" --view=\"Action\" \"CircularImport\""
   ]
  },
  {
   "cell_type": "code",
   "execution_count": 35,
   "id": "c120530e",
   "metadata": {
    "execution": {
     "iopub.execute_input": "2021-12-15T15:15:39.020888Z",
     "iopub.status.busy": "2021-12-15T15:15:39.020568Z",
     "iopub.status.idle": "2021-12-15T15:15:39.025706Z",
     "shell.execute_reply": "2021-12-15T15:15:39.025450Z"
    }
   },
   "outputs": [
    {
     "data": {
      "image/svg+xml": [
       "<?xml version=\"1.0\" encoding=\"UTF-8\" standalone=\"no\"?><svg xmlns=\"http://www.w3.org/2000/svg\" xmlns:xlink=\"http://www.w3.org/1999/xlink\" contentScriptType=\"application/ecmascript\" contentStyleType=\"text/css\" height=\"12px\" preserveAspectRatio=\"none\" style=\"width:12px;height:12px;\" version=\"1.1\" viewBox=\"0 0 12 12\" width=\"12px\" zoomAndPan=\"magnify\"><defs/><g><!--MD5=[ca4faa0b02def275ea33c14ea7a1a98d]\n",
       "@startuml\r\n",
       "skinparam roundcorner 20\r\n",
       "skinparam BoxPadding 20\r\n",
       "skinparam SequenceBoxBackgroundColor #white\r\n",
       "skinparam style strictuml\r\n",
       "skinparam maxMessageSize 100\r\n",
       " \r\n",
       "@enduml\r\n",
       "\n",
       "PlantUML version 1.2020.13(Sat Jun 13 12:26:38 UTC 2020)\n",
       "(EPL source distribution)\n",
       "Java Runtime: OpenJDK Runtime Environment\n",
       "JVM: OpenJDK 64-Bit Server VM\n",
       "Default Encoding: UTF-8\n",
       "Language: en\n",
       "Country: null\n",
       "--></g></svg>"
      ]
     },
     "execution_count": 35,
     "metadata": {},
     "output_type": "execute_result"
    }
   ],
   "source": [
    "%viz --style=\"PLANTUML\" --view=\"Sequence\" \"CircularImport\""
   ]
  },
  {
   "cell_type": "code",
   "execution_count": 36,
   "id": "7ea0ec11",
   "metadata": {
    "execution": {
     "iopub.execute_input": "2021-12-15T15:15:39.075350Z",
     "iopub.status.busy": "2021-12-15T15:15:39.075064Z",
     "iopub.status.idle": "2021-12-15T15:15:39.119477Z",
     "shell.execute_reply": "2021-12-15T15:15:39.119098Z"
    }
   },
   "outputs": [
    {
     "data": {
      "image/svg+xml": [
       "<?xml version=\"1.0\" encoding=\"UTF-8\" standalone=\"no\"?><svg xmlns=\"http://www.w3.org/2000/svg\" xmlns:xlink=\"http://www.w3.org/1999/xlink\" contentScriptType=\"application/ecmascript\" contentStyleType=\"text/css\" height=\"297px\" preserveAspectRatio=\"none\" style=\"width:674px;height:297px;\" version=\"1.1\" viewBox=\"0 0 674 297\" width=\"674px\" zoomAndPan=\"magnify\"><defs><filter height=\"300%\" id=\"f1go8kc3yh4rks\" width=\"300%\" x=\"-1\" y=\"-1\"><feGaussianBlur result=\"blurOut\" stdDeviation=\"2.0\"/><feColorMatrix in=\"blurOut\" result=\"blurOut2\" type=\"matrix\" values=\"0 0 0 0 0 0 0 0 0 0 0 0 0 0 0 0 0 0 .4 0\"/><feOffset dx=\"4.0\" dy=\"4.0\" in=\"blurOut2\" result=\"blurOut3\"/><feBlend in=\"SourceGraphic\" in2=\"blurOut3\" mode=\"normal\"/></filter></defs><g><!--MD5=[fbc87193dbaf4d95561dea2c320d4a47]\n",
       "cluster E1--><a href=\"psysml:6d002b47-1de9-4cb8-be5e-1d54cb7fff5c\" target=\"_top\" title=\"psysml:6d002b47-1de9-4cb8-be5e-1d54cb7fff5c\" xlink:actuate=\"onRequest\" xlink:href=\"psysml:6d002b47-1de9-4cb8-be5e-1d54cb7fff5c\" xlink:show=\"new\" xlink:title=\"psysml:6d002b47-1de9-4cb8-be5e-1d54cb7fff5c\" xlink:type=\"simple\"><polygon fill=\"#FFFFFF\" filter=\"url(#f1go8kc3yh4rks)\" points=\"16,6,117,6,124,28.2969,652,28.2969,652,285,16,285,16,6\" style=\"stroke: #000000; stroke-width: 1.5;\"/><line style=\"stroke: #000000; stroke-width: 1.5;\" x1=\"16\" x2=\"124\" y1=\"28.2969\" y2=\"28.2969\"/><text fill=\"#000000\" font-family=\"sans-serif\" font-size=\"14\" font-weight=\"bold\" lengthAdjust=\"spacingAndGlyphs\" textLength=\"95\" x=\"20\" y=\"20.9951\">CircularImport</text></a><!--MD5=[e4f7fae6ed58524ba242bb0b0d3be6b7]\n",
       "cluster E2--><a href=\"psysml:531dfa6c-428e-410a-a6f8-c5b9ff8ecb34\" target=\"_top\" title=\"psysml:531dfa6c-428e-410a-a6f8-c5b9ff8ecb34\" xlink:actuate=\"onRequest\" xlink:href=\"psysml:531dfa6c-428e-410a-a6f8-c5b9ff8ecb34\" xlink:show=\"new\" xlink:title=\"psysml:531dfa6c-428e-410a-a6f8-c5b9ff8ecb34\" xlink:type=\"simple\"><polygon fill=\"#FFFFFF\" filter=\"url(#f1go8kc3yh4rks)\" points=\"463,170,487,170,494,192.2969,535,192.2969,535,261,463,261,463,170\" style=\"stroke: #000000; stroke-width: 1.5;\"/><line style=\"stroke: #000000; stroke-width: 1.5;\" x1=\"463\" x2=\"494\" y1=\"192.2969\" y2=\"192.2969\"/><text fill=\"#000000\" font-family=\"sans-serif\" font-size=\"14\" font-weight=\"bold\" lengthAdjust=\"spacingAndGlyphs\" textLength=\"18\" x=\"467\" y=\"184.9951\">P1</text></a><!--MD5=[f6df4d0ebaf0b5dfb2ced0ae5af7c670]\n",
       "cluster E4--><a href=\"psysml:62a929fe-702a-4460-9e53-8584d6f6435e\" target=\"_top\" title=\"psysml:62a929fe-702a-4460-9e53-8584d6f6435e\" xlink:actuate=\"onRequest\" xlink:href=\"psysml:62a929fe-702a-4460-9e53-8584d6f6435e\" xlink:show=\"new\" xlink:title=\"psysml:62a929fe-702a-4460-9e53-8584d6f6435e\" xlink:type=\"simple\"><polygon fill=\"#FFFFFF\" filter=\"url(#f1go8kc3yh4rks)\" points=\"133,170,157,170,164,192.2969,205,192.2969,205,261,133,261,133,170\" style=\"stroke: #000000; stroke-width: 1.5;\"/><line style=\"stroke: #000000; stroke-width: 1.5;\" x1=\"133\" x2=\"164\" y1=\"192.2969\" y2=\"192.2969\"/><text fill=\"#000000\" font-family=\"sans-serif\" font-size=\"14\" font-weight=\"bold\" lengthAdjust=\"spacingAndGlyphs\" textLength=\"18\" x=\"137\" y=\"184.9951\">P2</text></a><!--MD5=[14e3b0961a2654348d326746436168a1]\n",
       "cluster E6--><a href=\"psysml:0f17a3a9-0805-4d7f-ba6a-07da905c8abf\" target=\"_top\" title=\"psysml:0f17a3a9-0805-4d7f-ba6a-07da905c8abf\" xlink:actuate=\"onRequest\" xlink:href=\"psysml:0f17a3a9-0805-4d7f-ba6a-07da905c8abf\" xlink:show=\"new\" xlink:title=\"psysml:0f17a3a9-0805-4d7f-ba6a-07da905c8abf\" xlink:type=\"simple\"><polygon fill=\"#FFFFFF\" filter=\"url(#f1go8kc3yh4rks)\" points=\"346,49,392,49,399,71.2969,549,71.2969,549,146,346,146,346,49\" style=\"stroke: #000000; stroke-width: 1.5;\"/><line style=\"stroke: #000000; stroke-width: 1.5;\" x1=\"346\" x2=\"399\" y1=\"71.2969\" y2=\"71.2969\"/><text fill=\"#000000\" font-family=\"sans-serif\" font-size=\"14\" font-weight=\"bold\" lengthAdjust=\"spacingAndGlyphs\" textLength=\"40\" x=\"350\" y=\"63.9951\">Test1</text></a><!--MD5=[7f149f147074ac12df2cb0a7728a5fb0]\n",
       "cluster E9--><a href=\"psysml:a06e7d3b-be80-4318-b479-ae1779c5974b\" target=\"_top\" title=\"psysml:a06e7d3b-be80-4318-b479-ae1779c5974b\" xlink:actuate=\"onRequest\" xlink:href=\"psysml:a06e7d3b-be80-4318-b479-ae1779c5974b\" xlink:show=\"new\" xlink:title=\"psysml:a06e7d3b-be80-4318-b479-ae1779c5974b\" xlink:type=\"simple\"><polygon fill=\"#FFFFFF\" filter=\"url(#f1go8kc3yh4rks)\" points=\"119,49,165,49,172,71.2969,322,71.2969,322,146,119,146,119,49\" style=\"stroke: #000000; stroke-width: 1.5;\"/><line style=\"stroke: #000000; stroke-width: 1.5;\" x1=\"119\" x2=\"172\" y1=\"71.2969\" y2=\"71.2969\"/><text fill=\"#000000\" font-family=\"sans-serif\" font-size=\"14\" font-weight=\"bold\" lengthAdjust=\"spacingAndGlyphs\" textLength=\"40\" x=\"123\" y=\"63.9951\">Test2</text></a><!--MD5=[49a0ec8f00dab7302a31f22d0f0fe584]\n",
       "class E12--><a href=\"psysml:665d223a-8fea-436a-b414-0efd919424fb\" target=\"_top\" title=\"psysml:665d223a-8fea-436a-b414-0efd919424fb\" xlink:actuate=\"onRequest\" xlink:href=\"psysml:665d223a-8fea-436a-b414-0efd919424fb\" xlink:show=\"new\" xlink:title=\"psysml:665d223a-8fea-436a-b414-0efd919424fb\" xlink:type=\"simple\"><rect fill=\"#FEFECE\" filter=\"url(#f1go8kc3yh4rks)\" height=\"45.9375\" id=\"E12\" rx=\"10\" ry=\"10\" style=\"stroke: #A80036; stroke-width: 1.5;\" width=\"68\" x=\"568\" y=\"84\"/><ellipse cx=\"583\" cy=\"102.9688\" fill=\"#32CD32\" rx=\"11\" ry=\"11\" style=\"stroke: #A80036; stroke-width: 1.0;\"/><path d=\"M579.8125,107.9688 L579.8125,97.375 L583.4219,97.375 Q584.6406,97.375 585.4375,97.8125 Q586.2344,98.2344 586.6094,98.9375 Q587,99.6406 587,100.4844 Q587,101.3281 586.625,102.0156 Q586.2656,102.7031 585.4688,103.125 Q584.6875,103.5313 583.5,103.5313 L581.7656,103.5313 L581.7656,107.9688 L579.8125,107.9688 Z M581.7656,101.9375 L583.375,101.9375 Q584.1875,101.9375 584.6094,101.5313 Q585.0313,101.125 585.0313,100.4844 Q585.0313,99.8594 584.6094,99.4531 Q584.1875,99.0469 583.3906,99.0469 L581.7656,99.0469 L581.7656,101.9375 Z \"/><text fill=\"#000000\" font-family=\"sans-serif\" font-size=\"12\" font-style=\"italic\" lengthAdjust=\"spacingAndGlyphs\" textLength=\"40\" x=\"595\" y=\"100.1387\">«part»</text><text fill=\"#000000\" font-family=\"sans-serif\" font-size=\"12\" lengthAdjust=\"spacingAndGlyphs\" textLength=\"22\" x=\"602\" y=\"114.1074\">x: A</text><line style=\"stroke: #A80036; stroke-width: 1.5;\" x1=\"569\" x2=\"635\" y1=\"121.9375\" y2=\"121.9375\"/></a><!--MD5=[ee3c913d1a06f366521f9ef512b67efe]\n",
       "class E13--><a href=\"psysml:a1b35d80-8992-43c2-aa5d-6937f2901599\" target=\"_top\" title=\"psysml:a1b35d80-8992-43c2-aa5d-6937f2901599\" xlink:actuate=\"onRequest\" xlink:href=\"psysml:a1b35d80-8992-43c2-aa5d-6937f2901599\" xlink:show=\"new\" xlink:title=\"psysml:a1b35d80-8992-43c2-aa5d-6937f2901599\" xlink:type=\"simple\"><rect fill=\"#FEFECE\" filter=\"url(#f1go8kc3yh4rks)\" height=\"45.9375\" id=\"E13\" rx=\"10\" ry=\"10\" style=\"stroke: #A80036; stroke-width: 1.5;\" width=\"68\" x=\"32\" y=\"84\"/><ellipse cx=\"47\" cy=\"102.9688\" fill=\"#32CD32\" rx=\"11\" ry=\"11\" style=\"stroke: #A80036; stroke-width: 1.0;\"/><path d=\"M43.8125,107.9688 L43.8125,97.375 L47.4219,97.375 Q48.6406,97.375 49.4375,97.8125 Q50.2344,98.2344 50.6094,98.9375 Q51,99.6406 51,100.4844 Q51,101.3281 50.625,102.0156 Q50.2656,102.7031 49.4688,103.125 Q48.6875,103.5313 47.5,103.5313 L45.7656,103.5313 L45.7656,107.9688 L43.8125,107.9688 Z M45.7656,101.9375 L47.375,101.9375 Q48.1875,101.9375 48.6094,101.5313 Q49.0313,101.125 49.0313,100.4844 Q49.0313,99.8594 48.6094,99.4531 Q48.1875,99.0469 47.3906,99.0469 L45.7656,99.0469 L45.7656,101.9375 Z \"/><text fill=\"#000000\" font-family=\"sans-serif\" font-size=\"12\" font-style=\"italic\" lengthAdjust=\"spacingAndGlyphs\" textLength=\"40\" x=\"59\" y=\"100.1387\">«part»</text><text fill=\"#000000\" font-family=\"sans-serif\" font-size=\"12\" lengthAdjust=\"spacingAndGlyphs\" textLength=\"22\" x=\"66\" y=\"114.1074\">y: B</text><line style=\"stroke: #A80036; stroke-width: 1.5;\" x1=\"33\" x2=\"99\" y1=\"121.9375\" y2=\"121.9375\"/></a><!--MD5=[09b614a08d8cba4a07c9adeb5e0fee81]\n",
       "class E3--><a href=\"psysml:8ceeee5f-0d5a-4279-aee9-7758649ab8be\" target=\"_top\" title=\"psysml:8ceeee5f-0d5a-4279-aee9-7758649ab8be\" xlink:actuate=\"onRequest\" xlink:href=\"psysml:8ceeee5f-0d5a-4279-aee9-7758649ab8be\" xlink:show=\"new\" xlink:title=\"psysml:8ceeee5f-0d5a-4279-aee9-7758649ab8be\" xlink:type=\"simple\"><rect fill=\"#FEFECE\" filter=\"url(#f1go8kc3yh4rks)\" height=\"40\" id=\"E3\" style=\"stroke: #A80036; stroke-width: 1.5;\" width=\"40\" x=\"479\" y=\"205\"/><ellipse cx=\"494\" cy=\"221\" fill=\"#008000\" rx=\"11\" ry=\"11\" style=\"stroke: #A80036; stroke-width: 1.0;\"/><path d=\"M490.875,226 L490.875,215.4063 L494.1094,215.4063 Q496.0156,215.4063 496.9219,216.1563 Q497.8438,216.9063 497.8438,218.0781 Q497.8438,218.7656 497.4531,219.4219 Q497.0781,220.0781 496.3594,220.375 Q497.2188,220.75 497.7344,221.4375 Q498.25,222.125 498.25,222.9375 Q498.25,224.3125 497.2188,225.1563 Q496.2031,226 494.0938,226 L490.875,226 Z M492.7969,219.6406 L493.9531,219.6406 Q495.0781,219.6406 495.4844,219.2656 Q495.9063,218.875 495.9063,218.25 Q495.9063,217.6719 495.4844,217.3125 Q495.0625,216.9531 494.125,216.9531 L492.7969,216.9531 L492.7969,219.6406 Z M492.7969,224.4219 L494.2969,224.4219 Q495.2031,224.4219 495.7344,224.0313 Q496.2656,223.6406 496.2656,222.8906 Q496.2656,222.125 495.7656,221.6563 Q495.2656,221.1719 494,221.1719 L492.7969,221.1719 L492.7969,224.4219 Z \"/><text fill=\"#000000\" font-family=\"sans-serif\" font-size=\"12\" lengthAdjust=\"spacingAndGlyphs\" textLength=\"8\" x=\"508\" y=\"225.1543\">A</text><line style=\"stroke: #A80036; stroke-width: 1.5;\" x1=\"480\" x2=\"518\" y1=\"237\" y2=\"237\"/></a><!--MD5=[270fce915f116d4de14055a7c1d9a0f3]\n",
       "class E5--><a href=\"psysml:90844ba8-c1a9-4c46-b7c9-d1a2572e7365\" target=\"_top\" title=\"psysml:90844ba8-c1a9-4c46-b7c9-d1a2572e7365\" xlink:actuate=\"onRequest\" xlink:href=\"psysml:90844ba8-c1a9-4c46-b7c9-d1a2572e7365\" xlink:show=\"new\" xlink:title=\"psysml:90844ba8-c1a9-4c46-b7c9-d1a2572e7365\" xlink:type=\"simple\"><rect fill=\"#FEFECE\" filter=\"url(#f1go8kc3yh4rks)\" height=\"40\" id=\"E5\" style=\"stroke: #A80036; stroke-width: 1.5;\" width=\"40\" x=\"149\" y=\"205\"/><ellipse cx=\"164\" cy=\"221\" fill=\"#008000\" rx=\"11\" ry=\"11\" style=\"stroke: #A80036; stroke-width: 1.0;\"/><path d=\"M160.875,226 L160.875,215.4063 L164.1094,215.4063 Q166.0156,215.4063 166.9219,216.1563 Q167.8438,216.9063 167.8438,218.0781 Q167.8438,218.7656 167.4531,219.4219 Q167.0781,220.0781 166.3594,220.375 Q167.2188,220.75 167.7344,221.4375 Q168.25,222.125 168.25,222.9375 Q168.25,224.3125 167.2188,225.1563 Q166.2031,226 164.0938,226 L160.875,226 Z M162.7969,219.6406 L163.9531,219.6406 Q165.0781,219.6406 165.4844,219.2656 Q165.9063,218.875 165.9063,218.25 Q165.9063,217.6719 165.4844,217.3125 Q165.0625,216.9531 164.125,216.9531 L162.7969,216.9531 L162.7969,219.6406 Z M162.7969,224.4219 L164.2969,224.4219 Q165.2031,224.4219 165.7344,224.0313 Q166.2656,223.6406 166.2656,222.8906 Q166.2656,222.125 165.7656,221.6563 Q165.2656,221.1719 164,221.1719 L162.7969,221.1719 L162.7969,224.4219 Z \"/><text fill=\"#000000\" font-family=\"sans-serif\" font-size=\"12\" lengthAdjust=\"spacingAndGlyphs\" textLength=\"8\" x=\"178\" y=\"225.1543\">B</text><line style=\"stroke: #A80036; stroke-width: 1.5;\" x1=\"150\" x2=\"188\" y1=\"237\" y2=\"237\"/></a><!--MD5=[2156ba9850f5573cc1fc38a6a4b2f02b]\n",
       "class E7--><a href=\"psysml:9a31b8cb-b3f5-4478-b49b-73e9fd0f6da5\" target=\"_top\" title=\"psysml:9a31b8cb-b3f5-4478-b49b-73e9fd0f6da5\" xlink:actuate=\"onRequest\" xlink:href=\"psysml:9a31b8cb-b3f5-4478-b49b-73e9fd0f6da5\" xlink:show=\"new\" xlink:title=\"psysml:9a31b8cb-b3f5-4478-b49b-73e9fd0f6da5\" xlink:type=\"simple\"><rect fill=\"#FEFECE\" filter=\"url(#f1go8kc3yh4rks)\" height=\"45.9375\" id=\"E7\" rx=\"10\" ry=\"10\" style=\"stroke: #A80036; stroke-width: 1.5;\" width=\"68\" x=\"465\" y=\"84\"/><ellipse cx=\"480\" cy=\"102.9688\" fill=\"#32CD32\" rx=\"11\" ry=\"11\" style=\"stroke: #A80036; stroke-width: 1.0;\"/><path d=\"M476.8125,107.9688 L476.8125,97.375 L480.4219,97.375 Q481.6406,97.375 482.4375,97.8125 Q483.2344,98.2344 483.6094,98.9375 Q484,99.6406 484,100.4844 Q484,101.3281 483.625,102.0156 Q483.2656,102.7031 482.4688,103.125 Q481.6875,103.5313 480.5,103.5313 L478.7656,103.5313 L478.7656,107.9688 L476.8125,107.9688 Z M478.7656,101.9375 L480.375,101.9375 Q481.1875,101.9375 481.6094,101.5313 Q482.0313,101.125 482.0313,100.4844 Q482.0313,99.8594 481.6094,99.4531 Q481.1875,99.0469 480.3906,99.0469 L478.7656,99.0469 L478.7656,101.9375 Z \"/><text fill=\"#000000\" font-family=\"sans-serif\" font-size=\"12\" font-style=\"italic\" lengthAdjust=\"spacingAndGlyphs\" textLength=\"40\" x=\"492\" y=\"100.1387\">«part»</text><text fill=\"#000000\" font-family=\"sans-serif\" font-size=\"12\" lengthAdjust=\"spacingAndGlyphs\" textLength=\"22\" x=\"499\" y=\"114.1074\">x: A</text><line style=\"stroke: #A80036; stroke-width: 1.5;\" x1=\"466\" x2=\"532\" y1=\"121.9375\" y2=\"121.9375\"/></a><!--MD5=[b9389687b975829384b498ac4b7476b2]\n",
       "class E8--><a href=\"psysml:084cb86b-cc59-4a41-8b1c-7b7410cc5029\" target=\"_top\" title=\"psysml:084cb86b-cc59-4a41-8b1c-7b7410cc5029\" xlink:actuate=\"onRequest\" xlink:href=\"psysml:084cb86b-cc59-4a41-8b1c-7b7410cc5029\" xlink:show=\"new\" xlink:title=\"psysml:084cb86b-cc59-4a41-8b1c-7b7410cc5029\" xlink:type=\"simple\"><rect fill=\"#FEFECE\" filter=\"url(#f1go8kc3yh4rks)\" height=\"45.9375\" id=\"E8\" rx=\"10\" ry=\"10\" style=\"stroke: #A80036; stroke-width: 1.5;\" width=\"68\" x=\"362\" y=\"84\"/><ellipse cx=\"377\" cy=\"102.9688\" fill=\"#32CD32\" rx=\"11\" ry=\"11\" style=\"stroke: #A80036; stroke-width: 1.0;\"/><path d=\"M373.8125,107.9688 L373.8125,97.375 L377.4219,97.375 Q378.6406,97.375 379.4375,97.8125 Q380.2344,98.2344 380.6094,98.9375 Q381,99.6406 381,100.4844 Q381,101.3281 380.625,102.0156 Q380.2656,102.7031 379.4688,103.125 Q378.6875,103.5313 377.5,103.5313 L375.7656,103.5313 L375.7656,107.9688 L373.8125,107.9688 Z M375.7656,101.9375 L377.375,101.9375 Q378.1875,101.9375 378.6094,101.5313 Q379.0313,101.125 379.0313,100.4844 Q379.0313,99.8594 378.6094,99.4531 Q378.1875,99.0469 377.3906,99.0469 L375.7656,99.0469 L375.7656,101.9375 Z \"/><text fill=\"#000000\" font-family=\"sans-serif\" font-size=\"12\" font-style=\"italic\" lengthAdjust=\"spacingAndGlyphs\" textLength=\"40\" x=\"389\" y=\"100.1387\">«part»</text><text fill=\"#000000\" font-family=\"sans-serif\" font-size=\"12\" lengthAdjust=\"spacingAndGlyphs\" textLength=\"22\" x=\"396\" y=\"114.1074\">y: B</text><line style=\"stroke: #A80036; stroke-width: 1.5;\" x1=\"363\" x2=\"429\" y1=\"121.9375\" y2=\"121.9375\"/></a><!--MD5=[96f4274e9e20536e775497830990834d]\n",
       "class E10--><a href=\"psysml:377a64d2-1aa6-4a9b-ba95-6aeb6c1d992f\" target=\"_top\" title=\"psysml:377a64d2-1aa6-4a9b-ba95-6aeb6c1d992f\" xlink:actuate=\"onRequest\" xlink:href=\"psysml:377a64d2-1aa6-4a9b-ba95-6aeb6c1d992f\" xlink:show=\"new\" xlink:title=\"psysml:377a64d2-1aa6-4a9b-ba95-6aeb6c1d992f\" xlink:type=\"simple\"><rect fill=\"#FEFECE\" filter=\"url(#f1go8kc3yh4rks)\" height=\"45.9375\" id=\"E10\" rx=\"10\" ry=\"10\" style=\"stroke: #A80036; stroke-width: 1.5;\" width=\"68\" x=\"238\" y=\"84\"/><ellipse cx=\"253\" cy=\"102.9688\" fill=\"#32CD32\" rx=\"11\" ry=\"11\" style=\"stroke: #A80036; stroke-width: 1.0;\"/><path d=\"M249.8125,107.9688 L249.8125,97.375 L253.4219,97.375 Q254.6406,97.375 255.4375,97.8125 Q256.2344,98.2344 256.6094,98.9375 Q257,99.6406 257,100.4844 Q257,101.3281 256.625,102.0156 Q256.2656,102.7031 255.4688,103.125 Q254.6875,103.5313 253.5,103.5313 L251.7656,103.5313 L251.7656,107.9688 L249.8125,107.9688 Z M251.7656,101.9375 L253.375,101.9375 Q254.1875,101.9375 254.6094,101.5313 Q255.0313,101.125 255.0313,100.4844 Q255.0313,99.8594 254.6094,99.4531 Q254.1875,99.0469 253.3906,99.0469 L251.7656,99.0469 L251.7656,101.9375 Z \"/><text fill=\"#000000\" font-family=\"sans-serif\" font-size=\"12\" font-style=\"italic\" lengthAdjust=\"spacingAndGlyphs\" textLength=\"40\" x=\"265\" y=\"100.1387\">«part»</text><text fill=\"#000000\" font-family=\"sans-serif\" font-size=\"12\" lengthAdjust=\"spacingAndGlyphs\" textLength=\"22\" x=\"272\" y=\"114.1074\">x: A</text><line style=\"stroke: #A80036; stroke-width: 1.5;\" x1=\"239\" x2=\"305\" y1=\"121.9375\" y2=\"121.9375\"/></a><!--MD5=[1dd1bfd58a279cf63c5f349dbc8fc6a1]\n",
       "class E11--><a href=\"psysml:7cdd5db6-fbbe-4f9d-b259-3a085be4f068\" target=\"_top\" title=\"psysml:7cdd5db6-fbbe-4f9d-b259-3a085be4f068\" xlink:actuate=\"onRequest\" xlink:href=\"psysml:7cdd5db6-fbbe-4f9d-b259-3a085be4f068\" xlink:show=\"new\" xlink:title=\"psysml:7cdd5db6-fbbe-4f9d-b259-3a085be4f068\" xlink:type=\"simple\"><rect fill=\"#FEFECE\" filter=\"url(#f1go8kc3yh4rks)\" height=\"45.9375\" id=\"E11\" rx=\"10\" ry=\"10\" style=\"stroke: #A80036; stroke-width: 1.5;\" width=\"68\" x=\"135\" y=\"84\"/><ellipse cx=\"150\" cy=\"102.9688\" fill=\"#32CD32\" rx=\"11\" ry=\"11\" style=\"stroke: #A80036; stroke-width: 1.0;\"/><path d=\"M146.8125,107.9688 L146.8125,97.375 L150.4219,97.375 Q151.6406,97.375 152.4375,97.8125 Q153.2344,98.2344 153.6094,98.9375 Q154,99.6406 154,100.4844 Q154,101.3281 153.625,102.0156 Q153.2656,102.7031 152.4688,103.125 Q151.6875,103.5313 150.5,103.5313 L148.7656,103.5313 L148.7656,107.9688 L146.8125,107.9688 Z M148.7656,101.9375 L150.375,101.9375 Q151.1875,101.9375 151.6094,101.5313 Q152.0313,101.125 152.0313,100.4844 Q152.0313,99.8594 151.6094,99.4531 Q151.1875,99.0469 150.3906,99.0469 L148.7656,99.0469 L148.7656,101.9375 Z \"/><text fill=\"#000000\" font-family=\"sans-serif\" font-size=\"12\" font-style=\"italic\" lengthAdjust=\"spacingAndGlyphs\" textLength=\"40\" x=\"162\" y=\"100.1387\">«part»</text><text fill=\"#000000\" font-family=\"sans-serif\" font-size=\"12\" lengthAdjust=\"spacingAndGlyphs\" textLength=\"22\" x=\"169\" y=\"114.1074\">y: B</text><line style=\"stroke: #A80036; stroke-width: 1.5;\" x1=\"136\" x2=\"202\" y1=\"121.9375\" y2=\"121.9375\"/></a><!--MD5=[14ccda38c055a5c0da953d572bc50960]\n",
       "link E7 to E3--><a href=\"psysml:0b2c7bde-3c6f-4711-9ee8-a744dba64aec\" target=\"_top\" title=\"psysml:0b2c7bde-3c6f-4711-9ee8-a744dba64aec\" xlink:actuate=\"onRequest\" xlink:href=\"psysml:0b2c7bde-3c6f-4711-9ee8-a744dba64aec\" xlink:show=\"new\" xlink:title=\"psysml:0b2c7bde-3c6f-4711-9ee8-a744dba64aec\" xlink:type=\"simple\"><path d=\"M499,130.09 C499,145.42 499,166.27 499,184.42 \" fill=\"none\" id=\"E7-&gt;E3\" style=\"stroke: #A80036; stroke-width: 1.0;\"/><polygon fill=\"#FFFFFF\" points=\"499,204.69,492,185.69,506,185.69,499,204.69\" style=\"stroke: #A80036; stroke-width: 1.0;\"/><ellipse cx=\"494\" cy=\"179.99\" fill=\"#A80036\" rx=\"2\" ry=\"2\" style=\"stroke: #A80036; stroke-width: 1.0;\"/><ellipse cx=\"504\" cy=\"179.99\" fill=\"#A80036\" rx=\"2\" ry=\"2\" style=\"stroke: #A80036; stroke-width: 1.0;\"/></a><!--MD5=[1ccb2481ffa92f8d51a74ee30c51832a]\n",
       "link E8 to E5--><a href=\"psysml:16eea2e1-2a1c-45c0-89dc-072c92b0db51\" target=\"_top\" title=\"psysml:16eea2e1-2a1c-45c0-89dc-072c92b0db51\" xlink:actuate=\"onRequest\" xlink:href=\"psysml:16eea2e1-2a1c-45c0-89dc-072c92b0db51\" xlink:show=\"new\" xlink:title=\"psysml:16eea2e1-2a1c-45c0-89dc-072c92b0db51\" xlink:type=\"simple\"><path d=\"M362.27,130.22 C349.82,138.09 335.46,146.77 322,154 C284.18,174.3 239.36,194.36 208.05,207.77 \" fill=\"none\" id=\"E8-&gt;E5\" style=\"stroke: #A80036; stroke-width: 1.0;\"/><polygon fill=\"#FFFFFF\" points=\"189.2,215.73,203.9741,201.8834,209.4261,214.7782,189.2,215.73\" style=\"stroke: #A80036; stroke-width: 1.0;\"/><ellipse cx=\"210.0029\" cy=\"201.5058\" fill=\"#A80036\" rx=\"2\" ry=\"2\" style=\"stroke: #A80036; stroke-width: 1.0;\"/><ellipse cx=\"213.8972\" cy=\"210.7164\" fill=\"#A80036\" rx=\"2\" ry=\"2\" style=\"stroke: #A80036; stroke-width: 1.0;\"/></a><!--MD5=[feeac5eb423634930294aa81f2d25a4c]\n",
       "link E10 to E3--><a href=\"psysml:0ac0ff17-b961-483b-88a6-6c34531d2872\" target=\"_top\" title=\"psysml:0ac0ff17-b961-483b-88a6-6c34531d2872\" xlink:actuate=\"onRequest\" xlink:href=\"psysml:0ac0ff17-b961-483b-88a6-6c34531d2872\" xlink:show=\"new\" xlink:title=\"psysml:0ac0ff17-b961-483b-88a6-6c34531d2872\" xlink:type=\"simple\"><path d=\"M305.73,130.22 C318.18,138.09 332.54,146.77 346,154 C383.82,174.3 428.64,194.36 459.95,207.77 \" fill=\"none\" id=\"E10-&gt;E3\" style=\"stroke: #A80036; stroke-width: 1.0;\"/><polygon fill=\"#FFFFFF\" points=\"478.8,215.73,458.5739,214.7782,464.0259,201.8834,478.8,215.73\" style=\"stroke: #A80036; stroke-width: 1.0;\"/><ellipse cx=\"454.1028\" cy=\"210.7164\" fill=\"#A80036\" rx=\"2\" ry=\"2\" style=\"stroke: #A80036; stroke-width: 1.0;\"/><ellipse cx=\"457.9971\" cy=\"201.5058\" fill=\"#A80036\" rx=\"2\" ry=\"2\" style=\"stroke: #A80036; stroke-width: 1.0;\"/></a><!--MD5=[07b77f6f309248d16187045709d1c26e]\n",
       "link E11 to E5--><a href=\"psysml:7353245a-aec5-4316-8af8-2852475c4dc4\" target=\"_top\" title=\"psysml:7353245a-aec5-4316-8af8-2852475c4dc4\" xlink:actuate=\"onRequest\" xlink:href=\"psysml:7353245a-aec5-4316-8af8-2852475c4dc4\" xlink:show=\"new\" xlink:title=\"psysml:7353245a-aec5-4316-8af8-2852475c4dc4\" xlink:type=\"simple\"><path d=\"M169,130.09 C169,145.42 169,166.27 169,184.42 \" fill=\"none\" id=\"E11-&gt;E5\" style=\"stroke: #A80036; stroke-width: 1.0;\"/><polygon fill=\"#FFFFFF\" points=\"169,204.69,162,185.69,176,185.69,169,204.69\" style=\"stroke: #A80036; stroke-width: 1.0;\"/><ellipse cx=\"164\" cy=\"179.99\" fill=\"#A80036\" rx=\"2\" ry=\"2\" style=\"stroke: #A80036; stroke-width: 1.0;\"/><ellipse cx=\"174\" cy=\"179.99\" fill=\"#A80036\" rx=\"2\" ry=\"2\" style=\"stroke: #A80036; stroke-width: 1.0;\"/></a><!--MD5=[39f41a0e550fb3d73b4d8135617e30a2]\n",
       "link E12 to E3--><a href=\"psysml:6cc10db6-ba98-48a2-919a-a7b34cb2bdfc\" target=\"_top\" title=\"psysml:6cc10db6-ba98-48a2-919a-a7b34cb2bdfc\" xlink:actuate=\"onRequest\" xlink:href=\"psysml:6cc10db6-ba98-48a2-919a-a7b34cb2bdfc\" xlink:show=\"new\" xlink:title=\"psysml:6cc10db6-ba98-48a2-919a-a7b34cb2bdfc\" xlink:type=\"simple\"><path d=\"M582.38,130.09 C567.43,146.94 546.56,170.44 529.44,189.72 \" fill=\"none\" id=\"E12-&gt;E3\" style=\"stroke: #A80036; stroke-width: 1.0;\"/><polygon fill=\"#FFFFFF\" points=\"516.15,204.69,523.5343,185.836,534.0014,195.1334,516.15,204.69\" style=\"stroke: #A80036; stroke-width: 1.0;\"/><ellipse cx=\"528.815\" cy=\"182.9027\" fill=\"#A80036\" rx=\"2\" ry=\"2\" style=\"stroke: #A80036; stroke-width: 1.0;\"/><ellipse cx=\"536.2914\" cy=\"189.5436\" fill=\"#A80036\" rx=\"2\" ry=\"2\" style=\"stroke: #A80036; stroke-width: 1.0;\"/></a><!--MD5=[066b2d8af59fea80ccdb3d54ad5c1091]\n",
       "link E13 to E5--><a href=\"psysml:fb180b05-d2cf-42d1-bf2a-01829ad20206\" target=\"_top\" title=\"psysml:fb180b05-d2cf-42d1-bf2a-01829ad20206\" xlink:actuate=\"onRequest\" xlink:href=\"psysml:fb180b05-d2cf-42d1-bf2a-01829ad20206\" xlink:show=\"new\" xlink:title=\"psysml:fb180b05-d2cf-42d1-bf2a-01829ad20206\" xlink:type=\"simple\"><path d=\"M85.62,130.09 C100.57,146.94 121.44,170.44 138.56,189.72 \" fill=\"none\" id=\"E13-&gt;E5\" style=\"stroke: #A80036; stroke-width: 1.0;\"/><polygon fill=\"#FFFFFF\" points=\"151.85,204.69,133.9986,195.1334,144.4657,185.836,151.85,204.69\" style=\"stroke: #A80036; stroke-width: 1.0;\"/><ellipse cx=\"131.7086\" cy=\"189.5436\" fill=\"#A80036\" rx=\"2\" ry=\"2\" style=\"stroke: #A80036; stroke-width: 1.0;\"/><ellipse cx=\"139.185\" cy=\"182.9027\" fill=\"#A80036\" rx=\"2\" ry=\"2\" style=\"stroke: #A80036; stroke-width: 1.0;\"/></a><!--MD5=[651464c83a5ac8d412dd26718f5456e7]\n",
       "@startuml\r\n",
       " \r\n",
       "package \"CircularImport\" as E1  [[psysml:6d002b47-1de9-4cb8-be5e-1d54cb7fff5c ]]  {\r\n",
       "package \"P1\" as E2  [[psysml:531dfa6c-428e-410a-a6f8-c5b9ff8ecb34 ]]  {\r\n",
       "comp def \"A\" as E3 << << (B,green) >> [[psysml:8ceeee5f-0d5a-4279-aee9-7758649ab8be ]] {\r\n",
       "}\r\n",
       "}\r\n",
       "package \"P2\" as E4  [[psysml:62a929fe-702a-4460-9e53-8584d6f6435e ]]  {\r\n",
       "comp def \"B\" as E5 << << (B,green) >> [[psysml:90844ba8-c1a9-4c46-b7c9-d1a2572e7365 ]] {\r\n",
       "}\r\n",
       "}\r\n",
       "package \"Test1\" as E6  [[psysml:0f17a3a9-0805-4d7f-ba6a-07da905c8abf ]]  {\r\n",
       "comp usage \"x: A \" as E7 << << (P,limegreen) part>> [[psysml:9a31b8cb-b3f5-4478-b49b-73e9fd0f6da5 ]] {\r\n",
       "}\r\n",
       "comp usage \"y: B \" as E8 << << (P,limegreen) part>> [[psysml:084cb86b-cc59-4a41-8b1c-7b7410cc5029 ]] {\r\n",
       "}\r\n",
       "}\r\n",
       "package \"Test2\" as E9  [[psysml:a06e7d3b-be80-4318-b479-ae1779c5974b ]]  {\r\n",
       "comp usage \"x: A \" as E10 << << (P,limegreen) part>> [[psysml:377a64d2-1aa6-4a9b-ba95-6aeb6c1d992f ]] {\r\n",
       "}\r\n",
       "comp usage \"y: B \" as E11 << << (P,limegreen) part>> [[psysml:7cdd5db6-fbbe-4f9d-b259-3a085be4f068 ]] {\r\n",
       "}\r\n",
       "}\r\n",
       "comp usage \"x: A \" as E12 << << (P,limegreen) part>> [[psysml:665d223a-8fea-436a-b414-0efd919424fb ]] {\r\n",
       "}\r\n",
       "comp usage \"y: B \" as E13 << << (P,limegreen) part>> [[psysml:a1b35d80-8992-43c2-aa5d-6937f2901599 ]] {\r\n",
       "}\r\n",
       "}\r\n",
       "E7 - -:|> E3 [[psysml:0b2c7bde-3c6f-4711-9ee8-a744dba64aec ]] \r\n",
       "E8 - -:|> E5 [[psysml:16eea2e1-2a1c-45c0-89dc-072c92b0db51 ]] \r\n",
       "E10 - -:|> E3 [[psysml:0ac0ff17-b961-483b-88a6-6c34531d2872 ]] \r\n",
       "E11 - -:|> E5 [[psysml:7353245a-aec5-4316-8af8-2852475c4dc4 ]] \r\n",
       "E12 - -:|> E3 [[psysml:6cc10db6-ba98-48a2-919a-a7b34cb2bdfc ]] \r\n",
       "E13 - -:|> E5 [[psysml:fb180b05-d2cf-42d1-bf2a-01829ad20206 ]] \r\n",
       "@enduml\r\n",
       "\n",
       "PlantUML version 1.2020.13(Sat Jun 13 12:26:38 UTC 2020)\n",
       "(EPL source distribution)\n",
       "Java Runtime: OpenJDK Runtime Environment\n",
       "JVM: OpenJDK 64-Bit Server VM\n",
       "Default Encoding: UTF-8\n",
       "Language: en\n",
       "Country: null\n",
       "--></g></svg>"
      ]
     },
     "execution_count": 36,
     "metadata": {},
     "output_type": "execute_result"
    }
   ],
   "source": [
    "%viz --style=\"PLANTUML\" --view=\"MIXED\" \"CircularImport\""
   ]
  },
  {
   "cell_type": "code",
   "execution_count": 37,
   "id": "02c57260",
   "metadata": {
    "execution": {
     "iopub.execute_input": "2021-12-15T15:15:39.168423Z",
     "iopub.status.busy": "2021-12-15T15:15:39.167886Z",
     "iopub.status.idle": "2021-12-15T15:15:39.216323Z",
     "shell.execute_reply": "2021-12-15T15:15:39.213650Z"
    }
   },
   "outputs": [
    {
     "data": {
      "image/svg+xml": [
       "<?xml version=\"1.0\" encoding=\"UTF-8\" standalone=\"no\"?><svg xmlns=\"http://www.w3.org/2000/svg\" xmlns:xlink=\"http://www.w3.org/1999/xlink\" contentScriptType=\"application/ecmascript\" contentStyleType=\"text/css\" height=\"303px\" preserveAspectRatio=\"none\" style=\"width:518px;height:303px;\" version=\"1.1\" viewBox=\"0 0 518 303\" width=\"518px\" zoomAndPan=\"magnify\"><defs/><g><!--MD5=[fbc87193dbaf4d95561dea2c320d4a47]\n",
       "cluster E1--><a href=\"psysml:6d002b47-1de9-4cb8-be5e-1d54cb7fff5c\" target=\"_top\" title=\"psysml:6d002b47-1de9-4cb8-be5e-1d54cb7fff5c\" xlink:actuate=\"onRequest\" xlink:href=\"psysml:6d002b47-1de9-4cb8-be5e-1d54cb7fff5c\" xlink:show=\"new\" xlink:title=\"psysml:6d002b47-1de9-4cb8-be5e-1d54cb7fff5c\" xlink:type=\"simple\"><polygon fill=\"#FFFFFF\" points=\"16,6,117,6,124,28.2969,496,28.2969,496,291,16,291,16,6\" style=\"stroke: #000000; stroke-width: 1.5;\"/><line style=\"stroke: #000000; stroke-width: 1.5;\" x1=\"16\" x2=\"124\" y1=\"28.2969\" y2=\"28.2969\"/><text fill=\"#000000\" font-family=\"sans-serif\" font-size=\"14\" font-weight=\"bold\" lengthAdjust=\"spacingAndGlyphs\" textLength=\"95\" x=\"20\" y=\"20.9951\">CircularImport</text></a><!--MD5=[e4f7fae6ed58524ba242bb0b0d3be6b7]\n",
       "cluster E2--><a href=\"psysml:531dfa6c-428e-410a-a6f8-c5b9ff8ecb34\" target=\"_top\" title=\"psysml:531dfa6c-428e-410a-a6f8-c5b9ff8ecb34\" xlink:actuate=\"onRequest\" xlink:href=\"psysml:531dfa6c-428e-410a-a6f8-c5b9ff8ecb34\" xlink:show=\"new\" xlink:title=\"psysml:531dfa6c-428e-410a-a6f8-c5b9ff8ecb34\" xlink:type=\"simple\"><polygon fill=\"#FFFFFF\" points=\"331,170,355,170,362,192.2969,433,192.2969,433,267,331,267,331,170\" style=\"stroke: #000000; stroke-width: 1.5;\"/><line style=\"stroke: #000000; stroke-width: 1.5;\" x1=\"331\" x2=\"362\" y1=\"192.2969\" y2=\"192.2969\"/><text fill=\"#000000\" font-family=\"sans-serif\" font-size=\"14\" font-weight=\"bold\" lengthAdjust=\"spacingAndGlyphs\" textLength=\"18\" x=\"335\" y=\"184.9951\">P1</text></a><!--MD5=[f6df4d0ebaf0b5dfb2ced0ae5af7c670]\n",
       "cluster E4--><a href=\"psysml:62a929fe-702a-4460-9e53-8584d6f6435e\" target=\"_top\" title=\"psysml:62a929fe-702a-4460-9e53-8584d6f6435e\" xlink:actuate=\"onRequest\" xlink:href=\"psysml:62a929fe-702a-4460-9e53-8584d6f6435e\" xlink:show=\"new\" xlink:title=\"psysml:62a929fe-702a-4460-9e53-8584d6f6435e\" xlink:type=\"simple\"><polygon fill=\"#FFFFFF\" points=\"79,170,103,170,110,192.2969,181,192.2969,181,267,79,267,79,170\" style=\"stroke: #000000; stroke-width: 1.5;\"/><line style=\"stroke: #000000; stroke-width: 1.5;\" x1=\"79\" x2=\"110\" y1=\"192.2969\" y2=\"192.2969\"/><text fill=\"#000000\" font-family=\"sans-serif\" font-size=\"14\" font-weight=\"bold\" lengthAdjust=\"spacingAndGlyphs\" textLength=\"18\" x=\"83\" y=\"184.9951\">P2</text></a><!--MD5=[14e3b0961a2654348d326746436168a1]\n",
       "cluster E6--><a href=\"psysml:0f17a3a9-0805-4d7f-ba6a-07da905c8abf\" target=\"_top\" title=\"psysml:0f17a3a9-0805-4d7f-ba6a-07da905c8abf\" xlink:actuate=\"onRequest\" xlink:href=\"psysml:0f17a3a9-0805-4d7f-ba6a-07da905c8abf\" xlink:show=\"new\" xlink:title=\"psysml:0f17a3a9-0805-4d7f-ba6a-07da905c8abf\" xlink:type=\"simple\"><polygon fill=\"#FFFFFF\" points=\"268,49,314,49,321,71.2969,419,71.2969,419,146,268,146,268,49\" style=\"stroke: #000000; stroke-width: 1.5;\"/><line style=\"stroke: #000000; stroke-width: 1.5;\" x1=\"268\" x2=\"321\" y1=\"71.2969\" y2=\"71.2969\"/><text fill=\"#000000\" font-family=\"sans-serif\" font-size=\"14\" font-weight=\"bold\" lengthAdjust=\"spacingAndGlyphs\" textLength=\"40\" x=\"272\" y=\"63.9951\">Test1</text></a><!--MD5=[7f149f147074ac12df2cb0a7728a5fb0]\n",
       "cluster E9--><a href=\"psysml:a06e7d3b-be80-4318-b479-ae1779c5974b\" target=\"_top\" title=\"psysml:a06e7d3b-be80-4318-b479-ae1779c5974b\" xlink:actuate=\"onRequest\" xlink:href=\"psysml:a06e7d3b-be80-4318-b479-ae1779c5974b\" xlink:show=\"new\" xlink:title=\"psysml:a06e7d3b-be80-4318-b479-ae1779c5974b\" xlink:type=\"simple\"><polygon fill=\"#FFFFFF\" points=\"93,49,139,49,146,71.2969,244,71.2969,244,146,93,146,93,49\" style=\"stroke: #000000; stroke-width: 1.5;\"/><line style=\"stroke: #000000; stroke-width: 1.5;\" x1=\"93\" x2=\"146\" y1=\"71.2969\" y2=\"71.2969\"/><text fill=\"#000000\" font-family=\"sans-serif\" font-size=\"14\" font-weight=\"bold\" lengthAdjust=\"spacingAndGlyphs\" textLength=\"40\" x=\"97\" y=\"63.9951\">Test2</text></a><!--MD5=[49a0ec8f00dab7302a31f22d0f0fe584]\n",
       "class E12--><a href=\"psysml:665d223a-8fea-436a-b414-0efd919424fb\" target=\"_top\" title=\"psysml:665d223a-8fea-436a-b414-0efd919424fb\" xlink:actuate=\"onRequest\" xlink:href=\"psysml:665d223a-8fea-436a-b414-0efd919424fb\" xlink:show=\"new\" xlink:title=\"psysml:665d223a-8fea-436a-b414-0efd919424fb\" xlink:type=\"simple\"><rect fill=\"#FFFFFF\" height=\"45.9375\" id=\"E12\" rx=\"10\" ry=\"10\" style=\"stroke: #383838; stroke-width: 1.5;\" width=\"42\" x=\"438\" y=\"84\"/><text fill=\"#000000\" font-family=\"sans-serif\" font-size=\"12\" font-style=\"italic\" lengthAdjust=\"spacingAndGlyphs\" textLength=\"40\" x=\"439\" y=\"100.1387\">«part»</text><text fill=\"#000000\" font-family=\"sans-serif\" font-size=\"12\" lengthAdjust=\"spacingAndGlyphs\" textLength=\"22\" x=\"446\" y=\"114.1074\">x: A</text><line style=\"stroke: #383838; stroke-width: 1.5;\" x1=\"439\" x2=\"479\" y1=\"121.9375\" y2=\"121.9375\"/></a><!--MD5=[ee3c913d1a06f366521f9ef512b67efe]\n",
       "class E13--><a href=\"psysml:a1b35d80-8992-43c2-aa5d-6937f2901599\" target=\"_top\" title=\"psysml:a1b35d80-8992-43c2-aa5d-6937f2901599\" xlink:actuate=\"onRequest\" xlink:href=\"psysml:a1b35d80-8992-43c2-aa5d-6937f2901599\" xlink:show=\"new\" xlink:title=\"psysml:a1b35d80-8992-43c2-aa5d-6937f2901599\" xlink:type=\"simple\"><rect fill=\"#FFFFFF\" height=\"45.9375\" id=\"E13\" rx=\"10\" ry=\"10\" style=\"stroke: #383838; stroke-width: 1.5;\" width=\"42\" x=\"32\" y=\"84\"/><text fill=\"#000000\" font-family=\"sans-serif\" font-size=\"12\" font-style=\"italic\" lengthAdjust=\"spacingAndGlyphs\" textLength=\"40\" x=\"33\" y=\"100.1387\">«part»</text><text fill=\"#000000\" font-family=\"sans-serif\" font-size=\"12\" lengthAdjust=\"spacingAndGlyphs\" textLength=\"22\" x=\"40\" y=\"114.1074\">y: B</text><line style=\"stroke: #383838; stroke-width: 1.5;\" x1=\"33\" x2=\"73\" y1=\"121.9375\" y2=\"121.9375\"/></a><!--MD5=[09b614a08d8cba4a07c9adeb5e0fee81]\n",
       "class E3--><a href=\"psysml:8ceeee5f-0d5a-4279-aee9-7758649ab8be\" target=\"_top\" title=\"psysml:8ceeee5f-0d5a-4279-aee9-7758649ab8be\" xlink:actuate=\"onRequest\" xlink:href=\"psysml:8ceeee5f-0d5a-4279-aee9-7758649ab8be\" xlink:show=\"new\" xlink:title=\"psysml:8ceeee5f-0d5a-4279-aee9-7758649ab8be\" xlink:type=\"simple\"><rect fill=\"#FFFFFF\" height=\"45.9375\" id=\"E3\" style=\"stroke: #383838; stroke-width: 1.5;\" width=\"70\" x=\"347\" y=\"205\"/><text fill=\"#000000\" font-family=\"sans-serif\" font-size=\"12\" font-style=\"italic\" lengthAdjust=\"spacingAndGlyphs\" textLength=\"68\" x=\"348\" y=\"221.1387\">«part  def»</text><text fill=\"#000000\" font-family=\"sans-serif\" font-size=\"12\" lengthAdjust=\"spacingAndGlyphs\" textLength=\"8\" x=\"378\" y=\"235.1074\">A</text><line style=\"stroke: #383838; stroke-width: 1.5;\" x1=\"348\" x2=\"416\" y1=\"242.9375\" y2=\"242.9375\"/></a><!--MD5=[270fce915f116d4de14055a7c1d9a0f3]\n",
       "class E5--><a href=\"psysml:90844ba8-c1a9-4c46-b7c9-d1a2572e7365\" target=\"_top\" title=\"psysml:90844ba8-c1a9-4c46-b7c9-d1a2572e7365\" xlink:actuate=\"onRequest\" xlink:href=\"psysml:90844ba8-c1a9-4c46-b7c9-d1a2572e7365\" xlink:show=\"new\" xlink:title=\"psysml:90844ba8-c1a9-4c46-b7c9-d1a2572e7365\" xlink:type=\"simple\"><rect fill=\"#FFFFFF\" height=\"45.9375\" id=\"E5\" style=\"stroke: #383838; stroke-width: 1.5;\" width=\"70\" x=\"95\" y=\"205\"/><text fill=\"#000000\" font-family=\"sans-serif\" font-size=\"12\" font-style=\"italic\" lengthAdjust=\"spacingAndGlyphs\" textLength=\"68\" x=\"96\" y=\"221.1387\">«part  def»</text><text fill=\"#000000\" font-family=\"sans-serif\" font-size=\"12\" lengthAdjust=\"spacingAndGlyphs\" textLength=\"8\" x=\"126\" y=\"235.1074\">B</text><line style=\"stroke: #383838; stroke-width: 1.5;\" x1=\"96\" x2=\"164\" y1=\"242.9375\" y2=\"242.9375\"/></a><!--MD5=[2156ba9850f5573cc1fc38a6a4b2f02b]\n",
       "class E7--><a href=\"psysml:9a31b8cb-b3f5-4478-b49b-73e9fd0f6da5\" target=\"_top\" title=\"psysml:9a31b8cb-b3f5-4478-b49b-73e9fd0f6da5\" xlink:actuate=\"onRequest\" xlink:href=\"psysml:9a31b8cb-b3f5-4478-b49b-73e9fd0f6da5\" xlink:show=\"new\" xlink:title=\"psysml:9a31b8cb-b3f5-4478-b49b-73e9fd0f6da5\" xlink:type=\"simple\"><rect fill=\"#FFFFFF\" height=\"45.9375\" id=\"E7\" rx=\"10\" ry=\"10\" style=\"stroke: #383838; stroke-width: 1.5;\" width=\"42\" x=\"361\" y=\"84\"/><text fill=\"#000000\" font-family=\"sans-serif\" font-size=\"12\" font-style=\"italic\" lengthAdjust=\"spacingAndGlyphs\" textLength=\"40\" x=\"362\" y=\"100.1387\">«part»</text><text fill=\"#000000\" font-family=\"sans-serif\" font-size=\"12\" lengthAdjust=\"spacingAndGlyphs\" textLength=\"22\" x=\"369\" y=\"114.1074\">x: A</text><line style=\"stroke: #383838; stroke-width: 1.5;\" x1=\"362\" x2=\"402\" y1=\"121.9375\" y2=\"121.9375\"/></a><!--MD5=[b9389687b975829384b498ac4b7476b2]\n",
       "class E8--><a href=\"psysml:084cb86b-cc59-4a41-8b1c-7b7410cc5029\" target=\"_top\" title=\"psysml:084cb86b-cc59-4a41-8b1c-7b7410cc5029\" xlink:actuate=\"onRequest\" xlink:href=\"psysml:084cb86b-cc59-4a41-8b1c-7b7410cc5029\" xlink:show=\"new\" xlink:title=\"psysml:084cb86b-cc59-4a41-8b1c-7b7410cc5029\" xlink:type=\"simple\"><rect fill=\"#FFFFFF\" height=\"45.9375\" id=\"E8\" rx=\"10\" ry=\"10\" style=\"stroke: #383838; stroke-width: 1.5;\" width=\"42\" x=\"284\" y=\"84\"/><text fill=\"#000000\" font-family=\"sans-serif\" font-size=\"12\" font-style=\"italic\" lengthAdjust=\"spacingAndGlyphs\" textLength=\"40\" x=\"285\" y=\"100.1387\">«part»</text><text fill=\"#000000\" font-family=\"sans-serif\" font-size=\"12\" lengthAdjust=\"spacingAndGlyphs\" textLength=\"22\" x=\"292\" y=\"114.1074\">y: B</text><line style=\"stroke: #383838; stroke-width: 1.5;\" x1=\"285\" x2=\"325\" y1=\"121.9375\" y2=\"121.9375\"/></a><!--MD5=[96f4274e9e20536e775497830990834d]\n",
       "class E10--><a href=\"psysml:377a64d2-1aa6-4a9b-ba95-6aeb6c1d992f\" target=\"_top\" title=\"psysml:377a64d2-1aa6-4a9b-ba95-6aeb6c1d992f\" xlink:actuate=\"onRequest\" xlink:href=\"psysml:377a64d2-1aa6-4a9b-ba95-6aeb6c1d992f\" xlink:show=\"new\" xlink:title=\"psysml:377a64d2-1aa6-4a9b-ba95-6aeb6c1d992f\" xlink:type=\"simple\"><rect fill=\"#FFFFFF\" height=\"45.9375\" id=\"E10\" rx=\"10\" ry=\"10\" style=\"stroke: #383838; stroke-width: 1.5;\" width=\"42\" x=\"186\" y=\"84\"/><text fill=\"#000000\" font-family=\"sans-serif\" font-size=\"12\" font-style=\"italic\" lengthAdjust=\"spacingAndGlyphs\" textLength=\"40\" x=\"187\" y=\"100.1387\">«part»</text><text fill=\"#000000\" font-family=\"sans-serif\" font-size=\"12\" lengthAdjust=\"spacingAndGlyphs\" textLength=\"22\" x=\"194\" y=\"114.1074\">x: A</text><line style=\"stroke: #383838; stroke-width: 1.5;\" x1=\"187\" x2=\"227\" y1=\"121.9375\" y2=\"121.9375\"/></a><!--MD5=[1dd1bfd58a279cf63c5f349dbc8fc6a1]\n",
       "class E11--><a href=\"psysml:7cdd5db6-fbbe-4f9d-b259-3a085be4f068\" target=\"_top\" title=\"psysml:7cdd5db6-fbbe-4f9d-b259-3a085be4f068\" xlink:actuate=\"onRequest\" xlink:href=\"psysml:7cdd5db6-fbbe-4f9d-b259-3a085be4f068\" xlink:show=\"new\" xlink:title=\"psysml:7cdd5db6-fbbe-4f9d-b259-3a085be4f068\" xlink:type=\"simple\"><rect fill=\"#FFFFFF\" height=\"45.9375\" id=\"E11\" rx=\"10\" ry=\"10\" style=\"stroke: #383838; stroke-width: 1.5;\" width=\"42\" x=\"109\" y=\"84\"/><text fill=\"#000000\" font-family=\"sans-serif\" font-size=\"12\" font-style=\"italic\" lengthAdjust=\"spacingAndGlyphs\" textLength=\"40\" x=\"110\" y=\"100.1387\">«part»</text><text fill=\"#000000\" font-family=\"sans-serif\" font-size=\"12\" lengthAdjust=\"spacingAndGlyphs\" textLength=\"22\" x=\"117\" y=\"114.1074\">y: B</text><line style=\"stroke: #383838; stroke-width: 1.5;\" x1=\"110\" x2=\"150\" y1=\"121.9375\" y2=\"121.9375\"/></a><!--MD5=[14ccda38c055a5c0da953d572bc50960]\n",
       "link E7 to E3--><a href=\"psysml:0b2c7bde-3c6f-4711-9ee8-a744dba64aec\" target=\"_top\" title=\"psysml:0b2c7bde-3c6f-4711-9ee8-a744dba64aec\" xlink:actuate=\"onRequest\" xlink:href=\"psysml:0b2c7bde-3c6f-4711-9ee8-a744dba64aec\" xlink:show=\"new\" xlink:title=\"psysml:0b2c7bde-3c6f-4711-9ee8-a744dba64aec\" xlink:type=\"simple\"><path d=\"M382,130.1 C382,145.37 382,166.16 382,184.57 \" fill=\"none\" id=\"E7-&gt;E3\" style=\"stroke: #383838; stroke-width: 1.0;\"/><polygon fill=\"#FFFFFF\" points=\"382,204.61,375,185.61,389,185.61,382,204.61\" style=\"stroke: #383838; stroke-width: 1.0;\"/><ellipse cx=\"377\" cy=\"179.91\" fill=\"#383838\" rx=\"2\" ry=\"2\" style=\"stroke: #383838; stroke-width: 1.0;\"/><ellipse cx=\"387\" cy=\"179.91\" fill=\"#383838\" rx=\"2\" ry=\"2\" style=\"stroke: #383838; stroke-width: 1.0;\"/></a><!--MD5=[1ccb2481ffa92f8d51a74ee30c51832a]\n",
       "link E8 to E5--><a href=\"psysml:16eea2e1-2a1c-45c0-89dc-072c92b0db51\" target=\"_top\" title=\"psysml:16eea2e1-2a1c-45c0-89dc-072c92b0db51\" xlink:actuate=\"onRequest\" xlink:href=\"psysml:16eea2e1-2a1c-45c0-89dc-072c92b0db51\" xlink:show=\"new\" xlink:title=\"psysml:16eea2e1-2a1c-45c0-89dc-072c92b0db51\" xlink:type=\"simple\"><path d=\"M283.84,124.59 C272.23,133.52 257.5,144.61 244,154 C224.13,167.82 201.8,182.34 182.21,194.75 \" fill=\"none\" id=\"E8-&gt;E5\" style=\"stroke: #383838; stroke-width: 1.0;\"/><polygon fill=\"#FFFFFF\" points=\"165.13,205.48,177.4956,189.4459,184.9425,201.301,165.13,205.48\" style=\"stroke: #383838; stroke-width: 1.0;\"/><ellipse cx=\"183.3862\" cy=\"188.1075\" fill=\"#383838\" rx=\"2\" ry=\"2\" style=\"stroke: #383838; stroke-width: 1.0;\"/><ellipse cx=\"188.7054\" cy=\"196.5755\" fill=\"#383838\" rx=\"2\" ry=\"2\" style=\"stroke: #383838; stroke-width: 1.0;\"/></a><!--MD5=[feeac5eb423634930294aa81f2d25a4c]\n",
       "link E10 to E3--><a href=\"psysml:0ac0ff17-b961-483b-88a6-6c34531d2872\" target=\"_top\" title=\"psysml:0ac0ff17-b961-483b-88a6-6c34531d2872\" xlink:actuate=\"onRequest\" xlink:href=\"psysml:0ac0ff17-b961-483b-88a6-6c34531d2872\" xlink:show=\"new\" xlink:title=\"psysml:0ac0ff17-b961-483b-88a6-6c34531d2872\" xlink:type=\"simple\"><path d=\"M228.16,124.59 C239.77,133.52 254.5,144.61 268,154 C287.87,167.82 310.2,182.34 329.79,194.75 \" fill=\"none\" id=\"E10-&gt;E3\" style=\"stroke: #383838; stroke-width: 1.0;\"/><polygon fill=\"#FFFFFF\" points=\"346.87,205.48,327.0575,201.301,334.5044,189.4459,346.87,205.48\" style=\"stroke: #383838; stroke-width: 1.0;\"/><ellipse cx=\"323.2946\" cy=\"196.5755\" fill=\"#383838\" rx=\"2\" ry=\"2\" style=\"stroke: #383838; stroke-width: 1.0;\"/><ellipse cx=\"328.6138\" cy=\"188.1075\" fill=\"#383838\" rx=\"2\" ry=\"2\" style=\"stroke: #383838; stroke-width: 1.0;\"/></a><!--MD5=[07b77f6f309248d16187045709d1c26e]\n",
       "link E11 to E5--><a href=\"psysml:7353245a-aec5-4316-8af8-2852475c4dc4\" target=\"_top\" title=\"psysml:7353245a-aec5-4316-8af8-2852475c4dc4\" xlink:actuate=\"onRequest\" xlink:href=\"psysml:7353245a-aec5-4316-8af8-2852475c4dc4\" xlink:show=\"new\" xlink:title=\"psysml:7353245a-aec5-4316-8af8-2852475c4dc4\" xlink:type=\"simple\"><path d=\"M130,130.1 C130,145.37 130,166.16 130,184.57 \" fill=\"none\" id=\"E11-&gt;E5\" style=\"stroke: #383838; stroke-width: 1.0;\"/><polygon fill=\"#FFFFFF\" points=\"130,204.61,123,185.61,137,185.61,130,204.61\" style=\"stroke: #383838; stroke-width: 1.0;\"/><ellipse cx=\"125\" cy=\"179.91\" fill=\"#383838\" rx=\"2\" ry=\"2\" style=\"stroke: #383838; stroke-width: 1.0;\"/><ellipse cx=\"135\" cy=\"179.91\" fill=\"#383838\" rx=\"2\" ry=\"2\" style=\"stroke: #383838; stroke-width: 1.0;\"/></a><!--MD5=[39f41a0e550fb3d73b4d8135617e30a2]\n",
       "link E12 to E3--><a href=\"psysml:6cc10db6-ba98-48a2-919a-a7b34cb2bdfc\" target=\"_top\" title=\"psysml:6cc10db6-ba98-48a2-919a-a7b34cb2bdfc\" xlink:actuate=\"onRequest\" xlink:href=\"psysml:6cc10db6-ba98-48a2-919a-a7b34cb2bdfc\" xlink:show=\"new\" xlink:title=\"psysml:6cc10db6-ba98-48a2-919a-a7b34cb2bdfc\" xlink:type=\"simple\"><path d=\"M444.7,130.1 C434.28,146.2 419.89,168.44 407.53,187.55 \" fill=\"none\" id=\"E12-&gt;E3\" style=\"stroke: #383838; stroke-width: 1.0;\"/><polygon fill=\"#FFFFFF\" points=\"396.49,204.61,400.9313,184.8546,412.6866,192.4581,396.49,204.61\" style=\"stroke: #383838; stroke-width: 1.0;\"/><ellipse cx=\"405.7063\" cy=\"181.1547\" fill=\"#383838\" rx=\"2\" ry=\"2\" style=\"stroke: #383838; stroke-width: 1.0;\"/><ellipse cx=\"414.103\" cy=\"186.5858\" fill=\"#383838\" rx=\"2\" ry=\"2\" style=\"stroke: #383838; stroke-width: 1.0;\"/></a><!--MD5=[066b2d8af59fea80ccdb3d54ad5c1091]\n",
       "link E13 to E5--><a href=\"psysml:fb180b05-d2cf-42d1-bf2a-01829ad20206\" target=\"_top\" title=\"psysml:fb180b05-d2cf-42d1-bf2a-01829ad20206\" xlink:actuate=\"onRequest\" xlink:href=\"psysml:fb180b05-d2cf-42d1-bf2a-01829ad20206\" xlink:show=\"new\" xlink:title=\"psysml:fb180b05-d2cf-42d1-bf2a-01829ad20206\" xlink:type=\"simple\"><path d=\"M67.3,130.1 C77.72,146.2 92.11,168.44 104.47,187.55 \" fill=\"none\" id=\"E13-&gt;E5\" style=\"stroke: #383838; stroke-width: 1.0;\"/><polygon fill=\"#FFFFFF\" points=\"115.51,204.61,99.3134,192.4581,111.0687,184.8546,115.51,204.61\" style=\"stroke: #383838; stroke-width: 1.0;\"/><ellipse cx=\"97.897\" cy=\"186.5858\" fill=\"#383838\" rx=\"2\" ry=\"2\" style=\"stroke: #383838; stroke-width: 1.0;\"/><ellipse cx=\"106.2937\" cy=\"181.1547\" fill=\"#383838\" rx=\"2\" ry=\"2\" style=\"stroke: #383838; stroke-width: 1.0;\"/></a><!--MD5=[04fc4c341c6f50ef3179f00eae3b8540]\n",
       "@startuml\r\n",
       "skinparam monochrome true\r\n",
       "skinparam classbackgroundcolor white\r\n",
       "skinparam shadowing false\r\n",
       "skinparam wrapWidth 300\r\n",
       "hide circle\r\n",
       "\r\n",
       "package \"CircularImport\" as E1  [[psysml:6d002b47-1de9-4cb8-be5e-1d54cb7fff5c ]]  {\r\n",
       "package \"P1\" as E2  [[psysml:531dfa6c-428e-410a-a6f8-c5b9ff8ecb34 ]]  {\r\n",
       "comp def \"A\" as E3  <<(T,blue) part  def>> [[psysml:8ceeee5f-0d5a-4279-aee9-7758649ab8be ]] {\r\n",
       "}\r\n",
       "}\r\n",
       "package \"P2\" as E4  [[psysml:62a929fe-702a-4460-9e53-8584d6f6435e ]]  {\r\n",
       "comp def \"B\" as E5  <<(T,blue) part  def>> [[psysml:90844ba8-c1a9-4c46-b7c9-d1a2572e7365 ]] {\r\n",
       "}\r\n",
       "}\r\n",
       "package \"Test1\" as E6  [[psysml:0f17a3a9-0805-4d7f-ba6a-07da905c8abf ]]  {\r\n",
       "comp usage \"x: A \" as E7  <<(T,blue) part>> [[psysml:9a31b8cb-b3f5-4478-b49b-73e9fd0f6da5 ]] {\r\n",
       "}\r\n",
       "comp usage \"y: B \" as E8  <<(T,blue) part>> [[psysml:084cb86b-cc59-4a41-8b1c-7b7410cc5029 ]] {\r\n",
       "}\r\n",
       "}\r\n",
       "package \"Test2\" as E9  [[psysml:a06e7d3b-be80-4318-b479-ae1779c5974b ]]  {\r\n",
       "comp usage \"x: A \" as E10  <<(T,blue) part>> [[psysml:377a64d2-1aa6-4a9b-ba95-6aeb6c1d992f ]] {\r\n",
       "}\r\n",
       "comp usage \"y: B \" as E11  <<(T,blue) part>> [[psysml:7cdd5db6-fbbe-4f9d-b259-3a085be4f068 ]] {\r\n",
       "}\r\n",
       "}\r\n",
       "comp usage \"x: A \" as E12  <<(T,blue) part>> [[psysml:665d223a-8fea-436a-b414-0efd919424fb ]] {\r\n",
       "}\r\n",
       "comp usage \"y: B \" as E13  <<(T,blue) part>> [[psysml:a1b35d80-8992-43c2-aa5d-6937f2901599 ]] {\r\n",
       "}\r\n",
       "}\r\n",
       "E7 - -:|> E3 [[psysml:0b2c7bde-3c6f-4711-9ee8-a744dba64aec ]] \r\n",
       "E8 - -:|> E5 [[psysml:16eea2e1-2a1c-45c0-89dc-072c92b0db51 ]] \r\n",
       "E10 - -:|> E3 [[psysml:0ac0ff17-b961-483b-88a6-6c34531d2872 ]] \r\n",
       "E11 - -:|> E5 [[psysml:7353245a-aec5-4316-8af8-2852475c4dc4 ]] \r\n",
       "E12 - -:|> E3 [[psysml:6cc10db6-ba98-48a2-919a-a7b34cb2bdfc ]] \r\n",
       "E13 - -:|> E5 [[psysml:fb180b05-d2cf-42d1-bf2a-01829ad20206 ]] \r\n",
       "@enduml\r\n",
       "\n",
       "PlantUML version 1.2020.13(Sat Jun 13 12:26:38 UTC 2020)\n",
       "(EPL source distribution)\n",
       "Java Runtime: OpenJDK Runtime Environment\n",
       "JVM: OpenJDK 64-Bit Server VM\n",
       "Default Encoding: UTF-8\n",
       "Language: en\n",
       "Country: null\n",
       "--></g></svg>"
      ]
     },
     "execution_count": 37,
     "metadata": {},
     "output_type": "execute_result"
    }
   ],
   "source": [
    "%viz --style=\"DEFAULT\" --view=\"Default\" \"CircularImport\""
   ]
  },
  {
   "cell_type": "code",
   "execution_count": 38,
   "id": "7da18c2c",
   "metadata": {
    "execution": {
     "iopub.execute_input": "2021-12-15T15:15:39.263984Z",
     "iopub.status.busy": "2021-12-15T15:15:39.263745Z",
     "iopub.status.idle": "2021-12-15T15:15:39.302097Z",
     "shell.execute_reply": "2021-12-15T15:15:39.301826Z"
    }
   },
   "outputs": [
    {
     "data": {
      "image/svg+xml": [
       "<?xml version=\"1.0\" encoding=\"UTF-8\" standalone=\"no\"?><svg xmlns=\"http://www.w3.org/2000/svg\" xmlns:xlink=\"http://www.w3.org/1999/xlink\" contentScriptType=\"application/ecmascript\" contentStyleType=\"text/css\" height=\"303px\" preserveAspectRatio=\"none\" style=\"width:518px;height:303px;\" version=\"1.1\" viewBox=\"0 0 518 303\" width=\"518px\" zoomAndPan=\"magnify\"><defs/><g><!--MD5=[fbc87193dbaf4d95561dea2c320d4a47]\n",
       "cluster E1--><a href=\"psysml:6d002b47-1de9-4cb8-be5e-1d54cb7fff5c\" target=\"_top\" title=\"psysml:6d002b47-1de9-4cb8-be5e-1d54cb7fff5c\" xlink:actuate=\"onRequest\" xlink:href=\"psysml:6d002b47-1de9-4cb8-be5e-1d54cb7fff5c\" xlink:show=\"new\" xlink:title=\"psysml:6d002b47-1de9-4cb8-be5e-1d54cb7fff5c\" xlink:type=\"simple\"><polygon fill=\"#FFFFFF\" points=\"16,6,117,6,124,28.2969,496,28.2969,496,291,16,291,16,6\" style=\"stroke: #000000; stroke-width: 1.5;\"/><line style=\"stroke: #000000; stroke-width: 1.5;\" x1=\"16\" x2=\"124\" y1=\"28.2969\" y2=\"28.2969\"/><text fill=\"#000000\" font-family=\"sans-serif\" font-size=\"14\" font-weight=\"bold\" lengthAdjust=\"spacingAndGlyphs\" textLength=\"95\" x=\"20\" y=\"20.9951\">CircularImport</text></a><!--MD5=[e4f7fae6ed58524ba242bb0b0d3be6b7]\n",
       "cluster E2--><a href=\"psysml:531dfa6c-428e-410a-a6f8-c5b9ff8ecb34\" target=\"_top\" title=\"psysml:531dfa6c-428e-410a-a6f8-c5b9ff8ecb34\" xlink:actuate=\"onRequest\" xlink:href=\"psysml:531dfa6c-428e-410a-a6f8-c5b9ff8ecb34\" xlink:show=\"new\" xlink:title=\"psysml:531dfa6c-428e-410a-a6f8-c5b9ff8ecb34\" xlink:type=\"simple\"><polygon fill=\"#FFFFFF\" points=\"331,170,355,170,362,192.2969,433,192.2969,433,267,331,267,331,170\" style=\"stroke: #000000; stroke-width: 1.5;\"/><line style=\"stroke: #000000; stroke-width: 1.5;\" x1=\"331\" x2=\"362\" y1=\"192.2969\" y2=\"192.2969\"/><text fill=\"#000000\" font-family=\"sans-serif\" font-size=\"14\" font-weight=\"bold\" lengthAdjust=\"spacingAndGlyphs\" textLength=\"18\" x=\"335\" y=\"184.9951\">P1</text></a><!--MD5=[f6df4d0ebaf0b5dfb2ced0ae5af7c670]\n",
       "cluster E4--><a href=\"psysml:62a929fe-702a-4460-9e53-8584d6f6435e\" target=\"_top\" title=\"psysml:62a929fe-702a-4460-9e53-8584d6f6435e\" xlink:actuate=\"onRequest\" xlink:href=\"psysml:62a929fe-702a-4460-9e53-8584d6f6435e\" xlink:show=\"new\" xlink:title=\"psysml:62a929fe-702a-4460-9e53-8584d6f6435e\" xlink:type=\"simple\"><polygon fill=\"#FFFFFF\" points=\"79,170,103,170,110,192.2969,181,192.2969,181,267,79,267,79,170\" style=\"stroke: #000000; stroke-width: 1.5;\"/><line style=\"stroke: #000000; stroke-width: 1.5;\" x1=\"79\" x2=\"110\" y1=\"192.2969\" y2=\"192.2969\"/><text fill=\"#000000\" font-family=\"sans-serif\" font-size=\"14\" font-weight=\"bold\" lengthAdjust=\"spacingAndGlyphs\" textLength=\"18\" x=\"83\" y=\"184.9951\">P2</text></a><!--MD5=[14e3b0961a2654348d326746436168a1]\n",
       "cluster E6--><a href=\"psysml:0f17a3a9-0805-4d7f-ba6a-07da905c8abf\" target=\"_top\" title=\"psysml:0f17a3a9-0805-4d7f-ba6a-07da905c8abf\" xlink:actuate=\"onRequest\" xlink:href=\"psysml:0f17a3a9-0805-4d7f-ba6a-07da905c8abf\" xlink:show=\"new\" xlink:title=\"psysml:0f17a3a9-0805-4d7f-ba6a-07da905c8abf\" xlink:type=\"simple\"><polygon fill=\"#FFFFFF\" points=\"268,49,314,49,321,71.2969,419,71.2969,419,146,268,146,268,49\" style=\"stroke: #000000; stroke-width: 1.5;\"/><line style=\"stroke: #000000; stroke-width: 1.5;\" x1=\"268\" x2=\"321\" y1=\"71.2969\" y2=\"71.2969\"/><text fill=\"#000000\" font-family=\"sans-serif\" font-size=\"14\" font-weight=\"bold\" lengthAdjust=\"spacingAndGlyphs\" textLength=\"40\" x=\"272\" y=\"63.9951\">Test1</text></a><!--MD5=[7f149f147074ac12df2cb0a7728a5fb0]\n",
       "cluster E9--><a href=\"psysml:a06e7d3b-be80-4318-b479-ae1779c5974b\" target=\"_top\" title=\"psysml:a06e7d3b-be80-4318-b479-ae1779c5974b\" xlink:actuate=\"onRequest\" xlink:href=\"psysml:a06e7d3b-be80-4318-b479-ae1779c5974b\" xlink:show=\"new\" xlink:title=\"psysml:a06e7d3b-be80-4318-b479-ae1779c5974b\" xlink:type=\"simple\"><polygon fill=\"#FFFFFF\" points=\"93,49,139,49,146,71.2969,244,71.2969,244,146,93,146,93,49\" style=\"stroke: #000000; stroke-width: 1.5;\"/><line style=\"stroke: #000000; stroke-width: 1.5;\" x1=\"93\" x2=\"146\" y1=\"71.2969\" y2=\"71.2969\"/><text fill=\"#000000\" font-family=\"sans-serif\" font-size=\"14\" font-weight=\"bold\" lengthAdjust=\"spacingAndGlyphs\" textLength=\"40\" x=\"97\" y=\"63.9951\">Test2</text></a><!--MD5=[49a0ec8f00dab7302a31f22d0f0fe584]\n",
       "class E12--><a href=\"psysml:665d223a-8fea-436a-b414-0efd919424fb\" target=\"_top\" title=\"psysml:665d223a-8fea-436a-b414-0efd919424fb\" xlink:actuate=\"onRequest\" xlink:href=\"psysml:665d223a-8fea-436a-b414-0efd919424fb\" xlink:show=\"new\" xlink:title=\"psysml:665d223a-8fea-436a-b414-0efd919424fb\" xlink:type=\"simple\"><rect fill=\"#FFFFFF\" height=\"45.9375\" id=\"E12\" rx=\"10\" ry=\"10\" style=\"stroke: #383838; stroke-width: 1.5;\" width=\"42\" x=\"438\" y=\"84\"/><text fill=\"#000000\" font-family=\"sans-serif\" font-size=\"12\" font-style=\"italic\" lengthAdjust=\"spacingAndGlyphs\" textLength=\"40\" x=\"439\" y=\"100.1387\">«part»</text><text fill=\"#000000\" font-family=\"sans-serif\" font-size=\"12\" lengthAdjust=\"spacingAndGlyphs\" textLength=\"22\" x=\"446\" y=\"114.1074\">x: A</text><line style=\"stroke: #383838; stroke-width: 1.5;\" x1=\"439\" x2=\"479\" y1=\"121.9375\" y2=\"121.9375\"/></a><!--MD5=[ee3c913d1a06f366521f9ef512b67efe]\n",
       "class E13--><a href=\"psysml:a1b35d80-8992-43c2-aa5d-6937f2901599\" target=\"_top\" title=\"psysml:a1b35d80-8992-43c2-aa5d-6937f2901599\" xlink:actuate=\"onRequest\" xlink:href=\"psysml:a1b35d80-8992-43c2-aa5d-6937f2901599\" xlink:show=\"new\" xlink:title=\"psysml:a1b35d80-8992-43c2-aa5d-6937f2901599\" xlink:type=\"simple\"><rect fill=\"#FFFFFF\" height=\"45.9375\" id=\"E13\" rx=\"10\" ry=\"10\" style=\"stroke: #383838; stroke-width: 1.5;\" width=\"42\" x=\"32\" y=\"84\"/><text fill=\"#000000\" font-family=\"sans-serif\" font-size=\"12\" font-style=\"italic\" lengthAdjust=\"spacingAndGlyphs\" textLength=\"40\" x=\"33\" y=\"100.1387\">«part»</text><text fill=\"#000000\" font-family=\"sans-serif\" font-size=\"12\" lengthAdjust=\"spacingAndGlyphs\" textLength=\"22\" x=\"40\" y=\"114.1074\">y: B</text><line style=\"stroke: #383838; stroke-width: 1.5;\" x1=\"33\" x2=\"73\" y1=\"121.9375\" y2=\"121.9375\"/></a><!--MD5=[09b614a08d8cba4a07c9adeb5e0fee81]\n",
       "class E3--><a href=\"psysml:8ceeee5f-0d5a-4279-aee9-7758649ab8be\" target=\"_top\" title=\"psysml:8ceeee5f-0d5a-4279-aee9-7758649ab8be\" xlink:actuate=\"onRequest\" xlink:href=\"psysml:8ceeee5f-0d5a-4279-aee9-7758649ab8be\" xlink:show=\"new\" xlink:title=\"psysml:8ceeee5f-0d5a-4279-aee9-7758649ab8be\" xlink:type=\"simple\"><rect fill=\"#FFFFFF\" height=\"45.9375\" id=\"E3\" style=\"stroke: #383838; stroke-width: 1.5;\" width=\"70\" x=\"347\" y=\"205\"/><text fill=\"#000000\" font-family=\"sans-serif\" font-size=\"12\" font-style=\"italic\" lengthAdjust=\"spacingAndGlyphs\" textLength=\"68\" x=\"348\" y=\"221.1387\">«part  def»</text><text fill=\"#000000\" font-family=\"sans-serif\" font-size=\"12\" lengthAdjust=\"spacingAndGlyphs\" textLength=\"8\" x=\"378\" y=\"235.1074\">A</text><line style=\"stroke: #383838; stroke-width: 1.5;\" x1=\"348\" x2=\"416\" y1=\"242.9375\" y2=\"242.9375\"/></a><!--MD5=[270fce915f116d4de14055a7c1d9a0f3]\n",
       "class E5--><a href=\"psysml:90844ba8-c1a9-4c46-b7c9-d1a2572e7365\" target=\"_top\" title=\"psysml:90844ba8-c1a9-4c46-b7c9-d1a2572e7365\" xlink:actuate=\"onRequest\" xlink:href=\"psysml:90844ba8-c1a9-4c46-b7c9-d1a2572e7365\" xlink:show=\"new\" xlink:title=\"psysml:90844ba8-c1a9-4c46-b7c9-d1a2572e7365\" xlink:type=\"simple\"><rect fill=\"#FFFFFF\" height=\"45.9375\" id=\"E5\" style=\"stroke: #383838; stroke-width: 1.5;\" width=\"70\" x=\"95\" y=\"205\"/><text fill=\"#000000\" font-family=\"sans-serif\" font-size=\"12\" font-style=\"italic\" lengthAdjust=\"spacingAndGlyphs\" textLength=\"68\" x=\"96\" y=\"221.1387\">«part  def»</text><text fill=\"#000000\" font-family=\"sans-serif\" font-size=\"12\" lengthAdjust=\"spacingAndGlyphs\" textLength=\"8\" x=\"126\" y=\"235.1074\">B</text><line style=\"stroke: #383838; stroke-width: 1.5;\" x1=\"96\" x2=\"164\" y1=\"242.9375\" y2=\"242.9375\"/></a><!--MD5=[2156ba9850f5573cc1fc38a6a4b2f02b]\n",
       "class E7--><a href=\"psysml:9a31b8cb-b3f5-4478-b49b-73e9fd0f6da5\" target=\"_top\" title=\"psysml:9a31b8cb-b3f5-4478-b49b-73e9fd0f6da5\" xlink:actuate=\"onRequest\" xlink:href=\"psysml:9a31b8cb-b3f5-4478-b49b-73e9fd0f6da5\" xlink:show=\"new\" xlink:title=\"psysml:9a31b8cb-b3f5-4478-b49b-73e9fd0f6da5\" xlink:type=\"simple\"><rect fill=\"#FFFFFF\" height=\"45.9375\" id=\"E7\" rx=\"10\" ry=\"10\" style=\"stroke: #383838; stroke-width: 1.5;\" width=\"42\" x=\"361\" y=\"84\"/><text fill=\"#000000\" font-family=\"sans-serif\" font-size=\"12\" font-style=\"italic\" lengthAdjust=\"spacingAndGlyphs\" textLength=\"40\" x=\"362\" y=\"100.1387\">«part»</text><text fill=\"#000000\" font-family=\"sans-serif\" font-size=\"12\" lengthAdjust=\"spacingAndGlyphs\" textLength=\"22\" x=\"369\" y=\"114.1074\">x: A</text><line style=\"stroke: #383838; stroke-width: 1.5;\" x1=\"362\" x2=\"402\" y1=\"121.9375\" y2=\"121.9375\"/></a><!--MD5=[b9389687b975829384b498ac4b7476b2]\n",
       "class E8--><a href=\"psysml:084cb86b-cc59-4a41-8b1c-7b7410cc5029\" target=\"_top\" title=\"psysml:084cb86b-cc59-4a41-8b1c-7b7410cc5029\" xlink:actuate=\"onRequest\" xlink:href=\"psysml:084cb86b-cc59-4a41-8b1c-7b7410cc5029\" xlink:show=\"new\" xlink:title=\"psysml:084cb86b-cc59-4a41-8b1c-7b7410cc5029\" xlink:type=\"simple\"><rect fill=\"#FFFFFF\" height=\"45.9375\" id=\"E8\" rx=\"10\" ry=\"10\" style=\"stroke: #383838; stroke-width: 1.5;\" width=\"42\" x=\"284\" y=\"84\"/><text fill=\"#000000\" font-family=\"sans-serif\" font-size=\"12\" font-style=\"italic\" lengthAdjust=\"spacingAndGlyphs\" textLength=\"40\" x=\"285\" y=\"100.1387\">«part»</text><text fill=\"#000000\" font-family=\"sans-serif\" font-size=\"12\" lengthAdjust=\"spacingAndGlyphs\" textLength=\"22\" x=\"292\" y=\"114.1074\">y: B</text><line style=\"stroke: #383838; stroke-width: 1.5;\" x1=\"285\" x2=\"325\" y1=\"121.9375\" y2=\"121.9375\"/></a><!--MD5=[96f4274e9e20536e775497830990834d]\n",
       "class E10--><a href=\"psysml:377a64d2-1aa6-4a9b-ba95-6aeb6c1d992f\" target=\"_top\" title=\"psysml:377a64d2-1aa6-4a9b-ba95-6aeb6c1d992f\" xlink:actuate=\"onRequest\" xlink:href=\"psysml:377a64d2-1aa6-4a9b-ba95-6aeb6c1d992f\" xlink:show=\"new\" xlink:title=\"psysml:377a64d2-1aa6-4a9b-ba95-6aeb6c1d992f\" xlink:type=\"simple\"><rect fill=\"#FFFFFF\" height=\"45.9375\" id=\"E10\" rx=\"10\" ry=\"10\" style=\"stroke: #383838; stroke-width: 1.5;\" width=\"42\" x=\"186\" y=\"84\"/><text fill=\"#000000\" font-family=\"sans-serif\" font-size=\"12\" font-style=\"italic\" lengthAdjust=\"spacingAndGlyphs\" textLength=\"40\" x=\"187\" y=\"100.1387\">«part»</text><text fill=\"#000000\" font-family=\"sans-serif\" font-size=\"12\" lengthAdjust=\"spacingAndGlyphs\" textLength=\"22\" x=\"194\" y=\"114.1074\">x: A</text><line style=\"stroke: #383838; stroke-width: 1.5;\" x1=\"187\" x2=\"227\" y1=\"121.9375\" y2=\"121.9375\"/></a><!--MD5=[1dd1bfd58a279cf63c5f349dbc8fc6a1]\n",
       "class E11--><a href=\"psysml:7cdd5db6-fbbe-4f9d-b259-3a085be4f068\" target=\"_top\" title=\"psysml:7cdd5db6-fbbe-4f9d-b259-3a085be4f068\" xlink:actuate=\"onRequest\" xlink:href=\"psysml:7cdd5db6-fbbe-4f9d-b259-3a085be4f068\" xlink:show=\"new\" xlink:title=\"psysml:7cdd5db6-fbbe-4f9d-b259-3a085be4f068\" xlink:type=\"simple\"><rect fill=\"#FFFFFF\" height=\"45.9375\" id=\"E11\" rx=\"10\" ry=\"10\" style=\"stroke: #383838; stroke-width: 1.5;\" width=\"42\" x=\"109\" y=\"84\"/><text fill=\"#000000\" font-family=\"sans-serif\" font-size=\"12\" font-style=\"italic\" lengthAdjust=\"spacingAndGlyphs\" textLength=\"40\" x=\"110\" y=\"100.1387\">«part»</text><text fill=\"#000000\" font-family=\"sans-serif\" font-size=\"12\" lengthAdjust=\"spacingAndGlyphs\" textLength=\"22\" x=\"117\" y=\"114.1074\">y: B</text><line style=\"stroke: #383838; stroke-width: 1.5;\" x1=\"110\" x2=\"150\" y1=\"121.9375\" y2=\"121.9375\"/></a><!--MD5=[14ccda38c055a5c0da953d572bc50960]\n",
       "link E7 to E3--><a href=\"psysml:0b2c7bde-3c6f-4711-9ee8-a744dba64aec\" target=\"_top\" title=\"psysml:0b2c7bde-3c6f-4711-9ee8-a744dba64aec\" xlink:actuate=\"onRequest\" xlink:href=\"psysml:0b2c7bde-3c6f-4711-9ee8-a744dba64aec\" xlink:show=\"new\" xlink:title=\"psysml:0b2c7bde-3c6f-4711-9ee8-a744dba64aec\" xlink:type=\"simple\"><path d=\"M382,130.1 C382,145.37 382,166.16 382,184.57 \" fill=\"none\" id=\"E7-&gt;E3\" style=\"stroke: #383838; stroke-width: 1.0;\"/><polygon fill=\"#FFFFFF\" points=\"382,204.61,375,185.61,389,185.61,382,204.61\" style=\"stroke: #383838; stroke-width: 1.0;\"/><ellipse cx=\"377\" cy=\"179.91\" fill=\"#383838\" rx=\"2\" ry=\"2\" style=\"stroke: #383838; stroke-width: 1.0;\"/><ellipse cx=\"387\" cy=\"179.91\" fill=\"#383838\" rx=\"2\" ry=\"2\" style=\"stroke: #383838; stroke-width: 1.0;\"/></a><!--MD5=[1ccb2481ffa92f8d51a74ee30c51832a]\n",
       "link E8 to E5--><a href=\"psysml:16eea2e1-2a1c-45c0-89dc-072c92b0db51\" target=\"_top\" title=\"psysml:16eea2e1-2a1c-45c0-89dc-072c92b0db51\" xlink:actuate=\"onRequest\" xlink:href=\"psysml:16eea2e1-2a1c-45c0-89dc-072c92b0db51\" xlink:show=\"new\" xlink:title=\"psysml:16eea2e1-2a1c-45c0-89dc-072c92b0db51\" xlink:type=\"simple\"><path d=\"M283.84,124.59 C272.23,133.52 257.5,144.61 244,154 C224.13,167.82 201.8,182.34 182.21,194.75 \" fill=\"none\" id=\"E8-&gt;E5\" style=\"stroke: #383838; stroke-width: 1.0;\"/><polygon fill=\"#FFFFFF\" points=\"165.13,205.48,177.4956,189.4459,184.9425,201.301,165.13,205.48\" style=\"stroke: #383838; stroke-width: 1.0;\"/><ellipse cx=\"183.3862\" cy=\"188.1075\" fill=\"#383838\" rx=\"2\" ry=\"2\" style=\"stroke: #383838; stroke-width: 1.0;\"/><ellipse cx=\"188.7054\" cy=\"196.5755\" fill=\"#383838\" rx=\"2\" ry=\"2\" style=\"stroke: #383838; stroke-width: 1.0;\"/></a><!--MD5=[feeac5eb423634930294aa81f2d25a4c]\n",
       "link E10 to E3--><a href=\"psysml:0ac0ff17-b961-483b-88a6-6c34531d2872\" target=\"_top\" title=\"psysml:0ac0ff17-b961-483b-88a6-6c34531d2872\" xlink:actuate=\"onRequest\" xlink:href=\"psysml:0ac0ff17-b961-483b-88a6-6c34531d2872\" xlink:show=\"new\" xlink:title=\"psysml:0ac0ff17-b961-483b-88a6-6c34531d2872\" xlink:type=\"simple\"><path d=\"M228.16,124.59 C239.77,133.52 254.5,144.61 268,154 C287.87,167.82 310.2,182.34 329.79,194.75 \" fill=\"none\" id=\"E10-&gt;E3\" style=\"stroke: #383838; stroke-width: 1.0;\"/><polygon fill=\"#FFFFFF\" points=\"346.87,205.48,327.0575,201.301,334.5044,189.4459,346.87,205.48\" style=\"stroke: #383838; stroke-width: 1.0;\"/><ellipse cx=\"323.2946\" cy=\"196.5755\" fill=\"#383838\" rx=\"2\" ry=\"2\" style=\"stroke: #383838; stroke-width: 1.0;\"/><ellipse cx=\"328.6138\" cy=\"188.1075\" fill=\"#383838\" rx=\"2\" ry=\"2\" style=\"stroke: #383838; stroke-width: 1.0;\"/></a><!--MD5=[07b77f6f309248d16187045709d1c26e]\n",
       "link E11 to E5--><a href=\"psysml:7353245a-aec5-4316-8af8-2852475c4dc4\" target=\"_top\" title=\"psysml:7353245a-aec5-4316-8af8-2852475c4dc4\" xlink:actuate=\"onRequest\" xlink:href=\"psysml:7353245a-aec5-4316-8af8-2852475c4dc4\" xlink:show=\"new\" xlink:title=\"psysml:7353245a-aec5-4316-8af8-2852475c4dc4\" xlink:type=\"simple\"><path d=\"M130,130.1 C130,145.37 130,166.16 130,184.57 \" fill=\"none\" id=\"E11-&gt;E5\" style=\"stroke: #383838; stroke-width: 1.0;\"/><polygon fill=\"#FFFFFF\" points=\"130,204.61,123,185.61,137,185.61,130,204.61\" style=\"stroke: #383838; stroke-width: 1.0;\"/><ellipse cx=\"125\" cy=\"179.91\" fill=\"#383838\" rx=\"2\" ry=\"2\" style=\"stroke: #383838; stroke-width: 1.0;\"/><ellipse cx=\"135\" cy=\"179.91\" fill=\"#383838\" rx=\"2\" ry=\"2\" style=\"stroke: #383838; stroke-width: 1.0;\"/></a><!--MD5=[39f41a0e550fb3d73b4d8135617e30a2]\n",
       "link E12 to E3--><a href=\"psysml:6cc10db6-ba98-48a2-919a-a7b34cb2bdfc\" target=\"_top\" title=\"psysml:6cc10db6-ba98-48a2-919a-a7b34cb2bdfc\" xlink:actuate=\"onRequest\" xlink:href=\"psysml:6cc10db6-ba98-48a2-919a-a7b34cb2bdfc\" xlink:show=\"new\" xlink:title=\"psysml:6cc10db6-ba98-48a2-919a-a7b34cb2bdfc\" xlink:type=\"simple\"><path d=\"M444.7,130.1 C434.28,146.2 419.89,168.44 407.53,187.55 \" fill=\"none\" id=\"E12-&gt;E3\" style=\"stroke: #383838; stroke-width: 1.0;\"/><polygon fill=\"#FFFFFF\" points=\"396.49,204.61,400.9313,184.8546,412.6866,192.4581,396.49,204.61\" style=\"stroke: #383838; stroke-width: 1.0;\"/><ellipse cx=\"405.7063\" cy=\"181.1547\" fill=\"#383838\" rx=\"2\" ry=\"2\" style=\"stroke: #383838; stroke-width: 1.0;\"/><ellipse cx=\"414.103\" cy=\"186.5858\" fill=\"#383838\" rx=\"2\" ry=\"2\" style=\"stroke: #383838; stroke-width: 1.0;\"/></a><!--MD5=[066b2d8af59fea80ccdb3d54ad5c1091]\n",
       "link E13 to E5--><a href=\"psysml:fb180b05-d2cf-42d1-bf2a-01829ad20206\" target=\"_top\" title=\"psysml:fb180b05-d2cf-42d1-bf2a-01829ad20206\" xlink:actuate=\"onRequest\" xlink:href=\"psysml:fb180b05-d2cf-42d1-bf2a-01829ad20206\" xlink:show=\"new\" xlink:title=\"psysml:fb180b05-d2cf-42d1-bf2a-01829ad20206\" xlink:type=\"simple\"><path d=\"M67.3,130.1 C77.72,146.2 92.11,168.44 104.47,187.55 \" fill=\"none\" id=\"E13-&gt;E5\" style=\"stroke: #383838; stroke-width: 1.0;\"/><polygon fill=\"#FFFFFF\" points=\"115.51,204.61,99.3134,192.4581,111.0687,184.8546,115.51,204.61\" style=\"stroke: #383838; stroke-width: 1.0;\"/><ellipse cx=\"97.897\" cy=\"186.5858\" fill=\"#383838\" rx=\"2\" ry=\"2\" style=\"stroke: #383838; stroke-width: 1.0;\"/><ellipse cx=\"106.2937\" cy=\"181.1547\" fill=\"#383838\" rx=\"2\" ry=\"2\" style=\"stroke: #383838; stroke-width: 1.0;\"/></a><!--MD5=[04fc4c341c6f50ef3179f00eae3b8540]\n",
       "@startuml\r\n",
       "skinparam monochrome true\r\n",
       "skinparam classbackgroundcolor white\r\n",
       "skinparam shadowing false\r\n",
       "skinparam wrapWidth 300\r\n",
       "hide circle\r\n",
       "\r\n",
       "package \"CircularImport\" as E1  [[psysml:6d002b47-1de9-4cb8-be5e-1d54cb7fff5c ]]  {\r\n",
       "package \"P1\" as E2  [[psysml:531dfa6c-428e-410a-a6f8-c5b9ff8ecb34 ]]  {\r\n",
       "comp def \"A\" as E3  <<(T,blue) part  def>> [[psysml:8ceeee5f-0d5a-4279-aee9-7758649ab8be ]] {\r\n",
       "}\r\n",
       "}\r\n",
       "package \"P2\" as E4  [[psysml:62a929fe-702a-4460-9e53-8584d6f6435e ]]  {\r\n",
       "comp def \"B\" as E5  <<(T,blue) part  def>> [[psysml:90844ba8-c1a9-4c46-b7c9-d1a2572e7365 ]] {\r\n",
       "}\r\n",
       "}\r\n",
       "package \"Test1\" as E6  [[psysml:0f17a3a9-0805-4d7f-ba6a-07da905c8abf ]]  {\r\n",
       "comp usage \"x: A \" as E7  <<(T,blue) part>> [[psysml:9a31b8cb-b3f5-4478-b49b-73e9fd0f6da5 ]] {\r\n",
       "}\r\n",
       "comp usage \"y: B \" as E8  <<(T,blue) part>> [[psysml:084cb86b-cc59-4a41-8b1c-7b7410cc5029 ]] {\r\n",
       "}\r\n",
       "}\r\n",
       "package \"Test2\" as E9  [[psysml:a06e7d3b-be80-4318-b479-ae1779c5974b ]]  {\r\n",
       "comp usage \"x: A \" as E10  <<(T,blue) part>> [[psysml:377a64d2-1aa6-4a9b-ba95-6aeb6c1d992f ]] {\r\n",
       "}\r\n",
       "comp usage \"y: B \" as E11  <<(T,blue) part>> [[psysml:7cdd5db6-fbbe-4f9d-b259-3a085be4f068 ]] {\r\n",
       "}\r\n",
       "}\r\n",
       "comp usage \"x: A \" as E12  <<(T,blue) part>> [[psysml:665d223a-8fea-436a-b414-0efd919424fb ]] {\r\n",
       "}\r\n",
       "comp usage \"y: B \" as E13  <<(T,blue) part>> [[psysml:a1b35d80-8992-43c2-aa5d-6937f2901599 ]] {\r\n",
       "}\r\n",
       "}\r\n",
       "E7 - -:|> E3 [[psysml:0b2c7bde-3c6f-4711-9ee8-a744dba64aec ]] \r\n",
       "E8 - -:|> E5 [[psysml:16eea2e1-2a1c-45c0-89dc-072c92b0db51 ]] \r\n",
       "E10 - -:|> E3 [[psysml:0ac0ff17-b961-483b-88a6-6c34531d2872 ]] \r\n",
       "E11 - -:|> E5 [[psysml:7353245a-aec5-4316-8af8-2852475c4dc4 ]] \r\n",
       "E12 - -:|> E3 [[psysml:6cc10db6-ba98-48a2-919a-a7b34cb2bdfc ]] \r\n",
       "E13 - -:|> E5 [[psysml:fb180b05-d2cf-42d1-bf2a-01829ad20206 ]] \r\n",
       "@enduml\r\n",
       "\n",
       "PlantUML version 1.2020.13(Sat Jun 13 12:26:38 UTC 2020)\n",
       "(EPL source distribution)\n",
       "Java Runtime: OpenJDK Runtime Environment\n",
       "JVM: OpenJDK 64-Bit Server VM\n",
       "Default Encoding: UTF-8\n",
       "Language: en\n",
       "Country: null\n",
       "--></g></svg>"
      ]
     },
     "execution_count": 38,
     "metadata": {},
     "output_type": "execute_result"
    }
   ],
   "source": [
    "%viz --style=\"DEFAULT\" --view=\"Tree\" \"CircularImport\""
   ]
  },
  {
   "cell_type": "code",
   "execution_count": 39,
   "id": "7bb8d396",
   "metadata": {
    "execution": {
     "iopub.execute_input": "2021-12-15T15:15:39.351268Z",
     "iopub.status.busy": "2021-12-15T15:15:39.351009Z",
     "iopub.status.idle": "2021-12-15T15:15:39.355561Z",
     "shell.execute_reply": "2021-12-15T15:15:39.355726Z"
    }
   },
   "outputs": [
    {
     "data": {
      "image/svg+xml": [
       "<?xml version=\"1.0\" encoding=\"UTF-8\" standalone=\"no\"?><svg xmlns=\"http://www.w3.org/2000/svg\" xmlns:xlink=\"http://www.w3.org/1999/xlink\" contentScriptType=\"application/ecmascript\" contentStyleType=\"text/css\" height=\"12px\" preserveAspectRatio=\"none\" style=\"width:12px;height:12px;\" version=\"1.1\" viewBox=\"0 0 12 12\" width=\"12px\" zoomAndPan=\"magnify\"><defs/><g><!--MD5=[c5f280e076d0d61ccf4b0f27871bda1d]\n",
       "@startuml\r\n",
       "skinparam monochrome true\r\n",
       "skinparam classbackgroundcolor white\r\n",
       "skinparam shadowing false\r\n",
       "skinparam wrapWidth 300\r\n",
       "hide circle\r\n",
       "\r\n",
       "@enduml\r\n",
       "\n",
       "PlantUML version 1.2020.13(Sat Jun 13 12:26:38 UTC 2020)\n",
       "(EPL source distribution)\n",
       "Java Runtime: OpenJDK Runtime Environment\n",
       "JVM: OpenJDK 64-Bit Server VM\n",
       "Default Encoding: UTF-8\n",
       "Language: en\n",
       "Country: null\n",
       "--></g></svg>"
      ]
     },
     "execution_count": 39,
     "metadata": {},
     "output_type": "execute_result"
    }
   ],
   "source": [
    "%viz --style=\"DEFAULT\" --view=\"State\" \"CircularImport\""
   ]
  },
  {
   "cell_type": "code",
   "execution_count": 40,
   "id": "b32b0f5f",
   "metadata": {
    "execution": {
     "iopub.execute_input": "2021-12-15T15:15:39.405717Z",
     "iopub.status.busy": "2021-12-15T15:15:39.405472Z",
     "iopub.status.idle": "2021-12-15T15:15:39.437633Z",
     "shell.execute_reply": "2021-12-15T15:15:39.437267Z"
    }
   },
   "outputs": [
    {
     "data": {
      "image/svg+xml": [
       "<?xml version=\"1.0\" encoding=\"UTF-8\" standalone=\"no\"?><svg xmlns=\"http://www.w3.org/2000/svg\" xmlns:xlink=\"http://www.w3.org/1999/xlink\" contentScriptType=\"application/ecmascript\" contentStyleType=\"text/css\" height=\"179px\" preserveAspectRatio=\"none\" style=\"width:850px;height:179px;\" version=\"1.1\" viewBox=\"0 0 850 179\" width=\"850px\" zoomAndPan=\"magnify\"><defs/><g><!--MD5=[fbc87193dbaf4d95561dea2c320d4a47]\n",
       "cluster E1--><a href=\"psysml:6d002b47-1de9-4cb8-be5e-1d54cb7fff5c\" target=\"_top\" title=\"psysml:6d002b47-1de9-4cb8-be5e-1d54cb7fff5c\" xlink:actuate=\"onRequest\" xlink:href=\"psysml:6d002b47-1de9-4cb8-be5e-1d54cb7fff5c\" xlink:show=\"new\" xlink:title=\"psysml:6d002b47-1de9-4cb8-be5e-1d54cb7fff5c\" xlink:type=\"simple\"><polygon fill=\"#FFFFFF\" points=\"16,6,117,6,124,28.2969,828,28.2969,828,167,16,167,16,6\" style=\"stroke: #000000; stroke-width: 1.5;\"/><line style=\"stroke: #000000; stroke-width: 1.5;\" x1=\"16\" x2=\"124\" y1=\"28.2969\" y2=\"28.2969\"/><text fill=\"#000000\" font-family=\"sans-serif\" font-size=\"14\" font-weight=\"bold\" lengthAdjust=\"spacingAndGlyphs\" textLength=\"95\" x=\"20\" y=\"20.9951\">CircularImport</text></a><!--MD5=[e4f7fae6ed58524ba242bb0b0d3be6b7]\n",
       "cluster E2--><a href=\"psysml:531dfa6c-428e-410a-a6f8-c5b9ff8ecb34\" target=\"_top\" title=\"psysml:531dfa6c-428e-410a-a6f8-c5b9ff8ecb34\" xlink:actuate=\"onRequest\" xlink:href=\"psysml:531dfa6c-428e-410a-a6f8-c5b9ff8ecb34\" xlink:show=\"new\" xlink:title=\"psysml:531dfa6c-428e-410a-a6f8-c5b9ff8ecb34\" xlink:type=\"simple\"><polygon fill=\"#FFFFFF\" points=\"698,49,722,49,729,71.2969,804,71.2969,804,143,698,143,698,49\" style=\"stroke: #000000; stroke-width: 1.5;\"/><line style=\"stroke: #000000; stroke-width: 1.5;\" x1=\"698\" x2=\"729\" y1=\"71.2969\" y2=\"71.2969\"/><text fill=\"#000000\" font-family=\"sans-serif\" font-size=\"14\" font-weight=\"bold\" lengthAdjust=\"spacingAndGlyphs\" textLength=\"18\" x=\"702\" y=\"63.9951\">P1</text></a><!--MD5=[f6df4d0ebaf0b5dfb2ced0ae5af7c670]\n",
       "cluster E4--><a href=\"psysml:62a929fe-702a-4460-9e53-8584d6f6435e\" target=\"_top\" title=\"psysml:62a929fe-702a-4460-9e53-8584d6f6435e\" xlink:actuate=\"onRequest\" xlink:href=\"psysml:62a929fe-702a-4460-9e53-8584d6f6435e\" xlink:show=\"new\" xlink:title=\"psysml:62a929fe-702a-4460-9e53-8584d6f6435e\" xlink:type=\"simple\"><polygon fill=\"#FFFFFF\" points=\"568,49,592,49,599,71.2969,674,71.2969,674,143,568,143,568,49\" style=\"stroke: #000000; stroke-width: 1.5;\"/><line style=\"stroke: #000000; stroke-width: 1.5;\" x1=\"568\" x2=\"599\" y1=\"71.2969\" y2=\"71.2969\"/><text fill=\"#000000\" font-family=\"sans-serif\" font-size=\"14\" font-weight=\"bold\" lengthAdjust=\"spacingAndGlyphs\" textLength=\"18\" x=\"572\" y=\"63.9951\">P2</text></a><!--MD5=[14e3b0961a2654348d326746436168a1]\n",
       "cluster E6--><a href=\"psysml:0f17a3a9-0805-4d7f-ba6a-07da905c8abf\" target=\"_top\" title=\"psysml:0f17a3a9-0805-4d7f-ba6a-07da905c8abf\" xlink:actuate=\"onRequest\" xlink:href=\"psysml:0f17a3a9-0805-4d7f-ba6a-07da905c8abf\" xlink:show=\"new\" xlink:title=\"psysml:0f17a3a9-0805-4d7f-ba6a-07da905c8abf\" xlink:type=\"simple\"><polygon fill=\"#FFFFFF\" points=\"377,50.5,423,50.5,430,72.7969,544,72.7969,544,141.5,377,141.5,377,50.5\" style=\"stroke: #000000; stroke-width: 1.5;\"/><line style=\"stroke: #000000; stroke-width: 1.5;\" x1=\"377\" x2=\"430\" y1=\"72.7969\" y2=\"72.7969\"/><text fill=\"#000000\" font-family=\"sans-serif\" font-size=\"14\" font-weight=\"bold\" lengthAdjust=\"spacingAndGlyphs\" textLength=\"40\" x=\"381\" y=\"65.4951\">Test1</text></a><!--MD5=[7f149f147074ac12df2cb0a7728a5fb0]\n",
       "cluster E9--><a href=\"psysml:a06e7d3b-be80-4318-b479-ae1779c5974b\" target=\"_top\" title=\"psysml:a06e7d3b-be80-4318-b479-ae1779c5974b\" xlink:actuate=\"onRequest\" xlink:href=\"psysml:a06e7d3b-be80-4318-b479-ae1779c5974b\" xlink:show=\"new\" xlink:title=\"psysml:a06e7d3b-be80-4318-b479-ae1779c5974b\" xlink:type=\"simple\"><polygon fill=\"#FFFFFF\" points=\"186,50.5,232,50.5,239,72.7969,353,72.7969,353,141.5,186,141.5,186,50.5\" style=\"stroke: #000000; stroke-width: 1.5;\"/><line style=\"stroke: #000000; stroke-width: 1.5;\" x1=\"186\" x2=\"239\" y1=\"72.7969\" y2=\"72.7969\"/><text fill=\"#000000\" font-family=\"sans-serif\" font-size=\"14\" font-weight=\"bold\" lengthAdjust=\"spacingAndGlyphs\" textLength=\"40\" x=\"190\" y=\"65.4951\">Test2</text></a><g id=\"E1.E2.E3\"><a href=\"psysml:8ceeee5f-0d5a-4279-aee9-7758649ab8be\" target=\"_top\" title=\"psysml:8ceeee5f-0d5a-4279-aee9-7758649ab8be\" xlink:actuate=\"onRequest\" xlink:href=\"psysml:8ceeee5f-0d5a-4279-aee9-7758649ab8be\" xlink:show=\"new\" xlink:title=\"psysml:8ceeee5f-0d5a-4279-aee9-7758649ab8be\" xlink:type=\"simple\"><rect fill=\"#FFFFFF\" height=\"42.9375\" id=\"E3\" style=\"stroke: #383838; stroke-width: 1.5;\" width=\"75\" x=\"713.5\" y=\"84\"/><rect fill=\"#F8F8F8\" height=\"37.9375\" style=\"stroke: #383838; stroke-width: 1.5;\" width=\"75\" x=\"713.5\" y=\"84\"/><text fill=\"#000000\" font-family=\"sans-serif\" font-size=\"12\" font-style=\"italic\" lengthAdjust=\"spacingAndGlyphs\" textLength=\"68\" x=\"717\" y=\"100.1387\">«part  def»</text><text fill=\"#000000\" font-family=\"sans-serif\" font-size=\"12\" lengthAdjust=\"spacingAndGlyphs\" textLength=\"8\" x=\"747\" y=\"114.1074\">A</text></a></g><g id=\"E1.E4.E5\"><a href=\"psysml:90844ba8-c1a9-4c46-b7c9-d1a2572e7365\" target=\"_top\" title=\"psysml:90844ba8-c1a9-4c46-b7c9-d1a2572e7365\" xlink:actuate=\"onRequest\" xlink:href=\"psysml:90844ba8-c1a9-4c46-b7c9-d1a2572e7365\" xlink:show=\"new\" xlink:title=\"psysml:90844ba8-c1a9-4c46-b7c9-d1a2572e7365\" xlink:type=\"simple\"><rect fill=\"#FFFFFF\" height=\"42.9375\" id=\"E5\" style=\"stroke: #383838; stroke-width: 1.5;\" width=\"75\" x=\"583.5\" y=\"84\"/><rect fill=\"#F8F8F8\" height=\"37.9375\" style=\"stroke: #383838; stroke-width: 1.5;\" width=\"75\" x=\"583.5\" y=\"84\"/><text fill=\"#000000\" font-family=\"sans-serif\" font-size=\"12\" font-style=\"italic\" lengthAdjust=\"spacingAndGlyphs\" textLength=\"68\" x=\"587\" y=\"100.1387\">«part  def»</text><text fill=\"#000000\" font-family=\"sans-serif\" font-size=\"12\" lengthAdjust=\"spacingAndGlyphs\" textLength=\"8\" x=\"617\" y=\"114.1074\">B</text></a></g><g id=\"E1.E6.E7\"><a href=\"psysml:9a31b8cb-b3f5-4478-b49b-73e9fd0f6da5\" target=\"_top\" title=\"psysml:9a31b8cb-b3f5-4478-b49b-73e9fd0f6da5\" xlink:actuate=\"onRequest\" xlink:href=\"psysml:9a31b8cb-b3f5-4478-b49b-73e9fd0f6da5\" xlink:show=\"new\" xlink:title=\"psysml:9a31b8cb-b3f5-4478-b49b-73e9fd0f6da5\" xlink:type=\"simple\"><rect fill=\"#FFFFFF\" height=\"40\" id=\"E7\" rx=\"10\" ry=\"10\" style=\"stroke: #383838; stroke-width: 1.5;\" width=\"50\" x=\"478\" y=\"85.5\"/><rect fill=\"#F8F8F8\" height=\"23.9688\" rx=\"10\" ry=\"10\" style=\"stroke: #F8F8F8; stroke-width: 1.5;\" width=\"50\" x=\"478\" y=\"85.5\"/><rect fill=\"#F8F8F8\" height=\"10\" style=\"stroke: #F8F8F8; stroke-width: 1.5;\" width=\"50\" x=\"478\" y=\"99.4688\"/><rect fill=\"none\" height=\"40\" id=\"E7\" rx=\"10\" ry=\"10\" style=\"stroke: #383838; stroke-width: 1.5;\" width=\"50\" x=\"478\" y=\"85.5\"/><text fill=\"#000000\" font-family=\"sans-serif\" font-size=\"12\" lengthAdjust=\"spacingAndGlyphs\" textLength=\"22\" x=\"492\" y=\"101.6387\">x: A</text></a></g><g id=\"E1.E6.E8\"><a href=\"psysml:084cb86b-cc59-4a41-8b1c-7b7410cc5029\" target=\"_top\" title=\"psysml:084cb86b-cc59-4a41-8b1c-7b7410cc5029\" xlink:actuate=\"onRequest\" xlink:href=\"psysml:084cb86b-cc59-4a41-8b1c-7b7410cc5029\" xlink:show=\"new\" xlink:title=\"psysml:084cb86b-cc59-4a41-8b1c-7b7410cc5029\" xlink:type=\"simple\"><rect fill=\"#FFFFFF\" height=\"40\" id=\"E8\" rx=\"10\" ry=\"10\" style=\"stroke: #383838; stroke-width: 1.5;\" width=\"50\" x=\"393\" y=\"85.5\"/><rect fill=\"#F8F8F8\" height=\"23.9688\" rx=\"10\" ry=\"10\" style=\"stroke: #F8F8F8; stroke-width: 1.5;\" width=\"50\" x=\"393\" y=\"85.5\"/><rect fill=\"#F8F8F8\" height=\"10\" style=\"stroke: #F8F8F8; stroke-width: 1.5;\" width=\"50\" x=\"393\" y=\"99.4688\"/><rect fill=\"none\" height=\"40\" id=\"E8\" rx=\"10\" ry=\"10\" style=\"stroke: #383838; stroke-width: 1.5;\" width=\"50\" x=\"393\" y=\"85.5\"/><text fill=\"#000000\" font-family=\"sans-serif\" font-size=\"12\" lengthAdjust=\"spacingAndGlyphs\" textLength=\"22\" x=\"407\" y=\"101.6387\">y: B</text></a></g><g id=\"E1.E9.E10\"><a href=\"psysml:377a64d2-1aa6-4a9b-ba95-6aeb6c1d992f\" target=\"_top\" title=\"psysml:377a64d2-1aa6-4a9b-ba95-6aeb6c1d992f\" xlink:actuate=\"onRequest\" xlink:href=\"psysml:377a64d2-1aa6-4a9b-ba95-6aeb6c1d992f\" xlink:show=\"new\" xlink:title=\"psysml:377a64d2-1aa6-4a9b-ba95-6aeb6c1d992f\" xlink:type=\"simple\"><rect fill=\"#FFFFFF\" height=\"40\" id=\"E10\" rx=\"10\" ry=\"10\" style=\"stroke: #383838; stroke-width: 1.5;\" width=\"50\" x=\"287\" y=\"85.5\"/><rect fill=\"#F8F8F8\" height=\"23.9688\" rx=\"10\" ry=\"10\" style=\"stroke: #F8F8F8; stroke-width: 1.5;\" width=\"50\" x=\"287\" y=\"85.5\"/><rect fill=\"#F8F8F8\" height=\"10\" style=\"stroke: #F8F8F8; stroke-width: 1.5;\" width=\"50\" x=\"287\" y=\"99.4688\"/><rect fill=\"none\" height=\"40\" id=\"E10\" rx=\"10\" ry=\"10\" style=\"stroke: #383838; stroke-width: 1.5;\" width=\"50\" x=\"287\" y=\"85.5\"/><text fill=\"#000000\" font-family=\"sans-serif\" font-size=\"12\" lengthAdjust=\"spacingAndGlyphs\" textLength=\"22\" x=\"301\" y=\"101.6387\">x: A</text></a></g><g id=\"E1.E9.E11\"><a href=\"psysml:7cdd5db6-fbbe-4f9d-b259-3a085be4f068\" target=\"_top\" title=\"psysml:7cdd5db6-fbbe-4f9d-b259-3a085be4f068\" xlink:actuate=\"onRequest\" xlink:href=\"psysml:7cdd5db6-fbbe-4f9d-b259-3a085be4f068\" xlink:show=\"new\" xlink:title=\"psysml:7cdd5db6-fbbe-4f9d-b259-3a085be4f068\" xlink:type=\"simple\"><rect fill=\"#FFFFFF\" height=\"40\" id=\"E11\" rx=\"10\" ry=\"10\" style=\"stroke: #383838; stroke-width: 1.5;\" width=\"50\" x=\"202\" y=\"85.5\"/><rect fill=\"#F8F8F8\" height=\"23.9688\" rx=\"10\" ry=\"10\" style=\"stroke: #F8F8F8; stroke-width: 1.5;\" width=\"50\" x=\"202\" y=\"85.5\"/><rect fill=\"#F8F8F8\" height=\"10\" style=\"stroke: #F8F8F8; stroke-width: 1.5;\" width=\"50\" x=\"202\" y=\"99.4688\"/><rect fill=\"none\" height=\"40\" id=\"E11\" rx=\"10\" ry=\"10\" style=\"stroke: #383838; stroke-width: 1.5;\" width=\"50\" x=\"202\" y=\"85.5\"/><text fill=\"#000000\" font-family=\"sans-serif\" font-size=\"12\" lengthAdjust=\"spacingAndGlyphs\" textLength=\"22\" x=\"216\" y=\"101.6387\">y: B</text></a></g><g id=\"E1.E12\"><a href=\"psysml:665d223a-8fea-436a-b414-0efd919424fb\" target=\"_top\" title=\"psysml:665d223a-8fea-436a-b414-0efd919424fb\" xlink:actuate=\"onRequest\" xlink:href=\"psysml:665d223a-8fea-436a-b414-0efd919424fb\" xlink:show=\"new\" xlink:title=\"psysml:665d223a-8fea-436a-b414-0efd919424fb\" xlink:type=\"simple\"><rect fill=\"#FFFFFF\" height=\"40\" id=\"E12\" rx=\"10\" ry=\"10\" style=\"stroke: #383838; stroke-width: 1.5;\" width=\"50\" x=\"117\" y=\"85.5\"/><rect fill=\"#F8F8F8\" height=\"23.9688\" rx=\"10\" ry=\"10\" style=\"stroke: #F8F8F8; stroke-width: 1.5;\" width=\"50\" x=\"117\" y=\"85.5\"/><rect fill=\"#F8F8F8\" height=\"10\" style=\"stroke: #F8F8F8; stroke-width: 1.5;\" width=\"50\" x=\"117\" y=\"99.4688\"/><rect fill=\"none\" height=\"40\" id=\"E12\" rx=\"10\" ry=\"10\" style=\"stroke: #383838; stroke-width: 1.5;\" width=\"50\" x=\"117\" y=\"85.5\"/><text fill=\"#000000\" font-family=\"sans-serif\" font-size=\"12\" lengthAdjust=\"spacingAndGlyphs\" textLength=\"22\" x=\"131\" y=\"101.6387\">x: A</text></a></g><g id=\"E1.E13\"><a href=\"psysml:a1b35d80-8992-43c2-aa5d-6937f2901599\" target=\"_top\" title=\"psysml:a1b35d80-8992-43c2-aa5d-6937f2901599\" xlink:actuate=\"onRequest\" xlink:href=\"psysml:a1b35d80-8992-43c2-aa5d-6937f2901599\" xlink:show=\"new\" xlink:title=\"psysml:a1b35d80-8992-43c2-aa5d-6937f2901599\" xlink:type=\"simple\"><rect fill=\"#FFFFFF\" height=\"40\" id=\"E13\" rx=\"10\" ry=\"10\" style=\"stroke: #383838; stroke-width: 1.5;\" width=\"50\" x=\"32\" y=\"85.5\"/><rect fill=\"#F8F8F8\" height=\"23.9688\" rx=\"10\" ry=\"10\" style=\"stroke: #F8F8F8; stroke-width: 1.5;\" width=\"50\" x=\"32\" y=\"85.5\"/><rect fill=\"#F8F8F8\" height=\"10\" style=\"stroke: #F8F8F8; stroke-width: 1.5;\" width=\"50\" x=\"32\" y=\"99.4688\"/><rect fill=\"none\" height=\"40\" id=\"E13\" rx=\"10\" ry=\"10\" style=\"stroke: #383838; stroke-width: 1.5;\" width=\"50\" x=\"32\" y=\"85.5\"/><text fill=\"#000000\" font-family=\"sans-serif\" font-size=\"12\" lengthAdjust=\"spacingAndGlyphs\" textLength=\"22\" x=\"46\" y=\"101.6387\">y: B</text></a></g><!--MD5=[2b8ea63e923ff7da9e47e529b45c071b]\n",
       "@startuml\r\n",
       "skinparam ranksep 10\r\n",
       "skinparam rectangle {\r\n",
       " backgroundColor<<block>> LightGreen\r\n",
       "}\r\n",
       "skinparam monochrome true\r\n",
       "skinparam classbackgroundcolor white\r\n",
       "skinparam shadowing false\r\n",
       "skinparam wrapWidth 300\r\n",
       "hide circle\r\n",
       "\r\n",
       "package \"CircularImport\" as E1  [[psysml:6d002b47-1de9-4cb8-be5e-1d54cb7fff5c ]]  {\r\n",
       "package \"P1\" as E2  [[psysml:531dfa6c-428e-410a-a6f8-c5b9ff8ecb34 ]]  {\r\n",
       "rec def \"A\" as E3  <<(T,blue) part  def>> [[psysml:8ceeee5f-0d5a-4279-aee9-7758649ab8be ]] {\r\n",
       "}\r\n",
       "}\r\n",
       "package \"P2\" as E4  [[psysml:62a929fe-702a-4460-9e53-8584d6f6435e ]]  {\r\n",
       "rec def \"B\" as E5  <<(T,blue) part  def>> [[psysml:90844ba8-c1a9-4c46-b7c9-d1a2572e7365 ]] {\r\n",
       "}\r\n",
       "}\r\n",
       "package \"Test1\" as E6  [[psysml:0f17a3a9-0805-4d7f-ba6a-07da905c8abf ]]  {\r\n",
       "rec usage \"x: A\" as E7  [[psysml:9a31b8cb-b3f5-4478-b49b-73e9fd0f6da5 ]] {\r\n",
       "}\r\n",
       "rec usage \"y: B\" as E8  [[psysml:084cb86b-cc59-4a41-8b1c-7b7410cc5029 ]] {\r\n",
       "}\r\n",
       "}\r\n",
       "package \"Test2\" as E9  [[psysml:a06e7d3b-be80-4318-b479-ae1779c5974b ]]  {\r\n",
       "rec usage \"x: A\" as E10  [[psysml:377a64d2-1aa6-4a9b-ba95-6aeb6c1d992f ]] {\r\n",
       "}\r\n",
       "rec usage \"y: B\" as E11  [[psysml:7cdd5db6-fbbe-4f9d-b259-3a085be4f068 ]] {\r\n",
       "}\r\n",
       "}\r\n",
       "rec usage \"x: A\" as E12  [[psysml:665d223a-8fea-436a-b414-0efd919424fb ]] {\r\n",
       "}\r\n",
       "rec usage \"y: B\" as E13  [[psysml:a1b35d80-8992-43c2-aa5d-6937f2901599 ]] {\r\n",
       "}\r\n",
       "}\r\n",
       "@enduml\r\n",
       "\n",
       "PlantUML version 1.2020.13(Sat Jun 13 12:26:38 UTC 2020)\n",
       "(EPL source distribution)\n",
       "Java Runtime: OpenJDK Runtime Environment\n",
       "JVM: OpenJDK 64-Bit Server VM\n",
       "Default Encoding: UTF-8\n",
       "Language: en\n",
       "Country: null\n",
       "--></g></svg>"
      ]
     },
     "execution_count": 40,
     "metadata": {},
     "output_type": "execute_result"
    }
   ],
   "source": [
    "%viz --style=\"DEFAULT\" --view=\"Interconnection\" \"CircularImport\""
   ]
  },
  {
   "cell_type": "code",
   "execution_count": 41,
   "id": "d2df81e2",
   "metadata": {
    "execution": {
     "iopub.execute_input": "2021-12-15T15:15:39.486454Z",
     "iopub.status.busy": "2021-12-15T15:15:39.486056Z",
     "iopub.status.idle": "2021-12-15T15:15:39.490993Z",
     "shell.execute_reply": "2021-12-15T15:15:39.491309Z"
    }
   },
   "outputs": [
    {
     "data": {
      "image/svg+xml": [
       "<?xml version=\"1.0\" encoding=\"UTF-8\" standalone=\"no\"?><svg xmlns=\"http://www.w3.org/2000/svg\" xmlns:xlink=\"http://www.w3.org/1999/xlink\" contentScriptType=\"application/ecmascript\" contentStyleType=\"text/css\" height=\"12px\" preserveAspectRatio=\"none\" style=\"width:12px;height:12px;\" version=\"1.1\" viewBox=\"0 0 12 12\" width=\"12px\" zoomAndPan=\"magnify\"><defs/><g><!--MD5=[388f21188e31bfdd97050473b19af356]\n",
       "@startuml\r\n",
       "skinparam ranksep 8\r\n",
       "skinparam monochrome true\r\n",
       "skinparam classbackgroundcolor white\r\n",
       "skinparam shadowing false\r\n",
       "skinparam wrapWidth 300\r\n",
       "hide circle\r\n",
       "\r\n",
       "@enduml\r\n",
       "\n",
       "PlantUML version 1.2020.13(Sat Jun 13 12:26:38 UTC 2020)\n",
       "(EPL source distribution)\n",
       "Java Runtime: OpenJDK Runtime Environment\n",
       "JVM: OpenJDK 64-Bit Server VM\n",
       "Default Encoding: UTF-8\n",
       "Language: en\n",
       "Country: null\n",
       "--></g></svg>"
      ]
     },
     "execution_count": 41,
     "metadata": {},
     "output_type": "execute_result"
    }
   ],
   "source": [
    "%viz --style=\"DEFAULT\" --view=\"Action\" \"CircularImport\""
   ]
  },
  {
   "cell_type": "code",
   "execution_count": 42,
   "id": "60be6224",
   "metadata": {
    "execution": {
     "iopub.execute_input": "2021-12-15T15:15:39.540790Z",
     "iopub.status.busy": "2021-12-15T15:15:39.540397Z",
     "iopub.status.idle": "2021-12-15T15:15:39.545468Z",
     "shell.execute_reply": "2021-12-15T15:15:39.545783Z"
    }
   },
   "outputs": [
    {
     "data": {
      "image/svg+xml": [
       "<?xml version=\"1.0\" encoding=\"UTF-8\" standalone=\"no\"?><svg xmlns=\"http://www.w3.org/2000/svg\" xmlns:xlink=\"http://www.w3.org/1999/xlink\" contentScriptType=\"application/ecmascript\" contentStyleType=\"text/css\" height=\"12px\" preserveAspectRatio=\"none\" style=\"width:12px;height:12px;\" version=\"1.1\" viewBox=\"0 0 12 12\" width=\"12px\" zoomAndPan=\"magnify\"><defs/><g><!--MD5=[0b72472770326784bf6c2b53246e1e64]\n",
       "@startuml\r\n",
       "skinparam roundcorner 20\r\n",
       "skinparam BoxPadding 20\r\n",
       "skinparam SequenceBoxBackgroundColor #white\r\n",
       "skinparam style strictuml\r\n",
       "skinparam maxMessageSize 100\r\n",
       "skinparam monochrome true\r\n",
       "skinparam classbackgroundcolor white\r\n",
       "skinparam shadowing false\r\n",
       "skinparam wrapWidth 300\r\n",
       "hide circle\r\n",
       "\r\n",
       "@enduml\r\n",
       "\n",
       "PlantUML version 1.2020.13(Sat Jun 13 12:26:38 UTC 2020)\n",
       "(EPL source distribution)\n",
       "Java Runtime: OpenJDK Runtime Environment\n",
       "JVM: OpenJDK 64-Bit Server VM\n",
       "Default Encoding: UTF-8\n",
       "Language: en\n",
       "Country: null\n",
       "--></g></svg>"
      ]
     },
     "execution_count": 42,
     "metadata": {},
     "output_type": "execute_result"
    }
   ],
   "source": [
    "%viz --style=\"DEFAULT\" --view=\"Sequence\" \"CircularImport\""
   ]
  },
  {
   "cell_type": "code",
   "execution_count": 43,
   "id": "41bb0afd",
   "metadata": {
    "execution": {
     "iopub.execute_input": "2021-12-15T15:15:39.595281Z",
     "iopub.status.busy": "2021-12-15T15:15:39.594891Z",
     "iopub.status.idle": "2021-12-15T15:15:39.630027Z",
     "shell.execute_reply": "2021-12-15T15:15:39.628128Z"
    }
   },
   "outputs": [
    {
     "data": {
      "image/svg+xml": [
       "<?xml version=\"1.0\" encoding=\"UTF-8\" standalone=\"no\"?><svg xmlns=\"http://www.w3.org/2000/svg\" xmlns:xlink=\"http://www.w3.org/1999/xlink\" contentScriptType=\"application/ecmascript\" contentStyleType=\"text/css\" height=\"303px\" preserveAspectRatio=\"none\" style=\"width:518px;height:303px;\" version=\"1.1\" viewBox=\"0 0 518 303\" width=\"518px\" zoomAndPan=\"magnify\"><defs/><g><!--MD5=[fbc87193dbaf4d95561dea2c320d4a47]\n",
       "cluster E1--><a href=\"psysml:6d002b47-1de9-4cb8-be5e-1d54cb7fff5c\" target=\"_top\" title=\"psysml:6d002b47-1de9-4cb8-be5e-1d54cb7fff5c\" xlink:actuate=\"onRequest\" xlink:href=\"psysml:6d002b47-1de9-4cb8-be5e-1d54cb7fff5c\" xlink:show=\"new\" xlink:title=\"psysml:6d002b47-1de9-4cb8-be5e-1d54cb7fff5c\" xlink:type=\"simple\"><polygon fill=\"#FFFFFF\" points=\"16,6,117,6,124,28.2969,496,28.2969,496,291,16,291,16,6\" style=\"stroke: #000000; stroke-width: 1.5;\"/><line style=\"stroke: #000000; stroke-width: 1.5;\" x1=\"16\" x2=\"124\" y1=\"28.2969\" y2=\"28.2969\"/><text fill=\"#000000\" font-family=\"sans-serif\" font-size=\"14\" font-weight=\"bold\" lengthAdjust=\"spacingAndGlyphs\" textLength=\"95\" x=\"20\" y=\"20.9951\">CircularImport</text></a><!--MD5=[e4f7fae6ed58524ba242bb0b0d3be6b7]\n",
       "cluster E2--><a href=\"psysml:531dfa6c-428e-410a-a6f8-c5b9ff8ecb34\" target=\"_top\" title=\"psysml:531dfa6c-428e-410a-a6f8-c5b9ff8ecb34\" xlink:actuate=\"onRequest\" xlink:href=\"psysml:531dfa6c-428e-410a-a6f8-c5b9ff8ecb34\" xlink:show=\"new\" xlink:title=\"psysml:531dfa6c-428e-410a-a6f8-c5b9ff8ecb34\" xlink:type=\"simple\"><polygon fill=\"#FFFFFF\" points=\"331,170,355,170,362,192.2969,433,192.2969,433,267,331,267,331,170\" style=\"stroke: #000000; stroke-width: 1.5;\"/><line style=\"stroke: #000000; stroke-width: 1.5;\" x1=\"331\" x2=\"362\" y1=\"192.2969\" y2=\"192.2969\"/><text fill=\"#000000\" font-family=\"sans-serif\" font-size=\"14\" font-weight=\"bold\" lengthAdjust=\"spacingAndGlyphs\" textLength=\"18\" x=\"335\" y=\"184.9951\">P1</text></a><!--MD5=[f6df4d0ebaf0b5dfb2ced0ae5af7c670]\n",
       "cluster E4--><a href=\"psysml:62a929fe-702a-4460-9e53-8584d6f6435e\" target=\"_top\" title=\"psysml:62a929fe-702a-4460-9e53-8584d6f6435e\" xlink:actuate=\"onRequest\" xlink:href=\"psysml:62a929fe-702a-4460-9e53-8584d6f6435e\" xlink:show=\"new\" xlink:title=\"psysml:62a929fe-702a-4460-9e53-8584d6f6435e\" xlink:type=\"simple\"><polygon fill=\"#FFFFFF\" points=\"79,170,103,170,110,192.2969,181,192.2969,181,267,79,267,79,170\" style=\"stroke: #000000; stroke-width: 1.5;\"/><line style=\"stroke: #000000; stroke-width: 1.5;\" x1=\"79\" x2=\"110\" y1=\"192.2969\" y2=\"192.2969\"/><text fill=\"#000000\" font-family=\"sans-serif\" font-size=\"14\" font-weight=\"bold\" lengthAdjust=\"spacingAndGlyphs\" textLength=\"18\" x=\"83\" y=\"184.9951\">P2</text></a><!--MD5=[14e3b0961a2654348d326746436168a1]\n",
       "cluster E6--><a href=\"psysml:0f17a3a9-0805-4d7f-ba6a-07da905c8abf\" target=\"_top\" title=\"psysml:0f17a3a9-0805-4d7f-ba6a-07da905c8abf\" xlink:actuate=\"onRequest\" xlink:href=\"psysml:0f17a3a9-0805-4d7f-ba6a-07da905c8abf\" xlink:show=\"new\" xlink:title=\"psysml:0f17a3a9-0805-4d7f-ba6a-07da905c8abf\" xlink:type=\"simple\"><polygon fill=\"#FFFFFF\" points=\"268,49,314,49,321,71.2969,419,71.2969,419,146,268,146,268,49\" style=\"stroke: #000000; stroke-width: 1.5;\"/><line style=\"stroke: #000000; stroke-width: 1.5;\" x1=\"268\" x2=\"321\" y1=\"71.2969\" y2=\"71.2969\"/><text fill=\"#000000\" font-family=\"sans-serif\" font-size=\"14\" font-weight=\"bold\" lengthAdjust=\"spacingAndGlyphs\" textLength=\"40\" x=\"272\" y=\"63.9951\">Test1</text></a><!--MD5=[7f149f147074ac12df2cb0a7728a5fb0]\n",
       "cluster E9--><a href=\"psysml:a06e7d3b-be80-4318-b479-ae1779c5974b\" target=\"_top\" title=\"psysml:a06e7d3b-be80-4318-b479-ae1779c5974b\" xlink:actuate=\"onRequest\" xlink:href=\"psysml:a06e7d3b-be80-4318-b479-ae1779c5974b\" xlink:show=\"new\" xlink:title=\"psysml:a06e7d3b-be80-4318-b479-ae1779c5974b\" xlink:type=\"simple\"><polygon fill=\"#FFFFFF\" points=\"93,49,139,49,146,71.2969,244,71.2969,244,146,93,146,93,49\" style=\"stroke: #000000; stroke-width: 1.5;\"/><line style=\"stroke: #000000; stroke-width: 1.5;\" x1=\"93\" x2=\"146\" y1=\"71.2969\" y2=\"71.2969\"/><text fill=\"#000000\" font-family=\"sans-serif\" font-size=\"14\" font-weight=\"bold\" lengthAdjust=\"spacingAndGlyphs\" textLength=\"40\" x=\"97\" y=\"63.9951\">Test2</text></a><!--MD5=[49a0ec8f00dab7302a31f22d0f0fe584]\n",
       "class E12--><a href=\"psysml:665d223a-8fea-436a-b414-0efd919424fb\" target=\"_top\" title=\"psysml:665d223a-8fea-436a-b414-0efd919424fb\" xlink:actuate=\"onRequest\" xlink:href=\"psysml:665d223a-8fea-436a-b414-0efd919424fb\" xlink:show=\"new\" xlink:title=\"psysml:665d223a-8fea-436a-b414-0efd919424fb\" xlink:type=\"simple\"><rect fill=\"#FFFFFF\" height=\"45.9375\" id=\"E12\" rx=\"10\" ry=\"10\" style=\"stroke: #383838; stroke-width: 1.5;\" width=\"42\" x=\"438\" y=\"84\"/><text fill=\"#000000\" font-family=\"sans-serif\" font-size=\"12\" font-style=\"italic\" lengthAdjust=\"spacingAndGlyphs\" textLength=\"40\" x=\"439\" y=\"100.1387\">«part»</text><text fill=\"#000000\" font-family=\"sans-serif\" font-size=\"12\" lengthAdjust=\"spacingAndGlyphs\" textLength=\"22\" x=\"446\" y=\"114.1074\">x: A</text><line style=\"stroke: #383838; stroke-width: 1.5;\" x1=\"439\" x2=\"479\" y1=\"121.9375\" y2=\"121.9375\"/></a><!--MD5=[ee3c913d1a06f366521f9ef512b67efe]\n",
       "class E13--><a href=\"psysml:a1b35d80-8992-43c2-aa5d-6937f2901599\" target=\"_top\" title=\"psysml:a1b35d80-8992-43c2-aa5d-6937f2901599\" xlink:actuate=\"onRequest\" xlink:href=\"psysml:a1b35d80-8992-43c2-aa5d-6937f2901599\" xlink:show=\"new\" xlink:title=\"psysml:a1b35d80-8992-43c2-aa5d-6937f2901599\" xlink:type=\"simple\"><rect fill=\"#FFFFFF\" height=\"45.9375\" id=\"E13\" rx=\"10\" ry=\"10\" style=\"stroke: #383838; stroke-width: 1.5;\" width=\"42\" x=\"32\" y=\"84\"/><text fill=\"#000000\" font-family=\"sans-serif\" font-size=\"12\" font-style=\"italic\" lengthAdjust=\"spacingAndGlyphs\" textLength=\"40\" x=\"33\" y=\"100.1387\">«part»</text><text fill=\"#000000\" font-family=\"sans-serif\" font-size=\"12\" lengthAdjust=\"spacingAndGlyphs\" textLength=\"22\" x=\"40\" y=\"114.1074\">y: B</text><line style=\"stroke: #383838; stroke-width: 1.5;\" x1=\"33\" x2=\"73\" y1=\"121.9375\" y2=\"121.9375\"/></a><!--MD5=[09b614a08d8cba4a07c9adeb5e0fee81]\n",
       "class E3--><a href=\"psysml:8ceeee5f-0d5a-4279-aee9-7758649ab8be\" target=\"_top\" title=\"psysml:8ceeee5f-0d5a-4279-aee9-7758649ab8be\" xlink:actuate=\"onRequest\" xlink:href=\"psysml:8ceeee5f-0d5a-4279-aee9-7758649ab8be\" xlink:show=\"new\" xlink:title=\"psysml:8ceeee5f-0d5a-4279-aee9-7758649ab8be\" xlink:type=\"simple\"><rect fill=\"#FFFFFF\" height=\"45.9375\" id=\"E3\" style=\"stroke: #383838; stroke-width: 1.5;\" width=\"70\" x=\"347\" y=\"205\"/><text fill=\"#000000\" font-family=\"sans-serif\" font-size=\"12\" font-style=\"italic\" lengthAdjust=\"spacingAndGlyphs\" textLength=\"68\" x=\"348\" y=\"221.1387\">«part  def»</text><text fill=\"#000000\" font-family=\"sans-serif\" font-size=\"12\" lengthAdjust=\"spacingAndGlyphs\" textLength=\"8\" x=\"378\" y=\"235.1074\">A</text><line style=\"stroke: #383838; stroke-width: 1.5;\" x1=\"348\" x2=\"416\" y1=\"242.9375\" y2=\"242.9375\"/></a><!--MD5=[270fce915f116d4de14055a7c1d9a0f3]\n",
       "class E5--><a href=\"psysml:90844ba8-c1a9-4c46-b7c9-d1a2572e7365\" target=\"_top\" title=\"psysml:90844ba8-c1a9-4c46-b7c9-d1a2572e7365\" xlink:actuate=\"onRequest\" xlink:href=\"psysml:90844ba8-c1a9-4c46-b7c9-d1a2572e7365\" xlink:show=\"new\" xlink:title=\"psysml:90844ba8-c1a9-4c46-b7c9-d1a2572e7365\" xlink:type=\"simple\"><rect fill=\"#FFFFFF\" height=\"45.9375\" id=\"E5\" style=\"stroke: #383838; stroke-width: 1.5;\" width=\"70\" x=\"95\" y=\"205\"/><text fill=\"#000000\" font-family=\"sans-serif\" font-size=\"12\" font-style=\"italic\" lengthAdjust=\"spacingAndGlyphs\" textLength=\"68\" x=\"96\" y=\"221.1387\">«part  def»</text><text fill=\"#000000\" font-family=\"sans-serif\" font-size=\"12\" lengthAdjust=\"spacingAndGlyphs\" textLength=\"8\" x=\"126\" y=\"235.1074\">B</text><line style=\"stroke: #383838; stroke-width: 1.5;\" x1=\"96\" x2=\"164\" y1=\"242.9375\" y2=\"242.9375\"/></a><!--MD5=[2156ba9850f5573cc1fc38a6a4b2f02b]\n",
       "class E7--><a href=\"psysml:9a31b8cb-b3f5-4478-b49b-73e9fd0f6da5\" target=\"_top\" title=\"psysml:9a31b8cb-b3f5-4478-b49b-73e9fd0f6da5\" xlink:actuate=\"onRequest\" xlink:href=\"psysml:9a31b8cb-b3f5-4478-b49b-73e9fd0f6da5\" xlink:show=\"new\" xlink:title=\"psysml:9a31b8cb-b3f5-4478-b49b-73e9fd0f6da5\" xlink:type=\"simple\"><rect fill=\"#FFFFFF\" height=\"45.9375\" id=\"E7\" rx=\"10\" ry=\"10\" style=\"stroke: #383838; stroke-width: 1.5;\" width=\"42\" x=\"361\" y=\"84\"/><text fill=\"#000000\" font-family=\"sans-serif\" font-size=\"12\" font-style=\"italic\" lengthAdjust=\"spacingAndGlyphs\" textLength=\"40\" x=\"362\" y=\"100.1387\">«part»</text><text fill=\"#000000\" font-family=\"sans-serif\" font-size=\"12\" lengthAdjust=\"spacingAndGlyphs\" textLength=\"22\" x=\"369\" y=\"114.1074\">x: A</text><line style=\"stroke: #383838; stroke-width: 1.5;\" x1=\"362\" x2=\"402\" y1=\"121.9375\" y2=\"121.9375\"/></a><!--MD5=[b9389687b975829384b498ac4b7476b2]\n",
       "class E8--><a href=\"psysml:084cb86b-cc59-4a41-8b1c-7b7410cc5029\" target=\"_top\" title=\"psysml:084cb86b-cc59-4a41-8b1c-7b7410cc5029\" xlink:actuate=\"onRequest\" xlink:href=\"psysml:084cb86b-cc59-4a41-8b1c-7b7410cc5029\" xlink:show=\"new\" xlink:title=\"psysml:084cb86b-cc59-4a41-8b1c-7b7410cc5029\" xlink:type=\"simple\"><rect fill=\"#FFFFFF\" height=\"45.9375\" id=\"E8\" rx=\"10\" ry=\"10\" style=\"stroke: #383838; stroke-width: 1.5;\" width=\"42\" x=\"284\" y=\"84\"/><text fill=\"#000000\" font-family=\"sans-serif\" font-size=\"12\" font-style=\"italic\" lengthAdjust=\"spacingAndGlyphs\" textLength=\"40\" x=\"285\" y=\"100.1387\">«part»</text><text fill=\"#000000\" font-family=\"sans-serif\" font-size=\"12\" lengthAdjust=\"spacingAndGlyphs\" textLength=\"22\" x=\"292\" y=\"114.1074\">y: B</text><line style=\"stroke: #383838; stroke-width: 1.5;\" x1=\"285\" x2=\"325\" y1=\"121.9375\" y2=\"121.9375\"/></a><!--MD5=[96f4274e9e20536e775497830990834d]\n",
       "class E10--><a href=\"psysml:377a64d2-1aa6-4a9b-ba95-6aeb6c1d992f\" target=\"_top\" title=\"psysml:377a64d2-1aa6-4a9b-ba95-6aeb6c1d992f\" xlink:actuate=\"onRequest\" xlink:href=\"psysml:377a64d2-1aa6-4a9b-ba95-6aeb6c1d992f\" xlink:show=\"new\" xlink:title=\"psysml:377a64d2-1aa6-4a9b-ba95-6aeb6c1d992f\" xlink:type=\"simple\"><rect fill=\"#FFFFFF\" height=\"45.9375\" id=\"E10\" rx=\"10\" ry=\"10\" style=\"stroke: #383838; stroke-width: 1.5;\" width=\"42\" x=\"186\" y=\"84\"/><text fill=\"#000000\" font-family=\"sans-serif\" font-size=\"12\" font-style=\"italic\" lengthAdjust=\"spacingAndGlyphs\" textLength=\"40\" x=\"187\" y=\"100.1387\">«part»</text><text fill=\"#000000\" font-family=\"sans-serif\" font-size=\"12\" lengthAdjust=\"spacingAndGlyphs\" textLength=\"22\" x=\"194\" y=\"114.1074\">x: A</text><line style=\"stroke: #383838; stroke-width: 1.5;\" x1=\"187\" x2=\"227\" y1=\"121.9375\" y2=\"121.9375\"/></a><!--MD5=[1dd1bfd58a279cf63c5f349dbc8fc6a1]\n",
       "class E11--><a href=\"psysml:7cdd5db6-fbbe-4f9d-b259-3a085be4f068\" target=\"_top\" title=\"psysml:7cdd5db6-fbbe-4f9d-b259-3a085be4f068\" xlink:actuate=\"onRequest\" xlink:href=\"psysml:7cdd5db6-fbbe-4f9d-b259-3a085be4f068\" xlink:show=\"new\" xlink:title=\"psysml:7cdd5db6-fbbe-4f9d-b259-3a085be4f068\" xlink:type=\"simple\"><rect fill=\"#FFFFFF\" height=\"45.9375\" id=\"E11\" rx=\"10\" ry=\"10\" style=\"stroke: #383838; stroke-width: 1.5;\" width=\"42\" x=\"109\" y=\"84\"/><text fill=\"#000000\" font-family=\"sans-serif\" font-size=\"12\" font-style=\"italic\" lengthAdjust=\"spacingAndGlyphs\" textLength=\"40\" x=\"110\" y=\"100.1387\">«part»</text><text fill=\"#000000\" font-family=\"sans-serif\" font-size=\"12\" lengthAdjust=\"spacingAndGlyphs\" textLength=\"22\" x=\"117\" y=\"114.1074\">y: B</text><line style=\"stroke: #383838; stroke-width: 1.5;\" x1=\"110\" x2=\"150\" y1=\"121.9375\" y2=\"121.9375\"/></a><!--MD5=[14ccda38c055a5c0da953d572bc50960]\n",
       "link E7 to E3--><a href=\"psysml:0b2c7bde-3c6f-4711-9ee8-a744dba64aec\" target=\"_top\" title=\"psysml:0b2c7bde-3c6f-4711-9ee8-a744dba64aec\" xlink:actuate=\"onRequest\" xlink:href=\"psysml:0b2c7bde-3c6f-4711-9ee8-a744dba64aec\" xlink:show=\"new\" xlink:title=\"psysml:0b2c7bde-3c6f-4711-9ee8-a744dba64aec\" xlink:type=\"simple\"><path d=\"M382,130.1 C382,145.37 382,166.16 382,184.57 \" fill=\"none\" id=\"E7-&gt;E3\" style=\"stroke: #383838; stroke-width: 1.0;\"/><polygon fill=\"#FFFFFF\" points=\"382,204.61,375,185.61,389,185.61,382,204.61\" style=\"stroke: #383838; stroke-width: 1.0;\"/><ellipse cx=\"377\" cy=\"179.91\" fill=\"#383838\" rx=\"2\" ry=\"2\" style=\"stroke: #383838; stroke-width: 1.0;\"/><ellipse cx=\"387\" cy=\"179.91\" fill=\"#383838\" rx=\"2\" ry=\"2\" style=\"stroke: #383838; stroke-width: 1.0;\"/></a><!--MD5=[1ccb2481ffa92f8d51a74ee30c51832a]\n",
       "link E8 to E5--><a href=\"psysml:16eea2e1-2a1c-45c0-89dc-072c92b0db51\" target=\"_top\" title=\"psysml:16eea2e1-2a1c-45c0-89dc-072c92b0db51\" xlink:actuate=\"onRequest\" xlink:href=\"psysml:16eea2e1-2a1c-45c0-89dc-072c92b0db51\" xlink:show=\"new\" xlink:title=\"psysml:16eea2e1-2a1c-45c0-89dc-072c92b0db51\" xlink:type=\"simple\"><path d=\"M283.84,124.59 C272.23,133.52 257.5,144.61 244,154 C224.13,167.82 201.8,182.34 182.21,194.75 \" fill=\"none\" id=\"E8-&gt;E5\" style=\"stroke: #383838; stroke-width: 1.0;\"/><polygon fill=\"#FFFFFF\" points=\"165.13,205.48,177.4956,189.4459,184.9425,201.301,165.13,205.48\" style=\"stroke: #383838; stroke-width: 1.0;\"/><ellipse cx=\"183.3862\" cy=\"188.1075\" fill=\"#383838\" rx=\"2\" ry=\"2\" style=\"stroke: #383838; stroke-width: 1.0;\"/><ellipse cx=\"188.7054\" cy=\"196.5755\" fill=\"#383838\" rx=\"2\" ry=\"2\" style=\"stroke: #383838; stroke-width: 1.0;\"/></a><!--MD5=[feeac5eb423634930294aa81f2d25a4c]\n",
       "link E10 to E3--><a href=\"psysml:0ac0ff17-b961-483b-88a6-6c34531d2872\" target=\"_top\" title=\"psysml:0ac0ff17-b961-483b-88a6-6c34531d2872\" xlink:actuate=\"onRequest\" xlink:href=\"psysml:0ac0ff17-b961-483b-88a6-6c34531d2872\" xlink:show=\"new\" xlink:title=\"psysml:0ac0ff17-b961-483b-88a6-6c34531d2872\" xlink:type=\"simple\"><path d=\"M228.16,124.59 C239.77,133.52 254.5,144.61 268,154 C287.87,167.82 310.2,182.34 329.79,194.75 \" fill=\"none\" id=\"E10-&gt;E3\" style=\"stroke: #383838; stroke-width: 1.0;\"/><polygon fill=\"#FFFFFF\" points=\"346.87,205.48,327.0575,201.301,334.5044,189.4459,346.87,205.48\" style=\"stroke: #383838; stroke-width: 1.0;\"/><ellipse cx=\"323.2946\" cy=\"196.5755\" fill=\"#383838\" rx=\"2\" ry=\"2\" style=\"stroke: #383838; stroke-width: 1.0;\"/><ellipse cx=\"328.6138\" cy=\"188.1075\" fill=\"#383838\" rx=\"2\" ry=\"2\" style=\"stroke: #383838; stroke-width: 1.0;\"/></a><!--MD5=[07b77f6f309248d16187045709d1c26e]\n",
       "link E11 to E5--><a href=\"psysml:7353245a-aec5-4316-8af8-2852475c4dc4\" target=\"_top\" title=\"psysml:7353245a-aec5-4316-8af8-2852475c4dc4\" xlink:actuate=\"onRequest\" xlink:href=\"psysml:7353245a-aec5-4316-8af8-2852475c4dc4\" xlink:show=\"new\" xlink:title=\"psysml:7353245a-aec5-4316-8af8-2852475c4dc4\" xlink:type=\"simple\"><path d=\"M130,130.1 C130,145.37 130,166.16 130,184.57 \" fill=\"none\" id=\"E11-&gt;E5\" style=\"stroke: #383838; stroke-width: 1.0;\"/><polygon fill=\"#FFFFFF\" points=\"130,204.61,123,185.61,137,185.61,130,204.61\" style=\"stroke: #383838; stroke-width: 1.0;\"/><ellipse cx=\"125\" cy=\"179.91\" fill=\"#383838\" rx=\"2\" ry=\"2\" style=\"stroke: #383838; stroke-width: 1.0;\"/><ellipse cx=\"135\" cy=\"179.91\" fill=\"#383838\" rx=\"2\" ry=\"2\" style=\"stroke: #383838; stroke-width: 1.0;\"/></a><!--MD5=[39f41a0e550fb3d73b4d8135617e30a2]\n",
       "link E12 to E3--><a href=\"psysml:6cc10db6-ba98-48a2-919a-a7b34cb2bdfc\" target=\"_top\" title=\"psysml:6cc10db6-ba98-48a2-919a-a7b34cb2bdfc\" xlink:actuate=\"onRequest\" xlink:href=\"psysml:6cc10db6-ba98-48a2-919a-a7b34cb2bdfc\" xlink:show=\"new\" xlink:title=\"psysml:6cc10db6-ba98-48a2-919a-a7b34cb2bdfc\" xlink:type=\"simple\"><path d=\"M444.7,130.1 C434.28,146.2 419.89,168.44 407.53,187.55 \" fill=\"none\" id=\"E12-&gt;E3\" style=\"stroke: #383838; stroke-width: 1.0;\"/><polygon fill=\"#FFFFFF\" points=\"396.49,204.61,400.9313,184.8546,412.6866,192.4581,396.49,204.61\" style=\"stroke: #383838; stroke-width: 1.0;\"/><ellipse cx=\"405.7063\" cy=\"181.1547\" fill=\"#383838\" rx=\"2\" ry=\"2\" style=\"stroke: #383838; stroke-width: 1.0;\"/><ellipse cx=\"414.103\" cy=\"186.5858\" fill=\"#383838\" rx=\"2\" ry=\"2\" style=\"stroke: #383838; stroke-width: 1.0;\"/></a><!--MD5=[066b2d8af59fea80ccdb3d54ad5c1091]\n",
       "link E13 to E5--><a href=\"psysml:fb180b05-d2cf-42d1-bf2a-01829ad20206\" target=\"_top\" title=\"psysml:fb180b05-d2cf-42d1-bf2a-01829ad20206\" xlink:actuate=\"onRequest\" xlink:href=\"psysml:fb180b05-d2cf-42d1-bf2a-01829ad20206\" xlink:show=\"new\" xlink:title=\"psysml:fb180b05-d2cf-42d1-bf2a-01829ad20206\" xlink:type=\"simple\"><path d=\"M67.3,130.1 C77.72,146.2 92.11,168.44 104.47,187.55 \" fill=\"none\" id=\"E13-&gt;E5\" style=\"stroke: #383838; stroke-width: 1.0;\"/><polygon fill=\"#FFFFFF\" points=\"115.51,204.61,99.3134,192.4581,111.0687,184.8546,115.51,204.61\" style=\"stroke: #383838; stroke-width: 1.0;\"/><ellipse cx=\"97.897\" cy=\"186.5858\" fill=\"#383838\" rx=\"2\" ry=\"2\" style=\"stroke: #383838; stroke-width: 1.0;\"/><ellipse cx=\"106.2937\" cy=\"181.1547\" fill=\"#383838\" rx=\"2\" ry=\"2\" style=\"stroke: #383838; stroke-width: 1.0;\"/></a><!--MD5=[04fc4c341c6f50ef3179f00eae3b8540]\n",
       "@startuml\r\n",
       "skinparam monochrome true\r\n",
       "skinparam classbackgroundcolor white\r\n",
       "skinparam shadowing false\r\n",
       "skinparam wrapWidth 300\r\n",
       "hide circle\r\n",
       "\r\n",
       "package \"CircularImport\" as E1  [[psysml:6d002b47-1de9-4cb8-be5e-1d54cb7fff5c ]]  {\r\n",
       "package \"P1\" as E2  [[psysml:531dfa6c-428e-410a-a6f8-c5b9ff8ecb34 ]]  {\r\n",
       "comp def \"A\" as E3  <<(T,blue) part  def>> [[psysml:8ceeee5f-0d5a-4279-aee9-7758649ab8be ]] {\r\n",
       "}\r\n",
       "}\r\n",
       "package \"P2\" as E4  [[psysml:62a929fe-702a-4460-9e53-8584d6f6435e ]]  {\r\n",
       "comp def \"B\" as E5  <<(T,blue) part  def>> [[psysml:90844ba8-c1a9-4c46-b7c9-d1a2572e7365 ]] {\r\n",
       "}\r\n",
       "}\r\n",
       "package \"Test1\" as E6  [[psysml:0f17a3a9-0805-4d7f-ba6a-07da905c8abf ]]  {\r\n",
       "comp usage \"x: A \" as E7  <<(T,blue) part>> [[psysml:9a31b8cb-b3f5-4478-b49b-73e9fd0f6da5 ]] {\r\n",
       "}\r\n",
       "comp usage \"y: B \" as E8  <<(T,blue) part>> [[psysml:084cb86b-cc59-4a41-8b1c-7b7410cc5029 ]] {\r\n",
       "}\r\n",
       "}\r\n",
       "package \"Test2\" as E9  [[psysml:a06e7d3b-be80-4318-b479-ae1779c5974b ]]  {\r\n",
       "comp usage \"x: A \" as E10  <<(T,blue) part>> [[psysml:377a64d2-1aa6-4a9b-ba95-6aeb6c1d992f ]] {\r\n",
       "}\r\n",
       "comp usage \"y: B \" as E11  <<(T,blue) part>> [[psysml:7cdd5db6-fbbe-4f9d-b259-3a085be4f068 ]] {\r\n",
       "}\r\n",
       "}\r\n",
       "comp usage \"x: A \" as E12  <<(T,blue) part>> [[psysml:665d223a-8fea-436a-b414-0efd919424fb ]] {\r\n",
       "}\r\n",
       "comp usage \"y: B \" as E13  <<(T,blue) part>> [[psysml:a1b35d80-8992-43c2-aa5d-6937f2901599 ]] {\r\n",
       "}\r\n",
       "}\r\n",
       "E7 - -:|> E3 [[psysml:0b2c7bde-3c6f-4711-9ee8-a744dba64aec ]] \r\n",
       "E8 - -:|> E5 [[psysml:16eea2e1-2a1c-45c0-89dc-072c92b0db51 ]] \r\n",
       "E10 - -:|> E3 [[psysml:0ac0ff17-b961-483b-88a6-6c34531d2872 ]] \r\n",
       "E11 - -:|> E5 [[psysml:7353245a-aec5-4316-8af8-2852475c4dc4 ]] \r\n",
       "E12 - -:|> E3 [[psysml:6cc10db6-ba98-48a2-919a-a7b34cb2bdfc ]] \r\n",
       "E13 - -:|> E5 [[psysml:fb180b05-d2cf-42d1-bf2a-01829ad20206 ]] \r\n",
       "@enduml\r\n",
       "\n",
       "PlantUML version 1.2020.13(Sat Jun 13 12:26:38 UTC 2020)\n",
       "(EPL source distribution)\n",
       "Java Runtime: OpenJDK Runtime Environment\n",
       "JVM: OpenJDK 64-Bit Server VM\n",
       "Default Encoding: UTF-8\n",
       "Language: en\n",
       "Country: null\n",
       "--></g></svg>"
      ]
     },
     "execution_count": 43,
     "metadata": {},
     "output_type": "execute_result"
    }
   ],
   "source": [
    "%viz --style=\"DEFAULT\" --view=\"MIXED\" \"CircularImport\""
   ]
  },
  {
   "cell_type": "code",
   "execution_count": 44,
   "id": "93429119",
   "metadata": {
    "execution": {
     "iopub.execute_input": "2021-12-15T15:15:39.678934Z",
     "iopub.status.busy": "2021-12-15T15:15:39.678537Z",
     "iopub.status.idle": "2021-12-15T15:15:39.716746Z",
     "shell.execute_reply": "2021-12-15T15:15:39.714828Z"
    }
   },
   "outputs": [
    {
     "data": {
      "image/svg+xml": [
       "<?xml version=\"1.0\" encoding=\"UTF-8\" standalone=\"no\"?><svg xmlns=\"http://www.w3.org/2000/svg\" xmlns:xlink=\"http://www.w3.org/1999/xlink\" contentScriptType=\"application/ecmascript\" contentStyleType=\"text/css\" height=\"303px\" preserveAspectRatio=\"none\" style=\"width:518px;height:303px;\" version=\"1.1\" viewBox=\"0 0 518 303\" width=\"518px\" zoomAndPan=\"magnify\"><defs/><g><!--MD5=[fbc87193dbaf4d95561dea2c320d4a47]\n",
       "cluster E1--><a href=\"psysml:6d002b47-1de9-4cb8-be5e-1d54cb7fff5c\" target=\"_top\" title=\"psysml:6d002b47-1de9-4cb8-be5e-1d54cb7fff5c\" xlink:actuate=\"onRequest\" xlink:href=\"psysml:6d002b47-1de9-4cb8-be5e-1d54cb7fff5c\" xlink:show=\"new\" xlink:title=\"psysml:6d002b47-1de9-4cb8-be5e-1d54cb7fff5c\" xlink:type=\"simple\"><polygon fill=\"#FFFFFF\" points=\"16,6,117,6,124,28.2969,496,28.2969,496,291,16,291,16,6\" style=\"stroke: #000000; stroke-width: 1.5;\"/><line style=\"stroke: #000000; stroke-width: 1.5;\" x1=\"16\" x2=\"124\" y1=\"28.2969\" y2=\"28.2969\"/><text fill=\"#000000\" font-family=\"sans-serif\" font-size=\"14\" font-weight=\"bold\" lengthAdjust=\"spacingAndGlyphs\" textLength=\"95\" x=\"20\" y=\"20.9951\">CircularImport</text></a><!--MD5=[e4f7fae6ed58524ba242bb0b0d3be6b7]\n",
       "cluster E2--><a href=\"psysml:531dfa6c-428e-410a-a6f8-c5b9ff8ecb34\" target=\"_top\" title=\"psysml:531dfa6c-428e-410a-a6f8-c5b9ff8ecb34\" xlink:actuate=\"onRequest\" xlink:href=\"psysml:531dfa6c-428e-410a-a6f8-c5b9ff8ecb34\" xlink:show=\"new\" xlink:title=\"psysml:531dfa6c-428e-410a-a6f8-c5b9ff8ecb34\" xlink:type=\"simple\"><polygon fill=\"#FFFFFF\" points=\"331,170,355,170,362,192.2969,433,192.2969,433,267,331,267,331,170\" style=\"stroke: #000000; stroke-width: 1.5;\"/><line style=\"stroke: #000000; stroke-width: 1.5;\" x1=\"331\" x2=\"362\" y1=\"192.2969\" y2=\"192.2969\"/><text fill=\"#000000\" font-family=\"sans-serif\" font-size=\"14\" font-weight=\"bold\" lengthAdjust=\"spacingAndGlyphs\" textLength=\"18\" x=\"335\" y=\"184.9951\">P1</text></a><!--MD5=[f6df4d0ebaf0b5dfb2ced0ae5af7c670]\n",
       "cluster E4--><a href=\"psysml:62a929fe-702a-4460-9e53-8584d6f6435e\" target=\"_top\" title=\"psysml:62a929fe-702a-4460-9e53-8584d6f6435e\" xlink:actuate=\"onRequest\" xlink:href=\"psysml:62a929fe-702a-4460-9e53-8584d6f6435e\" xlink:show=\"new\" xlink:title=\"psysml:62a929fe-702a-4460-9e53-8584d6f6435e\" xlink:type=\"simple\"><polygon fill=\"#FFFFFF\" points=\"79,170,103,170,110,192.2969,181,192.2969,181,267,79,267,79,170\" style=\"stroke: #000000; stroke-width: 1.5;\"/><line style=\"stroke: #000000; stroke-width: 1.5;\" x1=\"79\" x2=\"110\" y1=\"192.2969\" y2=\"192.2969\"/><text fill=\"#000000\" font-family=\"sans-serif\" font-size=\"14\" font-weight=\"bold\" lengthAdjust=\"spacingAndGlyphs\" textLength=\"18\" x=\"83\" y=\"184.9951\">P2</text></a><!--MD5=[14e3b0961a2654348d326746436168a1]\n",
       "cluster E6--><a href=\"psysml:0f17a3a9-0805-4d7f-ba6a-07da905c8abf\" target=\"_top\" title=\"psysml:0f17a3a9-0805-4d7f-ba6a-07da905c8abf\" xlink:actuate=\"onRequest\" xlink:href=\"psysml:0f17a3a9-0805-4d7f-ba6a-07da905c8abf\" xlink:show=\"new\" xlink:title=\"psysml:0f17a3a9-0805-4d7f-ba6a-07da905c8abf\" xlink:type=\"simple\"><polygon fill=\"#FFFFFF\" points=\"268,49,314,49,321,71.2969,419,71.2969,419,146,268,146,268,49\" style=\"stroke: #000000; stroke-width: 1.5;\"/><line style=\"stroke: #000000; stroke-width: 1.5;\" x1=\"268\" x2=\"321\" y1=\"71.2969\" y2=\"71.2969\"/><text fill=\"#000000\" font-family=\"sans-serif\" font-size=\"14\" font-weight=\"bold\" lengthAdjust=\"spacingAndGlyphs\" textLength=\"40\" x=\"272\" y=\"63.9951\">Test1</text></a><!--MD5=[7f149f147074ac12df2cb0a7728a5fb0]\n",
       "cluster E9--><a href=\"psysml:a06e7d3b-be80-4318-b479-ae1779c5974b\" target=\"_top\" title=\"psysml:a06e7d3b-be80-4318-b479-ae1779c5974b\" xlink:actuate=\"onRequest\" xlink:href=\"psysml:a06e7d3b-be80-4318-b479-ae1779c5974b\" xlink:show=\"new\" xlink:title=\"psysml:a06e7d3b-be80-4318-b479-ae1779c5974b\" xlink:type=\"simple\"><polygon fill=\"#FFFFFF\" points=\"93,49,139,49,146,71.2969,244,71.2969,244,146,93,146,93,49\" style=\"stroke: #000000; stroke-width: 1.5;\"/><line style=\"stroke: #000000; stroke-width: 1.5;\" x1=\"93\" x2=\"146\" y1=\"71.2969\" y2=\"71.2969\"/><text fill=\"#000000\" font-family=\"sans-serif\" font-size=\"14\" font-weight=\"bold\" lengthAdjust=\"spacingAndGlyphs\" textLength=\"40\" x=\"97\" y=\"63.9951\">Test2</text></a><!--MD5=[49a0ec8f00dab7302a31f22d0f0fe584]\n",
       "class E12--><a href=\"psysml:665d223a-8fea-436a-b414-0efd919424fb\" target=\"_top\" title=\"psysml:665d223a-8fea-436a-b414-0efd919424fb\" xlink:actuate=\"onRequest\" xlink:href=\"psysml:665d223a-8fea-436a-b414-0efd919424fb\" xlink:show=\"new\" xlink:title=\"psysml:665d223a-8fea-436a-b414-0efd919424fb\" xlink:type=\"simple\"><rect fill=\"#FFFFFF\" height=\"45.9375\" id=\"E12\" rx=\"10\" ry=\"10\" style=\"stroke: #383838; stroke-width: 1.5;\" width=\"42\" x=\"438\" y=\"84\"/><text fill=\"#000000\" font-family=\"sans-serif\" font-size=\"12\" font-style=\"italic\" lengthAdjust=\"spacingAndGlyphs\" textLength=\"40\" x=\"439\" y=\"100.1387\">«part»</text><text fill=\"#000000\" font-family=\"sans-serif\" font-size=\"12\" lengthAdjust=\"spacingAndGlyphs\" textLength=\"22\" x=\"446\" y=\"114.1074\">x: A</text><line style=\"stroke: #383838; stroke-width: 1.5;\" x1=\"439\" x2=\"479\" y1=\"121.9375\" y2=\"121.9375\"/></a><!--MD5=[ee3c913d1a06f366521f9ef512b67efe]\n",
       "class E13--><a href=\"psysml:a1b35d80-8992-43c2-aa5d-6937f2901599\" target=\"_top\" title=\"psysml:a1b35d80-8992-43c2-aa5d-6937f2901599\" xlink:actuate=\"onRequest\" xlink:href=\"psysml:a1b35d80-8992-43c2-aa5d-6937f2901599\" xlink:show=\"new\" xlink:title=\"psysml:a1b35d80-8992-43c2-aa5d-6937f2901599\" xlink:type=\"simple\"><rect fill=\"#FFFFFF\" height=\"45.9375\" id=\"E13\" rx=\"10\" ry=\"10\" style=\"stroke: #383838; stroke-width: 1.5;\" width=\"42\" x=\"32\" y=\"84\"/><text fill=\"#000000\" font-family=\"sans-serif\" font-size=\"12\" font-style=\"italic\" lengthAdjust=\"spacingAndGlyphs\" textLength=\"40\" x=\"33\" y=\"100.1387\">«part»</text><text fill=\"#000000\" font-family=\"sans-serif\" font-size=\"12\" lengthAdjust=\"spacingAndGlyphs\" textLength=\"22\" x=\"40\" y=\"114.1074\">y: B</text><line style=\"stroke: #383838; stroke-width: 1.5;\" x1=\"33\" x2=\"73\" y1=\"121.9375\" y2=\"121.9375\"/></a><!--MD5=[09b614a08d8cba4a07c9adeb5e0fee81]\n",
       "class E3--><a href=\"psysml:8ceeee5f-0d5a-4279-aee9-7758649ab8be\" target=\"_top\" title=\"psysml:8ceeee5f-0d5a-4279-aee9-7758649ab8be\" xlink:actuate=\"onRequest\" xlink:href=\"psysml:8ceeee5f-0d5a-4279-aee9-7758649ab8be\" xlink:show=\"new\" xlink:title=\"psysml:8ceeee5f-0d5a-4279-aee9-7758649ab8be\" xlink:type=\"simple\"><rect fill=\"#FFFFFF\" height=\"45.9375\" id=\"E3\" style=\"stroke: #383838; stroke-width: 1.5;\" width=\"70\" x=\"347\" y=\"205\"/><text fill=\"#000000\" font-family=\"sans-serif\" font-size=\"12\" font-style=\"italic\" lengthAdjust=\"spacingAndGlyphs\" textLength=\"68\" x=\"348\" y=\"221.1387\">«part  def»</text><text fill=\"#000000\" font-family=\"sans-serif\" font-size=\"12\" lengthAdjust=\"spacingAndGlyphs\" textLength=\"8\" x=\"378\" y=\"235.1074\">A</text><line style=\"stroke: #383838; stroke-width: 1.5;\" x1=\"348\" x2=\"416\" y1=\"242.9375\" y2=\"242.9375\"/></a><!--MD5=[270fce915f116d4de14055a7c1d9a0f3]\n",
       "class E5--><a href=\"psysml:90844ba8-c1a9-4c46-b7c9-d1a2572e7365\" target=\"_top\" title=\"psysml:90844ba8-c1a9-4c46-b7c9-d1a2572e7365\" xlink:actuate=\"onRequest\" xlink:href=\"psysml:90844ba8-c1a9-4c46-b7c9-d1a2572e7365\" xlink:show=\"new\" xlink:title=\"psysml:90844ba8-c1a9-4c46-b7c9-d1a2572e7365\" xlink:type=\"simple\"><rect fill=\"#FFFFFF\" height=\"45.9375\" id=\"E5\" style=\"stroke: #383838; stroke-width: 1.5;\" width=\"70\" x=\"95\" y=\"205\"/><text fill=\"#000000\" font-family=\"sans-serif\" font-size=\"12\" font-style=\"italic\" lengthAdjust=\"spacingAndGlyphs\" textLength=\"68\" x=\"96\" y=\"221.1387\">«part  def»</text><text fill=\"#000000\" font-family=\"sans-serif\" font-size=\"12\" lengthAdjust=\"spacingAndGlyphs\" textLength=\"8\" x=\"126\" y=\"235.1074\">B</text><line style=\"stroke: #383838; stroke-width: 1.5;\" x1=\"96\" x2=\"164\" y1=\"242.9375\" y2=\"242.9375\"/></a><!--MD5=[2156ba9850f5573cc1fc38a6a4b2f02b]\n",
       "class E7--><a href=\"psysml:9a31b8cb-b3f5-4478-b49b-73e9fd0f6da5\" target=\"_top\" title=\"psysml:9a31b8cb-b3f5-4478-b49b-73e9fd0f6da5\" xlink:actuate=\"onRequest\" xlink:href=\"psysml:9a31b8cb-b3f5-4478-b49b-73e9fd0f6da5\" xlink:show=\"new\" xlink:title=\"psysml:9a31b8cb-b3f5-4478-b49b-73e9fd0f6da5\" xlink:type=\"simple\"><rect fill=\"#FFFFFF\" height=\"45.9375\" id=\"E7\" rx=\"10\" ry=\"10\" style=\"stroke: #383838; stroke-width: 1.5;\" width=\"42\" x=\"361\" y=\"84\"/><text fill=\"#000000\" font-family=\"sans-serif\" font-size=\"12\" font-style=\"italic\" lengthAdjust=\"spacingAndGlyphs\" textLength=\"40\" x=\"362\" y=\"100.1387\">«part»</text><text fill=\"#000000\" font-family=\"sans-serif\" font-size=\"12\" lengthAdjust=\"spacingAndGlyphs\" textLength=\"22\" x=\"369\" y=\"114.1074\">x: A</text><line style=\"stroke: #383838; stroke-width: 1.5;\" x1=\"362\" x2=\"402\" y1=\"121.9375\" y2=\"121.9375\"/></a><!--MD5=[b9389687b975829384b498ac4b7476b2]\n",
       "class E8--><a href=\"psysml:084cb86b-cc59-4a41-8b1c-7b7410cc5029\" target=\"_top\" title=\"psysml:084cb86b-cc59-4a41-8b1c-7b7410cc5029\" xlink:actuate=\"onRequest\" xlink:href=\"psysml:084cb86b-cc59-4a41-8b1c-7b7410cc5029\" xlink:show=\"new\" xlink:title=\"psysml:084cb86b-cc59-4a41-8b1c-7b7410cc5029\" xlink:type=\"simple\"><rect fill=\"#FFFFFF\" height=\"45.9375\" id=\"E8\" rx=\"10\" ry=\"10\" style=\"stroke: #383838; stroke-width: 1.5;\" width=\"42\" x=\"284\" y=\"84\"/><text fill=\"#000000\" font-family=\"sans-serif\" font-size=\"12\" font-style=\"italic\" lengthAdjust=\"spacingAndGlyphs\" textLength=\"40\" x=\"285\" y=\"100.1387\">«part»</text><text fill=\"#000000\" font-family=\"sans-serif\" font-size=\"12\" lengthAdjust=\"spacingAndGlyphs\" textLength=\"22\" x=\"292\" y=\"114.1074\">y: B</text><line style=\"stroke: #383838; stroke-width: 1.5;\" x1=\"285\" x2=\"325\" y1=\"121.9375\" y2=\"121.9375\"/></a><!--MD5=[96f4274e9e20536e775497830990834d]\n",
       "class E10--><a href=\"psysml:377a64d2-1aa6-4a9b-ba95-6aeb6c1d992f\" target=\"_top\" title=\"psysml:377a64d2-1aa6-4a9b-ba95-6aeb6c1d992f\" xlink:actuate=\"onRequest\" xlink:href=\"psysml:377a64d2-1aa6-4a9b-ba95-6aeb6c1d992f\" xlink:show=\"new\" xlink:title=\"psysml:377a64d2-1aa6-4a9b-ba95-6aeb6c1d992f\" xlink:type=\"simple\"><rect fill=\"#FFFFFF\" height=\"45.9375\" id=\"E10\" rx=\"10\" ry=\"10\" style=\"stroke: #383838; stroke-width: 1.5;\" width=\"42\" x=\"186\" y=\"84\"/><text fill=\"#000000\" font-family=\"sans-serif\" font-size=\"12\" font-style=\"italic\" lengthAdjust=\"spacingAndGlyphs\" textLength=\"40\" x=\"187\" y=\"100.1387\">«part»</text><text fill=\"#000000\" font-family=\"sans-serif\" font-size=\"12\" lengthAdjust=\"spacingAndGlyphs\" textLength=\"22\" x=\"194\" y=\"114.1074\">x: A</text><line style=\"stroke: #383838; stroke-width: 1.5;\" x1=\"187\" x2=\"227\" y1=\"121.9375\" y2=\"121.9375\"/></a><!--MD5=[1dd1bfd58a279cf63c5f349dbc8fc6a1]\n",
       "class E11--><a href=\"psysml:7cdd5db6-fbbe-4f9d-b259-3a085be4f068\" target=\"_top\" title=\"psysml:7cdd5db6-fbbe-4f9d-b259-3a085be4f068\" xlink:actuate=\"onRequest\" xlink:href=\"psysml:7cdd5db6-fbbe-4f9d-b259-3a085be4f068\" xlink:show=\"new\" xlink:title=\"psysml:7cdd5db6-fbbe-4f9d-b259-3a085be4f068\" xlink:type=\"simple\"><rect fill=\"#FFFFFF\" height=\"45.9375\" id=\"E11\" rx=\"10\" ry=\"10\" style=\"stroke: #383838; stroke-width: 1.5;\" width=\"42\" x=\"109\" y=\"84\"/><text fill=\"#000000\" font-family=\"sans-serif\" font-size=\"12\" font-style=\"italic\" lengthAdjust=\"spacingAndGlyphs\" textLength=\"40\" x=\"110\" y=\"100.1387\">«part»</text><text fill=\"#000000\" font-family=\"sans-serif\" font-size=\"12\" lengthAdjust=\"spacingAndGlyphs\" textLength=\"22\" x=\"117\" y=\"114.1074\">y: B</text><line style=\"stroke: #383838; stroke-width: 1.5;\" x1=\"110\" x2=\"150\" y1=\"121.9375\" y2=\"121.9375\"/></a><!--MD5=[14ccda38c055a5c0da953d572bc50960]\n",
       "link E7 to E3--><a href=\"psysml:0b2c7bde-3c6f-4711-9ee8-a744dba64aec\" target=\"_top\" title=\"psysml:0b2c7bde-3c6f-4711-9ee8-a744dba64aec\" xlink:actuate=\"onRequest\" xlink:href=\"psysml:0b2c7bde-3c6f-4711-9ee8-a744dba64aec\" xlink:show=\"new\" xlink:title=\"psysml:0b2c7bde-3c6f-4711-9ee8-a744dba64aec\" xlink:type=\"simple\"><path d=\"M382,130.1 C382,145.37 382,166.16 382,184.57 \" fill=\"none\" id=\"E7-&gt;E3\" style=\"stroke: #383838; stroke-width: 1.0;\"/><polygon fill=\"#FFFFFF\" points=\"382,204.61,375,185.61,389,185.61,382,204.61\" style=\"stroke: #383838; stroke-width: 1.0;\"/><ellipse cx=\"377\" cy=\"179.91\" fill=\"#383838\" rx=\"2\" ry=\"2\" style=\"stroke: #383838; stroke-width: 1.0;\"/><ellipse cx=\"387\" cy=\"179.91\" fill=\"#383838\" rx=\"2\" ry=\"2\" style=\"stroke: #383838; stroke-width: 1.0;\"/></a><!--MD5=[1ccb2481ffa92f8d51a74ee30c51832a]\n",
       "link E8 to E5--><a href=\"psysml:16eea2e1-2a1c-45c0-89dc-072c92b0db51\" target=\"_top\" title=\"psysml:16eea2e1-2a1c-45c0-89dc-072c92b0db51\" xlink:actuate=\"onRequest\" xlink:href=\"psysml:16eea2e1-2a1c-45c0-89dc-072c92b0db51\" xlink:show=\"new\" xlink:title=\"psysml:16eea2e1-2a1c-45c0-89dc-072c92b0db51\" xlink:type=\"simple\"><path d=\"M283.84,124.59 C272.23,133.52 257.5,144.61 244,154 C224.13,167.82 201.8,182.34 182.21,194.75 \" fill=\"none\" id=\"E8-&gt;E5\" style=\"stroke: #383838; stroke-width: 1.0;\"/><polygon fill=\"#FFFFFF\" points=\"165.13,205.48,177.4956,189.4459,184.9425,201.301,165.13,205.48\" style=\"stroke: #383838; stroke-width: 1.0;\"/><ellipse cx=\"183.3862\" cy=\"188.1075\" fill=\"#383838\" rx=\"2\" ry=\"2\" style=\"stroke: #383838; stroke-width: 1.0;\"/><ellipse cx=\"188.7054\" cy=\"196.5755\" fill=\"#383838\" rx=\"2\" ry=\"2\" style=\"stroke: #383838; stroke-width: 1.0;\"/></a><!--MD5=[feeac5eb423634930294aa81f2d25a4c]\n",
       "link E10 to E3--><a href=\"psysml:0ac0ff17-b961-483b-88a6-6c34531d2872\" target=\"_top\" title=\"psysml:0ac0ff17-b961-483b-88a6-6c34531d2872\" xlink:actuate=\"onRequest\" xlink:href=\"psysml:0ac0ff17-b961-483b-88a6-6c34531d2872\" xlink:show=\"new\" xlink:title=\"psysml:0ac0ff17-b961-483b-88a6-6c34531d2872\" xlink:type=\"simple\"><path d=\"M228.16,124.59 C239.77,133.52 254.5,144.61 268,154 C287.87,167.82 310.2,182.34 329.79,194.75 \" fill=\"none\" id=\"E10-&gt;E3\" style=\"stroke: #383838; stroke-width: 1.0;\"/><polygon fill=\"#FFFFFF\" points=\"346.87,205.48,327.0575,201.301,334.5044,189.4459,346.87,205.48\" style=\"stroke: #383838; stroke-width: 1.0;\"/><ellipse cx=\"323.2946\" cy=\"196.5755\" fill=\"#383838\" rx=\"2\" ry=\"2\" style=\"stroke: #383838; stroke-width: 1.0;\"/><ellipse cx=\"328.6138\" cy=\"188.1075\" fill=\"#383838\" rx=\"2\" ry=\"2\" style=\"stroke: #383838; stroke-width: 1.0;\"/></a><!--MD5=[07b77f6f309248d16187045709d1c26e]\n",
       "link E11 to E5--><a href=\"psysml:7353245a-aec5-4316-8af8-2852475c4dc4\" target=\"_top\" title=\"psysml:7353245a-aec5-4316-8af8-2852475c4dc4\" xlink:actuate=\"onRequest\" xlink:href=\"psysml:7353245a-aec5-4316-8af8-2852475c4dc4\" xlink:show=\"new\" xlink:title=\"psysml:7353245a-aec5-4316-8af8-2852475c4dc4\" xlink:type=\"simple\"><path d=\"M130,130.1 C130,145.37 130,166.16 130,184.57 \" fill=\"none\" id=\"E11-&gt;E5\" style=\"stroke: #383838; stroke-width: 1.0;\"/><polygon fill=\"#FFFFFF\" points=\"130,204.61,123,185.61,137,185.61,130,204.61\" style=\"stroke: #383838; stroke-width: 1.0;\"/><ellipse cx=\"125\" cy=\"179.91\" fill=\"#383838\" rx=\"2\" ry=\"2\" style=\"stroke: #383838; stroke-width: 1.0;\"/><ellipse cx=\"135\" cy=\"179.91\" fill=\"#383838\" rx=\"2\" ry=\"2\" style=\"stroke: #383838; stroke-width: 1.0;\"/></a><!--MD5=[39f41a0e550fb3d73b4d8135617e30a2]\n",
       "link E12 to E3--><a href=\"psysml:6cc10db6-ba98-48a2-919a-a7b34cb2bdfc\" target=\"_top\" title=\"psysml:6cc10db6-ba98-48a2-919a-a7b34cb2bdfc\" xlink:actuate=\"onRequest\" xlink:href=\"psysml:6cc10db6-ba98-48a2-919a-a7b34cb2bdfc\" xlink:show=\"new\" xlink:title=\"psysml:6cc10db6-ba98-48a2-919a-a7b34cb2bdfc\" xlink:type=\"simple\"><path d=\"M444.7,130.1 C434.28,146.2 419.89,168.44 407.53,187.55 \" fill=\"none\" id=\"E12-&gt;E3\" style=\"stroke: #383838; stroke-width: 1.0;\"/><polygon fill=\"#FFFFFF\" points=\"396.49,204.61,400.9313,184.8546,412.6866,192.4581,396.49,204.61\" style=\"stroke: #383838; stroke-width: 1.0;\"/><ellipse cx=\"405.7063\" cy=\"181.1547\" fill=\"#383838\" rx=\"2\" ry=\"2\" style=\"stroke: #383838; stroke-width: 1.0;\"/><ellipse cx=\"414.103\" cy=\"186.5858\" fill=\"#383838\" rx=\"2\" ry=\"2\" style=\"stroke: #383838; stroke-width: 1.0;\"/></a><!--MD5=[066b2d8af59fea80ccdb3d54ad5c1091]\n",
       "link E13 to E5--><a href=\"psysml:fb180b05-d2cf-42d1-bf2a-01829ad20206\" target=\"_top\" title=\"psysml:fb180b05-d2cf-42d1-bf2a-01829ad20206\" xlink:actuate=\"onRequest\" xlink:href=\"psysml:fb180b05-d2cf-42d1-bf2a-01829ad20206\" xlink:show=\"new\" xlink:title=\"psysml:fb180b05-d2cf-42d1-bf2a-01829ad20206\" xlink:type=\"simple\"><path d=\"M67.3,130.1 C77.72,146.2 92.11,168.44 104.47,187.55 \" fill=\"none\" id=\"E13-&gt;E5\" style=\"stroke: #383838; stroke-width: 1.0;\"/><polygon fill=\"#FFFFFF\" points=\"115.51,204.61,99.3134,192.4581,111.0687,184.8546,115.51,204.61\" style=\"stroke: #383838; stroke-width: 1.0;\"/><ellipse cx=\"97.897\" cy=\"186.5858\" fill=\"#383838\" rx=\"2\" ry=\"2\" style=\"stroke: #383838; stroke-width: 1.0;\"/><ellipse cx=\"106.2937\" cy=\"181.1547\" fill=\"#383838\" rx=\"2\" ry=\"2\" style=\"stroke: #383838; stroke-width: 1.0;\"/></a><!--MD5=[0f49fa551474742250834bdbf7110d0c]\n",
       "@startuml\r\n",
       "top to bottom direction\r\n",
       "skinparam monochrome true\r\n",
       "skinparam classbackgroundcolor white\r\n",
       "skinparam shadowing false\r\n",
       "skinparam wrapWidth 300\r\n",
       "hide circle\r\n",
       "\r\n",
       "package \"CircularImport\" as E1  [[psysml:6d002b47-1de9-4cb8-be5e-1d54cb7fff5c ]]  {\r\n",
       "package \"P1\" as E2  [[psysml:531dfa6c-428e-410a-a6f8-c5b9ff8ecb34 ]]  {\r\n",
       "comp def \"A\" as E3  <<(T,blue) part  def>> [[psysml:8ceeee5f-0d5a-4279-aee9-7758649ab8be ]] {\r\n",
       "}\r\n",
       "}\r\n",
       "package \"P2\" as E4  [[psysml:62a929fe-702a-4460-9e53-8584d6f6435e ]]  {\r\n",
       "comp def \"B\" as E5  <<(T,blue) part  def>> [[psysml:90844ba8-c1a9-4c46-b7c9-d1a2572e7365 ]] {\r\n",
       "}\r\n",
       "}\r\n",
       "package \"Test1\" as E6  [[psysml:0f17a3a9-0805-4d7f-ba6a-07da905c8abf ]]  {\r\n",
       "comp usage \"x: A \" as E7  <<(T,blue) part>> [[psysml:9a31b8cb-b3f5-4478-b49b-73e9fd0f6da5 ]] {\r\n",
       "}\r\n",
       "comp usage \"y: B \" as E8  <<(T,blue) part>> [[psysml:084cb86b-cc59-4a41-8b1c-7b7410cc5029 ]] {\r\n",
       "}\r\n",
       "}\r\n",
       "package \"Test2\" as E9  [[psysml:a06e7d3b-be80-4318-b479-ae1779c5974b ]]  {\r\n",
       "comp usage \"x: A \" as E10  <<(T,blue) part>> [[psysml:377a64d2-1aa6-4a9b-ba95-6aeb6c1d992f ]] {\r\n",
       "}\r\n",
       "comp usage \"y: B \" as E11  <<(T,blue) part>> [[psysml:7cdd5db6-fbbe-4f9d-b259-3a085be4f068 ]] {\r\n",
       "}\r\n",
       "}\r\n",
       "comp usage \"x: A \" as E12  <<(T,blue) part>> [[psysml:665d223a-8fea-436a-b414-0efd919424fb ]] {\r\n",
       "}\r\n",
       "comp usage \"y: B \" as E13  <<(T,blue) part>> [[psysml:a1b35d80-8992-43c2-aa5d-6937f2901599 ]] {\r\n",
       "}\r\n",
       "}\r\n",
       "E7 - -:|> E3 [[psysml:0b2c7bde-3c6f-4711-9ee8-a744dba64aec ]] \r\n",
       "E8 - -:|> E5 [[psysml:16eea2e1-2a1c-45c0-89dc-072c92b0db51 ]] \r\n",
       "E10 - -:|> E3 [[psysml:0ac0ff17-b961-483b-88a6-6c34531d2872 ]] \r\n",
       "E11 - -:|> E5 [[psysml:7353245a-aec5-4316-8af8-2852475c4dc4 ]] \r\n",
       "E12 - -:|> E3 [[psysml:6cc10db6-ba98-48a2-919a-a7b34cb2bdfc ]] \r\n",
       "E13 - -:|> E5 [[psysml:fb180b05-d2cf-42d1-bf2a-01829ad20206 ]] \r\n",
       "@enduml\r\n",
       "\n",
       "PlantUML version 1.2020.13(Sat Jun 13 12:26:38 UTC 2020)\n",
       "(EPL source distribution)\n",
       "Java Runtime: OpenJDK Runtime Environment\n",
       "JVM: OpenJDK 64-Bit Server VM\n",
       "Default Encoding: UTF-8\n",
       "Language: en\n",
       "Country: null\n",
       "--></g></svg>"
      ]
     },
     "execution_count": 44,
     "metadata": {},
     "output_type": "execute_result"
    }
   ],
   "source": [
    "%viz --style=\"TB\" --view=\"Default\" \"CircularImport\""
   ]
  },
  {
   "cell_type": "code",
   "execution_count": 45,
   "id": "08e38f72",
   "metadata": {
    "execution": {
     "iopub.execute_input": "2021-12-15T15:15:39.765443Z",
     "iopub.status.busy": "2021-12-15T15:15:39.765049Z",
     "iopub.status.idle": "2021-12-15T15:15:39.804041Z",
     "shell.execute_reply": "2021-12-15T15:15:39.802122Z"
    }
   },
   "outputs": [
    {
     "data": {
      "image/svg+xml": [
       "<?xml version=\"1.0\" encoding=\"UTF-8\" standalone=\"no\"?><svg xmlns=\"http://www.w3.org/2000/svg\" xmlns:xlink=\"http://www.w3.org/1999/xlink\" contentScriptType=\"application/ecmascript\" contentStyleType=\"text/css\" height=\"303px\" preserveAspectRatio=\"none\" style=\"width:518px;height:303px;\" version=\"1.1\" viewBox=\"0 0 518 303\" width=\"518px\" zoomAndPan=\"magnify\"><defs/><g><!--MD5=[fbc87193dbaf4d95561dea2c320d4a47]\n",
       "cluster E1--><a href=\"psysml:6d002b47-1de9-4cb8-be5e-1d54cb7fff5c\" target=\"_top\" title=\"psysml:6d002b47-1de9-4cb8-be5e-1d54cb7fff5c\" xlink:actuate=\"onRequest\" xlink:href=\"psysml:6d002b47-1de9-4cb8-be5e-1d54cb7fff5c\" xlink:show=\"new\" xlink:title=\"psysml:6d002b47-1de9-4cb8-be5e-1d54cb7fff5c\" xlink:type=\"simple\"><polygon fill=\"#FFFFFF\" points=\"16,6,117,6,124,28.2969,496,28.2969,496,291,16,291,16,6\" style=\"stroke: #000000; stroke-width: 1.5;\"/><line style=\"stroke: #000000; stroke-width: 1.5;\" x1=\"16\" x2=\"124\" y1=\"28.2969\" y2=\"28.2969\"/><text fill=\"#000000\" font-family=\"sans-serif\" font-size=\"14\" font-weight=\"bold\" lengthAdjust=\"spacingAndGlyphs\" textLength=\"95\" x=\"20\" y=\"20.9951\">CircularImport</text></a><!--MD5=[e4f7fae6ed58524ba242bb0b0d3be6b7]\n",
       "cluster E2--><a href=\"psysml:531dfa6c-428e-410a-a6f8-c5b9ff8ecb34\" target=\"_top\" title=\"psysml:531dfa6c-428e-410a-a6f8-c5b9ff8ecb34\" xlink:actuate=\"onRequest\" xlink:href=\"psysml:531dfa6c-428e-410a-a6f8-c5b9ff8ecb34\" xlink:show=\"new\" xlink:title=\"psysml:531dfa6c-428e-410a-a6f8-c5b9ff8ecb34\" xlink:type=\"simple\"><polygon fill=\"#FFFFFF\" points=\"331,170,355,170,362,192.2969,433,192.2969,433,267,331,267,331,170\" style=\"stroke: #000000; stroke-width: 1.5;\"/><line style=\"stroke: #000000; stroke-width: 1.5;\" x1=\"331\" x2=\"362\" y1=\"192.2969\" y2=\"192.2969\"/><text fill=\"#000000\" font-family=\"sans-serif\" font-size=\"14\" font-weight=\"bold\" lengthAdjust=\"spacingAndGlyphs\" textLength=\"18\" x=\"335\" y=\"184.9951\">P1</text></a><!--MD5=[f6df4d0ebaf0b5dfb2ced0ae5af7c670]\n",
       "cluster E4--><a href=\"psysml:62a929fe-702a-4460-9e53-8584d6f6435e\" target=\"_top\" title=\"psysml:62a929fe-702a-4460-9e53-8584d6f6435e\" xlink:actuate=\"onRequest\" xlink:href=\"psysml:62a929fe-702a-4460-9e53-8584d6f6435e\" xlink:show=\"new\" xlink:title=\"psysml:62a929fe-702a-4460-9e53-8584d6f6435e\" xlink:type=\"simple\"><polygon fill=\"#FFFFFF\" points=\"79,170,103,170,110,192.2969,181,192.2969,181,267,79,267,79,170\" style=\"stroke: #000000; stroke-width: 1.5;\"/><line style=\"stroke: #000000; stroke-width: 1.5;\" x1=\"79\" x2=\"110\" y1=\"192.2969\" y2=\"192.2969\"/><text fill=\"#000000\" font-family=\"sans-serif\" font-size=\"14\" font-weight=\"bold\" lengthAdjust=\"spacingAndGlyphs\" textLength=\"18\" x=\"83\" y=\"184.9951\">P2</text></a><!--MD5=[14e3b0961a2654348d326746436168a1]\n",
       "cluster E6--><a href=\"psysml:0f17a3a9-0805-4d7f-ba6a-07da905c8abf\" target=\"_top\" title=\"psysml:0f17a3a9-0805-4d7f-ba6a-07da905c8abf\" xlink:actuate=\"onRequest\" xlink:href=\"psysml:0f17a3a9-0805-4d7f-ba6a-07da905c8abf\" xlink:show=\"new\" xlink:title=\"psysml:0f17a3a9-0805-4d7f-ba6a-07da905c8abf\" xlink:type=\"simple\"><polygon fill=\"#FFFFFF\" points=\"268,49,314,49,321,71.2969,419,71.2969,419,146,268,146,268,49\" style=\"stroke: #000000; stroke-width: 1.5;\"/><line style=\"stroke: #000000; stroke-width: 1.5;\" x1=\"268\" x2=\"321\" y1=\"71.2969\" y2=\"71.2969\"/><text fill=\"#000000\" font-family=\"sans-serif\" font-size=\"14\" font-weight=\"bold\" lengthAdjust=\"spacingAndGlyphs\" textLength=\"40\" x=\"272\" y=\"63.9951\">Test1</text></a><!--MD5=[7f149f147074ac12df2cb0a7728a5fb0]\n",
       "cluster E9--><a href=\"psysml:a06e7d3b-be80-4318-b479-ae1779c5974b\" target=\"_top\" title=\"psysml:a06e7d3b-be80-4318-b479-ae1779c5974b\" xlink:actuate=\"onRequest\" xlink:href=\"psysml:a06e7d3b-be80-4318-b479-ae1779c5974b\" xlink:show=\"new\" xlink:title=\"psysml:a06e7d3b-be80-4318-b479-ae1779c5974b\" xlink:type=\"simple\"><polygon fill=\"#FFFFFF\" points=\"93,49,139,49,146,71.2969,244,71.2969,244,146,93,146,93,49\" style=\"stroke: #000000; stroke-width: 1.5;\"/><line style=\"stroke: #000000; stroke-width: 1.5;\" x1=\"93\" x2=\"146\" y1=\"71.2969\" y2=\"71.2969\"/><text fill=\"#000000\" font-family=\"sans-serif\" font-size=\"14\" font-weight=\"bold\" lengthAdjust=\"spacingAndGlyphs\" textLength=\"40\" x=\"97\" y=\"63.9951\">Test2</text></a><!--MD5=[49a0ec8f00dab7302a31f22d0f0fe584]\n",
       "class E12--><a href=\"psysml:665d223a-8fea-436a-b414-0efd919424fb\" target=\"_top\" title=\"psysml:665d223a-8fea-436a-b414-0efd919424fb\" xlink:actuate=\"onRequest\" xlink:href=\"psysml:665d223a-8fea-436a-b414-0efd919424fb\" xlink:show=\"new\" xlink:title=\"psysml:665d223a-8fea-436a-b414-0efd919424fb\" xlink:type=\"simple\"><rect fill=\"#FFFFFF\" height=\"45.9375\" id=\"E12\" rx=\"10\" ry=\"10\" style=\"stroke: #383838; stroke-width: 1.5;\" width=\"42\" x=\"438\" y=\"84\"/><text fill=\"#000000\" font-family=\"sans-serif\" font-size=\"12\" font-style=\"italic\" lengthAdjust=\"spacingAndGlyphs\" textLength=\"40\" x=\"439\" y=\"100.1387\">«part»</text><text fill=\"#000000\" font-family=\"sans-serif\" font-size=\"12\" lengthAdjust=\"spacingAndGlyphs\" textLength=\"22\" x=\"446\" y=\"114.1074\">x: A</text><line style=\"stroke: #383838; stroke-width: 1.5;\" x1=\"439\" x2=\"479\" y1=\"121.9375\" y2=\"121.9375\"/></a><!--MD5=[ee3c913d1a06f366521f9ef512b67efe]\n",
       "class E13--><a href=\"psysml:a1b35d80-8992-43c2-aa5d-6937f2901599\" target=\"_top\" title=\"psysml:a1b35d80-8992-43c2-aa5d-6937f2901599\" xlink:actuate=\"onRequest\" xlink:href=\"psysml:a1b35d80-8992-43c2-aa5d-6937f2901599\" xlink:show=\"new\" xlink:title=\"psysml:a1b35d80-8992-43c2-aa5d-6937f2901599\" xlink:type=\"simple\"><rect fill=\"#FFFFFF\" height=\"45.9375\" id=\"E13\" rx=\"10\" ry=\"10\" style=\"stroke: #383838; stroke-width: 1.5;\" width=\"42\" x=\"32\" y=\"84\"/><text fill=\"#000000\" font-family=\"sans-serif\" font-size=\"12\" font-style=\"italic\" lengthAdjust=\"spacingAndGlyphs\" textLength=\"40\" x=\"33\" y=\"100.1387\">«part»</text><text fill=\"#000000\" font-family=\"sans-serif\" font-size=\"12\" lengthAdjust=\"spacingAndGlyphs\" textLength=\"22\" x=\"40\" y=\"114.1074\">y: B</text><line style=\"stroke: #383838; stroke-width: 1.5;\" x1=\"33\" x2=\"73\" y1=\"121.9375\" y2=\"121.9375\"/></a><!--MD5=[09b614a08d8cba4a07c9adeb5e0fee81]\n",
       "class E3--><a href=\"psysml:8ceeee5f-0d5a-4279-aee9-7758649ab8be\" target=\"_top\" title=\"psysml:8ceeee5f-0d5a-4279-aee9-7758649ab8be\" xlink:actuate=\"onRequest\" xlink:href=\"psysml:8ceeee5f-0d5a-4279-aee9-7758649ab8be\" xlink:show=\"new\" xlink:title=\"psysml:8ceeee5f-0d5a-4279-aee9-7758649ab8be\" xlink:type=\"simple\"><rect fill=\"#FFFFFF\" height=\"45.9375\" id=\"E3\" style=\"stroke: #383838; stroke-width: 1.5;\" width=\"70\" x=\"347\" y=\"205\"/><text fill=\"#000000\" font-family=\"sans-serif\" font-size=\"12\" font-style=\"italic\" lengthAdjust=\"spacingAndGlyphs\" textLength=\"68\" x=\"348\" y=\"221.1387\">«part  def»</text><text fill=\"#000000\" font-family=\"sans-serif\" font-size=\"12\" lengthAdjust=\"spacingAndGlyphs\" textLength=\"8\" x=\"378\" y=\"235.1074\">A</text><line style=\"stroke: #383838; stroke-width: 1.5;\" x1=\"348\" x2=\"416\" y1=\"242.9375\" y2=\"242.9375\"/></a><!--MD5=[270fce915f116d4de14055a7c1d9a0f3]\n",
       "class E5--><a href=\"psysml:90844ba8-c1a9-4c46-b7c9-d1a2572e7365\" target=\"_top\" title=\"psysml:90844ba8-c1a9-4c46-b7c9-d1a2572e7365\" xlink:actuate=\"onRequest\" xlink:href=\"psysml:90844ba8-c1a9-4c46-b7c9-d1a2572e7365\" xlink:show=\"new\" xlink:title=\"psysml:90844ba8-c1a9-4c46-b7c9-d1a2572e7365\" xlink:type=\"simple\"><rect fill=\"#FFFFFF\" height=\"45.9375\" id=\"E5\" style=\"stroke: #383838; stroke-width: 1.5;\" width=\"70\" x=\"95\" y=\"205\"/><text fill=\"#000000\" font-family=\"sans-serif\" font-size=\"12\" font-style=\"italic\" lengthAdjust=\"spacingAndGlyphs\" textLength=\"68\" x=\"96\" y=\"221.1387\">«part  def»</text><text fill=\"#000000\" font-family=\"sans-serif\" font-size=\"12\" lengthAdjust=\"spacingAndGlyphs\" textLength=\"8\" x=\"126\" y=\"235.1074\">B</text><line style=\"stroke: #383838; stroke-width: 1.5;\" x1=\"96\" x2=\"164\" y1=\"242.9375\" y2=\"242.9375\"/></a><!--MD5=[2156ba9850f5573cc1fc38a6a4b2f02b]\n",
       "class E7--><a href=\"psysml:9a31b8cb-b3f5-4478-b49b-73e9fd0f6da5\" target=\"_top\" title=\"psysml:9a31b8cb-b3f5-4478-b49b-73e9fd0f6da5\" xlink:actuate=\"onRequest\" xlink:href=\"psysml:9a31b8cb-b3f5-4478-b49b-73e9fd0f6da5\" xlink:show=\"new\" xlink:title=\"psysml:9a31b8cb-b3f5-4478-b49b-73e9fd0f6da5\" xlink:type=\"simple\"><rect fill=\"#FFFFFF\" height=\"45.9375\" id=\"E7\" rx=\"10\" ry=\"10\" style=\"stroke: #383838; stroke-width: 1.5;\" width=\"42\" x=\"361\" y=\"84\"/><text fill=\"#000000\" font-family=\"sans-serif\" font-size=\"12\" font-style=\"italic\" lengthAdjust=\"spacingAndGlyphs\" textLength=\"40\" x=\"362\" y=\"100.1387\">«part»</text><text fill=\"#000000\" font-family=\"sans-serif\" font-size=\"12\" lengthAdjust=\"spacingAndGlyphs\" textLength=\"22\" x=\"369\" y=\"114.1074\">x: A</text><line style=\"stroke: #383838; stroke-width: 1.5;\" x1=\"362\" x2=\"402\" y1=\"121.9375\" y2=\"121.9375\"/></a><!--MD5=[b9389687b975829384b498ac4b7476b2]\n",
       "class E8--><a href=\"psysml:084cb86b-cc59-4a41-8b1c-7b7410cc5029\" target=\"_top\" title=\"psysml:084cb86b-cc59-4a41-8b1c-7b7410cc5029\" xlink:actuate=\"onRequest\" xlink:href=\"psysml:084cb86b-cc59-4a41-8b1c-7b7410cc5029\" xlink:show=\"new\" xlink:title=\"psysml:084cb86b-cc59-4a41-8b1c-7b7410cc5029\" xlink:type=\"simple\"><rect fill=\"#FFFFFF\" height=\"45.9375\" id=\"E8\" rx=\"10\" ry=\"10\" style=\"stroke: #383838; stroke-width: 1.5;\" width=\"42\" x=\"284\" y=\"84\"/><text fill=\"#000000\" font-family=\"sans-serif\" font-size=\"12\" font-style=\"italic\" lengthAdjust=\"spacingAndGlyphs\" textLength=\"40\" x=\"285\" y=\"100.1387\">«part»</text><text fill=\"#000000\" font-family=\"sans-serif\" font-size=\"12\" lengthAdjust=\"spacingAndGlyphs\" textLength=\"22\" x=\"292\" y=\"114.1074\">y: B</text><line style=\"stroke: #383838; stroke-width: 1.5;\" x1=\"285\" x2=\"325\" y1=\"121.9375\" y2=\"121.9375\"/></a><!--MD5=[96f4274e9e20536e775497830990834d]\n",
       "class E10--><a href=\"psysml:377a64d2-1aa6-4a9b-ba95-6aeb6c1d992f\" target=\"_top\" title=\"psysml:377a64d2-1aa6-4a9b-ba95-6aeb6c1d992f\" xlink:actuate=\"onRequest\" xlink:href=\"psysml:377a64d2-1aa6-4a9b-ba95-6aeb6c1d992f\" xlink:show=\"new\" xlink:title=\"psysml:377a64d2-1aa6-4a9b-ba95-6aeb6c1d992f\" xlink:type=\"simple\"><rect fill=\"#FFFFFF\" height=\"45.9375\" id=\"E10\" rx=\"10\" ry=\"10\" style=\"stroke: #383838; stroke-width: 1.5;\" width=\"42\" x=\"186\" y=\"84\"/><text fill=\"#000000\" font-family=\"sans-serif\" font-size=\"12\" font-style=\"italic\" lengthAdjust=\"spacingAndGlyphs\" textLength=\"40\" x=\"187\" y=\"100.1387\">«part»</text><text fill=\"#000000\" font-family=\"sans-serif\" font-size=\"12\" lengthAdjust=\"spacingAndGlyphs\" textLength=\"22\" x=\"194\" y=\"114.1074\">x: A</text><line style=\"stroke: #383838; stroke-width: 1.5;\" x1=\"187\" x2=\"227\" y1=\"121.9375\" y2=\"121.9375\"/></a><!--MD5=[1dd1bfd58a279cf63c5f349dbc8fc6a1]\n",
       "class E11--><a href=\"psysml:7cdd5db6-fbbe-4f9d-b259-3a085be4f068\" target=\"_top\" title=\"psysml:7cdd5db6-fbbe-4f9d-b259-3a085be4f068\" xlink:actuate=\"onRequest\" xlink:href=\"psysml:7cdd5db6-fbbe-4f9d-b259-3a085be4f068\" xlink:show=\"new\" xlink:title=\"psysml:7cdd5db6-fbbe-4f9d-b259-3a085be4f068\" xlink:type=\"simple\"><rect fill=\"#FFFFFF\" height=\"45.9375\" id=\"E11\" rx=\"10\" ry=\"10\" style=\"stroke: #383838; stroke-width: 1.5;\" width=\"42\" x=\"109\" y=\"84\"/><text fill=\"#000000\" font-family=\"sans-serif\" font-size=\"12\" font-style=\"italic\" lengthAdjust=\"spacingAndGlyphs\" textLength=\"40\" x=\"110\" y=\"100.1387\">«part»</text><text fill=\"#000000\" font-family=\"sans-serif\" font-size=\"12\" lengthAdjust=\"spacingAndGlyphs\" textLength=\"22\" x=\"117\" y=\"114.1074\">y: B</text><line style=\"stroke: #383838; stroke-width: 1.5;\" x1=\"110\" x2=\"150\" y1=\"121.9375\" y2=\"121.9375\"/></a><!--MD5=[14ccda38c055a5c0da953d572bc50960]\n",
       "link E7 to E3--><a href=\"psysml:0b2c7bde-3c6f-4711-9ee8-a744dba64aec\" target=\"_top\" title=\"psysml:0b2c7bde-3c6f-4711-9ee8-a744dba64aec\" xlink:actuate=\"onRequest\" xlink:href=\"psysml:0b2c7bde-3c6f-4711-9ee8-a744dba64aec\" xlink:show=\"new\" xlink:title=\"psysml:0b2c7bde-3c6f-4711-9ee8-a744dba64aec\" xlink:type=\"simple\"><path d=\"M382,130.1 C382,145.37 382,166.16 382,184.57 \" fill=\"none\" id=\"E7-&gt;E3\" style=\"stroke: #383838; stroke-width: 1.0;\"/><polygon fill=\"#FFFFFF\" points=\"382,204.61,375,185.61,389,185.61,382,204.61\" style=\"stroke: #383838; stroke-width: 1.0;\"/><ellipse cx=\"377\" cy=\"179.91\" fill=\"#383838\" rx=\"2\" ry=\"2\" style=\"stroke: #383838; stroke-width: 1.0;\"/><ellipse cx=\"387\" cy=\"179.91\" fill=\"#383838\" rx=\"2\" ry=\"2\" style=\"stroke: #383838; stroke-width: 1.0;\"/></a><!--MD5=[1ccb2481ffa92f8d51a74ee30c51832a]\n",
       "link E8 to E5--><a href=\"psysml:16eea2e1-2a1c-45c0-89dc-072c92b0db51\" target=\"_top\" title=\"psysml:16eea2e1-2a1c-45c0-89dc-072c92b0db51\" xlink:actuate=\"onRequest\" xlink:href=\"psysml:16eea2e1-2a1c-45c0-89dc-072c92b0db51\" xlink:show=\"new\" xlink:title=\"psysml:16eea2e1-2a1c-45c0-89dc-072c92b0db51\" xlink:type=\"simple\"><path d=\"M283.84,124.59 C272.23,133.52 257.5,144.61 244,154 C224.13,167.82 201.8,182.34 182.21,194.75 \" fill=\"none\" id=\"E8-&gt;E5\" style=\"stroke: #383838; stroke-width: 1.0;\"/><polygon fill=\"#FFFFFF\" points=\"165.13,205.48,177.4956,189.4459,184.9425,201.301,165.13,205.48\" style=\"stroke: #383838; stroke-width: 1.0;\"/><ellipse cx=\"183.3862\" cy=\"188.1075\" fill=\"#383838\" rx=\"2\" ry=\"2\" style=\"stroke: #383838; stroke-width: 1.0;\"/><ellipse cx=\"188.7054\" cy=\"196.5755\" fill=\"#383838\" rx=\"2\" ry=\"2\" style=\"stroke: #383838; stroke-width: 1.0;\"/></a><!--MD5=[feeac5eb423634930294aa81f2d25a4c]\n",
       "link E10 to E3--><a href=\"psysml:0ac0ff17-b961-483b-88a6-6c34531d2872\" target=\"_top\" title=\"psysml:0ac0ff17-b961-483b-88a6-6c34531d2872\" xlink:actuate=\"onRequest\" xlink:href=\"psysml:0ac0ff17-b961-483b-88a6-6c34531d2872\" xlink:show=\"new\" xlink:title=\"psysml:0ac0ff17-b961-483b-88a6-6c34531d2872\" xlink:type=\"simple\"><path d=\"M228.16,124.59 C239.77,133.52 254.5,144.61 268,154 C287.87,167.82 310.2,182.34 329.79,194.75 \" fill=\"none\" id=\"E10-&gt;E3\" style=\"stroke: #383838; stroke-width: 1.0;\"/><polygon fill=\"#FFFFFF\" points=\"346.87,205.48,327.0575,201.301,334.5044,189.4459,346.87,205.48\" style=\"stroke: #383838; stroke-width: 1.0;\"/><ellipse cx=\"323.2946\" cy=\"196.5755\" fill=\"#383838\" rx=\"2\" ry=\"2\" style=\"stroke: #383838; stroke-width: 1.0;\"/><ellipse cx=\"328.6138\" cy=\"188.1075\" fill=\"#383838\" rx=\"2\" ry=\"2\" style=\"stroke: #383838; stroke-width: 1.0;\"/></a><!--MD5=[07b77f6f309248d16187045709d1c26e]\n",
       "link E11 to E5--><a href=\"psysml:7353245a-aec5-4316-8af8-2852475c4dc4\" target=\"_top\" title=\"psysml:7353245a-aec5-4316-8af8-2852475c4dc4\" xlink:actuate=\"onRequest\" xlink:href=\"psysml:7353245a-aec5-4316-8af8-2852475c4dc4\" xlink:show=\"new\" xlink:title=\"psysml:7353245a-aec5-4316-8af8-2852475c4dc4\" xlink:type=\"simple\"><path d=\"M130,130.1 C130,145.37 130,166.16 130,184.57 \" fill=\"none\" id=\"E11-&gt;E5\" style=\"stroke: #383838; stroke-width: 1.0;\"/><polygon fill=\"#FFFFFF\" points=\"130,204.61,123,185.61,137,185.61,130,204.61\" style=\"stroke: #383838; stroke-width: 1.0;\"/><ellipse cx=\"125\" cy=\"179.91\" fill=\"#383838\" rx=\"2\" ry=\"2\" style=\"stroke: #383838; stroke-width: 1.0;\"/><ellipse cx=\"135\" cy=\"179.91\" fill=\"#383838\" rx=\"2\" ry=\"2\" style=\"stroke: #383838; stroke-width: 1.0;\"/></a><!--MD5=[39f41a0e550fb3d73b4d8135617e30a2]\n",
       "link E12 to E3--><a href=\"psysml:6cc10db6-ba98-48a2-919a-a7b34cb2bdfc\" target=\"_top\" title=\"psysml:6cc10db6-ba98-48a2-919a-a7b34cb2bdfc\" xlink:actuate=\"onRequest\" xlink:href=\"psysml:6cc10db6-ba98-48a2-919a-a7b34cb2bdfc\" xlink:show=\"new\" xlink:title=\"psysml:6cc10db6-ba98-48a2-919a-a7b34cb2bdfc\" xlink:type=\"simple\"><path d=\"M444.7,130.1 C434.28,146.2 419.89,168.44 407.53,187.55 \" fill=\"none\" id=\"E12-&gt;E3\" style=\"stroke: #383838; stroke-width: 1.0;\"/><polygon fill=\"#FFFFFF\" points=\"396.49,204.61,400.9313,184.8546,412.6866,192.4581,396.49,204.61\" style=\"stroke: #383838; stroke-width: 1.0;\"/><ellipse cx=\"405.7063\" cy=\"181.1547\" fill=\"#383838\" rx=\"2\" ry=\"2\" style=\"stroke: #383838; stroke-width: 1.0;\"/><ellipse cx=\"414.103\" cy=\"186.5858\" fill=\"#383838\" rx=\"2\" ry=\"2\" style=\"stroke: #383838; stroke-width: 1.0;\"/></a><!--MD5=[066b2d8af59fea80ccdb3d54ad5c1091]\n",
       "link E13 to E5--><a href=\"psysml:fb180b05-d2cf-42d1-bf2a-01829ad20206\" target=\"_top\" title=\"psysml:fb180b05-d2cf-42d1-bf2a-01829ad20206\" xlink:actuate=\"onRequest\" xlink:href=\"psysml:fb180b05-d2cf-42d1-bf2a-01829ad20206\" xlink:show=\"new\" xlink:title=\"psysml:fb180b05-d2cf-42d1-bf2a-01829ad20206\" xlink:type=\"simple\"><path d=\"M67.3,130.1 C77.72,146.2 92.11,168.44 104.47,187.55 \" fill=\"none\" id=\"E13-&gt;E5\" style=\"stroke: #383838; stroke-width: 1.0;\"/><polygon fill=\"#FFFFFF\" points=\"115.51,204.61,99.3134,192.4581,111.0687,184.8546,115.51,204.61\" style=\"stroke: #383838; stroke-width: 1.0;\"/><ellipse cx=\"97.897\" cy=\"186.5858\" fill=\"#383838\" rx=\"2\" ry=\"2\" style=\"stroke: #383838; stroke-width: 1.0;\"/><ellipse cx=\"106.2937\" cy=\"181.1547\" fill=\"#383838\" rx=\"2\" ry=\"2\" style=\"stroke: #383838; stroke-width: 1.0;\"/></a><!--MD5=[0f49fa551474742250834bdbf7110d0c]\n",
       "@startuml\r\n",
       "top to bottom direction\r\n",
       "skinparam monochrome true\r\n",
       "skinparam classbackgroundcolor white\r\n",
       "skinparam shadowing false\r\n",
       "skinparam wrapWidth 300\r\n",
       "hide circle\r\n",
       "\r\n",
       "package \"CircularImport\" as E1  [[psysml:6d002b47-1de9-4cb8-be5e-1d54cb7fff5c ]]  {\r\n",
       "package \"P1\" as E2  [[psysml:531dfa6c-428e-410a-a6f8-c5b9ff8ecb34 ]]  {\r\n",
       "comp def \"A\" as E3  <<(T,blue) part  def>> [[psysml:8ceeee5f-0d5a-4279-aee9-7758649ab8be ]] {\r\n",
       "}\r\n",
       "}\r\n",
       "package \"P2\" as E4  [[psysml:62a929fe-702a-4460-9e53-8584d6f6435e ]]  {\r\n",
       "comp def \"B\" as E5  <<(T,blue) part  def>> [[psysml:90844ba8-c1a9-4c46-b7c9-d1a2572e7365 ]] {\r\n",
       "}\r\n",
       "}\r\n",
       "package \"Test1\" as E6  [[psysml:0f17a3a9-0805-4d7f-ba6a-07da905c8abf ]]  {\r\n",
       "comp usage \"x: A \" as E7  <<(T,blue) part>> [[psysml:9a31b8cb-b3f5-4478-b49b-73e9fd0f6da5 ]] {\r\n",
       "}\r\n",
       "comp usage \"y: B \" as E8  <<(T,blue) part>> [[psysml:084cb86b-cc59-4a41-8b1c-7b7410cc5029 ]] {\r\n",
       "}\r\n",
       "}\r\n",
       "package \"Test2\" as E9  [[psysml:a06e7d3b-be80-4318-b479-ae1779c5974b ]]  {\r\n",
       "comp usage \"x: A \" as E10  <<(T,blue) part>> [[psysml:377a64d2-1aa6-4a9b-ba95-6aeb6c1d992f ]] {\r\n",
       "}\r\n",
       "comp usage \"y: B \" as E11  <<(T,blue) part>> [[psysml:7cdd5db6-fbbe-4f9d-b259-3a085be4f068 ]] {\r\n",
       "}\r\n",
       "}\r\n",
       "comp usage \"x: A \" as E12  <<(T,blue) part>> [[psysml:665d223a-8fea-436a-b414-0efd919424fb ]] {\r\n",
       "}\r\n",
       "comp usage \"y: B \" as E13  <<(T,blue) part>> [[psysml:a1b35d80-8992-43c2-aa5d-6937f2901599 ]] {\r\n",
       "}\r\n",
       "}\r\n",
       "E7 - -:|> E3 [[psysml:0b2c7bde-3c6f-4711-9ee8-a744dba64aec ]] \r\n",
       "E8 - -:|> E5 [[psysml:16eea2e1-2a1c-45c0-89dc-072c92b0db51 ]] \r\n",
       "E10 - -:|> E3 [[psysml:0ac0ff17-b961-483b-88a6-6c34531d2872 ]] \r\n",
       "E11 - -:|> E5 [[psysml:7353245a-aec5-4316-8af8-2852475c4dc4 ]] \r\n",
       "E12 - -:|> E3 [[psysml:6cc10db6-ba98-48a2-919a-a7b34cb2bdfc ]] \r\n",
       "E13 - -:|> E5 [[psysml:fb180b05-d2cf-42d1-bf2a-01829ad20206 ]] \r\n",
       "@enduml\r\n",
       "\n",
       "PlantUML version 1.2020.13(Sat Jun 13 12:26:38 UTC 2020)\n",
       "(EPL source distribution)\n",
       "Java Runtime: OpenJDK Runtime Environment\n",
       "JVM: OpenJDK 64-Bit Server VM\n",
       "Default Encoding: UTF-8\n",
       "Language: en\n",
       "Country: null\n",
       "--></g></svg>"
      ]
     },
     "execution_count": 45,
     "metadata": {},
     "output_type": "execute_result"
    }
   ],
   "source": [
    "%viz --style=\"TB\" --view=\"Tree\" \"CircularImport\""
   ]
  },
  {
   "cell_type": "code",
   "execution_count": 46,
   "id": "fd683789",
   "metadata": {
    "execution": {
     "iopub.execute_input": "2021-12-15T15:15:39.852704Z",
     "iopub.status.busy": "2021-12-15T15:15:39.852312Z",
     "iopub.status.idle": "2021-12-15T15:15:39.857064Z",
     "shell.execute_reply": "2021-12-15T15:15:39.857358Z"
    }
   },
   "outputs": [
    {
     "data": {
      "image/svg+xml": [
       "<?xml version=\"1.0\" encoding=\"UTF-8\" standalone=\"no\"?><svg xmlns=\"http://www.w3.org/2000/svg\" xmlns:xlink=\"http://www.w3.org/1999/xlink\" contentScriptType=\"application/ecmascript\" contentStyleType=\"text/css\" height=\"12px\" preserveAspectRatio=\"none\" style=\"width:12px;height:12px;\" version=\"1.1\" viewBox=\"0 0 12 12\" width=\"12px\" zoomAndPan=\"magnify\"><defs/><g><!--MD5=[f4ee21bc66e489b5061b7c3e9601fdef]\n",
       "@startuml\r\n",
       "top to bottom direction\r\n",
       "skinparam monochrome true\r\n",
       "skinparam classbackgroundcolor white\r\n",
       "skinparam shadowing false\r\n",
       "skinparam wrapWidth 300\r\n",
       "hide circle\r\n",
       "\r\n",
       "@enduml\r\n",
       "\n",
       "PlantUML version 1.2020.13(Sat Jun 13 12:26:38 UTC 2020)\n",
       "(EPL source distribution)\n",
       "Java Runtime: OpenJDK Runtime Environment\n",
       "JVM: OpenJDK 64-Bit Server VM\n",
       "Default Encoding: UTF-8\n",
       "Language: en\n",
       "Country: null\n",
       "--></g></svg>"
      ]
     },
     "execution_count": 46,
     "metadata": {},
     "output_type": "execute_result"
    }
   ],
   "source": [
    "%viz --style=\"TB\" --view=\"State\" \"CircularImport\""
   ]
  },
  {
   "cell_type": "code",
   "execution_count": 47,
   "id": "aff10b92",
   "metadata": {
    "execution": {
     "iopub.execute_input": "2021-12-15T15:15:39.906829Z",
     "iopub.status.busy": "2021-12-15T15:15:39.906438Z",
     "iopub.status.idle": "2021-12-15T15:15:39.938983Z",
     "shell.execute_reply": "2021-12-15T15:15:39.937178Z"
    }
   },
   "outputs": [
    {
     "data": {
      "image/svg+xml": [
       "<?xml version=\"1.0\" encoding=\"UTF-8\" standalone=\"no\"?><svg xmlns=\"http://www.w3.org/2000/svg\" xmlns:xlink=\"http://www.w3.org/1999/xlink\" contentScriptType=\"application/ecmascript\" contentStyleType=\"text/css\" height=\"179px\" preserveAspectRatio=\"none\" style=\"width:850px;height:179px;\" version=\"1.1\" viewBox=\"0 0 850 179\" width=\"850px\" zoomAndPan=\"magnify\"><defs/><g><!--MD5=[fbc87193dbaf4d95561dea2c320d4a47]\n",
       "cluster E1--><a href=\"psysml:6d002b47-1de9-4cb8-be5e-1d54cb7fff5c\" target=\"_top\" title=\"psysml:6d002b47-1de9-4cb8-be5e-1d54cb7fff5c\" xlink:actuate=\"onRequest\" xlink:href=\"psysml:6d002b47-1de9-4cb8-be5e-1d54cb7fff5c\" xlink:show=\"new\" xlink:title=\"psysml:6d002b47-1de9-4cb8-be5e-1d54cb7fff5c\" xlink:type=\"simple\"><polygon fill=\"#FFFFFF\" points=\"16,6,117,6,124,28.2969,828,28.2969,828,167,16,167,16,6\" style=\"stroke: #000000; stroke-width: 1.5;\"/><line style=\"stroke: #000000; stroke-width: 1.5;\" x1=\"16\" x2=\"124\" y1=\"28.2969\" y2=\"28.2969\"/><text fill=\"#000000\" font-family=\"sans-serif\" font-size=\"14\" font-weight=\"bold\" lengthAdjust=\"spacingAndGlyphs\" textLength=\"95\" x=\"20\" y=\"20.9951\">CircularImport</text></a><!--MD5=[e4f7fae6ed58524ba242bb0b0d3be6b7]\n",
       "cluster E2--><a href=\"psysml:531dfa6c-428e-410a-a6f8-c5b9ff8ecb34\" target=\"_top\" title=\"psysml:531dfa6c-428e-410a-a6f8-c5b9ff8ecb34\" xlink:actuate=\"onRequest\" xlink:href=\"psysml:531dfa6c-428e-410a-a6f8-c5b9ff8ecb34\" xlink:show=\"new\" xlink:title=\"psysml:531dfa6c-428e-410a-a6f8-c5b9ff8ecb34\" xlink:type=\"simple\"><polygon fill=\"#FFFFFF\" points=\"698,49,722,49,729,71.2969,804,71.2969,804,143,698,143,698,49\" style=\"stroke: #000000; stroke-width: 1.5;\"/><line style=\"stroke: #000000; stroke-width: 1.5;\" x1=\"698\" x2=\"729\" y1=\"71.2969\" y2=\"71.2969\"/><text fill=\"#000000\" font-family=\"sans-serif\" font-size=\"14\" font-weight=\"bold\" lengthAdjust=\"spacingAndGlyphs\" textLength=\"18\" x=\"702\" y=\"63.9951\">P1</text></a><!--MD5=[f6df4d0ebaf0b5dfb2ced0ae5af7c670]\n",
       "cluster E4--><a href=\"psysml:62a929fe-702a-4460-9e53-8584d6f6435e\" target=\"_top\" title=\"psysml:62a929fe-702a-4460-9e53-8584d6f6435e\" xlink:actuate=\"onRequest\" xlink:href=\"psysml:62a929fe-702a-4460-9e53-8584d6f6435e\" xlink:show=\"new\" xlink:title=\"psysml:62a929fe-702a-4460-9e53-8584d6f6435e\" xlink:type=\"simple\"><polygon fill=\"#FFFFFF\" points=\"568,49,592,49,599,71.2969,674,71.2969,674,143,568,143,568,49\" style=\"stroke: #000000; stroke-width: 1.5;\"/><line style=\"stroke: #000000; stroke-width: 1.5;\" x1=\"568\" x2=\"599\" y1=\"71.2969\" y2=\"71.2969\"/><text fill=\"#000000\" font-family=\"sans-serif\" font-size=\"14\" font-weight=\"bold\" lengthAdjust=\"spacingAndGlyphs\" textLength=\"18\" x=\"572\" y=\"63.9951\">P2</text></a><!--MD5=[14e3b0961a2654348d326746436168a1]\n",
       "cluster E6--><a href=\"psysml:0f17a3a9-0805-4d7f-ba6a-07da905c8abf\" target=\"_top\" title=\"psysml:0f17a3a9-0805-4d7f-ba6a-07da905c8abf\" xlink:actuate=\"onRequest\" xlink:href=\"psysml:0f17a3a9-0805-4d7f-ba6a-07da905c8abf\" xlink:show=\"new\" xlink:title=\"psysml:0f17a3a9-0805-4d7f-ba6a-07da905c8abf\" xlink:type=\"simple\"><polygon fill=\"#FFFFFF\" points=\"377,50.5,423,50.5,430,72.7969,544,72.7969,544,141.5,377,141.5,377,50.5\" style=\"stroke: #000000; stroke-width: 1.5;\"/><line style=\"stroke: #000000; stroke-width: 1.5;\" x1=\"377\" x2=\"430\" y1=\"72.7969\" y2=\"72.7969\"/><text fill=\"#000000\" font-family=\"sans-serif\" font-size=\"14\" font-weight=\"bold\" lengthAdjust=\"spacingAndGlyphs\" textLength=\"40\" x=\"381\" y=\"65.4951\">Test1</text></a><!--MD5=[7f149f147074ac12df2cb0a7728a5fb0]\n",
       "cluster E9--><a href=\"psysml:a06e7d3b-be80-4318-b479-ae1779c5974b\" target=\"_top\" title=\"psysml:a06e7d3b-be80-4318-b479-ae1779c5974b\" xlink:actuate=\"onRequest\" xlink:href=\"psysml:a06e7d3b-be80-4318-b479-ae1779c5974b\" xlink:show=\"new\" xlink:title=\"psysml:a06e7d3b-be80-4318-b479-ae1779c5974b\" xlink:type=\"simple\"><polygon fill=\"#FFFFFF\" points=\"186,50.5,232,50.5,239,72.7969,353,72.7969,353,141.5,186,141.5,186,50.5\" style=\"stroke: #000000; stroke-width: 1.5;\"/><line style=\"stroke: #000000; stroke-width: 1.5;\" x1=\"186\" x2=\"239\" y1=\"72.7969\" y2=\"72.7969\"/><text fill=\"#000000\" font-family=\"sans-serif\" font-size=\"14\" font-weight=\"bold\" lengthAdjust=\"spacingAndGlyphs\" textLength=\"40\" x=\"190\" y=\"65.4951\">Test2</text></a><g id=\"E1.E2.E3\"><a href=\"psysml:8ceeee5f-0d5a-4279-aee9-7758649ab8be\" target=\"_top\" title=\"psysml:8ceeee5f-0d5a-4279-aee9-7758649ab8be\" xlink:actuate=\"onRequest\" xlink:href=\"psysml:8ceeee5f-0d5a-4279-aee9-7758649ab8be\" xlink:show=\"new\" xlink:title=\"psysml:8ceeee5f-0d5a-4279-aee9-7758649ab8be\" xlink:type=\"simple\"><rect fill=\"#FFFFFF\" height=\"42.9375\" id=\"E3\" style=\"stroke: #383838; stroke-width: 1.5;\" width=\"75\" x=\"713.5\" y=\"84\"/><rect fill=\"#F8F8F8\" height=\"37.9375\" style=\"stroke: #383838; stroke-width: 1.5;\" width=\"75\" x=\"713.5\" y=\"84\"/><text fill=\"#000000\" font-family=\"sans-serif\" font-size=\"12\" font-style=\"italic\" lengthAdjust=\"spacingAndGlyphs\" textLength=\"68\" x=\"717\" y=\"100.1387\">«part  def»</text><text fill=\"#000000\" font-family=\"sans-serif\" font-size=\"12\" lengthAdjust=\"spacingAndGlyphs\" textLength=\"8\" x=\"747\" y=\"114.1074\">A</text></a></g><g id=\"E1.E4.E5\"><a href=\"psysml:90844ba8-c1a9-4c46-b7c9-d1a2572e7365\" target=\"_top\" title=\"psysml:90844ba8-c1a9-4c46-b7c9-d1a2572e7365\" xlink:actuate=\"onRequest\" xlink:href=\"psysml:90844ba8-c1a9-4c46-b7c9-d1a2572e7365\" xlink:show=\"new\" xlink:title=\"psysml:90844ba8-c1a9-4c46-b7c9-d1a2572e7365\" xlink:type=\"simple\"><rect fill=\"#FFFFFF\" height=\"42.9375\" id=\"E5\" style=\"stroke: #383838; stroke-width: 1.5;\" width=\"75\" x=\"583.5\" y=\"84\"/><rect fill=\"#F8F8F8\" height=\"37.9375\" style=\"stroke: #383838; stroke-width: 1.5;\" width=\"75\" x=\"583.5\" y=\"84\"/><text fill=\"#000000\" font-family=\"sans-serif\" font-size=\"12\" font-style=\"italic\" lengthAdjust=\"spacingAndGlyphs\" textLength=\"68\" x=\"587\" y=\"100.1387\">«part  def»</text><text fill=\"#000000\" font-family=\"sans-serif\" font-size=\"12\" lengthAdjust=\"spacingAndGlyphs\" textLength=\"8\" x=\"617\" y=\"114.1074\">B</text></a></g><g id=\"E1.E6.E7\"><a href=\"psysml:9a31b8cb-b3f5-4478-b49b-73e9fd0f6da5\" target=\"_top\" title=\"psysml:9a31b8cb-b3f5-4478-b49b-73e9fd0f6da5\" xlink:actuate=\"onRequest\" xlink:href=\"psysml:9a31b8cb-b3f5-4478-b49b-73e9fd0f6da5\" xlink:show=\"new\" xlink:title=\"psysml:9a31b8cb-b3f5-4478-b49b-73e9fd0f6da5\" xlink:type=\"simple\"><rect fill=\"#FFFFFF\" height=\"40\" id=\"E7\" rx=\"10\" ry=\"10\" style=\"stroke: #383838; stroke-width: 1.5;\" width=\"50\" x=\"478\" y=\"85.5\"/><rect fill=\"#F8F8F8\" height=\"23.9688\" rx=\"10\" ry=\"10\" style=\"stroke: #F8F8F8; stroke-width: 1.5;\" width=\"50\" x=\"478\" y=\"85.5\"/><rect fill=\"#F8F8F8\" height=\"10\" style=\"stroke: #F8F8F8; stroke-width: 1.5;\" width=\"50\" x=\"478\" y=\"99.4688\"/><rect fill=\"none\" height=\"40\" id=\"E7\" rx=\"10\" ry=\"10\" style=\"stroke: #383838; stroke-width: 1.5;\" width=\"50\" x=\"478\" y=\"85.5\"/><text fill=\"#000000\" font-family=\"sans-serif\" font-size=\"12\" lengthAdjust=\"spacingAndGlyphs\" textLength=\"22\" x=\"492\" y=\"101.6387\">x: A</text></a></g><g id=\"E1.E6.E8\"><a href=\"psysml:084cb86b-cc59-4a41-8b1c-7b7410cc5029\" target=\"_top\" title=\"psysml:084cb86b-cc59-4a41-8b1c-7b7410cc5029\" xlink:actuate=\"onRequest\" xlink:href=\"psysml:084cb86b-cc59-4a41-8b1c-7b7410cc5029\" xlink:show=\"new\" xlink:title=\"psysml:084cb86b-cc59-4a41-8b1c-7b7410cc5029\" xlink:type=\"simple\"><rect fill=\"#FFFFFF\" height=\"40\" id=\"E8\" rx=\"10\" ry=\"10\" style=\"stroke: #383838; stroke-width: 1.5;\" width=\"50\" x=\"393\" y=\"85.5\"/><rect fill=\"#F8F8F8\" height=\"23.9688\" rx=\"10\" ry=\"10\" style=\"stroke: #F8F8F8; stroke-width: 1.5;\" width=\"50\" x=\"393\" y=\"85.5\"/><rect fill=\"#F8F8F8\" height=\"10\" style=\"stroke: #F8F8F8; stroke-width: 1.5;\" width=\"50\" x=\"393\" y=\"99.4688\"/><rect fill=\"none\" height=\"40\" id=\"E8\" rx=\"10\" ry=\"10\" style=\"stroke: #383838; stroke-width: 1.5;\" width=\"50\" x=\"393\" y=\"85.5\"/><text fill=\"#000000\" font-family=\"sans-serif\" font-size=\"12\" lengthAdjust=\"spacingAndGlyphs\" textLength=\"22\" x=\"407\" y=\"101.6387\">y: B</text></a></g><g id=\"E1.E9.E10\"><a href=\"psysml:377a64d2-1aa6-4a9b-ba95-6aeb6c1d992f\" target=\"_top\" title=\"psysml:377a64d2-1aa6-4a9b-ba95-6aeb6c1d992f\" xlink:actuate=\"onRequest\" xlink:href=\"psysml:377a64d2-1aa6-4a9b-ba95-6aeb6c1d992f\" xlink:show=\"new\" xlink:title=\"psysml:377a64d2-1aa6-4a9b-ba95-6aeb6c1d992f\" xlink:type=\"simple\"><rect fill=\"#FFFFFF\" height=\"40\" id=\"E10\" rx=\"10\" ry=\"10\" style=\"stroke: #383838; stroke-width: 1.5;\" width=\"50\" x=\"287\" y=\"85.5\"/><rect fill=\"#F8F8F8\" height=\"23.9688\" rx=\"10\" ry=\"10\" style=\"stroke: #F8F8F8; stroke-width: 1.5;\" width=\"50\" x=\"287\" y=\"85.5\"/><rect fill=\"#F8F8F8\" height=\"10\" style=\"stroke: #F8F8F8; stroke-width: 1.5;\" width=\"50\" x=\"287\" y=\"99.4688\"/><rect fill=\"none\" height=\"40\" id=\"E10\" rx=\"10\" ry=\"10\" style=\"stroke: #383838; stroke-width: 1.5;\" width=\"50\" x=\"287\" y=\"85.5\"/><text fill=\"#000000\" font-family=\"sans-serif\" font-size=\"12\" lengthAdjust=\"spacingAndGlyphs\" textLength=\"22\" x=\"301\" y=\"101.6387\">x: A</text></a></g><g id=\"E1.E9.E11\"><a href=\"psysml:7cdd5db6-fbbe-4f9d-b259-3a085be4f068\" target=\"_top\" title=\"psysml:7cdd5db6-fbbe-4f9d-b259-3a085be4f068\" xlink:actuate=\"onRequest\" xlink:href=\"psysml:7cdd5db6-fbbe-4f9d-b259-3a085be4f068\" xlink:show=\"new\" xlink:title=\"psysml:7cdd5db6-fbbe-4f9d-b259-3a085be4f068\" xlink:type=\"simple\"><rect fill=\"#FFFFFF\" height=\"40\" id=\"E11\" rx=\"10\" ry=\"10\" style=\"stroke: #383838; stroke-width: 1.5;\" width=\"50\" x=\"202\" y=\"85.5\"/><rect fill=\"#F8F8F8\" height=\"23.9688\" rx=\"10\" ry=\"10\" style=\"stroke: #F8F8F8; stroke-width: 1.5;\" width=\"50\" x=\"202\" y=\"85.5\"/><rect fill=\"#F8F8F8\" height=\"10\" style=\"stroke: #F8F8F8; stroke-width: 1.5;\" width=\"50\" x=\"202\" y=\"99.4688\"/><rect fill=\"none\" height=\"40\" id=\"E11\" rx=\"10\" ry=\"10\" style=\"stroke: #383838; stroke-width: 1.5;\" width=\"50\" x=\"202\" y=\"85.5\"/><text fill=\"#000000\" font-family=\"sans-serif\" font-size=\"12\" lengthAdjust=\"spacingAndGlyphs\" textLength=\"22\" x=\"216\" y=\"101.6387\">y: B</text></a></g><g id=\"E1.E12\"><a href=\"psysml:665d223a-8fea-436a-b414-0efd919424fb\" target=\"_top\" title=\"psysml:665d223a-8fea-436a-b414-0efd919424fb\" xlink:actuate=\"onRequest\" xlink:href=\"psysml:665d223a-8fea-436a-b414-0efd919424fb\" xlink:show=\"new\" xlink:title=\"psysml:665d223a-8fea-436a-b414-0efd919424fb\" xlink:type=\"simple\"><rect fill=\"#FFFFFF\" height=\"40\" id=\"E12\" rx=\"10\" ry=\"10\" style=\"stroke: #383838; stroke-width: 1.5;\" width=\"50\" x=\"117\" y=\"85.5\"/><rect fill=\"#F8F8F8\" height=\"23.9688\" rx=\"10\" ry=\"10\" style=\"stroke: #F8F8F8; stroke-width: 1.5;\" width=\"50\" x=\"117\" y=\"85.5\"/><rect fill=\"#F8F8F8\" height=\"10\" style=\"stroke: #F8F8F8; stroke-width: 1.5;\" width=\"50\" x=\"117\" y=\"99.4688\"/><rect fill=\"none\" height=\"40\" id=\"E12\" rx=\"10\" ry=\"10\" style=\"stroke: #383838; stroke-width: 1.5;\" width=\"50\" x=\"117\" y=\"85.5\"/><text fill=\"#000000\" font-family=\"sans-serif\" font-size=\"12\" lengthAdjust=\"spacingAndGlyphs\" textLength=\"22\" x=\"131\" y=\"101.6387\">x: A</text></a></g><g id=\"E1.E13\"><a href=\"psysml:a1b35d80-8992-43c2-aa5d-6937f2901599\" target=\"_top\" title=\"psysml:a1b35d80-8992-43c2-aa5d-6937f2901599\" xlink:actuate=\"onRequest\" xlink:href=\"psysml:a1b35d80-8992-43c2-aa5d-6937f2901599\" xlink:show=\"new\" xlink:title=\"psysml:a1b35d80-8992-43c2-aa5d-6937f2901599\" xlink:type=\"simple\"><rect fill=\"#FFFFFF\" height=\"40\" id=\"E13\" rx=\"10\" ry=\"10\" style=\"stroke: #383838; stroke-width: 1.5;\" width=\"50\" x=\"32\" y=\"85.5\"/><rect fill=\"#F8F8F8\" height=\"23.9688\" rx=\"10\" ry=\"10\" style=\"stroke: #F8F8F8; stroke-width: 1.5;\" width=\"50\" x=\"32\" y=\"85.5\"/><rect fill=\"#F8F8F8\" height=\"10\" style=\"stroke: #F8F8F8; stroke-width: 1.5;\" width=\"50\" x=\"32\" y=\"99.4688\"/><rect fill=\"none\" height=\"40\" id=\"E13\" rx=\"10\" ry=\"10\" style=\"stroke: #383838; stroke-width: 1.5;\" width=\"50\" x=\"32\" y=\"85.5\"/><text fill=\"#000000\" font-family=\"sans-serif\" font-size=\"12\" lengthAdjust=\"spacingAndGlyphs\" textLength=\"22\" x=\"46\" y=\"101.6387\">y: B</text></a></g><!--MD5=[6031e4bbdbbeed21029faff6e73386a9]\n",
       "@startuml\r\n",
       "skinparam ranksep 10\r\n",
       "skinparam rectangle {\r\n",
       " backgroundColor<<block>> LightGreen\r\n",
       "}\r\n",
       "top to bottom direction\r\n",
       "skinparam monochrome true\r\n",
       "skinparam classbackgroundcolor white\r\n",
       "skinparam shadowing false\r\n",
       "skinparam wrapWidth 300\r\n",
       "hide circle\r\n",
       "\r\n",
       "package \"CircularImport\" as E1  [[psysml:6d002b47-1de9-4cb8-be5e-1d54cb7fff5c ]]  {\r\n",
       "package \"P1\" as E2  [[psysml:531dfa6c-428e-410a-a6f8-c5b9ff8ecb34 ]]  {\r\n",
       "rec def \"A\" as E3  <<(T,blue) part  def>> [[psysml:8ceeee5f-0d5a-4279-aee9-7758649ab8be ]] {\r\n",
       "}\r\n",
       "}\r\n",
       "package \"P2\" as E4  [[psysml:62a929fe-702a-4460-9e53-8584d6f6435e ]]  {\r\n",
       "rec def \"B\" as E5  <<(T,blue) part  def>> [[psysml:90844ba8-c1a9-4c46-b7c9-d1a2572e7365 ]] {\r\n",
       "}\r\n",
       "}\r\n",
       "package \"Test1\" as E6  [[psysml:0f17a3a9-0805-4d7f-ba6a-07da905c8abf ]]  {\r\n",
       "rec usage \"x: A\" as E7  [[psysml:9a31b8cb-b3f5-4478-b49b-73e9fd0f6da5 ]] {\r\n",
       "}\r\n",
       "rec usage \"y: B\" as E8  [[psysml:084cb86b-cc59-4a41-8b1c-7b7410cc5029 ]] {\r\n",
       "}\r\n",
       "}\r\n",
       "package \"Test2\" as E9  [[psysml:a06e7d3b-be80-4318-b479-ae1779c5974b ]]  {\r\n",
       "rec usage \"x: A\" as E10  [[psysml:377a64d2-1aa6-4a9b-ba95-6aeb6c1d992f ]] {\r\n",
       "}\r\n",
       "rec usage \"y: B\" as E11  [[psysml:7cdd5db6-fbbe-4f9d-b259-3a085be4f068 ]] {\r\n",
       "}\r\n",
       "}\r\n",
       "rec usage \"x: A\" as E12  [[psysml:665d223a-8fea-436a-b414-0efd919424fb ]] {\r\n",
       "}\r\n",
       "rec usage \"y: B\" as E13  [[psysml:a1b35d80-8992-43c2-aa5d-6937f2901599 ]] {\r\n",
       "}\r\n",
       "}\r\n",
       "@enduml\r\n",
       "\n",
       "PlantUML version 1.2020.13(Sat Jun 13 12:26:38 UTC 2020)\n",
       "(EPL source distribution)\n",
       "Java Runtime: OpenJDK Runtime Environment\n",
       "JVM: OpenJDK 64-Bit Server VM\n",
       "Default Encoding: UTF-8\n",
       "Language: en\n",
       "Country: null\n",
       "--></g></svg>"
      ]
     },
     "execution_count": 47,
     "metadata": {},
     "output_type": "execute_result"
    }
   ],
   "source": [
    "%viz --style=\"TB\" --view=\"Interconnection\" \"CircularImport\""
   ]
  },
  {
   "cell_type": "code",
   "execution_count": 48,
   "id": "86ec1109",
   "metadata": {
    "execution": {
     "iopub.execute_input": "2021-12-15T15:15:39.987930Z",
     "iopub.status.busy": "2021-12-15T15:15:39.987534Z",
     "iopub.status.idle": "2021-12-15T15:15:39.992632Z",
     "shell.execute_reply": "2021-12-15T15:15:39.992946Z"
    }
   },
   "outputs": [
    {
     "data": {
      "image/svg+xml": [
       "<?xml version=\"1.0\" encoding=\"UTF-8\" standalone=\"no\"?><svg xmlns=\"http://www.w3.org/2000/svg\" xmlns:xlink=\"http://www.w3.org/1999/xlink\" contentScriptType=\"application/ecmascript\" contentStyleType=\"text/css\" height=\"12px\" preserveAspectRatio=\"none\" style=\"width:12px;height:12px;\" version=\"1.1\" viewBox=\"0 0 12 12\" width=\"12px\" zoomAndPan=\"magnify\"><defs/><g><!--MD5=[06afc254b03ac5e9d9fb7773b07d0800]\n",
       "@startuml\r\n",
       "skinparam ranksep 8\r\n",
       "top to bottom direction\r\n",
       "skinparam monochrome true\r\n",
       "skinparam classbackgroundcolor white\r\n",
       "skinparam shadowing false\r\n",
       "skinparam wrapWidth 300\r\n",
       "hide circle\r\n",
       "\r\n",
       "@enduml\r\n",
       "\n",
       "PlantUML version 1.2020.13(Sat Jun 13 12:26:38 UTC 2020)\n",
       "(EPL source distribution)\n",
       "Java Runtime: OpenJDK Runtime Environment\n",
       "JVM: OpenJDK 64-Bit Server VM\n",
       "Default Encoding: UTF-8\n",
       "Language: en\n",
       "Country: null\n",
       "--></g></svg>"
      ]
     },
     "execution_count": 48,
     "metadata": {},
     "output_type": "execute_result"
    }
   ],
   "source": [
    "%viz --style=\"TB\" --view=\"Action\" \"CircularImport\""
   ]
  },
  {
   "cell_type": "code",
   "execution_count": 49,
   "id": "7183a053",
   "metadata": {
    "execution": {
     "iopub.execute_input": "2021-12-15T15:15:40.042432Z",
     "iopub.status.busy": "2021-12-15T15:15:40.042045Z",
     "iopub.status.idle": "2021-12-15T15:15:40.047580Z",
     "shell.execute_reply": "2021-12-15T15:15:40.047879Z"
    }
   },
   "outputs": [
    {
     "data": {
      "image/svg+xml": [
       "<?xml version=\"1.0\" encoding=\"UTF-8\" standalone=\"no\"?><svg xmlns=\"http://www.w3.org/2000/svg\" xmlns:xlink=\"http://www.w3.org/1999/xlink\" contentScriptType=\"application/ecmascript\" contentStyleType=\"text/css\" height=\"12px\" preserveAspectRatio=\"none\" style=\"width:12px;height:12px;\" version=\"1.1\" viewBox=\"0 0 12 12\" width=\"12px\" zoomAndPan=\"magnify\"><defs/><g><!--MD5=[e1ab0c84c44d2fef8bf5f140f2689906]\n",
       "@startuml\r\n",
       "skinparam roundcorner 20\r\n",
       "skinparam BoxPadding 20\r\n",
       "skinparam SequenceBoxBackgroundColor #white\r\n",
       "skinparam style strictuml\r\n",
       "skinparam maxMessageSize 100\r\n",
       "top to bottom direction\r\n",
       "skinparam monochrome true\r\n",
       "skinparam classbackgroundcolor white\r\n",
       "skinparam shadowing false\r\n",
       "skinparam wrapWidth 300\r\n",
       "hide circle\r\n",
       "\r\n",
       "@enduml\r\n",
       "\n",
       "PlantUML version 1.2020.13(Sat Jun 13 12:26:38 UTC 2020)\n",
       "(EPL source distribution)\n",
       "Java Runtime: OpenJDK Runtime Environment\n",
       "JVM: OpenJDK 64-Bit Server VM\n",
       "Default Encoding: UTF-8\n",
       "Language: en\n",
       "Country: null\n",
       "--></g></svg>"
      ]
     },
     "execution_count": 49,
     "metadata": {},
     "output_type": "execute_result"
    }
   ],
   "source": [
    "%viz --style=\"TB\" --view=\"Sequence\" \"CircularImport\""
   ]
  },
  {
   "cell_type": "code",
   "execution_count": 50,
   "id": "0be59eab",
   "metadata": {
    "execution": {
     "iopub.execute_input": "2021-12-15T15:15:40.097430Z",
     "iopub.status.busy": "2021-12-15T15:15:40.097047Z",
     "iopub.status.idle": "2021-12-15T15:15:40.133895Z",
     "shell.execute_reply": "2021-12-15T15:15:40.132021Z"
    }
   },
   "outputs": [
    {
     "data": {
      "image/svg+xml": [
       "<?xml version=\"1.0\" encoding=\"UTF-8\" standalone=\"no\"?><svg xmlns=\"http://www.w3.org/2000/svg\" xmlns:xlink=\"http://www.w3.org/1999/xlink\" contentScriptType=\"application/ecmascript\" contentStyleType=\"text/css\" height=\"303px\" preserveAspectRatio=\"none\" style=\"width:518px;height:303px;\" version=\"1.1\" viewBox=\"0 0 518 303\" width=\"518px\" zoomAndPan=\"magnify\"><defs/><g><!--MD5=[fbc87193dbaf4d95561dea2c320d4a47]\n",
       "cluster E1--><a href=\"psysml:6d002b47-1de9-4cb8-be5e-1d54cb7fff5c\" target=\"_top\" title=\"psysml:6d002b47-1de9-4cb8-be5e-1d54cb7fff5c\" xlink:actuate=\"onRequest\" xlink:href=\"psysml:6d002b47-1de9-4cb8-be5e-1d54cb7fff5c\" xlink:show=\"new\" xlink:title=\"psysml:6d002b47-1de9-4cb8-be5e-1d54cb7fff5c\" xlink:type=\"simple\"><polygon fill=\"#FFFFFF\" points=\"16,6,117,6,124,28.2969,496,28.2969,496,291,16,291,16,6\" style=\"stroke: #000000; stroke-width: 1.5;\"/><line style=\"stroke: #000000; stroke-width: 1.5;\" x1=\"16\" x2=\"124\" y1=\"28.2969\" y2=\"28.2969\"/><text fill=\"#000000\" font-family=\"sans-serif\" font-size=\"14\" font-weight=\"bold\" lengthAdjust=\"spacingAndGlyphs\" textLength=\"95\" x=\"20\" y=\"20.9951\">CircularImport</text></a><!--MD5=[e4f7fae6ed58524ba242bb0b0d3be6b7]\n",
       "cluster E2--><a href=\"psysml:531dfa6c-428e-410a-a6f8-c5b9ff8ecb34\" target=\"_top\" title=\"psysml:531dfa6c-428e-410a-a6f8-c5b9ff8ecb34\" xlink:actuate=\"onRequest\" xlink:href=\"psysml:531dfa6c-428e-410a-a6f8-c5b9ff8ecb34\" xlink:show=\"new\" xlink:title=\"psysml:531dfa6c-428e-410a-a6f8-c5b9ff8ecb34\" xlink:type=\"simple\"><polygon fill=\"#FFFFFF\" points=\"331,170,355,170,362,192.2969,433,192.2969,433,267,331,267,331,170\" style=\"stroke: #000000; stroke-width: 1.5;\"/><line style=\"stroke: #000000; stroke-width: 1.5;\" x1=\"331\" x2=\"362\" y1=\"192.2969\" y2=\"192.2969\"/><text fill=\"#000000\" font-family=\"sans-serif\" font-size=\"14\" font-weight=\"bold\" lengthAdjust=\"spacingAndGlyphs\" textLength=\"18\" x=\"335\" y=\"184.9951\">P1</text></a><!--MD5=[f6df4d0ebaf0b5dfb2ced0ae5af7c670]\n",
       "cluster E4--><a href=\"psysml:62a929fe-702a-4460-9e53-8584d6f6435e\" target=\"_top\" title=\"psysml:62a929fe-702a-4460-9e53-8584d6f6435e\" xlink:actuate=\"onRequest\" xlink:href=\"psysml:62a929fe-702a-4460-9e53-8584d6f6435e\" xlink:show=\"new\" xlink:title=\"psysml:62a929fe-702a-4460-9e53-8584d6f6435e\" xlink:type=\"simple\"><polygon fill=\"#FFFFFF\" points=\"79,170,103,170,110,192.2969,181,192.2969,181,267,79,267,79,170\" style=\"stroke: #000000; stroke-width: 1.5;\"/><line style=\"stroke: #000000; stroke-width: 1.5;\" x1=\"79\" x2=\"110\" y1=\"192.2969\" y2=\"192.2969\"/><text fill=\"#000000\" font-family=\"sans-serif\" font-size=\"14\" font-weight=\"bold\" lengthAdjust=\"spacingAndGlyphs\" textLength=\"18\" x=\"83\" y=\"184.9951\">P2</text></a><!--MD5=[14e3b0961a2654348d326746436168a1]\n",
       "cluster E6--><a href=\"psysml:0f17a3a9-0805-4d7f-ba6a-07da905c8abf\" target=\"_top\" title=\"psysml:0f17a3a9-0805-4d7f-ba6a-07da905c8abf\" xlink:actuate=\"onRequest\" xlink:href=\"psysml:0f17a3a9-0805-4d7f-ba6a-07da905c8abf\" xlink:show=\"new\" xlink:title=\"psysml:0f17a3a9-0805-4d7f-ba6a-07da905c8abf\" xlink:type=\"simple\"><polygon fill=\"#FFFFFF\" points=\"268,49,314,49,321,71.2969,419,71.2969,419,146,268,146,268,49\" style=\"stroke: #000000; stroke-width: 1.5;\"/><line style=\"stroke: #000000; stroke-width: 1.5;\" x1=\"268\" x2=\"321\" y1=\"71.2969\" y2=\"71.2969\"/><text fill=\"#000000\" font-family=\"sans-serif\" font-size=\"14\" font-weight=\"bold\" lengthAdjust=\"spacingAndGlyphs\" textLength=\"40\" x=\"272\" y=\"63.9951\">Test1</text></a><!--MD5=[7f149f147074ac12df2cb0a7728a5fb0]\n",
       "cluster E9--><a href=\"psysml:a06e7d3b-be80-4318-b479-ae1779c5974b\" target=\"_top\" title=\"psysml:a06e7d3b-be80-4318-b479-ae1779c5974b\" xlink:actuate=\"onRequest\" xlink:href=\"psysml:a06e7d3b-be80-4318-b479-ae1779c5974b\" xlink:show=\"new\" xlink:title=\"psysml:a06e7d3b-be80-4318-b479-ae1779c5974b\" xlink:type=\"simple\"><polygon fill=\"#FFFFFF\" points=\"93,49,139,49,146,71.2969,244,71.2969,244,146,93,146,93,49\" style=\"stroke: #000000; stroke-width: 1.5;\"/><line style=\"stroke: #000000; stroke-width: 1.5;\" x1=\"93\" x2=\"146\" y1=\"71.2969\" y2=\"71.2969\"/><text fill=\"#000000\" font-family=\"sans-serif\" font-size=\"14\" font-weight=\"bold\" lengthAdjust=\"spacingAndGlyphs\" textLength=\"40\" x=\"97\" y=\"63.9951\">Test2</text></a><!--MD5=[49a0ec8f00dab7302a31f22d0f0fe584]\n",
       "class E12--><a href=\"psysml:665d223a-8fea-436a-b414-0efd919424fb\" target=\"_top\" title=\"psysml:665d223a-8fea-436a-b414-0efd919424fb\" xlink:actuate=\"onRequest\" xlink:href=\"psysml:665d223a-8fea-436a-b414-0efd919424fb\" xlink:show=\"new\" xlink:title=\"psysml:665d223a-8fea-436a-b414-0efd919424fb\" xlink:type=\"simple\"><rect fill=\"#FFFFFF\" height=\"45.9375\" id=\"E12\" rx=\"10\" ry=\"10\" style=\"stroke: #383838; stroke-width: 1.5;\" width=\"42\" x=\"438\" y=\"84\"/><text fill=\"#000000\" font-family=\"sans-serif\" font-size=\"12\" font-style=\"italic\" lengthAdjust=\"spacingAndGlyphs\" textLength=\"40\" x=\"439\" y=\"100.1387\">«part»</text><text fill=\"#000000\" font-family=\"sans-serif\" font-size=\"12\" lengthAdjust=\"spacingAndGlyphs\" textLength=\"22\" x=\"446\" y=\"114.1074\">x: A</text><line style=\"stroke: #383838; stroke-width: 1.5;\" x1=\"439\" x2=\"479\" y1=\"121.9375\" y2=\"121.9375\"/></a><!--MD5=[ee3c913d1a06f366521f9ef512b67efe]\n",
       "class E13--><a href=\"psysml:a1b35d80-8992-43c2-aa5d-6937f2901599\" target=\"_top\" title=\"psysml:a1b35d80-8992-43c2-aa5d-6937f2901599\" xlink:actuate=\"onRequest\" xlink:href=\"psysml:a1b35d80-8992-43c2-aa5d-6937f2901599\" xlink:show=\"new\" xlink:title=\"psysml:a1b35d80-8992-43c2-aa5d-6937f2901599\" xlink:type=\"simple\"><rect fill=\"#FFFFFF\" height=\"45.9375\" id=\"E13\" rx=\"10\" ry=\"10\" style=\"stroke: #383838; stroke-width: 1.5;\" width=\"42\" x=\"32\" y=\"84\"/><text fill=\"#000000\" font-family=\"sans-serif\" font-size=\"12\" font-style=\"italic\" lengthAdjust=\"spacingAndGlyphs\" textLength=\"40\" x=\"33\" y=\"100.1387\">«part»</text><text fill=\"#000000\" font-family=\"sans-serif\" font-size=\"12\" lengthAdjust=\"spacingAndGlyphs\" textLength=\"22\" x=\"40\" y=\"114.1074\">y: B</text><line style=\"stroke: #383838; stroke-width: 1.5;\" x1=\"33\" x2=\"73\" y1=\"121.9375\" y2=\"121.9375\"/></a><!--MD5=[09b614a08d8cba4a07c9adeb5e0fee81]\n",
       "class E3--><a href=\"psysml:8ceeee5f-0d5a-4279-aee9-7758649ab8be\" target=\"_top\" title=\"psysml:8ceeee5f-0d5a-4279-aee9-7758649ab8be\" xlink:actuate=\"onRequest\" xlink:href=\"psysml:8ceeee5f-0d5a-4279-aee9-7758649ab8be\" xlink:show=\"new\" xlink:title=\"psysml:8ceeee5f-0d5a-4279-aee9-7758649ab8be\" xlink:type=\"simple\"><rect fill=\"#FFFFFF\" height=\"45.9375\" id=\"E3\" style=\"stroke: #383838; stroke-width: 1.5;\" width=\"70\" x=\"347\" y=\"205\"/><text fill=\"#000000\" font-family=\"sans-serif\" font-size=\"12\" font-style=\"italic\" lengthAdjust=\"spacingAndGlyphs\" textLength=\"68\" x=\"348\" y=\"221.1387\">«part  def»</text><text fill=\"#000000\" font-family=\"sans-serif\" font-size=\"12\" lengthAdjust=\"spacingAndGlyphs\" textLength=\"8\" x=\"378\" y=\"235.1074\">A</text><line style=\"stroke: #383838; stroke-width: 1.5;\" x1=\"348\" x2=\"416\" y1=\"242.9375\" y2=\"242.9375\"/></a><!--MD5=[270fce915f116d4de14055a7c1d9a0f3]\n",
       "class E5--><a href=\"psysml:90844ba8-c1a9-4c46-b7c9-d1a2572e7365\" target=\"_top\" title=\"psysml:90844ba8-c1a9-4c46-b7c9-d1a2572e7365\" xlink:actuate=\"onRequest\" xlink:href=\"psysml:90844ba8-c1a9-4c46-b7c9-d1a2572e7365\" xlink:show=\"new\" xlink:title=\"psysml:90844ba8-c1a9-4c46-b7c9-d1a2572e7365\" xlink:type=\"simple\"><rect fill=\"#FFFFFF\" height=\"45.9375\" id=\"E5\" style=\"stroke: #383838; stroke-width: 1.5;\" width=\"70\" x=\"95\" y=\"205\"/><text fill=\"#000000\" font-family=\"sans-serif\" font-size=\"12\" font-style=\"italic\" lengthAdjust=\"spacingAndGlyphs\" textLength=\"68\" x=\"96\" y=\"221.1387\">«part  def»</text><text fill=\"#000000\" font-family=\"sans-serif\" font-size=\"12\" lengthAdjust=\"spacingAndGlyphs\" textLength=\"8\" x=\"126\" y=\"235.1074\">B</text><line style=\"stroke: #383838; stroke-width: 1.5;\" x1=\"96\" x2=\"164\" y1=\"242.9375\" y2=\"242.9375\"/></a><!--MD5=[2156ba9850f5573cc1fc38a6a4b2f02b]\n",
       "class E7--><a href=\"psysml:9a31b8cb-b3f5-4478-b49b-73e9fd0f6da5\" target=\"_top\" title=\"psysml:9a31b8cb-b3f5-4478-b49b-73e9fd0f6da5\" xlink:actuate=\"onRequest\" xlink:href=\"psysml:9a31b8cb-b3f5-4478-b49b-73e9fd0f6da5\" xlink:show=\"new\" xlink:title=\"psysml:9a31b8cb-b3f5-4478-b49b-73e9fd0f6da5\" xlink:type=\"simple\"><rect fill=\"#FFFFFF\" height=\"45.9375\" id=\"E7\" rx=\"10\" ry=\"10\" style=\"stroke: #383838; stroke-width: 1.5;\" width=\"42\" x=\"361\" y=\"84\"/><text fill=\"#000000\" font-family=\"sans-serif\" font-size=\"12\" font-style=\"italic\" lengthAdjust=\"spacingAndGlyphs\" textLength=\"40\" x=\"362\" y=\"100.1387\">«part»</text><text fill=\"#000000\" font-family=\"sans-serif\" font-size=\"12\" lengthAdjust=\"spacingAndGlyphs\" textLength=\"22\" x=\"369\" y=\"114.1074\">x: A</text><line style=\"stroke: #383838; stroke-width: 1.5;\" x1=\"362\" x2=\"402\" y1=\"121.9375\" y2=\"121.9375\"/></a><!--MD5=[b9389687b975829384b498ac4b7476b2]\n",
       "class E8--><a href=\"psysml:084cb86b-cc59-4a41-8b1c-7b7410cc5029\" target=\"_top\" title=\"psysml:084cb86b-cc59-4a41-8b1c-7b7410cc5029\" xlink:actuate=\"onRequest\" xlink:href=\"psysml:084cb86b-cc59-4a41-8b1c-7b7410cc5029\" xlink:show=\"new\" xlink:title=\"psysml:084cb86b-cc59-4a41-8b1c-7b7410cc5029\" xlink:type=\"simple\"><rect fill=\"#FFFFFF\" height=\"45.9375\" id=\"E8\" rx=\"10\" ry=\"10\" style=\"stroke: #383838; stroke-width: 1.5;\" width=\"42\" x=\"284\" y=\"84\"/><text fill=\"#000000\" font-family=\"sans-serif\" font-size=\"12\" font-style=\"italic\" lengthAdjust=\"spacingAndGlyphs\" textLength=\"40\" x=\"285\" y=\"100.1387\">«part»</text><text fill=\"#000000\" font-family=\"sans-serif\" font-size=\"12\" lengthAdjust=\"spacingAndGlyphs\" textLength=\"22\" x=\"292\" y=\"114.1074\">y: B</text><line style=\"stroke: #383838; stroke-width: 1.5;\" x1=\"285\" x2=\"325\" y1=\"121.9375\" y2=\"121.9375\"/></a><!--MD5=[96f4274e9e20536e775497830990834d]\n",
       "class E10--><a href=\"psysml:377a64d2-1aa6-4a9b-ba95-6aeb6c1d992f\" target=\"_top\" title=\"psysml:377a64d2-1aa6-4a9b-ba95-6aeb6c1d992f\" xlink:actuate=\"onRequest\" xlink:href=\"psysml:377a64d2-1aa6-4a9b-ba95-6aeb6c1d992f\" xlink:show=\"new\" xlink:title=\"psysml:377a64d2-1aa6-4a9b-ba95-6aeb6c1d992f\" xlink:type=\"simple\"><rect fill=\"#FFFFFF\" height=\"45.9375\" id=\"E10\" rx=\"10\" ry=\"10\" style=\"stroke: #383838; stroke-width: 1.5;\" width=\"42\" x=\"186\" y=\"84\"/><text fill=\"#000000\" font-family=\"sans-serif\" font-size=\"12\" font-style=\"italic\" lengthAdjust=\"spacingAndGlyphs\" textLength=\"40\" x=\"187\" y=\"100.1387\">«part»</text><text fill=\"#000000\" font-family=\"sans-serif\" font-size=\"12\" lengthAdjust=\"spacingAndGlyphs\" textLength=\"22\" x=\"194\" y=\"114.1074\">x: A</text><line style=\"stroke: #383838; stroke-width: 1.5;\" x1=\"187\" x2=\"227\" y1=\"121.9375\" y2=\"121.9375\"/></a><!--MD5=[1dd1bfd58a279cf63c5f349dbc8fc6a1]\n",
       "class E11--><a href=\"psysml:7cdd5db6-fbbe-4f9d-b259-3a085be4f068\" target=\"_top\" title=\"psysml:7cdd5db6-fbbe-4f9d-b259-3a085be4f068\" xlink:actuate=\"onRequest\" xlink:href=\"psysml:7cdd5db6-fbbe-4f9d-b259-3a085be4f068\" xlink:show=\"new\" xlink:title=\"psysml:7cdd5db6-fbbe-4f9d-b259-3a085be4f068\" xlink:type=\"simple\"><rect fill=\"#FFFFFF\" height=\"45.9375\" id=\"E11\" rx=\"10\" ry=\"10\" style=\"stroke: #383838; stroke-width: 1.5;\" width=\"42\" x=\"109\" y=\"84\"/><text fill=\"#000000\" font-family=\"sans-serif\" font-size=\"12\" font-style=\"italic\" lengthAdjust=\"spacingAndGlyphs\" textLength=\"40\" x=\"110\" y=\"100.1387\">«part»</text><text fill=\"#000000\" font-family=\"sans-serif\" font-size=\"12\" lengthAdjust=\"spacingAndGlyphs\" textLength=\"22\" x=\"117\" y=\"114.1074\">y: B</text><line style=\"stroke: #383838; stroke-width: 1.5;\" x1=\"110\" x2=\"150\" y1=\"121.9375\" y2=\"121.9375\"/></a><!--MD5=[14ccda38c055a5c0da953d572bc50960]\n",
       "link E7 to E3--><a href=\"psysml:0b2c7bde-3c6f-4711-9ee8-a744dba64aec\" target=\"_top\" title=\"psysml:0b2c7bde-3c6f-4711-9ee8-a744dba64aec\" xlink:actuate=\"onRequest\" xlink:href=\"psysml:0b2c7bde-3c6f-4711-9ee8-a744dba64aec\" xlink:show=\"new\" xlink:title=\"psysml:0b2c7bde-3c6f-4711-9ee8-a744dba64aec\" xlink:type=\"simple\"><path d=\"M382,130.1 C382,145.37 382,166.16 382,184.57 \" fill=\"none\" id=\"E7-&gt;E3\" style=\"stroke: #383838; stroke-width: 1.0;\"/><polygon fill=\"#FFFFFF\" points=\"382,204.61,375,185.61,389,185.61,382,204.61\" style=\"stroke: #383838; stroke-width: 1.0;\"/><ellipse cx=\"377\" cy=\"179.91\" fill=\"#383838\" rx=\"2\" ry=\"2\" style=\"stroke: #383838; stroke-width: 1.0;\"/><ellipse cx=\"387\" cy=\"179.91\" fill=\"#383838\" rx=\"2\" ry=\"2\" style=\"stroke: #383838; stroke-width: 1.0;\"/></a><!--MD5=[1ccb2481ffa92f8d51a74ee30c51832a]\n",
       "link E8 to E5--><a href=\"psysml:16eea2e1-2a1c-45c0-89dc-072c92b0db51\" target=\"_top\" title=\"psysml:16eea2e1-2a1c-45c0-89dc-072c92b0db51\" xlink:actuate=\"onRequest\" xlink:href=\"psysml:16eea2e1-2a1c-45c0-89dc-072c92b0db51\" xlink:show=\"new\" xlink:title=\"psysml:16eea2e1-2a1c-45c0-89dc-072c92b0db51\" xlink:type=\"simple\"><path d=\"M283.84,124.59 C272.23,133.52 257.5,144.61 244,154 C224.13,167.82 201.8,182.34 182.21,194.75 \" fill=\"none\" id=\"E8-&gt;E5\" style=\"stroke: #383838; stroke-width: 1.0;\"/><polygon fill=\"#FFFFFF\" points=\"165.13,205.48,177.4956,189.4459,184.9425,201.301,165.13,205.48\" style=\"stroke: #383838; stroke-width: 1.0;\"/><ellipse cx=\"183.3862\" cy=\"188.1075\" fill=\"#383838\" rx=\"2\" ry=\"2\" style=\"stroke: #383838; stroke-width: 1.0;\"/><ellipse cx=\"188.7054\" cy=\"196.5755\" fill=\"#383838\" rx=\"2\" ry=\"2\" style=\"stroke: #383838; stroke-width: 1.0;\"/></a><!--MD5=[feeac5eb423634930294aa81f2d25a4c]\n",
       "link E10 to E3--><a href=\"psysml:0ac0ff17-b961-483b-88a6-6c34531d2872\" target=\"_top\" title=\"psysml:0ac0ff17-b961-483b-88a6-6c34531d2872\" xlink:actuate=\"onRequest\" xlink:href=\"psysml:0ac0ff17-b961-483b-88a6-6c34531d2872\" xlink:show=\"new\" xlink:title=\"psysml:0ac0ff17-b961-483b-88a6-6c34531d2872\" xlink:type=\"simple\"><path d=\"M228.16,124.59 C239.77,133.52 254.5,144.61 268,154 C287.87,167.82 310.2,182.34 329.79,194.75 \" fill=\"none\" id=\"E10-&gt;E3\" style=\"stroke: #383838; stroke-width: 1.0;\"/><polygon fill=\"#FFFFFF\" points=\"346.87,205.48,327.0575,201.301,334.5044,189.4459,346.87,205.48\" style=\"stroke: #383838; stroke-width: 1.0;\"/><ellipse cx=\"323.2946\" cy=\"196.5755\" fill=\"#383838\" rx=\"2\" ry=\"2\" style=\"stroke: #383838; stroke-width: 1.0;\"/><ellipse cx=\"328.6138\" cy=\"188.1075\" fill=\"#383838\" rx=\"2\" ry=\"2\" style=\"stroke: #383838; stroke-width: 1.0;\"/></a><!--MD5=[07b77f6f309248d16187045709d1c26e]\n",
       "link E11 to E5--><a href=\"psysml:7353245a-aec5-4316-8af8-2852475c4dc4\" target=\"_top\" title=\"psysml:7353245a-aec5-4316-8af8-2852475c4dc4\" xlink:actuate=\"onRequest\" xlink:href=\"psysml:7353245a-aec5-4316-8af8-2852475c4dc4\" xlink:show=\"new\" xlink:title=\"psysml:7353245a-aec5-4316-8af8-2852475c4dc4\" xlink:type=\"simple\"><path d=\"M130,130.1 C130,145.37 130,166.16 130,184.57 \" fill=\"none\" id=\"E11-&gt;E5\" style=\"stroke: #383838; stroke-width: 1.0;\"/><polygon fill=\"#FFFFFF\" points=\"130,204.61,123,185.61,137,185.61,130,204.61\" style=\"stroke: #383838; stroke-width: 1.0;\"/><ellipse cx=\"125\" cy=\"179.91\" fill=\"#383838\" rx=\"2\" ry=\"2\" style=\"stroke: #383838; stroke-width: 1.0;\"/><ellipse cx=\"135\" cy=\"179.91\" fill=\"#383838\" rx=\"2\" ry=\"2\" style=\"stroke: #383838; stroke-width: 1.0;\"/></a><!--MD5=[39f41a0e550fb3d73b4d8135617e30a2]\n",
       "link E12 to E3--><a href=\"psysml:6cc10db6-ba98-48a2-919a-a7b34cb2bdfc\" target=\"_top\" title=\"psysml:6cc10db6-ba98-48a2-919a-a7b34cb2bdfc\" xlink:actuate=\"onRequest\" xlink:href=\"psysml:6cc10db6-ba98-48a2-919a-a7b34cb2bdfc\" xlink:show=\"new\" xlink:title=\"psysml:6cc10db6-ba98-48a2-919a-a7b34cb2bdfc\" xlink:type=\"simple\"><path d=\"M444.7,130.1 C434.28,146.2 419.89,168.44 407.53,187.55 \" fill=\"none\" id=\"E12-&gt;E3\" style=\"stroke: #383838; stroke-width: 1.0;\"/><polygon fill=\"#FFFFFF\" points=\"396.49,204.61,400.9313,184.8546,412.6866,192.4581,396.49,204.61\" style=\"stroke: #383838; stroke-width: 1.0;\"/><ellipse cx=\"405.7063\" cy=\"181.1547\" fill=\"#383838\" rx=\"2\" ry=\"2\" style=\"stroke: #383838; stroke-width: 1.0;\"/><ellipse cx=\"414.103\" cy=\"186.5858\" fill=\"#383838\" rx=\"2\" ry=\"2\" style=\"stroke: #383838; stroke-width: 1.0;\"/></a><!--MD5=[066b2d8af59fea80ccdb3d54ad5c1091]\n",
       "link E13 to E5--><a href=\"psysml:fb180b05-d2cf-42d1-bf2a-01829ad20206\" target=\"_top\" title=\"psysml:fb180b05-d2cf-42d1-bf2a-01829ad20206\" xlink:actuate=\"onRequest\" xlink:href=\"psysml:fb180b05-d2cf-42d1-bf2a-01829ad20206\" xlink:show=\"new\" xlink:title=\"psysml:fb180b05-d2cf-42d1-bf2a-01829ad20206\" xlink:type=\"simple\"><path d=\"M67.3,130.1 C77.72,146.2 92.11,168.44 104.47,187.55 \" fill=\"none\" id=\"E13-&gt;E5\" style=\"stroke: #383838; stroke-width: 1.0;\"/><polygon fill=\"#FFFFFF\" points=\"115.51,204.61,99.3134,192.4581,111.0687,184.8546,115.51,204.61\" style=\"stroke: #383838; stroke-width: 1.0;\"/><ellipse cx=\"97.897\" cy=\"186.5858\" fill=\"#383838\" rx=\"2\" ry=\"2\" style=\"stroke: #383838; stroke-width: 1.0;\"/><ellipse cx=\"106.2937\" cy=\"181.1547\" fill=\"#383838\" rx=\"2\" ry=\"2\" style=\"stroke: #383838; stroke-width: 1.0;\"/></a><!--MD5=[0f49fa551474742250834bdbf7110d0c]\n",
       "@startuml\r\n",
       "top to bottom direction\r\n",
       "skinparam monochrome true\r\n",
       "skinparam classbackgroundcolor white\r\n",
       "skinparam shadowing false\r\n",
       "skinparam wrapWidth 300\r\n",
       "hide circle\r\n",
       "\r\n",
       "package \"CircularImport\" as E1  [[psysml:6d002b47-1de9-4cb8-be5e-1d54cb7fff5c ]]  {\r\n",
       "package \"P1\" as E2  [[psysml:531dfa6c-428e-410a-a6f8-c5b9ff8ecb34 ]]  {\r\n",
       "comp def \"A\" as E3  <<(T,blue) part  def>> [[psysml:8ceeee5f-0d5a-4279-aee9-7758649ab8be ]] {\r\n",
       "}\r\n",
       "}\r\n",
       "package \"P2\" as E4  [[psysml:62a929fe-702a-4460-9e53-8584d6f6435e ]]  {\r\n",
       "comp def \"B\" as E5  <<(T,blue) part  def>> [[psysml:90844ba8-c1a9-4c46-b7c9-d1a2572e7365 ]] {\r\n",
       "}\r\n",
       "}\r\n",
       "package \"Test1\" as E6  [[psysml:0f17a3a9-0805-4d7f-ba6a-07da905c8abf ]]  {\r\n",
       "comp usage \"x: A \" as E7  <<(T,blue) part>> [[psysml:9a31b8cb-b3f5-4478-b49b-73e9fd0f6da5 ]] {\r\n",
       "}\r\n",
       "comp usage \"y: B \" as E8  <<(T,blue) part>> [[psysml:084cb86b-cc59-4a41-8b1c-7b7410cc5029 ]] {\r\n",
       "}\r\n",
       "}\r\n",
       "package \"Test2\" as E9  [[psysml:a06e7d3b-be80-4318-b479-ae1779c5974b ]]  {\r\n",
       "comp usage \"x: A \" as E10  <<(T,blue) part>> [[psysml:377a64d2-1aa6-4a9b-ba95-6aeb6c1d992f ]] {\r\n",
       "}\r\n",
       "comp usage \"y: B \" as E11  <<(T,blue) part>> [[psysml:7cdd5db6-fbbe-4f9d-b259-3a085be4f068 ]] {\r\n",
       "}\r\n",
       "}\r\n",
       "comp usage \"x: A \" as E12  <<(T,blue) part>> [[psysml:665d223a-8fea-436a-b414-0efd919424fb ]] {\r\n",
       "}\r\n",
       "comp usage \"y: B \" as E13  <<(T,blue) part>> [[psysml:a1b35d80-8992-43c2-aa5d-6937f2901599 ]] {\r\n",
       "}\r\n",
       "}\r\n",
       "E7 - -:|> E3 [[psysml:0b2c7bde-3c6f-4711-9ee8-a744dba64aec ]] \r\n",
       "E8 - -:|> E5 [[psysml:16eea2e1-2a1c-45c0-89dc-072c92b0db51 ]] \r\n",
       "E10 - -:|> E3 [[psysml:0ac0ff17-b961-483b-88a6-6c34531d2872 ]] \r\n",
       "E11 - -:|> E5 [[psysml:7353245a-aec5-4316-8af8-2852475c4dc4 ]] \r\n",
       "E12 - -:|> E3 [[psysml:6cc10db6-ba98-48a2-919a-a7b34cb2bdfc ]] \r\n",
       "E13 - -:|> E5 [[psysml:fb180b05-d2cf-42d1-bf2a-01829ad20206 ]] \r\n",
       "@enduml\r\n",
       "\n",
       "PlantUML version 1.2020.13(Sat Jun 13 12:26:38 UTC 2020)\n",
       "(EPL source distribution)\n",
       "Java Runtime: OpenJDK Runtime Environment\n",
       "JVM: OpenJDK 64-Bit Server VM\n",
       "Default Encoding: UTF-8\n",
       "Language: en\n",
       "Country: null\n",
       "--></g></svg>"
      ]
     },
     "execution_count": 50,
     "metadata": {},
     "output_type": "execute_result"
    }
   ],
   "source": [
    "%viz --style=\"TB\" --view=\"MIXED\" \"CircularImport\""
   ]
  },
  {
   "cell_type": "code",
   "execution_count": 51,
   "id": "089a9ff3",
   "metadata": {
    "execution": {
     "iopub.execute_input": "2021-12-15T15:15:40.182710Z",
     "iopub.status.busy": "2021-12-15T15:15:40.182321Z",
     "iopub.status.idle": "2021-12-15T15:15:40.218365Z",
     "shell.execute_reply": "2021-12-15T15:15:40.216455Z"
    }
   },
   "outputs": [
    {
     "data": {
      "image/svg+xml": [
       "<?xml version=\"1.0\" encoding=\"UTF-8\" standalone=\"no\"?><svg xmlns=\"http://www.w3.org/2000/svg\" xmlns:xlink=\"http://www.w3.org/1999/xlink\" contentScriptType=\"application/ecmascript\" contentStyleType=\"text/css\" height=\"303px\" preserveAspectRatio=\"none\" style=\"width:518px;height:303px;\" version=\"1.1\" viewBox=\"0 0 518 303\" width=\"518px\" zoomAndPan=\"magnify\"><defs/><g><!--MD5=[fbc87193dbaf4d95561dea2c320d4a47]\n",
       "cluster E1--><a href=\"psysml:6d002b47-1de9-4cb8-be5e-1d54cb7fff5c\" target=\"_top\" title=\"psysml:6d002b47-1de9-4cb8-be5e-1d54cb7fff5c\" xlink:actuate=\"onRequest\" xlink:href=\"psysml:6d002b47-1de9-4cb8-be5e-1d54cb7fff5c\" xlink:show=\"new\" xlink:title=\"psysml:6d002b47-1de9-4cb8-be5e-1d54cb7fff5c\" xlink:type=\"simple\"><polygon fill=\"#FFFFFF\" points=\"16,6,117,6,124,28.2969,496,28.2969,496,291,16,291,16,6\" style=\"stroke: #000000; stroke-width: 1.5;\"/><line style=\"stroke: #000000; stroke-width: 1.5;\" x1=\"16\" x2=\"124\" y1=\"28.2969\" y2=\"28.2969\"/><text fill=\"#000000\" font-family=\"sans-serif\" font-size=\"14\" font-weight=\"bold\" lengthAdjust=\"spacingAndGlyphs\" textLength=\"95\" x=\"20\" y=\"20.9951\">CircularImport</text></a><!--MD5=[e4f7fae6ed58524ba242bb0b0d3be6b7]\n",
       "cluster E2--><a href=\"psysml:531dfa6c-428e-410a-a6f8-c5b9ff8ecb34\" target=\"_top\" title=\"psysml:531dfa6c-428e-410a-a6f8-c5b9ff8ecb34\" xlink:actuate=\"onRequest\" xlink:href=\"psysml:531dfa6c-428e-410a-a6f8-c5b9ff8ecb34\" xlink:show=\"new\" xlink:title=\"psysml:531dfa6c-428e-410a-a6f8-c5b9ff8ecb34\" xlink:type=\"simple\"><polygon fill=\"#FFFFFF\" points=\"331,170,355,170,362,192.2969,433,192.2969,433,267,331,267,331,170\" style=\"stroke: #000000; stroke-width: 1.5;\"/><line style=\"stroke: #000000; stroke-width: 1.5;\" x1=\"331\" x2=\"362\" y1=\"192.2969\" y2=\"192.2969\"/><text fill=\"#000000\" font-family=\"sans-serif\" font-size=\"14\" font-weight=\"bold\" lengthAdjust=\"spacingAndGlyphs\" textLength=\"18\" x=\"335\" y=\"184.9951\">P1</text></a><!--MD5=[f6df4d0ebaf0b5dfb2ced0ae5af7c670]\n",
       "cluster E4--><a href=\"psysml:62a929fe-702a-4460-9e53-8584d6f6435e\" target=\"_top\" title=\"psysml:62a929fe-702a-4460-9e53-8584d6f6435e\" xlink:actuate=\"onRequest\" xlink:href=\"psysml:62a929fe-702a-4460-9e53-8584d6f6435e\" xlink:show=\"new\" xlink:title=\"psysml:62a929fe-702a-4460-9e53-8584d6f6435e\" xlink:type=\"simple\"><polygon fill=\"#FFFFFF\" points=\"79,170,103,170,110,192.2969,181,192.2969,181,267,79,267,79,170\" style=\"stroke: #000000; stroke-width: 1.5;\"/><line style=\"stroke: #000000; stroke-width: 1.5;\" x1=\"79\" x2=\"110\" y1=\"192.2969\" y2=\"192.2969\"/><text fill=\"#000000\" font-family=\"sans-serif\" font-size=\"14\" font-weight=\"bold\" lengthAdjust=\"spacingAndGlyphs\" textLength=\"18\" x=\"83\" y=\"184.9951\">P2</text></a><!--MD5=[14e3b0961a2654348d326746436168a1]\n",
       "cluster E6--><a href=\"psysml:0f17a3a9-0805-4d7f-ba6a-07da905c8abf\" target=\"_top\" title=\"psysml:0f17a3a9-0805-4d7f-ba6a-07da905c8abf\" xlink:actuate=\"onRequest\" xlink:href=\"psysml:0f17a3a9-0805-4d7f-ba6a-07da905c8abf\" xlink:show=\"new\" xlink:title=\"psysml:0f17a3a9-0805-4d7f-ba6a-07da905c8abf\" xlink:type=\"simple\"><polygon fill=\"#FFFFFF\" points=\"268,49,314,49,321,71.2969,419,71.2969,419,146,268,146,268,49\" style=\"stroke: #000000; stroke-width: 1.5;\"/><line style=\"stroke: #000000; stroke-width: 1.5;\" x1=\"268\" x2=\"321\" y1=\"71.2969\" y2=\"71.2969\"/><text fill=\"#000000\" font-family=\"sans-serif\" font-size=\"14\" font-weight=\"bold\" lengthAdjust=\"spacingAndGlyphs\" textLength=\"40\" x=\"272\" y=\"63.9951\">Test1</text></a><!--MD5=[7f149f147074ac12df2cb0a7728a5fb0]\n",
       "cluster E9--><a href=\"psysml:a06e7d3b-be80-4318-b479-ae1779c5974b\" target=\"_top\" title=\"psysml:a06e7d3b-be80-4318-b479-ae1779c5974b\" xlink:actuate=\"onRequest\" xlink:href=\"psysml:a06e7d3b-be80-4318-b479-ae1779c5974b\" xlink:show=\"new\" xlink:title=\"psysml:a06e7d3b-be80-4318-b479-ae1779c5974b\" xlink:type=\"simple\"><polygon fill=\"#FFFFFF\" points=\"93,49,139,49,146,71.2969,244,71.2969,244,146,93,146,93,49\" style=\"stroke: #000000; stroke-width: 1.5;\"/><line style=\"stroke: #000000; stroke-width: 1.5;\" x1=\"93\" x2=\"146\" y1=\"71.2969\" y2=\"71.2969\"/><text fill=\"#000000\" font-family=\"sans-serif\" font-size=\"14\" font-weight=\"bold\" lengthAdjust=\"spacingAndGlyphs\" textLength=\"40\" x=\"97\" y=\"63.9951\">Test2</text></a><!--MD5=[49a0ec8f00dab7302a31f22d0f0fe584]\n",
       "class E12--><a href=\"psysml:665d223a-8fea-436a-b414-0efd919424fb\" target=\"_top\" title=\"psysml:665d223a-8fea-436a-b414-0efd919424fb\" xlink:actuate=\"onRequest\" xlink:href=\"psysml:665d223a-8fea-436a-b414-0efd919424fb\" xlink:show=\"new\" xlink:title=\"psysml:665d223a-8fea-436a-b414-0efd919424fb\" xlink:type=\"simple\"><rect fill=\"#FFFFFF\" height=\"45.9375\" id=\"E12\" rx=\"10\" ry=\"10\" style=\"stroke: #383838; stroke-width: 1.5;\" width=\"42\" x=\"438\" y=\"84\"/><text fill=\"#000000\" font-family=\"sans-serif\" font-size=\"12\" font-style=\"italic\" lengthAdjust=\"spacingAndGlyphs\" textLength=\"40\" x=\"439\" y=\"100.1387\">«part»</text><text fill=\"#000000\" font-family=\"sans-serif\" font-size=\"12\" lengthAdjust=\"spacingAndGlyphs\" textLength=\"22\" x=\"446\" y=\"114.1074\">x: A</text><line style=\"stroke: #383838; stroke-width: 1.5;\" x1=\"439\" x2=\"479\" y1=\"121.9375\" y2=\"121.9375\"/></a><!--MD5=[ee3c913d1a06f366521f9ef512b67efe]\n",
       "class E13--><a href=\"psysml:a1b35d80-8992-43c2-aa5d-6937f2901599\" target=\"_top\" title=\"psysml:a1b35d80-8992-43c2-aa5d-6937f2901599\" xlink:actuate=\"onRequest\" xlink:href=\"psysml:a1b35d80-8992-43c2-aa5d-6937f2901599\" xlink:show=\"new\" xlink:title=\"psysml:a1b35d80-8992-43c2-aa5d-6937f2901599\" xlink:type=\"simple\"><rect fill=\"#FFFFFF\" height=\"45.9375\" id=\"E13\" rx=\"10\" ry=\"10\" style=\"stroke: #383838; stroke-width: 1.5;\" width=\"42\" x=\"32\" y=\"84\"/><text fill=\"#000000\" font-family=\"sans-serif\" font-size=\"12\" font-style=\"italic\" lengthAdjust=\"spacingAndGlyphs\" textLength=\"40\" x=\"33\" y=\"100.1387\">«part»</text><text fill=\"#000000\" font-family=\"sans-serif\" font-size=\"12\" lengthAdjust=\"spacingAndGlyphs\" textLength=\"22\" x=\"40\" y=\"114.1074\">y: B</text><line style=\"stroke: #383838; stroke-width: 1.5;\" x1=\"33\" x2=\"73\" y1=\"121.9375\" y2=\"121.9375\"/></a><!--MD5=[09b614a08d8cba4a07c9adeb5e0fee81]\n",
       "class E3--><a href=\"psysml:8ceeee5f-0d5a-4279-aee9-7758649ab8be\" target=\"_top\" title=\"psysml:8ceeee5f-0d5a-4279-aee9-7758649ab8be\" xlink:actuate=\"onRequest\" xlink:href=\"psysml:8ceeee5f-0d5a-4279-aee9-7758649ab8be\" xlink:show=\"new\" xlink:title=\"psysml:8ceeee5f-0d5a-4279-aee9-7758649ab8be\" xlink:type=\"simple\"><rect fill=\"#FFFFFF\" height=\"45.9375\" id=\"E3\" style=\"stroke: #383838; stroke-width: 1.5;\" width=\"70\" x=\"347\" y=\"205\"/><text fill=\"#000000\" font-family=\"sans-serif\" font-size=\"12\" font-style=\"italic\" lengthAdjust=\"spacingAndGlyphs\" textLength=\"68\" x=\"348\" y=\"221.1387\">«part  def»</text><text fill=\"#000000\" font-family=\"sans-serif\" font-size=\"12\" lengthAdjust=\"spacingAndGlyphs\" textLength=\"8\" x=\"378\" y=\"235.1074\">A</text><line style=\"stroke: #383838; stroke-width: 1.5;\" x1=\"348\" x2=\"416\" y1=\"242.9375\" y2=\"242.9375\"/></a><!--MD5=[270fce915f116d4de14055a7c1d9a0f3]\n",
       "class E5--><a href=\"psysml:90844ba8-c1a9-4c46-b7c9-d1a2572e7365\" target=\"_top\" title=\"psysml:90844ba8-c1a9-4c46-b7c9-d1a2572e7365\" xlink:actuate=\"onRequest\" xlink:href=\"psysml:90844ba8-c1a9-4c46-b7c9-d1a2572e7365\" xlink:show=\"new\" xlink:title=\"psysml:90844ba8-c1a9-4c46-b7c9-d1a2572e7365\" xlink:type=\"simple\"><rect fill=\"#FFFFFF\" height=\"45.9375\" id=\"E5\" style=\"stroke: #383838; stroke-width: 1.5;\" width=\"70\" x=\"95\" y=\"205\"/><text fill=\"#000000\" font-family=\"sans-serif\" font-size=\"12\" font-style=\"italic\" lengthAdjust=\"spacingAndGlyphs\" textLength=\"68\" x=\"96\" y=\"221.1387\">«part  def»</text><text fill=\"#000000\" font-family=\"sans-serif\" font-size=\"12\" lengthAdjust=\"spacingAndGlyphs\" textLength=\"8\" x=\"126\" y=\"235.1074\">B</text><line style=\"stroke: #383838; stroke-width: 1.5;\" x1=\"96\" x2=\"164\" y1=\"242.9375\" y2=\"242.9375\"/></a><!--MD5=[2156ba9850f5573cc1fc38a6a4b2f02b]\n",
       "class E7--><a href=\"psysml:9a31b8cb-b3f5-4478-b49b-73e9fd0f6da5\" target=\"_top\" title=\"psysml:9a31b8cb-b3f5-4478-b49b-73e9fd0f6da5\" xlink:actuate=\"onRequest\" xlink:href=\"psysml:9a31b8cb-b3f5-4478-b49b-73e9fd0f6da5\" xlink:show=\"new\" xlink:title=\"psysml:9a31b8cb-b3f5-4478-b49b-73e9fd0f6da5\" xlink:type=\"simple\"><rect fill=\"#FFFFFF\" height=\"45.9375\" id=\"E7\" rx=\"10\" ry=\"10\" style=\"stroke: #383838; stroke-width: 1.5;\" width=\"42\" x=\"361\" y=\"84\"/><text fill=\"#000000\" font-family=\"sans-serif\" font-size=\"12\" font-style=\"italic\" lengthAdjust=\"spacingAndGlyphs\" textLength=\"40\" x=\"362\" y=\"100.1387\">«part»</text><text fill=\"#000000\" font-family=\"sans-serif\" font-size=\"12\" lengthAdjust=\"spacingAndGlyphs\" textLength=\"22\" x=\"369\" y=\"114.1074\">x: A</text><line style=\"stroke: #383838; stroke-width: 1.5;\" x1=\"362\" x2=\"402\" y1=\"121.9375\" y2=\"121.9375\"/></a><!--MD5=[b9389687b975829384b498ac4b7476b2]\n",
       "class E8--><a href=\"psysml:084cb86b-cc59-4a41-8b1c-7b7410cc5029\" target=\"_top\" title=\"psysml:084cb86b-cc59-4a41-8b1c-7b7410cc5029\" xlink:actuate=\"onRequest\" xlink:href=\"psysml:084cb86b-cc59-4a41-8b1c-7b7410cc5029\" xlink:show=\"new\" xlink:title=\"psysml:084cb86b-cc59-4a41-8b1c-7b7410cc5029\" xlink:type=\"simple\"><rect fill=\"#FFFFFF\" height=\"45.9375\" id=\"E8\" rx=\"10\" ry=\"10\" style=\"stroke: #383838; stroke-width: 1.5;\" width=\"42\" x=\"284\" y=\"84\"/><text fill=\"#000000\" font-family=\"sans-serif\" font-size=\"12\" font-style=\"italic\" lengthAdjust=\"spacingAndGlyphs\" textLength=\"40\" x=\"285\" y=\"100.1387\">«part»</text><text fill=\"#000000\" font-family=\"sans-serif\" font-size=\"12\" lengthAdjust=\"spacingAndGlyphs\" textLength=\"22\" x=\"292\" y=\"114.1074\">y: B</text><line style=\"stroke: #383838; stroke-width: 1.5;\" x1=\"285\" x2=\"325\" y1=\"121.9375\" y2=\"121.9375\"/></a><!--MD5=[96f4274e9e20536e775497830990834d]\n",
       "class E10--><a href=\"psysml:377a64d2-1aa6-4a9b-ba95-6aeb6c1d992f\" target=\"_top\" title=\"psysml:377a64d2-1aa6-4a9b-ba95-6aeb6c1d992f\" xlink:actuate=\"onRequest\" xlink:href=\"psysml:377a64d2-1aa6-4a9b-ba95-6aeb6c1d992f\" xlink:show=\"new\" xlink:title=\"psysml:377a64d2-1aa6-4a9b-ba95-6aeb6c1d992f\" xlink:type=\"simple\"><rect fill=\"#FFFFFF\" height=\"45.9375\" id=\"E10\" rx=\"10\" ry=\"10\" style=\"stroke: #383838; stroke-width: 1.5;\" width=\"42\" x=\"186\" y=\"84\"/><text fill=\"#000000\" font-family=\"sans-serif\" font-size=\"12\" font-style=\"italic\" lengthAdjust=\"spacingAndGlyphs\" textLength=\"40\" x=\"187\" y=\"100.1387\">«part»</text><text fill=\"#000000\" font-family=\"sans-serif\" font-size=\"12\" lengthAdjust=\"spacingAndGlyphs\" textLength=\"22\" x=\"194\" y=\"114.1074\">x: A</text><line style=\"stroke: #383838; stroke-width: 1.5;\" x1=\"187\" x2=\"227\" y1=\"121.9375\" y2=\"121.9375\"/></a><!--MD5=[1dd1bfd58a279cf63c5f349dbc8fc6a1]\n",
       "class E11--><a href=\"psysml:7cdd5db6-fbbe-4f9d-b259-3a085be4f068\" target=\"_top\" title=\"psysml:7cdd5db6-fbbe-4f9d-b259-3a085be4f068\" xlink:actuate=\"onRequest\" xlink:href=\"psysml:7cdd5db6-fbbe-4f9d-b259-3a085be4f068\" xlink:show=\"new\" xlink:title=\"psysml:7cdd5db6-fbbe-4f9d-b259-3a085be4f068\" xlink:type=\"simple\"><rect fill=\"#FFFFFF\" height=\"45.9375\" id=\"E11\" rx=\"10\" ry=\"10\" style=\"stroke: #383838; stroke-width: 1.5;\" width=\"42\" x=\"109\" y=\"84\"/><text fill=\"#000000\" font-family=\"sans-serif\" font-size=\"12\" font-style=\"italic\" lengthAdjust=\"spacingAndGlyphs\" textLength=\"40\" x=\"110\" y=\"100.1387\">«part»</text><text fill=\"#000000\" font-family=\"sans-serif\" font-size=\"12\" lengthAdjust=\"spacingAndGlyphs\" textLength=\"22\" x=\"117\" y=\"114.1074\">y: B</text><line style=\"stroke: #383838; stroke-width: 1.5;\" x1=\"110\" x2=\"150\" y1=\"121.9375\" y2=\"121.9375\"/></a><!--MD5=[14ccda38c055a5c0da953d572bc50960]\n",
       "link E7 to E3--><a href=\"psysml:0b2c7bde-3c6f-4711-9ee8-a744dba64aec\" target=\"_top\" title=\"psysml:0b2c7bde-3c6f-4711-9ee8-a744dba64aec\" xlink:actuate=\"onRequest\" xlink:href=\"psysml:0b2c7bde-3c6f-4711-9ee8-a744dba64aec\" xlink:show=\"new\" xlink:title=\"psysml:0b2c7bde-3c6f-4711-9ee8-a744dba64aec\" xlink:type=\"simple\"><path d=\"M382,130.04 C382,130.04 382,184.63 382,184.63 \" fill=\"none\" id=\"E7-&gt;E3\" style=\"stroke: #383838; stroke-width: 1.0;\"/><polygon fill=\"#FFFFFF\" points=\"382,204.63,375,185.63,389,185.63,382,204.63\" style=\"stroke: #383838; stroke-width: 1.0;\"/><ellipse cx=\"377\" cy=\"179.93\" fill=\"#383838\" rx=\"2\" ry=\"2\" style=\"stroke: #383838; stroke-width: 1.0;\"/><ellipse cx=\"387\" cy=\"179.93\" fill=\"#383838\" rx=\"2\" ry=\"2\" style=\"stroke: #383838; stroke-width: 1.0;\"/></a><!--MD5=[1ccb2481ffa92f8d51a74ee30c51832a]\n",
       "link E8 to E5--><a href=\"psysml:16eea2e1-2a1c-45c0-89dc-072c92b0db51\" target=\"_top\" title=\"psysml:16eea2e1-2a1c-45c0-89dc-072c92b0db51\" xlink:actuate=\"onRequest\" xlink:href=\"psysml:16eea2e1-2a1c-45c0-89dc-072c92b0db51\" xlink:show=\"new\" xlink:title=\"psysml:16eea2e1-2a1c-45c0-89dc-072c92b0db51\" xlink:type=\"simple\"><path d=\"M305,130.06 C305,167.17 305,236 305,236 C305,236 185.41,236 185.41,236 \" fill=\"none\" id=\"E8-&gt;E5\" style=\"stroke: #383838; stroke-width: 1.0;\"/><polygon fill=\"#FFFFFF\" points=\"165.41,236,184.41,229,184.41,243,165.41,236\" style=\"stroke: #383838; stroke-width: 1.0;\"/><ellipse cx=\"190.11\" cy=\"231\" fill=\"#383838\" rx=\"2\" ry=\"2\" style=\"stroke: #383838; stroke-width: 1.0;\"/><ellipse cx=\"190.11\" cy=\"241\" fill=\"#383838\" rx=\"2\" ry=\"2\" style=\"stroke: #383838; stroke-width: 1.0;\"/></a><!--MD5=[feeac5eb423634930294aa81f2d25a4c]\n",
       "link E10 to E3--><a href=\"psysml:0ac0ff17-b961-483b-88a6-6c34531d2872\" target=\"_top\" title=\"psysml:0ac0ff17-b961-483b-88a6-6c34531d2872\" xlink:actuate=\"onRequest\" xlink:href=\"psysml:0ac0ff17-b961-483b-88a6-6c34531d2872\" xlink:show=\"new\" xlink:title=\"psysml:0ac0ff17-b961-483b-88a6-6c34531d2872\" xlink:type=\"simple\"><path d=\"M207,130.07 C207,163.38 207,221 207,221 C207,221 326.59,221 326.59,221 \" fill=\"none\" id=\"E10-&gt;E3\" style=\"stroke: #383838; stroke-width: 1.0;\"/><polygon fill=\"#FFFFFF\" points=\"346.59,221,327.59,228,327.59,214,346.59,221\" style=\"stroke: #383838; stroke-width: 1.0;\"/><ellipse cx=\"321.89\" cy=\"226\" fill=\"#383838\" rx=\"2\" ry=\"2\" style=\"stroke: #383838; stroke-width: 1.0;\"/><ellipse cx=\"321.89\" cy=\"216\" fill=\"#383838\" rx=\"2\" ry=\"2\" style=\"stroke: #383838; stroke-width: 1.0;\"/></a><!--MD5=[07b77f6f309248d16187045709d1c26e]\n",
       "link E11 to E5--><a href=\"psysml:7353245a-aec5-4316-8af8-2852475c4dc4\" target=\"_top\" title=\"psysml:7353245a-aec5-4316-8af8-2852475c4dc4\" xlink:actuate=\"onRequest\" xlink:href=\"psysml:7353245a-aec5-4316-8af8-2852475c4dc4\" xlink:show=\"new\" xlink:title=\"psysml:7353245a-aec5-4316-8af8-2852475c4dc4\" xlink:type=\"simple\"><path d=\"M130,130.04 C130,130.04 130,184.63 130,184.63 \" fill=\"none\" id=\"E11-&gt;E5\" style=\"stroke: #383838; stroke-width: 1.0;\"/><polygon fill=\"#FFFFFF\" points=\"130,204.63,123,185.63,137,185.63,130,204.63\" style=\"stroke: #383838; stroke-width: 1.0;\"/><ellipse cx=\"125\" cy=\"179.93\" fill=\"#383838\" rx=\"2\" ry=\"2\" style=\"stroke: #383838; stroke-width: 1.0;\"/><ellipse cx=\"135\" cy=\"179.93\" fill=\"#383838\" rx=\"2\" ry=\"2\" style=\"stroke: #383838; stroke-width: 1.0;\"/></a><!--MD5=[39f41a0e550fb3d73b4d8135617e30a2]\n",
       "link E12 to E3--><a href=\"psysml:6cc10db6-ba98-48a2-919a-a7b34cb2bdfc\" target=\"_top\" title=\"psysml:6cc10db6-ba98-48a2-919a-a7b34cb2bdfc\" xlink:actuate=\"onRequest\" xlink:href=\"psysml:6cc10db6-ba98-48a2-919a-a7b34cb2bdfc\" xlink:show=\"new\" xlink:title=\"psysml:6cc10db6-ba98-48a2-919a-a7b34cb2bdfc\" xlink:type=\"simple\"><path d=\"M437.94,107 C424.65,107 410,107 410,107 C410,107 410,184.96 410,184.96 \" fill=\"none\" id=\"E12-&gt;E3\" style=\"stroke: #383838; stroke-width: 1.0;\"/><polygon fill=\"#FFFFFF\" points=\"410,204.96,403,185.96,417,185.96,410,204.96\" style=\"stroke: #383838; stroke-width: 1.0;\"/><ellipse cx=\"405\" cy=\"180.26\" fill=\"#383838\" rx=\"2\" ry=\"2\" style=\"stroke: #383838; stroke-width: 1.0;\"/><ellipse cx=\"415\" cy=\"180.26\" fill=\"#383838\" rx=\"2\" ry=\"2\" style=\"stroke: #383838; stroke-width: 1.0;\"/></a><!--MD5=[066b2d8af59fea80ccdb3d54ad5c1091]\n",
       "link E13 to E5--><a href=\"psysml:fb180b05-d2cf-42d1-bf2a-01829ad20206\" target=\"_top\" title=\"psysml:fb180b05-d2cf-42d1-bf2a-01829ad20206\" xlink:actuate=\"onRequest\" xlink:href=\"psysml:fb180b05-d2cf-42d1-bf2a-01829ad20206\" xlink:show=\"new\" xlink:title=\"psysml:fb180b05-d2cf-42d1-bf2a-01829ad20206\" xlink:type=\"simple\"><path d=\"M74.06,107 C87.35,107 102,107 102,107 C102,107 102,184.96 102,184.96 \" fill=\"none\" id=\"E13-&gt;E5\" style=\"stroke: #383838; stroke-width: 1.0;\"/><polygon fill=\"#FFFFFF\" points=\"102,204.96,95,185.96,109,185.96,102,204.96\" style=\"stroke: #383838; stroke-width: 1.0;\"/><ellipse cx=\"97\" cy=\"180.26\" fill=\"#383838\" rx=\"2\" ry=\"2\" style=\"stroke: #383838; stroke-width: 1.0;\"/><ellipse cx=\"107\" cy=\"180.26\" fill=\"#383838\" rx=\"2\" ry=\"2\" style=\"stroke: #383838; stroke-width: 1.0;\"/></a><!--MD5=[67fbfb107f247382799e40b73f783865]\n",
       "@startuml\r\n",
       "skinparam linetype ortho\r\n",
       "skinparam monochrome true\r\n",
       "skinparam classbackgroundcolor white\r\n",
       "skinparam shadowing false\r\n",
       "skinparam wrapWidth 300\r\n",
       "hide circle\r\n",
       "\r\n",
       "package \"CircularImport\" as E1  [[psysml:6d002b47-1de9-4cb8-be5e-1d54cb7fff5c ]]  {\r\n",
       "package \"P1\" as E2  [[psysml:531dfa6c-428e-410a-a6f8-c5b9ff8ecb34 ]]  {\r\n",
       "comp def \"A\" as E3  <<(T,blue) part  def>> [[psysml:8ceeee5f-0d5a-4279-aee9-7758649ab8be ]] {\r\n",
       "}\r\n",
       "}\r\n",
       "package \"P2\" as E4  [[psysml:62a929fe-702a-4460-9e53-8584d6f6435e ]]  {\r\n",
       "comp def \"B\" as E5  <<(T,blue) part  def>> [[psysml:90844ba8-c1a9-4c46-b7c9-d1a2572e7365 ]] {\r\n",
       "}\r\n",
       "}\r\n",
       "package \"Test1\" as E6  [[psysml:0f17a3a9-0805-4d7f-ba6a-07da905c8abf ]]  {\r\n",
       "comp usage \"x: A \" as E7  <<(T,blue) part>> [[psysml:9a31b8cb-b3f5-4478-b49b-73e9fd0f6da5 ]] {\r\n",
       "}\r\n",
       "comp usage \"y: B \" as E8  <<(T,blue) part>> [[psysml:084cb86b-cc59-4a41-8b1c-7b7410cc5029 ]] {\r\n",
       "}\r\n",
       "}\r\n",
       "package \"Test2\" as E9  [[psysml:a06e7d3b-be80-4318-b479-ae1779c5974b ]]  {\r\n",
       "comp usage \"x: A \" as E10  <<(T,blue) part>> [[psysml:377a64d2-1aa6-4a9b-ba95-6aeb6c1d992f ]] {\r\n",
       "}\r\n",
       "comp usage \"y: B \" as E11  <<(T,blue) part>> [[psysml:7cdd5db6-fbbe-4f9d-b259-3a085be4f068 ]] {\r\n",
       "}\r\n",
       "}\r\n",
       "comp usage \"x: A \" as E12  <<(T,blue) part>> [[psysml:665d223a-8fea-436a-b414-0efd919424fb ]] {\r\n",
       "}\r\n",
       "comp usage \"y: B \" as E13  <<(T,blue) part>> [[psysml:a1b35d80-8992-43c2-aa5d-6937f2901599 ]] {\r\n",
       "}\r\n",
       "}\r\n",
       "E7 - -:|> E3 [[psysml:0b2c7bde-3c6f-4711-9ee8-a744dba64aec ]] \r\n",
       "E8 - -:|> E5 [[psysml:16eea2e1-2a1c-45c0-89dc-072c92b0db51 ]] \r\n",
       "E10 - -:|> E3 [[psysml:0ac0ff17-b961-483b-88a6-6c34531d2872 ]] \r\n",
       "E11 - -:|> E5 [[psysml:7353245a-aec5-4316-8af8-2852475c4dc4 ]] \r\n",
       "E12 - -:|> E3 [[psysml:6cc10db6-ba98-48a2-919a-a7b34cb2bdfc ]] \r\n",
       "E13 - -:|> E5 [[psysml:fb180b05-d2cf-42d1-bf2a-01829ad20206 ]] \r\n",
       "@enduml\r\n",
       "\n",
       "PlantUML version 1.2020.13(Sat Jun 13 12:26:38 UTC 2020)\n",
       "(EPL source distribution)\n",
       "Java Runtime: OpenJDK Runtime Environment\n",
       "JVM: OpenJDK 64-Bit Server VM\n",
       "Default Encoding: UTF-8\n",
       "Language: en\n",
       "Country: null\n",
       "--></g></svg>"
      ]
     },
     "execution_count": 51,
     "metadata": {},
     "output_type": "execute_result"
    }
   ],
   "source": [
    "%viz --style=\"ORTHOLINE\" --view=\"Default\" \"CircularImport\""
   ]
  },
  {
   "cell_type": "code",
   "execution_count": 52,
   "id": "b725ef99",
   "metadata": {
    "execution": {
     "iopub.execute_input": "2021-12-15T15:15:40.267048Z",
     "iopub.status.busy": "2021-12-15T15:15:40.266634Z",
     "iopub.status.idle": "2021-12-15T15:15:40.299774Z",
     "shell.execute_reply": "2021-12-15T15:15:40.297888Z"
    }
   },
   "outputs": [
    {
     "data": {
      "image/svg+xml": [
       "<?xml version=\"1.0\" encoding=\"UTF-8\" standalone=\"no\"?><svg xmlns=\"http://www.w3.org/2000/svg\" xmlns:xlink=\"http://www.w3.org/1999/xlink\" contentScriptType=\"application/ecmascript\" contentStyleType=\"text/css\" height=\"303px\" preserveAspectRatio=\"none\" style=\"width:518px;height:303px;\" version=\"1.1\" viewBox=\"0 0 518 303\" width=\"518px\" zoomAndPan=\"magnify\"><defs/><g><!--MD5=[fbc87193dbaf4d95561dea2c320d4a47]\n",
       "cluster E1--><a href=\"psysml:6d002b47-1de9-4cb8-be5e-1d54cb7fff5c\" target=\"_top\" title=\"psysml:6d002b47-1de9-4cb8-be5e-1d54cb7fff5c\" xlink:actuate=\"onRequest\" xlink:href=\"psysml:6d002b47-1de9-4cb8-be5e-1d54cb7fff5c\" xlink:show=\"new\" xlink:title=\"psysml:6d002b47-1de9-4cb8-be5e-1d54cb7fff5c\" xlink:type=\"simple\"><polygon fill=\"#FFFFFF\" points=\"16,6,117,6,124,28.2969,496,28.2969,496,291,16,291,16,6\" style=\"stroke: #000000; stroke-width: 1.5;\"/><line style=\"stroke: #000000; stroke-width: 1.5;\" x1=\"16\" x2=\"124\" y1=\"28.2969\" y2=\"28.2969\"/><text fill=\"#000000\" font-family=\"sans-serif\" font-size=\"14\" font-weight=\"bold\" lengthAdjust=\"spacingAndGlyphs\" textLength=\"95\" x=\"20\" y=\"20.9951\">CircularImport</text></a><!--MD5=[e4f7fae6ed58524ba242bb0b0d3be6b7]\n",
       "cluster E2--><a href=\"psysml:531dfa6c-428e-410a-a6f8-c5b9ff8ecb34\" target=\"_top\" title=\"psysml:531dfa6c-428e-410a-a6f8-c5b9ff8ecb34\" xlink:actuate=\"onRequest\" xlink:href=\"psysml:531dfa6c-428e-410a-a6f8-c5b9ff8ecb34\" xlink:show=\"new\" xlink:title=\"psysml:531dfa6c-428e-410a-a6f8-c5b9ff8ecb34\" xlink:type=\"simple\"><polygon fill=\"#FFFFFF\" points=\"331,170,355,170,362,192.2969,433,192.2969,433,267,331,267,331,170\" style=\"stroke: #000000; stroke-width: 1.5;\"/><line style=\"stroke: #000000; stroke-width: 1.5;\" x1=\"331\" x2=\"362\" y1=\"192.2969\" y2=\"192.2969\"/><text fill=\"#000000\" font-family=\"sans-serif\" font-size=\"14\" font-weight=\"bold\" lengthAdjust=\"spacingAndGlyphs\" textLength=\"18\" x=\"335\" y=\"184.9951\">P1</text></a><!--MD5=[f6df4d0ebaf0b5dfb2ced0ae5af7c670]\n",
       "cluster E4--><a href=\"psysml:62a929fe-702a-4460-9e53-8584d6f6435e\" target=\"_top\" title=\"psysml:62a929fe-702a-4460-9e53-8584d6f6435e\" xlink:actuate=\"onRequest\" xlink:href=\"psysml:62a929fe-702a-4460-9e53-8584d6f6435e\" xlink:show=\"new\" xlink:title=\"psysml:62a929fe-702a-4460-9e53-8584d6f6435e\" xlink:type=\"simple\"><polygon fill=\"#FFFFFF\" points=\"79,170,103,170,110,192.2969,181,192.2969,181,267,79,267,79,170\" style=\"stroke: #000000; stroke-width: 1.5;\"/><line style=\"stroke: #000000; stroke-width: 1.5;\" x1=\"79\" x2=\"110\" y1=\"192.2969\" y2=\"192.2969\"/><text fill=\"#000000\" font-family=\"sans-serif\" font-size=\"14\" font-weight=\"bold\" lengthAdjust=\"spacingAndGlyphs\" textLength=\"18\" x=\"83\" y=\"184.9951\">P2</text></a><!--MD5=[14e3b0961a2654348d326746436168a1]\n",
       "cluster E6--><a href=\"psysml:0f17a3a9-0805-4d7f-ba6a-07da905c8abf\" target=\"_top\" title=\"psysml:0f17a3a9-0805-4d7f-ba6a-07da905c8abf\" xlink:actuate=\"onRequest\" xlink:href=\"psysml:0f17a3a9-0805-4d7f-ba6a-07da905c8abf\" xlink:show=\"new\" xlink:title=\"psysml:0f17a3a9-0805-4d7f-ba6a-07da905c8abf\" xlink:type=\"simple\"><polygon fill=\"#FFFFFF\" points=\"268,49,314,49,321,71.2969,419,71.2969,419,146,268,146,268,49\" style=\"stroke: #000000; stroke-width: 1.5;\"/><line style=\"stroke: #000000; stroke-width: 1.5;\" x1=\"268\" x2=\"321\" y1=\"71.2969\" y2=\"71.2969\"/><text fill=\"#000000\" font-family=\"sans-serif\" font-size=\"14\" font-weight=\"bold\" lengthAdjust=\"spacingAndGlyphs\" textLength=\"40\" x=\"272\" y=\"63.9951\">Test1</text></a><!--MD5=[7f149f147074ac12df2cb0a7728a5fb0]\n",
       "cluster E9--><a href=\"psysml:a06e7d3b-be80-4318-b479-ae1779c5974b\" target=\"_top\" title=\"psysml:a06e7d3b-be80-4318-b479-ae1779c5974b\" xlink:actuate=\"onRequest\" xlink:href=\"psysml:a06e7d3b-be80-4318-b479-ae1779c5974b\" xlink:show=\"new\" xlink:title=\"psysml:a06e7d3b-be80-4318-b479-ae1779c5974b\" xlink:type=\"simple\"><polygon fill=\"#FFFFFF\" points=\"93,49,139,49,146,71.2969,244,71.2969,244,146,93,146,93,49\" style=\"stroke: #000000; stroke-width: 1.5;\"/><line style=\"stroke: #000000; stroke-width: 1.5;\" x1=\"93\" x2=\"146\" y1=\"71.2969\" y2=\"71.2969\"/><text fill=\"#000000\" font-family=\"sans-serif\" font-size=\"14\" font-weight=\"bold\" lengthAdjust=\"spacingAndGlyphs\" textLength=\"40\" x=\"97\" y=\"63.9951\">Test2</text></a><!--MD5=[49a0ec8f00dab7302a31f22d0f0fe584]\n",
       "class E12--><a href=\"psysml:665d223a-8fea-436a-b414-0efd919424fb\" target=\"_top\" title=\"psysml:665d223a-8fea-436a-b414-0efd919424fb\" xlink:actuate=\"onRequest\" xlink:href=\"psysml:665d223a-8fea-436a-b414-0efd919424fb\" xlink:show=\"new\" xlink:title=\"psysml:665d223a-8fea-436a-b414-0efd919424fb\" xlink:type=\"simple\"><rect fill=\"#FFFFFF\" height=\"45.9375\" id=\"E12\" rx=\"10\" ry=\"10\" style=\"stroke: #383838; stroke-width: 1.5;\" width=\"42\" x=\"438\" y=\"84\"/><text fill=\"#000000\" font-family=\"sans-serif\" font-size=\"12\" font-style=\"italic\" lengthAdjust=\"spacingAndGlyphs\" textLength=\"40\" x=\"439\" y=\"100.1387\">«part»</text><text fill=\"#000000\" font-family=\"sans-serif\" font-size=\"12\" lengthAdjust=\"spacingAndGlyphs\" textLength=\"22\" x=\"446\" y=\"114.1074\">x: A</text><line style=\"stroke: #383838; stroke-width: 1.5;\" x1=\"439\" x2=\"479\" y1=\"121.9375\" y2=\"121.9375\"/></a><!--MD5=[ee3c913d1a06f366521f9ef512b67efe]\n",
       "class E13--><a href=\"psysml:a1b35d80-8992-43c2-aa5d-6937f2901599\" target=\"_top\" title=\"psysml:a1b35d80-8992-43c2-aa5d-6937f2901599\" xlink:actuate=\"onRequest\" xlink:href=\"psysml:a1b35d80-8992-43c2-aa5d-6937f2901599\" xlink:show=\"new\" xlink:title=\"psysml:a1b35d80-8992-43c2-aa5d-6937f2901599\" xlink:type=\"simple\"><rect fill=\"#FFFFFF\" height=\"45.9375\" id=\"E13\" rx=\"10\" ry=\"10\" style=\"stroke: #383838; stroke-width: 1.5;\" width=\"42\" x=\"32\" y=\"84\"/><text fill=\"#000000\" font-family=\"sans-serif\" font-size=\"12\" font-style=\"italic\" lengthAdjust=\"spacingAndGlyphs\" textLength=\"40\" x=\"33\" y=\"100.1387\">«part»</text><text fill=\"#000000\" font-family=\"sans-serif\" font-size=\"12\" lengthAdjust=\"spacingAndGlyphs\" textLength=\"22\" x=\"40\" y=\"114.1074\">y: B</text><line style=\"stroke: #383838; stroke-width: 1.5;\" x1=\"33\" x2=\"73\" y1=\"121.9375\" y2=\"121.9375\"/></a><!--MD5=[09b614a08d8cba4a07c9adeb5e0fee81]\n",
       "class E3--><a href=\"psysml:8ceeee5f-0d5a-4279-aee9-7758649ab8be\" target=\"_top\" title=\"psysml:8ceeee5f-0d5a-4279-aee9-7758649ab8be\" xlink:actuate=\"onRequest\" xlink:href=\"psysml:8ceeee5f-0d5a-4279-aee9-7758649ab8be\" xlink:show=\"new\" xlink:title=\"psysml:8ceeee5f-0d5a-4279-aee9-7758649ab8be\" xlink:type=\"simple\"><rect fill=\"#FFFFFF\" height=\"45.9375\" id=\"E3\" style=\"stroke: #383838; stroke-width: 1.5;\" width=\"70\" x=\"347\" y=\"205\"/><text fill=\"#000000\" font-family=\"sans-serif\" font-size=\"12\" font-style=\"italic\" lengthAdjust=\"spacingAndGlyphs\" textLength=\"68\" x=\"348\" y=\"221.1387\">«part  def»</text><text fill=\"#000000\" font-family=\"sans-serif\" font-size=\"12\" lengthAdjust=\"spacingAndGlyphs\" textLength=\"8\" x=\"378\" y=\"235.1074\">A</text><line style=\"stroke: #383838; stroke-width: 1.5;\" x1=\"348\" x2=\"416\" y1=\"242.9375\" y2=\"242.9375\"/></a><!--MD5=[270fce915f116d4de14055a7c1d9a0f3]\n",
       "class E5--><a href=\"psysml:90844ba8-c1a9-4c46-b7c9-d1a2572e7365\" target=\"_top\" title=\"psysml:90844ba8-c1a9-4c46-b7c9-d1a2572e7365\" xlink:actuate=\"onRequest\" xlink:href=\"psysml:90844ba8-c1a9-4c46-b7c9-d1a2572e7365\" xlink:show=\"new\" xlink:title=\"psysml:90844ba8-c1a9-4c46-b7c9-d1a2572e7365\" xlink:type=\"simple\"><rect fill=\"#FFFFFF\" height=\"45.9375\" id=\"E5\" style=\"stroke: #383838; stroke-width: 1.5;\" width=\"70\" x=\"95\" y=\"205\"/><text fill=\"#000000\" font-family=\"sans-serif\" font-size=\"12\" font-style=\"italic\" lengthAdjust=\"spacingAndGlyphs\" textLength=\"68\" x=\"96\" y=\"221.1387\">«part  def»</text><text fill=\"#000000\" font-family=\"sans-serif\" font-size=\"12\" lengthAdjust=\"spacingAndGlyphs\" textLength=\"8\" x=\"126\" y=\"235.1074\">B</text><line style=\"stroke: #383838; stroke-width: 1.5;\" x1=\"96\" x2=\"164\" y1=\"242.9375\" y2=\"242.9375\"/></a><!--MD5=[2156ba9850f5573cc1fc38a6a4b2f02b]\n",
       "class E7--><a href=\"psysml:9a31b8cb-b3f5-4478-b49b-73e9fd0f6da5\" target=\"_top\" title=\"psysml:9a31b8cb-b3f5-4478-b49b-73e9fd0f6da5\" xlink:actuate=\"onRequest\" xlink:href=\"psysml:9a31b8cb-b3f5-4478-b49b-73e9fd0f6da5\" xlink:show=\"new\" xlink:title=\"psysml:9a31b8cb-b3f5-4478-b49b-73e9fd0f6da5\" xlink:type=\"simple\"><rect fill=\"#FFFFFF\" height=\"45.9375\" id=\"E7\" rx=\"10\" ry=\"10\" style=\"stroke: #383838; stroke-width: 1.5;\" width=\"42\" x=\"361\" y=\"84\"/><text fill=\"#000000\" font-family=\"sans-serif\" font-size=\"12\" font-style=\"italic\" lengthAdjust=\"spacingAndGlyphs\" textLength=\"40\" x=\"362\" y=\"100.1387\">«part»</text><text fill=\"#000000\" font-family=\"sans-serif\" font-size=\"12\" lengthAdjust=\"spacingAndGlyphs\" textLength=\"22\" x=\"369\" y=\"114.1074\">x: A</text><line style=\"stroke: #383838; stroke-width: 1.5;\" x1=\"362\" x2=\"402\" y1=\"121.9375\" y2=\"121.9375\"/></a><!--MD5=[b9389687b975829384b498ac4b7476b2]\n",
       "class E8--><a href=\"psysml:084cb86b-cc59-4a41-8b1c-7b7410cc5029\" target=\"_top\" title=\"psysml:084cb86b-cc59-4a41-8b1c-7b7410cc5029\" xlink:actuate=\"onRequest\" xlink:href=\"psysml:084cb86b-cc59-4a41-8b1c-7b7410cc5029\" xlink:show=\"new\" xlink:title=\"psysml:084cb86b-cc59-4a41-8b1c-7b7410cc5029\" xlink:type=\"simple\"><rect fill=\"#FFFFFF\" height=\"45.9375\" id=\"E8\" rx=\"10\" ry=\"10\" style=\"stroke: #383838; stroke-width: 1.5;\" width=\"42\" x=\"284\" y=\"84\"/><text fill=\"#000000\" font-family=\"sans-serif\" font-size=\"12\" font-style=\"italic\" lengthAdjust=\"spacingAndGlyphs\" textLength=\"40\" x=\"285\" y=\"100.1387\">«part»</text><text fill=\"#000000\" font-family=\"sans-serif\" font-size=\"12\" lengthAdjust=\"spacingAndGlyphs\" textLength=\"22\" x=\"292\" y=\"114.1074\">y: B</text><line style=\"stroke: #383838; stroke-width: 1.5;\" x1=\"285\" x2=\"325\" y1=\"121.9375\" y2=\"121.9375\"/></a><!--MD5=[96f4274e9e20536e775497830990834d]\n",
       "class E10--><a href=\"psysml:377a64d2-1aa6-4a9b-ba95-6aeb6c1d992f\" target=\"_top\" title=\"psysml:377a64d2-1aa6-4a9b-ba95-6aeb6c1d992f\" xlink:actuate=\"onRequest\" xlink:href=\"psysml:377a64d2-1aa6-4a9b-ba95-6aeb6c1d992f\" xlink:show=\"new\" xlink:title=\"psysml:377a64d2-1aa6-4a9b-ba95-6aeb6c1d992f\" xlink:type=\"simple\"><rect fill=\"#FFFFFF\" height=\"45.9375\" id=\"E10\" rx=\"10\" ry=\"10\" style=\"stroke: #383838; stroke-width: 1.5;\" width=\"42\" x=\"186\" y=\"84\"/><text fill=\"#000000\" font-family=\"sans-serif\" font-size=\"12\" font-style=\"italic\" lengthAdjust=\"spacingAndGlyphs\" textLength=\"40\" x=\"187\" y=\"100.1387\">«part»</text><text fill=\"#000000\" font-family=\"sans-serif\" font-size=\"12\" lengthAdjust=\"spacingAndGlyphs\" textLength=\"22\" x=\"194\" y=\"114.1074\">x: A</text><line style=\"stroke: #383838; stroke-width: 1.5;\" x1=\"187\" x2=\"227\" y1=\"121.9375\" y2=\"121.9375\"/></a><!--MD5=[1dd1bfd58a279cf63c5f349dbc8fc6a1]\n",
       "class E11--><a href=\"psysml:7cdd5db6-fbbe-4f9d-b259-3a085be4f068\" target=\"_top\" title=\"psysml:7cdd5db6-fbbe-4f9d-b259-3a085be4f068\" xlink:actuate=\"onRequest\" xlink:href=\"psysml:7cdd5db6-fbbe-4f9d-b259-3a085be4f068\" xlink:show=\"new\" xlink:title=\"psysml:7cdd5db6-fbbe-4f9d-b259-3a085be4f068\" xlink:type=\"simple\"><rect fill=\"#FFFFFF\" height=\"45.9375\" id=\"E11\" rx=\"10\" ry=\"10\" style=\"stroke: #383838; stroke-width: 1.5;\" width=\"42\" x=\"109\" y=\"84\"/><text fill=\"#000000\" font-family=\"sans-serif\" font-size=\"12\" font-style=\"italic\" lengthAdjust=\"spacingAndGlyphs\" textLength=\"40\" x=\"110\" y=\"100.1387\">«part»</text><text fill=\"#000000\" font-family=\"sans-serif\" font-size=\"12\" lengthAdjust=\"spacingAndGlyphs\" textLength=\"22\" x=\"117\" y=\"114.1074\">y: B</text><line style=\"stroke: #383838; stroke-width: 1.5;\" x1=\"110\" x2=\"150\" y1=\"121.9375\" y2=\"121.9375\"/></a><!--MD5=[14ccda38c055a5c0da953d572bc50960]\n",
       "link E7 to E3--><a href=\"psysml:0b2c7bde-3c6f-4711-9ee8-a744dba64aec\" target=\"_top\" title=\"psysml:0b2c7bde-3c6f-4711-9ee8-a744dba64aec\" xlink:actuate=\"onRequest\" xlink:href=\"psysml:0b2c7bde-3c6f-4711-9ee8-a744dba64aec\" xlink:show=\"new\" xlink:title=\"psysml:0b2c7bde-3c6f-4711-9ee8-a744dba64aec\" xlink:type=\"simple\"><path d=\"M382,130.04 C382,130.04 382,184.63 382,184.63 \" fill=\"none\" id=\"E7-&gt;E3\" style=\"stroke: #383838; stroke-width: 1.0;\"/><polygon fill=\"#FFFFFF\" points=\"382,204.63,375,185.63,389,185.63,382,204.63\" style=\"stroke: #383838; stroke-width: 1.0;\"/><ellipse cx=\"377\" cy=\"179.93\" fill=\"#383838\" rx=\"2\" ry=\"2\" style=\"stroke: #383838; stroke-width: 1.0;\"/><ellipse cx=\"387\" cy=\"179.93\" fill=\"#383838\" rx=\"2\" ry=\"2\" style=\"stroke: #383838; stroke-width: 1.0;\"/></a><!--MD5=[1ccb2481ffa92f8d51a74ee30c51832a]\n",
       "link E8 to E5--><a href=\"psysml:16eea2e1-2a1c-45c0-89dc-072c92b0db51\" target=\"_top\" title=\"psysml:16eea2e1-2a1c-45c0-89dc-072c92b0db51\" xlink:actuate=\"onRequest\" xlink:href=\"psysml:16eea2e1-2a1c-45c0-89dc-072c92b0db51\" xlink:show=\"new\" xlink:title=\"psysml:16eea2e1-2a1c-45c0-89dc-072c92b0db51\" xlink:type=\"simple\"><path d=\"M305,130.06 C305,167.17 305,236 305,236 C305,236 185.41,236 185.41,236 \" fill=\"none\" id=\"E8-&gt;E5\" style=\"stroke: #383838; stroke-width: 1.0;\"/><polygon fill=\"#FFFFFF\" points=\"165.41,236,184.41,229,184.41,243,165.41,236\" style=\"stroke: #383838; stroke-width: 1.0;\"/><ellipse cx=\"190.11\" cy=\"231\" fill=\"#383838\" rx=\"2\" ry=\"2\" style=\"stroke: #383838; stroke-width: 1.0;\"/><ellipse cx=\"190.11\" cy=\"241\" fill=\"#383838\" rx=\"2\" ry=\"2\" style=\"stroke: #383838; stroke-width: 1.0;\"/></a><!--MD5=[feeac5eb423634930294aa81f2d25a4c]\n",
       "link E10 to E3--><a href=\"psysml:0ac0ff17-b961-483b-88a6-6c34531d2872\" target=\"_top\" title=\"psysml:0ac0ff17-b961-483b-88a6-6c34531d2872\" xlink:actuate=\"onRequest\" xlink:href=\"psysml:0ac0ff17-b961-483b-88a6-6c34531d2872\" xlink:show=\"new\" xlink:title=\"psysml:0ac0ff17-b961-483b-88a6-6c34531d2872\" xlink:type=\"simple\"><path d=\"M207,130.07 C207,163.38 207,221 207,221 C207,221 326.59,221 326.59,221 \" fill=\"none\" id=\"E10-&gt;E3\" style=\"stroke: #383838; stroke-width: 1.0;\"/><polygon fill=\"#FFFFFF\" points=\"346.59,221,327.59,228,327.59,214,346.59,221\" style=\"stroke: #383838; stroke-width: 1.0;\"/><ellipse cx=\"321.89\" cy=\"226\" fill=\"#383838\" rx=\"2\" ry=\"2\" style=\"stroke: #383838; stroke-width: 1.0;\"/><ellipse cx=\"321.89\" cy=\"216\" fill=\"#383838\" rx=\"2\" ry=\"2\" style=\"stroke: #383838; stroke-width: 1.0;\"/></a><!--MD5=[07b77f6f309248d16187045709d1c26e]\n",
       "link E11 to E5--><a href=\"psysml:7353245a-aec5-4316-8af8-2852475c4dc4\" target=\"_top\" title=\"psysml:7353245a-aec5-4316-8af8-2852475c4dc4\" xlink:actuate=\"onRequest\" xlink:href=\"psysml:7353245a-aec5-4316-8af8-2852475c4dc4\" xlink:show=\"new\" xlink:title=\"psysml:7353245a-aec5-4316-8af8-2852475c4dc4\" xlink:type=\"simple\"><path d=\"M130,130.04 C130,130.04 130,184.63 130,184.63 \" fill=\"none\" id=\"E11-&gt;E5\" style=\"stroke: #383838; stroke-width: 1.0;\"/><polygon fill=\"#FFFFFF\" points=\"130,204.63,123,185.63,137,185.63,130,204.63\" style=\"stroke: #383838; stroke-width: 1.0;\"/><ellipse cx=\"125\" cy=\"179.93\" fill=\"#383838\" rx=\"2\" ry=\"2\" style=\"stroke: #383838; stroke-width: 1.0;\"/><ellipse cx=\"135\" cy=\"179.93\" fill=\"#383838\" rx=\"2\" ry=\"2\" style=\"stroke: #383838; stroke-width: 1.0;\"/></a><!--MD5=[39f41a0e550fb3d73b4d8135617e30a2]\n",
       "link E12 to E3--><a href=\"psysml:6cc10db6-ba98-48a2-919a-a7b34cb2bdfc\" target=\"_top\" title=\"psysml:6cc10db6-ba98-48a2-919a-a7b34cb2bdfc\" xlink:actuate=\"onRequest\" xlink:href=\"psysml:6cc10db6-ba98-48a2-919a-a7b34cb2bdfc\" xlink:show=\"new\" xlink:title=\"psysml:6cc10db6-ba98-48a2-919a-a7b34cb2bdfc\" xlink:type=\"simple\"><path d=\"M437.94,107 C424.65,107 410,107 410,107 C410,107 410,184.96 410,184.96 \" fill=\"none\" id=\"E12-&gt;E3\" style=\"stroke: #383838; stroke-width: 1.0;\"/><polygon fill=\"#FFFFFF\" points=\"410,204.96,403,185.96,417,185.96,410,204.96\" style=\"stroke: #383838; stroke-width: 1.0;\"/><ellipse cx=\"405\" cy=\"180.26\" fill=\"#383838\" rx=\"2\" ry=\"2\" style=\"stroke: #383838; stroke-width: 1.0;\"/><ellipse cx=\"415\" cy=\"180.26\" fill=\"#383838\" rx=\"2\" ry=\"2\" style=\"stroke: #383838; stroke-width: 1.0;\"/></a><!--MD5=[066b2d8af59fea80ccdb3d54ad5c1091]\n",
       "link E13 to E5--><a href=\"psysml:fb180b05-d2cf-42d1-bf2a-01829ad20206\" target=\"_top\" title=\"psysml:fb180b05-d2cf-42d1-bf2a-01829ad20206\" xlink:actuate=\"onRequest\" xlink:href=\"psysml:fb180b05-d2cf-42d1-bf2a-01829ad20206\" xlink:show=\"new\" xlink:title=\"psysml:fb180b05-d2cf-42d1-bf2a-01829ad20206\" xlink:type=\"simple\"><path d=\"M74.06,107 C87.35,107 102,107 102,107 C102,107 102,184.96 102,184.96 \" fill=\"none\" id=\"E13-&gt;E5\" style=\"stroke: #383838; stroke-width: 1.0;\"/><polygon fill=\"#FFFFFF\" points=\"102,204.96,95,185.96,109,185.96,102,204.96\" style=\"stroke: #383838; stroke-width: 1.0;\"/><ellipse cx=\"97\" cy=\"180.26\" fill=\"#383838\" rx=\"2\" ry=\"2\" style=\"stroke: #383838; stroke-width: 1.0;\"/><ellipse cx=\"107\" cy=\"180.26\" fill=\"#383838\" rx=\"2\" ry=\"2\" style=\"stroke: #383838; stroke-width: 1.0;\"/></a><!--MD5=[67fbfb107f247382799e40b73f783865]\n",
       "@startuml\r\n",
       "skinparam linetype ortho\r\n",
       "skinparam monochrome true\r\n",
       "skinparam classbackgroundcolor white\r\n",
       "skinparam shadowing false\r\n",
       "skinparam wrapWidth 300\r\n",
       "hide circle\r\n",
       "\r\n",
       "package \"CircularImport\" as E1  [[psysml:6d002b47-1de9-4cb8-be5e-1d54cb7fff5c ]]  {\r\n",
       "package \"P1\" as E2  [[psysml:531dfa6c-428e-410a-a6f8-c5b9ff8ecb34 ]]  {\r\n",
       "comp def \"A\" as E3  <<(T,blue) part  def>> [[psysml:8ceeee5f-0d5a-4279-aee9-7758649ab8be ]] {\r\n",
       "}\r\n",
       "}\r\n",
       "package \"P2\" as E4  [[psysml:62a929fe-702a-4460-9e53-8584d6f6435e ]]  {\r\n",
       "comp def \"B\" as E5  <<(T,blue) part  def>> [[psysml:90844ba8-c1a9-4c46-b7c9-d1a2572e7365 ]] {\r\n",
       "}\r\n",
       "}\r\n",
       "package \"Test1\" as E6  [[psysml:0f17a3a9-0805-4d7f-ba6a-07da905c8abf ]]  {\r\n",
       "comp usage \"x: A \" as E7  <<(T,blue) part>> [[psysml:9a31b8cb-b3f5-4478-b49b-73e9fd0f6da5 ]] {\r\n",
       "}\r\n",
       "comp usage \"y: B \" as E8  <<(T,blue) part>> [[psysml:084cb86b-cc59-4a41-8b1c-7b7410cc5029 ]] {\r\n",
       "}\r\n",
       "}\r\n",
       "package \"Test2\" as E9  [[psysml:a06e7d3b-be80-4318-b479-ae1779c5974b ]]  {\r\n",
       "comp usage \"x: A \" as E10  <<(T,blue) part>> [[psysml:377a64d2-1aa6-4a9b-ba95-6aeb6c1d992f ]] {\r\n",
       "}\r\n",
       "comp usage \"y: B \" as E11  <<(T,blue) part>> [[psysml:7cdd5db6-fbbe-4f9d-b259-3a085be4f068 ]] {\r\n",
       "}\r\n",
       "}\r\n",
       "comp usage \"x: A \" as E12  <<(T,blue) part>> [[psysml:665d223a-8fea-436a-b414-0efd919424fb ]] {\r\n",
       "}\r\n",
       "comp usage \"y: B \" as E13  <<(T,blue) part>> [[psysml:a1b35d80-8992-43c2-aa5d-6937f2901599 ]] {\r\n",
       "}\r\n",
       "}\r\n",
       "E7 - -:|> E3 [[psysml:0b2c7bde-3c6f-4711-9ee8-a744dba64aec ]] \r\n",
       "E8 - -:|> E5 [[psysml:16eea2e1-2a1c-45c0-89dc-072c92b0db51 ]] \r\n",
       "E10 - -:|> E3 [[psysml:0ac0ff17-b961-483b-88a6-6c34531d2872 ]] \r\n",
       "E11 - -:|> E5 [[psysml:7353245a-aec5-4316-8af8-2852475c4dc4 ]] \r\n",
       "E12 - -:|> E3 [[psysml:6cc10db6-ba98-48a2-919a-a7b34cb2bdfc ]] \r\n",
       "E13 - -:|> E5 [[psysml:fb180b05-d2cf-42d1-bf2a-01829ad20206 ]] \r\n",
       "@enduml\r\n",
       "\n",
       "PlantUML version 1.2020.13(Sat Jun 13 12:26:38 UTC 2020)\n",
       "(EPL source distribution)\n",
       "Java Runtime: OpenJDK Runtime Environment\n",
       "JVM: OpenJDK 64-Bit Server VM\n",
       "Default Encoding: UTF-8\n",
       "Language: en\n",
       "Country: null\n",
       "--></g></svg>"
      ]
     },
     "execution_count": 52,
     "metadata": {},
     "output_type": "execute_result"
    }
   ],
   "source": [
    "%viz --style=\"ORTHOLINE\" --view=\"Tree\" \"CircularImport\""
   ]
  },
  {
   "cell_type": "code",
   "execution_count": 53,
   "id": "3776f974",
   "metadata": {
    "execution": {
     "iopub.execute_input": "2021-12-15T15:15:40.348606Z",
     "iopub.status.busy": "2021-12-15T15:15:40.348160Z",
     "iopub.status.idle": "2021-12-15T15:15:40.353813Z",
     "shell.execute_reply": "2021-12-15T15:15:40.353462Z"
    }
   },
   "outputs": [
    {
     "data": {
      "image/svg+xml": [
       "<?xml version=\"1.0\" encoding=\"UTF-8\" standalone=\"no\"?><svg xmlns=\"http://www.w3.org/2000/svg\" xmlns:xlink=\"http://www.w3.org/1999/xlink\" contentScriptType=\"application/ecmascript\" contentStyleType=\"text/css\" height=\"12px\" preserveAspectRatio=\"none\" style=\"width:12px;height:12px;\" version=\"1.1\" viewBox=\"0 0 12 12\" width=\"12px\" zoomAndPan=\"magnify\"><defs/><g><!--MD5=[97d6f38768b311333d388e66b2b27985]\n",
       "@startuml\r\n",
       "skinparam linetype ortho\r\n",
       "skinparam monochrome true\r\n",
       "skinparam classbackgroundcolor white\r\n",
       "skinparam shadowing false\r\n",
       "skinparam wrapWidth 300\r\n",
       "hide circle\r\n",
       "\r\n",
       "@enduml\r\n",
       "\n",
       "PlantUML version 1.2020.13(Sat Jun 13 12:26:38 UTC 2020)\n",
       "(EPL source distribution)\n",
       "Java Runtime: OpenJDK Runtime Environment\n",
       "JVM: OpenJDK 64-Bit Server VM\n",
       "Default Encoding: UTF-8\n",
       "Language: en\n",
       "Country: null\n",
       "--></g></svg>"
      ]
     },
     "execution_count": 53,
     "metadata": {},
     "output_type": "execute_result"
    }
   ],
   "source": [
    "%viz --style=\"ORTHOLINE\" --view=\"State\" \"CircularImport\""
   ]
  },
  {
   "cell_type": "code",
   "execution_count": 54,
   "id": "c82244c1",
   "metadata": {
    "execution": {
     "iopub.execute_input": "2021-12-15T15:15:40.402531Z",
     "iopub.status.busy": "2021-12-15T15:15:40.402137Z",
     "iopub.status.idle": "2021-12-15T15:15:40.432252Z",
     "shell.execute_reply": "2021-12-15T15:15:40.430417Z"
    }
   },
   "outputs": [
    {
     "data": {
      "image/svg+xml": [
       "<?xml version=\"1.0\" encoding=\"UTF-8\" standalone=\"no\"?><svg xmlns=\"http://www.w3.org/2000/svg\" xmlns:xlink=\"http://www.w3.org/1999/xlink\" contentScriptType=\"application/ecmascript\" contentStyleType=\"text/css\" height=\"179px\" preserveAspectRatio=\"none\" style=\"width:850px;height:179px;\" version=\"1.1\" viewBox=\"0 0 850 179\" width=\"850px\" zoomAndPan=\"magnify\"><defs/><g><!--MD5=[fbc87193dbaf4d95561dea2c320d4a47]\n",
       "cluster E1--><a href=\"psysml:6d002b47-1de9-4cb8-be5e-1d54cb7fff5c\" target=\"_top\" title=\"psysml:6d002b47-1de9-4cb8-be5e-1d54cb7fff5c\" xlink:actuate=\"onRequest\" xlink:href=\"psysml:6d002b47-1de9-4cb8-be5e-1d54cb7fff5c\" xlink:show=\"new\" xlink:title=\"psysml:6d002b47-1de9-4cb8-be5e-1d54cb7fff5c\" xlink:type=\"simple\"><polygon fill=\"#FFFFFF\" points=\"16,6,117,6,124,28.2969,828,28.2969,828,167,16,167,16,6\" style=\"stroke: #000000; stroke-width: 1.5;\"/><line style=\"stroke: #000000; stroke-width: 1.5;\" x1=\"16\" x2=\"124\" y1=\"28.2969\" y2=\"28.2969\"/><text fill=\"#000000\" font-family=\"sans-serif\" font-size=\"14\" font-weight=\"bold\" lengthAdjust=\"spacingAndGlyphs\" textLength=\"95\" x=\"20\" y=\"20.9951\">CircularImport</text></a><!--MD5=[e4f7fae6ed58524ba242bb0b0d3be6b7]\n",
       "cluster E2--><a href=\"psysml:531dfa6c-428e-410a-a6f8-c5b9ff8ecb34\" target=\"_top\" title=\"psysml:531dfa6c-428e-410a-a6f8-c5b9ff8ecb34\" xlink:actuate=\"onRequest\" xlink:href=\"psysml:531dfa6c-428e-410a-a6f8-c5b9ff8ecb34\" xlink:show=\"new\" xlink:title=\"psysml:531dfa6c-428e-410a-a6f8-c5b9ff8ecb34\" xlink:type=\"simple\"><polygon fill=\"#FFFFFF\" points=\"698,49,722,49,729,71.2969,804,71.2969,804,143,698,143,698,49\" style=\"stroke: #000000; stroke-width: 1.5;\"/><line style=\"stroke: #000000; stroke-width: 1.5;\" x1=\"698\" x2=\"729\" y1=\"71.2969\" y2=\"71.2969\"/><text fill=\"#000000\" font-family=\"sans-serif\" font-size=\"14\" font-weight=\"bold\" lengthAdjust=\"spacingAndGlyphs\" textLength=\"18\" x=\"702\" y=\"63.9951\">P1</text></a><!--MD5=[f6df4d0ebaf0b5dfb2ced0ae5af7c670]\n",
       "cluster E4--><a href=\"psysml:62a929fe-702a-4460-9e53-8584d6f6435e\" target=\"_top\" title=\"psysml:62a929fe-702a-4460-9e53-8584d6f6435e\" xlink:actuate=\"onRequest\" xlink:href=\"psysml:62a929fe-702a-4460-9e53-8584d6f6435e\" xlink:show=\"new\" xlink:title=\"psysml:62a929fe-702a-4460-9e53-8584d6f6435e\" xlink:type=\"simple\"><polygon fill=\"#FFFFFF\" points=\"568,49,592,49,599,71.2969,674,71.2969,674,143,568,143,568,49\" style=\"stroke: #000000; stroke-width: 1.5;\"/><line style=\"stroke: #000000; stroke-width: 1.5;\" x1=\"568\" x2=\"599\" y1=\"71.2969\" y2=\"71.2969\"/><text fill=\"#000000\" font-family=\"sans-serif\" font-size=\"14\" font-weight=\"bold\" lengthAdjust=\"spacingAndGlyphs\" textLength=\"18\" x=\"572\" y=\"63.9951\">P2</text></a><!--MD5=[14e3b0961a2654348d326746436168a1]\n",
       "cluster E6--><a href=\"psysml:0f17a3a9-0805-4d7f-ba6a-07da905c8abf\" target=\"_top\" title=\"psysml:0f17a3a9-0805-4d7f-ba6a-07da905c8abf\" xlink:actuate=\"onRequest\" xlink:href=\"psysml:0f17a3a9-0805-4d7f-ba6a-07da905c8abf\" xlink:show=\"new\" xlink:title=\"psysml:0f17a3a9-0805-4d7f-ba6a-07da905c8abf\" xlink:type=\"simple\"><polygon fill=\"#FFFFFF\" points=\"377,50.5,423,50.5,430,72.7969,544,72.7969,544,141.5,377,141.5,377,50.5\" style=\"stroke: #000000; stroke-width: 1.5;\"/><line style=\"stroke: #000000; stroke-width: 1.5;\" x1=\"377\" x2=\"430\" y1=\"72.7969\" y2=\"72.7969\"/><text fill=\"#000000\" font-family=\"sans-serif\" font-size=\"14\" font-weight=\"bold\" lengthAdjust=\"spacingAndGlyphs\" textLength=\"40\" x=\"381\" y=\"65.4951\">Test1</text></a><!--MD5=[7f149f147074ac12df2cb0a7728a5fb0]\n",
       "cluster E9--><a href=\"psysml:a06e7d3b-be80-4318-b479-ae1779c5974b\" target=\"_top\" title=\"psysml:a06e7d3b-be80-4318-b479-ae1779c5974b\" xlink:actuate=\"onRequest\" xlink:href=\"psysml:a06e7d3b-be80-4318-b479-ae1779c5974b\" xlink:show=\"new\" xlink:title=\"psysml:a06e7d3b-be80-4318-b479-ae1779c5974b\" xlink:type=\"simple\"><polygon fill=\"#FFFFFF\" points=\"186,50.5,232,50.5,239,72.7969,353,72.7969,353,141.5,186,141.5,186,50.5\" style=\"stroke: #000000; stroke-width: 1.5;\"/><line style=\"stroke: #000000; stroke-width: 1.5;\" x1=\"186\" x2=\"239\" y1=\"72.7969\" y2=\"72.7969\"/><text fill=\"#000000\" font-family=\"sans-serif\" font-size=\"14\" font-weight=\"bold\" lengthAdjust=\"spacingAndGlyphs\" textLength=\"40\" x=\"190\" y=\"65.4951\">Test2</text></a><g id=\"E1.E2.E3\"><a href=\"psysml:8ceeee5f-0d5a-4279-aee9-7758649ab8be\" target=\"_top\" title=\"psysml:8ceeee5f-0d5a-4279-aee9-7758649ab8be\" xlink:actuate=\"onRequest\" xlink:href=\"psysml:8ceeee5f-0d5a-4279-aee9-7758649ab8be\" xlink:show=\"new\" xlink:title=\"psysml:8ceeee5f-0d5a-4279-aee9-7758649ab8be\" xlink:type=\"simple\"><rect fill=\"#FFFFFF\" height=\"42.9375\" id=\"E3\" style=\"stroke: #383838; stroke-width: 1.5;\" width=\"75\" x=\"713.5\" y=\"84\"/><rect fill=\"#F8F8F8\" height=\"37.9375\" style=\"stroke: #383838; stroke-width: 1.5;\" width=\"75\" x=\"713.5\" y=\"84\"/><text fill=\"#000000\" font-family=\"sans-serif\" font-size=\"12\" font-style=\"italic\" lengthAdjust=\"spacingAndGlyphs\" textLength=\"68\" x=\"717\" y=\"100.1387\">«part  def»</text><text fill=\"#000000\" font-family=\"sans-serif\" font-size=\"12\" lengthAdjust=\"spacingAndGlyphs\" textLength=\"8\" x=\"747\" y=\"114.1074\">A</text></a></g><g id=\"E1.E4.E5\"><a href=\"psysml:90844ba8-c1a9-4c46-b7c9-d1a2572e7365\" target=\"_top\" title=\"psysml:90844ba8-c1a9-4c46-b7c9-d1a2572e7365\" xlink:actuate=\"onRequest\" xlink:href=\"psysml:90844ba8-c1a9-4c46-b7c9-d1a2572e7365\" xlink:show=\"new\" xlink:title=\"psysml:90844ba8-c1a9-4c46-b7c9-d1a2572e7365\" xlink:type=\"simple\"><rect fill=\"#FFFFFF\" height=\"42.9375\" id=\"E5\" style=\"stroke: #383838; stroke-width: 1.5;\" width=\"75\" x=\"583.5\" y=\"84\"/><rect fill=\"#F8F8F8\" height=\"37.9375\" style=\"stroke: #383838; stroke-width: 1.5;\" width=\"75\" x=\"583.5\" y=\"84\"/><text fill=\"#000000\" font-family=\"sans-serif\" font-size=\"12\" font-style=\"italic\" lengthAdjust=\"spacingAndGlyphs\" textLength=\"68\" x=\"587\" y=\"100.1387\">«part  def»</text><text fill=\"#000000\" font-family=\"sans-serif\" font-size=\"12\" lengthAdjust=\"spacingAndGlyphs\" textLength=\"8\" x=\"617\" y=\"114.1074\">B</text></a></g><g id=\"E1.E6.E7\"><a href=\"psysml:9a31b8cb-b3f5-4478-b49b-73e9fd0f6da5\" target=\"_top\" title=\"psysml:9a31b8cb-b3f5-4478-b49b-73e9fd0f6da5\" xlink:actuate=\"onRequest\" xlink:href=\"psysml:9a31b8cb-b3f5-4478-b49b-73e9fd0f6da5\" xlink:show=\"new\" xlink:title=\"psysml:9a31b8cb-b3f5-4478-b49b-73e9fd0f6da5\" xlink:type=\"simple\"><rect fill=\"#FFFFFF\" height=\"40\" id=\"E7\" rx=\"10\" ry=\"10\" style=\"stroke: #383838; stroke-width: 1.5;\" width=\"50\" x=\"478\" y=\"85.5\"/><rect fill=\"#F8F8F8\" height=\"23.9688\" rx=\"10\" ry=\"10\" style=\"stroke: #F8F8F8; stroke-width: 1.5;\" width=\"50\" x=\"478\" y=\"85.5\"/><rect fill=\"#F8F8F8\" height=\"10\" style=\"stroke: #F8F8F8; stroke-width: 1.5;\" width=\"50\" x=\"478\" y=\"99.4688\"/><rect fill=\"none\" height=\"40\" id=\"E7\" rx=\"10\" ry=\"10\" style=\"stroke: #383838; stroke-width: 1.5;\" width=\"50\" x=\"478\" y=\"85.5\"/><text fill=\"#000000\" font-family=\"sans-serif\" font-size=\"12\" lengthAdjust=\"spacingAndGlyphs\" textLength=\"22\" x=\"492\" y=\"101.6387\">x: A</text></a></g><g id=\"E1.E6.E8\"><a href=\"psysml:084cb86b-cc59-4a41-8b1c-7b7410cc5029\" target=\"_top\" title=\"psysml:084cb86b-cc59-4a41-8b1c-7b7410cc5029\" xlink:actuate=\"onRequest\" xlink:href=\"psysml:084cb86b-cc59-4a41-8b1c-7b7410cc5029\" xlink:show=\"new\" xlink:title=\"psysml:084cb86b-cc59-4a41-8b1c-7b7410cc5029\" xlink:type=\"simple\"><rect fill=\"#FFFFFF\" height=\"40\" id=\"E8\" rx=\"10\" ry=\"10\" style=\"stroke: #383838; stroke-width: 1.5;\" width=\"50\" x=\"393\" y=\"85.5\"/><rect fill=\"#F8F8F8\" height=\"23.9688\" rx=\"10\" ry=\"10\" style=\"stroke: #F8F8F8; stroke-width: 1.5;\" width=\"50\" x=\"393\" y=\"85.5\"/><rect fill=\"#F8F8F8\" height=\"10\" style=\"stroke: #F8F8F8; stroke-width: 1.5;\" width=\"50\" x=\"393\" y=\"99.4688\"/><rect fill=\"none\" height=\"40\" id=\"E8\" rx=\"10\" ry=\"10\" style=\"stroke: #383838; stroke-width: 1.5;\" width=\"50\" x=\"393\" y=\"85.5\"/><text fill=\"#000000\" font-family=\"sans-serif\" font-size=\"12\" lengthAdjust=\"spacingAndGlyphs\" textLength=\"22\" x=\"407\" y=\"101.6387\">y: B</text></a></g><g id=\"E1.E9.E10\"><a href=\"psysml:377a64d2-1aa6-4a9b-ba95-6aeb6c1d992f\" target=\"_top\" title=\"psysml:377a64d2-1aa6-4a9b-ba95-6aeb6c1d992f\" xlink:actuate=\"onRequest\" xlink:href=\"psysml:377a64d2-1aa6-4a9b-ba95-6aeb6c1d992f\" xlink:show=\"new\" xlink:title=\"psysml:377a64d2-1aa6-4a9b-ba95-6aeb6c1d992f\" xlink:type=\"simple\"><rect fill=\"#FFFFFF\" height=\"40\" id=\"E10\" rx=\"10\" ry=\"10\" style=\"stroke: #383838; stroke-width: 1.5;\" width=\"50\" x=\"287\" y=\"85.5\"/><rect fill=\"#F8F8F8\" height=\"23.9688\" rx=\"10\" ry=\"10\" style=\"stroke: #F8F8F8; stroke-width: 1.5;\" width=\"50\" x=\"287\" y=\"85.5\"/><rect fill=\"#F8F8F8\" height=\"10\" style=\"stroke: #F8F8F8; stroke-width: 1.5;\" width=\"50\" x=\"287\" y=\"99.4688\"/><rect fill=\"none\" height=\"40\" id=\"E10\" rx=\"10\" ry=\"10\" style=\"stroke: #383838; stroke-width: 1.5;\" width=\"50\" x=\"287\" y=\"85.5\"/><text fill=\"#000000\" font-family=\"sans-serif\" font-size=\"12\" lengthAdjust=\"spacingAndGlyphs\" textLength=\"22\" x=\"301\" y=\"101.6387\">x: A</text></a></g><g id=\"E1.E9.E11\"><a href=\"psysml:7cdd5db6-fbbe-4f9d-b259-3a085be4f068\" target=\"_top\" title=\"psysml:7cdd5db6-fbbe-4f9d-b259-3a085be4f068\" xlink:actuate=\"onRequest\" xlink:href=\"psysml:7cdd5db6-fbbe-4f9d-b259-3a085be4f068\" xlink:show=\"new\" xlink:title=\"psysml:7cdd5db6-fbbe-4f9d-b259-3a085be4f068\" xlink:type=\"simple\"><rect fill=\"#FFFFFF\" height=\"40\" id=\"E11\" rx=\"10\" ry=\"10\" style=\"stroke: #383838; stroke-width: 1.5;\" width=\"50\" x=\"202\" y=\"85.5\"/><rect fill=\"#F8F8F8\" height=\"23.9688\" rx=\"10\" ry=\"10\" style=\"stroke: #F8F8F8; stroke-width: 1.5;\" width=\"50\" x=\"202\" y=\"85.5\"/><rect fill=\"#F8F8F8\" height=\"10\" style=\"stroke: #F8F8F8; stroke-width: 1.5;\" width=\"50\" x=\"202\" y=\"99.4688\"/><rect fill=\"none\" height=\"40\" id=\"E11\" rx=\"10\" ry=\"10\" style=\"stroke: #383838; stroke-width: 1.5;\" width=\"50\" x=\"202\" y=\"85.5\"/><text fill=\"#000000\" font-family=\"sans-serif\" font-size=\"12\" lengthAdjust=\"spacingAndGlyphs\" textLength=\"22\" x=\"216\" y=\"101.6387\">y: B</text></a></g><g id=\"E1.E12\"><a href=\"psysml:665d223a-8fea-436a-b414-0efd919424fb\" target=\"_top\" title=\"psysml:665d223a-8fea-436a-b414-0efd919424fb\" xlink:actuate=\"onRequest\" xlink:href=\"psysml:665d223a-8fea-436a-b414-0efd919424fb\" xlink:show=\"new\" xlink:title=\"psysml:665d223a-8fea-436a-b414-0efd919424fb\" xlink:type=\"simple\"><rect fill=\"#FFFFFF\" height=\"40\" id=\"E12\" rx=\"10\" ry=\"10\" style=\"stroke: #383838; stroke-width: 1.5;\" width=\"50\" x=\"117\" y=\"85.5\"/><rect fill=\"#F8F8F8\" height=\"23.9688\" rx=\"10\" ry=\"10\" style=\"stroke: #F8F8F8; stroke-width: 1.5;\" width=\"50\" x=\"117\" y=\"85.5\"/><rect fill=\"#F8F8F8\" height=\"10\" style=\"stroke: #F8F8F8; stroke-width: 1.5;\" width=\"50\" x=\"117\" y=\"99.4688\"/><rect fill=\"none\" height=\"40\" id=\"E12\" rx=\"10\" ry=\"10\" style=\"stroke: #383838; stroke-width: 1.5;\" width=\"50\" x=\"117\" y=\"85.5\"/><text fill=\"#000000\" font-family=\"sans-serif\" font-size=\"12\" lengthAdjust=\"spacingAndGlyphs\" textLength=\"22\" x=\"131\" y=\"101.6387\">x: A</text></a></g><g id=\"E1.E13\"><a href=\"psysml:a1b35d80-8992-43c2-aa5d-6937f2901599\" target=\"_top\" title=\"psysml:a1b35d80-8992-43c2-aa5d-6937f2901599\" xlink:actuate=\"onRequest\" xlink:href=\"psysml:a1b35d80-8992-43c2-aa5d-6937f2901599\" xlink:show=\"new\" xlink:title=\"psysml:a1b35d80-8992-43c2-aa5d-6937f2901599\" xlink:type=\"simple\"><rect fill=\"#FFFFFF\" height=\"40\" id=\"E13\" rx=\"10\" ry=\"10\" style=\"stroke: #383838; stroke-width: 1.5;\" width=\"50\" x=\"32\" y=\"85.5\"/><rect fill=\"#F8F8F8\" height=\"23.9688\" rx=\"10\" ry=\"10\" style=\"stroke: #F8F8F8; stroke-width: 1.5;\" width=\"50\" x=\"32\" y=\"85.5\"/><rect fill=\"#F8F8F8\" height=\"10\" style=\"stroke: #F8F8F8; stroke-width: 1.5;\" width=\"50\" x=\"32\" y=\"99.4688\"/><rect fill=\"none\" height=\"40\" id=\"E13\" rx=\"10\" ry=\"10\" style=\"stroke: #383838; stroke-width: 1.5;\" width=\"50\" x=\"32\" y=\"85.5\"/><text fill=\"#000000\" font-family=\"sans-serif\" font-size=\"12\" lengthAdjust=\"spacingAndGlyphs\" textLength=\"22\" x=\"46\" y=\"101.6387\">y: B</text></a></g><!--MD5=[d6e6a7cd75fe96619cec25a0f3c090ae]\n",
       "@startuml\r\n",
       "skinparam ranksep 10\r\n",
       "skinparam rectangle {\r\n",
       " backgroundColor<<block>> LightGreen\r\n",
       "}\r\n",
       "skinparam linetype ortho\r\n",
       "skinparam monochrome true\r\n",
       "skinparam classbackgroundcolor white\r\n",
       "skinparam shadowing false\r\n",
       "skinparam wrapWidth 300\r\n",
       "hide circle\r\n",
       "\r\n",
       "package \"CircularImport\" as E1  [[psysml:6d002b47-1de9-4cb8-be5e-1d54cb7fff5c ]]  {\r\n",
       "package \"P1\" as E2  [[psysml:531dfa6c-428e-410a-a6f8-c5b9ff8ecb34 ]]  {\r\n",
       "rec def \"A\" as E3  <<(T,blue) part  def>> [[psysml:8ceeee5f-0d5a-4279-aee9-7758649ab8be ]] {\r\n",
       "}\r\n",
       "}\r\n",
       "package \"P2\" as E4  [[psysml:62a929fe-702a-4460-9e53-8584d6f6435e ]]  {\r\n",
       "rec def \"B\" as E5  <<(T,blue) part  def>> [[psysml:90844ba8-c1a9-4c46-b7c9-d1a2572e7365 ]] {\r\n",
       "}\r\n",
       "}\r\n",
       "package \"Test1\" as E6  [[psysml:0f17a3a9-0805-4d7f-ba6a-07da905c8abf ]]  {\r\n",
       "rec usage \"x: A\" as E7  [[psysml:9a31b8cb-b3f5-4478-b49b-73e9fd0f6da5 ]] {\r\n",
       "}\r\n",
       "rec usage \"y: B\" as E8  [[psysml:084cb86b-cc59-4a41-8b1c-7b7410cc5029 ]] {\r\n",
       "}\r\n",
       "}\r\n",
       "package \"Test2\" as E9  [[psysml:a06e7d3b-be80-4318-b479-ae1779c5974b ]]  {\r\n",
       "rec usage \"x: A\" as E10  [[psysml:377a64d2-1aa6-4a9b-ba95-6aeb6c1d992f ]] {\r\n",
       "}\r\n",
       "rec usage \"y: B\" as E11  [[psysml:7cdd5db6-fbbe-4f9d-b259-3a085be4f068 ]] {\r\n",
       "}\r\n",
       "}\r\n",
       "rec usage \"x: A\" as E12  [[psysml:665d223a-8fea-436a-b414-0efd919424fb ]] {\r\n",
       "}\r\n",
       "rec usage \"y: B\" as E13  [[psysml:a1b35d80-8992-43c2-aa5d-6937f2901599 ]] {\r\n",
       "}\r\n",
       "}\r\n",
       "@enduml\r\n",
       "\n",
       "PlantUML version 1.2020.13(Sat Jun 13 12:26:38 UTC 2020)\n",
       "(EPL source distribution)\n",
       "Java Runtime: OpenJDK Runtime Environment\n",
       "JVM: OpenJDK 64-Bit Server VM\n",
       "Default Encoding: UTF-8\n",
       "Language: en\n",
       "Country: null\n",
       "--></g></svg>"
      ]
     },
     "execution_count": 54,
     "metadata": {},
     "output_type": "execute_result"
    }
   ],
   "source": [
    "%viz --style=\"ORTHOLINE\" --view=\"Interconnection\" \"CircularImport\""
   ]
  },
  {
   "cell_type": "code",
   "execution_count": 55,
   "id": "94fe7c71",
   "metadata": {
    "execution": {
     "iopub.execute_input": "2021-12-15T15:15:40.481053Z",
     "iopub.status.busy": "2021-12-15T15:15:40.480666Z",
     "iopub.status.idle": "2021-12-15T15:15:40.485801Z",
     "shell.execute_reply": "2021-12-15T15:15:40.485455Z"
    }
   },
   "outputs": [
    {
     "data": {
      "image/svg+xml": [
       "<?xml version=\"1.0\" encoding=\"UTF-8\" standalone=\"no\"?><svg xmlns=\"http://www.w3.org/2000/svg\" xmlns:xlink=\"http://www.w3.org/1999/xlink\" contentScriptType=\"application/ecmascript\" contentStyleType=\"text/css\" height=\"12px\" preserveAspectRatio=\"none\" style=\"width:12px;height:12px;\" version=\"1.1\" viewBox=\"0 0 12 12\" width=\"12px\" zoomAndPan=\"magnify\"><defs/><g><!--MD5=[72934c63077099a26744516a776b4749]\n",
       "@startuml\r\n",
       "skinparam ranksep 8\r\n",
       "skinparam linetype ortho\r\n",
       "skinparam monochrome true\r\n",
       "skinparam classbackgroundcolor white\r\n",
       "skinparam shadowing false\r\n",
       "skinparam wrapWidth 300\r\n",
       "hide circle\r\n",
       "\r\n",
       "@enduml\r\n",
       "\n",
       "PlantUML version 1.2020.13(Sat Jun 13 12:26:38 UTC 2020)\n",
       "(EPL source distribution)\n",
       "Java Runtime: OpenJDK Runtime Environment\n",
       "JVM: OpenJDK 64-Bit Server VM\n",
       "Default Encoding: UTF-8\n",
       "Language: en\n",
       "Country: null\n",
       "--></g></svg>"
      ]
     },
     "execution_count": 55,
     "metadata": {},
     "output_type": "execute_result"
    }
   ],
   "source": [
    "%viz --style=\"ORTHOLINE\" --view=\"Action\" \"CircularImport\""
   ]
  },
  {
   "cell_type": "code",
   "execution_count": 56,
   "id": "d7862c11",
   "metadata": {
    "execution": {
     "iopub.execute_input": "2021-12-15T15:15:40.535182Z",
     "iopub.status.busy": "2021-12-15T15:15:40.534781Z",
     "iopub.status.idle": "2021-12-15T15:15:40.539737Z",
     "shell.execute_reply": "2021-12-15T15:15:40.539393Z"
    }
   },
   "outputs": [
    {
     "data": {
      "image/svg+xml": [
       "<?xml version=\"1.0\" encoding=\"UTF-8\" standalone=\"no\"?><svg xmlns=\"http://www.w3.org/2000/svg\" xmlns:xlink=\"http://www.w3.org/1999/xlink\" contentScriptType=\"application/ecmascript\" contentStyleType=\"text/css\" height=\"12px\" preserveAspectRatio=\"none\" style=\"width:12px;height:12px;\" version=\"1.1\" viewBox=\"0 0 12 12\" width=\"12px\" zoomAndPan=\"magnify\"><defs/><g><!--MD5=[30fc1de5121c5abddedd55b44417fde8]\n",
       "@startuml\r\n",
       "skinparam roundcorner 20\r\n",
       "skinparam BoxPadding 20\r\n",
       "skinparam SequenceBoxBackgroundColor #white\r\n",
       "skinparam style strictuml\r\n",
       "skinparam maxMessageSize 100\r\n",
       "skinparam linetype ortho\r\n",
       "skinparam monochrome true\r\n",
       "skinparam classbackgroundcolor white\r\n",
       "skinparam shadowing false\r\n",
       "skinparam wrapWidth 300\r\n",
       "hide circle\r\n",
       "\r\n",
       "@enduml\r\n",
       "\n",
       "PlantUML version 1.2020.13(Sat Jun 13 12:26:38 UTC 2020)\n",
       "(EPL source distribution)\n",
       "Java Runtime: OpenJDK Runtime Environment\n",
       "JVM: OpenJDK 64-Bit Server VM\n",
       "Default Encoding: UTF-8\n",
       "Language: en\n",
       "Country: null\n",
       "--></g></svg>"
      ]
     },
     "execution_count": 56,
     "metadata": {},
     "output_type": "execute_result"
    }
   ],
   "source": [
    "%viz --style=\"ORTHOLINE\" --view=\"Sequence\" \"CircularImport\""
   ]
  },
  {
   "cell_type": "code",
   "execution_count": 57,
   "id": "935ddcd7",
   "metadata": {
    "execution": {
     "iopub.execute_input": "2021-12-15T15:15:40.588920Z",
     "iopub.status.busy": "2021-12-15T15:15:40.588535Z",
     "iopub.status.idle": "2021-12-15T15:15:40.624514Z",
     "shell.execute_reply": "2021-12-15T15:15:40.624142Z"
    }
   },
   "outputs": [
    {
     "data": {
      "image/svg+xml": [
       "<?xml version=\"1.0\" encoding=\"UTF-8\" standalone=\"no\"?><svg xmlns=\"http://www.w3.org/2000/svg\" xmlns:xlink=\"http://www.w3.org/1999/xlink\" contentScriptType=\"application/ecmascript\" contentStyleType=\"text/css\" height=\"303px\" preserveAspectRatio=\"none\" style=\"width:518px;height:303px;\" version=\"1.1\" viewBox=\"0 0 518 303\" width=\"518px\" zoomAndPan=\"magnify\"><defs/><g><!--MD5=[fbc87193dbaf4d95561dea2c320d4a47]\n",
       "cluster E1--><a href=\"psysml:6d002b47-1de9-4cb8-be5e-1d54cb7fff5c\" target=\"_top\" title=\"psysml:6d002b47-1de9-4cb8-be5e-1d54cb7fff5c\" xlink:actuate=\"onRequest\" xlink:href=\"psysml:6d002b47-1de9-4cb8-be5e-1d54cb7fff5c\" xlink:show=\"new\" xlink:title=\"psysml:6d002b47-1de9-4cb8-be5e-1d54cb7fff5c\" xlink:type=\"simple\"><polygon fill=\"#FFFFFF\" points=\"16,6,117,6,124,28.2969,496,28.2969,496,291,16,291,16,6\" style=\"stroke: #000000; stroke-width: 1.5;\"/><line style=\"stroke: #000000; stroke-width: 1.5;\" x1=\"16\" x2=\"124\" y1=\"28.2969\" y2=\"28.2969\"/><text fill=\"#000000\" font-family=\"sans-serif\" font-size=\"14\" font-weight=\"bold\" lengthAdjust=\"spacingAndGlyphs\" textLength=\"95\" x=\"20\" y=\"20.9951\">CircularImport</text></a><!--MD5=[e4f7fae6ed58524ba242bb0b0d3be6b7]\n",
       "cluster E2--><a href=\"psysml:531dfa6c-428e-410a-a6f8-c5b9ff8ecb34\" target=\"_top\" title=\"psysml:531dfa6c-428e-410a-a6f8-c5b9ff8ecb34\" xlink:actuate=\"onRequest\" xlink:href=\"psysml:531dfa6c-428e-410a-a6f8-c5b9ff8ecb34\" xlink:show=\"new\" xlink:title=\"psysml:531dfa6c-428e-410a-a6f8-c5b9ff8ecb34\" xlink:type=\"simple\"><polygon fill=\"#FFFFFF\" points=\"331,170,355,170,362,192.2969,433,192.2969,433,267,331,267,331,170\" style=\"stroke: #000000; stroke-width: 1.5;\"/><line style=\"stroke: #000000; stroke-width: 1.5;\" x1=\"331\" x2=\"362\" y1=\"192.2969\" y2=\"192.2969\"/><text fill=\"#000000\" font-family=\"sans-serif\" font-size=\"14\" font-weight=\"bold\" lengthAdjust=\"spacingAndGlyphs\" textLength=\"18\" x=\"335\" y=\"184.9951\">P1</text></a><!--MD5=[f6df4d0ebaf0b5dfb2ced0ae5af7c670]\n",
       "cluster E4--><a href=\"psysml:62a929fe-702a-4460-9e53-8584d6f6435e\" target=\"_top\" title=\"psysml:62a929fe-702a-4460-9e53-8584d6f6435e\" xlink:actuate=\"onRequest\" xlink:href=\"psysml:62a929fe-702a-4460-9e53-8584d6f6435e\" xlink:show=\"new\" xlink:title=\"psysml:62a929fe-702a-4460-9e53-8584d6f6435e\" xlink:type=\"simple\"><polygon fill=\"#FFFFFF\" points=\"79,170,103,170,110,192.2969,181,192.2969,181,267,79,267,79,170\" style=\"stroke: #000000; stroke-width: 1.5;\"/><line style=\"stroke: #000000; stroke-width: 1.5;\" x1=\"79\" x2=\"110\" y1=\"192.2969\" y2=\"192.2969\"/><text fill=\"#000000\" font-family=\"sans-serif\" font-size=\"14\" font-weight=\"bold\" lengthAdjust=\"spacingAndGlyphs\" textLength=\"18\" x=\"83\" y=\"184.9951\">P2</text></a><!--MD5=[14e3b0961a2654348d326746436168a1]\n",
       "cluster E6--><a href=\"psysml:0f17a3a9-0805-4d7f-ba6a-07da905c8abf\" target=\"_top\" title=\"psysml:0f17a3a9-0805-4d7f-ba6a-07da905c8abf\" xlink:actuate=\"onRequest\" xlink:href=\"psysml:0f17a3a9-0805-4d7f-ba6a-07da905c8abf\" xlink:show=\"new\" xlink:title=\"psysml:0f17a3a9-0805-4d7f-ba6a-07da905c8abf\" xlink:type=\"simple\"><polygon fill=\"#FFFFFF\" points=\"268,49,314,49,321,71.2969,419,71.2969,419,146,268,146,268,49\" style=\"stroke: #000000; stroke-width: 1.5;\"/><line style=\"stroke: #000000; stroke-width: 1.5;\" x1=\"268\" x2=\"321\" y1=\"71.2969\" y2=\"71.2969\"/><text fill=\"#000000\" font-family=\"sans-serif\" font-size=\"14\" font-weight=\"bold\" lengthAdjust=\"spacingAndGlyphs\" textLength=\"40\" x=\"272\" y=\"63.9951\">Test1</text></a><!--MD5=[7f149f147074ac12df2cb0a7728a5fb0]\n",
       "cluster E9--><a href=\"psysml:a06e7d3b-be80-4318-b479-ae1779c5974b\" target=\"_top\" title=\"psysml:a06e7d3b-be80-4318-b479-ae1779c5974b\" xlink:actuate=\"onRequest\" xlink:href=\"psysml:a06e7d3b-be80-4318-b479-ae1779c5974b\" xlink:show=\"new\" xlink:title=\"psysml:a06e7d3b-be80-4318-b479-ae1779c5974b\" xlink:type=\"simple\"><polygon fill=\"#FFFFFF\" points=\"93,49,139,49,146,71.2969,244,71.2969,244,146,93,146,93,49\" style=\"stroke: #000000; stroke-width: 1.5;\"/><line style=\"stroke: #000000; stroke-width: 1.5;\" x1=\"93\" x2=\"146\" y1=\"71.2969\" y2=\"71.2969\"/><text fill=\"#000000\" font-family=\"sans-serif\" font-size=\"14\" font-weight=\"bold\" lengthAdjust=\"spacingAndGlyphs\" textLength=\"40\" x=\"97\" y=\"63.9951\">Test2</text></a><!--MD5=[49a0ec8f00dab7302a31f22d0f0fe584]\n",
       "class E12--><a href=\"psysml:665d223a-8fea-436a-b414-0efd919424fb\" target=\"_top\" title=\"psysml:665d223a-8fea-436a-b414-0efd919424fb\" xlink:actuate=\"onRequest\" xlink:href=\"psysml:665d223a-8fea-436a-b414-0efd919424fb\" xlink:show=\"new\" xlink:title=\"psysml:665d223a-8fea-436a-b414-0efd919424fb\" xlink:type=\"simple\"><rect fill=\"#FFFFFF\" height=\"45.9375\" id=\"E12\" rx=\"10\" ry=\"10\" style=\"stroke: #383838; stroke-width: 1.5;\" width=\"42\" x=\"438\" y=\"84\"/><text fill=\"#000000\" font-family=\"sans-serif\" font-size=\"12\" font-style=\"italic\" lengthAdjust=\"spacingAndGlyphs\" textLength=\"40\" x=\"439\" y=\"100.1387\">«part»</text><text fill=\"#000000\" font-family=\"sans-serif\" font-size=\"12\" lengthAdjust=\"spacingAndGlyphs\" textLength=\"22\" x=\"446\" y=\"114.1074\">x: A</text><line style=\"stroke: #383838; stroke-width: 1.5;\" x1=\"439\" x2=\"479\" y1=\"121.9375\" y2=\"121.9375\"/></a><!--MD5=[ee3c913d1a06f366521f9ef512b67efe]\n",
       "class E13--><a href=\"psysml:a1b35d80-8992-43c2-aa5d-6937f2901599\" target=\"_top\" title=\"psysml:a1b35d80-8992-43c2-aa5d-6937f2901599\" xlink:actuate=\"onRequest\" xlink:href=\"psysml:a1b35d80-8992-43c2-aa5d-6937f2901599\" xlink:show=\"new\" xlink:title=\"psysml:a1b35d80-8992-43c2-aa5d-6937f2901599\" xlink:type=\"simple\"><rect fill=\"#FFFFFF\" height=\"45.9375\" id=\"E13\" rx=\"10\" ry=\"10\" style=\"stroke: #383838; stroke-width: 1.5;\" width=\"42\" x=\"32\" y=\"84\"/><text fill=\"#000000\" font-family=\"sans-serif\" font-size=\"12\" font-style=\"italic\" lengthAdjust=\"spacingAndGlyphs\" textLength=\"40\" x=\"33\" y=\"100.1387\">«part»</text><text fill=\"#000000\" font-family=\"sans-serif\" font-size=\"12\" lengthAdjust=\"spacingAndGlyphs\" textLength=\"22\" x=\"40\" y=\"114.1074\">y: B</text><line style=\"stroke: #383838; stroke-width: 1.5;\" x1=\"33\" x2=\"73\" y1=\"121.9375\" y2=\"121.9375\"/></a><!--MD5=[09b614a08d8cba4a07c9adeb5e0fee81]\n",
       "class E3--><a href=\"psysml:8ceeee5f-0d5a-4279-aee9-7758649ab8be\" target=\"_top\" title=\"psysml:8ceeee5f-0d5a-4279-aee9-7758649ab8be\" xlink:actuate=\"onRequest\" xlink:href=\"psysml:8ceeee5f-0d5a-4279-aee9-7758649ab8be\" xlink:show=\"new\" xlink:title=\"psysml:8ceeee5f-0d5a-4279-aee9-7758649ab8be\" xlink:type=\"simple\"><rect fill=\"#FFFFFF\" height=\"45.9375\" id=\"E3\" style=\"stroke: #383838; stroke-width: 1.5;\" width=\"70\" x=\"347\" y=\"205\"/><text fill=\"#000000\" font-family=\"sans-serif\" font-size=\"12\" font-style=\"italic\" lengthAdjust=\"spacingAndGlyphs\" textLength=\"68\" x=\"348\" y=\"221.1387\">«part  def»</text><text fill=\"#000000\" font-family=\"sans-serif\" font-size=\"12\" lengthAdjust=\"spacingAndGlyphs\" textLength=\"8\" x=\"378\" y=\"235.1074\">A</text><line style=\"stroke: #383838; stroke-width: 1.5;\" x1=\"348\" x2=\"416\" y1=\"242.9375\" y2=\"242.9375\"/></a><!--MD5=[270fce915f116d4de14055a7c1d9a0f3]\n",
       "class E5--><a href=\"psysml:90844ba8-c1a9-4c46-b7c9-d1a2572e7365\" target=\"_top\" title=\"psysml:90844ba8-c1a9-4c46-b7c9-d1a2572e7365\" xlink:actuate=\"onRequest\" xlink:href=\"psysml:90844ba8-c1a9-4c46-b7c9-d1a2572e7365\" xlink:show=\"new\" xlink:title=\"psysml:90844ba8-c1a9-4c46-b7c9-d1a2572e7365\" xlink:type=\"simple\"><rect fill=\"#FFFFFF\" height=\"45.9375\" id=\"E5\" style=\"stroke: #383838; stroke-width: 1.5;\" width=\"70\" x=\"95\" y=\"205\"/><text fill=\"#000000\" font-family=\"sans-serif\" font-size=\"12\" font-style=\"italic\" lengthAdjust=\"spacingAndGlyphs\" textLength=\"68\" x=\"96\" y=\"221.1387\">«part  def»</text><text fill=\"#000000\" font-family=\"sans-serif\" font-size=\"12\" lengthAdjust=\"spacingAndGlyphs\" textLength=\"8\" x=\"126\" y=\"235.1074\">B</text><line style=\"stroke: #383838; stroke-width: 1.5;\" x1=\"96\" x2=\"164\" y1=\"242.9375\" y2=\"242.9375\"/></a><!--MD5=[2156ba9850f5573cc1fc38a6a4b2f02b]\n",
       "class E7--><a href=\"psysml:9a31b8cb-b3f5-4478-b49b-73e9fd0f6da5\" target=\"_top\" title=\"psysml:9a31b8cb-b3f5-4478-b49b-73e9fd0f6da5\" xlink:actuate=\"onRequest\" xlink:href=\"psysml:9a31b8cb-b3f5-4478-b49b-73e9fd0f6da5\" xlink:show=\"new\" xlink:title=\"psysml:9a31b8cb-b3f5-4478-b49b-73e9fd0f6da5\" xlink:type=\"simple\"><rect fill=\"#FFFFFF\" height=\"45.9375\" id=\"E7\" rx=\"10\" ry=\"10\" style=\"stroke: #383838; stroke-width: 1.5;\" width=\"42\" x=\"361\" y=\"84\"/><text fill=\"#000000\" font-family=\"sans-serif\" font-size=\"12\" font-style=\"italic\" lengthAdjust=\"spacingAndGlyphs\" textLength=\"40\" x=\"362\" y=\"100.1387\">«part»</text><text fill=\"#000000\" font-family=\"sans-serif\" font-size=\"12\" lengthAdjust=\"spacingAndGlyphs\" textLength=\"22\" x=\"369\" y=\"114.1074\">x: A</text><line style=\"stroke: #383838; stroke-width: 1.5;\" x1=\"362\" x2=\"402\" y1=\"121.9375\" y2=\"121.9375\"/></a><!--MD5=[b9389687b975829384b498ac4b7476b2]\n",
       "class E8--><a href=\"psysml:084cb86b-cc59-4a41-8b1c-7b7410cc5029\" target=\"_top\" title=\"psysml:084cb86b-cc59-4a41-8b1c-7b7410cc5029\" xlink:actuate=\"onRequest\" xlink:href=\"psysml:084cb86b-cc59-4a41-8b1c-7b7410cc5029\" xlink:show=\"new\" xlink:title=\"psysml:084cb86b-cc59-4a41-8b1c-7b7410cc5029\" xlink:type=\"simple\"><rect fill=\"#FFFFFF\" height=\"45.9375\" id=\"E8\" rx=\"10\" ry=\"10\" style=\"stroke: #383838; stroke-width: 1.5;\" width=\"42\" x=\"284\" y=\"84\"/><text fill=\"#000000\" font-family=\"sans-serif\" font-size=\"12\" font-style=\"italic\" lengthAdjust=\"spacingAndGlyphs\" textLength=\"40\" x=\"285\" y=\"100.1387\">«part»</text><text fill=\"#000000\" font-family=\"sans-serif\" font-size=\"12\" lengthAdjust=\"spacingAndGlyphs\" textLength=\"22\" x=\"292\" y=\"114.1074\">y: B</text><line style=\"stroke: #383838; stroke-width: 1.5;\" x1=\"285\" x2=\"325\" y1=\"121.9375\" y2=\"121.9375\"/></a><!--MD5=[96f4274e9e20536e775497830990834d]\n",
       "class E10--><a href=\"psysml:377a64d2-1aa6-4a9b-ba95-6aeb6c1d992f\" target=\"_top\" title=\"psysml:377a64d2-1aa6-4a9b-ba95-6aeb6c1d992f\" xlink:actuate=\"onRequest\" xlink:href=\"psysml:377a64d2-1aa6-4a9b-ba95-6aeb6c1d992f\" xlink:show=\"new\" xlink:title=\"psysml:377a64d2-1aa6-4a9b-ba95-6aeb6c1d992f\" xlink:type=\"simple\"><rect fill=\"#FFFFFF\" height=\"45.9375\" id=\"E10\" rx=\"10\" ry=\"10\" style=\"stroke: #383838; stroke-width: 1.5;\" width=\"42\" x=\"186\" y=\"84\"/><text fill=\"#000000\" font-family=\"sans-serif\" font-size=\"12\" font-style=\"italic\" lengthAdjust=\"spacingAndGlyphs\" textLength=\"40\" x=\"187\" y=\"100.1387\">«part»</text><text fill=\"#000000\" font-family=\"sans-serif\" font-size=\"12\" lengthAdjust=\"spacingAndGlyphs\" textLength=\"22\" x=\"194\" y=\"114.1074\">x: A</text><line style=\"stroke: #383838; stroke-width: 1.5;\" x1=\"187\" x2=\"227\" y1=\"121.9375\" y2=\"121.9375\"/></a><!--MD5=[1dd1bfd58a279cf63c5f349dbc8fc6a1]\n",
       "class E11--><a href=\"psysml:7cdd5db6-fbbe-4f9d-b259-3a085be4f068\" target=\"_top\" title=\"psysml:7cdd5db6-fbbe-4f9d-b259-3a085be4f068\" xlink:actuate=\"onRequest\" xlink:href=\"psysml:7cdd5db6-fbbe-4f9d-b259-3a085be4f068\" xlink:show=\"new\" xlink:title=\"psysml:7cdd5db6-fbbe-4f9d-b259-3a085be4f068\" xlink:type=\"simple\"><rect fill=\"#FFFFFF\" height=\"45.9375\" id=\"E11\" rx=\"10\" ry=\"10\" style=\"stroke: #383838; stroke-width: 1.5;\" width=\"42\" x=\"109\" y=\"84\"/><text fill=\"#000000\" font-family=\"sans-serif\" font-size=\"12\" font-style=\"italic\" lengthAdjust=\"spacingAndGlyphs\" textLength=\"40\" x=\"110\" y=\"100.1387\">«part»</text><text fill=\"#000000\" font-family=\"sans-serif\" font-size=\"12\" lengthAdjust=\"spacingAndGlyphs\" textLength=\"22\" x=\"117\" y=\"114.1074\">y: B</text><line style=\"stroke: #383838; stroke-width: 1.5;\" x1=\"110\" x2=\"150\" y1=\"121.9375\" y2=\"121.9375\"/></a><!--MD5=[14ccda38c055a5c0da953d572bc50960]\n",
       "link E7 to E3--><a href=\"psysml:0b2c7bde-3c6f-4711-9ee8-a744dba64aec\" target=\"_top\" title=\"psysml:0b2c7bde-3c6f-4711-9ee8-a744dba64aec\" xlink:actuate=\"onRequest\" xlink:href=\"psysml:0b2c7bde-3c6f-4711-9ee8-a744dba64aec\" xlink:show=\"new\" xlink:title=\"psysml:0b2c7bde-3c6f-4711-9ee8-a744dba64aec\" xlink:type=\"simple\"><path d=\"M382,130.04 C382,130.04 382,184.63 382,184.63 \" fill=\"none\" id=\"E7-&gt;E3\" style=\"stroke: #383838; stroke-width: 1.0;\"/><polygon fill=\"#FFFFFF\" points=\"382,204.63,375,185.63,389,185.63,382,204.63\" style=\"stroke: #383838; stroke-width: 1.0;\"/><ellipse cx=\"377\" cy=\"179.93\" fill=\"#383838\" rx=\"2\" ry=\"2\" style=\"stroke: #383838; stroke-width: 1.0;\"/><ellipse cx=\"387\" cy=\"179.93\" fill=\"#383838\" rx=\"2\" ry=\"2\" style=\"stroke: #383838; stroke-width: 1.0;\"/></a><!--MD5=[1ccb2481ffa92f8d51a74ee30c51832a]\n",
       "link E8 to E5--><a href=\"psysml:16eea2e1-2a1c-45c0-89dc-072c92b0db51\" target=\"_top\" title=\"psysml:16eea2e1-2a1c-45c0-89dc-072c92b0db51\" xlink:actuate=\"onRequest\" xlink:href=\"psysml:16eea2e1-2a1c-45c0-89dc-072c92b0db51\" xlink:show=\"new\" xlink:title=\"psysml:16eea2e1-2a1c-45c0-89dc-072c92b0db51\" xlink:type=\"simple\"><path d=\"M305,130.06 C305,167.17 305,236 305,236 C305,236 185.41,236 185.41,236 \" fill=\"none\" id=\"E8-&gt;E5\" style=\"stroke: #383838; stroke-width: 1.0;\"/><polygon fill=\"#FFFFFF\" points=\"165.41,236,184.41,229,184.41,243,165.41,236\" style=\"stroke: #383838; stroke-width: 1.0;\"/><ellipse cx=\"190.11\" cy=\"231\" fill=\"#383838\" rx=\"2\" ry=\"2\" style=\"stroke: #383838; stroke-width: 1.0;\"/><ellipse cx=\"190.11\" cy=\"241\" fill=\"#383838\" rx=\"2\" ry=\"2\" style=\"stroke: #383838; stroke-width: 1.0;\"/></a><!--MD5=[feeac5eb423634930294aa81f2d25a4c]\n",
       "link E10 to E3--><a href=\"psysml:0ac0ff17-b961-483b-88a6-6c34531d2872\" target=\"_top\" title=\"psysml:0ac0ff17-b961-483b-88a6-6c34531d2872\" xlink:actuate=\"onRequest\" xlink:href=\"psysml:0ac0ff17-b961-483b-88a6-6c34531d2872\" xlink:show=\"new\" xlink:title=\"psysml:0ac0ff17-b961-483b-88a6-6c34531d2872\" xlink:type=\"simple\"><path d=\"M207,130.07 C207,163.38 207,221 207,221 C207,221 326.59,221 326.59,221 \" fill=\"none\" id=\"E10-&gt;E3\" style=\"stroke: #383838; stroke-width: 1.0;\"/><polygon fill=\"#FFFFFF\" points=\"346.59,221,327.59,228,327.59,214,346.59,221\" style=\"stroke: #383838; stroke-width: 1.0;\"/><ellipse cx=\"321.89\" cy=\"226\" fill=\"#383838\" rx=\"2\" ry=\"2\" style=\"stroke: #383838; stroke-width: 1.0;\"/><ellipse cx=\"321.89\" cy=\"216\" fill=\"#383838\" rx=\"2\" ry=\"2\" style=\"stroke: #383838; stroke-width: 1.0;\"/></a><!--MD5=[07b77f6f309248d16187045709d1c26e]\n",
       "link E11 to E5--><a href=\"psysml:7353245a-aec5-4316-8af8-2852475c4dc4\" target=\"_top\" title=\"psysml:7353245a-aec5-4316-8af8-2852475c4dc4\" xlink:actuate=\"onRequest\" xlink:href=\"psysml:7353245a-aec5-4316-8af8-2852475c4dc4\" xlink:show=\"new\" xlink:title=\"psysml:7353245a-aec5-4316-8af8-2852475c4dc4\" xlink:type=\"simple\"><path d=\"M130,130.04 C130,130.04 130,184.63 130,184.63 \" fill=\"none\" id=\"E11-&gt;E5\" style=\"stroke: #383838; stroke-width: 1.0;\"/><polygon fill=\"#FFFFFF\" points=\"130,204.63,123,185.63,137,185.63,130,204.63\" style=\"stroke: #383838; stroke-width: 1.0;\"/><ellipse cx=\"125\" cy=\"179.93\" fill=\"#383838\" rx=\"2\" ry=\"2\" style=\"stroke: #383838; stroke-width: 1.0;\"/><ellipse cx=\"135\" cy=\"179.93\" fill=\"#383838\" rx=\"2\" ry=\"2\" style=\"stroke: #383838; stroke-width: 1.0;\"/></a><!--MD5=[39f41a0e550fb3d73b4d8135617e30a2]\n",
       "link E12 to E3--><a href=\"psysml:6cc10db6-ba98-48a2-919a-a7b34cb2bdfc\" target=\"_top\" title=\"psysml:6cc10db6-ba98-48a2-919a-a7b34cb2bdfc\" xlink:actuate=\"onRequest\" xlink:href=\"psysml:6cc10db6-ba98-48a2-919a-a7b34cb2bdfc\" xlink:show=\"new\" xlink:title=\"psysml:6cc10db6-ba98-48a2-919a-a7b34cb2bdfc\" xlink:type=\"simple\"><path d=\"M437.94,107 C424.65,107 410,107 410,107 C410,107 410,184.96 410,184.96 \" fill=\"none\" id=\"E12-&gt;E3\" style=\"stroke: #383838; stroke-width: 1.0;\"/><polygon fill=\"#FFFFFF\" points=\"410,204.96,403,185.96,417,185.96,410,204.96\" style=\"stroke: #383838; stroke-width: 1.0;\"/><ellipse cx=\"405\" cy=\"180.26\" fill=\"#383838\" rx=\"2\" ry=\"2\" style=\"stroke: #383838; stroke-width: 1.0;\"/><ellipse cx=\"415\" cy=\"180.26\" fill=\"#383838\" rx=\"2\" ry=\"2\" style=\"stroke: #383838; stroke-width: 1.0;\"/></a><!--MD5=[066b2d8af59fea80ccdb3d54ad5c1091]\n",
       "link E13 to E5--><a href=\"psysml:fb180b05-d2cf-42d1-bf2a-01829ad20206\" target=\"_top\" title=\"psysml:fb180b05-d2cf-42d1-bf2a-01829ad20206\" xlink:actuate=\"onRequest\" xlink:href=\"psysml:fb180b05-d2cf-42d1-bf2a-01829ad20206\" xlink:show=\"new\" xlink:title=\"psysml:fb180b05-d2cf-42d1-bf2a-01829ad20206\" xlink:type=\"simple\"><path d=\"M74.06,107 C87.35,107 102,107 102,107 C102,107 102,184.96 102,184.96 \" fill=\"none\" id=\"E13-&gt;E5\" style=\"stroke: #383838; stroke-width: 1.0;\"/><polygon fill=\"#FFFFFF\" points=\"102,204.96,95,185.96,109,185.96,102,204.96\" style=\"stroke: #383838; stroke-width: 1.0;\"/><ellipse cx=\"97\" cy=\"180.26\" fill=\"#383838\" rx=\"2\" ry=\"2\" style=\"stroke: #383838; stroke-width: 1.0;\"/><ellipse cx=\"107\" cy=\"180.26\" fill=\"#383838\" rx=\"2\" ry=\"2\" style=\"stroke: #383838; stroke-width: 1.0;\"/></a><!--MD5=[67fbfb107f247382799e40b73f783865]\n",
       "@startuml\r\n",
       "skinparam linetype ortho\r\n",
       "skinparam monochrome true\r\n",
       "skinparam classbackgroundcolor white\r\n",
       "skinparam shadowing false\r\n",
       "skinparam wrapWidth 300\r\n",
       "hide circle\r\n",
       "\r\n",
       "package \"CircularImport\" as E1  [[psysml:6d002b47-1de9-4cb8-be5e-1d54cb7fff5c ]]  {\r\n",
       "package \"P1\" as E2  [[psysml:531dfa6c-428e-410a-a6f8-c5b9ff8ecb34 ]]  {\r\n",
       "comp def \"A\" as E3  <<(T,blue) part  def>> [[psysml:8ceeee5f-0d5a-4279-aee9-7758649ab8be ]] {\r\n",
       "}\r\n",
       "}\r\n",
       "package \"P2\" as E4  [[psysml:62a929fe-702a-4460-9e53-8584d6f6435e ]]  {\r\n",
       "comp def \"B\" as E5  <<(T,blue) part  def>> [[psysml:90844ba8-c1a9-4c46-b7c9-d1a2572e7365 ]] {\r\n",
       "}\r\n",
       "}\r\n",
       "package \"Test1\" as E6  [[psysml:0f17a3a9-0805-4d7f-ba6a-07da905c8abf ]]  {\r\n",
       "comp usage \"x: A \" as E7  <<(T,blue) part>> [[psysml:9a31b8cb-b3f5-4478-b49b-73e9fd0f6da5 ]] {\r\n",
       "}\r\n",
       "comp usage \"y: B \" as E8  <<(T,blue) part>> [[psysml:084cb86b-cc59-4a41-8b1c-7b7410cc5029 ]] {\r\n",
       "}\r\n",
       "}\r\n",
       "package \"Test2\" as E9  [[psysml:a06e7d3b-be80-4318-b479-ae1779c5974b ]]  {\r\n",
       "comp usage \"x: A \" as E10  <<(T,blue) part>> [[psysml:377a64d2-1aa6-4a9b-ba95-6aeb6c1d992f ]] {\r\n",
       "}\r\n",
       "comp usage \"y: B \" as E11  <<(T,blue) part>> [[psysml:7cdd5db6-fbbe-4f9d-b259-3a085be4f068 ]] {\r\n",
       "}\r\n",
       "}\r\n",
       "comp usage \"x: A \" as E12  <<(T,blue) part>> [[psysml:665d223a-8fea-436a-b414-0efd919424fb ]] {\r\n",
       "}\r\n",
       "comp usage \"y: B \" as E13  <<(T,blue) part>> [[psysml:a1b35d80-8992-43c2-aa5d-6937f2901599 ]] {\r\n",
       "}\r\n",
       "}\r\n",
       "E7 - -:|> E3 [[psysml:0b2c7bde-3c6f-4711-9ee8-a744dba64aec ]] \r\n",
       "E8 - -:|> E5 [[psysml:16eea2e1-2a1c-45c0-89dc-072c92b0db51 ]] \r\n",
       "E10 - -:|> E3 [[psysml:0ac0ff17-b961-483b-88a6-6c34531d2872 ]] \r\n",
       "E11 - -:|> E5 [[psysml:7353245a-aec5-4316-8af8-2852475c4dc4 ]] \r\n",
       "E12 - -:|> E3 [[psysml:6cc10db6-ba98-48a2-919a-a7b34cb2bdfc ]] \r\n",
       "E13 - -:|> E5 [[psysml:fb180b05-d2cf-42d1-bf2a-01829ad20206 ]] \r\n",
       "@enduml\r\n",
       "\n",
       "PlantUML version 1.2020.13(Sat Jun 13 12:26:38 UTC 2020)\n",
       "(EPL source distribution)\n",
       "Java Runtime: OpenJDK Runtime Environment\n",
       "JVM: OpenJDK 64-Bit Server VM\n",
       "Default Encoding: UTF-8\n",
       "Language: en\n",
       "Country: null\n",
       "--></g></svg>"
      ]
     },
     "execution_count": 57,
     "metadata": {},
     "output_type": "execute_result"
    }
   ],
   "source": [
    "%viz --style=\"ORTHOLINE\" --view=\"MIXED\" \"CircularImport\""
   ]
  }
 ],
 "metadata": {
  "kernelspec": {
   "display_name": "SysML",
   "language": "sysml",
   "name": "sysml"
  },
  "language_info": {
   "codemirror_mode": "sysml",
   "file_extension": ".sysml",
   "mimetype": "text/x-sysml",
   "name": "SysML",
   "pygments_lexer": "java",
   "version": "1.0.0"
  }
 },
 "nbformat": 4,
 "nbformat_minor": 5
}
