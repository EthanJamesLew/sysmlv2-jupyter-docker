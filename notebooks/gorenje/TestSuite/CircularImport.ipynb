{
 "cells": [
  {
   "cell_type": "markdown",
   "id": "040538ec",
   "metadata": {},
   "source": [
    "# SysML v2 Test Suite\n",
    "\n",
    "This can notebook can be cleared using menu `Edit --> Clear All Outputs` and then all cells can be\n",
    "run using menu `Run --> Run All Cells`.\n",
    "\n",
    "**WARNING**: This file is generated, all modifications here will be ignored.\n"
   ]
  },
  {
   "cell_type": "markdown",
   "id": "4ca41d02",
   "metadata": {},
   "source": [
    "## File: ../../sysml/src/examples/Import Tests/CircularImport.sysml"
   ]
  },
  {
   "cell_type": "code",
   "execution_count": 1,
   "id": "f9a6f53d",
   "metadata": {
    "execution": {
     "iopub.execute_input": "2021-04-20T06:57:50.373191Z",
     "iopub.status.busy": "2021-04-20T06:57:50.371093Z",
     "iopub.status.idle": "2021-04-20T06:57:50.491615Z",
     "shell.execute_reply": "2021-04-20T06:57:50.490863Z"
    }
   },
   "outputs": [
    {
     "data": {
      "text/plain": [
       "Package CircularImport (f9387092-3bd6-4062-9155-6e0eb7243cd4)\n"
      ]
     },
     "execution_count": 1,
     "metadata": {},
     "output_type": "execute_result"
    }
   ],
   "source": [
    "package CircularImport {\n",
    "\n",
    "\tpackage P1 {\n",
    "\t\timport P2::*;\n",
    "\t\tpart def A;\n",
    "\t}\n",
    "\tpackage P2 {\n",
    "\t\timport P1::*;\n",
    "\t\tpart def B;\n",
    "\t}\n",
    "\tpackage Test1 {\n",
    "\t\timport P1::*;\n",
    "\t\tpart x: A;\n",
    "\t\tpart y: B;\n",
    "\t}\n",
    "\tpackage Test2 {\n",
    "\t\timport P2::*;\n",
    "\t\tpart x: A;\n",
    "\t\tpart y: B;\n",
    "\t}\n",
    "\t\n",
    "\tpart x: P1::A;\n",
    "\t\n",
    "\t// The following should not fail.\n",
    "\tpart y: P1::B;\n",
    "\t\n",
    "}"
   ]
  },
  {
   "cell_type": "code",
   "execution_count": 2,
   "id": "76a0faa7",
   "metadata": {
    "execution": {
     "iopub.execute_input": "2021-04-20T06:57:50.543613Z",
     "iopub.status.busy": "2021-04-20T06:57:50.543196Z",
     "iopub.status.idle": "2021-04-20T06:57:51.228373Z",
     "shell.execute_reply": "2021-04-20T06:57:51.228002Z"
    }
   },
   "outputs": [
    {
     "data": {
      "image/svg+xml": [
       "<?xml version=\"1.0\" encoding=\"UTF-8\" standalone=\"no\"?><svg xmlns=\"http://www.w3.org/2000/svg\" xmlns:xlink=\"http://www.w3.org/1999/xlink\" contentScriptType=\"application/ecmascript\" contentStyleType=\"text/css\" height=\"303px\" preserveAspectRatio=\"none\" style=\"width:518px;height:303px;\" version=\"1.1\" viewBox=\"0 0 518 303\" width=\"518px\" zoomAndPan=\"magnify\"><defs/><g><!--MD5=[fbc87193dbaf4d95561dea2c320d4a47]\n",
       "cluster E1--><a href=\"psysml:690cd2ec-4fe7-4d94-89bf-c3d63ed60cd3\" target=\"_top\" title=\"psysml:690cd2ec-4fe7-4d94-89bf-c3d63ed60cd3\" xlink:actuate=\"onRequest\" xlink:href=\"psysml:690cd2ec-4fe7-4d94-89bf-c3d63ed60cd3\" xlink:show=\"new\" xlink:title=\"psysml:690cd2ec-4fe7-4d94-89bf-c3d63ed60cd3\" xlink:type=\"simple\"><polygon fill=\"#FFFFFF\" points=\"16,6,134,6,141,28.2969,496,28.2969,496,291,16,291,16,6\" style=\"stroke: #000000; stroke-width: 1.5;\"/><line style=\"stroke: #000000; stroke-width: 1.5;\" x1=\"16\" x2=\"141\" y1=\"28.2969\" y2=\"28.2969\"/><text fill=\"#000000\" font-family=\"sans-serif\" font-size=\"14\" font-weight=\"bold\" lengthAdjust=\"spacingAndGlyphs\" textLength=\"112\" x=\"20\" y=\"20.9951\">CircularImport</text></a><!--MD5=[e4f7fae6ed58524ba242bb0b0d3be6b7]\n",
       "cluster E2--><a href=\"psysml:54e3154d-4fa4-4c14-a367-edca149a76a1\" target=\"_top\" title=\"psysml:54e3154d-4fa4-4c14-a367-edca149a76a1\" xlink:actuate=\"onRequest\" xlink:href=\"psysml:54e3154d-4fa4-4c14-a367-edca149a76a1\" xlink:show=\"new\" xlink:title=\"psysml:54e3154d-4fa4-4c14-a367-edca149a76a1\" xlink:type=\"simple\"><polygon fill=\"#FFFFFF\" points=\"333,170,359,170,366,192.2969,431,192.2969,431,267,333,267,333,170\" style=\"stroke: #000000; stroke-width: 1.5;\"/><line style=\"stroke: #000000; stroke-width: 1.5;\" x1=\"333\" x2=\"366\" y1=\"192.2969\" y2=\"192.2969\"/><text fill=\"#000000\" font-family=\"sans-serif\" font-size=\"14\" font-weight=\"bold\" lengthAdjust=\"spacingAndGlyphs\" textLength=\"20\" x=\"337\" y=\"184.9951\">P1</text></a><!--MD5=[f6df4d0ebaf0b5dfb2ced0ae5af7c670]\n",
       "cluster E4--><a href=\"psysml:581c4a9e-fb07-4d80-ac64-c8c7b70027d2\" target=\"_top\" title=\"psysml:581c4a9e-fb07-4d80-ac64-c8c7b70027d2\" xlink:actuate=\"onRequest\" xlink:href=\"psysml:581c4a9e-fb07-4d80-ac64-c8c7b70027d2\" xlink:show=\"new\" xlink:title=\"psysml:581c4a9e-fb07-4d80-ac64-c8c7b70027d2\" xlink:type=\"simple\"><polygon fill=\"#FFFFFF\" points=\"81,170,107,170,114,192.2969,179,192.2969,179,267,81,267,81,170\" style=\"stroke: #000000; stroke-width: 1.5;\"/><line style=\"stroke: #000000; stroke-width: 1.5;\" x1=\"81\" x2=\"114\" y1=\"192.2969\" y2=\"192.2969\"/><text fill=\"#000000\" font-family=\"sans-serif\" font-size=\"14\" font-weight=\"bold\" lengthAdjust=\"spacingAndGlyphs\" textLength=\"20\" x=\"85\" y=\"184.9951\">P2</text></a><!--MD5=[14e3b0961a2654348d326746436168a1]\n",
       "cluster E6--><a href=\"psysml:6bb49afc-ac2c-47b7-b48e-5bd0a62b326b\" target=\"_top\" title=\"psysml:6bb49afc-ac2c-47b7-b48e-5bd0a62b326b\" xlink:actuate=\"onRequest\" xlink:href=\"psysml:6bb49afc-ac2c-47b7-b48e-5bd0a62b326b\" xlink:show=\"new\" xlink:title=\"psysml:6bb49afc-ac2c-47b7-b48e-5bd0a62b326b\" xlink:type=\"simple\"><polygon fill=\"#FFFFFF\" points=\"268,49,319,49,326,71.2969,419,71.2969,419,146,268,146,268,49\" style=\"stroke: #000000; stroke-width: 1.5;\"/><line style=\"stroke: #000000; stroke-width: 1.5;\" x1=\"268\" x2=\"326\" y1=\"71.2969\" y2=\"71.2969\"/><text fill=\"#000000\" font-family=\"sans-serif\" font-size=\"14\" font-weight=\"bold\" lengthAdjust=\"spacingAndGlyphs\" textLength=\"45\" x=\"272\" y=\"63.9951\">Test1</text></a><!--MD5=[7f149f147074ac12df2cb0a7728a5fb0]\n",
       "cluster E9--><a href=\"psysml:051bf7cb-81b8-4c37-8865-8bb7ea974985\" target=\"_top\" title=\"psysml:051bf7cb-81b8-4c37-8865-8bb7ea974985\" xlink:actuate=\"onRequest\" xlink:href=\"psysml:051bf7cb-81b8-4c37-8865-8bb7ea974985\" xlink:show=\"new\" xlink:title=\"psysml:051bf7cb-81b8-4c37-8865-8bb7ea974985\" xlink:type=\"simple\"><polygon fill=\"#FFFFFF\" points=\"93,49,144,49,151,71.2969,244,71.2969,244,146,93,146,93,49\" style=\"stroke: #000000; stroke-width: 1.5;\"/><line style=\"stroke: #000000; stroke-width: 1.5;\" x1=\"93\" x2=\"151\" y1=\"71.2969\" y2=\"71.2969\"/><text fill=\"#000000\" font-family=\"sans-serif\" font-size=\"14\" font-weight=\"bold\" lengthAdjust=\"spacingAndGlyphs\" textLength=\"45\" x=\"97\" y=\"63.9951\">Test2</text></a><!--MD5=[49a0ec8f00dab7302a31f22d0f0fe584]\n",
       "class E12--><a href=\"psysml:87edab01-bf58-4e9e-abd1-c8b0194f7dca\" target=\"_top\" title=\"psysml:87edab01-bf58-4e9e-abd1-c8b0194f7dca\" xlink:actuate=\"onRequest\" xlink:href=\"psysml:87edab01-bf58-4e9e-abd1-c8b0194f7dca\" xlink:show=\"new\" xlink:title=\"psysml:87edab01-bf58-4e9e-abd1-c8b0194f7dca\" xlink:type=\"simple\"><rect fill=\"#FFFFFF\" height=\"45.9375\" id=\"E12\" rx=\"10\" ry=\"10\" style=\"stroke: #383838; stroke-width: 1.5;\" width=\"42\" x=\"438\" y=\"84\"/><text fill=\"#000000\" font-family=\"sans-serif\" font-size=\"12\" font-style=\"italic\" lengthAdjust=\"spacingAndGlyphs\" textLength=\"40\" x=\"439\" y=\"100.1387\">«part»</text><text fill=\"#000000\" font-family=\"sans-serif\" font-size=\"12\" lengthAdjust=\"spacingAndGlyphs\" textLength=\"22\" x=\"448\" y=\"114.1074\">x: A</text><line style=\"stroke: #383838; stroke-width: 1.5;\" x1=\"439\" x2=\"479\" y1=\"121.9375\" y2=\"121.9375\"/></a><!--MD5=[ee3c913d1a06f366521f9ef512b67efe]\n",
       "class E13--><a href=\"psysml:20c5387a-1627-4e14-8312-6f39b31ab3f7\" target=\"_top\" title=\"psysml:20c5387a-1627-4e14-8312-6f39b31ab3f7\" xlink:actuate=\"onRequest\" xlink:href=\"psysml:20c5387a-1627-4e14-8312-6f39b31ab3f7\" xlink:show=\"new\" xlink:title=\"psysml:20c5387a-1627-4e14-8312-6f39b31ab3f7\" xlink:type=\"simple\"><rect fill=\"#FFFFFF\" height=\"45.9375\" id=\"E13\" rx=\"10\" ry=\"10\" style=\"stroke: #383838; stroke-width: 1.5;\" width=\"42\" x=\"32\" y=\"84\"/><text fill=\"#000000\" font-family=\"sans-serif\" font-size=\"12\" font-style=\"italic\" lengthAdjust=\"spacingAndGlyphs\" textLength=\"40\" x=\"33\" y=\"100.1387\">«part»</text><text fill=\"#000000\" font-family=\"sans-serif\" font-size=\"12\" lengthAdjust=\"spacingAndGlyphs\" textLength=\"22\" x=\"42\" y=\"114.1074\">y: B</text><line style=\"stroke: #383838; stroke-width: 1.5;\" x1=\"33\" x2=\"73\" y1=\"121.9375\" y2=\"121.9375\"/></a><!--MD5=[09b614a08d8cba4a07c9adeb5e0fee81]\n",
       "class E3--><a href=\"psysml:281245e6-0723-4878-ac57-c406fd778909\" target=\"_top\" title=\"psysml:281245e6-0723-4878-ac57-c406fd778909\" xlink:actuate=\"onRequest\" xlink:href=\"psysml:281245e6-0723-4878-ac57-c406fd778909\" xlink:show=\"new\" xlink:title=\"psysml:281245e6-0723-4878-ac57-c406fd778909\" xlink:type=\"simple\"><rect fill=\"#FFFFFF\" height=\"45.9375\" id=\"E3\" style=\"stroke: #383838; stroke-width: 1.5;\" width=\"66\" x=\"349\" y=\"205\"/><text fill=\"#000000\" font-family=\"sans-serif\" font-size=\"12\" font-style=\"italic\" lengthAdjust=\"spacingAndGlyphs\" textLength=\"64\" x=\"350\" y=\"221.1387\">«part def»</text><text fill=\"#000000\" font-family=\"sans-serif\" font-size=\"12\" lengthAdjust=\"spacingAndGlyphs\" textLength=\"8\" x=\"378\" y=\"235.1074\">A</text><line style=\"stroke: #383838; stroke-width: 1.5;\" x1=\"350\" x2=\"414\" y1=\"242.9375\" y2=\"242.9375\"/></a><!--MD5=[270fce915f116d4de14055a7c1d9a0f3]\n",
       "class E5--><a href=\"psysml:57665928-471f-4095-91e2-d839a960cf78\" target=\"_top\" title=\"psysml:57665928-471f-4095-91e2-d839a960cf78\" xlink:actuate=\"onRequest\" xlink:href=\"psysml:57665928-471f-4095-91e2-d839a960cf78\" xlink:show=\"new\" xlink:title=\"psysml:57665928-471f-4095-91e2-d839a960cf78\" xlink:type=\"simple\"><rect fill=\"#FFFFFF\" height=\"45.9375\" id=\"E5\" style=\"stroke: #383838; stroke-width: 1.5;\" width=\"66\" x=\"97\" y=\"205\"/><text fill=\"#000000\" font-family=\"sans-serif\" font-size=\"12\" font-style=\"italic\" lengthAdjust=\"spacingAndGlyphs\" textLength=\"64\" x=\"98\" y=\"221.1387\">«part def»</text><text fill=\"#000000\" font-family=\"sans-serif\" font-size=\"12\" lengthAdjust=\"spacingAndGlyphs\" textLength=\"8\" x=\"126\" y=\"235.1074\">B</text><line style=\"stroke: #383838; stroke-width: 1.5;\" x1=\"98\" x2=\"162\" y1=\"242.9375\" y2=\"242.9375\"/></a><!--MD5=[2156ba9850f5573cc1fc38a6a4b2f02b]\n",
       "class E7--><a href=\"psysml:d6e39b1a-8a39-4c69-85ab-aa8551443e08\" target=\"_top\" title=\"psysml:d6e39b1a-8a39-4c69-85ab-aa8551443e08\" xlink:actuate=\"onRequest\" xlink:href=\"psysml:d6e39b1a-8a39-4c69-85ab-aa8551443e08\" xlink:show=\"new\" xlink:title=\"psysml:d6e39b1a-8a39-4c69-85ab-aa8551443e08\" xlink:type=\"simple\"><rect fill=\"#FFFFFF\" height=\"45.9375\" id=\"E7\" rx=\"10\" ry=\"10\" style=\"stroke: #383838; stroke-width: 1.5;\" width=\"42\" x=\"361\" y=\"84\"/><text fill=\"#000000\" font-family=\"sans-serif\" font-size=\"12\" font-style=\"italic\" lengthAdjust=\"spacingAndGlyphs\" textLength=\"40\" x=\"362\" y=\"100.1387\">«part»</text><text fill=\"#000000\" font-family=\"sans-serif\" font-size=\"12\" lengthAdjust=\"spacingAndGlyphs\" textLength=\"22\" x=\"371\" y=\"114.1074\">x: A</text><line style=\"stroke: #383838; stroke-width: 1.5;\" x1=\"362\" x2=\"402\" y1=\"121.9375\" y2=\"121.9375\"/></a><!--MD5=[b9389687b975829384b498ac4b7476b2]\n",
       "class E8--><a href=\"psysml:ead6e64d-b294-4a2d-a1d8-90d3751f1490\" target=\"_top\" title=\"psysml:ead6e64d-b294-4a2d-a1d8-90d3751f1490\" xlink:actuate=\"onRequest\" xlink:href=\"psysml:ead6e64d-b294-4a2d-a1d8-90d3751f1490\" xlink:show=\"new\" xlink:title=\"psysml:ead6e64d-b294-4a2d-a1d8-90d3751f1490\" xlink:type=\"simple\"><rect fill=\"#FFFFFF\" height=\"45.9375\" id=\"E8\" rx=\"10\" ry=\"10\" style=\"stroke: #383838; stroke-width: 1.5;\" width=\"42\" x=\"284\" y=\"84\"/><text fill=\"#000000\" font-family=\"sans-serif\" font-size=\"12\" font-style=\"italic\" lengthAdjust=\"spacingAndGlyphs\" textLength=\"40\" x=\"285\" y=\"100.1387\">«part»</text><text fill=\"#000000\" font-family=\"sans-serif\" font-size=\"12\" lengthAdjust=\"spacingAndGlyphs\" textLength=\"22\" x=\"294\" y=\"114.1074\">y: B</text><line style=\"stroke: #383838; stroke-width: 1.5;\" x1=\"285\" x2=\"325\" y1=\"121.9375\" y2=\"121.9375\"/></a><!--MD5=[96f4274e9e20536e775497830990834d]\n",
       "class E10--><a href=\"psysml:f3cb1211-10b9-411e-bf19-d5722693e1fe\" target=\"_top\" title=\"psysml:f3cb1211-10b9-411e-bf19-d5722693e1fe\" xlink:actuate=\"onRequest\" xlink:href=\"psysml:f3cb1211-10b9-411e-bf19-d5722693e1fe\" xlink:show=\"new\" xlink:title=\"psysml:f3cb1211-10b9-411e-bf19-d5722693e1fe\" xlink:type=\"simple\"><rect fill=\"#FFFFFF\" height=\"45.9375\" id=\"E10\" rx=\"10\" ry=\"10\" style=\"stroke: #383838; stroke-width: 1.5;\" width=\"42\" x=\"186\" y=\"84\"/><text fill=\"#000000\" font-family=\"sans-serif\" font-size=\"12\" font-style=\"italic\" lengthAdjust=\"spacingAndGlyphs\" textLength=\"40\" x=\"187\" y=\"100.1387\">«part»</text><text fill=\"#000000\" font-family=\"sans-serif\" font-size=\"12\" lengthAdjust=\"spacingAndGlyphs\" textLength=\"22\" x=\"196\" y=\"114.1074\">x: A</text><line style=\"stroke: #383838; stroke-width: 1.5;\" x1=\"187\" x2=\"227\" y1=\"121.9375\" y2=\"121.9375\"/></a><!--MD5=[1dd1bfd58a279cf63c5f349dbc8fc6a1]\n",
       "class E11--><a href=\"psysml:9cdccab4-e502-4fbe-97eb-9b231d825ffa\" target=\"_top\" title=\"psysml:9cdccab4-e502-4fbe-97eb-9b231d825ffa\" xlink:actuate=\"onRequest\" xlink:href=\"psysml:9cdccab4-e502-4fbe-97eb-9b231d825ffa\" xlink:show=\"new\" xlink:title=\"psysml:9cdccab4-e502-4fbe-97eb-9b231d825ffa\" xlink:type=\"simple\"><rect fill=\"#FFFFFF\" height=\"45.9375\" id=\"E11\" rx=\"10\" ry=\"10\" style=\"stroke: #383838; stroke-width: 1.5;\" width=\"42\" x=\"109\" y=\"84\"/><text fill=\"#000000\" font-family=\"sans-serif\" font-size=\"12\" font-style=\"italic\" lengthAdjust=\"spacingAndGlyphs\" textLength=\"40\" x=\"110\" y=\"100.1387\">«part»</text><text fill=\"#000000\" font-family=\"sans-serif\" font-size=\"12\" lengthAdjust=\"spacingAndGlyphs\" textLength=\"22\" x=\"119\" y=\"114.1074\">y: B</text><line style=\"stroke: #383838; stroke-width: 1.5;\" x1=\"110\" x2=\"150\" y1=\"121.9375\" y2=\"121.9375\"/></a><!--MD5=[14ccda38c055a5c0da953d572bc50960]\n",
       "link E7 to E3--><a href=\"psysml:84278f38-d400-4655-8657-76a37dd9bb09\" target=\"_top\" title=\"psysml:84278f38-d400-4655-8657-76a37dd9bb09\" xlink:actuate=\"onRequest\" xlink:href=\"psysml:84278f38-d400-4655-8657-76a37dd9bb09\" xlink:show=\"new\" xlink:title=\"psysml:84278f38-d400-4655-8657-76a37dd9bb09\" xlink:type=\"simple\"><path d=\"M382,130.1 C382,145.37 382,166.16 382,184.57 \" fill=\"none\" id=\"E7-&gt;E3\" style=\"stroke: #383838; stroke-width: 1.0;\"/><polygon fill=\"#FFFFFF\" points=\"382,204.61,375,185.61,389,185.61,382,204.61\" style=\"stroke: #383838; stroke-width: 1.0;\"/><ellipse cx=\"377\" cy=\"179.91\" fill=\"#383838\" rx=\"2\" ry=\"2\" style=\"stroke: #383838; stroke-width: 1.0;\"/><ellipse cx=\"387\" cy=\"179.91\" fill=\"#383838\" rx=\"2\" ry=\"2\" style=\"stroke: #383838; stroke-width: 1.0;\"/></a><!--MD5=[1ccb2481ffa92f8d51a74ee30c51832a]\n",
       "link E8 to E5--><a href=\"psysml:9a62fcce-aa5a-49d2-8cac-0b2f538e5bd0\" target=\"_top\" title=\"psysml:9a62fcce-aa5a-49d2-8cac-0b2f538e5bd0\" xlink:actuate=\"onRequest\" xlink:href=\"psysml:9a62fcce-aa5a-49d2-8cac-0b2f538e5bd0\" xlink:show=\"new\" xlink:title=\"psysml:9a62fcce-aa5a-49d2-8cac-0b2f538e5bd0\" xlink:type=\"simple\"><path d=\"M283.84,124.59 C272.23,133.52 257.5,144.61 244,154 C223.51,168.25 200.41,183.24 180.38,195.91 \" fill=\"none\" id=\"E8-&gt;E5\" style=\"stroke: #383838; stroke-width: 1.0;\"/><polygon fill=\"#FFFFFF\" points=\"163.36,206.57,175.7353,190.5434,183.175,202.403,163.36,206.57\" style=\"stroke: #383838; stroke-width: 1.0;\"/><ellipse cx=\"181.6267\" cy=\"189.2086\" fill=\"#383838\" rx=\"2\" ry=\"2\" style=\"stroke: #383838; stroke-width: 1.0;\"/><ellipse cx=\"186.9408\" cy=\"197.6797\" fill=\"#383838\" rx=\"2\" ry=\"2\" style=\"stroke: #383838; stroke-width: 1.0;\"/></a><!--MD5=[feeac5eb423634930294aa81f2d25a4c]\n",
       "link E10 to E3--><a href=\"psysml:bd7260c7-b55a-4391-86f8-9493bae3bcdc\" target=\"_top\" title=\"psysml:bd7260c7-b55a-4391-86f8-9493bae3bcdc\" xlink:actuate=\"onRequest\" xlink:href=\"psysml:bd7260c7-b55a-4391-86f8-9493bae3bcdc\" xlink:show=\"new\" xlink:title=\"psysml:bd7260c7-b55a-4391-86f8-9493bae3bcdc\" xlink:type=\"simple\"><path d=\"M228.16,124.59 C239.77,133.52 254.5,144.61 268,154 C288.49,168.25 311.59,183.24 331.62,195.91 \" fill=\"none\" id=\"E10-&gt;E3\" style=\"stroke: #383838; stroke-width: 1.0;\"/><polygon fill=\"#FFFFFF\" points=\"348.64,206.57,328.825,202.403,336.2647,190.5434,348.64,206.57\" style=\"stroke: #383838; stroke-width: 1.0;\"/><ellipse cx=\"325.0592\" cy=\"197.6797\" fill=\"#383838\" rx=\"2\" ry=\"2\" style=\"stroke: #383838; stroke-width: 1.0;\"/><ellipse cx=\"330.3733\" cy=\"189.2086\" fill=\"#383838\" rx=\"2\" ry=\"2\" style=\"stroke: #383838; stroke-width: 1.0;\"/></a><!--MD5=[07b77f6f309248d16187045709d1c26e]\n",
       "link E11 to E5--><a href=\"psysml:099d00ce-a154-42ce-865e-6b31b35a0829\" target=\"_top\" title=\"psysml:099d00ce-a154-42ce-865e-6b31b35a0829\" xlink:actuate=\"onRequest\" xlink:href=\"psysml:099d00ce-a154-42ce-865e-6b31b35a0829\" xlink:show=\"new\" xlink:title=\"psysml:099d00ce-a154-42ce-865e-6b31b35a0829\" xlink:type=\"simple\"><path d=\"M130,130.1 C130,145.37 130,166.16 130,184.57 \" fill=\"none\" id=\"E11-&gt;E5\" style=\"stroke: #383838; stroke-width: 1.0;\"/><polygon fill=\"#FFFFFF\" points=\"130,204.61,123,185.61,137,185.61,130,204.61\" style=\"stroke: #383838; stroke-width: 1.0;\"/><ellipse cx=\"125\" cy=\"179.91\" fill=\"#383838\" rx=\"2\" ry=\"2\" style=\"stroke: #383838; stroke-width: 1.0;\"/><ellipse cx=\"135\" cy=\"179.91\" fill=\"#383838\" rx=\"2\" ry=\"2\" style=\"stroke: #383838; stroke-width: 1.0;\"/></a><!--MD5=[39f41a0e550fb3d73b4d8135617e30a2]\n",
       "link E12 to E3--><a href=\"psysml:2e0d72ae-9b36-4ac2-af7e-1d21d87eecf3\" target=\"_top\" title=\"psysml:2e0d72ae-9b36-4ac2-af7e-1d21d87eecf3\" xlink:actuate=\"onRequest\" xlink:href=\"psysml:2e0d72ae-9b36-4ac2-af7e-1d21d87eecf3\" xlink:show=\"new\" xlink:title=\"psysml:2e0d72ae-9b36-4ac2-af7e-1d21d87eecf3\" xlink:type=\"simple\"><path d=\"M444.7,130.1 C434.28,146.2 419.89,168.44 407.53,187.55 \" fill=\"none\" id=\"E12-&gt;E3\" style=\"stroke: #383838; stroke-width: 1.0;\"/><polygon fill=\"#FFFFFF\" points=\"396.49,204.61,400.9313,184.8546,412.6866,192.4581,396.49,204.61\" style=\"stroke: #383838; stroke-width: 1.0;\"/><ellipse cx=\"405.7063\" cy=\"181.1547\" fill=\"#383838\" rx=\"2\" ry=\"2\" style=\"stroke: #383838; stroke-width: 1.0;\"/><ellipse cx=\"414.103\" cy=\"186.5858\" fill=\"#383838\" rx=\"2\" ry=\"2\" style=\"stroke: #383838; stroke-width: 1.0;\"/></a><!--MD5=[066b2d8af59fea80ccdb3d54ad5c1091]\n",
       "link E13 to E5--><a href=\"psysml:28c76814-e954-4c97-b716-40e2f6813c6b\" target=\"_top\" title=\"psysml:28c76814-e954-4c97-b716-40e2f6813c6b\" xlink:actuate=\"onRequest\" xlink:href=\"psysml:28c76814-e954-4c97-b716-40e2f6813c6b\" xlink:show=\"new\" xlink:title=\"psysml:28c76814-e954-4c97-b716-40e2f6813c6b\" xlink:type=\"simple\"><path d=\"M67.3,130.1 C77.72,146.2 92.11,168.44 104.47,187.55 \" fill=\"none\" id=\"E13-&gt;E5\" style=\"stroke: #383838; stroke-width: 1.0;\"/><polygon fill=\"#FFFFFF\" points=\"115.51,204.61,99.3134,192.4581,111.0687,184.8546,115.51,204.61\" style=\"stroke: #383838; stroke-width: 1.0;\"/><ellipse cx=\"97.897\" cy=\"186.5858\" fill=\"#383838\" rx=\"2\" ry=\"2\" style=\"stroke: #383838; stroke-width: 1.0;\"/><ellipse cx=\"106.2937\" cy=\"181.1547\" fill=\"#383838\" rx=\"2\" ry=\"2\" style=\"stroke: #383838; stroke-width: 1.0;\"/></a><!--MD5=[80ae01da9ae22f37f78ad62332d4f6be]\n",
       "@startuml\r\n",
       " skinparam monochrome true\r\n",
       "skinparam classbackgroundcolor white\r\n",
       "skinparam shadowing false\r\n",
       "skinparam wrapWidth 300\r\n",
       "hide circle\r\n",
       "\r\n",
       "package \"CircularImport\" as E1  [[psysml:690cd2ec-4fe7-4d94-89bf-c3d63ed60cd3 ]]  {\r\n",
       "package \"P1\" as E2  [[psysml:54e3154d-4fa4-4c14-a367-edca149a76a1 ]]  {\r\n",
       "comp def \"A\" as E3  <<(T,blue)part def>> [[psysml:281245e6-0723-4878-ac57-c406fd778909 ]] {\r\n",
       "}\r\n",
       "}\r\n",
       "package \"P2\" as E4  [[psysml:581c4a9e-fb07-4d80-ac64-c8c7b70027d2 ]]  {\r\n",
       "comp def \"B\" as E5  <<(T,blue)part def>> [[psysml:57665928-471f-4095-91e2-d839a960cf78 ]] {\r\n",
       "}\r\n",
       "}\r\n",
       "package \"Test1\" as E6  [[psysml:6bb49afc-ac2c-47b7-b48e-5bd0a62b326b ]]  {\r\n",
       "comp usage \"x: A\" as E7  <<(T,blue)part>> [[psysml:d6e39b1a-8a39-4c69-85ab-aa8551443e08 ]] {\r\n",
       "}\r\n",
       "comp usage \"y: B\" as E8  <<(T,blue)part>> [[psysml:ead6e64d-b294-4a2d-a1d8-90d3751f1490 ]] {\r\n",
       "}\r\n",
       "E7 - -:|> E3 [[psysml:84278f38-d400-4655-8657-76a37dd9bb09 ]] \r\n",
       "E8 - -:|> E5 [[psysml:9a62fcce-aa5a-49d2-8cac-0b2f538e5bd0 ]] \r\n",
       "}\r\n",
       "package \"Test2\" as E9  [[psysml:051bf7cb-81b8-4c37-8865-8bb7ea974985 ]]  {\r\n",
       "comp usage \"x: A\" as E10  <<(T,blue)part>> [[psysml:f3cb1211-10b9-411e-bf19-d5722693e1fe ]] {\r\n",
       "}\r\n",
       "comp usage \"y: B\" as E11  <<(T,blue)part>> [[psysml:9cdccab4-e502-4fbe-97eb-9b231d825ffa ]] {\r\n",
       "}\r\n",
       "E10 - -:|> E3 [[psysml:bd7260c7-b55a-4391-86f8-9493bae3bcdc ]] \r\n",
       "E11 - -:|> E5 [[psysml:099d00ce-a154-42ce-865e-6b31b35a0829 ]] \r\n",
       "}\r\n",
       "comp usage \"x: A\" as E12  <<(T,blue)part>> [[psysml:87edab01-bf58-4e9e-abd1-c8b0194f7dca ]] {\r\n",
       "}\r\n",
       "comp usage \"y: B\" as E13  <<(T,blue)part>> [[psysml:20c5387a-1627-4e14-8312-6f39b31ab3f7 ]] {\r\n",
       "}\r\n",
       "E12 - -:|> E3 [[psysml:2e0d72ae-9b36-4ac2-af7e-1d21d87eecf3 ]] \r\n",
       "E13 - -:|> E5 [[psysml:28c76814-e954-4c97-b716-40e2f6813c6b ]] \r\n",
       "}\r\n",
       "@enduml\r\n",
       "\n",
       "PlantUML version 1.2020.13(Sat Jun 13 12:26:38 UTC 2020)\n",
       "(EPL source distribution)\n",
       "Java Runtime: OpenJDK Runtime Environment\n",
       "JVM: OpenJDK 64-Bit Server VM\n",
       "Default Encoding: UTF-8\n",
       "Language: en\n",
       "Country: null\n",
       "--></g></svg>"
      ]
     },
     "execution_count": 2,
     "metadata": {},
     "output_type": "execute_result"
    }
   ],
   "source": [
    "%viz --style=\"COMPTREE\" --view=\"Default\" \"CircularImport\""
   ]
  },
  {
   "cell_type": "code",
   "execution_count": 3,
   "id": "20ff851f",
   "metadata": {
    "execution": {
     "iopub.execute_input": "2021-04-20T06:57:51.279906Z",
     "iopub.status.busy": "2021-04-20T06:57:51.279057Z",
     "iopub.status.idle": "2021-04-20T06:57:51.377944Z",
     "shell.execute_reply": "2021-04-20T06:57:51.377484Z"
    }
   },
   "outputs": [
    {
     "data": {
      "image/svg+xml": [
       "<?xml version=\"1.0\" encoding=\"UTF-8\" standalone=\"no\"?><svg xmlns=\"http://www.w3.org/2000/svg\" xmlns:xlink=\"http://www.w3.org/1999/xlink\" contentScriptType=\"application/ecmascript\" contentStyleType=\"text/css\" height=\"303px\" preserveAspectRatio=\"none\" style=\"width:518px;height:303px;\" version=\"1.1\" viewBox=\"0 0 518 303\" width=\"518px\" zoomAndPan=\"magnify\"><defs/><g><!--MD5=[fbc87193dbaf4d95561dea2c320d4a47]\n",
       "cluster E1--><a href=\"psysml:690cd2ec-4fe7-4d94-89bf-c3d63ed60cd3\" target=\"_top\" title=\"psysml:690cd2ec-4fe7-4d94-89bf-c3d63ed60cd3\" xlink:actuate=\"onRequest\" xlink:href=\"psysml:690cd2ec-4fe7-4d94-89bf-c3d63ed60cd3\" xlink:show=\"new\" xlink:title=\"psysml:690cd2ec-4fe7-4d94-89bf-c3d63ed60cd3\" xlink:type=\"simple\"><polygon fill=\"#FFFFFF\" points=\"16,6,134,6,141,28.2969,496,28.2969,496,291,16,291,16,6\" style=\"stroke: #000000; stroke-width: 1.5;\"/><line style=\"stroke: #000000; stroke-width: 1.5;\" x1=\"16\" x2=\"141\" y1=\"28.2969\" y2=\"28.2969\"/><text fill=\"#000000\" font-family=\"sans-serif\" font-size=\"14\" font-weight=\"bold\" lengthAdjust=\"spacingAndGlyphs\" textLength=\"112\" x=\"20\" y=\"20.9951\">CircularImport</text></a><!--MD5=[e4f7fae6ed58524ba242bb0b0d3be6b7]\n",
       "cluster E2--><a href=\"psysml:54e3154d-4fa4-4c14-a367-edca149a76a1\" target=\"_top\" title=\"psysml:54e3154d-4fa4-4c14-a367-edca149a76a1\" xlink:actuate=\"onRequest\" xlink:href=\"psysml:54e3154d-4fa4-4c14-a367-edca149a76a1\" xlink:show=\"new\" xlink:title=\"psysml:54e3154d-4fa4-4c14-a367-edca149a76a1\" xlink:type=\"simple\"><polygon fill=\"#FFFFFF\" points=\"333,170,359,170,366,192.2969,431,192.2969,431,267,333,267,333,170\" style=\"stroke: #000000; stroke-width: 1.5;\"/><line style=\"stroke: #000000; stroke-width: 1.5;\" x1=\"333\" x2=\"366\" y1=\"192.2969\" y2=\"192.2969\"/><text fill=\"#000000\" font-family=\"sans-serif\" font-size=\"14\" font-weight=\"bold\" lengthAdjust=\"spacingAndGlyphs\" textLength=\"20\" x=\"337\" y=\"184.9951\">P1</text></a><!--MD5=[f6df4d0ebaf0b5dfb2ced0ae5af7c670]\n",
       "cluster E4--><a href=\"psysml:581c4a9e-fb07-4d80-ac64-c8c7b70027d2\" target=\"_top\" title=\"psysml:581c4a9e-fb07-4d80-ac64-c8c7b70027d2\" xlink:actuate=\"onRequest\" xlink:href=\"psysml:581c4a9e-fb07-4d80-ac64-c8c7b70027d2\" xlink:show=\"new\" xlink:title=\"psysml:581c4a9e-fb07-4d80-ac64-c8c7b70027d2\" xlink:type=\"simple\"><polygon fill=\"#FFFFFF\" points=\"81,170,107,170,114,192.2969,179,192.2969,179,267,81,267,81,170\" style=\"stroke: #000000; stroke-width: 1.5;\"/><line style=\"stroke: #000000; stroke-width: 1.5;\" x1=\"81\" x2=\"114\" y1=\"192.2969\" y2=\"192.2969\"/><text fill=\"#000000\" font-family=\"sans-serif\" font-size=\"14\" font-weight=\"bold\" lengthAdjust=\"spacingAndGlyphs\" textLength=\"20\" x=\"85\" y=\"184.9951\">P2</text></a><!--MD5=[14e3b0961a2654348d326746436168a1]\n",
       "cluster E6--><a href=\"psysml:6bb49afc-ac2c-47b7-b48e-5bd0a62b326b\" target=\"_top\" title=\"psysml:6bb49afc-ac2c-47b7-b48e-5bd0a62b326b\" xlink:actuate=\"onRequest\" xlink:href=\"psysml:6bb49afc-ac2c-47b7-b48e-5bd0a62b326b\" xlink:show=\"new\" xlink:title=\"psysml:6bb49afc-ac2c-47b7-b48e-5bd0a62b326b\" xlink:type=\"simple\"><polygon fill=\"#FFFFFF\" points=\"268,49,319,49,326,71.2969,419,71.2969,419,146,268,146,268,49\" style=\"stroke: #000000; stroke-width: 1.5;\"/><line style=\"stroke: #000000; stroke-width: 1.5;\" x1=\"268\" x2=\"326\" y1=\"71.2969\" y2=\"71.2969\"/><text fill=\"#000000\" font-family=\"sans-serif\" font-size=\"14\" font-weight=\"bold\" lengthAdjust=\"spacingAndGlyphs\" textLength=\"45\" x=\"272\" y=\"63.9951\">Test1</text></a><!--MD5=[7f149f147074ac12df2cb0a7728a5fb0]\n",
       "cluster E9--><a href=\"psysml:051bf7cb-81b8-4c37-8865-8bb7ea974985\" target=\"_top\" title=\"psysml:051bf7cb-81b8-4c37-8865-8bb7ea974985\" xlink:actuate=\"onRequest\" xlink:href=\"psysml:051bf7cb-81b8-4c37-8865-8bb7ea974985\" xlink:show=\"new\" xlink:title=\"psysml:051bf7cb-81b8-4c37-8865-8bb7ea974985\" xlink:type=\"simple\"><polygon fill=\"#FFFFFF\" points=\"93,49,144,49,151,71.2969,244,71.2969,244,146,93,146,93,49\" style=\"stroke: #000000; stroke-width: 1.5;\"/><line style=\"stroke: #000000; stroke-width: 1.5;\" x1=\"93\" x2=\"151\" y1=\"71.2969\" y2=\"71.2969\"/><text fill=\"#000000\" font-family=\"sans-serif\" font-size=\"14\" font-weight=\"bold\" lengthAdjust=\"spacingAndGlyphs\" textLength=\"45\" x=\"97\" y=\"63.9951\">Test2</text></a><!--MD5=[49a0ec8f00dab7302a31f22d0f0fe584]\n",
       "class E12--><a href=\"psysml:87edab01-bf58-4e9e-abd1-c8b0194f7dca\" target=\"_top\" title=\"psysml:87edab01-bf58-4e9e-abd1-c8b0194f7dca\" xlink:actuate=\"onRequest\" xlink:href=\"psysml:87edab01-bf58-4e9e-abd1-c8b0194f7dca\" xlink:show=\"new\" xlink:title=\"psysml:87edab01-bf58-4e9e-abd1-c8b0194f7dca\" xlink:type=\"simple\"><rect fill=\"#FFFFFF\" height=\"45.9375\" id=\"E12\" rx=\"10\" ry=\"10\" style=\"stroke: #383838; stroke-width: 1.5;\" width=\"42\" x=\"438\" y=\"84\"/><text fill=\"#000000\" font-family=\"sans-serif\" font-size=\"12\" font-style=\"italic\" lengthAdjust=\"spacingAndGlyphs\" textLength=\"40\" x=\"439\" y=\"100.1387\">«part»</text><text fill=\"#000000\" font-family=\"sans-serif\" font-size=\"12\" lengthAdjust=\"spacingAndGlyphs\" textLength=\"22\" x=\"448\" y=\"114.1074\">x: A</text><line style=\"stroke: #383838; stroke-width: 1.5;\" x1=\"439\" x2=\"479\" y1=\"121.9375\" y2=\"121.9375\"/></a><!--MD5=[ee3c913d1a06f366521f9ef512b67efe]\n",
       "class E13--><a href=\"psysml:20c5387a-1627-4e14-8312-6f39b31ab3f7\" target=\"_top\" title=\"psysml:20c5387a-1627-4e14-8312-6f39b31ab3f7\" xlink:actuate=\"onRequest\" xlink:href=\"psysml:20c5387a-1627-4e14-8312-6f39b31ab3f7\" xlink:show=\"new\" xlink:title=\"psysml:20c5387a-1627-4e14-8312-6f39b31ab3f7\" xlink:type=\"simple\"><rect fill=\"#FFFFFF\" height=\"45.9375\" id=\"E13\" rx=\"10\" ry=\"10\" style=\"stroke: #383838; stroke-width: 1.5;\" width=\"42\" x=\"32\" y=\"84\"/><text fill=\"#000000\" font-family=\"sans-serif\" font-size=\"12\" font-style=\"italic\" lengthAdjust=\"spacingAndGlyphs\" textLength=\"40\" x=\"33\" y=\"100.1387\">«part»</text><text fill=\"#000000\" font-family=\"sans-serif\" font-size=\"12\" lengthAdjust=\"spacingAndGlyphs\" textLength=\"22\" x=\"42\" y=\"114.1074\">y: B</text><line style=\"stroke: #383838; stroke-width: 1.5;\" x1=\"33\" x2=\"73\" y1=\"121.9375\" y2=\"121.9375\"/></a><!--MD5=[09b614a08d8cba4a07c9adeb5e0fee81]\n",
       "class E3--><a href=\"psysml:281245e6-0723-4878-ac57-c406fd778909\" target=\"_top\" title=\"psysml:281245e6-0723-4878-ac57-c406fd778909\" xlink:actuate=\"onRequest\" xlink:href=\"psysml:281245e6-0723-4878-ac57-c406fd778909\" xlink:show=\"new\" xlink:title=\"psysml:281245e6-0723-4878-ac57-c406fd778909\" xlink:type=\"simple\"><rect fill=\"#FFFFFF\" height=\"45.9375\" id=\"E3\" style=\"stroke: #383838; stroke-width: 1.5;\" width=\"66\" x=\"349\" y=\"205\"/><text fill=\"#000000\" font-family=\"sans-serif\" font-size=\"12\" font-style=\"italic\" lengthAdjust=\"spacingAndGlyphs\" textLength=\"64\" x=\"350\" y=\"221.1387\">«part def»</text><text fill=\"#000000\" font-family=\"sans-serif\" font-size=\"12\" lengthAdjust=\"spacingAndGlyphs\" textLength=\"8\" x=\"378\" y=\"235.1074\">A</text><line style=\"stroke: #383838; stroke-width: 1.5;\" x1=\"350\" x2=\"414\" y1=\"242.9375\" y2=\"242.9375\"/></a><!--MD5=[270fce915f116d4de14055a7c1d9a0f3]\n",
       "class E5--><a href=\"psysml:57665928-471f-4095-91e2-d839a960cf78\" target=\"_top\" title=\"psysml:57665928-471f-4095-91e2-d839a960cf78\" xlink:actuate=\"onRequest\" xlink:href=\"psysml:57665928-471f-4095-91e2-d839a960cf78\" xlink:show=\"new\" xlink:title=\"psysml:57665928-471f-4095-91e2-d839a960cf78\" xlink:type=\"simple\"><rect fill=\"#FFFFFF\" height=\"45.9375\" id=\"E5\" style=\"stroke: #383838; stroke-width: 1.5;\" width=\"66\" x=\"97\" y=\"205\"/><text fill=\"#000000\" font-family=\"sans-serif\" font-size=\"12\" font-style=\"italic\" lengthAdjust=\"spacingAndGlyphs\" textLength=\"64\" x=\"98\" y=\"221.1387\">«part def»</text><text fill=\"#000000\" font-family=\"sans-serif\" font-size=\"12\" lengthAdjust=\"spacingAndGlyphs\" textLength=\"8\" x=\"126\" y=\"235.1074\">B</text><line style=\"stroke: #383838; stroke-width: 1.5;\" x1=\"98\" x2=\"162\" y1=\"242.9375\" y2=\"242.9375\"/></a><!--MD5=[2156ba9850f5573cc1fc38a6a4b2f02b]\n",
       "class E7--><a href=\"psysml:d6e39b1a-8a39-4c69-85ab-aa8551443e08\" target=\"_top\" title=\"psysml:d6e39b1a-8a39-4c69-85ab-aa8551443e08\" xlink:actuate=\"onRequest\" xlink:href=\"psysml:d6e39b1a-8a39-4c69-85ab-aa8551443e08\" xlink:show=\"new\" xlink:title=\"psysml:d6e39b1a-8a39-4c69-85ab-aa8551443e08\" xlink:type=\"simple\"><rect fill=\"#FFFFFF\" height=\"45.9375\" id=\"E7\" rx=\"10\" ry=\"10\" style=\"stroke: #383838; stroke-width: 1.5;\" width=\"42\" x=\"361\" y=\"84\"/><text fill=\"#000000\" font-family=\"sans-serif\" font-size=\"12\" font-style=\"italic\" lengthAdjust=\"spacingAndGlyphs\" textLength=\"40\" x=\"362\" y=\"100.1387\">«part»</text><text fill=\"#000000\" font-family=\"sans-serif\" font-size=\"12\" lengthAdjust=\"spacingAndGlyphs\" textLength=\"22\" x=\"371\" y=\"114.1074\">x: A</text><line style=\"stroke: #383838; stroke-width: 1.5;\" x1=\"362\" x2=\"402\" y1=\"121.9375\" y2=\"121.9375\"/></a><!--MD5=[b9389687b975829384b498ac4b7476b2]\n",
       "class E8--><a href=\"psysml:ead6e64d-b294-4a2d-a1d8-90d3751f1490\" target=\"_top\" title=\"psysml:ead6e64d-b294-4a2d-a1d8-90d3751f1490\" xlink:actuate=\"onRequest\" xlink:href=\"psysml:ead6e64d-b294-4a2d-a1d8-90d3751f1490\" xlink:show=\"new\" xlink:title=\"psysml:ead6e64d-b294-4a2d-a1d8-90d3751f1490\" xlink:type=\"simple\"><rect fill=\"#FFFFFF\" height=\"45.9375\" id=\"E8\" rx=\"10\" ry=\"10\" style=\"stroke: #383838; stroke-width: 1.5;\" width=\"42\" x=\"284\" y=\"84\"/><text fill=\"#000000\" font-family=\"sans-serif\" font-size=\"12\" font-style=\"italic\" lengthAdjust=\"spacingAndGlyphs\" textLength=\"40\" x=\"285\" y=\"100.1387\">«part»</text><text fill=\"#000000\" font-family=\"sans-serif\" font-size=\"12\" lengthAdjust=\"spacingAndGlyphs\" textLength=\"22\" x=\"294\" y=\"114.1074\">y: B</text><line style=\"stroke: #383838; stroke-width: 1.5;\" x1=\"285\" x2=\"325\" y1=\"121.9375\" y2=\"121.9375\"/></a><!--MD5=[96f4274e9e20536e775497830990834d]\n",
       "class E10--><a href=\"psysml:f3cb1211-10b9-411e-bf19-d5722693e1fe\" target=\"_top\" title=\"psysml:f3cb1211-10b9-411e-bf19-d5722693e1fe\" xlink:actuate=\"onRequest\" xlink:href=\"psysml:f3cb1211-10b9-411e-bf19-d5722693e1fe\" xlink:show=\"new\" xlink:title=\"psysml:f3cb1211-10b9-411e-bf19-d5722693e1fe\" xlink:type=\"simple\"><rect fill=\"#FFFFFF\" height=\"45.9375\" id=\"E10\" rx=\"10\" ry=\"10\" style=\"stroke: #383838; stroke-width: 1.5;\" width=\"42\" x=\"186\" y=\"84\"/><text fill=\"#000000\" font-family=\"sans-serif\" font-size=\"12\" font-style=\"italic\" lengthAdjust=\"spacingAndGlyphs\" textLength=\"40\" x=\"187\" y=\"100.1387\">«part»</text><text fill=\"#000000\" font-family=\"sans-serif\" font-size=\"12\" lengthAdjust=\"spacingAndGlyphs\" textLength=\"22\" x=\"196\" y=\"114.1074\">x: A</text><line style=\"stroke: #383838; stroke-width: 1.5;\" x1=\"187\" x2=\"227\" y1=\"121.9375\" y2=\"121.9375\"/></a><!--MD5=[1dd1bfd58a279cf63c5f349dbc8fc6a1]\n",
       "class E11--><a href=\"psysml:9cdccab4-e502-4fbe-97eb-9b231d825ffa\" target=\"_top\" title=\"psysml:9cdccab4-e502-4fbe-97eb-9b231d825ffa\" xlink:actuate=\"onRequest\" xlink:href=\"psysml:9cdccab4-e502-4fbe-97eb-9b231d825ffa\" xlink:show=\"new\" xlink:title=\"psysml:9cdccab4-e502-4fbe-97eb-9b231d825ffa\" xlink:type=\"simple\"><rect fill=\"#FFFFFF\" height=\"45.9375\" id=\"E11\" rx=\"10\" ry=\"10\" style=\"stroke: #383838; stroke-width: 1.5;\" width=\"42\" x=\"109\" y=\"84\"/><text fill=\"#000000\" font-family=\"sans-serif\" font-size=\"12\" font-style=\"italic\" lengthAdjust=\"spacingAndGlyphs\" textLength=\"40\" x=\"110\" y=\"100.1387\">«part»</text><text fill=\"#000000\" font-family=\"sans-serif\" font-size=\"12\" lengthAdjust=\"spacingAndGlyphs\" textLength=\"22\" x=\"119\" y=\"114.1074\">y: B</text><line style=\"stroke: #383838; stroke-width: 1.5;\" x1=\"110\" x2=\"150\" y1=\"121.9375\" y2=\"121.9375\"/></a><!--MD5=[14ccda38c055a5c0da953d572bc50960]\n",
       "link E7 to E3--><a href=\"psysml:84278f38-d400-4655-8657-76a37dd9bb09\" target=\"_top\" title=\"psysml:84278f38-d400-4655-8657-76a37dd9bb09\" xlink:actuate=\"onRequest\" xlink:href=\"psysml:84278f38-d400-4655-8657-76a37dd9bb09\" xlink:show=\"new\" xlink:title=\"psysml:84278f38-d400-4655-8657-76a37dd9bb09\" xlink:type=\"simple\"><path d=\"M382,130.1 C382,145.37 382,166.16 382,184.57 \" fill=\"none\" id=\"E7-&gt;E3\" style=\"stroke: #383838; stroke-width: 1.0;\"/><polygon fill=\"#FFFFFF\" points=\"382,204.61,375,185.61,389,185.61,382,204.61\" style=\"stroke: #383838; stroke-width: 1.0;\"/><ellipse cx=\"377\" cy=\"179.91\" fill=\"#383838\" rx=\"2\" ry=\"2\" style=\"stroke: #383838; stroke-width: 1.0;\"/><ellipse cx=\"387\" cy=\"179.91\" fill=\"#383838\" rx=\"2\" ry=\"2\" style=\"stroke: #383838; stroke-width: 1.0;\"/></a><!--MD5=[1ccb2481ffa92f8d51a74ee30c51832a]\n",
       "link E8 to E5--><a href=\"psysml:9a62fcce-aa5a-49d2-8cac-0b2f538e5bd0\" target=\"_top\" title=\"psysml:9a62fcce-aa5a-49d2-8cac-0b2f538e5bd0\" xlink:actuate=\"onRequest\" xlink:href=\"psysml:9a62fcce-aa5a-49d2-8cac-0b2f538e5bd0\" xlink:show=\"new\" xlink:title=\"psysml:9a62fcce-aa5a-49d2-8cac-0b2f538e5bd0\" xlink:type=\"simple\"><path d=\"M283.84,124.59 C272.23,133.52 257.5,144.61 244,154 C223.51,168.25 200.41,183.24 180.38,195.91 \" fill=\"none\" id=\"E8-&gt;E5\" style=\"stroke: #383838; stroke-width: 1.0;\"/><polygon fill=\"#FFFFFF\" points=\"163.36,206.57,175.7353,190.5434,183.175,202.403,163.36,206.57\" style=\"stroke: #383838; stroke-width: 1.0;\"/><ellipse cx=\"181.6267\" cy=\"189.2086\" fill=\"#383838\" rx=\"2\" ry=\"2\" style=\"stroke: #383838; stroke-width: 1.0;\"/><ellipse cx=\"186.9408\" cy=\"197.6797\" fill=\"#383838\" rx=\"2\" ry=\"2\" style=\"stroke: #383838; stroke-width: 1.0;\"/></a><!--MD5=[feeac5eb423634930294aa81f2d25a4c]\n",
       "link E10 to E3--><a href=\"psysml:bd7260c7-b55a-4391-86f8-9493bae3bcdc\" target=\"_top\" title=\"psysml:bd7260c7-b55a-4391-86f8-9493bae3bcdc\" xlink:actuate=\"onRequest\" xlink:href=\"psysml:bd7260c7-b55a-4391-86f8-9493bae3bcdc\" xlink:show=\"new\" xlink:title=\"psysml:bd7260c7-b55a-4391-86f8-9493bae3bcdc\" xlink:type=\"simple\"><path d=\"M228.16,124.59 C239.77,133.52 254.5,144.61 268,154 C288.49,168.25 311.59,183.24 331.62,195.91 \" fill=\"none\" id=\"E10-&gt;E3\" style=\"stroke: #383838; stroke-width: 1.0;\"/><polygon fill=\"#FFFFFF\" points=\"348.64,206.57,328.825,202.403,336.2647,190.5434,348.64,206.57\" style=\"stroke: #383838; stroke-width: 1.0;\"/><ellipse cx=\"325.0592\" cy=\"197.6797\" fill=\"#383838\" rx=\"2\" ry=\"2\" style=\"stroke: #383838; stroke-width: 1.0;\"/><ellipse cx=\"330.3733\" cy=\"189.2086\" fill=\"#383838\" rx=\"2\" ry=\"2\" style=\"stroke: #383838; stroke-width: 1.0;\"/></a><!--MD5=[07b77f6f309248d16187045709d1c26e]\n",
       "link E11 to E5--><a href=\"psysml:099d00ce-a154-42ce-865e-6b31b35a0829\" target=\"_top\" title=\"psysml:099d00ce-a154-42ce-865e-6b31b35a0829\" xlink:actuate=\"onRequest\" xlink:href=\"psysml:099d00ce-a154-42ce-865e-6b31b35a0829\" xlink:show=\"new\" xlink:title=\"psysml:099d00ce-a154-42ce-865e-6b31b35a0829\" xlink:type=\"simple\"><path d=\"M130,130.1 C130,145.37 130,166.16 130,184.57 \" fill=\"none\" id=\"E11-&gt;E5\" style=\"stroke: #383838; stroke-width: 1.0;\"/><polygon fill=\"#FFFFFF\" points=\"130,204.61,123,185.61,137,185.61,130,204.61\" style=\"stroke: #383838; stroke-width: 1.0;\"/><ellipse cx=\"125\" cy=\"179.91\" fill=\"#383838\" rx=\"2\" ry=\"2\" style=\"stroke: #383838; stroke-width: 1.0;\"/><ellipse cx=\"135\" cy=\"179.91\" fill=\"#383838\" rx=\"2\" ry=\"2\" style=\"stroke: #383838; stroke-width: 1.0;\"/></a><!--MD5=[39f41a0e550fb3d73b4d8135617e30a2]\n",
       "link E12 to E3--><a href=\"psysml:2e0d72ae-9b36-4ac2-af7e-1d21d87eecf3\" target=\"_top\" title=\"psysml:2e0d72ae-9b36-4ac2-af7e-1d21d87eecf3\" xlink:actuate=\"onRequest\" xlink:href=\"psysml:2e0d72ae-9b36-4ac2-af7e-1d21d87eecf3\" xlink:show=\"new\" xlink:title=\"psysml:2e0d72ae-9b36-4ac2-af7e-1d21d87eecf3\" xlink:type=\"simple\"><path d=\"M444.7,130.1 C434.28,146.2 419.89,168.44 407.53,187.55 \" fill=\"none\" id=\"E12-&gt;E3\" style=\"stroke: #383838; stroke-width: 1.0;\"/><polygon fill=\"#FFFFFF\" points=\"396.49,204.61,400.9313,184.8546,412.6866,192.4581,396.49,204.61\" style=\"stroke: #383838; stroke-width: 1.0;\"/><ellipse cx=\"405.7063\" cy=\"181.1547\" fill=\"#383838\" rx=\"2\" ry=\"2\" style=\"stroke: #383838; stroke-width: 1.0;\"/><ellipse cx=\"414.103\" cy=\"186.5858\" fill=\"#383838\" rx=\"2\" ry=\"2\" style=\"stroke: #383838; stroke-width: 1.0;\"/></a><!--MD5=[066b2d8af59fea80ccdb3d54ad5c1091]\n",
       "link E13 to E5--><a href=\"psysml:28c76814-e954-4c97-b716-40e2f6813c6b\" target=\"_top\" title=\"psysml:28c76814-e954-4c97-b716-40e2f6813c6b\" xlink:actuate=\"onRequest\" xlink:href=\"psysml:28c76814-e954-4c97-b716-40e2f6813c6b\" xlink:show=\"new\" xlink:title=\"psysml:28c76814-e954-4c97-b716-40e2f6813c6b\" xlink:type=\"simple\"><path d=\"M67.3,130.1 C77.72,146.2 92.11,168.44 104.47,187.55 \" fill=\"none\" id=\"E13-&gt;E5\" style=\"stroke: #383838; stroke-width: 1.0;\"/><polygon fill=\"#FFFFFF\" points=\"115.51,204.61,99.3134,192.4581,111.0687,184.8546,115.51,204.61\" style=\"stroke: #383838; stroke-width: 1.0;\"/><ellipse cx=\"97.897\" cy=\"186.5858\" fill=\"#383838\" rx=\"2\" ry=\"2\" style=\"stroke: #383838; stroke-width: 1.0;\"/><ellipse cx=\"106.2937\" cy=\"181.1547\" fill=\"#383838\" rx=\"2\" ry=\"2\" style=\"stroke: #383838; stroke-width: 1.0;\"/></a><!--MD5=[80ae01da9ae22f37f78ad62332d4f6be]\n",
       "@startuml\r\n",
       " skinparam monochrome true\r\n",
       "skinparam classbackgroundcolor white\r\n",
       "skinparam shadowing false\r\n",
       "skinparam wrapWidth 300\r\n",
       "hide circle\r\n",
       "\r\n",
       "package \"CircularImport\" as E1  [[psysml:690cd2ec-4fe7-4d94-89bf-c3d63ed60cd3 ]]  {\r\n",
       "package \"P1\" as E2  [[psysml:54e3154d-4fa4-4c14-a367-edca149a76a1 ]]  {\r\n",
       "comp def \"A\" as E3  <<(T,blue)part def>> [[psysml:281245e6-0723-4878-ac57-c406fd778909 ]] {\r\n",
       "}\r\n",
       "}\r\n",
       "package \"P2\" as E4  [[psysml:581c4a9e-fb07-4d80-ac64-c8c7b70027d2 ]]  {\r\n",
       "comp def \"B\" as E5  <<(T,blue)part def>> [[psysml:57665928-471f-4095-91e2-d839a960cf78 ]] {\r\n",
       "}\r\n",
       "}\r\n",
       "package \"Test1\" as E6  [[psysml:6bb49afc-ac2c-47b7-b48e-5bd0a62b326b ]]  {\r\n",
       "comp usage \"x: A\" as E7  <<(T,blue)part>> [[psysml:d6e39b1a-8a39-4c69-85ab-aa8551443e08 ]] {\r\n",
       "}\r\n",
       "comp usage \"y: B\" as E8  <<(T,blue)part>> [[psysml:ead6e64d-b294-4a2d-a1d8-90d3751f1490 ]] {\r\n",
       "}\r\n",
       "E7 - -:|> E3 [[psysml:84278f38-d400-4655-8657-76a37dd9bb09 ]] \r\n",
       "E8 - -:|> E5 [[psysml:9a62fcce-aa5a-49d2-8cac-0b2f538e5bd0 ]] \r\n",
       "}\r\n",
       "package \"Test2\" as E9  [[psysml:051bf7cb-81b8-4c37-8865-8bb7ea974985 ]]  {\r\n",
       "comp usage \"x: A\" as E10  <<(T,blue)part>> [[psysml:f3cb1211-10b9-411e-bf19-d5722693e1fe ]] {\r\n",
       "}\r\n",
       "comp usage \"y: B\" as E11  <<(T,blue)part>> [[psysml:9cdccab4-e502-4fbe-97eb-9b231d825ffa ]] {\r\n",
       "}\r\n",
       "E10 - -:|> E3 [[psysml:bd7260c7-b55a-4391-86f8-9493bae3bcdc ]] \r\n",
       "E11 - -:|> E5 [[psysml:099d00ce-a154-42ce-865e-6b31b35a0829 ]] \r\n",
       "}\r\n",
       "comp usage \"x: A\" as E12  <<(T,blue)part>> [[psysml:87edab01-bf58-4e9e-abd1-c8b0194f7dca ]] {\r\n",
       "}\r\n",
       "comp usage \"y: B\" as E13  <<(T,blue)part>> [[psysml:20c5387a-1627-4e14-8312-6f39b31ab3f7 ]] {\r\n",
       "}\r\n",
       "E12 - -:|> E3 [[psysml:2e0d72ae-9b36-4ac2-af7e-1d21d87eecf3 ]] \r\n",
       "E13 - -:|> E5 [[psysml:28c76814-e954-4c97-b716-40e2f6813c6b ]] \r\n",
       "}\r\n",
       "@enduml\r\n",
       "\n",
       "PlantUML version 1.2020.13(Sat Jun 13 12:26:38 UTC 2020)\n",
       "(EPL source distribution)\n",
       "Java Runtime: OpenJDK Runtime Environment\n",
       "JVM: OpenJDK 64-Bit Server VM\n",
       "Default Encoding: UTF-8\n",
       "Language: en\n",
       "Country: null\n",
       "--></g></svg>"
      ]
     },
     "execution_count": 3,
     "metadata": {},
     "output_type": "execute_result"
    }
   ],
   "source": [
    "%viz --style=\"COMPTREE\" --view=\"Tree\" \"CircularImport\""
   ]
  },
  {
   "cell_type": "code",
   "execution_count": 4,
   "id": "b200ec5a",
   "metadata": {
    "execution": {
     "iopub.execute_input": "2021-04-20T06:57:51.432378Z",
     "iopub.status.busy": "2021-04-20T06:57:51.429132Z",
     "iopub.status.idle": "2021-04-20T06:57:51.440622Z",
     "shell.execute_reply": "2021-04-20T06:57:51.439875Z"
    }
   },
   "outputs": [
    {
     "data": {
      "image/svg+xml": [
       "<?xml version=\"1.0\" encoding=\"UTF-8\" standalone=\"no\"?><svg xmlns=\"http://www.w3.org/2000/svg\" xmlns:xlink=\"http://www.w3.org/1999/xlink\" contentScriptType=\"application/ecmascript\" contentStyleType=\"text/css\" height=\"12px\" preserveAspectRatio=\"none\" style=\"width:12px;height:12px;\" version=\"1.1\" viewBox=\"0 0 12 12\" width=\"12px\" zoomAndPan=\"magnify\"><defs/><g><!--MD5=[f19188ef49e11757b5c46753f95d9edc]\n",
       "@startuml\r\n",
       " skinparam monochrome true\r\n",
       "skinparam classbackgroundcolor white\r\n",
       "skinparam shadowing false\r\n",
       "skinparam wrapWidth 300\r\n",
       "hide circle\r\n",
       "\r\n",
       "@enduml\r\n",
       "\n",
       "PlantUML version 1.2020.13(Sat Jun 13 12:26:38 UTC 2020)\n",
       "(EPL source distribution)\n",
       "Java Runtime: OpenJDK Runtime Environment\n",
       "JVM: OpenJDK 64-Bit Server VM\n",
       "Default Encoding: UTF-8\n",
       "Language: en\n",
       "Country: null\n",
       "--></g></svg>"
      ]
     },
     "execution_count": 4,
     "metadata": {},
     "output_type": "execute_result"
    }
   ],
   "source": [
    "%viz --style=\"COMPTREE\" --view=\"State\" \"CircularImport\""
   ]
  },
  {
   "cell_type": "code",
   "execution_count": 5,
   "id": "0ff3fa4f",
   "metadata": {
    "execution": {
     "iopub.execute_input": "2021-04-20T06:57:51.492318Z",
     "iopub.status.busy": "2021-04-20T06:57:51.491706Z",
     "iopub.status.idle": "2021-04-20T06:57:51.550797Z",
     "shell.execute_reply": "2021-04-20T06:57:51.550392Z"
    }
   },
   "outputs": [
    {
     "data": {
      "image/svg+xml": [
       "<?xml version=\"1.0\" encoding=\"UTF-8\" standalone=\"no\"?><svg xmlns=\"http://www.w3.org/2000/svg\" xmlns:xlink=\"http://www.w3.org/1999/xlink\" contentScriptType=\"application/ecmascript\" contentStyleType=\"text/css\" height=\"179px\" preserveAspectRatio=\"none\" style=\"width:846px;height:179px;\" version=\"1.1\" viewBox=\"0 0 846 179\" width=\"846px\" zoomAndPan=\"magnify\"><defs/><g><!--MD5=[fbc87193dbaf4d95561dea2c320d4a47]\n",
       "cluster E1--><a href=\"psysml:690cd2ec-4fe7-4d94-89bf-c3d63ed60cd3\" target=\"_top\" title=\"psysml:690cd2ec-4fe7-4d94-89bf-c3d63ed60cd3\" xlink:actuate=\"onRequest\" xlink:href=\"psysml:690cd2ec-4fe7-4d94-89bf-c3d63ed60cd3\" xlink:show=\"new\" xlink:title=\"psysml:690cd2ec-4fe7-4d94-89bf-c3d63ed60cd3\" xlink:type=\"simple\"><polygon fill=\"#FFFFFF\" points=\"16,6,134,6,141,28.2969,824,28.2969,824,167,16,167,16,6\" style=\"stroke: #000000; stroke-width: 1.5;\"/><line style=\"stroke: #000000; stroke-width: 1.5;\" x1=\"16\" x2=\"141\" y1=\"28.2969\" y2=\"28.2969\"/><text fill=\"#000000\" font-family=\"sans-serif\" font-size=\"14\" font-weight=\"bold\" lengthAdjust=\"spacingAndGlyphs\" textLength=\"112\" x=\"20\" y=\"20.9951\">CircularImport</text></a><!--MD5=[e4f7fae6ed58524ba242bb0b0d3be6b7]\n",
       "cluster E2--><a href=\"psysml:54e3154d-4fa4-4c14-a367-edca149a76a1\" target=\"_top\" title=\"psysml:54e3154d-4fa4-4c14-a367-edca149a76a1\" xlink:actuate=\"onRequest\" xlink:href=\"psysml:54e3154d-4fa4-4c14-a367-edca149a76a1\" xlink:show=\"new\" xlink:title=\"psysml:54e3154d-4fa4-4c14-a367-edca149a76a1\" xlink:type=\"simple\"><polygon fill=\"#FFFFFF\" points=\"696,49,722,49,729,71.2969,800,71.2969,800,143,696,143,696,49\" style=\"stroke: #000000; stroke-width: 1.5;\"/><line style=\"stroke: #000000; stroke-width: 1.5;\" x1=\"696\" x2=\"729\" y1=\"71.2969\" y2=\"71.2969\"/><text fill=\"#000000\" font-family=\"sans-serif\" font-size=\"14\" font-weight=\"bold\" lengthAdjust=\"spacingAndGlyphs\" textLength=\"20\" x=\"700\" y=\"63.9951\">P1</text></a><!--MD5=[f6df4d0ebaf0b5dfb2ced0ae5af7c670]\n",
       "cluster E4--><a href=\"psysml:581c4a9e-fb07-4d80-ac64-c8c7b70027d2\" target=\"_top\" title=\"psysml:581c4a9e-fb07-4d80-ac64-c8c7b70027d2\" xlink:actuate=\"onRequest\" xlink:href=\"psysml:581c4a9e-fb07-4d80-ac64-c8c7b70027d2\" xlink:show=\"new\" xlink:title=\"psysml:581c4a9e-fb07-4d80-ac64-c8c7b70027d2\" xlink:type=\"simple\"><polygon fill=\"#FFFFFF\" points=\"568,49,594,49,601,71.2969,672,71.2969,672,143,568,143,568,49\" style=\"stroke: #000000; stroke-width: 1.5;\"/><line style=\"stroke: #000000; stroke-width: 1.5;\" x1=\"568\" x2=\"601\" y1=\"71.2969\" y2=\"71.2969\"/><text fill=\"#000000\" font-family=\"sans-serif\" font-size=\"14\" font-weight=\"bold\" lengthAdjust=\"spacingAndGlyphs\" textLength=\"20\" x=\"572\" y=\"63.9951\">P2</text></a><!--MD5=[14e3b0961a2654348d326746436168a1]\n",
       "cluster E6--><a href=\"psysml:6bb49afc-ac2c-47b7-b48e-5bd0a62b326b\" target=\"_top\" title=\"psysml:6bb49afc-ac2c-47b7-b48e-5bd0a62b326b\" xlink:actuate=\"onRequest\" xlink:href=\"psysml:6bb49afc-ac2c-47b7-b48e-5bd0a62b326b\" xlink:show=\"new\" xlink:title=\"psysml:6bb49afc-ac2c-47b7-b48e-5bd0a62b326b\" xlink:type=\"simple\"><polygon fill=\"#FFFFFF\" points=\"377,50.5,428,50.5,435,72.7969,544,72.7969,544,141.5,377,141.5,377,50.5\" style=\"stroke: #000000; stroke-width: 1.5;\"/><line style=\"stroke: #000000; stroke-width: 1.5;\" x1=\"377\" x2=\"435\" y1=\"72.7969\" y2=\"72.7969\"/><text fill=\"#000000\" font-family=\"sans-serif\" font-size=\"14\" font-weight=\"bold\" lengthAdjust=\"spacingAndGlyphs\" textLength=\"45\" x=\"381\" y=\"65.4951\">Test1</text></a><!--MD5=[7f149f147074ac12df2cb0a7728a5fb0]\n",
       "cluster E9--><a href=\"psysml:051bf7cb-81b8-4c37-8865-8bb7ea974985\" target=\"_top\" title=\"psysml:051bf7cb-81b8-4c37-8865-8bb7ea974985\" xlink:actuate=\"onRequest\" xlink:href=\"psysml:051bf7cb-81b8-4c37-8865-8bb7ea974985\" xlink:show=\"new\" xlink:title=\"psysml:051bf7cb-81b8-4c37-8865-8bb7ea974985\" xlink:type=\"simple\"><polygon fill=\"#FFFFFF\" points=\"186,50.5,237,50.5,244,72.7969,353,72.7969,353,141.5,186,141.5,186,50.5\" style=\"stroke: #000000; stroke-width: 1.5;\"/><line style=\"stroke: #000000; stroke-width: 1.5;\" x1=\"186\" x2=\"244\" y1=\"72.7969\" y2=\"72.7969\"/><text fill=\"#000000\" font-family=\"sans-serif\" font-size=\"14\" font-weight=\"bold\" lengthAdjust=\"spacingAndGlyphs\" textLength=\"45\" x=\"190\" y=\"65.4951\">Test2</text></a><g id=\"E1.E2.E3\"><a href=\"psysml:281245e6-0723-4878-ac57-c406fd778909\" target=\"_top\" title=\"psysml:281245e6-0723-4878-ac57-c406fd778909\" xlink:actuate=\"onRequest\" xlink:href=\"psysml:281245e6-0723-4878-ac57-c406fd778909\" xlink:show=\"new\" xlink:title=\"psysml:281245e6-0723-4878-ac57-c406fd778909\" xlink:type=\"simple\"><rect fill=\"#FFFFFF\" height=\"42.9375\" id=\"E3\" style=\"stroke: #383838; stroke-width: 1.5;\" width=\"71\" x=\"712.5\" y=\"84\"/><rect fill=\"#F8F8F8\" height=\"37.9375\" style=\"stroke: #383838; stroke-width: 1.5;\" width=\"71\" x=\"712.5\" y=\"84\"/><text fill=\"#000000\" font-family=\"sans-serif\" font-size=\"12\" font-style=\"italic\" lengthAdjust=\"spacingAndGlyphs\" textLength=\"64\" x=\"716\" y=\"100.1387\">«part def»</text><text fill=\"#000000\" font-family=\"sans-serif\" font-size=\"12\" lengthAdjust=\"spacingAndGlyphs\" textLength=\"8\" x=\"744\" y=\"114.1074\">A</text></a></g><g id=\"E1.E4.E5\"><a href=\"psysml:57665928-471f-4095-91e2-d839a960cf78\" target=\"_top\" title=\"psysml:57665928-471f-4095-91e2-d839a960cf78\" xlink:actuate=\"onRequest\" xlink:href=\"psysml:57665928-471f-4095-91e2-d839a960cf78\" xlink:show=\"new\" xlink:title=\"psysml:57665928-471f-4095-91e2-d839a960cf78\" xlink:type=\"simple\"><rect fill=\"#FFFFFF\" height=\"42.9375\" id=\"E5\" style=\"stroke: #383838; stroke-width: 1.5;\" width=\"71\" x=\"584.5\" y=\"84\"/><rect fill=\"#F8F8F8\" height=\"37.9375\" style=\"stroke: #383838; stroke-width: 1.5;\" width=\"71\" x=\"584.5\" y=\"84\"/><text fill=\"#000000\" font-family=\"sans-serif\" font-size=\"12\" font-style=\"italic\" lengthAdjust=\"spacingAndGlyphs\" textLength=\"64\" x=\"588\" y=\"100.1387\">«part def»</text><text fill=\"#000000\" font-family=\"sans-serif\" font-size=\"12\" lengthAdjust=\"spacingAndGlyphs\" textLength=\"8\" x=\"616\" y=\"114.1074\">B</text></a></g><g id=\"E1.E6.E7\"><a href=\"psysml:d6e39b1a-8a39-4c69-85ab-aa8551443e08\" target=\"_top\" title=\"psysml:d6e39b1a-8a39-4c69-85ab-aa8551443e08\" xlink:actuate=\"onRequest\" xlink:href=\"psysml:d6e39b1a-8a39-4c69-85ab-aa8551443e08\" xlink:show=\"new\" xlink:title=\"psysml:d6e39b1a-8a39-4c69-85ab-aa8551443e08\" xlink:type=\"simple\"><rect fill=\"#FFFFFF\" height=\"40\" id=\"E7\" rx=\"10\" ry=\"10\" style=\"stroke: #383838; stroke-width: 1.5;\" width=\"50\" x=\"478\" y=\"85.5\"/><rect fill=\"#F8F8F8\" height=\"23.9688\" rx=\"10\" ry=\"10\" style=\"stroke: #F8F8F8; stroke-width: 1.5;\" width=\"50\" x=\"478\" y=\"85.5\"/><rect fill=\"#F8F8F8\" height=\"10\" style=\"stroke: #F8F8F8; stroke-width: 1.5;\" width=\"50\" x=\"478\" y=\"99.4688\"/><rect fill=\"none\" height=\"40\" id=\"E7\" rx=\"10\" ry=\"10\" style=\"stroke: #383838; stroke-width: 1.5;\" width=\"50\" x=\"478\" y=\"85.5\"/><text fill=\"#000000\" font-family=\"sans-serif\" font-size=\"12\" lengthAdjust=\"spacingAndGlyphs\" textLength=\"22\" x=\"492\" y=\"101.6387\">x: A</text></a></g><g id=\"E1.E6.E8\"><a href=\"psysml:ead6e64d-b294-4a2d-a1d8-90d3751f1490\" target=\"_top\" title=\"psysml:ead6e64d-b294-4a2d-a1d8-90d3751f1490\" xlink:actuate=\"onRequest\" xlink:href=\"psysml:ead6e64d-b294-4a2d-a1d8-90d3751f1490\" xlink:show=\"new\" xlink:title=\"psysml:ead6e64d-b294-4a2d-a1d8-90d3751f1490\" xlink:type=\"simple\"><rect fill=\"#FFFFFF\" height=\"40\" id=\"E8\" rx=\"10\" ry=\"10\" style=\"stroke: #383838; stroke-width: 1.5;\" width=\"50\" x=\"393\" y=\"85.5\"/><rect fill=\"#F8F8F8\" height=\"23.9688\" rx=\"10\" ry=\"10\" style=\"stroke: #F8F8F8; stroke-width: 1.5;\" width=\"50\" x=\"393\" y=\"85.5\"/><rect fill=\"#F8F8F8\" height=\"10\" style=\"stroke: #F8F8F8; stroke-width: 1.5;\" width=\"50\" x=\"393\" y=\"99.4688\"/><rect fill=\"none\" height=\"40\" id=\"E8\" rx=\"10\" ry=\"10\" style=\"stroke: #383838; stroke-width: 1.5;\" width=\"50\" x=\"393\" y=\"85.5\"/><text fill=\"#000000\" font-family=\"sans-serif\" font-size=\"12\" lengthAdjust=\"spacingAndGlyphs\" textLength=\"22\" x=\"407\" y=\"101.6387\">y: B</text></a></g><g id=\"E1.E9.E10\"><a href=\"psysml:f3cb1211-10b9-411e-bf19-d5722693e1fe\" target=\"_top\" title=\"psysml:f3cb1211-10b9-411e-bf19-d5722693e1fe\" xlink:actuate=\"onRequest\" xlink:href=\"psysml:f3cb1211-10b9-411e-bf19-d5722693e1fe\" xlink:show=\"new\" xlink:title=\"psysml:f3cb1211-10b9-411e-bf19-d5722693e1fe\" xlink:type=\"simple\"><rect fill=\"#FFFFFF\" height=\"40\" id=\"E10\" rx=\"10\" ry=\"10\" style=\"stroke: #383838; stroke-width: 1.5;\" width=\"50\" x=\"287\" y=\"85.5\"/><rect fill=\"#F8F8F8\" height=\"23.9688\" rx=\"10\" ry=\"10\" style=\"stroke: #F8F8F8; stroke-width: 1.5;\" width=\"50\" x=\"287\" y=\"85.5\"/><rect fill=\"#F8F8F8\" height=\"10\" style=\"stroke: #F8F8F8; stroke-width: 1.5;\" width=\"50\" x=\"287\" y=\"99.4688\"/><rect fill=\"none\" height=\"40\" id=\"E10\" rx=\"10\" ry=\"10\" style=\"stroke: #383838; stroke-width: 1.5;\" width=\"50\" x=\"287\" y=\"85.5\"/><text fill=\"#000000\" font-family=\"sans-serif\" font-size=\"12\" lengthAdjust=\"spacingAndGlyphs\" textLength=\"22\" x=\"301\" y=\"101.6387\">x: A</text></a></g><g id=\"E1.E9.E11\"><a href=\"psysml:9cdccab4-e502-4fbe-97eb-9b231d825ffa\" target=\"_top\" title=\"psysml:9cdccab4-e502-4fbe-97eb-9b231d825ffa\" xlink:actuate=\"onRequest\" xlink:href=\"psysml:9cdccab4-e502-4fbe-97eb-9b231d825ffa\" xlink:show=\"new\" xlink:title=\"psysml:9cdccab4-e502-4fbe-97eb-9b231d825ffa\" xlink:type=\"simple\"><rect fill=\"#FFFFFF\" height=\"40\" id=\"E11\" rx=\"10\" ry=\"10\" style=\"stroke: #383838; stroke-width: 1.5;\" width=\"50\" x=\"202\" y=\"85.5\"/><rect fill=\"#F8F8F8\" height=\"23.9688\" rx=\"10\" ry=\"10\" style=\"stroke: #F8F8F8; stroke-width: 1.5;\" width=\"50\" x=\"202\" y=\"85.5\"/><rect fill=\"#F8F8F8\" height=\"10\" style=\"stroke: #F8F8F8; stroke-width: 1.5;\" width=\"50\" x=\"202\" y=\"99.4688\"/><rect fill=\"none\" height=\"40\" id=\"E11\" rx=\"10\" ry=\"10\" style=\"stroke: #383838; stroke-width: 1.5;\" width=\"50\" x=\"202\" y=\"85.5\"/><text fill=\"#000000\" font-family=\"sans-serif\" font-size=\"12\" lengthAdjust=\"spacingAndGlyphs\" textLength=\"22\" x=\"216\" y=\"101.6387\">y: B</text></a></g><g id=\"E1.E12\"><a href=\"psysml:87edab01-bf58-4e9e-abd1-c8b0194f7dca\" target=\"_top\" title=\"psysml:87edab01-bf58-4e9e-abd1-c8b0194f7dca\" xlink:actuate=\"onRequest\" xlink:href=\"psysml:87edab01-bf58-4e9e-abd1-c8b0194f7dca\" xlink:show=\"new\" xlink:title=\"psysml:87edab01-bf58-4e9e-abd1-c8b0194f7dca\" xlink:type=\"simple\"><rect fill=\"#FFFFFF\" height=\"40\" id=\"E12\" rx=\"10\" ry=\"10\" style=\"stroke: #383838; stroke-width: 1.5;\" width=\"50\" x=\"117\" y=\"85.5\"/><rect fill=\"#F8F8F8\" height=\"23.9688\" rx=\"10\" ry=\"10\" style=\"stroke: #F8F8F8; stroke-width: 1.5;\" width=\"50\" x=\"117\" y=\"85.5\"/><rect fill=\"#F8F8F8\" height=\"10\" style=\"stroke: #F8F8F8; stroke-width: 1.5;\" width=\"50\" x=\"117\" y=\"99.4688\"/><rect fill=\"none\" height=\"40\" id=\"E12\" rx=\"10\" ry=\"10\" style=\"stroke: #383838; stroke-width: 1.5;\" width=\"50\" x=\"117\" y=\"85.5\"/><text fill=\"#000000\" font-family=\"sans-serif\" font-size=\"12\" lengthAdjust=\"spacingAndGlyphs\" textLength=\"22\" x=\"131\" y=\"101.6387\">x: A</text></a></g><g id=\"E1.E13\"><a href=\"psysml:20c5387a-1627-4e14-8312-6f39b31ab3f7\" target=\"_top\" title=\"psysml:20c5387a-1627-4e14-8312-6f39b31ab3f7\" xlink:actuate=\"onRequest\" xlink:href=\"psysml:20c5387a-1627-4e14-8312-6f39b31ab3f7\" xlink:show=\"new\" xlink:title=\"psysml:20c5387a-1627-4e14-8312-6f39b31ab3f7\" xlink:type=\"simple\"><rect fill=\"#FFFFFF\" height=\"40\" id=\"E13\" rx=\"10\" ry=\"10\" style=\"stroke: #383838; stroke-width: 1.5;\" width=\"50\" x=\"32\" y=\"85.5\"/><rect fill=\"#F8F8F8\" height=\"23.9688\" rx=\"10\" ry=\"10\" style=\"stroke: #F8F8F8; stroke-width: 1.5;\" width=\"50\" x=\"32\" y=\"85.5\"/><rect fill=\"#F8F8F8\" height=\"10\" style=\"stroke: #F8F8F8; stroke-width: 1.5;\" width=\"50\" x=\"32\" y=\"99.4688\"/><rect fill=\"none\" height=\"40\" id=\"E13\" rx=\"10\" ry=\"10\" style=\"stroke: #383838; stroke-width: 1.5;\" width=\"50\" x=\"32\" y=\"85.5\"/><text fill=\"#000000\" font-family=\"sans-serif\" font-size=\"12\" lengthAdjust=\"spacingAndGlyphs\" textLength=\"22\" x=\"46\" y=\"101.6387\">y: B</text></a></g><!--MD5=[fc10ff8855ac2f2a8d67309a27dc2d88]\n",
       "@startuml\r\n",
       "skinparam ranksep 10\r\n",
       "skinparam rectangle {\r\n",
       " backgroundColor<<block>> LightGreen\r\n",
       "}\r\n",
       " skinparam monochrome true\r\n",
       "skinparam classbackgroundcolor white\r\n",
       "skinparam shadowing false\r\n",
       "skinparam wrapWidth 300\r\n",
       "hide circle\r\n",
       "\r\n",
       "package \"CircularImport\" as E1  [[psysml:690cd2ec-4fe7-4d94-89bf-c3d63ed60cd3 ]]  {\r\n",
       "package \"P1\" as E2  [[psysml:54e3154d-4fa4-4c14-a367-edca149a76a1 ]]  {\r\n",
       "rec def \"A\" as E3  <<(T,blue)part def>> [[psysml:281245e6-0723-4878-ac57-c406fd778909 ]] {\r\n",
       "}\r\n",
       "}\r\n",
       "package \"P2\" as E4  [[psysml:581c4a9e-fb07-4d80-ac64-c8c7b70027d2 ]]  {\r\n",
       "rec def \"B\" as E5  <<(T,blue)part def>> [[psysml:57665928-471f-4095-91e2-d839a960cf78 ]] {\r\n",
       "}\r\n",
       "}\r\n",
       "package \"Test1\" as E6  [[psysml:6bb49afc-ac2c-47b7-b48e-5bd0a62b326b ]]  {\r\n",
       "rec usage \"x: A\" as E7  [[psysml:d6e39b1a-8a39-4c69-85ab-aa8551443e08 ]] {\r\n",
       "}\r\n",
       "rec usage \"y: B\" as E8  [[psysml:ead6e64d-b294-4a2d-a1d8-90d3751f1490 ]] {\r\n",
       "}\r\n",
       "}\r\n",
       "package \"Test2\" as E9  [[psysml:051bf7cb-81b8-4c37-8865-8bb7ea974985 ]]  {\r\n",
       "rec usage \"x: A\" as E10  [[psysml:f3cb1211-10b9-411e-bf19-d5722693e1fe ]] {\r\n",
       "}\r\n",
       "rec usage \"y: B\" as E11  [[psysml:9cdccab4-e502-4fbe-97eb-9b231d825ffa ]] {\r\n",
       "}\r\n",
       "}\r\n",
       "rec usage \"x: A\" as E12  [[psysml:87edab01-bf58-4e9e-abd1-c8b0194f7dca ]] {\r\n",
       "}\r\n",
       "rec usage \"y: B\" as E13  [[psysml:20c5387a-1627-4e14-8312-6f39b31ab3f7 ]] {\r\n",
       "}\r\n",
       "}\r\n",
       "@enduml\r\n",
       "\n",
       "PlantUML version 1.2020.13(Sat Jun 13 12:26:38 UTC 2020)\n",
       "(EPL source distribution)\n",
       "Java Runtime: OpenJDK Runtime Environment\n",
       "JVM: OpenJDK 64-Bit Server VM\n",
       "Default Encoding: UTF-8\n",
       "Language: en\n",
       "Country: null\n",
       "--></g></svg>"
      ]
     },
     "execution_count": 5,
     "metadata": {},
     "output_type": "execute_result"
    }
   ],
   "source": [
    "%viz --style=\"COMPTREE\" --view=\"Interconnection\" \"CircularImport\""
   ]
  },
  {
   "cell_type": "code",
   "execution_count": 6,
   "id": "121511d8",
   "metadata": {
    "execution": {
     "iopub.execute_input": "2021-04-20T06:57:51.622461Z",
     "iopub.status.busy": "2021-04-20T06:57:51.603148Z",
     "iopub.status.idle": "2021-04-20T06:57:51.635554Z",
     "shell.execute_reply": "2021-04-20T06:57:51.622950Z"
    }
   },
   "outputs": [
    {
     "data": {
      "image/svg+xml": [
       "<?xml version=\"1.0\" encoding=\"UTF-8\" standalone=\"no\"?><svg xmlns=\"http://www.w3.org/2000/svg\" xmlns:xlink=\"http://www.w3.org/1999/xlink\" contentScriptType=\"application/ecmascript\" contentStyleType=\"text/css\" height=\"12px\" preserveAspectRatio=\"none\" style=\"width:12px;height:12px;\" version=\"1.1\" viewBox=\"0 0 12 12\" width=\"12px\" zoomAndPan=\"magnify\"><defs/><g><!--MD5=[655b888544ca4751ea36af1068543f84]\n",
       "@startuml\r\n",
       "skinparam ranksep 8\r\n",
       " skinparam monochrome true\r\n",
       "skinparam classbackgroundcolor white\r\n",
       "skinparam shadowing false\r\n",
       "skinparam wrapWidth 300\r\n",
       "hide circle\r\n",
       "\r\n",
       "@enduml\r\n",
       "\n",
       "PlantUML version 1.2020.13(Sat Jun 13 12:26:38 UTC 2020)\n",
       "(EPL source distribution)\n",
       "Java Runtime: OpenJDK Runtime Environment\n",
       "JVM: OpenJDK 64-Bit Server VM\n",
       "Default Encoding: UTF-8\n",
       "Language: en\n",
       "Country: null\n",
       "--></g></svg>"
      ]
     },
     "execution_count": 6,
     "metadata": {},
     "output_type": "execute_result"
    }
   ],
   "source": [
    "%viz --style=\"COMPTREE\" --view=\"Action\" \"CircularImport\""
   ]
  },
  {
   "cell_type": "code",
   "execution_count": 7,
   "id": "c9adcd3d",
   "metadata": {
    "execution": {
     "iopub.execute_input": "2021-04-20T06:57:51.696322Z",
     "iopub.status.busy": "2021-04-20T06:57:51.695311Z",
     "iopub.status.idle": "2021-04-20T06:57:51.760913Z",
     "shell.execute_reply": "2021-04-20T06:57:51.759933Z"
    }
   },
   "outputs": [
    {
     "data": {
      "image/svg+xml": [
       "<?xml version=\"1.0\" encoding=\"UTF-8\" standalone=\"no\"?><svg xmlns=\"http://www.w3.org/2000/svg\" xmlns:xlink=\"http://www.w3.org/1999/xlink\" contentScriptType=\"application/ecmascript\" contentStyleType=\"text/css\" height=\"303px\" preserveAspectRatio=\"none\" style=\"width:518px;height:303px;\" version=\"1.1\" viewBox=\"0 0 518 303\" width=\"518px\" zoomAndPan=\"magnify\"><defs/><g><!--MD5=[fbc87193dbaf4d95561dea2c320d4a47]\n",
       "cluster E1--><a href=\"psysml:690cd2ec-4fe7-4d94-89bf-c3d63ed60cd3\" target=\"_top\" title=\"psysml:690cd2ec-4fe7-4d94-89bf-c3d63ed60cd3\" xlink:actuate=\"onRequest\" xlink:href=\"psysml:690cd2ec-4fe7-4d94-89bf-c3d63ed60cd3\" xlink:show=\"new\" xlink:title=\"psysml:690cd2ec-4fe7-4d94-89bf-c3d63ed60cd3\" xlink:type=\"simple\"><polygon fill=\"#FFFFFF\" points=\"16,6,134,6,141,28.2969,496,28.2969,496,291,16,291,16,6\" style=\"stroke: #000000; stroke-width: 1.5;\"/><line style=\"stroke: #000000; stroke-width: 1.5;\" x1=\"16\" x2=\"141\" y1=\"28.2969\" y2=\"28.2969\"/><text fill=\"#000000\" font-family=\"sans-serif\" font-size=\"14\" font-weight=\"bold\" lengthAdjust=\"spacingAndGlyphs\" textLength=\"112\" x=\"20\" y=\"20.9951\">CircularImport</text></a><!--MD5=[e4f7fae6ed58524ba242bb0b0d3be6b7]\n",
       "cluster E2--><a href=\"psysml:54e3154d-4fa4-4c14-a367-edca149a76a1\" target=\"_top\" title=\"psysml:54e3154d-4fa4-4c14-a367-edca149a76a1\" xlink:actuate=\"onRequest\" xlink:href=\"psysml:54e3154d-4fa4-4c14-a367-edca149a76a1\" xlink:show=\"new\" xlink:title=\"psysml:54e3154d-4fa4-4c14-a367-edca149a76a1\" xlink:type=\"simple\"><polygon fill=\"#FFFFFF\" points=\"333,170,359,170,366,192.2969,431,192.2969,431,267,333,267,333,170\" style=\"stroke: #000000; stroke-width: 1.5;\"/><line style=\"stroke: #000000; stroke-width: 1.5;\" x1=\"333\" x2=\"366\" y1=\"192.2969\" y2=\"192.2969\"/><text fill=\"#000000\" font-family=\"sans-serif\" font-size=\"14\" font-weight=\"bold\" lengthAdjust=\"spacingAndGlyphs\" textLength=\"20\" x=\"337\" y=\"184.9951\">P1</text></a><!--MD5=[f6df4d0ebaf0b5dfb2ced0ae5af7c670]\n",
       "cluster E4--><a href=\"psysml:581c4a9e-fb07-4d80-ac64-c8c7b70027d2\" target=\"_top\" title=\"psysml:581c4a9e-fb07-4d80-ac64-c8c7b70027d2\" xlink:actuate=\"onRequest\" xlink:href=\"psysml:581c4a9e-fb07-4d80-ac64-c8c7b70027d2\" xlink:show=\"new\" xlink:title=\"psysml:581c4a9e-fb07-4d80-ac64-c8c7b70027d2\" xlink:type=\"simple\"><polygon fill=\"#FFFFFF\" points=\"81,170,107,170,114,192.2969,179,192.2969,179,267,81,267,81,170\" style=\"stroke: #000000; stroke-width: 1.5;\"/><line style=\"stroke: #000000; stroke-width: 1.5;\" x1=\"81\" x2=\"114\" y1=\"192.2969\" y2=\"192.2969\"/><text fill=\"#000000\" font-family=\"sans-serif\" font-size=\"14\" font-weight=\"bold\" lengthAdjust=\"spacingAndGlyphs\" textLength=\"20\" x=\"85\" y=\"184.9951\">P2</text></a><!--MD5=[14e3b0961a2654348d326746436168a1]\n",
       "cluster E6--><a href=\"psysml:6bb49afc-ac2c-47b7-b48e-5bd0a62b326b\" target=\"_top\" title=\"psysml:6bb49afc-ac2c-47b7-b48e-5bd0a62b326b\" xlink:actuate=\"onRequest\" xlink:href=\"psysml:6bb49afc-ac2c-47b7-b48e-5bd0a62b326b\" xlink:show=\"new\" xlink:title=\"psysml:6bb49afc-ac2c-47b7-b48e-5bd0a62b326b\" xlink:type=\"simple\"><polygon fill=\"#FFFFFF\" points=\"268,49,319,49,326,71.2969,419,71.2969,419,146,268,146,268,49\" style=\"stroke: #000000; stroke-width: 1.5;\"/><line style=\"stroke: #000000; stroke-width: 1.5;\" x1=\"268\" x2=\"326\" y1=\"71.2969\" y2=\"71.2969\"/><text fill=\"#000000\" font-family=\"sans-serif\" font-size=\"14\" font-weight=\"bold\" lengthAdjust=\"spacingAndGlyphs\" textLength=\"45\" x=\"272\" y=\"63.9951\">Test1</text></a><!--MD5=[7f149f147074ac12df2cb0a7728a5fb0]\n",
       "cluster E9--><a href=\"psysml:051bf7cb-81b8-4c37-8865-8bb7ea974985\" target=\"_top\" title=\"psysml:051bf7cb-81b8-4c37-8865-8bb7ea974985\" xlink:actuate=\"onRequest\" xlink:href=\"psysml:051bf7cb-81b8-4c37-8865-8bb7ea974985\" xlink:show=\"new\" xlink:title=\"psysml:051bf7cb-81b8-4c37-8865-8bb7ea974985\" xlink:type=\"simple\"><polygon fill=\"#FFFFFF\" points=\"93,49,144,49,151,71.2969,244,71.2969,244,146,93,146,93,49\" style=\"stroke: #000000; stroke-width: 1.5;\"/><line style=\"stroke: #000000; stroke-width: 1.5;\" x1=\"93\" x2=\"151\" y1=\"71.2969\" y2=\"71.2969\"/><text fill=\"#000000\" font-family=\"sans-serif\" font-size=\"14\" font-weight=\"bold\" lengthAdjust=\"spacingAndGlyphs\" textLength=\"45\" x=\"97\" y=\"63.9951\">Test2</text></a><!--MD5=[49a0ec8f00dab7302a31f22d0f0fe584]\n",
       "class E12--><a href=\"psysml:87edab01-bf58-4e9e-abd1-c8b0194f7dca\" target=\"_top\" title=\"psysml:87edab01-bf58-4e9e-abd1-c8b0194f7dca\" xlink:actuate=\"onRequest\" xlink:href=\"psysml:87edab01-bf58-4e9e-abd1-c8b0194f7dca\" xlink:show=\"new\" xlink:title=\"psysml:87edab01-bf58-4e9e-abd1-c8b0194f7dca\" xlink:type=\"simple\"><rect fill=\"#FFFFFF\" height=\"45.9375\" id=\"E12\" rx=\"10\" ry=\"10\" style=\"stroke: #383838; stroke-width: 1.5;\" width=\"42\" x=\"438\" y=\"84\"/><text fill=\"#000000\" font-family=\"sans-serif\" font-size=\"12\" font-style=\"italic\" lengthAdjust=\"spacingAndGlyphs\" textLength=\"40\" x=\"439\" y=\"100.1387\">«part»</text><text fill=\"#000000\" font-family=\"sans-serif\" font-size=\"12\" lengthAdjust=\"spacingAndGlyphs\" textLength=\"22\" x=\"448\" y=\"114.1074\">x: A</text><line style=\"stroke: #383838; stroke-width: 1.5;\" x1=\"439\" x2=\"479\" y1=\"121.9375\" y2=\"121.9375\"/></a><!--MD5=[ee3c913d1a06f366521f9ef512b67efe]\n",
       "class E13--><a href=\"psysml:20c5387a-1627-4e14-8312-6f39b31ab3f7\" target=\"_top\" title=\"psysml:20c5387a-1627-4e14-8312-6f39b31ab3f7\" xlink:actuate=\"onRequest\" xlink:href=\"psysml:20c5387a-1627-4e14-8312-6f39b31ab3f7\" xlink:show=\"new\" xlink:title=\"psysml:20c5387a-1627-4e14-8312-6f39b31ab3f7\" xlink:type=\"simple\"><rect fill=\"#FFFFFF\" height=\"45.9375\" id=\"E13\" rx=\"10\" ry=\"10\" style=\"stroke: #383838; stroke-width: 1.5;\" width=\"42\" x=\"32\" y=\"84\"/><text fill=\"#000000\" font-family=\"sans-serif\" font-size=\"12\" font-style=\"italic\" lengthAdjust=\"spacingAndGlyphs\" textLength=\"40\" x=\"33\" y=\"100.1387\">«part»</text><text fill=\"#000000\" font-family=\"sans-serif\" font-size=\"12\" lengthAdjust=\"spacingAndGlyphs\" textLength=\"22\" x=\"42\" y=\"114.1074\">y: B</text><line style=\"stroke: #383838; stroke-width: 1.5;\" x1=\"33\" x2=\"73\" y1=\"121.9375\" y2=\"121.9375\"/></a><!--MD5=[09b614a08d8cba4a07c9adeb5e0fee81]\n",
       "class E3--><a href=\"psysml:281245e6-0723-4878-ac57-c406fd778909\" target=\"_top\" title=\"psysml:281245e6-0723-4878-ac57-c406fd778909\" xlink:actuate=\"onRequest\" xlink:href=\"psysml:281245e6-0723-4878-ac57-c406fd778909\" xlink:show=\"new\" xlink:title=\"psysml:281245e6-0723-4878-ac57-c406fd778909\" xlink:type=\"simple\"><rect fill=\"#FFFFFF\" height=\"45.9375\" id=\"E3\" style=\"stroke: #383838; stroke-width: 1.5;\" width=\"66\" x=\"349\" y=\"205\"/><text fill=\"#000000\" font-family=\"sans-serif\" font-size=\"12\" font-style=\"italic\" lengthAdjust=\"spacingAndGlyphs\" textLength=\"64\" x=\"350\" y=\"221.1387\">«part def»</text><text fill=\"#000000\" font-family=\"sans-serif\" font-size=\"12\" lengthAdjust=\"spacingAndGlyphs\" textLength=\"8\" x=\"378\" y=\"235.1074\">A</text><line style=\"stroke: #383838; stroke-width: 1.5;\" x1=\"350\" x2=\"414\" y1=\"242.9375\" y2=\"242.9375\"/></a><!--MD5=[270fce915f116d4de14055a7c1d9a0f3]\n",
       "class E5--><a href=\"psysml:57665928-471f-4095-91e2-d839a960cf78\" target=\"_top\" title=\"psysml:57665928-471f-4095-91e2-d839a960cf78\" xlink:actuate=\"onRequest\" xlink:href=\"psysml:57665928-471f-4095-91e2-d839a960cf78\" xlink:show=\"new\" xlink:title=\"psysml:57665928-471f-4095-91e2-d839a960cf78\" xlink:type=\"simple\"><rect fill=\"#FFFFFF\" height=\"45.9375\" id=\"E5\" style=\"stroke: #383838; stroke-width: 1.5;\" width=\"66\" x=\"97\" y=\"205\"/><text fill=\"#000000\" font-family=\"sans-serif\" font-size=\"12\" font-style=\"italic\" lengthAdjust=\"spacingAndGlyphs\" textLength=\"64\" x=\"98\" y=\"221.1387\">«part def»</text><text fill=\"#000000\" font-family=\"sans-serif\" font-size=\"12\" lengthAdjust=\"spacingAndGlyphs\" textLength=\"8\" x=\"126\" y=\"235.1074\">B</text><line style=\"stroke: #383838; stroke-width: 1.5;\" x1=\"98\" x2=\"162\" y1=\"242.9375\" y2=\"242.9375\"/></a><!--MD5=[2156ba9850f5573cc1fc38a6a4b2f02b]\n",
       "class E7--><a href=\"psysml:d6e39b1a-8a39-4c69-85ab-aa8551443e08\" target=\"_top\" title=\"psysml:d6e39b1a-8a39-4c69-85ab-aa8551443e08\" xlink:actuate=\"onRequest\" xlink:href=\"psysml:d6e39b1a-8a39-4c69-85ab-aa8551443e08\" xlink:show=\"new\" xlink:title=\"psysml:d6e39b1a-8a39-4c69-85ab-aa8551443e08\" xlink:type=\"simple\"><rect fill=\"#FFFFFF\" height=\"45.9375\" id=\"E7\" rx=\"10\" ry=\"10\" style=\"stroke: #383838; stroke-width: 1.5;\" width=\"42\" x=\"361\" y=\"84\"/><text fill=\"#000000\" font-family=\"sans-serif\" font-size=\"12\" font-style=\"italic\" lengthAdjust=\"spacingAndGlyphs\" textLength=\"40\" x=\"362\" y=\"100.1387\">«part»</text><text fill=\"#000000\" font-family=\"sans-serif\" font-size=\"12\" lengthAdjust=\"spacingAndGlyphs\" textLength=\"22\" x=\"371\" y=\"114.1074\">x: A</text><line style=\"stroke: #383838; stroke-width: 1.5;\" x1=\"362\" x2=\"402\" y1=\"121.9375\" y2=\"121.9375\"/></a><!--MD5=[b9389687b975829384b498ac4b7476b2]\n",
       "class E8--><a href=\"psysml:ead6e64d-b294-4a2d-a1d8-90d3751f1490\" target=\"_top\" title=\"psysml:ead6e64d-b294-4a2d-a1d8-90d3751f1490\" xlink:actuate=\"onRequest\" xlink:href=\"psysml:ead6e64d-b294-4a2d-a1d8-90d3751f1490\" xlink:show=\"new\" xlink:title=\"psysml:ead6e64d-b294-4a2d-a1d8-90d3751f1490\" xlink:type=\"simple\"><rect fill=\"#FFFFFF\" height=\"45.9375\" id=\"E8\" rx=\"10\" ry=\"10\" style=\"stroke: #383838; stroke-width: 1.5;\" width=\"42\" x=\"284\" y=\"84\"/><text fill=\"#000000\" font-family=\"sans-serif\" font-size=\"12\" font-style=\"italic\" lengthAdjust=\"spacingAndGlyphs\" textLength=\"40\" x=\"285\" y=\"100.1387\">«part»</text><text fill=\"#000000\" font-family=\"sans-serif\" font-size=\"12\" lengthAdjust=\"spacingAndGlyphs\" textLength=\"22\" x=\"294\" y=\"114.1074\">y: B</text><line style=\"stroke: #383838; stroke-width: 1.5;\" x1=\"285\" x2=\"325\" y1=\"121.9375\" y2=\"121.9375\"/></a><!--MD5=[96f4274e9e20536e775497830990834d]\n",
       "class E10--><a href=\"psysml:f3cb1211-10b9-411e-bf19-d5722693e1fe\" target=\"_top\" title=\"psysml:f3cb1211-10b9-411e-bf19-d5722693e1fe\" xlink:actuate=\"onRequest\" xlink:href=\"psysml:f3cb1211-10b9-411e-bf19-d5722693e1fe\" xlink:show=\"new\" xlink:title=\"psysml:f3cb1211-10b9-411e-bf19-d5722693e1fe\" xlink:type=\"simple\"><rect fill=\"#FFFFFF\" height=\"45.9375\" id=\"E10\" rx=\"10\" ry=\"10\" style=\"stroke: #383838; stroke-width: 1.5;\" width=\"42\" x=\"186\" y=\"84\"/><text fill=\"#000000\" font-family=\"sans-serif\" font-size=\"12\" font-style=\"italic\" lengthAdjust=\"spacingAndGlyphs\" textLength=\"40\" x=\"187\" y=\"100.1387\">«part»</text><text fill=\"#000000\" font-family=\"sans-serif\" font-size=\"12\" lengthAdjust=\"spacingAndGlyphs\" textLength=\"22\" x=\"196\" y=\"114.1074\">x: A</text><line style=\"stroke: #383838; stroke-width: 1.5;\" x1=\"187\" x2=\"227\" y1=\"121.9375\" y2=\"121.9375\"/></a><!--MD5=[1dd1bfd58a279cf63c5f349dbc8fc6a1]\n",
       "class E11--><a href=\"psysml:9cdccab4-e502-4fbe-97eb-9b231d825ffa\" target=\"_top\" title=\"psysml:9cdccab4-e502-4fbe-97eb-9b231d825ffa\" xlink:actuate=\"onRequest\" xlink:href=\"psysml:9cdccab4-e502-4fbe-97eb-9b231d825ffa\" xlink:show=\"new\" xlink:title=\"psysml:9cdccab4-e502-4fbe-97eb-9b231d825ffa\" xlink:type=\"simple\"><rect fill=\"#FFFFFF\" height=\"45.9375\" id=\"E11\" rx=\"10\" ry=\"10\" style=\"stroke: #383838; stroke-width: 1.5;\" width=\"42\" x=\"109\" y=\"84\"/><text fill=\"#000000\" font-family=\"sans-serif\" font-size=\"12\" font-style=\"italic\" lengthAdjust=\"spacingAndGlyphs\" textLength=\"40\" x=\"110\" y=\"100.1387\">«part»</text><text fill=\"#000000\" font-family=\"sans-serif\" font-size=\"12\" lengthAdjust=\"spacingAndGlyphs\" textLength=\"22\" x=\"119\" y=\"114.1074\">y: B</text><line style=\"stroke: #383838; stroke-width: 1.5;\" x1=\"110\" x2=\"150\" y1=\"121.9375\" y2=\"121.9375\"/></a><!--MD5=[14ccda38c055a5c0da953d572bc50960]\n",
       "link E7 to E3--><a href=\"psysml:84278f38-d400-4655-8657-76a37dd9bb09\" target=\"_top\" title=\"psysml:84278f38-d400-4655-8657-76a37dd9bb09\" xlink:actuate=\"onRequest\" xlink:href=\"psysml:84278f38-d400-4655-8657-76a37dd9bb09\" xlink:show=\"new\" xlink:title=\"psysml:84278f38-d400-4655-8657-76a37dd9bb09\" xlink:type=\"simple\"><path d=\"M382,130.1 C382,145.37 382,166.16 382,184.57 \" fill=\"none\" id=\"E7-&gt;E3\" style=\"stroke: #383838; stroke-width: 1.0;\"/><polygon fill=\"#FFFFFF\" points=\"382,204.61,375,185.61,389,185.61,382,204.61\" style=\"stroke: #383838; stroke-width: 1.0;\"/><ellipse cx=\"377\" cy=\"179.91\" fill=\"#383838\" rx=\"2\" ry=\"2\" style=\"stroke: #383838; stroke-width: 1.0;\"/><ellipse cx=\"387\" cy=\"179.91\" fill=\"#383838\" rx=\"2\" ry=\"2\" style=\"stroke: #383838; stroke-width: 1.0;\"/></a><!--MD5=[1ccb2481ffa92f8d51a74ee30c51832a]\n",
       "link E8 to E5--><a href=\"psysml:9a62fcce-aa5a-49d2-8cac-0b2f538e5bd0\" target=\"_top\" title=\"psysml:9a62fcce-aa5a-49d2-8cac-0b2f538e5bd0\" xlink:actuate=\"onRequest\" xlink:href=\"psysml:9a62fcce-aa5a-49d2-8cac-0b2f538e5bd0\" xlink:show=\"new\" xlink:title=\"psysml:9a62fcce-aa5a-49d2-8cac-0b2f538e5bd0\" xlink:type=\"simple\"><path d=\"M283.84,124.59 C272.23,133.52 257.5,144.61 244,154 C223.51,168.25 200.41,183.24 180.38,195.91 \" fill=\"none\" id=\"E8-&gt;E5\" style=\"stroke: #383838; stroke-width: 1.0;\"/><polygon fill=\"#FFFFFF\" points=\"163.36,206.57,175.7353,190.5434,183.175,202.403,163.36,206.57\" style=\"stroke: #383838; stroke-width: 1.0;\"/><ellipse cx=\"181.6267\" cy=\"189.2086\" fill=\"#383838\" rx=\"2\" ry=\"2\" style=\"stroke: #383838; stroke-width: 1.0;\"/><ellipse cx=\"186.9408\" cy=\"197.6797\" fill=\"#383838\" rx=\"2\" ry=\"2\" style=\"stroke: #383838; stroke-width: 1.0;\"/></a><!--MD5=[feeac5eb423634930294aa81f2d25a4c]\n",
       "link E10 to E3--><a href=\"psysml:bd7260c7-b55a-4391-86f8-9493bae3bcdc\" target=\"_top\" title=\"psysml:bd7260c7-b55a-4391-86f8-9493bae3bcdc\" xlink:actuate=\"onRequest\" xlink:href=\"psysml:bd7260c7-b55a-4391-86f8-9493bae3bcdc\" xlink:show=\"new\" xlink:title=\"psysml:bd7260c7-b55a-4391-86f8-9493bae3bcdc\" xlink:type=\"simple\"><path d=\"M228.16,124.59 C239.77,133.52 254.5,144.61 268,154 C288.49,168.25 311.59,183.24 331.62,195.91 \" fill=\"none\" id=\"E10-&gt;E3\" style=\"stroke: #383838; stroke-width: 1.0;\"/><polygon fill=\"#FFFFFF\" points=\"348.64,206.57,328.825,202.403,336.2647,190.5434,348.64,206.57\" style=\"stroke: #383838; stroke-width: 1.0;\"/><ellipse cx=\"325.0592\" cy=\"197.6797\" fill=\"#383838\" rx=\"2\" ry=\"2\" style=\"stroke: #383838; stroke-width: 1.0;\"/><ellipse cx=\"330.3733\" cy=\"189.2086\" fill=\"#383838\" rx=\"2\" ry=\"2\" style=\"stroke: #383838; stroke-width: 1.0;\"/></a><!--MD5=[07b77f6f309248d16187045709d1c26e]\n",
       "link E11 to E5--><a href=\"psysml:099d00ce-a154-42ce-865e-6b31b35a0829\" target=\"_top\" title=\"psysml:099d00ce-a154-42ce-865e-6b31b35a0829\" xlink:actuate=\"onRequest\" xlink:href=\"psysml:099d00ce-a154-42ce-865e-6b31b35a0829\" xlink:show=\"new\" xlink:title=\"psysml:099d00ce-a154-42ce-865e-6b31b35a0829\" xlink:type=\"simple\"><path d=\"M130,130.1 C130,145.37 130,166.16 130,184.57 \" fill=\"none\" id=\"E11-&gt;E5\" style=\"stroke: #383838; stroke-width: 1.0;\"/><polygon fill=\"#FFFFFF\" points=\"130,204.61,123,185.61,137,185.61,130,204.61\" style=\"stroke: #383838; stroke-width: 1.0;\"/><ellipse cx=\"125\" cy=\"179.91\" fill=\"#383838\" rx=\"2\" ry=\"2\" style=\"stroke: #383838; stroke-width: 1.0;\"/><ellipse cx=\"135\" cy=\"179.91\" fill=\"#383838\" rx=\"2\" ry=\"2\" style=\"stroke: #383838; stroke-width: 1.0;\"/></a><!--MD5=[39f41a0e550fb3d73b4d8135617e30a2]\n",
       "link E12 to E3--><a href=\"psysml:2e0d72ae-9b36-4ac2-af7e-1d21d87eecf3\" target=\"_top\" title=\"psysml:2e0d72ae-9b36-4ac2-af7e-1d21d87eecf3\" xlink:actuate=\"onRequest\" xlink:href=\"psysml:2e0d72ae-9b36-4ac2-af7e-1d21d87eecf3\" xlink:show=\"new\" xlink:title=\"psysml:2e0d72ae-9b36-4ac2-af7e-1d21d87eecf3\" xlink:type=\"simple\"><path d=\"M444.7,130.1 C434.28,146.2 419.89,168.44 407.53,187.55 \" fill=\"none\" id=\"E12-&gt;E3\" style=\"stroke: #383838; stroke-width: 1.0;\"/><polygon fill=\"#FFFFFF\" points=\"396.49,204.61,400.9313,184.8546,412.6866,192.4581,396.49,204.61\" style=\"stroke: #383838; stroke-width: 1.0;\"/><ellipse cx=\"405.7063\" cy=\"181.1547\" fill=\"#383838\" rx=\"2\" ry=\"2\" style=\"stroke: #383838; stroke-width: 1.0;\"/><ellipse cx=\"414.103\" cy=\"186.5858\" fill=\"#383838\" rx=\"2\" ry=\"2\" style=\"stroke: #383838; stroke-width: 1.0;\"/></a><!--MD5=[066b2d8af59fea80ccdb3d54ad5c1091]\n",
       "link E13 to E5--><a href=\"psysml:28c76814-e954-4c97-b716-40e2f6813c6b\" target=\"_top\" title=\"psysml:28c76814-e954-4c97-b716-40e2f6813c6b\" xlink:actuate=\"onRequest\" xlink:href=\"psysml:28c76814-e954-4c97-b716-40e2f6813c6b\" xlink:show=\"new\" xlink:title=\"psysml:28c76814-e954-4c97-b716-40e2f6813c6b\" xlink:type=\"simple\"><path d=\"M67.3,130.1 C77.72,146.2 92.11,168.44 104.47,187.55 \" fill=\"none\" id=\"E13-&gt;E5\" style=\"stroke: #383838; stroke-width: 1.0;\"/><polygon fill=\"#FFFFFF\" points=\"115.51,204.61,99.3134,192.4581,111.0687,184.8546,115.51,204.61\" style=\"stroke: #383838; stroke-width: 1.0;\"/><ellipse cx=\"97.897\" cy=\"186.5858\" fill=\"#383838\" rx=\"2\" ry=\"2\" style=\"stroke: #383838; stroke-width: 1.0;\"/><ellipse cx=\"106.2937\" cy=\"181.1547\" fill=\"#383838\" rx=\"2\" ry=\"2\" style=\"stroke: #383838; stroke-width: 1.0;\"/></a><!--MD5=[80ae01da9ae22f37f78ad62332d4f6be]\n",
       "@startuml\r\n",
       " skinparam monochrome true\r\n",
       "skinparam classbackgroundcolor white\r\n",
       "skinparam shadowing false\r\n",
       "skinparam wrapWidth 300\r\n",
       "hide circle\r\n",
       "\r\n",
       "package \"CircularImport\" as E1  [[psysml:690cd2ec-4fe7-4d94-89bf-c3d63ed60cd3 ]]  {\r\n",
       "package \"P1\" as E2  [[psysml:54e3154d-4fa4-4c14-a367-edca149a76a1 ]]  {\r\n",
       "comp def \"A\" as E3  <<(T,blue)part def>> [[psysml:281245e6-0723-4878-ac57-c406fd778909 ]] {\r\n",
       "}\r\n",
       "}\r\n",
       "package \"P2\" as E4  [[psysml:581c4a9e-fb07-4d80-ac64-c8c7b70027d2 ]]  {\r\n",
       "comp def \"B\" as E5  <<(T,blue)part def>> [[psysml:57665928-471f-4095-91e2-d839a960cf78 ]] {\r\n",
       "}\r\n",
       "}\r\n",
       "package \"Test1\" as E6  [[psysml:6bb49afc-ac2c-47b7-b48e-5bd0a62b326b ]]  {\r\n",
       "comp usage \"x: A\" as E7  <<(T,blue)part>> [[psysml:d6e39b1a-8a39-4c69-85ab-aa8551443e08 ]] {\r\n",
       "}\r\n",
       "comp usage \"y: B\" as E8  <<(T,blue)part>> [[psysml:ead6e64d-b294-4a2d-a1d8-90d3751f1490 ]] {\r\n",
       "}\r\n",
       "E7 - -:|> E3 [[psysml:84278f38-d400-4655-8657-76a37dd9bb09 ]] \r\n",
       "E8 - -:|> E5 [[psysml:9a62fcce-aa5a-49d2-8cac-0b2f538e5bd0 ]] \r\n",
       "}\r\n",
       "package \"Test2\" as E9  [[psysml:051bf7cb-81b8-4c37-8865-8bb7ea974985 ]]  {\r\n",
       "comp usage \"x: A\" as E10  <<(T,blue)part>> [[psysml:f3cb1211-10b9-411e-bf19-d5722693e1fe ]] {\r\n",
       "}\r\n",
       "comp usage \"y: B\" as E11  <<(T,blue)part>> [[psysml:9cdccab4-e502-4fbe-97eb-9b231d825ffa ]] {\r\n",
       "}\r\n",
       "E10 - -:|> E3 [[psysml:bd7260c7-b55a-4391-86f8-9493bae3bcdc ]] \r\n",
       "E11 - -:|> E5 [[psysml:099d00ce-a154-42ce-865e-6b31b35a0829 ]] \r\n",
       "}\r\n",
       "comp usage \"x: A\" as E12  <<(T,blue)part>> [[psysml:87edab01-bf58-4e9e-abd1-c8b0194f7dca ]] {\r\n",
       "}\r\n",
       "comp usage \"y: B\" as E13  <<(T,blue)part>> [[psysml:20c5387a-1627-4e14-8312-6f39b31ab3f7 ]] {\r\n",
       "}\r\n",
       "E12 - -:|> E3 [[psysml:2e0d72ae-9b36-4ac2-af7e-1d21d87eecf3 ]] \r\n",
       "E13 - -:|> E5 [[psysml:28c76814-e954-4c97-b716-40e2f6813c6b ]] \r\n",
       "}\r\n",
       "@enduml\r\n",
       "\n",
       "PlantUML version 1.2020.13(Sat Jun 13 12:26:38 UTC 2020)\n",
       "(EPL source distribution)\n",
       "Java Runtime: OpenJDK Runtime Environment\n",
       "JVM: OpenJDK 64-Bit Server VM\n",
       "Default Encoding: UTF-8\n",
       "Language: en\n",
       "Country: null\n",
       "--></g></svg>"
      ]
     },
     "execution_count": 7,
     "metadata": {},
     "output_type": "execute_result"
    }
   ],
   "source": [
    "%viz --style=\"COMPTREE\" --view=\"Sequence\" \"CircularImport\""
   ]
  },
  {
   "cell_type": "code",
   "execution_count": 8,
   "id": "8bdcedca",
   "metadata": {
    "execution": {
     "iopub.execute_input": "2021-04-20T06:57:51.813121Z",
     "iopub.status.busy": "2021-04-20T06:57:51.812038Z",
     "iopub.status.idle": "2021-04-20T06:57:51.878728Z",
     "shell.execute_reply": "2021-04-20T06:57:51.876405Z"
    }
   },
   "outputs": [
    {
     "data": {
      "image/svg+xml": [
       "<?xml version=\"1.0\" encoding=\"UTF-8\" standalone=\"no\"?><svg xmlns=\"http://www.w3.org/2000/svg\" xmlns:xlink=\"http://www.w3.org/1999/xlink\" contentScriptType=\"application/ecmascript\" contentStyleType=\"text/css\" height=\"303px\" preserveAspectRatio=\"none\" style=\"width:518px;height:303px;\" version=\"1.1\" viewBox=\"0 0 518 303\" width=\"518px\" zoomAndPan=\"magnify\"><defs/><g><!--MD5=[fbc87193dbaf4d95561dea2c320d4a47]\n",
       "cluster E1--><a href=\"psysml:690cd2ec-4fe7-4d94-89bf-c3d63ed60cd3\" target=\"_top\" title=\"psysml:690cd2ec-4fe7-4d94-89bf-c3d63ed60cd3\" xlink:actuate=\"onRequest\" xlink:href=\"psysml:690cd2ec-4fe7-4d94-89bf-c3d63ed60cd3\" xlink:show=\"new\" xlink:title=\"psysml:690cd2ec-4fe7-4d94-89bf-c3d63ed60cd3\" xlink:type=\"simple\"><polygon fill=\"#FFFFFF\" points=\"16,6,134,6,141,28.2969,496,28.2969,496,291,16,291,16,6\" style=\"stroke: #000000; stroke-width: 1.5;\"/><line style=\"stroke: #000000; stroke-width: 1.5;\" x1=\"16\" x2=\"141\" y1=\"28.2969\" y2=\"28.2969\"/><text fill=\"#000000\" font-family=\"sans-serif\" font-size=\"14\" font-weight=\"bold\" lengthAdjust=\"spacingAndGlyphs\" textLength=\"112\" x=\"20\" y=\"20.9951\">CircularImport</text></a><!--MD5=[e4f7fae6ed58524ba242bb0b0d3be6b7]\n",
       "cluster E2--><a href=\"psysml:54e3154d-4fa4-4c14-a367-edca149a76a1\" target=\"_top\" title=\"psysml:54e3154d-4fa4-4c14-a367-edca149a76a1\" xlink:actuate=\"onRequest\" xlink:href=\"psysml:54e3154d-4fa4-4c14-a367-edca149a76a1\" xlink:show=\"new\" xlink:title=\"psysml:54e3154d-4fa4-4c14-a367-edca149a76a1\" xlink:type=\"simple\"><polygon fill=\"#FFFFFF\" points=\"333,170,359,170,366,192.2969,431,192.2969,431,267,333,267,333,170\" style=\"stroke: #000000; stroke-width: 1.5;\"/><line style=\"stroke: #000000; stroke-width: 1.5;\" x1=\"333\" x2=\"366\" y1=\"192.2969\" y2=\"192.2969\"/><text fill=\"#000000\" font-family=\"sans-serif\" font-size=\"14\" font-weight=\"bold\" lengthAdjust=\"spacingAndGlyphs\" textLength=\"20\" x=\"337\" y=\"184.9951\">P1</text></a><!--MD5=[f6df4d0ebaf0b5dfb2ced0ae5af7c670]\n",
       "cluster E4--><a href=\"psysml:581c4a9e-fb07-4d80-ac64-c8c7b70027d2\" target=\"_top\" title=\"psysml:581c4a9e-fb07-4d80-ac64-c8c7b70027d2\" xlink:actuate=\"onRequest\" xlink:href=\"psysml:581c4a9e-fb07-4d80-ac64-c8c7b70027d2\" xlink:show=\"new\" xlink:title=\"psysml:581c4a9e-fb07-4d80-ac64-c8c7b70027d2\" xlink:type=\"simple\"><polygon fill=\"#FFFFFF\" points=\"81,170,107,170,114,192.2969,179,192.2969,179,267,81,267,81,170\" style=\"stroke: #000000; stroke-width: 1.5;\"/><line style=\"stroke: #000000; stroke-width: 1.5;\" x1=\"81\" x2=\"114\" y1=\"192.2969\" y2=\"192.2969\"/><text fill=\"#000000\" font-family=\"sans-serif\" font-size=\"14\" font-weight=\"bold\" lengthAdjust=\"spacingAndGlyphs\" textLength=\"20\" x=\"85\" y=\"184.9951\">P2</text></a><!--MD5=[14e3b0961a2654348d326746436168a1]\n",
       "cluster E6--><a href=\"psysml:6bb49afc-ac2c-47b7-b48e-5bd0a62b326b\" target=\"_top\" title=\"psysml:6bb49afc-ac2c-47b7-b48e-5bd0a62b326b\" xlink:actuate=\"onRequest\" xlink:href=\"psysml:6bb49afc-ac2c-47b7-b48e-5bd0a62b326b\" xlink:show=\"new\" xlink:title=\"psysml:6bb49afc-ac2c-47b7-b48e-5bd0a62b326b\" xlink:type=\"simple\"><polygon fill=\"#FFFFFF\" points=\"268,49,319,49,326,71.2969,419,71.2969,419,146,268,146,268,49\" style=\"stroke: #000000; stroke-width: 1.5;\"/><line style=\"stroke: #000000; stroke-width: 1.5;\" x1=\"268\" x2=\"326\" y1=\"71.2969\" y2=\"71.2969\"/><text fill=\"#000000\" font-family=\"sans-serif\" font-size=\"14\" font-weight=\"bold\" lengthAdjust=\"spacingAndGlyphs\" textLength=\"45\" x=\"272\" y=\"63.9951\">Test1</text></a><!--MD5=[7f149f147074ac12df2cb0a7728a5fb0]\n",
       "cluster E9--><a href=\"psysml:051bf7cb-81b8-4c37-8865-8bb7ea974985\" target=\"_top\" title=\"psysml:051bf7cb-81b8-4c37-8865-8bb7ea974985\" xlink:actuate=\"onRequest\" xlink:href=\"psysml:051bf7cb-81b8-4c37-8865-8bb7ea974985\" xlink:show=\"new\" xlink:title=\"psysml:051bf7cb-81b8-4c37-8865-8bb7ea974985\" xlink:type=\"simple\"><polygon fill=\"#FFFFFF\" points=\"93,49,144,49,151,71.2969,244,71.2969,244,146,93,146,93,49\" style=\"stroke: #000000; stroke-width: 1.5;\"/><line style=\"stroke: #000000; stroke-width: 1.5;\" x1=\"93\" x2=\"151\" y1=\"71.2969\" y2=\"71.2969\"/><text fill=\"#000000\" font-family=\"sans-serif\" font-size=\"14\" font-weight=\"bold\" lengthAdjust=\"spacingAndGlyphs\" textLength=\"45\" x=\"97\" y=\"63.9951\">Test2</text></a><!--MD5=[49a0ec8f00dab7302a31f22d0f0fe584]\n",
       "class E12--><a href=\"psysml:87edab01-bf58-4e9e-abd1-c8b0194f7dca\" target=\"_top\" title=\"psysml:87edab01-bf58-4e9e-abd1-c8b0194f7dca\" xlink:actuate=\"onRequest\" xlink:href=\"psysml:87edab01-bf58-4e9e-abd1-c8b0194f7dca\" xlink:show=\"new\" xlink:title=\"psysml:87edab01-bf58-4e9e-abd1-c8b0194f7dca\" xlink:type=\"simple\"><rect fill=\"#FFFFFF\" height=\"45.9375\" id=\"E12\" rx=\"10\" ry=\"10\" style=\"stroke: #383838; stroke-width: 1.5;\" width=\"42\" x=\"438\" y=\"84\"/><text fill=\"#000000\" font-family=\"sans-serif\" font-size=\"12\" font-style=\"italic\" lengthAdjust=\"spacingAndGlyphs\" textLength=\"40\" x=\"439\" y=\"100.1387\">«part»</text><text fill=\"#000000\" font-family=\"sans-serif\" font-size=\"12\" lengthAdjust=\"spacingAndGlyphs\" textLength=\"22\" x=\"448\" y=\"114.1074\">x: A</text><line style=\"stroke: #383838; stroke-width: 1.5;\" x1=\"439\" x2=\"479\" y1=\"121.9375\" y2=\"121.9375\"/></a><!--MD5=[ee3c913d1a06f366521f9ef512b67efe]\n",
       "class E13--><a href=\"psysml:20c5387a-1627-4e14-8312-6f39b31ab3f7\" target=\"_top\" title=\"psysml:20c5387a-1627-4e14-8312-6f39b31ab3f7\" xlink:actuate=\"onRequest\" xlink:href=\"psysml:20c5387a-1627-4e14-8312-6f39b31ab3f7\" xlink:show=\"new\" xlink:title=\"psysml:20c5387a-1627-4e14-8312-6f39b31ab3f7\" xlink:type=\"simple\"><rect fill=\"#FFFFFF\" height=\"45.9375\" id=\"E13\" rx=\"10\" ry=\"10\" style=\"stroke: #383838; stroke-width: 1.5;\" width=\"42\" x=\"32\" y=\"84\"/><text fill=\"#000000\" font-family=\"sans-serif\" font-size=\"12\" font-style=\"italic\" lengthAdjust=\"spacingAndGlyphs\" textLength=\"40\" x=\"33\" y=\"100.1387\">«part»</text><text fill=\"#000000\" font-family=\"sans-serif\" font-size=\"12\" lengthAdjust=\"spacingAndGlyphs\" textLength=\"22\" x=\"42\" y=\"114.1074\">y: B</text><line style=\"stroke: #383838; stroke-width: 1.5;\" x1=\"33\" x2=\"73\" y1=\"121.9375\" y2=\"121.9375\"/></a><!--MD5=[09b614a08d8cba4a07c9adeb5e0fee81]\n",
       "class E3--><a href=\"psysml:281245e6-0723-4878-ac57-c406fd778909\" target=\"_top\" title=\"psysml:281245e6-0723-4878-ac57-c406fd778909\" xlink:actuate=\"onRequest\" xlink:href=\"psysml:281245e6-0723-4878-ac57-c406fd778909\" xlink:show=\"new\" xlink:title=\"psysml:281245e6-0723-4878-ac57-c406fd778909\" xlink:type=\"simple\"><rect fill=\"#FFFFFF\" height=\"45.9375\" id=\"E3\" style=\"stroke: #383838; stroke-width: 1.5;\" width=\"66\" x=\"349\" y=\"205\"/><text fill=\"#000000\" font-family=\"sans-serif\" font-size=\"12\" font-style=\"italic\" lengthAdjust=\"spacingAndGlyphs\" textLength=\"64\" x=\"350\" y=\"221.1387\">«part def»</text><text fill=\"#000000\" font-family=\"sans-serif\" font-size=\"12\" lengthAdjust=\"spacingAndGlyphs\" textLength=\"8\" x=\"378\" y=\"235.1074\">A</text><line style=\"stroke: #383838; stroke-width: 1.5;\" x1=\"350\" x2=\"414\" y1=\"242.9375\" y2=\"242.9375\"/></a><!--MD5=[270fce915f116d4de14055a7c1d9a0f3]\n",
       "class E5--><a href=\"psysml:57665928-471f-4095-91e2-d839a960cf78\" target=\"_top\" title=\"psysml:57665928-471f-4095-91e2-d839a960cf78\" xlink:actuate=\"onRequest\" xlink:href=\"psysml:57665928-471f-4095-91e2-d839a960cf78\" xlink:show=\"new\" xlink:title=\"psysml:57665928-471f-4095-91e2-d839a960cf78\" xlink:type=\"simple\"><rect fill=\"#FFFFFF\" height=\"45.9375\" id=\"E5\" style=\"stroke: #383838; stroke-width: 1.5;\" width=\"66\" x=\"97\" y=\"205\"/><text fill=\"#000000\" font-family=\"sans-serif\" font-size=\"12\" font-style=\"italic\" lengthAdjust=\"spacingAndGlyphs\" textLength=\"64\" x=\"98\" y=\"221.1387\">«part def»</text><text fill=\"#000000\" font-family=\"sans-serif\" font-size=\"12\" lengthAdjust=\"spacingAndGlyphs\" textLength=\"8\" x=\"126\" y=\"235.1074\">B</text><line style=\"stroke: #383838; stroke-width: 1.5;\" x1=\"98\" x2=\"162\" y1=\"242.9375\" y2=\"242.9375\"/></a><!--MD5=[2156ba9850f5573cc1fc38a6a4b2f02b]\n",
       "class E7--><a href=\"psysml:d6e39b1a-8a39-4c69-85ab-aa8551443e08\" target=\"_top\" title=\"psysml:d6e39b1a-8a39-4c69-85ab-aa8551443e08\" xlink:actuate=\"onRequest\" xlink:href=\"psysml:d6e39b1a-8a39-4c69-85ab-aa8551443e08\" xlink:show=\"new\" xlink:title=\"psysml:d6e39b1a-8a39-4c69-85ab-aa8551443e08\" xlink:type=\"simple\"><rect fill=\"#FFFFFF\" height=\"45.9375\" id=\"E7\" rx=\"10\" ry=\"10\" style=\"stroke: #383838; stroke-width: 1.5;\" width=\"42\" x=\"361\" y=\"84\"/><text fill=\"#000000\" font-family=\"sans-serif\" font-size=\"12\" font-style=\"italic\" lengthAdjust=\"spacingAndGlyphs\" textLength=\"40\" x=\"362\" y=\"100.1387\">«part»</text><text fill=\"#000000\" font-family=\"sans-serif\" font-size=\"12\" lengthAdjust=\"spacingAndGlyphs\" textLength=\"22\" x=\"371\" y=\"114.1074\">x: A</text><line style=\"stroke: #383838; stroke-width: 1.5;\" x1=\"362\" x2=\"402\" y1=\"121.9375\" y2=\"121.9375\"/></a><!--MD5=[b9389687b975829384b498ac4b7476b2]\n",
       "class E8--><a href=\"psysml:ead6e64d-b294-4a2d-a1d8-90d3751f1490\" target=\"_top\" title=\"psysml:ead6e64d-b294-4a2d-a1d8-90d3751f1490\" xlink:actuate=\"onRequest\" xlink:href=\"psysml:ead6e64d-b294-4a2d-a1d8-90d3751f1490\" xlink:show=\"new\" xlink:title=\"psysml:ead6e64d-b294-4a2d-a1d8-90d3751f1490\" xlink:type=\"simple\"><rect fill=\"#FFFFFF\" height=\"45.9375\" id=\"E8\" rx=\"10\" ry=\"10\" style=\"stroke: #383838; stroke-width: 1.5;\" width=\"42\" x=\"284\" y=\"84\"/><text fill=\"#000000\" font-family=\"sans-serif\" font-size=\"12\" font-style=\"italic\" lengthAdjust=\"spacingAndGlyphs\" textLength=\"40\" x=\"285\" y=\"100.1387\">«part»</text><text fill=\"#000000\" font-family=\"sans-serif\" font-size=\"12\" lengthAdjust=\"spacingAndGlyphs\" textLength=\"22\" x=\"294\" y=\"114.1074\">y: B</text><line style=\"stroke: #383838; stroke-width: 1.5;\" x1=\"285\" x2=\"325\" y1=\"121.9375\" y2=\"121.9375\"/></a><!--MD5=[96f4274e9e20536e775497830990834d]\n",
       "class E10--><a href=\"psysml:f3cb1211-10b9-411e-bf19-d5722693e1fe\" target=\"_top\" title=\"psysml:f3cb1211-10b9-411e-bf19-d5722693e1fe\" xlink:actuate=\"onRequest\" xlink:href=\"psysml:f3cb1211-10b9-411e-bf19-d5722693e1fe\" xlink:show=\"new\" xlink:title=\"psysml:f3cb1211-10b9-411e-bf19-d5722693e1fe\" xlink:type=\"simple\"><rect fill=\"#FFFFFF\" height=\"45.9375\" id=\"E10\" rx=\"10\" ry=\"10\" style=\"stroke: #383838; stroke-width: 1.5;\" width=\"42\" x=\"186\" y=\"84\"/><text fill=\"#000000\" font-family=\"sans-serif\" font-size=\"12\" font-style=\"italic\" lengthAdjust=\"spacingAndGlyphs\" textLength=\"40\" x=\"187\" y=\"100.1387\">«part»</text><text fill=\"#000000\" font-family=\"sans-serif\" font-size=\"12\" lengthAdjust=\"spacingAndGlyphs\" textLength=\"22\" x=\"196\" y=\"114.1074\">x: A</text><line style=\"stroke: #383838; stroke-width: 1.5;\" x1=\"187\" x2=\"227\" y1=\"121.9375\" y2=\"121.9375\"/></a><!--MD5=[1dd1bfd58a279cf63c5f349dbc8fc6a1]\n",
       "class E11--><a href=\"psysml:9cdccab4-e502-4fbe-97eb-9b231d825ffa\" target=\"_top\" title=\"psysml:9cdccab4-e502-4fbe-97eb-9b231d825ffa\" xlink:actuate=\"onRequest\" xlink:href=\"psysml:9cdccab4-e502-4fbe-97eb-9b231d825ffa\" xlink:show=\"new\" xlink:title=\"psysml:9cdccab4-e502-4fbe-97eb-9b231d825ffa\" xlink:type=\"simple\"><rect fill=\"#FFFFFF\" height=\"45.9375\" id=\"E11\" rx=\"10\" ry=\"10\" style=\"stroke: #383838; stroke-width: 1.5;\" width=\"42\" x=\"109\" y=\"84\"/><text fill=\"#000000\" font-family=\"sans-serif\" font-size=\"12\" font-style=\"italic\" lengthAdjust=\"spacingAndGlyphs\" textLength=\"40\" x=\"110\" y=\"100.1387\">«part»</text><text fill=\"#000000\" font-family=\"sans-serif\" font-size=\"12\" lengthAdjust=\"spacingAndGlyphs\" textLength=\"22\" x=\"119\" y=\"114.1074\">y: B</text><line style=\"stroke: #383838; stroke-width: 1.5;\" x1=\"110\" x2=\"150\" y1=\"121.9375\" y2=\"121.9375\"/></a><!--MD5=[14ccda38c055a5c0da953d572bc50960]\n",
       "link E7 to E3--><a href=\"psysml:84278f38-d400-4655-8657-76a37dd9bb09\" target=\"_top\" title=\"psysml:84278f38-d400-4655-8657-76a37dd9bb09\" xlink:actuate=\"onRequest\" xlink:href=\"psysml:84278f38-d400-4655-8657-76a37dd9bb09\" xlink:show=\"new\" xlink:title=\"psysml:84278f38-d400-4655-8657-76a37dd9bb09\" xlink:type=\"simple\"><path d=\"M382,130.1 C382,145.37 382,166.16 382,184.57 \" fill=\"none\" id=\"E7-&gt;E3\" style=\"stroke: #383838; stroke-width: 1.0;\"/><polygon fill=\"#FFFFFF\" points=\"382,204.61,375,185.61,389,185.61,382,204.61\" style=\"stroke: #383838; stroke-width: 1.0;\"/><ellipse cx=\"377\" cy=\"179.91\" fill=\"#383838\" rx=\"2\" ry=\"2\" style=\"stroke: #383838; stroke-width: 1.0;\"/><ellipse cx=\"387\" cy=\"179.91\" fill=\"#383838\" rx=\"2\" ry=\"2\" style=\"stroke: #383838; stroke-width: 1.0;\"/></a><!--MD5=[1ccb2481ffa92f8d51a74ee30c51832a]\n",
       "link E8 to E5--><a href=\"psysml:9a62fcce-aa5a-49d2-8cac-0b2f538e5bd0\" target=\"_top\" title=\"psysml:9a62fcce-aa5a-49d2-8cac-0b2f538e5bd0\" xlink:actuate=\"onRequest\" xlink:href=\"psysml:9a62fcce-aa5a-49d2-8cac-0b2f538e5bd0\" xlink:show=\"new\" xlink:title=\"psysml:9a62fcce-aa5a-49d2-8cac-0b2f538e5bd0\" xlink:type=\"simple\"><path d=\"M283.84,124.59 C272.23,133.52 257.5,144.61 244,154 C223.51,168.25 200.41,183.24 180.38,195.91 \" fill=\"none\" id=\"E8-&gt;E5\" style=\"stroke: #383838; stroke-width: 1.0;\"/><polygon fill=\"#FFFFFF\" points=\"163.36,206.57,175.7353,190.5434,183.175,202.403,163.36,206.57\" style=\"stroke: #383838; stroke-width: 1.0;\"/><ellipse cx=\"181.6267\" cy=\"189.2086\" fill=\"#383838\" rx=\"2\" ry=\"2\" style=\"stroke: #383838; stroke-width: 1.0;\"/><ellipse cx=\"186.9408\" cy=\"197.6797\" fill=\"#383838\" rx=\"2\" ry=\"2\" style=\"stroke: #383838; stroke-width: 1.0;\"/></a><!--MD5=[feeac5eb423634930294aa81f2d25a4c]\n",
       "link E10 to E3--><a href=\"psysml:bd7260c7-b55a-4391-86f8-9493bae3bcdc\" target=\"_top\" title=\"psysml:bd7260c7-b55a-4391-86f8-9493bae3bcdc\" xlink:actuate=\"onRequest\" xlink:href=\"psysml:bd7260c7-b55a-4391-86f8-9493bae3bcdc\" xlink:show=\"new\" xlink:title=\"psysml:bd7260c7-b55a-4391-86f8-9493bae3bcdc\" xlink:type=\"simple\"><path d=\"M228.16,124.59 C239.77,133.52 254.5,144.61 268,154 C288.49,168.25 311.59,183.24 331.62,195.91 \" fill=\"none\" id=\"E10-&gt;E3\" style=\"stroke: #383838; stroke-width: 1.0;\"/><polygon fill=\"#FFFFFF\" points=\"348.64,206.57,328.825,202.403,336.2647,190.5434,348.64,206.57\" style=\"stroke: #383838; stroke-width: 1.0;\"/><ellipse cx=\"325.0592\" cy=\"197.6797\" fill=\"#383838\" rx=\"2\" ry=\"2\" style=\"stroke: #383838; stroke-width: 1.0;\"/><ellipse cx=\"330.3733\" cy=\"189.2086\" fill=\"#383838\" rx=\"2\" ry=\"2\" style=\"stroke: #383838; stroke-width: 1.0;\"/></a><!--MD5=[07b77f6f309248d16187045709d1c26e]\n",
       "link E11 to E5--><a href=\"psysml:099d00ce-a154-42ce-865e-6b31b35a0829\" target=\"_top\" title=\"psysml:099d00ce-a154-42ce-865e-6b31b35a0829\" xlink:actuate=\"onRequest\" xlink:href=\"psysml:099d00ce-a154-42ce-865e-6b31b35a0829\" xlink:show=\"new\" xlink:title=\"psysml:099d00ce-a154-42ce-865e-6b31b35a0829\" xlink:type=\"simple\"><path d=\"M130,130.1 C130,145.37 130,166.16 130,184.57 \" fill=\"none\" id=\"E11-&gt;E5\" style=\"stroke: #383838; stroke-width: 1.0;\"/><polygon fill=\"#FFFFFF\" points=\"130,204.61,123,185.61,137,185.61,130,204.61\" style=\"stroke: #383838; stroke-width: 1.0;\"/><ellipse cx=\"125\" cy=\"179.91\" fill=\"#383838\" rx=\"2\" ry=\"2\" style=\"stroke: #383838; stroke-width: 1.0;\"/><ellipse cx=\"135\" cy=\"179.91\" fill=\"#383838\" rx=\"2\" ry=\"2\" style=\"stroke: #383838; stroke-width: 1.0;\"/></a><!--MD5=[39f41a0e550fb3d73b4d8135617e30a2]\n",
       "link E12 to E3--><a href=\"psysml:2e0d72ae-9b36-4ac2-af7e-1d21d87eecf3\" target=\"_top\" title=\"psysml:2e0d72ae-9b36-4ac2-af7e-1d21d87eecf3\" xlink:actuate=\"onRequest\" xlink:href=\"psysml:2e0d72ae-9b36-4ac2-af7e-1d21d87eecf3\" xlink:show=\"new\" xlink:title=\"psysml:2e0d72ae-9b36-4ac2-af7e-1d21d87eecf3\" xlink:type=\"simple\"><path d=\"M444.7,130.1 C434.28,146.2 419.89,168.44 407.53,187.55 \" fill=\"none\" id=\"E12-&gt;E3\" style=\"stroke: #383838; stroke-width: 1.0;\"/><polygon fill=\"#FFFFFF\" points=\"396.49,204.61,400.9313,184.8546,412.6866,192.4581,396.49,204.61\" style=\"stroke: #383838; stroke-width: 1.0;\"/><ellipse cx=\"405.7063\" cy=\"181.1547\" fill=\"#383838\" rx=\"2\" ry=\"2\" style=\"stroke: #383838; stroke-width: 1.0;\"/><ellipse cx=\"414.103\" cy=\"186.5858\" fill=\"#383838\" rx=\"2\" ry=\"2\" style=\"stroke: #383838; stroke-width: 1.0;\"/></a><!--MD5=[066b2d8af59fea80ccdb3d54ad5c1091]\n",
       "link E13 to E5--><a href=\"psysml:28c76814-e954-4c97-b716-40e2f6813c6b\" target=\"_top\" title=\"psysml:28c76814-e954-4c97-b716-40e2f6813c6b\" xlink:actuate=\"onRequest\" xlink:href=\"psysml:28c76814-e954-4c97-b716-40e2f6813c6b\" xlink:show=\"new\" xlink:title=\"psysml:28c76814-e954-4c97-b716-40e2f6813c6b\" xlink:type=\"simple\"><path d=\"M67.3,130.1 C77.72,146.2 92.11,168.44 104.47,187.55 \" fill=\"none\" id=\"E13-&gt;E5\" style=\"stroke: #383838; stroke-width: 1.0;\"/><polygon fill=\"#FFFFFF\" points=\"115.51,204.61,99.3134,192.4581,111.0687,184.8546,115.51,204.61\" style=\"stroke: #383838; stroke-width: 1.0;\"/><ellipse cx=\"97.897\" cy=\"186.5858\" fill=\"#383838\" rx=\"2\" ry=\"2\" style=\"stroke: #383838; stroke-width: 1.0;\"/><ellipse cx=\"106.2937\" cy=\"181.1547\" fill=\"#383838\" rx=\"2\" ry=\"2\" style=\"stroke: #383838; stroke-width: 1.0;\"/></a><!--MD5=[80ae01da9ae22f37f78ad62332d4f6be]\n",
       "@startuml\r\n",
       " skinparam monochrome true\r\n",
       "skinparam classbackgroundcolor white\r\n",
       "skinparam shadowing false\r\n",
       "skinparam wrapWidth 300\r\n",
       "hide circle\r\n",
       "\r\n",
       "package \"CircularImport\" as E1  [[psysml:690cd2ec-4fe7-4d94-89bf-c3d63ed60cd3 ]]  {\r\n",
       "package \"P1\" as E2  [[psysml:54e3154d-4fa4-4c14-a367-edca149a76a1 ]]  {\r\n",
       "comp def \"A\" as E3  <<(T,blue)part def>> [[psysml:281245e6-0723-4878-ac57-c406fd778909 ]] {\r\n",
       "}\r\n",
       "}\r\n",
       "package \"P2\" as E4  [[psysml:581c4a9e-fb07-4d80-ac64-c8c7b70027d2 ]]  {\r\n",
       "comp def \"B\" as E5  <<(T,blue)part def>> [[psysml:57665928-471f-4095-91e2-d839a960cf78 ]] {\r\n",
       "}\r\n",
       "}\r\n",
       "package \"Test1\" as E6  [[psysml:6bb49afc-ac2c-47b7-b48e-5bd0a62b326b ]]  {\r\n",
       "comp usage \"x: A\" as E7  <<(T,blue)part>> [[psysml:d6e39b1a-8a39-4c69-85ab-aa8551443e08 ]] {\r\n",
       "}\r\n",
       "comp usage \"y: B\" as E8  <<(T,blue)part>> [[psysml:ead6e64d-b294-4a2d-a1d8-90d3751f1490 ]] {\r\n",
       "}\r\n",
       "E7 - -:|> E3 [[psysml:84278f38-d400-4655-8657-76a37dd9bb09 ]] \r\n",
       "E8 - -:|> E5 [[psysml:9a62fcce-aa5a-49d2-8cac-0b2f538e5bd0 ]] \r\n",
       "}\r\n",
       "package \"Test2\" as E9  [[psysml:051bf7cb-81b8-4c37-8865-8bb7ea974985 ]]  {\r\n",
       "comp usage \"x: A\" as E10  <<(T,blue)part>> [[psysml:f3cb1211-10b9-411e-bf19-d5722693e1fe ]] {\r\n",
       "}\r\n",
       "comp usage \"y: B\" as E11  <<(T,blue)part>> [[psysml:9cdccab4-e502-4fbe-97eb-9b231d825ffa ]] {\r\n",
       "}\r\n",
       "E10 - -:|> E3 [[psysml:bd7260c7-b55a-4391-86f8-9493bae3bcdc ]] \r\n",
       "E11 - -:|> E5 [[psysml:099d00ce-a154-42ce-865e-6b31b35a0829 ]] \r\n",
       "}\r\n",
       "comp usage \"x: A\" as E12  <<(T,blue)part>> [[psysml:87edab01-bf58-4e9e-abd1-c8b0194f7dca ]] {\r\n",
       "}\r\n",
       "comp usage \"y: B\" as E13  <<(T,blue)part>> [[psysml:20c5387a-1627-4e14-8312-6f39b31ab3f7 ]] {\r\n",
       "}\r\n",
       "E12 - -:|> E3 [[psysml:2e0d72ae-9b36-4ac2-af7e-1d21d87eecf3 ]] \r\n",
       "E13 - -:|> E5 [[psysml:28c76814-e954-4c97-b716-40e2f6813c6b ]] \r\n",
       "}\r\n",
       "@enduml\r\n",
       "\n",
       "PlantUML version 1.2020.13(Sat Jun 13 12:26:38 UTC 2020)\n",
       "(EPL source distribution)\n",
       "Java Runtime: OpenJDK Runtime Environment\n",
       "JVM: OpenJDK 64-Bit Server VM\n",
       "Default Encoding: UTF-8\n",
       "Language: en\n",
       "Country: null\n",
       "--></g></svg>"
      ]
     },
     "execution_count": 8,
     "metadata": {},
     "output_type": "execute_result"
    }
   ],
   "source": [
    "%viz --style=\"COMPTREE\" --view=\"MIXED\" \"CircularImport\""
   ]
  },
  {
   "cell_type": "code",
   "execution_count": 9,
   "id": "0054e0f3",
   "metadata": {
    "execution": {
     "iopub.execute_input": "2021-04-20T06:57:51.932041Z",
     "iopub.status.busy": "2021-04-20T06:57:51.930892Z",
     "iopub.status.idle": "2021-04-20T06:57:51.995970Z",
     "shell.execute_reply": "2021-04-20T06:57:51.994893Z"
    }
   },
   "outputs": [
    {
     "data": {
      "image/svg+xml": [
       "<?xml version=\"1.0\" encoding=\"UTF-8\" standalone=\"no\"?><svg xmlns=\"http://www.w3.org/2000/svg\" xmlns:xlink=\"http://www.w3.org/1999/xlink\" contentScriptType=\"application/ecmascript\" contentStyleType=\"text/css\" height=\"303px\" preserveAspectRatio=\"none\" style=\"width:518px;height:303px;\" version=\"1.1\" viewBox=\"0 0 518 303\" width=\"518px\" zoomAndPan=\"magnify\"><defs/><g><!--MD5=[fbc87193dbaf4d95561dea2c320d4a47]\n",
       "cluster E1--><a href=\"psysml:690cd2ec-4fe7-4d94-89bf-c3d63ed60cd3\" target=\"_top\" title=\"psysml:690cd2ec-4fe7-4d94-89bf-c3d63ed60cd3\" xlink:actuate=\"onRequest\" xlink:href=\"psysml:690cd2ec-4fe7-4d94-89bf-c3d63ed60cd3\" xlink:show=\"new\" xlink:title=\"psysml:690cd2ec-4fe7-4d94-89bf-c3d63ed60cd3\" xlink:type=\"simple\"><polygon fill=\"#FFFFFF\" points=\"16,6,134,6,141,28.2969,496,28.2969,496,291,16,291,16,6\" style=\"stroke: #000000; stroke-width: 1.5;\"/><line style=\"stroke: #000000; stroke-width: 1.5;\" x1=\"16\" x2=\"141\" y1=\"28.2969\" y2=\"28.2969\"/><text fill=\"#000000\" font-family=\"sans-serif\" font-size=\"14\" font-weight=\"bold\" lengthAdjust=\"spacingAndGlyphs\" textLength=\"112\" x=\"20\" y=\"20.9951\">CircularImport</text></a><!--MD5=[e4f7fae6ed58524ba242bb0b0d3be6b7]\n",
       "cluster E2--><a href=\"psysml:54e3154d-4fa4-4c14-a367-edca149a76a1\" target=\"_top\" title=\"psysml:54e3154d-4fa4-4c14-a367-edca149a76a1\" xlink:actuate=\"onRequest\" xlink:href=\"psysml:54e3154d-4fa4-4c14-a367-edca149a76a1\" xlink:show=\"new\" xlink:title=\"psysml:54e3154d-4fa4-4c14-a367-edca149a76a1\" xlink:type=\"simple\"><polygon fill=\"#FFFFFF\" points=\"333,170,359,170,366,192.2969,431,192.2969,431,267,333,267,333,170\" style=\"stroke: #000000; stroke-width: 1.5;\"/><line style=\"stroke: #000000; stroke-width: 1.5;\" x1=\"333\" x2=\"366\" y1=\"192.2969\" y2=\"192.2969\"/><text fill=\"#000000\" font-family=\"sans-serif\" font-size=\"14\" font-weight=\"bold\" lengthAdjust=\"spacingAndGlyphs\" textLength=\"20\" x=\"337\" y=\"184.9951\">P1</text></a><!--MD5=[f6df4d0ebaf0b5dfb2ced0ae5af7c670]\n",
       "cluster E4--><a href=\"psysml:581c4a9e-fb07-4d80-ac64-c8c7b70027d2\" target=\"_top\" title=\"psysml:581c4a9e-fb07-4d80-ac64-c8c7b70027d2\" xlink:actuate=\"onRequest\" xlink:href=\"psysml:581c4a9e-fb07-4d80-ac64-c8c7b70027d2\" xlink:show=\"new\" xlink:title=\"psysml:581c4a9e-fb07-4d80-ac64-c8c7b70027d2\" xlink:type=\"simple\"><polygon fill=\"#FFFFFF\" points=\"81,170,107,170,114,192.2969,179,192.2969,179,267,81,267,81,170\" style=\"stroke: #000000; stroke-width: 1.5;\"/><line style=\"stroke: #000000; stroke-width: 1.5;\" x1=\"81\" x2=\"114\" y1=\"192.2969\" y2=\"192.2969\"/><text fill=\"#000000\" font-family=\"sans-serif\" font-size=\"14\" font-weight=\"bold\" lengthAdjust=\"spacingAndGlyphs\" textLength=\"20\" x=\"85\" y=\"184.9951\">P2</text></a><!--MD5=[14e3b0961a2654348d326746436168a1]\n",
       "cluster E6--><a href=\"psysml:6bb49afc-ac2c-47b7-b48e-5bd0a62b326b\" target=\"_top\" title=\"psysml:6bb49afc-ac2c-47b7-b48e-5bd0a62b326b\" xlink:actuate=\"onRequest\" xlink:href=\"psysml:6bb49afc-ac2c-47b7-b48e-5bd0a62b326b\" xlink:show=\"new\" xlink:title=\"psysml:6bb49afc-ac2c-47b7-b48e-5bd0a62b326b\" xlink:type=\"simple\"><polygon fill=\"#FFFFFF\" points=\"268,49,319,49,326,71.2969,419,71.2969,419,146,268,146,268,49\" style=\"stroke: #000000; stroke-width: 1.5;\"/><line style=\"stroke: #000000; stroke-width: 1.5;\" x1=\"268\" x2=\"326\" y1=\"71.2969\" y2=\"71.2969\"/><text fill=\"#000000\" font-family=\"sans-serif\" font-size=\"14\" font-weight=\"bold\" lengthAdjust=\"spacingAndGlyphs\" textLength=\"45\" x=\"272\" y=\"63.9951\">Test1</text></a><!--MD5=[7f149f147074ac12df2cb0a7728a5fb0]\n",
       "cluster E9--><a href=\"psysml:051bf7cb-81b8-4c37-8865-8bb7ea974985\" target=\"_top\" title=\"psysml:051bf7cb-81b8-4c37-8865-8bb7ea974985\" xlink:actuate=\"onRequest\" xlink:href=\"psysml:051bf7cb-81b8-4c37-8865-8bb7ea974985\" xlink:show=\"new\" xlink:title=\"psysml:051bf7cb-81b8-4c37-8865-8bb7ea974985\" xlink:type=\"simple\"><polygon fill=\"#FFFFFF\" points=\"93,49,144,49,151,71.2969,244,71.2969,244,146,93,146,93,49\" style=\"stroke: #000000; stroke-width: 1.5;\"/><line style=\"stroke: #000000; stroke-width: 1.5;\" x1=\"93\" x2=\"151\" y1=\"71.2969\" y2=\"71.2969\"/><text fill=\"#000000\" font-family=\"sans-serif\" font-size=\"14\" font-weight=\"bold\" lengthAdjust=\"spacingAndGlyphs\" textLength=\"45\" x=\"97\" y=\"63.9951\">Test2</text></a><!--MD5=[49a0ec8f00dab7302a31f22d0f0fe584]\n",
       "class E12--><a href=\"psysml:87edab01-bf58-4e9e-abd1-c8b0194f7dca\" target=\"_top\" title=\"psysml:87edab01-bf58-4e9e-abd1-c8b0194f7dca\" xlink:actuate=\"onRequest\" xlink:href=\"psysml:87edab01-bf58-4e9e-abd1-c8b0194f7dca\" xlink:show=\"new\" xlink:title=\"psysml:87edab01-bf58-4e9e-abd1-c8b0194f7dca\" xlink:type=\"simple\"><rect fill=\"#FFFFFF\" height=\"45.9375\" id=\"E12\" rx=\"10\" ry=\"10\" style=\"stroke: #383838; stroke-width: 1.5;\" width=\"42\" x=\"438\" y=\"84\"/><text fill=\"#000000\" font-family=\"sans-serif\" font-size=\"12\" font-style=\"italic\" lengthAdjust=\"spacingAndGlyphs\" textLength=\"40\" x=\"439\" y=\"100.1387\">«part»</text><text fill=\"#000000\" font-family=\"sans-serif\" font-size=\"12\" lengthAdjust=\"spacingAndGlyphs\" textLength=\"22\" x=\"448\" y=\"114.1074\">x: A</text><line style=\"stroke: #383838; stroke-width: 1.5;\" x1=\"439\" x2=\"479\" y1=\"121.9375\" y2=\"121.9375\"/></a><!--MD5=[ee3c913d1a06f366521f9ef512b67efe]\n",
       "class E13--><a href=\"psysml:20c5387a-1627-4e14-8312-6f39b31ab3f7\" target=\"_top\" title=\"psysml:20c5387a-1627-4e14-8312-6f39b31ab3f7\" xlink:actuate=\"onRequest\" xlink:href=\"psysml:20c5387a-1627-4e14-8312-6f39b31ab3f7\" xlink:show=\"new\" xlink:title=\"psysml:20c5387a-1627-4e14-8312-6f39b31ab3f7\" xlink:type=\"simple\"><rect fill=\"#FFFFFF\" height=\"45.9375\" id=\"E13\" rx=\"10\" ry=\"10\" style=\"stroke: #383838; stroke-width: 1.5;\" width=\"42\" x=\"32\" y=\"84\"/><text fill=\"#000000\" font-family=\"sans-serif\" font-size=\"12\" font-style=\"italic\" lengthAdjust=\"spacingAndGlyphs\" textLength=\"40\" x=\"33\" y=\"100.1387\">«part»</text><text fill=\"#000000\" font-family=\"sans-serif\" font-size=\"12\" lengthAdjust=\"spacingAndGlyphs\" textLength=\"22\" x=\"42\" y=\"114.1074\">y: B</text><line style=\"stroke: #383838; stroke-width: 1.5;\" x1=\"33\" x2=\"73\" y1=\"121.9375\" y2=\"121.9375\"/></a><!--MD5=[09b614a08d8cba4a07c9adeb5e0fee81]\n",
       "class E3--><a href=\"psysml:281245e6-0723-4878-ac57-c406fd778909\" target=\"_top\" title=\"psysml:281245e6-0723-4878-ac57-c406fd778909\" xlink:actuate=\"onRequest\" xlink:href=\"psysml:281245e6-0723-4878-ac57-c406fd778909\" xlink:show=\"new\" xlink:title=\"psysml:281245e6-0723-4878-ac57-c406fd778909\" xlink:type=\"simple\"><rect fill=\"#FFFFFF\" height=\"45.9375\" id=\"E3\" style=\"stroke: #383838; stroke-width: 1.5;\" width=\"66\" x=\"349\" y=\"205\"/><text fill=\"#000000\" font-family=\"sans-serif\" font-size=\"12\" font-style=\"italic\" lengthAdjust=\"spacingAndGlyphs\" textLength=\"64\" x=\"350\" y=\"221.1387\">«part def»</text><text fill=\"#000000\" font-family=\"sans-serif\" font-size=\"12\" lengthAdjust=\"spacingAndGlyphs\" textLength=\"8\" x=\"378\" y=\"235.1074\">A</text><line style=\"stroke: #383838; stroke-width: 1.5;\" x1=\"350\" x2=\"414\" y1=\"242.9375\" y2=\"242.9375\"/></a><!--MD5=[270fce915f116d4de14055a7c1d9a0f3]\n",
       "class E5--><a href=\"psysml:57665928-471f-4095-91e2-d839a960cf78\" target=\"_top\" title=\"psysml:57665928-471f-4095-91e2-d839a960cf78\" xlink:actuate=\"onRequest\" xlink:href=\"psysml:57665928-471f-4095-91e2-d839a960cf78\" xlink:show=\"new\" xlink:title=\"psysml:57665928-471f-4095-91e2-d839a960cf78\" xlink:type=\"simple\"><rect fill=\"#FFFFFF\" height=\"45.9375\" id=\"E5\" style=\"stroke: #383838; stroke-width: 1.5;\" width=\"66\" x=\"97\" y=\"205\"/><text fill=\"#000000\" font-family=\"sans-serif\" font-size=\"12\" font-style=\"italic\" lengthAdjust=\"spacingAndGlyphs\" textLength=\"64\" x=\"98\" y=\"221.1387\">«part def»</text><text fill=\"#000000\" font-family=\"sans-serif\" font-size=\"12\" lengthAdjust=\"spacingAndGlyphs\" textLength=\"8\" x=\"126\" y=\"235.1074\">B</text><line style=\"stroke: #383838; stroke-width: 1.5;\" x1=\"98\" x2=\"162\" y1=\"242.9375\" y2=\"242.9375\"/></a><!--MD5=[2156ba9850f5573cc1fc38a6a4b2f02b]\n",
       "class E7--><a href=\"psysml:d6e39b1a-8a39-4c69-85ab-aa8551443e08\" target=\"_top\" title=\"psysml:d6e39b1a-8a39-4c69-85ab-aa8551443e08\" xlink:actuate=\"onRequest\" xlink:href=\"psysml:d6e39b1a-8a39-4c69-85ab-aa8551443e08\" xlink:show=\"new\" xlink:title=\"psysml:d6e39b1a-8a39-4c69-85ab-aa8551443e08\" xlink:type=\"simple\"><rect fill=\"#FFFFFF\" height=\"45.9375\" id=\"E7\" rx=\"10\" ry=\"10\" style=\"stroke: #383838; stroke-width: 1.5;\" width=\"42\" x=\"361\" y=\"84\"/><text fill=\"#000000\" font-family=\"sans-serif\" font-size=\"12\" font-style=\"italic\" lengthAdjust=\"spacingAndGlyphs\" textLength=\"40\" x=\"362\" y=\"100.1387\">«part»</text><text fill=\"#000000\" font-family=\"sans-serif\" font-size=\"12\" lengthAdjust=\"spacingAndGlyphs\" textLength=\"22\" x=\"371\" y=\"114.1074\">x: A</text><line style=\"stroke: #383838; stroke-width: 1.5;\" x1=\"362\" x2=\"402\" y1=\"121.9375\" y2=\"121.9375\"/></a><!--MD5=[b9389687b975829384b498ac4b7476b2]\n",
       "class E8--><a href=\"psysml:ead6e64d-b294-4a2d-a1d8-90d3751f1490\" target=\"_top\" title=\"psysml:ead6e64d-b294-4a2d-a1d8-90d3751f1490\" xlink:actuate=\"onRequest\" xlink:href=\"psysml:ead6e64d-b294-4a2d-a1d8-90d3751f1490\" xlink:show=\"new\" xlink:title=\"psysml:ead6e64d-b294-4a2d-a1d8-90d3751f1490\" xlink:type=\"simple\"><rect fill=\"#FFFFFF\" height=\"45.9375\" id=\"E8\" rx=\"10\" ry=\"10\" style=\"stroke: #383838; stroke-width: 1.5;\" width=\"42\" x=\"284\" y=\"84\"/><text fill=\"#000000\" font-family=\"sans-serif\" font-size=\"12\" font-style=\"italic\" lengthAdjust=\"spacingAndGlyphs\" textLength=\"40\" x=\"285\" y=\"100.1387\">«part»</text><text fill=\"#000000\" font-family=\"sans-serif\" font-size=\"12\" lengthAdjust=\"spacingAndGlyphs\" textLength=\"22\" x=\"294\" y=\"114.1074\">y: B</text><line style=\"stroke: #383838; stroke-width: 1.5;\" x1=\"285\" x2=\"325\" y1=\"121.9375\" y2=\"121.9375\"/></a><!--MD5=[96f4274e9e20536e775497830990834d]\n",
       "class E10--><a href=\"psysml:f3cb1211-10b9-411e-bf19-d5722693e1fe\" target=\"_top\" title=\"psysml:f3cb1211-10b9-411e-bf19-d5722693e1fe\" xlink:actuate=\"onRequest\" xlink:href=\"psysml:f3cb1211-10b9-411e-bf19-d5722693e1fe\" xlink:show=\"new\" xlink:title=\"psysml:f3cb1211-10b9-411e-bf19-d5722693e1fe\" xlink:type=\"simple\"><rect fill=\"#FFFFFF\" height=\"45.9375\" id=\"E10\" rx=\"10\" ry=\"10\" style=\"stroke: #383838; stroke-width: 1.5;\" width=\"42\" x=\"186\" y=\"84\"/><text fill=\"#000000\" font-family=\"sans-serif\" font-size=\"12\" font-style=\"italic\" lengthAdjust=\"spacingAndGlyphs\" textLength=\"40\" x=\"187\" y=\"100.1387\">«part»</text><text fill=\"#000000\" font-family=\"sans-serif\" font-size=\"12\" lengthAdjust=\"spacingAndGlyphs\" textLength=\"22\" x=\"196\" y=\"114.1074\">x: A</text><line style=\"stroke: #383838; stroke-width: 1.5;\" x1=\"187\" x2=\"227\" y1=\"121.9375\" y2=\"121.9375\"/></a><!--MD5=[1dd1bfd58a279cf63c5f349dbc8fc6a1]\n",
       "class E11--><a href=\"psysml:9cdccab4-e502-4fbe-97eb-9b231d825ffa\" target=\"_top\" title=\"psysml:9cdccab4-e502-4fbe-97eb-9b231d825ffa\" xlink:actuate=\"onRequest\" xlink:href=\"psysml:9cdccab4-e502-4fbe-97eb-9b231d825ffa\" xlink:show=\"new\" xlink:title=\"psysml:9cdccab4-e502-4fbe-97eb-9b231d825ffa\" xlink:type=\"simple\"><rect fill=\"#FFFFFF\" height=\"45.9375\" id=\"E11\" rx=\"10\" ry=\"10\" style=\"stroke: #383838; stroke-width: 1.5;\" width=\"42\" x=\"109\" y=\"84\"/><text fill=\"#000000\" font-family=\"sans-serif\" font-size=\"12\" font-style=\"italic\" lengthAdjust=\"spacingAndGlyphs\" textLength=\"40\" x=\"110\" y=\"100.1387\">«part»</text><text fill=\"#000000\" font-family=\"sans-serif\" font-size=\"12\" lengthAdjust=\"spacingAndGlyphs\" textLength=\"22\" x=\"119\" y=\"114.1074\">y: B</text><line style=\"stroke: #383838; stroke-width: 1.5;\" x1=\"110\" x2=\"150\" y1=\"121.9375\" y2=\"121.9375\"/></a><!--MD5=[14ccda38c055a5c0da953d572bc50960]\n",
       "link E7 to E3--><a href=\"psysml:84278f38-d400-4655-8657-76a37dd9bb09\" target=\"_top\" title=\"psysml:84278f38-d400-4655-8657-76a37dd9bb09\" xlink:actuate=\"onRequest\" xlink:href=\"psysml:84278f38-d400-4655-8657-76a37dd9bb09\" xlink:show=\"new\" xlink:title=\"psysml:84278f38-d400-4655-8657-76a37dd9bb09\" xlink:type=\"simple\"><path d=\"M382,130.1 C382,145.37 382,166.16 382,184.57 \" fill=\"none\" id=\"E7-&gt;E3\" style=\"stroke: #383838; stroke-width: 1.0;\"/><polygon fill=\"#FFFFFF\" points=\"382,204.61,375,185.61,389,185.61,382,204.61\" style=\"stroke: #383838; stroke-width: 1.0;\"/><ellipse cx=\"377\" cy=\"179.91\" fill=\"#383838\" rx=\"2\" ry=\"2\" style=\"stroke: #383838; stroke-width: 1.0;\"/><ellipse cx=\"387\" cy=\"179.91\" fill=\"#383838\" rx=\"2\" ry=\"2\" style=\"stroke: #383838; stroke-width: 1.0;\"/></a><!--MD5=[1ccb2481ffa92f8d51a74ee30c51832a]\n",
       "link E8 to E5--><a href=\"psysml:9a62fcce-aa5a-49d2-8cac-0b2f538e5bd0\" target=\"_top\" title=\"psysml:9a62fcce-aa5a-49d2-8cac-0b2f538e5bd0\" xlink:actuate=\"onRequest\" xlink:href=\"psysml:9a62fcce-aa5a-49d2-8cac-0b2f538e5bd0\" xlink:show=\"new\" xlink:title=\"psysml:9a62fcce-aa5a-49d2-8cac-0b2f538e5bd0\" xlink:type=\"simple\"><path d=\"M283.67,124.09 C266.07,137.35 244,154 244,154 C244,154 210.8,175.26 180.23,194.83 \" fill=\"none\" id=\"E8-&gt;E5\" style=\"stroke: #383838; stroke-width: 1.0;\"/><polygon fill=\"#FFFFFF\" points=\"163.28,205.69,175.5055,189.5488,183.0554,201.3386,163.28,205.69\" style=\"stroke: #383838; stroke-width: 1.0;\"/><ellipse cx=\"181.3842\" cy=\"188.1592\" fill=\"#383838\" rx=\"2\" ry=\"2\" style=\"stroke: #383838; stroke-width: 1.0;\"/><ellipse cx=\"186.777\" cy=\"196.5805\" fill=\"#383838\" rx=\"2\" ry=\"2\" style=\"stroke: #383838; stroke-width: 1.0;\"/></a><!--MD5=[feeac5eb423634930294aa81f2d25a4c]\n",
       "link E10 to E3--><a href=\"psysml:bd7260c7-b55a-4391-86f8-9493bae3bcdc\" target=\"_top\" title=\"psysml:bd7260c7-b55a-4391-86f8-9493bae3bcdc\" xlink:actuate=\"onRequest\" xlink:href=\"psysml:bd7260c7-b55a-4391-86f8-9493bae3bcdc\" xlink:show=\"new\" xlink:title=\"psysml:bd7260c7-b55a-4391-86f8-9493bae3bcdc\" xlink:type=\"simple\"><path d=\"M228.33,124.09 C245.93,137.35 268,154 268,154 C268,154 301.2,175.26 331.77,194.83 \" fill=\"none\" id=\"E10-&gt;E3\" style=\"stroke: #383838; stroke-width: 1.0;\"/><polygon fill=\"#FFFFFF\" points=\"348.72,205.69,328.9446,201.3386,336.4945,189.5488,348.72,205.69\" style=\"stroke: #383838; stroke-width: 1.0;\"/><ellipse cx=\"325.223\" cy=\"196.5805\" fill=\"#383838\" rx=\"2\" ry=\"2\" style=\"stroke: #383838; stroke-width: 1.0;\"/><ellipse cx=\"330.6158\" cy=\"188.1592\" fill=\"#383838\" rx=\"2\" ry=\"2\" style=\"stroke: #383838; stroke-width: 1.0;\"/></a><!--MD5=[07b77f6f309248d16187045709d1c26e]\n",
       "link E11 to E5--><a href=\"psysml:099d00ce-a154-42ce-865e-6b31b35a0829\" target=\"_top\" title=\"psysml:099d00ce-a154-42ce-865e-6b31b35a0829\" xlink:actuate=\"onRequest\" xlink:href=\"psysml:099d00ce-a154-42ce-865e-6b31b35a0829\" xlink:show=\"new\" xlink:title=\"psysml:099d00ce-a154-42ce-865e-6b31b35a0829\" xlink:type=\"simple\"><path d=\"M130,130.1 C130,145.37 130,166.16 130,184.57 \" fill=\"none\" id=\"E11-&gt;E5\" style=\"stroke: #383838; stroke-width: 1.0;\"/><polygon fill=\"#FFFFFF\" points=\"130,204.61,123,185.61,137,185.61,130,204.61\" style=\"stroke: #383838; stroke-width: 1.0;\"/><ellipse cx=\"125\" cy=\"179.91\" fill=\"#383838\" rx=\"2\" ry=\"2\" style=\"stroke: #383838; stroke-width: 1.0;\"/><ellipse cx=\"135\" cy=\"179.91\" fill=\"#383838\" rx=\"2\" ry=\"2\" style=\"stroke: #383838; stroke-width: 1.0;\"/></a><!--MD5=[39f41a0e550fb3d73b4d8135617e30a2]\n",
       "link E12 to E3--><a href=\"psysml:2e0d72ae-9b36-4ac2-af7e-1d21d87eecf3\" target=\"_top\" title=\"psysml:2e0d72ae-9b36-4ac2-af7e-1d21d87eecf3\" xlink:actuate=\"onRequest\" xlink:href=\"psysml:2e0d72ae-9b36-4ac2-af7e-1d21d87eecf3\" xlink:show=\"new\" xlink:title=\"psysml:2e0d72ae-9b36-4ac2-af7e-1d21d87eecf3\" xlink:type=\"simple\"><path d=\"M444.7,130.1 C434.28,146.2 419.89,168.44 407.53,187.55 \" fill=\"none\" id=\"E12-&gt;E3\" style=\"stroke: #383838; stroke-width: 1.0;\"/><polygon fill=\"#FFFFFF\" points=\"396.49,204.61,400.9313,184.8546,412.6866,192.4581,396.49,204.61\" style=\"stroke: #383838; stroke-width: 1.0;\"/><ellipse cx=\"405.7063\" cy=\"181.1547\" fill=\"#383838\" rx=\"2\" ry=\"2\" style=\"stroke: #383838; stroke-width: 1.0;\"/><ellipse cx=\"414.103\" cy=\"186.5858\" fill=\"#383838\" rx=\"2\" ry=\"2\" style=\"stroke: #383838; stroke-width: 1.0;\"/></a><!--MD5=[066b2d8af59fea80ccdb3d54ad5c1091]\n",
       "link E13 to E5--><a href=\"psysml:28c76814-e954-4c97-b716-40e2f6813c6b\" target=\"_top\" title=\"psysml:28c76814-e954-4c97-b716-40e2f6813c6b\" xlink:actuate=\"onRequest\" xlink:href=\"psysml:28c76814-e954-4c97-b716-40e2f6813c6b\" xlink:show=\"new\" xlink:title=\"psysml:28c76814-e954-4c97-b716-40e2f6813c6b\" xlink:type=\"simple\"><path d=\"M67.3,130.1 C77.72,146.2 92.11,168.44 104.47,187.55 \" fill=\"none\" id=\"E13-&gt;E5\" style=\"stroke: #383838; stroke-width: 1.0;\"/><polygon fill=\"#FFFFFF\" points=\"115.51,204.61,99.3134,192.4581,111.0687,184.8546,115.51,204.61\" style=\"stroke: #383838; stroke-width: 1.0;\"/><ellipse cx=\"97.897\" cy=\"186.5858\" fill=\"#383838\" rx=\"2\" ry=\"2\" style=\"stroke: #383838; stroke-width: 1.0;\"/><ellipse cx=\"106.2937\" cy=\"181.1547\" fill=\"#383838\" rx=\"2\" ry=\"2\" style=\"stroke: #383838; stroke-width: 1.0;\"/></a><!--MD5=[6467572ff73b4768d6bc5c363ec47def]\n",
       "@startuml\r\n",
       "skinparam linetype polyline\r\n",
       "skinparam monochrome true\r\n",
       "skinparam classbackgroundcolor white\r\n",
       "skinparam shadowing false\r\n",
       "skinparam wrapWidth 300\r\n",
       "hide circle\r\n",
       "\r\n",
       "package \"CircularImport\" as E1  [[psysml:690cd2ec-4fe7-4d94-89bf-c3d63ed60cd3 ]]  {\r\n",
       "package \"P1\" as E2  [[psysml:54e3154d-4fa4-4c14-a367-edca149a76a1 ]]  {\r\n",
       "comp def \"A\" as E3  <<(T,blue)part def>> [[psysml:281245e6-0723-4878-ac57-c406fd778909 ]] {\r\n",
       "}\r\n",
       "}\r\n",
       "package \"P2\" as E4  [[psysml:581c4a9e-fb07-4d80-ac64-c8c7b70027d2 ]]  {\r\n",
       "comp def \"B\" as E5  <<(T,blue)part def>> [[psysml:57665928-471f-4095-91e2-d839a960cf78 ]] {\r\n",
       "}\r\n",
       "}\r\n",
       "package \"Test1\" as E6  [[psysml:6bb49afc-ac2c-47b7-b48e-5bd0a62b326b ]]  {\r\n",
       "comp usage \"x: A\" as E7  <<(T,blue)part>> [[psysml:d6e39b1a-8a39-4c69-85ab-aa8551443e08 ]] {\r\n",
       "}\r\n",
       "comp usage \"y: B\" as E8  <<(T,blue)part>> [[psysml:ead6e64d-b294-4a2d-a1d8-90d3751f1490 ]] {\r\n",
       "}\r\n",
       "E7 - -:|> E3 [[psysml:84278f38-d400-4655-8657-76a37dd9bb09 ]] \r\n",
       "E8 - -:|> E5 [[psysml:9a62fcce-aa5a-49d2-8cac-0b2f538e5bd0 ]] \r\n",
       "}\r\n",
       "package \"Test2\" as E9  [[psysml:051bf7cb-81b8-4c37-8865-8bb7ea974985 ]]  {\r\n",
       "comp usage \"x: A\" as E10  <<(T,blue)part>> [[psysml:f3cb1211-10b9-411e-bf19-d5722693e1fe ]] {\r\n",
       "}\r\n",
       "comp usage \"y: B\" as E11  <<(T,blue)part>> [[psysml:9cdccab4-e502-4fbe-97eb-9b231d825ffa ]] {\r\n",
       "}\r\n",
       "E10 - -:|> E3 [[psysml:bd7260c7-b55a-4391-86f8-9493bae3bcdc ]] \r\n",
       "E11 - -:|> E5 [[psysml:099d00ce-a154-42ce-865e-6b31b35a0829 ]] \r\n",
       "}\r\n",
       "comp usage \"x: A\" as E12  <<(T,blue)part>> [[psysml:87edab01-bf58-4e9e-abd1-c8b0194f7dca ]] {\r\n",
       "}\r\n",
       "comp usage \"y: B\" as E13  <<(T,blue)part>> [[psysml:20c5387a-1627-4e14-8312-6f39b31ab3f7 ]] {\r\n",
       "}\r\n",
       "E12 - -:|> E3 [[psysml:2e0d72ae-9b36-4ac2-af7e-1d21d87eecf3 ]] \r\n",
       "E13 - -:|> E5 [[psysml:28c76814-e954-4c97-b716-40e2f6813c6b ]] \r\n",
       "}\r\n",
       "@enduml\r\n",
       "\n",
       "PlantUML version 1.2020.13(Sat Jun 13 12:26:38 UTC 2020)\n",
       "(EPL source distribution)\n",
       "Java Runtime: OpenJDK Runtime Environment\n",
       "JVM: OpenJDK 64-Bit Server VM\n",
       "Default Encoding: UTF-8\n",
       "Language: en\n",
       "Country: null\n",
       "--></g></svg>"
      ]
     },
     "execution_count": 9,
     "metadata": {},
     "output_type": "execute_result"
    }
   ],
   "source": [
    "%viz --style=\"POLYLINE\" --view=\"Default\" \"CircularImport\""
   ]
  },
  {
   "cell_type": "code",
   "execution_count": 10,
   "id": "1d28805e",
   "metadata": {
    "execution": {
     "iopub.execute_input": "2021-04-20T06:57:52.048096Z",
     "iopub.status.busy": "2021-04-20T06:57:52.047123Z",
     "iopub.status.idle": "2021-04-20T06:57:52.161176Z",
     "shell.execute_reply": "2021-04-20T06:57:52.160823Z"
    }
   },
   "outputs": [
    {
     "data": {
      "image/svg+xml": [
       "<?xml version=\"1.0\" encoding=\"UTF-8\" standalone=\"no\"?><svg xmlns=\"http://www.w3.org/2000/svg\" xmlns:xlink=\"http://www.w3.org/1999/xlink\" contentScriptType=\"application/ecmascript\" contentStyleType=\"text/css\" height=\"303px\" preserveAspectRatio=\"none\" style=\"width:518px;height:303px;\" version=\"1.1\" viewBox=\"0 0 518 303\" width=\"518px\" zoomAndPan=\"magnify\"><defs/><g><!--MD5=[fbc87193dbaf4d95561dea2c320d4a47]\n",
       "cluster E1--><a href=\"psysml:690cd2ec-4fe7-4d94-89bf-c3d63ed60cd3\" target=\"_top\" title=\"psysml:690cd2ec-4fe7-4d94-89bf-c3d63ed60cd3\" xlink:actuate=\"onRequest\" xlink:href=\"psysml:690cd2ec-4fe7-4d94-89bf-c3d63ed60cd3\" xlink:show=\"new\" xlink:title=\"psysml:690cd2ec-4fe7-4d94-89bf-c3d63ed60cd3\" xlink:type=\"simple\"><polygon fill=\"#FFFFFF\" points=\"16,6,134,6,141,28.2969,496,28.2969,496,291,16,291,16,6\" style=\"stroke: #000000; stroke-width: 1.5;\"/><line style=\"stroke: #000000; stroke-width: 1.5;\" x1=\"16\" x2=\"141\" y1=\"28.2969\" y2=\"28.2969\"/><text fill=\"#000000\" font-family=\"sans-serif\" font-size=\"14\" font-weight=\"bold\" lengthAdjust=\"spacingAndGlyphs\" textLength=\"112\" x=\"20\" y=\"20.9951\">CircularImport</text></a><!--MD5=[e4f7fae6ed58524ba242bb0b0d3be6b7]\n",
       "cluster E2--><a href=\"psysml:54e3154d-4fa4-4c14-a367-edca149a76a1\" target=\"_top\" title=\"psysml:54e3154d-4fa4-4c14-a367-edca149a76a1\" xlink:actuate=\"onRequest\" xlink:href=\"psysml:54e3154d-4fa4-4c14-a367-edca149a76a1\" xlink:show=\"new\" xlink:title=\"psysml:54e3154d-4fa4-4c14-a367-edca149a76a1\" xlink:type=\"simple\"><polygon fill=\"#FFFFFF\" points=\"333,170,359,170,366,192.2969,431,192.2969,431,267,333,267,333,170\" style=\"stroke: #000000; stroke-width: 1.5;\"/><line style=\"stroke: #000000; stroke-width: 1.5;\" x1=\"333\" x2=\"366\" y1=\"192.2969\" y2=\"192.2969\"/><text fill=\"#000000\" font-family=\"sans-serif\" font-size=\"14\" font-weight=\"bold\" lengthAdjust=\"spacingAndGlyphs\" textLength=\"20\" x=\"337\" y=\"184.9951\">P1</text></a><!--MD5=[f6df4d0ebaf0b5dfb2ced0ae5af7c670]\n",
       "cluster E4--><a href=\"psysml:581c4a9e-fb07-4d80-ac64-c8c7b70027d2\" target=\"_top\" title=\"psysml:581c4a9e-fb07-4d80-ac64-c8c7b70027d2\" xlink:actuate=\"onRequest\" xlink:href=\"psysml:581c4a9e-fb07-4d80-ac64-c8c7b70027d2\" xlink:show=\"new\" xlink:title=\"psysml:581c4a9e-fb07-4d80-ac64-c8c7b70027d2\" xlink:type=\"simple\"><polygon fill=\"#FFFFFF\" points=\"81,170,107,170,114,192.2969,179,192.2969,179,267,81,267,81,170\" style=\"stroke: #000000; stroke-width: 1.5;\"/><line style=\"stroke: #000000; stroke-width: 1.5;\" x1=\"81\" x2=\"114\" y1=\"192.2969\" y2=\"192.2969\"/><text fill=\"#000000\" font-family=\"sans-serif\" font-size=\"14\" font-weight=\"bold\" lengthAdjust=\"spacingAndGlyphs\" textLength=\"20\" x=\"85\" y=\"184.9951\">P2</text></a><!--MD5=[14e3b0961a2654348d326746436168a1]\n",
       "cluster E6--><a href=\"psysml:6bb49afc-ac2c-47b7-b48e-5bd0a62b326b\" target=\"_top\" title=\"psysml:6bb49afc-ac2c-47b7-b48e-5bd0a62b326b\" xlink:actuate=\"onRequest\" xlink:href=\"psysml:6bb49afc-ac2c-47b7-b48e-5bd0a62b326b\" xlink:show=\"new\" xlink:title=\"psysml:6bb49afc-ac2c-47b7-b48e-5bd0a62b326b\" xlink:type=\"simple\"><polygon fill=\"#FFFFFF\" points=\"268,49,319,49,326,71.2969,419,71.2969,419,146,268,146,268,49\" style=\"stroke: #000000; stroke-width: 1.5;\"/><line style=\"stroke: #000000; stroke-width: 1.5;\" x1=\"268\" x2=\"326\" y1=\"71.2969\" y2=\"71.2969\"/><text fill=\"#000000\" font-family=\"sans-serif\" font-size=\"14\" font-weight=\"bold\" lengthAdjust=\"spacingAndGlyphs\" textLength=\"45\" x=\"272\" y=\"63.9951\">Test1</text></a><!--MD5=[7f149f147074ac12df2cb0a7728a5fb0]\n",
       "cluster E9--><a href=\"psysml:051bf7cb-81b8-4c37-8865-8bb7ea974985\" target=\"_top\" title=\"psysml:051bf7cb-81b8-4c37-8865-8bb7ea974985\" xlink:actuate=\"onRequest\" xlink:href=\"psysml:051bf7cb-81b8-4c37-8865-8bb7ea974985\" xlink:show=\"new\" xlink:title=\"psysml:051bf7cb-81b8-4c37-8865-8bb7ea974985\" xlink:type=\"simple\"><polygon fill=\"#FFFFFF\" points=\"93,49,144,49,151,71.2969,244,71.2969,244,146,93,146,93,49\" style=\"stroke: #000000; stroke-width: 1.5;\"/><line style=\"stroke: #000000; stroke-width: 1.5;\" x1=\"93\" x2=\"151\" y1=\"71.2969\" y2=\"71.2969\"/><text fill=\"#000000\" font-family=\"sans-serif\" font-size=\"14\" font-weight=\"bold\" lengthAdjust=\"spacingAndGlyphs\" textLength=\"45\" x=\"97\" y=\"63.9951\">Test2</text></a><!--MD5=[49a0ec8f00dab7302a31f22d0f0fe584]\n",
       "class E12--><a href=\"psysml:87edab01-bf58-4e9e-abd1-c8b0194f7dca\" target=\"_top\" title=\"psysml:87edab01-bf58-4e9e-abd1-c8b0194f7dca\" xlink:actuate=\"onRequest\" xlink:href=\"psysml:87edab01-bf58-4e9e-abd1-c8b0194f7dca\" xlink:show=\"new\" xlink:title=\"psysml:87edab01-bf58-4e9e-abd1-c8b0194f7dca\" xlink:type=\"simple\"><rect fill=\"#FFFFFF\" height=\"45.9375\" id=\"E12\" rx=\"10\" ry=\"10\" style=\"stroke: #383838; stroke-width: 1.5;\" width=\"42\" x=\"438\" y=\"84\"/><text fill=\"#000000\" font-family=\"sans-serif\" font-size=\"12\" font-style=\"italic\" lengthAdjust=\"spacingAndGlyphs\" textLength=\"40\" x=\"439\" y=\"100.1387\">«part»</text><text fill=\"#000000\" font-family=\"sans-serif\" font-size=\"12\" lengthAdjust=\"spacingAndGlyphs\" textLength=\"22\" x=\"448\" y=\"114.1074\">x: A</text><line style=\"stroke: #383838; stroke-width: 1.5;\" x1=\"439\" x2=\"479\" y1=\"121.9375\" y2=\"121.9375\"/></a><!--MD5=[ee3c913d1a06f366521f9ef512b67efe]\n",
       "class E13--><a href=\"psysml:20c5387a-1627-4e14-8312-6f39b31ab3f7\" target=\"_top\" title=\"psysml:20c5387a-1627-4e14-8312-6f39b31ab3f7\" xlink:actuate=\"onRequest\" xlink:href=\"psysml:20c5387a-1627-4e14-8312-6f39b31ab3f7\" xlink:show=\"new\" xlink:title=\"psysml:20c5387a-1627-4e14-8312-6f39b31ab3f7\" xlink:type=\"simple\"><rect fill=\"#FFFFFF\" height=\"45.9375\" id=\"E13\" rx=\"10\" ry=\"10\" style=\"stroke: #383838; stroke-width: 1.5;\" width=\"42\" x=\"32\" y=\"84\"/><text fill=\"#000000\" font-family=\"sans-serif\" font-size=\"12\" font-style=\"italic\" lengthAdjust=\"spacingAndGlyphs\" textLength=\"40\" x=\"33\" y=\"100.1387\">«part»</text><text fill=\"#000000\" font-family=\"sans-serif\" font-size=\"12\" lengthAdjust=\"spacingAndGlyphs\" textLength=\"22\" x=\"42\" y=\"114.1074\">y: B</text><line style=\"stroke: #383838; stroke-width: 1.5;\" x1=\"33\" x2=\"73\" y1=\"121.9375\" y2=\"121.9375\"/></a><!--MD5=[09b614a08d8cba4a07c9adeb5e0fee81]\n",
       "class E3--><a href=\"psysml:281245e6-0723-4878-ac57-c406fd778909\" target=\"_top\" title=\"psysml:281245e6-0723-4878-ac57-c406fd778909\" xlink:actuate=\"onRequest\" xlink:href=\"psysml:281245e6-0723-4878-ac57-c406fd778909\" xlink:show=\"new\" xlink:title=\"psysml:281245e6-0723-4878-ac57-c406fd778909\" xlink:type=\"simple\"><rect fill=\"#FFFFFF\" height=\"45.9375\" id=\"E3\" style=\"stroke: #383838; stroke-width: 1.5;\" width=\"66\" x=\"349\" y=\"205\"/><text fill=\"#000000\" font-family=\"sans-serif\" font-size=\"12\" font-style=\"italic\" lengthAdjust=\"spacingAndGlyphs\" textLength=\"64\" x=\"350\" y=\"221.1387\">«part def»</text><text fill=\"#000000\" font-family=\"sans-serif\" font-size=\"12\" lengthAdjust=\"spacingAndGlyphs\" textLength=\"8\" x=\"378\" y=\"235.1074\">A</text><line style=\"stroke: #383838; stroke-width: 1.5;\" x1=\"350\" x2=\"414\" y1=\"242.9375\" y2=\"242.9375\"/></a><!--MD5=[270fce915f116d4de14055a7c1d9a0f3]\n",
       "class E5--><a href=\"psysml:57665928-471f-4095-91e2-d839a960cf78\" target=\"_top\" title=\"psysml:57665928-471f-4095-91e2-d839a960cf78\" xlink:actuate=\"onRequest\" xlink:href=\"psysml:57665928-471f-4095-91e2-d839a960cf78\" xlink:show=\"new\" xlink:title=\"psysml:57665928-471f-4095-91e2-d839a960cf78\" xlink:type=\"simple\"><rect fill=\"#FFFFFF\" height=\"45.9375\" id=\"E5\" style=\"stroke: #383838; stroke-width: 1.5;\" width=\"66\" x=\"97\" y=\"205\"/><text fill=\"#000000\" font-family=\"sans-serif\" font-size=\"12\" font-style=\"italic\" lengthAdjust=\"spacingAndGlyphs\" textLength=\"64\" x=\"98\" y=\"221.1387\">«part def»</text><text fill=\"#000000\" font-family=\"sans-serif\" font-size=\"12\" lengthAdjust=\"spacingAndGlyphs\" textLength=\"8\" x=\"126\" y=\"235.1074\">B</text><line style=\"stroke: #383838; stroke-width: 1.5;\" x1=\"98\" x2=\"162\" y1=\"242.9375\" y2=\"242.9375\"/></a><!--MD5=[2156ba9850f5573cc1fc38a6a4b2f02b]\n",
       "class E7--><a href=\"psysml:d6e39b1a-8a39-4c69-85ab-aa8551443e08\" target=\"_top\" title=\"psysml:d6e39b1a-8a39-4c69-85ab-aa8551443e08\" xlink:actuate=\"onRequest\" xlink:href=\"psysml:d6e39b1a-8a39-4c69-85ab-aa8551443e08\" xlink:show=\"new\" xlink:title=\"psysml:d6e39b1a-8a39-4c69-85ab-aa8551443e08\" xlink:type=\"simple\"><rect fill=\"#FFFFFF\" height=\"45.9375\" id=\"E7\" rx=\"10\" ry=\"10\" style=\"stroke: #383838; stroke-width: 1.5;\" width=\"42\" x=\"361\" y=\"84\"/><text fill=\"#000000\" font-family=\"sans-serif\" font-size=\"12\" font-style=\"italic\" lengthAdjust=\"spacingAndGlyphs\" textLength=\"40\" x=\"362\" y=\"100.1387\">«part»</text><text fill=\"#000000\" font-family=\"sans-serif\" font-size=\"12\" lengthAdjust=\"spacingAndGlyphs\" textLength=\"22\" x=\"371\" y=\"114.1074\">x: A</text><line style=\"stroke: #383838; stroke-width: 1.5;\" x1=\"362\" x2=\"402\" y1=\"121.9375\" y2=\"121.9375\"/></a><!--MD5=[b9389687b975829384b498ac4b7476b2]\n",
       "class E8--><a href=\"psysml:ead6e64d-b294-4a2d-a1d8-90d3751f1490\" target=\"_top\" title=\"psysml:ead6e64d-b294-4a2d-a1d8-90d3751f1490\" xlink:actuate=\"onRequest\" xlink:href=\"psysml:ead6e64d-b294-4a2d-a1d8-90d3751f1490\" xlink:show=\"new\" xlink:title=\"psysml:ead6e64d-b294-4a2d-a1d8-90d3751f1490\" xlink:type=\"simple\"><rect fill=\"#FFFFFF\" height=\"45.9375\" id=\"E8\" rx=\"10\" ry=\"10\" style=\"stroke: #383838; stroke-width: 1.5;\" width=\"42\" x=\"284\" y=\"84\"/><text fill=\"#000000\" font-family=\"sans-serif\" font-size=\"12\" font-style=\"italic\" lengthAdjust=\"spacingAndGlyphs\" textLength=\"40\" x=\"285\" y=\"100.1387\">«part»</text><text fill=\"#000000\" font-family=\"sans-serif\" font-size=\"12\" lengthAdjust=\"spacingAndGlyphs\" textLength=\"22\" x=\"294\" y=\"114.1074\">y: B</text><line style=\"stroke: #383838; stroke-width: 1.5;\" x1=\"285\" x2=\"325\" y1=\"121.9375\" y2=\"121.9375\"/></a><!--MD5=[96f4274e9e20536e775497830990834d]\n",
       "class E10--><a href=\"psysml:f3cb1211-10b9-411e-bf19-d5722693e1fe\" target=\"_top\" title=\"psysml:f3cb1211-10b9-411e-bf19-d5722693e1fe\" xlink:actuate=\"onRequest\" xlink:href=\"psysml:f3cb1211-10b9-411e-bf19-d5722693e1fe\" xlink:show=\"new\" xlink:title=\"psysml:f3cb1211-10b9-411e-bf19-d5722693e1fe\" xlink:type=\"simple\"><rect fill=\"#FFFFFF\" height=\"45.9375\" id=\"E10\" rx=\"10\" ry=\"10\" style=\"stroke: #383838; stroke-width: 1.5;\" width=\"42\" x=\"186\" y=\"84\"/><text fill=\"#000000\" font-family=\"sans-serif\" font-size=\"12\" font-style=\"italic\" lengthAdjust=\"spacingAndGlyphs\" textLength=\"40\" x=\"187\" y=\"100.1387\">«part»</text><text fill=\"#000000\" font-family=\"sans-serif\" font-size=\"12\" lengthAdjust=\"spacingAndGlyphs\" textLength=\"22\" x=\"196\" y=\"114.1074\">x: A</text><line style=\"stroke: #383838; stroke-width: 1.5;\" x1=\"187\" x2=\"227\" y1=\"121.9375\" y2=\"121.9375\"/></a><!--MD5=[1dd1bfd58a279cf63c5f349dbc8fc6a1]\n",
       "class E11--><a href=\"psysml:9cdccab4-e502-4fbe-97eb-9b231d825ffa\" target=\"_top\" title=\"psysml:9cdccab4-e502-4fbe-97eb-9b231d825ffa\" xlink:actuate=\"onRequest\" xlink:href=\"psysml:9cdccab4-e502-4fbe-97eb-9b231d825ffa\" xlink:show=\"new\" xlink:title=\"psysml:9cdccab4-e502-4fbe-97eb-9b231d825ffa\" xlink:type=\"simple\"><rect fill=\"#FFFFFF\" height=\"45.9375\" id=\"E11\" rx=\"10\" ry=\"10\" style=\"stroke: #383838; stroke-width: 1.5;\" width=\"42\" x=\"109\" y=\"84\"/><text fill=\"#000000\" font-family=\"sans-serif\" font-size=\"12\" font-style=\"italic\" lengthAdjust=\"spacingAndGlyphs\" textLength=\"40\" x=\"110\" y=\"100.1387\">«part»</text><text fill=\"#000000\" font-family=\"sans-serif\" font-size=\"12\" lengthAdjust=\"spacingAndGlyphs\" textLength=\"22\" x=\"119\" y=\"114.1074\">y: B</text><line style=\"stroke: #383838; stroke-width: 1.5;\" x1=\"110\" x2=\"150\" y1=\"121.9375\" y2=\"121.9375\"/></a><!--MD5=[14ccda38c055a5c0da953d572bc50960]\n",
       "link E7 to E3--><a href=\"psysml:84278f38-d400-4655-8657-76a37dd9bb09\" target=\"_top\" title=\"psysml:84278f38-d400-4655-8657-76a37dd9bb09\" xlink:actuate=\"onRequest\" xlink:href=\"psysml:84278f38-d400-4655-8657-76a37dd9bb09\" xlink:show=\"new\" xlink:title=\"psysml:84278f38-d400-4655-8657-76a37dd9bb09\" xlink:type=\"simple\"><path d=\"M382,130.1 C382,145.37 382,166.16 382,184.57 \" fill=\"none\" id=\"E7-&gt;E3\" style=\"stroke: #383838; stroke-width: 1.0;\"/><polygon fill=\"#FFFFFF\" points=\"382,204.61,375,185.61,389,185.61,382,204.61\" style=\"stroke: #383838; stroke-width: 1.0;\"/><ellipse cx=\"377\" cy=\"179.91\" fill=\"#383838\" rx=\"2\" ry=\"2\" style=\"stroke: #383838; stroke-width: 1.0;\"/><ellipse cx=\"387\" cy=\"179.91\" fill=\"#383838\" rx=\"2\" ry=\"2\" style=\"stroke: #383838; stroke-width: 1.0;\"/></a><!--MD5=[1ccb2481ffa92f8d51a74ee30c51832a]\n",
       "link E8 to E5--><a href=\"psysml:9a62fcce-aa5a-49d2-8cac-0b2f538e5bd0\" target=\"_top\" title=\"psysml:9a62fcce-aa5a-49d2-8cac-0b2f538e5bd0\" xlink:actuate=\"onRequest\" xlink:href=\"psysml:9a62fcce-aa5a-49d2-8cac-0b2f538e5bd0\" xlink:show=\"new\" xlink:title=\"psysml:9a62fcce-aa5a-49d2-8cac-0b2f538e5bd0\" xlink:type=\"simple\"><path d=\"M283.67,124.09 C266.07,137.35 244,154 244,154 C244,154 210.8,175.26 180.23,194.83 \" fill=\"none\" id=\"E8-&gt;E5\" style=\"stroke: #383838; stroke-width: 1.0;\"/><polygon fill=\"#FFFFFF\" points=\"163.28,205.69,175.5055,189.5488,183.0554,201.3386,163.28,205.69\" style=\"stroke: #383838; stroke-width: 1.0;\"/><ellipse cx=\"181.3842\" cy=\"188.1592\" fill=\"#383838\" rx=\"2\" ry=\"2\" style=\"stroke: #383838; stroke-width: 1.0;\"/><ellipse cx=\"186.777\" cy=\"196.5805\" fill=\"#383838\" rx=\"2\" ry=\"2\" style=\"stroke: #383838; stroke-width: 1.0;\"/></a><!--MD5=[feeac5eb423634930294aa81f2d25a4c]\n",
       "link E10 to E3--><a href=\"psysml:bd7260c7-b55a-4391-86f8-9493bae3bcdc\" target=\"_top\" title=\"psysml:bd7260c7-b55a-4391-86f8-9493bae3bcdc\" xlink:actuate=\"onRequest\" xlink:href=\"psysml:bd7260c7-b55a-4391-86f8-9493bae3bcdc\" xlink:show=\"new\" xlink:title=\"psysml:bd7260c7-b55a-4391-86f8-9493bae3bcdc\" xlink:type=\"simple\"><path d=\"M228.33,124.09 C245.93,137.35 268,154 268,154 C268,154 301.2,175.26 331.77,194.83 \" fill=\"none\" id=\"E10-&gt;E3\" style=\"stroke: #383838; stroke-width: 1.0;\"/><polygon fill=\"#FFFFFF\" points=\"348.72,205.69,328.9446,201.3386,336.4945,189.5488,348.72,205.69\" style=\"stroke: #383838; stroke-width: 1.0;\"/><ellipse cx=\"325.223\" cy=\"196.5805\" fill=\"#383838\" rx=\"2\" ry=\"2\" style=\"stroke: #383838; stroke-width: 1.0;\"/><ellipse cx=\"330.6158\" cy=\"188.1592\" fill=\"#383838\" rx=\"2\" ry=\"2\" style=\"stroke: #383838; stroke-width: 1.0;\"/></a><!--MD5=[07b77f6f309248d16187045709d1c26e]\n",
       "link E11 to E5--><a href=\"psysml:099d00ce-a154-42ce-865e-6b31b35a0829\" target=\"_top\" title=\"psysml:099d00ce-a154-42ce-865e-6b31b35a0829\" xlink:actuate=\"onRequest\" xlink:href=\"psysml:099d00ce-a154-42ce-865e-6b31b35a0829\" xlink:show=\"new\" xlink:title=\"psysml:099d00ce-a154-42ce-865e-6b31b35a0829\" xlink:type=\"simple\"><path d=\"M130,130.1 C130,145.37 130,166.16 130,184.57 \" fill=\"none\" id=\"E11-&gt;E5\" style=\"stroke: #383838; stroke-width: 1.0;\"/><polygon fill=\"#FFFFFF\" points=\"130,204.61,123,185.61,137,185.61,130,204.61\" style=\"stroke: #383838; stroke-width: 1.0;\"/><ellipse cx=\"125\" cy=\"179.91\" fill=\"#383838\" rx=\"2\" ry=\"2\" style=\"stroke: #383838; stroke-width: 1.0;\"/><ellipse cx=\"135\" cy=\"179.91\" fill=\"#383838\" rx=\"2\" ry=\"2\" style=\"stroke: #383838; stroke-width: 1.0;\"/></a><!--MD5=[39f41a0e550fb3d73b4d8135617e30a2]\n",
       "link E12 to E3--><a href=\"psysml:2e0d72ae-9b36-4ac2-af7e-1d21d87eecf3\" target=\"_top\" title=\"psysml:2e0d72ae-9b36-4ac2-af7e-1d21d87eecf3\" xlink:actuate=\"onRequest\" xlink:href=\"psysml:2e0d72ae-9b36-4ac2-af7e-1d21d87eecf3\" xlink:show=\"new\" xlink:title=\"psysml:2e0d72ae-9b36-4ac2-af7e-1d21d87eecf3\" xlink:type=\"simple\"><path d=\"M444.7,130.1 C434.28,146.2 419.89,168.44 407.53,187.55 \" fill=\"none\" id=\"E12-&gt;E3\" style=\"stroke: #383838; stroke-width: 1.0;\"/><polygon fill=\"#FFFFFF\" points=\"396.49,204.61,400.9313,184.8546,412.6866,192.4581,396.49,204.61\" style=\"stroke: #383838; stroke-width: 1.0;\"/><ellipse cx=\"405.7063\" cy=\"181.1547\" fill=\"#383838\" rx=\"2\" ry=\"2\" style=\"stroke: #383838; stroke-width: 1.0;\"/><ellipse cx=\"414.103\" cy=\"186.5858\" fill=\"#383838\" rx=\"2\" ry=\"2\" style=\"stroke: #383838; stroke-width: 1.0;\"/></a><!--MD5=[066b2d8af59fea80ccdb3d54ad5c1091]\n",
       "link E13 to E5--><a href=\"psysml:28c76814-e954-4c97-b716-40e2f6813c6b\" target=\"_top\" title=\"psysml:28c76814-e954-4c97-b716-40e2f6813c6b\" xlink:actuate=\"onRequest\" xlink:href=\"psysml:28c76814-e954-4c97-b716-40e2f6813c6b\" xlink:show=\"new\" xlink:title=\"psysml:28c76814-e954-4c97-b716-40e2f6813c6b\" xlink:type=\"simple\"><path d=\"M67.3,130.1 C77.72,146.2 92.11,168.44 104.47,187.55 \" fill=\"none\" id=\"E13-&gt;E5\" style=\"stroke: #383838; stroke-width: 1.0;\"/><polygon fill=\"#FFFFFF\" points=\"115.51,204.61,99.3134,192.4581,111.0687,184.8546,115.51,204.61\" style=\"stroke: #383838; stroke-width: 1.0;\"/><ellipse cx=\"97.897\" cy=\"186.5858\" fill=\"#383838\" rx=\"2\" ry=\"2\" style=\"stroke: #383838; stroke-width: 1.0;\"/><ellipse cx=\"106.2937\" cy=\"181.1547\" fill=\"#383838\" rx=\"2\" ry=\"2\" style=\"stroke: #383838; stroke-width: 1.0;\"/></a><!--MD5=[6467572ff73b4768d6bc5c363ec47def]\n",
       "@startuml\r\n",
       "skinparam linetype polyline\r\n",
       "skinparam monochrome true\r\n",
       "skinparam classbackgroundcolor white\r\n",
       "skinparam shadowing false\r\n",
       "skinparam wrapWidth 300\r\n",
       "hide circle\r\n",
       "\r\n",
       "package \"CircularImport\" as E1  [[psysml:690cd2ec-4fe7-4d94-89bf-c3d63ed60cd3 ]]  {\r\n",
       "package \"P1\" as E2  [[psysml:54e3154d-4fa4-4c14-a367-edca149a76a1 ]]  {\r\n",
       "comp def \"A\" as E3  <<(T,blue)part def>> [[psysml:281245e6-0723-4878-ac57-c406fd778909 ]] {\r\n",
       "}\r\n",
       "}\r\n",
       "package \"P2\" as E4  [[psysml:581c4a9e-fb07-4d80-ac64-c8c7b70027d2 ]]  {\r\n",
       "comp def \"B\" as E5  <<(T,blue)part def>> [[psysml:57665928-471f-4095-91e2-d839a960cf78 ]] {\r\n",
       "}\r\n",
       "}\r\n",
       "package \"Test1\" as E6  [[psysml:6bb49afc-ac2c-47b7-b48e-5bd0a62b326b ]]  {\r\n",
       "comp usage \"x: A\" as E7  <<(T,blue)part>> [[psysml:d6e39b1a-8a39-4c69-85ab-aa8551443e08 ]] {\r\n",
       "}\r\n",
       "comp usage \"y: B\" as E8  <<(T,blue)part>> [[psysml:ead6e64d-b294-4a2d-a1d8-90d3751f1490 ]] {\r\n",
       "}\r\n",
       "E7 - -:|> E3 [[psysml:84278f38-d400-4655-8657-76a37dd9bb09 ]] \r\n",
       "E8 - -:|> E5 [[psysml:9a62fcce-aa5a-49d2-8cac-0b2f538e5bd0 ]] \r\n",
       "}\r\n",
       "package \"Test2\" as E9  [[psysml:051bf7cb-81b8-4c37-8865-8bb7ea974985 ]]  {\r\n",
       "comp usage \"x: A\" as E10  <<(T,blue)part>> [[psysml:f3cb1211-10b9-411e-bf19-d5722693e1fe ]] {\r\n",
       "}\r\n",
       "comp usage \"y: B\" as E11  <<(T,blue)part>> [[psysml:9cdccab4-e502-4fbe-97eb-9b231d825ffa ]] {\r\n",
       "}\r\n",
       "E10 - -:|> E3 [[psysml:bd7260c7-b55a-4391-86f8-9493bae3bcdc ]] \r\n",
       "E11 - -:|> E5 [[psysml:099d00ce-a154-42ce-865e-6b31b35a0829 ]] \r\n",
       "}\r\n",
       "comp usage \"x: A\" as E12  <<(T,blue)part>> [[psysml:87edab01-bf58-4e9e-abd1-c8b0194f7dca ]] {\r\n",
       "}\r\n",
       "comp usage \"y: B\" as E13  <<(T,blue)part>> [[psysml:20c5387a-1627-4e14-8312-6f39b31ab3f7 ]] {\r\n",
       "}\r\n",
       "E12 - -:|> E3 [[psysml:2e0d72ae-9b36-4ac2-af7e-1d21d87eecf3 ]] \r\n",
       "E13 - -:|> E5 [[psysml:28c76814-e954-4c97-b716-40e2f6813c6b ]] \r\n",
       "}\r\n",
       "@enduml\r\n",
       "\n",
       "PlantUML version 1.2020.13(Sat Jun 13 12:26:38 UTC 2020)\n",
       "(EPL source distribution)\n",
       "Java Runtime: OpenJDK Runtime Environment\n",
       "JVM: OpenJDK 64-Bit Server VM\n",
       "Default Encoding: UTF-8\n",
       "Language: en\n",
       "Country: null\n",
       "--></g></svg>"
      ]
     },
     "execution_count": 10,
     "metadata": {},
     "output_type": "execute_result"
    }
   ],
   "source": [
    "%viz --style=\"POLYLINE\" --view=\"Tree\" \"CircularImport\""
   ]
  },
  {
   "cell_type": "code",
   "execution_count": 11,
   "id": "ab41cc6a",
   "metadata": {
    "execution": {
     "iopub.execute_input": "2021-04-20T06:57:52.211674Z",
     "iopub.status.busy": "2021-04-20T06:57:52.211170Z",
     "iopub.status.idle": "2021-04-20T06:57:52.218119Z",
     "shell.execute_reply": "2021-04-20T06:57:52.217838Z"
    }
   },
   "outputs": [
    {
     "data": {
      "image/svg+xml": [
       "<?xml version=\"1.0\" encoding=\"UTF-8\" standalone=\"no\"?><svg xmlns=\"http://www.w3.org/2000/svg\" xmlns:xlink=\"http://www.w3.org/1999/xlink\" contentScriptType=\"application/ecmascript\" contentStyleType=\"text/css\" height=\"12px\" preserveAspectRatio=\"none\" style=\"width:12px;height:12px;\" version=\"1.1\" viewBox=\"0 0 12 12\" width=\"12px\" zoomAndPan=\"magnify\"><defs/><g><!--MD5=[896ac0e7a515d8dd7765a661cb4ee08b]\n",
       "@startuml\r\n",
       "skinparam linetype polyline\r\n",
       "skinparam monochrome true\r\n",
       "skinparam classbackgroundcolor white\r\n",
       "skinparam shadowing false\r\n",
       "skinparam wrapWidth 300\r\n",
       "hide circle\r\n",
       "\r\n",
       "@enduml\r\n",
       "\n",
       "PlantUML version 1.2020.13(Sat Jun 13 12:26:38 UTC 2020)\n",
       "(EPL source distribution)\n",
       "Java Runtime: OpenJDK Runtime Environment\n",
       "JVM: OpenJDK 64-Bit Server VM\n",
       "Default Encoding: UTF-8\n",
       "Language: en\n",
       "Country: null\n",
       "--></g></svg>"
      ]
     },
     "execution_count": 11,
     "metadata": {},
     "output_type": "execute_result"
    }
   ],
   "source": [
    "%viz --style=\"POLYLINE\" --view=\"State\" \"CircularImport\""
   ]
  },
  {
   "cell_type": "code",
   "execution_count": 12,
   "id": "7e1bdf00",
   "metadata": {
    "execution": {
     "iopub.execute_input": "2021-04-20T06:57:52.270250Z",
     "iopub.status.busy": "2021-04-20T06:57:52.269411Z",
     "iopub.status.idle": "2021-04-20T06:57:52.312959Z",
     "shell.execute_reply": "2021-04-20T06:57:52.311617Z"
    }
   },
   "outputs": [
    {
     "data": {
      "image/svg+xml": [
       "<?xml version=\"1.0\" encoding=\"UTF-8\" standalone=\"no\"?><svg xmlns=\"http://www.w3.org/2000/svg\" xmlns:xlink=\"http://www.w3.org/1999/xlink\" contentScriptType=\"application/ecmascript\" contentStyleType=\"text/css\" height=\"179px\" preserveAspectRatio=\"none\" style=\"width:846px;height:179px;\" version=\"1.1\" viewBox=\"0 0 846 179\" width=\"846px\" zoomAndPan=\"magnify\"><defs/><g><!--MD5=[fbc87193dbaf4d95561dea2c320d4a47]\n",
       "cluster E1--><a href=\"psysml:690cd2ec-4fe7-4d94-89bf-c3d63ed60cd3\" target=\"_top\" title=\"psysml:690cd2ec-4fe7-4d94-89bf-c3d63ed60cd3\" xlink:actuate=\"onRequest\" xlink:href=\"psysml:690cd2ec-4fe7-4d94-89bf-c3d63ed60cd3\" xlink:show=\"new\" xlink:title=\"psysml:690cd2ec-4fe7-4d94-89bf-c3d63ed60cd3\" xlink:type=\"simple\"><polygon fill=\"#FFFFFF\" points=\"16,6,134,6,141,28.2969,824,28.2969,824,167,16,167,16,6\" style=\"stroke: #000000; stroke-width: 1.5;\"/><line style=\"stroke: #000000; stroke-width: 1.5;\" x1=\"16\" x2=\"141\" y1=\"28.2969\" y2=\"28.2969\"/><text fill=\"#000000\" font-family=\"sans-serif\" font-size=\"14\" font-weight=\"bold\" lengthAdjust=\"spacingAndGlyphs\" textLength=\"112\" x=\"20\" y=\"20.9951\">CircularImport</text></a><!--MD5=[e4f7fae6ed58524ba242bb0b0d3be6b7]\n",
       "cluster E2--><a href=\"psysml:54e3154d-4fa4-4c14-a367-edca149a76a1\" target=\"_top\" title=\"psysml:54e3154d-4fa4-4c14-a367-edca149a76a1\" xlink:actuate=\"onRequest\" xlink:href=\"psysml:54e3154d-4fa4-4c14-a367-edca149a76a1\" xlink:show=\"new\" xlink:title=\"psysml:54e3154d-4fa4-4c14-a367-edca149a76a1\" xlink:type=\"simple\"><polygon fill=\"#FFFFFF\" points=\"696,49,722,49,729,71.2969,800,71.2969,800,143,696,143,696,49\" style=\"stroke: #000000; stroke-width: 1.5;\"/><line style=\"stroke: #000000; stroke-width: 1.5;\" x1=\"696\" x2=\"729\" y1=\"71.2969\" y2=\"71.2969\"/><text fill=\"#000000\" font-family=\"sans-serif\" font-size=\"14\" font-weight=\"bold\" lengthAdjust=\"spacingAndGlyphs\" textLength=\"20\" x=\"700\" y=\"63.9951\">P1</text></a><!--MD5=[f6df4d0ebaf0b5dfb2ced0ae5af7c670]\n",
       "cluster E4--><a href=\"psysml:581c4a9e-fb07-4d80-ac64-c8c7b70027d2\" target=\"_top\" title=\"psysml:581c4a9e-fb07-4d80-ac64-c8c7b70027d2\" xlink:actuate=\"onRequest\" xlink:href=\"psysml:581c4a9e-fb07-4d80-ac64-c8c7b70027d2\" xlink:show=\"new\" xlink:title=\"psysml:581c4a9e-fb07-4d80-ac64-c8c7b70027d2\" xlink:type=\"simple\"><polygon fill=\"#FFFFFF\" points=\"568,49,594,49,601,71.2969,672,71.2969,672,143,568,143,568,49\" style=\"stroke: #000000; stroke-width: 1.5;\"/><line style=\"stroke: #000000; stroke-width: 1.5;\" x1=\"568\" x2=\"601\" y1=\"71.2969\" y2=\"71.2969\"/><text fill=\"#000000\" font-family=\"sans-serif\" font-size=\"14\" font-weight=\"bold\" lengthAdjust=\"spacingAndGlyphs\" textLength=\"20\" x=\"572\" y=\"63.9951\">P2</text></a><!--MD5=[14e3b0961a2654348d326746436168a1]\n",
       "cluster E6--><a href=\"psysml:6bb49afc-ac2c-47b7-b48e-5bd0a62b326b\" target=\"_top\" title=\"psysml:6bb49afc-ac2c-47b7-b48e-5bd0a62b326b\" xlink:actuate=\"onRequest\" xlink:href=\"psysml:6bb49afc-ac2c-47b7-b48e-5bd0a62b326b\" xlink:show=\"new\" xlink:title=\"psysml:6bb49afc-ac2c-47b7-b48e-5bd0a62b326b\" xlink:type=\"simple\"><polygon fill=\"#FFFFFF\" points=\"377,50.5,428,50.5,435,72.7969,544,72.7969,544,141.5,377,141.5,377,50.5\" style=\"stroke: #000000; stroke-width: 1.5;\"/><line style=\"stroke: #000000; stroke-width: 1.5;\" x1=\"377\" x2=\"435\" y1=\"72.7969\" y2=\"72.7969\"/><text fill=\"#000000\" font-family=\"sans-serif\" font-size=\"14\" font-weight=\"bold\" lengthAdjust=\"spacingAndGlyphs\" textLength=\"45\" x=\"381\" y=\"65.4951\">Test1</text></a><!--MD5=[7f149f147074ac12df2cb0a7728a5fb0]\n",
       "cluster E9--><a href=\"psysml:051bf7cb-81b8-4c37-8865-8bb7ea974985\" target=\"_top\" title=\"psysml:051bf7cb-81b8-4c37-8865-8bb7ea974985\" xlink:actuate=\"onRequest\" xlink:href=\"psysml:051bf7cb-81b8-4c37-8865-8bb7ea974985\" xlink:show=\"new\" xlink:title=\"psysml:051bf7cb-81b8-4c37-8865-8bb7ea974985\" xlink:type=\"simple\"><polygon fill=\"#FFFFFF\" points=\"186,50.5,237,50.5,244,72.7969,353,72.7969,353,141.5,186,141.5,186,50.5\" style=\"stroke: #000000; stroke-width: 1.5;\"/><line style=\"stroke: #000000; stroke-width: 1.5;\" x1=\"186\" x2=\"244\" y1=\"72.7969\" y2=\"72.7969\"/><text fill=\"#000000\" font-family=\"sans-serif\" font-size=\"14\" font-weight=\"bold\" lengthAdjust=\"spacingAndGlyphs\" textLength=\"45\" x=\"190\" y=\"65.4951\">Test2</text></a><g id=\"E1.E2.E3\"><a href=\"psysml:281245e6-0723-4878-ac57-c406fd778909\" target=\"_top\" title=\"psysml:281245e6-0723-4878-ac57-c406fd778909\" xlink:actuate=\"onRequest\" xlink:href=\"psysml:281245e6-0723-4878-ac57-c406fd778909\" xlink:show=\"new\" xlink:title=\"psysml:281245e6-0723-4878-ac57-c406fd778909\" xlink:type=\"simple\"><rect fill=\"#FFFFFF\" height=\"42.9375\" id=\"E3\" style=\"stroke: #383838; stroke-width: 1.5;\" width=\"71\" x=\"712.5\" y=\"84\"/><rect fill=\"#F8F8F8\" height=\"37.9375\" style=\"stroke: #383838; stroke-width: 1.5;\" width=\"71\" x=\"712.5\" y=\"84\"/><text fill=\"#000000\" font-family=\"sans-serif\" font-size=\"12\" font-style=\"italic\" lengthAdjust=\"spacingAndGlyphs\" textLength=\"64\" x=\"716\" y=\"100.1387\">«part def»</text><text fill=\"#000000\" font-family=\"sans-serif\" font-size=\"12\" lengthAdjust=\"spacingAndGlyphs\" textLength=\"8\" x=\"744\" y=\"114.1074\">A</text></a></g><g id=\"E1.E4.E5\"><a href=\"psysml:57665928-471f-4095-91e2-d839a960cf78\" target=\"_top\" title=\"psysml:57665928-471f-4095-91e2-d839a960cf78\" xlink:actuate=\"onRequest\" xlink:href=\"psysml:57665928-471f-4095-91e2-d839a960cf78\" xlink:show=\"new\" xlink:title=\"psysml:57665928-471f-4095-91e2-d839a960cf78\" xlink:type=\"simple\"><rect fill=\"#FFFFFF\" height=\"42.9375\" id=\"E5\" style=\"stroke: #383838; stroke-width: 1.5;\" width=\"71\" x=\"584.5\" y=\"84\"/><rect fill=\"#F8F8F8\" height=\"37.9375\" style=\"stroke: #383838; stroke-width: 1.5;\" width=\"71\" x=\"584.5\" y=\"84\"/><text fill=\"#000000\" font-family=\"sans-serif\" font-size=\"12\" font-style=\"italic\" lengthAdjust=\"spacingAndGlyphs\" textLength=\"64\" x=\"588\" y=\"100.1387\">«part def»</text><text fill=\"#000000\" font-family=\"sans-serif\" font-size=\"12\" lengthAdjust=\"spacingAndGlyphs\" textLength=\"8\" x=\"616\" y=\"114.1074\">B</text></a></g><g id=\"E1.E6.E7\"><a href=\"psysml:d6e39b1a-8a39-4c69-85ab-aa8551443e08\" target=\"_top\" title=\"psysml:d6e39b1a-8a39-4c69-85ab-aa8551443e08\" xlink:actuate=\"onRequest\" xlink:href=\"psysml:d6e39b1a-8a39-4c69-85ab-aa8551443e08\" xlink:show=\"new\" xlink:title=\"psysml:d6e39b1a-8a39-4c69-85ab-aa8551443e08\" xlink:type=\"simple\"><rect fill=\"#FFFFFF\" height=\"40\" id=\"E7\" rx=\"10\" ry=\"10\" style=\"stroke: #383838; stroke-width: 1.5;\" width=\"50\" x=\"478\" y=\"85.5\"/><rect fill=\"#F8F8F8\" height=\"23.9688\" rx=\"10\" ry=\"10\" style=\"stroke: #F8F8F8; stroke-width: 1.5;\" width=\"50\" x=\"478\" y=\"85.5\"/><rect fill=\"#F8F8F8\" height=\"10\" style=\"stroke: #F8F8F8; stroke-width: 1.5;\" width=\"50\" x=\"478\" y=\"99.4688\"/><rect fill=\"none\" height=\"40\" id=\"E7\" rx=\"10\" ry=\"10\" style=\"stroke: #383838; stroke-width: 1.5;\" width=\"50\" x=\"478\" y=\"85.5\"/><text fill=\"#000000\" font-family=\"sans-serif\" font-size=\"12\" lengthAdjust=\"spacingAndGlyphs\" textLength=\"22\" x=\"492\" y=\"101.6387\">x: A</text></a></g><g id=\"E1.E6.E8\"><a href=\"psysml:ead6e64d-b294-4a2d-a1d8-90d3751f1490\" target=\"_top\" title=\"psysml:ead6e64d-b294-4a2d-a1d8-90d3751f1490\" xlink:actuate=\"onRequest\" xlink:href=\"psysml:ead6e64d-b294-4a2d-a1d8-90d3751f1490\" xlink:show=\"new\" xlink:title=\"psysml:ead6e64d-b294-4a2d-a1d8-90d3751f1490\" xlink:type=\"simple\"><rect fill=\"#FFFFFF\" height=\"40\" id=\"E8\" rx=\"10\" ry=\"10\" style=\"stroke: #383838; stroke-width: 1.5;\" width=\"50\" x=\"393\" y=\"85.5\"/><rect fill=\"#F8F8F8\" height=\"23.9688\" rx=\"10\" ry=\"10\" style=\"stroke: #F8F8F8; stroke-width: 1.5;\" width=\"50\" x=\"393\" y=\"85.5\"/><rect fill=\"#F8F8F8\" height=\"10\" style=\"stroke: #F8F8F8; stroke-width: 1.5;\" width=\"50\" x=\"393\" y=\"99.4688\"/><rect fill=\"none\" height=\"40\" id=\"E8\" rx=\"10\" ry=\"10\" style=\"stroke: #383838; stroke-width: 1.5;\" width=\"50\" x=\"393\" y=\"85.5\"/><text fill=\"#000000\" font-family=\"sans-serif\" font-size=\"12\" lengthAdjust=\"spacingAndGlyphs\" textLength=\"22\" x=\"407\" y=\"101.6387\">y: B</text></a></g><g id=\"E1.E9.E10\"><a href=\"psysml:f3cb1211-10b9-411e-bf19-d5722693e1fe\" target=\"_top\" title=\"psysml:f3cb1211-10b9-411e-bf19-d5722693e1fe\" xlink:actuate=\"onRequest\" xlink:href=\"psysml:f3cb1211-10b9-411e-bf19-d5722693e1fe\" xlink:show=\"new\" xlink:title=\"psysml:f3cb1211-10b9-411e-bf19-d5722693e1fe\" xlink:type=\"simple\"><rect fill=\"#FFFFFF\" height=\"40\" id=\"E10\" rx=\"10\" ry=\"10\" style=\"stroke: #383838; stroke-width: 1.5;\" width=\"50\" x=\"287\" y=\"85.5\"/><rect fill=\"#F8F8F8\" height=\"23.9688\" rx=\"10\" ry=\"10\" style=\"stroke: #F8F8F8; stroke-width: 1.5;\" width=\"50\" x=\"287\" y=\"85.5\"/><rect fill=\"#F8F8F8\" height=\"10\" style=\"stroke: #F8F8F8; stroke-width: 1.5;\" width=\"50\" x=\"287\" y=\"99.4688\"/><rect fill=\"none\" height=\"40\" id=\"E10\" rx=\"10\" ry=\"10\" style=\"stroke: #383838; stroke-width: 1.5;\" width=\"50\" x=\"287\" y=\"85.5\"/><text fill=\"#000000\" font-family=\"sans-serif\" font-size=\"12\" lengthAdjust=\"spacingAndGlyphs\" textLength=\"22\" x=\"301\" y=\"101.6387\">x: A</text></a></g><g id=\"E1.E9.E11\"><a href=\"psysml:9cdccab4-e502-4fbe-97eb-9b231d825ffa\" target=\"_top\" title=\"psysml:9cdccab4-e502-4fbe-97eb-9b231d825ffa\" xlink:actuate=\"onRequest\" xlink:href=\"psysml:9cdccab4-e502-4fbe-97eb-9b231d825ffa\" xlink:show=\"new\" xlink:title=\"psysml:9cdccab4-e502-4fbe-97eb-9b231d825ffa\" xlink:type=\"simple\"><rect fill=\"#FFFFFF\" height=\"40\" id=\"E11\" rx=\"10\" ry=\"10\" style=\"stroke: #383838; stroke-width: 1.5;\" width=\"50\" x=\"202\" y=\"85.5\"/><rect fill=\"#F8F8F8\" height=\"23.9688\" rx=\"10\" ry=\"10\" style=\"stroke: #F8F8F8; stroke-width: 1.5;\" width=\"50\" x=\"202\" y=\"85.5\"/><rect fill=\"#F8F8F8\" height=\"10\" style=\"stroke: #F8F8F8; stroke-width: 1.5;\" width=\"50\" x=\"202\" y=\"99.4688\"/><rect fill=\"none\" height=\"40\" id=\"E11\" rx=\"10\" ry=\"10\" style=\"stroke: #383838; stroke-width: 1.5;\" width=\"50\" x=\"202\" y=\"85.5\"/><text fill=\"#000000\" font-family=\"sans-serif\" font-size=\"12\" lengthAdjust=\"spacingAndGlyphs\" textLength=\"22\" x=\"216\" y=\"101.6387\">y: B</text></a></g><g id=\"E1.E12\"><a href=\"psysml:87edab01-bf58-4e9e-abd1-c8b0194f7dca\" target=\"_top\" title=\"psysml:87edab01-bf58-4e9e-abd1-c8b0194f7dca\" xlink:actuate=\"onRequest\" xlink:href=\"psysml:87edab01-bf58-4e9e-abd1-c8b0194f7dca\" xlink:show=\"new\" xlink:title=\"psysml:87edab01-bf58-4e9e-abd1-c8b0194f7dca\" xlink:type=\"simple\"><rect fill=\"#FFFFFF\" height=\"40\" id=\"E12\" rx=\"10\" ry=\"10\" style=\"stroke: #383838; stroke-width: 1.5;\" width=\"50\" x=\"117\" y=\"85.5\"/><rect fill=\"#F8F8F8\" height=\"23.9688\" rx=\"10\" ry=\"10\" style=\"stroke: #F8F8F8; stroke-width: 1.5;\" width=\"50\" x=\"117\" y=\"85.5\"/><rect fill=\"#F8F8F8\" height=\"10\" style=\"stroke: #F8F8F8; stroke-width: 1.5;\" width=\"50\" x=\"117\" y=\"99.4688\"/><rect fill=\"none\" height=\"40\" id=\"E12\" rx=\"10\" ry=\"10\" style=\"stroke: #383838; stroke-width: 1.5;\" width=\"50\" x=\"117\" y=\"85.5\"/><text fill=\"#000000\" font-family=\"sans-serif\" font-size=\"12\" lengthAdjust=\"spacingAndGlyphs\" textLength=\"22\" x=\"131\" y=\"101.6387\">x: A</text></a></g><g id=\"E1.E13\"><a href=\"psysml:20c5387a-1627-4e14-8312-6f39b31ab3f7\" target=\"_top\" title=\"psysml:20c5387a-1627-4e14-8312-6f39b31ab3f7\" xlink:actuate=\"onRequest\" xlink:href=\"psysml:20c5387a-1627-4e14-8312-6f39b31ab3f7\" xlink:show=\"new\" xlink:title=\"psysml:20c5387a-1627-4e14-8312-6f39b31ab3f7\" xlink:type=\"simple\"><rect fill=\"#FFFFFF\" height=\"40\" id=\"E13\" rx=\"10\" ry=\"10\" style=\"stroke: #383838; stroke-width: 1.5;\" width=\"50\" x=\"32\" y=\"85.5\"/><rect fill=\"#F8F8F8\" height=\"23.9688\" rx=\"10\" ry=\"10\" style=\"stroke: #F8F8F8; stroke-width: 1.5;\" width=\"50\" x=\"32\" y=\"85.5\"/><rect fill=\"#F8F8F8\" height=\"10\" style=\"stroke: #F8F8F8; stroke-width: 1.5;\" width=\"50\" x=\"32\" y=\"99.4688\"/><rect fill=\"none\" height=\"40\" id=\"E13\" rx=\"10\" ry=\"10\" style=\"stroke: #383838; stroke-width: 1.5;\" width=\"50\" x=\"32\" y=\"85.5\"/><text fill=\"#000000\" font-family=\"sans-serif\" font-size=\"12\" lengthAdjust=\"spacingAndGlyphs\" textLength=\"22\" x=\"46\" y=\"101.6387\">y: B</text></a></g><!--MD5=[ac9bb56f783c0510ace94fa9b0397097]\n",
       "@startuml\r\n",
       "skinparam ranksep 10\r\n",
       "skinparam rectangle {\r\n",
       " backgroundColor<<block>> LightGreen\r\n",
       "}\r\n",
       "skinparam linetype polyline\r\n",
       "skinparam monochrome true\r\n",
       "skinparam classbackgroundcolor white\r\n",
       "skinparam shadowing false\r\n",
       "skinparam wrapWidth 300\r\n",
       "hide circle\r\n",
       "\r\n",
       "package \"CircularImport\" as E1  [[psysml:690cd2ec-4fe7-4d94-89bf-c3d63ed60cd3 ]]  {\r\n",
       "package \"P1\" as E2  [[psysml:54e3154d-4fa4-4c14-a367-edca149a76a1 ]]  {\r\n",
       "rec def \"A\" as E3  <<(T,blue)part def>> [[psysml:281245e6-0723-4878-ac57-c406fd778909 ]] {\r\n",
       "}\r\n",
       "}\r\n",
       "package \"P2\" as E4  [[psysml:581c4a9e-fb07-4d80-ac64-c8c7b70027d2 ]]  {\r\n",
       "rec def \"B\" as E5  <<(T,blue)part def>> [[psysml:57665928-471f-4095-91e2-d839a960cf78 ]] {\r\n",
       "}\r\n",
       "}\r\n",
       "package \"Test1\" as E6  [[psysml:6bb49afc-ac2c-47b7-b48e-5bd0a62b326b ]]  {\r\n",
       "rec usage \"x: A\" as E7  [[psysml:d6e39b1a-8a39-4c69-85ab-aa8551443e08 ]] {\r\n",
       "}\r\n",
       "rec usage \"y: B\" as E8  [[psysml:ead6e64d-b294-4a2d-a1d8-90d3751f1490 ]] {\r\n",
       "}\r\n",
       "}\r\n",
       "package \"Test2\" as E9  [[psysml:051bf7cb-81b8-4c37-8865-8bb7ea974985 ]]  {\r\n",
       "rec usage \"x: A\" as E10  [[psysml:f3cb1211-10b9-411e-bf19-d5722693e1fe ]] {\r\n",
       "}\r\n",
       "rec usage \"y: B\" as E11  [[psysml:9cdccab4-e502-4fbe-97eb-9b231d825ffa ]] {\r\n",
       "}\r\n",
       "}\r\n",
       "rec usage \"x: A\" as E12  [[psysml:87edab01-bf58-4e9e-abd1-c8b0194f7dca ]] {\r\n",
       "}\r\n",
       "rec usage \"y: B\" as E13  [[psysml:20c5387a-1627-4e14-8312-6f39b31ab3f7 ]] {\r\n",
       "}\r\n",
       "}\r\n",
       "@enduml\r\n",
       "\n",
       "PlantUML version 1.2020.13(Sat Jun 13 12:26:38 UTC 2020)\n",
       "(EPL source distribution)\n",
       "Java Runtime: OpenJDK Runtime Environment\n",
       "JVM: OpenJDK 64-Bit Server VM\n",
       "Default Encoding: UTF-8\n",
       "Language: en\n",
       "Country: null\n",
       "--></g></svg>"
      ]
     },
     "execution_count": 12,
     "metadata": {},
     "output_type": "execute_result"
    }
   ],
   "source": [
    "%viz --style=\"POLYLINE\" --view=\"Interconnection\" \"CircularImport\""
   ]
  },
  {
   "cell_type": "code",
   "execution_count": 13,
   "id": "d975c1c8",
   "metadata": {
    "execution": {
     "iopub.execute_input": "2021-04-20T06:57:52.363397Z",
     "iopub.status.busy": "2021-04-20T06:57:52.362844Z",
     "iopub.status.idle": "2021-04-20T06:57:52.368420Z",
     "shell.execute_reply": "2021-04-20T06:57:52.368102Z"
    }
   },
   "outputs": [
    {
     "data": {
      "image/svg+xml": [
       "<?xml version=\"1.0\" encoding=\"UTF-8\" standalone=\"no\"?><svg xmlns=\"http://www.w3.org/2000/svg\" xmlns:xlink=\"http://www.w3.org/1999/xlink\" contentScriptType=\"application/ecmascript\" contentStyleType=\"text/css\" height=\"12px\" preserveAspectRatio=\"none\" style=\"width:12px;height:12px;\" version=\"1.1\" viewBox=\"0 0 12 12\" width=\"12px\" zoomAndPan=\"magnify\"><defs/><g><!--MD5=[97bbf32f66ccd50cbc40d92ea8f5a65e]\n",
       "@startuml\r\n",
       "skinparam ranksep 8\r\n",
       "skinparam linetype polyline\r\n",
       "skinparam monochrome true\r\n",
       "skinparam classbackgroundcolor white\r\n",
       "skinparam shadowing false\r\n",
       "skinparam wrapWidth 300\r\n",
       "hide circle\r\n",
       "\r\n",
       "@enduml\r\n",
       "\n",
       "PlantUML version 1.2020.13(Sat Jun 13 12:26:38 UTC 2020)\n",
       "(EPL source distribution)\n",
       "Java Runtime: OpenJDK Runtime Environment\n",
       "JVM: OpenJDK 64-Bit Server VM\n",
       "Default Encoding: UTF-8\n",
       "Language: en\n",
       "Country: null\n",
       "--></g></svg>"
      ]
     },
     "execution_count": 13,
     "metadata": {},
     "output_type": "execute_result"
    }
   ],
   "source": [
    "%viz --style=\"POLYLINE\" --view=\"Action\" \"CircularImport\""
   ]
  },
  {
   "cell_type": "code",
   "execution_count": 14,
   "id": "0e2805ea",
   "metadata": {
    "execution": {
     "iopub.execute_input": "2021-04-20T06:57:52.419856Z",
     "iopub.status.busy": "2021-04-20T06:57:52.419335Z",
     "iopub.status.idle": "2021-04-20T06:57:52.477350Z",
     "shell.execute_reply": "2021-04-20T06:57:52.476964Z"
    }
   },
   "outputs": [
    {
     "data": {
      "image/svg+xml": [
       "<?xml version=\"1.0\" encoding=\"UTF-8\" standalone=\"no\"?><svg xmlns=\"http://www.w3.org/2000/svg\" xmlns:xlink=\"http://www.w3.org/1999/xlink\" contentScriptType=\"application/ecmascript\" contentStyleType=\"text/css\" height=\"303px\" preserveAspectRatio=\"none\" style=\"width:518px;height:303px;\" version=\"1.1\" viewBox=\"0 0 518 303\" width=\"518px\" zoomAndPan=\"magnify\"><defs/><g><!--MD5=[fbc87193dbaf4d95561dea2c320d4a47]\n",
       "cluster E1--><a href=\"psysml:690cd2ec-4fe7-4d94-89bf-c3d63ed60cd3\" target=\"_top\" title=\"psysml:690cd2ec-4fe7-4d94-89bf-c3d63ed60cd3\" xlink:actuate=\"onRequest\" xlink:href=\"psysml:690cd2ec-4fe7-4d94-89bf-c3d63ed60cd3\" xlink:show=\"new\" xlink:title=\"psysml:690cd2ec-4fe7-4d94-89bf-c3d63ed60cd3\" xlink:type=\"simple\"><polygon fill=\"#FFFFFF\" points=\"16,6,134,6,141,28.2969,496,28.2969,496,291,16,291,16,6\" style=\"stroke: #000000; stroke-width: 1.5;\"/><line style=\"stroke: #000000; stroke-width: 1.5;\" x1=\"16\" x2=\"141\" y1=\"28.2969\" y2=\"28.2969\"/><text fill=\"#000000\" font-family=\"sans-serif\" font-size=\"14\" font-weight=\"bold\" lengthAdjust=\"spacingAndGlyphs\" textLength=\"112\" x=\"20\" y=\"20.9951\">CircularImport</text></a><!--MD5=[e4f7fae6ed58524ba242bb0b0d3be6b7]\n",
       "cluster E2--><a href=\"psysml:54e3154d-4fa4-4c14-a367-edca149a76a1\" target=\"_top\" title=\"psysml:54e3154d-4fa4-4c14-a367-edca149a76a1\" xlink:actuate=\"onRequest\" xlink:href=\"psysml:54e3154d-4fa4-4c14-a367-edca149a76a1\" xlink:show=\"new\" xlink:title=\"psysml:54e3154d-4fa4-4c14-a367-edca149a76a1\" xlink:type=\"simple\"><polygon fill=\"#FFFFFF\" points=\"333,170,359,170,366,192.2969,431,192.2969,431,267,333,267,333,170\" style=\"stroke: #000000; stroke-width: 1.5;\"/><line style=\"stroke: #000000; stroke-width: 1.5;\" x1=\"333\" x2=\"366\" y1=\"192.2969\" y2=\"192.2969\"/><text fill=\"#000000\" font-family=\"sans-serif\" font-size=\"14\" font-weight=\"bold\" lengthAdjust=\"spacingAndGlyphs\" textLength=\"20\" x=\"337\" y=\"184.9951\">P1</text></a><!--MD5=[f6df4d0ebaf0b5dfb2ced0ae5af7c670]\n",
       "cluster E4--><a href=\"psysml:581c4a9e-fb07-4d80-ac64-c8c7b70027d2\" target=\"_top\" title=\"psysml:581c4a9e-fb07-4d80-ac64-c8c7b70027d2\" xlink:actuate=\"onRequest\" xlink:href=\"psysml:581c4a9e-fb07-4d80-ac64-c8c7b70027d2\" xlink:show=\"new\" xlink:title=\"psysml:581c4a9e-fb07-4d80-ac64-c8c7b70027d2\" xlink:type=\"simple\"><polygon fill=\"#FFFFFF\" points=\"81,170,107,170,114,192.2969,179,192.2969,179,267,81,267,81,170\" style=\"stroke: #000000; stroke-width: 1.5;\"/><line style=\"stroke: #000000; stroke-width: 1.5;\" x1=\"81\" x2=\"114\" y1=\"192.2969\" y2=\"192.2969\"/><text fill=\"#000000\" font-family=\"sans-serif\" font-size=\"14\" font-weight=\"bold\" lengthAdjust=\"spacingAndGlyphs\" textLength=\"20\" x=\"85\" y=\"184.9951\">P2</text></a><!--MD5=[14e3b0961a2654348d326746436168a1]\n",
       "cluster E6--><a href=\"psysml:6bb49afc-ac2c-47b7-b48e-5bd0a62b326b\" target=\"_top\" title=\"psysml:6bb49afc-ac2c-47b7-b48e-5bd0a62b326b\" xlink:actuate=\"onRequest\" xlink:href=\"psysml:6bb49afc-ac2c-47b7-b48e-5bd0a62b326b\" xlink:show=\"new\" xlink:title=\"psysml:6bb49afc-ac2c-47b7-b48e-5bd0a62b326b\" xlink:type=\"simple\"><polygon fill=\"#FFFFFF\" points=\"268,49,319,49,326,71.2969,419,71.2969,419,146,268,146,268,49\" style=\"stroke: #000000; stroke-width: 1.5;\"/><line style=\"stroke: #000000; stroke-width: 1.5;\" x1=\"268\" x2=\"326\" y1=\"71.2969\" y2=\"71.2969\"/><text fill=\"#000000\" font-family=\"sans-serif\" font-size=\"14\" font-weight=\"bold\" lengthAdjust=\"spacingAndGlyphs\" textLength=\"45\" x=\"272\" y=\"63.9951\">Test1</text></a><!--MD5=[7f149f147074ac12df2cb0a7728a5fb0]\n",
       "cluster E9--><a href=\"psysml:051bf7cb-81b8-4c37-8865-8bb7ea974985\" target=\"_top\" title=\"psysml:051bf7cb-81b8-4c37-8865-8bb7ea974985\" xlink:actuate=\"onRequest\" xlink:href=\"psysml:051bf7cb-81b8-4c37-8865-8bb7ea974985\" xlink:show=\"new\" xlink:title=\"psysml:051bf7cb-81b8-4c37-8865-8bb7ea974985\" xlink:type=\"simple\"><polygon fill=\"#FFFFFF\" points=\"93,49,144,49,151,71.2969,244,71.2969,244,146,93,146,93,49\" style=\"stroke: #000000; stroke-width: 1.5;\"/><line style=\"stroke: #000000; stroke-width: 1.5;\" x1=\"93\" x2=\"151\" y1=\"71.2969\" y2=\"71.2969\"/><text fill=\"#000000\" font-family=\"sans-serif\" font-size=\"14\" font-weight=\"bold\" lengthAdjust=\"spacingAndGlyphs\" textLength=\"45\" x=\"97\" y=\"63.9951\">Test2</text></a><!--MD5=[49a0ec8f00dab7302a31f22d0f0fe584]\n",
       "class E12--><a href=\"psysml:87edab01-bf58-4e9e-abd1-c8b0194f7dca\" target=\"_top\" title=\"psysml:87edab01-bf58-4e9e-abd1-c8b0194f7dca\" xlink:actuate=\"onRequest\" xlink:href=\"psysml:87edab01-bf58-4e9e-abd1-c8b0194f7dca\" xlink:show=\"new\" xlink:title=\"psysml:87edab01-bf58-4e9e-abd1-c8b0194f7dca\" xlink:type=\"simple\"><rect fill=\"#FFFFFF\" height=\"45.9375\" id=\"E12\" rx=\"10\" ry=\"10\" style=\"stroke: #383838; stroke-width: 1.5;\" width=\"42\" x=\"438\" y=\"84\"/><text fill=\"#000000\" font-family=\"sans-serif\" font-size=\"12\" font-style=\"italic\" lengthAdjust=\"spacingAndGlyphs\" textLength=\"40\" x=\"439\" y=\"100.1387\">«part»</text><text fill=\"#000000\" font-family=\"sans-serif\" font-size=\"12\" lengthAdjust=\"spacingAndGlyphs\" textLength=\"22\" x=\"448\" y=\"114.1074\">x: A</text><line style=\"stroke: #383838; stroke-width: 1.5;\" x1=\"439\" x2=\"479\" y1=\"121.9375\" y2=\"121.9375\"/></a><!--MD5=[ee3c913d1a06f366521f9ef512b67efe]\n",
       "class E13--><a href=\"psysml:20c5387a-1627-4e14-8312-6f39b31ab3f7\" target=\"_top\" title=\"psysml:20c5387a-1627-4e14-8312-6f39b31ab3f7\" xlink:actuate=\"onRequest\" xlink:href=\"psysml:20c5387a-1627-4e14-8312-6f39b31ab3f7\" xlink:show=\"new\" xlink:title=\"psysml:20c5387a-1627-4e14-8312-6f39b31ab3f7\" xlink:type=\"simple\"><rect fill=\"#FFFFFF\" height=\"45.9375\" id=\"E13\" rx=\"10\" ry=\"10\" style=\"stroke: #383838; stroke-width: 1.5;\" width=\"42\" x=\"32\" y=\"84\"/><text fill=\"#000000\" font-family=\"sans-serif\" font-size=\"12\" font-style=\"italic\" lengthAdjust=\"spacingAndGlyphs\" textLength=\"40\" x=\"33\" y=\"100.1387\">«part»</text><text fill=\"#000000\" font-family=\"sans-serif\" font-size=\"12\" lengthAdjust=\"spacingAndGlyphs\" textLength=\"22\" x=\"42\" y=\"114.1074\">y: B</text><line style=\"stroke: #383838; stroke-width: 1.5;\" x1=\"33\" x2=\"73\" y1=\"121.9375\" y2=\"121.9375\"/></a><!--MD5=[09b614a08d8cba4a07c9adeb5e0fee81]\n",
       "class E3--><a href=\"psysml:281245e6-0723-4878-ac57-c406fd778909\" target=\"_top\" title=\"psysml:281245e6-0723-4878-ac57-c406fd778909\" xlink:actuate=\"onRequest\" xlink:href=\"psysml:281245e6-0723-4878-ac57-c406fd778909\" xlink:show=\"new\" xlink:title=\"psysml:281245e6-0723-4878-ac57-c406fd778909\" xlink:type=\"simple\"><rect fill=\"#FFFFFF\" height=\"45.9375\" id=\"E3\" style=\"stroke: #383838; stroke-width: 1.5;\" width=\"66\" x=\"349\" y=\"205\"/><text fill=\"#000000\" font-family=\"sans-serif\" font-size=\"12\" font-style=\"italic\" lengthAdjust=\"spacingAndGlyphs\" textLength=\"64\" x=\"350\" y=\"221.1387\">«part def»</text><text fill=\"#000000\" font-family=\"sans-serif\" font-size=\"12\" lengthAdjust=\"spacingAndGlyphs\" textLength=\"8\" x=\"378\" y=\"235.1074\">A</text><line style=\"stroke: #383838; stroke-width: 1.5;\" x1=\"350\" x2=\"414\" y1=\"242.9375\" y2=\"242.9375\"/></a><!--MD5=[270fce915f116d4de14055a7c1d9a0f3]\n",
       "class E5--><a href=\"psysml:57665928-471f-4095-91e2-d839a960cf78\" target=\"_top\" title=\"psysml:57665928-471f-4095-91e2-d839a960cf78\" xlink:actuate=\"onRequest\" xlink:href=\"psysml:57665928-471f-4095-91e2-d839a960cf78\" xlink:show=\"new\" xlink:title=\"psysml:57665928-471f-4095-91e2-d839a960cf78\" xlink:type=\"simple\"><rect fill=\"#FFFFFF\" height=\"45.9375\" id=\"E5\" style=\"stroke: #383838; stroke-width: 1.5;\" width=\"66\" x=\"97\" y=\"205\"/><text fill=\"#000000\" font-family=\"sans-serif\" font-size=\"12\" font-style=\"italic\" lengthAdjust=\"spacingAndGlyphs\" textLength=\"64\" x=\"98\" y=\"221.1387\">«part def»</text><text fill=\"#000000\" font-family=\"sans-serif\" font-size=\"12\" lengthAdjust=\"spacingAndGlyphs\" textLength=\"8\" x=\"126\" y=\"235.1074\">B</text><line style=\"stroke: #383838; stroke-width: 1.5;\" x1=\"98\" x2=\"162\" y1=\"242.9375\" y2=\"242.9375\"/></a><!--MD5=[2156ba9850f5573cc1fc38a6a4b2f02b]\n",
       "class E7--><a href=\"psysml:d6e39b1a-8a39-4c69-85ab-aa8551443e08\" target=\"_top\" title=\"psysml:d6e39b1a-8a39-4c69-85ab-aa8551443e08\" xlink:actuate=\"onRequest\" xlink:href=\"psysml:d6e39b1a-8a39-4c69-85ab-aa8551443e08\" xlink:show=\"new\" xlink:title=\"psysml:d6e39b1a-8a39-4c69-85ab-aa8551443e08\" xlink:type=\"simple\"><rect fill=\"#FFFFFF\" height=\"45.9375\" id=\"E7\" rx=\"10\" ry=\"10\" style=\"stroke: #383838; stroke-width: 1.5;\" width=\"42\" x=\"361\" y=\"84\"/><text fill=\"#000000\" font-family=\"sans-serif\" font-size=\"12\" font-style=\"italic\" lengthAdjust=\"spacingAndGlyphs\" textLength=\"40\" x=\"362\" y=\"100.1387\">«part»</text><text fill=\"#000000\" font-family=\"sans-serif\" font-size=\"12\" lengthAdjust=\"spacingAndGlyphs\" textLength=\"22\" x=\"371\" y=\"114.1074\">x: A</text><line style=\"stroke: #383838; stroke-width: 1.5;\" x1=\"362\" x2=\"402\" y1=\"121.9375\" y2=\"121.9375\"/></a><!--MD5=[b9389687b975829384b498ac4b7476b2]\n",
       "class E8--><a href=\"psysml:ead6e64d-b294-4a2d-a1d8-90d3751f1490\" target=\"_top\" title=\"psysml:ead6e64d-b294-4a2d-a1d8-90d3751f1490\" xlink:actuate=\"onRequest\" xlink:href=\"psysml:ead6e64d-b294-4a2d-a1d8-90d3751f1490\" xlink:show=\"new\" xlink:title=\"psysml:ead6e64d-b294-4a2d-a1d8-90d3751f1490\" xlink:type=\"simple\"><rect fill=\"#FFFFFF\" height=\"45.9375\" id=\"E8\" rx=\"10\" ry=\"10\" style=\"stroke: #383838; stroke-width: 1.5;\" width=\"42\" x=\"284\" y=\"84\"/><text fill=\"#000000\" font-family=\"sans-serif\" font-size=\"12\" font-style=\"italic\" lengthAdjust=\"spacingAndGlyphs\" textLength=\"40\" x=\"285\" y=\"100.1387\">«part»</text><text fill=\"#000000\" font-family=\"sans-serif\" font-size=\"12\" lengthAdjust=\"spacingAndGlyphs\" textLength=\"22\" x=\"294\" y=\"114.1074\">y: B</text><line style=\"stroke: #383838; stroke-width: 1.5;\" x1=\"285\" x2=\"325\" y1=\"121.9375\" y2=\"121.9375\"/></a><!--MD5=[96f4274e9e20536e775497830990834d]\n",
       "class E10--><a href=\"psysml:f3cb1211-10b9-411e-bf19-d5722693e1fe\" target=\"_top\" title=\"psysml:f3cb1211-10b9-411e-bf19-d5722693e1fe\" xlink:actuate=\"onRequest\" xlink:href=\"psysml:f3cb1211-10b9-411e-bf19-d5722693e1fe\" xlink:show=\"new\" xlink:title=\"psysml:f3cb1211-10b9-411e-bf19-d5722693e1fe\" xlink:type=\"simple\"><rect fill=\"#FFFFFF\" height=\"45.9375\" id=\"E10\" rx=\"10\" ry=\"10\" style=\"stroke: #383838; stroke-width: 1.5;\" width=\"42\" x=\"186\" y=\"84\"/><text fill=\"#000000\" font-family=\"sans-serif\" font-size=\"12\" font-style=\"italic\" lengthAdjust=\"spacingAndGlyphs\" textLength=\"40\" x=\"187\" y=\"100.1387\">«part»</text><text fill=\"#000000\" font-family=\"sans-serif\" font-size=\"12\" lengthAdjust=\"spacingAndGlyphs\" textLength=\"22\" x=\"196\" y=\"114.1074\">x: A</text><line style=\"stroke: #383838; stroke-width: 1.5;\" x1=\"187\" x2=\"227\" y1=\"121.9375\" y2=\"121.9375\"/></a><!--MD5=[1dd1bfd58a279cf63c5f349dbc8fc6a1]\n",
       "class E11--><a href=\"psysml:9cdccab4-e502-4fbe-97eb-9b231d825ffa\" target=\"_top\" title=\"psysml:9cdccab4-e502-4fbe-97eb-9b231d825ffa\" xlink:actuate=\"onRequest\" xlink:href=\"psysml:9cdccab4-e502-4fbe-97eb-9b231d825ffa\" xlink:show=\"new\" xlink:title=\"psysml:9cdccab4-e502-4fbe-97eb-9b231d825ffa\" xlink:type=\"simple\"><rect fill=\"#FFFFFF\" height=\"45.9375\" id=\"E11\" rx=\"10\" ry=\"10\" style=\"stroke: #383838; stroke-width: 1.5;\" width=\"42\" x=\"109\" y=\"84\"/><text fill=\"#000000\" font-family=\"sans-serif\" font-size=\"12\" font-style=\"italic\" lengthAdjust=\"spacingAndGlyphs\" textLength=\"40\" x=\"110\" y=\"100.1387\">«part»</text><text fill=\"#000000\" font-family=\"sans-serif\" font-size=\"12\" lengthAdjust=\"spacingAndGlyphs\" textLength=\"22\" x=\"119\" y=\"114.1074\">y: B</text><line style=\"stroke: #383838; stroke-width: 1.5;\" x1=\"110\" x2=\"150\" y1=\"121.9375\" y2=\"121.9375\"/></a><!--MD5=[14ccda38c055a5c0da953d572bc50960]\n",
       "link E7 to E3--><a href=\"psysml:84278f38-d400-4655-8657-76a37dd9bb09\" target=\"_top\" title=\"psysml:84278f38-d400-4655-8657-76a37dd9bb09\" xlink:actuate=\"onRequest\" xlink:href=\"psysml:84278f38-d400-4655-8657-76a37dd9bb09\" xlink:show=\"new\" xlink:title=\"psysml:84278f38-d400-4655-8657-76a37dd9bb09\" xlink:type=\"simple\"><path d=\"M382,130.1 C382,145.37 382,166.16 382,184.57 \" fill=\"none\" id=\"E7-&gt;E3\" style=\"stroke: #383838; stroke-width: 1.0;\"/><polygon fill=\"#FFFFFF\" points=\"382,204.61,375,185.61,389,185.61,382,204.61\" style=\"stroke: #383838; stroke-width: 1.0;\"/><ellipse cx=\"377\" cy=\"179.91\" fill=\"#383838\" rx=\"2\" ry=\"2\" style=\"stroke: #383838; stroke-width: 1.0;\"/><ellipse cx=\"387\" cy=\"179.91\" fill=\"#383838\" rx=\"2\" ry=\"2\" style=\"stroke: #383838; stroke-width: 1.0;\"/></a><!--MD5=[1ccb2481ffa92f8d51a74ee30c51832a]\n",
       "link E8 to E5--><a href=\"psysml:9a62fcce-aa5a-49d2-8cac-0b2f538e5bd0\" target=\"_top\" title=\"psysml:9a62fcce-aa5a-49d2-8cac-0b2f538e5bd0\" xlink:actuate=\"onRequest\" xlink:href=\"psysml:9a62fcce-aa5a-49d2-8cac-0b2f538e5bd0\" xlink:show=\"new\" xlink:title=\"psysml:9a62fcce-aa5a-49d2-8cac-0b2f538e5bd0\" xlink:type=\"simple\"><path d=\"M283.67,124.09 C266.07,137.35 244,154 244,154 C244,154 210.8,175.26 180.23,194.83 \" fill=\"none\" id=\"E8-&gt;E5\" style=\"stroke: #383838; stroke-width: 1.0;\"/><polygon fill=\"#FFFFFF\" points=\"163.28,205.69,175.5055,189.5488,183.0554,201.3386,163.28,205.69\" style=\"stroke: #383838; stroke-width: 1.0;\"/><ellipse cx=\"181.3842\" cy=\"188.1592\" fill=\"#383838\" rx=\"2\" ry=\"2\" style=\"stroke: #383838; stroke-width: 1.0;\"/><ellipse cx=\"186.777\" cy=\"196.5805\" fill=\"#383838\" rx=\"2\" ry=\"2\" style=\"stroke: #383838; stroke-width: 1.0;\"/></a><!--MD5=[feeac5eb423634930294aa81f2d25a4c]\n",
       "link E10 to E3--><a href=\"psysml:bd7260c7-b55a-4391-86f8-9493bae3bcdc\" target=\"_top\" title=\"psysml:bd7260c7-b55a-4391-86f8-9493bae3bcdc\" xlink:actuate=\"onRequest\" xlink:href=\"psysml:bd7260c7-b55a-4391-86f8-9493bae3bcdc\" xlink:show=\"new\" xlink:title=\"psysml:bd7260c7-b55a-4391-86f8-9493bae3bcdc\" xlink:type=\"simple\"><path d=\"M228.33,124.09 C245.93,137.35 268,154 268,154 C268,154 301.2,175.26 331.77,194.83 \" fill=\"none\" id=\"E10-&gt;E3\" style=\"stroke: #383838; stroke-width: 1.0;\"/><polygon fill=\"#FFFFFF\" points=\"348.72,205.69,328.9446,201.3386,336.4945,189.5488,348.72,205.69\" style=\"stroke: #383838; stroke-width: 1.0;\"/><ellipse cx=\"325.223\" cy=\"196.5805\" fill=\"#383838\" rx=\"2\" ry=\"2\" style=\"stroke: #383838; stroke-width: 1.0;\"/><ellipse cx=\"330.6158\" cy=\"188.1592\" fill=\"#383838\" rx=\"2\" ry=\"2\" style=\"stroke: #383838; stroke-width: 1.0;\"/></a><!--MD5=[07b77f6f309248d16187045709d1c26e]\n",
       "link E11 to E5--><a href=\"psysml:099d00ce-a154-42ce-865e-6b31b35a0829\" target=\"_top\" title=\"psysml:099d00ce-a154-42ce-865e-6b31b35a0829\" xlink:actuate=\"onRequest\" xlink:href=\"psysml:099d00ce-a154-42ce-865e-6b31b35a0829\" xlink:show=\"new\" xlink:title=\"psysml:099d00ce-a154-42ce-865e-6b31b35a0829\" xlink:type=\"simple\"><path d=\"M130,130.1 C130,145.37 130,166.16 130,184.57 \" fill=\"none\" id=\"E11-&gt;E5\" style=\"stroke: #383838; stroke-width: 1.0;\"/><polygon fill=\"#FFFFFF\" points=\"130,204.61,123,185.61,137,185.61,130,204.61\" style=\"stroke: #383838; stroke-width: 1.0;\"/><ellipse cx=\"125\" cy=\"179.91\" fill=\"#383838\" rx=\"2\" ry=\"2\" style=\"stroke: #383838; stroke-width: 1.0;\"/><ellipse cx=\"135\" cy=\"179.91\" fill=\"#383838\" rx=\"2\" ry=\"2\" style=\"stroke: #383838; stroke-width: 1.0;\"/></a><!--MD5=[39f41a0e550fb3d73b4d8135617e30a2]\n",
       "link E12 to E3--><a href=\"psysml:2e0d72ae-9b36-4ac2-af7e-1d21d87eecf3\" target=\"_top\" title=\"psysml:2e0d72ae-9b36-4ac2-af7e-1d21d87eecf3\" xlink:actuate=\"onRequest\" xlink:href=\"psysml:2e0d72ae-9b36-4ac2-af7e-1d21d87eecf3\" xlink:show=\"new\" xlink:title=\"psysml:2e0d72ae-9b36-4ac2-af7e-1d21d87eecf3\" xlink:type=\"simple\"><path d=\"M444.7,130.1 C434.28,146.2 419.89,168.44 407.53,187.55 \" fill=\"none\" id=\"E12-&gt;E3\" style=\"stroke: #383838; stroke-width: 1.0;\"/><polygon fill=\"#FFFFFF\" points=\"396.49,204.61,400.9313,184.8546,412.6866,192.4581,396.49,204.61\" style=\"stroke: #383838; stroke-width: 1.0;\"/><ellipse cx=\"405.7063\" cy=\"181.1547\" fill=\"#383838\" rx=\"2\" ry=\"2\" style=\"stroke: #383838; stroke-width: 1.0;\"/><ellipse cx=\"414.103\" cy=\"186.5858\" fill=\"#383838\" rx=\"2\" ry=\"2\" style=\"stroke: #383838; stroke-width: 1.0;\"/></a><!--MD5=[066b2d8af59fea80ccdb3d54ad5c1091]\n",
       "link E13 to E5--><a href=\"psysml:28c76814-e954-4c97-b716-40e2f6813c6b\" target=\"_top\" title=\"psysml:28c76814-e954-4c97-b716-40e2f6813c6b\" xlink:actuate=\"onRequest\" xlink:href=\"psysml:28c76814-e954-4c97-b716-40e2f6813c6b\" xlink:show=\"new\" xlink:title=\"psysml:28c76814-e954-4c97-b716-40e2f6813c6b\" xlink:type=\"simple\"><path d=\"M67.3,130.1 C77.72,146.2 92.11,168.44 104.47,187.55 \" fill=\"none\" id=\"E13-&gt;E5\" style=\"stroke: #383838; stroke-width: 1.0;\"/><polygon fill=\"#FFFFFF\" points=\"115.51,204.61,99.3134,192.4581,111.0687,184.8546,115.51,204.61\" style=\"stroke: #383838; stroke-width: 1.0;\"/><ellipse cx=\"97.897\" cy=\"186.5858\" fill=\"#383838\" rx=\"2\" ry=\"2\" style=\"stroke: #383838; stroke-width: 1.0;\"/><ellipse cx=\"106.2937\" cy=\"181.1547\" fill=\"#383838\" rx=\"2\" ry=\"2\" style=\"stroke: #383838; stroke-width: 1.0;\"/></a><!--MD5=[6467572ff73b4768d6bc5c363ec47def]\n",
       "@startuml\r\n",
       "skinparam linetype polyline\r\n",
       "skinparam monochrome true\r\n",
       "skinparam classbackgroundcolor white\r\n",
       "skinparam shadowing false\r\n",
       "skinparam wrapWidth 300\r\n",
       "hide circle\r\n",
       "\r\n",
       "package \"CircularImport\" as E1  [[psysml:690cd2ec-4fe7-4d94-89bf-c3d63ed60cd3 ]]  {\r\n",
       "package \"P1\" as E2  [[psysml:54e3154d-4fa4-4c14-a367-edca149a76a1 ]]  {\r\n",
       "comp def \"A\" as E3  <<(T,blue)part def>> [[psysml:281245e6-0723-4878-ac57-c406fd778909 ]] {\r\n",
       "}\r\n",
       "}\r\n",
       "package \"P2\" as E4  [[psysml:581c4a9e-fb07-4d80-ac64-c8c7b70027d2 ]]  {\r\n",
       "comp def \"B\" as E5  <<(T,blue)part def>> [[psysml:57665928-471f-4095-91e2-d839a960cf78 ]] {\r\n",
       "}\r\n",
       "}\r\n",
       "package \"Test1\" as E6  [[psysml:6bb49afc-ac2c-47b7-b48e-5bd0a62b326b ]]  {\r\n",
       "comp usage \"x: A\" as E7  <<(T,blue)part>> [[psysml:d6e39b1a-8a39-4c69-85ab-aa8551443e08 ]] {\r\n",
       "}\r\n",
       "comp usage \"y: B\" as E8  <<(T,blue)part>> [[psysml:ead6e64d-b294-4a2d-a1d8-90d3751f1490 ]] {\r\n",
       "}\r\n",
       "E7 - -:|> E3 [[psysml:84278f38-d400-4655-8657-76a37dd9bb09 ]] \r\n",
       "E8 - -:|> E5 [[psysml:9a62fcce-aa5a-49d2-8cac-0b2f538e5bd0 ]] \r\n",
       "}\r\n",
       "package \"Test2\" as E9  [[psysml:051bf7cb-81b8-4c37-8865-8bb7ea974985 ]]  {\r\n",
       "comp usage \"x: A\" as E10  <<(T,blue)part>> [[psysml:f3cb1211-10b9-411e-bf19-d5722693e1fe ]] {\r\n",
       "}\r\n",
       "comp usage \"y: B\" as E11  <<(T,blue)part>> [[psysml:9cdccab4-e502-4fbe-97eb-9b231d825ffa ]] {\r\n",
       "}\r\n",
       "E10 - -:|> E3 [[psysml:bd7260c7-b55a-4391-86f8-9493bae3bcdc ]] \r\n",
       "E11 - -:|> E5 [[psysml:099d00ce-a154-42ce-865e-6b31b35a0829 ]] \r\n",
       "}\r\n",
       "comp usage \"x: A\" as E12  <<(T,blue)part>> [[psysml:87edab01-bf58-4e9e-abd1-c8b0194f7dca ]] {\r\n",
       "}\r\n",
       "comp usage \"y: B\" as E13  <<(T,blue)part>> [[psysml:20c5387a-1627-4e14-8312-6f39b31ab3f7 ]] {\r\n",
       "}\r\n",
       "E12 - -:|> E3 [[psysml:2e0d72ae-9b36-4ac2-af7e-1d21d87eecf3 ]] \r\n",
       "E13 - -:|> E5 [[psysml:28c76814-e954-4c97-b716-40e2f6813c6b ]] \r\n",
       "}\r\n",
       "@enduml\r\n",
       "\n",
       "PlantUML version 1.2020.13(Sat Jun 13 12:26:38 UTC 2020)\n",
       "(EPL source distribution)\n",
       "Java Runtime: OpenJDK Runtime Environment\n",
       "JVM: OpenJDK 64-Bit Server VM\n",
       "Default Encoding: UTF-8\n",
       "Language: en\n",
       "Country: null\n",
       "--></g></svg>"
      ]
     },
     "execution_count": 14,
     "metadata": {},
     "output_type": "execute_result"
    }
   ],
   "source": [
    "%viz --style=\"POLYLINE\" --view=\"Sequence\" \"CircularImport\""
   ]
  },
  {
   "cell_type": "code",
   "execution_count": 15,
   "id": "967b5f13",
   "metadata": {
    "execution": {
     "iopub.execute_input": "2021-04-20T06:57:52.537872Z",
     "iopub.status.busy": "2021-04-20T06:57:52.526912Z",
     "iopub.status.idle": "2021-04-20T06:57:52.595263Z",
     "shell.execute_reply": "2021-04-20T06:57:52.593420Z"
    }
   },
   "outputs": [
    {
     "data": {
      "image/svg+xml": [
       "<?xml version=\"1.0\" encoding=\"UTF-8\" standalone=\"no\"?><svg xmlns=\"http://www.w3.org/2000/svg\" xmlns:xlink=\"http://www.w3.org/1999/xlink\" contentScriptType=\"application/ecmascript\" contentStyleType=\"text/css\" height=\"303px\" preserveAspectRatio=\"none\" style=\"width:518px;height:303px;\" version=\"1.1\" viewBox=\"0 0 518 303\" width=\"518px\" zoomAndPan=\"magnify\"><defs/><g><!--MD5=[fbc87193dbaf4d95561dea2c320d4a47]\n",
       "cluster E1--><a href=\"psysml:690cd2ec-4fe7-4d94-89bf-c3d63ed60cd3\" target=\"_top\" title=\"psysml:690cd2ec-4fe7-4d94-89bf-c3d63ed60cd3\" xlink:actuate=\"onRequest\" xlink:href=\"psysml:690cd2ec-4fe7-4d94-89bf-c3d63ed60cd3\" xlink:show=\"new\" xlink:title=\"psysml:690cd2ec-4fe7-4d94-89bf-c3d63ed60cd3\" xlink:type=\"simple\"><polygon fill=\"#FFFFFF\" points=\"16,6,134,6,141,28.2969,496,28.2969,496,291,16,291,16,6\" style=\"stroke: #000000; stroke-width: 1.5;\"/><line style=\"stroke: #000000; stroke-width: 1.5;\" x1=\"16\" x2=\"141\" y1=\"28.2969\" y2=\"28.2969\"/><text fill=\"#000000\" font-family=\"sans-serif\" font-size=\"14\" font-weight=\"bold\" lengthAdjust=\"spacingAndGlyphs\" textLength=\"112\" x=\"20\" y=\"20.9951\">CircularImport</text></a><!--MD5=[e4f7fae6ed58524ba242bb0b0d3be6b7]\n",
       "cluster E2--><a href=\"psysml:54e3154d-4fa4-4c14-a367-edca149a76a1\" target=\"_top\" title=\"psysml:54e3154d-4fa4-4c14-a367-edca149a76a1\" xlink:actuate=\"onRequest\" xlink:href=\"psysml:54e3154d-4fa4-4c14-a367-edca149a76a1\" xlink:show=\"new\" xlink:title=\"psysml:54e3154d-4fa4-4c14-a367-edca149a76a1\" xlink:type=\"simple\"><polygon fill=\"#FFFFFF\" points=\"333,170,359,170,366,192.2969,431,192.2969,431,267,333,267,333,170\" style=\"stroke: #000000; stroke-width: 1.5;\"/><line style=\"stroke: #000000; stroke-width: 1.5;\" x1=\"333\" x2=\"366\" y1=\"192.2969\" y2=\"192.2969\"/><text fill=\"#000000\" font-family=\"sans-serif\" font-size=\"14\" font-weight=\"bold\" lengthAdjust=\"spacingAndGlyphs\" textLength=\"20\" x=\"337\" y=\"184.9951\">P1</text></a><!--MD5=[f6df4d0ebaf0b5dfb2ced0ae5af7c670]\n",
       "cluster E4--><a href=\"psysml:581c4a9e-fb07-4d80-ac64-c8c7b70027d2\" target=\"_top\" title=\"psysml:581c4a9e-fb07-4d80-ac64-c8c7b70027d2\" xlink:actuate=\"onRequest\" xlink:href=\"psysml:581c4a9e-fb07-4d80-ac64-c8c7b70027d2\" xlink:show=\"new\" xlink:title=\"psysml:581c4a9e-fb07-4d80-ac64-c8c7b70027d2\" xlink:type=\"simple\"><polygon fill=\"#FFFFFF\" points=\"81,170,107,170,114,192.2969,179,192.2969,179,267,81,267,81,170\" style=\"stroke: #000000; stroke-width: 1.5;\"/><line style=\"stroke: #000000; stroke-width: 1.5;\" x1=\"81\" x2=\"114\" y1=\"192.2969\" y2=\"192.2969\"/><text fill=\"#000000\" font-family=\"sans-serif\" font-size=\"14\" font-weight=\"bold\" lengthAdjust=\"spacingAndGlyphs\" textLength=\"20\" x=\"85\" y=\"184.9951\">P2</text></a><!--MD5=[14e3b0961a2654348d326746436168a1]\n",
       "cluster E6--><a href=\"psysml:6bb49afc-ac2c-47b7-b48e-5bd0a62b326b\" target=\"_top\" title=\"psysml:6bb49afc-ac2c-47b7-b48e-5bd0a62b326b\" xlink:actuate=\"onRequest\" xlink:href=\"psysml:6bb49afc-ac2c-47b7-b48e-5bd0a62b326b\" xlink:show=\"new\" xlink:title=\"psysml:6bb49afc-ac2c-47b7-b48e-5bd0a62b326b\" xlink:type=\"simple\"><polygon fill=\"#FFFFFF\" points=\"268,49,319,49,326,71.2969,419,71.2969,419,146,268,146,268,49\" style=\"stroke: #000000; stroke-width: 1.5;\"/><line style=\"stroke: #000000; stroke-width: 1.5;\" x1=\"268\" x2=\"326\" y1=\"71.2969\" y2=\"71.2969\"/><text fill=\"#000000\" font-family=\"sans-serif\" font-size=\"14\" font-weight=\"bold\" lengthAdjust=\"spacingAndGlyphs\" textLength=\"45\" x=\"272\" y=\"63.9951\">Test1</text></a><!--MD5=[7f149f147074ac12df2cb0a7728a5fb0]\n",
       "cluster E9--><a href=\"psysml:051bf7cb-81b8-4c37-8865-8bb7ea974985\" target=\"_top\" title=\"psysml:051bf7cb-81b8-4c37-8865-8bb7ea974985\" xlink:actuate=\"onRequest\" xlink:href=\"psysml:051bf7cb-81b8-4c37-8865-8bb7ea974985\" xlink:show=\"new\" xlink:title=\"psysml:051bf7cb-81b8-4c37-8865-8bb7ea974985\" xlink:type=\"simple\"><polygon fill=\"#FFFFFF\" points=\"93,49,144,49,151,71.2969,244,71.2969,244,146,93,146,93,49\" style=\"stroke: #000000; stroke-width: 1.5;\"/><line style=\"stroke: #000000; stroke-width: 1.5;\" x1=\"93\" x2=\"151\" y1=\"71.2969\" y2=\"71.2969\"/><text fill=\"#000000\" font-family=\"sans-serif\" font-size=\"14\" font-weight=\"bold\" lengthAdjust=\"spacingAndGlyphs\" textLength=\"45\" x=\"97\" y=\"63.9951\">Test2</text></a><!--MD5=[49a0ec8f00dab7302a31f22d0f0fe584]\n",
       "class E12--><a href=\"psysml:87edab01-bf58-4e9e-abd1-c8b0194f7dca\" target=\"_top\" title=\"psysml:87edab01-bf58-4e9e-abd1-c8b0194f7dca\" xlink:actuate=\"onRequest\" xlink:href=\"psysml:87edab01-bf58-4e9e-abd1-c8b0194f7dca\" xlink:show=\"new\" xlink:title=\"psysml:87edab01-bf58-4e9e-abd1-c8b0194f7dca\" xlink:type=\"simple\"><rect fill=\"#FFFFFF\" height=\"45.9375\" id=\"E12\" rx=\"10\" ry=\"10\" style=\"stroke: #383838; stroke-width: 1.5;\" width=\"42\" x=\"438\" y=\"84\"/><text fill=\"#000000\" font-family=\"sans-serif\" font-size=\"12\" font-style=\"italic\" lengthAdjust=\"spacingAndGlyphs\" textLength=\"40\" x=\"439\" y=\"100.1387\">«part»</text><text fill=\"#000000\" font-family=\"sans-serif\" font-size=\"12\" lengthAdjust=\"spacingAndGlyphs\" textLength=\"22\" x=\"448\" y=\"114.1074\">x: A</text><line style=\"stroke: #383838; stroke-width: 1.5;\" x1=\"439\" x2=\"479\" y1=\"121.9375\" y2=\"121.9375\"/></a><!--MD5=[ee3c913d1a06f366521f9ef512b67efe]\n",
       "class E13--><a href=\"psysml:20c5387a-1627-4e14-8312-6f39b31ab3f7\" target=\"_top\" title=\"psysml:20c5387a-1627-4e14-8312-6f39b31ab3f7\" xlink:actuate=\"onRequest\" xlink:href=\"psysml:20c5387a-1627-4e14-8312-6f39b31ab3f7\" xlink:show=\"new\" xlink:title=\"psysml:20c5387a-1627-4e14-8312-6f39b31ab3f7\" xlink:type=\"simple\"><rect fill=\"#FFFFFF\" height=\"45.9375\" id=\"E13\" rx=\"10\" ry=\"10\" style=\"stroke: #383838; stroke-width: 1.5;\" width=\"42\" x=\"32\" y=\"84\"/><text fill=\"#000000\" font-family=\"sans-serif\" font-size=\"12\" font-style=\"italic\" lengthAdjust=\"spacingAndGlyphs\" textLength=\"40\" x=\"33\" y=\"100.1387\">«part»</text><text fill=\"#000000\" font-family=\"sans-serif\" font-size=\"12\" lengthAdjust=\"spacingAndGlyphs\" textLength=\"22\" x=\"42\" y=\"114.1074\">y: B</text><line style=\"stroke: #383838; stroke-width: 1.5;\" x1=\"33\" x2=\"73\" y1=\"121.9375\" y2=\"121.9375\"/></a><!--MD5=[09b614a08d8cba4a07c9adeb5e0fee81]\n",
       "class E3--><a href=\"psysml:281245e6-0723-4878-ac57-c406fd778909\" target=\"_top\" title=\"psysml:281245e6-0723-4878-ac57-c406fd778909\" xlink:actuate=\"onRequest\" xlink:href=\"psysml:281245e6-0723-4878-ac57-c406fd778909\" xlink:show=\"new\" xlink:title=\"psysml:281245e6-0723-4878-ac57-c406fd778909\" xlink:type=\"simple\"><rect fill=\"#FFFFFF\" height=\"45.9375\" id=\"E3\" style=\"stroke: #383838; stroke-width: 1.5;\" width=\"66\" x=\"349\" y=\"205\"/><text fill=\"#000000\" font-family=\"sans-serif\" font-size=\"12\" font-style=\"italic\" lengthAdjust=\"spacingAndGlyphs\" textLength=\"64\" x=\"350\" y=\"221.1387\">«part def»</text><text fill=\"#000000\" font-family=\"sans-serif\" font-size=\"12\" lengthAdjust=\"spacingAndGlyphs\" textLength=\"8\" x=\"378\" y=\"235.1074\">A</text><line style=\"stroke: #383838; stroke-width: 1.5;\" x1=\"350\" x2=\"414\" y1=\"242.9375\" y2=\"242.9375\"/></a><!--MD5=[270fce915f116d4de14055a7c1d9a0f3]\n",
       "class E5--><a href=\"psysml:57665928-471f-4095-91e2-d839a960cf78\" target=\"_top\" title=\"psysml:57665928-471f-4095-91e2-d839a960cf78\" xlink:actuate=\"onRequest\" xlink:href=\"psysml:57665928-471f-4095-91e2-d839a960cf78\" xlink:show=\"new\" xlink:title=\"psysml:57665928-471f-4095-91e2-d839a960cf78\" xlink:type=\"simple\"><rect fill=\"#FFFFFF\" height=\"45.9375\" id=\"E5\" style=\"stroke: #383838; stroke-width: 1.5;\" width=\"66\" x=\"97\" y=\"205\"/><text fill=\"#000000\" font-family=\"sans-serif\" font-size=\"12\" font-style=\"italic\" lengthAdjust=\"spacingAndGlyphs\" textLength=\"64\" x=\"98\" y=\"221.1387\">«part def»</text><text fill=\"#000000\" font-family=\"sans-serif\" font-size=\"12\" lengthAdjust=\"spacingAndGlyphs\" textLength=\"8\" x=\"126\" y=\"235.1074\">B</text><line style=\"stroke: #383838; stroke-width: 1.5;\" x1=\"98\" x2=\"162\" y1=\"242.9375\" y2=\"242.9375\"/></a><!--MD5=[2156ba9850f5573cc1fc38a6a4b2f02b]\n",
       "class E7--><a href=\"psysml:d6e39b1a-8a39-4c69-85ab-aa8551443e08\" target=\"_top\" title=\"psysml:d6e39b1a-8a39-4c69-85ab-aa8551443e08\" xlink:actuate=\"onRequest\" xlink:href=\"psysml:d6e39b1a-8a39-4c69-85ab-aa8551443e08\" xlink:show=\"new\" xlink:title=\"psysml:d6e39b1a-8a39-4c69-85ab-aa8551443e08\" xlink:type=\"simple\"><rect fill=\"#FFFFFF\" height=\"45.9375\" id=\"E7\" rx=\"10\" ry=\"10\" style=\"stroke: #383838; stroke-width: 1.5;\" width=\"42\" x=\"361\" y=\"84\"/><text fill=\"#000000\" font-family=\"sans-serif\" font-size=\"12\" font-style=\"italic\" lengthAdjust=\"spacingAndGlyphs\" textLength=\"40\" x=\"362\" y=\"100.1387\">«part»</text><text fill=\"#000000\" font-family=\"sans-serif\" font-size=\"12\" lengthAdjust=\"spacingAndGlyphs\" textLength=\"22\" x=\"371\" y=\"114.1074\">x: A</text><line style=\"stroke: #383838; stroke-width: 1.5;\" x1=\"362\" x2=\"402\" y1=\"121.9375\" y2=\"121.9375\"/></a><!--MD5=[b9389687b975829384b498ac4b7476b2]\n",
       "class E8--><a href=\"psysml:ead6e64d-b294-4a2d-a1d8-90d3751f1490\" target=\"_top\" title=\"psysml:ead6e64d-b294-4a2d-a1d8-90d3751f1490\" xlink:actuate=\"onRequest\" xlink:href=\"psysml:ead6e64d-b294-4a2d-a1d8-90d3751f1490\" xlink:show=\"new\" xlink:title=\"psysml:ead6e64d-b294-4a2d-a1d8-90d3751f1490\" xlink:type=\"simple\"><rect fill=\"#FFFFFF\" height=\"45.9375\" id=\"E8\" rx=\"10\" ry=\"10\" style=\"stroke: #383838; stroke-width: 1.5;\" width=\"42\" x=\"284\" y=\"84\"/><text fill=\"#000000\" font-family=\"sans-serif\" font-size=\"12\" font-style=\"italic\" lengthAdjust=\"spacingAndGlyphs\" textLength=\"40\" x=\"285\" y=\"100.1387\">«part»</text><text fill=\"#000000\" font-family=\"sans-serif\" font-size=\"12\" lengthAdjust=\"spacingAndGlyphs\" textLength=\"22\" x=\"294\" y=\"114.1074\">y: B</text><line style=\"stroke: #383838; stroke-width: 1.5;\" x1=\"285\" x2=\"325\" y1=\"121.9375\" y2=\"121.9375\"/></a><!--MD5=[96f4274e9e20536e775497830990834d]\n",
       "class E10--><a href=\"psysml:f3cb1211-10b9-411e-bf19-d5722693e1fe\" target=\"_top\" title=\"psysml:f3cb1211-10b9-411e-bf19-d5722693e1fe\" xlink:actuate=\"onRequest\" xlink:href=\"psysml:f3cb1211-10b9-411e-bf19-d5722693e1fe\" xlink:show=\"new\" xlink:title=\"psysml:f3cb1211-10b9-411e-bf19-d5722693e1fe\" xlink:type=\"simple\"><rect fill=\"#FFFFFF\" height=\"45.9375\" id=\"E10\" rx=\"10\" ry=\"10\" style=\"stroke: #383838; stroke-width: 1.5;\" width=\"42\" x=\"186\" y=\"84\"/><text fill=\"#000000\" font-family=\"sans-serif\" font-size=\"12\" font-style=\"italic\" lengthAdjust=\"spacingAndGlyphs\" textLength=\"40\" x=\"187\" y=\"100.1387\">«part»</text><text fill=\"#000000\" font-family=\"sans-serif\" font-size=\"12\" lengthAdjust=\"spacingAndGlyphs\" textLength=\"22\" x=\"196\" y=\"114.1074\">x: A</text><line style=\"stroke: #383838; stroke-width: 1.5;\" x1=\"187\" x2=\"227\" y1=\"121.9375\" y2=\"121.9375\"/></a><!--MD5=[1dd1bfd58a279cf63c5f349dbc8fc6a1]\n",
       "class E11--><a href=\"psysml:9cdccab4-e502-4fbe-97eb-9b231d825ffa\" target=\"_top\" title=\"psysml:9cdccab4-e502-4fbe-97eb-9b231d825ffa\" xlink:actuate=\"onRequest\" xlink:href=\"psysml:9cdccab4-e502-4fbe-97eb-9b231d825ffa\" xlink:show=\"new\" xlink:title=\"psysml:9cdccab4-e502-4fbe-97eb-9b231d825ffa\" xlink:type=\"simple\"><rect fill=\"#FFFFFF\" height=\"45.9375\" id=\"E11\" rx=\"10\" ry=\"10\" style=\"stroke: #383838; stroke-width: 1.5;\" width=\"42\" x=\"109\" y=\"84\"/><text fill=\"#000000\" font-family=\"sans-serif\" font-size=\"12\" font-style=\"italic\" lengthAdjust=\"spacingAndGlyphs\" textLength=\"40\" x=\"110\" y=\"100.1387\">«part»</text><text fill=\"#000000\" font-family=\"sans-serif\" font-size=\"12\" lengthAdjust=\"spacingAndGlyphs\" textLength=\"22\" x=\"119\" y=\"114.1074\">y: B</text><line style=\"stroke: #383838; stroke-width: 1.5;\" x1=\"110\" x2=\"150\" y1=\"121.9375\" y2=\"121.9375\"/></a><!--MD5=[14ccda38c055a5c0da953d572bc50960]\n",
       "link E7 to E3--><a href=\"psysml:84278f38-d400-4655-8657-76a37dd9bb09\" target=\"_top\" title=\"psysml:84278f38-d400-4655-8657-76a37dd9bb09\" xlink:actuate=\"onRequest\" xlink:href=\"psysml:84278f38-d400-4655-8657-76a37dd9bb09\" xlink:show=\"new\" xlink:title=\"psysml:84278f38-d400-4655-8657-76a37dd9bb09\" xlink:type=\"simple\"><path d=\"M382,130.1 C382,145.37 382,166.16 382,184.57 \" fill=\"none\" id=\"E7-&gt;E3\" style=\"stroke: #383838; stroke-width: 1.0;\"/><polygon fill=\"#FFFFFF\" points=\"382,204.61,375,185.61,389,185.61,382,204.61\" style=\"stroke: #383838; stroke-width: 1.0;\"/><ellipse cx=\"377\" cy=\"179.91\" fill=\"#383838\" rx=\"2\" ry=\"2\" style=\"stroke: #383838; stroke-width: 1.0;\"/><ellipse cx=\"387\" cy=\"179.91\" fill=\"#383838\" rx=\"2\" ry=\"2\" style=\"stroke: #383838; stroke-width: 1.0;\"/></a><!--MD5=[1ccb2481ffa92f8d51a74ee30c51832a]\n",
       "link E8 to E5--><a href=\"psysml:9a62fcce-aa5a-49d2-8cac-0b2f538e5bd0\" target=\"_top\" title=\"psysml:9a62fcce-aa5a-49d2-8cac-0b2f538e5bd0\" xlink:actuate=\"onRequest\" xlink:href=\"psysml:9a62fcce-aa5a-49d2-8cac-0b2f538e5bd0\" xlink:show=\"new\" xlink:title=\"psysml:9a62fcce-aa5a-49d2-8cac-0b2f538e5bd0\" xlink:type=\"simple\"><path d=\"M283.67,124.09 C266.07,137.35 244,154 244,154 C244,154 210.8,175.26 180.23,194.83 \" fill=\"none\" id=\"E8-&gt;E5\" style=\"stroke: #383838; stroke-width: 1.0;\"/><polygon fill=\"#FFFFFF\" points=\"163.28,205.69,175.5055,189.5488,183.0554,201.3386,163.28,205.69\" style=\"stroke: #383838; stroke-width: 1.0;\"/><ellipse cx=\"181.3842\" cy=\"188.1592\" fill=\"#383838\" rx=\"2\" ry=\"2\" style=\"stroke: #383838; stroke-width: 1.0;\"/><ellipse cx=\"186.777\" cy=\"196.5805\" fill=\"#383838\" rx=\"2\" ry=\"2\" style=\"stroke: #383838; stroke-width: 1.0;\"/></a><!--MD5=[feeac5eb423634930294aa81f2d25a4c]\n",
       "link E10 to E3--><a href=\"psysml:bd7260c7-b55a-4391-86f8-9493bae3bcdc\" target=\"_top\" title=\"psysml:bd7260c7-b55a-4391-86f8-9493bae3bcdc\" xlink:actuate=\"onRequest\" xlink:href=\"psysml:bd7260c7-b55a-4391-86f8-9493bae3bcdc\" xlink:show=\"new\" xlink:title=\"psysml:bd7260c7-b55a-4391-86f8-9493bae3bcdc\" xlink:type=\"simple\"><path d=\"M228.33,124.09 C245.93,137.35 268,154 268,154 C268,154 301.2,175.26 331.77,194.83 \" fill=\"none\" id=\"E10-&gt;E3\" style=\"stroke: #383838; stroke-width: 1.0;\"/><polygon fill=\"#FFFFFF\" points=\"348.72,205.69,328.9446,201.3386,336.4945,189.5488,348.72,205.69\" style=\"stroke: #383838; stroke-width: 1.0;\"/><ellipse cx=\"325.223\" cy=\"196.5805\" fill=\"#383838\" rx=\"2\" ry=\"2\" style=\"stroke: #383838; stroke-width: 1.0;\"/><ellipse cx=\"330.6158\" cy=\"188.1592\" fill=\"#383838\" rx=\"2\" ry=\"2\" style=\"stroke: #383838; stroke-width: 1.0;\"/></a><!--MD5=[07b77f6f309248d16187045709d1c26e]\n",
       "link E11 to E5--><a href=\"psysml:099d00ce-a154-42ce-865e-6b31b35a0829\" target=\"_top\" title=\"psysml:099d00ce-a154-42ce-865e-6b31b35a0829\" xlink:actuate=\"onRequest\" xlink:href=\"psysml:099d00ce-a154-42ce-865e-6b31b35a0829\" xlink:show=\"new\" xlink:title=\"psysml:099d00ce-a154-42ce-865e-6b31b35a0829\" xlink:type=\"simple\"><path d=\"M130,130.1 C130,145.37 130,166.16 130,184.57 \" fill=\"none\" id=\"E11-&gt;E5\" style=\"stroke: #383838; stroke-width: 1.0;\"/><polygon fill=\"#FFFFFF\" points=\"130,204.61,123,185.61,137,185.61,130,204.61\" style=\"stroke: #383838; stroke-width: 1.0;\"/><ellipse cx=\"125\" cy=\"179.91\" fill=\"#383838\" rx=\"2\" ry=\"2\" style=\"stroke: #383838; stroke-width: 1.0;\"/><ellipse cx=\"135\" cy=\"179.91\" fill=\"#383838\" rx=\"2\" ry=\"2\" style=\"stroke: #383838; stroke-width: 1.0;\"/></a><!--MD5=[39f41a0e550fb3d73b4d8135617e30a2]\n",
       "link E12 to E3--><a href=\"psysml:2e0d72ae-9b36-4ac2-af7e-1d21d87eecf3\" target=\"_top\" title=\"psysml:2e0d72ae-9b36-4ac2-af7e-1d21d87eecf3\" xlink:actuate=\"onRequest\" xlink:href=\"psysml:2e0d72ae-9b36-4ac2-af7e-1d21d87eecf3\" xlink:show=\"new\" xlink:title=\"psysml:2e0d72ae-9b36-4ac2-af7e-1d21d87eecf3\" xlink:type=\"simple\"><path d=\"M444.7,130.1 C434.28,146.2 419.89,168.44 407.53,187.55 \" fill=\"none\" id=\"E12-&gt;E3\" style=\"stroke: #383838; stroke-width: 1.0;\"/><polygon fill=\"#FFFFFF\" points=\"396.49,204.61,400.9313,184.8546,412.6866,192.4581,396.49,204.61\" style=\"stroke: #383838; stroke-width: 1.0;\"/><ellipse cx=\"405.7063\" cy=\"181.1547\" fill=\"#383838\" rx=\"2\" ry=\"2\" style=\"stroke: #383838; stroke-width: 1.0;\"/><ellipse cx=\"414.103\" cy=\"186.5858\" fill=\"#383838\" rx=\"2\" ry=\"2\" style=\"stroke: #383838; stroke-width: 1.0;\"/></a><!--MD5=[066b2d8af59fea80ccdb3d54ad5c1091]\n",
       "link E13 to E5--><a href=\"psysml:28c76814-e954-4c97-b716-40e2f6813c6b\" target=\"_top\" title=\"psysml:28c76814-e954-4c97-b716-40e2f6813c6b\" xlink:actuate=\"onRequest\" xlink:href=\"psysml:28c76814-e954-4c97-b716-40e2f6813c6b\" xlink:show=\"new\" xlink:title=\"psysml:28c76814-e954-4c97-b716-40e2f6813c6b\" xlink:type=\"simple\"><path d=\"M67.3,130.1 C77.72,146.2 92.11,168.44 104.47,187.55 \" fill=\"none\" id=\"E13-&gt;E5\" style=\"stroke: #383838; stroke-width: 1.0;\"/><polygon fill=\"#FFFFFF\" points=\"115.51,204.61,99.3134,192.4581,111.0687,184.8546,115.51,204.61\" style=\"stroke: #383838; stroke-width: 1.0;\"/><ellipse cx=\"97.897\" cy=\"186.5858\" fill=\"#383838\" rx=\"2\" ry=\"2\" style=\"stroke: #383838; stroke-width: 1.0;\"/><ellipse cx=\"106.2937\" cy=\"181.1547\" fill=\"#383838\" rx=\"2\" ry=\"2\" style=\"stroke: #383838; stroke-width: 1.0;\"/></a><!--MD5=[6467572ff73b4768d6bc5c363ec47def]\n",
       "@startuml\r\n",
       "skinparam linetype polyline\r\n",
       "skinparam monochrome true\r\n",
       "skinparam classbackgroundcolor white\r\n",
       "skinparam shadowing false\r\n",
       "skinparam wrapWidth 300\r\n",
       "hide circle\r\n",
       "\r\n",
       "package \"CircularImport\" as E1  [[psysml:690cd2ec-4fe7-4d94-89bf-c3d63ed60cd3 ]]  {\r\n",
       "package \"P1\" as E2  [[psysml:54e3154d-4fa4-4c14-a367-edca149a76a1 ]]  {\r\n",
       "comp def \"A\" as E3  <<(T,blue)part def>> [[psysml:281245e6-0723-4878-ac57-c406fd778909 ]] {\r\n",
       "}\r\n",
       "}\r\n",
       "package \"P2\" as E4  [[psysml:581c4a9e-fb07-4d80-ac64-c8c7b70027d2 ]]  {\r\n",
       "comp def \"B\" as E5  <<(T,blue)part def>> [[psysml:57665928-471f-4095-91e2-d839a960cf78 ]] {\r\n",
       "}\r\n",
       "}\r\n",
       "package \"Test1\" as E6  [[psysml:6bb49afc-ac2c-47b7-b48e-5bd0a62b326b ]]  {\r\n",
       "comp usage \"x: A\" as E7  <<(T,blue)part>> [[psysml:d6e39b1a-8a39-4c69-85ab-aa8551443e08 ]] {\r\n",
       "}\r\n",
       "comp usage \"y: B\" as E8  <<(T,blue)part>> [[psysml:ead6e64d-b294-4a2d-a1d8-90d3751f1490 ]] {\r\n",
       "}\r\n",
       "E7 - -:|> E3 [[psysml:84278f38-d400-4655-8657-76a37dd9bb09 ]] \r\n",
       "E8 - -:|> E5 [[psysml:9a62fcce-aa5a-49d2-8cac-0b2f538e5bd0 ]] \r\n",
       "}\r\n",
       "package \"Test2\" as E9  [[psysml:051bf7cb-81b8-4c37-8865-8bb7ea974985 ]]  {\r\n",
       "comp usage \"x: A\" as E10  <<(T,blue)part>> [[psysml:f3cb1211-10b9-411e-bf19-d5722693e1fe ]] {\r\n",
       "}\r\n",
       "comp usage \"y: B\" as E11  <<(T,blue)part>> [[psysml:9cdccab4-e502-4fbe-97eb-9b231d825ffa ]] {\r\n",
       "}\r\n",
       "E10 - -:|> E3 [[psysml:bd7260c7-b55a-4391-86f8-9493bae3bcdc ]] \r\n",
       "E11 - -:|> E5 [[psysml:099d00ce-a154-42ce-865e-6b31b35a0829 ]] \r\n",
       "}\r\n",
       "comp usage \"x: A\" as E12  <<(T,blue)part>> [[psysml:87edab01-bf58-4e9e-abd1-c8b0194f7dca ]] {\r\n",
       "}\r\n",
       "comp usage \"y: B\" as E13  <<(T,blue)part>> [[psysml:20c5387a-1627-4e14-8312-6f39b31ab3f7 ]] {\r\n",
       "}\r\n",
       "E12 - -:|> E3 [[psysml:2e0d72ae-9b36-4ac2-af7e-1d21d87eecf3 ]] \r\n",
       "E13 - -:|> E5 [[psysml:28c76814-e954-4c97-b716-40e2f6813c6b ]] \r\n",
       "}\r\n",
       "@enduml\r\n",
       "\n",
       "PlantUML version 1.2020.13(Sat Jun 13 12:26:38 UTC 2020)\n",
       "(EPL source distribution)\n",
       "Java Runtime: OpenJDK Runtime Environment\n",
       "JVM: OpenJDK 64-Bit Server VM\n",
       "Default Encoding: UTF-8\n",
       "Language: en\n",
       "Country: null\n",
       "--></g></svg>"
      ]
     },
     "execution_count": 15,
     "metadata": {},
     "output_type": "execute_result"
    }
   ],
   "source": [
    "%viz --style=\"POLYLINE\" --view=\"MIXED\" \"CircularImport\""
   ]
  },
  {
   "cell_type": "code",
   "execution_count": 16,
   "id": "847ec669",
   "metadata": {
    "execution": {
     "iopub.execute_input": "2021-04-20T06:57:52.645290Z",
     "iopub.status.busy": "2021-04-20T06:57:52.644854Z",
     "iopub.status.idle": "2021-04-20T06:57:52.694710Z",
     "shell.execute_reply": "2021-04-20T06:57:52.694272Z"
    }
   },
   "outputs": [
    {
     "data": {
      "image/svg+xml": [
       "<?xml version=\"1.0\" encoding=\"UTF-8\" standalone=\"no\"?><svg xmlns=\"http://www.w3.org/2000/svg\" xmlns:xlink=\"http://www.w3.org/1999/xlink\" contentScriptType=\"application/ecmascript\" contentStyleType=\"text/css\" height=\"576px\" preserveAspectRatio=\"none\" style=\"width:286px;height:576px;\" version=\"1.1\" viewBox=\"0 0 286 576\" width=\"286px\" zoomAndPan=\"magnify\"><defs/><g><!--MD5=[fbc87193dbaf4d95561dea2c320d4a47]\n",
       "cluster E1--><a href=\"psysml:690cd2ec-4fe7-4d94-89bf-c3d63ed60cd3\" target=\"_top\" title=\"psysml:690cd2ec-4fe7-4d94-89bf-c3d63ed60cd3\" xlink:actuate=\"onRequest\" xlink:href=\"psysml:690cd2ec-4fe7-4d94-89bf-c3d63ed60cd3\" xlink:show=\"new\" xlink:title=\"psysml:690cd2ec-4fe7-4d94-89bf-c3d63ed60cd3\" xlink:type=\"simple\"><polygon fill=\"#FFFFFF\" points=\"16,6,134,6,141,28.2969,264,28.2969,264,564,16,564,16,6\" style=\"stroke: #000000; stroke-width: 1.5;\"/><line style=\"stroke: #000000; stroke-width: 1.5;\" x1=\"16\" x2=\"141\" y1=\"28.2969\" y2=\"28.2969\"/><text fill=\"#000000\" font-family=\"sans-serif\" font-size=\"14\" font-weight=\"bold\" lengthAdjust=\"spacingAndGlyphs\" textLength=\"112\" x=\"20\" y=\"20.9951\">CircularImport</text></a><!--MD5=[e4f7fae6ed58524ba242bb0b0d3be6b7]\n",
       "cluster E2--><a href=\"psysml:54e3154d-4fa4-4c14-a367-edca149a76a1\" target=\"_top\" title=\"psysml:54e3154d-4fa4-4c14-a367-edca149a76a1\" xlink:actuate=\"onRequest\" xlink:href=\"psysml:54e3154d-4fa4-4c14-a367-edca149a76a1\" xlink:show=\"new\" xlink:title=\"psysml:54e3154d-4fa4-4c14-a367-edca149a76a1\" xlink:type=\"simple\"><polygon fill=\"#FFFFFF\" points=\"142,103,168,103,175,125.2969,240,125.2969,240,200,142,200,142,103\" style=\"stroke: #000000; stroke-width: 1.5;\"/><line style=\"stroke: #000000; stroke-width: 1.5;\" x1=\"142\" x2=\"175\" y1=\"125.2969\" y2=\"125.2969\"/><text fill=\"#000000\" font-family=\"sans-serif\" font-size=\"14\" font-weight=\"bold\" lengthAdjust=\"spacingAndGlyphs\" textLength=\"20\" x=\"146\" y=\"117.9951\">P1</text></a><!--MD5=[f6df4d0ebaf0b5dfb2ced0ae5af7c670]\n",
       "cluster E4--><a href=\"psysml:581c4a9e-fb07-4d80-ac64-c8c7b70027d2\" target=\"_top\" title=\"psysml:581c4a9e-fb07-4d80-ac64-c8c7b70027d2\" xlink:actuate=\"onRequest\" xlink:href=\"psysml:581c4a9e-fb07-4d80-ac64-c8c7b70027d2\" xlink:show=\"new\" xlink:title=\"psysml:581c4a9e-fb07-4d80-ac64-c8c7b70027d2\" xlink:type=\"simple\"><polygon fill=\"#FFFFFF\" points=\"142,386,168,386,175,408.2969,240,408.2969,240,483,142,483,142,386\" style=\"stroke: #000000; stroke-width: 1.5;\"/><line style=\"stroke: #000000; stroke-width: 1.5;\" x1=\"142\" x2=\"175\" y1=\"408.2969\" y2=\"408.2969\"/><text fill=\"#000000\" font-family=\"sans-serif\" font-size=\"14\" font-weight=\"bold\" lengthAdjust=\"spacingAndGlyphs\" textLength=\"20\" x=\"146\" y=\"400.9951\">P2</text></a><!--MD5=[14e3b0961a2654348d326746436168a1]\n",
       "cluster E6--><a href=\"psysml:6bb49afc-ac2c-47b7-b48e-5bd0a62b326b\" target=\"_top\" title=\"psysml:6bb49afc-ac2c-47b7-b48e-5bd0a62b326b\" xlink:actuate=\"onRequest\" xlink:href=\"psysml:6bb49afc-ac2c-47b7-b48e-5bd0a62b326b\" xlink:show=\"new\" xlink:title=\"psysml:6bb49afc-ac2c-47b7-b48e-5bd0a62b326b\" xlink:type=\"simple\"><polygon fill=\"#FFFFFF\" points=\"40,103,91,103,98,125.2969,114,125.2969,114,281,40,281,40,103\" style=\"stroke: #000000; stroke-width: 1.5;\"/><line style=\"stroke: #000000; stroke-width: 1.5;\" x1=\"40\" x2=\"98\" y1=\"125.2969\" y2=\"125.2969\"/><text fill=\"#000000\" font-family=\"sans-serif\" font-size=\"14\" font-weight=\"bold\" lengthAdjust=\"spacingAndGlyphs\" textLength=\"45\" x=\"44\" y=\"117.9951\">Test1</text></a><!--MD5=[7f149f147074ac12df2cb0a7728a5fb0]\n",
       "cluster E9--><a href=\"psysml:051bf7cb-81b8-4c37-8865-8bb7ea974985\" target=\"_top\" title=\"psysml:051bf7cb-81b8-4c37-8865-8bb7ea974985\" xlink:actuate=\"onRequest\" xlink:href=\"psysml:051bf7cb-81b8-4c37-8865-8bb7ea974985\" xlink:show=\"new\" xlink:title=\"psysml:051bf7cb-81b8-4c37-8865-8bb7ea974985\" xlink:type=\"simple\"><polygon fill=\"#FFFFFF\" points=\"40,305,91,305,98,327.2969,114,327.2969,114,483,40,483,40,305\" style=\"stroke: #000000; stroke-width: 1.5;\"/><line style=\"stroke: #000000; stroke-width: 1.5;\" x1=\"40\" x2=\"98\" y1=\"327.2969\" y2=\"327.2969\"/><text fill=\"#000000\" font-family=\"sans-serif\" font-size=\"14\" font-weight=\"bold\" lengthAdjust=\"spacingAndGlyphs\" textLength=\"45\" x=\"44\" y=\"319.9951\">Test2</text></a><!--MD5=[49a0ec8f00dab7302a31f22d0f0fe584]\n",
       "class E12--><a href=\"psysml:87edab01-bf58-4e9e-abd1-c8b0194f7dca\" target=\"_top\" title=\"psysml:87edab01-bf58-4e9e-abd1-c8b0194f7dca\" xlink:actuate=\"onRequest\" xlink:href=\"psysml:87edab01-bf58-4e9e-abd1-c8b0194f7dca\" xlink:show=\"new\" xlink:title=\"psysml:87edab01-bf58-4e9e-abd1-c8b0194f7dca\" xlink:type=\"simple\"><rect fill=\"#FFFFFF\" height=\"45.9375\" id=\"E12\" rx=\"10\" ry=\"10\" style=\"stroke: #383838; stroke-width: 1.5;\" width=\"42\" x=\"56\" y=\"41\"/><text fill=\"#000000\" font-family=\"sans-serif\" font-size=\"12\" font-style=\"italic\" lengthAdjust=\"spacingAndGlyphs\" textLength=\"40\" x=\"57\" y=\"57.1387\">«part»</text><text fill=\"#000000\" font-family=\"sans-serif\" font-size=\"12\" lengthAdjust=\"spacingAndGlyphs\" textLength=\"22\" x=\"66\" y=\"71.1074\">x: A</text><line style=\"stroke: #383838; stroke-width: 1.5;\" x1=\"57\" x2=\"97\" y1=\"78.9375\" y2=\"78.9375\"/></a><!--MD5=[ee3c913d1a06f366521f9ef512b67efe]\n",
       "class E13--><a href=\"psysml:20c5387a-1627-4e14-8312-6f39b31ab3f7\" target=\"_top\" title=\"psysml:20c5387a-1627-4e14-8312-6f39b31ab3f7\" xlink:actuate=\"onRequest\" xlink:href=\"psysml:20c5387a-1627-4e14-8312-6f39b31ab3f7\" xlink:show=\"new\" xlink:title=\"psysml:20c5387a-1627-4e14-8312-6f39b31ab3f7\" xlink:type=\"simple\"><rect fill=\"#FFFFFF\" height=\"45.9375\" id=\"E13\" rx=\"10\" ry=\"10\" style=\"stroke: #383838; stroke-width: 1.5;\" width=\"42\" x=\"56\" y=\"502\"/><text fill=\"#000000\" font-family=\"sans-serif\" font-size=\"12\" font-style=\"italic\" lengthAdjust=\"spacingAndGlyphs\" textLength=\"40\" x=\"57\" y=\"518.1387\">«part»</text><text fill=\"#000000\" font-family=\"sans-serif\" font-size=\"12\" lengthAdjust=\"spacingAndGlyphs\" textLength=\"22\" x=\"66\" y=\"532.1074\">y: B</text><line style=\"stroke: #383838; stroke-width: 1.5;\" x1=\"57\" x2=\"97\" y1=\"539.9375\" y2=\"539.9375\"/></a><!--MD5=[09b614a08d8cba4a07c9adeb5e0fee81]\n",
       "class E3--><a href=\"psysml:281245e6-0723-4878-ac57-c406fd778909\" target=\"_top\" title=\"psysml:281245e6-0723-4878-ac57-c406fd778909\" xlink:actuate=\"onRequest\" xlink:href=\"psysml:281245e6-0723-4878-ac57-c406fd778909\" xlink:show=\"new\" xlink:title=\"psysml:281245e6-0723-4878-ac57-c406fd778909\" xlink:type=\"simple\"><rect fill=\"#FFFFFF\" height=\"45.9375\" id=\"E3\" style=\"stroke: #383838; stroke-width: 1.5;\" width=\"66\" x=\"158\" y=\"138\"/><text fill=\"#000000\" font-family=\"sans-serif\" font-size=\"12\" font-style=\"italic\" lengthAdjust=\"spacingAndGlyphs\" textLength=\"64\" x=\"159\" y=\"154.1387\">«part def»</text><text fill=\"#000000\" font-family=\"sans-serif\" font-size=\"12\" lengthAdjust=\"spacingAndGlyphs\" textLength=\"8\" x=\"187\" y=\"168.1074\">A</text><line style=\"stroke: #383838; stroke-width: 1.5;\" x1=\"159\" x2=\"223\" y1=\"175.9375\" y2=\"175.9375\"/></a><!--MD5=[270fce915f116d4de14055a7c1d9a0f3]\n",
       "class E5--><a href=\"psysml:57665928-471f-4095-91e2-d839a960cf78\" target=\"_top\" title=\"psysml:57665928-471f-4095-91e2-d839a960cf78\" xlink:actuate=\"onRequest\" xlink:href=\"psysml:57665928-471f-4095-91e2-d839a960cf78\" xlink:show=\"new\" xlink:title=\"psysml:57665928-471f-4095-91e2-d839a960cf78\" xlink:type=\"simple\"><rect fill=\"#FFFFFF\" height=\"45.9375\" id=\"E5\" style=\"stroke: #383838; stroke-width: 1.5;\" width=\"66\" x=\"158\" y=\"421\"/><text fill=\"#000000\" font-family=\"sans-serif\" font-size=\"12\" font-style=\"italic\" lengthAdjust=\"spacingAndGlyphs\" textLength=\"64\" x=\"159\" y=\"437.1387\">«part def»</text><text fill=\"#000000\" font-family=\"sans-serif\" font-size=\"12\" lengthAdjust=\"spacingAndGlyphs\" textLength=\"8\" x=\"187\" y=\"451.1074\">B</text><line style=\"stroke: #383838; stroke-width: 1.5;\" x1=\"159\" x2=\"223\" y1=\"458.9375\" y2=\"458.9375\"/></a><!--MD5=[2156ba9850f5573cc1fc38a6a4b2f02b]\n",
       "class E7--><a href=\"psysml:d6e39b1a-8a39-4c69-85ab-aa8551443e08\" target=\"_top\" title=\"psysml:d6e39b1a-8a39-4c69-85ab-aa8551443e08\" xlink:actuate=\"onRequest\" xlink:href=\"psysml:d6e39b1a-8a39-4c69-85ab-aa8551443e08\" xlink:show=\"new\" xlink:title=\"psysml:d6e39b1a-8a39-4c69-85ab-aa8551443e08\" xlink:type=\"simple\"><rect fill=\"#FFFFFF\" height=\"45.9375\" id=\"E7\" rx=\"10\" ry=\"10\" style=\"stroke: #383838; stroke-width: 1.5;\" width=\"42\" x=\"56\" y=\"138\"/><text fill=\"#000000\" font-family=\"sans-serif\" font-size=\"12\" font-style=\"italic\" lengthAdjust=\"spacingAndGlyphs\" textLength=\"40\" x=\"57\" y=\"154.1387\">«part»</text><text fill=\"#000000\" font-family=\"sans-serif\" font-size=\"12\" lengthAdjust=\"spacingAndGlyphs\" textLength=\"22\" x=\"66\" y=\"168.1074\">x: A</text><line style=\"stroke: #383838; stroke-width: 1.5;\" x1=\"57\" x2=\"97\" y1=\"175.9375\" y2=\"175.9375\"/></a><!--MD5=[b9389687b975829384b498ac4b7476b2]\n",
       "class E8--><a href=\"psysml:ead6e64d-b294-4a2d-a1d8-90d3751f1490\" target=\"_top\" title=\"psysml:ead6e64d-b294-4a2d-a1d8-90d3751f1490\" xlink:actuate=\"onRequest\" xlink:href=\"psysml:ead6e64d-b294-4a2d-a1d8-90d3751f1490\" xlink:show=\"new\" xlink:title=\"psysml:ead6e64d-b294-4a2d-a1d8-90d3751f1490\" xlink:type=\"simple\"><rect fill=\"#FFFFFF\" height=\"45.9375\" id=\"E8\" rx=\"10\" ry=\"10\" style=\"stroke: #383838; stroke-width: 1.5;\" width=\"42\" x=\"56\" y=\"219\"/><text fill=\"#000000\" font-family=\"sans-serif\" font-size=\"12\" font-style=\"italic\" lengthAdjust=\"spacingAndGlyphs\" textLength=\"40\" x=\"57\" y=\"235.1387\">«part»</text><text fill=\"#000000\" font-family=\"sans-serif\" font-size=\"12\" lengthAdjust=\"spacingAndGlyphs\" textLength=\"22\" x=\"66\" y=\"249.1074\">y: B</text><line style=\"stroke: #383838; stroke-width: 1.5;\" x1=\"57\" x2=\"97\" y1=\"256.9375\" y2=\"256.9375\"/></a><!--MD5=[96f4274e9e20536e775497830990834d]\n",
       "class E10--><a href=\"psysml:f3cb1211-10b9-411e-bf19-d5722693e1fe\" target=\"_top\" title=\"psysml:f3cb1211-10b9-411e-bf19-d5722693e1fe\" xlink:actuate=\"onRequest\" xlink:href=\"psysml:f3cb1211-10b9-411e-bf19-d5722693e1fe\" xlink:show=\"new\" xlink:title=\"psysml:f3cb1211-10b9-411e-bf19-d5722693e1fe\" xlink:type=\"simple\"><rect fill=\"#FFFFFF\" height=\"45.9375\" id=\"E10\" rx=\"10\" ry=\"10\" style=\"stroke: #383838; stroke-width: 1.5;\" width=\"42\" x=\"56\" y=\"340\"/><text fill=\"#000000\" font-family=\"sans-serif\" font-size=\"12\" font-style=\"italic\" lengthAdjust=\"spacingAndGlyphs\" textLength=\"40\" x=\"57\" y=\"356.1387\">«part»</text><text fill=\"#000000\" font-family=\"sans-serif\" font-size=\"12\" lengthAdjust=\"spacingAndGlyphs\" textLength=\"22\" x=\"66\" y=\"370.1074\">x: A</text><line style=\"stroke: #383838; stroke-width: 1.5;\" x1=\"57\" x2=\"97\" y1=\"377.9375\" y2=\"377.9375\"/></a><!--MD5=[1dd1bfd58a279cf63c5f349dbc8fc6a1]\n",
       "class E11--><a href=\"psysml:9cdccab4-e502-4fbe-97eb-9b231d825ffa\" target=\"_top\" title=\"psysml:9cdccab4-e502-4fbe-97eb-9b231d825ffa\" xlink:actuate=\"onRequest\" xlink:href=\"psysml:9cdccab4-e502-4fbe-97eb-9b231d825ffa\" xlink:show=\"new\" xlink:title=\"psysml:9cdccab4-e502-4fbe-97eb-9b231d825ffa\" xlink:type=\"simple\"><rect fill=\"#FFFFFF\" height=\"45.9375\" id=\"E11\" rx=\"10\" ry=\"10\" style=\"stroke: #383838; stroke-width: 1.5;\" width=\"42\" x=\"56\" y=\"421\"/><text fill=\"#000000\" font-family=\"sans-serif\" font-size=\"12\" font-style=\"italic\" lengthAdjust=\"spacingAndGlyphs\" textLength=\"40\" x=\"57\" y=\"437.1387\">«part»</text><text fill=\"#000000\" font-family=\"sans-serif\" font-size=\"12\" lengthAdjust=\"spacingAndGlyphs\" textLength=\"22\" x=\"66\" y=\"451.1074\">y: B</text><line style=\"stroke: #383838; stroke-width: 1.5;\" x1=\"57\" x2=\"97\" y1=\"458.9375\" y2=\"458.9375\"/></a><!--MD5=[14ccda38c055a5c0da953d572bc50960]\n",
       "link E7 to E3--><a href=\"psysml:84278f38-d400-4655-8657-76a37dd9bb09\" target=\"_top\" title=\"psysml:84278f38-d400-4655-8657-76a37dd9bb09\" xlink:actuate=\"onRequest\" xlink:href=\"psysml:84278f38-d400-4655-8657-76a37dd9bb09\" xlink:show=\"new\" xlink:title=\"psysml:84278f38-d400-4655-8657-76a37dd9bb09\" xlink:type=\"simple\"><path d=\"M98.02,161 C109.18,161 123.65,161 137.79,161 \" fill=\"none\" id=\"E7-&gt;E3\" style=\"stroke: #383838; stroke-width: 1.0;\"/><polygon fill=\"#FFFFFF\" points=\"157.86,161,138.86,168,138.86,154,157.86,161\" style=\"stroke: #383838; stroke-width: 1.0;\"/><ellipse cx=\"133.16\" cy=\"166\" fill=\"#383838\" rx=\"2\" ry=\"2\" style=\"stroke: #383838; stroke-width: 1.0;\"/><ellipse cx=\"133.16\" cy=\"156\" fill=\"#383838\" rx=\"2\" ry=\"2\" style=\"stroke: #383838; stroke-width: 1.0;\"/></a><!--MD5=[1ccb2481ffa92f8d51a74ee30c51832a]\n",
       "link E8 to E5--><a href=\"psysml:9a62fcce-aa5a-49d2-8cac-0b2f538e5bd0\" target=\"_top\" title=\"psysml:9a62fcce-aa5a-49d2-8cac-0b2f538e5bd0\" xlink:actuate=\"onRequest\" xlink:href=\"psysml:9a62fcce-aa5a-49d2-8cac-0b2f538e5bd0\" xlink:show=\"new\" xlink:title=\"psysml:9a62fcce-aa5a-49d2-8cac-0b2f538e5bd0\" xlink:type=\"simple\"><path d=\"M90.85,265.17 C109.49,298.8 144.32,361.62 167.34,403.13 \" fill=\"none\" id=\"E8-&gt;E5\" style=\"stroke: #383838; stroke-width: 1.0;\"/><polygon fill=\"#FFFFFF\" points=\"177.13,420.79,161.7919,407.5709,174.0344,400.7796,177.13,420.79\" style=\"stroke: #383838; stroke-width: 1.0;\"/><ellipse cx=\"160.7758\" cy=\"401.6163\" fill=\"#383838\" rx=\"2\" ry=\"2\" style=\"stroke: #383838; stroke-width: 1.0;\"/><ellipse cx=\"169.5204\" cy=\"396.7653\" fill=\"#383838\" rx=\"2\" ry=\"2\" style=\"stroke: #383838; stroke-width: 1.0;\"/></a><!--MD5=[feeac5eb423634930294aa81f2d25a4c]\n",
       "link E10 to E3--><a href=\"psysml:bd7260c7-b55a-4391-86f8-9493bae3bcdc\" target=\"_top\" title=\"psysml:bd7260c7-b55a-4391-86f8-9493bae3bcdc\" xlink:actuate=\"onRequest\" xlink:href=\"psysml:bd7260c7-b55a-4391-86f8-9493bae3bcdc\" xlink:show=\"new\" xlink:title=\"psysml:bd7260c7-b55a-4391-86f8-9493bae3bcdc\" xlink:type=\"simple\"><path d=\"M90.85,339.83 C109.49,306.2 144.32,243.38 167.34,201.87 \" fill=\"none\" id=\"E10-&gt;E3\" style=\"stroke: #383838; stroke-width: 1.0;\"/><polygon fill=\"#FFFFFF\" points=\"177.13,184.21,174.0344,204.2204,161.7919,197.4291,177.13,184.21\" style=\"stroke: #383838; stroke-width: 1.0;\"/><ellipse cx=\"169.5204\" cy=\"208.2347\" fill=\"#383838\" rx=\"2\" ry=\"2\" style=\"stroke: #383838; stroke-width: 1.0;\"/><ellipse cx=\"160.7758\" cy=\"203.3837\" fill=\"#383838\" rx=\"2\" ry=\"2\" style=\"stroke: #383838; stroke-width: 1.0;\"/></a><!--MD5=[07b77f6f309248d16187045709d1c26e]\n",
       "link E11 to E5--><a href=\"psysml:099d00ce-a154-42ce-865e-6b31b35a0829\" target=\"_top\" title=\"psysml:099d00ce-a154-42ce-865e-6b31b35a0829\" xlink:actuate=\"onRequest\" xlink:href=\"psysml:099d00ce-a154-42ce-865e-6b31b35a0829\" xlink:show=\"new\" xlink:title=\"psysml:099d00ce-a154-42ce-865e-6b31b35a0829\" xlink:type=\"simple\"><path d=\"M98.02,444 C109.18,444 123.65,444 137.79,444 \" fill=\"none\" id=\"E11-&gt;E5\" style=\"stroke: #383838; stroke-width: 1.0;\"/><polygon fill=\"#FFFFFF\" points=\"157.86,444,138.86,451,138.86,437,157.86,444\" style=\"stroke: #383838; stroke-width: 1.0;\"/><ellipse cx=\"133.16\" cy=\"449\" fill=\"#383838\" rx=\"2\" ry=\"2\" style=\"stroke: #383838; stroke-width: 1.0;\"/><ellipse cx=\"133.16\" cy=\"439\" fill=\"#383838\" rx=\"2\" ry=\"2\" style=\"stroke: #383838; stroke-width: 1.0;\"/></a><!--MD5=[39f41a0e550fb3d73b4d8135617e30a2]\n",
       "link E12 to E3--><a href=\"psysml:2e0d72ae-9b36-4ac2-af7e-1d21d87eecf3\" target=\"_top\" title=\"psysml:2e0d72ae-9b36-4ac2-af7e-1d21d87eecf3\" xlink:actuate=\"onRequest\" xlink:href=\"psysml:2e0d72ae-9b36-4ac2-af7e-1d21d87eecf3\" xlink:show=\"new\" xlink:title=\"psysml:2e0d72ae-9b36-4ac2-af7e-1d21d87eecf3\" xlink:type=\"simple\"><path d=\"M98.02,81.34 C111.92,93.38 130.95,109.86 148.09,124.7 \" fill=\"none\" id=\"E12-&gt;E3\" style=\"stroke: #383838; stroke-width: 1.0;\"/><polygon fill=\"#FFFFFF\" points=\"163.41,137.97,144.4677,130.8155,153.6371,120.2361,163.41,137.97\" style=\"stroke: #383838; stroke-width: 1.0;\"/><ellipse cx=\"141.4703\" cy=\"125.5709\" fill=\"#383838\" rx=\"2\" ry=\"2\" style=\"stroke: #383838; stroke-width: 1.0;\"/><ellipse cx=\"148.0199\" cy=\"118.0142\" fill=\"#383838\" rx=\"2\" ry=\"2\" style=\"stroke: #383838; stroke-width: 1.0;\"/></a><!--MD5=[066b2d8af59fea80ccdb3d54ad5c1091]\n",
       "link E13 to E5--><a href=\"psysml:28c76814-e954-4c97-b716-40e2f6813c6b\" target=\"_top\" title=\"psysml:28c76814-e954-4c97-b716-40e2f6813c6b\" xlink:actuate=\"onRequest\" xlink:href=\"psysml:28c76814-e954-4c97-b716-40e2f6813c6b\" xlink:show=\"new\" xlink:title=\"psysml:28c76814-e954-4c97-b716-40e2f6813c6b\" xlink:type=\"simple\"><path d=\"M98.02,510.52 C110.09,501.79 126.03,490.27 141.24,479.27 \" fill=\"none\" id=\"E13-&gt;E5\" style=\"stroke: #383838; stroke-width: 1.0;\"/><polygon fill=\"#FFFFFF\" points=\"157.86,467.25,146.5582,484.0509,138.3595,472.7027,157.86,467.25\" style=\"stroke: #383838; stroke-width: 1.0;\"/><ellipse cx=\"140.7667\" cy=\"485.7678\" fill=\"#383838\" rx=\"2\" ry=\"2\" style=\"stroke: #383838; stroke-width: 1.0;\"/><ellipse cx=\"134.9104\" cy=\"477.6619\" fill=\"#383838\" rx=\"2\" ry=\"2\" style=\"stroke: #383838; stroke-width: 1.0;\"/></a><!--MD5=[181eaf3b90b19e2478a20fc3e9105d6f]\n",
       "@startuml\r\n",
       "left to right direction\r\n",
       "skinparam monochrome true\r\n",
       "skinparam classbackgroundcolor white\r\n",
       "skinparam shadowing false\r\n",
       "skinparam wrapWidth 300\r\n",
       "hide circle\r\n",
       "\r\n",
       "package \"CircularImport\" as E1  [[psysml:690cd2ec-4fe7-4d94-89bf-c3d63ed60cd3 ]]  {\r\n",
       "package \"P1\" as E2  [[psysml:54e3154d-4fa4-4c14-a367-edca149a76a1 ]]  {\r\n",
       "comp def \"A\" as E3  <<(T,blue)part def>> [[psysml:281245e6-0723-4878-ac57-c406fd778909 ]] {\r\n",
       "}\r\n",
       "}\r\n",
       "package \"P2\" as E4  [[psysml:581c4a9e-fb07-4d80-ac64-c8c7b70027d2 ]]  {\r\n",
       "comp def \"B\" as E5  <<(T,blue)part def>> [[psysml:57665928-471f-4095-91e2-d839a960cf78 ]] {\r\n",
       "}\r\n",
       "}\r\n",
       "package \"Test1\" as E6  [[psysml:6bb49afc-ac2c-47b7-b48e-5bd0a62b326b ]]  {\r\n",
       "comp usage \"x: A\" as E7  <<(T,blue)part>> [[psysml:d6e39b1a-8a39-4c69-85ab-aa8551443e08 ]] {\r\n",
       "}\r\n",
       "comp usage \"y: B\" as E8  <<(T,blue)part>> [[psysml:ead6e64d-b294-4a2d-a1d8-90d3751f1490 ]] {\r\n",
       "}\r\n",
       "E7 - -:|> E3 [[psysml:84278f38-d400-4655-8657-76a37dd9bb09 ]] \r\n",
       "E8 - -:|> E5 [[psysml:9a62fcce-aa5a-49d2-8cac-0b2f538e5bd0 ]] \r\n",
       "}\r\n",
       "package \"Test2\" as E9  [[psysml:051bf7cb-81b8-4c37-8865-8bb7ea974985 ]]  {\r\n",
       "comp usage \"x: A\" as E10  <<(T,blue)part>> [[psysml:f3cb1211-10b9-411e-bf19-d5722693e1fe ]] {\r\n",
       "}\r\n",
       "comp usage \"y: B\" as E11  <<(T,blue)part>> [[psysml:9cdccab4-e502-4fbe-97eb-9b231d825ffa ]] {\r\n",
       "}\r\n",
       "E10 - -:|> E3 [[psysml:bd7260c7-b55a-4391-86f8-9493bae3bcdc ]] \r\n",
       "E11 - -:|> E5 [[psysml:099d00ce-a154-42ce-865e-6b31b35a0829 ]] \r\n",
       "}\r\n",
       "comp usage \"x: A\" as E12  <<(T,blue)part>> [[psysml:87edab01-bf58-4e9e-abd1-c8b0194f7dca ]] {\r\n",
       "}\r\n",
       "comp usage \"y: B\" as E13  <<(T,blue)part>> [[psysml:20c5387a-1627-4e14-8312-6f39b31ab3f7 ]] {\r\n",
       "}\r\n",
       "E12 - -:|> E3 [[psysml:2e0d72ae-9b36-4ac2-af7e-1d21d87eecf3 ]] \r\n",
       "E13 - -:|> E5 [[psysml:28c76814-e954-4c97-b716-40e2f6813c6b ]] \r\n",
       "}\r\n",
       "@enduml\r\n",
       "\n",
       "PlantUML version 1.2020.13(Sat Jun 13 12:26:38 UTC 2020)\n",
       "(EPL source distribution)\n",
       "Java Runtime: OpenJDK Runtime Environment\n",
       "JVM: OpenJDK 64-Bit Server VM\n",
       "Default Encoding: UTF-8\n",
       "Language: en\n",
       "Country: null\n",
       "--></g></svg>"
      ]
     },
     "execution_count": 16,
     "metadata": {},
     "output_type": "execute_result"
    }
   ],
   "source": [
    "%viz --style=\"LR\" --view=\"Default\" \"CircularImport\""
   ]
  },
  {
   "cell_type": "code",
   "execution_count": 17,
   "id": "d821adc3",
   "metadata": {
    "execution": {
     "iopub.execute_input": "2021-04-20T06:57:52.746745Z",
     "iopub.status.busy": "2021-04-20T06:57:52.745603Z",
     "iopub.status.idle": "2021-04-20T06:57:52.806030Z",
     "shell.execute_reply": "2021-04-20T06:57:52.803712Z"
    }
   },
   "outputs": [
    {
     "data": {
      "image/svg+xml": [
       "<?xml version=\"1.0\" encoding=\"UTF-8\" standalone=\"no\"?><svg xmlns=\"http://www.w3.org/2000/svg\" xmlns:xlink=\"http://www.w3.org/1999/xlink\" contentScriptType=\"application/ecmascript\" contentStyleType=\"text/css\" height=\"576px\" preserveAspectRatio=\"none\" style=\"width:286px;height:576px;\" version=\"1.1\" viewBox=\"0 0 286 576\" width=\"286px\" zoomAndPan=\"magnify\"><defs/><g><!--MD5=[fbc87193dbaf4d95561dea2c320d4a47]\n",
       "cluster E1--><a href=\"psysml:690cd2ec-4fe7-4d94-89bf-c3d63ed60cd3\" target=\"_top\" title=\"psysml:690cd2ec-4fe7-4d94-89bf-c3d63ed60cd3\" xlink:actuate=\"onRequest\" xlink:href=\"psysml:690cd2ec-4fe7-4d94-89bf-c3d63ed60cd3\" xlink:show=\"new\" xlink:title=\"psysml:690cd2ec-4fe7-4d94-89bf-c3d63ed60cd3\" xlink:type=\"simple\"><polygon fill=\"#FFFFFF\" points=\"16,6,134,6,141,28.2969,264,28.2969,264,564,16,564,16,6\" style=\"stroke: #000000; stroke-width: 1.5;\"/><line style=\"stroke: #000000; stroke-width: 1.5;\" x1=\"16\" x2=\"141\" y1=\"28.2969\" y2=\"28.2969\"/><text fill=\"#000000\" font-family=\"sans-serif\" font-size=\"14\" font-weight=\"bold\" lengthAdjust=\"spacingAndGlyphs\" textLength=\"112\" x=\"20\" y=\"20.9951\">CircularImport</text></a><!--MD5=[e4f7fae6ed58524ba242bb0b0d3be6b7]\n",
       "cluster E2--><a href=\"psysml:54e3154d-4fa4-4c14-a367-edca149a76a1\" target=\"_top\" title=\"psysml:54e3154d-4fa4-4c14-a367-edca149a76a1\" xlink:actuate=\"onRequest\" xlink:href=\"psysml:54e3154d-4fa4-4c14-a367-edca149a76a1\" xlink:show=\"new\" xlink:title=\"psysml:54e3154d-4fa4-4c14-a367-edca149a76a1\" xlink:type=\"simple\"><polygon fill=\"#FFFFFF\" points=\"142,103,168,103,175,125.2969,240,125.2969,240,200,142,200,142,103\" style=\"stroke: #000000; stroke-width: 1.5;\"/><line style=\"stroke: #000000; stroke-width: 1.5;\" x1=\"142\" x2=\"175\" y1=\"125.2969\" y2=\"125.2969\"/><text fill=\"#000000\" font-family=\"sans-serif\" font-size=\"14\" font-weight=\"bold\" lengthAdjust=\"spacingAndGlyphs\" textLength=\"20\" x=\"146\" y=\"117.9951\">P1</text></a><!--MD5=[f6df4d0ebaf0b5dfb2ced0ae5af7c670]\n",
       "cluster E4--><a href=\"psysml:581c4a9e-fb07-4d80-ac64-c8c7b70027d2\" target=\"_top\" title=\"psysml:581c4a9e-fb07-4d80-ac64-c8c7b70027d2\" xlink:actuate=\"onRequest\" xlink:href=\"psysml:581c4a9e-fb07-4d80-ac64-c8c7b70027d2\" xlink:show=\"new\" xlink:title=\"psysml:581c4a9e-fb07-4d80-ac64-c8c7b70027d2\" xlink:type=\"simple\"><polygon fill=\"#FFFFFF\" points=\"142,386,168,386,175,408.2969,240,408.2969,240,483,142,483,142,386\" style=\"stroke: #000000; stroke-width: 1.5;\"/><line style=\"stroke: #000000; stroke-width: 1.5;\" x1=\"142\" x2=\"175\" y1=\"408.2969\" y2=\"408.2969\"/><text fill=\"#000000\" font-family=\"sans-serif\" font-size=\"14\" font-weight=\"bold\" lengthAdjust=\"spacingAndGlyphs\" textLength=\"20\" x=\"146\" y=\"400.9951\">P2</text></a><!--MD5=[14e3b0961a2654348d326746436168a1]\n",
       "cluster E6--><a href=\"psysml:6bb49afc-ac2c-47b7-b48e-5bd0a62b326b\" target=\"_top\" title=\"psysml:6bb49afc-ac2c-47b7-b48e-5bd0a62b326b\" xlink:actuate=\"onRequest\" xlink:href=\"psysml:6bb49afc-ac2c-47b7-b48e-5bd0a62b326b\" xlink:show=\"new\" xlink:title=\"psysml:6bb49afc-ac2c-47b7-b48e-5bd0a62b326b\" xlink:type=\"simple\"><polygon fill=\"#FFFFFF\" points=\"40,103,91,103,98,125.2969,114,125.2969,114,281,40,281,40,103\" style=\"stroke: #000000; stroke-width: 1.5;\"/><line style=\"stroke: #000000; stroke-width: 1.5;\" x1=\"40\" x2=\"98\" y1=\"125.2969\" y2=\"125.2969\"/><text fill=\"#000000\" font-family=\"sans-serif\" font-size=\"14\" font-weight=\"bold\" lengthAdjust=\"spacingAndGlyphs\" textLength=\"45\" x=\"44\" y=\"117.9951\">Test1</text></a><!--MD5=[7f149f147074ac12df2cb0a7728a5fb0]\n",
       "cluster E9--><a href=\"psysml:051bf7cb-81b8-4c37-8865-8bb7ea974985\" target=\"_top\" title=\"psysml:051bf7cb-81b8-4c37-8865-8bb7ea974985\" xlink:actuate=\"onRequest\" xlink:href=\"psysml:051bf7cb-81b8-4c37-8865-8bb7ea974985\" xlink:show=\"new\" xlink:title=\"psysml:051bf7cb-81b8-4c37-8865-8bb7ea974985\" xlink:type=\"simple\"><polygon fill=\"#FFFFFF\" points=\"40,305,91,305,98,327.2969,114,327.2969,114,483,40,483,40,305\" style=\"stroke: #000000; stroke-width: 1.5;\"/><line style=\"stroke: #000000; stroke-width: 1.5;\" x1=\"40\" x2=\"98\" y1=\"327.2969\" y2=\"327.2969\"/><text fill=\"#000000\" font-family=\"sans-serif\" font-size=\"14\" font-weight=\"bold\" lengthAdjust=\"spacingAndGlyphs\" textLength=\"45\" x=\"44\" y=\"319.9951\">Test2</text></a><!--MD5=[49a0ec8f00dab7302a31f22d0f0fe584]\n",
       "class E12--><a href=\"psysml:87edab01-bf58-4e9e-abd1-c8b0194f7dca\" target=\"_top\" title=\"psysml:87edab01-bf58-4e9e-abd1-c8b0194f7dca\" xlink:actuate=\"onRequest\" xlink:href=\"psysml:87edab01-bf58-4e9e-abd1-c8b0194f7dca\" xlink:show=\"new\" xlink:title=\"psysml:87edab01-bf58-4e9e-abd1-c8b0194f7dca\" xlink:type=\"simple\"><rect fill=\"#FFFFFF\" height=\"45.9375\" id=\"E12\" rx=\"10\" ry=\"10\" style=\"stroke: #383838; stroke-width: 1.5;\" width=\"42\" x=\"56\" y=\"41\"/><text fill=\"#000000\" font-family=\"sans-serif\" font-size=\"12\" font-style=\"italic\" lengthAdjust=\"spacingAndGlyphs\" textLength=\"40\" x=\"57\" y=\"57.1387\">«part»</text><text fill=\"#000000\" font-family=\"sans-serif\" font-size=\"12\" lengthAdjust=\"spacingAndGlyphs\" textLength=\"22\" x=\"66\" y=\"71.1074\">x: A</text><line style=\"stroke: #383838; stroke-width: 1.5;\" x1=\"57\" x2=\"97\" y1=\"78.9375\" y2=\"78.9375\"/></a><!--MD5=[ee3c913d1a06f366521f9ef512b67efe]\n",
       "class E13--><a href=\"psysml:20c5387a-1627-4e14-8312-6f39b31ab3f7\" target=\"_top\" title=\"psysml:20c5387a-1627-4e14-8312-6f39b31ab3f7\" xlink:actuate=\"onRequest\" xlink:href=\"psysml:20c5387a-1627-4e14-8312-6f39b31ab3f7\" xlink:show=\"new\" xlink:title=\"psysml:20c5387a-1627-4e14-8312-6f39b31ab3f7\" xlink:type=\"simple\"><rect fill=\"#FFFFFF\" height=\"45.9375\" id=\"E13\" rx=\"10\" ry=\"10\" style=\"stroke: #383838; stroke-width: 1.5;\" width=\"42\" x=\"56\" y=\"502\"/><text fill=\"#000000\" font-family=\"sans-serif\" font-size=\"12\" font-style=\"italic\" lengthAdjust=\"spacingAndGlyphs\" textLength=\"40\" x=\"57\" y=\"518.1387\">«part»</text><text fill=\"#000000\" font-family=\"sans-serif\" font-size=\"12\" lengthAdjust=\"spacingAndGlyphs\" textLength=\"22\" x=\"66\" y=\"532.1074\">y: B</text><line style=\"stroke: #383838; stroke-width: 1.5;\" x1=\"57\" x2=\"97\" y1=\"539.9375\" y2=\"539.9375\"/></a><!--MD5=[09b614a08d8cba4a07c9adeb5e0fee81]\n",
       "class E3--><a href=\"psysml:281245e6-0723-4878-ac57-c406fd778909\" target=\"_top\" title=\"psysml:281245e6-0723-4878-ac57-c406fd778909\" xlink:actuate=\"onRequest\" xlink:href=\"psysml:281245e6-0723-4878-ac57-c406fd778909\" xlink:show=\"new\" xlink:title=\"psysml:281245e6-0723-4878-ac57-c406fd778909\" xlink:type=\"simple\"><rect fill=\"#FFFFFF\" height=\"45.9375\" id=\"E3\" style=\"stroke: #383838; stroke-width: 1.5;\" width=\"66\" x=\"158\" y=\"138\"/><text fill=\"#000000\" font-family=\"sans-serif\" font-size=\"12\" font-style=\"italic\" lengthAdjust=\"spacingAndGlyphs\" textLength=\"64\" x=\"159\" y=\"154.1387\">«part def»</text><text fill=\"#000000\" font-family=\"sans-serif\" font-size=\"12\" lengthAdjust=\"spacingAndGlyphs\" textLength=\"8\" x=\"187\" y=\"168.1074\">A</text><line style=\"stroke: #383838; stroke-width: 1.5;\" x1=\"159\" x2=\"223\" y1=\"175.9375\" y2=\"175.9375\"/></a><!--MD5=[270fce915f116d4de14055a7c1d9a0f3]\n",
       "class E5--><a href=\"psysml:57665928-471f-4095-91e2-d839a960cf78\" target=\"_top\" title=\"psysml:57665928-471f-4095-91e2-d839a960cf78\" xlink:actuate=\"onRequest\" xlink:href=\"psysml:57665928-471f-4095-91e2-d839a960cf78\" xlink:show=\"new\" xlink:title=\"psysml:57665928-471f-4095-91e2-d839a960cf78\" xlink:type=\"simple\"><rect fill=\"#FFFFFF\" height=\"45.9375\" id=\"E5\" style=\"stroke: #383838; stroke-width: 1.5;\" width=\"66\" x=\"158\" y=\"421\"/><text fill=\"#000000\" font-family=\"sans-serif\" font-size=\"12\" font-style=\"italic\" lengthAdjust=\"spacingAndGlyphs\" textLength=\"64\" x=\"159\" y=\"437.1387\">«part def»</text><text fill=\"#000000\" font-family=\"sans-serif\" font-size=\"12\" lengthAdjust=\"spacingAndGlyphs\" textLength=\"8\" x=\"187\" y=\"451.1074\">B</text><line style=\"stroke: #383838; stroke-width: 1.5;\" x1=\"159\" x2=\"223\" y1=\"458.9375\" y2=\"458.9375\"/></a><!--MD5=[2156ba9850f5573cc1fc38a6a4b2f02b]\n",
       "class E7--><a href=\"psysml:d6e39b1a-8a39-4c69-85ab-aa8551443e08\" target=\"_top\" title=\"psysml:d6e39b1a-8a39-4c69-85ab-aa8551443e08\" xlink:actuate=\"onRequest\" xlink:href=\"psysml:d6e39b1a-8a39-4c69-85ab-aa8551443e08\" xlink:show=\"new\" xlink:title=\"psysml:d6e39b1a-8a39-4c69-85ab-aa8551443e08\" xlink:type=\"simple\"><rect fill=\"#FFFFFF\" height=\"45.9375\" id=\"E7\" rx=\"10\" ry=\"10\" style=\"stroke: #383838; stroke-width: 1.5;\" width=\"42\" x=\"56\" y=\"138\"/><text fill=\"#000000\" font-family=\"sans-serif\" font-size=\"12\" font-style=\"italic\" lengthAdjust=\"spacingAndGlyphs\" textLength=\"40\" x=\"57\" y=\"154.1387\">«part»</text><text fill=\"#000000\" font-family=\"sans-serif\" font-size=\"12\" lengthAdjust=\"spacingAndGlyphs\" textLength=\"22\" x=\"66\" y=\"168.1074\">x: A</text><line style=\"stroke: #383838; stroke-width: 1.5;\" x1=\"57\" x2=\"97\" y1=\"175.9375\" y2=\"175.9375\"/></a><!--MD5=[b9389687b975829384b498ac4b7476b2]\n",
       "class E8--><a href=\"psysml:ead6e64d-b294-4a2d-a1d8-90d3751f1490\" target=\"_top\" title=\"psysml:ead6e64d-b294-4a2d-a1d8-90d3751f1490\" xlink:actuate=\"onRequest\" xlink:href=\"psysml:ead6e64d-b294-4a2d-a1d8-90d3751f1490\" xlink:show=\"new\" xlink:title=\"psysml:ead6e64d-b294-4a2d-a1d8-90d3751f1490\" xlink:type=\"simple\"><rect fill=\"#FFFFFF\" height=\"45.9375\" id=\"E8\" rx=\"10\" ry=\"10\" style=\"stroke: #383838; stroke-width: 1.5;\" width=\"42\" x=\"56\" y=\"219\"/><text fill=\"#000000\" font-family=\"sans-serif\" font-size=\"12\" font-style=\"italic\" lengthAdjust=\"spacingAndGlyphs\" textLength=\"40\" x=\"57\" y=\"235.1387\">«part»</text><text fill=\"#000000\" font-family=\"sans-serif\" font-size=\"12\" lengthAdjust=\"spacingAndGlyphs\" textLength=\"22\" x=\"66\" y=\"249.1074\">y: B</text><line style=\"stroke: #383838; stroke-width: 1.5;\" x1=\"57\" x2=\"97\" y1=\"256.9375\" y2=\"256.9375\"/></a><!--MD5=[96f4274e9e20536e775497830990834d]\n",
       "class E10--><a href=\"psysml:f3cb1211-10b9-411e-bf19-d5722693e1fe\" target=\"_top\" title=\"psysml:f3cb1211-10b9-411e-bf19-d5722693e1fe\" xlink:actuate=\"onRequest\" xlink:href=\"psysml:f3cb1211-10b9-411e-bf19-d5722693e1fe\" xlink:show=\"new\" xlink:title=\"psysml:f3cb1211-10b9-411e-bf19-d5722693e1fe\" xlink:type=\"simple\"><rect fill=\"#FFFFFF\" height=\"45.9375\" id=\"E10\" rx=\"10\" ry=\"10\" style=\"stroke: #383838; stroke-width: 1.5;\" width=\"42\" x=\"56\" y=\"340\"/><text fill=\"#000000\" font-family=\"sans-serif\" font-size=\"12\" font-style=\"italic\" lengthAdjust=\"spacingAndGlyphs\" textLength=\"40\" x=\"57\" y=\"356.1387\">«part»</text><text fill=\"#000000\" font-family=\"sans-serif\" font-size=\"12\" lengthAdjust=\"spacingAndGlyphs\" textLength=\"22\" x=\"66\" y=\"370.1074\">x: A</text><line style=\"stroke: #383838; stroke-width: 1.5;\" x1=\"57\" x2=\"97\" y1=\"377.9375\" y2=\"377.9375\"/></a><!--MD5=[1dd1bfd58a279cf63c5f349dbc8fc6a1]\n",
       "class E11--><a href=\"psysml:9cdccab4-e502-4fbe-97eb-9b231d825ffa\" target=\"_top\" title=\"psysml:9cdccab4-e502-4fbe-97eb-9b231d825ffa\" xlink:actuate=\"onRequest\" xlink:href=\"psysml:9cdccab4-e502-4fbe-97eb-9b231d825ffa\" xlink:show=\"new\" xlink:title=\"psysml:9cdccab4-e502-4fbe-97eb-9b231d825ffa\" xlink:type=\"simple\"><rect fill=\"#FFFFFF\" height=\"45.9375\" id=\"E11\" rx=\"10\" ry=\"10\" style=\"stroke: #383838; stroke-width: 1.5;\" width=\"42\" x=\"56\" y=\"421\"/><text fill=\"#000000\" font-family=\"sans-serif\" font-size=\"12\" font-style=\"italic\" lengthAdjust=\"spacingAndGlyphs\" textLength=\"40\" x=\"57\" y=\"437.1387\">«part»</text><text fill=\"#000000\" font-family=\"sans-serif\" font-size=\"12\" lengthAdjust=\"spacingAndGlyphs\" textLength=\"22\" x=\"66\" y=\"451.1074\">y: B</text><line style=\"stroke: #383838; stroke-width: 1.5;\" x1=\"57\" x2=\"97\" y1=\"458.9375\" y2=\"458.9375\"/></a><!--MD5=[14ccda38c055a5c0da953d572bc50960]\n",
       "link E7 to E3--><a href=\"psysml:84278f38-d400-4655-8657-76a37dd9bb09\" target=\"_top\" title=\"psysml:84278f38-d400-4655-8657-76a37dd9bb09\" xlink:actuate=\"onRequest\" xlink:href=\"psysml:84278f38-d400-4655-8657-76a37dd9bb09\" xlink:show=\"new\" xlink:title=\"psysml:84278f38-d400-4655-8657-76a37dd9bb09\" xlink:type=\"simple\"><path d=\"M98.02,161 C109.18,161 123.65,161 137.79,161 \" fill=\"none\" id=\"E7-&gt;E3\" style=\"stroke: #383838; stroke-width: 1.0;\"/><polygon fill=\"#FFFFFF\" points=\"157.86,161,138.86,168,138.86,154,157.86,161\" style=\"stroke: #383838; stroke-width: 1.0;\"/><ellipse cx=\"133.16\" cy=\"166\" fill=\"#383838\" rx=\"2\" ry=\"2\" style=\"stroke: #383838; stroke-width: 1.0;\"/><ellipse cx=\"133.16\" cy=\"156\" fill=\"#383838\" rx=\"2\" ry=\"2\" style=\"stroke: #383838; stroke-width: 1.0;\"/></a><!--MD5=[1ccb2481ffa92f8d51a74ee30c51832a]\n",
       "link E8 to E5--><a href=\"psysml:9a62fcce-aa5a-49d2-8cac-0b2f538e5bd0\" target=\"_top\" title=\"psysml:9a62fcce-aa5a-49d2-8cac-0b2f538e5bd0\" xlink:actuate=\"onRequest\" xlink:href=\"psysml:9a62fcce-aa5a-49d2-8cac-0b2f538e5bd0\" xlink:show=\"new\" xlink:title=\"psysml:9a62fcce-aa5a-49d2-8cac-0b2f538e5bd0\" xlink:type=\"simple\"><path d=\"M90.85,265.17 C109.49,298.8 144.32,361.62 167.34,403.13 \" fill=\"none\" id=\"E8-&gt;E5\" style=\"stroke: #383838; stroke-width: 1.0;\"/><polygon fill=\"#FFFFFF\" points=\"177.13,420.79,161.7919,407.5709,174.0344,400.7796,177.13,420.79\" style=\"stroke: #383838; stroke-width: 1.0;\"/><ellipse cx=\"160.7758\" cy=\"401.6163\" fill=\"#383838\" rx=\"2\" ry=\"2\" style=\"stroke: #383838; stroke-width: 1.0;\"/><ellipse cx=\"169.5204\" cy=\"396.7653\" fill=\"#383838\" rx=\"2\" ry=\"2\" style=\"stroke: #383838; stroke-width: 1.0;\"/></a><!--MD5=[feeac5eb423634930294aa81f2d25a4c]\n",
       "link E10 to E3--><a href=\"psysml:bd7260c7-b55a-4391-86f8-9493bae3bcdc\" target=\"_top\" title=\"psysml:bd7260c7-b55a-4391-86f8-9493bae3bcdc\" xlink:actuate=\"onRequest\" xlink:href=\"psysml:bd7260c7-b55a-4391-86f8-9493bae3bcdc\" xlink:show=\"new\" xlink:title=\"psysml:bd7260c7-b55a-4391-86f8-9493bae3bcdc\" xlink:type=\"simple\"><path d=\"M90.85,339.83 C109.49,306.2 144.32,243.38 167.34,201.87 \" fill=\"none\" id=\"E10-&gt;E3\" style=\"stroke: #383838; stroke-width: 1.0;\"/><polygon fill=\"#FFFFFF\" points=\"177.13,184.21,174.0344,204.2204,161.7919,197.4291,177.13,184.21\" style=\"stroke: #383838; stroke-width: 1.0;\"/><ellipse cx=\"169.5204\" cy=\"208.2347\" fill=\"#383838\" rx=\"2\" ry=\"2\" style=\"stroke: #383838; stroke-width: 1.0;\"/><ellipse cx=\"160.7758\" cy=\"203.3837\" fill=\"#383838\" rx=\"2\" ry=\"2\" style=\"stroke: #383838; stroke-width: 1.0;\"/></a><!--MD5=[07b77f6f309248d16187045709d1c26e]\n",
       "link E11 to E5--><a href=\"psysml:099d00ce-a154-42ce-865e-6b31b35a0829\" target=\"_top\" title=\"psysml:099d00ce-a154-42ce-865e-6b31b35a0829\" xlink:actuate=\"onRequest\" xlink:href=\"psysml:099d00ce-a154-42ce-865e-6b31b35a0829\" xlink:show=\"new\" xlink:title=\"psysml:099d00ce-a154-42ce-865e-6b31b35a0829\" xlink:type=\"simple\"><path d=\"M98.02,444 C109.18,444 123.65,444 137.79,444 \" fill=\"none\" id=\"E11-&gt;E5\" style=\"stroke: #383838; stroke-width: 1.0;\"/><polygon fill=\"#FFFFFF\" points=\"157.86,444,138.86,451,138.86,437,157.86,444\" style=\"stroke: #383838; stroke-width: 1.0;\"/><ellipse cx=\"133.16\" cy=\"449\" fill=\"#383838\" rx=\"2\" ry=\"2\" style=\"stroke: #383838; stroke-width: 1.0;\"/><ellipse cx=\"133.16\" cy=\"439\" fill=\"#383838\" rx=\"2\" ry=\"2\" style=\"stroke: #383838; stroke-width: 1.0;\"/></a><!--MD5=[39f41a0e550fb3d73b4d8135617e30a2]\n",
       "link E12 to E3--><a href=\"psysml:2e0d72ae-9b36-4ac2-af7e-1d21d87eecf3\" target=\"_top\" title=\"psysml:2e0d72ae-9b36-4ac2-af7e-1d21d87eecf3\" xlink:actuate=\"onRequest\" xlink:href=\"psysml:2e0d72ae-9b36-4ac2-af7e-1d21d87eecf3\" xlink:show=\"new\" xlink:title=\"psysml:2e0d72ae-9b36-4ac2-af7e-1d21d87eecf3\" xlink:type=\"simple\"><path d=\"M98.02,81.34 C111.92,93.38 130.95,109.86 148.09,124.7 \" fill=\"none\" id=\"E12-&gt;E3\" style=\"stroke: #383838; stroke-width: 1.0;\"/><polygon fill=\"#FFFFFF\" points=\"163.41,137.97,144.4677,130.8155,153.6371,120.2361,163.41,137.97\" style=\"stroke: #383838; stroke-width: 1.0;\"/><ellipse cx=\"141.4703\" cy=\"125.5709\" fill=\"#383838\" rx=\"2\" ry=\"2\" style=\"stroke: #383838; stroke-width: 1.0;\"/><ellipse cx=\"148.0199\" cy=\"118.0142\" fill=\"#383838\" rx=\"2\" ry=\"2\" style=\"stroke: #383838; stroke-width: 1.0;\"/></a><!--MD5=[066b2d8af59fea80ccdb3d54ad5c1091]\n",
       "link E13 to E5--><a href=\"psysml:28c76814-e954-4c97-b716-40e2f6813c6b\" target=\"_top\" title=\"psysml:28c76814-e954-4c97-b716-40e2f6813c6b\" xlink:actuate=\"onRequest\" xlink:href=\"psysml:28c76814-e954-4c97-b716-40e2f6813c6b\" xlink:show=\"new\" xlink:title=\"psysml:28c76814-e954-4c97-b716-40e2f6813c6b\" xlink:type=\"simple\"><path d=\"M98.02,510.52 C110.09,501.79 126.03,490.27 141.24,479.27 \" fill=\"none\" id=\"E13-&gt;E5\" style=\"stroke: #383838; stroke-width: 1.0;\"/><polygon fill=\"#FFFFFF\" points=\"157.86,467.25,146.5582,484.0509,138.3595,472.7027,157.86,467.25\" style=\"stroke: #383838; stroke-width: 1.0;\"/><ellipse cx=\"140.7667\" cy=\"485.7678\" fill=\"#383838\" rx=\"2\" ry=\"2\" style=\"stroke: #383838; stroke-width: 1.0;\"/><ellipse cx=\"134.9104\" cy=\"477.6619\" fill=\"#383838\" rx=\"2\" ry=\"2\" style=\"stroke: #383838; stroke-width: 1.0;\"/></a><!--MD5=[181eaf3b90b19e2478a20fc3e9105d6f]\n",
       "@startuml\r\n",
       "left to right direction\r\n",
       "skinparam monochrome true\r\n",
       "skinparam classbackgroundcolor white\r\n",
       "skinparam shadowing false\r\n",
       "skinparam wrapWidth 300\r\n",
       "hide circle\r\n",
       "\r\n",
       "package \"CircularImport\" as E1  [[psysml:690cd2ec-4fe7-4d94-89bf-c3d63ed60cd3 ]]  {\r\n",
       "package \"P1\" as E2  [[psysml:54e3154d-4fa4-4c14-a367-edca149a76a1 ]]  {\r\n",
       "comp def \"A\" as E3  <<(T,blue)part def>> [[psysml:281245e6-0723-4878-ac57-c406fd778909 ]] {\r\n",
       "}\r\n",
       "}\r\n",
       "package \"P2\" as E4  [[psysml:581c4a9e-fb07-4d80-ac64-c8c7b70027d2 ]]  {\r\n",
       "comp def \"B\" as E5  <<(T,blue)part def>> [[psysml:57665928-471f-4095-91e2-d839a960cf78 ]] {\r\n",
       "}\r\n",
       "}\r\n",
       "package \"Test1\" as E6  [[psysml:6bb49afc-ac2c-47b7-b48e-5bd0a62b326b ]]  {\r\n",
       "comp usage \"x: A\" as E7  <<(T,blue)part>> [[psysml:d6e39b1a-8a39-4c69-85ab-aa8551443e08 ]] {\r\n",
       "}\r\n",
       "comp usage \"y: B\" as E8  <<(T,blue)part>> [[psysml:ead6e64d-b294-4a2d-a1d8-90d3751f1490 ]] {\r\n",
       "}\r\n",
       "E7 - -:|> E3 [[psysml:84278f38-d400-4655-8657-76a37dd9bb09 ]] \r\n",
       "E8 - -:|> E5 [[psysml:9a62fcce-aa5a-49d2-8cac-0b2f538e5bd0 ]] \r\n",
       "}\r\n",
       "package \"Test2\" as E9  [[psysml:051bf7cb-81b8-4c37-8865-8bb7ea974985 ]]  {\r\n",
       "comp usage \"x: A\" as E10  <<(T,blue)part>> [[psysml:f3cb1211-10b9-411e-bf19-d5722693e1fe ]] {\r\n",
       "}\r\n",
       "comp usage \"y: B\" as E11  <<(T,blue)part>> [[psysml:9cdccab4-e502-4fbe-97eb-9b231d825ffa ]] {\r\n",
       "}\r\n",
       "E10 - -:|> E3 [[psysml:bd7260c7-b55a-4391-86f8-9493bae3bcdc ]] \r\n",
       "E11 - -:|> E5 [[psysml:099d00ce-a154-42ce-865e-6b31b35a0829 ]] \r\n",
       "}\r\n",
       "comp usage \"x: A\" as E12  <<(T,blue)part>> [[psysml:87edab01-bf58-4e9e-abd1-c8b0194f7dca ]] {\r\n",
       "}\r\n",
       "comp usage \"y: B\" as E13  <<(T,blue)part>> [[psysml:20c5387a-1627-4e14-8312-6f39b31ab3f7 ]] {\r\n",
       "}\r\n",
       "E12 - -:|> E3 [[psysml:2e0d72ae-9b36-4ac2-af7e-1d21d87eecf3 ]] \r\n",
       "E13 - -:|> E5 [[psysml:28c76814-e954-4c97-b716-40e2f6813c6b ]] \r\n",
       "}\r\n",
       "@enduml\r\n",
       "\n",
       "PlantUML version 1.2020.13(Sat Jun 13 12:26:38 UTC 2020)\n",
       "(EPL source distribution)\n",
       "Java Runtime: OpenJDK Runtime Environment\n",
       "JVM: OpenJDK 64-Bit Server VM\n",
       "Default Encoding: UTF-8\n",
       "Language: en\n",
       "Country: null\n",
       "--></g></svg>"
      ]
     },
     "execution_count": 17,
     "metadata": {},
     "output_type": "execute_result"
    }
   ],
   "source": [
    "%viz --style=\"LR\" --view=\"Tree\" \"CircularImport\""
   ]
  },
  {
   "cell_type": "code",
   "execution_count": 18,
   "id": "e6aba34f",
   "metadata": {
    "execution": {
     "iopub.execute_input": "2021-04-20T06:57:52.856131Z",
     "iopub.status.busy": "2021-04-20T06:57:52.855307Z",
     "iopub.status.idle": "2021-04-20T06:57:52.861480Z",
     "shell.execute_reply": "2021-04-20T06:57:52.861175Z"
    }
   },
   "outputs": [
    {
     "data": {
      "image/svg+xml": [
       "<?xml version=\"1.0\" encoding=\"UTF-8\" standalone=\"no\"?><svg xmlns=\"http://www.w3.org/2000/svg\" xmlns:xlink=\"http://www.w3.org/1999/xlink\" contentScriptType=\"application/ecmascript\" contentStyleType=\"text/css\" height=\"12px\" preserveAspectRatio=\"none\" style=\"width:12px;height:12px;\" version=\"1.1\" viewBox=\"0 0 12 12\" width=\"12px\" zoomAndPan=\"magnify\"><defs/><g><!--MD5=[19d285c9d72a204eba4e2cd117d745e8]\n",
       "@startuml\r\n",
       "left to right direction\r\n",
       "skinparam monochrome true\r\n",
       "skinparam classbackgroundcolor white\r\n",
       "skinparam shadowing false\r\n",
       "skinparam wrapWidth 300\r\n",
       "hide circle\r\n",
       "\r\n",
       "@enduml\r\n",
       "\n",
       "PlantUML version 1.2020.13(Sat Jun 13 12:26:38 UTC 2020)\n",
       "(EPL source distribution)\n",
       "Java Runtime: OpenJDK Runtime Environment\n",
       "JVM: OpenJDK 64-Bit Server VM\n",
       "Default Encoding: UTF-8\n",
       "Language: en\n",
       "Country: null\n",
       "--></g></svg>"
      ]
     },
     "execution_count": 18,
     "metadata": {},
     "output_type": "execute_result"
    }
   ],
   "source": [
    "%viz --style=\"LR\" --view=\"State\" \"CircularImport\""
   ]
  },
  {
   "cell_type": "code",
   "execution_count": 19,
   "id": "a53ccf12",
   "metadata": {
    "execution": {
     "iopub.execute_input": "2021-04-20T06:57:52.912156Z",
     "iopub.status.busy": "2021-04-20T06:57:52.911769Z",
     "iopub.status.idle": "2021-04-20T06:57:52.977737Z",
     "shell.execute_reply": "2021-04-20T06:57:52.975871Z"
    }
   },
   "outputs": [
    {
     "data": {
      "image/svg+xml": [
       "<?xml version=\"1.0\" encoding=\"UTF-8\" standalone=\"no\"?><svg xmlns=\"http://www.w3.org/2000/svg\" xmlns:xlink=\"http://www.w3.org/1999/xlink\" contentScriptType=\"application/ecmascript\" contentStyleType=\"text/css\" height=\"805px\" preserveAspectRatio=\"none\" style=\"width:189px;height:805px;\" version=\"1.1\" viewBox=\"0 0 189 805\" width=\"189px\" zoomAndPan=\"magnify\"><defs/><g><!--MD5=[fbc87193dbaf4d95561dea2c320d4a47]\n",
       "cluster E1--><a href=\"psysml:690cd2ec-4fe7-4d94-89bf-c3d63ed60cd3\" target=\"_top\" title=\"psysml:690cd2ec-4fe7-4d94-89bf-c3d63ed60cd3\" xlink:actuate=\"onRequest\" xlink:href=\"psysml:690cd2ec-4fe7-4d94-89bf-c3d63ed60cd3\" xlink:show=\"new\" xlink:title=\"psysml:690cd2ec-4fe7-4d94-89bf-c3d63ed60cd3\" xlink:type=\"simple\"><polygon fill=\"#FFFFFF\" points=\"16,6,134,6,141,28.2969,167,28.2969,167,793,16,793,16,6\" style=\"stroke: #000000; stroke-width: 1.5;\"/><line style=\"stroke: #000000; stroke-width: 1.5;\" x1=\"16\" x2=\"141\" y1=\"28.2969\" y2=\"28.2969\"/><text fill=\"#000000\" font-family=\"sans-serif\" font-size=\"14\" font-weight=\"bold\" lengthAdjust=\"spacingAndGlyphs\" textLength=\"112\" x=\"20\" y=\"20.9951\">CircularImport</text></a><!--MD5=[e4f7fae6ed58524ba242bb0b0d3be6b7]\n",
       "cluster E2--><a href=\"psysml:54e3154d-4fa4-4c14-a367-edca149a76a1\" target=\"_top\" title=\"psysml:54e3154d-4fa4-4c14-a367-edca149a76a1\" xlink:actuate=\"onRequest\" xlink:href=\"psysml:54e3154d-4fa4-4c14-a367-edca149a76a1\" xlink:show=\"new\" xlink:title=\"psysml:54e3154d-4fa4-4c14-a367-edca149a76a1\" xlink:type=\"simple\"><polygon fill=\"#FFFFFF\" points=\"40,49,66,49,73,71.2969,143,71.2969,143,144,40,144,40,49\" style=\"stroke: #000000; stroke-width: 1.5;\"/><line style=\"stroke: #000000; stroke-width: 1.5;\" x1=\"40\" x2=\"73\" y1=\"71.2969\" y2=\"71.2969\"/><text fill=\"#000000\" font-family=\"sans-serif\" font-size=\"14\" font-weight=\"bold\" lengthAdjust=\"spacingAndGlyphs\" textLength=\"20\" x=\"44\" y=\"63.9951\">P1</text></a><!--MD5=[f6df4d0ebaf0b5dfb2ced0ae5af7c670]\n",
       "cluster E4--><a href=\"psysml:581c4a9e-fb07-4d80-ac64-c8c7b70027d2\" target=\"_top\" title=\"psysml:581c4a9e-fb07-4d80-ac64-c8c7b70027d2\" xlink:actuate=\"onRequest\" xlink:href=\"psysml:581c4a9e-fb07-4d80-ac64-c8c7b70027d2\" xlink:show=\"new\" xlink:title=\"psysml:581c4a9e-fb07-4d80-ac64-c8c7b70027d2\" xlink:type=\"simple\"><polygon fill=\"#FFFFFF\" points=\"40,168,66,168,73,190.2969,143,190.2969,143,263,40,263,40,168\" style=\"stroke: #000000; stroke-width: 1.5;\"/><line style=\"stroke: #000000; stroke-width: 1.5;\" x1=\"40\" x2=\"73\" y1=\"190.2969\" y2=\"190.2969\"/><text fill=\"#000000\" font-family=\"sans-serif\" font-size=\"14\" font-weight=\"bold\" lengthAdjust=\"spacingAndGlyphs\" textLength=\"20\" x=\"44\" y=\"182.9951\">P2</text></a><!--MD5=[14e3b0961a2654348d326746436168a1]\n",
       "cluster E6--><a href=\"psysml:6bb49afc-ac2c-47b7-b48e-5bd0a62b326b\" target=\"_top\" title=\"psysml:6bb49afc-ac2c-47b7-b48e-5bd0a62b326b\" xlink:actuate=\"onRequest\" xlink:href=\"psysml:6bb49afc-ac2c-47b7-b48e-5bd0a62b326b\" xlink:show=\"new\" xlink:title=\"psysml:6bb49afc-ac2c-47b7-b48e-5bd0a62b326b\" xlink:type=\"simple\"><polygon fill=\"#FFFFFF\" points=\"50.5,287,101.5,287,108.5,309.2969,132.5,309.2969,132.5,453,50.5,453,50.5,287\" style=\"stroke: #000000; stroke-width: 1.5;\"/><line style=\"stroke: #000000; stroke-width: 1.5;\" x1=\"50.5\" x2=\"108.5\" y1=\"309.2969\" y2=\"309.2969\"/><text fill=\"#000000\" font-family=\"sans-serif\" font-size=\"14\" font-weight=\"bold\" lengthAdjust=\"spacingAndGlyphs\" textLength=\"45\" x=\"54.5\" y=\"301.9951\">Test1</text></a><!--MD5=[7f149f147074ac12df2cb0a7728a5fb0]\n",
       "cluster E9--><a href=\"psysml:051bf7cb-81b8-4c37-8865-8bb7ea974985\" target=\"_top\" title=\"psysml:051bf7cb-81b8-4c37-8865-8bb7ea974985\" xlink:actuate=\"onRequest\" xlink:href=\"psysml:051bf7cb-81b8-4c37-8865-8bb7ea974985\" xlink:show=\"new\" xlink:title=\"psysml:051bf7cb-81b8-4c37-8865-8bb7ea974985\" xlink:type=\"simple\"><polygon fill=\"#FFFFFF\" points=\"50.5,477,101.5,477,108.5,499.2969,132.5,499.2969,132.5,643,50.5,643,50.5,477\" style=\"stroke: #000000; stroke-width: 1.5;\"/><line style=\"stroke: #000000; stroke-width: 1.5;\" x1=\"50.5\" x2=\"108.5\" y1=\"499.2969\" y2=\"499.2969\"/><text fill=\"#000000\" font-family=\"sans-serif\" font-size=\"14\" font-weight=\"bold\" lengthAdjust=\"spacingAndGlyphs\" textLength=\"45\" x=\"54.5\" y=\"491.9951\">Test2</text></a><g id=\"E1.E2.E3\"><a href=\"psysml:281245e6-0723-4878-ac57-c406fd778909\" target=\"_top\" title=\"psysml:281245e6-0723-4878-ac57-c406fd778909\" xlink:actuate=\"onRequest\" xlink:href=\"psysml:281245e6-0723-4878-ac57-c406fd778909\" xlink:show=\"new\" xlink:title=\"psysml:281245e6-0723-4878-ac57-c406fd778909\" xlink:type=\"simple\"><rect fill=\"#FFFFFF\" height=\"42.9375\" id=\"E3\" style=\"stroke: #383838; stroke-width: 1.5;\" width=\"71\" x=\"56\" y=\"84.5\"/><rect fill=\"#F8F8F8\" height=\"37.9375\" style=\"stroke: #383838; stroke-width: 1.5;\" width=\"71\" x=\"56\" y=\"84.5\"/><text fill=\"#000000\" font-family=\"sans-serif\" font-size=\"12\" font-style=\"italic\" lengthAdjust=\"spacingAndGlyphs\" textLength=\"64\" x=\"59.5\" y=\"100.6387\">«part def»</text><text fill=\"#000000\" font-family=\"sans-serif\" font-size=\"12\" lengthAdjust=\"spacingAndGlyphs\" textLength=\"8\" x=\"87.5\" y=\"114.6074\">A</text></a></g><g id=\"E1.E4.E5\"><a href=\"psysml:57665928-471f-4095-91e2-d839a960cf78\" target=\"_top\" title=\"psysml:57665928-471f-4095-91e2-d839a960cf78\" xlink:actuate=\"onRequest\" xlink:href=\"psysml:57665928-471f-4095-91e2-d839a960cf78\" xlink:show=\"new\" xlink:title=\"psysml:57665928-471f-4095-91e2-d839a960cf78\" xlink:type=\"simple\"><rect fill=\"#FFFFFF\" height=\"42.9375\" id=\"E5\" style=\"stroke: #383838; stroke-width: 1.5;\" width=\"71\" x=\"56\" y=\"203.5\"/><rect fill=\"#F8F8F8\" height=\"37.9375\" style=\"stroke: #383838; stroke-width: 1.5;\" width=\"71\" x=\"56\" y=\"203.5\"/><text fill=\"#000000\" font-family=\"sans-serif\" font-size=\"12\" font-style=\"italic\" lengthAdjust=\"spacingAndGlyphs\" textLength=\"64\" x=\"59.5\" y=\"219.6387\">«part def»</text><text fill=\"#000000\" font-family=\"sans-serif\" font-size=\"12\" lengthAdjust=\"spacingAndGlyphs\" textLength=\"8\" x=\"87.5\" y=\"233.6074\">B</text></a></g><g id=\"E1.E6.E7\"><a href=\"psysml:d6e39b1a-8a39-4c69-85ab-aa8551443e08\" target=\"_top\" title=\"psysml:d6e39b1a-8a39-4c69-85ab-aa8551443e08\" xlink:actuate=\"onRequest\" xlink:href=\"psysml:d6e39b1a-8a39-4c69-85ab-aa8551443e08\" xlink:show=\"new\" xlink:title=\"psysml:d6e39b1a-8a39-4c69-85ab-aa8551443e08\" xlink:type=\"simple\"><rect fill=\"#FFFFFF\" height=\"40\" id=\"E7\" rx=\"10\" ry=\"10\" style=\"stroke: #383838; stroke-width: 1.5;\" width=\"50\" x=\"66.5\" y=\"322\"/><rect fill=\"#F8F8F8\" height=\"23.9688\" rx=\"10\" ry=\"10\" style=\"stroke: #F8F8F8; stroke-width: 1.5;\" width=\"50\" x=\"66.5\" y=\"322\"/><rect fill=\"#F8F8F8\" height=\"10\" style=\"stroke: #F8F8F8; stroke-width: 1.5;\" width=\"50\" x=\"66.5\" y=\"335.9688\"/><rect fill=\"none\" height=\"40\" id=\"E7\" rx=\"10\" ry=\"10\" style=\"stroke: #383838; stroke-width: 1.5;\" width=\"50\" x=\"66.5\" y=\"322\"/><text fill=\"#000000\" font-family=\"sans-serif\" font-size=\"12\" lengthAdjust=\"spacingAndGlyphs\" textLength=\"22\" x=\"80.5\" y=\"338.1387\">x: A</text></a></g><g id=\"E1.E6.E8\"><a href=\"psysml:ead6e64d-b294-4a2d-a1d8-90d3751f1490\" target=\"_top\" title=\"psysml:ead6e64d-b294-4a2d-a1d8-90d3751f1490\" xlink:actuate=\"onRequest\" xlink:href=\"psysml:ead6e64d-b294-4a2d-a1d8-90d3751f1490\" xlink:show=\"new\" xlink:title=\"psysml:ead6e64d-b294-4a2d-a1d8-90d3751f1490\" xlink:type=\"simple\"><rect fill=\"#FFFFFF\" height=\"40\" id=\"E8\" rx=\"10\" ry=\"10\" style=\"stroke: #383838; stroke-width: 1.5;\" width=\"50\" x=\"66.5\" y=\"397\"/><rect fill=\"#F8F8F8\" height=\"23.9688\" rx=\"10\" ry=\"10\" style=\"stroke: #F8F8F8; stroke-width: 1.5;\" width=\"50\" x=\"66.5\" y=\"397\"/><rect fill=\"#F8F8F8\" height=\"10\" style=\"stroke: #F8F8F8; stroke-width: 1.5;\" width=\"50\" x=\"66.5\" y=\"410.9688\"/><rect fill=\"none\" height=\"40\" id=\"E8\" rx=\"10\" ry=\"10\" style=\"stroke: #383838; stroke-width: 1.5;\" width=\"50\" x=\"66.5\" y=\"397\"/><text fill=\"#000000\" font-family=\"sans-serif\" font-size=\"12\" lengthAdjust=\"spacingAndGlyphs\" textLength=\"22\" x=\"80.5\" y=\"413.1387\">y: B</text></a></g><g id=\"E1.E9.E10\"><a href=\"psysml:f3cb1211-10b9-411e-bf19-d5722693e1fe\" target=\"_top\" title=\"psysml:f3cb1211-10b9-411e-bf19-d5722693e1fe\" xlink:actuate=\"onRequest\" xlink:href=\"psysml:f3cb1211-10b9-411e-bf19-d5722693e1fe\" xlink:show=\"new\" xlink:title=\"psysml:f3cb1211-10b9-411e-bf19-d5722693e1fe\" xlink:type=\"simple\"><rect fill=\"#FFFFFF\" height=\"40\" id=\"E10\" rx=\"10\" ry=\"10\" style=\"stroke: #383838; stroke-width: 1.5;\" width=\"50\" x=\"66.5\" y=\"512\"/><rect fill=\"#F8F8F8\" height=\"23.9688\" rx=\"10\" ry=\"10\" style=\"stroke: #F8F8F8; stroke-width: 1.5;\" width=\"50\" x=\"66.5\" y=\"512\"/><rect fill=\"#F8F8F8\" height=\"10\" style=\"stroke: #F8F8F8; stroke-width: 1.5;\" width=\"50\" x=\"66.5\" y=\"525.9688\"/><rect fill=\"none\" height=\"40\" id=\"E10\" rx=\"10\" ry=\"10\" style=\"stroke: #383838; stroke-width: 1.5;\" width=\"50\" x=\"66.5\" y=\"512\"/><text fill=\"#000000\" font-family=\"sans-serif\" font-size=\"12\" lengthAdjust=\"spacingAndGlyphs\" textLength=\"22\" x=\"80.5\" y=\"528.1387\">x: A</text></a></g><g id=\"E1.E9.E11\"><a href=\"psysml:9cdccab4-e502-4fbe-97eb-9b231d825ffa\" target=\"_top\" title=\"psysml:9cdccab4-e502-4fbe-97eb-9b231d825ffa\" xlink:actuate=\"onRequest\" xlink:href=\"psysml:9cdccab4-e502-4fbe-97eb-9b231d825ffa\" xlink:show=\"new\" xlink:title=\"psysml:9cdccab4-e502-4fbe-97eb-9b231d825ffa\" xlink:type=\"simple\"><rect fill=\"#FFFFFF\" height=\"40\" id=\"E11\" rx=\"10\" ry=\"10\" style=\"stroke: #383838; stroke-width: 1.5;\" width=\"50\" x=\"66.5\" y=\"587\"/><rect fill=\"#F8F8F8\" height=\"23.9688\" rx=\"10\" ry=\"10\" style=\"stroke: #F8F8F8; stroke-width: 1.5;\" width=\"50\" x=\"66.5\" y=\"587\"/><rect fill=\"#F8F8F8\" height=\"10\" style=\"stroke: #F8F8F8; stroke-width: 1.5;\" width=\"50\" x=\"66.5\" y=\"600.9688\"/><rect fill=\"none\" height=\"40\" id=\"E11\" rx=\"10\" ry=\"10\" style=\"stroke: #383838; stroke-width: 1.5;\" width=\"50\" x=\"66.5\" y=\"587\"/><text fill=\"#000000\" font-family=\"sans-serif\" font-size=\"12\" lengthAdjust=\"spacingAndGlyphs\" textLength=\"22\" x=\"80.5\" y=\"603.1387\">y: B</text></a></g><g id=\"E1.E12\"><a href=\"psysml:87edab01-bf58-4e9e-abd1-c8b0194f7dca\" target=\"_top\" title=\"psysml:87edab01-bf58-4e9e-abd1-c8b0194f7dca\" xlink:actuate=\"onRequest\" xlink:href=\"psysml:87edab01-bf58-4e9e-abd1-c8b0194f7dca\" xlink:show=\"new\" xlink:title=\"psysml:87edab01-bf58-4e9e-abd1-c8b0194f7dca\" xlink:type=\"simple\"><rect fill=\"#FFFFFF\" height=\"40\" id=\"E12\" rx=\"10\" ry=\"10\" style=\"stroke: #383838; stroke-width: 1.5;\" width=\"50\" x=\"66.5\" y=\"662\"/><rect fill=\"#F8F8F8\" height=\"23.9688\" rx=\"10\" ry=\"10\" style=\"stroke: #F8F8F8; stroke-width: 1.5;\" width=\"50\" x=\"66.5\" y=\"662\"/><rect fill=\"#F8F8F8\" height=\"10\" style=\"stroke: #F8F8F8; stroke-width: 1.5;\" width=\"50\" x=\"66.5\" y=\"675.9688\"/><rect fill=\"none\" height=\"40\" id=\"E12\" rx=\"10\" ry=\"10\" style=\"stroke: #383838; stroke-width: 1.5;\" width=\"50\" x=\"66.5\" y=\"662\"/><text fill=\"#000000\" font-family=\"sans-serif\" font-size=\"12\" lengthAdjust=\"spacingAndGlyphs\" textLength=\"22\" x=\"80.5\" y=\"678.1387\">x: A</text></a></g><g id=\"E1.E13\"><a href=\"psysml:20c5387a-1627-4e14-8312-6f39b31ab3f7\" target=\"_top\" title=\"psysml:20c5387a-1627-4e14-8312-6f39b31ab3f7\" xlink:actuate=\"onRequest\" xlink:href=\"psysml:20c5387a-1627-4e14-8312-6f39b31ab3f7\" xlink:show=\"new\" xlink:title=\"psysml:20c5387a-1627-4e14-8312-6f39b31ab3f7\" xlink:type=\"simple\"><rect fill=\"#FFFFFF\" height=\"40\" id=\"E13\" rx=\"10\" ry=\"10\" style=\"stroke: #383838; stroke-width: 1.5;\" width=\"50\" x=\"66.5\" y=\"737\"/><rect fill=\"#F8F8F8\" height=\"23.9688\" rx=\"10\" ry=\"10\" style=\"stroke: #F8F8F8; stroke-width: 1.5;\" width=\"50\" x=\"66.5\" y=\"737\"/><rect fill=\"#F8F8F8\" height=\"10\" style=\"stroke: #F8F8F8; stroke-width: 1.5;\" width=\"50\" x=\"66.5\" y=\"750.9688\"/><rect fill=\"none\" height=\"40\" id=\"E13\" rx=\"10\" ry=\"10\" style=\"stroke: #383838; stroke-width: 1.5;\" width=\"50\" x=\"66.5\" y=\"737\"/><text fill=\"#000000\" font-family=\"sans-serif\" font-size=\"12\" lengthAdjust=\"spacingAndGlyphs\" textLength=\"22\" x=\"80.5\" y=\"753.1387\">y: B</text></a></g><!--MD5=[da90ce93d266d34920429a2e200a5396]\n",
       "@startuml\r\n",
       "skinparam ranksep 10\r\n",
       "skinparam rectangle {\r\n",
       " backgroundColor<<block>> LightGreen\r\n",
       "}\r\n",
       "left to right direction\r\n",
       "skinparam monochrome true\r\n",
       "skinparam classbackgroundcolor white\r\n",
       "skinparam shadowing false\r\n",
       "skinparam wrapWidth 300\r\n",
       "hide circle\r\n",
       "\r\n",
       "package \"CircularImport\" as E1  [[psysml:690cd2ec-4fe7-4d94-89bf-c3d63ed60cd3 ]]  {\r\n",
       "package \"P1\" as E2  [[psysml:54e3154d-4fa4-4c14-a367-edca149a76a1 ]]  {\r\n",
       "rec def \"A\" as E3  <<(T,blue)part def>> [[psysml:281245e6-0723-4878-ac57-c406fd778909 ]] {\r\n",
       "}\r\n",
       "}\r\n",
       "package \"P2\" as E4  [[psysml:581c4a9e-fb07-4d80-ac64-c8c7b70027d2 ]]  {\r\n",
       "rec def \"B\" as E5  <<(T,blue)part def>> [[psysml:57665928-471f-4095-91e2-d839a960cf78 ]] {\r\n",
       "}\r\n",
       "}\r\n",
       "package \"Test1\" as E6  [[psysml:6bb49afc-ac2c-47b7-b48e-5bd0a62b326b ]]  {\r\n",
       "rec usage \"x: A\" as E7  [[psysml:d6e39b1a-8a39-4c69-85ab-aa8551443e08 ]] {\r\n",
       "}\r\n",
       "rec usage \"y: B\" as E8  [[psysml:ead6e64d-b294-4a2d-a1d8-90d3751f1490 ]] {\r\n",
       "}\r\n",
       "}\r\n",
       "package \"Test2\" as E9  [[psysml:051bf7cb-81b8-4c37-8865-8bb7ea974985 ]]  {\r\n",
       "rec usage \"x: A\" as E10  [[psysml:f3cb1211-10b9-411e-bf19-d5722693e1fe ]] {\r\n",
       "}\r\n",
       "rec usage \"y: B\" as E11  [[psysml:9cdccab4-e502-4fbe-97eb-9b231d825ffa ]] {\r\n",
       "}\r\n",
       "}\r\n",
       "rec usage \"x: A\" as E12  [[psysml:87edab01-bf58-4e9e-abd1-c8b0194f7dca ]] {\r\n",
       "}\r\n",
       "rec usage \"y: B\" as E13  [[psysml:20c5387a-1627-4e14-8312-6f39b31ab3f7 ]] {\r\n",
       "}\r\n",
       "}\r\n",
       "@enduml\r\n",
       "\n",
       "PlantUML version 1.2020.13(Sat Jun 13 12:26:38 UTC 2020)\n",
       "(EPL source distribution)\n",
       "Java Runtime: OpenJDK Runtime Environment\n",
       "JVM: OpenJDK 64-Bit Server VM\n",
       "Default Encoding: UTF-8\n",
       "Language: en\n",
       "Country: null\n",
       "--></g></svg>"
      ]
     },
     "execution_count": 19,
     "metadata": {},
     "output_type": "execute_result"
    }
   ],
   "source": [
    "%viz --style=\"LR\" --view=\"Interconnection\" \"CircularImport\""
   ]
  },
  {
   "cell_type": "code",
   "execution_count": 20,
   "id": "7a5f0f0d",
   "metadata": {
    "execution": {
     "iopub.execute_input": "2021-04-20T06:57:53.027360Z",
     "iopub.status.busy": "2021-04-20T06:57:53.026926Z",
     "iopub.status.idle": "2021-04-20T06:57:53.036362Z",
     "shell.execute_reply": "2021-04-20T06:57:53.036024Z"
    }
   },
   "outputs": [
    {
     "data": {
      "image/svg+xml": [
       "<?xml version=\"1.0\" encoding=\"UTF-8\" standalone=\"no\"?><svg xmlns=\"http://www.w3.org/2000/svg\" xmlns:xlink=\"http://www.w3.org/1999/xlink\" contentScriptType=\"application/ecmascript\" contentStyleType=\"text/css\" height=\"12px\" preserveAspectRatio=\"none\" style=\"width:12px;height:12px;\" version=\"1.1\" viewBox=\"0 0 12 12\" width=\"12px\" zoomAndPan=\"magnify\"><defs/><g><!--MD5=[7aeb398939421629f6affaa4a1a7b125]\n",
       "@startuml\r\n",
       "skinparam ranksep 8\r\n",
       "left to right direction\r\n",
       "skinparam monochrome true\r\n",
       "skinparam classbackgroundcolor white\r\n",
       "skinparam shadowing false\r\n",
       "skinparam wrapWidth 300\r\n",
       "hide circle\r\n",
       "\r\n",
       "@enduml\r\n",
       "\n",
       "PlantUML version 1.2020.13(Sat Jun 13 12:26:38 UTC 2020)\n",
       "(EPL source distribution)\n",
       "Java Runtime: OpenJDK Runtime Environment\n",
       "JVM: OpenJDK 64-Bit Server VM\n",
       "Default Encoding: UTF-8\n",
       "Language: en\n",
       "Country: null\n",
       "--></g></svg>"
      ]
     },
     "execution_count": 20,
     "metadata": {},
     "output_type": "execute_result"
    }
   ],
   "source": [
    "%viz --style=\"LR\" --view=\"Action\" \"CircularImport\""
   ]
  },
  {
   "cell_type": "code",
   "execution_count": 21,
   "id": "9d4da993",
   "metadata": {
    "execution": {
     "iopub.execute_input": "2021-04-20T06:57:53.087289Z",
     "iopub.status.busy": "2021-04-20T06:57:53.086759Z",
     "iopub.status.idle": "2021-04-20T06:57:53.130430Z",
     "shell.execute_reply": "2021-04-20T06:57:53.128388Z"
    }
   },
   "outputs": [
    {
     "data": {
      "image/svg+xml": [
       "<?xml version=\"1.0\" encoding=\"UTF-8\" standalone=\"no\"?><svg xmlns=\"http://www.w3.org/2000/svg\" xmlns:xlink=\"http://www.w3.org/1999/xlink\" contentScriptType=\"application/ecmascript\" contentStyleType=\"text/css\" height=\"576px\" preserveAspectRatio=\"none\" style=\"width:286px;height:576px;\" version=\"1.1\" viewBox=\"0 0 286 576\" width=\"286px\" zoomAndPan=\"magnify\"><defs/><g><!--MD5=[fbc87193dbaf4d95561dea2c320d4a47]\n",
       "cluster E1--><a href=\"psysml:690cd2ec-4fe7-4d94-89bf-c3d63ed60cd3\" target=\"_top\" title=\"psysml:690cd2ec-4fe7-4d94-89bf-c3d63ed60cd3\" xlink:actuate=\"onRequest\" xlink:href=\"psysml:690cd2ec-4fe7-4d94-89bf-c3d63ed60cd3\" xlink:show=\"new\" xlink:title=\"psysml:690cd2ec-4fe7-4d94-89bf-c3d63ed60cd3\" xlink:type=\"simple\"><polygon fill=\"#FFFFFF\" points=\"16,6,134,6,141,28.2969,264,28.2969,264,564,16,564,16,6\" style=\"stroke: #000000; stroke-width: 1.5;\"/><line style=\"stroke: #000000; stroke-width: 1.5;\" x1=\"16\" x2=\"141\" y1=\"28.2969\" y2=\"28.2969\"/><text fill=\"#000000\" font-family=\"sans-serif\" font-size=\"14\" font-weight=\"bold\" lengthAdjust=\"spacingAndGlyphs\" textLength=\"112\" x=\"20\" y=\"20.9951\">CircularImport</text></a><!--MD5=[e4f7fae6ed58524ba242bb0b0d3be6b7]\n",
       "cluster E2--><a href=\"psysml:54e3154d-4fa4-4c14-a367-edca149a76a1\" target=\"_top\" title=\"psysml:54e3154d-4fa4-4c14-a367-edca149a76a1\" xlink:actuate=\"onRequest\" xlink:href=\"psysml:54e3154d-4fa4-4c14-a367-edca149a76a1\" xlink:show=\"new\" xlink:title=\"psysml:54e3154d-4fa4-4c14-a367-edca149a76a1\" xlink:type=\"simple\"><polygon fill=\"#FFFFFF\" points=\"142,103,168,103,175,125.2969,240,125.2969,240,200,142,200,142,103\" style=\"stroke: #000000; stroke-width: 1.5;\"/><line style=\"stroke: #000000; stroke-width: 1.5;\" x1=\"142\" x2=\"175\" y1=\"125.2969\" y2=\"125.2969\"/><text fill=\"#000000\" font-family=\"sans-serif\" font-size=\"14\" font-weight=\"bold\" lengthAdjust=\"spacingAndGlyphs\" textLength=\"20\" x=\"146\" y=\"117.9951\">P1</text></a><!--MD5=[f6df4d0ebaf0b5dfb2ced0ae5af7c670]\n",
       "cluster E4--><a href=\"psysml:581c4a9e-fb07-4d80-ac64-c8c7b70027d2\" target=\"_top\" title=\"psysml:581c4a9e-fb07-4d80-ac64-c8c7b70027d2\" xlink:actuate=\"onRequest\" xlink:href=\"psysml:581c4a9e-fb07-4d80-ac64-c8c7b70027d2\" xlink:show=\"new\" xlink:title=\"psysml:581c4a9e-fb07-4d80-ac64-c8c7b70027d2\" xlink:type=\"simple\"><polygon fill=\"#FFFFFF\" points=\"142,386,168,386,175,408.2969,240,408.2969,240,483,142,483,142,386\" style=\"stroke: #000000; stroke-width: 1.5;\"/><line style=\"stroke: #000000; stroke-width: 1.5;\" x1=\"142\" x2=\"175\" y1=\"408.2969\" y2=\"408.2969\"/><text fill=\"#000000\" font-family=\"sans-serif\" font-size=\"14\" font-weight=\"bold\" lengthAdjust=\"spacingAndGlyphs\" textLength=\"20\" x=\"146\" y=\"400.9951\">P2</text></a><!--MD5=[14e3b0961a2654348d326746436168a1]\n",
       "cluster E6--><a href=\"psysml:6bb49afc-ac2c-47b7-b48e-5bd0a62b326b\" target=\"_top\" title=\"psysml:6bb49afc-ac2c-47b7-b48e-5bd0a62b326b\" xlink:actuate=\"onRequest\" xlink:href=\"psysml:6bb49afc-ac2c-47b7-b48e-5bd0a62b326b\" xlink:show=\"new\" xlink:title=\"psysml:6bb49afc-ac2c-47b7-b48e-5bd0a62b326b\" xlink:type=\"simple\"><polygon fill=\"#FFFFFF\" points=\"40,103,91,103,98,125.2969,114,125.2969,114,281,40,281,40,103\" style=\"stroke: #000000; stroke-width: 1.5;\"/><line style=\"stroke: #000000; stroke-width: 1.5;\" x1=\"40\" x2=\"98\" y1=\"125.2969\" y2=\"125.2969\"/><text fill=\"#000000\" font-family=\"sans-serif\" font-size=\"14\" font-weight=\"bold\" lengthAdjust=\"spacingAndGlyphs\" textLength=\"45\" x=\"44\" y=\"117.9951\">Test1</text></a><!--MD5=[7f149f147074ac12df2cb0a7728a5fb0]\n",
       "cluster E9--><a href=\"psysml:051bf7cb-81b8-4c37-8865-8bb7ea974985\" target=\"_top\" title=\"psysml:051bf7cb-81b8-4c37-8865-8bb7ea974985\" xlink:actuate=\"onRequest\" xlink:href=\"psysml:051bf7cb-81b8-4c37-8865-8bb7ea974985\" xlink:show=\"new\" xlink:title=\"psysml:051bf7cb-81b8-4c37-8865-8bb7ea974985\" xlink:type=\"simple\"><polygon fill=\"#FFFFFF\" points=\"40,305,91,305,98,327.2969,114,327.2969,114,483,40,483,40,305\" style=\"stroke: #000000; stroke-width: 1.5;\"/><line style=\"stroke: #000000; stroke-width: 1.5;\" x1=\"40\" x2=\"98\" y1=\"327.2969\" y2=\"327.2969\"/><text fill=\"#000000\" font-family=\"sans-serif\" font-size=\"14\" font-weight=\"bold\" lengthAdjust=\"spacingAndGlyphs\" textLength=\"45\" x=\"44\" y=\"319.9951\">Test2</text></a><!--MD5=[49a0ec8f00dab7302a31f22d0f0fe584]\n",
       "class E12--><a href=\"psysml:87edab01-bf58-4e9e-abd1-c8b0194f7dca\" target=\"_top\" title=\"psysml:87edab01-bf58-4e9e-abd1-c8b0194f7dca\" xlink:actuate=\"onRequest\" xlink:href=\"psysml:87edab01-bf58-4e9e-abd1-c8b0194f7dca\" xlink:show=\"new\" xlink:title=\"psysml:87edab01-bf58-4e9e-abd1-c8b0194f7dca\" xlink:type=\"simple\"><rect fill=\"#FFFFFF\" height=\"45.9375\" id=\"E12\" rx=\"10\" ry=\"10\" style=\"stroke: #383838; stroke-width: 1.5;\" width=\"42\" x=\"56\" y=\"41\"/><text fill=\"#000000\" font-family=\"sans-serif\" font-size=\"12\" font-style=\"italic\" lengthAdjust=\"spacingAndGlyphs\" textLength=\"40\" x=\"57\" y=\"57.1387\">«part»</text><text fill=\"#000000\" font-family=\"sans-serif\" font-size=\"12\" lengthAdjust=\"spacingAndGlyphs\" textLength=\"22\" x=\"66\" y=\"71.1074\">x: A</text><line style=\"stroke: #383838; stroke-width: 1.5;\" x1=\"57\" x2=\"97\" y1=\"78.9375\" y2=\"78.9375\"/></a><!--MD5=[ee3c913d1a06f366521f9ef512b67efe]\n",
       "class E13--><a href=\"psysml:20c5387a-1627-4e14-8312-6f39b31ab3f7\" target=\"_top\" title=\"psysml:20c5387a-1627-4e14-8312-6f39b31ab3f7\" xlink:actuate=\"onRequest\" xlink:href=\"psysml:20c5387a-1627-4e14-8312-6f39b31ab3f7\" xlink:show=\"new\" xlink:title=\"psysml:20c5387a-1627-4e14-8312-6f39b31ab3f7\" xlink:type=\"simple\"><rect fill=\"#FFFFFF\" height=\"45.9375\" id=\"E13\" rx=\"10\" ry=\"10\" style=\"stroke: #383838; stroke-width: 1.5;\" width=\"42\" x=\"56\" y=\"502\"/><text fill=\"#000000\" font-family=\"sans-serif\" font-size=\"12\" font-style=\"italic\" lengthAdjust=\"spacingAndGlyphs\" textLength=\"40\" x=\"57\" y=\"518.1387\">«part»</text><text fill=\"#000000\" font-family=\"sans-serif\" font-size=\"12\" lengthAdjust=\"spacingAndGlyphs\" textLength=\"22\" x=\"66\" y=\"532.1074\">y: B</text><line style=\"stroke: #383838; stroke-width: 1.5;\" x1=\"57\" x2=\"97\" y1=\"539.9375\" y2=\"539.9375\"/></a><!--MD5=[09b614a08d8cba4a07c9adeb5e0fee81]\n",
       "class E3--><a href=\"psysml:281245e6-0723-4878-ac57-c406fd778909\" target=\"_top\" title=\"psysml:281245e6-0723-4878-ac57-c406fd778909\" xlink:actuate=\"onRequest\" xlink:href=\"psysml:281245e6-0723-4878-ac57-c406fd778909\" xlink:show=\"new\" xlink:title=\"psysml:281245e6-0723-4878-ac57-c406fd778909\" xlink:type=\"simple\"><rect fill=\"#FFFFFF\" height=\"45.9375\" id=\"E3\" style=\"stroke: #383838; stroke-width: 1.5;\" width=\"66\" x=\"158\" y=\"138\"/><text fill=\"#000000\" font-family=\"sans-serif\" font-size=\"12\" font-style=\"italic\" lengthAdjust=\"spacingAndGlyphs\" textLength=\"64\" x=\"159\" y=\"154.1387\">«part def»</text><text fill=\"#000000\" font-family=\"sans-serif\" font-size=\"12\" lengthAdjust=\"spacingAndGlyphs\" textLength=\"8\" x=\"187\" y=\"168.1074\">A</text><line style=\"stroke: #383838; stroke-width: 1.5;\" x1=\"159\" x2=\"223\" y1=\"175.9375\" y2=\"175.9375\"/></a><!--MD5=[270fce915f116d4de14055a7c1d9a0f3]\n",
       "class E5--><a href=\"psysml:57665928-471f-4095-91e2-d839a960cf78\" target=\"_top\" title=\"psysml:57665928-471f-4095-91e2-d839a960cf78\" xlink:actuate=\"onRequest\" xlink:href=\"psysml:57665928-471f-4095-91e2-d839a960cf78\" xlink:show=\"new\" xlink:title=\"psysml:57665928-471f-4095-91e2-d839a960cf78\" xlink:type=\"simple\"><rect fill=\"#FFFFFF\" height=\"45.9375\" id=\"E5\" style=\"stroke: #383838; stroke-width: 1.5;\" width=\"66\" x=\"158\" y=\"421\"/><text fill=\"#000000\" font-family=\"sans-serif\" font-size=\"12\" font-style=\"italic\" lengthAdjust=\"spacingAndGlyphs\" textLength=\"64\" x=\"159\" y=\"437.1387\">«part def»</text><text fill=\"#000000\" font-family=\"sans-serif\" font-size=\"12\" lengthAdjust=\"spacingAndGlyphs\" textLength=\"8\" x=\"187\" y=\"451.1074\">B</text><line style=\"stroke: #383838; stroke-width: 1.5;\" x1=\"159\" x2=\"223\" y1=\"458.9375\" y2=\"458.9375\"/></a><!--MD5=[2156ba9850f5573cc1fc38a6a4b2f02b]\n",
       "class E7--><a href=\"psysml:d6e39b1a-8a39-4c69-85ab-aa8551443e08\" target=\"_top\" title=\"psysml:d6e39b1a-8a39-4c69-85ab-aa8551443e08\" xlink:actuate=\"onRequest\" xlink:href=\"psysml:d6e39b1a-8a39-4c69-85ab-aa8551443e08\" xlink:show=\"new\" xlink:title=\"psysml:d6e39b1a-8a39-4c69-85ab-aa8551443e08\" xlink:type=\"simple\"><rect fill=\"#FFFFFF\" height=\"45.9375\" id=\"E7\" rx=\"10\" ry=\"10\" style=\"stroke: #383838; stroke-width: 1.5;\" width=\"42\" x=\"56\" y=\"138\"/><text fill=\"#000000\" font-family=\"sans-serif\" font-size=\"12\" font-style=\"italic\" lengthAdjust=\"spacingAndGlyphs\" textLength=\"40\" x=\"57\" y=\"154.1387\">«part»</text><text fill=\"#000000\" font-family=\"sans-serif\" font-size=\"12\" lengthAdjust=\"spacingAndGlyphs\" textLength=\"22\" x=\"66\" y=\"168.1074\">x: A</text><line style=\"stroke: #383838; stroke-width: 1.5;\" x1=\"57\" x2=\"97\" y1=\"175.9375\" y2=\"175.9375\"/></a><!--MD5=[b9389687b975829384b498ac4b7476b2]\n",
       "class E8--><a href=\"psysml:ead6e64d-b294-4a2d-a1d8-90d3751f1490\" target=\"_top\" title=\"psysml:ead6e64d-b294-4a2d-a1d8-90d3751f1490\" xlink:actuate=\"onRequest\" xlink:href=\"psysml:ead6e64d-b294-4a2d-a1d8-90d3751f1490\" xlink:show=\"new\" xlink:title=\"psysml:ead6e64d-b294-4a2d-a1d8-90d3751f1490\" xlink:type=\"simple\"><rect fill=\"#FFFFFF\" height=\"45.9375\" id=\"E8\" rx=\"10\" ry=\"10\" style=\"stroke: #383838; stroke-width: 1.5;\" width=\"42\" x=\"56\" y=\"219\"/><text fill=\"#000000\" font-family=\"sans-serif\" font-size=\"12\" font-style=\"italic\" lengthAdjust=\"spacingAndGlyphs\" textLength=\"40\" x=\"57\" y=\"235.1387\">«part»</text><text fill=\"#000000\" font-family=\"sans-serif\" font-size=\"12\" lengthAdjust=\"spacingAndGlyphs\" textLength=\"22\" x=\"66\" y=\"249.1074\">y: B</text><line style=\"stroke: #383838; stroke-width: 1.5;\" x1=\"57\" x2=\"97\" y1=\"256.9375\" y2=\"256.9375\"/></a><!--MD5=[96f4274e9e20536e775497830990834d]\n",
       "class E10--><a href=\"psysml:f3cb1211-10b9-411e-bf19-d5722693e1fe\" target=\"_top\" title=\"psysml:f3cb1211-10b9-411e-bf19-d5722693e1fe\" xlink:actuate=\"onRequest\" xlink:href=\"psysml:f3cb1211-10b9-411e-bf19-d5722693e1fe\" xlink:show=\"new\" xlink:title=\"psysml:f3cb1211-10b9-411e-bf19-d5722693e1fe\" xlink:type=\"simple\"><rect fill=\"#FFFFFF\" height=\"45.9375\" id=\"E10\" rx=\"10\" ry=\"10\" style=\"stroke: #383838; stroke-width: 1.5;\" width=\"42\" x=\"56\" y=\"340\"/><text fill=\"#000000\" font-family=\"sans-serif\" font-size=\"12\" font-style=\"italic\" lengthAdjust=\"spacingAndGlyphs\" textLength=\"40\" x=\"57\" y=\"356.1387\">«part»</text><text fill=\"#000000\" font-family=\"sans-serif\" font-size=\"12\" lengthAdjust=\"spacingAndGlyphs\" textLength=\"22\" x=\"66\" y=\"370.1074\">x: A</text><line style=\"stroke: #383838; stroke-width: 1.5;\" x1=\"57\" x2=\"97\" y1=\"377.9375\" y2=\"377.9375\"/></a><!--MD5=[1dd1bfd58a279cf63c5f349dbc8fc6a1]\n",
       "class E11--><a href=\"psysml:9cdccab4-e502-4fbe-97eb-9b231d825ffa\" target=\"_top\" title=\"psysml:9cdccab4-e502-4fbe-97eb-9b231d825ffa\" xlink:actuate=\"onRequest\" xlink:href=\"psysml:9cdccab4-e502-4fbe-97eb-9b231d825ffa\" xlink:show=\"new\" xlink:title=\"psysml:9cdccab4-e502-4fbe-97eb-9b231d825ffa\" xlink:type=\"simple\"><rect fill=\"#FFFFFF\" height=\"45.9375\" id=\"E11\" rx=\"10\" ry=\"10\" style=\"stroke: #383838; stroke-width: 1.5;\" width=\"42\" x=\"56\" y=\"421\"/><text fill=\"#000000\" font-family=\"sans-serif\" font-size=\"12\" font-style=\"italic\" lengthAdjust=\"spacingAndGlyphs\" textLength=\"40\" x=\"57\" y=\"437.1387\">«part»</text><text fill=\"#000000\" font-family=\"sans-serif\" font-size=\"12\" lengthAdjust=\"spacingAndGlyphs\" textLength=\"22\" x=\"66\" y=\"451.1074\">y: B</text><line style=\"stroke: #383838; stroke-width: 1.5;\" x1=\"57\" x2=\"97\" y1=\"458.9375\" y2=\"458.9375\"/></a><!--MD5=[14ccda38c055a5c0da953d572bc50960]\n",
       "link E7 to E3--><a href=\"psysml:84278f38-d400-4655-8657-76a37dd9bb09\" target=\"_top\" title=\"psysml:84278f38-d400-4655-8657-76a37dd9bb09\" xlink:actuate=\"onRequest\" xlink:href=\"psysml:84278f38-d400-4655-8657-76a37dd9bb09\" xlink:show=\"new\" xlink:title=\"psysml:84278f38-d400-4655-8657-76a37dd9bb09\" xlink:type=\"simple\"><path d=\"M98.02,161 C109.18,161 123.65,161 137.79,161 \" fill=\"none\" id=\"E7-&gt;E3\" style=\"stroke: #383838; stroke-width: 1.0;\"/><polygon fill=\"#FFFFFF\" points=\"157.86,161,138.86,168,138.86,154,157.86,161\" style=\"stroke: #383838; stroke-width: 1.0;\"/><ellipse cx=\"133.16\" cy=\"166\" fill=\"#383838\" rx=\"2\" ry=\"2\" style=\"stroke: #383838; stroke-width: 1.0;\"/><ellipse cx=\"133.16\" cy=\"156\" fill=\"#383838\" rx=\"2\" ry=\"2\" style=\"stroke: #383838; stroke-width: 1.0;\"/></a><!--MD5=[1ccb2481ffa92f8d51a74ee30c51832a]\n",
       "link E8 to E5--><a href=\"psysml:9a62fcce-aa5a-49d2-8cac-0b2f538e5bd0\" target=\"_top\" title=\"psysml:9a62fcce-aa5a-49d2-8cac-0b2f538e5bd0\" xlink:actuate=\"onRequest\" xlink:href=\"psysml:9a62fcce-aa5a-49d2-8cac-0b2f538e5bd0\" xlink:show=\"new\" xlink:title=\"psysml:9a62fcce-aa5a-49d2-8cac-0b2f538e5bd0\" xlink:type=\"simple\"><path d=\"M90.85,265.17 C109.49,298.8 144.32,361.62 167.34,403.13 \" fill=\"none\" id=\"E8-&gt;E5\" style=\"stroke: #383838; stroke-width: 1.0;\"/><polygon fill=\"#FFFFFF\" points=\"177.13,420.79,161.7919,407.5709,174.0344,400.7796,177.13,420.79\" style=\"stroke: #383838; stroke-width: 1.0;\"/><ellipse cx=\"160.7758\" cy=\"401.6163\" fill=\"#383838\" rx=\"2\" ry=\"2\" style=\"stroke: #383838; stroke-width: 1.0;\"/><ellipse cx=\"169.5204\" cy=\"396.7653\" fill=\"#383838\" rx=\"2\" ry=\"2\" style=\"stroke: #383838; stroke-width: 1.0;\"/></a><!--MD5=[feeac5eb423634930294aa81f2d25a4c]\n",
       "link E10 to E3--><a href=\"psysml:bd7260c7-b55a-4391-86f8-9493bae3bcdc\" target=\"_top\" title=\"psysml:bd7260c7-b55a-4391-86f8-9493bae3bcdc\" xlink:actuate=\"onRequest\" xlink:href=\"psysml:bd7260c7-b55a-4391-86f8-9493bae3bcdc\" xlink:show=\"new\" xlink:title=\"psysml:bd7260c7-b55a-4391-86f8-9493bae3bcdc\" xlink:type=\"simple\"><path d=\"M90.85,339.83 C109.49,306.2 144.32,243.38 167.34,201.87 \" fill=\"none\" id=\"E10-&gt;E3\" style=\"stroke: #383838; stroke-width: 1.0;\"/><polygon fill=\"#FFFFFF\" points=\"177.13,184.21,174.0344,204.2204,161.7919,197.4291,177.13,184.21\" style=\"stroke: #383838; stroke-width: 1.0;\"/><ellipse cx=\"169.5204\" cy=\"208.2347\" fill=\"#383838\" rx=\"2\" ry=\"2\" style=\"stroke: #383838; stroke-width: 1.0;\"/><ellipse cx=\"160.7758\" cy=\"203.3837\" fill=\"#383838\" rx=\"2\" ry=\"2\" style=\"stroke: #383838; stroke-width: 1.0;\"/></a><!--MD5=[07b77f6f309248d16187045709d1c26e]\n",
       "link E11 to E5--><a href=\"psysml:099d00ce-a154-42ce-865e-6b31b35a0829\" target=\"_top\" title=\"psysml:099d00ce-a154-42ce-865e-6b31b35a0829\" xlink:actuate=\"onRequest\" xlink:href=\"psysml:099d00ce-a154-42ce-865e-6b31b35a0829\" xlink:show=\"new\" xlink:title=\"psysml:099d00ce-a154-42ce-865e-6b31b35a0829\" xlink:type=\"simple\"><path d=\"M98.02,444 C109.18,444 123.65,444 137.79,444 \" fill=\"none\" id=\"E11-&gt;E5\" style=\"stroke: #383838; stroke-width: 1.0;\"/><polygon fill=\"#FFFFFF\" points=\"157.86,444,138.86,451,138.86,437,157.86,444\" style=\"stroke: #383838; stroke-width: 1.0;\"/><ellipse cx=\"133.16\" cy=\"449\" fill=\"#383838\" rx=\"2\" ry=\"2\" style=\"stroke: #383838; stroke-width: 1.0;\"/><ellipse cx=\"133.16\" cy=\"439\" fill=\"#383838\" rx=\"2\" ry=\"2\" style=\"stroke: #383838; stroke-width: 1.0;\"/></a><!--MD5=[39f41a0e550fb3d73b4d8135617e30a2]\n",
       "link E12 to E3--><a href=\"psysml:2e0d72ae-9b36-4ac2-af7e-1d21d87eecf3\" target=\"_top\" title=\"psysml:2e0d72ae-9b36-4ac2-af7e-1d21d87eecf3\" xlink:actuate=\"onRequest\" xlink:href=\"psysml:2e0d72ae-9b36-4ac2-af7e-1d21d87eecf3\" xlink:show=\"new\" xlink:title=\"psysml:2e0d72ae-9b36-4ac2-af7e-1d21d87eecf3\" xlink:type=\"simple\"><path d=\"M98.02,81.34 C111.92,93.38 130.95,109.86 148.09,124.7 \" fill=\"none\" id=\"E12-&gt;E3\" style=\"stroke: #383838; stroke-width: 1.0;\"/><polygon fill=\"#FFFFFF\" points=\"163.41,137.97,144.4677,130.8155,153.6371,120.2361,163.41,137.97\" style=\"stroke: #383838; stroke-width: 1.0;\"/><ellipse cx=\"141.4703\" cy=\"125.5709\" fill=\"#383838\" rx=\"2\" ry=\"2\" style=\"stroke: #383838; stroke-width: 1.0;\"/><ellipse cx=\"148.0199\" cy=\"118.0142\" fill=\"#383838\" rx=\"2\" ry=\"2\" style=\"stroke: #383838; stroke-width: 1.0;\"/></a><!--MD5=[066b2d8af59fea80ccdb3d54ad5c1091]\n",
       "link E13 to E5--><a href=\"psysml:28c76814-e954-4c97-b716-40e2f6813c6b\" target=\"_top\" title=\"psysml:28c76814-e954-4c97-b716-40e2f6813c6b\" xlink:actuate=\"onRequest\" xlink:href=\"psysml:28c76814-e954-4c97-b716-40e2f6813c6b\" xlink:show=\"new\" xlink:title=\"psysml:28c76814-e954-4c97-b716-40e2f6813c6b\" xlink:type=\"simple\"><path d=\"M98.02,510.52 C110.09,501.79 126.03,490.27 141.24,479.27 \" fill=\"none\" id=\"E13-&gt;E5\" style=\"stroke: #383838; stroke-width: 1.0;\"/><polygon fill=\"#FFFFFF\" points=\"157.86,467.25,146.5582,484.0509,138.3595,472.7027,157.86,467.25\" style=\"stroke: #383838; stroke-width: 1.0;\"/><ellipse cx=\"140.7667\" cy=\"485.7678\" fill=\"#383838\" rx=\"2\" ry=\"2\" style=\"stroke: #383838; stroke-width: 1.0;\"/><ellipse cx=\"134.9104\" cy=\"477.6619\" fill=\"#383838\" rx=\"2\" ry=\"2\" style=\"stroke: #383838; stroke-width: 1.0;\"/></a><!--MD5=[181eaf3b90b19e2478a20fc3e9105d6f]\n",
       "@startuml\r\n",
       "left to right direction\r\n",
       "skinparam monochrome true\r\n",
       "skinparam classbackgroundcolor white\r\n",
       "skinparam shadowing false\r\n",
       "skinparam wrapWidth 300\r\n",
       "hide circle\r\n",
       "\r\n",
       "package \"CircularImport\" as E1  [[psysml:690cd2ec-4fe7-4d94-89bf-c3d63ed60cd3 ]]  {\r\n",
       "package \"P1\" as E2  [[psysml:54e3154d-4fa4-4c14-a367-edca149a76a1 ]]  {\r\n",
       "comp def \"A\" as E3  <<(T,blue)part def>> [[psysml:281245e6-0723-4878-ac57-c406fd778909 ]] {\r\n",
       "}\r\n",
       "}\r\n",
       "package \"P2\" as E4  [[psysml:581c4a9e-fb07-4d80-ac64-c8c7b70027d2 ]]  {\r\n",
       "comp def \"B\" as E5  <<(T,blue)part def>> [[psysml:57665928-471f-4095-91e2-d839a960cf78 ]] {\r\n",
       "}\r\n",
       "}\r\n",
       "package \"Test1\" as E6  [[psysml:6bb49afc-ac2c-47b7-b48e-5bd0a62b326b ]]  {\r\n",
       "comp usage \"x: A\" as E7  <<(T,blue)part>> [[psysml:d6e39b1a-8a39-4c69-85ab-aa8551443e08 ]] {\r\n",
       "}\r\n",
       "comp usage \"y: B\" as E8  <<(T,blue)part>> [[psysml:ead6e64d-b294-4a2d-a1d8-90d3751f1490 ]] {\r\n",
       "}\r\n",
       "E7 - -:|> E3 [[psysml:84278f38-d400-4655-8657-76a37dd9bb09 ]] \r\n",
       "E8 - -:|> E5 [[psysml:9a62fcce-aa5a-49d2-8cac-0b2f538e5bd0 ]] \r\n",
       "}\r\n",
       "package \"Test2\" as E9  [[psysml:051bf7cb-81b8-4c37-8865-8bb7ea974985 ]]  {\r\n",
       "comp usage \"x: A\" as E10  <<(T,blue)part>> [[psysml:f3cb1211-10b9-411e-bf19-d5722693e1fe ]] {\r\n",
       "}\r\n",
       "comp usage \"y: B\" as E11  <<(T,blue)part>> [[psysml:9cdccab4-e502-4fbe-97eb-9b231d825ffa ]] {\r\n",
       "}\r\n",
       "E10 - -:|> E3 [[psysml:bd7260c7-b55a-4391-86f8-9493bae3bcdc ]] \r\n",
       "E11 - -:|> E5 [[psysml:099d00ce-a154-42ce-865e-6b31b35a0829 ]] \r\n",
       "}\r\n",
       "comp usage \"x: A\" as E12  <<(T,blue)part>> [[psysml:87edab01-bf58-4e9e-abd1-c8b0194f7dca ]] {\r\n",
       "}\r\n",
       "comp usage \"y: B\" as E13  <<(T,blue)part>> [[psysml:20c5387a-1627-4e14-8312-6f39b31ab3f7 ]] {\r\n",
       "}\r\n",
       "E12 - -:|> E3 [[psysml:2e0d72ae-9b36-4ac2-af7e-1d21d87eecf3 ]] \r\n",
       "E13 - -:|> E5 [[psysml:28c76814-e954-4c97-b716-40e2f6813c6b ]] \r\n",
       "}\r\n",
       "@enduml\r\n",
       "\n",
       "PlantUML version 1.2020.13(Sat Jun 13 12:26:38 UTC 2020)\n",
       "(EPL source distribution)\n",
       "Java Runtime: OpenJDK Runtime Environment\n",
       "JVM: OpenJDK 64-Bit Server VM\n",
       "Default Encoding: UTF-8\n",
       "Language: en\n",
       "Country: null\n",
       "--></g></svg>"
      ]
     },
     "execution_count": 21,
     "metadata": {},
     "output_type": "execute_result"
    }
   ],
   "source": [
    "%viz --style=\"LR\" --view=\"Sequence\" \"CircularImport\""
   ]
  },
  {
   "cell_type": "code",
   "execution_count": 22,
   "id": "35017589",
   "metadata": {
    "execution": {
     "iopub.execute_input": "2021-04-20T06:57:53.180415Z",
     "iopub.status.busy": "2021-04-20T06:57:53.179500Z",
     "iopub.status.idle": "2021-04-20T06:57:53.223877Z",
     "shell.execute_reply": "2021-04-20T06:57:53.222069Z"
    }
   },
   "outputs": [
    {
     "data": {
      "image/svg+xml": [
       "<?xml version=\"1.0\" encoding=\"UTF-8\" standalone=\"no\"?><svg xmlns=\"http://www.w3.org/2000/svg\" xmlns:xlink=\"http://www.w3.org/1999/xlink\" contentScriptType=\"application/ecmascript\" contentStyleType=\"text/css\" height=\"576px\" preserveAspectRatio=\"none\" style=\"width:286px;height:576px;\" version=\"1.1\" viewBox=\"0 0 286 576\" width=\"286px\" zoomAndPan=\"magnify\"><defs/><g><!--MD5=[fbc87193dbaf4d95561dea2c320d4a47]\n",
       "cluster E1--><a href=\"psysml:690cd2ec-4fe7-4d94-89bf-c3d63ed60cd3\" target=\"_top\" title=\"psysml:690cd2ec-4fe7-4d94-89bf-c3d63ed60cd3\" xlink:actuate=\"onRequest\" xlink:href=\"psysml:690cd2ec-4fe7-4d94-89bf-c3d63ed60cd3\" xlink:show=\"new\" xlink:title=\"psysml:690cd2ec-4fe7-4d94-89bf-c3d63ed60cd3\" xlink:type=\"simple\"><polygon fill=\"#FFFFFF\" points=\"16,6,134,6,141,28.2969,264,28.2969,264,564,16,564,16,6\" style=\"stroke: #000000; stroke-width: 1.5;\"/><line style=\"stroke: #000000; stroke-width: 1.5;\" x1=\"16\" x2=\"141\" y1=\"28.2969\" y2=\"28.2969\"/><text fill=\"#000000\" font-family=\"sans-serif\" font-size=\"14\" font-weight=\"bold\" lengthAdjust=\"spacingAndGlyphs\" textLength=\"112\" x=\"20\" y=\"20.9951\">CircularImport</text></a><!--MD5=[e4f7fae6ed58524ba242bb0b0d3be6b7]\n",
       "cluster E2--><a href=\"psysml:54e3154d-4fa4-4c14-a367-edca149a76a1\" target=\"_top\" title=\"psysml:54e3154d-4fa4-4c14-a367-edca149a76a1\" xlink:actuate=\"onRequest\" xlink:href=\"psysml:54e3154d-4fa4-4c14-a367-edca149a76a1\" xlink:show=\"new\" xlink:title=\"psysml:54e3154d-4fa4-4c14-a367-edca149a76a1\" xlink:type=\"simple\"><polygon fill=\"#FFFFFF\" points=\"142,103,168,103,175,125.2969,240,125.2969,240,200,142,200,142,103\" style=\"stroke: #000000; stroke-width: 1.5;\"/><line style=\"stroke: #000000; stroke-width: 1.5;\" x1=\"142\" x2=\"175\" y1=\"125.2969\" y2=\"125.2969\"/><text fill=\"#000000\" font-family=\"sans-serif\" font-size=\"14\" font-weight=\"bold\" lengthAdjust=\"spacingAndGlyphs\" textLength=\"20\" x=\"146\" y=\"117.9951\">P1</text></a><!--MD5=[f6df4d0ebaf0b5dfb2ced0ae5af7c670]\n",
       "cluster E4--><a href=\"psysml:581c4a9e-fb07-4d80-ac64-c8c7b70027d2\" target=\"_top\" title=\"psysml:581c4a9e-fb07-4d80-ac64-c8c7b70027d2\" xlink:actuate=\"onRequest\" xlink:href=\"psysml:581c4a9e-fb07-4d80-ac64-c8c7b70027d2\" xlink:show=\"new\" xlink:title=\"psysml:581c4a9e-fb07-4d80-ac64-c8c7b70027d2\" xlink:type=\"simple\"><polygon fill=\"#FFFFFF\" points=\"142,386,168,386,175,408.2969,240,408.2969,240,483,142,483,142,386\" style=\"stroke: #000000; stroke-width: 1.5;\"/><line style=\"stroke: #000000; stroke-width: 1.5;\" x1=\"142\" x2=\"175\" y1=\"408.2969\" y2=\"408.2969\"/><text fill=\"#000000\" font-family=\"sans-serif\" font-size=\"14\" font-weight=\"bold\" lengthAdjust=\"spacingAndGlyphs\" textLength=\"20\" x=\"146\" y=\"400.9951\">P2</text></a><!--MD5=[14e3b0961a2654348d326746436168a1]\n",
       "cluster E6--><a href=\"psysml:6bb49afc-ac2c-47b7-b48e-5bd0a62b326b\" target=\"_top\" title=\"psysml:6bb49afc-ac2c-47b7-b48e-5bd0a62b326b\" xlink:actuate=\"onRequest\" xlink:href=\"psysml:6bb49afc-ac2c-47b7-b48e-5bd0a62b326b\" xlink:show=\"new\" xlink:title=\"psysml:6bb49afc-ac2c-47b7-b48e-5bd0a62b326b\" xlink:type=\"simple\"><polygon fill=\"#FFFFFF\" points=\"40,103,91,103,98,125.2969,114,125.2969,114,281,40,281,40,103\" style=\"stroke: #000000; stroke-width: 1.5;\"/><line style=\"stroke: #000000; stroke-width: 1.5;\" x1=\"40\" x2=\"98\" y1=\"125.2969\" y2=\"125.2969\"/><text fill=\"#000000\" font-family=\"sans-serif\" font-size=\"14\" font-weight=\"bold\" lengthAdjust=\"spacingAndGlyphs\" textLength=\"45\" x=\"44\" y=\"117.9951\">Test1</text></a><!--MD5=[7f149f147074ac12df2cb0a7728a5fb0]\n",
       "cluster E9--><a href=\"psysml:051bf7cb-81b8-4c37-8865-8bb7ea974985\" target=\"_top\" title=\"psysml:051bf7cb-81b8-4c37-8865-8bb7ea974985\" xlink:actuate=\"onRequest\" xlink:href=\"psysml:051bf7cb-81b8-4c37-8865-8bb7ea974985\" xlink:show=\"new\" xlink:title=\"psysml:051bf7cb-81b8-4c37-8865-8bb7ea974985\" xlink:type=\"simple\"><polygon fill=\"#FFFFFF\" points=\"40,305,91,305,98,327.2969,114,327.2969,114,483,40,483,40,305\" style=\"stroke: #000000; stroke-width: 1.5;\"/><line style=\"stroke: #000000; stroke-width: 1.5;\" x1=\"40\" x2=\"98\" y1=\"327.2969\" y2=\"327.2969\"/><text fill=\"#000000\" font-family=\"sans-serif\" font-size=\"14\" font-weight=\"bold\" lengthAdjust=\"spacingAndGlyphs\" textLength=\"45\" x=\"44\" y=\"319.9951\">Test2</text></a><!--MD5=[49a0ec8f00dab7302a31f22d0f0fe584]\n",
       "class E12--><a href=\"psysml:87edab01-bf58-4e9e-abd1-c8b0194f7dca\" target=\"_top\" title=\"psysml:87edab01-bf58-4e9e-abd1-c8b0194f7dca\" xlink:actuate=\"onRequest\" xlink:href=\"psysml:87edab01-bf58-4e9e-abd1-c8b0194f7dca\" xlink:show=\"new\" xlink:title=\"psysml:87edab01-bf58-4e9e-abd1-c8b0194f7dca\" xlink:type=\"simple\"><rect fill=\"#FFFFFF\" height=\"45.9375\" id=\"E12\" rx=\"10\" ry=\"10\" style=\"stroke: #383838; stroke-width: 1.5;\" width=\"42\" x=\"56\" y=\"41\"/><text fill=\"#000000\" font-family=\"sans-serif\" font-size=\"12\" font-style=\"italic\" lengthAdjust=\"spacingAndGlyphs\" textLength=\"40\" x=\"57\" y=\"57.1387\">«part»</text><text fill=\"#000000\" font-family=\"sans-serif\" font-size=\"12\" lengthAdjust=\"spacingAndGlyphs\" textLength=\"22\" x=\"66\" y=\"71.1074\">x: A</text><line style=\"stroke: #383838; stroke-width: 1.5;\" x1=\"57\" x2=\"97\" y1=\"78.9375\" y2=\"78.9375\"/></a><!--MD5=[ee3c913d1a06f366521f9ef512b67efe]\n",
       "class E13--><a href=\"psysml:20c5387a-1627-4e14-8312-6f39b31ab3f7\" target=\"_top\" title=\"psysml:20c5387a-1627-4e14-8312-6f39b31ab3f7\" xlink:actuate=\"onRequest\" xlink:href=\"psysml:20c5387a-1627-4e14-8312-6f39b31ab3f7\" xlink:show=\"new\" xlink:title=\"psysml:20c5387a-1627-4e14-8312-6f39b31ab3f7\" xlink:type=\"simple\"><rect fill=\"#FFFFFF\" height=\"45.9375\" id=\"E13\" rx=\"10\" ry=\"10\" style=\"stroke: #383838; stroke-width: 1.5;\" width=\"42\" x=\"56\" y=\"502\"/><text fill=\"#000000\" font-family=\"sans-serif\" font-size=\"12\" font-style=\"italic\" lengthAdjust=\"spacingAndGlyphs\" textLength=\"40\" x=\"57\" y=\"518.1387\">«part»</text><text fill=\"#000000\" font-family=\"sans-serif\" font-size=\"12\" lengthAdjust=\"spacingAndGlyphs\" textLength=\"22\" x=\"66\" y=\"532.1074\">y: B</text><line style=\"stroke: #383838; stroke-width: 1.5;\" x1=\"57\" x2=\"97\" y1=\"539.9375\" y2=\"539.9375\"/></a><!--MD5=[09b614a08d8cba4a07c9adeb5e0fee81]\n",
       "class E3--><a href=\"psysml:281245e6-0723-4878-ac57-c406fd778909\" target=\"_top\" title=\"psysml:281245e6-0723-4878-ac57-c406fd778909\" xlink:actuate=\"onRequest\" xlink:href=\"psysml:281245e6-0723-4878-ac57-c406fd778909\" xlink:show=\"new\" xlink:title=\"psysml:281245e6-0723-4878-ac57-c406fd778909\" xlink:type=\"simple\"><rect fill=\"#FFFFFF\" height=\"45.9375\" id=\"E3\" style=\"stroke: #383838; stroke-width: 1.5;\" width=\"66\" x=\"158\" y=\"138\"/><text fill=\"#000000\" font-family=\"sans-serif\" font-size=\"12\" font-style=\"italic\" lengthAdjust=\"spacingAndGlyphs\" textLength=\"64\" x=\"159\" y=\"154.1387\">«part def»</text><text fill=\"#000000\" font-family=\"sans-serif\" font-size=\"12\" lengthAdjust=\"spacingAndGlyphs\" textLength=\"8\" x=\"187\" y=\"168.1074\">A</text><line style=\"stroke: #383838; stroke-width: 1.5;\" x1=\"159\" x2=\"223\" y1=\"175.9375\" y2=\"175.9375\"/></a><!--MD5=[270fce915f116d4de14055a7c1d9a0f3]\n",
       "class E5--><a href=\"psysml:57665928-471f-4095-91e2-d839a960cf78\" target=\"_top\" title=\"psysml:57665928-471f-4095-91e2-d839a960cf78\" xlink:actuate=\"onRequest\" xlink:href=\"psysml:57665928-471f-4095-91e2-d839a960cf78\" xlink:show=\"new\" xlink:title=\"psysml:57665928-471f-4095-91e2-d839a960cf78\" xlink:type=\"simple\"><rect fill=\"#FFFFFF\" height=\"45.9375\" id=\"E5\" style=\"stroke: #383838; stroke-width: 1.5;\" width=\"66\" x=\"158\" y=\"421\"/><text fill=\"#000000\" font-family=\"sans-serif\" font-size=\"12\" font-style=\"italic\" lengthAdjust=\"spacingAndGlyphs\" textLength=\"64\" x=\"159\" y=\"437.1387\">«part def»</text><text fill=\"#000000\" font-family=\"sans-serif\" font-size=\"12\" lengthAdjust=\"spacingAndGlyphs\" textLength=\"8\" x=\"187\" y=\"451.1074\">B</text><line style=\"stroke: #383838; stroke-width: 1.5;\" x1=\"159\" x2=\"223\" y1=\"458.9375\" y2=\"458.9375\"/></a><!--MD5=[2156ba9850f5573cc1fc38a6a4b2f02b]\n",
       "class E7--><a href=\"psysml:d6e39b1a-8a39-4c69-85ab-aa8551443e08\" target=\"_top\" title=\"psysml:d6e39b1a-8a39-4c69-85ab-aa8551443e08\" xlink:actuate=\"onRequest\" xlink:href=\"psysml:d6e39b1a-8a39-4c69-85ab-aa8551443e08\" xlink:show=\"new\" xlink:title=\"psysml:d6e39b1a-8a39-4c69-85ab-aa8551443e08\" xlink:type=\"simple\"><rect fill=\"#FFFFFF\" height=\"45.9375\" id=\"E7\" rx=\"10\" ry=\"10\" style=\"stroke: #383838; stroke-width: 1.5;\" width=\"42\" x=\"56\" y=\"138\"/><text fill=\"#000000\" font-family=\"sans-serif\" font-size=\"12\" font-style=\"italic\" lengthAdjust=\"spacingAndGlyphs\" textLength=\"40\" x=\"57\" y=\"154.1387\">«part»</text><text fill=\"#000000\" font-family=\"sans-serif\" font-size=\"12\" lengthAdjust=\"spacingAndGlyphs\" textLength=\"22\" x=\"66\" y=\"168.1074\">x: A</text><line style=\"stroke: #383838; stroke-width: 1.5;\" x1=\"57\" x2=\"97\" y1=\"175.9375\" y2=\"175.9375\"/></a><!--MD5=[b9389687b975829384b498ac4b7476b2]\n",
       "class E8--><a href=\"psysml:ead6e64d-b294-4a2d-a1d8-90d3751f1490\" target=\"_top\" title=\"psysml:ead6e64d-b294-4a2d-a1d8-90d3751f1490\" xlink:actuate=\"onRequest\" xlink:href=\"psysml:ead6e64d-b294-4a2d-a1d8-90d3751f1490\" xlink:show=\"new\" xlink:title=\"psysml:ead6e64d-b294-4a2d-a1d8-90d3751f1490\" xlink:type=\"simple\"><rect fill=\"#FFFFFF\" height=\"45.9375\" id=\"E8\" rx=\"10\" ry=\"10\" style=\"stroke: #383838; stroke-width: 1.5;\" width=\"42\" x=\"56\" y=\"219\"/><text fill=\"#000000\" font-family=\"sans-serif\" font-size=\"12\" font-style=\"italic\" lengthAdjust=\"spacingAndGlyphs\" textLength=\"40\" x=\"57\" y=\"235.1387\">«part»</text><text fill=\"#000000\" font-family=\"sans-serif\" font-size=\"12\" lengthAdjust=\"spacingAndGlyphs\" textLength=\"22\" x=\"66\" y=\"249.1074\">y: B</text><line style=\"stroke: #383838; stroke-width: 1.5;\" x1=\"57\" x2=\"97\" y1=\"256.9375\" y2=\"256.9375\"/></a><!--MD5=[96f4274e9e20536e775497830990834d]\n",
       "class E10--><a href=\"psysml:f3cb1211-10b9-411e-bf19-d5722693e1fe\" target=\"_top\" title=\"psysml:f3cb1211-10b9-411e-bf19-d5722693e1fe\" xlink:actuate=\"onRequest\" xlink:href=\"psysml:f3cb1211-10b9-411e-bf19-d5722693e1fe\" xlink:show=\"new\" xlink:title=\"psysml:f3cb1211-10b9-411e-bf19-d5722693e1fe\" xlink:type=\"simple\"><rect fill=\"#FFFFFF\" height=\"45.9375\" id=\"E10\" rx=\"10\" ry=\"10\" style=\"stroke: #383838; stroke-width: 1.5;\" width=\"42\" x=\"56\" y=\"340\"/><text fill=\"#000000\" font-family=\"sans-serif\" font-size=\"12\" font-style=\"italic\" lengthAdjust=\"spacingAndGlyphs\" textLength=\"40\" x=\"57\" y=\"356.1387\">«part»</text><text fill=\"#000000\" font-family=\"sans-serif\" font-size=\"12\" lengthAdjust=\"spacingAndGlyphs\" textLength=\"22\" x=\"66\" y=\"370.1074\">x: A</text><line style=\"stroke: #383838; stroke-width: 1.5;\" x1=\"57\" x2=\"97\" y1=\"377.9375\" y2=\"377.9375\"/></a><!--MD5=[1dd1bfd58a279cf63c5f349dbc8fc6a1]\n",
       "class E11--><a href=\"psysml:9cdccab4-e502-4fbe-97eb-9b231d825ffa\" target=\"_top\" title=\"psysml:9cdccab4-e502-4fbe-97eb-9b231d825ffa\" xlink:actuate=\"onRequest\" xlink:href=\"psysml:9cdccab4-e502-4fbe-97eb-9b231d825ffa\" xlink:show=\"new\" xlink:title=\"psysml:9cdccab4-e502-4fbe-97eb-9b231d825ffa\" xlink:type=\"simple\"><rect fill=\"#FFFFFF\" height=\"45.9375\" id=\"E11\" rx=\"10\" ry=\"10\" style=\"stroke: #383838; stroke-width: 1.5;\" width=\"42\" x=\"56\" y=\"421\"/><text fill=\"#000000\" font-family=\"sans-serif\" font-size=\"12\" font-style=\"italic\" lengthAdjust=\"spacingAndGlyphs\" textLength=\"40\" x=\"57\" y=\"437.1387\">«part»</text><text fill=\"#000000\" font-family=\"sans-serif\" font-size=\"12\" lengthAdjust=\"spacingAndGlyphs\" textLength=\"22\" x=\"66\" y=\"451.1074\">y: B</text><line style=\"stroke: #383838; stroke-width: 1.5;\" x1=\"57\" x2=\"97\" y1=\"458.9375\" y2=\"458.9375\"/></a><!--MD5=[14ccda38c055a5c0da953d572bc50960]\n",
       "link E7 to E3--><a href=\"psysml:84278f38-d400-4655-8657-76a37dd9bb09\" target=\"_top\" title=\"psysml:84278f38-d400-4655-8657-76a37dd9bb09\" xlink:actuate=\"onRequest\" xlink:href=\"psysml:84278f38-d400-4655-8657-76a37dd9bb09\" xlink:show=\"new\" xlink:title=\"psysml:84278f38-d400-4655-8657-76a37dd9bb09\" xlink:type=\"simple\"><path d=\"M98.02,161 C109.18,161 123.65,161 137.79,161 \" fill=\"none\" id=\"E7-&gt;E3\" style=\"stroke: #383838; stroke-width: 1.0;\"/><polygon fill=\"#FFFFFF\" points=\"157.86,161,138.86,168,138.86,154,157.86,161\" style=\"stroke: #383838; stroke-width: 1.0;\"/><ellipse cx=\"133.16\" cy=\"166\" fill=\"#383838\" rx=\"2\" ry=\"2\" style=\"stroke: #383838; stroke-width: 1.0;\"/><ellipse cx=\"133.16\" cy=\"156\" fill=\"#383838\" rx=\"2\" ry=\"2\" style=\"stroke: #383838; stroke-width: 1.0;\"/></a><!--MD5=[1ccb2481ffa92f8d51a74ee30c51832a]\n",
       "link E8 to E5--><a href=\"psysml:9a62fcce-aa5a-49d2-8cac-0b2f538e5bd0\" target=\"_top\" title=\"psysml:9a62fcce-aa5a-49d2-8cac-0b2f538e5bd0\" xlink:actuate=\"onRequest\" xlink:href=\"psysml:9a62fcce-aa5a-49d2-8cac-0b2f538e5bd0\" xlink:show=\"new\" xlink:title=\"psysml:9a62fcce-aa5a-49d2-8cac-0b2f538e5bd0\" xlink:type=\"simple\"><path d=\"M90.85,265.17 C109.49,298.8 144.32,361.62 167.34,403.13 \" fill=\"none\" id=\"E8-&gt;E5\" style=\"stroke: #383838; stroke-width: 1.0;\"/><polygon fill=\"#FFFFFF\" points=\"177.13,420.79,161.7919,407.5709,174.0344,400.7796,177.13,420.79\" style=\"stroke: #383838; stroke-width: 1.0;\"/><ellipse cx=\"160.7758\" cy=\"401.6163\" fill=\"#383838\" rx=\"2\" ry=\"2\" style=\"stroke: #383838; stroke-width: 1.0;\"/><ellipse cx=\"169.5204\" cy=\"396.7653\" fill=\"#383838\" rx=\"2\" ry=\"2\" style=\"stroke: #383838; stroke-width: 1.0;\"/></a><!--MD5=[feeac5eb423634930294aa81f2d25a4c]\n",
       "link E10 to E3--><a href=\"psysml:bd7260c7-b55a-4391-86f8-9493bae3bcdc\" target=\"_top\" title=\"psysml:bd7260c7-b55a-4391-86f8-9493bae3bcdc\" xlink:actuate=\"onRequest\" xlink:href=\"psysml:bd7260c7-b55a-4391-86f8-9493bae3bcdc\" xlink:show=\"new\" xlink:title=\"psysml:bd7260c7-b55a-4391-86f8-9493bae3bcdc\" xlink:type=\"simple\"><path d=\"M90.85,339.83 C109.49,306.2 144.32,243.38 167.34,201.87 \" fill=\"none\" id=\"E10-&gt;E3\" style=\"stroke: #383838; stroke-width: 1.0;\"/><polygon fill=\"#FFFFFF\" points=\"177.13,184.21,174.0344,204.2204,161.7919,197.4291,177.13,184.21\" style=\"stroke: #383838; stroke-width: 1.0;\"/><ellipse cx=\"169.5204\" cy=\"208.2347\" fill=\"#383838\" rx=\"2\" ry=\"2\" style=\"stroke: #383838; stroke-width: 1.0;\"/><ellipse cx=\"160.7758\" cy=\"203.3837\" fill=\"#383838\" rx=\"2\" ry=\"2\" style=\"stroke: #383838; stroke-width: 1.0;\"/></a><!--MD5=[07b77f6f309248d16187045709d1c26e]\n",
       "link E11 to E5--><a href=\"psysml:099d00ce-a154-42ce-865e-6b31b35a0829\" target=\"_top\" title=\"psysml:099d00ce-a154-42ce-865e-6b31b35a0829\" xlink:actuate=\"onRequest\" xlink:href=\"psysml:099d00ce-a154-42ce-865e-6b31b35a0829\" xlink:show=\"new\" xlink:title=\"psysml:099d00ce-a154-42ce-865e-6b31b35a0829\" xlink:type=\"simple\"><path d=\"M98.02,444 C109.18,444 123.65,444 137.79,444 \" fill=\"none\" id=\"E11-&gt;E5\" style=\"stroke: #383838; stroke-width: 1.0;\"/><polygon fill=\"#FFFFFF\" points=\"157.86,444,138.86,451,138.86,437,157.86,444\" style=\"stroke: #383838; stroke-width: 1.0;\"/><ellipse cx=\"133.16\" cy=\"449\" fill=\"#383838\" rx=\"2\" ry=\"2\" style=\"stroke: #383838; stroke-width: 1.0;\"/><ellipse cx=\"133.16\" cy=\"439\" fill=\"#383838\" rx=\"2\" ry=\"2\" style=\"stroke: #383838; stroke-width: 1.0;\"/></a><!--MD5=[39f41a0e550fb3d73b4d8135617e30a2]\n",
       "link E12 to E3--><a href=\"psysml:2e0d72ae-9b36-4ac2-af7e-1d21d87eecf3\" target=\"_top\" title=\"psysml:2e0d72ae-9b36-4ac2-af7e-1d21d87eecf3\" xlink:actuate=\"onRequest\" xlink:href=\"psysml:2e0d72ae-9b36-4ac2-af7e-1d21d87eecf3\" xlink:show=\"new\" xlink:title=\"psysml:2e0d72ae-9b36-4ac2-af7e-1d21d87eecf3\" xlink:type=\"simple\"><path d=\"M98.02,81.34 C111.92,93.38 130.95,109.86 148.09,124.7 \" fill=\"none\" id=\"E12-&gt;E3\" style=\"stroke: #383838; stroke-width: 1.0;\"/><polygon fill=\"#FFFFFF\" points=\"163.41,137.97,144.4677,130.8155,153.6371,120.2361,163.41,137.97\" style=\"stroke: #383838; stroke-width: 1.0;\"/><ellipse cx=\"141.4703\" cy=\"125.5709\" fill=\"#383838\" rx=\"2\" ry=\"2\" style=\"stroke: #383838; stroke-width: 1.0;\"/><ellipse cx=\"148.0199\" cy=\"118.0142\" fill=\"#383838\" rx=\"2\" ry=\"2\" style=\"stroke: #383838; stroke-width: 1.0;\"/></a><!--MD5=[066b2d8af59fea80ccdb3d54ad5c1091]\n",
       "link E13 to E5--><a href=\"psysml:28c76814-e954-4c97-b716-40e2f6813c6b\" target=\"_top\" title=\"psysml:28c76814-e954-4c97-b716-40e2f6813c6b\" xlink:actuate=\"onRequest\" xlink:href=\"psysml:28c76814-e954-4c97-b716-40e2f6813c6b\" xlink:show=\"new\" xlink:title=\"psysml:28c76814-e954-4c97-b716-40e2f6813c6b\" xlink:type=\"simple\"><path d=\"M98.02,510.52 C110.09,501.79 126.03,490.27 141.24,479.27 \" fill=\"none\" id=\"E13-&gt;E5\" style=\"stroke: #383838; stroke-width: 1.0;\"/><polygon fill=\"#FFFFFF\" points=\"157.86,467.25,146.5582,484.0509,138.3595,472.7027,157.86,467.25\" style=\"stroke: #383838; stroke-width: 1.0;\"/><ellipse cx=\"140.7667\" cy=\"485.7678\" fill=\"#383838\" rx=\"2\" ry=\"2\" style=\"stroke: #383838; stroke-width: 1.0;\"/><ellipse cx=\"134.9104\" cy=\"477.6619\" fill=\"#383838\" rx=\"2\" ry=\"2\" style=\"stroke: #383838; stroke-width: 1.0;\"/></a><!--MD5=[181eaf3b90b19e2478a20fc3e9105d6f]\n",
       "@startuml\r\n",
       "left to right direction\r\n",
       "skinparam monochrome true\r\n",
       "skinparam classbackgroundcolor white\r\n",
       "skinparam shadowing false\r\n",
       "skinparam wrapWidth 300\r\n",
       "hide circle\r\n",
       "\r\n",
       "package \"CircularImport\" as E1  [[psysml:690cd2ec-4fe7-4d94-89bf-c3d63ed60cd3 ]]  {\r\n",
       "package \"P1\" as E2  [[psysml:54e3154d-4fa4-4c14-a367-edca149a76a1 ]]  {\r\n",
       "comp def \"A\" as E3  <<(T,blue)part def>> [[psysml:281245e6-0723-4878-ac57-c406fd778909 ]] {\r\n",
       "}\r\n",
       "}\r\n",
       "package \"P2\" as E4  [[psysml:581c4a9e-fb07-4d80-ac64-c8c7b70027d2 ]]  {\r\n",
       "comp def \"B\" as E5  <<(T,blue)part def>> [[psysml:57665928-471f-4095-91e2-d839a960cf78 ]] {\r\n",
       "}\r\n",
       "}\r\n",
       "package \"Test1\" as E6  [[psysml:6bb49afc-ac2c-47b7-b48e-5bd0a62b326b ]]  {\r\n",
       "comp usage \"x: A\" as E7  <<(T,blue)part>> [[psysml:d6e39b1a-8a39-4c69-85ab-aa8551443e08 ]] {\r\n",
       "}\r\n",
       "comp usage \"y: B\" as E8  <<(T,blue)part>> [[psysml:ead6e64d-b294-4a2d-a1d8-90d3751f1490 ]] {\r\n",
       "}\r\n",
       "E7 - -:|> E3 [[psysml:84278f38-d400-4655-8657-76a37dd9bb09 ]] \r\n",
       "E8 - -:|> E5 [[psysml:9a62fcce-aa5a-49d2-8cac-0b2f538e5bd0 ]] \r\n",
       "}\r\n",
       "package \"Test2\" as E9  [[psysml:051bf7cb-81b8-4c37-8865-8bb7ea974985 ]]  {\r\n",
       "comp usage \"x: A\" as E10  <<(T,blue)part>> [[psysml:f3cb1211-10b9-411e-bf19-d5722693e1fe ]] {\r\n",
       "}\r\n",
       "comp usage \"y: B\" as E11  <<(T,blue)part>> [[psysml:9cdccab4-e502-4fbe-97eb-9b231d825ffa ]] {\r\n",
       "}\r\n",
       "E10 - -:|> E3 [[psysml:bd7260c7-b55a-4391-86f8-9493bae3bcdc ]] \r\n",
       "E11 - -:|> E5 [[psysml:099d00ce-a154-42ce-865e-6b31b35a0829 ]] \r\n",
       "}\r\n",
       "comp usage \"x: A\" as E12  <<(T,blue)part>> [[psysml:87edab01-bf58-4e9e-abd1-c8b0194f7dca ]] {\r\n",
       "}\r\n",
       "comp usage \"y: B\" as E13  <<(T,blue)part>> [[psysml:20c5387a-1627-4e14-8312-6f39b31ab3f7 ]] {\r\n",
       "}\r\n",
       "E12 - -:|> E3 [[psysml:2e0d72ae-9b36-4ac2-af7e-1d21d87eecf3 ]] \r\n",
       "E13 - -:|> E5 [[psysml:28c76814-e954-4c97-b716-40e2f6813c6b ]] \r\n",
       "}\r\n",
       "@enduml\r\n",
       "\n",
       "PlantUML version 1.2020.13(Sat Jun 13 12:26:38 UTC 2020)\n",
       "(EPL source distribution)\n",
       "Java Runtime: OpenJDK Runtime Environment\n",
       "JVM: OpenJDK 64-Bit Server VM\n",
       "Default Encoding: UTF-8\n",
       "Language: en\n",
       "Country: null\n",
       "--></g></svg>"
      ]
     },
     "execution_count": 22,
     "metadata": {},
     "output_type": "execute_result"
    }
   ],
   "source": [
    "%viz --style=\"LR\" --view=\"MIXED\" \"CircularImport\""
   ]
  },
  {
   "cell_type": "code",
   "execution_count": 23,
   "id": "6dda264b",
   "metadata": {
    "execution": {
     "iopub.execute_input": "2021-04-20T06:57:53.273550Z",
     "iopub.status.busy": "2021-04-20T06:57:53.273176Z",
     "iopub.status.idle": "2021-04-20T06:57:53.313208Z",
     "shell.execute_reply": "2021-04-20T06:57:53.313551Z"
    }
   },
   "outputs": [
    {
     "data": {
      "image/svg+xml": [
       "<?xml version=\"1.0\" encoding=\"UTF-8\" standalone=\"no\"?><svg xmlns=\"http://www.w3.org/2000/svg\" xmlns:xlink=\"http://www.w3.org/1999/xlink\" contentScriptType=\"application/ecmascript\" contentStyleType=\"text/css\" height=\"303px\" preserveAspectRatio=\"none\" style=\"width:518px;height:303px;\" version=\"1.1\" viewBox=\"0 0 518 303\" width=\"518px\" zoomAndPan=\"magnify\"><defs><filter height=\"300%\" id=\"f5ol6gjczmbiw\" width=\"300%\" x=\"-1\" y=\"-1\"><feGaussianBlur result=\"blurOut\" stdDeviation=\"2.0\"/><feColorMatrix in=\"blurOut\" result=\"blurOut2\" type=\"matrix\" values=\"0 0 0 0 0 0 0 0 0 0 0 0 0 0 0 0 0 0 .4 0\"/><feOffset dx=\"4.0\" dy=\"4.0\" in=\"blurOut2\" result=\"blurOut3\"/><feBlend in=\"SourceGraphic\" in2=\"blurOut3\" mode=\"normal\"/></filter></defs><g><!--MD5=[fbc87193dbaf4d95561dea2c320d4a47]\n",
       "cluster E1--><a href=\"psysml:690cd2ec-4fe7-4d94-89bf-c3d63ed60cd3\" target=\"_top\" title=\"psysml:690cd2ec-4fe7-4d94-89bf-c3d63ed60cd3\" xlink:actuate=\"onRequest\" xlink:href=\"psysml:690cd2ec-4fe7-4d94-89bf-c3d63ed60cd3\" xlink:show=\"new\" xlink:title=\"psysml:690cd2ec-4fe7-4d94-89bf-c3d63ed60cd3\" xlink:type=\"simple\"><polygon fill=\"#FFFFFF\" filter=\"url(#f5ol6gjczmbiw)\" points=\"16,6,134,6,141,28.2969,496,28.2969,496,291,16,291,16,6\" style=\"stroke: #000000; stroke-width: 1.5;\"/><line style=\"stroke: #000000; stroke-width: 1.5;\" x1=\"16\" x2=\"141\" y1=\"28.2969\" y2=\"28.2969\"/><text fill=\"#000000\" font-family=\"sans-serif\" font-size=\"14\" font-weight=\"bold\" lengthAdjust=\"spacingAndGlyphs\" textLength=\"112\" x=\"20\" y=\"20.9951\">CircularImport</text></a><!--MD5=[e4f7fae6ed58524ba242bb0b0d3be6b7]\n",
       "cluster E2--><a href=\"psysml:54e3154d-4fa4-4c14-a367-edca149a76a1\" target=\"_top\" title=\"psysml:54e3154d-4fa4-4c14-a367-edca149a76a1\" xlink:actuate=\"onRequest\" xlink:href=\"psysml:54e3154d-4fa4-4c14-a367-edca149a76a1\" xlink:show=\"new\" xlink:title=\"psysml:54e3154d-4fa4-4c14-a367-edca149a76a1\" xlink:type=\"simple\"><polygon fill=\"#FFFFFF\" filter=\"url(#f5ol6gjczmbiw)\" points=\"333,170,359,170,366,192.2969,431,192.2969,431,267,333,267,333,170\" style=\"stroke: #000000; stroke-width: 1.5;\"/><line style=\"stroke: #000000; stroke-width: 1.5;\" x1=\"333\" x2=\"366\" y1=\"192.2969\" y2=\"192.2969\"/><text fill=\"#000000\" font-family=\"sans-serif\" font-size=\"14\" font-weight=\"bold\" lengthAdjust=\"spacingAndGlyphs\" textLength=\"20\" x=\"337\" y=\"184.9951\">P1</text></a><!--MD5=[f6df4d0ebaf0b5dfb2ced0ae5af7c670]\n",
       "cluster E4--><a href=\"psysml:581c4a9e-fb07-4d80-ac64-c8c7b70027d2\" target=\"_top\" title=\"psysml:581c4a9e-fb07-4d80-ac64-c8c7b70027d2\" xlink:actuate=\"onRequest\" xlink:href=\"psysml:581c4a9e-fb07-4d80-ac64-c8c7b70027d2\" xlink:show=\"new\" xlink:title=\"psysml:581c4a9e-fb07-4d80-ac64-c8c7b70027d2\" xlink:type=\"simple\"><polygon fill=\"#FFFFFF\" filter=\"url(#f5ol6gjczmbiw)\" points=\"81,170,107,170,114,192.2969,179,192.2969,179,267,81,267,81,170\" style=\"stroke: #000000; stroke-width: 1.5;\"/><line style=\"stroke: #000000; stroke-width: 1.5;\" x1=\"81\" x2=\"114\" y1=\"192.2969\" y2=\"192.2969\"/><text fill=\"#000000\" font-family=\"sans-serif\" font-size=\"14\" font-weight=\"bold\" lengthAdjust=\"spacingAndGlyphs\" textLength=\"20\" x=\"85\" y=\"184.9951\">P2</text></a><!--MD5=[14e3b0961a2654348d326746436168a1]\n",
       "cluster E6--><a href=\"psysml:6bb49afc-ac2c-47b7-b48e-5bd0a62b326b\" target=\"_top\" title=\"psysml:6bb49afc-ac2c-47b7-b48e-5bd0a62b326b\" xlink:actuate=\"onRequest\" xlink:href=\"psysml:6bb49afc-ac2c-47b7-b48e-5bd0a62b326b\" xlink:show=\"new\" xlink:title=\"psysml:6bb49afc-ac2c-47b7-b48e-5bd0a62b326b\" xlink:type=\"simple\"><polygon fill=\"#FFFFFF\" filter=\"url(#f5ol6gjczmbiw)\" points=\"268,49,319,49,326,71.2969,419,71.2969,419,146,268,146,268,49\" style=\"stroke: #000000; stroke-width: 1.5;\"/><line style=\"stroke: #000000; stroke-width: 1.5;\" x1=\"268\" x2=\"326\" y1=\"71.2969\" y2=\"71.2969\"/><text fill=\"#000000\" font-family=\"sans-serif\" font-size=\"14\" font-weight=\"bold\" lengthAdjust=\"spacingAndGlyphs\" textLength=\"45\" x=\"272\" y=\"63.9951\">Test1</text></a><!--MD5=[7f149f147074ac12df2cb0a7728a5fb0]\n",
       "cluster E9--><a href=\"psysml:051bf7cb-81b8-4c37-8865-8bb7ea974985\" target=\"_top\" title=\"psysml:051bf7cb-81b8-4c37-8865-8bb7ea974985\" xlink:actuate=\"onRequest\" xlink:href=\"psysml:051bf7cb-81b8-4c37-8865-8bb7ea974985\" xlink:show=\"new\" xlink:title=\"psysml:051bf7cb-81b8-4c37-8865-8bb7ea974985\" xlink:type=\"simple\"><polygon fill=\"#FFFFFF\" filter=\"url(#f5ol6gjczmbiw)\" points=\"93,49,144,49,151,71.2969,244,71.2969,244,146,93,146,93,49\" style=\"stroke: #000000; stroke-width: 1.5;\"/><line style=\"stroke: #000000; stroke-width: 1.5;\" x1=\"93\" x2=\"151\" y1=\"71.2969\" y2=\"71.2969\"/><text fill=\"#000000\" font-family=\"sans-serif\" font-size=\"14\" font-weight=\"bold\" lengthAdjust=\"spacingAndGlyphs\" textLength=\"45\" x=\"97\" y=\"63.9951\">Test2</text></a><!--MD5=[49a0ec8f00dab7302a31f22d0f0fe584]\n",
       "class E12--><a href=\"psysml:87edab01-bf58-4e9e-abd1-c8b0194f7dca\" target=\"_top\" title=\"psysml:87edab01-bf58-4e9e-abd1-c8b0194f7dca\" xlink:actuate=\"onRequest\" xlink:href=\"psysml:87edab01-bf58-4e9e-abd1-c8b0194f7dca\" xlink:show=\"new\" xlink:title=\"psysml:87edab01-bf58-4e9e-abd1-c8b0194f7dca\" xlink:type=\"simple\"><rect fill=\"#FEFECE\" filter=\"url(#f5ol6gjczmbiw)\" height=\"45.9375\" id=\"E12\" rx=\"10\" ry=\"10\" style=\"stroke: #A80036; stroke-width: 1.5;\" width=\"42\" x=\"438\" y=\"84\"/><text fill=\"#000000\" font-family=\"sans-serif\" font-size=\"12\" font-style=\"italic\" lengthAdjust=\"spacingAndGlyphs\" textLength=\"40\" x=\"439\" y=\"100.1387\">«part»</text><text fill=\"#000000\" font-family=\"sans-serif\" font-size=\"12\" lengthAdjust=\"spacingAndGlyphs\" textLength=\"22\" x=\"448\" y=\"114.1074\">x: A</text><line style=\"stroke: #A80036; stroke-width: 1.5;\" x1=\"439\" x2=\"479\" y1=\"121.9375\" y2=\"121.9375\"/></a><!--MD5=[ee3c913d1a06f366521f9ef512b67efe]\n",
       "class E13--><a href=\"psysml:20c5387a-1627-4e14-8312-6f39b31ab3f7\" target=\"_top\" title=\"psysml:20c5387a-1627-4e14-8312-6f39b31ab3f7\" xlink:actuate=\"onRequest\" xlink:href=\"psysml:20c5387a-1627-4e14-8312-6f39b31ab3f7\" xlink:show=\"new\" xlink:title=\"psysml:20c5387a-1627-4e14-8312-6f39b31ab3f7\" xlink:type=\"simple\"><rect fill=\"#FEFECE\" filter=\"url(#f5ol6gjczmbiw)\" height=\"45.9375\" id=\"E13\" rx=\"10\" ry=\"10\" style=\"stroke: #A80036; stroke-width: 1.5;\" width=\"42\" x=\"32\" y=\"84\"/><text fill=\"#000000\" font-family=\"sans-serif\" font-size=\"12\" font-style=\"italic\" lengthAdjust=\"spacingAndGlyphs\" textLength=\"40\" x=\"33\" y=\"100.1387\">«part»</text><text fill=\"#000000\" font-family=\"sans-serif\" font-size=\"12\" lengthAdjust=\"spacingAndGlyphs\" textLength=\"22\" x=\"42\" y=\"114.1074\">y: B</text><line style=\"stroke: #A80036; stroke-width: 1.5;\" x1=\"33\" x2=\"73\" y1=\"121.9375\" y2=\"121.9375\"/></a><!--MD5=[09b614a08d8cba4a07c9adeb5e0fee81]\n",
       "class E3--><a href=\"psysml:281245e6-0723-4878-ac57-c406fd778909\" target=\"_top\" title=\"psysml:281245e6-0723-4878-ac57-c406fd778909\" xlink:actuate=\"onRequest\" xlink:href=\"psysml:281245e6-0723-4878-ac57-c406fd778909\" xlink:show=\"new\" xlink:title=\"psysml:281245e6-0723-4878-ac57-c406fd778909\" xlink:type=\"simple\"><rect fill=\"#FEFECE\" filter=\"url(#f5ol6gjczmbiw)\" height=\"45.9375\" id=\"E3\" style=\"stroke: #A80036; stroke-width: 1.5;\" width=\"66\" x=\"349\" y=\"205\"/><text fill=\"#000000\" font-family=\"sans-serif\" font-size=\"12\" font-style=\"italic\" lengthAdjust=\"spacingAndGlyphs\" textLength=\"64\" x=\"350\" y=\"221.1387\">«part def»</text><text fill=\"#000000\" font-family=\"sans-serif\" font-size=\"12\" lengthAdjust=\"spacingAndGlyphs\" textLength=\"8\" x=\"378\" y=\"235.1074\">A</text><line style=\"stroke: #A80036; stroke-width: 1.5;\" x1=\"350\" x2=\"414\" y1=\"242.9375\" y2=\"242.9375\"/></a><!--MD5=[270fce915f116d4de14055a7c1d9a0f3]\n",
       "class E5--><a href=\"psysml:57665928-471f-4095-91e2-d839a960cf78\" target=\"_top\" title=\"psysml:57665928-471f-4095-91e2-d839a960cf78\" xlink:actuate=\"onRequest\" xlink:href=\"psysml:57665928-471f-4095-91e2-d839a960cf78\" xlink:show=\"new\" xlink:title=\"psysml:57665928-471f-4095-91e2-d839a960cf78\" xlink:type=\"simple\"><rect fill=\"#FEFECE\" filter=\"url(#f5ol6gjczmbiw)\" height=\"45.9375\" id=\"E5\" style=\"stroke: #A80036; stroke-width: 1.5;\" width=\"66\" x=\"97\" y=\"205\"/><text fill=\"#000000\" font-family=\"sans-serif\" font-size=\"12\" font-style=\"italic\" lengthAdjust=\"spacingAndGlyphs\" textLength=\"64\" x=\"98\" y=\"221.1387\">«part def»</text><text fill=\"#000000\" font-family=\"sans-serif\" font-size=\"12\" lengthAdjust=\"spacingAndGlyphs\" textLength=\"8\" x=\"126\" y=\"235.1074\">B</text><line style=\"stroke: #A80036; stroke-width: 1.5;\" x1=\"98\" x2=\"162\" y1=\"242.9375\" y2=\"242.9375\"/></a><!--MD5=[2156ba9850f5573cc1fc38a6a4b2f02b]\n",
       "class E7--><a href=\"psysml:d6e39b1a-8a39-4c69-85ab-aa8551443e08\" target=\"_top\" title=\"psysml:d6e39b1a-8a39-4c69-85ab-aa8551443e08\" xlink:actuate=\"onRequest\" xlink:href=\"psysml:d6e39b1a-8a39-4c69-85ab-aa8551443e08\" xlink:show=\"new\" xlink:title=\"psysml:d6e39b1a-8a39-4c69-85ab-aa8551443e08\" xlink:type=\"simple\"><rect fill=\"#FEFECE\" filter=\"url(#f5ol6gjczmbiw)\" height=\"45.9375\" id=\"E7\" rx=\"10\" ry=\"10\" style=\"stroke: #A80036; stroke-width: 1.5;\" width=\"42\" x=\"361\" y=\"84\"/><text fill=\"#000000\" font-family=\"sans-serif\" font-size=\"12\" font-style=\"italic\" lengthAdjust=\"spacingAndGlyphs\" textLength=\"40\" x=\"362\" y=\"100.1387\">«part»</text><text fill=\"#000000\" font-family=\"sans-serif\" font-size=\"12\" lengthAdjust=\"spacingAndGlyphs\" textLength=\"22\" x=\"371\" y=\"114.1074\">x: A</text><line style=\"stroke: #A80036; stroke-width: 1.5;\" x1=\"362\" x2=\"402\" y1=\"121.9375\" y2=\"121.9375\"/></a><!--MD5=[b9389687b975829384b498ac4b7476b2]\n",
       "class E8--><a href=\"psysml:ead6e64d-b294-4a2d-a1d8-90d3751f1490\" target=\"_top\" title=\"psysml:ead6e64d-b294-4a2d-a1d8-90d3751f1490\" xlink:actuate=\"onRequest\" xlink:href=\"psysml:ead6e64d-b294-4a2d-a1d8-90d3751f1490\" xlink:show=\"new\" xlink:title=\"psysml:ead6e64d-b294-4a2d-a1d8-90d3751f1490\" xlink:type=\"simple\"><rect fill=\"#FEFECE\" filter=\"url(#f5ol6gjczmbiw)\" height=\"45.9375\" id=\"E8\" rx=\"10\" ry=\"10\" style=\"stroke: #A80036; stroke-width: 1.5;\" width=\"42\" x=\"284\" y=\"84\"/><text fill=\"#000000\" font-family=\"sans-serif\" font-size=\"12\" font-style=\"italic\" lengthAdjust=\"spacingAndGlyphs\" textLength=\"40\" x=\"285\" y=\"100.1387\">«part»</text><text fill=\"#000000\" font-family=\"sans-serif\" font-size=\"12\" lengthAdjust=\"spacingAndGlyphs\" textLength=\"22\" x=\"294\" y=\"114.1074\">y: B</text><line style=\"stroke: #A80036; stroke-width: 1.5;\" x1=\"285\" x2=\"325\" y1=\"121.9375\" y2=\"121.9375\"/></a><!--MD5=[96f4274e9e20536e775497830990834d]\n",
       "class E10--><a href=\"psysml:f3cb1211-10b9-411e-bf19-d5722693e1fe\" target=\"_top\" title=\"psysml:f3cb1211-10b9-411e-bf19-d5722693e1fe\" xlink:actuate=\"onRequest\" xlink:href=\"psysml:f3cb1211-10b9-411e-bf19-d5722693e1fe\" xlink:show=\"new\" xlink:title=\"psysml:f3cb1211-10b9-411e-bf19-d5722693e1fe\" xlink:type=\"simple\"><rect fill=\"#FEFECE\" filter=\"url(#f5ol6gjczmbiw)\" height=\"45.9375\" id=\"E10\" rx=\"10\" ry=\"10\" style=\"stroke: #A80036; stroke-width: 1.5;\" width=\"42\" x=\"186\" y=\"84\"/><text fill=\"#000000\" font-family=\"sans-serif\" font-size=\"12\" font-style=\"italic\" lengthAdjust=\"spacingAndGlyphs\" textLength=\"40\" x=\"187\" y=\"100.1387\">«part»</text><text fill=\"#000000\" font-family=\"sans-serif\" font-size=\"12\" lengthAdjust=\"spacingAndGlyphs\" textLength=\"22\" x=\"196\" y=\"114.1074\">x: A</text><line style=\"stroke: #A80036; stroke-width: 1.5;\" x1=\"187\" x2=\"227\" y1=\"121.9375\" y2=\"121.9375\"/></a><!--MD5=[1dd1bfd58a279cf63c5f349dbc8fc6a1]\n",
       "class E11--><a href=\"psysml:9cdccab4-e502-4fbe-97eb-9b231d825ffa\" target=\"_top\" title=\"psysml:9cdccab4-e502-4fbe-97eb-9b231d825ffa\" xlink:actuate=\"onRequest\" xlink:href=\"psysml:9cdccab4-e502-4fbe-97eb-9b231d825ffa\" xlink:show=\"new\" xlink:title=\"psysml:9cdccab4-e502-4fbe-97eb-9b231d825ffa\" xlink:type=\"simple\"><rect fill=\"#FEFECE\" filter=\"url(#f5ol6gjczmbiw)\" height=\"45.9375\" id=\"E11\" rx=\"10\" ry=\"10\" style=\"stroke: #A80036; stroke-width: 1.5;\" width=\"42\" x=\"109\" y=\"84\"/><text fill=\"#000000\" font-family=\"sans-serif\" font-size=\"12\" font-style=\"italic\" lengthAdjust=\"spacingAndGlyphs\" textLength=\"40\" x=\"110\" y=\"100.1387\">«part»</text><text fill=\"#000000\" font-family=\"sans-serif\" font-size=\"12\" lengthAdjust=\"spacingAndGlyphs\" textLength=\"22\" x=\"119\" y=\"114.1074\">y: B</text><line style=\"stroke: #A80036; stroke-width: 1.5;\" x1=\"110\" x2=\"150\" y1=\"121.9375\" y2=\"121.9375\"/></a><!--MD5=[14ccda38c055a5c0da953d572bc50960]\n",
       "link E7 to E3--><a href=\"psysml:84278f38-d400-4655-8657-76a37dd9bb09\" target=\"_top\" title=\"psysml:84278f38-d400-4655-8657-76a37dd9bb09\" xlink:actuate=\"onRequest\" xlink:href=\"psysml:84278f38-d400-4655-8657-76a37dd9bb09\" xlink:show=\"new\" xlink:title=\"psysml:84278f38-d400-4655-8657-76a37dd9bb09\" xlink:type=\"simple\"><path d=\"M382,130.1 C382,145.37 382,166.16 382,184.57 \" fill=\"none\" id=\"E7-&gt;E3\" style=\"stroke: #A80036; stroke-width: 1.0;\"/><polygon fill=\"#FFFFFF\" points=\"382,204.61,375,185.61,389,185.61,382,204.61\" style=\"stroke: #A80036; stroke-width: 1.0;\"/><ellipse cx=\"377\" cy=\"179.91\" fill=\"#A80036\" rx=\"2\" ry=\"2\" style=\"stroke: #A80036; stroke-width: 1.0;\"/><ellipse cx=\"387\" cy=\"179.91\" fill=\"#A80036\" rx=\"2\" ry=\"2\" style=\"stroke: #A80036; stroke-width: 1.0;\"/></a><!--MD5=[1ccb2481ffa92f8d51a74ee30c51832a]\n",
       "link E8 to E5--><a href=\"psysml:9a62fcce-aa5a-49d2-8cac-0b2f538e5bd0\" target=\"_top\" title=\"psysml:9a62fcce-aa5a-49d2-8cac-0b2f538e5bd0\" xlink:actuate=\"onRequest\" xlink:href=\"psysml:9a62fcce-aa5a-49d2-8cac-0b2f538e5bd0\" xlink:show=\"new\" xlink:title=\"psysml:9a62fcce-aa5a-49d2-8cac-0b2f538e5bd0\" xlink:type=\"simple\"><path d=\"M283.84,124.59 C272.23,133.52 257.5,144.61 244,154 C223.51,168.25 200.41,183.24 180.38,195.91 \" fill=\"none\" id=\"E8-&gt;E5\" style=\"stroke: #A80036; stroke-width: 1.0;\"/><polygon fill=\"#FFFFFF\" points=\"163.36,206.57,175.7353,190.5434,183.175,202.403,163.36,206.57\" style=\"stroke: #A80036; stroke-width: 1.0;\"/><ellipse cx=\"181.6267\" cy=\"189.2086\" fill=\"#A80036\" rx=\"2\" ry=\"2\" style=\"stroke: #A80036; stroke-width: 1.0;\"/><ellipse cx=\"186.9408\" cy=\"197.6797\" fill=\"#A80036\" rx=\"2\" ry=\"2\" style=\"stroke: #A80036; stroke-width: 1.0;\"/></a><!--MD5=[feeac5eb423634930294aa81f2d25a4c]\n",
       "link E10 to E3--><a href=\"psysml:bd7260c7-b55a-4391-86f8-9493bae3bcdc\" target=\"_top\" title=\"psysml:bd7260c7-b55a-4391-86f8-9493bae3bcdc\" xlink:actuate=\"onRequest\" xlink:href=\"psysml:bd7260c7-b55a-4391-86f8-9493bae3bcdc\" xlink:show=\"new\" xlink:title=\"psysml:bd7260c7-b55a-4391-86f8-9493bae3bcdc\" xlink:type=\"simple\"><path d=\"M228.16,124.59 C239.77,133.52 254.5,144.61 268,154 C288.49,168.25 311.59,183.24 331.62,195.91 \" fill=\"none\" id=\"E10-&gt;E3\" style=\"stroke: #A80036; stroke-width: 1.0;\"/><polygon fill=\"#FFFFFF\" points=\"348.64,206.57,328.825,202.403,336.2647,190.5434,348.64,206.57\" style=\"stroke: #A80036; stroke-width: 1.0;\"/><ellipse cx=\"325.0592\" cy=\"197.6797\" fill=\"#A80036\" rx=\"2\" ry=\"2\" style=\"stroke: #A80036; stroke-width: 1.0;\"/><ellipse cx=\"330.3733\" cy=\"189.2086\" fill=\"#A80036\" rx=\"2\" ry=\"2\" style=\"stroke: #A80036; stroke-width: 1.0;\"/></a><!--MD5=[07b77f6f309248d16187045709d1c26e]\n",
       "link E11 to E5--><a href=\"psysml:099d00ce-a154-42ce-865e-6b31b35a0829\" target=\"_top\" title=\"psysml:099d00ce-a154-42ce-865e-6b31b35a0829\" xlink:actuate=\"onRequest\" xlink:href=\"psysml:099d00ce-a154-42ce-865e-6b31b35a0829\" xlink:show=\"new\" xlink:title=\"psysml:099d00ce-a154-42ce-865e-6b31b35a0829\" xlink:type=\"simple\"><path d=\"M130,130.1 C130,145.37 130,166.16 130,184.57 \" fill=\"none\" id=\"E11-&gt;E5\" style=\"stroke: #A80036; stroke-width: 1.0;\"/><polygon fill=\"#FFFFFF\" points=\"130,204.61,123,185.61,137,185.61,130,204.61\" style=\"stroke: #A80036; stroke-width: 1.0;\"/><ellipse cx=\"125\" cy=\"179.91\" fill=\"#A80036\" rx=\"2\" ry=\"2\" style=\"stroke: #A80036; stroke-width: 1.0;\"/><ellipse cx=\"135\" cy=\"179.91\" fill=\"#A80036\" rx=\"2\" ry=\"2\" style=\"stroke: #A80036; stroke-width: 1.0;\"/></a><!--MD5=[39f41a0e550fb3d73b4d8135617e30a2]\n",
       "link E12 to E3--><a href=\"psysml:2e0d72ae-9b36-4ac2-af7e-1d21d87eecf3\" target=\"_top\" title=\"psysml:2e0d72ae-9b36-4ac2-af7e-1d21d87eecf3\" xlink:actuate=\"onRequest\" xlink:href=\"psysml:2e0d72ae-9b36-4ac2-af7e-1d21d87eecf3\" xlink:show=\"new\" xlink:title=\"psysml:2e0d72ae-9b36-4ac2-af7e-1d21d87eecf3\" xlink:type=\"simple\"><path d=\"M444.7,130.1 C434.28,146.2 419.89,168.44 407.53,187.55 \" fill=\"none\" id=\"E12-&gt;E3\" style=\"stroke: #A80036; stroke-width: 1.0;\"/><polygon fill=\"#FFFFFF\" points=\"396.49,204.61,400.9313,184.8546,412.6866,192.4581,396.49,204.61\" style=\"stroke: #A80036; stroke-width: 1.0;\"/><ellipse cx=\"405.7063\" cy=\"181.1547\" fill=\"#A80036\" rx=\"2\" ry=\"2\" style=\"stroke: #A80036; stroke-width: 1.0;\"/><ellipse cx=\"414.103\" cy=\"186.5858\" fill=\"#A80036\" rx=\"2\" ry=\"2\" style=\"stroke: #A80036; stroke-width: 1.0;\"/></a><!--MD5=[066b2d8af59fea80ccdb3d54ad5c1091]\n",
       "link E13 to E5--><a href=\"psysml:28c76814-e954-4c97-b716-40e2f6813c6b\" target=\"_top\" title=\"psysml:28c76814-e954-4c97-b716-40e2f6813c6b\" xlink:actuate=\"onRequest\" xlink:href=\"psysml:28c76814-e954-4c97-b716-40e2f6813c6b\" xlink:show=\"new\" xlink:title=\"psysml:28c76814-e954-4c97-b716-40e2f6813c6b\" xlink:type=\"simple\"><path d=\"M67.3,130.1 C77.72,146.2 92.11,168.44 104.47,187.55 \" fill=\"none\" id=\"E13-&gt;E5\" style=\"stroke: #A80036; stroke-width: 1.0;\"/><polygon fill=\"#FFFFFF\" points=\"115.51,204.61,99.3134,192.4581,111.0687,184.8546,115.51,204.61\" style=\"stroke: #A80036; stroke-width: 1.0;\"/><ellipse cx=\"97.897\" cy=\"186.5858\" fill=\"#A80036\" rx=\"2\" ry=\"2\" style=\"stroke: #A80036; stroke-width: 1.0;\"/><ellipse cx=\"106.2937\" cy=\"181.1547\" fill=\"#A80036\" rx=\"2\" ry=\"2\" style=\"stroke: #A80036; stroke-width: 1.0;\"/></a><!--MD5=[76497618adfa7bef0cccc02636d9a040]\n",
       "@startuml\r\n",
       "skinparam wrapWidth 300\r\n",
       "hide circle\r\n",
       "\r\n",
       "package \"CircularImport\" as E1  [[psysml:690cd2ec-4fe7-4d94-89bf-c3d63ed60cd3 ]]  {\r\n",
       "package \"P1\" as E2  [[psysml:54e3154d-4fa4-4c14-a367-edca149a76a1 ]]  {\r\n",
       "comp def \"A\" as E3  <<(T,blue)part def>> [[psysml:281245e6-0723-4878-ac57-c406fd778909 ]] {\r\n",
       "}\r\n",
       "}\r\n",
       "package \"P2\" as E4  [[psysml:581c4a9e-fb07-4d80-ac64-c8c7b70027d2 ]]  {\r\n",
       "comp def \"B\" as E5  <<(T,blue)part def>> [[psysml:57665928-471f-4095-91e2-d839a960cf78 ]] {\r\n",
       "}\r\n",
       "}\r\n",
       "package \"Test1\" as E6  [[psysml:6bb49afc-ac2c-47b7-b48e-5bd0a62b326b ]]  {\r\n",
       "comp usage \"x: A\" as E7  <<(T,blue)part>> [[psysml:d6e39b1a-8a39-4c69-85ab-aa8551443e08 ]] {\r\n",
       "}\r\n",
       "comp usage \"y: B\" as E8  <<(T,blue)part>> [[psysml:ead6e64d-b294-4a2d-a1d8-90d3751f1490 ]] {\r\n",
       "}\r\n",
       "E7 - -:|> E3 [[psysml:84278f38-d400-4655-8657-76a37dd9bb09 ]] \r\n",
       "E8 - -:|> E5 [[psysml:9a62fcce-aa5a-49d2-8cac-0b2f538e5bd0 ]] \r\n",
       "}\r\n",
       "package \"Test2\" as E9  [[psysml:051bf7cb-81b8-4c37-8865-8bb7ea974985 ]]  {\r\n",
       "comp usage \"x: A\" as E10  <<(T,blue)part>> [[psysml:f3cb1211-10b9-411e-bf19-d5722693e1fe ]] {\r\n",
       "}\r\n",
       "comp usage \"y: B\" as E11  <<(T,blue)part>> [[psysml:9cdccab4-e502-4fbe-97eb-9b231d825ffa ]] {\r\n",
       "}\r\n",
       "E10 - -:|> E3 [[psysml:bd7260c7-b55a-4391-86f8-9493bae3bcdc ]] \r\n",
       "E11 - -:|> E5 [[psysml:099d00ce-a154-42ce-865e-6b31b35a0829 ]] \r\n",
       "}\r\n",
       "comp usage \"x: A\" as E12  <<(T,blue)part>> [[psysml:87edab01-bf58-4e9e-abd1-c8b0194f7dca ]] {\r\n",
       "}\r\n",
       "comp usage \"y: B\" as E13  <<(T,blue)part>> [[psysml:20c5387a-1627-4e14-8312-6f39b31ab3f7 ]] {\r\n",
       "}\r\n",
       "E12 - -:|> E3 [[psysml:2e0d72ae-9b36-4ac2-af7e-1d21d87eecf3 ]] \r\n",
       "E13 - -:|> E5 [[psysml:28c76814-e954-4c97-b716-40e2f6813c6b ]] \r\n",
       "}\r\n",
       "@enduml\r\n",
       "\n",
       "PlantUML version 1.2020.13(Sat Jun 13 12:26:38 UTC 2020)\n",
       "(EPL source distribution)\n",
       "Java Runtime: OpenJDK Runtime Environment\n",
       "JVM: OpenJDK 64-Bit Server VM\n",
       "Default Encoding: UTF-8\n",
       "Language: en\n",
       "Country: null\n",
       "--></g></svg>"
      ]
     },
     "execution_count": 23,
     "metadata": {},
     "output_type": "execute_result"
    }
   ],
   "source": [
    "%viz --style=\"STDCOLOR\" --view=\"Default\" \"CircularImport\""
   ]
  },
  {
   "cell_type": "code",
   "execution_count": 24,
   "id": "93048d9f",
   "metadata": {
    "execution": {
     "iopub.execute_input": "2021-04-20T06:57:53.369205Z",
     "iopub.status.busy": "2021-04-20T06:57:53.367065Z",
     "iopub.status.idle": "2021-04-20T06:57:53.464160Z",
     "shell.execute_reply": "2021-04-20T06:57:53.464807Z"
    }
   },
   "outputs": [
    {
     "data": {
      "image/svg+xml": [
       "<?xml version=\"1.0\" encoding=\"UTF-8\" standalone=\"no\"?><svg xmlns=\"http://www.w3.org/2000/svg\" xmlns:xlink=\"http://www.w3.org/1999/xlink\" contentScriptType=\"application/ecmascript\" contentStyleType=\"text/css\" height=\"303px\" preserveAspectRatio=\"none\" style=\"width:518px;height:303px;\" version=\"1.1\" viewBox=\"0 0 518 303\" width=\"518px\" zoomAndPan=\"magnify\"><defs><filter height=\"300%\" id=\"f5ol6gjczmbiw\" width=\"300%\" x=\"-1\" y=\"-1\"><feGaussianBlur result=\"blurOut\" stdDeviation=\"2.0\"/><feColorMatrix in=\"blurOut\" result=\"blurOut2\" type=\"matrix\" values=\"0 0 0 0 0 0 0 0 0 0 0 0 0 0 0 0 0 0 .4 0\"/><feOffset dx=\"4.0\" dy=\"4.0\" in=\"blurOut2\" result=\"blurOut3\"/><feBlend in=\"SourceGraphic\" in2=\"blurOut3\" mode=\"normal\"/></filter></defs><g><!--MD5=[fbc87193dbaf4d95561dea2c320d4a47]\n",
       "cluster E1--><a href=\"psysml:690cd2ec-4fe7-4d94-89bf-c3d63ed60cd3\" target=\"_top\" title=\"psysml:690cd2ec-4fe7-4d94-89bf-c3d63ed60cd3\" xlink:actuate=\"onRequest\" xlink:href=\"psysml:690cd2ec-4fe7-4d94-89bf-c3d63ed60cd3\" xlink:show=\"new\" xlink:title=\"psysml:690cd2ec-4fe7-4d94-89bf-c3d63ed60cd3\" xlink:type=\"simple\"><polygon fill=\"#FFFFFF\" filter=\"url(#f5ol6gjczmbiw)\" points=\"16,6,134,6,141,28.2969,496,28.2969,496,291,16,291,16,6\" style=\"stroke: #000000; stroke-width: 1.5;\"/><line style=\"stroke: #000000; stroke-width: 1.5;\" x1=\"16\" x2=\"141\" y1=\"28.2969\" y2=\"28.2969\"/><text fill=\"#000000\" font-family=\"sans-serif\" font-size=\"14\" font-weight=\"bold\" lengthAdjust=\"spacingAndGlyphs\" textLength=\"112\" x=\"20\" y=\"20.9951\">CircularImport</text></a><!--MD5=[e4f7fae6ed58524ba242bb0b0d3be6b7]\n",
       "cluster E2--><a href=\"psysml:54e3154d-4fa4-4c14-a367-edca149a76a1\" target=\"_top\" title=\"psysml:54e3154d-4fa4-4c14-a367-edca149a76a1\" xlink:actuate=\"onRequest\" xlink:href=\"psysml:54e3154d-4fa4-4c14-a367-edca149a76a1\" xlink:show=\"new\" xlink:title=\"psysml:54e3154d-4fa4-4c14-a367-edca149a76a1\" xlink:type=\"simple\"><polygon fill=\"#FFFFFF\" filter=\"url(#f5ol6gjczmbiw)\" points=\"333,170,359,170,366,192.2969,431,192.2969,431,267,333,267,333,170\" style=\"stroke: #000000; stroke-width: 1.5;\"/><line style=\"stroke: #000000; stroke-width: 1.5;\" x1=\"333\" x2=\"366\" y1=\"192.2969\" y2=\"192.2969\"/><text fill=\"#000000\" font-family=\"sans-serif\" font-size=\"14\" font-weight=\"bold\" lengthAdjust=\"spacingAndGlyphs\" textLength=\"20\" x=\"337\" y=\"184.9951\">P1</text></a><!--MD5=[f6df4d0ebaf0b5dfb2ced0ae5af7c670]\n",
       "cluster E4--><a href=\"psysml:581c4a9e-fb07-4d80-ac64-c8c7b70027d2\" target=\"_top\" title=\"psysml:581c4a9e-fb07-4d80-ac64-c8c7b70027d2\" xlink:actuate=\"onRequest\" xlink:href=\"psysml:581c4a9e-fb07-4d80-ac64-c8c7b70027d2\" xlink:show=\"new\" xlink:title=\"psysml:581c4a9e-fb07-4d80-ac64-c8c7b70027d2\" xlink:type=\"simple\"><polygon fill=\"#FFFFFF\" filter=\"url(#f5ol6gjczmbiw)\" points=\"81,170,107,170,114,192.2969,179,192.2969,179,267,81,267,81,170\" style=\"stroke: #000000; stroke-width: 1.5;\"/><line style=\"stroke: #000000; stroke-width: 1.5;\" x1=\"81\" x2=\"114\" y1=\"192.2969\" y2=\"192.2969\"/><text fill=\"#000000\" font-family=\"sans-serif\" font-size=\"14\" font-weight=\"bold\" lengthAdjust=\"spacingAndGlyphs\" textLength=\"20\" x=\"85\" y=\"184.9951\">P2</text></a><!--MD5=[14e3b0961a2654348d326746436168a1]\n",
       "cluster E6--><a href=\"psysml:6bb49afc-ac2c-47b7-b48e-5bd0a62b326b\" target=\"_top\" title=\"psysml:6bb49afc-ac2c-47b7-b48e-5bd0a62b326b\" xlink:actuate=\"onRequest\" xlink:href=\"psysml:6bb49afc-ac2c-47b7-b48e-5bd0a62b326b\" xlink:show=\"new\" xlink:title=\"psysml:6bb49afc-ac2c-47b7-b48e-5bd0a62b326b\" xlink:type=\"simple\"><polygon fill=\"#FFFFFF\" filter=\"url(#f5ol6gjczmbiw)\" points=\"268,49,319,49,326,71.2969,419,71.2969,419,146,268,146,268,49\" style=\"stroke: #000000; stroke-width: 1.5;\"/><line style=\"stroke: #000000; stroke-width: 1.5;\" x1=\"268\" x2=\"326\" y1=\"71.2969\" y2=\"71.2969\"/><text fill=\"#000000\" font-family=\"sans-serif\" font-size=\"14\" font-weight=\"bold\" lengthAdjust=\"spacingAndGlyphs\" textLength=\"45\" x=\"272\" y=\"63.9951\">Test1</text></a><!--MD5=[7f149f147074ac12df2cb0a7728a5fb0]\n",
       "cluster E9--><a href=\"psysml:051bf7cb-81b8-4c37-8865-8bb7ea974985\" target=\"_top\" title=\"psysml:051bf7cb-81b8-4c37-8865-8bb7ea974985\" xlink:actuate=\"onRequest\" xlink:href=\"psysml:051bf7cb-81b8-4c37-8865-8bb7ea974985\" xlink:show=\"new\" xlink:title=\"psysml:051bf7cb-81b8-4c37-8865-8bb7ea974985\" xlink:type=\"simple\"><polygon fill=\"#FFFFFF\" filter=\"url(#f5ol6gjczmbiw)\" points=\"93,49,144,49,151,71.2969,244,71.2969,244,146,93,146,93,49\" style=\"stroke: #000000; stroke-width: 1.5;\"/><line style=\"stroke: #000000; stroke-width: 1.5;\" x1=\"93\" x2=\"151\" y1=\"71.2969\" y2=\"71.2969\"/><text fill=\"#000000\" font-family=\"sans-serif\" font-size=\"14\" font-weight=\"bold\" lengthAdjust=\"spacingAndGlyphs\" textLength=\"45\" x=\"97\" y=\"63.9951\">Test2</text></a><!--MD5=[49a0ec8f00dab7302a31f22d0f0fe584]\n",
       "class E12--><a href=\"psysml:87edab01-bf58-4e9e-abd1-c8b0194f7dca\" target=\"_top\" title=\"psysml:87edab01-bf58-4e9e-abd1-c8b0194f7dca\" xlink:actuate=\"onRequest\" xlink:href=\"psysml:87edab01-bf58-4e9e-abd1-c8b0194f7dca\" xlink:show=\"new\" xlink:title=\"psysml:87edab01-bf58-4e9e-abd1-c8b0194f7dca\" xlink:type=\"simple\"><rect fill=\"#FEFECE\" filter=\"url(#f5ol6gjczmbiw)\" height=\"45.9375\" id=\"E12\" rx=\"10\" ry=\"10\" style=\"stroke: #A80036; stroke-width: 1.5;\" width=\"42\" x=\"438\" y=\"84\"/><text fill=\"#000000\" font-family=\"sans-serif\" font-size=\"12\" font-style=\"italic\" lengthAdjust=\"spacingAndGlyphs\" textLength=\"40\" x=\"439\" y=\"100.1387\">«part»</text><text fill=\"#000000\" font-family=\"sans-serif\" font-size=\"12\" lengthAdjust=\"spacingAndGlyphs\" textLength=\"22\" x=\"448\" y=\"114.1074\">x: A</text><line style=\"stroke: #A80036; stroke-width: 1.5;\" x1=\"439\" x2=\"479\" y1=\"121.9375\" y2=\"121.9375\"/></a><!--MD5=[ee3c913d1a06f366521f9ef512b67efe]\n",
       "class E13--><a href=\"psysml:20c5387a-1627-4e14-8312-6f39b31ab3f7\" target=\"_top\" title=\"psysml:20c5387a-1627-4e14-8312-6f39b31ab3f7\" xlink:actuate=\"onRequest\" xlink:href=\"psysml:20c5387a-1627-4e14-8312-6f39b31ab3f7\" xlink:show=\"new\" xlink:title=\"psysml:20c5387a-1627-4e14-8312-6f39b31ab3f7\" xlink:type=\"simple\"><rect fill=\"#FEFECE\" filter=\"url(#f5ol6gjczmbiw)\" height=\"45.9375\" id=\"E13\" rx=\"10\" ry=\"10\" style=\"stroke: #A80036; stroke-width: 1.5;\" width=\"42\" x=\"32\" y=\"84\"/><text fill=\"#000000\" font-family=\"sans-serif\" font-size=\"12\" font-style=\"italic\" lengthAdjust=\"spacingAndGlyphs\" textLength=\"40\" x=\"33\" y=\"100.1387\">«part»</text><text fill=\"#000000\" font-family=\"sans-serif\" font-size=\"12\" lengthAdjust=\"spacingAndGlyphs\" textLength=\"22\" x=\"42\" y=\"114.1074\">y: B</text><line style=\"stroke: #A80036; stroke-width: 1.5;\" x1=\"33\" x2=\"73\" y1=\"121.9375\" y2=\"121.9375\"/></a><!--MD5=[09b614a08d8cba4a07c9adeb5e0fee81]\n",
       "class E3--><a href=\"psysml:281245e6-0723-4878-ac57-c406fd778909\" target=\"_top\" title=\"psysml:281245e6-0723-4878-ac57-c406fd778909\" xlink:actuate=\"onRequest\" xlink:href=\"psysml:281245e6-0723-4878-ac57-c406fd778909\" xlink:show=\"new\" xlink:title=\"psysml:281245e6-0723-4878-ac57-c406fd778909\" xlink:type=\"simple\"><rect fill=\"#FEFECE\" filter=\"url(#f5ol6gjczmbiw)\" height=\"45.9375\" id=\"E3\" style=\"stroke: #A80036; stroke-width: 1.5;\" width=\"66\" x=\"349\" y=\"205\"/><text fill=\"#000000\" font-family=\"sans-serif\" font-size=\"12\" font-style=\"italic\" lengthAdjust=\"spacingAndGlyphs\" textLength=\"64\" x=\"350\" y=\"221.1387\">«part def»</text><text fill=\"#000000\" font-family=\"sans-serif\" font-size=\"12\" lengthAdjust=\"spacingAndGlyphs\" textLength=\"8\" x=\"378\" y=\"235.1074\">A</text><line style=\"stroke: #A80036; stroke-width: 1.5;\" x1=\"350\" x2=\"414\" y1=\"242.9375\" y2=\"242.9375\"/></a><!--MD5=[270fce915f116d4de14055a7c1d9a0f3]\n",
       "class E5--><a href=\"psysml:57665928-471f-4095-91e2-d839a960cf78\" target=\"_top\" title=\"psysml:57665928-471f-4095-91e2-d839a960cf78\" xlink:actuate=\"onRequest\" xlink:href=\"psysml:57665928-471f-4095-91e2-d839a960cf78\" xlink:show=\"new\" xlink:title=\"psysml:57665928-471f-4095-91e2-d839a960cf78\" xlink:type=\"simple\"><rect fill=\"#FEFECE\" filter=\"url(#f5ol6gjczmbiw)\" height=\"45.9375\" id=\"E5\" style=\"stroke: #A80036; stroke-width: 1.5;\" width=\"66\" x=\"97\" y=\"205\"/><text fill=\"#000000\" font-family=\"sans-serif\" font-size=\"12\" font-style=\"italic\" lengthAdjust=\"spacingAndGlyphs\" textLength=\"64\" x=\"98\" y=\"221.1387\">«part def»</text><text fill=\"#000000\" font-family=\"sans-serif\" font-size=\"12\" lengthAdjust=\"spacingAndGlyphs\" textLength=\"8\" x=\"126\" y=\"235.1074\">B</text><line style=\"stroke: #A80036; stroke-width: 1.5;\" x1=\"98\" x2=\"162\" y1=\"242.9375\" y2=\"242.9375\"/></a><!--MD5=[2156ba9850f5573cc1fc38a6a4b2f02b]\n",
       "class E7--><a href=\"psysml:d6e39b1a-8a39-4c69-85ab-aa8551443e08\" target=\"_top\" title=\"psysml:d6e39b1a-8a39-4c69-85ab-aa8551443e08\" xlink:actuate=\"onRequest\" xlink:href=\"psysml:d6e39b1a-8a39-4c69-85ab-aa8551443e08\" xlink:show=\"new\" xlink:title=\"psysml:d6e39b1a-8a39-4c69-85ab-aa8551443e08\" xlink:type=\"simple\"><rect fill=\"#FEFECE\" filter=\"url(#f5ol6gjczmbiw)\" height=\"45.9375\" id=\"E7\" rx=\"10\" ry=\"10\" style=\"stroke: #A80036; stroke-width: 1.5;\" width=\"42\" x=\"361\" y=\"84\"/><text fill=\"#000000\" font-family=\"sans-serif\" font-size=\"12\" font-style=\"italic\" lengthAdjust=\"spacingAndGlyphs\" textLength=\"40\" x=\"362\" y=\"100.1387\">«part»</text><text fill=\"#000000\" font-family=\"sans-serif\" font-size=\"12\" lengthAdjust=\"spacingAndGlyphs\" textLength=\"22\" x=\"371\" y=\"114.1074\">x: A</text><line style=\"stroke: #A80036; stroke-width: 1.5;\" x1=\"362\" x2=\"402\" y1=\"121.9375\" y2=\"121.9375\"/></a><!--MD5=[b9389687b975829384b498ac4b7476b2]\n",
       "class E8--><a href=\"psysml:ead6e64d-b294-4a2d-a1d8-90d3751f1490\" target=\"_top\" title=\"psysml:ead6e64d-b294-4a2d-a1d8-90d3751f1490\" xlink:actuate=\"onRequest\" xlink:href=\"psysml:ead6e64d-b294-4a2d-a1d8-90d3751f1490\" xlink:show=\"new\" xlink:title=\"psysml:ead6e64d-b294-4a2d-a1d8-90d3751f1490\" xlink:type=\"simple\"><rect fill=\"#FEFECE\" filter=\"url(#f5ol6gjczmbiw)\" height=\"45.9375\" id=\"E8\" rx=\"10\" ry=\"10\" style=\"stroke: #A80036; stroke-width: 1.5;\" width=\"42\" x=\"284\" y=\"84\"/><text fill=\"#000000\" font-family=\"sans-serif\" font-size=\"12\" font-style=\"italic\" lengthAdjust=\"spacingAndGlyphs\" textLength=\"40\" x=\"285\" y=\"100.1387\">«part»</text><text fill=\"#000000\" font-family=\"sans-serif\" font-size=\"12\" lengthAdjust=\"spacingAndGlyphs\" textLength=\"22\" x=\"294\" y=\"114.1074\">y: B</text><line style=\"stroke: #A80036; stroke-width: 1.5;\" x1=\"285\" x2=\"325\" y1=\"121.9375\" y2=\"121.9375\"/></a><!--MD5=[96f4274e9e20536e775497830990834d]\n",
       "class E10--><a href=\"psysml:f3cb1211-10b9-411e-bf19-d5722693e1fe\" target=\"_top\" title=\"psysml:f3cb1211-10b9-411e-bf19-d5722693e1fe\" xlink:actuate=\"onRequest\" xlink:href=\"psysml:f3cb1211-10b9-411e-bf19-d5722693e1fe\" xlink:show=\"new\" xlink:title=\"psysml:f3cb1211-10b9-411e-bf19-d5722693e1fe\" xlink:type=\"simple\"><rect fill=\"#FEFECE\" filter=\"url(#f5ol6gjczmbiw)\" height=\"45.9375\" id=\"E10\" rx=\"10\" ry=\"10\" style=\"stroke: #A80036; stroke-width: 1.5;\" width=\"42\" x=\"186\" y=\"84\"/><text fill=\"#000000\" font-family=\"sans-serif\" font-size=\"12\" font-style=\"italic\" lengthAdjust=\"spacingAndGlyphs\" textLength=\"40\" x=\"187\" y=\"100.1387\">«part»</text><text fill=\"#000000\" font-family=\"sans-serif\" font-size=\"12\" lengthAdjust=\"spacingAndGlyphs\" textLength=\"22\" x=\"196\" y=\"114.1074\">x: A</text><line style=\"stroke: #A80036; stroke-width: 1.5;\" x1=\"187\" x2=\"227\" y1=\"121.9375\" y2=\"121.9375\"/></a><!--MD5=[1dd1bfd58a279cf63c5f349dbc8fc6a1]\n",
       "class E11--><a href=\"psysml:9cdccab4-e502-4fbe-97eb-9b231d825ffa\" target=\"_top\" title=\"psysml:9cdccab4-e502-4fbe-97eb-9b231d825ffa\" xlink:actuate=\"onRequest\" xlink:href=\"psysml:9cdccab4-e502-4fbe-97eb-9b231d825ffa\" xlink:show=\"new\" xlink:title=\"psysml:9cdccab4-e502-4fbe-97eb-9b231d825ffa\" xlink:type=\"simple\"><rect fill=\"#FEFECE\" filter=\"url(#f5ol6gjczmbiw)\" height=\"45.9375\" id=\"E11\" rx=\"10\" ry=\"10\" style=\"stroke: #A80036; stroke-width: 1.5;\" width=\"42\" x=\"109\" y=\"84\"/><text fill=\"#000000\" font-family=\"sans-serif\" font-size=\"12\" font-style=\"italic\" lengthAdjust=\"spacingAndGlyphs\" textLength=\"40\" x=\"110\" y=\"100.1387\">«part»</text><text fill=\"#000000\" font-family=\"sans-serif\" font-size=\"12\" lengthAdjust=\"spacingAndGlyphs\" textLength=\"22\" x=\"119\" y=\"114.1074\">y: B</text><line style=\"stroke: #A80036; stroke-width: 1.5;\" x1=\"110\" x2=\"150\" y1=\"121.9375\" y2=\"121.9375\"/></a><!--MD5=[14ccda38c055a5c0da953d572bc50960]\n",
       "link E7 to E3--><a href=\"psysml:84278f38-d400-4655-8657-76a37dd9bb09\" target=\"_top\" title=\"psysml:84278f38-d400-4655-8657-76a37dd9bb09\" xlink:actuate=\"onRequest\" xlink:href=\"psysml:84278f38-d400-4655-8657-76a37dd9bb09\" xlink:show=\"new\" xlink:title=\"psysml:84278f38-d400-4655-8657-76a37dd9bb09\" xlink:type=\"simple\"><path d=\"M382,130.1 C382,145.37 382,166.16 382,184.57 \" fill=\"none\" id=\"E7-&gt;E3\" style=\"stroke: #A80036; stroke-width: 1.0;\"/><polygon fill=\"#FFFFFF\" points=\"382,204.61,375,185.61,389,185.61,382,204.61\" style=\"stroke: #A80036; stroke-width: 1.0;\"/><ellipse cx=\"377\" cy=\"179.91\" fill=\"#A80036\" rx=\"2\" ry=\"2\" style=\"stroke: #A80036; stroke-width: 1.0;\"/><ellipse cx=\"387\" cy=\"179.91\" fill=\"#A80036\" rx=\"2\" ry=\"2\" style=\"stroke: #A80036; stroke-width: 1.0;\"/></a><!--MD5=[1ccb2481ffa92f8d51a74ee30c51832a]\n",
       "link E8 to E5--><a href=\"psysml:9a62fcce-aa5a-49d2-8cac-0b2f538e5bd0\" target=\"_top\" title=\"psysml:9a62fcce-aa5a-49d2-8cac-0b2f538e5bd0\" xlink:actuate=\"onRequest\" xlink:href=\"psysml:9a62fcce-aa5a-49d2-8cac-0b2f538e5bd0\" xlink:show=\"new\" xlink:title=\"psysml:9a62fcce-aa5a-49d2-8cac-0b2f538e5bd0\" xlink:type=\"simple\"><path d=\"M283.84,124.59 C272.23,133.52 257.5,144.61 244,154 C223.51,168.25 200.41,183.24 180.38,195.91 \" fill=\"none\" id=\"E8-&gt;E5\" style=\"stroke: #A80036; stroke-width: 1.0;\"/><polygon fill=\"#FFFFFF\" points=\"163.36,206.57,175.7353,190.5434,183.175,202.403,163.36,206.57\" style=\"stroke: #A80036; stroke-width: 1.0;\"/><ellipse cx=\"181.6267\" cy=\"189.2086\" fill=\"#A80036\" rx=\"2\" ry=\"2\" style=\"stroke: #A80036; stroke-width: 1.0;\"/><ellipse cx=\"186.9408\" cy=\"197.6797\" fill=\"#A80036\" rx=\"2\" ry=\"2\" style=\"stroke: #A80036; stroke-width: 1.0;\"/></a><!--MD5=[feeac5eb423634930294aa81f2d25a4c]\n",
       "link E10 to E3--><a href=\"psysml:bd7260c7-b55a-4391-86f8-9493bae3bcdc\" target=\"_top\" title=\"psysml:bd7260c7-b55a-4391-86f8-9493bae3bcdc\" xlink:actuate=\"onRequest\" xlink:href=\"psysml:bd7260c7-b55a-4391-86f8-9493bae3bcdc\" xlink:show=\"new\" xlink:title=\"psysml:bd7260c7-b55a-4391-86f8-9493bae3bcdc\" xlink:type=\"simple\"><path d=\"M228.16,124.59 C239.77,133.52 254.5,144.61 268,154 C288.49,168.25 311.59,183.24 331.62,195.91 \" fill=\"none\" id=\"E10-&gt;E3\" style=\"stroke: #A80036; stroke-width: 1.0;\"/><polygon fill=\"#FFFFFF\" points=\"348.64,206.57,328.825,202.403,336.2647,190.5434,348.64,206.57\" style=\"stroke: #A80036; stroke-width: 1.0;\"/><ellipse cx=\"325.0592\" cy=\"197.6797\" fill=\"#A80036\" rx=\"2\" ry=\"2\" style=\"stroke: #A80036; stroke-width: 1.0;\"/><ellipse cx=\"330.3733\" cy=\"189.2086\" fill=\"#A80036\" rx=\"2\" ry=\"2\" style=\"stroke: #A80036; stroke-width: 1.0;\"/></a><!--MD5=[07b77f6f309248d16187045709d1c26e]\n",
       "link E11 to E5--><a href=\"psysml:099d00ce-a154-42ce-865e-6b31b35a0829\" target=\"_top\" title=\"psysml:099d00ce-a154-42ce-865e-6b31b35a0829\" xlink:actuate=\"onRequest\" xlink:href=\"psysml:099d00ce-a154-42ce-865e-6b31b35a0829\" xlink:show=\"new\" xlink:title=\"psysml:099d00ce-a154-42ce-865e-6b31b35a0829\" xlink:type=\"simple\"><path d=\"M130,130.1 C130,145.37 130,166.16 130,184.57 \" fill=\"none\" id=\"E11-&gt;E5\" style=\"stroke: #A80036; stroke-width: 1.0;\"/><polygon fill=\"#FFFFFF\" points=\"130,204.61,123,185.61,137,185.61,130,204.61\" style=\"stroke: #A80036; stroke-width: 1.0;\"/><ellipse cx=\"125\" cy=\"179.91\" fill=\"#A80036\" rx=\"2\" ry=\"2\" style=\"stroke: #A80036; stroke-width: 1.0;\"/><ellipse cx=\"135\" cy=\"179.91\" fill=\"#A80036\" rx=\"2\" ry=\"2\" style=\"stroke: #A80036; stroke-width: 1.0;\"/></a><!--MD5=[39f41a0e550fb3d73b4d8135617e30a2]\n",
       "link E12 to E3--><a href=\"psysml:2e0d72ae-9b36-4ac2-af7e-1d21d87eecf3\" target=\"_top\" title=\"psysml:2e0d72ae-9b36-4ac2-af7e-1d21d87eecf3\" xlink:actuate=\"onRequest\" xlink:href=\"psysml:2e0d72ae-9b36-4ac2-af7e-1d21d87eecf3\" xlink:show=\"new\" xlink:title=\"psysml:2e0d72ae-9b36-4ac2-af7e-1d21d87eecf3\" xlink:type=\"simple\"><path d=\"M444.7,130.1 C434.28,146.2 419.89,168.44 407.53,187.55 \" fill=\"none\" id=\"E12-&gt;E3\" style=\"stroke: #A80036; stroke-width: 1.0;\"/><polygon fill=\"#FFFFFF\" points=\"396.49,204.61,400.9313,184.8546,412.6866,192.4581,396.49,204.61\" style=\"stroke: #A80036; stroke-width: 1.0;\"/><ellipse cx=\"405.7063\" cy=\"181.1547\" fill=\"#A80036\" rx=\"2\" ry=\"2\" style=\"stroke: #A80036; stroke-width: 1.0;\"/><ellipse cx=\"414.103\" cy=\"186.5858\" fill=\"#A80036\" rx=\"2\" ry=\"2\" style=\"stroke: #A80036; stroke-width: 1.0;\"/></a><!--MD5=[066b2d8af59fea80ccdb3d54ad5c1091]\n",
       "link E13 to E5--><a href=\"psysml:28c76814-e954-4c97-b716-40e2f6813c6b\" target=\"_top\" title=\"psysml:28c76814-e954-4c97-b716-40e2f6813c6b\" xlink:actuate=\"onRequest\" xlink:href=\"psysml:28c76814-e954-4c97-b716-40e2f6813c6b\" xlink:show=\"new\" xlink:title=\"psysml:28c76814-e954-4c97-b716-40e2f6813c6b\" xlink:type=\"simple\"><path d=\"M67.3,130.1 C77.72,146.2 92.11,168.44 104.47,187.55 \" fill=\"none\" id=\"E13-&gt;E5\" style=\"stroke: #A80036; stroke-width: 1.0;\"/><polygon fill=\"#FFFFFF\" points=\"115.51,204.61,99.3134,192.4581,111.0687,184.8546,115.51,204.61\" style=\"stroke: #A80036; stroke-width: 1.0;\"/><ellipse cx=\"97.897\" cy=\"186.5858\" fill=\"#A80036\" rx=\"2\" ry=\"2\" style=\"stroke: #A80036; stroke-width: 1.0;\"/><ellipse cx=\"106.2937\" cy=\"181.1547\" fill=\"#A80036\" rx=\"2\" ry=\"2\" style=\"stroke: #A80036; stroke-width: 1.0;\"/></a><!--MD5=[76497618adfa7bef0cccc02636d9a040]\n",
       "@startuml\r\n",
       "skinparam wrapWidth 300\r\n",
       "hide circle\r\n",
       "\r\n",
       "package \"CircularImport\" as E1  [[psysml:690cd2ec-4fe7-4d94-89bf-c3d63ed60cd3 ]]  {\r\n",
       "package \"P1\" as E2  [[psysml:54e3154d-4fa4-4c14-a367-edca149a76a1 ]]  {\r\n",
       "comp def \"A\" as E3  <<(T,blue)part def>> [[psysml:281245e6-0723-4878-ac57-c406fd778909 ]] {\r\n",
       "}\r\n",
       "}\r\n",
       "package \"P2\" as E4  [[psysml:581c4a9e-fb07-4d80-ac64-c8c7b70027d2 ]]  {\r\n",
       "comp def \"B\" as E5  <<(T,blue)part def>> [[psysml:57665928-471f-4095-91e2-d839a960cf78 ]] {\r\n",
       "}\r\n",
       "}\r\n",
       "package \"Test1\" as E6  [[psysml:6bb49afc-ac2c-47b7-b48e-5bd0a62b326b ]]  {\r\n",
       "comp usage \"x: A\" as E7  <<(T,blue)part>> [[psysml:d6e39b1a-8a39-4c69-85ab-aa8551443e08 ]] {\r\n",
       "}\r\n",
       "comp usage \"y: B\" as E8  <<(T,blue)part>> [[psysml:ead6e64d-b294-4a2d-a1d8-90d3751f1490 ]] {\r\n",
       "}\r\n",
       "E7 - -:|> E3 [[psysml:84278f38-d400-4655-8657-76a37dd9bb09 ]] \r\n",
       "E8 - -:|> E5 [[psysml:9a62fcce-aa5a-49d2-8cac-0b2f538e5bd0 ]] \r\n",
       "}\r\n",
       "package \"Test2\" as E9  [[psysml:051bf7cb-81b8-4c37-8865-8bb7ea974985 ]]  {\r\n",
       "comp usage \"x: A\" as E10  <<(T,blue)part>> [[psysml:f3cb1211-10b9-411e-bf19-d5722693e1fe ]] {\r\n",
       "}\r\n",
       "comp usage \"y: B\" as E11  <<(T,blue)part>> [[psysml:9cdccab4-e502-4fbe-97eb-9b231d825ffa ]] {\r\n",
       "}\r\n",
       "E10 - -:|> E3 [[psysml:bd7260c7-b55a-4391-86f8-9493bae3bcdc ]] \r\n",
       "E11 - -:|> E5 [[psysml:099d00ce-a154-42ce-865e-6b31b35a0829 ]] \r\n",
       "}\r\n",
       "comp usage \"x: A\" as E12  <<(T,blue)part>> [[psysml:87edab01-bf58-4e9e-abd1-c8b0194f7dca ]] {\r\n",
       "}\r\n",
       "comp usage \"y: B\" as E13  <<(T,blue)part>> [[psysml:20c5387a-1627-4e14-8312-6f39b31ab3f7 ]] {\r\n",
       "}\r\n",
       "E12 - -:|> E3 [[psysml:2e0d72ae-9b36-4ac2-af7e-1d21d87eecf3 ]] \r\n",
       "E13 - -:|> E5 [[psysml:28c76814-e954-4c97-b716-40e2f6813c6b ]] \r\n",
       "}\r\n",
       "@enduml\r\n",
       "\n",
       "PlantUML version 1.2020.13(Sat Jun 13 12:26:38 UTC 2020)\n",
       "(EPL source distribution)\n",
       "Java Runtime: OpenJDK Runtime Environment\n",
       "JVM: OpenJDK 64-Bit Server VM\n",
       "Default Encoding: UTF-8\n",
       "Language: en\n",
       "Country: null\n",
       "--></g></svg>"
      ]
     },
     "execution_count": 24,
     "metadata": {},
     "output_type": "execute_result"
    }
   ],
   "source": [
    "%viz --style=\"STDCOLOR\" --view=\"Tree\" \"CircularImport\""
   ]
  },
  {
   "cell_type": "code",
   "execution_count": 25,
   "id": "ef5b0d90",
   "metadata": {
    "execution": {
     "iopub.execute_input": "2021-04-20T06:57:53.514710Z",
     "iopub.status.busy": "2021-04-20T06:57:53.513553Z",
     "iopub.status.idle": "2021-04-20T06:57:53.522847Z",
     "shell.execute_reply": "2021-04-20T06:57:53.522432Z"
    }
   },
   "outputs": [
    {
     "data": {
      "image/svg+xml": [
       "<?xml version=\"1.0\" encoding=\"UTF-8\" standalone=\"no\"?><svg xmlns=\"http://www.w3.org/2000/svg\" xmlns:xlink=\"http://www.w3.org/1999/xlink\" contentScriptType=\"application/ecmascript\" contentStyleType=\"text/css\" height=\"12px\" preserveAspectRatio=\"none\" style=\"width:12px;height:12px;\" version=\"1.1\" viewBox=\"0 0 12 12\" width=\"12px\" zoomAndPan=\"magnify\"><defs/><g><!--MD5=[aeeef50f102b80d730deb6443d14f702]\n",
       "@startuml\r\n",
       "skinparam wrapWidth 300\r\n",
       "hide circle\r\n",
       "\r\n",
       "@enduml\r\n",
       "\n",
       "PlantUML version 1.2020.13(Sat Jun 13 12:26:38 UTC 2020)\n",
       "(EPL source distribution)\n",
       "Java Runtime: OpenJDK Runtime Environment\n",
       "JVM: OpenJDK 64-Bit Server VM\n",
       "Default Encoding: UTF-8\n",
       "Language: en\n",
       "Country: null\n",
       "--></g></svg>"
      ]
     },
     "execution_count": 25,
     "metadata": {},
     "output_type": "execute_result"
    }
   ],
   "source": [
    "%viz --style=\"STDCOLOR\" --view=\"State\" \"CircularImport\""
   ]
  },
  {
   "cell_type": "code",
   "execution_count": 26,
   "id": "d05cac2d",
   "metadata": {
    "execution": {
     "iopub.execute_input": "2021-04-20T06:57:53.574525Z",
     "iopub.status.busy": "2021-04-20T06:57:53.574146Z",
     "iopub.status.idle": "2021-04-20T06:57:53.603675Z",
     "shell.execute_reply": "2021-04-20T06:57:53.602426Z"
    }
   },
   "outputs": [
    {
     "data": {
      "image/svg+xml": [
       "<?xml version=\"1.0\" encoding=\"UTF-8\" standalone=\"no\"?><svg xmlns=\"http://www.w3.org/2000/svg\" xmlns:xlink=\"http://www.w3.org/1999/xlink\" contentScriptType=\"application/ecmascript\" contentStyleType=\"text/css\" height=\"179px\" preserveAspectRatio=\"none\" style=\"width:846px;height:179px;\" version=\"1.1\" viewBox=\"0 0 846 179\" width=\"846px\" zoomAndPan=\"magnify\"><defs><filter height=\"300%\" id=\"fpud6vipg0076\" width=\"300%\" x=\"-1\" y=\"-1\"><feGaussianBlur result=\"blurOut\" stdDeviation=\"2.0\"/><feColorMatrix in=\"blurOut\" result=\"blurOut2\" type=\"matrix\" values=\"0 0 0 0 0 0 0 0 0 0 0 0 0 0 0 0 0 0 .4 0\"/><feOffset dx=\"4.0\" dy=\"4.0\" in=\"blurOut2\" result=\"blurOut3\"/><feBlend in=\"SourceGraphic\" in2=\"blurOut3\" mode=\"normal\"/></filter></defs><g><!--MD5=[fbc87193dbaf4d95561dea2c320d4a47]\n",
       "cluster E1--><a href=\"psysml:690cd2ec-4fe7-4d94-89bf-c3d63ed60cd3\" target=\"_top\" title=\"psysml:690cd2ec-4fe7-4d94-89bf-c3d63ed60cd3\" xlink:actuate=\"onRequest\" xlink:href=\"psysml:690cd2ec-4fe7-4d94-89bf-c3d63ed60cd3\" xlink:show=\"new\" xlink:title=\"psysml:690cd2ec-4fe7-4d94-89bf-c3d63ed60cd3\" xlink:type=\"simple\"><polygon fill=\"#FFFFFF\" filter=\"url(#fpud6vipg0076)\" points=\"16,6,134,6,141,28.2969,824,28.2969,824,167,16,167,16,6\" style=\"stroke: #000000; stroke-width: 1.5;\"/><line style=\"stroke: #000000; stroke-width: 1.5;\" x1=\"16\" x2=\"141\" y1=\"28.2969\" y2=\"28.2969\"/><text fill=\"#000000\" font-family=\"sans-serif\" font-size=\"14\" font-weight=\"bold\" lengthAdjust=\"spacingAndGlyphs\" textLength=\"112\" x=\"20\" y=\"20.9951\">CircularImport</text></a><!--MD5=[e4f7fae6ed58524ba242bb0b0d3be6b7]\n",
       "cluster E2--><a href=\"psysml:54e3154d-4fa4-4c14-a367-edca149a76a1\" target=\"_top\" title=\"psysml:54e3154d-4fa4-4c14-a367-edca149a76a1\" xlink:actuate=\"onRequest\" xlink:href=\"psysml:54e3154d-4fa4-4c14-a367-edca149a76a1\" xlink:show=\"new\" xlink:title=\"psysml:54e3154d-4fa4-4c14-a367-edca149a76a1\" xlink:type=\"simple\"><polygon fill=\"#FFFFFF\" filter=\"url(#fpud6vipg0076)\" points=\"696,49,722,49,729,71.2969,800,71.2969,800,143,696,143,696,49\" style=\"stroke: #000000; stroke-width: 1.5;\"/><line style=\"stroke: #000000; stroke-width: 1.5;\" x1=\"696\" x2=\"729\" y1=\"71.2969\" y2=\"71.2969\"/><text fill=\"#000000\" font-family=\"sans-serif\" font-size=\"14\" font-weight=\"bold\" lengthAdjust=\"spacingAndGlyphs\" textLength=\"20\" x=\"700\" y=\"63.9951\">P1</text></a><!--MD5=[f6df4d0ebaf0b5dfb2ced0ae5af7c670]\n",
       "cluster E4--><a href=\"psysml:581c4a9e-fb07-4d80-ac64-c8c7b70027d2\" target=\"_top\" title=\"psysml:581c4a9e-fb07-4d80-ac64-c8c7b70027d2\" xlink:actuate=\"onRequest\" xlink:href=\"psysml:581c4a9e-fb07-4d80-ac64-c8c7b70027d2\" xlink:show=\"new\" xlink:title=\"psysml:581c4a9e-fb07-4d80-ac64-c8c7b70027d2\" xlink:type=\"simple\"><polygon fill=\"#FFFFFF\" filter=\"url(#fpud6vipg0076)\" points=\"568,49,594,49,601,71.2969,672,71.2969,672,143,568,143,568,49\" style=\"stroke: #000000; stroke-width: 1.5;\"/><line style=\"stroke: #000000; stroke-width: 1.5;\" x1=\"568\" x2=\"601\" y1=\"71.2969\" y2=\"71.2969\"/><text fill=\"#000000\" font-family=\"sans-serif\" font-size=\"14\" font-weight=\"bold\" lengthAdjust=\"spacingAndGlyphs\" textLength=\"20\" x=\"572\" y=\"63.9951\">P2</text></a><!--MD5=[14e3b0961a2654348d326746436168a1]\n",
       "cluster E6--><a href=\"psysml:6bb49afc-ac2c-47b7-b48e-5bd0a62b326b\" target=\"_top\" title=\"psysml:6bb49afc-ac2c-47b7-b48e-5bd0a62b326b\" xlink:actuate=\"onRequest\" xlink:href=\"psysml:6bb49afc-ac2c-47b7-b48e-5bd0a62b326b\" xlink:show=\"new\" xlink:title=\"psysml:6bb49afc-ac2c-47b7-b48e-5bd0a62b326b\" xlink:type=\"simple\"><polygon fill=\"#FFFFFF\" filter=\"url(#fpud6vipg0076)\" points=\"377,50.5,428,50.5,435,72.7969,544,72.7969,544,141.5,377,141.5,377,50.5\" style=\"stroke: #000000; stroke-width: 1.5;\"/><line style=\"stroke: #000000; stroke-width: 1.5;\" x1=\"377\" x2=\"435\" y1=\"72.7969\" y2=\"72.7969\"/><text fill=\"#000000\" font-family=\"sans-serif\" font-size=\"14\" font-weight=\"bold\" lengthAdjust=\"spacingAndGlyphs\" textLength=\"45\" x=\"381\" y=\"65.4951\">Test1</text></a><!--MD5=[7f149f147074ac12df2cb0a7728a5fb0]\n",
       "cluster E9--><a href=\"psysml:051bf7cb-81b8-4c37-8865-8bb7ea974985\" target=\"_top\" title=\"psysml:051bf7cb-81b8-4c37-8865-8bb7ea974985\" xlink:actuate=\"onRequest\" xlink:href=\"psysml:051bf7cb-81b8-4c37-8865-8bb7ea974985\" xlink:show=\"new\" xlink:title=\"psysml:051bf7cb-81b8-4c37-8865-8bb7ea974985\" xlink:type=\"simple\"><polygon fill=\"#FFFFFF\" filter=\"url(#fpud6vipg0076)\" points=\"186,50.5,237,50.5,244,72.7969,353,72.7969,353,141.5,186,141.5,186,50.5\" style=\"stroke: #000000; stroke-width: 1.5;\"/><line style=\"stroke: #000000; stroke-width: 1.5;\" x1=\"186\" x2=\"244\" y1=\"72.7969\" y2=\"72.7969\"/><text fill=\"#000000\" font-family=\"sans-serif\" font-size=\"14\" font-weight=\"bold\" lengthAdjust=\"spacingAndGlyphs\" textLength=\"45\" x=\"190\" y=\"65.4951\">Test2</text></a><g id=\"E1.E2.E3\"><a href=\"psysml:281245e6-0723-4878-ac57-c406fd778909\" target=\"_top\" title=\"psysml:281245e6-0723-4878-ac57-c406fd778909\" xlink:actuate=\"onRequest\" xlink:href=\"psysml:281245e6-0723-4878-ac57-c406fd778909\" xlink:show=\"new\" xlink:title=\"psysml:281245e6-0723-4878-ac57-c406fd778909\" xlink:type=\"simple\"><rect fill=\"#FEFECE\" filter=\"url(#fpud6vipg0076)\" height=\"42.9375\" id=\"E3\" style=\"stroke: #A80036; stroke-width: 1.5;\" width=\"71\" x=\"712.5\" y=\"84\"/><text fill=\"#000000\" font-family=\"sans-serif\" font-size=\"12\" font-style=\"italic\" lengthAdjust=\"spacingAndGlyphs\" textLength=\"64\" x=\"716\" y=\"100.1387\">«part def»</text><text fill=\"#000000\" font-family=\"sans-serif\" font-size=\"12\" lengthAdjust=\"spacingAndGlyphs\" textLength=\"8\" x=\"744\" y=\"114.1074\">A</text></a></g><g id=\"E1.E4.E5\"><a href=\"psysml:57665928-471f-4095-91e2-d839a960cf78\" target=\"_top\" title=\"psysml:57665928-471f-4095-91e2-d839a960cf78\" xlink:actuate=\"onRequest\" xlink:href=\"psysml:57665928-471f-4095-91e2-d839a960cf78\" xlink:show=\"new\" xlink:title=\"psysml:57665928-471f-4095-91e2-d839a960cf78\" xlink:type=\"simple\"><rect fill=\"#FEFECE\" filter=\"url(#fpud6vipg0076)\" height=\"42.9375\" id=\"E5\" style=\"stroke: #A80036; stroke-width: 1.5;\" width=\"71\" x=\"584.5\" y=\"84\"/><text fill=\"#000000\" font-family=\"sans-serif\" font-size=\"12\" font-style=\"italic\" lengthAdjust=\"spacingAndGlyphs\" textLength=\"64\" x=\"588\" y=\"100.1387\">«part def»</text><text fill=\"#000000\" font-family=\"sans-serif\" font-size=\"12\" lengthAdjust=\"spacingAndGlyphs\" textLength=\"8\" x=\"616\" y=\"114.1074\">B</text></a></g><g id=\"E1.E6.E7\"><a href=\"psysml:d6e39b1a-8a39-4c69-85ab-aa8551443e08\" target=\"_top\" title=\"psysml:d6e39b1a-8a39-4c69-85ab-aa8551443e08\" xlink:actuate=\"onRequest\" xlink:href=\"psysml:d6e39b1a-8a39-4c69-85ab-aa8551443e08\" xlink:show=\"new\" xlink:title=\"psysml:d6e39b1a-8a39-4c69-85ab-aa8551443e08\" xlink:type=\"simple\"><rect fill=\"#FEFECE\" filter=\"url(#fpud6vipg0076)\" height=\"40\" id=\"E7\" rx=\"10\" ry=\"10\" style=\"stroke: #A80036; stroke-width: 1.5;\" width=\"50\" x=\"478\" y=\"85.5\"/><text fill=\"#000000\" font-family=\"sans-serif\" font-size=\"12\" lengthAdjust=\"spacingAndGlyphs\" textLength=\"22\" x=\"492\" y=\"101.6387\">x: A</text></a></g><g id=\"E1.E6.E8\"><a href=\"psysml:ead6e64d-b294-4a2d-a1d8-90d3751f1490\" target=\"_top\" title=\"psysml:ead6e64d-b294-4a2d-a1d8-90d3751f1490\" xlink:actuate=\"onRequest\" xlink:href=\"psysml:ead6e64d-b294-4a2d-a1d8-90d3751f1490\" xlink:show=\"new\" xlink:title=\"psysml:ead6e64d-b294-4a2d-a1d8-90d3751f1490\" xlink:type=\"simple\"><rect fill=\"#FEFECE\" filter=\"url(#fpud6vipg0076)\" height=\"40\" id=\"E8\" rx=\"10\" ry=\"10\" style=\"stroke: #A80036; stroke-width: 1.5;\" width=\"50\" x=\"393\" y=\"85.5\"/><text fill=\"#000000\" font-family=\"sans-serif\" font-size=\"12\" lengthAdjust=\"spacingAndGlyphs\" textLength=\"22\" x=\"407\" y=\"101.6387\">y: B</text></a></g><g id=\"E1.E9.E10\"><a href=\"psysml:f3cb1211-10b9-411e-bf19-d5722693e1fe\" target=\"_top\" title=\"psysml:f3cb1211-10b9-411e-bf19-d5722693e1fe\" xlink:actuate=\"onRequest\" xlink:href=\"psysml:f3cb1211-10b9-411e-bf19-d5722693e1fe\" xlink:show=\"new\" xlink:title=\"psysml:f3cb1211-10b9-411e-bf19-d5722693e1fe\" xlink:type=\"simple\"><rect fill=\"#FEFECE\" filter=\"url(#fpud6vipg0076)\" height=\"40\" id=\"E10\" rx=\"10\" ry=\"10\" style=\"stroke: #A80036; stroke-width: 1.5;\" width=\"50\" x=\"287\" y=\"85.5\"/><text fill=\"#000000\" font-family=\"sans-serif\" font-size=\"12\" lengthAdjust=\"spacingAndGlyphs\" textLength=\"22\" x=\"301\" y=\"101.6387\">x: A</text></a></g><g id=\"E1.E9.E11\"><a href=\"psysml:9cdccab4-e502-4fbe-97eb-9b231d825ffa\" target=\"_top\" title=\"psysml:9cdccab4-e502-4fbe-97eb-9b231d825ffa\" xlink:actuate=\"onRequest\" xlink:href=\"psysml:9cdccab4-e502-4fbe-97eb-9b231d825ffa\" xlink:show=\"new\" xlink:title=\"psysml:9cdccab4-e502-4fbe-97eb-9b231d825ffa\" xlink:type=\"simple\"><rect fill=\"#FEFECE\" filter=\"url(#fpud6vipg0076)\" height=\"40\" id=\"E11\" rx=\"10\" ry=\"10\" style=\"stroke: #A80036; stroke-width: 1.5;\" width=\"50\" x=\"202\" y=\"85.5\"/><text fill=\"#000000\" font-family=\"sans-serif\" font-size=\"12\" lengthAdjust=\"spacingAndGlyphs\" textLength=\"22\" x=\"216\" y=\"101.6387\">y: B</text></a></g><g id=\"E1.E12\"><a href=\"psysml:87edab01-bf58-4e9e-abd1-c8b0194f7dca\" target=\"_top\" title=\"psysml:87edab01-bf58-4e9e-abd1-c8b0194f7dca\" xlink:actuate=\"onRequest\" xlink:href=\"psysml:87edab01-bf58-4e9e-abd1-c8b0194f7dca\" xlink:show=\"new\" xlink:title=\"psysml:87edab01-bf58-4e9e-abd1-c8b0194f7dca\" xlink:type=\"simple\"><rect fill=\"#FEFECE\" filter=\"url(#fpud6vipg0076)\" height=\"40\" id=\"E12\" rx=\"10\" ry=\"10\" style=\"stroke: #A80036; stroke-width: 1.5;\" width=\"50\" x=\"117\" y=\"85.5\"/><text fill=\"#000000\" font-family=\"sans-serif\" font-size=\"12\" lengthAdjust=\"spacingAndGlyphs\" textLength=\"22\" x=\"131\" y=\"101.6387\">x: A</text></a></g><g id=\"E1.E13\"><a href=\"psysml:20c5387a-1627-4e14-8312-6f39b31ab3f7\" target=\"_top\" title=\"psysml:20c5387a-1627-4e14-8312-6f39b31ab3f7\" xlink:actuate=\"onRequest\" xlink:href=\"psysml:20c5387a-1627-4e14-8312-6f39b31ab3f7\" xlink:show=\"new\" xlink:title=\"psysml:20c5387a-1627-4e14-8312-6f39b31ab3f7\" xlink:type=\"simple\"><rect fill=\"#FEFECE\" filter=\"url(#fpud6vipg0076)\" height=\"40\" id=\"E13\" rx=\"10\" ry=\"10\" style=\"stroke: #A80036; stroke-width: 1.5;\" width=\"50\" x=\"32\" y=\"85.5\"/><text fill=\"#000000\" font-family=\"sans-serif\" font-size=\"12\" lengthAdjust=\"spacingAndGlyphs\" textLength=\"22\" x=\"46\" y=\"101.6387\">y: B</text></a></g><!--MD5=[8a8c099b32ad9d0b21553e4f6ea25ef2]\n",
       "@startuml\r\n",
       "skinparam ranksep 10\r\n",
       "skinparam rectangle {\r\n",
       " backgroundColor<<block>> LightGreen\r\n",
       "}\r\n",
       "skinparam wrapWidth 300\r\n",
       "hide circle\r\n",
       "\r\n",
       "package \"CircularImport\" as E1  [[psysml:690cd2ec-4fe7-4d94-89bf-c3d63ed60cd3 ]]  {\r\n",
       "package \"P1\" as E2  [[psysml:54e3154d-4fa4-4c14-a367-edca149a76a1 ]]  {\r\n",
       "rec def \"A\" as E3  <<(T,blue)part def>> [[psysml:281245e6-0723-4878-ac57-c406fd778909 ]] {\r\n",
       "}\r\n",
       "}\r\n",
       "package \"P2\" as E4  [[psysml:581c4a9e-fb07-4d80-ac64-c8c7b70027d2 ]]  {\r\n",
       "rec def \"B\" as E5  <<(T,blue)part def>> [[psysml:57665928-471f-4095-91e2-d839a960cf78 ]] {\r\n",
       "}\r\n",
       "}\r\n",
       "package \"Test1\" as E6  [[psysml:6bb49afc-ac2c-47b7-b48e-5bd0a62b326b ]]  {\r\n",
       "rec usage \"x: A\" as E7  [[psysml:d6e39b1a-8a39-4c69-85ab-aa8551443e08 ]] {\r\n",
       "}\r\n",
       "rec usage \"y: B\" as E8  [[psysml:ead6e64d-b294-4a2d-a1d8-90d3751f1490 ]] {\r\n",
       "}\r\n",
       "}\r\n",
       "package \"Test2\" as E9  [[psysml:051bf7cb-81b8-4c37-8865-8bb7ea974985 ]]  {\r\n",
       "rec usage \"x: A\" as E10  [[psysml:f3cb1211-10b9-411e-bf19-d5722693e1fe ]] {\r\n",
       "}\r\n",
       "rec usage \"y: B\" as E11  [[psysml:9cdccab4-e502-4fbe-97eb-9b231d825ffa ]] {\r\n",
       "}\r\n",
       "}\r\n",
       "rec usage \"x: A\" as E12  [[psysml:87edab01-bf58-4e9e-abd1-c8b0194f7dca ]] {\r\n",
       "}\r\n",
       "rec usage \"y: B\" as E13  [[psysml:20c5387a-1627-4e14-8312-6f39b31ab3f7 ]] {\r\n",
       "}\r\n",
       "}\r\n",
       "@enduml\r\n",
       "\n",
       "PlantUML version 1.2020.13(Sat Jun 13 12:26:38 UTC 2020)\n",
       "(EPL source distribution)\n",
       "Java Runtime: OpenJDK Runtime Environment\n",
       "JVM: OpenJDK 64-Bit Server VM\n",
       "Default Encoding: UTF-8\n",
       "Language: en\n",
       "Country: null\n",
       "--></g></svg>"
      ]
     },
     "execution_count": 26,
     "metadata": {},
     "output_type": "execute_result"
    }
   ],
   "source": [
    "%viz --style=\"STDCOLOR\" --view=\"Interconnection\" \"CircularImport\""
   ]
  },
  {
   "cell_type": "code",
   "execution_count": 27,
   "id": "18543603",
   "metadata": {
    "execution": {
     "iopub.execute_input": "2021-04-20T06:57:53.654848Z",
     "iopub.status.busy": "2021-04-20T06:57:53.653922Z",
     "iopub.status.idle": "2021-04-20T06:57:53.658691Z",
     "shell.execute_reply": "2021-04-20T06:57:53.658380Z"
    }
   },
   "outputs": [
    {
     "data": {
      "image/svg+xml": [
       "<?xml version=\"1.0\" encoding=\"UTF-8\" standalone=\"no\"?><svg xmlns=\"http://www.w3.org/2000/svg\" xmlns:xlink=\"http://www.w3.org/1999/xlink\" contentScriptType=\"application/ecmascript\" contentStyleType=\"text/css\" height=\"12px\" preserveAspectRatio=\"none\" style=\"width:12px;height:12px;\" version=\"1.1\" viewBox=\"0 0 12 12\" width=\"12px\" zoomAndPan=\"magnify\"><defs/><g><!--MD5=[9863325348a96a77dacc89509d8ee65e]\n",
       "@startuml\r\n",
       "skinparam ranksep 8\r\n",
       "skinparam wrapWidth 300\r\n",
       "hide circle\r\n",
       "\r\n",
       "@enduml\r\n",
       "\n",
       "PlantUML version 1.2020.13(Sat Jun 13 12:26:38 UTC 2020)\n",
       "(EPL source distribution)\n",
       "Java Runtime: OpenJDK Runtime Environment\n",
       "JVM: OpenJDK 64-Bit Server VM\n",
       "Default Encoding: UTF-8\n",
       "Language: en\n",
       "Country: null\n",
       "--></g></svg>"
      ]
     },
     "execution_count": 27,
     "metadata": {},
     "output_type": "execute_result"
    }
   ],
   "source": [
    "%viz --style=\"STDCOLOR\" --view=\"Action\" \"CircularImport\""
   ]
  },
  {
   "cell_type": "code",
   "execution_count": 28,
   "id": "7b57927c",
   "metadata": {
    "execution": {
     "iopub.execute_input": "2021-04-20T06:57:53.710093Z",
     "iopub.status.busy": "2021-04-20T06:57:53.709630Z",
     "iopub.status.idle": "2021-04-20T06:57:53.753030Z",
     "shell.execute_reply": "2021-04-20T06:57:53.752641Z"
    }
   },
   "outputs": [
    {
     "data": {
      "image/svg+xml": [
       "<?xml version=\"1.0\" encoding=\"UTF-8\" standalone=\"no\"?><svg xmlns=\"http://www.w3.org/2000/svg\" xmlns:xlink=\"http://www.w3.org/1999/xlink\" contentScriptType=\"application/ecmascript\" contentStyleType=\"text/css\" height=\"303px\" preserveAspectRatio=\"none\" style=\"width:518px;height:303px;\" version=\"1.1\" viewBox=\"0 0 518 303\" width=\"518px\" zoomAndPan=\"magnify\"><defs><filter height=\"300%\" id=\"f5ol6gjczmbiw\" width=\"300%\" x=\"-1\" y=\"-1\"><feGaussianBlur result=\"blurOut\" stdDeviation=\"2.0\"/><feColorMatrix in=\"blurOut\" result=\"blurOut2\" type=\"matrix\" values=\"0 0 0 0 0 0 0 0 0 0 0 0 0 0 0 0 0 0 .4 0\"/><feOffset dx=\"4.0\" dy=\"4.0\" in=\"blurOut2\" result=\"blurOut3\"/><feBlend in=\"SourceGraphic\" in2=\"blurOut3\" mode=\"normal\"/></filter></defs><g><!--MD5=[fbc87193dbaf4d95561dea2c320d4a47]\n",
       "cluster E1--><a href=\"psysml:690cd2ec-4fe7-4d94-89bf-c3d63ed60cd3\" target=\"_top\" title=\"psysml:690cd2ec-4fe7-4d94-89bf-c3d63ed60cd3\" xlink:actuate=\"onRequest\" xlink:href=\"psysml:690cd2ec-4fe7-4d94-89bf-c3d63ed60cd3\" xlink:show=\"new\" xlink:title=\"psysml:690cd2ec-4fe7-4d94-89bf-c3d63ed60cd3\" xlink:type=\"simple\"><polygon fill=\"#FFFFFF\" filter=\"url(#f5ol6gjczmbiw)\" points=\"16,6,134,6,141,28.2969,496,28.2969,496,291,16,291,16,6\" style=\"stroke: #000000; stroke-width: 1.5;\"/><line style=\"stroke: #000000; stroke-width: 1.5;\" x1=\"16\" x2=\"141\" y1=\"28.2969\" y2=\"28.2969\"/><text fill=\"#000000\" font-family=\"sans-serif\" font-size=\"14\" font-weight=\"bold\" lengthAdjust=\"spacingAndGlyphs\" textLength=\"112\" x=\"20\" y=\"20.9951\">CircularImport</text></a><!--MD5=[e4f7fae6ed58524ba242bb0b0d3be6b7]\n",
       "cluster E2--><a href=\"psysml:54e3154d-4fa4-4c14-a367-edca149a76a1\" target=\"_top\" title=\"psysml:54e3154d-4fa4-4c14-a367-edca149a76a1\" xlink:actuate=\"onRequest\" xlink:href=\"psysml:54e3154d-4fa4-4c14-a367-edca149a76a1\" xlink:show=\"new\" xlink:title=\"psysml:54e3154d-4fa4-4c14-a367-edca149a76a1\" xlink:type=\"simple\"><polygon fill=\"#FFFFFF\" filter=\"url(#f5ol6gjczmbiw)\" points=\"333,170,359,170,366,192.2969,431,192.2969,431,267,333,267,333,170\" style=\"stroke: #000000; stroke-width: 1.5;\"/><line style=\"stroke: #000000; stroke-width: 1.5;\" x1=\"333\" x2=\"366\" y1=\"192.2969\" y2=\"192.2969\"/><text fill=\"#000000\" font-family=\"sans-serif\" font-size=\"14\" font-weight=\"bold\" lengthAdjust=\"spacingAndGlyphs\" textLength=\"20\" x=\"337\" y=\"184.9951\">P1</text></a><!--MD5=[f6df4d0ebaf0b5dfb2ced0ae5af7c670]\n",
       "cluster E4--><a href=\"psysml:581c4a9e-fb07-4d80-ac64-c8c7b70027d2\" target=\"_top\" title=\"psysml:581c4a9e-fb07-4d80-ac64-c8c7b70027d2\" xlink:actuate=\"onRequest\" xlink:href=\"psysml:581c4a9e-fb07-4d80-ac64-c8c7b70027d2\" xlink:show=\"new\" xlink:title=\"psysml:581c4a9e-fb07-4d80-ac64-c8c7b70027d2\" xlink:type=\"simple\"><polygon fill=\"#FFFFFF\" filter=\"url(#f5ol6gjczmbiw)\" points=\"81,170,107,170,114,192.2969,179,192.2969,179,267,81,267,81,170\" style=\"stroke: #000000; stroke-width: 1.5;\"/><line style=\"stroke: #000000; stroke-width: 1.5;\" x1=\"81\" x2=\"114\" y1=\"192.2969\" y2=\"192.2969\"/><text fill=\"#000000\" font-family=\"sans-serif\" font-size=\"14\" font-weight=\"bold\" lengthAdjust=\"spacingAndGlyphs\" textLength=\"20\" x=\"85\" y=\"184.9951\">P2</text></a><!--MD5=[14e3b0961a2654348d326746436168a1]\n",
       "cluster E6--><a href=\"psysml:6bb49afc-ac2c-47b7-b48e-5bd0a62b326b\" target=\"_top\" title=\"psysml:6bb49afc-ac2c-47b7-b48e-5bd0a62b326b\" xlink:actuate=\"onRequest\" xlink:href=\"psysml:6bb49afc-ac2c-47b7-b48e-5bd0a62b326b\" xlink:show=\"new\" xlink:title=\"psysml:6bb49afc-ac2c-47b7-b48e-5bd0a62b326b\" xlink:type=\"simple\"><polygon fill=\"#FFFFFF\" filter=\"url(#f5ol6gjczmbiw)\" points=\"268,49,319,49,326,71.2969,419,71.2969,419,146,268,146,268,49\" style=\"stroke: #000000; stroke-width: 1.5;\"/><line style=\"stroke: #000000; stroke-width: 1.5;\" x1=\"268\" x2=\"326\" y1=\"71.2969\" y2=\"71.2969\"/><text fill=\"#000000\" font-family=\"sans-serif\" font-size=\"14\" font-weight=\"bold\" lengthAdjust=\"spacingAndGlyphs\" textLength=\"45\" x=\"272\" y=\"63.9951\">Test1</text></a><!--MD5=[7f149f147074ac12df2cb0a7728a5fb0]\n",
       "cluster E9--><a href=\"psysml:051bf7cb-81b8-4c37-8865-8bb7ea974985\" target=\"_top\" title=\"psysml:051bf7cb-81b8-4c37-8865-8bb7ea974985\" xlink:actuate=\"onRequest\" xlink:href=\"psysml:051bf7cb-81b8-4c37-8865-8bb7ea974985\" xlink:show=\"new\" xlink:title=\"psysml:051bf7cb-81b8-4c37-8865-8bb7ea974985\" xlink:type=\"simple\"><polygon fill=\"#FFFFFF\" filter=\"url(#f5ol6gjczmbiw)\" points=\"93,49,144,49,151,71.2969,244,71.2969,244,146,93,146,93,49\" style=\"stroke: #000000; stroke-width: 1.5;\"/><line style=\"stroke: #000000; stroke-width: 1.5;\" x1=\"93\" x2=\"151\" y1=\"71.2969\" y2=\"71.2969\"/><text fill=\"#000000\" font-family=\"sans-serif\" font-size=\"14\" font-weight=\"bold\" lengthAdjust=\"spacingAndGlyphs\" textLength=\"45\" x=\"97\" y=\"63.9951\">Test2</text></a><!--MD5=[49a0ec8f00dab7302a31f22d0f0fe584]\n",
       "class E12--><a href=\"psysml:87edab01-bf58-4e9e-abd1-c8b0194f7dca\" target=\"_top\" title=\"psysml:87edab01-bf58-4e9e-abd1-c8b0194f7dca\" xlink:actuate=\"onRequest\" xlink:href=\"psysml:87edab01-bf58-4e9e-abd1-c8b0194f7dca\" xlink:show=\"new\" xlink:title=\"psysml:87edab01-bf58-4e9e-abd1-c8b0194f7dca\" xlink:type=\"simple\"><rect fill=\"#FEFECE\" filter=\"url(#f5ol6gjczmbiw)\" height=\"45.9375\" id=\"E12\" rx=\"10\" ry=\"10\" style=\"stroke: #A80036; stroke-width: 1.5;\" width=\"42\" x=\"438\" y=\"84\"/><text fill=\"#000000\" font-family=\"sans-serif\" font-size=\"12\" font-style=\"italic\" lengthAdjust=\"spacingAndGlyphs\" textLength=\"40\" x=\"439\" y=\"100.1387\">«part»</text><text fill=\"#000000\" font-family=\"sans-serif\" font-size=\"12\" lengthAdjust=\"spacingAndGlyphs\" textLength=\"22\" x=\"448\" y=\"114.1074\">x: A</text><line style=\"stroke: #A80036; stroke-width: 1.5;\" x1=\"439\" x2=\"479\" y1=\"121.9375\" y2=\"121.9375\"/></a><!--MD5=[ee3c913d1a06f366521f9ef512b67efe]\n",
       "class E13--><a href=\"psysml:20c5387a-1627-4e14-8312-6f39b31ab3f7\" target=\"_top\" title=\"psysml:20c5387a-1627-4e14-8312-6f39b31ab3f7\" xlink:actuate=\"onRequest\" xlink:href=\"psysml:20c5387a-1627-4e14-8312-6f39b31ab3f7\" xlink:show=\"new\" xlink:title=\"psysml:20c5387a-1627-4e14-8312-6f39b31ab3f7\" xlink:type=\"simple\"><rect fill=\"#FEFECE\" filter=\"url(#f5ol6gjczmbiw)\" height=\"45.9375\" id=\"E13\" rx=\"10\" ry=\"10\" style=\"stroke: #A80036; stroke-width: 1.5;\" width=\"42\" x=\"32\" y=\"84\"/><text fill=\"#000000\" font-family=\"sans-serif\" font-size=\"12\" font-style=\"italic\" lengthAdjust=\"spacingAndGlyphs\" textLength=\"40\" x=\"33\" y=\"100.1387\">«part»</text><text fill=\"#000000\" font-family=\"sans-serif\" font-size=\"12\" lengthAdjust=\"spacingAndGlyphs\" textLength=\"22\" x=\"42\" y=\"114.1074\">y: B</text><line style=\"stroke: #A80036; stroke-width: 1.5;\" x1=\"33\" x2=\"73\" y1=\"121.9375\" y2=\"121.9375\"/></a><!--MD5=[09b614a08d8cba4a07c9adeb5e0fee81]\n",
       "class E3--><a href=\"psysml:281245e6-0723-4878-ac57-c406fd778909\" target=\"_top\" title=\"psysml:281245e6-0723-4878-ac57-c406fd778909\" xlink:actuate=\"onRequest\" xlink:href=\"psysml:281245e6-0723-4878-ac57-c406fd778909\" xlink:show=\"new\" xlink:title=\"psysml:281245e6-0723-4878-ac57-c406fd778909\" xlink:type=\"simple\"><rect fill=\"#FEFECE\" filter=\"url(#f5ol6gjczmbiw)\" height=\"45.9375\" id=\"E3\" style=\"stroke: #A80036; stroke-width: 1.5;\" width=\"66\" x=\"349\" y=\"205\"/><text fill=\"#000000\" font-family=\"sans-serif\" font-size=\"12\" font-style=\"italic\" lengthAdjust=\"spacingAndGlyphs\" textLength=\"64\" x=\"350\" y=\"221.1387\">«part def»</text><text fill=\"#000000\" font-family=\"sans-serif\" font-size=\"12\" lengthAdjust=\"spacingAndGlyphs\" textLength=\"8\" x=\"378\" y=\"235.1074\">A</text><line style=\"stroke: #A80036; stroke-width: 1.5;\" x1=\"350\" x2=\"414\" y1=\"242.9375\" y2=\"242.9375\"/></a><!--MD5=[270fce915f116d4de14055a7c1d9a0f3]\n",
       "class E5--><a href=\"psysml:57665928-471f-4095-91e2-d839a960cf78\" target=\"_top\" title=\"psysml:57665928-471f-4095-91e2-d839a960cf78\" xlink:actuate=\"onRequest\" xlink:href=\"psysml:57665928-471f-4095-91e2-d839a960cf78\" xlink:show=\"new\" xlink:title=\"psysml:57665928-471f-4095-91e2-d839a960cf78\" xlink:type=\"simple\"><rect fill=\"#FEFECE\" filter=\"url(#f5ol6gjczmbiw)\" height=\"45.9375\" id=\"E5\" style=\"stroke: #A80036; stroke-width: 1.5;\" width=\"66\" x=\"97\" y=\"205\"/><text fill=\"#000000\" font-family=\"sans-serif\" font-size=\"12\" font-style=\"italic\" lengthAdjust=\"spacingAndGlyphs\" textLength=\"64\" x=\"98\" y=\"221.1387\">«part def»</text><text fill=\"#000000\" font-family=\"sans-serif\" font-size=\"12\" lengthAdjust=\"spacingAndGlyphs\" textLength=\"8\" x=\"126\" y=\"235.1074\">B</text><line style=\"stroke: #A80036; stroke-width: 1.5;\" x1=\"98\" x2=\"162\" y1=\"242.9375\" y2=\"242.9375\"/></a><!--MD5=[2156ba9850f5573cc1fc38a6a4b2f02b]\n",
       "class E7--><a href=\"psysml:d6e39b1a-8a39-4c69-85ab-aa8551443e08\" target=\"_top\" title=\"psysml:d6e39b1a-8a39-4c69-85ab-aa8551443e08\" xlink:actuate=\"onRequest\" xlink:href=\"psysml:d6e39b1a-8a39-4c69-85ab-aa8551443e08\" xlink:show=\"new\" xlink:title=\"psysml:d6e39b1a-8a39-4c69-85ab-aa8551443e08\" xlink:type=\"simple\"><rect fill=\"#FEFECE\" filter=\"url(#f5ol6gjczmbiw)\" height=\"45.9375\" id=\"E7\" rx=\"10\" ry=\"10\" style=\"stroke: #A80036; stroke-width: 1.5;\" width=\"42\" x=\"361\" y=\"84\"/><text fill=\"#000000\" font-family=\"sans-serif\" font-size=\"12\" font-style=\"italic\" lengthAdjust=\"spacingAndGlyphs\" textLength=\"40\" x=\"362\" y=\"100.1387\">«part»</text><text fill=\"#000000\" font-family=\"sans-serif\" font-size=\"12\" lengthAdjust=\"spacingAndGlyphs\" textLength=\"22\" x=\"371\" y=\"114.1074\">x: A</text><line style=\"stroke: #A80036; stroke-width: 1.5;\" x1=\"362\" x2=\"402\" y1=\"121.9375\" y2=\"121.9375\"/></a><!--MD5=[b9389687b975829384b498ac4b7476b2]\n",
       "class E8--><a href=\"psysml:ead6e64d-b294-4a2d-a1d8-90d3751f1490\" target=\"_top\" title=\"psysml:ead6e64d-b294-4a2d-a1d8-90d3751f1490\" xlink:actuate=\"onRequest\" xlink:href=\"psysml:ead6e64d-b294-4a2d-a1d8-90d3751f1490\" xlink:show=\"new\" xlink:title=\"psysml:ead6e64d-b294-4a2d-a1d8-90d3751f1490\" xlink:type=\"simple\"><rect fill=\"#FEFECE\" filter=\"url(#f5ol6gjczmbiw)\" height=\"45.9375\" id=\"E8\" rx=\"10\" ry=\"10\" style=\"stroke: #A80036; stroke-width: 1.5;\" width=\"42\" x=\"284\" y=\"84\"/><text fill=\"#000000\" font-family=\"sans-serif\" font-size=\"12\" font-style=\"italic\" lengthAdjust=\"spacingAndGlyphs\" textLength=\"40\" x=\"285\" y=\"100.1387\">«part»</text><text fill=\"#000000\" font-family=\"sans-serif\" font-size=\"12\" lengthAdjust=\"spacingAndGlyphs\" textLength=\"22\" x=\"294\" y=\"114.1074\">y: B</text><line style=\"stroke: #A80036; stroke-width: 1.5;\" x1=\"285\" x2=\"325\" y1=\"121.9375\" y2=\"121.9375\"/></a><!--MD5=[96f4274e9e20536e775497830990834d]\n",
       "class E10--><a href=\"psysml:f3cb1211-10b9-411e-bf19-d5722693e1fe\" target=\"_top\" title=\"psysml:f3cb1211-10b9-411e-bf19-d5722693e1fe\" xlink:actuate=\"onRequest\" xlink:href=\"psysml:f3cb1211-10b9-411e-bf19-d5722693e1fe\" xlink:show=\"new\" xlink:title=\"psysml:f3cb1211-10b9-411e-bf19-d5722693e1fe\" xlink:type=\"simple\"><rect fill=\"#FEFECE\" filter=\"url(#f5ol6gjczmbiw)\" height=\"45.9375\" id=\"E10\" rx=\"10\" ry=\"10\" style=\"stroke: #A80036; stroke-width: 1.5;\" width=\"42\" x=\"186\" y=\"84\"/><text fill=\"#000000\" font-family=\"sans-serif\" font-size=\"12\" font-style=\"italic\" lengthAdjust=\"spacingAndGlyphs\" textLength=\"40\" x=\"187\" y=\"100.1387\">«part»</text><text fill=\"#000000\" font-family=\"sans-serif\" font-size=\"12\" lengthAdjust=\"spacingAndGlyphs\" textLength=\"22\" x=\"196\" y=\"114.1074\">x: A</text><line style=\"stroke: #A80036; stroke-width: 1.5;\" x1=\"187\" x2=\"227\" y1=\"121.9375\" y2=\"121.9375\"/></a><!--MD5=[1dd1bfd58a279cf63c5f349dbc8fc6a1]\n",
       "class E11--><a href=\"psysml:9cdccab4-e502-4fbe-97eb-9b231d825ffa\" target=\"_top\" title=\"psysml:9cdccab4-e502-4fbe-97eb-9b231d825ffa\" xlink:actuate=\"onRequest\" xlink:href=\"psysml:9cdccab4-e502-4fbe-97eb-9b231d825ffa\" xlink:show=\"new\" xlink:title=\"psysml:9cdccab4-e502-4fbe-97eb-9b231d825ffa\" xlink:type=\"simple\"><rect fill=\"#FEFECE\" filter=\"url(#f5ol6gjczmbiw)\" height=\"45.9375\" id=\"E11\" rx=\"10\" ry=\"10\" style=\"stroke: #A80036; stroke-width: 1.5;\" width=\"42\" x=\"109\" y=\"84\"/><text fill=\"#000000\" font-family=\"sans-serif\" font-size=\"12\" font-style=\"italic\" lengthAdjust=\"spacingAndGlyphs\" textLength=\"40\" x=\"110\" y=\"100.1387\">«part»</text><text fill=\"#000000\" font-family=\"sans-serif\" font-size=\"12\" lengthAdjust=\"spacingAndGlyphs\" textLength=\"22\" x=\"119\" y=\"114.1074\">y: B</text><line style=\"stroke: #A80036; stroke-width: 1.5;\" x1=\"110\" x2=\"150\" y1=\"121.9375\" y2=\"121.9375\"/></a><!--MD5=[14ccda38c055a5c0da953d572bc50960]\n",
       "link E7 to E3--><a href=\"psysml:84278f38-d400-4655-8657-76a37dd9bb09\" target=\"_top\" title=\"psysml:84278f38-d400-4655-8657-76a37dd9bb09\" xlink:actuate=\"onRequest\" xlink:href=\"psysml:84278f38-d400-4655-8657-76a37dd9bb09\" xlink:show=\"new\" xlink:title=\"psysml:84278f38-d400-4655-8657-76a37dd9bb09\" xlink:type=\"simple\"><path d=\"M382,130.1 C382,145.37 382,166.16 382,184.57 \" fill=\"none\" id=\"E7-&gt;E3\" style=\"stroke: #A80036; stroke-width: 1.0;\"/><polygon fill=\"#FFFFFF\" points=\"382,204.61,375,185.61,389,185.61,382,204.61\" style=\"stroke: #A80036; stroke-width: 1.0;\"/><ellipse cx=\"377\" cy=\"179.91\" fill=\"#A80036\" rx=\"2\" ry=\"2\" style=\"stroke: #A80036; stroke-width: 1.0;\"/><ellipse cx=\"387\" cy=\"179.91\" fill=\"#A80036\" rx=\"2\" ry=\"2\" style=\"stroke: #A80036; stroke-width: 1.0;\"/></a><!--MD5=[1ccb2481ffa92f8d51a74ee30c51832a]\n",
       "link E8 to E5--><a href=\"psysml:9a62fcce-aa5a-49d2-8cac-0b2f538e5bd0\" target=\"_top\" title=\"psysml:9a62fcce-aa5a-49d2-8cac-0b2f538e5bd0\" xlink:actuate=\"onRequest\" xlink:href=\"psysml:9a62fcce-aa5a-49d2-8cac-0b2f538e5bd0\" xlink:show=\"new\" xlink:title=\"psysml:9a62fcce-aa5a-49d2-8cac-0b2f538e5bd0\" xlink:type=\"simple\"><path d=\"M283.84,124.59 C272.23,133.52 257.5,144.61 244,154 C223.51,168.25 200.41,183.24 180.38,195.91 \" fill=\"none\" id=\"E8-&gt;E5\" style=\"stroke: #A80036; stroke-width: 1.0;\"/><polygon fill=\"#FFFFFF\" points=\"163.36,206.57,175.7353,190.5434,183.175,202.403,163.36,206.57\" style=\"stroke: #A80036; stroke-width: 1.0;\"/><ellipse cx=\"181.6267\" cy=\"189.2086\" fill=\"#A80036\" rx=\"2\" ry=\"2\" style=\"stroke: #A80036; stroke-width: 1.0;\"/><ellipse cx=\"186.9408\" cy=\"197.6797\" fill=\"#A80036\" rx=\"2\" ry=\"2\" style=\"stroke: #A80036; stroke-width: 1.0;\"/></a><!--MD5=[feeac5eb423634930294aa81f2d25a4c]\n",
       "link E10 to E3--><a href=\"psysml:bd7260c7-b55a-4391-86f8-9493bae3bcdc\" target=\"_top\" title=\"psysml:bd7260c7-b55a-4391-86f8-9493bae3bcdc\" xlink:actuate=\"onRequest\" xlink:href=\"psysml:bd7260c7-b55a-4391-86f8-9493bae3bcdc\" xlink:show=\"new\" xlink:title=\"psysml:bd7260c7-b55a-4391-86f8-9493bae3bcdc\" xlink:type=\"simple\"><path d=\"M228.16,124.59 C239.77,133.52 254.5,144.61 268,154 C288.49,168.25 311.59,183.24 331.62,195.91 \" fill=\"none\" id=\"E10-&gt;E3\" style=\"stroke: #A80036; stroke-width: 1.0;\"/><polygon fill=\"#FFFFFF\" points=\"348.64,206.57,328.825,202.403,336.2647,190.5434,348.64,206.57\" style=\"stroke: #A80036; stroke-width: 1.0;\"/><ellipse cx=\"325.0592\" cy=\"197.6797\" fill=\"#A80036\" rx=\"2\" ry=\"2\" style=\"stroke: #A80036; stroke-width: 1.0;\"/><ellipse cx=\"330.3733\" cy=\"189.2086\" fill=\"#A80036\" rx=\"2\" ry=\"2\" style=\"stroke: #A80036; stroke-width: 1.0;\"/></a><!--MD5=[07b77f6f309248d16187045709d1c26e]\n",
       "link E11 to E5--><a href=\"psysml:099d00ce-a154-42ce-865e-6b31b35a0829\" target=\"_top\" title=\"psysml:099d00ce-a154-42ce-865e-6b31b35a0829\" xlink:actuate=\"onRequest\" xlink:href=\"psysml:099d00ce-a154-42ce-865e-6b31b35a0829\" xlink:show=\"new\" xlink:title=\"psysml:099d00ce-a154-42ce-865e-6b31b35a0829\" xlink:type=\"simple\"><path d=\"M130,130.1 C130,145.37 130,166.16 130,184.57 \" fill=\"none\" id=\"E11-&gt;E5\" style=\"stroke: #A80036; stroke-width: 1.0;\"/><polygon fill=\"#FFFFFF\" points=\"130,204.61,123,185.61,137,185.61,130,204.61\" style=\"stroke: #A80036; stroke-width: 1.0;\"/><ellipse cx=\"125\" cy=\"179.91\" fill=\"#A80036\" rx=\"2\" ry=\"2\" style=\"stroke: #A80036; stroke-width: 1.0;\"/><ellipse cx=\"135\" cy=\"179.91\" fill=\"#A80036\" rx=\"2\" ry=\"2\" style=\"stroke: #A80036; stroke-width: 1.0;\"/></a><!--MD5=[39f41a0e550fb3d73b4d8135617e30a2]\n",
       "link E12 to E3--><a href=\"psysml:2e0d72ae-9b36-4ac2-af7e-1d21d87eecf3\" target=\"_top\" title=\"psysml:2e0d72ae-9b36-4ac2-af7e-1d21d87eecf3\" xlink:actuate=\"onRequest\" xlink:href=\"psysml:2e0d72ae-9b36-4ac2-af7e-1d21d87eecf3\" xlink:show=\"new\" xlink:title=\"psysml:2e0d72ae-9b36-4ac2-af7e-1d21d87eecf3\" xlink:type=\"simple\"><path d=\"M444.7,130.1 C434.28,146.2 419.89,168.44 407.53,187.55 \" fill=\"none\" id=\"E12-&gt;E3\" style=\"stroke: #A80036; stroke-width: 1.0;\"/><polygon fill=\"#FFFFFF\" points=\"396.49,204.61,400.9313,184.8546,412.6866,192.4581,396.49,204.61\" style=\"stroke: #A80036; stroke-width: 1.0;\"/><ellipse cx=\"405.7063\" cy=\"181.1547\" fill=\"#A80036\" rx=\"2\" ry=\"2\" style=\"stroke: #A80036; stroke-width: 1.0;\"/><ellipse cx=\"414.103\" cy=\"186.5858\" fill=\"#A80036\" rx=\"2\" ry=\"2\" style=\"stroke: #A80036; stroke-width: 1.0;\"/></a><!--MD5=[066b2d8af59fea80ccdb3d54ad5c1091]\n",
       "link E13 to E5--><a href=\"psysml:28c76814-e954-4c97-b716-40e2f6813c6b\" target=\"_top\" title=\"psysml:28c76814-e954-4c97-b716-40e2f6813c6b\" xlink:actuate=\"onRequest\" xlink:href=\"psysml:28c76814-e954-4c97-b716-40e2f6813c6b\" xlink:show=\"new\" xlink:title=\"psysml:28c76814-e954-4c97-b716-40e2f6813c6b\" xlink:type=\"simple\"><path d=\"M67.3,130.1 C77.72,146.2 92.11,168.44 104.47,187.55 \" fill=\"none\" id=\"E13-&gt;E5\" style=\"stroke: #A80036; stroke-width: 1.0;\"/><polygon fill=\"#FFFFFF\" points=\"115.51,204.61,99.3134,192.4581,111.0687,184.8546,115.51,204.61\" style=\"stroke: #A80036; stroke-width: 1.0;\"/><ellipse cx=\"97.897\" cy=\"186.5858\" fill=\"#A80036\" rx=\"2\" ry=\"2\" style=\"stroke: #A80036; stroke-width: 1.0;\"/><ellipse cx=\"106.2937\" cy=\"181.1547\" fill=\"#A80036\" rx=\"2\" ry=\"2\" style=\"stroke: #A80036; stroke-width: 1.0;\"/></a><!--MD5=[76497618adfa7bef0cccc02636d9a040]\n",
       "@startuml\r\n",
       "skinparam wrapWidth 300\r\n",
       "hide circle\r\n",
       "\r\n",
       "package \"CircularImport\" as E1  [[psysml:690cd2ec-4fe7-4d94-89bf-c3d63ed60cd3 ]]  {\r\n",
       "package \"P1\" as E2  [[psysml:54e3154d-4fa4-4c14-a367-edca149a76a1 ]]  {\r\n",
       "comp def \"A\" as E3  <<(T,blue)part def>> [[psysml:281245e6-0723-4878-ac57-c406fd778909 ]] {\r\n",
       "}\r\n",
       "}\r\n",
       "package \"P2\" as E4  [[psysml:581c4a9e-fb07-4d80-ac64-c8c7b70027d2 ]]  {\r\n",
       "comp def \"B\" as E5  <<(T,blue)part def>> [[psysml:57665928-471f-4095-91e2-d839a960cf78 ]] {\r\n",
       "}\r\n",
       "}\r\n",
       "package \"Test1\" as E6  [[psysml:6bb49afc-ac2c-47b7-b48e-5bd0a62b326b ]]  {\r\n",
       "comp usage \"x: A\" as E7  <<(T,blue)part>> [[psysml:d6e39b1a-8a39-4c69-85ab-aa8551443e08 ]] {\r\n",
       "}\r\n",
       "comp usage \"y: B\" as E8  <<(T,blue)part>> [[psysml:ead6e64d-b294-4a2d-a1d8-90d3751f1490 ]] {\r\n",
       "}\r\n",
       "E7 - -:|> E3 [[psysml:84278f38-d400-4655-8657-76a37dd9bb09 ]] \r\n",
       "E8 - -:|> E5 [[psysml:9a62fcce-aa5a-49d2-8cac-0b2f538e5bd0 ]] \r\n",
       "}\r\n",
       "package \"Test2\" as E9  [[psysml:051bf7cb-81b8-4c37-8865-8bb7ea974985 ]]  {\r\n",
       "comp usage \"x: A\" as E10  <<(T,blue)part>> [[psysml:f3cb1211-10b9-411e-bf19-d5722693e1fe ]] {\r\n",
       "}\r\n",
       "comp usage \"y: B\" as E11  <<(T,blue)part>> [[psysml:9cdccab4-e502-4fbe-97eb-9b231d825ffa ]] {\r\n",
       "}\r\n",
       "E10 - -:|> E3 [[psysml:bd7260c7-b55a-4391-86f8-9493bae3bcdc ]] \r\n",
       "E11 - -:|> E5 [[psysml:099d00ce-a154-42ce-865e-6b31b35a0829 ]] \r\n",
       "}\r\n",
       "comp usage \"x: A\" as E12  <<(T,blue)part>> [[psysml:87edab01-bf58-4e9e-abd1-c8b0194f7dca ]] {\r\n",
       "}\r\n",
       "comp usage \"y: B\" as E13  <<(T,blue)part>> [[psysml:20c5387a-1627-4e14-8312-6f39b31ab3f7 ]] {\r\n",
       "}\r\n",
       "E12 - -:|> E3 [[psysml:2e0d72ae-9b36-4ac2-af7e-1d21d87eecf3 ]] \r\n",
       "E13 - -:|> E5 [[psysml:28c76814-e954-4c97-b716-40e2f6813c6b ]] \r\n",
       "}\r\n",
       "@enduml\r\n",
       "\n",
       "PlantUML version 1.2020.13(Sat Jun 13 12:26:38 UTC 2020)\n",
       "(EPL source distribution)\n",
       "Java Runtime: OpenJDK Runtime Environment\n",
       "JVM: OpenJDK 64-Bit Server VM\n",
       "Default Encoding: UTF-8\n",
       "Language: en\n",
       "Country: null\n",
       "--></g></svg>"
      ]
     },
     "execution_count": 28,
     "metadata": {},
     "output_type": "execute_result"
    }
   ],
   "source": [
    "%viz --style=\"STDCOLOR\" --view=\"Sequence\" \"CircularImport\""
   ]
  },
  {
   "cell_type": "code",
   "execution_count": 29,
   "id": "2caff792",
   "metadata": {
    "execution": {
     "iopub.execute_input": "2021-04-20T06:57:53.803890Z",
     "iopub.status.busy": "2021-04-20T06:57:53.803332Z",
     "iopub.status.idle": "2021-04-20T06:57:53.842329Z",
     "shell.execute_reply": "2021-04-20T06:57:53.842030Z"
    }
   },
   "outputs": [
    {
     "data": {
      "image/svg+xml": [
       "<?xml version=\"1.0\" encoding=\"UTF-8\" standalone=\"no\"?><svg xmlns=\"http://www.w3.org/2000/svg\" xmlns:xlink=\"http://www.w3.org/1999/xlink\" contentScriptType=\"application/ecmascript\" contentStyleType=\"text/css\" height=\"303px\" preserveAspectRatio=\"none\" style=\"width:518px;height:303px;\" version=\"1.1\" viewBox=\"0 0 518 303\" width=\"518px\" zoomAndPan=\"magnify\"><defs><filter height=\"300%\" id=\"f5ol6gjczmbiw\" width=\"300%\" x=\"-1\" y=\"-1\"><feGaussianBlur result=\"blurOut\" stdDeviation=\"2.0\"/><feColorMatrix in=\"blurOut\" result=\"blurOut2\" type=\"matrix\" values=\"0 0 0 0 0 0 0 0 0 0 0 0 0 0 0 0 0 0 .4 0\"/><feOffset dx=\"4.0\" dy=\"4.0\" in=\"blurOut2\" result=\"blurOut3\"/><feBlend in=\"SourceGraphic\" in2=\"blurOut3\" mode=\"normal\"/></filter></defs><g><!--MD5=[fbc87193dbaf4d95561dea2c320d4a47]\n",
       "cluster E1--><a href=\"psysml:690cd2ec-4fe7-4d94-89bf-c3d63ed60cd3\" target=\"_top\" title=\"psysml:690cd2ec-4fe7-4d94-89bf-c3d63ed60cd3\" xlink:actuate=\"onRequest\" xlink:href=\"psysml:690cd2ec-4fe7-4d94-89bf-c3d63ed60cd3\" xlink:show=\"new\" xlink:title=\"psysml:690cd2ec-4fe7-4d94-89bf-c3d63ed60cd3\" xlink:type=\"simple\"><polygon fill=\"#FFFFFF\" filter=\"url(#f5ol6gjczmbiw)\" points=\"16,6,134,6,141,28.2969,496,28.2969,496,291,16,291,16,6\" style=\"stroke: #000000; stroke-width: 1.5;\"/><line style=\"stroke: #000000; stroke-width: 1.5;\" x1=\"16\" x2=\"141\" y1=\"28.2969\" y2=\"28.2969\"/><text fill=\"#000000\" font-family=\"sans-serif\" font-size=\"14\" font-weight=\"bold\" lengthAdjust=\"spacingAndGlyphs\" textLength=\"112\" x=\"20\" y=\"20.9951\">CircularImport</text></a><!--MD5=[e4f7fae6ed58524ba242bb0b0d3be6b7]\n",
       "cluster E2--><a href=\"psysml:54e3154d-4fa4-4c14-a367-edca149a76a1\" target=\"_top\" title=\"psysml:54e3154d-4fa4-4c14-a367-edca149a76a1\" xlink:actuate=\"onRequest\" xlink:href=\"psysml:54e3154d-4fa4-4c14-a367-edca149a76a1\" xlink:show=\"new\" xlink:title=\"psysml:54e3154d-4fa4-4c14-a367-edca149a76a1\" xlink:type=\"simple\"><polygon fill=\"#FFFFFF\" filter=\"url(#f5ol6gjczmbiw)\" points=\"333,170,359,170,366,192.2969,431,192.2969,431,267,333,267,333,170\" style=\"stroke: #000000; stroke-width: 1.5;\"/><line style=\"stroke: #000000; stroke-width: 1.5;\" x1=\"333\" x2=\"366\" y1=\"192.2969\" y2=\"192.2969\"/><text fill=\"#000000\" font-family=\"sans-serif\" font-size=\"14\" font-weight=\"bold\" lengthAdjust=\"spacingAndGlyphs\" textLength=\"20\" x=\"337\" y=\"184.9951\">P1</text></a><!--MD5=[f6df4d0ebaf0b5dfb2ced0ae5af7c670]\n",
       "cluster E4--><a href=\"psysml:581c4a9e-fb07-4d80-ac64-c8c7b70027d2\" target=\"_top\" title=\"psysml:581c4a9e-fb07-4d80-ac64-c8c7b70027d2\" xlink:actuate=\"onRequest\" xlink:href=\"psysml:581c4a9e-fb07-4d80-ac64-c8c7b70027d2\" xlink:show=\"new\" xlink:title=\"psysml:581c4a9e-fb07-4d80-ac64-c8c7b70027d2\" xlink:type=\"simple\"><polygon fill=\"#FFFFFF\" filter=\"url(#f5ol6gjczmbiw)\" points=\"81,170,107,170,114,192.2969,179,192.2969,179,267,81,267,81,170\" style=\"stroke: #000000; stroke-width: 1.5;\"/><line style=\"stroke: #000000; stroke-width: 1.5;\" x1=\"81\" x2=\"114\" y1=\"192.2969\" y2=\"192.2969\"/><text fill=\"#000000\" font-family=\"sans-serif\" font-size=\"14\" font-weight=\"bold\" lengthAdjust=\"spacingAndGlyphs\" textLength=\"20\" x=\"85\" y=\"184.9951\">P2</text></a><!--MD5=[14e3b0961a2654348d326746436168a1]\n",
       "cluster E6--><a href=\"psysml:6bb49afc-ac2c-47b7-b48e-5bd0a62b326b\" target=\"_top\" title=\"psysml:6bb49afc-ac2c-47b7-b48e-5bd0a62b326b\" xlink:actuate=\"onRequest\" xlink:href=\"psysml:6bb49afc-ac2c-47b7-b48e-5bd0a62b326b\" xlink:show=\"new\" xlink:title=\"psysml:6bb49afc-ac2c-47b7-b48e-5bd0a62b326b\" xlink:type=\"simple\"><polygon fill=\"#FFFFFF\" filter=\"url(#f5ol6gjczmbiw)\" points=\"268,49,319,49,326,71.2969,419,71.2969,419,146,268,146,268,49\" style=\"stroke: #000000; stroke-width: 1.5;\"/><line style=\"stroke: #000000; stroke-width: 1.5;\" x1=\"268\" x2=\"326\" y1=\"71.2969\" y2=\"71.2969\"/><text fill=\"#000000\" font-family=\"sans-serif\" font-size=\"14\" font-weight=\"bold\" lengthAdjust=\"spacingAndGlyphs\" textLength=\"45\" x=\"272\" y=\"63.9951\">Test1</text></a><!--MD5=[7f149f147074ac12df2cb0a7728a5fb0]\n",
       "cluster E9--><a href=\"psysml:051bf7cb-81b8-4c37-8865-8bb7ea974985\" target=\"_top\" title=\"psysml:051bf7cb-81b8-4c37-8865-8bb7ea974985\" xlink:actuate=\"onRequest\" xlink:href=\"psysml:051bf7cb-81b8-4c37-8865-8bb7ea974985\" xlink:show=\"new\" xlink:title=\"psysml:051bf7cb-81b8-4c37-8865-8bb7ea974985\" xlink:type=\"simple\"><polygon fill=\"#FFFFFF\" filter=\"url(#f5ol6gjczmbiw)\" points=\"93,49,144,49,151,71.2969,244,71.2969,244,146,93,146,93,49\" style=\"stroke: #000000; stroke-width: 1.5;\"/><line style=\"stroke: #000000; stroke-width: 1.5;\" x1=\"93\" x2=\"151\" y1=\"71.2969\" y2=\"71.2969\"/><text fill=\"#000000\" font-family=\"sans-serif\" font-size=\"14\" font-weight=\"bold\" lengthAdjust=\"spacingAndGlyphs\" textLength=\"45\" x=\"97\" y=\"63.9951\">Test2</text></a><!--MD5=[49a0ec8f00dab7302a31f22d0f0fe584]\n",
       "class E12--><a href=\"psysml:87edab01-bf58-4e9e-abd1-c8b0194f7dca\" target=\"_top\" title=\"psysml:87edab01-bf58-4e9e-abd1-c8b0194f7dca\" xlink:actuate=\"onRequest\" xlink:href=\"psysml:87edab01-bf58-4e9e-abd1-c8b0194f7dca\" xlink:show=\"new\" xlink:title=\"psysml:87edab01-bf58-4e9e-abd1-c8b0194f7dca\" xlink:type=\"simple\"><rect fill=\"#FEFECE\" filter=\"url(#f5ol6gjczmbiw)\" height=\"45.9375\" id=\"E12\" rx=\"10\" ry=\"10\" style=\"stroke: #A80036; stroke-width: 1.5;\" width=\"42\" x=\"438\" y=\"84\"/><text fill=\"#000000\" font-family=\"sans-serif\" font-size=\"12\" font-style=\"italic\" lengthAdjust=\"spacingAndGlyphs\" textLength=\"40\" x=\"439\" y=\"100.1387\">«part»</text><text fill=\"#000000\" font-family=\"sans-serif\" font-size=\"12\" lengthAdjust=\"spacingAndGlyphs\" textLength=\"22\" x=\"448\" y=\"114.1074\">x: A</text><line style=\"stroke: #A80036; stroke-width: 1.5;\" x1=\"439\" x2=\"479\" y1=\"121.9375\" y2=\"121.9375\"/></a><!--MD5=[ee3c913d1a06f366521f9ef512b67efe]\n",
       "class E13--><a href=\"psysml:20c5387a-1627-4e14-8312-6f39b31ab3f7\" target=\"_top\" title=\"psysml:20c5387a-1627-4e14-8312-6f39b31ab3f7\" xlink:actuate=\"onRequest\" xlink:href=\"psysml:20c5387a-1627-4e14-8312-6f39b31ab3f7\" xlink:show=\"new\" xlink:title=\"psysml:20c5387a-1627-4e14-8312-6f39b31ab3f7\" xlink:type=\"simple\"><rect fill=\"#FEFECE\" filter=\"url(#f5ol6gjczmbiw)\" height=\"45.9375\" id=\"E13\" rx=\"10\" ry=\"10\" style=\"stroke: #A80036; stroke-width: 1.5;\" width=\"42\" x=\"32\" y=\"84\"/><text fill=\"#000000\" font-family=\"sans-serif\" font-size=\"12\" font-style=\"italic\" lengthAdjust=\"spacingAndGlyphs\" textLength=\"40\" x=\"33\" y=\"100.1387\">«part»</text><text fill=\"#000000\" font-family=\"sans-serif\" font-size=\"12\" lengthAdjust=\"spacingAndGlyphs\" textLength=\"22\" x=\"42\" y=\"114.1074\">y: B</text><line style=\"stroke: #A80036; stroke-width: 1.5;\" x1=\"33\" x2=\"73\" y1=\"121.9375\" y2=\"121.9375\"/></a><!--MD5=[09b614a08d8cba4a07c9adeb5e0fee81]\n",
       "class E3--><a href=\"psysml:281245e6-0723-4878-ac57-c406fd778909\" target=\"_top\" title=\"psysml:281245e6-0723-4878-ac57-c406fd778909\" xlink:actuate=\"onRequest\" xlink:href=\"psysml:281245e6-0723-4878-ac57-c406fd778909\" xlink:show=\"new\" xlink:title=\"psysml:281245e6-0723-4878-ac57-c406fd778909\" xlink:type=\"simple\"><rect fill=\"#FEFECE\" filter=\"url(#f5ol6gjczmbiw)\" height=\"45.9375\" id=\"E3\" style=\"stroke: #A80036; stroke-width: 1.5;\" width=\"66\" x=\"349\" y=\"205\"/><text fill=\"#000000\" font-family=\"sans-serif\" font-size=\"12\" font-style=\"italic\" lengthAdjust=\"spacingAndGlyphs\" textLength=\"64\" x=\"350\" y=\"221.1387\">«part def»</text><text fill=\"#000000\" font-family=\"sans-serif\" font-size=\"12\" lengthAdjust=\"spacingAndGlyphs\" textLength=\"8\" x=\"378\" y=\"235.1074\">A</text><line style=\"stroke: #A80036; stroke-width: 1.5;\" x1=\"350\" x2=\"414\" y1=\"242.9375\" y2=\"242.9375\"/></a><!--MD5=[270fce915f116d4de14055a7c1d9a0f3]\n",
       "class E5--><a href=\"psysml:57665928-471f-4095-91e2-d839a960cf78\" target=\"_top\" title=\"psysml:57665928-471f-4095-91e2-d839a960cf78\" xlink:actuate=\"onRequest\" xlink:href=\"psysml:57665928-471f-4095-91e2-d839a960cf78\" xlink:show=\"new\" xlink:title=\"psysml:57665928-471f-4095-91e2-d839a960cf78\" xlink:type=\"simple\"><rect fill=\"#FEFECE\" filter=\"url(#f5ol6gjczmbiw)\" height=\"45.9375\" id=\"E5\" style=\"stroke: #A80036; stroke-width: 1.5;\" width=\"66\" x=\"97\" y=\"205\"/><text fill=\"#000000\" font-family=\"sans-serif\" font-size=\"12\" font-style=\"italic\" lengthAdjust=\"spacingAndGlyphs\" textLength=\"64\" x=\"98\" y=\"221.1387\">«part def»</text><text fill=\"#000000\" font-family=\"sans-serif\" font-size=\"12\" lengthAdjust=\"spacingAndGlyphs\" textLength=\"8\" x=\"126\" y=\"235.1074\">B</text><line style=\"stroke: #A80036; stroke-width: 1.5;\" x1=\"98\" x2=\"162\" y1=\"242.9375\" y2=\"242.9375\"/></a><!--MD5=[2156ba9850f5573cc1fc38a6a4b2f02b]\n",
       "class E7--><a href=\"psysml:d6e39b1a-8a39-4c69-85ab-aa8551443e08\" target=\"_top\" title=\"psysml:d6e39b1a-8a39-4c69-85ab-aa8551443e08\" xlink:actuate=\"onRequest\" xlink:href=\"psysml:d6e39b1a-8a39-4c69-85ab-aa8551443e08\" xlink:show=\"new\" xlink:title=\"psysml:d6e39b1a-8a39-4c69-85ab-aa8551443e08\" xlink:type=\"simple\"><rect fill=\"#FEFECE\" filter=\"url(#f5ol6gjczmbiw)\" height=\"45.9375\" id=\"E7\" rx=\"10\" ry=\"10\" style=\"stroke: #A80036; stroke-width: 1.5;\" width=\"42\" x=\"361\" y=\"84\"/><text fill=\"#000000\" font-family=\"sans-serif\" font-size=\"12\" font-style=\"italic\" lengthAdjust=\"spacingAndGlyphs\" textLength=\"40\" x=\"362\" y=\"100.1387\">«part»</text><text fill=\"#000000\" font-family=\"sans-serif\" font-size=\"12\" lengthAdjust=\"spacingAndGlyphs\" textLength=\"22\" x=\"371\" y=\"114.1074\">x: A</text><line style=\"stroke: #A80036; stroke-width: 1.5;\" x1=\"362\" x2=\"402\" y1=\"121.9375\" y2=\"121.9375\"/></a><!--MD5=[b9389687b975829384b498ac4b7476b2]\n",
       "class E8--><a href=\"psysml:ead6e64d-b294-4a2d-a1d8-90d3751f1490\" target=\"_top\" title=\"psysml:ead6e64d-b294-4a2d-a1d8-90d3751f1490\" xlink:actuate=\"onRequest\" xlink:href=\"psysml:ead6e64d-b294-4a2d-a1d8-90d3751f1490\" xlink:show=\"new\" xlink:title=\"psysml:ead6e64d-b294-4a2d-a1d8-90d3751f1490\" xlink:type=\"simple\"><rect fill=\"#FEFECE\" filter=\"url(#f5ol6gjczmbiw)\" height=\"45.9375\" id=\"E8\" rx=\"10\" ry=\"10\" style=\"stroke: #A80036; stroke-width: 1.5;\" width=\"42\" x=\"284\" y=\"84\"/><text fill=\"#000000\" font-family=\"sans-serif\" font-size=\"12\" font-style=\"italic\" lengthAdjust=\"spacingAndGlyphs\" textLength=\"40\" x=\"285\" y=\"100.1387\">«part»</text><text fill=\"#000000\" font-family=\"sans-serif\" font-size=\"12\" lengthAdjust=\"spacingAndGlyphs\" textLength=\"22\" x=\"294\" y=\"114.1074\">y: B</text><line style=\"stroke: #A80036; stroke-width: 1.5;\" x1=\"285\" x2=\"325\" y1=\"121.9375\" y2=\"121.9375\"/></a><!--MD5=[96f4274e9e20536e775497830990834d]\n",
       "class E10--><a href=\"psysml:f3cb1211-10b9-411e-bf19-d5722693e1fe\" target=\"_top\" title=\"psysml:f3cb1211-10b9-411e-bf19-d5722693e1fe\" xlink:actuate=\"onRequest\" xlink:href=\"psysml:f3cb1211-10b9-411e-bf19-d5722693e1fe\" xlink:show=\"new\" xlink:title=\"psysml:f3cb1211-10b9-411e-bf19-d5722693e1fe\" xlink:type=\"simple\"><rect fill=\"#FEFECE\" filter=\"url(#f5ol6gjczmbiw)\" height=\"45.9375\" id=\"E10\" rx=\"10\" ry=\"10\" style=\"stroke: #A80036; stroke-width: 1.5;\" width=\"42\" x=\"186\" y=\"84\"/><text fill=\"#000000\" font-family=\"sans-serif\" font-size=\"12\" font-style=\"italic\" lengthAdjust=\"spacingAndGlyphs\" textLength=\"40\" x=\"187\" y=\"100.1387\">«part»</text><text fill=\"#000000\" font-family=\"sans-serif\" font-size=\"12\" lengthAdjust=\"spacingAndGlyphs\" textLength=\"22\" x=\"196\" y=\"114.1074\">x: A</text><line style=\"stroke: #A80036; stroke-width: 1.5;\" x1=\"187\" x2=\"227\" y1=\"121.9375\" y2=\"121.9375\"/></a><!--MD5=[1dd1bfd58a279cf63c5f349dbc8fc6a1]\n",
       "class E11--><a href=\"psysml:9cdccab4-e502-4fbe-97eb-9b231d825ffa\" target=\"_top\" title=\"psysml:9cdccab4-e502-4fbe-97eb-9b231d825ffa\" xlink:actuate=\"onRequest\" xlink:href=\"psysml:9cdccab4-e502-4fbe-97eb-9b231d825ffa\" xlink:show=\"new\" xlink:title=\"psysml:9cdccab4-e502-4fbe-97eb-9b231d825ffa\" xlink:type=\"simple\"><rect fill=\"#FEFECE\" filter=\"url(#f5ol6gjczmbiw)\" height=\"45.9375\" id=\"E11\" rx=\"10\" ry=\"10\" style=\"stroke: #A80036; stroke-width: 1.5;\" width=\"42\" x=\"109\" y=\"84\"/><text fill=\"#000000\" font-family=\"sans-serif\" font-size=\"12\" font-style=\"italic\" lengthAdjust=\"spacingAndGlyphs\" textLength=\"40\" x=\"110\" y=\"100.1387\">«part»</text><text fill=\"#000000\" font-family=\"sans-serif\" font-size=\"12\" lengthAdjust=\"spacingAndGlyphs\" textLength=\"22\" x=\"119\" y=\"114.1074\">y: B</text><line style=\"stroke: #A80036; stroke-width: 1.5;\" x1=\"110\" x2=\"150\" y1=\"121.9375\" y2=\"121.9375\"/></a><!--MD5=[14ccda38c055a5c0da953d572bc50960]\n",
       "link E7 to E3--><a href=\"psysml:84278f38-d400-4655-8657-76a37dd9bb09\" target=\"_top\" title=\"psysml:84278f38-d400-4655-8657-76a37dd9bb09\" xlink:actuate=\"onRequest\" xlink:href=\"psysml:84278f38-d400-4655-8657-76a37dd9bb09\" xlink:show=\"new\" xlink:title=\"psysml:84278f38-d400-4655-8657-76a37dd9bb09\" xlink:type=\"simple\"><path d=\"M382,130.1 C382,145.37 382,166.16 382,184.57 \" fill=\"none\" id=\"E7-&gt;E3\" style=\"stroke: #A80036; stroke-width: 1.0;\"/><polygon fill=\"#FFFFFF\" points=\"382,204.61,375,185.61,389,185.61,382,204.61\" style=\"stroke: #A80036; stroke-width: 1.0;\"/><ellipse cx=\"377\" cy=\"179.91\" fill=\"#A80036\" rx=\"2\" ry=\"2\" style=\"stroke: #A80036; stroke-width: 1.0;\"/><ellipse cx=\"387\" cy=\"179.91\" fill=\"#A80036\" rx=\"2\" ry=\"2\" style=\"stroke: #A80036; stroke-width: 1.0;\"/></a><!--MD5=[1ccb2481ffa92f8d51a74ee30c51832a]\n",
       "link E8 to E5--><a href=\"psysml:9a62fcce-aa5a-49d2-8cac-0b2f538e5bd0\" target=\"_top\" title=\"psysml:9a62fcce-aa5a-49d2-8cac-0b2f538e5bd0\" xlink:actuate=\"onRequest\" xlink:href=\"psysml:9a62fcce-aa5a-49d2-8cac-0b2f538e5bd0\" xlink:show=\"new\" xlink:title=\"psysml:9a62fcce-aa5a-49d2-8cac-0b2f538e5bd0\" xlink:type=\"simple\"><path d=\"M283.84,124.59 C272.23,133.52 257.5,144.61 244,154 C223.51,168.25 200.41,183.24 180.38,195.91 \" fill=\"none\" id=\"E8-&gt;E5\" style=\"stroke: #A80036; stroke-width: 1.0;\"/><polygon fill=\"#FFFFFF\" points=\"163.36,206.57,175.7353,190.5434,183.175,202.403,163.36,206.57\" style=\"stroke: #A80036; stroke-width: 1.0;\"/><ellipse cx=\"181.6267\" cy=\"189.2086\" fill=\"#A80036\" rx=\"2\" ry=\"2\" style=\"stroke: #A80036; stroke-width: 1.0;\"/><ellipse cx=\"186.9408\" cy=\"197.6797\" fill=\"#A80036\" rx=\"2\" ry=\"2\" style=\"stroke: #A80036; stroke-width: 1.0;\"/></a><!--MD5=[feeac5eb423634930294aa81f2d25a4c]\n",
       "link E10 to E3--><a href=\"psysml:bd7260c7-b55a-4391-86f8-9493bae3bcdc\" target=\"_top\" title=\"psysml:bd7260c7-b55a-4391-86f8-9493bae3bcdc\" xlink:actuate=\"onRequest\" xlink:href=\"psysml:bd7260c7-b55a-4391-86f8-9493bae3bcdc\" xlink:show=\"new\" xlink:title=\"psysml:bd7260c7-b55a-4391-86f8-9493bae3bcdc\" xlink:type=\"simple\"><path d=\"M228.16,124.59 C239.77,133.52 254.5,144.61 268,154 C288.49,168.25 311.59,183.24 331.62,195.91 \" fill=\"none\" id=\"E10-&gt;E3\" style=\"stroke: #A80036; stroke-width: 1.0;\"/><polygon fill=\"#FFFFFF\" points=\"348.64,206.57,328.825,202.403,336.2647,190.5434,348.64,206.57\" style=\"stroke: #A80036; stroke-width: 1.0;\"/><ellipse cx=\"325.0592\" cy=\"197.6797\" fill=\"#A80036\" rx=\"2\" ry=\"2\" style=\"stroke: #A80036; stroke-width: 1.0;\"/><ellipse cx=\"330.3733\" cy=\"189.2086\" fill=\"#A80036\" rx=\"2\" ry=\"2\" style=\"stroke: #A80036; stroke-width: 1.0;\"/></a><!--MD5=[07b77f6f309248d16187045709d1c26e]\n",
       "link E11 to E5--><a href=\"psysml:099d00ce-a154-42ce-865e-6b31b35a0829\" target=\"_top\" title=\"psysml:099d00ce-a154-42ce-865e-6b31b35a0829\" xlink:actuate=\"onRequest\" xlink:href=\"psysml:099d00ce-a154-42ce-865e-6b31b35a0829\" xlink:show=\"new\" xlink:title=\"psysml:099d00ce-a154-42ce-865e-6b31b35a0829\" xlink:type=\"simple\"><path d=\"M130,130.1 C130,145.37 130,166.16 130,184.57 \" fill=\"none\" id=\"E11-&gt;E5\" style=\"stroke: #A80036; stroke-width: 1.0;\"/><polygon fill=\"#FFFFFF\" points=\"130,204.61,123,185.61,137,185.61,130,204.61\" style=\"stroke: #A80036; stroke-width: 1.0;\"/><ellipse cx=\"125\" cy=\"179.91\" fill=\"#A80036\" rx=\"2\" ry=\"2\" style=\"stroke: #A80036; stroke-width: 1.0;\"/><ellipse cx=\"135\" cy=\"179.91\" fill=\"#A80036\" rx=\"2\" ry=\"2\" style=\"stroke: #A80036; stroke-width: 1.0;\"/></a><!--MD5=[39f41a0e550fb3d73b4d8135617e30a2]\n",
       "link E12 to E3--><a href=\"psysml:2e0d72ae-9b36-4ac2-af7e-1d21d87eecf3\" target=\"_top\" title=\"psysml:2e0d72ae-9b36-4ac2-af7e-1d21d87eecf3\" xlink:actuate=\"onRequest\" xlink:href=\"psysml:2e0d72ae-9b36-4ac2-af7e-1d21d87eecf3\" xlink:show=\"new\" xlink:title=\"psysml:2e0d72ae-9b36-4ac2-af7e-1d21d87eecf3\" xlink:type=\"simple\"><path d=\"M444.7,130.1 C434.28,146.2 419.89,168.44 407.53,187.55 \" fill=\"none\" id=\"E12-&gt;E3\" style=\"stroke: #A80036; stroke-width: 1.0;\"/><polygon fill=\"#FFFFFF\" points=\"396.49,204.61,400.9313,184.8546,412.6866,192.4581,396.49,204.61\" style=\"stroke: #A80036; stroke-width: 1.0;\"/><ellipse cx=\"405.7063\" cy=\"181.1547\" fill=\"#A80036\" rx=\"2\" ry=\"2\" style=\"stroke: #A80036; stroke-width: 1.0;\"/><ellipse cx=\"414.103\" cy=\"186.5858\" fill=\"#A80036\" rx=\"2\" ry=\"2\" style=\"stroke: #A80036; stroke-width: 1.0;\"/></a><!--MD5=[066b2d8af59fea80ccdb3d54ad5c1091]\n",
       "link E13 to E5--><a href=\"psysml:28c76814-e954-4c97-b716-40e2f6813c6b\" target=\"_top\" title=\"psysml:28c76814-e954-4c97-b716-40e2f6813c6b\" xlink:actuate=\"onRequest\" xlink:href=\"psysml:28c76814-e954-4c97-b716-40e2f6813c6b\" xlink:show=\"new\" xlink:title=\"psysml:28c76814-e954-4c97-b716-40e2f6813c6b\" xlink:type=\"simple\"><path d=\"M67.3,130.1 C77.72,146.2 92.11,168.44 104.47,187.55 \" fill=\"none\" id=\"E13-&gt;E5\" style=\"stroke: #A80036; stroke-width: 1.0;\"/><polygon fill=\"#FFFFFF\" points=\"115.51,204.61,99.3134,192.4581,111.0687,184.8546,115.51,204.61\" style=\"stroke: #A80036; stroke-width: 1.0;\"/><ellipse cx=\"97.897\" cy=\"186.5858\" fill=\"#A80036\" rx=\"2\" ry=\"2\" style=\"stroke: #A80036; stroke-width: 1.0;\"/><ellipse cx=\"106.2937\" cy=\"181.1547\" fill=\"#A80036\" rx=\"2\" ry=\"2\" style=\"stroke: #A80036; stroke-width: 1.0;\"/></a><!--MD5=[76497618adfa7bef0cccc02636d9a040]\n",
       "@startuml\r\n",
       "skinparam wrapWidth 300\r\n",
       "hide circle\r\n",
       "\r\n",
       "package \"CircularImport\" as E1  [[psysml:690cd2ec-4fe7-4d94-89bf-c3d63ed60cd3 ]]  {\r\n",
       "package \"P1\" as E2  [[psysml:54e3154d-4fa4-4c14-a367-edca149a76a1 ]]  {\r\n",
       "comp def \"A\" as E3  <<(T,blue)part def>> [[psysml:281245e6-0723-4878-ac57-c406fd778909 ]] {\r\n",
       "}\r\n",
       "}\r\n",
       "package \"P2\" as E4  [[psysml:581c4a9e-fb07-4d80-ac64-c8c7b70027d2 ]]  {\r\n",
       "comp def \"B\" as E5  <<(T,blue)part def>> [[psysml:57665928-471f-4095-91e2-d839a960cf78 ]] {\r\n",
       "}\r\n",
       "}\r\n",
       "package \"Test1\" as E6  [[psysml:6bb49afc-ac2c-47b7-b48e-5bd0a62b326b ]]  {\r\n",
       "comp usage \"x: A\" as E7  <<(T,blue)part>> [[psysml:d6e39b1a-8a39-4c69-85ab-aa8551443e08 ]] {\r\n",
       "}\r\n",
       "comp usage \"y: B\" as E8  <<(T,blue)part>> [[psysml:ead6e64d-b294-4a2d-a1d8-90d3751f1490 ]] {\r\n",
       "}\r\n",
       "E7 - -:|> E3 [[psysml:84278f38-d400-4655-8657-76a37dd9bb09 ]] \r\n",
       "E8 - -:|> E5 [[psysml:9a62fcce-aa5a-49d2-8cac-0b2f538e5bd0 ]] \r\n",
       "}\r\n",
       "package \"Test2\" as E9  [[psysml:051bf7cb-81b8-4c37-8865-8bb7ea974985 ]]  {\r\n",
       "comp usage \"x: A\" as E10  <<(T,blue)part>> [[psysml:f3cb1211-10b9-411e-bf19-d5722693e1fe ]] {\r\n",
       "}\r\n",
       "comp usage \"y: B\" as E11  <<(T,blue)part>> [[psysml:9cdccab4-e502-4fbe-97eb-9b231d825ffa ]] {\r\n",
       "}\r\n",
       "E10 - -:|> E3 [[psysml:bd7260c7-b55a-4391-86f8-9493bae3bcdc ]] \r\n",
       "E11 - -:|> E5 [[psysml:099d00ce-a154-42ce-865e-6b31b35a0829 ]] \r\n",
       "}\r\n",
       "comp usage \"x: A\" as E12  <<(T,blue)part>> [[psysml:87edab01-bf58-4e9e-abd1-c8b0194f7dca ]] {\r\n",
       "}\r\n",
       "comp usage \"y: B\" as E13  <<(T,blue)part>> [[psysml:20c5387a-1627-4e14-8312-6f39b31ab3f7 ]] {\r\n",
       "}\r\n",
       "E12 - -:|> E3 [[psysml:2e0d72ae-9b36-4ac2-af7e-1d21d87eecf3 ]] \r\n",
       "E13 - -:|> E5 [[psysml:28c76814-e954-4c97-b716-40e2f6813c6b ]] \r\n",
       "}\r\n",
       "@enduml\r\n",
       "\n",
       "PlantUML version 1.2020.13(Sat Jun 13 12:26:38 UTC 2020)\n",
       "(EPL source distribution)\n",
       "Java Runtime: OpenJDK Runtime Environment\n",
       "JVM: OpenJDK 64-Bit Server VM\n",
       "Default Encoding: UTF-8\n",
       "Language: en\n",
       "Country: null\n",
       "--></g></svg>"
      ]
     },
     "execution_count": 29,
     "metadata": {},
     "output_type": "execute_result"
    }
   ],
   "source": [
    "%viz --style=\"STDCOLOR\" --view=\"MIXED\" \"CircularImport\""
   ]
  },
  {
   "cell_type": "code",
   "execution_count": 30,
   "id": "8a83a00e",
   "metadata": {
    "execution": {
     "iopub.execute_input": "2021-04-20T06:57:53.893117Z",
     "iopub.status.busy": "2021-04-20T06:57:53.892613Z",
     "iopub.status.idle": "2021-04-20T06:57:53.955621Z",
     "shell.execute_reply": "2021-04-20T06:57:53.954010Z"
    }
   },
   "outputs": [
    {
     "data": {
      "image/svg+xml": [
       "<?xml version=\"1.0\" encoding=\"UTF-8\" standalone=\"no\"?><svg xmlns=\"http://www.w3.org/2000/svg\" xmlns:xlink=\"http://www.w3.org/1999/xlink\" contentScriptType=\"application/ecmascript\" contentStyleType=\"text/css\" height=\"297px\" preserveAspectRatio=\"none\" style=\"width:674px;height:297px;\" version=\"1.1\" viewBox=\"0 0 674 297\" width=\"674px\" zoomAndPan=\"magnify\"><defs><filter height=\"300%\" id=\"f84qfw7otag51\" width=\"300%\" x=\"-1\" y=\"-1\"><feGaussianBlur result=\"blurOut\" stdDeviation=\"2.0\"/><feColorMatrix in=\"blurOut\" result=\"blurOut2\" type=\"matrix\" values=\"0 0 0 0 0 0 0 0 0 0 0 0 0 0 0 0 0 0 .4 0\"/><feOffset dx=\"4.0\" dy=\"4.0\" in=\"blurOut2\" result=\"blurOut3\"/><feBlend in=\"SourceGraphic\" in2=\"blurOut3\" mode=\"normal\"/></filter></defs><g><!--MD5=[fbc87193dbaf4d95561dea2c320d4a47]\n",
       "cluster E1--><a href=\"psysml:690cd2ec-4fe7-4d94-89bf-c3d63ed60cd3\" target=\"_top\" title=\"psysml:690cd2ec-4fe7-4d94-89bf-c3d63ed60cd3\" xlink:actuate=\"onRequest\" xlink:href=\"psysml:690cd2ec-4fe7-4d94-89bf-c3d63ed60cd3\" xlink:show=\"new\" xlink:title=\"psysml:690cd2ec-4fe7-4d94-89bf-c3d63ed60cd3\" xlink:type=\"simple\"><polygon fill=\"#FFFFFF\" filter=\"url(#f84qfw7otag51)\" points=\"16,6,134,6,141,28.2969,652,28.2969,652,285,16,285,16,6\" style=\"stroke: #000000; stroke-width: 1.5;\"/><line style=\"stroke: #000000; stroke-width: 1.5;\" x1=\"16\" x2=\"141\" y1=\"28.2969\" y2=\"28.2969\"/><text fill=\"#000000\" font-family=\"sans-serif\" font-size=\"14\" font-weight=\"bold\" lengthAdjust=\"spacingAndGlyphs\" textLength=\"112\" x=\"20\" y=\"20.9951\">CircularImport</text></a><!--MD5=[e4f7fae6ed58524ba242bb0b0d3be6b7]\n",
       "cluster E2--><a href=\"psysml:54e3154d-4fa4-4c14-a367-edca149a76a1\" target=\"_top\" title=\"psysml:54e3154d-4fa4-4c14-a367-edca149a76a1\" xlink:actuate=\"onRequest\" xlink:href=\"psysml:54e3154d-4fa4-4c14-a367-edca149a76a1\" xlink:show=\"new\" xlink:title=\"psysml:54e3154d-4fa4-4c14-a367-edca149a76a1\" xlink:type=\"simple\"><polygon fill=\"#FFFFFF\" filter=\"url(#f84qfw7otag51)\" points=\"463,170,489,170,496,192.2969,535,192.2969,535,261,463,261,463,170\" style=\"stroke: #000000; stroke-width: 1.5;\"/><line style=\"stroke: #000000; stroke-width: 1.5;\" x1=\"463\" x2=\"496\" y1=\"192.2969\" y2=\"192.2969\"/><text fill=\"#000000\" font-family=\"sans-serif\" font-size=\"14\" font-weight=\"bold\" lengthAdjust=\"spacingAndGlyphs\" textLength=\"20\" x=\"467\" y=\"184.9951\">P1</text></a><!--MD5=[f6df4d0ebaf0b5dfb2ced0ae5af7c670]\n",
       "cluster E4--><a href=\"psysml:581c4a9e-fb07-4d80-ac64-c8c7b70027d2\" target=\"_top\" title=\"psysml:581c4a9e-fb07-4d80-ac64-c8c7b70027d2\" xlink:actuate=\"onRequest\" xlink:href=\"psysml:581c4a9e-fb07-4d80-ac64-c8c7b70027d2\" xlink:show=\"new\" xlink:title=\"psysml:581c4a9e-fb07-4d80-ac64-c8c7b70027d2\" xlink:type=\"simple\"><polygon fill=\"#FFFFFF\" filter=\"url(#f84qfw7otag51)\" points=\"133,170,159,170,166,192.2969,205,192.2969,205,261,133,261,133,170\" style=\"stroke: #000000; stroke-width: 1.5;\"/><line style=\"stroke: #000000; stroke-width: 1.5;\" x1=\"133\" x2=\"166\" y1=\"192.2969\" y2=\"192.2969\"/><text fill=\"#000000\" font-family=\"sans-serif\" font-size=\"14\" font-weight=\"bold\" lengthAdjust=\"spacingAndGlyphs\" textLength=\"20\" x=\"137\" y=\"184.9951\">P2</text></a><!--MD5=[14e3b0961a2654348d326746436168a1]\n",
       "cluster E6--><a href=\"psysml:6bb49afc-ac2c-47b7-b48e-5bd0a62b326b\" target=\"_top\" title=\"psysml:6bb49afc-ac2c-47b7-b48e-5bd0a62b326b\" xlink:actuate=\"onRequest\" xlink:href=\"psysml:6bb49afc-ac2c-47b7-b48e-5bd0a62b326b\" xlink:show=\"new\" xlink:title=\"psysml:6bb49afc-ac2c-47b7-b48e-5bd0a62b326b\" xlink:type=\"simple\"><polygon fill=\"#FFFFFF\" filter=\"url(#f84qfw7otag51)\" points=\"346,49,397,49,404,71.2969,549,71.2969,549,146,346,146,346,49\" style=\"stroke: #000000; stroke-width: 1.5;\"/><line style=\"stroke: #000000; stroke-width: 1.5;\" x1=\"346\" x2=\"404\" y1=\"71.2969\" y2=\"71.2969\"/><text fill=\"#000000\" font-family=\"sans-serif\" font-size=\"14\" font-weight=\"bold\" lengthAdjust=\"spacingAndGlyphs\" textLength=\"45\" x=\"350\" y=\"63.9951\">Test1</text></a><!--MD5=[7f149f147074ac12df2cb0a7728a5fb0]\n",
       "cluster E9--><a href=\"psysml:051bf7cb-81b8-4c37-8865-8bb7ea974985\" target=\"_top\" title=\"psysml:051bf7cb-81b8-4c37-8865-8bb7ea974985\" xlink:actuate=\"onRequest\" xlink:href=\"psysml:051bf7cb-81b8-4c37-8865-8bb7ea974985\" xlink:show=\"new\" xlink:title=\"psysml:051bf7cb-81b8-4c37-8865-8bb7ea974985\" xlink:type=\"simple\"><polygon fill=\"#FFFFFF\" filter=\"url(#f84qfw7otag51)\" points=\"119,49,170,49,177,71.2969,322,71.2969,322,146,119,146,119,49\" style=\"stroke: #000000; stroke-width: 1.5;\"/><line style=\"stroke: #000000; stroke-width: 1.5;\" x1=\"119\" x2=\"177\" y1=\"71.2969\" y2=\"71.2969\"/><text fill=\"#000000\" font-family=\"sans-serif\" font-size=\"14\" font-weight=\"bold\" lengthAdjust=\"spacingAndGlyphs\" textLength=\"45\" x=\"123\" y=\"63.9951\">Test2</text></a><!--MD5=[49a0ec8f00dab7302a31f22d0f0fe584]\n",
       "class E12--><a href=\"psysml:87edab01-bf58-4e9e-abd1-c8b0194f7dca\" target=\"_top\" title=\"psysml:87edab01-bf58-4e9e-abd1-c8b0194f7dca\" xlink:actuate=\"onRequest\" xlink:href=\"psysml:87edab01-bf58-4e9e-abd1-c8b0194f7dca\" xlink:show=\"new\" xlink:title=\"psysml:87edab01-bf58-4e9e-abd1-c8b0194f7dca\" xlink:type=\"simple\"><rect fill=\"#FEFECE\" filter=\"url(#f84qfw7otag51)\" height=\"45.9375\" id=\"E12\" rx=\"10\" ry=\"10\" style=\"stroke: #A80036; stroke-width: 1.5;\" width=\"68\" x=\"568\" y=\"84\"/><ellipse cx=\"583\" cy=\"102.9688\" fill=\"#32CD32\" rx=\"11\" ry=\"11\" style=\"stroke: #A80036; stroke-width: 1.0;\"/><path d=\"M582.7969,98.6406 L582.7969,102.2656 L583.7969,102.2656 Q585,102.2656 585.4844,101.8594 Q585.9688,101.4531 585.9688,100.4531 Q585.9688,99.4531 585.4844,99.0469 Q585,98.6406 583.7969,98.6406 L582.7969,98.6406 Z M580.3438,96.5781 L583.7031,96.5781 Q586.2656,96.5781 587.3906,97.5 Q588.5156,98.4063 588.5156,100.4531 Q588.5156,102.5 587.3906,103.4219 Q586.2656,104.3281 583.7031,104.3281 L582.7969,104.3281 L582.7969,108.9688 L580.3438,108.9688 L580.3438,96.5781 Z \"/><text fill=\"#000000\" font-family=\"sans-serif\" font-size=\"12\" font-style=\"italic\" lengthAdjust=\"spacingAndGlyphs\" textLength=\"40\" x=\"595\" y=\"100.1387\">«part»</text><text fill=\"#000000\" font-family=\"sans-serif\" font-size=\"12\" lengthAdjust=\"spacingAndGlyphs\" textLength=\"22\" x=\"604\" y=\"114.1074\">x: A</text><line style=\"stroke: #A80036; stroke-width: 1.5;\" x1=\"569\" x2=\"635\" y1=\"121.9375\" y2=\"121.9375\"/></a><!--MD5=[ee3c913d1a06f366521f9ef512b67efe]\n",
       "class E13--><a href=\"psysml:20c5387a-1627-4e14-8312-6f39b31ab3f7\" target=\"_top\" title=\"psysml:20c5387a-1627-4e14-8312-6f39b31ab3f7\" xlink:actuate=\"onRequest\" xlink:href=\"psysml:20c5387a-1627-4e14-8312-6f39b31ab3f7\" xlink:show=\"new\" xlink:title=\"psysml:20c5387a-1627-4e14-8312-6f39b31ab3f7\" xlink:type=\"simple\"><rect fill=\"#FEFECE\" filter=\"url(#f84qfw7otag51)\" height=\"45.9375\" id=\"E13\" rx=\"10\" ry=\"10\" style=\"stroke: #A80036; stroke-width: 1.5;\" width=\"68\" x=\"32\" y=\"84\"/><ellipse cx=\"47\" cy=\"102.9688\" fill=\"#32CD32\" rx=\"11\" ry=\"11\" style=\"stroke: #A80036; stroke-width: 1.0;\"/><path d=\"M46.7969,98.6406 L46.7969,102.2656 L47.7969,102.2656 Q49,102.2656 49.4844,101.8594 Q49.9688,101.4531 49.9688,100.4531 Q49.9688,99.4531 49.4844,99.0469 Q49,98.6406 47.7969,98.6406 L46.7969,98.6406 Z M44.3438,96.5781 L47.7031,96.5781 Q50.2656,96.5781 51.3906,97.5 Q52.5156,98.4063 52.5156,100.4531 Q52.5156,102.5 51.3906,103.4219 Q50.2656,104.3281 47.7031,104.3281 L46.7969,104.3281 L46.7969,108.9688 L44.3438,108.9688 L44.3438,96.5781 Z \"/><text fill=\"#000000\" font-family=\"sans-serif\" font-size=\"12\" font-style=\"italic\" lengthAdjust=\"spacingAndGlyphs\" textLength=\"40\" x=\"59\" y=\"100.1387\">«part»</text><text fill=\"#000000\" font-family=\"sans-serif\" font-size=\"12\" lengthAdjust=\"spacingAndGlyphs\" textLength=\"22\" x=\"68\" y=\"114.1074\">y: B</text><line style=\"stroke: #A80036; stroke-width: 1.5;\" x1=\"33\" x2=\"99\" y1=\"121.9375\" y2=\"121.9375\"/></a><!--MD5=[09b614a08d8cba4a07c9adeb5e0fee81]\n",
       "class E3--><a href=\"psysml:281245e6-0723-4878-ac57-c406fd778909\" target=\"_top\" title=\"psysml:281245e6-0723-4878-ac57-c406fd778909\" xlink:actuate=\"onRequest\" xlink:href=\"psysml:281245e6-0723-4878-ac57-c406fd778909\" xlink:show=\"new\" xlink:title=\"psysml:281245e6-0723-4878-ac57-c406fd778909\" xlink:type=\"simple\"><rect fill=\"#FEFECE\" filter=\"url(#f84qfw7otag51)\" height=\"40\" id=\"E3\" style=\"stroke: #A80036; stroke-width: 1.5;\" width=\"40\" x=\"479\" y=\"205\"/><ellipse cx=\"494\" cy=\"221\" fill=\"#008000\" rx=\"11\" ry=\"11\" style=\"stroke: #A80036; stroke-width: 1.0;\"/><path d=\"M492.9063,221.375 L492.9063,225.0469 L494.5313,225.0469 Q495.7031,225.0469 496.1719,224.6563 Q496.6406,224.25 496.6406,223.25 Q496.6406,222.25 496.1406,221.8125 Q495.6563,221.375 494.5313,221.375 L492.9063,221.375 Z M492.9063,216.5469 L492.9063,219.4219 L494.5313,219.4219 Q495.4531,219.4219 495.8438,219.0938 Q496.25,218.75 496.25,218 Q496.25,217.2344 495.8438,216.8906 Q495.4375,216.5469 494.5313,216.5469 L492.9063,216.5469 Z M490.5313,214.5938 L494.5313,214.5938 Q496.5938,214.5938 497.6406,215.375 Q498.6875,216.1563 498.6875,217.7188 Q498.6875,218.9219 498.0625,219.5938 Q497.4531,220.2656 496.2656,220.375 Q497.6875,220.5156 498.4063,221.3281 Q499.125,222.1406 499.125,223.5938 Q499.125,225.3906 498.0469,226.2031 Q496.9688,227 494.5313,227 L490.5313,227 L490.5313,214.5938 Z \"/><text fill=\"#000000\" font-family=\"sans-serif\" font-size=\"12\" lengthAdjust=\"spacingAndGlyphs\" textLength=\"8\" x=\"508\" y=\"225.1543\">A</text><line style=\"stroke: #A80036; stroke-width: 1.5;\" x1=\"480\" x2=\"518\" y1=\"237\" y2=\"237\"/></a><!--MD5=[270fce915f116d4de14055a7c1d9a0f3]\n",
       "class E5--><a href=\"psysml:57665928-471f-4095-91e2-d839a960cf78\" target=\"_top\" title=\"psysml:57665928-471f-4095-91e2-d839a960cf78\" xlink:actuate=\"onRequest\" xlink:href=\"psysml:57665928-471f-4095-91e2-d839a960cf78\" xlink:show=\"new\" xlink:title=\"psysml:57665928-471f-4095-91e2-d839a960cf78\" xlink:type=\"simple\"><rect fill=\"#FEFECE\" filter=\"url(#f84qfw7otag51)\" height=\"40\" id=\"E5\" style=\"stroke: #A80036; stroke-width: 1.5;\" width=\"40\" x=\"149\" y=\"205\"/><ellipse cx=\"164\" cy=\"221\" fill=\"#008000\" rx=\"11\" ry=\"11\" style=\"stroke: #A80036; stroke-width: 1.0;\"/><path d=\"M162.9063,221.375 L162.9063,225.0469 L164.5313,225.0469 Q165.7031,225.0469 166.1719,224.6563 Q166.6406,224.25 166.6406,223.25 Q166.6406,222.25 166.1406,221.8125 Q165.6563,221.375 164.5313,221.375 L162.9063,221.375 Z M162.9063,216.5469 L162.9063,219.4219 L164.5313,219.4219 Q165.4531,219.4219 165.8438,219.0938 Q166.25,218.75 166.25,218 Q166.25,217.2344 165.8438,216.8906 Q165.4375,216.5469 164.5313,216.5469 L162.9063,216.5469 Z M160.5313,214.5938 L164.5313,214.5938 Q166.5938,214.5938 167.6406,215.375 Q168.6875,216.1563 168.6875,217.7188 Q168.6875,218.9219 168.0625,219.5938 Q167.4531,220.2656 166.2656,220.375 Q167.6875,220.5156 168.4063,221.3281 Q169.125,222.1406 169.125,223.5938 Q169.125,225.3906 168.0469,226.2031 Q166.9688,227 164.5313,227 L160.5313,227 L160.5313,214.5938 Z \"/><text fill=\"#000000\" font-family=\"sans-serif\" font-size=\"12\" lengthAdjust=\"spacingAndGlyphs\" textLength=\"8\" x=\"178\" y=\"225.1543\">B</text><line style=\"stroke: #A80036; stroke-width: 1.5;\" x1=\"150\" x2=\"188\" y1=\"237\" y2=\"237\"/></a><!--MD5=[2156ba9850f5573cc1fc38a6a4b2f02b]\n",
       "class E7--><a href=\"psysml:d6e39b1a-8a39-4c69-85ab-aa8551443e08\" target=\"_top\" title=\"psysml:d6e39b1a-8a39-4c69-85ab-aa8551443e08\" xlink:actuate=\"onRequest\" xlink:href=\"psysml:d6e39b1a-8a39-4c69-85ab-aa8551443e08\" xlink:show=\"new\" xlink:title=\"psysml:d6e39b1a-8a39-4c69-85ab-aa8551443e08\" xlink:type=\"simple\"><rect fill=\"#FEFECE\" filter=\"url(#f84qfw7otag51)\" height=\"45.9375\" id=\"E7\" rx=\"10\" ry=\"10\" style=\"stroke: #A80036; stroke-width: 1.5;\" width=\"68\" x=\"465\" y=\"84\"/><ellipse cx=\"480\" cy=\"102.9688\" fill=\"#32CD32\" rx=\"11\" ry=\"11\" style=\"stroke: #A80036; stroke-width: 1.0;\"/><path d=\"M479.7969,98.6406 L479.7969,102.2656 L480.7969,102.2656 Q482,102.2656 482.4844,101.8594 Q482.9688,101.4531 482.9688,100.4531 Q482.9688,99.4531 482.4844,99.0469 Q482,98.6406 480.7969,98.6406 L479.7969,98.6406 Z M477.3438,96.5781 L480.7031,96.5781 Q483.2656,96.5781 484.3906,97.5 Q485.5156,98.4063 485.5156,100.4531 Q485.5156,102.5 484.3906,103.4219 Q483.2656,104.3281 480.7031,104.3281 L479.7969,104.3281 L479.7969,108.9688 L477.3438,108.9688 L477.3438,96.5781 Z \"/><text fill=\"#000000\" font-family=\"sans-serif\" font-size=\"12\" font-style=\"italic\" lengthAdjust=\"spacingAndGlyphs\" textLength=\"40\" x=\"492\" y=\"100.1387\">«part»</text><text fill=\"#000000\" font-family=\"sans-serif\" font-size=\"12\" lengthAdjust=\"spacingAndGlyphs\" textLength=\"22\" x=\"501\" y=\"114.1074\">x: A</text><line style=\"stroke: #A80036; stroke-width: 1.5;\" x1=\"466\" x2=\"532\" y1=\"121.9375\" y2=\"121.9375\"/></a><!--MD5=[b9389687b975829384b498ac4b7476b2]\n",
       "class E8--><a href=\"psysml:ead6e64d-b294-4a2d-a1d8-90d3751f1490\" target=\"_top\" title=\"psysml:ead6e64d-b294-4a2d-a1d8-90d3751f1490\" xlink:actuate=\"onRequest\" xlink:href=\"psysml:ead6e64d-b294-4a2d-a1d8-90d3751f1490\" xlink:show=\"new\" xlink:title=\"psysml:ead6e64d-b294-4a2d-a1d8-90d3751f1490\" xlink:type=\"simple\"><rect fill=\"#FEFECE\" filter=\"url(#f84qfw7otag51)\" height=\"45.9375\" id=\"E8\" rx=\"10\" ry=\"10\" style=\"stroke: #A80036; stroke-width: 1.5;\" width=\"68\" x=\"362\" y=\"84\"/><ellipse cx=\"377\" cy=\"102.9688\" fill=\"#32CD32\" rx=\"11\" ry=\"11\" style=\"stroke: #A80036; stroke-width: 1.0;\"/><path d=\"M376.7969,98.6406 L376.7969,102.2656 L377.7969,102.2656 Q379,102.2656 379.4844,101.8594 Q379.9688,101.4531 379.9688,100.4531 Q379.9688,99.4531 379.4844,99.0469 Q379,98.6406 377.7969,98.6406 L376.7969,98.6406 Z M374.3438,96.5781 L377.7031,96.5781 Q380.2656,96.5781 381.3906,97.5 Q382.5156,98.4063 382.5156,100.4531 Q382.5156,102.5 381.3906,103.4219 Q380.2656,104.3281 377.7031,104.3281 L376.7969,104.3281 L376.7969,108.9688 L374.3438,108.9688 L374.3438,96.5781 Z \"/><text fill=\"#000000\" font-family=\"sans-serif\" font-size=\"12\" font-style=\"italic\" lengthAdjust=\"spacingAndGlyphs\" textLength=\"40\" x=\"389\" y=\"100.1387\">«part»</text><text fill=\"#000000\" font-family=\"sans-serif\" font-size=\"12\" lengthAdjust=\"spacingAndGlyphs\" textLength=\"22\" x=\"398\" y=\"114.1074\">y: B</text><line style=\"stroke: #A80036; stroke-width: 1.5;\" x1=\"363\" x2=\"429\" y1=\"121.9375\" y2=\"121.9375\"/></a><!--MD5=[96f4274e9e20536e775497830990834d]\n",
       "class E10--><a href=\"psysml:f3cb1211-10b9-411e-bf19-d5722693e1fe\" target=\"_top\" title=\"psysml:f3cb1211-10b9-411e-bf19-d5722693e1fe\" xlink:actuate=\"onRequest\" xlink:href=\"psysml:f3cb1211-10b9-411e-bf19-d5722693e1fe\" xlink:show=\"new\" xlink:title=\"psysml:f3cb1211-10b9-411e-bf19-d5722693e1fe\" xlink:type=\"simple\"><rect fill=\"#FEFECE\" filter=\"url(#f84qfw7otag51)\" height=\"45.9375\" id=\"E10\" rx=\"10\" ry=\"10\" style=\"stroke: #A80036; stroke-width: 1.5;\" width=\"68\" x=\"238\" y=\"84\"/><ellipse cx=\"253\" cy=\"102.9688\" fill=\"#32CD32\" rx=\"11\" ry=\"11\" style=\"stroke: #A80036; stroke-width: 1.0;\"/><path d=\"M252.7969,98.6406 L252.7969,102.2656 L253.7969,102.2656 Q255,102.2656 255.4844,101.8594 Q255.9688,101.4531 255.9688,100.4531 Q255.9688,99.4531 255.4844,99.0469 Q255,98.6406 253.7969,98.6406 L252.7969,98.6406 Z M250.3438,96.5781 L253.7031,96.5781 Q256.2656,96.5781 257.3906,97.5 Q258.5156,98.4063 258.5156,100.4531 Q258.5156,102.5 257.3906,103.4219 Q256.2656,104.3281 253.7031,104.3281 L252.7969,104.3281 L252.7969,108.9688 L250.3438,108.9688 L250.3438,96.5781 Z \"/><text fill=\"#000000\" font-family=\"sans-serif\" font-size=\"12\" font-style=\"italic\" lengthAdjust=\"spacingAndGlyphs\" textLength=\"40\" x=\"265\" y=\"100.1387\">«part»</text><text fill=\"#000000\" font-family=\"sans-serif\" font-size=\"12\" lengthAdjust=\"spacingAndGlyphs\" textLength=\"22\" x=\"274\" y=\"114.1074\">x: A</text><line style=\"stroke: #A80036; stroke-width: 1.5;\" x1=\"239\" x2=\"305\" y1=\"121.9375\" y2=\"121.9375\"/></a><!--MD5=[1dd1bfd58a279cf63c5f349dbc8fc6a1]\n",
       "class E11--><a href=\"psysml:9cdccab4-e502-4fbe-97eb-9b231d825ffa\" target=\"_top\" title=\"psysml:9cdccab4-e502-4fbe-97eb-9b231d825ffa\" xlink:actuate=\"onRequest\" xlink:href=\"psysml:9cdccab4-e502-4fbe-97eb-9b231d825ffa\" xlink:show=\"new\" xlink:title=\"psysml:9cdccab4-e502-4fbe-97eb-9b231d825ffa\" xlink:type=\"simple\"><rect fill=\"#FEFECE\" filter=\"url(#f84qfw7otag51)\" height=\"45.9375\" id=\"E11\" rx=\"10\" ry=\"10\" style=\"stroke: #A80036; stroke-width: 1.5;\" width=\"68\" x=\"135\" y=\"84\"/><ellipse cx=\"150\" cy=\"102.9688\" fill=\"#32CD32\" rx=\"11\" ry=\"11\" style=\"stroke: #A80036; stroke-width: 1.0;\"/><path d=\"M149.7969,98.6406 L149.7969,102.2656 L150.7969,102.2656 Q152,102.2656 152.4844,101.8594 Q152.9688,101.4531 152.9688,100.4531 Q152.9688,99.4531 152.4844,99.0469 Q152,98.6406 150.7969,98.6406 L149.7969,98.6406 Z M147.3438,96.5781 L150.7031,96.5781 Q153.2656,96.5781 154.3906,97.5 Q155.5156,98.4063 155.5156,100.4531 Q155.5156,102.5 154.3906,103.4219 Q153.2656,104.3281 150.7031,104.3281 L149.7969,104.3281 L149.7969,108.9688 L147.3438,108.9688 L147.3438,96.5781 Z \"/><text fill=\"#000000\" font-family=\"sans-serif\" font-size=\"12\" font-style=\"italic\" lengthAdjust=\"spacingAndGlyphs\" textLength=\"40\" x=\"162\" y=\"100.1387\">«part»</text><text fill=\"#000000\" font-family=\"sans-serif\" font-size=\"12\" lengthAdjust=\"spacingAndGlyphs\" textLength=\"22\" x=\"171\" y=\"114.1074\">y: B</text><line style=\"stroke: #A80036; stroke-width: 1.5;\" x1=\"136\" x2=\"202\" y1=\"121.9375\" y2=\"121.9375\"/></a><!--MD5=[14ccda38c055a5c0da953d572bc50960]\n",
       "link E7 to E3--><a href=\"psysml:84278f38-d400-4655-8657-76a37dd9bb09\" target=\"_top\" title=\"psysml:84278f38-d400-4655-8657-76a37dd9bb09\" xlink:actuate=\"onRequest\" xlink:href=\"psysml:84278f38-d400-4655-8657-76a37dd9bb09\" xlink:show=\"new\" xlink:title=\"psysml:84278f38-d400-4655-8657-76a37dd9bb09\" xlink:type=\"simple\"><path d=\"M499,130.09 C499,145.42 499,166.27 499,184.42 \" fill=\"none\" id=\"E7-&gt;E3\" style=\"stroke: #A80036; stroke-width: 1.0;\"/><polygon fill=\"#FFFFFF\" points=\"499,204.69,492,185.69,506,185.69,499,204.69\" style=\"stroke: #A80036; stroke-width: 1.0;\"/><ellipse cx=\"494\" cy=\"179.99\" fill=\"#A80036\" rx=\"2\" ry=\"2\" style=\"stroke: #A80036; stroke-width: 1.0;\"/><ellipse cx=\"504\" cy=\"179.99\" fill=\"#A80036\" rx=\"2\" ry=\"2\" style=\"stroke: #A80036; stroke-width: 1.0;\"/></a><!--MD5=[1ccb2481ffa92f8d51a74ee30c51832a]\n",
       "link E8 to E5--><a href=\"psysml:9a62fcce-aa5a-49d2-8cac-0b2f538e5bd0\" target=\"_top\" title=\"psysml:9a62fcce-aa5a-49d2-8cac-0b2f538e5bd0\" xlink:actuate=\"onRequest\" xlink:href=\"psysml:9a62fcce-aa5a-49d2-8cac-0b2f538e5bd0\" xlink:show=\"new\" xlink:title=\"psysml:9a62fcce-aa5a-49d2-8cac-0b2f538e5bd0\" xlink:type=\"simple\"><path d=\"M362.27,130.22 C349.82,138.09 335.46,146.77 322,154 C284.18,174.3 239.36,194.36 208.05,207.77 \" fill=\"none\" id=\"E8-&gt;E5\" style=\"stroke: #A80036; stroke-width: 1.0;\"/><polygon fill=\"#FFFFFF\" points=\"189.2,215.73,203.9741,201.8834,209.4261,214.7782,189.2,215.73\" style=\"stroke: #A80036; stroke-width: 1.0;\"/><ellipse cx=\"210.0029\" cy=\"201.5058\" fill=\"#A80036\" rx=\"2\" ry=\"2\" style=\"stroke: #A80036; stroke-width: 1.0;\"/><ellipse cx=\"213.8972\" cy=\"210.7164\" fill=\"#A80036\" rx=\"2\" ry=\"2\" style=\"stroke: #A80036; stroke-width: 1.0;\"/></a><!--MD5=[feeac5eb423634930294aa81f2d25a4c]\n",
       "link E10 to E3--><a href=\"psysml:bd7260c7-b55a-4391-86f8-9493bae3bcdc\" target=\"_top\" title=\"psysml:bd7260c7-b55a-4391-86f8-9493bae3bcdc\" xlink:actuate=\"onRequest\" xlink:href=\"psysml:bd7260c7-b55a-4391-86f8-9493bae3bcdc\" xlink:show=\"new\" xlink:title=\"psysml:bd7260c7-b55a-4391-86f8-9493bae3bcdc\" xlink:type=\"simple\"><path d=\"M305.73,130.22 C318.18,138.09 332.54,146.77 346,154 C383.82,174.3 428.64,194.36 459.95,207.77 \" fill=\"none\" id=\"E10-&gt;E3\" style=\"stroke: #A80036; stroke-width: 1.0;\"/><polygon fill=\"#FFFFFF\" points=\"478.8,215.73,458.5739,214.7782,464.0259,201.8834,478.8,215.73\" style=\"stroke: #A80036; stroke-width: 1.0;\"/><ellipse cx=\"454.1028\" cy=\"210.7164\" fill=\"#A80036\" rx=\"2\" ry=\"2\" style=\"stroke: #A80036; stroke-width: 1.0;\"/><ellipse cx=\"457.9971\" cy=\"201.5058\" fill=\"#A80036\" rx=\"2\" ry=\"2\" style=\"stroke: #A80036; stroke-width: 1.0;\"/></a><!--MD5=[07b77f6f309248d16187045709d1c26e]\n",
       "link E11 to E5--><a href=\"psysml:099d00ce-a154-42ce-865e-6b31b35a0829\" target=\"_top\" title=\"psysml:099d00ce-a154-42ce-865e-6b31b35a0829\" xlink:actuate=\"onRequest\" xlink:href=\"psysml:099d00ce-a154-42ce-865e-6b31b35a0829\" xlink:show=\"new\" xlink:title=\"psysml:099d00ce-a154-42ce-865e-6b31b35a0829\" xlink:type=\"simple\"><path d=\"M169,130.09 C169,145.42 169,166.27 169,184.42 \" fill=\"none\" id=\"E11-&gt;E5\" style=\"stroke: #A80036; stroke-width: 1.0;\"/><polygon fill=\"#FFFFFF\" points=\"169,204.69,162,185.69,176,185.69,169,204.69\" style=\"stroke: #A80036; stroke-width: 1.0;\"/><ellipse cx=\"164\" cy=\"179.99\" fill=\"#A80036\" rx=\"2\" ry=\"2\" style=\"stroke: #A80036; stroke-width: 1.0;\"/><ellipse cx=\"174\" cy=\"179.99\" fill=\"#A80036\" rx=\"2\" ry=\"2\" style=\"stroke: #A80036; stroke-width: 1.0;\"/></a><!--MD5=[39f41a0e550fb3d73b4d8135617e30a2]\n",
       "link E12 to E3--><a href=\"psysml:2e0d72ae-9b36-4ac2-af7e-1d21d87eecf3\" target=\"_top\" title=\"psysml:2e0d72ae-9b36-4ac2-af7e-1d21d87eecf3\" xlink:actuate=\"onRequest\" xlink:href=\"psysml:2e0d72ae-9b36-4ac2-af7e-1d21d87eecf3\" xlink:show=\"new\" xlink:title=\"psysml:2e0d72ae-9b36-4ac2-af7e-1d21d87eecf3\" xlink:type=\"simple\"><path d=\"M582.38,130.09 C567.43,146.94 546.56,170.44 529.44,189.72 \" fill=\"none\" id=\"E12-&gt;E3\" style=\"stroke: #A80036; stroke-width: 1.0;\"/><polygon fill=\"#FFFFFF\" points=\"516.15,204.69,523.5343,185.836,534.0014,195.1334,516.15,204.69\" style=\"stroke: #A80036; stroke-width: 1.0;\"/><ellipse cx=\"528.815\" cy=\"182.9027\" fill=\"#A80036\" rx=\"2\" ry=\"2\" style=\"stroke: #A80036; stroke-width: 1.0;\"/><ellipse cx=\"536.2914\" cy=\"189.5436\" fill=\"#A80036\" rx=\"2\" ry=\"2\" style=\"stroke: #A80036; stroke-width: 1.0;\"/></a><!--MD5=[066b2d8af59fea80ccdb3d54ad5c1091]\n",
       "link E13 to E5--><a href=\"psysml:28c76814-e954-4c97-b716-40e2f6813c6b\" target=\"_top\" title=\"psysml:28c76814-e954-4c97-b716-40e2f6813c6b\" xlink:actuate=\"onRequest\" xlink:href=\"psysml:28c76814-e954-4c97-b716-40e2f6813c6b\" xlink:show=\"new\" xlink:title=\"psysml:28c76814-e954-4c97-b716-40e2f6813c6b\" xlink:type=\"simple\"><path d=\"M85.62,130.09 C100.57,146.94 121.44,170.44 138.56,189.72 \" fill=\"none\" id=\"E13-&gt;E5\" style=\"stroke: #A80036; stroke-width: 1.0;\"/><polygon fill=\"#FFFFFF\" points=\"151.85,204.69,133.9986,195.1334,144.4657,185.836,151.85,204.69\" style=\"stroke: #A80036; stroke-width: 1.0;\"/><ellipse cx=\"131.7086\" cy=\"189.5436\" fill=\"#A80036\" rx=\"2\" ry=\"2\" style=\"stroke: #A80036; stroke-width: 1.0;\"/><ellipse cx=\"139.185\" cy=\"182.9027\" fill=\"#A80036\" rx=\"2\" ry=\"2\" style=\"stroke: #A80036; stroke-width: 1.0;\"/></a><!--MD5=[559083c0fb472d2183a3133336bf53b7]\n",
       "@startuml\r\n",
       " \r\n",
       "package \"CircularImport\" as E1  [[psysml:690cd2ec-4fe7-4d94-89bf-c3d63ed60cd3 ]]  {\r\n",
       "package \"P1\" as E2  [[psysml:54e3154d-4fa4-4c14-a367-edca149a76a1 ]]  {\r\n",
       "comp def \"A\" as E3  << (B,green) >> [[psysml:281245e6-0723-4878-ac57-c406fd778909 ]] {\r\n",
       "}\r\n",
       "}\r\n",
       "package \"P2\" as E4  [[psysml:581c4a9e-fb07-4d80-ac64-c8c7b70027d2 ]]  {\r\n",
       "comp def \"B\" as E5  << (B,green) >> [[psysml:57665928-471f-4095-91e2-d839a960cf78 ]] {\r\n",
       "}\r\n",
       "}\r\n",
       "package \"Test1\" as E6  [[psysml:6bb49afc-ac2c-47b7-b48e-5bd0a62b326b ]]  {\r\n",
       "comp usage \"x: A\" as E7  << (P,limegreen) part>> [[psysml:d6e39b1a-8a39-4c69-85ab-aa8551443e08 ]] {\r\n",
       "}\r\n",
       "comp usage \"y: B\" as E8  << (P,limegreen) part>> [[psysml:ead6e64d-b294-4a2d-a1d8-90d3751f1490 ]] {\r\n",
       "}\r\n",
       "E7 - -:|> E3 [[psysml:84278f38-d400-4655-8657-76a37dd9bb09 ]] \r\n",
       "E8 - -:|> E5 [[psysml:9a62fcce-aa5a-49d2-8cac-0b2f538e5bd0 ]] \r\n",
       "}\r\n",
       "package \"Test2\" as E9  [[psysml:051bf7cb-81b8-4c37-8865-8bb7ea974985 ]]  {\r\n",
       "comp usage \"x: A\" as E10  << (P,limegreen) part>> [[psysml:f3cb1211-10b9-411e-bf19-d5722693e1fe ]] {\r\n",
       "}\r\n",
       "comp usage \"y: B\" as E11  << (P,limegreen) part>> [[psysml:9cdccab4-e502-4fbe-97eb-9b231d825ffa ]] {\r\n",
       "}\r\n",
       "E10 - -:|> E3 [[psysml:bd7260c7-b55a-4391-86f8-9493bae3bcdc ]] \r\n",
       "E11 - -:|> E5 [[psysml:099d00ce-a154-42ce-865e-6b31b35a0829 ]] \r\n",
       "}\r\n",
       "comp usage \"x: A\" as E12  << (P,limegreen) part>> [[psysml:87edab01-bf58-4e9e-abd1-c8b0194f7dca ]] {\r\n",
       "}\r\n",
       "comp usage \"y: B\" as E13  << (P,limegreen) part>> [[psysml:20c5387a-1627-4e14-8312-6f39b31ab3f7 ]] {\r\n",
       "}\r\n",
       "E12 - -:|> E3 [[psysml:2e0d72ae-9b36-4ac2-af7e-1d21d87eecf3 ]] \r\n",
       "E13 - -:|> E5 [[psysml:28c76814-e954-4c97-b716-40e2f6813c6b ]] \r\n",
       "}\r\n",
       "@enduml\r\n",
       "\n",
       "PlantUML version 1.2020.13(Sat Jun 13 12:26:38 UTC 2020)\n",
       "(EPL source distribution)\n",
       "Java Runtime: OpenJDK Runtime Environment\n",
       "JVM: OpenJDK 64-Bit Server VM\n",
       "Default Encoding: UTF-8\n",
       "Language: en\n",
       "Country: null\n",
       "--></g></svg>"
      ]
     },
     "execution_count": 30,
     "metadata": {},
     "output_type": "execute_result"
    }
   ],
   "source": [
    "%viz --style=\"PLANTUML\" --view=\"Default\" \"CircularImport\""
   ]
  },
  {
   "cell_type": "code",
   "execution_count": 31,
   "id": "453e6c89",
   "metadata": {
    "execution": {
     "iopub.execute_input": "2021-04-20T06:57:54.006334Z",
     "iopub.status.busy": "2021-04-20T06:57:54.005845Z",
     "iopub.status.idle": "2021-04-20T06:57:54.051127Z",
     "shell.execute_reply": "2021-04-20T06:57:54.050845Z"
    }
   },
   "outputs": [
    {
     "data": {
      "image/svg+xml": [
       "<?xml version=\"1.0\" encoding=\"UTF-8\" standalone=\"no\"?><svg xmlns=\"http://www.w3.org/2000/svg\" xmlns:xlink=\"http://www.w3.org/1999/xlink\" contentScriptType=\"application/ecmascript\" contentStyleType=\"text/css\" height=\"297px\" preserveAspectRatio=\"none\" style=\"width:674px;height:297px;\" version=\"1.1\" viewBox=\"0 0 674 297\" width=\"674px\" zoomAndPan=\"magnify\"><defs><filter height=\"300%\" id=\"f84qfw7otag51\" width=\"300%\" x=\"-1\" y=\"-1\"><feGaussianBlur result=\"blurOut\" stdDeviation=\"2.0\"/><feColorMatrix in=\"blurOut\" result=\"blurOut2\" type=\"matrix\" values=\"0 0 0 0 0 0 0 0 0 0 0 0 0 0 0 0 0 0 .4 0\"/><feOffset dx=\"4.0\" dy=\"4.0\" in=\"blurOut2\" result=\"blurOut3\"/><feBlend in=\"SourceGraphic\" in2=\"blurOut3\" mode=\"normal\"/></filter></defs><g><!--MD5=[fbc87193dbaf4d95561dea2c320d4a47]\n",
       "cluster E1--><a href=\"psysml:690cd2ec-4fe7-4d94-89bf-c3d63ed60cd3\" target=\"_top\" title=\"psysml:690cd2ec-4fe7-4d94-89bf-c3d63ed60cd3\" xlink:actuate=\"onRequest\" xlink:href=\"psysml:690cd2ec-4fe7-4d94-89bf-c3d63ed60cd3\" xlink:show=\"new\" xlink:title=\"psysml:690cd2ec-4fe7-4d94-89bf-c3d63ed60cd3\" xlink:type=\"simple\"><polygon fill=\"#FFFFFF\" filter=\"url(#f84qfw7otag51)\" points=\"16,6,134,6,141,28.2969,652,28.2969,652,285,16,285,16,6\" style=\"stroke: #000000; stroke-width: 1.5;\"/><line style=\"stroke: #000000; stroke-width: 1.5;\" x1=\"16\" x2=\"141\" y1=\"28.2969\" y2=\"28.2969\"/><text fill=\"#000000\" font-family=\"sans-serif\" font-size=\"14\" font-weight=\"bold\" lengthAdjust=\"spacingAndGlyphs\" textLength=\"112\" x=\"20\" y=\"20.9951\">CircularImport</text></a><!--MD5=[e4f7fae6ed58524ba242bb0b0d3be6b7]\n",
       "cluster E2--><a href=\"psysml:54e3154d-4fa4-4c14-a367-edca149a76a1\" target=\"_top\" title=\"psysml:54e3154d-4fa4-4c14-a367-edca149a76a1\" xlink:actuate=\"onRequest\" xlink:href=\"psysml:54e3154d-4fa4-4c14-a367-edca149a76a1\" xlink:show=\"new\" xlink:title=\"psysml:54e3154d-4fa4-4c14-a367-edca149a76a1\" xlink:type=\"simple\"><polygon fill=\"#FFFFFF\" filter=\"url(#f84qfw7otag51)\" points=\"463,170,489,170,496,192.2969,535,192.2969,535,261,463,261,463,170\" style=\"stroke: #000000; stroke-width: 1.5;\"/><line style=\"stroke: #000000; stroke-width: 1.5;\" x1=\"463\" x2=\"496\" y1=\"192.2969\" y2=\"192.2969\"/><text fill=\"#000000\" font-family=\"sans-serif\" font-size=\"14\" font-weight=\"bold\" lengthAdjust=\"spacingAndGlyphs\" textLength=\"20\" x=\"467\" y=\"184.9951\">P1</text></a><!--MD5=[f6df4d0ebaf0b5dfb2ced0ae5af7c670]\n",
       "cluster E4--><a href=\"psysml:581c4a9e-fb07-4d80-ac64-c8c7b70027d2\" target=\"_top\" title=\"psysml:581c4a9e-fb07-4d80-ac64-c8c7b70027d2\" xlink:actuate=\"onRequest\" xlink:href=\"psysml:581c4a9e-fb07-4d80-ac64-c8c7b70027d2\" xlink:show=\"new\" xlink:title=\"psysml:581c4a9e-fb07-4d80-ac64-c8c7b70027d2\" xlink:type=\"simple\"><polygon fill=\"#FFFFFF\" filter=\"url(#f84qfw7otag51)\" points=\"133,170,159,170,166,192.2969,205,192.2969,205,261,133,261,133,170\" style=\"stroke: #000000; stroke-width: 1.5;\"/><line style=\"stroke: #000000; stroke-width: 1.5;\" x1=\"133\" x2=\"166\" y1=\"192.2969\" y2=\"192.2969\"/><text fill=\"#000000\" font-family=\"sans-serif\" font-size=\"14\" font-weight=\"bold\" lengthAdjust=\"spacingAndGlyphs\" textLength=\"20\" x=\"137\" y=\"184.9951\">P2</text></a><!--MD5=[14e3b0961a2654348d326746436168a1]\n",
       "cluster E6--><a href=\"psysml:6bb49afc-ac2c-47b7-b48e-5bd0a62b326b\" target=\"_top\" title=\"psysml:6bb49afc-ac2c-47b7-b48e-5bd0a62b326b\" xlink:actuate=\"onRequest\" xlink:href=\"psysml:6bb49afc-ac2c-47b7-b48e-5bd0a62b326b\" xlink:show=\"new\" xlink:title=\"psysml:6bb49afc-ac2c-47b7-b48e-5bd0a62b326b\" xlink:type=\"simple\"><polygon fill=\"#FFFFFF\" filter=\"url(#f84qfw7otag51)\" points=\"346,49,397,49,404,71.2969,549,71.2969,549,146,346,146,346,49\" style=\"stroke: #000000; stroke-width: 1.5;\"/><line style=\"stroke: #000000; stroke-width: 1.5;\" x1=\"346\" x2=\"404\" y1=\"71.2969\" y2=\"71.2969\"/><text fill=\"#000000\" font-family=\"sans-serif\" font-size=\"14\" font-weight=\"bold\" lengthAdjust=\"spacingAndGlyphs\" textLength=\"45\" x=\"350\" y=\"63.9951\">Test1</text></a><!--MD5=[7f149f147074ac12df2cb0a7728a5fb0]\n",
       "cluster E9--><a href=\"psysml:051bf7cb-81b8-4c37-8865-8bb7ea974985\" target=\"_top\" title=\"psysml:051bf7cb-81b8-4c37-8865-8bb7ea974985\" xlink:actuate=\"onRequest\" xlink:href=\"psysml:051bf7cb-81b8-4c37-8865-8bb7ea974985\" xlink:show=\"new\" xlink:title=\"psysml:051bf7cb-81b8-4c37-8865-8bb7ea974985\" xlink:type=\"simple\"><polygon fill=\"#FFFFFF\" filter=\"url(#f84qfw7otag51)\" points=\"119,49,170,49,177,71.2969,322,71.2969,322,146,119,146,119,49\" style=\"stroke: #000000; stroke-width: 1.5;\"/><line style=\"stroke: #000000; stroke-width: 1.5;\" x1=\"119\" x2=\"177\" y1=\"71.2969\" y2=\"71.2969\"/><text fill=\"#000000\" font-family=\"sans-serif\" font-size=\"14\" font-weight=\"bold\" lengthAdjust=\"spacingAndGlyphs\" textLength=\"45\" x=\"123\" y=\"63.9951\">Test2</text></a><!--MD5=[49a0ec8f00dab7302a31f22d0f0fe584]\n",
       "class E12--><a href=\"psysml:87edab01-bf58-4e9e-abd1-c8b0194f7dca\" target=\"_top\" title=\"psysml:87edab01-bf58-4e9e-abd1-c8b0194f7dca\" xlink:actuate=\"onRequest\" xlink:href=\"psysml:87edab01-bf58-4e9e-abd1-c8b0194f7dca\" xlink:show=\"new\" xlink:title=\"psysml:87edab01-bf58-4e9e-abd1-c8b0194f7dca\" xlink:type=\"simple\"><rect fill=\"#FEFECE\" filter=\"url(#f84qfw7otag51)\" height=\"45.9375\" id=\"E12\" rx=\"10\" ry=\"10\" style=\"stroke: #A80036; stroke-width: 1.5;\" width=\"68\" x=\"568\" y=\"84\"/><ellipse cx=\"583\" cy=\"102.9688\" fill=\"#32CD32\" rx=\"11\" ry=\"11\" style=\"stroke: #A80036; stroke-width: 1.0;\"/><path d=\"M582.7969,98.6406 L582.7969,102.2656 L583.7969,102.2656 Q585,102.2656 585.4844,101.8594 Q585.9688,101.4531 585.9688,100.4531 Q585.9688,99.4531 585.4844,99.0469 Q585,98.6406 583.7969,98.6406 L582.7969,98.6406 Z M580.3438,96.5781 L583.7031,96.5781 Q586.2656,96.5781 587.3906,97.5 Q588.5156,98.4063 588.5156,100.4531 Q588.5156,102.5 587.3906,103.4219 Q586.2656,104.3281 583.7031,104.3281 L582.7969,104.3281 L582.7969,108.9688 L580.3438,108.9688 L580.3438,96.5781 Z \"/><text fill=\"#000000\" font-family=\"sans-serif\" font-size=\"12\" font-style=\"italic\" lengthAdjust=\"spacingAndGlyphs\" textLength=\"40\" x=\"595\" y=\"100.1387\">«part»</text><text fill=\"#000000\" font-family=\"sans-serif\" font-size=\"12\" lengthAdjust=\"spacingAndGlyphs\" textLength=\"22\" x=\"604\" y=\"114.1074\">x: A</text><line style=\"stroke: #A80036; stroke-width: 1.5;\" x1=\"569\" x2=\"635\" y1=\"121.9375\" y2=\"121.9375\"/></a><!--MD5=[ee3c913d1a06f366521f9ef512b67efe]\n",
       "class E13--><a href=\"psysml:20c5387a-1627-4e14-8312-6f39b31ab3f7\" target=\"_top\" title=\"psysml:20c5387a-1627-4e14-8312-6f39b31ab3f7\" xlink:actuate=\"onRequest\" xlink:href=\"psysml:20c5387a-1627-4e14-8312-6f39b31ab3f7\" xlink:show=\"new\" xlink:title=\"psysml:20c5387a-1627-4e14-8312-6f39b31ab3f7\" xlink:type=\"simple\"><rect fill=\"#FEFECE\" filter=\"url(#f84qfw7otag51)\" height=\"45.9375\" id=\"E13\" rx=\"10\" ry=\"10\" style=\"stroke: #A80036; stroke-width: 1.5;\" width=\"68\" x=\"32\" y=\"84\"/><ellipse cx=\"47\" cy=\"102.9688\" fill=\"#32CD32\" rx=\"11\" ry=\"11\" style=\"stroke: #A80036; stroke-width: 1.0;\"/><path d=\"M46.7969,98.6406 L46.7969,102.2656 L47.7969,102.2656 Q49,102.2656 49.4844,101.8594 Q49.9688,101.4531 49.9688,100.4531 Q49.9688,99.4531 49.4844,99.0469 Q49,98.6406 47.7969,98.6406 L46.7969,98.6406 Z M44.3438,96.5781 L47.7031,96.5781 Q50.2656,96.5781 51.3906,97.5 Q52.5156,98.4063 52.5156,100.4531 Q52.5156,102.5 51.3906,103.4219 Q50.2656,104.3281 47.7031,104.3281 L46.7969,104.3281 L46.7969,108.9688 L44.3438,108.9688 L44.3438,96.5781 Z \"/><text fill=\"#000000\" font-family=\"sans-serif\" font-size=\"12\" font-style=\"italic\" lengthAdjust=\"spacingAndGlyphs\" textLength=\"40\" x=\"59\" y=\"100.1387\">«part»</text><text fill=\"#000000\" font-family=\"sans-serif\" font-size=\"12\" lengthAdjust=\"spacingAndGlyphs\" textLength=\"22\" x=\"68\" y=\"114.1074\">y: B</text><line style=\"stroke: #A80036; stroke-width: 1.5;\" x1=\"33\" x2=\"99\" y1=\"121.9375\" y2=\"121.9375\"/></a><!--MD5=[09b614a08d8cba4a07c9adeb5e0fee81]\n",
       "class E3--><a href=\"psysml:281245e6-0723-4878-ac57-c406fd778909\" target=\"_top\" title=\"psysml:281245e6-0723-4878-ac57-c406fd778909\" xlink:actuate=\"onRequest\" xlink:href=\"psysml:281245e6-0723-4878-ac57-c406fd778909\" xlink:show=\"new\" xlink:title=\"psysml:281245e6-0723-4878-ac57-c406fd778909\" xlink:type=\"simple\"><rect fill=\"#FEFECE\" filter=\"url(#f84qfw7otag51)\" height=\"40\" id=\"E3\" style=\"stroke: #A80036; stroke-width: 1.5;\" width=\"40\" x=\"479\" y=\"205\"/><ellipse cx=\"494\" cy=\"221\" fill=\"#008000\" rx=\"11\" ry=\"11\" style=\"stroke: #A80036; stroke-width: 1.0;\"/><path d=\"M492.9063,221.375 L492.9063,225.0469 L494.5313,225.0469 Q495.7031,225.0469 496.1719,224.6563 Q496.6406,224.25 496.6406,223.25 Q496.6406,222.25 496.1406,221.8125 Q495.6563,221.375 494.5313,221.375 L492.9063,221.375 Z M492.9063,216.5469 L492.9063,219.4219 L494.5313,219.4219 Q495.4531,219.4219 495.8438,219.0938 Q496.25,218.75 496.25,218 Q496.25,217.2344 495.8438,216.8906 Q495.4375,216.5469 494.5313,216.5469 L492.9063,216.5469 Z M490.5313,214.5938 L494.5313,214.5938 Q496.5938,214.5938 497.6406,215.375 Q498.6875,216.1563 498.6875,217.7188 Q498.6875,218.9219 498.0625,219.5938 Q497.4531,220.2656 496.2656,220.375 Q497.6875,220.5156 498.4063,221.3281 Q499.125,222.1406 499.125,223.5938 Q499.125,225.3906 498.0469,226.2031 Q496.9688,227 494.5313,227 L490.5313,227 L490.5313,214.5938 Z \"/><text fill=\"#000000\" font-family=\"sans-serif\" font-size=\"12\" lengthAdjust=\"spacingAndGlyphs\" textLength=\"8\" x=\"508\" y=\"225.1543\">A</text><line style=\"stroke: #A80036; stroke-width: 1.5;\" x1=\"480\" x2=\"518\" y1=\"237\" y2=\"237\"/></a><!--MD5=[270fce915f116d4de14055a7c1d9a0f3]\n",
       "class E5--><a href=\"psysml:57665928-471f-4095-91e2-d839a960cf78\" target=\"_top\" title=\"psysml:57665928-471f-4095-91e2-d839a960cf78\" xlink:actuate=\"onRequest\" xlink:href=\"psysml:57665928-471f-4095-91e2-d839a960cf78\" xlink:show=\"new\" xlink:title=\"psysml:57665928-471f-4095-91e2-d839a960cf78\" xlink:type=\"simple\"><rect fill=\"#FEFECE\" filter=\"url(#f84qfw7otag51)\" height=\"40\" id=\"E5\" style=\"stroke: #A80036; stroke-width: 1.5;\" width=\"40\" x=\"149\" y=\"205\"/><ellipse cx=\"164\" cy=\"221\" fill=\"#008000\" rx=\"11\" ry=\"11\" style=\"stroke: #A80036; stroke-width: 1.0;\"/><path d=\"M162.9063,221.375 L162.9063,225.0469 L164.5313,225.0469 Q165.7031,225.0469 166.1719,224.6563 Q166.6406,224.25 166.6406,223.25 Q166.6406,222.25 166.1406,221.8125 Q165.6563,221.375 164.5313,221.375 L162.9063,221.375 Z M162.9063,216.5469 L162.9063,219.4219 L164.5313,219.4219 Q165.4531,219.4219 165.8438,219.0938 Q166.25,218.75 166.25,218 Q166.25,217.2344 165.8438,216.8906 Q165.4375,216.5469 164.5313,216.5469 L162.9063,216.5469 Z M160.5313,214.5938 L164.5313,214.5938 Q166.5938,214.5938 167.6406,215.375 Q168.6875,216.1563 168.6875,217.7188 Q168.6875,218.9219 168.0625,219.5938 Q167.4531,220.2656 166.2656,220.375 Q167.6875,220.5156 168.4063,221.3281 Q169.125,222.1406 169.125,223.5938 Q169.125,225.3906 168.0469,226.2031 Q166.9688,227 164.5313,227 L160.5313,227 L160.5313,214.5938 Z \"/><text fill=\"#000000\" font-family=\"sans-serif\" font-size=\"12\" lengthAdjust=\"spacingAndGlyphs\" textLength=\"8\" x=\"178\" y=\"225.1543\">B</text><line style=\"stroke: #A80036; stroke-width: 1.5;\" x1=\"150\" x2=\"188\" y1=\"237\" y2=\"237\"/></a><!--MD5=[2156ba9850f5573cc1fc38a6a4b2f02b]\n",
       "class E7--><a href=\"psysml:d6e39b1a-8a39-4c69-85ab-aa8551443e08\" target=\"_top\" title=\"psysml:d6e39b1a-8a39-4c69-85ab-aa8551443e08\" xlink:actuate=\"onRequest\" xlink:href=\"psysml:d6e39b1a-8a39-4c69-85ab-aa8551443e08\" xlink:show=\"new\" xlink:title=\"psysml:d6e39b1a-8a39-4c69-85ab-aa8551443e08\" xlink:type=\"simple\"><rect fill=\"#FEFECE\" filter=\"url(#f84qfw7otag51)\" height=\"45.9375\" id=\"E7\" rx=\"10\" ry=\"10\" style=\"stroke: #A80036; stroke-width: 1.5;\" width=\"68\" x=\"465\" y=\"84\"/><ellipse cx=\"480\" cy=\"102.9688\" fill=\"#32CD32\" rx=\"11\" ry=\"11\" style=\"stroke: #A80036; stroke-width: 1.0;\"/><path d=\"M479.7969,98.6406 L479.7969,102.2656 L480.7969,102.2656 Q482,102.2656 482.4844,101.8594 Q482.9688,101.4531 482.9688,100.4531 Q482.9688,99.4531 482.4844,99.0469 Q482,98.6406 480.7969,98.6406 L479.7969,98.6406 Z M477.3438,96.5781 L480.7031,96.5781 Q483.2656,96.5781 484.3906,97.5 Q485.5156,98.4063 485.5156,100.4531 Q485.5156,102.5 484.3906,103.4219 Q483.2656,104.3281 480.7031,104.3281 L479.7969,104.3281 L479.7969,108.9688 L477.3438,108.9688 L477.3438,96.5781 Z \"/><text fill=\"#000000\" font-family=\"sans-serif\" font-size=\"12\" font-style=\"italic\" lengthAdjust=\"spacingAndGlyphs\" textLength=\"40\" x=\"492\" y=\"100.1387\">«part»</text><text fill=\"#000000\" font-family=\"sans-serif\" font-size=\"12\" lengthAdjust=\"spacingAndGlyphs\" textLength=\"22\" x=\"501\" y=\"114.1074\">x: A</text><line style=\"stroke: #A80036; stroke-width: 1.5;\" x1=\"466\" x2=\"532\" y1=\"121.9375\" y2=\"121.9375\"/></a><!--MD5=[b9389687b975829384b498ac4b7476b2]\n",
       "class E8--><a href=\"psysml:ead6e64d-b294-4a2d-a1d8-90d3751f1490\" target=\"_top\" title=\"psysml:ead6e64d-b294-4a2d-a1d8-90d3751f1490\" xlink:actuate=\"onRequest\" xlink:href=\"psysml:ead6e64d-b294-4a2d-a1d8-90d3751f1490\" xlink:show=\"new\" xlink:title=\"psysml:ead6e64d-b294-4a2d-a1d8-90d3751f1490\" xlink:type=\"simple\"><rect fill=\"#FEFECE\" filter=\"url(#f84qfw7otag51)\" height=\"45.9375\" id=\"E8\" rx=\"10\" ry=\"10\" style=\"stroke: #A80036; stroke-width: 1.5;\" width=\"68\" x=\"362\" y=\"84\"/><ellipse cx=\"377\" cy=\"102.9688\" fill=\"#32CD32\" rx=\"11\" ry=\"11\" style=\"stroke: #A80036; stroke-width: 1.0;\"/><path d=\"M376.7969,98.6406 L376.7969,102.2656 L377.7969,102.2656 Q379,102.2656 379.4844,101.8594 Q379.9688,101.4531 379.9688,100.4531 Q379.9688,99.4531 379.4844,99.0469 Q379,98.6406 377.7969,98.6406 L376.7969,98.6406 Z M374.3438,96.5781 L377.7031,96.5781 Q380.2656,96.5781 381.3906,97.5 Q382.5156,98.4063 382.5156,100.4531 Q382.5156,102.5 381.3906,103.4219 Q380.2656,104.3281 377.7031,104.3281 L376.7969,104.3281 L376.7969,108.9688 L374.3438,108.9688 L374.3438,96.5781 Z \"/><text fill=\"#000000\" font-family=\"sans-serif\" font-size=\"12\" font-style=\"italic\" lengthAdjust=\"spacingAndGlyphs\" textLength=\"40\" x=\"389\" y=\"100.1387\">«part»</text><text fill=\"#000000\" font-family=\"sans-serif\" font-size=\"12\" lengthAdjust=\"spacingAndGlyphs\" textLength=\"22\" x=\"398\" y=\"114.1074\">y: B</text><line style=\"stroke: #A80036; stroke-width: 1.5;\" x1=\"363\" x2=\"429\" y1=\"121.9375\" y2=\"121.9375\"/></a><!--MD5=[96f4274e9e20536e775497830990834d]\n",
       "class E10--><a href=\"psysml:f3cb1211-10b9-411e-bf19-d5722693e1fe\" target=\"_top\" title=\"psysml:f3cb1211-10b9-411e-bf19-d5722693e1fe\" xlink:actuate=\"onRequest\" xlink:href=\"psysml:f3cb1211-10b9-411e-bf19-d5722693e1fe\" xlink:show=\"new\" xlink:title=\"psysml:f3cb1211-10b9-411e-bf19-d5722693e1fe\" xlink:type=\"simple\"><rect fill=\"#FEFECE\" filter=\"url(#f84qfw7otag51)\" height=\"45.9375\" id=\"E10\" rx=\"10\" ry=\"10\" style=\"stroke: #A80036; stroke-width: 1.5;\" width=\"68\" x=\"238\" y=\"84\"/><ellipse cx=\"253\" cy=\"102.9688\" fill=\"#32CD32\" rx=\"11\" ry=\"11\" style=\"stroke: #A80036; stroke-width: 1.0;\"/><path d=\"M252.7969,98.6406 L252.7969,102.2656 L253.7969,102.2656 Q255,102.2656 255.4844,101.8594 Q255.9688,101.4531 255.9688,100.4531 Q255.9688,99.4531 255.4844,99.0469 Q255,98.6406 253.7969,98.6406 L252.7969,98.6406 Z M250.3438,96.5781 L253.7031,96.5781 Q256.2656,96.5781 257.3906,97.5 Q258.5156,98.4063 258.5156,100.4531 Q258.5156,102.5 257.3906,103.4219 Q256.2656,104.3281 253.7031,104.3281 L252.7969,104.3281 L252.7969,108.9688 L250.3438,108.9688 L250.3438,96.5781 Z \"/><text fill=\"#000000\" font-family=\"sans-serif\" font-size=\"12\" font-style=\"italic\" lengthAdjust=\"spacingAndGlyphs\" textLength=\"40\" x=\"265\" y=\"100.1387\">«part»</text><text fill=\"#000000\" font-family=\"sans-serif\" font-size=\"12\" lengthAdjust=\"spacingAndGlyphs\" textLength=\"22\" x=\"274\" y=\"114.1074\">x: A</text><line style=\"stroke: #A80036; stroke-width: 1.5;\" x1=\"239\" x2=\"305\" y1=\"121.9375\" y2=\"121.9375\"/></a><!--MD5=[1dd1bfd58a279cf63c5f349dbc8fc6a1]\n",
       "class E11--><a href=\"psysml:9cdccab4-e502-4fbe-97eb-9b231d825ffa\" target=\"_top\" title=\"psysml:9cdccab4-e502-4fbe-97eb-9b231d825ffa\" xlink:actuate=\"onRequest\" xlink:href=\"psysml:9cdccab4-e502-4fbe-97eb-9b231d825ffa\" xlink:show=\"new\" xlink:title=\"psysml:9cdccab4-e502-4fbe-97eb-9b231d825ffa\" xlink:type=\"simple\"><rect fill=\"#FEFECE\" filter=\"url(#f84qfw7otag51)\" height=\"45.9375\" id=\"E11\" rx=\"10\" ry=\"10\" style=\"stroke: #A80036; stroke-width: 1.5;\" width=\"68\" x=\"135\" y=\"84\"/><ellipse cx=\"150\" cy=\"102.9688\" fill=\"#32CD32\" rx=\"11\" ry=\"11\" style=\"stroke: #A80036; stroke-width: 1.0;\"/><path d=\"M149.7969,98.6406 L149.7969,102.2656 L150.7969,102.2656 Q152,102.2656 152.4844,101.8594 Q152.9688,101.4531 152.9688,100.4531 Q152.9688,99.4531 152.4844,99.0469 Q152,98.6406 150.7969,98.6406 L149.7969,98.6406 Z M147.3438,96.5781 L150.7031,96.5781 Q153.2656,96.5781 154.3906,97.5 Q155.5156,98.4063 155.5156,100.4531 Q155.5156,102.5 154.3906,103.4219 Q153.2656,104.3281 150.7031,104.3281 L149.7969,104.3281 L149.7969,108.9688 L147.3438,108.9688 L147.3438,96.5781 Z \"/><text fill=\"#000000\" font-family=\"sans-serif\" font-size=\"12\" font-style=\"italic\" lengthAdjust=\"spacingAndGlyphs\" textLength=\"40\" x=\"162\" y=\"100.1387\">«part»</text><text fill=\"#000000\" font-family=\"sans-serif\" font-size=\"12\" lengthAdjust=\"spacingAndGlyphs\" textLength=\"22\" x=\"171\" y=\"114.1074\">y: B</text><line style=\"stroke: #A80036; stroke-width: 1.5;\" x1=\"136\" x2=\"202\" y1=\"121.9375\" y2=\"121.9375\"/></a><!--MD5=[14ccda38c055a5c0da953d572bc50960]\n",
       "link E7 to E3--><a href=\"psysml:84278f38-d400-4655-8657-76a37dd9bb09\" target=\"_top\" title=\"psysml:84278f38-d400-4655-8657-76a37dd9bb09\" xlink:actuate=\"onRequest\" xlink:href=\"psysml:84278f38-d400-4655-8657-76a37dd9bb09\" xlink:show=\"new\" xlink:title=\"psysml:84278f38-d400-4655-8657-76a37dd9bb09\" xlink:type=\"simple\"><path d=\"M499,130.09 C499,145.42 499,166.27 499,184.42 \" fill=\"none\" id=\"E7-&gt;E3\" style=\"stroke: #A80036; stroke-width: 1.0;\"/><polygon fill=\"#FFFFFF\" points=\"499,204.69,492,185.69,506,185.69,499,204.69\" style=\"stroke: #A80036; stroke-width: 1.0;\"/><ellipse cx=\"494\" cy=\"179.99\" fill=\"#A80036\" rx=\"2\" ry=\"2\" style=\"stroke: #A80036; stroke-width: 1.0;\"/><ellipse cx=\"504\" cy=\"179.99\" fill=\"#A80036\" rx=\"2\" ry=\"2\" style=\"stroke: #A80036; stroke-width: 1.0;\"/></a><!--MD5=[1ccb2481ffa92f8d51a74ee30c51832a]\n",
       "link E8 to E5--><a href=\"psysml:9a62fcce-aa5a-49d2-8cac-0b2f538e5bd0\" target=\"_top\" title=\"psysml:9a62fcce-aa5a-49d2-8cac-0b2f538e5bd0\" xlink:actuate=\"onRequest\" xlink:href=\"psysml:9a62fcce-aa5a-49d2-8cac-0b2f538e5bd0\" xlink:show=\"new\" xlink:title=\"psysml:9a62fcce-aa5a-49d2-8cac-0b2f538e5bd0\" xlink:type=\"simple\"><path d=\"M362.27,130.22 C349.82,138.09 335.46,146.77 322,154 C284.18,174.3 239.36,194.36 208.05,207.77 \" fill=\"none\" id=\"E8-&gt;E5\" style=\"stroke: #A80036; stroke-width: 1.0;\"/><polygon fill=\"#FFFFFF\" points=\"189.2,215.73,203.9741,201.8834,209.4261,214.7782,189.2,215.73\" style=\"stroke: #A80036; stroke-width: 1.0;\"/><ellipse cx=\"210.0029\" cy=\"201.5058\" fill=\"#A80036\" rx=\"2\" ry=\"2\" style=\"stroke: #A80036; stroke-width: 1.0;\"/><ellipse cx=\"213.8972\" cy=\"210.7164\" fill=\"#A80036\" rx=\"2\" ry=\"2\" style=\"stroke: #A80036; stroke-width: 1.0;\"/></a><!--MD5=[feeac5eb423634930294aa81f2d25a4c]\n",
       "link E10 to E3--><a href=\"psysml:bd7260c7-b55a-4391-86f8-9493bae3bcdc\" target=\"_top\" title=\"psysml:bd7260c7-b55a-4391-86f8-9493bae3bcdc\" xlink:actuate=\"onRequest\" xlink:href=\"psysml:bd7260c7-b55a-4391-86f8-9493bae3bcdc\" xlink:show=\"new\" xlink:title=\"psysml:bd7260c7-b55a-4391-86f8-9493bae3bcdc\" xlink:type=\"simple\"><path d=\"M305.73,130.22 C318.18,138.09 332.54,146.77 346,154 C383.82,174.3 428.64,194.36 459.95,207.77 \" fill=\"none\" id=\"E10-&gt;E3\" style=\"stroke: #A80036; stroke-width: 1.0;\"/><polygon fill=\"#FFFFFF\" points=\"478.8,215.73,458.5739,214.7782,464.0259,201.8834,478.8,215.73\" style=\"stroke: #A80036; stroke-width: 1.0;\"/><ellipse cx=\"454.1028\" cy=\"210.7164\" fill=\"#A80036\" rx=\"2\" ry=\"2\" style=\"stroke: #A80036; stroke-width: 1.0;\"/><ellipse cx=\"457.9971\" cy=\"201.5058\" fill=\"#A80036\" rx=\"2\" ry=\"2\" style=\"stroke: #A80036; stroke-width: 1.0;\"/></a><!--MD5=[07b77f6f309248d16187045709d1c26e]\n",
       "link E11 to E5--><a href=\"psysml:099d00ce-a154-42ce-865e-6b31b35a0829\" target=\"_top\" title=\"psysml:099d00ce-a154-42ce-865e-6b31b35a0829\" xlink:actuate=\"onRequest\" xlink:href=\"psysml:099d00ce-a154-42ce-865e-6b31b35a0829\" xlink:show=\"new\" xlink:title=\"psysml:099d00ce-a154-42ce-865e-6b31b35a0829\" xlink:type=\"simple\"><path d=\"M169,130.09 C169,145.42 169,166.27 169,184.42 \" fill=\"none\" id=\"E11-&gt;E5\" style=\"stroke: #A80036; stroke-width: 1.0;\"/><polygon fill=\"#FFFFFF\" points=\"169,204.69,162,185.69,176,185.69,169,204.69\" style=\"stroke: #A80036; stroke-width: 1.0;\"/><ellipse cx=\"164\" cy=\"179.99\" fill=\"#A80036\" rx=\"2\" ry=\"2\" style=\"stroke: #A80036; stroke-width: 1.0;\"/><ellipse cx=\"174\" cy=\"179.99\" fill=\"#A80036\" rx=\"2\" ry=\"2\" style=\"stroke: #A80036; stroke-width: 1.0;\"/></a><!--MD5=[39f41a0e550fb3d73b4d8135617e30a2]\n",
       "link E12 to E3--><a href=\"psysml:2e0d72ae-9b36-4ac2-af7e-1d21d87eecf3\" target=\"_top\" title=\"psysml:2e0d72ae-9b36-4ac2-af7e-1d21d87eecf3\" xlink:actuate=\"onRequest\" xlink:href=\"psysml:2e0d72ae-9b36-4ac2-af7e-1d21d87eecf3\" xlink:show=\"new\" xlink:title=\"psysml:2e0d72ae-9b36-4ac2-af7e-1d21d87eecf3\" xlink:type=\"simple\"><path d=\"M582.38,130.09 C567.43,146.94 546.56,170.44 529.44,189.72 \" fill=\"none\" id=\"E12-&gt;E3\" style=\"stroke: #A80036; stroke-width: 1.0;\"/><polygon fill=\"#FFFFFF\" points=\"516.15,204.69,523.5343,185.836,534.0014,195.1334,516.15,204.69\" style=\"stroke: #A80036; stroke-width: 1.0;\"/><ellipse cx=\"528.815\" cy=\"182.9027\" fill=\"#A80036\" rx=\"2\" ry=\"2\" style=\"stroke: #A80036; stroke-width: 1.0;\"/><ellipse cx=\"536.2914\" cy=\"189.5436\" fill=\"#A80036\" rx=\"2\" ry=\"2\" style=\"stroke: #A80036; stroke-width: 1.0;\"/></a><!--MD5=[066b2d8af59fea80ccdb3d54ad5c1091]\n",
       "link E13 to E5--><a href=\"psysml:28c76814-e954-4c97-b716-40e2f6813c6b\" target=\"_top\" title=\"psysml:28c76814-e954-4c97-b716-40e2f6813c6b\" xlink:actuate=\"onRequest\" xlink:href=\"psysml:28c76814-e954-4c97-b716-40e2f6813c6b\" xlink:show=\"new\" xlink:title=\"psysml:28c76814-e954-4c97-b716-40e2f6813c6b\" xlink:type=\"simple\"><path d=\"M85.62,130.09 C100.57,146.94 121.44,170.44 138.56,189.72 \" fill=\"none\" id=\"E13-&gt;E5\" style=\"stroke: #A80036; stroke-width: 1.0;\"/><polygon fill=\"#FFFFFF\" points=\"151.85,204.69,133.9986,195.1334,144.4657,185.836,151.85,204.69\" style=\"stroke: #A80036; stroke-width: 1.0;\"/><ellipse cx=\"131.7086\" cy=\"189.5436\" fill=\"#A80036\" rx=\"2\" ry=\"2\" style=\"stroke: #A80036; stroke-width: 1.0;\"/><ellipse cx=\"139.185\" cy=\"182.9027\" fill=\"#A80036\" rx=\"2\" ry=\"2\" style=\"stroke: #A80036; stroke-width: 1.0;\"/></a><!--MD5=[559083c0fb472d2183a3133336bf53b7]\n",
       "@startuml\r\n",
       " \r\n",
       "package \"CircularImport\" as E1  [[psysml:690cd2ec-4fe7-4d94-89bf-c3d63ed60cd3 ]]  {\r\n",
       "package \"P1\" as E2  [[psysml:54e3154d-4fa4-4c14-a367-edca149a76a1 ]]  {\r\n",
       "comp def \"A\" as E3  << (B,green) >> [[psysml:281245e6-0723-4878-ac57-c406fd778909 ]] {\r\n",
       "}\r\n",
       "}\r\n",
       "package \"P2\" as E4  [[psysml:581c4a9e-fb07-4d80-ac64-c8c7b70027d2 ]]  {\r\n",
       "comp def \"B\" as E5  << (B,green) >> [[psysml:57665928-471f-4095-91e2-d839a960cf78 ]] {\r\n",
       "}\r\n",
       "}\r\n",
       "package \"Test1\" as E6  [[psysml:6bb49afc-ac2c-47b7-b48e-5bd0a62b326b ]]  {\r\n",
       "comp usage \"x: A\" as E7  << (P,limegreen) part>> [[psysml:d6e39b1a-8a39-4c69-85ab-aa8551443e08 ]] {\r\n",
       "}\r\n",
       "comp usage \"y: B\" as E8  << (P,limegreen) part>> [[psysml:ead6e64d-b294-4a2d-a1d8-90d3751f1490 ]] {\r\n",
       "}\r\n",
       "E7 - -:|> E3 [[psysml:84278f38-d400-4655-8657-76a37dd9bb09 ]] \r\n",
       "E8 - -:|> E5 [[psysml:9a62fcce-aa5a-49d2-8cac-0b2f538e5bd0 ]] \r\n",
       "}\r\n",
       "package \"Test2\" as E9  [[psysml:051bf7cb-81b8-4c37-8865-8bb7ea974985 ]]  {\r\n",
       "comp usage \"x: A\" as E10  << (P,limegreen) part>> [[psysml:f3cb1211-10b9-411e-bf19-d5722693e1fe ]] {\r\n",
       "}\r\n",
       "comp usage \"y: B\" as E11  << (P,limegreen) part>> [[psysml:9cdccab4-e502-4fbe-97eb-9b231d825ffa ]] {\r\n",
       "}\r\n",
       "E10 - -:|> E3 [[psysml:bd7260c7-b55a-4391-86f8-9493bae3bcdc ]] \r\n",
       "E11 - -:|> E5 [[psysml:099d00ce-a154-42ce-865e-6b31b35a0829 ]] \r\n",
       "}\r\n",
       "comp usage \"x: A\" as E12  << (P,limegreen) part>> [[psysml:87edab01-bf58-4e9e-abd1-c8b0194f7dca ]] {\r\n",
       "}\r\n",
       "comp usage \"y: B\" as E13  << (P,limegreen) part>> [[psysml:20c5387a-1627-4e14-8312-6f39b31ab3f7 ]] {\r\n",
       "}\r\n",
       "E12 - -:|> E3 [[psysml:2e0d72ae-9b36-4ac2-af7e-1d21d87eecf3 ]] \r\n",
       "E13 - -:|> E5 [[psysml:28c76814-e954-4c97-b716-40e2f6813c6b ]] \r\n",
       "}\r\n",
       "@enduml\r\n",
       "\n",
       "PlantUML version 1.2020.13(Sat Jun 13 12:26:38 UTC 2020)\n",
       "(EPL source distribution)\n",
       "Java Runtime: OpenJDK Runtime Environment\n",
       "JVM: OpenJDK 64-Bit Server VM\n",
       "Default Encoding: UTF-8\n",
       "Language: en\n",
       "Country: null\n",
       "--></g></svg>"
      ]
     },
     "execution_count": 31,
     "metadata": {},
     "output_type": "execute_result"
    }
   ],
   "source": [
    "%viz --style=\"PLANTUML\" --view=\"Tree\" \"CircularImport\""
   ]
  },
  {
   "cell_type": "code",
   "execution_count": 32,
   "id": "25f655e9",
   "metadata": {
    "execution": {
     "iopub.execute_input": "2021-04-20T06:57:54.103028Z",
     "iopub.status.busy": "2021-04-20T06:57:54.102288Z",
     "iopub.status.idle": "2021-04-20T06:57:54.218308Z",
     "shell.execute_reply": "2021-04-20T06:57:54.217434Z"
    }
   },
   "outputs": [
    {
     "data": {
      "image/svg+xml": [
       "<?xml version=\"1.0\" encoding=\"UTF-8\" standalone=\"no\"?><svg xmlns=\"http://www.w3.org/2000/svg\" xmlns:xlink=\"http://www.w3.org/1999/xlink\" contentScriptType=\"application/ecmascript\" contentStyleType=\"text/css\" height=\"303px\" preserveAspectRatio=\"none\" style=\"width:603px;height:303px;background:#000000;\" version=\"1.1\" viewBox=\"0 0 603 303\" width=\"603px\" zoomAndPan=\"magnify\"><defs/><g><rect fill=\"#01180E\" height=\"1\" style=\"stroke: #01180E; stroke-width: 1.0;\" width=\"1\" x=\"0\" y=\"0\"/><rect fill=\"#FFFFFF\" height=\"205.5625\" style=\"stroke: #FFFFFF; stroke-width: 1.0;\" width=\"602\" x=\"0\" y=\"0\"/><text fill=\"#000000\" font-family=\"sans-serif\" font-size=\"12\" font-weight=\"bold\" lengthAdjust=\"spacingAndGlyphs\" textLength=\"159\" x=\"5\" y=\"16.1387\">Welcome to PlantUML!</text><text fill=\"#000000\" font-family=\"sans-serif\" font-size=\"12\" lengthAdjust=\"spacingAndGlyphs\" textLength=\"0\" x=\"9\" y=\"30.1074\"/><text fill=\"#000000\" font-family=\"sans-serif\" font-size=\"12\" lengthAdjust=\"spacingAndGlyphs\" textLength=\"293\" x=\"5\" y=\"44.0762\">If you use this software, you accept its license.</text><text fill=\"#000000\" font-family=\"sans-serif\" font-size=\"12\" lengthAdjust=\"spacingAndGlyphs\" textLength=\"107\" x=\"5\" y=\"58.0449\">(details by typing</text><text fill=\"#000000\" font-family=\"monospace\" font-size=\"12\" lengthAdjust=\"spacingAndGlyphs\" textLength=\"49\" x=\"116\" y=\"58.0449\">license</text><text fill=\"#000000\" font-family=\"sans-serif\" font-size=\"12\" lengthAdjust=\"spacingAndGlyphs\" textLength=\"56\" x=\"169\" y=\"58.0449\">keyword)</text><text fill=\"#000000\" font-family=\"sans-serif\" font-size=\"12\" lengthAdjust=\"spacingAndGlyphs\" textLength=\"0\" x=\"9\" y=\"72.0137\"/><text fill=\"#000000\" font-family=\"sans-serif\" font-size=\"12\" lengthAdjust=\"spacingAndGlyphs\" textLength=\"283\" x=\"5\" y=\"85.9824\">You can start with a simple UML Diagram like:</text><text fill=\"#000000\" font-family=\"sans-serif\" font-size=\"12\" lengthAdjust=\"spacingAndGlyphs\" textLength=\"0\" x=\"9\" y=\"99.9512\"/><text fill=\"#000000\" font-family=\"monospace\" font-size=\"12\" lengthAdjust=\"spacingAndGlyphs\" textLength=\"119\" x=\"5\" y=\"113.9199\">Bob-&gt;Alice: Hello</text><text fill=\"#000000\" font-family=\"sans-serif\" font-size=\"12\" lengthAdjust=\"spacingAndGlyphs\" textLength=\"0\" x=\"9\" y=\"127.8887\"/><text fill=\"#000000\" font-family=\"sans-serif\" font-size=\"12\" lengthAdjust=\"spacingAndGlyphs\" textLength=\"14\" x=\"5\" y=\"141.8574\">Or</text><text fill=\"#000000\" font-family=\"sans-serif\" font-size=\"12\" lengthAdjust=\"spacingAndGlyphs\" textLength=\"0\" x=\"9\" y=\"155.8262\"/><text fill=\"#000000\" font-family=\"monospace\" font-size=\"12\" lengthAdjust=\"spacingAndGlyphs\" textLength=\"91\" x=\"5\" y=\"169.7949\">class Example</text><text fill=\"#000000\" font-family=\"sans-serif\" font-size=\"12\" lengthAdjust=\"spacingAndGlyphs\" textLength=\"0\" x=\"9\" y=\"183.7637\"/><text fill=\"#000000\" font-family=\"sans-serif\" font-size=\"12\" lengthAdjust=\"spacingAndGlyphs\" textLength=\"349\" x=\"5\" y=\"197.7324\">You will find more information about PlantUML syntax on</text><text fill=\"#000000\" font-family=\"sans-serif\" font-size=\"12\" lengthAdjust=\"spacingAndGlyphs\" text-decoration=\"underline\" textLength=\"129\" x=\"358\" y=\"197.7324\">https://plantuml.com</text><image height=\"71\" width=\"80\" x=\"516\" xlink:href=\"data:image/png;base64,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\" y=\"6\"/><rect fill=\"#000000\" height=\"96.4844\" style=\"stroke: #000000; stroke-width: 1.0;\" width=\"602\" x=\"0\" y=\"205.5625\"/><rect fill=\"#33FF02\" height=\"21.2969\" style=\"stroke: #33FF02; stroke-width: 1.0;\" width=\"170\" x=\"5\" y=\"210.5625\"/><text fill=\"#000000\" font-family=\"sans-serif\" font-size=\"14\" font-weight=\"bold\" lengthAdjust=\"spacingAndGlyphs\" textLength=\"168\" x=\"6\" y=\"225.5625\">[From string (line 2) ]</text><text fill=\"#33FF02\" font-family=\"sans-serif\" font-size=\"14\" font-weight=\"bold\" lengthAdjust=\"spacingAndGlyphs\" textLength=\"0\" x=\"10\" y=\"245.8594\"/><text fill=\"#33FF02\" font-family=\"sans-serif\" font-size=\"14\" font-weight=\"bold\" lengthAdjust=\"spacingAndGlyphs\" textLength=\"79\" x=\"5\" y=\"262.1563\">@startuml</text><text fill=\"#33FF02\" font-family=\"sans-serif\" font-size=\"14\" font-weight=\"bold\" lengthAdjust=\"spacingAndGlyphs\" textLength=\"0\" x=\"10\" y=\"278.4531\"/><text fill=\"#FF0000\" font-family=\"sans-serif\" font-size=\"14\" font-weight=\"bold\" lengthAdjust=\"spacingAndGlyphs\" textLength=\"142\" x=\"10\" y=\"294.75\">Empty description</text><!--MD5=[f59edd8218d337f74d0c332fc6737304]\n",
       "@startuml\r\n",
       " \r\n",
       "@enduml\r\n",
       "\n",
       "PlantUML version 1.2020.13(Sat Jun 13 12:26:38 UTC 2020)\n",
       "(EPL source distribution)\n",
       "Java Runtime: OpenJDK Runtime Environment\n",
       "JVM: OpenJDK 64-Bit Server VM\n",
       "Default Encoding: UTF-8\n",
       "Language: en\n",
       "Country: null\n",
       "--></g></svg>"
      ]
     },
     "execution_count": 32,
     "metadata": {},
     "output_type": "execute_result"
    }
   ],
   "source": [
    "%viz --style=\"PLANTUML\" --view=\"State\" \"CircularImport\""
   ]
  },
  {
   "cell_type": "code",
   "execution_count": 33,
   "id": "32071be8",
   "metadata": {
    "execution": {
     "iopub.execute_input": "2021-04-20T06:57:54.268340Z",
     "iopub.status.busy": "2021-04-20T06:57:54.267555Z",
     "iopub.status.idle": "2021-04-20T06:57:54.309476Z",
     "shell.execute_reply": "2021-04-20T06:57:54.309138Z"
    }
   },
   "outputs": [
    {
     "data": {
      "image/svg+xml": [
       "<?xml version=\"1.0\" encoding=\"UTF-8\" standalone=\"no\"?><svg xmlns=\"http://www.w3.org/2000/svg\" xmlns:xlink=\"http://www.w3.org/1999/xlink\" contentScriptType=\"application/ecmascript\" contentStyleType=\"text/css\" height=\"176px\" preserveAspectRatio=\"none\" style=\"width:858px;height:176px;\" version=\"1.1\" viewBox=\"0 0 858 176\" width=\"858px\" zoomAndPan=\"magnify\"><defs><filter height=\"300%\" id=\"f9ephxfncu89v\" width=\"300%\" x=\"-1\" y=\"-1\"><feGaussianBlur result=\"blurOut\" stdDeviation=\"2.0\"/><feColorMatrix in=\"blurOut\" result=\"blurOut2\" type=\"matrix\" values=\"0 0 0 0 0 0 0 0 0 0 0 0 0 0 0 0 0 0 .4 0\"/><feOffset dx=\"4.0\" dy=\"4.0\" in=\"blurOut2\" result=\"blurOut3\"/><feBlend in=\"SourceGraphic\" in2=\"blurOut3\" mode=\"normal\"/></filter></defs><g><!--MD5=[fbc87193dbaf4d95561dea2c320d4a47]\n",
       "cluster E1--><a href=\"psysml:690cd2ec-4fe7-4d94-89bf-c3d63ed60cd3\" target=\"_top\" title=\"psysml:690cd2ec-4fe7-4d94-89bf-c3d63ed60cd3\" xlink:actuate=\"onRequest\" xlink:href=\"psysml:690cd2ec-4fe7-4d94-89bf-c3d63ed60cd3\" xlink:show=\"new\" xlink:title=\"psysml:690cd2ec-4fe7-4d94-89bf-c3d63ed60cd3\" xlink:type=\"simple\"><polygon fill=\"#FFFFFF\" filter=\"url(#f9ephxfncu89v)\" points=\"16,6,134,6,141,28.2969,836,28.2969,836,164,16,164,16,6\" style=\"stroke: #000000; stroke-width: 1.5;\"/><line style=\"stroke: #000000; stroke-width: 1.5;\" x1=\"16\" x2=\"141\" y1=\"28.2969\" y2=\"28.2969\"/><text fill=\"#000000\" font-family=\"sans-serif\" font-size=\"14\" font-weight=\"bold\" lengthAdjust=\"spacingAndGlyphs\" textLength=\"112\" x=\"20\" y=\"20.9951\">CircularImport</text></a><!--MD5=[e4f7fae6ed58524ba242bb0b0d3be6b7]\n",
       "cluster E2--><a href=\"psysml:54e3154d-4fa4-4c14-a367-edca149a76a1\" target=\"_top\" title=\"psysml:54e3154d-4fa4-4c14-a367-edca149a76a1\" xlink:actuate=\"onRequest\" xlink:href=\"psysml:54e3154d-4fa4-4c14-a367-edca149a76a1\" xlink:show=\"new\" xlink:title=\"psysml:54e3154d-4fa4-4c14-a367-edca149a76a1\" xlink:type=\"simple\"><polygon fill=\"#FFFFFF\" filter=\"url(#f9ephxfncu89v)\" points=\"730,49,756,49,763,71.2969,812,71.2969,812,140,730,140,730,49\" style=\"stroke: #000000; stroke-width: 1.5;\"/><line style=\"stroke: #000000; stroke-width: 1.5;\" x1=\"730\" x2=\"763\" y1=\"71.2969\" y2=\"71.2969\"/><text fill=\"#000000\" font-family=\"sans-serif\" font-size=\"14\" font-weight=\"bold\" lengthAdjust=\"spacingAndGlyphs\" textLength=\"20\" x=\"734\" y=\"63.9951\">P1</text></a><!--MD5=[f6df4d0ebaf0b5dfb2ced0ae5af7c670]\n",
       "cluster E4--><a href=\"psysml:581c4a9e-fb07-4d80-ac64-c8c7b70027d2\" target=\"_top\" title=\"psysml:581c4a9e-fb07-4d80-ac64-c8c7b70027d2\" xlink:actuate=\"onRequest\" xlink:href=\"psysml:581c4a9e-fb07-4d80-ac64-c8c7b70027d2\" xlink:show=\"new\" xlink:title=\"psysml:581c4a9e-fb07-4d80-ac64-c8c7b70027d2\" xlink:type=\"simple\"><polygon fill=\"#FFFFFF\" filter=\"url(#f9ephxfncu89v)\" points=\"624,49,650,49,657,71.2969,706,71.2969,706,140,624,140,624,49\" style=\"stroke: #000000; stroke-width: 1.5;\"/><line style=\"stroke: #000000; stroke-width: 1.5;\" x1=\"624\" x2=\"657\" y1=\"71.2969\" y2=\"71.2969\"/><text fill=\"#000000\" font-family=\"sans-serif\" font-size=\"14\" font-weight=\"bold\" lengthAdjust=\"spacingAndGlyphs\" textLength=\"20\" x=\"628\" y=\"63.9951\">P2</text></a><!--MD5=[14e3b0961a2654348d326746436168a1]\n",
       "cluster E6--><a href=\"psysml:6bb49afc-ac2c-47b7-b48e-5bd0a62b326b\" target=\"_top\" title=\"psysml:6bb49afc-ac2c-47b7-b48e-5bd0a62b326b\" xlink:actuate=\"onRequest\" xlink:href=\"psysml:6bb49afc-ac2c-47b7-b48e-5bd0a62b326b\" xlink:show=\"new\" xlink:title=\"psysml:6bb49afc-ac2c-47b7-b48e-5bd0a62b326b\" xlink:type=\"simple\"><polygon fill=\"#FFFFFF\" filter=\"url(#f9ephxfncu89v)\" points=\"414,49,465,49,472,71.2969,600,71.2969,600,140,414,140,414,49\" style=\"stroke: #000000; stroke-width: 1.5;\"/><line style=\"stroke: #000000; stroke-width: 1.5;\" x1=\"414\" x2=\"472\" y1=\"71.2969\" y2=\"71.2969\"/><text fill=\"#000000\" font-family=\"sans-serif\" font-size=\"14\" font-weight=\"bold\" lengthAdjust=\"spacingAndGlyphs\" textLength=\"45\" x=\"418\" y=\"63.9951\">Test1</text></a><!--MD5=[7f149f147074ac12df2cb0a7728a5fb0]\n",
       "cluster E9--><a href=\"psysml:051bf7cb-81b8-4c37-8865-8bb7ea974985\" target=\"_top\" title=\"psysml:051bf7cb-81b8-4c37-8865-8bb7ea974985\" xlink:actuate=\"onRequest\" xlink:href=\"psysml:051bf7cb-81b8-4c37-8865-8bb7ea974985\" xlink:show=\"new\" xlink:title=\"psysml:051bf7cb-81b8-4c37-8865-8bb7ea974985\" xlink:type=\"simple\"><polygon fill=\"#FFFFFF\" filter=\"url(#f9ephxfncu89v)\" points=\"204,49,255,49,262,71.2969,390,71.2969,390,140,204,140,204,49\" style=\"stroke: #000000; stroke-width: 1.5;\"/><line style=\"stroke: #000000; stroke-width: 1.5;\" x1=\"204\" x2=\"262\" y1=\"71.2969\" y2=\"71.2969\"/><text fill=\"#000000\" font-family=\"sans-serif\" font-size=\"14\" font-weight=\"bold\" lengthAdjust=\"spacingAndGlyphs\" textLength=\"45\" x=\"208\" y=\"63.9951\">Test2</text></a><g id=\"E1.E2.E3\"><a href=\"psysml:281245e6-0723-4878-ac57-c406fd778909\" target=\"_top\" title=\"psysml:281245e6-0723-4878-ac57-c406fd778909\" xlink:actuate=\"onRequest\" xlink:href=\"psysml:281245e6-0723-4878-ac57-c406fd778909\" xlink:show=\"new\" xlink:title=\"psysml:281245e6-0723-4878-ac57-c406fd778909\" xlink:type=\"simple\"><rect fill=\"#FEFECE\" filter=\"url(#f9ephxfncu89v)\" height=\"40\" id=\"E3\" style=\"stroke: #A80036; stroke-width: 1.5;\" width=\"50\" x=\"746\" y=\"84\"/><ellipse cx=\"765.5\" cy=\"100\" fill=\"#008000\" rx=\"11\" ry=\"11\" style=\"stroke: #A80036; stroke-width: 1.0;\"/><path d=\"M764.4063,100.375 L764.4063,104.0469 L766.0313,104.0469 Q767.2031,104.0469 767.6719,103.6563 Q768.1406,103.25 768.1406,102.25 Q768.1406,101.25 767.6406,100.8125 Q767.1563,100.375 766.0313,100.375 L764.4063,100.375 Z M764.4063,95.5469 L764.4063,98.4219 L766.0313,98.4219 Q766.9531,98.4219 767.3438,98.0938 Q767.75,97.75 767.75,97 Q767.75,96.2344 767.3438,95.8906 Q766.9375,95.5469 766.0313,95.5469 L764.4063,95.5469 Z M762.0313,93.5938 L766.0313,93.5938 Q768.0938,93.5938 769.1406,94.375 Q770.1875,95.1563 770.1875,96.7188 Q770.1875,97.9219 769.5625,98.5938 Q768.9531,99.2656 767.7656,99.375 Q769.1875,99.5156 769.9063,100.3281 Q770.625,101.1406 770.625,102.5938 Q770.625,104.3906 769.5469,105.2031 Q768.4688,106 766.0313,106 L762.0313,106 L762.0313,93.5938 Z \"/><text fill=\"#000000\" font-family=\"sans-serif\" font-size=\"12\" lengthAdjust=\"spacingAndGlyphs\" textLength=\"8\" x=\"780.5\" y=\"104.1543\">A</text></a></g><g id=\"E1.E4.E5\"><a href=\"psysml:57665928-471f-4095-91e2-d839a960cf78\" target=\"_top\" title=\"psysml:57665928-471f-4095-91e2-d839a960cf78\" xlink:actuate=\"onRequest\" xlink:href=\"psysml:57665928-471f-4095-91e2-d839a960cf78\" xlink:show=\"new\" xlink:title=\"psysml:57665928-471f-4095-91e2-d839a960cf78\" xlink:type=\"simple\"><rect fill=\"#FEFECE\" filter=\"url(#f9ephxfncu89v)\" height=\"40\" id=\"E5\" style=\"stroke: #A80036; stroke-width: 1.5;\" width=\"50\" x=\"640\" y=\"84\"/><ellipse cx=\"659.5\" cy=\"100\" fill=\"#008000\" rx=\"11\" ry=\"11\" style=\"stroke: #A80036; stroke-width: 1.0;\"/><path d=\"M658.4063,100.375 L658.4063,104.0469 L660.0313,104.0469 Q661.2031,104.0469 661.6719,103.6563 Q662.1406,103.25 662.1406,102.25 Q662.1406,101.25 661.6406,100.8125 Q661.1563,100.375 660.0313,100.375 L658.4063,100.375 Z M658.4063,95.5469 L658.4063,98.4219 L660.0313,98.4219 Q660.9531,98.4219 661.3438,98.0938 Q661.75,97.75 661.75,97 Q661.75,96.2344 661.3438,95.8906 Q660.9375,95.5469 660.0313,95.5469 L658.4063,95.5469 Z M656.0313,93.5938 L660.0313,93.5938 Q662.0938,93.5938 663.1406,94.375 Q664.1875,95.1563 664.1875,96.7188 Q664.1875,97.9219 663.5625,98.5938 Q662.9531,99.2656 661.7656,99.375 Q663.1875,99.5156 663.9063,100.3281 Q664.625,101.1406 664.625,102.5938 Q664.625,104.3906 663.5469,105.2031 Q662.4688,106 660.0313,106 L656.0313,106 L656.0313,93.5938 Z \"/><text fill=\"#000000\" font-family=\"sans-serif\" font-size=\"12\" lengthAdjust=\"spacingAndGlyphs\" textLength=\"8\" x=\"674.5\" y=\"104.1543\">B</text></a></g><g id=\"E1.E6.E7\"><a href=\"psysml:d6e39b1a-8a39-4c69-85ab-aa8551443e08\" target=\"_top\" title=\"psysml:d6e39b1a-8a39-4c69-85ab-aa8551443e08\" xlink:actuate=\"onRequest\" xlink:href=\"psysml:d6e39b1a-8a39-4c69-85ab-aa8551443e08\" xlink:show=\"new\" xlink:title=\"psysml:d6e39b1a-8a39-4c69-85ab-aa8551443e08\" xlink:type=\"simple\"><rect fill=\"#FEFECE\" filter=\"url(#f9ephxfncu89v)\" height=\"40\" id=\"E7\" rx=\"10\" ry=\"10\" style=\"stroke: #A80036; stroke-width: 1.5;\" width=\"59\" x=\"524.5\" y=\"84\"/><ellipse cx=\"541.75\" cy=\"100\" fill=\"#B6DBBB\" rx=\"11\" ry=\"11\" style=\"stroke: #A80036; stroke-width: 1.0;\"/><path d=\"M537.625,101.9219 L537.625,94.1094 L540.0781,94.1094 L540.0781,102.5469 Q540.0781,103.4688 540.5469,104 Q541.0313,104.5313 541.8594,104.5313 Q542.7031,104.5313 543.1719,104 Q543.6406,103.4688 543.6406,102.5469 L543.6406,94.1094 L546.0938,94.1094 L546.0938,101.9219 Q546.0938,104.4531 545.0938,105.5938 Q544.0938,106.7344 541.8594,106.7344 Q539.6406,106.7344 538.625,105.5938 Q537.625,104.4531 537.625,101.9219 Z \"/><text fill=\"#000000\" font-family=\"sans-serif\" font-size=\"12\" lengthAdjust=\"spacingAndGlyphs\" textLength=\"22\" x=\"556.25\" y=\"104.1543\">x: A</text></a></g><g id=\"E1.E6.E8\"><a href=\"psysml:ead6e64d-b294-4a2d-a1d8-90d3751f1490\" target=\"_top\" title=\"psysml:ead6e64d-b294-4a2d-a1d8-90d3751f1490\" xlink:actuate=\"onRequest\" xlink:href=\"psysml:ead6e64d-b294-4a2d-a1d8-90d3751f1490\" xlink:show=\"new\" xlink:title=\"psysml:ead6e64d-b294-4a2d-a1d8-90d3751f1490\" xlink:type=\"simple\"><rect fill=\"#FEFECE\" filter=\"url(#f9ephxfncu89v)\" height=\"40\" id=\"E8\" rx=\"10\" ry=\"10\" style=\"stroke: #A80036; stroke-width: 1.5;\" width=\"59\" x=\"430.5\" y=\"84\"/><ellipse cx=\"447.75\" cy=\"100\" fill=\"#B6DBBB\" rx=\"11\" ry=\"11\" style=\"stroke: #A80036; stroke-width: 1.0;\"/><path d=\"M443.625,101.9219 L443.625,94.1094 L446.0781,94.1094 L446.0781,102.5469 Q446.0781,103.4688 446.5469,104 Q447.0313,104.5313 447.8594,104.5313 Q448.7031,104.5313 449.1719,104 Q449.6406,103.4688 449.6406,102.5469 L449.6406,94.1094 L452.0938,94.1094 L452.0938,101.9219 Q452.0938,104.4531 451.0938,105.5938 Q450.0938,106.7344 447.8594,106.7344 Q445.6406,106.7344 444.625,105.5938 Q443.625,104.4531 443.625,101.9219 Z \"/><text fill=\"#000000\" font-family=\"sans-serif\" font-size=\"12\" lengthAdjust=\"spacingAndGlyphs\" textLength=\"22\" x=\"462.25\" y=\"104.1543\">y: B</text></a></g><g id=\"E1.E9.E10\"><a href=\"psysml:f3cb1211-10b9-411e-bf19-d5722693e1fe\" target=\"_top\" title=\"psysml:f3cb1211-10b9-411e-bf19-d5722693e1fe\" xlink:actuate=\"onRequest\" xlink:href=\"psysml:f3cb1211-10b9-411e-bf19-d5722693e1fe\" xlink:show=\"new\" xlink:title=\"psysml:f3cb1211-10b9-411e-bf19-d5722693e1fe\" xlink:type=\"simple\"><rect fill=\"#FEFECE\" filter=\"url(#f9ephxfncu89v)\" height=\"40\" id=\"E10\" rx=\"10\" ry=\"10\" style=\"stroke: #A80036; stroke-width: 1.5;\" width=\"59\" x=\"314.5\" y=\"84\"/><ellipse cx=\"331.75\" cy=\"100\" fill=\"#B6DBBB\" rx=\"11\" ry=\"11\" style=\"stroke: #A80036; stroke-width: 1.0;\"/><path d=\"M327.625,101.9219 L327.625,94.1094 L330.0781,94.1094 L330.0781,102.5469 Q330.0781,103.4688 330.5469,104 Q331.0313,104.5313 331.8594,104.5313 Q332.7031,104.5313 333.1719,104 Q333.6406,103.4688 333.6406,102.5469 L333.6406,94.1094 L336.0938,94.1094 L336.0938,101.9219 Q336.0938,104.4531 335.0938,105.5938 Q334.0938,106.7344 331.8594,106.7344 Q329.6406,106.7344 328.625,105.5938 Q327.625,104.4531 327.625,101.9219 Z \"/><text fill=\"#000000\" font-family=\"sans-serif\" font-size=\"12\" lengthAdjust=\"spacingAndGlyphs\" textLength=\"22\" x=\"346.25\" y=\"104.1543\">x: A</text></a></g><g id=\"E1.E9.E11\"><a href=\"psysml:9cdccab4-e502-4fbe-97eb-9b231d825ffa\" target=\"_top\" title=\"psysml:9cdccab4-e502-4fbe-97eb-9b231d825ffa\" xlink:actuate=\"onRequest\" xlink:href=\"psysml:9cdccab4-e502-4fbe-97eb-9b231d825ffa\" xlink:show=\"new\" xlink:title=\"psysml:9cdccab4-e502-4fbe-97eb-9b231d825ffa\" xlink:type=\"simple\"><rect fill=\"#FEFECE\" filter=\"url(#f9ephxfncu89v)\" height=\"40\" id=\"E11\" rx=\"10\" ry=\"10\" style=\"stroke: #A80036; stroke-width: 1.5;\" width=\"59\" x=\"220.5\" y=\"84\"/><ellipse cx=\"237.75\" cy=\"100\" fill=\"#B6DBBB\" rx=\"11\" ry=\"11\" style=\"stroke: #A80036; stroke-width: 1.0;\"/><path d=\"M233.625,101.9219 L233.625,94.1094 L236.0781,94.1094 L236.0781,102.5469 Q236.0781,103.4688 236.5469,104 Q237.0313,104.5313 237.8594,104.5313 Q238.7031,104.5313 239.1719,104 Q239.6406,103.4688 239.6406,102.5469 L239.6406,94.1094 L242.0938,94.1094 L242.0938,101.9219 Q242.0938,104.4531 241.0938,105.5938 Q240.0938,106.7344 237.8594,106.7344 Q235.6406,106.7344 234.625,105.5938 Q233.625,104.4531 233.625,101.9219 Z \"/><text fill=\"#000000\" font-family=\"sans-serif\" font-size=\"12\" lengthAdjust=\"spacingAndGlyphs\" textLength=\"22\" x=\"252.25\" y=\"104.1543\">y: B</text></a></g><g id=\"E1.E12\"><a href=\"psysml:87edab01-bf58-4e9e-abd1-c8b0194f7dca\" target=\"_top\" title=\"psysml:87edab01-bf58-4e9e-abd1-c8b0194f7dca\" xlink:actuate=\"onRequest\" xlink:href=\"psysml:87edab01-bf58-4e9e-abd1-c8b0194f7dca\" xlink:show=\"new\" xlink:title=\"psysml:87edab01-bf58-4e9e-abd1-c8b0194f7dca\" xlink:type=\"simple\"><rect fill=\"#FEFECE\" filter=\"url(#f9ephxfncu89v)\" height=\"40\" id=\"E12\" rx=\"10\" ry=\"10\" style=\"stroke: #A80036; stroke-width: 1.5;\" width=\"59\" x=\"126.5\" y=\"84\"/><ellipse cx=\"143.75\" cy=\"100\" fill=\"#B6DBBB\" rx=\"11\" ry=\"11\" style=\"stroke: #A80036; stroke-width: 1.0;\"/><path d=\"M139.625,101.9219 L139.625,94.1094 L142.0781,94.1094 L142.0781,102.5469 Q142.0781,103.4688 142.5469,104 Q143.0313,104.5313 143.8594,104.5313 Q144.7031,104.5313 145.1719,104 Q145.6406,103.4688 145.6406,102.5469 L145.6406,94.1094 L148.0938,94.1094 L148.0938,101.9219 Q148.0938,104.4531 147.0938,105.5938 Q146.0938,106.7344 143.8594,106.7344 Q141.6406,106.7344 140.625,105.5938 Q139.625,104.4531 139.625,101.9219 Z \"/><text fill=\"#000000\" font-family=\"sans-serif\" font-size=\"12\" lengthAdjust=\"spacingAndGlyphs\" textLength=\"22\" x=\"158.25\" y=\"104.1543\">x: A</text></a></g><g id=\"E1.E13\"><a href=\"psysml:20c5387a-1627-4e14-8312-6f39b31ab3f7\" target=\"_top\" title=\"psysml:20c5387a-1627-4e14-8312-6f39b31ab3f7\" xlink:actuate=\"onRequest\" xlink:href=\"psysml:20c5387a-1627-4e14-8312-6f39b31ab3f7\" xlink:show=\"new\" xlink:title=\"psysml:20c5387a-1627-4e14-8312-6f39b31ab3f7\" xlink:type=\"simple\"><rect fill=\"#FEFECE\" filter=\"url(#f9ephxfncu89v)\" height=\"40\" id=\"E13\" rx=\"10\" ry=\"10\" style=\"stroke: #A80036; stroke-width: 1.5;\" width=\"59\" x=\"32.5\" y=\"84\"/><ellipse cx=\"49.75\" cy=\"100\" fill=\"#B6DBBB\" rx=\"11\" ry=\"11\" style=\"stroke: #A80036; stroke-width: 1.0;\"/><path d=\"M45.625,101.9219 L45.625,94.1094 L48.0781,94.1094 L48.0781,102.5469 Q48.0781,103.4688 48.5469,104 Q49.0313,104.5313 49.8594,104.5313 Q50.7031,104.5313 51.1719,104 Q51.6406,103.4688 51.6406,102.5469 L51.6406,94.1094 L54.0938,94.1094 L54.0938,101.9219 Q54.0938,104.4531 53.0938,105.5938 Q52.0938,106.7344 49.8594,106.7344 Q47.6406,106.7344 46.625,105.5938 Q45.625,104.4531 45.625,101.9219 Z \"/><text fill=\"#000000\" font-family=\"sans-serif\" font-size=\"12\" lengthAdjust=\"spacingAndGlyphs\" textLength=\"22\" x=\"64.25\" y=\"104.1543\">y: B</text></a></g><!--MD5=[e5bc7ad656b89b64dcb0c7c8338c6956]\n",
       "@startuml\r\n",
       "skinparam ranksep 10\r\n",
       "skinparam rectangle {\r\n",
       " backgroundColor<<block>> LightGreen\r\n",
       "}\r\n",
       " \r\n",
       "package \"CircularImport\" as E1  [[psysml:690cd2ec-4fe7-4d94-89bf-c3d63ed60cd3 ]]  {\r\n",
       "package \"P1\" as E2  [[psysml:54e3154d-4fa4-4c14-a367-edca149a76a1 ]]  {\r\n",
       "rec def \"A\" as E3  << (B,green) >> [[psysml:281245e6-0723-4878-ac57-c406fd778909 ]] {\r\n",
       "}\r\n",
       "}\r\n",
       "package \"P2\" as E4  [[psysml:581c4a9e-fb07-4d80-ac64-c8c7b70027d2 ]]  {\r\n",
       "rec def \"B\" as E5  << (B,green) >> [[psysml:57665928-471f-4095-91e2-d839a960cf78 ]] {\r\n",
       "}\r\n",
       "}\r\n",
       "package \"Test1\" as E6  [[psysml:6bb49afc-ac2c-47b7-b48e-5bd0a62b326b ]]  {\r\n",
       "rec usage \"x: A\" as E7  [[psysml:d6e39b1a-8a39-4c69-85ab-aa8551443e08 ]] {\r\n",
       "}\r\n",
       "rec usage \"y: B\" as E8  [[psysml:ead6e64d-b294-4a2d-a1d8-90d3751f1490 ]] {\r\n",
       "}\r\n",
       "}\r\n",
       "package \"Test2\" as E9  [[psysml:051bf7cb-81b8-4c37-8865-8bb7ea974985 ]]  {\r\n",
       "rec usage \"x: A\" as E10  [[psysml:f3cb1211-10b9-411e-bf19-d5722693e1fe ]] {\r\n",
       "}\r\n",
       "rec usage \"y: B\" as E11  [[psysml:9cdccab4-e502-4fbe-97eb-9b231d825ffa ]] {\r\n",
       "}\r\n",
       "}\r\n",
       "rec usage \"x: A\" as E12  [[psysml:87edab01-bf58-4e9e-abd1-c8b0194f7dca ]] {\r\n",
       "}\r\n",
       "rec usage \"y: B\" as E13  [[psysml:20c5387a-1627-4e14-8312-6f39b31ab3f7 ]] {\r\n",
       "}\r\n",
       "}\r\n",
       "@enduml\r\n",
       "\n",
       "PlantUML version 1.2020.13(Sat Jun 13 12:26:38 UTC 2020)\n",
       "(EPL source distribution)\n",
       "Java Runtime: OpenJDK Runtime Environment\n",
       "JVM: OpenJDK 64-Bit Server VM\n",
       "Default Encoding: UTF-8\n",
       "Language: en\n",
       "Country: null\n",
       "--></g></svg>"
      ]
     },
     "execution_count": 33,
     "metadata": {},
     "output_type": "execute_result"
    }
   ],
   "source": [
    "%viz --style=\"PLANTUML\" --view=\"Interconnection\" \"CircularImport\""
   ]
  },
  {
   "cell_type": "code",
   "execution_count": 34,
   "id": "ec2c69cc",
   "metadata": {
    "execution": {
     "iopub.execute_input": "2021-04-20T06:57:54.361766Z",
     "iopub.status.busy": "2021-04-20T06:57:54.361177Z",
     "iopub.status.idle": "2021-04-20T06:57:54.364365Z",
     "shell.execute_reply": "2021-04-20T06:57:54.364080Z"
    }
   },
   "outputs": [
    {
     "data": {
      "image/svg+xml": [
       "<?xml version=\"1.0\" encoding=\"UTF-8\" standalone=\"no\"?><svg xmlns=\"http://www.w3.org/2000/svg\" xmlns:xlink=\"http://www.w3.org/1999/xlink\" contentScriptType=\"application/ecmascript\" contentStyleType=\"text/css\" height=\"12px\" preserveAspectRatio=\"none\" style=\"width:12px;height:12px;\" version=\"1.1\" viewBox=\"0 0 12 12\" width=\"12px\" zoomAndPan=\"magnify\"><defs/><g><!--MD5=[6a4cb978cab31700e1ce5529f947a75d]\n",
       "@startuml\r\n",
       "skinparam ranksep 8\r\n",
       " \r\n",
       "@enduml\r\n",
       "\n",
       "PlantUML version 1.2020.13(Sat Jun 13 12:26:38 UTC 2020)\n",
       "(EPL source distribution)\n",
       "Java Runtime: OpenJDK Runtime Environment\n",
       "JVM: OpenJDK 64-Bit Server VM\n",
       "Default Encoding: UTF-8\n",
       "Language: en\n",
       "Country: null\n",
       "--></g></svg>"
      ]
     },
     "execution_count": 34,
     "metadata": {},
     "output_type": "execute_result"
    }
   ],
   "source": [
    "%viz --style=\"PLANTUML\" --view=\"Action\" \"CircularImport\""
   ]
  },
  {
   "cell_type": "code",
   "execution_count": 35,
   "id": "c8fe1da0",
   "metadata": {
    "execution": {
     "iopub.execute_input": "2021-04-20T06:57:54.415967Z",
     "iopub.status.busy": "2021-04-20T06:57:54.415086Z",
     "iopub.status.idle": "2021-04-20T06:57:54.453868Z",
     "shell.execute_reply": "2021-04-20T06:57:54.452081Z"
    }
   },
   "outputs": [
    {
     "data": {
      "image/svg+xml": [
       "<?xml version=\"1.0\" encoding=\"UTF-8\" standalone=\"no\"?><svg xmlns=\"http://www.w3.org/2000/svg\" xmlns:xlink=\"http://www.w3.org/1999/xlink\" contentScriptType=\"application/ecmascript\" contentStyleType=\"text/css\" height=\"297px\" preserveAspectRatio=\"none\" style=\"width:674px;height:297px;\" version=\"1.1\" viewBox=\"0 0 674 297\" width=\"674px\" zoomAndPan=\"magnify\"><defs><filter height=\"300%\" id=\"f84qfw7otag51\" width=\"300%\" x=\"-1\" y=\"-1\"><feGaussianBlur result=\"blurOut\" stdDeviation=\"2.0\"/><feColorMatrix in=\"blurOut\" result=\"blurOut2\" type=\"matrix\" values=\"0 0 0 0 0 0 0 0 0 0 0 0 0 0 0 0 0 0 .4 0\"/><feOffset dx=\"4.0\" dy=\"4.0\" in=\"blurOut2\" result=\"blurOut3\"/><feBlend in=\"SourceGraphic\" in2=\"blurOut3\" mode=\"normal\"/></filter></defs><g><!--MD5=[fbc87193dbaf4d95561dea2c320d4a47]\n",
       "cluster E1--><a href=\"psysml:690cd2ec-4fe7-4d94-89bf-c3d63ed60cd3\" target=\"_top\" title=\"psysml:690cd2ec-4fe7-4d94-89bf-c3d63ed60cd3\" xlink:actuate=\"onRequest\" xlink:href=\"psysml:690cd2ec-4fe7-4d94-89bf-c3d63ed60cd3\" xlink:show=\"new\" xlink:title=\"psysml:690cd2ec-4fe7-4d94-89bf-c3d63ed60cd3\" xlink:type=\"simple\"><polygon fill=\"#FFFFFF\" filter=\"url(#f84qfw7otag51)\" points=\"16,6,134,6,141,28.2969,652,28.2969,652,285,16,285,16,6\" style=\"stroke: #000000; stroke-width: 1.5;\"/><line style=\"stroke: #000000; stroke-width: 1.5;\" x1=\"16\" x2=\"141\" y1=\"28.2969\" y2=\"28.2969\"/><text fill=\"#000000\" font-family=\"sans-serif\" font-size=\"14\" font-weight=\"bold\" lengthAdjust=\"spacingAndGlyphs\" textLength=\"112\" x=\"20\" y=\"20.9951\">CircularImport</text></a><!--MD5=[e4f7fae6ed58524ba242bb0b0d3be6b7]\n",
       "cluster E2--><a href=\"psysml:54e3154d-4fa4-4c14-a367-edca149a76a1\" target=\"_top\" title=\"psysml:54e3154d-4fa4-4c14-a367-edca149a76a1\" xlink:actuate=\"onRequest\" xlink:href=\"psysml:54e3154d-4fa4-4c14-a367-edca149a76a1\" xlink:show=\"new\" xlink:title=\"psysml:54e3154d-4fa4-4c14-a367-edca149a76a1\" xlink:type=\"simple\"><polygon fill=\"#FFFFFF\" filter=\"url(#f84qfw7otag51)\" points=\"463,170,489,170,496,192.2969,535,192.2969,535,261,463,261,463,170\" style=\"stroke: #000000; stroke-width: 1.5;\"/><line style=\"stroke: #000000; stroke-width: 1.5;\" x1=\"463\" x2=\"496\" y1=\"192.2969\" y2=\"192.2969\"/><text fill=\"#000000\" font-family=\"sans-serif\" font-size=\"14\" font-weight=\"bold\" lengthAdjust=\"spacingAndGlyphs\" textLength=\"20\" x=\"467\" y=\"184.9951\">P1</text></a><!--MD5=[f6df4d0ebaf0b5dfb2ced0ae5af7c670]\n",
       "cluster E4--><a href=\"psysml:581c4a9e-fb07-4d80-ac64-c8c7b70027d2\" target=\"_top\" title=\"psysml:581c4a9e-fb07-4d80-ac64-c8c7b70027d2\" xlink:actuate=\"onRequest\" xlink:href=\"psysml:581c4a9e-fb07-4d80-ac64-c8c7b70027d2\" xlink:show=\"new\" xlink:title=\"psysml:581c4a9e-fb07-4d80-ac64-c8c7b70027d2\" xlink:type=\"simple\"><polygon fill=\"#FFFFFF\" filter=\"url(#f84qfw7otag51)\" points=\"133,170,159,170,166,192.2969,205,192.2969,205,261,133,261,133,170\" style=\"stroke: #000000; stroke-width: 1.5;\"/><line style=\"stroke: #000000; stroke-width: 1.5;\" x1=\"133\" x2=\"166\" y1=\"192.2969\" y2=\"192.2969\"/><text fill=\"#000000\" font-family=\"sans-serif\" font-size=\"14\" font-weight=\"bold\" lengthAdjust=\"spacingAndGlyphs\" textLength=\"20\" x=\"137\" y=\"184.9951\">P2</text></a><!--MD5=[14e3b0961a2654348d326746436168a1]\n",
       "cluster E6--><a href=\"psysml:6bb49afc-ac2c-47b7-b48e-5bd0a62b326b\" target=\"_top\" title=\"psysml:6bb49afc-ac2c-47b7-b48e-5bd0a62b326b\" xlink:actuate=\"onRequest\" xlink:href=\"psysml:6bb49afc-ac2c-47b7-b48e-5bd0a62b326b\" xlink:show=\"new\" xlink:title=\"psysml:6bb49afc-ac2c-47b7-b48e-5bd0a62b326b\" xlink:type=\"simple\"><polygon fill=\"#FFFFFF\" filter=\"url(#f84qfw7otag51)\" points=\"346,49,397,49,404,71.2969,549,71.2969,549,146,346,146,346,49\" style=\"stroke: #000000; stroke-width: 1.5;\"/><line style=\"stroke: #000000; stroke-width: 1.5;\" x1=\"346\" x2=\"404\" y1=\"71.2969\" y2=\"71.2969\"/><text fill=\"#000000\" font-family=\"sans-serif\" font-size=\"14\" font-weight=\"bold\" lengthAdjust=\"spacingAndGlyphs\" textLength=\"45\" x=\"350\" y=\"63.9951\">Test1</text></a><!--MD5=[7f149f147074ac12df2cb0a7728a5fb0]\n",
       "cluster E9--><a href=\"psysml:051bf7cb-81b8-4c37-8865-8bb7ea974985\" target=\"_top\" title=\"psysml:051bf7cb-81b8-4c37-8865-8bb7ea974985\" xlink:actuate=\"onRequest\" xlink:href=\"psysml:051bf7cb-81b8-4c37-8865-8bb7ea974985\" xlink:show=\"new\" xlink:title=\"psysml:051bf7cb-81b8-4c37-8865-8bb7ea974985\" xlink:type=\"simple\"><polygon fill=\"#FFFFFF\" filter=\"url(#f84qfw7otag51)\" points=\"119,49,170,49,177,71.2969,322,71.2969,322,146,119,146,119,49\" style=\"stroke: #000000; stroke-width: 1.5;\"/><line style=\"stroke: #000000; stroke-width: 1.5;\" x1=\"119\" x2=\"177\" y1=\"71.2969\" y2=\"71.2969\"/><text fill=\"#000000\" font-family=\"sans-serif\" font-size=\"14\" font-weight=\"bold\" lengthAdjust=\"spacingAndGlyphs\" textLength=\"45\" x=\"123\" y=\"63.9951\">Test2</text></a><!--MD5=[49a0ec8f00dab7302a31f22d0f0fe584]\n",
       "class E12--><a href=\"psysml:87edab01-bf58-4e9e-abd1-c8b0194f7dca\" target=\"_top\" title=\"psysml:87edab01-bf58-4e9e-abd1-c8b0194f7dca\" xlink:actuate=\"onRequest\" xlink:href=\"psysml:87edab01-bf58-4e9e-abd1-c8b0194f7dca\" xlink:show=\"new\" xlink:title=\"psysml:87edab01-bf58-4e9e-abd1-c8b0194f7dca\" xlink:type=\"simple\"><rect fill=\"#FEFECE\" filter=\"url(#f84qfw7otag51)\" height=\"45.9375\" id=\"E12\" rx=\"10\" ry=\"10\" style=\"stroke: #A80036; stroke-width: 1.5;\" width=\"68\" x=\"568\" y=\"84\"/><ellipse cx=\"583\" cy=\"102.9688\" fill=\"#32CD32\" rx=\"11\" ry=\"11\" style=\"stroke: #A80036; stroke-width: 1.0;\"/><path d=\"M582.7969,98.6406 L582.7969,102.2656 L583.7969,102.2656 Q585,102.2656 585.4844,101.8594 Q585.9688,101.4531 585.9688,100.4531 Q585.9688,99.4531 585.4844,99.0469 Q585,98.6406 583.7969,98.6406 L582.7969,98.6406 Z M580.3438,96.5781 L583.7031,96.5781 Q586.2656,96.5781 587.3906,97.5 Q588.5156,98.4063 588.5156,100.4531 Q588.5156,102.5 587.3906,103.4219 Q586.2656,104.3281 583.7031,104.3281 L582.7969,104.3281 L582.7969,108.9688 L580.3438,108.9688 L580.3438,96.5781 Z \"/><text fill=\"#000000\" font-family=\"sans-serif\" font-size=\"12\" font-style=\"italic\" lengthAdjust=\"spacingAndGlyphs\" textLength=\"40\" x=\"595\" y=\"100.1387\">«part»</text><text fill=\"#000000\" font-family=\"sans-serif\" font-size=\"12\" lengthAdjust=\"spacingAndGlyphs\" textLength=\"22\" x=\"604\" y=\"114.1074\">x: A</text><line style=\"stroke: #A80036; stroke-width: 1.5;\" x1=\"569\" x2=\"635\" y1=\"121.9375\" y2=\"121.9375\"/></a><!--MD5=[ee3c913d1a06f366521f9ef512b67efe]\n",
       "class E13--><a href=\"psysml:20c5387a-1627-4e14-8312-6f39b31ab3f7\" target=\"_top\" title=\"psysml:20c5387a-1627-4e14-8312-6f39b31ab3f7\" xlink:actuate=\"onRequest\" xlink:href=\"psysml:20c5387a-1627-4e14-8312-6f39b31ab3f7\" xlink:show=\"new\" xlink:title=\"psysml:20c5387a-1627-4e14-8312-6f39b31ab3f7\" xlink:type=\"simple\"><rect fill=\"#FEFECE\" filter=\"url(#f84qfw7otag51)\" height=\"45.9375\" id=\"E13\" rx=\"10\" ry=\"10\" style=\"stroke: #A80036; stroke-width: 1.5;\" width=\"68\" x=\"32\" y=\"84\"/><ellipse cx=\"47\" cy=\"102.9688\" fill=\"#32CD32\" rx=\"11\" ry=\"11\" style=\"stroke: #A80036; stroke-width: 1.0;\"/><path d=\"M46.7969,98.6406 L46.7969,102.2656 L47.7969,102.2656 Q49,102.2656 49.4844,101.8594 Q49.9688,101.4531 49.9688,100.4531 Q49.9688,99.4531 49.4844,99.0469 Q49,98.6406 47.7969,98.6406 L46.7969,98.6406 Z M44.3438,96.5781 L47.7031,96.5781 Q50.2656,96.5781 51.3906,97.5 Q52.5156,98.4063 52.5156,100.4531 Q52.5156,102.5 51.3906,103.4219 Q50.2656,104.3281 47.7031,104.3281 L46.7969,104.3281 L46.7969,108.9688 L44.3438,108.9688 L44.3438,96.5781 Z \"/><text fill=\"#000000\" font-family=\"sans-serif\" font-size=\"12\" font-style=\"italic\" lengthAdjust=\"spacingAndGlyphs\" textLength=\"40\" x=\"59\" y=\"100.1387\">«part»</text><text fill=\"#000000\" font-family=\"sans-serif\" font-size=\"12\" lengthAdjust=\"spacingAndGlyphs\" textLength=\"22\" x=\"68\" y=\"114.1074\">y: B</text><line style=\"stroke: #A80036; stroke-width: 1.5;\" x1=\"33\" x2=\"99\" y1=\"121.9375\" y2=\"121.9375\"/></a><!--MD5=[09b614a08d8cba4a07c9adeb5e0fee81]\n",
       "class E3--><a href=\"psysml:281245e6-0723-4878-ac57-c406fd778909\" target=\"_top\" title=\"psysml:281245e6-0723-4878-ac57-c406fd778909\" xlink:actuate=\"onRequest\" xlink:href=\"psysml:281245e6-0723-4878-ac57-c406fd778909\" xlink:show=\"new\" xlink:title=\"psysml:281245e6-0723-4878-ac57-c406fd778909\" xlink:type=\"simple\"><rect fill=\"#FEFECE\" filter=\"url(#f84qfw7otag51)\" height=\"40\" id=\"E3\" style=\"stroke: #A80036; stroke-width: 1.5;\" width=\"40\" x=\"479\" y=\"205\"/><ellipse cx=\"494\" cy=\"221\" fill=\"#008000\" rx=\"11\" ry=\"11\" style=\"stroke: #A80036; stroke-width: 1.0;\"/><path d=\"M492.9063,221.375 L492.9063,225.0469 L494.5313,225.0469 Q495.7031,225.0469 496.1719,224.6563 Q496.6406,224.25 496.6406,223.25 Q496.6406,222.25 496.1406,221.8125 Q495.6563,221.375 494.5313,221.375 L492.9063,221.375 Z M492.9063,216.5469 L492.9063,219.4219 L494.5313,219.4219 Q495.4531,219.4219 495.8438,219.0938 Q496.25,218.75 496.25,218 Q496.25,217.2344 495.8438,216.8906 Q495.4375,216.5469 494.5313,216.5469 L492.9063,216.5469 Z M490.5313,214.5938 L494.5313,214.5938 Q496.5938,214.5938 497.6406,215.375 Q498.6875,216.1563 498.6875,217.7188 Q498.6875,218.9219 498.0625,219.5938 Q497.4531,220.2656 496.2656,220.375 Q497.6875,220.5156 498.4063,221.3281 Q499.125,222.1406 499.125,223.5938 Q499.125,225.3906 498.0469,226.2031 Q496.9688,227 494.5313,227 L490.5313,227 L490.5313,214.5938 Z \"/><text fill=\"#000000\" font-family=\"sans-serif\" font-size=\"12\" lengthAdjust=\"spacingAndGlyphs\" textLength=\"8\" x=\"508\" y=\"225.1543\">A</text><line style=\"stroke: #A80036; stroke-width: 1.5;\" x1=\"480\" x2=\"518\" y1=\"237\" y2=\"237\"/></a><!--MD5=[270fce915f116d4de14055a7c1d9a0f3]\n",
       "class E5--><a href=\"psysml:57665928-471f-4095-91e2-d839a960cf78\" target=\"_top\" title=\"psysml:57665928-471f-4095-91e2-d839a960cf78\" xlink:actuate=\"onRequest\" xlink:href=\"psysml:57665928-471f-4095-91e2-d839a960cf78\" xlink:show=\"new\" xlink:title=\"psysml:57665928-471f-4095-91e2-d839a960cf78\" xlink:type=\"simple\"><rect fill=\"#FEFECE\" filter=\"url(#f84qfw7otag51)\" height=\"40\" id=\"E5\" style=\"stroke: #A80036; stroke-width: 1.5;\" width=\"40\" x=\"149\" y=\"205\"/><ellipse cx=\"164\" cy=\"221\" fill=\"#008000\" rx=\"11\" ry=\"11\" style=\"stroke: #A80036; stroke-width: 1.0;\"/><path d=\"M162.9063,221.375 L162.9063,225.0469 L164.5313,225.0469 Q165.7031,225.0469 166.1719,224.6563 Q166.6406,224.25 166.6406,223.25 Q166.6406,222.25 166.1406,221.8125 Q165.6563,221.375 164.5313,221.375 L162.9063,221.375 Z M162.9063,216.5469 L162.9063,219.4219 L164.5313,219.4219 Q165.4531,219.4219 165.8438,219.0938 Q166.25,218.75 166.25,218 Q166.25,217.2344 165.8438,216.8906 Q165.4375,216.5469 164.5313,216.5469 L162.9063,216.5469 Z M160.5313,214.5938 L164.5313,214.5938 Q166.5938,214.5938 167.6406,215.375 Q168.6875,216.1563 168.6875,217.7188 Q168.6875,218.9219 168.0625,219.5938 Q167.4531,220.2656 166.2656,220.375 Q167.6875,220.5156 168.4063,221.3281 Q169.125,222.1406 169.125,223.5938 Q169.125,225.3906 168.0469,226.2031 Q166.9688,227 164.5313,227 L160.5313,227 L160.5313,214.5938 Z \"/><text fill=\"#000000\" font-family=\"sans-serif\" font-size=\"12\" lengthAdjust=\"spacingAndGlyphs\" textLength=\"8\" x=\"178\" y=\"225.1543\">B</text><line style=\"stroke: #A80036; stroke-width: 1.5;\" x1=\"150\" x2=\"188\" y1=\"237\" y2=\"237\"/></a><!--MD5=[2156ba9850f5573cc1fc38a6a4b2f02b]\n",
       "class E7--><a href=\"psysml:d6e39b1a-8a39-4c69-85ab-aa8551443e08\" target=\"_top\" title=\"psysml:d6e39b1a-8a39-4c69-85ab-aa8551443e08\" xlink:actuate=\"onRequest\" xlink:href=\"psysml:d6e39b1a-8a39-4c69-85ab-aa8551443e08\" xlink:show=\"new\" xlink:title=\"psysml:d6e39b1a-8a39-4c69-85ab-aa8551443e08\" xlink:type=\"simple\"><rect fill=\"#FEFECE\" filter=\"url(#f84qfw7otag51)\" height=\"45.9375\" id=\"E7\" rx=\"10\" ry=\"10\" style=\"stroke: #A80036; stroke-width: 1.5;\" width=\"68\" x=\"465\" y=\"84\"/><ellipse cx=\"480\" cy=\"102.9688\" fill=\"#32CD32\" rx=\"11\" ry=\"11\" style=\"stroke: #A80036; stroke-width: 1.0;\"/><path d=\"M479.7969,98.6406 L479.7969,102.2656 L480.7969,102.2656 Q482,102.2656 482.4844,101.8594 Q482.9688,101.4531 482.9688,100.4531 Q482.9688,99.4531 482.4844,99.0469 Q482,98.6406 480.7969,98.6406 L479.7969,98.6406 Z M477.3438,96.5781 L480.7031,96.5781 Q483.2656,96.5781 484.3906,97.5 Q485.5156,98.4063 485.5156,100.4531 Q485.5156,102.5 484.3906,103.4219 Q483.2656,104.3281 480.7031,104.3281 L479.7969,104.3281 L479.7969,108.9688 L477.3438,108.9688 L477.3438,96.5781 Z \"/><text fill=\"#000000\" font-family=\"sans-serif\" font-size=\"12\" font-style=\"italic\" lengthAdjust=\"spacingAndGlyphs\" textLength=\"40\" x=\"492\" y=\"100.1387\">«part»</text><text fill=\"#000000\" font-family=\"sans-serif\" font-size=\"12\" lengthAdjust=\"spacingAndGlyphs\" textLength=\"22\" x=\"501\" y=\"114.1074\">x: A</text><line style=\"stroke: #A80036; stroke-width: 1.5;\" x1=\"466\" x2=\"532\" y1=\"121.9375\" y2=\"121.9375\"/></a><!--MD5=[b9389687b975829384b498ac4b7476b2]\n",
       "class E8--><a href=\"psysml:ead6e64d-b294-4a2d-a1d8-90d3751f1490\" target=\"_top\" title=\"psysml:ead6e64d-b294-4a2d-a1d8-90d3751f1490\" xlink:actuate=\"onRequest\" xlink:href=\"psysml:ead6e64d-b294-4a2d-a1d8-90d3751f1490\" xlink:show=\"new\" xlink:title=\"psysml:ead6e64d-b294-4a2d-a1d8-90d3751f1490\" xlink:type=\"simple\"><rect fill=\"#FEFECE\" filter=\"url(#f84qfw7otag51)\" height=\"45.9375\" id=\"E8\" rx=\"10\" ry=\"10\" style=\"stroke: #A80036; stroke-width: 1.5;\" width=\"68\" x=\"362\" y=\"84\"/><ellipse cx=\"377\" cy=\"102.9688\" fill=\"#32CD32\" rx=\"11\" ry=\"11\" style=\"stroke: #A80036; stroke-width: 1.0;\"/><path d=\"M376.7969,98.6406 L376.7969,102.2656 L377.7969,102.2656 Q379,102.2656 379.4844,101.8594 Q379.9688,101.4531 379.9688,100.4531 Q379.9688,99.4531 379.4844,99.0469 Q379,98.6406 377.7969,98.6406 L376.7969,98.6406 Z M374.3438,96.5781 L377.7031,96.5781 Q380.2656,96.5781 381.3906,97.5 Q382.5156,98.4063 382.5156,100.4531 Q382.5156,102.5 381.3906,103.4219 Q380.2656,104.3281 377.7031,104.3281 L376.7969,104.3281 L376.7969,108.9688 L374.3438,108.9688 L374.3438,96.5781 Z \"/><text fill=\"#000000\" font-family=\"sans-serif\" font-size=\"12\" font-style=\"italic\" lengthAdjust=\"spacingAndGlyphs\" textLength=\"40\" x=\"389\" y=\"100.1387\">«part»</text><text fill=\"#000000\" font-family=\"sans-serif\" font-size=\"12\" lengthAdjust=\"spacingAndGlyphs\" textLength=\"22\" x=\"398\" y=\"114.1074\">y: B</text><line style=\"stroke: #A80036; stroke-width: 1.5;\" x1=\"363\" x2=\"429\" y1=\"121.9375\" y2=\"121.9375\"/></a><!--MD5=[96f4274e9e20536e775497830990834d]\n",
       "class E10--><a href=\"psysml:f3cb1211-10b9-411e-bf19-d5722693e1fe\" target=\"_top\" title=\"psysml:f3cb1211-10b9-411e-bf19-d5722693e1fe\" xlink:actuate=\"onRequest\" xlink:href=\"psysml:f3cb1211-10b9-411e-bf19-d5722693e1fe\" xlink:show=\"new\" xlink:title=\"psysml:f3cb1211-10b9-411e-bf19-d5722693e1fe\" xlink:type=\"simple\"><rect fill=\"#FEFECE\" filter=\"url(#f84qfw7otag51)\" height=\"45.9375\" id=\"E10\" rx=\"10\" ry=\"10\" style=\"stroke: #A80036; stroke-width: 1.5;\" width=\"68\" x=\"238\" y=\"84\"/><ellipse cx=\"253\" cy=\"102.9688\" fill=\"#32CD32\" rx=\"11\" ry=\"11\" style=\"stroke: #A80036; stroke-width: 1.0;\"/><path d=\"M252.7969,98.6406 L252.7969,102.2656 L253.7969,102.2656 Q255,102.2656 255.4844,101.8594 Q255.9688,101.4531 255.9688,100.4531 Q255.9688,99.4531 255.4844,99.0469 Q255,98.6406 253.7969,98.6406 L252.7969,98.6406 Z M250.3438,96.5781 L253.7031,96.5781 Q256.2656,96.5781 257.3906,97.5 Q258.5156,98.4063 258.5156,100.4531 Q258.5156,102.5 257.3906,103.4219 Q256.2656,104.3281 253.7031,104.3281 L252.7969,104.3281 L252.7969,108.9688 L250.3438,108.9688 L250.3438,96.5781 Z \"/><text fill=\"#000000\" font-family=\"sans-serif\" font-size=\"12\" font-style=\"italic\" lengthAdjust=\"spacingAndGlyphs\" textLength=\"40\" x=\"265\" y=\"100.1387\">«part»</text><text fill=\"#000000\" font-family=\"sans-serif\" font-size=\"12\" lengthAdjust=\"spacingAndGlyphs\" textLength=\"22\" x=\"274\" y=\"114.1074\">x: A</text><line style=\"stroke: #A80036; stroke-width: 1.5;\" x1=\"239\" x2=\"305\" y1=\"121.9375\" y2=\"121.9375\"/></a><!--MD5=[1dd1bfd58a279cf63c5f349dbc8fc6a1]\n",
       "class E11--><a href=\"psysml:9cdccab4-e502-4fbe-97eb-9b231d825ffa\" target=\"_top\" title=\"psysml:9cdccab4-e502-4fbe-97eb-9b231d825ffa\" xlink:actuate=\"onRequest\" xlink:href=\"psysml:9cdccab4-e502-4fbe-97eb-9b231d825ffa\" xlink:show=\"new\" xlink:title=\"psysml:9cdccab4-e502-4fbe-97eb-9b231d825ffa\" xlink:type=\"simple\"><rect fill=\"#FEFECE\" filter=\"url(#f84qfw7otag51)\" height=\"45.9375\" id=\"E11\" rx=\"10\" ry=\"10\" style=\"stroke: #A80036; stroke-width: 1.5;\" width=\"68\" x=\"135\" y=\"84\"/><ellipse cx=\"150\" cy=\"102.9688\" fill=\"#32CD32\" rx=\"11\" ry=\"11\" style=\"stroke: #A80036; stroke-width: 1.0;\"/><path d=\"M149.7969,98.6406 L149.7969,102.2656 L150.7969,102.2656 Q152,102.2656 152.4844,101.8594 Q152.9688,101.4531 152.9688,100.4531 Q152.9688,99.4531 152.4844,99.0469 Q152,98.6406 150.7969,98.6406 L149.7969,98.6406 Z M147.3438,96.5781 L150.7031,96.5781 Q153.2656,96.5781 154.3906,97.5 Q155.5156,98.4063 155.5156,100.4531 Q155.5156,102.5 154.3906,103.4219 Q153.2656,104.3281 150.7031,104.3281 L149.7969,104.3281 L149.7969,108.9688 L147.3438,108.9688 L147.3438,96.5781 Z \"/><text fill=\"#000000\" font-family=\"sans-serif\" font-size=\"12\" font-style=\"italic\" lengthAdjust=\"spacingAndGlyphs\" textLength=\"40\" x=\"162\" y=\"100.1387\">«part»</text><text fill=\"#000000\" font-family=\"sans-serif\" font-size=\"12\" lengthAdjust=\"spacingAndGlyphs\" textLength=\"22\" x=\"171\" y=\"114.1074\">y: B</text><line style=\"stroke: #A80036; stroke-width: 1.5;\" x1=\"136\" x2=\"202\" y1=\"121.9375\" y2=\"121.9375\"/></a><!--MD5=[14ccda38c055a5c0da953d572bc50960]\n",
       "link E7 to E3--><a href=\"psysml:84278f38-d400-4655-8657-76a37dd9bb09\" target=\"_top\" title=\"psysml:84278f38-d400-4655-8657-76a37dd9bb09\" xlink:actuate=\"onRequest\" xlink:href=\"psysml:84278f38-d400-4655-8657-76a37dd9bb09\" xlink:show=\"new\" xlink:title=\"psysml:84278f38-d400-4655-8657-76a37dd9bb09\" xlink:type=\"simple\"><path d=\"M499,130.09 C499,145.42 499,166.27 499,184.42 \" fill=\"none\" id=\"E7-&gt;E3\" style=\"stroke: #A80036; stroke-width: 1.0;\"/><polygon fill=\"#FFFFFF\" points=\"499,204.69,492,185.69,506,185.69,499,204.69\" style=\"stroke: #A80036; stroke-width: 1.0;\"/><ellipse cx=\"494\" cy=\"179.99\" fill=\"#A80036\" rx=\"2\" ry=\"2\" style=\"stroke: #A80036; stroke-width: 1.0;\"/><ellipse cx=\"504\" cy=\"179.99\" fill=\"#A80036\" rx=\"2\" ry=\"2\" style=\"stroke: #A80036; stroke-width: 1.0;\"/></a><!--MD5=[1ccb2481ffa92f8d51a74ee30c51832a]\n",
       "link E8 to E5--><a href=\"psysml:9a62fcce-aa5a-49d2-8cac-0b2f538e5bd0\" target=\"_top\" title=\"psysml:9a62fcce-aa5a-49d2-8cac-0b2f538e5bd0\" xlink:actuate=\"onRequest\" xlink:href=\"psysml:9a62fcce-aa5a-49d2-8cac-0b2f538e5bd0\" xlink:show=\"new\" xlink:title=\"psysml:9a62fcce-aa5a-49d2-8cac-0b2f538e5bd0\" xlink:type=\"simple\"><path d=\"M362.27,130.22 C349.82,138.09 335.46,146.77 322,154 C284.18,174.3 239.36,194.36 208.05,207.77 \" fill=\"none\" id=\"E8-&gt;E5\" style=\"stroke: #A80036; stroke-width: 1.0;\"/><polygon fill=\"#FFFFFF\" points=\"189.2,215.73,203.9741,201.8834,209.4261,214.7782,189.2,215.73\" style=\"stroke: #A80036; stroke-width: 1.0;\"/><ellipse cx=\"210.0029\" cy=\"201.5058\" fill=\"#A80036\" rx=\"2\" ry=\"2\" style=\"stroke: #A80036; stroke-width: 1.0;\"/><ellipse cx=\"213.8972\" cy=\"210.7164\" fill=\"#A80036\" rx=\"2\" ry=\"2\" style=\"stroke: #A80036; stroke-width: 1.0;\"/></a><!--MD5=[feeac5eb423634930294aa81f2d25a4c]\n",
       "link E10 to E3--><a href=\"psysml:bd7260c7-b55a-4391-86f8-9493bae3bcdc\" target=\"_top\" title=\"psysml:bd7260c7-b55a-4391-86f8-9493bae3bcdc\" xlink:actuate=\"onRequest\" xlink:href=\"psysml:bd7260c7-b55a-4391-86f8-9493bae3bcdc\" xlink:show=\"new\" xlink:title=\"psysml:bd7260c7-b55a-4391-86f8-9493bae3bcdc\" xlink:type=\"simple\"><path d=\"M305.73,130.22 C318.18,138.09 332.54,146.77 346,154 C383.82,174.3 428.64,194.36 459.95,207.77 \" fill=\"none\" id=\"E10-&gt;E3\" style=\"stroke: #A80036; stroke-width: 1.0;\"/><polygon fill=\"#FFFFFF\" points=\"478.8,215.73,458.5739,214.7782,464.0259,201.8834,478.8,215.73\" style=\"stroke: #A80036; stroke-width: 1.0;\"/><ellipse cx=\"454.1028\" cy=\"210.7164\" fill=\"#A80036\" rx=\"2\" ry=\"2\" style=\"stroke: #A80036; stroke-width: 1.0;\"/><ellipse cx=\"457.9971\" cy=\"201.5058\" fill=\"#A80036\" rx=\"2\" ry=\"2\" style=\"stroke: #A80036; stroke-width: 1.0;\"/></a><!--MD5=[07b77f6f309248d16187045709d1c26e]\n",
       "link E11 to E5--><a href=\"psysml:099d00ce-a154-42ce-865e-6b31b35a0829\" target=\"_top\" title=\"psysml:099d00ce-a154-42ce-865e-6b31b35a0829\" xlink:actuate=\"onRequest\" xlink:href=\"psysml:099d00ce-a154-42ce-865e-6b31b35a0829\" xlink:show=\"new\" xlink:title=\"psysml:099d00ce-a154-42ce-865e-6b31b35a0829\" xlink:type=\"simple\"><path d=\"M169,130.09 C169,145.42 169,166.27 169,184.42 \" fill=\"none\" id=\"E11-&gt;E5\" style=\"stroke: #A80036; stroke-width: 1.0;\"/><polygon fill=\"#FFFFFF\" points=\"169,204.69,162,185.69,176,185.69,169,204.69\" style=\"stroke: #A80036; stroke-width: 1.0;\"/><ellipse cx=\"164\" cy=\"179.99\" fill=\"#A80036\" rx=\"2\" ry=\"2\" style=\"stroke: #A80036; stroke-width: 1.0;\"/><ellipse cx=\"174\" cy=\"179.99\" fill=\"#A80036\" rx=\"2\" ry=\"2\" style=\"stroke: #A80036; stroke-width: 1.0;\"/></a><!--MD5=[39f41a0e550fb3d73b4d8135617e30a2]\n",
       "link E12 to E3--><a href=\"psysml:2e0d72ae-9b36-4ac2-af7e-1d21d87eecf3\" target=\"_top\" title=\"psysml:2e0d72ae-9b36-4ac2-af7e-1d21d87eecf3\" xlink:actuate=\"onRequest\" xlink:href=\"psysml:2e0d72ae-9b36-4ac2-af7e-1d21d87eecf3\" xlink:show=\"new\" xlink:title=\"psysml:2e0d72ae-9b36-4ac2-af7e-1d21d87eecf3\" xlink:type=\"simple\"><path d=\"M582.38,130.09 C567.43,146.94 546.56,170.44 529.44,189.72 \" fill=\"none\" id=\"E12-&gt;E3\" style=\"stroke: #A80036; stroke-width: 1.0;\"/><polygon fill=\"#FFFFFF\" points=\"516.15,204.69,523.5343,185.836,534.0014,195.1334,516.15,204.69\" style=\"stroke: #A80036; stroke-width: 1.0;\"/><ellipse cx=\"528.815\" cy=\"182.9027\" fill=\"#A80036\" rx=\"2\" ry=\"2\" style=\"stroke: #A80036; stroke-width: 1.0;\"/><ellipse cx=\"536.2914\" cy=\"189.5436\" fill=\"#A80036\" rx=\"2\" ry=\"2\" style=\"stroke: #A80036; stroke-width: 1.0;\"/></a><!--MD5=[066b2d8af59fea80ccdb3d54ad5c1091]\n",
       "link E13 to E5--><a href=\"psysml:28c76814-e954-4c97-b716-40e2f6813c6b\" target=\"_top\" title=\"psysml:28c76814-e954-4c97-b716-40e2f6813c6b\" xlink:actuate=\"onRequest\" xlink:href=\"psysml:28c76814-e954-4c97-b716-40e2f6813c6b\" xlink:show=\"new\" xlink:title=\"psysml:28c76814-e954-4c97-b716-40e2f6813c6b\" xlink:type=\"simple\"><path d=\"M85.62,130.09 C100.57,146.94 121.44,170.44 138.56,189.72 \" fill=\"none\" id=\"E13-&gt;E5\" style=\"stroke: #A80036; stroke-width: 1.0;\"/><polygon fill=\"#FFFFFF\" points=\"151.85,204.69,133.9986,195.1334,144.4657,185.836,151.85,204.69\" style=\"stroke: #A80036; stroke-width: 1.0;\"/><ellipse cx=\"131.7086\" cy=\"189.5436\" fill=\"#A80036\" rx=\"2\" ry=\"2\" style=\"stroke: #A80036; stroke-width: 1.0;\"/><ellipse cx=\"139.185\" cy=\"182.9027\" fill=\"#A80036\" rx=\"2\" ry=\"2\" style=\"stroke: #A80036; stroke-width: 1.0;\"/></a><!--MD5=[559083c0fb472d2183a3133336bf53b7]\n",
       "@startuml\r\n",
       " \r\n",
       "package \"CircularImport\" as E1  [[psysml:690cd2ec-4fe7-4d94-89bf-c3d63ed60cd3 ]]  {\r\n",
       "package \"P1\" as E2  [[psysml:54e3154d-4fa4-4c14-a367-edca149a76a1 ]]  {\r\n",
       "comp def \"A\" as E3  << (B,green) >> [[psysml:281245e6-0723-4878-ac57-c406fd778909 ]] {\r\n",
       "}\r\n",
       "}\r\n",
       "package \"P2\" as E4  [[psysml:581c4a9e-fb07-4d80-ac64-c8c7b70027d2 ]]  {\r\n",
       "comp def \"B\" as E5  << (B,green) >> [[psysml:57665928-471f-4095-91e2-d839a960cf78 ]] {\r\n",
       "}\r\n",
       "}\r\n",
       "package \"Test1\" as E6  [[psysml:6bb49afc-ac2c-47b7-b48e-5bd0a62b326b ]]  {\r\n",
       "comp usage \"x: A\" as E7  << (P,limegreen) part>> [[psysml:d6e39b1a-8a39-4c69-85ab-aa8551443e08 ]] {\r\n",
       "}\r\n",
       "comp usage \"y: B\" as E8  << (P,limegreen) part>> [[psysml:ead6e64d-b294-4a2d-a1d8-90d3751f1490 ]] {\r\n",
       "}\r\n",
       "E7 - -:|> E3 [[psysml:84278f38-d400-4655-8657-76a37dd9bb09 ]] \r\n",
       "E8 - -:|> E5 [[psysml:9a62fcce-aa5a-49d2-8cac-0b2f538e5bd0 ]] \r\n",
       "}\r\n",
       "package \"Test2\" as E9  [[psysml:051bf7cb-81b8-4c37-8865-8bb7ea974985 ]]  {\r\n",
       "comp usage \"x: A\" as E10  << (P,limegreen) part>> [[psysml:f3cb1211-10b9-411e-bf19-d5722693e1fe ]] {\r\n",
       "}\r\n",
       "comp usage \"y: B\" as E11  << (P,limegreen) part>> [[psysml:9cdccab4-e502-4fbe-97eb-9b231d825ffa ]] {\r\n",
       "}\r\n",
       "E10 - -:|> E3 [[psysml:bd7260c7-b55a-4391-86f8-9493bae3bcdc ]] \r\n",
       "E11 - -:|> E5 [[psysml:099d00ce-a154-42ce-865e-6b31b35a0829 ]] \r\n",
       "}\r\n",
       "comp usage \"x: A\" as E12  << (P,limegreen) part>> [[psysml:87edab01-bf58-4e9e-abd1-c8b0194f7dca ]] {\r\n",
       "}\r\n",
       "comp usage \"y: B\" as E13  << (P,limegreen) part>> [[psysml:20c5387a-1627-4e14-8312-6f39b31ab3f7 ]] {\r\n",
       "}\r\n",
       "E12 - -:|> E3 [[psysml:2e0d72ae-9b36-4ac2-af7e-1d21d87eecf3 ]] \r\n",
       "E13 - -:|> E5 [[psysml:28c76814-e954-4c97-b716-40e2f6813c6b ]] \r\n",
       "}\r\n",
       "@enduml\r\n",
       "\n",
       "PlantUML version 1.2020.13(Sat Jun 13 12:26:38 UTC 2020)\n",
       "(EPL source distribution)\n",
       "Java Runtime: OpenJDK Runtime Environment\n",
       "JVM: OpenJDK 64-Bit Server VM\n",
       "Default Encoding: UTF-8\n",
       "Language: en\n",
       "Country: null\n",
       "--></g></svg>"
      ]
     },
     "execution_count": 35,
     "metadata": {},
     "output_type": "execute_result"
    }
   ],
   "source": [
    "%viz --style=\"PLANTUML\" --view=\"Sequence\" \"CircularImport\""
   ]
  },
  {
   "cell_type": "code",
   "execution_count": 36,
   "id": "4934b6a9",
   "metadata": {
    "execution": {
     "iopub.execute_input": "2021-04-20T06:57:54.503419Z",
     "iopub.status.busy": "2021-04-20T06:57:54.503024Z",
     "iopub.status.idle": "2021-04-20T06:57:54.540516Z",
     "shell.execute_reply": "2021-04-20T06:57:54.540151Z"
    }
   },
   "outputs": [
    {
     "data": {
      "image/svg+xml": [
       "<?xml version=\"1.0\" encoding=\"UTF-8\" standalone=\"no\"?><svg xmlns=\"http://www.w3.org/2000/svg\" xmlns:xlink=\"http://www.w3.org/1999/xlink\" contentScriptType=\"application/ecmascript\" contentStyleType=\"text/css\" height=\"297px\" preserveAspectRatio=\"none\" style=\"width:674px;height:297px;\" version=\"1.1\" viewBox=\"0 0 674 297\" width=\"674px\" zoomAndPan=\"magnify\"><defs><filter height=\"300%\" id=\"f84qfw7otag51\" width=\"300%\" x=\"-1\" y=\"-1\"><feGaussianBlur result=\"blurOut\" stdDeviation=\"2.0\"/><feColorMatrix in=\"blurOut\" result=\"blurOut2\" type=\"matrix\" values=\"0 0 0 0 0 0 0 0 0 0 0 0 0 0 0 0 0 0 .4 0\"/><feOffset dx=\"4.0\" dy=\"4.0\" in=\"blurOut2\" result=\"blurOut3\"/><feBlend in=\"SourceGraphic\" in2=\"blurOut3\" mode=\"normal\"/></filter></defs><g><!--MD5=[fbc87193dbaf4d95561dea2c320d4a47]\n",
       "cluster E1--><a href=\"psysml:690cd2ec-4fe7-4d94-89bf-c3d63ed60cd3\" target=\"_top\" title=\"psysml:690cd2ec-4fe7-4d94-89bf-c3d63ed60cd3\" xlink:actuate=\"onRequest\" xlink:href=\"psysml:690cd2ec-4fe7-4d94-89bf-c3d63ed60cd3\" xlink:show=\"new\" xlink:title=\"psysml:690cd2ec-4fe7-4d94-89bf-c3d63ed60cd3\" xlink:type=\"simple\"><polygon fill=\"#FFFFFF\" filter=\"url(#f84qfw7otag51)\" points=\"16,6,134,6,141,28.2969,652,28.2969,652,285,16,285,16,6\" style=\"stroke: #000000; stroke-width: 1.5;\"/><line style=\"stroke: #000000; stroke-width: 1.5;\" x1=\"16\" x2=\"141\" y1=\"28.2969\" y2=\"28.2969\"/><text fill=\"#000000\" font-family=\"sans-serif\" font-size=\"14\" font-weight=\"bold\" lengthAdjust=\"spacingAndGlyphs\" textLength=\"112\" x=\"20\" y=\"20.9951\">CircularImport</text></a><!--MD5=[e4f7fae6ed58524ba242bb0b0d3be6b7]\n",
       "cluster E2--><a href=\"psysml:54e3154d-4fa4-4c14-a367-edca149a76a1\" target=\"_top\" title=\"psysml:54e3154d-4fa4-4c14-a367-edca149a76a1\" xlink:actuate=\"onRequest\" xlink:href=\"psysml:54e3154d-4fa4-4c14-a367-edca149a76a1\" xlink:show=\"new\" xlink:title=\"psysml:54e3154d-4fa4-4c14-a367-edca149a76a1\" xlink:type=\"simple\"><polygon fill=\"#FFFFFF\" filter=\"url(#f84qfw7otag51)\" points=\"463,170,489,170,496,192.2969,535,192.2969,535,261,463,261,463,170\" style=\"stroke: #000000; stroke-width: 1.5;\"/><line style=\"stroke: #000000; stroke-width: 1.5;\" x1=\"463\" x2=\"496\" y1=\"192.2969\" y2=\"192.2969\"/><text fill=\"#000000\" font-family=\"sans-serif\" font-size=\"14\" font-weight=\"bold\" lengthAdjust=\"spacingAndGlyphs\" textLength=\"20\" x=\"467\" y=\"184.9951\">P1</text></a><!--MD5=[f6df4d0ebaf0b5dfb2ced0ae5af7c670]\n",
       "cluster E4--><a href=\"psysml:581c4a9e-fb07-4d80-ac64-c8c7b70027d2\" target=\"_top\" title=\"psysml:581c4a9e-fb07-4d80-ac64-c8c7b70027d2\" xlink:actuate=\"onRequest\" xlink:href=\"psysml:581c4a9e-fb07-4d80-ac64-c8c7b70027d2\" xlink:show=\"new\" xlink:title=\"psysml:581c4a9e-fb07-4d80-ac64-c8c7b70027d2\" xlink:type=\"simple\"><polygon fill=\"#FFFFFF\" filter=\"url(#f84qfw7otag51)\" points=\"133,170,159,170,166,192.2969,205,192.2969,205,261,133,261,133,170\" style=\"stroke: #000000; stroke-width: 1.5;\"/><line style=\"stroke: #000000; stroke-width: 1.5;\" x1=\"133\" x2=\"166\" y1=\"192.2969\" y2=\"192.2969\"/><text fill=\"#000000\" font-family=\"sans-serif\" font-size=\"14\" font-weight=\"bold\" lengthAdjust=\"spacingAndGlyphs\" textLength=\"20\" x=\"137\" y=\"184.9951\">P2</text></a><!--MD5=[14e3b0961a2654348d326746436168a1]\n",
       "cluster E6--><a href=\"psysml:6bb49afc-ac2c-47b7-b48e-5bd0a62b326b\" target=\"_top\" title=\"psysml:6bb49afc-ac2c-47b7-b48e-5bd0a62b326b\" xlink:actuate=\"onRequest\" xlink:href=\"psysml:6bb49afc-ac2c-47b7-b48e-5bd0a62b326b\" xlink:show=\"new\" xlink:title=\"psysml:6bb49afc-ac2c-47b7-b48e-5bd0a62b326b\" xlink:type=\"simple\"><polygon fill=\"#FFFFFF\" filter=\"url(#f84qfw7otag51)\" points=\"346,49,397,49,404,71.2969,549,71.2969,549,146,346,146,346,49\" style=\"stroke: #000000; stroke-width: 1.5;\"/><line style=\"stroke: #000000; stroke-width: 1.5;\" x1=\"346\" x2=\"404\" y1=\"71.2969\" y2=\"71.2969\"/><text fill=\"#000000\" font-family=\"sans-serif\" font-size=\"14\" font-weight=\"bold\" lengthAdjust=\"spacingAndGlyphs\" textLength=\"45\" x=\"350\" y=\"63.9951\">Test1</text></a><!--MD5=[7f149f147074ac12df2cb0a7728a5fb0]\n",
       "cluster E9--><a href=\"psysml:051bf7cb-81b8-4c37-8865-8bb7ea974985\" target=\"_top\" title=\"psysml:051bf7cb-81b8-4c37-8865-8bb7ea974985\" xlink:actuate=\"onRequest\" xlink:href=\"psysml:051bf7cb-81b8-4c37-8865-8bb7ea974985\" xlink:show=\"new\" xlink:title=\"psysml:051bf7cb-81b8-4c37-8865-8bb7ea974985\" xlink:type=\"simple\"><polygon fill=\"#FFFFFF\" filter=\"url(#f84qfw7otag51)\" points=\"119,49,170,49,177,71.2969,322,71.2969,322,146,119,146,119,49\" style=\"stroke: #000000; stroke-width: 1.5;\"/><line style=\"stroke: #000000; stroke-width: 1.5;\" x1=\"119\" x2=\"177\" y1=\"71.2969\" y2=\"71.2969\"/><text fill=\"#000000\" font-family=\"sans-serif\" font-size=\"14\" font-weight=\"bold\" lengthAdjust=\"spacingAndGlyphs\" textLength=\"45\" x=\"123\" y=\"63.9951\">Test2</text></a><!--MD5=[49a0ec8f00dab7302a31f22d0f0fe584]\n",
       "class E12--><a href=\"psysml:87edab01-bf58-4e9e-abd1-c8b0194f7dca\" target=\"_top\" title=\"psysml:87edab01-bf58-4e9e-abd1-c8b0194f7dca\" xlink:actuate=\"onRequest\" xlink:href=\"psysml:87edab01-bf58-4e9e-abd1-c8b0194f7dca\" xlink:show=\"new\" xlink:title=\"psysml:87edab01-bf58-4e9e-abd1-c8b0194f7dca\" xlink:type=\"simple\"><rect fill=\"#FEFECE\" filter=\"url(#f84qfw7otag51)\" height=\"45.9375\" id=\"E12\" rx=\"10\" ry=\"10\" style=\"stroke: #A80036; stroke-width: 1.5;\" width=\"68\" x=\"568\" y=\"84\"/><ellipse cx=\"583\" cy=\"102.9688\" fill=\"#32CD32\" rx=\"11\" ry=\"11\" style=\"stroke: #A80036; stroke-width: 1.0;\"/><path d=\"M582.7969,98.6406 L582.7969,102.2656 L583.7969,102.2656 Q585,102.2656 585.4844,101.8594 Q585.9688,101.4531 585.9688,100.4531 Q585.9688,99.4531 585.4844,99.0469 Q585,98.6406 583.7969,98.6406 L582.7969,98.6406 Z M580.3438,96.5781 L583.7031,96.5781 Q586.2656,96.5781 587.3906,97.5 Q588.5156,98.4063 588.5156,100.4531 Q588.5156,102.5 587.3906,103.4219 Q586.2656,104.3281 583.7031,104.3281 L582.7969,104.3281 L582.7969,108.9688 L580.3438,108.9688 L580.3438,96.5781 Z \"/><text fill=\"#000000\" font-family=\"sans-serif\" font-size=\"12\" font-style=\"italic\" lengthAdjust=\"spacingAndGlyphs\" textLength=\"40\" x=\"595\" y=\"100.1387\">«part»</text><text fill=\"#000000\" font-family=\"sans-serif\" font-size=\"12\" lengthAdjust=\"spacingAndGlyphs\" textLength=\"22\" x=\"604\" y=\"114.1074\">x: A</text><line style=\"stroke: #A80036; stroke-width: 1.5;\" x1=\"569\" x2=\"635\" y1=\"121.9375\" y2=\"121.9375\"/></a><!--MD5=[ee3c913d1a06f366521f9ef512b67efe]\n",
       "class E13--><a href=\"psysml:20c5387a-1627-4e14-8312-6f39b31ab3f7\" target=\"_top\" title=\"psysml:20c5387a-1627-4e14-8312-6f39b31ab3f7\" xlink:actuate=\"onRequest\" xlink:href=\"psysml:20c5387a-1627-4e14-8312-6f39b31ab3f7\" xlink:show=\"new\" xlink:title=\"psysml:20c5387a-1627-4e14-8312-6f39b31ab3f7\" xlink:type=\"simple\"><rect fill=\"#FEFECE\" filter=\"url(#f84qfw7otag51)\" height=\"45.9375\" id=\"E13\" rx=\"10\" ry=\"10\" style=\"stroke: #A80036; stroke-width: 1.5;\" width=\"68\" x=\"32\" y=\"84\"/><ellipse cx=\"47\" cy=\"102.9688\" fill=\"#32CD32\" rx=\"11\" ry=\"11\" style=\"stroke: #A80036; stroke-width: 1.0;\"/><path d=\"M46.7969,98.6406 L46.7969,102.2656 L47.7969,102.2656 Q49,102.2656 49.4844,101.8594 Q49.9688,101.4531 49.9688,100.4531 Q49.9688,99.4531 49.4844,99.0469 Q49,98.6406 47.7969,98.6406 L46.7969,98.6406 Z M44.3438,96.5781 L47.7031,96.5781 Q50.2656,96.5781 51.3906,97.5 Q52.5156,98.4063 52.5156,100.4531 Q52.5156,102.5 51.3906,103.4219 Q50.2656,104.3281 47.7031,104.3281 L46.7969,104.3281 L46.7969,108.9688 L44.3438,108.9688 L44.3438,96.5781 Z \"/><text fill=\"#000000\" font-family=\"sans-serif\" font-size=\"12\" font-style=\"italic\" lengthAdjust=\"spacingAndGlyphs\" textLength=\"40\" x=\"59\" y=\"100.1387\">«part»</text><text fill=\"#000000\" font-family=\"sans-serif\" font-size=\"12\" lengthAdjust=\"spacingAndGlyphs\" textLength=\"22\" x=\"68\" y=\"114.1074\">y: B</text><line style=\"stroke: #A80036; stroke-width: 1.5;\" x1=\"33\" x2=\"99\" y1=\"121.9375\" y2=\"121.9375\"/></a><!--MD5=[09b614a08d8cba4a07c9adeb5e0fee81]\n",
       "class E3--><a href=\"psysml:281245e6-0723-4878-ac57-c406fd778909\" target=\"_top\" title=\"psysml:281245e6-0723-4878-ac57-c406fd778909\" xlink:actuate=\"onRequest\" xlink:href=\"psysml:281245e6-0723-4878-ac57-c406fd778909\" xlink:show=\"new\" xlink:title=\"psysml:281245e6-0723-4878-ac57-c406fd778909\" xlink:type=\"simple\"><rect fill=\"#FEFECE\" filter=\"url(#f84qfw7otag51)\" height=\"40\" id=\"E3\" style=\"stroke: #A80036; stroke-width: 1.5;\" width=\"40\" x=\"479\" y=\"205\"/><ellipse cx=\"494\" cy=\"221\" fill=\"#008000\" rx=\"11\" ry=\"11\" style=\"stroke: #A80036; stroke-width: 1.0;\"/><path d=\"M492.9063,221.375 L492.9063,225.0469 L494.5313,225.0469 Q495.7031,225.0469 496.1719,224.6563 Q496.6406,224.25 496.6406,223.25 Q496.6406,222.25 496.1406,221.8125 Q495.6563,221.375 494.5313,221.375 L492.9063,221.375 Z M492.9063,216.5469 L492.9063,219.4219 L494.5313,219.4219 Q495.4531,219.4219 495.8438,219.0938 Q496.25,218.75 496.25,218 Q496.25,217.2344 495.8438,216.8906 Q495.4375,216.5469 494.5313,216.5469 L492.9063,216.5469 Z M490.5313,214.5938 L494.5313,214.5938 Q496.5938,214.5938 497.6406,215.375 Q498.6875,216.1563 498.6875,217.7188 Q498.6875,218.9219 498.0625,219.5938 Q497.4531,220.2656 496.2656,220.375 Q497.6875,220.5156 498.4063,221.3281 Q499.125,222.1406 499.125,223.5938 Q499.125,225.3906 498.0469,226.2031 Q496.9688,227 494.5313,227 L490.5313,227 L490.5313,214.5938 Z \"/><text fill=\"#000000\" font-family=\"sans-serif\" font-size=\"12\" lengthAdjust=\"spacingAndGlyphs\" textLength=\"8\" x=\"508\" y=\"225.1543\">A</text><line style=\"stroke: #A80036; stroke-width: 1.5;\" x1=\"480\" x2=\"518\" y1=\"237\" y2=\"237\"/></a><!--MD5=[270fce915f116d4de14055a7c1d9a0f3]\n",
       "class E5--><a href=\"psysml:57665928-471f-4095-91e2-d839a960cf78\" target=\"_top\" title=\"psysml:57665928-471f-4095-91e2-d839a960cf78\" xlink:actuate=\"onRequest\" xlink:href=\"psysml:57665928-471f-4095-91e2-d839a960cf78\" xlink:show=\"new\" xlink:title=\"psysml:57665928-471f-4095-91e2-d839a960cf78\" xlink:type=\"simple\"><rect fill=\"#FEFECE\" filter=\"url(#f84qfw7otag51)\" height=\"40\" id=\"E5\" style=\"stroke: #A80036; stroke-width: 1.5;\" width=\"40\" x=\"149\" y=\"205\"/><ellipse cx=\"164\" cy=\"221\" fill=\"#008000\" rx=\"11\" ry=\"11\" style=\"stroke: #A80036; stroke-width: 1.0;\"/><path d=\"M162.9063,221.375 L162.9063,225.0469 L164.5313,225.0469 Q165.7031,225.0469 166.1719,224.6563 Q166.6406,224.25 166.6406,223.25 Q166.6406,222.25 166.1406,221.8125 Q165.6563,221.375 164.5313,221.375 L162.9063,221.375 Z M162.9063,216.5469 L162.9063,219.4219 L164.5313,219.4219 Q165.4531,219.4219 165.8438,219.0938 Q166.25,218.75 166.25,218 Q166.25,217.2344 165.8438,216.8906 Q165.4375,216.5469 164.5313,216.5469 L162.9063,216.5469 Z M160.5313,214.5938 L164.5313,214.5938 Q166.5938,214.5938 167.6406,215.375 Q168.6875,216.1563 168.6875,217.7188 Q168.6875,218.9219 168.0625,219.5938 Q167.4531,220.2656 166.2656,220.375 Q167.6875,220.5156 168.4063,221.3281 Q169.125,222.1406 169.125,223.5938 Q169.125,225.3906 168.0469,226.2031 Q166.9688,227 164.5313,227 L160.5313,227 L160.5313,214.5938 Z \"/><text fill=\"#000000\" font-family=\"sans-serif\" font-size=\"12\" lengthAdjust=\"spacingAndGlyphs\" textLength=\"8\" x=\"178\" y=\"225.1543\">B</text><line style=\"stroke: #A80036; stroke-width: 1.5;\" x1=\"150\" x2=\"188\" y1=\"237\" y2=\"237\"/></a><!--MD5=[2156ba9850f5573cc1fc38a6a4b2f02b]\n",
       "class E7--><a href=\"psysml:d6e39b1a-8a39-4c69-85ab-aa8551443e08\" target=\"_top\" title=\"psysml:d6e39b1a-8a39-4c69-85ab-aa8551443e08\" xlink:actuate=\"onRequest\" xlink:href=\"psysml:d6e39b1a-8a39-4c69-85ab-aa8551443e08\" xlink:show=\"new\" xlink:title=\"psysml:d6e39b1a-8a39-4c69-85ab-aa8551443e08\" xlink:type=\"simple\"><rect fill=\"#FEFECE\" filter=\"url(#f84qfw7otag51)\" height=\"45.9375\" id=\"E7\" rx=\"10\" ry=\"10\" style=\"stroke: #A80036; stroke-width: 1.5;\" width=\"68\" x=\"465\" y=\"84\"/><ellipse cx=\"480\" cy=\"102.9688\" fill=\"#32CD32\" rx=\"11\" ry=\"11\" style=\"stroke: #A80036; stroke-width: 1.0;\"/><path d=\"M479.7969,98.6406 L479.7969,102.2656 L480.7969,102.2656 Q482,102.2656 482.4844,101.8594 Q482.9688,101.4531 482.9688,100.4531 Q482.9688,99.4531 482.4844,99.0469 Q482,98.6406 480.7969,98.6406 L479.7969,98.6406 Z M477.3438,96.5781 L480.7031,96.5781 Q483.2656,96.5781 484.3906,97.5 Q485.5156,98.4063 485.5156,100.4531 Q485.5156,102.5 484.3906,103.4219 Q483.2656,104.3281 480.7031,104.3281 L479.7969,104.3281 L479.7969,108.9688 L477.3438,108.9688 L477.3438,96.5781 Z \"/><text fill=\"#000000\" font-family=\"sans-serif\" font-size=\"12\" font-style=\"italic\" lengthAdjust=\"spacingAndGlyphs\" textLength=\"40\" x=\"492\" y=\"100.1387\">«part»</text><text fill=\"#000000\" font-family=\"sans-serif\" font-size=\"12\" lengthAdjust=\"spacingAndGlyphs\" textLength=\"22\" x=\"501\" y=\"114.1074\">x: A</text><line style=\"stroke: #A80036; stroke-width: 1.5;\" x1=\"466\" x2=\"532\" y1=\"121.9375\" y2=\"121.9375\"/></a><!--MD5=[b9389687b975829384b498ac4b7476b2]\n",
       "class E8--><a href=\"psysml:ead6e64d-b294-4a2d-a1d8-90d3751f1490\" target=\"_top\" title=\"psysml:ead6e64d-b294-4a2d-a1d8-90d3751f1490\" xlink:actuate=\"onRequest\" xlink:href=\"psysml:ead6e64d-b294-4a2d-a1d8-90d3751f1490\" xlink:show=\"new\" xlink:title=\"psysml:ead6e64d-b294-4a2d-a1d8-90d3751f1490\" xlink:type=\"simple\"><rect fill=\"#FEFECE\" filter=\"url(#f84qfw7otag51)\" height=\"45.9375\" id=\"E8\" rx=\"10\" ry=\"10\" style=\"stroke: #A80036; stroke-width: 1.5;\" width=\"68\" x=\"362\" y=\"84\"/><ellipse cx=\"377\" cy=\"102.9688\" fill=\"#32CD32\" rx=\"11\" ry=\"11\" style=\"stroke: #A80036; stroke-width: 1.0;\"/><path d=\"M376.7969,98.6406 L376.7969,102.2656 L377.7969,102.2656 Q379,102.2656 379.4844,101.8594 Q379.9688,101.4531 379.9688,100.4531 Q379.9688,99.4531 379.4844,99.0469 Q379,98.6406 377.7969,98.6406 L376.7969,98.6406 Z M374.3438,96.5781 L377.7031,96.5781 Q380.2656,96.5781 381.3906,97.5 Q382.5156,98.4063 382.5156,100.4531 Q382.5156,102.5 381.3906,103.4219 Q380.2656,104.3281 377.7031,104.3281 L376.7969,104.3281 L376.7969,108.9688 L374.3438,108.9688 L374.3438,96.5781 Z \"/><text fill=\"#000000\" font-family=\"sans-serif\" font-size=\"12\" font-style=\"italic\" lengthAdjust=\"spacingAndGlyphs\" textLength=\"40\" x=\"389\" y=\"100.1387\">«part»</text><text fill=\"#000000\" font-family=\"sans-serif\" font-size=\"12\" lengthAdjust=\"spacingAndGlyphs\" textLength=\"22\" x=\"398\" y=\"114.1074\">y: B</text><line style=\"stroke: #A80036; stroke-width: 1.5;\" x1=\"363\" x2=\"429\" y1=\"121.9375\" y2=\"121.9375\"/></a><!--MD5=[96f4274e9e20536e775497830990834d]\n",
       "class E10--><a href=\"psysml:f3cb1211-10b9-411e-bf19-d5722693e1fe\" target=\"_top\" title=\"psysml:f3cb1211-10b9-411e-bf19-d5722693e1fe\" xlink:actuate=\"onRequest\" xlink:href=\"psysml:f3cb1211-10b9-411e-bf19-d5722693e1fe\" xlink:show=\"new\" xlink:title=\"psysml:f3cb1211-10b9-411e-bf19-d5722693e1fe\" xlink:type=\"simple\"><rect fill=\"#FEFECE\" filter=\"url(#f84qfw7otag51)\" height=\"45.9375\" id=\"E10\" rx=\"10\" ry=\"10\" style=\"stroke: #A80036; stroke-width: 1.5;\" width=\"68\" x=\"238\" y=\"84\"/><ellipse cx=\"253\" cy=\"102.9688\" fill=\"#32CD32\" rx=\"11\" ry=\"11\" style=\"stroke: #A80036; stroke-width: 1.0;\"/><path d=\"M252.7969,98.6406 L252.7969,102.2656 L253.7969,102.2656 Q255,102.2656 255.4844,101.8594 Q255.9688,101.4531 255.9688,100.4531 Q255.9688,99.4531 255.4844,99.0469 Q255,98.6406 253.7969,98.6406 L252.7969,98.6406 Z M250.3438,96.5781 L253.7031,96.5781 Q256.2656,96.5781 257.3906,97.5 Q258.5156,98.4063 258.5156,100.4531 Q258.5156,102.5 257.3906,103.4219 Q256.2656,104.3281 253.7031,104.3281 L252.7969,104.3281 L252.7969,108.9688 L250.3438,108.9688 L250.3438,96.5781 Z \"/><text fill=\"#000000\" font-family=\"sans-serif\" font-size=\"12\" font-style=\"italic\" lengthAdjust=\"spacingAndGlyphs\" textLength=\"40\" x=\"265\" y=\"100.1387\">«part»</text><text fill=\"#000000\" font-family=\"sans-serif\" font-size=\"12\" lengthAdjust=\"spacingAndGlyphs\" textLength=\"22\" x=\"274\" y=\"114.1074\">x: A</text><line style=\"stroke: #A80036; stroke-width: 1.5;\" x1=\"239\" x2=\"305\" y1=\"121.9375\" y2=\"121.9375\"/></a><!--MD5=[1dd1bfd58a279cf63c5f349dbc8fc6a1]\n",
       "class E11--><a href=\"psysml:9cdccab4-e502-4fbe-97eb-9b231d825ffa\" target=\"_top\" title=\"psysml:9cdccab4-e502-4fbe-97eb-9b231d825ffa\" xlink:actuate=\"onRequest\" xlink:href=\"psysml:9cdccab4-e502-4fbe-97eb-9b231d825ffa\" xlink:show=\"new\" xlink:title=\"psysml:9cdccab4-e502-4fbe-97eb-9b231d825ffa\" xlink:type=\"simple\"><rect fill=\"#FEFECE\" filter=\"url(#f84qfw7otag51)\" height=\"45.9375\" id=\"E11\" rx=\"10\" ry=\"10\" style=\"stroke: #A80036; stroke-width: 1.5;\" width=\"68\" x=\"135\" y=\"84\"/><ellipse cx=\"150\" cy=\"102.9688\" fill=\"#32CD32\" rx=\"11\" ry=\"11\" style=\"stroke: #A80036; stroke-width: 1.0;\"/><path d=\"M149.7969,98.6406 L149.7969,102.2656 L150.7969,102.2656 Q152,102.2656 152.4844,101.8594 Q152.9688,101.4531 152.9688,100.4531 Q152.9688,99.4531 152.4844,99.0469 Q152,98.6406 150.7969,98.6406 L149.7969,98.6406 Z M147.3438,96.5781 L150.7031,96.5781 Q153.2656,96.5781 154.3906,97.5 Q155.5156,98.4063 155.5156,100.4531 Q155.5156,102.5 154.3906,103.4219 Q153.2656,104.3281 150.7031,104.3281 L149.7969,104.3281 L149.7969,108.9688 L147.3438,108.9688 L147.3438,96.5781 Z \"/><text fill=\"#000000\" font-family=\"sans-serif\" font-size=\"12\" font-style=\"italic\" lengthAdjust=\"spacingAndGlyphs\" textLength=\"40\" x=\"162\" y=\"100.1387\">«part»</text><text fill=\"#000000\" font-family=\"sans-serif\" font-size=\"12\" lengthAdjust=\"spacingAndGlyphs\" textLength=\"22\" x=\"171\" y=\"114.1074\">y: B</text><line style=\"stroke: #A80036; stroke-width: 1.5;\" x1=\"136\" x2=\"202\" y1=\"121.9375\" y2=\"121.9375\"/></a><!--MD5=[14ccda38c055a5c0da953d572bc50960]\n",
       "link E7 to E3--><a href=\"psysml:84278f38-d400-4655-8657-76a37dd9bb09\" target=\"_top\" title=\"psysml:84278f38-d400-4655-8657-76a37dd9bb09\" xlink:actuate=\"onRequest\" xlink:href=\"psysml:84278f38-d400-4655-8657-76a37dd9bb09\" xlink:show=\"new\" xlink:title=\"psysml:84278f38-d400-4655-8657-76a37dd9bb09\" xlink:type=\"simple\"><path d=\"M499,130.09 C499,145.42 499,166.27 499,184.42 \" fill=\"none\" id=\"E7-&gt;E3\" style=\"stroke: #A80036; stroke-width: 1.0;\"/><polygon fill=\"#FFFFFF\" points=\"499,204.69,492,185.69,506,185.69,499,204.69\" style=\"stroke: #A80036; stroke-width: 1.0;\"/><ellipse cx=\"494\" cy=\"179.99\" fill=\"#A80036\" rx=\"2\" ry=\"2\" style=\"stroke: #A80036; stroke-width: 1.0;\"/><ellipse cx=\"504\" cy=\"179.99\" fill=\"#A80036\" rx=\"2\" ry=\"2\" style=\"stroke: #A80036; stroke-width: 1.0;\"/></a><!--MD5=[1ccb2481ffa92f8d51a74ee30c51832a]\n",
       "link E8 to E5--><a href=\"psysml:9a62fcce-aa5a-49d2-8cac-0b2f538e5bd0\" target=\"_top\" title=\"psysml:9a62fcce-aa5a-49d2-8cac-0b2f538e5bd0\" xlink:actuate=\"onRequest\" xlink:href=\"psysml:9a62fcce-aa5a-49d2-8cac-0b2f538e5bd0\" xlink:show=\"new\" xlink:title=\"psysml:9a62fcce-aa5a-49d2-8cac-0b2f538e5bd0\" xlink:type=\"simple\"><path d=\"M362.27,130.22 C349.82,138.09 335.46,146.77 322,154 C284.18,174.3 239.36,194.36 208.05,207.77 \" fill=\"none\" id=\"E8-&gt;E5\" style=\"stroke: #A80036; stroke-width: 1.0;\"/><polygon fill=\"#FFFFFF\" points=\"189.2,215.73,203.9741,201.8834,209.4261,214.7782,189.2,215.73\" style=\"stroke: #A80036; stroke-width: 1.0;\"/><ellipse cx=\"210.0029\" cy=\"201.5058\" fill=\"#A80036\" rx=\"2\" ry=\"2\" style=\"stroke: #A80036; stroke-width: 1.0;\"/><ellipse cx=\"213.8972\" cy=\"210.7164\" fill=\"#A80036\" rx=\"2\" ry=\"2\" style=\"stroke: #A80036; stroke-width: 1.0;\"/></a><!--MD5=[feeac5eb423634930294aa81f2d25a4c]\n",
       "link E10 to E3--><a href=\"psysml:bd7260c7-b55a-4391-86f8-9493bae3bcdc\" target=\"_top\" title=\"psysml:bd7260c7-b55a-4391-86f8-9493bae3bcdc\" xlink:actuate=\"onRequest\" xlink:href=\"psysml:bd7260c7-b55a-4391-86f8-9493bae3bcdc\" xlink:show=\"new\" xlink:title=\"psysml:bd7260c7-b55a-4391-86f8-9493bae3bcdc\" xlink:type=\"simple\"><path d=\"M305.73,130.22 C318.18,138.09 332.54,146.77 346,154 C383.82,174.3 428.64,194.36 459.95,207.77 \" fill=\"none\" id=\"E10-&gt;E3\" style=\"stroke: #A80036; stroke-width: 1.0;\"/><polygon fill=\"#FFFFFF\" points=\"478.8,215.73,458.5739,214.7782,464.0259,201.8834,478.8,215.73\" style=\"stroke: #A80036; stroke-width: 1.0;\"/><ellipse cx=\"454.1028\" cy=\"210.7164\" fill=\"#A80036\" rx=\"2\" ry=\"2\" style=\"stroke: #A80036; stroke-width: 1.0;\"/><ellipse cx=\"457.9971\" cy=\"201.5058\" fill=\"#A80036\" rx=\"2\" ry=\"2\" style=\"stroke: #A80036; stroke-width: 1.0;\"/></a><!--MD5=[07b77f6f309248d16187045709d1c26e]\n",
       "link E11 to E5--><a href=\"psysml:099d00ce-a154-42ce-865e-6b31b35a0829\" target=\"_top\" title=\"psysml:099d00ce-a154-42ce-865e-6b31b35a0829\" xlink:actuate=\"onRequest\" xlink:href=\"psysml:099d00ce-a154-42ce-865e-6b31b35a0829\" xlink:show=\"new\" xlink:title=\"psysml:099d00ce-a154-42ce-865e-6b31b35a0829\" xlink:type=\"simple\"><path d=\"M169,130.09 C169,145.42 169,166.27 169,184.42 \" fill=\"none\" id=\"E11-&gt;E5\" style=\"stroke: #A80036; stroke-width: 1.0;\"/><polygon fill=\"#FFFFFF\" points=\"169,204.69,162,185.69,176,185.69,169,204.69\" style=\"stroke: #A80036; stroke-width: 1.0;\"/><ellipse cx=\"164\" cy=\"179.99\" fill=\"#A80036\" rx=\"2\" ry=\"2\" style=\"stroke: #A80036; stroke-width: 1.0;\"/><ellipse cx=\"174\" cy=\"179.99\" fill=\"#A80036\" rx=\"2\" ry=\"2\" style=\"stroke: #A80036; stroke-width: 1.0;\"/></a><!--MD5=[39f41a0e550fb3d73b4d8135617e30a2]\n",
       "link E12 to E3--><a href=\"psysml:2e0d72ae-9b36-4ac2-af7e-1d21d87eecf3\" target=\"_top\" title=\"psysml:2e0d72ae-9b36-4ac2-af7e-1d21d87eecf3\" xlink:actuate=\"onRequest\" xlink:href=\"psysml:2e0d72ae-9b36-4ac2-af7e-1d21d87eecf3\" xlink:show=\"new\" xlink:title=\"psysml:2e0d72ae-9b36-4ac2-af7e-1d21d87eecf3\" xlink:type=\"simple\"><path d=\"M582.38,130.09 C567.43,146.94 546.56,170.44 529.44,189.72 \" fill=\"none\" id=\"E12-&gt;E3\" style=\"stroke: #A80036; stroke-width: 1.0;\"/><polygon fill=\"#FFFFFF\" points=\"516.15,204.69,523.5343,185.836,534.0014,195.1334,516.15,204.69\" style=\"stroke: #A80036; stroke-width: 1.0;\"/><ellipse cx=\"528.815\" cy=\"182.9027\" fill=\"#A80036\" rx=\"2\" ry=\"2\" style=\"stroke: #A80036; stroke-width: 1.0;\"/><ellipse cx=\"536.2914\" cy=\"189.5436\" fill=\"#A80036\" rx=\"2\" ry=\"2\" style=\"stroke: #A80036; stroke-width: 1.0;\"/></a><!--MD5=[066b2d8af59fea80ccdb3d54ad5c1091]\n",
       "link E13 to E5--><a href=\"psysml:28c76814-e954-4c97-b716-40e2f6813c6b\" target=\"_top\" title=\"psysml:28c76814-e954-4c97-b716-40e2f6813c6b\" xlink:actuate=\"onRequest\" xlink:href=\"psysml:28c76814-e954-4c97-b716-40e2f6813c6b\" xlink:show=\"new\" xlink:title=\"psysml:28c76814-e954-4c97-b716-40e2f6813c6b\" xlink:type=\"simple\"><path d=\"M85.62,130.09 C100.57,146.94 121.44,170.44 138.56,189.72 \" fill=\"none\" id=\"E13-&gt;E5\" style=\"stroke: #A80036; stroke-width: 1.0;\"/><polygon fill=\"#FFFFFF\" points=\"151.85,204.69,133.9986,195.1334,144.4657,185.836,151.85,204.69\" style=\"stroke: #A80036; stroke-width: 1.0;\"/><ellipse cx=\"131.7086\" cy=\"189.5436\" fill=\"#A80036\" rx=\"2\" ry=\"2\" style=\"stroke: #A80036; stroke-width: 1.0;\"/><ellipse cx=\"139.185\" cy=\"182.9027\" fill=\"#A80036\" rx=\"2\" ry=\"2\" style=\"stroke: #A80036; stroke-width: 1.0;\"/></a><!--MD5=[559083c0fb472d2183a3133336bf53b7]\n",
       "@startuml\r\n",
       " \r\n",
       "package \"CircularImport\" as E1  [[psysml:690cd2ec-4fe7-4d94-89bf-c3d63ed60cd3 ]]  {\r\n",
       "package \"P1\" as E2  [[psysml:54e3154d-4fa4-4c14-a367-edca149a76a1 ]]  {\r\n",
       "comp def \"A\" as E3  << (B,green) >> [[psysml:281245e6-0723-4878-ac57-c406fd778909 ]] {\r\n",
       "}\r\n",
       "}\r\n",
       "package \"P2\" as E4  [[psysml:581c4a9e-fb07-4d80-ac64-c8c7b70027d2 ]]  {\r\n",
       "comp def \"B\" as E5  << (B,green) >> [[psysml:57665928-471f-4095-91e2-d839a960cf78 ]] {\r\n",
       "}\r\n",
       "}\r\n",
       "package \"Test1\" as E6  [[psysml:6bb49afc-ac2c-47b7-b48e-5bd0a62b326b ]]  {\r\n",
       "comp usage \"x: A\" as E7  << (P,limegreen) part>> [[psysml:d6e39b1a-8a39-4c69-85ab-aa8551443e08 ]] {\r\n",
       "}\r\n",
       "comp usage \"y: B\" as E8  << (P,limegreen) part>> [[psysml:ead6e64d-b294-4a2d-a1d8-90d3751f1490 ]] {\r\n",
       "}\r\n",
       "E7 - -:|> E3 [[psysml:84278f38-d400-4655-8657-76a37dd9bb09 ]] \r\n",
       "E8 - -:|> E5 [[psysml:9a62fcce-aa5a-49d2-8cac-0b2f538e5bd0 ]] \r\n",
       "}\r\n",
       "package \"Test2\" as E9  [[psysml:051bf7cb-81b8-4c37-8865-8bb7ea974985 ]]  {\r\n",
       "comp usage \"x: A\" as E10  << (P,limegreen) part>> [[psysml:f3cb1211-10b9-411e-bf19-d5722693e1fe ]] {\r\n",
       "}\r\n",
       "comp usage \"y: B\" as E11  << (P,limegreen) part>> [[psysml:9cdccab4-e502-4fbe-97eb-9b231d825ffa ]] {\r\n",
       "}\r\n",
       "E10 - -:|> E3 [[psysml:bd7260c7-b55a-4391-86f8-9493bae3bcdc ]] \r\n",
       "E11 - -:|> E5 [[psysml:099d00ce-a154-42ce-865e-6b31b35a0829 ]] \r\n",
       "}\r\n",
       "comp usage \"x: A\" as E12  << (P,limegreen) part>> [[psysml:87edab01-bf58-4e9e-abd1-c8b0194f7dca ]] {\r\n",
       "}\r\n",
       "comp usage \"y: B\" as E13  << (P,limegreen) part>> [[psysml:20c5387a-1627-4e14-8312-6f39b31ab3f7 ]] {\r\n",
       "}\r\n",
       "E12 - -:|> E3 [[psysml:2e0d72ae-9b36-4ac2-af7e-1d21d87eecf3 ]] \r\n",
       "E13 - -:|> E5 [[psysml:28c76814-e954-4c97-b716-40e2f6813c6b ]] \r\n",
       "}\r\n",
       "@enduml\r\n",
       "\n",
       "PlantUML version 1.2020.13(Sat Jun 13 12:26:38 UTC 2020)\n",
       "(EPL source distribution)\n",
       "Java Runtime: OpenJDK Runtime Environment\n",
       "JVM: OpenJDK 64-Bit Server VM\n",
       "Default Encoding: UTF-8\n",
       "Language: en\n",
       "Country: null\n",
       "--></g></svg>"
      ]
     },
     "execution_count": 36,
     "metadata": {},
     "output_type": "execute_result"
    }
   ],
   "source": [
    "%viz --style=\"PLANTUML\" --view=\"MIXED\" \"CircularImport\""
   ]
  },
  {
   "cell_type": "code",
   "execution_count": 37,
   "id": "d07d34d0",
   "metadata": {
    "execution": {
     "iopub.execute_input": "2021-04-20T06:57:54.590536Z",
     "iopub.status.busy": "2021-04-20T06:57:54.590136Z",
     "iopub.status.idle": "2021-04-20T06:57:54.628021Z",
     "shell.execute_reply": "2021-04-20T06:57:54.627573Z"
    }
   },
   "outputs": [
    {
     "data": {
      "image/svg+xml": [
       "<?xml version=\"1.0\" encoding=\"UTF-8\" standalone=\"no\"?><svg xmlns=\"http://www.w3.org/2000/svg\" xmlns:xlink=\"http://www.w3.org/1999/xlink\" contentScriptType=\"application/ecmascript\" contentStyleType=\"text/css\" height=\"303px\" preserveAspectRatio=\"none\" style=\"width:518px;height:303px;\" version=\"1.1\" viewBox=\"0 0 518 303\" width=\"518px\" zoomAndPan=\"magnify\"><defs/><g><!--MD5=[fbc87193dbaf4d95561dea2c320d4a47]\n",
       "cluster E1--><a href=\"psysml:690cd2ec-4fe7-4d94-89bf-c3d63ed60cd3\" target=\"_top\" title=\"psysml:690cd2ec-4fe7-4d94-89bf-c3d63ed60cd3\" xlink:actuate=\"onRequest\" xlink:href=\"psysml:690cd2ec-4fe7-4d94-89bf-c3d63ed60cd3\" xlink:show=\"new\" xlink:title=\"psysml:690cd2ec-4fe7-4d94-89bf-c3d63ed60cd3\" xlink:type=\"simple\"><polygon fill=\"#FFFFFF\" points=\"16,6,134,6,141,28.2969,496,28.2969,496,291,16,291,16,6\" style=\"stroke: #000000; stroke-width: 1.5;\"/><line style=\"stroke: #000000; stroke-width: 1.5;\" x1=\"16\" x2=\"141\" y1=\"28.2969\" y2=\"28.2969\"/><text fill=\"#000000\" font-family=\"sans-serif\" font-size=\"14\" font-weight=\"bold\" lengthAdjust=\"spacingAndGlyphs\" textLength=\"112\" x=\"20\" y=\"20.9951\">CircularImport</text></a><!--MD5=[e4f7fae6ed58524ba242bb0b0d3be6b7]\n",
       "cluster E2--><a href=\"psysml:54e3154d-4fa4-4c14-a367-edca149a76a1\" target=\"_top\" title=\"psysml:54e3154d-4fa4-4c14-a367-edca149a76a1\" xlink:actuate=\"onRequest\" xlink:href=\"psysml:54e3154d-4fa4-4c14-a367-edca149a76a1\" xlink:show=\"new\" xlink:title=\"psysml:54e3154d-4fa4-4c14-a367-edca149a76a1\" xlink:type=\"simple\"><polygon fill=\"#FFFFFF\" points=\"333,170,359,170,366,192.2969,431,192.2969,431,267,333,267,333,170\" style=\"stroke: #000000; stroke-width: 1.5;\"/><line style=\"stroke: #000000; stroke-width: 1.5;\" x1=\"333\" x2=\"366\" y1=\"192.2969\" y2=\"192.2969\"/><text fill=\"#000000\" font-family=\"sans-serif\" font-size=\"14\" font-weight=\"bold\" lengthAdjust=\"spacingAndGlyphs\" textLength=\"20\" x=\"337\" y=\"184.9951\">P1</text></a><!--MD5=[f6df4d0ebaf0b5dfb2ced0ae5af7c670]\n",
       "cluster E4--><a href=\"psysml:581c4a9e-fb07-4d80-ac64-c8c7b70027d2\" target=\"_top\" title=\"psysml:581c4a9e-fb07-4d80-ac64-c8c7b70027d2\" xlink:actuate=\"onRequest\" xlink:href=\"psysml:581c4a9e-fb07-4d80-ac64-c8c7b70027d2\" xlink:show=\"new\" xlink:title=\"psysml:581c4a9e-fb07-4d80-ac64-c8c7b70027d2\" xlink:type=\"simple\"><polygon fill=\"#FFFFFF\" points=\"81,170,107,170,114,192.2969,179,192.2969,179,267,81,267,81,170\" style=\"stroke: #000000; stroke-width: 1.5;\"/><line style=\"stroke: #000000; stroke-width: 1.5;\" x1=\"81\" x2=\"114\" y1=\"192.2969\" y2=\"192.2969\"/><text fill=\"#000000\" font-family=\"sans-serif\" font-size=\"14\" font-weight=\"bold\" lengthAdjust=\"spacingAndGlyphs\" textLength=\"20\" x=\"85\" y=\"184.9951\">P2</text></a><!--MD5=[14e3b0961a2654348d326746436168a1]\n",
       "cluster E6--><a href=\"psysml:6bb49afc-ac2c-47b7-b48e-5bd0a62b326b\" target=\"_top\" title=\"psysml:6bb49afc-ac2c-47b7-b48e-5bd0a62b326b\" xlink:actuate=\"onRequest\" xlink:href=\"psysml:6bb49afc-ac2c-47b7-b48e-5bd0a62b326b\" xlink:show=\"new\" xlink:title=\"psysml:6bb49afc-ac2c-47b7-b48e-5bd0a62b326b\" xlink:type=\"simple\"><polygon fill=\"#FFFFFF\" points=\"268,49,319,49,326,71.2969,419,71.2969,419,146,268,146,268,49\" style=\"stroke: #000000; stroke-width: 1.5;\"/><line style=\"stroke: #000000; stroke-width: 1.5;\" x1=\"268\" x2=\"326\" y1=\"71.2969\" y2=\"71.2969\"/><text fill=\"#000000\" font-family=\"sans-serif\" font-size=\"14\" font-weight=\"bold\" lengthAdjust=\"spacingAndGlyphs\" textLength=\"45\" x=\"272\" y=\"63.9951\">Test1</text></a><!--MD5=[7f149f147074ac12df2cb0a7728a5fb0]\n",
       "cluster E9--><a href=\"psysml:051bf7cb-81b8-4c37-8865-8bb7ea974985\" target=\"_top\" title=\"psysml:051bf7cb-81b8-4c37-8865-8bb7ea974985\" xlink:actuate=\"onRequest\" xlink:href=\"psysml:051bf7cb-81b8-4c37-8865-8bb7ea974985\" xlink:show=\"new\" xlink:title=\"psysml:051bf7cb-81b8-4c37-8865-8bb7ea974985\" xlink:type=\"simple\"><polygon fill=\"#FFFFFF\" points=\"93,49,144,49,151,71.2969,244,71.2969,244,146,93,146,93,49\" style=\"stroke: #000000; stroke-width: 1.5;\"/><line style=\"stroke: #000000; stroke-width: 1.5;\" x1=\"93\" x2=\"151\" y1=\"71.2969\" y2=\"71.2969\"/><text fill=\"#000000\" font-family=\"sans-serif\" font-size=\"14\" font-weight=\"bold\" lengthAdjust=\"spacingAndGlyphs\" textLength=\"45\" x=\"97\" y=\"63.9951\">Test2</text></a><!--MD5=[49a0ec8f00dab7302a31f22d0f0fe584]\n",
       "class E12--><a href=\"psysml:87edab01-bf58-4e9e-abd1-c8b0194f7dca\" target=\"_top\" title=\"psysml:87edab01-bf58-4e9e-abd1-c8b0194f7dca\" xlink:actuate=\"onRequest\" xlink:href=\"psysml:87edab01-bf58-4e9e-abd1-c8b0194f7dca\" xlink:show=\"new\" xlink:title=\"psysml:87edab01-bf58-4e9e-abd1-c8b0194f7dca\" xlink:type=\"simple\"><rect fill=\"#FFFFFF\" height=\"45.9375\" id=\"E12\" rx=\"10\" ry=\"10\" style=\"stroke: #383838; stroke-width: 1.5;\" width=\"42\" x=\"438\" y=\"84\"/><text fill=\"#000000\" font-family=\"sans-serif\" font-size=\"12\" font-style=\"italic\" lengthAdjust=\"spacingAndGlyphs\" textLength=\"40\" x=\"439\" y=\"100.1387\">«part»</text><text fill=\"#000000\" font-family=\"sans-serif\" font-size=\"12\" lengthAdjust=\"spacingAndGlyphs\" textLength=\"22\" x=\"448\" y=\"114.1074\">x: A</text><line style=\"stroke: #383838; stroke-width: 1.5;\" x1=\"439\" x2=\"479\" y1=\"121.9375\" y2=\"121.9375\"/></a><!--MD5=[ee3c913d1a06f366521f9ef512b67efe]\n",
       "class E13--><a href=\"psysml:20c5387a-1627-4e14-8312-6f39b31ab3f7\" target=\"_top\" title=\"psysml:20c5387a-1627-4e14-8312-6f39b31ab3f7\" xlink:actuate=\"onRequest\" xlink:href=\"psysml:20c5387a-1627-4e14-8312-6f39b31ab3f7\" xlink:show=\"new\" xlink:title=\"psysml:20c5387a-1627-4e14-8312-6f39b31ab3f7\" xlink:type=\"simple\"><rect fill=\"#FFFFFF\" height=\"45.9375\" id=\"E13\" rx=\"10\" ry=\"10\" style=\"stroke: #383838; stroke-width: 1.5;\" width=\"42\" x=\"32\" y=\"84\"/><text fill=\"#000000\" font-family=\"sans-serif\" font-size=\"12\" font-style=\"italic\" lengthAdjust=\"spacingAndGlyphs\" textLength=\"40\" x=\"33\" y=\"100.1387\">«part»</text><text fill=\"#000000\" font-family=\"sans-serif\" font-size=\"12\" lengthAdjust=\"spacingAndGlyphs\" textLength=\"22\" x=\"42\" y=\"114.1074\">y: B</text><line style=\"stroke: #383838; stroke-width: 1.5;\" x1=\"33\" x2=\"73\" y1=\"121.9375\" y2=\"121.9375\"/></a><!--MD5=[09b614a08d8cba4a07c9adeb5e0fee81]\n",
       "class E3--><a href=\"psysml:281245e6-0723-4878-ac57-c406fd778909\" target=\"_top\" title=\"psysml:281245e6-0723-4878-ac57-c406fd778909\" xlink:actuate=\"onRequest\" xlink:href=\"psysml:281245e6-0723-4878-ac57-c406fd778909\" xlink:show=\"new\" xlink:title=\"psysml:281245e6-0723-4878-ac57-c406fd778909\" xlink:type=\"simple\"><rect fill=\"#FFFFFF\" height=\"45.9375\" id=\"E3\" style=\"stroke: #383838; stroke-width: 1.5;\" width=\"66\" x=\"349\" y=\"205\"/><text fill=\"#000000\" font-family=\"sans-serif\" font-size=\"12\" font-style=\"italic\" lengthAdjust=\"spacingAndGlyphs\" textLength=\"64\" x=\"350\" y=\"221.1387\">«part def»</text><text fill=\"#000000\" font-family=\"sans-serif\" font-size=\"12\" lengthAdjust=\"spacingAndGlyphs\" textLength=\"8\" x=\"378\" y=\"235.1074\">A</text><line style=\"stroke: #383838; stroke-width: 1.5;\" x1=\"350\" x2=\"414\" y1=\"242.9375\" y2=\"242.9375\"/></a><!--MD5=[270fce915f116d4de14055a7c1d9a0f3]\n",
       "class E5--><a href=\"psysml:57665928-471f-4095-91e2-d839a960cf78\" target=\"_top\" title=\"psysml:57665928-471f-4095-91e2-d839a960cf78\" xlink:actuate=\"onRequest\" xlink:href=\"psysml:57665928-471f-4095-91e2-d839a960cf78\" xlink:show=\"new\" xlink:title=\"psysml:57665928-471f-4095-91e2-d839a960cf78\" xlink:type=\"simple\"><rect fill=\"#FFFFFF\" height=\"45.9375\" id=\"E5\" style=\"stroke: #383838; stroke-width: 1.5;\" width=\"66\" x=\"97\" y=\"205\"/><text fill=\"#000000\" font-family=\"sans-serif\" font-size=\"12\" font-style=\"italic\" lengthAdjust=\"spacingAndGlyphs\" textLength=\"64\" x=\"98\" y=\"221.1387\">«part def»</text><text fill=\"#000000\" font-family=\"sans-serif\" font-size=\"12\" lengthAdjust=\"spacingAndGlyphs\" textLength=\"8\" x=\"126\" y=\"235.1074\">B</text><line style=\"stroke: #383838; stroke-width: 1.5;\" x1=\"98\" x2=\"162\" y1=\"242.9375\" y2=\"242.9375\"/></a><!--MD5=[2156ba9850f5573cc1fc38a6a4b2f02b]\n",
       "class E7--><a href=\"psysml:d6e39b1a-8a39-4c69-85ab-aa8551443e08\" target=\"_top\" title=\"psysml:d6e39b1a-8a39-4c69-85ab-aa8551443e08\" xlink:actuate=\"onRequest\" xlink:href=\"psysml:d6e39b1a-8a39-4c69-85ab-aa8551443e08\" xlink:show=\"new\" xlink:title=\"psysml:d6e39b1a-8a39-4c69-85ab-aa8551443e08\" xlink:type=\"simple\"><rect fill=\"#FFFFFF\" height=\"45.9375\" id=\"E7\" rx=\"10\" ry=\"10\" style=\"stroke: #383838; stroke-width: 1.5;\" width=\"42\" x=\"361\" y=\"84\"/><text fill=\"#000000\" font-family=\"sans-serif\" font-size=\"12\" font-style=\"italic\" lengthAdjust=\"spacingAndGlyphs\" textLength=\"40\" x=\"362\" y=\"100.1387\">«part»</text><text fill=\"#000000\" font-family=\"sans-serif\" font-size=\"12\" lengthAdjust=\"spacingAndGlyphs\" textLength=\"22\" x=\"371\" y=\"114.1074\">x: A</text><line style=\"stroke: #383838; stroke-width: 1.5;\" x1=\"362\" x2=\"402\" y1=\"121.9375\" y2=\"121.9375\"/></a><!--MD5=[b9389687b975829384b498ac4b7476b2]\n",
       "class E8--><a href=\"psysml:ead6e64d-b294-4a2d-a1d8-90d3751f1490\" target=\"_top\" title=\"psysml:ead6e64d-b294-4a2d-a1d8-90d3751f1490\" xlink:actuate=\"onRequest\" xlink:href=\"psysml:ead6e64d-b294-4a2d-a1d8-90d3751f1490\" xlink:show=\"new\" xlink:title=\"psysml:ead6e64d-b294-4a2d-a1d8-90d3751f1490\" xlink:type=\"simple\"><rect fill=\"#FFFFFF\" height=\"45.9375\" id=\"E8\" rx=\"10\" ry=\"10\" style=\"stroke: #383838; stroke-width: 1.5;\" width=\"42\" x=\"284\" y=\"84\"/><text fill=\"#000000\" font-family=\"sans-serif\" font-size=\"12\" font-style=\"italic\" lengthAdjust=\"spacingAndGlyphs\" textLength=\"40\" x=\"285\" y=\"100.1387\">«part»</text><text fill=\"#000000\" font-family=\"sans-serif\" font-size=\"12\" lengthAdjust=\"spacingAndGlyphs\" textLength=\"22\" x=\"294\" y=\"114.1074\">y: B</text><line style=\"stroke: #383838; stroke-width: 1.5;\" x1=\"285\" x2=\"325\" y1=\"121.9375\" y2=\"121.9375\"/></a><!--MD5=[96f4274e9e20536e775497830990834d]\n",
       "class E10--><a href=\"psysml:f3cb1211-10b9-411e-bf19-d5722693e1fe\" target=\"_top\" title=\"psysml:f3cb1211-10b9-411e-bf19-d5722693e1fe\" xlink:actuate=\"onRequest\" xlink:href=\"psysml:f3cb1211-10b9-411e-bf19-d5722693e1fe\" xlink:show=\"new\" xlink:title=\"psysml:f3cb1211-10b9-411e-bf19-d5722693e1fe\" xlink:type=\"simple\"><rect fill=\"#FFFFFF\" height=\"45.9375\" id=\"E10\" rx=\"10\" ry=\"10\" style=\"stroke: #383838; stroke-width: 1.5;\" width=\"42\" x=\"186\" y=\"84\"/><text fill=\"#000000\" font-family=\"sans-serif\" font-size=\"12\" font-style=\"italic\" lengthAdjust=\"spacingAndGlyphs\" textLength=\"40\" x=\"187\" y=\"100.1387\">«part»</text><text fill=\"#000000\" font-family=\"sans-serif\" font-size=\"12\" lengthAdjust=\"spacingAndGlyphs\" textLength=\"22\" x=\"196\" y=\"114.1074\">x: A</text><line style=\"stroke: #383838; stroke-width: 1.5;\" x1=\"187\" x2=\"227\" y1=\"121.9375\" y2=\"121.9375\"/></a><!--MD5=[1dd1bfd58a279cf63c5f349dbc8fc6a1]\n",
       "class E11--><a href=\"psysml:9cdccab4-e502-4fbe-97eb-9b231d825ffa\" target=\"_top\" title=\"psysml:9cdccab4-e502-4fbe-97eb-9b231d825ffa\" xlink:actuate=\"onRequest\" xlink:href=\"psysml:9cdccab4-e502-4fbe-97eb-9b231d825ffa\" xlink:show=\"new\" xlink:title=\"psysml:9cdccab4-e502-4fbe-97eb-9b231d825ffa\" xlink:type=\"simple\"><rect fill=\"#FFFFFF\" height=\"45.9375\" id=\"E11\" rx=\"10\" ry=\"10\" style=\"stroke: #383838; stroke-width: 1.5;\" width=\"42\" x=\"109\" y=\"84\"/><text fill=\"#000000\" font-family=\"sans-serif\" font-size=\"12\" font-style=\"italic\" lengthAdjust=\"spacingAndGlyphs\" textLength=\"40\" x=\"110\" y=\"100.1387\">«part»</text><text fill=\"#000000\" font-family=\"sans-serif\" font-size=\"12\" lengthAdjust=\"spacingAndGlyphs\" textLength=\"22\" x=\"119\" y=\"114.1074\">y: B</text><line style=\"stroke: #383838; stroke-width: 1.5;\" x1=\"110\" x2=\"150\" y1=\"121.9375\" y2=\"121.9375\"/></a><!--MD5=[14ccda38c055a5c0da953d572bc50960]\n",
       "link E7 to E3--><a href=\"psysml:84278f38-d400-4655-8657-76a37dd9bb09\" target=\"_top\" title=\"psysml:84278f38-d400-4655-8657-76a37dd9bb09\" xlink:actuate=\"onRequest\" xlink:href=\"psysml:84278f38-d400-4655-8657-76a37dd9bb09\" xlink:show=\"new\" xlink:title=\"psysml:84278f38-d400-4655-8657-76a37dd9bb09\" xlink:type=\"simple\"><path d=\"M382,130.1 C382,145.37 382,166.16 382,184.57 \" fill=\"none\" id=\"E7-&gt;E3\" style=\"stroke: #383838; stroke-width: 1.0;\"/><polygon fill=\"#FFFFFF\" points=\"382,204.61,375,185.61,389,185.61,382,204.61\" style=\"stroke: #383838; stroke-width: 1.0;\"/><ellipse cx=\"377\" cy=\"179.91\" fill=\"#383838\" rx=\"2\" ry=\"2\" style=\"stroke: #383838; stroke-width: 1.0;\"/><ellipse cx=\"387\" cy=\"179.91\" fill=\"#383838\" rx=\"2\" ry=\"2\" style=\"stroke: #383838; stroke-width: 1.0;\"/></a><!--MD5=[1ccb2481ffa92f8d51a74ee30c51832a]\n",
       "link E8 to E5--><a href=\"psysml:9a62fcce-aa5a-49d2-8cac-0b2f538e5bd0\" target=\"_top\" title=\"psysml:9a62fcce-aa5a-49d2-8cac-0b2f538e5bd0\" xlink:actuate=\"onRequest\" xlink:href=\"psysml:9a62fcce-aa5a-49d2-8cac-0b2f538e5bd0\" xlink:show=\"new\" xlink:title=\"psysml:9a62fcce-aa5a-49d2-8cac-0b2f538e5bd0\" xlink:type=\"simple\"><path d=\"M283.84,124.59 C272.23,133.52 257.5,144.61 244,154 C223.51,168.25 200.41,183.24 180.38,195.91 \" fill=\"none\" id=\"E8-&gt;E5\" style=\"stroke: #383838; stroke-width: 1.0;\"/><polygon fill=\"#FFFFFF\" points=\"163.36,206.57,175.7353,190.5434,183.175,202.403,163.36,206.57\" style=\"stroke: #383838; stroke-width: 1.0;\"/><ellipse cx=\"181.6267\" cy=\"189.2086\" fill=\"#383838\" rx=\"2\" ry=\"2\" style=\"stroke: #383838; stroke-width: 1.0;\"/><ellipse cx=\"186.9408\" cy=\"197.6797\" fill=\"#383838\" rx=\"2\" ry=\"2\" style=\"stroke: #383838; stroke-width: 1.0;\"/></a><!--MD5=[feeac5eb423634930294aa81f2d25a4c]\n",
       "link E10 to E3--><a href=\"psysml:bd7260c7-b55a-4391-86f8-9493bae3bcdc\" target=\"_top\" title=\"psysml:bd7260c7-b55a-4391-86f8-9493bae3bcdc\" xlink:actuate=\"onRequest\" xlink:href=\"psysml:bd7260c7-b55a-4391-86f8-9493bae3bcdc\" xlink:show=\"new\" xlink:title=\"psysml:bd7260c7-b55a-4391-86f8-9493bae3bcdc\" xlink:type=\"simple\"><path d=\"M228.16,124.59 C239.77,133.52 254.5,144.61 268,154 C288.49,168.25 311.59,183.24 331.62,195.91 \" fill=\"none\" id=\"E10-&gt;E3\" style=\"stroke: #383838; stroke-width: 1.0;\"/><polygon fill=\"#FFFFFF\" points=\"348.64,206.57,328.825,202.403,336.2647,190.5434,348.64,206.57\" style=\"stroke: #383838; stroke-width: 1.0;\"/><ellipse cx=\"325.0592\" cy=\"197.6797\" fill=\"#383838\" rx=\"2\" ry=\"2\" style=\"stroke: #383838; stroke-width: 1.0;\"/><ellipse cx=\"330.3733\" cy=\"189.2086\" fill=\"#383838\" rx=\"2\" ry=\"2\" style=\"stroke: #383838; stroke-width: 1.0;\"/></a><!--MD5=[07b77f6f309248d16187045709d1c26e]\n",
       "link E11 to E5--><a href=\"psysml:099d00ce-a154-42ce-865e-6b31b35a0829\" target=\"_top\" title=\"psysml:099d00ce-a154-42ce-865e-6b31b35a0829\" xlink:actuate=\"onRequest\" xlink:href=\"psysml:099d00ce-a154-42ce-865e-6b31b35a0829\" xlink:show=\"new\" xlink:title=\"psysml:099d00ce-a154-42ce-865e-6b31b35a0829\" xlink:type=\"simple\"><path d=\"M130,130.1 C130,145.37 130,166.16 130,184.57 \" fill=\"none\" id=\"E11-&gt;E5\" style=\"stroke: #383838; stroke-width: 1.0;\"/><polygon fill=\"#FFFFFF\" points=\"130,204.61,123,185.61,137,185.61,130,204.61\" style=\"stroke: #383838; stroke-width: 1.0;\"/><ellipse cx=\"125\" cy=\"179.91\" fill=\"#383838\" rx=\"2\" ry=\"2\" style=\"stroke: #383838; stroke-width: 1.0;\"/><ellipse cx=\"135\" cy=\"179.91\" fill=\"#383838\" rx=\"2\" ry=\"2\" style=\"stroke: #383838; stroke-width: 1.0;\"/></a><!--MD5=[39f41a0e550fb3d73b4d8135617e30a2]\n",
       "link E12 to E3--><a href=\"psysml:2e0d72ae-9b36-4ac2-af7e-1d21d87eecf3\" target=\"_top\" title=\"psysml:2e0d72ae-9b36-4ac2-af7e-1d21d87eecf3\" xlink:actuate=\"onRequest\" xlink:href=\"psysml:2e0d72ae-9b36-4ac2-af7e-1d21d87eecf3\" xlink:show=\"new\" xlink:title=\"psysml:2e0d72ae-9b36-4ac2-af7e-1d21d87eecf3\" xlink:type=\"simple\"><path d=\"M444.7,130.1 C434.28,146.2 419.89,168.44 407.53,187.55 \" fill=\"none\" id=\"E12-&gt;E3\" style=\"stroke: #383838; stroke-width: 1.0;\"/><polygon fill=\"#FFFFFF\" points=\"396.49,204.61,400.9313,184.8546,412.6866,192.4581,396.49,204.61\" style=\"stroke: #383838; stroke-width: 1.0;\"/><ellipse cx=\"405.7063\" cy=\"181.1547\" fill=\"#383838\" rx=\"2\" ry=\"2\" style=\"stroke: #383838; stroke-width: 1.0;\"/><ellipse cx=\"414.103\" cy=\"186.5858\" fill=\"#383838\" rx=\"2\" ry=\"2\" style=\"stroke: #383838; stroke-width: 1.0;\"/></a><!--MD5=[066b2d8af59fea80ccdb3d54ad5c1091]\n",
       "link E13 to E5--><a href=\"psysml:28c76814-e954-4c97-b716-40e2f6813c6b\" target=\"_top\" title=\"psysml:28c76814-e954-4c97-b716-40e2f6813c6b\" xlink:actuate=\"onRequest\" xlink:href=\"psysml:28c76814-e954-4c97-b716-40e2f6813c6b\" xlink:show=\"new\" xlink:title=\"psysml:28c76814-e954-4c97-b716-40e2f6813c6b\" xlink:type=\"simple\"><path d=\"M67.3,130.1 C77.72,146.2 92.11,168.44 104.47,187.55 \" fill=\"none\" id=\"E13-&gt;E5\" style=\"stroke: #383838; stroke-width: 1.0;\"/><polygon fill=\"#FFFFFF\" points=\"115.51,204.61,99.3134,192.4581,111.0687,184.8546,115.51,204.61\" style=\"stroke: #383838; stroke-width: 1.0;\"/><ellipse cx=\"97.897\" cy=\"186.5858\" fill=\"#383838\" rx=\"2\" ry=\"2\" style=\"stroke: #383838; stroke-width: 1.0;\"/><ellipse cx=\"106.2937\" cy=\"181.1547\" fill=\"#383838\" rx=\"2\" ry=\"2\" style=\"stroke: #383838; stroke-width: 1.0;\"/></a><!--MD5=[69daa8c5a66ce47ff930034d9d86ce0d]\n",
       "@startuml\r\n",
       "skinparam monochrome true\r\n",
       "skinparam classbackgroundcolor white\r\n",
       "skinparam shadowing false\r\n",
       "skinparam wrapWidth 300\r\n",
       "hide circle\r\n",
       "\r\n",
       "package \"CircularImport\" as E1  [[psysml:690cd2ec-4fe7-4d94-89bf-c3d63ed60cd3 ]]  {\r\n",
       "package \"P1\" as E2  [[psysml:54e3154d-4fa4-4c14-a367-edca149a76a1 ]]  {\r\n",
       "comp def \"A\" as E3  <<(T,blue)part def>> [[psysml:281245e6-0723-4878-ac57-c406fd778909 ]] {\r\n",
       "}\r\n",
       "}\r\n",
       "package \"P2\" as E4  [[psysml:581c4a9e-fb07-4d80-ac64-c8c7b70027d2 ]]  {\r\n",
       "comp def \"B\" as E5  <<(T,blue)part def>> [[psysml:57665928-471f-4095-91e2-d839a960cf78 ]] {\r\n",
       "}\r\n",
       "}\r\n",
       "package \"Test1\" as E6  [[psysml:6bb49afc-ac2c-47b7-b48e-5bd0a62b326b ]]  {\r\n",
       "comp usage \"x: A\" as E7  <<(T,blue)part>> [[psysml:d6e39b1a-8a39-4c69-85ab-aa8551443e08 ]] {\r\n",
       "}\r\n",
       "comp usage \"y: B\" as E8  <<(T,blue)part>> [[psysml:ead6e64d-b294-4a2d-a1d8-90d3751f1490 ]] {\r\n",
       "}\r\n",
       "E7 - -:|> E3 [[psysml:84278f38-d400-4655-8657-76a37dd9bb09 ]] \r\n",
       "E8 - -:|> E5 [[psysml:9a62fcce-aa5a-49d2-8cac-0b2f538e5bd0 ]] \r\n",
       "}\r\n",
       "package \"Test2\" as E9  [[psysml:051bf7cb-81b8-4c37-8865-8bb7ea974985 ]]  {\r\n",
       "comp usage \"x: A\" as E10  <<(T,blue)part>> [[psysml:f3cb1211-10b9-411e-bf19-d5722693e1fe ]] {\r\n",
       "}\r\n",
       "comp usage \"y: B\" as E11  <<(T,blue)part>> [[psysml:9cdccab4-e502-4fbe-97eb-9b231d825ffa ]] {\r\n",
       "}\r\n",
       "E10 - -:|> E3 [[psysml:bd7260c7-b55a-4391-86f8-9493bae3bcdc ]] \r\n",
       "E11 - -:|> E5 [[psysml:099d00ce-a154-42ce-865e-6b31b35a0829 ]] \r\n",
       "}\r\n",
       "comp usage \"x: A\" as E12  <<(T,blue)part>> [[psysml:87edab01-bf58-4e9e-abd1-c8b0194f7dca ]] {\r\n",
       "}\r\n",
       "comp usage \"y: B\" as E13  <<(T,blue)part>> [[psysml:20c5387a-1627-4e14-8312-6f39b31ab3f7 ]] {\r\n",
       "}\r\n",
       "E12 - -:|> E3 [[psysml:2e0d72ae-9b36-4ac2-af7e-1d21d87eecf3 ]] \r\n",
       "E13 - -:|> E5 [[psysml:28c76814-e954-4c97-b716-40e2f6813c6b ]] \r\n",
       "}\r\n",
       "@enduml\r\n",
       "\n",
       "PlantUML version 1.2020.13(Sat Jun 13 12:26:38 UTC 2020)\n",
       "(EPL source distribution)\n",
       "Java Runtime: OpenJDK Runtime Environment\n",
       "JVM: OpenJDK 64-Bit Server VM\n",
       "Default Encoding: UTF-8\n",
       "Language: en\n",
       "Country: null\n",
       "--></g></svg>"
      ]
     },
     "execution_count": 37,
     "metadata": {},
     "output_type": "execute_result"
    }
   ],
   "source": [
    "%viz --style=\"DEFAULT\" --view=\"Default\" \"CircularImport\""
   ]
  },
  {
   "cell_type": "code",
   "execution_count": 38,
   "id": "e5390319",
   "metadata": {
    "execution": {
     "iopub.execute_input": "2021-04-20T06:57:54.695923Z",
     "iopub.status.busy": "2021-04-20T06:57:54.695330Z",
     "iopub.status.idle": "2021-04-20T06:57:54.735528Z",
     "shell.execute_reply": "2021-04-20T06:57:54.733766Z"
    }
   },
   "outputs": [
    {
     "data": {
      "image/svg+xml": [
       "<?xml version=\"1.0\" encoding=\"UTF-8\" standalone=\"no\"?><svg xmlns=\"http://www.w3.org/2000/svg\" xmlns:xlink=\"http://www.w3.org/1999/xlink\" contentScriptType=\"application/ecmascript\" contentStyleType=\"text/css\" height=\"303px\" preserveAspectRatio=\"none\" style=\"width:518px;height:303px;\" version=\"1.1\" viewBox=\"0 0 518 303\" width=\"518px\" zoomAndPan=\"magnify\"><defs/><g><!--MD5=[fbc87193dbaf4d95561dea2c320d4a47]\n",
       "cluster E1--><a href=\"psysml:690cd2ec-4fe7-4d94-89bf-c3d63ed60cd3\" target=\"_top\" title=\"psysml:690cd2ec-4fe7-4d94-89bf-c3d63ed60cd3\" xlink:actuate=\"onRequest\" xlink:href=\"psysml:690cd2ec-4fe7-4d94-89bf-c3d63ed60cd3\" xlink:show=\"new\" xlink:title=\"psysml:690cd2ec-4fe7-4d94-89bf-c3d63ed60cd3\" xlink:type=\"simple\"><polygon fill=\"#FFFFFF\" points=\"16,6,134,6,141,28.2969,496,28.2969,496,291,16,291,16,6\" style=\"stroke: #000000; stroke-width: 1.5;\"/><line style=\"stroke: #000000; stroke-width: 1.5;\" x1=\"16\" x2=\"141\" y1=\"28.2969\" y2=\"28.2969\"/><text fill=\"#000000\" font-family=\"sans-serif\" font-size=\"14\" font-weight=\"bold\" lengthAdjust=\"spacingAndGlyphs\" textLength=\"112\" x=\"20\" y=\"20.9951\">CircularImport</text></a><!--MD5=[e4f7fae6ed58524ba242bb0b0d3be6b7]\n",
       "cluster E2--><a href=\"psysml:54e3154d-4fa4-4c14-a367-edca149a76a1\" target=\"_top\" title=\"psysml:54e3154d-4fa4-4c14-a367-edca149a76a1\" xlink:actuate=\"onRequest\" xlink:href=\"psysml:54e3154d-4fa4-4c14-a367-edca149a76a1\" xlink:show=\"new\" xlink:title=\"psysml:54e3154d-4fa4-4c14-a367-edca149a76a1\" xlink:type=\"simple\"><polygon fill=\"#FFFFFF\" points=\"333,170,359,170,366,192.2969,431,192.2969,431,267,333,267,333,170\" style=\"stroke: #000000; stroke-width: 1.5;\"/><line style=\"stroke: #000000; stroke-width: 1.5;\" x1=\"333\" x2=\"366\" y1=\"192.2969\" y2=\"192.2969\"/><text fill=\"#000000\" font-family=\"sans-serif\" font-size=\"14\" font-weight=\"bold\" lengthAdjust=\"spacingAndGlyphs\" textLength=\"20\" x=\"337\" y=\"184.9951\">P1</text></a><!--MD5=[f6df4d0ebaf0b5dfb2ced0ae5af7c670]\n",
       "cluster E4--><a href=\"psysml:581c4a9e-fb07-4d80-ac64-c8c7b70027d2\" target=\"_top\" title=\"psysml:581c4a9e-fb07-4d80-ac64-c8c7b70027d2\" xlink:actuate=\"onRequest\" xlink:href=\"psysml:581c4a9e-fb07-4d80-ac64-c8c7b70027d2\" xlink:show=\"new\" xlink:title=\"psysml:581c4a9e-fb07-4d80-ac64-c8c7b70027d2\" xlink:type=\"simple\"><polygon fill=\"#FFFFFF\" points=\"81,170,107,170,114,192.2969,179,192.2969,179,267,81,267,81,170\" style=\"stroke: #000000; stroke-width: 1.5;\"/><line style=\"stroke: #000000; stroke-width: 1.5;\" x1=\"81\" x2=\"114\" y1=\"192.2969\" y2=\"192.2969\"/><text fill=\"#000000\" font-family=\"sans-serif\" font-size=\"14\" font-weight=\"bold\" lengthAdjust=\"spacingAndGlyphs\" textLength=\"20\" x=\"85\" y=\"184.9951\">P2</text></a><!--MD5=[14e3b0961a2654348d326746436168a1]\n",
       "cluster E6--><a href=\"psysml:6bb49afc-ac2c-47b7-b48e-5bd0a62b326b\" target=\"_top\" title=\"psysml:6bb49afc-ac2c-47b7-b48e-5bd0a62b326b\" xlink:actuate=\"onRequest\" xlink:href=\"psysml:6bb49afc-ac2c-47b7-b48e-5bd0a62b326b\" xlink:show=\"new\" xlink:title=\"psysml:6bb49afc-ac2c-47b7-b48e-5bd0a62b326b\" xlink:type=\"simple\"><polygon fill=\"#FFFFFF\" points=\"268,49,319,49,326,71.2969,419,71.2969,419,146,268,146,268,49\" style=\"stroke: #000000; stroke-width: 1.5;\"/><line style=\"stroke: #000000; stroke-width: 1.5;\" x1=\"268\" x2=\"326\" y1=\"71.2969\" y2=\"71.2969\"/><text fill=\"#000000\" font-family=\"sans-serif\" font-size=\"14\" font-weight=\"bold\" lengthAdjust=\"spacingAndGlyphs\" textLength=\"45\" x=\"272\" y=\"63.9951\">Test1</text></a><!--MD5=[7f149f147074ac12df2cb0a7728a5fb0]\n",
       "cluster E9--><a href=\"psysml:051bf7cb-81b8-4c37-8865-8bb7ea974985\" target=\"_top\" title=\"psysml:051bf7cb-81b8-4c37-8865-8bb7ea974985\" xlink:actuate=\"onRequest\" xlink:href=\"psysml:051bf7cb-81b8-4c37-8865-8bb7ea974985\" xlink:show=\"new\" xlink:title=\"psysml:051bf7cb-81b8-4c37-8865-8bb7ea974985\" xlink:type=\"simple\"><polygon fill=\"#FFFFFF\" points=\"93,49,144,49,151,71.2969,244,71.2969,244,146,93,146,93,49\" style=\"stroke: #000000; stroke-width: 1.5;\"/><line style=\"stroke: #000000; stroke-width: 1.5;\" x1=\"93\" x2=\"151\" y1=\"71.2969\" y2=\"71.2969\"/><text fill=\"#000000\" font-family=\"sans-serif\" font-size=\"14\" font-weight=\"bold\" lengthAdjust=\"spacingAndGlyphs\" textLength=\"45\" x=\"97\" y=\"63.9951\">Test2</text></a><!--MD5=[49a0ec8f00dab7302a31f22d0f0fe584]\n",
       "class E12--><a href=\"psysml:87edab01-bf58-4e9e-abd1-c8b0194f7dca\" target=\"_top\" title=\"psysml:87edab01-bf58-4e9e-abd1-c8b0194f7dca\" xlink:actuate=\"onRequest\" xlink:href=\"psysml:87edab01-bf58-4e9e-abd1-c8b0194f7dca\" xlink:show=\"new\" xlink:title=\"psysml:87edab01-bf58-4e9e-abd1-c8b0194f7dca\" xlink:type=\"simple\"><rect fill=\"#FFFFFF\" height=\"45.9375\" id=\"E12\" rx=\"10\" ry=\"10\" style=\"stroke: #383838; stroke-width: 1.5;\" width=\"42\" x=\"438\" y=\"84\"/><text fill=\"#000000\" font-family=\"sans-serif\" font-size=\"12\" font-style=\"italic\" lengthAdjust=\"spacingAndGlyphs\" textLength=\"40\" x=\"439\" y=\"100.1387\">«part»</text><text fill=\"#000000\" font-family=\"sans-serif\" font-size=\"12\" lengthAdjust=\"spacingAndGlyphs\" textLength=\"22\" x=\"448\" y=\"114.1074\">x: A</text><line style=\"stroke: #383838; stroke-width: 1.5;\" x1=\"439\" x2=\"479\" y1=\"121.9375\" y2=\"121.9375\"/></a><!--MD5=[ee3c913d1a06f366521f9ef512b67efe]\n",
       "class E13--><a href=\"psysml:20c5387a-1627-4e14-8312-6f39b31ab3f7\" target=\"_top\" title=\"psysml:20c5387a-1627-4e14-8312-6f39b31ab3f7\" xlink:actuate=\"onRequest\" xlink:href=\"psysml:20c5387a-1627-4e14-8312-6f39b31ab3f7\" xlink:show=\"new\" xlink:title=\"psysml:20c5387a-1627-4e14-8312-6f39b31ab3f7\" xlink:type=\"simple\"><rect fill=\"#FFFFFF\" height=\"45.9375\" id=\"E13\" rx=\"10\" ry=\"10\" style=\"stroke: #383838; stroke-width: 1.5;\" width=\"42\" x=\"32\" y=\"84\"/><text fill=\"#000000\" font-family=\"sans-serif\" font-size=\"12\" font-style=\"italic\" lengthAdjust=\"spacingAndGlyphs\" textLength=\"40\" x=\"33\" y=\"100.1387\">«part»</text><text fill=\"#000000\" font-family=\"sans-serif\" font-size=\"12\" lengthAdjust=\"spacingAndGlyphs\" textLength=\"22\" x=\"42\" y=\"114.1074\">y: B</text><line style=\"stroke: #383838; stroke-width: 1.5;\" x1=\"33\" x2=\"73\" y1=\"121.9375\" y2=\"121.9375\"/></a><!--MD5=[09b614a08d8cba4a07c9adeb5e0fee81]\n",
       "class E3--><a href=\"psysml:281245e6-0723-4878-ac57-c406fd778909\" target=\"_top\" title=\"psysml:281245e6-0723-4878-ac57-c406fd778909\" xlink:actuate=\"onRequest\" xlink:href=\"psysml:281245e6-0723-4878-ac57-c406fd778909\" xlink:show=\"new\" xlink:title=\"psysml:281245e6-0723-4878-ac57-c406fd778909\" xlink:type=\"simple\"><rect fill=\"#FFFFFF\" height=\"45.9375\" id=\"E3\" style=\"stroke: #383838; stroke-width: 1.5;\" width=\"66\" x=\"349\" y=\"205\"/><text fill=\"#000000\" font-family=\"sans-serif\" font-size=\"12\" font-style=\"italic\" lengthAdjust=\"spacingAndGlyphs\" textLength=\"64\" x=\"350\" y=\"221.1387\">«part def»</text><text fill=\"#000000\" font-family=\"sans-serif\" font-size=\"12\" lengthAdjust=\"spacingAndGlyphs\" textLength=\"8\" x=\"378\" y=\"235.1074\">A</text><line style=\"stroke: #383838; stroke-width: 1.5;\" x1=\"350\" x2=\"414\" y1=\"242.9375\" y2=\"242.9375\"/></a><!--MD5=[270fce915f116d4de14055a7c1d9a0f3]\n",
       "class E5--><a href=\"psysml:57665928-471f-4095-91e2-d839a960cf78\" target=\"_top\" title=\"psysml:57665928-471f-4095-91e2-d839a960cf78\" xlink:actuate=\"onRequest\" xlink:href=\"psysml:57665928-471f-4095-91e2-d839a960cf78\" xlink:show=\"new\" xlink:title=\"psysml:57665928-471f-4095-91e2-d839a960cf78\" xlink:type=\"simple\"><rect fill=\"#FFFFFF\" height=\"45.9375\" id=\"E5\" style=\"stroke: #383838; stroke-width: 1.5;\" width=\"66\" x=\"97\" y=\"205\"/><text fill=\"#000000\" font-family=\"sans-serif\" font-size=\"12\" font-style=\"italic\" lengthAdjust=\"spacingAndGlyphs\" textLength=\"64\" x=\"98\" y=\"221.1387\">«part def»</text><text fill=\"#000000\" font-family=\"sans-serif\" font-size=\"12\" lengthAdjust=\"spacingAndGlyphs\" textLength=\"8\" x=\"126\" y=\"235.1074\">B</text><line style=\"stroke: #383838; stroke-width: 1.5;\" x1=\"98\" x2=\"162\" y1=\"242.9375\" y2=\"242.9375\"/></a><!--MD5=[2156ba9850f5573cc1fc38a6a4b2f02b]\n",
       "class E7--><a href=\"psysml:d6e39b1a-8a39-4c69-85ab-aa8551443e08\" target=\"_top\" title=\"psysml:d6e39b1a-8a39-4c69-85ab-aa8551443e08\" xlink:actuate=\"onRequest\" xlink:href=\"psysml:d6e39b1a-8a39-4c69-85ab-aa8551443e08\" xlink:show=\"new\" xlink:title=\"psysml:d6e39b1a-8a39-4c69-85ab-aa8551443e08\" xlink:type=\"simple\"><rect fill=\"#FFFFFF\" height=\"45.9375\" id=\"E7\" rx=\"10\" ry=\"10\" style=\"stroke: #383838; stroke-width: 1.5;\" width=\"42\" x=\"361\" y=\"84\"/><text fill=\"#000000\" font-family=\"sans-serif\" font-size=\"12\" font-style=\"italic\" lengthAdjust=\"spacingAndGlyphs\" textLength=\"40\" x=\"362\" y=\"100.1387\">«part»</text><text fill=\"#000000\" font-family=\"sans-serif\" font-size=\"12\" lengthAdjust=\"spacingAndGlyphs\" textLength=\"22\" x=\"371\" y=\"114.1074\">x: A</text><line style=\"stroke: #383838; stroke-width: 1.5;\" x1=\"362\" x2=\"402\" y1=\"121.9375\" y2=\"121.9375\"/></a><!--MD5=[b9389687b975829384b498ac4b7476b2]\n",
       "class E8--><a href=\"psysml:ead6e64d-b294-4a2d-a1d8-90d3751f1490\" target=\"_top\" title=\"psysml:ead6e64d-b294-4a2d-a1d8-90d3751f1490\" xlink:actuate=\"onRequest\" xlink:href=\"psysml:ead6e64d-b294-4a2d-a1d8-90d3751f1490\" xlink:show=\"new\" xlink:title=\"psysml:ead6e64d-b294-4a2d-a1d8-90d3751f1490\" xlink:type=\"simple\"><rect fill=\"#FFFFFF\" height=\"45.9375\" id=\"E8\" rx=\"10\" ry=\"10\" style=\"stroke: #383838; stroke-width: 1.5;\" width=\"42\" x=\"284\" y=\"84\"/><text fill=\"#000000\" font-family=\"sans-serif\" font-size=\"12\" font-style=\"italic\" lengthAdjust=\"spacingAndGlyphs\" textLength=\"40\" x=\"285\" y=\"100.1387\">«part»</text><text fill=\"#000000\" font-family=\"sans-serif\" font-size=\"12\" lengthAdjust=\"spacingAndGlyphs\" textLength=\"22\" x=\"294\" y=\"114.1074\">y: B</text><line style=\"stroke: #383838; stroke-width: 1.5;\" x1=\"285\" x2=\"325\" y1=\"121.9375\" y2=\"121.9375\"/></a><!--MD5=[96f4274e9e20536e775497830990834d]\n",
       "class E10--><a href=\"psysml:f3cb1211-10b9-411e-bf19-d5722693e1fe\" target=\"_top\" title=\"psysml:f3cb1211-10b9-411e-bf19-d5722693e1fe\" xlink:actuate=\"onRequest\" xlink:href=\"psysml:f3cb1211-10b9-411e-bf19-d5722693e1fe\" xlink:show=\"new\" xlink:title=\"psysml:f3cb1211-10b9-411e-bf19-d5722693e1fe\" xlink:type=\"simple\"><rect fill=\"#FFFFFF\" height=\"45.9375\" id=\"E10\" rx=\"10\" ry=\"10\" style=\"stroke: #383838; stroke-width: 1.5;\" width=\"42\" x=\"186\" y=\"84\"/><text fill=\"#000000\" font-family=\"sans-serif\" font-size=\"12\" font-style=\"italic\" lengthAdjust=\"spacingAndGlyphs\" textLength=\"40\" x=\"187\" y=\"100.1387\">«part»</text><text fill=\"#000000\" font-family=\"sans-serif\" font-size=\"12\" lengthAdjust=\"spacingAndGlyphs\" textLength=\"22\" x=\"196\" y=\"114.1074\">x: A</text><line style=\"stroke: #383838; stroke-width: 1.5;\" x1=\"187\" x2=\"227\" y1=\"121.9375\" y2=\"121.9375\"/></a><!--MD5=[1dd1bfd58a279cf63c5f349dbc8fc6a1]\n",
       "class E11--><a href=\"psysml:9cdccab4-e502-4fbe-97eb-9b231d825ffa\" target=\"_top\" title=\"psysml:9cdccab4-e502-4fbe-97eb-9b231d825ffa\" xlink:actuate=\"onRequest\" xlink:href=\"psysml:9cdccab4-e502-4fbe-97eb-9b231d825ffa\" xlink:show=\"new\" xlink:title=\"psysml:9cdccab4-e502-4fbe-97eb-9b231d825ffa\" xlink:type=\"simple\"><rect fill=\"#FFFFFF\" height=\"45.9375\" id=\"E11\" rx=\"10\" ry=\"10\" style=\"stroke: #383838; stroke-width: 1.5;\" width=\"42\" x=\"109\" y=\"84\"/><text fill=\"#000000\" font-family=\"sans-serif\" font-size=\"12\" font-style=\"italic\" lengthAdjust=\"spacingAndGlyphs\" textLength=\"40\" x=\"110\" y=\"100.1387\">«part»</text><text fill=\"#000000\" font-family=\"sans-serif\" font-size=\"12\" lengthAdjust=\"spacingAndGlyphs\" textLength=\"22\" x=\"119\" y=\"114.1074\">y: B</text><line style=\"stroke: #383838; stroke-width: 1.5;\" x1=\"110\" x2=\"150\" y1=\"121.9375\" y2=\"121.9375\"/></a><!--MD5=[14ccda38c055a5c0da953d572bc50960]\n",
       "link E7 to E3--><a href=\"psysml:84278f38-d400-4655-8657-76a37dd9bb09\" target=\"_top\" title=\"psysml:84278f38-d400-4655-8657-76a37dd9bb09\" xlink:actuate=\"onRequest\" xlink:href=\"psysml:84278f38-d400-4655-8657-76a37dd9bb09\" xlink:show=\"new\" xlink:title=\"psysml:84278f38-d400-4655-8657-76a37dd9bb09\" xlink:type=\"simple\"><path d=\"M382,130.1 C382,145.37 382,166.16 382,184.57 \" fill=\"none\" id=\"E7-&gt;E3\" style=\"stroke: #383838; stroke-width: 1.0;\"/><polygon fill=\"#FFFFFF\" points=\"382,204.61,375,185.61,389,185.61,382,204.61\" style=\"stroke: #383838; stroke-width: 1.0;\"/><ellipse cx=\"377\" cy=\"179.91\" fill=\"#383838\" rx=\"2\" ry=\"2\" style=\"stroke: #383838; stroke-width: 1.0;\"/><ellipse cx=\"387\" cy=\"179.91\" fill=\"#383838\" rx=\"2\" ry=\"2\" style=\"stroke: #383838; stroke-width: 1.0;\"/></a><!--MD5=[1ccb2481ffa92f8d51a74ee30c51832a]\n",
       "link E8 to E5--><a href=\"psysml:9a62fcce-aa5a-49d2-8cac-0b2f538e5bd0\" target=\"_top\" title=\"psysml:9a62fcce-aa5a-49d2-8cac-0b2f538e5bd0\" xlink:actuate=\"onRequest\" xlink:href=\"psysml:9a62fcce-aa5a-49d2-8cac-0b2f538e5bd0\" xlink:show=\"new\" xlink:title=\"psysml:9a62fcce-aa5a-49d2-8cac-0b2f538e5bd0\" xlink:type=\"simple\"><path d=\"M283.84,124.59 C272.23,133.52 257.5,144.61 244,154 C223.51,168.25 200.41,183.24 180.38,195.91 \" fill=\"none\" id=\"E8-&gt;E5\" style=\"stroke: #383838; stroke-width: 1.0;\"/><polygon fill=\"#FFFFFF\" points=\"163.36,206.57,175.7353,190.5434,183.175,202.403,163.36,206.57\" style=\"stroke: #383838; stroke-width: 1.0;\"/><ellipse cx=\"181.6267\" cy=\"189.2086\" fill=\"#383838\" rx=\"2\" ry=\"2\" style=\"stroke: #383838; stroke-width: 1.0;\"/><ellipse cx=\"186.9408\" cy=\"197.6797\" fill=\"#383838\" rx=\"2\" ry=\"2\" style=\"stroke: #383838; stroke-width: 1.0;\"/></a><!--MD5=[feeac5eb423634930294aa81f2d25a4c]\n",
       "link E10 to E3--><a href=\"psysml:bd7260c7-b55a-4391-86f8-9493bae3bcdc\" target=\"_top\" title=\"psysml:bd7260c7-b55a-4391-86f8-9493bae3bcdc\" xlink:actuate=\"onRequest\" xlink:href=\"psysml:bd7260c7-b55a-4391-86f8-9493bae3bcdc\" xlink:show=\"new\" xlink:title=\"psysml:bd7260c7-b55a-4391-86f8-9493bae3bcdc\" xlink:type=\"simple\"><path d=\"M228.16,124.59 C239.77,133.52 254.5,144.61 268,154 C288.49,168.25 311.59,183.24 331.62,195.91 \" fill=\"none\" id=\"E10-&gt;E3\" style=\"stroke: #383838; stroke-width: 1.0;\"/><polygon fill=\"#FFFFFF\" points=\"348.64,206.57,328.825,202.403,336.2647,190.5434,348.64,206.57\" style=\"stroke: #383838; stroke-width: 1.0;\"/><ellipse cx=\"325.0592\" cy=\"197.6797\" fill=\"#383838\" rx=\"2\" ry=\"2\" style=\"stroke: #383838; stroke-width: 1.0;\"/><ellipse cx=\"330.3733\" cy=\"189.2086\" fill=\"#383838\" rx=\"2\" ry=\"2\" style=\"stroke: #383838; stroke-width: 1.0;\"/></a><!--MD5=[07b77f6f309248d16187045709d1c26e]\n",
       "link E11 to E5--><a href=\"psysml:099d00ce-a154-42ce-865e-6b31b35a0829\" target=\"_top\" title=\"psysml:099d00ce-a154-42ce-865e-6b31b35a0829\" xlink:actuate=\"onRequest\" xlink:href=\"psysml:099d00ce-a154-42ce-865e-6b31b35a0829\" xlink:show=\"new\" xlink:title=\"psysml:099d00ce-a154-42ce-865e-6b31b35a0829\" xlink:type=\"simple\"><path d=\"M130,130.1 C130,145.37 130,166.16 130,184.57 \" fill=\"none\" id=\"E11-&gt;E5\" style=\"stroke: #383838; stroke-width: 1.0;\"/><polygon fill=\"#FFFFFF\" points=\"130,204.61,123,185.61,137,185.61,130,204.61\" style=\"stroke: #383838; stroke-width: 1.0;\"/><ellipse cx=\"125\" cy=\"179.91\" fill=\"#383838\" rx=\"2\" ry=\"2\" style=\"stroke: #383838; stroke-width: 1.0;\"/><ellipse cx=\"135\" cy=\"179.91\" fill=\"#383838\" rx=\"2\" ry=\"2\" style=\"stroke: #383838; stroke-width: 1.0;\"/></a><!--MD5=[39f41a0e550fb3d73b4d8135617e30a2]\n",
       "link E12 to E3--><a href=\"psysml:2e0d72ae-9b36-4ac2-af7e-1d21d87eecf3\" target=\"_top\" title=\"psysml:2e0d72ae-9b36-4ac2-af7e-1d21d87eecf3\" xlink:actuate=\"onRequest\" xlink:href=\"psysml:2e0d72ae-9b36-4ac2-af7e-1d21d87eecf3\" xlink:show=\"new\" xlink:title=\"psysml:2e0d72ae-9b36-4ac2-af7e-1d21d87eecf3\" xlink:type=\"simple\"><path d=\"M444.7,130.1 C434.28,146.2 419.89,168.44 407.53,187.55 \" fill=\"none\" id=\"E12-&gt;E3\" style=\"stroke: #383838; stroke-width: 1.0;\"/><polygon fill=\"#FFFFFF\" points=\"396.49,204.61,400.9313,184.8546,412.6866,192.4581,396.49,204.61\" style=\"stroke: #383838; stroke-width: 1.0;\"/><ellipse cx=\"405.7063\" cy=\"181.1547\" fill=\"#383838\" rx=\"2\" ry=\"2\" style=\"stroke: #383838; stroke-width: 1.0;\"/><ellipse cx=\"414.103\" cy=\"186.5858\" fill=\"#383838\" rx=\"2\" ry=\"2\" style=\"stroke: #383838; stroke-width: 1.0;\"/></a><!--MD5=[066b2d8af59fea80ccdb3d54ad5c1091]\n",
       "link E13 to E5--><a href=\"psysml:28c76814-e954-4c97-b716-40e2f6813c6b\" target=\"_top\" title=\"psysml:28c76814-e954-4c97-b716-40e2f6813c6b\" xlink:actuate=\"onRequest\" xlink:href=\"psysml:28c76814-e954-4c97-b716-40e2f6813c6b\" xlink:show=\"new\" xlink:title=\"psysml:28c76814-e954-4c97-b716-40e2f6813c6b\" xlink:type=\"simple\"><path d=\"M67.3,130.1 C77.72,146.2 92.11,168.44 104.47,187.55 \" fill=\"none\" id=\"E13-&gt;E5\" style=\"stroke: #383838; stroke-width: 1.0;\"/><polygon fill=\"#FFFFFF\" points=\"115.51,204.61,99.3134,192.4581,111.0687,184.8546,115.51,204.61\" style=\"stroke: #383838; stroke-width: 1.0;\"/><ellipse cx=\"97.897\" cy=\"186.5858\" fill=\"#383838\" rx=\"2\" ry=\"2\" style=\"stroke: #383838; stroke-width: 1.0;\"/><ellipse cx=\"106.2937\" cy=\"181.1547\" fill=\"#383838\" rx=\"2\" ry=\"2\" style=\"stroke: #383838; stroke-width: 1.0;\"/></a><!--MD5=[69daa8c5a66ce47ff930034d9d86ce0d]\n",
       "@startuml\r\n",
       "skinparam monochrome true\r\n",
       "skinparam classbackgroundcolor white\r\n",
       "skinparam shadowing false\r\n",
       "skinparam wrapWidth 300\r\n",
       "hide circle\r\n",
       "\r\n",
       "package \"CircularImport\" as E1  [[psysml:690cd2ec-4fe7-4d94-89bf-c3d63ed60cd3 ]]  {\r\n",
       "package \"P1\" as E2  [[psysml:54e3154d-4fa4-4c14-a367-edca149a76a1 ]]  {\r\n",
       "comp def \"A\" as E3  <<(T,blue)part def>> [[psysml:281245e6-0723-4878-ac57-c406fd778909 ]] {\r\n",
       "}\r\n",
       "}\r\n",
       "package \"P2\" as E4  [[psysml:581c4a9e-fb07-4d80-ac64-c8c7b70027d2 ]]  {\r\n",
       "comp def \"B\" as E5  <<(T,blue)part def>> [[psysml:57665928-471f-4095-91e2-d839a960cf78 ]] {\r\n",
       "}\r\n",
       "}\r\n",
       "package \"Test1\" as E6  [[psysml:6bb49afc-ac2c-47b7-b48e-5bd0a62b326b ]]  {\r\n",
       "comp usage \"x: A\" as E7  <<(T,blue)part>> [[psysml:d6e39b1a-8a39-4c69-85ab-aa8551443e08 ]] {\r\n",
       "}\r\n",
       "comp usage \"y: B\" as E8  <<(T,blue)part>> [[psysml:ead6e64d-b294-4a2d-a1d8-90d3751f1490 ]] {\r\n",
       "}\r\n",
       "E7 - -:|> E3 [[psysml:84278f38-d400-4655-8657-76a37dd9bb09 ]] \r\n",
       "E8 - -:|> E5 [[psysml:9a62fcce-aa5a-49d2-8cac-0b2f538e5bd0 ]] \r\n",
       "}\r\n",
       "package \"Test2\" as E9  [[psysml:051bf7cb-81b8-4c37-8865-8bb7ea974985 ]]  {\r\n",
       "comp usage \"x: A\" as E10  <<(T,blue)part>> [[psysml:f3cb1211-10b9-411e-bf19-d5722693e1fe ]] {\r\n",
       "}\r\n",
       "comp usage \"y: B\" as E11  <<(T,blue)part>> [[psysml:9cdccab4-e502-4fbe-97eb-9b231d825ffa ]] {\r\n",
       "}\r\n",
       "E10 - -:|> E3 [[psysml:bd7260c7-b55a-4391-86f8-9493bae3bcdc ]] \r\n",
       "E11 - -:|> E5 [[psysml:099d00ce-a154-42ce-865e-6b31b35a0829 ]] \r\n",
       "}\r\n",
       "comp usage \"x: A\" as E12  <<(T,blue)part>> [[psysml:87edab01-bf58-4e9e-abd1-c8b0194f7dca ]] {\r\n",
       "}\r\n",
       "comp usage \"y: B\" as E13  <<(T,blue)part>> [[psysml:20c5387a-1627-4e14-8312-6f39b31ab3f7 ]] {\r\n",
       "}\r\n",
       "E12 - -:|> E3 [[psysml:2e0d72ae-9b36-4ac2-af7e-1d21d87eecf3 ]] \r\n",
       "E13 - -:|> E5 [[psysml:28c76814-e954-4c97-b716-40e2f6813c6b ]] \r\n",
       "}\r\n",
       "@enduml\r\n",
       "\n",
       "PlantUML version 1.2020.13(Sat Jun 13 12:26:38 UTC 2020)\n",
       "(EPL source distribution)\n",
       "Java Runtime: OpenJDK Runtime Environment\n",
       "JVM: OpenJDK 64-Bit Server VM\n",
       "Default Encoding: UTF-8\n",
       "Language: en\n",
       "Country: null\n",
       "--></g></svg>"
      ]
     },
     "execution_count": 38,
     "metadata": {},
     "output_type": "execute_result"
    }
   ],
   "source": [
    "%viz --style=\"DEFAULT\" --view=\"Tree\" \"CircularImport\""
   ]
  },
  {
   "cell_type": "code",
   "execution_count": 39,
   "id": "8d0a2ac3",
   "metadata": {
    "execution": {
     "iopub.execute_input": "2021-04-20T06:57:54.785475Z",
     "iopub.status.busy": "2021-04-20T06:57:54.785086Z",
     "iopub.status.idle": "2021-04-20T06:57:54.789632Z",
     "shell.execute_reply": "2021-04-20T06:57:54.789200Z"
    }
   },
   "outputs": [
    {
     "data": {
      "image/svg+xml": [
       "<?xml version=\"1.0\" encoding=\"UTF-8\" standalone=\"no\"?><svg xmlns=\"http://www.w3.org/2000/svg\" xmlns:xlink=\"http://www.w3.org/1999/xlink\" contentScriptType=\"application/ecmascript\" contentStyleType=\"text/css\" height=\"12px\" preserveAspectRatio=\"none\" style=\"width:12px;height:12px;\" version=\"1.1\" viewBox=\"0 0 12 12\" width=\"12px\" zoomAndPan=\"magnify\"><defs/><g><!--MD5=[c5f280e076d0d61ccf4b0f27871bda1d]\n",
       "@startuml\r\n",
       "skinparam monochrome true\r\n",
       "skinparam classbackgroundcolor white\r\n",
       "skinparam shadowing false\r\n",
       "skinparam wrapWidth 300\r\n",
       "hide circle\r\n",
       "\r\n",
       "@enduml\r\n",
       "\n",
       "PlantUML version 1.2020.13(Sat Jun 13 12:26:38 UTC 2020)\n",
       "(EPL source distribution)\n",
       "Java Runtime: OpenJDK Runtime Environment\n",
       "JVM: OpenJDK 64-Bit Server VM\n",
       "Default Encoding: UTF-8\n",
       "Language: en\n",
       "Country: null\n",
       "--></g></svg>"
      ]
     },
     "execution_count": 39,
     "metadata": {},
     "output_type": "execute_result"
    }
   ],
   "source": [
    "%viz --style=\"DEFAULT\" --view=\"State\" \"CircularImport\""
   ]
  },
  {
   "cell_type": "code",
   "execution_count": 40,
   "id": "4a9e4e3b",
   "metadata": {
    "execution": {
     "iopub.execute_input": "2021-04-20T06:57:54.841956Z",
     "iopub.status.busy": "2021-04-20T06:57:54.841416Z",
     "iopub.status.idle": "2021-04-20T06:57:54.873060Z",
     "shell.execute_reply": "2021-04-20T06:57:54.871414Z"
    }
   },
   "outputs": [
    {
     "data": {
      "image/svg+xml": [
       "<?xml version=\"1.0\" encoding=\"UTF-8\" standalone=\"no\"?><svg xmlns=\"http://www.w3.org/2000/svg\" xmlns:xlink=\"http://www.w3.org/1999/xlink\" contentScriptType=\"application/ecmascript\" contentStyleType=\"text/css\" height=\"179px\" preserveAspectRatio=\"none\" style=\"width:846px;height:179px;\" version=\"1.1\" viewBox=\"0 0 846 179\" width=\"846px\" zoomAndPan=\"magnify\"><defs/><g><!--MD5=[fbc87193dbaf4d95561dea2c320d4a47]\n",
       "cluster E1--><a href=\"psysml:690cd2ec-4fe7-4d94-89bf-c3d63ed60cd3\" target=\"_top\" title=\"psysml:690cd2ec-4fe7-4d94-89bf-c3d63ed60cd3\" xlink:actuate=\"onRequest\" xlink:href=\"psysml:690cd2ec-4fe7-4d94-89bf-c3d63ed60cd3\" xlink:show=\"new\" xlink:title=\"psysml:690cd2ec-4fe7-4d94-89bf-c3d63ed60cd3\" xlink:type=\"simple\"><polygon fill=\"#FFFFFF\" points=\"16,6,134,6,141,28.2969,824,28.2969,824,167,16,167,16,6\" style=\"stroke: #000000; stroke-width: 1.5;\"/><line style=\"stroke: #000000; stroke-width: 1.5;\" x1=\"16\" x2=\"141\" y1=\"28.2969\" y2=\"28.2969\"/><text fill=\"#000000\" font-family=\"sans-serif\" font-size=\"14\" font-weight=\"bold\" lengthAdjust=\"spacingAndGlyphs\" textLength=\"112\" x=\"20\" y=\"20.9951\">CircularImport</text></a><!--MD5=[e4f7fae6ed58524ba242bb0b0d3be6b7]\n",
       "cluster E2--><a href=\"psysml:54e3154d-4fa4-4c14-a367-edca149a76a1\" target=\"_top\" title=\"psysml:54e3154d-4fa4-4c14-a367-edca149a76a1\" xlink:actuate=\"onRequest\" xlink:href=\"psysml:54e3154d-4fa4-4c14-a367-edca149a76a1\" xlink:show=\"new\" xlink:title=\"psysml:54e3154d-4fa4-4c14-a367-edca149a76a1\" xlink:type=\"simple\"><polygon fill=\"#FFFFFF\" points=\"696,49,722,49,729,71.2969,800,71.2969,800,143,696,143,696,49\" style=\"stroke: #000000; stroke-width: 1.5;\"/><line style=\"stroke: #000000; stroke-width: 1.5;\" x1=\"696\" x2=\"729\" y1=\"71.2969\" y2=\"71.2969\"/><text fill=\"#000000\" font-family=\"sans-serif\" font-size=\"14\" font-weight=\"bold\" lengthAdjust=\"spacingAndGlyphs\" textLength=\"20\" x=\"700\" y=\"63.9951\">P1</text></a><!--MD5=[f6df4d0ebaf0b5dfb2ced0ae5af7c670]\n",
       "cluster E4--><a href=\"psysml:581c4a9e-fb07-4d80-ac64-c8c7b70027d2\" target=\"_top\" title=\"psysml:581c4a9e-fb07-4d80-ac64-c8c7b70027d2\" xlink:actuate=\"onRequest\" xlink:href=\"psysml:581c4a9e-fb07-4d80-ac64-c8c7b70027d2\" xlink:show=\"new\" xlink:title=\"psysml:581c4a9e-fb07-4d80-ac64-c8c7b70027d2\" xlink:type=\"simple\"><polygon fill=\"#FFFFFF\" points=\"568,49,594,49,601,71.2969,672,71.2969,672,143,568,143,568,49\" style=\"stroke: #000000; stroke-width: 1.5;\"/><line style=\"stroke: #000000; stroke-width: 1.5;\" x1=\"568\" x2=\"601\" y1=\"71.2969\" y2=\"71.2969\"/><text fill=\"#000000\" font-family=\"sans-serif\" font-size=\"14\" font-weight=\"bold\" lengthAdjust=\"spacingAndGlyphs\" textLength=\"20\" x=\"572\" y=\"63.9951\">P2</text></a><!--MD5=[14e3b0961a2654348d326746436168a1]\n",
       "cluster E6--><a href=\"psysml:6bb49afc-ac2c-47b7-b48e-5bd0a62b326b\" target=\"_top\" title=\"psysml:6bb49afc-ac2c-47b7-b48e-5bd0a62b326b\" xlink:actuate=\"onRequest\" xlink:href=\"psysml:6bb49afc-ac2c-47b7-b48e-5bd0a62b326b\" xlink:show=\"new\" xlink:title=\"psysml:6bb49afc-ac2c-47b7-b48e-5bd0a62b326b\" xlink:type=\"simple\"><polygon fill=\"#FFFFFF\" points=\"377,50.5,428,50.5,435,72.7969,544,72.7969,544,141.5,377,141.5,377,50.5\" style=\"stroke: #000000; stroke-width: 1.5;\"/><line style=\"stroke: #000000; stroke-width: 1.5;\" x1=\"377\" x2=\"435\" y1=\"72.7969\" y2=\"72.7969\"/><text fill=\"#000000\" font-family=\"sans-serif\" font-size=\"14\" font-weight=\"bold\" lengthAdjust=\"spacingAndGlyphs\" textLength=\"45\" x=\"381\" y=\"65.4951\">Test1</text></a><!--MD5=[7f149f147074ac12df2cb0a7728a5fb0]\n",
       "cluster E9--><a href=\"psysml:051bf7cb-81b8-4c37-8865-8bb7ea974985\" target=\"_top\" title=\"psysml:051bf7cb-81b8-4c37-8865-8bb7ea974985\" xlink:actuate=\"onRequest\" xlink:href=\"psysml:051bf7cb-81b8-4c37-8865-8bb7ea974985\" xlink:show=\"new\" xlink:title=\"psysml:051bf7cb-81b8-4c37-8865-8bb7ea974985\" xlink:type=\"simple\"><polygon fill=\"#FFFFFF\" points=\"186,50.5,237,50.5,244,72.7969,353,72.7969,353,141.5,186,141.5,186,50.5\" style=\"stroke: #000000; stroke-width: 1.5;\"/><line style=\"stroke: #000000; stroke-width: 1.5;\" x1=\"186\" x2=\"244\" y1=\"72.7969\" y2=\"72.7969\"/><text fill=\"#000000\" font-family=\"sans-serif\" font-size=\"14\" font-weight=\"bold\" lengthAdjust=\"spacingAndGlyphs\" textLength=\"45\" x=\"190\" y=\"65.4951\">Test2</text></a><g id=\"E1.E2.E3\"><a href=\"psysml:281245e6-0723-4878-ac57-c406fd778909\" target=\"_top\" title=\"psysml:281245e6-0723-4878-ac57-c406fd778909\" xlink:actuate=\"onRequest\" xlink:href=\"psysml:281245e6-0723-4878-ac57-c406fd778909\" xlink:show=\"new\" xlink:title=\"psysml:281245e6-0723-4878-ac57-c406fd778909\" xlink:type=\"simple\"><rect fill=\"#FFFFFF\" height=\"42.9375\" id=\"E3\" style=\"stroke: #383838; stroke-width: 1.5;\" width=\"71\" x=\"712.5\" y=\"84\"/><rect fill=\"#F8F8F8\" height=\"37.9375\" style=\"stroke: #383838; stroke-width: 1.5;\" width=\"71\" x=\"712.5\" y=\"84\"/><text fill=\"#000000\" font-family=\"sans-serif\" font-size=\"12\" font-style=\"italic\" lengthAdjust=\"spacingAndGlyphs\" textLength=\"64\" x=\"716\" y=\"100.1387\">«part def»</text><text fill=\"#000000\" font-family=\"sans-serif\" font-size=\"12\" lengthAdjust=\"spacingAndGlyphs\" textLength=\"8\" x=\"744\" y=\"114.1074\">A</text></a></g><g id=\"E1.E4.E5\"><a href=\"psysml:57665928-471f-4095-91e2-d839a960cf78\" target=\"_top\" title=\"psysml:57665928-471f-4095-91e2-d839a960cf78\" xlink:actuate=\"onRequest\" xlink:href=\"psysml:57665928-471f-4095-91e2-d839a960cf78\" xlink:show=\"new\" xlink:title=\"psysml:57665928-471f-4095-91e2-d839a960cf78\" xlink:type=\"simple\"><rect fill=\"#FFFFFF\" height=\"42.9375\" id=\"E5\" style=\"stroke: #383838; stroke-width: 1.5;\" width=\"71\" x=\"584.5\" y=\"84\"/><rect fill=\"#F8F8F8\" height=\"37.9375\" style=\"stroke: #383838; stroke-width: 1.5;\" width=\"71\" x=\"584.5\" y=\"84\"/><text fill=\"#000000\" font-family=\"sans-serif\" font-size=\"12\" font-style=\"italic\" lengthAdjust=\"spacingAndGlyphs\" textLength=\"64\" x=\"588\" y=\"100.1387\">«part def»</text><text fill=\"#000000\" font-family=\"sans-serif\" font-size=\"12\" lengthAdjust=\"spacingAndGlyphs\" textLength=\"8\" x=\"616\" y=\"114.1074\">B</text></a></g><g id=\"E1.E6.E7\"><a href=\"psysml:d6e39b1a-8a39-4c69-85ab-aa8551443e08\" target=\"_top\" title=\"psysml:d6e39b1a-8a39-4c69-85ab-aa8551443e08\" xlink:actuate=\"onRequest\" xlink:href=\"psysml:d6e39b1a-8a39-4c69-85ab-aa8551443e08\" xlink:show=\"new\" xlink:title=\"psysml:d6e39b1a-8a39-4c69-85ab-aa8551443e08\" xlink:type=\"simple\"><rect fill=\"#FFFFFF\" height=\"40\" id=\"E7\" rx=\"10\" ry=\"10\" style=\"stroke: #383838; stroke-width: 1.5;\" width=\"50\" x=\"478\" y=\"85.5\"/><rect fill=\"#F8F8F8\" height=\"23.9688\" rx=\"10\" ry=\"10\" style=\"stroke: #F8F8F8; stroke-width: 1.5;\" width=\"50\" x=\"478\" y=\"85.5\"/><rect fill=\"#F8F8F8\" height=\"10\" style=\"stroke: #F8F8F8; stroke-width: 1.5;\" width=\"50\" x=\"478\" y=\"99.4688\"/><rect fill=\"none\" height=\"40\" id=\"E7\" rx=\"10\" ry=\"10\" style=\"stroke: #383838; stroke-width: 1.5;\" width=\"50\" x=\"478\" y=\"85.5\"/><text fill=\"#000000\" font-family=\"sans-serif\" font-size=\"12\" lengthAdjust=\"spacingAndGlyphs\" textLength=\"22\" x=\"492\" y=\"101.6387\">x: A</text></a></g><g id=\"E1.E6.E8\"><a href=\"psysml:ead6e64d-b294-4a2d-a1d8-90d3751f1490\" target=\"_top\" title=\"psysml:ead6e64d-b294-4a2d-a1d8-90d3751f1490\" xlink:actuate=\"onRequest\" xlink:href=\"psysml:ead6e64d-b294-4a2d-a1d8-90d3751f1490\" xlink:show=\"new\" xlink:title=\"psysml:ead6e64d-b294-4a2d-a1d8-90d3751f1490\" xlink:type=\"simple\"><rect fill=\"#FFFFFF\" height=\"40\" id=\"E8\" rx=\"10\" ry=\"10\" style=\"stroke: #383838; stroke-width: 1.5;\" width=\"50\" x=\"393\" y=\"85.5\"/><rect fill=\"#F8F8F8\" height=\"23.9688\" rx=\"10\" ry=\"10\" style=\"stroke: #F8F8F8; stroke-width: 1.5;\" width=\"50\" x=\"393\" y=\"85.5\"/><rect fill=\"#F8F8F8\" height=\"10\" style=\"stroke: #F8F8F8; stroke-width: 1.5;\" width=\"50\" x=\"393\" y=\"99.4688\"/><rect fill=\"none\" height=\"40\" id=\"E8\" rx=\"10\" ry=\"10\" style=\"stroke: #383838; stroke-width: 1.5;\" width=\"50\" x=\"393\" y=\"85.5\"/><text fill=\"#000000\" font-family=\"sans-serif\" font-size=\"12\" lengthAdjust=\"spacingAndGlyphs\" textLength=\"22\" x=\"407\" y=\"101.6387\">y: B</text></a></g><g id=\"E1.E9.E10\"><a href=\"psysml:f3cb1211-10b9-411e-bf19-d5722693e1fe\" target=\"_top\" title=\"psysml:f3cb1211-10b9-411e-bf19-d5722693e1fe\" xlink:actuate=\"onRequest\" xlink:href=\"psysml:f3cb1211-10b9-411e-bf19-d5722693e1fe\" xlink:show=\"new\" xlink:title=\"psysml:f3cb1211-10b9-411e-bf19-d5722693e1fe\" xlink:type=\"simple\"><rect fill=\"#FFFFFF\" height=\"40\" id=\"E10\" rx=\"10\" ry=\"10\" style=\"stroke: #383838; stroke-width: 1.5;\" width=\"50\" x=\"287\" y=\"85.5\"/><rect fill=\"#F8F8F8\" height=\"23.9688\" rx=\"10\" ry=\"10\" style=\"stroke: #F8F8F8; stroke-width: 1.5;\" width=\"50\" x=\"287\" y=\"85.5\"/><rect fill=\"#F8F8F8\" height=\"10\" style=\"stroke: #F8F8F8; stroke-width: 1.5;\" width=\"50\" x=\"287\" y=\"99.4688\"/><rect fill=\"none\" height=\"40\" id=\"E10\" rx=\"10\" ry=\"10\" style=\"stroke: #383838; stroke-width: 1.5;\" width=\"50\" x=\"287\" y=\"85.5\"/><text fill=\"#000000\" font-family=\"sans-serif\" font-size=\"12\" lengthAdjust=\"spacingAndGlyphs\" textLength=\"22\" x=\"301\" y=\"101.6387\">x: A</text></a></g><g id=\"E1.E9.E11\"><a href=\"psysml:9cdccab4-e502-4fbe-97eb-9b231d825ffa\" target=\"_top\" title=\"psysml:9cdccab4-e502-4fbe-97eb-9b231d825ffa\" xlink:actuate=\"onRequest\" xlink:href=\"psysml:9cdccab4-e502-4fbe-97eb-9b231d825ffa\" xlink:show=\"new\" xlink:title=\"psysml:9cdccab4-e502-4fbe-97eb-9b231d825ffa\" xlink:type=\"simple\"><rect fill=\"#FFFFFF\" height=\"40\" id=\"E11\" rx=\"10\" ry=\"10\" style=\"stroke: #383838; stroke-width: 1.5;\" width=\"50\" x=\"202\" y=\"85.5\"/><rect fill=\"#F8F8F8\" height=\"23.9688\" rx=\"10\" ry=\"10\" style=\"stroke: #F8F8F8; stroke-width: 1.5;\" width=\"50\" x=\"202\" y=\"85.5\"/><rect fill=\"#F8F8F8\" height=\"10\" style=\"stroke: #F8F8F8; stroke-width: 1.5;\" width=\"50\" x=\"202\" y=\"99.4688\"/><rect fill=\"none\" height=\"40\" id=\"E11\" rx=\"10\" ry=\"10\" style=\"stroke: #383838; stroke-width: 1.5;\" width=\"50\" x=\"202\" y=\"85.5\"/><text fill=\"#000000\" font-family=\"sans-serif\" font-size=\"12\" lengthAdjust=\"spacingAndGlyphs\" textLength=\"22\" x=\"216\" y=\"101.6387\">y: B</text></a></g><g id=\"E1.E12\"><a href=\"psysml:87edab01-bf58-4e9e-abd1-c8b0194f7dca\" target=\"_top\" title=\"psysml:87edab01-bf58-4e9e-abd1-c8b0194f7dca\" xlink:actuate=\"onRequest\" xlink:href=\"psysml:87edab01-bf58-4e9e-abd1-c8b0194f7dca\" xlink:show=\"new\" xlink:title=\"psysml:87edab01-bf58-4e9e-abd1-c8b0194f7dca\" xlink:type=\"simple\"><rect fill=\"#FFFFFF\" height=\"40\" id=\"E12\" rx=\"10\" ry=\"10\" style=\"stroke: #383838; stroke-width: 1.5;\" width=\"50\" x=\"117\" y=\"85.5\"/><rect fill=\"#F8F8F8\" height=\"23.9688\" rx=\"10\" ry=\"10\" style=\"stroke: #F8F8F8; stroke-width: 1.5;\" width=\"50\" x=\"117\" y=\"85.5\"/><rect fill=\"#F8F8F8\" height=\"10\" style=\"stroke: #F8F8F8; stroke-width: 1.5;\" width=\"50\" x=\"117\" y=\"99.4688\"/><rect fill=\"none\" height=\"40\" id=\"E12\" rx=\"10\" ry=\"10\" style=\"stroke: #383838; stroke-width: 1.5;\" width=\"50\" x=\"117\" y=\"85.5\"/><text fill=\"#000000\" font-family=\"sans-serif\" font-size=\"12\" lengthAdjust=\"spacingAndGlyphs\" textLength=\"22\" x=\"131\" y=\"101.6387\">x: A</text></a></g><g id=\"E1.E13\"><a href=\"psysml:20c5387a-1627-4e14-8312-6f39b31ab3f7\" target=\"_top\" title=\"psysml:20c5387a-1627-4e14-8312-6f39b31ab3f7\" xlink:actuate=\"onRequest\" xlink:href=\"psysml:20c5387a-1627-4e14-8312-6f39b31ab3f7\" xlink:show=\"new\" xlink:title=\"psysml:20c5387a-1627-4e14-8312-6f39b31ab3f7\" xlink:type=\"simple\"><rect fill=\"#FFFFFF\" height=\"40\" id=\"E13\" rx=\"10\" ry=\"10\" style=\"stroke: #383838; stroke-width: 1.5;\" width=\"50\" x=\"32\" y=\"85.5\"/><rect fill=\"#F8F8F8\" height=\"23.9688\" rx=\"10\" ry=\"10\" style=\"stroke: #F8F8F8; stroke-width: 1.5;\" width=\"50\" x=\"32\" y=\"85.5\"/><rect fill=\"#F8F8F8\" height=\"10\" style=\"stroke: #F8F8F8; stroke-width: 1.5;\" width=\"50\" x=\"32\" y=\"99.4688\"/><rect fill=\"none\" height=\"40\" id=\"E13\" rx=\"10\" ry=\"10\" style=\"stroke: #383838; stroke-width: 1.5;\" width=\"50\" x=\"32\" y=\"85.5\"/><text fill=\"#000000\" font-family=\"sans-serif\" font-size=\"12\" lengthAdjust=\"spacingAndGlyphs\" textLength=\"22\" x=\"46\" y=\"101.6387\">y: B</text></a></g><!--MD5=[baf4a76bba098e960b6a9b52580afcbf]\n",
       "@startuml\r\n",
       "skinparam ranksep 10\r\n",
       "skinparam rectangle {\r\n",
       " backgroundColor<<block>> LightGreen\r\n",
       "}\r\n",
       "skinparam monochrome true\r\n",
       "skinparam classbackgroundcolor white\r\n",
       "skinparam shadowing false\r\n",
       "skinparam wrapWidth 300\r\n",
       "hide circle\r\n",
       "\r\n",
       "package \"CircularImport\" as E1  [[psysml:690cd2ec-4fe7-4d94-89bf-c3d63ed60cd3 ]]  {\r\n",
       "package \"P1\" as E2  [[psysml:54e3154d-4fa4-4c14-a367-edca149a76a1 ]]  {\r\n",
       "rec def \"A\" as E3  <<(T,blue)part def>> [[psysml:281245e6-0723-4878-ac57-c406fd778909 ]] {\r\n",
       "}\r\n",
       "}\r\n",
       "package \"P2\" as E4  [[psysml:581c4a9e-fb07-4d80-ac64-c8c7b70027d2 ]]  {\r\n",
       "rec def \"B\" as E5  <<(T,blue)part def>> [[psysml:57665928-471f-4095-91e2-d839a960cf78 ]] {\r\n",
       "}\r\n",
       "}\r\n",
       "package \"Test1\" as E6  [[psysml:6bb49afc-ac2c-47b7-b48e-5bd0a62b326b ]]  {\r\n",
       "rec usage \"x: A\" as E7  [[psysml:d6e39b1a-8a39-4c69-85ab-aa8551443e08 ]] {\r\n",
       "}\r\n",
       "rec usage \"y: B\" as E8  [[psysml:ead6e64d-b294-4a2d-a1d8-90d3751f1490 ]] {\r\n",
       "}\r\n",
       "}\r\n",
       "package \"Test2\" as E9  [[psysml:051bf7cb-81b8-4c37-8865-8bb7ea974985 ]]  {\r\n",
       "rec usage \"x: A\" as E10  [[psysml:f3cb1211-10b9-411e-bf19-d5722693e1fe ]] {\r\n",
       "}\r\n",
       "rec usage \"y: B\" as E11  [[psysml:9cdccab4-e502-4fbe-97eb-9b231d825ffa ]] {\r\n",
       "}\r\n",
       "}\r\n",
       "rec usage \"x: A\" as E12  [[psysml:87edab01-bf58-4e9e-abd1-c8b0194f7dca ]] {\r\n",
       "}\r\n",
       "rec usage \"y: B\" as E13  [[psysml:20c5387a-1627-4e14-8312-6f39b31ab3f7 ]] {\r\n",
       "}\r\n",
       "}\r\n",
       "@enduml\r\n",
       "\n",
       "PlantUML version 1.2020.13(Sat Jun 13 12:26:38 UTC 2020)\n",
       "(EPL source distribution)\n",
       "Java Runtime: OpenJDK Runtime Environment\n",
       "JVM: OpenJDK 64-Bit Server VM\n",
       "Default Encoding: UTF-8\n",
       "Language: en\n",
       "Country: null\n",
       "--></g></svg>"
      ]
     },
     "execution_count": 40,
     "metadata": {},
     "output_type": "execute_result"
    }
   ],
   "source": [
    "%viz --style=\"DEFAULT\" --view=\"Interconnection\" \"CircularImport\""
   ]
  },
  {
   "cell_type": "code",
   "execution_count": 41,
   "id": "55e8d04e",
   "metadata": {
    "execution": {
     "iopub.execute_input": "2021-04-20T06:57:54.921467Z",
     "iopub.status.busy": "2021-04-20T06:57:54.921056Z",
     "iopub.status.idle": "2021-04-20T06:57:54.926325Z",
     "shell.execute_reply": "2021-04-20T06:57:54.925969Z"
    }
   },
   "outputs": [
    {
     "data": {
      "image/svg+xml": [
       "<?xml version=\"1.0\" encoding=\"UTF-8\" standalone=\"no\"?><svg xmlns=\"http://www.w3.org/2000/svg\" xmlns:xlink=\"http://www.w3.org/1999/xlink\" contentScriptType=\"application/ecmascript\" contentStyleType=\"text/css\" height=\"12px\" preserveAspectRatio=\"none\" style=\"width:12px;height:12px;\" version=\"1.1\" viewBox=\"0 0 12 12\" width=\"12px\" zoomAndPan=\"magnify\"><defs/><g><!--MD5=[388f21188e31bfdd97050473b19af356]\n",
       "@startuml\r\n",
       "skinparam ranksep 8\r\n",
       "skinparam monochrome true\r\n",
       "skinparam classbackgroundcolor white\r\n",
       "skinparam shadowing false\r\n",
       "skinparam wrapWidth 300\r\n",
       "hide circle\r\n",
       "\r\n",
       "@enduml\r\n",
       "\n",
       "PlantUML version 1.2020.13(Sat Jun 13 12:26:38 UTC 2020)\n",
       "(EPL source distribution)\n",
       "Java Runtime: OpenJDK Runtime Environment\n",
       "JVM: OpenJDK 64-Bit Server VM\n",
       "Default Encoding: UTF-8\n",
       "Language: en\n",
       "Country: null\n",
       "--></g></svg>"
      ]
     },
     "execution_count": 41,
     "metadata": {},
     "output_type": "execute_result"
    }
   ],
   "source": [
    "%viz --style=\"DEFAULT\" --view=\"Action\" \"CircularImport\""
   ]
  },
  {
   "cell_type": "code",
   "execution_count": 42,
   "id": "2eef74d7",
   "metadata": {
    "execution": {
     "iopub.execute_input": "2021-04-20T06:57:54.977105Z",
     "iopub.status.busy": "2021-04-20T06:57:54.976700Z",
     "iopub.status.idle": "2021-04-20T06:57:55.011124Z",
     "shell.execute_reply": "2021-04-20T06:57:55.009657Z"
    }
   },
   "outputs": [
    {
     "data": {
      "image/svg+xml": [
       "<?xml version=\"1.0\" encoding=\"UTF-8\" standalone=\"no\"?><svg xmlns=\"http://www.w3.org/2000/svg\" xmlns:xlink=\"http://www.w3.org/1999/xlink\" contentScriptType=\"application/ecmascript\" contentStyleType=\"text/css\" height=\"303px\" preserveAspectRatio=\"none\" style=\"width:518px;height:303px;\" version=\"1.1\" viewBox=\"0 0 518 303\" width=\"518px\" zoomAndPan=\"magnify\"><defs/><g><!--MD5=[fbc87193dbaf4d95561dea2c320d4a47]\n",
       "cluster E1--><a href=\"psysml:690cd2ec-4fe7-4d94-89bf-c3d63ed60cd3\" target=\"_top\" title=\"psysml:690cd2ec-4fe7-4d94-89bf-c3d63ed60cd3\" xlink:actuate=\"onRequest\" xlink:href=\"psysml:690cd2ec-4fe7-4d94-89bf-c3d63ed60cd3\" xlink:show=\"new\" xlink:title=\"psysml:690cd2ec-4fe7-4d94-89bf-c3d63ed60cd3\" xlink:type=\"simple\"><polygon fill=\"#FFFFFF\" points=\"16,6,134,6,141,28.2969,496,28.2969,496,291,16,291,16,6\" style=\"stroke: #000000; stroke-width: 1.5;\"/><line style=\"stroke: #000000; stroke-width: 1.5;\" x1=\"16\" x2=\"141\" y1=\"28.2969\" y2=\"28.2969\"/><text fill=\"#000000\" font-family=\"sans-serif\" font-size=\"14\" font-weight=\"bold\" lengthAdjust=\"spacingAndGlyphs\" textLength=\"112\" x=\"20\" y=\"20.9951\">CircularImport</text></a><!--MD5=[e4f7fae6ed58524ba242bb0b0d3be6b7]\n",
       "cluster E2--><a href=\"psysml:54e3154d-4fa4-4c14-a367-edca149a76a1\" target=\"_top\" title=\"psysml:54e3154d-4fa4-4c14-a367-edca149a76a1\" xlink:actuate=\"onRequest\" xlink:href=\"psysml:54e3154d-4fa4-4c14-a367-edca149a76a1\" xlink:show=\"new\" xlink:title=\"psysml:54e3154d-4fa4-4c14-a367-edca149a76a1\" xlink:type=\"simple\"><polygon fill=\"#FFFFFF\" points=\"333,170,359,170,366,192.2969,431,192.2969,431,267,333,267,333,170\" style=\"stroke: #000000; stroke-width: 1.5;\"/><line style=\"stroke: #000000; stroke-width: 1.5;\" x1=\"333\" x2=\"366\" y1=\"192.2969\" y2=\"192.2969\"/><text fill=\"#000000\" font-family=\"sans-serif\" font-size=\"14\" font-weight=\"bold\" lengthAdjust=\"spacingAndGlyphs\" textLength=\"20\" x=\"337\" y=\"184.9951\">P1</text></a><!--MD5=[f6df4d0ebaf0b5dfb2ced0ae5af7c670]\n",
       "cluster E4--><a href=\"psysml:581c4a9e-fb07-4d80-ac64-c8c7b70027d2\" target=\"_top\" title=\"psysml:581c4a9e-fb07-4d80-ac64-c8c7b70027d2\" xlink:actuate=\"onRequest\" xlink:href=\"psysml:581c4a9e-fb07-4d80-ac64-c8c7b70027d2\" xlink:show=\"new\" xlink:title=\"psysml:581c4a9e-fb07-4d80-ac64-c8c7b70027d2\" xlink:type=\"simple\"><polygon fill=\"#FFFFFF\" points=\"81,170,107,170,114,192.2969,179,192.2969,179,267,81,267,81,170\" style=\"stroke: #000000; stroke-width: 1.5;\"/><line style=\"stroke: #000000; stroke-width: 1.5;\" x1=\"81\" x2=\"114\" y1=\"192.2969\" y2=\"192.2969\"/><text fill=\"#000000\" font-family=\"sans-serif\" font-size=\"14\" font-weight=\"bold\" lengthAdjust=\"spacingAndGlyphs\" textLength=\"20\" x=\"85\" y=\"184.9951\">P2</text></a><!--MD5=[14e3b0961a2654348d326746436168a1]\n",
       "cluster E6--><a href=\"psysml:6bb49afc-ac2c-47b7-b48e-5bd0a62b326b\" target=\"_top\" title=\"psysml:6bb49afc-ac2c-47b7-b48e-5bd0a62b326b\" xlink:actuate=\"onRequest\" xlink:href=\"psysml:6bb49afc-ac2c-47b7-b48e-5bd0a62b326b\" xlink:show=\"new\" xlink:title=\"psysml:6bb49afc-ac2c-47b7-b48e-5bd0a62b326b\" xlink:type=\"simple\"><polygon fill=\"#FFFFFF\" points=\"268,49,319,49,326,71.2969,419,71.2969,419,146,268,146,268,49\" style=\"stroke: #000000; stroke-width: 1.5;\"/><line style=\"stroke: #000000; stroke-width: 1.5;\" x1=\"268\" x2=\"326\" y1=\"71.2969\" y2=\"71.2969\"/><text fill=\"#000000\" font-family=\"sans-serif\" font-size=\"14\" font-weight=\"bold\" lengthAdjust=\"spacingAndGlyphs\" textLength=\"45\" x=\"272\" y=\"63.9951\">Test1</text></a><!--MD5=[7f149f147074ac12df2cb0a7728a5fb0]\n",
       "cluster E9--><a href=\"psysml:051bf7cb-81b8-4c37-8865-8bb7ea974985\" target=\"_top\" title=\"psysml:051bf7cb-81b8-4c37-8865-8bb7ea974985\" xlink:actuate=\"onRequest\" xlink:href=\"psysml:051bf7cb-81b8-4c37-8865-8bb7ea974985\" xlink:show=\"new\" xlink:title=\"psysml:051bf7cb-81b8-4c37-8865-8bb7ea974985\" xlink:type=\"simple\"><polygon fill=\"#FFFFFF\" points=\"93,49,144,49,151,71.2969,244,71.2969,244,146,93,146,93,49\" style=\"stroke: #000000; stroke-width: 1.5;\"/><line style=\"stroke: #000000; stroke-width: 1.5;\" x1=\"93\" x2=\"151\" y1=\"71.2969\" y2=\"71.2969\"/><text fill=\"#000000\" font-family=\"sans-serif\" font-size=\"14\" font-weight=\"bold\" lengthAdjust=\"spacingAndGlyphs\" textLength=\"45\" x=\"97\" y=\"63.9951\">Test2</text></a><!--MD5=[49a0ec8f00dab7302a31f22d0f0fe584]\n",
       "class E12--><a href=\"psysml:87edab01-bf58-4e9e-abd1-c8b0194f7dca\" target=\"_top\" title=\"psysml:87edab01-bf58-4e9e-abd1-c8b0194f7dca\" xlink:actuate=\"onRequest\" xlink:href=\"psysml:87edab01-bf58-4e9e-abd1-c8b0194f7dca\" xlink:show=\"new\" xlink:title=\"psysml:87edab01-bf58-4e9e-abd1-c8b0194f7dca\" xlink:type=\"simple\"><rect fill=\"#FFFFFF\" height=\"45.9375\" id=\"E12\" rx=\"10\" ry=\"10\" style=\"stroke: #383838; stroke-width: 1.5;\" width=\"42\" x=\"438\" y=\"84\"/><text fill=\"#000000\" font-family=\"sans-serif\" font-size=\"12\" font-style=\"italic\" lengthAdjust=\"spacingAndGlyphs\" textLength=\"40\" x=\"439\" y=\"100.1387\">«part»</text><text fill=\"#000000\" font-family=\"sans-serif\" font-size=\"12\" lengthAdjust=\"spacingAndGlyphs\" textLength=\"22\" x=\"448\" y=\"114.1074\">x: A</text><line style=\"stroke: #383838; stroke-width: 1.5;\" x1=\"439\" x2=\"479\" y1=\"121.9375\" y2=\"121.9375\"/></a><!--MD5=[ee3c913d1a06f366521f9ef512b67efe]\n",
       "class E13--><a href=\"psysml:20c5387a-1627-4e14-8312-6f39b31ab3f7\" target=\"_top\" title=\"psysml:20c5387a-1627-4e14-8312-6f39b31ab3f7\" xlink:actuate=\"onRequest\" xlink:href=\"psysml:20c5387a-1627-4e14-8312-6f39b31ab3f7\" xlink:show=\"new\" xlink:title=\"psysml:20c5387a-1627-4e14-8312-6f39b31ab3f7\" xlink:type=\"simple\"><rect fill=\"#FFFFFF\" height=\"45.9375\" id=\"E13\" rx=\"10\" ry=\"10\" style=\"stroke: #383838; stroke-width: 1.5;\" width=\"42\" x=\"32\" y=\"84\"/><text fill=\"#000000\" font-family=\"sans-serif\" font-size=\"12\" font-style=\"italic\" lengthAdjust=\"spacingAndGlyphs\" textLength=\"40\" x=\"33\" y=\"100.1387\">«part»</text><text fill=\"#000000\" font-family=\"sans-serif\" font-size=\"12\" lengthAdjust=\"spacingAndGlyphs\" textLength=\"22\" x=\"42\" y=\"114.1074\">y: B</text><line style=\"stroke: #383838; stroke-width: 1.5;\" x1=\"33\" x2=\"73\" y1=\"121.9375\" y2=\"121.9375\"/></a><!--MD5=[09b614a08d8cba4a07c9adeb5e0fee81]\n",
       "class E3--><a href=\"psysml:281245e6-0723-4878-ac57-c406fd778909\" target=\"_top\" title=\"psysml:281245e6-0723-4878-ac57-c406fd778909\" xlink:actuate=\"onRequest\" xlink:href=\"psysml:281245e6-0723-4878-ac57-c406fd778909\" xlink:show=\"new\" xlink:title=\"psysml:281245e6-0723-4878-ac57-c406fd778909\" xlink:type=\"simple\"><rect fill=\"#FFFFFF\" height=\"45.9375\" id=\"E3\" style=\"stroke: #383838; stroke-width: 1.5;\" width=\"66\" x=\"349\" y=\"205\"/><text fill=\"#000000\" font-family=\"sans-serif\" font-size=\"12\" font-style=\"italic\" lengthAdjust=\"spacingAndGlyphs\" textLength=\"64\" x=\"350\" y=\"221.1387\">«part def»</text><text fill=\"#000000\" font-family=\"sans-serif\" font-size=\"12\" lengthAdjust=\"spacingAndGlyphs\" textLength=\"8\" x=\"378\" y=\"235.1074\">A</text><line style=\"stroke: #383838; stroke-width: 1.5;\" x1=\"350\" x2=\"414\" y1=\"242.9375\" y2=\"242.9375\"/></a><!--MD5=[270fce915f116d4de14055a7c1d9a0f3]\n",
       "class E5--><a href=\"psysml:57665928-471f-4095-91e2-d839a960cf78\" target=\"_top\" title=\"psysml:57665928-471f-4095-91e2-d839a960cf78\" xlink:actuate=\"onRequest\" xlink:href=\"psysml:57665928-471f-4095-91e2-d839a960cf78\" xlink:show=\"new\" xlink:title=\"psysml:57665928-471f-4095-91e2-d839a960cf78\" xlink:type=\"simple\"><rect fill=\"#FFFFFF\" height=\"45.9375\" id=\"E5\" style=\"stroke: #383838; stroke-width: 1.5;\" width=\"66\" x=\"97\" y=\"205\"/><text fill=\"#000000\" font-family=\"sans-serif\" font-size=\"12\" font-style=\"italic\" lengthAdjust=\"spacingAndGlyphs\" textLength=\"64\" x=\"98\" y=\"221.1387\">«part def»</text><text fill=\"#000000\" font-family=\"sans-serif\" font-size=\"12\" lengthAdjust=\"spacingAndGlyphs\" textLength=\"8\" x=\"126\" y=\"235.1074\">B</text><line style=\"stroke: #383838; stroke-width: 1.5;\" x1=\"98\" x2=\"162\" y1=\"242.9375\" y2=\"242.9375\"/></a><!--MD5=[2156ba9850f5573cc1fc38a6a4b2f02b]\n",
       "class E7--><a href=\"psysml:d6e39b1a-8a39-4c69-85ab-aa8551443e08\" target=\"_top\" title=\"psysml:d6e39b1a-8a39-4c69-85ab-aa8551443e08\" xlink:actuate=\"onRequest\" xlink:href=\"psysml:d6e39b1a-8a39-4c69-85ab-aa8551443e08\" xlink:show=\"new\" xlink:title=\"psysml:d6e39b1a-8a39-4c69-85ab-aa8551443e08\" xlink:type=\"simple\"><rect fill=\"#FFFFFF\" height=\"45.9375\" id=\"E7\" rx=\"10\" ry=\"10\" style=\"stroke: #383838; stroke-width: 1.5;\" width=\"42\" x=\"361\" y=\"84\"/><text fill=\"#000000\" font-family=\"sans-serif\" font-size=\"12\" font-style=\"italic\" lengthAdjust=\"spacingAndGlyphs\" textLength=\"40\" x=\"362\" y=\"100.1387\">«part»</text><text fill=\"#000000\" font-family=\"sans-serif\" font-size=\"12\" lengthAdjust=\"spacingAndGlyphs\" textLength=\"22\" x=\"371\" y=\"114.1074\">x: A</text><line style=\"stroke: #383838; stroke-width: 1.5;\" x1=\"362\" x2=\"402\" y1=\"121.9375\" y2=\"121.9375\"/></a><!--MD5=[b9389687b975829384b498ac4b7476b2]\n",
       "class E8--><a href=\"psysml:ead6e64d-b294-4a2d-a1d8-90d3751f1490\" target=\"_top\" title=\"psysml:ead6e64d-b294-4a2d-a1d8-90d3751f1490\" xlink:actuate=\"onRequest\" xlink:href=\"psysml:ead6e64d-b294-4a2d-a1d8-90d3751f1490\" xlink:show=\"new\" xlink:title=\"psysml:ead6e64d-b294-4a2d-a1d8-90d3751f1490\" xlink:type=\"simple\"><rect fill=\"#FFFFFF\" height=\"45.9375\" id=\"E8\" rx=\"10\" ry=\"10\" style=\"stroke: #383838; stroke-width: 1.5;\" width=\"42\" x=\"284\" y=\"84\"/><text fill=\"#000000\" font-family=\"sans-serif\" font-size=\"12\" font-style=\"italic\" lengthAdjust=\"spacingAndGlyphs\" textLength=\"40\" x=\"285\" y=\"100.1387\">«part»</text><text fill=\"#000000\" font-family=\"sans-serif\" font-size=\"12\" lengthAdjust=\"spacingAndGlyphs\" textLength=\"22\" x=\"294\" y=\"114.1074\">y: B</text><line style=\"stroke: #383838; stroke-width: 1.5;\" x1=\"285\" x2=\"325\" y1=\"121.9375\" y2=\"121.9375\"/></a><!--MD5=[96f4274e9e20536e775497830990834d]\n",
       "class E10--><a href=\"psysml:f3cb1211-10b9-411e-bf19-d5722693e1fe\" target=\"_top\" title=\"psysml:f3cb1211-10b9-411e-bf19-d5722693e1fe\" xlink:actuate=\"onRequest\" xlink:href=\"psysml:f3cb1211-10b9-411e-bf19-d5722693e1fe\" xlink:show=\"new\" xlink:title=\"psysml:f3cb1211-10b9-411e-bf19-d5722693e1fe\" xlink:type=\"simple\"><rect fill=\"#FFFFFF\" height=\"45.9375\" id=\"E10\" rx=\"10\" ry=\"10\" style=\"stroke: #383838; stroke-width: 1.5;\" width=\"42\" x=\"186\" y=\"84\"/><text fill=\"#000000\" font-family=\"sans-serif\" font-size=\"12\" font-style=\"italic\" lengthAdjust=\"spacingAndGlyphs\" textLength=\"40\" x=\"187\" y=\"100.1387\">«part»</text><text fill=\"#000000\" font-family=\"sans-serif\" font-size=\"12\" lengthAdjust=\"spacingAndGlyphs\" textLength=\"22\" x=\"196\" y=\"114.1074\">x: A</text><line style=\"stroke: #383838; stroke-width: 1.5;\" x1=\"187\" x2=\"227\" y1=\"121.9375\" y2=\"121.9375\"/></a><!--MD5=[1dd1bfd58a279cf63c5f349dbc8fc6a1]\n",
       "class E11--><a href=\"psysml:9cdccab4-e502-4fbe-97eb-9b231d825ffa\" target=\"_top\" title=\"psysml:9cdccab4-e502-4fbe-97eb-9b231d825ffa\" xlink:actuate=\"onRequest\" xlink:href=\"psysml:9cdccab4-e502-4fbe-97eb-9b231d825ffa\" xlink:show=\"new\" xlink:title=\"psysml:9cdccab4-e502-4fbe-97eb-9b231d825ffa\" xlink:type=\"simple\"><rect fill=\"#FFFFFF\" height=\"45.9375\" id=\"E11\" rx=\"10\" ry=\"10\" style=\"stroke: #383838; stroke-width: 1.5;\" width=\"42\" x=\"109\" y=\"84\"/><text fill=\"#000000\" font-family=\"sans-serif\" font-size=\"12\" font-style=\"italic\" lengthAdjust=\"spacingAndGlyphs\" textLength=\"40\" x=\"110\" y=\"100.1387\">«part»</text><text fill=\"#000000\" font-family=\"sans-serif\" font-size=\"12\" lengthAdjust=\"spacingAndGlyphs\" textLength=\"22\" x=\"119\" y=\"114.1074\">y: B</text><line style=\"stroke: #383838; stroke-width: 1.5;\" x1=\"110\" x2=\"150\" y1=\"121.9375\" y2=\"121.9375\"/></a><!--MD5=[14ccda38c055a5c0da953d572bc50960]\n",
       "link E7 to E3--><a href=\"psysml:84278f38-d400-4655-8657-76a37dd9bb09\" target=\"_top\" title=\"psysml:84278f38-d400-4655-8657-76a37dd9bb09\" xlink:actuate=\"onRequest\" xlink:href=\"psysml:84278f38-d400-4655-8657-76a37dd9bb09\" xlink:show=\"new\" xlink:title=\"psysml:84278f38-d400-4655-8657-76a37dd9bb09\" xlink:type=\"simple\"><path d=\"M382,130.1 C382,145.37 382,166.16 382,184.57 \" fill=\"none\" id=\"E7-&gt;E3\" style=\"stroke: #383838; stroke-width: 1.0;\"/><polygon fill=\"#FFFFFF\" points=\"382,204.61,375,185.61,389,185.61,382,204.61\" style=\"stroke: #383838; stroke-width: 1.0;\"/><ellipse cx=\"377\" cy=\"179.91\" fill=\"#383838\" rx=\"2\" ry=\"2\" style=\"stroke: #383838; stroke-width: 1.0;\"/><ellipse cx=\"387\" cy=\"179.91\" fill=\"#383838\" rx=\"2\" ry=\"2\" style=\"stroke: #383838; stroke-width: 1.0;\"/></a><!--MD5=[1ccb2481ffa92f8d51a74ee30c51832a]\n",
       "link E8 to E5--><a href=\"psysml:9a62fcce-aa5a-49d2-8cac-0b2f538e5bd0\" target=\"_top\" title=\"psysml:9a62fcce-aa5a-49d2-8cac-0b2f538e5bd0\" xlink:actuate=\"onRequest\" xlink:href=\"psysml:9a62fcce-aa5a-49d2-8cac-0b2f538e5bd0\" xlink:show=\"new\" xlink:title=\"psysml:9a62fcce-aa5a-49d2-8cac-0b2f538e5bd0\" xlink:type=\"simple\"><path d=\"M283.84,124.59 C272.23,133.52 257.5,144.61 244,154 C223.51,168.25 200.41,183.24 180.38,195.91 \" fill=\"none\" id=\"E8-&gt;E5\" style=\"stroke: #383838; stroke-width: 1.0;\"/><polygon fill=\"#FFFFFF\" points=\"163.36,206.57,175.7353,190.5434,183.175,202.403,163.36,206.57\" style=\"stroke: #383838; stroke-width: 1.0;\"/><ellipse cx=\"181.6267\" cy=\"189.2086\" fill=\"#383838\" rx=\"2\" ry=\"2\" style=\"stroke: #383838; stroke-width: 1.0;\"/><ellipse cx=\"186.9408\" cy=\"197.6797\" fill=\"#383838\" rx=\"2\" ry=\"2\" style=\"stroke: #383838; stroke-width: 1.0;\"/></a><!--MD5=[feeac5eb423634930294aa81f2d25a4c]\n",
       "link E10 to E3--><a href=\"psysml:bd7260c7-b55a-4391-86f8-9493bae3bcdc\" target=\"_top\" title=\"psysml:bd7260c7-b55a-4391-86f8-9493bae3bcdc\" xlink:actuate=\"onRequest\" xlink:href=\"psysml:bd7260c7-b55a-4391-86f8-9493bae3bcdc\" xlink:show=\"new\" xlink:title=\"psysml:bd7260c7-b55a-4391-86f8-9493bae3bcdc\" xlink:type=\"simple\"><path d=\"M228.16,124.59 C239.77,133.52 254.5,144.61 268,154 C288.49,168.25 311.59,183.24 331.62,195.91 \" fill=\"none\" id=\"E10-&gt;E3\" style=\"stroke: #383838; stroke-width: 1.0;\"/><polygon fill=\"#FFFFFF\" points=\"348.64,206.57,328.825,202.403,336.2647,190.5434,348.64,206.57\" style=\"stroke: #383838; stroke-width: 1.0;\"/><ellipse cx=\"325.0592\" cy=\"197.6797\" fill=\"#383838\" rx=\"2\" ry=\"2\" style=\"stroke: #383838; stroke-width: 1.0;\"/><ellipse cx=\"330.3733\" cy=\"189.2086\" fill=\"#383838\" rx=\"2\" ry=\"2\" style=\"stroke: #383838; stroke-width: 1.0;\"/></a><!--MD5=[07b77f6f309248d16187045709d1c26e]\n",
       "link E11 to E5--><a href=\"psysml:099d00ce-a154-42ce-865e-6b31b35a0829\" target=\"_top\" title=\"psysml:099d00ce-a154-42ce-865e-6b31b35a0829\" xlink:actuate=\"onRequest\" xlink:href=\"psysml:099d00ce-a154-42ce-865e-6b31b35a0829\" xlink:show=\"new\" xlink:title=\"psysml:099d00ce-a154-42ce-865e-6b31b35a0829\" xlink:type=\"simple\"><path d=\"M130,130.1 C130,145.37 130,166.16 130,184.57 \" fill=\"none\" id=\"E11-&gt;E5\" style=\"stroke: #383838; stroke-width: 1.0;\"/><polygon fill=\"#FFFFFF\" points=\"130,204.61,123,185.61,137,185.61,130,204.61\" style=\"stroke: #383838; stroke-width: 1.0;\"/><ellipse cx=\"125\" cy=\"179.91\" fill=\"#383838\" rx=\"2\" ry=\"2\" style=\"stroke: #383838; stroke-width: 1.0;\"/><ellipse cx=\"135\" cy=\"179.91\" fill=\"#383838\" rx=\"2\" ry=\"2\" style=\"stroke: #383838; stroke-width: 1.0;\"/></a><!--MD5=[39f41a0e550fb3d73b4d8135617e30a2]\n",
       "link E12 to E3--><a href=\"psysml:2e0d72ae-9b36-4ac2-af7e-1d21d87eecf3\" target=\"_top\" title=\"psysml:2e0d72ae-9b36-4ac2-af7e-1d21d87eecf3\" xlink:actuate=\"onRequest\" xlink:href=\"psysml:2e0d72ae-9b36-4ac2-af7e-1d21d87eecf3\" xlink:show=\"new\" xlink:title=\"psysml:2e0d72ae-9b36-4ac2-af7e-1d21d87eecf3\" xlink:type=\"simple\"><path d=\"M444.7,130.1 C434.28,146.2 419.89,168.44 407.53,187.55 \" fill=\"none\" id=\"E12-&gt;E3\" style=\"stroke: #383838; stroke-width: 1.0;\"/><polygon fill=\"#FFFFFF\" points=\"396.49,204.61,400.9313,184.8546,412.6866,192.4581,396.49,204.61\" style=\"stroke: #383838; stroke-width: 1.0;\"/><ellipse cx=\"405.7063\" cy=\"181.1547\" fill=\"#383838\" rx=\"2\" ry=\"2\" style=\"stroke: #383838; stroke-width: 1.0;\"/><ellipse cx=\"414.103\" cy=\"186.5858\" fill=\"#383838\" rx=\"2\" ry=\"2\" style=\"stroke: #383838; stroke-width: 1.0;\"/></a><!--MD5=[066b2d8af59fea80ccdb3d54ad5c1091]\n",
       "link E13 to E5--><a href=\"psysml:28c76814-e954-4c97-b716-40e2f6813c6b\" target=\"_top\" title=\"psysml:28c76814-e954-4c97-b716-40e2f6813c6b\" xlink:actuate=\"onRequest\" xlink:href=\"psysml:28c76814-e954-4c97-b716-40e2f6813c6b\" xlink:show=\"new\" xlink:title=\"psysml:28c76814-e954-4c97-b716-40e2f6813c6b\" xlink:type=\"simple\"><path d=\"M67.3,130.1 C77.72,146.2 92.11,168.44 104.47,187.55 \" fill=\"none\" id=\"E13-&gt;E5\" style=\"stroke: #383838; stroke-width: 1.0;\"/><polygon fill=\"#FFFFFF\" points=\"115.51,204.61,99.3134,192.4581,111.0687,184.8546,115.51,204.61\" style=\"stroke: #383838; stroke-width: 1.0;\"/><ellipse cx=\"97.897\" cy=\"186.5858\" fill=\"#383838\" rx=\"2\" ry=\"2\" style=\"stroke: #383838; stroke-width: 1.0;\"/><ellipse cx=\"106.2937\" cy=\"181.1547\" fill=\"#383838\" rx=\"2\" ry=\"2\" style=\"stroke: #383838; stroke-width: 1.0;\"/></a><!--MD5=[69daa8c5a66ce47ff930034d9d86ce0d]\n",
       "@startuml\r\n",
       "skinparam monochrome true\r\n",
       "skinparam classbackgroundcolor white\r\n",
       "skinparam shadowing false\r\n",
       "skinparam wrapWidth 300\r\n",
       "hide circle\r\n",
       "\r\n",
       "package \"CircularImport\" as E1  [[psysml:690cd2ec-4fe7-4d94-89bf-c3d63ed60cd3 ]]  {\r\n",
       "package \"P1\" as E2  [[psysml:54e3154d-4fa4-4c14-a367-edca149a76a1 ]]  {\r\n",
       "comp def \"A\" as E3  <<(T,blue)part def>> [[psysml:281245e6-0723-4878-ac57-c406fd778909 ]] {\r\n",
       "}\r\n",
       "}\r\n",
       "package \"P2\" as E4  [[psysml:581c4a9e-fb07-4d80-ac64-c8c7b70027d2 ]]  {\r\n",
       "comp def \"B\" as E5  <<(T,blue)part def>> [[psysml:57665928-471f-4095-91e2-d839a960cf78 ]] {\r\n",
       "}\r\n",
       "}\r\n",
       "package \"Test1\" as E6  [[psysml:6bb49afc-ac2c-47b7-b48e-5bd0a62b326b ]]  {\r\n",
       "comp usage \"x: A\" as E7  <<(T,blue)part>> [[psysml:d6e39b1a-8a39-4c69-85ab-aa8551443e08 ]] {\r\n",
       "}\r\n",
       "comp usage \"y: B\" as E8  <<(T,blue)part>> [[psysml:ead6e64d-b294-4a2d-a1d8-90d3751f1490 ]] {\r\n",
       "}\r\n",
       "E7 - -:|> E3 [[psysml:84278f38-d400-4655-8657-76a37dd9bb09 ]] \r\n",
       "E8 - -:|> E5 [[psysml:9a62fcce-aa5a-49d2-8cac-0b2f538e5bd0 ]] \r\n",
       "}\r\n",
       "package \"Test2\" as E9  [[psysml:051bf7cb-81b8-4c37-8865-8bb7ea974985 ]]  {\r\n",
       "comp usage \"x: A\" as E10  <<(T,blue)part>> [[psysml:f3cb1211-10b9-411e-bf19-d5722693e1fe ]] {\r\n",
       "}\r\n",
       "comp usage \"y: B\" as E11  <<(T,blue)part>> [[psysml:9cdccab4-e502-4fbe-97eb-9b231d825ffa ]] {\r\n",
       "}\r\n",
       "E10 - -:|> E3 [[psysml:bd7260c7-b55a-4391-86f8-9493bae3bcdc ]] \r\n",
       "E11 - -:|> E5 [[psysml:099d00ce-a154-42ce-865e-6b31b35a0829 ]] \r\n",
       "}\r\n",
       "comp usage \"x: A\" as E12  <<(T,blue)part>> [[psysml:87edab01-bf58-4e9e-abd1-c8b0194f7dca ]] {\r\n",
       "}\r\n",
       "comp usage \"y: B\" as E13  <<(T,blue)part>> [[psysml:20c5387a-1627-4e14-8312-6f39b31ab3f7 ]] {\r\n",
       "}\r\n",
       "E12 - -:|> E3 [[psysml:2e0d72ae-9b36-4ac2-af7e-1d21d87eecf3 ]] \r\n",
       "E13 - -:|> E5 [[psysml:28c76814-e954-4c97-b716-40e2f6813c6b ]] \r\n",
       "}\r\n",
       "@enduml\r\n",
       "\n",
       "PlantUML version 1.2020.13(Sat Jun 13 12:26:38 UTC 2020)\n",
       "(EPL source distribution)\n",
       "Java Runtime: OpenJDK Runtime Environment\n",
       "JVM: OpenJDK 64-Bit Server VM\n",
       "Default Encoding: UTF-8\n",
       "Language: en\n",
       "Country: null\n",
       "--></g></svg>"
      ]
     },
     "execution_count": 42,
     "metadata": {},
     "output_type": "execute_result"
    }
   ],
   "source": [
    "%viz --style=\"DEFAULT\" --view=\"Sequence\" \"CircularImport\""
   ]
  },
  {
   "cell_type": "code",
   "execution_count": 43,
   "id": "653f9896",
   "metadata": {
    "execution": {
     "iopub.execute_input": "2021-04-20T06:57:55.060116Z",
     "iopub.status.busy": "2021-04-20T06:57:55.059376Z",
     "iopub.status.idle": "2021-04-20T06:57:55.097649Z",
     "shell.execute_reply": "2021-04-20T06:57:55.094899Z"
    }
   },
   "outputs": [
    {
     "data": {
      "image/svg+xml": [
       "<?xml version=\"1.0\" encoding=\"UTF-8\" standalone=\"no\"?><svg xmlns=\"http://www.w3.org/2000/svg\" xmlns:xlink=\"http://www.w3.org/1999/xlink\" contentScriptType=\"application/ecmascript\" contentStyleType=\"text/css\" height=\"303px\" preserveAspectRatio=\"none\" style=\"width:518px;height:303px;\" version=\"1.1\" viewBox=\"0 0 518 303\" width=\"518px\" zoomAndPan=\"magnify\"><defs/><g><!--MD5=[fbc87193dbaf4d95561dea2c320d4a47]\n",
       "cluster E1--><a href=\"psysml:690cd2ec-4fe7-4d94-89bf-c3d63ed60cd3\" target=\"_top\" title=\"psysml:690cd2ec-4fe7-4d94-89bf-c3d63ed60cd3\" xlink:actuate=\"onRequest\" xlink:href=\"psysml:690cd2ec-4fe7-4d94-89bf-c3d63ed60cd3\" xlink:show=\"new\" xlink:title=\"psysml:690cd2ec-4fe7-4d94-89bf-c3d63ed60cd3\" xlink:type=\"simple\"><polygon fill=\"#FFFFFF\" points=\"16,6,134,6,141,28.2969,496,28.2969,496,291,16,291,16,6\" style=\"stroke: #000000; stroke-width: 1.5;\"/><line style=\"stroke: #000000; stroke-width: 1.5;\" x1=\"16\" x2=\"141\" y1=\"28.2969\" y2=\"28.2969\"/><text fill=\"#000000\" font-family=\"sans-serif\" font-size=\"14\" font-weight=\"bold\" lengthAdjust=\"spacingAndGlyphs\" textLength=\"112\" x=\"20\" y=\"20.9951\">CircularImport</text></a><!--MD5=[e4f7fae6ed58524ba242bb0b0d3be6b7]\n",
       "cluster E2--><a href=\"psysml:54e3154d-4fa4-4c14-a367-edca149a76a1\" target=\"_top\" title=\"psysml:54e3154d-4fa4-4c14-a367-edca149a76a1\" xlink:actuate=\"onRequest\" xlink:href=\"psysml:54e3154d-4fa4-4c14-a367-edca149a76a1\" xlink:show=\"new\" xlink:title=\"psysml:54e3154d-4fa4-4c14-a367-edca149a76a1\" xlink:type=\"simple\"><polygon fill=\"#FFFFFF\" points=\"333,170,359,170,366,192.2969,431,192.2969,431,267,333,267,333,170\" style=\"stroke: #000000; stroke-width: 1.5;\"/><line style=\"stroke: #000000; stroke-width: 1.5;\" x1=\"333\" x2=\"366\" y1=\"192.2969\" y2=\"192.2969\"/><text fill=\"#000000\" font-family=\"sans-serif\" font-size=\"14\" font-weight=\"bold\" lengthAdjust=\"spacingAndGlyphs\" textLength=\"20\" x=\"337\" y=\"184.9951\">P1</text></a><!--MD5=[f6df4d0ebaf0b5dfb2ced0ae5af7c670]\n",
       "cluster E4--><a href=\"psysml:581c4a9e-fb07-4d80-ac64-c8c7b70027d2\" target=\"_top\" title=\"psysml:581c4a9e-fb07-4d80-ac64-c8c7b70027d2\" xlink:actuate=\"onRequest\" xlink:href=\"psysml:581c4a9e-fb07-4d80-ac64-c8c7b70027d2\" xlink:show=\"new\" xlink:title=\"psysml:581c4a9e-fb07-4d80-ac64-c8c7b70027d2\" xlink:type=\"simple\"><polygon fill=\"#FFFFFF\" points=\"81,170,107,170,114,192.2969,179,192.2969,179,267,81,267,81,170\" style=\"stroke: #000000; stroke-width: 1.5;\"/><line style=\"stroke: #000000; stroke-width: 1.5;\" x1=\"81\" x2=\"114\" y1=\"192.2969\" y2=\"192.2969\"/><text fill=\"#000000\" font-family=\"sans-serif\" font-size=\"14\" font-weight=\"bold\" lengthAdjust=\"spacingAndGlyphs\" textLength=\"20\" x=\"85\" y=\"184.9951\">P2</text></a><!--MD5=[14e3b0961a2654348d326746436168a1]\n",
       "cluster E6--><a href=\"psysml:6bb49afc-ac2c-47b7-b48e-5bd0a62b326b\" target=\"_top\" title=\"psysml:6bb49afc-ac2c-47b7-b48e-5bd0a62b326b\" xlink:actuate=\"onRequest\" xlink:href=\"psysml:6bb49afc-ac2c-47b7-b48e-5bd0a62b326b\" xlink:show=\"new\" xlink:title=\"psysml:6bb49afc-ac2c-47b7-b48e-5bd0a62b326b\" xlink:type=\"simple\"><polygon fill=\"#FFFFFF\" points=\"268,49,319,49,326,71.2969,419,71.2969,419,146,268,146,268,49\" style=\"stroke: #000000; stroke-width: 1.5;\"/><line style=\"stroke: #000000; stroke-width: 1.5;\" x1=\"268\" x2=\"326\" y1=\"71.2969\" y2=\"71.2969\"/><text fill=\"#000000\" font-family=\"sans-serif\" font-size=\"14\" font-weight=\"bold\" lengthAdjust=\"spacingAndGlyphs\" textLength=\"45\" x=\"272\" y=\"63.9951\">Test1</text></a><!--MD5=[7f149f147074ac12df2cb0a7728a5fb0]\n",
       "cluster E9--><a href=\"psysml:051bf7cb-81b8-4c37-8865-8bb7ea974985\" target=\"_top\" title=\"psysml:051bf7cb-81b8-4c37-8865-8bb7ea974985\" xlink:actuate=\"onRequest\" xlink:href=\"psysml:051bf7cb-81b8-4c37-8865-8bb7ea974985\" xlink:show=\"new\" xlink:title=\"psysml:051bf7cb-81b8-4c37-8865-8bb7ea974985\" xlink:type=\"simple\"><polygon fill=\"#FFFFFF\" points=\"93,49,144,49,151,71.2969,244,71.2969,244,146,93,146,93,49\" style=\"stroke: #000000; stroke-width: 1.5;\"/><line style=\"stroke: #000000; stroke-width: 1.5;\" x1=\"93\" x2=\"151\" y1=\"71.2969\" y2=\"71.2969\"/><text fill=\"#000000\" font-family=\"sans-serif\" font-size=\"14\" font-weight=\"bold\" lengthAdjust=\"spacingAndGlyphs\" textLength=\"45\" x=\"97\" y=\"63.9951\">Test2</text></a><!--MD5=[49a0ec8f00dab7302a31f22d0f0fe584]\n",
       "class E12--><a href=\"psysml:87edab01-bf58-4e9e-abd1-c8b0194f7dca\" target=\"_top\" title=\"psysml:87edab01-bf58-4e9e-abd1-c8b0194f7dca\" xlink:actuate=\"onRequest\" xlink:href=\"psysml:87edab01-bf58-4e9e-abd1-c8b0194f7dca\" xlink:show=\"new\" xlink:title=\"psysml:87edab01-bf58-4e9e-abd1-c8b0194f7dca\" xlink:type=\"simple\"><rect fill=\"#FFFFFF\" height=\"45.9375\" id=\"E12\" rx=\"10\" ry=\"10\" style=\"stroke: #383838; stroke-width: 1.5;\" width=\"42\" x=\"438\" y=\"84\"/><text fill=\"#000000\" font-family=\"sans-serif\" font-size=\"12\" font-style=\"italic\" lengthAdjust=\"spacingAndGlyphs\" textLength=\"40\" x=\"439\" y=\"100.1387\">«part»</text><text fill=\"#000000\" font-family=\"sans-serif\" font-size=\"12\" lengthAdjust=\"spacingAndGlyphs\" textLength=\"22\" x=\"448\" y=\"114.1074\">x: A</text><line style=\"stroke: #383838; stroke-width: 1.5;\" x1=\"439\" x2=\"479\" y1=\"121.9375\" y2=\"121.9375\"/></a><!--MD5=[ee3c913d1a06f366521f9ef512b67efe]\n",
       "class E13--><a href=\"psysml:20c5387a-1627-4e14-8312-6f39b31ab3f7\" target=\"_top\" title=\"psysml:20c5387a-1627-4e14-8312-6f39b31ab3f7\" xlink:actuate=\"onRequest\" xlink:href=\"psysml:20c5387a-1627-4e14-8312-6f39b31ab3f7\" xlink:show=\"new\" xlink:title=\"psysml:20c5387a-1627-4e14-8312-6f39b31ab3f7\" xlink:type=\"simple\"><rect fill=\"#FFFFFF\" height=\"45.9375\" id=\"E13\" rx=\"10\" ry=\"10\" style=\"stroke: #383838; stroke-width: 1.5;\" width=\"42\" x=\"32\" y=\"84\"/><text fill=\"#000000\" font-family=\"sans-serif\" font-size=\"12\" font-style=\"italic\" lengthAdjust=\"spacingAndGlyphs\" textLength=\"40\" x=\"33\" y=\"100.1387\">«part»</text><text fill=\"#000000\" font-family=\"sans-serif\" font-size=\"12\" lengthAdjust=\"spacingAndGlyphs\" textLength=\"22\" x=\"42\" y=\"114.1074\">y: B</text><line style=\"stroke: #383838; stroke-width: 1.5;\" x1=\"33\" x2=\"73\" y1=\"121.9375\" y2=\"121.9375\"/></a><!--MD5=[09b614a08d8cba4a07c9adeb5e0fee81]\n",
       "class E3--><a href=\"psysml:281245e6-0723-4878-ac57-c406fd778909\" target=\"_top\" title=\"psysml:281245e6-0723-4878-ac57-c406fd778909\" xlink:actuate=\"onRequest\" xlink:href=\"psysml:281245e6-0723-4878-ac57-c406fd778909\" xlink:show=\"new\" xlink:title=\"psysml:281245e6-0723-4878-ac57-c406fd778909\" xlink:type=\"simple\"><rect fill=\"#FFFFFF\" height=\"45.9375\" id=\"E3\" style=\"stroke: #383838; stroke-width: 1.5;\" width=\"66\" x=\"349\" y=\"205\"/><text fill=\"#000000\" font-family=\"sans-serif\" font-size=\"12\" font-style=\"italic\" lengthAdjust=\"spacingAndGlyphs\" textLength=\"64\" x=\"350\" y=\"221.1387\">«part def»</text><text fill=\"#000000\" font-family=\"sans-serif\" font-size=\"12\" lengthAdjust=\"spacingAndGlyphs\" textLength=\"8\" x=\"378\" y=\"235.1074\">A</text><line style=\"stroke: #383838; stroke-width: 1.5;\" x1=\"350\" x2=\"414\" y1=\"242.9375\" y2=\"242.9375\"/></a><!--MD5=[270fce915f116d4de14055a7c1d9a0f3]\n",
       "class E5--><a href=\"psysml:57665928-471f-4095-91e2-d839a960cf78\" target=\"_top\" title=\"psysml:57665928-471f-4095-91e2-d839a960cf78\" xlink:actuate=\"onRequest\" xlink:href=\"psysml:57665928-471f-4095-91e2-d839a960cf78\" xlink:show=\"new\" xlink:title=\"psysml:57665928-471f-4095-91e2-d839a960cf78\" xlink:type=\"simple\"><rect fill=\"#FFFFFF\" height=\"45.9375\" id=\"E5\" style=\"stroke: #383838; stroke-width: 1.5;\" width=\"66\" x=\"97\" y=\"205\"/><text fill=\"#000000\" font-family=\"sans-serif\" font-size=\"12\" font-style=\"italic\" lengthAdjust=\"spacingAndGlyphs\" textLength=\"64\" x=\"98\" y=\"221.1387\">«part def»</text><text fill=\"#000000\" font-family=\"sans-serif\" font-size=\"12\" lengthAdjust=\"spacingAndGlyphs\" textLength=\"8\" x=\"126\" y=\"235.1074\">B</text><line style=\"stroke: #383838; stroke-width: 1.5;\" x1=\"98\" x2=\"162\" y1=\"242.9375\" y2=\"242.9375\"/></a><!--MD5=[2156ba9850f5573cc1fc38a6a4b2f02b]\n",
       "class E7--><a href=\"psysml:d6e39b1a-8a39-4c69-85ab-aa8551443e08\" target=\"_top\" title=\"psysml:d6e39b1a-8a39-4c69-85ab-aa8551443e08\" xlink:actuate=\"onRequest\" xlink:href=\"psysml:d6e39b1a-8a39-4c69-85ab-aa8551443e08\" xlink:show=\"new\" xlink:title=\"psysml:d6e39b1a-8a39-4c69-85ab-aa8551443e08\" xlink:type=\"simple\"><rect fill=\"#FFFFFF\" height=\"45.9375\" id=\"E7\" rx=\"10\" ry=\"10\" style=\"stroke: #383838; stroke-width: 1.5;\" width=\"42\" x=\"361\" y=\"84\"/><text fill=\"#000000\" font-family=\"sans-serif\" font-size=\"12\" font-style=\"italic\" lengthAdjust=\"spacingAndGlyphs\" textLength=\"40\" x=\"362\" y=\"100.1387\">«part»</text><text fill=\"#000000\" font-family=\"sans-serif\" font-size=\"12\" lengthAdjust=\"spacingAndGlyphs\" textLength=\"22\" x=\"371\" y=\"114.1074\">x: A</text><line style=\"stroke: #383838; stroke-width: 1.5;\" x1=\"362\" x2=\"402\" y1=\"121.9375\" y2=\"121.9375\"/></a><!--MD5=[b9389687b975829384b498ac4b7476b2]\n",
       "class E8--><a href=\"psysml:ead6e64d-b294-4a2d-a1d8-90d3751f1490\" target=\"_top\" title=\"psysml:ead6e64d-b294-4a2d-a1d8-90d3751f1490\" xlink:actuate=\"onRequest\" xlink:href=\"psysml:ead6e64d-b294-4a2d-a1d8-90d3751f1490\" xlink:show=\"new\" xlink:title=\"psysml:ead6e64d-b294-4a2d-a1d8-90d3751f1490\" xlink:type=\"simple\"><rect fill=\"#FFFFFF\" height=\"45.9375\" id=\"E8\" rx=\"10\" ry=\"10\" style=\"stroke: #383838; stroke-width: 1.5;\" width=\"42\" x=\"284\" y=\"84\"/><text fill=\"#000000\" font-family=\"sans-serif\" font-size=\"12\" font-style=\"italic\" lengthAdjust=\"spacingAndGlyphs\" textLength=\"40\" x=\"285\" y=\"100.1387\">«part»</text><text fill=\"#000000\" font-family=\"sans-serif\" font-size=\"12\" lengthAdjust=\"spacingAndGlyphs\" textLength=\"22\" x=\"294\" y=\"114.1074\">y: B</text><line style=\"stroke: #383838; stroke-width: 1.5;\" x1=\"285\" x2=\"325\" y1=\"121.9375\" y2=\"121.9375\"/></a><!--MD5=[96f4274e9e20536e775497830990834d]\n",
       "class E10--><a href=\"psysml:f3cb1211-10b9-411e-bf19-d5722693e1fe\" target=\"_top\" title=\"psysml:f3cb1211-10b9-411e-bf19-d5722693e1fe\" xlink:actuate=\"onRequest\" xlink:href=\"psysml:f3cb1211-10b9-411e-bf19-d5722693e1fe\" xlink:show=\"new\" xlink:title=\"psysml:f3cb1211-10b9-411e-bf19-d5722693e1fe\" xlink:type=\"simple\"><rect fill=\"#FFFFFF\" height=\"45.9375\" id=\"E10\" rx=\"10\" ry=\"10\" style=\"stroke: #383838; stroke-width: 1.5;\" width=\"42\" x=\"186\" y=\"84\"/><text fill=\"#000000\" font-family=\"sans-serif\" font-size=\"12\" font-style=\"italic\" lengthAdjust=\"spacingAndGlyphs\" textLength=\"40\" x=\"187\" y=\"100.1387\">«part»</text><text fill=\"#000000\" font-family=\"sans-serif\" font-size=\"12\" lengthAdjust=\"spacingAndGlyphs\" textLength=\"22\" x=\"196\" y=\"114.1074\">x: A</text><line style=\"stroke: #383838; stroke-width: 1.5;\" x1=\"187\" x2=\"227\" y1=\"121.9375\" y2=\"121.9375\"/></a><!--MD5=[1dd1bfd58a279cf63c5f349dbc8fc6a1]\n",
       "class E11--><a href=\"psysml:9cdccab4-e502-4fbe-97eb-9b231d825ffa\" target=\"_top\" title=\"psysml:9cdccab4-e502-4fbe-97eb-9b231d825ffa\" xlink:actuate=\"onRequest\" xlink:href=\"psysml:9cdccab4-e502-4fbe-97eb-9b231d825ffa\" xlink:show=\"new\" xlink:title=\"psysml:9cdccab4-e502-4fbe-97eb-9b231d825ffa\" xlink:type=\"simple\"><rect fill=\"#FFFFFF\" height=\"45.9375\" id=\"E11\" rx=\"10\" ry=\"10\" style=\"stroke: #383838; stroke-width: 1.5;\" width=\"42\" x=\"109\" y=\"84\"/><text fill=\"#000000\" font-family=\"sans-serif\" font-size=\"12\" font-style=\"italic\" lengthAdjust=\"spacingAndGlyphs\" textLength=\"40\" x=\"110\" y=\"100.1387\">«part»</text><text fill=\"#000000\" font-family=\"sans-serif\" font-size=\"12\" lengthAdjust=\"spacingAndGlyphs\" textLength=\"22\" x=\"119\" y=\"114.1074\">y: B</text><line style=\"stroke: #383838; stroke-width: 1.5;\" x1=\"110\" x2=\"150\" y1=\"121.9375\" y2=\"121.9375\"/></a><!--MD5=[14ccda38c055a5c0da953d572bc50960]\n",
       "link E7 to E3--><a href=\"psysml:84278f38-d400-4655-8657-76a37dd9bb09\" target=\"_top\" title=\"psysml:84278f38-d400-4655-8657-76a37dd9bb09\" xlink:actuate=\"onRequest\" xlink:href=\"psysml:84278f38-d400-4655-8657-76a37dd9bb09\" xlink:show=\"new\" xlink:title=\"psysml:84278f38-d400-4655-8657-76a37dd9bb09\" xlink:type=\"simple\"><path d=\"M382,130.1 C382,145.37 382,166.16 382,184.57 \" fill=\"none\" id=\"E7-&gt;E3\" style=\"stroke: #383838; stroke-width: 1.0;\"/><polygon fill=\"#FFFFFF\" points=\"382,204.61,375,185.61,389,185.61,382,204.61\" style=\"stroke: #383838; stroke-width: 1.0;\"/><ellipse cx=\"377\" cy=\"179.91\" fill=\"#383838\" rx=\"2\" ry=\"2\" style=\"stroke: #383838; stroke-width: 1.0;\"/><ellipse cx=\"387\" cy=\"179.91\" fill=\"#383838\" rx=\"2\" ry=\"2\" style=\"stroke: #383838; stroke-width: 1.0;\"/></a><!--MD5=[1ccb2481ffa92f8d51a74ee30c51832a]\n",
       "link E8 to E5--><a href=\"psysml:9a62fcce-aa5a-49d2-8cac-0b2f538e5bd0\" target=\"_top\" title=\"psysml:9a62fcce-aa5a-49d2-8cac-0b2f538e5bd0\" xlink:actuate=\"onRequest\" xlink:href=\"psysml:9a62fcce-aa5a-49d2-8cac-0b2f538e5bd0\" xlink:show=\"new\" xlink:title=\"psysml:9a62fcce-aa5a-49d2-8cac-0b2f538e5bd0\" xlink:type=\"simple\"><path d=\"M283.84,124.59 C272.23,133.52 257.5,144.61 244,154 C223.51,168.25 200.41,183.24 180.38,195.91 \" fill=\"none\" id=\"E8-&gt;E5\" style=\"stroke: #383838; stroke-width: 1.0;\"/><polygon fill=\"#FFFFFF\" points=\"163.36,206.57,175.7353,190.5434,183.175,202.403,163.36,206.57\" style=\"stroke: #383838; stroke-width: 1.0;\"/><ellipse cx=\"181.6267\" cy=\"189.2086\" fill=\"#383838\" rx=\"2\" ry=\"2\" style=\"stroke: #383838; stroke-width: 1.0;\"/><ellipse cx=\"186.9408\" cy=\"197.6797\" fill=\"#383838\" rx=\"2\" ry=\"2\" style=\"stroke: #383838; stroke-width: 1.0;\"/></a><!--MD5=[feeac5eb423634930294aa81f2d25a4c]\n",
       "link E10 to E3--><a href=\"psysml:bd7260c7-b55a-4391-86f8-9493bae3bcdc\" target=\"_top\" title=\"psysml:bd7260c7-b55a-4391-86f8-9493bae3bcdc\" xlink:actuate=\"onRequest\" xlink:href=\"psysml:bd7260c7-b55a-4391-86f8-9493bae3bcdc\" xlink:show=\"new\" xlink:title=\"psysml:bd7260c7-b55a-4391-86f8-9493bae3bcdc\" xlink:type=\"simple\"><path d=\"M228.16,124.59 C239.77,133.52 254.5,144.61 268,154 C288.49,168.25 311.59,183.24 331.62,195.91 \" fill=\"none\" id=\"E10-&gt;E3\" style=\"stroke: #383838; stroke-width: 1.0;\"/><polygon fill=\"#FFFFFF\" points=\"348.64,206.57,328.825,202.403,336.2647,190.5434,348.64,206.57\" style=\"stroke: #383838; stroke-width: 1.0;\"/><ellipse cx=\"325.0592\" cy=\"197.6797\" fill=\"#383838\" rx=\"2\" ry=\"2\" style=\"stroke: #383838; stroke-width: 1.0;\"/><ellipse cx=\"330.3733\" cy=\"189.2086\" fill=\"#383838\" rx=\"2\" ry=\"2\" style=\"stroke: #383838; stroke-width: 1.0;\"/></a><!--MD5=[07b77f6f309248d16187045709d1c26e]\n",
       "link E11 to E5--><a href=\"psysml:099d00ce-a154-42ce-865e-6b31b35a0829\" target=\"_top\" title=\"psysml:099d00ce-a154-42ce-865e-6b31b35a0829\" xlink:actuate=\"onRequest\" xlink:href=\"psysml:099d00ce-a154-42ce-865e-6b31b35a0829\" xlink:show=\"new\" xlink:title=\"psysml:099d00ce-a154-42ce-865e-6b31b35a0829\" xlink:type=\"simple\"><path d=\"M130,130.1 C130,145.37 130,166.16 130,184.57 \" fill=\"none\" id=\"E11-&gt;E5\" style=\"stroke: #383838; stroke-width: 1.0;\"/><polygon fill=\"#FFFFFF\" points=\"130,204.61,123,185.61,137,185.61,130,204.61\" style=\"stroke: #383838; stroke-width: 1.0;\"/><ellipse cx=\"125\" cy=\"179.91\" fill=\"#383838\" rx=\"2\" ry=\"2\" style=\"stroke: #383838; stroke-width: 1.0;\"/><ellipse cx=\"135\" cy=\"179.91\" fill=\"#383838\" rx=\"2\" ry=\"2\" style=\"stroke: #383838; stroke-width: 1.0;\"/></a><!--MD5=[39f41a0e550fb3d73b4d8135617e30a2]\n",
       "link E12 to E3--><a href=\"psysml:2e0d72ae-9b36-4ac2-af7e-1d21d87eecf3\" target=\"_top\" title=\"psysml:2e0d72ae-9b36-4ac2-af7e-1d21d87eecf3\" xlink:actuate=\"onRequest\" xlink:href=\"psysml:2e0d72ae-9b36-4ac2-af7e-1d21d87eecf3\" xlink:show=\"new\" xlink:title=\"psysml:2e0d72ae-9b36-4ac2-af7e-1d21d87eecf3\" xlink:type=\"simple\"><path d=\"M444.7,130.1 C434.28,146.2 419.89,168.44 407.53,187.55 \" fill=\"none\" id=\"E12-&gt;E3\" style=\"stroke: #383838; stroke-width: 1.0;\"/><polygon fill=\"#FFFFFF\" points=\"396.49,204.61,400.9313,184.8546,412.6866,192.4581,396.49,204.61\" style=\"stroke: #383838; stroke-width: 1.0;\"/><ellipse cx=\"405.7063\" cy=\"181.1547\" fill=\"#383838\" rx=\"2\" ry=\"2\" style=\"stroke: #383838; stroke-width: 1.0;\"/><ellipse cx=\"414.103\" cy=\"186.5858\" fill=\"#383838\" rx=\"2\" ry=\"2\" style=\"stroke: #383838; stroke-width: 1.0;\"/></a><!--MD5=[066b2d8af59fea80ccdb3d54ad5c1091]\n",
       "link E13 to E5--><a href=\"psysml:28c76814-e954-4c97-b716-40e2f6813c6b\" target=\"_top\" title=\"psysml:28c76814-e954-4c97-b716-40e2f6813c6b\" xlink:actuate=\"onRequest\" xlink:href=\"psysml:28c76814-e954-4c97-b716-40e2f6813c6b\" xlink:show=\"new\" xlink:title=\"psysml:28c76814-e954-4c97-b716-40e2f6813c6b\" xlink:type=\"simple\"><path d=\"M67.3,130.1 C77.72,146.2 92.11,168.44 104.47,187.55 \" fill=\"none\" id=\"E13-&gt;E5\" style=\"stroke: #383838; stroke-width: 1.0;\"/><polygon fill=\"#FFFFFF\" points=\"115.51,204.61,99.3134,192.4581,111.0687,184.8546,115.51,204.61\" style=\"stroke: #383838; stroke-width: 1.0;\"/><ellipse cx=\"97.897\" cy=\"186.5858\" fill=\"#383838\" rx=\"2\" ry=\"2\" style=\"stroke: #383838; stroke-width: 1.0;\"/><ellipse cx=\"106.2937\" cy=\"181.1547\" fill=\"#383838\" rx=\"2\" ry=\"2\" style=\"stroke: #383838; stroke-width: 1.0;\"/></a><!--MD5=[69daa8c5a66ce47ff930034d9d86ce0d]\n",
       "@startuml\r\n",
       "skinparam monochrome true\r\n",
       "skinparam classbackgroundcolor white\r\n",
       "skinparam shadowing false\r\n",
       "skinparam wrapWidth 300\r\n",
       "hide circle\r\n",
       "\r\n",
       "package \"CircularImport\" as E1  [[psysml:690cd2ec-4fe7-4d94-89bf-c3d63ed60cd3 ]]  {\r\n",
       "package \"P1\" as E2  [[psysml:54e3154d-4fa4-4c14-a367-edca149a76a1 ]]  {\r\n",
       "comp def \"A\" as E3  <<(T,blue)part def>> [[psysml:281245e6-0723-4878-ac57-c406fd778909 ]] {\r\n",
       "}\r\n",
       "}\r\n",
       "package \"P2\" as E4  [[psysml:581c4a9e-fb07-4d80-ac64-c8c7b70027d2 ]]  {\r\n",
       "comp def \"B\" as E5  <<(T,blue)part def>> [[psysml:57665928-471f-4095-91e2-d839a960cf78 ]] {\r\n",
       "}\r\n",
       "}\r\n",
       "package \"Test1\" as E6  [[psysml:6bb49afc-ac2c-47b7-b48e-5bd0a62b326b ]]  {\r\n",
       "comp usage \"x: A\" as E7  <<(T,blue)part>> [[psysml:d6e39b1a-8a39-4c69-85ab-aa8551443e08 ]] {\r\n",
       "}\r\n",
       "comp usage \"y: B\" as E8  <<(T,blue)part>> [[psysml:ead6e64d-b294-4a2d-a1d8-90d3751f1490 ]] {\r\n",
       "}\r\n",
       "E7 - -:|> E3 [[psysml:84278f38-d400-4655-8657-76a37dd9bb09 ]] \r\n",
       "E8 - -:|> E5 [[psysml:9a62fcce-aa5a-49d2-8cac-0b2f538e5bd0 ]] \r\n",
       "}\r\n",
       "package \"Test2\" as E9  [[psysml:051bf7cb-81b8-4c37-8865-8bb7ea974985 ]]  {\r\n",
       "comp usage \"x: A\" as E10  <<(T,blue)part>> [[psysml:f3cb1211-10b9-411e-bf19-d5722693e1fe ]] {\r\n",
       "}\r\n",
       "comp usage \"y: B\" as E11  <<(T,blue)part>> [[psysml:9cdccab4-e502-4fbe-97eb-9b231d825ffa ]] {\r\n",
       "}\r\n",
       "E10 - -:|> E3 [[psysml:bd7260c7-b55a-4391-86f8-9493bae3bcdc ]] \r\n",
       "E11 - -:|> E5 [[psysml:099d00ce-a154-42ce-865e-6b31b35a0829 ]] \r\n",
       "}\r\n",
       "comp usage \"x: A\" as E12  <<(T,blue)part>> [[psysml:87edab01-bf58-4e9e-abd1-c8b0194f7dca ]] {\r\n",
       "}\r\n",
       "comp usage \"y: B\" as E13  <<(T,blue)part>> [[psysml:20c5387a-1627-4e14-8312-6f39b31ab3f7 ]] {\r\n",
       "}\r\n",
       "E12 - -:|> E3 [[psysml:2e0d72ae-9b36-4ac2-af7e-1d21d87eecf3 ]] \r\n",
       "E13 - -:|> E5 [[psysml:28c76814-e954-4c97-b716-40e2f6813c6b ]] \r\n",
       "}\r\n",
       "@enduml\r\n",
       "\n",
       "PlantUML version 1.2020.13(Sat Jun 13 12:26:38 UTC 2020)\n",
       "(EPL source distribution)\n",
       "Java Runtime: OpenJDK Runtime Environment\n",
       "JVM: OpenJDK 64-Bit Server VM\n",
       "Default Encoding: UTF-8\n",
       "Language: en\n",
       "Country: null\n",
       "--></g></svg>"
      ]
     },
     "execution_count": 43,
     "metadata": {},
     "output_type": "execute_result"
    }
   ],
   "source": [
    "%viz --style=\"DEFAULT\" --view=\"MIXED\" \"CircularImport\""
   ]
  },
  {
   "cell_type": "code",
   "execution_count": 44,
   "id": "7ac9251b",
   "metadata": {
    "execution": {
     "iopub.execute_input": "2021-04-20T06:57:55.148582Z",
     "iopub.status.busy": "2021-04-20T06:57:55.148117Z",
     "iopub.status.idle": "2021-04-20T06:57:55.184511Z",
     "shell.execute_reply": "2021-04-20T06:57:55.181990Z"
    }
   },
   "outputs": [
    {
     "data": {
      "image/svg+xml": [
       "<?xml version=\"1.0\" encoding=\"UTF-8\" standalone=\"no\"?><svg xmlns=\"http://www.w3.org/2000/svg\" xmlns:xlink=\"http://www.w3.org/1999/xlink\" contentScriptType=\"application/ecmascript\" contentStyleType=\"text/css\" height=\"303px\" preserveAspectRatio=\"none\" style=\"width:518px;height:303px;\" version=\"1.1\" viewBox=\"0 0 518 303\" width=\"518px\" zoomAndPan=\"magnify\"><defs/><g><!--MD5=[fbc87193dbaf4d95561dea2c320d4a47]\n",
       "cluster E1--><a href=\"psysml:690cd2ec-4fe7-4d94-89bf-c3d63ed60cd3\" target=\"_top\" title=\"psysml:690cd2ec-4fe7-4d94-89bf-c3d63ed60cd3\" xlink:actuate=\"onRequest\" xlink:href=\"psysml:690cd2ec-4fe7-4d94-89bf-c3d63ed60cd3\" xlink:show=\"new\" xlink:title=\"psysml:690cd2ec-4fe7-4d94-89bf-c3d63ed60cd3\" xlink:type=\"simple\"><polygon fill=\"#FFFFFF\" points=\"16,6,134,6,141,28.2969,496,28.2969,496,291,16,291,16,6\" style=\"stroke: #000000; stroke-width: 1.5;\"/><line style=\"stroke: #000000; stroke-width: 1.5;\" x1=\"16\" x2=\"141\" y1=\"28.2969\" y2=\"28.2969\"/><text fill=\"#000000\" font-family=\"sans-serif\" font-size=\"14\" font-weight=\"bold\" lengthAdjust=\"spacingAndGlyphs\" textLength=\"112\" x=\"20\" y=\"20.9951\">CircularImport</text></a><!--MD5=[e4f7fae6ed58524ba242bb0b0d3be6b7]\n",
       "cluster E2--><a href=\"psysml:54e3154d-4fa4-4c14-a367-edca149a76a1\" target=\"_top\" title=\"psysml:54e3154d-4fa4-4c14-a367-edca149a76a1\" xlink:actuate=\"onRequest\" xlink:href=\"psysml:54e3154d-4fa4-4c14-a367-edca149a76a1\" xlink:show=\"new\" xlink:title=\"psysml:54e3154d-4fa4-4c14-a367-edca149a76a1\" xlink:type=\"simple\"><polygon fill=\"#FFFFFF\" points=\"333,170,359,170,366,192.2969,431,192.2969,431,267,333,267,333,170\" style=\"stroke: #000000; stroke-width: 1.5;\"/><line style=\"stroke: #000000; stroke-width: 1.5;\" x1=\"333\" x2=\"366\" y1=\"192.2969\" y2=\"192.2969\"/><text fill=\"#000000\" font-family=\"sans-serif\" font-size=\"14\" font-weight=\"bold\" lengthAdjust=\"spacingAndGlyphs\" textLength=\"20\" x=\"337\" y=\"184.9951\">P1</text></a><!--MD5=[f6df4d0ebaf0b5dfb2ced0ae5af7c670]\n",
       "cluster E4--><a href=\"psysml:581c4a9e-fb07-4d80-ac64-c8c7b70027d2\" target=\"_top\" title=\"psysml:581c4a9e-fb07-4d80-ac64-c8c7b70027d2\" xlink:actuate=\"onRequest\" xlink:href=\"psysml:581c4a9e-fb07-4d80-ac64-c8c7b70027d2\" xlink:show=\"new\" xlink:title=\"psysml:581c4a9e-fb07-4d80-ac64-c8c7b70027d2\" xlink:type=\"simple\"><polygon fill=\"#FFFFFF\" points=\"81,170,107,170,114,192.2969,179,192.2969,179,267,81,267,81,170\" style=\"stroke: #000000; stroke-width: 1.5;\"/><line style=\"stroke: #000000; stroke-width: 1.5;\" x1=\"81\" x2=\"114\" y1=\"192.2969\" y2=\"192.2969\"/><text fill=\"#000000\" font-family=\"sans-serif\" font-size=\"14\" font-weight=\"bold\" lengthAdjust=\"spacingAndGlyphs\" textLength=\"20\" x=\"85\" y=\"184.9951\">P2</text></a><!--MD5=[14e3b0961a2654348d326746436168a1]\n",
       "cluster E6--><a href=\"psysml:6bb49afc-ac2c-47b7-b48e-5bd0a62b326b\" target=\"_top\" title=\"psysml:6bb49afc-ac2c-47b7-b48e-5bd0a62b326b\" xlink:actuate=\"onRequest\" xlink:href=\"psysml:6bb49afc-ac2c-47b7-b48e-5bd0a62b326b\" xlink:show=\"new\" xlink:title=\"psysml:6bb49afc-ac2c-47b7-b48e-5bd0a62b326b\" xlink:type=\"simple\"><polygon fill=\"#FFFFFF\" points=\"268,49,319,49,326,71.2969,419,71.2969,419,146,268,146,268,49\" style=\"stroke: #000000; stroke-width: 1.5;\"/><line style=\"stroke: #000000; stroke-width: 1.5;\" x1=\"268\" x2=\"326\" y1=\"71.2969\" y2=\"71.2969\"/><text fill=\"#000000\" font-family=\"sans-serif\" font-size=\"14\" font-weight=\"bold\" lengthAdjust=\"spacingAndGlyphs\" textLength=\"45\" x=\"272\" y=\"63.9951\">Test1</text></a><!--MD5=[7f149f147074ac12df2cb0a7728a5fb0]\n",
       "cluster E9--><a href=\"psysml:051bf7cb-81b8-4c37-8865-8bb7ea974985\" target=\"_top\" title=\"psysml:051bf7cb-81b8-4c37-8865-8bb7ea974985\" xlink:actuate=\"onRequest\" xlink:href=\"psysml:051bf7cb-81b8-4c37-8865-8bb7ea974985\" xlink:show=\"new\" xlink:title=\"psysml:051bf7cb-81b8-4c37-8865-8bb7ea974985\" xlink:type=\"simple\"><polygon fill=\"#FFFFFF\" points=\"93,49,144,49,151,71.2969,244,71.2969,244,146,93,146,93,49\" style=\"stroke: #000000; stroke-width: 1.5;\"/><line style=\"stroke: #000000; stroke-width: 1.5;\" x1=\"93\" x2=\"151\" y1=\"71.2969\" y2=\"71.2969\"/><text fill=\"#000000\" font-family=\"sans-serif\" font-size=\"14\" font-weight=\"bold\" lengthAdjust=\"spacingAndGlyphs\" textLength=\"45\" x=\"97\" y=\"63.9951\">Test2</text></a><!--MD5=[49a0ec8f00dab7302a31f22d0f0fe584]\n",
       "class E12--><a href=\"psysml:87edab01-bf58-4e9e-abd1-c8b0194f7dca\" target=\"_top\" title=\"psysml:87edab01-bf58-4e9e-abd1-c8b0194f7dca\" xlink:actuate=\"onRequest\" xlink:href=\"psysml:87edab01-bf58-4e9e-abd1-c8b0194f7dca\" xlink:show=\"new\" xlink:title=\"psysml:87edab01-bf58-4e9e-abd1-c8b0194f7dca\" xlink:type=\"simple\"><rect fill=\"#FFFFFF\" height=\"45.9375\" id=\"E12\" rx=\"10\" ry=\"10\" style=\"stroke: #383838; stroke-width: 1.5;\" width=\"42\" x=\"438\" y=\"84\"/><text fill=\"#000000\" font-family=\"sans-serif\" font-size=\"12\" font-style=\"italic\" lengthAdjust=\"spacingAndGlyphs\" textLength=\"40\" x=\"439\" y=\"100.1387\">«part»</text><text fill=\"#000000\" font-family=\"sans-serif\" font-size=\"12\" lengthAdjust=\"spacingAndGlyphs\" textLength=\"22\" x=\"448\" y=\"114.1074\">x: A</text><line style=\"stroke: #383838; stroke-width: 1.5;\" x1=\"439\" x2=\"479\" y1=\"121.9375\" y2=\"121.9375\"/></a><!--MD5=[ee3c913d1a06f366521f9ef512b67efe]\n",
       "class E13--><a href=\"psysml:20c5387a-1627-4e14-8312-6f39b31ab3f7\" target=\"_top\" title=\"psysml:20c5387a-1627-4e14-8312-6f39b31ab3f7\" xlink:actuate=\"onRequest\" xlink:href=\"psysml:20c5387a-1627-4e14-8312-6f39b31ab3f7\" xlink:show=\"new\" xlink:title=\"psysml:20c5387a-1627-4e14-8312-6f39b31ab3f7\" xlink:type=\"simple\"><rect fill=\"#FFFFFF\" height=\"45.9375\" id=\"E13\" rx=\"10\" ry=\"10\" style=\"stroke: #383838; stroke-width: 1.5;\" width=\"42\" x=\"32\" y=\"84\"/><text fill=\"#000000\" font-family=\"sans-serif\" font-size=\"12\" font-style=\"italic\" lengthAdjust=\"spacingAndGlyphs\" textLength=\"40\" x=\"33\" y=\"100.1387\">«part»</text><text fill=\"#000000\" font-family=\"sans-serif\" font-size=\"12\" lengthAdjust=\"spacingAndGlyphs\" textLength=\"22\" x=\"42\" y=\"114.1074\">y: B</text><line style=\"stroke: #383838; stroke-width: 1.5;\" x1=\"33\" x2=\"73\" y1=\"121.9375\" y2=\"121.9375\"/></a><!--MD5=[09b614a08d8cba4a07c9adeb5e0fee81]\n",
       "class E3--><a href=\"psysml:281245e6-0723-4878-ac57-c406fd778909\" target=\"_top\" title=\"psysml:281245e6-0723-4878-ac57-c406fd778909\" xlink:actuate=\"onRequest\" xlink:href=\"psysml:281245e6-0723-4878-ac57-c406fd778909\" xlink:show=\"new\" xlink:title=\"psysml:281245e6-0723-4878-ac57-c406fd778909\" xlink:type=\"simple\"><rect fill=\"#FFFFFF\" height=\"45.9375\" id=\"E3\" style=\"stroke: #383838; stroke-width: 1.5;\" width=\"66\" x=\"349\" y=\"205\"/><text fill=\"#000000\" font-family=\"sans-serif\" font-size=\"12\" font-style=\"italic\" lengthAdjust=\"spacingAndGlyphs\" textLength=\"64\" x=\"350\" y=\"221.1387\">«part def»</text><text fill=\"#000000\" font-family=\"sans-serif\" font-size=\"12\" lengthAdjust=\"spacingAndGlyphs\" textLength=\"8\" x=\"378\" y=\"235.1074\">A</text><line style=\"stroke: #383838; stroke-width: 1.5;\" x1=\"350\" x2=\"414\" y1=\"242.9375\" y2=\"242.9375\"/></a><!--MD5=[270fce915f116d4de14055a7c1d9a0f3]\n",
       "class E5--><a href=\"psysml:57665928-471f-4095-91e2-d839a960cf78\" target=\"_top\" title=\"psysml:57665928-471f-4095-91e2-d839a960cf78\" xlink:actuate=\"onRequest\" xlink:href=\"psysml:57665928-471f-4095-91e2-d839a960cf78\" xlink:show=\"new\" xlink:title=\"psysml:57665928-471f-4095-91e2-d839a960cf78\" xlink:type=\"simple\"><rect fill=\"#FFFFFF\" height=\"45.9375\" id=\"E5\" style=\"stroke: #383838; stroke-width: 1.5;\" width=\"66\" x=\"97\" y=\"205\"/><text fill=\"#000000\" font-family=\"sans-serif\" font-size=\"12\" font-style=\"italic\" lengthAdjust=\"spacingAndGlyphs\" textLength=\"64\" x=\"98\" y=\"221.1387\">«part def»</text><text fill=\"#000000\" font-family=\"sans-serif\" font-size=\"12\" lengthAdjust=\"spacingAndGlyphs\" textLength=\"8\" x=\"126\" y=\"235.1074\">B</text><line style=\"stroke: #383838; stroke-width: 1.5;\" x1=\"98\" x2=\"162\" y1=\"242.9375\" y2=\"242.9375\"/></a><!--MD5=[2156ba9850f5573cc1fc38a6a4b2f02b]\n",
       "class E7--><a href=\"psysml:d6e39b1a-8a39-4c69-85ab-aa8551443e08\" target=\"_top\" title=\"psysml:d6e39b1a-8a39-4c69-85ab-aa8551443e08\" xlink:actuate=\"onRequest\" xlink:href=\"psysml:d6e39b1a-8a39-4c69-85ab-aa8551443e08\" xlink:show=\"new\" xlink:title=\"psysml:d6e39b1a-8a39-4c69-85ab-aa8551443e08\" xlink:type=\"simple\"><rect fill=\"#FFFFFF\" height=\"45.9375\" id=\"E7\" rx=\"10\" ry=\"10\" style=\"stroke: #383838; stroke-width: 1.5;\" width=\"42\" x=\"361\" y=\"84\"/><text fill=\"#000000\" font-family=\"sans-serif\" font-size=\"12\" font-style=\"italic\" lengthAdjust=\"spacingAndGlyphs\" textLength=\"40\" x=\"362\" y=\"100.1387\">«part»</text><text fill=\"#000000\" font-family=\"sans-serif\" font-size=\"12\" lengthAdjust=\"spacingAndGlyphs\" textLength=\"22\" x=\"371\" y=\"114.1074\">x: A</text><line style=\"stroke: #383838; stroke-width: 1.5;\" x1=\"362\" x2=\"402\" y1=\"121.9375\" y2=\"121.9375\"/></a><!--MD5=[b9389687b975829384b498ac4b7476b2]\n",
       "class E8--><a href=\"psysml:ead6e64d-b294-4a2d-a1d8-90d3751f1490\" target=\"_top\" title=\"psysml:ead6e64d-b294-4a2d-a1d8-90d3751f1490\" xlink:actuate=\"onRequest\" xlink:href=\"psysml:ead6e64d-b294-4a2d-a1d8-90d3751f1490\" xlink:show=\"new\" xlink:title=\"psysml:ead6e64d-b294-4a2d-a1d8-90d3751f1490\" xlink:type=\"simple\"><rect fill=\"#FFFFFF\" height=\"45.9375\" id=\"E8\" rx=\"10\" ry=\"10\" style=\"stroke: #383838; stroke-width: 1.5;\" width=\"42\" x=\"284\" y=\"84\"/><text fill=\"#000000\" font-family=\"sans-serif\" font-size=\"12\" font-style=\"italic\" lengthAdjust=\"spacingAndGlyphs\" textLength=\"40\" x=\"285\" y=\"100.1387\">«part»</text><text fill=\"#000000\" font-family=\"sans-serif\" font-size=\"12\" lengthAdjust=\"spacingAndGlyphs\" textLength=\"22\" x=\"294\" y=\"114.1074\">y: B</text><line style=\"stroke: #383838; stroke-width: 1.5;\" x1=\"285\" x2=\"325\" y1=\"121.9375\" y2=\"121.9375\"/></a><!--MD5=[96f4274e9e20536e775497830990834d]\n",
       "class E10--><a href=\"psysml:f3cb1211-10b9-411e-bf19-d5722693e1fe\" target=\"_top\" title=\"psysml:f3cb1211-10b9-411e-bf19-d5722693e1fe\" xlink:actuate=\"onRequest\" xlink:href=\"psysml:f3cb1211-10b9-411e-bf19-d5722693e1fe\" xlink:show=\"new\" xlink:title=\"psysml:f3cb1211-10b9-411e-bf19-d5722693e1fe\" xlink:type=\"simple\"><rect fill=\"#FFFFFF\" height=\"45.9375\" id=\"E10\" rx=\"10\" ry=\"10\" style=\"stroke: #383838; stroke-width: 1.5;\" width=\"42\" x=\"186\" y=\"84\"/><text fill=\"#000000\" font-family=\"sans-serif\" font-size=\"12\" font-style=\"italic\" lengthAdjust=\"spacingAndGlyphs\" textLength=\"40\" x=\"187\" y=\"100.1387\">«part»</text><text fill=\"#000000\" font-family=\"sans-serif\" font-size=\"12\" lengthAdjust=\"spacingAndGlyphs\" textLength=\"22\" x=\"196\" y=\"114.1074\">x: A</text><line style=\"stroke: #383838; stroke-width: 1.5;\" x1=\"187\" x2=\"227\" y1=\"121.9375\" y2=\"121.9375\"/></a><!--MD5=[1dd1bfd58a279cf63c5f349dbc8fc6a1]\n",
       "class E11--><a href=\"psysml:9cdccab4-e502-4fbe-97eb-9b231d825ffa\" target=\"_top\" title=\"psysml:9cdccab4-e502-4fbe-97eb-9b231d825ffa\" xlink:actuate=\"onRequest\" xlink:href=\"psysml:9cdccab4-e502-4fbe-97eb-9b231d825ffa\" xlink:show=\"new\" xlink:title=\"psysml:9cdccab4-e502-4fbe-97eb-9b231d825ffa\" xlink:type=\"simple\"><rect fill=\"#FFFFFF\" height=\"45.9375\" id=\"E11\" rx=\"10\" ry=\"10\" style=\"stroke: #383838; stroke-width: 1.5;\" width=\"42\" x=\"109\" y=\"84\"/><text fill=\"#000000\" font-family=\"sans-serif\" font-size=\"12\" font-style=\"italic\" lengthAdjust=\"spacingAndGlyphs\" textLength=\"40\" x=\"110\" y=\"100.1387\">«part»</text><text fill=\"#000000\" font-family=\"sans-serif\" font-size=\"12\" lengthAdjust=\"spacingAndGlyphs\" textLength=\"22\" x=\"119\" y=\"114.1074\">y: B</text><line style=\"stroke: #383838; stroke-width: 1.5;\" x1=\"110\" x2=\"150\" y1=\"121.9375\" y2=\"121.9375\"/></a><!--MD5=[14ccda38c055a5c0da953d572bc50960]\n",
       "link E7 to E3--><a href=\"psysml:84278f38-d400-4655-8657-76a37dd9bb09\" target=\"_top\" title=\"psysml:84278f38-d400-4655-8657-76a37dd9bb09\" xlink:actuate=\"onRequest\" xlink:href=\"psysml:84278f38-d400-4655-8657-76a37dd9bb09\" xlink:show=\"new\" xlink:title=\"psysml:84278f38-d400-4655-8657-76a37dd9bb09\" xlink:type=\"simple\"><path d=\"M382,130.1 C382,145.37 382,166.16 382,184.57 \" fill=\"none\" id=\"E7-&gt;E3\" style=\"stroke: #383838; stroke-width: 1.0;\"/><polygon fill=\"#FFFFFF\" points=\"382,204.61,375,185.61,389,185.61,382,204.61\" style=\"stroke: #383838; stroke-width: 1.0;\"/><ellipse cx=\"377\" cy=\"179.91\" fill=\"#383838\" rx=\"2\" ry=\"2\" style=\"stroke: #383838; stroke-width: 1.0;\"/><ellipse cx=\"387\" cy=\"179.91\" fill=\"#383838\" rx=\"2\" ry=\"2\" style=\"stroke: #383838; stroke-width: 1.0;\"/></a><!--MD5=[1ccb2481ffa92f8d51a74ee30c51832a]\n",
       "link E8 to E5--><a href=\"psysml:9a62fcce-aa5a-49d2-8cac-0b2f538e5bd0\" target=\"_top\" title=\"psysml:9a62fcce-aa5a-49d2-8cac-0b2f538e5bd0\" xlink:actuate=\"onRequest\" xlink:href=\"psysml:9a62fcce-aa5a-49d2-8cac-0b2f538e5bd0\" xlink:show=\"new\" xlink:title=\"psysml:9a62fcce-aa5a-49d2-8cac-0b2f538e5bd0\" xlink:type=\"simple\"><path d=\"M283.84,124.59 C272.23,133.52 257.5,144.61 244,154 C223.51,168.25 200.41,183.24 180.38,195.91 \" fill=\"none\" id=\"E8-&gt;E5\" style=\"stroke: #383838; stroke-width: 1.0;\"/><polygon fill=\"#FFFFFF\" points=\"163.36,206.57,175.7353,190.5434,183.175,202.403,163.36,206.57\" style=\"stroke: #383838; stroke-width: 1.0;\"/><ellipse cx=\"181.6267\" cy=\"189.2086\" fill=\"#383838\" rx=\"2\" ry=\"2\" style=\"stroke: #383838; stroke-width: 1.0;\"/><ellipse cx=\"186.9408\" cy=\"197.6797\" fill=\"#383838\" rx=\"2\" ry=\"2\" style=\"stroke: #383838; stroke-width: 1.0;\"/></a><!--MD5=[feeac5eb423634930294aa81f2d25a4c]\n",
       "link E10 to E3--><a href=\"psysml:bd7260c7-b55a-4391-86f8-9493bae3bcdc\" target=\"_top\" title=\"psysml:bd7260c7-b55a-4391-86f8-9493bae3bcdc\" xlink:actuate=\"onRequest\" xlink:href=\"psysml:bd7260c7-b55a-4391-86f8-9493bae3bcdc\" xlink:show=\"new\" xlink:title=\"psysml:bd7260c7-b55a-4391-86f8-9493bae3bcdc\" xlink:type=\"simple\"><path d=\"M228.16,124.59 C239.77,133.52 254.5,144.61 268,154 C288.49,168.25 311.59,183.24 331.62,195.91 \" fill=\"none\" id=\"E10-&gt;E3\" style=\"stroke: #383838; stroke-width: 1.0;\"/><polygon fill=\"#FFFFFF\" points=\"348.64,206.57,328.825,202.403,336.2647,190.5434,348.64,206.57\" style=\"stroke: #383838; stroke-width: 1.0;\"/><ellipse cx=\"325.0592\" cy=\"197.6797\" fill=\"#383838\" rx=\"2\" ry=\"2\" style=\"stroke: #383838; stroke-width: 1.0;\"/><ellipse cx=\"330.3733\" cy=\"189.2086\" fill=\"#383838\" rx=\"2\" ry=\"2\" style=\"stroke: #383838; stroke-width: 1.0;\"/></a><!--MD5=[07b77f6f309248d16187045709d1c26e]\n",
       "link E11 to E5--><a href=\"psysml:099d00ce-a154-42ce-865e-6b31b35a0829\" target=\"_top\" title=\"psysml:099d00ce-a154-42ce-865e-6b31b35a0829\" xlink:actuate=\"onRequest\" xlink:href=\"psysml:099d00ce-a154-42ce-865e-6b31b35a0829\" xlink:show=\"new\" xlink:title=\"psysml:099d00ce-a154-42ce-865e-6b31b35a0829\" xlink:type=\"simple\"><path d=\"M130,130.1 C130,145.37 130,166.16 130,184.57 \" fill=\"none\" id=\"E11-&gt;E5\" style=\"stroke: #383838; stroke-width: 1.0;\"/><polygon fill=\"#FFFFFF\" points=\"130,204.61,123,185.61,137,185.61,130,204.61\" style=\"stroke: #383838; stroke-width: 1.0;\"/><ellipse cx=\"125\" cy=\"179.91\" fill=\"#383838\" rx=\"2\" ry=\"2\" style=\"stroke: #383838; stroke-width: 1.0;\"/><ellipse cx=\"135\" cy=\"179.91\" fill=\"#383838\" rx=\"2\" ry=\"2\" style=\"stroke: #383838; stroke-width: 1.0;\"/></a><!--MD5=[39f41a0e550fb3d73b4d8135617e30a2]\n",
       "link E12 to E3--><a href=\"psysml:2e0d72ae-9b36-4ac2-af7e-1d21d87eecf3\" target=\"_top\" title=\"psysml:2e0d72ae-9b36-4ac2-af7e-1d21d87eecf3\" xlink:actuate=\"onRequest\" xlink:href=\"psysml:2e0d72ae-9b36-4ac2-af7e-1d21d87eecf3\" xlink:show=\"new\" xlink:title=\"psysml:2e0d72ae-9b36-4ac2-af7e-1d21d87eecf3\" xlink:type=\"simple\"><path d=\"M444.7,130.1 C434.28,146.2 419.89,168.44 407.53,187.55 \" fill=\"none\" id=\"E12-&gt;E3\" style=\"stroke: #383838; stroke-width: 1.0;\"/><polygon fill=\"#FFFFFF\" points=\"396.49,204.61,400.9313,184.8546,412.6866,192.4581,396.49,204.61\" style=\"stroke: #383838; stroke-width: 1.0;\"/><ellipse cx=\"405.7063\" cy=\"181.1547\" fill=\"#383838\" rx=\"2\" ry=\"2\" style=\"stroke: #383838; stroke-width: 1.0;\"/><ellipse cx=\"414.103\" cy=\"186.5858\" fill=\"#383838\" rx=\"2\" ry=\"2\" style=\"stroke: #383838; stroke-width: 1.0;\"/></a><!--MD5=[066b2d8af59fea80ccdb3d54ad5c1091]\n",
       "link E13 to E5--><a href=\"psysml:28c76814-e954-4c97-b716-40e2f6813c6b\" target=\"_top\" title=\"psysml:28c76814-e954-4c97-b716-40e2f6813c6b\" xlink:actuate=\"onRequest\" xlink:href=\"psysml:28c76814-e954-4c97-b716-40e2f6813c6b\" xlink:show=\"new\" xlink:title=\"psysml:28c76814-e954-4c97-b716-40e2f6813c6b\" xlink:type=\"simple\"><path d=\"M67.3,130.1 C77.72,146.2 92.11,168.44 104.47,187.55 \" fill=\"none\" id=\"E13-&gt;E5\" style=\"stroke: #383838; stroke-width: 1.0;\"/><polygon fill=\"#FFFFFF\" points=\"115.51,204.61,99.3134,192.4581,111.0687,184.8546,115.51,204.61\" style=\"stroke: #383838; stroke-width: 1.0;\"/><ellipse cx=\"97.897\" cy=\"186.5858\" fill=\"#383838\" rx=\"2\" ry=\"2\" style=\"stroke: #383838; stroke-width: 1.0;\"/><ellipse cx=\"106.2937\" cy=\"181.1547\" fill=\"#383838\" rx=\"2\" ry=\"2\" style=\"stroke: #383838; stroke-width: 1.0;\"/></a><!--MD5=[9d6e8e2f8874dcedb9a810b54b97bf61]\n",
       "@startuml\r\n",
       "top to bottom direction\r\n",
       "skinparam monochrome true\r\n",
       "skinparam classbackgroundcolor white\r\n",
       "skinparam shadowing false\r\n",
       "skinparam wrapWidth 300\r\n",
       "hide circle\r\n",
       "\r\n",
       "package \"CircularImport\" as E1  [[psysml:690cd2ec-4fe7-4d94-89bf-c3d63ed60cd3 ]]  {\r\n",
       "package \"P1\" as E2  [[psysml:54e3154d-4fa4-4c14-a367-edca149a76a1 ]]  {\r\n",
       "comp def \"A\" as E3  <<(T,blue)part def>> [[psysml:281245e6-0723-4878-ac57-c406fd778909 ]] {\r\n",
       "}\r\n",
       "}\r\n",
       "package \"P2\" as E4  [[psysml:581c4a9e-fb07-4d80-ac64-c8c7b70027d2 ]]  {\r\n",
       "comp def \"B\" as E5  <<(T,blue)part def>> [[psysml:57665928-471f-4095-91e2-d839a960cf78 ]] {\r\n",
       "}\r\n",
       "}\r\n",
       "package \"Test1\" as E6  [[psysml:6bb49afc-ac2c-47b7-b48e-5bd0a62b326b ]]  {\r\n",
       "comp usage \"x: A\" as E7  <<(T,blue)part>> [[psysml:d6e39b1a-8a39-4c69-85ab-aa8551443e08 ]] {\r\n",
       "}\r\n",
       "comp usage \"y: B\" as E8  <<(T,blue)part>> [[psysml:ead6e64d-b294-4a2d-a1d8-90d3751f1490 ]] {\r\n",
       "}\r\n",
       "E7 - -:|> E3 [[psysml:84278f38-d400-4655-8657-76a37dd9bb09 ]] \r\n",
       "E8 - -:|> E5 [[psysml:9a62fcce-aa5a-49d2-8cac-0b2f538e5bd0 ]] \r\n",
       "}\r\n",
       "package \"Test2\" as E9  [[psysml:051bf7cb-81b8-4c37-8865-8bb7ea974985 ]]  {\r\n",
       "comp usage \"x: A\" as E10  <<(T,blue)part>> [[psysml:f3cb1211-10b9-411e-bf19-d5722693e1fe ]] {\r\n",
       "}\r\n",
       "comp usage \"y: B\" as E11  <<(T,blue)part>> [[psysml:9cdccab4-e502-4fbe-97eb-9b231d825ffa ]] {\r\n",
       "}\r\n",
       "E10 - -:|> E3 [[psysml:bd7260c7-b55a-4391-86f8-9493bae3bcdc ]] \r\n",
       "E11 - -:|> E5 [[psysml:099d00ce-a154-42ce-865e-6b31b35a0829 ]] \r\n",
       "}\r\n",
       "comp usage \"x: A\" as E12  <<(T,blue)part>> [[psysml:87edab01-bf58-4e9e-abd1-c8b0194f7dca ]] {\r\n",
       "}\r\n",
       "comp usage \"y: B\" as E13  <<(T,blue)part>> [[psysml:20c5387a-1627-4e14-8312-6f39b31ab3f7 ]] {\r\n",
       "}\r\n",
       "E12 - -:|> E3 [[psysml:2e0d72ae-9b36-4ac2-af7e-1d21d87eecf3 ]] \r\n",
       "E13 - -:|> E5 [[psysml:28c76814-e954-4c97-b716-40e2f6813c6b ]] \r\n",
       "}\r\n",
       "@enduml\r\n",
       "\n",
       "PlantUML version 1.2020.13(Sat Jun 13 12:26:38 UTC 2020)\n",
       "(EPL source distribution)\n",
       "Java Runtime: OpenJDK Runtime Environment\n",
       "JVM: OpenJDK 64-Bit Server VM\n",
       "Default Encoding: UTF-8\n",
       "Language: en\n",
       "Country: null\n",
       "--></g></svg>"
      ]
     },
     "execution_count": 44,
     "metadata": {},
     "output_type": "execute_result"
    }
   ],
   "source": [
    "%viz --style=\"TB\" --view=\"Default\" \"CircularImport\""
   ]
  },
  {
   "cell_type": "code",
   "execution_count": 45,
   "id": "1597926c",
   "metadata": {
    "execution": {
     "iopub.execute_input": "2021-04-20T06:57:55.235317Z",
     "iopub.status.busy": "2021-04-20T06:57:55.234955Z",
     "iopub.status.idle": "2021-04-20T06:57:55.276536Z",
     "shell.execute_reply": "2021-04-20T06:57:55.274237Z"
    }
   },
   "outputs": [
    {
     "data": {
      "image/svg+xml": [
       "<?xml version=\"1.0\" encoding=\"UTF-8\" standalone=\"no\"?><svg xmlns=\"http://www.w3.org/2000/svg\" xmlns:xlink=\"http://www.w3.org/1999/xlink\" contentScriptType=\"application/ecmascript\" contentStyleType=\"text/css\" height=\"303px\" preserveAspectRatio=\"none\" style=\"width:518px;height:303px;\" version=\"1.1\" viewBox=\"0 0 518 303\" width=\"518px\" zoomAndPan=\"magnify\"><defs/><g><!--MD5=[fbc87193dbaf4d95561dea2c320d4a47]\n",
       "cluster E1--><a href=\"psysml:690cd2ec-4fe7-4d94-89bf-c3d63ed60cd3\" target=\"_top\" title=\"psysml:690cd2ec-4fe7-4d94-89bf-c3d63ed60cd3\" xlink:actuate=\"onRequest\" xlink:href=\"psysml:690cd2ec-4fe7-4d94-89bf-c3d63ed60cd3\" xlink:show=\"new\" xlink:title=\"psysml:690cd2ec-4fe7-4d94-89bf-c3d63ed60cd3\" xlink:type=\"simple\"><polygon fill=\"#FFFFFF\" points=\"16,6,134,6,141,28.2969,496,28.2969,496,291,16,291,16,6\" style=\"stroke: #000000; stroke-width: 1.5;\"/><line style=\"stroke: #000000; stroke-width: 1.5;\" x1=\"16\" x2=\"141\" y1=\"28.2969\" y2=\"28.2969\"/><text fill=\"#000000\" font-family=\"sans-serif\" font-size=\"14\" font-weight=\"bold\" lengthAdjust=\"spacingAndGlyphs\" textLength=\"112\" x=\"20\" y=\"20.9951\">CircularImport</text></a><!--MD5=[e4f7fae6ed58524ba242bb0b0d3be6b7]\n",
       "cluster E2--><a href=\"psysml:54e3154d-4fa4-4c14-a367-edca149a76a1\" target=\"_top\" title=\"psysml:54e3154d-4fa4-4c14-a367-edca149a76a1\" xlink:actuate=\"onRequest\" xlink:href=\"psysml:54e3154d-4fa4-4c14-a367-edca149a76a1\" xlink:show=\"new\" xlink:title=\"psysml:54e3154d-4fa4-4c14-a367-edca149a76a1\" xlink:type=\"simple\"><polygon fill=\"#FFFFFF\" points=\"333,170,359,170,366,192.2969,431,192.2969,431,267,333,267,333,170\" style=\"stroke: #000000; stroke-width: 1.5;\"/><line style=\"stroke: #000000; stroke-width: 1.5;\" x1=\"333\" x2=\"366\" y1=\"192.2969\" y2=\"192.2969\"/><text fill=\"#000000\" font-family=\"sans-serif\" font-size=\"14\" font-weight=\"bold\" lengthAdjust=\"spacingAndGlyphs\" textLength=\"20\" x=\"337\" y=\"184.9951\">P1</text></a><!--MD5=[f6df4d0ebaf0b5dfb2ced0ae5af7c670]\n",
       "cluster E4--><a href=\"psysml:581c4a9e-fb07-4d80-ac64-c8c7b70027d2\" target=\"_top\" title=\"psysml:581c4a9e-fb07-4d80-ac64-c8c7b70027d2\" xlink:actuate=\"onRequest\" xlink:href=\"psysml:581c4a9e-fb07-4d80-ac64-c8c7b70027d2\" xlink:show=\"new\" xlink:title=\"psysml:581c4a9e-fb07-4d80-ac64-c8c7b70027d2\" xlink:type=\"simple\"><polygon fill=\"#FFFFFF\" points=\"81,170,107,170,114,192.2969,179,192.2969,179,267,81,267,81,170\" style=\"stroke: #000000; stroke-width: 1.5;\"/><line style=\"stroke: #000000; stroke-width: 1.5;\" x1=\"81\" x2=\"114\" y1=\"192.2969\" y2=\"192.2969\"/><text fill=\"#000000\" font-family=\"sans-serif\" font-size=\"14\" font-weight=\"bold\" lengthAdjust=\"spacingAndGlyphs\" textLength=\"20\" x=\"85\" y=\"184.9951\">P2</text></a><!--MD5=[14e3b0961a2654348d326746436168a1]\n",
       "cluster E6--><a href=\"psysml:6bb49afc-ac2c-47b7-b48e-5bd0a62b326b\" target=\"_top\" title=\"psysml:6bb49afc-ac2c-47b7-b48e-5bd0a62b326b\" xlink:actuate=\"onRequest\" xlink:href=\"psysml:6bb49afc-ac2c-47b7-b48e-5bd0a62b326b\" xlink:show=\"new\" xlink:title=\"psysml:6bb49afc-ac2c-47b7-b48e-5bd0a62b326b\" xlink:type=\"simple\"><polygon fill=\"#FFFFFF\" points=\"268,49,319,49,326,71.2969,419,71.2969,419,146,268,146,268,49\" style=\"stroke: #000000; stroke-width: 1.5;\"/><line style=\"stroke: #000000; stroke-width: 1.5;\" x1=\"268\" x2=\"326\" y1=\"71.2969\" y2=\"71.2969\"/><text fill=\"#000000\" font-family=\"sans-serif\" font-size=\"14\" font-weight=\"bold\" lengthAdjust=\"spacingAndGlyphs\" textLength=\"45\" x=\"272\" y=\"63.9951\">Test1</text></a><!--MD5=[7f149f147074ac12df2cb0a7728a5fb0]\n",
       "cluster E9--><a href=\"psysml:051bf7cb-81b8-4c37-8865-8bb7ea974985\" target=\"_top\" title=\"psysml:051bf7cb-81b8-4c37-8865-8bb7ea974985\" xlink:actuate=\"onRequest\" xlink:href=\"psysml:051bf7cb-81b8-4c37-8865-8bb7ea974985\" xlink:show=\"new\" xlink:title=\"psysml:051bf7cb-81b8-4c37-8865-8bb7ea974985\" xlink:type=\"simple\"><polygon fill=\"#FFFFFF\" points=\"93,49,144,49,151,71.2969,244,71.2969,244,146,93,146,93,49\" style=\"stroke: #000000; stroke-width: 1.5;\"/><line style=\"stroke: #000000; stroke-width: 1.5;\" x1=\"93\" x2=\"151\" y1=\"71.2969\" y2=\"71.2969\"/><text fill=\"#000000\" font-family=\"sans-serif\" font-size=\"14\" font-weight=\"bold\" lengthAdjust=\"spacingAndGlyphs\" textLength=\"45\" x=\"97\" y=\"63.9951\">Test2</text></a><!--MD5=[49a0ec8f00dab7302a31f22d0f0fe584]\n",
       "class E12--><a href=\"psysml:87edab01-bf58-4e9e-abd1-c8b0194f7dca\" target=\"_top\" title=\"psysml:87edab01-bf58-4e9e-abd1-c8b0194f7dca\" xlink:actuate=\"onRequest\" xlink:href=\"psysml:87edab01-bf58-4e9e-abd1-c8b0194f7dca\" xlink:show=\"new\" xlink:title=\"psysml:87edab01-bf58-4e9e-abd1-c8b0194f7dca\" xlink:type=\"simple\"><rect fill=\"#FFFFFF\" height=\"45.9375\" id=\"E12\" rx=\"10\" ry=\"10\" style=\"stroke: #383838; stroke-width: 1.5;\" width=\"42\" x=\"438\" y=\"84\"/><text fill=\"#000000\" font-family=\"sans-serif\" font-size=\"12\" font-style=\"italic\" lengthAdjust=\"spacingAndGlyphs\" textLength=\"40\" x=\"439\" y=\"100.1387\">«part»</text><text fill=\"#000000\" font-family=\"sans-serif\" font-size=\"12\" lengthAdjust=\"spacingAndGlyphs\" textLength=\"22\" x=\"448\" y=\"114.1074\">x: A</text><line style=\"stroke: #383838; stroke-width: 1.5;\" x1=\"439\" x2=\"479\" y1=\"121.9375\" y2=\"121.9375\"/></a><!--MD5=[ee3c913d1a06f366521f9ef512b67efe]\n",
       "class E13--><a href=\"psysml:20c5387a-1627-4e14-8312-6f39b31ab3f7\" target=\"_top\" title=\"psysml:20c5387a-1627-4e14-8312-6f39b31ab3f7\" xlink:actuate=\"onRequest\" xlink:href=\"psysml:20c5387a-1627-4e14-8312-6f39b31ab3f7\" xlink:show=\"new\" xlink:title=\"psysml:20c5387a-1627-4e14-8312-6f39b31ab3f7\" xlink:type=\"simple\"><rect fill=\"#FFFFFF\" height=\"45.9375\" id=\"E13\" rx=\"10\" ry=\"10\" style=\"stroke: #383838; stroke-width: 1.5;\" width=\"42\" x=\"32\" y=\"84\"/><text fill=\"#000000\" font-family=\"sans-serif\" font-size=\"12\" font-style=\"italic\" lengthAdjust=\"spacingAndGlyphs\" textLength=\"40\" x=\"33\" y=\"100.1387\">«part»</text><text fill=\"#000000\" font-family=\"sans-serif\" font-size=\"12\" lengthAdjust=\"spacingAndGlyphs\" textLength=\"22\" x=\"42\" y=\"114.1074\">y: B</text><line style=\"stroke: #383838; stroke-width: 1.5;\" x1=\"33\" x2=\"73\" y1=\"121.9375\" y2=\"121.9375\"/></a><!--MD5=[09b614a08d8cba4a07c9adeb5e0fee81]\n",
       "class E3--><a href=\"psysml:281245e6-0723-4878-ac57-c406fd778909\" target=\"_top\" title=\"psysml:281245e6-0723-4878-ac57-c406fd778909\" xlink:actuate=\"onRequest\" xlink:href=\"psysml:281245e6-0723-4878-ac57-c406fd778909\" xlink:show=\"new\" xlink:title=\"psysml:281245e6-0723-4878-ac57-c406fd778909\" xlink:type=\"simple\"><rect fill=\"#FFFFFF\" height=\"45.9375\" id=\"E3\" style=\"stroke: #383838; stroke-width: 1.5;\" width=\"66\" x=\"349\" y=\"205\"/><text fill=\"#000000\" font-family=\"sans-serif\" font-size=\"12\" font-style=\"italic\" lengthAdjust=\"spacingAndGlyphs\" textLength=\"64\" x=\"350\" y=\"221.1387\">«part def»</text><text fill=\"#000000\" font-family=\"sans-serif\" font-size=\"12\" lengthAdjust=\"spacingAndGlyphs\" textLength=\"8\" x=\"378\" y=\"235.1074\">A</text><line style=\"stroke: #383838; stroke-width: 1.5;\" x1=\"350\" x2=\"414\" y1=\"242.9375\" y2=\"242.9375\"/></a><!--MD5=[270fce915f116d4de14055a7c1d9a0f3]\n",
       "class E5--><a href=\"psysml:57665928-471f-4095-91e2-d839a960cf78\" target=\"_top\" title=\"psysml:57665928-471f-4095-91e2-d839a960cf78\" xlink:actuate=\"onRequest\" xlink:href=\"psysml:57665928-471f-4095-91e2-d839a960cf78\" xlink:show=\"new\" xlink:title=\"psysml:57665928-471f-4095-91e2-d839a960cf78\" xlink:type=\"simple\"><rect fill=\"#FFFFFF\" height=\"45.9375\" id=\"E5\" style=\"stroke: #383838; stroke-width: 1.5;\" width=\"66\" x=\"97\" y=\"205\"/><text fill=\"#000000\" font-family=\"sans-serif\" font-size=\"12\" font-style=\"italic\" lengthAdjust=\"spacingAndGlyphs\" textLength=\"64\" x=\"98\" y=\"221.1387\">«part def»</text><text fill=\"#000000\" font-family=\"sans-serif\" font-size=\"12\" lengthAdjust=\"spacingAndGlyphs\" textLength=\"8\" x=\"126\" y=\"235.1074\">B</text><line style=\"stroke: #383838; stroke-width: 1.5;\" x1=\"98\" x2=\"162\" y1=\"242.9375\" y2=\"242.9375\"/></a><!--MD5=[2156ba9850f5573cc1fc38a6a4b2f02b]\n",
       "class E7--><a href=\"psysml:d6e39b1a-8a39-4c69-85ab-aa8551443e08\" target=\"_top\" title=\"psysml:d6e39b1a-8a39-4c69-85ab-aa8551443e08\" xlink:actuate=\"onRequest\" xlink:href=\"psysml:d6e39b1a-8a39-4c69-85ab-aa8551443e08\" xlink:show=\"new\" xlink:title=\"psysml:d6e39b1a-8a39-4c69-85ab-aa8551443e08\" xlink:type=\"simple\"><rect fill=\"#FFFFFF\" height=\"45.9375\" id=\"E7\" rx=\"10\" ry=\"10\" style=\"stroke: #383838; stroke-width: 1.5;\" width=\"42\" x=\"361\" y=\"84\"/><text fill=\"#000000\" font-family=\"sans-serif\" font-size=\"12\" font-style=\"italic\" lengthAdjust=\"spacingAndGlyphs\" textLength=\"40\" x=\"362\" y=\"100.1387\">«part»</text><text fill=\"#000000\" font-family=\"sans-serif\" font-size=\"12\" lengthAdjust=\"spacingAndGlyphs\" textLength=\"22\" x=\"371\" y=\"114.1074\">x: A</text><line style=\"stroke: #383838; stroke-width: 1.5;\" x1=\"362\" x2=\"402\" y1=\"121.9375\" y2=\"121.9375\"/></a><!--MD5=[b9389687b975829384b498ac4b7476b2]\n",
       "class E8--><a href=\"psysml:ead6e64d-b294-4a2d-a1d8-90d3751f1490\" target=\"_top\" title=\"psysml:ead6e64d-b294-4a2d-a1d8-90d3751f1490\" xlink:actuate=\"onRequest\" xlink:href=\"psysml:ead6e64d-b294-4a2d-a1d8-90d3751f1490\" xlink:show=\"new\" xlink:title=\"psysml:ead6e64d-b294-4a2d-a1d8-90d3751f1490\" xlink:type=\"simple\"><rect fill=\"#FFFFFF\" height=\"45.9375\" id=\"E8\" rx=\"10\" ry=\"10\" style=\"stroke: #383838; stroke-width: 1.5;\" width=\"42\" x=\"284\" y=\"84\"/><text fill=\"#000000\" font-family=\"sans-serif\" font-size=\"12\" font-style=\"italic\" lengthAdjust=\"spacingAndGlyphs\" textLength=\"40\" x=\"285\" y=\"100.1387\">«part»</text><text fill=\"#000000\" font-family=\"sans-serif\" font-size=\"12\" lengthAdjust=\"spacingAndGlyphs\" textLength=\"22\" x=\"294\" y=\"114.1074\">y: B</text><line style=\"stroke: #383838; stroke-width: 1.5;\" x1=\"285\" x2=\"325\" y1=\"121.9375\" y2=\"121.9375\"/></a><!--MD5=[96f4274e9e20536e775497830990834d]\n",
       "class E10--><a href=\"psysml:f3cb1211-10b9-411e-bf19-d5722693e1fe\" target=\"_top\" title=\"psysml:f3cb1211-10b9-411e-bf19-d5722693e1fe\" xlink:actuate=\"onRequest\" xlink:href=\"psysml:f3cb1211-10b9-411e-bf19-d5722693e1fe\" xlink:show=\"new\" xlink:title=\"psysml:f3cb1211-10b9-411e-bf19-d5722693e1fe\" xlink:type=\"simple\"><rect fill=\"#FFFFFF\" height=\"45.9375\" id=\"E10\" rx=\"10\" ry=\"10\" style=\"stroke: #383838; stroke-width: 1.5;\" width=\"42\" x=\"186\" y=\"84\"/><text fill=\"#000000\" font-family=\"sans-serif\" font-size=\"12\" font-style=\"italic\" lengthAdjust=\"spacingAndGlyphs\" textLength=\"40\" x=\"187\" y=\"100.1387\">«part»</text><text fill=\"#000000\" font-family=\"sans-serif\" font-size=\"12\" lengthAdjust=\"spacingAndGlyphs\" textLength=\"22\" x=\"196\" y=\"114.1074\">x: A</text><line style=\"stroke: #383838; stroke-width: 1.5;\" x1=\"187\" x2=\"227\" y1=\"121.9375\" y2=\"121.9375\"/></a><!--MD5=[1dd1bfd58a279cf63c5f349dbc8fc6a1]\n",
       "class E11--><a href=\"psysml:9cdccab4-e502-4fbe-97eb-9b231d825ffa\" target=\"_top\" title=\"psysml:9cdccab4-e502-4fbe-97eb-9b231d825ffa\" xlink:actuate=\"onRequest\" xlink:href=\"psysml:9cdccab4-e502-4fbe-97eb-9b231d825ffa\" xlink:show=\"new\" xlink:title=\"psysml:9cdccab4-e502-4fbe-97eb-9b231d825ffa\" xlink:type=\"simple\"><rect fill=\"#FFFFFF\" height=\"45.9375\" id=\"E11\" rx=\"10\" ry=\"10\" style=\"stroke: #383838; stroke-width: 1.5;\" width=\"42\" x=\"109\" y=\"84\"/><text fill=\"#000000\" font-family=\"sans-serif\" font-size=\"12\" font-style=\"italic\" lengthAdjust=\"spacingAndGlyphs\" textLength=\"40\" x=\"110\" y=\"100.1387\">«part»</text><text fill=\"#000000\" font-family=\"sans-serif\" font-size=\"12\" lengthAdjust=\"spacingAndGlyphs\" textLength=\"22\" x=\"119\" y=\"114.1074\">y: B</text><line style=\"stroke: #383838; stroke-width: 1.5;\" x1=\"110\" x2=\"150\" y1=\"121.9375\" y2=\"121.9375\"/></a><!--MD5=[14ccda38c055a5c0da953d572bc50960]\n",
       "link E7 to E3--><a href=\"psysml:84278f38-d400-4655-8657-76a37dd9bb09\" target=\"_top\" title=\"psysml:84278f38-d400-4655-8657-76a37dd9bb09\" xlink:actuate=\"onRequest\" xlink:href=\"psysml:84278f38-d400-4655-8657-76a37dd9bb09\" xlink:show=\"new\" xlink:title=\"psysml:84278f38-d400-4655-8657-76a37dd9bb09\" xlink:type=\"simple\"><path d=\"M382,130.1 C382,145.37 382,166.16 382,184.57 \" fill=\"none\" id=\"E7-&gt;E3\" style=\"stroke: #383838; stroke-width: 1.0;\"/><polygon fill=\"#FFFFFF\" points=\"382,204.61,375,185.61,389,185.61,382,204.61\" style=\"stroke: #383838; stroke-width: 1.0;\"/><ellipse cx=\"377\" cy=\"179.91\" fill=\"#383838\" rx=\"2\" ry=\"2\" style=\"stroke: #383838; stroke-width: 1.0;\"/><ellipse cx=\"387\" cy=\"179.91\" fill=\"#383838\" rx=\"2\" ry=\"2\" style=\"stroke: #383838; stroke-width: 1.0;\"/></a><!--MD5=[1ccb2481ffa92f8d51a74ee30c51832a]\n",
       "link E8 to E5--><a href=\"psysml:9a62fcce-aa5a-49d2-8cac-0b2f538e5bd0\" target=\"_top\" title=\"psysml:9a62fcce-aa5a-49d2-8cac-0b2f538e5bd0\" xlink:actuate=\"onRequest\" xlink:href=\"psysml:9a62fcce-aa5a-49d2-8cac-0b2f538e5bd0\" xlink:show=\"new\" xlink:title=\"psysml:9a62fcce-aa5a-49d2-8cac-0b2f538e5bd0\" xlink:type=\"simple\"><path d=\"M283.84,124.59 C272.23,133.52 257.5,144.61 244,154 C223.51,168.25 200.41,183.24 180.38,195.91 \" fill=\"none\" id=\"E8-&gt;E5\" style=\"stroke: #383838; stroke-width: 1.0;\"/><polygon fill=\"#FFFFFF\" points=\"163.36,206.57,175.7353,190.5434,183.175,202.403,163.36,206.57\" style=\"stroke: #383838; stroke-width: 1.0;\"/><ellipse cx=\"181.6267\" cy=\"189.2086\" fill=\"#383838\" rx=\"2\" ry=\"2\" style=\"stroke: #383838; stroke-width: 1.0;\"/><ellipse cx=\"186.9408\" cy=\"197.6797\" fill=\"#383838\" rx=\"2\" ry=\"2\" style=\"stroke: #383838; stroke-width: 1.0;\"/></a><!--MD5=[feeac5eb423634930294aa81f2d25a4c]\n",
       "link E10 to E3--><a href=\"psysml:bd7260c7-b55a-4391-86f8-9493bae3bcdc\" target=\"_top\" title=\"psysml:bd7260c7-b55a-4391-86f8-9493bae3bcdc\" xlink:actuate=\"onRequest\" xlink:href=\"psysml:bd7260c7-b55a-4391-86f8-9493bae3bcdc\" xlink:show=\"new\" xlink:title=\"psysml:bd7260c7-b55a-4391-86f8-9493bae3bcdc\" xlink:type=\"simple\"><path d=\"M228.16,124.59 C239.77,133.52 254.5,144.61 268,154 C288.49,168.25 311.59,183.24 331.62,195.91 \" fill=\"none\" id=\"E10-&gt;E3\" style=\"stroke: #383838; stroke-width: 1.0;\"/><polygon fill=\"#FFFFFF\" points=\"348.64,206.57,328.825,202.403,336.2647,190.5434,348.64,206.57\" style=\"stroke: #383838; stroke-width: 1.0;\"/><ellipse cx=\"325.0592\" cy=\"197.6797\" fill=\"#383838\" rx=\"2\" ry=\"2\" style=\"stroke: #383838; stroke-width: 1.0;\"/><ellipse cx=\"330.3733\" cy=\"189.2086\" fill=\"#383838\" rx=\"2\" ry=\"2\" style=\"stroke: #383838; stroke-width: 1.0;\"/></a><!--MD5=[07b77f6f309248d16187045709d1c26e]\n",
       "link E11 to E5--><a href=\"psysml:099d00ce-a154-42ce-865e-6b31b35a0829\" target=\"_top\" title=\"psysml:099d00ce-a154-42ce-865e-6b31b35a0829\" xlink:actuate=\"onRequest\" xlink:href=\"psysml:099d00ce-a154-42ce-865e-6b31b35a0829\" xlink:show=\"new\" xlink:title=\"psysml:099d00ce-a154-42ce-865e-6b31b35a0829\" xlink:type=\"simple\"><path d=\"M130,130.1 C130,145.37 130,166.16 130,184.57 \" fill=\"none\" id=\"E11-&gt;E5\" style=\"stroke: #383838; stroke-width: 1.0;\"/><polygon fill=\"#FFFFFF\" points=\"130,204.61,123,185.61,137,185.61,130,204.61\" style=\"stroke: #383838; stroke-width: 1.0;\"/><ellipse cx=\"125\" cy=\"179.91\" fill=\"#383838\" rx=\"2\" ry=\"2\" style=\"stroke: #383838; stroke-width: 1.0;\"/><ellipse cx=\"135\" cy=\"179.91\" fill=\"#383838\" rx=\"2\" ry=\"2\" style=\"stroke: #383838; stroke-width: 1.0;\"/></a><!--MD5=[39f41a0e550fb3d73b4d8135617e30a2]\n",
       "link E12 to E3--><a href=\"psysml:2e0d72ae-9b36-4ac2-af7e-1d21d87eecf3\" target=\"_top\" title=\"psysml:2e0d72ae-9b36-4ac2-af7e-1d21d87eecf3\" xlink:actuate=\"onRequest\" xlink:href=\"psysml:2e0d72ae-9b36-4ac2-af7e-1d21d87eecf3\" xlink:show=\"new\" xlink:title=\"psysml:2e0d72ae-9b36-4ac2-af7e-1d21d87eecf3\" xlink:type=\"simple\"><path d=\"M444.7,130.1 C434.28,146.2 419.89,168.44 407.53,187.55 \" fill=\"none\" id=\"E12-&gt;E3\" style=\"stroke: #383838; stroke-width: 1.0;\"/><polygon fill=\"#FFFFFF\" points=\"396.49,204.61,400.9313,184.8546,412.6866,192.4581,396.49,204.61\" style=\"stroke: #383838; stroke-width: 1.0;\"/><ellipse cx=\"405.7063\" cy=\"181.1547\" fill=\"#383838\" rx=\"2\" ry=\"2\" style=\"stroke: #383838; stroke-width: 1.0;\"/><ellipse cx=\"414.103\" cy=\"186.5858\" fill=\"#383838\" rx=\"2\" ry=\"2\" style=\"stroke: #383838; stroke-width: 1.0;\"/></a><!--MD5=[066b2d8af59fea80ccdb3d54ad5c1091]\n",
       "link E13 to E5--><a href=\"psysml:28c76814-e954-4c97-b716-40e2f6813c6b\" target=\"_top\" title=\"psysml:28c76814-e954-4c97-b716-40e2f6813c6b\" xlink:actuate=\"onRequest\" xlink:href=\"psysml:28c76814-e954-4c97-b716-40e2f6813c6b\" xlink:show=\"new\" xlink:title=\"psysml:28c76814-e954-4c97-b716-40e2f6813c6b\" xlink:type=\"simple\"><path d=\"M67.3,130.1 C77.72,146.2 92.11,168.44 104.47,187.55 \" fill=\"none\" id=\"E13-&gt;E5\" style=\"stroke: #383838; stroke-width: 1.0;\"/><polygon fill=\"#FFFFFF\" points=\"115.51,204.61,99.3134,192.4581,111.0687,184.8546,115.51,204.61\" style=\"stroke: #383838; stroke-width: 1.0;\"/><ellipse cx=\"97.897\" cy=\"186.5858\" fill=\"#383838\" rx=\"2\" ry=\"2\" style=\"stroke: #383838; stroke-width: 1.0;\"/><ellipse cx=\"106.2937\" cy=\"181.1547\" fill=\"#383838\" rx=\"2\" ry=\"2\" style=\"stroke: #383838; stroke-width: 1.0;\"/></a><!--MD5=[9d6e8e2f8874dcedb9a810b54b97bf61]\n",
       "@startuml\r\n",
       "top to bottom direction\r\n",
       "skinparam monochrome true\r\n",
       "skinparam classbackgroundcolor white\r\n",
       "skinparam shadowing false\r\n",
       "skinparam wrapWidth 300\r\n",
       "hide circle\r\n",
       "\r\n",
       "package \"CircularImport\" as E1  [[psysml:690cd2ec-4fe7-4d94-89bf-c3d63ed60cd3 ]]  {\r\n",
       "package \"P1\" as E2  [[psysml:54e3154d-4fa4-4c14-a367-edca149a76a1 ]]  {\r\n",
       "comp def \"A\" as E3  <<(T,blue)part def>> [[psysml:281245e6-0723-4878-ac57-c406fd778909 ]] {\r\n",
       "}\r\n",
       "}\r\n",
       "package \"P2\" as E4  [[psysml:581c4a9e-fb07-4d80-ac64-c8c7b70027d2 ]]  {\r\n",
       "comp def \"B\" as E5  <<(T,blue)part def>> [[psysml:57665928-471f-4095-91e2-d839a960cf78 ]] {\r\n",
       "}\r\n",
       "}\r\n",
       "package \"Test1\" as E6  [[psysml:6bb49afc-ac2c-47b7-b48e-5bd0a62b326b ]]  {\r\n",
       "comp usage \"x: A\" as E7  <<(T,blue)part>> [[psysml:d6e39b1a-8a39-4c69-85ab-aa8551443e08 ]] {\r\n",
       "}\r\n",
       "comp usage \"y: B\" as E8  <<(T,blue)part>> [[psysml:ead6e64d-b294-4a2d-a1d8-90d3751f1490 ]] {\r\n",
       "}\r\n",
       "E7 - -:|> E3 [[psysml:84278f38-d400-4655-8657-76a37dd9bb09 ]] \r\n",
       "E8 - -:|> E5 [[psysml:9a62fcce-aa5a-49d2-8cac-0b2f538e5bd0 ]] \r\n",
       "}\r\n",
       "package \"Test2\" as E9  [[psysml:051bf7cb-81b8-4c37-8865-8bb7ea974985 ]]  {\r\n",
       "comp usage \"x: A\" as E10  <<(T,blue)part>> [[psysml:f3cb1211-10b9-411e-bf19-d5722693e1fe ]] {\r\n",
       "}\r\n",
       "comp usage \"y: B\" as E11  <<(T,blue)part>> [[psysml:9cdccab4-e502-4fbe-97eb-9b231d825ffa ]] {\r\n",
       "}\r\n",
       "E10 - -:|> E3 [[psysml:bd7260c7-b55a-4391-86f8-9493bae3bcdc ]] \r\n",
       "E11 - -:|> E5 [[psysml:099d00ce-a154-42ce-865e-6b31b35a0829 ]] \r\n",
       "}\r\n",
       "comp usage \"x: A\" as E12  <<(T,blue)part>> [[psysml:87edab01-bf58-4e9e-abd1-c8b0194f7dca ]] {\r\n",
       "}\r\n",
       "comp usage \"y: B\" as E13  <<(T,blue)part>> [[psysml:20c5387a-1627-4e14-8312-6f39b31ab3f7 ]] {\r\n",
       "}\r\n",
       "E12 - -:|> E3 [[psysml:2e0d72ae-9b36-4ac2-af7e-1d21d87eecf3 ]] \r\n",
       "E13 - -:|> E5 [[psysml:28c76814-e954-4c97-b716-40e2f6813c6b ]] \r\n",
       "}\r\n",
       "@enduml\r\n",
       "\n",
       "PlantUML version 1.2020.13(Sat Jun 13 12:26:38 UTC 2020)\n",
       "(EPL source distribution)\n",
       "Java Runtime: OpenJDK Runtime Environment\n",
       "JVM: OpenJDK 64-Bit Server VM\n",
       "Default Encoding: UTF-8\n",
       "Language: en\n",
       "Country: null\n",
       "--></g></svg>"
      ]
     },
     "execution_count": 45,
     "metadata": {},
     "output_type": "execute_result"
    }
   ],
   "source": [
    "%viz --style=\"TB\" --view=\"Tree\" \"CircularImport\""
   ]
  },
  {
   "cell_type": "code",
   "execution_count": 46,
   "id": "139de50d",
   "metadata": {
    "execution": {
     "iopub.execute_input": "2021-04-20T06:57:55.328217Z",
     "iopub.status.busy": "2021-04-20T06:57:55.327779Z",
     "iopub.status.idle": "2021-04-20T06:57:55.334202Z",
     "shell.execute_reply": "2021-04-20T06:57:55.333276Z"
    }
   },
   "outputs": [
    {
     "data": {
      "image/svg+xml": [
       "<?xml version=\"1.0\" encoding=\"UTF-8\" standalone=\"no\"?><svg xmlns=\"http://www.w3.org/2000/svg\" xmlns:xlink=\"http://www.w3.org/1999/xlink\" contentScriptType=\"application/ecmascript\" contentStyleType=\"text/css\" height=\"12px\" preserveAspectRatio=\"none\" style=\"width:12px;height:12px;\" version=\"1.1\" viewBox=\"0 0 12 12\" width=\"12px\" zoomAndPan=\"magnify\"><defs/><g><!--MD5=[f4ee21bc66e489b5061b7c3e9601fdef]\n",
       "@startuml\r\n",
       "top to bottom direction\r\n",
       "skinparam monochrome true\r\n",
       "skinparam classbackgroundcolor white\r\n",
       "skinparam shadowing false\r\n",
       "skinparam wrapWidth 300\r\n",
       "hide circle\r\n",
       "\r\n",
       "@enduml\r\n",
       "\n",
       "PlantUML version 1.2020.13(Sat Jun 13 12:26:38 UTC 2020)\n",
       "(EPL source distribution)\n",
       "Java Runtime: OpenJDK Runtime Environment\n",
       "JVM: OpenJDK 64-Bit Server VM\n",
       "Default Encoding: UTF-8\n",
       "Language: en\n",
       "Country: null\n",
       "--></g></svg>"
      ]
     },
     "execution_count": 46,
     "metadata": {},
     "output_type": "execute_result"
    }
   ],
   "source": [
    "%viz --style=\"TB\" --view=\"State\" \"CircularImport\""
   ]
  },
  {
   "cell_type": "code",
   "execution_count": 47,
   "id": "88676fcd",
   "metadata": {
    "execution": {
     "iopub.execute_input": "2021-04-20T06:57:55.385819Z",
     "iopub.status.busy": "2021-04-20T06:57:55.385161Z",
     "iopub.status.idle": "2021-04-20T06:57:55.416877Z",
     "shell.execute_reply": "2021-04-20T06:57:55.416076Z"
    }
   },
   "outputs": [
    {
     "data": {
      "image/svg+xml": [
       "<?xml version=\"1.0\" encoding=\"UTF-8\" standalone=\"no\"?><svg xmlns=\"http://www.w3.org/2000/svg\" xmlns:xlink=\"http://www.w3.org/1999/xlink\" contentScriptType=\"application/ecmascript\" contentStyleType=\"text/css\" height=\"179px\" preserveAspectRatio=\"none\" style=\"width:846px;height:179px;\" version=\"1.1\" viewBox=\"0 0 846 179\" width=\"846px\" zoomAndPan=\"magnify\"><defs/><g><!--MD5=[fbc87193dbaf4d95561dea2c320d4a47]\n",
       "cluster E1--><a href=\"psysml:690cd2ec-4fe7-4d94-89bf-c3d63ed60cd3\" target=\"_top\" title=\"psysml:690cd2ec-4fe7-4d94-89bf-c3d63ed60cd3\" xlink:actuate=\"onRequest\" xlink:href=\"psysml:690cd2ec-4fe7-4d94-89bf-c3d63ed60cd3\" xlink:show=\"new\" xlink:title=\"psysml:690cd2ec-4fe7-4d94-89bf-c3d63ed60cd3\" xlink:type=\"simple\"><polygon fill=\"#FFFFFF\" points=\"16,6,134,6,141,28.2969,824,28.2969,824,167,16,167,16,6\" style=\"stroke: #000000; stroke-width: 1.5;\"/><line style=\"stroke: #000000; stroke-width: 1.5;\" x1=\"16\" x2=\"141\" y1=\"28.2969\" y2=\"28.2969\"/><text fill=\"#000000\" font-family=\"sans-serif\" font-size=\"14\" font-weight=\"bold\" lengthAdjust=\"spacingAndGlyphs\" textLength=\"112\" x=\"20\" y=\"20.9951\">CircularImport</text></a><!--MD5=[e4f7fae6ed58524ba242bb0b0d3be6b7]\n",
       "cluster E2--><a href=\"psysml:54e3154d-4fa4-4c14-a367-edca149a76a1\" target=\"_top\" title=\"psysml:54e3154d-4fa4-4c14-a367-edca149a76a1\" xlink:actuate=\"onRequest\" xlink:href=\"psysml:54e3154d-4fa4-4c14-a367-edca149a76a1\" xlink:show=\"new\" xlink:title=\"psysml:54e3154d-4fa4-4c14-a367-edca149a76a1\" xlink:type=\"simple\"><polygon fill=\"#FFFFFF\" points=\"696,49,722,49,729,71.2969,800,71.2969,800,143,696,143,696,49\" style=\"stroke: #000000; stroke-width: 1.5;\"/><line style=\"stroke: #000000; stroke-width: 1.5;\" x1=\"696\" x2=\"729\" y1=\"71.2969\" y2=\"71.2969\"/><text fill=\"#000000\" font-family=\"sans-serif\" font-size=\"14\" font-weight=\"bold\" lengthAdjust=\"spacingAndGlyphs\" textLength=\"20\" x=\"700\" y=\"63.9951\">P1</text></a><!--MD5=[f6df4d0ebaf0b5dfb2ced0ae5af7c670]\n",
       "cluster E4--><a href=\"psysml:581c4a9e-fb07-4d80-ac64-c8c7b70027d2\" target=\"_top\" title=\"psysml:581c4a9e-fb07-4d80-ac64-c8c7b70027d2\" xlink:actuate=\"onRequest\" xlink:href=\"psysml:581c4a9e-fb07-4d80-ac64-c8c7b70027d2\" xlink:show=\"new\" xlink:title=\"psysml:581c4a9e-fb07-4d80-ac64-c8c7b70027d2\" xlink:type=\"simple\"><polygon fill=\"#FFFFFF\" points=\"568,49,594,49,601,71.2969,672,71.2969,672,143,568,143,568,49\" style=\"stroke: #000000; stroke-width: 1.5;\"/><line style=\"stroke: #000000; stroke-width: 1.5;\" x1=\"568\" x2=\"601\" y1=\"71.2969\" y2=\"71.2969\"/><text fill=\"#000000\" font-family=\"sans-serif\" font-size=\"14\" font-weight=\"bold\" lengthAdjust=\"spacingAndGlyphs\" textLength=\"20\" x=\"572\" y=\"63.9951\">P2</text></a><!--MD5=[14e3b0961a2654348d326746436168a1]\n",
       "cluster E6--><a href=\"psysml:6bb49afc-ac2c-47b7-b48e-5bd0a62b326b\" target=\"_top\" title=\"psysml:6bb49afc-ac2c-47b7-b48e-5bd0a62b326b\" xlink:actuate=\"onRequest\" xlink:href=\"psysml:6bb49afc-ac2c-47b7-b48e-5bd0a62b326b\" xlink:show=\"new\" xlink:title=\"psysml:6bb49afc-ac2c-47b7-b48e-5bd0a62b326b\" xlink:type=\"simple\"><polygon fill=\"#FFFFFF\" points=\"377,50.5,428,50.5,435,72.7969,544,72.7969,544,141.5,377,141.5,377,50.5\" style=\"stroke: #000000; stroke-width: 1.5;\"/><line style=\"stroke: #000000; stroke-width: 1.5;\" x1=\"377\" x2=\"435\" y1=\"72.7969\" y2=\"72.7969\"/><text fill=\"#000000\" font-family=\"sans-serif\" font-size=\"14\" font-weight=\"bold\" lengthAdjust=\"spacingAndGlyphs\" textLength=\"45\" x=\"381\" y=\"65.4951\">Test1</text></a><!--MD5=[7f149f147074ac12df2cb0a7728a5fb0]\n",
       "cluster E9--><a href=\"psysml:051bf7cb-81b8-4c37-8865-8bb7ea974985\" target=\"_top\" title=\"psysml:051bf7cb-81b8-4c37-8865-8bb7ea974985\" xlink:actuate=\"onRequest\" xlink:href=\"psysml:051bf7cb-81b8-4c37-8865-8bb7ea974985\" xlink:show=\"new\" xlink:title=\"psysml:051bf7cb-81b8-4c37-8865-8bb7ea974985\" xlink:type=\"simple\"><polygon fill=\"#FFFFFF\" points=\"186,50.5,237,50.5,244,72.7969,353,72.7969,353,141.5,186,141.5,186,50.5\" style=\"stroke: #000000; stroke-width: 1.5;\"/><line style=\"stroke: #000000; stroke-width: 1.5;\" x1=\"186\" x2=\"244\" y1=\"72.7969\" y2=\"72.7969\"/><text fill=\"#000000\" font-family=\"sans-serif\" font-size=\"14\" font-weight=\"bold\" lengthAdjust=\"spacingAndGlyphs\" textLength=\"45\" x=\"190\" y=\"65.4951\">Test2</text></a><g id=\"E1.E2.E3\"><a href=\"psysml:281245e6-0723-4878-ac57-c406fd778909\" target=\"_top\" title=\"psysml:281245e6-0723-4878-ac57-c406fd778909\" xlink:actuate=\"onRequest\" xlink:href=\"psysml:281245e6-0723-4878-ac57-c406fd778909\" xlink:show=\"new\" xlink:title=\"psysml:281245e6-0723-4878-ac57-c406fd778909\" xlink:type=\"simple\"><rect fill=\"#FFFFFF\" height=\"42.9375\" id=\"E3\" style=\"stroke: #383838; stroke-width: 1.5;\" width=\"71\" x=\"712.5\" y=\"84\"/><rect fill=\"#F8F8F8\" height=\"37.9375\" style=\"stroke: #383838; stroke-width: 1.5;\" width=\"71\" x=\"712.5\" y=\"84\"/><text fill=\"#000000\" font-family=\"sans-serif\" font-size=\"12\" font-style=\"italic\" lengthAdjust=\"spacingAndGlyphs\" textLength=\"64\" x=\"716\" y=\"100.1387\">«part def»</text><text fill=\"#000000\" font-family=\"sans-serif\" font-size=\"12\" lengthAdjust=\"spacingAndGlyphs\" textLength=\"8\" x=\"744\" y=\"114.1074\">A</text></a></g><g id=\"E1.E4.E5\"><a href=\"psysml:57665928-471f-4095-91e2-d839a960cf78\" target=\"_top\" title=\"psysml:57665928-471f-4095-91e2-d839a960cf78\" xlink:actuate=\"onRequest\" xlink:href=\"psysml:57665928-471f-4095-91e2-d839a960cf78\" xlink:show=\"new\" xlink:title=\"psysml:57665928-471f-4095-91e2-d839a960cf78\" xlink:type=\"simple\"><rect fill=\"#FFFFFF\" height=\"42.9375\" id=\"E5\" style=\"stroke: #383838; stroke-width: 1.5;\" width=\"71\" x=\"584.5\" y=\"84\"/><rect fill=\"#F8F8F8\" height=\"37.9375\" style=\"stroke: #383838; stroke-width: 1.5;\" width=\"71\" x=\"584.5\" y=\"84\"/><text fill=\"#000000\" font-family=\"sans-serif\" font-size=\"12\" font-style=\"italic\" lengthAdjust=\"spacingAndGlyphs\" textLength=\"64\" x=\"588\" y=\"100.1387\">«part def»</text><text fill=\"#000000\" font-family=\"sans-serif\" font-size=\"12\" lengthAdjust=\"spacingAndGlyphs\" textLength=\"8\" x=\"616\" y=\"114.1074\">B</text></a></g><g id=\"E1.E6.E7\"><a href=\"psysml:d6e39b1a-8a39-4c69-85ab-aa8551443e08\" target=\"_top\" title=\"psysml:d6e39b1a-8a39-4c69-85ab-aa8551443e08\" xlink:actuate=\"onRequest\" xlink:href=\"psysml:d6e39b1a-8a39-4c69-85ab-aa8551443e08\" xlink:show=\"new\" xlink:title=\"psysml:d6e39b1a-8a39-4c69-85ab-aa8551443e08\" xlink:type=\"simple\"><rect fill=\"#FFFFFF\" height=\"40\" id=\"E7\" rx=\"10\" ry=\"10\" style=\"stroke: #383838; stroke-width: 1.5;\" width=\"50\" x=\"478\" y=\"85.5\"/><rect fill=\"#F8F8F8\" height=\"23.9688\" rx=\"10\" ry=\"10\" style=\"stroke: #F8F8F8; stroke-width: 1.5;\" width=\"50\" x=\"478\" y=\"85.5\"/><rect fill=\"#F8F8F8\" height=\"10\" style=\"stroke: #F8F8F8; stroke-width: 1.5;\" width=\"50\" x=\"478\" y=\"99.4688\"/><rect fill=\"none\" height=\"40\" id=\"E7\" rx=\"10\" ry=\"10\" style=\"stroke: #383838; stroke-width: 1.5;\" width=\"50\" x=\"478\" y=\"85.5\"/><text fill=\"#000000\" font-family=\"sans-serif\" font-size=\"12\" lengthAdjust=\"spacingAndGlyphs\" textLength=\"22\" x=\"492\" y=\"101.6387\">x: A</text></a></g><g id=\"E1.E6.E8\"><a href=\"psysml:ead6e64d-b294-4a2d-a1d8-90d3751f1490\" target=\"_top\" title=\"psysml:ead6e64d-b294-4a2d-a1d8-90d3751f1490\" xlink:actuate=\"onRequest\" xlink:href=\"psysml:ead6e64d-b294-4a2d-a1d8-90d3751f1490\" xlink:show=\"new\" xlink:title=\"psysml:ead6e64d-b294-4a2d-a1d8-90d3751f1490\" xlink:type=\"simple\"><rect fill=\"#FFFFFF\" height=\"40\" id=\"E8\" rx=\"10\" ry=\"10\" style=\"stroke: #383838; stroke-width: 1.5;\" width=\"50\" x=\"393\" y=\"85.5\"/><rect fill=\"#F8F8F8\" height=\"23.9688\" rx=\"10\" ry=\"10\" style=\"stroke: #F8F8F8; stroke-width: 1.5;\" width=\"50\" x=\"393\" y=\"85.5\"/><rect fill=\"#F8F8F8\" height=\"10\" style=\"stroke: #F8F8F8; stroke-width: 1.5;\" width=\"50\" x=\"393\" y=\"99.4688\"/><rect fill=\"none\" height=\"40\" id=\"E8\" rx=\"10\" ry=\"10\" style=\"stroke: #383838; stroke-width: 1.5;\" width=\"50\" x=\"393\" y=\"85.5\"/><text fill=\"#000000\" font-family=\"sans-serif\" font-size=\"12\" lengthAdjust=\"spacingAndGlyphs\" textLength=\"22\" x=\"407\" y=\"101.6387\">y: B</text></a></g><g id=\"E1.E9.E10\"><a href=\"psysml:f3cb1211-10b9-411e-bf19-d5722693e1fe\" target=\"_top\" title=\"psysml:f3cb1211-10b9-411e-bf19-d5722693e1fe\" xlink:actuate=\"onRequest\" xlink:href=\"psysml:f3cb1211-10b9-411e-bf19-d5722693e1fe\" xlink:show=\"new\" xlink:title=\"psysml:f3cb1211-10b9-411e-bf19-d5722693e1fe\" xlink:type=\"simple\"><rect fill=\"#FFFFFF\" height=\"40\" id=\"E10\" rx=\"10\" ry=\"10\" style=\"stroke: #383838; stroke-width: 1.5;\" width=\"50\" x=\"287\" y=\"85.5\"/><rect fill=\"#F8F8F8\" height=\"23.9688\" rx=\"10\" ry=\"10\" style=\"stroke: #F8F8F8; stroke-width: 1.5;\" width=\"50\" x=\"287\" y=\"85.5\"/><rect fill=\"#F8F8F8\" height=\"10\" style=\"stroke: #F8F8F8; stroke-width: 1.5;\" width=\"50\" x=\"287\" y=\"99.4688\"/><rect fill=\"none\" height=\"40\" id=\"E10\" rx=\"10\" ry=\"10\" style=\"stroke: #383838; stroke-width: 1.5;\" width=\"50\" x=\"287\" y=\"85.5\"/><text fill=\"#000000\" font-family=\"sans-serif\" font-size=\"12\" lengthAdjust=\"spacingAndGlyphs\" textLength=\"22\" x=\"301\" y=\"101.6387\">x: A</text></a></g><g id=\"E1.E9.E11\"><a href=\"psysml:9cdccab4-e502-4fbe-97eb-9b231d825ffa\" target=\"_top\" title=\"psysml:9cdccab4-e502-4fbe-97eb-9b231d825ffa\" xlink:actuate=\"onRequest\" xlink:href=\"psysml:9cdccab4-e502-4fbe-97eb-9b231d825ffa\" xlink:show=\"new\" xlink:title=\"psysml:9cdccab4-e502-4fbe-97eb-9b231d825ffa\" xlink:type=\"simple\"><rect fill=\"#FFFFFF\" height=\"40\" id=\"E11\" rx=\"10\" ry=\"10\" style=\"stroke: #383838; stroke-width: 1.5;\" width=\"50\" x=\"202\" y=\"85.5\"/><rect fill=\"#F8F8F8\" height=\"23.9688\" rx=\"10\" ry=\"10\" style=\"stroke: #F8F8F8; stroke-width: 1.5;\" width=\"50\" x=\"202\" y=\"85.5\"/><rect fill=\"#F8F8F8\" height=\"10\" style=\"stroke: #F8F8F8; stroke-width: 1.5;\" width=\"50\" x=\"202\" y=\"99.4688\"/><rect fill=\"none\" height=\"40\" id=\"E11\" rx=\"10\" ry=\"10\" style=\"stroke: #383838; stroke-width: 1.5;\" width=\"50\" x=\"202\" y=\"85.5\"/><text fill=\"#000000\" font-family=\"sans-serif\" font-size=\"12\" lengthAdjust=\"spacingAndGlyphs\" textLength=\"22\" x=\"216\" y=\"101.6387\">y: B</text></a></g><g id=\"E1.E12\"><a href=\"psysml:87edab01-bf58-4e9e-abd1-c8b0194f7dca\" target=\"_top\" title=\"psysml:87edab01-bf58-4e9e-abd1-c8b0194f7dca\" xlink:actuate=\"onRequest\" xlink:href=\"psysml:87edab01-bf58-4e9e-abd1-c8b0194f7dca\" xlink:show=\"new\" xlink:title=\"psysml:87edab01-bf58-4e9e-abd1-c8b0194f7dca\" xlink:type=\"simple\"><rect fill=\"#FFFFFF\" height=\"40\" id=\"E12\" rx=\"10\" ry=\"10\" style=\"stroke: #383838; stroke-width: 1.5;\" width=\"50\" x=\"117\" y=\"85.5\"/><rect fill=\"#F8F8F8\" height=\"23.9688\" rx=\"10\" ry=\"10\" style=\"stroke: #F8F8F8; stroke-width: 1.5;\" width=\"50\" x=\"117\" y=\"85.5\"/><rect fill=\"#F8F8F8\" height=\"10\" style=\"stroke: #F8F8F8; stroke-width: 1.5;\" width=\"50\" x=\"117\" y=\"99.4688\"/><rect fill=\"none\" height=\"40\" id=\"E12\" rx=\"10\" ry=\"10\" style=\"stroke: #383838; stroke-width: 1.5;\" width=\"50\" x=\"117\" y=\"85.5\"/><text fill=\"#000000\" font-family=\"sans-serif\" font-size=\"12\" lengthAdjust=\"spacingAndGlyphs\" textLength=\"22\" x=\"131\" y=\"101.6387\">x: A</text></a></g><g id=\"E1.E13\"><a href=\"psysml:20c5387a-1627-4e14-8312-6f39b31ab3f7\" target=\"_top\" title=\"psysml:20c5387a-1627-4e14-8312-6f39b31ab3f7\" xlink:actuate=\"onRequest\" xlink:href=\"psysml:20c5387a-1627-4e14-8312-6f39b31ab3f7\" xlink:show=\"new\" xlink:title=\"psysml:20c5387a-1627-4e14-8312-6f39b31ab3f7\" xlink:type=\"simple\"><rect fill=\"#FFFFFF\" height=\"40\" id=\"E13\" rx=\"10\" ry=\"10\" style=\"stroke: #383838; stroke-width: 1.5;\" width=\"50\" x=\"32\" y=\"85.5\"/><rect fill=\"#F8F8F8\" height=\"23.9688\" rx=\"10\" ry=\"10\" style=\"stroke: #F8F8F8; stroke-width: 1.5;\" width=\"50\" x=\"32\" y=\"85.5\"/><rect fill=\"#F8F8F8\" height=\"10\" style=\"stroke: #F8F8F8; stroke-width: 1.5;\" width=\"50\" x=\"32\" y=\"99.4688\"/><rect fill=\"none\" height=\"40\" id=\"E13\" rx=\"10\" ry=\"10\" style=\"stroke: #383838; stroke-width: 1.5;\" width=\"50\" x=\"32\" y=\"85.5\"/><text fill=\"#000000\" font-family=\"sans-serif\" font-size=\"12\" lengthAdjust=\"spacingAndGlyphs\" textLength=\"22\" x=\"46\" y=\"101.6387\">y: B</text></a></g><!--MD5=[ceb4489c7734c0c439991e1ca0c5433f]\n",
       "@startuml\r\n",
       "skinparam ranksep 10\r\n",
       "skinparam rectangle {\r\n",
       " backgroundColor<<block>> LightGreen\r\n",
       "}\r\n",
       "top to bottom direction\r\n",
       "skinparam monochrome true\r\n",
       "skinparam classbackgroundcolor white\r\n",
       "skinparam shadowing false\r\n",
       "skinparam wrapWidth 300\r\n",
       "hide circle\r\n",
       "\r\n",
       "package \"CircularImport\" as E1  [[psysml:690cd2ec-4fe7-4d94-89bf-c3d63ed60cd3 ]]  {\r\n",
       "package \"P1\" as E2  [[psysml:54e3154d-4fa4-4c14-a367-edca149a76a1 ]]  {\r\n",
       "rec def \"A\" as E3  <<(T,blue)part def>> [[psysml:281245e6-0723-4878-ac57-c406fd778909 ]] {\r\n",
       "}\r\n",
       "}\r\n",
       "package \"P2\" as E4  [[psysml:581c4a9e-fb07-4d80-ac64-c8c7b70027d2 ]]  {\r\n",
       "rec def \"B\" as E5  <<(T,blue)part def>> [[psysml:57665928-471f-4095-91e2-d839a960cf78 ]] {\r\n",
       "}\r\n",
       "}\r\n",
       "package \"Test1\" as E6  [[psysml:6bb49afc-ac2c-47b7-b48e-5bd0a62b326b ]]  {\r\n",
       "rec usage \"x: A\" as E7  [[psysml:d6e39b1a-8a39-4c69-85ab-aa8551443e08 ]] {\r\n",
       "}\r\n",
       "rec usage \"y: B\" as E8  [[psysml:ead6e64d-b294-4a2d-a1d8-90d3751f1490 ]] {\r\n",
       "}\r\n",
       "}\r\n",
       "package \"Test2\" as E9  [[psysml:051bf7cb-81b8-4c37-8865-8bb7ea974985 ]]  {\r\n",
       "rec usage \"x: A\" as E10  [[psysml:f3cb1211-10b9-411e-bf19-d5722693e1fe ]] {\r\n",
       "}\r\n",
       "rec usage \"y: B\" as E11  [[psysml:9cdccab4-e502-4fbe-97eb-9b231d825ffa ]] {\r\n",
       "}\r\n",
       "}\r\n",
       "rec usage \"x: A\" as E12  [[psysml:87edab01-bf58-4e9e-abd1-c8b0194f7dca ]] {\r\n",
       "}\r\n",
       "rec usage \"y: B\" as E13  [[psysml:20c5387a-1627-4e14-8312-6f39b31ab3f7 ]] {\r\n",
       "}\r\n",
       "}\r\n",
       "@enduml\r\n",
       "\n",
       "PlantUML version 1.2020.13(Sat Jun 13 12:26:38 UTC 2020)\n",
       "(EPL source distribution)\n",
       "Java Runtime: OpenJDK Runtime Environment\n",
       "JVM: OpenJDK 64-Bit Server VM\n",
       "Default Encoding: UTF-8\n",
       "Language: en\n",
       "Country: null\n",
       "--></g></svg>"
      ]
     },
     "execution_count": 47,
     "metadata": {},
     "output_type": "execute_result"
    }
   ],
   "source": [
    "%viz --style=\"TB\" --view=\"Interconnection\" \"CircularImport\""
   ]
  },
  {
   "cell_type": "code",
   "execution_count": 48,
   "id": "2f0107db",
   "metadata": {
    "execution": {
     "iopub.execute_input": "2021-04-20T06:57:55.469130Z",
     "iopub.status.busy": "2021-04-20T06:57:55.468574Z",
     "iopub.status.idle": "2021-04-20T06:57:55.474206Z",
     "shell.execute_reply": "2021-04-20T06:57:55.473841Z"
    }
   },
   "outputs": [
    {
     "data": {
      "image/svg+xml": [
       "<?xml version=\"1.0\" encoding=\"UTF-8\" standalone=\"no\"?><svg xmlns=\"http://www.w3.org/2000/svg\" xmlns:xlink=\"http://www.w3.org/1999/xlink\" contentScriptType=\"application/ecmascript\" contentStyleType=\"text/css\" height=\"12px\" preserveAspectRatio=\"none\" style=\"width:12px;height:12px;\" version=\"1.1\" viewBox=\"0 0 12 12\" width=\"12px\" zoomAndPan=\"magnify\"><defs/><g><!--MD5=[06afc254b03ac5e9d9fb7773b07d0800]\n",
       "@startuml\r\n",
       "skinparam ranksep 8\r\n",
       "top to bottom direction\r\n",
       "skinparam monochrome true\r\n",
       "skinparam classbackgroundcolor white\r\n",
       "skinparam shadowing false\r\n",
       "skinparam wrapWidth 300\r\n",
       "hide circle\r\n",
       "\r\n",
       "@enduml\r\n",
       "\n",
       "PlantUML version 1.2020.13(Sat Jun 13 12:26:38 UTC 2020)\n",
       "(EPL source distribution)\n",
       "Java Runtime: OpenJDK Runtime Environment\n",
       "JVM: OpenJDK 64-Bit Server VM\n",
       "Default Encoding: UTF-8\n",
       "Language: en\n",
       "Country: null\n",
       "--></g></svg>"
      ]
     },
     "execution_count": 48,
     "metadata": {},
     "output_type": "execute_result"
    }
   ],
   "source": [
    "%viz --style=\"TB\" --view=\"Action\" \"CircularImport\""
   ]
  },
  {
   "cell_type": "code",
   "execution_count": 49,
   "id": "4a2d9771",
   "metadata": {
    "execution": {
     "iopub.execute_input": "2021-04-20T06:57:55.526493Z",
     "iopub.status.busy": "2021-04-20T06:57:55.526104Z",
     "iopub.status.idle": "2021-04-20T06:57:55.580582Z",
     "shell.execute_reply": "2021-04-20T06:57:55.578844Z"
    }
   },
   "outputs": [
    {
     "data": {
      "image/svg+xml": [
       "<?xml version=\"1.0\" encoding=\"UTF-8\" standalone=\"no\"?><svg xmlns=\"http://www.w3.org/2000/svg\" xmlns:xlink=\"http://www.w3.org/1999/xlink\" contentScriptType=\"application/ecmascript\" contentStyleType=\"text/css\" height=\"303px\" preserveAspectRatio=\"none\" style=\"width:518px;height:303px;\" version=\"1.1\" viewBox=\"0 0 518 303\" width=\"518px\" zoomAndPan=\"magnify\"><defs/><g><!--MD5=[fbc87193dbaf4d95561dea2c320d4a47]\n",
       "cluster E1--><a href=\"psysml:690cd2ec-4fe7-4d94-89bf-c3d63ed60cd3\" target=\"_top\" title=\"psysml:690cd2ec-4fe7-4d94-89bf-c3d63ed60cd3\" xlink:actuate=\"onRequest\" xlink:href=\"psysml:690cd2ec-4fe7-4d94-89bf-c3d63ed60cd3\" xlink:show=\"new\" xlink:title=\"psysml:690cd2ec-4fe7-4d94-89bf-c3d63ed60cd3\" xlink:type=\"simple\"><polygon fill=\"#FFFFFF\" points=\"16,6,134,6,141,28.2969,496,28.2969,496,291,16,291,16,6\" style=\"stroke: #000000; stroke-width: 1.5;\"/><line style=\"stroke: #000000; stroke-width: 1.5;\" x1=\"16\" x2=\"141\" y1=\"28.2969\" y2=\"28.2969\"/><text fill=\"#000000\" font-family=\"sans-serif\" font-size=\"14\" font-weight=\"bold\" lengthAdjust=\"spacingAndGlyphs\" textLength=\"112\" x=\"20\" y=\"20.9951\">CircularImport</text></a><!--MD5=[e4f7fae6ed58524ba242bb0b0d3be6b7]\n",
       "cluster E2--><a href=\"psysml:54e3154d-4fa4-4c14-a367-edca149a76a1\" target=\"_top\" title=\"psysml:54e3154d-4fa4-4c14-a367-edca149a76a1\" xlink:actuate=\"onRequest\" xlink:href=\"psysml:54e3154d-4fa4-4c14-a367-edca149a76a1\" xlink:show=\"new\" xlink:title=\"psysml:54e3154d-4fa4-4c14-a367-edca149a76a1\" xlink:type=\"simple\"><polygon fill=\"#FFFFFF\" points=\"333,170,359,170,366,192.2969,431,192.2969,431,267,333,267,333,170\" style=\"stroke: #000000; stroke-width: 1.5;\"/><line style=\"stroke: #000000; stroke-width: 1.5;\" x1=\"333\" x2=\"366\" y1=\"192.2969\" y2=\"192.2969\"/><text fill=\"#000000\" font-family=\"sans-serif\" font-size=\"14\" font-weight=\"bold\" lengthAdjust=\"spacingAndGlyphs\" textLength=\"20\" x=\"337\" y=\"184.9951\">P1</text></a><!--MD5=[f6df4d0ebaf0b5dfb2ced0ae5af7c670]\n",
       "cluster E4--><a href=\"psysml:581c4a9e-fb07-4d80-ac64-c8c7b70027d2\" target=\"_top\" title=\"psysml:581c4a9e-fb07-4d80-ac64-c8c7b70027d2\" xlink:actuate=\"onRequest\" xlink:href=\"psysml:581c4a9e-fb07-4d80-ac64-c8c7b70027d2\" xlink:show=\"new\" xlink:title=\"psysml:581c4a9e-fb07-4d80-ac64-c8c7b70027d2\" xlink:type=\"simple\"><polygon fill=\"#FFFFFF\" points=\"81,170,107,170,114,192.2969,179,192.2969,179,267,81,267,81,170\" style=\"stroke: #000000; stroke-width: 1.5;\"/><line style=\"stroke: #000000; stroke-width: 1.5;\" x1=\"81\" x2=\"114\" y1=\"192.2969\" y2=\"192.2969\"/><text fill=\"#000000\" font-family=\"sans-serif\" font-size=\"14\" font-weight=\"bold\" lengthAdjust=\"spacingAndGlyphs\" textLength=\"20\" x=\"85\" y=\"184.9951\">P2</text></a><!--MD5=[14e3b0961a2654348d326746436168a1]\n",
       "cluster E6--><a href=\"psysml:6bb49afc-ac2c-47b7-b48e-5bd0a62b326b\" target=\"_top\" title=\"psysml:6bb49afc-ac2c-47b7-b48e-5bd0a62b326b\" xlink:actuate=\"onRequest\" xlink:href=\"psysml:6bb49afc-ac2c-47b7-b48e-5bd0a62b326b\" xlink:show=\"new\" xlink:title=\"psysml:6bb49afc-ac2c-47b7-b48e-5bd0a62b326b\" xlink:type=\"simple\"><polygon fill=\"#FFFFFF\" points=\"268,49,319,49,326,71.2969,419,71.2969,419,146,268,146,268,49\" style=\"stroke: #000000; stroke-width: 1.5;\"/><line style=\"stroke: #000000; stroke-width: 1.5;\" x1=\"268\" x2=\"326\" y1=\"71.2969\" y2=\"71.2969\"/><text fill=\"#000000\" font-family=\"sans-serif\" font-size=\"14\" font-weight=\"bold\" lengthAdjust=\"spacingAndGlyphs\" textLength=\"45\" x=\"272\" y=\"63.9951\">Test1</text></a><!--MD5=[7f149f147074ac12df2cb0a7728a5fb0]\n",
       "cluster E9--><a href=\"psysml:051bf7cb-81b8-4c37-8865-8bb7ea974985\" target=\"_top\" title=\"psysml:051bf7cb-81b8-4c37-8865-8bb7ea974985\" xlink:actuate=\"onRequest\" xlink:href=\"psysml:051bf7cb-81b8-4c37-8865-8bb7ea974985\" xlink:show=\"new\" xlink:title=\"psysml:051bf7cb-81b8-4c37-8865-8bb7ea974985\" xlink:type=\"simple\"><polygon fill=\"#FFFFFF\" points=\"93,49,144,49,151,71.2969,244,71.2969,244,146,93,146,93,49\" style=\"stroke: #000000; stroke-width: 1.5;\"/><line style=\"stroke: #000000; stroke-width: 1.5;\" x1=\"93\" x2=\"151\" y1=\"71.2969\" y2=\"71.2969\"/><text fill=\"#000000\" font-family=\"sans-serif\" font-size=\"14\" font-weight=\"bold\" lengthAdjust=\"spacingAndGlyphs\" textLength=\"45\" x=\"97\" y=\"63.9951\">Test2</text></a><!--MD5=[49a0ec8f00dab7302a31f22d0f0fe584]\n",
       "class E12--><a href=\"psysml:87edab01-bf58-4e9e-abd1-c8b0194f7dca\" target=\"_top\" title=\"psysml:87edab01-bf58-4e9e-abd1-c8b0194f7dca\" xlink:actuate=\"onRequest\" xlink:href=\"psysml:87edab01-bf58-4e9e-abd1-c8b0194f7dca\" xlink:show=\"new\" xlink:title=\"psysml:87edab01-bf58-4e9e-abd1-c8b0194f7dca\" xlink:type=\"simple\"><rect fill=\"#FFFFFF\" height=\"45.9375\" id=\"E12\" rx=\"10\" ry=\"10\" style=\"stroke: #383838; stroke-width: 1.5;\" width=\"42\" x=\"438\" y=\"84\"/><text fill=\"#000000\" font-family=\"sans-serif\" font-size=\"12\" font-style=\"italic\" lengthAdjust=\"spacingAndGlyphs\" textLength=\"40\" x=\"439\" y=\"100.1387\">«part»</text><text fill=\"#000000\" font-family=\"sans-serif\" font-size=\"12\" lengthAdjust=\"spacingAndGlyphs\" textLength=\"22\" x=\"448\" y=\"114.1074\">x: A</text><line style=\"stroke: #383838; stroke-width: 1.5;\" x1=\"439\" x2=\"479\" y1=\"121.9375\" y2=\"121.9375\"/></a><!--MD5=[ee3c913d1a06f366521f9ef512b67efe]\n",
       "class E13--><a href=\"psysml:20c5387a-1627-4e14-8312-6f39b31ab3f7\" target=\"_top\" title=\"psysml:20c5387a-1627-4e14-8312-6f39b31ab3f7\" xlink:actuate=\"onRequest\" xlink:href=\"psysml:20c5387a-1627-4e14-8312-6f39b31ab3f7\" xlink:show=\"new\" xlink:title=\"psysml:20c5387a-1627-4e14-8312-6f39b31ab3f7\" xlink:type=\"simple\"><rect fill=\"#FFFFFF\" height=\"45.9375\" id=\"E13\" rx=\"10\" ry=\"10\" style=\"stroke: #383838; stroke-width: 1.5;\" width=\"42\" x=\"32\" y=\"84\"/><text fill=\"#000000\" font-family=\"sans-serif\" font-size=\"12\" font-style=\"italic\" lengthAdjust=\"spacingAndGlyphs\" textLength=\"40\" x=\"33\" y=\"100.1387\">«part»</text><text fill=\"#000000\" font-family=\"sans-serif\" font-size=\"12\" lengthAdjust=\"spacingAndGlyphs\" textLength=\"22\" x=\"42\" y=\"114.1074\">y: B</text><line style=\"stroke: #383838; stroke-width: 1.5;\" x1=\"33\" x2=\"73\" y1=\"121.9375\" y2=\"121.9375\"/></a><!--MD5=[09b614a08d8cba4a07c9adeb5e0fee81]\n",
       "class E3--><a href=\"psysml:281245e6-0723-4878-ac57-c406fd778909\" target=\"_top\" title=\"psysml:281245e6-0723-4878-ac57-c406fd778909\" xlink:actuate=\"onRequest\" xlink:href=\"psysml:281245e6-0723-4878-ac57-c406fd778909\" xlink:show=\"new\" xlink:title=\"psysml:281245e6-0723-4878-ac57-c406fd778909\" xlink:type=\"simple\"><rect fill=\"#FFFFFF\" height=\"45.9375\" id=\"E3\" style=\"stroke: #383838; stroke-width: 1.5;\" width=\"66\" x=\"349\" y=\"205\"/><text fill=\"#000000\" font-family=\"sans-serif\" font-size=\"12\" font-style=\"italic\" lengthAdjust=\"spacingAndGlyphs\" textLength=\"64\" x=\"350\" y=\"221.1387\">«part def»</text><text fill=\"#000000\" font-family=\"sans-serif\" font-size=\"12\" lengthAdjust=\"spacingAndGlyphs\" textLength=\"8\" x=\"378\" y=\"235.1074\">A</text><line style=\"stroke: #383838; stroke-width: 1.5;\" x1=\"350\" x2=\"414\" y1=\"242.9375\" y2=\"242.9375\"/></a><!--MD5=[270fce915f116d4de14055a7c1d9a0f3]\n",
       "class E5--><a href=\"psysml:57665928-471f-4095-91e2-d839a960cf78\" target=\"_top\" title=\"psysml:57665928-471f-4095-91e2-d839a960cf78\" xlink:actuate=\"onRequest\" xlink:href=\"psysml:57665928-471f-4095-91e2-d839a960cf78\" xlink:show=\"new\" xlink:title=\"psysml:57665928-471f-4095-91e2-d839a960cf78\" xlink:type=\"simple\"><rect fill=\"#FFFFFF\" height=\"45.9375\" id=\"E5\" style=\"stroke: #383838; stroke-width: 1.5;\" width=\"66\" x=\"97\" y=\"205\"/><text fill=\"#000000\" font-family=\"sans-serif\" font-size=\"12\" font-style=\"italic\" lengthAdjust=\"spacingAndGlyphs\" textLength=\"64\" x=\"98\" y=\"221.1387\">«part def»</text><text fill=\"#000000\" font-family=\"sans-serif\" font-size=\"12\" lengthAdjust=\"spacingAndGlyphs\" textLength=\"8\" x=\"126\" y=\"235.1074\">B</text><line style=\"stroke: #383838; stroke-width: 1.5;\" x1=\"98\" x2=\"162\" y1=\"242.9375\" y2=\"242.9375\"/></a><!--MD5=[2156ba9850f5573cc1fc38a6a4b2f02b]\n",
       "class E7--><a href=\"psysml:d6e39b1a-8a39-4c69-85ab-aa8551443e08\" target=\"_top\" title=\"psysml:d6e39b1a-8a39-4c69-85ab-aa8551443e08\" xlink:actuate=\"onRequest\" xlink:href=\"psysml:d6e39b1a-8a39-4c69-85ab-aa8551443e08\" xlink:show=\"new\" xlink:title=\"psysml:d6e39b1a-8a39-4c69-85ab-aa8551443e08\" xlink:type=\"simple\"><rect fill=\"#FFFFFF\" height=\"45.9375\" id=\"E7\" rx=\"10\" ry=\"10\" style=\"stroke: #383838; stroke-width: 1.5;\" width=\"42\" x=\"361\" y=\"84\"/><text fill=\"#000000\" font-family=\"sans-serif\" font-size=\"12\" font-style=\"italic\" lengthAdjust=\"spacingAndGlyphs\" textLength=\"40\" x=\"362\" y=\"100.1387\">«part»</text><text fill=\"#000000\" font-family=\"sans-serif\" font-size=\"12\" lengthAdjust=\"spacingAndGlyphs\" textLength=\"22\" x=\"371\" y=\"114.1074\">x: A</text><line style=\"stroke: #383838; stroke-width: 1.5;\" x1=\"362\" x2=\"402\" y1=\"121.9375\" y2=\"121.9375\"/></a><!--MD5=[b9389687b975829384b498ac4b7476b2]\n",
       "class E8--><a href=\"psysml:ead6e64d-b294-4a2d-a1d8-90d3751f1490\" target=\"_top\" title=\"psysml:ead6e64d-b294-4a2d-a1d8-90d3751f1490\" xlink:actuate=\"onRequest\" xlink:href=\"psysml:ead6e64d-b294-4a2d-a1d8-90d3751f1490\" xlink:show=\"new\" xlink:title=\"psysml:ead6e64d-b294-4a2d-a1d8-90d3751f1490\" xlink:type=\"simple\"><rect fill=\"#FFFFFF\" height=\"45.9375\" id=\"E8\" rx=\"10\" ry=\"10\" style=\"stroke: #383838; stroke-width: 1.5;\" width=\"42\" x=\"284\" y=\"84\"/><text fill=\"#000000\" font-family=\"sans-serif\" font-size=\"12\" font-style=\"italic\" lengthAdjust=\"spacingAndGlyphs\" textLength=\"40\" x=\"285\" y=\"100.1387\">«part»</text><text fill=\"#000000\" font-family=\"sans-serif\" font-size=\"12\" lengthAdjust=\"spacingAndGlyphs\" textLength=\"22\" x=\"294\" y=\"114.1074\">y: B</text><line style=\"stroke: #383838; stroke-width: 1.5;\" x1=\"285\" x2=\"325\" y1=\"121.9375\" y2=\"121.9375\"/></a><!--MD5=[96f4274e9e20536e775497830990834d]\n",
       "class E10--><a href=\"psysml:f3cb1211-10b9-411e-bf19-d5722693e1fe\" target=\"_top\" title=\"psysml:f3cb1211-10b9-411e-bf19-d5722693e1fe\" xlink:actuate=\"onRequest\" xlink:href=\"psysml:f3cb1211-10b9-411e-bf19-d5722693e1fe\" xlink:show=\"new\" xlink:title=\"psysml:f3cb1211-10b9-411e-bf19-d5722693e1fe\" xlink:type=\"simple\"><rect fill=\"#FFFFFF\" height=\"45.9375\" id=\"E10\" rx=\"10\" ry=\"10\" style=\"stroke: #383838; stroke-width: 1.5;\" width=\"42\" x=\"186\" y=\"84\"/><text fill=\"#000000\" font-family=\"sans-serif\" font-size=\"12\" font-style=\"italic\" lengthAdjust=\"spacingAndGlyphs\" textLength=\"40\" x=\"187\" y=\"100.1387\">«part»</text><text fill=\"#000000\" font-family=\"sans-serif\" font-size=\"12\" lengthAdjust=\"spacingAndGlyphs\" textLength=\"22\" x=\"196\" y=\"114.1074\">x: A</text><line style=\"stroke: #383838; stroke-width: 1.5;\" x1=\"187\" x2=\"227\" y1=\"121.9375\" y2=\"121.9375\"/></a><!--MD5=[1dd1bfd58a279cf63c5f349dbc8fc6a1]\n",
       "class E11--><a href=\"psysml:9cdccab4-e502-4fbe-97eb-9b231d825ffa\" target=\"_top\" title=\"psysml:9cdccab4-e502-4fbe-97eb-9b231d825ffa\" xlink:actuate=\"onRequest\" xlink:href=\"psysml:9cdccab4-e502-4fbe-97eb-9b231d825ffa\" xlink:show=\"new\" xlink:title=\"psysml:9cdccab4-e502-4fbe-97eb-9b231d825ffa\" xlink:type=\"simple\"><rect fill=\"#FFFFFF\" height=\"45.9375\" id=\"E11\" rx=\"10\" ry=\"10\" style=\"stroke: #383838; stroke-width: 1.5;\" width=\"42\" x=\"109\" y=\"84\"/><text fill=\"#000000\" font-family=\"sans-serif\" font-size=\"12\" font-style=\"italic\" lengthAdjust=\"spacingAndGlyphs\" textLength=\"40\" x=\"110\" y=\"100.1387\">«part»</text><text fill=\"#000000\" font-family=\"sans-serif\" font-size=\"12\" lengthAdjust=\"spacingAndGlyphs\" textLength=\"22\" x=\"119\" y=\"114.1074\">y: B</text><line style=\"stroke: #383838; stroke-width: 1.5;\" x1=\"110\" x2=\"150\" y1=\"121.9375\" y2=\"121.9375\"/></a><!--MD5=[14ccda38c055a5c0da953d572bc50960]\n",
       "link E7 to E3--><a href=\"psysml:84278f38-d400-4655-8657-76a37dd9bb09\" target=\"_top\" title=\"psysml:84278f38-d400-4655-8657-76a37dd9bb09\" xlink:actuate=\"onRequest\" xlink:href=\"psysml:84278f38-d400-4655-8657-76a37dd9bb09\" xlink:show=\"new\" xlink:title=\"psysml:84278f38-d400-4655-8657-76a37dd9bb09\" xlink:type=\"simple\"><path d=\"M382,130.1 C382,145.37 382,166.16 382,184.57 \" fill=\"none\" id=\"E7-&gt;E3\" style=\"stroke: #383838; stroke-width: 1.0;\"/><polygon fill=\"#FFFFFF\" points=\"382,204.61,375,185.61,389,185.61,382,204.61\" style=\"stroke: #383838; stroke-width: 1.0;\"/><ellipse cx=\"377\" cy=\"179.91\" fill=\"#383838\" rx=\"2\" ry=\"2\" style=\"stroke: #383838; stroke-width: 1.0;\"/><ellipse cx=\"387\" cy=\"179.91\" fill=\"#383838\" rx=\"2\" ry=\"2\" style=\"stroke: #383838; stroke-width: 1.0;\"/></a><!--MD5=[1ccb2481ffa92f8d51a74ee30c51832a]\n",
       "link E8 to E5--><a href=\"psysml:9a62fcce-aa5a-49d2-8cac-0b2f538e5bd0\" target=\"_top\" title=\"psysml:9a62fcce-aa5a-49d2-8cac-0b2f538e5bd0\" xlink:actuate=\"onRequest\" xlink:href=\"psysml:9a62fcce-aa5a-49d2-8cac-0b2f538e5bd0\" xlink:show=\"new\" xlink:title=\"psysml:9a62fcce-aa5a-49d2-8cac-0b2f538e5bd0\" xlink:type=\"simple\"><path d=\"M283.84,124.59 C272.23,133.52 257.5,144.61 244,154 C223.51,168.25 200.41,183.24 180.38,195.91 \" fill=\"none\" id=\"E8-&gt;E5\" style=\"stroke: #383838; stroke-width: 1.0;\"/><polygon fill=\"#FFFFFF\" points=\"163.36,206.57,175.7353,190.5434,183.175,202.403,163.36,206.57\" style=\"stroke: #383838; stroke-width: 1.0;\"/><ellipse cx=\"181.6267\" cy=\"189.2086\" fill=\"#383838\" rx=\"2\" ry=\"2\" style=\"stroke: #383838; stroke-width: 1.0;\"/><ellipse cx=\"186.9408\" cy=\"197.6797\" fill=\"#383838\" rx=\"2\" ry=\"2\" style=\"stroke: #383838; stroke-width: 1.0;\"/></a><!--MD5=[feeac5eb423634930294aa81f2d25a4c]\n",
       "link E10 to E3--><a href=\"psysml:bd7260c7-b55a-4391-86f8-9493bae3bcdc\" target=\"_top\" title=\"psysml:bd7260c7-b55a-4391-86f8-9493bae3bcdc\" xlink:actuate=\"onRequest\" xlink:href=\"psysml:bd7260c7-b55a-4391-86f8-9493bae3bcdc\" xlink:show=\"new\" xlink:title=\"psysml:bd7260c7-b55a-4391-86f8-9493bae3bcdc\" xlink:type=\"simple\"><path d=\"M228.16,124.59 C239.77,133.52 254.5,144.61 268,154 C288.49,168.25 311.59,183.24 331.62,195.91 \" fill=\"none\" id=\"E10-&gt;E3\" style=\"stroke: #383838; stroke-width: 1.0;\"/><polygon fill=\"#FFFFFF\" points=\"348.64,206.57,328.825,202.403,336.2647,190.5434,348.64,206.57\" style=\"stroke: #383838; stroke-width: 1.0;\"/><ellipse cx=\"325.0592\" cy=\"197.6797\" fill=\"#383838\" rx=\"2\" ry=\"2\" style=\"stroke: #383838; stroke-width: 1.0;\"/><ellipse cx=\"330.3733\" cy=\"189.2086\" fill=\"#383838\" rx=\"2\" ry=\"2\" style=\"stroke: #383838; stroke-width: 1.0;\"/></a><!--MD5=[07b77f6f309248d16187045709d1c26e]\n",
       "link E11 to E5--><a href=\"psysml:099d00ce-a154-42ce-865e-6b31b35a0829\" target=\"_top\" title=\"psysml:099d00ce-a154-42ce-865e-6b31b35a0829\" xlink:actuate=\"onRequest\" xlink:href=\"psysml:099d00ce-a154-42ce-865e-6b31b35a0829\" xlink:show=\"new\" xlink:title=\"psysml:099d00ce-a154-42ce-865e-6b31b35a0829\" xlink:type=\"simple\"><path d=\"M130,130.1 C130,145.37 130,166.16 130,184.57 \" fill=\"none\" id=\"E11-&gt;E5\" style=\"stroke: #383838; stroke-width: 1.0;\"/><polygon fill=\"#FFFFFF\" points=\"130,204.61,123,185.61,137,185.61,130,204.61\" style=\"stroke: #383838; stroke-width: 1.0;\"/><ellipse cx=\"125\" cy=\"179.91\" fill=\"#383838\" rx=\"2\" ry=\"2\" style=\"stroke: #383838; stroke-width: 1.0;\"/><ellipse cx=\"135\" cy=\"179.91\" fill=\"#383838\" rx=\"2\" ry=\"2\" style=\"stroke: #383838; stroke-width: 1.0;\"/></a><!--MD5=[39f41a0e550fb3d73b4d8135617e30a2]\n",
       "link E12 to E3--><a href=\"psysml:2e0d72ae-9b36-4ac2-af7e-1d21d87eecf3\" target=\"_top\" title=\"psysml:2e0d72ae-9b36-4ac2-af7e-1d21d87eecf3\" xlink:actuate=\"onRequest\" xlink:href=\"psysml:2e0d72ae-9b36-4ac2-af7e-1d21d87eecf3\" xlink:show=\"new\" xlink:title=\"psysml:2e0d72ae-9b36-4ac2-af7e-1d21d87eecf3\" xlink:type=\"simple\"><path d=\"M444.7,130.1 C434.28,146.2 419.89,168.44 407.53,187.55 \" fill=\"none\" id=\"E12-&gt;E3\" style=\"stroke: #383838; stroke-width: 1.0;\"/><polygon fill=\"#FFFFFF\" points=\"396.49,204.61,400.9313,184.8546,412.6866,192.4581,396.49,204.61\" style=\"stroke: #383838; stroke-width: 1.0;\"/><ellipse cx=\"405.7063\" cy=\"181.1547\" fill=\"#383838\" rx=\"2\" ry=\"2\" style=\"stroke: #383838; stroke-width: 1.0;\"/><ellipse cx=\"414.103\" cy=\"186.5858\" fill=\"#383838\" rx=\"2\" ry=\"2\" style=\"stroke: #383838; stroke-width: 1.0;\"/></a><!--MD5=[066b2d8af59fea80ccdb3d54ad5c1091]\n",
       "link E13 to E5--><a href=\"psysml:28c76814-e954-4c97-b716-40e2f6813c6b\" target=\"_top\" title=\"psysml:28c76814-e954-4c97-b716-40e2f6813c6b\" xlink:actuate=\"onRequest\" xlink:href=\"psysml:28c76814-e954-4c97-b716-40e2f6813c6b\" xlink:show=\"new\" xlink:title=\"psysml:28c76814-e954-4c97-b716-40e2f6813c6b\" xlink:type=\"simple\"><path d=\"M67.3,130.1 C77.72,146.2 92.11,168.44 104.47,187.55 \" fill=\"none\" id=\"E13-&gt;E5\" style=\"stroke: #383838; stroke-width: 1.0;\"/><polygon fill=\"#FFFFFF\" points=\"115.51,204.61,99.3134,192.4581,111.0687,184.8546,115.51,204.61\" style=\"stroke: #383838; stroke-width: 1.0;\"/><ellipse cx=\"97.897\" cy=\"186.5858\" fill=\"#383838\" rx=\"2\" ry=\"2\" style=\"stroke: #383838; stroke-width: 1.0;\"/><ellipse cx=\"106.2937\" cy=\"181.1547\" fill=\"#383838\" rx=\"2\" ry=\"2\" style=\"stroke: #383838; stroke-width: 1.0;\"/></a><!--MD5=[9d6e8e2f8874dcedb9a810b54b97bf61]\n",
       "@startuml\r\n",
       "top to bottom direction\r\n",
       "skinparam monochrome true\r\n",
       "skinparam classbackgroundcolor white\r\n",
       "skinparam shadowing false\r\n",
       "skinparam wrapWidth 300\r\n",
       "hide circle\r\n",
       "\r\n",
       "package \"CircularImport\" as E1  [[psysml:690cd2ec-4fe7-4d94-89bf-c3d63ed60cd3 ]]  {\r\n",
       "package \"P1\" as E2  [[psysml:54e3154d-4fa4-4c14-a367-edca149a76a1 ]]  {\r\n",
       "comp def \"A\" as E3  <<(T,blue)part def>> [[psysml:281245e6-0723-4878-ac57-c406fd778909 ]] {\r\n",
       "}\r\n",
       "}\r\n",
       "package \"P2\" as E4  [[psysml:581c4a9e-fb07-4d80-ac64-c8c7b70027d2 ]]  {\r\n",
       "comp def \"B\" as E5  <<(T,blue)part def>> [[psysml:57665928-471f-4095-91e2-d839a960cf78 ]] {\r\n",
       "}\r\n",
       "}\r\n",
       "package \"Test1\" as E6  [[psysml:6bb49afc-ac2c-47b7-b48e-5bd0a62b326b ]]  {\r\n",
       "comp usage \"x: A\" as E7  <<(T,blue)part>> [[psysml:d6e39b1a-8a39-4c69-85ab-aa8551443e08 ]] {\r\n",
       "}\r\n",
       "comp usage \"y: B\" as E8  <<(T,blue)part>> [[psysml:ead6e64d-b294-4a2d-a1d8-90d3751f1490 ]] {\r\n",
       "}\r\n",
       "E7 - -:|> E3 [[psysml:84278f38-d400-4655-8657-76a37dd9bb09 ]] \r\n",
       "E8 - -:|> E5 [[psysml:9a62fcce-aa5a-49d2-8cac-0b2f538e5bd0 ]] \r\n",
       "}\r\n",
       "package \"Test2\" as E9  [[psysml:051bf7cb-81b8-4c37-8865-8bb7ea974985 ]]  {\r\n",
       "comp usage \"x: A\" as E10  <<(T,blue)part>> [[psysml:f3cb1211-10b9-411e-bf19-d5722693e1fe ]] {\r\n",
       "}\r\n",
       "comp usage \"y: B\" as E11  <<(T,blue)part>> [[psysml:9cdccab4-e502-4fbe-97eb-9b231d825ffa ]] {\r\n",
       "}\r\n",
       "E10 - -:|> E3 [[psysml:bd7260c7-b55a-4391-86f8-9493bae3bcdc ]] \r\n",
       "E11 - -:|> E5 [[psysml:099d00ce-a154-42ce-865e-6b31b35a0829 ]] \r\n",
       "}\r\n",
       "comp usage \"x: A\" as E12  <<(T,blue)part>> [[psysml:87edab01-bf58-4e9e-abd1-c8b0194f7dca ]] {\r\n",
       "}\r\n",
       "comp usage \"y: B\" as E13  <<(T,blue)part>> [[psysml:20c5387a-1627-4e14-8312-6f39b31ab3f7 ]] {\r\n",
       "}\r\n",
       "E12 - -:|> E3 [[psysml:2e0d72ae-9b36-4ac2-af7e-1d21d87eecf3 ]] \r\n",
       "E13 - -:|> E5 [[psysml:28c76814-e954-4c97-b716-40e2f6813c6b ]] \r\n",
       "}\r\n",
       "@enduml\r\n",
       "\n",
       "PlantUML version 1.2020.13(Sat Jun 13 12:26:38 UTC 2020)\n",
       "(EPL source distribution)\n",
       "Java Runtime: OpenJDK Runtime Environment\n",
       "JVM: OpenJDK 64-Bit Server VM\n",
       "Default Encoding: UTF-8\n",
       "Language: en\n",
       "Country: null\n",
       "--></g></svg>"
      ]
     },
     "execution_count": 49,
     "metadata": {},
     "output_type": "execute_result"
    }
   ],
   "source": [
    "%viz --style=\"TB\" --view=\"Sequence\" \"CircularImport\""
   ]
  },
  {
   "cell_type": "code",
   "execution_count": 50,
   "id": "47b55829",
   "metadata": {
    "execution": {
     "iopub.execute_input": "2021-04-20T06:57:55.630308Z",
     "iopub.status.busy": "2021-04-20T06:57:55.629914Z",
     "iopub.status.idle": "2021-04-20T06:57:55.662414Z",
     "shell.execute_reply": "2021-04-20T06:57:55.660987Z"
    }
   },
   "outputs": [
    {
     "data": {
      "image/svg+xml": [
       "<?xml version=\"1.0\" encoding=\"UTF-8\" standalone=\"no\"?><svg xmlns=\"http://www.w3.org/2000/svg\" xmlns:xlink=\"http://www.w3.org/1999/xlink\" contentScriptType=\"application/ecmascript\" contentStyleType=\"text/css\" height=\"303px\" preserveAspectRatio=\"none\" style=\"width:518px;height:303px;\" version=\"1.1\" viewBox=\"0 0 518 303\" width=\"518px\" zoomAndPan=\"magnify\"><defs/><g><!--MD5=[fbc87193dbaf4d95561dea2c320d4a47]\n",
       "cluster E1--><a href=\"psysml:690cd2ec-4fe7-4d94-89bf-c3d63ed60cd3\" target=\"_top\" title=\"psysml:690cd2ec-4fe7-4d94-89bf-c3d63ed60cd3\" xlink:actuate=\"onRequest\" xlink:href=\"psysml:690cd2ec-4fe7-4d94-89bf-c3d63ed60cd3\" xlink:show=\"new\" xlink:title=\"psysml:690cd2ec-4fe7-4d94-89bf-c3d63ed60cd3\" xlink:type=\"simple\"><polygon fill=\"#FFFFFF\" points=\"16,6,134,6,141,28.2969,496,28.2969,496,291,16,291,16,6\" style=\"stroke: #000000; stroke-width: 1.5;\"/><line style=\"stroke: #000000; stroke-width: 1.5;\" x1=\"16\" x2=\"141\" y1=\"28.2969\" y2=\"28.2969\"/><text fill=\"#000000\" font-family=\"sans-serif\" font-size=\"14\" font-weight=\"bold\" lengthAdjust=\"spacingAndGlyphs\" textLength=\"112\" x=\"20\" y=\"20.9951\">CircularImport</text></a><!--MD5=[e4f7fae6ed58524ba242bb0b0d3be6b7]\n",
       "cluster E2--><a href=\"psysml:54e3154d-4fa4-4c14-a367-edca149a76a1\" target=\"_top\" title=\"psysml:54e3154d-4fa4-4c14-a367-edca149a76a1\" xlink:actuate=\"onRequest\" xlink:href=\"psysml:54e3154d-4fa4-4c14-a367-edca149a76a1\" xlink:show=\"new\" xlink:title=\"psysml:54e3154d-4fa4-4c14-a367-edca149a76a1\" xlink:type=\"simple\"><polygon fill=\"#FFFFFF\" points=\"333,170,359,170,366,192.2969,431,192.2969,431,267,333,267,333,170\" style=\"stroke: #000000; stroke-width: 1.5;\"/><line style=\"stroke: #000000; stroke-width: 1.5;\" x1=\"333\" x2=\"366\" y1=\"192.2969\" y2=\"192.2969\"/><text fill=\"#000000\" font-family=\"sans-serif\" font-size=\"14\" font-weight=\"bold\" lengthAdjust=\"spacingAndGlyphs\" textLength=\"20\" x=\"337\" y=\"184.9951\">P1</text></a><!--MD5=[f6df4d0ebaf0b5dfb2ced0ae5af7c670]\n",
       "cluster E4--><a href=\"psysml:581c4a9e-fb07-4d80-ac64-c8c7b70027d2\" target=\"_top\" title=\"psysml:581c4a9e-fb07-4d80-ac64-c8c7b70027d2\" xlink:actuate=\"onRequest\" xlink:href=\"psysml:581c4a9e-fb07-4d80-ac64-c8c7b70027d2\" xlink:show=\"new\" xlink:title=\"psysml:581c4a9e-fb07-4d80-ac64-c8c7b70027d2\" xlink:type=\"simple\"><polygon fill=\"#FFFFFF\" points=\"81,170,107,170,114,192.2969,179,192.2969,179,267,81,267,81,170\" style=\"stroke: #000000; stroke-width: 1.5;\"/><line style=\"stroke: #000000; stroke-width: 1.5;\" x1=\"81\" x2=\"114\" y1=\"192.2969\" y2=\"192.2969\"/><text fill=\"#000000\" font-family=\"sans-serif\" font-size=\"14\" font-weight=\"bold\" lengthAdjust=\"spacingAndGlyphs\" textLength=\"20\" x=\"85\" y=\"184.9951\">P2</text></a><!--MD5=[14e3b0961a2654348d326746436168a1]\n",
       "cluster E6--><a href=\"psysml:6bb49afc-ac2c-47b7-b48e-5bd0a62b326b\" target=\"_top\" title=\"psysml:6bb49afc-ac2c-47b7-b48e-5bd0a62b326b\" xlink:actuate=\"onRequest\" xlink:href=\"psysml:6bb49afc-ac2c-47b7-b48e-5bd0a62b326b\" xlink:show=\"new\" xlink:title=\"psysml:6bb49afc-ac2c-47b7-b48e-5bd0a62b326b\" xlink:type=\"simple\"><polygon fill=\"#FFFFFF\" points=\"268,49,319,49,326,71.2969,419,71.2969,419,146,268,146,268,49\" style=\"stroke: #000000; stroke-width: 1.5;\"/><line style=\"stroke: #000000; stroke-width: 1.5;\" x1=\"268\" x2=\"326\" y1=\"71.2969\" y2=\"71.2969\"/><text fill=\"#000000\" font-family=\"sans-serif\" font-size=\"14\" font-weight=\"bold\" lengthAdjust=\"spacingAndGlyphs\" textLength=\"45\" x=\"272\" y=\"63.9951\">Test1</text></a><!--MD5=[7f149f147074ac12df2cb0a7728a5fb0]\n",
       "cluster E9--><a href=\"psysml:051bf7cb-81b8-4c37-8865-8bb7ea974985\" target=\"_top\" title=\"psysml:051bf7cb-81b8-4c37-8865-8bb7ea974985\" xlink:actuate=\"onRequest\" xlink:href=\"psysml:051bf7cb-81b8-4c37-8865-8bb7ea974985\" xlink:show=\"new\" xlink:title=\"psysml:051bf7cb-81b8-4c37-8865-8bb7ea974985\" xlink:type=\"simple\"><polygon fill=\"#FFFFFF\" points=\"93,49,144,49,151,71.2969,244,71.2969,244,146,93,146,93,49\" style=\"stroke: #000000; stroke-width: 1.5;\"/><line style=\"stroke: #000000; stroke-width: 1.5;\" x1=\"93\" x2=\"151\" y1=\"71.2969\" y2=\"71.2969\"/><text fill=\"#000000\" font-family=\"sans-serif\" font-size=\"14\" font-weight=\"bold\" lengthAdjust=\"spacingAndGlyphs\" textLength=\"45\" x=\"97\" y=\"63.9951\">Test2</text></a><!--MD5=[49a0ec8f00dab7302a31f22d0f0fe584]\n",
       "class E12--><a href=\"psysml:87edab01-bf58-4e9e-abd1-c8b0194f7dca\" target=\"_top\" title=\"psysml:87edab01-bf58-4e9e-abd1-c8b0194f7dca\" xlink:actuate=\"onRequest\" xlink:href=\"psysml:87edab01-bf58-4e9e-abd1-c8b0194f7dca\" xlink:show=\"new\" xlink:title=\"psysml:87edab01-bf58-4e9e-abd1-c8b0194f7dca\" xlink:type=\"simple\"><rect fill=\"#FFFFFF\" height=\"45.9375\" id=\"E12\" rx=\"10\" ry=\"10\" style=\"stroke: #383838; stroke-width: 1.5;\" width=\"42\" x=\"438\" y=\"84\"/><text fill=\"#000000\" font-family=\"sans-serif\" font-size=\"12\" font-style=\"italic\" lengthAdjust=\"spacingAndGlyphs\" textLength=\"40\" x=\"439\" y=\"100.1387\">«part»</text><text fill=\"#000000\" font-family=\"sans-serif\" font-size=\"12\" lengthAdjust=\"spacingAndGlyphs\" textLength=\"22\" x=\"448\" y=\"114.1074\">x: A</text><line style=\"stroke: #383838; stroke-width: 1.5;\" x1=\"439\" x2=\"479\" y1=\"121.9375\" y2=\"121.9375\"/></a><!--MD5=[ee3c913d1a06f366521f9ef512b67efe]\n",
       "class E13--><a href=\"psysml:20c5387a-1627-4e14-8312-6f39b31ab3f7\" target=\"_top\" title=\"psysml:20c5387a-1627-4e14-8312-6f39b31ab3f7\" xlink:actuate=\"onRequest\" xlink:href=\"psysml:20c5387a-1627-4e14-8312-6f39b31ab3f7\" xlink:show=\"new\" xlink:title=\"psysml:20c5387a-1627-4e14-8312-6f39b31ab3f7\" xlink:type=\"simple\"><rect fill=\"#FFFFFF\" height=\"45.9375\" id=\"E13\" rx=\"10\" ry=\"10\" style=\"stroke: #383838; stroke-width: 1.5;\" width=\"42\" x=\"32\" y=\"84\"/><text fill=\"#000000\" font-family=\"sans-serif\" font-size=\"12\" font-style=\"italic\" lengthAdjust=\"spacingAndGlyphs\" textLength=\"40\" x=\"33\" y=\"100.1387\">«part»</text><text fill=\"#000000\" font-family=\"sans-serif\" font-size=\"12\" lengthAdjust=\"spacingAndGlyphs\" textLength=\"22\" x=\"42\" y=\"114.1074\">y: B</text><line style=\"stroke: #383838; stroke-width: 1.5;\" x1=\"33\" x2=\"73\" y1=\"121.9375\" y2=\"121.9375\"/></a><!--MD5=[09b614a08d8cba4a07c9adeb5e0fee81]\n",
       "class E3--><a href=\"psysml:281245e6-0723-4878-ac57-c406fd778909\" target=\"_top\" title=\"psysml:281245e6-0723-4878-ac57-c406fd778909\" xlink:actuate=\"onRequest\" xlink:href=\"psysml:281245e6-0723-4878-ac57-c406fd778909\" xlink:show=\"new\" xlink:title=\"psysml:281245e6-0723-4878-ac57-c406fd778909\" xlink:type=\"simple\"><rect fill=\"#FFFFFF\" height=\"45.9375\" id=\"E3\" style=\"stroke: #383838; stroke-width: 1.5;\" width=\"66\" x=\"349\" y=\"205\"/><text fill=\"#000000\" font-family=\"sans-serif\" font-size=\"12\" font-style=\"italic\" lengthAdjust=\"spacingAndGlyphs\" textLength=\"64\" x=\"350\" y=\"221.1387\">«part def»</text><text fill=\"#000000\" font-family=\"sans-serif\" font-size=\"12\" lengthAdjust=\"spacingAndGlyphs\" textLength=\"8\" x=\"378\" y=\"235.1074\">A</text><line style=\"stroke: #383838; stroke-width: 1.5;\" x1=\"350\" x2=\"414\" y1=\"242.9375\" y2=\"242.9375\"/></a><!--MD5=[270fce915f116d4de14055a7c1d9a0f3]\n",
       "class E5--><a href=\"psysml:57665928-471f-4095-91e2-d839a960cf78\" target=\"_top\" title=\"psysml:57665928-471f-4095-91e2-d839a960cf78\" xlink:actuate=\"onRequest\" xlink:href=\"psysml:57665928-471f-4095-91e2-d839a960cf78\" xlink:show=\"new\" xlink:title=\"psysml:57665928-471f-4095-91e2-d839a960cf78\" xlink:type=\"simple\"><rect fill=\"#FFFFFF\" height=\"45.9375\" id=\"E5\" style=\"stroke: #383838; stroke-width: 1.5;\" width=\"66\" x=\"97\" y=\"205\"/><text fill=\"#000000\" font-family=\"sans-serif\" font-size=\"12\" font-style=\"italic\" lengthAdjust=\"spacingAndGlyphs\" textLength=\"64\" x=\"98\" y=\"221.1387\">«part def»</text><text fill=\"#000000\" font-family=\"sans-serif\" font-size=\"12\" lengthAdjust=\"spacingAndGlyphs\" textLength=\"8\" x=\"126\" y=\"235.1074\">B</text><line style=\"stroke: #383838; stroke-width: 1.5;\" x1=\"98\" x2=\"162\" y1=\"242.9375\" y2=\"242.9375\"/></a><!--MD5=[2156ba9850f5573cc1fc38a6a4b2f02b]\n",
       "class E7--><a href=\"psysml:d6e39b1a-8a39-4c69-85ab-aa8551443e08\" target=\"_top\" title=\"psysml:d6e39b1a-8a39-4c69-85ab-aa8551443e08\" xlink:actuate=\"onRequest\" xlink:href=\"psysml:d6e39b1a-8a39-4c69-85ab-aa8551443e08\" xlink:show=\"new\" xlink:title=\"psysml:d6e39b1a-8a39-4c69-85ab-aa8551443e08\" xlink:type=\"simple\"><rect fill=\"#FFFFFF\" height=\"45.9375\" id=\"E7\" rx=\"10\" ry=\"10\" style=\"stroke: #383838; stroke-width: 1.5;\" width=\"42\" x=\"361\" y=\"84\"/><text fill=\"#000000\" font-family=\"sans-serif\" font-size=\"12\" font-style=\"italic\" lengthAdjust=\"spacingAndGlyphs\" textLength=\"40\" x=\"362\" y=\"100.1387\">«part»</text><text fill=\"#000000\" font-family=\"sans-serif\" font-size=\"12\" lengthAdjust=\"spacingAndGlyphs\" textLength=\"22\" x=\"371\" y=\"114.1074\">x: A</text><line style=\"stroke: #383838; stroke-width: 1.5;\" x1=\"362\" x2=\"402\" y1=\"121.9375\" y2=\"121.9375\"/></a><!--MD5=[b9389687b975829384b498ac4b7476b2]\n",
       "class E8--><a href=\"psysml:ead6e64d-b294-4a2d-a1d8-90d3751f1490\" target=\"_top\" title=\"psysml:ead6e64d-b294-4a2d-a1d8-90d3751f1490\" xlink:actuate=\"onRequest\" xlink:href=\"psysml:ead6e64d-b294-4a2d-a1d8-90d3751f1490\" xlink:show=\"new\" xlink:title=\"psysml:ead6e64d-b294-4a2d-a1d8-90d3751f1490\" xlink:type=\"simple\"><rect fill=\"#FFFFFF\" height=\"45.9375\" id=\"E8\" rx=\"10\" ry=\"10\" style=\"stroke: #383838; stroke-width: 1.5;\" width=\"42\" x=\"284\" y=\"84\"/><text fill=\"#000000\" font-family=\"sans-serif\" font-size=\"12\" font-style=\"italic\" lengthAdjust=\"spacingAndGlyphs\" textLength=\"40\" x=\"285\" y=\"100.1387\">«part»</text><text fill=\"#000000\" font-family=\"sans-serif\" font-size=\"12\" lengthAdjust=\"spacingAndGlyphs\" textLength=\"22\" x=\"294\" y=\"114.1074\">y: B</text><line style=\"stroke: #383838; stroke-width: 1.5;\" x1=\"285\" x2=\"325\" y1=\"121.9375\" y2=\"121.9375\"/></a><!--MD5=[96f4274e9e20536e775497830990834d]\n",
       "class E10--><a href=\"psysml:f3cb1211-10b9-411e-bf19-d5722693e1fe\" target=\"_top\" title=\"psysml:f3cb1211-10b9-411e-bf19-d5722693e1fe\" xlink:actuate=\"onRequest\" xlink:href=\"psysml:f3cb1211-10b9-411e-bf19-d5722693e1fe\" xlink:show=\"new\" xlink:title=\"psysml:f3cb1211-10b9-411e-bf19-d5722693e1fe\" xlink:type=\"simple\"><rect fill=\"#FFFFFF\" height=\"45.9375\" id=\"E10\" rx=\"10\" ry=\"10\" style=\"stroke: #383838; stroke-width: 1.5;\" width=\"42\" x=\"186\" y=\"84\"/><text fill=\"#000000\" font-family=\"sans-serif\" font-size=\"12\" font-style=\"italic\" lengthAdjust=\"spacingAndGlyphs\" textLength=\"40\" x=\"187\" y=\"100.1387\">«part»</text><text fill=\"#000000\" font-family=\"sans-serif\" font-size=\"12\" lengthAdjust=\"spacingAndGlyphs\" textLength=\"22\" x=\"196\" y=\"114.1074\">x: A</text><line style=\"stroke: #383838; stroke-width: 1.5;\" x1=\"187\" x2=\"227\" y1=\"121.9375\" y2=\"121.9375\"/></a><!--MD5=[1dd1bfd58a279cf63c5f349dbc8fc6a1]\n",
       "class E11--><a href=\"psysml:9cdccab4-e502-4fbe-97eb-9b231d825ffa\" target=\"_top\" title=\"psysml:9cdccab4-e502-4fbe-97eb-9b231d825ffa\" xlink:actuate=\"onRequest\" xlink:href=\"psysml:9cdccab4-e502-4fbe-97eb-9b231d825ffa\" xlink:show=\"new\" xlink:title=\"psysml:9cdccab4-e502-4fbe-97eb-9b231d825ffa\" xlink:type=\"simple\"><rect fill=\"#FFFFFF\" height=\"45.9375\" id=\"E11\" rx=\"10\" ry=\"10\" style=\"stroke: #383838; stroke-width: 1.5;\" width=\"42\" x=\"109\" y=\"84\"/><text fill=\"#000000\" font-family=\"sans-serif\" font-size=\"12\" font-style=\"italic\" lengthAdjust=\"spacingAndGlyphs\" textLength=\"40\" x=\"110\" y=\"100.1387\">«part»</text><text fill=\"#000000\" font-family=\"sans-serif\" font-size=\"12\" lengthAdjust=\"spacingAndGlyphs\" textLength=\"22\" x=\"119\" y=\"114.1074\">y: B</text><line style=\"stroke: #383838; stroke-width: 1.5;\" x1=\"110\" x2=\"150\" y1=\"121.9375\" y2=\"121.9375\"/></a><!--MD5=[14ccda38c055a5c0da953d572bc50960]\n",
       "link E7 to E3--><a href=\"psysml:84278f38-d400-4655-8657-76a37dd9bb09\" target=\"_top\" title=\"psysml:84278f38-d400-4655-8657-76a37dd9bb09\" xlink:actuate=\"onRequest\" xlink:href=\"psysml:84278f38-d400-4655-8657-76a37dd9bb09\" xlink:show=\"new\" xlink:title=\"psysml:84278f38-d400-4655-8657-76a37dd9bb09\" xlink:type=\"simple\"><path d=\"M382,130.1 C382,145.37 382,166.16 382,184.57 \" fill=\"none\" id=\"E7-&gt;E3\" style=\"stroke: #383838; stroke-width: 1.0;\"/><polygon fill=\"#FFFFFF\" points=\"382,204.61,375,185.61,389,185.61,382,204.61\" style=\"stroke: #383838; stroke-width: 1.0;\"/><ellipse cx=\"377\" cy=\"179.91\" fill=\"#383838\" rx=\"2\" ry=\"2\" style=\"stroke: #383838; stroke-width: 1.0;\"/><ellipse cx=\"387\" cy=\"179.91\" fill=\"#383838\" rx=\"2\" ry=\"2\" style=\"stroke: #383838; stroke-width: 1.0;\"/></a><!--MD5=[1ccb2481ffa92f8d51a74ee30c51832a]\n",
       "link E8 to E5--><a href=\"psysml:9a62fcce-aa5a-49d2-8cac-0b2f538e5bd0\" target=\"_top\" title=\"psysml:9a62fcce-aa5a-49d2-8cac-0b2f538e5bd0\" xlink:actuate=\"onRequest\" xlink:href=\"psysml:9a62fcce-aa5a-49d2-8cac-0b2f538e5bd0\" xlink:show=\"new\" xlink:title=\"psysml:9a62fcce-aa5a-49d2-8cac-0b2f538e5bd0\" xlink:type=\"simple\"><path d=\"M283.84,124.59 C272.23,133.52 257.5,144.61 244,154 C223.51,168.25 200.41,183.24 180.38,195.91 \" fill=\"none\" id=\"E8-&gt;E5\" style=\"stroke: #383838; stroke-width: 1.0;\"/><polygon fill=\"#FFFFFF\" points=\"163.36,206.57,175.7353,190.5434,183.175,202.403,163.36,206.57\" style=\"stroke: #383838; stroke-width: 1.0;\"/><ellipse cx=\"181.6267\" cy=\"189.2086\" fill=\"#383838\" rx=\"2\" ry=\"2\" style=\"stroke: #383838; stroke-width: 1.0;\"/><ellipse cx=\"186.9408\" cy=\"197.6797\" fill=\"#383838\" rx=\"2\" ry=\"2\" style=\"stroke: #383838; stroke-width: 1.0;\"/></a><!--MD5=[feeac5eb423634930294aa81f2d25a4c]\n",
       "link E10 to E3--><a href=\"psysml:bd7260c7-b55a-4391-86f8-9493bae3bcdc\" target=\"_top\" title=\"psysml:bd7260c7-b55a-4391-86f8-9493bae3bcdc\" xlink:actuate=\"onRequest\" xlink:href=\"psysml:bd7260c7-b55a-4391-86f8-9493bae3bcdc\" xlink:show=\"new\" xlink:title=\"psysml:bd7260c7-b55a-4391-86f8-9493bae3bcdc\" xlink:type=\"simple\"><path d=\"M228.16,124.59 C239.77,133.52 254.5,144.61 268,154 C288.49,168.25 311.59,183.24 331.62,195.91 \" fill=\"none\" id=\"E10-&gt;E3\" style=\"stroke: #383838; stroke-width: 1.0;\"/><polygon fill=\"#FFFFFF\" points=\"348.64,206.57,328.825,202.403,336.2647,190.5434,348.64,206.57\" style=\"stroke: #383838; stroke-width: 1.0;\"/><ellipse cx=\"325.0592\" cy=\"197.6797\" fill=\"#383838\" rx=\"2\" ry=\"2\" style=\"stroke: #383838; stroke-width: 1.0;\"/><ellipse cx=\"330.3733\" cy=\"189.2086\" fill=\"#383838\" rx=\"2\" ry=\"2\" style=\"stroke: #383838; stroke-width: 1.0;\"/></a><!--MD5=[07b77f6f309248d16187045709d1c26e]\n",
       "link E11 to E5--><a href=\"psysml:099d00ce-a154-42ce-865e-6b31b35a0829\" target=\"_top\" title=\"psysml:099d00ce-a154-42ce-865e-6b31b35a0829\" xlink:actuate=\"onRequest\" xlink:href=\"psysml:099d00ce-a154-42ce-865e-6b31b35a0829\" xlink:show=\"new\" xlink:title=\"psysml:099d00ce-a154-42ce-865e-6b31b35a0829\" xlink:type=\"simple\"><path d=\"M130,130.1 C130,145.37 130,166.16 130,184.57 \" fill=\"none\" id=\"E11-&gt;E5\" style=\"stroke: #383838; stroke-width: 1.0;\"/><polygon fill=\"#FFFFFF\" points=\"130,204.61,123,185.61,137,185.61,130,204.61\" style=\"stroke: #383838; stroke-width: 1.0;\"/><ellipse cx=\"125\" cy=\"179.91\" fill=\"#383838\" rx=\"2\" ry=\"2\" style=\"stroke: #383838; stroke-width: 1.0;\"/><ellipse cx=\"135\" cy=\"179.91\" fill=\"#383838\" rx=\"2\" ry=\"2\" style=\"stroke: #383838; stroke-width: 1.0;\"/></a><!--MD5=[39f41a0e550fb3d73b4d8135617e30a2]\n",
       "link E12 to E3--><a href=\"psysml:2e0d72ae-9b36-4ac2-af7e-1d21d87eecf3\" target=\"_top\" title=\"psysml:2e0d72ae-9b36-4ac2-af7e-1d21d87eecf3\" xlink:actuate=\"onRequest\" xlink:href=\"psysml:2e0d72ae-9b36-4ac2-af7e-1d21d87eecf3\" xlink:show=\"new\" xlink:title=\"psysml:2e0d72ae-9b36-4ac2-af7e-1d21d87eecf3\" xlink:type=\"simple\"><path d=\"M444.7,130.1 C434.28,146.2 419.89,168.44 407.53,187.55 \" fill=\"none\" id=\"E12-&gt;E3\" style=\"stroke: #383838; stroke-width: 1.0;\"/><polygon fill=\"#FFFFFF\" points=\"396.49,204.61,400.9313,184.8546,412.6866,192.4581,396.49,204.61\" style=\"stroke: #383838; stroke-width: 1.0;\"/><ellipse cx=\"405.7063\" cy=\"181.1547\" fill=\"#383838\" rx=\"2\" ry=\"2\" style=\"stroke: #383838; stroke-width: 1.0;\"/><ellipse cx=\"414.103\" cy=\"186.5858\" fill=\"#383838\" rx=\"2\" ry=\"2\" style=\"stroke: #383838; stroke-width: 1.0;\"/></a><!--MD5=[066b2d8af59fea80ccdb3d54ad5c1091]\n",
       "link E13 to E5--><a href=\"psysml:28c76814-e954-4c97-b716-40e2f6813c6b\" target=\"_top\" title=\"psysml:28c76814-e954-4c97-b716-40e2f6813c6b\" xlink:actuate=\"onRequest\" xlink:href=\"psysml:28c76814-e954-4c97-b716-40e2f6813c6b\" xlink:show=\"new\" xlink:title=\"psysml:28c76814-e954-4c97-b716-40e2f6813c6b\" xlink:type=\"simple\"><path d=\"M67.3,130.1 C77.72,146.2 92.11,168.44 104.47,187.55 \" fill=\"none\" id=\"E13-&gt;E5\" style=\"stroke: #383838; stroke-width: 1.0;\"/><polygon fill=\"#FFFFFF\" points=\"115.51,204.61,99.3134,192.4581,111.0687,184.8546,115.51,204.61\" style=\"stroke: #383838; stroke-width: 1.0;\"/><ellipse cx=\"97.897\" cy=\"186.5858\" fill=\"#383838\" rx=\"2\" ry=\"2\" style=\"stroke: #383838; stroke-width: 1.0;\"/><ellipse cx=\"106.2937\" cy=\"181.1547\" fill=\"#383838\" rx=\"2\" ry=\"2\" style=\"stroke: #383838; stroke-width: 1.0;\"/></a><!--MD5=[9d6e8e2f8874dcedb9a810b54b97bf61]\n",
       "@startuml\r\n",
       "top to bottom direction\r\n",
       "skinparam monochrome true\r\n",
       "skinparam classbackgroundcolor white\r\n",
       "skinparam shadowing false\r\n",
       "skinparam wrapWidth 300\r\n",
       "hide circle\r\n",
       "\r\n",
       "package \"CircularImport\" as E1  [[psysml:690cd2ec-4fe7-4d94-89bf-c3d63ed60cd3 ]]  {\r\n",
       "package \"P1\" as E2  [[psysml:54e3154d-4fa4-4c14-a367-edca149a76a1 ]]  {\r\n",
       "comp def \"A\" as E3  <<(T,blue)part def>> [[psysml:281245e6-0723-4878-ac57-c406fd778909 ]] {\r\n",
       "}\r\n",
       "}\r\n",
       "package \"P2\" as E4  [[psysml:581c4a9e-fb07-4d80-ac64-c8c7b70027d2 ]]  {\r\n",
       "comp def \"B\" as E5  <<(T,blue)part def>> [[psysml:57665928-471f-4095-91e2-d839a960cf78 ]] {\r\n",
       "}\r\n",
       "}\r\n",
       "package \"Test1\" as E6  [[psysml:6bb49afc-ac2c-47b7-b48e-5bd0a62b326b ]]  {\r\n",
       "comp usage \"x: A\" as E7  <<(T,blue)part>> [[psysml:d6e39b1a-8a39-4c69-85ab-aa8551443e08 ]] {\r\n",
       "}\r\n",
       "comp usage \"y: B\" as E8  <<(T,blue)part>> [[psysml:ead6e64d-b294-4a2d-a1d8-90d3751f1490 ]] {\r\n",
       "}\r\n",
       "E7 - -:|> E3 [[psysml:84278f38-d400-4655-8657-76a37dd9bb09 ]] \r\n",
       "E8 - -:|> E5 [[psysml:9a62fcce-aa5a-49d2-8cac-0b2f538e5bd0 ]] \r\n",
       "}\r\n",
       "package \"Test2\" as E9  [[psysml:051bf7cb-81b8-4c37-8865-8bb7ea974985 ]]  {\r\n",
       "comp usage \"x: A\" as E10  <<(T,blue)part>> [[psysml:f3cb1211-10b9-411e-bf19-d5722693e1fe ]] {\r\n",
       "}\r\n",
       "comp usage \"y: B\" as E11  <<(T,blue)part>> [[psysml:9cdccab4-e502-4fbe-97eb-9b231d825ffa ]] {\r\n",
       "}\r\n",
       "E10 - -:|> E3 [[psysml:bd7260c7-b55a-4391-86f8-9493bae3bcdc ]] \r\n",
       "E11 - -:|> E5 [[psysml:099d00ce-a154-42ce-865e-6b31b35a0829 ]] \r\n",
       "}\r\n",
       "comp usage \"x: A\" as E12  <<(T,blue)part>> [[psysml:87edab01-bf58-4e9e-abd1-c8b0194f7dca ]] {\r\n",
       "}\r\n",
       "comp usage \"y: B\" as E13  <<(T,blue)part>> [[psysml:20c5387a-1627-4e14-8312-6f39b31ab3f7 ]] {\r\n",
       "}\r\n",
       "E12 - -:|> E3 [[psysml:2e0d72ae-9b36-4ac2-af7e-1d21d87eecf3 ]] \r\n",
       "E13 - -:|> E5 [[psysml:28c76814-e954-4c97-b716-40e2f6813c6b ]] \r\n",
       "}\r\n",
       "@enduml\r\n",
       "\n",
       "PlantUML version 1.2020.13(Sat Jun 13 12:26:38 UTC 2020)\n",
       "(EPL source distribution)\n",
       "Java Runtime: OpenJDK Runtime Environment\n",
       "JVM: OpenJDK 64-Bit Server VM\n",
       "Default Encoding: UTF-8\n",
       "Language: en\n",
       "Country: null\n",
       "--></g></svg>"
      ]
     },
     "execution_count": 50,
     "metadata": {},
     "output_type": "execute_result"
    }
   ],
   "source": [
    "%viz --style=\"TB\" --view=\"MIXED\" \"CircularImport\""
   ]
  },
  {
   "cell_type": "code",
   "execution_count": 51,
   "id": "5383b8bf",
   "metadata": {
    "execution": {
     "iopub.execute_input": "2021-04-20T06:57:55.712639Z",
     "iopub.status.busy": "2021-04-20T06:57:55.712213Z",
     "iopub.status.idle": "2021-04-20T06:57:55.752068Z",
     "shell.execute_reply": "2021-04-20T06:57:55.750673Z"
    }
   },
   "outputs": [
    {
     "data": {
      "image/svg+xml": [
       "<?xml version=\"1.0\" encoding=\"UTF-8\" standalone=\"no\"?><svg xmlns=\"http://www.w3.org/2000/svg\" xmlns:xlink=\"http://www.w3.org/1999/xlink\" contentScriptType=\"application/ecmascript\" contentStyleType=\"text/css\" height=\"303px\" preserveAspectRatio=\"none\" style=\"width:518px;height:303px;\" version=\"1.1\" viewBox=\"0 0 518 303\" width=\"518px\" zoomAndPan=\"magnify\"><defs/><g><!--MD5=[fbc87193dbaf4d95561dea2c320d4a47]\n",
       "cluster E1--><a href=\"psysml:690cd2ec-4fe7-4d94-89bf-c3d63ed60cd3\" target=\"_top\" title=\"psysml:690cd2ec-4fe7-4d94-89bf-c3d63ed60cd3\" xlink:actuate=\"onRequest\" xlink:href=\"psysml:690cd2ec-4fe7-4d94-89bf-c3d63ed60cd3\" xlink:show=\"new\" xlink:title=\"psysml:690cd2ec-4fe7-4d94-89bf-c3d63ed60cd3\" xlink:type=\"simple\"><polygon fill=\"#FFFFFF\" points=\"16,6,134,6,141,28.2969,496,28.2969,496,291,16,291,16,6\" style=\"stroke: #000000; stroke-width: 1.5;\"/><line style=\"stroke: #000000; stroke-width: 1.5;\" x1=\"16\" x2=\"141\" y1=\"28.2969\" y2=\"28.2969\"/><text fill=\"#000000\" font-family=\"sans-serif\" font-size=\"14\" font-weight=\"bold\" lengthAdjust=\"spacingAndGlyphs\" textLength=\"112\" x=\"20\" y=\"20.9951\">CircularImport</text></a><!--MD5=[e4f7fae6ed58524ba242bb0b0d3be6b7]\n",
       "cluster E2--><a href=\"psysml:54e3154d-4fa4-4c14-a367-edca149a76a1\" target=\"_top\" title=\"psysml:54e3154d-4fa4-4c14-a367-edca149a76a1\" xlink:actuate=\"onRequest\" xlink:href=\"psysml:54e3154d-4fa4-4c14-a367-edca149a76a1\" xlink:show=\"new\" xlink:title=\"psysml:54e3154d-4fa4-4c14-a367-edca149a76a1\" xlink:type=\"simple\"><polygon fill=\"#FFFFFF\" points=\"333,170,359,170,366,192.2969,431,192.2969,431,267,333,267,333,170\" style=\"stroke: #000000; stroke-width: 1.5;\"/><line style=\"stroke: #000000; stroke-width: 1.5;\" x1=\"333\" x2=\"366\" y1=\"192.2969\" y2=\"192.2969\"/><text fill=\"#000000\" font-family=\"sans-serif\" font-size=\"14\" font-weight=\"bold\" lengthAdjust=\"spacingAndGlyphs\" textLength=\"20\" x=\"337\" y=\"184.9951\">P1</text></a><!--MD5=[f6df4d0ebaf0b5dfb2ced0ae5af7c670]\n",
       "cluster E4--><a href=\"psysml:581c4a9e-fb07-4d80-ac64-c8c7b70027d2\" target=\"_top\" title=\"psysml:581c4a9e-fb07-4d80-ac64-c8c7b70027d2\" xlink:actuate=\"onRequest\" xlink:href=\"psysml:581c4a9e-fb07-4d80-ac64-c8c7b70027d2\" xlink:show=\"new\" xlink:title=\"psysml:581c4a9e-fb07-4d80-ac64-c8c7b70027d2\" xlink:type=\"simple\"><polygon fill=\"#FFFFFF\" points=\"81,170,107,170,114,192.2969,179,192.2969,179,267,81,267,81,170\" style=\"stroke: #000000; stroke-width: 1.5;\"/><line style=\"stroke: #000000; stroke-width: 1.5;\" x1=\"81\" x2=\"114\" y1=\"192.2969\" y2=\"192.2969\"/><text fill=\"#000000\" font-family=\"sans-serif\" font-size=\"14\" font-weight=\"bold\" lengthAdjust=\"spacingAndGlyphs\" textLength=\"20\" x=\"85\" y=\"184.9951\">P2</text></a><!--MD5=[14e3b0961a2654348d326746436168a1]\n",
       "cluster E6--><a href=\"psysml:6bb49afc-ac2c-47b7-b48e-5bd0a62b326b\" target=\"_top\" title=\"psysml:6bb49afc-ac2c-47b7-b48e-5bd0a62b326b\" xlink:actuate=\"onRequest\" xlink:href=\"psysml:6bb49afc-ac2c-47b7-b48e-5bd0a62b326b\" xlink:show=\"new\" xlink:title=\"psysml:6bb49afc-ac2c-47b7-b48e-5bd0a62b326b\" xlink:type=\"simple\"><polygon fill=\"#FFFFFF\" points=\"268,49,319,49,326,71.2969,419,71.2969,419,146,268,146,268,49\" style=\"stroke: #000000; stroke-width: 1.5;\"/><line style=\"stroke: #000000; stroke-width: 1.5;\" x1=\"268\" x2=\"326\" y1=\"71.2969\" y2=\"71.2969\"/><text fill=\"#000000\" font-family=\"sans-serif\" font-size=\"14\" font-weight=\"bold\" lengthAdjust=\"spacingAndGlyphs\" textLength=\"45\" x=\"272\" y=\"63.9951\">Test1</text></a><!--MD5=[7f149f147074ac12df2cb0a7728a5fb0]\n",
       "cluster E9--><a href=\"psysml:051bf7cb-81b8-4c37-8865-8bb7ea974985\" target=\"_top\" title=\"psysml:051bf7cb-81b8-4c37-8865-8bb7ea974985\" xlink:actuate=\"onRequest\" xlink:href=\"psysml:051bf7cb-81b8-4c37-8865-8bb7ea974985\" xlink:show=\"new\" xlink:title=\"psysml:051bf7cb-81b8-4c37-8865-8bb7ea974985\" xlink:type=\"simple\"><polygon fill=\"#FFFFFF\" points=\"93,49,144,49,151,71.2969,244,71.2969,244,146,93,146,93,49\" style=\"stroke: #000000; stroke-width: 1.5;\"/><line style=\"stroke: #000000; stroke-width: 1.5;\" x1=\"93\" x2=\"151\" y1=\"71.2969\" y2=\"71.2969\"/><text fill=\"#000000\" font-family=\"sans-serif\" font-size=\"14\" font-weight=\"bold\" lengthAdjust=\"spacingAndGlyphs\" textLength=\"45\" x=\"97\" y=\"63.9951\">Test2</text></a><!--MD5=[49a0ec8f00dab7302a31f22d0f0fe584]\n",
       "class E12--><a href=\"psysml:87edab01-bf58-4e9e-abd1-c8b0194f7dca\" target=\"_top\" title=\"psysml:87edab01-bf58-4e9e-abd1-c8b0194f7dca\" xlink:actuate=\"onRequest\" xlink:href=\"psysml:87edab01-bf58-4e9e-abd1-c8b0194f7dca\" xlink:show=\"new\" xlink:title=\"psysml:87edab01-bf58-4e9e-abd1-c8b0194f7dca\" xlink:type=\"simple\"><rect fill=\"#FFFFFF\" height=\"45.9375\" id=\"E12\" rx=\"10\" ry=\"10\" style=\"stroke: #383838; stroke-width: 1.5;\" width=\"42\" x=\"438\" y=\"84\"/><text fill=\"#000000\" font-family=\"sans-serif\" font-size=\"12\" font-style=\"italic\" lengthAdjust=\"spacingAndGlyphs\" textLength=\"40\" x=\"439\" y=\"100.1387\">«part»</text><text fill=\"#000000\" font-family=\"sans-serif\" font-size=\"12\" lengthAdjust=\"spacingAndGlyphs\" textLength=\"22\" x=\"448\" y=\"114.1074\">x: A</text><line style=\"stroke: #383838; stroke-width: 1.5;\" x1=\"439\" x2=\"479\" y1=\"121.9375\" y2=\"121.9375\"/></a><!--MD5=[ee3c913d1a06f366521f9ef512b67efe]\n",
       "class E13--><a href=\"psysml:20c5387a-1627-4e14-8312-6f39b31ab3f7\" target=\"_top\" title=\"psysml:20c5387a-1627-4e14-8312-6f39b31ab3f7\" xlink:actuate=\"onRequest\" xlink:href=\"psysml:20c5387a-1627-4e14-8312-6f39b31ab3f7\" xlink:show=\"new\" xlink:title=\"psysml:20c5387a-1627-4e14-8312-6f39b31ab3f7\" xlink:type=\"simple\"><rect fill=\"#FFFFFF\" height=\"45.9375\" id=\"E13\" rx=\"10\" ry=\"10\" style=\"stroke: #383838; stroke-width: 1.5;\" width=\"42\" x=\"32\" y=\"84\"/><text fill=\"#000000\" font-family=\"sans-serif\" font-size=\"12\" font-style=\"italic\" lengthAdjust=\"spacingAndGlyphs\" textLength=\"40\" x=\"33\" y=\"100.1387\">«part»</text><text fill=\"#000000\" font-family=\"sans-serif\" font-size=\"12\" lengthAdjust=\"spacingAndGlyphs\" textLength=\"22\" x=\"42\" y=\"114.1074\">y: B</text><line style=\"stroke: #383838; stroke-width: 1.5;\" x1=\"33\" x2=\"73\" y1=\"121.9375\" y2=\"121.9375\"/></a><!--MD5=[09b614a08d8cba4a07c9adeb5e0fee81]\n",
       "class E3--><a href=\"psysml:281245e6-0723-4878-ac57-c406fd778909\" target=\"_top\" title=\"psysml:281245e6-0723-4878-ac57-c406fd778909\" xlink:actuate=\"onRequest\" xlink:href=\"psysml:281245e6-0723-4878-ac57-c406fd778909\" xlink:show=\"new\" xlink:title=\"psysml:281245e6-0723-4878-ac57-c406fd778909\" xlink:type=\"simple\"><rect fill=\"#FFFFFF\" height=\"45.9375\" id=\"E3\" style=\"stroke: #383838; stroke-width: 1.5;\" width=\"66\" x=\"349\" y=\"205\"/><text fill=\"#000000\" font-family=\"sans-serif\" font-size=\"12\" font-style=\"italic\" lengthAdjust=\"spacingAndGlyphs\" textLength=\"64\" x=\"350\" y=\"221.1387\">«part def»</text><text fill=\"#000000\" font-family=\"sans-serif\" font-size=\"12\" lengthAdjust=\"spacingAndGlyphs\" textLength=\"8\" x=\"378\" y=\"235.1074\">A</text><line style=\"stroke: #383838; stroke-width: 1.5;\" x1=\"350\" x2=\"414\" y1=\"242.9375\" y2=\"242.9375\"/></a><!--MD5=[270fce915f116d4de14055a7c1d9a0f3]\n",
       "class E5--><a href=\"psysml:57665928-471f-4095-91e2-d839a960cf78\" target=\"_top\" title=\"psysml:57665928-471f-4095-91e2-d839a960cf78\" xlink:actuate=\"onRequest\" xlink:href=\"psysml:57665928-471f-4095-91e2-d839a960cf78\" xlink:show=\"new\" xlink:title=\"psysml:57665928-471f-4095-91e2-d839a960cf78\" xlink:type=\"simple\"><rect fill=\"#FFFFFF\" height=\"45.9375\" id=\"E5\" style=\"stroke: #383838; stroke-width: 1.5;\" width=\"66\" x=\"97\" y=\"205\"/><text fill=\"#000000\" font-family=\"sans-serif\" font-size=\"12\" font-style=\"italic\" lengthAdjust=\"spacingAndGlyphs\" textLength=\"64\" x=\"98\" y=\"221.1387\">«part def»</text><text fill=\"#000000\" font-family=\"sans-serif\" font-size=\"12\" lengthAdjust=\"spacingAndGlyphs\" textLength=\"8\" x=\"126\" y=\"235.1074\">B</text><line style=\"stroke: #383838; stroke-width: 1.5;\" x1=\"98\" x2=\"162\" y1=\"242.9375\" y2=\"242.9375\"/></a><!--MD5=[2156ba9850f5573cc1fc38a6a4b2f02b]\n",
       "class E7--><a href=\"psysml:d6e39b1a-8a39-4c69-85ab-aa8551443e08\" target=\"_top\" title=\"psysml:d6e39b1a-8a39-4c69-85ab-aa8551443e08\" xlink:actuate=\"onRequest\" xlink:href=\"psysml:d6e39b1a-8a39-4c69-85ab-aa8551443e08\" xlink:show=\"new\" xlink:title=\"psysml:d6e39b1a-8a39-4c69-85ab-aa8551443e08\" xlink:type=\"simple\"><rect fill=\"#FFFFFF\" height=\"45.9375\" id=\"E7\" rx=\"10\" ry=\"10\" style=\"stroke: #383838; stroke-width: 1.5;\" width=\"42\" x=\"361\" y=\"84\"/><text fill=\"#000000\" font-family=\"sans-serif\" font-size=\"12\" font-style=\"italic\" lengthAdjust=\"spacingAndGlyphs\" textLength=\"40\" x=\"362\" y=\"100.1387\">«part»</text><text fill=\"#000000\" font-family=\"sans-serif\" font-size=\"12\" lengthAdjust=\"spacingAndGlyphs\" textLength=\"22\" x=\"371\" y=\"114.1074\">x: A</text><line style=\"stroke: #383838; stroke-width: 1.5;\" x1=\"362\" x2=\"402\" y1=\"121.9375\" y2=\"121.9375\"/></a><!--MD5=[b9389687b975829384b498ac4b7476b2]\n",
       "class E8--><a href=\"psysml:ead6e64d-b294-4a2d-a1d8-90d3751f1490\" target=\"_top\" title=\"psysml:ead6e64d-b294-4a2d-a1d8-90d3751f1490\" xlink:actuate=\"onRequest\" xlink:href=\"psysml:ead6e64d-b294-4a2d-a1d8-90d3751f1490\" xlink:show=\"new\" xlink:title=\"psysml:ead6e64d-b294-4a2d-a1d8-90d3751f1490\" xlink:type=\"simple\"><rect fill=\"#FFFFFF\" height=\"45.9375\" id=\"E8\" rx=\"10\" ry=\"10\" style=\"stroke: #383838; stroke-width: 1.5;\" width=\"42\" x=\"284\" y=\"84\"/><text fill=\"#000000\" font-family=\"sans-serif\" font-size=\"12\" font-style=\"italic\" lengthAdjust=\"spacingAndGlyphs\" textLength=\"40\" x=\"285\" y=\"100.1387\">«part»</text><text fill=\"#000000\" font-family=\"sans-serif\" font-size=\"12\" lengthAdjust=\"spacingAndGlyphs\" textLength=\"22\" x=\"294\" y=\"114.1074\">y: B</text><line style=\"stroke: #383838; stroke-width: 1.5;\" x1=\"285\" x2=\"325\" y1=\"121.9375\" y2=\"121.9375\"/></a><!--MD5=[96f4274e9e20536e775497830990834d]\n",
       "class E10--><a href=\"psysml:f3cb1211-10b9-411e-bf19-d5722693e1fe\" target=\"_top\" title=\"psysml:f3cb1211-10b9-411e-bf19-d5722693e1fe\" xlink:actuate=\"onRequest\" xlink:href=\"psysml:f3cb1211-10b9-411e-bf19-d5722693e1fe\" xlink:show=\"new\" xlink:title=\"psysml:f3cb1211-10b9-411e-bf19-d5722693e1fe\" xlink:type=\"simple\"><rect fill=\"#FFFFFF\" height=\"45.9375\" id=\"E10\" rx=\"10\" ry=\"10\" style=\"stroke: #383838; stroke-width: 1.5;\" width=\"42\" x=\"186\" y=\"84\"/><text fill=\"#000000\" font-family=\"sans-serif\" font-size=\"12\" font-style=\"italic\" lengthAdjust=\"spacingAndGlyphs\" textLength=\"40\" x=\"187\" y=\"100.1387\">«part»</text><text fill=\"#000000\" font-family=\"sans-serif\" font-size=\"12\" lengthAdjust=\"spacingAndGlyphs\" textLength=\"22\" x=\"196\" y=\"114.1074\">x: A</text><line style=\"stroke: #383838; stroke-width: 1.5;\" x1=\"187\" x2=\"227\" y1=\"121.9375\" y2=\"121.9375\"/></a><!--MD5=[1dd1bfd58a279cf63c5f349dbc8fc6a1]\n",
       "class E11--><a href=\"psysml:9cdccab4-e502-4fbe-97eb-9b231d825ffa\" target=\"_top\" title=\"psysml:9cdccab4-e502-4fbe-97eb-9b231d825ffa\" xlink:actuate=\"onRequest\" xlink:href=\"psysml:9cdccab4-e502-4fbe-97eb-9b231d825ffa\" xlink:show=\"new\" xlink:title=\"psysml:9cdccab4-e502-4fbe-97eb-9b231d825ffa\" xlink:type=\"simple\"><rect fill=\"#FFFFFF\" height=\"45.9375\" id=\"E11\" rx=\"10\" ry=\"10\" style=\"stroke: #383838; stroke-width: 1.5;\" width=\"42\" x=\"109\" y=\"84\"/><text fill=\"#000000\" font-family=\"sans-serif\" font-size=\"12\" font-style=\"italic\" lengthAdjust=\"spacingAndGlyphs\" textLength=\"40\" x=\"110\" y=\"100.1387\">«part»</text><text fill=\"#000000\" font-family=\"sans-serif\" font-size=\"12\" lengthAdjust=\"spacingAndGlyphs\" textLength=\"22\" x=\"119\" y=\"114.1074\">y: B</text><line style=\"stroke: #383838; stroke-width: 1.5;\" x1=\"110\" x2=\"150\" y1=\"121.9375\" y2=\"121.9375\"/></a><!--MD5=[14ccda38c055a5c0da953d572bc50960]\n",
       "link E7 to E3--><a href=\"psysml:84278f38-d400-4655-8657-76a37dd9bb09\" target=\"_top\" title=\"psysml:84278f38-d400-4655-8657-76a37dd9bb09\" xlink:actuate=\"onRequest\" xlink:href=\"psysml:84278f38-d400-4655-8657-76a37dd9bb09\" xlink:show=\"new\" xlink:title=\"psysml:84278f38-d400-4655-8657-76a37dd9bb09\" xlink:type=\"simple\"><path d=\"M382,130.04 C382,130.04 382,184.63 382,184.63 \" fill=\"none\" id=\"E7-&gt;E3\" style=\"stroke: #383838; stroke-width: 1.0;\"/><polygon fill=\"#FFFFFF\" points=\"382,204.63,375,185.63,389,185.63,382,204.63\" style=\"stroke: #383838; stroke-width: 1.0;\"/><ellipse cx=\"377\" cy=\"179.93\" fill=\"#383838\" rx=\"2\" ry=\"2\" style=\"stroke: #383838; stroke-width: 1.0;\"/><ellipse cx=\"387\" cy=\"179.93\" fill=\"#383838\" rx=\"2\" ry=\"2\" style=\"stroke: #383838; stroke-width: 1.0;\"/></a><!--MD5=[1ccb2481ffa92f8d51a74ee30c51832a]\n",
       "link E8 to E5--><a href=\"psysml:9a62fcce-aa5a-49d2-8cac-0b2f538e5bd0\" target=\"_top\" title=\"psysml:9a62fcce-aa5a-49d2-8cac-0b2f538e5bd0\" xlink:actuate=\"onRequest\" xlink:href=\"psysml:9a62fcce-aa5a-49d2-8cac-0b2f538e5bd0\" xlink:show=\"new\" xlink:title=\"psysml:9a62fcce-aa5a-49d2-8cac-0b2f538e5bd0\" xlink:type=\"simple\"><path d=\"M305,130.06 C305,167.17 305,236 305,236 C305,236 183.33,236 183.33,236 \" fill=\"none\" id=\"E8-&gt;E5\" style=\"stroke: #383838; stroke-width: 1.0;\"/><polygon fill=\"#FFFFFF\" points=\"163.33,236,182.33,229,182.33,243,163.33,236\" style=\"stroke: #383838; stroke-width: 1.0;\"/><ellipse cx=\"188.03\" cy=\"231\" fill=\"#383838\" rx=\"2\" ry=\"2\" style=\"stroke: #383838; stroke-width: 1.0;\"/><ellipse cx=\"188.03\" cy=\"241\" fill=\"#383838\" rx=\"2\" ry=\"2\" style=\"stroke: #383838; stroke-width: 1.0;\"/></a><!--MD5=[feeac5eb423634930294aa81f2d25a4c]\n",
       "link E10 to E3--><a href=\"psysml:bd7260c7-b55a-4391-86f8-9493bae3bcdc\" target=\"_top\" title=\"psysml:bd7260c7-b55a-4391-86f8-9493bae3bcdc\" xlink:actuate=\"onRequest\" xlink:href=\"psysml:bd7260c7-b55a-4391-86f8-9493bae3bcdc\" xlink:show=\"new\" xlink:title=\"psysml:bd7260c7-b55a-4391-86f8-9493bae3bcdc\" xlink:type=\"simple\"><path d=\"M207,130.07 C207,163.38 207,221 207,221 C207,221 328.67,221 328.67,221 \" fill=\"none\" id=\"E10-&gt;E3\" style=\"stroke: #383838; stroke-width: 1.0;\"/><polygon fill=\"#FFFFFF\" points=\"348.67,221,329.67,228,329.67,214,348.67,221\" style=\"stroke: #383838; stroke-width: 1.0;\"/><ellipse cx=\"323.97\" cy=\"226\" fill=\"#383838\" rx=\"2\" ry=\"2\" style=\"stroke: #383838; stroke-width: 1.0;\"/><ellipse cx=\"323.97\" cy=\"216\" fill=\"#383838\" rx=\"2\" ry=\"2\" style=\"stroke: #383838; stroke-width: 1.0;\"/></a><!--MD5=[07b77f6f309248d16187045709d1c26e]\n",
       "link E11 to E5--><a href=\"psysml:099d00ce-a154-42ce-865e-6b31b35a0829\" target=\"_top\" title=\"psysml:099d00ce-a154-42ce-865e-6b31b35a0829\" xlink:actuate=\"onRequest\" xlink:href=\"psysml:099d00ce-a154-42ce-865e-6b31b35a0829\" xlink:show=\"new\" xlink:title=\"psysml:099d00ce-a154-42ce-865e-6b31b35a0829\" xlink:type=\"simple\"><path d=\"M130,130.04 C130,130.04 130,184.63 130,184.63 \" fill=\"none\" id=\"E11-&gt;E5\" style=\"stroke: #383838; stroke-width: 1.0;\"/><polygon fill=\"#FFFFFF\" points=\"130,204.63,123,185.63,137,185.63,130,204.63\" style=\"stroke: #383838; stroke-width: 1.0;\"/><ellipse cx=\"125\" cy=\"179.93\" fill=\"#383838\" rx=\"2\" ry=\"2\" style=\"stroke: #383838; stroke-width: 1.0;\"/><ellipse cx=\"135\" cy=\"179.93\" fill=\"#383838\" rx=\"2\" ry=\"2\" style=\"stroke: #383838; stroke-width: 1.0;\"/></a><!--MD5=[39f41a0e550fb3d73b4d8135617e30a2]\n",
       "link E12 to E3--><a href=\"psysml:2e0d72ae-9b36-4ac2-af7e-1d21d87eecf3\" target=\"_top\" title=\"psysml:2e0d72ae-9b36-4ac2-af7e-1d21d87eecf3\" xlink:actuate=\"onRequest\" xlink:href=\"psysml:2e0d72ae-9b36-4ac2-af7e-1d21d87eecf3\" xlink:show=\"new\" xlink:title=\"psysml:2e0d72ae-9b36-4ac2-af7e-1d21d87eecf3\" xlink:type=\"simple\"><path d=\"M437.8,107 C424.17,107 409,107 409,107 C409,107 409,184.96 409,184.96 \" fill=\"none\" id=\"E12-&gt;E3\" style=\"stroke: #383838; stroke-width: 1.0;\"/><polygon fill=\"#FFFFFF\" points=\"409,204.96,402,185.96,416,185.96,409,204.96\" style=\"stroke: #383838; stroke-width: 1.0;\"/><ellipse cx=\"404\" cy=\"180.26\" fill=\"#383838\" rx=\"2\" ry=\"2\" style=\"stroke: #383838; stroke-width: 1.0;\"/><ellipse cx=\"414\" cy=\"180.26\" fill=\"#383838\" rx=\"2\" ry=\"2\" style=\"stroke: #383838; stroke-width: 1.0;\"/></a><!--MD5=[066b2d8af59fea80ccdb3d54ad5c1091]\n",
       "link E13 to E5--><a href=\"psysml:28c76814-e954-4c97-b716-40e2f6813c6b\" target=\"_top\" title=\"psysml:28c76814-e954-4c97-b716-40e2f6813c6b\" xlink:actuate=\"onRequest\" xlink:href=\"psysml:28c76814-e954-4c97-b716-40e2f6813c6b\" xlink:show=\"new\" xlink:title=\"psysml:28c76814-e954-4c97-b716-40e2f6813c6b\" xlink:type=\"simple\"><path d=\"M74.2,107 C87.83,107 103,107 103,107 C103,107 103,184.96 103,184.96 \" fill=\"none\" id=\"E13-&gt;E5\" style=\"stroke: #383838; stroke-width: 1.0;\"/><polygon fill=\"#FFFFFF\" points=\"103,204.96,96,185.96,110,185.96,103,204.96\" style=\"stroke: #383838; stroke-width: 1.0;\"/><ellipse cx=\"98\" cy=\"180.26\" fill=\"#383838\" rx=\"2\" ry=\"2\" style=\"stroke: #383838; stroke-width: 1.0;\"/><ellipse cx=\"108\" cy=\"180.26\" fill=\"#383838\" rx=\"2\" ry=\"2\" style=\"stroke: #383838; stroke-width: 1.0;\"/></a><!--MD5=[3c1423982a9c9240900ba7b5938af2df]\n",
       "@startuml\r\n",
       "skinparam linetype ortho\r\n",
       "skinparam monochrome true\r\n",
       "skinparam classbackgroundcolor white\r\n",
       "skinparam shadowing false\r\n",
       "skinparam wrapWidth 300\r\n",
       "hide circle\r\n",
       "\r\n",
       "package \"CircularImport\" as E1  [[psysml:690cd2ec-4fe7-4d94-89bf-c3d63ed60cd3 ]]  {\r\n",
       "package \"P1\" as E2  [[psysml:54e3154d-4fa4-4c14-a367-edca149a76a1 ]]  {\r\n",
       "comp def \"A\" as E3  <<(T,blue)part def>> [[psysml:281245e6-0723-4878-ac57-c406fd778909 ]] {\r\n",
       "}\r\n",
       "}\r\n",
       "package \"P2\" as E4  [[psysml:581c4a9e-fb07-4d80-ac64-c8c7b70027d2 ]]  {\r\n",
       "comp def \"B\" as E5  <<(T,blue)part def>> [[psysml:57665928-471f-4095-91e2-d839a960cf78 ]] {\r\n",
       "}\r\n",
       "}\r\n",
       "package \"Test1\" as E6  [[psysml:6bb49afc-ac2c-47b7-b48e-5bd0a62b326b ]]  {\r\n",
       "comp usage \"x: A\" as E7  <<(T,blue)part>> [[psysml:d6e39b1a-8a39-4c69-85ab-aa8551443e08 ]] {\r\n",
       "}\r\n",
       "comp usage \"y: B\" as E8  <<(T,blue)part>> [[psysml:ead6e64d-b294-4a2d-a1d8-90d3751f1490 ]] {\r\n",
       "}\r\n",
       "E7 - -:|> E3 [[psysml:84278f38-d400-4655-8657-76a37dd9bb09 ]] \r\n",
       "E8 - -:|> E5 [[psysml:9a62fcce-aa5a-49d2-8cac-0b2f538e5bd0 ]] \r\n",
       "}\r\n",
       "package \"Test2\" as E9  [[psysml:051bf7cb-81b8-4c37-8865-8bb7ea974985 ]]  {\r\n",
       "comp usage \"x: A\" as E10  <<(T,blue)part>> [[psysml:f3cb1211-10b9-411e-bf19-d5722693e1fe ]] {\r\n",
       "}\r\n",
       "comp usage \"y: B\" as E11  <<(T,blue)part>> [[psysml:9cdccab4-e502-4fbe-97eb-9b231d825ffa ]] {\r\n",
       "}\r\n",
       "E10 - -:|> E3 [[psysml:bd7260c7-b55a-4391-86f8-9493bae3bcdc ]] \r\n",
       "E11 - -:|> E5 [[psysml:099d00ce-a154-42ce-865e-6b31b35a0829 ]] \r\n",
       "}\r\n",
       "comp usage \"x: A\" as E12  <<(T,blue)part>> [[psysml:87edab01-bf58-4e9e-abd1-c8b0194f7dca ]] {\r\n",
       "}\r\n",
       "comp usage \"y: B\" as E13  <<(T,blue)part>> [[psysml:20c5387a-1627-4e14-8312-6f39b31ab3f7 ]] {\r\n",
       "}\r\n",
       "E12 - -:|> E3 [[psysml:2e0d72ae-9b36-4ac2-af7e-1d21d87eecf3 ]] \r\n",
       "E13 - -:|> E5 [[psysml:28c76814-e954-4c97-b716-40e2f6813c6b ]] \r\n",
       "}\r\n",
       "@enduml\r\n",
       "\n",
       "PlantUML version 1.2020.13(Sat Jun 13 12:26:38 UTC 2020)\n",
       "(EPL source distribution)\n",
       "Java Runtime: OpenJDK Runtime Environment\n",
       "JVM: OpenJDK 64-Bit Server VM\n",
       "Default Encoding: UTF-8\n",
       "Language: en\n",
       "Country: null\n",
       "--></g></svg>"
      ]
     },
     "execution_count": 51,
     "metadata": {},
     "output_type": "execute_result"
    }
   ],
   "source": [
    "%viz --style=\"ORTHOLINE\" --view=\"Default\" \"CircularImport\""
   ]
  },
  {
   "cell_type": "code",
   "execution_count": 52,
   "id": "88f2343a",
   "metadata": {
    "execution": {
     "iopub.execute_input": "2021-04-20T06:57:55.802836Z",
     "iopub.status.busy": "2021-04-20T06:57:55.802111Z",
     "iopub.status.idle": "2021-04-20T06:57:55.837093Z",
     "shell.execute_reply": "2021-04-20T06:57:55.835742Z"
    }
   },
   "outputs": [
    {
     "data": {
      "image/svg+xml": [
       "<?xml version=\"1.0\" encoding=\"UTF-8\" standalone=\"no\"?><svg xmlns=\"http://www.w3.org/2000/svg\" xmlns:xlink=\"http://www.w3.org/1999/xlink\" contentScriptType=\"application/ecmascript\" contentStyleType=\"text/css\" height=\"303px\" preserveAspectRatio=\"none\" style=\"width:518px;height:303px;\" version=\"1.1\" viewBox=\"0 0 518 303\" width=\"518px\" zoomAndPan=\"magnify\"><defs/><g><!--MD5=[fbc87193dbaf4d95561dea2c320d4a47]\n",
       "cluster E1--><a href=\"psysml:690cd2ec-4fe7-4d94-89bf-c3d63ed60cd3\" target=\"_top\" title=\"psysml:690cd2ec-4fe7-4d94-89bf-c3d63ed60cd3\" xlink:actuate=\"onRequest\" xlink:href=\"psysml:690cd2ec-4fe7-4d94-89bf-c3d63ed60cd3\" xlink:show=\"new\" xlink:title=\"psysml:690cd2ec-4fe7-4d94-89bf-c3d63ed60cd3\" xlink:type=\"simple\"><polygon fill=\"#FFFFFF\" points=\"16,6,134,6,141,28.2969,496,28.2969,496,291,16,291,16,6\" style=\"stroke: #000000; stroke-width: 1.5;\"/><line style=\"stroke: #000000; stroke-width: 1.5;\" x1=\"16\" x2=\"141\" y1=\"28.2969\" y2=\"28.2969\"/><text fill=\"#000000\" font-family=\"sans-serif\" font-size=\"14\" font-weight=\"bold\" lengthAdjust=\"spacingAndGlyphs\" textLength=\"112\" x=\"20\" y=\"20.9951\">CircularImport</text></a><!--MD5=[e4f7fae6ed58524ba242bb0b0d3be6b7]\n",
       "cluster E2--><a href=\"psysml:54e3154d-4fa4-4c14-a367-edca149a76a1\" target=\"_top\" title=\"psysml:54e3154d-4fa4-4c14-a367-edca149a76a1\" xlink:actuate=\"onRequest\" xlink:href=\"psysml:54e3154d-4fa4-4c14-a367-edca149a76a1\" xlink:show=\"new\" xlink:title=\"psysml:54e3154d-4fa4-4c14-a367-edca149a76a1\" xlink:type=\"simple\"><polygon fill=\"#FFFFFF\" points=\"333,170,359,170,366,192.2969,431,192.2969,431,267,333,267,333,170\" style=\"stroke: #000000; stroke-width: 1.5;\"/><line style=\"stroke: #000000; stroke-width: 1.5;\" x1=\"333\" x2=\"366\" y1=\"192.2969\" y2=\"192.2969\"/><text fill=\"#000000\" font-family=\"sans-serif\" font-size=\"14\" font-weight=\"bold\" lengthAdjust=\"spacingAndGlyphs\" textLength=\"20\" x=\"337\" y=\"184.9951\">P1</text></a><!--MD5=[f6df4d0ebaf0b5dfb2ced0ae5af7c670]\n",
       "cluster E4--><a href=\"psysml:581c4a9e-fb07-4d80-ac64-c8c7b70027d2\" target=\"_top\" title=\"psysml:581c4a9e-fb07-4d80-ac64-c8c7b70027d2\" xlink:actuate=\"onRequest\" xlink:href=\"psysml:581c4a9e-fb07-4d80-ac64-c8c7b70027d2\" xlink:show=\"new\" xlink:title=\"psysml:581c4a9e-fb07-4d80-ac64-c8c7b70027d2\" xlink:type=\"simple\"><polygon fill=\"#FFFFFF\" points=\"81,170,107,170,114,192.2969,179,192.2969,179,267,81,267,81,170\" style=\"stroke: #000000; stroke-width: 1.5;\"/><line style=\"stroke: #000000; stroke-width: 1.5;\" x1=\"81\" x2=\"114\" y1=\"192.2969\" y2=\"192.2969\"/><text fill=\"#000000\" font-family=\"sans-serif\" font-size=\"14\" font-weight=\"bold\" lengthAdjust=\"spacingAndGlyphs\" textLength=\"20\" x=\"85\" y=\"184.9951\">P2</text></a><!--MD5=[14e3b0961a2654348d326746436168a1]\n",
       "cluster E6--><a href=\"psysml:6bb49afc-ac2c-47b7-b48e-5bd0a62b326b\" target=\"_top\" title=\"psysml:6bb49afc-ac2c-47b7-b48e-5bd0a62b326b\" xlink:actuate=\"onRequest\" xlink:href=\"psysml:6bb49afc-ac2c-47b7-b48e-5bd0a62b326b\" xlink:show=\"new\" xlink:title=\"psysml:6bb49afc-ac2c-47b7-b48e-5bd0a62b326b\" xlink:type=\"simple\"><polygon fill=\"#FFFFFF\" points=\"268,49,319,49,326,71.2969,419,71.2969,419,146,268,146,268,49\" style=\"stroke: #000000; stroke-width: 1.5;\"/><line style=\"stroke: #000000; stroke-width: 1.5;\" x1=\"268\" x2=\"326\" y1=\"71.2969\" y2=\"71.2969\"/><text fill=\"#000000\" font-family=\"sans-serif\" font-size=\"14\" font-weight=\"bold\" lengthAdjust=\"spacingAndGlyphs\" textLength=\"45\" x=\"272\" y=\"63.9951\">Test1</text></a><!--MD5=[7f149f147074ac12df2cb0a7728a5fb0]\n",
       "cluster E9--><a href=\"psysml:051bf7cb-81b8-4c37-8865-8bb7ea974985\" target=\"_top\" title=\"psysml:051bf7cb-81b8-4c37-8865-8bb7ea974985\" xlink:actuate=\"onRequest\" xlink:href=\"psysml:051bf7cb-81b8-4c37-8865-8bb7ea974985\" xlink:show=\"new\" xlink:title=\"psysml:051bf7cb-81b8-4c37-8865-8bb7ea974985\" xlink:type=\"simple\"><polygon fill=\"#FFFFFF\" points=\"93,49,144,49,151,71.2969,244,71.2969,244,146,93,146,93,49\" style=\"stroke: #000000; stroke-width: 1.5;\"/><line style=\"stroke: #000000; stroke-width: 1.5;\" x1=\"93\" x2=\"151\" y1=\"71.2969\" y2=\"71.2969\"/><text fill=\"#000000\" font-family=\"sans-serif\" font-size=\"14\" font-weight=\"bold\" lengthAdjust=\"spacingAndGlyphs\" textLength=\"45\" x=\"97\" y=\"63.9951\">Test2</text></a><!--MD5=[49a0ec8f00dab7302a31f22d0f0fe584]\n",
       "class E12--><a href=\"psysml:87edab01-bf58-4e9e-abd1-c8b0194f7dca\" target=\"_top\" title=\"psysml:87edab01-bf58-4e9e-abd1-c8b0194f7dca\" xlink:actuate=\"onRequest\" xlink:href=\"psysml:87edab01-bf58-4e9e-abd1-c8b0194f7dca\" xlink:show=\"new\" xlink:title=\"psysml:87edab01-bf58-4e9e-abd1-c8b0194f7dca\" xlink:type=\"simple\"><rect fill=\"#FFFFFF\" height=\"45.9375\" id=\"E12\" rx=\"10\" ry=\"10\" style=\"stroke: #383838; stroke-width: 1.5;\" width=\"42\" x=\"438\" y=\"84\"/><text fill=\"#000000\" font-family=\"sans-serif\" font-size=\"12\" font-style=\"italic\" lengthAdjust=\"spacingAndGlyphs\" textLength=\"40\" x=\"439\" y=\"100.1387\">«part»</text><text fill=\"#000000\" font-family=\"sans-serif\" font-size=\"12\" lengthAdjust=\"spacingAndGlyphs\" textLength=\"22\" x=\"448\" y=\"114.1074\">x: A</text><line style=\"stroke: #383838; stroke-width: 1.5;\" x1=\"439\" x2=\"479\" y1=\"121.9375\" y2=\"121.9375\"/></a><!--MD5=[ee3c913d1a06f366521f9ef512b67efe]\n",
       "class E13--><a href=\"psysml:20c5387a-1627-4e14-8312-6f39b31ab3f7\" target=\"_top\" title=\"psysml:20c5387a-1627-4e14-8312-6f39b31ab3f7\" xlink:actuate=\"onRequest\" xlink:href=\"psysml:20c5387a-1627-4e14-8312-6f39b31ab3f7\" xlink:show=\"new\" xlink:title=\"psysml:20c5387a-1627-4e14-8312-6f39b31ab3f7\" xlink:type=\"simple\"><rect fill=\"#FFFFFF\" height=\"45.9375\" id=\"E13\" rx=\"10\" ry=\"10\" style=\"stroke: #383838; stroke-width: 1.5;\" width=\"42\" x=\"32\" y=\"84\"/><text fill=\"#000000\" font-family=\"sans-serif\" font-size=\"12\" font-style=\"italic\" lengthAdjust=\"spacingAndGlyphs\" textLength=\"40\" x=\"33\" y=\"100.1387\">«part»</text><text fill=\"#000000\" font-family=\"sans-serif\" font-size=\"12\" lengthAdjust=\"spacingAndGlyphs\" textLength=\"22\" x=\"42\" y=\"114.1074\">y: B</text><line style=\"stroke: #383838; stroke-width: 1.5;\" x1=\"33\" x2=\"73\" y1=\"121.9375\" y2=\"121.9375\"/></a><!--MD5=[09b614a08d8cba4a07c9adeb5e0fee81]\n",
       "class E3--><a href=\"psysml:281245e6-0723-4878-ac57-c406fd778909\" target=\"_top\" title=\"psysml:281245e6-0723-4878-ac57-c406fd778909\" xlink:actuate=\"onRequest\" xlink:href=\"psysml:281245e6-0723-4878-ac57-c406fd778909\" xlink:show=\"new\" xlink:title=\"psysml:281245e6-0723-4878-ac57-c406fd778909\" xlink:type=\"simple\"><rect fill=\"#FFFFFF\" height=\"45.9375\" id=\"E3\" style=\"stroke: #383838; stroke-width: 1.5;\" width=\"66\" x=\"349\" y=\"205\"/><text fill=\"#000000\" font-family=\"sans-serif\" font-size=\"12\" font-style=\"italic\" lengthAdjust=\"spacingAndGlyphs\" textLength=\"64\" x=\"350\" y=\"221.1387\">«part def»</text><text fill=\"#000000\" font-family=\"sans-serif\" font-size=\"12\" lengthAdjust=\"spacingAndGlyphs\" textLength=\"8\" x=\"378\" y=\"235.1074\">A</text><line style=\"stroke: #383838; stroke-width: 1.5;\" x1=\"350\" x2=\"414\" y1=\"242.9375\" y2=\"242.9375\"/></a><!--MD5=[270fce915f116d4de14055a7c1d9a0f3]\n",
       "class E5--><a href=\"psysml:57665928-471f-4095-91e2-d839a960cf78\" target=\"_top\" title=\"psysml:57665928-471f-4095-91e2-d839a960cf78\" xlink:actuate=\"onRequest\" xlink:href=\"psysml:57665928-471f-4095-91e2-d839a960cf78\" xlink:show=\"new\" xlink:title=\"psysml:57665928-471f-4095-91e2-d839a960cf78\" xlink:type=\"simple\"><rect fill=\"#FFFFFF\" height=\"45.9375\" id=\"E5\" style=\"stroke: #383838; stroke-width: 1.5;\" width=\"66\" x=\"97\" y=\"205\"/><text fill=\"#000000\" font-family=\"sans-serif\" font-size=\"12\" font-style=\"italic\" lengthAdjust=\"spacingAndGlyphs\" textLength=\"64\" x=\"98\" y=\"221.1387\">«part def»</text><text fill=\"#000000\" font-family=\"sans-serif\" font-size=\"12\" lengthAdjust=\"spacingAndGlyphs\" textLength=\"8\" x=\"126\" y=\"235.1074\">B</text><line style=\"stroke: #383838; stroke-width: 1.5;\" x1=\"98\" x2=\"162\" y1=\"242.9375\" y2=\"242.9375\"/></a><!--MD5=[2156ba9850f5573cc1fc38a6a4b2f02b]\n",
       "class E7--><a href=\"psysml:d6e39b1a-8a39-4c69-85ab-aa8551443e08\" target=\"_top\" title=\"psysml:d6e39b1a-8a39-4c69-85ab-aa8551443e08\" xlink:actuate=\"onRequest\" xlink:href=\"psysml:d6e39b1a-8a39-4c69-85ab-aa8551443e08\" xlink:show=\"new\" xlink:title=\"psysml:d6e39b1a-8a39-4c69-85ab-aa8551443e08\" xlink:type=\"simple\"><rect fill=\"#FFFFFF\" height=\"45.9375\" id=\"E7\" rx=\"10\" ry=\"10\" style=\"stroke: #383838; stroke-width: 1.5;\" width=\"42\" x=\"361\" y=\"84\"/><text fill=\"#000000\" font-family=\"sans-serif\" font-size=\"12\" font-style=\"italic\" lengthAdjust=\"spacingAndGlyphs\" textLength=\"40\" x=\"362\" y=\"100.1387\">«part»</text><text fill=\"#000000\" font-family=\"sans-serif\" font-size=\"12\" lengthAdjust=\"spacingAndGlyphs\" textLength=\"22\" x=\"371\" y=\"114.1074\">x: A</text><line style=\"stroke: #383838; stroke-width: 1.5;\" x1=\"362\" x2=\"402\" y1=\"121.9375\" y2=\"121.9375\"/></a><!--MD5=[b9389687b975829384b498ac4b7476b2]\n",
       "class E8--><a href=\"psysml:ead6e64d-b294-4a2d-a1d8-90d3751f1490\" target=\"_top\" title=\"psysml:ead6e64d-b294-4a2d-a1d8-90d3751f1490\" xlink:actuate=\"onRequest\" xlink:href=\"psysml:ead6e64d-b294-4a2d-a1d8-90d3751f1490\" xlink:show=\"new\" xlink:title=\"psysml:ead6e64d-b294-4a2d-a1d8-90d3751f1490\" xlink:type=\"simple\"><rect fill=\"#FFFFFF\" height=\"45.9375\" id=\"E8\" rx=\"10\" ry=\"10\" style=\"stroke: #383838; stroke-width: 1.5;\" width=\"42\" x=\"284\" y=\"84\"/><text fill=\"#000000\" font-family=\"sans-serif\" font-size=\"12\" font-style=\"italic\" lengthAdjust=\"spacingAndGlyphs\" textLength=\"40\" x=\"285\" y=\"100.1387\">«part»</text><text fill=\"#000000\" font-family=\"sans-serif\" font-size=\"12\" lengthAdjust=\"spacingAndGlyphs\" textLength=\"22\" x=\"294\" y=\"114.1074\">y: B</text><line style=\"stroke: #383838; stroke-width: 1.5;\" x1=\"285\" x2=\"325\" y1=\"121.9375\" y2=\"121.9375\"/></a><!--MD5=[96f4274e9e20536e775497830990834d]\n",
       "class E10--><a href=\"psysml:f3cb1211-10b9-411e-bf19-d5722693e1fe\" target=\"_top\" title=\"psysml:f3cb1211-10b9-411e-bf19-d5722693e1fe\" xlink:actuate=\"onRequest\" xlink:href=\"psysml:f3cb1211-10b9-411e-bf19-d5722693e1fe\" xlink:show=\"new\" xlink:title=\"psysml:f3cb1211-10b9-411e-bf19-d5722693e1fe\" xlink:type=\"simple\"><rect fill=\"#FFFFFF\" height=\"45.9375\" id=\"E10\" rx=\"10\" ry=\"10\" style=\"stroke: #383838; stroke-width: 1.5;\" width=\"42\" x=\"186\" y=\"84\"/><text fill=\"#000000\" font-family=\"sans-serif\" font-size=\"12\" font-style=\"italic\" lengthAdjust=\"spacingAndGlyphs\" textLength=\"40\" x=\"187\" y=\"100.1387\">«part»</text><text fill=\"#000000\" font-family=\"sans-serif\" font-size=\"12\" lengthAdjust=\"spacingAndGlyphs\" textLength=\"22\" x=\"196\" y=\"114.1074\">x: A</text><line style=\"stroke: #383838; stroke-width: 1.5;\" x1=\"187\" x2=\"227\" y1=\"121.9375\" y2=\"121.9375\"/></a><!--MD5=[1dd1bfd58a279cf63c5f349dbc8fc6a1]\n",
       "class E11--><a href=\"psysml:9cdccab4-e502-4fbe-97eb-9b231d825ffa\" target=\"_top\" title=\"psysml:9cdccab4-e502-4fbe-97eb-9b231d825ffa\" xlink:actuate=\"onRequest\" xlink:href=\"psysml:9cdccab4-e502-4fbe-97eb-9b231d825ffa\" xlink:show=\"new\" xlink:title=\"psysml:9cdccab4-e502-4fbe-97eb-9b231d825ffa\" xlink:type=\"simple\"><rect fill=\"#FFFFFF\" height=\"45.9375\" id=\"E11\" rx=\"10\" ry=\"10\" style=\"stroke: #383838; stroke-width: 1.5;\" width=\"42\" x=\"109\" y=\"84\"/><text fill=\"#000000\" font-family=\"sans-serif\" font-size=\"12\" font-style=\"italic\" lengthAdjust=\"spacingAndGlyphs\" textLength=\"40\" x=\"110\" y=\"100.1387\">«part»</text><text fill=\"#000000\" font-family=\"sans-serif\" font-size=\"12\" lengthAdjust=\"spacingAndGlyphs\" textLength=\"22\" x=\"119\" y=\"114.1074\">y: B</text><line style=\"stroke: #383838; stroke-width: 1.5;\" x1=\"110\" x2=\"150\" y1=\"121.9375\" y2=\"121.9375\"/></a><!--MD5=[14ccda38c055a5c0da953d572bc50960]\n",
       "link E7 to E3--><a href=\"psysml:84278f38-d400-4655-8657-76a37dd9bb09\" target=\"_top\" title=\"psysml:84278f38-d400-4655-8657-76a37dd9bb09\" xlink:actuate=\"onRequest\" xlink:href=\"psysml:84278f38-d400-4655-8657-76a37dd9bb09\" xlink:show=\"new\" xlink:title=\"psysml:84278f38-d400-4655-8657-76a37dd9bb09\" xlink:type=\"simple\"><path d=\"M382,130.04 C382,130.04 382,184.63 382,184.63 \" fill=\"none\" id=\"E7-&gt;E3\" style=\"stroke: #383838; stroke-width: 1.0;\"/><polygon fill=\"#FFFFFF\" points=\"382,204.63,375,185.63,389,185.63,382,204.63\" style=\"stroke: #383838; stroke-width: 1.0;\"/><ellipse cx=\"377\" cy=\"179.93\" fill=\"#383838\" rx=\"2\" ry=\"2\" style=\"stroke: #383838; stroke-width: 1.0;\"/><ellipse cx=\"387\" cy=\"179.93\" fill=\"#383838\" rx=\"2\" ry=\"2\" style=\"stroke: #383838; stroke-width: 1.0;\"/></a><!--MD5=[1ccb2481ffa92f8d51a74ee30c51832a]\n",
       "link E8 to E5--><a href=\"psysml:9a62fcce-aa5a-49d2-8cac-0b2f538e5bd0\" target=\"_top\" title=\"psysml:9a62fcce-aa5a-49d2-8cac-0b2f538e5bd0\" xlink:actuate=\"onRequest\" xlink:href=\"psysml:9a62fcce-aa5a-49d2-8cac-0b2f538e5bd0\" xlink:show=\"new\" xlink:title=\"psysml:9a62fcce-aa5a-49d2-8cac-0b2f538e5bd0\" xlink:type=\"simple\"><path d=\"M305,130.06 C305,167.17 305,236 305,236 C305,236 183.33,236 183.33,236 \" fill=\"none\" id=\"E8-&gt;E5\" style=\"stroke: #383838; stroke-width: 1.0;\"/><polygon fill=\"#FFFFFF\" points=\"163.33,236,182.33,229,182.33,243,163.33,236\" style=\"stroke: #383838; stroke-width: 1.0;\"/><ellipse cx=\"188.03\" cy=\"231\" fill=\"#383838\" rx=\"2\" ry=\"2\" style=\"stroke: #383838; stroke-width: 1.0;\"/><ellipse cx=\"188.03\" cy=\"241\" fill=\"#383838\" rx=\"2\" ry=\"2\" style=\"stroke: #383838; stroke-width: 1.0;\"/></a><!--MD5=[feeac5eb423634930294aa81f2d25a4c]\n",
       "link E10 to E3--><a href=\"psysml:bd7260c7-b55a-4391-86f8-9493bae3bcdc\" target=\"_top\" title=\"psysml:bd7260c7-b55a-4391-86f8-9493bae3bcdc\" xlink:actuate=\"onRequest\" xlink:href=\"psysml:bd7260c7-b55a-4391-86f8-9493bae3bcdc\" xlink:show=\"new\" xlink:title=\"psysml:bd7260c7-b55a-4391-86f8-9493bae3bcdc\" xlink:type=\"simple\"><path d=\"M207,130.07 C207,163.38 207,221 207,221 C207,221 328.67,221 328.67,221 \" fill=\"none\" id=\"E10-&gt;E3\" style=\"stroke: #383838; stroke-width: 1.0;\"/><polygon fill=\"#FFFFFF\" points=\"348.67,221,329.67,228,329.67,214,348.67,221\" style=\"stroke: #383838; stroke-width: 1.0;\"/><ellipse cx=\"323.97\" cy=\"226\" fill=\"#383838\" rx=\"2\" ry=\"2\" style=\"stroke: #383838; stroke-width: 1.0;\"/><ellipse cx=\"323.97\" cy=\"216\" fill=\"#383838\" rx=\"2\" ry=\"2\" style=\"stroke: #383838; stroke-width: 1.0;\"/></a><!--MD5=[07b77f6f309248d16187045709d1c26e]\n",
       "link E11 to E5--><a href=\"psysml:099d00ce-a154-42ce-865e-6b31b35a0829\" target=\"_top\" title=\"psysml:099d00ce-a154-42ce-865e-6b31b35a0829\" xlink:actuate=\"onRequest\" xlink:href=\"psysml:099d00ce-a154-42ce-865e-6b31b35a0829\" xlink:show=\"new\" xlink:title=\"psysml:099d00ce-a154-42ce-865e-6b31b35a0829\" xlink:type=\"simple\"><path d=\"M130,130.04 C130,130.04 130,184.63 130,184.63 \" fill=\"none\" id=\"E11-&gt;E5\" style=\"stroke: #383838; stroke-width: 1.0;\"/><polygon fill=\"#FFFFFF\" points=\"130,204.63,123,185.63,137,185.63,130,204.63\" style=\"stroke: #383838; stroke-width: 1.0;\"/><ellipse cx=\"125\" cy=\"179.93\" fill=\"#383838\" rx=\"2\" ry=\"2\" style=\"stroke: #383838; stroke-width: 1.0;\"/><ellipse cx=\"135\" cy=\"179.93\" fill=\"#383838\" rx=\"2\" ry=\"2\" style=\"stroke: #383838; stroke-width: 1.0;\"/></a><!--MD5=[39f41a0e550fb3d73b4d8135617e30a2]\n",
       "link E12 to E3--><a href=\"psysml:2e0d72ae-9b36-4ac2-af7e-1d21d87eecf3\" target=\"_top\" title=\"psysml:2e0d72ae-9b36-4ac2-af7e-1d21d87eecf3\" xlink:actuate=\"onRequest\" xlink:href=\"psysml:2e0d72ae-9b36-4ac2-af7e-1d21d87eecf3\" xlink:show=\"new\" xlink:title=\"psysml:2e0d72ae-9b36-4ac2-af7e-1d21d87eecf3\" xlink:type=\"simple\"><path d=\"M437.8,107 C424.17,107 409,107 409,107 C409,107 409,184.96 409,184.96 \" fill=\"none\" id=\"E12-&gt;E3\" style=\"stroke: #383838; stroke-width: 1.0;\"/><polygon fill=\"#FFFFFF\" points=\"409,204.96,402,185.96,416,185.96,409,204.96\" style=\"stroke: #383838; stroke-width: 1.0;\"/><ellipse cx=\"404\" cy=\"180.26\" fill=\"#383838\" rx=\"2\" ry=\"2\" style=\"stroke: #383838; stroke-width: 1.0;\"/><ellipse cx=\"414\" cy=\"180.26\" fill=\"#383838\" rx=\"2\" ry=\"2\" style=\"stroke: #383838; stroke-width: 1.0;\"/></a><!--MD5=[066b2d8af59fea80ccdb3d54ad5c1091]\n",
       "link E13 to E5--><a href=\"psysml:28c76814-e954-4c97-b716-40e2f6813c6b\" target=\"_top\" title=\"psysml:28c76814-e954-4c97-b716-40e2f6813c6b\" xlink:actuate=\"onRequest\" xlink:href=\"psysml:28c76814-e954-4c97-b716-40e2f6813c6b\" xlink:show=\"new\" xlink:title=\"psysml:28c76814-e954-4c97-b716-40e2f6813c6b\" xlink:type=\"simple\"><path d=\"M74.2,107 C87.83,107 103,107 103,107 C103,107 103,184.96 103,184.96 \" fill=\"none\" id=\"E13-&gt;E5\" style=\"stroke: #383838; stroke-width: 1.0;\"/><polygon fill=\"#FFFFFF\" points=\"103,204.96,96,185.96,110,185.96,103,204.96\" style=\"stroke: #383838; stroke-width: 1.0;\"/><ellipse cx=\"98\" cy=\"180.26\" fill=\"#383838\" rx=\"2\" ry=\"2\" style=\"stroke: #383838; stroke-width: 1.0;\"/><ellipse cx=\"108\" cy=\"180.26\" fill=\"#383838\" rx=\"2\" ry=\"2\" style=\"stroke: #383838; stroke-width: 1.0;\"/></a><!--MD5=[3c1423982a9c9240900ba7b5938af2df]\n",
       "@startuml\r\n",
       "skinparam linetype ortho\r\n",
       "skinparam monochrome true\r\n",
       "skinparam classbackgroundcolor white\r\n",
       "skinparam shadowing false\r\n",
       "skinparam wrapWidth 300\r\n",
       "hide circle\r\n",
       "\r\n",
       "package \"CircularImport\" as E1  [[psysml:690cd2ec-4fe7-4d94-89bf-c3d63ed60cd3 ]]  {\r\n",
       "package \"P1\" as E2  [[psysml:54e3154d-4fa4-4c14-a367-edca149a76a1 ]]  {\r\n",
       "comp def \"A\" as E3  <<(T,blue)part def>> [[psysml:281245e6-0723-4878-ac57-c406fd778909 ]] {\r\n",
       "}\r\n",
       "}\r\n",
       "package \"P2\" as E4  [[psysml:581c4a9e-fb07-4d80-ac64-c8c7b70027d2 ]]  {\r\n",
       "comp def \"B\" as E5  <<(T,blue)part def>> [[psysml:57665928-471f-4095-91e2-d839a960cf78 ]] {\r\n",
       "}\r\n",
       "}\r\n",
       "package \"Test1\" as E6  [[psysml:6bb49afc-ac2c-47b7-b48e-5bd0a62b326b ]]  {\r\n",
       "comp usage \"x: A\" as E7  <<(T,blue)part>> [[psysml:d6e39b1a-8a39-4c69-85ab-aa8551443e08 ]] {\r\n",
       "}\r\n",
       "comp usage \"y: B\" as E8  <<(T,blue)part>> [[psysml:ead6e64d-b294-4a2d-a1d8-90d3751f1490 ]] {\r\n",
       "}\r\n",
       "E7 - -:|> E3 [[psysml:84278f38-d400-4655-8657-76a37dd9bb09 ]] \r\n",
       "E8 - -:|> E5 [[psysml:9a62fcce-aa5a-49d2-8cac-0b2f538e5bd0 ]] \r\n",
       "}\r\n",
       "package \"Test2\" as E9  [[psysml:051bf7cb-81b8-4c37-8865-8bb7ea974985 ]]  {\r\n",
       "comp usage \"x: A\" as E10  <<(T,blue)part>> [[psysml:f3cb1211-10b9-411e-bf19-d5722693e1fe ]] {\r\n",
       "}\r\n",
       "comp usage \"y: B\" as E11  <<(T,blue)part>> [[psysml:9cdccab4-e502-4fbe-97eb-9b231d825ffa ]] {\r\n",
       "}\r\n",
       "E10 - -:|> E3 [[psysml:bd7260c7-b55a-4391-86f8-9493bae3bcdc ]] \r\n",
       "E11 - -:|> E5 [[psysml:099d00ce-a154-42ce-865e-6b31b35a0829 ]] \r\n",
       "}\r\n",
       "comp usage \"x: A\" as E12  <<(T,blue)part>> [[psysml:87edab01-bf58-4e9e-abd1-c8b0194f7dca ]] {\r\n",
       "}\r\n",
       "comp usage \"y: B\" as E13  <<(T,blue)part>> [[psysml:20c5387a-1627-4e14-8312-6f39b31ab3f7 ]] {\r\n",
       "}\r\n",
       "E12 - -:|> E3 [[psysml:2e0d72ae-9b36-4ac2-af7e-1d21d87eecf3 ]] \r\n",
       "E13 - -:|> E5 [[psysml:28c76814-e954-4c97-b716-40e2f6813c6b ]] \r\n",
       "}\r\n",
       "@enduml\r\n",
       "\n",
       "PlantUML version 1.2020.13(Sat Jun 13 12:26:38 UTC 2020)\n",
       "(EPL source distribution)\n",
       "Java Runtime: OpenJDK Runtime Environment\n",
       "JVM: OpenJDK 64-Bit Server VM\n",
       "Default Encoding: UTF-8\n",
       "Language: en\n",
       "Country: null\n",
       "--></g></svg>"
      ]
     },
     "execution_count": 52,
     "metadata": {},
     "output_type": "execute_result"
    }
   ],
   "source": [
    "%viz --style=\"ORTHOLINE\" --view=\"Tree\" \"CircularImport\""
   ]
  },
  {
   "cell_type": "code",
   "execution_count": 53,
   "id": "db282518",
   "metadata": {
    "execution": {
     "iopub.execute_input": "2021-04-20T06:57:55.887945Z",
     "iopub.status.busy": "2021-04-20T06:57:55.887233Z",
     "iopub.status.idle": "2021-04-20T06:57:55.892647Z",
     "shell.execute_reply": "2021-04-20T06:57:55.892314Z"
    }
   },
   "outputs": [
    {
     "data": {
      "image/svg+xml": [
       "<?xml version=\"1.0\" encoding=\"UTF-8\" standalone=\"no\"?><svg xmlns=\"http://www.w3.org/2000/svg\" xmlns:xlink=\"http://www.w3.org/1999/xlink\" contentScriptType=\"application/ecmascript\" contentStyleType=\"text/css\" height=\"12px\" preserveAspectRatio=\"none\" style=\"width:12px;height:12px;\" version=\"1.1\" viewBox=\"0 0 12 12\" width=\"12px\" zoomAndPan=\"magnify\"><defs/><g><!--MD5=[97d6f38768b311333d388e66b2b27985]\n",
       "@startuml\r\n",
       "skinparam linetype ortho\r\n",
       "skinparam monochrome true\r\n",
       "skinparam classbackgroundcolor white\r\n",
       "skinparam shadowing false\r\n",
       "skinparam wrapWidth 300\r\n",
       "hide circle\r\n",
       "\r\n",
       "@enduml\r\n",
       "\n",
       "PlantUML version 1.2020.13(Sat Jun 13 12:26:38 UTC 2020)\n",
       "(EPL source distribution)\n",
       "Java Runtime: OpenJDK Runtime Environment\n",
       "JVM: OpenJDK 64-Bit Server VM\n",
       "Default Encoding: UTF-8\n",
       "Language: en\n",
       "Country: null\n",
       "--></g></svg>"
      ]
     },
     "execution_count": 53,
     "metadata": {},
     "output_type": "execute_result"
    }
   ],
   "source": [
    "%viz --style=\"ORTHOLINE\" --view=\"State\" \"CircularImport\""
   ]
  },
  {
   "cell_type": "code",
   "execution_count": 54,
   "id": "0a9866d0",
   "metadata": {
    "execution": {
     "iopub.execute_input": "2021-04-20T06:57:55.944676Z",
     "iopub.status.busy": "2021-04-20T06:57:55.943918Z",
     "iopub.status.idle": "2021-04-20T06:57:55.979112Z",
     "shell.execute_reply": "2021-04-20T06:57:55.977786Z"
    }
   },
   "outputs": [
    {
     "data": {
      "image/svg+xml": [
       "<?xml version=\"1.0\" encoding=\"UTF-8\" standalone=\"no\"?><svg xmlns=\"http://www.w3.org/2000/svg\" xmlns:xlink=\"http://www.w3.org/1999/xlink\" contentScriptType=\"application/ecmascript\" contentStyleType=\"text/css\" height=\"179px\" preserveAspectRatio=\"none\" style=\"width:846px;height:179px;\" version=\"1.1\" viewBox=\"0 0 846 179\" width=\"846px\" zoomAndPan=\"magnify\"><defs/><g><!--MD5=[fbc87193dbaf4d95561dea2c320d4a47]\n",
       "cluster E1--><a href=\"psysml:690cd2ec-4fe7-4d94-89bf-c3d63ed60cd3\" target=\"_top\" title=\"psysml:690cd2ec-4fe7-4d94-89bf-c3d63ed60cd3\" xlink:actuate=\"onRequest\" xlink:href=\"psysml:690cd2ec-4fe7-4d94-89bf-c3d63ed60cd3\" xlink:show=\"new\" xlink:title=\"psysml:690cd2ec-4fe7-4d94-89bf-c3d63ed60cd3\" xlink:type=\"simple\"><polygon fill=\"#FFFFFF\" points=\"16,6,134,6,141,28.2969,824,28.2969,824,167,16,167,16,6\" style=\"stroke: #000000; stroke-width: 1.5;\"/><line style=\"stroke: #000000; stroke-width: 1.5;\" x1=\"16\" x2=\"141\" y1=\"28.2969\" y2=\"28.2969\"/><text fill=\"#000000\" font-family=\"sans-serif\" font-size=\"14\" font-weight=\"bold\" lengthAdjust=\"spacingAndGlyphs\" textLength=\"112\" x=\"20\" y=\"20.9951\">CircularImport</text></a><!--MD5=[e4f7fae6ed58524ba242bb0b0d3be6b7]\n",
       "cluster E2--><a href=\"psysml:54e3154d-4fa4-4c14-a367-edca149a76a1\" target=\"_top\" title=\"psysml:54e3154d-4fa4-4c14-a367-edca149a76a1\" xlink:actuate=\"onRequest\" xlink:href=\"psysml:54e3154d-4fa4-4c14-a367-edca149a76a1\" xlink:show=\"new\" xlink:title=\"psysml:54e3154d-4fa4-4c14-a367-edca149a76a1\" xlink:type=\"simple\"><polygon fill=\"#FFFFFF\" points=\"696,49,722,49,729,71.2969,800,71.2969,800,143,696,143,696,49\" style=\"stroke: #000000; stroke-width: 1.5;\"/><line style=\"stroke: #000000; stroke-width: 1.5;\" x1=\"696\" x2=\"729\" y1=\"71.2969\" y2=\"71.2969\"/><text fill=\"#000000\" font-family=\"sans-serif\" font-size=\"14\" font-weight=\"bold\" lengthAdjust=\"spacingAndGlyphs\" textLength=\"20\" x=\"700\" y=\"63.9951\">P1</text></a><!--MD5=[f6df4d0ebaf0b5dfb2ced0ae5af7c670]\n",
       "cluster E4--><a href=\"psysml:581c4a9e-fb07-4d80-ac64-c8c7b70027d2\" target=\"_top\" title=\"psysml:581c4a9e-fb07-4d80-ac64-c8c7b70027d2\" xlink:actuate=\"onRequest\" xlink:href=\"psysml:581c4a9e-fb07-4d80-ac64-c8c7b70027d2\" xlink:show=\"new\" xlink:title=\"psysml:581c4a9e-fb07-4d80-ac64-c8c7b70027d2\" xlink:type=\"simple\"><polygon fill=\"#FFFFFF\" points=\"568,49,594,49,601,71.2969,672,71.2969,672,143,568,143,568,49\" style=\"stroke: #000000; stroke-width: 1.5;\"/><line style=\"stroke: #000000; stroke-width: 1.5;\" x1=\"568\" x2=\"601\" y1=\"71.2969\" y2=\"71.2969\"/><text fill=\"#000000\" font-family=\"sans-serif\" font-size=\"14\" font-weight=\"bold\" lengthAdjust=\"spacingAndGlyphs\" textLength=\"20\" x=\"572\" y=\"63.9951\">P2</text></a><!--MD5=[14e3b0961a2654348d326746436168a1]\n",
       "cluster E6--><a href=\"psysml:6bb49afc-ac2c-47b7-b48e-5bd0a62b326b\" target=\"_top\" title=\"psysml:6bb49afc-ac2c-47b7-b48e-5bd0a62b326b\" xlink:actuate=\"onRequest\" xlink:href=\"psysml:6bb49afc-ac2c-47b7-b48e-5bd0a62b326b\" xlink:show=\"new\" xlink:title=\"psysml:6bb49afc-ac2c-47b7-b48e-5bd0a62b326b\" xlink:type=\"simple\"><polygon fill=\"#FFFFFF\" points=\"377,50.5,428,50.5,435,72.7969,544,72.7969,544,141.5,377,141.5,377,50.5\" style=\"stroke: #000000; stroke-width: 1.5;\"/><line style=\"stroke: #000000; stroke-width: 1.5;\" x1=\"377\" x2=\"435\" y1=\"72.7969\" y2=\"72.7969\"/><text fill=\"#000000\" font-family=\"sans-serif\" font-size=\"14\" font-weight=\"bold\" lengthAdjust=\"spacingAndGlyphs\" textLength=\"45\" x=\"381\" y=\"65.4951\">Test1</text></a><!--MD5=[7f149f147074ac12df2cb0a7728a5fb0]\n",
       "cluster E9--><a href=\"psysml:051bf7cb-81b8-4c37-8865-8bb7ea974985\" target=\"_top\" title=\"psysml:051bf7cb-81b8-4c37-8865-8bb7ea974985\" xlink:actuate=\"onRequest\" xlink:href=\"psysml:051bf7cb-81b8-4c37-8865-8bb7ea974985\" xlink:show=\"new\" xlink:title=\"psysml:051bf7cb-81b8-4c37-8865-8bb7ea974985\" xlink:type=\"simple\"><polygon fill=\"#FFFFFF\" points=\"186,50.5,237,50.5,244,72.7969,353,72.7969,353,141.5,186,141.5,186,50.5\" style=\"stroke: #000000; stroke-width: 1.5;\"/><line style=\"stroke: #000000; stroke-width: 1.5;\" x1=\"186\" x2=\"244\" y1=\"72.7969\" y2=\"72.7969\"/><text fill=\"#000000\" font-family=\"sans-serif\" font-size=\"14\" font-weight=\"bold\" lengthAdjust=\"spacingAndGlyphs\" textLength=\"45\" x=\"190\" y=\"65.4951\">Test2</text></a><g id=\"E1.E2.E3\"><a href=\"psysml:281245e6-0723-4878-ac57-c406fd778909\" target=\"_top\" title=\"psysml:281245e6-0723-4878-ac57-c406fd778909\" xlink:actuate=\"onRequest\" xlink:href=\"psysml:281245e6-0723-4878-ac57-c406fd778909\" xlink:show=\"new\" xlink:title=\"psysml:281245e6-0723-4878-ac57-c406fd778909\" xlink:type=\"simple\"><rect fill=\"#FFFFFF\" height=\"42.9375\" id=\"E3\" style=\"stroke: #383838; stroke-width: 1.5;\" width=\"71\" x=\"712.5\" y=\"84\"/><rect fill=\"#F8F8F8\" height=\"37.9375\" style=\"stroke: #383838; stroke-width: 1.5;\" width=\"71\" x=\"712.5\" y=\"84\"/><text fill=\"#000000\" font-family=\"sans-serif\" font-size=\"12\" font-style=\"italic\" lengthAdjust=\"spacingAndGlyphs\" textLength=\"64\" x=\"716\" y=\"100.1387\">«part def»</text><text fill=\"#000000\" font-family=\"sans-serif\" font-size=\"12\" lengthAdjust=\"spacingAndGlyphs\" textLength=\"8\" x=\"744\" y=\"114.1074\">A</text></a></g><g id=\"E1.E4.E5\"><a href=\"psysml:57665928-471f-4095-91e2-d839a960cf78\" target=\"_top\" title=\"psysml:57665928-471f-4095-91e2-d839a960cf78\" xlink:actuate=\"onRequest\" xlink:href=\"psysml:57665928-471f-4095-91e2-d839a960cf78\" xlink:show=\"new\" xlink:title=\"psysml:57665928-471f-4095-91e2-d839a960cf78\" xlink:type=\"simple\"><rect fill=\"#FFFFFF\" height=\"42.9375\" id=\"E5\" style=\"stroke: #383838; stroke-width: 1.5;\" width=\"71\" x=\"584.5\" y=\"84\"/><rect fill=\"#F8F8F8\" height=\"37.9375\" style=\"stroke: #383838; stroke-width: 1.5;\" width=\"71\" x=\"584.5\" y=\"84\"/><text fill=\"#000000\" font-family=\"sans-serif\" font-size=\"12\" font-style=\"italic\" lengthAdjust=\"spacingAndGlyphs\" textLength=\"64\" x=\"588\" y=\"100.1387\">«part def»</text><text fill=\"#000000\" font-family=\"sans-serif\" font-size=\"12\" lengthAdjust=\"spacingAndGlyphs\" textLength=\"8\" x=\"616\" y=\"114.1074\">B</text></a></g><g id=\"E1.E6.E7\"><a href=\"psysml:d6e39b1a-8a39-4c69-85ab-aa8551443e08\" target=\"_top\" title=\"psysml:d6e39b1a-8a39-4c69-85ab-aa8551443e08\" xlink:actuate=\"onRequest\" xlink:href=\"psysml:d6e39b1a-8a39-4c69-85ab-aa8551443e08\" xlink:show=\"new\" xlink:title=\"psysml:d6e39b1a-8a39-4c69-85ab-aa8551443e08\" xlink:type=\"simple\"><rect fill=\"#FFFFFF\" height=\"40\" id=\"E7\" rx=\"10\" ry=\"10\" style=\"stroke: #383838; stroke-width: 1.5;\" width=\"50\" x=\"478\" y=\"85.5\"/><rect fill=\"#F8F8F8\" height=\"23.9688\" rx=\"10\" ry=\"10\" style=\"stroke: #F8F8F8; stroke-width: 1.5;\" width=\"50\" x=\"478\" y=\"85.5\"/><rect fill=\"#F8F8F8\" height=\"10\" style=\"stroke: #F8F8F8; stroke-width: 1.5;\" width=\"50\" x=\"478\" y=\"99.4688\"/><rect fill=\"none\" height=\"40\" id=\"E7\" rx=\"10\" ry=\"10\" style=\"stroke: #383838; stroke-width: 1.5;\" width=\"50\" x=\"478\" y=\"85.5\"/><text fill=\"#000000\" font-family=\"sans-serif\" font-size=\"12\" lengthAdjust=\"spacingAndGlyphs\" textLength=\"22\" x=\"492\" y=\"101.6387\">x: A</text></a></g><g id=\"E1.E6.E8\"><a href=\"psysml:ead6e64d-b294-4a2d-a1d8-90d3751f1490\" target=\"_top\" title=\"psysml:ead6e64d-b294-4a2d-a1d8-90d3751f1490\" xlink:actuate=\"onRequest\" xlink:href=\"psysml:ead6e64d-b294-4a2d-a1d8-90d3751f1490\" xlink:show=\"new\" xlink:title=\"psysml:ead6e64d-b294-4a2d-a1d8-90d3751f1490\" xlink:type=\"simple\"><rect fill=\"#FFFFFF\" height=\"40\" id=\"E8\" rx=\"10\" ry=\"10\" style=\"stroke: #383838; stroke-width: 1.5;\" width=\"50\" x=\"393\" y=\"85.5\"/><rect fill=\"#F8F8F8\" height=\"23.9688\" rx=\"10\" ry=\"10\" style=\"stroke: #F8F8F8; stroke-width: 1.5;\" width=\"50\" x=\"393\" y=\"85.5\"/><rect fill=\"#F8F8F8\" height=\"10\" style=\"stroke: #F8F8F8; stroke-width: 1.5;\" width=\"50\" x=\"393\" y=\"99.4688\"/><rect fill=\"none\" height=\"40\" id=\"E8\" rx=\"10\" ry=\"10\" style=\"stroke: #383838; stroke-width: 1.5;\" width=\"50\" x=\"393\" y=\"85.5\"/><text fill=\"#000000\" font-family=\"sans-serif\" font-size=\"12\" lengthAdjust=\"spacingAndGlyphs\" textLength=\"22\" x=\"407\" y=\"101.6387\">y: B</text></a></g><g id=\"E1.E9.E10\"><a href=\"psysml:f3cb1211-10b9-411e-bf19-d5722693e1fe\" target=\"_top\" title=\"psysml:f3cb1211-10b9-411e-bf19-d5722693e1fe\" xlink:actuate=\"onRequest\" xlink:href=\"psysml:f3cb1211-10b9-411e-bf19-d5722693e1fe\" xlink:show=\"new\" xlink:title=\"psysml:f3cb1211-10b9-411e-bf19-d5722693e1fe\" xlink:type=\"simple\"><rect fill=\"#FFFFFF\" height=\"40\" id=\"E10\" rx=\"10\" ry=\"10\" style=\"stroke: #383838; stroke-width: 1.5;\" width=\"50\" x=\"287\" y=\"85.5\"/><rect fill=\"#F8F8F8\" height=\"23.9688\" rx=\"10\" ry=\"10\" style=\"stroke: #F8F8F8; stroke-width: 1.5;\" width=\"50\" x=\"287\" y=\"85.5\"/><rect fill=\"#F8F8F8\" height=\"10\" style=\"stroke: #F8F8F8; stroke-width: 1.5;\" width=\"50\" x=\"287\" y=\"99.4688\"/><rect fill=\"none\" height=\"40\" id=\"E10\" rx=\"10\" ry=\"10\" style=\"stroke: #383838; stroke-width: 1.5;\" width=\"50\" x=\"287\" y=\"85.5\"/><text fill=\"#000000\" font-family=\"sans-serif\" font-size=\"12\" lengthAdjust=\"spacingAndGlyphs\" textLength=\"22\" x=\"301\" y=\"101.6387\">x: A</text></a></g><g id=\"E1.E9.E11\"><a href=\"psysml:9cdccab4-e502-4fbe-97eb-9b231d825ffa\" target=\"_top\" title=\"psysml:9cdccab4-e502-4fbe-97eb-9b231d825ffa\" xlink:actuate=\"onRequest\" xlink:href=\"psysml:9cdccab4-e502-4fbe-97eb-9b231d825ffa\" xlink:show=\"new\" xlink:title=\"psysml:9cdccab4-e502-4fbe-97eb-9b231d825ffa\" xlink:type=\"simple\"><rect fill=\"#FFFFFF\" height=\"40\" id=\"E11\" rx=\"10\" ry=\"10\" style=\"stroke: #383838; stroke-width: 1.5;\" width=\"50\" x=\"202\" y=\"85.5\"/><rect fill=\"#F8F8F8\" height=\"23.9688\" rx=\"10\" ry=\"10\" style=\"stroke: #F8F8F8; stroke-width: 1.5;\" width=\"50\" x=\"202\" y=\"85.5\"/><rect fill=\"#F8F8F8\" height=\"10\" style=\"stroke: #F8F8F8; stroke-width: 1.5;\" width=\"50\" x=\"202\" y=\"99.4688\"/><rect fill=\"none\" height=\"40\" id=\"E11\" rx=\"10\" ry=\"10\" style=\"stroke: #383838; stroke-width: 1.5;\" width=\"50\" x=\"202\" y=\"85.5\"/><text fill=\"#000000\" font-family=\"sans-serif\" font-size=\"12\" lengthAdjust=\"spacingAndGlyphs\" textLength=\"22\" x=\"216\" y=\"101.6387\">y: B</text></a></g><g id=\"E1.E12\"><a href=\"psysml:87edab01-bf58-4e9e-abd1-c8b0194f7dca\" target=\"_top\" title=\"psysml:87edab01-bf58-4e9e-abd1-c8b0194f7dca\" xlink:actuate=\"onRequest\" xlink:href=\"psysml:87edab01-bf58-4e9e-abd1-c8b0194f7dca\" xlink:show=\"new\" xlink:title=\"psysml:87edab01-bf58-4e9e-abd1-c8b0194f7dca\" xlink:type=\"simple\"><rect fill=\"#FFFFFF\" height=\"40\" id=\"E12\" rx=\"10\" ry=\"10\" style=\"stroke: #383838; stroke-width: 1.5;\" width=\"50\" x=\"117\" y=\"85.5\"/><rect fill=\"#F8F8F8\" height=\"23.9688\" rx=\"10\" ry=\"10\" style=\"stroke: #F8F8F8; stroke-width: 1.5;\" width=\"50\" x=\"117\" y=\"85.5\"/><rect fill=\"#F8F8F8\" height=\"10\" style=\"stroke: #F8F8F8; stroke-width: 1.5;\" width=\"50\" x=\"117\" y=\"99.4688\"/><rect fill=\"none\" height=\"40\" id=\"E12\" rx=\"10\" ry=\"10\" style=\"stroke: #383838; stroke-width: 1.5;\" width=\"50\" x=\"117\" y=\"85.5\"/><text fill=\"#000000\" font-family=\"sans-serif\" font-size=\"12\" lengthAdjust=\"spacingAndGlyphs\" textLength=\"22\" x=\"131\" y=\"101.6387\">x: A</text></a></g><g id=\"E1.E13\"><a href=\"psysml:20c5387a-1627-4e14-8312-6f39b31ab3f7\" target=\"_top\" title=\"psysml:20c5387a-1627-4e14-8312-6f39b31ab3f7\" xlink:actuate=\"onRequest\" xlink:href=\"psysml:20c5387a-1627-4e14-8312-6f39b31ab3f7\" xlink:show=\"new\" xlink:title=\"psysml:20c5387a-1627-4e14-8312-6f39b31ab3f7\" xlink:type=\"simple\"><rect fill=\"#FFFFFF\" height=\"40\" id=\"E13\" rx=\"10\" ry=\"10\" style=\"stroke: #383838; stroke-width: 1.5;\" width=\"50\" x=\"32\" y=\"85.5\"/><rect fill=\"#F8F8F8\" height=\"23.9688\" rx=\"10\" ry=\"10\" style=\"stroke: #F8F8F8; stroke-width: 1.5;\" width=\"50\" x=\"32\" y=\"85.5\"/><rect fill=\"#F8F8F8\" height=\"10\" style=\"stroke: #F8F8F8; stroke-width: 1.5;\" width=\"50\" x=\"32\" y=\"99.4688\"/><rect fill=\"none\" height=\"40\" id=\"E13\" rx=\"10\" ry=\"10\" style=\"stroke: #383838; stroke-width: 1.5;\" width=\"50\" x=\"32\" y=\"85.5\"/><text fill=\"#000000\" font-family=\"sans-serif\" font-size=\"12\" lengthAdjust=\"spacingAndGlyphs\" textLength=\"22\" x=\"46\" y=\"101.6387\">y: B</text></a></g><!--MD5=[3879eb33d6af1f900af24d2db9ed492d]\n",
       "@startuml\r\n",
       "skinparam ranksep 10\r\n",
       "skinparam rectangle {\r\n",
       " backgroundColor<<block>> LightGreen\r\n",
       "}\r\n",
       "skinparam linetype ortho\r\n",
       "skinparam monochrome true\r\n",
       "skinparam classbackgroundcolor white\r\n",
       "skinparam shadowing false\r\n",
       "skinparam wrapWidth 300\r\n",
       "hide circle\r\n",
       "\r\n",
       "package \"CircularImport\" as E1  [[psysml:690cd2ec-4fe7-4d94-89bf-c3d63ed60cd3 ]]  {\r\n",
       "package \"P1\" as E2  [[psysml:54e3154d-4fa4-4c14-a367-edca149a76a1 ]]  {\r\n",
       "rec def \"A\" as E3  <<(T,blue)part def>> [[psysml:281245e6-0723-4878-ac57-c406fd778909 ]] {\r\n",
       "}\r\n",
       "}\r\n",
       "package \"P2\" as E4  [[psysml:581c4a9e-fb07-4d80-ac64-c8c7b70027d2 ]]  {\r\n",
       "rec def \"B\" as E5  <<(T,blue)part def>> [[psysml:57665928-471f-4095-91e2-d839a960cf78 ]] {\r\n",
       "}\r\n",
       "}\r\n",
       "package \"Test1\" as E6  [[psysml:6bb49afc-ac2c-47b7-b48e-5bd0a62b326b ]]  {\r\n",
       "rec usage \"x: A\" as E7  [[psysml:d6e39b1a-8a39-4c69-85ab-aa8551443e08 ]] {\r\n",
       "}\r\n",
       "rec usage \"y: B\" as E8  [[psysml:ead6e64d-b294-4a2d-a1d8-90d3751f1490 ]] {\r\n",
       "}\r\n",
       "}\r\n",
       "package \"Test2\" as E9  [[psysml:051bf7cb-81b8-4c37-8865-8bb7ea974985 ]]  {\r\n",
       "rec usage \"x: A\" as E10  [[psysml:f3cb1211-10b9-411e-bf19-d5722693e1fe ]] {\r\n",
       "}\r\n",
       "rec usage \"y: B\" as E11  [[psysml:9cdccab4-e502-4fbe-97eb-9b231d825ffa ]] {\r\n",
       "}\r\n",
       "}\r\n",
       "rec usage \"x: A\" as E12  [[psysml:87edab01-bf58-4e9e-abd1-c8b0194f7dca ]] {\r\n",
       "}\r\n",
       "rec usage \"y: B\" as E13  [[psysml:20c5387a-1627-4e14-8312-6f39b31ab3f7 ]] {\r\n",
       "}\r\n",
       "}\r\n",
       "@enduml\r\n",
       "\n",
       "PlantUML version 1.2020.13(Sat Jun 13 12:26:38 UTC 2020)\n",
       "(EPL source distribution)\n",
       "Java Runtime: OpenJDK Runtime Environment\n",
       "JVM: OpenJDK 64-Bit Server VM\n",
       "Default Encoding: UTF-8\n",
       "Language: en\n",
       "Country: null\n",
       "--></g></svg>"
      ]
     },
     "execution_count": 54,
     "metadata": {},
     "output_type": "execute_result"
    }
   ],
   "source": [
    "%viz --style=\"ORTHOLINE\" --view=\"Interconnection\" \"CircularImport\""
   ]
  },
  {
   "cell_type": "code",
   "execution_count": 55,
   "id": "b1c9bd3a",
   "metadata": {
    "execution": {
     "iopub.execute_input": "2021-04-20T06:57:56.030062Z",
     "iopub.status.busy": "2021-04-20T06:57:56.029343Z",
     "iopub.status.idle": "2021-04-20T06:57:56.035478Z",
     "shell.execute_reply": "2021-04-20T06:57:56.035097Z"
    }
   },
   "outputs": [
    {
     "data": {
      "image/svg+xml": [
       "<?xml version=\"1.0\" encoding=\"UTF-8\" standalone=\"no\"?><svg xmlns=\"http://www.w3.org/2000/svg\" xmlns:xlink=\"http://www.w3.org/1999/xlink\" contentScriptType=\"application/ecmascript\" contentStyleType=\"text/css\" height=\"12px\" preserveAspectRatio=\"none\" style=\"width:12px;height:12px;\" version=\"1.1\" viewBox=\"0 0 12 12\" width=\"12px\" zoomAndPan=\"magnify\"><defs/><g><!--MD5=[72934c63077099a26744516a776b4749]\n",
       "@startuml\r\n",
       "skinparam ranksep 8\r\n",
       "skinparam linetype ortho\r\n",
       "skinparam monochrome true\r\n",
       "skinparam classbackgroundcolor white\r\n",
       "skinparam shadowing false\r\n",
       "skinparam wrapWidth 300\r\n",
       "hide circle\r\n",
       "\r\n",
       "@enduml\r\n",
       "\n",
       "PlantUML version 1.2020.13(Sat Jun 13 12:26:38 UTC 2020)\n",
       "(EPL source distribution)\n",
       "Java Runtime: OpenJDK Runtime Environment\n",
       "JVM: OpenJDK 64-Bit Server VM\n",
       "Default Encoding: UTF-8\n",
       "Language: en\n",
       "Country: null\n",
       "--></g></svg>"
      ]
     },
     "execution_count": 55,
     "metadata": {},
     "output_type": "execute_result"
    }
   ],
   "source": [
    "%viz --style=\"ORTHOLINE\" --view=\"Action\" \"CircularImport\""
   ]
  },
  {
   "cell_type": "code",
   "execution_count": 56,
   "id": "1a160d2c",
   "metadata": {
    "execution": {
     "iopub.execute_input": "2021-04-20T06:57:56.087721Z",
     "iopub.status.busy": "2021-04-20T06:57:56.086268Z",
     "iopub.status.idle": "2021-04-20T06:57:56.122913Z",
     "shell.execute_reply": "2021-04-20T06:57:56.121320Z"
    }
   },
   "outputs": [
    {
     "data": {
      "image/svg+xml": [
       "<?xml version=\"1.0\" encoding=\"UTF-8\" standalone=\"no\"?><svg xmlns=\"http://www.w3.org/2000/svg\" xmlns:xlink=\"http://www.w3.org/1999/xlink\" contentScriptType=\"application/ecmascript\" contentStyleType=\"text/css\" height=\"303px\" preserveAspectRatio=\"none\" style=\"width:518px;height:303px;\" version=\"1.1\" viewBox=\"0 0 518 303\" width=\"518px\" zoomAndPan=\"magnify\"><defs/><g><!--MD5=[fbc87193dbaf4d95561dea2c320d4a47]\n",
       "cluster E1--><a href=\"psysml:690cd2ec-4fe7-4d94-89bf-c3d63ed60cd3\" target=\"_top\" title=\"psysml:690cd2ec-4fe7-4d94-89bf-c3d63ed60cd3\" xlink:actuate=\"onRequest\" xlink:href=\"psysml:690cd2ec-4fe7-4d94-89bf-c3d63ed60cd3\" xlink:show=\"new\" xlink:title=\"psysml:690cd2ec-4fe7-4d94-89bf-c3d63ed60cd3\" xlink:type=\"simple\"><polygon fill=\"#FFFFFF\" points=\"16,6,134,6,141,28.2969,496,28.2969,496,291,16,291,16,6\" style=\"stroke: #000000; stroke-width: 1.5;\"/><line style=\"stroke: #000000; stroke-width: 1.5;\" x1=\"16\" x2=\"141\" y1=\"28.2969\" y2=\"28.2969\"/><text fill=\"#000000\" font-family=\"sans-serif\" font-size=\"14\" font-weight=\"bold\" lengthAdjust=\"spacingAndGlyphs\" textLength=\"112\" x=\"20\" y=\"20.9951\">CircularImport</text></a><!--MD5=[e4f7fae6ed58524ba242bb0b0d3be6b7]\n",
       "cluster E2--><a href=\"psysml:54e3154d-4fa4-4c14-a367-edca149a76a1\" target=\"_top\" title=\"psysml:54e3154d-4fa4-4c14-a367-edca149a76a1\" xlink:actuate=\"onRequest\" xlink:href=\"psysml:54e3154d-4fa4-4c14-a367-edca149a76a1\" xlink:show=\"new\" xlink:title=\"psysml:54e3154d-4fa4-4c14-a367-edca149a76a1\" xlink:type=\"simple\"><polygon fill=\"#FFFFFF\" points=\"333,170,359,170,366,192.2969,431,192.2969,431,267,333,267,333,170\" style=\"stroke: #000000; stroke-width: 1.5;\"/><line style=\"stroke: #000000; stroke-width: 1.5;\" x1=\"333\" x2=\"366\" y1=\"192.2969\" y2=\"192.2969\"/><text fill=\"#000000\" font-family=\"sans-serif\" font-size=\"14\" font-weight=\"bold\" lengthAdjust=\"spacingAndGlyphs\" textLength=\"20\" x=\"337\" y=\"184.9951\">P1</text></a><!--MD5=[f6df4d0ebaf0b5dfb2ced0ae5af7c670]\n",
       "cluster E4--><a href=\"psysml:581c4a9e-fb07-4d80-ac64-c8c7b70027d2\" target=\"_top\" title=\"psysml:581c4a9e-fb07-4d80-ac64-c8c7b70027d2\" xlink:actuate=\"onRequest\" xlink:href=\"psysml:581c4a9e-fb07-4d80-ac64-c8c7b70027d2\" xlink:show=\"new\" xlink:title=\"psysml:581c4a9e-fb07-4d80-ac64-c8c7b70027d2\" xlink:type=\"simple\"><polygon fill=\"#FFFFFF\" points=\"81,170,107,170,114,192.2969,179,192.2969,179,267,81,267,81,170\" style=\"stroke: #000000; stroke-width: 1.5;\"/><line style=\"stroke: #000000; stroke-width: 1.5;\" x1=\"81\" x2=\"114\" y1=\"192.2969\" y2=\"192.2969\"/><text fill=\"#000000\" font-family=\"sans-serif\" font-size=\"14\" font-weight=\"bold\" lengthAdjust=\"spacingAndGlyphs\" textLength=\"20\" x=\"85\" y=\"184.9951\">P2</text></a><!--MD5=[14e3b0961a2654348d326746436168a1]\n",
       "cluster E6--><a href=\"psysml:6bb49afc-ac2c-47b7-b48e-5bd0a62b326b\" target=\"_top\" title=\"psysml:6bb49afc-ac2c-47b7-b48e-5bd0a62b326b\" xlink:actuate=\"onRequest\" xlink:href=\"psysml:6bb49afc-ac2c-47b7-b48e-5bd0a62b326b\" xlink:show=\"new\" xlink:title=\"psysml:6bb49afc-ac2c-47b7-b48e-5bd0a62b326b\" xlink:type=\"simple\"><polygon fill=\"#FFFFFF\" points=\"268,49,319,49,326,71.2969,419,71.2969,419,146,268,146,268,49\" style=\"stroke: #000000; stroke-width: 1.5;\"/><line style=\"stroke: #000000; stroke-width: 1.5;\" x1=\"268\" x2=\"326\" y1=\"71.2969\" y2=\"71.2969\"/><text fill=\"#000000\" font-family=\"sans-serif\" font-size=\"14\" font-weight=\"bold\" lengthAdjust=\"spacingAndGlyphs\" textLength=\"45\" x=\"272\" y=\"63.9951\">Test1</text></a><!--MD5=[7f149f147074ac12df2cb0a7728a5fb0]\n",
       "cluster E9--><a href=\"psysml:051bf7cb-81b8-4c37-8865-8bb7ea974985\" target=\"_top\" title=\"psysml:051bf7cb-81b8-4c37-8865-8bb7ea974985\" xlink:actuate=\"onRequest\" xlink:href=\"psysml:051bf7cb-81b8-4c37-8865-8bb7ea974985\" xlink:show=\"new\" xlink:title=\"psysml:051bf7cb-81b8-4c37-8865-8bb7ea974985\" xlink:type=\"simple\"><polygon fill=\"#FFFFFF\" points=\"93,49,144,49,151,71.2969,244,71.2969,244,146,93,146,93,49\" style=\"stroke: #000000; stroke-width: 1.5;\"/><line style=\"stroke: #000000; stroke-width: 1.5;\" x1=\"93\" x2=\"151\" y1=\"71.2969\" y2=\"71.2969\"/><text fill=\"#000000\" font-family=\"sans-serif\" font-size=\"14\" font-weight=\"bold\" lengthAdjust=\"spacingAndGlyphs\" textLength=\"45\" x=\"97\" y=\"63.9951\">Test2</text></a><!--MD5=[49a0ec8f00dab7302a31f22d0f0fe584]\n",
       "class E12--><a href=\"psysml:87edab01-bf58-4e9e-abd1-c8b0194f7dca\" target=\"_top\" title=\"psysml:87edab01-bf58-4e9e-abd1-c8b0194f7dca\" xlink:actuate=\"onRequest\" xlink:href=\"psysml:87edab01-bf58-4e9e-abd1-c8b0194f7dca\" xlink:show=\"new\" xlink:title=\"psysml:87edab01-bf58-4e9e-abd1-c8b0194f7dca\" xlink:type=\"simple\"><rect fill=\"#FFFFFF\" height=\"45.9375\" id=\"E12\" rx=\"10\" ry=\"10\" style=\"stroke: #383838; stroke-width: 1.5;\" width=\"42\" x=\"438\" y=\"84\"/><text fill=\"#000000\" font-family=\"sans-serif\" font-size=\"12\" font-style=\"italic\" lengthAdjust=\"spacingAndGlyphs\" textLength=\"40\" x=\"439\" y=\"100.1387\">«part»</text><text fill=\"#000000\" font-family=\"sans-serif\" font-size=\"12\" lengthAdjust=\"spacingAndGlyphs\" textLength=\"22\" x=\"448\" y=\"114.1074\">x: A</text><line style=\"stroke: #383838; stroke-width: 1.5;\" x1=\"439\" x2=\"479\" y1=\"121.9375\" y2=\"121.9375\"/></a><!--MD5=[ee3c913d1a06f366521f9ef512b67efe]\n",
       "class E13--><a href=\"psysml:20c5387a-1627-4e14-8312-6f39b31ab3f7\" target=\"_top\" title=\"psysml:20c5387a-1627-4e14-8312-6f39b31ab3f7\" xlink:actuate=\"onRequest\" xlink:href=\"psysml:20c5387a-1627-4e14-8312-6f39b31ab3f7\" xlink:show=\"new\" xlink:title=\"psysml:20c5387a-1627-4e14-8312-6f39b31ab3f7\" xlink:type=\"simple\"><rect fill=\"#FFFFFF\" height=\"45.9375\" id=\"E13\" rx=\"10\" ry=\"10\" style=\"stroke: #383838; stroke-width: 1.5;\" width=\"42\" x=\"32\" y=\"84\"/><text fill=\"#000000\" font-family=\"sans-serif\" font-size=\"12\" font-style=\"italic\" lengthAdjust=\"spacingAndGlyphs\" textLength=\"40\" x=\"33\" y=\"100.1387\">«part»</text><text fill=\"#000000\" font-family=\"sans-serif\" font-size=\"12\" lengthAdjust=\"spacingAndGlyphs\" textLength=\"22\" x=\"42\" y=\"114.1074\">y: B</text><line style=\"stroke: #383838; stroke-width: 1.5;\" x1=\"33\" x2=\"73\" y1=\"121.9375\" y2=\"121.9375\"/></a><!--MD5=[09b614a08d8cba4a07c9adeb5e0fee81]\n",
       "class E3--><a href=\"psysml:281245e6-0723-4878-ac57-c406fd778909\" target=\"_top\" title=\"psysml:281245e6-0723-4878-ac57-c406fd778909\" xlink:actuate=\"onRequest\" xlink:href=\"psysml:281245e6-0723-4878-ac57-c406fd778909\" xlink:show=\"new\" xlink:title=\"psysml:281245e6-0723-4878-ac57-c406fd778909\" xlink:type=\"simple\"><rect fill=\"#FFFFFF\" height=\"45.9375\" id=\"E3\" style=\"stroke: #383838; stroke-width: 1.5;\" width=\"66\" x=\"349\" y=\"205\"/><text fill=\"#000000\" font-family=\"sans-serif\" font-size=\"12\" font-style=\"italic\" lengthAdjust=\"spacingAndGlyphs\" textLength=\"64\" x=\"350\" y=\"221.1387\">«part def»</text><text fill=\"#000000\" font-family=\"sans-serif\" font-size=\"12\" lengthAdjust=\"spacingAndGlyphs\" textLength=\"8\" x=\"378\" y=\"235.1074\">A</text><line style=\"stroke: #383838; stroke-width: 1.5;\" x1=\"350\" x2=\"414\" y1=\"242.9375\" y2=\"242.9375\"/></a><!--MD5=[270fce915f116d4de14055a7c1d9a0f3]\n",
       "class E5--><a href=\"psysml:57665928-471f-4095-91e2-d839a960cf78\" target=\"_top\" title=\"psysml:57665928-471f-4095-91e2-d839a960cf78\" xlink:actuate=\"onRequest\" xlink:href=\"psysml:57665928-471f-4095-91e2-d839a960cf78\" xlink:show=\"new\" xlink:title=\"psysml:57665928-471f-4095-91e2-d839a960cf78\" xlink:type=\"simple\"><rect fill=\"#FFFFFF\" height=\"45.9375\" id=\"E5\" style=\"stroke: #383838; stroke-width: 1.5;\" width=\"66\" x=\"97\" y=\"205\"/><text fill=\"#000000\" font-family=\"sans-serif\" font-size=\"12\" font-style=\"italic\" lengthAdjust=\"spacingAndGlyphs\" textLength=\"64\" x=\"98\" y=\"221.1387\">«part def»</text><text fill=\"#000000\" font-family=\"sans-serif\" font-size=\"12\" lengthAdjust=\"spacingAndGlyphs\" textLength=\"8\" x=\"126\" y=\"235.1074\">B</text><line style=\"stroke: #383838; stroke-width: 1.5;\" x1=\"98\" x2=\"162\" y1=\"242.9375\" y2=\"242.9375\"/></a><!--MD5=[2156ba9850f5573cc1fc38a6a4b2f02b]\n",
       "class E7--><a href=\"psysml:d6e39b1a-8a39-4c69-85ab-aa8551443e08\" target=\"_top\" title=\"psysml:d6e39b1a-8a39-4c69-85ab-aa8551443e08\" xlink:actuate=\"onRequest\" xlink:href=\"psysml:d6e39b1a-8a39-4c69-85ab-aa8551443e08\" xlink:show=\"new\" xlink:title=\"psysml:d6e39b1a-8a39-4c69-85ab-aa8551443e08\" xlink:type=\"simple\"><rect fill=\"#FFFFFF\" height=\"45.9375\" id=\"E7\" rx=\"10\" ry=\"10\" style=\"stroke: #383838; stroke-width: 1.5;\" width=\"42\" x=\"361\" y=\"84\"/><text fill=\"#000000\" font-family=\"sans-serif\" font-size=\"12\" font-style=\"italic\" lengthAdjust=\"spacingAndGlyphs\" textLength=\"40\" x=\"362\" y=\"100.1387\">«part»</text><text fill=\"#000000\" font-family=\"sans-serif\" font-size=\"12\" lengthAdjust=\"spacingAndGlyphs\" textLength=\"22\" x=\"371\" y=\"114.1074\">x: A</text><line style=\"stroke: #383838; stroke-width: 1.5;\" x1=\"362\" x2=\"402\" y1=\"121.9375\" y2=\"121.9375\"/></a><!--MD5=[b9389687b975829384b498ac4b7476b2]\n",
       "class E8--><a href=\"psysml:ead6e64d-b294-4a2d-a1d8-90d3751f1490\" target=\"_top\" title=\"psysml:ead6e64d-b294-4a2d-a1d8-90d3751f1490\" xlink:actuate=\"onRequest\" xlink:href=\"psysml:ead6e64d-b294-4a2d-a1d8-90d3751f1490\" xlink:show=\"new\" xlink:title=\"psysml:ead6e64d-b294-4a2d-a1d8-90d3751f1490\" xlink:type=\"simple\"><rect fill=\"#FFFFFF\" height=\"45.9375\" id=\"E8\" rx=\"10\" ry=\"10\" style=\"stroke: #383838; stroke-width: 1.5;\" width=\"42\" x=\"284\" y=\"84\"/><text fill=\"#000000\" font-family=\"sans-serif\" font-size=\"12\" font-style=\"italic\" lengthAdjust=\"spacingAndGlyphs\" textLength=\"40\" x=\"285\" y=\"100.1387\">«part»</text><text fill=\"#000000\" font-family=\"sans-serif\" font-size=\"12\" lengthAdjust=\"spacingAndGlyphs\" textLength=\"22\" x=\"294\" y=\"114.1074\">y: B</text><line style=\"stroke: #383838; stroke-width: 1.5;\" x1=\"285\" x2=\"325\" y1=\"121.9375\" y2=\"121.9375\"/></a><!--MD5=[96f4274e9e20536e775497830990834d]\n",
       "class E10--><a href=\"psysml:f3cb1211-10b9-411e-bf19-d5722693e1fe\" target=\"_top\" title=\"psysml:f3cb1211-10b9-411e-bf19-d5722693e1fe\" xlink:actuate=\"onRequest\" xlink:href=\"psysml:f3cb1211-10b9-411e-bf19-d5722693e1fe\" xlink:show=\"new\" xlink:title=\"psysml:f3cb1211-10b9-411e-bf19-d5722693e1fe\" xlink:type=\"simple\"><rect fill=\"#FFFFFF\" height=\"45.9375\" id=\"E10\" rx=\"10\" ry=\"10\" style=\"stroke: #383838; stroke-width: 1.5;\" width=\"42\" x=\"186\" y=\"84\"/><text fill=\"#000000\" font-family=\"sans-serif\" font-size=\"12\" font-style=\"italic\" lengthAdjust=\"spacingAndGlyphs\" textLength=\"40\" x=\"187\" y=\"100.1387\">«part»</text><text fill=\"#000000\" font-family=\"sans-serif\" font-size=\"12\" lengthAdjust=\"spacingAndGlyphs\" textLength=\"22\" x=\"196\" y=\"114.1074\">x: A</text><line style=\"stroke: #383838; stroke-width: 1.5;\" x1=\"187\" x2=\"227\" y1=\"121.9375\" y2=\"121.9375\"/></a><!--MD5=[1dd1bfd58a279cf63c5f349dbc8fc6a1]\n",
       "class E11--><a href=\"psysml:9cdccab4-e502-4fbe-97eb-9b231d825ffa\" target=\"_top\" title=\"psysml:9cdccab4-e502-4fbe-97eb-9b231d825ffa\" xlink:actuate=\"onRequest\" xlink:href=\"psysml:9cdccab4-e502-4fbe-97eb-9b231d825ffa\" xlink:show=\"new\" xlink:title=\"psysml:9cdccab4-e502-4fbe-97eb-9b231d825ffa\" xlink:type=\"simple\"><rect fill=\"#FFFFFF\" height=\"45.9375\" id=\"E11\" rx=\"10\" ry=\"10\" style=\"stroke: #383838; stroke-width: 1.5;\" width=\"42\" x=\"109\" y=\"84\"/><text fill=\"#000000\" font-family=\"sans-serif\" font-size=\"12\" font-style=\"italic\" lengthAdjust=\"spacingAndGlyphs\" textLength=\"40\" x=\"110\" y=\"100.1387\">«part»</text><text fill=\"#000000\" font-family=\"sans-serif\" font-size=\"12\" lengthAdjust=\"spacingAndGlyphs\" textLength=\"22\" x=\"119\" y=\"114.1074\">y: B</text><line style=\"stroke: #383838; stroke-width: 1.5;\" x1=\"110\" x2=\"150\" y1=\"121.9375\" y2=\"121.9375\"/></a><!--MD5=[14ccda38c055a5c0da953d572bc50960]\n",
       "link E7 to E3--><a href=\"psysml:84278f38-d400-4655-8657-76a37dd9bb09\" target=\"_top\" title=\"psysml:84278f38-d400-4655-8657-76a37dd9bb09\" xlink:actuate=\"onRequest\" xlink:href=\"psysml:84278f38-d400-4655-8657-76a37dd9bb09\" xlink:show=\"new\" xlink:title=\"psysml:84278f38-d400-4655-8657-76a37dd9bb09\" xlink:type=\"simple\"><path d=\"M382,130.04 C382,130.04 382,184.63 382,184.63 \" fill=\"none\" id=\"E7-&gt;E3\" style=\"stroke: #383838; stroke-width: 1.0;\"/><polygon fill=\"#FFFFFF\" points=\"382,204.63,375,185.63,389,185.63,382,204.63\" style=\"stroke: #383838; stroke-width: 1.0;\"/><ellipse cx=\"377\" cy=\"179.93\" fill=\"#383838\" rx=\"2\" ry=\"2\" style=\"stroke: #383838; stroke-width: 1.0;\"/><ellipse cx=\"387\" cy=\"179.93\" fill=\"#383838\" rx=\"2\" ry=\"2\" style=\"stroke: #383838; stroke-width: 1.0;\"/></a><!--MD5=[1ccb2481ffa92f8d51a74ee30c51832a]\n",
       "link E8 to E5--><a href=\"psysml:9a62fcce-aa5a-49d2-8cac-0b2f538e5bd0\" target=\"_top\" title=\"psysml:9a62fcce-aa5a-49d2-8cac-0b2f538e5bd0\" xlink:actuate=\"onRequest\" xlink:href=\"psysml:9a62fcce-aa5a-49d2-8cac-0b2f538e5bd0\" xlink:show=\"new\" xlink:title=\"psysml:9a62fcce-aa5a-49d2-8cac-0b2f538e5bd0\" xlink:type=\"simple\"><path d=\"M305,130.06 C305,167.17 305,236 305,236 C305,236 183.33,236 183.33,236 \" fill=\"none\" id=\"E8-&gt;E5\" style=\"stroke: #383838; stroke-width: 1.0;\"/><polygon fill=\"#FFFFFF\" points=\"163.33,236,182.33,229,182.33,243,163.33,236\" style=\"stroke: #383838; stroke-width: 1.0;\"/><ellipse cx=\"188.03\" cy=\"231\" fill=\"#383838\" rx=\"2\" ry=\"2\" style=\"stroke: #383838; stroke-width: 1.0;\"/><ellipse cx=\"188.03\" cy=\"241\" fill=\"#383838\" rx=\"2\" ry=\"2\" style=\"stroke: #383838; stroke-width: 1.0;\"/></a><!--MD5=[feeac5eb423634930294aa81f2d25a4c]\n",
       "link E10 to E3--><a href=\"psysml:bd7260c7-b55a-4391-86f8-9493bae3bcdc\" target=\"_top\" title=\"psysml:bd7260c7-b55a-4391-86f8-9493bae3bcdc\" xlink:actuate=\"onRequest\" xlink:href=\"psysml:bd7260c7-b55a-4391-86f8-9493bae3bcdc\" xlink:show=\"new\" xlink:title=\"psysml:bd7260c7-b55a-4391-86f8-9493bae3bcdc\" xlink:type=\"simple\"><path d=\"M207,130.07 C207,163.38 207,221 207,221 C207,221 328.67,221 328.67,221 \" fill=\"none\" id=\"E10-&gt;E3\" style=\"stroke: #383838; stroke-width: 1.0;\"/><polygon fill=\"#FFFFFF\" points=\"348.67,221,329.67,228,329.67,214,348.67,221\" style=\"stroke: #383838; stroke-width: 1.0;\"/><ellipse cx=\"323.97\" cy=\"226\" fill=\"#383838\" rx=\"2\" ry=\"2\" style=\"stroke: #383838; stroke-width: 1.0;\"/><ellipse cx=\"323.97\" cy=\"216\" fill=\"#383838\" rx=\"2\" ry=\"2\" style=\"stroke: #383838; stroke-width: 1.0;\"/></a><!--MD5=[07b77f6f309248d16187045709d1c26e]\n",
       "link E11 to E5--><a href=\"psysml:099d00ce-a154-42ce-865e-6b31b35a0829\" target=\"_top\" title=\"psysml:099d00ce-a154-42ce-865e-6b31b35a0829\" xlink:actuate=\"onRequest\" xlink:href=\"psysml:099d00ce-a154-42ce-865e-6b31b35a0829\" xlink:show=\"new\" xlink:title=\"psysml:099d00ce-a154-42ce-865e-6b31b35a0829\" xlink:type=\"simple\"><path d=\"M130,130.04 C130,130.04 130,184.63 130,184.63 \" fill=\"none\" id=\"E11-&gt;E5\" style=\"stroke: #383838; stroke-width: 1.0;\"/><polygon fill=\"#FFFFFF\" points=\"130,204.63,123,185.63,137,185.63,130,204.63\" style=\"stroke: #383838; stroke-width: 1.0;\"/><ellipse cx=\"125\" cy=\"179.93\" fill=\"#383838\" rx=\"2\" ry=\"2\" style=\"stroke: #383838; stroke-width: 1.0;\"/><ellipse cx=\"135\" cy=\"179.93\" fill=\"#383838\" rx=\"2\" ry=\"2\" style=\"stroke: #383838; stroke-width: 1.0;\"/></a><!--MD5=[39f41a0e550fb3d73b4d8135617e30a2]\n",
       "link E12 to E3--><a href=\"psysml:2e0d72ae-9b36-4ac2-af7e-1d21d87eecf3\" target=\"_top\" title=\"psysml:2e0d72ae-9b36-4ac2-af7e-1d21d87eecf3\" xlink:actuate=\"onRequest\" xlink:href=\"psysml:2e0d72ae-9b36-4ac2-af7e-1d21d87eecf3\" xlink:show=\"new\" xlink:title=\"psysml:2e0d72ae-9b36-4ac2-af7e-1d21d87eecf3\" xlink:type=\"simple\"><path d=\"M437.8,107 C424.17,107 409,107 409,107 C409,107 409,184.96 409,184.96 \" fill=\"none\" id=\"E12-&gt;E3\" style=\"stroke: #383838; stroke-width: 1.0;\"/><polygon fill=\"#FFFFFF\" points=\"409,204.96,402,185.96,416,185.96,409,204.96\" style=\"stroke: #383838; stroke-width: 1.0;\"/><ellipse cx=\"404\" cy=\"180.26\" fill=\"#383838\" rx=\"2\" ry=\"2\" style=\"stroke: #383838; stroke-width: 1.0;\"/><ellipse cx=\"414\" cy=\"180.26\" fill=\"#383838\" rx=\"2\" ry=\"2\" style=\"stroke: #383838; stroke-width: 1.0;\"/></a><!--MD5=[066b2d8af59fea80ccdb3d54ad5c1091]\n",
       "link E13 to E5--><a href=\"psysml:28c76814-e954-4c97-b716-40e2f6813c6b\" target=\"_top\" title=\"psysml:28c76814-e954-4c97-b716-40e2f6813c6b\" xlink:actuate=\"onRequest\" xlink:href=\"psysml:28c76814-e954-4c97-b716-40e2f6813c6b\" xlink:show=\"new\" xlink:title=\"psysml:28c76814-e954-4c97-b716-40e2f6813c6b\" xlink:type=\"simple\"><path d=\"M74.2,107 C87.83,107 103,107 103,107 C103,107 103,184.96 103,184.96 \" fill=\"none\" id=\"E13-&gt;E5\" style=\"stroke: #383838; stroke-width: 1.0;\"/><polygon fill=\"#FFFFFF\" points=\"103,204.96,96,185.96,110,185.96,103,204.96\" style=\"stroke: #383838; stroke-width: 1.0;\"/><ellipse cx=\"98\" cy=\"180.26\" fill=\"#383838\" rx=\"2\" ry=\"2\" style=\"stroke: #383838; stroke-width: 1.0;\"/><ellipse cx=\"108\" cy=\"180.26\" fill=\"#383838\" rx=\"2\" ry=\"2\" style=\"stroke: #383838; stroke-width: 1.0;\"/></a><!--MD5=[3c1423982a9c9240900ba7b5938af2df]\n",
       "@startuml\r\n",
       "skinparam linetype ortho\r\n",
       "skinparam monochrome true\r\n",
       "skinparam classbackgroundcolor white\r\n",
       "skinparam shadowing false\r\n",
       "skinparam wrapWidth 300\r\n",
       "hide circle\r\n",
       "\r\n",
       "package \"CircularImport\" as E1  [[psysml:690cd2ec-4fe7-4d94-89bf-c3d63ed60cd3 ]]  {\r\n",
       "package \"P1\" as E2  [[psysml:54e3154d-4fa4-4c14-a367-edca149a76a1 ]]  {\r\n",
       "comp def \"A\" as E3  <<(T,blue)part def>> [[psysml:281245e6-0723-4878-ac57-c406fd778909 ]] {\r\n",
       "}\r\n",
       "}\r\n",
       "package \"P2\" as E4  [[psysml:581c4a9e-fb07-4d80-ac64-c8c7b70027d2 ]]  {\r\n",
       "comp def \"B\" as E5  <<(T,blue)part def>> [[psysml:57665928-471f-4095-91e2-d839a960cf78 ]] {\r\n",
       "}\r\n",
       "}\r\n",
       "package \"Test1\" as E6  [[psysml:6bb49afc-ac2c-47b7-b48e-5bd0a62b326b ]]  {\r\n",
       "comp usage \"x: A\" as E7  <<(T,blue)part>> [[psysml:d6e39b1a-8a39-4c69-85ab-aa8551443e08 ]] {\r\n",
       "}\r\n",
       "comp usage \"y: B\" as E8  <<(T,blue)part>> [[psysml:ead6e64d-b294-4a2d-a1d8-90d3751f1490 ]] {\r\n",
       "}\r\n",
       "E7 - -:|> E3 [[psysml:84278f38-d400-4655-8657-76a37dd9bb09 ]] \r\n",
       "E8 - -:|> E5 [[psysml:9a62fcce-aa5a-49d2-8cac-0b2f538e5bd0 ]] \r\n",
       "}\r\n",
       "package \"Test2\" as E9  [[psysml:051bf7cb-81b8-4c37-8865-8bb7ea974985 ]]  {\r\n",
       "comp usage \"x: A\" as E10  <<(T,blue)part>> [[psysml:f3cb1211-10b9-411e-bf19-d5722693e1fe ]] {\r\n",
       "}\r\n",
       "comp usage \"y: B\" as E11  <<(T,blue)part>> [[psysml:9cdccab4-e502-4fbe-97eb-9b231d825ffa ]] {\r\n",
       "}\r\n",
       "E10 - -:|> E3 [[psysml:bd7260c7-b55a-4391-86f8-9493bae3bcdc ]] \r\n",
       "E11 - -:|> E5 [[psysml:099d00ce-a154-42ce-865e-6b31b35a0829 ]] \r\n",
       "}\r\n",
       "comp usage \"x: A\" as E12  <<(T,blue)part>> [[psysml:87edab01-bf58-4e9e-abd1-c8b0194f7dca ]] {\r\n",
       "}\r\n",
       "comp usage \"y: B\" as E13  <<(T,blue)part>> [[psysml:20c5387a-1627-4e14-8312-6f39b31ab3f7 ]] {\r\n",
       "}\r\n",
       "E12 - -:|> E3 [[psysml:2e0d72ae-9b36-4ac2-af7e-1d21d87eecf3 ]] \r\n",
       "E13 - -:|> E5 [[psysml:28c76814-e954-4c97-b716-40e2f6813c6b ]] \r\n",
       "}\r\n",
       "@enduml\r\n",
       "\n",
       "PlantUML version 1.2020.13(Sat Jun 13 12:26:38 UTC 2020)\n",
       "(EPL source distribution)\n",
       "Java Runtime: OpenJDK Runtime Environment\n",
       "JVM: OpenJDK 64-Bit Server VM\n",
       "Default Encoding: UTF-8\n",
       "Language: en\n",
       "Country: null\n",
       "--></g></svg>"
      ]
     },
     "execution_count": 56,
     "metadata": {},
     "output_type": "execute_result"
    }
   ],
   "source": [
    "%viz --style=\"ORTHOLINE\" --view=\"Sequence\" \"CircularImport\""
   ]
  },
  {
   "cell_type": "code",
   "execution_count": 57,
   "id": "3c03fa8b",
   "metadata": {
    "execution": {
     "iopub.execute_input": "2021-04-20T06:57:56.172635Z",
     "iopub.status.busy": "2021-04-20T06:57:56.172113Z",
     "iopub.status.idle": "2021-04-20T06:57:56.208096Z",
     "shell.execute_reply": "2021-04-20T06:57:56.206246Z"
    }
   },
   "outputs": [
    {
     "data": {
      "image/svg+xml": [
       "<?xml version=\"1.0\" encoding=\"UTF-8\" standalone=\"no\"?><svg xmlns=\"http://www.w3.org/2000/svg\" xmlns:xlink=\"http://www.w3.org/1999/xlink\" contentScriptType=\"application/ecmascript\" contentStyleType=\"text/css\" height=\"303px\" preserveAspectRatio=\"none\" style=\"width:518px;height:303px;\" version=\"1.1\" viewBox=\"0 0 518 303\" width=\"518px\" zoomAndPan=\"magnify\"><defs/><g><!--MD5=[fbc87193dbaf4d95561dea2c320d4a47]\n",
       "cluster E1--><a href=\"psysml:690cd2ec-4fe7-4d94-89bf-c3d63ed60cd3\" target=\"_top\" title=\"psysml:690cd2ec-4fe7-4d94-89bf-c3d63ed60cd3\" xlink:actuate=\"onRequest\" xlink:href=\"psysml:690cd2ec-4fe7-4d94-89bf-c3d63ed60cd3\" xlink:show=\"new\" xlink:title=\"psysml:690cd2ec-4fe7-4d94-89bf-c3d63ed60cd3\" xlink:type=\"simple\"><polygon fill=\"#FFFFFF\" points=\"16,6,134,6,141,28.2969,496,28.2969,496,291,16,291,16,6\" style=\"stroke: #000000; stroke-width: 1.5;\"/><line style=\"stroke: #000000; stroke-width: 1.5;\" x1=\"16\" x2=\"141\" y1=\"28.2969\" y2=\"28.2969\"/><text fill=\"#000000\" font-family=\"sans-serif\" font-size=\"14\" font-weight=\"bold\" lengthAdjust=\"spacingAndGlyphs\" textLength=\"112\" x=\"20\" y=\"20.9951\">CircularImport</text></a><!--MD5=[e4f7fae6ed58524ba242bb0b0d3be6b7]\n",
       "cluster E2--><a href=\"psysml:54e3154d-4fa4-4c14-a367-edca149a76a1\" target=\"_top\" title=\"psysml:54e3154d-4fa4-4c14-a367-edca149a76a1\" xlink:actuate=\"onRequest\" xlink:href=\"psysml:54e3154d-4fa4-4c14-a367-edca149a76a1\" xlink:show=\"new\" xlink:title=\"psysml:54e3154d-4fa4-4c14-a367-edca149a76a1\" xlink:type=\"simple\"><polygon fill=\"#FFFFFF\" points=\"333,170,359,170,366,192.2969,431,192.2969,431,267,333,267,333,170\" style=\"stroke: #000000; stroke-width: 1.5;\"/><line style=\"stroke: #000000; stroke-width: 1.5;\" x1=\"333\" x2=\"366\" y1=\"192.2969\" y2=\"192.2969\"/><text fill=\"#000000\" font-family=\"sans-serif\" font-size=\"14\" font-weight=\"bold\" lengthAdjust=\"spacingAndGlyphs\" textLength=\"20\" x=\"337\" y=\"184.9951\">P1</text></a><!--MD5=[f6df4d0ebaf0b5dfb2ced0ae5af7c670]\n",
       "cluster E4--><a href=\"psysml:581c4a9e-fb07-4d80-ac64-c8c7b70027d2\" target=\"_top\" title=\"psysml:581c4a9e-fb07-4d80-ac64-c8c7b70027d2\" xlink:actuate=\"onRequest\" xlink:href=\"psysml:581c4a9e-fb07-4d80-ac64-c8c7b70027d2\" xlink:show=\"new\" xlink:title=\"psysml:581c4a9e-fb07-4d80-ac64-c8c7b70027d2\" xlink:type=\"simple\"><polygon fill=\"#FFFFFF\" points=\"81,170,107,170,114,192.2969,179,192.2969,179,267,81,267,81,170\" style=\"stroke: #000000; stroke-width: 1.5;\"/><line style=\"stroke: #000000; stroke-width: 1.5;\" x1=\"81\" x2=\"114\" y1=\"192.2969\" y2=\"192.2969\"/><text fill=\"#000000\" font-family=\"sans-serif\" font-size=\"14\" font-weight=\"bold\" lengthAdjust=\"spacingAndGlyphs\" textLength=\"20\" x=\"85\" y=\"184.9951\">P2</text></a><!--MD5=[14e3b0961a2654348d326746436168a1]\n",
       "cluster E6--><a href=\"psysml:6bb49afc-ac2c-47b7-b48e-5bd0a62b326b\" target=\"_top\" title=\"psysml:6bb49afc-ac2c-47b7-b48e-5bd0a62b326b\" xlink:actuate=\"onRequest\" xlink:href=\"psysml:6bb49afc-ac2c-47b7-b48e-5bd0a62b326b\" xlink:show=\"new\" xlink:title=\"psysml:6bb49afc-ac2c-47b7-b48e-5bd0a62b326b\" xlink:type=\"simple\"><polygon fill=\"#FFFFFF\" points=\"268,49,319,49,326,71.2969,419,71.2969,419,146,268,146,268,49\" style=\"stroke: #000000; stroke-width: 1.5;\"/><line style=\"stroke: #000000; stroke-width: 1.5;\" x1=\"268\" x2=\"326\" y1=\"71.2969\" y2=\"71.2969\"/><text fill=\"#000000\" font-family=\"sans-serif\" font-size=\"14\" font-weight=\"bold\" lengthAdjust=\"spacingAndGlyphs\" textLength=\"45\" x=\"272\" y=\"63.9951\">Test1</text></a><!--MD5=[7f149f147074ac12df2cb0a7728a5fb0]\n",
       "cluster E9--><a href=\"psysml:051bf7cb-81b8-4c37-8865-8bb7ea974985\" target=\"_top\" title=\"psysml:051bf7cb-81b8-4c37-8865-8bb7ea974985\" xlink:actuate=\"onRequest\" xlink:href=\"psysml:051bf7cb-81b8-4c37-8865-8bb7ea974985\" xlink:show=\"new\" xlink:title=\"psysml:051bf7cb-81b8-4c37-8865-8bb7ea974985\" xlink:type=\"simple\"><polygon fill=\"#FFFFFF\" points=\"93,49,144,49,151,71.2969,244,71.2969,244,146,93,146,93,49\" style=\"stroke: #000000; stroke-width: 1.5;\"/><line style=\"stroke: #000000; stroke-width: 1.5;\" x1=\"93\" x2=\"151\" y1=\"71.2969\" y2=\"71.2969\"/><text fill=\"#000000\" font-family=\"sans-serif\" font-size=\"14\" font-weight=\"bold\" lengthAdjust=\"spacingAndGlyphs\" textLength=\"45\" x=\"97\" y=\"63.9951\">Test2</text></a><!--MD5=[49a0ec8f00dab7302a31f22d0f0fe584]\n",
       "class E12--><a href=\"psysml:87edab01-bf58-4e9e-abd1-c8b0194f7dca\" target=\"_top\" title=\"psysml:87edab01-bf58-4e9e-abd1-c8b0194f7dca\" xlink:actuate=\"onRequest\" xlink:href=\"psysml:87edab01-bf58-4e9e-abd1-c8b0194f7dca\" xlink:show=\"new\" xlink:title=\"psysml:87edab01-bf58-4e9e-abd1-c8b0194f7dca\" xlink:type=\"simple\"><rect fill=\"#FFFFFF\" height=\"45.9375\" id=\"E12\" rx=\"10\" ry=\"10\" style=\"stroke: #383838; stroke-width: 1.5;\" width=\"42\" x=\"438\" y=\"84\"/><text fill=\"#000000\" font-family=\"sans-serif\" font-size=\"12\" font-style=\"italic\" lengthAdjust=\"spacingAndGlyphs\" textLength=\"40\" x=\"439\" y=\"100.1387\">«part»</text><text fill=\"#000000\" font-family=\"sans-serif\" font-size=\"12\" lengthAdjust=\"spacingAndGlyphs\" textLength=\"22\" x=\"448\" y=\"114.1074\">x: A</text><line style=\"stroke: #383838; stroke-width: 1.5;\" x1=\"439\" x2=\"479\" y1=\"121.9375\" y2=\"121.9375\"/></a><!--MD5=[ee3c913d1a06f366521f9ef512b67efe]\n",
       "class E13--><a href=\"psysml:20c5387a-1627-4e14-8312-6f39b31ab3f7\" target=\"_top\" title=\"psysml:20c5387a-1627-4e14-8312-6f39b31ab3f7\" xlink:actuate=\"onRequest\" xlink:href=\"psysml:20c5387a-1627-4e14-8312-6f39b31ab3f7\" xlink:show=\"new\" xlink:title=\"psysml:20c5387a-1627-4e14-8312-6f39b31ab3f7\" xlink:type=\"simple\"><rect fill=\"#FFFFFF\" height=\"45.9375\" id=\"E13\" rx=\"10\" ry=\"10\" style=\"stroke: #383838; stroke-width: 1.5;\" width=\"42\" x=\"32\" y=\"84\"/><text fill=\"#000000\" font-family=\"sans-serif\" font-size=\"12\" font-style=\"italic\" lengthAdjust=\"spacingAndGlyphs\" textLength=\"40\" x=\"33\" y=\"100.1387\">«part»</text><text fill=\"#000000\" font-family=\"sans-serif\" font-size=\"12\" lengthAdjust=\"spacingAndGlyphs\" textLength=\"22\" x=\"42\" y=\"114.1074\">y: B</text><line style=\"stroke: #383838; stroke-width: 1.5;\" x1=\"33\" x2=\"73\" y1=\"121.9375\" y2=\"121.9375\"/></a><!--MD5=[09b614a08d8cba4a07c9adeb5e0fee81]\n",
       "class E3--><a href=\"psysml:281245e6-0723-4878-ac57-c406fd778909\" target=\"_top\" title=\"psysml:281245e6-0723-4878-ac57-c406fd778909\" xlink:actuate=\"onRequest\" xlink:href=\"psysml:281245e6-0723-4878-ac57-c406fd778909\" xlink:show=\"new\" xlink:title=\"psysml:281245e6-0723-4878-ac57-c406fd778909\" xlink:type=\"simple\"><rect fill=\"#FFFFFF\" height=\"45.9375\" id=\"E3\" style=\"stroke: #383838; stroke-width: 1.5;\" width=\"66\" x=\"349\" y=\"205\"/><text fill=\"#000000\" font-family=\"sans-serif\" font-size=\"12\" font-style=\"italic\" lengthAdjust=\"spacingAndGlyphs\" textLength=\"64\" x=\"350\" y=\"221.1387\">«part def»</text><text fill=\"#000000\" font-family=\"sans-serif\" font-size=\"12\" lengthAdjust=\"spacingAndGlyphs\" textLength=\"8\" x=\"378\" y=\"235.1074\">A</text><line style=\"stroke: #383838; stroke-width: 1.5;\" x1=\"350\" x2=\"414\" y1=\"242.9375\" y2=\"242.9375\"/></a><!--MD5=[270fce915f116d4de14055a7c1d9a0f3]\n",
       "class E5--><a href=\"psysml:57665928-471f-4095-91e2-d839a960cf78\" target=\"_top\" title=\"psysml:57665928-471f-4095-91e2-d839a960cf78\" xlink:actuate=\"onRequest\" xlink:href=\"psysml:57665928-471f-4095-91e2-d839a960cf78\" xlink:show=\"new\" xlink:title=\"psysml:57665928-471f-4095-91e2-d839a960cf78\" xlink:type=\"simple\"><rect fill=\"#FFFFFF\" height=\"45.9375\" id=\"E5\" style=\"stroke: #383838; stroke-width: 1.5;\" width=\"66\" x=\"97\" y=\"205\"/><text fill=\"#000000\" font-family=\"sans-serif\" font-size=\"12\" font-style=\"italic\" lengthAdjust=\"spacingAndGlyphs\" textLength=\"64\" x=\"98\" y=\"221.1387\">«part def»</text><text fill=\"#000000\" font-family=\"sans-serif\" font-size=\"12\" lengthAdjust=\"spacingAndGlyphs\" textLength=\"8\" x=\"126\" y=\"235.1074\">B</text><line style=\"stroke: #383838; stroke-width: 1.5;\" x1=\"98\" x2=\"162\" y1=\"242.9375\" y2=\"242.9375\"/></a><!--MD5=[2156ba9850f5573cc1fc38a6a4b2f02b]\n",
       "class E7--><a href=\"psysml:d6e39b1a-8a39-4c69-85ab-aa8551443e08\" target=\"_top\" title=\"psysml:d6e39b1a-8a39-4c69-85ab-aa8551443e08\" xlink:actuate=\"onRequest\" xlink:href=\"psysml:d6e39b1a-8a39-4c69-85ab-aa8551443e08\" xlink:show=\"new\" xlink:title=\"psysml:d6e39b1a-8a39-4c69-85ab-aa8551443e08\" xlink:type=\"simple\"><rect fill=\"#FFFFFF\" height=\"45.9375\" id=\"E7\" rx=\"10\" ry=\"10\" style=\"stroke: #383838; stroke-width: 1.5;\" width=\"42\" x=\"361\" y=\"84\"/><text fill=\"#000000\" font-family=\"sans-serif\" font-size=\"12\" font-style=\"italic\" lengthAdjust=\"spacingAndGlyphs\" textLength=\"40\" x=\"362\" y=\"100.1387\">«part»</text><text fill=\"#000000\" font-family=\"sans-serif\" font-size=\"12\" lengthAdjust=\"spacingAndGlyphs\" textLength=\"22\" x=\"371\" y=\"114.1074\">x: A</text><line style=\"stroke: #383838; stroke-width: 1.5;\" x1=\"362\" x2=\"402\" y1=\"121.9375\" y2=\"121.9375\"/></a><!--MD5=[b9389687b975829384b498ac4b7476b2]\n",
       "class E8--><a href=\"psysml:ead6e64d-b294-4a2d-a1d8-90d3751f1490\" target=\"_top\" title=\"psysml:ead6e64d-b294-4a2d-a1d8-90d3751f1490\" xlink:actuate=\"onRequest\" xlink:href=\"psysml:ead6e64d-b294-4a2d-a1d8-90d3751f1490\" xlink:show=\"new\" xlink:title=\"psysml:ead6e64d-b294-4a2d-a1d8-90d3751f1490\" xlink:type=\"simple\"><rect fill=\"#FFFFFF\" height=\"45.9375\" id=\"E8\" rx=\"10\" ry=\"10\" style=\"stroke: #383838; stroke-width: 1.5;\" width=\"42\" x=\"284\" y=\"84\"/><text fill=\"#000000\" font-family=\"sans-serif\" font-size=\"12\" font-style=\"italic\" lengthAdjust=\"spacingAndGlyphs\" textLength=\"40\" x=\"285\" y=\"100.1387\">«part»</text><text fill=\"#000000\" font-family=\"sans-serif\" font-size=\"12\" lengthAdjust=\"spacingAndGlyphs\" textLength=\"22\" x=\"294\" y=\"114.1074\">y: B</text><line style=\"stroke: #383838; stroke-width: 1.5;\" x1=\"285\" x2=\"325\" y1=\"121.9375\" y2=\"121.9375\"/></a><!--MD5=[96f4274e9e20536e775497830990834d]\n",
       "class E10--><a href=\"psysml:f3cb1211-10b9-411e-bf19-d5722693e1fe\" target=\"_top\" title=\"psysml:f3cb1211-10b9-411e-bf19-d5722693e1fe\" xlink:actuate=\"onRequest\" xlink:href=\"psysml:f3cb1211-10b9-411e-bf19-d5722693e1fe\" xlink:show=\"new\" xlink:title=\"psysml:f3cb1211-10b9-411e-bf19-d5722693e1fe\" xlink:type=\"simple\"><rect fill=\"#FFFFFF\" height=\"45.9375\" id=\"E10\" rx=\"10\" ry=\"10\" style=\"stroke: #383838; stroke-width: 1.5;\" width=\"42\" x=\"186\" y=\"84\"/><text fill=\"#000000\" font-family=\"sans-serif\" font-size=\"12\" font-style=\"italic\" lengthAdjust=\"spacingAndGlyphs\" textLength=\"40\" x=\"187\" y=\"100.1387\">«part»</text><text fill=\"#000000\" font-family=\"sans-serif\" font-size=\"12\" lengthAdjust=\"spacingAndGlyphs\" textLength=\"22\" x=\"196\" y=\"114.1074\">x: A</text><line style=\"stroke: #383838; stroke-width: 1.5;\" x1=\"187\" x2=\"227\" y1=\"121.9375\" y2=\"121.9375\"/></a><!--MD5=[1dd1bfd58a279cf63c5f349dbc8fc6a1]\n",
       "class E11--><a href=\"psysml:9cdccab4-e502-4fbe-97eb-9b231d825ffa\" target=\"_top\" title=\"psysml:9cdccab4-e502-4fbe-97eb-9b231d825ffa\" xlink:actuate=\"onRequest\" xlink:href=\"psysml:9cdccab4-e502-4fbe-97eb-9b231d825ffa\" xlink:show=\"new\" xlink:title=\"psysml:9cdccab4-e502-4fbe-97eb-9b231d825ffa\" xlink:type=\"simple\"><rect fill=\"#FFFFFF\" height=\"45.9375\" id=\"E11\" rx=\"10\" ry=\"10\" style=\"stroke: #383838; stroke-width: 1.5;\" width=\"42\" x=\"109\" y=\"84\"/><text fill=\"#000000\" font-family=\"sans-serif\" font-size=\"12\" font-style=\"italic\" lengthAdjust=\"spacingAndGlyphs\" textLength=\"40\" x=\"110\" y=\"100.1387\">«part»</text><text fill=\"#000000\" font-family=\"sans-serif\" font-size=\"12\" lengthAdjust=\"spacingAndGlyphs\" textLength=\"22\" x=\"119\" y=\"114.1074\">y: B</text><line style=\"stroke: #383838; stroke-width: 1.5;\" x1=\"110\" x2=\"150\" y1=\"121.9375\" y2=\"121.9375\"/></a><!--MD5=[14ccda38c055a5c0da953d572bc50960]\n",
       "link E7 to E3--><a href=\"psysml:84278f38-d400-4655-8657-76a37dd9bb09\" target=\"_top\" title=\"psysml:84278f38-d400-4655-8657-76a37dd9bb09\" xlink:actuate=\"onRequest\" xlink:href=\"psysml:84278f38-d400-4655-8657-76a37dd9bb09\" xlink:show=\"new\" xlink:title=\"psysml:84278f38-d400-4655-8657-76a37dd9bb09\" xlink:type=\"simple\"><path d=\"M382,130.04 C382,130.04 382,184.63 382,184.63 \" fill=\"none\" id=\"E7-&gt;E3\" style=\"stroke: #383838; stroke-width: 1.0;\"/><polygon fill=\"#FFFFFF\" points=\"382,204.63,375,185.63,389,185.63,382,204.63\" style=\"stroke: #383838; stroke-width: 1.0;\"/><ellipse cx=\"377\" cy=\"179.93\" fill=\"#383838\" rx=\"2\" ry=\"2\" style=\"stroke: #383838; stroke-width: 1.0;\"/><ellipse cx=\"387\" cy=\"179.93\" fill=\"#383838\" rx=\"2\" ry=\"2\" style=\"stroke: #383838; stroke-width: 1.0;\"/></a><!--MD5=[1ccb2481ffa92f8d51a74ee30c51832a]\n",
       "link E8 to E5--><a href=\"psysml:9a62fcce-aa5a-49d2-8cac-0b2f538e5bd0\" target=\"_top\" title=\"psysml:9a62fcce-aa5a-49d2-8cac-0b2f538e5bd0\" xlink:actuate=\"onRequest\" xlink:href=\"psysml:9a62fcce-aa5a-49d2-8cac-0b2f538e5bd0\" xlink:show=\"new\" xlink:title=\"psysml:9a62fcce-aa5a-49d2-8cac-0b2f538e5bd0\" xlink:type=\"simple\"><path d=\"M305,130.06 C305,167.17 305,236 305,236 C305,236 183.33,236 183.33,236 \" fill=\"none\" id=\"E8-&gt;E5\" style=\"stroke: #383838; stroke-width: 1.0;\"/><polygon fill=\"#FFFFFF\" points=\"163.33,236,182.33,229,182.33,243,163.33,236\" style=\"stroke: #383838; stroke-width: 1.0;\"/><ellipse cx=\"188.03\" cy=\"231\" fill=\"#383838\" rx=\"2\" ry=\"2\" style=\"stroke: #383838; stroke-width: 1.0;\"/><ellipse cx=\"188.03\" cy=\"241\" fill=\"#383838\" rx=\"2\" ry=\"2\" style=\"stroke: #383838; stroke-width: 1.0;\"/></a><!--MD5=[feeac5eb423634930294aa81f2d25a4c]\n",
       "link E10 to E3--><a href=\"psysml:bd7260c7-b55a-4391-86f8-9493bae3bcdc\" target=\"_top\" title=\"psysml:bd7260c7-b55a-4391-86f8-9493bae3bcdc\" xlink:actuate=\"onRequest\" xlink:href=\"psysml:bd7260c7-b55a-4391-86f8-9493bae3bcdc\" xlink:show=\"new\" xlink:title=\"psysml:bd7260c7-b55a-4391-86f8-9493bae3bcdc\" xlink:type=\"simple\"><path d=\"M207,130.07 C207,163.38 207,221 207,221 C207,221 328.67,221 328.67,221 \" fill=\"none\" id=\"E10-&gt;E3\" style=\"stroke: #383838; stroke-width: 1.0;\"/><polygon fill=\"#FFFFFF\" points=\"348.67,221,329.67,228,329.67,214,348.67,221\" style=\"stroke: #383838; stroke-width: 1.0;\"/><ellipse cx=\"323.97\" cy=\"226\" fill=\"#383838\" rx=\"2\" ry=\"2\" style=\"stroke: #383838; stroke-width: 1.0;\"/><ellipse cx=\"323.97\" cy=\"216\" fill=\"#383838\" rx=\"2\" ry=\"2\" style=\"stroke: #383838; stroke-width: 1.0;\"/></a><!--MD5=[07b77f6f309248d16187045709d1c26e]\n",
       "link E11 to E5--><a href=\"psysml:099d00ce-a154-42ce-865e-6b31b35a0829\" target=\"_top\" title=\"psysml:099d00ce-a154-42ce-865e-6b31b35a0829\" xlink:actuate=\"onRequest\" xlink:href=\"psysml:099d00ce-a154-42ce-865e-6b31b35a0829\" xlink:show=\"new\" xlink:title=\"psysml:099d00ce-a154-42ce-865e-6b31b35a0829\" xlink:type=\"simple\"><path d=\"M130,130.04 C130,130.04 130,184.63 130,184.63 \" fill=\"none\" id=\"E11-&gt;E5\" style=\"stroke: #383838; stroke-width: 1.0;\"/><polygon fill=\"#FFFFFF\" points=\"130,204.63,123,185.63,137,185.63,130,204.63\" style=\"stroke: #383838; stroke-width: 1.0;\"/><ellipse cx=\"125\" cy=\"179.93\" fill=\"#383838\" rx=\"2\" ry=\"2\" style=\"stroke: #383838; stroke-width: 1.0;\"/><ellipse cx=\"135\" cy=\"179.93\" fill=\"#383838\" rx=\"2\" ry=\"2\" style=\"stroke: #383838; stroke-width: 1.0;\"/></a><!--MD5=[39f41a0e550fb3d73b4d8135617e30a2]\n",
       "link E12 to E3--><a href=\"psysml:2e0d72ae-9b36-4ac2-af7e-1d21d87eecf3\" target=\"_top\" title=\"psysml:2e0d72ae-9b36-4ac2-af7e-1d21d87eecf3\" xlink:actuate=\"onRequest\" xlink:href=\"psysml:2e0d72ae-9b36-4ac2-af7e-1d21d87eecf3\" xlink:show=\"new\" xlink:title=\"psysml:2e0d72ae-9b36-4ac2-af7e-1d21d87eecf3\" xlink:type=\"simple\"><path d=\"M437.8,107 C424.17,107 409,107 409,107 C409,107 409,184.96 409,184.96 \" fill=\"none\" id=\"E12-&gt;E3\" style=\"stroke: #383838; stroke-width: 1.0;\"/><polygon fill=\"#FFFFFF\" points=\"409,204.96,402,185.96,416,185.96,409,204.96\" style=\"stroke: #383838; stroke-width: 1.0;\"/><ellipse cx=\"404\" cy=\"180.26\" fill=\"#383838\" rx=\"2\" ry=\"2\" style=\"stroke: #383838; stroke-width: 1.0;\"/><ellipse cx=\"414\" cy=\"180.26\" fill=\"#383838\" rx=\"2\" ry=\"2\" style=\"stroke: #383838; stroke-width: 1.0;\"/></a><!--MD5=[066b2d8af59fea80ccdb3d54ad5c1091]\n",
       "link E13 to E5--><a href=\"psysml:28c76814-e954-4c97-b716-40e2f6813c6b\" target=\"_top\" title=\"psysml:28c76814-e954-4c97-b716-40e2f6813c6b\" xlink:actuate=\"onRequest\" xlink:href=\"psysml:28c76814-e954-4c97-b716-40e2f6813c6b\" xlink:show=\"new\" xlink:title=\"psysml:28c76814-e954-4c97-b716-40e2f6813c6b\" xlink:type=\"simple\"><path d=\"M74.2,107 C87.83,107 103,107 103,107 C103,107 103,184.96 103,184.96 \" fill=\"none\" id=\"E13-&gt;E5\" style=\"stroke: #383838; stroke-width: 1.0;\"/><polygon fill=\"#FFFFFF\" points=\"103,204.96,96,185.96,110,185.96,103,204.96\" style=\"stroke: #383838; stroke-width: 1.0;\"/><ellipse cx=\"98\" cy=\"180.26\" fill=\"#383838\" rx=\"2\" ry=\"2\" style=\"stroke: #383838; stroke-width: 1.0;\"/><ellipse cx=\"108\" cy=\"180.26\" fill=\"#383838\" rx=\"2\" ry=\"2\" style=\"stroke: #383838; stroke-width: 1.0;\"/></a><!--MD5=[3c1423982a9c9240900ba7b5938af2df]\n",
       "@startuml\r\n",
       "skinparam linetype ortho\r\n",
       "skinparam monochrome true\r\n",
       "skinparam classbackgroundcolor white\r\n",
       "skinparam shadowing false\r\n",
       "skinparam wrapWidth 300\r\n",
       "hide circle\r\n",
       "\r\n",
       "package \"CircularImport\" as E1  [[psysml:690cd2ec-4fe7-4d94-89bf-c3d63ed60cd3 ]]  {\r\n",
       "package \"P1\" as E2  [[psysml:54e3154d-4fa4-4c14-a367-edca149a76a1 ]]  {\r\n",
       "comp def \"A\" as E3  <<(T,blue)part def>> [[psysml:281245e6-0723-4878-ac57-c406fd778909 ]] {\r\n",
       "}\r\n",
       "}\r\n",
       "package \"P2\" as E4  [[psysml:581c4a9e-fb07-4d80-ac64-c8c7b70027d2 ]]  {\r\n",
       "comp def \"B\" as E5  <<(T,blue)part def>> [[psysml:57665928-471f-4095-91e2-d839a960cf78 ]] {\r\n",
       "}\r\n",
       "}\r\n",
       "package \"Test1\" as E6  [[psysml:6bb49afc-ac2c-47b7-b48e-5bd0a62b326b ]]  {\r\n",
       "comp usage \"x: A\" as E7  <<(T,blue)part>> [[psysml:d6e39b1a-8a39-4c69-85ab-aa8551443e08 ]] {\r\n",
       "}\r\n",
       "comp usage \"y: B\" as E8  <<(T,blue)part>> [[psysml:ead6e64d-b294-4a2d-a1d8-90d3751f1490 ]] {\r\n",
       "}\r\n",
       "E7 - -:|> E3 [[psysml:84278f38-d400-4655-8657-76a37dd9bb09 ]] \r\n",
       "E8 - -:|> E5 [[psysml:9a62fcce-aa5a-49d2-8cac-0b2f538e5bd0 ]] \r\n",
       "}\r\n",
       "package \"Test2\" as E9  [[psysml:051bf7cb-81b8-4c37-8865-8bb7ea974985 ]]  {\r\n",
       "comp usage \"x: A\" as E10  <<(T,blue)part>> [[psysml:f3cb1211-10b9-411e-bf19-d5722693e1fe ]] {\r\n",
       "}\r\n",
       "comp usage \"y: B\" as E11  <<(T,blue)part>> [[psysml:9cdccab4-e502-4fbe-97eb-9b231d825ffa ]] {\r\n",
       "}\r\n",
       "E10 - -:|> E3 [[psysml:bd7260c7-b55a-4391-86f8-9493bae3bcdc ]] \r\n",
       "E11 - -:|> E5 [[psysml:099d00ce-a154-42ce-865e-6b31b35a0829 ]] \r\n",
       "}\r\n",
       "comp usage \"x: A\" as E12  <<(T,blue)part>> [[psysml:87edab01-bf58-4e9e-abd1-c8b0194f7dca ]] {\r\n",
       "}\r\n",
       "comp usage \"y: B\" as E13  <<(T,blue)part>> [[psysml:20c5387a-1627-4e14-8312-6f39b31ab3f7 ]] {\r\n",
       "}\r\n",
       "E12 - -:|> E3 [[psysml:2e0d72ae-9b36-4ac2-af7e-1d21d87eecf3 ]] \r\n",
       "E13 - -:|> E5 [[psysml:28c76814-e954-4c97-b716-40e2f6813c6b ]] \r\n",
       "}\r\n",
       "@enduml\r\n",
       "\n",
       "PlantUML version 1.2020.13(Sat Jun 13 12:26:38 UTC 2020)\n",
       "(EPL source distribution)\n",
       "Java Runtime: OpenJDK Runtime Environment\n",
       "JVM: OpenJDK 64-Bit Server VM\n",
       "Default Encoding: UTF-8\n",
       "Language: en\n",
       "Country: null\n",
       "--></g></svg>"
      ]
     },
     "execution_count": 57,
     "metadata": {},
     "output_type": "execute_result"
    }
   ],
   "source": [
    "%viz --style=\"ORTHOLINE\" --view=\"MIXED\" \"CircularImport\""
   ]
  }
 ],
 "metadata": {
  "kernelspec": {
   "display_name": "SysML",
   "language": "sysml",
   "name": "sysml"
  },
  "language_info": {
   "codemirror_mode": "sysml",
   "file_extension": ".sysml",
   "mimetype": "text/x-sysml",
   "name": "SysML",
   "pygments_lexer": "java",
   "version": "1.0.0"
  }
 },
 "nbformat": 4,
 "nbformat_minor": 5
}
