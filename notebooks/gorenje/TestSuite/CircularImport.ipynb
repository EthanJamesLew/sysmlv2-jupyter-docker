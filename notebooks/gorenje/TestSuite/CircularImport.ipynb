{
 "cells": [
  {
   "cell_type": "markdown",
   "id": "affdd4bc",
   "metadata": {},
   "source": [
    "# SysML v2 Test Suite\n",
    "\n",
    "This can notebook can be cleared using menu `Edit --> Clear All Outputs` and then all cells can be\n",
    "run using menu `Run --> Run All Cells`.\n",
    "\n",
    "**WARNING**: This file is generated, all modifications here will be ignored.\n"
   ]
  },
  {
   "cell_type": "markdown",
   "id": "0e0ae9ae",
   "metadata": {},
   "source": [
    "## File: ../../sysml/src/examples/Import Tests/CircularImport.sysml"
   ]
  },
  {
   "cell_type": "code",
   "execution_count": 1,
   "id": "1a70ed08",
   "metadata": {
    "execution": {
     "iopub.execute_input": "2021-09-27T07:16:33.478292Z",
     "iopub.status.busy": "2021-09-27T07:16:33.477210Z",
     "iopub.status.idle": "2021-09-27T07:16:33.604086Z",
     "shell.execute_reply": "2021-09-27T07:16:33.604541Z"
    }
   },
   "outputs": [
    {
     "data": {
      "text/plain": [
       "Package CircularImport (786688ad-3a0f-47a5-9403-7584072fdd56)\n"
      ]
     },
     "execution_count": 1,
     "metadata": {},
     "output_type": "execute_result"
    }
   ],
   "source": [
    "package CircularImport {\n",
    "\n",
    "\tpackage P1 {\n",
    "\t\timport P2::*;\n",
    "\t\tpart def A;\n",
    "\t}\n",
    "\tpackage P2 {\n",
    "\t\timport P1::*;\n",
    "\t\tpart def B;\n",
    "\t}\n",
    "\tpackage Test1 {\n",
    "\t\timport P1::*;\n",
    "\t\tpart x: A;\n",
    "\t\tpart y: B;\n",
    "\t}\n",
    "\tpackage Test2 {\n",
    "\t\timport P2::*;\n",
    "\t\tpart x: A;\n",
    "\t\tpart y: B;\n",
    "\t}\n",
    "\t\n",
    "\tpart x: P1::A;\n",
    "\t\n",
    "\t// The following should not fail.\n",
    "\tpart y: P1::B;\n",
    "\t\n",
    "}"
   ]
  },
  {
   "cell_type": "code",
   "execution_count": 2,
   "id": "5bf10139",
   "metadata": {
    "execution": {
     "iopub.execute_input": "2021-09-27T07:16:33.655090Z",
     "iopub.status.busy": "2021-09-27T07:16:33.654828Z",
     "iopub.status.idle": "2021-09-27T07:16:34.128383Z",
     "shell.execute_reply": "2021-09-27T07:16:34.127209Z"
    }
   },
   "outputs": [
    {
     "data": {
      "image/svg+xml": [
       "<?xml version=\"1.0\" encoding=\"UTF-8\" standalone=\"no\"?><svg xmlns=\"http://www.w3.org/2000/svg\" xmlns:xlink=\"http://www.w3.org/1999/xlink\" contentScriptType=\"application/ecmascript\" contentStyleType=\"text/css\" height=\"303px\" preserveAspectRatio=\"none\" style=\"width:518px;height:303px;\" version=\"1.1\" viewBox=\"0 0 518 303\" width=\"518px\" zoomAndPan=\"magnify\"><defs/><g><!--MD5=[fbc87193dbaf4d95561dea2c320d4a47]\n",
       "cluster E1--><a href=\"psysml:7332441d-5859-4b68-88e6-44e4d7acfbc9\" target=\"_top\" title=\"psysml:7332441d-5859-4b68-88e6-44e4d7acfbc9\" xlink:actuate=\"onRequest\" xlink:href=\"psysml:7332441d-5859-4b68-88e6-44e4d7acfbc9\" xlink:show=\"new\" xlink:title=\"psysml:7332441d-5859-4b68-88e6-44e4d7acfbc9\" xlink:type=\"simple\"><polygon fill=\"#FFFFFF\" points=\"16,6,117,6,124,28.2969,496,28.2969,496,291,16,291,16,6\" style=\"stroke: #000000; stroke-width: 1.5;\"/><line style=\"stroke: #000000; stroke-width: 1.5;\" x1=\"16\" x2=\"124\" y1=\"28.2969\" y2=\"28.2969\"/><text fill=\"#000000\" font-family=\"sans-serif\" font-size=\"14\" font-weight=\"bold\" lengthAdjust=\"spacingAndGlyphs\" textLength=\"95\" x=\"20\" y=\"20.9951\">CircularImport</text></a><!--MD5=[e4f7fae6ed58524ba242bb0b0d3be6b7]\n",
       "cluster E2--><a href=\"psysml:5f20ae7d-4d57-41a2-9907-55aa74d31ca3\" target=\"_top\" title=\"psysml:5f20ae7d-4d57-41a2-9907-55aa74d31ca3\" xlink:actuate=\"onRequest\" xlink:href=\"psysml:5f20ae7d-4d57-41a2-9907-55aa74d31ca3\" xlink:show=\"new\" xlink:title=\"psysml:5f20ae7d-4d57-41a2-9907-55aa74d31ca3\" xlink:type=\"simple\"><polygon fill=\"#FFFFFF\" points=\"333,170,357,170,364,192.2969,431,192.2969,431,267,333,267,333,170\" style=\"stroke: #000000; stroke-width: 1.5;\"/><line style=\"stroke: #000000; stroke-width: 1.5;\" x1=\"333\" x2=\"364\" y1=\"192.2969\" y2=\"192.2969\"/><text fill=\"#000000\" font-family=\"sans-serif\" font-size=\"14\" font-weight=\"bold\" lengthAdjust=\"spacingAndGlyphs\" textLength=\"18\" x=\"337\" y=\"184.9951\">P1</text></a><!--MD5=[f6df4d0ebaf0b5dfb2ced0ae5af7c670]\n",
       "cluster E4--><a href=\"psysml:ebcd3975-b264-4248-9466-34d42d3f68ce\" target=\"_top\" title=\"psysml:ebcd3975-b264-4248-9466-34d42d3f68ce\" xlink:actuate=\"onRequest\" xlink:href=\"psysml:ebcd3975-b264-4248-9466-34d42d3f68ce\" xlink:show=\"new\" xlink:title=\"psysml:ebcd3975-b264-4248-9466-34d42d3f68ce\" xlink:type=\"simple\"><polygon fill=\"#FFFFFF\" points=\"81,170,105,170,112,192.2969,179,192.2969,179,267,81,267,81,170\" style=\"stroke: #000000; stroke-width: 1.5;\"/><line style=\"stroke: #000000; stroke-width: 1.5;\" x1=\"81\" x2=\"112\" y1=\"192.2969\" y2=\"192.2969\"/><text fill=\"#000000\" font-family=\"sans-serif\" font-size=\"14\" font-weight=\"bold\" lengthAdjust=\"spacingAndGlyphs\" textLength=\"18\" x=\"85\" y=\"184.9951\">P2</text></a><!--MD5=[14e3b0961a2654348d326746436168a1]\n",
       "cluster E6--><a href=\"psysml:da6ad505-2daa-495a-83b8-d3ba9d2de3a4\" target=\"_top\" title=\"psysml:da6ad505-2daa-495a-83b8-d3ba9d2de3a4\" xlink:actuate=\"onRequest\" xlink:href=\"psysml:da6ad505-2daa-495a-83b8-d3ba9d2de3a4\" xlink:show=\"new\" xlink:title=\"psysml:da6ad505-2daa-495a-83b8-d3ba9d2de3a4\" xlink:type=\"simple\"><polygon fill=\"#FFFFFF\" points=\"268,49,314,49,321,71.2969,419,71.2969,419,146,268,146,268,49\" style=\"stroke: #000000; stroke-width: 1.5;\"/><line style=\"stroke: #000000; stroke-width: 1.5;\" x1=\"268\" x2=\"321\" y1=\"71.2969\" y2=\"71.2969\"/><text fill=\"#000000\" font-family=\"sans-serif\" font-size=\"14\" font-weight=\"bold\" lengthAdjust=\"spacingAndGlyphs\" textLength=\"40\" x=\"272\" y=\"63.9951\">Test1</text></a><!--MD5=[7f149f147074ac12df2cb0a7728a5fb0]\n",
       "cluster E9--><a href=\"psysml:b0babda1-ae00-488b-8e87-1a86d4c9a0c6\" target=\"_top\" title=\"psysml:b0babda1-ae00-488b-8e87-1a86d4c9a0c6\" xlink:actuate=\"onRequest\" xlink:href=\"psysml:b0babda1-ae00-488b-8e87-1a86d4c9a0c6\" xlink:show=\"new\" xlink:title=\"psysml:b0babda1-ae00-488b-8e87-1a86d4c9a0c6\" xlink:type=\"simple\"><polygon fill=\"#FFFFFF\" points=\"93,49,139,49,146,71.2969,244,71.2969,244,146,93,146,93,49\" style=\"stroke: #000000; stroke-width: 1.5;\"/><line style=\"stroke: #000000; stroke-width: 1.5;\" x1=\"93\" x2=\"146\" y1=\"71.2969\" y2=\"71.2969\"/><text fill=\"#000000\" font-family=\"sans-serif\" font-size=\"14\" font-weight=\"bold\" lengthAdjust=\"spacingAndGlyphs\" textLength=\"40\" x=\"97\" y=\"63.9951\">Test2</text></a><!--MD5=[49a0ec8f00dab7302a31f22d0f0fe584]\n",
       "class E12--><a href=\"psysml:be17b73a-3dde-44ce-ab8b-a0409ce39ee3\" target=\"_top\" title=\"psysml:be17b73a-3dde-44ce-ab8b-a0409ce39ee3\" xlink:actuate=\"onRequest\" xlink:href=\"psysml:be17b73a-3dde-44ce-ab8b-a0409ce39ee3\" xlink:show=\"new\" xlink:title=\"psysml:be17b73a-3dde-44ce-ab8b-a0409ce39ee3\" xlink:type=\"simple\"><rect fill=\"#FFFFFF\" height=\"45.9375\" id=\"E12\" rx=\"10\" ry=\"10\" style=\"stroke: #383838; stroke-width: 1.5;\" width=\"42\" x=\"438\" y=\"84\"/><text fill=\"#000000\" font-family=\"sans-serif\" font-size=\"12\" font-style=\"italic\" lengthAdjust=\"spacingAndGlyphs\" textLength=\"40\" x=\"439\" y=\"100.1387\">«part»</text><text fill=\"#000000\" font-family=\"sans-serif\" font-size=\"12\" lengthAdjust=\"spacingAndGlyphs\" textLength=\"22\" x=\"448\" y=\"114.1074\">x: A</text><line style=\"stroke: #383838; stroke-width: 1.5;\" x1=\"439\" x2=\"479\" y1=\"121.9375\" y2=\"121.9375\"/></a><!--MD5=[ee3c913d1a06f366521f9ef512b67efe]\n",
       "class E13--><a href=\"psysml:70775e2d-ada4-46b3-b3bb-1618b7e606cf\" target=\"_top\" title=\"psysml:70775e2d-ada4-46b3-b3bb-1618b7e606cf\" xlink:actuate=\"onRequest\" xlink:href=\"psysml:70775e2d-ada4-46b3-b3bb-1618b7e606cf\" xlink:show=\"new\" xlink:title=\"psysml:70775e2d-ada4-46b3-b3bb-1618b7e606cf\" xlink:type=\"simple\"><rect fill=\"#FFFFFF\" height=\"45.9375\" id=\"E13\" rx=\"10\" ry=\"10\" style=\"stroke: #383838; stroke-width: 1.5;\" width=\"42\" x=\"32\" y=\"84\"/><text fill=\"#000000\" font-family=\"sans-serif\" font-size=\"12\" font-style=\"italic\" lengthAdjust=\"spacingAndGlyphs\" textLength=\"40\" x=\"33\" y=\"100.1387\">«part»</text><text fill=\"#000000\" font-family=\"sans-serif\" font-size=\"12\" lengthAdjust=\"spacingAndGlyphs\" textLength=\"22\" x=\"42\" y=\"114.1074\">y: B</text><line style=\"stroke: #383838; stroke-width: 1.5;\" x1=\"33\" x2=\"73\" y1=\"121.9375\" y2=\"121.9375\"/></a><!--MD5=[09b614a08d8cba4a07c9adeb5e0fee81]\n",
       "class E3--><a href=\"psysml:a77b04ef-8587-44c9-8b7f-efa23f8b51b3\" target=\"_top\" title=\"psysml:a77b04ef-8587-44c9-8b7f-efa23f8b51b3\" xlink:actuate=\"onRequest\" xlink:href=\"psysml:a77b04ef-8587-44c9-8b7f-efa23f8b51b3\" xlink:show=\"new\" xlink:title=\"psysml:a77b04ef-8587-44c9-8b7f-efa23f8b51b3\" xlink:type=\"simple\"><rect fill=\"#FFFFFF\" height=\"45.9375\" id=\"E3\" style=\"stroke: #383838; stroke-width: 1.5;\" width=\"66\" x=\"349\" y=\"205\"/><text fill=\"#000000\" font-family=\"sans-serif\" font-size=\"12\" font-style=\"italic\" lengthAdjust=\"spacingAndGlyphs\" textLength=\"64\" x=\"350\" y=\"221.1387\">«part def»</text><text fill=\"#000000\" font-family=\"sans-serif\" font-size=\"12\" lengthAdjust=\"spacingAndGlyphs\" textLength=\"8\" x=\"378\" y=\"235.1074\">A</text><line style=\"stroke: #383838; stroke-width: 1.5;\" x1=\"350\" x2=\"414\" y1=\"242.9375\" y2=\"242.9375\"/></a><!--MD5=[270fce915f116d4de14055a7c1d9a0f3]\n",
       "class E5--><a href=\"psysml:0236a647-9823-419e-b974-acac8cdc5ece\" target=\"_top\" title=\"psysml:0236a647-9823-419e-b974-acac8cdc5ece\" xlink:actuate=\"onRequest\" xlink:href=\"psysml:0236a647-9823-419e-b974-acac8cdc5ece\" xlink:show=\"new\" xlink:title=\"psysml:0236a647-9823-419e-b974-acac8cdc5ece\" xlink:type=\"simple\"><rect fill=\"#FFFFFF\" height=\"45.9375\" id=\"E5\" style=\"stroke: #383838; stroke-width: 1.5;\" width=\"66\" x=\"97\" y=\"205\"/><text fill=\"#000000\" font-family=\"sans-serif\" font-size=\"12\" font-style=\"italic\" lengthAdjust=\"spacingAndGlyphs\" textLength=\"64\" x=\"98\" y=\"221.1387\">«part def»</text><text fill=\"#000000\" font-family=\"sans-serif\" font-size=\"12\" lengthAdjust=\"spacingAndGlyphs\" textLength=\"8\" x=\"126\" y=\"235.1074\">B</text><line style=\"stroke: #383838; stroke-width: 1.5;\" x1=\"98\" x2=\"162\" y1=\"242.9375\" y2=\"242.9375\"/></a><!--MD5=[2156ba9850f5573cc1fc38a6a4b2f02b]\n",
       "class E7--><a href=\"psysml:d9c30419-fa03-4224-9f9b-cc52ece95c03\" target=\"_top\" title=\"psysml:d9c30419-fa03-4224-9f9b-cc52ece95c03\" xlink:actuate=\"onRequest\" xlink:href=\"psysml:d9c30419-fa03-4224-9f9b-cc52ece95c03\" xlink:show=\"new\" xlink:title=\"psysml:d9c30419-fa03-4224-9f9b-cc52ece95c03\" xlink:type=\"simple\"><rect fill=\"#FFFFFF\" height=\"45.9375\" id=\"E7\" rx=\"10\" ry=\"10\" style=\"stroke: #383838; stroke-width: 1.5;\" width=\"42\" x=\"361\" y=\"84\"/><text fill=\"#000000\" font-family=\"sans-serif\" font-size=\"12\" font-style=\"italic\" lengthAdjust=\"spacingAndGlyphs\" textLength=\"40\" x=\"362\" y=\"100.1387\">«part»</text><text fill=\"#000000\" font-family=\"sans-serif\" font-size=\"12\" lengthAdjust=\"spacingAndGlyphs\" textLength=\"22\" x=\"371\" y=\"114.1074\">x: A</text><line style=\"stroke: #383838; stroke-width: 1.5;\" x1=\"362\" x2=\"402\" y1=\"121.9375\" y2=\"121.9375\"/></a><!--MD5=[b9389687b975829384b498ac4b7476b2]\n",
       "class E8--><a href=\"psysml:32c0d6a2-b48f-4756-bec9-ba81426d308d\" target=\"_top\" title=\"psysml:32c0d6a2-b48f-4756-bec9-ba81426d308d\" xlink:actuate=\"onRequest\" xlink:href=\"psysml:32c0d6a2-b48f-4756-bec9-ba81426d308d\" xlink:show=\"new\" xlink:title=\"psysml:32c0d6a2-b48f-4756-bec9-ba81426d308d\" xlink:type=\"simple\"><rect fill=\"#FFFFFF\" height=\"45.9375\" id=\"E8\" rx=\"10\" ry=\"10\" style=\"stroke: #383838; stroke-width: 1.5;\" width=\"42\" x=\"284\" y=\"84\"/><text fill=\"#000000\" font-family=\"sans-serif\" font-size=\"12\" font-style=\"italic\" lengthAdjust=\"spacingAndGlyphs\" textLength=\"40\" x=\"285\" y=\"100.1387\">«part»</text><text fill=\"#000000\" font-family=\"sans-serif\" font-size=\"12\" lengthAdjust=\"spacingAndGlyphs\" textLength=\"22\" x=\"294\" y=\"114.1074\">y: B</text><line style=\"stroke: #383838; stroke-width: 1.5;\" x1=\"285\" x2=\"325\" y1=\"121.9375\" y2=\"121.9375\"/></a><!--MD5=[96f4274e9e20536e775497830990834d]\n",
       "class E10--><a href=\"psysml:4b1ceaae-3a33-4edd-a713-ae072a8ba794\" target=\"_top\" title=\"psysml:4b1ceaae-3a33-4edd-a713-ae072a8ba794\" xlink:actuate=\"onRequest\" xlink:href=\"psysml:4b1ceaae-3a33-4edd-a713-ae072a8ba794\" xlink:show=\"new\" xlink:title=\"psysml:4b1ceaae-3a33-4edd-a713-ae072a8ba794\" xlink:type=\"simple\"><rect fill=\"#FFFFFF\" height=\"45.9375\" id=\"E10\" rx=\"10\" ry=\"10\" style=\"stroke: #383838; stroke-width: 1.5;\" width=\"42\" x=\"186\" y=\"84\"/><text fill=\"#000000\" font-family=\"sans-serif\" font-size=\"12\" font-style=\"italic\" lengthAdjust=\"spacingAndGlyphs\" textLength=\"40\" x=\"187\" y=\"100.1387\">«part»</text><text fill=\"#000000\" font-family=\"sans-serif\" font-size=\"12\" lengthAdjust=\"spacingAndGlyphs\" textLength=\"22\" x=\"196\" y=\"114.1074\">x: A</text><line style=\"stroke: #383838; stroke-width: 1.5;\" x1=\"187\" x2=\"227\" y1=\"121.9375\" y2=\"121.9375\"/></a><!--MD5=[1dd1bfd58a279cf63c5f349dbc8fc6a1]\n",
       "class E11--><a href=\"psysml:8a3e0fcf-a1f5-42bd-9af7-3ab68d312f86\" target=\"_top\" title=\"psysml:8a3e0fcf-a1f5-42bd-9af7-3ab68d312f86\" xlink:actuate=\"onRequest\" xlink:href=\"psysml:8a3e0fcf-a1f5-42bd-9af7-3ab68d312f86\" xlink:show=\"new\" xlink:title=\"psysml:8a3e0fcf-a1f5-42bd-9af7-3ab68d312f86\" xlink:type=\"simple\"><rect fill=\"#FFFFFF\" height=\"45.9375\" id=\"E11\" rx=\"10\" ry=\"10\" style=\"stroke: #383838; stroke-width: 1.5;\" width=\"42\" x=\"109\" y=\"84\"/><text fill=\"#000000\" font-family=\"sans-serif\" font-size=\"12\" font-style=\"italic\" lengthAdjust=\"spacingAndGlyphs\" textLength=\"40\" x=\"110\" y=\"100.1387\">«part»</text><text fill=\"#000000\" font-family=\"sans-serif\" font-size=\"12\" lengthAdjust=\"spacingAndGlyphs\" textLength=\"22\" x=\"119\" y=\"114.1074\">y: B</text><line style=\"stroke: #383838; stroke-width: 1.5;\" x1=\"110\" x2=\"150\" y1=\"121.9375\" y2=\"121.9375\"/></a><!--MD5=[14ccda38c055a5c0da953d572bc50960]\n",
       "link E7 to E3--><a href=\"psysml:520b462f-0086-4fa2-a8c7-c457cfb393b0\" target=\"_top\" title=\"psysml:520b462f-0086-4fa2-a8c7-c457cfb393b0\" xlink:actuate=\"onRequest\" xlink:href=\"psysml:520b462f-0086-4fa2-a8c7-c457cfb393b0\" xlink:show=\"new\" xlink:title=\"psysml:520b462f-0086-4fa2-a8c7-c457cfb393b0\" xlink:type=\"simple\"><path d=\"M382,130.1 C382,145.37 382,166.16 382,184.57 \" fill=\"none\" id=\"E7-&gt;E3\" style=\"stroke: #383838; stroke-width: 1.0;\"/><polygon fill=\"#FFFFFF\" points=\"382,204.61,375,185.61,389,185.61,382,204.61\" style=\"stroke: #383838; stroke-width: 1.0;\"/><ellipse cx=\"377\" cy=\"179.91\" fill=\"#383838\" rx=\"2\" ry=\"2\" style=\"stroke: #383838; stroke-width: 1.0;\"/><ellipse cx=\"387\" cy=\"179.91\" fill=\"#383838\" rx=\"2\" ry=\"2\" style=\"stroke: #383838; stroke-width: 1.0;\"/></a><!--MD5=[1ccb2481ffa92f8d51a74ee30c51832a]\n",
       "link E8 to E5--><a href=\"psysml:7aecf3a3-7124-43a8-804d-679627dba63d\" target=\"_top\" title=\"psysml:7aecf3a3-7124-43a8-804d-679627dba63d\" xlink:actuate=\"onRequest\" xlink:href=\"psysml:7aecf3a3-7124-43a8-804d-679627dba63d\" xlink:show=\"new\" xlink:title=\"psysml:7aecf3a3-7124-43a8-804d-679627dba63d\" xlink:type=\"simple\"><path d=\"M283.84,124.59 C272.23,133.52 257.5,144.61 244,154 C223.51,168.25 200.41,183.24 180.38,195.91 \" fill=\"none\" id=\"E8-&gt;E5\" style=\"stroke: #383838; stroke-width: 1.0;\"/><polygon fill=\"#FFFFFF\" points=\"163.36,206.57,175.7353,190.5434,183.175,202.403,163.36,206.57\" style=\"stroke: #383838; stroke-width: 1.0;\"/><ellipse cx=\"181.6267\" cy=\"189.2086\" fill=\"#383838\" rx=\"2\" ry=\"2\" style=\"stroke: #383838; stroke-width: 1.0;\"/><ellipse cx=\"186.9408\" cy=\"197.6797\" fill=\"#383838\" rx=\"2\" ry=\"2\" style=\"stroke: #383838; stroke-width: 1.0;\"/></a><!--MD5=[feeac5eb423634930294aa81f2d25a4c]\n",
       "link E10 to E3--><a href=\"psysml:fd0acd65-b864-4a8e-8ff2-cbce99549eac\" target=\"_top\" title=\"psysml:fd0acd65-b864-4a8e-8ff2-cbce99549eac\" xlink:actuate=\"onRequest\" xlink:href=\"psysml:fd0acd65-b864-4a8e-8ff2-cbce99549eac\" xlink:show=\"new\" xlink:title=\"psysml:fd0acd65-b864-4a8e-8ff2-cbce99549eac\" xlink:type=\"simple\"><path d=\"M228.16,124.59 C239.77,133.52 254.5,144.61 268,154 C288.49,168.25 311.59,183.24 331.62,195.91 \" fill=\"none\" id=\"E10-&gt;E3\" style=\"stroke: #383838; stroke-width: 1.0;\"/><polygon fill=\"#FFFFFF\" points=\"348.64,206.57,328.825,202.403,336.2647,190.5434,348.64,206.57\" style=\"stroke: #383838; stroke-width: 1.0;\"/><ellipse cx=\"325.0592\" cy=\"197.6797\" fill=\"#383838\" rx=\"2\" ry=\"2\" style=\"stroke: #383838; stroke-width: 1.0;\"/><ellipse cx=\"330.3733\" cy=\"189.2086\" fill=\"#383838\" rx=\"2\" ry=\"2\" style=\"stroke: #383838; stroke-width: 1.0;\"/></a><!--MD5=[07b77f6f309248d16187045709d1c26e]\n",
       "link E11 to E5--><a href=\"psysml:442cb8f2-ee4b-4dfa-8164-f495024e2707\" target=\"_top\" title=\"psysml:442cb8f2-ee4b-4dfa-8164-f495024e2707\" xlink:actuate=\"onRequest\" xlink:href=\"psysml:442cb8f2-ee4b-4dfa-8164-f495024e2707\" xlink:show=\"new\" xlink:title=\"psysml:442cb8f2-ee4b-4dfa-8164-f495024e2707\" xlink:type=\"simple\"><path d=\"M130,130.1 C130,145.37 130,166.16 130,184.57 \" fill=\"none\" id=\"E11-&gt;E5\" style=\"stroke: #383838; stroke-width: 1.0;\"/><polygon fill=\"#FFFFFF\" points=\"130,204.61,123,185.61,137,185.61,130,204.61\" style=\"stroke: #383838; stroke-width: 1.0;\"/><ellipse cx=\"125\" cy=\"179.91\" fill=\"#383838\" rx=\"2\" ry=\"2\" style=\"stroke: #383838; stroke-width: 1.0;\"/><ellipse cx=\"135\" cy=\"179.91\" fill=\"#383838\" rx=\"2\" ry=\"2\" style=\"stroke: #383838; stroke-width: 1.0;\"/></a><!--MD5=[39f41a0e550fb3d73b4d8135617e30a2]\n",
       "link E12 to E3--><a href=\"psysml:fab56a21-03ff-446d-9dd1-385c5373a3f2\" target=\"_top\" title=\"psysml:fab56a21-03ff-446d-9dd1-385c5373a3f2\" xlink:actuate=\"onRequest\" xlink:href=\"psysml:fab56a21-03ff-446d-9dd1-385c5373a3f2\" xlink:show=\"new\" xlink:title=\"psysml:fab56a21-03ff-446d-9dd1-385c5373a3f2\" xlink:type=\"simple\"><path d=\"M444.7,130.1 C434.28,146.2 419.89,168.44 407.53,187.55 \" fill=\"none\" id=\"E12-&gt;E3\" style=\"stroke: #383838; stroke-width: 1.0;\"/><polygon fill=\"#FFFFFF\" points=\"396.49,204.61,400.9313,184.8546,412.6866,192.4581,396.49,204.61\" style=\"stroke: #383838; stroke-width: 1.0;\"/><ellipse cx=\"405.7063\" cy=\"181.1547\" fill=\"#383838\" rx=\"2\" ry=\"2\" style=\"stroke: #383838; stroke-width: 1.0;\"/><ellipse cx=\"414.103\" cy=\"186.5858\" fill=\"#383838\" rx=\"2\" ry=\"2\" style=\"stroke: #383838; stroke-width: 1.0;\"/></a><!--MD5=[066b2d8af59fea80ccdb3d54ad5c1091]\n",
       "link E13 to E5--><a href=\"psysml:5cad6703-6f19-4c46-9c46-92acb368aec7\" target=\"_top\" title=\"psysml:5cad6703-6f19-4c46-9c46-92acb368aec7\" xlink:actuate=\"onRequest\" xlink:href=\"psysml:5cad6703-6f19-4c46-9c46-92acb368aec7\" xlink:show=\"new\" xlink:title=\"psysml:5cad6703-6f19-4c46-9c46-92acb368aec7\" xlink:type=\"simple\"><path d=\"M67.3,130.1 C77.72,146.2 92.11,168.44 104.47,187.55 \" fill=\"none\" id=\"E13-&gt;E5\" style=\"stroke: #383838; stroke-width: 1.0;\"/><polygon fill=\"#FFFFFF\" points=\"115.51,204.61,99.3134,192.4581,111.0687,184.8546,115.51,204.61\" style=\"stroke: #383838; stroke-width: 1.0;\"/><ellipse cx=\"97.897\" cy=\"186.5858\" fill=\"#383838\" rx=\"2\" ry=\"2\" style=\"stroke: #383838; stroke-width: 1.0;\"/><ellipse cx=\"106.2937\" cy=\"181.1547\" fill=\"#383838\" rx=\"2\" ry=\"2\" style=\"stroke: #383838; stroke-width: 1.0;\"/></a><!--MD5=[9081e22cd0885e59e59dcd83ed6eaee0]\n",
       "@startuml\r\n",
       " skinparam monochrome true\r\n",
       "skinparam classbackgroundcolor white\r\n",
       "skinparam shadowing false\r\n",
       "skinparam wrapWidth 300\r\n",
       "hide circle\r\n",
       "\r\n",
       "package \"CircularImport\" as E1  [[psysml:7332441d-5859-4b68-88e6-44e4d7acfbc9 ]]  {\r\n",
       "package \"P1\" as E2  [[psysml:5f20ae7d-4d57-41a2-9907-55aa74d31ca3 ]]  {\r\n",
       "comp def \"A\" as E3  <<(T,blue) part def>> [[psysml:a77b04ef-8587-44c9-8b7f-efa23f8b51b3 ]] {\r\n",
       "}\r\n",
       "}\r\n",
       "package \"P2\" as E4  [[psysml:ebcd3975-b264-4248-9466-34d42d3f68ce ]]  {\r\n",
       "comp def \"B\" as E5  <<(T,blue) part def>> [[psysml:0236a647-9823-419e-b974-acac8cdc5ece ]] {\r\n",
       "}\r\n",
       "}\r\n",
       "package \"Test1\" as E6  [[psysml:da6ad505-2daa-495a-83b8-d3ba9d2de3a4 ]]  {\r\n",
       "comp usage \"x: A\" as E7  <<(T,blue) part>> [[psysml:d9c30419-fa03-4224-9f9b-cc52ece95c03 ]] {\r\n",
       "}\r\n",
       "comp usage \"y: B\" as E8  <<(T,blue) part>> [[psysml:32c0d6a2-b48f-4756-bec9-ba81426d308d ]] {\r\n",
       "}\r\n",
       "}\r\n",
       "package \"Test2\" as E9  [[psysml:b0babda1-ae00-488b-8e87-1a86d4c9a0c6 ]]  {\r\n",
       "comp usage \"x: A\" as E10  <<(T,blue) part>> [[psysml:4b1ceaae-3a33-4edd-a713-ae072a8ba794 ]] {\r\n",
       "}\r\n",
       "comp usage \"y: B\" as E11  <<(T,blue) part>> [[psysml:8a3e0fcf-a1f5-42bd-9af7-3ab68d312f86 ]] {\r\n",
       "}\r\n",
       "}\r\n",
       "comp usage \"x: A\" as E12  <<(T,blue) part>> [[psysml:be17b73a-3dde-44ce-ab8b-a0409ce39ee3 ]] {\r\n",
       "}\r\n",
       "comp usage \"y: B\" as E13  <<(T,blue) part>> [[psysml:70775e2d-ada4-46b3-b3bb-1618b7e606cf ]] {\r\n",
       "}\r\n",
       "}\r\n",
       "E7 - -:|> E3 [[psysml:520b462f-0086-4fa2-a8c7-c457cfb393b0 ]] \r\n",
       "E8 - -:|> E5 [[psysml:7aecf3a3-7124-43a8-804d-679627dba63d ]] \r\n",
       "E10 - -:|> E3 [[psysml:fd0acd65-b864-4a8e-8ff2-cbce99549eac ]] \r\n",
       "E11 - -:|> E5 [[psysml:442cb8f2-ee4b-4dfa-8164-f495024e2707 ]] \r\n",
       "E12 - -:|> E3 [[psysml:fab56a21-03ff-446d-9dd1-385c5373a3f2 ]] \r\n",
       "E13 - -:|> E5 [[psysml:5cad6703-6f19-4c46-9c46-92acb368aec7 ]] \r\n",
       "@enduml\r\n",
       "\n",
       "PlantUML version 1.2020.13(Sat Jun 13 12:26:38 UTC 2020)\n",
       "(EPL source distribution)\n",
       "Java Runtime: OpenJDK Runtime Environment\n",
       "JVM: OpenJDK 64-Bit Server VM\n",
       "Default Encoding: UTF-8\n",
       "Language: en\n",
       "Country: null\n",
       "--></g></svg>"
      ]
     },
     "execution_count": 2,
     "metadata": {},
     "output_type": "execute_result"
    }
   ],
   "source": [
    "%viz --style=\"COMPTREE\" --view=\"Default\" \"CircularImport\""
   ]
  },
  {
   "cell_type": "code",
   "execution_count": 3,
   "id": "d7ffff98",
   "metadata": {
    "execution": {
     "iopub.execute_input": "2021-09-27T07:16:34.178084Z",
     "iopub.status.busy": "2021-09-27T07:16:34.177850Z",
     "iopub.status.idle": "2021-09-27T07:16:34.251239Z",
     "shell.execute_reply": "2021-09-27T07:16:34.251568Z"
    }
   },
   "outputs": [
    {
     "data": {
      "image/svg+xml": [
       "<?xml version=\"1.0\" encoding=\"UTF-8\" standalone=\"no\"?><svg xmlns=\"http://www.w3.org/2000/svg\" xmlns:xlink=\"http://www.w3.org/1999/xlink\" contentScriptType=\"application/ecmascript\" contentStyleType=\"text/css\" height=\"303px\" preserveAspectRatio=\"none\" style=\"width:518px;height:303px;\" version=\"1.1\" viewBox=\"0 0 518 303\" width=\"518px\" zoomAndPan=\"magnify\"><defs/><g><!--MD5=[fbc87193dbaf4d95561dea2c320d4a47]\n",
       "cluster E1--><a href=\"psysml:7332441d-5859-4b68-88e6-44e4d7acfbc9\" target=\"_top\" title=\"psysml:7332441d-5859-4b68-88e6-44e4d7acfbc9\" xlink:actuate=\"onRequest\" xlink:href=\"psysml:7332441d-5859-4b68-88e6-44e4d7acfbc9\" xlink:show=\"new\" xlink:title=\"psysml:7332441d-5859-4b68-88e6-44e4d7acfbc9\" xlink:type=\"simple\"><polygon fill=\"#FFFFFF\" points=\"16,6,117,6,124,28.2969,496,28.2969,496,291,16,291,16,6\" style=\"stroke: #000000; stroke-width: 1.5;\"/><line style=\"stroke: #000000; stroke-width: 1.5;\" x1=\"16\" x2=\"124\" y1=\"28.2969\" y2=\"28.2969\"/><text fill=\"#000000\" font-family=\"sans-serif\" font-size=\"14\" font-weight=\"bold\" lengthAdjust=\"spacingAndGlyphs\" textLength=\"95\" x=\"20\" y=\"20.9951\">CircularImport</text></a><!--MD5=[e4f7fae6ed58524ba242bb0b0d3be6b7]\n",
       "cluster E2--><a href=\"psysml:5f20ae7d-4d57-41a2-9907-55aa74d31ca3\" target=\"_top\" title=\"psysml:5f20ae7d-4d57-41a2-9907-55aa74d31ca3\" xlink:actuate=\"onRequest\" xlink:href=\"psysml:5f20ae7d-4d57-41a2-9907-55aa74d31ca3\" xlink:show=\"new\" xlink:title=\"psysml:5f20ae7d-4d57-41a2-9907-55aa74d31ca3\" xlink:type=\"simple\"><polygon fill=\"#FFFFFF\" points=\"333,170,357,170,364,192.2969,431,192.2969,431,267,333,267,333,170\" style=\"stroke: #000000; stroke-width: 1.5;\"/><line style=\"stroke: #000000; stroke-width: 1.5;\" x1=\"333\" x2=\"364\" y1=\"192.2969\" y2=\"192.2969\"/><text fill=\"#000000\" font-family=\"sans-serif\" font-size=\"14\" font-weight=\"bold\" lengthAdjust=\"spacingAndGlyphs\" textLength=\"18\" x=\"337\" y=\"184.9951\">P1</text></a><!--MD5=[f6df4d0ebaf0b5dfb2ced0ae5af7c670]\n",
       "cluster E4--><a href=\"psysml:ebcd3975-b264-4248-9466-34d42d3f68ce\" target=\"_top\" title=\"psysml:ebcd3975-b264-4248-9466-34d42d3f68ce\" xlink:actuate=\"onRequest\" xlink:href=\"psysml:ebcd3975-b264-4248-9466-34d42d3f68ce\" xlink:show=\"new\" xlink:title=\"psysml:ebcd3975-b264-4248-9466-34d42d3f68ce\" xlink:type=\"simple\"><polygon fill=\"#FFFFFF\" points=\"81,170,105,170,112,192.2969,179,192.2969,179,267,81,267,81,170\" style=\"stroke: #000000; stroke-width: 1.5;\"/><line style=\"stroke: #000000; stroke-width: 1.5;\" x1=\"81\" x2=\"112\" y1=\"192.2969\" y2=\"192.2969\"/><text fill=\"#000000\" font-family=\"sans-serif\" font-size=\"14\" font-weight=\"bold\" lengthAdjust=\"spacingAndGlyphs\" textLength=\"18\" x=\"85\" y=\"184.9951\">P2</text></a><!--MD5=[14e3b0961a2654348d326746436168a1]\n",
       "cluster E6--><a href=\"psysml:da6ad505-2daa-495a-83b8-d3ba9d2de3a4\" target=\"_top\" title=\"psysml:da6ad505-2daa-495a-83b8-d3ba9d2de3a4\" xlink:actuate=\"onRequest\" xlink:href=\"psysml:da6ad505-2daa-495a-83b8-d3ba9d2de3a4\" xlink:show=\"new\" xlink:title=\"psysml:da6ad505-2daa-495a-83b8-d3ba9d2de3a4\" xlink:type=\"simple\"><polygon fill=\"#FFFFFF\" points=\"268,49,314,49,321,71.2969,419,71.2969,419,146,268,146,268,49\" style=\"stroke: #000000; stroke-width: 1.5;\"/><line style=\"stroke: #000000; stroke-width: 1.5;\" x1=\"268\" x2=\"321\" y1=\"71.2969\" y2=\"71.2969\"/><text fill=\"#000000\" font-family=\"sans-serif\" font-size=\"14\" font-weight=\"bold\" lengthAdjust=\"spacingAndGlyphs\" textLength=\"40\" x=\"272\" y=\"63.9951\">Test1</text></a><!--MD5=[7f149f147074ac12df2cb0a7728a5fb0]\n",
       "cluster E9--><a href=\"psysml:b0babda1-ae00-488b-8e87-1a86d4c9a0c6\" target=\"_top\" title=\"psysml:b0babda1-ae00-488b-8e87-1a86d4c9a0c6\" xlink:actuate=\"onRequest\" xlink:href=\"psysml:b0babda1-ae00-488b-8e87-1a86d4c9a0c6\" xlink:show=\"new\" xlink:title=\"psysml:b0babda1-ae00-488b-8e87-1a86d4c9a0c6\" xlink:type=\"simple\"><polygon fill=\"#FFFFFF\" points=\"93,49,139,49,146,71.2969,244,71.2969,244,146,93,146,93,49\" style=\"stroke: #000000; stroke-width: 1.5;\"/><line style=\"stroke: #000000; stroke-width: 1.5;\" x1=\"93\" x2=\"146\" y1=\"71.2969\" y2=\"71.2969\"/><text fill=\"#000000\" font-family=\"sans-serif\" font-size=\"14\" font-weight=\"bold\" lengthAdjust=\"spacingAndGlyphs\" textLength=\"40\" x=\"97\" y=\"63.9951\">Test2</text></a><!--MD5=[49a0ec8f00dab7302a31f22d0f0fe584]\n",
       "class E12--><a href=\"psysml:be17b73a-3dde-44ce-ab8b-a0409ce39ee3\" target=\"_top\" title=\"psysml:be17b73a-3dde-44ce-ab8b-a0409ce39ee3\" xlink:actuate=\"onRequest\" xlink:href=\"psysml:be17b73a-3dde-44ce-ab8b-a0409ce39ee3\" xlink:show=\"new\" xlink:title=\"psysml:be17b73a-3dde-44ce-ab8b-a0409ce39ee3\" xlink:type=\"simple\"><rect fill=\"#FFFFFF\" height=\"45.9375\" id=\"E12\" rx=\"10\" ry=\"10\" style=\"stroke: #383838; stroke-width: 1.5;\" width=\"42\" x=\"438\" y=\"84\"/><text fill=\"#000000\" font-family=\"sans-serif\" font-size=\"12\" font-style=\"italic\" lengthAdjust=\"spacingAndGlyphs\" textLength=\"40\" x=\"439\" y=\"100.1387\">«part»</text><text fill=\"#000000\" font-family=\"sans-serif\" font-size=\"12\" lengthAdjust=\"spacingAndGlyphs\" textLength=\"22\" x=\"448\" y=\"114.1074\">x: A</text><line style=\"stroke: #383838; stroke-width: 1.5;\" x1=\"439\" x2=\"479\" y1=\"121.9375\" y2=\"121.9375\"/></a><!--MD5=[ee3c913d1a06f366521f9ef512b67efe]\n",
       "class E13--><a href=\"psysml:70775e2d-ada4-46b3-b3bb-1618b7e606cf\" target=\"_top\" title=\"psysml:70775e2d-ada4-46b3-b3bb-1618b7e606cf\" xlink:actuate=\"onRequest\" xlink:href=\"psysml:70775e2d-ada4-46b3-b3bb-1618b7e606cf\" xlink:show=\"new\" xlink:title=\"psysml:70775e2d-ada4-46b3-b3bb-1618b7e606cf\" xlink:type=\"simple\"><rect fill=\"#FFFFFF\" height=\"45.9375\" id=\"E13\" rx=\"10\" ry=\"10\" style=\"stroke: #383838; stroke-width: 1.5;\" width=\"42\" x=\"32\" y=\"84\"/><text fill=\"#000000\" font-family=\"sans-serif\" font-size=\"12\" font-style=\"italic\" lengthAdjust=\"spacingAndGlyphs\" textLength=\"40\" x=\"33\" y=\"100.1387\">«part»</text><text fill=\"#000000\" font-family=\"sans-serif\" font-size=\"12\" lengthAdjust=\"spacingAndGlyphs\" textLength=\"22\" x=\"42\" y=\"114.1074\">y: B</text><line style=\"stroke: #383838; stroke-width: 1.5;\" x1=\"33\" x2=\"73\" y1=\"121.9375\" y2=\"121.9375\"/></a><!--MD5=[09b614a08d8cba4a07c9adeb5e0fee81]\n",
       "class E3--><a href=\"psysml:a77b04ef-8587-44c9-8b7f-efa23f8b51b3\" target=\"_top\" title=\"psysml:a77b04ef-8587-44c9-8b7f-efa23f8b51b3\" xlink:actuate=\"onRequest\" xlink:href=\"psysml:a77b04ef-8587-44c9-8b7f-efa23f8b51b3\" xlink:show=\"new\" xlink:title=\"psysml:a77b04ef-8587-44c9-8b7f-efa23f8b51b3\" xlink:type=\"simple\"><rect fill=\"#FFFFFF\" height=\"45.9375\" id=\"E3\" style=\"stroke: #383838; stroke-width: 1.5;\" width=\"66\" x=\"349\" y=\"205\"/><text fill=\"#000000\" font-family=\"sans-serif\" font-size=\"12\" font-style=\"italic\" lengthAdjust=\"spacingAndGlyphs\" textLength=\"64\" x=\"350\" y=\"221.1387\">«part def»</text><text fill=\"#000000\" font-family=\"sans-serif\" font-size=\"12\" lengthAdjust=\"spacingAndGlyphs\" textLength=\"8\" x=\"378\" y=\"235.1074\">A</text><line style=\"stroke: #383838; stroke-width: 1.5;\" x1=\"350\" x2=\"414\" y1=\"242.9375\" y2=\"242.9375\"/></a><!--MD5=[270fce915f116d4de14055a7c1d9a0f3]\n",
       "class E5--><a href=\"psysml:0236a647-9823-419e-b974-acac8cdc5ece\" target=\"_top\" title=\"psysml:0236a647-9823-419e-b974-acac8cdc5ece\" xlink:actuate=\"onRequest\" xlink:href=\"psysml:0236a647-9823-419e-b974-acac8cdc5ece\" xlink:show=\"new\" xlink:title=\"psysml:0236a647-9823-419e-b974-acac8cdc5ece\" xlink:type=\"simple\"><rect fill=\"#FFFFFF\" height=\"45.9375\" id=\"E5\" style=\"stroke: #383838; stroke-width: 1.5;\" width=\"66\" x=\"97\" y=\"205\"/><text fill=\"#000000\" font-family=\"sans-serif\" font-size=\"12\" font-style=\"italic\" lengthAdjust=\"spacingAndGlyphs\" textLength=\"64\" x=\"98\" y=\"221.1387\">«part def»</text><text fill=\"#000000\" font-family=\"sans-serif\" font-size=\"12\" lengthAdjust=\"spacingAndGlyphs\" textLength=\"8\" x=\"126\" y=\"235.1074\">B</text><line style=\"stroke: #383838; stroke-width: 1.5;\" x1=\"98\" x2=\"162\" y1=\"242.9375\" y2=\"242.9375\"/></a><!--MD5=[2156ba9850f5573cc1fc38a6a4b2f02b]\n",
       "class E7--><a href=\"psysml:d9c30419-fa03-4224-9f9b-cc52ece95c03\" target=\"_top\" title=\"psysml:d9c30419-fa03-4224-9f9b-cc52ece95c03\" xlink:actuate=\"onRequest\" xlink:href=\"psysml:d9c30419-fa03-4224-9f9b-cc52ece95c03\" xlink:show=\"new\" xlink:title=\"psysml:d9c30419-fa03-4224-9f9b-cc52ece95c03\" xlink:type=\"simple\"><rect fill=\"#FFFFFF\" height=\"45.9375\" id=\"E7\" rx=\"10\" ry=\"10\" style=\"stroke: #383838; stroke-width: 1.5;\" width=\"42\" x=\"361\" y=\"84\"/><text fill=\"#000000\" font-family=\"sans-serif\" font-size=\"12\" font-style=\"italic\" lengthAdjust=\"spacingAndGlyphs\" textLength=\"40\" x=\"362\" y=\"100.1387\">«part»</text><text fill=\"#000000\" font-family=\"sans-serif\" font-size=\"12\" lengthAdjust=\"spacingAndGlyphs\" textLength=\"22\" x=\"371\" y=\"114.1074\">x: A</text><line style=\"stroke: #383838; stroke-width: 1.5;\" x1=\"362\" x2=\"402\" y1=\"121.9375\" y2=\"121.9375\"/></a><!--MD5=[b9389687b975829384b498ac4b7476b2]\n",
       "class E8--><a href=\"psysml:32c0d6a2-b48f-4756-bec9-ba81426d308d\" target=\"_top\" title=\"psysml:32c0d6a2-b48f-4756-bec9-ba81426d308d\" xlink:actuate=\"onRequest\" xlink:href=\"psysml:32c0d6a2-b48f-4756-bec9-ba81426d308d\" xlink:show=\"new\" xlink:title=\"psysml:32c0d6a2-b48f-4756-bec9-ba81426d308d\" xlink:type=\"simple\"><rect fill=\"#FFFFFF\" height=\"45.9375\" id=\"E8\" rx=\"10\" ry=\"10\" style=\"stroke: #383838; stroke-width: 1.5;\" width=\"42\" x=\"284\" y=\"84\"/><text fill=\"#000000\" font-family=\"sans-serif\" font-size=\"12\" font-style=\"italic\" lengthAdjust=\"spacingAndGlyphs\" textLength=\"40\" x=\"285\" y=\"100.1387\">«part»</text><text fill=\"#000000\" font-family=\"sans-serif\" font-size=\"12\" lengthAdjust=\"spacingAndGlyphs\" textLength=\"22\" x=\"294\" y=\"114.1074\">y: B</text><line style=\"stroke: #383838; stroke-width: 1.5;\" x1=\"285\" x2=\"325\" y1=\"121.9375\" y2=\"121.9375\"/></a><!--MD5=[96f4274e9e20536e775497830990834d]\n",
       "class E10--><a href=\"psysml:4b1ceaae-3a33-4edd-a713-ae072a8ba794\" target=\"_top\" title=\"psysml:4b1ceaae-3a33-4edd-a713-ae072a8ba794\" xlink:actuate=\"onRequest\" xlink:href=\"psysml:4b1ceaae-3a33-4edd-a713-ae072a8ba794\" xlink:show=\"new\" xlink:title=\"psysml:4b1ceaae-3a33-4edd-a713-ae072a8ba794\" xlink:type=\"simple\"><rect fill=\"#FFFFFF\" height=\"45.9375\" id=\"E10\" rx=\"10\" ry=\"10\" style=\"stroke: #383838; stroke-width: 1.5;\" width=\"42\" x=\"186\" y=\"84\"/><text fill=\"#000000\" font-family=\"sans-serif\" font-size=\"12\" font-style=\"italic\" lengthAdjust=\"spacingAndGlyphs\" textLength=\"40\" x=\"187\" y=\"100.1387\">«part»</text><text fill=\"#000000\" font-family=\"sans-serif\" font-size=\"12\" lengthAdjust=\"spacingAndGlyphs\" textLength=\"22\" x=\"196\" y=\"114.1074\">x: A</text><line style=\"stroke: #383838; stroke-width: 1.5;\" x1=\"187\" x2=\"227\" y1=\"121.9375\" y2=\"121.9375\"/></a><!--MD5=[1dd1bfd58a279cf63c5f349dbc8fc6a1]\n",
       "class E11--><a href=\"psysml:8a3e0fcf-a1f5-42bd-9af7-3ab68d312f86\" target=\"_top\" title=\"psysml:8a3e0fcf-a1f5-42bd-9af7-3ab68d312f86\" xlink:actuate=\"onRequest\" xlink:href=\"psysml:8a3e0fcf-a1f5-42bd-9af7-3ab68d312f86\" xlink:show=\"new\" xlink:title=\"psysml:8a3e0fcf-a1f5-42bd-9af7-3ab68d312f86\" xlink:type=\"simple\"><rect fill=\"#FFFFFF\" height=\"45.9375\" id=\"E11\" rx=\"10\" ry=\"10\" style=\"stroke: #383838; stroke-width: 1.5;\" width=\"42\" x=\"109\" y=\"84\"/><text fill=\"#000000\" font-family=\"sans-serif\" font-size=\"12\" font-style=\"italic\" lengthAdjust=\"spacingAndGlyphs\" textLength=\"40\" x=\"110\" y=\"100.1387\">«part»</text><text fill=\"#000000\" font-family=\"sans-serif\" font-size=\"12\" lengthAdjust=\"spacingAndGlyphs\" textLength=\"22\" x=\"119\" y=\"114.1074\">y: B</text><line style=\"stroke: #383838; stroke-width: 1.5;\" x1=\"110\" x2=\"150\" y1=\"121.9375\" y2=\"121.9375\"/></a><!--MD5=[14ccda38c055a5c0da953d572bc50960]\n",
       "link E7 to E3--><a href=\"psysml:520b462f-0086-4fa2-a8c7-c457cfb393b0\" target=\"_top\" title=\"psysml:520b462f-0086-4fa2-a8c7-c457cfb393b0\" xlink:actuate=\"onRequest\" xlink:href=\"psysml:520b462f-0086-4fa2-a8c7-c457cfb393b0\" xlink:show=\"new\" xlink:title=\"psysml:520b462f-0086-4fa2-a8c7-c457cfb393b0\" xlink:type=\"simple\"><path d=\"M382,130.1 C382,145.37 382,166.16 382,184.57 \" fill=\"none\" id=\"E7-&gt;E3\" style=\"stroke: #383838; stroke-width: 1.0;\"/><polygon fill=\"#FFFFFF\" points=\"382,204.61,375,185.61,389,185.61,382,204.61\" style=\"stroke: #383838; stroke-width: 1.0;\"/><ellipse cx=\"377\" cy=\"179.91\" fill=\"#383838\" rx=\"2\" ry=\"2\" style=\"stroke: #383838; stroke-width: 1.0;\"/><ellipse cx=\"387\" cy=\"179.91\" fill=\"#383838\" rx=\"2\" ry=\"2\" style=\"stroke: #383838; stroke-width: 1.0;\"/></a><!--MD5=[1ccb2481ffa92f8d51a74ee30c51832a]\n",
       "link E8 to E5--><a href=\"psysml:7aecf3a3-7124-43a8-804d-679627dba63d\" target=\"_top\" title=\"psysml:7aecf3a3-7124-43a8-804d-679627dba63d\" xlink:actuate=\"onRequest\" xlink:href=\"psysml:7aecf3a3-7124-43a8-804d-679627dba63d\" xlink:show=\"new\" xlink:title=\"psysml:7aecf3a3-7124-43a8-804d-679627dba63d\" xlink:type=\"simple\"><path d=\"M283.84,124.59 C272.23,133.52 257.5,144.61 244,154 C223.51,168.25 200.41,183.24 180.38,195.91 \" fill=\"none\" id=\"E8-&gt;E5\" style=\"stroke: #383838; stroke-width: 1.0;\"/><polygon fill=\"#FFFFFF\" points=\"163.36,206.57,175.7353,190.5434,183.175,202.403,163.36,206.57\" style=\"stroke: #383838; stroke-width: 1.0;\"/><ellipse cx=\"181.6267\" cy=\"189.2086\" fill=\"#383838\" rx=\"2\" ry=\"2\" style=\"stroke: #383838; stroke-width: 1.0;\"/><ellipse cx=\"186.9408\" cy=\"197.6797\" fill=\"#383838\" rx=\"2\" ry=\"2\" style=\"stroke: #383838; stroke-width: 1.0;\"/></a><!--MD5=[feeac5eb423634930294aa81f2d25a4c]\n",
       "link E10 to E3--><a href=\"psysml:fd0acd65-b864-4a8e-8ff2-cbce99549eac\" target=\"_top\" title=\"psysml:fd0acd65-b864-4a8e-8ff2-cbce99549eac\" xlink:actuate=\"onRequest\" xlink:href=\"psysml:fd0acd65-b864-4a8e-8ff2-cbce99549eac\" xlink:show=\"new\" xlink:title=\"psysml:fd0acd65-b864-4a8e-8ff2-cbce99549eac\" xlink:type=\"simple\"><path d=\"M228.16,124.59 C239.77,133.52 254.5,144.61 268,154 C288.49,168.25 311.59,183.24 331.62,195.91 \" fill=\"none\" id=\"E10-&gt;E3\" style=\"stroke: #383838; stroke-width: 1.0;\"/><polygon fill=\"#FFFFFF\" points=\"348.64,206.57,328.825,202.403,336.2647,190.5434,348.64,206.57\" style=\"stroke: #383838; stroke-width: 1.0;\"/><ellipse cx=\"325.0592\" cy=\"197.6797\" fill=\"#383838\" rx=\"2\" ry=\"2\" style=\"stroke: #383838; stroke-width: 1.0;\"/><ellipse cx=\"330.3733\" cy=\"189.2086\" fill=\"#383838\" rx=\"2\" ry=\"2\" style=\"stroke: #383838; stroke-width: 1.0;\"/></a><!--MD5=[07b77f6f309248d16187045709d1c26e]\n",
       "link E11 to E5--><a href=\"psysml:442cb8f2-ee4b-4dfa-8164-f495024e2707\" target=\"_top\" title=\"psysml:442cb8f2-ee4b-4dfa-8164-f495024e2707\" xlink:actuate=\"onRequest\" xlink:href=\"psysml:442cb8f2-ee4b-4dfa-8164-f495024e2707\" xlink:show=\"new\" xlink:title=\"psysml:442cb8f2-ee4b-4dfa-8164-f495024e2707\" xlink:type=\"simple\"><path d=\"M130,130.1 C130,145.37 130,166.16 130,184.57 \" fill=\"none\" id=\"E11-&gt;E5\" style=\"stroke: #383838; stroke-width: 1.0;\"/><polygon fill=\"#FFFFFF\" points=\"130,204.61,123,185.61,137,185.61,130,204.61\" style=\"stroke: #383838; stroke-width: 1.0;\"/><ellipse cx=\"125\" cy=\"179.91\" fill=\"#383838\" rx=\"2\" ry=\"2\" style=\"stroke: #383838; stroke-width: 1.0;\"/><ellipse cx=\"135\" cy=\"179.91\" fill=\"#383838\" rx=\"2\" ry=\"2\" style=\"stroke: #383838; stroke-width: 1.0;\"/></a><!--MD5=[39f41a0e550fb3d73b4d8135617e30a2]\n",
       "link E12 to E3--><a href=\"psysml:fab56a21-03ff-446d-9dd1-385c5373a3f2\" target=\"_top\" title=\"psysml:fab56a21-03ff-446d-9dd1-385c5373a3f2\" xlink:actuate=\"onRequest\" xlink:href=\"psysml:fab56a21-03ff-446d-9dd1-385c5373a3f2\" xlink:show=\"new\" xlink:title=\"psysml:fab56a21-03ff-446d-9dd1-385c5373a3f2\" xlink:type=\"simple\"><path d=\"M444.7,130.1 C434.28,146.2 419.89,168.44 407.53,187.55 \" fill=\"none\" id=\"E12-&gt;E3\" style=\"stroke: #383838; stroke-width: 1.0;\"/><polygon fill=\"#FFFFFF\" points=\"396.49,204.61,400.9313,184.8546,412.6866,192.4581,396.49,204.61\" style=\"stroke: #383838; stroke-width: 1.0;\"/><ellipse cx=\"405.7063\" cy=\"181.1547\" fill=\"#383838\" rx=\"2\" ry=\"2\" style=\"stroke: #383838; stroke-width: 1.0;\"/><ellipse cx=\"414.103\" cy=\"186.5858\" fill=\"#383838\" rx=\"2\" ry=\"2\" style=\"stroke: #383838; stroke-width: 1.0;\"/></a><!--MD5=[066b2d8af59fea80ccdb3d54ad5c1091]\n",
       "link E13 to E5--><a href=\"psysml:5cad6703-6f19-4c46-9c46-92acb368aec7\" target=\"_top\" title=\"psysml:5cad6703-6f19-4c46-9c46-92acb368aec7\" xlink:actuate=\"onRequest\" xlink:href=\"psysml:5cad6703-6f19-4c46-9c46-92acb368aec7\" xlink:show=\"new\" xlink:title=\"psysml:5cad6703-6f19-4c46-9c46-92acb368aec7\" xlink:type=\"simple\"><path d=\"M67.3,130.1 C77.72,146.2 92.11,168.44 104.47,187.55 \" fill=\"none\" id=\"E13-&gt;E5\" style=\"stroke: #383838; stroke-width: 1.0;\"/><polygon fill=\"#FFFFFF\" points=\"115.51,204.61,99.3134,192.4581,111.0687,184.8546,115.51,204.61\" style=\"stroke: #383838; stroke-width: 1.0;\"/><ellipse cx=\"97.897\" cy=\"186.5858\" fill=\"#383838\" rx=\"2\" ry=\"2\" style=\"stroke: #383838; stroke-width: 1.0;\"/><ellipse cx=\"106.2937\" cy=\"181.1547\" fill=\"#383838\" rx=\"2\" ry=\"2\" style=\"stroke: #383838; stroke-width: 1.0;\"/></a><!--MD5=[9081e22cd0885e59e59dcd83ed6eaee0]\n",
       "@startuml\r\n",
       " skinparam monochrome true\r\n",
       "skinparam classbackgroundcolor white\r\n",
       "skinparam shadowing false\r\n",
       "skinparam wrapWidth 300\r\n",
       "hide circle\r\n",
       "\r\n",
       "package \"CircularImport\" as E1  [[psysml:7332441d-5859-4b68-88e6-44e4d7acfbc9 ]]  {\r\n",
       "package \"P1\" as E2  [[psysml:5f20ae7d-4d57-41a2-9907-55aa74d31ca3 ]]  {\r\n",
       "comp def \"A\" as E3  <<(T,blue) part def>> [[psysml:a77b04ef-8587-44c9-8b7f-efa23f8b51b3 ]] {\r\n",
       "}\r\n",
       "}\r\n",
       "package \"P2\" as E4  [[psysml:ebcd3975-b264-4248-9466-34d42d3f68ce ]]  {\r\n",
       "comp def \"B\" as E5  <<(T,blue) part def>> [[psysml:0236a647-9823-419e-b974-acac8cdc5ece ]] {\r\n",
       "}\r\n",
       "}\r\n",
       "package \"Test1\" as E6  [[psysml:da6ad505-2daa-495a-83b8-d3ba9d2de3a4 ]]  {\r\n",
       "comp usage \"x: A\" as E7  <<(T,blue) part>> [[psysml:d9c30419-fa03-4224-9f9b-cc52ece95c03 ]] {\r\n",
       "}\r\n",
       "comp usage \"y: B\" as E8  <<(T,blue) part>> [[psysml:32c0d6a2-b48f-4756-bec9-ba81426d308d ]] {\r\n",
       "}\r\n",
       "}\r\n",
       "package \"Test2\" as E9  [[psysml:b0babda1-ae00-488b-8e87-1a86d4c9a0c6 ]]  {\r\n",
       "comp usage \"x: A\" as E10  <<(T,blue) part>> [[psysml:4b1ceaae-3a33-4edd-a713-ae072a8ba794 ]] {\r\n",
       "}\r\n",
       "comp usage \"y: B\" as E11  <<(T,blue) part>> [[psysml:8a3e0fcf-a1f5-42bd-9af7-3ab68d312f86 ]] {\r\n",
       "}\r\n",
       "}\r\n",
       "comp usage \"x: A\" as E12  <<(T,blue) part>> [[psysml:be17b73a-3dde-44ce-ab8b-a0409ce39ee3 ]] {\r\n",
       "}\r\n",
       "comp usage \"y: B\" as E13  <<(T,blue) part>> [[psysml:70775e2d-ada4-46b3-b3bb-1618b7e606cf ]] {\r\n",
       "}\r\n",
       "}\r\n",
       "E7 - -:|> E3 [[psysml:520b462f-0086-4fa2-a8c7-c457cfb393b0 ]] \r\n",
       "E8 - -:|> E5 [[psysml:7aecf3a3-7124-43a8-804d-679627dba63d ]] \r\n",
       "E10 - -:|> E3 [[psysml:fd0acd65-b864-4a8e-8ff2-cbce99549eac ]] \r\n",
       "E11 - -:|> E5 [[psysml:442cb8f2-ee4b-4dfa-8164-f495024e2707 ]] \r\n",
       "E12 - -:|> E3 [[psysml:fab56a21-03ff-446d-9dd1-385c5373a3f2 ]] \r\n",
       "E13 - -:|> E5 [[psysml:5cad6703-6f19-4c46-9c46-92acb368aec7 ]] \r\n",
       "@enduml\r\n",
       "\n",
       "PlantUML version 1.2020.13(Sat Jun 13 12:26:38 UTC 2020)\n",
       "(EPL source distribution)\n",
       "Java Runtime: OpenJDK Runtime Environment\n",
       "JVM: OpenJDK 64-Bit Server VM\n",
       "Default Encoding: UTF-8\n",
       "Language: en\n",
       "Country: null\n",
       "--></g></svg>"
      ]
     },
     "execution_count": 3,
     "metadata": {},
     "output_type": "execute_result"
    }
   ],
   "source": [
    "%viz --style=\"COMPTREE\" --view=\"Tree\" \"CircularImport\""
   ]
  },
  {
   "cell_type": "code",
   "execution_count": 4,
   "id": "9108a156",
   "metadata": {
    "execution": {
     "iopub.execute_input": "2021-09-27T07:16:34.302049Z",
     "iopub.status.busy": "2021-09-27T07:16:34.301624Z",
     "iopub.status.idle": "2021-09-27T07:16:34.310593Z",
     "shell.execute_reply": "2021-09-27T07:16:34.310906Z"
    }
   },
   "outputs": [
    {
     "data": {
      "image/svg+xml": [
       "<?xml version=\"1.0\" encoding=\"UTF-8\" standalone=\"no\"?><svg xmlns=\"http://www.w3.org/2000/svg\" xmlns:xlink=\"http://www.w3.org/1999/xlink\" contentScriptType=\"application/ecmascript\" contentStyleType=\"text/css\" height=\"12px\" preserveAspectRatio=\"none\" style=\"width:12px;height:12px;\" version=\"1.1\" viewBox=\"0 0 12 12\" width=\"12px\" zoomAndPan=\"magnify\"><defs/><g><!--MD5=[f19188ef49e11757b5c46753f95d9edc]\n",
       "@startuml\r\n",
       " skinparam monochrome true\r\n",
       "skinparam classbackgroundcolor white\r\n",
       "skinparam shadowing false\r\n",
       "skinparam wrapWidth 300\r\n",
       "hide circle\r\n",
       "\r\n",
       "@enduml\r\n",
       "\n",
       "PlantUML version 1.2020.13(Sat Jun 13 12:26:38 UTC 2020)\n",
       "(EPL source distribution)\n",
       "Java Runtime: OpenJDK Runtime Environment\n",
       "JVM: OpenJDK 64-Bit Server VM\n",
       "Default Encoding: UTF-8\n",
       "Language: en\n",
       "Country: null\n",
       "--></g></svg>"
      ]
     },
     "execution_count": 4,
     "metadata": {},
     "output_type": "execute_result"
    }
   ],
   "source": [
    "%viz --style=\"COMPTREE\" --view=\"State\" \"CircularImport\""
   ]
  },
  {
   "cell_type": "code",
   "execution_count": 5,
   "id": "8465e2ae",
   "metadata": {
    "execution": {
     "iopub.execute_input": "2021-09-27T07:16:34.361624Z",
     "iopub.status.busy": "2021-09-27T07:16:34.361222Z",
     "iopub.status.idle": "2021-09-27T07:16:34.415083Z",
     "shell.execute_reply": "2021-09-27T07:16:34.415414Z"
    }
   },
   "outputs": [
    {
     "data": {
      "image/svg+xml": [
       "<?xml version=\"1.0\" encoding=\"UTF-8\" standalone=\"no\"?><svg xmlns=\"http://www.w3.org/2000/svg\" xmlns:xlink=\"http://www.w3.org/1999/xlink\" contentScriptType=\"application/ecmascript\" contentStyleType=\"text/css\" height=\"179px\" preserveAspectRatio=\"none\" style=\"width:846px;height:179px;\" version=\"1.1\" viewBox=\"0 0 846 179\" width=\"846px\" zoomAndPan=\"magnify\"><defs/><g><!--MD5=[fbc87193dbaf4d95561dea2c320d4a47]\n",
       "cluster E1--><a href=\"psysml:7332441d-5859-4b68-88e6-44e4d7acfbc9\" target=\"_top\" title=\"psysml:7332441d-5859-4b68-88e6-44e4d7acfbc9\" xlink:actuate=\"onRequest\" xlink:href=\"psysml:7332441d-5859-4b68-88e6-44e4d7acfbc9\" xlink:show=\"new\" xlink:title=\"psysml:7332441d-5859-4b68-88e6-44e4d7acfbc9\" xlink:type=\"simple\"><polygon fill=\"#FFFFFF\" points=\"16,6,117,6,124,28.2969,824,28.2969,824,167,16,167,16,6\" style=\"stroke: #000000; stroke-width: 1.5;\"/><line style=\"stroke: #000000; stroke-width: 1.5;\" x1=\"16\" x2=\"124\" y1=\"28.2969\" y2=\"28.2969\"/><text fill=\"#000000\" font-family=\"sans-serif\" font-size=\"14\" font-weight=\"bold\" lengthAdjust=\"spacingAndGlyphs\" textLength=\"95\" x=\"20\" y=\"20.9951\">CircularImport</text></a><!--MD5=[e4f7fae6ed58524ba242bb0b0d3be6b7]\n",
       "cluster E2--><a href=\"psysml:5f20ae7d-4d57-41a2-9907-55aa74d31ca3\" target=\"_top\" title=\"psysml:5f20ae7d-4d57-41a2-9907-55aa74d31ca3\" xlink:actuate=\"onRequest\" xlink:href=\"psysml:5f20ae7d-4d57-41a2-9907-55aa74d31ca3\" xlink:show=\"new\" xlink:title=\"psysml:5f20ae7d-4d57-41a2-9907-55aa74d31ca3\" xlink:type=\"simple\"><polygon fill=\"#FFFFFF\" points=\"696,49,720,49,727,71.2969,800,71.2969,800,143,696,143,696,49\" style=\"stroke: #000000; stroke-width: 1.5;\"/><line style=\"stroke: #000000; stroke-width: 1.5;\" x1=\"696\" x2=\"727\" y1=\"71.2969\" y2=\"71.2969\"/><text fill=\"#000000\" font-family=\"sans-serif\" font-size=\"14\" font-weight=\"bold\" lengthAdjust=\"spacingAndGlyphs\" textLength=\"18\" x=\"700\" y=\"63.9951\">P1</text></a><!--MD5=[f6df4d0ebaf0b5dfb2ced0ae5af7c670]\n",
       "cluster E4--><a href=\"psysml:ebcd3975-b264-4248-9466-34d42d3f68ce\" target=\"_top\" title=\"psysml:ebcd3975-b264-4248-9466-34d42d3f68ce\" xlink:actuate=\"onRequest\" xlink:href=\"psysml:ebcd3975-b264-4248-9466-34d42d3f68ce\" xlink:show=\"new\" xlink:title=\"psysml:ebcd3975-b264-4248-9466-34d42d3f68ce\" xlink:type=\"simple\"><polygon fill=\"#FFFFFF\" points=\"568,49,592,49,599,71.2969,672,71.2969,672,143,568,143,568,49\" style=\"stroke: #000000; stroke-width: 1.5;\"/><line style=\"stroke: #000000; stroke-width: 1.5;\" x1=\"568\" x2=\"599\" y1=\"71.2969\" y2=\"71.2969\"/><text fill=\"#000000\" font-family=\"sans-serif\" font-size=\"14\" font-weight=\"bold\" lengthAdjust=\"spacingAndGlyphs\" textLength=\"18\" x=\"572\" y=\"63.9951\">P2</text></a><!--MD5=[14e3b0961a2654348d326746436168a1]\n",
       "cluster E6--><a href=\"psysml:da6ad505-2daa-495a-83b8-d3ba9d2de3a4\" target=\"_top\" title=\"psysml:da6ad505-2daa-495a-83b8-d3ba9d2de3a4\" xlink:actuate=\"onRequest\" xlink:href=\"psysml:da6ad505-2daa-495a-83b8-d3ba9d2de3a4\" xlink:show=\"new\" xlink:title=\"psysml:da6ad505-2daa-495a-83b8-d3ba9d2de3a4\" xlink:type=\"simple\"><polygon fill=\"#FFFFFF\" points=\"377,50.5,423,50.5,430,72.7969,544,72.7969,544,141.5,377,141.5,377,50.5\" style=\"stroke: #000000; stroke-width: 1.5;\"/><line style=\"stroke: #000000; stroke-width: 1.5;\" x1=\"377\" x2=\"430\" y1=\"72.7969\" y2=\"72.7969\"/><text fill=\"#000000\" font-family=\"sans-serif\" font-size=\"14\" font-weight=\"bold\" lengthAdjust=\"spacingAndGlyphs\" textLength=\"40\" x=\"381\" y=\"65.4951\">Test1</text></a><!--MD5=[7f149f147074ac12df2cb0a7728a5fb0]\n",
       "cluster E9--><a href=\"psysml:b0babda1-ae00-488b-8e87-1a86d4c9a0c6\" target=\"_top\" title=\"psysml:b0babda1-ae00-488b-8e87-1a86d4c9a0c6\" xlink:actuate=\"onRequest\" xlink:href=\"psysml:b0babda1-ae00-488b-8e87-1a86d4c9a0c6\" xlink:show=\"new\" xlink:title=\"psysml:b0babda1-ae00-488b-8e87-1a86d4c9a0c6\" xlink:type=\"simple\"><polygon fill=\"#FFFFFF\" points=\"186,50.5,232,50.5,239,72.7969,353,72.7969,353,141.5,186,141.5,186,50.5\" style=\"stroke: #000000; stroke-width: 1.5;\"/><line style=\"stroke: #000000; stroke-width: 1.5;\" x1=\"186\" x2=\"239\" y1=\"72.7969\" y2=\"72.7969\"/><text fill=\"#000000\" font-family=\"sans-serif\" font-size=\"14\" font-weight=\"bold\" lengthAdjust=\"spacingAndGlyphs\" textLength=\"40\" x=\"190\" y=\"65.4951\">Test2</text></a><g id=\"E1.E2.E3\"><a href=\"psysml:a77b04ef-8587-44c9-8b7f-efa23f8b51b3\" target=\"_top\" title=\"psysml:a77b04ef-8587-44c9-8b7f-efa23f8b51b3\" xlink:actuate=\"onRequest\" xlink:href=\"psysml:a77b04ef-8587-44c9-8b7f-efa23f8b51b3\" xlink:show=\"new\" xlink:title=\"psysml:a77b04ef-8587-44c9-8b7f-efa23f8b51b3\" xlink:type=\"simple\"><rect fill=\"#FFFFFF\" height=\"42.9375\" id=\"E3\" style=\"stroke: #383838; stroke-width: 1.5;\" width=\"71\" x=\"712.5\" y=\"84\"/><rect fill=\"#F8F8F8\" height=\"37.9375\" style=\"stroke: #383838; stroke-width: 1.5;\" width=\"71\" x=\"712.5\" y=\"84\"/><text fill=\"#000000\" font-family=\"sans-serif\" font-size=\"12\" font-style=\"italic\" lengthAdjust=\"spacingAndGlyphs\" textLength=\"64\" x=\"716\" y=\"100.1387\">«part def»</text><text fill=\"#000000\" font-family=\"sans-serif\" font-size=\"12\" lengthAdjust=\"spacingAndGlyphs\" textLength=\"8\" x=\"744\" y=\"114.1074\">A</text></a></g><g id=\"E1.E4.E5\"><a href=\"psysml:0236a647-9823-419e-b974-acac8cdc5ece\" target=\"_top\" title=\"psysml:0236a647-9823-419e-b974-acac8cdc5ece\" xlink:actuate=\"onRequest\" xlink:href=\"psysml:0236a647-9823-419e-b974-acac8cdc5ece\" xlink:show=\"new\" xlink:title=\"psysml:0236a647-9823-419e-b974-acac8cdc5ece\" xlink:type=\"simple\"><rect fill=\"#FFFFFF\" height=\"42.9375\" id=\"E5\" style=\"stroke: #383838; stroke-width: 1.5;\" width=\"71\" x=\"584.5\" y=\"84\"/><rect fill=\"#F8F8F8\" height=\"37.9375\" style=\"stroke: #383838; stroke-width: 1.5;\" width=\"71\" x=\"584.5\" y=\"84\"/><text fill=\"#000000\" font-family=\"sans-serif\" font-size=\"12\" font-style=\"italic\" lengthAdjust=\"spacingAndGlyphs\" textLength=\"64\" x=\"588\" y=\"100.1387\">«part def»</text><text fill=\"#000000\" font-family=\"sans-serif\" font-size=\"12\" lengthAdjust=\"spacingAndGlyphs\" textLength=\"8\" x=\"616\" y=\"114.1074\">B</text></a></g><g id=\"E1.E6.E7\"><a href=\"psysml:d9c30419-fa03-4224-9f9b-cc52ece95c03\" target=\"_top\" title=\"psysml:d9c30419-fa03-4224-9f9b-cc52ece95c03\" xlink:actuate=\"onRequest\" xlink:href=\"psysml:d9c30419-fa03-4224-9f9b-cc52ece95c03\" xlink:show=\"new\" xlink:title=\"psysml:d9c30419-fa03-4224-9f9b-cc52ece95c03\" xlink:type=\"simple\"><rect fill=\"#FFFFFF\" height=\"40\" id=\"E7\" rx=\"10\" ry=\"10\" style=\"stroke: #383838; stroke-width: 1.5;\" width=\"50\" x=\"478\" y=\"85.5\"/><rect fill=\"#F8F8F8\" height=\"23.9688\" rx=\"10\" ry=\"10\" style=\"stroke: #F8F8F8; stroke-width: 1.5;\" width=\"50\" x=\"478\" y=\"85.5\"/><rect fill=\"#F8F8F8\" height=\"10\" style=\"stroke: #F8F8F8; stroke-width: 1.5;\" width=\"50\" x=\"478\" y=\"99.4688\"/><rect fill=\"none\" height=\"40\" id=\"E7\" rx=\"10\" ry=\"10\" style=\"stroke: #383838; stroke-width: 1.5;\" width=\"50\" x=\"478\" y=\"85.5\"/><text fill=\"#000000\" font-family=\"sans-serif\" font-size=\"12\" lengthAdjust=\"spacingAndGlyphs\" textLength=\"22\" x=\"492\" y=\"101.6387\">x: A</text></a></g><g id=\"E1.E6.E8\"><a href=\"psysml:32c0d6a2-b48f-4756-bec9-ba81426d308d\" target=\"_top\" title=\"psysml:32c0d6a2-b48f-4756-bec9-ba81426d308d\" xlink:actuate=\"onRequest\" xlink:href=\"psysml:32c0d6a2-b48f-4756-bec9-ba81426d308d\" xlink:show=\"new\" xlink:title=\"psysml:32c0d6a2-b48f-4756-bec9-ba81426d308d\" xlink:type=\"simple\"><rect fill=\"#FFFFFF\" height=\"40\" id=\"E8\" rx=\"10\" ry=\"10\" style=\"stroke: #383838; stroke-width: 1.5;\" width=\"50\" x=\"393\" y=\"85.5\"/><rect fill=\"#F8F8F8\" height=\"23.9688\" rx=\"10\" ry=\"10\" style=\"stroke: #F8F8F8; stroke-width: 1.5;\" width=\"50\" x=\"393\" y=\"85.5\"/><rect fill=\"#F8F8F8\" height=\"10\" style=\"stroke: #F8F8F8; stroke-width: 1.5;\" width=\"50\" x=\"393\" y=\"99.4688\"/><rect fill=\"none\" height=\"40\" id=\"E8\" rx=\"10\" ry=\"10\" style=\"stroke: #383838; stroke-width: 1.5;\" width=\"50\" x=\"393\" y=\"85.5\"/><text fill=\"#000000\" font-family=\"sans-serif\" font-size=\"12\" lengthAdjust=\"spacingAndGlyphs\" textLength=\"22\" x=\"407\" y=\"101.6387\">y: B</text></a></g><g id=\"E1.E9.E10\"><a href=\"psysml:4b1ceaae-3a33-4edd-a713-ae072a8ba794\" target=\"_top\" title=\"psysml:4b1ceaae-3a33-4edd-a713-ae072a8ba794\" xlink:actuate=\"onRequest\" xlink:href=\"psysml:4b1ceaae-3a33-4edd-a713-ae072a8ba794\" xlink:show=\"new\" xlink:title=\"psysml:4b1ceaae-3a33-4edd-a713-ae072a8ba794\" xlink:type=\"simple\"><rect fill=\"#FFFFFF\" height=\"40\" id=\"E10\" rx=\"10\" ry=\"10\" style=\"stroke: #383838; stroke-width: 1.5;\" width=\"50\" x=\"287\" y=\"85.5\"/><rect fill=\"#F8F8F8\" height=\"23.9688\" rx=\"10\" ry=\"10\" style=\"stroke: #F8F8F8; stroke-width: 1.5;\" width=\"50\" x=\"287\" y=\"85.5\"/><rect fill=\"#F8F8F8\" height=\"10\" style=\"stroke: #F8F8F8; stroke-width: 1.5;\" width=\"50\" x=\"287\" y=\"99.4688\"/><rect fill=\"none\" height=\"40\" id=\"E10\" rx=\"10\" ry=\"10\" style=\"stroke: #383838; stroke-width: 1.5;\" width=\"50\" x=\"287\" y=\"85.5\"/><text fill=\"#000000\" font-family=\"sans-serif\" font-size=\"12\" lengthAdjust=\"spacingAndGlyphs\" textLength=\"22\" x=\"301\" y=\"101.6387\">x: A</text></a></g><g id=\"E1.E9.E11\"><a href=\"psysml:8a3e0fcf-a1f5-42bd-9af7-3ab68d312f86\" target=\"_top\" title=\"psysml:8a3e0fcf-a1f5-42bd-9af7-3ab68d312f86\" xlink:actuate=\"onRequest\" xlink:href=\"psysml:8a3e0fcf-a1f5-42bd-9af7-3ab68d312f86\" xlink:show=\"new\" xlink:title=\"psysml:8a3e0fcf-a1f5-42bd-9af7-3ab68d312f86\" xlink:type=\"simple\"><rect fill=\"#FFFFFF\" height=\"40\" id=\"E11\" rx=\"10\" ry=\"10\" style=\"stroke: #383838; stroke-width: 1.5;\" width=\"50\" x=\"202\" y=\"85.5\"/><rect fill=\"#F8F8F8\" height=\"23.9688\" rx=\"10\" ry=\"10\" style=\"stroke: #F8F8F8; stroke-width: 1.5;\" width=\"50\" x=\"202\" y=\"85.5\"/><rect fill=\"#F8F8F8\" height=\"10\" style=\"stroke: #F8F8F8; stroke-width: 1.5;\" width=\"50\" x=\"202\" y=\"99.4688\"/><rect fill=\"none\" height=\"40\" id=\"E11\" rx=\"10\" ry=\"10\" style=\"stroke: #383838; stroke-width: 1.5;\" width=\"50\" x=\"202\" y=\"85.5\"/><text fill=\"#000000\" font-family=\"sans-serif\" font-size=\"12\" lengthAdjust=\"spacingAndGlyphs\" textLength=\"22\" x=\"216\" y=\"101.6387\">y: B</text></a></g><g id=\"E1.E12\"><a href=\"psysml:be17b73a-3dde-44ce-ab8b-a0409ce39ee3\" target=\"_top\" title=\"psysml:be17b73a-3dde-44ce-ab8b-a0409ce39ee3\" xlink:actuate=\"onRequest\" xlink:href=\"psysml:be17b73a-3dde-44ce-ab8b-a0409ce39ee3\" xlink:show=\"new\" xlink:title=\"psysml:be17b73a-3dde-44ce-ab8b-a0409ce39ee3\" xlink:type=\"simple\"><rect fill=\"#FFFFFF\" height=\"40\" id=\"E12\" rx=\"10\" ry=\"10\" style=\"stroke: #383838; stroke-width: 1.5;\" width=\"50\" x=\"117\" y=\"85.5\"/><rect fill=\"#F8F8F8\" height=\"23.9688\" rx=\"10\" ry=\"10\" style=\"stroke: #F8F8F8; stroke-width: 1.5;\" width=\"50\" x=\"117\" y=\"85.5\"/><rect fill=\"#F8F8F8\" height=\"10\" style=\"stroke: #F8F8F8; stroke-width: 1.5;\" width=\"50\" x=\"117\" y=\"99.4688\"/><rect fill=\"none\" height=\"40\" id=\"E12\" rx=\"10\" ry=\"10\" style=\"stroke: #383838; stroke-width: 1.5;\" width=\"50\" x=\"117\" y=\"85.5\"/><text fill=\"#000000\" font-family=\"sans-serif\" font-size=\"12\" lengthAdjust=\"spacingAndGlyphs\" textLength=\"22\" x=\"131\" y=\"101.6387\">x: A</text></a></g><g id=\"E1.E13\"><a href=\"psysml:70775e2d-ada4-46b3-b3bb-1618b7e606cf\" target=\"_top\" title=\"psysml:70775e2d-ada4-46b3-b3bb-1618b7e606cf\" xlink:actuate=\"onRequest\" xlink:href=\"psysml:70775e2d-ada4-46b3-b3bb-1618b7e606cf\" xlink:show=\"new\" xlink:title=\"psysml:70775e2d-ada4-46b3-b3bb-1618b7e606cf\" xlink:type=\"simple\"><rect fill=\"#FFFFFF\" height=\"40\" id=\"E13\" rx=\"10\" ry=\"10\" style=\"stroke: #383838; stroke-width: 1.5;\" width=\"50\" x=\"32\" y=\"85.5\"/><rect fill=\"#F8F8F8\" height=\"23.9688\" rx=\"10\" ry=\"10\" style=\"stroke: #F8F8F8; stroke-width: 1.5;\" width=\"50\" x=\"32\" y=\"85.5\"/><rect fill=\"#F8F8F8\" height=\"10\" style=\"stroke: #F8F8F8; stroke-width: 1.5;\" width=\"50\" x=\"32\" y=\"99.4688\"/><rect fill=\"none\" height=\"40\" id=\"E13\" rx=\"10\" ry=\"10\" style=\"stroke: #383838; stroke-width: 1.5;\" width=\"50\" x=\"32\" y=\"85.5\"/><text fill=\"#000000\" font-family=\"sans-serif\" font-size=\"12\" lengthAdjust=\"spacingAndGlyphs\" textLength=\"22\" x=\"46\" y=\"101.6387\">y: B</text></a></g><!--MD5=[597a981dbecfd007a54bbbc51106d4b5]\n",
       "@startuml\r\n",
       "skinparam ranksep 10\r\n",
       "skinparam rectangle {\r\n",
       " backgroundColor<<block>> LightGreen\r\n",
       "}\r\n",
       " skinparam monochrome true\r\n",
       "skinparam classbackgroundcolor white\r\n",
       "skinparam shadowing false\r\n",
       "skinparam wrapWidth 300\r\n",
       "hide circle\r\n",
       "\r\n",
       "package \"CircularImport\" as E1  [[psysml:7332441d-5859-4b68-88e6-44e4d7acfbc9 ]]  {\r\n",
       "package \"P1\" as E2  [[psysml:5f20ae7d-4d57-41a2-9907-55aa74d31ca3 ]]  {\r\n",
       "rec def \"A\" as E3  <<(T,blue) part def>> [[psysml:a77b04ef-8587-44c9-8b7f-efa23f8b51b3 ]] {\r\n",
       "}\r\n",
       "}\r\n",
       "package \"P2\" as E4  [[psysml:ebcd3975-b264-4248-9466-34d42d3f68ce ]]  {\r\n",
       "rec def \"B\" as E5  <<(T,blue) part def>> [[psysml:0236a647-9823-419e-b974-acac8cdc5ece ]] {\r\n",
       "}\r\n",
       "}\r\n",
       "package \"Test1\" as E6  [[psysml:da6ad505-2daa-495a-83b8-d3ba9d2de3a4 ]]  {\r\n",
       "rec usage \"x: A\" as E7  [[psysml:d9c30419-fa03-4224-9f9b-cc52ece95c03 ]] {\r\n",
       "}\r\n",
       "rec usage \"y: B\" as E8  [[psysml:32c0d6a2-b48f-4756-bec9-ba81426d308d ]] {\r\n",
       "}\r\n",
       "}\r\n",
       "package \"Test2\" as E9  [[psysml:b0babda1-ae00-488b-8e87-1a86d4c9a0c6 ]]  {\r\n",
       "rec usage \"x: A\" as E10  [[psysml:4b1ceaae-3a33-4edd-a713-ae072a8ba794 ]] {\r\n",
       "}\r\n",
       "rec usage \"y: B\" as E11  [[psysml:8a3e0fcf-a1f5-42bd-9af7-3ab68d312f86 ]] {\r\n",
       "}\r\n",
       "}\r\n",
       "rec usage \"x: A\" as E12  [[psysml:be17b73a-3dde-44ce-ab8b-a0409ce39ee3 ]] {\r\n",
       "}\r\n",
       "rec usage \"y: B\" as E13  [[psysml:70775e2d-ada4-46b3-b3bb-1618b7e606cf ]] {\r\n",
       "}\r\n",
       "}\r\n",
       "@enduml\r\n",
       "\n",
       "PlantUML version 1.2020.13(Sat Jun 13 12:26:38 UTC 2020)\n",
       "(EPL source distribution)\n",
       "Java Runtime: OpenJDK Runtime Environment\n",
       "JVM: OpenJDK 64-Bit Server VM\n",
       "Default Encoding: UTF-8\n",
       "Language: en\n",
       "Country: null\n",
       "--></g></svg>"
      ]
     },
     "execution_count": 5,
     "metadata": {},
     "output_type": "execute_result"
    }
   ],
   "source": [
    "%viz --style=\"COMPTREE\" --view=\"Interconnection\" \"CircularImport\""
   ]
  },
  {
   "cell_type": "code",
   "execution_count": 6,
   "id": "ae4192a4",
   "metadata": {
    "execution": {
     "iopub.execute_input": "2021-09-27T07:16:34.465732Z",
     "iopub.status.busy": "2021-09-27T07:16:34.465317Z",
     "iopub.status.idle": "2021-09-27T07:16:34.472877Z",
     "shell.execute_reply": "2021-09-27T07:16:34.473203Z"
    }
   },
   "outputs": [
    {
     "data": {
      "image/svg+xml": [
       "<?xml version=\"1.0\" encoding=\"UTF-8\" standalone=\"no\"?><svg xmlns=\"http://www.w3.org/2000/svg\" xmlns:xlink=\"http://www.w3.org/1999/xlink\" contentScriptType=\"application/ecmascript\" contentStyleType=\"text/css\" height=\"12px\" preserveAspectRatio=\"none\" style=\"width:12px;height:12px;\" version=\"1.1\" viewBox=\"0 0 12 12\" width=\"12px\" zoomAndPan=\"magnify\"><defs/><g><!--MD5=[655b888544ca4751ea36af1068543f84]\n",
       "@startuml\r\n",
       "skinparam ranksep 8\r\n",
       " skinparam monochrome true\r\n",
       "skinparam classbackgroundcolor white\r\n",
       "skinparam shadowing false\r\n",
       "skinparam wrapWidth 300\r\n",
       "hide circle\r\n",
       "\r\n",
       "@enduml\r\n",
       "\n",
       "PlantUML version 1.2020.13(Sat Jun 13 12:26:38 UTC 2020)\n",
       "(EPL source distribution)\n",
       "Java Runtime: OpenJDK Runtime Environment\n",
       "JVM: OpenJDK 64-Bit Server VM\n",
       "Default Encoding: UTF-8\n",
       "Language: en\n",
       "Country: null\n",
       "--></g></svg>"
      ]
     },
     "execution_count": 6,
     "metadata": {},
     "output_type": "execute_result"
    }
   ],
   "source": [
    "%viz --style=\"COMPTREE\" --view=\"Action\" \"CircularImport\""
   ]
  },
  {
   "cell_type": "code",
   "execution_count": 7,
   "id": "c375beeb",
   "metadata": {
    "execution": {
     "iopub.execute_input": "2021-09-27T07:16:34.524065Z",
     "iopub.status.busy": "2021-09-27T07:16:34.523658Z",
     "iopub.status.idle": "2021-09-27T07:16:34.535364Z",
     "shell.execute_reply": "2021-09-27T07:16:34.535677Z"
    }
   },
   "outputs": [
    {
     "data": {
      "image/svg+xml": [
       "<?xml version=\"1.0\" encoding=\"UTF-8\" standalone=\"no\"?><svg xmlns=\"http://www.w3.org/2000/svg\" xmlns:xlink=\"http://www.w3.org/1999/xlink\" contentScriptType=\"application/ecmascript\" contentStyleType=\"text/css\" height=\"12px\" preserveAspectRatio=\"none\" style=\"width:12px;height:12px;\" version=\"1.1\" viewBox=\"0 0 12 12\" width=\"12px\" zoomAndPan=\"magnify\"><defs/><g><!--MD5=[803fc46c337be7a5c8a9831e35356779]\n",
       "@startuml\r\n",
       "skinparam roundcorner 20\r\n",
       "skinparam BoxPadding 20\r\n",
       "skinparam SequenceBoxBackgroundColor #white\r\n",
       "skinparam style strictuml\r\n",
       "skinparam maxMessageSize 100\r\n",
       " skinparam monochrome true\r\n",
       "skinparam classbackgroundcolor white\r\n",
       "skinparam shadowing false\r\n",
       "skinparam wrapWidth 300\r\n",
       "hide circle\r\n",
       "\r\n",
       "@enduml\r\n",
       "\n",
       "PlantUML version 1.2020.13(Sat Jun 13 12:26:38 UTC 2020)\n",
       "(EPL source distribution)\n",
       "Java Runtime: OpenJDK Runtime Environment\n",
       "JVM: OpenJDK 64-Bit Server VM\n",
       "Default Encoding: UTF-8\n",
       "Language: en\n",
       "Country: null\n",
       "--></g></svg>"
      ]
     },
     "execution_count": 7,
     "metadata": {},
     "output_type": "execute_result"
    }
   ],
   "source": [
    "%viz --style=\"COMPTREE\" --view=\"Sequence\" \"CircularImport\""
   ]
  },
  {
   "cell_type": "code",
   "execution_count": 8,
   "id": "ec43107d",
   "metadata": {
    "execution": {
     "iopub.execute_input": "2021-09-27T07:16:34.586218Z",
     "iopub.status.busy": "2021-09-27T07:16:34.585810Z",
     "iopub.status.idle": "2021-09-27T07:16:34.642800Z",
     "shell.execute_reply": "2021-09-27T07:16:34.642449Z"
    }
   },
   "outputs": [
    {
     "data": {
      "image/svg+xml": [
       "<?xml version=\"1.0\" encoding=\"UTF-8\" standalone=\"no\"?><svg xmlns=\"http://www.w3.org/2000/svg\" xmlns:xlink=\"http://www.w3.org/1999/xlink\" contentScriptType=\"application/ecmascript\" contentStyleType=\"text/css\" height=\"303px\" preserveAspectRatio=\"none\" style=\"width:518px;height:303px;\" version=\"1.1\" viewBox=\"0 0 518 303\" width=\"518px\" zoomAndPan=\"magnify\"><defs/><g><!--MD5=[fbc87193dbaf4d95561dea2c320d4a47]\n",
       "cluster E1--><a href=\"psysml:7332441d-5859-4b68-88e6-44e4d7acfbc9\" target=\"_top\" title=\"psysml:7332441d-5859-4b68-88e6-44e4d7acfbc9\" xlink:actuate=\"onRequest\" xlink:href=\"psysml:7332441d-5859-4b68-88e6-44e4d7acfbc9\" xlink:show=\"new\" xlink:title=\"psysml:7332441d-5859-4b68-88e6-44e4d7acfbc9\" xlink:type=\"simple\"><polygon fill=\"#FFFFFF\" points=\"16,6,117,6,124,28.2969,496,28.2969,496,291,16,291,16,6\" style=\"stroke: #000000; stroke-width: 1.5;\"/><line style=\"stroke: #000000; stroke-width: 1.5;\" x1=\"16\" x2=\"124\" y1=\"28.2969\" y2=\"28.2969\"/><text fill=\"#000000\" font-family=\"sans-serif\" font-size=\"14\" font-weight=\"bold\" lengthAdjust=\"spacingAndGlyphs\" textLength=\"95\" x=\"20\" y=\"20.9951\">CircularImport</text></a><!--MD5=[e4f7fae6ed58524ba242bb0b0d3be6b7]\n",
       "cluster E2--><a href=\"psysml:5f20ae7d-4d57-41a2-9907-55aa74d31ca3\" target=\"_top\" title=\"psysml:5f20ae7d-4d57-41a2-9907-55aa74d31ca3\" xlink:actuate=\"onRequest\" xlink:href=\"psysml:5f20ae7d-4d57-41a2-9907-55aa74d31ca3\" xlink:show=\"new\" xlink:title=\"psysml:5f20ae7d-4d57-41a2-9907-55aa74d31ca3\" xlink:type=\"simple\"><polygon fill=\"#FFFFFF\" points=\"333,170,357,170,364,192.2969,431,192.2969,431,267,333,267,333,170\" style=\"stroke: #000000; stroke-width: 1.5;\"/><line style=\"stroke: #000000; stroke-width: 1.5;\" x1=\"333\" x2=\"364\" y1=\"192.2969\" y2=\"192.2969\"/><text fill=\"#000000\" font-family=\"sans-serif\" font-size=\"14\" font-weight=\"bold\" lengthAdjust=\"spacingAndGlyphs\" textLength=\"18\" x=\"337\" y=\"184.9951\">P1</text></a><!--MD5=[f6df4d0ebaf0b5dfb2ced0ae5af7c670]\n",
       "cluster E4--><a href=\"psysml:ebcd3975-b264-4248-9466-34d42d3f68ce\" target=\"_top\" title=\"psysml:ebcd3975-b264-4248-9466-34d42d3f68ce\" xlink:actuate=\"onRequest\" xlink:href=\"psysml:ebcd3975-b264-4248-9466-34d42d3f68ce\" xlink:show=\"new\" xlink:title=\"psysml:ebcd3975-b264-4248-9466-34d42d3f68ce\" xlink:type=\"simple\"><polygon fill=\"#FFFFFF\" points=\"81,170,105,170,112,192.2969,179,192.2969,179,267,81,267,81,170\" style=\"stroke: #000000; stroke-width: 1.5;\"/><line style=\"stroke: #000000; stroke-width: 1.5;\" x1=\"81\" x2=\"112\" y1=\"192.2969\" y2=\"192.2969\"/><text fill=\"#000000\" font-family=\"sans-serif\" font-size=\"14\" font-weight=\"bold\" lengthAdjust=\"spacingAndGlyphs\" textLength=\"18\" x=\"85\" y=\"184.9951\">P2</text></a><!--MD5=[14e3b0961a2654348d326746436168a1]\n",
       "cluster E6--><a href=\"psysml:da6ad505-2daa-495a-83b8-d3ba9d2de3a4\" target=\"_top\" title=\"psysml:da6ad505-2daa-495a-83b8-d3ba9d2de3a4\" xlink:actuate=\"onRequest\" xlink:href=\"psysml:da6ad505-2daa-495a-83b8-d3ba9d2de3a4\" xlink:show=\"new\" xlink:title=\"psysml:da6ad505-2daa-495a-83b8-d3ba9d2de3a4\" xlink:type=\"simple\"><polygon fill=\"#FFFFFF\" points=\"268,49,314,49,321,71.2969,419,71.2969,419,146,268,146,268,49\" style=\"stroke: #000000; stroke-width: 1.5;\"/><line style=\"stroke: #000000; stroke-width: 1.5;\" x1=\"268\" x2=\"321\" y1=\"71.2969\" y2=\"71.2969\"/><text fill=\"#000000\" font-family=\"sans-serif\" font-size=\"14\" font-weight=\"bold\" lengthAdjust=\"spacingAndGlyphs\" textLength=\"40\" x=\"272\" y=\"63.9951\">Test1</text></a><!--MD5=[7f149f147074ac12df2cb0a7728a5fb0]\n",
       "cluster E9--><a href=\"psysml:b0babda1-ae00-488b-8e87-1a86d4c9a0c6\" target=\"_top\" title=\"psysml:b0babda1-ae00-488b-8e87-1a86d4c9a0c6\" xlink:actuate=\"onRequest\" xlink:href=\"psysml:b0babda1-ae00-488b-8e87-1a86d4c9a0c6\" xlink:show=\"new\" xlink:title=\"psysml:b0babda1-ae00-488b-8e87-1a86d4c9a0c6\" xlink:type=\"simple\"><polygon fill=\"#FFFFFF\" points=\"93,49,139,49,146,71.2969,244,71.2969,244,146,93,146,93,49\" style=\"stroke: #000000; stroke-width: 1.5;\"/><line style=\"stroke: #000000; stroke-width: 1.5;\" x1=\"93\" x2=\"146\" y1=\"71.2969\" y2=\"71.2969\"/><text fill=\"#000000\" font-family=\"sans-serif\" font-size=\"14\" font-weight=\"bold\" lengthAdjust=\"spacingAndGlyphs\" textLength=\"40\" x=\"97\" y=\"63.9951\">Test2</text></a><!--MD5=[49a0ec8f00dab7302a31f22d0f0fe584]\n",
       "class E12--><a href=\"psysml:be17b73a-3dde-44ce-ab8b-a0409ce39ee3\" target=\"_top\" title=\"psysml:be17b73a-3dde-44ce-ab8b-a0409ce39ee3\" xlink:actuate=\"onRequest\" xlink:href=\"psysml:be17b73a-3dde-44ce-ab8b-a0409ce39ee3\" xlink:show=\"new\" xlink:title=\"psysml:be17b73a-3dde-44ce-ab8b-a0409ce39ee3\" xlink:type=\"simple\"><rect fill=\"#FFFFFF\" height=\"45.9375\" id=\"E12\" rx=\"10\" ry=\"10\" style=\"stroke: #383838; stroke-width: 1.5;\" width=\"42\" x=\"438\" y=\"84\"/><text fill=\"#000000\" font-family=\"sans-serif\" font-size=\"12\" font-style=\"italic\" lengthAdjust=\"spacingAndGlyphs\" textLength=\"40\" x=\"439\" y=\"100.1387\">«part»</text><text fill=\"#000000\" font-family=\"sans-serif\" font-size=\"12\" lengthAdjust=\"spacingAndGlyphs\" textLength=\"22\" x=\"448\" y=\"114.1074\">x: A</text><line style=\"stroke: #383838; stroke-width: 1.5;\" x1=\"439\" x2=\"479\" y1=\"121.9375\" y2=\"121.9375\"/></a><!--MD5=[ee3c913d1a06f366521f9ef512b67efe]\n",
       "class E13--><a href=\"psysml:70775e2d-ada4-46b3-b3bb-1618b7e606cf\" target=\"_top\" title=\"psysml:70775e2d-ada4-46b3-b3bb-1618b7e606cf\" xlink:actuate=\"onRequest\" xlink:href=\"psysml:70775e2d-ada4-46b3-b3bb-1618b7e606cf\" xlink:show=\"new\" xlink:title=\"psysml:70775e2d-ada4-46b3-b3bb-1618b7e606cf\" xlink:type=\"simple\"><rect fill=\"#FFFFFF\" height=\"45.9375\" id=\"E13\" rx=\"10\" ry=\"10\" style=\"stroke: #383838; stroke-width: 1.5;\" width=\"42\" x=\"32\" y=\"84\"/><text fill=\"#000000\" font-family=\"sans-serif\" font-size=\"12\" font-style=\"italic\" lengthAdjust=\"spacingAndGlyphs\" textLength=\"40\" x=\"33\" y=\"100.1387\">«part»</text><text fill=\"#000000\" font-family=\"sans-serif\" font-size=\"12\" lengthAdjust=\"spacingAndGlyphs\" textLength=\"22\" x=\"42\" y=\"114.1074\">y: B</text><line style=\"stroke: #383838; stroke-width: 1.5;\" x1=\"33\" x2=\"73\" y1=\"121.9375\" y2=\"121.9375\"/></a><!--MD5=[09b614a08d8cba4a07c9adeb5e0fee81]\n",
       "class E3--><a href=\"psysml:a77b04ef-8587-44c9-8b7f-efa23f8b51b3\" target=\"_top\" title=\"psysml:a77b04ef-8587-44c9-8b7f-efa23f8b51b3\" xlink:actuate=\"onRequest\" xlink:href=\"psysml:a77b04ef-8587-44c9-8b7f-efa23f8b51b3\" xlink:show=\"new\" xlink:title=\"psysml:a77b04ef-8587-44c9-8b7f-efa23f8b51b3\" xlink:type=\"simple\"><rect fill=\"#FFFFFF\" height=\"45.9375\" id=\"E3\" style=\"stroke: #383838; stroke-width: 1.5;\" width=\"66\" x=\"349\" y=\"205\"/><text fill=\"#000000\" font-family=\"sans-serif\" font-size=\"12\" font-style=\"italic\" lengthAdjust=\"spacingAndGlyphs\" textLength=\"64\" x=\"350\" y=\"221.1387\">«part def»</text><text fill=\"#000000\" font-family=\"sans-serif\" font-size=\"12\" lengthAdjust=\"spacingAndGlyphs\" textLength=\"8\" x=\"378\" y=\"235.1074\">A</text><line style=\"stroke: #383838; stroke-width: 1.5;\" x1=\"350\" x2=\"414\" y1=\"242.9375\" y2=\"242.9375\"/></a><!--MD5=[270fce915f116d4de14055a7c1d9a0f3]\n",
       "class E5--><a href=\"psysml:0236a647-9823-419e-b974-acac8cdc5ece\" target=\"_top\" title=\"psysml:0236a647-9823-419e-b974-acac8cdc5ece\" xlink:actuate=\"onRequest\" xlink:href=\"psysml:0236a647-9823-419e-b974-acac8cdc5ece\" xlink:show=\"new\" xlink:title=\"psysml:0236a647-9823-419e-b974-acac8cdc5ece\" xlink:type=\"simple\"><rect fill=\"#FFFFFF\" height=\"45.9375\" id=\"E5\" style=\"stroke: #383838; stroke-width: 1.5;\" width=\"66\" x=\"97\" y=\"205\"/><text fill=\"#000000\" font-family=\"sans-serif\" font-size=\"12\" font-style=\"italic\" lengthAdjust=\"spacingAndGlyphs\" textLength=\"64\" x=\"98\" y=\"221.1387\">«part def»</text><text fill=\"#000000\" font-family=\"sans-serif\" font-size=\"12\" lengthAdjust=\"spacingAndGlyphs\" textLength=\"8\" x=\"126\" y=\"235.1074\">B</text><line style=\"stroke: #383838; stroke-width: 1.5;\" x1=\"98\" x2=\"162\" y1=\"242.9375\" y2=\"242.9375\"/></a><!--MD5=[2156ba9850f5573cc1fc38a6a4b2f02b]\n",
       "class E7--><a href=\"psysml:d9c30419-fa03-4224-9f9b-cc52ece95c03\" target=\"_top\" title=\"psysml:d9c30419-fa03-4224-9f9b-cc52ece95c03\" xlink:actuate=\"onRequest\" xlink:href=\"psysml:d9c30419-fa03-4224-9f9b-cc52ece95c03\" xlink:show=\"new\" xlink:title=\"psysml:d9c30419-fa03-4224-9f9b-cc52ece95c03\" xlink:type=\"simple\"><rect fill=\"#FFFFFF\" height=\"45.9375\" id=\"E7\" rx=\"10\" ry=\"10\" style=\"stroke: #383838; stroke-width: 1.5;\" width=\"42\" x=\"361\" y=\"84\"/><text fill=\"#000000\" font-family=\"sans-serif\" font-size=\"12\" font-style=\"italic\" lengthAdjust=\"spacingAndGlyphs\" textLength=\"40\" x=\"362\" y=\"100.1387\">«part»</text><text fill=\"#000000\" font-family=\"sans-serif\" font-size=\"12\" lengthAdjust=\"spacingAndGlyphs\" textLength=\"22\" x=\"371\" y=\"114.1074\">x: A</text><line style=\"stroke: #383838; stroke-width: 1.5;\" x1=\"362\" x2=\"402\" y1=\"121.9375\" y2=\"121.9375\"/></a><!--MD5=[b9389687b975829384b498ac4b7476b2]\n",
       "class E8--><a href=\"psysml:32c0d6a2-b48f-4756-bec9-ba81426d308d\" target=\"_top\" title=\"psysml:32c0d6a2-b48f-4756-bec9-ba81426d308d\" xlink:actuate=\"onRequest\" xlink:href=\"psysml:32c0d6a2-b48f-4756-bec9-ba81426d308d\" xlink:show=\"new\" xlink:title=\"psysml:32c0d6a2-b48f-4756-bec9-ba81426d308d\" xlink:type=\"simple\"><rect fill=\"#FFFFFF\" height=\"45.9375\" id=\"E8\" rx=\"10\" ry=\"10\" style=\"stroke: #383838; stroke-width: 1.5;\" width=\"42\" x=\"284\" y=\"84\"/><text fill=\"#000000\" font-family=\"sans-serif\" font-size=\"12\" font-style=\"italic\" lengthAdjust=\"spacingAndGlyphs\" textLength=\"40\" x=\"285\" y=\"100.1387\">«part»</text><text fill=\"#000000\" font-family=\"sans-serif\" font-size=\"12\" lengthAdjust=\"spacingAndGlyphs\" textLength=\"22\" x=\"294\" y=\"114.1074\">y: B</text><line style=\"stroke: #383838; stroke-width: 1.5;\" x1=\"285\" x2=\"325\" y1=\"121.9375\" y2=\"121.9375\"/></a><!--MD5=[96f4274e9e20536e775497830990834d]\n",
       "class E10--><a href=\"psysml:4b1ceaae-3a33-4edd-a713-ae072a8ba794\" target=\"_top\" title=\"psysml:4b1ceaae-3a33-4edd-a713-ae072a8ba794\" xlink:actuate=\"onRequest\" xlink:href=\"psysml:4b1ceaae-3a33-4edd-a713-ae072a8ba794\" xlink:show=\"new\" xlink:title=\"psysml:4b1ceaae-3a33-4edd-a713-ae072a8ba794\" xlink:type=\"simple\"><rect fill=\"#FFFFFF\" height=\"45.9375\" id=\"E10\" rx=\"10\" ry=\"10\" style=\"stroke: #383838; stroke-width: 1.5;\" width=\"42\" x=\"186\" y=\"84\"/><text fill=\"#000000\" font-family=\"sans-serif\" font-size=\"12\" font-style=\"italic\" lengthAdjust=\"spacingAndGlyphs\" textLength=\"40\" x=\"187\" y=\"100.1387\">«part»</text><text fill=\"#000000\" font-family=\"sans-serif\" font-size=\"12\" lengthAdjust=\"spacingAndGlyphs\" textLength=\"22\" x=\"196\" y=\"114.1074\">x: A</text><line style=\"stroke: #383838; stroke-width: 1.5;\" x1=\"187\" x2=\"227\" y1=\"121.9375\" y2=\"121.9375\"/></a><!--MD5=[1dd1bfd58a279cf63c5f349dbc8fc6a1]\n",
       "class E11--><a href=\"psysml:8a3e0fcf-a1f5-42bd-9af7-3ab68d312f86\" target=\"_top\" title=\"psysml:8a3e0fcf-a1f5-42bd-9af7-3ab68d312f86\" xlink:actuate=\"onRequest\" xlink:href=\"psysml:8a3e0fcf-a1f5-42bd-9af7-3ab68d312f86\" xlink:show=\"new\" xlink:title=\"psysml:8a3e0fcf-a1f5-42bd-9af7-3ab68d312f86\" xlink:type=\"simple\"><rect fill=\"#FFFFFF\" height=\"45.9375\" id=\"E11\" rx=\"10\" ry=\"10\" style=\"stroke: #383838; stroke-width: 1.5;\" width=\"42\" x=\"109\" y=\"84\"/><text fill=\"#000000\" font-family=\"sans-serif\" font-size=\"12\" font-style=\"italic\" lengthAdjust=\"spacingAndGlyphs\" textLength=\"40\" x=\"110\" y=\"100.1387\">«part»</text><text fill=\"#000000\" font-family=\"sans-serif\" font-size=\"12\" lengthAdjust=\"spacingAndGlyphs\" textLength=\"22\" x=\"119\" y=\"114.1074\">y: B</text><line style=\"stroke: #383838; stroke-width: 1.5;\" x1=\"110\" x2=\"150\" y1=\"121.9375\" y2=\"121.9375\"/></a><!--MD5=[14ccda38c055a5c0da953d572bc50960]\n",
       "link E7 to E3--><a href=\"psysml:520b462f-0086-4fa2-a8c7-c457cfb393b0\" target=\"_top\" title=\"psysml:520b462f-0086-4fa2-a8c7-c457cfb393b0\" xlink:actuate=\"onRequest\" xlink:href=\"psysml:520b462f-0086-4fa2-a8c7-c457cfb393b0\" xlink:show=\"new\" xlink:title=\"psysml:520b462f-0086-4fa2-a8c7-c457cfb393b0\" xlink:type=\"simple\"><path d=\"M382,130.1 C382,145.37 382,166.16 382,184.57 \" fill=\"none\" id=\"E7-&gt;E3\" style=\"stroke: #383838; stroke-width: 1.0;\"/><polygon fill=\"#FFFFFF\" points=\"382,204.61,375,185.61,389,185.61,382,204.61\" style=\"stroke: #383838; stroke-width: 1.0;\"/><ellipse cx=\"377\" cy=\"179.91\" fill=\"#383838\" rx=\"2\" ry=\"2\" style=\"stroke: #383838; stroke-width: 1.0;\"/><ellipse cx=\"387\" cy=\"179.91\" fill=\"#383838\" rx=\"2\" ry=\"2\" style=\"stroke: #383838; stroke-width: 1.0;\"/></a><!--MD5=[1ccb2481ffa92f8d51a74ee30c51832a]\n",
       "link E8 to E5--><a href=\"psysml:7aecf3a3-7124-43a8-804d-679627dba63d\" target=\"_top\" title=\"psysml:7aecf3a3-7124-43a8-804d-679627dba63d\" xlink:actuate=\"onRequest\" xlink:href=\"psysml:7aecf3a3-7124-43a8-804d-679627dba63d\" xlink:show=\"new\" xlink:title=\"psysml:7aecf3a3-7124-43a8-804d-679627dba63d\" xlink:type=\"simple\"><path d=\"M283.84,124.59 C272.23,133.52 257.5,144.61 244,154 C223.51,168.25 200.41,183.24 180.38,195.91 \" fill=\"none\" id=\"E8-&gt;E5\" style=\"stroke: #383838; stroke-width: 1.0;\"/><polygon fill=\"#FFFFFF\" points=\"163.36,206.57,175.7353,190.5434,183.175,202.403,163.36,206.57\" style=\"stroke: #383838; stroke-width: 1.0;\"/><ellipse cx=\"181.6267\" cy=\"189.2086\" fill=\"#383838\" rx=\"2\" ry=\"2\" style=\"stroke: #383838; stroke-width: 1.0;\"/><ellipse cx=\"186.9408\" cy=\"197.6797\" fill=\"#383838\" rx=\"2\" ry=\"2\" style=\"stroke: #383838; stroke-width: 1.0;\"/></a><!--MD5=[feeac5eb423634930294aa81f2d25a4c]\n",
       "link E10 to E3--><a href=\"psysml:fd0acd65-b864-4a8e-8ff2-cbce99549eac\" target=\"_top\" title=\"psysml:fd0acd65-b864-4a8e-8ff2-cbce99549eac\" xlink:actuate=\"onRequest\" xlink:href=\"psysml:fd0acd65-b864-4a8e-8ff2-cbce99549eac\" xlink:show=\"new\" xlink:title=\"psysml:fd0acd65-b864-4a8e-8ff2-cbce99549eac\" xlink:type=\"simple\"><path d=\"M228.16,124.59 C239.77,133.52 254.5,144.61 268,154 C288.49,168.25 311.59,183.24 331.62,195.91 \" fill=\"none\" id=\"E10-&gt;E3\" style=\"stroke: #383838; stroke-width: 1.0;\"/><polygon fill=\"#FFFFFF\" points=\"348.64,206.57,328.825,202.403,336.2647,190.5434,348.64,206.57\" style=\"stroke: #383838; stroke-width: 1.0;\"/><ellipse cx=\"325.0592\" cy=\"197.6797\" fill=\"#383838\" rx=\"2\" ry=\"2\" style=\"stroke: #383838; stroke-width: 1.0;\"/><ellipse cx=\"330.3733\" cy=\"189.2086\" fill=\"#383838\" rx=\"2\" ry=\"2\" style=\"stroke: #383838; stroke-width: 1.0;\"/></a><!--MD5=[07b77f6f309248d16187045709d1c26e]\n",
       "link E11 to E5--><a href=\"psysml:442cb8f2-ee4b-4dfa-8164-f495024e2707\" target=\"_top\" title=\"psysml:442cb8f2-ee4b-4dfa-8164-f495024e2707\" xlink:actuate=\"onRequest\" xlink:href=\"psysml:442cb8f2-ee4b-4dfa-8164-f495024e2707\" xlink:show=\"new\" xlink:title=\"psysml:442cb8f2-ee4b-4dfa-8164-f495024e2707\" xlink:type=\"simple\"><path d=\"M130,130.1 C130,145.37 130,166.16 130,184.57 \" fill=\"none\" id=\"E11-&gt;E5\" style=\"stroke: #383838; stroke-width: 1.0;\"/><polygon fill=\"#FFFFFF\" points=\"130,204.61,123,185.61,137,185.61,130,204.61\" style=\"stroke: #383838; stroke-width: 1.0;\"/><ellipse cx=\"125\" cy=\"179.91\" fill=\"#383838\" rx=\"2\" ry=\"2\" style=\"stroke: #383838; stroke-width: 1.0;\"/><ellipse cx=\"135\" cy=\"179.91\" fill=\"#383838\" rx=\"2\" ry=\"2\" style=\"stroke: #383838; stroke-width: 1.0;\"/></a><!--MD5=[39f41a0e550fb3d73b4d8135617e30a2]\n",
       "link E12 to E3--><a href=\"psysml:fab56a21-03ff-446d-9dd1-385c5373a3f2\" target=\"_top\" title=\"psysml:fab56a21-03ff-446d-9dd1-385c5373a3f2\" xlink:actuate=\"onRequest\" xlink:href=\"psysml:fab56a21-03ff-446d-9dd1-385c5373a3f2\" xlink:show=\"new\" xlink:title=\"psysml:fab56a21-03ff-446d-9dd1-385c5373a3f2\" xlink:type=\"simple\"><path d=\"M444.7,130.1 C434.28,146.2 419.89,168.44 407.53,187.55 \" fill=\"none\" id=\"E12-&gt;E3\" style=\"stroke: #383838; stroke-width: 1.0;\"/><polygon fill=\"#FFFFFF\" points=\"396.49,204.61,400.9313,184.8546,412.6866,192.4581,396.49,204.61\" style=\"stroke: #383838; stroke-width: 1.0;\"/><ellipse cx=\"405.7063\" cy=\"181.1547\" fill=\"#383838\" rx=\"2\" ry=\"2\" style=\"stroke: #383838; stroke-width: 1.0;\"/><ellipse cx=\"414.103\" cy=\"186.5858\" fill=\"#383838\" rx=\"2\" ry=\"2\" style=\"stroke: #383838; stroke-width: 1.0;\"/></a><!--MD5=[066b2d8af59fea80ccdb3d54ad5c1091]\n",
       "link E13 to E5--><a href=\"psysml:5cad6703-6f19-4c46-9c46-92acb368aec7\" target=\"_top\" title=\"psysml:5cad6703-6f19-4c46-9c46-92acb368aec7\" xlink:actuate=\"onRequest\" xlink:href=\"psysml:5cad6703-6f19-4c46-9c46-92acb368aec7\" xlink:show=\"new\" xlink:title=\"psysml:5cad6703-6f19-4c46-9c46-92acb368aec7\" xlink:type=\"simple\"><path d=\"M67.3,130.1 C77.72,146.2 92.11,168.44 104.47,187.55 \" fill=\"none\" id=\"E13-&gt;E5\" style=\"stroke: #383838; stroke-width: 1.0;\"/><polygon fill=\"#FFFFFF\" points=\"115.51,204.61,99.3134,192.4581,111.0687,184.8546,115.51,204.61\" style=\"stroke: #383838; stroke-width: 1.0;\"/><ellipse cx=\"97.897\" cy=\"186.5858\" fill=\"#383838\" rx=\"2\" ry=\"2\" style=\"stroke: #383838; stroke-width: 1.0;\"/><ellipse cx=\"106.2937\" cy=\"181.1547\" fill=\"#383838\" rx=\"2\" ry=\"2\" style=\"stroke: #383838; stroke-width: 1.0;\"/></a><!--MD5=[9081e22cd0885e59e59dcd83ed6eaee0]\n",
       "@startuml\r\n",
       " skinparam monochrome true\r\n",
       "skinparam classbackgroundcolor white\r\n",
       "skinparam shadowing false\r\n",
       "skinparam wrapWidth 300\r\n",
       "hide circle\r\n",
       "\r\n",
       "package \"CircularImport\" as E1  [[psysml:7332441d-5859-4b68-88e6-44e4d7acfbc9 ]]  {\r\n",
       "package \"P1\" as E2  [[psysml:5f20ae7d-4d57-41a2-9907-55aa74d31ca3 ]]  {\r\n",
       "comp def \"A\" as E3  <<(T,blue) part def>> [[psysml:a77b04ef-8587-44c9-8b7f-efa23f8b51b3 ]] {\r\n",
       "}\r\n",
       "}\r\n",
       "package \"P2\" as E4  [[psysml:ebcd3975-b264-4248-9466-34d42d3f68ce ]]  {\r\n",
       "comp def \"B\" as E5  <<(T,blue) part def>> [[psysml:0236a647-9823-419e-b974-acac8cdc5ece ]] {\r\n",
       "}\r\n",
       "}\r\n",
       "package \"Test1\" as E6  [[psysml:da6ad505-2daa-495a-83b8-d3ba9d2de3a4 ]]  {\r\n",
       "comp usage \"x: A\" as E7  <<(T,blue) part>> [[psysml:d9c30419-fa03-4224-9f9b-cc52ece95c03 ]] {\r\n",
       "}\r\n",
       "comp usage \"y: B\" as E8  <<(T,blue) part>> [[psysml:32c0d6a2-b48f-4756-bec9-ba81426d308d ]] {\r\n",
       "}\r\n",
       "}\r\n",
       "package \"Test2\" as E9  [[psysml:b0babda1-ae00-488b-8e87-1a86d4c9a0c6 ]]  {\r\n",
       "comp usage \"x: A\" as E10  <<(T,blue) part>> [[psysml:4b1ceaae-3a33-4edd-a713-ae072a8ba794 ]] {\r\n",
       "}\r\n",
       "comp usage \"y: B\" as E11  <<(T,blue) part>> [[psysml:8a3e0fcf-a1f5-42bd-9af7-3ab68d312f86 ]] {\r\n",
       "}\r\n",
       "}\r\n",
       "comp usage \"x: A\" as E12  <<(T,blue) part>> [[psysml:be17b73a-3dde-44ce-ab8b-a0409ce39ee3 ]] {\r\n",
       "}\r\n",
       "comp usage \"y: B\" as E13  <<(T,blue) part>> [[psysml:70775e2d-ada4-46b3-b3bb-1618b7e606cf ]] {\r\n",
       "}\r\n",
       "}\r\n",
       "E7 - -:|> E3 [[psysml:520b462f-0086-4fa2-a8c7-c457cfb393b0 ]] \r\n",
       "E8 - -:|> E5 [[psysml:7aecf3a3-7124-43a8-804d-679627dba63d ]] \r\n",
       "E10 - -:|> E3 [[psysml:fd0acd65-b864-4a8e-8ff2-cbce99549eac ]] \r\n",
       "E11 - -:|> E5 [[psysml:442cb8f2-ee4b-4dfa-8164-f495024e2707 ]] \r\n",
       "E12 - -:|> E3 [[psysml:fab56a21-03ff-446d-9dd1-385c5373a3f2 ]] \r\n",
       "E13 - -:|> E5 [[psysml:5cad6703-6f19-4c46-9c46-92acb368aec7 ]] \r\n",
       "@enduml\r\n",
       "\n",
       "PlantUML version 1.2020.13(Sat Jun 13 12:26:38 UTC 2020)\n",
       "(EPL source distribution)\n",
       "Java Runtime: OpenJDK Runtime Environment\n",
       "JVM: OpenJDK 64-Bit Server VM\n",
       "Default Encoding: UTF-8\n",
       "Language: en\n",
       "Country: null\n",
       "--></g></svg>"
      ]
     },
     "execution_count": 8,
     "metadata": {},
     "output_type": "execute_result"
    }
   ],
   "source": [
    "%viz --style=\"COMPTREE\" --view=\"MIXED\" \"CircularImport\""
   ]
  },
  {
   "cell_type": "code",
   "execution_count": 9,
   "id": "72d3ce72",
   "metadata": {
    "execution": {
     "iopub.execute_input": "2021-09-27T07:16:34.692552Z",
     "iopub.status.busy": "2021-09-27T07:16:34.692146Z",
     "iopub.status.idle": "2021-09-27T07:16:34.744982Z",
     "shell.execute_reply": "2021-09-27T07:16:34.743589Z"
    }
   },
   "outputs": [
    {
     "data": {
      "image/svg+xml": [
       "<?xml version=\"1.0\" encoding=\"UTF-8\" standalone=\"no\"?><svg xmlns=\"http://www.w3.org/2000/svg\" xmlns:xlink=\"http://www.w3.org/1999/xlink\" contentScriptType=\"application/ecmascript\" contentStyleType=\"text/css\" height=\"303px\" preserveAspectRatio=\"none\" style=\"width:518px;height:303px;\" version=\"1.1\" viewBox=\"0 0 518 303\" width=\"518px\" zoomAndPan=\"magnify\"><defs/><g><!--MD5=[fbc87193dbaf4d95561dea2c320d4a47]\n",
       "cluster E1--><a href=\"psysml:7332441d-5859-4b68-88e6-44e4d7acfbc9\" target=\"_top\" title=\"psysml:7332441d-5859-4b68-88e6-44e4d7acfbc9\" xlink:actuate=\"onRequest\" xlink:href=\"psysml:7332441d-5859-4b68-88e6-44e4d7acfbc9\" xlink:show=\"new\" xlink:title=\"psysml:7332441d-5859-4b68-88e6-44e4d7acfbc9\" xlink:type=\"simple\"><polygon fill=\"#FFFFFF\" points=\"16,6,117,6,124,28.2969,496,28.2969,496,291,16,291,16,6\" style=\"stroke: #000000; stroke-width: 1.5;\"/><line style=\"stroke: #000000; stroke-width: 1.5;\" x1=\"16\" x2=\"124\" y1=\"28.2969\" y2=\"28.2969\"/><text fill=\"#000000\" font-family=\"sans-serif\" font-size=\"14\" font-weight=\"bold\" lengthAdjust=\"spacingAndGlyphs\" textLength=\"95\" x=\"20\" y=\"20.9951\">CircularImport</text></a><!--MD5=[e4f7fae6ed58524ba242bb0b0d3be6b7]\n",
       "cluster E2--><a href=\"psysml:5f20ae7d-4d57-41a2-9907-55aa74d31ca3\" target=\"_top\" title=\"psysml:5f20ae7d-4d57-41a2-9907-55aa74d31ca3\" xlink:actuate=\"onRequest\" xlink:href=\"psysml:5f20ae7d-4d57-41a2-9907-55aa74d31ca3\" xlink:show=\"new\" xlink:title=\"psysml:5f20ae7d-4d57-41a2-9907-55aa74d31ca3\" xlink:type=\"simple\"><polygon fill=\"#FFFFFF\" points=\"333,170,357,170,364,192.2969,431,192.2969,431,267,333,267,333,170\" style=\"stroke: #000000; stroke-width: 1.5;\"/><line style=\"stroke: #000000; stroke-width: 1.5;\" x1=\"333\" x2=\"364\" y1=\"192.2969\" y2=\"192.2969\"/><text fill=\"#000000\" font-family=\"sans-serif\" font-size=\"14\" font-weight=\"bold\" lengthAdjust=\"spacingAndGlyphs\" textLength=\"18\" x=\"337\" y=\"184.9951\">P1</text></a><!--MD5=[f6df4d0ebaf0b5dfb2ced0ae5af7c670]\n",
       "cluster E4--><a href=\"psysml:ebcd3975-b264-4248-9466-34d42d3f68ce\" target=\"_top\" title=\"psysml:ebcd3975-b264-4248-9466-34d42d3f68ce\" xlink:actuate=\"onRequest\" xlink:href=\"psysml:ebcd3975-b264-4248-9466-34d42d3f68ce\" xlink:show=\"new\" xlink:title=\"psysml:ebcd3975-b264-4248-9466-34d42d3f68ce\" xlink:type=\"simple\"><polygon fill=\"#FFFFFF\" points=\"81,170,105,170,112,192.2969,179,192.2969,179,267,81,267,81,170\" style=\"stroke: #000000; stroke-width: 1.5;\"/><line style=\"stroke: #000000; stroke-width: 1.5;\" x1=\"81\" x2=\"112\" y1=\"192.2969\" y2=\"192.2969\"/><text fill=\"#000000\" font-family=\"sans-serif\" font-size=\"14\" font-weight=\"bold\" lengthAdjust=\"spacingAndGlyphs\" textLength=\"18\" x=\"85\" y=\"184.9951\">P2</text></a><!--MD5=[14e3b0961a2654348d326746436168a1]\n",
       "cluster E6--><a href=\"psysml:da6ad505-2daa-495a-83b8-d3ba9d2de3a4\" target=\"_top\" title=\"psysml:da6ad505-2daa-495a-83b8-d3ba9d2de3a4\" xlink:actuate=\"onRequest\" xlink:href=\"psysml:da6ad505-2daa-495a-83b8-d3ba9d2de3a4\" xlink:show=\"new\" xlink:title=\"psysml:da6ad505-2daa-495a-83b8-d3ba9d2de3a4\" xlink:type=\"simple\"><polygon fill=\"#FFFFFF\" points=\"268,49,314,49,321,71.2969,419,71.2969,419,146,268,146,268,49\" style=\"stroke: #000000; stroke-width: 1.5;\"/><line style=\"stroke: #000000; stroke-width: 1.5;\" x1=\"268\" x2=\"321\" y1=\"71.2969\" y2=\"71.2969\"/><text fill=\"#000000\" font-family=\"sans-serif\" font-size=\"14\" font-weight=\"bold\" lengthAdjust=\"spacingAndGlyphs\" textLength=\"40\" x=\"272\" y=\"63.9951\">Test1</text></a><!--MD5=[7f149f147074ac12df2cb0a7728a5fb0]\n",
       "cluster E9--><a href=\"psysml:b0babda1-ae00-488b-8e87-1a86d4c9a0c6\" target=\"_top\" title=\"psysml:b0babda1-ae00-488b-8e87-1a86d4c9a0c6\" xlink:actuate=\"onRequest\" xlink:href=\"psysml:b0babda1-ae00-488b-8e87-1a86d4c9a0c6\" xlink:show=\"new\" xlink:title=\"psysml:b0babda1-ae00-488b-8e87-1a86d4c9a0c6\" xlink:type=\"simple\"><polygon fill=\"#FFFFFF\" points=\"93,49,139,49,146,71.2969,244,71.2969,244,146,93,146,93,49\" style=\"stroke: #000000; stroke-width: 1.5;\"/><line style=\"stroke: #000000; stroke-width: 1.5;\" x1=\"93\" x2=\"146\" y1=\"71.2969\" y2=\"71.2969\"/><text fill=\"#000000\" font-family=\"sans-serif\" font-size=\"14\" font-weight=\"bold\" lengthAdjust=\"spacingAndGlyphs\" textLength=\"40\" x=\"97\" y=\"63.9951\">Test2</text></a><!--MD5=[49a0ec8f00dab7302a31f22d0f0fe584]\n",
       "class E12--><a href=\"psysml:be17b73a-3dde-44ce-ab8b-a0409ce39ee3\" target=\"_top\" title=\"psysml:be17b73a-3dde-44ce-ab8b-a0409ce39ee3\" xlink:actuate=\"onRequest\" xlink:href=\"psysml:be17b73a-3dde-44ce-ab8b-a0409ce39ee3\" xlink:show=\"new\" xlink:title=\"psysml:be17b73a-3dde-44ce-ab8b-a0409ce39ee3\" xlink:type=\"simple\"><rect fill=\"#FFFFFF\" height=\"45.9375\" id=\"E12\" rx=\"10\" ry=\"10\" style=\"stroke: #383838; stroke-width: 1.5;\" width=\"42\" x=\"438\" y=\"84\"/><text fill=\"#000000\" font-family=\"sans-serif\" font-size=\"12\" font-style=\"italic\" lengthAdjust=\"spacingAndGlyphs\" textLength=\"40\" x=\"439\" y=\"100.1387\">«part»</text><text fill=\"#000000\" font-family=\"sans-serif\" font-size=\"12\" lengthAdjust=\"spacingAndGlyphs\" textLength=\"22\" x=\"448\" y=\"114.1074\">x: A</text><line style=\"stroke: #383838; stroke-width: 1.5;\" x1=\"439\" x2=\"479\" y1=\"121.9375\" y2=\"121.9375\"/></a><!--MD5=[ee3c913d1a06f366521f9ef512b67efe]\n",
       "class E13--><a href=\"psysml:70775e2d-ada4-46b3-b3bb-1618b7e606cf\" target=\"_top\" title=\"psysml:70775e2d-ada4-46b3-b3bb-1618b7e606cf\" xlink:actuate=\"onRequest\" xlink:href=\"psysml:70775e2d-ada4-46b3-b3bb-1618b7e606cf\" xlink:show=\"new\" xlink:title=\"psysml:70775e2d-ada4-46b3-b3bb-1618b7e606cf\" xlink:type=\"simple\"><rect fill=\"#FFFFFF\" height=\"45.9375\" id=\"E13\" rx=\"10\" ry=\"10\" style=\"stroke: #383838; stroke-width: 1.5;\" width=\"42\" x=\"32\" y=\"84\"/><text fill=\"#000000\" font-family=\"sans-serif\" font-size=\"12\" font-style=\"italic\" lengthAdjust=\"spacingAndGlyphs\" textLength=\"40\" x=\"33\" y=\"100.1387\">«part»</text><text fill=\"#000000\" font-family=\"sans-serif\" font-size=\"12\" lengthAdjust=\"spacingAndGlyphs\" textLength=\"22\" x=\"42\" y=\"114.1074\">y: B</text><line style=\"stroke: #383838; stroke-width: 1.5;\" x1=\"33\" x2=\"73\" y1=\"121.9375\" y2=\"121.9375\"/></a><!--MD5=[09b614a08d8cba4a07c9adeb5e0fee81]\n",
       "class E3--><a href=\"psysml:a77b04ef-8587-44c9-8b7f-efa23f8b51b3\" target=\"_top\" title=\"psysml:a77b04ef-8587-44c9-8b7f-efa23f8b51b3\" xlink:actuate=\"onRequest\" xlink:href=\"psysml:a77b04ef-8587-44c9-8b7f-efa23f8b51b3\" xlink:show=\"new\" xlink:title=\"psysml:a77b04ef-8587-44c9-8b7f-efa23f8b51b3\" xlink:type=\"simple\"><rect fill=\"#FFFFFF\" height=\"45.9375\" id=\"E3\" style=\"stroke: #383838; stroke-width: 1.5;\" width=\"66\" x=\"349\" y=\"205\"/><text fill=\"#000000\" font-family=\"sans-serif\" font-size=\"12\" font-style=\"italic\" lengthAdjust=\"spacingAndGlyphs\" textLength=\"64\" x=\"350\" y=\"221.1387\">«part def»</text><text fill=\"#000000\" font-family=\"sans-serif\" font-size=\"12\" lengthAdjust=\"spacingAndGlyphs\" textLength=\"8\" x=\"378\" y=\"235.1074\">A</text><line style=\"stroke: #383838; stroke-width: 1.5;\" x1=\"350\" x2=\"414\" y1=\"242.9375\" y2=\"242.9375\"/></a><!--MD5=[270fce915f116d4de14055a7c1d9a0f3]\n",
       "class E5--><a href=\"psysml:0236a647-9823-419e-b974-acac8cdc5ece\" target=\"_top\" title=\"psysml:0236a647-9823-419e-b974-acac8cdc5ece\" xlink:actuate=\"onRequest\" xlink:href=\"psysml:0236a647-9823-419e-b974-acac8cdc5ece\" xlink:show=\"new\" xlink:title=\"psysml:0236a647-9823-419e-b974-acac8cdc5ece\" xlink:type=\"simple\"><rect fill=\"#FFFFFF\" height=\"45.9375\" id=\"E5\" style=\"stroke: #383838; stroke-width: 1.5;\" width=\"66\" x=\"97\" y=\"205\"/><text fill=\"#000000\" font-family=\"sans-serif\" font-size=\"12\" font-style=\"italic\" lengthAdjust=\"spacingAndGlyphs\" textLength=\"64\" x=\"98\" y=\"221.1387\">«part def»</text><text fill=\"#000000\" font-family=\"sans-serif\" font-size=\"12\" lengthAdjust=\"spacingAndGlyphs\" textLength=\"8\" x=\"126\" y=\"235.1074\">B</text><line style=\"stroke: #383838; stroke-width: 1.5;\" x1=\"98\" x2=\"162\" y1=\"242.9375\" y2=\"242.9375\"/></a><!--MD5=[2156ba9850f5573cc1fc38a6a4b2f02b]\n",
       "class E7--><a href=\"psysml:d9c30419-fa03-4224-9f9b-cc52ece95c03\" target=\"_top\" title=\"psysml:d9c30419-fa03-4224-9f9b-cc52ece95c03\" xlink:actuate=\"onRequest\" xlink:href=\"psysml:d9c30419-fa03-4224-9f9b-cc52ece95c03\" xlink:show=\"new\" xlink:title=\"psysml:d9c30419-fa03-4224-9f9b-cc52ece95c03\" xlink:type=\"simple\"><rect fill=\"#FFFFFF\" height=\"45.9375\" id=\"E7\" rx=\"10\" ry=\"10\" style=\"stroke: #383838; stroke-width: 1.5;\" width=\"42\" x=\"361\" y=\"84\"/><text fill=\"#000000\" font-family=\"sans-serif\" font-size=\"12\" font-style=\"italic\" lengthAdjust=\"spacingAndGlyphs\" textLength=\"40\" x=\"362\" y=\"100.1387\">«part»</text><text fill=\"#000000\" font-family=\"sans-serif\" font-size=\"12\" lengthAdjust=\"spacingAndGlyphs\" textLength=\"22\" x=\"371\" y=\"114.1074\">x: A</text><line style=\"stroke: #383838; stroke-width: 1.5;\" x1=\"362\" x2=\"402\" y1=\"121.9375\" y2=\"121.9375\"/></a><!--MD5=[b9389687b975829384b498ac4b7476b2]\n",
       "class E8--><a href=\"psysml:32c0d6a2-b48f-4756-bec9-ba81426d308d\" target=\"_top\" title=\"psysml:32c0d6a2-b48f-4756-bec9-ba81426d308d\" xlink:actuate=\"onRequest\" xlink:href=\"psysml:32c0d6a2-b48f-4756-bec9-ba81426d308d\" xlink:show=\"new\" xlink:title=\"psysml:32c0d6a2-b48f-4756-bec9-ba81426d308d\" xlink:type=\"simple\"><rect fill=\"#FFFFFF\" height=\"45.9375\" id=\"E8\" rx=\"10\" ry=\"10\" style=\"stroke: #383838; stroke-width: 1.5;\" width=\"42\" x=\"284\" y=\"84\"/><text fill=\"#000000\" font-family=\"sans-serif\" font-size=\"12\" font-style=\"italic\" lengthAdjust=\"spacingAndGlyphs\" textLength=\"40\" x=\"285\" y=\"100.1387\">«part»</text><text fill=\"#000000\" font-family=\"sans-serif\" font-size=\"12\" lengthAdjust=\"spacingAndGlyphs\" textLength=\"22\" x=\"294\" y=\"114.1074\">y: B</text><line style=\"stroke: #383838; stroke-width: 1.5;\" x1=\"285\" x2=\"325\" y1=\"121.9375\" y2=\"121.9375\"/></a><!--MD5=[96f4274e9e20536e775497830990834d]\n",
       "class E10--><a href=\"psysml:4b1ceaae-3a33-4edd-a713-ae072a8ba794\" target=\"_top\" title=\"psysml:4b1ceaae-3a33-4edd-a713-ae072a8ba794\" xlink:actuate=\"onRequest\" xlink:href=\"psysml:4b1ceaae-3a33-4edd-a713-ae072a8ba794\" xlink:show=\"new\" xlink:title=\"psysml:4b1ceaae-3a33-4edd-a713-ae072a8ba794\" xlink:type=\"simple\"><rect fill=\"#FFFFFF\" height=\"45.9375\" id=\"E10\" rx=\"10\" ry=\"10\" style=\"stroke: #383838; stroke-width: 1.5;\" width=\"42\" x=\"186\" y=\"84\"/><text fill=\"#000000\" font-family=\"sans-serif\" font-size=\"12\" font-style=\"italic\" lengthAdjust=\"spacingAndGlyphs\" textLength=\"40\" x=\"187\" y=\"100.1387\">«part»</text><text fill=\"#000000\" font-family=\"sans-serif\" font-size=\"12\" lengthAdjust=\"spacingAndGlyphs\" textLength=\"22\" x=\"196\" y=\"114.1074\">x: A</text><line style=\"stroke: #383838; stroke-width: 1.5;\" x1=\"187\" x2=\"227\" y1=\"121.9375\" y2=\"121.9375\"/></a><!--MD5=[1dd1bfd58a279cf63c5f349dbc8fc6a1]\n",
       "class E11--><a href=\"psysml:8a3e0fcf-a1f5-42bd-9af7-3ab68d312f86\" target=\"_top\" title=\"psysml:8a3e0fcf-a1f5-42bd-9af7-3ab68d312f86\" xlink:actuate=\"onRequest\" xlink:href=\"psysml:8a3e0fcf-a1f5-42bd-9af7-3ab68d312f86\" xlink:show=\"new\" xlink:title=\"psysml:8a3e0fcf-a1f5-42bd-9af7-3ab68d312f86\" xlink:type=\"simple\"><rect fill=\"#FFFFFF\" height=\"45.9375\" id=\"E11\" rx=\"10\" ry=\"10\" style=\"stroke: #383838; stroke-width: 1.5;\" width=\"42\" x=\"109\" y=\"84\"/><text fill=\"#000000\" font-family=\"sans-serif\" font-size=\"12\" font-style=\"italic\" lengthAdjust=\"spacingAndGlyphs\" textLength=\"40\" x=\"110\" y=\"100.1387\">«part»</text><text fill=\"#000000\" font-family=\"sans-serif\" font-size=\"12\" lengthAdjust=\"spacingAndGlyphs\" textLength=\"22\" x=\"119\" y=\"114.1074\">y: B</text><line style=\"stroke: #383838; stroke-width: 1.5;\" x1=\"110\" x2=\"150\" y1=\"121.9375\" y2=\"121.9375\"/></a><!--MD5=[14ccda38c055a5c0da953d572bc50960]\n",
       "link E7 to E3--><a href=\"psysml:520b462f-0086-4fa2-a8c7-c457cfb393b0\" target=\"_top\" title=\"psysml:520b462f-0086-4fa2-a8c7-c457cfb393b0\" xlink:actuate=\"onRequest\" xlink:href=\"psysml:520b462f-0086-4fa2-a8c7-c457cfb393b0\" xlink:show=\"new\" xlink:title=\"psysml:520b462f-0086-4fa2-a8c7-c457cfb393b0\" xlink:type=\"simple\"><path d=\"M382,130.1 C382,145.37 382,166.16 382,184.57 \" fill=\"none\" id=\"E7-&gt;E3\" style=\"stroke: #383838; stroke-width: 1.0;\"/><polygon fill=\"#FFFFFF\" points=\"382,204.61,375,185.61,389,185.61,382,204.61\" style=\"stroke: #383838; stroke-width: 1.0;\"/><ellipse cx=\"377\" cy=\"179.91\" fill=\"#383838\" rx=\"2\" ry=\"2\" style=\"stroke: #383838; stroke-width: 1.0;\"/><ellipse cx=\"387\" cy=\"179.91\" fill=\"#383838\" rx=\"2\" ry=\"2\" style=\"stroke: #383838; stroke-width: 1.0;\"/></a><!--MD5=[1ccb2481ffa92f8d51a74ee30c51832a]\n",
       "link E8 to E5--><a href=\"psysml:7aecf3a3-7124-43a8-804d-679627dba63d\" target=\"_top\" title=\"psysml:7aecf3a3-7124-43a8-804d-679627dba63d\" xlink:actuate=\"onRequest\" xlink:href=\"psysml:7aecf3a3-7124-43a8-804d-679627dba63d\" xlink:show=\"new\" xlink:title=\"psysml:7aecf3a3-7124-43a8-804d-679627dba63d\" xlink:type=\"simple\"><path d=\"M283.67,124.09 C266.07,137.35 244,154 244,154 C244,154 210.8,175.26 180.23,194.83 \" fill=\"none\" id=\"E8-&gt;E5\" style=\"stroke: #383838; stroke-width: 1.0;\"/><polygon fill=\"#FFFFFF\" points=\"163.28,205.69,175.5055,189.5488,183.0554,201.3386,163.28,205.69\" style=\"stroke: #383838; stroke-width: 1.0;\"/><ellipse cx=\"181.3842\" cy=\"188.1592\" fill=\"#383838\" rx=\"2\" ry=\"2\" style=\"stroke: #383838; stroke-width: 1.0;\"/><ellipse cx=\"186.777\" cy=\"196.5805\" fill=\"#383838\" rx=\"2\" ry=\"2\" style=\"stroke: #383838; stroke-width: 1.0;\"/></a><!--MD5=[feeac5eb423634930294aa81f2d25a4c]\n",
       "link E10 to E3--><a href=\"psysml:fd0acd65-b864-4a8e-8ff2-cbce99549eac\" target=\"_top\" title=\"psysml:fd0acd65-b864-4a8e-8ff2-cbce99549eac\" xlink:actuate=\"onRequest\" xlink:href=\"psysml:fd0acd65-b864-4a8e-8ff2-cbce99549eac\" xlink:show=\"new\" xlink:title=\"psysml:fd0acd65-b864-4a8e-8ff2-cbce99549eac\" xlink:type=\"simple\"><path d=\"M228.33,124.09 C245.93,137.35 268,154 268,154 C268,154 301.2,175.26 331.77,194.83 \" fill=\"none\" id=\"E10-&gt;E3\" style=\"stroke: #383838; stroke-width: 1.0;\"/><polygon fill=\"#FFFFFF\" points=\"348.72,205.69,328.9446,201.3386,336.4945,189.5488,348.72,205.69\" style=\"stroke: #383838; stroke-width: 1.0;\"/><ellipse cx=\"325.223\" cy=\"196.5805\" fill=\"#383838\" rx=\"2\" ry=\"2\" style=\"stroke: #383838; stroke-width: 1.0;\"/><ellipse cx=\"330.6158\" cy=\"188.1592\" fill=\"#383838\" rx=\"2\" ry=\"2\" style=\"stroke: #383838; stroke-width: 1.0;\"/></a><!--MD5=[07b77f6f309248d16187045709d1c26e]\n",
       "link E11 to E5--><a href=\"psysml:442cb8f2-ee4b-4dfa-8164-f495024e2707\" target=\"_top\" title=\"psysml:442cb8f2-ee4b-4dfa-8164-f495024e2707\" xlink:actuate=\"onRequest\" xlink:href=\"psysml:442cb8f2-ee4b-4dfa-8164-f495024e2707\" xlink:show=\"new\" xlink:title=\"psysml:442cb8f2-ee4b-4dfa-8164-f495024e2707\" xlink:type=\"simple\"><path d=\"M130,130.1 C130,145.37 130,166.16 130,184.57 \" fill=\"none\" id=\"E11-&gt;E5\" style=\"stroke: #383838; stroke-width: 1.0;\"/><polygon fill=\"#FFFFFF\" points=\"130,204.61,123,185.61,137,185.61,130,204.61\" style=\"stroke: #383838; stroke-width: 1.0;\"/><ellipse cx=\"125\" cy=\"179.91\" fill=\"#383838\" rx=\"2\" ry=\"2\" style=\"stroke: #383838; stroke-width: 1.0;\"/><ellipse cx=\"135\" cy=\"179.91\" fill=\"#383838\" rx=\"2\" ry=\"2\" style=\"stroke: #383838; stroke-width: 1.0;\"/></a><!--MD5=[39f41a0e550fb3d73b4d8135617e30a2]\n",
       "link E12 to E3--><a href=\"psysml:fab56a21-03ff-446d-9dd1-385c5373a3f2\" target=\"_top\" title=\"psysml:fab56a21-03ff-446d-9dd1-385c5373a3f2\" xlink:actuate=\"onRequest\" xlink:href=\"psysml:fab56a21-03ff-446d-9dd1-385c5373a3f2\" xlink:show=\"new\" xlink:title=\"psysml:fab56a21-03ff-446d-9dd1-385c5373a3f2\" xlink:type=\"simple\"><path d=\"M444.7,130.1 C434.28,146.2 419.89,168.44 407.53,187.55 \" fill=\"none\" id=\"E12-&gt;E3\" style=\"stroke: #383838; stroke-width: 1.0;\"/><polygon fill=\"#FFFFFF\" points=\"396.49,204.61,400.9313,184.8546,412.6866,192.4581,396.49,204.61\" style=\"stroke: #383838; stroke-width: 1.0;\"/><ellipse cx=\"405.7063\" cy=\"181.1547\" fill=\"#383838\" rx=\"2\" ry=\"2\" style=\"stroke: #383838; stroke-width: 1.0;\"/><ellipse cx=\"414.103\" cy=\"186.5858\" fill=\"#383838\" rx=\"2\" ry=\"2\" style=\"stroke: #383838; stroke-width: 1.0;\"/></a><!--MD5=[066b2d8af59fea80ccdb3d54ad5c1091]\n",
       "link E13 to E5--><a href=\"psysml:5cad6703-6f19-4c46-9c46-92acb368aec7\" target=\"_top\" title=\"psysml:5cad6703-6f19-4c46-9c46-92acb368aec7\" xlink:actuate=\"onRequest\" xlink:href=\"psysml:5cad6703-6f19-4c46-9c46-92acb368aec7\" xlink:show=\"new\" xlink:title=\"psysml:5cad6703-6f19-4c46-9c46-92acb368aec7\" xlink:type=\"simple\"><path d=\"M67.3,130.1 C77.72,146.2 92.11,168.44 104.47,187.55 \" fill=\"none\" id=\"E13-&gt;E5\" style=\"stroke: #383838; stroke-width: 1.0;\"/><polygon fill=\"#FFFFFF\" points=\"115.51,204.61,99.3134,192.4581,111.0687,184.8546,115.51,204.61\" style=\"stroke: #383838; stroke-width: 1.0;\"/><ellipse cx=\"97.897\" cy=\"186.5858\" fill=\"#383838\" rx=\"2\" ry=\"2\" style=\"stroke: #383838; stroke-width: 1.0;\"/><ellipse cx=\"106.2937\" cy=\"181.1547\" fill=\"#383838\" rx=\"2\" ry=\"2\" style=\"stroke: #383838; stroke-width: 1.0;\"/></a><!--MD5=[1a30c2a8d1e4c92423ff808bb569273f]\n",
       "@startuml\r\n",
       "skinparam linetype polyline\r\n",
       "skinparam monochrome true\r\n",
       "skinparam classbackgroundcolor white\r\n",
       "skinparam shadowing false\r\n",
       "skinparam wrapWidth 300\r\n",
       "hide circle\r\n",
       "\r\n",
       "package \"CircularImport\" as E1  [[psysml:7332441d-5859-4b68-88e6-44e4d7acfbc9 ]]  {\r\n",
       "package \"P1\" as E2  [[psysml:5f20ae7d-4d57-41a2-9907-55aa74d31ca3 ]]  {\r\n",
       "comp def \"A\" as E3  <<(T,blue) part def>> [[psysml:a77b04ef-8587-44c9-8b7f-efa23f8b51b3 ]] {\r\n",
       "}\r\n",
       "}\r\n",
       "package \"P2\" as E4  [[psysml:ebcd3975-b264-4248-9466-34d42d3f68ce ]]  {\r\n",
       "comp def \"B\" as E5  <<(T,blue) part def>> [[psysml:0236a647-9823-419e-b974-acac8cdc5ece ]] {\r\n",
       "}\r\n",
       "}\r\n",
       "package \"Test1\" as E6  [[psysml:da6ad505-2daa-495a-83b8-d3ba9d2de3a4 ]]  {\r\n",
       "comp usage \"x: A\" as E7  <<(T,blue) part>> [[psysml:d9c30419-fa03-4224-9f9b-cc52ece95c03 ]] {\r\n",
       "}\r\n",
       "comp usage \"y: B\" as E8  <<(T,blue) part>> [[psysml:32c0d6a2-b48f-4756-bec9-ba81426d308d ]] {\r\n",
       "}\r\n",
       "}\r\n",
       "package \"Test2\" as E9  [[psysml:b0babda1-ae00-488b-8e87-1a86d4c9a0c6 ]]  {\r\n",
       "comp usage \"x: A\" as E10  <<(T,blue) part>> [[psysml:4b1ceaae-3a33-4edd-a713-ae072a8ba794 ]] {\r\n",
       "}\r\n",
       "comp usage \"y: B\" as E11  <<(T,blue) part>> [[psysml:8a3e0fcf-a1f5-42bd-9af7-3ab68d312f86 ]] {\r\n",
       "}\r\n",
       "}\r\n",
       "comp usage \"x: A\" as E12  <<(T,blue) part>> [[psysml:be17b73a-3dde-44ce-ab8b-a0409ce39ee3 ]] {\r\n",
       "}\r\n",
       "comp usage \"y: B\" as E13  <<(T,blue) part>> [[psysml:70775e2d-ada4-46b3-b3bb-1618b7e606cf ]] {\r\n",
       "}\r\n",
       "}\r\n",
       "E7 - -:|> E3 [[psysml:520b462f-0086-4fa2-a8c7-c457cfb393b0 ]] \r\n",
       "E8 - -:|> E5 [[psysml:7aecf3a3-7124-43a8-804d-679627dba63d ]] \r\n",
       "E10 - -:|> E3 [[psysml:fd0acd65-b864-4a8e-8ff2-cbce99549eac ]] \r\n",
       "E11 - -:|> E5 [[psysml:442cb8f2-ee4b-4dfa-8164-f495024e2707 ]] \r\n",
       "E12 - -:|> E3 [[psysml:fab56a21-03ff-446d-9dd1-385c5373a3f2 ]] \r\n",
       "E13 - -:|> E5 [[psysml:5cad6703-6f19-4c46-9c46-92acb368aec7 ]] \r\n",
       "@enduml\r\n",
       "\n",
       "PlantUML version 1.2020.13(Sat Jun 13 12:26:38 UTC 2020)\n",
       "(EPL source distribution)\n",
       "Java Runtime: OpenJDK Runtime Environment\n",
       "JVM: OpenJDK 64-Bit Server VM\n",
       "Default Encoding: UTF-8\n",
       "Language: en\n",
       "Country: null\n",
       "--></g></svg>"
      ]
     },
     "execution_count": 9,
     "metadata": {},
     "output_type": "execute_result"
    }
   ],
   "source": [
    "%viz --style=\"POLYLINE\" --view=\"Default\" \"CircularImport\""
   ]
  },
  {
   "cell_type": "code",
   "execution_count": 10,
   "id": "86370b06",
   "metadata": {
    "execution": {
     "iopub.execute_input": "2021-09-27T07:16:34.794507Z",
     "iopub.status.busy": "2021-09-27T07:16:34.794103Z",
     "iopub.status.idle": "2021-09-27T07:16:34.846624Z",
     "shell.execute_reply": "2021-09-27T07:16:34.845223Z"
    }
   },
   "outputs": [
    {
     "data": {
      "image/svg+xml": [
       "<?xml version=\"1.0\" encoding=\"UTF-8\" standalone=\"no\"?><svg xmlns=\"http://www.w3.org/2000/svg\" xmlns:xlink=\"http://www.w3.org/1999/xlink\" contentScriptType=\"application/ecmascript\" contentStyleType=\"text/css\" height=\"303px\" preserveAspectRatio=\"none\" style=\"width:518px;height:303px;\" version=\"1.1\" viewBox=\"0 0 518 303\" width=\"518px\" zoomAndPan=\"magnify\"><defs/><g><!--MD5=[fbc87193dbaf4d95561dea2c320d4a47]\n",
       "cluster E1--><a href=\"psysml:7332441d-5859-4b68-88e6-44e4d7acfbc9\" target=\"_top\" title=\"psysml:7332441d-5859-4b68-88e6-44e4d7acfbc9\" xlink:actuate=\"onRequest\" xlink:href=\"psysml:7332441d-5859-4b68-88e6-44e4d7acfbc9\" xlink:show=\"new\" xlink:title=\"psysml:7332441d-5859-4b68-88e6-44e4d7acfbc9\" xlink:type=\"simple\"><polygon fill=\"#FFFFFF\" points=\"16,6,117,6,124,28.2969,496,28.2969,496,291,16,291,16,6\" style=\"stroke: #000000; stroke-width: 1.5;\"/><line style=\"stroke: #000000; stroke-width: 1.5;\" x1=\"16\" x2=\"124\" y1=\"28.2969\" y2=\"28.2969\"/><text fill=\"#000000\" font-family=\"sans-serif\" font-size=\"14\" font-weight=\"bold\" lengthAdjust=\"spacingAndGlyphs\" textLength=\"95\" x=\"20\" y=\"20.9951\">CircularImport</text></a><!--MD5=[e4f7fae6ed58524ba242bb0b0d3be6b7]\n",
       "cluster E2--><a href=\"psysml:5f20ae7d-4d57-41a2-9907-55aa74d31ca3\" target=\"_top\" title=\"psysml:5f20ae7d-4d57-41a2-9907-55aa74d31ca3\" xlink:actuate=\"onRequest\" xlink:href=\"psysml:5f20ae7d-4d57-41a2-9907-55aa74d31ca3\" xlink:show=\"new\" xlink:title=\"psysml:5f20ae7d-4d57-41a2-9907-55aa74d31ca3\" xlink:type=\"simple\"><polygon fill=\"#FFFFFF\" points=\"333,170,357,170,364,192.2969,431,192.2969,431,267,333,267,333,170\" style=\"stroke: #000000; stroke-width: 1.5;\"/><line style=\"stroke: #000000; stroke-width: 1.5;\" x1=\"333\" x2=\"364\" y1=\"192.2969\" y2=\"192.2969\"/><text fill=\"#000000\" font-family=\"sans-serif\" font-size=\"14\" font-weight=\"bold\" lengthAdjust=\"spacingAndGlyphs\" textLength=\"18\" x=\"337\" y=\"184.9951\">P1</text></a><!--MD5=[f6df4d0ebaf0b5dfb2ced0ae5af7c670]\n",
       "cluster E4--><a href=\"psysml:ebcd3975-b264-4248-9466-34d42d3f68ce\" target=\"_top\" title=\"psysml:ebcd3975-b264-4248-9466-34d42d3f68ce\" xlink:actuate=\"onRequest\" xlink:href=\"psysml:ebcd3975-b264-4248-9466-34d42d3f68ce\" xlink:show=\"new\" xlink:title=\"psysml:ebcd3975-b264-4248-9466-34d42d3f68ce\" xlink:type=\"simple\"><polygon fill=\"#FFFFFF\" points=\"81,170,105,170,112,192.2969,179,192.2969,179,267,81,267,81,170\" style=\"stroke: #000000; stroke-width: 1.5;\"/><line style=\"stroke: #000000; stroke-width: 1.5;\" x1=\"81\" x2=\"112\" y1=\"192.2969\" y2=\"192.2969\"/><text fill=\"#000000\" font-family=\"sans-serif\" font-size=\"14\" font-weight=\"bold\" lengthAdjust=\"spacingAndGlyphs\" textLength=\"18\" x=\"85\" y=\"184.9951\">P2</text></a><!--MD5=[14e3b0961a2654348d326746436168a1]\n",
       "cluster E6--><a href=\"psysml:da6ad505-2daa-495a-83b8-d3ba9d2de3a4\" target=\"_top\" title=\"psysml:da6ad505-2daa-495a-83b8-d3ba9d2de3a4\" xlink:actuate=\"onRequest\" xlink:href=\"psysml:da6ad505-2daa-495a-83b8-d3ba9d2de3a4\" xlink:show=\"new\" xlink:title=\"psysml:da6ad505-2daa-495a-83b8-d3ba9d2de3a4\" xlink:type=\"simple\"><polygon fill=\"#FFFFFF\" points=\"268,49,314,49,321,71.2969,419,71.2969,419,146,268,146,268,49\" style=\"stroke: #000000; stroke-width: 1.5;\"/><line style=\"stroke: #000000; stroke-width: 1.5;\" x1=\"268\" x2=\"321\" y1=\"71.2969\" y2=\"71.2969\"/><text fill=\"#000000\" font-family=\"sans-serif\" font-size=\"14\" font-weight=\"bold\" lengthAdjust=\"spacingAndGlyphs\" textLength=\"40\" x=\"272\" y=\"63.9951\">Test1</text></a><!--MD5=[7f149f147074ac12df2cb0a7728a5fb0]\n",
       "cluster E9--><a href=\"psysml:b0babda1-ae00-488b-8e87-1a86d4c9a0c6\" target=\"_top\" title=\"psysml:b0babda1-ae00-488b-8e87-1a86d4c9a0c6\" xlink:actuate=\"onRequest\" xlink:href=\"psysml:b0babda1-ae00-488b-8e87-1a86d4c9a0c6\" xlink:show=\"new\" xlink:title=\"psysml:b0babda1-ae00-488b-8e87-1a86d4c9a0c6\" xlink:type=\"simple\"><polygon fill=\"#FFFFFF\" points=\"93,49,139,49,146,71.2969,244,71.2969,244,146,93,146,93,49\" style=\"stroke: #000000; stroke-width: 1.5;\"/><line style=\"stroke: #000000; stroke-width: 1.5;\" x1=\"93\" x2=\"146\" y1=\"71.2969\" y2=\"71.2969\"/><text fill=\"#000000\" font-family=\"sans-serif\" font-size=\"14\" font-weight=\"bold\" lengthAdjust=\"spacingAndGlyphs\" textLength=\"40\" x=\"97\" y=\"63.9951\">Test2</text></a><!--MD5=[49a0ec8f00dab7302a31f22d0f0fe584]\n",
       "class E12--><a href=\"psysml:be17b73a-3dde-44ce-ab8b-a0409ce39ee3\" target=\"_top\" title=\"psysml:be17b73a-3dde-44ce-ab8b-a0409ce39ee3\" xlink:actuate=\"onRequest\" xlink:href=\"psysml:be17b73a-3dde-44ce-ab8b-a0409ce39ee3\" xlink:show=\"new\" xlink:title=\"psysml:be17b73a-3dde-44ce-ab8b-a0409ce39ee3\" xlink:type=\"simple\"><rect fill=\"#FFFFFF\" height=\"45.9375\" id=\"E12\" rx=\"10\" ry=\"10\" style=\"stroke: #383838; stroke-width: 1.5;\" width=\"42\" x=\"438\" y=\"84\"/><text fill=\"#000000\" font-family=\"sans-serif\" font-size=\"12\" font-style=\"italic\" lengthAdjust=\"spacingAndGlyphs\" textLength=\"40\" x=\"439\" y=\"100.1387\">«part»</text><text fill=\"#000000\" font-family=\"sans-serif\" font-size=\"12\" lengthAdjust=\"spacingAndGlyphs\" textLength=\"22\" x=\"448\" y=\"114.1074\">x: A</text><line style=\"stroke: #383838; stroke-width: 1.5;\" x1=\"439\" x2=\"479\" y1=\"121.9375\" y2=\"121.9375\"/></a><!--MD5=[ee3c913d1a06f366521f9ef512b67efe]\n",
       "class E13--><a href=\"psysml:70775e2d-ada4-46b3-b3bb-1618b7e606cf\" target=\"_top\" title=\"psysml:70775e2d-ada4-46b3-b3bb-1618b7e606cf\" xlink:actuate=\"onRequest\" xlink:href=\"psysml:70775e2d-ada4-46b3-b3bb-1618b7e606cf\" xlink:show=\"new\" xlink:title=\"psysml:70775e2d-ada4-46b3-b3bb-1618b7e606cf\" xlink:type=\"simple\"><rect fill=\"#FFFFFF\" height=\"45.9375\" id=\"E13\" rx=\"10\" ry=\"10\" style=\"stroke: #383838; stroke-width: 1.5;\" width=\"42\" x=\"32\" y=\"84\"/><text fill=\"#000000\" font-family=\"sans-serif\" font-size=\"12\" font-style=\"italic\" lengthAdjust=\"spacingAndGlyphs\" textLength=\"40\" x=\"33\" y=\"100.1387\">«part»</text><text fill=\"#000000\" font-family=\"sans-serif\" font-size=\"12\" lengthAdjust=\"spacingAndGlyphs\" textLength=\"22\" x=\"42\" y=\"114.1074\">y: B</text><line style=\"stroke: #383838; stroke-width: 1.5;\" x1=\"33\" x2=\"73\" y1=\"121.9375\" y2=\"121.9375\"/></a><!--MD5=[09b614a08d8cba4a07c9adeb5e0fee81]\n",
       "class E3--><a href=\"psysml:a77b04ef-8587-44c9-8b7f-efa23f8b51b3\" target=\"_top\" title=\"psysml:a77b04ef-8587-44c9-8b7f-efa23f8b51b3\" xlink:actuate=\"onRequest\" xlink:href=\"psysml:a77b04ef-8587-44c9-8b7f-efa23f8b51b3\" xlink:show=\"new\" xlink:title=\"psysml:a77b04ef-8587-44c9-8b7f-efa23f8b51b3\" xlink:type=\"simple\"><rect fill=\"#FFFFFF\" height=\"45.9375\" id=\"E3\" style=\"stroke: #383838; stroke-width: 1.5;\" width=\"66\" x=\"349\" y=\"205\"/><text fill=\"#000000\" font-family=\"sans-serif\" font-size=\"12\" font-style=\"italic\" lengthAdjust=\"spacingAndGlyphs\" textLength=\"64\" x=\"350\" y=\"221.1387\">«part def»</text><text fill=\"#000000\" font-family=\"sans-serif\" font-size=\"12\" lengthAdjust=\"spacingAndGlyphs\" textLength=\"8\" x=\"378\" y=\"235.1074\">A</text><line style=\"stroke: #383838; stroke-width: 1.5;\" x1=\"350\" x2=\"414\" y1=\"242.9375\" y2=\"242.9375\"/></a><!--MD5=[270fce915f116d4de14055a7c1d9a0f3]\n",
       "class E5--><a href=\"psysml:0236a647-9823-419e-b974-acac8cdc5ece\" target=\"_top\" title=\"psysml:0236a647-9823-419e-b974-acac8cdc5ece\" xlink:actuate=\"onRequest\" xlink:href=\"psysml:0236a647-9823-419e-b974-acac8cdc5ece\" xlink:show=\"new\" xlink:title=\"psysml:0236a647-9823-419e-b974-acac8cdc5ece\" xlink:type=\"simple\"><rect fill=\"#FFFFFF\" height=\"45.9375\" id=\"E5\" style=\"stroke: #383838; stroke-width: 1.5;\" width=\"66\" x=\"97\" y=\"205\"/><text fill=\"#000000\" font-family=\"sans-serif\" font-size=\"12\" font-style=\"italic\" lengthAdjust=\"spacingAndGlyphs\" textLength=\"64\" x=\"98\" y=\"221.1387\">«part def»</text><text fill=\"#000000\" font-family=\"sans-serif\" font-size=\"12\" lengthAdjust=\"spacingAndGlyphs\" textLength=\"8\" x=\"126\" y=\"235.1074\">B</text><line style=\"stroke: #383838; stroke-width: 1.5;\" x1=\"98\" x2=\"162\" y1=\"242.9375\" y2=\"242.9375\"/></a><!--MD5=[2156ba9850f5573cc1fc38a6a4b2f02b]\n",
       "class E7--><a href=\"psysml:d9c30419-fa03-4224-9f9b-cc52ece95c03\" target=\"_top\" title=\"psysml:d9c30419-fa03-4224-9f9b-cc52ece95c03\" xlink:actuate=\"onRequest\" xlink:href=\"psysml:d9c30419-fa03-4224-9f9b-cc52ece95c03\" xlink:show=\"new\" xlink:title=\"psysml:d9c30419-fa03-4224-9f9b-cc52ece95c03\" xlink:type=\"simple\"><rect fill=\"#FFFFFF\" height=\"45.9375\" id=\"E7\" rx=\"10\" ry=\"10\" style=\"stroke: #383838; stroke-width: 1.5;\" width=\"42\" x=\"361\" y=\"84\"/><text fill=\"#000000\" font-family=\"sans-serif\" font-size=\"12\" font-style=\"italic\" lengthAdjust=\"spacingAndGlyphs\" textLength=\"40\" x=\"362\" y=\"100.1387\">«part»</text><text fill=\"#000000\" font-family=\"sans-serif\" font-size=\"12\" lengthAdjust=\"spacingAndGlyphs\" textLength=\"22\" x=\"371\" y=\"114.1074\">x: A</text><line style=\"stroke: #383838; stroke-width: 1.5;\" x1=\"362\" x2=\"402\" y1=\"121.9375\" y2=\"121.9375\"/></a><!--MD5=[b9389687b975829384b498ac4b7476b2]\n",
       "class E8--><a href=\"psysml:32c0d6a2-b48f-4756-bec9-ba81426d308d\" target=\"_top\" title=\"psysml:32c0d6a2-b48f-4756-bec9-ba81426d308d\" xlink:actuate=\"onRequest\" xlink:href=\"psysml:32c0d6a2-b48f-4756-bec9-ba81426d308d\" xlink:show=\"new\" xlink:title=\"psysml:32c0d6a2-b48f-4756-bec9-ba81426d308d\" xlink:type=\"simple\"><rect fill=\"#FFFFFF\" height=\"45.9375\" id=\"E8\" rx=\"10\" ry=\"10\" style=\"stroke: #383838; stroke-width: 1.5;\" width=\"42\" x=\"284\" y=\"84\"/><text fill=\"#000000\" font-family=\"sans-serif\" font-size=\"12\" font-style=\"italic\" lengthAdjust=\"spacingAndGlyphs\" textLength=\"40\" x=\"285\" y=\"100.1387\">«part»</text><text fill=\"#000000\" font-family=\"sans-serif\" font-size=\"12\" lengthAdjust=\"spacingAndGlyphs\" textLength=\"22\" x=\"294\" y=\"114.1074\">y: B</text><line style=\"stroke: #383838; stroke-width: 1.5;\" x1=\"285\" x2=\"325\" y1=\"121.9375\" y2=\"121.9375\"/></a><!--MD5=[96f4274e9e20536e775497830990834d]\n",
       "class E10--><a href=\"psysml:4b1ceaae-3a33-4edd-a713-ae072a8ba794\" target=\"_top\" title=\"psysml:4b1ceaae-3a33-4edd-a713-ae072a8ba794\" xlink:actuate=\"onRequest\" xlink:href=\"psysml:4b1ceaae-3a33-4edd-a713-ae072a8ba794\" xlink:show=\"new\" xlink:title=\"psysml:4b1ceaae-3a33-4edd-a713-ae072a8ba794\" xlink:type=\"simple\"><rect fill=\"#FFFFFF\" height=\"45.9375\" id=\"E10\" rx=\"10\" ry=\"10\" style=\"stroke: #383838; stroke-width: 1.5;\" width=\"42\" x=\"186\" y=\"84\"/><text fill=\"#000000\" font-family=\"sans-serif\" font-size=\"12\" font-style=\"italic\" lengthAdjust=\"spacingAndGlyphs\" textLength=\"40\" x=\"187\" y=\"100.1387\">«part»</text><text fill=\"#000000\" font-family=\"sans-serif\" font-size=\"12\" lengthAdjust=\"spacingAndGlyphs\" textLength=\"22\" x=\"196\" y=\"114.1074\">x: A</text><line style=\"stroke: #383838; stroke-width: 1.5;\" x1=\"187\" x2=\"227\" y1=\"121.9375\" y2=\"121.9375\"/></a><!--MD5=[1dd1bfd58a279cf63c5f349dbc8fc6a1]\n",
       "class E11--><a href=\"psysml:8a3e0fcf-a1f5-42bd-9af7-3ab68d312f86\" target=\"_top\" title=\"psysml:8a3e0fcf-a1f5-42bd-9af7-3ab68d312f86\" xlink:actuate=\"onRequest\" xlink:href=\"psysml:8a3e0fcf-a1f5-42bd-9af7-3ab68d312f86\" xlink:show=\"new\" xlink:title=\"psysml:8a3e0fcf-a1f5-42bd-9af7-3ab68d312f86\" xlink:type=\"simple\"><rect fill=\"#FFFFFF\" height=\"45.9375\" id=\"E11\" rx=\"10\" ry=\"10\" style=\"stroke: #383838; stroke-width: 1.5;\" width=\"42\" x=\"109\" y=\"84\"/><text fill=\"#000000\" font-family=\"sans-serif\" font-size=\"12\" font-style=\"italic\" lengthAdjust=\"spacingAndGlyphs\" textLength=\"40\" x=\"110\" y=\"100.1387\">«part»</text><text fill=\"#000000\" font-family=\"sans-serif\" font-size=\"12\" lengthAdjust=\"spacingAndGlyphs\" textLength=\"22\" x=\"119\" y=\"114.1074\">y: B</text><line style=\"stroke: #383838; stroke-width: 1.5;\" x1=\"110\" x2=\"150\" y1=\"121.9375\" y2=\"121.9375\"/></a><!--MD5=[14ccda38c055a5c0da953d572bc50960]\n",
       "link E7 to E3--><a href=\"psysml:520b462f-0086-4fa2-a8c7-c457cfb393b0\" target=\"_top\" title=\"psysml:520b462f-0086-4fa2-a8c7-c457cfb393b0\" xlink:actuate=\"onRequest\" xlink:href=\"psysml:520b462f-0086-4fa2-a8c7-c457cfb393b0\" xlink:show=\"new\" xlink:title=\"psysml:520b462f-0086-4fa2-a8c7-c457cfb393b0\" xlink:type=\"simple\"><path d=\"M382,130.1 C382,145.37 382,166.16 382,184.57 \" fill=\"none\" id=\"E7-&gt;E3\" style=\"stroke: #383838; stroke-width: 1.0;\"/><polygon fill=\"#FFFFFF\" points=\"382,204.61,375,185.61,389,185.61,382,204.61\" style=\"stroke: #383838; stroke-width: 1.0;\"/><ellipse cx=\"377\" cy=\"179.91\" fill=\"#383838\" rx=\"2\" ry=\"2\" style=\"stroke: #383838; stroke-width: 1.0;\"/><ellipse cx=\"387\" cy=\"179.91\" fill=\"#383838\" rx=\"2\" ry=\"2\" style=\"stroke: #383838; stroke-width: 1.0;\"/></a><!--MD5=[1ccb2481ffa92f8d51a74ee30c51832a]\n",
       "link E8 to E5--><a href=\"psysml:7aecf3a3-7124-43a8-804d-679627dba63d\" target=\"_top\" title=\"psysml:7aecf3a3-7124-43a8-804d-679627dba63d\" xlink:actuate=\"onRequest\" xlink:href=\"psysml:7aecf3a3-7124-43a8-804d-679627dba63d\" xlink:show=\"new\" xlink:title=\"psysml:7aecf3a3-7124-43a8-804d-679627dba63d\" xlink:type=\"simple\"><path d=\"M283.67,124.09 C266.07,137.35 244,154 244,154 C244,154 210.8,175.26 180.23,194.83 \" fill=\"none\" id=\"E8-&gt;E5\" style=\"stroke: #383838; stroke-width: 1.0;\"/><polygon fill=\"#FFFFFF\" points=\"163.28,205.69,175.5055,189.5488,183.0554,201.3386,163.28,205.69\" style=\"stroke: #383838; stroke-width: 1.0;\"/><ellipse cx=\"181.3842\" cy=\"188.1592\" fill=\"#383838\" rx=\"2\" ry=\"2\" style=\"stroke: #383838; stroke-width: 1.0;\"/><ellipse cx=\"186.777\" cy=\"196.5805\" fill=\"#383838\" rx=\"2\" ry=\"2\" style=\"stroke: #383838; stroke-width: 1.0;\"/></a><!--MD5=[feeac5eb423634930294aa81f2d25a4c]\n",
       "link E10 to E3--><a href=\"psysml:fd0acd65-b864-4a8e-8ff2-cbce99549eac\" target=\"_top\" title=\"psysml:fd0acd65-b864-4a8e-8ff2-cbce99549eac\" xlink:actuate=\"onRequest\" xlink:href=\"psysml:fd0acd65-b864-4a8e-8ff2-cbce99549eac\" xlink:show=\"new\" xlink:title=\"psysml:fd0acd65-b864-4a8e-8ff2-cbce99549eac\" xlink:type=\"simple\"><path d=\"M228.33,124.09 C245.93,137.35 268,154 268,154 C268,154 301.2,175.26 331.77,194.83 \" fill=\"none\" id=\"E10-&gt;E3\" style=\"stroke: #383838; stroke-width: 1.0;\"/><polygon fill=\"#FFFFFF\" points=\"348.72,205.69,328.9446,201.3386,336.4945,189.5488,348.72,205.69\" style=\"stroke: #383838; stroke-width: 1.0;\"/><ellipse cx=\"325.223\" cy=\"196.5805\" fill=\"#383838\" rx=\"2\" ry=\"2\" style=\"stroke: #383838; stroke-width: 1.0;\"/><ellipse cx=\"330.6158\" cy=\"188.1592\" fill=\"#383838\" rx=\"2\" ry=\"2\" style=\"stroke: #383838; stroke-width: 1.0;\"/></a><!--MD5=[07b77f6f309248d16187045709d1c26e]\n",
       "link E11 to E5--><a href=\"psysml:442cb8f2-ee4b-4dfa-8164-f495024e2707\" target=\"_top\" title=\"psysml:442cb8f2-ee4b-4dfa-8164-f495024e2707\" xlink:actuate=\"onRequest\" xlink:href=\"psysml:442cb8f2-ee4b-4dfa-8164-f495024e2707\" xlink:show=\"new\" xlink:title=\"psysml:442cb8f2-ee4b-4dfa-8164-f495024e2707\" xlink:type=\"simple\"><path d=\"M130,130.1 C130,145.37 130,166.16 130,184.57 \" fill=\"none\" id=\"E11-&gt;E5\" style=\"stroke: #383838; stroke-width: 1.0;\"/><polygon fill=\"#FFFFFF\" points=\"130,204.61,123,185.61,137,185.61,130,204.61\" style=\"stroke: #383838; stroke-width: 1.0;\"/><ellipse cx=\"125\" cy=\"179.91\" fill=\"#383838\" rx=\"2\" ry=\"2\" style=\"stroke: #383838; stroke-width: 1.0;\"/><ellipse cx=\"135\" cy=\"179.91\" fill=\"#383838\" rx=\"2\" ry=\"2\" style=\"stroke: #383838; stroke-width: 1.0;\"/></a><!--MD5=[39f41a0e550fb3d73b4d8135617e30a2]\n",
       "link E12 to E3--><a href=\"psysml:fab56a21-03ff-446d-9dd1-385c5373a3f2\" target=\"_top\" title=\"psysml:fab56a21-03ff-446d-9dd1-385c5373a3f2\" xlink:actuate=\"onRequest\" xlink:href=\"psysml:fab56a21-03ff-446d-9dd1-385c5373a3f2\" xlink:show=\"new\" xlink:title=\"psysml:fab56a21-03ff-446d-9dd1-385c5373a3f2\" xlink:type=\"simple\"><path d=\"M444.7,130.1 C434.28,146.2 419.89,168.44 407.53,187.55 \" fill=\"none\" id=\"E12-&gt;E3\" style=\"stroke: #383838; stroke-width: 1.0;\"/><polygon fill=\"#FFFFFF\" points=\"396.49,204.61,400.9313,184.8546,412.6866,192.4581,396.49,204.61\" style=\"stroke: #383838; stroke-width: 1.0;\"/><ellipse cx=\"405.7063\" cy=\"181.1547\" fill=\"#383838\" rx=\"2\" ry=\"2\" style=\"stroke: #383838; stroke-width: 1.0;\"/><ellipse cx=\"414.103\" cy=\"186.5858\" fill=\"#383838\" rx=\"2\" ry=\"2\" style=\"stroke: #383838; stroke-width: 1.0;\"/></a><!--MD5=[066b2d8af59fea80ccdb3d54ad5c1091]\n",
       "link E13 to E5--><a href=\"psysml:5cad6703-6f19-4c46-9c46-92acb368aec7\" target=\"_top\" title=\"psysml:5cad6703-6f19-4c46-9c46-92acb368aec7\" xlink:actuate=\"onRequest\" xlink:href=\"psysml:5cad6703-6f19-4c46-9c46-92acb368aec7\" xlink:show=\"new\" xlink:title=\"psysml:5cad6703-6f19-4c46-9c46-92acb368aec7\" xlink:type=\"simple\"><path d=\"M67.3,130.1 C77.72,146.2 92.11,168.44 104.47,187.55 \" fill=\"none\" id=\"E13-&gt;E5\" style=\"stroke: #383838; stroke-width: 1.0;\"/><polygon fill=\"#FFFFFF\" points=\"115.51,204.61,99.3134,192.4581,111.0687,184.8546,115.51,204.61\" style=\"stroke: #383838; stroke-width: 1.0;\"/><ellipse cx=\"97.897\" cy=\"186.5858\" fill=\"#383838\" rx=\"2\" ry=\"2\" style=\"stroke: #383838; stroke-width: 1.0;\"/><ellipse cx=\"106.2937\" cy=\"181.1547\" fill=\"#383838\" rx=\"2\" ry=\"2\" style=\"stroke: #383838; stroke-width: 1.0;\"/></a><!--MD5=[1a30c2a8d1e4c92423ff808bb569273f]\n",
       "@startuml\r\n",
       "skinparam linetype polyline\r\n",
       "skinparam monochrome true\r\n",
       "skinparam classbackgroundcolor white\r\n",
       "skinparam shadowing false\r\n",
       "skinparam wrapWidth 300\r\n",
       "hide circle\r\n",
       "\r\n",
       "package \"CircularImport\" as E1  [[psysml:7332441d-5859-4b68-88e6-44e4d7acfbc9 ]]  {\r\n",
       "package \"P1\" as E2  [[psysml:5f20ae7d-4d57-41a2-9907-55aa74d31ca3 ]]  {\r\n",
       "comp def \"A\" as E3  <<(T,blue) part def>> [[psysml:a77b04ef-8587-44c9-8b7f-efa23f8b51b3 ]] {\r\n",
       "}\r\n",
       "}\r\n",
       "package \"P2\" as E4  [[psysml:ebcd3975-b264-4248-9466-34d42d3f68ce ]]  {\r\n",
       "comp def \"B\" as E5  <<(T,blue) part def>> [[psysml:0236a647-9823-419e-b974-acac8cdc5ece ]] {\r\n",
       "}\r\n",
       "}\r\n",
       "package \"Test1\" as E6  [[psysml:da6ad505-2daa-495a-83b8-d3ba9d2de3a4 ]]  {\r\n",
       "comp usage \"x: A\" as E7  <<(T,blue) part>> [[psysml:d9c30419-fa03-4224-9f9b-cc52ece95c03 ]] {\r\n",
       "}\r\n",
       "comp usage \"y: B\" as E8  <<(T,blue) part>> [[psysml:32c0d6a2-b48f-4756-bec9-ba81426d308d ]] {\r\n",
       "}\r\n",
       "}\r\n",
       "package \"Test2\" as E9  [[psysml:b0babda1-ae00-488b-8e87-1a86d4c9a0c6 ]]  {\r\n",
       "comp usage \"x: A\" as E10  <<(T,blue) part>> [[psysml:4b1ceaae-3a33-4edd-a713-ae072a8ba794 ]] {\r\n",
       "}\r\n",
       "comp usage \"y: B\" as E11  <<(T,blue) part>> [[psysml:8a3e0fcf-a1f5-42bd-9af7-3ab68d312f86 ]] {\r\n",
       "}\r\n",
       "}\r\n",
       "comp usage \"x: A\" as E12  <<(T,blue) part>> [[psysml:be17b73a-3dde-44ce-ab8b-a0409ce39ee3 ]] {\r\n",
       "}\r\n",
       "comp usage \"y: B\" as E13  <<(T,blue) part>> [[psysml:70775e2d-ada4-46b3-b3bb-1618b7e606cf ]] {\r\n",
       "}\r\n",
       "}\r\n",
       "E7 - -:|> E3 [[psysml:520b462f-0086-4fa2-a8c7-c457cfb393b0 ]] \r\n",
       "E8 - -:|> E5 [[psysml:7aecf3a3-7124-43a8-804d-679627dba63d ]] \r\n",
       "E10 - -:|> E3 [[psysml:fd0acd65-b864-4a8e-8ff2-cbce99549eac ]] \r\n",
       "E11 - -:|> E5 [[psysml:442cb8f2-ee4b-4dfa-8164-f495024e2707 ]] \r\n",
       "E12 - -:|> E3 [[psysml:fab56a21-03ff-446d-9dd1-385c5373a3f2 ]] \r\n",
       "E13 - -:|> E5 [[psysml:5cad6703-6f19-4c46-9c46-92acb368aec7 ]] \r\n",
       "@enduml\r\n",
       "\n",
       "PlantUML version 1.2020.13(Sat Jun 13 12:26:38 UTC 2020)\n",
       "(EPL source distribution)\n",
       "Java Runtime: OpenJDK Runtime Environment\n",
       "JVM: OpenJDK 64-Bit Server VM\n",
       "Default Encoding: UTF-8\n",
       "Language: en\n",
       "Country: null\n",
       "--></g></svg>"
      ]
     },
     "execution_count": 10,
     "metadata": {},
     "output_type": "execute_result"
    }
   ],
   "source": [
    "%viz --style=\"POLYLINE\" --view=\"Tree\" \"CircularImport\""
   ]
  },
  {
   "cell_type": "code",
   "execution_count": 11,
   "id": "d2f6d67f",
   "metadata": {
    "execution": {
     "iopub.execute_input": "2021-09-27T07:16:34.896037Z",
     "iopub.status.busy": "2021-09-27T07:16:34.895635Z",
     "iopub.status.idle": "2021-09-27T07:16:34.900845Z",
     "shell.execute_reply": "2021-09-27T07:16:34.901154Z"
    }
   },
   "outputs": [
    {
     "data": {
      "image/svg+xml": [
       "<?xml version=\"1.0\" encoding=\"UTF-8\" standalone=\"no\"?><svg xmlns=\"http://www.w3.org/2000/svg\" xmlns:xlink=\"http://www.w3.org/1999/xlink\" contentScriptType=\"application/ecmascript\" contentStyleType=\"text/css\" height=\"12px\" preserveAspectRatio=\"none\" style=\"width:12px;height:12px;\" version=\"1.1\" viewBox=\"0 0 12 12\" width=\"12px\" zoomAndPan=\"magnify\"><defs/><g><!--MD5=[896ac0e7a515d8dd7765a661cb4ee08b]\n",
       "@startuml\r\n",
       "skinparam linetype polyline\r\n",
       "skinparam monochrome true\r\n",
       "skinparam classbackgroundcolor white\r\n",
       "skinparam shadowing false\r\n",
       "skinparam wrapWidth 300\r\n",
       "hide circle\r\n",
       "\r\n",
       "@enduml\r\n",
       "\n",
       "PlantUML version 1.2020.13(Sat Jun 13 12:26:38 UTC 2020)\n",
       "(EPL source distribution)\n",
       "Java Runtime: OpenJDK Runtime Environment\n",
       "JVM: OpenJDK 64-Bit Server VM\n",
       "Default Encoding: UTF-8\n",
       "Language: en\n",
       "Country: null\n",
       "--></g></svg>"
      ]
     },
     "execution_count": 11,
     "metadata": {},
     "output_type": "execute_result"
    }
   ],
   "source": [
    "%viz --style=\"POLYLINE\" --view=\"State\" \"CircularImport\""
   ]
  },
  {
   "cell_type": "code",
   "execution_count": 12,
   "id": "d6b65c8a",
   "metadata": {
    "execution": {
     "iopub.execute_input": "2021-09-27T07:16:34.951362Z",
     "iopub.status.busy": "2021-09-27T07:16:34.950971Z",
     "iopub.status.idle": "2021-09-27T07:16:34.993838Z",
     "shell.execute_reply": "2021-09-27T07:16:34.994152Z"
    }
   },
   "outputs": [
    {
     "data": {
      "image/svg+xml": [
       "<?xml version=\"1.0\" encoding=\"UTF-8\" standalone=\"no\"?><svg xmlns=\"http://www.w3.org/2000/svg\" xmlns:xlink=\"http://www.w3.org/1999/xlink\" contentScriptType=\"application/ecmascript\" contentStyleType=\"text/css\" height=\"179px\" preserveAspectRatio=\"none\" style=\"width:846px;height:179px;\" version=\"1.1\" viewBox=\"0 0 846 179\" width=\"846px\" zoomAndPan=\"magnify\"><defs/><g><!--MD5=[fbc87193dbaf4d95561dea2c320d4a47]\n",
       "cluster E1--><a href=\"psysml:7332441d-5859-4b68-88e6-44e4d7acfbc9\" target=\"_top\" title=\"psysml:7332441d-5859-4b68-88e6-44e4d7acfbc9\" xlink:actuate=\"onRequest\" xlink:href=\"psysml:7332441d-5859-4b68-88e6-44e4d7acfbc9\" xlink:show=\"new\" xlink:title=\"psysml:7332441d-5859-4b68-88e6-44e4d7acfbc9\" xlink:type=\"simple\"><polygon fill=\"#FFFFFF\" points=\"16,6,117,6,124,28.2969,824,28.2969,824,167,16,167,16,6\" style=\"stroke: #000000; stroke-width: 1.5;\"/><line style=\"stroke: #000000; stroke-width: 1.5;\" x1=\"16\" x2=\"124\" y1=\"28.2969\" y2=\"28.2969\"/><text fill=\"#000000\" font-family=\"sans-serif\" font-size=\"14\" font-weight=\"bold\" lengthAdjust=\"spacingAndGlyphs\" textLength=\"95\" x=\"20\" y=\"20.9951\">CircularImport</text></a><!--MD5=[e4f7fae6ed58524ba242bb0b0d3be6b7]\n",
       "cluster E2--><a href=\"psysml:5f20ae7d-4d57-41a2-9907-55aa74d31ca3\" target=\"_top\" title=\"psysml:5f20ae7d-4d57-41a2-9907-55aa74d31ca3\" xlink:actuate=\"onRequest\" xlink:href=\"psysml:5f20ae7d-4d57-41a2-9907-55aa74d31ca3\" xlink:show=\"new\" xlink:title=\"psysml:5f20ae7d-4d57-41a2-9907-55aa74d31ca3\" xlink:type=\"simple\"><polygon fill=\"#FFFFFF\" points=\"696,49,720,49,727,71.2969,800,71.2969,800,143,696,143,696,49\" style=\"stroke: #000000; stroke-width: 1.5;\"/><line style=\"stroke: #000000; stroke-width: 1.5;\" x1=\"696\" x2=\"727\" y1=\"71.2969\" y2=\"71.2969\"/><text fill=\"#000000\" font-family=\"sans-serif\" font-size=\"14\" font-weight=\"bold\" lengthAdjust=\"spacingAndGlyphs\" textLength=\"18\" x=\"700\" y=\"63.9951\">P1</text></a><!--MD5=[f6df4d0ebaf0b5dfb2ced0ae5af7c670]\n",
       "cluster E4--><a href=\"psysml:ebcd3975-b264-4248-9466-34d42d3f68ce\" target=\"_top\" title=\"psysml:ebcd3975-b264-4248-9466-34d42d3f68ce\" xlink:actuate=\"onRequest\" xlink:href=\"psysml:ebcd3975-b264-4248-9466-34d42d3f68ce\" xlink:show=\"new\" xlink:title=\"psysml:ebcd3975-b264-4248-9466-34d42d3f68ce\" xlink:type=\"simple\"><polygon fill=\"#FFFFFF\" points=\"568,49,592,49,599,71.2969,672,71.2969,672,143,568,143,568,49\" style=\"stroke: #000000; stroke-width: 1.5;\"/><line style=\"stroke: #000000; stroke-width: 1.5;\" x1=\"568\" x2=\"599\" y1=\"71.2969\" y2=\"71.2969\"/><text fill=\"#000000\" font-family=\"sans-serif\" font-size=\"14\" font-weight=\"bold\" lengthAdjust=\"spacingAndGlyphs\" textLength=\"18\" x=\"572\" y=\"63.9951\">P2</text></a><!--MD5=[14e3b0961a2654348d326746436168a1]\n",
       "cluster E6--><a href=\"psysml:da6ad505-2daa-495a-83b8-d3ba9d2de3a4\" target=\"_top\" title=\"psysml:da6ad505-2daa-495a-83b8-d3ba9d2de3a4\" xlink:actuate=\"onRequest\" xlink:href=\"psysml:da6ad505-2daa-495a-83b8-d3ba9d2de3a4\" xlink:show=\"new\" xlink:title=\"psysml:da6ad505-2daa-495a-83b8-d3ba9d2de3a4\" xlink:type=\"simple\"><polygon fill=\"#FFFFFF\" points=\"377,50.5,423,50.5,430,72.7969,544,72.7969,544,141.5,377,141.5,377,50.5\" style=\"stroke: #000000; stroke-width: 1.5;\"/><line style=\"stroke: #000000; stroke-width: 1.5;\" x1=\"377\" x2=\"430\" y1=\"72.7969\" y2=\"72.7969\"/><text fill=\"#000000\" font-family=\"sans-serif\" font-size=\"14\" font-weight=\"bold\" lengthAdjust=\"spacingAndGlyphs\" textLength=\"40\" x=\"381\" y=\"65.4951\">Test1</text></a><!--MD5=[7f149f147074ac12df2cb0a7728a5fb0]\n",
       "cluster E9--><a href=\"psysml:b0babda1-ae00-488b-8e87-1a86d4c9a0c6\" target=\"_top\" title=\"psysml:b0babda1-ae00-488b-8e87-1a86d4c9a0c6\" xlink:actuate=\"onRequest\" xlink:href=\"psysml:b0babda1-ae00-488b-8e87-1a86d4c9a0c6\" xlink:show=\"new\" xlink:title=\"psysml:b0babda1-ae00-488b-8e87-1a86d4c9a0c6\" xlink:type=\"simple\"><polygon fill=\"#FFFFFF\" points=\"186,50.5,232,50.5,239,72.7969,353,72.7969,353,141.5,186,141.5,186,50.5\" style=\"stroke: #000000; stroke-width: 1.5;\"/><line style=\"stroke: #000000; stroke-width: 1.5;\" x1=\"186\" x2=\"239\" y1=\"72.7969\" y2=\"72.7969\"/><text fill=\"#000000\" font-family=\"sans-serif\" font-size=\"14\" font-weight=\"bold\" lengthAdjust=\"spacingAndGlyphs\" textLength=\"40\" x=\"190\" y=\"65.4951\">Test2</text></a><g id=\"E1.E2.E3\"><a href=\"psysml:a77b04ef-8587-44c9-8b7f-efa23f8b51b3\" target=\"_top\" title=\"psysml:a77b04ef-8587-44c9-8b7f-efa23f8b51b3\" xlink:actuate=\"onRequest\" xlink:href=\"psysml:a77b04ef-8587-44c9-8b7f-efa23f8b51b3\" xlink:show=\"new\" xlink:title=\"psysml:a77b04ef-8587-44c9-8b7f-efa23f8b51b3\" xlink:type=\"simple\"><rect fill=\"#FFFFFF\" height=\"42.9375\" id=\"E3\" style=\"stroke: #383838; stroke-width: 1.5;\" width=\"71\" x=\"712.5\" y=\"84\"/><rect fill=\"#F8F8F8\" height=\"37.9375\" style=\"stroke: #383838; stroke-width: 1.5;\" width=\"71\" x=\"712.5\" y=\"84\"/><text fill=\"#000000\" font-family=\"sans-serif\" font-size=\"12\" font-style=\"italic\" lengthAdjust=\"spacingAndGlyphs\" textLength=\"64\" x=\"716\" y=\"100.1387\">«part def»</text><text fill=\"#000000\" font-family=\"sans-serif\" font-size=\"12\" lengthAdjust=\"spacingAndGlyphs\" textLength=\"8\" x=\"744\" y=\"114.1074\">A</text></a></g><g id=\"E1.E4.E5\"><a href=\"psysml:0236a647-9823-419e-b974-acac8cdc5ece\" target=\"_top\" title=\"psysml:0236a647-9823-419e-b974-acac8cdc5ece\" xlink:actuate=\"onRequest\" xlink:href=\"psysml:0236a647-9823-419e-b974-acac8cdc5ece\" xlink:show=\"new\" xlink:title=\"psysml:0236a647-9823-419e-b974-acac8cdc5ece\" xlink:type=\"simple\"><rect fill=\"#FFFFFF\" height=\"42.9375\" id=\"E5\" style=\"stroke: #383838; stroke-width: 1.5;\" width=\"71\" x=\"584.5\" y=\"84\"/><rect fill=\"#F8F8F8\" height=\"37.9375\" style=\"stroke: #383838; stroke-width: 1.5;\" width=\"71\" x=\"584.5\" y=\"84\"/><text fill=\"#000000\" font-family=\"sans-serif\" font-size=\"12\" font-style=\"italic\" lengthAdjust=\"spacingAndGlyphs\" textLength=\"64\" x=\"588\" y=\"100.1387\">«part def»</text><text fill=\"#000000\" font-family=\"sans-serif\" font-size=\"12\" lengthAdjust=\"spacingAndGlyphs\" textLength=\"8\" x=\"616\" y=\"114.1074\">B</text></a></g><g id=\"E1.E6.E7\"><a href=\"psysml:d9c30419-fa03-4224-9f9b-cc52ece95c03\" target=\"_top\" title=\"psysml:d9c30419-fa03-4224-9f9b-cc52ece95c03\" xlink:actuate=\"onRequest\" xlink:href=\"psysml:d9c30419-fa03-4224-9f9b-cc52ece95c03\" xlink:show=\"new\" xlink:title=\"psysml:d9c30419-fa03-4224-9f9b-cc52ece95c03\" xlink:type=\"simple\"><rect fill=\"#FFFFFF\" height=\"40\" id=\"E7\" rx=\"10\" ry=\"10\" style=\"stroke: #383838; stroke-width: 1.5;\" width=\"50\" x=\"478\" y=\"85.5\"/><rect fill=\"#F8F8F8\" height=\"23.9688\" rx=\"10\" ry=\"10\" style=\"stroke: #F8F8F8; stroke-width: 1.5;\" width=\"50\" x=\"478\" y=\"85.5\"/><rect fill=\"#F8F8F8\" height=\"10\" style=\"stroke: #F8F8F8; stroke-width: 1.5;\" width=\"50\" x=\"478\" y=\"99.4688\"/><rect fill=\"none\" height=\"40\" id=\"E7\" rx=\"10\" ry=\"10\" style=\"stroke: #383838; stroke-width: 1.5;\" width=\"50\" x=\"478\" y=\"85.5\"/><text fill=\"#000000\" font-family=\"sans-serif\" font-size=\"12\" lengthAdjust=\"spacingAndGlyphs\" textLength=\"22\" x=\"492\" y=\"101.6387\">x: A</text></a></g><g id=\"E1.E6.E8\"><a href=\"psysml:32c0d6a2-b48f-4756-bec9-ba81426d308d\" target=\"_top\" title=\"psysml:32c0d6a2-b48f-4756-bec9-ba81426d308d\" xlink:actuate=\"onRequest\" xlink:href=\"psysml:32c0d6a2-b48f-4756-bec9-ba81426d308d\" xlink:show=\"new\" xlink:title=\"psysml:32c0d6a2-b48f-4756-bec9-ba81426d308d\" xlink:type=\"simple\"><rect fill=\"#FFFFFF\" height=\"40\" id=\"E8\" rx=\"10\" ry=\"10\" style=\"stroke: #383838; stroke-width: 1.5;\" width=\"50\" x=\"393\" y=\"85.5\"/><rect fill=\"#F8F8F8\" height=\"23.9688\" rx=\"10\" ry=\"10\" style=\"stroke: #F8F8F8; stroke-width: 1.5;\" width=\"50\" x=\"393\" y=\"85.5\"/><rect fill=\"#F8F8F8\" height=\"10\" style=\"stroke: #F8F8F8; stroke-width: 1.5;\" width=\"50\" x=\"393\" y=\"99.4688\"/><rect fill=\"none\" height=\"40\" id=\"E8\" rx=\"10\" ry=\"10\" style=\"stroke: #383838; stroke-width: 1.5;\" width=\"50\" x=\"393\" y=\"85.5\"/><text fill=\"#000000\" font-family=\"sans-serif\" font-size=\"12\" lengthAdjust=\"spacingAndGlyphs\" textLength=\"22\" x=\"407\" y=\"101.6387\">y: B</text></a></g><g id=\"E1.E9.E10\"><a href=\"psysml:4b1ceaae-3a33-4edd-a713-ae072a8ba794\" target=\"_top\" title=\"psysml:4b1ceaae-3a33-4edd-a713-ae072a8ba794\" xlink:actuate=\"onRequest\" xlink:href=\"psysml:4b1ceaae-3a33-4edd-a713-ae072a8ba794\" xlink:show=\"new\" xlink:title=\"psysml:4b1ceaae-3a33-4edd-a713-ae072a8ba794\" xlink:type=\"simple\"><rect fill=\"#FFFFFF\" height=\"40\" id=\"E10\" rx=\"10\" ry=\"10\" style=\"stroke: #383838; stroke-width: 1.5;\" width=\"50\" x=\"287\" y=\"85.5\"/><rect fill=\"#F8F8F8\" height=\"23.9688\" rx=\"10\" ry=\"10\" style=\"stroke: #F8F8F8; stroke-width: 1.5;\" width=\"50\" x=\"287\" y=\"85.5\"/><rect fill=\"#F8F8F8\" height=\"10\" style=\"stroke: #F8F8F8; stroke-width: 1.5;\" width=\"50\" x=\"287\" y=\"99.4688\"/><rect fill=\"none\" height=\"40\" id=\"E10\" rx=\"10\" ry=\"10\" style=\"stroke: #383838; stroke-width: 1.5;\" width=\"50\" x=\"287\" y=\"85.5\"/><text fill=\"#000000\" font-family=\"sans-serif\" font-size=\"12\" lengthAdjust=\"spacingAndGlyphs\" textLength=\"22\" x=\"301\" y=\"101.6387\">x: A</text></a></g><g id=\"E1.E9.E11\"><a href=\"psysml:8a3e0fcf-a1f5-42bd-9af7-3ab68d312f86\" target=\"_top\" title=\"psysml:8a3e0fcf-a1f5-42bd-9af7-3ab68d312f86\" xlink:actuate=\"onRequest\" xlink:href=\"psysml:8a3e0fcf-a1f5-42bd-9af7-3ab68d312f86\" xlink:show=\"new\" xlink:title=\"psysml:8a3e0fcf-a1f5-42bd-9af7-3ab68d312f86\" xlink:type=\"simple\"><rect fill=\"#FFFFFF\" height=\"40\" id=\"E11\" rx=\"10\" ry=\"10\" style=\"stroke: #383838; stroke-width: 1.5;\" width=\"50\" x=\"202\" y=\"85.5\"/><rect fill=\"#F8F8F8\" height=\"23.9688\" rx=\"10\" ry=\"10\" style=\"stroke: #F8F8F8; stroke-width: 1.5;\" width=\"50\" x=\"202\" y=\"85.5\"/><rect fill=\"#F8F8F8\" height=\"10\" style=\"stroke: #F8F8F8; stroke-width: 1.5;\" width=\"50\" x=\"202\" y=\"99.4688\"/><rect fill=\"none\" height=\"40\" id=\"E11\" rx=\"10\" ry=\"10\" style=\"stroke: #383838; stroke-width: 1.5;\" width=\"50\" x=\"202\" y=\"85.5\"/><text fill=\"#000000\" font-family=\"sans-serif\" font-size=\"12\" lengthAdjust=\"spacingAndGlyphs\" textLength=\"22\" x=\"216\" y=\"101.6387\">y: B</text></a></g><g id=\"E1.E12\"><a href=\"psysml:be17b73a-3dde-44ce-ab8b-a0409ce39ee3\" target=\"_top\" title=\"psysml:be17b73a-3dde-44ce-ab8b-a0409ce39ee3\" xlink:actuate=\"onRequest\" xlink:href=\"psysml:be17b73a-3dde-44ce-ab8b-a0409ce39ee3\" xlink:show=\"new\" xlink:title=\"psysml:be17b73a-3dde-44ce-ab8b-a0409ce39ee3\" xlink:type=\"simple\"><rect fill=\"#FFFFFF\" height=\"40\" id=\"E12\" rx=\"10\" ry=\"10\" style=\"stroke: #383838; stroke-width: 1.5;\" width=\"50\" x=\"117\" y=\"85.5\"/><rect fill=\"#F8F8F8\" height=\"23.9688\" rx=\"10\" ry=\"10\" style=\"stroke: #F8F8F8; stroke-width: 1.5;\" width=\"50\" x=\"117\" y=\"85.5\"/><rect fill=\"#F8F8F8\" height=\"10\" style=\"stroke: #F8F8F8; stroke-width: 1.5;\" width=\"50\" x=\"117\" y=\"99.4688\"/><rect fill=\"none\" height=\"40\" id=\"E12\" rx=\"10\" ry=\"10\" style=\"stroke: #383838; stroke-width: 1.5;\" width=\"50\" x=\"117\" y=\"85.5\"/><text fill=\"#000000\" font-family=\"sans-serif\" font-size=\"12\" lengthAdjust=\"spacingAndGlyphs\" textLength=\"22\" x=\"131\" y=\"101.6387\">x: A</text></a></g><g id=\"E1.E13\"><a href=\"psysml:70775e2d-ada4-46b3-b3bb-1618b7e606cf\" target=\"_top\" title=\"psysml:70775e2d-ada4-46b3-b3bb-1618b7e606cf\" xlink:actuate=\"onRequest\" xlink:href=\"psysml:70775e2d-ada4-46b3-b3bb-1618b7e606cf\" xlink:show=\"new\" xlink:title=\"psysml:70775e2d-ada4-46b3-b3bb-1618b7e606cf\" xlink:type=\"simple\"><rect fill=\"#FFFFFF\" height=\"40\" id=\"E13\" rx=\"10\" ry=\"10\" style=\"stroke: #383838; stroke-width: 1.5;\" width=\"50\" x=\"32\" y=\"85.5\"/><rect fill=\"#F8F8F8\" height=\"23.9688\" rx=\"10\" ry=\"10\" style=\"stroke: #F8F8F8; stroke-width: 1.5;\" width=\"50\" x=\"32\" y=\"85.5\"/><rect fill=\"#F8F8F8\" height=\"10\" style=\"stroke: #F8F8F8; stroke-width: 1.5;\" width=\"50\" x=\"32\" y=\"99.4688\"/><rect fill=\"none\" height=\"40\" id=\"E13\" rx=\"10\" ry=\"10\" style=\"stroke: #383838; stroke-width: 1.5;\" width=\"50\" x=\"32\" y=\"85.5\"/><text fill=\"#000000\" font-family=\"sans-serif\" font-size=\"12\" lengthAdjust=\"spacingAndGlyphs\" textLength=\"22\" x=\"46\" y=\"101.6387\">y: B</text></a></g><!--MD5=[b6695a89a29863e5a07f6c38346907f4]\n",
       "@startuml\r\n",
       "skinparam ranksep 10\r\n",
       "skinparam rectangle {\r\n",
       " backgroundColor<<block>> LightGreen\r\n",
       "}\r\n",
       "skinparam linetype polyline\r\n",
       "skinparam monochrome true\r\n",
       "skinparam classbackgroundcolor white\r\n",
       "skinparam shadowing false\r\n",
       "skinparam wrapWidth 300\r\n",
       "hide circle\r\n",
       "\r\n",
       "package \"CircularImport\" as E1  [[psysml:7332441d-5859-4b68-88e6-44e4d7acfbc9 ]]  {\r\n",
       "package \"P1\" as E2  [[psysml:5f20ae7d-4d57-41a2-9907-55aa74d31ca3 ]]  {\r\n",
       "rec def \"A\" as E3  <<(T,blue) part def>> [[psysml:a77b04ef-8587-44c9-8b7f-efa23f8b51b3 ]] {\r\n",
       "}\r\n",
       "}\r\n",
       "package \"P2\" as E4  [[psysml:ebcd3975-b264-4248-9466-34d42d3f68ce ]]  {\r\n",
       "rec def \"B\" as E5  <<(T,blue) part def>> [[psysml:0236a647-9823-419e-b974-acac8cdc5ece ]] {\r\n",
       "}\r\n",
       "}\r\n",
       "package \"Test1\" as E6  [[psysml:da6ad505-2daa-495a-83b8-d3ba9d2de3a4 ]]  {\r\n",
       "rec usage \"x: A\" as E7  [[psysml:d9c30419-fa03-4224-9f9b-cc52ece95c03 ]] {\r\n",
       "}\r\n",
       "rec usage \"y: B\" as E8  [[psysml:32c0d6a2-b48f-4756-bec9-ba81426d308d ]] {\r\n",
       "}\r\n",
       "}\r\n",
       "package \"Test2\" as E9  [[psysml:b0babda1-ae00-488b-8e87-1a86d4c9a0c6 ]]  {\r\n",
       "rec usage \"x: A\" as E10  [[psysml:4b1ceaae-3a33-4edd-a713-ae072a8ba794 ]] {\r\n",
       "}\r\n",
       "rec usage \"y: B\" as E11  [[psysml:8a3e0fcf-a1f5-42bd-9af7-3ab68d312f86 ]] {\r\n",
       "}\r\n",
       "}\r\n",
       "rec usage \"x: A\" as E12  [[psysml:be17b73a-3dde-44ce-ab8b-a0409ce39ee3 ]] {\r\n",
       "}\r\n",
       "rec usage \"y: B\" as E13  [[psysml:70775e2d-ada4-46b3-b3bb-1618b7e606cf ]] {\r\n",
       "}\r\n",
       "}\r\n",
       "@enduml\r\n",
       "\n",
       "PlantUML version 1.2020.13(Sat Jun 13 12:26:38 UTC 2020)\n",
       "(EPL source distribution)\n",
       "Java Runtime: OpenJDK Runtime Environment\n",
       "JVM: OpenJDK 64-Bit Server VM\n",
       "Default Encoding: UTF-8\n",
       "Language: en\n",
       "Country: null\n",
       "--></g></svg>"
      ]
     },
     "execution_count": 12,
     "metadata": {},
     "output_type": "execute_result"
    }
   ],
   "source": [
    "%viz --style=\"POLYLINE\" --view=\"Interconnection\" \"CircularImport\""
   ]
  },
  {
   "cell_type": "code",
   "execution_count": 13,
   "id": "d8e8cef9",
   "metadata": {
    "execution": {
     "iopub.execute_input": "2021-09-27T07:16:35.044694Z",
     "iopub.status.busy": "2021-09-27T07:16:35.044291Z",
     "iopub.status.idle": "2021-09-27T07:16:35.048287Z",
     "shell.execute_reply": "2021-09-27T07:16:35.047943Z"
    }
   },
   "outputs": [
    {
     "data": {
      "image/svg+xml": [
       "<?xml version=\"1.0\" encoding=\"UTF-8\" standalone=\"no\"?><svg xmlns=\"http://www.w3.org/2000/svg\" xmlns:xlink=\"http://www.w3.org/1999/xlink\" contentScriptType=\"application/ecmascript\" contentStyleType=\"text/css\" height=\"12px\" preserveAspectRatio=\"none\" style=\"width:12px;height:12px;\" version=\"1.1\" viewBox=\"0 0 12 12\" width=\"12px\" zoomAndPan=\"magnify\"><defs/><g><!--MD5=[97bbf32f66ccd50cbc40d92ea8f5a65e]\n",
       "@startuml\r\n",
       "skinparam ranksep 8\r\n",
       "skinparam linetype polyline\r\n",
       "skinparam monochrome true\r\n",
       "skinparam classbackgroundcolor white\r\n",
       "skinparam shadowing false\r\n",
       "skinparam wrapWidth 300\r\n",
       "hide circle\r\n",
       "\r\n",
       "@enduml\r\n",
       "\n",
       "PlantUML version 1.2020.13(Sat Jun 13 12:26:38 UTC 2020)\n",
       "(EPL source distribution)\n",
       "Java Runtime: OpenJDK Runtime Environment\n",
       "JVM: OpenJDK 64-Bit Server VM\n",
       "Default Encoding: UTF-8\n",
       "Language: en\n",
       "Country: null\n",
       "--></g></svg>"
      ]
     },
     "execution_count": 13,
     "metadata": {},
     "output_type": "execute_result"
    }
   ],
   "source": [
    "%viz --style=\"POLYLINE\" --view=\"Action\" \"CircularImport\""
   ]
  },
  {
   "cell_type": "code",
   "execution_count": 14,
   "id": "7a599642",
   "metadata": {
    "execution": {
     "iopub.execute_input": "2021-09-27T07:16:35.098375Z",
     "iopub.status.busy": "2021-09-27T07:16:35.097981Z",
     "iopub.status.idle": "2021-09-27T07:16:35.105846Z",
     "shell.execute_reply": "2021-09-27T07:16:35.106156Z"
    }
   },
   "outputs": [
    {
     "data": {
      "image/svg+xml": [
       "<?xml version=\"1.0\" encoding=\"UTF-8\" standalone=\"no\"?><svg xmlns=\"http://www.w3.org/2000/svg\" xmlns:xlink=\"http://www.w3.org/1999/xlink\" contentScriptType=\"application/ecmascript\" contentStyleType=\"text/css\" height=\"12px\" preserveAspectRatio=\"none\" style=\"width:12px;height:12px;\" version=\"1.1\" viewBox=\"0 0 12 12\" width=\"12px\" zoomAndPan=\"magnify\"><defs/><g><!--MD5=[dc938048236c351797870c36b62f92ad]\n",
       "@startuml\r\n",
       "skinparam roundcorner 20\r\n",
       "skinparam BoxPadding 20\r\n",
       "skinparam SequenceBoxBackgroundColor #white\r\n",
       "skinparam style strictuml\r\n",
       "skinparam maxMessageSize 100\r\n",
       "skinparam linetype polyline\r\n",
       "skinparam monochrome true\r\n",
       "skinparam classbackgroundcolor white\r\n",
       "skinparam shadowing false\r\n",
       "skinparam wrapWidth 300\r\n",
       "hide circle\r\n",
       "\r\n",
       "@enduml\r\n",
       "\n",
       "PlantUML version 1.2020.13(Sat Jun 13 12:26:38 UTC 2020)\n",
       "(EPL source distribution)\n",
       "Java Runtime: OpenJDK Runtime Environment\n",
       "JVM: OpenJDK 64-Bit Server VM\n",
       "Default Encoding: UTF-8\n",
       "Language: en\n",
       "Country: null\n",
       "--></g></svg>"
      ]
     },
     "execution_count": 14,
     "metadata": {},
     "output_type": "execute_result"
    }
   ],
   "source": [
    "%viz --style=\"POLYLINE\" --view=\"Sequence\" \"CircularImport\""
   ]
  },
  {
   "cell_type": "code",
   "execution_count": 15,
   "id": "565169ca",
   "metadata": {
    "execution": {
     "iopub.execute_input": "2021-09-27T07:16:35.156417Z",
     "iopub.status.busy": "2021-09-27T07:16:35.156022Z",
     "iopub.status.idle": "2021-09-27T07:16:35.205465Z",
     "shell.execute_reply": "2021-09-27T07:16:35.205775Z"
    }
   },
   "outputs": [
    {
     "data": {
      "image/svg+xml": [
       "<?xml version=\"1.0\" encoding=\"UTF-8\" standalone=\"no\"?><svg xmlns=\"http://www.w3.org/2000/svg\" xmlns:xlink=\"http://www.w3.org/1999/xlink\" contentScriptType=\"application/ecmascript\" contentStyleType=\"text/css\" height=\"303px\" preserveAspectRatio=\"none\" style=\"width:518px;height:303px;\" version=\"1.1\" viewBox=\"0 0 518 303\" width=\"518px\" zoomAndPan=\"magnify\"><defs/><g><!--MD5=[fbc87193dbaf4d95561dea2c320d4a47]\n",
       "cluster E1--><a href=\"psysml:7332441d-5859-4b68-88e6-44e4d7acfbc9\" target=\"_top\" title=\"psysml:7332441d-5859-4b68-88e6-44e4d7acfbc9\" xlink:actuate=\"onRequest\" xlink:href=\"psysml:7332441d-5859-4b68-88e6-44e4d7acfbc9\" xlink:show=\"new\" xlink:title=\"psysml:7332441d-5859-4b68-88e6-44e4d7acfbc9\" xlink:type=\"simple\"><polygon fill=\"#FFFFFF\" points=\"16,6,117,6,124,28.2969,496,28.2969,496,291,16,291,16,6\" style=\"stroke: #000000; stroke-width: 1.5;\"/><line style=\"stroke: #000000; stroke-width: 1.5;\" x1=\"16\" x2=\"124\" y1=\"28.2969\" y2=\"28.2969\"/><text fill=\"#000000\" font-family=\"sans-serif\" font-size=\"14\" font-weight=\"bold\" lengthAdjust=\"spacingAndGlyphs\" textLength=\"95\" x=\"20\" y=\"20.9951\">CircularImport</text></a><!--MD5=[e4f7fae6ed58524ba242bb0b0d3be6b7]\n",
       "cluster E2--><a href=\"psysml:5f20ae7d-4d57-41a2-9907-55aa74d31ca3\" target=\"_top\" title=\"psysml:5f20ae7d-4d57-41a2-9907-55aa74d31ca3\" xlink:actuate=\"onRequest\" xlink:href=\"psysml:5f20ae7d-4d57-41a2-9907-55aa74d31ca3\" xlink:show=\"new\" xlink:title=\"psysml:5f20ae7d-4d57-41a2-9907-55aa74d31ca3\" xlink:type=\"simple\"><polygon fill=\"#FFFFFF\" points=\"333,170,357,170,364,192.2969,431,192.2969,431,267,333,267,333,170\" style=\"stroke: #000000; stroke-width: 1.5;\"/><line style=\"stroke: #000000; stroke-width: 1.5;\" x1=\"333\" x2=\"364\" y1=\"192.2969\" y2=\"192.2969\"/><text fill=\"#000000\" font-family=\"sans-serif\" font-size=\"14\" font-weight=\"bold\" lengthAdjust=\"spacingAndGlyphs\" textLength=\"18\" x=\"337\" y=\"184.9951\">P1</text></a><!--MD5=[f6df4d0ebaf0b5dfb2ced0ae5af7c670]\n",
       "cluster E4--><a href=\"psysml:ebcd3975-b264-4248-9466-34d42d3f68ce\" target=\"_top\" title=\"psysml:ebcd3975-b264-4248-9466-34d42d3f68ce\" xlink:actuate=\"onRequest\" xlink:href=\"psysml:ebcd3975-b264-4248-9466-34d42d3f68ce\" xlink:show=\"new\" xlink:title=\"psysml:ebcd3975-b264-4248-9466-34d42d3f68ce\" xlink:type=\"simple\"><polygon fill=\"#FFFFFF\" points=\"81,170,105,170,112,192.2969,179,192.2969,179,267,81,267,81,170\" style=\"stroke: #000000; stroke-width: 1.5;\"/><line style=\"stroke: #000000; stroke-width: 1.5;\" x1=\"81\" x2=\"112\" y1=\"192.2969\" y2=\"192.2969\"/><text fill=\"#000000\" font-family=\"sans-serif\" font-size=\"14\" font-weight=\"bold\" lengthAdjust=\"spacingAndGlyphs\" textLength=\"18\" x=\"85\" y=\"184.9951\">P2</text></a><!--MD5=[14e3b0961a2654348d326746436168a1]\n",
       "cluster E6--><a href=\"psysml:da6ad505-2daa-495a-83b8-d3ba9d2de3a4\" target=\"_top\" title=\"psysml:da6ad505-2daa-495a-83b8-d3ba9d2de3a4\" xlink:actuate=\"onRequest\" xlink:href=\"psysml:da6ad505-2daa-495a-83b8-d3ba9d2de3a4\" xlink:show=\"new\" xlink:title=\"psysml:da6ad505-2daa-495a-83b8-d3ba9d2de3a4\" xlink:type=\"simple\"><polygon fill=\"#FFFFFF\" points=\"268,49,314,49,321,71.2969,419,71.2969,419,146,268,146,268,49\" style=\"stroke: #000000; stroke-width: 1.5;\"/><line style=\"stroke: #000000; stroke-width: 1.5;\" x1=\"268\" x2=\"321\" y1=\"71.2969\" y2=\"71.2969\"/><text fill=\"#000000\" font-family=\"sans-serif\" font-size=\"14\" font-weight=\"bold\" lengthAdjust=\"spacingAndGlyphs\" textLength=\"40\" x=\"272\" y=\"63.9951\">Test1</text></a><!--MD5=[7f149f147074ac12df2cb0a7728a5fb0]\n",
       "cluster E9--><a href=\"psysml:b0babda1-ae00-488b-8e87-1a86d4c9a0c6\" target=\"_top\" title=\"psysml:b0babda1-ae00-488b-8e87-1a86d4c9a0c6\" xlink:actuate=\"onRequest\" xlink:href=\"psysml:b0babda1-ae00-488b-8e87-1a86d4c9a0c6\" xlink:show=\"new\" xlink:title=\"psysml:b0babda1-ae00-488b-8e87-1a86d4c9a0c6\" xlink:type=\"simple\"><polygon fill=\"#FFFFFF\" points=\"93,49,139,49,146,71.2969,244,71.2969,244,146,93,146,93,49\" style=\"stroke: #000000; stroke-width: 1.5;\"/><line style=\"stroke: #000000; stroke-width: 1.5;\" x1=\"93\" x2=\"146\" y1=\"71.2969\" y2=\"71.2969\"/><text fill=\"#000000\" font-family=\"sans-serif\" font-size=\"14\" font-weight=\"bold\" lengthAdjust=\"spacingAndGlyphs\" textLength=\"40\" x=\"97\" y=\"63.9951\">Test2</text></a><!--MD5=[49a0ec8f00dab7302a31f22d0f0fe584]\n",
       "class E12--><a href=\"psysml:be17b73a-3dde-44ce-ab8b-a0409ce39ee3\" target=\"_top\" title=\"psysml:be17b73a-3dde-44ce-ab8b-a0409ce39ee3\" xlink:actuate=\"onRequest\" xlink:href=\"psysml:be17b73a-3dde-44ce-ab8b-a0409ce39ee3\" xlink:show=\"new\" xlink:title=\"psysml:be17b73a-3dde-44ce-ab8b-a0409ce39ee3\" xlink:type=\"simple\"><rect fill=\"#FFFFFF\" height=\"45.9375\" id=\"E12\" rx=\"10\" ry=\"10\" style=\"stroke: #383838; stroke-width: 1.5;\" width=\"42\" x=\"438\" y=\"84\"/><text fill=\"#000000\" font-family=\"sans-serif\" font-size=\"12\" font-style=\"italic\" lengthAdjust=\"spacingAndGlyphs\" textLength=\"40\" x=\"439\" y=\"100.1387\">«part»</text><text fill=\"#000000\" font-family=\"sans-serif\" font-size=\"12\" lengthAdjust=\"spacingAndGlyphs\" textLength=\"22\" x=\"448\" y=\"114.1074\">x: A</text><line style=\"stroke: #383838; stroke-width: 1.5;\" x1=\"439\" x2=\"479\" y1=\"121.9375\" y2=\"121.9375\"/></a><!--MD5=[ee3c913d1a06f366521f9ef512b67efe]\n",
       "class E13--><a href=\"psysml:70775e2d-ada4-46b3-b3bb-1618b7e606cf\" target=\"_top\" title=\"psysml:70775e2d-ada4-46b3-b3bb-1618b7e606cf\" xlink:actuate=\"onRequest\" xlink:href=\"psysml:70775e2d-ada4-46b3-b3bb-1618b7e606cf\" xlink:show=\"new\" xlink:title=\"psysml:70775e2d-ada4-46b3-b3bb-1618b7e606cf\" xlink:type=\"simple\"><rect fill=\"#FFFFFF\" height=\"45.9375\" id=\"E13\" rx=\"10\" ry=\"10\" style=\"stroke: #383838; stroke-width: 1.5;\" width=\"42\" x=\"32\" y=\"84\"/><text fill=\"#000000\" font-family=\"sans-serif\" font-size=\"12\" font-style=\"italic\" lengthAdjust=\"spacingAndGlyphs\" textLength=\"40\" x=\"33\" y=\"100.1387\">«part»</text><text fill=\"#000000\" font-family=\"sans-serif\" font-size=\"12\" lengthAdjust=\"spacingAndGlyphs\" textLength=\"22\" x=\"42\" y=\"114.1074\">y: B</text><line style=\"stroke: #383838; stroke-width: 1.5;\" x1=\"33\" x2=\"73\" y1=\"121.9375\" y2=\"121.9375\"/></a><!--MD5=[09b614a08d8cba4a07c9adeb5e0fee81]\n",
       "class E3--><a href=\"psysml:a77b04ef-8587-44c9-8b7f-efa23f8b51b3\" target=\"_top\" title=\"psysml:a77b04ef-8587-44c9-8b7f-efa23f8b51b3\" xlink:actuate=\"onRequest\" xlink:href=\"psysml:a77b04ef-8587-44c9-8b7f-efa23f8b51b3\" xlink:show=\"new\" xlink:title=\"psysml:a77b04ef-8587-44c9-8b7f-efa23f8b51b3\" xlink:type=\"simple\"><rect fill=\"#FFFFFF\" height=\"45.9375\" id=\"E3\" style=\"stroke: #383838; stroke-width: 1.5;\" width=\"66\" x=\"349\" y=\"205\"/><text fill=\"#000000\" font-family=\"sans-serif\" font-size=\"12\" font-style=\"italic\" lengthAdjust=\"spacingAndGlyphs\" textLength=\"64\" x=\"350\" y=\"221.1387\">«part def»</text><text fill=\"#000000\" font-family=\"sans-serif\" font-size=\"12\" lengthAdjust=\"spacingAndGlyphs\" textLength=\"8\" x=\"378\" y=\"235.1074\">A</text><line style=\"stroke: #383838; stroke-width: 1.5;\" x1=\"350\" x2=\"414\" y1=\"242.9375\" y2=\"242.9375\"/></a><!--MD5=[270fce915f116d4de14055a7c1d9a0f3]\n",
       "class E5--><a href=\"psysml:0236a647-9823-419e-b974-acac8cdc5ece\" target=\"_top\" title=\"psysml:0236a647-9823-419e-b974-acac8cdc5ece\" xlink:actuate=\"onRequest\" xlink:href=\"psysml:0236a647-9823-419e-b974-acac8cdc5ece\" xlink:show=\"new\" xlink:title=\"psysml:0236a647-9823-419e-b974-acac8cdc5ece\" xlink:type=\"simple\"><rect fill=\"#FFFFFF\" height=\"45.9375\" id=\"E5\" style=\"stroke: #383838; stroke-width: 1.5;\" width=\"66\" x=\"97\" y=\"205\"/><text fill=\"#000000\" font-family=\"sans-serif\" font-size=\"12\" font-style=\"italic\" lengthAdjust=\"spacingAndGlyphs\" textLength=\"64\" x=\"98\" y=\"221.1387\">«part def»</text><text fill=\"#000000\" font-family=\"sans-serif\" font-size=\"12\" lengthAdjust=\"spacingAndGlyphs\" textLength=\"8\" x=\"126\" y=\"235.1074\">B</text><line style=\"stroke: #383838; stroke-width: 1.5;\" x1=\"98\" x2=\"162\" y1=\"242.9375\" y2=\"242.9375\"/></a><!--MD5=[2156ba9850f5573cc1fc38a6a4b2f02b]\n",
       "class E7--><a href=\"psysml:d9c30419-fa03-4224-9f9b-cc52ece95c03\" target=\"_top\" title=\"psysml:d9c30419-fa03-4224-9f9b-cc52ece95c03\" xlink:actuate=\"onRequest\" xlink:href=\"psysml:d9c30419-fa03-4224-9f9b-cc52ece95c03\" xlink:show=\"new\" xlink:title=\"psysml:d9c30419-fa03-4224-9f9b-cc52ece95c03\" xlink:type=\"simple\"><rect fill=\"#FFFFFF\" height=\"45.9375\" id=\"E7\" rx=\"10\" ry=\"10\" style=\"stroke: #383838; stroke-width: 1.5;\" width=\"42\" x=\"361\" y=\"84\"/><text fill=\"#000000\" font-family=\"sans-serif\" font-size=\"12\" font-style=\"italic\" lengthAdjust=\"spacingAndGlyphs\" textLength=\"40\" x=\"362\" y=\"100.1387\">«part»</text><text fill=\"#000000\" font-family=\"sans-serif\" font-size=\"12\" lengthAdjust=\"spacingAndGlyphs\" textLength=\"22\" x=\"371\" y=\"114.1074\">x: A</text><line style=\"stroke: #383838; stroke-width: 1.5;\" x1=\"362\" x2=\"402\" y1=\"121.9375\" y2=\"121.9375\"/></a><!--MD5=[b9389687b975829384b498ac4b7476b2]\n",
       "class E8--><a href=\"psysml:32c0d6a2-b48f-4756-bec9-ba81426d308d\" target=\"_top\" title=\"psysml:32c0d6a2-b48f-4756-bec9-ba81426d308d\" xlink:actuate=\"onRequest\" xlink:href=\"psysml:32c0d6a2-b48f-4756-bec9-ba81426d308d\" xlink:show=\"new\" xlink:title=\"psysml:32c0d6a2-b48f-4756-bec9-ba81426d308d\" xlink:type=\"simple\"><rect fill=\"#FFFFFF\" height=\"45.9375\" id=\"E8\" rx=\"10\" ry=\"10\" style=\"stroke: #383838; stroke-width: 1.5;\" width=\"42\" x=\"284\" y=\"84\"/><text fill=\"#000000\" font-family=\"sans-serif\" font-size=\"12\" font-style=\"italic\" lengthAdjust=\"spacingAndGlyphs\" textLength=\"40\" x=\"285\" y=\"100.1387\">«part»</text><text fill=\"#000000\" font-family=\"sans-serif\" font-size=\"12\" lengthAdjust=\"spacingAndGlyphs\" textLength=\"22\" x=\"294\" y=\"114.1074\">y: B</text><line style=\"stroke: #383838; stroke-width: 1.5;\" x1=\"285\" x2=\"325\" y1=\"121.9375\" y2=\"121.9375\"/></a><!--MD5=[96f4274e9e20536e775497830990834d]\n",
       "class E10--><a href=\"psysml:4b1ceaae-3a33-4edd-a713-ae072a8ba794\" target=\"_top\" title=\"psysml:4b1ceaae-3a33-4edd-a713-ae072a8ba794\" xlink:actuate=\"onRequest\" xlink:href=\"psysml:4b1ceaae-3a33-4edd-a713-ae072a8ba794\" xlink:show=\"new\" xlink:title=\"psysml:4b1ceaae-3a33-4edd-a713-ae072a8ba794\" xlink:type=\"simple\"><rect fill=\"#FFFFFF\" height=\"45.9375\" id=\"E10\" rx=\"10\" ry=\"10\" style=\"stroke: #383838; stroke-width: 1.5;\" width=\"42\" x=\"186\" y=\"84\"/><text fill=\"#000000\" font-family=\"sans-serif\" font-size=\"12\" font-style=\"italic\" lengthAdjust=\"spacingAndGlyphs\" textLength=\"40\" x=\"187\" y=\"100.1387\">«part»</text><text fill=\"#000000\" font-family=\"sans-serif\" font-size=\"12\" lengthAdjust=\"spacingAndGlyphs\" textLength=\"22\" x=\"196\" y=\"114.1074\">x: A</text><line style=\"stroke: #383838; stroke-width: 1.5;\" x1=\"187\" x2=\"227\" y1=\"121.9375\" y2=\"121.9375\"/></a><!--MD5=[1dd1bfd58a279cf63c5f349dbc8fc6a1]\n",
       "class E11--><a href=\"psysml:8a3e0fcf-a1f5-42bd-9af7-3ab68d312f86\" target=\"_top\" title=\"psysml:8a3e0fcf-a1f5-42bd-9af7-3ab68d312f86\" xlink:actuate=\"onRequest\" xlink:href=\"psysml:8a3e0fcf-a1f5-42bd-9af7-3ab68d312f86\" xlink:show=\"new\" xlink:title=\"psysml:8a3e0fcf-a1f5-42bd-9af7-3ab68d312f86\" xlink:type=\"simple\"><rect fill=\"#FFFFFF\" height=\"45.9375\" id=\"E11\" rx=\"10\" ry=\"10\" style=\"stroke: #383838; stroke-width: 1.5;\" width=\"42\" x=\"109\" y=\"84\"/><text fill=\"#000000\" font-family=\"sans-serif\" font-size=\"12\" font-style=\"italic\" lengthAdjust=\"spacingAndGlyphs\" textLength=\"40\" x=\"110\" y=\"100.1387\">«part»</text><text fill=\"#000000\" font-family=\"sans-serif\" font-size=\"12\" lengthAdjust=\"spacingAndGlyphs\" textLength=\"22\" x=\"119\" y=\"114.1074\">y: B</text><line style=\"stroke: #383838; stroke-width: 1.5;\" x1=\"110\" x2=\"150\" y1=\"121.9375\" y2=\"121.9375\"/></a><!--MD5=[14ccda38c055a5c0da953d572bc50960]\n",
       "link E7 to E3--><a href=\"psysml:520b462f-0086-4fa2-a8c7-c457cfb393b0\" target=\"_top\" title=\"psysml:520b462f-0086-4fa2-a8c7-c457cfb393b0\" xlink:actuate=\"onRequest\" xlink:href=\"psysml:520b462f-0086-4fa2-a8c7-c457cfb393b0\" xlink:show=\"new\" xlink:title=\"psysml:520b462f-0086-4fa2-a8c7-c457cfb393b0\" xlink:type=\"simple\"><path d=\"M382,130.1 C382,145.37 382,166.16 382,184.57 \" fill=\"none\" id=\"E7-&gt;E3\" style=\"stroke: #383838; stroke-width: 1.0;\"/><polygon fill=\"#FFFFFF\" points=\"382,204.61,375,185.61,389,185.61,382,204.61\" style=\"stroke: #383838; stroke-width: 1.0;\"/><ellipse cx=\"377\" cy=\"179.91\" fill=\"#383838\" rx=\"2\" ry=\"2\" style=\"stroke: #383838; stroke-width: 1.0;\"/><ellipse cx=\"387\" cy=\"179.91\" fill=\"#383838\" rx=\"2\" ry=\"2\" style=\"stroke: #383838; stroke-width: 1.0;\"/></a><!--MD5=[1ccb2481ffa92f8d51a74ee30c51832a]\n",
       "link E8 to E5--><a href=\"psysml:7aecf3a3-7124-43a8-804d-679627dba63d\" target=\"_top\" title=\"psysml:7aecf3a3-7124-43a8-804d-679627dba63d\" xlink:actuate=\"onRequest\" xlink:href=\"psysml:7aecf3a3-7124-43a8-804d-679627dba63d\" xlink:show=\"new\" xlink:title=\"psysml:7aecf3a3-7124-43a8-804d-679627dba63d\" xlink:type=\"simple\"><path d=\"M283.67,124.09 C266.07,137.35 244,154 244,154 C244,154 210.8,175.26 180.23,194.83 \" fill=\"none\" id=\"E8-&gt;E5\" style=\"stroke: #383838; stroke-width: 1.0;\"/><polygon fill=\"#FFFFFF\" points=\"163.28,205.69,175.5055,189.5488,183.0554,201.3386,163.28,205.69\" style=\"stroke: #383838; stroke-width: 1.0;\"/><ellipse cx=\"181.3842\" cy=\"188.1592\" fill=\"#383838\" rx=\"2\" ry=\"2\" style=\"stroke: #383838; stroke-width: 1.0;\"/><ellipse cx=\"186.777\" cy=\"196.5805\" fill=\"#383838\" rx=\"2\" ry=\"2\" style=\"stroke: #383838; stroke-width: 1.0;\"/></a><!--MD5=[feeac5eb423634930294aa81f2d25a4c]\n",
       "link E10 to E3--><a href=\"psysml:fd0acd65-b864-4a8e-8ff2-cbce99549eac\" target=\"_top\" title=\"psysml:fd0acd65-b864-4a8e-8ff2-cbce99549eac\" xlink:actuate=\"onRequest\" xlink:href=\"psysml:fd0acd65-b864-4a8e-8ff2-cbce99549eac\" xlink:show=\"new\" xlink:title=\"psysml:fd0acd65-b864-4a8e-8ff2-cbce99549eac\" xlink:type=\"simple\"><path d=\"M228.33,124.09 C245.93,137.35 268,154 268,154 C268,154 301.2,175.26 331.77,194.83 \" fill=\"none\" id=\"E10-&gt;E3\" style=\"stroke: #383838; stroke-width: 1.0;\"/><polygon fill=\"#FFFFFF\" points=\"348.72,205.69,328.9446,201.3386,336.4945,189.5488,348.72,205.69\" style=\"stroke: #383838; stroke-width: 1.0;\"/><ellipse cx=\"325.223\" cy=\"196.5805\" fill=\"#383838\" rx=\"2\" ry=\"2\" style=\"stroke: #383838; stroke-width: 1.0;\"/><ellipse cx=\"330.6158\" cy=\"188.1592\" fill=\"#383838\" rx=\"2\" ry=\"2\" style=\"stroke: #383838; stroke-width: 1.0;\"/></a><!--MD5=[07b77f6f309248d16187045709d1c26e]\n",
       "link E11 to E5--><a href=\"psysml:442cb8f2-ee4b-4dfa-8164-f495024e2707\" target=\"_top\" title=\"psysml:442cb8f2-ee4b-4dfa-8164-f495024e2707\" xlink:actuate=\"onRequest\" xlink:href=\"psysml:442cb8f2-ee4b-4dfa-8164-f495024e2707\" xlink:show=\"new\" xlink:title=\"psysml:442cb8f2-ee4b-4dfa-8164-f495024e2707\" xlink:type=\"simple\"><path d=\"M130,130.1 C130,145.37 130,166.16 130,184.57 \" fill=\"none\" id=\"E11-&gt;E5\" style=\"stroke: #383838; stroke-width: 1.0;\"/><polygon fill=\"#FFFFFF\" points=\"130,204.61,123,185.61,137,185.61,130,204.61\" style=\"stroke: #383838; stroke-width: 1.0;\"/><ellipse cx=\"125\" cy=\"179.91\" fill=\"#383838\" rx=\"2\" ry=\"2\" style=\"stroke: #383838; stroke-width: 1.0;\"/><ellipse cx=\"135\" cy=\"179.91\" fill=\"#383838\" rx=\"2\" ry=\"2\" style=\"stroke: #383838; stroke-width: 1.0;\"/></a><!--MD5=[39f41a0e550fb3d73b4d8135617e30a2]\n",
       "link E12 to E3--><a href=\"psysml:fab56a21-03ff-446d-9dd1-385c5373a3f2\" target=\"_top\" title=\"psysml:fab56a21-03ff-446d-9dd1-385c5373a3f2\" xlink:actuate=\"onRequest\" xlink:href=\"psysml:fab56a21-03ff-446d-9dd1-385c5373a3f2\" xlink:show=\"new\" xlink:title=\"psysml:fab56a21-03ff-446d-9dd1-385c5373a3f2\" xlink:type=\"simple\"><path d=\"M444.7,130.1 C434.28,146.2 419.89,168.44 407.53,187.55 \" fill=\"none\" id=\"E12-&gt;E3\" style=\"stroke: #383838; stroke-width: 1.0;\"/><polygon fill=\"#FFFFFF\" points=\"396.49,204.61,400.9313,184.8546,412.6866,192.4581,396.49,204.61\" style=\"stroke: #383838; stroke-width: 1.0;\"/><ellipse cx=\"405.7063\" cy=\"181.1547\" fill=\"#383838\" rx=\"2\" ry=\"2\" style=\"stroke: #383838; stroke-width: 1.0;\"/><ellipse cx=\"414.103\" cy=\"186.5858\" fill=\"#383838\" rx=\"2\" ry=\"2\" style=\"stroke: #383838; stroke-width: 1.0;\"/></a><!--MD5=[066b2d8af59fea80ccdb3d54ad5c1091]\n",
       "link E13 to E5--><a href=\"psysml:5cad6703-6f19-4c46-9c46-92acb368aec7\" target=\"_top\" title=\"psysml:5cad6703-6f19-4c46-9c46-92acb368aec7\" xlink:actuate=\"onRequest\" xlink:href=\"psysml:5cad6703-6f19-4c46-9c46-92acb368aec7\" xlink:show=\"new\" xlink:title=\"psysml:5cad6703-6f19-4c46-9c46-92acb368aec7\" xlink:type=\"simple\"><path d=\"M67.3,130.1 C77.72,146.2 92.11,168.44 104.47,187.55 \" fill=\"none\" id=\"E13-&gt;E5\" style=\"stroke: #383838; stroke-width: 1.0;\"/><polygon fill=\"#FFFFFF\" points=\"115.51,204.61,99.3134,192.4581,111.0687,184.8546,115.51,204.61\" style=\"stroke: #383838; stroke-width: 1.0;\"/><ellipse cx=\"97.897\" cy=\"186.5858\" fill=\"#383838\" rx=\"2\" ry=\"2\" style=\"stroke: #383838; stroke-width: 1.0;\"/><ellipse cx=\"106.2937\" cy=\"181.1547\" fill=\"#383838\" rx=\"2\" ry=\"2\" style=\"stroke: #383838; stroke-width: 1.0;\"/></a><!--MD5=[1a30c2a8d1e4c92423ff808bb569273f]\n",
       "@startuml\r\n",
       "skinparam linetype polyline\r\n",
       "skinparam monochrome true\r\n",
       "skinparam classbackgroundcolor white\r\n",
       "skinparam shadowing false\r\n",
       "skinparam wrapWidth 300\r\n",
       "hide circle\r\n",
       "\r\n",
       "package \"CircularImport\" as E1  [[psysml:7332441d-5859-4b68-88e6-44e4d7acfbc9 ]]  {\r\n",
       "package \"P1\" as E2  [[psysml:5f20ae7d-4d57-41a2-9907-55aa74d31ca3 ]]  {\r\n",
       "comp def \"A\" as E3  <<(T,blue) part def>> [[psysml:a77b04ef-8587-44c9-8b7f-efa23f8b51b3 ]] {\r\n",
       "}\r\n",
       "}\r\n",
       "package \"P2\" as E4  [[psysml:ebcd3975-b264-4248-9466-34d42d3f68ce ]]  {\r\n",
       "comp def \"B\" as E5  <<(T,blue) part def>> [[psysml:0236a647-9823-419e-b974-acac8cdc5ece ]] {\r\n",
       "}\r\n",
       "}\r\n",
       "package \"Test1\" as E6  [[psysml:da6ad505-2daa-495a-83b8-d3ba9d2de3a4 ]]  {\r\n",
       "comp usage \"x: A\" as E7  <<(T,blue) part>> [[psysml:d9c30419-fa03-4224-9f9b-cc52ece95c03 ]] {\r\n",
       "}\r\n",
       "comp usage \"y: B\" as E8  <<(T,blue) part>> [[psysml:32c0d6a2-b48f-4756-bec9-ba81426d308d ]] {\r\n",
       "}\r\n",
       "}\r\n",
       "package \"Test2\" as E9  [[psysml:b0babda1-ae00-488b-8e87-1a86d4c9a0c6 ]]  {\r\n",
       "comp usage \"x: A\" as E10  <<(T,blue) part>> [[psysml:4b1ceaae-3a33-4edd-a713-ae072a8ba794 ]] {\r\n",
       "}\r\n",
       "comp usage \"y: B\" as E11  <<(T,blue) part>> [[psysml:8a3e0fcf-a1f5-42bd-9af7-3ab68d312f86 ]] {\r\n",
       "}\r\n",
       "}\r\n",
       "comp usage \"x: A\" as E12  <<(T,blue) part>> [[psysml:be17b73a-3dde-44ce-ab8b-a0409ce39ee3 ]] {\r\n",
       "}\r\n",
       "comp usage \"y: B\" as E13  <<(T,blue) part>> [[psysml:70775e2d-ada4-46b3-b3bb-1618b7e606cf ]] {\r\n",
       "}\r\n",
       "}\r\n",
       "E7 - -:|> E3 [[psysml:520b462f-0086-4fa2-a8c7-c457cfb393b0 ]] \r\n",
       "E8 - -:|> E5 [[psysml:7aecf3a3-7124-43a8-804d-679627dba63d ]] \r\n",
       "E10 - -:|> E3 [[psysml:fd0acd65-b864-4a8e-8ff2-cbce99549eac ]] \r\n",
       "E11 - -:|> E5 [[psysml:442cb8f2-ee4b-4dfa-8164-f495024e2707 ]] \r\n",
       "E12 - -:|> E3 [[psysml:fab56a21-03ff-446d-9dd1-385c5373a3f2 ]] \r\n",
       "E13 - -:|> E5 [[psysml:5cad6703-6f19-4c46-9c46-92acb368aec7 ]] \r\n",
       "@enduml\r\n",
       "\n",
       "PlantUML version 1.2020.13(Sat Jun 13 12:26:38 UTC 2020)\n",
       "(EPL source distribution)\n",
       "Java Runtime: OpenJDK Runtime Environment\n",
       "JVM: OpenJDK 64-Bit Server VM\n",
       "Default Encoding: UTF-8\n",
       "Language: en\n",
       "Country: null\n",
       "--></g></svg>"
      ]
     },
     "execution_count": 15,
     "metadata": {},
     "output_type": "execute_result"
    }
   ],
   "source": [
    "%viz --style=\"POLYLINE\" --view=\"MIXED\" \"CircularImport\""
   ]
  },
  {
   "cell_type": "code",
   "execution_count": 16,
   "id": "2cda63cc",
   "metadata": {
    "execution": {
     "iopub.execute_input": "2021-09-27T07:16:35.256706Z",
     "iopub.status.busy": "2021-09-27T07:16:35.256302Z",
     "iopub.status.idle": "2021-09-27T07:16:35.301968Z",
     "shell.execute_reply": "2021-09-27T07:16:35.300581Z"
    }
   },
   "outputs": [
    {
     "data": {
      "image/svg+xml": [
       "<?xml version=\"1.0\" encoding=\"UTF-8\" standalone=\"no\"?><svg xmlns=\"http://www.w3.org/2000/svg\" xmlns:xlink=\"http://www.w3.org/1999/xlink\" contentScriptType=\"application/ecmascript\" contentStyleType=\"text/css\" height=\"576px\" preserveAspectRatio=\"none\" style=\"width:286px;height:576px;\" version=\"1.1\" viewBox=\"0 0 286 576\" width=\"286px\" zoomAndPan=\"magnify\"><defs/><g><!--MD5=[fbc87193dbaf4d95561dea2c320d4a47]\n",
       "cluster E1--><a href=\"psysml:7332441d-5859-4b68-88e6-44e4d7acfbc9\" target=\"_top\" title=\"psysml:7332441d-5859-4b68-88e6-44e4d7acfbc9\" xlink:actuate=\"onRequest\" xlink:href=\"psysml:7332441d-5859-4b68-88e6-44e4d7acfbc9\" xlink:show=\"new\" xlink:title=\"psysml:7332441d-5859-4b68-88e6-44e4d7acfbc9\" xlink:type=\"simple\"><polygon fill=\"#FFFFFF\" points=\"16,6,117,6,124,28.2969,264,28.2969,264,564,16,564,16,6\" style=\"stroke: #000000; stroke-width: 1.5;\"/><line style=\"stroke: #000000; stroke-width: 1.5;\" x1=\"16\" x2=\"124\" y1=\"28.2969\" y2=\"28.2969\"/><text fill=\"#000000\" font-family=\"sans-serif\" font-size=\"14\" font-weight=\"bold\" lengthAdjust=\"spacingAndGlyphs\" textLength=\"95\" x=\"20\" y=\"20.9951\">CircularImport</text></a><!--MD5=[e4f7fae6ed58524ba242bb0b0d3be6b7]\n",
       "cluster E2--><a href=\"psysml:5f20ae7d-4d57-41a2-9907-55aa74d31ca3\" target=\"_top\" title=\"psysml:5f20ae7d-4d57-41a2-9907-55aa74d31ca3\" xlink:actuate=\"onRequest\" xlink:href=\"psysml:5f20ae7d-4d57-41a2-9907-55aa74d31ca3\" xlink:show=\"new\" xlink:title=\"psysml:5f20ae7d-4d57-41a2-9907-55aa74d31ca3\" xlink:type=\"simple\"><polygon fill=\"#FFFFFF\" points=\"142,103,166,103,173,125.2969,240,125.2969,240,200,142,200,142,103\" style=\"stroke: #000000; stroke-width: 1.5;\"/><line style=\"stroke: #000000; stroke-width: 1.5;\" x1=\"142\" x2=\"173\" y1=\"125.2969\" y2=\"125.2969\"/><text fill=\"#000000\" font-family=\"sans-serif\" font-size=\"14\" font-weight=\"bold\" lengthAdjust=\"spacingAndGlyphs\" textLength=\"18\" x=\"146\" y=\"117.9951\">P1</text></a><!--MD5=[f6df4d0ebaf0b5dfb2ced0ae5af7c670]\n",
       "cluster E4--><a href=\"psysml:ebcd3975-b264-4248-9466-34d42d3f68ce\" target=\"_top\" title=\"psysml:ebcd3975-b264-4248-9466-34d42d3f68ce\" xlink:actuate=\"onRequest\" xlink:href=\"psysml:ebcd3975-b264-4248-9466-34d42d3f68ce\" xlink:show=\"new\" xlink:title=\"psysml:ebcd3975-b264-4248-9466-34d42d3f68ce\" xlink:type=\"simple\"><polygon fill=\"#FFFFFF\" points=\"142,386,166,386,173,408.2969,240,408.2969,240,483,142,483,142,386\" style=\"stroke: #000000; stroke-width: 1.5;\"/><line style=\"stroke: #000000; stroke-width: 1.5;\" x1=\"142\" x2=\"173\" y1=\"408.2969\" y2=\"408.2969\"/><text fill=\"#000000\" font-family=\"sans-serif\" font-size=\"14\" font-weight=\"bold\" lengthAdjust=\"spacingAndGlyphs\" textLength=\"18\" x=\"146\" y=\"400.9951\">P2</text></a><!--MD5=[14e3b0961a2654348d326746436168a1]\n",
       "cluster E6--><a href=\"psysml:da6ad505-2daa-495a-83b8-d3ba9d2de3a4\" target=\"_top\" title=\"psysml:da6ad505-2daa-495a-83b8-d3ba9d2de3a4\" xlink:actuate=\"onRequest\" xlink:href=\"psysml:da6ad505-2daa-495a-83b8-d3ba9d2de3a4\" xlink:show=\"new\" xlink:title=\"psysml:da6ad505-2daa-495a-83b8-d3ba9d2de3a4\" xlink:type=\"simple\"><polygon fill=\"#FFFFFF\" points=\"40,103,86,103,93,125.2969,114,125.2969,114,281,40,281,40,103\" style=\"stroke: #000000; stroke-width: 1.5;\"/><line style=\"stroke: #000000; stroke-width: 1.5;\" x1=\"40\" x2=\"93\" y1=\"125.2969\" y2=\"125.2969\"/><text fill=\"#000000\" font-family=\"sans-serif\" font-size=\"14\" font-weight=\"bold\" lengthAdjust=\"spacingAndGlyphs\" textLength=\"40\" x=\"44\" y=\"117.9951\">Test1</text></a><!--MD5=[7f149f147074ac12df2cb0a7728a5fb0]\n",
       "cluster E9--><a href=\"psysml:b0babda1-ae00-488b-8e87-1a86d4c9a0c6\" target=\"_top\" title=\"psysml:b0babda1-ae00-488b-8e87-1a86d4c9a0c6\" xlink:actuate=\"onRequest\" xlink:href=\"psysml:b0babda1-ae00-488b-8e87-1a86d4c9a0c6\" xlink:show=\"new\" xlink:title=\"psysml:b0babda1-ae00-488b-8e87-1a86d4c9a0c6\" xlink:type=\"simple\"><polygon fill=\"#FFFFFF\" points=\"40,305,86,305,93,327.2969,114,327.2969,114,483,40,483,40,305\" style=\"stroke: #000000; stroke-width: 1.5;\"/><line style=\"stroke: #000000; stroke-width: 1.5;\" x1=\"40\" x2=\"93\" y1=\"327.2969\" y2=\"327.2969\"/><text fill=\"#000000\" font-family=\"sans-serif\" font-size=\"14\" font-weight=\"bold\" lengthAdjust=\"spacingAndGlyphs\" textLength=\"40\" x=\"44\" y=\"319.9951\">Test2</text></a><!--MD5=[49a0ec8f00dab7302a31f22d0f0fe584]\n",
       "class E12--><a href=\"psysml:be17b73a-3dde-44ce-ab8b-a0409ce39ee3\" target=\"_top\" title=\"psysml:be17b73a-3dde-44ce-ab8b-a0409ce39ee3\" xlink:actuate=\"onRequest\" xlink:href=\"psysml:be17b73a-3dde-44ce-ab8b-a0409ce39ee3\" xlink:show=\"new\" xlink:title=\"psysml:be17b73a-3dde-44ce-ab8b-a0409ce39ee3\" xlink:type=\"simple\"><rect fill=\"#FFFFFF\" height=\"45.9375\" id=\"E12\" rx=\"10\" ry=\"10\" style=\"stroke: #383838; stroke-width: 1.5;\" width=\"42\" x=\"56\" y=\"41\"/><text fill=\"#000000\" font-family=\"sans-serif\" font-size=\"12\" font-style=\"italic\" lengthAdjust=\"spacingAndGlyphs\" textLength=\"40\" x=\"57\" y=\"57.1387\">«part»</text><text fill=\"#000000\" font-family=\"sans-serif\" font-size=\"12\" lengthAdjust=\"spacingAndGlyphs\" textLength=\"22\" x=\"66\" y=\"71.1074\">x: A</text><line style=\"stroke: #383838; stroke-width: 1.5;\" x1=\"57\" x2=\"97\" y1=\"78.9375\" y2=\"78.9375\"/></a><!--MD5=[ee3c913d1a06f366521f9ef512b67efe]\n",
       "class E13--><a href=\"psysml:70775e2d-ada4-46b3-b3bb-1618b7e606cf\" target=\"_top\" title=\"psysml:70775e2d-ada4-46b3-b3bb-1618b7e606cf\" xlink:actuate=\"onRequest\" xlink:href=\"psysml:70775e2d-ada4-46b3-b3bb-1618b7e606cf\" xlink:show=\"new\" xlink:title=\"psysml:70775e2d-ada4-46b3-b3bb-1618b7e606cf\" xlink:type=\"simple\"><rect fill=\"#FFFFFF\" height=\"45.9375\" id=\"E13\" rx=\"10\" ry=\"10\" style=\"stroke: #383838; stroke-width: 1.5;\" width=\"42\" x=\"56\" y=\"502\"/><text fill=\"#000000\" font-family=\"sans-serif\" font-size=\"12\" font-style=\"italic\" lengthAdjust=\"spacingAndGlyphs\" textLength=\"40\" x=\"57\" y=\"518.1387\">«part»</text><text fill=\"#000000\" font-family=\"sans-serif\" font-size=\"12\" lengthAdjust=\"spacingAndGlyphs\" textLength=\"22\" x=\"66\" y=\"532.1074\">y: B</text><line style=\"stroke: #383838; stroke-width: 1.5;\" x1=\"57\" x2=\"97\" y1=\"539.9375\" y2=\"539.9375\"/></a><!--MD5=[09b614a08d8cba4a07c9adeb5e0fee81]\n",
       "class E3--><a href=\"psysml:a77b04ef-8587-44c9-8b7f-efa23f8b51b3\" target=\"_top\" title=\"psysml:a77b04ef-8587-44c9-8b7f-efa23f8b51b3\" xlink:actuate=\"onRequest\" xlink:href=\"psysml:a77b04ef-8587-44c9-8b7f-efa23f8b51b3\" xlink:show=\"new\" xlink:title=\"psysml:a77b04ef-8587-44c9-8b7f-efa23f8b51b3\" xlink:type=\"simple\"><rect fill=\"#FFFFFF\" height=\"45.9375\" id=\"E3\" style=\"stroke: #383838; stroke-width: 1.5;\" width=\"66\" x=\"158\" y=\"138\"/><text fill=\"#000000\" font-family=\"sans-serif\" font-size=\"12\" font-style=\"italic\" lengthAdjust=\"spacingAndGlyphs\" textLength=\"64\" x=\"159\" y=\"154.1387\">«part def»</text><text fill=\"#000000\" font-family=\"sans-serif\" font-size=\"12\" lengthAdjust=\"spacingAndGlyphs\" textLength=\"8\" x=\"187\" y=\"168.1074\">A</text><line style=\"stroke: #383838; stroke-width: 1.5;\" x1=\"159\" x2=\"223\" y1=\"175.9375\" y2=\"175.9375\"/></a><!--MD5=[270fce915f116d4de14055a7c1d9a0f3]\n",
       "class E5--><a href=\"psysml:0236a647-9823-419e-b974-acac8cdc5ece\" target=\"_top\" title=\"psysml:0236a647-9823-419e-b974-acac8cdc5ece\" xlink:actuate=\"onRequest\" xlink:href=\"psysml:0236a647-9823-419e-b974-acac8cdc5ece\" xlink:show=\"new\" xlink:title=\"psysml:0236a647-9823-419e-b974-acac8cdc5ece\" xlink:type=\"simple\"><rect fill=\"#FFFFFF\" height=\"45.9375\" id=\"E5\" style=\"stroke: #383838; stroke-width: 1.5;\" width=\"66\" x=\"158\" y=\"421\"/><text fill=\"#000000\" font-family=\"sans-serif\" font-size=\"12\" font-style=\"italic\" lengthAdjust=\"spacingAndGlyphs\" textLength=\"64\" x=\"159\" y=\"437.1387\">«part def»</text><text fill=\"#000000\" font-family=\"sans-serif\" font-size=\"12\" lengthAdjust=\"spacingAndGlyphs\" textLength=\"8\" x=\"187\" y=\"451.1074\">B</text><line style=\"stroke: #383838; stroke-width: 1.5;\" x1=\"159\" x2=\"223\" y1=\"458.9375\" y2=\"458.9375\"/></a><!--MD5=[2156ba9850f5573cc1fc38a6a4b2f02b]\n",
       "class E7--><a href=\"psysml:d9c30419-fa03-4224-9f9b-cc52ece95c03\" target=\"_top\" title=\"psysml:d9c30419-fa03-4224-9f9b-cc52ece95c03\" xlink:actuate=\"onRequest\" xlink:href=\"psysml:d9c30419-fa03-4224-9f9b-cc52ece95c03\" xlink:show=\"new\" xlink:title=\"psysml:d9c30419-fa03-4224-9f9b-cc52ece95c03\" xlink:type=\"simple\"><rect fill=\"#FFFFFF\" height=\"45.9375\" id=\"E7\" rx=\"10\" ry=\"10\" style=\"stroke: #383838; stroke-width: 1.5;\" width=\"42\" x=\"56\" y=\"138\"/><text fill=\"#000000\" font-family=\"sans-serif\" font-size=\"12\" font-style=\"italic\" lengthAdjust=\"spacingAndGlyphs\" textLength=\"40\" x=\"57\" y=\"154.1387\">«part»</text><text fill=\"#000000\" font-family=\"sans-serif\" font-size=\"12\" lengthAdjust=\"spacingAndGlyphs\" textLength=\"22\" x=\"66\" y=\"168.1074\">x: A</text><line style=\"stroke: #383838; stroke-width: 1.5;\" x1=\"57\" x2=\"97\" y1=\"175.9375\" y2=\"175.9375\"/></a><!--MD5=[b9389687b975829384b498ac4b7476b2]\n",
       "class E8--><a href=\"psysml:32c0d6a2-b48f-4756-bec9-ba81426d308d\" target=\"_top\" title=\"psysml:32c0d6a2-b48f-4756-bec9-ba81426d308d\" xlink:actuate=\"onRequest\" xlink:href=\"psysml:32c0d6a2-b48f-4756-bec9-ba81426d308d\" xlink:show=\"new\" xlink:title=\"psysml:32c0d6a2-b48f-4756-bec9-ba81426d308d\" xlink:type=\"simple\"><rect fill=\"#FFFFFF\" height=\"45.9375\" id=\"E8\" rx=\"10\" ry=\"10\" style=\"stroke: #383838; stroke-width: 1.5;\" width=\"42\" x=\"56\" y=\"219\"/><text fill=\"#000000\" font-family=\"sans-serif\" font-size=\"12\" font-style=\"italic\" lengthAdjust=\"spacingAndGlyphs\" textLength=\"40\" x=\"57\" y=\"235.1387\">«part»</text><text fill=\"#000000\" font-family=\"sans-serif\" font-size=\"12\" lengthAdjust=\"spacingAndGlyphs\" textLength=\"22\" x=\"66\" y=\"249.1074\">y: B</text><line style=\"stroke: #383838; stroke-width: 1.5;\" x1=\"57\" x2=\"97\" y1=\"256.9375\" y2=\"256.9375\"/></a><!--MD5=[96f4274e9e20536e775497830990834d]\n",
       "class E10--><a href=\"psysml:4b1ceaae-3a33-4edd-a713-ae072a8ba794\" target=\"_top\" title=\"psysml:4b1ceaae-3a33-4edd-a713-ae072a8ba794\" xlink:actuate=\"onRequest\" xlink:href=\"psysml:4b1ceaae-3a33-4edd-a713-ae072a8ba794\" xlink:show=\"new\" xlink:title=\"psysml:4b1ceaae-3a33-4edd-a713-ae072a8ba794\" xlink:type=\"simple\"><rect fill=\"#FFFFFF\" height=\"45.9375\" id=\"E10\" rx=\"10\" ry=\"10\" style=\"stroke: #383838; stroke-width: 1.5;\" width=\"42\" x=\"56\" y=\"340\"/><text fill=\"#000000\" font-family=\"sans-serif\" font-size=\"12\" font-style=\"italic\" lengthAdjust=\"spacingAndGlyphs\" textLength=\"40\" x=\"57\" y=\"356.1387\">«part»</text><text fill=\"#000000\" font-family=\"sans-serif\" font-size=\"12\" lengthAdjust=\"spacingAndGlyphs\" textLength=\"22\" x=\"66\" y=\"370.1074\">x: A</text><line style=\"stroke: #383838; stroke-width: 1.5;\" x1=\"57\" x2=\"97\" y1=\"377.9375\" y2=\"377.9375\"/></a><!--MD5=[1dd1bfd58a279cf63c5f349dbc8fc6a1]\n",
       "class E11--><a href=\"psysml:8a3e0fcf-a1f5-42bd-9af7-3ab68d312f86\" target=\"_top\" title=\"psysml:8a3e0fcf-a1f5-42bd-9af7-3ab68d312f86\" xlink:actuate=\"onRequest\" xlink:href=\"psysml:8a3e0fcf-a1f5-42bd-9af7-3ab68d312f86\" xlink:show=\"new\" xlink:title=\"psysml:8a3e0fcf-a1f5-42bd-9af7-3ab68d312f86\" xlink:type=\"simple\"><rect fill=\"#FFFFFF\" height=\"45.9375\" id=\"E11\" rx=\"10\" ry=\"10\" style=\"stroke: #383838; stroke-width: 1.5;\" width=\"42\" x=\"56\" y=\"421\"/><text fill=\"#000000\" font-family=\"sans-serif\" font-size=\"12\" font-style=\"italic\" lengthAdjust=\"spacingAndGlyphs\" textLength=\"40\" x=\"57\" y=\"437.1387\">«part»</text><text fill=\"#000000\" font-family=\"sans-serif\" font-size=\"12\" lengthAdjust=\"spacingAndGlyphs\" textLength=\"22\" x=\"66\" y=\"451.1074\">y: B</text><line style=\"stroke: #383838; stroke-width: 1.5;\" x1=\"57\" x2=\"97\" y1=\"458.9375\" y2=\"458.9375\"/></a><!--MD5=[14ccda38c055a5c0da953d572bc50960]\n",
       "link E7 to E3--><a href=\"psysml:520b462f-0086-4fa2-a8c7-c457cfb393b0\" target=\"_top\" title=\"psysml:520b462f-0086-4fa2-a8c7-c457cfb393b0\" xlink:actuate=\"onRequest\" xlink:href=\"psysml:520b462f-0086-4fa2-a8c7-c457cfb393b0\" xlink:show=\"new\" xlink:title=\"psysml:520b462f-0086-4fa2-a8c7-c457cfb393b0\" xlink:type=\"simple\"><path d=\"M98.02,161 C109.18,161 123.65,161 137.79,161 \" fill=\"none\" id=\"E7-&gt;E3\" style=\"stroke: #383838; stroke-width: 1.0;\"/><polygon fill=\"#FFFFFF\" points=\"157.86,161,138.86,168,138.86,154,157.86,161\" style=\"stroke: #383838; stroke-width: 1.0;\"/><ellipse cx=\"133.16\" cy=\"166\" fill=\"#383838\" rx=\"2\" ry=\"2\" style=\"stroke: #383838; stroke-width: 1.0;\"/><ellipse cx=\"133.16\" cy=\"156\" fill=\"#383838\" rx=\"2\" ry=\"2\" style=\"stroke: #383838; stroke-width: 1.0;\"/></a><!--MD5=[1ccb2481ffa92f8d51a74ee30c51832a]\n",
       "link E8 to E5--><a href=\"psysml:7aecf3a3-7124-43a8-804d-679627dba63d\" target=\"_top\" title=\"psysml:7aecf3a3-7124-43a8-804d-679627dba63d\" xlink:actuate=\"onRequest\" xlink:href=\"psysml:7aecf3a3-7124-43a8-804d-679627dba63d\" xlink:show=\"new\" xlink:title=\"psysml:7aecf3a3-7124-43a8-804d-679627dba63d\" xlink:type=\"simple\"><path d=\"M90.85,265.17 C109.49,298.8 144.32,361.62 167.34,403.13 \" fill=\"none\" id=\"E8-&gt;E5\" style=\"stroke: #383838; stroke-width: 1.0;\"/><polygon fill=\"#FFFFFF\" points=\"177.13,420.79,161.7919,407.5709,174.0344,400.7796,177.13,420.79\" style=\"stroke: #383838; stroke-width: 1.0;\"/><ellipse cx=\"160.7758\" cy=\"401.6163\" fill=\"#383838\" rx=\"2\" ry=\"2\" style=\"stroke: #383838; stroke-width: 1.0;\"/><ellipse cx=\"169.5204\" cy=\"396.7653\" fill=\"#383838\" rx=\"2\" ry=\"2\" style=\"stroke: #383838; stroke-width: 1.0;\"/></a><!--MD5=[feeac5eb423634930294aa81f2d25a4c]\n",
       "link E10 to E3--><a href=\"psysml:fd0acd65-b864-4a8e-8ff2-cbce99549eac\" target=\"_top\" title=\"psysml:fd0acd65-b864-4a8e-8ff2-cbce99549eac\" xlink:actuate=\"onRequest\" xlink:href=\"psysml:fd0acd65-b864-4a8e-8ff2-cbce99549eac\" xlink:show=\"new\" xlink:title=\"psysml:fd0acd65-b864-4a8e-8ff2-cbce99549eac\" xlink:type=\"simple\"><path d=\"M90.85,339.83 C109.49,306.2 144.32,243.38 167.34,201.87 \" fill=\"none\" id=\"E10-&gt;E3\" style=\"stroke: #383838; stroke-width: 1.0;\"/><polygon fill=\"#FFFFFF\" points=\"177.13,184.21,174.0344,204.2204,161.7919,197.4291,177.13,184.21\" style=\"stroke: #383838; stroke-width: 1.0;\"/><ellipse cx=\"169.5204\" cy=\"208.2347\" fill=\"#383838\" rx=\"2\" ry=\"2\" style=\"stroke: #383838; stroke-width: 1.0;\"/><ellipse cx=\"160.7758\" cy=\"203.3837\" fill=\"#383838\" rx=\"2\" ry=\"2\" style=\"stroke: #383838; stroke-width: 1.0;\"/></a><!--MD5=[07b77f6f309248d16187045709d1c26e]\n",
       "link E11 to E5--><a href=\"psysml:442cb8f2-ee4b-4dfa-8164-f495024e2707\" target=\"_top\" title=\"psysml:442cb8f2-ee4b-4dfa-8164-f495024e2707\" xlink:actuate=\"onRequest\" xlink:href=\"psysml:442cb8f2-ee4b-4dfa-8164-f495024e2707\" xlink:show=\"new\" xlink:title=\"psysml:442cb8f2-ee4b-4dfa-8164-f495024e2707\" xlink:type=\"simple\"><path d=\"M98.02,444 C109.18,444 123.65,444 137.79,444 \" fill=\"none\" id=\"E11-&gt;E5\" style=\"stroke: #383838; stroke-width: 1.0;\"/><polygon fill=\"#FFFFFF\" points=\"157.86,444,138.86,451,138.86,437,157.86,444\" style=\"stroke: #383838; stroke-width: 1.0;\"/><ellipse cx=\"133.16\" cy=\"449\" fill=\"#383838\" rx=\"2\" ry=\"2\" style=\"stroke: #383838; stroke-width: 1.0;\"/><ellipse cx=\"133.16\" cy=\"439\" fill=\"#383838\" rx=\"2\" ry=\"2\" style=\"stroke: #383838; stroke-width: 1.0;\"/></a><!--MD5=[39f41a0e550fb3d73b4d8135617e30a2]\n",
       "link E12 to E3--><a href=\"psysml:fab56a21-03ff-446d-9dd1-385c5373a3f2\" target=\"_top\" title=\"psysml:fab56a21-03ff-446d-9dd1-385c5373a3f2\" xlink:actuate=\"onRequest\" xlink:href=\"psysml:fab56a21-03ff-446d-9dd1-385c5373a3f2\" xlink:show=\"new\" xlink:title=\"psysml:fab56a21-03ff-446d-9dd1-385c5373a3f2\" xlink:type=\"simple\"><path d=\"M98.02,81.34 C111.92,93.38 130.95,109.86 148.09,124.7 \" fill=\"none\" id=\"E12-&gt;E3\" style=\"stroke: #383838; stroke-width: 1.0;\"/><polygon fill=\"#FFFFFF\" points=\"163.41,137.97,144.4677,130.8155,153.6371,120.2361,163.41,137.97\" style=\"stroke: #383838; stroke-width: 1.0;\"/><ellipse cx=\"141.4703\" cy=\"125.5709\" fill=\"#383838\" rx=\"2\" ry=\"2\" style=\"stroke: #383838; stroke-width: 1.0;\"/><ellipse cx=\"148.0199\" cy=\"118.0142\" fill=\"#383838\" rx=\"2\" ry=\"2\" style=\"stroke: #383838; stroke-width: 1.0;\"/></a><!--MD5=[066b2d8af59fea80ccdb3d54ad5c1091]\n",
       "link E13 to E5--><a href=\"psysml:5cad6703-6f19-4c46-9c46-92acb368aec7\" target=\"_top\" title=\"psysml:5cad6703-6f19-4c46-9c46-92acb368aec7\" xlink:actuate=\"onRequest\" xlink:href=\"psysml:5cad6703-6f19-4c46-9c46-92acb368aec7\" xlink:show=\"new\" xlink:title=\"psysml:5cad6703-6f19-4c46-9c46-92acb368aec7\" xlink:type=\"simple\"><path d=\"M98.02,510.52 C110.09,501.79 126.03,490.27 141.24,479.27 \" fill=\"none\" id=\"E13-&gt;E5\" style=\"stroke: #383838; stroke-width: 1.0;\"/><polygon fill=\"#FFFFFF\" points=\"157.86,467.25,146.5582,484.0509,138.3595,472.7027,157.86,467.25\" style=\"stroke: #383838; stroke-width: 1.0;\"/><ellipse cx=\"140.7667\" cy=\"485.7678\" fill=\"#383838\" rx=\"2\" ry=\"2\" style=\"stroke: #383838; stroke-width: 1.0;\"/><ellipse cx=\"134.9104\" cy=\"477.6619\" fill=\"#383838\" rx=\"2\" ry=\"2\" style=\"stroke: #383838; stroke-width: 1.0;\"/></a><!--MD5=[40b0419302c1000ee8f5dcb878ab9d87]\n",
       "@startuml\r\n",
       "left to right direction\r\n",
       "skinparam monochrome true\r\n",
       "skinparam classbackgroundcolor white\r\n",
       "skinparam shadowing false\r\n",
       "skinparam wrapWidth 300\r\n",
       "hide circle\r\n",
       "\r\n",
       "package \"CircularImport\" as E1  [[psysml:7332441d-5859-4b68-88e6-44e4d7acfbc9 ]]  {\r\n",
       "package \"P1\" as E2  [[psysml:5f20ae7d-4d57-41a2-9907-55aa74d31ca3 ]]  {\r\n",
       "comp def \"A\" as E3  <<(T,blue) part def>> [[psysml:a77b04ef-8587-44c9-8b7f-efa23f8b51b3 ]] {\r\n",
       "}\r\n",
       "}\r\n",
       "package \"P2\" as E4  [[psysml:ebcd3975-b264-4248-9466-34d42d3f68ce ]]  {\r\n",
       "comp def \"B\" as E5  <<(T,blue) part def>> [[psysml:0236a647-9823-419e-b974-acac8cdc5ece ]] {\r\n",
       "}\r\n",
       "}\r\n",
       "package \"Test1\" as E6  [[psysml:da6ad505-2daa-495a-83b8-d3ba9d2de3a4 ]]  {\r\n",
       "comp usage \"x: A\" as E7  <<(T,blue) part>> [[psysml:d9c30419-fa03-4224-9f9b-cc52ece95c03 ]] {\r\n",
       "}\r\n",
       "comp usage \"y: B\" as E8  <<(T,blue) part>> [[psysml:32c0d6a2-b48f-4756-bec9-ba81426d308d ]] {\r\n",
       "}\r\n",
       "}\r\n",
       "package \"Test2\" as E9  [[psysml:b0babda1-ae00-488b-8e87-1a86d4c9a0c6 ]]  {\r\n",
       "comp usage \"x: A\" as E10  <<(T,blue) part>> [[psysml:4b1ceaae-3a33-4edd-a713-ae072a8ba794 ]] {\r\n",
       "}\r\n",
       "comp usage \"y: B\" as E11  <<(T,blue) part>> [[psysml:8a3e0fcf-a1f5-42bd-9af7-3ab68d312f86 ]] {\r\n",
       "}\r\n",
       "}\r\n",
       "comp usage \"x: A\" as E12  <<(T,blue) part>> [[psysml:be17b73a-3dde-44ce-ab8b-a0409ce39ee3 ]] {\r\n",
       "}\r\n",
       "comp usage \"y: B\" as E13  <<(T,blue) part>> [[psysml:70775e2d-ada4-46b3-b3bb-1618b7e606cf ]] {\r\n",
       "}\r\n",
       "}\r\n",
       "E7 - -:|> E3 [[psysml:520b462f-0086-4fa2-a8c7-c457cfb393b0 ]] \r\n",
       "E8 - -:|> E5 [[psysml:7aecf3a3-7124-43a8-804d-679627dba63d ]] \r\n",
       "E10 - -:|> E3 [[psysml:fd0acd65-b864-4a8e-8ff2-cbce99549eac ]] \r\n",
       "E11 - -:|> E5 [[psysml:442cb8f2-ee4b-4dfa-8164-f495024e2707 ]] \r\n",
       "E12 - -:|> E3 [[psysml:fab56a21-03ff-446d-9dd1-385c5373a3f2 ]] \r\n",
       "E13 - -:|> E5 [[psysml:5cad6703-6f19-4c46-9c46-92acb368aec7 ]] \r\n",
       "@enduml\r\n",
       "\n",
       "PlantUML version 1.2020.13(Sat Jun 13 12:26:38 UTC 2020)\n",
       "(EPL source distribution)\n",
       "Java Runtime: OpenJDK Runtime Environment\n",
       "JVM: OpenJDK 64-Bit Server VM\n",
       "Default Encoding: UTF-8\n",
       "Language: en\n",
       "Country: null\n",
       "--></g></svg>"
      ]
     },
     "execution_count": 16,
     "metadata": {},
     "output_type": "execute_result"
    }
   ],
   "source": [
    "%viz --style=\"LR\" --view=\"Default\" \"CircularImport\""
   ]
  },
  {
   "cell_type": "code",
   "execution_count": 17,
   "id": "fc34dd08",
   "metadata": {
    "execution": {
     "iopub.execute_input": "2021-09-27T07:16:35.351463Z",
     "iopub.status.busy": "2021-09-27T07:16:35.351060Z",
     "iopub.status.idle": "2021-09-27T07:16:35.397747Z",
     "shell.execute_reply": "2021-09-27T07:16:35.397386Z"
    }
   },
   "outputs": [
    {
     "data": {
      "image/svg+xml": [
       "<?xml version=\"1.0\" encoding=\"UTF-8\" standalone=\"no\"?><svg xmlns=\"http://www.w3.org/2000/svg\" xmlns:xlink=\"http://www.w3.org/1999/xlink\" contentScriptType=\"application/ecmascript\" contentStyleType=\"text/css\" height=\"576px\" preserveAspectRatio=\"none\" style=\"width:286px;height:576px;\" version=\"1.1\" viewBox=\"0 0 286 576\" width=\"286px\" zoomAndPan=\"magnify\"><defs/><g><!--MD5=[fbc87193dbaf4d95561dea2c320d4a47]\n",
       "cluster E1--><a href=\"psysml:7332441d-5859-4b68-88e6-44e4d7acfbc9\" target=\"_top\" title=\"psysml:7332441d-5859-4b68-88e6-44e4d7acfbc9\" xlink:actuate=\"onRequest\" xlink:href=\"psysml:7332441d-5859-4b68-88e6-44e4d7acfbc9\" xlink:show=\"new\" xlink:title=\"psysml:7332441d-5859-4b68-88e6-44e4d7acfbc9\" xlink:type=\"simple\"><polygon fill=\"#FFFFFF\" points=\"16,6,117,6,124,28.2969,264,28.2969,264,564,16,564,16,6\" style=\"stroke: #000000; stroke-width: 1.5;\"/><line style=\"stroke: #000000; stroke-width: 1.5;\" x1=\"16\" x2=\"124\" y1=\"28.2969\" y2=\"28.2969\"/><text fill=\"#000000\" font-family=\"sans-serif\" font-size=\"14\" font-weight=\"bold\" lengthAdjust=\"spacingAndGlyphs\" textLength=\"95\" x=\"20\" y=\"20.9951\">CircularImport</text></a><!--MD5=[e4f7fae6ed58524ba242bb0b0d3be6b7]\n",
       "cluster E2--><a href=\"psysml:5f20ae7d-4d57-41a2-9907-55aa74d31ca3\" target=\"_top\" title=\"psysml:5f20ae7d-4d57-41a2-9907-55aa74d31ca3\" xlink:actuate=\"onRequest\" xlink:href=\"psysml:5f20ae7d-4d57-41a2-9907-55aa74d31ca3\" xlink:show=\"new\" xlink:title=\"psysml:5f20ae7d-4d57-41a2-9907-55aa74d31ca3\" xlink:type=\"simple\"><polygon fill=\"#FFFFFF\" points=\"142,103,166,103,173,125.2969,240,125.2969,240,200,142,200,142,103\" style=\"stroke: #000000; stroke-width: 1.5;\"/><line style=\"stroke: #000000; stroke-width: 1.5;\" x1=\"142\" x2=\"173\" y1=\"125.2969\" y2=\"125.2969\"/><text fill=\"#000000\" font-family=\"sans-serif\" font-size=\"14\" font-weight=\"bold\" lengthAdjust=\"spacingAndGlyphs\" textLength=\"18\" x=\"146\" y=\"117.9951\">P1</text></a><!--MD5=[f6df4d0ebaf0b5dfb2ced0ae5af7c670]\n",
       "cluster E4--><a href=\"psysml:ebcd3975-b264-4248-9466-34d42d3f68ce\" target=\"_top\" title=\"psysml:ebcd3975-b264-4248-9466-34d42d3f68ce\" xlink:actuate=\"onRequest\" xlink:href=\"psysml:ebcd3975-b264-4248-9466-34d42d3f68ce\" xlink:show=\"new\" xlink:title=\"psysml:ebcd3975-b264-4248-9466-34d42d3f68ce\" xlink:type=\"simple\"><polygon fill=\"#FFFFFF\" points=\"142,386,166,386,173,408.2969,240,408.2969,240,483,142,483,142,386\" style=\"stroke: #000000; stroke-width: 1.5;\"/><line style=\"stroke: #000000; stroke-width: 1.5;\" x1=\"142\" x2=\"173\" y1=\"408.2969\" y2=\"408.2969\"/><text fill=\"#000000\" font-family=\"sans-serif\" font-size=\"14\" font-weight=\"bold\" lengthAdjust=\"spacingAndGlyphs\" textLength=\"18\" x=\"146\" y=\"400.9951\">P2</text></a><!--MD5=[14e3b0961a2654348d326746436168a1]\n",
       "cluster E6--><a href=\"psysml:da6ad505-2daa-495a-83b8-d3ba9d2de3a4\" target=\"_top\" title=\"psysml:da6ad505-2daa-495a-83b8-d3ba9d2de3a4\" xlink:actuate=\"onRequest\" xlink:href=\"psysml:da6ad505-2daa-495a-83b8-d3ba9d2de3a4\" xlink:show=\"new\" xlink:title=\"psysml:da6ad505-2daa-495a-83b8-d3ba9d2de3a4\" xlink:type=\"simple\"><polygon fill=\"#FFFFFF\" points=\"40,103,86,103,93,125.2969,114,125.2969,114,281,40,281,40,103\" style=\"stroke: #000000; stroke-width: 1.5;\"/><line style=\"stroke: #000000; stroke-width: 1.5;\" x1=\"40\" x2=\"93\" y1=\"125.2969\" y2=\"125.2969\"/><text fill=\"#000000\" font-family=\"sans-serif\" font-size=\"14\" font-weight=\"bold\" lengthAdjust=\"spacingAndGlyphs\" textLength=\"40\" x=\"44\" y=\"117.9951\">Test1</text></a><!--MD5=[7f149f147074ac12df2cb0a7728a5fb0]\n",
       "cluster E9--><a href=\"psysml:b0babda1-ae00-488b-8e87-1a86d4c9a0c6\" target=\"_top\" title=\"psysml:b0babda1-ae00-488b-8e87-1a86d4c9a0c6\" xlink:actuate=\"onRequest\" xlink:href=\"psysml:b0babda1-ae00-488b-8e87-1a86d4c9a0c6\" xlink:show=\"new\" xlink:title=\"psysml:b0babda1-ae00-488b-8e87-1a86d4c9a0c6\" xlink:type=\"simple\"><polygon fill=\"#FFFFFF\" points=\"40,305,86,305,93,327.2969,114,327.2969,114,483,40,483,40,305\" style=\"stroke: #000000; stroke-width: 1.5;\"/><line style=\"stroke: #000000; stroke-width: 1.5;\" x1=\"40\" x2=\"93\" y1=\"327.2969\" y2=\"327.2969\"/><text fill=\"#000000\" font-family=\"sans-serif\" font-size=\"14\" font-weight=\"bold\" lengthAdjust=\"spacingAndGlyphs\" textLength=\"40\" x=\"44\" y=\"319.9951\">Test2</text></a><!--MD5=[49a0ec8f00dab7302a31f22d0f0fe584]\n",
       "class E12--><a href=\"psysml:be17b73a-3dde-44ce-ab8b-a0409ce39ee3\" target=\"_top\" title=\"psysml:be17b73a-3dde-44ce-ab8b-a0409ce39ee3\" xlink:actuate=\"onRequest\" xlink:href=\"psysml:be17b73a-3dde-44ce-ab8b-a0409ce39ee3\" xlink:show=\"new\" xlink:title=\"psysml:be17b73a-3dde-44ce-ab8b-a0409ce39ee3\" xlink:type=\"simple\"><rect fill=\"#FFFFFF\" height=\"45.9375\" id=\"E12\" rx=\"10\" ry=\"10\" style=\"stroke: #383838; stroke-width: 1.5;\" width=\"42\" x=\"56\" y=\"41\"/><text fill=\"#000000\" font-family=\"sans-serif\" font-size=\"12\" font-style=\"italic\" lengthAdjust=\"spacingAndGlyphs\" textLength=\"40\" x=\"57\" y=\"57.1387\">«part»</text><text fill=\"#000000\" font-family=\"sans-serif\" font-size=\"12\" lengthAdjust=\"spacingAndGlyphs\" textLength=\"22\" x=\"66\" y=\"71.1074\">x: A</text><line style=\"stroke: #383838; stroke-width: 1.5;\" x1=\"57\" x2=\"97\" y1=\"78.9375\" y2=\"78.9375\"/></a><!--MD5=[ee3c913d1a06f366521f9ef512b67efe]\n",
       "class E13--><a href=\"psysml:70775e2d-ada4-46b3-b3bb-1618b7e606cf\" target=\"_top\" title=\"psysml:70775e2d-ada4-46b3-b3bb-1618b7e606cf\" xlink:actuate=\"onRequest\" xlink:href=\"psysml:70775e2d-ada4-46b3-b3bb-1618b7e606cf\" xlink:show=\"new\" xlink:title=\"psysml:70775e2d-ada4-46b3-b3bb-1618b7e606cf\" xlink:type=\"simple\"><rect fill=\"#FFFFFF\" height=\"45.9375\" id=\"E13\" rx=\"10\" ry=\"10\" style=\"stroke: #383838; stroke-width: 1.5;\" width=\"42\" x=\"56\" y=\"502\"/><text fill=\"#000000\" font-family=\"sans-serif\" font-size=\"12\" font-style=\"italic\" lengthAdjust=\"spacingAndGlyphs\" textLength=\"40\" x=\"57\" y=\"518.1387\">«part»</text><text fill=\"#000000\" font-family=\"sans-serif\" font-size=\"12\" lengthAdjust=\"spacingAndGlyphs\" textLength=\"22\" x=\"66\" y=\"532.1074\">y: B</text><line style=\"stroke: #383838; stroke-width: 1.5;\" x1=\"57\" x2=\"97\" y1=\"539.9375\" y2=\"539.9375\"/></a><!--MD5=[09b614a08d8cba4a07c9adeb5e0fee81]\n",
       "class E3--><a href=\"psysml:a77b04ef-8587-44c9-8b7f-efa23f8b51b3\" target=\"_top\" title=\"psysml:a77b04ef-8587-44c9-8b7f-efa23f8b51b3\" xlink:actuate=\"onRequest\" xlink:href=\"psysml:a77b04ef-8587-44c9-8b7f-efa23f8b51b3\" xlink:show=\"new\" xlink:title=\"psysml:a77b04ef-8587-44c9-8b7f-efa23f8b51b3\" xlink:type=\"simple\"><rect fill=\"#FFFFFF\" height=\"45.9375\" id=\"E3\" style=\"stroke: #383838; stroke-width: 1.5;\" width=\"66\" x=\"158\" y=\"138\"/><text fill=\"#000000\" font-family=\"sans-serif\" font-size=\"12\" font-style=\"italic\" lengthAdjust=\"spacingAndGlyphs\" textLength=\"64\" x=\"159\" y=\"154.1387\">«part def»</text><text fill=\"#000000\" font-family=\"sans-serif\" font-size=\"12\" lengthAdjust=\"spacingAndGlyphs\" textLength=\"8\" x=\"187\" y=\"168.1074\">A</text><line style=\"stroke: #383838; stroke-width: 1.5;\" x1=\"159\" x2=\"223\" y1=\"175.9375\" y2=\"175.9375\"/></a><!--MD5=[270fce915f116d4de14055a7c1d9a0f3]\n",
       "class E5--><a href=\"psysml:0236a647-9823-419e-b974-acac8cdc5ece\" target=\"_top\" title=\"psysml:0236a647-9823-419e-b974-acac8cdc5ece\" xlink:actuate=\"onRequest\" xlink:href=\"psysml:0236a647-9823-419e-b974-acac8cdc5ece\" xlink:show=\"new\" xlink:title=\"psysml:0236a647-9823-419e-b974-acac8cdc5ece\" xlink:type=\"simple\"><rect fill=\"#FFFFFF\" height=\"45.9375\" id=\"E5\" style=\"stroke: #383838; stroke-width: 1.5;\" width=\"66\" x=\"158\" y=\"421\"/><text fill=\"#000000\" font-family=\"sans-serif\" font-size=\"12\" font-style=\"italic\" lengthAdjust=\"spacingAndGlyphs\" textLength=\"64\" x=\"159\" y=\"437.1387\">«part def»</text><text fill=\"#000000\" font-family=\"sans-serif\" font-size=\"12\" lengthAdjust=\"spacingAndGlyphs\" textLength=\"8\" x=\"187\" y=\"451.1074\">B</text><line style=\"stroke: #383838; stroke-width: 1.5;\" x1=\"159\" x2=\"223\" y1=\"458.9375\" y2=\"458.9375\"/></a><!--MD5=[2156ba9850f5573cc1fc38a6a4b2f02b]\n",
       "class E7--><a href=\"psysml:d9c30419-fa03-4224-9f9b-cc52ece95c03\" target=\"_top\" title=\"psysml:d9c30419-fa03-4224-9f9b-cc52ece95c03\" xlink:actuate=\"onRequest\" xlink:href=\"psysml:d9c30419-fa03-4224-9f9b-cc52ece95c03\" xlink:show=\"new\" xlink:title=\"psysml:d9c30419-fa03-4224-9f9b-cc52ece95c03\" xlink:type=\"simple\"><rect fill=\"#FFFFFF\" height=\"45.9375\" id=\"E7\" rx=\"10\" ry=\"10\" style=\"stroke: #383838; stroke-width: 1.5;\" width=\"42\" x=\"56\" y=\"138\"/><text fill=\"#000000\" font-family=\"sans-serif\" font-size=\"12\" font-style=\"italic\" lengthAdjust=\"spacingAndGlyphs\" textLength=\"40\" x=\"57\" y=\"154.1387\">«part»</text><text fill=\"#000000\" font-family=\"sans-serif\" font-size=\"12\" lengthAdjust=\"spacingAndGlyphs\" textLength=\"22\" x=\"66\" y=\"168.1074\">x: A</text><line style=\"stroke: #383838; stroke-width: 1.5;\" x1=\"57\" x2=\"97\" y1=\"175.9375\" y2=\"175.9375\"/></a><!--MD5=[b9389687b975829384b498ac4b7476b2]\n",
       "class E8--><a href=\"psysml:32c0d6a2-b48f-4756-bec9-ba81426d308d\" target=\"_top\" title=\"psysml:32c0d6a2-b48f-4756-bec9-ba81426d308d\" xlink:actuate=\"onRequest\" xlink:href=\"psysml:32c0d6a2-b48f-4756-bec9-ba81426d308d\" xlink:show=\"new\" xlink:title=\"psysml:32c0d6a2-b48f-4756-bec9-ba81426d308d\" xlink:type=\"simple\"><rect fill=\"#FFFFFF\" height=\"45.9375\" id=\"E8\" rx=\"10\" ry=\"10\" style=\"stroke: #383838; stroke-width: 1.5;\" width=\"42\" x=\"56\" y=\"219\"/><text fill=\"#000000\" font-family=\"sans-serif\" font-size=\"12\" font-style=\"italic\" lengthAdjust=\"spacingAndGlyphs\" textLength=\"40\" x=\"57\" y=\"235.1387\">«part»</text><text fill=\"#000000\" font-family=\"sans-serif\" font-size=\"12\" lengthAdjust=\"spacingAndGlyphs\" textLength=\"22\" x=\"66\" y=\"249.1074\">y: B</text><line style=\"stroke: #383838; stroke-width: 1.5;\" x1=\"57\" x2=\"97\" y1=\"256.9375\" y2=\"256.9375\"/></a><!--MD5=[96f4274e9e20536e775497830990834d]\n",
       "class E10--><a href=\"psysml:4b1ceaae-3a33-4edd-a713-ae072a8ba794\" target=\"_top\" title=\"psysml:4b1ceaae-3a33-4edd-a713-ae072a8ba794\" xlink:actuate=\"onRequest\" xlink:href=\"psysml:4b1ceaae-3a33-4edd-a713-ae072a8ba794\" xlink:show=\"new\" xlink:title=\"psysml:4b1ceaae-3a33-4edd-a713-ae072a8ba794\" xlink:type=\"simple\"><rect fill=\"#FFFFFF\" height=\"45.9375\" id=\"E10\" rx=\"10\" ry=\"10\" style=\"stroke: #383838; stroke-width: 1.5;\" width=\"42\" x=\"56\" y=\"340\"/><text fill=\"#000000\" font-family=\"sans-serif\" font-size=\"12\" font-style=\"italic\" lengthAdjust=\"spacingAndGlyphs\" textLength=\"40\" x=\"57\" y=\"356.1387\">«part»</text><text fill=\"#000000\" font-family=\"sans-serif\" font-size=\"12\" lengthAdjust=\"spacingAndGlyphs\" textLength=\"22\" x=\"66\" y=\"370.1074\">x: A</text><line style=\"stroke: #383838; stroke-width: 1.5;\" x1=\"57\" x2=\"97\" y1=\"377.9375\" y2=\"377.9375\"/></a><!--MD5=[1dd1bfd58a279cf63c5f349dbc8fc6a1]\n",
       "class E11--><a href=\"psysml:8a3e0fcf-a1f5-42bd-9af7-3ab68d312f86\" target=\"_top\" title=\"psysml:8a3e0fcf-a1f5-42bd-9af7-3ab68d312f86\" xlink:actuate=\"onRequest\" xlink:href=\"psysml:8a3e0fcf-a1f5-42bd-9af7-3ab68d312f86\" xlink:show=\"new\" xlink:title=\"psysml:8a3e0fcf-a1f5-42bd-9af7-3ab68d312f86\" xlink:type=\"simple\"><rect fill=\"#FFFFFF\" height=\"45.9375\" id=\"E11\" rx=\"10\" ry=\"10\" style=\"stroke: #383838; stroke-width: 1.5;\" width=\"42\" x=\"56\" y=\"421\"/><text fill=\"#000000\" font-family=\"sans-serif\" font-size=\"12\" font-style=\"italic\" lengthAdjust=\"spacingAndGlyphs\" textLength=\"40\" x=\"57\" y=\"437.1387\">«part»</text><text fill=\"#000000\" font-family=\"sans-serif\" font-size=\"12\" lengthAdjust=\"spacingAndGlyphs\" textLength=\"22\" x=\"66\" y=\"451.1074\">y: B</text><line style=\"stroke: #383838; stroke-width: 1.5;\" x1=\"57\" x2=\"97\" y1=\"458.9375\" y2=\"458.9375\"/></a><!--MD5=[14ccda38c055a5c0da953d572bc50960]\n",
       "link E7 to E3--><a href=\"psysml:520b462f-0086-4fa2-a8c7-c457cfb393b0\" target=\"_top\" title=\"psysml:520b462f-0086-4fa2-a8c7-c457cfb393b0\" xlink:actuate=\"onRequest\" xlink:href=\"psysml:520b462f-0086-4fa2-a8c7-c457cfb393b0\" xlink:show=\"new\" xlink:title=\"psysml:520b462f-0086-4fa2-a8c7-c457cfb393b0\" xlink:type=\"simple\"><path d=\"M98.02,161 C109.18,161 123.65,161 137.79,161 \" fill=\"none\" id=\"E7-&gt;E3\" style=\"stroke: #383838; stroke-width: 1.0;\"/><polygon fill=\"#FFFFFF\" points=\"157.86,161,138.86,168,138.86,154,157.86,161\" style=\"stroke: #383838; stroke-width: 1.0;\"/><ellipse cx=\"133.16\" cy=\"166\" fill=\"#383838\" rx=\"2\" ry=\"2\" style=\"stroke: #383838; stroke-width: 1.0;\"/><ellipse cx=\"133.16\" cy=\"156\" fill=\"#383838\" rx=\"2\" ry=\"2\" style=\"stroke: #383838; stroke-width: 1.0;\"/></a><!--MD5=[1ccb2481ffa92f8d51a74ee30c51832a]\n",
       "link E8 to E5--><a href=\"psysml:7aecf3a3-7124-43a8-804d-679627dba63d\" target=\"_top\" title=\"psysml:7aecf3a3-7124-43a8-804d-679627dba63d\" xlink:actuate=\"onRequest\" xlink:href=\"psysml:7aecf3a3-7124-43a8-804d-679627dba63d\" xlink:show=\"new\" xlink:title=\"psysml:7aecf3a3-7124-43a8-804d-679627dba63d\" xlink:type=\"simple\"><path d=\"M90.85,265.17 C109.49,298.8 144.32,361.62 167.34,403.13 \" fill=\"none\" id=\"E8-&gt;E5\" style=\"stroke: #383838; stroke-width: 1.0;\"/><polygon fill=\"#FFFFFF\" points=\"177.13,420.79,161.7919,407.5709,174.0344,400.7796,177.13,420.79\" style=\"stroke: #383838; stroke-width: 1.0;\"/><ellipse cx=\"160.7758\" cy=\"401.6163\" fill=\"#383838\" rx=\"2\" ry=\"2\" style=\"stroke: #383838; stroke-width: 1.0;\"/><ellipse cx=\"169.5204\" cy=\"396.7653\" fill=\"#383838\" rx=\"2\" ry=\"2\" style=\"stroke: #383838; stroke-width: 1.0;\"/></a><!--MD5=[feeac5eb423634930294aa81f2d25a4c]\n",
       "link E10 to E3--><a href=\"psysml:fd0acd65-b864-4a8e-8ff2-cbce99549eac\" target=\"_top\" title=\"psysml:fd0acd65-b864-4a8e-8ff2-cbce99549eac\" xlink:actuate=\"onRequest\" xlink:href=\"psysml:fd0acd65-b864-4a8e-8ff2-cbce99549eac\" xlink:show=\"new\" xlink:title=\"psysml:fd0acd65-b864-4a8e-8ff2-cbce99549eac\" xlink:type=\"simple\"><path d=\"M90.85,339.83 C109.49,306.2 144.32,243.38 167.34,201.87 \" fill=\"none\" id=\"E10-&gt;E3\" style=\"stroke: #383838; stroke-width: 1.0;\"/><polygon fill=\"#FFFFFF\" points=\"177.13,184.21,174.0344,204.2204,161.7919,197.4291,177.13,184.21\" style=\"stroke: #383838; stroke-width: 1.0;\"/><ellipse cx=\"169.5204\" cy=\"208.2347\" fill=\"#383838\" rx=\"2\" ry=\"2\" style=\"stroke: #383838; stroke-width: 1.0;\"/><ellipse cx=\"160.7758\" cy=\"203.3837\" fill=\"#383838\" rx=\"2\" ry=\"2\" style=\"stroke: #383838; stroke-width: 1.0;\"/></a><!--MD5=[07b77f6f309248d16187045709d1c26e]\n",
       "link E11 to E5--><a href=\"psysml:442cb8f2-ee4b-4dfa-8164-f495024e2707\" target=\"_top\" title=\"psysml:442cb8f2-ee4b-4dfa-8164-f495024e2707\" xlink:actuate=\"onRequest\" xlink:href=\"psysml:442cb8f2-ee4b-4dfa-8164-f495024e2707\" xlink:show=\"new\" xlink:title=\"psysml:442cb8f2-ee4b-4dfa-8164-f495024e2707\" xlink:type=\"simple\"><path d=\"M98.02,444 C109.18,444 123.65,444 137.79,444 \" fill=\"none\" id=\"E11-&gt;E5\" style=\"stroke: #383838; stroke-width: 1.0;\"/><polygon fill=\"#FFFFFF\" points=\"157.86,444,138.86,451,138.86,437,157.86,444\" style=\"stroke: #383838; stroke-width: 1.0;\"/><ellipse cx=\"133.16\" cy=\"449\" fill=\"#383838\" rx=\"2\" ry=\"2\" style=\"stroke: #383838; stroke-width: 1.0;\"/><ellipse cx=\"133.16\" cy=\"439\" fill=\"#383838\" rx=\"2\" ry=\"2\" style=\"stroke: #383838; stroke-width: 1.0;\"/></a><!--MD5=[39f41a0e550fb3d73b4d8135617e30a2]\n",
       "link E12 to E3--><a href=\"psysml:fab56a21-03ff-446d-9dd1-385c5373a3f2\" target=\"_top\" title=\"psysml:fab56a21-03ff-446d-9dd1-385c5373a3f2\" xlink:actuate=\"onRequest\" xlink:href=\"psysml:fab56a21-03ff-446d-9dd1-385c5373a3f2\" xlink:show=\"new\" xlink:title=\"psysml:fab56a21-03ff-446d-9dd1-385c5373a3f2\" xlink:type=\"simple\"><path d=\"M98.02,81.34 C111.92,93.38 130.95,109.86 148.09,124.7 \" fill=\"none\" id=\"E12-&gt;E3\" style=\"stroke: #383838; stroke-width: 1.0;\"/><polygon fill=\"#FFFFFF\" points=\"163.41,137.97,144.4677,130.8155,153.6371,120.2361,163.41,137.97\" style=\"stroke: #383838; stroke-width: 1.0;\"/><ellipse cx=\"141.4703\" cy=\"125.5709\" fill=\"#383838\" rx=\"2\" ry=\"2\" style=\"stroke: #383838; stroke-width: 1.0;\"/><ellipse cx=\"148.0199\" cy=\"118.0142\" fill=\"#383838\" rx=\"2\" ry=\"2\" style=\"stroke: #383838; stroke-width: 1.0;\"/></a><!--MD5=[066b2d8af59fea80ccdb3d54ad5c1091]\n",
       "link E13 to E5--><a href=\"psysml:5cad6703-6f19-4c46-9c46-92acb368aec7\" target=\"_top\" title=\"psysml:5cad6703-6f19-4c46-9c46-92acb368aec7\" xlink:actuate=\"onRequest\" xlink:href=\"psysml:5cad6703-6f19-4c46-9c46-92acb368aec7\" xlink:show=\"new\" xlink:title=\"psysml:5cad6703-6f19-4c46-9c46-92acb368aec7\" xlink:type=\"simple\"><path d=\"M98.02,510.52 C110.09,501.79 126.03,490.27 141.24,479.27 \" fill=\"none\" id=\"E13-&gt;E5\" style=\"stroke: #383838; stroke-width: 1.0;\"/><polygon fill=\"#FFFFFF\" points=\"157.86,467.25,146.5582,484.0509,138.3595,472.7027,157.86,467.25\" style=\"stroke: #383838; stroke-width: 1.0;\"/><ellipse cx=\"140.7667\" cy=\"485.7678\" fill=\"#383838\" rx=\"2\" ry=\"2\" style=\"stroke: #383838; stroke-width: 1.0;\"/><ellipse cx=\"134.9104\" cy=\"477.6619\" fill=\"#383838\" rx=\"2\" ry=\"2\" style=\"stroke: #383838; stroke-width: 1.0;\"/></a><!--MD5=[40b0419302c1000ee8f5dcb878ab9d87]\n",
       "@startuml\r\n",
       "left to right direction\r\n",
       "skinparam monochrome true\r\n",
       "skinparam classbackgroundcolor white\r\n",
       "skinparam shadowing false\r\n",
       "skinparam wrapWidth 300\r\n",
       "hide circle\r\n",
       "\r\n",
       "package \"CircularImport\" as E1  [[psysml:7332441d-5859-4b68-88e6-44e4d7acfbc9 ]]  {\r\n",
       "package \"P1\" as E2  [[psysml:5f20ae7d-4d57-41a2-9907-55aa74d31ca3 ]]  {\r\n",
       "comp def \"A\" as E3  <<(T,blue) part def>> [[psysml:a77b04ef-8587-44c9-8b7f-efa23f8b51b3 ]] {\r\n",
       "}\r\n",
       "}\r\n",
       "package \"P2\" as E4  [[psysml:ebcd3975-b264-4248-9466-34d42d3f68ce ]]  {\r\n",
       "comp def \"B\" as E5  <<(T,blue) part def>> [[psysml:0236a647-9823-419e-b974-acac8cdc5ece ]] {\r\n",
       "}\r\n",
       "}\r\n",
       "package \"Test1\" as E6  [[psysml:da6ad505-2daa-495a-83b8-d3ba9d2de3a4 ]]  {\r\n",
       "comp usage \"x: A\" as E7  <<(T,blue) part>> [[psysml:d9c30419-fa03-4224-9f9b-cc52ece95c03 ]] {\r\n",
       "}\r\n",
       "comp usage \"y: B\" as E8  <<(T,blue) part>> [[psysml:32c0d6a2-b48f-4756-bec9-ba81426d308d ]] {\r\n",
       "}\r\n",
       "}\r\n",
       "package \"Test2\" as E9  [[psysml:b0babda1-ae00-488b-8e87-1a86d4c9a0c6 ]]  {\r\n",
       "comp usage \"x: A\" as E10  <<(T,blue) part>> [[psysml:4b1ceaae-3a33-4edd-a713-ae072a8ba794 ]] {\r\n",
       "}\r\n",
       "comp usage \"y: B\" as E11  <<(T,blue) part>> [[psysml:8a3e0fcf-a1f5-42bd-9af7-3ab68d312f86 ]] {\r\n",
       "}\r\n",
       "}\r\n",
       "comp usage \"x: A\" as E12  <<(T,blue) part>> [[psysml:be17b73a-3dde-44ce-ab8b-a0409ce39ee3 ]] {\r\n",
       "}\r\n",
       "comp usage \"y: B\" as E13  <<(T,blue) part>> [[psysml:70775e2d-ada4-46b3-b3bb-1618b7e606cf ]] {\r\n",
       "}\r\n",
       "}\r\n",
       "E7 - -:|> E3 [[psysml:520b462f-0086-4fa2-a8c7-c457cfb393b0 ]] \r\n",
       "E8 - -:|> E5 [[psysml:7aecf3a3-7124-43a8-804d-679627dba63d ]] \r\n",
       "E10 - -:|> E3 [[psysml:fd0acd65-b864-4a8e-8ff2-cbce99549eac ]] \r\n",
       "E11 - -:|> E5 [[psysml:442cb8f2-ee4b-4dfa-8164-f495024e2707 ]] \r\n",
       "E12 - -:|> E3 [[psysml:fab56a21-03ff-446d-9dd1-385c5373a3f2 ]] \r\n",
       "E13 - -:|> E5 [[psysml:5cad6703-6f19-4c46-9c46-92acb368aec7 ]] \r\n",
       "@enduml\r\n",
       "\n",
       "PlantUML version 1.2020.13(Sat Jun 13 12:26:38 UTC 2020)\n",
       "(EPL source distribution)\n",
       "Java Runtime: OpenJDK Runtime Environment\n",
       "JVM: OpenJDK 64-Bit Server VM\n",
       "Default Encoding: UTF-8\n",
       "Language: en\n",
       "Country: null\n",
       "--></g></svg>"
      ]
     },
     "execution_count": 17,
     "metadata": {},
     "output_type": "execute_result"
    }
   ],
   "source": [
    "%viz --style=\"LR\" --view=\"Tree\" \"CircularImport\""
   ]
  },
  {
   "cell_type": "code",
   "execution_count": 18,
   "id": "4d65232a",
   "metadata": {
    "execution": {
     "iopub.execute_input": "2021-09-27T07:16:35.447534Z",
     "iopub.status.busy": "2021-09-27T07:16:35.447115Z",
     "iopub.status.idle": "2021-09-27T07:16:35.452370Z",
     "shell.execute_reply": "2021-09-27T07:16:35.452684Z"
    }
   },
   "outputs": [
    {
     "data": {
      "image/svg+xml": [
       "<?xml version=\"1.0\" encoding=\"UTF-8\" standalone=\"no\"?><svg xmlns=\"http://www.w3.org/2000/svg\" xmlns:xlink=\"http://www.w3.org/1999/xlink\" contentScriptType=\"application/ecmascript\" contentStyleType=\"text/css\" height=\"12px\" preserveAspectRatio=\"none\" style=\"width:12px;height:12px;\" version=\"1.1\" viewBox=\"0 0 12 12\" width=\"12px\" zoomAndPan=\"magnify\"><defs/><g><!--MD5=[19d285c9d72a204eba4e2cd117d745e8]\n",
       "@startuml\r\n",
       "left to right direction\r\n",
       "skinparam monochrome true\r\n",
       "skinparam classbackgroundcolor white\r\n",
       "skinparam shadowing false\r\n",
       "skinparam wrapWidth 300\r\n",
       "hide circle\r\n",
       "\r\n",
       "@enduml\r\n",
       "\n",
       "PlantUML version 1.2020.13(Sat Jun 13 12:26:38 UTC 2020)\n",
       "(EPL source distribution)\n",
       "Java Runtime: OpenJDK Runtime Environment\n",
       "JVM: OpenJDK 64-Bit Server VM\n",
       "Default Encoding: UTF-8\n",
       "Language: en\n",
       "Country: null\n",
       "--></g></svg>"
      ]
     },
     "execution_count": 18,
     "metadata": {},
     "output_type": "execute_result"
    }
   ],
   "source": [
    "%viz --style=\"LR\" --view=\"State\" \"CircularImport\""
   ]
  },
  {
   "cell_type": "code",
   "execution_count": 19,
   "id": "acd9333c",
   "metadata": {
    "execution": {
     "iopub.execute_input": "2021-09-27T07:16:35.502592Z",
     "iopub.status.busy": "2021-09-27T07:16:35.502199Z",
     "iopub.status.idle": "2021-09-27T07:16:35.539553Z",
     "shell.execute_reply": "2021-09-27T07:16:35.539203Z"
    }
   },
   "outputs": [
    {
     "data": {
      "image/svg+xml": [
       "<?xml version=\"1.0\" encoding=\"UTF-8\" standalone=\"no\"?><svg xmlns=\"http://www.w3.org/2000/svg\" xmlns:xlink=\"http://www.w3.org/1999/xlink\" contentScriptType=\"application/ecmascript\" contentStyleType=\"text/css\" height=\"805px\" preserveAspectRatio=\"none\" style=\"width:189px;height:805px;\" version=\"1.1\" viewBox=\"0 0 189 805\" width=\"189px\" zoomAndPan=\"magnify\"><defs/><g><!--MD5=[fbc87193dbaf4d95561dea2c320d4a47]\n",
       "cluster E1--><a href=\"psysml:7332441d-5859-4b68-88e6-44e4d7acfbc9\" target=\"_top\" title=\"psysml:7332441d-5859-4b68-88e6-44e4d7acfbc9\" xlink:actuate=\"onRequest\" xlink:href=\"psysml:7332441d-5859-4b68-88e6-44e4d7acfbc9\" xlink:show=\"new\" xlink:title=\"psysml:7332441d-5859-4b68-88e6-44e4d7acfbc9\" xlink:type=\"simple\"><polygon fill=\"#FFFFFF\" points=\"16,6,117,6,124,28.2969,167,28.2969,167,793,16,793,16,6\" style=\"stroke: #000000; stroke-width: 1.5;\"/><line style=\"stroke: #000000; stroke-width: 1.5;\" x1=\"16\" x2=\"124\" y1=\"28.2969\" y2=\"28.2969\"/><text fill=\"#000000\" font-family=\"sans-serif\" font-size=\"14\" font-weight=\"bold\" lengthAdjust=\"spacingAndGlyphs\" textLength=\"95\" x=\"20\" y=\"20.9951\">CircularImport</text></a><!--MD5=[e4f7fae6ed58524ba242bb0b0d3be6b7]\n",
       "cluster E2--><a href=\"psysml:5f20ae7d-4d57-41a2-9907-55aa74d31ca3\" target=\"_top\" title=\"psysml:5f20ae7d-4d57-41a2-9907-55aa74d31ca3\" xlink:actuate=\"onRequest\" xlink:href=\"psysml:5f20ae7d-4d57-41a2-9907-55aa74d31ca3\" xlink:show=\"new\" xlink:title=\"psysml:5f20ae7d-4d57-41a2-9907-55aa74d31ca3\" xlink:type=\"simple\"><polygon fill=\"#FFFFFF\" points=\"40,49,64,49,71,71.2969,143,71.2969,143,144,40,144,40,49\" style=\"stroke: #000000; stroke-width: 1.5;\"/><line style=\"stroke: #000000; stroke-width: 1.5;\" x1=\"40\" x2=\"71\" y1=\"71.2969\" y2=\"71.2969\"/><text fill=\"#000000\" font-family=\"sans-serif\" font-size=\"14\" font-weight=\"bold\" lengthAdjust=\"spacingAndGlyphs\" textLength=\"18\" x=\"44\" y=\"63.9951\">P1</text></a><!--MD5=[f6df4d0ebaf0b5dfb2ced0ae5af7c670]\n",
       "cluster E4--><a href=\"psysml:ebcd3975-b264-4248-9466-34d42d3f68ce\" target=\"_top\" title=\"psysml:ebcd3975-b264-4248-9466-34d42d3f68ce\" xlink:actuate=\"onRequest\" xlink:href=\"psysml:ebcd3975-b264-4248-9466-34d42d3f68ce\" xlink:show=\"new\" xlink:title=\"psysml:ebcd3975-b264-4248-9466-34d42d3f68ce\" xlink:type=\"simple\"><polygon fill=\"#FFFFFF\" points=\"40,168,64,168,71,190.2969,143,190.2969,143,263,40,263,40,168\" style=\"stroke: #000000; stroke-width: 1.5;\"/><line style=\"stroke: #000000; stroke-width: 1.5;\" x1=\"40\" x2=\"71\" y1=\"190.2969\" y2=\"190.2969\"/><text fill=\"#000000\" font-family=\"sans-serif\" font-size=\"14\" font-weight=\"bold\" lengthAdjust=\"spacingAndGlyphs\" textLength=\"18\" x=\"44\" y=\"182.9951\">P2</text></a><!--MD5=[14e3b0961a2654348d326746436168a1]\n",
       "cluster E6--><a href=\"psysml:da6ad505-2daa-495a-83b8-d3ba9d2de3a4\" target=\"_top\" title=\"psysml:da6ad505-2daa-495a-83b8-d3ba9d2de3a4\" xlink:actuate=\"onRequest\" xlink:href=\"psysml:da6ad505-2daa-495a-83b8-d3ba9d2de3a4\" xlink:show=\"new\" xlink:title=\"psysml:da6ad505-2daa-495a-83b8-d3ba9d2de3a4\" xlink:type=\"simple\"><polygon fill=\"#FFFFFF\" points=\"50.5,287,96.5,287,103.5,309.2969,132.5,309.2969,132.5,453,50.5,453,50.5,287\" style=\"stroke: #000000; stroke-width: 1.5;\"/><line style=\"stroke: #000000; stroke-width: 1.5;\" x1=\"50.5\" x2=\"103.5\" y1=\"309.2969\" y2=\"309.2969\"/><text fill=\"#000000\" font-family=\"sans-serif\" font-size=\"14\" font-weight=\"bold\" lengthAdjust=\"spacingAndGlyphs\" textLength=\"40\" x=\"54.5\" y=\"301.9951\">Test1</text></a><!--MD5=[7f149f147074ac12df2cb0a7728a5fb0]\n",
       "cluster E9--><a href=\"psysml:b0babda1-ae00-488b-8e87-1a86d4c9a0c6\" target=\"_top\" title=\"psysml:b0babda1-ae00-488b-8e87-1a86d4c9a0c6\" xlink:actuate=\"onRequest\" xlink:href=\"psysml:b0babda1-ae00-488b-8e87-1a86d4c9a0c6\" xlink:show=\"new\" xlink:title=\"psysml:b0babda1-ae00-488b-8e87-1a86d4c9a0c6\" xlink:type=\"simple\"><polygon fill=\"#FFFFFF\" points=\"50.5,477,96.5,477,103.5,499.2969,132.5,499.2969,132.5,643,50.5,643,50.5,477\" style=\"stroke: #000000; stroke-width: 1.5;\"/><line style=\"stroke: #000000; stroke-width: 1.5;\" x1=\"50.5\" x2=\"103.5\" y1=\"499.2969\" y2=\"499.2969\"/><text fill=\"#000000\" font-family=\"sans-serif\" font-size=\"14\" font-weight=\"bold\" lengthAdjust=\"spacingAndGlyphs\" textLength=\"40\" x=\"54.5\" y=\"491.9951\">Test2</text></a><g id=\"E1.E2.E3\"><a href=\"psysml:a77b04ef-8587-44c9-8b7f-efa23f8b51b3\" target=\"_top\" title=\"psysml:a77b04ef-8587-44c9-8b7f-efa23f8b51b3\" xlink:actuate=\"onRequest\" xlink:href=\"psysml:a77b04ef-8587-44c9-8b7f-efa23f8b51b3\" xlink:show=\"new\" xlink:title=\"psysml:a77b04ef-8587-44c9-8b7f-efa23f8b51b3\" xlink:type=\"simple\"><rect fill=\"#FFFFFF\" height=\"42.9375\" id=\"E3\" style=\"stroke: #383838; stroke-width: 1.5;\" width=\"71\" x=\"56\" y=\"84.5\"/><rect fill=\"#F8F8F8\" height=\"37.9375\" style=\"stroke: #383838; stroke-width: 1.5;\" width=\"71\" x=\"56\" y=\"84.5\"/><text fill=\"#000000\" font-family=\"sans-serif\" font-size=\"12\" font-style=\"italic\" lengthAdjust=\"spacingAndGlyphs\" textLength=\"64\" x=\"59.5\" y=\"100.6387\">«part def»</text><text fill=\"#000000\" font-family=\"sans-serif\" font-size=\"12\" lengthAdjust=\"spacingAndGlyphs\" textLength=\"8\" x=\"87.5\" y=\"114.6074\">A</text></a></g><g id=\"E1.E4.E5\"><a href=\"psysml:0236a647-9823-419e-b974-acac8cdc5ece\" target=\"_top\" title=\"psysml:0236a647-9823-419e-b974-acac8cdc5ece\" xlink:actuate=\"onRequest\" xlink:href=\"psysml:0236a647-9823-419e-b974-acac8cdc5ece\" xlink:show=\"new\" xlink:title=\"psysml:0236a647-9823-419e-b974-acac8cdc5ece\" xlink:type=\"simple\"><rect fill=\"#FFFFFF\" height=\"42.9375\" id=\"E5\" style=\"stroke: #383838; stroke-width: 1.5;\" width=\"71\" x=\"56\" y=\"203.5\"/><rect fill=\"#F8F8F8\" height=\"37.9375\" style=\"stroke: #383838; stroke-width: 1.5;\" width=\"71\" x=\"56\" y=\"203.5\"/><text fill=\"#000000\" font-family=\"sans-serif\" font-size=\"12\" font-style=\"italic\" lengthAdjust=\"spacingAndGlyphs\" textLength=\"64\" x=\"59.5\" y=\"219.6387\">«part def»</text><text fill=\"#000000\" font-family=\"sans-serif\" font-size=\"12\" lengthAdjust=\"spacingAndGlyphs\" textLength=\"8\" x=\"87.5\" y=\"233.6074\">B</text></a></g><g id=\"E1.E6.E7\"><a href=\"psysml:d9c30419-fa03-4224-9f9b-cc52ece95c03\" target=\"_top\" title=\"psysml:d9c30419-fa03-4224-9f9b-cc52ece95c03\" xlink:actuate=\"onRequest\" xlink:href=\"psysml:d9c30419-fa03-4224-9f9b-cc52ece95c03\" xlink:show=\"new\" xlink:title=\"psysml:d9c30419-fa03-4224-9f9b-cc52ece95c03\" xlink:type=\"simple\"><rect fill=\"#FFFFFF\" height=\"40\" id=\"E7\" rx=\"10\" ry=\"10\" style=\"stroke: #383838; stroke-width: 1.5;\" width=\"50\" x=\"66.5\" y=\"322\"/><rect fill=\"#F8F8F8\" height=\"23.9688\" rx=\"10\" ry=\"10\" style=\"stroke: #F8F8F8; stroke-width: 1.5;\" width=\"50\" x=\"66.5\" y=\"322\"/><rect fill=\"#F8F8F8\" height=\"10\" style=\"stroke: #F8F8F8; stroke-width: 1.5;\" width=\"50\" x=\"66.5\" y=\"335.9688\"/><rect fill=\"none\" height=\"40\" id=\"E7\" rx=\"10\" ry=\"10\" style=\"stroke: #383838; stroke-width: 1.5;\" width=\"50\" x=\"66.5\" y=\"322\"/><text fill=\"#000000\" font-family=\"sans-serif\" font-size=\"12\" lengthAdjust=\"spacingAndGlyphs\" textLength=\"22\" x=\"80.5\" y=\"338.1387\">x: A</text></a></g><g id=\"E1.E6.E8\"><a href=\"psysml:32c0d6a2-b48f-4756-bec9-ba81426d308d\" target=\"_top\" title=\"psysml:32c0d6a2-b48f-4756-bec9-ba81426d308d\" xlink:actuate=\"onRequest\" xlink:href=\"psysml:32c0d6a2-b48f-4756-bec9-ba81426d308d\" xlink:show=\"new\" xlink:title=\"psysml:32c0d6a2-b48f-4756-bec9-ba81426d308d\" xlink:type=\"simple\"><rect fill=\"#FFFFFF\" height=\"40\" id=\"E8\" rx=\"10\" ry=\"10\" style=\"stroke: #383838; stroke-width: 1.5;\" width=\"50\" x=\"66.5\" y=\"397\"/><rect fill=\"#F8F8F8\" height=\"23.9688\" rx=\"10\" ry=\"10\" style=\"stroke: #F8F8F8; stroke-width: 1.5;\" width=\"50\" x=\"66.5\" y=\"397\"/><rect fill=\"#F8F8F8\" height=\"10\" style=\"stroke: #F8F8F8; stroke-width: 1.5;\" width=\"50\" x=\"66.5\" y=\"410.9688\"/><rect fill=\"none\" height=\"40\" id=\"E8\" rx=\"10\" ry=\"10\" style=\"stroke: #383838; stroke-width: 1.5;\" width=\"50\" x=\"66.5\" y=\"397\"/><text fill=\"#000000\" font-family=\"sans-serif\" font-size=\"12\" lengthAdjust=\"spacingAndGlyphs\" textLength=\"22\" x=\"80.5\" y=\"413.1387\">y: B</text></a></g><g id=\"E1.E9.E10\"><a href=\"psysml:4b1ceaae-3a33-4edd-a713-ae072a8ba794\" target=\"_top\" title=\"psysml:4b1ceaae-3a33-4edd-a713-ae072a8ba794\" xlink:actuate=\"onRequest\" xlink:href=\"psysml:4b1ceaae-3a33-4edd-a713-ae072a8ba794\" xlink:show=\"new\" xlink:title=\"psysml:4b1ceaae-3a33-4edd-a713-ae072a8ba794\" xlink:type=\"simple\"><rect fill=\"#FFFFFF\" height=\"40\" id=\"E10\" rx=\"10\" ry=\"10\" style=\"stroke: #383838; stroke-width: 1.5;\" width=\"50\" x=\"66.5\" y=\"512\"/><rect fill=\"#F8F8F8\" height=\"23.9688\" rx=\"10\" ry=\"10\" style=\"stroke: #F8F8F8; stroke-width: 1.5;\" width=\"50\" x=\"66.5\" y=\"512\"/><rect fill=\"#F8F8F8\" height=\"10\" style=\"stroke: #F8F8F8; stroke-width: 1.5;\" width=\"50\" x=\"66.5\" y=\"525.9688\"/><rect fill=\"none\" height=\"40\" id=\"E10\" rx=\"10\" ry=\"10\" style=\"stroke: #383838; stroke-width: 1.5;\" width=\"50\" x=\"66.5\" y=\"512\"/><text fill=\"#000000\" font-family=\"sans-serif\" font-size=\"12\" lengthAdjust=\"spacingAndGlyphs\" textLength=\"22\" x=\"80.5\" y=\"528.1387\">x: A</text></a></g><g id=\"E1.E9.E11\"><a href=\"psysml:8a3e0fcf-a1f5-42bd-9af7-3ab68d312f86\" target=\"_top\" title=\"psysml:8a3e0fcf-a1f5-42bd-9af7-3ab68d312f86\" xlink:actuate=\"onRequest\" xlink:href=\"psysml:8a3e0fcf-a1f5-42bd-9af7-3ab68d312f86\" xlink:show=\"new\" xlink:title=\"psysml:8a3e0fcf-a1f5-42bd-9af7-3ab68d312f86\" xlink:type=\"simple\"><rect fill=\"#FFFFFF\" height=\"40\" id=\"E11\" rx=\"10\" ry=\"10\" style=\"stroke: #383838; stroke-width: 1.5;\" width=\"50\" x=\"66.5\" y=\"587\"/><rect fill=\"#F8F8F8\" height=\"23.9688\" rx=\"10\" ry=\"10\" style=\"stroke: #F8F8F8; stroke-width: 1.5;\" width=\"50\" x=\"66.5\" y=\"587\"/><rect fill=\"#F8F8F8\" height=\"10\" style=\"stroke: #F8F8F8; stroke-width: 1.5;\" width=\"50\" x=\"66.5\" y=\"600.9688\"/><rect fill=\"none\" height=\"40\" id=\"E11\" rx=\"10\" ry=\"10\" style=\"stroke: #383838; stroke-width: 1.5;\" width=\"50\" x=\"66.5\" y=\"587\"/><text fill=\"#000000\" font-family=\"sans-serif\" font-size=\"12\" lengthAdjust=\"spacingAndGlyphs\" textLength=\"22\" x=\"80.5\" y=\"603.1387\">y: B</text></a></g><g id=\"E1.E12\"><a href=\"psysml:be17b73a-3dde-44ce-ab8b-a0409ce39ee3\" target=\"_top\" title=\"psysml:be17b73a-3dde-44ce-ab8b-a0409ce39ee3\" xlink:actuate=\"onRequest\" xlink:href=\"psysml:be17b73a-3dde-44ce-ab8b-a0409ce39ee3\" xlink:show=\"new\" xlink:title=\"psysml:be17b73a-3dde-44ce-ab8b-a0409ce39ee3\" xlink:type=\"simple\"><rect fill=\"#FFFFFF\" height=\"40\" id=\"E12\" rx=\"10\" ry=\"10\" style=\"stroke: #383838; stroke-width: 1.5;\" width=\"50\" x=\"66.5\" y=\"662\"/><rect fill=\"#F8F8F8\" height=\"23.9688\" rx=\"10\" ry=\"10\" style=\"stroke: #F8F8F8; stroke-width: 1.5;\" width=\"50\" x=\"66.5\" y=\"662\"/><rect fill=\"#F8F8F8\" height=\"10\" style=\"stroke: #F8F8F8; stroke-width: 1.5;\" width=\"50\" x=\"66.5\" y=\"675.9688\"/><rect fill=\"none\" height=\"40\" id=\"E12\" rx=\"10\" ry=\"10\" style=\"stroke: #383838; stroke-width: 1.5;\" width=\"50\" x=\"66.5\" y=\"662\"/><text fill=\"#000000\" font-family=\"sans-serif\" font-size=\"12\" lengthAdjust=\"spacingAndGlyphs\" textLength=\"22\" x=\"80.5\" y=\"678.1387\">x: A</text></a></g><g id=\"E1.E13\"><a href=\"psysml:70775e2d-ada4-46b3-b3bb-1618b7e606cf\" target=\"_top\" title=\"psysml:70775e2d-ada4-46b3-b3bb-1618b7e606cf\" xlink:actuate=\"onRequest\" xlink:href=\"psysml:70775e2d-ada4-46b3-b3bb-1618b7e606cf\" xlink:show=\"new\" xlink:title=\"psysml:70775e2d-ada4-46b3-b3bb-1618b7e606cf\" xlink:type=\"simple\"><rect fill=\"#FFFFFF\" height=\"40\" id=\"E13\" rx=\"10\" ry=\"10\" style=\"stroke: #383838; stroke-width: 1.5;\" width=\"50\" x=\"66.5\" y=\"737\"/><rect fill=\"#F8F8F8\" height=\"23.9688\" rx=\"10\" ry=\"10\" style=\"stroke: #F8F8F8; stroke-width: 1.5;\" width=\"50\" x=\"66.5\" y=\"737\"/><rect fill=\"#F8F8F8\" height=\"10\" style=\"stroke: #F8F8F8; stroke-width: 1.5;\" width=\"50\" x=\"66.5\" y=\"750.9688\"/><rect fill=\"none\" height=\"40\" id=\"E13\" rx=\"10\" ry=\"10\" style=\"stroke: #383838; stroke-width: 1.5;\" width=\"50\" x=\"66.5\" y=\"737\"/><text fill=\"#000000\" font-family=\"sans-serif\" font-size=\"12\" lengthAdjust=\"spacingAndGlyphs\" textLength=\"22\" x=\"80.5\" y=\"753.1387\">y: B</text></a></g><!--MD5=[d001a8b039284d5ac6970b72010193d5]\n",
       "@startuml\r\n",
       "skinparam ranksep 10\r\n",
       "skinparam rectangle {\r\n",
       " backgroundColor<<block>> LightGreen\r\n",
       "}\r\n",
       "left to right direction\r\n",
       "skinparam monochrome true\r\n",
       "skinparam classbackgroundcolor white\r\n",
       "skinparam shadowing false\r\n",
       "skinparam wrapWidth 300\r\n",
       "hide circle\r\n",
       "\r\n",
       "package \"CircularImport\" as E1  [[psysml:7332441d-5859-4b68-88e6-44e4d7acfbc9 ]]  {\r\n",
       "package \"P1\" as E2  [[psysml:5f20ae7d-4d57-41a2-9907-55aa74d31ca3 ]]  {\r\n",
       "rec def \"A\" as E3  <<(T,blue) part def>> [[psysml:a77b04ef-8587-44c9-8b7f-efa23f8b51b3 ]] {\r\n",
       "}\r\n",
       "}\r\n",
       "package \"P2\" as E4  [[psysml:ebcd3975-b264-4248-9466-34d42d3f68ce ]]  {\r\n",
       "rec def \"B\" as E5  <<(T,blue) part def>> [[psysml:0236a647-9823-419e-b974-acac8cdc5ece ]] {\r\n",
       "}\r\n",
       "}\r\n",
       "package \"Test1\" as E6  [[psysml:da6ad505-2daa-495a-83b8-d3ba9d2de3a4 ]]  {\r\n",
       "rec usage \"x: A\" as E7  [[psysml:d9c30419-fa03-4224-9f9b-cc52ece95c03 ]] {\r\n",
       "}\r\n",
       "rec usage \"y: B\" as E8  [[psysml:32c0d6a2-b48f-4756-bec9-ba81426d308d ]] {\r\n",
       "}\r\n",
       "}\r\n",
       "package \"Test2\" as E9  [[psysml:b0babda1-ae00-488b-8e87-1a86d4c9a0c6 ]]  {\r\n",
       "rec usage \"x: A\" as E10  [[psysml:4b1ceaae-3a33-4edd-a713-ae072a8ba794 ]] {\r\n",
       "}\r\n",
       "rec usage \"y: B\" as E11  [[psysml:8a3e0fcf-a1f5-42bd-9af7-3ab68d312f86 ]] {\r\n",
       "}\r\n",
       "}\r\n",
       "rec usage \"x: A\" as E12  [[psysml:be17b73a-3dde-44ce-ab8b-a0409ce39ee3 ]] {\r\n",
       "}\r\n",
       "rec usage \"y: B\" as E13  [[psysml:70775e2d-ada4-46b3-b3bb-1618b7e606cf ]] {\r\n",
       "}\r\n",
       "}\r\n",
       "@enduml\r\n",
       "\n",
       "PlantUML version 1.2020.13(Sat Jun 13 12:26:38 UTC 2020)\n",
       "(EPL source distribution)\n",
       "Java Runtime: OpenJDK Runtime Environment\n",
       "JVM: OpenJDK 64-Bit Server VM\n",
       "Default Encoding: UTF-8\n",
       "Language: en\n",
       "Country: null\n",
       "--></g></svg>"
      ]
     },
     "execution_count": 19,
     "metadata": {},
     "output_type": "execute_result"
    }
   ],
   "source": [
    "%viz --style=\"LR\" --view=\"Interconnection\" \"CircularImport\""
   ]
  },
  {
   "cell_type": "code",
   "execution_count": 20,
   "id": "8fcce015",
   "metadata": {
    "execution": {
     "iopub.execute_input": "2021-09-27T07:16:35.589491Z",
     "iopub.status.busy": "2021-09-27T07:16:35.589057Z",
     "iopub.status.idle": "2021-09-27T07:16:35.593834Z",
     "shell.execute_reply": "2021-09-27T07:16:35.594179Z"
    }
   },
   "outputs": [
    {
     "data": {
      "image/svg+xml": [
       "<?xml version=\"1.0\" encoding=\"UTF-8\" standalone=\"no\"?><svg xmlns=\"http://www.w3.org/2000/svg\" xmlns:xlink=\"http://www.w3.org/1999/xlink\" contentScriptType=\"application/ecmascript\" contentStyleType=\"text/css\" height=\"12px\" preserveAspectRatio=\"none\" style=\"width:12px;height:12px;\" version=\"1.1\" viewBox=\"0 0 12 12\" width=\"12px\" zoomAndPan=\"magnify\"><defs/><g><!--MD5=[7aeb398939421629f6affaa4a1a7b125]\n",
       "@startuml\r\n",
       "skinparam ranksep 8\r\n",
       "left to right direction\r\n",
       "skinparam monochrome true\r\n",
       "skinparam classbackgroundcolor white\r\n",
       "skinparam shadowing false\r\n",
       "skinparam wrapWidth 300\r\n",
       "hide circle\r\n",
       "\r\n",
       "@enduml\r\n",
       "\n",
       "PlantUML version 1.2020.13(Sat Jun 13 12:26:38 UTC 2020)\n",
       "(EPL source distribution)\n",
       "Java Runtime: OpenJDK Runtime Environment\n",
       "JVM: OpenJDK 64-Bit Server VM\n",
       "Default Encoding: UTF-8\n",
       "Language: en\n",
       "Country: null\n",
       "--></g></svg>"
      ]
     },
     "execution_count": 20,
     "metadata": {},
     "output_type": "execute_result"
    }
   ],
   "source": [
    "%viz --style=\"LR\" --view=\"Action\" \"CircularImport\""
   ]
  },
  {
   "cell_type": "code",
   "execution_count": 21,
   "id": "d7a903c1",
   "metadata": {
    "execution": {
     "iopub.execute_input": "2021-09-27T07:16:35.644295Z",
     "iopub.status.busy": "2021-09-27T07:16:35.643882Z",
     "iopub.status.idle": "2021-09-27T07:16:35.649323Z",
     "shell.execute_reply": "2021-09-27T07:16:35.649643Z"
    }
   },
   "outputs": [
    {
     "data": {
      "image/svg+xml": [
       "<?xml version=\"1.0\" encoding=\"UTF-8\" standalone=\"no\"?><svg xmlns=\"http://www.w3.org/2000/svg\" xmlns:xlink=\"http://www.w3.org/1999/xlink\" contentScriptType=\"application/ecmascript\" contentStyleType=\"text/css\" height=\"12px\" preserveAspectRatio=\"none\" style=\"width:12px;height:12px;\" version=\"1.1\" viewBox=\"0 0 12 12\" width=\"12px\" zoomAndPan=\"magnify\"><defs/><g><!--MD5=[238c11ea2002f03115ad6b49a457d50e]\n",
       "@startuml\r\n",
       "skinparam roundcorner 20\r\n",
       "skinparam BoxPadding 20\r\n",
       "skinparam SequenceBoxBackgroundColor #white\r\n",
       "skinparam style strictuml\r\n",
       "skinparam maxMessageSize 100\r\n",
       "left to right direction\r\n",
       "skinparam monochrome true\r\n",
       "skinparam classbackgroundcolor white\r\n",
       "skinparam shadowing false\r\n",
       "skinparam wrapWidth 300\r\n",
       "hide circle\r\n",
       "\r\n",
       "@enduml\r\n",
       "\n",
       "PlantUML version 1.2020.13(Sat Jun 13 12:26:38 UTC 2020)\n",
       "(EPL source distribution)\n",
       "Java Runtime: OpenJDK Runtime Environment\n",
       "JVM: OpenJDK 64-Bit Server VM\n",
       "Default Encoding: UTF-8\n",
       "Language: en\n",
       "Country: null\n",
       "--></g></svg>"
      ]
     },
     "execution_count": 21,
     "metadata": {},
     "output_type": "execute_result"
    }
   ],
   "source": [
    "%viz --style=\"LR\" --view=\"Sequence\" \"CircularImport\""
   ]
  },
  {
   "cell_type": "code",
   "execution_count": 22,
   "id": "ea57943f",
   "metadata": {
    "execution": {
     "iopub.execute_input": "2021-09-27T07:16:35.699760Z",
     "iopub.status.busy": "2021-09-27T07:16:35.699352Z",
     "iopub.status.idle": "2021-09-27T07:16:35.746523Z",
     "shell.execute_reply": "2021-09-27T07:16:35.746844Z"
    }
   },
   "outputs": [
    {
     "data": {
      "image/svg+xml": [
       "<?xml version=\"1.0\" encoding=\"UTF-8\" standalone=\"no\"?><svg xmlns=\"http://www.w3.org/2000/svg\" xmlns:xlink=\"http://www.w3.org/1999/xlink\" contentScriptType=\"application/ecmascript\" contentStyleType=\"text/css\" height=\"576px\" preserveAspectRatio=\"none\" style=\"width:286px;height:576px;\" version=\"1.1\" viewBox=\"0 0 286 576\" width=\"286px\" zoomAndPan=\"magnify\"><defs/><g><!--MD5=[fbc87193dbaf4d95561dea2c320d4a47]\n",
       "cluster E1--><a href=\"psysml:7332441d-5859-4b68-88e6-44e4d7acfbc9\" target=\"_top\" title=\"psysml:7332441d-5859-4b68-88e6-44e4d7acfbc9\" xlink:actuate=\"onRequest\" xlink:href=\"psysml:7332441d-5859-4b68-88e6-44e4d7acfbc9\" xlink:show=\"new\" xlink:title=\"psysml:7332441d-5859-4b68-88e6-44e4d7acfbc9\" xlink:type=\"simple\"><polygon fill=\"#FFFFFF\" points=\"16,6,117,6,124,28.2969,264,28.2969,264,564,16,564,16,6\" style=\"stroke: #000000; stroke-width: 1.5;\"/><line style=\"stroke: #000000; stroke-width: 1.5;\" x1=\"16\" x2=\"124\" y1=\"28.2969\" y2=\"28.2969\"/><text fill=\"#000000\" font-family=\"sans-serif\" font-size=\"14\" font-weight=\"bold\" lengthAdjust=\"spacingAndGlyphs\" textLength=\"95\" x=\"20\" y=\"20.9951\">CircularImport</text></a><!--MD5=[e4f7fae6ed58524ba242bb0b0d3be6b7]\n",
       "cluster E2--><a href=\"psysml:5f20ae7d-4d57-41a2-9907-55aa74d31ca3\" target=\"_top\" title=\"psysml:5f20ae7d-4d57-41a2-9907-55aa74d31ca3\" xlink:actuate=\"onRequest\" xlink:href=\"psysml:5f20ae7d-4d57-41a2-9907-55aa74d31ca3\" xlink:show=\"new\" xlink:title=\"psysml:5f20ae7d-4d57-41a2-9907-55aa74d31ca3\" xlink:type=\"simple\"><polygon fill=\"#FFFFFF\" points=\"142,103,166,103,173,125.2969,240,125.2969,240,200,142,200,142,103\" style=\"stroke: #000000; stroke-width: 1.5;\"/><line style=\"stroke: #000000; stroke-width: 1.5;\" x1=\"142\" x2=\"173\" y1=\"125.2969\" y2=\"125.2969\"/><text fill=\"#000000\" font-family=\"sans-serif\" font-size=\"14\" font-weight=\"bold\" lengthAdjust=\"spacingAndGlyphs\" textLength=\"18\" x=\"146\" y=\"117.9951\">P1</text></a><!--MD5=[f6df4d0ebaf0b5dfb2ced0ae5af7c670]\n",
       "cluster E4--><a href=\"psysml:ebcd3975-b264-4248-9466-34d42d3f68ce\" target=\"_top\" title=\"psysml:ebcd3975-b264-4248-9466-34d42d3f68ce\" xlink:actuate=\"onRequest\" xlink:href=\"psysml:ebcd3975-b264-4248-9466-34d42d3f68ce\" xlink:show=\"new\" xlink:title=\"psysml:ebcd3975-b264-4248-9466-34d42d3f68ce\" xlink:type=\"simple\"><polygon fill=\"#FFFFFF\" points=\"142,386,166,386,173,408.2969,240,408.2969,240,483,142,483,142,386\" style=\"stroke: #000000; stroke-width: 1.5;\"/><line style=\"stroke: #000000; stroke-width: 1.5;\" x1=\"142\" x2=\"173\" y1=\"408.2969\" y2=\"408.2969\"/><text fill=\"#000000\" font-family=\"sans-serif\" font-size=\"14\" font-weight=\"bold\" lengthAdjust=\"spacingAndGlyphs\" textLength=\"18\" x=\"146\" y=\"400.9951\">P2</text></a><!--MD5=[14e3b0961a2654348d326746436168a1]\n",
       "cluster E6--><a href=\"psysml:da6ad505-2daa-495a-83b8-d3ba9d2de3a4\" target=\"_top\" title=\"psysml:da6ad505-2daa-495a-83b8-d3ba9d2de3a4\" xlink:actuate=\"onRequest\" xlink:href=\"psysml:da6ad505-2daa-495a-83b8-d3ba9d2de3a4\" xlink:show=\"new\" xlink:title=\"psysml:da6ad505-2daa-495a-83b8-d3ba9d2de3a4\" xlink:type=\"simple\"><polygon fill=\"#FFFFFF\" points=\"40,103,86,103,93,125.2969,114,125.2969,114,281,40,281,40,103\" style=\"stroke: #000000; stroke-width: 1.5;\"/><line style=\"stroke: #000000; stroke-width: 1.5;\" x1=\"40\" x2=\"93\" y1=\"125.2969\" y2=\"125.2969\"/><text fill=\"#000000\" font-family=\"sans-serif\" font-size=\"14\" font-weight=\"bold\" lengthAdjust=\"spacingAndGlyphs\" textLength=\"40\" x=\"44\" y=\"117.9951\">Test1</text></a><!--MD5=[7f149f147074ac12df2cb0a7728a5fb0]\n",
       "cluster E9--><a href=\"psysml:b0babda1-ae00-488b-8e87-1a86d4c9a0c6\" target=\"_top\" title=\"psysml:b0babda1-ae00-488b-8e87-1a86d4c9a0c6\" xlink:actuate=\"onRequest\" xlink:href=\"psysml:b0babda1-ae00-488b-8e87-1a86d4c9a0c6\" xlink:show=\"new\" xlink:title=\"psysml:b0babda1-ae00-488b-8e87-1a86d4c9a0c6\" xlink:type=\"simple\"><polygon fill=\"#FFFFFF\" points=\"40,305,86,305,93,327.2969,114,327.2969,114,483,40,483,40,305\" style=\"stroke: #000000; stroke-width: 1.5;\"/><line style=\"stroke: #000000; stroke-width: 1.5;\" x1=\"40\" x2=\"93\" y1=\"327.2969\" y2=\"327.2969\"/><text fill=\"#000000\" font-family=\"sans-serif\" font-size=\"14\" font-weight=\"bold\" lengthAdjust=\"spacingAndGlyphs\" textLength=\"40\" x=\"44\" y=\"319.9951\">Test2</text></a><!--MD5=[49a0ec8f00dab7302a31f22d0f0fe584]\n",
       "class E12--><a href=\"psysml:be17b73a-3dde-44ce-ab8b-a0409ce39ee3\" target=\"_top\" title=\"psysml:be17b73a-3dde-44ce-ab8b-a0409ce39ee3\" xlink:actuate=\"onRequest\" xlink:href=\"psysml:be17b73a-3dde-44ce-ab8b-a0409ce39ee3\" xlink:show=\"new\" xlink:title=\"psysml:be17b73a-3dde-44ce-ab8b-a0409ce39ee3\" xlink:type=\"simple\"><rect fill=\"#FFFFFF\" height=\"45.9375\" id=\"E12\" rx=\"10\" ry=\"10\" style=\"stroke: #383838; stroke-width: 1.5;\" width=\"42\" x=\"56\" y=\"41\"/><text fill=\"#000000\" font-family=\"sans-serif\" font-size=\"12\" font-style=\"italic\" lengthAdjust=\"spacingAndGlyphs\" textLength=\"40\" x=\"57\" y=\"57.1387\">«part»</text><text fill=\"#000000\" font-family=\"sans-serif\" font-size=\"12\" lengthAdjust=\"spacingAndGlyphs\" textLength=\"22\" x=\"66\" y=\"71.1074\">x: A</text><line style=\"stroke: #383838; stroke-width: 1.5;\" x1=\"57\" x2=\"97\" y1=\"78.9375\" y2=\"78.9375\"/></a><!--MD5=[ee3c913d1a06f366521f9ef512b67efe]\n",
       "class E13--><a href=\"psysml:70775e2d-ada4-46b3-b3bb-1618b7e606cf\" target=\"_top\" title=\"psysml:70775e2d-ada4-46b3-b3bb-1618b7e606cf\" xlink:actuate=\"onRequest\" xlink:href=\"psysml:70775e2d-ada4-46b3-b3bb-1618b7e606cf\" xlink:show=\"new\" xlink:title=\"psysml:70775e2d-ada4-46b3-b3bb-1618b7e606cf\" xlink:type=\"simple\"><rect fill=\"#FFFFFF\" height=\"45.9375\" id=\"E13\" rx=\"10\" ry=\"10\" style=\"stroke: #383838; stroke-width: 1.5;\" width=\"42\" x=\"56\" y=\"502\"/><text fill=\"#000000\" font-family=\"sans-serif\" font-size=\"12\" font-style=\"italic\" lengthAdjust=\"spacingAndGlyphs\" textLength=\"40\" x=\"57\" y=\"518.1387\">«part»</text><text fill=\"#000000\" font-family=\"sans-serif\" font-size=\"12\" lengthAdjust=\"spacingAndGlyphs\" textLength=\"22\" x=\"66\" y=\"532.1074\">y: B</text><line style=\"stroke: #383838; stroke-width: 1.5;\" x1=\"57\" x2=\"97\" y1=\"539.9375\" y2=\"539.9375\"/></a><!--MD5=[09b614a08d8cba4a07c9adeb5e0fee81]\n",
       "class E3--><a href=\"psysml:a77b04ef-8587-44c9-8b7f-efa23f8b51b3\" target=\"_top\" title=\"psysml:a77b04ef-8587-44c9-8b7f-efa23f8b51b3\" xlink:actuate=\"onRequest\" xlink:href=\"psysml:a77b04ef-8587-44c9-8b7f-efa23f8b51b3\" xlink:show=\"new\" xlink:title=\"psysml:a77b04ef-8587-44c9-8b7f-efa23f8b51b3\" xlink:type=\"simple\"><rect fill=\"#FFFFFF\" height=\"45.9375\" id=\"E3\" style=\"stroke: #383838; stroke-width: 1.5;\" width=\"66\" x=\"158\" y=\"138\"/><text fill=\"#000000\" font-family=\"sans-serif\" font-size=\"12\" font-style=\"italic\" lengthAdjust=\"spacingAndGlyphs\" textLength=\"64\" x=\"159\" y=\"154.1387\">«part def»</text><text fill=\"#000000\" font-family=\"sans-serif\" font-size=\"12\" lengthAdjust=\"spacingAndGlyphs\" textLength=\"8\" x=\"187\" y=\"168.1074\">A</text><line style=\"stroke: #383838; stroke-width: 1.5;\" x1=\"159\" x2=\"223\" y1=\"175.9375\" y2=\"175.9375\"/></a><!--MD5=[270fce915f116d4de14055a7c1d9a0f3]\n",
       "class E5--><a href=\"psysml:0236a647-9823-419e-b974-acac8cdc5ece\" target=\"_top\" title=\"psysml:0236a647-9823-419e-b974-acac8cdc5ece\" xlink:actuate=\"onRequest\" xlink:href=\"psysml:0236a647-9823-419e-b974-acac8cdc5ece\" xlink:show=\"new\" xlink:title=\"psysml:0236a647-9823-419e-b974-acac8cdc5ece\" xlink:type=\"simple\"><rect fill=\"#FFFFFF\" height=\"45.9375\" id=\"E5\" style=\"stroke: #383838; stroke-width: 1.5;\" width=\"66\" x=\"158\" y=\"421\"/><text fill=\"#000000\" font-family=\"sans-serif\" font-size=\"12\" font-style=\"italic\" lengthAdjust=\"spacingAndGlyphs\" textLength=\"64\" x=\"159\" y=\"437.1387\">«part def»</text><text fill=\"#000000\" font-family=\"sans-serif\" font-size=\"12\" lengthAdjust=\"spacingAndGlyphs\" textLength=\"8\" x=\"187\" y=\"451.1074\">B</text><line style=\"stroke: #383838; stroke-width: 1.5;\" x1=\"159\" x2=\"223\" y1=\"458.9375\" y2=\"458.9375\"/></a><!--MD5=[2156ba9850f5573cc1fc38a6a4b2f02b]\n",
       "class E7--><a href=\"psysml:d9c30419-fa03-4224-9f9b-cc52ece95c03\" target=\"_top\" title=\"psysml:d9c30419-fa03-4224-9f9b-cc52ece95c03\" xlink:actuate=\"onRequest\" xlink:href=\"psysml:d9c30419-fa03-4224-9f9b-cc52ece95c03\" xlink:show=\"new\" xlink:title=\"psysml:d9c30419-fa03-4224-9f9b-cc52ece95c03\" xlink:type=\"simple\"><rect fill=\"#FFFFFF\" height=\"45.9375\" id=\"E7\" rx=\"10\" ry=\"10\" style=\"stroke: #383838; stroke-width: 1.5;\" width=\"42\" x=\"56\" y=\"138\"/><text fill=\"#000000\" font-family=\"sans-serif\" font-size=\"12\" font-style=\"italic\" lengthAdjust=\"spacingAndGlyphs\" textLength=\"40\" x=\"57\" y=\"154.1387\">«part»</text><text fill=\"#000000\" font-family=\"sans-serif\" font-size=\"12\" lengthAdjust=\"spacingAndGlyphs\" textLength=\"22\" x=\"66\" y=\"168.1074\">x: A</text><line style=\"stroke: #383838; stroke-width: 1.5;\" x1=\"57\" x2=\"97\" y1=\"175.9375\" y2=\"175.9375\"/></a><!--MD5=[b9389687b975829384b498ac4b7476b2]\n",
       "class E8--><a href=\"psysml:32c0d6a2-b48f-4756-bec9-ba81426d308d\" target=\"_top\" title=\"psysml:32c0d6a2-b48f-4756-bec9-ba81426d308d\" xlink:actuate=\"onRequest\" xlink:href=\"psysml:32c0d6a2-b48f-4756-bec9-ba81426d308d\" xlink:show=\"new\" xlink:title=\"psysml:32c0d6a2-b48f-4756-bec9-ba81426d308d\" xlink:type=\"simple\"><rect fill=\"#FFFFFF\" height=\"45.9375\" id=\"E8\" rx=\"10\" ry=\"10\" style=\"stroke: #383838; stroke-width: 1.5;\" width=\"42\" x=\"56\" y=\"219\"/><text fill=\"#000000\" font-family=\"sans-serif\" font-size=\"12\" font-style=\"italic\" lengthAdjust=\"spacingAndGlyphs\" textLength=\"40\" x=\"57\" y=\"235.1387\">«part»</text><text fill=\"#000000\" font-family=\"sans-serif\" font-size=\"12\" lengthAdjust=\"spacingAndGlyphs\" textLength=\"22\" x=\"66\" y=\"249.1074\">y: B</text><line style=\"stroke: #383838; stroke-width: 1.5;\" x1=\"57\" x2=\"97\" y1=\"256.9375\" y2=\"256.9375\"/></a><!--MD5=[96f4274e9e20536e775497830990834d]\n",
       "class E10--><a href=\"psysml:4b1ceaae-3a33-4edd-a713-ae072a8ba794\" target=\"_top\" title=\"psysml:4b1ceaae-3a33-4edd-a713-ae072a8ba794\" xlink:actuate=\"onRequest\" xlink:href=\"psysml:4b1ceaae-3a33-4edd-a713-ae072a8ba794\" xlink:show=\"new\" xlink:title=\"psysml:4b1ceaae-3a33-4edd-a713-ae072a8ba794\" xlink:type=\"simple\"><rect fill=\"#FFFFFF\" height=\"45.9375\" id=\"E10\" rx=\"10\" ry=\"10\" style=\"stroke: #383838; stroke-width: 1.5;\" width=\"42\" x=\"56\" y=\"340\"/><text fill=\"#000000\" font-family=\"sans-serif\" font-size=\"12\" font-style=\"italic\" lengthAdjust=\"spacingAndGlyphs\" textLength=\"40\" x=\"57\" y=\"356.1387\">«part»</text><text fill=\"#000000\" font-family=\"sans-serif\" font-size=\"12\" lengthAdjust=\"spacingAndGlyphs\" textLength=\"22\" x=\"66\" y=\"370.1074\">x: A</text><line style=\"stroke: #383838; stroke-width: 1.5;\" x1=\"57\" x2=\"97\" y1=\"377.9375\" y2=\"377.9375\"/></a><!--MD5=[1dd1bfd58a279cf63c5f349dbc8fc6a1]\n",
       "class E11--><a href=\"psysml:8a3e0fcf-a1f5-42bd-9af7-3ab68d312f86\" target=\"_top\" title=\"psysml:8a3e0fcf-a1f5-42bd-9af7-3ab68d312f86\" xlink:actuate=\"onRequest\" xlink:href=\"psysml:8a3e0fcf-a1f5-42bd-9af7-3ab68d312f86\" xlink:show=\"new\" xlink:title=\"psysml:8a3e0fcf-a1f5-42bd-9af7-3ab68d312f86\" xlink:type=\"simple\"><rect fill=\"#FFFFFF\" height=\"45.9375\" id=\"E11\" rx=\"10\" ry=\"10\" style=\"stroke: #383838; stroke-width: 1.5;\" width=\"42\" x=\"56\" y=\"421\"/><text fill=\"#000000\" font-family=\"sans-serif\" font-size=\"12\" font-style=\"italic\" lengthAdjust=\"spacingAndGlyphs\" textLength=\"40\" x=\"57\" y=\"437.1387\">«part»</text><text fill=\"#000000\" font-family=\"sans-serif\" font-size=\"12\" lengthAdjust=\"spacingAndGlyphs\" textLength=\"22\" x=\"66\" y=\"451.1074\">y: B</text><line style=\"stroke: #383838; stroke-width: 1.5;\" x1=\"57\" x2=\"97\" y1=\"458.9375\" y2=\"458.9375\"/></a><!--MD5=[14ccda38c055a5c0da953d572bc50960]\n",
       "link E7 to E3--><a href=\"psysml:520b462f-0086-4fa2-a8c7-c457cfb393b0\" target=\"_top\" title=\"psysml:520b462f-0086-4fa2-a8c7-c457cfb393b0\" xlink:actuate=\"onRequest\" xlink:href=\"psysml:520b462f-0086-4fa2-a8c7-c457cfb393b0\" xlink:show=\"new\" xlink:title=\"psysml:520b462f-0086-4fa2-a8c7-c457cfb393b0\" xlink:type=\"simple\"><path d=\"M98.02,161 C109.18,161 123.65,161 137.79,161 \" fill=\"none\" id=\"E7-&gt;E3\" style=\"stroke: #383838; stroke-width: 1.0;\"/><polygon fill=\"#FFFFFF\" points=\"157.86,161,138.86,168,138.86,154,157.86,161\" style=\"stroke: #383838; stroke-width: 1.0;\"/><ellipse cx=\"133.16\" cy=\"166\" fill=\"#383838\" rx=\"2\" ry=\"2\" style=\"stroke: #383838; stroke-width: 1.0;\"/><ellipse cx=\"133.16\" cy=\"156\" fill=\"#383838\" rx=\"2\" ry=\"2\" style=\"stroke: #383838; stroke-width: 1.0;\"/></a><!--MD5=[1ccb2481ffa92f8d51a74ee30c51832a]\n",
       "link E8 to E5--><a href=\"psysml:7aecf3a3-7124-43a8-804d-679627dba63d\" target=\"_top\" title=\"psysml:7aecf3a3-7124-43a8-804d-679627dba63d\" xlink:actuate=\"onRequest\" xlink:href=\"psysml:7aecf3a3-7124-43a8-804d-679627dba63d\" xlink:show=\"new\" xlink:title=\"psysml:7aecf3a3-7124-43a8-804d-679627dba63d\" xlink:type=\"simple\"><path d=\"M90.85,265.17 C109.49,298.8 144.32,361.62 167.34,403.13 \" fill=\"none\" id=\"E8-&gt;E5\" style=\"stroke: #383838; stroke-width: 1.0;\"/><polygon fill=\"#FFFFFF\" points=\"177.13,420.79,161.7919,407.5709,174.0344,400.7796,177.13,420.79\" style=\"stroke: #383838; stroke-width: 1.0;\"/><ellipse cx=\"160.7758\" cy=\"401.6163\" fill=\"#383838\" rx=\"2\" ry=\"2\" style=\"stroke: #383838; stroke-width: 1.0;\"/><ellipse cx=\"169.5204\" cy=\"396.7653\" fill=\"#383838\" rx=\"2\" ry=\"2\" style=\"stroke: #383838; stroke-width: 1.0;\"/></a><!--MD5=[feeac5eb423634930294aa81f2d25a4c]\n",
       "link E10 to E3--><a href=\"psysml:fd0acd65-b864-4a8e-8ff2-cbce99549eac\" target=\"_top\" title=\"psysml:fd0acd65-b864-4a8e-8ff2-cbce99549eac\" xlink:actuate=\"onRequest\" xlink:href=\"psysml:fd0acd65-b864-4a8e-8ff2-cbce99549eac\" xlink:show=\"new\" xlink:title=\"psysml:fd0acd65-b864-4a8e-8ff2-cbce99549eac\" xlink:type=\"simple\"><path d=\"M90.85,339.83 C109.49,306.2 144.32,243.38 167.34,201.87 \" fill=\"none\" id=\"E10-&gt;E3\" style=\"stroke: #383838; stroke-width: 1.0;\"/><polygon fill=\"#FFFFFF\" points=\"177.13,184.21,174.0344,204.2204,161.7919,197.4291,177.13,184.21\" style=\"stroke: #383838; stroke-width: 1.0;\"/><ellipse cx=\"169.5204\" cy=\"208.2347\" fill=\"#383838\" rx=\"2\" ry=\"2\" style=\"stroke: #383838; stroke-width: 1.0;\"/><ellipse cx=\"160.7758\" cy=\"203.3837\" fill=\"#383838\" rx=\"2\" ry=\"2\" style=\"stroke: #383838; stroke-width: 1.0;\"/></a><!--MD5=[07b77f6f309248d16187045709d1c26e]\n",
       "link E11 to E5--><a href=\"psysml:442cb8f2-ee4b-4dfa-8164-f495024e2707\" target=\"_top\" title=\"psysml:442cb8f2-ee4b-4dfa-8164-f495024e2707\" xlink:actuate=\"onRequest\" xlink:href=\"psysml:442cb8f2-ee4b-4dfa-8164-f495024e2707\" xlink:show=\"new\" xlink:title=\"psysml:442cb8f2-ee4b-4dfa-8164-f495024e2707\" xlink:type=\"simple\"><path d=\"M98.02,444 C109.18,444 123.65,444 137.79,444 \" fill=\"none\" id=\"E11-&gt;E5\" style=\"stroke: #383838; stroke-width: 1.0;\"/><polygon fill=\"#FFFFFF\" points=\"157.86,444,138.86,451,138.86,437,157.86,444\" style=\"stroke: #383838; stroke-width: 1.0;\"/><ellipse cx=\"133.16\" cy=\"449\" fill=\"#383838\" rx=\"2\" ry=\"2\" style=\"stroke: #383838; stroke-width: 1.0;\"/><ellipse cx=\"133.16\" cy=\"439\" fill=\"#383838\" rx=\"2\" ry=\"2\" style=\"stroke: #383838; stroke-width: 1.0;\"/></a><!--MD5=[39f41a0e550fb3d73b4d8135617e30a2]\n",
       "link E12 to E3--><a href=\"psysml:fab56a21-03ff-446d-9dd1-385c5373a3f2\" target=\"_top\" title=\"psysml:fab56a21-03ff-446d-9dd1-385c5373a3f2\" xlink:actuate=\"onRequest\" xlink:href=\"psysml:fab56a21-03ff-446d-9dd1-385c5373a3f2\" xlink:show=\"new\" xlink:title=\"psysml:fab56a21-03ff-446d-9dd1-385c5373a3f2\" xlink:type=\"simple\"><path d=\"M98.02,81.34 C111.92,93.38 130.95,109.86 148.09,124.7 \" fill=\"none\" id=\"E12-&gt;E3\" style=\"stroke: #383838; stroke-width: 1.0;\"/><polygon fill=\"#FFFFFF\" points=\"163.41,137.97,144.4677,130.8155,153.6371,120.2361,163.41,137.97\" style=\"stroke: #383838; stroke-width: 1.0;\"/><ellipse cx=\"141.4703\" cy=\"125.5709\" fill=\"#383838\" rx=\"2\" ry=\"2\" style=\"stroke: #383838; stroke-width: 1.0;\"/><ellipse cx=\"148.0199\" cy=\"118.0142\" fill=\"#383838\" rx=\"2\" ry=\"2\" style=\"stroke: #383838; stroke-width: 1.0;\"/></a><!--MD5=[066b2d8af59fea80ccdb3d54ad5c1091]\n",
       "link E13 to E5--><a href=\"psysml:5cad6703-6f19-4c46-9c46-92acb368aec7\" target=\"_top\" title=\"psysml:5cad6703-6f19-4c46-9c46-92acb368aec7\" xlink:actuate=\"onRequest\" xlink:href=\"psysml:5cad6703-6f19-4c46-9c46-92acb368aec7\" xlink:show=\"new\" xlink:title=\"psysml:5cad6703-6f19-4c46-9c46-92acb368aec7\" xlink:type=\"simple\"><path d=\"M98.02,510.52 C110.09,501.79 126.03,490.27 141.24,479.27 \" fill=\"none\" id=\"E13-&gt;E5\" style=\"stroke: #383838; stroke-width: 1.0;\"/><polygon fill=\"#FFFFFF\" points=\"157.86,467.25,146.5582,484.0509,138.3595,472.7027,157.86,467.25\" style=\"stroke: #383838; stroke-width: 1.0;\"/><ellipse cx=\"140.7667\" cy=\"485.7678\" fill=\"#383838\" rx=\"2\" ry=\"2\" style=\"stroke: #383838; stroke-width: 1.0;\"/><ellipse cx=\"134.9104\" cy=\"477.6619\" fill=\"#383838\" rx=\"2\" ry=\"2\" style=\"stroke: #383838; stroke-width: 1.0;\"/></a><!--MD5=[40b0419302c1000ee8f5dcb878ab9d87]\n",
       "@startuml\r\n",
       "left to right direction\r\n",
       "skinparam monochrome true\r\n",
       "skinparam classbackgroundcolor white\r\n",
       "skinparam shadowing false\r\n",
       "skinparam wrapWidth 300\r\n",
       "hide circle\r\n",
       "\r\n",
       "package \"CircularImport\" as E1  [[psysml:7332441d-5859-4b68-88e6-44e4d7acfbc9 ]]  {\r\n",
       "package \"P1\" as E2  [[psysml:5f20ae7d-4d57-41a2-9907-55aa74d31ca3 ]]  {\r\n",
       "comp def \"A\" as E3  <<(T,blue) part def>> [[psysml:a77b04ef-8587-44c9-8b7f-efa23f8b51b3 ]] {\r\n",
       "}\r\n",
       "}\r\n",
       "package \"P2\" as E4  [[psysml:ebcd3975-b264-4248-9466-34d42d3f68ce ]]  {\r\n",
       "comp def \"B\" as E5  <<(T,blue) part def>> [[psysml:0236a647-9823-419e-b974-acac8cdc5ece ]] {\r\n",
       "}\r\n",
       "}\r\n",
       "package \"Test1\" as E6  [[psysml:da6ad505-2daa-495a-83b8-d3ba9d2de3a4 ]]  {\r\n",
       "comp usage \"x: A\" as E7  <<(T,blue) part>> [[psysml:d9c30419-fa03-4224-9f9b-cc52ece95c03 ]] {\r\n",
       "}\r\n",
       "comp usage \"y: B\" as E8  <<(T,blue) part>> [[psysml:32c0d6a2-b48f-4756-bec9-ba81426d308d ]] {\r\n",
       "}\r\n",
       "}\r\n",
       "package \"Test2\" as E9  [[psysml:b0babda1-ae00-488b-8e87-1a86d4c9a0c6 ]]  {\r\n",
       "comp usage \"x: A\" as E10  <<(T,blue) part>> [[psysml:4b1ceaae-3a33-4edd-a713-ae072a8ba794 ]] {\r\n",
       "}\r\n",
       "comp usage \"y: B\" as E11  <<(T,blue) part>> [[psysml:8a3e0fcf-a1f5-42bd-9af7-3ab68d312f86 ]] {\r\n",
       "}\r\n",
       "}\r\n",
       "comp usage \"x: A\" as E12  <<(T,blue) part>> [[psysml:be17b73a-3dde-44ce-ab8b-a0409ce39ee3 ]] {\r\n",
       "}\r\n",
       "comp usage \"y: B\" as E13  <<(T,blue) part>> [[psysml:70775e2d-ada4-46b3-b3bb-1618b7e606cf ]] {\r\n",
       "}\r\n",
       "}\r\n",
       "E7 - -:|> E3 [[psysml:520b462f-0086-4fa2-a8c7-c457cfb393b0 ]] \r\n",
       "E8 - -:|> E5 [[psysml:7aecf3a3-7124-43a8-804d-679627dba63d ]] \r\n",
       "E10 - -:|> E3 [[psysml:fd0acd65-b864-4a8e-8ff2-cbce99549eac ]] \r\n",
       "E11 - -:|> E5 [[psysml:442cb8f2-ee4b-4dfa-8164-f495024e2707 ]] \r\n",
       "E12 - -:|> E3 [[psysml:fab56a21-03ff-446d-9dd1-385c5373a3f2 ]] \r\n",
       "E13 - -:|> E5 [[psysml:5cad6703-6f19-4c46-9c46-92acb368aec7 ]] \r\n",
       "@enduml\r\n",
       "\n",
       "PlantUML version 1.2020.13(Sat Jun 13 12:26:38 UTC 2020)\n",
       "(EPL source distribution)\n",
       "Java Runtime: OpenJDK Runtime Environment\n",
       "JVM: OpenJDK 64-Bit Server VM\n",
       "Default Encoding: UTF-8\n",
       "Language: en\n",
       "Country: null\n",
       "--></g></svg>"
      ]
     },
     "execution_count": 22,
     "metadata": {},
     "output_type": "execute_result"
    }
   ],
   "source": [
    "%viz --style=\"LR\" --view=\"MIXED\" \"CircularImport\""
   ]
  },
  {
   "cell_type": "code",
   "execution_count": 23,
   "id": "8c6a5e49",
   "metadata": {
    "execution": {
     "iopub.execute_input": "2021-09-27T07:16:35.797065Z",
     "iopub.status.busy": "2021-09-27T07:16:35.796661Z",
     "iopub.status.idle": "2021-09-27T07:16:35.834789Z",
     "shell.execute_reply": "2021-09-27T07:16:35.834422Z"
    }
   },
   "outputs": [
    {
     "data": {
      "image/svg+xml": [
       "<?xml version=\"1.0\" encoding=\"UTF-8\" standalone=\"no\"?><svg xmlns=\"http://www.w3.org/2000/svg\" xmlns:xlink=\"http://www.w3.org/1999/xlink\" contentScriptType=\"application/ecmascript\" contentStyleType=\"text/css\" height=\"303px\" preserveAspectRatio=\"none\" style=\"width:518px;height:303px;\" version=\"1.1\" viewBox=\"0 0 518 303\" width=\"518px\" zoomAndPan=\"magnify\"><defs><filter height=\"300%\" id=\"f380v9hr4dlh9\" width=\"300%\" x=\"-1\" y=\"-1\"><feGaussianBlur result=\"blurOut\" stdDeviation=\"2.0\"/><feColorMatrix in=\"blurOut\" result=\"blurOut2\" type=\"matrix\" values=\"0 0 0 0 0 0 0 0 0 0 0 0 0 0 0 0 0 0 .4 0\"/><feOffset dx=\"4.0\" dy=\"4.0\" in=\"blurOut2\" result=\"blurOut3\"/><feBlend in=\"SourceGraphic\" in2=\"blurOut3\" mode=\"normal\"/></filter></defs><g><!--MD5=[fbc87193dbaf4d95561dea2c320d4a47]\n",
       "cluster E1--><a href=\"psysml:7332441d-5859-4b68-88e6-44e4d7acfbc9\" target=\"_top\" title=\"psysml:7332441d-5859-4b68-88e6-44e4d7acfbc9\" xlink:actuate=\"onRequest\" xlink:href=\"psysml:7332441d-5859-4b68-88e6-44e4d7acfbc9\" xlink:show=\"new\" xlink:title=\"psysml:7332441d-5859-4b68-88e6-44e4d7acfbc9\" xlink:type=\"simple\"><polygon fill=\"#FFFFFF\" filter=\"url(#f380v9hr4dlh9)\" points=\"16,6,117,6,124,28.2969,496,28.2969,496,291,16,291,16,6\" style=\"stroke: #000000; stroke-width: 1.5;\"/><line style=\"stroke: #000000; stroke-width: 1.5;\" x1=\"16\" x2=\"124\" y1=\"28.2969\" y2=\"28.2969\"/><text fill=\"#000000\" font-family=\"sans-serif\" font-size=\"14\" font-weight=\"bold\" lengthAdjust=\"spacingAndGlyphs\" textLength=\"95\" x=\"20\" y=\"20.9951\">CircularImport</text></a><!--MD5=[e4f7fae6ed58524ba242bb0b0d3be6b7]\n",
       "cluster E2--><a href=\"psysml:5f20ae7d-4d57-41a2-9907-55aa74d31ca3\" target=\"_top\" title=\"psysml:5f20ae7d-4d57-41a2-9907-55aa74d31ca3\" xlink:actuate=\"onRequest\" xlink:href=\"psysml:5f20ae7d-4d57-41a2-9907-55aa74d31ca3\" xlink:show=\"new\" xlink:title=\"psysml:5f20ae7d-4d57-41a2-9907-55aa74d31ca3\" xlink:type=\"simple\"><polygon fill=\"#FFFFFF\" filter=\"url(#f380v9hr4dlh9)\" points=\"333,170,357,170,364,192.2969,431,192.2969,431,267,333,267,333,170\" style=\"stroke: #000000; stroke-width: 1.5;\"/><line style=\"stroke: #000000; stroke-width: 1.5;\" x1=\"333\" x2=\"364\" y1=\"192.2969\" y2=\"192.2969\"/><text fill=\"#000000\" font-family=\"sans-serif\" font-size=\"14\" font-weight=\"bold\" lengthAdjust=\"spacingAndGlyphs\" textLength=\"18\" x=\"337\" y=\"184.9951\">P1</text></a><!--MD5=[f6df4d0ebaf0b5dfb2ced0ae5af7c670]\n",
       "cluster E4--><a href=\"psysml:ebcd3975-b264-4248-9466-34d42d3f68ce\" target=\"_top\" title=\"psysml:ebcd3975-b264-4248-9466-34d42d3f68ce\" xlink:actuate=\"onRequest\" xlink:href=\"psysml:ebcd3975-b264-4248-9466-34d42d3f68ce\" xlink:show=\"new\" xlink:title=\"psysml:ebcd3975-b264-4248-9466-34d42d3f68ce\" xlink:type=\"simple\"><polygon fill=\"#FFFFFF\" filter=\"url(#f380v9hr4dlh9)\" points=\"81,170,105,170,112,192.2969,179,192.2969,179,267,81,267,81,170\" style=\"stroke: #000000; stroke-width: 1.5;\"/><line style=\"stroke: #000000; stroke-width: 1.5;\" x1=\"81\" x2=\"112\" y1=\"192.2969\" y2=\"192.2969\"/><text fill=\"#000000\" font-family=\"sans-serif\" font-size=\"14\" font-weight=\"bold\" lengthAdjust=\"spacingAndGlyphs\" textLength=\"18\" x=\"85\" y=\"184.9951\">P2</text></a><!--MD5=[14e3b0961a2654348d326746436168a1]\n",
       "cluster E6--><a href=\"psysml:da6ad505-2daa-495a-83b8-d3ba9d2de3a4\" target=\"_top\" title=\"psysml:da6ad505-2daa-495a-83b8-d3ba9d2de3a4\" xlink:actuate=\"onRequest\" xlink:href=\"psysml:da6ad505-2daa-495a-83b8-d3ba9d2de3a4\" xlink:show=\"new\" xlink:title=\"psysml:da6ad505-2daa-495a-83b8-d3ba9d2de3a4\" xlink:type=\"simple\"><polygon fill=\"#FFFFFF\" filter=\"url(#f380v9hr4dlh9)\" points=\"268,49,314,49,321,71.2969,419,71.2969,419,146,268,146,268,49\" style=\"stroke: #000000; stroke-width: 1.5;\"/><line style=\"stroke: #000000; stroke-width: 1.5;\" x1=\"268\" x2=\"321\" y1=\"71.2969\" y2=\"71.2969\"/><text fill=\"#000000\" font-family=\"sans-serif\" font-size=\"14\" font-weight=\"bold\" lengthAdjust=\"spacingAndGlyphs\" textLength=\"40\" x=\"272\" y=\"63.9951\">Test1</text></a><!--MD5=[7f149f147074ac12df2cb0a7728a5fb0]\n",
       "cluster E9--><a href=\"psysml:b0babda1-ae00-488b-8e87-1a86d4c9a0c6\" target=\"_top\" title=\"psysml:b0babda1-ae00-488b-8e87-1a86d4c9a0c6\" xlink:actuate=\"onRequest\" xlink:href=\"psysml:b0babda1-ae00-488b-8e87-1a86d4c9a0c6\" xlink:show=\"new\" xlink:title=\"psysml:b0babda1-ae00-488b-8e87-1a86d4c9a0c6\" xlink:type=\"simple\"><polygon fill=\"#FFFFFF\" filter=\"url(#f380v9hr4dlh9)\" points=\"93,49,139,49,146,71.2969,244,71.2969,244,146,93,146,93,49\" style=\"stroke: #000000; stroke-width: 1.5;\"/><line style=\"stroke: #000000; stroke-width: 1.5;\" x1=\"93\" x2=\"146\" y1=\"71.2969\" y2=\"71.2969\"/><text fill=\"#000000\" font-family=\"sans-serif\" font-size=\"14\" font-weight=\"bold\" lengthAdjust=\"spacingAndGlyphs\" textLength=\"40\" x=\"97\" y=\"63.9951\">Test2</text></a><!--MD5=[49a0ec8f00dab7302a31f22d0f0fe584]\n",
       "class E12--><a href=\"psysml:be17b73a-3dde-44ce-ab8b-a0409ce39ee3\" target=\"_top\" title=\"psysml:be17b73a-3dde-44ce-ab8b-a0409ce39ee3\" xlink:actuate=\"onRequest\" xlink:href=\"psysml:be17b73a-3dde-44ce-ab8b-a0409ce39ee3\" xlink:show=\"new\" xlink:title=\"psysml:be17b73a-3dde-44ce-ab8b-a0409ce39ee3\" xlink:type=\"simple\"><rect fill=\"#FEFECE\" filter=\"url(#f380v9hr4dlh9)\" height=\"45.9375\" id=\"E12\" rx=\"10\" ry=\"10\" style=\"stroke: #A80036; stroke-width: 1.5;\" width=\"42\" x=\"438\" y=\"84\"/><text fill=\"#000000\" font-family=\"sans-serif\" font-size=\"12\" font-style=\"italic\" lengthAdjust=\"spacingAndGlyphs\" textLength=\"40\" x=\"439\" y=\"100.1387\">«part»</text><text fill=\"#000000\" font-family=\"sans-serif\" font-size=\"12\" lengthAdjust=\"spacingAndGlyphs\" textLength=\"22\" x=\"448\" y=\"114.1074\">x: A</text><line style=\"stroke: #A80036; stroke-width: 1.5;\" x1=\"439\" x2=\"479\" y1=\"121.9375\" y2=\"121.9375\"/></a><!--MD5=[ee3c913d1a06f366521f9ef512b67efe]\n",
       "class E13--><a href=\"psysml:70775e2d-ada4-46b3-b3bb-1618b7e606cf\" target=\"_top\" title=\"psysml:70775e2d-ada4-46b3-b3bb-1618b7e606cf\" xlink:actuate=\"onRequest\" xlink:href=\"psysml:70775e2d-ada4-46b3-b3bb-1618b7e606cf\" xlink:show=\"new\" xlink:title=\"psysml:70775e2d-ada4-46b3-b3bb-1618b7e606cf\" xlink:type=\"simple\"><rect fill=\"#FEFECE\" filter=\"url(#f380v9hr4dlh9)\" height=\"45.9375\" id=\"E13\" rx=\"10\" ry=\"10\" style=\"stroke: #A80036; stroke-width: 1.5;\" width=\"42\" x=\"32\" y=\"84\"/><text fill=\"#000000\" font-family=\"sans-serif\" font-size=\"12\" font-style=\"italic\" lengthAdjust=\"spacingAndGlyphs\" textLength=\"40\" x=\"33\" y=\"100.1387\">«part»</text><text fill=\"#000000\" font-family=\"sans-serif\" font-size=\"12\" lengthAdjust=\"spacingAndGlyphs\" textLength=\"22\" x=\"42\" y=\"114.1074\">y: B</text><line style=\"stroke: #A80036; stroke-width: 1.5;\" x1=\"33\" x2=\"73\" y1=\"121.9375\" y2=\"121.9375\"/></a><!--MD5=[09b614a08d8cba4a07c9adeb5e0fee81]\n",
       "class E3--><a href=\"psysml:a77b04ef-8587-44c9-8b7f-efa23f8b51b3\" target=\"_top\" title=\"psysml:a77b04ef-8587-44c9-8b7f-efa23f8b51b3\" xlink:actuate=\"onRequest\" xlink:href=\"psysml:a77b04ef-8587-44c9-8b7f-efa23f8b51b3\" xlink:show=\"new\" xlink:title=\"psysml:a77b04ef-8587-44c9-8b7f-efa23f8b51b3\" xlink:type=\"simple\"><rect fill=\"#FEFECE\" filter=\"url(#f380v9hr4dlh9)\" height=\"45.9375\" id=\"E3\" style=\"stroke: #A80036; stroke-width: 1.5;\" width=\"66\" x=\"349\" y=\"205\"/><text fill=\"#000000\" font-family=\"sans-serif\" font-size=\"12\" font-style=\"italic\" lengthAdjust=\"spacingAndGlyphs\" textLength=\"64\" x=\"350\" y=\"221.1387\">«part def»</text><text fill=\"#000000\" font-family=\"sans-serif\" font-size=\"12\" lengthAdjust=\"spacingAndGlyphs\" textLength=\"8\" x=\"378\" y=\"235.1074\">A</text><line style=\"stroke: #A80036; stroke-width: 1.5;\" x1=\"350\" x2=\"414\" y1=\"242.9375\" y2=\"242.9375\"/></a><!--MD5=[270fce915f116d4de14055a7c1d9a0f3]\n",
       "class E5--><a href=\"psysml:0236a647-9823-419e-b974-acac8cdc5ece\" target=\"_top\" title=\"psysml:0236a647-9823-419e-b974-acac8cdc5ece\" xlink:actuate=\"onRequest\" xlink:href=\"psysml:0236a647-9823-419e-b974-acac8cdc5ece\" xlink:show=\"new\" xlink:title=\"psysml:0236a647-9823-419e-b974-acac8cdc5ece\" xlink:type=\"simple\"><rect fill=\"#FEFECE\" filter=\"url(#f380v9hr4dlh9)\" height=\"45.9375\" id=\"E5\" style=\"stroke: #A80036; stroke-width: 1.5;\" width=\"66\" x=\"97\" y=\"205\"/><text fill=\"#000000\" font-family=\"sans-serif\" font-size=\"12\" font-style=\"italic\" lengthAdjust=\"spacingAndGlyphs\" textLength=\"64\" x=\"98\" y=\"221.1387\">«part def»</text><text fill=\"#000000\" font-family=\"sans-serif\" font-size=\"12\" lengthAdjust=\"spacingAndGlyphs\" textLength=\"8\" x=\"126\" y=\"235.1074\">B</text><line style=\"stroke: #A80036; stroke-width: 1.5;\" x1=\"98\" x2=\"162\" y1=\"242.9375\" y2=\"242.9375\"/></a><!--MD5=[2156ba9850f5573cc1fc38a6a4b2f02b]\n",
       "class E7--><a href=\"psysml:d9c30419-fa03-4224-9f9b-cc52ece95c03\" target=\"_top\" title=\"psysml:d9c30419-fa03-4224-9f9b-cc52ece95c03\" xlink:actuate=\"onRequest\" xlink:href=\"psysml:d9c30419-fa03-4224-9f9b-cc52ece95c03\" xlink:show=\"new\" xlink:title=\"psysml:d9c30419-fa03-4224-9f9b-cc52ece95c03\" xlink:type=\"simple\"><rect fill=\"#FEFECE\" filter=\"url(#f380v9hr4dlh9)\" height=\"45.9375\" id=\"E7\" rx=\"10\" ry=\"10\" style=\"stroke: #A80036; stroke-width: 1.5;\" width=\"42\" x=\"361\" y=\"84\"/><text fill=\"#000000\" font-family=\"sans-serif\" font-size=\"12\" font-style=\"italic\" lengthAdjust=\"spacingAndGlyphs\" textLength=\"40\" x=\"362\" y=\"100.1387\">«part»</text><text fill=\"#000000\" font-family=\"sans-serif\" font-size=\"12\" lengthAdjust=\"spacingAndGlyphs\" textLength=\"22\" x=\"371\" y=\"114.1074\">x: A</text><line style=\"stroke: #A80036; stroke-width: 1.5;\" x1=\"362\" x2=\"402\" y1=\"121.9375\" y2=\"121.9375\"/></a><!--MD5=[b9389687b975829384b498ac4b7476b2]\n",
       "class E8--><a href=\"psysml:32c0d6a2-b48f-4756-bec9-ba81426d308d\" target=\"_top\" title=\"psysml:32c0d6a2-b48f-4756-bec9-ba81426d308d\" xlink:actuate=\"onRequest\" xlink:href=\"psysml:32c0d6a2-b48f-4756-bec9-ba81426d308d\" xlink:show=\"new\" xlink:title=\"psysml:32c0d6a2-b48f-4756-bec9-ba81426d308d\" xlink:type=\"simple\"><rect fill=\"#FEFECE\" filter=\"url(#f380v9hr4dlh9)\" height=\"45.9375\" id=\"E8\" rx=\"10\" ry=\"10\" style=\"stroke: #A80036; stroke-width: 1.5;\" width=\"42\" x=\"284\" y=\"84\"/><text fill=\"#000000\" font-family=\"sans-serif\" font-size=\"12\" font-style=\"italic\" lengthAdjust=\"spacingAndGlyphs\" textLength=\"40\" x=\"285\" y=\"100.1387\">«part»</text><text fill=\"#000000\" font-family=\"sans-serif\" font-size=\"12\" lengthAdjust=\"spacingAndGlyphs\" textLength=\"22\" x=\"294\" y=\"114.1074\">y: B</text><line style=\"stroke: #A80036; stroke-width: 1.5;\" x1=\"285\" x2=\"325\" y1=\"121.9375\" y2=\"121.9375\"/></a><!--MD5=[96f4274e9e20536e775497830990834d]\n",
       "class E10--><a href=\"psysml:4b1ceaae-3a33-4edd-a713-ae072a8ba794\" target=\"_top\" title=\"psysml:4b1ceaae-3a33-4edd-a713-ae072a8ba794\" xlink:actuate=\"onRequest\" xlink:href=\"psysml:4b1ceaae-3a33-4edd-a713-ae072a8ba794\" xlink:show=\"new\" xlink:title=\"psysml:4b1ceaae-3a33-4edd-a713-ae072a8ba794\" xlink:type=\"simple\"><rect fill=\"#FEFECE\" filter=\"url(#f380v9hr4dlh9)\" height=\"45.9375\" id=\"E10\" rx=\"10\" ry=\"10\" style=\"stroke: #A80036; stroke-width: 1.5;\" width=\"42\" x=\"186\" y=\"84\"/><text fill=\"#000000\" font-family=\"sans-serif\" font-size=\"12\" font-style=\"italic\" lengthAdjust=\"spacingAndGlyphs\" textLength=\"40\" x=\"187\" y=\"100.1387\">«part»</text><text fill=\"#000000\" font-family=\"sans-serif\" font-size=\"12\" lengthAdjust=\"spacingAndGlyphs\" textLength=\"22\" x=\"196\" y=\"114.1074\">x: A</text><line style=\"stroke: #A80036; stroke-width: 1.5;\" x1=\"187\" x2=\"227\" y1=\"121.9375\" y2=\"121.9375\"/></a><!--MD5=[1dd1bfd58a279cf63c5f349dbc8fc6a1]\n",
       "class E11--><a href=\"psysml:8a3e0fcf-a1f5-42bd-9af7-3ab68d312f86\" target=\"_top\" title=\"psysml:8a3e0fcf-a1f5-42bd-9af7-3ab68d312f86\" xlink:actuate=\"onRequest\" xlink:href=\"psysml:8a3e0fcf-a1f5-42bd-9af7-3ab68d312f86\" xlink:show=\"new\" xlink:title=\"psysml:8a3e0fcf-a1f5-42bd-9af7-3ab68d312f86\" xlink:type=\"simple\"><rect fill=\"#FEFECE\" filter=\"url(#f380v9hr4dlh9)\" height=\"45.9375\" id=\"E11\" rx=\"10\" ry=\"10\" style=\"stroke: #A80036; stroke-width: 1.5;\" width=\"42\" x=\"109\" y=\"84\"/><text fill=\"#000000\" font-family=\"sans-serif\" font-size=\"12\" font-style=\"italic\" lengthAdjust=\"spacingAndGlyphs\" textLength=\"40\" x=\"110\" y=\"100.1387\">«part»</text><text fill=\"#000000\" font-family=\"sans-serif\" font-size=\"12\" lengthAdjust=\"spacingAndGlyphs\" textLength=\"22\" x=\"119\" y=\"114.1074\">y: B</text><line style=\"stroke: #A80036; stroke-width: 1.5;\" x1=\"110\" x2=\"150\" y1=\"121.9375\" y2=\"121.9375\"/></a><!--MD5=[14ccda38c055a5c0da953d572bc50960]\n",
       "link E7 to E3--><a href=\"psysml:520b462f-0086-4fa2-a8c7-c457cfb393b0\" target=\"_top\" title=\"psysml:520b462f-0086-4fa2-a8c7-c457cfb393b0\" xlink:actuate=\"onRequest\" xlink:href=\"psysml:520b462f-0086-4fa2-a8c7-c457cfb393b0\" xlink:show=\"new\" xlink:title=\"psysml:520b462f-0086-4fa2-a8c7-c457cfb393b0\" xlink:type=\"simple\"><path d=\"M382,130.1 C382,145.37 382,166.16 382,184.57 \" fill=\"none\" id=\"E7-&gt;E3\" style=\"stroke: #A80036; stroke-width: 1.0;\"/><polygon fill=\"#FFFFFF\" points=\"382,204.61,375,185.61,389,185.61,382,204.61\" style=\"stroke: #A80036; stroke-width: 1.0;\"/><ellipse cx=\"377\" cy=\"179.91\" fill=\"#A80036\" rx=\"2\" ry=\"2\" style=\"stroke: #A80036; stroke-width: 1.0;\"/><ellipse cx=\"387\" cy=\"179.91\" fill=\"#A80036\" rx=\"2\" ry=\"2\" style=\"stroke: #A80036; stroke-width: 1.0;\"/></a><!--MD5=[1ccb2481ffa92f8d51a74ee30c51832a]\n",
       "link E8 to E5--><a href=\"psysml:7aecf3a3-7124-43a8-804d-679627dba63d\" target=\"_top\" title=\"psysml:7aecf3a3-7124-43a8-804d-679627dba63d\" xlink:actuate=\"onRequest\" xlink:href=\"psysml:7aecf3a3-7124-43a8-804d-679627dba63d\" xlink:show=\"new\" xlink:title=\"psysml:7aecf3a3-7124-43a8-804d-679627dba63d\" xlink:type=\"simple\"><path d=\"M283.84,124.59 C272.23,133.52 257.5,144.61 244,154 C223.51,168.25 200.41,183.24 180.38,195.91 \" fill=\"none\" id=\"E8-&gt;E5\" style=\"stroke: #A80036; stroke-width: 1.0;\"/><polygon fill=\"#FFFFFF\" points=\"163.36,206.57,175.7353,190.5434,183.175,202.403,163.36,206.57\" style=\"stroke: #A80036; stroke-width: 1.0;\"/><ellipse cx=\"181.6267\" cy=\"189.2086\" fill=\"#A80036\" rx=\"2\" ry=\"2\" style=\"stroke: #A80036; stroke-width: 1.0;\"/><ellipse cx=\"186.9408\" cy=\"197.6797\" fill=\"#A80036\" rx=\"2\" ry=\"2\" style=\"stroke: #A80036; stroke-width: 1.0;\"/></a><!--MD5=[feeac5eb423634930294aa81f2d25a4c]\n",
       "link E10 to E3--><a href=\"psysml:fd0acd65-b864-4a8e-8ff2-cbce99549eac\" target=\"_top\" title=\"psysml:fd0acd65-b864-4a8e-8ff2-cbce99549eac\" xlink:actuate=\"onRequest\" xlink:href=\"psysml:fd0acd65-b864-4a8e-8ff2-cbce99549eac\" xlink:show=\"new\" xlink:title=\"psysml:fd0acd65-b864-4a8e-8ff2-cbce99549eac\" xlink:type=\"simple\"><path d=\"M228.16,124.59 C239.77,133.52 254.5,144.61 268,154 C288.49,168.25 311.59,183.24 331.62,195.91 \" fill=\"none\" id=\"E10-&gt;E3\" style=\"stroke: #A80036; stroke-width: 1.0;\"/><polygon fill=\"#FFFFFF\" points=\"348.64,206.57,328.825,202.403,336.2647,190.5434,348.64,206.57\" style=\"stroke: #A80036; stroke-width: 1.0;\"/><ellipse cx=\"325.0592\" cy=\"197.6797\" fill=\"#A80036\" rx=\"2\" ry=\"2\" style=\"stroke: #A80036; stroke-width: 1.0;\"/><ellipse cx=\"330.3733\" cy=\"189.2086\" fill=\"#A80036\" rx=\"2\" ry=\"2\" style=\"stroke: #A80036; stroke-width: 1.0;\"/></a><!--MD5=[07b77f6f309248d16187045709d1c26e]\n",
       "link E11 to E5--><a href=\"psysml:442cb8f2-ee4b-4dfa-8164-f495024e2707\" target=\"_top\" title=\"psysml:442cb8f2-ee4b-4dfa-8164-f495024e2707\" xlink:actuate=\"onRequest\" xlink:href=\"psysml:442cb8f2-ee4b-4dfa-8164-f495024e2707\" xlink:show=\"new\" xlink:title=\"psysml:442cb8f2-ee4b-4dfa-8164-f495024e2707\" xlink:type=\"simple\"><path d=\"M130,130.1 C130,145.37 130,166.16 130,184.57 \" fill=\"none\" id=\"E11-&gt;E5\" style=\"stroke: #A80036; stroke-width: 1.0;\"/><polygon fill=\"#FFFFFF\" points=\"130,204.61,123,185.61,137,185.61,130,204.61\" style=\"stroke: #A80036; stroke-width: 1.0;\"/><ellipse cx=\"125\" cy=\"179.91\" fill=\"#A80036\" rx=\"2\" ry=\"2\" style=\"stroke: #A80036; stroke-width: 1.0;\"/><ellipse cx=\"135\" cy=\"179.91\" fill=\"#A80036\" rx=\"2\" ry=\"2\" style=\"stroke: #A80036; stroke-width: 1.0;\"/></a><!--MD5=[39f41a0e550fb3d73b4d8135617e30a2]\n",
       "link E12 to E3--><a href=\"psysml:fab56a21-03ff-446d-9dd1-385c5373a3f2\" target=\"_top\" title=\"psysml:fab56a21-03ff-446d-9dd1-385c5373a3f2\" xlink:actuate=\"onRequest\" xlink:href=\"psysml:fab56a21-03ff-446d-9dd1-385c5373a3f2\" xlink:show=\"new\" xlink:title=\"psysml:fab56a21-03ff-446d-9dd1-385c5373a3f2\" xlink:type=\"simple\"><path d=\"M444.7,130.1 C434.28,146.2 419.89,168.44 407.53,187.55 \" fill=\"none\" id=\"E12-&gt;E3\" style=\"stroke: #A80036; stroke-width: 1.0;\"/><polygon fill=\"#FFFFFF\" points=\"396.49,204.61,400.9313,184.8546,412.6866,192.4581,396.49,204.61\" style=\"stroke: #A80036; stroke-width: 1.0;\"/><ellipse cx=\"405.7063\" cy=\"181.1547\" fill=\"#A80036\" rx=\"2\" ry=\"2\" style=\"stroke: #A80036; stroke-width: 1.0;\"/><ellipse cx=\"414.103\" cy=\"186.5858\" fill=\"#A80036\" rx=\"2\" ry=\"2\" style=\"stroke: #A80036; stroke-width: 1.0;\"/></a><!--MD5=[066b2d8af59fea80ccdb3d54ad5c1091]\n",
       "link E13 to E5--><a href=\"psysml:5cad6703-6f19-4c46-9c46-92acb368aec7\" target=\"_top\" title=\"psysml:5cad6703-6f19-4c46-9c46-92acb368aec7\" xlink:actuate=\"onRequest\" xlink:href=\"psysml:5cad6703-6f19-4c46-9c46-92acb368aec7\" xlink:show=\"new\" xlink:title=\"psysml:5cad6703-6f19-4c46-9c46-92acb368aec7\" xlink:type=\"simple\"><path d=\"M67.3,130.1 C77.72,146.2 92.11,168.44 104.47,187.55 \" fill=\"none\" id=\"E13-&gt;E5\" style=\"stroke: #A80036; stroke-width: 1.0;\"/><polygon fill=\"#FFFFFF\" points=\"115.51,204.61,99.3134,192.4581,111.0687,184.8546,115.51,204.61\" style=\"stroke: #A80036; stroke-width: 1.0;\"/><ellipse cx=\"97.897\" cy=\"186.5858\" fill=\"#A80036\" rx=\"2\" ry=\"2\" style=\"stroke: #A80036; stroke-width: 1.0;\"/><ellipse cx=\"106.2937\" cy=\"181.1547\" fill=\"#A80036\" rx=\"2\" ry=\"2\" style=\"stroke: #A80036; stroke-width: 1.0;\"/></a><!--MD5=[7b99e43b5a9dc6a8232d8b660c35c9a6]\n",
       "@startuml\r\n",
       "skinparam wrapWidth 300\r\n",
       "hide circle\r\n",
       "\r\n",
       "package \"CircularImport\" as E1  [[psysml:7332441d-5859-4b68-88e6-44e4d7acfbc9 ]]  {\r\n",
       "package \"P1\" as E2  [[psysml:5f20ae7d-4d57-41a2-9907-55aa74d31ca3 ]]  {\r\n",
       "comp def \"A\" as E3  <<(T,blue) part def>> [[psysml:a77b04ef-8587-44c9-8b7f-efa23f8b51b3 ]] {\r\n",
       "}\r\n",
       "}\r\n",
       "package \"P2\" as E4  [[psysml:ebcd3975-b264-4248-9466-34d42d3f68ce ]]  {\r\n",
       "comp def \"B\" as E5  <<(T,blue) part def>> [[psysml:0236a647-9823-419e-b974-acac8cdc5ece ]] {\r\n",
       "}\r\n",
       "}\r\n",
       "package \"Test1\" as E6  [[psysml:da6ad505-2daa-495a-83b8-d3ba9d2de3a4 ]]  {\r\n",
       "comp usage \"x: A\" as E7  <<(T,blue) part>> [[psysml:d9c30419-fa03-4224-9f9b-cc52ece95c03 ]] {\r\n",
       "}\r\n",
       "comp usage \"y: B\" as E8  <<(T,blue) part>> [[psysml:32c0d6a2-b48f-4756-bec9-ba81426d308d ]] {\r\n",
       "}\r\n",
       "}\r\n",
       "package \"Test2\" as E9  [[psysml:b0babda1-ae00-488b-8e87-1a86d4c9a0c6 ]]  {\r\n",
       "comp usage \"x: A\" as E10  <<(T,blue) part>> [[psysml:4b1ceaae-3a33-4edd-a713-ae072a8ba794 ]] {\r\n",
       "}\r\n",
       "comp usage \"y: B\" as E11  <<(T,blue) part>> [[psysml:8a3e0fcf-a1f5-42bd-9af7-3ab68d312f86 ]] {\r\n",
       "}\r\n",
       "}\r\n",
       "comp usage \"x: A\" as E12  <<(T,blue) part>> [[psysml:be17b73a-3dde-44ce-ab8b-a0409ce39ee3 ]] {\r\n",
       "}\r\n",
       "comp usage \"y: B\" as E13  <<(T,blue) part>> [[psysml:70775e2d-ada4-46b3-b3bb-1618b7e606cf ]] {\r\n",
       "}\r\n",
       "}\r\n",
       "E7 - -:|> E3 [[psysml:520b462f-0086-4fa2-a8c7-c457cfb393b0 ]] \r\n",
       "E8 - -:|> E5 [[psysml:7aecf3a3-7124-43a8-804d-679627dba63d ]] \r\n",
       "E10 - -:|> E3 [[psysml:fd0acd65-b864-4a8e-8ff2-cbce99549eac ]] \r\n",
       "E11 - -:|> E5 [[psysml:442cb8f2-ee4b-4dfa-8164-f495024e2707 ]] \r\n",
       "E12 - -:|> E3 [[psysml:fab56a21-03ff-446d-9dd1-385c5373a3f2 ]] \r\n",
       "E13 - -:|> E5 [[psysml:5cad6703-6f19-4c46-9c46-92acb368aec7 ]] \r\n",
       "@enduml\r\n",
       "\n",
       "PlantUML version 1.2020.13(Sat Jun 13 12:26:38 UTC 2020)\n",
       "(EPL source distribution)\n",
       "Java Runtime: OpenJDK Runtime Environment\n",
       "JVM: OpenJDK 64-Bit Server VM\n",
       "Default Encoding: UTF-8\n",
       "Language: en\n",
       "Country: null\n",
       "--></g></svg>"
      ]
     },
     "execution_count": 23,
     "metadata": {},
     "output_type": "execute_result"
    }
   ],
   "source": [
    "%viz --style=\"STDCOLOR\" --view=\"Default\" \"CircularImport\""
   ]
  },
  {
   "cell_type": "code",
   "execution_count": 24,
   "id": "0cb7d861",
   "metadata": {
    "execution": {
     "iopub.execute_input": "2021-09-27T07:16:35.884585Z",
     "iopub.status.busy": "2021-09-27T07:16:35.884178Z",
     "iopub.status.idle": "2021-09-27T07:16:35.925510Z",
     "shell.execute_reply": "2021-09-27T07:16:35.925140Z"
    }
   },
   "outputs": [
    {
     "data": {
      "image/svg+xml": [
       "<?xml version=\"1.0\" encoding=\"UTF-8\" standalone=\"no\"?><svg xmlns=\"http://www.w3.org/2000/svg\" xmlns:xlink=\"http://www.w3.org/1999/xlink\" contentScriptType=\"application/ecmascript\" contentStyleType=\"text/css\" height=\"303px\" preserveAspectRatio=\"none\" style=\"width:518px;height:303px;\" version=\"1.1\" viewBox=\"0 0 518 303\" width=\"518px\" zoomAndPan=\"magnify\"><defs><filter height=\"300%\" id=\"f380v9hr4dlh9\" width=\"300%\" x=\"-1\" y=\"-1\"><feGaussianBlur result=\"blurOut\" stdDeviation=\"2.0\"/><feColorMatrix in=\"blurOut\" result=\"blurOut2\" type=\"matrix\" values=\"0 0 0 0 0 0 0 0 0 0 0 0 0 0 0 0 0 0 .4 0\"/><feOffset dx=\"4.0\" dy=\"4.0\" in=\"blurOut2\" result=\"blurOut3\"/><feBlend in=\"SourceGraphic\" in2=\"blurOut3\" mode=\"normal\"/></filter></defs><g><!--MD5=[fbc87193dbaf4d95561dea2c320d4a47]\n",
       "cluster E1--><a href=\"psysml:7332441d-5859-4b68-88e6-44e4d7acfbc9\" target=\"_top\" title=\"psysml:7332441d-5859-4b68-88e6-44e4d7acfbc9\" xlink:actuate=\"onRequest\" xlink:href=\"psysml:7332441d-5859-4b68-88e6-44e4d7acfbc9\" xlink:show=\"new\" xlink:title=\"psysml:7332441d-5859-4b68-88e6-44e4d7acfbc9\" xlink:type=\"simple\"><polygon fill=\"#FFFFFF\" filter=\"url(#f380v9hr4dlh9)\" points=\"16,6,117,6,124,28.2969,496,28.2969,496,291,16,291,16,6\" style=\"stroke: #000000; stroke-width: 1.5;\"/><line style=\"stroke: #000000; stroke-width: 1.5;\" x1=\"16\" x2=\"124\" y1=\"28.2969\" y2=\"28.2969\"/><text fill=\"#000000\" font-family=\"sans-serif\" font-size=\"14\" font-weight=\"bold\" lengthAdjust=\"spacingAndGlyphs\" textLength=\"95\" x=\"20\" y=\"20.9951\">CircularImport</text></a><!--MD5=[e4f7fae6ed58524ba242bb0b0d3be6b7]\n",
       "cluster E2--><a href=\"psysml:5f20ae7d-4d57-41a2-9907-55aa74d31ca3\" target=\"_top\" title=\"psysml:5f20ae7d-4d57-41a2-9907-55aa74d31ca3\" xlink:actuate=\"onRequest\" xlink:href=\"psysml:5f20ae7d-4d57-41a2-9907-55aa74d31ca3\" xlink:show=\"new\" xlink:title=\"psysml:5f20ae7d-4d57-41a2-9907-55aa74d31ca3\" xlink:type=\"simple\"><polygon fill=\"#FFFFFF\" filter=\"url(#f380v9hr4dlh9)\" points=\"333,170,357,170,364,192.2969,431,192.2969,431,267,333,267,333,170\" style=\"stroke: #000000; stroke-width: 1.5;\"/><line style=\"stroke: #000000; stroke-width: 1.5;\" x1=\"333\" x2=\"364\" y1=\"192.2969\" y2=\"192.2969\"/><text fill=\"#000000\" font-family=\"sans-serif\" font-size=\"14\" font-weight=\"bold\" lengthAdjust=\"spacingAndGlyphs\" textLength=\"18\" x=\"337\" y=\"184.9951\">P1</text></a><!--MD5=[f6df4d0ebaf0b5dfb2ced0ae5af7c670]\n",
       "cluster E4--><a href=\"psysml:ebcd3975-b264-4248-9466-34d42d3f68ce\" target=\"_top\" title=\"psysml:ebcd3975-b264-4248-9466-34d42d3f68ce\" xlink:actuate=\"onRequest\" xlink:href=\"psysml:ebcd3975-b264-4248-9466-34d42d3f68ce\" xlink:show=\"new\" xlink:title=\"psysml:ebcd3975-b264-4248-9466-34d42d3f68ce\" xlink:type=\"simple\"><polygon fill=\"#FFFFFF\" filter=\"url(#f380v9hr4dlh9)\" points=\"81,170,105,170,112,192.2969,179,192.2969,179,267,81,267,81,170\" style=\"stroke: #000000; stroke-width: 1.5;\"/><line style=\"stroke: #000000; stroke-width: 1.5;\" x1=\"81\" x2=\"112\" y1=\"192.2969\" y2=\"192.2969\"/><text fill=\"#000000\" font-family=\"sans-serif\" font-size=\"14\" font-weight=\"bold\" lengthAdjust=\"spacingAndGlyphs\" textLength=\"18\" x=\"85\" y=\"184.9951\">P2</text></a><!--MD5=[14e3b0961a2654348d326746436168a1]\n",
       "cluster E6--><a href=\"psysml:da6ad505-2daa-495a-83b8-d3ba9d2de3a4\" target=\"_top\" title=\"psysml:da6ad505-2daa-495a-83b8-d3ba9d2de3a4\" xlink:actuate=\"onRequest\" xlink:href=\"psysml:da6ad505-2daa-495a-83b8-d3ba9d2de3a4\" xlink:show=\"new\" xlink:title=\"psysml:da6ad505-2daa-495a-83b8-d3ba9d2de3a4\" xlink:type=\"simple\"><polygon fill=\"#FFFFFF\" filter=\"url(#f380v9hr4dlh9)\" points=\"268,49,314,49,321,71.2969,419,71.2969,419,146,268,146,268,49\" style=\"stroke: #000000; stroke-width: 1.5;\"/><line style=\"stroke: #000000; stroke-width: 1.5;\" x1=\"268\" x2=\"321\" y1=\"71.2969\" y2=\"71.2969\"/><text fill=\"#000000\" font-family=\"sans-serif\" font-size=\"14\" font-weight=\"bold\" lengthAdjust=\"spacingAndGlyphs\" textLength=\"40\" x=\"272\" y=\"63.9951\">Test1</text></a><!--MD5=[7f149f147074ac12df2cb0a7728a5fb0]\n",
       "cluster E9--><a href=\"psysml:b0babda1-ae00-488b-8e87-1a86d4c9a0c6\" target=\"_top\" title=\"psysml:b0babda1-ae00-488b-8e87-1a86d4c9a0c6\" xlink:actuate=\"onRequest\" xlink:href=\"psysml:b0babda1-ae00-488b-8e87-1a86d4c9a0c6\" xlink:show=\"new\" xlink:title=\"psysml:b0babda1-ae00-488b-8e87-1a86d4c9a0c6\" xlink:type=\"simple\"><polygon fill=\"#FFFFFF\" filter=\"url(#f380v9hr4dlh9)\" points=\"93,49,139,49,146,71.2969,244,71.2969,244,146,93,146,93,49\" style=\"stroke: #000000; stroke-width: 1.5;\"/><line style=\"stroke: #000000; stroke-width: 1.5;\" x1=\"93\" x2=\"146\" y1=\"71.2969\" y2=\"71.2969\"/><text fill=\"#000000\" font-family=\"sans-serif\" font-size=\"14\" font-weight=\"bold\" lengthAdjust=\"spacingAndGlyphs\" textLength=\"40\" x=\"97\" y=\"63.9951\">Test2</text></a><!--MD5=[49a0ec8f00dab7302a31f22d0f0fe584]\n",
       "class E12--><a href=\"psysml:be17b73a-3dde-44ce-ab8b-a0409ce39ee3\" target=\"_top\" title=\"psysml:be17b73a-3dde-44ce-ab8b-a0409ce39ee3\" xlink:actuate=\"onRequest\" xlink:href=\"psysml:be17b73a-3dde-44ce-ab8b-a0409ce39ee3\" xlink:show=\"new\" xlink:title=\"psysml:be17b73a-3dde-44ce-ab8b-a0409ce39ee3\" xlink:type=\"simple\"><rect fill=\"#FEFECE\" filter=\"url(#f380v9hr4dlh9)\" height=\"45.9375\" id=\"E12\" rx=\"10\" ry=\"10\" style=\"stroke: #A80036; stroke-width: 1.5;\" width=\"42\" x=\"438\" y=\"84\"/><text fill=\"#000000\" font-family=\"sans-serif\" font-size=\"12\" font-style=\"italic\" lengthAdjust=\"spacingAndGlyphs\" textLength=\"40\" x=\"439\" y=\"100.1387\">«part»</text><text fill=\"#000000\" font-family=\"sans-serif\" font-size=\"12\" lengthAdjust=\"spacingAndGlyphs\" textLength=\"22\" x=\"448\" y=\"114.1074\">x: A</text><line style=\"stroke: #A80036; stroke-width: 1.5;\" x1=\"439\" x2=\"479\" y1=\"121.9375\" y2=\"121.9375\"/></a><!--MD5=[ee3c913d1a06f366521f9ef512b67efe]\n",
       "class E13--><a href=\"psysml:70775e2d-ada4-46b3-b3bb-1618b7e606cf\" target=\"_top\" title=\"psysml:70775e2d-ada4-46b3-b3bb-1618b7e606cf\" xlink:actuate=\"onRequest\" xlink:href=\"psysml:70775e2d-ada4-46b3-b3bb-1618b7e606cf\" xlink:show=\"new\" xlink:title=\"psysml:70775e2d-ada4-46b3-b3bb-1618b7e606cf\" xlink:type=\"simple\"><rect fill=\"#FEFECE\" filter=\"url(#f380v9hr4dlh9)\" height=\"45.9375\" id=\"E13\" rx=\"10\" ry=\"10\" style=\"stroke: #A80036; stroke-width: 1.5;\" width=\"42\" x=\"32\" y=\"84\"/><text fill=\"#000000\" font-family=\"sans-serif\" font-size=\"12\" font-style=\"italic\" lengthAdjust=\"spacingAndGlyphs\" textLength=\"40\" x=\"33\" y=\"100.1387\">«part»</text><text fill=\"#000000\" font-family=\"sans-serif\" font-size=\"12\" lengthAdjust=\"spacingAndGlyphs\" textLength=\"22\" x=\"42\" y=\"114.1074\">y: B</text><line style=\"stroke: #A80036; stroke-width: 1.5;\" x1=\"33\" x2=\"73\" y1=\"121.9375\" y2=\"121.9375\"/></a><!--MD5=[09b614a08d8cba4a07c9adeb5e0fee81]\n",
       "class E3--><a href=\"psysml:a77b04ef-8587-44c9-8b7f-efa23f8b51b3\" target=\"_top\" title=\"psysml:a77b04ef-8587-44c9-8b7f-efa23f8b51b3\" xlink:actuate=\"onRequest\" xlink:href=\"psysml:a77b04ef-8587-44c9-8b7f-efa23f8b51b3\" xlink:show=\"new\" xlink:title=\"psysml:a77b04ef-8587-44c9-8b7f-efa23f8b51b3\" xlink:type=\"simple\"><rect fill=\"#FEFECE\" filter=\"url(#f380v9hr4dlh9)\" height=\"45.9375\" id=\"E3\" style=\"stroke: #A80036; stroke-width: 1.5;\" width=\"66\" x=\"349\" y=\"205\"/><text fill=\"#000000\" font-family=\"sans-serif\" font-size=\"12\" font-style=\"italic\" lengthAdjust=\"spacingAndGlyphs\" textLength=\"64\" x=\"350\" y=\"221.1387\">«part def»</text><text fill=\"#000000\" font-family=\"sans-serif\" font-size=\"12\" lengthAdjust=\"spacingAndGlyphs\" textLength=\"8\" x=\"378\" y=\"235.1074\">A</text><line style=\"stroke: #A80036; stroke-width: 1.5;\" x1=\"350\" x2=\"414\" y1=\"242.9375\" y2=\"242.9375\"/></a><!--MD5=[270fce915f116d4de14055a7c1d9a0f3]\n",
       "class E5--><a href=\"psysml:0236a647-9823-419e-b974-acac8cdc5ece\" target=\"_top\" title=\"psysml:0236a647-9823-419e-b974-acac8cdc5ece\" xlink:actuate=\"onRequest\" xlink:href=\"psysml:0236a647-9823-419e-b974-acac8cdc5ece\" xlink:show=\"new\" xlink:title=\"psysml:0236a647-9823-419e-b974-acac8cdc5ece\" xlink:type=\"simple\"><rect fill=\"#FEFECE\" filter=\"url(#f380v9hr4dlh9)\" height=\"45.9375\" id=\"E5\" style=\"stroke: #A80036; stroke-width: 1.5;\" width=\"66\" x=\"97\" y=\"205\"/><text fill=\"#000000\" font-family=\"sans-serif\" font-size=\"12\" font-style=\"italic\" lengthAdjust=\"spacingAndGlyphs\" textLength=\"64\" x=\"98\" y=\"221.1387\">«part def»</text><text fill=\"#000000\" font-family=\"sans-serif\" font-size=\"12\" lengthAdjust=\"spacingAndGlyphs\" textLength=\"8\" x=\"126\" y=\"235.1074\">B</text><line style=\"stroke: #A80036; stroke-width: 1.5;\" x1=\"98\" x2=\"162\" y1=\"242.9375\" y2=\"242.9375\"/></a><!--MD5=[2156ba9850f5573cc1fc38a6a4b2f02b]\n",
       "class E7--><a href=\"psysml:d9c30419-fa03-4224-9f9b-cc52ece95c03\" target=\"_top\" title=\"psysml:d9c30419-fa03-4224-9f9b-cc52ece95c03\" xlink:actuate=\"onRequest\" xlink:href=\"psysml:d9c30419-fa03-4224-9f9b-cc52ece95c03\" xlink:show=\"new\" xlink:title=\"psysml:d9c30419-fa03-4224-9f9b-cc52ece95c03\" xlink:type=\"simple\"><rect fill=\"#FEFECE\" filter=\"url(#f380v9hr4dlh9)\" height=\"45.9375\" id=\"E7\" rx=\"10\" ry=\"10\" style=\"stroke: #A80036; stroke-width: 1.5;\" width=\"42\" x=\"361\" y=\"84\"/><text fill=\"#000000\" font-family=\"sans-serif\" font-size=\"12\" font-style=\"italic\" lengthAdjust=\"spacingAndGlyphs\" textLength=\"40\" x=\"362\" y=\"100.1387\">«part»</text><text fill=\"#000000\" font-family=\"sans-serif\" font-size=\"12\" lengthAdjust=\"spacingAndGlyphs\" textLength=\"22\" x=\"371\" y=\"114.1074\">x: A</text><line style=\"stroke: #A80036; stroke-width: 1.5;\" x1=\"362\" x2=\"402\" y1=\"121.9375\" y2=\"121.9375\"/></a><!--MD5=[b9389687b975829384b498ac4b7476b2]\n",
       "class E8--><a href=\"psysml:32c0d6a2-b48f-4756-bec9-ba81426d308d\" target=\"_top\" title=\"psysml:32c0d6a2-b48f-4756-bec9-ba81426d308d\" xlink:actuate=\"onRequest\" xlink:href=\"psysml:32c0d6a2-b48f-4756-bec9-ba81426d308d\" xlink:show=\"new\" xlink:title=\"psysml:32c0d6a2-b48f-4756-bec9-ba81426d308d\" xlink:type=\"simple\"><rect fill=\"#FEFECE\" filter=\"url(#f380v9hr4dlh9)\" height=\"45.9375\" id=\"E8\" rx=\"10\" ry=\"10\" style=\"stroke: #A80036; stroke-width: 1.5;\" width=\"42\" x=\"284\" y=\"84\"/><text fill=\"#000000\" font-family=\"sans-serif\" font-size=\"12\" font-style=\"italic\" lengthAdjust=\"spacingAndGlyphs\" textLength=\"40\" x=\"285\" y=\"100.1387\">«part»</text><text fill=\"#000000\" font-family=\"sans-serif\" font-size=\"12\" lengthAdjust=\"spacingAndGlyphs\" textLength=\"22\" x=\"294\" y=\"114.1074\">y: B</text><line style=\"stroke: #A80036; stroke-width: 1.5;\" x1=\"285\" x2=\"325\" y1=\"121.9375\" y2=\"121.9375\"/></a><!--MD5=[96f4274e9e20536e775497830990834d]\n",
       "class E10--><a href=\"psysml:4b1ceaae-3a33-4edd-a713-ae072a8ba794\" target=\"_top\" title=\"psysml:4b1ceaae-3a33-4edd-a713-ae072a8ba794\" xlink:actuate=\"onRequest\" xlink:href=\"psysml:4b1ceaae-3a33-4edd-a713-ae072a8ba794\" xlink:show=\"new\" xlink:title=\"psysml:4b1ceaae-3a33-4edd-a713-ae072a8ba794\" xlink:type=\"simple\"><rect fill=\"#FEFECE\" filter=\"url(#f380v9hr4dlh9)\" height=\"45.9375\" id=\"E10\" rx=\"10\" ry=\"10\" style=\"stroke: #A80036; stroke-width: 1.5;\" width=\"42\" x=\"186\" y=\"84\"/><text fill=\"#000000\" font-family=\"sans-serif\" font-size=\"12\" font-style=\"italic\" lengthAdjust=\"spacingAndGlyphs\" textLength=\"40\" x=\"187\" y=\"100.1387\">«part»</text><text fill=\"#000000\" font-family=\"sans-serif\" font-size=\"12\" lengthAdjust=\"spacingAndGlyphs\" textLength=\"22\" x=\"196\" y=\"114.1074\">x: A</text><line style=\"stroke: #A80036; stroke-width: 1.5;\" x1=\"187\" x2=\"227\" y1=\"121.9375\" y2=\"121.9375\"/></a><!--MD5=[1dd1bfd58a279cf63c5f349dbc8fc6a1]\n",
       "class E11--><a href=\"psysml:8a3e0fcf-a1f5-42bd-9af7-3ab68d312f86\" target=\"_top\" title=\"psysml:8a3e0fcf-a1f5-42bd-9af7-3ab68d312f86\" xlink:actuate=\"onRequest\" xlink:href=\"psysml:8a3e0fcf-a1f5-42bd-9af7-3ab68d312f86\" xlink:show=\"new\" xlink:title=\"psysml:8a3e0fcf-a1f5-42bd-9af7-3ab68d312f86\" xlink:type=\"simple\"><rect fill=\"#FEFECE\" filter=\"url(#f380v9hr4dlh9)\" height=\"45.9375\" id=\"E11\" rx=\"10\" ry=\"10\" style=\"stroke: #A80036; stroke-width: 1.5;\" width=\"42\" x=\"109\" y=\"84\"/><text fill=\"#000000\" font-family=\"sans-serif\" font-size=\"12\" font-style=\"italic\" lengthAdjust=\"spacingAndGlyphs\" textLength=\"40\" x=\"110\" y=\"100.1387\">«part»</text><text fill=\"#000000\" font-family=\"sans-serif\" font-size=\"12\" lengthAdjust=\"spacingAndGlyphs\" textLength=\"22\" x=\"119\" y=\"114.1074\">y: B</text><line style=\"stroke: #A80036; stroke-width: 1.5;\" x1=\"110\" x2=\"150\" y1=\"121.9375\" y2=\"121.9375\"/></a><!--MD5=[14ccda38c055a5c0da953d572bc50960]\n",
       "link E7 to E3--><a href=\"psysml:520b462f-0086-4fa2-a8c7-c457cfb393b0\" target=\"_top\" title=\"psysml:520b462f-0086-4fa2-a8c7-c457cfb393b0\" xlink:actuate=\"onRequest\" xlink:href=\"psysml:520b462f-0086-4fa2-a8c7-c457cfb393b0\" xlink:show=\"new\" xlink:title=\"psysml:520b462f-0086-4fa2-a8c7-c457cfb393b0\" xlink:type=\"simple\"><path d=\"M382,130.1 C382,145.37 382,166.16 382,184.57 \" fill=\"none\" id=\"E7-&gt;E3\" style=\"stroke: #A80036; stroke-width: 1.0;\"/><polygon fill=\"#FFFFFF\" points=\"382,204.61,375,185.61,389,185.61,382,204.61\" style=\"stroke: #A80036; stroke-width: 1.0;\"/><ellipse cx=\"377\" cy=\"179.91\" fill=\"#A80036\" rx=\"2\" ry=\"2\" style=\"stroke: #A80036; stroke-width: 1.0;\"/><ellipse cx=\"387\" cy=\"179.91\" fill=\"#A80036\" rx=\"2\" ry=\"2\" style=\"stroke: #A80036; stroke-width: 1.0;\"/></a><!--MD5=[1ccb2481ffa92f8d51a74ee30c51832a]\n",
       "link E8 to E5--><a href=\"psysml:7aecf3a3-7124-43a8-804d-679627dba63d\" target=\"_top\" title=\"psysml:7aecf3a3-7124-43a8-804d-679627dba63d\" xlink:actuate=\"onRequest\" xlink:href=\"psysml:7aecf3a3-7124-43a8-804d-679627dba63d\" xlink:show=\"new\" xlink:title=\"psysml:7aecf3a3-7124-43a8-804d-679627dba63d\" xlink:type=\"simple\"><path d=\"M283.84,124.59 C272.23,133.52 257.5,144.61 244,154 C223.51,168.25 200.41,183.24 180.38,195.91 \" fill=\"none\" id=\"E8-&gt;E5\" style=\"stroke: #A80036; stroke-width: 1.0;\"/><polygon fill=\"#FFFFFF\" points=\"163.36,206.57,175.7353,190.5434,183.175,202.403,163.36,206.57\" style=\"stroke: #A80036; stroke-width: 1.0;\"/><ellipse cx=\"181.6267\" cy=\"189.2086\" fill=\"#A80036\" rx=\"2\" ry=\"2\" style=\"stroke: #A80036; stroke-width: 1.0;\"/><ellipse cx=\"186.9408\" cy=\"197.6797\" fill=\"#A80036\" rx=\"2\" ry=\"2\" style=\"stroke: #A80036; stroke-width: 1.0;\"/></a><!--MD5=[feeac5eb423634930294aa81f2d25a4c]\n",
       "link E10 to E3--><a href=\"psysml:fd0acd65-b864-4a8e-8ff2-cbce99549eac\" target=\"_top\" title=\"psysml:fd0acd65-b864-4a8e-8ff2-cbce99549eac\" xlink:actuate=\"onRequest\" xlink:href=\"psysml:fd0acd65-b864-4a8e-8ff2-cbce99549eac\" xlink:show=\"new\" xlink:title=\"psysml:fd0acd65-b864-4a8e-8ff2-cbce99549eac\" xlink:type=\"simple\"><path d=\"M228.16,124.59 C239.77,133.52 254.5,144.61 268,154 C288.49,168.25 311.59,183.24 331.62,195.91 \" fill=\"none\" id=\"E10-&gt;E3\" style=\"stroke: #A80036; stroke-width: 1.0;\"/><polygon fill=\"#FFFFFF\" points=\"348.64,206.57,328.825,202.403,336.2647,190.5434,348.64,206.57\" style=\"stroke: #A80036; stroke-width: 1.0;\"/><ellipse cx=\"325.0592\" cy=\"197.6797\" fill=\"#A80036\" rx=\"2\" ry=\"2\" style=\"stroke: #A80036; stroke-width: 1.0;\"/><ellipse cx=\"330.3733\" cy=\"189.2086\" fill=\"#A80036\" rx=\"2\" ry=\"2\" style=\"stroke: #A80036; stroke-width: 1.0;\"/></a><!--MD5=[07b77f6f309248d16187045709d1c26e]\n",
       "link E11 to E5--><a href=\"psysml:442cb8f2-ee4b-4dfa-8164-f495024e2707\" target=\"_top\" title=\"psysml:442cb8f2-ee4b-4dfa-8164-f495024e2707\" xlink:actuate=\"onRequest\" xlink:href=\"psysml:442cb8f2-ee4b-4dfa-8164-f495024e2707\" xlink:show=\"new\" xlink:title=\"psysml:442cb8f2-ee4b-4dfa-8164-f495024e2707\" xlink:type=\"simple\"><path d=\"M130,130.1 C130,145.37 130,166.16 130,184.57 \" fill=\"none\" id=\"E11-&gt;E5\" style=\"stroke: #A80036; stroke-width: 1.0;\"/><polygon fill=\"#FFFFFF\" points=\"130,204.61,123,185.61,137,185.61,130,204.61\" style=\"stroke: #A80036; stroke-width: 1.0;\"/><ellipse cx=\"125\" cy=\"179.91\" fill=\"#A80036\" rx=\"2\" ry=\"2\" style=\"stroke: #A80036; stroke-width: 1.0;\"/><ellipse cx=\"135\" cy=\"179.91\" fill=\"#A80036\" rx=\"2\" ry=\"2\" style=\"stroke: #A80036; stroke-width: 1.0;\"/></a><!--MD5=[39f41a0e550fb3d73b4d8135617e30a2]\n",
       "link E12 to E3--><a href=\"psysml:fab56a21-03ff-446d-9dd1-385c5373a3f2\" target=\"_top\" title=\"psysml:fab56a21-03ff-446d-9dd1-385c5373a3f2\" xlink:actuate=\"onRequest\" xlink:href=\"psysml:fab56a21-03ff-446d-9dd1-385c5373a3f2\" xlink:show=\"new\" xlink:title=\"psysml:fab56a21-03ff-446d-9dd1-385c5373a3f2\" xlink:type=\"simple\"><path d=\"M444.7,130.1 C434.28,146.2 419.89,168.44 407.53,187.55 \" fill=\"none\" id=\"E12-&gt;E3\" style=\"stroke: #A80036; stroke-width: 1.0;\"/><polygon fill=\"#FFFFFF\" points=\"396.49,204.61,400.9313,184.8546,412.6866,192.4581,396.49,204.61\" style=\"stroke: #A80036; stroke-width: 1.0;\"/><ellipse cx=\"405.7063\" cy=\"181.1547\" fill=\"#A80036\" rx=\"2\" ry=\"2\" style=\"stroke: #A80036; stroke-width: 1.0;\"/><ellipse cx=\"414.103\" cy=\"186.5858\" fill=\"#A80036\" rx=\"2\" ry=\"2\" style=\"stroke: #A80036; stroke-width: 1.0;\"/></a><!--MD5=[066b2d8af59fea80ccdb3d54ad5c1091]\n",
       "link E13 to E5--><a href=\"psysml:5cad6703-6f19-4c46-9c46-92acb368aec7\" target=\"_top\" title=\"psysml:5cad6703-6f19-4c46-9c46-92acb368aec7\" xlink:actuate=\"onRequest\" xlink:href=\"psysml:5cad6703-6f19-4c46-9c46-92acb368aec7\" xlink:show=\"new\" xlink:title=\"psysml:5cad6703-6f19-4c46-9c46-92acb368aec7\" xlink:type=\"simple\"><path d=\"M67.3,130.1 C77.72,146.2 92.11,168.44 104.47,187.55 \" fill=\"none\" id=\"E13-&gt;E5\" style=\"stroke: #A80036; stroke-width: 1.0;\"/><polygon fill=\"#FFFFFF\" points=\"115.51,204.61,99.3134,192.4581,111.0687,184.8546,115.51,204.61\" style=\"stroke: #A80036; stroke-width: 1.0;\"/><ellipse cx=\"97.897\" cy=\"186.5858\" fill=\"#A80036\" rx=\"2\" ry=\"2\" style=\"stroke: #A80036; stroke-width: 1.0;\"/><ellipse cx=\"106.2937\" cy=\"181.1547\" fill=\"#A80036\" rx=\"2\" ry=\"2\" style=\"stroke: #A80036; stroke-width: 1.0;\"/></a><!--MD5=[7b99e43b5a9dc6a8232d8b660c35c9a6]\n",
       "@startuml\r\n",
       "skinparam wrapWidth 300\r\n",
       "hide circle\r\n",
       "\r\n",
       "package \"CircularImport\" as E1  [[psysml:7332441d-5859-4b68-88e6-44e4d7acfbc9 ]]  {\r\n",
       "package \"P1\" as E2  [[psysml:5f20ae7d-4d57-41a2-9907-55aa74d31ca3 ]]  {\r\n",
       "comp def \"A\" as E3  <<(T,blue) part def>> [[psysml:a77b04ef-8587-44c9-8b7f-efa23f8b51b3 ]] {\r\n",
       "}\r\n",
       "}\r\n",
       "package \"P2\" as E4  [[psysml:ebcd3975-b264-4248-9466-34d42d3f68ce ]]  {\r\n",
       "comp def \"B\" as E5  <<(T,blue) part def>> [[psysml:0236a647-9823-419e-b974-acac8cdc5ece ]] {\r\n",
       "}\r\n",
       "}\r\n",
       "package \"Test1\" as E6  [[psysml:da6ad505-2daa-495a-83b8-d3ba9d2de3a4 ]]  {\r\n",
       "comp usage \"x: A\" as E7  <<(T,blue) part>> [[psysml:d9c30419-fa03-4224-9f9b-cc52ece95c03 ]] {\r\n",
       "}\r\n",
       "comp usage \"y: B\" as E8  <<(T,blue) part>> [[psysml:32c0d6a2-b48f-4756-bec9-ba81426d308d ]] {\r\n",
       "}\r\n",
       "}\r\n",
       "package \"Test2\" as E9  [[psysml:b0babda1-ae00-488b-8e87-1a86d4c9a0c6 ]]  {\r\n",
       "comp usage \"x: A\" as E10  <<(T,blue) part>> [[psysml:4b1ceaae-3a33-4edd-a713-ae072a8ba794 ]] {\r\n",
       "}\r\n",
       "comp usage \"y: B\" as E11  <<(T,blue) part>> [[psysml:8a3e0fcf-a1f5-42bd-9af7-3ab68d312f86 ]] {\r\n",
       "}\r\n",
       "}\r\n",
       "comp usage \"x: A\" as E12  <<(T,blue) part>> [[psysml:be17b73a-3dde-44ce-ab8b-a0409ce39ee3 ]] {\r\n",
       "}\r\n",
       "comp usage \"y: B\" as E13  <<(T,blue) part>> [[psysml:70775e2d-ada4-46b3-b3bb-1618b7e606cf ]] {\r\n",
       "}\r\n",
       "}\r\n",
       "E7 - -:|> E3 [[psysml:520b462f-0086-4fa2-a8c7-c457cfb393b0 ]] \r\n",
       "E8 - -:|> E5 [[psysml:7aecf3a3-7124-43a8-804d-679627dba63d ]] \r\n",
       "E10 - -:|> E3 [[psysml:fd0acd65-b864-4a8e-8ff2-cbce99549eac ]] \r\n",
       "E11 - -:|> E5 [[psysml:442cb8f2-ee4b-4dfa-8164-f495024e2707 ]] \r\n",
       "E12 - -:|> E3 [[psysml:fab56a21-03ff-446d-9dd1-385c5373a3f2 ]] \r\n",
       "E13 - -:|> E5 [[psysml:5cad6703-6f19-4c46-9c46-92acb368aec7 ]] \r\n",
       "@enduml\r\n",
       "\n",
       "PlantUML version 1.2020.13(Sat Jun 13 12:26:38 UTC 2020)\n",
       "(EPL source distribution)\n",
       "Java Runtime: OpenJDK Runtime Environment\n",
       "JVM: OpenJDK 64-Bit Server VM\n",
       "Default Encoding: UTF-8\n",
       "Language: en\n",
       "Country: null\n",
       "--></g></svg>"
      ]
     },
     "execution_count": 24,
     "metadata": {},
     "output_type": "execute_result"
    }
   ],
   "source": [
    "%viz --style=\"STDCOLOR\" --view=\"Tree\" \"CircularImport\""
   ]
  },
  {
   "cell_type": "code",
   "execution_count": 25,
   "id": "9d77fc67",
   "metadata": {
    "execution": {
     "iopub.execute_input": "2021-09-27T07:16:35.975081Z",
     "iopub.status.busy": "2021-09-27T07:16:35.974675Z",
     "iopub.status.idle": "2021-09-27T07:16:35.978972Z",
     "shell.execute_reply": "2021-09-27T07:16:35.979286Z"
    }
   },
   "outputs": [
    {
     "data": {
      "image/svg+xml": [
       "<?xml version=\"1.0\" encoding=\"UTF-8\" standalone=\"no\"?><svg xmlns=\"http://www.w3.org/2000/svg\" xmlns:xlink=\"http://www.w3.org/1999/xlink\" contentScriptType=\"application/ecmascript\" contentStyleType=\"text/css\" height=\"12px\" preserveAspectRatio=\"none\" style=\"width:12px;height:12px;\" version=\"1.1\" viewBox=\"0 0 12 12\" width=\"12px\" zoomAndPan=\"magnify\"><defs/><g><!--MD5=[aeeef50f102b80d730deb6443d14f702]\n",
       "@startuml\r\n",
       "skinparam wrapWidth 300\r\n",
       "hide circle\r\n",
       "\r\n",
       "@enduml\r\n",
       "\n",
       "PlantUML version 1.2020.13(Sat Jun 13 12:26:38 UTC 2020)\n",
       "(EPL source distribution)\n",
       "Java Runtime: OpenJDK Runtime Environment\n",
       "JVM: OpenJDK 64-Bit Server VM\n",
       "Default Encoding: UTF-8\n",
       "Language: en\n",
       "Country: null\n",
       "--></g></svg>"
      ]
     },
     "execution_count": 25,
     "metadata": {},
     "output_type": "execute_result"
    }
   ],
   "source": [
    "%viz --style=\"STDCOLOR\" --view=\"State\" \"CircularImport\""
   ]
  },
  {
   "cell_type": "code",
   "execution_count": 26,
   "id": "30019b87",
   "metadata": {
    "execution": {
     "iopub.execute_input": "2021-09-27T07:16:36.029426Z",
     "iopub.status.busy": "2021-09-27T07:16:36.029029Z",
     "iopub.status.idle": "2021-09-27T07:16:36.061896Z",
     "shell.execute_reply": "2021-09-27T07:16:36.061517Z"
    }
   },
   "outputs": [
    {
     "data": {
      "image/svg+xml": [
       "<?xml version=\"1.0\" encoding=\"UTF-8\" standalone=\"no\"?><svg xmlns=\"http://www.w3.org/2000/svg\" xmlns:xlink=\"http://www.w3.org/1999/xlink\" contentScriptType=\"application/ecmascript\" contentStyleType=\"text/css\" height=\"179px\" preserveAspectRatio=\"none\" style=\"width:846px;height:179px;\" version=\"1.1\" viewBox=\"0 0 846 179\" width=\"846px\" zoomAndPan=\"magnify\"><defs><filter height=\"300%\" id=\"fob35v37leueg\" width=\"300%\" x=\"-1\" y=\"-1\"><feGaussianBlur result=\"blurOut\" stdDeviation=\"2.0\"/><feColorMatrix in=\"blurOut\" result=\"blurOut2\" type=\"matrix\" values=\"0 0 0 0 0 0 0 0 0 0 0 0 0 0 0 0 0 0 .4 0\"/><feOffset dx=\"4.0\" dy=\"4.0\" in=\"blurOut2\" result=\"blurOut3\"/><feBlend in=\"SourceGraphic\" in2=\"blurOut3\" mode=\"normal\"/></filter></defs><g><!--MD5=[fbc87193dbaf4d95561dea2c320d4a47]\n",
       "cluster E1--><a href=\"psysml:7332441d-5859-4b68-88e6-44e4d7acfbc9\" target=\"_top\" title=\"psysml:7332441d-5859-4b68-88e6-44e4d7acfbc9\" xlink:actuate=\"onRequest\" xlink:href=\"psysml:7332441d-5859-4b68-88e6-44e4d7acfbc9\" xlink:show=\"new\" xlink:title=\"psysml:7332441d-5859-4b68-88e6-44e4d7acfbc9\" xlink:type=\"simple\"><polygon fill=\"#FFFFFF\" filter=\"url(#fob35v37leueg)\" points=\"16,6,117,6,124,28.2969,824,28.2969,824,167,16,167,16,6\" style=\"stroke: #000000; stroke-width: 1.5;\"/><line style=\"stroke: #000000; stroke-width: 1.5;\" x1=\"16\" x2=\"124\" y1=\"28.2969\" y2=\"28.2969\"/><text fill=\"#000000\" font-family=\"sans-serif\" font-size=\"14\" font-weight=\"bold\" lengthAdjust=\"spacingAndGlyphs\" textLength=\"95\" x=\"20\" y=\"20.9951\">CircularImport</text></a><!--MD5=[e4f7fae6ed58524ba242bb0b0d3be6b7]\n",
       "cluster E2--><a href=\"psysml:5f20ae7d-4d57-41a2-9907-55aa74d31ca3\" target=\"_top\" title=\"psysml:5f20ae7d-4d57-41a2-9907-55aa74d31ca3\" xlink:actuate=\"onRequest\" xlink:href=\"psysml:5f20ae7d-4d57-41a2-9907-55aa74d31ca3\" xlink:show=\"new\" xlink:title=\"psysml:5f20ae7d-4d57-41a2-9907-55aa74d31ca3\" xlink:type=\"simple\"><polygon fill=\"#FFFFFF\" filter=\"url(#fob35v37leueg)\" points=\"696,49,720,49,727,71.2969,800,71.2969,800,143,696,143,696,49\" style=\"stroke: #000000; stroke-width: 1.5;\"/><line style=\"stroke: #000000; stroke-width: 1.5;\" x1=\"696\" x2=\"727\" y1=\"71.2969\" y2=\"71.2969\"/><text fill=\"#000000\" font-family=\"sans-serif\" font-size=\"14\" font-weight=\"bold\" lengthAdjust=\"spacingAndGlyphs\" textLength=\"18\" x=\"700\" y=\"63.9951\">P1</text></a><!--MD5=[f6df4d0ebaf0b5dfb2ced0ae5af7c670]\n",
       "cluster E4--><a href=\"psysml:ebcd3975-b264-4248-9466-34d42d3f68ce\" target=\"_top\" title=\"psysml:ebcd3975-b264-4248-9466-34d42d3f68ce\" xlink:actuate=\"onRequest\" xlink:href=\"psysml:ebcd3975-b264-4248-9466-34d42d3f68ce\" xlink:show=\"new\" xlink:title=\"psysml:ebcd3975-b264-4248-9466-34d42d3f68ce\" xlink:type=\"simple\"><polygon fill=\"#FFFFFF\" filter=\"url(#fob35v37leueg)\" points=\"568,49,592,49,599,71.2969,672,71.2969,672,143,568,143,568,49\" style=\"stroke: #000000; stroke-width: 1.5;\"/><line style=\"stroke: #000000; stroke-width: 1.5;\" x1=\"568\" x2=\"599\" y1=\"71.2969\" y2=\"71.2969\"/><text fill=\"#000000\" font-family=\"sans-serif\" font-size=\"14\" font-weight=\"bold\" lengthAdjust=\"spacingAndGlyphs\" textLength=\"18\" x=\"572\" y=\"63.9951\">P2</text></a><!--MD5=[14e3b0961a2654348d326746436168a1]\n",
       "cluster E6--><a href=\"psysml:da6ad505-2daa-495a-83b8-d3ba9d2de3a4\" target=\"_top\" title=\"psysml:da6ad505-2daa-495a-83b8-d3ba9d2de3a4\" xlink:actuate=\"onRequest\" xlink:href=\"psysml:da6ad505-2daa-495a-83b8-d3ba9d2de3a4\" xlink:show=\"new\" xlink:title=\"psysml:da6ad505-2daa-495a-83b8-d3ba9d2de3a4\" xlink:type=\"simple\"><polygon fill=\"#FFFFFF\" filter=\"url(#fob35v37leueg)\" points=\"377,50.5,423,50.5,430,72.7969,544,72.7969,544,141.5,377,141.5,377,50.5\" style=\"stroke: #000000; stroke-width: 1.5;\"/><line style=\"stroke: #000000; stroke-width: 1.5;\" x1=\"377\" x2=\"430\" y1=\"72.7969\" y2=\"72.7969\"/><text fill=\"#000000\" font-family=\"sans-serif\" font-size=\"14\" font-weight=\"bold\" lengthAdjust=\"spacingAndGlyphs\" textLength=\"40\" x=\"381\" y=\"65.4951\">Test1</text></a><!--MD5=[7f149f147074ac12df2cb0a7728a5fb0]\n",
       "cluster E9--><a href=\"psysml:b0babda1-ae00-488b-8e87-1a86d4c9a0c6\" target=\"_top\" title=\"psysml:b0babda1-ae00-488b-8e87-1a86d4c9a0c6\" xlink:actuate=\"onRequest\" xlink:href=\"psysml:b0babda1-ae00-488b-8e87-1a86d4c9a0c6\" xlink:show=\"new\" xlink:title=\"psysml:b0babda1-ae00-488b-8e87-1a86d4c9a0c6\" xlink:type=\"simple\"><polygon fill=\"#FFFFFF\" filter=\"url(#fob35v37leueg)\" points=\"186,50.5,232,50.5,239,72.7969,353,72.7969,353,141.5,186,141.5,186,50.5\" style=\"stroke: #000000; stroke-width: 1.5;\"/><line style=\"stroke: #000000; stroke-width: 1.5;\" x1=\"186\" x2=\"239\" y1=\"72.7969\" y2=\"72.7969\"/><text fill=\"#000000\" font-family=\"sans-serif\" font-size=\"14\" font-weight=\"bold\" lengthAdjust=\"spacingAndGlyphs\" textLength=\"40\" x=\"190\" y=\"65.4951\">Test2</text></a><g id=\"E1.E2.E3\"><a href=\"psysml:a77b04ef-8587-44c9-8b7f-efa23f8b51b3\" target=\"_top\" title=\"psysml:a77b04ef-8587-44c9-8b7f-efa23f8b51b3\" xlink:actuate=\"onRequest\" xlink:href=\"psysml:a77b04ef-8587-44c9-8b7f-efa23f8b51b3\" xlink:show=\"new\" xlink:title=\"psysml:a77b04ef-8587-44c9-8b7f-efa23f8b51b3\" xlink:type=\"simple\"><rect fill=\"#FEFECE\" filter=\"url(#fob35v37leueg)\" height=\"42.9375\" id=\"E3\" style=\"stroke: #A80036; stroke-width: 1.5;\" width=\"71\" x=\"712.5\" y=\"84\"/><text fill=\"#000000\" font-family=\"sans-serif\" font-size=\"12\" font-style=\"italic\" lengthAdjust=\"spacingAndGlyphs\" textLength=\"64\" x=\"716\" y=\"100.1387\">«part def»</text><text fill=\"#000000\" font-family=\"sans-serif\" font-size=\"12\" lengthAdjust=\"spacingAndGlyphs\" textLength=\"8\" x=\"744\" y=\"114.1074\">A</text></a></g><g id=\"E1.E4.E5\"><a href=\"psysml:0236a647-9823-419e-b974-acac8cdc5ece\" target=\"_top\" title=\"psysml:0236a647-9823-419e-b974-acac8cdc5ece\" xlink:actuate=\"onRequest\" xlink:href=\"psysml:0236a647-9823-419e-b974-acac8cdc5ece\" xlink:show=\"new\" xlink:title=\"psysml:0236a647-9823-419e-b974-acac8cdc5ece\" xlink:type=\"simple\"><rect fill=\"#FEFECE\" filter=\"url(#fob35v37leueg)\" height=\"42.9375\" id=\"E5\" style=\"stroke: #A80036; stroke-width: 1.5;\" width=\"71\" x=\"584.5\" y=\"84\"/><text fill=\"#000000\" font-family=\"sans-serif\" font-size=\"12\" font-style=\"italic\" lengthAdjust=\"spacingAndGlyphs\" textLength=\"64\" x=\"588\" y=\"100.1387\">«part def»</text><text fill=\"#000000\" font-family=\"sans-serif\" font-size=\"12\" lengthAdjust=\"spacingAndGlyphs\" textLength=\"8\" x=\"616\" y=\"114.1074\">B</text></a></g><g id=\"E1.E6.E7\"><a href=\"psysml:d9c30419-fa03-4224-9f9b-cc52ece95c03\" target=\"_top\" title=\"psysml:d9c30419-fa03-4224-9f9b-cc52ece95c03\" xlink:actuate=\"onRequest\" xlink:href=\"psysml:d9c30419-fa03-4224-9f9b-cc52ece95c03\" xlink:show=\"new\" xlink:title=\"psysml:d9c30419-fa03-4224-9f9b-cc52ece95c03\" xlink:type=\"simple\"><rect fill=\"#FEFECE\" filter=\"url(#fob35v37leueg)\" height=\"40\" id=\"E7\" rx=\"10\" ry=\"10\" style=\"stroke: #A80036; stroke-width: 1.5;\" width=\"50\" x=\"478\" y=\"85.5\"/><text fill=\"#000000\" font-family=\"sans-serif\" font-size=\"12\" lengthAdjust=\"spacingAndGlyphs\" textLength=\"22\" x=\"492\" y=\"101.6387\">x: A</text></a></g><g id=\"E1.E6.E8\"><a href=\"psysml:32c0d6a2-b48f-4756-bec9-ba81426d308d\" target=\"_top\" title=\"psysml:32c0d6a2-b48f-4756-bec9-ba81426d308d\" xlink:actuate=\"onRequest\" xlink:href=\"psysml:32c0d6a2-b48f-4756-bec9-ba81426d308d\" xlink:show=\"new\" xlink:title=\"psysml:32c0d6a2-b48f-4756-bec9-ba81426d308d\" xlink:type=\"simple\"><rect fill=\"#FEFECE\" filter=\"url(#fob35v37leueg)\" height=\"40\" id=\"E8\" rx=\"10\" ry=\"10\" style=\"stroke: #A80036; stroke-width: 1.5;\" width=\"50\" x=\"393\" y=\"85.5\"/><text fill=\"#000000\" font-family=\"sans-serif\" font-size=\"12\" lengthAdjust=\"spacingAndGlyphs\" textLength=\"22\" x=\"407\" y=\"101.6387\">y: B</text></a></g><g id=\"E1.E9.E10\"><a href=\"psysml:4b1ceaae-3a33-4edd-a713-ae072a8ba794\" target=\"_top\" title=\"psysml:4b1ceaae-3a33-4edd-a713-ae072a8ba794\" xlink:actuate=\"onRequest\" xlink:href=\"psysml:4b1ceaae-3a33-4edd-a713-ae072a8ba794\" xlink:show=\"new\" xlink:title=\"psysml:4b1ceaae-3a33-4edd-a713-ae072a8ba794\" xlink:type=\"simple\"><rect fill=\"#FEFECE\" filter=\"url(#fob35v37leueg)\" height=\"40\" id=\"E10\" rx=\"10\" ry=\"10\" style=\"stroke: #A80036; stroke-width: 1.5;\" width=\"50\" x=\"287\" y=\"85.5\"/><text fill=\"#000000\" font-family=\"sans-serif\" font-size=\"12\" lengthAdjust=\"spacingAndGlyphs\" textLength=\"22\" x=\"301\" y=\"101.6387\">x: A</text></a></g><g id=\"E1.E9.E11\"><a href=\"psysml:8a3e0fcf-a1f5-42bd-9af7-3ab68d312f86\" target=\"_top\" title=\"psysml:8a3e0fcf-a1f5-42bd-9af7-3ab68d312f86\" xlink:actuate=\"onRequest\" xlink:href=\"psysml:8a3e0fcf-a1f5-42bd-9af7-3ab68d312f86\" xlink:show=\"new\" xlink:title=\"psysml:8a3e0fcf-a1f5-42bd-9af7-3ab68d312f86\" xlink:type=\"simple\"><rect fill=\"#FEFECE\" filter=\"url(#fob35v37leueg)\" height=\"40\" id=\"E11\" rx=\"10\" ry=\"10\" style=\"stroke: #A80036; stroke-width: 1.5;\" width=\"50\" x=\"202\" y=\"85.5\"/><text fill=\"#000000\" font-family=\"sans-serif\" font-size=\"12\" lengthAdjust=\"spacingAndGlyphs\" textLength=\"22\" x=\"216\" y=\"101.6387\">y: B</text></a></g><g id=\"E1.E12\"><a href=\"psysml:be17b73a-3dde-44ce-ab8b-a0409ce39ee3\" target=\"_top\" title=\"psysml:be17b73a-3dde-44ce-ab8b-a0409ce39ee3\" xlink:actuate=\"onRequest\" xlink:href=\"psysml:be17b73a-3dde-44ce-ab8b-a0409ce39ee3\" xlink:show=\"new\" xlink:title=\"psysml:be17b73a-3dde-44ce-ab8b-a0409ce39ee3\" xlink:type=\"simple\"><rect fill=\"#FEFECE\" filter=\"url(#fob35v37leueg)\" height=\"40\" id=\"E12\" rx=\"10\" ry=\"10\" style=\"stroke: #A80036; stroke-width: 1.5;\" width=\"50\" x=\"117\" y=\"85.5\"/><text fill=\"#000000\" font-family=\"sans-serif\" font-size=\"12\" lengthAdjust=\"spacingAndGlyphs\" textLength=\"22\" x=\"131\" y=\"101.6387\">x: A</text></a></g><g id=\"E1.E13\"><a href=\"psysml:70775e2d-ada4-46b3-b3bb-1618b7e606cf\" target=\"_top\" title=\"psysml:70775e2d-ada4-46b3-b3bb-1618b7e606cf\" xlink:actuate=\"onRequest\" xlink:href=\"psysml:70775e2d-ada4-46b3-b3bb-1618b7e606cf\" xlink:show=\"new\" xlink:title=\"psysml:70775e2d-ada4-46b3-b3bb-1618b7e606cf\" xlink:type=\"simple\"><rect fill=\"#FEFECE\" filter=\"url(#fob35v37leueg)\" height=\"40\" id=\"E13\" rx=\"10\" ry=\"10\" style=\"stroke: #A80036; stroke-width: 1.5;\" width=\"50\" x=\"32\" y=\"85.5\"/><text fill=\"#000000\" font-family=\"sans-serif\" font-size=\"12\" lengthAdjust=\"spacingAndGlyphs\" textLength=\"22\" x=\"46\" y=\"101.6387\">y: B</text></a></g><!--MD5=[495c083e5d229299588f14468a7d1c6f]\n",
       "@startuml\r\n",
       "skinparam ranksep 10\r\n",
       "skinparam rectangle {\r\n",
       " backgroundColor<<block>> LightGreen\r\n",
       "}\r\n",
       "skinparam wrapWidth 300\r\n",
       "hide circle\r\n",
       "\r\n",
       "package \"CircularImport\" as E1  [[psysml:7332441d-5859-4b68-88e6-44e4d7acfbc9 ]]  {\r\n",
       "package \"P1\" as E2  [[psysml:5f20ae7d-4d57-41a2-9907-55aa74d31ca3 ]]  {\r\n",
       "rec def \"A\" as E3  <<(T,blue) part def>> [[psysml:a77b04ef-8587-44c9-8b7f-efa23f8b51b3 ]] {\r\n",
       "}\r\n",
       "}\r\n",
       "package \"P2\" as E4  [[psysml:ebcd3975-b264-4248-9466-34d42d3f68ce ]]  {\r\n",
       "rec def \"B\" as E5  <<(T,blue) part def>> [[psysml:0236a647-9823-419e-b974-acac8cdc5ece ]] {\r\n",
       "}\r\n",
       "}\r\n",
       "package \"Test1\" as E6  [[psysml:da6ad505-2daa-495a-83b8-d3ba9d2de3a4 ]]  {\r\n",
       "rec usage \"x: A\" as E7  [[psysml:d9c30419-fa03-4224-9f9b-cc52ece95c03 ]] {\r\n",
       "}\r\n",
       "rec usage \"y: B\" as E8  [[psysml:32c0d6a2-b48f-4756-bec9-ba81426d308d ]] {\r\n",
       "}\r\n",
       "}\r\n",
       "package \"Test2\" as E9  [[psysml:b0babda1-ae00-488b-8e87-1a86d4c9a0c6 ]]  {\r\n",
       "rec usage \"x: A\" as E10  [[psysml:4b1ceaae-3a33-4edd-a713-ae072a8ba794 ]] {\r\n",
       "}\r\n",
       "rec usage \"y: B\" as E11  [[psysml:8a3e0fcf-a1f5-42bd-9af7-3ab68d312f86 ]] {\r\n",
       "}\r\n",
       "}\r\n",
       "rec usage \"x: A\" as E12  [[psysml:be17b73a-3dde-44ce-ab8b-a0409ce39ee3 ]] {\r\n",
       "}\r\n",
       "rec usage \"y: B\" as E13  [[psysml:70775e2d-ada4-46b3-b3bb-1618b7e606cf ]] {\r\n",
       "}\r\n",
       "}\r\n",
       "@enduml\r\n",
       "\n",
       "PlantUML version 1.2020.13(Sat Jun 13 12:26:38 UTC 2020)\n",
       "(EPL source distribution)\n",
       "Java Runtime: OpenJDK Runtime Environment\n",
       "JVM: OpenJDK 64-Bit Server VM\n",
       "Default Encoding: UTF-8\n",
       "Language: en\n",
       "Country: null\n",
       "--></g></svg>"
      ]
     },
     "execution_count": 26,
     "metadata": {},
     "output_type": "execute_result"
    }
   ],
   "source": [
    "%viz --style=\"STDCOLOR\" --view=\"Interconnection\" \"CircularImport\""
   ]
  },
  {
   "cell_type": "code",
   "execution_count": 27,
   "id": "b4b46db7",
   "metadata": {
    "execution": {
     "iopub.execute_input": "2021-09-27T07:16:36.111520Z",
     "iopub.status.busy": "2021-09-27T07:16:36.111121Z",
     "iopub.status.idle": "2021-09-27T07:16:36.115715Z",
     "shell.execute_reply": "2021-09-27T07:16:36.116027Z"
    }
   },
   "outputs": [
    {
     "data": {
      "image/svg+xml": [
       "<?xml version=\"1.0\" encoding=\"UTF-8\" standalone=\"no\"?><svg xmlns=\"http://www.w3.org/2000/svg\" xmlns:xlink=\"http://www.w3.org/1999/xlink\" contentScriptType=\"application/ecmascript\" contentStyleType=\"text/css\" height=\"12px\" preserveAspectRatio=\"none\" style=\"width:12px;height:12px;\" version=\"1.1\" viewBox=\"0 0 12 12\" width=\"12px\" zoomAndPan=\"magnify\"><defs/><g><!--MD5=[9863325348a96a77dacc89509d8ee65e]\n",
       "@startuml\r\n",
       "skinparam ranksep 8\r\n",
       "skinparam wrapWidth 300\r\n",
       "hide circle\r\n",
       "\r\n",
       "@enduml\r\n",
       "\n",
       "PlantUML version 1.2020.13(Sat Jun 13 12:26:38 UTC 2020)\n",
       "(EPL source distribution)\n",
       "Java Runtime: OpenJDK Runtime Environment\n",
       "JVM: OpenJDK 64-Bit Server VM\n",
       "Default Encoding: UTF-8\n",
       "Language: en\n",
       "Country: null\n",
       "--></g></svg>"
      ]
     },
     "execution_count": 27,
     "metadata": {},
     "output_type": "execute_result"
    }
   ],
   "source": [
    "%viz --style=\"STDCOLOR\" --view=\"Action\" \"CircularImport\""
   ]
  },
  {
   "cell_type": "code",
   "execution_count": 28,
   "id": "60594d7f",
   "metadata": {
    "execution": {
     "iopub.execute_input": "2021-09-27T07:16:36.166419Z",
     "iopub.status.busy": "2021-09-27T07:16:36.166024Z",
     "iopub.status.idle": "2021-09-27T07:16:36.171205Z",
     "shell.execute_reply": "2021-09-27T07:16:36.171514Z"
    }
   },
   "outputs": [
    {
     "data": {
      "image/svg+xml": [
       "<?xml version=\"1.0\" encoding=\"UTF-8\" standalone=\"no\"?><svg xmlns=\"http://www.w3.org/2000/svg\" xmlns:xlink=\"http://www.w3.org/1999/xlink\" contentScriptType=\"application/ecmascript\" contentStyleType=\"text/css\" height=\"12px\" preserveAspectRatio=\"none\" style=\"width:12px;height:12px;\" version=\"1.1\" viewBox=\"0 0 12 12\" width=\"12px\" zoomAndPan=\"magnify\"><defs/><g><!--MD5=[6c4bca67b4d71758159a5a7f1f1e1fc2]\n",
       "@startuml\r\n",
       "skinparam roundcorner 20\r\n",
       "skinparam BoxPadding 20\r\n",
       "skinparam SequenceBoxBackgroundColor #white\r\n",
       "skinparam style strictuml\r\n",
       "skinparam maxMessageSize 100\r\n",
       "skinparam wrapWidth 300\r\n",
       "hide circle\r\n",
       "\r\n",
       "@enduml\r\n",
       "\n",
       "PlantUML version 1.2020.13(Sat Jun 13 12:26:38 UTC 2020)\n",
       "(EPL source distribution)\n",
       "Java Runtime: OpenJDK Runtime Environment\n",
       "JVM: OpenJDK 64-Bit Server VM\n",
       "Default Encoding: UTF-8\n",
       "Language: en\n",
       "Country: null\n",
       "--></g></svg>"
      ]
     },
     "execution_count": 28,
     "metadata": {},
     "output_type": "execute_result"
    }
   ],
   "source": [
    "%viz --style=\"STDCOLOR\" --view=\"Sequence\" \"CircularImport\""
   ]
  },
  {
   "cell_type": "code",
   "execution_count": 29,
   "id": "0007c87e",
   "metadata": {
    "execution": {
     "iopub.execute_input": "2021-09-27T07:16:36.221642Z",
     "iopub.status.busy": "2021-09-27T07:16:36.221245Z",
     "iopub.status.idle": "2021-09-27T07:16:36.267500Z",
     "shell.execute_reply": "2021-09-27T07:16:36.266116Z"
    }
   },
   "outputs": [
    {
     "data": {
      "image/svg+xml": [
       "<?xml version=\"1.0\" encoding=\"UTF-8\" standalone=\"no\"?><svg xmlns=\"http://www.w3.org/2000/svg\" xmlns:xlink=\"http://www.w3.org/1999/xlink\" contentScriptType=\"application/ecmascript\" contentStyleType=\"text/css\" height=\"303px\" preserveAspectRatio=\"none\" style=\"width:518px;height:303px;\" version=\"1.1\" viewBox=\"0 0 518 303\" width=\"518px\" zoomAndPan=\"magnify\"><defs><filter height=\"300%\" id=\"f380v9hr4dlh9\" width=\"300%\" x=\"-1\" y=\"-1\"><feGaussianBlur result=\"blurOut\" stdDeviation=\"2.0\"/><feColorMatrix in=\"blurOut\" result=\"blurOut2\" type=\"matrix\" values=\"0 0 0 0 0 0 0 0 0 0 0 0 0 0 0 0 0 0 .4 0\"/><feOffset dx=\"4.0\" dy=\"4.0\" in=\"blurOut2\" result=\"blurOut3\"/><feBlend in=\"SourceGraphic\" in2=\"blurOut3\" mode=\"normal\"/></filter></defs><g><!--MD5=[fbc87193dbaf4d95561dea2c320d4a47]\n",
       "cluster E1--><a href=\"psysml:7332441d-5859-4b68-88e6-44e4d7acfbc9\" target=\"_top\" title=\"psysml:7332441d-5859-4b68-88e6-44e4d7acfbc9\" xlink:actuate=\"onRequest\" xlink:href=\"psysml:7332441d-5859-4b68-88e6-44e4d7acfbc9\" xlink:show=\"new\" xlink:title=\"psysml:7332441d-5859-4b68-88e6-44e4d7acfbc9\" xlink:type=\"simple\"><polygon fill=\"#FFFFFF\" filter=\"url(#f380v9hr4dlh9)\" points=\"16,6,117,6,124,28.2969,496,28.2969,496,291,16,291,16,6\" style=\"stroke: #000000; stroke-width: 1.5;\"/><line style=\"stroke: #000000; stroke-width: 1.5;\" x1=\"16\" x2=\"124\" y1=\"28.2969\" y2=\"28.2969\"/><text fill=\"#000000\" font-family=\"sans-serif\" font-size=\"14\" font-weight=\"bold\" lengthAdjust=\"spacingAndGlyphs\" textLength=\"95\" x=\"20\" y=\"20.9951\">CircularImport</text></a><!--MD5=[e4f7fae6ed58524ba242bb0b0d3be6b7]\n",
       "cluster E2--><a href=\"psysml:5f20ae7d-4d57-41a2-9907-55aa74d31ca3\" target=\"_top\" title=\"psysml:5f20ae7d-4d57-41a2-9907-55aa74d31ca3\" xlink:actuate=\"onRequest\" xlink:href=\"psysml:5f20ae7d-4d57-41a2-9907-55aa74d31ca3\" xlink:show=\"new\" xlink:title=\"psysml:5f20ae7d-4d57-41a2-9907-55aa74d31ca3\" xlink:type=\"simple\"><polygon fill=\"#FFFFFF\" filter=\"url(#f380v9hr4dlh9)\" points=\"333,170,357,170,364,192.2969,431,192.2969,431,267,333,267,333,170\" style=\"stroke: #000000; stroke-width: 1.5;\"/><line style=\"stroke: #000000; stroke-width: 1.5;\" x1=\"333\" x2=\"364\" y1=\"192.2969\" y2=\"192.2969\"/><text fill=\"#000000\" font-family=\"sans-serif\" font-size=\"14\" font-weight=\"bold\" lengthAdjust=\"spacingAndGlyphs\" textLength=\"18\" x=\"337\" y=\"184.9951\">P1</text></a><!--MD5=[f6df4d0ebaf0b5dfb2ced0ae5af7c670]\n",
       "cluster E4--><a href=\"psysml:ebcd3975-b264-4248-9466-34d42d3f68ce\" target=\"_top\" title=\"psysml:ebcd3975-b264-4248-9466-34d42d3f68ce\" xlink:actuate=\"onRequest\" xlink:href=\"psysml:ebcd3975-b264-4248-9466-34d42d3f68ce\" xlink:show=\"new\" xlink:title=\"psysml:ebcd3975-b264-4248-9466-34d42d3f68ce\" xlink:type=\"simple\"><polygon fill=\"#FFFFFF\" filter=\"url(#f380v9hr4dlh9)\" points=\"81,170,105,170,112,192.2969,179,192.2969,179,267,81,267,81,170\" style=\"stroke: #000000; stroke-width: 1.5;\"/><line style=\"stroke: #000000; stroke-width: 1.5;\" x1=\"81\" x2=\"112\" y1=\"192.2969\" y2=\"192.2969\"/><text fill=\"#000000\" font-family=\"sans-serif\" font-size=\"14\" font-weight=\"bold\" lengthAdjust=\"spacingAndGlyphs\" textLength=\"18\" x=\"85\" y=\"184.9951\">P2</text></a><!--MD5=[14e3b0961a2654348d326746436168a1]\n",
       "cluster E6--><a href=\"psysml:da6ad505-2daa-495a-83b8-d3ba9d2de3a4\" target=\"_top\" title=\"psysml:da6ad505-2daa-495a-83b8-d3ba9d2de3a4\" xlink:actuate=\"onRequest\" xlink:href=\"psysml:da6ad505-2daa-495a-83b8-d3ba9d2de3a4\" xlink:show=\"new\" xlink:title=\"psysml:da6ad505-2daa-495a-83b8-d3ba9d2de3a4\" xlink:type=\"simple\"><polygon fill=\"#FFFFFF\" filter=\"url(#f380v9hr4dlh9)\" points=\"268,49,314,49,321,71.2969,419,71.2969,419,146,268,146,268,49\" style=\"stroke: #000000; stroke-width: 1.5;\"/><line style=\"stroke: #000000; stroke-width: 1.5;\" x1=\"268\" x2=\"321\" y1=\"71.2969\" y2=\"71.2969\"/><text fill=\"#000000\" font-family=\"sans-serif\" font-size=\"14\" font-weight=\"bold\" lengthAdjust=\"spacingAndGlyphs\" textLength=\"40\" x=\"272\" y=\"63.9951\">Test1</text></a><!--MD5=[7f149f147074ac12df2cb0a7728a5fb0]\n",
       "cluster E9--><a href=\"psysml:b0babda1-ae00-488b-8e87-1a86d4c9a0c6\" target=\"_top\" title=\"psysml:b0babda1-ae00-488b-8e87-1a86d4c9a0c6\" xlink:actuate=\"onRequest\" xlink:href=\"psysml:b0babda1-ae00-488b-8e87-1a86d4c9a0c6\" xlink:show=\"new\" xlink:title=\"psysml:b0babda1-ae00-488b-8e87-1a86d4c9a0c6\" xlink:type=\"simple\"><polygon fill=\"#FFFFFF\" filter=\"url(#f380v9hr4dlh9)\" points=\"93,49,139,49,146,71.2969,244,71.2969,244,146,93,146,93,49\" style=\"stroke: #000000; stroke-width: 1.5;\"/><line style=\"stroke: #000000; stroke-width: 1.5;\" x1=\"93\" x2=\"146\" y1=\"71.2969\" y2=\"71.2969\"/><text fill=\"#000000\" font-family=\"sans-serif\" font-size=\"14\" font-weight=\"bold\" lengthAdjust=\"spacingAndGlyphs\" textLength=\"40\" x=\"97\" y=\"63.9951\">Test2</text></a><!--MD5=[49a0ec8f00dab7302a31f22d0f0fe584]\n",
       "class E12--><a href=\"psysml:be17b73a-3dde-44ce-ab8b-a0409ce39ee3\" target=\"_top\" title=\"psysml:be17b73a-3dde-44ce-ab8b-a0409ce39ee3\" xlink:actuate=\"onRequest\" xlink:href=\"psysml:be17b73a-3dde-44ce-ab8b-a0409ce39ee3\" xlink:show=\"new\" xlink:title=\"psysml:be17b73a-3dde-44ce-ab8b-a0409ce39ee3\" xlink:type=\"simple\"><rect fill=\"#FEFECE\" filter=\"url(#f380v9hr4dlh9)\" height=\"45.9375\" id=\"E12\" rx=\"10\" ry=\"10\" style=\"stroke: #A80036; stroke-width: 1.5;\" width=\"42\" x=\"438\" y=\"84\"/><text fill=\"#000000\" font-family=\"sans-serif\" font-size=\"12\" font-style=\"italic\" lengthAdjust=\"spacingAndGlyphs\" textLength=\"40\" x=\"439\" y=\"100.1387\">«part»</text><text fill=\"#000000\" font-family=\"sans-serif\" font-size=\"12\" lengthAdjust=\"spacingAndGlyphs\" textLength=\"22\" x=\"448\" y=\"114.1074\">x: A</text><line style=\"stroke: #A80036; stroke-width: 1.5;\" x1=\"439\" x2=\"479\" y1=\"121.9375\" y2=\"121.9375\"/></a><!--MD5=[ee3c913d1a06f366521f9ef512b67efe]\n",
       "class E13--><a href=\"psysml:70775e2d-ada4-46b3-b3bb-1618b7e606cf\" target=\"_top\" title=\"psysml:70775e2d-ada4-46b3-b3bb-1618b7e606cf\" xlink:actuate=\"onRequest\" xlink:href=\"psysml:70775e2d-ada4-46b3-b3bb-1618b7e606cf\" xlink:show=\"new\" xlink:title=\"psysml:70775e2d-ada4-46b3-b3bb-1618b7e606cf\" xlink:type=\"simple\"><rect fill=\"#FEFECE\" filter=\"url(#f380v9hr4dlh9)\" height=\"45.9375\" id=\"E13\" rx=\"10\" ry=\"10\" style=\"stroke: #A80036; stroke-width: 1.5;\" width=\"42\" x=\"32\" y=\"84\"/><text fill=\"#000000\" font-family=\"sans-serif\" font-size=\"12\" font-style=\"italic\" lengthAdjust=\"spacingAndGlyphs\" textLength=\"40\" x=\"33\" y=\"100.1387\">«part»</text><text fill=\"#000000\" font-family=\"sans-serif\" font-size=\"12\" lengthAdjust=\"spacingAndGlyphs\" textLength=\"22\" x=\"42\" y=\"114.1074\">y: B</text><line style=\"stroke: #A80036; stroke-width: 1.5;\" x1=\"33\" x2=\"73\" y1=\"121.9375\" y2=\"121.9375\"/></a><!--MD5=[09b614a08d8cba4a07c9adeb5e0fee81]\n",
       "class E3--><a href=\"psysml:a77b04ef-8587-44c9-8b7f-efa23f8b51b3\" target=\"_top\" title=\"psysml:a77b04ef-8587-44c9-8b7f-efa23f8b51b3\" xlink:actuate=\"onRequest\" xlink:href=\"psysml:a77b04ef-8587-44c9-8b7f-efa23f8b51b3\" xlink:show=\"new\" xlink:title=\"psysml:a77b04ef-8587-44c9-8b7f-efa23f8b51b3\" xlink:type=\"simple\"><rect fill=\"#FEFECE\" filter=\"url(#f380v9hr4dlh9)\" height=\"45.9375\" id=\"E3\" style=\"stroke: #A80036; stroke-width: 1.5;\" width=\"66\" x=\"349\" y=\"205\"/><text fill=\"#000000\" font-family=\"sans-serif\" font-size=\"12\" font-style=\"italic\" lengthAdjust=\"spacingAndGlyphs\" textLength=\"64\" x=\"350\" y=\"221.1387\">«part def»</text><text fill=\"#000000\" font-family=\"sans-serif\" font-size=\"12\" lengthAdjust=\"spacingAndGlyphs\" textLength=\"8\" x=\"378\" y=\"235.1074\">A</text><line style=\"stroke: #A80036; stroke-width: 1.5;\" x1=\"350\" x2=\"414\" y1=\"242.9375\" y2=\"242.9375\"/></a><!--MD5=[270fce915f116d4de14055a7c1d9a0f3]\n",
       "class E5--><a href=\"psysml:0236a647-9823-419e-b974-acac8cdc5ece\" target=\"_top\" title=\"psysml:0236a647-9823-419e-b974-acac8cdc5ece\" xlink:actuate=\"onRequest\" xlink:href=\"psysml:0236a647-9823-419e-b974-acac8cdc5ece\" xlink:show=\"new\" xlink:title=\"psysml:0236a647-9823-419e-b974-acac8cdc5ece\" xlink:type=\"simple\"><rect fill=\"#FEFECE\" filter=\"url(#f380v9hr4dlh9)\" height=\"45.9375\" id=\"E5\" style=\"stroke: #A80036; stroke-width: 1.5;\" width=\"66\" x=\"97\" y=\"205\"/><text fill=\"#000000\" font-family=\"sans-serif\" font-size=\"12\" font-style=\"italic\" lengthAdjust=\"spacingAndGlyphs\" textLength=\"64\" x=\"98\" y=\"221.1387\">«part def»</text><text fill=\"#000000\" font-family=\"sans-serif\" font-size=\"12\" lengthAdjust=\"spacingAndGlyphs\" textLength=\"8\" x=\"126\" y=\"235.1074\">B</text><line style=\"stroke: #A80036; stroke-width: 1.5;\" x1=\"98\" x2=\"162\" y1=\"242.9375\" y2=\"242.9375\"/></a><!--MD5=[2156ba9850f5573cc1fc38a6a4b2f02b]\n",
       "class E7--><a href=\"psysml:d9c30419-fa03-4224-9f9b-cc52ece95c03\" target=\"_top\" title=\"psysml:d9c30419-fa03-4224-9f9b-cc52ece95c03\" xlink:actuate=\"onRequest\" xlink:href=\"psysml:d9c30419-fa03-4224-9f9b-cc52ece95c03\" xlink:show=\"new\" xlink:title=\"psysml:d9c30419-fa03-4224-9f9b-cc52ece95c03\" xlink:type=\"simple\"><rect fill=\"#FEFECE\" filter=\"url(#f380v9hr4dlh9)\" height=\"45.9375\" id=\"E7\" rx=\"10\" ry=\"10\" style=\"stroke: #A80036; stroke-width: 1.5;\" width=\"42\" x=\"361\" y=\"84\"/><text fill=\"#000000\" font-family=\"sans-serif\" font-size=\"12\" font-style=\"italic\" lengthAdjust=\"spacingAndGlyphs\" textLength=\"40\" x=\"362\" y=\"100.1387\">«part»</text><text fill=\"#000000\" font-family=\"sans-serif\" font-size=\"12\" lengthAdjust=\"spacingAndGlyphs\" textLength=\"22\" x=\"371\" y=\"114.1074\">x: A</text><line style=\"stroke: #A80036; stroke-width: 1.5;\" x1=\"362\" x2=\"402\" y1=\"121.9375\" y2=\"121.9375\"/></a><!--MD5=[b9389687b975829384b498ac4b7476b2]\n",
       "class E8--><a href=\"psysml:32c0d6a2-b48f-4756-bec9-ba81426d308d\" target=\"_top\" title=\"psysml:32c0d6a2-b48f-4756-bec9-ba81426d308d\" xlink:actuate=\"onRequest\" xlink:href=\"psysml:32c0d6a2-b48f-4756-bec9-ba81426d308d\" xlink:show=\"new\" xlink:title=\"psysml:32c0d6a2-b48f-4756-bec9-ba81426d308d\" xlink:type=\"simple\"><rect fill=\"#FEFECE\" filter=\"url(#f380v9hr4dlh9)\" height=\"45.9375\" id=\"E8\" rx=\"10\" ry=\"10\" style=\"stroke: #A80036; stroke-width: 1.5;\" width=\"42\" x=\"284\" y=\"84\"/><text fill=\"#000000\" font-family=\"sans-serif\" font-size=\"12\" font-style=\"italic\" lengthAdjust=\"spacingAndGlyphs\" textLength=\"40\" x=\"285\" y=\"100.1387\">«part»</text><text fill=\"#000000\" font-family=\"sans-serif\" font-size=\"12\" lengthAdjust=\"spacingAndGlyphs\" textLength=\"22\" x=\"294\" y=\"114.1074\">y: B</text><line style=\"stroke: #A80036; stroke-width: 1.5;\" x1=\"285\" x2=\"325\" y1=\"121.9375\" y2=\"121.9375\"/></a><!--MD5=[96f4274e9e20536e775497830990834d]\n",
       "class E10--><a href=\"psysml:4b1ceaae-3a33-4edd-a713-ae072a8ba794\" target=\"_top\" title=\"psysml:4b1ceaae-3a33-4edd-a713-ae072a8ba794\" xlink:actuate=\"onRequest\" xlink:href=\"psysml:4b1ceaae-3a33-4edd-a713-ae072a8ba794\" xlink:show=\"new\" xlink:title=\"psysml:4b1ceaae-3a33-4edd-a713-ae072a8ba794\" xlink:type=\"simple\"><rect fill=\"#FEFECE\" filter=\"url(#f380v9hr4dlh9)\" height=\"45.9375\" id=\"E10\" rx=\"10\" ry=\"10\" style=\"stroke: #A80036; stroke-width: 1.5;\" width=\"42\" x=\"186\" y=\"84\"/><text fill=\"#000000\" font-family=\"sans-serif\" font-size=\"12\" font-style=\"italic\" lengthAdjust=\"spacingAndGlyphs\" textLength=\"40\" x=\"187\" y=\"100.1387\">«part»</text><text fill=\"#000000\" font-family=\"sans-serif\" font-size=\"12\" lengthAdjust=\"spacingAndGlyphs\" textLength=\"22\" x=\"196\" y=\"114.1074\">x: A</text><line style=\"stroke: #A80036; stroke-width: 1.5;\" x1=\"187\" x2=\"227\" y1=\"121.9375\" y2=\"121.9375\"/></a><!--MD5=[1dd1bfd58a279cf63c5f349dbc8fc6a1]\n",
       "class E11--><a href=\"psysml:8a3e0fcf-a1f5-42bd-9af7-3ab68d312f86\" target=\"_top\" title=\"psysml:8a3e0fcf-a1f5-42bd-9af7-3ab68d312f86\" xlink:actuate=\"onRequest\" xlink:href=\"psysml:8a3e0fcf-a1f5-42bd-9af7-3ab68d312f86\" xlink:show=\"new\" xlink:title=\"psysml:8a3e0fcf-a1f5-42bd-9af7-3ab68d312f86\" xlink:type=\"simple\"><rect fill=\"#FEFECE\" filter=\"url(#f380v9hr4dlh9)\" height=\"45.9375\" id=\"E11\" rx=\"10\" ry=\"10\" style=\"stroke: #A80036; stroke-width: 1.5;\" width=\"42\" x=\"109\" y=\"84\"/><text fill=\"#000000\" font-family=\"sans-serif\" font-size=\"12\" font-style=\"italic\" lengthAdjust=\"spacingAndGlyphs\" textLength=\"40\" x=\"110\" y=\"100.1387\">«part»</text><text fill=\"#000000\" font-family=\"sans-serif\" font-size=\"12\" lengthAdjust=\"spacingAndGlyphs\" textLength=\"22\" x=\"119\" y=\"114.1074\">y: B</text><line style=\"stroke: #A80036; stroke-width: 1.5;\" x1=\"110\" x2=\"150\" y1=\"121.9375\" y2=\"121.9375\"/></a><!--MD5=[14ccda38c055a5c0da953d572bc50960]\n",
       "link E7 to E3--><a href=\"psysml:520b462f-0086-4fa2-a8c7-c457cfb393b0\" target=\"_top\" title=\"psysml:520b462f-0086-4fa2-a8c7-c457cfb393b0\" xlink:actuate=\"onRequest\" xlink:href=\"psysml:520b462f-0086-4fa2-a8c7-c457cfb393b0\" xlink:show=\"new\" xlink:title=\"psysml:520b462f-0086-4fa2-a8c7-c457cfb393b0\" xlink:type=\"simple\"><path d=\"M382,130.1 C382,145.37 382,166.16 382,184.57 \" fill=\"none\" id=\"E7-&gt;E3\" style=\"stroke: #A80036; stroke-width: 1.0;\"/><polygon fill=\"#FFFFFF\" points=\"382,204.61,375,185.61,389,185.61,382,204.61\" style=\"stroke: #A80036; stroke-width: 1.0;\"/><ellipse cx=\"377\" cy=\"179.91\" fill=\"#A80036\" rx=\"2\" ry=\"2\" style=\"stroke: #A80036; stroke-width: 1.0;\"/><ellipse cx=\"387\" cy=\"179.91\" fill=\"#A80036\" rx=\"2\" ry=\"2\" style=\"stroke: #A80036; stroke-width: 1.0;\"/></a><!--MD5=[1ccb2481ffa92f8d51a74ee30c51832a]\n",
       "link E8 to E5--><a href=\"psysml:7aecf3a3-7124-43a8-804d-679627dba63d\" target=\"_top\" title=\"psysml:7aecf3a3-7124-43a8-804d-679627dba63d\" xlink:actuate=\"onRequest\" xlink:href=\"psysml:7aecf3a3-7124-43a8-804d-679627dba63d\" xlink:show=\"new\" xlink:title=\"psysml:7aecf3a3-7124-43a8-804d-679627dba63d\" xlink:type=\"simple\"><path d=\"M283.84,124.59 C272.23,133.52 257.5,144.61 244,154 C223.51,168.25 200.41,183.24 180.38,195.91 \" fill=\"none\" id=\"E8-&gt;E5\" style=\"stroke: #A80036; stroke-width: 1.0;\"/><polygon fill=\"#FFFFFF\" points=\"163.36,206.57,175.7353,190.5434,183.175,202.403,163.36,206.57\" style=\"stroke: #A80036; stroke-width: 1.0;\"/><ellipse cx=\"181.6267\" cy=\"189.2086\" fill=\"#A80036\" rx=\"2\" ry=\"2\" style=\"stroke: #A80036; stroke-width: 1.0;\"/><ellipse cx=\"186.9408\" cy=\"197.6797\" fill=\"#A80036\" rx=\"2\" ry=\"2\" style=\"stroke: #A80036; stroke-width: 1.0;\"/></a><!--MD5=[feeac5eb423634930294aa81f2d25a4c]\n",
       "link E10 to E3--><a href=\"psysml:fd0acd65-b864-4a8e-8ff2-cbce99549eac\" target=\"_top\" title=\"psysml:fd0acd65-b864-4a8e-8ff2-cbce99549eac\" xlink:actuate=\"onRequest\" xlink:href=\"psysml:fd0acd65-b864-4a8e-8ff2-cbce99549eac\" xlink:show=\"new\" xlink:title=\"psysml:fd0acd65-b864-4a8e-8ff2-cbce99549eac\" xlink:type=\"simple\"><path d=\"M228.16,124.59 C239.77,133.52 254.5,144.61 268,154 C288.49,168.25 311.59,183.24 331.62,195.91 \" fill=\"none\" id=\"E10-&gt;E3\" style=\"stroke: #A80036; stroke-width: 1.0;\"/><polygon fill=\"#FFFFFF\" points=\"348.64,206.57,328.825,202.403,336.2647,190.5434,348.64,206.57\" style=\"stroke: #A80036; stroke-width: 1.0;\"/><ellipse cx=\"325.0592\" cy=\"197.6797\" fill=\"#A80036\" rx=\"2\" ry=\"2\" style=\"stroke: #A80036; stroke-width: 1.0;\"/><ellipse cx=\"330.3733\" cy=\"189.2086\" fill=\"#A80036\" rx=\"2\" ry=\"2\" style=\"stroke: #A80036; stroke-width: 1.0;\"/></a><!--MD5=[07b77f6f309248d16187045709d1c26e]\n",
       "link E11 to E5--><a href=\"psysml:442cb8f2-ee4b-4dfa-8164-f495024e2707\" target=\"_top\" title=\"psysml:442cb8f2-ee4b-4dfa-8164-f495024e2707\" xlink:actuate=\"onRequest\" xlink:href=\"psysml:442cb8f2-ee4b-4dfa-8164-f495024e2707\" xlink:show=\"new\" xlink:title=\"psysml:442cb8f2-ee4b-4dfa-8164-f495024e2707\" xlink:type=\"simple\"><path d=\"M130,130.1 C130,145.37 130,166.16 130,184.57 \" fill=\"none\" id=\"E11-&gt;E5\" style=\"stroke: #A80036; stroke-width: 1.0;\"/><polygon fill=\"#FFFFFF\" points=\"130,204.61,123,185.61,137,185.61,130,204.61\" style=\"stroke: #A80036; stroke-width: 1.0;\"/><ellipse cx=\"125\" cy=\"179.91\" fill=\"#A80036\" rx=\"2\" ry=\"2\" style=\"stroke: #A80036; stroke-width: 1.0;\"/><ellipse cx=\"135\" cy=\"179.91\" fill=\"#A80036\" rx=\"2\" ry=\"2\" style=\"stroke: #A80036; stroke-width: 1.0;\"/></a><!--MD5=[39f41a0e550fb3d73b4d8135617e30a2]\n",
       "link E12 to E3--><a href=\"psysml:fab56a21-03ff-446d-9dd1-385c5373a3f2\" target=\"_top\" title=\"psysml:fab56a21-03ff-446d-9dd1-385c5373a3f2\" xlink:actuate=\"onRequest\" xlink:href=\"psysml:fab56a21-03ff-446d-9dd1-385c5373a3f2\" xlink:show=\"new\" xlink:title=\"psysml:fab56a21-03ff-446d-9dd1-385c5373a3f2\" xlink:type=\"simple\"><path d=\"M444.7,130.1 C434.28,146.2 419.89,168.44 407.53,187.55 \" fill=\"none\" id=\"E12-&gt;E3\" style=\"stroke: #A80036; stroke-width: 1.0;\"/><polygon fill=\"#FFFFFF\" points=\"396.49,204.61,400.9313,184.8546,412.6866,192.4581,396.49,204.61\" style=\"stroke: #A80036; stroke-width: 1.0;\"/><ellipse cx=\"405.7063\" cy=\"181.1547\" fill=\"#A80036\" rx=\"2\" ry=\"2\" style=\"stroke: #A80036; stroke-width: 1.0;\"/><ellipse cx=\"414.103\" cy=\"186.5858\" fill=\"#A80036\" rx=\"2\" ry=\"2\" style=\"stroke: #A80036; stroke-width: 1.0;\"/></a><!--MD5=[066b2d8af59fea80ccdb3d54ad5c1091]\n",
       "link E13 to E5--><a href=\"psysml:5cad6703-6f19-4c46-9c46-92acb368aec7\" target=\"_top\" title=\"psysml:5cad6703-6f19-4c46-9c46-92acb368aec7\" xlink:actuate=\"onRequest\" xlink:href=\"psysml:5cad6703-6f19-4c46-9c46-92acb368aec7\" xlink:show=\"new\" xlink:title=\"psysml:5cad6703-6f19-4c46-9c46-92acb368aec7\" xlink:type=\"simple\"><path d=\"M67.3,130.1 C77.72,146.2 92.11,168.44 104.47,187.55 \" fill=\"none\" id=\"E13-&gt;E5\" style=\"stroke: #A80036; stroke-width: 1.0;\"/><polygon fill=\"#FFFFFF\" points=\"115.51,204.61,99.3134,192.4581,111.0687,184.8546,115.51,204.61\" style=\"stroke: #A80036; stroke-width: 1.0;\"/><ellipse cx=\"97.897\" cy=\"186.5858\" fill=\"#A80036\" rx=\"2\" ry=\"2\" style=\"stroke: #A80036; stroke-width: 1.0;\"/><ellipse cx=\"106.2937\" cy=\"181.1547\" fill=\"#A80036\" rx=\"2\" ry=\"2\" style=\"stroke: #A80036; stroke-width: 1.0;\"/></a><!--MD5=[7b99e43b5a9dc6a8232d8b660c35c9a6]\n",
       "@startuml\r\n",
       "skinparam wrapWidth 300\r\n",
       "hide circle\r\n",
       "\r\n",
       "package \"CircularImport\" as E1  [[psysml:7332441d-5859-4b68-88e6-44e4d7acfbc9 ]]  {\r\n",
       "package \"P1\" as E2  [[psysml:5f20ae7d-4d57-41a2-9907-55aa74d31ca3 ]]  {\r\n",
       "comp def \"A\" as E3  <<(T,blue) part def>> [[psysml:a77b04ef-8587-44c9-8b7f-efa23f8b51b3 ]] {\r\n",
       "}\r\n",
       "}\r\n",
       "package \"P2\" as E4  [[psysml:ebcd3975-b264-4248-9466-34d42d3f68ce ]]  {\r\n",
       "comp def \"B\" as E5  <<(T,blue) part def>> [[psysml:0236a647-9823-419e-b974-acac8cdc5ece ]] {\r\n",
       "}\r\n",
       "}\r\n",
       "package \"Test1\" as E6  [[psysml:da6ad505-2daa-495a-83b8-d3ba9d2de3a4 ]]  {\r\n",
       "comp usage \"x: A\" as E7  <<(T,blue) part>> [[psysml:d9c30419-fa03-4224-9f9b-cc52ece95c03 ]] {\r\n",
       "}\r\n",
       "comp usage \"y: B\" as E8  <<(T,blue) part>> [[psysml:32c0d6a2-b48f-4756-bec9-ba81426d308d ]] {\r\n",
       "}\r\n",
       "}\r\n",
       "package \"Test2\" as E9  [[psysml:b0babda1-ae00-488b-8e87-1a86d4c9a0c6 ]]  {\r\n",
       "comp usage \"x: A\" as E10  <<(T,blue) part>> [[psysml:4b1ceaae-3a33-4edd-a713-ae072a8ba794 ]] {\r\n",
       "}\r\n",
       "comp usage \"y: B\" as E11  <<(T,blue) part>> [[psysml:8a3e0fcf-a1f5-42bd-9af7-3ab68d312f86 ]] {\r\n",
       "}\r\n",
       "}\r\n",
       "comp usage \"x: A\" as E12  <<(T,blue) part>> [[psysml:be17b73a-3dde-44ce-ab8b-a0409ce39ee3 ]] {\r\n",
       "}\r\n",
       "comp usage \"y: B\" as E13  <<(T,blue) part>> [[psysml:70775e2d-ada4-46b3-b3bb-1618b7e606cf ]] {\r\n",
       "}\r\n",
       "}\r\n",
       "E7 - -:|> E3 [[psysml:520b462f-0086-4fa2-a8c7-c457cfb393b0 ]] \r\n",
       "E8 - -:|> E5 [[psysml:7aecf3a3-7124-43a8-804d-679627dba63d ]] \r\n",
       "E10 - -:|> E3 [[psysml:fd0acd65-b864-4a8e-8ff2-cbce99549eac ]] \r\n",
       "E11 - -:|> E5 [[psysml:442cb8f2-ee4b-4dfa-8164-f495024e2707 ]] \r\n",
       "E12 - -:|> E3 [[psysml:fab56a21-03ff-446d-9dd1-385c5373a3f2 ]] \r\n",
       "E13 - -:|> E5 [[psysml:5cad6703-6f19-4c46-9c46-92acb368aec7 ]] \r\n",
       "@enduml\r\n",
       "\n",
       "PlantUML version 1.2020.13(Sat Jun 13 12:26:38 UTC 2020)\n",
       "(EPL source distribution)\n",
       "Java Runtime: OpenJDK Runtime Environment\n",
       "JVM: OpenJDK 64-Bit Server VM\n",
       "Default Encoding: UTF-8\n",
       "Language: en\n",
       "Country: null\n",
       "--></g></svg>"
      ]
     },
     "execution_count": 29,
     "metadata": {},
     "output_type": "execute_result"
    }
   ],
   "source": [
    "%viz --style=\"STDCOLOR\" --view=\"MIXED\" \"CircularImport\""
   ]
  },
  {
   "cell_type": "code",
   "execution_count": 30,
   "id": "a5667d48",
   "metadata": {
    "execution": {
     "iopub.execute_input": "2021-09-27T07:16:36.316762Z",
     "iopub.status.busy": "2021-09-27T07:16:36.316360Z",
     "iopub.status.idle": "2021-09-27T07:16:36.378243Z",
     "shell.execute_reply": "2021-09-27T07:16:36.377892Z"
    }
   },
   "outputs": [
    {
     "data": {
      "image/svg+xml": [
       "<?xml version=\"1.0\" encoding=\"UTF-8\" standalone=\"no\"?><svg xmlns=\"http://www.w3.org/2000/svg\" xmlns:xlink=\"http://www.w3.org/1999/xlink\" contentScriptType=\"application/ecmascript\" contentStyleType=\"text/css\" height=\"297px\" preserveAspectRatio=\"none\" style=\"width:674px;height:297px;\" version=\"1.1\" viewBox=\"0 0 674 297\" width=\"674px\" zoomAndPan=\"magnify\"><defs><filter height=\"300%\" id=\"f1n2i2oimtdkxs\" width=\"300%\" x=\"-1\" y=\"-1\"><feGaussianBlur result=\"blurOut\" stdDeviation=\"2.0\"/><feColorMatrix in=\"blurOut\" result=\"blurOut2\" type=\"matrix\" values=\"0 0 0 0 0 0 0 0 0 0 0 0 0 0 0 0 0 0 .4 0\"/><feOffset dx=\"4.0\" dy=\"4.0\" in=\"blurOut2\" result=\"blurOut3\"/><feBlend in=\"SourceGraphic\" in2=\"blurOut3\" mode=\"normal\"/></filter></defs><g><!--MD5=[fbc87193dbaf4d95561dea2c320d4a47]\n",
       "cluster E1--><a href=\"psysml:7332441d-5859-4b68-88e6-44e4d7acfbc9\" target=\"_top\" title=\"psysml:7332441d-5859-4b68-88e6-44e4d7acfbc9\" xlink:actuate=\"onRequest\" xlink:href=\"psysml:7332441d-5859-4b68-88e6-44e4d7acfbc9\" xlink:show=\"new\" xlink:title=\"psysml:7332441d-5859-4b68-88e6-44e4d7acfbc9\" xlink:type=\"simple\"><polygon fill=\"#FFFFFF\" filter=\"url(#f1n2i2oimtdkxs)\" points=\"16,6,117,6,124,28.2969,652,28.2969,652,285,16,285,16,6\" style=\"stroke: #000000; stroke-width: 1.5;\"/><line style=\"stroke: #000000; stroke-width: 1.5;\" x1=\"16\" x2=\"124\" y1=\"28.2969\" y2=\"28.2969\"/><text fill=\"#000000\" font-family=\"sans-serif\" font-size=\"14\" font-weight=\"bold\" lengthAdjust=\"spacingAndGlyphs\" textLength=\"95\" x=\"20\" y=\"20.9951\">CircularImport</text></a><!--MD5=[e4f7fae6ed58524ba242bb0b0d3be6b7]\n",
       "cluster E2--><a href=\"psysml:5f20ae7d-4d57-41a2-9907-55aa74d31ca3\" target=\"_top\" title=\"psysml:5f20ae7d-4d57-41a2-9907-55aa74d31ca3\" xlink:actuate=\"onRequest\" xlink:href=\"psysml:5f20ae7d-4d57-41a2-9907-55aa74d31ca3\" xlink:show=\"new\" xlink:title=\"psysml:5f20ae7d-4d57-41a2-9907-55aa74d31ca3\" xlink:type=\"simple\"><polygon fill=\"#FFFFFF\" filter=\"url(#f1n2i2oimtdkxs)\" points=\"463,170,487,170,494,192.2969,535,192.2969,535,261,463,261,463,170\" style=\"stroke: #000000; stroke-width: 1.5;\"/><line style=\"stroke: #000000; stroke-width: 1.5;\" x1=\"463\" x2=\"494\" y1=\"192.2969\" y2=\"192.2969\"/><text fill=\"#000000\" font-family=\"sans-serif\" font-size=\"14\" font-weight=\"bold\" lengthAdjust=\"spacingAndGlyphs\" textLength=\"18\" x=\"467\" y=\"184.9951\">P1</text></a><!--MD5=[f6df4d0ebaf0b5dfb2ced0ae5af7c670]\n",
       "cluster E4--><a href=\"psysml:ebcd3975-b264-4248-9466-34d42d3f68ce\" target=\"_top\" title=\"psysml:ebcd3975-b264-4248-9466-34d42d3f68ce\" xlink:actuate=\"onRequest\" xlink:href=\"psysml:ebcd3975-b264-4248-9466-34d42d3f68ce\" xlink:show=\"new\" xlink:title=\"psysml:ebcd3975-b264-4248-9466-34d42d3f68ce\" xlink:type=\"simple\"><polygon fill=\"#FFFFFF\" filter=\"url(#f1n2i2oimtdkxs)\" points=\"133,170,157,170,164,192.2969,205,192.2969,205,261,133,261,133,170\" style=\"stroke: #000000; stroke-width: 1.5;\"/><line style=\"stroke: #000000; stroke-width: 1.5;\" x1=\"133\" x2=\"164\" y1=\"192.2969\" y2=\"192.2969\"/><text fill=\"#000000\" font-family=\"sans-serif\" font-size=\"14\" font-weight=\"bold\" lengthAdjust=\"spacingAndGlyphs\" textLength=\"18\" x=\"137\" y=\"184.9951\">P2</text></a><!--MD5=[14e3b0961a2654348d326746436168a1]\n",
       "cluster E6--><a href=\"psysml:da6ad505-2daa-495a-83b8-d3ba9d2de3a4\" target=\"_top\" title=\"psysml:da6ad505-2daa-495a-83b8-d3ba9d2de3a4\" xlink:actuate=\"onRequest\" xlink:href=\"psysml:da6ad505-2daa-495a-83b8-d3ba9d2de3a4\" xlink:show=\"new\" xlink:title=\"psysml:da6ad505-2daa-495a-83b8-d3ba9d2de3a4\" xlink:type=\"simple\"><polygon fill=\"#FFFFFF\" filter=\"url(#f1n2i2oimtdkxs)\" points=\"346,49,392,49,399,71.2969,549,71.2969,549,146,346,146,346,49\" style=\"stroke: #000000; stroke-width: 1.5;\"/><line style=\"stroke: #000000; stroke-width: 1.5;\" x1=\"346\" x2=\"399\" y1=\"71.2969\" y2=\"71.2969\"/><text fill=\"#000000\" font-family=\"sans-serif\" font-size=\"14\" font-weight=\"bold\" lengthAdjust=\"spacingAndGlyphs\" textLength=\"40\" x=\"350\" y=\"63.9951\">Test1</text></a><!--MD5=[7f149f147074ac12df2cb0a7728a5fb0]\n",
       "cluster E9--><a href=\"psysml:b0babda1-ae00-488b-8e87-1a86d4c9a0c6\" target=\"_top\" title=\"psysml:b0babda1-ae00-488b-8e87-1a86d4c9a0c6\" xlink:actuate=\"onRequest\" xlink:href=\"psysml:b0babda1-ae00-488b-8e87-1a86d4c9a0c6\" xlink:show=\"new\" xlink:title=\"psysml:b0babda1-ae00-488b-8e87-1a86d4c9a0c6\" xlink:type=\"simple\"><polygon fill=\"#FFFFFF\" filter=\"url(#f1n2i2oimtdkxs)\" points=\"119,49,165,49,172,71.2969,322,71.2969,322,146,119,146,119,49\" style=\"stroke: #000000; stroke-width: 1.5;\"/><line style=\"stroke: #000000; stroke-width: 1.5;\" x1=\"119\" x2=\"172\" y1=\"71.2969\" y2=\"71.2969\"/><text fill=\"#000000\" font-family=\"sans-serif\" font-size=\"14\" font-weight=\"bold\" lengthAdjust=\"spacingAndGlyphs\" textLength=\"40\" x=\"123\" y=\"63.9951\">Test2</text></a><!--MD5=[49a0ec8f00dab7302a31f22d0f0fe584]\n",
       "class E12--><a href=\"psysml:be17b73a-3dde-44ce-ab8b-a0409ce39ee3\" target=\"_top\" title=\"psysml:be17b73a-3dde-44ce-ab8b-a0409ce39ee3\" xlink:actuate=\"onRequest\" xlink:href=\"psysml:be17b73a-3dde-44ce-ab8b-a0409ce39ee3\" xlink:show=\"new\" xlink:title=\"psysml:be17b73a-3dde-44ce-ab8b-a0409ce39ee3\" xlink:type=\"simple\"><rect fill=\"#FEFECE\" filter=\"url(#f1n2i2oimtdkxs)\" height=\"45.9375\" id=\"E12\" rx=\"10\" ry=\"10\" style=\"stroke: #A80036; stroke-width: 1.5;\" width=\"68\" x=\"568\" y=\"84\"/><ellipse cx=\"583\" cy=\"102.9688\" fill=\"#32CD32\" rx=\"11\" ry=\"11\" style=\"stroke: #A80036; stroke-width: 1.0;\"/><path d=\"M579.8125,107.9688 L579.8125,97.375 L583.4219,97.375 Q584.6406,97.375 585.4375,97.8125 Q586.2344,98.2344 586.6094,98.9375 Q587,99.6406 587,100.4844 Q587,101.3281 586.625,102.0156 Q586.2656,102.7031 585.4688,103.125 Q584.6875,103.5313 583.5,103.5313 L581.7656,103.5313 L581.7656,107.9688 L579.8125,107.9688 Z M581.7656,101.9375 L583.375,101.9375 Q584.1875,101.9375 584.6094,101.5313 Q585.0313,101.125 585.0313,100.4844 Q585.0313,99.8594 584.6094,99.4531 Q584.1875,99.0469 583.3906,99.0469 L581.7656,99.0469 L581.7656,101.9375 Z \"/><text fill=\"#000000\" font-family=\"sans-serif\" font-size=\"12\" font-style=\"italic\" lengthAdjust=\"spacingAndGlyphs\" textLength=\"40\" x=\"595\" y=\"100.1387\">«part»</text><text fill=\"#000000\" font-family=\"sans-serif\" font-size=\"12\" lengthAdjust=\"spacingAndGlyphs\" textLength=\"22\" x=\"604\" y=\"114.1074\">x: A</text><line style=\"stroke: #A80036; stroke-width: 1.5;\" x1=\"569\" x2=\"635\" y1=\"121.9375\" y2=\"121.9375\"/></a><!--MD5=[ee3c913d1a06f366521f9ef512b67efe]\n",
       "class E13--><a href=\"psysml:70775e2d-ada4-46b3-b3bb-1618b7e606cf\" target=\"_top\" title=\"psysml:70775e2d-ada4-46b3-b3bb-1618b7e606cf\" xlink:actuate=\"onRequest\" xlink:href=\"psysml:70775e2d-ada4-46b3-b3bb-1618b7e606cf\" xlink:show=\"new\" xlink:title=\"psysml:70775e2d-ada4-46b3-b3bb-1618b7e606cf\" xlink:type=\"simple\"><rect fill=\"#FEFECE\" filter=\"url(#f1n2i2oimtdkxs)\" height=\"45.9375\" id=\"E13\" rx=\"10\" ry=\"10\" style=\"stroke: #A80036; stroke-width: 1.5;\" width=\"68\" x=\"32\" y=\"84\"/><ellipse cx=\"47\" cy=\"102.9688\" fill=\"#32CD32\" rx=\"11\" ry=\"11\" style=\"stroke: #A80036; stroke-width: 1.0;\"/><path d=\"M43.8125,107.9688 L43.8125,97.375 L47.4219,97.375 Q48.6406,97.375 49.4375,97.8125 Q50.2344,98.2344 50.6094,98.9375 Q51,99.6406 51,100.4844 Q51,101.3281 50.625,102.0156 Q50.2656,102.7031 49.4688,103.125 Q48.6875,103.5313 47.5,103.5313 L45.7656,103.5313 L45.7656,107.9688 L43.8125,107.9688 Z M45.7656,101.9375 L47.375,101.9375 Q48.1875,101.9375 48.6094,101.5313 Q49.0313,101.125 49.0313,100.4844 Q49.0313,99.8594 48.6094,99.4531 Q48.1875,99.0469 47.3906,99.0469 L45.7656,99.0469 L45.7656,101.9375 Z \"/><text fill=\"#000000\" font-family=\"sans-serif\" font-size=\"12\" font-style=\"italic\" lengthAdjust=\"spacingAndGlyphs\" textLength=\"40\" x=\"59\" y=\"100.1387\">«part»</text><text fill=\"#000000\" font-family=\"sans-serif\" font-size=\"12\" lengthAdjust=\"spacingAndGlyphs\" textLength=\"22\" x=\"68\" y=\"114.1074\">y: B</text><line style=\"stroke: #A80036; stroke-width: 1.5;\" x1=\"33\" x2=\"99\" y1=\"121.9375\" y2=\"121.9375\"/></a><!--MD5=[09b614a08d8cba4a07c9adeb5e0fee81]\n",
       "class E3--><a href=\"psysml:a77b04ef-8587-44c9-8b7f-efa23f8b51b3\" target=\"_top\" title=\"psysml:a77b04ef-8587-44c9-8b7f-efa23f8b51b3\" xlink:actuate=\"onRequest\" xlink:href=\"psysml:a77b04ef-8587-44c9-8b7f-efa23f8b51b3\" xlink:show=\"new\" xlink:title=\"psysml:a77b04ef-8587-44c9-8b7f-efa23f8b51b3\" xlink:type=\"simple\"><rect fill=\"#FEFECE\" filter=\"url(#f1n2i2oimtdkxs)\" height=\"40\" id=\"E3\" style=\"stroke: #A80036; stroke-width: 1.5;\" width=\"40\" x=\"479\" y=\"205\"/><ellipse cx=\"494\" cy=\"221\" fill=\"#008000\" rx=\"11\" ry=\"11\" style=\"stroke: #A80036; stroke-width: 1.0;\"/><path d=\"M490.875,226 L490.875,215.4063 L494.1094,215.4063 Q496.0156,215.4063 496.9219,216.1563 Q497.8438,216.9063 497.8438,218.0781 Q497.8438,218.7656 497.4531,219.4219 Q497.0781,220.0781 496.3594,220.375 Q497.2188,220.75 497.7344,221.4375 Q498.25,222.125 498.25,222.9375 Q498.25,224.3125 497.2188,225.1563 Q496.2031,226 494.0938,226 L490.875,226 Z M492.7969,219.6406 L493.9531,219.6406 Q495.0781,219.6406 495.4844,219.2656 Q495.9063,218.875 495.9063,218.25 Q495.9063,217.6719 495.4844,217.3125 Q495.0625,216.9531 494.125,216.9531 L492.7969,216.9531 L492.7969,219.6406 Z M492.7969,224.4219 L494.2969,224.4219 Q495.2031,224.4219 495.7344,224.0313 Q496.2656,223.6406 496.2656,222.8906 Q496.2656,222.125 495.7656,221.6563 Q495.2656,221.1719 494,221.1719 L492.7969,221.1719 L492.7969,224.4219 Z \"/><text fill=\"#000000\" font-family=\"sans-serif\" font-size=\"12\" lengthAdjust=\"spacingAndGlyphs\" textLength=\"8\" x=\"508\" y=\"225.1543\">A</text><line style=\"stroke: #A80036; stroke-width: 1.5;\" x1=\"480\" x2=\"518\" y1=\"237\" y2=\"237\"/></a><!--MD5=[270fce915f116d4de14055a7c1d9a0f3]\n",
       "class E5--><a href=\"psysml:0236a647-9823-419e-b974-acac8cdc5ece\" target=\"_top\" title=\"psysml:0236a647-9823-419e-b974-acac8cdc5ece\" xlink:actuate=\"onRequest\" xlink:href=\"psysml:0236a647-9823-419e-b974-acac8cdc5ece\" xlink:show=\"new\" xlink:title=\"psysml:0236a647-9823-419e-b974-acac8cdc5ece\" xlink:type=\"simple\"><rect fill=\"#FEFECE\" filter=\"url(#f1n2i2oimtdkxs)\" height=\"40\" id=\"E5\" style=\"stroke: #A80036; stroke-width: 1.5;\" width=\"40\" x=\"149\" y=\"205\"/><ellipse cx=\"164\" cy=\"221\" fill=\"#008000\" rx=\"11\" ry=\"11\" style=\"stroke: #A80036; stroke-width: 1.0;\"/><path d=\"M160.875,226 L160.875,215.4063 L164.1094,215.4063 Q166.0156,215.4063 166.9219,216.1563 Q167.8438,216.9063 167.8438,218.0781 Q167.8438,218.7656 167.4531,219.4219 Q167.0781,220.0781 166.3594,220.375 Q167.2188,220.75 167.7344,221.4375 Q168.25,222.125 168.25,222.9375 Q168.25,224.3125 167.2188,225.1563 Q166.2031,226 164.0938,226 L160.875,226 Z M162.7969,219.6406 L163.9531,219.6406 Q165.0781,219.6406 165.4844,219.2656 Q165.9063,218.875 165.9063,218.25 Q165.9063,217.6719 165.4844,217.3125 Q165.0625,216.9531 164.125,216.9531 L162.7969,216.9531 L162.7969,219.6406 Z M162.7969,224.4219 L164.2969,224.4219 Q165.2031,224.4219 165.7344,224.0313 Q166.2656,223.6406 166.2656,222.8906 Q166.2656,222.125 165.7656,221.6563 Q165.2656,221.1719 164,221.1719 L162.7969,221.1719 L162.7969,224.4219 Z \"/><text fill=\"#000000\" font-family=\"sans-serif\" font-size=\"12\" lengthAdjust=\"spacingAndGlyphs\" textLength=\"8\" x=\"178\" y=\"225.1543\">B</text><line style=\"stroke: #A80036; stroke-width: 1.5;\" x1=\"150\" x2=\"188\" y1=\"237\" y2=\"237\"/></a><!--MD5=[2156ba9850f5573cc1fc38a6a4b2f02b]\n",
       "class E7--><a href=\"psysml:d9c30419-fa03-4224-9f9b-cc52ece95c03\" target=\"_top\" title=\"psysml:d9c30419-fa03-4224-9f9b-cc52ece95c03\" xlink:actuate=\"onRequest\" xlink:href=\"psysml:d9c30419-fa03-4224-9f9b-cc52ece95c03\" xlink:show=\"new\" xlink:title=\"psysml:d9c30419-fa03-4224-9f9b-cc52ece95c03\" xlink:type=\"simple\"><rect fill=\"#FEFECE\" filter=\"url(#f1n2i2oimtdkxs)\" height=\"45.9375\" id=\"E7\" rx=\"10\" ry=\"10\" style=\"stroke: #A80036; stroke-width: 1.5;\" width=\"68\" x=\"465\" y=\"84\"/><ellipse cx=\"480\" cy=\"102.9688\" fill=\"#32CD32\" rx=\"11\" ry=\"11\" style=\"stroke: #A80036; stroke-width: 1.0;\"/><path d=\"M476.8125,107.9688 L476.8125,97.375 L480.4219,97.375 Q481.6406,97.375 482.4375,97.8125 Q483.2344,98.2344 483.6094,98.9375 Q484,99.6406 484,100.4844 Q484,101.3281 483.625,102.0156 Q483.2656,102.7031 482.4688,103.125 Q481.6875,103.5313 480.5,103.5313 L478.7656,103.5313 L478.7656,107.9688 L476.8125,107.9688 Z M478.7656,101.9375 L480.375,101.9375 Q481.1875,101.9375 481.6094,101.5313 Q482.0313,101.125 482.0313,100.4844 Q482.0313,99.8594 481.6094,99.4531 Q481.1875,99.0469 480.3906,99.0469 L478.7656,99.0469 L478.7656,101.9375 Z \"/><text fill=\"#000000\" font-family=\"sans-serif\" font-size=\"12\" font-style=\"italic\" lengthAdjust=\"spacingAndGlyphs\" textLength=\"40\" x=\"492\" y=\"100.1387\">«part»</text><text fill=\"#000000\" font-family=\"sans-serif\" font-size=\"12\" lengthAdjust=\"spacingAndGlyphs\" textLength=\"22\" x=\"501\" y=\"114.1074\">x: A</text><line style=\"stroke: #A80036; stroke-width: 1.5;\" x1=\"466\" x2=\"532\" y1=\"121.9375\" y2=\"121.9375\"/></a><!--MD5=[b9389687b975829384b498ac4b7476b2]\n",
       "class E8--><a href=\"psysml:32c0d6a2-b48f-4756-bec9-ba81426d308d\" target=\"_top\" title=\"psysml:32c0d6a2-b48f-4756-bec9-ba81426d308d\" xlink:actuate=\"onRequest\" xlink:href=\"psysml:32c0d6a2-b48f-4756-bec9-ba81426d308d\" xlink:show=\"new\" xlink:title=\"psysml:32c0d6a2-b48f-4756-bec9-ba81426d308d\" xlink:type=\"simple\"><rect fill=\"#FEFECE\" filter=\"url(#f1n2i2oimtdkxs)\" height=\"45.9375\" id=\"E8\" rx=\"10\" ry=\"10\" style=\"stroke: #A80036; stroke-width: 1.5;\" width=\"68\" x=\"362\" y=\"84\"/><ellipse cx=\"377\" cy=\"102.9688\" fill=\"#32CD32\" rx=\"11\" ry=\"11\" style=\"stroke: #A80036; stroke-width: 1.0;\"/><path d=\"M373.8125,107.9688 L373.8125,97.375 L377.4219,97.375 Q378.6406,97.375 379.4375,97.8125 Q380.2344,98.2344 380.6094,98.9375 Q381,99.6406 381,100.4844 Q381,101.3281 380.625,102.0156 Q380.2656,102.7031 379.4688,103.125 Q378.6875,103.5313 377.5,103.5313 L375.7656,103.5313 L375.7656,107.9688 L373.8125,107.9688 Z M375.7656,101.9375 L377.375,101.9375 Q378.1875,101.9375 378.6094,101.5313 Q379.0313,101.125 379.0313,100.4844 Q379.0313,99.8594 378.6094,99.4531 Q378.1875,99.0469 377.3906,99.0469 L375.7656,99.0469 L375.7656,101.9375 Z \"/><text fill=\"#000000\" font-family=\"sans-serif\" font-size=\"12\" font-style=\"italic\" lengthAdjust=\"spacingAndGlyphs\" textLength=\"40\" x=\"389\" y=\"100.1387\">«part»</text><text fill=\"#000000\" font-family=\"sans-serif\" font-size=\"12\" lengthAdjust=\"spacingAndGlyphs\" textLength=\"22\" x=\"398\" y=\"114.1074\">y: B</text><line style=\"stroke: #A80036; stroke-width: 1.5;\" x1=\"363\" x2=\"429\" y1=\"121.9375\" y2=\"121.9375\"/></a><!--MD5=[96f4274e9e20536e775497830990834d]\n",
       "class E10--><a href=\"psysml:4b1ceaae-3a33-4edd-a713-ae072a8ba794\" target=\"_top\" title=\"psysml:4b1ceaae-3a33-4edd-a713-ae072a8ba794\" xlink:actuate=\"onRequest\" xlink:href=\"psysml:4b1ceaae-3a33-4edd-a713-ae072a8ba794\" xlink:show=\"new\" xlink:title=\"psysml:4b1ceaae-3a33-4edd-a713-ae072a8ba794\" xlink:type=\"simple\"><rect fill=\"#FEFECE\" filter=\"url(#f1n2i2oimtdkxs)\" height=\"45.9375\" id=\"E10\" rx=\"10\" ry=\"10\" style=\"stroke: #A80036; stroke-width: 1.5;\" width=\"68\" x=\"238\" y=\"84\"/><ellipse cx=\"253\" cy=\"102.9688\" fill=\"#32CD32\" rx=\"11\" ry=\"11\" style=\"stroke: #A80036; stroke-width: 1.0;\"/><path d=\"M249.8125,107.9688 L249.8125,97.375 L253.4219,97.375 Q254.6406,97.375 255.4375,97.8125 Q256.2344,98.2344 256.6094,98.9375 Q257,99.6406 257,100.4844 Q257,101.3281 256.625,102.0156 Q256.2656,102.7031 255.4688,103.125 Q254.6875,103.5313 253.5,103.5313 L251.7656,103.5313 L251.7656,107.9688 L249.8125,107.9688 Z M251.7656,101.9375 L253.375,101.9375 Q254.1875,101.9375 254.6094,101.5313 Q255.0313,101.125 255.0313,100.4844 Q255.0313,99.8594 254.6094,99.4531 Q254.1875,99.0469 253.3906,99.0469 L251.7656,99.0469 L251.7656,101.9375 Z \"/><text fill=\"#000000\" font-family=\"sans-serif\" font-size=\"12\" font-style=\"italic\" lengthAdjust=\"spacingAndGlyphs\" textLength=\"40\" x=\"265\" y=\"100.1387\">«part»</text><text fill=\"#000000\" font-family=\"sans-serif\" font-size=\"12\" lengthAdjust=\"spacingAndGlyphs\" textLength=\"22\" x=\"274\" y=\"114.1074\">x: A</text><line style=\"stroke: #A80036; stroke-width: 1.5;\" x1=\"239\" x2=\"305\" y1=\"121.9375\" y2=\"121.9375\"/></a><!--MD5=[1dd1bfd58a279cf63c5f349dbc8fc6a1]\n",
       "class E11--><a href=\"psysml:8a3e0fcf-a1f5-42bd-9af7-3ab68d312f86\" target=\"_top\" title=\"psysml:8a3e0fcf-a1f5-42bd-9af7-3ab68d312f86\" xlink:actuate=\"onRequest\" xlink:href=\"psysml:8a3e0fcf-a1f5-42bd-9af7-3ab68d312f86\" xlink:show=\"new\" xlink:title=\"psysml:8a3e0fcf-a1f5-42bd-9af7-3ab68d312f86\" xlink:type=\"simple\"><rect fill=\"#FEFECE\" filter=\"url(#f1n2i2oimtdkxs)\" height=\"45.9375\" id=\"E11\" rx=\"10\" ry=\"10\" style=\"stroke: #A80036; stroke-width: 1.5;\" width=\"68\" x=\"135\" y=\"84\"/><ellipse cx=\"150\" cy=\"102.9688\" fill=\"#32CD32\" rx=\"11\" ry=\"11\" style=\"stroke: #A80036; stroke-width: 1.0;\"/><path d=\"M146.8125,107.9688 L146.8125,97.375 L150.4219,97.375 Q151.6406,97.375 152.4375,97.8125 Q153.2344,98.2344 153.6094,98.9375 Q154,99.6406 154,100.4844 Q154,101.3281 153.625,102.0156 Q153.2656,102.7031 152.4688,103.125 Q151.6875,103.5313 150.5,103.5313 L148.7656,103.5313 L148.7656,107.9688 L146.8125,107.9688 Z M148.7656,101.9375 L150.375,101.9375 Q151.1875,101.9375 151.6094,101.5313 Q152.0313,101.125 152.0313,100.4844 Q152.0313,99.8594 151.6094,99.4531 Q151.1875,99.0469 150.3906,99.0469 L148.7656,99.0469 L148.7656,101.9375 Z \"/><text fill=\"#000000\" font-family=\"sans-serif\" font-size=\"12\" font-style=\"italic\" lengthAdjust=\"spacingAndGlyphs\" textLength=\"40\" x=\"162\" y=\"100.1387\">«part»</text><text fill=\"#000000\" font-family=\"sans-serif\" font-size=\"12\" lengthAdjust=\"spacingAndGlyphs\" textLength=\"22\" x=\"171\" y=\"114.1074\">y: B</text><line style=\"stroke: #A80036; stroke-width: 1.5;\" x1=\"136\" x2=\"202\" y1=\"121.9375\" y2=\"121.9375\"/></a><!--MD5=[14ccda38c055a5c0da953d572bc50960]\n",
       "link E7 to E3--><a href=\"psysml:520b462f-0086-4fa2-a8c7-c457cfb393b0\" target=\"_top\" title=\"psysml:520b462f-0086-4fa2-a8c7-c457cfb393b0\" xlink:actuate=\"onRequest\" xlink:href=\"psysml:520b462f-0086-4fa2-a8c7-c457cfb393b0\" xlink:show=\"new\" xlink:title=\"psysml:520b462f-0086-4fa2-a8c7-c457cfb393b0\" xlink:type=\"simple\"><path d=\"M499,130.09 C499,145.42 499,166.27 499,184.42 \" fill=\"none\" id=\"E7-&gt;E3\" style=\"stroke: #A80036; stroke-width: 1.0;\"/><polygon fill=\"#FFFFFF\" points=\"499,204.69,492,185.69,506,185.69,499,204.69\" style=\"stroke: #A80036; stroke-width: 1.0;\"/><ellipse cx=\"494\" cy=\"179.99\" fill=\"#A80036\" rx=\"2\" ry=\"2\" style=\"stroke: #A80036; stroke-width: 1.0;\"/><ellipse cx=\"504\" cy=\"179.99\" fill=\"#A80036\" rx=\"2\" ry=\"2\" style=\"stroke: #A80036; stroke-width: 1.0;\"/></a><!--MD5=[1ccb2481ffa92f8d51a74ee30c51832a]\n",
       "link E8 to E5--><a href=\"psysml:7aecf3a3-7124-43a8-804d-679627dba63d\" target=\"_top\" title=\"psysml:7aecf3a3-7124-43a8-804d-679627dba63d\" xlink:actuate=\"onRequest\" xlink:href=\"psysml:7aecf3a3-7124-43a8-804d-679627dba63d\" xlink:show=\"new\" xlink:title=\"psysml:7aecf3a3-7124-43a8-804d-679627dba63d\" xlink:type=\"simple\"><path d=\"M362.27,130.22 C349.82,138.09 335.46,146.77 322,154 C284.18,174.3 239.36,194.36 208.05,207.77 \" fill=\"none\" id=\"E8-&gt;E5\" style=\"stroke: #A80036; stroke-width: 1.0;\"/><polygon fill=\"#FFFFFF\" points=\"189.2,215.73,203.9741,201.8834,209.4261,214.7782,189.2,215.73\" style=\"stroke: #A80036; stroke-width: 1.0;\"/><ellipse cx=\"210.0029\" cy=\"201.5058\" fill=\"#A80036\" rx=\"2\" ry=\"2\" style=\"stroke: #A80036; stroke-width: 1.0;\"/><ellipse cx=\"213.8972\" cy=\"210.7164\" fill=\"#A80036\" rx=\"2\" ry=\"2\" style=\"stroke: #A80036; stroke-width: 1.0;\"/></a><!--MD5=[feeac5eb423634930294aa81f2d25a4c]\n",
       "link E10 to E3--><a href=\"psysml:fd0acd65-b864-4a8e-8ff2-cbce99549eac\" target=\"_top\" title=\"psysml:fd0acd65-b864-4a8e-8ff2-cbce99549eac\" xlink:actuate=\"onRequest\" xlink:href=\"psysml:fd0acd65-b864-4a8e-8ff2-cbce99549eac\" xlink:show=\"new\" xlink:title=\"psysml:fd0acd65-b864-4a8e-8ff2-cbce99549eac\" xlink:type=\"simple\"><path d=\"M305.73,130.22 C318.18,138.09 332.54,146.77 346,154 C383.82,174.3 428.64,194.36 459.95,207.77 \" fill=\"none\" id=\"E10-&gt;E3\" style=\"stroke: #A80036; stroke-width: 1.0;\"/><polygon fill=\"#FFFFFF\" points=\"478.8,215.73,458.5739,214.7782,464.0259,201.8834,478.8,215.73\" style=\"stroke: #A80036; stroke-width: 1.0;\"/><ellipse cx=\"454.1028\" cy=\"210.7164\" fill=\"#A80036\" rx=\"2\" ry=\"2\" style=\"stroke: #A80036; stroke-width: 1.0;\"/><ellipse cx=\"457.9971\" cy=\"201.5058\" fill=\"#A80036\" rx=\"2\" ry=\"2\" style=\"stroke: #A80036; stroke-width: 1.0;\"/></a><!--MD5=[07b77f6f309248d16187045709d1c26e]\n",
       "link E11 to E5--><a href=\"psysml:442cb8f2-ee4b-4dfa-8164-f495024e2707\" target=\"_top\" title=\"psysml:442cb8f2-ee4b-4dfa-8164-f495024e2707\" xlink:actuate=\"onRequest\" xlink:href=\"psysml:442cb8f2-ee4b-4dfa-8164-f495024e2707\" xlink:show=\"new\" xlink:title=\"psysml:442cb8f2-ee4b-4dfa-8164-f495024e2707\" xlink:type=\"simple\"><path d=\"M169,130.09 C169,145.42 169,166.27 169,184.42 \" fill=\"none\" id=\"E11-&gt;E5\" style=\"stroke: #A80036; stroke-width: 1.0;\"/><polygon fill=\"#FFFFFF\" points=\"169,204.69,162,185.69,176,185.69,169,204.69\" style=\"stroke: #A80036; stroke-width: 1.0;\"/><ellipse cx=\"164\" cy=\"179.99\" fill=\"#A80036\" rx=\"2\" ry=\"2\" style=\"stroke: #A80036; stroke-width: 1.0;\"/><ellipse cx=\"174\" cy=\"179.99\" fill=\"#A80036\" rx=\"2\" ry=\"2\" style=\"stroke: #A80036; stroke-width: 1.0;\"/></a><!--MD5=[39f41a0e550fb3d73b4d8135617e30a2]\n",
       "link E12 to E3--><a href=\"psysml:fab56a21-03ff-446d-9dd1-385c5373a3f2\" target=\"_top\" title=\"psysml:fab56a21-03ff-446d-9dd1-385c5373a3f2\" xlink:actuate=\"onRequest\" xlink:href=\"psysml:fab56a21-03ff-446d-9dd1-385c5373a3f2\" xlink:show=\"new\" xlink:title=\"psysml:fab56a21-03ff-446d-9dd1-385c5373a3f2\" xlink:type=\"simple\"><path d=\"M582.38,130.09 C567.43,146.94 546.56,170.44 529.44,189.72 \" fill=\"none\" id=\"E12-&gt;E3\" style=\"stroke: #A80036; stroke-width: 1.0;\"/><polygon fill=\"#FFFFFF\" points=\"516.15,204.69,523.5343,185.836,534.0014,195.1334,516.15,204.69\" style=\"stroke: #A80036; stroke-width: 1.0;\"/><ellipse cx=\"528.815\" cy=\"182.9027\" fill=\"#A80036\" rx=\"2\" ry=\"2\" style=\"stroke: #A80036; stroke-width: 1.0;\"/><ellipse cx=\"536.2914\" cy=\"189.5436\" fill=\"#A80036\" rx=\"2\" ry=\"2\" style=\"stroke: #A80036; stroke-width: 1.0;\"/></a><!--MD5=[066b2d8af59fea80ccdb3d54ad5c1091]\n",
       "link E13 to E5--><a href=\"psysml:5cad6703-6f19-4c46-9c46-92acb368aec7\" target=\"_top\" title=\"psysml:5cad6703-6f19-4c46-9c46-92acb368aec7\" xlink:actuate=\"onRequest\" xlink:href=\"psysml:5cad6703-6f19-4c46-9c46-92acb368aec7\" xlink:show=\"new\" xlink:title=\"psysml:5cad6703-6f19-4c46-9c46-92acb368aec7\" xlink:type=\"simple\"><path d=\"M85.62,130.09 C100.57,146.94 121.44,170.44 138.56,189.72 \" fill=\"none\" id=\"E13-&gt;E5\" style=\"stroke: #A80036; stroke-width: 1.0;\"/><polygon fill=\"#FFFFFF\" points=\"151.85,204.69,133.9986,195.1334,144.4657,185.836,151.85,204.69\" style=\"stroke: #A80036; stroke-width: 1.0;\"/><ellipse cx=\"131.7086\" cy=\"189.5436\" fill=\"#A80036\" rx=\"2\" ry=\"2\" style=\"stroke: #A80036; stroke-width: 1.0;\"/><ellipse cx=\"139.185\" cy=\"182.9027\" fill=\"#A80036\" rx=\"2\" ry=\"2\" style=\"stroke: #A80036; stroke-width: 1.0;\"/></a><!--MD5=[3914e09c068e9918b8fafd7b77ac8e04]\n",
       "@startuml\r\n",
       " \r\n",
       "package \"CircularImport\" as E1  [[psysml:7332441d-5859-4b68-88e6-44e4d7acfbc9 ]]  {\r\n",
       "package \"P1\" as E2  [[psysml:5f20ae7d-4d57-41a2-9907-55aa74d31ca3 ]]  {\r\n",
       "comp def \"A\" as E3 << << (B,green) >> [[psysml:a77b04ef-8587-44c9-8b7f-efa23f8b51b3 ]] {\r\n",
       "}\r\n",
       "}\r\n",
       "package \"P2\" as E4  [[psysml:ebcd3975-b264-4248-9466-34d42d3f68ce ]]  {\r\n",
       "comp def \"B\" as E5 << << (B,green) >> [[psysml:0236a647-9823-419e-b974-acac8cdc5ece ]] {\r\n",
       "}\r\n",
       "}\r\n",
       "package \"Test1\" as E6  [[psysml:da6ad505-2daa-495a-83b8-d3ba9d2de3a4 ]]  {\r\n",
       "comp usage \"x: A\" as E7 << << (P,limegreen) part>> [[psysml:d9c30419-fa03-4224-9f9b-cc52ece95c03 ]] {\r\n",
       "}\r\n",
       "comp usage \"y: B\" as E8 << << (P,limegreen) part>> [[psysml:32c0d6a2-b48f-4756-bec9-ba81426d308d ]] {\r\n",
       "}\r\n",
       "}\r\n",
       "package \"Test2\" as E9  [[psysml:b0babda1-ae00-488b-8e87-1a86d4c9a0c6 ]]  {\r\n",
       "comp usage \"x: A\" as E10 << << (P,limegreen) part>> [[psysml:4b1ceaae-3a33-4edd-a713-ae072a8ba794 ]] {\r\n",
       "}\r\n",
       "comp usage \"y: B\" as E11 << << (P,limegreen) part>> [[psysml:8a3e0fcf-a1f5-42bd-9af7-3ab68d312f86 ]] {\r\n",
       "}\r\n",
       "}\r\n",
       "comp usage \"x: A\" as E12 << << (P,limegreen) part>> [[psysml:be17b73a-3dde-44ce-ab8b-a0409ce39ee3 ]] {\r\n",
       "}\r\n",
       "comp usage \"y: B\" as E13 << << (P,limegreen) part>> [[psysml:70775e2d-ada4-46b3-b3bb-1618b7e606cf ]] {\r\n",
       "}\r\n",
       "}\r\n",
       "E7 - -:|> E3 [[psysml:520b462f-0086-4fa2-a8c7-c457cfb393b0 ]] \r\n",
       "E8 - -:|> E5 [[psysml:7aecf3a3-7124-43a8-804d-679627dba63d ]] \r\n",
       "E10 - -:|> E3 [[psysml:fd0acd65-b864-4a8e-8ff2-cbce99549eac ]] \r\n",
       "E11 - -:|> E5 [[psysml:442cb8f2-ee4b-4dfa-8164-f495024e2707 ]] \r\n",
       "E12 - -:|> E3 [[psysml:fab56a21-03ff-446d-9dd1-385c5373a3f2 ]] \r\n",
       "E13 - -:|> E5 [[psysml:5cad6703-6f19-4c46-9c46-92acb368aec7 ]] \r\n",
       "@enduml\r\n",
       "\n",
       "PlantUML version 1.2020.13(Sat Jun 13 12:26:38 UTC 2020)\n",
       "(EPL source distribution)\n",
       "Java Runtime: OpenJDK Runtime Environment\n",
       "JVM: OpenJDK 64-Bit Server VM\n",
       "Default Encoding: UTF-8\n",
       "Language: en\n",
       "Country: null\n",
       "--></g></svg>"
      ]
     },
     "execution_count": 30,
     "metadata": {},
     "output_type": "execute_result"
    }
   ],
   "source": [
    "%viz --style=\"PLANTUML\" --view=\"Default\" \"CircularImport\""
   ]
  },
  {
   "cell_type": "code",
   "execution_count": 31,
   "id": "3c5f8fb5",
   "metadata": {
    "execution": {
     "iopub.execute_input": "2021-09-27T07:16:36.427761Z",
     "iopub.status.busy": "2021-09-27T07:16:36.427362Z",
     "iopub.status.idle": "2021-09-27T07:16:36.467575Z",
     "shell.execute_reply": "2021-09-27T07:16:36.467223Z"
    }
   },
   "outputs": [
    {
     "data": {
      "image/svg+xml": [
       "<?xml version=\"1.0\" encoding=\"UTF-8\" standalone=\"no\"?><svg xmlns=\"http://www.w3.org/2000/svg\" xmlns:xlink=\"http://www.w3.org/1999/xlink\" contentScriptType=\"application/ecmascript\" contentStyleType=\"text/css\" height=\"297px\" preserveAspectRatio=\"none\" style=\"width:674px;height:297px;\" version=\"1.1\" viewBox=\"0 0 674 297\" width=\"674px\" zoomAndPan=\"magnify\"><defs><filter height=\"300%\" id=\"f1n2i2oimtdkxs\" width=\"300%\" x=\"-1\" y=\"-1\"><feGaussianBlur result=\"blurOut\" stdDeviation=\"2.0\"/><feColorMatrix in=\"blurOut\" result=\"blurOut2\" type=\"matrix\" values=\"0 0 0 0 0 0 0 0 0 0 0 0 0 0 0 0 0 0 .4 0\"/><feOffset dx=\"4.0\" dy=\"4.0\" in=\"blurOut2\" result=\"blurOut3\"/><feBlend in=\"SourceGraphic\" in2=\"blurOut3\" mode=\"normal\"/></filter></defs><g><!--MD5=[fbc87193dbaf4d95561dea2c320d4a47]\n",
       "cluster E1--><a href=\"psysml:7332441d-5859-4b68-88e6-44e4d7acfbc9\" target=\"_top\" title=\"psysml:7332441d-5859-4b68-88e6-44e4d7acfbc9\" xlink:actuate=\"onRequest\" xlink:href=\"psysml:7332441d-5859-4b68-88e6-44e4d7acfbc9\" xlink:show=\"new\" xlink:title=\"psysml:7332441d-5859-4b68-88e6-44e4d7acfbc9\" xlink:type=\"simple\"><polygon fill=\"#FFFFFF\" filter=\"url(#f1n2i2oimtdkxs)\" points=\"16,6,117,6,124,28.2969,652,28.2969,652,285,16,285,16,6\" style=\"stroke: #000000; stroke-width: 1.5;\"/><line style=\"stroke: #000000; stroke-width: 1.5;\" x1=\"16\" x2=\"124\" y1=\"28.2969\" y2=\"28.2969\"/><text fill=\"#000000\" font-family=\"sans-serif\" font-size=\"14\" font-weight=\"bold\" lengthAdjust=\"spacingAndGlyphs\" textLength=\"95\" x=\"20\" y=\"20.9951\">CircularImport</text></a><!--MD5=[e4f7fae6ed58524ba242bb0b0d3be6b7]\n",
       "cluster E2--><a href=\"psysml:5f20ae7d-4d57-41a2-9907-55aa74d31ca3\" target=\"_top\" title=\"psysml:5f20ae7d-4d57-41a2-9907-55aa74d31ca3\" xlink:actuate=\"onRequest\" xlink:href=\"psysml:5f20ae7d-4d57-41a2-9907-55aa74d31ca3\" xlink:show=\"new\" xlink:title=\"psysml:5f20ae7d-4d57-41a2-9907-55aa74d31ca3\" xlink:type=\"simple\"><polygon fill=\"#FFFFFF\" filter=\"url(#f1n2i2oimtdkxs)\" points=\"463,170,487,170,494,192.2969,535,192.2969,535,261,463,261,463,170\" style=\"stroke: #000000; stroke-width: 1.5;\"/><line style=\"stroke: #000000; stroke-width: 1.5;\" x1=\"463\" x2=\"494\" y1=\"192.2969\" y2=\"192.2969\"/><text fill=\"#000000\" font-family=\"sans-serif\" font-size=\"14\" font-weight=\"bold\" lengthAdjust=\"spacingAndGlyphs\" textLength=\"18\" x=\"467\" y=\"184.9951\">P1</text></a><!--MD5=[f6df4d0ebaf0b5dfb2ced0ae5af7c670]\n",
       "cluster E4--><a href=\"psysml:ebcd3975-b264-4248-9466-34d42d3f68ce\" target=\"_top\" title=\"psysml:ebcd3975-b264-4248-9466-34d42d3f68ce\" xlink:actuate=\"onRequest\" xlink:href=\"psysml:ebcd3975-b264-4248-9466-34d42d3f68ce\" xlink:show=\"new\" xlink:title=\"psysml:ebcd3975-b264-4248-9466-34d42d3f68ce\" xlink:type=\"simple\"><polygon fill=\"#FFFFFF\" filter=\"url(#f1n2i2oimtdkxs)\" points=\"133,170,157,170,164,192.2969,205,192.2969,205,261,133,261,133,170\" style=\"stroke: #000000; stroke-width: 1.5;\"/><line style=\"stroke: #000000; stroke-width: 1.5;\" x1=\"133\" x2=\"164\" y1=\"192.2969\" y2=\"192.2969\"/><text fill=\"#000000\" font-family=\"sans-serif\" font-size=\"14\" font-weight=\"bold\" lengthAdjust=\"spacingAndGlyphs\" textLength=\"18\" x=\"137\" y=\"184.9951\">P2</text></a><!--MD5=[14e3b0961a2654348d326746436168a1]\n",
       "cluster E6--><a href=\"psysml:da6ad505-2daa-495a-83b8-d3ba9d2de3a4\" target=\"_top\" title=\"psysml:da6ad505-2daa-495a-83b8-d3ba9d2de3a4\" xlink:actuate=\"onRequest\" xlink:href=\"psysml:da6ad505-2daa-495a-83b8-d3ba9d2de3a4\" xlink:show=\"new\" xlink:title=\"psysml:da6ad505-2daa-495a-83b8-d3ba9d2de3a4\" xlink:type=\"simple\"><polygon fill=\"#FFFFFF\" filter=\"url(#f1n2i2oimtdkxs)\" points=\"346,49,392,49,399,71.2969,549,71.2969,549,146,346,146,346,49\" style=\"stroke: #000000; stroke-width: 1.5;\"/><line style=\"stroke: #000000; stroke-width: 1.5;\" x1=\"346\" x2=\"399\" y1=\"71.2969\" y2=\"71.2969\"/><text fill=\"#000000\" font-family=\"sans-serif\" font-size=\"14\" font-weight=\"bold\" lengthAdjust=\"spacingAndGlyphs\" textLength=\"40\" x=\"350\" y=\"63.9951\">Test1</text></a><!--MD5=[7f149f147074ac12df2cb0a7728a5fb0]\n",
       "cluster E9--><a href=\"psysml:b0babda1-ae00-488b-8e87-1a86d4c9a0c6\" target=\"_top\" title=\"psysml:b0babda1-ae00-488b-8e87-1a86d4c9a0c6\" xlink:actuate=\"onRequest\" xlink:href=\"psysml:b0babda1-ae00-488b-8e87-1a86d4c9a0c6\" xlink:show=\"new\" xlink:title=\"psysml:b0babda1-ae00-488b-8e87-1a86d4c9a0c6\" xlink:type=\"simple\"><polygon fill=\"#FFFFFF\" filter=\"url(#f1n2i2oimtdkxs)\" points=\"119,49,165,49,172,71.2969,322,71.2969,322,146,119,146,119,49\" style=\"stroke: #000000; stroke-width: 1.5;\"/><line style=\"stroke: #000000; stroke-width: 1.5;\" x1=\"119\" x2=\"172\" y1=\"71.2969\" y2=\"71.2969\"/><text fill=\"#000000\" font-family=\"sans-serif\" font-size=\"14\" font-weight=\"bold\" lengthAdjust=\"spacingAndGlyphs\" textLength=\"40\" x=\"123\" y=\"63.9951\">Test2</text></a><!--MD5=[49a0ec8f00dab7302a31f22d0f0fe584]\n",
       "class E12--><a href=\"psysml:be17b73a-3dde-44ce-ab8b-a0409ce39ee3\" target=\"_top\" title=\"psysml:be17b73a-3dde-44ce-ab8b-a0409ce39ee3\" xlink:actuate=\"onRequest\" xlink:href=\"psysml:be17b73a-3dde-44ce-ab8b-a0409ce39ee3\" xlink:show=\"new\" xlink:title=\"psysml:be17b73a-3dde-44ce-ab8b-a0409ce39ee3\" xlink:type=\"simple\"><rect fill=\"#FEFECE\" filter=\"url(#f1n2i2oimtdkxs)\" height=\"45.9375\" id=\"E12\" rx=\"10\" ry=\"10\" style=\"stroke: #A80036; stroke-width: 1.5;\" width=\"68\" x=\"568\" y=\"84\"/><ellipse cx=\"583\" cy=\"102.9688\" fill=\"#32CD32\" rx=\"11\" ry=\"11\" style=\"stroke: #A80036; stroke-width: 1.0;\"/><path d=\"M579.8125,107.9688 L579.8125,97.375 L583.4219,97.375 Q584.6406,97.375 585.4375,97.8125 Q586.2344,98.2344 586.6094,98.9375 Q587,99.6406 587,100.4844 Q587,101.3281 586.625,102.0156 Q586.2656,102.7031 585.4688,103.125 Q584.6875,103.5313 583.5,103.5313 L581.7656,103.5313 L581.7656,107.9688 L579.8125,107.9688 Z M581.7656,101.9375 L583.375,101.9375 Q584.1875,101.9375 584.6094,101.5313 Q585.0313,101.125 585.0313,100.4844 Q585.0313,99.8594 584.6094,99.4531 Q584.1875,99.0469 583.3906,99.0469 L581.7656,99.0469 L581.7656,101.9375 Z \"/><text fill=\"#000000\" font-family=\"sans-serif\" font-size=\"12\" font-style=\"italic\" lengthAdjust=\"spacingAndGlyphs\" textLength=\"40\" x=\"595\" y=\"100.1387\">«part»</text><text fill=\"#000000\" font-family=\"sans-serif\" font-size=\"12\" lengthAdjust=\"spacingAndGlyphs\" textLength=\"22\" x=\"604\" y=\"114.1074\">x: A</text><line style=\"stroke: #A80036; stroke-width: 1.5;\" x1=\"569\" x2=\"635\" y1=\"121.9375\" y2=\"121.9375\"/></a><!--MD5=[ee3c913d1a06f366521f9ef512b67efe]\n",
       "class E13--><a href=\"psysml:70775e2d-ada4-46b3-b3bb-1618b7e606cf\" target=\"_top\" title=\"psysml:70775e2d-ada4-46b3-b3bb-1618b7e606cf\" xlink:actuate=\"onRequest\" xlink:href=\"psysml:70775e2d-ada4-46b3-b3bb-1618b7e606cf\" xlink:show=\"new\" xlink:title=\"psysml:70775e2d-ada4-46b3-b3bb-1618b7e606cf\" xlink:type=\"simple\"><rect fill=\"#FEFECE\" filter=\"url(#f1n2i2oimtdkxs)\" height=\"45.9375\" id=\"E13\" rx=\"10\" ry=\"10\" style=\"stroke: #A80036; stroke-width: 1.5;\" width=\"68\" x=\"32\" y=\"84\"/><ellipse cx=\"47\" cy=\"102.9688\" fill=\"#32CD32\" rx=\"11\" ry=\"11\" style=\"stroke: #A80036; stroke-width: 1.0;\"/><path d=\"M43.8125,107.9688 L43.8125,97.375 L47.4219,97.375 Q48.6406,97.375 49.4375,97.8125 Q50.2344,98.2344 50.6094,98.9375 Q51,99.6406 51,100.4844 Q51,101.3281 50.625,102.0156 Q50.2656,102.7031 49.4688,103.125 Q48.6875,103.5313 47.5,103.5313 L45.7656,103.5313 L45.7656,107.9688 L43.8125,107.9688 Z M45.7656,101.9375 L47.375,101.9375 Q48.1875,101.9375 48.6094,101.5313 Q49.0313,101.125 49.0313,100.4844 Q49.0313,99.8594 48.6094,99.4531 Q48.1875,99.0469 47.3906,99.0469 L45.7656,99.0469 L45.7656,101.9375 Z \"/><text fill=\"#000000\" font-family=\"sans-serif\" font-size=\"12\" font-style=\"italic\" lengthAdjust=\"spacingAndGlyphs\" textLength=\"40\" x=\"59\" y=\"100.1387\">«part»</text><text fill=\"#000000\" font-family=\"sans-serif\" font-size=\"12\" lengthAdjust=\"spacingAndGlyphs\" textLength=\"22\" x=\"68\" y=\"114.1074\">y: B</text><line style=\"stroke: #A80036; stroke-width: 1.5;\" x1=\"33\" x2=\"99\" y1=\"121.9375\" y2=\"121.9375\"/></a><!--MD5=[09b614a08d8cba4a07c9adeb5e0fee81]\n",
       "class E3--><a href=\"psysml:a77b04ef-8587-44c9-8b7f-efa23f8b51b3\" target=\"_top\" title=\"psysml:a77b04ef-8587-44c9-8b7f-efa23f8b51b3\" xlink:actuate=\"onRequest\" xlink:href=\"psysml:a77b04ef-8587-44c9-8b7f-efa23f8b51b3\" xlink:show=\"new\" xlink:title=\"psysml:a77b04ef-8587-44c9-8b7f-efa23f8b51b3\" xlink:type=\"simple\"><rect fill=\"#FEFECE\" filter=\"url(#f1n2i2oimtdkxs)\" height=\"40\" id=\"E3\" style=\"stroke: #A80036; stroke-width: 1.5;\" width=\"40\" x=\"479\" y=\"205\"/><ellipse cx=\"494\" cy=\"221\" fill=\"#008000\" rx=\"11\" ry=\"11\" style=\"stroke: #A80036; stroke-width: 1.0;\"/><path d=\"M490.875,226 L490.875,215.4063 L494.1094,215.4063 Q496.0156,215.4063 496.9219,216.1563 Q497.8438,216.9063 497.8438,218.0781 Q497.8438,218.7656 497.4531,219.4219 Q497.0781,220.0781 496.3594,220.375 Q497.2188,220.75 497.7344,221.4375 Q498.25,222.125 498.25,222.9375 Q498.25,224.3125 497.2188,225.1563 Q496.2031,226 494.0938,226 L490.875,226 Z M492.7969,219.6406 L493.9531,219.6406 Q495.0781,219.6406 495.4844,219.2656 Q495.9063,218.875 495.9063,218.25 Q495.9063,217.6719 495.4844,217.3125 Q495.0625,216.9531 494.125,216.9531 L492.7969,216.9531 L492.7969,219.6406 Z M492.7969,224.4219 L494.2969,224.4219 Q495.2031,224.4219 495.7344,224.0313 Q496.2656,223.6406 496.2656,222.8906 Q496.2656,222.125 495.7656,221.6563 Q495.2656,221.1719 494,221.1719 L492.7969,221.1719 L492.7969,224.4219 Z \"/><text fill=\"#000000\" font-family=\"sans-serif\" font-size=\"12\" lengthAdjust=\"spacingAndGlyphs\" textLength=\"8\" x=\"508\" y=\"225.1543\">A</text><line style=\"stroke: #A80036; stroke-width: 1.5;\" x1=\"480\" x2=\"518\" y1=\"237\" y2=\"237\"/></a><!--MD5=[270fce915f116d4de14055a7c1d9a0f3]\n",
       "class E5--><a href=\"psysml:0236a647-9823-419e-b974-acac8cdc5ece\" target=\"_top\" title=\"psysml:0236a647-9823-419e-b974-acac8cdc5ece\" xlink:actuate=\"onRequest\" xlink:href=\"psysml:0236a647-9823-419e-b974-acac8cdc5ece\" xlink:show=\"new\" xlink:title=\"psysml:0236a647-9823-419e-b974-acac8cdc5ece\" xlink:type=\"simple\"><rect fill=\"#FEFECE\" filter=\"url(#f1n2i2oimtdkxs)\" height=\"40\" id=\"E5\" style=\"stroke: #A80036; stroke-width: 1.5;\" width=\"40\" x=\"149\" y=\"205\"/><ellipse cx=\"164\" cy=\"221\" fill=\"#008000\" rx=\"11\" ry=\"11\" style=\"stroke: #A80036; stroke-width: 1.0;\"/><path d=\"M160.875,226 L160.875,215.4063 L164.1094,215.4063 Q166.0156,215.4063 166.9219,216.1563 Q167.8438,216.9063 167.8438,218.0781 Q167.8438,218.7656 167.4531,219.4219 Q167.0781,220.0781 166.3594,220.375 Q167.2188,220.75 167.7344,221.4375 Q168.25,222.125 168.25,222.9375 Q168.25,224.3125 167.2188,225.1563 Q166.2031,226 164.0938,226 L160.875,226 Z M162.7969,219.6406 L163.9531,219.6406 Q165.0781,219.6406 165.4844,219.2656 Q165.9063,218.875 165.9063,218.25 Q165.9063,217.6719 165.4844,217.3125 Q165.0625,216.9531 164.125,216.9531 L162.7969,216.9531 L162.7969,219.6406 Z M162.7969,224.4219 L164.2969,224.4219 Q165.2031,224.4219 165.7344,224.0313 Q166.2656,223.6406 166.2656,222.8906 Q166.2656,222.125 165.7656,221.6563 Q165.2656,221.1719 164,221.1719 L162.7969,221.1719 L162.7969,224.4219 Z \"/><text fill=\"#000000\" font-family=\"sans-serif\" font-size=\"12\" lengthAdjust=\"spacingAndGlyphs\" textLength=\"8\" x=\"178\" y=\"225.1543\">B</text><line style=\"stroke: #A80036; stroke-width: 1.5;\" x1=\"150\" x2=\"188\" y1=\"237\" y2=\"237\"/></a><!--MD5=[2156ba9850f5573cc1fc38a6a4b2f02b]\n",
       "class E7--><a href=\"psysml:d9c30419-fa03-4224-9f9b-cc52ece95c03\" target=\"_top\" title=\"psysml:d9c30419-fa03-4224-9f9b-cc52ece95c03\" xlink:actuate=\"onRequest\" xlink:href=\"psysml:d9c30419-fa03-4224-9f9b-cc52ece95c03\" xlink:show=\"new\" xlink:title=\"psysml:d9c30419-fa03-4224-9f9b-cc52ece95c03\" xlink:type=\"simple\"><rect fill=\"#FEFECE\" filter=\"url(#f1n2i2oimtdkxs)\" height=\"45.9375\" id=\"E7\" rx=\"10\" ry=\"10\" style=\"stroke: #A80036; stroke-width: 1.5;\" width=\"68\" x=\"465\" y=\"84\"/><ellipse cx=\"480\" cy=\"102.9688\" fill=\"#32CD32\" rx=\"11\" ry=\"11\" style=\"stroke: #A80036; stroke-width: 1.0;\"/><path d=\"M476.8125,107.9688 L476.8125,97.375 L480.4219,97.375 Q481.6406,97.375 482.4375,97.8125 Q483.2344,98.2344 483.6094,98.9375 Q484,99.6406 484,100.4844 Q484,101.3281 483.625,102.0156 Q483.2656,102.7031 482.4688,103.125 Q481.6875,103.5313 480.5,103.5313 L478.7656,103.5313 L478.7656,107.9688 L476.8125,107.9688 Z M478.7656,101.9375 L480.375,101.9375 Q481.1875,101.9375 481.6094,101.5313 Q482.0313,101.125 482.0313,100.4844 Q482.0313,99.8594 481.6094,99.4531 Q481.1875,99.0469 480.3906,99.0469 L478.7656,99.0469 L478.7656,101.9375 Z \"/><text fill=\"#000000\" font-family=\"sans-serif\" font-size=\"12\" font-style=\"italic\" lengthAdjust=\"spacingAndGlyphs\" textLength=\"40\" x=\"492\" y=\"100.1387\">«part»</text><text fill=\"#000000\" font-family=\"sans-serif\" font-size=\"12\" lengthAdjust=\"spacingAndGlyphs\" textLength=\"22\" x=\"501\" y=\"114.1074\">x: A</text><line style=\"stroke: #A80036; stroke-width: 1.5;\" x1=\"466\" x2=\"532\" y1=\"121.9375\" y2=\"121.9375\"/></a><!--MD5=[b9389687b975829384b498ac4b7476b2]\n",
       "class E8--><a href=\"psysml:32c0d6a2-b48f-4756-bec9-ba81426d308d\" target=\"_top\" title=\"psysml:32c0d6a2-b48f-4756-bec9-ba81426d308d\" xlink:actuate=\"onRequest\" xlink:href=\"psysml:32c0d6a2-b48f-4756-bec9-ba81426d308d\" xlink:show=\"new\" xlink:title=\"psysml:32c0d6a2-b48f-4756-bec9-ba81426d308d\" xlink:type=\"simple\"><rect fill=\"#FEFECE\" filter=\"url(#f1n2i2oimtdkxs)\" height=\"45.9375\" id=\"E8\" rx=\"10\" ry=\"10\" style=\"stroke: #A80036; stroke-width: 1.5;\" width=\"68\" x=\"362\" y=\"84\"/><ellipse cx=\"377\" cy=\"102.9688\" fill=\"#32CD32\" rx=\"11\" ry=\"11\" style=\"stroke: #A80036; stroke-width: 1.0;\"/><path d=\"M373.8125,107.9688 L373.8125,97.375 L377.4219,97.375 Q378.6406,97.375 379.4375,97.8125 Q380.2344,98.2344 380.6094,98.9375 Q381,99.6406 381,100.4844 Q381,101.3281 380.625,102.0156 Q380.2656,102.7031 379.4688,103.125 Q378.6875,103.5313 377.5,103.5313 L375.7656,103.5313 L375.7656,107.9688 L373.8125,107.9688 Z M375.7656,101.9375 L377.375,101.9375 Q378.1875,101.9375 378.6094,101.5313 Q379.0313,101.125 379.0313,100.4844 Q379.0313,99.8594 378.6094,99.4531 Q378.1875,99.0469 377.3906,99.0469 L375.7656,99.0469 L375.7656,101.9375 Z \"/><text fill=\"#000000\" font-family=\"sans-serif\" font-size=\"12\" font-style=\"italic\" lengthAdjust=\"spacingAndGlyphs\" textLength=\"40\" x=\"389\" y=\"100.1387\">«part»</text><text fill=\"#000000\" font-family=\"sans-serif\" font-size=\"12\" lengthAdjust=\"spacingAndGlyphs\" textLength=\"22\" x=\"398\" y=\"114.1074\">y: B</text><line style=\"stroke: #A80036; stroke-width: 1.5;\" x1=\"363\" x2=\"429\" y1=\"121.9375\" y2=\"121.9375\"/></a><!--MD5=[96f4274e9e20536e775497830990834d]\n",
       "class E10--><a href=\"psysml:4b1ceaae-3a33-4edd-a713-ae072a8ba794\" target=\"_top\" title=\"psysml:4b1ceaae-3a33-4edd-a713-ae072a8ba794\" xlink:actuate=\"onRequest\" xlink:href=\"psysml:4b1ceaae-3a33-4edd-a713-ae072a8ba794\" xlink:show=\"new\" xlink:title=\"psysml:4b1ceaae-3a33-4edd-a713-ae072a8ba794\" xlink:type=\"simple\"><rect fill=\"#FEFECE\" filter=\"url(#f1n2i2oimtdkxs)\" height=\"45.9375\" id=\"E10\" rx=\"10\" ry=\"10\" style=\"stroke: #A80036; stroke-width: 1.5;\" width=\"68\" x=\"238\" y=\"84\"/><ellipse cx=\"253\" cy=\"102.9688\" fill=\"#32CD32\" rx=\"11\" ry=\"11\" style=\"stroke: #A80036; stroke-width: 1.0;\"/><path d=\"M249.8125,107.9688 L249.8125,97.375 L253.4219,97.375 Q254.6406,97.375 255.4375,97.8125 Q256.2344,98.2344 256.6094,98.9375 Q257,99.6406 257,100.4844 Q257,101.3281 256.625,102.0156 Q256.2656,102.7031 255.4688,103.125 Q254.6875,103.5313 253.5,103.5313 L251.7656,103.5313 L251.7656,107.9688 L249.8125,107.9688 Z M251.7656,101.9375 L253.375,101.9375 Q254.1875,101.9375 254.6094,101.5313 Q255.0313,101.125 255.0313,100.4844 Q255.0313,99.8594 254.6094,99.4531 Q254.1875,99.0469 253.3906,99.0469 L251.7656,99.0469 L251.7656,101.9375 Z \"/><text fill=\"#000000\" font-family=\"sans-serif\" font-size=\"12\" font-style=\"italic\" lengthAdjust=\"spacingAndGlyphs\" textLength=\"40\" x=\"265\" y=\"100.1387\">«part»</text><text fill=\"#000000\" font-family=\"sans-serif\" font-size=\"12\" lengthAdjust=\"spacingAndGlyphs\" textLength=\"22\" x=\"274\" y=\"114.1074\">x: A</text><line style=\"stroke: #A80036; stroke-width: 1.5;\" x1=\"239\" x2=\"305\" y1=\"121.9375\" y2=\"121.9375\"/></a><!--MD5=[1dd1bfd58a279cf63c5f349dbc8fc6a1]\n",
       "class E11--><a href=\"psysml:8a3e0fcf-a1f5-42bd-9af7-3ab68d312f86\" target=\"_top\" title=\"psysml:8a3e0fcf-a1f5-42bd-9af7-3ab68d312f86\" xlink:actuate=\"onRequest\" xlink:href=\"psysml:8a3e0fcf-a1f5-42bd-9af7-3ab68d312f86\" xlink:show=\"new\" xlink:title=\"psysml:8a3e0fcf-a1f5-42bd-9af7-3ab68d312f86\" xlink:type=\"simple\"><rect fill=\"#FEFECE\" filter=\"url(#f1n2i2oimtdkxs)\" height=\"45.9375\" id=\"E11\" rx=\"10\" ry=\"10\" style=\"stroke: #A80036; stroke-width: 1.5;\" width=\"68\" x=\"135\" y=\"84\"/><ellipse cx=\"150\" cy=\"102.9688\" fill=\"#32CD32\" rx=\"11\" ry=\"11\" style=\"stroke: #A80036; stroke-width: 1.0;\"/><path d=\"M146.8125,107.9688 L146.8125,97.375 L150.4219,97.375 Q151.6406,97.375 152.4375,97.8125 Q153.2344,98.2344 153.6094,98.9375 Q154,99.6406 154,100.4844 Q154,101.3281 153.625,102.0156 Q153.2656,102.7031 152.4688,103.125 Q151.6875,103.5313 150.5,103.5313 L148.7656,103.5313 L148.7656,107.9688 L146.8125,107.9688 Z M148.7656,101.9375 L150.375,101.9375 Q151.1875,101.9375 151.6094,101.5313 Q152.0313,101.125 152.0313,100.4844 Q152.0313,99.8594 151.6094,99.4531 Q151.1875,99.0469 150.3906,99.0469 L148.7656,99.0469 L148.7656,101.9375 Z \"/><text fill=\"#000000\" font-family=\"sans-serif\" font-size=\"12\" font-style=\"italic\" lengthAdjust=\"spacingAndGlyphs\" textLength=\"40\" x=\"162\" y=\"100.1387\">«part»</text><text fill=\"#000000\" font-family=\"sans-serif\" font-size=\"12\" lengthAdjust=\"spacingAndGlyphs\" textLength=\"22\" x=\"171\" y=\"114.1074\">y: B</text><line style=\"stroke: #A80036; stroke-width: 1.5;\" x1=\"136\" x2=\"202\" y1=\"121.9375\" y2=\"121.9375\"/></a><!--MD5=[14ccda38c055a5c0da953d572bc50960]\n",
       "link E7 to E3--><a href=\"psysml:520b462f-0086-4fa2-a8c7-c457cfb393b0\" target=\"_top\" title=\"psysml:520b462f-0086-4fa2-a8c7-c457cfb393b0\" xlink:actuate=\"onRequest\" xlink:href=\"psysml:520b462f-0086-4fa2-a8c7-c457cfb393b0\" xlink:show=\"new\" xlink:title=\"psysml:520b462f-0086-4fa2-a8c7-c457cfb393b0\" xlink:type=\"simple\"><path d=\"M499,130.09 C499,145.42 499,166.27 499,184.42 \" fill=\"none\" id=\"E7-&gt;E3\" style=\"stroke: #A80036; stroke-width: 1.0;\"/><polygon fill=\"#FFFFFF\" points=\"499,204.69,492,185.69,506,185.69,499,204.69\" style=\"stroke: #A80036; stroke-width: 1.0;\"/><ellipse cx=\"494\" cy=\"179.99\" fill=\"#A80036\" rx=\"2\" ry=\"2\" style=\"stroke: #A80036; stroke-width: 1.0;\"/><ellipse cx=\"504\" cy=\"179.99\" fill=\"#A80036\" rx=\"2\" ry=\"2\" style=\"stroke: #A80036; stroke-width: 1.0;\"/></a><!--MD5=[1ccb2481ffa92f8d51a74ee30c51832a]\n",
       "link E8 to E5--><a href=\"psysml:7aecf3a3-7124-43a8-804d-679627dba63d\" target=\"_top\" title=\"psysml:7aecf3a3-7124-43a8-804d-679627dba63d\" xlink:actuate=\"onRequest\" xlink:href=\"psysml:7aecf3a3-7124-43a8-804d-679627dba63d\" xlink:show=\"new\" xlink:title=\"psysml:7aecf3a3-7124-43a8-804d-679627dba63d\" xlink:type=\"simple\"><path d=\"M362.27,130.22 C349.82,138.09 335.46,146.77 322,154 C284.18,174.3 239.36,194.36 208.05,207.77 \" fill=\"none\" id=\"E8-&gt;E5\" style=\"stroke: #A80036; stroke-width: 1.0;\"/><polygon fill=\"#FFFFFF\" points=\"189.2,215.73,203.9741,201.8834,209.4261,214.7782,189.2,215.73\" style=\"stroke: #A80036; stroke-width: 1.0;\"/><ellipse cx=\"210.0029\" cy=\"201.5058\" fill=\"#A80036\" rx=\"2\" ry=\"2\" style=\"stroke: #A80036; stroke-width: 1.0;\"/><ellipse cx=\"213.8972\" cy=\"210.7164\" fill=\"#A80036\" rx=\"2\" ry=\"2\" style=\"stroke: #A80036; stroke-width: 1.0;\"/></a><!--MD5=[feeac5eb423634930294aa81f2d25a4c]\n",
       "link E10 to E3--><a href=\"psysml:fd0acd65-b864-4a8e-8ff2-cbce99549eac\" target=\"_top\" title=\"psysml:fd0acd65-b864-4a8e-8ff2-cbce99549eac\" xlink:actuate=\"onRequest\" xlink:href=\"psysml:fd0acd65-b864-4a8e-8ff2-cbce99549eac\" xlink:show=\"new\" xlink:title=\"psysml:fd0acd65-b864-4a8e-8ff2-cbce99549eac\" xlink:type=\"simple\"><path d=\"M305.73,130.22 C318.18,138.09 332.54,146.77 346,154 C383.82,174.3 428.64,194.36 459.95,207.77 \" fill=\"none\" id=\"E10-&gt;E3\" style=\"stroke: #A80036; stroke-width: 1.0;\"/><polygon fill=\"#FFFFFF\" points=\"478.8,215.73,458.5739,214.7782,464.0259,201.8834,478.8,215.73\" style=\"stroke: #A80036; stroke-width: 1.0;\"/><ellipse cx=\"454.1028\" cy=\"210.7164\" fill=\"#A80036\" rx=\"2\" ry=\"2\" style=\"stroke: #A80036; stroke-width: 1.0;\"/><ellipse cx=\"457.9971\" cy=\"201.5058\" fill=\"#A80036\" rx=\"2\" ry=\"2\" style=\"stroke: #A80036; stroke-width: 1.0;\"/></a><!--MD5=[07b77f6f309248d16187045709d1c26e]\n",
       "link E11 to E5--><a href=\"psysml:442cb8f2-ee4b-4dfa-8164-f495024e2707\" target=\"_top\" title=\"psysml:442cb8f2-ee4b-4dfa-8164-f495024e2707\" xlink:actuate=\"onRequest\" xlink:href=\"psysml:442cb8f2-ee4b-4dfa-8164-f495024e2707\" xlink:show=\"new\" xlink:title=\"psysml:442cb8f2-ee4b-4dfa-8164-f495024e2707\" xlink:type=\"simple\"><path d=\"M169,130.09 C169,145.42 169,166.27 169,184.42 \" fill=\"none\" id=\"E11-&gt;E5\" style=\"stroke: #A80036; stroke-width: 1.0;\"/><polygon fill=\"#FFFFFF\" points=\"169,204.69,162,185.69,176,185.69,169,204.69\" style=\"stroke: #A80036; stroke-width: 1.0;\"/><ellipse cx=\"164\" cy=\"179.99\" fill=\"#A80036\" rx=\"2\" ry=\"2\" style=\"stroke: #A80036; stroke-width: 1.0;\"/><ellipse cx=\"174\" cy=\"179.99\" fill=\"#A80036\" rx=\"2\" ry=\"2\" style=\"stroke: #A80036; stroke-width: 1.0;\"/></a><!--MD5=[39f41a0e550fb3d73b4d8135617e30a2]\n",
       "link E12 to E3--><a href=\"psysml:fab56a21-03ff-446d-9dd1-385c5373a3f2\" target=\"_top\" title=\"psysml:fab56a21-03ff-446d-9dd1-385c5373a3f2\" xlink:actuate=\"onRequest\" xlink:href=\"psysml:fab56a21-03ff-446d-9dd1-385c5373a3f2\" xlink:show=\"new\" xlink:title=\"psysml:fab56a21-03ff-446d-9dd1-385c5373a3f2\" xlink:type=\"simple\"><path d=\"M582.38,130.09 C567.43,146.94 546.56,170.44 529.44,189.72 \" fill=\"none\" id=\"E12-&gt;E3\" style=\"stroke: #A80036; stroke-width: 1.0;\"/><polygon fill=\"#FFFFFF\" points=\"516.15,204.69,523.5343,185.836,534.0014,195.1334,516.15,204.69\" style=\"stroke: #A80036; stroke-width: 1.0;\"/><ellipse cx=\"528.815\" cy=\"182.9027\" fill=\"#A80036\" rx=\"2\" ry=\"2\" style=\"stroke: #A80036; stroke-width: 1.0;\"/><ellipse cx=\"536.2914\" cy=\"189.5436\" fill=\"#A80036\" rx=\"2\" ry=\"2\" style=\"stroke: #A80036; stroke-width: 1.0;\"/></a><!--MD5=[066b2d8af59fea80ccdb3d54ad5c1091]\n",
       "link E13 to E5--><a href=\"psysml:5cad6703-6f19-4c46-9c46-92acb368aec7\" target=\"_top\" title=\"psysml:5cad6703-6f19-4c46-9c46-92acb368aec7\" xlink:actuate=\"onRequest\" xlink:href=\"psysml:5cad6703-6f19-4c46-9c46-92acb368aec7\" xlink:show=\"new\" xlink:title=\"psysml:5cad6703-6f19-4c46-9c46-92acb368aec7\" xlink:type=\"simple\"><path d=\"M85.62,130.09 C100.57,146.94 121.44,170.44 138.56,189.72 \" fill=\"none\" id=\"E13-&gt;E5\" style=\"stroke: #A80036; stroke-width: 1.0;\"/><polygon fill=\"#FFFFFF\" points=\"151.85,204.69,133.9986,195.1334,144.4657,185.836,151.85,204.69\" style=\"stroke: #A80036; stroke-width: 1.0;\"/><ellipse cx=\"131.7086\" cy=\"189.5436\" fill=\"#A80036\" rx=\"2\" ry=\"2\" style=\"stroke: #A80036; stroke-width: 1.0;\"/><ellipse cx=\"139.185\" cy=\"182.9027\" fill=\"#A80036\" rx=\"2\" ry=\"2\" style=\"stroke: #A80036; stroke-width: 1.0;\"/></a><!--MD5=[3914e09c068e9918b8fafd7b77ac8e04]\n",
       "@startuml\r\n",
       " \r\n",
       "package \"CircularImport\" as E1  [[psysml:7332441d-5859-4b68-88e6-44e4d7acfbc9 ]]  {\r\n",
       "package \"P1\" as E2  [[psysml:5f20ae7d-4d57-41a2-9907-55aa74d31ca3 ]]  {\r\n",
       "comp def \"A\" as E3 << << (B,green) >> [[psysml:a77b04ef-8587-44c9-8b7f-efa23f8b51b3 ]] {\r\n",
       "}\r\n",
       "}\r\n",
       "package \"P2\" as E4  [[psysml:ebcd3975-b264-4248-9466-34d42d3f68ce ]]  {\r\n",
       "comp def \"B\" as E5 << << (B,green) >> [[psysml:0236a647-9823-419e-b974-acac8cdc5ece ]] {\r\n",
       "}\r\n",
       "}\r\n",
       "package \"Test1\" as E6  [[psysml:da6ad505-2daa-495a-83b8-d3ba9d2de3a4 ]]  {\r\n",
       "comp usage \"x: A\" as E7 << << (P,limegreen) part>> [[psysml:d9c30419-fa03-4224-9f9b-cc52ece95c03 ]] {\r\n",
       "}\r\n",
       "comp usage \"y: B\" as E8 << << (P,limegreen) part>> [[psysml:32c0d6a2-b48f-4756-bec9-ba81426d308d ]] {\r\n",
       "}\r\n",
       "}\r\n",
       "package \"Test2\" as E9  [[psysml:b0babda1-ae00-488b-8e87-1a86d4c9a0c6 ]]  {\r\n",
       "comp usage \"x: A\" as E10 << << (P,limegreen) part>> [[psysml:4b1ceaae-3a33-4edd-a713-ae072a8ba794 ]] {\r\n",
       "}\r\n",
       "comp usage \"y: B\" as E11 << << (P,limegreen) part>> [[psysml:8a3e0fcf-a1f5-42bd-9af7-3ab68d312f86 ]] {\r\n",
       "}\r\n",
       "}\r\n",
       "comp usage \"x: A\" as E12 << << (P,limegreen) part>> [[psysml:be17b73a-3dde-44ce-ab8b-a0409ce39ee3 ]] {\r\n",
       "}\r\n",
       "comp usage \"y: B\" as E13 << << (P,limegreen) part>> [[psysml:70775e2d-ada4-46b3-b3bb-1618b7e606cf ]] {\r\n",
       "}\r\n",
       "}\r\n",
       "E7 - -:|> E3 [[psysml:520b462f-0086-4fa2-a8c7-c457cfb393b0 ]] \r\n",
       "E8 - -:|> E5 [[psysml:7aecf3a3-7124-43a8-804d-679627dba63d ]] \r\n",
       "E10 - -:|> E3 [[psysml:fd0acd65-b864-4a8e-8ff2-cbce99549eac ]] \r\n",
       "E11 - -:|> E5 [[psysml:442cb8f2-ee4b-4dfa-8164-f495024e2707 ]] \r\n",
       "E12 - -:|> E3 [[psysml:fab56a21-03ff-446d-9dd1-385c5373a3f2 ]] \r\n",
       "E13 - -:|> E5 [[psysml:5cad6703-6f19-4c46-9c46-92acb368aec7 ]] \r\n",
       "@enduml\r\n",
       "\n",
       "PlantUML version 1.2020.13(Sat Jun 13 12:26:38 UTC 2020)\n",
       "(EPL source distribution)\n",
       "Java Runtime: OpenJDK Runtime Environment\n",
       "JVM: OpenJDK 64-Bit Server VM\n",
       "Default Encoding: UTF-8\n",
       "Language: en\n",
       "Country: null\n",
       "--></g></svg>"
      ]
     },
     "execution_count": 31,
     "metadata": {},
     "output_type": "execute_result"
    }
   ],
   "source": [
    "%viz --style=\"PLANTUML\" --view=\"Tree\" \"CircularImport\""
   ]
  },
  {
   "cell_type": "code",
   "execution_count": 32,
   "id": "06244f13",
   "metadata": {
    "execution": {
     "iopub.execute_input": "2021-09-27T07:16:36.517291Z",
     "iopub.status.busy": "2021-09-27T07:16:36.516894Z",
     "iopub.status.idle": "2021-09-27T07:16:36.608666Z",
     "shell.execute_reply": "2021-09-27T07:16:36.607518Z"
    }
   },
   "outputs": [
    {
     "data": {
      "image/svg+xml": [
       "<?xml version=\"1.0\" encoding=\"UTF-8\" standalone=\"no\"?><svg xmlns=\"http://www.w3.org/2000/svg\" xmlns:xlink=\"http://www.w3.org/1999/xlink\" contentScriptType=\"application/ecmascript\" contentStyleType=\"text/css\" height=\"300px\" preserveAspectRatio=\"none\" style=\"width:603px;height:300px;background:#000000;\" version=\"1.1\" viewBox=\"0 0 603 300\" width=\"603px\" zoomAndPan=\"magnify\"><defs/><g><rect fill=\"#162012\" height=\"1\" style=\"stroke: #162012; stroke-width: 1.0;\" width=\"1\" x=\"0\" y=\"0\"/><rect fill=\"#FFFFFF\" height=\"202.8012\" style=\"stroke: #FFFFFF; stroke-width: 1.0;\" width=\"602\" x=\"0\" y=\"0\"/><text fill=\"#000000\" font-family=\"sans-serif\" font-size=\"12\" font-weight=\"bold\" lengthAdjust=\"spacingAndGlyphs\" textLength=\"139\" x=\"5\" y=\"16.1387\">Welcome to PlantUML!</text><text fill=\"#000000\" font-family=\"sans-serif\" font-size=\"12\" lengthAdjust=\"spacingAndGlyphs\" textLength=\"0\" x=\"9\" y=\"30.1074\"/><text fill=\"#000000\" font-family=\"sans-serif\" font-size=\"12\" lengthAdjust=\"spacingAndGlyphs\" textLength=\"293\" x=\"5\" y=\"44.0762\">If you use this software, you accept its license.</text><text fill=\"#000000\" font-family=\"sans-serif\" font-size=\"12\" lengthAdjust=\"spacingAndGlyphs\" textLength=\"107\" x=\"5\" y=\"58.0449\">(details by typing</text><text fill=\"#000000\" font-family=\"monospace\" font-size=\"12\" lengthAdjust=\"spacingAndGlyphs\" textLength=\"42\" x=\"116\" y=\"58.595\">license</text><text fill=\"#000000\" font-family=\"sans-serif\" font-size=\"12\" lengthAdjust=\"spacingAndGlyphs\" textLength=\"56\" x=\"162\" y=\"58.0449\">keyword)</text><text fill=\"#000000\" font-family=\"sans-serif\" font-size=\"12\" lengthAdjust=\"spacingAndGlyphs\" textLength=\"0\" x=\"9\" y=\"72.0137\"/><text fill=\"#000000\" font-family=\"sans-serif\" font-size=\"12\" lengthAdjust=\"spacingAndGlyphs\" textLength=\"283\" x=\"5\" y=\"85.9824\">You can start with a simple UML Diagram like:</text><text fill=\"#000000\" font-family=\"sans-serif\" font-size=\"12\" lengthAdjust=\"spacingAndGlyphs\" textLength=\"0\" x=\"9\" y=\"99.9512\"/><text fill=\"#000000\" font-family=\"monospace\" font-size=\"12\" lengthAdjust=\"spacingAndGlyphs\" textLength=\"102\" x=\"5\" y=\"113.0893\">Bob-&gt;Alice: Hello</text><text fill=\"#000000\" font-family=\"sans-serif\" font-size=\"12\" lengthAdjust=\"spacingAndGlyphs\" textLength=\"0\" x=\"9\" y=\"126.508\"/><text fill=\"#000000\" font-family=\"sans-serif\" font-size=\"12\" lengthAdjust=\"spacingAndGlyphs\" textLength=\"14\" x=\"5\" y=\"140.4768\">Or</text><text fill=\"#000000\" font-family=\"sans-serif\" font-size=\"12\" lengthAdjust=\"spacingAndGlyphs\" textLength=\"0\" x=\"9\" y=\"154.4455\"/><text fill=\"#000000\" font-family=\"monospace\" font-size=\"12\" lengthAdjust=\"spacingAndGlyphs\" textLength=\"78\" x=\"5\" y=\"167.5837\">class Example</text><text fill=\"#000000\" font-family=\"sans-serif\" font-size=\"12\" lengthAdjust=\"spacingAndGlyphs\" textLength=\"0\" x=\"9\" y=\"181.0023\"/><text fill=\"#000000\" font-family=\"sans-serif\" font-size=\"12\" lengthAdjust=\"spacingAndGlyphs\" textLength=\"349\" x=\"5\" y=\"194.9711\">You will find more information about PlantUML syntax on</text><text fill=\"#000000\" font-family=\"sans-serif\" font-size=\"12\" lengthAdjust=\"spacingAndGlyphs\" text-decoration=\"underline\" textLength=\"129\" x=\"358\" y=\"194.9711\">https://plantuml.com</text><image height=\"71\" width=\"80\" x=\"516\" xlink:href=\"data:image/png;base64,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\" y=\"6\"/><rect fill=\"#000000\" height=\"96.4844\" style=\"stroke: #000000; stroke-width: 1.0;\" width=\"602\" x=\"0\" y=\"202.8012\"/><rect fill=\"#33FF02\" height=\"21.2969\" style=\"stroke: #33FF02; stroke-width: 1.0;\" width=\"145\" x=\"5\" y=\"207.8012\"/><text fill=\"#000000\" font-family=\"sans-serif\" font-size=\"14\" font-weight=\"bold\" lengthAdjust=\"spacingAndGlyphs\" textLength=\"143\" x=\"6\" y=\"222.8012\">[From string (line 2) ]</text><text fill=\"#33FF02\" font-family=\"sans-serif\" font-size=\"14\" font-weight=\"bold\" lengthAdjust=\"spacingAndGlyphs\" textLength=\"0\" x=\"9\" y=\"243.0981\"/><text fill=\"#33FF02\" font-family=\"sans-serif\" font-size=\"14\" font-weight=\"bold\" lengthAdjust=\"spacingAndGlyphs\" textLength=\"70\" x=\"5\" y=\"259.3949\">@startuml</text><text fill=\"#33FF02\" font-family=\"sans-serif\" font-size=\"14\" font-weight=\"bold\" lengthAdjust=\"spacingAndGlyphs\" textLength=\"0\" x=\"9\" y=\"275.6918\"/><text fill=\"#FF0000\" font-family=\"sans-serif\" font-size=\"14\" font-weight=\"bold\" lengthAdjust=\"spacingAndGlyphs\" textLength=\"124\" x=\"9\" y=\"291.9887\">Empty description</text><!--MD5=[f59edd8218d337f74d0c332fc6737304]\n",
       "@startuml\r\n",
       " \r\n",
       "@enduml\r\n",
       "\n",
       "PlantUML version 1.2020.13(Sat Jun 13 12:26:38 UTC 2020)\n",
       "(EPL source distribution)\n",
       "Java Runtime: OpenJDK Runtime Environment\n",
       "JVM: OpenJDK 64-Bit Server VM\n",
       "Default Encoding: UTF-8\n",
       "Language: en\n",
       "Country: null\n",
       "--></g></svg>"
      ]
     },
     "execution_count": 32,
     "metadata": {},
     "output_type": "execute_result"
    }
   ],
   "source": [
    "%viz --style=\"PLANTUML\" --view=\"State\" \"CircularImport\""
   ]
  },
  {
   "cell_type": "code",
   "execution_count": 33,
   "id": "22f65af8",
   "metadata": {
    "execution": {
     "iopub.execute_input": "2021-09-27T07:16:36.658328Z",
     "iopub.status.busy": "2021-09-27T07:16:36.657862Z",
     "iopub.status.idle": "2021-09-27T07:16:36.688696Z",
     "shell.execute_reply": "2021-09-27T07:16:36.688342Z"
    }
   },
   "outputs": [
    {
     "data": {
      "image/svg+xml": [
       "<?xml version=\"1.0\" encoding=\"UTF-8\" standalone=\"no\"?><svg xmlns=\"http://www.w3.org/2000/svg\" xmlns:xlink=\"http://www.w3.org/1999/xlink\" contentScriptType=\"application/ecmascript\" contentStyleType=\"text/css\" height=\"176px\" preserveAspectRatio=\"none\" style=\"width:858px;height:176px;\" version=\"1.1\" viewBox=\"0 0 858 176\" width=\"858px\" zoomAndPan=\"magnify\"><defs><filter height=\"300%\" id=\"fsr8c924kmbsd\" width=\"300%\" x=\"-1\" y=\"-1\"><feGaussianBlur result=\"blurOut\" stdDeviation=\"2.0\"/><feColorMatrix in=\"blurOut\" result=\"blurOut2\" type=\"matrix\" values=\"0 0 0 0 0 0 0 0 0 0 0 0 0 0 0 0 0 0 .4 0\"/><feOffset dx=\"4.0\" dy=\"4.0\" in=\"blurOut2\" result=\"blurOut3\"/><feBlend in=\"SourceGraphic\" in2=\"blurOut3\" mode=\"normal\"/></filter></defs><g><!--MD5=[fbc87193dbaf4d95561dea2c320d4a47]\n",
       "cluster E1--><a href=\"psysml:7332441d-5859-4b68-88e6-44e4d7acfbc9\" target=\"_top\" title=\"psysml:7332441d-5859-4b68-88e6-44e4d7acfbc9\" xlink:actuate=\"onRequest\" xlink:href=\"psysml:7332441d-5859-4b68-88e6-44e4d7acfbc9\" xlink:show=\"new\" xlink:title=\"psysml:7332441d-5859-4b68-88e6-44e4d7acfbc9\" xlink:type=\"simple\"><polygon fill=\"#FFFFFF\" filter=\"url(#fsr8c924kmbsd)\" points=\"16,6,117,6,124,28.2969,836,28.2969,836,164,16,164,16,6\" style=\"stroke: #000000; stroke-width: 1.5;\"/><line style=\"stroke: #000000; stroke-width: 1.5;\" x1=\"16\" x2=\"124\" y1=\"28.2969\" y2=\"28.2969\"/><text fill=\"#000000\" font-family=\"sans-serif\" font-size=\"14\" font-weight=\"bold\" lengthAdjust=\"spacingAndGlyphs\" textLength=\"95\" x=\"20\" y=\"20.9951\">CircularImport</text></a><!--MD5=[e4f7fae6ed58524ba242bb0b0d3be6b7]\n",
       "cluster E2--><a href=\"psysml:5f20ae7d-4d57-41a2-9907-55aa74d31ca3\" target=\"_top\" title=\"psysml:5f20ae7d-4d57-41a2-9907-55aa74d31ca3\" xlink:actuate=\"onRequest\" xlink:href=\"psysml:5f20ae7d-4d57-41a2-9907-55aa74d31ca3\" xlink:show=\"new\" xlink:title=\"psysml:5f20ae7d-4d57-41a2-9907-55aa74d31ca3\" xlink:type=\"simple\"><polygon fill=\"#FFFFFF\" filter=\"url(#fsr8c924kmbsd)\" points=\"730,49,754,49,761,71.2969,812,71.2969,812,140,730,140,730,49\" style=\"stroke: #000000; stroke-width: 1.5;\"/><line style=\"stroke: #000000; stroke-width: 1.5;\" x1=\"730\" x2=\"761\" y1=\"71.2969\" y2=\"71.2969\"/><text fill=\"#000000\" font-family=\"sans-serif\" font-size=\"14\" font-weight=\"bold\" lengthAdjust=\"spacingAndGlyphs\" textLength=\"18\" x=\"734\" y=\"63.9951\">P1</text></a><!--MD5=[f6df4d0ebaf0b5dfb2ced0ae5af7c670]\n",
       "cluster E4--><a href=\"psysml:ebcd3975-b264-4248-9466-34d42d3f68ce\" target=\"_top\" title=\"psysml:ebcd3975-b264-4248-9466-34d42d3f68ce\" xlink:actuate=\"onRequest\" xlink:href=\"psysml:ebcd3975-b264-4248-9466-34d42d3f68ce\" xlink:show=\"new\" xlink:title=\"psysml:ebcd3975-b264-4248-9466-34d42d3f68ce\" xlink:type=\"simple\"><polygon fill=\"#FFFFFF\" filter=\"url(#fsr8c924kmbsd)\" points=\"624,49,648,49,655,71.2969,706,71.2969,706,140,624,140,624,49\" style=\"stroke: #000000; stroke-width: 1.5;\"/><line style=\"stroke: #000000; stroke-width: 1.5;\" x1=\"624\" x2=\"655\" y1=\"71.2969\" y2=\"71.2969\"/><text fill=\"#000000\" font-family=\"sans-serif\" font-size=\"14\" font-weight=\"bold\" lengthAdjust=\"spacingAndGlyphs\" textLength=\"18\" x=\"628\" y=\"63.9951\">P2</text></a><!--MD5=[14e3b0961a2654348d326746436168a1]\n",
       "cluster E6--><a href=\"psysml:da6ad505-2daa-495a-83b8-d3ba9d2de3a4\" target=\"_top\" title=\"psysml:da6ad505-2daa-495a-83b8-d3ba9d2de3a4\" xlink:actuate=\"onRequest\" xlink:href=\"psysml:da6ad505-2daa-495a-83b8-d3ba9d2de3a4\" xlink:show=\"new\" xlink:title=\"psysml:da6ad505-2daa-495a-83b8-d3ba9d2de3a4\" xlink:type=\"simple\"><polygon fill=\"#FFFFFF\" filter=\"url(#fsr8c924kmbsd)\" points=\"414,49,460,49,467,71.2969,600,71.2969,600,140,414,140,414,49\" style=\"stroke: #000000; stroke-width: 1.5;\"/><line style=\"stroke: #000000; stroke-width: 1.5;\" x1=\"414\" x2=\"467\" y1=\"71.2969\" y2=\"71.2969\"/><text fill=\"#000000\" font-family=\"sans-serif\" font-size=\"14\" font-weight=\"bold\" lengthAdjust=\"spacingAndGlyphs\" textLength=\"40\" x=\"418\" y=\"63.9951\">Test1</text></a><!--MD5=[7f149f147074ac12df2cb0a7728a5fb0]\n",
       "cluster E9--><a href=\"psysml:b0babda1-ae00-488b-8e87-1a86d4c9a0c6\" target=\"_top\" title=\"psysml:b0babda1-ae00-488b-8e87-1a86d4c9a0c6\" xlink:actuate=\"onRequest\" xlink:href=\"psysml:b0babda1-ae00-488b-8e87-1a86d4c9a0c6\" xlink:show=\"new\" xlink:title=\"psysml:b0babda1-ae00-488b-8e87-1a86d4c9a0c6\" xlink:type=\"simple\"><polygon fill=\"#FFFFFF\" filter=\"url(#fsr8c924kmbsd)\" points=\"204,49,250,49,257,71.2969,390,71.2969,390,140,204,140,204,49\" style=\"stroke: #000000; stroke-width: 1.5;\"/><line style=\"stroke: #000000; stroke-width: 1.5;\" x1=\"204\" x2=\"257\" y1=\"71.2969\" y2=\"71.2969\"/><text fill=\"#000000\" font-family=\"sans-serif\" font-size=\"14\" font-weight=\"bold\" lengthAdjust=\"spacingAndGlyphs\" textLength=\"40\" x=\"208\" y=\"63.9951\">Test2</text></a><g id=\"E1.E2.E3\"><a href=\"psysml:a77b04ef-8587-44c9-8b7f-efa23f8b51b3\" target=\"_top\" title=\"psysml:a77b04ef-8587-44c9-8b7f-efa23f8b51b3\" xlink:actuate=\"onRequest\" xlink:href=\"psysml:a77b04ef-8587-44c9-8b7f-efa23f8b51b3\" xlink:show=\"new\" xlink:title=\"psysml:a77b04ef-8587-44c9-8b7f-efa23f8b51b3\" xlink:type=\"simple\"><rect fill=\"#FEFECE\" filter=\"url(#fsr8c924kmbsd)\" height=\"40\" id=\"E3\" style=\"stroke: #A80036; stroke-width: 1.5;\" width=\"50\" x=\"746\" y=\"84\"/><ellipse cx=\"765.5\" cy=\"100\" fill=\"#008000\" rx=\"11\" ry=\"11\" style=\"stroke: #A80036; stroke-width: 1.0;\"/><path d=\"M762.375,105 L762.375,94.4063 L765.6094,94.4063 Q767.5156,94.4063 768.4219,95.1563 Q769.3438,95.9063 769.3438,97.0781 Q769.3438,97.7656 768.9531,98.4219 Q768.5781,99.0781 767.8594,99.375 Q768.7188,99.75 769.2344,100.4375 Q769.75,101.125 769.75,101.9375 Q769.75,103.3125 768.7188,104.1563 Q767.7031,105 765.5938,105 L762.375,105 Z M764.2969,98.6406 L765.4531,98.6406 Q766.5781,98.6406 766.9844,98.2656 Q767.4063,97.875 767.4063,97.25 Q767.4063,96.6719 766.9844,96.3125 Q766.5625,95.9531 765.625,95.9531 L764.2969,95.9531 L764.2969,98.6406 Z M764.2969,103.4219 L765.7969,103.4219 Q766.7031,103.4219 767.2344,103.0313 Q767.7656,102.6406 767.7656,101.8906 Q767.7656,101.125 767.2656,100.6563 Q766.7656,100.1719 765.5,100.1719 L764.2969,100.1719 L764.2969,103.4219 Z \"/><text fill=\"#000000\" font-family=\"sans-serif\" font-size=\"12\" lengthAdjust=\"spacingAndGlyphs\" textLength=\"8\" x=\"780.5\" y=\"104.1543\">A</text></a></g><g id=\"E1.E4.E5\"><a href=\"psysml:0236a647-9823-419e-b974-acac8cdc5ece\" target=\"_top\" title=\"psysml:0236a647-9823-419e-b974-acac8cdc5ece\" xlink:actuate=\"onRequest\" xlink:href=\"psysml:0236a647-9823-419e-b974-acac8cdc5ece\" xlink:show=\"new\" xlink:title=\"psysml:0236a647-9823-419e-b974-acac8cdc5ece\" xlink:type=\"simple\"><rect fill=\"#FEFECE\" filter=\"url(#fsr8c924kmbsd)\" height=\"40\" id=\"E5\" style=\"stroke: #A80036; stroke-width: 1.5;\" width=\"50\" x=\"640\" y=\"84\"/><ellipse cx=\"659.5\" cy=\"100\" fill=\"#008000\" rx=\"11\" ry=\"11\" style=\"stroke: #A80036; stroke-width: 1.0;\"/><path d=\"M656.375,105 L656.375,94.4063 L659.6094,94.4063 Q661.5156,94.4063 662.4219,95.1563 Q663.3438,95.9063 663.3438,97.0781 Q663.3438,97.7656 662.9531,98.4219 Q662.5781,99.0781 661.8594,99.375 Q662.7188,99.75 663.2344,100.4375 Q663.75,101.125 663.75,101.9375 Q663.75,103.3125 662.7188,104.1563 Q661.7031,105 659.5938,105 L656.375,105 Z M658.2969,98.6406 L659.4531,98.6406 Q660.5781,98.6406 660.9844,98.2656 Q661.4063,97.875 661.4063,97.25 Q661.4063,96.6719 660.9844,96.3125 Q660.5625,95.9531 659.625,95.9531 L658.2969,95.9531 L658.2969,98.6406 Z M658.2969,103.4219 L659.7969,103.4219 Q660.7031,103.4219 661.2344,103.0313 Q661.7656,102.6406 661.7656,101.8906 Q661.7656,101.125 661.2656,100.6563 Q660.7656,100.1719 659.5,100.1719 L658.2969,100.1719 L658.2969,103.4219 Z \"/><text fill=\"#000000\" font-family=\"sans-serif\" font-size=\"12\" lengthAdjust=\"spacingAndGlyphs\" textLength=\"8\" x=\"674.5\" y=\"104.1543\">B</text></a></g><g id=\"E1.E6.E7\"><a href=\"psysml:d9c30419-fa03-4224-9f9b-cc52ece95c03\" target=\"_top\" title=\"psysml:d9c30419-fa03-4224-9f9b-cc52ece95c03\" xlink:actuate=\"onRequest\" xlink:href=\"psysml:d9c30419-fa03-4224-9f9b-cc52ece95c03\" xlink:show=\"new\" xlink:title=\"psysml:d9c30419-fa03-4224-9f9b-cc52ece95c03\" xlink:type=\"simple\"><rect fill=\"#FEFECE\" filter=\"url(#fsr8c924kmbsd)\" height=\"40\" id=\"E7\" rx=\"10\" ry=\"10\" style=\"stroke: #A80036; stroke-width: 1.5;\" width=\"59\" x=\"524.5\" y=\"84\"/><ellipse cx=\"541.75\" cy=\"100\" fill=\"#B6DBBB\" rx=\"11\" ry=\"11\" style=\"stroke: #A80036; stroke-width: 1.0;\"/><path d=\"M541.5,105.4688 Q539.75,105.4688 538.7969,104.4375 Q537.8594,103.3906 537.8594,101.5469 L537.8594,94.6563 L539.9219,94.6563 L539.9219,94.8125 Q539.8281,94.9063 539.7969,95.0469 Q539.7813,95.1719 539.7813,95.4375 L539.7813,101.5625 Q539.7813,102.6563 540.1563,103.2813 Q540.5313,103.9063 541.5156,103.9063 Q542.5,103.9063 542.8906,103.2813 Q543.2813,102.6563 543.2813,101.5156 L543.2813,94.6563 L545.1563,94.6563 L545.1563,101.5 Q545.1563,103.5313 544.125,104.5 Q543.1094,105.4688 541.5,105.4688 Z \"/><text fill=\"#000000\" font-family=\"sans-serif\" font-size=\"12\" lengthAdjust=\"spacingAndGlyphs\" textLength=\"22\" x=\"556.25\" y=\"104.1543\">x: A</text></a></g><g id=\"E1.E6.E8\"><a href=\"psysml:32c0d6a2-b48f-4756-bec9-ba81426d308d\" target=\"_top\" title=\"psysml:32c0d6a2-b48f-4756-bec9-ba81426d308d\" xlink:actuate=\"onRequest\" xlink:href=\"psysml:32c0d6a2-b48f-4756-bec9-ba81426d308d\" xlink:show=\"new\" xlink:title=\"psysml:32c0d6a2-b48f-4756-bec9-ba81426d308d\" xlink:type=\"simple\"><rect fill=\"#FEFECE\" filter=\"url(#fsr8c924kmbsd)\" height=\"40\" id=\"E8\" rx=\"10\" ry=\"10\" style=\"stroke: #A80036; stroke-width: 1.5;\" width=\"59\" x=\"430.5\" y=\"84\"/><ellipse cx=\"447.75\" cy=\"100\" fill=\"#B6DBBB\" rx=\"11\" ry=\"11\" style=\"stroke: #A80036; stroke-width: 1.0;\"/><path d=\"M447.5,105.4688 Q445.75,105.4688 444.7969,104.4375 Q443.8594,103.3906 443.8594,101.5469 L443.8594,94.6563 L445.9219,94.6563 L445.9219,94.8125 Q445.8281,94.9063 445.7969,95.0469 Q445.7813,95.1719 445.7813,95.4375 L445.7813,101.5625 Q445.7813,102.6563 446.1563,103.2813 Q446.5313,103.9063 447.5156,103.9063 Q448.5,103.9063 448.8906,103.2813 Q449.2813,102.6563 449.2813,101.5156 L449.2813,94.6563 L451.1563,94.6563 L451.1563,101.5 Q451.1563,103.5313 450.125,104.5 Q449.1094,105.4688 447.5,105.4688 Z \"/><text fill=\"#000000\" font-family=\"sans-serif\" font-size=\"12\" lengthAdjust=\"spacingAndGlyphs\" textLength=\"22\" x=\"462.25\" y=\"104.1543\">y: B</text></a></g><g id=\"E1.E9.E10\"><a href=\"psysml:4b1ceaae-3a33-4edd-a713-ae072a8ba794\" target=\"_top\" title=\"psysml:4b1ceaae-3a33-4edd-a713-ae072a8ba794\" xlink:actuate=\"onRequest\" xlink:href=\"psysml:4b1ceaae-3a33-4edd-a713-ae072a8ba794\" xlink:show=\"new\" xlink:title=\"psysml:4b1ceaae-3a33-4edd-a713-ae072a8ba794\" xlink:type=\"simple\"><rect fill=\"#FEFECE\" filter=\"url(#fsr8c924kmbsd)\" height=\"40\" id=\"E10\" rx=\"10\" ry=\"10\" style=\"stroke: #A80036; stroke-width: 1.5;\" width=\"59\" x=\"314.5\" y=\"84\"/><ellipse cx=\"331.75\" cy=\"100\" fill=\"#B6DBBB\" rx=\"11\" ry=\"11\" style=\"stroke: #A80036; stroke-width: 1.0;\"/><path d=\"M331.5,105.4688 Q329.75,105.4688 328.7969,104.4375 Q327.8594,103.3906 327.8594,101.5469 L327.8594,94.6563 L329.9219,94.6563 L329.9219,94.8125 Q329.8281,94.9063 329.7969,95.0469 Q329.7813,95.1719 329.7813,95.4375 L329.7813,101.5625 Q329.7813,102.6563 330.1563,103.2813 Q330.5313,103.9063 331.5156,103.9063 Q332.5,103.9063 332.8906,103.2813 Q333.2813,102.6563 333.2813,101.5156 L333.2813,94.6563 L335.1563,94.6563 L335.1563,101.5 Q335.1563,103.5313 334.125,104.5 Q333.1094,105.4688 331.5,105.4688 Z \"/><text fill=\"#000000\" font-family=\"sans-serif\" font-size=\"12\" lengthAdjust=\"spacingAndGlyphs\" textLength=\"22\" x=\"346.25\" y=\"104.1543\">x: A</text></a></g><g id=\"E1.E9.E11\"><a href=\"psysml:8a3e0fcf-a1f5-42bd-9af7-3ab68d312f86\" target=\"_top\" title=\"psysml:8a3e0fcf-a1f5-42bd-9af7-3ab68d312f86\" xlink:actuate=\"onRequest\" xlink:href=\"psysml:8a3e0fcf-a1f5-42bd-9af7-3ab68d312f86\" xlink:show=\"new\" xlink:title=\"psysml:8a3e0fcf-a1f5-42bd-9af7-3ab68d312f86\" xlink:type=\"simple\"><rect fill=\"#FEFECE\" filter=\"url(#fsr8c924kmbsd)\" height=\"40\" id=\"E11\" rx=\"10\" ry=\"10\" style=\"stroke: #A80036; stroke-width: 1.5;\" width=\"59\" x=\"220.5\" y=\"84\"/><ellipse cx=\"237.75\" cy=\"100\" fill=\"#B6DBBB\" rx=\"11\" ry=\"11\" style=\"stroke: #A80036; stroke-width: 1.0;\"/><path d=\"M237.5,105.4688 Q235.75,105.4688 234.7969,104.4375 Q233.8594,103.3906 233.8594,101.5469 L233.8594,94.6563 L235.9219,94.6563 L235.9219,94.8125 Q235.8281,94.9063 235.7969,95.0469 Q235.7813,95.1719 235.7813,95.4375 L235.7813,101.5625 Q235.7813,102.6563 236.1563,103.2813 Q236.5313,103.9063 237.5156,103.9063 Q238.5,103.9063 238.8906,103.2813 Q239.2813,102.6563 239.2813,101.5156 L239.2813,94.6563 L241.1563,94.6563 L241.1563,101.5 Q241.1563,103.5313 240.125,104.5 Q239.1094,105.4688 237.5,105.4688 Z \"/><text fill=\"#000000\" font-family=\"sans-serif\" font-size=\"12\" lengthAdjust=\"spacingAndGlyphs\" textLength=\"22\" x=\"252.25\" y=\"104.1543\">y: B</text></a></g><g id=\"E1.E12\"><a href=\"psysml:be17b73a-3dde-44ce-ab8b-a0409ce39ee3\" target=\"_top\" title=\"psysml:be17b73a-3dde-44ce-ab8b-a0409ce39ee3\" xlink:actuate=\"onRequest\" xlink:href=\"psysml:be17b73a-3dde-44ce-ab8b-a0409ce39ee3\" xlink:show=\"new\" xlink:title=\"psysml:be17b73a-3dde-44ce-ab8b-a0409ce39ee3\" xlink:type=\"simple\"><rect fill=\"#FEFECE\" filter=\"url(#fsr8c924kmbsd)\" height=\"40\" id=\"E12\" rx=\"10\" ry=\"10\" style=\"stroke: #A80036; stroke-width: 1.5;\" width=\"59\" x=\"126.5\" y=\"84\"/><ellipse cx=\"143.75\" cy=\"100\" fill=\"#B6DBBB\" rx=\"11\" ry=\"11\" style=\"stroke: #A80036; stroke-width: 1.0;\"/><path d=\"M143.5,105.4688 Q141.75,105.4688 140.7969,104.4375 Q139.8594,103.3906 139.8594,101.5469 L139.8594,94.6563 L141.9219,94.6563 L141.9219,94.8125 Q141.8281,94.9063 141.7969,95.0469 Q141.7813,95.1719 141.7813,95.4375 L141.7813,101.5625 Q141.7813,102.6563 142.1563,103.2813 Q142.5313,103.9063 143.5156,103.9063 Q144.5,103.9063 144.8906,103.2813 Q145.2813,102.6563 145.2813,101.5156 L145.2813,94.6563 L147.1563,94.6563 L147.1563,101.5 Q147.1563,103.5313 146.125,104.5 Q145.1094,105.4688 143.5,105.4688 Z \"/><text fill=\"#000000\" font-family=\"sans-serif\" font-size=\"12\" lengthAdjust=\"spacingAndGlyphs\" textLength=\"22\" x=\"158.25\" y=\"104.1543\">x: A</text></a></g><g id=\"E1.E13\"><a href=\"psysml:70775e2d-ada4-46b3-b3bb-1618b7e606cf\" target=\"_top\" title=\"psysml:70775e2d-ada4-46b3-b3bb-1618b7e606cf\" xlink:actuate=\"onRequest\" xlink:href=\"psysml:70775e2d-ada4-46b3-b3bb-1618b7e606cf\" xlink:show=\"new\" xlink:title=\"psysml:70775e2d-ada4-46b3-b3bb-1618b7e606cf\" xlink:type=\"simple\"><rect fill=\"#FEFECE\" filter=\"url(#fsr8c924kmbsd)\" height=\"40\" id=\"E13\" rx=\"10\" ry=\"10\" style=\"stroke: #A80036; stroke-width: 1.5;\" width=\"59\" x=\"32.5\" y=\"84\"/><ellipse cx=\"49.75\" cy=\"100\" fill=\"#B6DBBB\" rx=\"11\" ry=\"11\" style=\"stroke: #A80036; stroke-width: 1.0;\"/><path d=\"M49.5,105.4688 Q47.75,105.4688 46.7969,104.4375 Q45.8594,103.3906 45.8594,101.5469 L45.8594,94.6563 L47.9219,94.6563 L47.9219,94.8125 Q47.8281,94.9063 47.7969,95.0469 Q47.7813,95.1719 47.7813,95.4375 L47.7813,101.5625 Q47.7813,102.6563 48.1563,103.2813 Q48.5313,103.9063 49.5156,103.9063 Q50.5,103.9063 50.8906,103.2813 Q51.2813,102.6563 51.2813,101.5156 L51.2813,94.6563 L53.1563,94.6563 L53.1563,101.5 Q53.1563,103.5313 52.125,104.5 Q51.1094,105.4688 49.5,105.4688 Z \"/><text fill=\"#000000\" font-family=\"sans-serif\" font-size=\"12\" lengthAdjust=\"spacingAndGlyphs\" textLength=\"22\" x=\"64.25\" y=\"104.1543\">y: B</text></a></g><!--MD5=[5dd6fea13512c5125bd1998e6c71fe13]\n",
       "@startuml\r\n",
       "skinparam ranksep 10\r\n",
       "skinparam rectangle {\r\n",
       " backgroundColor<<block>> LightGreen\r\n",
       "}\r\n",
       " \r\n",
       "package \"CircularImport\" as E1  [[psysml:7332441d-5859-4b68-88e6-44e4d7acfbc9 ]]  {\r\n",
       "package \"P1\" as E2  [[psysml:5f20ae7d-4d57-41a2-9907-55aa74d31ca3 ]]  {\r\n",
       "rec def \"A\" as E3 << << (B,green) >> [[psysml:a77b04ef-8587-44c9-8b7f-efa23f8b51b3 ]] {\r\n",
       "}\r\n",
       "}\r\n",
       "package \"P2\" as E4  [[psysml:ebcd3975-b264-4248-9466-34d42d3f68ce ]]  {\r\n",
       "rec def \"B\" as E5 << << (B,green) >> [[psysml:0236a647-9823-419e-b974-acac8cdc5ece ]] {\r\n",
       "}\r\n",
       "}\r\n",
       "package \"Test1\" as E6  [[psysml:da6ad505-2daa-495a-83b8-d3ba9d2de3a4 ]]  {\r\n",
       "rec usage \"x: A\" as E7  [[psysml:d9c30419-fa03-4224-9f9b-cc52ece95c03 ]] {\r\n",
       "}\r\n",
       "rec usage \"y: B\" as E8  [[psysml:32c0d6a2-b48f-4756-bec9-ba81426d308d ]] {\r\n",
       "}\r\n",
       "}\r\n",
       "package \"Test2\" as E9  [[psysml:b0babda1-ae00-488b-8e87-1a86d4c9a0c6 ]]  {\r\n",
       "rec usage \"x: A\" as E10  [[psysml:4b1ceaae-3a33-4edd-a713-ae072a8ba794 ]] {\r\n",
       "}\r\n",
       "rec usage \"y: B\" as E11  [[psysml:8a3e0fcf-a1f5-42bd-9af7-3ab68d312f86 ]] {\r\n",
       "}\r\n",
       "}\r\n",
       "rec usage \"x: A\" as E12  [[psysml:be17b73a-3dde-44ce-ab8b-a0409ce39ee3 ]] {\r\n",
       "}\r\n",
       "rec usage \"y: B\" as E13  [[psysml:70775e2d-ada4-46b3-b3bb-1618b7e606cf ]] {\r\n",
       "}\r\n",
       "}\r\n",
       "@enduml\r\n",
       "\n",
       "PlantUML version 1.2020.13(Sat Jun 13 12:26:38 UTC 2020)\n",
       "(EPL source distribution)\n",
       "Java Runtime: OpenJDK Runtime Environment\n",
       "JVM: OpenJDK 64-Bit Server VM\n",
       "Default Encoding: UTF-8\n",
       "Language: en\n",
       "Country: null\n",
       "--></g></svg>"
      ]
     },
     "execution_count": 33,
     "metadata": {},
     "output_type": "execute_result"
    }
   ],
   "source": [
    "%viz --style=\"PLANTUML\" --view=\"Interconnection\" \"CircularImport\""
   ]
  },
  {
   "cell_type": "code",
   "execution_count": 34,
   "id": "090556f4",
   "metadata": {
    "execution": {
     "iopub.execute_input": "2021-09-27T07:16:36.738811Z",
     "iopub.status.busy": "2021-09-27T07:16:36.738347Z",
     "iopub.status.idle": "2021-09-27T07:16:36.742929Z",
     "shell.execute_reply": "2021-09-27T07:16:36.743251Z"
    }
   },
   "outputs": [
    {
     "data": {
      "image/svg+xml": [
       "<?xml version=\"1.0\" encoding=\"UTF-8\" standalone=\"no\"?><svg xmlns=\"http://www.w3.org/2000/svg\" xmlns:xlink=\"http://www.w3.org/1999/xlink\" contentScriptType=\"application/ecmascript\" contentStyleType=\"text/css\" height=\"12px\" preserveAspectRatio=\"none\" style=\"width:12px;height:12px;\" version=\"1.1\" viewBox=\"0 0 12 12\" width=\"12px\" zoomAndPan=\"magnify\"><defs/><g><!--MD5=[6a4cb978cab31700e1ce5529f947a75d]\n",
       "@startuml\r\n",
       "skinparam ranksep 8\r\n",
       " \r\n",
       "@enduml\r\n",
       "\n",
       "PlantUML version 1.2020.13(Sat Jun 13 12:26:38 UTC 2020)\n",
       "(EPL source distribution)\n",
       "Java Runtime: OpenJDK Runtime Environment\n",
       "JVM: OpenJDK 64-Bit Server VM\n",
       "Default Encoding: UTF-8\n",
       "Language: en\n",
       "Country: null\n",
       "--></g></svg>"
      ]
     },
     "execution_count": 34,
     "metadata": {},
     "output_type": "execute_result"
    }
   ],
   "source": [
    "%viz --style=\"PLANTUML\" --view=\"Action\" \"CircularImport\""
   ]
  },
  {
   "cell_type": "code",
   "execution_count": 35,
   "id": "11e0b5d6",
   "metadata": {
    "execution": {
     "iopub.execute_input": "2021-09-27T07:16:36.793426Z",
     "iopub.status.busy": "2021-09-27T07:16:36.793010Z",
     "iopub.status.idle": "2021-09-27T07:16:36.797138Z",
     "shell.execute_reply": "2021-09-27T07:16:36.797454Z"
    }
   },
   "outputs": [
    {
     "data": {
      "image/svg+xml": [
       "<?xml version=\"1.0\" encoding=\"UTF-8\" standalone=\"no\"?><svg xmlns=\"http://www.w3.org/2000/svg\" xmlns:xlink=\"http://www.w3.org/1999/xlink\" contentScriptType=\"application/ecmascript\" contentStyleType=\"text/css\" height=\"12px\" preserveAspectRatio=\"none\" style=\"width:12px;height:12px;\" version=\"1.1\" viewBox=\"0 0 12 12\" width=\"12px\" zoomAndPan=\"magnify\"><defs/><g><!--MD5=[ca4faa0b02def275ea33c14ea7a1a98d]\n",
       "@startuml\r\n",
       "skinparam roundcorner 20\r\n",
       "skinparam BoxPadding 20\r\n",
       "skinparam SequenceBoxBackgroundColor #white\r\n",
       "skinparam style strictuml\r\n",
       "skinparam maxMessageSize 100\r\n",
       " \r\n",
       "@enduml\r\n",
       "\n",
       "PlantUML version 1.2020.13(Sat Jun 13 12:26:38 UTC 2020)\n",
       "(EPL source distribution)\n",
       "Java Runtime: OpenJDK Runtime Environment\n",
       "JVM: OpenJDK 64-Bit Server VM\n",
       "Default Encoding: UTF-8\n",
       "Language: en\n",
       "Country: null\n",
       "--></g></svg>"
      ]
     },
     "execution_count": 35,
     "metadata": {},
     "output_type": "execute_result"
    }
   ],
   "source": [
    "%viz --style=\"PLANTUML\" --view=\"Sequence\" \"CircularImport\""
   ]
  },
  {
   "cell_type": "code",
   "execution_count": 36,
   "id": "106880bd",
   "metadata": {
    "execution": {
     "iopub.execute_input": "2021-09-27T07:16:36.847569Z",
     "iopub.status.busy": "2021-09-27T07:16:36.847165Z",
     "iopub.status.idle": "2021-09-27T07:16:36.892793Z",
     "shell.execute_reply": "2021-09-27T07:16:36.892426Z"
    }
   },
   "outputs": [
    {
     "data": {
      "image/svg+xml": [
       "<?xml version=\"1.0\" encoding=\"UTF-8\" standalone=\"no\"?><svg xmlns=\"http://www.w3.org/2000/svg\" xmlns:xlink=\"http://www.w3.org/1999/xlink\" contentScriptType=\"application/ecmascript\" contentStyleType=\"text/css\" height=\"297px\" preserveAspectRatio=\"none\" style=\"width:674px;height:297px;\" version=\"1.1\" viewBox=\"0 0 674 297\" width=\"674px\" zoomAndPan=\"magnify\"><defs><filter height=\"300%\" id=\"f1n2i2oimtdkxs\" width=\"300%\" x=\"-1\" y=\"-1\"><feGaussianBlur result=\"blurOut\" stdDeviation=\"2.0\"/><feColorMatrix in=\"blurOut\" result=\"blurOut2\" type=\"matrix\" values=\"0 0 0 0 0 0 0 0 0 0 0 0 0 0 0 0 0 0 .4 0\"/><feOffset dx=\"4.0\" dy=\"4.0\" in=\"blurOut2\" result=\"blurOut3\"/><feBlend in=\"SourceGraphic\" in2=\"blurOut3\" mode=\"normal\"/></filter></defs><g><!--MD5=[fbc87193dbaf4d95561dea2c320d4a47]\n",
       "cluster E1--><a href=\"psysml:7332441d-5859-4b68-88e6-44e4d7acfbc9\" target=\"_top\" title=\"psysml:7332441d-5859-4b68-88e6-44e4d7acfbc9\" xlink:actuate=\"onRequest\" xlink:href=\"psysml:7332441d-5859-4b68-88e6-44e4d7acfbc9\" xlink:show=\"new\" xlink:title=\"psysml:7332441d-5859-4b68-88e6-44e4d7acfbc9\" xlink:type=\"simple\"><polygon fill=\"#FFFFFF\" filter=\"url(#f1n2i2oimtdkxs)\" points=\"16,6,117,6,124,28.2969,652,28.2969,652,285,16,285,16,6\" style=\"stroke: #000000; stroke-width: 1.5;\"/><line style=\"stroke: #000000; stroke-width: 1.5;\" x1=\"16\" x2=\"124\" y1=\"28.2969\" y2=\"28.2969\"/><text fill=\"#000000\" font-family=\"sans-serif\" font-size=\"14\" font-weight=\"bold\" lengthAdjust=\"spacingAndGlyphs\" textLength=\"95\" x=\"20\" y=\"20.9951\">CircularImport</text></a><!--MD5=[e4f7fae6ed58524ba242bb0b0d3be6b7]\n",
       "cluster E2--><a href=\"psysml:5f20ae7d-4d57-41a2-9907-55aa74d31ca3\" target=\"_top\" title=\"psysml:5f20ae7d-4d57-41a2-9907-55aa74d31ca3\" xlink:actuate=\"onRequest\" xlink:href=\"psysml:5f20ae7d-4d57-41a2-9907-55aa74d31ca3\" xlink:show=\"new\" xlink:title=\"psysml:5f20ae7d-4d57-41a2-9907-55aa74d31ca3\" xlink:type=\"simple\"><polygon fill=\"#FFFFFF\" filter=\"url(#f1n2i2oimtdkxs)\" points=\"463,170,487,170,494,192.2969,535,192.2969,535,261,463,261,463,170\" style=\"stroke: #000000; stroke-width: 1.5;\"/><line style=\"stroke: #000000; stroke-width: 1.5;\" x1=\"463\" x2=\"494\" y1=\"192.2969\" y2=\"192.2969\"/><text fill=\"#000000\" font-family=\"sans-serif\" font-size=\"14\" font-weight=\"bold\" lengthAdjust=\"spacingAndGlyphs\" textLength=\"18\" x=\"467\" y=\"184.9951\">P1</text></a><!--MD5=[f6df4d0ebaf0b5dfb2ced0ae5af7c670]\n",
       "cluster E4--><a href=\"psysml:ebcd3975-b264-4248-9466-34d42d3f68ce\" target=\"_top\" title=\"psysml:ebcd3975-b264-4248-9466-34d42d3f68ce\" xlink:actuate=\"onRequest\" xlink:href=\"psysml:ebcd3975-b264-4248-9466-34d42d3f68ce\" xlink:show=\"new\" xlink:title=\"psysml:ebcd3975-b264-4248-9466-34d42d3f68ce\" xlink:type=\"simple\"><polygon fill=\"#FFFFFF\" filter=\"url(#f1n2i2oimtdkxs)\" points=\"133,170,157,170,164,192.2969,205,192.2969,205,261,133,261,133,170\" style=\"stroke: #000000; stroke-width: 1.5;\"/><line style=\"stroke: #000000; stroke-width: 1.5;\" x1=\"133\" x2=\"164\" y1=\"192.2969\" y2=\"192.2969\"/><text fill=\"#000000\" font-family=\"sans-serif\" font-size=\"14\" font-weight=\"bold\" lengthAdjust=\"spacingAndGlyphs\" textLength=\"18\" x=\"137\" y=\"184.9951\">P2</text></a><!--MD5=[14e3b0961a2654348d326746436168a1]\n",
       "cluster E6--><a href=\"psysml:da6ad505-2daa-495a-83b8-d3ba9d2de3a4\" target=\"_top\" title=\"psysml:da6ad505-2daa-495a-83b8-d3ba9d2de3a4\" xlink:actuate=\"onRequest\" xlink:href=\"psysml:da6ad505-2daa-495a-83b8-d3ba9d2de3a4\" xlink:show=\"new\" xlink:title=\"psysml:da6ad505-2daa-495a-83b8-d3ba9d2de3a4\" xlink:type=\"simple\"><polygon fill=\"#FFFFFF\" filter=\"url(#f1n2i2oimtdkxs)\" points=\"346,49,392,49,399,71.2969,549,71.2969,549,146,346,146,346,49\" style=\"stroke: #000000; stroke-width: 1.5;\"/><line style=\"stroke: #000000; stroke-width: 1.5;\" x1=\"346\" x2=\"399\" y1=\"71.2969\" y2=\"71.2969\"/><text fill=\"#000000\" font-family=\"sans-serif\" font-size=\"14\" font-weight=\"bold\" lengthAdjust=\"spacingAndGlyphs\" textLength=\"40\" x=\"350\" y=\"63.9951\">Test1</text></a><!--MD5=[7f149f147074ac12df2cb0a7728a5fb0]\n",
       "cluster E9--><a href=\"psysml:b0babda1-ae00-488b-8e87-1a86d4c9a0c6\" target=\"_top\" title=\"psysml:b0babda1-ae00-488b-8e87-1a86d4c9a0c6\" xlink:actuate=\"onRequest\" xlink:href=\"psysml:b0babda1-ae00-488b-8e87-1a86d4c9a0c6\" xlink:show=\"new\" xlink:title=\"psysml:b0babda1-ae00-488b-8e87-1a86d4c9a0c6\" xlink:type=\"simple\"><polygon fill=\"#FFFFFF\" filter=\"url(#f1n2i2oimtdkxs)\" points=\"119,49,165,49,172,71.2969,322,71.2969,322,146,119,146,119,49\" style=\"stroke: #000000; stroke-width: 1.5;\"/><line style=\"stroke: #000000; stroke-width: 1.5;\" x1=\"119\" x2=\"172\" y1=\"71.2969\" y2=\"71.2969\"/><text fill=\"#000000\" font-family=\"sans-serif\" font-size=\"14\" font-weight=\"bold\" lengthAdjust=\"spacingAndGlyphs\" textLength=\"40\" x=\"123\" y=\"63.9951\">Test2</text></a><!--MD5=[49a0ec8f00dab7302a31f22d0f0fe584]\n",
       "class E12--><a href=\"psysml:be17b73a-3dde-44ce-ab8b-a0409ce39ee3\" target=\"_top\" title=\"psysml:be17b73a-3dde-44ce-ab8b-a0409ce39ee3\" xlink:actuate=\"onRequest\" xlink:href=\"psysml:be17b73a-3dde-44ce-ab8b-a0409ce39ee3\" xlink:show=\"new\" xlink:title=\"psysml:be17b73a-3dde-44ce-ab8b-a0409ce39ee3\" xlink:type=\"simple\"><rect fill=\"#FEFECE\" filter=\"url(#f1n2i2oimtdkxs)\" height=\"45.9375\" id=\"E12\" rx=\"10\" ry=\"10\" style=\"stroke: #A80036; stroke-width: 1.5;\" width=\"68\" x=\"568\" y=\"84\"/><ellipse cx=\"583\" cy=\"102.9688\" fill=\"#32CD32\" rx=\"11\" ry=\"11\" style=\"stroke: #A80036; stroke-width: 1.0;\"/><path d=\"M579.8125,107.9688 L579.8125,97.375 L583.4219,97.375 Q584.6406,97.375 585.4375,97.8125 Q586.2344,98.2344 586.6094,98.9375 Q587,99.6406 587,100.4844 Q587,101.3281 586.625,102.0156 Q586.2656,102.7031 585.4688,103.125 Q584.6875,103.5313 583.5,103.5313 L581.7656,103.5313 L581.7656,107.9688 L579.8125,107.9688 Z M581.7656,101.9375 L583.375,101.9375 Q584.1875,101.9375 584.6094,101.5313 Q585.0313,101.125 585.0313,100.4844 Q585.0313,99.8594 584.6094,99.4531 Q584.1875,99.0469 583.3906,99.0469 L581.7656,99.0469 L581.7656,101.9375 Z \"/><text fill=\"#000000\" font-family=\"sans-serif\" font-size=\"12\" font-style=\"italic\" lengthAdjust=\"spacingAndGlyphs\" textLength=\"40\" x=\"595\" y=\"100.1387\">«part»</text><text fill=\"#000000\" font-family=\"sans-serif\" font-size=\"12\" lengthAdjust=\"spacingAndGlyphs\" textLength=\"22\" x=\"604\" y=\"114.1074\">x: A</text><line style=\"stroke: #A80036; stroke-width: 1.5;\" x1=\"569\" x2=\"635\" y1=\"121.9375\" y2=\"121.9375\"/></a><!--MD5=[ee3c913d1a06f366521f9ef512b67efe]\n",
       "class E13--><a href=\"psysml:70775e2d-ada4-46b3-b3bb-1618b7e606cf\" target=\"_top\" title=\"psysml:70775e2d-ada4-46b3-b3bb-1618b7e606cf\" xlink:actuate=\"onRequest\" xlink:href=\"psysml:70775e2d-ada4-46b3-b3bb-1618b7e606cf\" xlink:show=\"new\" xlink:title=\"psysml:70775e2d-ada4-46b3-b3bb-1618b7e606cf\" xlink:type=\"simple\"><rect fill=\"#FEFECE\" filter=\"url(#f1n2i2oimtdkxs)\" height=\"45.9375\" id=\"E13\" rx=\"10\" ry=\"10\" style=\"stroke: #A80036; stroke-width: 1.5;\" width=\"68\" x=\"32\" y=\"84\"/><ellipse cx=\"47\" cy=\"102.9688\" fill=\"#32CD32\" rx=\"11\" ry=\"11\" style=\"stroke: #A80036; stroke-width: 1.0;\"/><path d=\"M43.8125,107.9688 L43.8125,97.375 L47.4219,97.375 Q48.6406,97.375 49.4375,97.8125 Q50.2344,98.2344 50.6094,98.9375 Q51,99.6406 51,100.4844 Q51,101.3281 50.625,102.0156 Q50.2656,102.7031 49.4688,103.125 Q48.6875,103.5313 47.5,103.5313 L45.7656,103.5313 L45.7656,107.9688 L43.8125,107.9688 Z M45.7656,101.9375 L47.375,101.9375 Q48.1875,101.9375 48.6094,101.5313 Q49.0313,101.125 49.0313,100.4844 Q49.0313,99.8594 48.6094,99.4531 Q48.1875,99.0469 47.3906,99.0469 L45.7656,99.0469 L45.7656,101.9375 Z \"/><text fill=\"#000000\" font-family=\"sans-serif\" font-size=\"12\" font-style=\"italic\" lengthAdjust=\"spacingAndGlyphs\" textLength=\"40\" x=\"59\" y=\"100.1387\">«part»</text><text fill=\"#000000\" font-family=\"sans-serif\" font-size=\"12\" lengthAdjust=\"spacingAndGlyphs\" textLength=\"22\" x=\"68\" y=\"114.1074\">y: B</text><line style=\"stroke: #A80036; stroke-width: 1.5;\" x1=\"33\" x2=\"99\" y1=\"121.9375\" y2=\"121.9375\"/></a><!--MD5=[09b614a08d8cba4a07c9adeb5e0fee81]\n",
       "class E3--><a href=\"psysml:a77b04ef-8587-44c9-8b7f-efa23f8b51b3\" target=\"_top\" title=\"psysml:a77b04ef-8587-44c9-8b7f-efa23f8b51b3\" xlink:actuate=\"onRequest\" xlink:href=\"psysml:a77b04ef-8587-44c9-8b7f-efa23f8b51b3\" xlink:show=\"new\" xlink:title=\"psysml:a77b04ef-8587-44c9-8b7f-efa23f8b51b3\" xlink:type=\"simple\"><rect fill=\"#FEFECE\" filter=\"url(#f1n2i2oimtdkxs)\" height=\"40\" id=\"E3\" style=\"stroke: #A80036; stroke-width: 1.5;\" width=\"40\" x=\"479\" y=\"205\"/><ellipse cx=\"494\" cy=\"221\" fill=\"#008000\" rx=\"11\" ry=\"11\" style=\"stroke: #A80036; stroke-width: 1.0;\"/><path d=\"M490.875,226 L490.875,215.4063 L494.1094,215.4063 Q496.0156,215.4063 496.9219,216.1563 Q497.8438,216.9063 497.8438,218.0781 Q497.8438,218.7656 497.4531,219.4219 Q497.0781,220.0781 496.3594,220.375 Q497.2188,220.75 497.7344,221.4375 Q498.25,222.125 498.25,222.9375 Q498.25,224.3125 497.2188,225.1563 Q496.2031,226 494.0938,226 L490.875,226 Z M492.7969,219.6406 L493.9531,219.6406 Q495.0781,219.6406 495.4844,219.2656 Q495.9063,218.875 495.9063,218.25 Q495.9063,217.6719 495.4844,217.3125 Q495.0625,216.9531 494.125,216.9531 L492.7969,216.9531 L492.7969,219.6406 Z M492.7969,224.4219 L494.2969,224.4219 Q495.2031,224.4219 495.7344,224.0313 Q496.2656,223.6406 496.2656,222.8906 Q496.2656,222.125 495.7656,221.6563 Q495.2656,221.1719 494,221.1719 L492.7969,221.1719 L492.7969,224.4219 Z \"/><text fill=\"#000000\" font-family=\"sans-serif\" font-size=\"12\" lengthAdjust=\"spacingAndGlyphs\" textLength=\"8\" x=\"508\" y=\"225.1543\">A</text><line style=\"stroke: #A80036; stroke-width: 1.5;\" x1=\"480\" x2=\"518\" y1=\"237\" y2=\"237\"/></a><!--MD5=[270fce915f116d4de14055a7c1d9a0f3]\n",
       "class E5--><a href=\"psysml:0236a647-9823-419e-b974-acac8cdc5ece\" target=\"_top\" title=\"psysml:0236a647-9823-419e-b974-acac8cdc5ece\" xlink:actuate=\"onRequest\" xlink:href=\"psysml:0236a647-9823-419e-b974-acac8cdc5ece\" xlink:show=\"new\" xlink:title=\"psysml:0236a647-9823-419e-b974-acac8cdc5ece\" xlink:type=\"simple\"><rect fill=\"#FEFECE\" filter=\"url(#f1n2i2oimtdkxs)\" height=\"40\" id=\"E5\" style=\"stroke: #A80036; stroke-width: 1.5;\" width=\"40\" x=\"149\" y=\"205\"/><ellipse cx=\"164\" cy=\"221\" fill=\"#008000\" rx=\"11\" ry=\"11\" style=\"stroke: #A80036; stroke-width: 1.0;\"/><path d=\"M160.875,226 L160.875,215.4063 L164.1094,215.4063 Q166.0156,215.4063 166.9219,216.1563 Q167.8438,216.9063 167.8438,218.0781 Q167.8438,218.7656 167.4531,219.4219 Q167.0781,220.0781 166.3594,220.375 Q167.2188,220.75 167.7344,221.4375 Q168.25,222.125 168.25,222.9375 Q168.25,224.3125 167.2188,225.1563 Q166.2031,226 164.0938,226 L160.875,226 Z M162.7969,219.6406 L163.9531,219.6406 Q165.0781,219.6406 165.4844,219.2656 Q165.9063,218.875 165.9063,218.25 Q165.9063,217.6719 165.4844,217.3125 Q165.0625,216.9531 164.125,216.9531 L162.7969,216.9531 L162.7969,219.6406 Z M162.7969,224.4219 L164.2969,224.4219 Q165.2031,224.4219 165.7344,224.0313 Q166.2656,223.6406 166.2656,222.8906 Q166.2656,222.125 165.7656,221.6563 Q165.2656,221.1719 164,221.1719 L162.7969,221.1719 L162.7969,224.4219 Z \"/><text fill=\"#000000\" font-family=\"sans-serif\" font-size=\"12\" lengthAdjust=\"spacingAndGlyphs\" textLength=\"8\" x=\"178\" y=\"225.1543\">B</text><line style=\"stroke: #A80036; stroke-width: 1.5;\" x1=\"150\" x2=\"188\" y1=\"237\" y2=\"237\"/></a><!--MD5=[2156ba9850f5573cc1fc38a6a4b2f02b]\n",
       "class E7--><a href=\"psysml:d9c30419-fa03-4224-9f9b-cc52ece95c03\" target=\"_top\" title=\"psysml:d9c30419-fa03-4224-9f9b-cc52ece95c03\" xlink:actuate=\"onRequest\" xlink:href=\"psysml:d9c30419-fa03-4224-9f9b-cc52ece95c03\" xlink:show=\"new\" xlink:title=\"psysml:d9c30419-fa03-4224-9f9b-cc52ece95c03\" xlink:type=\"simple\"><rect fill=\"#FEFECE\" filter=\"url(#f1n2i2oimtdkxs)\" height=\"45.9375\" id=\"E7\" rx=\"10\" ry=\"10\" style=\"stroke: #A80036; stroke-width: 1.5;\" width=\"68\" x=\"465\" y=\"84\"/><ellipse cx=\"480\" cy=\"102.9688\" fill=\"#32CD32\" rx=\"11\" ry=\"11\" style=\"stroke: #A80036; stroke-width: 1.0;\"/><path d=\"M476.8125,107.9688 L476.8125,97.375 L480.4219,97.375 Q481.6406,97.375 482.4375,97.8125 Q483.2344,98.2344 483.6094,98.9375 Q484,99.6406 484,100.4844 Q484,101.3281 483.625,102.0156 Q483.2656,102.7031 482.4688,103.125 Q481.6875,103.5313 480.5,103.5313 L478.7656,103.5313 L478.7656,107.9688 L476.8125,107.9688 Z M478.7656,101.9375 L480.375,101.9375 Q481.1875,101.9375 481.6094,101.5313 Q482.0313,101.125 482.0313,100.4844 Q482.0313,99.8594 481.6094,99.4531 Q481.1875,99.0469 480.3906,99.0469 L478.7656,99.0469 L478.7656,101.9375 Z \"/><text fill=\"#000000\" font-family=\"sans-serif\" font-size=\"12\" font-style=\"italic\" lengthAdjust=\"spacingAndGlyphs\" textLength=\"40\" x=\"492\" y=\"100.1387\">«part»</text><text fill=\"#000000\" font-family=\"sans-serif\" font-size=\"12\" lengthAdjust=\"spacingAndGlyphs\" textLength=\"22\" x=\"501\" y=\"114.1074\">x: A</text><line style=\"stroke: #A80036; stroke-width: 1.5;\" x1=\"466\" x2=\"532\" y1=\"121.9375\" y2=\"121.9375\"/></a><!--MD5=[b9389687b975829384b498ac4b7476b2]\n",
       "class E8--><a href=\"psysml:32c0d6a2-b48f-4756-bec9-ba81426d308d\" target=\"_top\" title=\"psysml:32c0d6a2-b48f-4756-bec9-ba81426d308d\" xlink:actuate=\"onRequest\" xlink:href=\"psysml:32c0d6a2-b48f-4756-bec9-ba81426d308d\" xlink:show=\"new\" xlink:title=\"psysml:32c0d6a2-b48f-4756-bec9-ba81426d308d\" xlink:type=\"simple\"><rect fill=\"#FEFECE\" filter=\"url(#f1n2i2oimtdkxs)\" height=\"45.9375\" id=\"E8\" rx=\"10\" ry=\"10\" style=\"stroke: #A80036; stroke-width: 1.5;\" width=\"68\" x=\"362\" y=\"84\"/><ellipse cx=\"377\" cy=\"102.9688\" fill=\"#32CD32\" rx=\"11\" ry=\"11\" style=\"stroke: #A80036; stroke-width: 1.0;\"/><path d=\"M373.8125,107.9688 L373.8125,97.375 L377.4219,97.375 Q378.6406,97.375 379.4375,97.8125 Q380.2344,98.2344 380.6094,98.9375 Q381,99.6406 381,100.4844 Q381,101.3281 380.625,102.0156 Q380.2656,102.7031 379.4688,103.125 Q378.6875,103.5313 377.5,103.5313 L375.7656,103.5313 L375.7656,107.9688 L373.8125,107.9688 Z M375.7656,101.9375 L377.375,101.9375 Q378.1875,101.9375 378.6094,101.5313 Q379.0313,101.125 379.0313,100.4844 Q379.0313,99.8594 378.6094,99.4531 Q378.1875,99.0469 377.3906,99.0469 L375.7656,99.0469 L375.7656,101.9375 Z \"/><text fill=\"#000000\" font-family=\"sans-serif\" font-size=\"12\" font-style=\"italic\" lengthAdjust=\"spacingAndGlyphs\" textLength=\"40\" x=\"389\" y=\"100.1387\">«part»</text><text fill=\"#000000\" font-family=\"sans-serif\" font-size=\"12\" lengthAdjust=\"spacingAndGlyphs\" textLength=\"22\" x=\"398\" y=\"114.1074\">y: B</text><line style=\"stroke: #A80036; stroke-width: 1.5;\" x1=\"363\" x2=\"429\" y1=\"121.9375\" y2=\"121.9375\"/></a><!--MD5=[96f4274e9e20536e775497830990834d]\n",
       "class E10--><a href=\"psysml:4b1ceaae-3a33-4edd-a713-ae072a8ba794\" target=\"_top\" title=\"psysml:4b1ceaae-3a33-4edd-a713-ae072a8ba794\" xlink:actuate=\"onRequest\" xlink:href=\"psysml:4b1ceaae-3a33-4edd-a713-ae072a8ba794\" xlink:show=\"new\" xlink:title=\"psysml:4b1ceaae-3a33-4edd-a713-ae072a8ba794\" xlink:type=\"simple\"><rect fill=\"#FEFECE\" filter=\"url(#f1n2i2oimtdkxs)\" height=\"45.9375\" id=\"E10\" rx=\"10\" ry=\"10\" style=\"stroke: #A80036; stroke-width: 1.5;\" width=\"68\" x=\"238\" y=\"84\"/><ellipse cx=\"253\" cy=\"102.9688\" fill=\"#32CD32\" rx=\"11\" ry=\"11\" style=\"stroke: #A80036; stroke-width: 1.0;\"/><path d=\"M249.8125,107.9688 L249.8125,97.375 L253.4219,97.375 Q254.6406,97.375 255.4375,97.8125 Q256.2344,98.2344 256.6094,98.9375 Q257,99.6406 257,100.4844 Q257,101.3281 256.625,102.0156 Q256.2656,102.7031 255.4688,103.125 Q254.6875,103.5313 253.5,103.5313 L251.7656,103.5313 L251.7656,107.9688 L249.8125,107.9688 Z M251.7656,101.9375 L253.375,101.9375 Q254.1875,101.9375 254.6094,101.5313 Q255.0313,101.125 255.0313,100.4844 Q255.0313,99.8594 254.6094,99.4531 Q254.1875,99.0469 253.3906,99.0469 L251.7656,99.0469 L251.7656,101.9375 Z \"/><text fill=\"#000000\" font-family=\"sans-serif\" font-size=\"12\" font-style=\"italic\" lengthAdjust=\"spacingAndGlyphs\" textLength=\"40\" x=\"265\" y=\"100.1387\">«part»</text><text fill=\"#000000\" font-family=\"sans-serif\" font-size=\"12\" lengthAdjust=\"spacingAndGlyphs\" textLength=\"22\" x=\"274\" y=\"114.1074\">x: A</text><line style=\"stroke: #A80036; stroke-width: 1.5;\" x1=\"239\" x2=\"305\" y1=\"121.9375\" y2=\"121.9375\"/></a><!--MD5=[1dd1bfd58a279cf63c5f349dbc8fc6a1]\n",
       "class E11--><a href=\"psysml:8a3e0fcf-a1f5-42bd-9af7-3ab68d312f86\" target=\"_top\" title=\"psysml:8a3e0fcf-a1f5-42bd-9af7-3ab68d312f86\" xlink:actuate=\"onRequest\" xlink:href=\"psysml:8a3e0fcf-a1f5-42bd-9af7-3ab68d312f86\" xlink:show=\"new\" xlink:title=\"psysml:8a3e0fcf-a1f5-42bd-9af7-3ab68d312f86\" xlink:type=\"simple\"><rect fill=\"#FEFECE\" filter=\"url(#f1n2i2oimtdkxs)\" height=\"45.9375\" id=\"E11\" rx=\"10\" ry=\"10\" style=\"stroke: #A80036; stroke-width: 1.5;\" width=\"68\" x=\"135\" y=\"84\"/><ellipse cx=\"150\" cy=\"102.9688\" fill=\"#32CD32\" rx=\"11\" ry=\"11\" style=\"stroke: #A80036; stroke-width: 1.0;\"/><path d=\"M146.8125,107.9688 L146.8125,97.375 L150.4219,97.375 Q151.6406,97.375 152.4375,97.8125 Q153.2344,98.2344 153.6094,98.9375 Q154,99.6406 154,100.4844 Q154,101.3281 153.625,102.0156 Q153.2656,102.7031 152.4688,103.125 Q151.6875,103.5313 150.5,103.5313 L148.7656,103.5313 L148.7656,107.9688 L146.8125,107.9688 Z M148.7656,101.9375 L150.375,101.9375 Q151.1875,101.9375 151.6094,101.5313 Q152.0313,101.125 152.0313,100.4844 Q152.0313,99.8594 151.6094,99.4531 Q151.1875,99.0469 150.3906,99.0469 L148.7656,99.0469 L148.7656,101.9375 Z \"/><text fill=\"#000000\" font-family=\"sans-serif\" font-size=\"12\" font-style=\"italic\" lengthAdjust=\"spacingAndGlyphs\" textLength=\"40\" x=\"162\" y=\"100.1387\">«part»</text><text fill=\"#000000\" font-family=\"sans-serif\" font-size=\"12\" lengthAdjust=\"spacingAndGlyphs\" textLength=\"22\" x=\"171\" y=\"114.1074\">y: B</text><line style=\"stroke: #A80036; stroke-width: 1.5;\" x1=\"136\" x2=\"202\" y1=\"121.9375\" y2=\"121.9375\"/></a><!--MD5=[14ccda38c055a5c0da953d572bc50960]\n",
       "link E7 to E3--><a href=\"psysml:520b462f-0086-4fa2-a8c7-c457cfb393b0\" target=\"_top\" title=\"psysml:520b462f-0086-4fa2-a8c7-c457cfb393b0\" xlink:actuate=\"onRequest\" xlink:href=\"psysml:520b462f-0086-4fa2-a8c7-c457cfb393b0\" xlink:show=\"new\" xlink:title=\"psysml:520b462f-0086-4fa2-a8c7-c457cfb393b0\" xlink:type=\"simple\"><path d=\"M499,130.09 C499,145.42 499,166.27 499,184.42 \" fill=\"none\" id=\"E7-&gt;E3\" style=\"stroke: #A80036; stroke-width: 1.0;\"/><polygon fill=\"#FFFFFF\" points=\"499,204.69,492,185.69,506,185.69,499,204.69\" style=\"stroke: #A80036; stroke-width: 1.0;\"/><ellipse cx=\"494\" cy=\"179.99\" fill=\"#A80036\" rx=\"2\" ry=\"2\" style=\"stroke: #A80036; stroke-width: 1.0;\"/><ellipse cx=\"504\" cy=\"179.99\" fill=\"#A80036\" rx=\"2\" ry=\"2\" style=\"stroke: #A80036; stroke-width: 1.0;\"/></a><!--MD5=[1ccb2481ffa92f8d51a74ee30c51832a]\n",
       "link E8 to E5--><a href=\"psysml:7aecf3a3-7124-43a8-804d-679627dba63d\" target=\"_top\" title=\"psysml:7aecf3a3-7124-43a8-804d-679627dba63d\" xlink:actuate=\"onRequest\" xlink:href=\"psysml:7aecf3a3-7124-43a8-804d-679627dba63d\" xlink:show=\"new\" xlink:title=\"psysml:7aecf3a3-7124-43a8-804d-679627dba63d\" xlink:type=\"simple\"><path d=\"M362.27,130.22 C349.82,138.09 335.46,146.77 322,154 C284.18,174.3 239.36,194.36 208.05,207.77 \" fill=\"none\" id=\"E8-&gt;E5\" style=\"stroke: #A80036; stroke-width: 1.0;\"/><polygon fill=\"#FFFFFF\" points=\"189.2,215.73,203.9741,201.8834,209.4261,214.7782,189.2,215.73\" style=\"stroke: #A80036; stroke-width: 1.0;\"/><ellipse cx=\"210.0029\" cy=\"201.5058\" fill=\"#A80036\" rx=\"2\" ry=\"2\" style=\"stroke: #A80036; stroke-width: 1.0;\"/><ellipse cx=\"213.8972\" cy=\"210.7164\" fill=\"#A80036\" rx=\"2\" ry=\"2\" style=\"stroke: #A80036; stroke-width: 1.0;\"/></a><!--MD5=[feeac5eb423634930294aa81f2d25a4c]\n",
       "link E10 to E3--><a href=\"psysml:fd0acd65-b864-4a8e-8ff2-cbce99549eac\" target=\"_top\" title=\"psysml:fd0acd65-b864-4a8e-8ff2-cbce99549eac\" xlink:actuate=\"onRequest\" xlink:href=\"psysml:fd0acd65-b864-4a8e-8ff2-cbce99549eac\" xlink:show=\"new\" xlink:title=\"psysml:fd0acd65-b864-4a8e-8ff2-cbce99549eac\" xlink:type=\"simple\"><path d=\"M305.73,130.22 C318.18,138.09 332.54,146.77 346,154 C383.82,174.3 428.64,194.36 459.95,207.77 \" fill=\"none\" id=\"E10-&gt;E3\" style=\"stroke: #A80036; stroke-width: 1.0;\"/><polygon fill=\"#FFFFFF\" points=\"478.8,215.73,458.5739,214.7782,464.0259,201.8834,478.8,215.73\" style=\"stroke: #A80036; stroke-width: 1.0;\"/><ellipse cx=\"454.1028\" cy=\"210.7164\" fill=\"#A80036\" rx=\"2\" ry=\"2\" style=\"stroke: #A80036; stroke-width: 1.0;\"/><ellipse cx=\"457.9971\" cy=\"201.5058\" fill=\"#A80036\" rx=\"2\" ry=\"2\" style=\"stroke: #A80036; stroke-width: 1.0;\"/></a><!--MD5=[07b77f6f309248d16187045709d1c26e]\n",
       "link E11 to E5--><a href=\"psysml:442cb8f2-ee4b-4dfa-8164-f495024e2707\" target=\"_top\" title=\"psysml:442cb8f2-ee4b-4dfa-8164-f495024e2707\" xlink:actuate=\"onRequest\" xlink:href=\"psysml:442cb8f2-ee4b-4dfa-8164-f495024e2707\" xlink:show=\"new\" xlink:title=\"psysml:442cb8f2-ee4b-4dfa-8164-f495024e2707\" xlink:type=\"simple\"><path d=\"M169,130.09 C169,145.42 169,166.27 169,184.42 \" fill=\"none\" id=\"E11-&gt;E5\" style=\"stroke: #A80036; stroke-width: 1.0;\"/><polygon fill=\"#FFFFFF\" points=\"169,204.69,162,185.69,176,185.69,169,204.69\" style=\"stroke: #A80036; stroke-width: 1.0;\"/><ellipse cx=\"164\" cy=\"179.99\" fill=\"#A80036\" rx=\"2\" ry=\"2\" style=\"stroke: #A80036; stroke-width: 1.0;\"/><ellipse cx=\"174\" cy=\"179.99\" fill=\"#A80036\" rx=\"2\" ry=\"2\" style=\"stroke: #A80036; stroke-width: 1.0;\"/></a><!--MD5=[39f41a0e550fb3d73b4d8135617e30a2]\n",
       "link E12 to E3--><a href=\"psysml:fab56a21-03ff-446d-9dd1-385c5373a3f2\" target=\"_top\" title=\"psysml:fab56a21-03ff-446d-9dd1-385c5373a3f2\" xlink:actuate=\"onRequest\" xlink:href=\"psysml:fab56a21-03ff-446d-9dd1-385c5373a3f2\" xlink:show=\"new\" xlink:title=\"psysml:fab56a21-03ff-446d-9dd1-385c5373a3f2\" xlink:type=\"simple\"><path d=\"M582.38,130.09 C567.43,146.94 546.56,170.44 529.44,189.72 \" fill=\"none\" id=\"E12-&gt;E3\" style=\"stroke: #A80036; stroke-width: 1.0;\"/><polygon fill=\"#FFFFFF\" points=\"516.15,204.69,523.5343,185.836,534.0014,195.1334,516.15,204.69\" style=\"stroke: #A80036; stroke-width: 1.0;\"/><ellipse cx=\"528.815\" cy=\"182.9027\" fill=\"#A80036\" rx=\"2\" ry=\"2\" style=\"stroke: #A80036; stroke-width: 1.0;\"/><ellipse cx=\"536.2914\" cy=\"189.5436\" fill=\"#A80036\" rx=\"2\" ry=\"2\" style=\"stroke: #A80036; stroke-width: 1.0;\"/></a><!--MD5=[066b2d8af59fea80ccdb3d54ad5c1091]\n",
       "link E13 to E5--><a href=\"psysml:5cad6703-6f19-4c46-9c46-92acb368aec7\" target=\"_top\" title=\"psysml:5cad6703-6f19-4c46-9c46-92acb368aec7\" xlink:actuate=\"onRequest\" xlink:href=\"psysml:5cad6703-6f19-4c46-9c46-92acb368aec7\" xlink:show=\"new\" xlink:title=\"psysml:5cad6703-6f19-4c46-9c46-92acb368aec7\" xlink:type=\"simple\"><path d=\"M85.62,130.09 C100.57,146.94 121.44,170.44 138.56,189.72 \" fill=\"none\" id=\"E13-&gt;E5\" style=\"stroke: #A80036; stroke-width: 1.0;\"/><polygon fill=\"#FFFFFF\" points=\"151.85,204.69,133.9986,195.1334,144.4657,185.836,151.85,204.69\" style=\"stroke: #A80036; stroke-width: 1.0;\"/><ellipse cx=\"131.7086\" cy=\"189.5436\" fill=\"#A80036\" rx=\"2\" ry=\"2\" style=\"stroke: #A80036; stroke-width: 1.0;\"/><ellipse cx=\"139.185\" cy=\"182.9027\" fill=\"#A80036\" rx=\"2\" ry=\"2\" style=\"stroke: #A80036; stroke-width: 1.0;\"/></a><!--MD5=[3914e09c068e9918b8fafd7b77ac8e04]\n",
       "@startuml\r\n",
       " \r\n",
       "package \"CircularImport\" as E1  [[psysml:7332441d-5859-4b68-88e6-44e4d7acfbc9 ]]  {\r\n",
       "package \"P1\" as E2  [[psysml:5f20ae7d-4d57-41a2-9907-55aa74d31ca3 ]]  {\r\n",
       "comp def \"A\" as E3 << << (B,green) >> [[psysml:a77b04ef-8587-44c9-8b7f-efa23f8b51b3 ]] {\r\n",
       "}\r\n",
       "}\r\n",
       "package \"P2\" as E4  [[psysml:ebcd3975-b264-4248-9466-34d42d3f68ce ]]  {\r\n",
       "comp def \"B\" as E5 << << (B,green) >> [[psysml:0236a647-9823-419e-b974-acac8cdc5ece ]] {\r\n",
       "}\r\n",
       "}\r\n",
       "package \"Test1\" as E6  [[psysml:da6ad505-2daa-495a-83b8-d3ba9d2de3a4 ]]  {\r\n",
       "comp usage \"x: A\" as E7 << << (P,limegreen) part>> [[psysml:d9c30419-fa03-4224-9f9b-cc52ece95c03 ]] {\r\n",
       "}\r\n",
       "comp usage \"y: B\" as E8 << << (P,limegreen) part>> [[psysml:32c0d6a2-b48f-4756-bec9-ba81426d308d ]] {\r\n",
       "}\r\n",
       "}\r\n",
       "package \"Test2\" as E9  [[psysml:b0babda1-ae00-488b-8e87-1a86d4c9a0c6 ]]  {\r\n",
       "comp usage \"x: A\" as E10 << << (P,limegreen) part>> [[psysml:4b1ceaae-3a33-4edd-a713-ae072a8ba794 ]] {\r\n",
       "}\r\n",
       "comp usage \"y: B\" as E11 << << (P,limegreen) part>> [[psysml:8a3e0fcf-a1f5-42bd-9af7-3ab68d312f86 ]] {\r\n",
       "}\r\n",
       "}\r\n",
       "comp usage \"x: A\" as E12 << << (P,limegreen) part>> [[psysml:be17b73a-3dde-44ce-ab8b-a0409ce39ee3 ]] {\r\n",
       "}\r\n",
       "comp usage \"y: B\" as E13 << << (P,limegreen) part>> [[psysml:70775e2d-ada4-46b3-b3bb-1618b7e606cf ]] {\r\n",
       "}\r\n",
       "}\r\n",
       "E7 - -:|> E3 [[psysml:520b462f-0086-4fa2-a8c7-c457cfb393b0 ]] \r\n",
       "E8 - -:|> E5 [[psysml:7aecf3a3-7124-43a8-804d-679627dba63d ]] \r\n",
       "E10 - -:|> E3 [[psysml:fd0acd65-b864-4a8e-8ff2-cbce99549eac ]] \r\n",
       "E11 - -:|> E5 [[psysml:442cb8f2-ee4b-4dfa-8164-f495024e2707 ]] \r\n",
       "E12 - -:|> E3 [[psysml:fab56a21-03ff-446d-9dd1-385c5373a3f2 ]] \r\n",
       "E13 - -:|> E5 [[psysml:5cad6703-6f19-4c46-9c46-92acb368aec7 ]] \r\n",
       "@enduml\r\n",
       "\n",
       "PlantUML version 1.2020.13(Sat Jun 13 12:26:38 UTC 2020)\n",
       "(EPL source distribution)\n",
       "Java Runtime: OpenJDK Runtime Environment\n",
       "JVM: OpenJDK 64-Bit Server VM\n",
       "Default Encoding: UTF-8\n",
       "Language: en\n",
       "Country: null\n",
       "--></g></svg>"
      ]
     },
     "execution_count": 36,
     "metadata": {},
     "output_type": "execute_result"
    }
   ],
   "source": [
    "%viz --style=\"PLANTUML\" --view=\"MIXED\" \"CircularImport\""
   ]
  },
  {
   "cell_type": "code",
   "execution_count": 37,
   "id": "20e9775a",
   "metadata": {
    "execution": {
     "iopub.execute_input": "2021-09-27T07:16:36.941976Z",
     "iopub.status.busy": "2021-09-27T07:16:36.941550Z",
     "iopub.status.idle": "2021-09-27T07:16:36.980324Z",
     "shell.execute_reply": "2021-09-27T07:16:36.979960Z"
    }
   },
   "outputs": [
    {
     "data": {
      "image/svg+xml": [
       "<?xml version=\"1.0\" encoding=\"UTF-8\" standalone=\"no\"?><svg xmlns=\"http://www.w3.org/2000/svg\" xmlns:xlink=\"http://www.w3.org/1999/xlink\" contentScriptType=\"application/ecmascript\" contentStyleType=\"text/css\" height=\"303px\" preserveAspectRatio=\"none\" style=\"width:518px;height:303px;\" version=\"1.1\" viewBox=\"0 0 518 303\" width=\"518px\" zoomAndPan=\"magnify\"><defs/><g><!--MD5=[fbc87193dbaf4d95561dea2c320d4a47]\n",
       "cluster E1--><a href=\"psysml:7332441d-5859-4b68-88e6-44e4d7acfbc9\" target=\"_top\" title=\"psysml:7332441d-5859-4b68-88e6-44e4d7acfbc9\" xlink:actuate=\"onRequest\" xlink:href=\"psysml:7332441d-5859-4b68-88e6-44e4d7acfbc9\" xlink:show=\"new\" xlink:title=\"psysml:7332441d-5859-4b68-88e6-44e4d7acfbc9\" xlink:type=\"simple\"><polygon fill=\"#FFFFFF\" points=\"16,6,117,6,124,28.2969,496,28.2969,496,291,16,291,16,6\" style=\"stroke: #000000; stroke-width: 1.5;\"/><line style=\"stroke: #000000; stroke-width: 1.5;\" x1=\"16\" x2=\"124\" y1=\"28.2969\" y2=\"28.2969\"/><text fill=\"#000000\" font-family=\"sans-serif\" font-size=\"14\" font-weight=\"bold\" lengthAdjust=\"spacingAndGlyphs\" textLength=\"95\" x=\"20\" y=\"20.9951\">CircularImport</text></a><!--MD5=[e4f7fae6ed58524ba242bb0b0d3be6b7]\n",
       "cluster E2--><a href=\"psysml:5f20ae7d-4d57-41a2-9907-55aa74d31ca3\" target=\"_top\" title=\"psysml:5f20ae7d-4d57-41a2-9907-55aa74d31ca3\" xlink:actuate=\"onRequest\" xlink:href=\"psysml:5f20ae7d-4d57-41a2-9907-55aa74d31ca3\" xlink:show=\"new\" xlink:title=\"psysml:5f20ae7d-4d57-41a2-9907-55aa74d31ca3\" xlink:type=\"simple\"><polygon fill=\"#FFFFFF\" points=\"333,170,357,170,364,192.2969,431,192.2969,431,267,333,267,333,170\" style=\"stroke: #000000; stroke-width: 1.5;\"/><line style=\"stroke: #000000; stroke-width: 1.5;\" x1=\"333\" x2=\"364\" y1=\"192.2969\" y2=\"192.2969\"/><text fill=\"#000000\" font-family=\"sans-serif\" font-size=\"14\" font-weight=\"bold\" lengthAdjust=\"spacingAndGlyphs\" textLength=\"18\" x=\"337\" y=\"184.9951\">P1</text></a><!--MD5=[f6df4d0ebaf0b5dfb2ced0ae5af7c670]\n",
       "cluster E4--><a href=\"psysml:ebcd3975-b264-4248-9466-34d42d3f68ce\" target=\"_top\" title=\"psysml:ebcd3975-b264-4248-9466-34d42d3f68ce\" xlink:actuate=\"onRequest\" xlink:href=\"psysml:ebcd3975-b264-4248-9466-34d42d3f68ce\" xlink:show=\"new\" xlink:title=\"psysml:ebcd3975-b264-4248-9466-34d42d3f68ce\" xlink:type=\"simple\"><polygon fill=\"#FFFFFF\" points=\"81,170,105,170,112,192.2969,179,192.2969,179,267,81,267,81,170\" style=\"stroke: #000000; stroke-width: 1.5;\"/><line style=\"stroke: #000000; stroke-width: 1.5;\" x1=\"81\" x2=\"112\" y1=\"192.2969\" y2=\"192.2969\"/><text fill=\"#000000\" font-family=\"sans-serif\" font-size=\"14\" font-weight=\"bold\" lengthAdjust=\"spacingAndGlyphs\" textLength=\"18\" x=\"85\" y=\"184.9951\">P2</text></a><!--MD5=[14e3b0961a2654348d326746436168a1]\n",
       "cluster E6--><a href=\"psysml:da6ad505-2daa-495a-83b8-d3ba9d2de3a4\" target=\"_top\" title=\"psysml:da6ad505-2daa-495a-83b8-d3ba9d2de3a4\" xlink:actuate=\"onRequest\" xlink:href=\"psysml:da6ad505-2daa-495a-83b8-d3ba9d2de3a4\" xlink:show=\"new\" xlink:title=\"psysml:da6ad505-2daa-495a-83b8-d3ba9d2de3a4\" xlink:type=\"simple\"><polygon fill=\"#FFFFFF\" points=\"268,49,314,49,321,71.2969,419,71.2969,419,146,268,146,268,49\" style=\"stroke: #000000; stroke-width: 1.5;\"/><line style=\"stroke: #000000; stroke-width: 1.5;\" x1=\"268\" x2=\"321\" y1=\"71.2969\" y2=\"71.2969\"/><text fill=\"#000000\" font-family=\"sans-serif\" font-size=\"14\" font-weight=\"bold\" lengthAdjust=\"spacingAndGlyphs\" textLength=\"40\" x=\"272\" y=\"63.9951\">Test1</text></a><!--MD5=[7f149f147074ac12df2cb0a7728a5fb0]\n",
       "cluster E9--><a href=\"psysml:b0babda1-ae00-488b-8e87-1a86d4c9a0c6\" target=\"_top\" title=\"psysml:b0babda1-ae00-488b-8e87-1a86d4c9a0c6\" xlink:actuate=\"onRequest\" xlink:href=\"psysml:b0babda1-ae00-488b-8e87-1a86d4c9a0c6\" xlink:show=\"new\" xlink:title=\"psysml:b0babda1-ae00-488b-8e87-1a86d4c9a0c6\" xlink:type=\"simple\"><polygon fill=\"#FFFFFF\" points=\"93,49,139,49,146,71.2969,244,71.2969,244,146,93,146,93,49\" style=\"stroke: #000000; stroke-width: 1.5;\"/><line style=\"stroke: #000000; stroke-width: 1.5;\" x1=\"93\" x2=\"146\" y1=\"71.2969\" y2=\"71.2969\"/><text fill=\"#000000\" font-family=\"sans-serif\" font-size=\"14\" font-weight=\"bold\" lengthAdjust=\"spacingAndGlyphs\" textLength=\"40\" x=\"97\" y=\"63.9951\">Test2</text></a><!--MD5=[49a0ec8f00dab7302a31f22d0f0fe584]\n",
       "class E12--><a href=\"psysml:be17b73a-3dde-44ce-ab8b-a0409ce39ee3\" target=\"_top\" title=\"psysml:be17b73a-3dde-44ce-ab8b-a0409ce39ee3\" xlink:actuate=\"onRequest\" xlink:href=\"psysml:be17b73a-3dde-44ce-ab8b-a0409ce39ee3\" xlink:show=\"new\" xlink:title=\"psysml:be17b73a-3dde-44ce-ab8b-a0409ce39ee3\" xlink:type=\"simple\"><rect fill=\"#FFFFFF\" height=\"45.9375\" id=\"E12\" rx=\"10\" ry=\"10\" style=\"stroke: #383838; stroke-width: 1.5;\" width=\"42\" x=\"438\" y=\"84\"/><text fill=\"#000000\" font-family=\"sans-serif\" font-size=\"12\" font-style=\"italic\" lengthAdjust=\"spacingAndGlyphs\" textLength=\"40\" x=\"439\" y=\"100.1387\">«part»</text><text fill=\"#000000\" font-family=\"sans-serif\" font-size=\"12\" lengthAdjust=\"spacingAndGlyphs\" textLength=\"22\" x=\"448\" y=\"114.1074\">x: A</text><line style=\"stroke: #383838; stroke-width: 1.5;\" x1=\"439\" x2=\"479\" y1=\"121.9375\" y2=\"121.9375\"/></a><!--MD5=[ee3c913d1a06f366521f9ef512b67efe]\n",
       "class E13--><a href=\"psysml:70775e2d-ada4-46b3-b3bb-1618b7e606cf\" target=\"_top\" title=\"psysml:70775e2d-ada4-46b3-b3bb-1618b7e606cf\" xlink:actuate=\"onRequest\" xlink:href=\"psysml:70775e2d-ada4-46b3-b3bb-1618b7e606cf\" xlink:show=\"new\" xlink:title=\"psysml:70775e2d-ada4-46b3-b3bb-1618b7e606cf\" xlink:type=\"simple\"><rect fill=\"#FFFFFF\" height=\"45.9375\" id=\"E13\" rx=\"10\" ry=\"10\" style=\"stroke: #383838; stroke-width: 1.5;\" width=\"42\" x=\"32\" y=\"84\"/><text fill=\"#000000\" font-family=\"sans-serif\" font-size=\"12\" font-style=\"italic\" lengthAdjust=\"spacingAndGlyphs\" textLength=\"40\" x=\"33\" y=\"100.1387\">«part»</text><text fill=\"#000000\" font-family=\"sans-serif\" font-size=\"12\" lengthAdjust=\"spacingAndGlyphs\" textLength=\"22\" x=\"42\" y=\"114.1074\">y: B</text><line style=\"stroke: #383838; stroke-width: 1.5;\" x1=\"33\" x2=\"73\" y1=\"121.9375\" y2=\"121.9375\"/></a><!--MD5=[09b614a08d8cba4a07c9adeb5e0fee81]\n",
       "class E3--><a href=\"psysml:a77b04ef-8587-44c9-8b7f-efa23f8b51b3\" target=\"_top\" title=\"psysml:a77b04ef-8587-44c9-8b7f-efa23f8b51b3\" xlink:actuate=\"onRequest\" xlink:href=\"psysml:a77b04ef-8587-44c9-8b7f-efa23f8b51b3\" xlink:show=\"new\" xlink:title=\"psysml:a77b04ef-8587-44c9-8b7f-efa23f8b51b3\" xlink:type=\"simple\"><rect fill=\"#FFFFFF\" height=\"45.9375\" id=\"E3\" style=\"stroke: #383838; stroke-width: 1.5;\" width=\"66\" x=\"349\" y=\"205\"/><text fill=\"#000000\" font-family=\"sans-serif\" font-size=\"12\" font-style=\"italic\" lengthAdjust=\"spacingAndGlyphs\" textLength=\"64\" x=\"350\" y=\"221.1387\">«part def»</text><text fill=\"#000000\" font-family=\"sans-serif\" font-size=\"12\" lengthAdjust=\"spacingAndGlyphs\" textLength=\"8\" x=\"378\" y=\"235.1074\">A</text><line style=\"stroke: #383838; stroke-width: 1.5;\" x1=\"350\" x2=\"414\" y1=\"242.9375\" y2=\"242.9375\"/></a><!--MD5=[270fce915f116d4de14055a7c1d9a0f3]\n",
       "class E5--><a href=\"psysml:0236a647-9823-419e-b974-acac8cdc5ece\" target=\"_top\" title=\"psysml:0236a647-9823-419e-b974-acac8cdc5ece\" xlink:actuate=\"onRequest\" xlink:href=\"psysml:0236a647-9823-419e-b974-acac8cdc5ece\" xlink:show=\"new\" xlink:title=\"psysml:0236a647-9823-419e-b974-acac8cdc5ece\" xlink:type=\"simple\"><rect fill=\"#FFFFFF\" height=\"45.9375\" id=\"E5\" style=\"stroke: #383838; stroke-width: 1.5;\" width=\"66\" x=\"97\" y=\"205\"/><text fill=\"#000000\" font-family=\"sans-serif\" font-size=\"12\" font-style=\"italic\" lengthAdjust=\"spacingAndGlyphs\" textLength=\"64\" x=\"98\" y=\"221.1387\">«part def»</text><text fill=\"#000000\" font-family=\"sans-serif\" font-size=\"12\" lengthAdjust=\"spacingAndGlyphs\" textLength=\"8\" x=\"126\" y=\"235.1074\">B</text><line style=\"stroke: #383838; stroke-width: 1.5;\" x1=\"98\" x2=\"162\" y1=\"242.9375\" y2=\"242.9375\"/></a><!--MD5=[2156ba9850f5573cc1fc38a6a4b2f02b]\n",
       "class E7--><a href=\"psysml:d9c30419-fa03-4224-9f9b-cc52ece95c03\" target=\"_top\" title=\"psysml:d9c30419-fa03-4224-9f9b-cc52ece95c03\" xlink:actuate=\"onRequest\" xlink:href=\"psysml:d9c30419-fa03-4224-9f9b-cc52ece95c03\" xlink:show=\"new\" xlink:title=\"psysml:d9c30419-fa03-4224-9f9b-cc52ece95c03\" xlink:type=\"simple\"><rect fill=\"#FFFFFF\" height=\"45.9375\" id=\"E7\" rx=\"10\" ry=\"10\" style=\"stroke: #383838; stroke-width: 1.5;\" width=\"42\" x=\"361\" y=\"84\"/><text fill=\"#000000\" font-family=\"sans-serif\" font-size=\"12\" font-style=\"italic\" lengthAdjust=\"spacingAndGlyphs\" textLength=\"40\" x=\"362\" y=\"100.1387\">«part»</text><text fill=\"#000000\" font-family=\"sans-serif\" font-size=\"12\" lengthAdjust=\"spacingAndGlyphs\" textLength=\"22\" x=\"371\" y=\"114.1074\">x: A</text><line style=\"stroke: #383838; stroke-width: 1.5;\" x1=\"362\" x2=\"402\" y1=\"121.9375\" y2=\"121.9375\"/></a><!--MD5=[b9389687b975829384b498ac4b7476b2]\n",
       "class E8--><a href=\"psysml:32c0d6a2-b48f-4756-bec9-ba81426d308d\" target=\"_top\" title=\"psysml:32c0d6a2-b48f-4756-bec9-ba81426d308d\" xlink:actuate=\"onRequest\" xlink:href=\"psysml:32c0d6a2-b48f-4756-bec9-ba81426d308d\" xlink:show=\"new\" xlink:title=\"psysml:32c0d6a2-b48f-4756-bec9-ba81426d308d\" xlink:type=\"simple\"><rect fill=\"#FFFFFF\" height=\"45.9375\" id=\"E8\" rx=\"10\" ry=\"10\" style=\"stroke: #383838; stroke-width: 1.5;\" width=\"42\" x=\"284\" y=\"84\"/><text fill=\"#000000\" font-family=\"sans-serif\" font-size=\"12\" font-style=\"italic\" lengthAdjust=\"spacingAndGlyphs\" textLength=\"40\" x=\"285\" y=\"100.1387\">«part»</text><text fill=\"#000000\" font-family=\"sans-serif\" font-size=\"12\" lengthAdjust=\"spacingAndGlyphs\" textLength=\"22\" x=\"294\" y=\"114.1074\">y: B</text><line style=\"stroke: #383838; stroke-width: 1.5;\" x1=\"285\" x2=\"325\" y1=\"121.9375\" y2=\"121.9375\"/></a><!--MD5=[96f4274e9e20536e775497830990834d]\n",
       "class E10--><a href=\"psysml:4b1ceaae-3a33-4edd-a713-ae072a8ba794\" target=\"_top\" title=\"psysml:4b1ceaae-3a33-4edd-a713-ae072a8ba794\" xlink:actuate=\"onRequest\" xlink:href=\"psysml:4b1ceaae-3a33-4edd-a713-ae072a8ba794\" xlink:show=\"new\" xlink:title=\"psysml:4b1ceaae-3a33-4edd-a713-ae072a8ba794\" xlink:type=\"simple\"><rect fill=\"#FFFFFF\" height=\"45.9375\" id=\"E10\" rx=\"10\" ry=\"10\" style=\"stroke: #383838; stroke-width: 1.5;\" width=\"42\" x=\"186\" y=\"84\"/><text fill=\"#000000\" font-family=\"sans-serif\" font-size=\"12\" font-style=\"italic\" lengthAdjust=\"spacingAndGlyphs\" textLength=\"40\" x=\"187\" y=\"100.1387\">«part»</text><text fill=\"#000000\" font-family=\"sans-serif\" font-size=\"12\" lengthAdjust=\"spacingAndGlyphs\" textLength=\"22\" x=\"196\" y=\"114.1074\">x: A</text><line style=\"stroke: #383838; stroke-width: 1.5;\" x1=\"187\" x2=\"227\" y1=\"121.9375\" y2=\"121.9375\"/></a><!--MD5=[1dd1bfd58a279cf63c5f349dbc8fc6a1]\n",
       "class E11--><a href=\"psysml:8a3e0fcf-a1f5-42bd-9af7-3ab68d312f86\" target=\"_top\" title=\"psysml:8a3e0fcf-a1f5-42bd-9af7-3ab68d312f86\" xlink:actuate=\"onRequest\" xlink:href=\"psysml:8a3e0fcf-a1f5-42bd-9af7-3ab68d312f86\" xlink:show=\"new\" xlink:title=\"psysml:8a3e0fcf-a1f5-42bd-9af7-3ab68d312f86\" xlink:type=\"simple\"><rect fill=\"#FFFFFF\" height=\"45.9375\" id=\"E11\" rx=\"10\" ry=\"10\" style=\"stroke: #383838; stroke-width: 1.5;\" width=\"42\" x=\"109\" y=\"84\"/><text fill=\"#000000\" font-family=\"sans-serif\" font-size=\"12\" font-style=\"italic\" lengthAdjust=\"spacingAndGlyphs\" textLength=\"40\" x=\"110\" y=\"100.1387\">«part»</text><text fill=\"#000000\" font-family=\"sans-serif\" font-size=\"12\" lengthAdjust=\"spacingAndGlyphs\" textLength=\"22\" x=\"119\" y=\"114.1074\">y: B</text><line style=\"stroke: #383838; stroke-width: 1.5;\" x1=\"110\" x2=\"150\" y1=\"121.9375\" y2=\"121.9375\"/></a><!--MD5=[14ccda38c055a5c0da953d572bc50960]\n",
       "link E7 to E3--><a href=\"psysml:520b462f-0086-4fa2-a8c7-c457cfb393b0\" target=\"_top\" title=\"psysml:520b462f-0086-4fa2-a8c7-c457cfb393b0\" xlink:actuate=\"onRequest\" xlink:href=\"psysml:520b462f-0086-4fa2-a8c7-c457cfb393b0\" xlink:show=\"new\" xlink:title=\"psysml:520b462f-0086-4fa2-a8c7-c457cfb393b0\" xlink:type=\"simple\"><path d=\"M382,130.1 C382,145.37 382,166.16 382,184.57 \" fill=\"none\" id=\"E7-&gt;E3\" style=\"stroke: #383838; stroke-width: 1.0;\"/><polygon fill=\"#FFFFFF\" points=\"382,204.61,375,185.61,389,185.61,382,204.61\" style=\"stroke: #383838; stroke-width: 1.0;\"/><ellipse cx=\"377\" cy=\"179.91\" fill=\"#383838\" rx=\"2\" ry=\"2\" style=\"stroke: #383838; stroke-width: 1.0;\"/><ellipse cx=\"387\" cy=\"179.91\" fill=\"#383838\" rx=\"2\" ry=\"2\" style=\"stroke: #383838; stroke-width: 1.0;\"/></a><!--MD5=[1ccb2481ffa92f8d51a74ee30c51832a]\n",
       "link E8 to E5--><a href=\"psysml:7aecf3a3-7124-43a8-804d-679627dba63d\" target=\"_top\" title=\"psysml:7aecf3a3-7124-43a8-804d-679627dba63d\" xlink:actuate=\"onRequest\" xlink:href=\"psysml:7aecf3a3-7124-43a8-804d-679627dba63d\" xlink:show=\"new\" xlink:title=\"psysml:7aecf3a3-7124-43a8-804d-679627dba63d\" xlink:type=\"simple\"><path d=\"M283.84,124.59 C272.23,133.52 257.5,144.61 244,154 C223.51,168.25 200.41,183.24 180.38,195.91 \" fill=\"none\" id=\"E8-&gt;E5\" style=\"stroke: #383838; stroke-width: 1.0;\"/><polygon fill=\"#FFFFFF\" points=\"163.36,206.57,175.7353,190.5434,183.175,202.403,163.36,206.57\" style=\"stroke: #383838; stroke-width: 1.0;\"/><ellipse cx=\"181.6267\" cy=\"189.2086\" fill=\"#383838\" rx=\"2\" ry=\"2\" style=\"stroke: #383838; stroke-width: 1.0;\"/><ellipse cx=\"186.9408\" cy=\"197.6797\" fill=\"#383838\" rx=\"2\" ry=\"2\" style=\"stroke: #383838; stroke-width: 1.0;\"/></a><!--MD5=[feeac5eb423634930294aa81f2d25a4c]\n",
       "link E10 to E3--><a href=\"psysml:fd0acd65-b864-4a8e-8ff2-cbce99549eac\" target=\"_top\" title=\"psysml:fd0acd65-b864-4a8e-8ff2-cbce99549eac\" xlink:actuate=\"onRequest\" xlink:href=\"psysml:fd0acd65-b864-4a8e-8ff2-cbce99549eac\" xlink:show=\"new\" xlink:title=\"psysml:fd0acd65-b864-4a8e-8ff2-cbce99549eac\" xlink:type=\"simple\"><path d=\"M228.16,124.59 C239.77,133.52 254.5,144.61 268,154 C288.49,168.25 311.59,183.24 331.62,195.91 \" fill=\"none\" id=\"E10-&gt;E3\" style=\"stroke: #383838; stroke-width: 1.0;\"/><polygon fill=\"#FFFFFF\" points=\"348.64,206.57,328.825,202.403,336.2647,190.5434,348.64,206.57\" style=\"stroke: #383838; stroke-width: 1.0;\"/><ellipse cx=\"325.0592\" cy=\"197.6797\" fill=\"#383838\" rx=\"2\" ry=\"2\" style=\"stroke: #383838; stroke-width: 1.0;\"/><ellipse cx=\"330.3733\" cy=\"189.2086\" fill=\"#383838\" rx=\"2\" ry=\"2\" style=\"stroke: #383838; stroke-width: 1.0;\"/></a><!--MD5=[07b77f6f309248d16187045709d1c26e]\n",
       "link E11 to E5--><a href=\"psysml:442cb8f2-ee4b-4dfa-8164-f495024e2707\" target=\"_top\" title=\"psysml:442cb8f2-ee4b-4dfa-8164-f495024e2707\" xlink:actuate=\"onRequest\" xlink:href=\"psysml:442cb8f2-ee4b-4dfa-8164-f495024e2707\" xlink:show=\"new\" xlink:title=\"psysml:442cb8f2-ee4b-4dfa-8164-f495024e2707\" xlink:type=\"simple\"><path d=\"M130,130.1 C130,145.37 130,166.16 130,184.57 \" fill=\"none\" id=\"E11-&gt;E5\" style=\"stroke: #383838; stroke-width: 1.0;\"/><polygon fill=\"#FFFFFF\" points=\"130,204.61,123,185.61,137,185.61,130,204.61\" style=\"stroke: #383838; stroke-width: 1.0;\"/><ellipse cx=\"125\" cy=\"179.91\" fill=\"#383838\" rx=\"2\" ry=\"2\" style=\"stroke: #383838; stroke-width: 1.0;\"/><ellipse cx=\"135\" cy=\"179.91\" fill=\"#383838\" rx=\"2\" ry=\"2\" style=\"stroke: #383838; stroke-width: 1.0;\"/></a><!--MD5=[39f41a0e550fb3d73b4d8135617e30a2]\n",
       "link E12 to E3--><a href=\"psysml:fab56a21-03ff-446d-9dd1-385c5373a3f2\" target=\"_top\" title=\"psysml:fab56a21-03ff-446d-9dd1-385c5373a3f2\" xlink:actuate=\"onRequest\" xlink:href=\"psysml:fab56a21-03ff-446d-9dd1-385c5373a3f2\" xlink:show=\"new\" xlink:title=\"psysml:fab56a21-03ff-446d-9dd1-385c5373a3f2\" xlink:type=\"simple\"><path d=\"M444.7,130.1 C434.28,146.2 419.89,168.44 407.53,187.55 \" fill=\"none\" id=\"E12-&gt;E3\" style=\"stroke: #383838; stroke-width: 1.0;\"/><polygon fill=\"#FFFFFF\" points=\"396.49,204.61,400.9313,184.8546,412.6866,192.4581,396.49,204.61\" style=\"stroke: #383838; stroke-width: 1.0;\"/><ellipse cx=\"405.7063\" cy=\"181.1547\" fill=\"#383838\" rx=\"2\" ry=\"2\" style=\"stroke: #383838; stroke-width: 1.0;\"/><ellipse cx=\"414.103\" cy=\"186.5858\" fill=\"#383838\" rx=\"2\" ry=\"2\" style=\"stroke: #383838; stroke-width: 1.0;\"/></a><!--MD5=[066b2d8af59fea80ccdb3d54ad5c1091]\n",
       "link E13 to E5--><a href=\"psysml:5cad6703-6f19-4c46-9c46-92acb368aec7\" target=\"_top\" title=\"psysml:5cad6703-6f19-4c46-9c46-92acb368aec7\" xlink:actuate=\"onRequest\" xlink:href=\"psysml:5cad6703-6f19-4c46-9c46-92acb368aec7\" xlink:show=\"new\" xlink:title=\"psysml:5cad6703-6f19-4c46-9c46-92acb368aec7\" xlink:type=\"simple\"><path d=\"M67.3,130.1 C77.72,146.2 92.11,168.44 104.47,187.55 \" fill=\"none\" id=\"E13-&gt;E5\" style=\"stroke: #383838; stroke-width: 1.0;\"/><polygon fill=\"#FFFFFF\" points=\"115.51,204.61,99.3134,192.4581,111.0687,184.8546,115.51,204.61\" style=\"stroke: #383838; stroke-width: 1.0;\"/><ellipse cx=\"97.897\" cy=\"186.5858\" fill=\"#383838\" rx=\"2\" ry=\"2\" style=\"stroke: #383838; stroke-width: 1.0;\"/><ellipse cx=\"106.2937\" cy=\"181.1547\" fill=\"#383838\" rx=\"2\" ry=\"2\" style=\"stroke: #383838; stroke-width: 1.0;\"/></a><!--MD5=[534485f3ba41e87c456031df979328cc]\n",
       "@startuml\r\n",
       "skinparam monochrome true\r\n",
       "skinparam classbackgroundcolor white\r\n",
       "skinparam shadowing false\r\n",
       "skinparam wrapWidth 300\r\n",
       "hide circle\r\n",
       "\r\n",
       "package \"CircularImport\" as E1  [[psysml:7332441d-5859-4b68-88e6-44e4d7acfbc9 ]]  {\r\n",
       "package \"P1\" as E2  [[psysml:5f20ae7d-4d57-41a2-9907-55aa74d31ca3 ]]  {\r\n",
       "comp def \"A\" as E3  <<(T,blue) part def>> [[psysml:a77b04ef-8587-44c9-8b7f-efa23f8b51b3 ]] {\r\n",
       "}\r\n",
       "}\r\n",
       "package \"P2\" as E4  [[psysml:ebcd3975-b264-4248-9466-34d42d3f68ce ]]  {\r\n",
       "comp def \"B\" as E5  <<(T,blue) part def>> [[psysml:0236a647-9823-419e-b974-acac8cdc5ece ]] {\r\n",
       "}\r\n",
       "}\r\n",
       "package \"Test1\" as E6  [[psysml:da6ad505-2daa-495a-83b8-d3ba9d2de3a4 ]]  {\r\n",
       "comp usage \"x: A\" as E7  <<(T,blue) part>> [[psysml:d9c30419-fa03-4224-9f9b-cc52ece95c03 ]] {\r\n",
       "}\r\n",
       "comp usage \"y: B\" as E8  <<(T,blue) part>> [[psysml:32c0d6a2-b48f-4756-bec9-ba81426d308d ]] {\r\n",
       "}\r\n",
       "}\r\n",
       "package \"Test2\" as E9  [[psysml:b0babda1-ae00-488b-8e87-1a86d4c9a0c6 ]]  {\r\n",
       "comp usage \"x: A\" as E10  <<(T,blue) part>> [[psysml:4b1ceaae-3a33-4edd-a713-ae072a8ba794 ]] {\r\n",
       "}\r\n",
       "comp usage \"y: B\" as E11  <<(T,blue) part>> [[psysml:8a3e0fcf-a1f5-42bd-9af7-3ab68d312f86 ]] {\r\n",
       "}\r\n",
       "}\r\n",
       "comp usage \"x: A\" as E12  <<(T,blue) part>> [[psysml:be17b73a-3dde-44ce-ab8b-a0409ce39ee3 ]] {\r\n",
       "}\r\n",
       "comp usage \"y: B\" as E13  <<(T,blue) part>> [[psysml:70775e2d-ada4-46b3-b3bb-1618b7e606cf ]] {\r\n",
       "}\r\n",
       "}\r\n",
       "E7 - -:|> E3 [[psysml:520b462f-0086-4fa2-a8c7-c457cfb393b0 ]] \r\n",
       "E8 - -:|> E5 [[psysml:7aecf3a3-7124-43a8-804d-679627dba63d ]] \r\n",
       "E10 - -:|> E3 [[psysml:fd0acd65-b864-4a8e-8ff2-cbce99549eac ]] \r\n",
       "E11 - -:|> E5 [[psysml:442cb8f2-ee4b-4dfa-8164-f495024e2707 ]] \r\n",
       "E12 - -:|> E3 [[psysml:fab56a21-03ff-446d-9dd1-385c5373a3f2 ]] \r\n",
       "E13 - -:|> E5 [[psysml:5cad6703-6f19-4c46-9c46-92acb368aec7 ]] \r\n",
       "@enduml\r\n",
       "\n",
       "PlantUML version 1.2020.13(Sat Jun 13 12:26:38 UTC 2020)\n",
       "(EPL source distribution)\n",
       "Java Runtime: OpenJDK Runtime Environment\n",
       "JVM: OpenJDK 64-Bit Server VM\n",
       "Default Encoding: UTF-8\n",
       "Language: en\n",
       "Country: null\n",
       "--></g></svg>"
      ]
     },
     "execution_count": 37,
     "metadata": {},
     "output_type": "execute_result"
    }
   ],
   "source": [
    "%viz --style=\"DEFAULT\" --view=\"Default\" \"CircularImport\""
   ]
  },
  {
   "cell_type": "code",
   "execution_count": 38,
   "id": "6a908743",
   "metadata": {
    "execution": {
     "iopub.execute_input": "2021-09-27T07:16:37.030069Z",
     "iopub.status.busy": "2021-09-27T07:16:37.029648Z",
     "iopub.status.idle": "2021-09-27T07:16:37.066472Z",
     "shell.execute_reply": "2021-09-27T07:16:37.066106Z"
    }
   },
   "outputs": [
    {
     "data": {
      "image/svg+xml": [
       "<?xml version=\"1.0\" encoding=\"UTF-8\" standalone=\"no\"?><svg xmlns=\"http://www.w3.org/2000/svg\" xmlns:xlink=\"http://www.w3.org/1999/xlink\" contentScriptType=\"application/ecmascript\" contentStyleType=\"text/css\" height=\"303px\" preserveAspectRatio=\"none\" style=\"width:518px;height:303px;\" version=\"1.1\" viewBox=\"0 0 518 303\" width=\"518px\" zoomAndPan=\"magnify\"><defs/><g><!--MD5=[fbc87193dbaf4d95561dea2c320d4a47]\n",
       "cluster E1--><a href=\"psysml:7332441d-5859-4b68-88e6-44e4d7acfbc9\" target=\"_top\" title=\"psysml:7332441d-5859-4b68-88e6-44e4d7acfbc9\" xlink:actuate=\"onRequest\" xlink:href=\"psysml:7332441d-5859-4b68-88e6-44e4d7acfbc9\" xlink:show=\"new\" xlink:title=\"psysml:7332441d-5859-4b68-88e6-44e4d7acfbc9\" xlink:type=\"simple\"><polygon fill=\"#FFFFFF\" points=\"16,6,117,6,124,28.2969,496,28.2969,496,291,16,291,16,6\" style=\"stroke: #000000; stroke-width: 1.5;\"/><line style=\"stroke: #000000; stroke-width: 1.5;\" x1=\"16\" x2=\"124\" y1=\"28.2969\" y2=\"28.2969\"/><text fill=\"#000000\" font-family=\"sans-serif\" font-size=\"14\" font-weight=\"bold\" lengthAdjust=\"spacingAndGlyphs\" textLength=\"95\" x=\"20\" y=\"20.9951\">CircularImport</text></a><!--MD5=[e4f7fae6ed58524ba242bb0b0d3be6b7]\n",
       "cluster E2--><a href=\"psysml:5f20ae7d-4d57-41a2-9907-55aa74d31ca3\" target=\"_top\" title=\"psysml:5f20ae7d-4d57-41a2-9907-55aa74d31ca3\" xlink:actuate=\"onRequest\" xlink:href=\"psysml:5f20ae7d-4d57-41a2-9907-55aa74d31ca3\" xlink:show=\"new\" xlink:title=\"psysml:5f20ae7d-4d57-41a2-9907-55aa74d31ca3\" xlink:type=\"simple\"><polygon fill=\"#FFFFFF\" points=\"333,170,357,170,364,192.2969,431,192.2969,431,267,333,267,333,170\" style=\"stroke: #000000; stroke-width: 1.5;\"/><line style=\"stroke: #000000; stroke-width: 1.5;\" x1=\"333\" x2=\"364\" y1=\"192.2969\" y2=\"192.2969\"/><text fill=\"#000000\" font-family=\"sans-serif\" font-size=\"14\" font-weight=\"bold\" lengthAdjust=\"spacingAndGlyphs\" textLength=\"18\" x=\"337\" y=\"184.9951\">P1</text></a><!--MD5=[f6df4d0ebaf0b5dfb2ced0ae5af7c670]\n",
       "cluster E4--><a href=\"psysml:ebcd3975-b264-4248-9466-34d42d3f68ce\" target=\"_top\" title=\"psysml:ebcd3975-b264-4248-9466-34d42d3f68ce\" xlink:actuate=\"onRequest\" xlink:href=\"psysml:ebcd3975-b264-4248-9466-34d42d3f68ce\" xlink:show=\"new\" xlink:title=\"psysml:ebcd3975-b264-4248-9466-34d42d3f68ce\" xlink:type=\"simple\"><polygon fill=\"#FFFFFF\" points=\"81,170,105,170,112,192.2969,179,192.2969,179,267,81,267,81,170\" style=\"stroke: #000000; stroke-width: 1.5;\"/><line style=\"stroke: #000000; stroke-width: 1.5;\" x1=\"81\" x2=\"112\" y1=\"192.2969\" y2=\"192.2969\"/><text fill=\"#000000\" font-family=\"sans-serif\" font-size=\"14\" font-weight=\"bold\" lengthAdjust=\"spacingAndGlyphs\" textLength=\"18\" x=\"85\" y=\"184.9951\">P2</text></a><!--MD5=[14e3b0961a2654348d326746436168a1]\n",
       "cluster E6--><a href=\"psysml:da6ad505-2daa-495a-83b8-d3ba9d2de3a4\" target=\"_top\" title=\"psysml:da6ad505-2daa-495a-83b8-d3ba9d2de3a4\" xlink:actuate=\"onRequest\" xlink:href=\"psysml:da6ad505-2daa-495a-83b8-d3ba9d2de3a4\" xlink:show=\"new\" xlink:title=\"psysml:da6ad505-2daa-495a-83b8-d3ba9d2de3a4\" xlink:type=\"simple\"><polygon fill=\"#FFFFFF\" points=\"268,49,314,49,321,71.2969,419,71.2969,419,146,268,146,268,49\" style=\"stroke: #000000; stroke-width: 1.5;\"/><line style=\"stroke: #000000; stroke-width: 1.5;\" x1=\"268\" x2=\"321\" y1=\"71.2969\" y2=\"71.2969\"/><text fill=\"#000000\" font-family=\"sans-serif\" font-size=\"14\" font-weight=\"bold\" lengthAdjust=\"spacingAndGlyphs\" textLength=\"40\" x=\"272\" y=\"63.9951\">Test1</text></a><!--MD5=[7f149f147074ac12df2cb0a7728a5fb0]\n",
       "cluster E9--><a href=\"psysml:b0babda1-ae00-488b-8e87-1a86d4c9a0c6\" target=\"_top\" title=\"psysml:b0babda1-ae00-488b-8e87-1a86d4c9a0c6\" xlink:actuate=\"onRequest\" xlink:href=\"psysml:b0babda1-ae00-488b-8e87-1a86d4c9a0c6\" xlink:show=\"new\" xlink:title=\"psysml:b0babda1-ae00-488b-8e87-1a86d4c9a0c6\" xlink:type=\"simple\"><polygon fill=\"#FFFFFF\" points=\"93,49,139,49,146,71.2969,244,71.2969,244,146,93,146,93,49\" style=\"stroke: #000000; stroke-width: 1.5;\"/><line style=\"stroke: #000000; stroke-width: 1.5;\" x1=\"93\" x2=\"146\" y1=\"71.2969\" y2=\"71.2969\"/><text fill=\"#000000\" font-family=\"sans-serif\" font-size=\"14\" font-weight=\"bold\" lengthAdjust=\"spacingAndGlyphs\" textLength=\"40\" x=\"97\" y=\"63.9951\">Test2</text></a><!--MD5=[49a0ec8f00dab7302a31f22d0f0fe584]\n",
       "class E12--><a href=\"psysml:be17b73a-3dde-44ce-ab8b-a0409ce39ee3\" target=\"_top\" title=\"psysml:be17b73a-3dde-44ce-ab8b-a0409ce39ee3\" xlink:actuate=\"onRequest\" xlink:href=\"psysml:be17b73a-3dde-44ce-ab8b-a0409ce39ee3\" xlink:show=\"new\" xlink:title=\"psysml:be17b73a-3dde-44ce-ab8b-a0409ce39ee3\" xlink:type=\"simple\"><rect fill=\"#FFFFFF\" height=\"45.9375\" id=\"E12\" rx=\"10\" ry=\"10\" style=\"stroke: #383838; stroke-width: 1.5;\" width=\"42\" x=\"438\" y=\"84\"/><text fill=\"#000000\" font-family=\"sans-serif\" font-size=\"12\" font-style=\"italic\" lengthAdjust=\"spacingAndGlyphs\" textLength=\"40\" x=\"439\" y=\"100.1387\">«part»</text><text fill=\"#000000\" font-family=\"sans-serif\" font-size=\"12\" lengthAdjust=\"spacingAndGlyphs\" textLength=\"22\" x=\"448\" y=\"114.1074\">x: A</text><line style=\"stroke: #383838; stroke-width: 1.5;\" x1=\"439\" x2=\"479\" y1=\"121.9375\" y2=\"121.9375\"/></a><!--MD5=[ee3c913d1a06f366521f9ef512b67efe]\n",
       "class E13--><a href=\"psysml:70775e2d-ada4-46b3-b3bb-1618b7e606cf\" target=\"_top\" title=\"psysml:70775e2d-ada4-46b3-b3bb-1618b7e606cf\" xlink:actuate=\"onRequest\" xlink:href=\"psysml:70775e2d-ada4-46b3-b3bb-1618b7e606cf\" xlink:show=\"new\" xlink:title=\"psysml:70775e2d-ada4-46b3-b3bb-1618b7e606cf\" xlink:type=\"simple\"><rect fill=\"#FFFFFF\" height=\"45.9375\" id=\"E13\" rx=\"10\" ry=\"10\" style=\"stroke: #383838; stroke-width: 1.5;\" width=\"42\" x=\"32\" y=\"84\"/><text fill=\"#000000\" font-family=\"sans-serif\" font-size=\"12\" font-style=\"italic\" lengthAdjust=\"spacingAndGlyphs\" textLength=\"40\" x=\"33\" y=\"100.1387\">«part»</text><text fill=\"#000000\" font-family=\"sans-serif\" font-size=\"12\" lengthAdjust=\"spacingAndGlyphs\" textLength=\"22\" x=\"42\" y=\"114.1074\">y: B</text><line style=\"stroke: #383838; stroke-width: 1.5;\" x1=\"33\" x2=\"73\" y1=\"121.9375\" y2=\"121.9375\"/></a><!--MD5=[09b614a08d8cba4a07c9adeb5e0fee81]\n",
       "class E3--><a href=\"psysml:a77b04ef-8587-44c9-8b7f-efa23f8b51b3\" target=\"_top\" title=\"psysml:a77b04ef-8587-44c9-8b7f-efa23f8b51b3\" xlink:actuate=\"onRequest\" xlink:href=\"psysml:a77b04ef-8587-44c9-8b7f-efa23f8b51b3\" xlink:show=\"new\" xlink:title=\"psysml:a77b04ef-8587-44c9-8b7f-efa23f8b51b3\" xlink:type=\"simple\"><rect fill=\"#FFFFFF\" height=\"45.9375\" id=\"E3\" style=\"stroke: #383838; stroke-width: 1.5;\" width=\"66\" x=\"349\" y=\"205\"/><text fill=\"#000000\" font-family=\"sans-serif\" font-size=\"12\" font-style=\"italic\" lengthAdjust=\"spacingAndGlyphs\" textLength=\"64\" x=\"350\" y=\"221.1387\">«part def»</text><text fill=\"#000000\" font-family=\"sans-serif\" font-size=\"12\" lengthAdjust=\"spacingAndGlyphs\" textLength=\"8\" x=\"378\" y=\"235.1074\">A</text><line style=\"stroke: #383838; stroke-width: 1.5;\" x1=\"350\" x2=\"414\" y1=\"242.9375\" y2=\"242.9375\"/></a><!--MD5=[270fce915f116d4de14055a7c1d9a0f3]\n",
       "class E5--><a href=\"psysml:0236a647-9823-419e-b974-acac8cdc5ece\" target=\"_top\" title=\"psysml:0236a647-9823-419e-b974-acac8cdc5ece\" xlink:actuate=\"onRequest\" xlink:href=\"psysml:0236a647-9823-419e-b974-acac8cdc5ece\" xlink:show=\"new\" xlink:title=\"psysml:0236a647-9823-419e-b974-acac8cdc5ece\" xlink:type=\"simple\"><rect fill=\"#FFFFFF\" height=\"45.9375\" id=\"E5\" style=\"stroke: #383838; stroke-width: 1.5;\" width=\"66\" x=\"97\" y=\"205\"/><text fill=\"#000000\" font-family=\"sans-serif\" font-size=\"12\" font-style=\"italic\" lengthAdjust=\"spacingAndGlyphs\" textLength=\"64\" x=\"98\" y=\"221.1387\">«part def»</text><text fill=\"#000000\" font-family=\"sans-serif\" font-size=\"12\" lengthAdjust=\"spacingAndGlyphs\" textLength=\"8\" x=\"126\" y=\"235.1074\">B</text><line style=\"stroke: #383838; stroke-width: 1.5;\" x1=\"98\" x2=\"162\" y1=\"242.9375\" y2=\"242.9375\"/></a><!--MD5=[2156ba9850f5573cc1fc38a6a4b2f02b]\n",
       "class E7--><a href=\"psysml:d9c30419-fa03-4224-9f9b-cc52ece95c03\" target=\"_top\" title=\"psysml:d9c30419-fa03-4224-9f9b-cc52ece95c03\" xlink:actuate=\"onRequest\" xlink:href=\"psysml:d9c30419-fa03-4224-9f9b-cc52ece95c03\" xlink:show=\"new\" xlink:title=\"psysml:d9c30419-fa03-4224-9f9b-cc52ece95c03\" xlink:type=\"simple\"><rect fill=\"#FFFFFF\" height=\"45.9375\" id=\"E7\" rx=\"10\" ry=\"10\" style=\"stroke: #383838; stroke-width: 1.5;\" width=\"42\" x=\"361\" y=\"84\"/><text fill=\"#000000\" font-family=\"sans-serif\" font-size=\"12\" font-style=\"italic\" lengthAdjust=\"spacingAndGlyphs\" textLength=\"40\" x=\"362\" y=\"100.1387\">«part»</text><text fill=\"#000000\" font-family=\"sans-serif\" font-size=\"12\" lengthAdjust=\"spacingAndGlyphs\" textLength=\"22\" x=\"371\" y=\"114.1074\">x: A</text><line style=\"stroke: #383838; stroke-width: 1.5;\" x1=\"362\" x2=\"402\" y1=\"121.9375\" y2=\"121.9375\"/></a><!--MD5=[b9389687b975829384b498ac4b7476b2]\n",
       "class E8--><a href=\"psysml:32c0d6a2-b48f-4756-bec9-ba81426d308d\" target=\"_top\" title=\"psysml:32c0d6a2-b48f-4756-bec9-ba81426d308d\" xlink:actuate=\"onRequest\" xlink:href=\"psysml:32c0d6a2-b48f-4756-bec9-ba81426d308d\" xlink:show=\"new\" xlink:title=\"psysml:32c0d6a2-b48f-4756-bec9-ba81426d308d\" xlink:type=\"simple\"><rect fill=\"#FFFFFF\" height=\"45.9375\" id=\"E8\" rx=\"10\" ry=\"10\" style=\"stroke: #383838; stroke-width: 1.5;\" width=\"42\" x=\"284\" y=\"84\"/><text fill=\"#000000\" font-family=\"sans-serif\" font-size=\"12\" font-style=\"italic\" lengthAdjust=\"spacingAndGlyphs\" textLength=\"40\" x=\"285\" y=\"100.1387\">«part»</text><text fill=\"#000000\" font-family=\"sans-serif\" font-size=\"12\" lengthAdjust=\"spacingAndGlyphs\" textLength=\"22\" x=\"294\" y=\"114.1074\">y: B</text><line style=\"stroke: #383838; stroke-width: 1.5;\" x1=\"285\" x2=\"325\" y1=\"121.9375\" y2=\"121.9375\"/></a><!--MD5=[96f4274e9e20536e775497830990834d]\n",
       "class E10--><a href=\"psysml:4b1ceaae-3a33-4edd-a713-ae072a8ba794\" target=\"_top\" title=\"psysml:4b1ceaae-3a33-4edd-a713-ae072a8ba794\" xlink:actuate=\"onRequest\" xlink:href=\"psysml:4b1ceaae-3a33-4edd-a713-ae072a8ba794\" xlink:show=\"new\" xlink:title=\"psysml:4b1ceaae-3a33-4edd-a713-ae072a8ba794\" xlink:type=\"simple\"><rect fill=\"#FFFFFF\" height=\"45.9375\" id=\"E10\" rx=\"10\" ry=\"10\" style=\"stroke: #383838; stroke-width: 1.5;\" width=\"42\" x=\"186\" y=\"84\"/><text fill=\"#000000\" font-family=\"sans-serif\" font-size=\"12\" font-style=\"italic\" lengthAdjust=\"spacingAndGlyphs\" textLength=\"40\" x=\"187\" y=\"100.1387\">«part»</text><text fill=\"#000000\" font-family=\"sans-serif\" font-size=\"12\" lengthAdjust=\"spacingAndGlyphs\" textLength=\"22\" x=\"196\" y=\"114.1074\">x: A</text><line style=\"stroke: #383838; stroke-width: 1.5;\" x1=\"187\" x2=\"227\" y1=\"121.9375\" y2=\"121.9375\"/></a><!--MD5=[1dd1bfd58a279cf63c5f349dbc8fc6a1]\n",
       "class E11--><a href=\"psysml:8a3e0fcf-a1f5-42bd-9af7-3ab68d312f86\" target=\"_top\" title=\"psysml:8a3e0fcf-a1f5-42bd-9af7-3ab68d312f86\" xlink:actuate=\"onRequest\" xlink:href=\"psysml:8a3e0fcf-a1f5-42bd-9af7-3ab68d312f86\" xlink:show=\"new\" xlink:title=\"psysml:8a3e0fcf-a1f5-42bd-9af7-3ab68d312f86\" xlink:type=\"simple\"><rect fill=\"#FFFFFF\" height=\"45.9375\" id=\"E11\" rx=\"10\" ry=\"10\" style=\"stroke: #383838; stroke-width: 1.5;\" width=\"42\" x=\"109\" y=\"84\"/><text fill=\"#000000\" font-family=\"sans-serif\" font-size=\"12\" font-style=\"italic\" lengthAdjust=\"spacingAndGlyphs\" textLength=\"40\" x=\"110\" y=\"100.1387\">«part»</text><text fill=\"#000000\" font-family=\"sans-serif\" font-size=\"12\" lengthAdjust=\"spacingAndGlyphs\" textLength=\"22\" x=\"119\" y=\"114.1074\">y: B</text><line style=\"stroke: #383838; stroke-width: 1.5;\" x1=\"110\" x2=\"150\" y1=\"121.9375\" y2=\"121.9375\"/></a><!--MD5=[14ccda38c055a5c0da953d572bc50960]\n",
       "link E7 to E3--><a href=\"psysml:520b462f-0086-4fa2-a8c7-c457cfb393b0\" target=\"_top\" title=\"psysml:520b462f-0086-4fa2-a8c7-c457cfb393b0\" xlink:actuate=\"onRequest\" xlink:href=\"psysml:520b462f-0086-4fa2-a8c7-c457cfb393b0\" xlink:show=\"new\" xlink:title=\"psysml:520b462f-0086-4fa2-a8c7-c457cfb393b0\" xlink:type=\"simple\"><path d=\"M382,130.1 C382,145.37 382,166.16 382,184.57 \" fill=\"none\" id=\"E7-&gt;E3\" style=\"stroke: #383838; stroke-width: 1.0;\"/><polygon fill=\"#FFFFFF\" points=\"382,204.61,375,185.61,389,185.61,382,204.61\" style=\"stroke: #383838; stroke-width: 1.0;\"/><ellipse cx=\"377\" cy=\"179.91\" fill=\"#383838\" rx=\"2\" ry=\"2\" style=\"stroke: #383838; stroke-width: 1.0;\"/><ellipse cx=\"387\" cy=\"179.91\" fill=\"#383838\" rx=\"2\" ry=\"2\" style=\"stroke: #383838; stroke-width: 1.0;\"/></a><!--MD5=[1ccb2481ffa92f8d51a74ee30c51832a]\n",
       "link E8 to E5--><a href=\"psysml:7aecf3a3-7124-43a8-804d-679627dba63d\" target=\"_top\" title=\"psysml:7aecf3a3-7124-43a8-804d-679627dba63d\" xlink:actuate=\"onRequest\" xlink:href=\"psysml:7aecf3a3-7124-43a8-804d-679627dba63d\" xlink:show=\"new\" xlink:title=\"psysml:7aecf3a3-7124-43a8-804d-679627dba63d\" xlink:type=\"simple\"><path d=\"M283.84,124.59 C272.23,133.52 257.5,144.61 244,154 C223.51,168.25 200.41,183.24 180.38,195.91 \" fill=\"none\" id=\"E8-&gt;E5\" style=\"stroke: #383838; stroke-width: 1.0;\"/><polygon fill=\"#FFFFFF\" points=\"163.36,206.57,175.7353,190.5434,183.175,202.403,163.36,206.57\" style=\"stroke: #383838; stroke-width: 1.0;\"/><ellipse cx=\"181.6267\" cy=\"189.2086\" fill=\"#383838\" rx=\"2\" ry=\"2\" style=\"stroke: #383838; stroke-width: 1.0;\"/><ellipse cx=\"186.9408\" cy=\"197.6797\" fill=\"#383838\" rx=\"2\" ry=\"2\" style=\"stroke: #383838; stroke-width: 1.0;\"/></a><!--MD5=[feeac5eb423634930294aa81f2d25a4c]\n",
       "link E10 to E3--><a href=\"psysml:fd0acd65-b864-4a8e-8ff2-cbce99549eac\" target=\"_top\" title=\"psysml:fd0acd65-b864-4a8e-8ff2-cbce99549eac\" xlink:actuate=\"onRequest\" xlink:href=\"psysml:fd0acd65-b864-4a8e-8ff2-cbce99549eac\" xlink:show=\"new\" xlink:title=\"psysml:fd0acd65-b864-4a8e-8ff2-cbce99549eac\" xlink:type=\"simple\"><path d=\"M228.16,124.59 C239.77,133.52 254.5,144.61 268,154 C288.49,168.25 311.59,183.24 331.62,195.91 \" fill=\"none\" id=\"E10-&gt;E3\" style=\"stroke: #383838; stroke-width: 1.0;\"/><polygon fill=\"#FFFFFF\" points=\"348.64,206.57,328.825,202.403,336.2647,190.5434,348.64,206.57\" style=\"stroke: #383838; stroke-width: 1.0;\"/><ellipse cx=\"325.0592\" cy=\"197.6797\" fill=\"#383838\" rx=\"2\" ry=\"2\" style=\"stroke: #383838; stroke-width: 1.0;\"/><ellipse cx=\"330.3733\" cy=\"189.2086\" fill=\"#383838\" rx=\"2\" ry=\"2\" style=\"stroke: #383838; stroke-width: 1.0;\"/></a><!--MD5=[07b77f6f309248d16187045709d1c26e]\n",
       "link E11 to E5--><a href=\"psysml:442cb8f2-ee4b-4dfa-8164-f495024e2707\" target=\"_top\" title=\"psysml:442cb8f2-ee4b-4dfa-8164-f495024e2707\" xlink:actuate=\"onRequest\" xlink:href=\"psysml:442cb8f2-ee4b-4dfa-8164-f495024e2707\" xlink:show=\"new\" xlink:title=\"psysml:442cb8f2-ee4b-4dfa-8164-f495024e2707\" xlink:type=\"simple\"><path d=\"M130,130.1 C130,145.37 130,166.16 130,184.57 \" fill=\"none\" id=\"E11-&gt;E5\" style=\"stroke: #383838; stroke-width: 1.0;\"/><polygon fill=\"#FFFFFF\" points=\"130,204.61,123,185.61,137,185.61,130,204.61\" style=\"stroke: #383838; stroke-width: 1.0;\"/><ellipse cx=\"125\" cy=\"179.91\" fill=\"#383838\" rx=\"2\" ry=\"2\" style=\"stroke: #383838; stroke-width: 1.0;\"/><ellipse cx=\"135\" cy=\"179.91\" fill=\"#383838\" rx=\"2\" ry=\"2\" style=\"stroke: #383838; stroke-width: 1.0;\"/></a><!--MD5=[39f41a0e550fb3d73b4d8135617e30a2]\n",
       "link E12 to E3--><a href=\"psysml:fab56a21-03ff-446d-9dd1-385c5373a3f2\" target=\"_top\" title=\"psysml:fab56a21-03ff-446d-9dd1-385c5373a3f2\" xlink:actuate=\"onRequest\" xlink:href=\"psysml:fab56a21-03ff-446d-9dd1-385c5373a3f2\" xlink:show=\"new\" xlink:title=\"psysml:fab56a21-03ff-446d-9dd1-385c5373a3f2\" xlink:type=\"simple\"><path d=\"M444.7,130.1 C434.28,146.2 419.89,168.44 407.53,187.55 \" fill=\"none\" id=\"E12-&gt;E3\" style=\"stroke: #383838; stroke-width: 1.0;\"/><polygon fill=\"#FFFFFF\" points=\"396.49,204.61,400.9313,184.8546,412.6866,192.4581,396.49,204.61\" style=\"stroke: #383838; stroke-width: 1.0;\"/><ellipse cx=\"405.7063\" cy=\"181.1547\" fill=\"#383838\" rx=\"2\" ry=\"2\" style=\"stroke: #383838; stroke-width: 1.0;\"/><ellipse cx=\"414.103\" cy=\"186.5858\" fill=\"#383838\" rx=\"2\" ry=\"2\" style=\"stroke: #383838; stroke-width: 1.0;\"/></a><!--MD5=[066b2d8af59fea80ccdb3d54ad5c1091]\n",
       "link E13 to E5--><a href=\"psysml:5cad6703-6f19-4c46-9c46-92acb368aec7\" target=\"_top\" title=\"psysml:5cad6703-6f19-4c46-9c46-92acb368aec7\" xlink:actuate=\"onRequest\" xlink:href=\"psysml:5cad6703-6f19-4c46-9c46-92acb368aec7\" xlink:show=\"new\" xlink:title=\"psysml:5cad6703-6f19-4c46-9c46-92acb368aec7\" xlink:type=\"simple\"><path d=\"M67.3,130.1 C77.72,146.2 92.11,168.44 104.47,187.55 \" fill=\"none\" id=\"E13-&gt;E5\" style=\"stroke: #383838; stroke-width: 1.0;\"/><polygon fill=\"#FFFFFF\" points=\"115.51,204.61,99.3134,192.4581,111.0687,184.8546,115.51,204.61\" style=\"stroke: #383838; stroke-width: 1.0;\"/><ellipse cx=\"97.897\" cy=\"186.5858\" fill=\"#383838\" rx=\"2\" ry=\"2\" style=\"stroke: #383838; stroke-width: 1.0;\"/><ellipse cx=\"106.2937\" cy=\"181.1547\" fill=\"#383838\" rx=\"2\" ry=\"2\" style=\"stroke: #383838; stroke-width: 1.0;\"/></a><!--MD5=[534485f3ba41e87c456031df979328cc]\n",
       "@startuml\r\n",
       "skinparam monochrome true\r\n",
       "skinparam classbackgroundcolor white\r\n",
       "skinparam shadowing false\r\n",
       "skinparam wrapWidth 300\r\n",
       "hide circle\r\n",
       "\r\n",
       "package \"CircularImport\" as E1  [[psysml:7332441d-5859-4b68-88e6-44e4d7acfbc9 ]]  {\r\n",
       "package \"P1\" as E2  [[psysml:5f20ae7d-4d57-41a2-9907-55aa74d31ca3 ]]  {\r\n",
       "comp def \"A\" as E3  <<(T,blue) part def>> [[psysml:a77b04ef-8587-44c9-8b7f-efa23f8b51b3 ]] {\r\n",
       "}\r\n",
       "}\r\n",
       "package \"P2\" as E4  [[psysml:ebcd3975-b264-4248-9466-34d42d3f68ce ]]  {\r\n",
       "comp def \"B\" as E5  <<(T,blue) part def>> [[psysml:0236a647-9823-419e-b974-acac8cdc5ece ]] {\r\n",
       "}\r\n",
       "}\r\n",
       "package \"Test1\" as E6  [[psysml:da6ad505-2daa-495a-83b8-d3ba9d2de3a4 ]]  {\r\n",
       "comp usage \"x: A\" as E7  <<(T,blue) part>> [[psysml:d9c30419-fa03-4224-9f9b-cc52ece95c03 ]] {\r\n",
       "}\r\n",
       "comp usage \"y: B\" as E8  <<(T,blue) part>> [[psysml:32c0d6a2-b48f-4756-bec9-ba81426d308d ]] {\r\n",
       "}\r\n",
       "}\r\n",
       "package \"Test2\" as E9  [[psysml:b0babda1-ae00-488b-8e87-1a86d4c9a0c6 ]]  {\r\n",
       "comp usage \"x: A\" as E10  <<(T,blue) part>> [[psysml:4b1ceaae-3a33-4edd-a713-ae072a8ba794 ]] {\r\n",
       "}\r\n",
       "comp usage \"y: B\" as E11  <<(T,blue) part>> [[psysml:8a3e0fcf-a1f5-42bd-9af7-3ab68d312f86 ]] {\r\n",
       "}\r\n",
       "}\r\n",
       "comp usage \"x: A\" as E12  <<(T,blue) part>> [[psysml:be17b73a-3dde-44ce-ab8b-a0409ce39ee3 ]] {\r\n",
       "}\r\n",
       "comp usage \"y: B\" as E13  <<(T,blue) part>> [[psysml:70775e2d-ada4-46b3-b3bb-1618b7e606cf ]] {\r\n",
       "}\r\n",
       "}\r\n",
       "E7 - -:|> E3 [[psysml:520b462f-0086-4fa2-a8c7-c457cfb393b0 ]] \r\n",
       "E8 - -:|> E5 [[psysml:7aecf3a3-7124-43a8-804d-679627dba63d ]] \r\n",
       "E10 - -:|> E3 [[psysml:fd0acd65-b864-4a8e-8ff2-cbce99549eac ]] \r\n",
       "E11 - -:|> E5 [[psysml:442cb8f2-ee4b-4dfa-8164-f495024e2707 ]] \r\n",
       "E12 - -:|> E3 [[psysml:fab56a21-03ff-446d-9dd1-385c5373a3f2 ]] \r\n",
       "E13 - -:|> E5 [[psysml:5cad6703-6f19-4c46-9c46-92acb368aec7 ]] \r\n",
       "@enduml\r\n",
       "\n",
       "PlantUML version 1.2020.13(Sat Jun 13 12:26:38 UTC 2020)\n",
       "(EPL source distribution)\n",
       "Java Runtime: OpenJDK Runtime Environment\n",
       "JVM: OpenJDK 64-Bit Server VM\n",
       "Default Encoding: UTF-8\n",
       "Language: en\n",
       "Country: null\n",
       "--></g></svg>"
      ]
     },
     "execution_count": 38,
     "metadata": {},
     "output_type": "execute_result"
    }
   ],
   "source": [
    "%viz --style=\"DEFAULT\" --view=\"Tree\" \"CircularImport\""
   ]
  },
  {
   "cell_type": "code",
   "execution_count": 39,
   "id": "bb2035c6",
   "metadata": {
    "execution": {
     "iopub.execute_input": "2021-09-27T07:16:37.116022Z",
     "iopub.status.busy": "2021-09-27T07:16:37.115618Z",
     "iopub.status.idle": "2021-09-27T07:16:37.120155Z",
     "shell.execute_reply": "2021-09-27T07:16:37.119824Z"
    }
   },
   "outputs": [
    {
     "data": {
      "image/svg+xml": [
       "<?xml version=\"1.0\" encoding=\"UTF-8\" standalone=\"no\"?><svg xmlns=\"http://www.w3.org/2000/svg\" xmlns:xlink=\"http://www.w3.org/1999/xlink\" contentScriptType=\"application/ecmascript\" contentStyleType=\"text/css\" height=\"12px\" preserveAspectRatio=\"none\" style=\"width:12px;height:12px;\" version=\"1.1\" viewBox=\"0 0 12 12\" width=\"12px\" zoomAndPan=\"magnify\"><defs/><g><!--MD5=[c5f280e076d0d61ccf4b0f27871bda1d]\n",
       "@startuml\r\n",
       "skinparam monochrome true\r\n",
       "skinparam classbackgroundcolor white\r\n",
       "skinparam shadowing false\r\n",
       "skinparam wrapWidth 300\r\n",
       "hide circle\r\n",
       "\r\n",
       "@enduml\r\n",
       "\n",
       "PlantUML version 1.2020.13(Sat Jun 13 12:26:38 UTC 2020)\n",
       "(EPL source distribution)\n",
       "Java Runtime: OpenJDK Runtime Environment\n",
       "JVM: OpenJDK 64-Bit Server VM\n",
       "Default Encoding: UTF-8\n",
       "Language: en\n",
       "Country: null\n",
       "--></g></svg>"
      ]
     },
     "execution_count": 39,
     "metadata": {},
     "output_type": "execute_result"
    }
   ],
   "source": [
    "%viz --style=\"DEFAULT\" --view=\"State\" \"CircularImport\""
   ]
  },
  {
   "cell_type": "code",
   "execution_count": 40,
   "id": "37e2d42c",
   "metadata": {
    "execution": {
     "iopub.execute_input": "2021-09-27T07:16:37.170137Z",
     "iopub.status.busy": "2021-09-27T07:16:37.169726Z",
     "iopub.status.idle": "2021-09-27T07:16:37.201003Z",
     "shell.execute_reply": "2021-09-27T07:16:37.200654Z"
    }
   },
   "outputs": [
    {
     "data": {
      "image/svg+xml": [
       "<?xml version=\"1.0\" encoding=\"UTF-8\" standalone=\"no\"?><svg xmlns=\"http://www.w3.org/2000/svg\" xmlns:xlink=\"http://www.w3.org/1999/xlink\" contentScriptType=\"application/ecmascript\" contentStyleType=\"text/css\" height=\"179px\" preserveAspectRatio=\"none\" style=\"width:846px;height:179px;\" version=\"1.1\" viewBox=\"0 0 846 179\" width=\"846px\" zoomAndPan=\"magnify\"><defs/><g><!--MD5=[fbc87193dbaf4d95561dea2c320d4a47]\n",
       "cluster E1--><a href=\"psysml:7332441d-5859-4b68-88e6-44e4d7acfbc9\" target=\"_top\" title=\"psysml:7332441d-5859-4b68-88e6-44e4d7acfbc9\" xlink:actuate=\"onRequest\" xlink:href=\"psysml:7332441d-5859-4b68-88e6-44e4d7acfbc9\" xlink:show=\"new\" xlink:title=\"psysml:7332441d-5859-4b68-88e6-44e4d7acfbc9\" xlink:type=\"simple\"><polygon fill=\"#FFFFFF\" points=\"16,6,117,6,124,28.2969,824,28.2969,824,167,16,167,16,6\" style=\"stroke: #000000; stroke-width: 1.5;\"/><line style=\"stroke: #000000; stroke-width: 1.5;\" x1=\"16\" x2=\"124\" y1=\"28.2969\" y2=\"28.2969\"/><text fill=\"#000000\" font-family=\"sans-serif\" font-size=\"14\" font-weight=\"bold\" lengthAdjust=\"spacingAndGlyphs\" textLength=\"95\" x=\"20\" y=\"20.9951\">CircularImport</text></a><!--MD5=[e4f7fae6ed58524ba242bb0b0d3be6b7]\n",
       "cluster E2--><a href=\"psysml:5f20ae7d-4d57-41a2-9907-55aa74d31ca3\" target=\"_top\" title=\"psysml:5f20ae7d-4d57-41a2-9907-55aa74d31ca3\" xlink:actuate=\"onRequest\" xlink:href=\"psysml:5f20ae7d-4d57-41a2-9907-55aa74d31ca3\" xlink:show=\"new\" xlink:title=\"psysml:5f20ae7d-4d57-41a2-9907-55aa74d31ca3\" xlink:type=\"simple\"><polygon fill=\"#FFFFFF\" points=\"696,49,720,49,727,71.2969,800,71.2969,800,143,696,143,696,49\" style=\"stroke: #000000; stroke-width: 1.5;\"/><line style=\"stroke: #000000; stroke-width: 1.5;\" x1=\"696\" x2=\"727\" y1=\"71.2969\" y2=\"71.2969\"/><text fill=\"#000000\" font-family=\"sans-serif\" font-size=\"14\" font-weight=\"bold\" lengthAdjust=\"spacingAndGlyphs\" textLength=\"18\" x=\"700\" y=\"63.9951\">P1</text></a><!--MD5=[f6df4d0ebaf0b5dfb2ced0ae5af7c670]\n",
       "cluster E4--><a href=\"psysml:ebcd3975-b264-4248-9466-34d42d3f68ce\" target=\"_top\" title=\"psysml:ebcd3975-b264-4248-9466-34d42d3f68ce\" xlink:actuate=\"onRequest\" xlink:href=\"psysml:ebcd3975-b264-4248-9466-34d42d3f68ce\" xlink:show=\"new\" xlink:title=\"psysml:ebcd3975-b264-4248-9466-34d42d3f68ce\" xlink:type=\"simple\"><polygon fill=\"#FFFFFF\" points=\"568,49,592,49,599,71.2969,672,71.2969,672,143,568,143,568,49\" style=\"stroke: #000000; stroke-width: 1.5;\"/><line style=\"stroke: #000000; stroke-width: 1.5;\" x1=\"568\" x2=\"599\" y1=\"71.2969\" y2=\"71.2969\"/><text fill=\"#000000\" font-family=\"sans-serif\" font-size=\"14\" font-weight=\"bold\" lengthAdjust=\"spacingAndGlyphs\" textLength=\"18\" x=\"572\" y=\"63.9951\">P2</text></a><!--MD5=[14e3b0961a2654348d326746436168a1]\n",
       "cluster E6--><a href=\"psysml:da6ad505-2daa-495a-83b8-d3ba9d2de3a4\" target=\"_top\" title=\"psysml:da6ad505-2daa-495a-83b8-d3ba9d2de3a4\" xlink:actuate=\"onRequest\" xlink:href=\"psysml:da6ad505-2daa-495a-83b8-d3ba9d2de3a4\" xlink:show=\"new\" xlink:title=\"psysml:da6ad505-2daa-495a-83b8-d3ba9d2de3a4\" xlink:type=\"simple\"><polygon fill=\"#FFFFFF\" points=\"377,50.5,423,50.5,430,72.7969,544,72.7969,544,141.5,377,141.5,377,50.5\" style=\"stroke: #000000; stroke-width: 1.5;\"/><line style=\"stroke: #000000; stroke-width: 1.5;\" x1=\"377\" x2=\"430\" y1=\"72.7969\" y2=\"72.7969\"/><text fill=\"#000000\" font-family=\"sans-serif\" font-size=\"14\" font-weight=\"bold\" lengthAdjust=\"spacingAndGlyphs\" textLength=\"40\" x=\"381\" y=\"65.4951\">Test1</text></a><!--MD5=[7f149f147074ac12df2cb0a7728a5fb0]\n",
       "cluster E9--><a href=\"psysml:b0babda1-ae00-488b-8e87-1a86d4c9a0c6\" target=\"_top\" title=\"psysml:b0babda1-ae00-488b-8e87-1a86d4c9a0c6\" xlink:actuate=\"onRequest\" xlink:href=\"psysml:b0babda1-ae00-488b-8e87-1a86d4c9a0c6\" xlink:show=\"new\" xlink:title=\"psysml:b0babda1-ae00-488b-8e87-1a86d4c9a0c6\" xlink:type=\"simple\"><polygon fill=\"#FFFFFF\" points=\"186,50.5,232,50.5,239,72.7969,353,72.7969,353,141.5,186,141.5,186,50.5\" style=\"stroke: #000000; stroke-width: 1.5;\"/><line style=\"stroke: #000000; stroke-width: 1.5;\" x1=\"186\" x2=\"239\" y1=\"72.7969\" y2=\"72.7969\"/><text fill=\"#000000\" font-family=\"sans-serif\" font-size=\"14\" font-weight=\"bold\" lengthAdjust=\"spacingAndGlyphs\" textLength=\"40\" x=\"190\" y=\"65.4951\">Test2</text></a><g id=\"E1.E2.E3\"><a href=\"psysml:a77b04ef-8587-44c9-8b7f-efa23f8b51b3\" target=\"_top\" title=\"psysml:a77b04ef-8587-44c9-8b7f-efa23f8b51b3\" xlink:actuate=\"onRequest\" xlink:href=\"psysml:a77b04ef-8587-44c9-8b7f-efa23f8b51b3\" xlink:show=\"new\" xlink:title=\"psysml:a77b04ef-8587-44c9-8b7f-efa23f8b51b3\" xlink:type=\"simple\"><rect fill=\"#FFFFFF\" height=\"42.9375\" id=\"E3\" style=\"stroke: #383838; stroke-width: 1.5;\" width=\"71\" x=\"712.5\" y=\"84\"/><rect fill=\"#F8F8F8\" height=\"37.9375\" style=\"stroke: #383838; stroke-width: 1.5;\" width=\"71\" x=\"712.5\" y=\"84\"/><text fill=\"#000000\" font-family=\"sans-serif\" font-size=\"12\" font-style=\"italic\" lengthAdjust=\"spacingAndGlyphs\" textLength=\"64\" x=\"716\" y=\"100.1387\">«part def»</text><text fill=\"#000000\" font-family=\"sans-serif\" font-size=\"12\" lengthAdjust=\"spacingAndGlyphs\" textLength=\"8\" x=\"744\" y=\"114.1074\">A</text></a></g><g id=\"E1.E4.E5\"><a href=\"psysml:0236a647-9823-419e-b974-acac8cdc5ece\" target=\"_top\" title=\"psysml:0236a647-9823-419e-b974-acac8cdc5ece\" xlink:actuate=\"onRequest\" xlink:href=\"psysml:0236a647-9823-419e-b974-acac8cdc5ece\" xlink:show=\"new\" xlink:title=\"psysml:0236a647-9823-419e-b974-acac8cdc5ece\" xlink:type=\"simple\"><rect fill=\"#FFFFFF\" height=\"42.9375\" id=\"E5\" style=\"stroke: #383838; stroke-width: 1.5;\" width=\"71\" x=\"584.5\" y=\"84\"/><rect fill=\"#F8F8F8\" height=\"37.9375\" style=\"stroke: #383838; stroke-width: 1.5;\" width=\"71\" x=\"584.5\" y=\"84\"/><text fill=\"#000000\" font-family=\"sans-serif\" font-size=\"12\" font-style=\"italic\" lengthAdjust=\"spacingAndGlyphs\" textLength=\"64\" x=\"588\" y=\"100.1387\">«part def»</text><text fill=\"#000000\" font-family=\"sans-serif\" font-size=\"12\" lengthAdjust=\"spacingAndGlyphs\" textLength=\"8\" x=\"616\" y=\"114.1074\">B</text></a></g><g id=\"E1.E6.E7\"><a href=\"psysml:d9c30419-fa03-4224-9f9b-cc52ece95c03\" target=\"_top\" title=\"psysml:d9c30419-fa03-4224-9f9b-cc52ece95c03\" xlink:actuate=\"onRequest\" xlink:href=\"psysml:d9c30419-fa03-4224-9f9b-cc52ece95c03\" xlink:show=\"new\" xlink:title=\"psysml:d9c30419-fa03-4224-9f9b-cc52ece95c03\" xlink:type=\"simple\"><rect fill=\"#FFFFFF\" height=\"40\" id=\"E7\" rx=\"10\" ry=\"10\" style=\"stroke: #383838; stroke-width: 1.5;\" width=\"50\" x=\"478\" y=\"85.5\"/><rect fill=\"#F8F8F8\" height=\"23.9688\" rx=\"10\" ry=\"10\" style=\"stroke: #F8F8F8; stroke-width: 1.5;\" width=\"50\" x=\"478\" y=\"85.5\"/><rect fill=\"#F8F8F8\" height=\"10\" style=\"stroke: #F8F8F8; stroke-width: 1.5;\" width=\"50\" x=\"478\" y=\"99.4688\"/><rect fill=\"none\" height=\"40\" id=\"E7\" rx=\"10\" ry=\"10\" style=\"stroke: #383838; stroke-width: 1.5;\" width=\"50\" x=\"478\" y=\"85.5\"/><text fill=\"#000000\" font-family=\"sans-serif\" font-size=\"12\" lengthAdjust=\"spacingAndGlyphs\" textLength=\"22\" x=\"492\" y=\"101.6387\">x: A</text></a></g><g id=\"E1.E6.E8\"><a href=\"psysml:32c0d6a2-b48f-4756-bec9-ba81426d308d\" target=\"_top\" title=\"psysml:32c0d6a2-b48f-4756-bec9-ba81426d308d\" xlink:actuate=\"onRequest\" xlink:href=\"psysml:32c0d6a2-b48f-4756-bec9-ba81426d308d\" xlink:show=\"new\" xlink:title=\"psysml:32c0d6a2-b48f-4756-bec9-ba81426d308d\" xlink:type=\"simple\"><rect fill=\"#FFFFFF\" height=\"40\" id=\"E8\" rx=\"10\" ry=\"10\" style=\"stroke: #383838; stroke-width: 1.5;\" width=\"50\" x=\"393\" y=\"85.5\"/><rect fill=\"#F8F8F8\" height=\"23.9688\" rx=\"10\" ry=\"10\" style=\"stroke: #F8F8F8; stroke-width: 1.5;\" width=\"50\" x=\"393\" y=\"85.5\"/><rect fill=\"#F8F8F8\" height=\"10\" style=\"stroke: #F8F8F8; stroke-width: 1.5;\" width=\"50\" x=\"393\" y=\"99.4688\"/><rect fill=\"none\" height=\"40\" id=\"E8\" rx=\"10\" ry=\"10\" style=\"stroke: #383838; stroke-width: 1.5;\" width=\"50\" x=\"393\" y=\"85.5\"/><text fill=\"#000000\" font-family=\"sans-serif\" font-size=\"12\" lengthAdjust=\"spacingAndGlyphs\" textLength=\"22\" x=\"407\" y=\"101.6387\">y: B</text></a></g><g id=\"E1.E9.E10\"><a href=\"psysml:4b1ceaae-3a33-4edd-a713-ae072a8ba794\" target=\"_top\" title=\"psysml:4b1ceaae-3a33-4edd-a713-ae072a8ba794\" xlink:actuate=\"onRequest\" xlink:href=\"psysml:4b1ceaae-3a33-4edd-a713-ae072a8ba794\" xlink:show=\"new\" xlink:title=\"psysml:4b1ceaae-3a33-4edd-a713-ae072a8ba794\" xlink:type=\"simple\"><rect fill=\"#FFFFFF\" height=\"40\" id=\"E10\" rx=\"10\" ry=\"10\" style=\"stroke: #383838; stroke-width: 1.5;\" width=\"50\" x=\"287\" y=\"85.5\"/><rect fill=\"#F8F8F8\" height=\"23.9688\" rx=\"10\" ry=\"10\" style=\"stroke: #F8F8F8; stroke-width: 1.5;\" width=\"50\" x=\"287\" y=\"85.5\"/><rect fill=\"#F8F8F8\" height=\"10\" style=\"stroke: #F8F8F8; stroke-width: 1.5;\" width=\"50\" x=\"287\" y=\"99.4688\"/><rect fill=\"none\" height=\"40\" id=\"E10\" rx=\"10\" ry=\"10\" style=\"stroke: #383838; stroke-width: 1.5;\" width=\"50\" x=\"287\" y=\"85.5\"/><text fill=\"#000000\" font-family=\"sans-serif\" font-size=\"12\" lengthAdjust=\"spacingAndGlyphs\" textLength=\"22\" x=\"301\" y=\"101.6387\">x: A</text></a></g><g id=\"E1.E9.E11\"><a href=\"psysml:8a3e0fcf-a1f5-42bd-9af7-3ab68d312f86\" target=\"_top\" title=\"psysml:8a3e0fcf-a1f5-42bd-9af7-3ab68d312f86\" xlink:actuate=\"onRequest\" xlink:href=\"psysml:8a3e0fcf-a1f5-42bd-9af7-3ab68d312f86\" xlink:show=\"new\" xlink:title=\"psysml:8a3e0fcf-a1f5-42bd-9af7-3ab68d312f86\" xlink:type=\"simple\"><rect fill=\"#FFFFFF\" height=\"40\" id=\"E11\" rx=\"10\" ry=\"10\" style=\"stroke: #383838; stroke-width: 1.5;\" width=\"50\" x=\"202\" y=\"85.5\"/><rect fill=\"#F8F8F8\" height=\"23.9688\" rx=\"10\" ry=\"10\" style=\"stroke: #F8F8F8; stroke-width: 1.5;\" width=\"50\" x=\"202\" y=\"85.5\"/><rect fill=\"#F8F8F8\" height=\"10\" style=\"stroke: #F8F8F8; stroke-width: 1.5;\" width=\"50\" x=\"202\" y=\"99.4688\"/><rect fill=\"none\" height=\"40\" id=\"E11\" rx=\"10\" ry=\"10\" style=\"stroke: #383838; stroke-width: 1.5;\" width=\"50\" x=\"202\" y=\"85.5\"/><text fill=\"#000000\" font-family=\"sans-serif\" font-size=\"12\" lengthAdjust=\"spacingAndGlyphs\" textLength=\"22\" x=\"216\" y=\"101.6387\">y: B</text></a></g><g id=\"E1.E12\"><a href=\"psysml:be17b73a-3dde-44ce-ab8b-a0409ce39ee3\" target=\"_top\" title=\"psysml:be17b73a-3dde-44ce-ab8b-a0409ce39ee3\" xlink:actuate=\"onRequest\" xlink:href=\"psysml:be17b73a-3dde-44ce-ab8b-a0409ce39ee3\" xlink:show=\"new\" xlink:title=\"psysml:be17b73a-3dde-44ce-ab8b-a0409ce39ee3\" xlink:type=\"simple\"><rect fill=\"#FFFFFF\" height=\"40\" id=\"E12\" rx=\"10\" ry=\"10\" style=\"stroke: #383838; stroke-width: 1.5;\" width=\"50\" x=\"117\" y=\"85.5\"/><rect fill=\"#F8F8F8\" height=\"23.9688\" rx=\"10\" ry=\"10\" style=\"stroke: #F8F8F8; stroke-width: 1.5;\" width=\"50\" x=\"117\" y=\"85.5\"/><rect fill=\"#F8F8F8\" height=\"10\" style=\"stroke: #F8F8F8; stroke-width: 1.5;\" width=\"50\" x=\"117\" y=\"99.4688\"/><rect fill=\"none\" height=\"40\" id=\"E12\" rx=\"10\" ry=\"10\" style=\"stroke: #383838; stroke-width: 1.5;\" width=\"50\" x=\"117\" y=\"85.5\"/><text fill=\"#000000\" font-family=\"sans-serif\" font-size=\"12\" lengthAdjust=\"spacingAndGlyphs\" textLength=\"22\" x=\"131\" y=\"101.6387\">x: A</text></a></g><g id=\"E1.E13\"><a href=\"psysml:70775e2d-ada4-46b3-b3bb-1618b7e606cf\" target=\"_top\" title=\"psysml:70775e2d-ada4-46b3-b3bb-1618b7e606cf\" xlink:actuate=\"onRequest\" xlink:href=\"psysml:70775e2d-ada4-46b3-b3bb-1618b7e606cf\" xlink:show=\"new\" xlink:title=\"psysml:70775e2d-ada4-46b3-b3bb-1618b7e606cf\" xlink:type=\"simple\"><rect fill=\"#FFFFFF\" height=\"40\" id=\"E13\" rx=\"10\" ry=\"10\" style=\"stroke: #383838; stroke-width: 1.5;\" width=\"50\" x=\"32\" y=\"85.5\"/><rect fill=\"#F8F8F8\" height=\"23.9688\" rx=\"10\" ry=\"10\" style=\"stroke: #F8F8F8; stroke-width: 1.5;\" width=\"50\" x=\"32\" y=\"85.5\"/><rect fill=\"#F8F8F8\" height=\"10\" style=\"stroke: #F8F8F8; stroke-width: 1.5;\" width=\"50\" x=\"32\" y=\"99.4688\"/><rect fill=\"none\" height=\"40\" id=\"E13\" rx=\"10\" ry=\"10\" style=\"stroke: #383838; stroke-width: 1.5;\" width=\"50\" x=\"32\" y=\"85.5\"/><text fill=\"#000000\" font-family=\"sans-serif\" font-size=\"12\" lengthAdjust=\"spacingAndGlyphs\" textLength=\"22\" x=\"46\" y=\"101.6387\">y: B</text></a></g><!--MD5=[b03b26914ae0d49da9a6e2c26a094fda]\n",
       "@startuml\r\n",
       "skinparam ranksep 10\r\n",
       "skinparam rectangle {\r\n",
       " backgroundColor<<block>> LightGreen\r\n",
       "}\r\n",
       "skinparam monochrome true\r\n",
       "skinparam classbackgroundcolor white\r\n",
       "skinparam shadowing false\r\n",
       "skinparam wrapWidth 300\r\n",
       "hide circle\r\n",
       "\r\n",
       "package \"CircularImport\" as E1  [[psysml:7332441d-5859-4b68-88e6-44e4d7acfbc9 ]]  {\r\n",
       "package \"P1\" as E2  [[psysml:5f20ae7d-4d57-41a2-9907-55aa74d31ca3 ]]  {\r\n",
       "rec def \"A\" as E3  <<(T,blue) part def>> [[psysml:a77b04ef-8587-44c9-8b7f-efa23f8b51b3 ]] {\r\n",
       "}\r\n",
       "}\r\n",
       "package \"P2\" as E4  [[psysml:ebcd3975-b264-4248-9466-34d42d3f68ce ]]  {\r\n",
       "rec def \"B\" as E5  <<(T,blue) part def>> [[psysml:0236a647-9823-419e-b974-acac8cdc5ece ]] {\r\n",
       "}\r\n",
       "}\r\n",
       "package \"Test1\" as E6  [[psysml:da6ad505-2daa-495a-83b8-d3ba9d2de3a4 ]]  {\r\n",
       "rec usage \"x: A\" as E7  [[psysml:d9c30419-fa03-4224-9f9b-cc52ece95c03 ]] {\r\n",
       "}\r\n",
       "rec usage \"y: B\" as E8  [[psysml:32c0d6a2-b48f-4756-bec9-ba81426d308d ]] {\r\n",
       "}\r\n",
       "}\r\n",
       "package \"Test2\" as E9  [[psysml:b0babda1-ae00-488b-8e87-1a86d4c9a0c6 ]]  {\r\n",
       "rec usage \"x: A\" as E10  [[psysml:4b1ceaae-3a33-4edd-a713-ae072a8ba794 ]] {\r\n",
       "}\r\n",
       "rec usage \"y: B\" as E11  [[psysml:8a3e0fcf-a1f5-42bd-9af7-3ab68d312f86 ]] {\r\n",
       "}\r\n",
       "}\r\n",
       "rec usage \"x: A\" as E12  [[psysml:be17b73a-3dde-44ce-ab8b-a0409ce39ee3 ]] {\r\n",
       "}\r\n",
       "rec usage \"y: B\" as E13  [[psysml:70775e2d-ada4-46b3-b3bb-1618b7e606cf ]] {\r\n",
       "}\r\n",
       "}\r\n",
       "@enduml\r\n",
       "\n",
       "PlantUML version 1.2020.13(Sat Jun 13 12:26:38 UTC 2020)\n",
       "(EPL source distribution)\n",
       "Java Runtime: OpenJDK Runtime Environment\n",
       "JVM: OpenJDK 64-Bit Server VM\n",
       "Default Encoding: UTF-8\n",
       "Language: en\n",
       "Country: null\n",
       "--></g></svg>"
      ]
     },
     "execution_count": 40,
     "metadata": {},
     "output_type": "execute_result"
    }
   ],
   "source": [
    "%viz --style=\"DEFAULT\" --view=\"Interconnection\" \"CircularImport\""
   ]
  },
  {
   "cell_type": "code",
   "execution_count": 41,
   "id": "f5ac3921",
   "metadata": {
    "execution": {
     "iopub.execute_input": "2021-09-27T07:16:37.250745Z",
     "iopub.status.busy": "2021-09-27T07:16:37.250346Z",
     "iopub.status.idle": "2021-09-27T07:16:37.254413Z",
     "shell.execute_reply": "2021-09-27T07:16:37.254703Z"
    }
   },
   "outputs": [
    {
     "data": {
      "image/svg+xml": [
       "<?xml version=\"1.0\" encoding=\"UTF-8\" standalone=\"no\"?><svg xmlns=\"http://www.w3.org/2000/svg\" xmlns:xlink=\"http://www.w3.org/1999/xlink\" contentScriptType=\"application/ecmascript\" contentStyleType=\"text/css\" height=\"12px\" preserveAspectRatio=\"none\" style=\"width:12px;height:12px;\" version=\"1.1\" viewBox=\"0 0 12 12\" width=\"12px\" zoomAndPan=\"magnify\"><defs/><g><!--MD5=[388f21188e31bfdd97050473b19af356]\n",
       "@startuml\r\n",
       "skinparam ranksep 8\r\n",
       "skinparam monochrome true\r\n",
       "skinparam classbackgroundcolor white\r\n",
       "skinparam shadowing false\r\n",
       "skinparam wrapWidth 300\r\n",
       "hide circle\r\n",
       "\r\n",
       "@enduml\r\n",
       "\n",
       "PlantUML version 1.2020.13(Sat Jun 13 12:26:38 UTC 2020)\n",
       "(EPL source distribution)\n",
       "Java Runtime: OpenJDK Runtime Environment\n",
       "JVM: OpenJDK 64-Bit Server VM\n",
       "Default Encoding: UTF-8\n",
       "Language: en\n",
       "Country: null\n",
       "--></g></svg>"
      ]
     },
     "execution_count": 41,
     "metadata": {},
     "output_type": "execute_result"
    }
   ],
   "source": [
    "%viz --style=\"DEFAULT\" --view=\"Action\" \"CircularImport\""
   ]
  },
  {
   "cell_type": "code",
   "execution_count": 42,
   "id": "9d59c791",
   "metadata": {
    "execution": {
     "iopub.execute_input": "2021-09-27T07:16:37.304721Z",
     "iopub.status.busy": "2021-09-27T07:16:37.304323Z",
     "iopub.status.idle": "2021-09-27T07:16:37.308411Z",
     "shell.execute_reply": "2021-09-27T07:16:37.308721Z"
    }
   },
   "outputs": [
    {
     "data": {
      "image/svg+xml": [
       "<?xml version=\"1.0\" encoding=\"UTF-8\" standalone=\"no\"?><svg xmlns=\"http://www.w3.org/2000/svg\" xmlns:xlink=\"http://www.w3.org/1999/xlink\" contentScriptType=\"application/ecmascript\" contentStyleType=\"text/css\" height=\"12px\" preserveAspectRatio=\"none\" style=\"width:12px;height:12px;\" version=\"1.1\" viewBox=\"0 0 12 12\" width=\"12px\" zoomAndPan=\"magnify\"><defs/><g><!--MD5=[0b72472770326784bf6c2b53246e1e64]\n",
       "@startuml\r\n",
       "skinparam roundcorner 20\r\n",
       "skinparam BoxPadding 20\r\n",
       "skinparam SequenceBoxBackgroundColor #white\r\n",
       "skinparam style strictuml\r\n",
       "skinparam maxMessageSize 100\r\n",
       "skinparam monochrome true\r\n",
       "skinparam classbackgroundcolor white\r\n",
       "skinparam shadowing false\r\n",
       "skinparam wrapWidth 300\r\n",
       "hide circle\r\n",
       "\r\n",
       "@enduml\r\n",
       "\n",
       "PlantUML version 1.2020.13(Sat Jun 13 12:26:38 UTC 2020)\n",
       "(EPL source distribution)\n",
       "Java Runtime: OpenJDK Runtime Environment\n",
       "JVM: OpenJDK 64-Bit Server VM\n",
       "Default Encoding: UTF-8\n",
       "Language: en\n",
       "Country: null\n",
       "--></g></svg>"
      ]
     },
     "execution_count": 42,
     "metadata": {},
     "output_type": "execute_result"
    }
   ],
   "source": [
    "%viz --style=\"DEFAULT\" --view=\"Sequence\" \"CircularImport\""
   ]
  },
  {
   "cell_type": "code",
   "execution_count": 43,
   "id": "b25ebe28",
   "metadata": {
    "execution": {
     "iopub.execute_input": "2021-09-27T07:16:37.358729Z",
     "iopub.status.busy": "2021-09-27T07:16:37.358319Z",
     "iopub.status.idle": "2021-09-27T07:16:37.393560Z",
     "shell.execute_reply": "2021-09-27T07:16:37.393210Z"
    }
   },
   "outputs": [
    {
     "data": {
      "image/svg+xml": [
       "<?xml version=\"1.0\" encoding=\"UTF-8\" standalone=\"no\"?><svg xmlns=\"http://www.w3.org/2000/svg\" xmlns:xlink=\"http://www.w3.org/1999/xlink\" contentScriptType=\"application/ecmascript\" contentStyleType=\"text/css\" height=\"303px\" preserveAspectRatio=\"none\" style=\"width:518px;height:303px;\" version=\"1.1\" viewBox=\"0 0 518 303\" width=\"518px\" zoomAndPan=\"magnify\"><defs/><g><!--MD5=[fbc87193dbaf4d95561dea2c320d4a47]\n",
       "cluster E1--><a href=\"psysml:7332441d-5859-4b68-88e6-44e4d7acfbc9\" target=\"_top\" title=\"psysml:7332441d-5859-4b68-88e6-44e4d7acfbc9\" xlink:actuate=\"onRequest\" xlink:href=\"psysml:7332441d-5859-4b68-88e6-44e4d7acfbc9\" xlink:show=\"new\" xlink:title=\"psysml:7332441d-5859-4b68-88e6-44e4d7acfbc9\" xlink:type=\"simple\"><polygon fill=\"#FFFFFF\" points=\"16,6,117,6,124,28.2969,496,28.2969,496,291,16,291,16,6\" style=\"stroke: #000000; stroke-width: 1.5;\"/><line style=\"stroke: #000000; stroke-width: 1.5;\" x1=\"16\" x2=\"124\" y1=\"28.2969\" y2=\"28.2969\"/><text fill=\"#000000\" font-family=\"sans-serif\" font-size=\"14\" font-weight=\"bold\" lengthAdjust=\"spacingAndGlyphs\" textLength=\"95\" x=\"20\" y=\"20.9951\">CircularImport</text></a><!--MD5=[e4f7fae6ed58524ba242bb0b0d3be6b7]\n",
       "cluster E2--><a href=\"psysml:5f20ae7d-4d57-41a2-9907-55aa74d31ca3\" target=\"_top\" title=\"psysml:5f20ae7d-4d57-41a2-9907-55aa74d31ca3\" xlink:actuate=\"onRequest\" xlink:href=\"psysml:5f20ae7d-4d57-41a2-9907-55aa74d31ca3\" xlink:show=\"new\" xlink:title=\"psysml:5f20ae7d-4d57-41a2-9907-55aa74d31ca3\" xlink:type=\"simple\"><polygon fill=\"#FFFFFF\" points=\"333,170,357,170,364,192.2969,431,192.2969,431,267,333,267,333,170\" style=\"stroke: #000000; stroke-width: 1.5;\"/><line style=\"stroke: #000000; stroke-width: 1.5;\" x1=\"333\" x2=\"364\" y1=\"192.2969\" y2=\"192.2969\"/><text fill=\"#000000\" font-family=\"sans-serif\" font-size=\"14\" font-weight=\"bold\" lengthAdjust=\"spacingAndGlyphs\" textLength=\"18\" x=\"337\" y=\"184.9951\">P1</text></a><!--MD5=[f6df4d0ebaf0b5dfb2ced0ae5af7c670]\n",
       "cluster E4--><a href=\"psysml:ebcd3975-b264-4248-9466-34d42d3f68ce\" target=\"_top\" title=\"psysml:ebcd3975-b264-4248-9466-34d42d3f68ce\" xlink:actuate=\"onRequest\" xlink:href=\"psysml:ebcd3975-b264-4248-9466-34d42d3f68ce\" xlink:show=\"new\" xlink:title=\"psysml:ebcd3975-b264-4248-9466-34d42d3f68ce\" xlink:type=\"simple\"><polygon fill=\"#FFFFFF\" points=\"81,170,105,170,112,192.2969,179,192.2969,179,267,81,267,81,170\" style=\"stroke: #000000; stroke-width: 1.5;\"/><line style=\"stroke: #000000; stroke-width: 1.5;\" x1=\"81\" x2=\"112\" y1=\"192.2969\" y2=\"192.2969\"/><text fill=\"#000000\" font-family=\"sans-serif\" font-size=\"14\" font-weight=\"bold\" lengthAdjust=\"spacingAndGlyphs\" textLength=\"18\" x=\"85\" y=\"184.9951\">P2</text></a><!--MD5=[14e3b0961a2654348d326746436168a1]\n",
       "cluster E6--><a href=\"psysml:da6ad505-2daa-495a-83b8-d3ba9d2de3a4\" target=\"_top\" title=\"psysml:da6ad505-2daa-495a-83b8-d3ba9d2de3a4\" xlink:actuate=\"onRequest\" xlink:href=\"psysml:da6ad505-2daa-495a-83b8-d3ba9d2de3a4\" xlink:show=\"new\" xlink:title=\"psysml:da6ad505-2daa-495a-83b8-d3ba9d2de3a4\" xlink:type=\"simple\"><polygon fill=\"#FFFFFF\" points=\"268,49,314,49,321,71.2969,419,71.2969,419,146,268,146,268,49\" style=\"stroke: #000000; stroke-width: 1.5;\"/><line style=\"stroke: #000000; stroke-width: 1.5;\" x1=\"268\" x2=\"321\" y1=\"71.2969\" y2=\"71.2969\"/><text fill=\"#000000\" font-family=\"sans-serif\" font-size=\"14\" font-weight=\"bold\" lengthAdjust=\"spacingAndGlyphs\" textLength=\"40\" x=\"272\" y=\"63.9951\">Test1</text></a><!--MD5=[7f149f147074ac12df2cb0a7728a5fb0]\n",
       "cluster E9--><a href=\"psysml:b0babda1-ae00-488b-8e87-1a86d4c9a0c6\" target=\"_top\" title=\"psysml:b0babda1-ae00-488b-8e87-1a86d4c9a0c6\" xlink:actuate=\"onRequest\" xlink:href=\"psysml:b0babda1-ae00-488b-8e87-1a86d4c9a0c6\" xlink:show=\"new\" xlink:title=\"psysml:b0babda1-ae00-488b-8e87-1a86d4c9a0c6\" xlink:type=\"simple\"><polygon fill=\"#FFFFFF\" points=\"93,49,139,49,146,71.2969,244,71.2969,244,146,93,146,93,49\" style=\"stroke: #000000; stroke-width: 1.5;\"/><line style=\"stroke: #000000; stroke-width: 1.5;\" x1=\"93\" x2=\"146\" y1=\"71.2969\" y2=\"71.2969\"/><text fill=\"#000000\" font-family=\"sans-serif\" font-size=\"14\" font-weight=\"bold\" lengthAdjust=\"spacingAndGlyphs\" textLength=\"40\" x=\"97\" y=\"63.9951\">Test2</text></a><!--MD5=[49a0ec8f00dab7302a31f22d0f0fe584]\n",
       "class E12--><a href=\"psysml:be17b73a-3dde-44ce-ab8b-a0409ce39ee3\" target=\"_top\" title=\"psysml:be17b73a-3dde-44ce-ab8b-a0409ce39ee3\" xlink:actuate=\"onRequest\" xlink:href=\"psysml:be17b73a-3dde-44ce-ab8b-a0409ce39ee3\" xlink:show=\"new\" xlink:title=\"psysml:be17b73a-3dde-44ce-ab8b-a0409ce39ee3\" xlink:type=\"simple\"><rect fill=\"#FFFFFF\" height=\"45.9375\" id=\"E12\" rx=\"10\" ry=\"10\" style=\"stroke: #383838; stroke-width: 1.5;\" width=\"42\" x=\"438\" y=\"84\"/><text fill=\"#000000\" font-family=\"sans-serif\" font-size=\"12\" font-style=\"italic\" lengthAdjust=\"spacingAndGlyphs\" textLength=\"40\" x=\"439\" y=\"100.1387\">«part»</text><text fill=\"#000000\" font-family=\"sans-serif\" font-size=\"12\" lengthAdjust=\"spacingAndGlyphs\" textLength=\"22\" x=\"448\" y=\"114.1074\">x: A</text><line style=\"stroke: #383838; stroke-width: 1.5;\" x1=\"439\" x2=\"479\" y1=\"121.9375\" y2=\"121.9375\"/></a><!--MD5=[ee3c913d1a06f366521f9ef512b67efe]\n",
       "class E13--><a href=\"psysml:70775e2d-ada4-46b3-b3bb-1618b7e606cf\" target=\"_top\" title=\"psysml:70775e2d-ada4-46b3-b3bb-1618b7e606cf\" xlink:actuate=\"onRequest\" xlink:href=\"psysml:70775e2d-ada4-46b3-b3bb-1618b7e606cf\" xlink:show=\"new\" xlink:title=\"psysml:70775e2d-ada4-46b3-b3bb-1618b7e606cf\" xlink:type=\"simple\"><rect fill=\"#FFFFFF\" height=\"45.9375\" id=\"E13\" rx=\"10\" ry=\"10\" style=\"stroke: #383838; stroke-width: 1.5;\" width=\"42\" x=\"32\" y=\"84\"/><text fill=\"#000000\" font-family=\"sans-serif\" font-size=\"12\" font-style=\"italic\" lengthAdjust=\"spacingAndGlyphs\" textLength=\"40\" x=\"33\" y=\"100.1387\">«part»</text><text fill=\"#000000\" font-family=\"sans-serif\" font-size=\"12\" lengthAdjust=\"spacingAndGlyphs\" textLength=\"22\" x=\"42\" y=\"114.1074\">y: B</text><line style=\"stroke: #383838; stroke-width: 1.5;\" x1=\"33\" x2=\"73\" y1=\"121.9375\" y2=\"121.9375\"/></a><!--MD5=[09b614a08d8cba4a07c9adeb5e0fee81]\n",
       "class E3--><a href=\"psysml:a77b04ef-8587-44c9-8b7f-efa23f8b51b3\" target=\"_top\" title=\"psysml:a77b04ef-8587-44c9-8b7f-efa23f8b51b3\" xlink:actuate=\"onRequest\" xlink:href=\"psysml:a77b04ef-8587-44c9-8b7f-efa23f8b51b3\" xlink:show=\"new\" xlink:title=\"psysml:a77b04ef-8587-44c9-8b7f-efa23f8b51b3\" xlink:type=\"simple\"><rect fill=\"#FFFFFF\" height=\"45.9375\" id=\"E3\" style=\"stroke: #383838; stroke-width: 1.5;\" width=\"66\" x=\"349\" y=\"205\"/><text fill=\"#000000\" font-family=\"sans-serif\" font-size=\"12\" font-style=\"italic\" lengthAdjust=\"spacingAndGlyphs\" textLength=\"64\" x=\"350\" y=\"221.1387\">«part def»</text><text fill=\"#000000\" font-family=\"sans-serif\" font-size=\"12\" lengthAdjust=\"spacingAndGlyphs\" textLength=\"8\" x=\"378\" y=\"235.1074\">A</text><line style=\"stroke: #383838; stroke-width: 1.5;\" x1=\"350\" x2=\"414\" y1=\"242.9375\" y2=\"242.9375\"/></a><!--MD5=[270fce915f116d4de14055a7c1d9a0f3]\n",
       "class E5--><a href=\"psysml:0236a647-9823-419e-b974-acac8cdc5ece\" target=\"_top\" title=\"psysml:0236a647-9823-419e-b974-acac8cdc5ece\" xlink:actuate=\"onRequest\" xlink:href=\"psysml:0236a647-9823-419e-b974-acac8cdc5ece\" xlink:show=\"new\" xlink:title=\"psysml:0236a647-9823-419e-b974-acac8cdc5ece\" xlink:type=\"simple\"><rect fill=\"#FFFFFF\" height=\"45.9375\" id=\"E5\" style=\"stroke: #383838; stroke-width: 1.5;\" width=\"66\" x=\"97\" y=\"205\"/><text fill=\"#000000\" font-family=\"sans-serif\" font-size=\"12\" font-style=\"italic\" lengthAdjust=\"spacingAndGlyphs\" textLength=\"64\" x=\"98\" y=\"221.1387\">«part def»</text><text fill=\"#000000\" font-family=\"sans-serif\" font-size=\"12\" lengthAdjust=\"spacingAndGlyphs\" textLength=\"8\" x=\"126\" y=\"235.1074\">B</text><line style=\"stroke: #383838; stroke-width: 1.5;\" x1=\"98\" x2=\"162\" y1=\"242.9375\" y2=\"242.9375\"/></a><!--MD5=[2156ba9850f5573cc1fc38a6a4b2f02b]\n",
       "class E7--><a href=\"psysml:d9c30419-fa03-4224-9f9b-cc52ece95c03\" target=\"_top\" title=\"psysml:d9c30419-fa03-4224-9f9b-cc52ece95c03\" xlink:actuate=\"onRequest\" xlink:href=\"psysml:d9c30419-fa03-4224-9f9b-cc52ece95c03\" xlink:show=\"new\" xlink:title=\"psysml:d9c30419-fa03-4224-9f9b-cc52ece95c03\" xlink:type=\"simple\"><rect fill=\"#FFFFFF\" height=\"45.9375\" id=\"E7\" rx=\"10\" ry=\"10\" style=\"stroke: #383838; stroke-width: 1.5;\" width=\"42\" x=\"361\" y=\"84\"/><text fill=\"#000000\" font-family=\"sans-serif\" font-size=\"12\" font-style=\"italic\" lengthAdjust=\"spacingAndGlyphs\" textLength=\"40\" x=\"362\" y=\"100.1387\">«part»</text><text fill=\"#000000\" font-family=\"sans-serif\" font-size=\"12\" lengthAdjust=\"spacingAndGlyphs\" textLength=\"22\" x=\"371\" y=\"114.1074\">x: A</text><line style=\"stroke: #383838; stroke-width: 1.5;\" x1=\"362\" x2=\"402\" y1=\"121.9375\" y2=\"121.9375\"/></a><!--MD5=[b9389687b975829384b498ac4b7476b2]\n",
       "class E8--><a href=\"psysml:32c0d6a2-b48f-4756-bec9-ba81426d308d\" target=\"_top\" title=\"psysml:32c0d6a2-b48f-4756-bec9-ba81426d308d\" xlink:actuate=\"onRequest\" xlink:href=\"psysml:32c0d6a2-b48f-4756-bec9-ba81426d308d\" xlink:show=\"new\" xlink:title=\"psysml:32c0d6a2-b48f-4756-bec9-ba81426d308d\" xlink:type=\"simple\"><rect fill=\"#FFFFFF\" height=\"45.9375\" id=\"E8\" rx=\"10\" ry=\"10\" style=\"stroke: #383838; stroke-width: 1.5;\" width=\"42\" x=\"284\" y=\"84\"/><text fill=\"#000000\" font-family=\"sans-serif\" font-size=\"12\" font-style=\"italic\" lengthAdjust=\"spacingAndGlyphs\" textLength=\"40\" x=\"285\" y=\"100.1387\">«part»</text><text fill=\"#000000\" font-family=\"sans-serif\" font-size=\"12\" lengthAdjust=\"spacingAndGlyphs\" textLength=\"22\" x=\"294\" y=\"114.1074\">y: B</text><line style=\"stroke: #383838; stroke-width: 1.5;\" x1=\"285\" x2=\"325\" y1=\"121.9375\" y2=\"121.9375\"/></a><!--MD5=[96f4274e9e20536e775497830990834d]\n",
       "class E10--><a href=\"psysml:4b1ceaae-3a33-4edd-a713-ae072a8ba794\" target=\"_top\" title=\"psysml:4b1ceaae-3a33-4edd-a713-ae072a8ba794\" xlink:actuate=\"onRequest\" xlink:href=\"psysml:4b1ceaae-3a33-4edd-a713-ae072a8ba794\" xlink:show=\"new\" xlink:title=\"psysml:4b1ceaae-3a33-4edd-a713-ae072a8ba794\" xlink:type=\"simple\"><rect fill=\"#FFFFFF\" height=\"45.9375\" id=\"E10\" rx=\"10\" ry=\"10\" style=\"stroke: #383838; stroke-width: 1.5;\" width=\"42\" x=\"186\" y=\"84\"/><text fill=\"#000000\" font-family=\"sans-serif\" font-size=\"12\" font-style=\"italic\" lengthAdjust=\"spacingAndGlyphs\" textLength=\"40\" x=\"187\" y=\"100.1387\">«part»</text><text fill=\"#000000\" font-family=\"sans-serif\" font-size=\"12\" lengthAdjust=\"spacingAndGlyphs\" textLength=\"22\" x=\"196\" y=\"114.1074\">x: A</text><line style=\"stroke: #383838; stroke-width: 1.5;\" x1=\"187\" x2=\"227\" y1=\"121.9375\" y2=\"121.9375\"/></a><!--MD5=[1dd1bfd58a279cf63c5f349dbc8fc6a1]\n",
       "class E11--><a href=\"psysml:8a3e0fcf-a1f5-42bd-9af7-3ab68d312f86\" target=\"_top\" title=\"psysml:8a3e0fcf-a1f5-42bd-9af7-3ab68d312f86\" xlink:actuate=\"onRequest\" xlink:href=\"psysml:8a3e0fcf-a1f5-42bd-9af7-3ab68d312f86\" xlink:show=\"new\" xlink:title=\"psysml:8a3e0fcf-a1f5-42bd-9af7-3ab68d312f86\" xlink:type=\"simple\"><rect fill=\"#FFFFFF\" height=\"45.9375\" id=\"E11\" rx=\"10\" ry=\"10\" style=\"stroke: #383838; stroke-width: 1.5;\" width=\"42\" x=\"109\" y=\"84\"/><text fill=\"#000000\" font-family=\"sans-serif\" font-size=\"12\" font-style=\"italic\" lengthAdjust=\"spacingAndGlyphs\" textLength=\"40\" x=\"110\" y=\"100.1387\">«part»</text><text fill=\"#000000\" font-family=\"sans-serif\" font-size=\"12\" lengthAdjust=\"spacingAndGlyphs\" textLength=\"22\" x=\"119\" y=\"114.1074\">y: B</text><line style=\"stroke: #383838; stroke-width: 1.5;\" x1=\"110\" x2=\"150\" y1=\"121.9375\" y2=\"121.9375\"/></a><!--MD5=[14ccda38c055a5c0da953d572bc50960]\n",
       "link E7 to E3--><a href=\"psysml:520b462f-0086-4fa2-a8c7-c457cfb393b0\" target=\"_top\" title=\"psysml:520b462f-0086-4fa2-a8c7-c457cfb393b0\" xlink:actuate=\"onRequest\" xlink:href=\"psysml:520b462f-0086-4fa2-a8c7-c457cfb393b0\" xlink:show=\"new\" xlink:title=\"psysml:520b462f-0086-4fa2-a8c7-c457cfb393b0\" xlink:type=\"simple\"><path d=\"M382,130.1 C382,145.37 382,166.16 382,184.57 \" fill=\"none\" id=\"E7-&gt;E3\" style=\"stroke: #383838; stroke-width: 1.0;\"/><polygon fill=\"#FFFFFF\" points=\"382,204.61,375,185.61,389,185.61,382,204.61\" style=\"stroke: #383838; stroke-width: 1.0;\"/><ellipse cx=\"377\" cy=\"179.91\" fill=\"#383838\" rx=\"2\" ry=\"2\" style=\"stroke: #383838; stroke-width: 1.0;\"/><ellipse cx=\"387\" cy=\"179.91\" fill=\"#383838\" rx=\"2\" ry=\"2\" style=\"stroke: #383838; stroke-width: 1.0;\"/></a><!--MD5=[1ccb2481ffa92f8d51a74ee30c51832a]\n",
       "link E8 to E5--><a href=\"psysml:7aecf3a3-7124-43a8-804d-679627dba63d\" target=\"_top\" title=\"psysml:7aecf3a3-7124-43a8-804d-679627dba63d\" xlink:actuate=\"onRequest\" xlink:href=\"psysml:7aecf3a3-7124-43a8-804d-679627dba63d\" xlink:show=\"new\" xlink:title=\"psysml:7aecf3a3-7124-43a8-804d-679627dba63d\" xlink:type=\"simple\"><path d=\"M283.84,124.59 C272.23,133.52 257.5,144.61 244,154 C223.51,168.25 200.41,183.24 180.38,195.91 \" fill=\"none\" id=\"E8-&gt;E5\" style=\"stroke: #383838; stroke-width: 1.0;\"/><polygon fill=\"#FFFFFF\" points=\"163.36,206.57,175.7353,190.5434,183.175,202.403,163.36,206.57\" style=\"stroke: #383838; stroke-width: 1.0;\"/><ellipse cx=\"181.6267\" cy=\"189.2086\" fill=\"#383838\" rx=\"2\" ry=\"2\" style=\"stroke: #383838; stroke-width: 1.0;\"/><ellipse cx=\"186.9408\" cy=\"197.6797\" fill=\"#383838\" rx=\"2\" ry=\"2\" style=\"stroke: #383838; stroke-width: 1.0;\"/></a><!--MD5=[feeac5eb423634930294aa81f2d25a4c]\n",
       "link E10 to E3--><a href=\"psysml:fd0acd65-b864-4a8e-8ff2-cbce99549eac\" target=\"_top\" title=\"psysml:fd0acd65-b864-4a8e-8ff2-cbce99549eac\" xlink:actuate=\"onRequest\" xlink:href=\"psysml:fd0acd65-b864-4a8e-8ff2-cbce99549eac\" xlink:show=\"new\" xlink:title=\"psysml:fd0acd65-b864-4a8e-8ff2-cbce99549eac\" xlink:type=\"simple\"><path d=\"M228.16,124.59 C239.77,133.52 254.5,144.61 268,154 C288.49,168.25 311.59,183.24 331.62,195.91 \" fill=\"none\" id=\"E10-&gt;E3\" style=\"stroke: #383838; stroke-width: 1.0;\"/><polygon fill=\"#FFFFFF\" points=\"348.64,206.57,328.825,202.403,336.2647,190.5434,348.64,206.57\" style=\"stroke: #383838; stroke-width: 1.0;\"/><ellipse cx=\"325.0592\" cy=\"197.6797\" fill=\"#383838\" rx=\"2\" ry=\"2\" style=\"stroke: #383838; stroke-width: 1.0;\"/><ellipse cx=\"330.3733\" cy=\"189.2086\" fill=\"#383838\" rx=\"2\" ry=\"2\" style=\"stroke: #383838; stroke-width: 1.0;\"/></a><!--MD5=[07b77f6f309248d16187045709d1c26e]\n",
       "link E11 to E5--><a href=\"psysml:442cb8f2-ee4b-4dfa-8164-f495024e2707\" target=\"_top\" title=\"psysml:442cb8f2-ee4b-4dfa-8164-f495024e2707\" xlink:actuate=\"onRequest\" xlink:href=\"psysml:442cb8f2-ee4b-4dfa-8164-f495024e2707\" xlink:show=\"new\" xlink:title=\"psysml:442cb8f2-ee4b-4dfa-8164-f495024e2707\" xlink:type=\"simple\"><path d=\"M130,130.1 C130,145.37 130,166.16 130,184.57 \" fill=\"none\" id=\"E11-&gt;E5\" style=\"stroke: #383838; stroke-width: 1.0;\"/><polygon fill=\"#FFFFFF\" points=\"130,204.61,123,185.61,137,185.61,130,204.61\" style=\"stroke: #383838; stroke-width: 1.0;\"/><ellipse cx=\"125\" cy=\"179.91\" fill=\"#383838\" rx=\"2\" ry=\"2\" style=\"stroke: #383838; stroke-width: 1.0;\"/><ellipse cx=\"135\" cy=\"179.91\" fill=\"#383838\" rx=\"2\" ry=\"2\" style=\"stroke: #383838; stroke-width: 1.0;\"/></a><!--MD5=[39f41a0e550fb3d73b4d8135617e30a2]\n",
       "link E12 to E3--><a href=\"psysml:fab56a21-03ff-446d-9dd1-385c5373a3f2\" target=\"_top\" title=\"psysml:fab56a21-03ff-446d-9dd1-385c5373a3f2\" xlink:actuate=\"onRequest\" xlink:href=\"psysml:fab56a21-03ff-446d-9dd1-385c5373a3f2\" xlink:show=\"new\" xlink:title=\"psysml:fab56a21-03ff-446d-9dd1-385c5373a3f2\" xlink:type=\"simple\"><path d=\"M444.7,130.1 C434.28,146.2 419.89,168.44 407.53,187.55 \" fill=\"none\" id=\"E12-&gt;E3\" style=\"stroke: #383838; stroke-width: 1.0;\"/><polygon fill=\"#FFFFFF\" points=\"396.49,204.61,400.9313,184.8546,412.6866,192.4581,396.49,204.61\" style=\"stroke: #383838; stroke-width: 1.0;\"/><ellipse cx=\"405.7063\" cy=\"181.1547\" fill=\"#383838\" rx=\"2\" ry=\"2\" style=\"stroke: #383838; stroke-width: 1.0;\"/><ellipse cx=\"414.103\" cy=\"186.5858\" fill=\"#383838\" rx=\"2\" ry=\"2\" style=\"stroke: #383838; stroke-width: 1.0;\"/></a><!--MD5=[066b2d8af59fea80ccdb3d54ad5c1091]\n",
       "link E13 to E5--><a href=\"psysml:5cad6703-6f19-4c46-9c46-92acb368aec7\" target=\"_top\" title=\"psysml:5cad6703-6f19-4c46-9c46-92acb368aec7\" xlink:actuate=\"onRequest\" xlink:href=\"psysml:5cad6703-6f19-4c46-9c46-92acb368aec7\" xlink:show=\"new\" xlink:title=\"psysml:5cad6703-6f19-4c46-9c46-92acb368aec7\" xlink:type=\"simple\"><path d=\"M67.3,130.1 C77.72,146.2 92.11,168.44 104.47,187.55 \" fill=\"none\" id=\"E13-&gt;E5\" style=\"stroke: #383838; stroke-width: 1.0;\"/><polygon fill=\"#FFFFFF\" points=\"115.51,204.61,99.3134,192.4581,111.0687,184.8546,115.51,204.61\" style=\"stroke: #383838; stroke-width: 1.0;\"/><ellipse cx=\"97.897\" cy=\"186.5858\" fill=\"#383838\" rx=\"2\" ry=\"2\" style=\"stroke: #383838; stroke-width: 1.0;\"/><ellipse cx=\"106.2937\" cy=\"181.1547\" fill=\"#383838\" rx=\"2\" ry=\"2\" style=\"stroke: #383838; stroke-width: 1.0;\"/></a><!--MD5=[534485f3ba41e87c456031df979328cc]\n",
       "@startuml\r\n",
       "skinparam monochrome true\r\n",
       "skinparam classbackgroundcolor white\r\n",
       "skinparam shadowing false\r\n",
       "skinparam wrapWidth 300\r\n",
       "hide circle\r\n",
       "\r\n",
       "package \"CircularImport\" as E1  [[psysml:7332441d-5859-4b68-88e6-44e4d7acfbc9 ]]  {\r\n",
       "package \"P1\" as E2  [[psysml:5f20ae7d-4d57-41a2-9907-55aa74d31ca3 ]]  {\r\n",
       "comp def \"A\" as E3  <<(T,blue) part def>> [[psysml:a77b04ef-8587-44c9-8b7f-efa23f8b51b3 ]] {\r\n",
       "}\r\n",
       "}\r\n",
       "package \"P2\" as E4  [[psysml:ebcd3975-b264-4248-9466-34d42d3f68ce ]]  {\r\n",
       "comp def \"B\" as E5  <<(T,blue) part def>> [[psysml:0236a647-9823-419e-b974-acac8cdc5ece ]] {\r\n",
       "}\r\n",
       "}\r\n",
       "package \"Test1\" as E6  [[psysml:da6ad505-2daa-495a-83b8-d3ba9d2de3a4 ]]  {\r\n",
       "comp usage \"x: A\" as E7  <<(T,blue) part>> [[psysml:d9c30419-fa03-4224-9f9b-cc52ece95c03 ]] {\r\n",
       "}\r\n",
       "comp usage \"y: B\" as E8  <<(T,blue) part>> [[psysml:32c0d6a2-b48f-4756-bec9-ba81426d308d ]] {\r\n",
       "}\r\n",
       "}\r\n",
       "package \"Test2\" as E9  [[psysml:b0babda1-ae00-488b-8e87-1a86d4c9a0c6 ]]  {\r\n",
       "comp usage \"x: A\" as E10  <<(T,blue) part>> [[psysml:4b1ceaae-3a33-4edd-a713-ae072a8ba794 ]] {\r\n",
       "}\r\n",
       "comp usage \"y: B\" as E11  <<(T,blue) part>> [[psysml:8a3e0fcf-a1f5-42bd-9af7-3ab68d312f86 ]] {\r\n",
       "}\r\n",
       "}\r\n",
       "comp usage \"x: A\" as E12  <<(T,blue) part>> [[psysml:be17b73a-3dde-44ce-ab8b-a0409ce39ee3 ]] {\r\n",
       "}\r\n",
       "comp usage \"y: B\" as E13  <<(T,blue) part>> [[psysml:70775e2d-ada4-46b3-b3bb-1618b7e606cf ]] {\r\n",
       "}\r\n",
       "}\r\n",
       "E7 - -:|> E3 [[psysml:520b462f-0086-4fa2-a8c7-c457cfb393b0 ]] \r\n",
       "E8 - -:|> E5 [[psysml:7aecf3a3-7124-43a8-804d-679627dba63d ]] \r\n",
       "E10 - -:|> E3 [[psysml:fd0acd65-b864-4a8e-8ff2-cbce99549eac ]] \r\n",
       "E11 - -:|> E5 [[psysml:442cb8f2-ee4b-4dfa-8164-f495024e2707 ]] \r\n",
       "E12 - -:|> E3 [[psysml:fab56a21-03ff-446d-9dd1-385c5373a3f2 ]] \r\n",
       "E13 - -:|> E5 [[psysml:5cad6703-6f19-4c46-9c46-92acb368aec7 ]] \r\n",
       "@enduml\r\n",
       "\n",
       "PlantUML version 1.2020.13(Sat Jun 13 12:26:38 UTC 2020)\n",
       "(EPL source distribution)\n",
       "Java Runtime: OpenJDK Runtime Environment\n",
       "JVM: OpenJDK 64-Bit Server VM\n",
       "Default Encoding: UTF-8\n",
       "Language: en\n",
       "Country: null\n",
       "--></g></svg>"
      ]
     },
     "execution_count": 43,
     "metadata": {},
     "output_type": "execute_result"
    }
   ],
   "source": [
    "%viz --style=\"DEFAULT\" --view=\"MIXED\" \"CircularImport\""
   ]
  },
  {
   "cell_type": "code",
   "execution_count": 44,
   "id": "4b706ee7",
   "metadata": {
    "execution": {
     "iopub.execute_input": "2021-09-27T07:16:37.443188Z",
     "iopub.status.busy": "2021-09-27T07:16:37.442787Z",
     "iopub.status.idle": "2021-09-27T07:16:37.476939Z",
     "shell.execute_reply": "2021-09-27T07:16:37.476587Z"
    }
   },
   "outputs": [
    {
     "data": {
      "image/svg+xml": [
       "<?xml version=\"1.0\" encoding=\"UTF-8\" standalone=\"no\"?><svg xmlns=\"http://www.w3.org/2000/svg\" xmlns:xlink=\"http://www.w3.org/1999/xlink\" contentScriptType=\"application/ecmascript\" contentStyleType=\"text/css\" height=\"303px\" preserveAspectRatio=\"none\" style=\"width:518px;height:303px;\" version=\"1.1\" viewBox=\"0 0 518 303\" width=\"518px\" zoomAndPan=\"magnify\"><defs/><g><!--MD5=[fbc87193dbaf4d95561dea2c320d4a47]\n",
       "cluster E1--><a href=\"psysml:7332441d-5859-4b68-88e6-44e4d7acfbc9\" target=\"_top\" title=\"psysml:7332441d-5859-4b68-88e6-44e4d7acfbc9\" xlink:actuate=\"onRequest\" xlink:href=\"psysml:7332441d-5859-4b68-88e6-44e4d7acfbc9\" xlink:show=\"new\" xlink:title=\"psysml:7332441d-5859-4b68-88e6-44e4d7acfbc9\" xlink:type=\"simple\"><polygon fill=\"#FFFFFF\" points=\"16,6,117,6,124,28.2969,496,28.2969,496,291,16,291,16,6\" style=\"stroke: #000000; stroke-width: 1.5;\"/><line style=\"stroke: #000000; stroke-width: 1.5;\" x1=\"16\" x2=\"124\" y1=\"28.2969\" y2=\"28.2969\"/><text fill=\"#000000\" font-family=\"sans-serif\" font-size=\"14\" font-weight=\"bold\" lengthAdjust=\"spacingAndGlyphs\" textLength=\"95\" x=\"20\" y=\"20.9951\">CircularImport</text></a><!--MD5=[e4f7fae6ed58524ba242bb0b0d3be6b7]\n",
       "cluster E2--><a href=\"psysml:5f20ae7d-4d57-41a2-9907-55aa74d31ca3\" target=\"_top\" title=\"psysml:5f20ae7d-4d57-41a2-9907-55aa74d31ca3\" xlink:actuate=\"onRequest\" xlink:href=\"psysml:5f20ae7d-4d57-41a2-9907-55aa74d31ca3\" xlink:show=\"new\" xlink:title=\"psysml:5f20ae7d-4d57-41a2-9907-55aa74d31ca3\" xlink:type=\"simple\"><polygon fill=\"#FFFFFF\" points=\"333,170,357,170,364,192.2969,431,192.2969,431,267,333,267,333,170\" style=\"stroke: #000000; stroke-width: 1.5;\"/><line style=\"stroke: #000000; stroke-width: 1.5;\" x1=\"333\" x2=\"364\" y1=\"192.2969\" y2=\"192.2969\"/><text fill=\"#000000\" font-family=\"sans-serif\" font-size=\"14\" font-weight=\"bold\" lengthAdjust=\"spacingAndGlyphs\" textLength=\"18\" x=\"337\" y=\"184.9951\">P1</text></a><!--MD5=[f6df4d0ebaf0b5dfb2ced0ae5af7c670]\n",
       "cluster E4--><a href=\"psysml:ebcd3975-b264-4248-9466-34d42d3f68ce\" target=\"_top\" title=\"psysml:ebcd3975-b264-4248-9466-34d42d3f68ce\" xlink:actuate=\"onRequest\" xlink:href=\"psysml:ebcd3975-b264-4248-9466-34d42d3f68ce\" xlink:show=\"new\" xlink:title=\"psysml:ebcd3975-b264-4248-9466-34d42d3f68ce\" xlink:type=\"simple\"><polygon fill=\"#FFFFFF\" points=\"81,170,105,170,112,192.2969,179,192.2969,179,267,81,267,81,170\" style=\"stroke: #000000; stroke-width: 1.5;\"/><line style=\"stroke: #000000; stroke-width: 1.5;\" x1=\"81\" x2=\"112\" y1=\"192.2969\" y2=\"192.2969\"/><text fill=\"#000000\" font-family=\"sans-serif\" font-size=\"14\" font-weight=\"bold\" lengthAdjust=\"spacingAndGlyphs\" textLength=\"18\" x=\"85\" y=\"184.9951\">P2</text></a><!--MD5=[14e3b0961a2654348d326746436168a1]\n",
       "cluster E6--><a href=\"psysml:da6ad505-2daa-495a-83b8-d3ba9d2de3a4\" target=\"_top\" title=\"psysml:da6ad505-2daa-495a-83b8-d3ba9d2de3a4\" xlink:actuate=\"onRequest\" xlink:href=\"psysml:da6ad505-2daa-495a-83b8-d3ba9d2de3a4\" xlink:show=\"new\" xlink:title=\"psysml:da6ad505-2daa-495a-83b8-d3ba9d2de3a4\" xlink:type=\"simple\"><polygon fill=\"#FFFFFF\" points=\"268,49,314,49,321,71.2969,419,71.2969,419,146,268,146,268,49\" style=\"stroke: #000000; stroke-width: 1.5;\"/><line style=\"stroke: #000000; stroke-width: 1.5;\" x1=\"268\" x2=\"321\" y1=\"71.2969\" y2=\"71.2969\"/><text fill=\"#000000\" font-family=\"sans-serif\" font-size=\"14\" font-weight=\"bold\" lengthAdjust=\"spacingAndGlyphs\" textLength=\"40\" x=\"272\" y=\"63.9951\">Test1</text></a><!--MD5=[7f149f147074ac12df2cb0a7728a5fb0]\n",
       "cluster E9--><a href=\"psysml:b0babda1-ae00-488b-8e87-1a86d4c9a0c6\" target=\"_top\" title=\"psysml:b0babda1-ae00-488b-8e87-1a86d4c9a0c6\" xlink:actuate=\"onRequest\" xlink:href=\"psysml:b0babda1-ae00-488b-8e87-1a86d4c9a0c6\" xlink:show=\"new\" xlink:title=\"psysml:b0babda1-ae00-488b-8e87-1a86d4c9a0c6\" xlink:type=\"simple\"><polygon fill=\"#FFFFFF\" points=\"93,49,139,49,146,71.2969,244,71.2969,244,146,93,146,93,49\" style=\"stroke: #000000; stroke-width: 1.5;\"/><line style=\"stroke: #000000; stroke-width: 1.5;\" x1=\"93\" x2=\"146\" y1=\"71.2969\" y2=\"71.2969\"/><text fill=\"#000000\" font-family=\"sans-serif\" font-size=\"14\" font-weight=\"bold\" lengthAdjust=\"spacingAndGlyphs\" textLength=\"40\" x=\"97\" y=\"63.9951\">Test2</text></a><!--MD5=[49a0ec8f00dab7302a31f22d0f0fe584]\n",
       "class E12--><a href=\"psysml:be17b73a-3dde-44ce-ab8b-a0409ce39ee3\" target=\"_top\" title=\"psysml:be17b73a-3dde-44ce-ab8b-a0409ce39ee3\" xlink:actuate=\"onRequest\" xlink:href=\"psysml:be17b73a-3dde-44ce-ab8b-a0409ce39ee3\" xlink:show=\"new\" xlink:title=\"psysml:be17b73a-3dde-44ce-ab8b-a0409ce39ee3\" xlink:type=\"simple\"><rect fill=\"#FFFFFF\" height=\"45.9375\" id=\"E12\" rx=\"10\" ry=\"10\" style=\"stroke: #383838; stroke-width: 1.5;\" width=\"42\" x=\"438\" y=\"84\"/><text fill=\"#000000\" font-family=\"sans-serif\" font-size=\"12\" font-style=\"italic\" lengthAdjust=\"spacingAndGlyphs\" textLength=\"40\" x=\"439\" y=\"100.1387\">«part»</text><text fill=\"#000000\" font-family=\"sans-serif\" font-size=\"12\" lengthAdjust=\"spacingAndGlyphs\" textLength=\"22\" x=\"448\" y=\"114.1074\">x: A</text><line style=\"stroke: #383838; stroke-width: 1.5;\" x1=\"439\" x2=\"479\" y1=\"121.9375\" y2=\"121.9375\"/></a><!--MD5=[ee3c913d1a06f366521f9ef512b67efe]\n",
       "class E13--><a href=\"psysml:70775e2d-ada4-46b3-b3bb-1618b7e606cf\" target=\"_top\" title=\"psysml:70775e2d-ada4-46b3-b3bb-1618b7e606cf\" xlink:actuate=\"onRequest\" xlink:href=\"psysml:70775e2d-ada4-46b3-b3bb-1618b7e606cf\" xlink:show=\"new\" xlink:title=\"psysml:70775e2d-ada4-46b3-b3bb-1618b7e606cf\" xlink:type=\"simple\"><rect fill=\"#FFFFFF\" height=\"45.9375\" id=\"E13\" rx=\"10\" ry=\"10\" style=\"stroke: #383838; stroke-width: 1.5;\" width=\"42\" x=\"32\" y=\"84\"/><text fill=\"#000000\" font-family=\"sans-serif\" font-size=\"12\" font-style=\"italic\" lengthAdjust=\"spacingAndGlyphs\" textLength=\"40\" x=\"33\" y=\"100.1387\">«part»</text><text fill=\"#000000\" font-family=\"sans-serif\" font-size=\"12\" lengthAdjust=\"spacingAndGlyphs\" textLength=\"22\" x=\"42\" y=\"114.1074\">y: B</text><line style=\"stroke: #383838; stroke-width: 1.5;\" x1=\"33\" x2=\"73\" y1=\"121.9375\" y2=\"121.9375\"/></a><!--MD5=[09b614a08d8cba4a07c9adeb5e0fee81]\n",
       "class E3--><a href=\"psysml:a77b04ef-8587-44c9-8b7f-efa23f8b51b3\" target=\"_top\" title=\"psysml:a77b04ef-8587-44c9-8b7f-efa23f8b51b3\" xlink:actuate=\"onRequest\" xlink:href=\"psysml:a77b04ef-8587-44c9-8b7f-efa23f8b51b3\" xlink:show=\"new\" xlink:title=\"psysml:a77b04ef-8587-44c9-8b7f-efa23f8b51b3\" xlink:type=\"simple\"><rect fill=\"#FFFFFF\" height=\"45.9375\" id=\"E3\" style=\"stroke: #383838; stroke-width: 1.5;\" width=\"66\" x=\"349\" y=\"205\"/><text fill=\"#000000\" font-family=\"sans-serif\" font-size=\"12\" font-style=\"italic\" lengthAdjust=\"spacingAndGlyphs\" textLength=\"64\" x=\"350\" y=\"221.1387\">«part def»</text><text fill=\"#000000\" font-family=\"sans-serif\" font-size=\"12\" lengthAdjust=\"spacingAndGlyphs\" textLength=\"8\" x=\"378\" y=\"235.1074\">A</text><line style=\"stroke: #383838; stroke-width: 1.5;\" x1=\"350\" x2=\"414\" y1=\"242.9375\" y2=\"242.9375\"/></a><!--MD5=[270fce915f116d4de14055a7c1d9a0f3]\n",
       "class E5--><a href=\"psysml:0236a647-9823-419e-b974-acac8cdc5ece\" target=\"_top\" title=\"psysml:0236a647-9823-419e-b974-acac8cdc5ece\" xlink:actuate=\"onRequest\" xlink:href=\"psysml:0236a647-9823-419e-b974-acac8cdc5ece\" xlink:show=\"new\" xlink:title=\"psysml:0236a647-9823-419e-b974-acac8cdc5ece\" xlink:type=\"simple\"><rect fill=\"#FFFFFF\" height=\"45.9375\" id=\"E5\" style=\"stroke: #383838; stroke-width: 1.5;\" width=\"66\" x=\"97\" y=\"205\"/><text fill=\"#000000\" font-family=\"sans-serif\" font-size=\"12\" font-style=\"italic\" lengthAdjust=\"spacingAndGlyphs\" textLength=\"64\" x=\"98\" y=\"221.1387\">«part def»</text><text fill=\"#000000\" font-family=\"sans-serif\" font-size=\"12\" lengthAdjust=\"spacingAndGlyphs\" textLength=\"8\" x=\"126\" y=\"235.1074\">B</text><line style=\"stroke: #383838; stroke-width: 1.5;\" x1=\"98\" x2=\"162\" y1=\"242.9375\" y2=\"242.9375\"/></a><!--MD5=[2156ba9850f5573cc1fc38a6a4b2f02b]\n",
       "class E7--><a href=\"psysml:d9c30419-fa03-4224-9f9b-cc52ece95c03\" target=\"_top\" title=\"psysml:d9c30419-fa03-4224-9f9b-cc52ece95c03\" xlink:actuate=\"onRequest\" xlink:href=\"psysml:d9c30419-fa03-4224-9f9b-cc52ece95c03\" xlink:show=\"new\" xlink:title=\"psysml:d9c30419-fa03-4224-9f9b-cc52ece95c03\" xlink:type=\"simple\"><rect fill=\"#FFFFFF\" height=\"45.9375\" id=\"E7\" rx=\"10\" ry=\"10\" style=\"stroke: #383838; stroke-width: 1.5;\" width=\"42\" x=\"361\" y=\"84\"/><text fill=\"#000000\" font-family=\"sans-serif\" font-size=\"12\" font-style=\"italic\" lengthAdjust=\"spacingAndGlyphs\" textLength=\"40\" x=\"362\" y=\"100.1387\">«part»</text><text fill=\"#000000\" font-family=\"sans-serif\" font-size=\"12\" lengthAdjust=\"spacingAndGlyphs\" textLength=\"22\" x=\"371\" y=\"114.1074\">x: A</text><line style=\"stroke: #383838; stroke-width: 1.5;\" x1=\"362\" x2=\"402\" y1=\"121.9375\" y2=\"121.9375\"/></a><!--MD5=[b9389687b975829384b498ac4b7476b2]\n",
       "class E8--><a href=\"psysml:32c0d6a2-b48f-4756-bec9-ba81426d308d\" target=\"_top\" title=\"psysml:32c0d6a2-b48f-4756-bec9-ba81426d308d\" xlink:actuate=\"onRequest\" xlink:href=\"psysml:32c0d6a2-b48f-4756-bec9-ba81426d308d\" xlink:show=\"new\" xlink:title=\"psysml:32c0d6a2-b48f-4756-bec9-ba81426d308d\" xlink:type=\"simple\"><rect fill=\"#FFFFFF\" height=\"45.9375\" id=\"E8\" rx=\"10\" ry=\"10\" style=\"stroke: #383838; stroke-width: 1.5;\" width=\"42\" x=\"284\" y=\"84\"/><text fill=\"#000000\" font-family=\"sans-serif\" font-size=\"12\" font-style=\"italic\" lengthAdjust=\"spacingAndGlyphs\" textLength=\"40\" x=\"285\" y=\"100.1387\">«part»</text><text fill=\"#000000\" font-family=\"sans-serif\" font-size=\"12\" lengthAdjust=\"spacingAndGlyphs\" textLength=\"22\" x=\"294\" y=\"114.1074\">y: B</text><line style=\"stroke: #383838; stroke-width: 1.5;\" x1=\"285\" x2=\"325\" y1=\"121.9375\" y2=\"121.9375\"/></a><!--MD5=[96f4274e9e20536e775497830990834d]\n",
       "class E10--><a href=\"psysml:4b1ceaae-3a33-4edd-a713-ae072a8ba794\" target=\"_top\" title=\"psysml:4b1ceaae-3a33-4edd-a713-ae072a8ba794\" xlink:actuate=\"onRequest\" xlink:href=\"psysml:4b1ceaae-3a33-4edd-a713-ae072a8ba794\" xlink:show=\"new\" xlink:title=\"psysml:4b1ceaae-3a33-4edd-a713-ae072a8ba794\" xlink:type=\"simple\"><rect fill=\"#FFFFFF\" height=\"45.9375\" id=\"E10\" rx=\"10\" ry=\"10\" style=\"stroke: #383838; stroke-width: 1.5;\" width=\"42\" x=\"186\" y=\"84\"/><text fill=\"#000000\" font-family=\"sans-serif\" font-size=\"12\" font-style=\"italic\" lengthAdjust=\"spacingAndGlyphs\" textLength=\"40\" x=\"187\" y=\"100.1387\">«part»</text><text fill=\"#000000\" font-family=\"sans-serif\" font-size=\"12\" lengthAdjust=\"spacingAndGlyphs\" textLength=\"22\" x=\"196\" y=\"114.1074\">x: A</text><line style=\"stroke: #383838; stroke-width: 1.5;\" x1=\"187\" x2=\"227\" y1=\"121.9375\" y2=\"121.9375\"/></a><!--MD5=[1dd1bfd58a279cf63c5f349dbc8fc6a1]\n",
       "class E11--><a href=\"psysml:8a3e0fcf-a1f5-42bd-9af7-3ab68d312f86\" target=\"_top\" title=\"psysml:8a3e0fcf-a1f5-42bd-9af7-3ab68d312f86\" xlink:actuate=\"onRequest\" xlink:href=\"psysml:8a3e0fcf-a1f5-42bd-9af7-3ab68d312f86\" xlink:show=\"new\" xlink:title=\"psysml:8a3e0fcf-a1f5-42bd-9af7-3ab68d312f86\" xlink:type=\"simple\"><rect fill=\"#FFFFFF\" height=\"45.9375\" id=\"E11\" rx=\"10\" ry=\"10\" style=\"stroke: #383838; stroke-width: 1.5;\" width=\"42\" x=\"109\" y=\"84\"/><text fill=\"#000000\" font-family=\"sans-serif\" font-size=\"12\" font-style=\"italic\" lengthAdjust=\"spacingAndGlyphs\" textLength=\"40\" x=\"110\" y=\"100.1387\">«part»</text><text fill=\"#000000\" font-family=\"sans-serif\" font-size=\"12\" lengthAdjust=\"spacingAndGlyphs\" textLength=\"22\" x=\"119\" y=\"114.1074\">y: B</text><line style=\"stroke: #383838; stroke-width: 1.5;\" x1=\"110\" x2=\"150\" y1=\"121.9375\" y2=\"121.9375\"/></a><!--MD5=[14ccda38c055a5c0da953d572bc50960]\n",
       "link E7 to E3--><a href=\"psysml:520b462f-0086-4fa2-a8c7-c457cfb393b0\" target=\"_top\" title=\"psysml:520b462f-0086-4fa2-a8c7-c457cfb393b0\" xlink:actuate=\"onRequest\" xlink:href=\"psysml:520b462f-0086-4fa2-a8c7-c457cfb393b0\" xlink:show=\"new\" xlink:title=\"psysml:520b462f-0086-4fa2-a8c7-c457cfb393b0\" xlink:type=\"simple\"><path d=\"M382,130.1 C382,145.37 382,166.16 382,184.57 \" fill=\"none\" id=\"E7-&gt;E3\" style=\"stroke: #383838; stroke-width: 1.0;\"/><polygon fill=\"#FFFFFF\" points=\"382,204.61,375,185.61,389,185.61,382,204.61\" style=\"stroke: #383838; stroke-width: 1.0;\"/><ellipse cx=\"377\" cy=\"179.91\" fill=\"#383838\" rx=\"2\" ry=\"2\" style=\"stroke: #383838; stroke-width: 1.0;\"/><ellipse cx=\"387\" cy=\"179.91\" fill=\"#383838\" rx=\"2\" ry=\"2\" style=\"stroke: #383838; stroke-width: 1.0;\"/></a><!--MD5=[1ccb2481ffa92f8d51a74ee30c51832a]\n",
       "link E8 to E5--><a href=\"psysml:7aecf3a3-7124-43a8-804d-679627dba63d\" target=\"_top\" title=\"psysml:7aecf3a3-7124-43a8-804d-679627dba63d\" xlink:actuate=\"onRequest\" xlink:href=\"psysml:7aecf3a3-7124-43a8-804d-679627dba63d\" xlink:show=\"new\" xlink:title=\"psysml:7aecf3a3-7124-43a8-804d-679627dba63d\" xlink:type=\"simple\"><path d=\"M283.84,124.59 C272.23,133.52 257.5,144.61 244,154 C223.51,168.25 200.41,183.24 180.38,195.91 \" fill=\"none\" id=\"E8-&gt;E5\" style=\"stroke: #383838; stroke-width: 1.0;\"/><polygon fill=\"#FFFFFF\" points=\"163.36,206.57,175.7353,190.5434,183.175,202.403,163.36,206.57\" style=\"stroke: #383838; stroke-width: 1.0;\"/><ellipse cx=\"181.6267\" cy=\"189.2086\" fill=\"#383838\" rx=\"2\" ry=\"2\" style=\"stroke: #383838; stroke-width: 1.0;\"/><ellipse cx=\"186.9408\" cy=\"197.6797\" fill=\"#383838\" rx=\"2\" ry=\"2\" style=\"stroke: #383838; stroke-width: 1.0;\"/></a><!--MD5=[feeac5eb423634930294aa81f2d25a4c]\n",
       "link E10 to E3--><a href=\"psysml:fd0acd65-b864-4a8e-8ff2-cbce99549eac\" target=\"_top\" title=\"psysml:fd0acd65-b864-4a8e-8ff2-cbce99549eac\" xlink:actuate=\"onRequest\" xlink:href=\"psysml:fd0acd65-b864-4a8e-8ff2-cbce99549eac\" xlink:show=\"new\" xlink:title=\"psysml:fd0acd65-b864-4a8e-8ff2-cbce99549eac\" xlink:type=\"simple\"><path d=\"M228.16,124.59 C239.77,133.52 254.5,144.61 268,154 C288.49,168.25 311.59,183.24 331.62,195.91 \" fill=\"none\" id=\"E10-&gt;E3\" style=\"stroke: #383838; stroke-width: 1.0;\"/><polygon fill=\"#FFFFFF\" points=\"348.64,206.57,328.825,202.403,336.2647,190.5434,348.64,206.57\" style=\"stroke: #383838; stroke-width: 1.0;\"/><ellipse cx=\"325.0592\" cy=\"197.6797\" fill=\"#383838\" rx=\"2\" ry=\"2\" style=\"stroke: #383838; stroke-width: 1.0;\"/><ellipse cx=\"330.3733\" cy=\"189.2086\" fill=\"#383838\" rx=\"2\" ry=\"2\" style=\"stroke: #383838; stroke-width: 1.0;\"/></a><!--MD5=[07b77f6f309248d16187045709d1c26e]\n",
       "link E11 to E5--><a href=\"psysml:442cb8f2-ee4b-4dfa-8164-f495024e2707\" target=\"_top\" title=\"psysml:442cb8f2-ee4b-4dfa-8164-f495024e2707\" xlink:actuate=\"onRequest\" xlink:href=\"psysml:442cb8f2-ee4b-4dfa-8164-f495024e2707\" xlink:show=\"new\" xlink:title=\"psysml:442cb8f2-ee4b-4dfa-8164-f495024e2707\" xlink:type=\"simple\"><path d=\"M130,130.1 C130,145.37 130,166.16 130,184.57 \" fill=\"none\" id=\"E11-&gt;E5\" style=\"stroke: #383838; stroke-width: 1.0;\"/><polygon fill=\"#FFFFFF\" points=\"130,204.61,123,185.61,137,185.61,130,204.61\" style=\"stroke: #383838; stroke-width: 1.0;\"/><ellipse cx=\"125\" cy=\"179.91\" fill=\"#383838\" rx=\"2\" ry=\"2\" style=\"stroke: #383838; stroke-width: 1.0;\"/><ellipse cx=\"135\" cy=\"179.91\" fill=\"#383838\" rx=\"2\" ry=\"2\" style=\"stroke: #383838; stroke-width: 1.0;\"/></a><!--MD5=[39f41a0e550fb3d73b4d8135617e30a2]\n",
       "link E12 to E3--><a href=\"psysml:fab56a21-03ff-446d-9dd1-385c5373a3f2\" target=\"_top\" title=\"psysml:fab56a21-03ff-446d-9dd1-385c5373a3f2\" xlink:actuate=\"onRequest\" xlink:href=\"psysml:fab56a21-03ff-446d-9dd1-385c5373a3f2\" xlink:show=\"new\" xlink:title=\"psysml:fab56a21-03ff-446d-9dd1-385c5373a3f2\" xlink:type=\"simple\"><path d=\"M444.7,130.1 C434.28,146.2 419.89,168.44 407.53,187.55 \" fill=\"none\" id=\"E12-&gt;E3\" style=\"stroke: #383838; stroke-width: 1.0;\"/><polygon fill=\"#FFFFFF\" points=\"396.49,204.61,400.9313,184.8546,412.6866,192.4581,396.49,204.61\" style=\"stroke: #383838; stroke-width: 1.0;\"/><ellipse cx=\"405.7063\" cy=\"181.1547\" fill=\"#383838\" rx=\"2\" ry=\"2\" style=\"stroke: #383838; stroke-width: 1.0;\"/><ellipse cx=\"414.103\" cy=\"186.5858\" fill=\"#383838\" rx=\"2\" ry=\"2\" style=\"stroke: #383838; stroke-width: 1.0;\"/></a><!--MD5=[066b2d8af59fea80ccdb3d54ad5c1091]\n",
       "link E13 to E5--><a href=\"psysml:5cad6703-6f19-4c46-9c46-92acb368aec7\" target=\"_top\" title=\"psysml:5cad6703-6f19-4c46-9c46-92acb368aec7\" xlink:actuate=\"onRequest\" xlink:href=\"psysml:5cad6703-6f19-4c46-9c46-92acb368aec7\" xlink:show=\"new\" xlink:title=\"psysml:5cad6703-6f19-4c46-9c46-92acb368aec7\" xlink:type=\"simple\"><path d=\"M67.3,130.1 C77.72,146.2 92.11,168.44 104.47,187.55 \" fill=\"none\" id=\"E13-&gt;E5\" style=\"stroke: #383838; stroke-width: 1.0;\"/><polygon fill=\"#FFFFFF\" points=\"115.51,204.61,99.3134,192.4581,111.0687,184.8546,115.51,204.61\" style=\"stroke: #383838; stroke-width: 1.0;\"/><ellipse cx=\"97.897\" cy=\"186.5858\" fill=\"#383838\" rx=\"2\" ry=\"2\" style=\"stroke: #383838; stroke-width: 1.0;\"/><ellipse cx=\"106.2937\" cy=\"181.1547\" fill=\"#383838\" rx=\"2\" ry=\"2\" style=\"stroke: #383838; stroke-width: 1.0;\"/></a><!--MD5=[01a7e616edafb589923a02c161adff20]\n",
       "@startuml\r\n",
       "top to bottom direction\r\n",
       "skinparam monochrome true\r\n",
       "skinparam classbackgroundcolor white\r\n",
       "skinparam shadowing false\r\n",
       "skinparam wrapWidth 300\r\n",
       "hide circle\r\n",
       "\r\n",
       "package \"CircularImport\" as E1  [[psysml:7332441d-5859-4b68-88e6-44e4d7acfbc9 ]]  {\r\n",
       "package \"P1\" as E2  [[psysml:5f20ae7d-4d57-41a2-9907-55aa74d31ca3 ]]  {\r\n",
       "comp def \"A\" as E3  <<(T,blue) part def>> [[psysml:a77b04ef-8587-44c9-8b7f-efa23f8b51b3 ]] {\r\n",
       "}\r\n",
       "}\r\n",
       "package \"P2\" as E4  [[psysml:ebcd3975-b264-4248-9466-34d42d3f68ce ]]  {\r\n",
       "comp def \"B\" as E5  <<(T,blue) part def>> [[psysml:0236a647-9823-419e-b974-acac8cdc5ece ]] {\r\n",
       "}\r\n",
       "}\r\n",
       "package \"Test1\" as E6  [[psysml:da6ad505-2daa-495a-83b8-d3ba9d2de3a4 ]]  {\r\n",
       "comp usage \"x: A\" as E7  <<(T,blue) part>> [[psysml:d9c30419-fa03-4224-9f9b-cc52ece95c03 ]] {\r\n",
       "}\r\n",
       "comp usage \"y: B\" as E8  <<(T,blue) part>> [[psysml:32c0d6a2-b48f-4756-bec9-ba81426d308d ]] {\r\n",
       "}\r\n",
       "}\r\n",
       "package \"Test2\" as E9  [[psysml:b0babda1-ae00-488b-8e87-1a86d4c9a0c6 ]]  {\r\n",
       "comp usage \"x: A\" as E10  <<(T,blue) part>> [[psysml:4b1ceaae-3a33-4edd-a713-ae072a8ba794 ]] {\r\n",
       "}\r\n",
       "comp usage \"y: B\" as E11  <<(T,blue) part>> [[psysml:8a3e0fcf-a1f5-42bd-9af7-3ab68d312f86 ]] {\r\n",
       "}\r\n",
       "}\r\n",
       "comp usage \"x: A\" as E12  <<(T,blue) part>> [[psysml:be17b73a-3dde-44ce-ab8b-a0409ce39ee3 ]] {\r\n",
       "}\r\n",
       "comp usage \"y: B\" as E13  <<(T,blue) part>> [[psysml:70775e2d-ada4-46b3-b3bb-1618b7e606cf ]] {\r\n",
       "}\r\n",
       "}\r\n",
       "E7 - -:|> E3 [[psysml:520b462f-0086-4fa2-a8c7-c457cfb393b0 ]] \r\n",
       "E8 - -:|> E5 [[psysml:7aecf3a3-7124-43a8-804d-679627dba63d ]] \r\n",
       "E10 - -:|> E3 [[psysml:fd0acd65-b864-4a8e-8ff2-cbce99549eac ]] \r\n",
       "E11 - -:|> E5 [[psysml:442cb8f2-ee4b-4dfa-8164-f495024e2707 ]] \r\n",
       "E12 - -:|> E3 [[psysml:fab56a21-03ff-446d-9dd1-385c5373a3f2 ]] \r\n",
       "E13 - -:|> E5 [[psysml:5cad6703-6f19-4c46-9c46-92acb368aec7 ]] \r\n",
       "@enduml\r\n",
       "\n",
       "PlantUML version 1.2020.13(Sat Jun 13 12:26:38 UTC 2020)\n",
       "(EPL source distribution)\n",
       "Java Runtime: OpenJDK Runtime Environment\n",
       "JVM: OpenJDK 64-Bit Server VM\n",
       "Default Encoding: UTF-8\n",
       "Language: en\n",
       "Country: null\n",
       "--></g></svg>"
      ]
     },
     "execution_count": 44,
     "metadata": {},
     "output_type": "execute_result"
    }
   ],
   "source": [
    "%viz --style=\"TB\" --view=\"Default\" \"CircularImport\""
   ]
  },
  {
   "cell_type": "code",
   "execution_count": 45,
   "id": "59d3cd1d",
   "metadata": {
    "execution": {
     "iopub.execute_input": "2021-09-27T07:16:37.526654Z",
     "iopub.status.busy": "2021-09-27T07:16:37.526250Z",
     "iopub.status.idle": "2021-09-27T07:16:37.563124Z",
     "shell.execute_reply": "2021-09-27T07:16:37.561781Z"
    }
   },
   "outputs": [
    {
     "data": {
      "image/svg+xml": [
       "<?xml version=\"1.0\" encoding=\"UTF-8\" standalone=\"no\"?><svg xmlns=\"http://www.w3.org/2000/svg\" xmlns:xlink=\"http://www.w3.org/1999/xlink\" contentScriptType=\"application/ecmascript\" contentStyleType=\"text/css\" height=\"303px\" preserveAspectRatio=\"none\" style=\"width:518px;height:303px;\" version=\"1.1\" viewBox=\"0 0 518 303\" width=\"518px\" zoomAndPan=\"magnify\"><defs/><g><!--MD5=[fbc87193dbaf4d95561dea2c320d4a47]\n",
       "cluster E1--><a href=\"psysml:7332441d-5859-4b68-88e6-44e4d7acfbc9\" target=\"_top\" title=\"psysml:7332441d-5859-4b68-88e6-44e4d7acfbc9\" xlink:actuate=\"onRequest\" xlink:href=\"psysml:7332441d-5859-4b68-88e6-44e4d7acfbc9\" xlink:show=\"new\" xlink:title=\"psysml:7332441d-5859-4b68-88e6-44e4d7acfbc9\" xlink:type=\"simple\"><polygon fill=\"#FFFFFF\" points=\"16,6,117,6,124,28.2969,496,28.2969,496,291,16,291,16,6\" style=\"stroke: #000000; stroke-width: 1.5;\"/><line style=\"stroke: #000000; stroke-width: 1.5;\" x1=\"16\" x2=\"124\" y1=\"28.2969\" y2=\"28.2969\"/><text fill=\"#000000\" font-family=\"sans-serif\" font-size=\"14\" font-weight=\"bold\" lengthAdjust=\"spacingAndGlyphs\" textLength=\"95\" x=\"20\" y=\"20.9951\">CircularImport</text></a><!--MD5=[e4f7fae6ed58524ba242bb0b0d3be6b7]\n",
       "cluster E2--><a href=\"psysml:5f20ae7d-4d57-41a2-9907-55aa74d31ca3\" target=\"_top\" title=\"psysml:5f20ae7d-4d57-41a2-9907-55aa74d31ca3\" xlink:actuate=\"onRequest\" xlink:href=\"psysml:5f20ae7d-4d57-41a2-9907-55aa74d31ca3\" xlink:show=\"new\" xlink:title=\"psysml:5f20ae7d-4d57-41a2-9907-55aa74d31ca3\" xlink:type=\"simple\"><polygon fill=\"#FFFFFF\" points=\"333,170,357,170,364,192.2969,431,192.2969,431,267,333,267,333,170\" style=\"stroke: #000000; stroke-width: 1.5;\"/><line style=\"stroke: #000000; stroke-width: 1.5;\" x1=\"333\" x2=\"364\" y1=\"192.2969\" y2=\"192.2969\"/><text fill=\"#000000\" font-family=\"sans-serif\" font-size=\"14\" font-weight=\"bold\" lengthAdjust=\"spacingAndGlyphs\" textLength=\"18\" x=\"337\" y=\"184.9951\">P1</text></a><!--MD5=[f6df4d0ebaf0b5dfb2ced0ae5af7c670]\n",
       "cluster E4--><a href=\"psysml:ebcd3975-b264-4248-9466-34d42d3f68ce\" target=\"_top\" title=\"psysml:ebcd3975-b264-4248-9466-34d42d3f68ce\" xlink:actuate=\"onRequest\" xlink:href=\"psysml:ebcd3975-b264-4248-9466-34d42d3f68ce\" xlink:show=\"new\" xlink:title=\"psysml:ebcd3975-b264-4248-9466-34d42d3f68ce\" xlink:type=\"simple\"><polygon fill=\"#FFFFFF\" points=\"81,170,105,170,112,192.2969,179,192.2969,179,267,81,267,81,170\" style=\"stroke: #000000; stroke-width: 1.5;\"/><line style=\"stroke: #000000; stroke-width: 1.5;\" x1=\"81\" x2=\"112\" y1=\"192.2969\" y2=\"192.2969\"/><text fill=\"#000000\" font-family=\"sans-serif\" font-size=\"14\" font-weight=\"bold\" lengthAdjust=\"spacingAndGlyphs\" textLength=\"18\" x=\"85\" y=\"184.9951\">P2</text></a><!--MD5=[14e3b0961a2654348d326746436168a1]\n",
       "cluster E6--><a href=\"psysml:da6ad505-2daa-495a-83b8-d3ba9d2de3a4\" target=\"_top\" title=\"psysml:da6ad505-2daa-495a-83b8-d3ba9d2de3a4\" xlink:actuate=\"onRequest\" xlink:href=\"psysml:da6ad505-2daa-495a-83b8-d3ba9d2de3a4\" xlink:show=\"new\" xlink:title=\"psysml:da6ad505-2daa-495a-83b8-d3ba9d2de3a4\" xlink:type=\"simple\"><polygon fill=\"#FFFFFF\" points=\"268,49,314,49,321,71.2969,419,71.2969,419,146,268,146,268,49\" style=\"stroke: #000000; stroke-width: 1.5;\"/><line style=\"stroke: #000000; stroke-width: 1.5;\" x1=\"268\" x2=\"321\" y1=\"71.2969\" y2=\"71.2969\"/><text fill=\"#000000\" font-family=\"sans-serif\" font-size=\"14\" font-weight=\"bold\" lengthAdjust=\"spacingAndGlyphs\" textLength=\"40\" x=\"272\" y=\"63.9951\">Test1</text></a><!--MD5=[7f149f147074ac12df2cb0a7728a5fb0]\n",
       "cluster E9--><a href=\"psysml:b0babda1-ae00-488b-8e87-1a86d4c9a0c6\" target=\"_top\" title=\"psysml:b0babda1-ae00-488b-8e87-1a86d4c9a0c6\" xlink:actuate=\"onRequest\" xlink:href=\"psysml:b0babda1-ae00-488b-8e87-1a86d4c9a0c6\" xlink:show=\"new\" xlink:title=\"psysml:b0babda1-ae00-488b-8e87-1a86d4c9a0c6\" xlink:type=\"simple\"><polygon fill=\"#FFFFFF\" points=\"93,49,139,49,146,71.2969,244,71.2969,244,146,93,146,93,49\" style=\"stroke: #000000; stroke-width: 1.5;\"/><line style=\"stroke: #000000; stroke-width: 1.5;\" x1=\"93\" x2=\"146\" y1=\"71.2969\" y2=\"71.2969\"/><text fill=\"#000000\" font-family=\"sans-serif\" font-size=\"14\" font-weight=\"bold\" lengthAdjust=\"spacingAndGlyphs\" textLength=\"40\" x=\"97\" y=\"63.9951\">Test2</text></a><!--MD5=[49a0ec8f00dab7302a31f22d0f0fe584]\n",
       "class E12--><a href=\"psysml:be17b73a-3dde-44ce-ab8b-a0409ce39ee3\" target=\"_top\" title=\"psysml:be17b73a-3dde-44ce-ab8b-a0409ce39ee3\" xlink:actuate=\"onRequest\" xlink:href=\"psysml:be17b73a-3dde-44ce-ab8b-a0409ce39ee3\" xlink:show=\"new\" xlink:title=\"psysml:be17b73a-3dde-44ce-ab8b-a0409ce39ee3\" xlink:type=\"simple\"><rect fill=\"#FFFFFF\" height=\"45.9375\" id=\"E12\" rx=\"10\" ry=\"10\" style=\"stroke: #383838; stroke-width: 1.5;\" width=\"42\" x=\"438\" y=\"84\"/><text fill=\"#000000\" font-family=\"sans-serif\" font-size=\"12\" font-style=\"italic\" lengthAdjust=\"spacingAndGlyphs\" textLength=\"40\" x=\"439\" y=\"100.1387\">«part»</text><text fill=\"#000000\" font-family=\"sans-serif\" font-size=\"12\" lengthAdjust=\"spacingAndGlyphs\" textLength=\"22\" x=\"448\" y=\"114.1074\">x: A</text><line style=\"stroke: #383838; stroke-width: 1.5;\" x1=\"439\" x2=\"479\" y1=\"121.9375\" y2=\"121.9375\"/></a><!--MD5=[ee3c913d1a06f366521f9ef512b67efe]\n",
       "class E13--><a href=\"psysml:70775e2d-ada4-46b3-b3bb-1618b7e606cf\" target=\"_top\" title=\"psysml:70775e2d-ada4-46b3-b3bb-1618b7e606cf\" xlink:actuate=\"onRequest\" xlink:href=\"psysml:70775e2d-ada4-46b3-b3bb-1618b7e606cf\" xlink:show=\"new\" xlink:title=\"psysml:70775e2d-ada4-46b3-b3bb-1618b7e606cf\" xlink:type=\"simple\"><rect fill=\"#FFFFFF\" height=\"45.9375\" id=\"E13\" rx=\"10\" ry=\"10\" style=\"stroke: #383838; stroke-width: 1.5;\" width=\"42\" x=\"32\" y=\"84\"/><text fill=\"#000000\" font-family=\"sans-serif\" font-size=\"12\" font-style=\"italic\" lengthAdjust=\"spacingAndGlyphs\" textLength=\"40\" x=\"33\" y=\"100.1387\">«part»</text><text fill=\"#000000\" font-family=\"sans-serif\" font-size=\"12\" lengthAdjust=\"spacingAndGlyphs\" textLength=\"22\" x=\"42\" y=\"114.1074\">y: B</text><line style=\"stroke: #383838; stroke-width: 1.5;\" x1=\"33\" x2=\"73\" y1=\"121.9375\" y2=\"121.9375\"/></a><!--MD5=[09b614a08d8cba4a07c9adeb5e0fee81]\n",
       "class E3--><a href=\"psysml:a77b04ef-8587-44c9-8b7f-efa23f8b51b3\" target=\"_top\" title=\"psysml:a77b04ef-8587-44c9-8b7f-efa23f8b51b3\" xlink:actuate=\"onRequest\" xlink:href=\"psysml:a77b04ef-8587-44c9-8b7f-efa23f8b51b3\" xlink:show=\"new\" xlink:title=\"psysml:a77b04ef-8587-44c9-8b7f-efa23f8b51b3\" xlink:type=\"simple\"><rect fill=\"#FFFFFF\" height=\"45.9375\" id=\"E3\" style=\"stroke: #383838; stroke-width: 1.5;\" width=\"66\" x=\"349\" y=\"205\"/><text fill=\"#000000\" font-family=\"sans-serif\" font-size=\"12\" font-style=\"italic\" lengthAdjust=\"spacingAndGlyphs\" textLength=\"64\" x=\"350\" y=\"221.1387\">«part def»</text><text fill=\"#000000\" font-family=\"sans-serif\" font-size=\"12\" lengthAdjust=\"spacingAndGlyphs\" textLength=\"8\" x=\"378\" y=\"235.1074\">A</text><line style=\"stroke: #383838; stroke-width: 1.5;\" x1=\"350\" x2=\"414\" y1=\"242.9375\" y2=\"242.9375\"/></a><!--MD5=[270fce915f116d4de14055a7c1d9a0f3]\n",
       "class E5--><a href=\"psysml:0236a647-9823-419e-b974-acac8cdc5ece\" target=\"_top\" title=\"psysml:0236a647-9823-419e-b974-acac8cdc5ece\" xlink:actuate=\"onRequest\" xlink:href=\"psysml:0236a647-9823-419e-b974-acac8cdc5ece\" xlink:show=\"new\" xlink:title=\"psysml:0236a647-9823-419e-b974-acac8cdc5ece\" xlink:type=\"simple\"><rect fill=\"#FFFFFF\" height=\"45.9375\" id=\"E5\" style=\"stroke: #383838; stroke-width: 1.5;\" width=\"66\" x=\"97\" y=\"205\"/><text fill=\"#000000\" font-family=\"sans-serif\" font-size=\"12\" font-style=\"italic\" lengthAdjust=\"spacingAndGlyphs\" textLength=\"64\" x=\"98\" y=\"221.1387\">«part def»</text><text fill=\"#000000\" font-family=\"sans-serif\" font-size=\"12\" lengthAdjust=\"spacingAndGlyphs\" textLength=\"8\" x=\"126\" y=\"235.1074\">B</text><line style=\"stroke: #383838; stroke-width: 1.5;\" x1=\"98\" x2=\"162\" y1=\"242.9375\" y2=\"242.9375\"/></a><!--MD5=[2156ba9850f5573cc1fc38a6a4b2f02b]\n",
       "class E7--><a href=\"psysml:d9c30419-fa03-4224-9f9b-cc52ece95c03\" target=\"_top\" title=\"psysml:d9c30419-fa03-4224-9f9b-cc52ece95c03\" xlink:actuate=\"onRequest\" xlink:href=\"psysml:d9c30419-fa03-4224-9f9b-cc52ece95c03\" xlink:show=\"new\" xlink:title=\"psysml:d9c30419-fa03-4224-9f9b-cc52ece95c03\" xlink:type=\"simple\"><rect fill=\"#FFFFFF\" height=\"45.9375\" id=\"E7\" rx=\"10\" ry=\"10\" style=\"stroke: #383838; stroke-width: 1.5;\" width=\"42\" x=\"361\" y=\"84\"/><text fill=\"#000000\" font-family=\"sans-serif\" font-size=\"12\" font-style=\"italic\" lengthAdjust=\"spacingAndGlyphs\" textLength=\"40\" x=\"362\" y=\"100.1387\">«part»</text><text fill=\"#000000\" font-family=\"sans-serif\" font-size=\"12\" lengthAdjust=\"spacingAndGlyphs\" textLength=\"22\" x=\"371\" y=\"114.1074\">x: A</text><line style=\"stroke: #383838; stroke-width: 1.5;\" x1=\"362\" x2=\"402\" y1=\"121.9375\" y2=\"121.9375\"/></a><!--MD5=[b9389687b975829384b498ac4b7476b2]\n",
       "class E8--><a href=\"psysml:32c0d6a2-b48f-4756-bec9-ba81426d308d\" target=\"_top\" title=\"psysml:32c0d6a2-b48f-4756-bec9-ba81426d308d\" xlink:actuate=\"onRequest\" xlink:href=\"psysml:32c0d6a2-b48f-4756-bec9-ba81426d308d\" xlink:show=\"new\" xlink:title=\"psysml:32c0d6a2-b48f-4756-bec9-ba81426d308d\" xlink:type=\"simple\"><rect fill=\"#FFFFFF\" height=\"45.9375\" id=\"E8\" rx=\"10\" ry=\"10\" style=\"stroke: #383838; stroke-width: 1.5;\" width=\"42\" x=\"284\" y=\"84\"/><text fill=\"#000000\" font-family=\"sans-serif\" font-size=\"12\" font-style=\"italic\" lengthAdjust=\"spacingAndGlyphs\" textLength=\"40\" x=\"285\" y=\"100.1387\">«part»</text><text fill=\"#000000\" font-family=\"sans-serif\" font-size=\"12\" lengthAdjust=\"spacingAndGlyphs\" textLength=\"22\" x=\"294\" y=\"114.1074\">y: B</text><line style=\"stroke: #383838; stroke-width: 1.5;\" x1=\"285\" x2=\"325\" y1=\"121.9375\" y2=\"121.9375\"/></a><!--MD5=[96f4274e9e20536e775497830990834d]\n",
       "class E10--><a href=\"psysml:4b1ceaae-3a33-4edd-a713-ae072a8ba794\" target=\"_top\" title=\"psysml:4b1ceaae-3a33-4edd-a713-ae072a8ba794\" xlink:actuate=\"onRequest\" xlink:href=\"psysml:4b1ceaae-3a33-4edd-a713-ae072a8ba794\" xlink:show=\"new\" xlink:title=\"psysml:4b1ceaae-3a33-4edd-a713-ae072a8ba794\" xlink:type=\"simple\"><rect fill=\"#FFFFFF\" height=\"45.9375\" id=\"E10\" rx=\"10\" ry=\"10\" style=\"stroke: #383838; stroke-width: 1.5;\" width=\"42\" x=\"186\" y=\"84\"/><text fill=\"#000000\" font-family=\"sans-serif\" font-size=\"12\" font-style=\"italic\" lengthAdjust=\"spacingAndGlyphs\" textLength=\"40\" x=\"187\" y=\"100.1387\">«part»</text><text fill=\"#000000\" font-family=\"sans-serif\" font-size=\"12\" lengthAdjust=\"spacingAndGlyphs\" textLength=\"22\" x=\"196\" y=\"114.1074\">x: A</text><line style=\"stroke: #383838; stroke-width: 1.5;\" x1=\"187\" x2=\"227\" y1=\"121.9375\" y2=\"121.9375\"/></a><!--MD5=[1dd1bfd58a279cf63c5f349dbc8fc6a1]\n",
       "class E11--><a href=\"psysml:8a3e0fcf-a1f5-42bd-9af7-3ab68d312f86\" target=\"_top\" title=\"psysml:8a3e0fcf-a1f5-42bd-9af7-3ab68d312f86\" xlink:actuate=\"onRequest\" xlink:href=\"psysml:8a3e0fcf-a1f5-42bd-9af7-3ab68d312f86\" xlink:show=\"new\" xlink:title=\"psysml:8a3e0fcf-a1f5-42bd-9af7-3ab68d312f86\" xlink:type=\"simple\"><rect fill=\"#FFFFFF\" height=\"45.9375\" id=\"E11\" rx=\"10\" ry=\"10\" style=\"stroke: #383838; stroke-width: 1.5;\" width=\"42\" x=\"109\" y=\"84\"/><text fill=\"#000000\" font-family=\"sans-serif\" font-size=\"12\" font-style=\"italic\" lengthAdjust=\"spacingAndGlyphs\" textLength=\"40\" x=\"110\" y=\"100.1387\">«part»</text><text fill=\"#000000\" font-family=\"sans-serif\" font-size=\"12\" lengthAdjust=\"spacingAndGlyphs\" textLength=\"22\" x=\"119\" y=\"114.1074\">y: B</text><line style=\"stroke: #383838; stroke-width: 1.5;\" x1=\"110\" x2=\"150\" y1=\"121.9375\" y2=\"121.9375\"/></a><!--MD5=[14ccda38c055a5c0da953d572bc50960]\n",
       "link E7 to E3--><a href=\"psysml:520b462f-0086-4fa2-a8c7-c457cfb393b0\" target=\"_top\" title=\"psysml:520b462f-0086-4fa2-a8c7-c457cfb393b0\" xlink:actuate=\"onRequest\" xlink:href=\"psysml:520b462f-0086-4fa2-a8c7-c457cfb393b0\" xlink:show=\"new\" xlink:title=\"psysml:520b462f-0086-4fa2-a8c7-c457cfb393b0\" xlink:type=\"simple\"><path d=\"M382,130.1 C382,145.37 382,166.16 382,184.57 \" fill=\"none\" id=\"E7-&gt;E3\" style=\"stroke: #383838; stroke-width: 1.0;\"/><polygon fill=\"#FFFFFF\" points=\"382,204.61,375,185.61,389,185.61,382,204.61\" style=\"stroke: #383838; stroke-width: 1.0;\"/><ellipse cx=\"377\" cy=\"179.91\" fill=\"#383838\" rx=\"2\" ry=\"2\" style=\"stroke: #383838; stroke-width: 1.0;\"/><ellipse cx=\"387\" cy=\"179.91\" fill=\"#383838\" rx=\"2\" ry=\"2\" style=\"stroke: #383838; stroke-width: 1.0;\"/></a><!--MD5=[1ccb2481ffa92f8d51a74ee30c51832a]\n",
       "link E8 to E5--><a href=\"psysml:7aecf3a3-7124-43a8-804d-679627dba63d\" target=\"_top\" title=\"psysml:7aecf3a3-7124-43a8-804d-679627dba63d\" xlink:actuate=\"onRequest\" xlink:href=\"psysml:7aecf3a3-7124-43a8-804d-679627dba63d\" xlink:show=\"new\" xlink:title=\"psysml:7aecf3a3-7124-43a8-804d-679627dba63d\" xlink:type=\"simple\"><path d=\"M283.84,124.59 C272.23,133.52 257.5,144.61 244,154 C223.51,168.25 200.41,183.24 180.38,195.91 \" fill=\"none\" id=\"E8-&gt;E5\" style=\"stroke: #383838; stroke-width: 1.0;\"/><polygon fill=\"#FFFFFF\" points=\"163.36,206.57,175.7353,190.5434,183.175,202.403,163.36,206.57\" style=\"stroke: #383838; stroke-width: 1.0;\"/><ellipse cx=\"181.6267\" cy=\"189.2086\" fill=\"#383838\" rx=\"2\" ry=\"2\" style=\"stroke: #383838; stroke-width: 1.0;\"/><ellipse cx=\"186.9408\" cy=\"197.6797\" fill=\"#383838\" rx=\"2\" ry=\"2\" style=\"stroke: #383838; stroke-width: 1.0;\"/></a><!--MD5=[feeac5eb423634930294aa81f2d25a4c]\n",
       "link E10 to E3--><a href=\"psysml:fd0acd65-b864-4a8e-8ff2-cbce99549eac\" target=\"_top\" title=\"psysml:fd0acd65-b864-4a8e-8ff2-cbce99549eac\" xlink:actuate=\"onRequest\" xlink:href=\"psysml:fd0acd65-b864-4a8e-8ff2-cbce99549eac\" xlink:show=\"new\" xlink:title=\"psysml:fd0acd65-b864-4a8e-8ff2-cbce99549eac\" xlink:type=\"simple\"><path d=\"M228.16,124.59 C239.77,133.52 254.5,144.61 268,154 C288.49,168.25 311.59,183.24 331.62,195.91 \" fill=\"none\" id=\"E10-&gt;E3\" style=\"stroke: #383838; stroke-width: 1.0;\"/><polygon fill=\"#FFFFFF\" points=\"348.64,206.57,328.825,202.403,336.2647,190.5434,348.64,206.57\" style=\"stroke: #383838; stroke-width: 1.0;\"/><ellipse cx=\"325.0592\" cy=\"197.6797\" fill=\"#383838\" rx=\"2\" ry=\"2\" style=\"stroke: #383838; stroke-width: 1.0;\"/><ellipse cx=\"330.3733\" cy=\"189.2086\" fill=\"#383838\" rx=\"2\" ry=\"2\" style=\"stroke: #383838; stroke-width: 1.0;\"/></a><!--MD5=[07b77f6f309248d16187045709d1c26e]\n",
       "link E11 to E5--><a href=\"psysml:442cb8f2-ee4b-4dfa-8164-f495024e2707\" target=\"_top\" title=\"psysml:442cb8f2-ee4b-4dfa-8164-f495024e2707\" xlink:actuate=\"onRequest\" xlink:href=\"psysml:442cb8f2-ee4b-4dfa-8164-f495024e2707\" xlink:show=\"new\" xlink:title=\"psysml:442cb8f2-ee4b-4dfa-8164-f495024e2707\" xlink:type=\"simple\"><path d=\"M130,130.1 C130,145.37 130,166.16 130,184.57 \" fill=\"none\" id=\"E11-&gt;E5\" style=\"stroke: #383838; stroke-width: 1.0;\"/><polygon fill=\"#FFFFFF\" points=\"130,204.61,123,185.61,137,185.61,130,204.61\" style=\"stroke: #383838; stroke-width: 1.0;\"/><ellipse cx=\"125\" cy=\"179.91\" fill=\"#383838\" rx=\"2\" ry=\"2\" style=\"stroke: #383838; stroke-width: 1.0;\"/><ellipse cx=\"135\" cy=\"179.91\" fill=\"#383838\" rx=\"2\" ry=\"2\" style=\"stroke: #383838; stroke-width: 1.0;\"/></a><!--MD5=[39f41a0e550fb3d73b4d8135617e30a2]\n",
       "link E12 to E3--><a href=\"psysml:fab56a21-03ff-446d-9dd1-385c5373a3f2\" target=\"_top\" title=\"psysml:fab56a21-03ff-446d-9dd1-385c5373a3f2\" xlink:actuate=\"onRequest\" xlink:href=\"psysml:fab56a21-03ff-446d-9dd1-385c5373a3f2\" xlink:show=\"new\" xlink:title=\"psysml:fab56a21-03ff-446d-9dd1-385c5373a3f2\" xlink:type=\"simple\"><path d=\"M444.7,130.1 C434.28,146.2 419.89,168.44 407.53,187.55 \" fill=\"none\" id=\"E12-&gt;E3\" style=\"stroke: #383838; stroke-width: 1.0;\"/><polygon fill=\"#FFFFFF\" points=\"396.49,204.61,400.9313,184.8546,412.6866,192.4581,396.49,204.61\" style=\"stroke: #383838; stroke-width: 1.0;\"/><ellipse cx=\"405.7063\" cy=\"181.1547\" fill=\"#383838\" rx=\"2\" ry=\"2\" style=\"stroke: #383838; stroke-width: 1.0;\"/><ellipse cx=\"414.103\" cy=\"186.5858\" fill=\"#383838\" rx=\"2\" ry=\"2\" style=\"stroke: #383838; stroke-width: 1.0;\"/></a><!--MD5=[066b2d8af59fea80ccdb3d54ad5c1091]\n",
       "link E13 to E5--><a href=\"psysml:5cad6703-6f19-4c46-9c46-92acb368aec7\" target=\"_top\" title=\"psysml:5cad6703-6f19-4c46-9c46-92acb368aec7\" xlink:actuate=\"onRequest\" xlink:href=\"psysml:5cad6703-6f19-4c46-9c46-92acb368aec7\" xlink:show=\"new\" xlink:title=\"psysml:5cad6703-6f19-4c46-9c46-92acb368aec7\" xlink:type=\"simple\"><path d=\"M67.3,130.1 C77.72,146.2 92.11,168.44 104.47,187.55 \" fill=\"none\" id=\"E13-&gt;E5\" style=\"stroke: #383838; stroke-width: 1.0;\"/><polygon fill=\"#FFFFFF\" points=\"115.51,204.61,99.3134,192.4581,111.0687,184.8546,115.51,204.61\" style=\"stroke: #383838; stroke-width: 1.0;\"/><ellipse cx=\"97.897\" cy=\"186.5858\" fill=\"#383838\" rx=\"2\" ry=\"2\" style=\"stroke: #383838; stroke-width: 1.0;\"/><ellipse cx=\"106.2937\" cy=\"181.1547\" fill=\"#383838\" rx=\"2\" ry=\"2\" style=\"stroke: #383838; stroke-width: 1.0;\"/></a><!--MD5=[01a7e616edafb589923a02c161adff20]\n",
       "@startuml\r\n",
       "top to bottom direction\r\n",
       "skinparam monochrome true\r\n",
       "skinparam classbackgroundcolor white\r\n",
       "skinparam shadowing false\r\n",
       "skinparam wrapWidth 300\r\n",
       "hide circle\r\n",
       "\r\n",
       "package \"CircularImport\" as E1  [[psysml:7332441d-5859-4b68-88e6-44e4d7acfbc9 ]]  {\r\n",
       "package \"P1\" as E2  [[psysml:5f20ae7d-4d57-41a2-9907-55aa74d31ca3 ]]  {\r\n",
       "comp def \"A\" as E3  <<(T,blue) part def>> [[psysml:a77b04ef-8587-44c9-8b7f-efa23f8b51b3 ]] {\r\n",
       "}\r\n",
       "}\r\n",
       "package \"P2\" as E4  [[psysml:ebcd3975-b264-4248-9466-34d42d3f68ce ]]  {\r\n",
       "comp def \"B\" as E5  <<(T,blue) part def>> [[psysml:0236a647-9823-419e-b974-acac8cdc5ece ]] {\r\n",
       "}\r\n",
       "}\r\n",
       "package \"Test1\" as E6  [[psysml:da6ad505-2daa-495a-83b8-d3ba9d2de3a4 ]]  {\r\n",
       "comp usage \"x: A\" as E7  <<(T,blue) part>> [[psysml:d9c30419-fa03-4224-9f9b-cc52ece95c03 ]] {\r\n",
       "}\r\n",
       "comp usage \"y: B\" as E8  <<(T,blue) part>> [[psysml:32c0d6a2-b48f-4756-bec9-ba81426d308d ]] {\r\n",
       "}\r\n",
       "}\r\n",
       "package \"Test2\" as E9  [[psysml:b0babda1-ae00-488b-8e87-1a86d4c9a0c6 ]]  {\r\n",
       "comp usage \"x: A\" as E10  <<(T,blue) part>> [[psysml:4b1ceaae-3a33-4edd-a713-ae072a8ba794 ]] {\r\n",
       "}\r\n",
       "comp usage \"y: B\" as E11  <<(T,blue) part>> [[psysml:8a3e0fcf-a1f5-42bd-9af7-3ab68d312f86 ]] {\r\n",
       "}\r\n",
       "}\r\n",
       "comp usage \"x: A\" as E12  <<(T,blue) part>> [[psysml:be17b73a-3dde-44ce-ab8b-a0409ce39ee3 ]] {\r\n",
       "}\r\n",
       "comp usage \"y: B\" as E13  <<(T,blue) part>> [[psysml:70775e2d-ada4-46b3-b3bb-1618b7e606cf ]] {\r\n",
       "}\r\n",
       "}\r\n",
       "E7 - -:|> E3 [[psysml:520b462f-0086-4fa2-a8c7-c457cfb393b0 ]] \r\n",
       "E8 - -:|> E5 [[psysml:7aecf3a3-7124-43a8-804d-679627dba63d ]] \r\n",
       "E10 - -:|> E3 [[psysml:fd0acd65-b864-4a8e-8ff2-cbce99549eac ]] \r\n",
       "E11 - -:|> E5 [[psysml:442cb8f2-ee4b-4dfa-8164-f495024e2707 ]] \r\n",
       "E12 - -:|> E3 [[psysml:fab56a21-03ff-446d-9dd1-385c5373a3f2 ]] \r\n",
       "E13 - -:|> E5 [[psysml:5cad6703-6f19-4c46-9c46-92acb368aec7 ]] \r\n",
       "@enduml\r\n",
       "\n",
       "PlantUML version 1.2020.13(Sat Jun 13 12:26:38 UTC 2020)\n",
       "(EPL source distribution)\n",
       "Java Runtime: OpenJDK Runtime Environment\n",
       "JVM: OpenJDK 64-Bit Server VM\n",
       "Default Encoding: UTF-8\n",
       "Language: en\n",
       "Country: null\n",
       "--></g></svg>"
      ]
     },
     "execution_count": 45,
     "metadata": {},
     "output_type": "execute_result"
    }
   ],
   "source": [
    "%viz --style=\"TB\" --view=\"Tree\" \"CircularImport\""
   ]
  },
  {
   "cell_type": "code",
   "execution_count": 46,
   "id": "8944fcdf",
   "metadata": {
    "execution": {
     "iopub.execute_input": "2021-09-27T07:16:37.612547Z",
     "iopub.status.busy": "2021-09-27T07:16:37.612148Z",
     "iopub.status.idle": "2021-09-27T07:16:37.616422Z",
     "shell.execute_reply": "2021-09-27T07:16:37.616077Z"
    }
   },
   "outputs": [
    {
     "data": {
      "image/svg+xml": [
       "<?xml version=\"1.0\" encoding=\"UTF-8\" standalone=\"no\"?><svg xmlns=\"http://www.w3.org/2000/svg\" xmlns:xlink=\"http://www.w3.org/1999/xlink\" contentScriptType=\"application/ecmascript\" contentStyleType=\"text/css\" height=\"12px\" preserveAspectRatio=\"none\" style=\"width:12px;height:12px;\" version=\"1.1\" viewBox=\"0 0 12 12\" width=\"12px\" zoomAndPan=\"magnify\"><defs/><g><!--MD5=[f4ee21bc66e489b5061b7c3e9601fdef]\n",
       "@startuml\r\n",
       "top to bottom direction\r\n",
       "skinparam monochrome true\r\n",
       "skinparam classbackgroundcolor white\r\n",
       "skinparam shadowing false\r\n",
       "skinparam wrapWidth 300\r\n",
       "hide circle\r\n",
       "\r\n",
       "@enduml\r\n",
       "\n",
       "PlantUML version 1.2020.13(Sat Jun 13 12:26:38 UTC 2020)\n",
       "(EPL source distribution)\n",
       "Java Runtime: OpenJDK Runtime Environment\n",
       "JVM: OpenJDK 64-Bit Server VM\n",
       "Default Encoding: UTF-8\n",
       "Language: en\n",
       "Country: null\n",
       "--></g></svg>"
      ]
     },
     "execution_count": 46,
     "metadata": {},
     "output_type": "execute_result"
    }
   ],
   "source": [
    "%viz --style=\"TB\" --view=\"State\" \"CircularImport\""
   ]
  },
  {
   "cell_type": "code",
   "execution_count": 47,
   "id": "5d724bcb",
   "metadata": {
    "execution": {
     "iopub.execute_input": "2021-09-27T07:16:37.666317Z",
     "iopub.status.busy": "2021-09-27T07:16:37.665920Z",
     "iopub.status.idle": "2021-09-27T07:16:37.695380Z",
     "shell.execute_reply": "2021-09-27T07:16:37.694136Z"
    }
   },
   "outputs": [
    {
     "data": {
      "image/svg+xml": [
       "<?xml version=\"1.0\" encoding=\"UTF-8\" standalone=\"no\"?><svg xmlns=\"http://www.w3.org/2000/svg\" xmlns:xlink=\"http://www.w3.org/1999/xlink\" contentScriptType=\"application/ecmascript\" contentStyleType=\"text/css\" height=\"179px\" preserveAspectRatio=\"none\" style=\"width:846px;height:179px;\" version=\"1.1\" viewBox=\"0 0 846 179\" width=\"846px\" zoomAndPan=\"magnify\"><defs/><g><!--MD5=[fbc87193dbaf4d95561dea2c320d4a47]\n",
       "cluster E1--><a href=\"psysml:7332441d-5859-4b68-88e6-44e4d7acfbc9\" target=\"_top\" title=\"psysml:7332441d-5859-4b68-88e6-44e4d7acfbc9\" xlink:actuate=\"onRequest\" xlink:href=\"psysml:7332441d-5859-4b68-88e6-44e4d7acfbc9\" xlink:show=\"new\" xlink:title=\"psysml:7332441d-5859-4b68-88e6-44e4d7acfbc9\" xlink:type=\"simple\"><polygon fill=\"#FFFFFF\" points=\"16,6,117,6,124,28.2969,824,28.2969,824,167,16,167,16,6\" style=\"stroke: #000000; stroke-width: 1.5;\"/><line style=\"stroke: #000000; stroke-width: 1.5;\" x1=\"16\" x2=\"124\" y1=\"28.2969\" y2=\"28.2969\"/><text fill=\"#000000\" font-family=\"sans-serif\" font-size=\"14\" font-weight=\"bold\" lengthAdjust=\"spacingAndGlyphs\" textLength=\"95\" x=\"20\" y=\"20.9951\">CircularImport</text></a><!--MD5=[e4f7fae6ed58524ba242bb0b0d3be6b7]\n",
       "cluster E2--><a href=\"psysml:5f20ae7d-4d57-41a2-9907-55aa74d31ca3\" target=\"_top\" title=\"psysml:5f20ae7d-4d57-41a2-9907-55aa74d31ca3\" xlink:actuate=\"onRequest\" xlink:href=\"psysml:5f20ae7d-4d57-41a2-9907-55aa74d31ca3\" xlink:show=\"new\" xlink:title=\"psysml:5f20ae7d-4d57-41a2-9907-55aa74d31ca3\" xlink:type=\"simple\"><polygon fill=\"#FFFFFF\" points=\"696,49,720,49,727,71.2969,800,71.2969,800,143,696,143,696,49\" style=\"stroke: #000000; stroke-width: 1.5;\"/><line style=\"stroke: #000000; stroke-width: 1.5;\" x1=\"696\" x2=\"727\" y1=\"71.2969\" y2=\"71.2969\"/><text fill=\"#000000\" font-family=\"sans-serif\" font-size=\"14\" font-weight=\"bold\" lengthAdjust=\"spacingAndGlyphs\" textLength=\"18\" x=\"700\" y=\"63.9951\">P1</text></a><!--MD5=[f6df4d0ebaf0b5dfb2ced0ae5af7c670]\n",
       "cluster E4--><a href=\"psysml:ebcd3975-b264-4248-9466-34d42d3f68ce\" target=\"_top\" title=\"psysml:ebcd3975-b264-4248-9466-34d42d3f68ce\" xlink:actuate=\"onRequest\" xlink:href=\"psysml:ebcd3975-b264-4248-9466-34d42d3f68ce\" xlink:show=\"new\" xlink:title=\"psysml:ebcd3975-b264-4248-9466-34d42d3f68ce\" xlink:type=\"simple\"><polygon fill=\"#FFFFFF\" points=\"568,49,592,49,599,71.2969,672,71.2969,672,143,568,143,568,49\" style=\"stroke: #000000; stroke-width: 1.5;\"/><line style=\"stroke: #000000; stroke-width: 1.5;\" x1=\"568\" x2=\"599\" y1=\"71.2969\" y2=\"71.2969\"/><text fill=\"#000000\" font-family=\"sans-serif\" font-size=\"14\" font-weight=\"bold\" lengthAdjust=\"spacingAndGlyphs\" textLength=\"18\" x=\"572\" y=\"63.9951\">P2</text></a><!--MD5=[14e3b0961a2654348d326746436168a1]\n",
       "cluster E6--><a href=\"psysml:da6ad505-2daa-495a-83b8-d3ba9d2de3a4\" target=\"_top\" title=\"psysml:da6ad505-2daa-495a-83b8-d3ba9d2de3a4\" xlink:actuate=\"onRequest\" xlink:href=\"psysml:da6ad505-2daa-495a-83b8-d3ba9d2de3a4\" xlink:show=\"new\" xlink:title=\"psysml:da6ad505-2daa-495a-83b8-d3ba9d2de3a4\" xlink:type=\"simple\"><polygon fill=\"#FFFFFF\" points=\"377,50.5,423,50.5,430,72.7969,544,72.7969,544,141.5,377,141.5,377,50.5\" style=\"stroke: #000000; stroke-width: 1.5;\"/><line style=\"stroke: #000000; stroke-width: 1.5;\" x1=\"377\" x2=\"430\" y1=\"72.7969\" y2=\"72.7969\"/><text fill=\"#000000\" font-family=\"sans-serif\" font-size=\"14\" font-weight=\"bold\" lengthAdjust=\"spacingAndGlyphs\" textLength=\"40\" x=\"381\" y=\"65.4951\">Test1</text></a><!--MD5=[7f149f147074ac12df2cb0a7728a5fb0]\n",
       "cluster E9--><a href=\"psysml:b0babda1-ae00-488b-8e87-1a86d4c9a0c6\" target=\"_top\" title=\"psysml:b0babda1-ae00-488b-8e87-1a86d4c9a0c6\" xlink:actuate=\"onRequest\" xlink:href=\"psysml:b0babda1-ae00-488b-8e87-1a86d4c9a0c6\" xlink:show=\"new\" xlink:title=\"psysml:b0babda1-ae00-488b-8e87-1a86d4c9a0c6\" xlink:type=\"simple\"><polygon fill=\"#FFFFFF\" points=\"186,50.5,232,50.5,239,72.7969,353,72.7969,353,141.5,186,141.5,186,50.5\" style=\"stroke: #000000; stroke-width: 1.5;\"/><line style=\"stroke: #000000; stroke-width: 1.5;\" x1=\"186\" x2=\"239\" y1=\"72.7969\" y2=\"72.7969\"/><text fill=\"#000000\" font-family=\"sans-serif\" font-size=\"14\" font-weight=\"bold\" lengthAdjust=\"spacingAndGlyphs\" textLength=\"40\" x=\"190\" y=\"65.4951\">Test2</text></a><g id=\"E1.E2.E3\"><a href=\"psysml:a77b04ef-8587-44c9-8b7f-efa23f8b51b3\" target=\"_top\" title=\"psysml:a77b04ef-8587-44c9-8b7f-efa23f8b51b3\" xlink:actuate=\"onRequest\" xlink:href=\"psysml:a77b04ef-8587-44c9-8b7f-efa23f8b51b3\" xlink:show=\"new\" xlink:title=\"psysml:a77b04ef-8587-44c9-8b7f-efa23f8b51b3\" xlink:type=\"simple\"><rect fill=\"#FFFFFF\" height=\"42.9375\" id=\"E3\" style=\"stroke: #383838; stroke-width: 1.5;\" width=\"71\" x=\"712.5\" y=\"84\"/><rect fill=\"#F8F8F8\" height=\"37.9375\" style=\"stroke: #383838; stroke-width: 1.5;\" width=\"71\" x=\"712.5\" y=\"84\"/><text fill=\"#000000\" font-family=\"sans-serif\" font-size=\"12\" font-style=\"italic\" lengthAdjust=\"spacingAndGlyphs\" textLength=\"64\" x=\"716\" y=\"100.1387\">«part def»</text><text fill=\"#000000\" font-family=\"sans-serif\" font-size=\"12\" lengthAdjust=\"spacingAndGlyphs\" textLength=\"8\" x=\"744\" y=\"114.1074\">A</text></a></g><g id=\"E1.E4.E5\"><a href=\"psysml:0236a647-9823-419e-b974-acac8cdc5ece\" target=\"_top\" title=\"psysml:0236a647-9823-419e-b974-acac8cdc5ece\" xlink:actuate=\"onRequest\" xlink:href=\"psysml:0236a647-9823-419e-b974-acac8cdc5ece\" xlink:show=\"new\" xlink:title=\"psysml:0236a647-9823-419e-b974-acac8cdc5ece\" xlink:type=\"simple\"><rect fill=\"#FFFFFF\" height=\"42.9375\" id=\"E5\" style=\"stroke: #383838; stroke-width: 1.5;\" width=\"71\" x=\"584.5\" y=\"84\"/><rect fill=\"#F8F8F8\" height=\"37.9375\" style=\"stroke: #383838; stroke-width: 1.5;\" width=\"71\" x=\"584.5\" y=\"84\"/><text fill=\"#000000\" font-family=\"sans-serif\" font-size=\"12\" font-style=\"italic\" lengthAdjust=\"spacingAndGlyphs\" textLength=\"64\" x=\"588\" y=\"100.1387\">«part def»</text><text fill=\"#000000\" font-family=\"sans-serif\" font-size=\"12\" lengthAdjust=\"spacingAndGlyphs\" textLength=\"8\" x=\"616\" y=\"114.1074\">B</text></a></g><g id=\"E1.E6.E7\"><a href=\"psysml:d9c30419-fa03-4224-9f9b-cc52ece95c03\" target=\"_top\" title=\"psysml:d9c30419-fa03-4224-9f9b-cc52ece95c03\" xlink:actuate=\"onRequest\" xlink:href=\"psysml:d9c30419-fa03-4224-9f9b-cc52ece95c03\" xlink:show=\"new\" xlink:title=\"psysml:d9c30419-fa03-4224-9f9b-cc52ece95c03\" xlink:type=\"simple\"><rect fill=\"#FFFFFF\" height=\"40\" id=\"E7\" rx=\"10\" ry=\"10\" style=\"stroke: #383838; stroke-width: 1.5;\" width=\"50\" x=\"478\" y=\"85.5\"/><rect fill=\"#F8F8F8\" height=\"23.9688\" rx=\"10\" ry=\"10\" style=\"stroke: #F8F8F8; stroke-width: 1.5;\" width=\"50\" x=\"478\" y=\"85.5\"/><rect fill=\"#F8F8F8\" height=\"10\" style=\"stroke: #F8F8F8; stroke-width: 1.5;\" width=\"50\" x=\"478\" y=\"99.4688\"/><rect fill=\"none\" height=\"40\" id=\"E7\" rx=\"10\" ry=\"10\" style=\"stroke: #383838; stroke-width: 1.5;\" width=\"50\" x=\"478\" y=\"85.5\"/><text fill=\"#000000\" font-family=\"sans-serif\" font-size=\"12\" lengthAdjust=\"spacingAndGlyphs\" textLength=\"22\" x=\"492\" y=\"101.6387\">x: A</text></a></g><g id=\"E1.E6.E8\"><a href=\"psysml:32c0d6a2-b48f-4756-bec9-ba81426d308d\" target=\"_top\" title=\"psysml:32c0d6a2-b48f-4756-bec9-ba81426d308d\" xlink:actuate=\"onRequest\" xlink:href=\"psysml:32c0d6a2-b48f-4756-bec9-ba81426d308d\" xlink:show=\"new\" xlink:title=\"psysml:32c0d6a2-b48f-4756-bec9-ba81426d308d\" xlink:type=\"simple\"><rect fill=\"#FFFFFF\" height=\"40\" id=\"E8\" rx=\"10\" ry=\"10\" style=\"stroke: #383838; stroke-width: 1.5;\" width=\"50\" x=\"393\" y=\"85.5\"/><rect fill=\"#F8F8F8\" height=\"23.9688\" rx=\"10\" ry=\"10\" style=\"stroke: #F8F8F8; stroke-width: 1.5;\" width=\"50\" x=\"393\" y=\"85.5\"/><rect fill=\"#F8F8F8\" height=\"10\" style=\"stroke: #F8F8F8; stroke-width: 1.5;\" width=\"50\" x=\"393\" y=\"99.4688\"/><rect fill=\"none\" height=\"40\" id=\"E8\" rx=\"10\" ry=\"10\" style=\"stroke: #383838; stroke-width: 1.5;\" width=\"50\" x=\"393\" y=\"85.5\"/><text fill=\"#000000\" font-family=\"sans-serif\" font-size=\"12\" lengthAdjust=\"spacingAndGlyphs\" textLength=\"22\" x=\"407\" y=\"101.6387\">y: B</text></a></g><g id=\"E1.E9.E10\"><a href=\"psysml:4b1ceaae-3a33-4edd-a713-ae072a8ba794\" target=\"_top\" title=\"psysml:4b1ceaae-3a33-4edd-a713-ae072a8ba794\" xlink:actuate=\"onRequest\" xlink:href=\"psysml:4b1ceaae-3a33-4edd-a713-ae072a8ba794\" xlink:show=\"new\" xlink:title=\"psysml:4b1ceaae-3a33-4edd-a713-ae072a8ba794\" xlink:type=\"simple\"><rect fill=\"#FFFFFF\" height=\"40\" id=\"E10\" rx=\"10\" ry=\"10\" style=\"stroke: #383838; stroke-width: 1.5;\" width=\"50\" x=\"287\" y=\"85.5\"/><rect fill=\"#F8F8F8\" height=\"23.9688\" rx=\"10\" ry=\"10\" style=\"stroke: #F8F8F8; stroke-width: 1.5;\" width=\"50\" x=\"287\" y=\"85.5\"/><rect fill=\"#F8F8F8\" height=\"10\" style=\"stroke: #F8F8F8; stroke-width: 1.5;\" width=\"50\" x=\"287\" y=\"99.4688\"/><rect fill=\"none\" height=\"40\" id=\"E10\" rx=\"10\" ry=\"10\" style=\"stroke: #383838; stroke-width: 1.5;\" width=\"50\" x=\"287\" y=\"85.5\"/><text fill=\"#000000\" font-family=\"sans-serif\" font-size=\"12\" lengthAdjust=\"spacingAndGlyphs\" textLength=\"22\" x=\"301\" y=\"101.6387\">x: A</text></a></g><g id=\"E1.E9.E11\"><a href=\"psysml:8a3e0fcf-a1f5-42bd-9af7-3ab68d312f86\" target=\"_top\" title=\"psysml:8a3e0fcf-a1f5-42bd-9af7-3ab68d312f86\" xlink:actuate=\"onRequest\" xlink:href=\"psysml:8a3e0fcf-a1f5-42bd-9af7-3ab68d312f86\" xlink:show=\"new\" xlink:title=\"psysml:8a3e0fcf-a1f5-42bd-9af7-3ab68d312f86\" xlink:type=\"simple\"><rect fill=\"#FFFFFF\" height=\"40\" id=\"E11\" rx=\"10\" ry=\"10\" style=\"stroke: #383838; stroke-width: 1.5;\" width=\"50\" x=\"202\" y=\"85.5\"/><rect fill=\"#F8F8F8\" height=\"23.9688\" rx=\"10\" ry=\"10\" style=\"stroke: #F8F8F8; stroke-width: 1.5;\" width=\"50\" x=\"202\" y=\"85.5\"/><rect fill=\"#F8F8F8\" height=\"10\" style=\"stroke: #F8F8F8; stroke-width: 1.5;\" width=\"50\" x=\"202\" y=\"99.4688\"/><rect fill=\"none\" height=\"40\" id=\"E11\" rx=\"10\" ry=\"10\" style=\"stroke: #383838; stroke-width: 1.5;\" width=\"50\" x=\"202\" y=\"85.5\"/><text fill=\"#000000\" font-family=\"sans-serif\" font-size=\"12\" lengthAdjust=\"spacingAndGlyphs\" textLength=\"22\" x=\"216\" y=\"101.6387\">y: B</text></a></g><g id=\"E1.E12\"><a href=\"psysml:be17b73a-3dde-44ce-ab8b-a0409ce39ee3\" target=\"_top\" title=\"psysml:be17b73a-3dde-44ce-ab8b-a0409ce39ee3\" xlink:actuate=\"onRequest\" xlink:href=\"psysml:be17b73a-3dde-44ce-ab8b-a0409ce39ee3\" xlink:show=\"new\" xlink:title=\"psysml:be17b73a-3dde-44ce-ab8b-a0409ce39ee3\" xlink:type=\"simple\"><rect fill=\"#FFFFFF\" height=\"40\" id=\"E12\" rx=\"10\" ry=\"10\" style=\"stroke: #383838; stroke-width: 1.5;\" width=\"50\" x=\"117\" y=\"85.5\"/><rect fill=\"#F8F8F8\" height=\"23.9688\" rx=\"10\" ry=\"10\" style=\"stroke: #F8F8F8; stroke-width: 1.5;\" width=\"50\" x=\"117\" y=\"85.5\"/><rect fill=\"#F8F8F8\" height=\"10\" style=\"stroke: #F8F8F8; stroke-width: 1.5;\" width=\"50\" x=\"117\" y=\"99.4688\"/><rect fill=\"none\" height=\"40\" id=\"E12\" rx=\"10\" ry=\"10\" style=\"stroke: #383838; stroke-width: 1.5;\" width=\"50\" x=\"117\" y=\"85.5\"/><text fill=\"#000000\" font-family=\"sans-serif\" font-size=\"12\" lengthAdjust=\"spacingAndGlyphs\" textLength=\"22\" x=\"131\" y=\"101.6387\">x: A</text></a></g><g id=\"E1.E13\"><a href=\"psysml:70775e2d-ada4-46b3-b3bb-1618b7e606cf\" target=\"_top\" title=\"psysml:70775e2d-ada4-46b3-b3bb-1618b7e606cf\" xlink:actuate=\"onRequest\" xlink:href=\"psysml:70775e2d-ada4-46b3-b3bb-1618b7e606cf\" xlink:show=\"new\" xlink:title=\"psysml:70775e2d-ada4-46b3-b3bb-1618b7e606cf\" xlink:type=\"simple\"><rect fill=\"#FFFFFF\" height=\"40\" id=\"E13\" rx=\"10\" ry=\"10\" style=\"stroke: #383838; stroke-width: 1.5;\" width=\"50\" x=\"32\" y=\"85.5\"/><rect fill=\"#F8F8F8\" height=\"23.9688\" rx=\"10\" ry=\"10\" style=\"stroke: #F8F8F8; stroke-width: 1.5;\" width=\"50\" x=\"32\" y=\"85.5\"/><rect fill=\"#F8F8F8\" height=\"10\" style=\"stroke: #F8F8F8; stroke-width: 1.5;\" width=\"50\" x=\"32\" y=\"99.4688\"/><rect fill=\"none\" height=\"40\" id=\"E13\" rx=\"10\" ry=\"10\" style=\"stroke: #383838; stroke-width: 1.5;\" width=\"50\" x=\"32\" y=\"85.5\"/><text fill=\"#000000\" font-family=\"sans-serif\" font-size=\"12\" lengthAdjust=\"spacingAndGlyphs\" textLength=\"22\" x=\"46\" y=\"101.6387\">y: B</text></a></g><!--MD5=[eaa4c293381203dcb7e55a053f5da0e7]\n",
       "@startuml\r\n",
       "skinparam ranksep 10\r\n",
       "skinparam rectangle {\r\n",
       " backgroundColor<<block>> LightGreen\r\n",
       "}\r\n",
       "top to bottom direction\r\n",
       "skinparam monochrome true\r\n",
       "skinparam classbackgroundcolor white\r\n",
       "skinparam shadowing false\r\n",
       "skinparam wrapWidth 300\r\n",
       "hide circle\r\n",
       "\r\n",
       "package \"CircularImport\" as E1  [[psysml:7332441d-5859-4b68-88e6-44e4d7acfbc9 ]]  {\r\n",
       "package \"P1\" as E2  [[psysml:5f20ae7d-4d57-41a2-9907-55aa74d31ca3 ]]  {\r\n",
       "rec def \"A\" as E3  <<(T,blue) part def>> [[psysml:a77b04ef-8587-44c9-8b7f-efa23f8b51b3 ]] {\r\n",
       "}\r\n",
       "}\r\n",
       "package \"P2\" as E4  [[psysml:ebcd3975-b264-4248-9466-34d42d3f68ce ]]  {\r\n",
       "rec def \"B\" as E5  <<(T,blue) part def>> [[psysml:0236a647-9823-419e-b974-acac8cdc5ece ]] {\r\n",
       "}\r\n",
       "}\r\n",
       "package \"Test1\" as E6  [[psysml:da6ad505-2daa-495a-83b8-d3ba9d2de3a4 ]]  {\r\n",
       "rec usage \"x: A\" as E7  [[psysml:d9c30419-fa03-4224-9f9b-cc52ece95c03 ]] {\r\n",
       "}\r\n",
       "rec usage \"y: B\" as E8  [[psysml:32c0d6a2-b48f-4756-bec9-ba81426d308d ]] {\r\n",
       "}\r\n",
       "}\r\n",
       "package \"Test2\" as E9  [[psysml:b0babda1-ae00-488b-8e87-1a86d4c9a0c6 ]]  {\r\n",
       "rec usage \"x: A\" as E10  [[psysml:4b1ceaae-3a33-4edd-a713-ae072a8ba794 ]] {\r\n",
       "}\r\n",
       "rec usage \"y: B\" as E11  [[psysml:8a3e0fcf-a1f5-42bd-9af7-3ab68d312f86 ]] {\r\n",
       "}\r\n",
       "}\r\n",
       "rec usage \"x: A\" as E12  [[psysml:be17b73a-3dde-44ce-ab8b-a0409ce39ee3 ]] {\r\n",
       "}\r\n",
       "rec usage \"y: B\" as E13  [[psysml:70775e2d-ada4-46b3-b3bb-1618b7e606cf ]] {\r\n",
       "}\r\n",
       "}\r\n",
       "@enduml\r\n",
       "\n",
       "PlantUML version 1.2020.13(Sat Jun 13 12:26:38 UTC 2020)\n",
       "(EPL source distribution)\n",
       "Java Runtime: OpenJDK Runtime Environment\n",
       "JVM: OpenJDK 64-Bit Server VM\n",
       "Default Encoding: UTF-8\n",
       "Language: en\n",
       "Country: null\n",
       "--></g></svg>"
      ]
     },
     "execution_count": 47,
     "metadata": {},
     "output_type": "execute_result"
    }
   ],
   "source": [
    "%viz --style=\"TB\" --view=\"Interconnection\" \"CircularImport\""
   ]
  },
  {
   "cell_type": "code",
   "execution_count": 48,
   "id": "227a10ad",
   "metadata": {
    "execution": {
     "iopub.execute_input": "2021-09-27T07:16:37.744921Z",
     "iopub.status.busy": "2021-09-27T07:16:37.744523Z",
     "iopub.status.idle": "2021-09-27T07:16:37.748681Z",
     "shell.execute_reply": "2021-09-27T07:16:37.748335Z"
    }
   },
   "outputs": [
    {
     "data": {
      "image/svg+xml": [
       "<?xml version=\"1.0\" encoding=\"UTF-8\" standalone=\"no\"?><svg xmlns=\"http://www.w3.org/2000/svg\" xmlns:xlink=\"http://www.w3.org/1999/xlink\" contentScriptType=\"application/ecmascript\" contentStyleType=\"text/css\" height=\"12px\" preserveAspectRatio=\"none\" style=\"width:12px;height:12px;\" version=\"1.1\" viewBox=\"0 0 12 12\" width=\"12px\" zoomAndPan=\"magnify\"><defs/><g><!--MD5=[06afc254b03ac5e9d9fb7773b07d0800]\n",
       "@startuml\r\n",
       "skinparam ranksep 8\r\n",
       "top to bottom direction\r\n",
       "skinparam monochrome true\r\n",
       "skinparam classbackgroundcolor white\r\n",
       "skinparam shadowing false\r\n",
       "skinparam wrapWidth 300\r\n",
       "hide circle\r\n",
       "\r\n",
       "@enduml\r\n",
       "\n",
       "PlantUML version 1.2020.13(Sat Jun 13 12:26:38 UTC 2020)\n",
       "(EPL source distribution)\n",
       "Java Runtime: OpenJDK Runtime Environment\n",
       "JVM: OpenJDK 64-Bit Server VM\n",
       "Default Encoding: UTF-8\n",
       "Language: en\n",
       "Country: null\n",
       "--></g></svg>"
      ]
     },
     "execution_count": 48,
     "metadata": {},
     "output_type": "execute_result"
    }
   ],
   "source": [
    "%viz --style=\"TB\" --view=\"Action\" \"CircularImport\""
   ]
  },
  {
   "cell_type": "code",
   "execution_count": 49,
   "id": "e966e371",
   "metadata": {
    "execution": {
     "iopub.execute_input": "2021-09-27T07:16:37.798878Z",
     "iopub.status.busy": "2021-09-27T07:16:37.798443Z",
     "iopub.status.idle": "2021-09-27T07:16:37.803797Z",
     "shell.execute_reply": "2021-09-27T07:16:37.803286Z"
    }
   },
   "outputs": [
    {
     "data": {
      "image/svg+xml": [
       "<?xml version=\"1.0\" encoding=\"UTF-8\" standalone=\"no\"?><svg xmlns=\"http://www.w3.org/2000/svg\" xmlns:xlink=\"http://www.w3.org/1999/xlink\" contentScriptType=\"application/ecmascript\" contentStyleType=\"text/css\" height=\"12px\" preserveAspectRatio=\"none\" style=\"width:12px;height:12px;\" version=\"1.1\" viewBox=\"0 0 12 12\" width=\"12px\" zoomAndPan=\"magnify\"><defs/><g><!--MD5=[e1ab0c84c44d2fef8bf5f140f2689906]\n",
       "@startuml\r\n",
       "skinparam roundcorner 20\r\n",
       "skinparam BoxPadding 20\r\n",
       "skinparam SequenceBoxBackgroundColor #white\r\n",
       "skinparam style strictuml\r\n",
       "skinparam maxMessageSize 100\r\n",
       "top to bottom direction\r\n",
       "skinparam monochrome true\r\n",
       "skinparam classbackgroundcolor white\r\n",
       "skinparam shadowing false\r\n",
       "skinparam wrapWidth 300\r\n",
       "hide circle\r\n",
       "\r\n",
       "@enduml\r\n",
       "\n",
       "PlantUML version 1.2020.13(Sat Jun 13 12:26:38 UTC 2020)\n",
       "(EPL source distribution)\n",
       "Java Runtime: OpenJDK Runtime Environment\n",
       "JVM: OpenJDK 64-Bit Server VM\n",
       "Default Encoding: UTF-8\n",
       "Language: en\n",
       "Country: null\n",
       "--></g></svg>"
      ]
     },
     "execution_count": 49,
     "metadata": {},
     "output_type": "execute_result"
    }
   ],
   "source": [
    "%viz --style=\"TB\" --view=\"Sequence\" \"CircularImport\""
   ]
  },
  {
   "cell_type": "code",
   "execution_count": 50,
   "id": "16dc3001",
   "metadata": {
    "execution": {
     "iopub.execute_input": "2021-09-27T07:16:37.853470Z",
     "iopub.status.busy": "2021-09-27T07:16:37.853066Z",
     "iopub.status.idle": "2021-09-27T07:16:37.887334Z",
     "shell.execute_reply": "2021-09-27T07:16:37.885983Z"
    }
   },
   "outputs": [
    {
     "data": {
      "image/svg+xml": [
       "<?xml version=\"1.0\" encoding=\"UTF-8\" standalone=\"no\"?><svg xmlns=\"http://www.w3.org/2000/svg\" xmlns:xlink=\"http://www.w3.org/1999/xlink\" contentScriptType=\"application/ecmascript\" contentStyleType=\"text/css\" height=\"303px\" preserveAspectRatio=\"none\" style=\"width:518px;height:303px;\" version=\"1.1\" viewBox=\"0 0 518 303\" width=\"518px\" zoomAndPan=\"magnify\"><defs/><g><!--MD5=[fbc87193dbaf4d95561dea2c320d4a47]\n",
       "cluster E1--><a href=\"psysml:7332441d-5859-4b68-88e6-44e4d7acfbc9\" target=\"_top\" title=\"psysml:7332441d-5859-4b68-88e6-44e4d7acfbc9\" xlink:actuate=\"onRequest\" xlink:href=\"psysml:7332441d-5859-4b68-88e6-44e4d7acfbc9\" xlink:show=\"new\" xlink:title=\"psysml:7332441d-5859-4b68-88e6-44e4d7acfbc9\" xlink:type=\"simple\"><polygon fill=\"#FFFFFF\" points=\"16,6,117,6,124,28.2969,496,28.2969,496,291,16,291,16,6\" style=\"stroke: #000000; stroke-width: 1.5;\"/><line style=\"stroke: #000000; stroke-width: 1.5;\" x1=\"16\" x2=\"124\" y1=\"28.2969\" y2=\"28.2969\"/><text fill=\"#000000\" font-family=\"sans-serif\" font-size=\"14\" font-weight=\"bold\" lengthAdjust=\"spacingAndGlyphs\" textLength=\"95\" x=\"20\" y=\"20.9951\">CircularImport</text></a><!--MD5=[e4f7fae6ed58524ba242bb0b0d3be6b7]\n",
       "cluster E2--><a href=\"psysml:5f20ae7d-4d57-41a2-9907-55aa74d31ca3\" target=\"_top\" title=\"psysml:5f20ae7d-4d57-41a2-9907-55aa74d31ca3\" xlink:actuate=\"onRequest\" xlink:href=\"psysml:5f20ae7d-4d57-41a2-9907-55aa74d31ca3\" xlink:show=\"new\" xlink:title=\"psysml:5f20ae7d-4d57-41a2-9907-55aa74d31ca3\" xlink:type=\"simple\"><polygon fill=\"#FFFFFF\" points=\"333,170,357,170,364,192.2969,431,192.2969,431,267,333,267,333,170\" style=\"stroke: #000000; stroke-width: 1.5;\"/><line style=\"stroke: #000000; stroke-width: 1.5;\" x1=\"333\" x2=\"364\" y1=\"192.2969\" y2=\"192.2969\"/><text fill=\"#000000\" font-family=\"sans-serif\" font-size=\"14\" font-weight=\"bold\" lengthAdjust=\"spacingAndGlyphs\" textLength=\"18\" x=\"337\" y=\"184.9951\">P1</text></a><!--MD5=[f6df4d0ebaf0b5dfb2ced0ae5af7c670]\n",
       "cluster E4--><a href=\"psysml:ebcd3975-b264-4248-9466-34d42d3f68ce\" target=\"_top\" title=\"psysml:ebcd3975-b264-4248-9466-34d42d3f68ce\" xlink:actuate=\"onRequest\" xlink:href=\"psysml:ebcd3975-b264-4248-9466-34d42d3f68ce\" xlink:show=\"new\" xlink:title=\"psysml:ebcd3975-b264-4248-9466-34d42d3f68ce\" xlink:type=\"simple\"><polygon fill=\"#FFFFFF\" points=\"81,170,105,170,112,192.2969,179,192.2969,179,267,81,267,81,170\" style=\"stroke: #000000; stroke-width: 1.5;\"/><line style=\"stroke: #000000; stroke-width: 1.5;\" x1=\"81\" x2=\"112\" y1=\"192.2969\" y2=\"192.2969\"/><text fill=\"#000000\" font-family=\"sans-serif\" font-size=\"14\" font-weight=\"bold\" lengthAdjust=\"spacingAndGlyphs\" textLength=\"18\" x=\"85\" y=\"184.9951\">P2</text></a><!--MD5=[14e3b0961a2654348d326746436168a1]\n",
       "cluster E6--><a href=\"psysml:da6ad505-2daa-495a-83b8-d3ba9d2de3a4\" target=\"_top\" title=\"psysml:da6ad505-2daa-495a-83b8-d3ba9d2de3a4\" xlink:actuate=\"onRequest\" xlink:href=\"psysml:da6ad505-2daa-495a-83b8-d3ba9d2de3a4\" xlink:show=\"new\" xlink:title=\"psysml:da6ad505-2daa-495a-83b8-d3ba9d2de3a4\" xlink:type=\"simple\"><polygon fill=\"#FFFFFF\" points=\"268,49,314,49,321,71.2969,419,71.2969,419,146,268,146,268,49\" style=\"stroke: #000000; stroke-width: 1.5;\"/><line style=\"stroke: #000000; stroke-width: 1.5;\" x1=\"268\" x2=\"321\" y1=\"71.2969\" y2=\"71.2969\"/><text fill=\"#000000\" font-family=\"sans-serif\" font-size=\"14\" font-weight=\"bold\" lengthAdjust=\"spacingAndGlyphs\" textLength=\"40\" x=\"272\" y=\"63.9951\">Test1</text></a><!--MD5=[7f149f147074ac12df2cb0a7728a5fb0]\n",
       "cluster E9--><a href=\"psysml:b0babda1-ae00-488b-8e87-1a86d4c9a0c6\" target=\"_top\" title=\"psysml:b0babda1-ae00-488b-8e87-1a86d4c9a0c6\" xlink:actuate=\"onRequest\" xlink:href=\"psysml:b0babda1-ae00-488b-8e87-1a86d4c9a0c6\" xlink:show=\"new\" xlink:title=\"psysml:b0babda1-ae00-488b-8e87-1a86d4c9a0c6\" xlink:type=\"simple\"><polygon fill=\"#FFFFFF\" points=\"93,49,139,49,146,71.2969,244,71.2969,244,146,93,146,93,49\" style=\"stroke: #000000; stroke-width: 1.5;\"/><line style=\"stroke: #000000; stroke-width: 1.5;\" x1=\"93\" x2=\"146\" y1=\"71.2969\" y2=\"71.2969\"/><text fill=\"#000000\" font-family=\"sans-serif\" font-size=\"14\" font-weight=\"bold\" lengthAdjust=\"spacingAndGlyphs\" textLength=\"40\" x=\"97\" y=\"63.9951\">Test2</text></a><!--MD5=[49a0ec8f00dab7302a31f22d0f0fe584]\n",
       "class E12--><a href=\"psysml:be17b73a-3dde-44ce-ab8b-a0409ce39ee3\" target=\"_top\" title=\"psysml:be17b73a-3dde-44ce-ab8b-a0409ce39ee3\" xlink:actuate=\"onRequest\" xlink:href=\"psysml:be17b73a-3dde-44ce-ab8b-a0409ce39ee3\" xlink:show=\"new\" xlink:title=\"psysml:be17b73a-3dde-44ce-ab8b-a0409ce39ee3\" xlink:type=\"simple\"><rect fill=\"#FFFFFF\" height=\"45.9375\" id=\"E12\" rx=\"10\" ry=\"10\" style=\"stroke: #383838; stroke-width: 1.5;\" width=\"42\" x=\"438\" y=\"84\"/><text fill=\"#000000\" font-family=\"sans-serif\" font-size=\"12\" font-style=\"italic\" lengthAdjust=\"spacingAndGlyphs\" textLength=\"40\" x=\"439\" y=\"100.1387\">«part»</text><text fill=\"#000000\" font-family=\"sans-serif\" font-size=\"12\" lengthAdjust=\"spacingAndGlyphs\" textLength=\"22\" x=\"448\" y=\"114.1074\">x: A</text><line style=\"stroke: #383838; stroke-width: 1.5;\" x1=\"439\" x2=\"479\" y1=\"121.9375\" y2=\"121.9375\"/></a><!--MD5=[ee3c913d1a06f366521f9ef512b67efe]\n",
       "class E13--><a href=\"psysml:70775e2d-ada4-46b3-b3bb-1618b7e606cf\" target=\"_top\" title=\"psysml:70775e2d-ada4-46b3-b3bb-1618b7e606cf\" xlink:actuate=\"onRequest\" xlink:href=\"psysml:70775e2d-ada4-46b3-b3bb-1618b7e606cf\" xlink:show=\"new\" xlink:title=\"psysml:70775e2d-ada4-46b3-b3bb-1618b7e606cf\" xlink:type=\"simple\"><rect fill=\"#FFFFFF\" height=\"45.9375\" id=\"E13\" rx=\"10\" ry=\"10\" style=\"stroke: #383838; stroke-width: 1.5;\" width=\"42\" x=\"32\" y=\"84\"/><text fill=\"#000000\" font-family=\"sans-serif\" font-size=\"12\" font-style=\"italic\" lengthAdjust=\"spacingAndGlyphs\" textLength=\"40\" x=\"33\" y=\"100.1387\">«part»</text><text fill=\"#000000\" font-family=\"sans-serif\" font-size=\"12\" lengthAdjust=\"spacingAndGlyphs\" textLength=\"22\" x=\"42\" y=\"114.1074\">y: B</text><line style=\"stroke: #383838; stroke-width: 1.5;\" x1=\"33\" x2=\"73\" y1=\"121.9375\" y2=\"121.9375\"/></a><!--MD5=[09b614a08d8cba4a07c9adeb5e0fee81]\n",
       "class E3--><a href=\"psysml:a77b04ef-8587-44c9-8b7f-efa23f8b51b3\" target=\"_top\" title=\"psysml:a77b04ef-8587-44c9-8b7f-efa23f8b51b3\" xlink:actuate=\"onRequest\" xlink:href=\"psysml:a77b04ef-8587-44c9-8b7f-efa23f8b51b3\" xlink:show=\"new\" xlink:title=\"psysml:a77b04ef-8587-44c9-8b7f-efa23f8b51b3\" xlink:type=\"simple\"><rect fill=\"#FFFFFF\" height=\"45.9375\" id=\"E3\" style=\"stroke: #383838; stroke-width: 1.5;\" width=\"66\" x=\"349\" y=\"205\"/><text fill=\"#000000\" font-family=\"sans-serif\" font-size=\"12\" font-style=\"italic\" lengthAdjust=\"spacingAndGlyphs\" textLength=\"64\" x=\"350\" y=\"221.1387\">«part def»</text><text fill=\"#000000\" font-family=\"sans-serif\" font-size=\"12\" lengthAdjust=\"spacingAndGlyphs\" textLength=\"8\" x=\"378\" y=\"235.1074\">A</text><line style=\"stroke: #383838; stroke-width: 1.5;\" x1=\"350\" x2=\"414\" y1=\"242.9375\" y2=\"242.9375\"/></a><!--MD5=[270fce915f116d4de14055a7c1d9a0f3]\n",
       "class E5--><a href=\"psysml:0236a647-9823-419e-b974-acac8cdc5ece\" target=\"_top\" title=\"psysml:0236a647-9823-419e-b974-acac8cdc5ece\" xlink:actuate=\"onRequest\" xlink:href=\"psysml:0236a647-9823-419e-b974-acac8cdc5ece\" xlink:show=\"new\" xlink:title=\"psysml:0236a647-9823-419e-b974-acac8cdc5ece\" xlink:type=\"simple\"><rect fill=\"#FFFFFF\" height=\"45.9375\" id=\"E5\" style=\"stroke: #383838; stroke-width: 1.5;\" width=\"66\" x=\"97\" y=\"205\"/><text fill=\"#000000\" font-family=\"sans-serif\" font-size=\"12\" font-style=\"italic\" lengthAdjust=\"spacingAndGlyphs\" textLength=\"64\" x=\"98\" y=\"221.1387\">«part def»</text><text fill=\"#000000\" font-family=\"sans-serif\" font-size=\"12\" lengthAdjust=\"spacingAndGlyphs\" textLength=\"8\" x=\"126\" y=\"235.1074\">B</text><line style=\"stroke: #383838; stroke-width: 1.5;\" x1=\"98\" x2=\"162\" y1=\"242.9375\" y2=\"242.9375\"/></a><!--MD5=[2156ba9850f5573cc1fc38a6a4b2f02b]\n",
       "class E7--><a href=\"psysml:d9c30419-fa03-4224-9f9b-cc52ece95c03\" target=\"_top\" title=\"psysml:d9c30419-fa03-4224-9f9b-cc52ece95c03\" xlink:actuate=\"onRequest\" xlink:href=\"psysml:d9c30419-fa03-4224-9f9b-cc52ece95c03\" xlink:show=\"new\" xlink:title=\"psysml:d9c30419-fa03-4224-9f9b-cc52ece95c03\" xlink:type=\"simple\"><rect fill=\"#FFFFFF\" height=\"45.9375\" id=\"E7\" rx=\"10\" ry=\"10\" style=\"stroke: #383838; stroke-width: 1.5;\" width=\"42\" x=\"361\" y=\"84\"/><text fill=\"#000000\" font-family=\"sans-serif\" font-size=\"12\" font-style=\"italic\" lengthAdjust=\"spacingAndGlyphs\" textLength=\"40\" x=\"362\" y=\"100.1387\">«part»</text><text fill=\"#000000\" font-family=\"sans-serif\" font-size=\"12\" lengthAdjust=\"spacingAndGlyphs\" textLength=\"22\" x=\"371\" y=\"114.1074\">x: A</text><line style=\"stroke: #383838; stroke-width: 1.5;\" x1=\"362\" x2=\"402\" y1=\"121.9375\" y2=\"121.9375\"/></a><!--MD5=[b9389687b975829384b498ac4b7476b2]\n",
       "class E8--><a href=\"psysml:32c0d6a2-b48f-4756-bec9-ba81426d308d\" target=\"_top\" title=\"psysml:32c0d6a2-b48f-4756-bec9-ba81426d308d\" xlink:actuate=\"onRequest\" xlink:href=\"psysml:32c0d6a2-b48f-4756-bec9-ba81426d308d\" xlink:show=\"new\" xlink:title=\"psysml:32c0d6a2-b48f-4756-bec9-ba81426d308d\" xlink:type=\"simple\"><rect fill=\"#FFFFFF\" height=\"45.9375\" id=\"E8\" rx=\"10\" ry=\"10\" style=\"stroke: #383838; stroke-width: 1.5;\" width=\"42\" x=\"284\" y=\"84\"/><text fill=\"#000000\" font-family=\"sans-serif\" font-size=\"12\" font-style=\"italic\" lengthAdjust=\"spacingAndGlyphs\" textLength=\"40\" x=\"285\" y=\"100.1387\">«part»</text><text fill=\"#000000\" font-family=\"sans-serif\" font-size=\"12\" lengthAdjust=\"spacingAndGlyphs\" textLength=\"22\" x=\"294\" y=\"114.1074\">y: B</text><line style=\"stroke: #383838; stroke-width: 1.5;\" x1=\"285\" x2=\"325\" y1=\"121.9375\" y2=\"121.9375\"/></a><!--MD5=[96f4274e9e20536e775497830990834d]\n",
       "class E10--><a href=\"psysml:4b1ceaae-3a33-4edd-a713-ae072a8ba794\" target=\"_top\" title=\"psysml:4b1ceaae-3a33-4edd-a713-ae072a8ba794\" xlink:actuate=\"onRequest\" xlink:href=\"psysml:4b1ceaae-3a33-4edd-a713-ae072a8ba794\" xlink:show=\"new\" xlink:title=\"psysml:4b1ceaae-3a33-4edd-a713-ae072a8ba794\" xlink:type=\"simple\"><rect fill=\"#FFFFFF\" height=\"45.9375\" id=\"E10\" rx=\"10\" ry=\"10\" style=\"stroke: #383838; stroke-width: 1.5;\" width=\"42\" x=\"186\" y=\"84\"/><text fill=\"#000000\" font-family=\"sans-serif\" font-size=\"12\" font-style=\"italic\" lengthAdjust=\"spacingAndGlyphs\" textLength=\"40\" x=\"187\" y=\"100.1387\">«part»</text><text fill=\"#000000\" font-family=\"sans-serif\" font-size=\"12\" lengthAdjust=\"spacingAndGlyphs\" textLength=\"22\" x=\"196\" y=\"114.1074\">x: A</text><line style=\"stroke: #383838; stroke-width: 1.5;\" x1=\"187\" x2=\"227\" y1=\"121.9375\" y2=\"121.9375\"/></a><!--MD5=[1dd1bfd58a279cf63c5f349dbc8fc6a1]\n",
       "class E11--><a href=\"psysml:8a3e0fcf-a1f5-42bd-9af7-3ab68d312f86\" target=\"_top\" title=\"psysml:8a3e0fcf-a1f5-42bd-9af7-3ab68d312f86\" xlink:actuate=\"onRequest\" xlink:href=\"psysml:8a3e0fcf-a1f5-42bd-9af7-3ab68d312f86\" xlink:show=\"new\" xlink:title=\"psysml:8a3e0fcf-a1f5-42bd-9af7-3ab68d312f86\" xlink:type=\"simple\"><rect fill=\"#FFFFFF\" height=\"45.9375\" id=\"E11\" rx=\"10\" ry=\"10\" style=\"stroke: #383838; stroke-width: 1.5;\" width=\"42\" x=\"109\" y=\"84\"/><text fill=\"#000000\" font-family=\"sans-serif\" font-size=\"12\" font-style=\"italic\" lengthAdjust=\"spacingAndGlyphs\" textLength=\"40\" x=\"110\" y=\"100.1387\">«part»</text><text fill=\"#000000\" font-family=\"sans-serif\" font-size=\"12\" lengthAdjust=\"spacingAndGlyphs\" textLength=\"22\" x=\"119\" y=\"114.1074\">y: B</text><line style=\"stroke: #383838; stroke-width: 1.5;\" x1=\"110\" x2=\"150\" y1=\"121.9375\" y2=\"121.9375\"/></a><!--MD5=[14ccda38c055a5c0da953d572bc50960]\n",
       "link E7 to E3--><a href=\"psysml:520b462f-0086-4fa2-a8c7-c457cfb393b0\" target=\"_top\" title=\"psysml:520b462f-0086-4fa2-a8c7-c457cfb393b0\" xlink:actuate=\"onRequest\" xlink:href=\"psysml:520b462f-0086-4fa2-a8c7-c457cfb393b0\" xlink:show=\"new\" xlink:title=\"psysml:520b462f-0086-4fa2-a8c7-c457cfb393b0\" xlink:type=\"simple\"><path d=\"M382,130.1 C382,145.37 382,166.16 382,184.57 \" fill=\"none\" id=\"E7-&gt;E3\" style=\"stroke: #383838; stroke-width: 1.0;\"/><polygon fill=\"#FFFFFF\" points=\"382,204.61,375,185.61,389,185.61,382,204.61\" style=\"stroke: #383838; stroke-width: 1.0;\"/><ellipse cx=\"377\" cy=\"179.91\" fill=\"#383838\" rx=\"2\" ry=\"2\" style=\"stroke: #383838; stroke-width: 1.0;\"/><ellipse cx=\"387\" cy=\"179.91\" fill=\"#383838\" rx=\"2\" ry=\"2\" style=\"stroke: #383838; stroke-width: 1.0;\"/></a><!--MD5=[1ccb2481ffa92f8d51a74ee30c51832a]\n",
       "link E8 to E5--><a href=\"psysml:7aecf3a3-7124-43a8-804d-679627dba63d\" target=\"_top\" title=\"psysml:7aecf3a3-7124-43a8-804d-679627dba63d\" xlink:actuate=\"onRequest\" xlink:href=\"psysml:7aecf3a3-7124-43a8-804d-679627dba63d\" xlink:show=\"new\" xlink:title=\"psysml:7aecf3a3-7124-43a8-804d-679627dba63d\" xlink:type=\"simple\"><path d=\"M283.84,124.59 C272.23,133.52 257.5,144.61 244,154 C223.51,168.25 200.41,183.24 180.38,195.91 \" fill=\"none\" id=\"E8-&gt;E5\" style=\"stroke: #383838; stroke-width: 1.0;\"/><polygon fill=\"#FFFFFF\" points=\"163.36,206.57,175.7353,190.5434,183.175,202.403,163.36,206.57\" style=\"stroke: #383838; stroke-width: 1.0;\"/><ellipse cx=\"181.6267\" cy=\"189.2086\" fill=\"#383838\" rx=\"2\" ry=\"2\" style=\"stroke: #383838; stroke-width: 1.0;\"/><ellipse cx=\"186.9408\" cy=\"197.6797\" fill=\"#383838\" rx=\"2\" ry=\"2\" style=\"stroke: #383838; stroke-width: 1.0;\"/></a><!--MD5=[feeac5eb423634930294aa81f2d25a4c]\n",
       "link E10 to E3--><a href=\"psysml:fd0acd65-b864-4a8e-8ff2-cbce99549eac\" target=\"_top\" title=\"psysml:fd0acd65-b864-4a8e-8ff2-cbce99549eac\" xlink:actuate=\"onRequest\" xlink:href=\"psysml:fd0acd65-b864-4a8e-8ff2-cbce99549eac\" xlink:show=\"new\" xlink:title=\"psysml:fd0acd65-b864-4a8e-8ff2-cbce99549eac\" xlink:type=\"simple\"><path d=\"M228.16,124.59 C239.77,133.52 254.5,144.61 268,154 C288.49,168.25 311.59,183.24 331.62,195.91 \" fill=\"none\" id=\"E10-&gt;E3\" style=\"stroke: #383838; stroke-width: 1.0;\"/><polygon fill=\"#FFFFFF\" points=\"348.64,206.57,328.825,202.403,336.2647,190.5434,348.64,206.57\" style=\"stroke: #383838; stroke-width: 1.0;\"/><ellipse cx=\"325.0592\" cy=\"197.6797\" fill=\"#383838\" rx=\"2\" ry=\"2\" style=\"stroke: #383838; stroke-width: 1.0;\"/><ellipse cx=\"330.3733\" cy=\"189.2086\" fill=\"#383838\" rx=\"2\" ry=\"2\" style=\"stroke: #383838; stroke-width: 1.0;\"/></a><!--MD5=[07b77f6f309248d16187045709d1c26e]\n",
       "link E11 to E5--><a href=\"psysml:442cb8f2-ee4b-4dfa-8164-f495024e2707\" target=\"_top\" title=\"psysml:442cb8f2-ee4b-4dfa-8164-f495024e2707\" xlink:actuate=\"onRequest\" xlink:href=\"psysml:442cb8f2-ee4b-4dfa-8164-f495024e2707\" xlink:show=\"new\" xlink:title=\"psysml:442cb8f2-ee4b-4dfa-8164-f495024e2707\" xlink:type=\"simple\"><path d=\"M130,130.1 C130,145.37 130,166.16 130,184.57 \" fill=\"none\" id=\"E11-&gt;E5\" style=\"stroke: #383838; stroke-width: 1.0;\"/><polygon fill=\"#FFFFFF\" points=\"130,204.61,123,185.61,137,185.61,130,204.61\" style=\"stroke: #383838; stroke-width: 1.0;\"/><ellipse cx=\"125\" cy=\"179.91\" fill=\"#383838\" rx=\"2\" ry=\"2\" style=\"stroke: #383838; stroke-width: 1.0;\"/><ellipse cx=\"135\" cy=\"179.91\" fill=\"#383838\" rx=\"2\" ry=\"2\" style=\"stroke: #383838; stroke-width: 1.0;\"/></a><!--MD5=[39f41a0e550fb3d73b4d8135617e30a2]\n",
       "link E12 to E3--><a href=\"psysml:fab56a21-03ff-446d-9dd1-385c5373a3f2\" target=\"_top\" title=\"psysml:fab56a21-03ff-446d-9dd1-385c5373a3f2\" xlink:actuate=\"onRequest\" xlink:href=\"psysml:fab56a21-03ff-446d-9dd1-385c5373a3f2\" xlink:show=\"new\" xlink:title=\"psysml:fab56a21-03ff-446d-9dd1-385c5373a3f2\" xlink:type=\"simple\"><path d=\"M444.7,130.1 C434.28,146.2 419.89,168.44 407.53,187.55 \" fill=\"none\" id=\"E12-&gt;E3\" style=\"stroke: #383838; stroke-width: 1.0;\"/><polygon fill=\"#FFFFFF\" points=\"396.49,204.61,400.9313,184.8546,412.6866,192.4581,396.49,204.61\" style=\"stroke: #383838; stroke-width: 1.0;\"/><ellipse cx=\"405.7063\" cy=\"181.1547\" fill=\"#383838\" rx=\"2\" ry=\"2\" style=\"stroke: #383838; stroke-width: 1.0;\"/><ellipse cx=\"414.103\" cy=\"186.5858\" fill=\"#383838\" rx=\"2\" ry=\"2\" style=\"stroke: #383838; stroke-width: 1.0;\"/></a><!--MD5=[066b2d8af59fea80ccdb3d54ad5c1091]\n",
       "link E13 to E5--><a href=\"psysml:5cad6703-6f19-4c46-9c46-92acb368aec7\" target=\"_top\" title=\"psysml:5cad6703-6f19-4c46-9c46-92acb368aec7\" xlink:actuate=\"onRequest\" xlink:href=\"psysml:5cad6703-6f19-4c46-9c46-92acb368aec7\" xlink:show=\"new\" xlink:title=\"psysml:5cad6703-6f19-4c46-9c46-92acb368aec7\" xlink:type=\"simple\"><path d=\"M67.3,130.1 C77.72,146.2 92.11,168.44 104.47,187.55 \" fill=\"none\" id=\"E13-&gt;E5\" style=\"stroke: #383838; stroke-width: 1.0;\"/><polygon fill=\"#FFFFFF\" points=\"115.51,204.61,99.3134,192.4581,111.0687,184.8546,115.51,204.61\" style=\"stroke: #383838; stroke-width: 1.0;\"/><ellipse cx=\"97.897\" cy=\"186.5858\" fill=\"#383838\" rx=\"2\" ry=\"2\" style=\"stroke: #383838; stroke-width: 1.0;\"/><ellipse cx=\"106.2937\" cy=\"181.1547\" fill=\"#383838\" rx=\"2\" ry=\"2\" style=\"stroke: #383838; stroke-width: 1.0;\"/></a><!--MD5=[01a7e616edafb589923a02c161adff20]\n",
       "@startuml\r\n",
       "top to bottom direction\r\n",
       "skinparam monochrome true\r\n",
       "skinparam classbackgroundcolor white\r\n",
       "skinparam shadowing false\r\n",
       "skinparam wrapWidth 300\r\n",
       "hide circle\r\n",
       "\r\n",
       "package \"CircularImport\" as E1  [[psysml:7332441d-5859-4b68-88e6-44e4d7acfbc9 ]]  {\r\n",
       "package \"P1\" as E2  [[psysml:5f20ae7d-4d57-41a2-9907-55aa74d31ca3 ]]  {\r\n",
       "comp def \"A\" as E3  <<(T,blue) part def>> [[psysml:a77b04ef-8587-44c9-8b7f-efa23f8b51b3 ]] {\r\n",
       "}\r\n",
       "}\r\n",
       "package \"P2\" as E4  [[psysml:ebcd3975-b264-4248-9466-34d42d3f68ce ]]  {\r\n",
       "comp def \"B\" as E5  <<(T,blue) part def>> [[psysml:0236a647-9823-419e-b974-acac8cdc5ece ]] {\r\n",
       "}\r\n",
       "}\r\n",
       "package \"Test1\" as E6  [[psysml:da6ad505-2daa-495a-83b8-d3ba9d2de3a4 ]]  {\r\n",
       "comp usage \"x: A\" as E7  <<(T,blue) part>> [[psysml:d9c30419-fa03-4224-9f9b-cc52ece95c03 ]] {\r\n",
       "}\r\n",
       "comp usage \"y: B\" as E8  <<(T,blue) part>> [[psysml:32c0d6a2-b48f-4756-bec9-ba81426d308d ]] {\r\n",
       "}\r\n",
       "}\r\n",
       "package \"Test2\" as E9  [[psysml:b0babda1-ae00-488b-8e87-1a86d4c9a0c6 ]]  {\r\n",
       "comp usage \"x: A\" as E10  <<(T,blue) part>> [[psysml:4b1ceaae-3a33-4edd-a713-ae072a8ba794 ]] {\r\n",
       "}\r\n",
       "comp usage \"y: B\" as E11  <<(T,blue) part>> [[psysml:8a3e0fcf-a1f5-42bd-9af7-3ab68d312f86 ]] {\r\n",
       "}\r\n",
       "}\r\n",
       "comp usage \"x: A\" as E12  <<(T,blue) part>> [[psysml:be17b73a-3dde-44ce-ab8b-a0409ce39ee3 ]] {\r\n",
       "}\r\n",
       "comp usage \"y: B\" as E13  <<(T,blue) part>> [[psysml:70775e2d-ada4-46b3-b3bb-1618b7e606cf ]] {\r\n",
       "}\r\n",
       "}\r\n",
       "E7 - -:|> E3 [[psysml:520b462f-0086-4fa2-a8c7-c457cfb393b0 ]] \r\n",
       "E8 - -:|> E5 [[psysml:7aecf3a3-7124-43a8-804d-679627dba63d ]] \r\n",
       "E10 - -:|> E3 [[psysml:fd0acd65-b864-4a8e-8ff2-cbce99549eac ]] \r\n",
       "E11 - -:|> E5 [[psysml:442cb8f2-ee4b-4dfa-8164-f495024e2707 ]] \r\n",
       "E12 - -:|> E3 [[psysml:fab56a21-03ff-446d-9dd1-385c5373a3f2 ]] \r\n",
       "E13 - -:|> E5 [[psysml:5cad6703-6f19-4c46-9c46-92acb368aec7 ]] \r\n",
       "@enduml\r\n",
       "\n",
       "PlantUML version 1.2020.13(Sat Jun 13 12:26:38 UTC 2020)\n",
       "(EPL source distribution)\n",
       "Java Runtime: OpenJDK Runtime Environment\n",
       "JVM: OpenJDK 64-Bit Server VM\n",
       "Default Encoding: UTF-8\n",
       "Language: en\n",
       "Country: null\n",
       "--></g></svg>"
      ]
     },
     "execution_count": 50,
     "metadata": {},
     "output_type": "execute_result"
    }
   ],
   "source": [
    "%viz --style=\"TB\" --view=\"MIXED\" \"CircularImport\""
   ]
  },
  {
   "cell_type": "code",
   "execution_count": 51,
   "id": "7b5fc7d9",
   "metadata": {
    "execution": {
     "iopub.execute_input": "2021-09-27T07:16:37.936712Z",
     "iopub.status.busy": "2021-09-27T07:16:37.936310Z",
     "iopub.status.idle": "2021-09-27T07:16:37.966420Z",
     "shell.execute_reply": "2021-09-27T07:16:37.965140Z"
    }
   },
   "outputs": [
    {
     "data": {
      "image/svg+xml": [
       "<?xml version=\"1.0\" encoding=\"UTF-8\" standalone=\"no\"?><svg xmlns=\"http://www.w3.org/2000/svg\" xmlns:xlink=\"http://www.w3.org/1999/xlink\" contentScriptType=\"application/ecmascript\" contentStyleType=\"text/css\" height=\"303px\" preserveAspectRatio=\"none\" style=\"width:518px;height:303px;\" version=\"1.1\" viewBox=\"0 0 518 303\" width=\"518px\" zoomAndPan=\"magnify\"><defs/><g><!--MD5=[fbc87193dbaf4d95561dea2c320d4a47]\n",
       "cluster E1--><a href=\"psysml:7332441d-5859-4b68-88e6-44e4d7acfbc9\" target=\"_top\" title=\"psysml:7332441d-5859-4b68-88e6-44e4d7acfbc9\" xlink:actuate=\"onRequest\" xlink:href=\"psysml:7332441d-5859-4b68-88e6-44e4d7acfbc9\" xlink:show=\"new\" xlink:title=\"psysml:7332441d-5859-4b68-88e6-44e4d7acfbc9\" xlink:type=\"simple\"><polygon fill=\"#FFFFFF\" points=\"16,6,117,6,124,28.2969,496,28.2969,496,291,16,291,16,6\" style=\"stroke: #000000; stroke-width: 1.5;\"/><line style=\"stroke: #000000; stroke-width: 1.5;\" x1=\"16\" x2=\"124\" y1=\"28.2969\" y2=\"28.2969\"/><text fill=\"#000000\" font-family=\"sans-serif\" font-size=\"14\" font-weight=\"bold\" lengthAdjust=\"spacingAndGlyphs\" textLength=\"95\" x=\"20\" y=\"20.9951\">CircularImport</text></a><!--MD5=[e4f7fae6ed58524ba242bb0b0d3be6b7]\n",
       "cluster E2--><a href=\"psysml:5f20ae7d-4d57-41a2-9907-55aa74d31ca3\" target=\"_top\" title=\"psysml:5f20ae7d-4d57-41a2-9907-55aa74d31ca3\" xlink:actuate=\"onRequest\" xlink:href=\"psysml:5f20ae7d-4d57-41a2-9907-55aa74d31ca3\" xlink:show=\"new\" xlink:title=\"psysml:5f20ae7d-4d57-41a2-9907-55aa74d31ca3\" xlink:type=\"simple\"><polygon fill=\"#FFFFFF\" points=\"333,170,357,170,364,192.2969,431,192.2969,431,267,333,267,333,170\" style=\"stroke: #000000; stroke-width: 1.5;\"/><line style=\"stroke: #000000; stroke-width: 1.5;\" x1=\"333\" x2=\"364\" y1=\"192.2969\" y2=\"192.2969\"/><text fill=\"#000000\" font-family=\"sans-serif\" font-size=\"14\" font-weight=\"bold\" lengthAdjust=\"spacingAndGlyphs\" textLength=\"18\" x=\"337\" y=\"184.9951\">P1</text></a><!--MD5=[f6df4d0ebaf0b5dfb2ced0ae5af7c670]\n",
       "cluster E4--><a href=\"psysml:ebcd3975-b264-4248-9466-34d42d3f68ce\" target=\"_top\" title=\"psysml:ebcd3975-b264-4248-9466-34d42d3f68ce\" xlink:actuate=\"onRequest\" xlink:href=\"psysml:ebcd3975-b264-4248-9466-34d42d3f68ce\" xlink:show=\"new\" xlink:title=\"psysml:ebcd3975-b264-4248-9466-34d42d3f68ce\" xlink:type=\"simple\"><polygon fill=\"#FFFFFF\" points=\"81,170,105,170,112,192.2969,179,192.2969,179,267,81,267,81,170\" style=\"stroke: #000000; stroke-width: 1.5;\"/><line style=\"stroke: #000000; stroke-width: 1.5;\" x1=\"81\" x2=\"112\" y1=\"192.2969\" y2=\"192.2969\"/><text fill=\"#000000\" font-family=\"sans-serif\" font-size=\"14\" font-weight=\"bold\" lengthAdjust=\"spacingAndGlyphs\" textLength=\"18\" x=\"85\" y=\"184.9951\">P2</text></a><!--MD5=[14e3b0961a2654348d326746436168a1]\n",
       "cluster E6--><a href=\"psysml:da6ad505-2daa-495a-83b8-d3ba9d2de3a4\" target=\"_top\" title=\"psysml:da6ad505-2daa-495a-83b8-d3ba9d2de3a4\" xlink:actuate=\"onRequest\" xlink:href=\"psysml:da6ad505-2daa-495a-83b8-d3ba9d2de3a4\" xlink:show=\"new\" xlink:title=\"psysml:da6ad505-2daa-495a-83b8-d3ba9d2de3a4\" xlink:type=\"simple\"><polygon fill=\"#FFFFFF\" points=\"268,49,314,49,321,71.2969,419,71.2969,419,146,268,146,268,49\" style=\"stroke: #000000; stroke-width: 1.5;\"/><line style=\"stroke: #000000; stroke-width: 1.5;\" x1=\"268\" x2=\"321\" y1=\"71.2969\" y2=\"71.2969\"/><text fill=\"#000000\" font-family=\"sans-serif\" font-size=\"14\" font-weight=\"bold\" lengthAdjust=\"spacingAndGlyphs\" textLength=\"40\" x=\"272\" y=\"63.9951\">Test1</text></a><!--MD5=[7f149f147074ac12df2cb0a7728a5fb0]\n",
       "cluster E9--><a href=\"psysml:b0babda1-ae00-488b-8e87-1a86d4c9a0c6\" target=\"_top\" title=\"psysml:b0babda1-ae00-488b-8e87-1a86d4c9a0c6\" xlink:actuate=\"onRequest\" xlink:href=\"psysml:b0babda1-ae00-488b-8e87-1a86d4c9a0c6\" xlink:show=\"new\" xlink:title=\"psysml:b0babda1-ae00-488b-8e87-1a86d4c9a0c6\" xlink:type=\"simple\"><polygon fill=\"#FFFFFF\" points=\"93,49,139,49,146,71.2969,244,71.2969,244,146,93,146,93,49\" style=\"stroke: #000000; stroke-width: 1.5;\"/><line style=\"stroke: #000000; stroke-width: 1.5;\" x1=\"93\" x2=\"146\" y1=\"71.2969\" y2=\"71.2969\"/><text fill=\"#000000\" font-family=\"sans-serif\" font-size=\"14\" font-weight=\"bold\" lengthAdjust=\"spacingAndGlyphs\" textLength=\"40\" x=\"97\" y=\"63.9951\">Test2</text></a><!--MD5=[49a0ec8f00dab7302a31f22d0f0fe584]\n",
       "class E12--><a href=\"psysml:be17b73a-3dde-44ce-ab8b-a0409ce39ee3\" target=\"_top\" title=\"psysml:be17b73a-3dde-44ce-ab8b-a0409ce39ee3\" xlink:actuate=\"onRequest\" xlink:href=\"psysml:be17b73a-3dde-44ce-ab8b-a0409ce39ee3\" xlink:show=\"new\" xlink:title=\"psysml:be17b73a-3dde-44ce-ab8b-a0409ce39ee3\" xlink:type=\"simple\"><rect fill=\"#FFFFFF\" height=\"45.9375\" id=\"E12\" rx=\"10\" ry=\"10\" style=\"stroke: #383838; stroke-width: 1.5;\" width=\"42\" x=\"438\" y=\"84\"/><text fill=\"#000000\" font-family=\"sans-serif\" font-size=\"12\" font-style=\"italic\" lengthAdjust=\"spacingAndGlyphs\" textLength=\"40\" x=\"439\" y=\"100.1387\">«part»</text><text fill=\"#000000\" font-family=\"sans-serif\" font-size=\"12\" lengthAdjust=\"spacingAndGlyphs\" textLength=\"22\" x=\"448\" y=\"114.1074\">x: A</text><line style=\"stroke: #383838; stroke-width: 1.5;\" x1=\"439\" x2=\"479\" y1=\"121.9375\" y2=\"121.9375\"/></a><!--MD5=[ee3c913d1a06f366521f9ef512b67efe]\n",
       "class E13--><a href=\"psysml:70775e2d-ada4-46b3-b3bb-1618b7e606cf\" target=\"_top\" title=\"psysml:70775e2d-ada4-46b3-b3bb-1618b7e606cf\" xlink:actuate=\"onRequest\" xlink:href=\"psysml:70775e2d-ada4-46b3-b3bb-1618b7e606cf\" xlink:show=\"new\" xlink:title=\"psysml:70775e2d-ada4-46b3-b3bb-1618b7e606cf\" xlink:type=\"simple\"><rect fill=\"#FFFFFF\" height=\"45.9375\" id=\"E13\" rx=\"10\" ry=\"10\" style=\"stroke: #383838; stroke-width: 1.5;\" width=\"42\" x=\"32\" y=\"84\"/><text fill=\"#000000\" font-family=\"sans-serif\" font-size=\"12\" font-style=\"italic\" lengthAdjust=\"spacingAndGlyphs\" textLength=\"40\" x=\"33\" y=\"100.1387\">«part»</text><text fill=\"#000000\" font-family=\"sans-serif\" font-size=\"12\" lengthAdjust=\"spacingAndGlyphs\" textLength=\"22\" x=\"42\" y=\"114.1074\">y: B</text><line style=\"stroke: #383838; stroke-width: 1.5;\" x1=\"33\" x2=\"73\" y1=\"121.9375\" y2=\"121.9375\"/></a><!--MD5=[09b614a08d8cba4a07c9adeb5e0fee81]\n",
       "class E3--><a href=\"psysml:a77b04ef-8587-44c9-8b7f-efa23f8b51b3\" target=\"_top\" title=\"psysml:a77b04ef-8587-44c9-8b7f-efa23f8b51b3\" xlink:actuate=\"onRequest\" xlink:href=\"psysml:a77b04ef-8587-44c9-8b7f-efa23f8b51b3\" xlink:show=\"new\" xlink:title=\"psysml:a77b04ef-8587-44c9-8b7f-efa23f8b51b3\" xlink:type=\"simple\"><rect fill=\"#FFFFFF\" height=\"45.9375\" id=\"E3\" style=\"stroke: #383838; stroke-width: 1.5;\" width=\"66\" x=\"349\" y=\"205\"/><text fill=\"#000000\" font-family=\"sans-serif\" font-size=\"12\" font-style=\"italic\" lengthAdjust=\"spacingAndGlyphs\" textLength=\"64\" x=\"350\" y=\"221.1387\">«part def»</text><text fill=\"#000000\" font-family=\"sans-serif\" font-size=\"12\" lengthAdjust=\"spacingAndGlyphs\" textLength=\"8\" x=\"378\" y=\"235.1074\">A</text><line style=\"stroke: #383838; stroke-width: 1.5;\" x1=\"350\" x2=\"414\" y1=\"242.9375\" y2=\"242.9375\"/></a><!--MD5=[270fce915f116d4de14055a7c1d9a0f3]\n",
       "class E5--><a href=\"psysml:0236a647-9823-419e-b974-acac8cdc5ece\" target=\"_top\" title=\"psysml:0236a647-9823-419e-b974-acac8cdc5ece\" xlink:actuate=\"onRequest\" xlink:href=\"psysml:0236a647-9823-419e-b974-acac8cdc5ece\" xlink:show=\"new\" xlink:title=\"psysml:0236a647-9823-419e-b974-acac8cdc5ece\" xlink:type=\"simple\"><rect fill=\"#FFFFFF\" height=\"45.9375\" id=\"E5\" style=\"stroke: #383838; stroke-width: 1.5;\" width=\"66\" x=\"97\" y=\"205\"/><text fill=\"#000000\" font-family=\"sans-serif\" font-size=\"12\" font-style=\"italic\" lengthAdjust=\"spacingAndGlyphs\" textLength=\"64\" x=\"98\" y=\"221.1387\">«part def»</text><text fill=\"#000000\" font-family=\"sans-serif\" font-size=\"12\" lengthAdjust=\"spacingAndGlyphs\" textLength=\"8\" x=\"126\" y=\"235.1074\">B</text><line style=\"stroke: #383838; stroke-width: 1.5;\" x1=\"98\" x2=\"162\" y1=\"242.9375\" y2=\"242.9375\"/></a><!--MD5=[2156ba9850f5573cc1fc38a6a4b2f02b]\n",
       "class E7--><a href=\"psysml:d9c30419-fa03-4224-9f9b-cc52ece95c03\" target=\"_top\" title=\"psysml:d9c30419-fa03-4224-9f9b-cc52ece95c03\" xlink:actuate=\"onRequest\" xlink:href=\"psysml:d9c30419-fa03-4224-9f9b-cc52ece95c03\" xlink:show=\"new\" xlink:title=\"psysml:d9c30419-fa03-4224-9f9b-cc52ece95c03\" xlink:type=\"simple\"><rect fill=\"#FFFFFF\" height=\"45.9375\" id=\"E7\" rx=\"10\" ry=\"10\" style=\"stroke: #383838; stroke-width: 1.5;\" width=\"42\" x=\"361\" y=\"84\"/><text fill=\"#000000\" font-family=\"sans-serif\" font-size=\"12\" font-style=\"italic\" lengthAdjust=\"spacingAndGlyphs\" textLength=\"40\" x=\"362\" y=\"100.1387\">«part»</text><text fill=\"#000000\" font-family=\"sans-serif\" font-size=\"12\" lengthAdjust=\"spacingAndGlyphs\" textLength=\"22\" x=\"371\" y=\"114.1074\">x: A</text><line style=\"stroke: #383838; stroke-width: 1.5;\" x1=\"362\" x2=\"402\" y1=\"121.9375\" y2=\"121.9375\"/></a><!--MD5=[b9389687b975829384b498ac4b7476b2]\n",
       "class E8--><a href=\"psysml:32c0d6a2-b48f-4756-bec9-ba81426d308d\" target=\"_top\" title=\"psysml:32c0d6a2-b48f-4756-bec9-ba81426d308d\" xlink:actuate=\"onRequest\" xlink:href=\"psysml:32c0d6a2-b48f-4756-bec9-ba81426d308d\" xlink:show=\"new\" xlink:title=\"psysml:32c0d6a2-b48f-4756-bec9-ba81426d308d\" xlink:type=\"simple\"><rect fill=\"#FFFFFF\" height=\"45.9375\" id=\"E8\" rx=\"10\" ry=\"10\" style=\"stroke: #383838; stroke-width: 1.5;\" width=\"42\" x=\"284\" y=\"84\"/><text fill=\"#000000\" font-family=\"sans-serif\" font-size=\"12\" font-style=\"italic\" lengthAdjust=\"spacingAndGlyphs\" textLength=\"40\" x=\"285\" y=\"100.1387\">«part»</text><text fill=\"#000000\" font-family=\"sans-serif\" font-size=\"12\" lengthAdjust=\"spacingAndGlyphs\" textLength=\"22\" x=\"294\" y=\"114.1074\">y: B</text><line style=\"stroke: #383838; stroke-width: 1.5;\" x1=\"285\" x2=\"325\" y1=\"121.9375\" y2=\"121.9375\"/></a><!--MD5=[96f4274e9e20536e775497830990834d]\n",
       "class E10--><a href=\"psysml:4b1ceaae-3a33-4edd-a713-ae072a8ba794\" target=\"_top\" title=\"psysml:4b1ceaae-3a33-4edd-a713-ae072a8ba794\" xlink:actuate=\"onRequest\" xlink:href=\"psysml:4b1ceaae-3a33-4edd-a713-ae072a8ba794\" xlink:show=\"new\" xlink:title=\"psysml:4b1ceaae-3a33-4edd-a713-ae072a8ba794\" xlink:type=\"simple\"><rect fill=\"#FFFFFF\" height=\"45.9375\" id=\"E10\" rx=\"10\" ry=\"10\" style=\"stroke: #383838; stroke-width: 1.5;\" width=\"42\" x=\"186\" y=\"84\"/><text fill=\"#000000\" font-family=\"sans-serif\" font-size=\"12\" font-style=\"italic\" lengthAdjust=\"spacingAndGlyphs\" textLength=\"40\" x=\"187\" y=\"100.1387\">«part»</text><text fill=\"#000000\" font-family=\"sans-serif\" font-size=\"12\" lengthAdjust=\"spacingAndGlyphs\" textLength=\"22\" x=\"196\" y=\"114.1074\">x: A</text><line style=\"stroke: #383838; stroke-width: 1.5;\" x1=\"187\" x2=\"227\" y1=\"121.9375\" y2=\"121.9375\"/></a><!--MD5=[1dd1bfd58a279cf63c5f349dbc8fc6a1]\n",
       "class E11--><a href=\"psysml:8a3e0fcf-a1f5-42bd-9af7-3ab68d312f86\" target=\"_top\" title=\"psysml:8a3e0fcf-a1f5-42bd-9af7-3ab68d312f86\" xlink:actuate=\"onRequest\" xlink:href=\"psysml:8a3e0fcf-a1f5-42bd-9af7-3ab68d312f86\" xlink:show=\"new\" xlink:title=\"psysml:8a3e0fcf-a1f5-42bd-9af7-3ab68d312f86\" xlink:type=\"simple\"><rect fill=\"#FFFFFF\" height=\"45.9375\" id=\"E11\" rx=\"10\" ry=\"10\" style=\"stroke: #383838; stroke-width: 1.5;\" width=\"42\" x=\"109\" y=\"84\"/><text fill=\"#000000\" font-family=\"sans-serif\" font-size=\"12\" font-style=\"italic\" lengthAdjust=\"spacingAndGlyphs\" textLength=\"40\" x=\"110\" y=\"100.1387\">«part»</text><text fill=\"#000000\" font-family=\"sans-serif\" font-size=\"12\" lengthAdjust=\"spacingAndGlyphs\" textLength=\"22\" x=\"119\" y=\"114.1074\">y: B</text><line style=\"stroke: #383838; stroke-width: 1.5;\" x1=\"110\" x2=\"150\" y1=\"121.9375\" y2=\"121.9375\"/></a><!--MD5=[14ccda38c055a5c0da953d572bc50960]\n",
       "link E7 to E3--><a href=\"psysml:520b462f-0086-4fa2-a8c7-c457cfb393b0\" target=\"_top\" title=\"psysml:520b462f-0086-4fa2-a8c7-c457cfb393b0\" xlink:actuate=\"onRequest\" xlink:href=\"psysml:520b462f-0086-4fa2-a8c7-c457cfb393b0\" xlink:show=\"new\" xlink:title=\"psysml:520b462f-0086-4fa2-a8c7-c457cfb393b0\" xlink:type=\"simple\"><path d=\"M382,130.04 C382,130.04 382,184.63 382,184.63 \" fill=\"none\" id=\"E7-&gt;E3\" style=\"stroke: #383838; stroke-width: 1.0;\"/><polygon fill=\"#FFFFFF\" points=\"382,204.63,375,185.63,389,185.63,382,204.63\" style=\"stroke: #383838; stroke-width: 1.0;\"/><ellipse cx=\"377\" cy=\"179.93\" fill=\"#383838\" rx=\"2\" ry=\"2\" style=\"stroke: #383838; stroke-width: 1.0;\"/><ellipse cx=\"387\" cy=\"179.93\" fill=\"#383838\" rx=\"2\" ry=\"2\" style=\"stroke: #383838; stroke-width: 1.0;\"/></a><!--MD5=[1ccb2481ffa92f8d51a74ee30c51832a]\n",
       "link E8 to E5--><a href=\"psysml:7aecf3a3-7124-43a8-804d-679627dba63d\" target=\"_top\" title=\"psysml:7aecf3a3-7124-43a8-804d-679627dba63d\" xlink:actuate=\"onRequest\" xlink:href=\"psysml:7aecf3a3-7124-43a8-804d-679627dba63d\" xlink:show=\"new\" xlink:title=\"psysml:7aecf3a3-7124-43a8-804d-679627dba63d\" xlink:type=\"simple\"><path d=\"M305,130.06 C305,167.17 305,236 305,236 C305,236 183.33,236 183.33,236 \" fill=\"none\" id=\"E8-&gt;E5\" style=\"stroke: #383838; stroke-width: 1.0;\"/><polygon fill=\"#FFFFFF\" points=\"163.33,236,182.33,229,182.33,243,163.33,236\" style=\"stroke: #383838; stroke-width: 1.0;\"/><ellipse cx=\"188.03\" cy=\"231\" fill=\"#383838\" rx=\"2\" ry=\"2\" style=\"stroke: #383838; stroke-width: 1.0;\"/><ellipse cx=\"188.03\" cy=\"241\" fill=\"#383838\" rx=\"2\" ry=\"2\" style=\"stroke: #383838; stroke-width: 1.0;\"/></a><!--MD5=[feeac5eb423634930294aa81f2d25a4c]\n",
       "link E10 to E3--><a href=\"psysml:fd0acd65-b864-4a8e-8ff2-cbce99549eac\" target=\"_top\" title=\"psysml:fd0acd65-b864-4a8e-8ff2-cbce99549eac\" xlink:actuate=\"onRequest\" xlink:href=\"psysml:fd0acd65-b864-4a8e-8ff2-cbce99549eac\" xlink:show=\"new\" xlink:title=\"psysml:fd0acd65-b864-4a8e-8ff2-cbce99549eac\" xlink:type=\"simple\"><path d=\"M207,130.07 C207,163.38 207,221 207,221 C207,221 328.67,221 328.67,221 \" fill=\"none\" id=\"E10-&gt;E3\" style=\"stroke: #383838; stroke-width: 1.0;\"/><polygon fill=\"#FFFFFF\" points=\"348.67,221,329.67,228,329.67,214,348.67,221\" style=\"stroke: #383838; stroke-width: 1.0;\"/><ellipse cx=\"323.97\" cy=\"226\" fill=\"#383838\" rx=\"2\" ry=\"2\" style=\"stroke: #383838; stroke-width: 1.0;\"/><ellipse cx=\"323.97\" cy=\"216\" fill=\"#383838\" rx=\"2\" ry=\"2\" style=\"stroke: #383838; stroke-width: 1.0;\"/></a><!--MD5=[07b77f6f309248d16187045709d1c26e]\n",
       "link E11 to E5--><a href=\"psysml:442cb8f2-ee4b-4dfa-8164-f495024e2707\" target=\"_top\" title=\"psysml:442cb8f2-ee4b-4dfa-8164-f495024e2707\" xlink:actuate=\"onRequest\" xlink:href=\"psysml:442cb8f2-ee4b-4dfa-8164-f495024e2707\" xlink:show=\"new\" xlink:title=\"psysml:442cb8f2-ee4b-4dfa-8164-f495024e2707\" xlink:type=\"simple\"><path d=\"M130,130.04 C130,130.04 130,184.63 130,184.63 \" fill=\"none\" id=\"E11-&gt;E5\" style=\"stroke: #383838; stroke-width: 1.0;\"/><polygon fill=\"#FFFFFF\" points=\"130,204.63,123,185.63,137,185.63,130,204.63\" style=\"stroke: #383838; stroke-width: 1.0;\"/><ellipse cx=\"125\" cy=\"179.93\" fill=\"#383838\" rx=\"2\" ry=\"2\" style=\"stroke: #383838; stroke-width: 1.0;\"/><ellipse cx=\"135\" cy=\"179.93\" fill=\"#383838\" rx=\"2\" ry=\"2\" style=\"stroke: #383838; stroke-width: 1.0;\"/></a><!--MD5=[39f41a0e550fb3d73b4d8135617e30a2]\n",
       "link E12 to E3--><a href=\"psysml:fab56a21-03ff-446d-9dd1-385c5373a3f2\" target=\"_top\" title=\"psysml:fab56a21-03ff-446d-9dd1-385c5373a3f2\" xlink:actuate=\"onRequest\" xlink:href=\"psysml:fab56a21-03ff-446d-9dd1-385c5373a3f2\" xlink:show=\"new\" xlink:title=\"psysml:fab56a21-03ff-446d-9dd1-385c5373a3f2\" xlink:type=\"simple\"><path d=\"M437.8,107 C424.17,107 409,107 409,107 C409,107 409,184.96 409,184.96 \" fill=\"none\" id=\"E12-&gt;E3\" style=\"stroke: #383838; stroke-width: 1.0;\"/><polygon fill=\"#FFFFFF\" points=\"409,204.96,402,185.96,416,185.96,409,204.96\" style=\"stroke: #383838; stroke-width: 1.0;\"/><ellipse cx=\"404\" cy=\"180.26\" fill=\"#383838\" rx=\"2\" ry=\"2\" style=\"stroke: #383838; stroke-width: 1.0;\"/><ellipse cx=\"414\" cy=\"180.26\" fill=\"#383838\" rx=\"2\" ry=\"2\" style=\"stroke: #383838; stroke-width: 1.0;\"/></a><!--MD5=[066b2d8af59fea80ccdb3d54ad5c1091]\n",
       "link E13 to E5--><a href=\"psysml:5cad6703-6f19-4c46-9c46-92acb368aec7\" target=\"_top\" title=\"psysml:5cad6703-6f19-4c46-9c46-92acb368aec7\" xlink:actuate=\"onRequest\" xlink:href=\"psysml:5cad6703-6f19-4c46-9c46-92acb368aec7\" xlink:show=\"new\" xlink:title=\"psysml:5cad6703-6f19-4c46-9c46-92acb368aec7\" xlink:type=\"simple\"><path d=\"M74.2,107 C87.83,107 103,107 103,107 C103,107 103,184.96 103,184.96 \" fill=\"none\" id=\"E13-&gt;E5\" style=\"stroke: #383838; stroke-width: 1.0;\"/><polygon fill=\"#FFFFFF\" points=\"103,204.96,96,185.96,110,185.96,103,204.96\" style=\"stroke: #383838; stroke-width: 1.0;\"/><ellipse cx=\"98\" cy=\"180.26\" fill=\"#383838\" rx=\"2\" ry=\"2\" style=\"stroke: #383838; stroke-width: 1.0;\"/><ellipse cx=\"108\" cy=\"180.26\" fill=\"#383838\" rx=\"2\" ry=\"2\" style=\"stroke: #383838; stroke-width: 1.0;\"/></a><!--MD5=[bb04df5c169b9b0ae3ea82e769ea0d3a]\n",
       "@startuml\r\n",
       "skinparam linetype ortho\r\n",
       "skinparam monochrome true\r\n",
       "skinparam classbackgroundcolor white\r\n",
       "skinparam shadowing false\r\n",
       "skinparam wrapWidth 300\r\n",
       "hide circle\r\n",
       "\r\n",
       "package \"CircularImport\" as E1  [[psysml:7332441d-5859-4b68-88e6-44e4d7acfbc9 ]]  {\r\n",
       "package \"P1\" as E2  [[psysml:5f20ae7d-4d57-41a2-9907-55aa74d31ca3 ]]  {\r\n",
       "comp def \"A\" as E3  <<(T,blue) part def>> [[psysml:a77b04ef-8587-44c9-8b7f-efa23f8b51b3 ]] {\r\n",
       "}\r\n",
       "}\r\n",
       "package \"P2\" as E4  [[psysml:ebcd3975-b264-4248-9466-34d42d3f68ce ]]  {\r\n",
       "comp def \"B\" as E5  <<(T,blue) part def>> [[psysml:0236a647-9823-419e-b974-acac8cdc5ece ]] {\r\n",
       "}\r\n",
       "}\r\n",
       "package \"Test1\" as E6  [[psysml:da6ad505-2daa-495a-83b8-d3ba9d2de3a4 ]]  {\r\n",
       "comp usage \"x: A\" as E7  <<(T,blue) part>> [[psysml:d9c30419-fa03-4224-9f9b-cc52ece95c03 ]] {\r\n",
       "}\r\n",
       "comp usage \"y: B\" as E8  <<(T,blue) part>> [[psysml:32c0d6a2-b48f-4756-bec9-ba81426d308d ]] {\r\n",
       "}\r\n",
       "}\r\n",
       "package \"Test2\" as E9  [[psysml:b0babda1-ae00-488b-8e87-1a86d4c9a0c6 ]]  {\r\n",
       "comp usage \"x: A\" as E10  <<(T,blue) part>> [[psysml:4b1ceaae-3a33-4edd-a713-ae072a8ba794 ]] {\r\n",
       "}\r\n",
       "comp usage \"y: B\" as E11  <<(T,blue) part>> [[psysml:8a3e0fcf-a1f5-42bd-9af7-3ab68d312f86 ]] {\r\n",
       "}\r\n",
       "}\r\n",
       "comp usage \"x: A\" as E12  <<(T,blue) part>> [[psysml:be17b73a-3dde-44ce-ab8b-a0409ce39ee3 ]] {\r\n",
       "}\r\n",
       "comp usage \"y: B\" as E13  <<(T,blue) part>> [[psysml:70775e2d-ada4-46b3-b3bb-1618b7e606cf ]] {\r\n",
       "}\r\n",
       "}\r\n",
       "E7 - -:|> E3 [[psysml:520b462f-0086-4fa2-a8c7-c457cfb393b0 ]] \r\n",
       "E8 - -:|> E5 [[psysml:7aecf3a3-7124-43a8-804d-679627dba63d ]] \r\n",
       "E10 - -:|> E3 [[psysml:fd0acd65-b864-4a8e-8ff2-cbce99549eac ]] \r\n",
       "E11 - -:|> E5 [[psysml:442cb8f2-ee4b-4dfa-8164-f495024e2707 ]] \r\n",
       "E12 - -:|> E3 [[psysml:fab56a21-03ff-446d-9dd1-385c5373a3f2 ]] \r\n",
       "E13 - -:|> E5 [[psysml:5cad6703-6f19-4c46-9c46-92acb368aec7 ]] \r\n",
       "@enduml\r\n",
       "\n",
       "PlantUML version 1.2020.13(Sat Jun 13 12:26:38 UTC 2020)\n",
       "(EPL source distribution)\n",
       "Java Runtime: OpenJDK Runtime Environment\n",
       "JVM: OpenJDK 64-Bit Server VM\n",
       "Default Encoding: UTF-8\n",
       "Language: en\n",
       "Country: null\n",
       "--></g></svg>"
      ]
     },
     "execution_count": 51,
     "metadata": {},
     "output_type": "execute_result"
    }
   ],
   "source": [
    "%viz --style=\"ORTHOLINE\" --view=\"Default\" \"CircularImport\""
   ]
  },
  {
   "cell_type": "code",
   "execution_count": 52,
   "id": "789b43eb",
   "metadata": {
    "execution": {
     "iopub.execute_input": "2021-09-27T07:16:38.016030Z",
     "iopub.status.busy": "2021-09-27T07:16:38.015616Z",
     "iopub.status.idle": "2021-09-27T07:16:38.045575Z",
     "shell.execute_reply": "2021-09-27T07:16:38.044168Z"
    }
   },
   "outputs": [
    {
     "data": {
      "image/svg+xml": [
       "<?xml version=\"1.0\" encoding=\"UTF-8\" standalone=\"no\"?><svg xmlns=\"http://www.w3.org/2000/svg\" xmlns:xlink=\"http://www.w3.org/1999/xlink\" contentScriptType=\"application/ecmascript\" contentStyleType=\"text/css\" height=\"303px\" preserveAspectRatio=\"none\" style=\"width:518px;height:303px;\" version=\"1.1\" viewBox=\"0 0 518 303\" width=\"518px\" zoomAndPan=\"magnify\"><defs/><g><!--MD5=[fbc87193dbaf4d95561dea2c320d4a47]\n",
       "cluster E1--><a href=\"psysml:7332441d-5859-4b68-88e6-44e4d7acfbc9\" target=\"_top\" title=\"psysml:7332441d-5859-4b68-88e6-44e4d7acfbc9\" xlink:actuate=\"onRequest\" xlink:href=\"psysml:7332441d-5859-4b68-88e6-44e4d7acfbc9\" xlink:show=\"new\" xlink:title=\"psysml:7332441d-5859-4b68-88e6-44e4d7acfbc9\" xlink:type=\"simple\"><polygon fill=\"#FFFFFF\" points=\"16,6,117,6,124,28.2969,496,28.2969,496,291,16,291,16,6\" style=\"stroke: #000000; stroke-width: 1.5;\"/><line style=\"stroke: #000000; stroke-width: 1.5;\" x1=\"16\" x2=\"124\" y1=\"28.2969\" y2=\"28.2969\"/><text fill=\"#000000\" font-family=\"sans-serif\" font-size=\"14\" font-weight=\"bold\" lengthAdjust=\"spacingAndGlyphs\" textLength=\"95\" x=\"20\" y=\"20.9951\">CircularImport</text></a><!--MD5=[e4f7fae6ed58524ba242bb0b0d3be6b7]\n",
       "cluster E2--><a href=\"psysml:5f20ae7d-4d57-41a2-9907-55aa74d31ca3\" target=\"_top\" title=\"psysml:5f20ae7d-4d57-41a2-9907-55aa74d31ca3\" xlink:actuate=\"onRequest\" xlink:href=\"psysml:5f20ae7d-4d57-41a2-9907-55aa74d31ca3\" xlink:show=\"new\" xlink:title=\"psysml:5f20ae7d-4d57-41a2-9907-55aa74d31ca3\" xlink:type=\"simple\"><polygon fill=\"#FFFFFF\" points=\"333,170,357,170,364,192.2969,431,192.2969,431,267,333,267,333,170\" style=\"stroke: #000000; stroke-width: 1.5;\"/><line style=\"stroke: #000000; stroke-width: 1.5;\" x1=\"333\" x2=\"364\" y1=\"192.2969\" y2=\"192.2969\"/><text fill=\"#000000\" font-family=\"sans-serif\" font-size=\"14\" font-weight=\"bold\" lengthAdjust=\"spacingAndGlyphs\" textLength=\"18\" x=\"337\" y=\"184.9951\">P1</text></a><!--MD5=[f6df4d0ebaf0b5dfb2ced0ae5af7c670]\n",
       "cluster E4--><a href=\"psysml:ebcd3975-b264-4248-9466-34d42d3f68ce\" target=\"_top\" title=\"psysml:ebcd3975-b264-4248-9466-34d42d3f68ce\" xlink:actuate=\"onRequest\" xlink:href=\"psysml:ebcd3975-b264-4248-9466-34d42d3f68ce\" xlink:show=\"new\" xlink:title=\"psysml:ebcd3975-b264-4248-9466-34d42d3f68ce\" xlink:type=\"simple\"><polygon fill=\"#FFFFFF\" points=\"81,170,105,170,112,192.2969,179,192.2969,179,267,81,267,81,170\" style=\"stroke: #000000; stroke-width: 1.5;\"/><line style=\"stroke: #000000; stroke-width: 1.5;\" x1=\"81\" x2=\"112\" y1=\"192.2969\" y2=\"192.2969\"/><text fill=\"#000000\" font-family=\"sans-serif\" font-size=\"14\" font-weight=\"bold\" lengthAdjust=\"spacingAndGlyphs\" textLength=\"18\" x=\"85\" y=\"184.9951\">P2</text></a><!--MD5=[14e3b0961a2654348d326746436168a1]\n",
       "cluster E6--><a href=\"psysml:da6ad505-2daa-495a-83b8-d3ba9d2de3a4\" target=\"_top\" title=\"psysml:da6ad505-2daa-495a-83b8-d3ba9d2de3a4\" xlink:actuate=\"onRequest\" xlink:href=\"psysml:da6ad505-2daa-495a-83b8-d3ba9d2de3a4\" xlink:show=\"new\" xlink:title=\"psysml:da6ad505-2daa-495a-83b8-d3ba9d2de3a4\" xlink:type=\"simple\"><polygon fill=\"#FFFFFF\" points=\"268,49,314,49,321,71.2969,419,71.2969,419,146,268,146,268,49\" style=\"stroke: #000000; stroke-width: 1.5;\"/><line style=\"stroke: #000000; stroke-width: 1.5;\" x1=\"268\" x2=\"321\" y1=\"71.2969\" y2=\"71.2969\"/><text fill=\"#000000\" font-family=\"sans-serif\" font-size=\"14\" font-weight=\"bold\" lengthAdjust=\"spacingAndGlyphs\" textLength=\"40\" x=\"272\" y=\"63.9951\">Test1</text></a><!--MD5=[7f149f147074ac12df2cb0a7728a5fb0]\n",
       "cluster E9--><a href=\"psysml:b0babda1-ae00-488b-8e87-1a86d4c9a0c6\" target=\"_top\" title=\"psysml:b0babda1-ae00-488b-8e87-1a86d4c9a0c6\" xlink:actuate=\"onRequest\" xlink:href=\"psysml:b0babda1-ae00-488b-8e87-1a86d4c9a0c6\" xlink:show=\"new\" xlink:title=\"psysml:b0babda1-ae00-488b-8e87-1a86d4c9a0c6\" xlink:type=\"simple\"><polygon fill=\"#FFFFFF\" points=\"93,49,139,49,146,71.2969,244,71.2969,244,146,93,146,93,49\" style=\"stroke: #000000; stroke-width: 1.5;\"/><line style=\"stroke: #000000; stroke-width: 1.5;\" x1=\"93\" x2=\"146\" y1=\"71.2969\" y2=\"71.2969\"/><text fill=\"#000000\" font-family=\"sans-serif\" font-size=\"14\" font-weight=\"bold\" lengthAdjust=\"spacingAndGlyphs\" textLength=\"40\" x=\"97\" y=\"63.9951\">Test2</text></a><!--MD5=[49a0ec8f00dab7302a31f22d0f0fe584]\n",
       "class E12--><a href=\"psysml:be17b73a-3dde-44ce-ab8b-a0409ce39ee3\" target=\"_top\" title=\"psysml:be17b73a-3dde-44ce-ab8b-a0409ce39ee3\" xlink:actuate=\"onRequest\" xlink:href=\"psysml:be17b73a-3dde-44ce-ab8b-a0409ce39ee3\" xlink:show=\"new\" xlink:title=\"psysml:be17b73a-3dde-44ce-ab8b-a0409ce39ee3\" xlink:type=\"simple\"><rect fill=\"#FFFFFF\" height=\"45.9375\" id=\"E12\" rx=\"10\" ry=\"10\" style=\"stroke: #383838; stroke-width: 1.5;\" width=\"42\" x=\"438\" y=\"84\"/><text fill=\"#000000\" font-family=\"sans-serif\" font-size=\"12\" font-style=\"italic\" lengthAdjust=\"spacingAndGlyphs\" textLength=\"40\" x=\"439\" y=\"100.1387\">«part»</text><text fill=\"#000000\" font-family=\"sans-serif\" font-size=\"12\" lengthAdjust=\"spacingAndGlyphs\" textLength=\"22\" x=\"448\" y=\"114.1074\">x: A</text><line style=\"stroke: #383838; stroke-width: 1.5;\" x1=\"439\" x2=\"479\" y1=\"121.9375\" y2=\"121.9375\"/></a><!--MD5=[ee3c913d1a06f366521f9ef512b67efe]\n",
       "class E13--><a href=\"psysml:70775e2d-ada4-46b3-b3bb-1618b7e606cf\" target=\"_top\" title=\"psysml:70775e2d-ada4-46b3-b3bb-1618b7e606cf\" xlink:actuate=\"onRequest\" xlink:href=\"psysml:70775e2d-ada4-46b3-b3bb-1618b7e606cf\" xlink:show=\"new\" xlink:title=\"psysml:70775e2d-ada4-46b3-b3bb-1618b7e606cf\" xlink:type=\"simple\"><rect fill=\"#FFFFFF\" height=\"45.9375\" id=\"E13\" rx=\"10\" ry=\"10\" style=\"stroke: #383838; stroke-width: 1.5;\" width=\"42\" x=\"32\" y=\"84\"/><text fill=\"#000000\" font-family=\"sans-serif\" font-size=\"12\" font-style=\"italic\" lengthAdjust=\"spacingAndGlyphs\" textLength=\"40\" x=\"33\" y=\"100.1387\">«part»</text><text fill=\"#000000\" font-family=\"sans-serif\" font-size=\"12\" lengthAdjust=\"spacingAndGlyphs\" textLength=\"22\" x=\"42\" y=\"114.1074\">y: B</text><line style=\"stroke: #383838; stroke-width: 1.5;\" x1=\"33\" x2=\"73\" y1=\"121.9375\" y2=\"121.9375\"/></a><!--MD5=[09b614a08d8cba4a07c9adeb5e0fee81]\n",
       "class E3--><a href=\"psysml:a77b04ef-8587-44c9-8b7f-efa23f8b51b3\" target=\"_top\" title=\"psysml:a77b04ef-8587-44c9-8b7f-efa23f8b51b3\" xlink:actuate=\"onRequest\" xlink:href=\"psysml:a77b04ef-8587-44c9-8b7f-efa23f8b51b3\" xlink:show=\"new\" xlink:title=\"psysml:a77b04ef-8587-44c9-8b7f-efa23f8b51b3\" xlink:type=\"simple\"><rect fill=\"#FFFFFF\" height=\"45.9375\" id=\"E3\" style=\"stroke: #383838; stroke-width: 1.5;\" width=\"66\" x=\"349\" y=\"205\"/><text fill=\"#000000\" font-family=\"sans-serif\" font-size=\"12\" font-style=\"italic\" lengthAdjust=\"spacingAndGlyphs\" textLength=\"64\" x=\"350\" y=\"221.1387\">«part def»</text><text fill=\"#000000\" font-family=\"sans-serif\" font-size=\"12\" lengthAdjust=\"spacingAndGlyphs\" textLength=\"8\" x=\"378\" y=\"235.1074\">A</text><line style=\"stroke: #383838; stroke-width: 1.5;\" x1=\"350\" x2=\"414\" y1=\"242.9375\" y2=\"242.9375\"/></a><!--MD5=[270fce915f116d4de14055a7c1d9a0f3]\n",
       "class E5--><a href=\"psysml:0236a647-9823-419e-b974-acac8cdc5ece\" target=\"_top\" title=\"psysml:0236a647-9823-419e-b974-acac8cdc5ece\" xlink:actuate=\"onRequest\" xlink:href=\"psysml:0236a647-9823-419e-b974-acac8cdc5ece\" xlink:show=\"new\" xlink:title=\"psysml:0236a647-9823-419e-b974-acac8cdc5ece\" xlink:type=\"simple\"><rect fill=\"#FFFFFF\" height=\"45.9375\" id=\"E5\" style=\"stroke: #383838; stroke-width: 1.5;\" width=\"66\" x=\"97\" y=\"205\"/><text fill=\"#000000\" font-family=\"sans-serif\" font-size=\"12\" font-style=\"italic\" lengthAdjust=\"spacingAndGlyphs\" textLength=\"64\" x=\"98\" y=\"221.1387\">«part def»</text><text fill=\"#000000\" font-family=\"sans-serif\" font-size=\"12\" lengthAdjust=\"spacingAndGlyphs\" textLength=\"8\" x=\"126\" y=\"235.1074\">B</text><line style=\"stroke: #383838; stroke-width: 1.5;\" x1=\"98\" x2=\"162\" y1=\"242.9375\" y2=\"242.9375\"/></a><!--MD5=[2156ba9850f5573cc1fc38a6a4b2f02b]\n",
       "class E7--><a href=\"psysml:d9c30419-fa03-4224-9f9b-cc52ece95c03\" target=\"_top\" title=\"psysml:d9c30419-fa03-4224-9f9b-cc52ece95c03\" xlink:actuate=\"onRequest\" xlink:href=\"psysml:d9c30419-fa03-4224-9f9b-cc52ece95c03\" xlink:show=\"new\" xlink:title=\"psysml:d9c30419-fa03-4224-9f9b-cc52ece95c03\" xlink:type=\"simple\"><rect fill=\"#FFFFFF\" height=\"45.9375\" id=\"E7\" rx=\"10\" ry=\"10\" style=\"stroke: #383838; stroke-width: 1.5;\" width=\"42\" x=\"361\" y=\"84\"/><text fill=\"#000000\" font-family=\"sans-serif\" font-size=\"12\" font-style=\"italic\" lengthAdjust=\"spacingAndGlyphs\" textLength=\"40\" x=\"362\" y=\"100.1387\">«part»</text><text fill=\"#000000\" font-family=\"sans-serif\" font-size=\"12\" lengthAdjust=\"spacingAndGlyphs\" textLength=\"22\" x=\"371\" y=\"114.1074\">x: A</text><line style=\"stroke: #383838; stroke-width: 1.5;\" x1=\"362\" x2=\"402\" y1=\"121.9375\" y2=\"121.9375\"/></a><!--MD5=[b9389687b975829384b498ac4b7476b2]\n",
       "class E8--><a href=\"psysml:32c0d6a2-b48f-4756-bec9-ba81426d308d\" target=\"_top\" title=\"psysml:32c0d6a2-b48f-4756-bec9-ba81426d308d\" xlink:actuate=\"onRequest\" xlink:href=\"psysml:32c0d6a2-b48f-4756-bec9-ba81426d308d\" xlink:show=\"new\" xlink:title=\"psysml:32c0d6a2-b48f-4756-bec9-ba81426d308d\" xlink:type=\"simple\"><rect fill=\"#FFFFFF\" height=\"45.9375\" id=\"E8\" rx=\"10\" ry=\"10\" style=\"stroke: #383838; stroke-width: 1.5;\" width=\"42\" x=\"284\" y=\"84\"/><text fill=\"#000000\" font-family=\"sans-serif\" font-size=\"12\" font-style=\"italic\" lengthAdjust=\"spacingAndGlyphs\" textLength=\"40\" x=\"285\" y=\"100.1387\">«part»</text><text fill=\"#000000\" font-family=\"sans-serif\" font-size=\"12\" lengthAdjust=\"spacingAndGlyphs\" textLength=\"22\" x=\"294\" y=\"114.1074\">y: B</text><line style=\"stroke: #383838; stroke-width: 1.5;\" x1=\"285\" x2=\"325\" y1=\"121.9375\" y2=\"121.9375\"/></a><!--MD5=[96f4274e9e20536e775497830990834d]\n",
       "class E10--><a href=\"psysml:4b1ceaae-3a33-4edd-a713-ae072a8ba794\" target=\"_top\" title=\"psysml:4b1ceaae-3a33-4edd-a713-ae072a8ba794\" xlink:actuate=\"onRequest\" xlink:href=\"psysml:4b1ceaae-3a33-4edd-a713-ae072a8ba794\" xlink:show=\"new\" xlink:title=\"psysml:4b1ceaae-3a33-4edd-a713-ae072a8ba794\" xlink:type=\"simple\"><rect fill=\"#FFFFFF\" height=\"45.9375\" id=\"E10\" rx=\"10\" ry=\"10\" style=\"stroke: #383838; stroke-width: 1.5;\" width=\"42\" x=\"186\" y=\"84\"/><text fill=\"#000000\" font-family=\"sans-serif\" font-size=\"12\" font-style=\"italic\" lengthAdjust=\"spacingAndGlyphs\" textLength=\"40\" x=\"187\" y=\"100.1387\">«part»</text><text fill=\"#000000\" font-family=\"sans-serif\" font-size=\"12\" lengthAdjust=\"spacingAndGlyphs\" textLength=\"22\" x=\"196\" y=\"114.1074\">x: A</text><line style=\"stroke: #383838; stroke-width: 1.5;\" x1=\"187\" x2=\"227\" y1=\"121.9375\" y2=\"121.9375\"/></a><!--MD5=[1dd1bfd58a279cf63c5f349dbc8fc6a1]\n",
       "class E11--><a href=\"psysml:8a3e0fcf-a1f5-42bd-9af7-3ab68d312f86\" target=\"_top\" title=\"psysml:8a3e0fcf-a1f5-42bd-9af7-3ab68d312f86\" xlink:actuate=\"onRequest\" xlink:href=\"psysml:8a3e0fcf-a1f5-42bd-9af7-3ab68d312f86\" xlink:show=\"new\" xlink:title=\"psysml:8a3e0fcf-a1f5-42bd-9af7-3ab68d312f86\" xlink:type=\"simple\"><rect fill=\"#FFFFFF\" height=\"45.9375\" id=\"E11\" rx=\"10\" ry=\"10\" style=\"stroke: #383838; stroke-width: 1.5;\" width=\"42\" x=\"109\" y=\"84\"/><text fill=\"#000000\" font-family=\"sans-serif\" font-size=\"12\" font-style=\"italic\" lengthAdjust=\"spacingAndGlyphs\" textLength=\"40\" x=\"110\" y=\"100.1387\">«part»</text><text fill=\"#000000\" font-family=\"sans-serif\" font-size=\"12\" lengthAdjust=\"spacingAndGlyphs\" textLength=\"22\" x=\"119\" y=\"114.1074\">y: B</text><line style=\"stroke: #383838; stroke-width: 1.5;\" x1=\"110\" x2=\"150\" y1=\"121.9375\" y2=\"121.9375\"/></a><!--MD5=[14ccda38c055a5c0da953d572bc50960]\n",
       "link E7 to E3--><a href=\"psysml:520b462f-0086-4fa2-a8c7-c457cfb393b0\" target=\"_top\" title=\"psysml:520b462f-0086-4fa2-a8c7-c457cfb393b0\" xlink:actuate=\"onRequest\" xlink:href=\"psysml:520b462f-0086-4fa2-a8c7-c457cfb393b0\" xlink:show=\"new\" xlink:title=\"psysml:520b462f-0086-4fa2-a8c7-c457cfb393b0\" xlink:type=\"simple\"><path d=\"M382,130.04 C382,130.04 382,184.63 382,184.63 \" fill=\"none\" id=\"E7-&gt;E3\" style=\"stroke: #383838; stroke-width: 1.0;\"/><polygon fill=\"#FFFFFF\" points=\"382,204.63,375,185.63,389,185.63,382,204.63\" style=\"stroke: #383838; stroke-width: 1.0;\"/><ellipse cx=\"377\" cy=\"179.93\" fill=\"#383838\" rx=\"2\" ry=\"2\" style=\"stroke: #383838; stroke-width: 1.0;\"/><ellipse cx=\"387\" cy=\"179.93\" fill=\"#383838\" rx=\"2\" ry=\"2\" style=\"stroke: #383838; stroke-width: 1.0;\"/></a><!--MD5=[1ccb2481ffa92f8d51a74ee30c51832a]\n",
       "link E8 to E5--><a href=\"psysml:7aecf3a3-7124-43a8-804d-679627dba63d\" target=\"_top\" title=\"psysml:7aecf3a3-7124-43a8-804d-679627dba63d\" xlink:actuate=\"onRequest\" xlink:href=\"psysml:7aecf3a3-7124-43a8-804d-679627dba63d\" xlink:show=\"new\" xlink:title=\"psysml:7aecf3a3-7124-43a8-804d-679627dba63d\" xlink:type=\"simple\"><path d=\"M305,130.06 C305,167.17 305,236 305,236 C305,236 183.33,236 183.33,236 \" fill=\"none\" id=\"E8-&gt;E5\" style=\"stroke: #383838; stroke-width: 1.0;\"/><polygon fill=\"#FFFFFF\" points=\"163.33,236,182.33,229,182.33,243,163.33,236\" style=\"stroke: #383838; stroke-width: 1.0;\"/><ellipse cx=\"188.03\" cy=\"231\" fill=\"#383838\" rx=\"2\" ry=\"2\" style=\"stroke: #383838; stroke-width: 1.0;\"/><ellipse cx=\"188.03\" cy=\"241\" fill=\"#383838\" rx=\"2\" ry=\"2\" style=\"stroke: #383838; stroke-width: 1.0;\"/></a><!--MD5=[feeac5eb423634930294aa81f2d25a4c]\n",
       "link E10 to E3--><a href=\"psysml:fd0acd65-b864-4a8e-8ff2-cbce99549eac\" target=\"_top\" title=\"psysml:fd0acd65-b864-4a8e-8ff2-cbce99549eac\" xlink:actuate=\"onRequest\" xlink:href=\"psysml:fd0acd65-b864-4a8e-8ff2-cbce99549eac\" xlink:show=\"new\" xlink:title=\"psysml:fd0acd65-b864-4a8e-8ff2-cbce99549eac\" xlink:type=\"simple\"><path d=\"M207,130.07 C207,163.38 207,221 207,221 C207,221 328.67,221 328.67,221 \" fill=\"none\" id=\"E10-&gt;E3\" style=\"stroke: #383838; stroke-width: 1.0;\"/><polygon fill=\"#FFFFFF\" points=\"348.67,221,329.67,228,329.67,214,348.67,221\" style=\"stroke: #383838; stroke-width: 1.0;\"/><ellipse cx=\"323.97\" cy=\"226\" fill=\"#383838\" rx=\"2\" ry=\"2\" style=\"stroke: #383838; stroke-width: 1.0;\"/><ellipse cx=\"323.97\" cy=\"216\" fill=\"#383838\" rx=\"2\" ry=\"2\" style=\"stroke: #383838; stroke-width: 1.0;\"/></a><!--MD5=[07b77f6f309248d16187045709d1c26e]\n",
       "link E11 to E5--><a href=\"psysml:442cb8f2-ee4b-4dfa-8164-f495024e2707\" target=\"_top\" title=\"psysml:442cb8f2-ee4b-4dfa-8164-f495024e2707\" xlink:actuate=\"onRequest\" xlink:href=\"psysml:442cb8f2-ee4b-4dfa-8164-f495024e2707\" xlink:show=\"new\" xlink:title=\"psysml:442cb8f2-ee4b-4dfa-8164-f495024e2707\" xlink:type=\"simple\"><path d=\"M130,130.04 C130,130.04 130,184.63 130,184.63 \" fill=\"none\" id=\"E11-&gt;E5\" style=\"stroke: #383838; stroke-width: 1.0;\"/><polygon fill=\"#FFFFFF\" points=\"130,204.63,123,185.63,137,185.63,130,204.63\" style=\"stroke: #383838; stroke-width: 1.0;\"/><ellipse cx=\"125\" cy=\"179.93\" fill=\"#383838\" rx=\"2\" ry=\"2\" style=\"stroke: #383838; stroke-width: 1.0;\"/><ellipse cx=\"135\" cy=\"179.93\" fill=\"#383838\" rx=\"2\" ry=\"2\" style=\"stroke: #383838; stroke-width: 1.0;\"/></a><!--MD5=[39f41a0e550fb3d73b4d8135617e30a2]\n",
       "link E12 to E3--><a href=\"psysml:fab56a21-03ff-446d-9dd1-385c5373a3f2\" target=\"_top\" title=\"psysml:fab56a21-03ff-446d-9dd1-385c5373a3f2\" xlink:actuate=\"onRequest\" xlink:href=\"psysml:fab56a21-03ff-446d-9dd1-385c5373a3f2\" xlink:show=\"new\" xlink:title=\"psysml:fab56a21-03ff-446d-9dd1-385c5373a3f2\" xlink:type=\"simple\"><path d=\"M437.8,107 C424.17,107 409,107 409,107 C409,107 409,184.96 409,184.96 \" fill=\"none\" id=\"E12-&gt;E3\" style=\"stroke: #383838; stroke-width: 1.0;\"/><polygon fill=\"#FFFFFF\" points=\"409,204.96,402,185.96,416,185.96,409,204.96\" style=\"stroke: #383838; stroke-width: 1.0;\"/><ellipse cx=\"404\" cy=\"180.26\" fill=\"#383838\" rx=\"2\" ry=\"2\" style=\"stroke: #383838; stroke-width: 1.0;\"/><ellipse cx=\"414\" cy=\"180.26\" fill=\"#383838\" rx=\"2\" ry=\"2\" style=\"stroke: #383838; stroke-width: 1.0;\"/></a><!--MD5=[066b2d8af59fea80ccdb3d54ad5c1091]\n",
       "link E13 to E5--><a href=\"psysml:5cad6703-6f19-4c46-9c46-92acb368aec7\" target=\"_top\" title=\"psysml:5cad6703-6f19-4c46-9c46-92acb368aec7\" xlink:actuate=\"onRequest\" xlink:href=\"psysml:5cad6703-6f19-4c46-9c46-92acb368aec7\" xlink:show=\"new\" xlink:title=\"psysml:5cad6703-6f19-4c46-9c46-92acb368aec7\" xlink:type=\"simple\"><path d=\"M74.2,107 C87.83,107 103,107 103,107 C103,107 103,184.96 103,184.96 \" fill=\"none\" id=\"E13-&gt;E5\" style=\"stroke: #383838; stroke-width: 1.0;\"/><polygon fill=\"#FFFFFF\" points=\"103,204.96,96,185.96,110,185.96,103,204.96\" style=\"stroke: #383838; stroke-width: 1.0;\"/><ellipse cx=\"98\" cy=\"180.26\" fill=\"#383838\" rx=\"2\" ry=\"2\" style=\"stroke: #383838; stroke-width: 1.0;\"/><ellipse cx=\"108\" cy=\"180.26\" fill=\"#383838\" rx=\"2\" ry=\"2\" style=\"stroke: #383838; stroke-width: 1.0;\"/></a><!--MD5=[bb04df5c169b9b0ae3ea82e769ea0d3a]\n",
       "@startuml\r\n",
       "skinparam linetype ortho\r\n",
       "skinparam monochrome true\r\n",
       "skinparam classbackgroundcolor white\r\n",
       "skinparam shadowing false\r\n",
       "skinparam wrapWidth 300\r\n",
       "hide circle\r\n",
       "\r\n",
       "package \"CircularImport\" as E1  [[psysml:7332441d-5859-4b68-88e6-44e4d7acfbc9 ]]  {\r\n",
       "package \"P1\" as E2  [[psysml:5f20ae7d-4d57-41a2-9907-55aa74d31ca3 ]]  {\r\n",
       "comp def \"A\" as E3  <<(T,blue) part def>> [[psysml:a77b04ef-8587-44c9-8b7f-efa23f8b51b3 ]] {\r\n",
       "}\r\n",
       "}\r\n",
       "package \"P2\" as E4  [[psysml:ebcd3975-b264-4248-9466-34d42d3f68ce ]]  {\r\n",
       "comp def \"B\" as E5  <<(T,blue) part def>> [[psysml:0236a647-9823-419e-b974-acac8cdc5ece ]] {\r\n",
       "}\r\n",
       "}\r\n",
       "package \"Test1\" as E6  [[psysml:da6ad505-2daa-495a-83b8-d3ba9d2de3a4 ]]  {\r\n",
       "comp usage \"x: A\" as E7  <<(T,blue) part>> [[psysml:d9c30419-fa03-4224-9f9b-cc52ece95c03 ]] {\r\n",
       "}\r\n",
       "comp usage \"y: B\" as E8  <<(T,blue) part>> [[psysml:32c0d6a2-b48f-4756-bec9-ba81426d308d ]] {\r\n",
       "}\r\n",
       "}\r\n",
       "package \"Test2\" as E9  [[psysml:b0babda1-ae00-488b-8e87-1a86d4c9a0c6 ]]  {\r\n",
       "comp usage \"x: A\" as E10  <<(T,blue) part>> [[psysml:4b1ceaae-3a33-4edd-a713-ae072a8ba794 ]] {\r\n",
       "}\r\n",
       "comp usage \"y: B\" as E11  <<(T,blue) part>> [[psysml:8a3e0fcf-a1f5-42bd-9af7-3ab68d312f86 ]] {\r\n",
       "}\r\n",
       "}\r\n",
       "comp usage \"x: A\" as E12  <<(T,blue) part>> [[psysml:be17b73a-3dde-44ce-ab8b-a0409ce39ee3 ]] {\r\n",
       "}\r\n",
       "comp usage \"y: B\" as E13  <<(T,blue) part>> [[psysml:70775e2d-ada4-46b3-b3bb-1618b7e606cf ]] {\r\n",
       "}\r\n",
       "}\r\n",
       "E7 - -:|> E3 [[psysml:520b462f-0086-4fa2-a8c7-c457cfb393b0 ]] \r\n",
       "E8 - -:|> E5 [[psysml:7aecf3a3-7124-43a8-804d-679627dba63d ]] \r\n",
       "E10 - -:|> E3 [[psysml:fd0acd65-b864-4a8e-8ff2-cbce99549eac ]] \r\n",
       "E11 - -:|> E5 [[psysml:442cb8f2-ee4b-4dfa-8164-f495024e2707 ]] \r\n",
       "E12 - -:|> E3 [[psysml:fab56a21-03ff-446d-9dd1-385c5373a3f2 ]] \r\n",
       "E13 - -:|> E5 [[psysml:5cad6703-6f19-4c46-9c46-92acb368aec7 ]] \r\n",
       "@enduml\r\n",
       "\n",
       "PlantUML version 1.2020.13(Sat Jun 13 12:26:38 UTC 2020)\n",
       "(EPL source distribution)\n",
       "Java Runtime: OpenJDK Runtime Environment\n",
       "JVM: OpenJDK 64-Bit Server VM\n",
       "Default Encoding: UTF-8\n",
       "Language: en\n",
       "Country: null\n",
       "--></g></svg>"
      ]
     },
     "execution_count": 52,
     "metadata": {},
     "output_type": "execute_result"
    }
   ],
   "source": [
    "%viz --style=\"ORTHOLINE\" --view=\"Tree\" \"CircularImport\""
   ]
  },
  {
   "cell_type": "code",
   "execution_count": 53,
   "id": "d7f11cbf",
   "metadata": {
    "execution": {
     "iopub.execute_input": "2021-09-27T07:16:38.094950Z",
     "iopub.status.busy": "2021-09-27T07:16:38.094608Z",
     "iopub.status.idle": "2021-09-27T07:16:38.098300Z",
     "shell.execute_reply": "2021-09-27T07:16:38.098039Z"
    }
   },
   "outputs": [
    {
     "data": {
      "image/svg+xml": [
       "<?xml version=\"1.0\" encoding=\"UTF-8\" standalone=\"no\"?><svg xmlns=\"http://www.w3.org/2000/svg\" xmlns:xlink=\"http://www.w3.org/1999/xlink\" contentScriptType=\"application/ecmascript\" contentStyleType=\"text/css\" height=\"12px\" preserveAspectRatio=\"none\" style=\"width:12px;height:12px;\" version=\"1.1\" viewBox=\"0 0 12 12\" width=\"12px\" zoomAndPan=\"magnify\"><defs/><g><!--MD5=[97d6f38768b311333d388e66b2b27985]\n",
       "@startuml\r\n",
       "skinparam linetype ortho\r\n",
       "skinparam monochrome true\r\n",
       "skinparam classbackgroundcolor white\r\n",
       "skinparam shadowing false\r\n",
       "skinparam wrapWidth 300\r\n",
       "hide circle\r\n",
       "\r\n",
       "@enduml\r\n",
       "\n",
       "PlantUML version 1.2020.13(Sat Jun 13 12:26:38 UTC 2020)\n",
       "(EPL source distribution)\n",
       "Java Runtime: OpenJDK Runtime Environment\n",
       "JVM: OpenJDK 64-Bit Server VM\n",
       "Default Encoding: UTF-8\n",
       "Language: en\n",
       "Country: null\n",
       "--></g></svg>"
      ]
     },
     "execution_count": 53,
     "metadata": {},
     "output_type": "execute_result"
    }
   ],
   "source": [
    "%viz --style=\"ORTHOLINE\" --view=\"State\" \"CircularImport\""
   ]
  },
  {
   "cell_type": "code",
   "execution_count": 54,
   "id": "d493cc5c",
   "metadata": {
    "execution": {
     "iopub.execute_input": "2021-09-27T07:16:38.148621Z",
     "iopub.status.busy": "2021-09-27T07:16:38.148285Z",
     "iopub.status.idle": "2021-09-27T07:16:38.177079Z",
     "shell.execute_reply": "2021-09-27T07:16:38.175433Z"
    }
   },
   "outputs": [
    {
     "data": {
      "image/svg+xml": [
       "<?xml version=\"1.0\" encoding=\"UTF-8\" standalone=\"no\"?><svg xmlns=\"http://www.w3.org/2000/svg\" xmlns:xlink=\"http://www.w3.org/1999/xlink\" contentScriptType=\"application/ecmascript\" contentStyleType=\"text/css\" height=\"179px\" preserveAspectRatio=\"none\" style=\"width:846px;height:179px;\" version=\"1.1\" viewBox=\"0 0 846 179\" width=\"846px\" zoomAndPan=\"magnify\"><defs/><g><!--MD5=[fbc87193dbaf4d95561dea2c320d4a47]\n",
       "cluster E1--><a href=\"psysml:7332441d-5859-4b68-88e6-44e4d7acfbc9\" target=\"_top\" title=\"psysml:7332441d-5859-4b68-88e6-44e4d7acfbc9\" xlink:actuate=\"onRequest\" xlink:href=\"psysml:7332441d-5859-4b68-88e6-44e4d7acfbc9\" xlink:show=\"new\" xlink:title=\"psysml:7332441d-5859-4b68-88e6-44e4d7acfbc9\" xlink:type=\"simple\"><polygon fill=\"#FFFFFF\" points=\"16,6,117,6,124,28.2969,824,28.2969,824,167,16,167,16,6\" style=\"stroke: #000000; stroke-width: 1.5;\"/><line style=\"stroke: #000000; stroke-width: 1.5;\" x1=\"16\" x2=\"124\" y1=\"28.2969\" y2=\"28.2969\"/><text fill=\"#000000\" font-family=\"sans-serif\" font-size=\"14\" font-weight=\"bold\" lengthAdjust=\"spacingAndGlyphs\" textLength=\"95\" x=\"20\" y=\"20.9951\">CircularImport</text></a><!--MD5=[e4f7fae6ed58524ba242bb0b0d3be6b7]\n",
       "cluster E2--><a href=\"psysml:5f20ae7d-4d57-41a2-9907-55aa74d31ca3\" target=\"_top\" title=\"psysml:5f20ae7d-4d57-41a2-9907-55aa74d31ca3\" xlink:actuate=\"onRequest\" xlink:href=\"psysml:5f20ae7d-4d57-41a2-9907-55aa74d31ca3\" xlink:show=\"new\" xlink:title=\"psysml:5f20ae7d-4d57-41a2-9907-55aa74d31ca3\" xlink:type=\"simple\"><polygon fill=\"#FFFFFF\" points=\"696,49,720,49,727,71.2969,800,71.2969,800,143,696,143,696,49\" style=\"stroke: #000000; stroke-width: 1.5;\"/><line style=\"stroke: #000000; stroke-width: 1.5;\" x1=\"696\" x2=\"727\" y1=\"71.2969\" y2=\"71.2969\"/><text fill=\"#000000\" font-family=\"sans-serif\" font-size=\"14\" font-weight=\"bold\" lengthAdjust=\"spacingAndGlyphs\" textLength=\"18\" x=\"700\" y=\"63.9951\">P1</text></a><!--MD5=[f6df4d0ebaf0b5dfb2ced0ae5af7c670]\n",
       "cluster E4--><a href=\"psysml:ebcd3975-b264-4248-9466-34d42d3f68ce\" target=\"_top\" title=\"psysml:ebcd3975-b264-4248-9466-34d42d3f68ce\" xlink:actuate=\"onRequest\" xlink:href=\"psysml:ebcd3975-b264-4248-9466-34d42d3f68ce\" xlink:show=\"new\" xlink:title=\"psysml:ebcd3975-b264-4248-9466-34d42d3f68ce\" xlink:type=\"simple\"><polygon fill=\"#FFFFFF\" points=\"568,49,592,49,599,71.2969,672,71.2969,672,143,568,143,568,49\" style=\"stroke: #000000; stroke-width: 1.5;\"/><line style=\"stroke: #000000; stroke-width: 1.5;\" x1=\"568\" x2=\"599\" y1=\"71.2969\" y2=\"71.2969\"/><text fill=\"#000000\" font-family=\"sans-serif\" font-size=\"14\" font-weight=\"bold\" lengthAdjust=\"spacingAndGlyphs\" textLength=\"18\" x=\"572\" y=\"63.9951\">P2</text></a><!--MD5=[14e3b0961a2654348d326746436168a1]\n",
       "cluster E6--><a href=\"psysml:da6ad505-2daa-495a-83b8-d3ba9d2de3a4\" target=\"_top\" title=\"psysml:da6ad505-2daa-495a-83b8-d3ba9d2de3a4\" xlink:actuate=\"onRequest\" xlink:href=\"psysml:da6ad505-2daa-495a-83b8-d3ba9d2de3a4\" xlink:show=\"new\" xlink:title=\"psysml:da6ad505-2daa-495a-83b8-d3ba9d2de3a4\" xlink:type=\"simple\"><polygon fill=\"#FFFFFF\" points=\"377,50.5,423,50.5,430,72.7969,544,72.7969,544,141.5,377,141.5,377,50.5\" style=\"stroke: #000000; stroke-width: 1.5;\"/><line style=\"stroke: #000000; stroke-width: 1.5;\" x1=\"377\" x2=\"430\" y1=\"72.7969\" y2=\"72.7969\"/><text fill=\"#000000\" font-family=\"sans-serif\" font-size=\"14\" font-weight=\"bold\" lengthAdjust=\"spacingAndGlyphs\" textLength=\"40\" x=\"381\" y=\"65.4951\">Test1</text></a><!--MD5=[7f149f147074ac12df2cb0a7728a5fb0]\n",
       "cluster E9--><a href=\"psysml:b0babda1-ae00-488b-8e87-1a86d4c9a0c6\" target=\"_top\" title=\"psysml:b0babda1-ae00-488b-8e87-1a86d4c9a0c6\" xlink:actuate=\"onRequest\" xlink:href=\"psysml:b0babda1-ae00-488b-8e87-1a86d4c9a0c6\" xlink:show=\"new\" xlink:title=\"psysml:b0babda1-ae00-488b-8e87-1a86d4c9a0c6\" xlink:type=\"simple\"><polygon fill=\"#FFFFFF\" points=\"186,50.5,232,50.5,239,72.7969,353,72.7969,353,141.5,186,141.5,186,50.5\" style=\"stroke: #000000; stroke-width: 1.5;\"/><line style=\"stroke: #000000; stroke-width: 1.5;\" x1=\"186\" x2=\"239\" y1=\"72.7969\" y2=\"72.7969\"/><text fill=\"#000000\" font-family=\"sans-serif\" font-size=\"14\" font-weight=\"bold\" lengthAdjust=\"spacingAndGlyphs\" textLength=\"40\" x=\"190\" y=\"65.4951\">Test2</text></a><g id=\"E1.E2.E3\"><a href=\"psysml:a77b04ef-8587-44c9-8b7f-efa23f8b51b3\" target=\"_top\" title=\"psysml:a77b04ef-8587-44c9-8b7f-efa23f8b51b3\" xlink:actuate=\"onRequest\" xlink:href=\"psysml:a77b04ef-8587-44c9-8b7f-efa23f8b51b3\" xlink:show=\"new\" xlink:title=\"psysml:a77b04ef-8587-44c9-8b7f-efa23f8b51b3\" xlink:type=\"simple\"><rect fill=\"#FFFFFF\" height=\"42.9375\" id=\"E3\" style=\"stroke: #383838; stroke-width: 1.5;\" width=\"71\" x=\"712.5\" y=\"84\"/><rect fill=\"#F8F8F8\" height=\"37.9375\" style=\"stroke: #383838; stroke-width: 1.5;\" width=\"71\" x=\"712.5\" y=\"84\"/><text fill=\"#000000\" font-family=\"sans-serif\" font-size=\"12\" font-style=\"italic\" lengthAdjust=\"spacingAndGlyphs\" textLength=\"64\" x=\"716\" y=\"100.1387\">«part def»</text><text fill=\"#000000\" font-family=\"sans-serif\" font-size=\"12\" lengthAdjust=\"spacingAndGlyphs\" textLength=\"8\" x=\"744\" y=\"114.1074\">A</text></a></g><g id=\"E1.E4.E5\"><a href=\"psysml:0236a647-9823-419e-b974-acac8cdc5ece\" target=\"_top\" title=\"psysml:0236a647-9823-419e-b974-acac8cdc5ece\" xlink:actuate=\"onRequest\" xlink:href=\"psysml:0236a647-9823-419e-b974-acac8cdc5ece\" xlink:show=\"new\" xlink:title=\"psysml:0236a647-9823-419e-b974-acac8cdc5ece\" xlink:type=\"simple\"><rect fill=\"#FFFFFF\" height=\"42.9375\" id=\"E5\" style=\"stroke: #383838; stroke-width: 1.5;\" width=\"71\" x=\"584.5\" y=\"84\"/><rect fill=\"#F8F8F8\" height=\"37.9375\" style=\"stroke: #383838; stroke-width: 1.5;\" width=\"71\" x=\"584.5\" y=\"84\"/><text fill=\"#000000\" font-family=\"sans-serif\" font-size=\"12\" font-style=\"italic\" lengthAdjust=\"spacingAndGlyphs\" textLength=\"64\" x=\"588\" y=\"100.1387\">«part def»</text><text fill=\"#000000\" font-family=\"sans-serif\" font-size=\"12\" lengthAdjust=\"spacingAndGlyphs\" textLength=\"8\" x=\"616\" y=\"114.1074\">B</text></a></g><g id=\"E1.E6.E7\"><a href=\"psysml:d9c30419-fa03-4224-9f9b-cc52ece95c03\" target=\"_top\" title=\"psysml:d9c30419-fa03-4224-9f9b-cc52ece95c03\" xlink:actuate=\"onRequest\" xlink:href=\"psysml:d9c30419-fa03-4224-9f9b-cc52ece95c03\" xlink:show=\"new\" xlink:title=\"psysml:d9c30419-fa03-4224-9f9b-cc52ece95c03\" xlink:type=\"simple\"><rect fill=\"#FFFFFF\" height=\"40\" id=\"E7\" rx=\"10\" ry=\"10\" style=\"stroke: #383838; stroke-width: 1.5;\" width=\"50\" x=\"478\" y=\"85.5\"/><rect fill=\"#F8F8F8\" height=\"23.9688\" rx=\"10\" ry=\"10\" style=\"stroke: #F8F8F8; stroke-width: 1.5;\" width=\"50\" x=\"478\" y=\"85.5\"/><rect fill=\"#F8F8F8\" height=\"10\" style=\"stroke: #F8F8F8; stroke-width: 1.5;\" width=\"50\" x=\"478\" y=\"99.4688\"/><rect fill=\"none\" height=\"40\" id=\"E7\" rx=\"10\" ry=\"10\" style=\"stroke: #383838; stroke-width: 1.5;\" width=\"50\" x=\"478\" y=\"85.5\"/><text fill=\"#000000\" font-family=\"sans-serif\" font-size=\"12\" lengthAdjust=\"spacingAndGlyphs\" textLength=\"22\" x=\"492\" y=\"101.6387\">x: A</text></a></g><g id=\"E1.E6.E8\"><a href=\"psysml:32c0d6a2-b48f-4756-bec9-ba81426d308d\" target=\"_top\" title=\"psysml:32c0d6a2-b48f-4756-bec9-ba81426d308d\" xlink:actuate=\"onRequest\" xlink:href=\"psysml:32c0d6a2-b48f-4756-bec9-ba81426d308d\" xlink:show=\"new\" xlink:title=\"psysml:32c0d6a2-b48f-4756-bec9-ba81426d308d\" xlink:type=\"simple\"><rect fill=\"#FFFFFF\" height=\"40\" id=\"E8\" rx=\"10\" ry=\"10\" style=\"stroke: #383838; stroke-width: 1.5;\" width=\"50\" x=\"393\" y=\"85.5\"/><rect fill=\"#F8F8F8\" height=\"23.9688\" rx=\"10\" ry=\"10\" style=\"stroke: #F8F8F8; stroke-width: 1.5;\" width=\"50\" x=\"393\" y=\"85.5\"/><rect fill=\"#F8F8F8\" height=\"10\" style=\"stroke: #F8F8F8; stroke-width: 1.5;\" width=\"50\" x=\"393\" y=\"99.4688\"/><rect fill=\"none\" height=\"40\" id=\"E8\" rx=\"10\" ry=\"10\" style=\"stroke: #383838; stroke-width: 1.5;\" width=\"50\" x=\"393\" y=\"85.5\"/><text fill=\"#000000\" font-family=\"sans-serif\" font-size=\"12\" lengthAdjust=\"spacingAndGlyphs\" textLength=\"22\" x=\"407\" y=\"101.6387\">y: B</text></a></g><g id=\"E1.E9.E10\"><a href=\"psysml:4b1ceaae-3a33-4edd-a713-ae072a8ba794\" target=\"_top\" title=\"psysml:4b1ceaae-3a33-4edd-a713-ae072a8ba794\" xlink:actuate=\"onRequest\" xlink:href=\"psysml:4b1ceaae-3a33-4edd-a713-ae072a8ba794\" xlink:show=\"new\" xlink:title=\"psysml:4b1ceaae-3a33-4edd-a713-ae072a8ba794\" xlink:type=\"simple\"><rect fill=\"#FFFFFF\" height=\"40\" id=\"E10\" rx=\"10\" ry=\"10\" style=\"stroke: #383838; stroke-width: 1.5;\" width=\"50\" x=\"287\" y=\"85.5\"/><rect fill=\"#F8F8F8\" height=\"23.9688\" rx=\"10\" ry=\"10\" style=\"stroke: #F8F8F8; stroke-width: 1.5;\" width=\"50\" x=\"287\" y=\"85.5\"/><rect fill=\"#F8F8F8\" height=\"10\" style=\"stroke: #F8F8F8; stroke-width: 1.5;\" width=\"50\" x=\"287\" y=\"99.4688\"/><rect fill=\"none\" height=\"40\" id=\"E10\" rx=\"10\" ry=\"10\" style=\"stroke: #383838; stroke-width: 1.5;\" width=\"50\" x=\"287\" y=\"85.5\"/><text fill=\"#000000\" font-family=\"sans-serif\" font-size=\"12\" lengthAdjust=\"spacingAndGlyphs\" textLength=\"22\" x=\"301\" y=\"101.6387\">x: A</text></a></g><g id=\"E1.E9.E11\"><a href=\"psysml:8a3e0fcf-a1f5-42bd-9af7-3ab68d312f86\" target=\"_top\" title=\"psysml:8a3e0fcf-a1f5-42bd-9af7-3ab68d312f86\" xlink:actuate=\"onRequest\" xlink:href=\"psysml:8a3e0fcf-a1f5-42bd-9af7-3ab68d312f86\" xlink:show=\"new\" xlink:title=\"psysml:8a3e0fcf-a1f5-42bd-9af7-3ab68d312f86\" xlink:type=\"simple\"><rect fill=\"#FFFFFF\" height=\"40\" id=\"E11\" rx=\"10\" ry=\"10\" style=\"stroke: #383838; stroke-width: 1.5;\" width=\"50\" x=\"202\" y=\"85.5\"/><rect fill=\"#F8F8F8\" height=\"23.9688\" rx=\"10\" ry=\"10\" style=\"stroke: #F8F8F8; stroke-width: 1.5;\" width=\"50\" x=\"202\" y=\"85.5\"/><rect fill=\"#F8F8F8\" height=\"10\" style=\"stroke: #F8F8F8; stroke-width: 1.5;\" width=\"50\" x=\"202\" y=\"99.4688\"/><rect fill=\"none\" height=\"40\" id=\"E11\" rx=\"10\" ry=\"10\" style=\"stroke: #383838; stroke-width: 1.5;\" width=\"50\" x=\"202\" y=\"85.5\"/><text fill=\"#000000\" font-family=\"sans-serif\" font-size=\"12\" lengthAdjust=\"spacingAndGlyphs\" textLength=\"22\" x=\"216\" y=\"101.6387\">y: B</text></a></g><g id=\"E1.E12\"><a href=\"psysml:be17b73a-3dde-44ce-ab8b-a0409ce39ee3\" target=\"_top\" title=\"psysml:be17b73a-3dde-44ce-ab8b-a0409ce39ee3\" xlink:actuate=\"onRequest\" xlink:href=\"psysml:be17b73a-3dde-44ce-ab8b-a0409ce39ee3\" xlink:show=\"new\" xlink:title=\"psysml:be17b73a-3dde-44ce-ab8b-a0409ce39ee3\" xlink:type=\"simple\"><rect fill=\"#FFFFFF\" height=\"40\" id=\"E12\" rx=\"10\" ry=\"10\" style=\"stroke: #383838; stroke-width: 1.5;\" width=\"50\" x=\"117\" y=\"85.5\"/><rect fill=\"#F8F8F8\" height=\"23.9688\" rx=\"10\" ry=\"10\" style=\"stroke: #F8F8F8; stroke-width: 1.5;\" width=\"50\" x=\"117\" y=\"85.5\"/><rect fill=\"#F8F8F8\" height=\"10\" style=\"stroke: #F8F8F8; stroke-width: 1.5;\" width=\"50\" x=\"117\" y=\"99.4688\"/><rect fill=\"none\" height=\"40\" id=\"E12\" rx=\"10\" ry=\"10\" style=\"stroke: #383838; stroke-width: 1.5;\" width=\"50\" x=\"117\" y=\"85.5\"/><text fill=\"#000000\" font-family=\"sans-serif\" font-size=\"12\" lengthAdjust=\"spacingAndGlyphs\" textLength=\"22\" x=\"131\" y=\"101.6387\">x: A</text></a></g><g id=\"E1.E13\"><a href=\"psysml:70775e2d-ada4-46b3-b3bb-1618b7e606cf\" target=\"_top\" title=\"psysml:70775e2d-ada4-46b3-b3bb-1618b7e606cf\" xlink:actuate=\"onRequest\" xlink:href=\"psysml:70775e2d-ada4-46b3-b3bb-1618b7e606cf\" xlink:show=\"new\" xlink:title=\"psysml:70775e2d-ada4-46b3-b3bb-1618b7e606cf\" xlink:type=\"simple\"><rect fill=\"#FFFFFF\" height=\"40\" id=\"E13\" rx=\"10\" ry=\"10\" style=\"stroke: #383838; stroke-width: 1.5;\" width=\"50\" x=\"32\" y=\"85.5\"/><rect fill=\"#F8F8F8\" height=\"23.9688\" rx=\"10\" ry=\"10\" style=\"stroke: #F8F8F8; stroke-width: 1.5;\" width=\"50\" x=\"32\" y=\"85.5\"/><rect fill=\"#F8F8F8\" height=\"10\" style=\"stroke: #F8F8F8; stroke-width: 1.5;\" width=\"50\" x=\"32\" y=\"99.4688\"/><rect fill=\"none\" height=\"40\" id=\"E13\" rx=\"10\" ry=\"10\" style=\"stroke: #383838; stroke-width: 1.5;\" width=\"50\" x=\"32\" y=\"85.5\"/><text fill=\"#000000\" font-family=\"sans-serif\" font-size=\"12\" lengthAdjust=\"spacingAndGlyphs\" textLength=\"22\" x=\"46\" y=\"101.6387\">y: B</text></a></g><!--MD5=[74bcf1acc452b088e40933c9c5c49b5e]\n",
       "@startuml\r\n",
       "skinparam ranksep 10\r\n",
       "skinparam rectangle {\r\n",
       " backgroundColor<<block>> LightGreen\r\n",
       "}\r\n",
       "skinparam linetype ortho\r\n",
       "skinparam monochrome true\r\n",
       "skinparam classbackgroundcolor white\r\n",
       "skinparam shadowing false\r\n",
       "skinparam wrapWidth 300\r\n",
       "hide circle\r\n",
       "\r\n",
       "package \"CircularImport\" as E1  [[psysml:7332441d-5859-4b68-88e6-44e4d7acfbc9 ]]  {\r\n",
       "package \"P1\" as E2  [[psysml:5f20ae7d-4d57-41a2-9907-55aa74d31ca3 ]]  {\r\n",
       "rec def \"A\" as E3  <<(T,blue) part def>> [[psysml:a77b04ef-8587-44c9-8b7f-efa23f8b51b3 ]] {\r\n",
       "}\r\n",
       "}\r\n",
       "package \"P2\" as E4  [[psysml:ebcd3975-b264-4248-9466-34d42d3f68ce ]]  {\r\n",
       "rec def \"B\" as E5  <<(T,blue) part def>> [[psysml:0236a647-9823-419e-b974-acac8cdc5ece ]] {\r\n",
       "}\r\n",
       "}\r\n",
       "package \"Test1\" as E6  [[psysml:da6ad505-2daa-495a-83b8-d3ba9d2de3a4 ]]  {\r\n",
       "rec usage \"x: A\" as E7  [[psysml:d9c30419-fa03-4224-9f9b-cc52ece95c03 ]] {\r\n",
       "}\r\n",
       "rec usage \"y: B\" as E8  [[psysml:32c0d6a2-b48f-4756-bec9-ba81426d308d ]] {\r\n",
       "}\r\n",
       "}\r\n",
       "package \"Test2\" as E9  [[psysml:b0babda1-ae00-488b-8e87-1a86d4c9a0c6 ]]  {\r\n",
       "rec usage \"x: A\" as E10  [[psysml:4b1ceaae-3a33-4edd-a713-ae072a8ba794 ]] {\r\n",
       "}\r\n",
       "rec usage \"y: B\" as E11  [[psysml:8a3e0fcf-a1f5-42bd-9af7-3ab68d312f86 ]] {\r\n",
       "}\r\n",
       "}\r\n",
       "rec usage \"x: A\" as E12  [[psysml:be17b73a-3dde-44ce-ab8b-a0409ce39ee3 ]] {\r\n",
       "}\r\n",
       "rec usage \"y: B\" as E13  [[psysml:70775e2d-ada4-46b3-b3bb-1618b7e606cf ]] {\r\n",
       "}\r\n",
       "}\r\n",
       "@enduml\r\n",
       "\n",
       "PlantUML version 1.2020.13(Sat Jun 13 12:26:38 UTC 2020)\n",
       "(EPL source distribution)\n",
       "Java Runtime: OpenJDK Runtime Environment\n",
       "JVM: OpenJDK 64-Bit Server VM\n",
       "Default Encoding: UTF-8\n",
       "Language: en\n",
       "Country: null\n",
       "--></g></svg>"
      ]
     },
     "execution_count": 54,
     "metadata": {},
     "output_type": "execute_result"
    }
   ],
   "source": [
    "%viz --style=\"ORTHOLINE\" --view=\"Interconnection\" \"CircularImport\""
   ]
  },
  {
   "cell_type": "code",
   "execution_count": 55,
   "id": "fb97eb89",
   "metadata": {
    "execution": {
     "iopub.execute_input": "2021-09-27T07:16:38.226471Z",
     "iopub.status.busy": "2021-09-27T07:16:38.226036Z",
     "iopub.status.idle": "2021-09-27T07:16:38.230062Z",
     "shell.execute_reply": "2021-09-27T07:16:38.229691Z"
    }
   },
   "outputs": [
    {
     "data": {
      "image/svg+xml": [
       "<?xml version=\"1.0\" encoding=\"UTF-8\" standalone=\"no\"?><svg xmlns=\"http://www.w3.org/2000/svg\" xmlns:xlink=\"http://www.w3.org/1999/xlink\" contentScriptType=\"application/ecmascript\" contentStyleType=\"text/css\" height=\"12px\" preserveAspectRatio=\"none\" style=\"width:12px;height:12px;\" version=\"1.1\" viewBox=\"0 0 12 12\" width=\"12px\" zoomAndPan=\"magnify\"><defs/><g><!--MD5=[72934c63077099a26744516a776b4749]\n",
       "@startuml\r\n",
       "skinparam ranksep 8\r\n",
       "skinparam linetype ortho\r\n",
       "skinparam monochrome true\r\n",
       "skinparam classbackgroundcolor white\r\n",
       "skinparam shadowing false\r\n",
       "skinparam wrapWidth 300\r\n",
       "hide circle\r\n",
       "\r\n",
       "@enduml\r\n",
       "\n",
       "PlantUML version 1.2020.13(Sat Jun 13 12:26:38 UTC 2020)\n",
       "(EPL source distribution)\n",
       "Java Runtime: OpenJDK Runtime Environment\n",
       "JVM: OpenJDK 64-Bit Server VM\n",
       "Default Encoding: UTF-8\n",
       "Language: en\n",
       "Country: null\n",
       "--></g></svg>"
      ]
     },
     "execution_count": 55,
     "metadata": {},
     "output_type": "execute_result"
    }
   ],
   "source": [
    "%viz --style=\"ORTHOLINE\" --view=\"Action\" \"CircularImport\""
   ]
  },
  {
   "cell_type": "code",
   "execution_count": 56,
   "id": "ea247cc5",
   "metadata": {
    "execution": {
     "iopub.execute_input": "2021-09-27T07:16:38.280249Z",
     "iopub.status.busy": "2021-09-27T07:16:38.279819Z",
     "iopub.status.idle": "2021-09-27T07:16:38.284170Z",
     "shell.execute_reply": "2021-09-27T07:16:38.283812Z"
    }
   },
   "outputs": [
    {
     "data": {
      "image/svg+xml": [
       "<?xml version=\"1.0\" encoding=\"UTF-8\" standalone=\"no\"?><svg xmlns=\"http://www.w3.org/2000/svg\" xmlns:xlink=\"http://www.w3.org/1999/xlink\" contentScriptType=\"application/ecmascript\" contentStyleType=\"text/css\" height=\"12px\" preserveAspectRatio=\"none\" style=\"width:12px;height:12px;\" version=\"1.1\" viewBox=\"0 0 12 12\" width=\"12px\" zoomAndPan=\"magnify\"><defs/><g><!--MD5=[30fc1de5121c5abddedd55b44417fde8]\n",
       "@startuml\r\n",
       "skinparam roundcorner 20\r\n",
       "skinparam BoxPadding 20\r\n",
       "skinparam SequenceBoxBackgroundColor #white\r\n",
       "skinparam style strictuml\r\n",
       "skinparam maxMessageSize 100\r\n",
       "skinparam linetype ortho\r\n",
       "skinparam monochrome true\r\n",
       "skinparam classbackgroundcolor white\r\n",
       "skinparam shadowing false\r\n",
       "skinparam wrapWidth 300\r\n",
       "hide circle\r\n",
       "\r\n",
       "@enduml\r\n",
       "\n",
       "PlantUML version 1.2020.13(Sat Jun 13 12:26:38 UTC 2020)\n",
       "(EPL source distribution)\n",
       "Java Runtime: OpenJDK Runtime Environment\n",
       "JVM: OpenJDK 64-Bit Server VM\n",
       "Default Encoding: UTF-8\n",
       "Language: en\n",
       "Country: null\n",
       "--></g></svg>"
      ]
     },
     "execution_count": 56,
     "metadata": {},
     "output_type": "execute_result"
    }
   ],
   "source": [
    "%viz --style=\"ORTHOLINE\" --view=\"Sequence\" \"CircularImport\""
   ]
  },
  {
   "cell_type": "code",
   "execution_count": 57,
   "id": "e474300a",
   "metadata": {
    "execution": {
     "iopub.execute_input": "2021-09-27T07:16:38.334000Z",
     "iopub.status.busy": "2021-09-27T07:16:38.333580Z",
     "iopub.status.idle": "2021-09-27T07:16:38.367544Z",
     "shell.execute_reply": "2021-09-27T07:16:38.366217Z"
    }
   },
   "outputs": [
    {
     "data": {
      "image/svg+xml": [
       "<?xml version=\"1.0\" encoding=\"UTF-8\" standalone=\"no\"?><svg xmlns=\"http://www.w3.org/2000/svg\" xmlns:xlink=\"http://www.w3.org/1999/xlink\" contentScriptType=\"application/ecmascript\" contentStyleType=\"text/css\" height=\"303px\" preserveAspectRatio=\"none\" style=\"width:518px;height:303px;\" version=\"1.1\" viewBox=\"0 0 518 303\" width=\"518px\" zoomAndPan=\"magnify\"><defs/><g><!--MD5=[fbc87193dbaf4d95561dea2c320d4a47]\n",
       "cluster E1--><a href=\"psysml:7332441d-5859-4b68-88e6-44e4d7acfbc9\" target=\"_top\" title=\"psysml:7332441d-5859-4b68-88e6-44e4d7acfbc9\" xlink:actuate=\"onRequest\" xlink:href=\"psysml:7332441d-5859-4b68-88e6-44e4d7acfbc9\" xlink:show=\"new\" xlink:title=\"psysml:7332441d-5859-4b68-88e6-44e4d7acfbc9\" xlink:type=\"simple\"><polygon fill=\"#FFFFFF\" points=\"16,6,117,6,124,28.2969,496,28.2969,496,291,16,291,16,6\" style=\"stroke: #000000; stroke-width: 1.5;\"/><line style=\"stroke: #000000; stroke-width: 1.5;\" x1=\"16\" x2=\"124\" y1=\"28.2969\" y2=\"28.2969\"/><text fill=\"#000000\" font-family=\"sans-serif\" font-size=\"14\" font-weight=\"bold\" lengthAdjust=\"spacingAndGlyphs\" textLength=\"95\" x=\"20\" y=\"20.9951\">CircularImport</text></a><!--MD5=[e4f7fae6ed58524ba242bb0b0d3be6b7]\n",
       "cluster E2--><a href=\"psysml:5f20ae7d-4d57-41a2-9907-55aa74d31ca3\" target=\"_top\" title=\"psysml:5f20ae7d-4d57-41a2-9907-55aa74d31ca3\" xlink:actuate=\"onRequest\" xlink:href=\"psysml:5f20ae7d-4d57-41a2-9907-55aa74d31ca3\" xlink:show=\"new\" xlink:title=\"psysml:5f20ae7d-4d57-41a2-9907-55aa74d31ca3\" xlink:type=\"simple\"><polygon fill=\"#FFFFFF\" points=\"333,170,357,170,364,192.2969,431,192.2969,431,267,333,267,333,170\" style=\"stroke: #000000; stroke-width: 1.5;\"/><line style=\"stroke: #000000; stroke-width: 1.5;\" x1=\"333\" x2=\"364\" y1=\"192.2969\" y2=\"192.2969\"/><text fill=\"#000000\" font-family=\"sans-serif\" font-size=\"14\" font-weight=\"bold\" lengthAdjust=\"spacingAndGlyphs\" textLength=\"18\" x=\"337\" y=\"184.9951\">P1</text></a><!--MD5=[f6df4d0ebaf0b5dfb2ced0ae5af7c670]\n",
       "cluster E4--><a href=\"psysml:ebcd3975-b264-4248-9466-34d42d3f68ce\" target=\"_top\" title=\"psysml:ebcd3975-b264-4248-9466-34d42d3f68ce\" xlink:actuate=\"onRequest\" xlink:href=\"psysml:ebcd3975-b264-4248-9466-34d42d3f68ce\" xlink:show=\"new\" xlink:title=\"psysml:ebcd3975-b264-4248-9466-34d42d3f68ce\" xlink:type=\"simple\"><polygon fill=\"#FFFFFF\" points=\"81,170,105,170,112,192.2969,179,192.2969,179,267,81,267,81,170\" style=\"stroke: #000000; stroke-width: 1.5;\"/><line style=\"stroke: #000000; stroke-width: 1.5;\" x1=\"81\" x2=\"112\" y1=\"192.2969\" y2=\"192.2969\"/><text fill=\"#000000\" font-family=\"sans-serif\" font-size=\"14\" font-weight=\"bold\" lengthAdjust=\"spacingAndGlyphs\" textLength=\"18\" x=\"85\" y=\"184.9951\">P2</text></a><!--MD5=[14e3b0961a2654348d326746436168a1]\n",
       "cluster E6--><a href=\"psysml:da6ad505-2daa-495a-83b8-d3ba9d2de3a4\" target=\"_top\" title=\"psysml:da6ad505-2daa-495a-83b8-d3ba9d2de3a4\" xlink:actuate=\"onRequest\" xlink:href=\"psysml:da6ad505-2daa-495a-83b8-d3ba9d2de3a4\" xlink:show=\"new\" xlink:title=\"psysml:da6ad505-2daa-495a-83b8-d3ba9d2de3a4\" xlink:type=\"simple\"><polygon fill=\"#FFFFFF\" points=\"268,49,314,49,321,71.2969,419,71.2969,419,146,268,146,268,49\" style=\"stroke: #000000; stroke-width: 1.5;\"/><line style=\"stroke: #000000; stroke-width: 1.5;\" x1=\"268\" x2=\"321\" y1=\"71.2969\" y2=\"71.2969\"/><text fill=\"#000000\" font-family=\"sans-serif\" font-size=\"14\" font-weight=\"bold\" lengthAdjust=\"spacingAndGlyphs\" textLength=\"40\" x=\"272\" y=\"63.9951\">Test1</text></a><!--MD5=[7f149f147074ac12df2cb0a7728a5fb0]\n",
       "cluster E9--><a href=\"psysml:b0babda1-ae00-488b-8e87-1a86d4c9a0c6\" target=\"_top\" title=\"psysml:b0babda1-ae00-488b-8e87-1a86d4c9a0c6\" xlink:actuate=\"onRequest\" xlink:href=\"psysml:b0babda1-ae00-488b-8e87-1a86d4c9a0c6\" xlink:show=\"new\" xlink:title=\"psysml:b0babda1-ae00-488b-8e87-1a86d4c9a0c6\" xlink:type=\"simple\"><polygon fill=\"#FFFFFF\" points=\"93,49,139,49,146,71.2969,244,71.2969,244,146,93,146,93,49\" style=\"stroke: #000000; stroke-width: 1.5;\"/><line style=\"stroke: #000000; stroke-width: 1.5;\" x1=\"93\" x2=\"146\" y1=\"71.2969\" y2=\"71.2969\"/><text fill=\"#000000\" font-family=\"sans-serif\" font-size=\"14\" font-weight=\"bold\" lengthAdjust=\"spacingAndGlyphs\" textLength=\"40\" x=\"97\" y=\"63.9951\">Test2</text></a><!--MD5=[49a0ec8f00dab7302a31f22d0f0fe584]\n",
       "class E12--><a href=\"psysml:be17b73a-3dde-44ce-ab8b-a0409ce39ee3\" target=\"_top\" title=\"psysml:be17b73a-3dde-44ce-ab8b-a0409ce39ee3\" xlink:actuate=\"onRequest\" xlink:href=\"psysml:be17b73a-3dde-44ce-ab8b-a0409ce39ee3\" xlink:show=\"new\" xlink:title=\"psysml:be17b73a-3dde-44ce-ab8b-a0409ce39ee3\" xlink:type=\"simple\"><rect fill=\"#FFFFFF\" height=\"45.9375\" id=\"E12\" rx=\"10\" ry=\"10\" style=\"stroke: #383838; stroke-width: 1.5;\" width=\"42\" x=\"438\" y=\"84\"/><text fill=\"#000000\" font-family=\"sans-serif\" font-size=\"12\" font-style=\"italic\" lengthAdjust=\"spacingAndGlyphs\" textLength=\"40\" x=\"439\" y=\"100.1387\">«part»</text><text fill=\"#000000\" font-family=\"sans-serif\" font-size=\"12\" lengthAdjust=\"spacingAndGlyphs\" textLength=\"22\" x=\"448\" y=\"114.1074\">x: A</text><line style=\"stroke: #383838; stroke-width: 1.5;\" x1=\"439\" x2=\"479\" y1=\"121.9375\" y2=\"121.9375\"/></a><!--MD5=[ee3c913d1a06f366521f9ef512b67efe]\n",
       "class E13--><a href=\"psysml:70775e2d-ada4-46b3-b3bb-1618b7e606cf\" target=\"_top\" title=\"psysml:70775e2d-ada4-46b3-b3bb-1618b7e606cf\" xlink:actuate=\"onRequest\" xlink:href=\"psysml:70775e2d-ada4-46b3-b3bb-1618b7e606cf\" xlink:show=\"new\" xlink:title=\"psysml:70775e2d-ada4-46b3-b3bb-1618b7e606cf\" xlink:type=\"simple\"><rect fill=\"#FFFFFF\" height=\"45.9375\" id=\"E13\" rx=\"10\" ry=\"10\" style=\"stroke: #383838; stroke-width: 1.5;\" width=\"42\" x=\"32\" y=\"84\"/><text fill=\"#000000\" font-family=\"sans-serif\" font-size=\"12\" font-style=\"italic\" lengthAdjust=\"spacingAndGlyphs\" textLength=\"40\" x=\"33\" y=\"100.1387\">«part»</text><text fill=\"#000000\" font-family=\"sans-serif\" font-size=\"12\" lengthAdjust=\"spacingAndGlyphs\" textLength=\"22\" x=\"42\" y=\"114.1074\">y: B</text><line style=\"stroke: #383838; stroke-width: 1.5;\" x1=\"33\" x2=\"73\" y1=\"121.9375\" y2=\"121.9375\"/></a><!--MD5=[09b614a08d8cba4a07c9adeb5e0fee81]\n",
       "class E3--><a href=\"psysml:a77b04ef-8587-44c9-8b7f-efa23f8b51b3\" target=\"_top\" title=\"psysml:a77b04ef-8587-44c9-8b7f-efa23f8b51b3\" xlink:actuate=\"onRequest\" xlink:href=\"psysml:a77b04ef-8587-44c9-8b7f-efa23f8b51b3\" xlink:show=\"new\" xlink:title=\"psysml:a77b04ef-8587-44c9-8b7f-efa23f8b51b3\" xlink:type=\"simple\"><rect fill=\"#FFFFFF\" height=\"45.9375\" id=\"E3\" style=\"stroke: #383838; stroke-width: 1.5;\" width=\"66\" x=\"349\" y=\"205\"/><text fill=\"#000000\" font-family=\"sans-serif\" font-size=\"12\" font-style=\"italic\" lengthAdjust=\"spacingAndGlyphs\" textLength=\"64\" x=\"350\" y=\"221.1387\">«part def»</text><text fill=\"#000000\" font-family=\"sans-serif\" font-size=\"12\" lengthAdjust=\"spacingAndGlyphs\" textLength=\"8\" x=\"378\" y=\"235.1074\">A</text><line style=\"stroke: #383838; stroke-width: 1.5;\" x1=\"350\" x2=\"414\" y1=\"242.9375\" y2=\"242.9375\"/></a><!--MD5=[270fce915f116d4de14055a7c1d9a0f3]\n",
       "class E5--><a href=\"psysml:0236a647-9823-419e-b974-acac8cdc5ece\" target=\"_top\" title=\"psysml:0236a647-9823-419e-b974-acac8cdc5ece\" xlink:actuate=\"onRequest\" xlink:href=\"psysml:0236a647-9823-419e-b974-acac8cdc5ece\" xlink:show=\"new\" xlink:title=\"psysml:0236a647-9823-419e-b974-acac8cdc5ece\" xlink:type=\"simple\"><rect fill=\"#FFFFFF\" height=\"45.9375\" id=\"E5\" style=\"stroke: #383838; stroke-width: 1.5;\" width=\"66\" x=\"97\" y=\"205\"/><text fill=\"#000000\" font-family=\"sans-serif\" font-size=\"12\" font-style=\"italic\" lengthAdjust=\"spacingAndGlyphs\" textLength=\"64\" x=\"98\" y=\"221.1387\">«part def»</text><text fill=\"#000000\" font-family=\"sans-serif\" font-size=\"12\" lengthAdjust=\"spacingAndGlyphs\" textLength=\"8\" x=\"126\" y=\"235.1074\">B</text><line style=\"stroke: #383838; stroke-width: 1.5;\" x1=\"98\" x2=\"162\" y1=\"242.9375\" y2=\"242.9375\"/></a><!--MD5=[2156ba9850f5573cc1fc38a6a4b2f02b]\n",
       "class E7--><a href=\"psysml:d9c30419-fa03-4224-9f9b-cc52ece95c03\" target=\"_top\" title=\"psysml:d9c30419-fa03-4224-9f9b-cc52ece95c03\" xlink:actuate=\"onRequest\" xlink:href=\"psysml:d9c30419-fa03-4224-9f9b-cc52ece95c03\" xlink:show=\"new\" xlink:title=\"psysml:d9c30419-fa03-4224-9f9b-cc52ece95c03\" xlink:type=\"simple\"><rect fill=\"#FFFFFF\" height=\"45.9375\" id=\"E7\" rx=\"10\" ry=\"10\" style=\"stroke: #383838; stroke-width: 1.5;\" width=\"42\" x=\"361\" y=\"84\"/><text fill=\"#000000\" font-family=\"sans-serif\" font-size=\"12\" font-style=\"italic\" lengthAdjust=\"spacingAndGlyphs\" textLength=\"40\" x=\"362\" y=\"100.1387\">«part»</text><text fill=\"#000000\" font-family=\"sans-serif\" font-size=\"12\" lengthAdjust=\"spacingAndGlyphs\" textLength=\"22\" x=\"371\" y=\"114.1074\">x: A</text><line style=\"stroke: #383838; stroke-width: 1.5;\" x1=\"362\" x2=\"402\" y1=\"121.9375\" y2=\"121.9375\"/></a><!--MD5=[b9389687b975829384b498ac4b7476b2]\n",
       "class E8--><a href=\"psysml:32c0d6a2-b48f-4756-bec9-ba81426d308d\" target=\"_top\" title=\"psysml:32c0d6a2-b48f-4756-bec9-ba81426d308d\" xlink:actuate=\"onRequest\" xlink:href=\"psysml:32c0d6a2-b48f-4756-bec9-ba81426d308d\" xlink:show=\"new\" xlink:title=\"psysml:32c0d6a2-b48f-4756-bec9-ba81426d308d\" xlink:type=\"simple\"><rect fill=\"#FFFFFF\" height=\"45.9375\" id=\"E8\" rx=\"10\" ry=\"10\" style=\"stroke: #383838; stroke-width: 1.5;\" width=\"42\" x=\"284\" y=\"84\"/><text fill=\"#000000\" font-family=\"sans-serif\" font-size=\"12\" font-style=\"italic\" lengthAdjust=\"spacingAndGlyphs\" textLength=\"40\" x=\"285\" y=\"100.1387\">«part»</text><text fill=\"#000000\" font-family=\"sans-serif\" font-size=\"12\" lengthAdjust=\"spacingAndGlyphs\" textLength=\"22\" x=\"294\" y=\"114.1074\">y: B</text><line style=\"stroke: #383838; stroke-width: 1.5;\" x1=\"285\" x2=\"325\" y1=\"121.9375\" y2=\"121.9375\"/></a><!--MD5=[96f4274e9e20536e775497830990834d]\n",
       "class E10--><a href=\"psysml:4b1ceaae-3a33-4edd-a713-ae072a8ba794\" target=\"_top\" title=\"psysml:4b1ceaae-3a33-4edd-a713-ae072a8ba794\" xlink:actuate=\"onRequest\" xlink:href=\"psysml:4b1ceaae-3a33-4edd-a713-ae072a8ba794\" xlink:show=\"new\" xlink:title=\"psysml:4b1ceaae-3a33-4edd-a713-ae072a8ba794\" xlink:type=\"simple\"><rect fill=\"#FFFFFF\" height=\"45.9375\" id=\"E10\" rx=\"10\" ry=\"10\" style=\"stroke: #383838; stroke-width: 1.5;\" width=\"42\" x=\"186\" y=\"84\"/><text fill=\"#000000\" font-family=\"sans-serif\" font-size=\"12\" font-style=\"italic\" lengthAdjust=\"spacingAndGlyphs\" textLength=\"40\" x=\"187\" y=\"100.1387\">«part»</text><text fill=\"#000000\" font-family=\"sans-serif\" font-size=\"12\" lengthAdjust=\"spacingAndGlyphs\" textLength=\"22\" x=\"196\" y=\"114.1074\">x: A</text><line style=\"stroke: #383838; stroke-width: 1.5;\" x1=\"187\" x2=\"227\" y1=\"121.9375\" y2=\"121.9375\"/></a><!--MD5=[1dd1bfd58a279cf63c5f349dbc8fc6a1]\n",
       "class E11--><a href=\"psysml:8a3e0fcf-a1f5-42bd-9af7-3ab68d312f86\" target=\"_top\" title=\"psysml:8a3e0fcf-a1f5-42bd-9af7-3ab68d312f86\" xlink:actuate=\"onRequest\" xlink:href=\"psysml:8a3e0fcf-a1f5-42bd-9af7-3ab68d312f86\" xlink:show=\"new\" xlink:title=\"psysml:8a3e0fcf-a1f5-42bd-9af7-3ab68d312f86\" xlink:type=\"simple\"><rect fill=\"#FFFFFF\" height=\"45.9375\" id=\"E11\" rx=\"10\" ry=\"10\" style=\"stroke: #383838; stroke-width: 1.5;\" width=\"42\" x=\"109\" y=\"84\"/><text fill=\"#000000\" font-family=\"sans-serif\" font-size=\"12\" font-style=\"italic\" lengthAdjust=\"spacingAndGlyphs\" textLength=\"40\" x=\"110\" y=\"100.1387\">«part»</text><text fill=\"#000000\" font-family=\"sans-serif\" font-size=\"12\" lengthAdjust=\"spacingAndGlyphs\" textLength=\"22\" x=\"119\" y=\"114.1074\">y: B</text><line style=\"stroke: #383838; stroke-width: 1.5;\" x1=\"110\" x2=\"150\" y1=\"121.9375\" y2=\"121.9375\"/></a><!--MD5=[14ccda38c055a5c0da953d572bc50960]\n",
       "link E7 to E3--><a href=\"psysml:520b462f-0086-4fa2-a8c7-c457cfb393b0\" target=\"_top\" title=\"psysml:520b462f-0086-4fa2-a8c7-c457cfb393b0\" xlink:actuate=\"onRequest\" xlink:href=\"psysml:520b462f-0086-4fa2-a8c7-c457cfb393b0\" xlink:show=\"new\" xlink:title=\"psysml:520b462f-0086-4fa2-a8c7-c457cfb393b0\" xlink:type=\"simple\"><path d=\"M382,130.04 C382,130.04 382,184.63 382,184.63 \" fill=\"none\" id=\"E7-&gt;E3\" style=\"stroke: #383838; stroke-width: 1.0;\"/><polygon fill=\"#FFFFFF\" points=\"382,204.63,375,185.63,389,185.63,382,204.63\" style=\"stroke: #383838; stroke-width: 1.0;\"/><ellipse cx=\"377\" cy=\"179.93\" fill=\"#383838\" rx=\"2\" ry=\"2\" style=\"stroke: #383838; stroke-width: 1.0;\"/><ellipse cx=\"387\" cy=\"179.93\" fill=\"#383838\" rx=\"2\" ry=\"2\" style=\"stroke: #383838; stroke-width: 1.0;\"/></a><!--MD5=[1ccb2481ffa92f8d51a74ee30c51832a]\n",
       "link E8 to E5--><a href=\"psysml:7aecf3a3-7124-43a8-804d-679627dba63d\" target=\"_top\" title=\"psysml:7aecf3a3-7124-43a8-804d-679627dba63d\" xlink:actuate=\"onRequest\" xlink:href=\"psysml:7aecf3a3-7124-43a8-804d-679627dba63d\" xlink:show=\"new\" xlink:title=\"psysml:7aecf3a3-7124-43a8-804d-679627dba63d\" xlink:type=\"simple\"><path d=\"M305,130.06 C305,167.17 305,236 305,236 C305,236 183.33,236 183.33,236 \" fill=\"none\" id=\"E8-&gt;E5\" style=\"stroke: #383838; stroke-width: 1.0;\"/><polygon fill=\"#FFFFFF\" points=\"163.33,236,182.33,229,182.33,243,163.33,236\" style=\"stroke: #383838; stroke-width: 1.0;\"/><ellipse cx=\"188.03\" cy=\"231\" fill=\"#383838\" rx=\"2\" ry=\"2\" style=\"stroke: #383838; stroke-width: 1.0;\"/><ellipse cx=\"188.03\" cy=\"241\" fill=\"#383838\" rx=\"2\" ry=\"2\" style=\"stroke: #383838; stroke-width: 1.0;\"/></a><!--MD5=[feeac5eb423634930294aa81f2d25a4c]\n",
       "link E10 to E3--><a href=\"psysml:fd0acd65-b864-4a8e-8ff2-cbce99549eac\" target=\"_top\" title=\"psysml:fd0acd65-b864-4a8e-8ff2-cbce99549eac\" xlink:actuate=\"onRequest\" xlink:href=\"psysml:fd0acd65-b864-4a8e-8ff2-cbce99549eac\" xlink:show=\"new\" xlink:title=\"psysml:fd0acd65-b864-4a8e-8ff2-cbce99549eac\" xlink:type=\"simple\"><path d=\"M207,130.07 C207,163.38 207,221 207,221 C207,221 328.67,221 328.67,221 \" fill=\"none\" id=\"E10-&gt;E3\" style=\"stroke: #383838; stroke-width: 1.0;\"/><polygon fill=\"#FFFFFF\" points=\"348.67,221,329.67,228,329.67,214,348.67,221\" style=\"stroke: #383838; stroke-width: 1.0;\"/><ellipse cx=\"323.97\" cy=\"226\" fill=\"#383838\" rx=\"2\" ry=\"2\" style=\"stroke: #383838; stroke-width: 1.0;\"/><ellipse cx=\"323.97\" cy=\"216\" fill=\"#383838\" rx=\"2\" ry=\"2\" style=\"stroke: #383838; stroke-width: 1.0;\"/></a><!--MD5=[07b77f6f309248d16187045709d1c26e]\n",
       "link E11 to E5--><a href=\"psysml:442cb8f2-ee4b-4dfa-8164-f495024e2707\" target=\"_top\" title=\"psysml:442cb8f2-ee4b-4dfa-8164-f495024e2707\" xlink:actuate=\"onRequest\" xlink:href=\"psysml:442cb8f2-ee4b-4dfa-8164-f495024e2707\" xlink:show=\"new\" xlink:title=\"psysml:442cb8f2-ee4b-4dfa-8164-f495024e2707\" xlink:type=\"simple\"><path d=\"M130,130.04 C130,130.04 130,184.63 130,184.63 \" fill=\"none\" id=\"E11-&gt;E5\" style=\"stroke: #383838; stroke-width: 1.0;\"/><polygon fill=\"#FFFFFF\" points=\"130,204.63,123,185.63,137,185.63,130,204.63\" style=\"stroke: #383838; stroke-width: 1.0;\"/><ellipse cx=\"125\" cy=\"179.93\" fill=\"#383838\" rx=\"2\" ry=\"2\" style=\"stroke: #383838; stroke-width: 1.0;\"/><ellipse cx=\"135\" cy=\"179.93\" fill=\"#383838\" rx=\"2\" ry=\"2\" style=\"stroke: #383838; stroke-width: 1.0;\"/></a><!--MD5=[39f41a0e550fb3d73b4d8135617e30a2]\n",
       "link E12 to E3--><a href=\"psysml:fab56a21-03ff-446d-9dd1-385c5373a3f2\" target=\"_top\" title=\"psysml:fab56a21-03ff-446d-9dd1-385c5373a3f2\" xlink:actuate=\"onRequest\" xlink:href=\"psysml:fab56a21-03ff-446d-9dd1-385c5373a3f2\" xlink:show=\"new\" xlink:title=\"psysml:fab56a21-03ff-446d-9dd1-385c5373a3f2\" xlink:type=\"simple\"><path d=\"M437.8,107 C424.17,107 409,107 409,107 C409,107 409,184.96 409,184.96 \" fill=\"none\" id=\"E12-&gt;E3\" style=\"stroke: #383838; stroke-width: 1.0;\"/><polygon fill=\"#FFFFFF\" points=\"409,204.96,402,185.96,416,185.96,409,204.96\" style=\"stroke: #383838; stroke-width: 1.0;\"/><ellipse cx=\"404\" cy=\"180.26\" fill=\"#383838\" rx=\"2\" ry=\"2\" style=\"stroke: #383838; stroke-width: 1.0;\"/><ellipse cx=\"414\" cy=\"180.26\" fill=\"#383838\" rx=\"2\" ry=\"2\" style=\"stroke: #383838; stroke-width: 1.0;\"/></a><!--MD5=[066b2d8af59fea80ccdb3d54ad5c1091]\n",
       "link E13 to E5--><a href=\"psysml:5cad6703-6f19-4c46-9c46-92acb368aec7\" target=\"_top\" title=\"psysml:5cad6703-6f19-4c46-9c46-92acb368aec7\" xlink:actuate=\"onRequest\" xlink:href=\"psysml:5cad6703-6f19-4c46-9c46-92acb368aec7\" xlink:show=\"new\" xlink:title=\"psysml:5cad6703-6f19-4c46-9c46-92acb368aec7\" xlink:type=\"simple\"><path d=\"M74.2,107 C87.83,107 103,107 103,107 C103,107 103,184.96 103,184.96 \" fill=\"none\" id=\"E13-&gt;E5\" style=\"stroke: #383838; stroke-width: 1.0;\"/><polygon fill=\"#FFFFFF\" points=\"103,204.96,96,185.96,110,185.96,103,204.96\" style=\"stroke: #383838; stroke-width: 1.0;\"/><ellipse cx=\"98\" cy=\"180.26\" fill=\"#383838\" rx=\"2\" ry=\"2\" style=\"stroke: #383838; stroke-width: 1.0;\"/><ellipse cx=\"108\" cy=\"180.26\" fill=\"#383838\" rx=\"2\" ry=\"2\" style=\"stroke: #383838; stroke-width: 1.0;\"/></a><!--MD5=[bb04df5c169b9b0ae3ea82e769ea0d3a]\n",
       "@startuml\r\n",
       "skinparam linetype ortho\r\n",
       "skinparam monochrome true\r\n",
       "skinparam classbackgroundcolor white\r\n",
       "skinparam shadowing false\r\n",
       "skinparam wrapWidth 300\r\n",
       "hide circle\r\n",
       "\r\n",
       "package \"CircularImport\" as E1  [[psysml:7332441d-5859-4b68-88e6-44e4d7acfbc9 ]]  {\r\n",
       "package \"P1\" as E2  [[psysml:5f20ae7d-4d57-41a2-9907-55aa74d31ca3 ]]  {\r\n",
       "comp def \"A\" as E3  <<(T,blue) part def>> [[psysml:a77b04ef-8587-44c9-8b7f-efa23f8b51b3 ]] {\r\n",
       "}\r\n",
       "}\r\n",
       "package \"P2\" as E4  [[psysml:ebcd3975-b264-4248-9466-34d42d3f68ce ]]  {\r\n",
       "comp def \"B\" as E5  <<(T,blue) part def>> [[psysml:0236a647-9823-419e-b974-acac8cdc5ece ]] {\r\n",
       "}\r\n",
       "}\r\n",
       "package \"Test1\" as E6  [[psysml:da6ad505-2daa-495a-83b8-d3ba9d2de3a4 ]]  {\r\n",
       "comp usage \"x: A\" as E7  <<(T,blue) part>> [[psysml:d9c30419-fa03-4224-9f9b-cc52ece95c03 ]] {\r\n",
       "}\r\n",
       "comp usage \"y: B\" as E8  <<(T,blue) part>> [[psysml:32c0d6a2-b48f-4756-bec9-ba81426d308d ]] {\r\n",
       "}\r\n",
       "}\r\n",
       "package \"Test2\" as E9  [[psysml:b0babda1-ae00-488b-8e87-1a86d4c9a0c6 ]]  {\r\n",
       "comp usage \"x: A\" as E10  <<(T,blue) part>> [[psysml:4b1ceaae-3a33-4edd-a713-ae072a8ba794 ]] {\r\n",
       "}\r\n",
       "comp usage \"y: B\" as E11  <<(T,blue) part>> [[psysml:8a3e0fcf-a1f5-42bd-9af7-3ab68d312f86 ]] {\r\n",
       "}\r\n",
       "}\r\n",
       "comp usage \"x: A\" as E12  <<(T,blue) part>> [[psysml:be17b73a-3dde-44ce-ab8b-a0409ce39ee3 ]] {\r\n",
       "}\r\n",
       "comp usage \"y: B\" as E13  <<(T,blue) part>> [[psysml:70775e2d-ada4-46b3-b3bb-1618b7e606cf ]] {\r\n",
       "}\r\n",
       "}\r\n",
       "E7 - -:|> E3 [[psysml:520b462f-0086-4fa2-a8c7-c457cfb393b0 ]] \r\n",
       "E8 - -:|> E5 [[psysml:7aecf3a3-7124-43a8-804d-679627dba63d ]] \r\n",
       "E10 - -:|> E3 [[psysml:fd0acd65-b864-4a8e-8ff2-cbce99549eac ]] \r\n",
       "E11 - -:|> E5 [[psysml:442cb8f2-ee4b-4dfa-8164-f495024e2707 ]] \r\n",
       "E12 - -:|> E3 [[psysml:fab56a21-03ff-446d-9dd1-385c5373a3f2 ]] \r\n",
       "E13 - -:|> E5 [[psysml:5cad6703-6f19-4c46-9c46-92acb368aec7 ]] \r\n",
       "@enduml\r\n",
       "\n",
       "PlantUML version 1.2020.13(Sat Jun 13 12:26:38 UTC 2020)\n",
       "(EPL source distribution)\n",
       "Java Runtime: OpenJDK Runtime Environment\n",
       "JVM: OpenJDK 64-Bit Server VM\n",
       "Default Encoding: UTF-8\n",
       "Language: en\n",
       "Country: null\n",
       "--></g></svg>"
      ]
     },
     "execution_count": 57,
     "metadata": {},
     "output_type": "execute_result"
    }
   ],
   "source": [
    "%viz --style=\"ORTHOLINE\" --view=\"MIXED\" \"CircularImport\""
   ]
  }
 ],
 "metadata": {
  "kernelspec": {
   "display_name": "SysML",
   "language": "sysml",
   "name": "sysml"
  },
  "language_info": {
   "codemirror_mode": "sysml",
   "file_extension": ".sysml",
   "mimetype": "text/x-sysml",
   "name": "SysML",
   "pygments_lexer": "java",
   "version": "1.0.0"
  }
 },
 "nbformat": 4,
 "nbformat_minor": 5
}
