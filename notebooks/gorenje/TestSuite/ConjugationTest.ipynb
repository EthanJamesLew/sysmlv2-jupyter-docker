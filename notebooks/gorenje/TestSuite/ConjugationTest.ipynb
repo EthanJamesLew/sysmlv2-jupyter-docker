{
 "cells": [
  {
   "cell_type": "markdown",
   "id": "ccac537f",
   "metadata": {},
   "source": [
    "# SysML v2 Test Suite\n",
    "\n",
    "This can notebook can be cleared using menu `Edit --> Clear All Outputs` and then all cells can be\n",
    "run using menu `Run --> Run All Cells`.\n",
    "\n",
    "**WARNING**: This file is generated, all modifications here will be ignored.\n"
   ]
  },
  {
   "cell_type": "markdown",
   "id": "41b3964d",
   "metadata": {},
   "source": [
    "## File: ../../sysml/src/examples/Simple Tests/ConjugationTest.sysml"
   ]
  },
  {
   "cell_type": "code",
   "execution_count": 1,
   "id": "121ff72e",
   "metadata": {
    "execution": {
     "iopub.execute_input": "2021-04-20T07:00:10.249294Z",
     "iopub.status.busy": "2021-04-20T07:00:10.248789Z",
     "iopub.status.idle": "2021-04-20T07:00:10.691874Z",
     "shell.execute_reply": "2021-04-20T07:00:10.691289Z"
    }
   },
   "outputs": [
    {
     "data": {
      "text/plain": [
       "Package ConjugationTest (1c6a3e3e-7e3b-4e8b-a9af-c43b3f3afab2)\n"
      ]
     },
     "execution_count": 1,
     "metadata": {},
     "output_type": "execute_result"
    }
   ],
   "source": [
    "package ConjugationTest {\n",
    "\tport def P;\n",
    "\t\n",
    "\tpart def B {\n",
    "\t\tport p1: P;\n",
    "\t\tport p2: ~P;\n",
    "\t}\n",
    "\t\n",
    "\tconnection def A {\n",
    "\t\tend port p1: P;\n",
    "\t\tend port p2: ~P;\n",
    "\t}\n",
    "\t\n",
    "\tinterface def I {\n",
    "\t\tend p1: P;\n",
    "\t\tend p2: ~P;\n",
    "\t}\n",
    "\t\n",
    "\tpart def B1 {\n",
    "\t\tpart p {\n",
    "\t\t\tport p1: P;\n",
    "\t\t\tport p2: ~P;\t\t\n",
    "\t\t}\n",
    "\t\n",
    "\t\tconnection a: A connect p::p1 to p::p2 {\n",
    "\t\t\tend port p3: P;\n",
    "\t\t\tend port p4: ~P;\n",
    "\t\t}\n",
    "\t\tinterface i: I connect p::p1 to p::p2 {\n",
    "\t\t\tend port p3: P;\n",
    "\t\t\tend port p4: ~P;\n",
    "\t\t}\n",
    "\t}\n",
    "\t\n",
    "}"
   ]
  },
  {
   "cell_type": "code",
   "execution_count": 2,
   "id": "5d192919",
   "metadata": {
    "execution": {
     "iopub.execute_input": "2021-04-20T07:00:10.749964Z",
     "iopub.status.busy": "2021-04-20T07:00:10.747966Z",
     "iopub.status.idle": "2021-04-20T07:00:11.666083Z",
     "shell.execute_reply": "2021-04-20T07:00:11.666414Z"
    }
   },
   "outputs": [
    {
     "data": {
      "image/svg+xml": [
       "<?xml version=\"1.0\" encoding=\"UTF-8\" standalone=\"no\"?><svg xmlns=\"http://www.w3.org/2000/svg\" xmlns:xlink=\"http://www.w3.org/1999/xlink\" contentScriptType=\"application/ecmascript\" contentStyleType=\"text/css\" height=\"305px\" preserveAspectRatio=\"none\" style=\"width:614px;height:305px;\" version=\"1.1\" viewBox=\"0 0 614 305\" width=\"614px\" zoomAndPan=\"magnify\"><defs/><g><!--MD5=[fbc87193dbaf4d95561dea2c320d4a47]\n",
       "cluster E1--><a href=\"psysml:56f2a3b4-cc43-4fa3-8695-199f33536b50\" target=\"_top\" title=\"psysml:56f2a3b4-cc43-4fa3-8695-199f33536b50\" xlink:actuate=\"onRequest\" xlink:href=\"psysml:56f2a3b4-cc43-4fa3-8695-199f33536b50\" xlink:show=\"new\" xlink:title=\"psysml:56f2a3b4-cc43-4fa3-8695-199f33536b50\" xlink:type=\"simple\"><polygon fill=\"#FFFFFF\" points=\"16,6,151,6,158,28.2969,592,28.2969,592,293,16,293,16,6\" style=\"stroke: #000000; stroke-width: 1.5;\"/><line style=\"stroke: #000000; stroke-width: 1.5;\" x1=\"16\" x2=\"158\" y1=\"28.2969\" y2=\"28.2969\"/><text fill=\"#000000\" font-family=\"sans-serif\" font-size=\"14\" font-weight=\"bold\" lengthAdjust=\"spacingAndGlyphs\" textLength=\"129\" x=\"20\" y=\"20.9951\">ConjugationTest</text></a><!--MD5=[b4997ac47864f28c2f74865a473b2911]\n",
       "class E2--><a href=\"psysml:c0a3bc73-93c5-4b4d-b763-5833239b73fd\" target=\"_top\" title=\"psysml:c0a3bc73-93c5-4b4d-b763-5833239b73fd\" xlink:actuate=\"onRequest\" xlink:href=\"psysml:c0a3bc73-93c5-4b4d-b763-5833239b73fd\" xlink:show=\"new\" xlink:title=\"psysml:c0a3bc73-93c5-4b4d-b763-5833239b73fd\" xlink:type=\"simple\"><rect fill=\"#FFFFFF\" height=\"45.9375\" id=\"E2\" style=\"stroke: #383838; stroke-width: 1.5;\" width=\"66\" x=\"510\" y=\"62\"/><text fill=\"#000000\" font-family=\"sans-serif\" font-size=\"12\" font-style=\"italic\" lengthAdjust=\"spacingAndGlyphs\" textLength=\"64\" x=\"511\" y=\"78.1387\">«port def»</text><text fill=\"#000000\" font-family=\"sans-serif\" font-size=\"12\" lengthAdjust=\"spacingAndGlyphs\" textLength=\"8\" x=\"539\" y=\"92.1074\">P</text><line style=\"stroke: #383838; stroke-width: 1.5;\" x1=\"511\" x2=\"575\" y1=\"99.9375\" y2=\"99.9375\"/></a><!--MD5=[09b614a08d8cba4a07c9adeb5e0fee81]\n",
       "class E3--><a href=\"psysml:5cf63d0b-bb26-43ea-8091-2694cfd07b61\" target=\"_top\" title=\"psysml:5cf63d0b-bb26-43ea-8091-2694cfd07b61\" xlink:actuate=\"onRequest\" xlink:href=\"psysml:5cf63d0b-bb26-43ea-8091-2694cfd07b61\" xlink:show=\"new\" xlink:title=\"psysml:5cf63d0b-bb26-43ea-8091-2694cfd07b61\" xlink:type=\"simple\"><rect fill=\"#FFFFFF\" height=\"88.3516\" id=\"E3\" style=\"stroke: #383838; stroke-width: 1.5;\" width=\"66\" x=\"409\" y=\"41\"/><text fill=\"#000000\" font-family=\"sans-serif\" font-size=\"12\" font-style=\"italic\" lengthAdjust=\"spacingAndGlyphs\" textLength=\"64\" x=\"410\" y=\"57.1387\">«part def»</text><text fill=\"#000000\" font-family=\"sans-serif\" font-size=\"12\" lengthAdjust=\"spacingAndGlyphs\" textLength=\"8\" x=\"438\" y=\"71.1074\">B</text><line style=\"stroke: #383838; stroke-width: 1.5;\" x1=\"410\" x2=\"474\" y1=\"78.9375\" y2=\"78.9375\"/><text fill=\"#000000\" font-family=\"sans-serif\" font-size=\"11\" lengthAdjust=\"spacingAndGlyphs\" textLength=\"29\" x=\"415\" y=\"109.9526\">p1: P</text><text fill=\"#000000\" font-family=\"sans-serif\" font-size=\"11\" lengthAdjust=\"spacingAndGlyphs\" textLength=\"38\" x=\"415\" y=\"122.7573\">p2: ~P</text><line style=\"stroke: #383838; stroke-width: 1.0;\" x1=\"410\" x2=\"427\" y1=\"93.3398\" y2=\"93.3398\"/><text fill=\"#000000\" font-family=\"sans-serif\" font-size=\"11\" lengthAdjust=\"spacingAndGlyphs\" textLength=\"30\" x=\"427\" y=\"96.6479\">ports</text><line style=\"stroke: #383838; stroke-width: 1.0;\" x1=\"457\" x2=\"474\" y1=\"93.3398\" y2=\"93.3398\"/></a><!--MD5=[ebbe1d658d1005bcc118a6aa81145e00]\n",
       "class E4--><a href=\"psysml:c95e8ce0-7583-4d42-8de3-1e3c8277134a\" target=\"_top\" title=\"psysml:c95e8ce0-7583-4d42-8de3-1e3c8277134a\" xlink:actuate=\"onRequest\" xlink:href=\"psysml:c95e8ce0-7583-4d42-8de3-1e3c8277134a\" xlink:show=\"new\" xlink:title=\"psysml:c95e8ce0-7583-4d42-8de3-1e3c8277134a\" xlink:type=\"simple\"><rect fill=\"#FFFFFF\" height=\"88.3516\" id=\"E4\" style=\"stroke: #383838; stroke-width: 1.5;\" width=\"110\" x=\"264\" y=\"41\"/><text fill=\"#000000\" font-family=\"sans-serif\" font-size=\"12\" font-style=\"italic\" lengthAdjust=\"spacingAndGlyphs\" textLength=\"108\" x=\"265\" y=\"57.1387\">«connection def»</text><text fill=\"#000000\" font-family=\"sans-serif\" font-size=\"12\" lengthAdjust=\"spacingAndGlyphs\" textLength=\"8\" x=\"315\" y=\"71.1074\">A</text><line style=\"stroke: #383838; stroke-width: 1.5;\" x1=\"265\" x2=\"373\" y1=\"78.9375\" y2=\"78.9375\"/><text fill=\"#000000\" font-family=\"sans-serif\" font-size=\"11\" lengthAdjust=\"spacingAndGlyphs\" textLength=\"29\" x=\"270\" y=\"109.9526\">p1: P</text><text fill=\"#000000\" font-family=\"sans-serif\" font-size=\"11\" lengthAdjust=\"spacingAndGlyphs\" textLength=\"38\" x=\"270\" y=\"122.7573\">p2: ~P</text><line style=\"stroke: #383838; stroke-width: 1.0;\" x1=\"265\" x2=\"304\" y1=\"93.3398\" y2=\"93.3398\"/><text fill=\"#000000\" font-family=\"sans-serif\" font-size=\"11\" lengthAdjust=\"spacingAndGlyphs\" textLength=\"30\" x=\"304\" y=\"96.6479\">ports</text><line style=\"stroke: #383838; stroke-width: 1.0;\" x1=\"334\" x2=\"373\" y1=\"93.3398\" y2=\"93.3398\"/></a><!--MD5=[270fce915f116d4de14055a7c1d9a0f3]\n",
       "class E5--><a href=\"psysml:3dca2d5e-c062-4427-93b4-bcb55890dd40\" target=\"_top\" title=\"psysml:3dca2d5e-c062-4427-93b4-bcb55890dd40\" xlink:actuate=\"onRequest\" xlink:href=\"psysml:3dca2d5e-c062-4427-93b4-bcb55890dd40\" xlink:show=\"new\" xlink:title=\"psysml:3dca2d5e-c062-4427-93b4-bcb55890dd40\" xlink:type=\"simple\"><rect fill=\"#FFFFFF\" height=\"88.3516\" id=\"E5\" style=\"stroke: #383838; stroke-width: 1.5;\" width=\"96\" x=\"133\" y=\"41\"/><text fill=\"#000000\" font-family=\"sans-serif\" font-size=\"12\" font-style=\"italic\" lengthAdjust=\"spacingAndGlyphs\" textLength=\"94\" x=\"134\" y=\"57.1387\">«interface def»</text><text fill=\"#000000\" font-family=\"sans-serif\" font-size=\"12\" lengthAdjust=\"spacingAndGlyphs\" textLength=\"3\" x=\"179.5\" y=\"71.1074\">I</text><line style=\"stroke: #383838; stroke-width: 1.5;\" x1=\"134\" x2=\"228\" y1=\"78.9375\" y2=\"78.9375\"/><text fill=\"#000000\" font-family=\"sans-serif\" font-size=\"11\" lengthAdjust=\"spacingAndGlyphs\" textLength=\"29\" x=\"139\" y=\"109.9526\">p1: P</text><text fill=\"#000000\" font-family=\"sans-serif\" font-size=\"11\" lengthAdjust=\"spacingAndGlyphs\" textLength=\"38\" x=\"139\" y=\"122.7573\">p2: ~P</text><line style=\"stroke: #383838; stroke-width: 1.0;\" x1=\"134\" x2=\"166\" y1=\"93.3398\" y2=\"93.3398\"/><text fill=\"#000000\" font-family=\"sans-serif\" font-size=\"11\" lengthAdjust=\"spacingAndGlyphs\" textLength=\"30\" x=\"166\" y=\"96.6479\">ports</text><line style=\"stroke: #383838; stroke-width: 1.0;\" x1=\"196\" x2=\"228\" y1=\"93.3398\" y2=\"93.3398\"/></a><!--MD5=[60a26617385b1d2d0262a64233df1f8d]\n",
       "class E6--><a href=\"psysml:239b6b7d-2819-4aeb-bfce-341b8d8c5fb1\" target=\"_top\" title=\"psysml:239b6b7d-2819-4aeb-bfce-341b8d8c5fb1\" xlink:actuate=\"onRequest\" xlink:href=\"psysml:239b6b7d-2819-4aeb-bfce-341b8d8c5fb1\" xlink:show=\"new\" xlink:title=\"psysml:239b6b7d-2819-4aeb-bfce-341b8d8c5fb1\" xlink:type=\"simple\"><rect fill=\"#FFFFFF\" height=\"45.9375\" id=\"E6\" style=\"stroke: #383838; stroke-width: 1.5;\" width=\"66\" x=\"32\" y=\"62\"/><text fill=\"#000000\" font-family=\"sans-serif\" font-size=\"12\" font-style=\"italic\" lengthAdjust=\"spacingAndGlyphs\" textLength=\"64\" x=\"33\" y=\"78.1387\">«part def»</text><text fill=\"#000000\" font-family=\"sans-serif\" font-size=\"12\" lengthAdjust=\"spacingAndGlyphs\" textLength=\"16\" x=\"57\" y=\"92.1074\">B1</text><line style=\"stroke: #383838; stroke-width: 1.5;\" x1=\"33\" x2=\"97\" y1=\"99.9375\" y2=\"99.9375\"/></a><!--MD5=[2156ba9850f5573cc1fc38a6a4b2f02b]\n",
       "class E7--><a href=\"psysml:080adc10-96fd-4f72-8d28-a6aae1d02a34\" target=\"_top\" title=\"psysml:080adc10-96fd-4f72-8d28-a6aae1d02a34\" xlink:actuate=\"onRequest\" xlink:href=\"psysml:080adc10-96fd-4f72-8d28-a6aae1d02a34\" xlink:show=\"new\" xlink:title=\"psysml:080adc10-96fd-4f72-8d28-a6aae1d02a34\" xlink:type=\"simple\"><rect fill=\"#FFFFFF\" height=\"88.3516\" id=\"E7\" rx=\"10\" ry=\"10\" style=\"stroke: #383838; stroke-width: 1.5;\" width=\"50\" x=\"40\" y=\"189\"/><text fill=\"#000000\" font-family=\"sans-serif\" font-size=\"12\" font-style=\"italic\" lengthAdjust=\"spacingAndGlyphs\" textLength=\"40\" x=\"45\" y=\"205.1387\">«part»</text><text fill=\"#000000\" font-family=\"sans-serif\" font-size=\"12\" lengthAdjust=\"spacingAndGlyphs\" textLength=\"8\" x=\"61\" y=\"219.1074\">p</text><line style=\"stroke: #383838; stroke-width: 1.5;\" x1=\"41\" x2=\"89\" y1=\"226.9375\" y2=\"226.9375\"/><text fill=\"#000000\" font-family=\"sans-serif\" font-size=\"11\" lengthAdjust=\"spacingAndGlyphs\" textLength=\"29\" x=\"46\" y=\"257.9526\">p1: P</text><text fill=\"#000000\" font-family=\"sans-serif\" font-size=\"11\" lengthAdjust=\"spacingAndGlyphs\" textLength=\"38\" x=\"46\" y=\"270.7573\">p2: ~P</text><line style=\"stroke: #383838; stroke-width: 1.0;\" x1=\"41\" x2=\"50\" y1=\"241.3398\" y2=\"241.3398\"/><text fill=\"#000000\" font-family=\"sans-serif\" font-size=\"11\" lengthAdjust=\"spacingAndGlyphs\" textLength=\"30\" x=\"50\" y=\"244.6479\">ports</text><line style=\"stroke: #383838; stroke-width: 1.0;\" x1=\"80\" x2=\"89\" y1=\"241.3398\" y2=\"241.3398\"/></a><!--MD5=[3f50a3473f1dfb74d3f76443e03635af]\n",
       "reverse link E6 to E7--><a href=\"psysml:06665d43-130c-4b8a-bdfd-d93e6351f975\" target=\"_top\" title=\"psysml:06665d43-130c-4b8a-bdfd-d93e6351f975\" xlink:actuate=\"onRequest\" xlink:href=\"psysml:06665d43-130c-4b8a-bdfd-d93e6351f975\" xlink:show=\"new\" xlink:title=\"psysml:06665d43-130c-4b8a-bdfd-d93e6351f975\" xlink:type=\"simple\"><path d=\"M65,121.25 C65,141.54 65,167.2 65,188.71 \" fill=\"none\" id=\"E6&lt;-E7\" style=\"stroke: #383838; stroke-width: 1.0;\"/><polygon fill=\"#383838\" points=\"65,108.17,61,114.17,65,120.17,69,114.17,65,108.17\" style=\"stroke: #383838; stroke-width: 1.0;\"/></a><!--MD5=[d5a85d6ea4a2d30e0bb393eef0c9388d]\n",
       "@startuml\r\n",
       " skinparam monochrome true\r\n",
       "skinparam classbackgroundcolor white\r\n",
       "skinparam shadowing false\r\n",
       "skinparam wrapWidth 300\r\n",
       "hide circle\r\n",
       "\r\n",
       "package \"ConjugationTest\" as E1  [[psysml:56f2a3b4-cc43-4fa3-8695-199f33536b50 ]]  {\r\n",
       "comp def \"P\" as E2  <<(T,blue)port def>> [[psysml:c0a3bc73-93c5-4b4d-b763-5833239b73fd ]] {\r\n",
       "}\r\n",
       "comp def \"B\" as E3  <<(T,blue)part def>> [[psysml:5cf63d0b-bb26-43ea-8091-2694cfd07b61 ]] {\r\n",
       "- - ports - -\r\n",
       "p1: P\r\n",
       "p2: ~P\r\n",
       "}\r\n",
       "comp def \"A\" as E4  <<(T,blue)connection def>> [[psysml:c95e8ce0-7583-4d42-8de3-1e3c8277134a ]] {\r\n",
       "- - ports - -\r\n",
       "p1: P\r\n",
       "p2: ~P\r\n",
       "}\r\n",
       "comp def \"I\" as E5  <<(T,blue)interface def>> [[psysml:3dca2d5e-c062-4427-93b4-bcb55890dd40 ]] {\r\n",
       "- - ports - -\r\n",
       "p1: P\r\n",
       "p2: ~P\r\n",
       "}\r\n",
       "comp def \"B1\" as E6  <<(T,blue)part def>> [[psysml:239b6b7d-2819-4aeb-bfce-341b8d8c5fb1 ]] {\r\n",
       "}\r\n",
       "comp usage \"p\" as E7  <<(T,blue)part>> [[psysml:080adc10-96fd-4f72-8d28-a6aae1d02a34 ]] {\r\n",
       "- - ports - -\r\n",
       "p1: P\r\n",
       "p2: ~P\r\n",
       "}\r\n",
       "E6 *- - E7 [[psysml:06665d43-130c-4b8a-bdfd-d93e6351f975 ]] \r\n",
       "}\r\n",
       "@enduml\r\n",
       "\n",
       "PlantUML version 1.2020.13(Sat Jun 13 12:26:38 UTC 2020)\n",
       "(EPL source distribution)\n",
       "Java Runtime: OpenJDK Runtime Environment\n",
       "JVM: OpenJDK 64-Bit Server VM\n",
       "Default Encoding: UTF-8\n",
       "Language: en\n",
       "Country: null\n",
       "--></g></svg>"
      ]
     },
     "execution_count": 2,
     "metadata": {},
     "output_type": "execute_result"
    }
   ],
   "source": [
    "%viz --style=\"COMPTREE\" --view=\"Default\" \"ConjugationTest\""
   ]
  },
  {
   "cell_type": "code",
   "execution_count": 3,
   "id": "1b262800",
   "metadata": {
    "execution": {
     "iopub.execute_input": "2021-04-20T07:00:11.724150Z",
     "iopub.status.busy": "2021-04-20T07:00:11.720861Z",
     "iopub.status.idle": "2021-04-20T07:00:11.942903Z",
     "shell.execute_reply": "2021-04-20T07:00:11.942500Z"
    }
   },
   "outputs": [
    {
     "data": {
      "image/svg+xml": [
       "<?xml version=\"1.0\" encoding=\"UTF-8\" standalone=\"no\"?><svg xmlns=\"http://www.w3.org/2000/svg\" xmlns:xlink=\"http://www.w3.org/1999/xlink\" contentScriptType=\"application/ecmascript\" contentStyleType=\"text/css\" height=\"305px\" preserveAspectRatio=\"none\" style=\"width:614px;height:305px;\" version=\"1.1\" viewBox=\"0 0 614 305\" width=\"614px\" zoomAndPan=\"magnify\"><defs/><g><!--MD5=[fbc87193dbaf4d95561dea2c320d4a47]\n",
       "cluster E1--><a href=\"psysml:56f2a3b4-cc43-4fa3-8695-199f33536b50\" target=\"_top\" title=\"psysml:56f2a3b4-cc43-4fa3-8695-199f33536b50\" xlink:actuate=\"onRequest\" xlink:href=\"psysml:56f2a3b4-cc43-4fa3-8695-199f33536b50\" xlink:show=\"new\" xlink:title=\"psysml:56f2a3b4-cc43-4fa3-8695-199f33536b50\" xlink:type=\"simple\"><polygon fill=\"#FFFFFF\" points=\"16,6,151,6,158,28.2969,592,28.2969,592,293,16,293,16,6\" style=\"stroke: #000000; stroke-width: 1.5;\"/><line style=\"stroke: #000000; stroke-width: 1.5;\" x1=\"16\" x2=\"158\" y1=\"28.2969\" y2=\"28.2969\"/><text fill=\"#000000\" font-family=\"sans-serif\" font-size=\"14\" font-weight=\"bold\" lengthAdjust=\"spacingAndGlyphs\" textLength=\"129\" x=\"20\" y=\"20.9951\">ConjugationTest</text></a><!--MD5=[b4997ac47864f28c2f74865a473b2911]\n",
       "class E2--><a href=\"psysml:c0a3bc73-93c5-4b4d-b763-5833239b73fd\" target=\"_top\" title=\"psysml:c0a3bc73-93c5-4b4d-b763-5833239b73fd\" xlink:actuate=\"onRequest\" xlink:href=\"psysml:c0a3bc73-93c5-4b4d-b763-5833239b73fd\" xlink:show=\"new\" xlink:title=\"psysml:c0a3bc73-93c5-4b4d-b763-5833239b73fd\" xlink:type=\"simple\"><rect fill=\"#FFFFFF\" height=\"45.9375\" id=\"E2\" style=\"stroke: #383838; stroke-width: 1.5;\" width=\"66\" x=\"510\" y=\"62\"/><text fill=\"#000000\" font-family=\"sans-serif\" font-size=\"12\" font-style=\"italic\" lengthAdjust=\"spacingAndGlyphs\" textLength=\"64\" x=\"511\" y=\"78.1387\">«port def»</text><text fill=\"#000000\" font-family=\"sans-serif\" font-size=\"12\" lengthAdjust=\"spacingAndGlyphs\" textLength=\"8\" x=\"539\" y=\"92.1074\">P</text><line style=\"stroke: #383838; stroke-width: 1.5;\" x1=\"511\" x2=\"575\" y1=\"99.9375\" y2=\"99.9375\"/></a><!--MD5=[09b614a08d8cba4a07c9adeb5e0fee81]\n",
       "class E3--><a href=\"psysml:5cf63d0b-bb26-43ea-8091-2694cfd07b61\" target=\"_top\" title=\"psysml:5cf63d0b-bb26-43ea-8091-2694cfd07b61\" xlink:actuate=\"onRequest\" xlink:href=\"psysml:5cf63d0b-bb26-43ea-8091-2694cfd07b61\" xlink:show=\"new\" xlink:title=\"psysml:5cf63d0b-bb26-43ea-8091-2694cfd07b61\" xlink:type=\"simple\"><rect fill=\"#FFFFFF\" height=\"88.3516\" id=\"E3\" style=\"stroke: #383838; stroke-width: 1.5;\" width=\"66\" x=\"409\" y=\"41\"/><text fill=\"#000000\" font-family=\"sans-serif\" font-size=\"12\" font-style=\"italic\" lengthAdjust=\"spacingAndGlyphs\" textLength=\"64\" x=\"410\" y=\"57.1387\">«part def»</text><text fill=\"#000000\" font-family=\"sans-serif\" font-size=\"12\" lengthAdjust=\"spacingAndGlyphs\" textLength=\"8\" x=\"438\" y=\"71.1074\">B</text><line style=\"stroke: #383838; stroke-width: 1.5;\" x1=\"410\" x2=\"474\" y1=\"78.9375\" y2=\"78.9375\"/><text fill=\"#000000\" font-family=\"sans-serif\" font-size=\"11\" lengthAdjust=\"spacingAndGlyphs\" textLength=\"29\" x=\"415\" y=\"109.9526\">p1: P</text><text fill=\"#000000\" font-family=\"sans-serif\" font-size=\"11\" lengthAdjust=\"spacingAndGlyphs\" textLength=\"38\" x=\"415\" y=\"122.7573\">p2: ~P</text><line style=\"stroke: #383838; stroke-width: 1.0;\" x1=\"410\" x2=\"427\" y1=\"93.3398\" y2=\"93.3398\"/><text fill=\"#000000\" font-family=\"sans-serif\" font-size=\"11\" lengthAdjust=\"spacingAndGlyphs\" textLength=\"30\" x=\"427\" y=\"96.6479\">ports</text><line style=\"stroke: #383838; stroke-width: 1.0;\" x1=\"457\" x2=\"474\" y1=\"93.3398\" y2=\"93.3398\"/></a><!--MD5=[ebbe1d658d1005bcc118a6aa81145e00]\n",
       "class E4--><a href=\"psysml:c95e8ce0-7583-4d42-8de3-1e3c8277134a\" target=\"_top\" title=\"psysml:c95e8ce0-7583-4d42-8de3-1e3c8277134a\" xlink:actuate=\"onRequest\" xlink:href=\"psysml:c95e8ce0-7583-4d42-8de3-1e3c8277134a\" xlink:show=\"new\" xlink:title=\"psysml:c95e8ce0-7583-4d42-8de3-1e3c8277134a\" xlink:type=\"simple\"><rect fill=\"#FFFFFF\" height=\"88.3516\" id=\"E4\" style=\"stroke: #383838; stroke-width: 1.5;\" width=\"110\" x=\"264\" y=\"41\"/><text fill=\"#000000\" font-family=\"sans-serif\" font-size=\"12\" font-style=\"italic\" lengthAdjust=\"spacingAndGlyphs\" textLength=\"108\" x=\"265\" y=\"57.1387\">«connection def»</text><text fill=\"#000000\" font-family=\"sans-serif\" font-size=\"12\" lengthAdjust=\"spacingAndGlyphs\" textLength=\"8\" x=\"315\" y=\"71.1074\">A</text><line style=\"stroke: #383838; stroke-width: 1.5;\" x1=\"265\" x2=\"373\" y1=\"78.9375\" y2=\"78.9375\"/><text fill=\"#000000\" font-family=\"sans-serif\" font-size=\"11\" lengthAdjust=\"spacingAndGlyphs\" textLength=\"29\" x=\"270\" y=\"109.9526\">p1: P</text><text fill=\"#000000\" font-family=\"sans-serif\" font-size=\"11\" lengthAdjust=\"spacingAndGlyphs\" textLength=\"38\" x=\"270\" y=\"122.7573\">p2: ~P</text><line style=\"stroke: #383838; stroke-width: 1.0;\" x1=\"265\" x2=\"304\" y1=\"93.3398\" y2=\"93.3398\"/><text fill=\"#000000\" font-family=\"sans-serif\" font-size=\"11\" lengthAdjust=\"spacingAndGlyphs\" textLength=\"30\" x=\"304\" y=\"96.6479\">ports</text><line style=\"stroke: #383838; stroke-width: 1.0;\" x1=\"334\" x2=\"373\" y1=\"93.3398\" y2=\"93.3398\"/></a><!--MD5=[270fce915f116d4de14055a7c1d9a0f3]\n",
       "class E5--><a href=\"psysml:3dca2d5e-c062-4427-93b4-bcb55890dd40\" target=\"_top\" title=\"psysml:3dca2d5e-c062-4427-93b4-bcb55890dd40\" xlink:actuate=\"onRequest\" xlink:href=\"psysml:3dca2d5e-c062-4427-93b4-bcb55890dd40\" xlink:show=\"new\" xlink:title=\"psysml:3dca2d5e-c062-4427-93b4-bcb55890dd40\" xlink:type=\"simple\"><rect fill=\"#FFFFFF\" height=\"88.3516\" id=\"E5\" style=\"stroke: #383838; stroke-width: 1.5;\" width=\"96\" x=\"133\" y=\"41\"/><text fill=\"#000000\" font-family=\"sans-serif\" font-size=\"12\" font-style=\"italic\" lengthAdjust=\"spacingAndGlyphs\" textLength=\"94\" x=\"134\" y=\"57.1387\">«interface def»</text><text fill=\"#000000\" font-family=\"sans-serif\" font-size=\"12\" lengthAdjust=\"spacingAndGlyphs\" textLength=\"3\" x=\"179.5\" y=\"71.1074\">I</text><line style=\"stroke: #383838; stroke-width: 1.5;\" x1=\"134\" x2=\"228\" y1=\"78.9375\" y2=\"78.9375\"/><text fill=\"#000000\" font-family=\"sans-serif\" font-size=\"11\" lengthAdjust=\"spacingAndGlyphs\" textLength=\"29\" x=\"139\" y=\"109.9526\">p1: P</text><text fill=\"#000000\" font-family=\"sans-serif\" font-size=\"11\" lengthAdjust=\"spacingAndGlyphs\" textLength=\"38\" x=\"139\" y=\"122.7573\">p2: ~P</text><line style=\"stroke: #383838; stroke-width: 1.0;\" x1=\"134\" x2=\"166\" y1=\"93.3398\" y2=\"93.3398\"/><text fill=\"#000000\" font-family=\"sans-serif\" font-size=\"11\" lengthAdjust=\"spacingAndGlyphs\" textLength=\"30\" x=\"166\" y=\"96.6479\">ports</text><line style=\"stroke: #383838; stroke-width: 1.0;\" x1=\"196\" x2=\"228\" y1=\"93.3398\" y2=\"93.3398\"/></a><!--MD5=[60a26617385b1d2d0262a64233df1f8d]\n",
       "class E6--><a href=\"psysml:239b6b7d-2819-4aeb-bfce-341b8d8c5fb1\" target=\"_top\" title=\"psysml:239b6b7d-2819-4aeb-bfce-341b8d8c5fb1\" xlink:actuate=\"onRequest\" xlink:href=\"psysml:239b6b7d-2819-4aeb-bfce-341b8d8c5fb1\" xlink:show=\"new\" xlink:title=\"psysml:239b6b7d-2819-4aeb-bfce-341b8d8c5fb1\" xlink:type=\"simple\"><rect fill=\"#FFFFFF\" height=\"45.9375\" id=\"E6\" style=\"stroke: #383838; stroke-width: 1.5;\" width=\"66\" x=\"32\" y=\"62\"/><text fill=\"#000000\" font-family=\"sans-serif\" font-size=\"12\" font-style=\"italic\" lengthAdjust=\"spacingAndGlyphs\" textLength=\"64\" x=\"33\" y=\"78.1387\">«part def»</text><text fill=\"#000000\" font-family=\"sans-serif\" font-size=\"12\" lengthAdjust=\"spacingAndGlyphs\" textLength=\"16\" x=\"57\" y=\"92.1074\">B1</text><line style=\"stroke: #383838; stroke-width: 1.5;\" x1=\"33\" x2=\"97\" y1=\"99.9375\" y2=\"99.9375\"/></a><!--MD5=[2156ba9850f5573cc1fc38a6a4b2f02b]\n",
       "class E7--><a href=\"psysml:080adc10-96fd-4f72-8d28-a6aae1d02a34\" target=\"_top\" title=\"psysml:080adc10-96fd-4f72-8d28-a6aae1d02a34\" xlink:actuate=\"onRequest\" xlink:href=\"psysml:080adc10-96fd-4f72-8d28-a6aae1d02a34\" xlink:show=\"new\" xlink:title=\"psysml:080adc10-96fd-4f72-8d28-a6aae1d02a34\" xlink:type=\"simple\"><rect fill=\"#FFFFFF\" height=\"88.3516\" id=\"E7\" rx=\"10\" ry=\"10\" style=\"stroke: #383838; stroke-width: 1.5;\" width=\"50\" x=\"40\" y=\"189\"/><text fill=\"#000000\" font-family=\"sans-serif\" font-size=\"12\" font-style=\"italic\" lengthAdjust=\"spacingAndGlyphs\" textLength=\"40\" x=\"45\" y=\"205.1387\">«part»</text><text fill=\"#000000\" font-family=\"sans-serif\" font-size=\"12\" lengthAdjust=\"spacingAndGlyphs\" textLength=\"8\" x=\"61\" y=\"219.1074\">p</text><line style=\"stroke: #383838; stroke-width: 1.5;\" x1=\"41\" x2=\"89\" y1=\"226.9375\" y2=\"226.9375\"/><text fill=\"#000000\" font-family=\"sans-serif\" font-size=\"11\" lengthAdjust=\"spacingAndGlyphs\" textLength=\"29\" x=\"46\" y=\"257.9526\">p1: P</text><text fill=\"#000000\" font-family=\"sans-serif\" font-size=\"11\" lengthAdjust=\"spacingAndGlyphs\" textLength=\"38\" x=\"46\" y=\"270.7573\">p2: ~P</text><line style=\"stroke: #383838; stroke-width: 1.0;\" x1=\"41\" x2=\"50\" y1=\"241.3398\" y2=\"241.3398\"/><text fill=\"#000000\" font-family=\"sans-serif\" font-size=\"11\" lengthAdjust=\"spacingAndGlyphs\" textLength=\"30\" x=\"50\" y=\"244.6479\">ports</text><line style=\"stroke: #383838; stroke-width: 1.0;\" x1=\"80\" x2=\"89\" y1=\"241.3398\" y2=\"241.3398\"/></a><!--MD5=[3f50a3473f1dfb74d3f76443e03635af]\n",
       "reverse link E6 to E7--><a href=\"psysml:06665d43-130c-4b8a-bdfd-d93e6351f975\" target=\"_top\" title=\"psysml:06665d43-130c-4b8a-bdfd-d93e6351f975\" xlink:actuate=\"onRequest\" xlink:href=\"psysml:06665d43-130c-4b8a-bdfd-d93e6351f975\" xlink:show=\"new\" xlink:title=\"psysml:06665d43-130c-4b8a-bdfd-d93e6351f975\" xlink:type=\"simple\"><path d=\"M65,121.25 C65,141.54 65,167.2 65,188.71 \" fill=\"none\" id=\"E6&lt;-E7\" style=\"stroke: #383838; stroke-width: 1.0;\"/><polygon fill=\"#383838\" points=\"65,108.17,61,114.17,65,120.17,69,114.17,65,108.17\" style=\"stroke: #383838; stroke-width: 1.0;\"/></a><!--MD5=[d5a85d6ea4a2d30e0bb393eef0c9388d]\n",
       "@startuml\r\n",
       " skinparam monochrome true\r\n",
       "skinparam classbackgroundcolor white\r\n",
       "skinparam shadowing false\r\n",
       "skinparam wrapWidth 300\r\n",
       "hide circle\r\n",
       "\r\n",
       "package \"ConjugationTest\" as E1  [[psysml:56f2a3b4-cc43-4fa3-8695-199f33536b50 ]]  {\r\n",
       "comp def \"P\" as E2  <<(T,blue)port def>> [[psysml:c0a3bc73-93c5-4b4d-b763-5833239b73fd ]] {\r\n",
       "}\r\n",
       "comp def \"B\" as E3  <<(T,blue)part def>> [[psysml:5cf63d0b-bb26-43ea-8091-2694cfd07b61 ]] {\r\n",
       "- - ports - -\r\n",
       "p1: P\r\n",
       "p2: ~P\r\n",
       "}\r\n",
       "comp def \"A\" as E4  <<(T,blue)connection def>> [[psysml:c95e8ce0-7583-4d42-8de3-1e3c8277134a ]] {\r\n",
       "- - ports - -\r\n",
       "p1: P\r\n",
       "p2: ~P\r\n",
       "}\r\n",
       "comp def \"I\" as E5  <<(T,blue)interface def>> [[psysml:3dca2d5e-c062-4427-93b4-bcb55890dd40 ]] {\r\n",
       "- - ports - -\r\n",
       "p1: P\r\n",
       "p2: ~P\r\n",
       "}\r\n",
       "comp def \"B1\" as E6  <<(T,blue)part def>> [[psysml:239b6b7d-2819-4aeb-bfce-341b8d8c5fb1 ]] {\r\n",
       "}\r\n",
       "comp usage \"p\" as E7  <<(T,blue)part>> [[psysml:080adc10-96fd-4f72-8d28-a6aae1d02a34 ]] {\r\n",
       "- - ports - -\r\n",
       "p1: P\r\n",
       "p2: ~P\r\n",
       "}\r\n",
       "E6 *- - E7 [[psysml:06665d43-130c-4b8a-bdfd-d93e6351f975 ]] \r\n",
       "}\r\n",
       "@enduml\r\n",
       "\n",
       "PlantUML version 1.2020.13(Sat Jun 13 12:26:38 UTC 2020)\n",
       "(EPL source distribution)\n",
       "Java Runtime: OpenJDK Runtime Environment\n",
       "JVM: OpenJDK 64-Bit Server VM\n",
       "Default Encoding: UTF-8\n",
       "Language: en\n",
       "Country: null\n",
       "--></g></svg>"
      ]
     },
     "execution_count": 3,
     "metadata": {},
     "output_type": "execute_result"
    }
   ],
   "source": [
    "%viz --style=\"COMPTREE\" --view=\"Tree\" \"ConjugationTest\""
   ]
  },
  {
   "cell_type": "code",
   "execution_count": 4,
   "id": "95af8323",
   "metadata": {
    "execution": {
     "iopub.execute_input": "2021-04-20T07:00:11.994326Z",
     "iopub.status.busy": "2021-04-20T07:00:11.993441Z",
     "iopub.status.idle": "2021-04-20T07:00:12.001455Z",
     "shell.execute_reply": "2021-04-20T07:00:12.000817Z"
    }
   },
   "outputs": [
    {
     "data": {
      "image/svg+xml": [
       "<?xml version=\"1.0\" encoding=\"UTF-8\" standalone=\"no\"?><svg xmlns=\"http://www.w3.org/2000/svg\" xmlns:xlink=\"http://www.w3.org/1999/xlink\" contentScriptType=\"application/ecmascript\" contentStyleType=\"text/css\" height=\"12px\" preserveAspectRatio=\"none\" style=\"width:12px;height:12px;\" version=\"1.1\" viewBox=\"0 0 12 12\" width=\"12px\" zoomAndPan=\"magnify\"><defs/><g><!--MD5=[f19188ef49e11757b5c46753f95d9edc]\n",
       "@startuml\r\n",
       " skinparam monochrome true\r\n",
       "skinparam classbackgroundcolor white\r\n",
       "skinparam shadowing false\r\n",
       "skinparam wrapWidth 300\r\n",
       "hide circle\r\n",
       "\r\n",
       "@enduml\r\n",
       "\n",
       "PlantUML version 1.2020.13(Sat Jun 13 12:26:38 UTC 2020)\n",
       "(EPL source distribution)\n",
       "Java Runtime: OpenJDK Runtime Environment\n",
       "JVM: OpenJDK 64-Bit Server VM\n",
       "Default Encoding: UTF-8\n",
       "Language: en\n",
       "Country: null\n",
       "--></g></svg>"
      ]
     },
     "execution_count": 4,
     "metadata": {},
     "output_type": "execute_result"
    }
   ],
   "source": [
    "%viz --style=\"COMPTREE\" --view=\"State\" \"ConjugationTest\""
   ]
  },
  {
   "cell_type": "code",
   "execution_count": 5,
   "id": "eef8d143",
   "metadata": {
    "execution": {
     "iopub.execute_input": "2021-04-20T07:00:12.057573Z",
     "iopub.status.busy": "2021-04-20T07:00:12.055130Z",
     "iopub.status.idle": "2021-04-20T07:00:12.130822Z",
     "shell.execute_reply": "2021-04-20T07:00:12.128891Z"
    }
   },
   "outputs": [
    {
     "data": {
      "image/svg+xml": [
       "<?xml version=\"1.0\" encoding=\"UTF-8\" standalone=\"no\"?><svg xmlns=\"http://www.w3.org/2000/svg\" xmlns:xlink=\"http://www.w3.org/1999/xlink\" contentScriptType=\"application/ecmascript\" contentStyleType=\"text/css\" height=\"246px\" preserveAspectRatio=\"none\" style=\"width:739px;height:246px;\" version=\"1.1\" viewBox=\"0 0 739 246\" width=\"739px\" zoomAndPan=\"magnify\"><defs/><g><!--MD5=[fbc87193dbaf4d95561dea2c320d4a47]\n",
       "cluster E1--><a href=\"psysml:56f2a3b4-cc43-4fa3-8695-199f33536b50\" target=\"_top\" title=\"psysml:56f2a3b4-cc43-4fa3-8695-199f33536b50\" xlink:actuate=\"onRequest\" xlink:href=\"psysml:56f2a3b4-cc43-4fa3-8695-199f33536b50\" xlink:show=\"new\" xlink:title=\"psysml:56f2a3b4-cc43-4fa3-8695-199f33536b50\" xlink:type=\"simple\"><polygon fill=\"#FFFFFF\" points=\"16,6,151,6,158,28.2969,717,28.2969,717,234.5,16,234.5,16,6\" style=\"stroke: #000000; stroke-width: 1.5;\"/><line style=\"stroke: #000000; stroke-width: 1.5;\" x1=\"16\" x2=\"158\" y1=\"28.2969\" y2=\"28.2969\"/><text fill=\"#000000\" font-family=\"sans-serif\" font-size=\"14\" font-weight=\"bold\" lengthAdjust=\"spacingAndGlyphs\" textLength=\"129\" x=\"20\" y=\"20.9951\">ConjugationTest</text></a><!--MD5=[d5e69f78d87373223dbae638b30a9c99]\n",
       "cluster E3--><a href=\"psysml:5cf63d0b-bb26-43ea-8091-2694cfd07b61\" target=\"_top\" title=\"psysml:5cf63d0b-bb26-43ea-8091-2694cfd07b61\" xlink:actuate=\"onRequest\" xlink:href=\"psysml:5cf63d0b-bb26-43ea-8091-2694cfd07b61\" xlink:show=\"new\" xlink:title=\"psysml:5cf63d0b-bb26-43ea-8091-2694cfd07b61\" xlink:type=\"simple\"><rect fill=\"#FFFFFF\" height=\"88.5\" id=\"E3\" style=\"stroke: #383838; stroke-width: 1.5;\" width=\"83\" x=\"577\" y=\"114\"/><rect fill=\"#F8F8F8\" height=\"37.9375\" style=\"stroke: #383838; stroke-width: 1.5;\" width=\"83\" x=\"577\" y=\"114\"/><text fill=\"#000000\" font-family=\"sans-serif\" font-size=\"12\" font-style=\"italic\" lengthAdjust=\"spacingAndGlyphs\" textLength=\"64\" x=\"586.5\" y=\"130.1387\">«part def»</text><text fill=\"#000000\" font-family=\"sans-serif\" font-size=\"12\" lengthAdjust=\"spacingAndGlyphs\" textLength=\"8\" x=\"614.5\" y=\"144.1074\">B</text></a><!--MD5=[14e3b0961a2654348d326746436168a1]\n",
       "cluster E6--><a href=\"psysml:c95e8ce0-7583-4d42-8de3-1e3c8277134a\" target=\"_top\" title=\"psysml:c95e8ce0-7583-4d42-8de3-1e3c8277134a\" xlink:actuate=\"onRequest\" xlink:href=\"psysml:c95e8ce0-7583-4d42-8de3-1e3c8277134a\" xlink:show=\"new\" xlink:title=\"psysml:c95e8ce0-7583-4d42-8de3-1e3c8277134a\" xlink:type=\"simple\"><rect fill=\"#FFFFFF\" height=\"88.5\" id=\"E6\" style=\"stroke: #383838; stroke-width: 1.5;\" width=\"150\" x=\"423\" y=\"114\"/><rect fill=\"#F8F8F8\" height=\"37.9375\" style=\"stroke: #383838; stroke-width: 1.5;\" width=\"150\" x=\"423\" y=\"114\"/><text fill=\"#000000\" font-family=\"sans-serif\" font-size=\"12\" font-style=\"italic\" lengthAdjust=\"spacingAndGlyphs\" textLength=\"108\" x=\"444\" y=\"130.1387\">«connection def»</text><text fill=\"#000000\" font-family=\"sans-serif\" font-size=\"12\" lengthAdjust=\"spacingAndGlyphs\" textLength=\"8\" x=\"494\" y=\"144.1074\">A</text></a><!--MD5=[7f149f147074ac12df2cb0a7728a5fb0]\n",
       "cluster E9--><a href=\"psysml:3dca2d5e-c062-4427-93b4-bcb55890dd40\" target=\"_top\" title=\"psysml:3dca2d5e-c062-4427-93b4-bcb55890dd40\" xlink:actuate=\"onRequest\" xlink:href=\"psysml:3dca2d5e-c062-4427-93b4-bcb55890dd40\" xlink:show=\"new\" xlink:title=\"psysml:3dca2d5e-c062-4427-93b4-bcb55890dd40\" xlink:type=\"simple\"><rect fill=\"#FFFFFF\" height=\"88.5\" id=\"E9\" style=\"stroke: #383838; stroke-width: 1.5;\" width=\"141\" x=\"254\" y=\"114\"/><rect fill=\"#F8F8F8\" height=\"37.9375\" style=\"stroke: #383838; stroke-width: 1.5;\" width=\"141\" x=\"254\" y=\"114\"/><text fill=\"#000000\" font-family=\"sans-serif\" font-size=\"12\" font-style=\"italic\" lengthAdjust=\"spacingAndGlyphs\" textLength=\"94\" x=\"277.5\" y=\"130.1387\">«interface def»</text><text fill=\"#000000\" font-family=\"sans-serif\" font-size=\"12\" lengthAdjust=\"spacingAndGlyphs\" textLength=\"3\" x=\"323\" y=\"144.1074\">I</text></a><!--MD5=[47bea60c1a0ac6c1143df232041969c0]\n",
       "cluster E12--><a href=\"psysml:239b6b7d-2819-4aeb-bfce-341b8d8c5fb1\" target=\"_top\" title=\"psysml:239b6b7d-2819-4aeb-bfce-341b8d8c5fb1\" xlink:actuate=\"onRequest\" xlink:href=\"psysml:239b6b7d-2819-4aeb-bfce-341b8d8c5fb1\" xlink:show=\"new\" xlink:title=\"psysml:239b6b7d-2819-4aeb-bfce-341b8d8c5fb1\" xlink:type=\"simple\"><rect fill=\"#FFFFFF\" height=\"161.5\" id=\"E12\" style=\"stroke: #383838; stroke-width: 1.5;\" width=\"107\" x=\"120\" y=\"49\"/><rect fill=\"#F8F8F8\" height=\"37.9375\" style=\"stroke: #383838; stroke-width: 1.5;\" width=\"107\" x=\"120\" y=\"49\"/><text fill=\"#000000\" font-family=\"sans-serif\" font-size=\"12\" font-style=\"italic\" lengthAdjust=\"spacingAndGlyphs\" textLength=\"64\" x=\"141.5\" y=\"65.1387\">«part def»</text><text fill=\"#000000\" font-family=\"sans-serif\" font-size=\"12\" lengthAdjust=\"spacingAndGlyphs\" textLength=\"16\" x=\"165.5\" y=\"79.1074\">B1</text></a><!--MD5=[03104f77b71e2d8d3500c651e6e31181]\n",
       "cluster E13--><a href=\"psysml:080adc10-96fd-4f72-8d28-a6aae1d02a34\" target=\"_top\" title=\"psysml:080adc10-96fd-4f72-8d28-a6aae1d02a34\" xlink:actuate=\"onRequest\" xlink:href=\"psysml:080adc10-96fd-4f72-8d28-a6aae1d02a34\" xlink:show=\"new\" xlink:title=\"psysml:080adc10-96fd-4f72-8d28-a6aae1d02a34\" xlink:type=\"simple\"><rect fill=\"#FFFFFF\" height=\"80.5\" id=\"E13\" rx=\"10\" ry=\"10\" style=\"stroke: #383838; stroke-width: 1.5;\" width=\"83\" x=\"132\" y=\"114\"/><rect fill=\"#F8F8F8\" height=\"23.9688\" rx=\"10\" ry=\"10\" style=\"stroke: #F8F8F8; stroke-width: 1.5;\" width=\"83\" x=\"132\" y=\"114\"/><rect fill=\"#F8F8F8\" height=\"10\" style=\"stroke: #F8F8F8; stroke-width: 1.5;\" width=\"83\" x=\"132\" y=\"127.9688\"/><rect fill=\"none\" height=\"80.5\" id=\"E13\" rx=\"10\" ry=\"10\" style=\"stroke: #383838; stroke-width: 1.5;\" width=\"83\" x=\"132\" y=\"114\"/><text fill=\"#000000\" font-family=\"sans-serif\" font-size=\"12\" lengthAdjust=\"spacingAndGlyphs\" textLength=\"8\" x=\"169.5\" y=\"130.1387\">p</text><line style=\"stroke: #383838; stroke-width: 1.0;\" x1=\"132\" x2=\"215\" y1=\"137.9688\" y2=\"137.9688\"/></a><g id=\"E1.E2\"><a href=\"psysml:c0a3bc73-93c5-4b4d-b763-5833239b73fd\" target=\"_top\" title=\"psysml:c0a3bc73-93c5-4b4d-b763-5833239b73fd\" xlink:actuate=\"onRequest\" xlink:href=\"psysml:c0a3bc73-93c5-4b4d-b763-5833239b73fd\" xlink:show=\"new\" xlink:title=\"psysml:c0a3bc73-93c5-4b4d-b763-5833239b73fd\" xlink:type=\"simple\"><rect fill=\"#FFFFFF\" height=\"42.9375\" id=\"E2\" style=\"stroke: #383838; stroke-width: 1.5;\" width=\"71\" x=\"32.5\" y=\"92.5\"/><rect fill=\"#F8F8F8\" height=\"37.9375\" style=\"stroke: #383838; stroke-width: 1.5;\" width=\"71\" x=\"32.5\" y=\"92.5\"/><text fill=\"#000000\" font-family=\"sans-serif\" font-size=\"12\" font-style=\"italic\" lengthAdjust=\"spacingAndGlyphs\" textLength=\"64\" x=\"36\" y=\"108.6387\">«port def»</text><text fill=\"#000000\" font-family=\"sans-serif\" font-size=\"12\" lengthAdjust=\"spacingAndGlyphs\" textLength=\"8\" x=\"64\" y=\"122.6074\">P</text></a></g><text fill=\"#000000\" font-family=\"sans-serif\" font-size=\"14\" lengthAdjust=\"spacingAndGlyphs\" textLength=\"36\" x=\"577\" y=\"92.6982\">p1: P</text><rect fill=\"#383838\" height=\"12\" style=\"stroke: #F8F8F8; stroke-width: 1.5;\" width=\"12\" x=\"589\" y=\"108\"/><text fill=\"#000000\" font-family=\"sans-serif\" font-size=\"14\" lengthAdjust=\"spacingAndGlyphs\" textLength=\"48\" x=\"618\" y=\"92.6982\">p2: ~P</text><rect fill=\"#383838\" height=\"12\" style=\"stroke: #F8F8F8; stroke-width: 1.5;\" width=\"12\" x=\"636\" y=\"108\"/><text fill=\"#000000\" font-family=\"sans-serif\" font-size=\"14\" lengthAdjust=\"spacingAndGlyphs\" textLength=\"36\" x=\"423\" y=\"92.6982\">p1: P</text><rect fill=\"#383838\" height=\"12\" style=\"stroke: #F8F8F8; stroke-width: 1.5;\" width=\"12\" x=\"435\" y=\"108\"/><text fill=\"#000000\" font-family=\"sans-serif\" font-size=\"14\" lengthAdjust=\"spacingAndGlyphs\" textLength=\"48\" x=\"464\" y=\"92.6982\">p2: ~P</text><rect fill=\"#383838\" height=\"12\" style=\"stroke: #F8F8F8; stroke-width: 1.5;\" width=\"12\" x=\"482\" y=\"108\"/><text fill=\"#000000\" font-family=\"sans-serif\" font-size=\"14\" lengthAdjust=\"spacingAndGlyphs\" textLength=\"36\" x=\"254\" y=\"92.6982\">p1: P</text><rect fill=\"#383838\" height=\"12\" style=\"stroke: #F8F8F8; stroke-width: 1.5;\" width=\"12\" x=\"266\" y=\"108\"/><text fill=\"#000000\" font-family=\"sans-serif\" font-size=\"14\" lengthAdjust=\"spacingAndGlyphs\" textLength=\"48\" x=\"295\" y=\"92.6982\">p2: ~P</text><rect fill=\"#383838\" height=\"12\" style=\"stroke: #F8F8F8; stroke-width: 1.5;\" width=\"12\" x=\"313\" y=\"108\"/><text fill=\"#000000\" font-family=\"sans-serif\" font-size=\"14\" lengthAdjust=\"spacingAndGlyphs\" textLength=\"36\" x=\"132\" y=\"92.6982\">p1: P</text><rect fill=\"#383838\" height=\"12\" style=\"stroke: #F8F8F8; stroke-width: 1.5;\" width=\"12\" x=\"144\" y=\"108\"/><text fill=\"#000000\" font-family=\"sans-serif\" font-size=\"14\" lengthAdjust=\"spacingAndGlyphs\" textLength=\"48\" x=\"173\" y=\"92.6982\">p2: ~P</text><rect fill=\"#383838\" height=\"12\" style=\"stroke: #F8F8F8; stroke-width: 1.5;\" width=\"12\" x=\"191\" y=\"108\"/><!--MD5=[4ce51ac6fa4cf5202df3859e2718f033]\n",
       "link E15 to E14--><a href=\"psysml:b40b8767-d304-49cf-ad0a-af8e9dd9f9d8\" target=\"_top\" title=\"psysml:b40b8767-d304-49cf-ad0a-af8e9dd9f9d8\" xlink:actuate=\"onRequest\" xlink:href=\"psysml:b40b8767-d304-49cf-ad0a-af8e9dd9f9d8\" xlink:show=\"new\" xlink:title=\"psysml:b40b8767-d304-49cf-ad0a-af8e9dd9f9d8\" xlink:type=\"simple\"><path d=\"M190.95,114 C179.38,114 167.81,114 156.24,114 \" fill=\"none\" id=\"E15-E14\" style=\"stroke: #383838; stroke-width: 3.0;\"/></a><!--MD5=[4ce51ac6fa4cf5202df3859e2718f033]\n",
       "link E15 to E14--><a href=\"psysml:e453fd18-f914-4bbc-b21b-733251b90d8d\" target=\"_top\" title=\"psysml:e453fd18-f914-4bbc-b21b-733251b90d8d\" xlink:actuate=\"onRequest\" xlink:href=\"psysml:e453fd18-f914-4bbc-b21b-733251b90d8d\" xlink:show=\"new\" xlink:title=\"psysml:e453fd18-f914-4bbc-b21b-733251b90d8d\" xlink:type=\"simple\"><path d=\"M190.95,111.98 C179.38,108.69 167.81,108.67 156.24,111.93 \" fill=\"none\" id=\"E15-E14-1\" style=\"stroke: #383838; stroke-width: 3.0;\"/></a><!--MD5=[7d4d74865d45d7aeb8e08840cdbcdd95]\n",
       "@startuml\r\n",
       "skinparam ranksep 10\r\n",
       "skinparam rectangle {\r\n",
       " backgroundColor<<block>> LightGreen\r\n",
       "}\r\n",
       " skinparam monochrome true\r\n",
       "skinparam classbackgroundcolor white\r\n",
       "skinparam shadowing false\r\n",
       "skinparam wrapWidth 300\r\n",
       "hide circle\r\n",
       "\r\n",
       "package \"ConjugationTest\" as E1  [[psysml:56f2a3b4-cc43-4fa3-8695-199f33536b50 ]]  {\r\n",
       "def \"P\" as E2  <<(T,blue)port def>> [[psysml:c0a3bc73-93c5-4b4d-b763-5833239b73fd ]] \r\n",
       "rec def \"B\" as E3  <<(T,blue)part def>> [[psysml:5cf63d0b-bb26-43ea-8091-2694cfd07b61 ]] {\r\n",
       "portin \"p1: P\" as E4  <<(T,blue)port>> [[psysml:c76b55b8-c5f7-4b06-9682-6e30a37606f5 ]] \r\n",
       "portin \"p2: ~P\" as E5  <<(T,blue)port>> [[psysml:35da94da-d279-45b2-babf-0a6a90392647 ]] \r\n",
       "}\r\n",
       "rec def \"A\" as E6  <<(T,blue)connection def>> [[psysml:c95e8ce0-7583-4d42-8de3-1e3c8277134a ]] {\r\n",
       "portin \"p1: P\" as E7  <<(T,blue)port>> [[psysml:2d7c72e0-11ff-44e8-b252-bce43cdf8c5c ]] \r\n",
       "portin \"p2: ~P\" as E8  <<(T,blue)port>> [[psysml:32f7297e-deaa-40d0-ad2f-7459de0cc2ac ]] \r\n",
       "}\r\n",
       "rec def \"I\" as E9  <<(T,blue)interface def>> [[psysml:3dca2d5e-c062-4427-93b4-bcb55890dd40 ]] {\r\n",
       "portin \"p1: P\" as E10  <<(T,blue)port>> [[psysml:c5132c6d-1853-42dd-8f4d-8690518006d4 ]] \r\n",
       "portin \"p2: ~P\" as E11  <<(T,blue)port>> [[psysml:dfe5ce78-d727-465a-9c67-ad29336ed483 ]] \r\n",
       "}\r\n",
       "rec def \"B1\" as E12  <<(T,blue)part def>> [[psysml:239b6b7d-2819-4aeb-bfce-341b8d8c5fb1 ]] {\r\n",
       "rec usage \"p\" as E13  [[psysml:080adc10-96fd-4f72-8d28-a6aae1d02a34 ]] {\r\n",
       "portin \"p1: P\" as E14  <<(T,blue)port>> [[psysml:990bba01-cfb0-414f-879e-e0e887a1aff5 ]] \r\n",
       "portin \"p2: ~P\" as E15  <<(T,blue)port>> [[psysml:ea02eef2-b064-45a9-9708-410d7204d199 ]] \r\n",
       "}\r\n",
       "}\r\n",
       "E15 -[thickness=3]- E14 [[psysml:b40b8767-d304-49cf-ad0a-af8e9dd9f9d8 ]] \r\n",
       "E15 -[thickness=3]- E14 [[psysml:e453fd18-f914-4bbc-b21b-733251b90d8d ]] \r\n",
       "}\r\n",
       "@enduml\r\n",
       "\n",
       "PlantUML version 1.2020.13(Sat Jun 13 12:26:38 UTC 2020)\n",
       "(EPL source distribution)\n",
       "Java Runtime: OpenJDK Runtime Environment\n",
       "JVM: OpenJDK 64-Bit Server VM\n",
       "Default Encoding: UTF-8\n",
       "Language: en\n",
       "Country: null\n",
       "--></g></svg>"
      ]
     },
     "execution_count": 5,
     "metadata": {},
     "output_type": "execute_result"
    }
   ],
   "source": [
    "%viz --style=\"COMPTREE\" --view=\"Interconnection\" \"ConjugationTest\""
   ]
  },
  {
   "cell_type": "code",
   "execution_count": 6,
   "id": "5073851d",
   "metadata": {
    "execution": {
     "iopub.execute_input": "2021-04-20T07:00:12.181279Z",
     "iopub.status.busy": "2021-04-20T07:00:12.180457Z",
     "iopub.status.idle": "2021-04-20T07:00:12.187627Z",
     "shell.execute_reply": "2021-04-20T07:00:12.187275Z"
    }
   },
   "outputs": [
    {
     "data": {
      "image/svg+xml": [
       "<?xml version=\"1.0\" encoding=\"UTF-8\" standalone=\"no\"?><svg xmlns=\"http://www.w3.org/2000/svg\" xmlns:xlink=\"http://www.w3.org/1999/xlink\" contentScriptType=\"application/ecmascript\" contentStyleType=\"text/css\" height=\"12px\" preserveAspectRatio=\"none\" style=\"width:12px;height:12px;\" version=\"1.1\" viewBox=\"0 0 12 12\" width=\"12px\" zoomAndPan=\"magnify\"><defs/><g><!--MD5=[655b888544ca4751ea36af1068543f84]\n",
       "@startuml\r\n",
       "skinparam ranksep 8\r\n",
       " skinparam monochrome true\r\n",
       "skinparam classbackgroundcolor white\r\n",
       "skinparam shadowing false\r\n",
       "skinparam wrapWidth 300\r\n",
       "hide circle\r\n",
       "\r\n",
       "@enduml\r\n",
       "\n",
       "PlantUML version 1.2020.13(Sat Jun 13 12:26:38 UTC 2020)\n",
       "(EPL source distribution)\n",
       "Java Runtime: OpenJDK Runtime Environment\n",
       "JVM: OpenJDK 64-Bit Server VM\n",
       "Default Encoding: UTF-8\n",
       "Language: en\n",
       "Country: null\n",
       "--></g></svg>"
      ]
     },
     "execution_count": 6,
     "metadata": {},
     "output_type": "execute_result"
    }
   ],
   "source": [
    "%viz --style=\"COMPTREE\" --view=\"Action\" \"ConjugationTest\""
   ]
  },
  {
   "cell_type": "code",
   "execution_count": 7,
   "id": "76e7e410",
   "metadata": {
    "execution": {
     "iopub.execute_input": "2021-04-20T07:00:12.239378Z",
     "iopub.status.busy": "2021-04-20T07:00:12.238863Z",
     "iopub.status.idle": "2021-04-20T07:00:12.367258Z",
     "shell.execute_reply": "2021-04-20T07:00:12.365286Z"
    }
   },
   "outputs": [
    {
     "data": {
      "image/svg+xml": [
       "<?xml version=\"1.0\" encoding=\"UTF-8\" standalone=\"no\"?><svg xmlns=\"http://www.w3.org/2000/svg\" xmlns:xlink=\"http://www.w3.org/1999/xlink\" contentScriptType=\"application/ecmascript\" contentStyleType=\"text/css\" height=\"305px\" preserveAspectRatio=\"none\" style=\"width:614px;height:305px;\" version=\"1.1\" viewBox=\"0 0 614 305\" width=\"614px\" zoomAndPan=\"magnify\"><defs/><g><!--MD5=[fbc87193dbaf4d95561dea2c320d4a47]\n",
       "cluster E1--><a href=\"psysml:56f2a3b4-cc43-4fa3-8695-199f33536b50\" target=\"_top\" title=\"psysml:56f2a3b4-cc43-4fa3-8695-199f33536b50\" xlink:actuate=\"onRequest\" xlink:href=\"psysml:56f2a3b4-cc43-4fa3-8695-199f33536b50\" xlink:show=\"new\" xlink:title=\"psysml:56f2a3b4-cc43-4fa3-8695-199f33536b50\" xlink:type=\"simple\"><polygon fill=\"#FFFFFF\" points=\"16,6,151,6,158,28.2969,592,28.2969,592,293,16,293,16,6\" style=\"stroke: #000000; stroke-width: 1.5;\"/><line style=\"stroke: #000000; stroke-width: 1.5;\" x1=\"16\" x2=\"158\" y1=\"28.2969\" y2=\"28.2969\"/><text fill=\"#000000\" font-family=\"sans-serif\" font-size=\"14\" font-weight=\"bold\" lengthAdjust=\"spacingAndGlyphs\" textLength=\"129\" x=\"20\" y=\"20.9951\">ConjugationTest</text></a><!--MD5=[b4997ac47864f28c2f74865a473b2911]\n",
       "class E2--><a href=\"psysml:c0a3bc73-93c5-4b4d-b763-5833239b73fd\" target=\"_top\" title=\"psysml:c0a3bc73-93c5-4b4d-b763-5833239b73fd\" xlink:actuate=\"onRequest\" xlink:href=\"psysml:c0a3bc73-93c5-4b4d-b763-5833239b73fd\" xlink:show=\"new\" xlink:title=\"psysml:c0a3bc73-93c5-4b4d-b763-5833239b73fd\" xlink:type=\"simple\"><rect fill=\"#FFFFFF\" height=\"45.9375\" id=\"E2\" style=\"stroke: #383838; stroke-width: 1.5;\" width=\"66\" x=\"510\" y=\"62\"/><text fill=\"#000000\" font-family=\"sans-serif\" font-size=\"12\" font-style=\"italic\" lengthAdjust=\"spacingAndGlyphs\" textLength=\"64\" x=\"511\" y=\"78.1387\">«port def»</text><text fill=\"#000000\" font-family=\"sans-serif\" font-size=\"12\" lengthAdjust=\"spacingAndGlyphs\" textLength=\"8\" x=\"539\" y=\"92.1074\">P</text><line style=\"stroke: #383838; stroke-width: 1.5;\" x1=\"511\" x2=\"575\" y1=\"99.9375\" y2=\"99.9375\"/></a><!--MD5=[09b614a08d8cba4a07c9adeb5e0fee81]\n",
       "class E3--><a href=\"psysml:5cf63d0b-bb26-43ea-8091-2694cfd07b61\" target=\"_top\" title=\"psysml:5cf63d0b-bb26-43ea-8091-2694cfd07b61\" xlink:actuate=\"onRequest\" xlink:href=\"psysml:5cf63d0b-bb26-43ea-8091-2694cfd07b61\" xlink:show=\"new\" xlink:title=\"psysml:5cf63d0b-bb26-43ea-8091-2694cfd07b61\" xlink:type=\"simple\"><rect fill=\"#FFFFFF\" height=\"88.3516\" id=\"E3\" style=\"stroke: #383838; stroke-width: 1.5;\" width=\"66\" x=\"409\" y=\"41\"/><text fill=\"#000000\" font-family=\"sans-serif\" font-size=\"12\" font-style=\"italic\" lengthAdjust=\"spacingAndGlyphs\" textLength=\"64\" x=\"410\" y=\"57.1387\">«part def»</text><text fill=\"#000000\" font-family=\"sans-serif\" font-size=\"12\" lengthAdjust=\"spacingAndGlyphs\" textLength=\"8\" x=\"438\" y=\"71.1074\">B</text><line style=\"stroke: #383838; stroke-width: 1.5;\" x1=\"410\" x2=\"474\" y1=\"78.9375\" y2=\"78.9375\"/><text fill=\"#000000\" font-family=\"sans-serif\" font-size=\"11\" lengthAdjust=\"spacingAndGlyphs\" textLength=\"29\" x=\"415\" y=\"109.9526\">p1: P</text><text fill=\"#000000\" font-family=\"sans-serif\" font-size=\"11\" lengthAdjust=\"spacingAndGlyphs\" textLength=\"38\" x=\"415\" y=\"122.7573\">p2: ~P</text><line style=\"stroke: #383838; stroke-width: 1.0;\" x1=\"410\" x2=\"427\" y1=\"93.3398\" y2=\"93.3398\"/><text fill=\"#000000\" font-family=\"sans-serif\" font-size=\"11\" lengthAdjust=\"spacingAndGlyphs\" textLength=\"30\" x=\"427\" y=\"96.6479\">ports</text><line style=\"stroke: #383838; stroke-width: 1.0;\" x1=\"457\" x2=\"474\" y1=\"93.3398\" y2=\"93.3398\"/></a><!--MD5=[ebbe1d658d1005bcc118a6aa81145e00]\n",
       "class E4--><a href=\"psysml:c95e8ce0-7583-4d42-8de3-1e3c8277134a\" target=\"_top\" title=\"psysml:c95e8ce0-7583-4d42-8de3-1e3c8277134a\" xlink:actuate=\"onRequest\" xlink:href=\"psysml:c95e8ce0-7583-4d42-8de3-1e3c8277134a\" xlink:show=\"new\" xlink:title=\"psysml:c95e8ce0-7583-4d42-8de3-1e3c8277134a\" xlink:type=\"simple\"><rect fill=\"#FFFFFF\" height=\"88.3516\" id=\"E4\" style=\"stroke: #383838; stroke-width: 1.5;\" width=\"110\" x=\"264\" y=\"41\"/><text fill=\"#000000\" font-family=\"sans-serif\" font-size=\"12\" font-style=\"italic\" lengthAdjust=\"spacingAndGlyphs\" textLength=\"108\" x=\"265\" y=\"57.1387\">«connection def»</text><text fill=\"#000000\" font-family=\"sans-serif\" font-size=\"12\" lengthAdjust=\"spacingAndGlyphs\" textLength=\"8\" x=\"315\" y=\"71.1074\">A</text><line style=\"stroke: #383838; stroke-width: 1.5;\" x1=\"265\" x2=\"373\" y1=\"78.9375\" y2=\"78.9375\"/><text fill=\"#000000\" font-family=\"sans-serif\" font-size=\"11\" lengthAdjust=\"spacingAndGlyphs\" textLength=\"29\" x=\"270\" y=\"109.9526\">p1: P</text><text fill=\"#000000\" font-family=\"sans-serif\" font-size=\"11\" lengthAdjust=\"spacingAndGlyphs\" textLength=\"38\" x=\"270\" y=\"122.7573\">p2: ~P</text><line style=\"stroke: #383838; stroke-width: 1.0;\" x1=\"265\" x2=\"304\" y1=\"93.3398\" y2=\"93.3398\"/><text fill=\"#000000\" font-family=\"sans-serif\" font-size=\"11\" lengthAdjust=\"spacingAndGlyphs\" textLength=\"30\" x=\"304\" y=\"96.6479\">ports</text><line style=\"stroke: #383838; stroke-width: 1.0;\" x1=\"334\" x2=\"373\" y1=\"93.3398\" y2=\"93.3398\"/></a><!--MD5=[270fce915f116d4de14055a7c1d9a0f3]\n",
       "class E5--><a href=\"psysml:3dca2d5e-c062-4427-93b4-bcb55890dd40\" target=\"_top\" title=\"psysml:3dca2d5e-c062-4427-93b4-bcb55890dd40\" xlink:actuate=\"onRequest\" xlink:href=\"psysml:3dca2d5e-c062-4427-93b4-bcb55890dd40\" xlink:show=\"new\" xlink:title=\"psysml:3dca2d5e-c062-4427-93b4-bcb55890dd40\" xlink:type=\"simple\"><rect fill=\"#FFFFFF\" height=\"88.3516\" id=\"E5\" style=\"stroke: #383838; stroke-width: 1.5;\" width=\"96\" x=\"133\" y=\"41\"/><text fill=\"#000000\" font-family=\"sans-serif\" font-size=\"12\" font-style=\"italic\" lengthAdjust=\"spacingAndGlyphs\" textLength=\"94\" x=\"134\" y=\"57.1387\">«interface def»</text><text fill=\"#000000\" font-family=\"sans-serif\" font-size=\"12\" lengthAdjust=\"spacingAndGlyphs\" textLength=\"3\" x=\"179.5\" y=\"71.1074\">I</text><line style=\"stroke: #383838; stroke-width: 1.5;\" x1=\"134\" x2=\"228\" y1=\"78.9375\" y2=\"78.9375\"/><text fill=\"#000000\" font-family=\"sans-serif\" font-size=\"11\" lengthAdjust=\"spacingAndGlyphs\" textLength=\"29\" x=\"139\" y=\"109.9526\">p1: P</text><text fill=\"#000000\" font-family=\"sans-serif\" font-size=\"11\" lengthAdjust=\"spacingAndGlyphs\" textLength=\"38\" x=\"139\" y=\"122.7573\">p2: ~P</text><line style=\"stroke: #383838; stroke-width: 1.0;\" x1=\"134\" x2=\"166\" y1=\"93.3398\" y2=\"93.3398\"/><text fill=\"#000000\" font-family=\"sans-serif\" font-size=\"11\" lengthAdjust=\"spacingAndGlyphs\" textLength=\"30\" x=\"166\" y=\"96.6479\">ports</text><line style=\"stroke: #383838; stroke-width: 1.0;\" x1=\"196\" x2=\"228\" y1=\"93.3398\" y2=\"93.3398\"/></a><!--MD5=[60a26617385b1d2d0262a64233df1f8d]\n",
       "class E6--><a href=\"psysml:239b6b7d-2819-4aeb-bfce-341b8d8c5fb1\" target=\"_top\" title=\"psysml:239b6b7d-2819-4aeb-bfce-341b8d8c5fb1\" xlink:actuate=\"onRequest\" xlink:href=\"psysml:239b6b7d-2819-4aeb-bfce-341b8d8c5fb1\" xlink:show=\"new\" xlink:title=\"psysml:239b6b7d-2819-4aeb-bfce-341b8d8c5fb1\" xlink:type=\"simple\"><rect fill=\"#FFFFFF\" height=\"45.9375\" id=\"E6\" style=\"stroke: #383838; stroke-width: 1.5;\" width=\"66\" x=\"32\" y=\"62\"/><text fill=\"#000000\" font-family=\"sans-serif\" font-size=\"12\" font-style=\"italic\" lengthAdjust=\"spacingAndGlyphs\" textLength=\"64\" x=\"33\" y=\"78.1387\">«part def»</text><text fill=\"#000000\" font-family=\"sans-serif\" font-size=\"12\" lengthAdjust=\"spacingAndGlyphs\" textLength=\"16\" x=\"57\" y=\"92.1074\">B1</text><line style=\"stroke: #383838; stroke-width: 1.5;\" x1=\"33\" x2=\"97\" y1=\"99.9375\" y2=\"99.9375\"/></a><!--MD5=[2156ba9850f5573cc1fc38a6a4b2f02b]\n",
       "class E7--><a href=\"psysml:080adc10-96fd-4f72-8d28-a6aae1d02a34\" target=\"_top\" title=\"psysml:080adc10-96fd-4f72-8d28-a6aae1d02a34\" xlink:actuate=\"onRequest\" xlink:href=\"psysml:080adc10-96fd-4f72-8d28-a6aae1d02a34\" xlink:show=\"new\" xlink:title=\"psysml:080adc10-96fd-4f72-8d28-a6aae1d02a34\" xlink:type=\"simple\"><rect fill=\"#FFFFFF\" height=\"88.3516\" id=\"E7\" rx=\"10\" ry=\"10\" style=\"stroke: #383838; stroke-width: 1.5;\" width=\"50\" x=\"40\" y=\"189\"/><text fill=\"#000000\" font-family=\"sans-serif\" font-size=\"12\" font-style=\"italic\" lengthAdjust=\"spacingAndGlyphs\" textLength=\"40\" x=\"45\" y=\"205.1387\">«part»</text><text fill=\"#000000\" font-family=\"sans-serif\" font-size=\"12\" lengthAdjust=\"spacingAndGlyphs\" textLength=\"8\" x=\"61\" y=\"219.1074\">p</text><line style=\"stroke: #383838; stroke-width: 1.5;\" x1=\"41\" x2=\"89\" y1=\"226.9375\" y2=\"226.9375\"/><text fill=\"#000000\" font-family=\"sans-serif\" font-size=\"11\" lengthAdjust=\"spacingAndGlyphs\" textLength=\"29\" x=\"46\" y=\"257.9526\">p1: P</text><text fill=\"#000000\" font-family=\"sans-serif\" font-size=\"11\" lengthAdjust=\"spacingAndGlyphs\" textLength=\"38\" x=\"46\" y=\"270.7573\">p2: ~P</text><line style=\"stroke: #383838; stroke-width: 1.0;\" x1=\"41\" x2=\"50\" y1=\"241.3398\" y2=\"241.3398\"/><text fill=\"#000000\" font-family=\"sans-serif\" font-size=\"11\" lengthAdjust=\"spacingAndGlyphs\" textLength=\"30\" x=\"50\" y=\"244.6479\">ports</text><line style=\"stroke: #383838; stroke-width: 1.0;\" x1=\"80\" x2=\"89\" y1=\"241.3398\" y2=\"241.3398\"/></a><!--MD5=[3f50a3473f1dfb74d3f76443e03635af]\n",
       "reverse link E6 to E7--><a href=\"psysml:06665d43-130c-4b8a-bdfd-d93e6351f975\" target=\"_top\" title=\"psysml:06665d43-130c-4b8a-bdfd-d93e6351f975\" xlink:actuate=\"onRequest\" xlink:href=\"psysml:06665d43-130c-4b8a-bdfd-d93e6351f975\" xlink:show=\"new\" xlink:title=\"psysml:06665d43-130c-4b8a-bdfd-d93e6351f975\" xlink:type=\"simple\"><path d=\"M65,121.25 C65,141.54 65,167.2 65,188.71 \" fill=\"none\" id=\"E6&lt;-E7\" style=\"stroke: #383838; stroke-width: 1.0;\"/><polygon fill=\"#383838\" points=\"65,108.17,61,114.17,65,120.17,69,114.17,65,108.17\" style=\"stroke: #383838; stroke-width: 1.0;\"/></a><!--MD5=[d5a85d6ea4a2d30e0bb393eef0c9388d]\n",
       "@startuml\r\n",
       " skinparam monochrome true\r\n",
       "skinparam classbackgroundcolor white\r\n",
       "skinparam shadowing false\r\n",
       "skinparam wrapWidth 300\r\n",
       "hide circle\r\n",
       "\r\n",
       "package \"ConjugationTest\" as E1  [[psysml:56f2a3b4-cc43-4fa3-8695-199f33536b50 ]]  {\r\n",
       "comp def \"P\" as E2  <<(T,blue)port def>> [[psysml:c0a3bc73-93c5-4b4d-b763-5833239b73fd ]] {\r\n",
       "}\r\n",
       "comp def \"B\" as E3  <<(T,blue)part def>> [[psysml:5cf63d0b-bb26-43ea-8091-2694cfd07b61 ]] {\r\n",
       "- - ports - -\r\n",
       "p1: P\r\n",
       "p2: ~P\r\n",
       "}\r\n",
       "comp def \"A\" as E4  <<(T,blue)connection def>> [[psysml:c95e8ce0-7583-4d42-8de3-1e3c8277134a ]] {\r\n",
       "- - ports - -\r\n",
       "p1: P\r\n",
       "p2: ~P\r\n",
       "}\r\n",
       "comp def \"I\" as E5  <<(T,blue)interface def>> [[psysml:3dca2d5e-c062-4427-93b4-bcb55890dd40 ]] {\r\n",
       "- - ports - -\r\n",
       "p1: P\r\n",
       "p2: ~P\r\n",
       "}\r\n",
       "comp def \"B1\" as E6  <<(T,blue)part def>> [[psysml:239b6b7d-2819-4aeb-bfce-341b8d8c5fb1 ]] {\r\n",
       "}\r\n",
       "comp usage \"p\" as E7  <<(T,blue)part>> [[psysml:080adc10-96fd-4f72-8d28-a6aae1d02a34 ]] {\r\n",
       "- - ports - -\r\n",
       "p1: P\r\n",
       "p2: ~P\r\n",
       "}\r\n",
       "E6 *- - E7 [[psysml:06665d43-130c-4b8a-bdfd-d93e6351f975 ]] \r\n",
       "}\r\n",
       "@enduml\r\n",
       "\n",
       "PlantUML version 1.2020.13(Sat Jun 13 12:26:38 UTC 2020)\n",
       "(EPL source distribution)\n",
       "Java Runtime: OpenJDK Runtime Environment\n",
       "JVM: OpenJDK 64-Bit Server VM\n",
       "Default Encoding: UTF-8\n",
       "Language: en\n",
       "Country: null\n",
       "--></g></svg>"
      ]
     },
     "execution_count": 7,
     "metadata": {},
     "output_type": "execute_result"
    }
   ],
   "source": [
    "%viz --style=\"COMPTREE\" --view=\"Sequence\" \"ConjugationTest\""
   ]
  },
  {
   "cell_type": "code",
   "execution_count": 8,
   "id": "afd474c1",
   "metadata": {
    "execution": {
     "iopub.execute_input": "2021-04-20T07:00:12.417012Z",
     "iopub.status.busy": "2021-04-20T07:00:12.416573Z",
     "iopub.status.idle": "2021-04-20T07:00:12.526062Z",
     "shell.execute_reply": "2021-04-20T07:00:12.525747Z"
    }
   },
   "outputs": [
    {
     "data": {
      "image/svg+xml": [
       "<?xml version=\"1.0\" encoding=\"UTF-8\" standalone=\"no\"?><svg xmlns=\"http://www.w3.org/2000/svg\" xmlns:xlink=\"http://www.w3.org/1999/xlink\" contentScriptType=\"application/ecmascript\" contentStyleType=\"text/css\" height=\"305px\" preserveAspectRatio=\"none\" style=\"width:614px;height:305px;\" version=\"1.1\" viewBox=\"0 0 614 305\" width=\"614px\" zoomAndPan=\"magnify\"><defs/><g><!--MD5=[fbc87193dbaf4d95561dea2c320d4a47]\n",
       "cluster E1--><a href=\"psysml:56f2a3b4-cc43-4fa3-8695-199f33536b50\" target=\"_top\" title=\"psysml:56f2a3b4-cc43-4fa3-8695-199f33536b50\" xlink:actuate=\"onRequest\" xlink:href=\"psysml:56f2a3b4-cc43-4fa3-8695-199f33536b50\" xlink:show=\"new\" xlink:title=\"psysml:56f2a3b4-cc43-4fa3-8695-199f33536b50\" xlink:type=\"simple\"><polygon fill=\"#FFFFFF\" points=\"16,6,151,6,158,28.2969,592,28.2969,592,293,16,293,16,6\" style=\"stroke: #000000; stroke-width: 1.5;\"/><line style=\"stroke: #000000; stroke-width: 1.5;\" x1=\"16\" x2=\"158\" y1=\"28.2969\" y2=\"28.2969\"/><text fill=\"#000000\" font-family=\"sans-serif\" font-size=\"14\" font-weight=\"bold\" lengthAdjust=\"spacingAndGlyphs\" textLength=\"129\" x=\"20\" y=\"20.9951\">ConjugationTest</text></a><!--MD5=[b4997ac47864f28c2f74865a473b2911]\n",
       "class E2--><a href=\"psysml:c0a3bc73-93c5-4b4d-b763-5833239b73fd\" target=\"_top\" title=\"psysml:c0a3bc73-93c5-4b4d-b763-5833239b73fd\" xlink:actuate=\"onRequest\" xlink:href=\"psysml:c0a3bc73-93c5-4b4d-b763-5833239b73fd\" xlink:show=\"new\" xlink:title=\"psysml:c0a3bc73-93c5-4b4d-b763-5833239b73fd\" xlink:type=\"simple\"><rect fill=\"#FFFFFF\" height=\"45.9375\" id=\"E2\" style=\"stroke: #383838; stroke-width: 1.5;\" width=\"66\" x=\"510\" y=\"62\"/><text fill=\"#000000\" font-family=\"sans-serif\" font-size=\"12\" font-style=\"italic\" lengthAdjust=\"spacingAndGlyphs\" textLength=\"64\" x=\"511\" y=\"78.1387\">«port def»</text><text fill=\"#000000\" font-family=\"sans-serif\" font-size=\"12\" lengthAdjust=\"spacingAndGlyphs\" textLength=\"8\" x=\"539\" y=\"92.1074\">P</text><line style=\"stroke: #383838; stroke-width: 1.5;\" x1=\"511\" x2=\"575\" y1=\"99.9375\" y2=\"99.9375\"/></a><!--MD5=[09b614a08d8cba4a07c9adeb5e0fee81]\n",
       "class E3--><a href=\"psysml:5cf63d0b-bb26-43ea-8091-2694cfd07b61\" target=\"_top\" title=\"psysml:5cf63d0b-bb26-43ea-8091-2694cfd07b61\" xlink:actuate=\"onRequest\" xlink:href=\"psysml:5cf63d0b-bb26-43ea-8091-2694cfd07b61\" xlink:show=\"new\" xlink:title=\"psysml:5cf63d0b-bb26-43ea-8091-2694cfd07b61\" xlink:type=\"simple\"><rect fill=\"#FFFFFF\" height=\"88.3516\" id=\"E3\" style=\"stroke: #383838; stroke-width: 1.5;\" width=\"66\" x=\"409\" y=\"41\"/><text fill=\"#000000\" font-family=\"sans-serif\" font-size=\"12\" font-style=\"italic\" lengthAdjust=\"spacingAndGlyphs\" textLength=\"64\" x=\"410\" y=\"57.1387\">«part def»</text><text fill=\"#000000\" font-family=\"sans-serif\" font-size=\"12\" lengthAdjust=\"spacingAndGlyphs\" textLength=\"8\" x=\"438\" y=\"71.1074\">B</text><line style=\"stroke: #383838; stroke-width: 1.5;\" x1=\"410\" x2=\"474\" y1=\"78.9375\" y2=\"78.9375\"/><text fill=\"#000000\" font-family=\"sans-serif\" font-size=\"11\" lengthAdjust=\"spacingAndGlyphs\" textLength=\"29\" x=\"415\" y=\"109.9526\">p1: P</text><text fill=\"#000000\" font-family=\"sans-serif\" font-size=\"11\" lengthAdjust=\"spacingAndGlyphs\" textLength=\"38\" x=\"415\" y=\"122.7573\">p2: ~P</text><line style=\"stroke: #383838; stroke-width: 1.0;\" x1=\"410\" x2=\"427\" y1=\"93.3398\" y2=\"93.3398\"/><text fill=\"#000000\" font-family=\"sans-serif\" font-size=\"11\" lengthAdjust=\"spacingAndGlyphs\" textLength=\"30\" x=\"427\" y=\"96.6479\">ports</text><line style=\"stroke: #383838; stroke-width: 1.0;\" x1=\"457\" x2=\"474\" y1=\"93.3398\" y2=\"93.3398\"/></a><!--MD5=[ebbe1d658d1005bcc118a6aa81145e00]\n",
       "class E4--><a href=\"psysml:c95e8ce0-7583-4d42-8de3-1e3c8277134a\" target=\"_top\" title=\"psysml:c95e8ce0-7583-4d42-8de3-1e3c8277134a\" xlink:actuate=\"onRequest\" xlink:href=\"psysml:c95e8ce0-7583-4d42-8de3-1e3c8277134a\" xlink:show=\"new\" xlink:title=\"psysml:c95e8ce0-7583-4d42-8de3-1e3c8277134a\" xlink:type=\"simple\"><rect fill=\"#FFFFFF\" height=\"88.3516\" id=\"E4\" style=\"stroke: #383838; stroke-width: 1.5;\" width=\"110\" x=\"264\" y=\"41\"/><text fill=\"#000000\" font-family=\"sans-serif\" font-size=\"12\" font-style=\"italic\" lengthAdjust=\"spacingAndGlyphs\" textLength=\"108\" x=\"265\" y=\"57.1387\">«connection def»</text><text fill=\"#000000\" font-family=\"sans-serif\" font-size=\"12\" lengthAdjust=\"spacingAndGlyphs\" textLength=\"8\" x=\"315\" y=\"71.1074\">A</text><line style=\"stroke: #383838; stroke-width: 1.5;\" x1=\"265\" x2=\"373\" y1=\"78.9375\" y2=\"78.9375\"/><text fill=\"#000000\" font-family=\"sans-serif\" font-size=\"11\" lengthAdjust=\"spacingAndGlyphs\" textLength=\"29\" x=\"270\" y=\"109.9526\">p1: P</text><text fill=\"#000000\" font-family=\"sans-serif\" font-size=\"11\" lengthAdjust=\"spacingAndGlyphs\" textLength=\"38\" x=\"270\" y=\"122.7573\">p2: ~P</text><line style=\"stroke: #383838; stroke-width: 1.0;\" x1=\"265\" x2=\"304\" y1=\"93.3398\" y2=\"93.3398\"/><text fill=\"#000000\" font-family=\"sans-serif\" font-size=\"11\" lengthAdjust=\"spacingAndGlyphs\" textLength=\"30\" x=\"304\" y=\"96.6479\">ports</text><line style=\"stroke: #383838; stroke-width: 1.0;\" x1=\"334\" x2=\"373\" y1=\"93.3398\" y2=\"93.3398\"/></a><!--MD5=[270fce915f116d4de14055a7c1d9a0f3]\n",
       "class E5--><a href=\"psysml:3dca2d5e-c062-4427-93b4-bcb55890dd40\" target=\"_top\" title=\"psysml:3dca2d5e-c062-4427-93b4-bcb55890dd40\" xlink:actuate=\"onRequest\" xlink:href=\"psysml:3dca2d5e-c062-4427-93b4-bcb55890dd40\" xlink:show=\"new\" xlink:title=\"psysml:3dca2d5e-c062-4427-93b4-bcb55890dd40\" xlink:type=\"simple\"><rect fill=\"#FFFFFF\" height=\"88.3516\" id=\"E5\" style=\"stroke: #383838; stroke-width: 1.5;\" width=\"96\" x=\"133\" y=\"41\"/><text fill=\"#000000\" font-family=\"sans-serif\" font-size=\"12\" font-style=\"italic\" lengthAdjust=\"spacingAndGlyphs\" textLength=\"94\" x=\"134\" y=\"57.1387\">«interface def»</text><text fill=\"#000000\" font-family=\"sans-serif\" font-size=\"12\" lengthAdjust=\"spacingAndGlyphs\" textLength=\"3\" x=\"179.5\" y=\"71.1074\">I</text><line style=\"stroke: #383838; stroke-width: 1.5;\" x1=\"134\" x2=\"228\" y1=\"78.9375\" y2=\"78.9375\"/><text fill=\"#000000\" font-family=\"sans-serif\" font-size=\"11\" lengthAdjust=\"spacingAndGlyphs\" textLength=\"29\" x=\"139\" y=\"109.9526\">p1: P</text><text fill=\"#000000\" font-family=\"sans-serif\" font-size=\"11\" lengthAdjust=\"spacingAndGlyphs\" textLength=\"38\" x=\"139\" y=\"122.7573\">p2: ~P</text><line style=\"stroke: #383838; stroke-width: 1.0;\" x1=\"134\" x2=\"166\" y1=\"93.3398\" y2=\"93.3398\"/><text fill=\"#000000\" font-family=\"sans-serif\" font-size=\"11\" lengthAdjust=\"spacingAndGlyphs\" textLength=\"30\" x=\"166\" y=\"96.6479\">ports</text><line style=\"stroke: #383838; stroke-width: 1.0;\" x1=\"196\" x2=\"228\" y1=\"93.3398\" y2=\"93.3398\"/></a><!--MD5=[60a26617385b1d2d0262a64233df1f8d]\n",
       "class E6--><a href=\"psysml:239b6b7d-2819-4aeb-bfce-341b8d8c5fb1\" target=\"_top\" title=\"psysml:239b6b7d-2819-4aeb-bfce-341b8d8c5fb1\" xlink:actuate=\"onRequest\" xlink:href=\"psysml:239b6b7d-2819-4aeb-bfce-341b8d8c5fb1\" xlink:show=\"new\" xlink:title=\"psysml:239b6b7d-2819-4aeb-bfce-341b8d8c5fb1\" xlink:type=\"simple\"><rect fill=\"#FFFFFF\" height=\"45.9375\" id=\"E6\" style=\"stroke: #383838; stroke-width: 1.5;\" width=\"66\" x=\"32\" y=\"62\"/><text fill=\"#000000\" font-family=\"sans-serif\" font-size=\"12\" font-style=\"italic\" lengthAdjust=\"spacingAndGlyphs\" textLength=\"64\" x=\"33\" y=\"78.1387\">«part def»</text><text fill=\"#000000\" font-family=\"sans-serif\" font-size=\"12\" lengthAdjust=\"spacingAndGlyphs\" textLength=\"16\" x=\"57\" y=\"92.1074\">B1</text><line style=\"stroke: #383838; stroke-width: 1.5;\" x1=\"33\" x2=\"97\" y1=\"99.9375\" y2=\"99.9375\"/></a><!--MD5=[2156ba9850f5573cc1fc38a6a4b2f02b]\n",
       "class E7--><a href=\"psysml:080adc10-96fd-4f72-8d28-a6aae1d02a34\" target=\"_top\" title=\"psysml:080adc10-96fd-4f72-8d28-a6aae1d02a34\" xlink:actuate=\"onRequest\" xlink:href=\"psysml:080adc10-96fd-4f72-8d28-a6aae1d02a34\" xlink:show=\"new\" xlink:title=\"psysml:080adc10-96fd-4f72-8d28-a6aae1d02a34\" xlink:type=\"simple\"><rect fill=\"#FFFFFF\" height=\"88.3516\" id=\"E7\" rx=\"10\" ry=\"10\" style=\"stroke: #383838; stroke-width: 1.5;\" width=\"50\" x=\"40\" y=\"189\"/><text fill=\"#000000\" font-family=\"sans-serif\" font-size=\"12\" font-style=\"italic\" lengthAdjust=\"spacingAndGlyphs\" textLength=\"40\" x=\"45\" y=\"205.1387\">«part»</text><text fill=\"#000000\" font-family=\"sans-serif\" font-size=\"12\" lengthAdjust=\"spacingAndGlyphs\" textLength=\"8\" x=\"61\" y=\"219.1074\">p</text><line style=\"stroke: #383838; stroke-width: 1.5;\" x1=\"41\" x2=\"89\" y1=\"226.9375\" y2=\"226.9375\"/><text fill=\"#000000\" font-family=\"sans-serif\" font-size=\"11\" lengthAdjust=\"spacingAndGlyphs\" textLength=\"29\" x=\"46\" y=\"257.9526\">p1: P</text><text fill=\"#000000\" font-family=\"sans-serif\" font-size=\"11\" lengthAdjust=\"spacingAndGlyphs\" textLength=\"38\" x=\"46\" y=\"270.7573\">p2: ~P</text><line style=\"stroke: #383838; stroke-width: 1.0;\" x1=\"41\" x2=\"50\" y1=\"241.3398\" y2=\"241.3398\"/><text fill=\"#000000\" font-family=\"sans-serif\" font-size=\"11\" lengthAdjust=\"spacingAndGlyphs\" textLength=\"30\" x=\"50\" y=\"244.6479\">ports</text><line style=\"stroke: #383838; stroke-width: 1.0;\" x1=\"80\" x2=\"89\" y1=\"241.3398\" y2=\"241.3398\"/></a><!--MD5=[3f50a3473f1dfb74d3f76443e03635af]\n",
       "reverse link E6 to E7--><a href=\"psysml:06665d43-130c-4b8a-bdfd-d93e6351f975\" target=\"_top\" title=\"psysml:06665d43-130c-4b8a-bdfd-d93e6351f975\" xlink:actuate=\"onRequest\" xlink:href=\"psysml:06665d43-130c-4b8a-bdfd-d93e6351f975\" xlink:show=\"new\" xlink:title=\"psysml:06665d43-130c-4b8a-bdfd-d93e6351f975\" xlink:type=\"simple\"><path d=\"M65,121.25 C65,141.54 65,167.2 65,188.71 \" fill=\"none\" id=\"E6&lt;-E7\" style=\"stroke: #383838; stroke-width: 1.0;\"/><polygon fill=\"#383838\" points=\"65,108.17,61,114.17,65,120.17,69,114.17,65,108.17\" style=\"stroke: #383838; stroke-width: 1.0;\"/></a><!--MD5=[d5a85d6ea4a2d30e0bb393eef0c9388d]\n",
       "@startuml\r\n",
       " skinparam monochrome true\r\n",
       "skinparam classbackgroundcolor white\r\n",
       "skinparam shadowing false\r\n",
       "skinparam wrapWidth 300\r\n",
       "hide circle\r\n",
       "\r\n",
       "package \"ConjugationTest\" as E1  [[psysml:56f2a3b4-cc43-4fa3-8695-199f33536b50 ]]  {\r\n",
       "comp def \"P\" as E2  <<(T,blue)port def>> [[psysml:c0a3bc73-93c5-4b4d-b763-5833239b73fd ]] {\r\n",
       "}\r\n",
       "comp def \"B\" as E3  <<(T,blue)part def>> [[psysml:5cf63d0b-bb26-43ea-8091-2694cfd07b61 ]] {\r\n",
       "- - ports - -\r\n",
       "p1: P\r\n",
       "p2: ~P\r\n",
       "}\r\n",
       "comp def \"A\" as E4  <<(T,blue)connection def>> [[psysml:c95e8ce0-7583-4d42-8de3-1e3c8277134a ]] {\r\n",
       "- - ports - -\r\n",
       "p1: P\r\n",
       "p2: ~P\r\n",
       "}\r\n",
       "comp def \"I\" as E5  <<(T,blue)interface def>> [[psysml:3dca2d5e-c062-4427-93b4-bcb55890dd40 ]] {\r\n",
       "- - ports - -\r\n",
       "p1: P\r\n",
       "p2: ~P\r\n",
       "}\r\n",
       "comp def \"B1\" as E6  <<(T,blue)part def>> [[psysml:239b6b7d-2819-4aeb-bfce-341b8d8c5fb1 ]] {\r\n",
       "}\r\n",
       "comp usage \"p\" as E7  <<(T,blue)part>> [[psysml:080adc10-96fd-4f72-8d28-a6aae1d02a34 ]] {\r\n",
       "- - ports - -\r\n",
       "p1: P\r\n",
       "p2: ~P\r\n",
       "}\r\n",
       "E6 *- - E7 [[psysml:06665d43-130c-4b8a-bdfd-d93e6351f975 ]] \r\n",
       "}\r\n",
       "@enduml\r\n",
       "\n",
       "PlantUML version 1.2020.13(Sat Jun 13 12:26:38 UTC 2020)\n",
       "(EPL source distribution)\n",
       "Java Runtime: OpenJDK Runtime Environment\n",
       "JVM: OpenJDK 64-Bit Server VM\n",
       "Default Encoding: UTF-8\n",
       "Language: en\n",
       "Country: null\n",
       "--></g></svg>"
      ]
     },
     "execution_count": 8,
     "metadata": {},
     "output_type": "execute_result"
    }
   ],
   "source": [
    "%viz --style=\"COMPTREE\" --view=\"MIXED\" \"ConjugationTest\""
   ]
  },
  {
   "cell_type": "code",
   "execution_count": 9,
   "id": "6f3a4ab2",
   "metadata": {
    "execution": {
     "iopub.execute_input": "2021-04-20T07:00:12.576372Z",
     "iopub.status.busy": "2021-04-20T07:00:12.575850Z",
     "iopub.status.idle": "2021-04-20T07:00:12.712061Z",
     "shell.execute_reply": "2021-04-20T07:00:12.712398Z"
    }
   },
   "outputs": [
    {
     "data": {
      "image/svg+xml": [
       "<?xml version=\"1.0\" encoding=\"UTF-8\" standalone=\"no\"?><svg xmlns=\"http://www.w3.org/2000/svg\" xmlns:xlink=\"http://www.w3.org/1999/xlink\" contentScriptType=\"application/ecmascript\" contentStyleType=\"text/css\" height=\"305px\" preserveAspectRatio=\"none\" style=\"width:614px;height:305px;\" version=\"1.1\" viewBox=\"0 0 614 305\" width=\"614px\" zoomAndPan=\"magnify\"><defs/><g><!--MD5=[fbc87193dbaf4d95561dea2c320d4a47]\n",
       "cluster E1--><a href=\"psysml:56f2a3b4-cc43-4fa3-8695-199f33536b50\" target=\"_top\" title=\"psysml:56f2a3b4-cc43-4fa3-8695-199f33536b50\" xlink:actuate=\"onRequest\" xlink:href=\"psysml:56f2a3b4-cc43-4fa3-8695-199f33536b50\" xlink:show=\"new\" xlink:title=\"psysml:56f2a3b4-cc43-4fa3-8695-199f33536b50\" xlink:type=\"simple\"><polygon fill=\"#FFFFFF\" points=\"16,6,151,6,158,28.2969,592,28.2969,592,293,16,293,16,6\" style=\"stroke: #000000; stroke-width: 1.5;\"/><line style=\"stroke: #000000; stroke-width: 1.5;\" x1=\"16\" x2=\"158\" y1=\"28.2969\" y2=\"28.2969\"/><text fill=\"#000000\" font-family=\"sans-serif\" font-size=\"14\" font-weight=\"bold\" lengthAdjust=\"spacingAndGlyphs\" textLength=\"129\" x=\"20\" y=\"20.9951\">ConjugationTest</text></a><!--MD5=[b4997ac47864f28c2f74865a473b2911]\n",
       "class E2--><a href=\"psysml:c0a3bc73-93c5-4b4d-b763-5833239b73fd\" target=\"_top\" title=\"psysml:c0a3bc73-93c5-4b4d-b763-5833239b73fd\" xlink:actuate=\"onRequest\" xlink:href=\"psysml:c0a3bc73-93c5-4b4d-b763-5833239b73fd\" xlink:show=\"new\" xlink:title=\"psysml:c0a3bc73-93c5-4b4d-b763-5833239b73fd\" xlink:type=\"simple\"><rect fill=\"#FFFFFF\" height=\"45.9375\" id=\"E2\" style=\"stroke: #383838; stroke-width: 1.5;\" width=\"66\" x=\"510\" y=\"62\"/><text fill=\"#000000\" font-family=\"sans-serif\" font-size=\"12\" font-style=\"italic\" lengthAdjust=\"spacingAndGlyphs\" textLength=\"64\" x=\"511\" y=\"78.1387\">«port def»</text><text fill=\"#000000\" font-family=\"sans-serif\" font-size=\"12\" lengthAdjust=\"spacingAndGlyphs\" textLength=\"8\" x=\"539\" y=\"92.1074\">P</text><line style=\"stroke: #383838; stroke-width: 1.5;\" x1=\"511\" x2=\"575\" y1=\"99.9375\" y2=\"99.9375\"/></a><!--MD5=[09b614a08d8cba4a07c9adeb5e0fee81]\n",
       "class E3--><a href=\"psysml:5cf63d0b-bb26-43ea-8091-2694cfd07b61\" target=\"_top\" title=\"psysml:5cf63d0b-bb26-43ea-8091-2694cfd07b61\" xlink:actuate=\"onRequest\" xlink:href=\"psysml:5cf63d0b-bb26-43ea-8091-2694cfd07b61\" xlink:show=\"new\" xlink:title=\"psysml:5cf63d0b-bb26-43ea-8091-2694cfd07b61\" xlink:type=\"simple\"><rect fill=\"#FFFFFF\" height=\"88.3516\" id=\"E3\" style=\"stroke: #383838; stroke-width: 1.5;\" width=\"66\" x=\"409\" y=\"41\"/><text fill=\"#000000\" font-family=\"sans-serif\" font-size=\"12\" font-style=\"italic\" lengthAdjust=\"spacingAndGlyphs\" textLength=\"64\" x=\"410\" y=\"57.1387\">«part def»</text><text fill=\"#000000\" font-family=\"sans-serif\" font-size=\"12\" lengthAdjust=\"spacingAndGlyphs\" textLength=\"8\" x=\"438\" y=\"71.1074\">B</text><line style=\"stroke: #383838; stroke-width: 1.5;\" x1=\"410\" x2=\"474\" y1=\"78.9375\" y2=\"78.9375\"/><text fill=\"#000000\" font-family=\"sans-serif\" font-size=\"11\" lengthAdjust=\"spacingAndGlyphs\" textLength=\"29\" x=\"415\" y=\"109.9526\">p1: P</text><text fill=\"#000000\" font-family=\"sans-serif\" font-size=\"11\" lengthAdjust=\"spacingAndGlyphs\" textLength=\"38\" x=\"415\" y=\"122.7573\">p2: ~P</text><line style=\"stroke: #383838; stroke-width: 1.0;\" x1=\"410\" x2=\"427\" y1=\"93.3398\" y2=\"93.3398\"/><text fill=\"#000000\" font-family=\"sans-serif\" font-size=\"11\" lengthAdjust=\"spacingAndGlyphs\" textLength=\"30\" x=\"427\" y=\"96.6479\">ports</text><line style=\"stroke: #383838; stroke-width: 1.0;\" x1=\"457\" x2=\"474\" y1=\"93.3398\" y2=\"93.3398\"/></a><!--MD5=[60a26617385b1d2d0262a64233df1f8d]\n",
       "class E6--><a href=\"psysml:c95e8ce0-7583-4d42-8de3-1e3c8277134a\" target=\"_top\" title=\"psysml:c95e8ce0-7583-4d42-8de3-1e3c8277134a\" xlink:actuate=\"onRequest\" xlink:href=\"psysml:c95e8ce0-7583-4d42-8de3-1e3c8277134a\" xlink:show=\"new\" xlink:title=\"psysml:c95e8ce0-7583-4d42-8de3-1e3c8277134a\" xlink:type=\"simple\"><rect fill=\"#FFFFFF\" height=\"88.3516\" id=\"E6\" style=\"stroke: #383838; stroke-width: 1.5;\" width=\"110\" x=\"264\" y=\"41\"/><text fill=\"#000000\" font-family=\"sans-serif\" font-size=\"12\" font-style=\"italic\" lengthAdjust=\"spacingAndGlyphs\" textLength=\"108\" x=\"265\" y=\"57.1387\">«connection def»</text><text fill=\"#000000\" font-family=\"sans-serif\" font-size=\"12\" lengthAdjust=\"spacingAndGlyphs\" textLength=\"8\" x=\"315\" y=\"71.1074\">A</text><line style=\"stroke: #383838; stroke-width: 1.5;\" x1=\"265\" x2=\"373\" y1=\"78.9375\" y2=\"78.9375\"/><text fill=\"#000000\" font-family=\"sans-serif\" font-size=\"11\" lengthAdjust=\"spacingAndGlyphs\" textLength=\"29\" x=\"270\" y=\"109.9526\">p1: P</text><text fill=\"#000000\" font-family=\"sans-serif\" font-size=\"11\" lengthAdjust=\"spacingAndGlyphs\" textLength=\"38\" x=\"270\" y=\"122.7573\">p2: ~P</text><line style=\"stroke: #383838; stroke-width: 1.0;\" x1=\"265\" x2=\"304\" y1=\"93.3398\" y2=\"93.3398\"/><text fill=\"#000000\" font-family=\"sans-serif\" font-size=\"11\" lengthAdjust=\"spacingAndGlyphs\" textLength=\"30\" x=\"304\" y=\"96.6479\">ports</text><line style=\"stroke: #383838; stroke-width: 1.0;\" x1=\"334\" x2=\"373\" y1=\"93.3398\" y2=\"93.3398\"/></a><!--MD5=[fd4143e9d270a159db93a4ea2a975926]\n",
       "class E9--><a href=\"psysml:3dca2d5e-c062-4427-93b4-bcb55890dd40\" target=\"_top\" title=\"psysml:3dca2d5e-c062-4427-93b4-bcb55890dd40\" xlink:actuate=\"onRequest\" xlink:href=\"psysml:3dca2d5e-c062-4427-93b4-bcb55890dd40\" xlink:show=\"new\" xlink:title=\"psysml:3dca2d5e-c062-4427-93b4-bcb55890dd40\" xlink:type=\"simple\"><rect fill=\"#FFFFFF\" height=\"88.3516\" id=\"E9\" style=\"stroke: #383838; stroke-width: 1.5;\" width=\"96\" x=\"133\" y=\"41\"/><text fill=\"#000000\" font-family=\"sans-serif\" font-size=\"12\" font-style=\"italic\" lengthAdjust=\"spacingAndGlyphs\" textLength=\"94\" x=\"134\" y=\"57.1387\">«interface def»</text><text fill=\"#000000\" font-family=\"sans-serif\" font-size=\"12\" lengthAdjust=\"spacingAndGlyphs\" textLength=\"3\" x=\"179.5\" y=\"71.1074\">I</text><line style=\"stroke: #383838; stroke-width: 1.5;\" x1=\"134\" x2=\"228\" y1=\"78.9375\" y2=\"78.9375\"/><text fill=\"#000000\" font-family=\"sans-serif\" font-size=\"11\" lengthAdjust=\"spacingAndGlyphs\" textLength=\"29\" x=\"139\" y=\"109.9526\">p1: P</text><text fill=\"#000000\" font-family=\"sans-serif\" font-size=\"11\" lengthAdjust=\"spacingAndGlyphs\" textLength=\"38\" x=\"139\" y=\"122.7573\">p2: ~P</text><line style=\"stroke: #383838; stroke-width: 1.0;\" x1=\"134\" x2=\"166\" y1=\"93.3398\" y2=\"93.3398\"/><text fill=\"#000000\" font-family=\"sans-serif\" font-size=\"11\" lengthAdjust=\"spacingAndGlyphs\" textLength=\"30\" x=\"166\" y=\"96.6479\">ports</text><line style=\"stroke: #383838; stroke-width: 1.0;\" x1=\"196\" x2=\"228\" y1=\"93.3398\" y2=\"93.3398\"/></a><!--MD5=[49a0ec8f00dab7302a31f22d0f0fe584]\n",
       "class E12--><a href=\"psysml:239b6b7d-2819-4aeb-bfce-341b8d8c5fb1\" target=\"_top\" title=\"psysml:239b6b7d-2819-4aeb-bfce-341b8d8c5fb1\" xlink:actuate=\"onRequest\" xlink:href=\"psysml:239b6b7d-2819-4aeb-bfce-341b8d8c5fb1\" xlink:show=\"new\" xlink:title=\"psysml:239b6b7d-2819-4aeb-bfce-341b8d8c5fb1\" xlink:type=\"simple\"><rect fill=\"#FFFFFF\" height=\"45.9375\" id=\"E12\" style=\"stroke: #383838; stroke-width: 1.5;\" width=\"66\" x=\"32\" y=\"62\"/><text fill=\"#000000\" font-family=\"sans-serif\" font-size=\"12\" font-style=\"italic\" lengthAdjust=\"spacingAndGlyphs\" textLength=\"64\" x=\"33\" y=\"78.1387\">«part def»</text><text fill=\"#000000\" font-family=\"sans-serif\" font-size=\"12\" lengthAdjust=\"spacingAndGlyphs\" textLength=\"16\" x=\"57\" y=\"92.1074\">B1</text><line style=\"stroke: #383838; stroke-width: 1.5;\" x1=\"33\" x2=\"97\" y1=\"99.9375\" y2=\"99.9375\"/></a><!--MD5=[ee3c913d1a06f366521f9ef512b67efe]\n",
       "class E13--><a href=\"psysml:080adc10-96fd-4f72-8d28-a6aae1d02a34\" target=\"_top\" title=\"psysml:080adc10-96fd-4f72-8d28-a6aae1d02a34\" xlink:actuate=\"onRequest\" xlink:href=\"psysml:080adc10-96fd-4f72-8d28-a6aae1d02a34\" xlink:show=\"new\" xlink:title=\"psysml:080adc10-96fd-4f72-8d28-a6aae1d02a34\" xlink:type=\"simple\"><rect fill=\"#FFFFFF\" height=\"88.3516\" id=\"E13\" rx=\"10\" ry=\"10\" style=\"stroke: #383838; stroke-width: 1.5;\" width=\"50\" x=\"40\" y=\"189\"/><text fill=\"#000000\" font-family=\"sans-serif\" font-size=\"12\" font-style=\"italic\" lengthAdjust=\"spacingAndGlyphs\" textLength=\"40\" x=\"45\" y=\"205.1387\">«part»</text><text fill=\"#000000\" font-family=\"sans-serif\" font-size=\"12\" lengthAdjust=\"spacingAndGlyphs\" textLength=\"8\" x=\"61\" y=\"219.1074\">p</text><line style=\"stroke: #383838; stroke-width: 1.5;\" x1=\"41\" x2=\"89\" y1=\"226.9375\" y2=\"226.9375\"/><text fill=\"#000000\" font-family=\"sans-serif\" font-size=\"11\" lengthAdjust=\"spacingAndGlyphs\" textLength=\"29\" x=\"46\" y=\"257.9526\">p1: P</text><text fill=\"#000000\" font-family=\"sans-serif\" font-size=\"11\" lengthAdjust=\"spacingAndGlyphs\" textLength=\"38\" x=\"46\" y=\"270.7573\">p2: ~P</text><line style=\"stroke: #383838; stroke-width: 1.0;\" x1=\"41\" x2=\"50\" y1=\"241.3398\" y2=\"241.3398\"/><text fill=\"#000000\" font-family=\"sans-serif\" font-size=\"11\" lengthAdjust=\"spacingAndGlyphs\" textLength=\"30\" x=\"50\" y=\"244.6479\">ports</text><line style=\"stroke: #383838; stroke-width: 1.0;\" x1=\"80\" x2=\"89\" y1=\"241.3398\" y2=\"241.3398\"/></a><!--MD5=[062ed86c389d1a88f61c6380d0491e17]\n",
       "reverse link E12 to E13--><a href=\"psysml:06665d43-130c-4b8a-bdfd-d93e6351f975\" target=\"_top\" title=\"psysml:06665d43-130c-4b8a-bdfd-d93e6351f975\" xlink:actuate=\"onRequest\" xlink:href=\"psysml:06665d43-130c-4b8a-bdfd-d93e6351f975\" xlink:show=\"new\" xlink:title=\"psysml:06665d43-130c-4b8a-bdfd-d93e6351f975\" xlink:type=\"simple\"><path d=\"M65,121.25 C65,141.54 65,167.2 65,188.71 \" fill=\"none\" id=\"E12&lt;-E13\" style=\"stroke: #383838; stroke-width: 1.0;\"/><polygon fill=\"#383838\" points=\"65,108.17,61,114.17,65,120.17,69,114.17,65,108.17\" style=\"stroke: #383838; stroke-width: 1.0;\"/></a><!--MD5=[831f2511fbd4ae6365f60fcd019941ab]\n",
       "@startuml\r\n",
       "skinparam linetype polyline\r\n",
       "skinparam monochrome true\r\n",
       "skinparam classbackgroundcolor white\r\n",
       "skinparam shadowing false\r\n",
       "skinparam wrapWidth 300\r\n",
       "hide circle\r\n",
       "\r\n",
       "package \"ConjugationTest\" as E1  [[psysml:56f2a3b4-cc43-4fa3-8695-199f33536b50 ]]  {\r\n",
       "comp def \"P\" as E2  <<(T,blue)port def>> [[psysml:c0a3bc73-93c5-4b4d-b763-5833239b73fd ]] {\r\n",
       "}\r\n",
       "comp def \"B\" as E3  <<(T,blue)part def>> [[psysml:5cf63d0b-bb26-43ea-8091-2694cfd07b61 ]] {\r\n",
       "- - ports - -\r\n",
       "p1: P\r\n",
       "p2: ~P\r\n",
       "}\r\n",
       "comp def \"A\" as E6  <<(T,blue)connection def>> [[psysml:c95e8ce0-7583-4d42-8de3-1e3c8277134a ]] {\r\n",
       "- - ports - -\r\n",
       "p1: P\r\n",
       "p2: ~P\r\n",
       "}\r\n",
       "comp def \"I\" as E9  <<(T,blue)interface def>> [[psysml:3dca2d5e-c062-4427-93b4-bcb55890dd40 ]] {\r\n",
       "- - ports - -\r\n",
       "p1: P\r\n",
       "p2: ~P\r\n",
       "}\r\n",
       "comp def \"B1\" as E12  <<(T,blue)part def>> [[psysml:239b6b7d-2819-4aeb-bfce-341b8d8c5fb1 ]] {\r\n",
       "}\r\n",
       "comp usage \"p\" as E13  <<(T,blue)part>> [[psysml:080adc10-96fd-4f72-8d28-a6aae1d02a34 ]] {\r\n",
       "- - ports - -\r\n",
       "p1: P\r\n",
       "p2: ~P\r\n",
       "}\r\n",
       "E12 *- - E13 [[psysml:06665d43-130c-4b8a-bdfd-d93e6351f975 ]] \r\n",
       "}\r\n",
       "@enduml\r\n",
       "\n",
       "PlantUML version 1.2020.13(Sat Jun 13 12:26:38 UTC 2020)\n",
       "(EPL source distribution)\n",
       "Java Runtime: OpenJDK Runtime Environment\n",
       "JVM: OpenJDK 64-Bit Server VM\n",
       "Default Encoding: UTF-8\n",
       "Language: en\n",
       "Country: null\n",
       "--></g></svg>"
      ]
     },
     "execution_count": 9,
     "metadata": {},
     "output_type": "execute_result"
    }
   ],
   "source": [
    "%viz --style=\"POLYLINE\" --view=\"Default\" \"ConjugationTest\""
   ]
  },
  {
   "cell_type": "code",
   "execution_count": 10,
   "id": "26de7baa",
   "metadata": {
    "execution": {
     "iopub.execute_input": "2021-04-20T07:00:12.771535Z",
     "iopub.status.busy": "2021-04-20T07:00:12.771135Z",
     "iopub.status.idle": "2021-04-20T07:00:12.885227Z",
     "shell.execute_reply": "2021-04-20T07:00:12.883667Z"
    }
   },
   "outputs": [
    {
     "data": {
      "image/svg+xml": [
       "<?xml version=\"1.0\" encoding=\"UTF-8\" standalone=\"no\"?><svg xmlns=\"http://www.w3.org/2000/svg\" xmlns:xlink=\"http://www.w3.org/1999/xlink\" contentScriptType=\"application/ecmascript\" contentStyleType=\"text/css\" height=\"305px\" preserveAspectRatio=\"none\" style=\"width:614px;height:305px;\" version=\"1.1\" viewBox=\"0 0 614 305\" width=\"614px\" zoomAndPan=\"magnify\"><defs/><g><!--MD5=[fbc87193dbaf4d95561dea2c320d4a47]\n",
       "cluster E1--><a href=\"psysml:56f2a3b4-cc43-4fa3-8695-199f33536b50\" target=\"_top\" title=\"psysml:56f2a3b4-cc43-4fa3-8695-199f33536b50\" xlink:actuate=\"onRequest\" xlink:href=\"psysml:56f2a3b4-cc43-4fa3-8695-199f33536b50\" xlink:show=\"new\" xlink:title=\"psysml:56f2a3b4-cc43-4fa3-8695-199f33536b50\" xlink:type=\"simple\"><polygon fill=\"#FFFFFF\" points=\"16,6,151,6,158,28.2969,592,28.2969,592,293,16,293,16,6\" style=\"stroke: #000000; stroke-width: 1.5;\"/><line style=\"stroke: #000000; stroke-width: 1.5;\" x1=\"16\" x2=\"158\" y1=\"28.2969\" y2=\"28.2969\"/><text fill=\"#000000\" font-family=\"sans-serif\" font-size=\"14\" font-weight=\"bold\" lengthAdjust=\"spacingAndGlyphs\" textLength=\"129\" x=\"20\" y=\"20.9951\">ConjugationTest</text></a><!--MD5=[b4997ac47864f28c2f74865a473b2911]\n",
       "class E2--><a href=\"psysml:c0a3bc73-93c5-4b4d-b763-5833239b73fd\" target=\"_top\" title=\"psysml:c0a3bc73-93c5-4b4d-b763-5833239b73fd\" xlink:actuate=\"onRequest\" xlink:href=\"psysml:c0a3bc73-93c5-4b4d-b763-5833239b73fd\" xlink:show=\"new\" xlink:title=\"psysml:c0a3bc73-93c5-4b4d-b763-5833239b73fd\" xlink:type=\"simple\"><rect fill=\"#FFFFFF\" height=\"45.9375\" id=\"E2\" style=\"stroke: #383838; stroke-width: 1.5;\" width=\"66\" x=\"510\" y=\"62\"/><text fill=\"#000000\" font-family=\"sans-serif\" font-size=\"12\" font-style=\"italic\" lengthAdjust=\"spacingAndGlyphs\" textLength=\"64\" x=\"511\" y=\"78.1387\">«port def»</text><text fill=\"#000000\" font-family=\"sans-serif\" font-size=\"12\" lengthAdjust=\"spacingAndGlyphs\" textLength=\"8\" x=\"539\" y=\"92.1074\">P</text><line style=\"stroke: #383838; stroke-width: 1.5;\" x1=\"511\" x2=\"575\" y1=\"99.9375\" y2=\"99.9375\"/></a><!--MD5=[09b614a08d8cba4a07c9adeb5e0fee81]\n",
       "class E3--><a href=\"psysml:5cf63d0b-bb26-43ea-8091-2694cfd07b61\" target=\"_top\" title=\"psysml:5cf63d0b-bb26-43ea-8091-2694cfd07b61\" xlink:actuate=\"onRequest\" xlink:href=\"psysml:5cf63d0b-bb26-43ea-8091-2694cfd07b61\" xlink:show=\"new\" xlink:title=\"psysml:5cf63d0b-bb26-43ea-8091-2694cfd07b61\" xlink:type=\"simple\"><rect fill=\"#FFFFFF\" height=\"88.3516\" id=\"E3\" style=\"stroke: #383838; stroke-width: 1.5;\" width=\"66\" x=\"409\" y=\"41\"/><text fill=\"#000000\" font-family=\"sans-serif\" font-size=\"12\" font-style=\"italic\" lengthAdjust=\"spacingAndGlyphs\" textLength=\"64\" x=\"410\" y=\"57.1387\">«part def»</text><text fill=\"#000000\" font-family=\"sans-serif\" font-size=\"12\" lengthAdjust=\"spacingAndGlyphs\" textLength=\"8\" x=\"438\" y=\"71.1074\">B</text><line style=\"stroke: #383838; stroke-width: 1.5;\" x1=\"410\" x2=\"474\" y1=\"78.9375\" y2=\"78.9375\"/><text fill=\"#000000\" font-family=\"sans-serif\" font-size=\"11\" lengthAdjust=\"spacingAndGlyphs\" textLength=\"29\" x=\"415\" y=\"109.9526\">p1: P</text><text fill=\"#000000\" font-family=\"sans-serif\" font-size=\"11\" lengthAdjust=\"spacingAndGlyphs\" textLength=\"38\" x=\"415\" y=\"122.7573\">p2: ~P</text><line style=\"stroke: #383838; stroke-width: 1.0;\" x1=\"410\" x2=\"427\" y1=\"93.3398\" y2=\"93.3398\"/><text fill=\"#000000\" font-family=\"sans-serif\" font-size=\"11\" lengthAdjust=\"spacingAndGlyphs\" textLength=\"30\" x=\"427\" y=\"96.6479\">ports</text><line style=\"stroke: #383838; stroke-width: 1.0;\" x1=\"457\" x2=\"474\" y1=\"93.3398\" y2=\"93.3398\"/></a><!--MD5=[60a26617385b1d2d0262a64233df1f8d]\n",
       "class E6--><a href=\"psysml:c95e8ce0-7583-4d42-8de3-1e3c8277134a\" target=\"_top\" title=\"psysml:c95e8ce0-7583-4d42-8de3-1e3c8277134a\" xlink:actuate=\"onRequest\" xlink:href=\"psysml:c95e8ce0-7583-4d42-8de3-1e3c8277134a\" xlink:show=\"new\" xlink:title=\"psysml:c95e8ce0-7583-4d42-8de3-1e3c8277134a\" xlink:type=\"simple\"><rect fill=\"#FFFFFF\" height=\"88.3516\" id=\"E6\" style=\"stroke: #383838; stroke-width: 1.5;\" width=\"110\" x=\"264\" y=\"41\"/><text fill=\"#000000\" font-family=\"sans-serif\" font-size=\"12\" font-style=\"italic\" lengthAdjust=\"spacingAndGlyphs\" textLength=\"108\" x=\"265\" y=\"57.1387\">«connection def»</text><text fill=\"#000000\" font-family=\"sans-serif\" font-size=\"12\" lengthAdjust=\"spacingAndGlyphs\" textLength=\"8\" x=\"315\" y=\"71.1074\">A</text><line style=\"stroke: #383838; stroke-width: 1.5;\" x1=\"265\" x2=\"373\" y1=\"78.9375\" y2=\"78.9375\"/><text fill=\"#000000\" font-family=\"sans-serif\" font-size=\"11\" lengthAdjust=\"spacingAndGlyphs\" textLength=\"29\" x=\"270\" y=\"109.9526\">p1: P</text><text fill=\"#000000\" font-family=\"sans-serif\" font-size=\"11\" lengthAdjust=\"spacingAndGlyphs\" textLength=\"38\" x=\"270\" y=\"122.7573\">p2: ~P</text><line style=\"stroke: #383838; stroke-width: 1.0;\" x1=\"265\" x2=\"304\" y1=\"93.3398\" y2=\"93.3398\"/><text fill=\"#000000\" font-family=\"sans-serif\" font-size=\"11\" lengthAdjust=\"spacingAndGlyphs\" textLength=\"30\" x=\"304\" y=\"96.6479\">ports</text><line style=\"stroke: #383838; stroke-width: 1.0;\" x1=\"334\" x2=\"373\" y1=\"93.3398\" y2=\"93.3398\"/></a><!--MD5=[fd4143e9d270a159db93a4ea2a975926]\n",
       "class E9--><a href=\"psysml:3dca2d5e-c062-4427-93b4-bcb55890dd40\" target=\"_top\" title=\"psysml:3dca2d5e-c062-4427-93b4-bcb55890dd40\" xlink:actuate=\"onRequest\" xlink:href=\"psysml:3dca2d5e-c062-4427-93b4-bcb55890dd40\" xlink:show=\"new\" xlink:title=\"psysml:3dca2d5e-c062-4427-93b4-bcb55890dd40\" xlink:type=\"simple\"><rect fill=\"#FFFFFF\" height=\"88.3516\" id=\"E9\" style=\"stroke: #383838; stroke-width: 1.5;\" width=\"96\" x=\"133\" y=\"41\"/><text fill=\"#000000\" font-family=\"sans-serif\" font-size=\"12\" font-style=\"italic\" lengthAdjust=\"spacingAndGlyphs\" textLength=\"94\" x=\"134\" y=\"57.1387\">«interface def»</text><text fill=\"#000000\" font-family=\"sans-serif\" font-size=\"12\" lengthAdjust=\"spacingAndGlyphs\" textLength=\"3\" x=\"179.5\" y=\"71.1074\">I</text><line style=\"stroke: #383838; stroke-width: 1.5;\" x1=\"134\" x2=\"228\" y1=\"78.9375\" y2=\"78.9375\"/><text fill=\"#000000\" font-family=\"sans-serif\" font-size=\"11\" lengthAdjust=\"spacingAndGlyphs\" textLength=\"29\" x=\"139\" y=\"109.9526\">p1: P</text><text fill=\"#000000\" font-family=\"sans-serif\" font-size=\"11\" lengthAdjust=\"spacingAndGlyphs\" textLength=\"38\" x=\"139\" y=\"122.7573\">p2: ~P</text><line style=\"stroke: #383838; stroke-width: 1.0;\" x1=\"134\" x2=\"166\" y1=\"93.3398\" y2=\"93.3398\"/><text fill=\"#000000\" font-family=\"sans-serif\" font-size=\"11\" lengthAdjust=\"spacingAndGlyphs\" textLength=\"30\" x=\"166\" y=\"96.6479\">ports</text><line style=\"stroke: #383838; stroke-width: 1.0;\" x1=\"196\" x2=\"228\" y1=\"93.3398\" y2=\"93.3398\"/></a><!--MD5=[49a0ec8f00dab7302a31f22d0f0fe584]\n",
       "class E12--><a href=\"psysml:239b6b7d-2819-4aeb-bfce-341b8d8c5fb1\" target=\"_top\" title=\"psysml:239b6b7d-2819-4aeb-bfce-341b8d8c5fb1\" xlink:actuate=\"onRequest\" xlink:href=\"psysml:239b6b7d-2819-4aeb-bfce-341b8d8c5fb1\" xlink:show=\"new\" xlink:title=\"psysml:239b6b7d-2819-4aeb-bfce-341b8d8c5fb1\" xlink:type=\"simple\"><rect fill=\"#FFFFFF\" height=\"45.9375\" id=\"E12\" style=\"stroke: #383838; stroke-width: 1.5;\" width=\"66\" x=\"32\" y=\"62\"/><text fill=\"#000000\" font-family=\"sans-serif\" font-size=\"12\" font-style=\"italic\" lengthAdjust=\"spacingAndGlyphs\" textLength=\"64\" x=\"33\" y=\"78.1387\">«part def»</text><text fill=\"#000000\" font-family=\"sans-serif\" font-size=\"12\" lengthAdjust=\"spacingAndGlyphs\" textLength=\"16\" x=\"57\" y=\"92.1074\">B1</text><line style=\"stroke: #383838; stroke-width: 1.5;\" x1=\"33\" x2=\"97\" y1=\"99.9375\" y2=\"99.9375\"/></a><!--MD5=[ee3c913d1a06f366521f9ef512b67efe]\n",
       "class E13--><a href=\"psysml:080adc10-96fd-4f72-8d28-a6aae1d02a34\" target=\"_top\" title=\"psysml:080adc10-96fd-4f72-8d28-a6aae1d02a34\" xlink:actuate=\"onRequest\" xlink:href=\"psysml:080adc10-96fd-4f72-8d28-a6aae1d02a34\" xlink:show=\"new\" xlink:title=\"psysml:080adc10-96fd-4f72-8d28-a6aae1d02a34\" xlink:type=\"simple\"><rect fill=\"#FFFFFF\" height=\"88.3516\" id=\"E13\" rx=\"10\" ry=\"10\" style=\"stroke: #383838; stroke-width: 1.5;\" width=\"50\" x=\"40\" y=\"189\"/><text fill=\"#000000\" font-family=\"sans-serif\" font-size=\"12\" font-style=\"italic\" lengthAdjust=\"spacingAndGlyphs\" textLength=\"40\" x=\"45\" y=\"205.1387\">«part»</text><text fill=\"#000000\" font-family=\"sans-serif\" font-size=\"12\" lengthAdjust=\"spacingAndGlyphs\" textLength=\"8\" x=\"61\" y=\"219.1074\">p</text><line style=\"stroke: #383838; stroke-width: 1.5;\" x1=\"41\" x2=\"89\" y1=\"226.9375\" y2=\"226.9375\"/><text fill=\"#000000\" font-family=\"sans-serif\" font-size=\"11\" lengthAdjust=\"spacingAndGlyphs\" textLength=\"29\" x=\"46\" y=\"257.9526\">p1: P</text><text fill=\"#000000\" font-family=\"sans-serif\" font-size=\"11\" lengthAdjust=\"spacingAndGlyphs\" textLength=\"38\" x=\"46\" y=\"270.7573\">p2: ~P</text><line style=\"stroke: #383838; stroke-width: 1.0;\" x1=\"41\" x2=\"50\" y1=\"241.3398\" y2=\"241.3398\"/><text fill=\"#000000\" font-family=\"sans-serif\" font-size=\"11\" lengthAdjust=\"spacingAndGlyphs\" textLength=\"30\" x=\"50\" y=\"244.6479\">ports</text><line style=\"stroke: #383838; stroke-width: 1.0;\" x1=\"80\" x2=\"89\" y1=\"241.3398\" y2=\"241.3398\"/></a><!--MD5=[062ed86c389d1a88f61c6380d0491e17]\n",
       "reverse link E12 to E13--><a href=\"psysml:06665d43-130c-4b8a-bdfd-d93e6351f975\" target=\"_top\" title=\"psysml:06665d43-130c-4b8a-bdfd-d93e6351f975\" xlink:actuate=\"onRequest\" xlink:href=\"psysml:06665d43-130c-4b8a-bdfd-d93e6351f975\" xlink:show=\"new\" xlink:title=\"psysml:06665d43-130c-4b8a-bdfd-d93e6351f975\" xlink:type=\"simple\"><path d=\"M65,121.25 C65,141.54 65,167.2 65,188.71 \" fill=\"none\" id=\"E12&lt;-E13\" style=\"stroke: #383838; stroke-width: 1.0;\"/><polygon fill=\"#383838\" points=\"65,108.17,61,114.17,65,120.17,69,114.17,65,108.17\" style=\"stroke: #383838; stroke-width: 1.0;\"/></a><!--MD5=[831f2511fbd4ae6365f60fcd019941ab]\n",
       "@startuml\r\n",
       "skinparam linetype polyline\r\n",
       "skinparam monochrome true\r\n",
       "skinparam classbackgroundcolor white\r\n",
       "skinparam shadowing false\r\n",
       "skinparam wrapWidth 300\r\n",
       "hide circle\r\n",
       "\r\n",
       "package \"ConjugationTest\" as E1  [[psysml:56f2a3b4-cc43-4fa3-8695-199f33536b50 ]]  {\r\n",
       "comp def \"P\" as E2  <<(T,blue)port def>> [[psysml:c0a3bc73-93c5-4b4d-b763-5833239b73fd ]] {\r\n",
       "}\r\n",
       "comp def \"B\" as E3  <<(T,blue)part def>> [[psysml:5cf63d0b-bb26-43ea-8091-2694cfd07b61 ]] {\r\n",
       "- - ports - -\r\n",
       "p1: P\r\n",
       "p2: ~P\r\n",
       "}\r\n",
       "comp def \"A\" as E6  <<(T,blue)connection def>> [[psysml:c95e8ce0-7583-4d42-8de3-1e3c8277134a ]] {\r\n",
       "- - ports - -\r\n",
       "p1: P\r\n",
       "p2: ~P\r\n",
       "}\r\n",
       "comp def \"I\" as E9  <<(T,blue)interface def>> [[psysml:3dca2d5e-c062-4427-93b4-bcb55890dd40 ]] {\r\n",
       "- - ports - -\r\n",
       "p1: P\r\n",
       "p2: ~P\r\n",
       "}\r\n",
       "comp def \"B1\" as E12  <<(T,blue)part def>> [[psysml:239b6b7d-2819-4aeb-bfce-341b8d8c5fb1 ]] {\r\n",
       "}\r\n",
       "comp usage \"p\" as E13  <<(T,blue)part>> [[psysml:080adc10-96fd-4f72-8d28-a6aae1d02a34 ]] {\r\n",
       "- - ports - -\r\n",
       "p1: P\r\n",
       "p2: ~P\r\n",
       "}\r\n",
       "E12 *- - E13 [[psysml:06665d43-130c-4b8a-bdfd-d93e6351f975 ]] \r\n",
       "}\r\n",
       "@enduml\r\n",
       "\n",
       "PlantUML version 1.2020.13(Sat Jun 13 12:26:38 UTC 2020)\n",
       "(EPL source distribution)\n",
       "Java Runtime: OpenJDK Runtime Environment\n",
       "JVM: OpenJDK 64-Bit Server VM\n",
       "Default Encoding: UTF-8\n",
       "Language: en\n",
       "Country: null\n",
       "--></g></svg>"
      ]
     },
     "execution_count": 10,
     "metadata": {},
     "output_type": "execute_result"
    }
   ],
   "source": [
    "%viz --style=\"POLYLINE\" --view=\"Tree\" \"ConjugationTest\""
   ]
  },
  {
   "cell_type": "code",
   "execution_count": 11,
   "id": "a7c6764f",
   "metadata": {
    "execution": {
     "iopub.execute_input": "2021-04-20T07:00:12.936894Z",
     "iopub.status.busy": "2021-04-20T07:00:12.935661Z",
     "iopub.status.idle": "2021-04-20T07:00:12.943635Z",
     "shell.execute_reply": "2021-04-20T07:00:12.943241Z"
    }
   },
   "outputs": [
    {
     "data": {
      "image/svg+xml": [
       "<?xml version=\"1.0\" encoding=\"UTF-8\" standalone=\"no\"?><svg xmlns=\"http://www.w3.org/2000/svg\" xmlns:xlink=\"http://www.w3.org/1999/xlink\" contentScriptType=\"application/ecmascript\" contentStyleType=\"text/css\" height=\"12px\" preserveAspectRatio=\"none\" style=\"width:12px;height:12px;\" version=\"1.1\" viewBox=\"0 0 12 12\" width=\"12px\" zoomAndPan=\"magnify\"><defs/><g><!--MD5=[896ac0e7a515d8dd7765a661cb4ee08b]\n",
       "@startuml\r\n",
       "skinparam linetype polyline\r\n",
       "skinparam monochrome true\r\n",
       "skinparam classbackgroundcolor white\r\n",
       "skinparam shadowing false\r\n",
       "skinparam wrapWidth 300\r\n",
       "hide circle\r\n",
       "\r\n",
       "@enduml\r\n",
       "\n",
       "PlantUML version 1.2020.13(Sat Jun 13 12:26:38 UTC 2020)\n",
       "(EPL source distribution)\n",
       "Java Runtime: OpenJDK Runtime Environment\n",
       "JVM: OpenJDK 64-Bit Server VM\n",
       "Default Encoding: UTF-8\n",
       "Language: en\n",
       "Country: null\n",
       "--></g></svg>"
      ]
     },
     "execution_count": 11,
     "metadata": {},
     "output_type": "execute_result"
    }
   ],
   "source": [
    "%viz --style=\"POLYLINE\" --view=\"State\" \"ConjugationTest\""
   ]
  },
  {
   "cell_type": "code",
   "execution_count": 12,
   "id": "77c03671",
   "metadata": {
    "execution": {
     "iopub.execute_input": "2021-04-20T07:00:12.994984Z",
     "iopub.status.busy": "2021-04-20T07:00:12.994448Z",
     "iopub.status.idle": "2021-04-20T07:00:13.045545Z",
     "shell.execute_reply": "2021-04-20T07:00:13.043864Z"
    }
   },
   "outputs": [
    {
     "data": {
      "image/svg+xml": [
       "<?xml version=\"1.0\" encoding=\"UTF-8\" standalone=\"no\"?><svg xmlns=\"http://www.w3.org/2000/svg\" xmlns:xlink=\"http://www.w3.org/1999/xlink\" contentScriptType=\"application/ecmascript\" contentStyleType=\"text/css\" height=\"246px\" preserveAspectRatio=\"none\" style=\"width:739px;height:246px;\" version=\"1.1\" viewBox=\"0 0 739 246\" width=\"739px\" zoomAndPan=\"magnify\"><defs/><g><!--MD5=[fbc87193dbaf4d95561dea2c320d4a47]\n",
       "cluster E1--><a href=\"psysml:56f2a3b4-cc43-4fa3-8695-199f33536b50\" target=\"_top\" title=\"psysml:56f2a3b4-cc43-4fa3-8695-199f33536b50\" xlink:actuate=\"onRequest\" xlink:href=\"psysml:56f2a3b4-cc43-4fa3-8695-199f33536b50\" xlink:show=\"new\" xlink:title=\"psysml:56f2a3b4-cc43-4fa3-8695-199f33536b50\" xlink:type=\"simple\"><polygon fill=\"#FFFFFF\" points=\"16,6,151,6,158,28.2969,717,28.2969,717,234.5,16,234.5,16,6\" style=\"stroke: #000000; stroke-width: 1.5;\"/><line style=\"stroke: #000000; stroke-width: 1.5;\" x1=\"16\" x2=\"158\" y1=\"28.2969\" y2=\"28.2969\"/><text fill=\"#000000\" font-family=\"sans-serif\" font-size=\"14\" font-weight=\"bold\" lengthAdjust=\"spacingAndGlyphs\" textLength=\"129\" x=\"20\" y=\"20.9951\">ConjugationTest</text></a><!--MD5=[d5e69f78d87373223dbae638b30a9c99]\n",
       "cluster E3--><a href=\"psysml:5cf63d0b-bb26-43ea-8091-2694cfd07b61\" target=\"_top\" title=\"psysml:5cf63d0b-bb26-43ea-8091-2694cfd07b61\" xlink:actuate=\"onRequest\" xlink:href=\"psysml:5cf63d0b-bb26-43ea-8091-2694cfd07b61\" xlink:show=\"new\" xlink:title=\"psysml:5cf63d0b-bb26-43ea-8091-2694cfd07b61\" xlink:type=\"simple\"><rect fill=\"#FFFFFF\" height=\"88.5\" id=\"E3\" style=\"stroke: #383838; stroke-width: 1.5;\" width=\"83\" x=\"577\" y=\"114\"/><rect fill=\"#F8F8F8\" height=\"37.9375\" style=\"stroke: #383838; stroke-width: 1.5;\" width=\"83\" x=\"577\" y=\"114\"/><text fill=\"#000000\" font-family=\"sans-serif\" font-size=\"12\" font-style=\"italic\" lengthAdjust=\"spacingAndGlyphs\" textLength=\"64\" x=\"586.5\" y=\"130.1387\">«part def»</text><text fill=\"#000000\" font-family=\"sans-serif\" font-size=\"12\" lengthAdjust=\"spacingAndGlyphs\" textLength=\"8\" x=\"614.5\" y=\"144.1074\">B</text></a><!--MD5=[14e3b0961a2654348d326746436168a1]\n",
       "cluster E6--><a href=\"psysml:c95e8ce0-7583-4d42-8de3-1e3c8277134a\" target=\"_top\" title=\"psysml:c95e8ce0-7583-4d42-8de3-1e3c8277134a\" xlink:actuate=\"onRequest\" xlink:href=\"psysml:c95e8ce0-7583-4d42-8de3-1e3c8277134a\" xlink:show=\"new\" xlink:title=\"psysml:c95e8ce0-7583-4d42-8de3-1e3c8277134a\" xlink:type=\"simple\"><rect fill=\"#FFFFFF\" height=\"88.5\" id=\"E6\" style=\"stroke: #383838; stroke-width: 1.5;\" width=\"150\" x=\"423\" y=\"114\"/><rect fill=\"#F8F8F8\" height=\"37.9375\" style=\"stroke: #383838; stroke-width: 1.5;\" width=\"150\" x=\"423\" y=\"114\"/><text fill=\"#000000\" font-family=\"sans-serif\" font-size=\"12\" font-style=\"italic\" lengthAdjust=\"spacingAndGlyphs\" textLength=\"108\" x=\"444\" y=\"130.1387\">«connection def»</text><text fill=\"#000000\" font-family=\"sans-serif\" font-size=\"12\" lengthAdjust=\"spacingAndGlyphs\" textLength=\"8\" x=\"494\" y=\"144.1074\">A</text></a><!--MD5=[7f149f147074ac12df2cb0a7728a5fb0]\n",
       "cluster E9--><a href=\"psysml:3dca2d5e-c062-4427-93b4-bcb55890dd40\" target=\"_top\" title=\"psysml:3dca2d5e-c062-4427-93b4-bcb55890dd40\" xlink:actuate=\"onRequest\" xlink:href=\"psysml:3dca2d5e-c062-4427-93b4-bcb55890dd40\" xlink:show=\"new\" xlink:title=\"psysml:3dca2d5e-c062-4427-93b4-bcb55890dd40\" xlink:type=\"simple\"><rect fill=\"#FFFFFF\" height=\"88.5\" id=\"E9\" style=\"stroke: #383838; stroke-width: 1.5;\" width=\"141\" x=\"254\" y=\"114\"/><rect fill=\"#F8F8F8\" height=\"37.9375\" style=\"stroke: #383838; stroke-width: 1.5;\" width=\"141\" x=\"254\" y=\"114\"/><text fill=\"#000000\" font-family=\"sans-serif\" font-size=\"12\" font-style=\"italic\" lengthAdjust=\"spacingAndGlyphs\" textLength=\"94\" x=\"277.5\" y=\"130.1387\">«interface def»</text><text fill=\"#000000\" font-family=\"sans-serif\" font-size=\"12\" lengthAdjust=\"spacingAndGlyphs\" textLength=\"3\" x=\"323\" y=\"144.1074\">I</text></a><!--MD5=[47bea60c1a0ac6c1143df232041969c0]\n",
       "cluster E12--><a href=\"psysml:239b6b7d-2819-4aeb-bfce-341b8d8c5fb1\" target=\"_top\" title=\"psysml:239b6b7d-2819-4aeb-bfce-341b8d8c5fb1\" xlink:actuate=\"onRequest\" xlink:href=\"psysml:239b6b7d-2819-4aeb-bfce-341b8d8c5fb1\" xlink:show=\"new\" xlink:title=\"psysml:239b6b7d-2819-4aeb-bfce-341b8d8c5fb1\" xlink:type=\"simple\"><rect fill=\"#FFFFFF\" height=\"161.5\" id=\"E12\" style=\"stroke: #383838; stroke-width: 1.5;\" width=\"107\" x=\"120\" y=\"49\"/><rect fill=\"#F8F8F8\" height=\"37.9375\" style=\"stroke: #383838; stroke-width: 1.5;\" width=\"107\" x=\"120\" y=\"49\"/><text fill=\"#000000\" font-family=\"sans-serif\" font-size=\"12\" font-style=\"italic\" lengthAdjust=\"spacingAndGlyphs\" textLength=\"64\" x=\"141.5\" y=\"65.1387\">«part def»</text><text fill=\"#000000\" font-family=\"sans-serif\" font-size=\"12\" lengthAdjust=\"spacingAndGlyphs\" textLength=\"16\" x=\"165.5\" y=\"79.1074\">B1</text></a><!--MD5=[03104f77b71e2d8d3500c651e6e31181]\n",
       "cluster E13--><a href=\"psysml:080adc10-96fd-4f72-8d28-a6aae1d02a34\" target=\"_top\" title=\"psysml:080adc10-96fd-4f72-8d28-a6aae1d02a34\" xlink:actuate=\"onRequest\" xlink:href=\"psysml:080adc10-96fd-4f72-8d28-a6aae1d02a34\" xlink:show=\"new\" xlink:title=\"psysml:080adc10-96fd-4f72-8d28-a6aae1d02a34\" xlink:type=\"simple\"><rect fill=\"#FFFFFF\" height=\"80.5\" id=\"E13\" rx=\"10\" ry=\"10\" style=\"stroke: #383838; stroke-width: 1.5;\" width=\"83\" x=\"132\" y=\"114\"/><rect fill=\"#F8F8F8\" height=\"23.9688\" rx=\"10\" ry=\"10\" style=\"stroke: #F8F8F8; stroke-width: 1.5;\" width=\"83\" x=\"132\" y=\"114\"/><rect fill=\"#F8F8F8\" height=\"10\" style=\"stroke: #F8F8F8; stroke-width: 1.5;\" width=\"83\" x=\"132\" y=\"127.9688\"/><rect fill=\"none\" height=\"80.5\" id=\"E13\" rx=\"10\" ry=\"10\" style=\"stroke: #383838; stroke-width: 1.5;\" width=\"83\" x=\"132\" y=\"114\"/><text fill=\"#000000\" font-family=\"sans-serif\" font-size=\"12\" lengthAdjust=\"spacingAndGlyphs\" textLength=\"8\" x=\"169.5\" y=\"130.1387\">p</text><line style=\"stroke: #383838; stroke-width: 1.0;\" x1=\"132\" x2=\"215\" y1=\"137.9688\" y2=\"137.9688\"/></a><g id=\"E1.E2\"><a href=\"psysml:c0a3bc73-93c5-4b4d-b763-5833239b73fd\" target=\"_top\" title=\"psysml:c0a3bc73-93c5-4b4d-b763-5833239b73fd\" xlink:actuate=\"onRequest\" xlink:href=\"psysml:c0a3bc73-93c5-4b4d-b763-5833239b73fd\" xlink:show=\"new\" xlink:title=\"psysml:c0a3bc73-93c5-4b4d-b763-5833239b73fd\" xlink:type=\"simple\"><rect fill=\"#FFFFFF\" height=\"42.9375\" id=\"E2\" style=\"stroke: #383838; stroke-width: 1.5;\" width=\"71\" x=\"32.5\" y=\"92.5\"/><rect fill=\"#F8F8F8\" height=\"37.9375\" style=\"stroke: #383838; stroke-width: 1.5;\" width=\"71\" x=\"32.5\" y=\"92.5\"/><text fill=\"#000000\" font-family=\"sans-serif\" font-size=\"12\" font-style=\"italic\" lengthAdjust=\"spacingAndGlyphs\" textLength=\"64\" x=\"36\" y=\"108.6387\">«port def»</text><text fill=\"#000000\" font-family=\"sans-serif\" font-size=\"12\" lengthAdjust=\"spacingAndGlyphs\" textLength=\"8\" x=\"64\" y=\"122.6074\">P</text></a></g><text fill=\"#000000\" font-family=\"sans-serif\" font-size=\"14\" lengthAdjust=\"spacingAndGlyphs\" textLength=\"36\" x=\"577\" y=\"92.6982\">p1: P</text><rect fill=\"#383838\" height=\"12\" style=\"stroke: #F8F8F8; stroke-width: 1.5;\" width=\"12\" x=\"589\" y=\"108\"/><text fill=\"#000000\" font-family=\"sans-serif\" font-size=\"14\" lengthAdjust=\"spacingAndGlyphs\" textLength=\"48\" x=\"618\" y=\"92.6982\">p2: ~P</text><rect fill=\"#383838\" height=\"12\" style=\"stroke: #F8F8F8; stroke-width: 1.5;\" width=\"12\" x=\"636\" y=\"108\"/><text fill=\"#000000\" font-family=\"sans-serif\" font-size=\"14\" lengthAdjust=\"spacingAndGlyphs\" textLength=\"36\" x=\"423\" y=\"92.6982\">p1: P</text><rect fill=\"#383838\" height=\"12\" style=\"stroke: #F8F8F8; stroke-width: 1.5;\" width=\"12\" x=\"435\" y=\"108\"/><text fill=\"#000000\" font-family=\"sans-serif\" font-size=\"14\" lengthAdjust=\"spacingAndGlyphs\" textLength=\"48\" x=\"464\" y=\"92.6982\">p2: ~P</text><rect fill=\"#383838\" height=\"12\" style=\"stroke: #F8F8F8; stroke-width: 1.5;\" width=\"12\" x=\"482\" y=\"108\"/><text fill=\"#000000\" font-family=\"sans-serif\" font-size=\"14\" lengthAdjust=\"spacingAndGlyphs\" textLength=\"36\" x=\"254\" y=\"92.6982\">p1: P</text><rect fill=\"#383838\" height=\"12\" style=\"stroke: #F8F8F8; stroke-width: 1.5;\" width=\"12\" x=\"266\" y=\"108\"/><text fill=\"#000000\" font-family=\"sans-serif\" font-size=\"14\" lengthAdjust=\"spacingAndGlyphs\" textLength=\"48\" x=\"295\" y=\"92.6982\">p2: ~P</text><rect fill=\"#383838\" height=\"12\" style=\"stroke: #F8F8F8; stroke-width: 1.5;\" width=\"12\" x=\"313\" y=\"108\"/><text fill=\"#000000\" font-family=\"sans-serif\" font-size=\"14\" lengthAdjust=\"spacingAndGlyphs\" textLength=\"36\" x=\"132\" y=\"92.6982\">p1: P</text><rect fill=\"#383838\" height=\"12\" style=\"stroke: #F8F8F8; stroke-width: 1.5;\" width=\"12\" x=\"144\" y=\"108\"/><text fill=\"#000000\" font-family=\"sans-serif\" font-size=\"14\" lengthAdjust=\"spacingAndGlyphs\" textLength=\"48\" x=\"173\" y=\"92.6982\">p2: ~P</text><rect fill=\"#383838\" height=\"12\" style=\"stroke: #F8F8F8; stroke-width: 1.5;\" width=\"12\" x=\"191\" y=\"108\"/><!--MD5=[4ce51ac6fa4cf5202df3859e2718f033]\n",
       "link E15 to E14--><a href=\"psysml:b40b8767-d304-49cf-ad0a-af8e9dd9f9d8\" target=\"_top\" title=\"psysml:b40b8767-d304-49cf-ad0a-af8e9dd9f9d8\" xlink:actuate=\"onRequest\" xlink:href=\"psysml:b40b8767-d304-49cf-ad0a-af8e9dd9f9d8\" xlink:show=\"new\" xlink:title=\"psysml:b40b8767-d304-49cf-ad0a-af8e9dd9f9d8\" xlink:type=\"simple\"><path d=\"M190.99,114 C186.57,114 181.33,114 181.33,114 C181.33,114 165.67,114 165.67,114 C165.67,114 160.43,114 156.01,114 \" fill=\"none\" id=\"E15-E14\" style=\"stroke: #383838; stroke-width: 3.0;\"/></a><!--MD5=[4ce51ac6fa4cf5202df3859e2718f033]\n",
       "link E15 to E14--><a href=\"psysml:e453fd18-f914-4bbc-b21b-733251b90d8d\" target=\"_top\" title=\"psysml:e453fd18-f914-4bbc-b21b-733251b90d8d\" xlink:actuate=\"onRequest\" xlink:href=\"psysml:e453fd18-f914-4bbc-b21b-733251b90d8d\" xlink:show=\"new\" xlink:title=\"psysml:e453fd18-f914-4bbc-b21b-733251b90d8d\" xlink:type=\"simple\"><path d=\"M190.99,111.7 C186.57,110.01 181.33,108 181.33,108 C181.33,108 165.67,108 165.67,108 C165.67,108 160.43,110.01 156.01,111.7 \" fill=\"none\" id=\"E15-E14-1\" style=\"stroke: #383838; stroke-width: 3.0;\"/></a><!--MD5=[9e67d71030ca513ca9e0a456501c43aa]\n",
       "@startuml\r\n",
       "skinparam ranksep 10\r\n",
       "skinparam rectangle {\r\n",
       " backgroundColor<<block>> LightGreen\r\n",
       "}\r\n",
       "skinparam linetype polyline\r\n",
       "skinparam monochrome true\r\n",
       "skinparam classbackgroundcolor white\r\n",
       "skinparam shadowing false\r\n",
       "skinparam wrapWidth 300\r\n",
       "hide circle\r\n",
       "\r\n",
       "package \"ConjugationTest\" as E1  [[psysml:56f2a3b4-cc43-4fa3-8695-199f33536b50 ]]  {\r\n",
       "def \"P\" as E2  <<(T,blue)port def>> [[psysml:c0a3bc73-93c5-4b4d-b763-5833239b73fd ]] \r\n",
       "rec def \"B\" as E3  <<(T,blue)part def>> [[psysml:5cf63d0b-bb26-43ea-8091-2694cfd07b61 ]] {\r\n",
       "portin \"p1: P\" as E4  <<(T,blue)port>> [[psysml:c76b55b8-c5f7-4b06-9682-6e30a37606f5 ]] \r\n",
       "portin \"p2: ~P\" as E5  <<(T,blue)port>> [[psysml:35da94da-d279-45b2-babf-0a6a90392647 ]] \r\n",
       "}\r\n",
       "rec def \"A\" as E6  <<(T,blue)connection def>> [[psysml:c95e8ce0-7583-4d42-8de3-1e3c8277134a ]] {\r\n",
       "portin \"p1: P\" as E7  <<(T,blue)port>> [[psysml:2d7c72e0-11ff-44e8-b252-bce43cdf8c5c ]] \r\n",
       "portin \"p2: ~P\" as E8  <<(T,blue)port>> [[psysml:32f7297e-deaa-40d0-ad2f-7459de0cc2ac ]] \r\n",
       "}\r\n",
       "rec def \"I\" as E9  <<(T,blue)interface def>> [[psysml:3dca2d5e-c062-4427-93b4-bcb55890dd40 ]] {\r\n",
       "portin \"p1: P\" as E10  <<(T,blue)port>> [[psysml:c5132c6d-1853-42dd-8f4d-8690518006d4 ]] \r\n",
       "portin \"p2: ~P\" as E11  <<(T,blue)port>> [[psysml:dfe5ce78-d727-465a-9c67-ad29336ed483 ]] \r\n",
       "}\r\n",
       "rec def \"B1\" as E12  <<(T,blue)part def>> [[psysml:239b6b7d-2819-4aeb-bfce-341b8d8c5fb1 ]] {\r\n",
       "rec usage \"p\" as E13  [[psysml:080adc10-96fd-4f72-8d28-a6aae1d02a34 ]] {\r\n",
       "portin \"p1: P\" as E14  <<(T,blue)port>> [[psysml:990bba01-cfb0-414f-879e-e0e887a1aff5 ]] \r\n",
       "portin \"p2: ~P\" as E15  <<(T,blue)port>> [[psysml:ea02eef2-b064-45a9-9708-410d7204d199 ]] \r\n",
       "}\r\n",
       "}\r\n",
       "E15 -[thickness=3]- E14 [[psysml:b40b8767-d304-49cf-ad0a-af8e9dd9f9d8 ]] \r\n",
       "E15 -[thickness=3]- E14 [[psysml:e453fd18-f914-4bbc-b21b-733251b90d8d ]] \r\n",
       "}\r\n",
       "@enduml\r\n",
       "\n",
       "PlantUML version 1.2020.13(Sat Jun 13 12:26:38 UTC 2020)\n",
       "(EPL source distribution)\n",
       "Java Runtime: OpenJDK Runtime Environment\n",
       "JVM: OpenJDK 64-Bit Server VM\n",
       "Default Encoding: UTF-8\n",
       "Language: en\n",
       "Country: null\n",
       "--></g></svg>"
      ]
     },
     "execution_count": 12,
     "metadata": {},
     "output_type": "execute_result"
    }
   ],
   "source": [
    "%viz --style=\"POLYLINE\" --view=\"Interconnection\" \"ConjugationTest\""
   ]
  },
  {
   "cell_type": "code",
   "execution_count": 13,
   "id": "752061d6",
   "metadata": {
    "execution": {
     "iopub.execute_input": "2021-04-20T07:00:13.095880Z",
     "iopub.status.busy": "2021-04-20T07:00:13.095338Z",
     "iopub.status.idle": "2021-04-20T07:00:13.102007Z",
     "shell.execute_reply": "2021-04-20T07:00:13.101618Z"
    }
   },
   "outputs": [
    {
     "data": {
      "image/svg+xml": [
       "<?xml version=\"1.0\" encoding=\"UTF-8\" standalone=\"no\"?><svg xmlns=\"http://www.w3.org/2000/svg\" xmlns:xlink=\"http://www.w3.org/1999/xlink\" contentScriptType=\"application/ecmascript\" contentStyleType=\"text/css\" height=\"12px\" preserveAspectRatio=\"none\" style=\"width:12px;height:12px;\" version=\"1.1\" viewBox=\"0 0 12 12\" width=\"12px\" zoomAndPan=\"magnify\"><defs/><g><!--MD5=[97bbf32f66ccd50cbc40d92ea8f5a65e]\n",
       "@startuml\r\n",
       "skinparam ranksep 8\r\n",
       "skinparam linetype polyline\r\n",
       "skinparam monochrome true\r\n",
       "skinparam classbackgroundcolor white\r\n",
       "skinparam shadowing false\r\n",
       "skinparam wrapWidth 300\r\n",
       "hide circle\r\n",
       "\r\n",
       "@enduml\r\n",
       "\n",
       "PlantUML version 1.2020.13(Sat Jun 13 12:26:38 UTC 2020)\n",
       "(EPL source distribution)\n",
       "Java Runtime: OpenJDK Runtime Environment\n",
       "JVM: OpenJDK 64-Bit Server VM\n",
       "Default Encoding: UTF-8\n",
       "Language: en\n",
       "Country: null\n",
       "--></g></svg>"
      ]
     },
     "execution_count": 13,
     "metadata": {},
     "output_type": "execute_result"
    }
   ],
   "source": [
    "%viz --style=\"POLYLINE\" --view=\"Action\" \"ConjugationTest\""
   ]
  },
  {
   "cell_type": "code",
   "execution_count": 14,
   "id": "cf371d2d",
   "metadata": {
    "execution": {
     "iopub.execute_input": "2021-04-20T07:00:13.154654Z",
     "iopub.status.busy": "2021-04-20T07:00:13.153839Z",
     "iopub.status.idle": "2021-04-20T07:00:13.266004Z",
     "shell.execute_reply": "2021-04-20T07:00:13.264698Z"
    }
   },
   "outputs": [
    {
     "data": {
      "image/svg+xml": [
       "<?xml version=\"1.0\" encoding=\"UTF-8\" standalone=\"no\"?><svg xmlns=\"http://www.w3.org/2000/svg\" xmlns:xlink=\"http://www.w3.org/1999/xlink\" contentScriptType=\"application/ecmascript\" contentStyleType=\"text/css\" height=\"305px\" preserveAspectRatio=\"none\" style=\"width:614px;height:305px;\" version=\"1.1\" viewBox=\"0 0 614 305\" width=\"614px\" zoomAndPan=\"magnify\"><defs/><g><!--MD5=[fbc87193dbaf4d95561dea2c320d4a47]\n",
       "cluster E1--><a href=\"psysml:56f2a3b4-cc43-4fa3-8695-199f33536b50\" target=\"_top\" title=\"psysml:56f2a3b4-cc43-4fa3-8695-199f33536b50\" xlink:actuate=\"onRequest\" xlink:href=\"psysml:56f2a3b4-cc43-4fa3-8695-199f33536b50\" xlink:show=\"new\" xlink:title=\"psysml:56f2a3b4-cc43-4fa3-8695-199f33536b50\" xlink:type=\"simple\"><polygon fill=\"#FFFFFF\" points=\"16,6,151,6,158,28.2969,592,28.2969,592,293,16,293,16,6\" style=\"stroke: #000000; stroke-width: 1.5;\"/><line style=\"stroke: #000000; stroke-width: 1.5;\" x1=\"16\" x2=\"158\" y1=\"28.2969\" y2=\"28.2969\"/><text fill=\"#000000\" font-family=\"sans-serif\" font-size=\"14\" font-weight=\"bold\" lengthAdjust=\"spacingAndGlyphs\" textLength=\"129\" x=\"20\" y=\"20.9951\">ConjugationTest</text></a><!--MD5=[b4997ac47864f28c2f74865a473b2911]\n",
       "class E2--><a href=\"psysml:c0a3bc73-93c5-4b4d-b763-5833239b73fd\" target=\"_top\" title=\"psysml:c0a3bc73-93c5-4b4d-b763-5833239b73fd\" xlink:actuate=\"onRequest\" xlink:href=\"psysml:c0a3bc73-93c5-4b4d-b763-5833239b73fd\" xlink:show=\"new\" xlink:title=\"psysml:c0a3bc73-93c5-4b4d-b763-5833239b73fd\" xlink:type=\"simple\"><rect fill=\"#FFFFFF\" height=\"45.9375\" id=\"E2\" style=\"stroke: #383838; stroke-width: 1.5;\" width=\"66\" x=\"510\" y=\"62\"/><text fill=\"#000000\" font-family=\"sans-serif\" font-size=\"12\" font-style=\"italic\" lengthAdjust=\"spacingAndGlyphs\" textLength=\"64\" x=\"511\" y=\"78.1387\">«port def»</text><text fill=\"#000000\" font-family=\"sans-serif\" font-size=\"12\" lengthAdjust=\"spacingAndGlyphs\" textLength=\"8\" x=\"539\" y=\"92.1074\">P</text><line style=\"stroke: #383838; stroke-width: 1.5;\" x1=\"511\" x2=\"575\" y1=\"99.9375\" y2=\"99.9375\"/></a><!--MD5=[09b614a08d8cba4a07c9adeb5e0fee81]\n",
       "class E3--><a href=\"psysml:5cf63d0b-bb26-43ea-8091-2694cfd07b61\" target=\"_top\" title=\"psysml:5cf63d0b-bb26-43ea-8091-2694cfd07b61\" xlink:actuate=\"onRequest\" xlink:href=\"psysml:5cf63d0b-bb26-43ea-8091-2694cfd07b61\" xlink:show=\"new\" xlink:title=\"psysml:5cf63d0b-bb26-43ea-8091-2694cfd07b61\" xlink:type=\"simple\"><rect fill=\"#FFFFFF\" height=\"88.3516\" id=\"E3\" style=\"stroke: #383838; stroke-width: 1.5;\" width=\"66\" x=\"409\" y=\"41\"/><text fill=\"#000000\" font-family=\"sans-serif\" font-size=\"12\" font-style=\"italic\" lengthAdjust=\"spacingAndGlyphs\" textLength=\"64\" x=\"410\" y=\"57.1387\">«part def»</text><text fill=\"#000000\" font-family=\"sans-serif\" font-size=\"12\" lengthAdjust=\"spacingAndGlyphs\" textLength=\"8\" x=\"438\" y=\"71.1074\">B</text><line style=\"stroke: #383838; stroke-width: 1.5;\" x1=\"410\" x2=\"474\" y1=\"78.9375\" y2=\"78.9375\"/><text fill=\"#000000\" font-family=\"sans-serif\" font-size=\"11\" lengthAdjust=\"spacingAndGlyphs\" textLength=\"29\" x=\"415\" y=\"109.9526\">p1: P</text><text fill=\"#000000\" font-family=\"sans-serif\" font-size=\"11\" lengthAdjust=\"spacingAndGlyphs\" textLength=\"38\" x=\"415\" y=\"122.7573\">p2: ~P</text><line style=\"stroke: #383838; stroke-width: 1.0;\" x1=\"410\" x2=\"427\" y1=\"93.3398\" y2=\"93.3398\"/><text fill=\"#000000\" font-family=\"sans-serif\" font-size=\"11\" lengthAdjust=\"spacingAndGlyphs\" textLength=\"30\" x=\"427\" y=\"96.6479\">ports</text><line style=\"stroke: #383838; stroke-width: 1.0;\" x1=\"457\" x2=\"474\" y1=\"93.3398\" y2=\"93.3398\"/></a><!--MD5=[60a26617385b1d2d0262a64233df1f8d]\n",
       "class E6--><a href=\"psysml:c95e8ce0-7583-4d42-8de3-1e3c8277134a\" target=\"_top\" title=\"psysml:c95e8ce0-7583-4d42-8de3-1e3c8277134a\" xlink:actuate=\"onRequest\" xlink:href=\"psysml:c95e8ce0-7583-4d42-8de3-1e3c8277134a\" xlink:show=\"new\" xlink:title=\"psysml:c95e8ce0-7583-4d42-8de3-1e3c8277134a\" xlink:type=\"simple\"><rect fill=\"#FFFFFF\" height=\"88.3516\" id=\"E6\" style=\"stroke: #383838; stroke-width: 1.5;\" width=\"110\" x=\"264\" y=\"41\"/><text fill=\"#000000\" font-family=\"sans-serif\" font-size=\"12\" font-style=\"italic\" lengthAdjust=\"spacingAndGlyphs\" textLength=\"108\" x=\"265\" y=\"57.1387\">«connection def»</text><text fill=\"#000000\" font-family=\"sans-serif\" font-size=\"12\" lengthAdjust=\"spacingAndGlyphs\" textLength=\"8\" x=\"315\" y=\"71.1074\">A</text><line style=\"stroke: #383838; stroke-width: 1.5;\" x1=\"265\" x2=\"373\" y1=\"78.9375\" y2=\"78.9375\"/><text fill=\"#000000\" font-family=\"sans-serif\" font-size=\"11\" lengthAdjust=\"spacingAndGlyphs\" textLength=\"29\" x=\"270\" y=\"109.9526\">p1: P</text><text fill=\"#000000\" font-family=\"sans-serif\" font-size=\"11\" lengthAdjust=\"spacingAndGlyphs\" textLength=\"38\" x=\"270\" y=\"122.7573\">p2: ~P</text><line style=\"stroke: #383838; stroke-width: 1.0;\" x1=\"265\" x2=\"304\" y1=\"93.3398\" y2=\"93.3398\"/><text fill=\"#000000\" font-family=\"sans-serif\" font-size=\"11\" lengthAdjust=\"spacingAndGlyphs\" textLength=\"30\" x=\"304\" y=\"96.6479\">ports</text><line style=\"stroke: #383838; stroke-width: 1.0;\" x1=\"334\" x2=\"373\" y1=\"93.3398\" y2=\"93.3398\"/></a><!--MD5=[fd4143e9d270a159db93a4ea2a975926]\n",
       "class E9--><a href=\"psysml:3dca2d5e-c062-4427-93b4-bcb55890dd40\" target=\"_top\" title=\"psysml:3dca2d5e-c062-4427-93b4-bcb55890dd40\" xlink:actuate=\"onRequest\" xlink:href=\"psysml:3dca2d5e-c062-4427-93b4-bcb55890dd40\" xlink:show=\"new\" xlink:title=\"psysml:3dca2d5e-c062-4427-93b4-bcb55890dd40\" xlink:type=\"simple\"><rect fill=\"#FFFFFF\" height=\"88.3516\" id=\"E9\" style=\"stroke: #383838; stroke-width: 1.5;\" width=\"96\" x=\"133\" y=\"41\"/><text fill=\"#000000\" font-family=\"sans-serif\" font-size=\"12\" font-style=\"italic\" lengthAdjust=\"spacingAndGlyphs\" textLength=\"94\" x=\"134\" y=\"57.1387\">«interface def»</text><text fill=\"#000000\" font-family=\"sans-serif\" font-size=\"12\" lengthAdjust=\"spacingAndGlyphs\" textLength=\"3\" x=\"179.5\" y=\"71.1074\">I</text><line style=\"stroke: #383838; stroke-width: 1.5;\" x1=\"134\" x2=\"228\" y1=\"78.9375\" y2=\"78.9375\"/><text fill=\"#000000\" font-family=\"sans-serif\" font-size=\"11\" lengthAdjust=\"spacingAndGlyphs\" textLength=\"29\" x=\"139\" y=\"109.9526\">p1: P</text><text fill=\"#000000\" font-family=\"sans-serif\" font-size=\"11\" lengthAdjust=\"spacingAndGlyphs\" textLength=\"38\" x=\"139\" y=\"122.7573\">p2: ~P</text><line style=\"stroke: #383838; stroke-width: 1.0;\" x1=\"134\" x2=\"166\" y1=\"93.3398\" y2=\"93.3398\"/><text fill=\"#000000\" font-family=\"sans-serif\" font-size=\"11\" lengthAdjust=\"spacingAndGlyphs\" textLength=\"30\" x=\"166\" y=\"96.6479\">ports</text><line style=\"stroke: #383838; stroke-width: 1.0;\" x1=\"196\" x2=\"228\" y1=\"93.3398\" y2=\"93.3398\"/></a><!--MD5=[49a0ec8f00dab7302a31f22d0f0fe584]\n",
       "class E12--><a href=\"psysml:239b6b7d-2819-4aeb-bfce-341b8d8c5fb1\" target=\"_top\" title=\"psysml:239b6b7d-2819-4aeb-bfce-341b8d8c5fb1\" xlink:actuate=\"onRequest\" xlink:href=\"psysml:239b6b7d-2819-4aeb-bfce-341b8d8c5fb1\" xlink:show=\"new\" xlink:title=\"psysml:239b6b7d-2819-4aeb-bfce-341b8d8c5fb1\" xlink:type=\"simple\"><rect fill=\"#FFFFFF\" height=\"45.9375\" id=\"E12\" style=\"stroke: #383838; stroke-width: 1.5;\" width=\"66\" x=\"32\" y=\"62\"/><text fill=\"#000000\" font-family=\"sans-serif\" font-size=\"12\" font-style=\"italic\" lengthAdjust=\"spacingAndGlyphs\" textLength=\"64\" x=\"33\" y=\"78.1387\">«part def»</text><text fill=\"#000000\" font-family=\"sans-serif\" font-size=\"12\" lengthAdjust=\"spacingAndGlyphs\" textLength=\"16\" x=\"57\" y=\"92.1074\">B1</text><line style=\"stroke: #383838; stroke-width: 1.5;\" x1=\"33\" x2=\"97\" y1=\"99.9375\" y2=\"99.9375\"/></a><!--MD5=[ee3c913d1a06f366521f9ef512b67efe]\n",
       "class E13--><a href=\"psysml:080adc10-96fd-4f72-8d28-a6aae1d02a34\" target=\"_top\" title=\"psysml:080adc10-96fd-4f72-8d28-a6aae1d02a34\" xlink:actuate=\"onRequest\" xlink:href=\"psysml:080adc10-96fd-4f72-8d28-a6aae1d02a34\" xlink:show=\"new\" xlink:title=\"psysml:080adc10-96fd-4f72-8d28-a6aae1d02a34\" xlink:type=\"simple\"><rect fill=\"#FFFFFF\" height=\"88.3516\" id=\"E13\" rx=\"10\" ry=\"10\" style=\"stroke: #383838; stroke-width: 1.5;\" width=\"50\" x=\"40\" y=\"189\"/><text fill=\"#000000\" font-family=\"sans-serif\" font-size=\"12\" font-style=\"italic\" lengthAdjust=\"spacingAndGlyphs\" textLength=\"40\" x=\"45\" y=\"205.1387\">«part»</text><text fill=\"#000000\" font-family=\"sans-serif\" font-size=\"12\" lengthAdjust=\"spacingAndGlyphs\" textLength=\"8\" x=\"61\" y=\"219.1074\">p</text><line style=\"stroke: #383838; stroke-width: 1.5;\" x1=\"41\" x2=\"89\" y1=\"226.9375\" y2=\"226.9375\"/><text fill=\"#000000\" font-family=\"sans-serif\" font-size=\"11\" lengthAdjust=\"spacingAndGlyphs\" textLength=\"29\" x=\"46\" y=\"257.9526\">p1: P</text><text fill=\"#000000\" font-family=\"sans-serif\" font-size=\"11\" lengthAdjust=\"spacingAndGlyphs\" textLength=\"38\" x=\"46\" y=\"270.7573\">p2: ~P</text><line style=\"stroke: #383838; stroke-width: 1.0;\" x1=\"41\" x2=\"50\" y1=\"241.3398\" y2=\"241.3398\"/><text fill=\"#000000\" font-family=\"sans-serif\" font-size=\"11\" lengthAdjust=\"spacingAndGlyphs\" textLength=\"30\" x=\"50\" y=\"244.6479\">ports</text><line style=\"stroke: #383838; stroke-width: 1.0;\" x1=\"80\" x2=\"89\" y1=\"241.3398\" y2=\"241.3398\"/></a><!--MD5=[062ed86c389d1a88f61c6380d0491e17]\n",
       "reverse link E12 to E13--><a href=\"psysml:06665d43-130c-4b8a-bdfd-d93e6351f975\" target=\"_top\" title=\"psysml:06665d43-130c-4b8a-bdfd-d93e6351f975\" xlink:actuate=\"onRequest\" xlink:href=\"psysml:06665d43-130c-4b8a-bdfd-d93e6351f975\" xlink:show=\"new\" xlink:title=\"psysml:06665d43-130c-4b8a-bdfd-d93e6351f975\" xlink:type=\"simple\"><path d=\"M65,121.25 C65,141.54 65,167.2 65,188.71 \" fill=\"none\" id=\"E12&lt;-E13\" style=\"stroke: #383838; stroke-width: 1.0;\"/><polygon fill=\"#383838\" points=\"65,108.17,61,114.17,65,120.17,69,114.17,65,108.17\" style=\"stroke: #383838; stroke-width: 1.0;\"/></a><!--MD5=[831f2511fbd4ae6365f60fcd019941ab]\n",
       "@startuml\r\n",
       "skinparam linetype polyline\r\n",
       "skinparam monochrome true\r\n",
       "skinparam classbackgroundcolor white\r\n",
       "skinparam shadowing false\r\n",
       "skinparam wrapWidth 300\r\n",
       "hide circle\r\n",
       "\r\n",
       "package \"ConjugationTest\" as E1  [[psysml:56f2a3b4-cc43-4fa3-8695-199f33536b50 ]]  {\r\n",
       "comp def \"P\" as E2  <<(T,blue)port def>> [[psysml:c0a3bc73-93c5-4b4d-b763-5833239b73fd ]] {\r\n",
       "}\r\n",
       "comp def \"B\" as E3  <<(T,blue)part def>> [[psysml:5cf63d0b-bb26-43ea-8091-2694cfd07b61 ]] {\r\n",
       "- - ports - -\r\n",
       "p1: P\r\n",
       "p2: ~P\r\n",
       "}\r\n",
       "comp def \"A\" as E6  <<(T,blue)connection def>> [[psysml:c95e8ce0-7583-4d42-8de3-1e3c8277134a ]] {\r\n",
       "- - ports - -\r\n",
       "p1: P\r\n",
       "p2: ~P\r\n",
       "}\r\n",
       "comp def \"I\" as E9  <<(T,blue)interface def>> [[psysml:3dca2d5e-c062-4427-93b4-bcb55890dd40 ]] {\r\n",
       "- - ports - -\r\n",
       "p1: P\r\n",
       "p2: ~P\r\n",
       "}\r\n",
       "comp def \"B1\" as E12  <<(T,blue)part def>> [[psysml:239b6b7d-2819-4aeb-bfce-341b8d8c5fb1 ]] {\r\n",
       "}\r\n",
       "comp usage \"p\" as E13  <<(T,blue)part>> [[psysml:080adc10-96fd-4f72-8d28-a6aae1d02a34 ]] {\r\n",
       "- - ports - -\r\n",
       "p1: P\r\n",
       "p2: ~P\r\n",
       "}\r\n",
       "E12 *- - E13 [[psysml:06665d43-130c-4b8a-bdfd-d93e6351f975 ]] \r\n",
       "}\r\n",
       "@enduml\r\n",
       "\n",
       "PlantUML version 1.2020.13(Sat Jun 13 12:26:38 UTC 2020)\n",
       "(EPL source distribution)\n",
       "Java Runtime: OpenJDK Runtime Environment\n",
       "JVM: OpenJDK 64-Bit Server VM\n",
       "Default Encoding: UTF-8\n",
       "Language: en\n",
       "Country: null\n",
       "--></g></svg>"
      ]
     },
     "execution_count": 14,
     "metadata": {},
     "output_type": "execute_result"
    }
   ],
   "source": [
    "%viz --style=\"POLYLINE\" --view=\"Sequence\" \"ConjugationTest\""
   ]
  },
  {
   "cell_type": "code",
   "execution_count": 15,
   "id": "74d61f44",
   "metadata": {
    "execution": {
     "iopub.execute_input": "2021-04-20T07:00:13.317010Z",
     "iopub.status.busy": "2021-04-20T07:00:13.316520Z",
     "iopub.status.idle": "2021-04-20T07:00:13.416031Z",
     "shell.execute_reply": "2021-04-20T07:00:13.414816Z"
    }
   },
   "outputs": [
    {
     "data": {
      "image/svg+xml": [
       "<?xml version=\"1.0\" encoding=\"UTF-8\" standalone=\"no\"?><svg xmlns=\"http://www.w3.org/2000/svg\" xmlns:xlink=\"http://www.w3.org/1999/xlink\" contentScriptType=\"application/ecmascript\" contentStyleType=\"text/css\" height=\"305px\" preserveAspectRatio=\"none\" style=\"width:614px;height:305px;\" version=\"1.1\" viewBox=\"0 0 614 305\" width=\"614px\" zoomAndPan=\"magnify\"><defs/><g><!--MD5=[fbc87193dbaf4d95561dea2c320d4a47]\n",
       "cluster E1--><a href=\"psysml:56f2a3b4-cc43-4fa3-8695-199f33536b50\" target=\"_top\" title=\"psysml:56f2a3b4-cc43-4fa3-8695-199f33536b50\" xlink:actuate=\"onRequest\" xlink:href=\"psysml:56f2a3b4-cc43-4fa3-8695-199f33536b50\" xlink:show=\"new\" xlink:title=\"psysml:56f2a3b4-cc43-4fa3-8695-199f33536b50\" xlink:type=\"simple\"><polygon fill=\"#FFFFFF\" points=\"16,6,151,6,158,28.2969,592,28.2969,592,293,16,293,16,6\" style=\"stroke: #000000; stroke-width: 1.5;\"/><line style=\"stroke: #000000; stroke-width: 1.5;\" x1=\"16\" x2=\"158\" y1=\"28.2969\" y2=\"28.2969\"/><text fill=\"#000000\" font-family=\"sans-serif\" font-size=\"14\" font-weight=\"bold\" lengthAdjust=\"spacingAndGlyphs\" textLength=\"129\" x=\"20\" y=\"20.9951\">ConjugationTest</text></a><!--MD5=[b4997ac47864f28c2f74865a473b2911]\n",
       "class E2--><a href=\"psysml:c0a3bc73-93c5-4b4d-b763-5833239b73fd\" target=\"_top\" title=\"psysml:c0a3bc73-93c5-4b4d-b763-5833239b73fd\" xlink:actuate=\"onRequest\" xlink:href=\"psysml:c0a3bc73-93c5-4b4d-b763-5833239b73fd\" xlink:show=\"new\" xlink:title=\"psysml:c0a3bc73-93c5-4b4d-b763-5833239b73fd\" xlink:type=\"simple\"><rect fill=\"#FFFFFF\" height=\"45.9375\" id=\"E2\" style=\"stroke: #383838; stroke-width: 1.5;\" width=\"66\" x=\"510\" y=\"62\"/><text fill=\"#000000\" font-family=\"sans-serif\" font-size=\"12\" font-style=\"italic\" lengthAdjust=\"spacingAndGlyphs\" textLength=\"64\" x=\"511\" y=\"78.1387\">«port def»</text><text fill=\"#000000\" font-family=\"sans-serif\" font-size=\"12\" lengthAdjust=\"spacingAndGlyphs\" textLength=\"8\" x=\"539\" y=\"92.1074\">P</text><line style=\"stroke: #383838; stroke-width: 1.5;\" x1=\"511\" x2=\"575\" y1=\"99.9375\" y2=\"99.9375\"/></a><!--MD5=[09b614a08d8cba4a07c9adeb5e0fee81]\n",
       "class E3--><a href=\"psysml:5cf63d0b-bb26-43ea-8091-2694cfd07b61\" target=\"_top\" title=\"psysml:5cf63d0b-bb26-43ea-8091-2694cfd07b61\" xlink:actuate=\"onRequest\" xlink:href=\"psysml:5cf63d0b-bb26-43ea-8091-2694cfd07b61\" xlink:show=\"new\" xlink:title=\"psysml:5cf63d0b-bb26-43ea-8091-2694cfd07b61\" xlink:type=\"simple\"><rect fill=\"#FFFFFF\" height=\"88.3516\" id=\"E3\" style=\"stroke: #383838; stroke-width: 1.5;\" width=\"66\" x=\"409\" y=\"41\"/><text fill=\"#000000\" font-family=\"sans-serif\" font-size=\"12\" font-style=\"italic\" lengthAdjust=\"spacingAndGlyphs\" textLength=\"64\" x=\"410\" y=\"57.1387\">«part def»</text><text fill=\"#000000\" font-family=\"sans-serif\" font-size=\"12\" lengthAdjust=\"spacingAndGlyphs\" textLength=\"8\" x=\"438\" y=\"71.1074\">B</text><line style=\"stroke: #383838; stroke-width: 1.5;\" x1=\"410\" x2=\"474\" y1=\"78.9375\" y2=\"78.9375\"/><text fill=\"#000000\" font-family=\"sans-serif\" font-size=\"11\" lengthAdjust=\"spacingAndGlyphs\" textLength=\"29\" x=\"415\" y=\"109.9526\">p1: P</text><text fill=\"#000000\" font-family=\"sans-serif\" font-size=\"11\" lengthAdjust=\"spacingAndGlyphs\" textLength=\"38\" x=\"415\" y=\"122.7573\">p2: ~P</text><line style=\"stroke: #383838; stroke-width: 1.0;\" x1=\"410\" x2=\"427\" y1=\"93.3398\" y2=\"93.3398\"/><text fill=\"#000000\" font-family=\"sans-serif\" font-size=\"11\" lengthAdjust=\"spacingAndGlyphs\" textLength=\"30\" x=\"427\" y=\"96.6479\">ports</text><line style=\"stroke: #383838; stroke-width: 1.0;\" x1=\"457\" x2=\"474\" y1=\"93.3398\" y2=\"93.3398\"/></a><!--MD5=[60a26617385b1d2d0262a64233df1f8d]\n",
       "class E6--><a href=\"psysml:c95e8ce0-7583-4d42-8de3-1e3c8277134a\" target=\"_top\" title=\"psysml:c95e8ce0-7583-4d42-8de3-1e3c8277134a\" xlink:actuate=\"onRequest\" xlink:href=\"psysml:c95e8ce0-7583-4d42-8de3-1e3c8277134a\" xlink:show=\"new\" xlink:title=\"psysml:c95e8ce0-7583-4d42-8de3-1e3c8277134a\" xlink:type=\"simple\"><rect fill=\"#FFFFFF\" height=\"88.3516\" id=\"E6\" style=\"stroke: #383838; stroke-width: 1.5;\" width=\"110\" x=\"264\" y=\"41\"/><text fill=\"#000000\" font-family=\"sans-serif\" font-size=\"12\" font-style=\"italic\" lengthAdjust=\"spacingAndGlyphs\" textLength=\"108\" x=\"265\" y=\"57.1387\">«connection def»</text><text fill=\"#000000\" font-family=\"sans-serif\" font-size=\"12\" lengthAdjust=\"spacingAndGlyphs\" textLength=\"8\" x=\"315\" y=\"71.1074\">A</text><line style=\"stroke: #383838; stroke-width: 1.5;\" x1=\"265\" x2=\"373\" y1=\"78.9375\" y2=\"78.9375\"/><text fill=\"#000000\" font-family=\"sans-serif\" font-size=\"11\" lengthAdjust=\"spacingAndGlyphs\" textLength=\"29\" x=\"270\" y=\"109.9526\">p1: P</text><text fill=\"#000000\" font-family=\"sans-serif\" font-size=\"11\" lengthAdjust=\"spacingAndGlyphs\" textLength=\"38\" x=\"270\" y=\"122.7573\">p2: ~P</text><line style=\"stroke: #383838; stroke-width: 1.0;\" x1=\"265\" x2=\"304\" y1=\"93.3398\" y2=\"93.3398\"/><text fill=\"#000000\" font-family=\"sans-serif\" font-size=\"11\" lengthAdjust=\"spacingAndGlyphs\" textLength=\"30\" x=\"304\" y=\"96.6479\">ports</text><line style=\"stroke: #383838; stroke-width: 1.0;\" x1=\"334\" x2=\"373\" y1=\"93.3398\" y2=\"93.3398\"/></a><!--MD5=[fd4143e9d270a159db93a4ea2a975926]\n",
       "class E9--><a href=\"psysml:3dca2d5e-c062-4427-93b4-bcb55890dd40\" target=\"_top\" title=\"psysml:3dca2d5e-c062-4427-93b4-bcb55890dd40\" xlink:actuate=\"onRequest\" xlink:href=\"psysml:3dca2d5e-c062-4427-93b4-bcb55890dd40\" xlink:show=\"new\" xlink:title=\"psysml:3dca2d5e-c062-4427-93b4-bcb55890dd40\" xlink:type=\"simple\"><rect fill=\"#FFFFFF\" height=\"88.3516\" id=\"E9\" style=\"stroke: #383838; stroke-width: 1.5;\" width=\"96\" x=\"133\" y=\"41\"/><text fill=\"#000000\" font-family=\"sans-serif\" font-size=\"12\" font-style=\"italic\" lengthAdjust=\"spacingAndGlyphs\" textLength=\"94\" x=\"134\" y=\"57.1387\">«interface def»</text><text fill=\"#000000\" font-family=\"sans-serif\" font-size=\"12\" lengthAdjust=\"spacingAndGlyphs\" textLength=\"3\" x=\"179.5\" y=\"71.1074\">I</text><line style=\"stroke: #383838; stroke-width: 1.5;\" x1=\"134\" x2=\"228\" y1=\"78.9375\" y2=\"78.9375\"/><text fill=\"#000000\" font-family=\"sans-serif\" font-size=\"11\" lengthAdjust=\"spacingAndGlyphs\" textLength=\"29\" x=\"139\" y=\"109.9526\">p1: P</text><text fill=\"#000000\" font-family=\"sans-serif\" font-size=\"11\" lengthAdjust=\"spacingAndGlyphs\" textLength=\"38\" x=\"139\" y=\"122.7573\">p2: ~P</text><line style=\"stroke: #383838; stroke-width: 1.0;\" x1=\"134\" x2=\"166\" y1=\"93.3398\" y2=\"93.3398\"/><text fill=\"#000000\" font-family=\"sans-serif\" font-size=\"11\" lengthAdjust=\"spacingAndGlyphs\" textLength=\"30\" x=\"166\" y=\"96.6479\">ports</text><line style=\"stroke: #383838; stroke-width: 1.0;\" x1=\"196\" x2=\"228\" y1=\"93.3398\" y2=\"93.3398\"/></a><!--MD5=[49a0ec8f00dab7302a31f22d0f0fe584]\n",
       "class E12--><a href=\"psysml:239b6b7d-2819-4aeb-bfce-341b8d8c5fb1\" target=\"_top\" title=\"psysml:239b6b7d-2819-4aeb-bfce-341b8d8c5fb1\" xlink:actuate=\"onRequest\" xlink:href=\"psysml:239b6b7d-2819-4aeb-bfce-341b8d8c5fb1\" xlink:show=\"new\" xlink:title=\"psysml:239b6b7d-2819-4aeb-bfce-341b8d8c5fb1\" xlink:type=\"simple\"><rect fill=\"#FFFFFF\" height=\"45.9375\" id=\"E12\" style=\"stroke: #383838; stroke-width: 1.5;\" width=\"66\" x=\"32\" y=\"62\"/><text fill=\"#000000\" font-family=\"sans-serif\" font-size=\"12\" font-style=\"italic\" lengthAdjust=\"spacingAndGlyphs\" textLength=\"64\" x=\"33\" y=\"78.1387\">«part def»</text><text fill=\"#000000\" font-family=\"sans-serif\" font-size=\"12\" lengthAdjust=\"spacingAndGlyphs\" textLength=\"16\" x=\"57\" y=\"92.1074\">B1</text><line style=\"stroke: #383838; stroke-width: 1.5;\" x1=\"33\" x2=\"97\" y1=\"99.9375\" y2=\"99.9375\"/></a><!--MD5=[ee3c913d1a06f366521f9ef512b67efe]\n",
       "class E13--><a href=\"psysml:080adc10-96fd-4f72-8d28-a6aae1d02a34\" target=\"_top\" title=\"psysml:080adc10-96fd-4f72-8d28-a6aae1d02a34\" xlink:actuate=\"onRequest\" xlink:href=\"psysml:080adc10-96fd-4f72-8d28-a6aae1d02a34\" xlink:show=\"new\" xlink:title=\"psysml:080adc10-96fd-4f72-8d28-a6aae1d02a34\" xlink:type=\"simple\"><rect fill=\"#FFFFFF\" height=\"88.3516\" id=\"E13\" rx=\"10\" ry=\"10\" style=\"stroke: #383838; stroke-width: 1.5;\" width=\"50\" x=\"40\" y=\"189\"/><text fill=\"#000000\" font-family=\"sans-serif\" font-size=\"12\" font-style=\"italic\" lengthAdjust=\"spacingAndGlyphs\" textLength=\"40\" x=\"45\" y=\"205.1387\">«part»</text><text fill=\"#000000\" font-family=\"sans-serif\" font-size=\"12\" lengthAdjust=\"spacingAndGlyphs\" textLength=\"8\" x=\"61\" y=\"219.1074\">p</text><line style=\"stroke: #383838; stroke-width: 1.5;\" x1=\"41\" x2=\"89\" y1=\"226.9375\" y2=\"226.9375\"/><text fill=\"#000000\" font-family=\"sans-serif\" font-size=\"11\" lengthAdjust=\"spacingAndGlyphs\" textLength=\"29\" x=\"46\" y=\"257.9526\">p1: P</text><text fill=\"#000000\" font-family=\"sans-serif\" font-size=\"11\" lengthAdjust=\"spacingAndGlyphs\" textLength=\"38\" x=\"46\" y=\"270.7573\">p2: ~P</text><line style=\"stroke: #383838; stroke-width: 1.0;\" x1=\"41\" x2=\"50\" y1=\"241.3398\" y2=\"241.3398\"/><text fill=\"#000000\" font-family=\"sans-serif\" font-size=\"11\" lengthAdjust=\"spacingAndGlyphs\" textLength=\"30\" x=\"50\" y=\"244.6479\">ports</text><line style=\"stroke: #383838; stroke-width: 1.0;\" x1=\"80\" x2=\"89\" y1=\"241.3398\" y2=\"241.3398\"/></a><!--MD5=[062ed86c389d1a88f61c6380d0491e17]\n",
       "reverse link E12 to E13--><a href=\"psysml:06665d43-130c-4b8a-bdfd-d93e6351f975\" target=\"_top\" title=\"psysml:06665d43-130c-4b8a-bdfd-d93e6351f975\" xlink:actuate=\"onRequest\" xlink:href=\"psysml:06665d43-130c-4b8a-bdfd-d93e6351f975\" xlink:show=\"new\" xlink:title=\"psysml:06665d43-130c-4b8a-bdfd-d93e6351f975\" xlink:type=\"simple\"><path d=\"M65,121.25 C65,141.54 65,167.2 65,188.71 \" fill=\"none\" id=\"E12&lt;-E13\" style=\"stroke: #383838; stroke-width: 1.0;\"/><polygon fill=\"#383838\" points=\"65,108.17,61,114.17,65,120.17,69,114.17,65,108.17\" style=\"stroke: #383838; stroke-width: 1.0;\"/></a><!--MD5=[831f2511fbd4ae6365f60fcd019941ab]\n",
       "@startuml\r\n",
       "skinparam linetype polyline\r\n",
       "skinparam monochrome true\r\n",
       "skinparam classbackgroundcolor white\r\n",
       "skinparam shadowing false\r\n",
       "skinparam wrapWidth 300\r\n",
       "hide circle\r\n",
       "\r\n",
       "package \"ConjugationTest\" as E1  [[psysml:56f2a3b4-cc43-4fa3-8695-199f33536b50 ]]  {\r\n",
       "comp def \"P\" as E2  <<(T,blue)port def>> [[psysml:c0a3bc73-93c5-4b4d-b763-5833239b73fd ]] {\r\n",
       "}\r\n",
       "comp def \"B\" as E3  <<(T,blue)part def>> [[psysml:5cf63d0b-bb26-43ea-8091-2694cfd07b61 ]] {\r\n",
       "- - ports - -\r\n",
       "p1: P\r\n",
       "p2: ~P\r\n",
       "}\r\n",
       "comp def \"A\" as E6  <<(T,blue)connection def>> [[psysml:c95e8ce0-7583-4d42-8de3-1e3c8277134a ]] {\r\n",
       "- - ports - -\r\n",
       "p1: P\r\n",
       "p2: ~P\r\n",
       "}\r\n",
       "comp def \"I\" as E9  <<(T,blue)interface def>> [[psysml:3dca2d5e-c062-4427-93b4-bcb55890dd40 ]] {\r\n",
       "- - ports - -\r\n",
       "p1: P\r\n",
       "p2: ~P\r\n",
       "}\r\n",
       "comp def \"B1\" as E12  <<(T,blue)part def>> [[psysml:239b6b7d-2819-4aeb-bfce-341b8d8c5fb1 ]] {\r\n",
       "}\r\n",
       "comp usage \"p\" as E13  <<(T,blue)part>> [[psysml:080adc10-96fd-4f72-8d28-a6aae1d02a34 ]] {\r\n",
       "- - ports - -\r\n",
       "p1: P\r\n",
       "p2: ~P\r\n",
       "}\r\n",
       "E12 *- - E13 [[psysml:06665d43-130c-4b8a-bdfd-d93e6351f975 ]] \r\n",
       "}\r\n",
       "@enduml\r\n",
       "\n",
       "PlantUML version 1.2020.13(Sat Jun 13 12:26:38 UTC 2020)\n",
       "(EPL source distribution)\n",
       "Java Runtime: OpenJDK Runtime Environment\n",
       "JVM: OpenJDK 64-Bit Server VM\n",
       "Default Encoding: UTF-8\n",
       "Language: en\n",
       "Country: null\n",
       "--></g></svg>"
      ]
     },
     "execution_count": 15,
     "metadata": {},
     "output_type": "execute_result"
    }
   ],
   "source": [
    "%viz --style=\"POLYLINE\" --view=\"MIXED\" \"ConjugationTest\""
   ]
  },
  {
   "cell_type": "code",
   "execution_count": 16,
   "id": "5056e87a",
   "metadata": {
    "execution": {
     "iopub.execute_input": "2021-04-20T07:00:13.468144Z",
     "iopub.status.busy": "2021-04-20T07:00:13.467495Z",
     "iopub.status.idle": "2021-04-20T07:00:13.601582Z",
     "shell.execute_reply": "2021-04-20T07:00:13.601236Z"
    }
   },
   "outputs": [
    {
     "data": {
      "image/svg+xml": [
       "<?xml version=\"1.0\" encoding=\"UTF-8\" standalone=\"no\"?><svg xmlns=\"http://www.w3.org/2000/svg\" xmlns:xlink=\"http://www.w3.org/1999/xlink\" contentScriptType=\"application/ecmascript\" contentStyleType=\"text/css\" height=\"565px\" preserveAspectRatio=\"none\" style=\"width:290px;height:565px;\" version=\"1.1\" viewBox=\"0 0 290 565\" width=\"290px\" zoomAndPan=\"magnify\"><defs/><g><!--MD5=[fbc87193dbaf4d95561dea2c320d4a47]\n",
       "cluster E1--><a href=\"psysml:56f2a3b4-cc43-4fa3-8695-199f33536b50\" target=\"_top\" title=\"psysml:56f2a3b4-cc43-4fa3-8695-199f33536b50\" xlink:actuate=\"onRequest\" xlink:href=\"psysml:56f2a3b4-cc43-4fa3-8695-199f33536b50\" xlink:show=\"new\" xlink:title=\"psysml:56f2a3b4-cc43-4fa3-8695-199f33536b50\" xlink:type=\"simple\"><polygon fill=\"#FFFFFF\" points=\"16,6,151,6,158,28.2969,268,28.2969,268,553,16,553,16,6\" style=\"stroke: #000000; stroke-width: 1.5;\"/><line style=\"stroke: #000000; stroke-width: 1.5;\" x1=\"16\" x2=\"158\" y1=\"28.2969\" y2=\"28.2969\"/><text fill=\"#000000\" font-family=\"sans-serif\" font-size=\"14\" font-weight=\"bold\" lengthAdjust=\"spacingAndGlyphs\" textLength=\"129\" x=\"20\" y=\"20.9951\">ConjugationTest</text></a><!--MD5=[b4997ac47864f28c2f74865a473b2911]\n",
       "class E2--><a href=\"psysml:c0a3bc73-93c5-4b4d-b763-5833239b73fd\" target=\"_top\" title=\"psysml:c0a3bc73-93c5-4b4d-b763-5833239b73fd\" xlink:actuate=\"onRequest\" xlink:href=\"psysml:c0a3bc73-93c5-4b4d-b763-5833239b73fd\" xlink:show=\"new\" xlink:title=\"psysml:c0a3bc73-93c5-4b4d-b763-5833239b73fd\" xlink:type=\"simple\"><rect fill=\"#FFFFFF\" height=\"45.9375\" id=\"E2\" style=\"stroke: #383838; stroke-width: 1.5;\" width=\"66\" x=\"54\" y=\"41\"/><text fill=\"#000000\" font-family=\"sans-serif\" font-size=\"12\" font-style=\"italic\" lengthAdjust=\"spacingAndGlyphs\" textLength=\"64\" x=\"55\" y=\"57.1387\">«port def»</text><text fill=\"#000000\" font-family=\"sans-serif\" font-size=\"12\" lengthAdjust=\"spacingAndGlyphs\" textLength=\"8\" x=\"83\" y=\"71.1074\">P</text><line style=\"stroke: #383838; stroke-width: 1.5;\" x1=\"55\" x2=\"119\" y1=\"78.9375\" y2=\"78.9375\"/></a><!--MD5=[09b614a08d8cba4a07c9adeb5e0fee81]\n",
       "class E3--><a href=\"psysml:5cf63d0b-bb26-43ea-8091-2694cfd07b61\" target=\"_top\" title=\"psysml:5cf63d0b-bb26-43ea-8091-2694cfd07b61\" xlink:actuate=\"onRequest\" xlink:href=\"psysml:5cf63d0b-bb26-43ea-8091-2694cfd07b61\" xlink:show=\"new\" xlink:title=\"psysml:5cf63d0b-bb26-43ea-8091-2694cfd07b61\" xlink:type=\"simple\"><rect fill=\"#FFFFFF\" height=\"88.3516\" id=\"E3\" style=\"stroke: #383838; stroke-width: 1.5;\" width=\"66\" x=\"54\" y=\"122\"/><text fill=\"#000000\" font-family=\"sans-serif\" font-size=\"12\" font-style=\"italic\" lengthAdjust=\"spacingAndGlyphs\" textLength=\"64\" x=\"55\" y=\"138.1387\">«part def»</text><text fill=\"#000000\" font-family=\"sans-serif\" font-size=\"12\" lengthAdjust=\"spacingAndGlyphs\" textLength=\"8\" x=\"83\" y=\"152.1074\">B</text><line style=\"stroke: #383838; stroke-width: 1.5;\" x1=\"55\" x2=\"119\" y1=\"159.9375\" y2=\"159.9375\"/><text fill=\"#000000\" font-family=\"sans-serif\" font-size=\"11\" lengthAdjust=\"spacingAndGlyphs\" textLength=\"29\" x=\"60\" y=\"190.9526\">p1: P</text><text fill=\"#000000\" font-family=\"sans-serif\" font-size=\"11\" lengthAdjust=\"spacingAndGlyphs\" textLength=\"38\" x=\"60\" y=\"203.7573\">p2: ~P</text><line style=\"stroke: #383838; stroke-width: 1.0;\" x1=\"55\" x2=\"72\" y1=\"174.3398\" y2=\"174.3398\"/><text fill=\"#000000\" font-family=\"sans-serif\" font-size=\"11\" lengthAdjust=\"spacingAndGlyphs\" textLength=\"30\" x=\"72\" y=\"177.6479\">ports</text><line style=\"stroke: #383838; stroke-width: 1.0;\" x1=\"102\" x2=\"119\" y1=\"174.3398\" y2=\"174.3398\"/></a><!--MD5=[60a26617385b1d2d0262a64233df1f8d]\n",
       "class E6--><a href=\"psysml:c95e8ce0-7583-4d42-8de3-1e3c8277134a\" target=\"_top\" title=\"psysml:c95e8ce0-7583-4d42-8de3-1e3c8277134a\" xlink:actuate=\"onRequest\" xlink:href=\"psysml:c95e8ce0-7583-4d42-8de3-1e3c8277134a\" xlink:show=\"new\" xlink:title=\"psysml:c95e8ce0-7583-4d42-8de3-1e3c8277134a\" xlink:type=\"simple\"><rect fill=\"#FFFFFF\" height=\"88.3516\" id=\"E6\" style=\"stroke: #383838; stroke-width: 1.5;\" width=\"110\" x=\"32\" y=\"245\"/><text fill=\"#000000\" font-family=\"sans-serif\" font-size=\"12\" font-style=\"italic\" lengthAdjust=\"spacingAndGlyphs\" textLength=\"108\" x=\"33\" y=\"261.1387\">«connection def»</text><text fill=\"#000000\" font-family=\"sans-serif\" font-size=\"12\" lengthAdjust=\"spacingAndGlyphs\" textLength=\"8\" x=\"83\" y=\"275.1074\">A</text><line style=\"stroke: #383838; stroke-width: 1.5;\" x1=\"33\" x2=\"141\" y1=\"282.9375\" y2=\"282.9375\"/><text fill=\"#000000\" font-family=\"sans-serif\" font-size=\"11\" lengthAdjust=\"spacingAndGlyphs\" textLength=\"29\" x=\"38\" y=\"313.9526\">p1: P</text><text fill=\"#000000\" font-family=\"sans-serif\" font-size=\"11\" lengthAdjust=\"spacingAndGlyphs\" textLength=\"38\" x=\"38\" y=\"326.7573\">p2: ~P</text><line style=\"stroke: #383838; stroke-width: 1.0;\" x1=\"33\" x2=\"72\" y1=\"297.3398\" y2=\"297.3398\"/><text fill=\"#000000\" font-family=\"sans-serif\" font-size=\"11\" lengthAdjust=\"spacingAndGlyphs\" textLength=\"30\" x=\"72\" y=\"300.6479\">ports</text><line style=\"stroke: #383838; stroke-width: 1.0;\" x1=\"102\" x2=\"141\" y1=\"297.3398\" y2=\"297.3398\"/></a><!--MD5=[fd4143e9d270a159db93a4ea2a975926]\n",
       "class E9--><a href=\"psysml:3dca2d5e-c062-4427-93b4-bcb55890dd40\" target=\"_top\" title=\"psysml:3dca2d5e-c062-4427-93b4-bcb55890dd40\" xlink:actuate=\"onRequest\" xlink:href=\"psysml:3dca2d5e-c062-4427-93b4-bcb55890dd40\" xlink:show=\"new\" xlink:title=\"psysml:3dca2d5e-c062-4427-93b4-bcb55890dd40\" xlink:type=\"simple\"><rect fill=\"#FFFFFF\" height=\"88.3516\" id=\"E9\" style=\"stroke: #383838; stroke-width: 1.5;\" width=\"96\" x=\"39\" y=\"368\"/><text fill=\"#000000\" font-family=\"sans-serif\" font-size=\"12\" font-style=\"italic\" lengthAdjust=\"spacingAndGlyphs\" textLength=\"94\" x=\"40\" y=\"384.1387\">«interface def»</text><text fill=\"#000000\" font-family=\"sans-serif\" font-size=\"12\" lengthAdjust=\"spacingAndGlyphs\" textLength=\"3\" x=\"85.5\" y=\"398.1074\">I</text><line style=\"stroke: #383838; stroke-width: 1.5;\" x1=\"40\" x2=\"134\" y1=\"405.9375\" y2=\"405.9375\"/><text fill=\"#000000\" font-family=\"sans-serif\" font-size=\"11\" lengthAdjust=\"spacingAndGlyphs\" textLength=\"29\" x=\"45\" y=\"436.9526\">p1: P</text><text fill=\"#000000\" font-family=\"sans-serif\" font-size=\"11\" lengthAdjust=\"spacingAndGlyphs\" textLength=\"38\" x=\"45\" y=\"449.7573\">p2: ~P</text><line style=\"stroke: #383838; stroke-width: 1.0;\" x1=\"40\" x2=\"72\" y1=\"420.3398\" y2=\"420.3398\"/><text fill=\"#000000\" font-family=\"sans-serif\" font-size=\"11\" lengthAdjust=\"spacingAndGlyphs\" textLength=\"30\" x=\"72\" y=\"423.6479\">ports</text><line style=\"stroke: #383838; stroke-width: 1.0;\" x1=\"102\" x2=\"134\" y1=\"420.3398\" y2=\"420.3398\"/></a><!--MD5=[49a0ec8f00dab7302a31f22d0f0fe584]\n",
       "class E12--><a href=\"psysml:239b6b7d-2819-4aeb-bfce-341b8d8c5fb1\" target=\"_top\" title=\"psysml:239b6b7d-2819-4aeb-bfce-341b8d8c5fb1\" xlink:actuate=\"onRequest\" xlink:href=\"psysml:239b6b7d-2819-4aeb-bfce-341b8d8c5fb1\" xlink:show=\"new\" xlink:title=\"psysml:239b6b7d-2819-4aeb-bfce-341b8d8c5fb1\" xlink:type=\"simple\"><rect fill=\"#FFFFFF\" height=\"45.9375\" id=\"E12\" style=\"stroke: #383838; stroke-width: 1.5;\" width=\"66\" x=\"54\" y=\"491\"/><text fill=\"#000000\" font-family=\"sans-serif\" font-size=\"12\" font-style=\"italic\" lengthAdjust=\"spacingAndGlyphs\" textLength=\"64\" x=\"55\" y=\"507.1387\">«part def»</text><text fill=\"#000000\" font-family=\"sans-serif\" font-size=\"12\" lengthAdjust=\"spacingAndGlyphs\" textLength=\"16\" x=\"79\" y=\"521.1074\">B1</text><line style=\"stroke: #383838; stroke-width: 1.5;\" x1=\"55\" x2=\"119\" y1=\"528.9375\" y2=\"528.9375\"/></a><!--MD5=[ee3c913d1a06f366521f9ef512b67efe]\n",
       "class E13--><a href=\"psysml:080adc10-96fd-4f72-8d28-a6aae1d02a34\" target=\"_top\" title=\"psysml:080adc10-96fd-4f72-8d28-a6aae1d02a34\" xlink:actuate=\"onRequest\" xlink:href=\"psysml:080adc10-96fd-4f72-8d28-a6aae1d02a34\" xlink:show=\"new\" xlink:title=\"psysml:080adc10-96fd-4f72-8d28-a6aae1d02a34\" xlink:type=\"simple\"><rect fill=\"#FFFFFF\" height=\"88.3516\" id=\"E13\" rx=\"10\" ry=\"10\" style=\"stroke: #383838; stroke-width: 1.5;\" width=\"50\" x=\"202\" y=\"449\"/><text fill=\"#000000\" font-family=\"sans-serif\" font-size=\"12\" font-style=\"italic\" lengthAdjust=\"spacingAndGlyphs\" textLength=\"40\" x=\"207\" y=\"465.1387\">«part»</text><text fill=\"#000000\" font-family=\"sans-serif\" font-size=\"12\" lengthAdjust=\"spacingAndGlyphs\" textLength=\"8\" x=\"223\" y=\"479.1074\">p</text><line style=\"stroke: #383838; stroke-width: 1.5;\" x1=\"203\" x2=\"251\" y1=\"486.9375\" y2=\"486.9375\"/><text fill=\"#000000\" font-family=\"sans-serif\" font-size=\"11\" lengthAdjust=\"spacingAndGlyphs\" textLength=\"29\" x=\"208\" y=\"517.9526\">p1: P</text><text fill=\"#000000\" font-family=\"sans-serif\" font-size=\"11\" lengthAdjust=\"spacingAndGlyphs\" textLength=\"38\" x=\"208\" y=\"530.7573\">p2: ~P</text><line style=\"stroke: #383838; stroke-width: 1.0;\" x1=\"203\" x2=\"212\" y1=\"501.3398\" y2=\"501.3398\"/><text fill=\"#000000\" font-family=\"sans-serif\" font-size=\"11\" lengthAdjust=\"spacingAndGlyphs\" textLength=\"30\" x=\"212\" y=\"504.6479\">ports</text><line style=\"stroke: #383838; stroke-width: 1.0;\" x1=\"242\" x2=\"251\" y1=\"501.3398\" y2=\"501.3398\"/></a><!--MD5=[062ed86c389d1a88f61c6380d0491e17]\n",
       "reverse link E12 to E13--><a href=\"psysml:06665d43-130c-4b8a-bdfd-d93e6351f975\" target=\"_top\" title=\"psysml:06665d43-130c-4b8a-bdfd-d93e6351f975\" xlink:actuate=\"onRequest\" xlink:href=\"psysml:06665d43-130c-4b8a-bdfd-d93e6351f975\" xlink:show=\"new\" xlink:title=\"psysml:06665d43-130c-4b8a-bdfd-d93e6351f975\" xlink:type=\"simple\"><path d=\"M132.96,507.16 C155.92,503.66 182.94,499.55 201.92,496.66 \" fill=\"none\" id=\"E12&lt;-E13\" style=\"stroke: #383838; stroke-width: 1.0;\"/><polygon fill=\"#383838\" points=\"120.01,509.13,126.5441,512.1804,131.873,507.3222,125.3389,504.2717,120.01,509.13\" style=\"stroke: #383838; stroke-width: 1.0;\"/></a><!--MD5=[43f704a12dc68257399ede3d75683bf6]\n",
       "@startuml\r\n",
       "left to right direction\r\n",
       "skinparam monochrome true\r\n",
       "skinparam classbackgroundcolor white\r\n",
       "skinparam shadowing false\r\n",
       "skinparam wrapWidth 300\r\n",
       "hide circle\r\n",
       "\r\n",
       "package \"ConjugationTest\" as E1  [[psysml:56f2a3b4-cc43-4fa3-8695-199f33536b50 ]]  {\r\n",
       "comp def \"P\" as E2  <<(T,blue)port def>> [[psysml:c0a3bc73-93c5-4b4d-b763-5833239b73fd ]] {\r\n",
       "}\r\n",
       "comp def \"B\" as E3  <<(T,blue)part def>> [[psysml:5cf63d0b-bb26-43ea-8091-2694cfd07b61 ]] {\r\n",
       "- - ports - -\r\n",
       "p1: P\r\n",
       "p2: ~P\r\n",
       "}\r\n",
       "comp def \"A\" as E6  <<(T,blue)connection def>> [[psysml:c95e8ce0-7583-4d42-8de3-1e3c8277134a ]] {\r\n",
       "- - ports - -\r\n",
       "p1: P\r\n",
       "p2: ~P\r\n",
       "}\r\n",
       "comp def \"I\" as E9  <<(T,blue)interface def>> [[psysml:3dca2d5e-c062-4427-93b4-bcb55890dd40 ]] {\r\n",
       "- - ports - -\r\n",
       "p1: P\r\n",
       "p2: ~P\r\n",
       "}\r\n",
       "comp def \"B1\" as E12  <<(T,blue)part def>> [[psysml:239b6b7d-2819-4aeb-bfce-341b8d8c5fb1 ]] {\r\n",
       "}\r\n",
       "comp usage \"p\" as E13  <<(T,blue)part>> [[psysml:080adc10-96fd-4f72-8d28-a6aae1d02a34 ]] {\r\n",
       "- - ports - -\r\n",
       "p1: P\r\n",
       "p2: ~P\r\n",
       "}\r\n",
       "E12 *- - E13 [[psysml:06665d43-130c-4b8a-bdfd-d93e6351f975 ]] \r\n",
       "}\r\n",
       "@enduml\r\n",
       "\n",
       "PlantUML version 1.2020.13(Sat Jun 13 12:26:38 UTC 2020)\n",
       "(EPL source distribution)\n",
       "Java Runtime: OpenJDK Runtime Environment\n",
       "JVM: OpenJDK 64-Bit Server VM\n",
       "Default Encoding: UTF-8\n",
       "Language: en\n",
       "Country: null\n",
       "--></g></svg>"
      ]
     },
     "execution_count": 16,
     "metadata": {},
     "output_type": "execute_result"
    }
   ],
   "source": [
    "%viz --style=\"LR\" --view=\"Default\" \"ConjugationTest\""
   ]
  },
  {
   "cell_type": "code",
   "execution_count": 17,
   "id": "680e1a63",
   "metadata": {
    "execution": {
     "iopub.execute_input": "2021-04-20T07:00:13.651517Z",
     "iopub.status.busy": "2021-04-20T07:00:13.650871Z",
     "iopub.status.idle": "2021-04-20T07:00:13.773563Z",
     "shell.execute_reply": "2021-04-20T07:00:13.773209Z"
    }
   },
   "outputs": [
    {
     "data": {
      "image/svg+xml": [
       "<?xml version=\"1.0\" encoding=\"UTF-8\" standalone=\"no\"?><svg xmlns=\"http://www.w3.org/2000/svg\" xmlns:xlink=\"http://www.w3.org/1999/xlink\" contentScriptType=\"application/ecmascript\" contentStyleType=\"text/css\" height=\"565px\" preserveAspectRatio=\"none\" style=\"width:290px;height:565px;\" version=\"1.1\" viewBox=\"0 0 290 565\" width=\"290px\" zoomAndPan=\"magnify\"><defs/><g><!--MD5=[fbc87193dbaf4d95561dea2c320d4a47]\n",
       "cluster E1--><a href=\"psysml:56f2a3b4-cc43-4fa3-8695-199f33536b50\" target=\"_top\" title=\"psysml:56f2a3b4-cc43-4fa3-8695-199f33536b50\" xlink:actuate=\"onRequest\" xlink:href=\"psysml:56f2a3b4-cc43-4fa3-8695-199f33536b50\" xlink:show=\"new\" xlink:title=\"psysml:56f2a3b4-cc43-4fa3-8695-199f33536b50\" xlink:type=\"simple\"><polygon fill=\"#FFFFFF\" points=\"16,6,151,6,158,28.2969,268,28.2969,268,553,16,553,16,6\" style=\"stroke: #000000; stroke-width: 1.5;\"/><line style=\"stroke: #000000; stroke-width: 1.5;\" x1=\"16\" x2=\"158\" y1=\"28.2969\" y2=\"28.2969\"/><text fill=\"#000000\" font-family=\"sans-serif\" font-size=\"14\" font-weight=\"bold\" lengthAdjust=\"spacingAndGlyphs\" textLength=\"129\" x=\"20\" y=\"20.9951\">ConjugationTest</text></a><!--MD5=[b4997ac47864f28c2f74865a473b2911]\n",
       "class E2--><a href=\"psysml:c0a3bc73-93c5-4b4d-b763-5833239b73fd\" target=\"_top\" title=\"psysml:c0a3bc73-93c5-4b4d-b763-5833239b73fd\" xlink:actuate=\"onRequest\" xlink:href=\"psysml:c0a3bc73-93c5-4b4d-b763-5833239b73fd\" xlink:show=\"new\" xlink:title=\"psysml:c0a3bc73-93c5-4b4d-b763-5833239b73fd\" xlink:type=\"simple\"><rect fill=\"#FFFFFF\" height=\"45.9375\" id=\"E2\" style=\"stroke: #383838; stroke-width: 1.5;\" width=\"66\" x=\"54\" y=\"41\"/><text fill=\"#000000\" font-family=\"sans-serif\" font-size=\"12\" font-style=\"italic\" lengthAdjust=\"spacingAndGlyphs\" textLength=\"64\" x=\"55\" y=\"57.1387\">«port def»</text><text fill=\"#000000\" font-family=\"sans-serif\" font-size=\"12\" lengthAdjust=\"spacingAndGlyphs\" textLength=\"8\" x=\"83\" y=\"71.1074\">P</text><line style=\"stroke: #383838; stroke-width: 1.5;\" x1=\"55\" x2=\"119\" y1=\"78.9375\" y2=\"78.9375\"/></a><!--MD5=[09b614a08d8cba4a07c9adeb5e0fee81]\n",
       "class E3--><a href=\"psysml:5cf63d0b-bb26-43ea-8091-2694cfd07b61\" target=\"_top\" title=\"psysml:5cf63d0b-bb26-43ea-8091-2694cfd07b61\" xlink:actuate=\"onRequest\" xlink:href=\"psysml:5cf63d0b-bb26-43ea-8091-2694cfd07b61\" xlink:show=\"new\" xlink:title=\"psysml:5cf63d0b-bb26-43ea-8091-2694cfd07b61\" xlink:type=\"simple\"><rect fill=\"#FFFFFF\" height=\"88.3516\" id=\"E3\" style=\"stroke: #383838; stroke-width: 1.5;\" width=\"66\" x=\"54\" y=\"122\"/><text fill=\"#000000\" font-family=\"sans-serif\" font-size=\"12\" font-style=\"italic\" lengthAdjust=\"spacingAndGlyphs\" textLength=\"64\" x=\"55\" y=\"138.1387\">«part def»</text><text fill=\"#000000\" font-family=\"sans-serif\" font-size=\"12\" lengthAdjust=\"spacingAndGlyphs\" textLength=\"8\" x=\"83\" y=\"152.1074\">B</text><line style=\"stroke: #383838; stroke-width: 1.5;\" x1=\"55\" x2=\"119\" y1=\"159.9375\" y2=\"159.9375\"/><text fill=\"#000000\" font-family=\"sans-serif\" font-size=\"11\" lengthAdjust=\"spacingAndGlyphs\" textLength=\"29\" x=\"60\" y=\"190.9526\">p1: P</text><text fill=\"#000000\" font-family=\"sans-serif\" font-size=\"11\" lengthAdjust=\"spacingAndGlyphs\" textLength=\"38\" x=\"60\" y=\"203.7573\">p2: ~P</text><line style=\"stroke: #383838; stroke-width: 1.0;\" x1=\"55\" x2=\"72\" y1=\"174.3398\" y2=\"174.3398\"/><text fill=\"#000000\" font-family=\"sans-serif\" font-size=\"11\" lengthAdjust=\"spacingAndGlyphs\" textLength=\"30\" x=\"72\" y=\"177.6479\">ports</text><line style=\"stroke: #383838; stroke-width: 1.0;\" x1=\"102\" x2=\"119\" y1=\"174.3398\" y2=\"174.3398\"/></a><!--MD5=[60a26617385b1d2d0262a64233df1f8d]\n",
       "class E6--><a href=\"psysml:c95e8ce0-7583-4d42-8de3-1e3c8277134a\" target=\"_top\" title=\"psysml:c95e8ce0-7583-4d42-8de3-1e3c8277134a\" xlink:actuate=\"onRequest\" xlink:href=\"psysml:c95e8ce0-7583-4d42-8de3-1e3c8277134a\" xlink:show=\"new\" xlink:title=\"psysml:c95e8ce0-7583-4d42-8de3-1e3c8277134a\" xlink:type=\"simple\"><rect fill=\"#FFFFFF\" height=\"88.3516\" id=\"E6\" style=\"stroke: #383838; stroke-width: 1.5;\" width=\"110\" x=\"32\" y=\"245\"/><text fill=\"#000000\" font-family=\"sans-serif\" font-size=\"12\" font-style=\"italic\" lengthAdjust=\"spacingAndGlyphs\" textLength=\"108\" x=\"33\" y=\"261.1387\">«connection def»</text><text fill=\"#000000\" font-family=\"sans-serif\" font-size=\"12\" lengthAdjust=\"spacingAndGlyphs\" textLength=\"8\" x=\"83\" y=\"275.1074\">A</text><line style=\"stroke: #383838; stroke-width: 1.5;\" x1=\"33\" x2=\"141\" y1=\"282.9375\" y2=\"282.9375\"/><text fill=\"#000000\" font-family=\"sans-serif\" font-size=\"11\" lengthAdjust=\"spacingAndGlyphs\" textLength=\"29\" x=\"38\" y=\"313.9526\">p1: P</text><text fill=\"#000000\" font-family=\"sans-serif\" font-size=\"11\" lengthAdjust=\"spacingAndGlyphs\" textLength=\"38\" x=\"38\" y=\"326.7573\">p2: ~P</text><line style=\"stroke: #383838; stroke-width: 1.0;\" x1=\"33\" x2=\"72\" y1=\"297.3398\" y2=\"297.3398\"/><text fill=\"#000000\" font-family=\"sans-serif\" font-size=\"11\" lengthAdjust=\"spacingAndGlyphs\" textLength=\"30\" x=\"72\" y=\"300.6479\">ports</text><line style=\"stroke: #383838; stroke-width: 1.0;\" x1=\"102\" x2=\"141\" y1=\"297.3398\" y2=\"297.3398\"/></a><!--MD5=[fd4143e9d270a159db93a4ea2a975926]\n",
       "class E9--><a href=\"psysml:3dca2d5e-c062-4427-93b4-bcb55890dd40\" target=\"_top\" title=\"psysml:3dca2d5e-c062-4427-93b4-bcb55890dd40\" xlink:actuate=\"onRequest\" xlink:href=\"psysml:3dca2d5e-c062-4427-93b4-bcb55890dd40\" xlink:show=\"new\" xlink:title=\"psysml:3dca2d5e-c062-4427-93b4-bcb55890dd40\" xlink:type=\"simple\"><rect fill=\"#FFFFFF\" height=\"88.3516\" id=\"E9\" style=\"stroke: #383838; stroke-width: 1.5;\" width=\"96\" x=\"39\" y=\"368\"/><text fill=\"#000000\" font-family=\"sans-serif\" font-size=\"12\" font-style=\"italic\" lengthAdjust=\"spacingAndGlyphs\" textLength=\"94\" x=\"40\" y=\"384.1387\">«interface def»</text><text fill=\"#000000\" font-family=\"sans-serif\" font-size=\"12\" lengthAdjust=\"spacingAndGlyphs\" textLength=\"3\" x=\"85.5\" y=\"398.1074\">I</text><line style=\"stroke: #383838; stroke-width: 1.5;\" x1=\"40\" x2=\"134\" y1=\"405.9375\" y2=\"405.9375\"/><text fill=\"#000000\" font-family=\"sans-serif\" font-size=\"11\" lengthAdjust=\"spacingAndGlyphs\" textLength=\"29\" x=\"45\" y=\"436.9526\">p1: P</text><text fill=\"#000000\" font-family=\"sans-serif\" font-size=\"11\" lengthAdjust=\"spacingAndGlyphs\" textLength=\"38\" x=\"45\" y=\"449.7573\">p2: ~P</text><line style=\"stroke: #383838; stroke-width: 1.0;\" x1=\"40\" x2=\"72\" y1=\"420.3398\" y2=\"420.3398\"/><text fill=\"#000000\" font-family=\"sans-serif\" font-size=\"11\" lengthAdjust=\"spacingAndGlyphs\" textLength=\"30\" x=\"72\" y=\"423.6479\">ports</text><line style=\"stroke: #383838; stroke-width: 1.0;\" x1=\"102\" x2=\"134\" y1=\"420.3398\" y2=\"420.3398\"/></a><!--MD5=[49a0ec8f00dab7302a31f22d0f0fe584]\n",
       "class E12--><a href=\"psysml:239b6b7d-2819-4aeb-bfce-341b8d8c5fb1\" target=\"_top\" title=\"psysml:239b6b7d-2819-4aeb-bfce-341b8d8c5fb1\" xlink:actuate=\"onRequest\" xlink:href=\"psysml:239b6b7d-2819-4aeb-bfce-341b8d8c5fb1\" xlink:show=\"new\" xlink:title=\"psysml:239b6b7d-2819-4aeb-bfce-341b8d8c5fb1\" xlink:type=\"simple\"><rect fill=\"#FFFFFF\" height=\"45.9375\" id=\"E12\" style=\"stroke: #383838; stroke-width: 1.5;\" width=\"66\" x=\"54\" y=\"491\"/><text fill=\"#000000\" font-family=\"sans-serif\" font-size=\"12\" font-style=\"italic\" lengthAdjust=\"spacingAndGlyphs\" textLength=\"64\" x=\"55\" y=\"507.1387\">«part def»</text><text fill=\"#000000\" font-family=\"sans-serif\" font-size=\"12\" lengthAdjust=\"spacingAndGlyphs\" textLength=\"16\" x=\"79\" y=\"521.1074\">B1</text><line style=\"stroke: #383838; stroke-width: 1.5;\" x1=\"55\" x2=\"119\" y1=\"528.9375\" y2=\"528.9375\"/></a><!--MD5=[ee3c913d1a06f366521f9ef512b67efe]\n",
       "class E13--><a href=\"psysml:080adc10-96fd-4f72-8d28-a6aae1d02a34\" target=\"_top\" title=\"psysml:080adc10-96fd-4f72-8d28-a6aae1d02a34\" xlink:actuate=\"onRequest\" xlink:href=\"psysml:080adc10-96fd-4f72-8d28-a6aae1d02a34\" xlink:show=\"new\" xlink:title=\"psysml:080adc10-96fd-4f72-8d28-a6aae1d02a34\" xlink:type=\"simple\"><rect fill=\"#FFFFFF\" height=\"88.3516\" id=\"E13\" rx=\"10\" ry=\"10\" style=\"stroke: #383838; stroke-width: 1.5;\" width=\"50\" x=\"202\" y=\"449\"/><text fill=\"#000000\" font-family=\"sans-serif\" font-size=\"12\" font-style=\"italic\" lengthAdjust=\"spacingAndGlyphs\" textLength=\"40\" x=\"207\" y=\"465.1387\">«part»</text><text fill=\"#000000\" font-family=\"sans-serif\" font-size=\"12\" lengthAdjust=\"spacingAndGlyphs\" textLength=\"8\" x=\"223\" y=\"479.1074\">p</text><line style=\"stroke: #383838; stroke-width: 1.5;\" x1=\"203\" x2=\"251\" y1=\"486.9375\" y2=\"486.9375\"/><text fill=\"#000000\" font-family=\"sans-serif\" font-size=\"11\" lengthAdjust=\"spacingAndGlyphs\" textLength=\"29\" x=\"208\" y=\"517.9526\">p1: P</text><text fill=\"#000000\" font-family=\"sans-serif\" font-size=\"11\" lengthAdjust=\"spacingAndGlyphs\" textLength=\"38\" x=\"208\" y=\"530.7573\">p2: ~P</text><line style=\"stroke: #383838; stroke-width: 1.0;\" x1=\"203\" x2=\"212\" y1=\"501.3398\" y2=\"501.3398\"/><text fill=\"#000000\" font-family=\"sans-serif\" font-size=\"11\" lengthAdjust=\"spacingAndGlyphs\" textLength=\"30\" x=\"212\" y=\"504.6479\">ports</text><line style=\"stroke: #383838; stroke-width: 1.0;\" x1=\"242\" x2=\"251\" y1=\"501.3398\" y2=\"501.3398\"/></a><!--MD5=[062ed86c389d1a88f61c6380d0491e17]\n",
       "reverse link E12 to E13--><a href=\"psysml:06665d43-130c-4b8a-bdfd-d93e6351f975\" target=\"_top\" title=\"psysml:06665d43-130c-4b8a-bdfd-d93e6351f975\" xlink:actuate=\"onRequest\" xlink:href=\"psysml:06665d43-130c-4b8a-bdfd-d93e6351f975\" xlink:show=\"new\" xlink:title=\"psysml:06665d43-130c-4b8a-bdfd-d93e6351f975\" xlink:type=\"simple\"><path d=\"M132.96,507.16 C155.92,503.66 182.94,499.55 201.92,496.66 \" fill=\"none\" id=\"E12&lt;-E13\" style=\"stroke: #383838; stroke-width: 1.0;\"/><polygon fill=\"#383838\" points=\"120.01,509.13,126.5441,512.1804,131.873,507.3222,125.3389,504.2717,120.01,509.13\" style=\"stroke: #383838; stroke-width: 1.0;\"/></a><!--MD5=[43f704a12dc68257399ede3d75683bf6]\n",
       "@startuml\r\n",
       "left to right direction\r\n",
       "skinparam monochrome true\r\n",
       "skinparam classbackgroundcolor white\r\n",
       "skinparam shadowing false\r\n",
       "skinparam wrapWidth 300\r\n",
       "hide circle\r\n",
       "\r\n",
       "package \"ConjugationTest\" as E1  [[psysml:56f2a3b4-cc43-4fa3-8695-199f33536b50 ]]  {\r\n",
       "comp def \"P\" as E2  <<(T,blue)port def>> [[psysml:c0a3bc73-93c5-4b4d-b763-5833239b73fd ]] {\r\n",
       "}\r\n",
       "comp def \"B\" as E3  <<(T,blue)part def>> [[psysml:5cf63d0b-bb26-43ea-8091-2694cfd07b61 ]] {\r\n",
       "- - ports - -\r\n",
       "p1: P\r\n",
       "p2: ~P\r\n",
       "}\r\n",
       "comp def \"A\" as E6  <<(T,blue)connection def>> [[psysml:c95e8ce0-7583-4d42-8de3-1e3c8277134a ]] {\r\n",
       "- - ports - -\r\n",
       "p1: P\r\n",
       "p2: ~P\r\n",
       "}\r\n",
       "comp def \"I\" as E9  <<(T,blue)interface def>> [[psysml:3dca2d5e-c062-4427-93b4-bcb55890dd40 ]] {\r\n",
       "- - ports - -\r\n",
       "p1: P\r\n",
       "p2: ~P\r\n",
       "}\r\n",
       "comp def \"B1\" as E12  <<(T,blue)part def>> [[psysml:239b6b7d-2819-4aeb-bfce-341b8d8c5fb1 ]] {\r\n",
       "}\r\n",
       "comp usage \"p\" as E13  <<(T,blue)part>> [[psysml:080adc10-96fd-4f72-8d28-a6aae1d02a34 ]] {\r\n",
       "- - ports - -\r\n",
       "p1: P\r\n",
       "p2: ~P\r\n",
       "}\r\n",
       "E12 *- - E13 [[psysml:06665d43-130c-4b8a-bdfd-d93e6351f975 ]] \r\n",
       "}\r\n",
       "@enduml\r\n",
       "\n",
       "PlantUML version 1.2020.13(Sat Jun 13 12:26:38 UTC 2020)\n",
       "(EPL source distribution)\n",
       "Java Runtime: OpenJDK Runtime Environment\n",
       "JVM: OpenJDK 64-Bit Server VM\n",
       "Default Encoding: UTF-8\n",
       "Language: en\n",
       "Country: null\n",
       "--></g></svg>"
      ]
     },
     "execution_count": 17,
     "metadata": {},
     "output_type": "execute_result"
    }
   ],
   "source": [
    "%viz --style=\"LR\" --view=\"Tree\" \"ConjugationTest\""
   ]
  },
  {
   "cell_type": "code",
   "execution_count": 18,
   "id": "964a7ff9",
   "metadata": {
    "execution": {
     "iopub.execute_input": "2021-04-20T07:00:13.825252Z",
     "iopub.status.busy": "2021-04-20T07:00:13.824434Z",
     "iopub.status.idle": "2021-04-20T07:00:13.831305Z",
     "shell.execute_reply": "2021-04-20T07:00:13.830795Z"
    }
   },
   "outputs": [
    {
     "data": {
      "image/svg+xml": [
       "<?xml version=\"1.0\" encoding=\"UTF-8\" standalone=\"no\"?><svg xmlns=\"http://www.w3.org/2000/svg\" xmlns:xlink=\"http://www.w3.org/1999/xlink\" contentScriptType=\"application/ecmascript\" contentStyleType=\"text/css\" height=\"12px\" preserveAspectRatio=\"none\" style=\"width:12px;height:12px;\" version=\"1.1\" viewBox=\"0 0 12 12\" width=\"12px\" zoomAndPan=\"magnify\"><defs/><g><!--MD5=[19d285c9d72a204eba4e2cd117d745e8]\n",
       "@startuml\r\n",
       "left to right direction\r\n",
       "skinparam monochrome true\r\n",
       "skinparam classbackgroundcolor white\r\n",
       "skinparam shadowing false\r\n",
       "skinparam wrapWidth 300\r\n",
       "hide circle\r\n",
       "\r\n",
       "@enduml\r\n",
       "\n",
       "PlantUML version 1.2020.13(Sat Jun 13 12:26:38 UTC 2020)\n",
       "(EPL source distribution)\n",
       "Java Runtime: OpenJDK Runtime Environment\n",
       "JVM: OpenJDK 64-Bit Server VM\n",
       "Default Encoding: UTF-8\n",
       "Language: en\n",
       "Country: null\n",
       "--></g></svg>"
      ]
     },
     "execution_count": 18,
     "metadata": {},
     "output_type": "execute_result"
    }
   ],
   "source": [
    "%viz --style=\"LR\" --view=\"State\" \"ConjugationTest\""
   ]
  },
  {
   "cell_type": "code",
   "execution_count": 19,
   "id": "d6f22533",
   "metadata": {
    "execution": {
     "iopub.execute_input": "2021-04-20T07:00:13.881859Z",
     "iopub.status.busy": "2021-04-20T07:00:13.881121Z",
     "iopub.status.idle": "2021-04-20T07:00:13.942342Z",
     "shell.execute_reply": "2021-04-20T07:00:13.941908Z"
    }
   },
   "outputs": [
    {
     "data": {
      "image/svg+xml": [
       "<?xml version=\"1.0\" encoding=\"UTF-8\" standalone=\"no\"?><svg xmlns=\"http://www.w3.org/2000/svg\" xmlns:xlink=\"http://www.w3.org/1999/xlink\" contentScriptType=\"application/ecmascript\" contentStyleType=\"text/css\" height=\"550px\" preserveAspectRatio=\"none\" style=\"width:313px;height:550px;\" version=\"1.1\" viewBox=\"0 0 313 550\" width=\"313px\" zoomAndPan=\"magnify\"><defs/><g><!--MD5=[fbc87193dbaf4d95561dea2c320d4a47]\n",
       "cluster E1--><a href=\"psysml:56f2a3b4-cc43-4fa3-8695-199f33536b50\" target=\"_top\" title=\"psysml:56f2a3b4-cc43-4fa3-8695-199f33536b50\" xlink:actuate=\"onRequest\" xlink:href=\"psysml:56f2a3b4-cc43-4fa3-8695-199f33536b50\" xlink:show=\"new\" xlink:title=\"psysml:56f2a3b4-cc43-4fa3-8695-199f33536b50\" xlink:type=\"simple\"><polygon fill=\"#FFFFFF\" points=\"16,6,151,6,158,28.2969,291.5,28.2969,291.5,538,16,538,16,6\" style=\"stroke: #000000; stroke-width: 1.5;\"/><line style=\"stroke: #000000; stroke-width: 1.5;\" x1=\"16\" x2=\"158\" y1=\"28.2969\" y2=\"28.2969\"/><text fill=\"#000000\" font-family=\"sans-serif\" font-size=\"14\" font-weight=\"bold\" lengthAdjust=\"spacingAndGlyphs\" textLength=\"129\" x=\"20\" y=\"20.9951\">ConjugationTest</text></a><!--MD5=[d5e69f78d87373223dbae638b30a9c99]\n",
       "cluster E3--><a href=\"psysml:5cf63d0b-bb26-43ea-8091-2694cfd07b61\" target=\"_top\" title=\"psysml:5cf63d0b-bb26-43ea-8091-2694cfd07b61\" xlink:actuate=\"onRequest\" xlink:href=\"psysml:5cf63d0b-bb26-43ea-8091-2694cfd07b61\" xlink:show=\"new\" xlink:title=\"psysml:5cf63d0b-bb26-43ea-8091-2694cfd07b61\" xlink:type=\"simple\"><rect fill=\"#FFFFFF\" height=\"47\" id=\"E3\" style=\"stroke: #383838; stroke-width: 1.5;\" width=\"198\" x=\"52\" y=\"55\"/><rect fill=\"#F8F8F8\" height=\"37.9375\" style=\"stroke: #383838; stroke-width: 1.5;\" width=\"198\" x=\"52\" y=\"55\"/><text fill=\"#000000\" font-family=\"sans-serif\" font-size=\"12\" font-style=\"italic\" lengthAdjust=\"spacingAndGlyphs\" textLength=\"64\" x=\"119\" y=\"71.1387\">«part def»</text><text fill=\"#000000\" font-family=\"sans-serif\" font-size=\"12\" lengthAdjust=\"spacingAndGlyphs\" textLength=\"8\" x=\"147\" y=\"85.1074\">B</text></a><!--MD5=[14e3b0961a2654348d326746436168a1]\n",
       "cluster E6--><a href=\"psysml:c95e8ce0-7583-4d42-8de3-1e3c8277134a\" target=\"_top\" title=\"psysml:c95e8ce0-7583-4d42-8de3-1e3c8277134a\" xlink:actuate=\"onRequest\" xlink:href=\"psysml:c95e8ce0-7583-4d42-8de3-1e3c8277134a\" xlink:show=\"new\" xlink:title=\"psysml:c95e8ce0-7583-4d42-8de3-1e3c8277134a\" xlink:type=\"simple\"><rect fill=\"#FFFFFF\" height=\"47\" id=\"E6\" style=\"stroke: #383838; stroke-width: 1.5;\" width=\"223.5\" x=\"52\" y=\"149\"/><rect fill=\"#F8F8F8\" height=\"37.9375\" style=\"stroke: #383838; stroke-width: 1.5;\" width=\"223.5\" x=\"52\" y=\"149\"/><text fill=\"#000000\" font-family=\"sans-serif\" font-size=\"12\" font-style=\"italic\" lengthAdjust=\"spacingAndGlyphs\" textLength=\"108\" x=\"109.75\" y=\"165.1387\">«connection def»</text><text fill=\"#000000\" font-family=\"sans-serif\" font-size=\"12\" lengthAdjust=\"spacingAndGlyphs\" textLength=\"8\" x=\"159.75\" y=\"179.1074\">A</text></a><!--MD5=[7f149f147074ac12df2cb0a7728a5fb0]\n",
       "cluster E9--><a href=\"psysml:3dca2d5e-c062-4427-93b4-bcb55890dd40\" target=\"_top\" title=\"psysml:3dca2d5e-c062-4427-93b4-bcb55890dd40\" xlink:actuate=\"onRequest\" xlink:href=\"psysml:3dca2d5e-c062-4427-93b4-bcb55890dd40\" xlink:show=\"new\" xlink:title=\"psysml:3dca2d5e-c062-4427-93b4-bcb55890dd40\" xlink:type=\"simple\"><rect fill=\"#FFFFFF\" height=\"47\" id=\"E9\" style=\"stroke: #383838; stroke-width: 1.5;\" width=\"214.5\" x=\"52\" y=\"243\"/><rect fill=\"#F8F8F8\" height=\"37.9375\" style=\"stroke: #383838; stroke-width: 1.5;\" width=\"214.5\" x=\"52\" y=\"243\"/><text fill=\"#000000\" font-family=\"sans-serif\" font-size=\"12\" font-style=\"italic\" lengthAdjust=\"spacingAndGlyphs\" textLength=\"94\" x=\"112.25\" y=\"259.1387\">«interface def»</text><text fill=\"#000000\" font-family=\"sans-serif\" font-size=\"12\" lengthAdjust=\"spacingAndGlyphs\" textLength=\"3\" x=\"157.75\" y=\"273.1074\">I</text></a><!--MD5=[47bea60c1a0ac6c1143df232041969c0]\n",
       "cluster E12--><a href=\"psysml:239b6b7d-2819-4aeb-bfce-341b8d8c5fb1\" target=\"_top\" title=\"psysml:239b6b7d-2819-4aeb-bfce-341b8d8c5fb1\" xlink:actuate=\"onRequest\" xlink:href=\"psysml:239b6b7d-2819-4aeb-bfce-341b8d8c5fb1\" xlink:show=\"new\" xlink:title=\"psysml:239b6b7d-2819-4aeb-bfce-341b8d8c5fb1\" xlink:type=\"simple\"><rect fill=\"#FFFFFF\" height=\"142\" id=\"E12\" style=\"stroke: #383838; stroke-width: 1.5;\" width=\"195.5\" x=\"40\" y=\"320\"/><rect fill=\"#F8F8F8\" height=\"37.9375\" style=\"stroke: #383838; stroke-width: 1.5;\" width=\"195.5\" x=\"40\" y=\"320\"/><text fill=\"#000000\" font-family=\"sans-serif\" font-size=\"12\" font-style=\"italic\" lengthAdjust=\"spacingAndGlyphs\" textLength=\"64\" x=\"105.75\" y=\"336.1387\">«part def»</text><text fill=\"#000000\" font-family=\"sans-serif\" font-size=\"12\" lengthAdjust=\"spacingAndGlyphs\" textLength=\"16\" x=\"129.75\" y=\"350.1074\">B1</text></a><!--MD5=[03104f77b71e2d8d3500c651e6e31181]\n",
       "cluster E13--><a href=\"psysml:080adc10-96fd-4f72-8d28-a6aae1d02a34\" target=\"_top\" title=\"psysml:080adc10-96fd-4f72-8d28-a6aae1d02a34\" xlink:actuate=\"onRequest\" xlink:href=\"psysml:080adc10-96fd-4f72-8d28-a6aae1d02a34\" xlink:show=\"new\" xlink:title=\"psysml:080adc10-96fd-4f72-8d28-a6aae1d02a34\" xlink:type=\"simple\"><rect fill=\"#FFFFFF\" height=\"47\" id=\"E13\" rx=\"10\" ry=\"10\" style=\"stroke: #383838; stroke-width: 1.5;\" width=\"167.5\" x=\"52\" y=\"385\"/><rect fill=\"#F8F8F8\" height=\"23.9688\" rx=\"10\" ry=\"10\" style=\"stroke: #F8F8F8; stroke-width: 1.5;\" width=\"167.5\" x=\"52\" y=\"385\"/><rect fill=\"#F8F8F8\" height=\"10\" style=\"stroke: #F8F8F8; stroke-width: 1.5;\" width=\"167.5\" x=\"52\" y=\"398.9688\"/><rect fill=\"none\" height=\"47\" id=\"E13\" rx=\"10\" ry=\"10\" style=\"stroke: #383838; stroke-width: 1.5;\" width=\"167.5\" x=\"52\" y=\"385\"/><text fill=\"#000000\" font-family=\"sans-serif\" font-size=\"12\" lengthAdjust=\"spacingAndGlyphs\" textLength=\"8\" x=\"131.75\" y=\"401.1387\">p</text><line style=\"stroke: #383838; stroke-width: 1.0;\" x1=\"52\" x2=\"219.5\" y1=\"408.9688\" y2=\"408.9688\"/></a><g id=\"E1.E2\"><a href=\"psysml:c0a3bc73-93c5-4b4d-b763-5833239b73fd\" target=\"_top\" title=\"psysml:c0a3bc73-93c5-4b4d-b763-5833239b73fd\" xlink:actuate=\"onRequest\" xlink:href=\"psysml:c0a3bc73-93c5-4b4d-b763-5833239b73fd\" xlink:show=\"new\" xlink:title=\"psysml:c0a3bc73-93c5-4b4d-b763-5833239b73fd\" xlink:type=\"simple\"><rect fill=\"#FFFFFF\" height=\"42.9375\" id=\"E2\" style=\"stroke: #383838; stroke-width: 1.5;\" width=\"71\" x=\"34.5\" y=\"478.5\"/><rect fill=\"#F8F8F8\" height=\"37.9375\" style=\"stroke: #383838; stroke-width: 1.5;\" width=\"71\" x=\"34.5\" y=\"478.5\"/><text fill=\"#000000\" font-family=\"sans-serif\" font-size=\"12\" font-style=\"italic\" lengthAdjust=\"spacingAndGlyphs\" textLength=\"64\" x=\"38\" y=\"494.6387\">«port def»</text><text fill=\"#000000\" font-family=\"sans-serif\" font-size=\"12\" lengthAdjust=\"spacingAndGlyphs\" textLength=\"8\" x=\"66\" y=\"508.6074\">P</text></a></g><text fill=\"#000000\" font-family=\"sans-serif\" font-size=\"14\" lengthAdjust=\"spacingAndGlyphs\" textLength=\"36\" x=\"52\" y=\"120.9951\">p1: P</text><rect fill=\"#383838\" height=\"12\" style=\"stroke: #F8F8F8; stroke-width: 1.5;\" width=\"12\" x=\"64\" y=\"96\"/><text fill=\"#000000\" font-family=\"sans-serif\" font-size=\"14\" lengthAdjust=\"spacingAndGlyphs\" textLength=\"48\" x=\"46\" y=\"33.6982\">p2: ~P</text><rect fill=\"#383838\" height=\"12\" style=\"stroke: #F8F8F8; stroke-width: 1.5;\" width=\"12\" x=\"64\" y=\"49\"/><text fill=\"#000000\" font-family=\"sans-serif\" font-size=\"14\" lengthAdjust=\"spacingAndGlyphs\" textLength=\"36\" x=\"52\" y=\"214.9951\">p1: P</text><rect fill=\"#383838\" height=\"12\" style=\"stroke: #F8F8F8; stroke-width: 1.5;\" width=\"12\" x=\"64\" y=\"190\"/><text fill=\"#000000\" font-family=\"sans-serif\" font-size=\"14\" lengthAdjust=\"spacingAndGlyphs\" textLength=\"48\" x=\"46\" y=\"127.6982\">p2: ~P</text><rect fill=\"#383838\" height=\"12\" style=\"stroke: #F8F8F8; stroke-width: 1.5;\" width=\"12\" x=\"64\" y=\"143\"/><text fill=\"#000000\" font-family=\"sans-serif\" font-size=\"14\" lengthAdjust=\"spacingAndGlyphs\" textLength=\"36\" x=\"52\" y=\"308.9951\">p1: P</text><rect fill=\"#383838\" height=\"12\" style=\"stroke: #F8F8F8; stroke-width: 1.5;\" width=\"12\" x=\"64\" y=\"284\"/><text fill=\"#000000\" font-family=\"sans-serif\" font-size=\"14\" lengthAdjust=\"spacingAndGlyphs\" textLength=\"48\" x=\"46\" y=\"221.6982\">p2: ~P</text><rect fill=\"#383838\" height=\"12\" style=\"stroke: #F8F8F8; stroke-width: 1.5;\" width=\"12\" x=\"64\" y=\"237\"/><text fill=\"#000000\" font-family=\"sans-serif\" font-size=\"14\" lengthAdjust=\"spacingAndGlyphs\" textLength=\"36\" x=\"52\" y=\"450.9951\">p1: P</text><rect fill=\"#383838\" height=\"12\" style=\"stroke: #F8F8F8; stroke-width: 1.5;\" width=\"12\" x=\"64\" y=\"426\"/><text fill=\"#000000\" font-family=\"sans-serif\" font-size=\"14\" lengthAdjust=\"spacingAndGlyphs\" textLength=\"48\" x=\"46\" y=\"363.6982\">p2: ~P</text><rect fill=\"#383838\" height=\"12\" style=\"stroke: #F8F8F8; stroke-width: 1.5;\" width=\"12\" x=\"64\" y=\"379\"/><!--MD5=[4ce51ac6fa4cf5202df3859e2718f033]\n",
       "link E15 to E14--><a href=\"psysml:b40b8767-d304-49cf-ad0a-af8e9dd9f9d8\" target=\"_top\" title=\"psysml:b40b8767-d304-49cf-ad0a-af8e9dd9f9d8\" xlink:actuate=\"onRequest\" xlink:href=\"psysml:b40b8767-d304-49cf-ad0a-af8e9dd9f9d8\" xlink:show=\"new\" xlink:title=\"psysml:b40b8767-d304-49cf-ad0a-af8e9dd9f9d8\" xlink:type=\"simple\"><path d=\"M70,391.05 C70,402.62 70,414.19 70,425.76 \" fill=\"none\" id=\"E15-E14\" style=\"stroke: #383838; stroke-width: 3.0;\"/></a><!--MD5=[4ce51ac6fa4cf5202df3859e2718f033]\n",
       "link E15 to E14--><a href=\"psysml:e453fd18-f914-4bbc-b21b-733251b90d8d\" target=\"_top\" title=\"psysml:e453fd18-f914-4bbc-b21b-733251b90d8d\" xlink:actuate=\"onRequest\" xlink:href=\"psysml:e453fd18-f914-4bbc-b21b-733251b90d8d\" xlink:show=\"new\" xlink:title=\"psysml:e453fd18-f914-4bbc-b21b-733251b90d8d\" xlink:type=\"simple\"><path d=\"M67.98,391.05 C64.69,402.62 64.67,414.19 67.93,425.76 \" fill=\"none\" id=\"E15-E14-1\" style=\"stroke: #383838; stroke-width: 3.0;\"/></a><!--MD5=[6df8675c8745e6c15a6802099202be9e]\n",
       "@startuml\r\n",
       "skinparam ranksep 10\r\n",
       "skinparam rectangle {\r\n",
       " backgroundColor<<block>> LightGreen\r\n",
       "}\r\n",
       "left to right direction\r\n",
       "skinparam monochrome true\r\n",
       "skinparam classbackgroundcolor white\r\n",
       "skinparam shadowing false\r\n",
       "skinparam wrapWidth 300\r\n",
       "hide circle\r\n",
       "\r\n",
       "package \"ConjugationTest\" as E1  [[psysml:56f2a3b4-cc43-4fa3-8695-199f33536b50 ]]  {\r\n",
       "def \"P\" as E2  <<(T,blue)port def>> [[psysml:c0a3bc73-93c5-4b4d-b763-5833239b73fd ]] \r\n",
       "rec def \"B\" as E3  <<(T,blue)part def>> [[psysml:5cf63d0b-bb26-43ea-8091-2694cfd07b61 ]] {\r\n",
       "portin \"p1: P\" as E4  <<(T,blue)port>> [[psysml:c76b55b8-c5f7-4b06-9682-6e30a37606f5 ]] \r\n",
       "portin \"p2: ~P\" as E5  <<(T,blue)port>> [[psysml:35da94da-d279-45b2-babf-0a6a90392647 ]] \r\n",
       "}\r\n",
       "rec def \"A\" as E6  <<(T,blue)connection def>> [[psysml:c95e8ce0-7583-4d42-8de3-1e3c8277134a ]] {\r\n",
       "portin \"p1: P\" as E7  <<(T,blue)port>> [[psysml:2d7c72e0-11ff-44e8-b252-bce43cdf8c5c ]] \r\n",
       "portin \"p2: ~P\" as E8  <<(T,blue)port>> [[psysml:32f7297e-deaa-40d0-ad2f-7459de0cc2ac ]] \r\n",
       "}\r\n",
       "rec def \"I\" as E9  <<(T,blue)interface def>> [[psysml:3dca2d5e-c062-4427-93b4-bcb55890dd40 ]] {\r\n",
       "portin \"p1: P\" as E10  <<(T,blue)port>> [[psysml:c5132c6d-1853-42dd-8f4d-8690518006d4 ]] \r\n",
       "portin \"p2: ~P\" as E11  <<(T,blue)port>> [[psysml:dfe5ce78-d727-465a-9c67-ad29336ed483 ]] \r\n",
       "}\r\n",
       "rec def \"B1\" as E12  <<(T,blue)part def>> [[psysml:239b6b7d-2819-4aeb-bfce-341b8d8c5fb1 ]] {\r\n",
       "rec usage \"p\" as E13  [[psysml:080adc10-96fd-4f72-8d28-a6aae1d02a34 ]] {\r\n",
       "portin \"p1: P\" as E14  <<(T,blue)port>> [[psysml:990bba01-cfb0-414f-879e-e0e887a1aff5 ]] \r\n",
       "portin \"p2: ~P\" as E15  <<(T,blue)port>> [[psysml:ea02eef2-b064-45a9-9708-410d7204d199 ]] \r\n",
       "}\r\n",
       "}\r\n",
       "E15 -[thickness=3]- E14 [[psysml:b40b8767-d304-49cf-ad0a-af8e9dd9f9d8 ]] \r\n",
       "E15 -[thickness=3]- E14 [[psysml:e453fd18-f914-4bbc-b21b-733251b90d8d ]] \r\n",
       "}\r\n",
       "@enduml\r\n",
       "\n",
       "PlantUML version 1.2020.13(Sat Jun 13 12:26:38 UTC 2020)\n",
       "(EPL source distribution)\n",
       "Java Runtime: OpenJDK Runtime Environment\n",
       "JVM: OpenJDK 64-Bit Server VM\n",
       "Default Encoding: UTF-8\n",
       "Language: en\n",
       "Country: null\n",
       "--></g></svg>"
      ]
     },
     "execution_count": 19,
     "metadata": {},
     "output_type": "execute_result"
    }
   ],
   "source": [
    "%viz --style=\"LR\" --view=\"Interconnection\" \"ConjugationTest\""
   ]
  },
  {
   "cell_type": "code",
   "execution_count": 20,
   "id": "5caf18bc",
   "metadata": {
    "execution": {
     "iopub.execute_input": "2021-04-20T07:00:13.992447Z",
     "iopub.status.busy": "2021-04-20T07:00:13.992055Z",
     "iopub.status.idle": "2021-04-20T07:00:13.999158Z",
     "shell.execute_reply": "2021-04-20T07:00:13.998864Z"
    }
   },
   "outputs": [
    {
     "data": {
      "image/svg+xml": [
       "<?xml version=\"1.0\" encoding=\"UTF-8\" standalone=\"no\"?><svg xmlns=\"http://www.w3.org/2000/svg\" xmlns:xlink=\"http://www.w3.org/1999/xlink\" contentScriptType=\"application/ecmascript\" contentStyleType=\"text/css\" height=\"12px\" preserveAspectRatio=\"none\" style=\"width:12px;height:12px;\" version=\"1.1\" viewBox=\"0 0 12 12\" width=\"12px\" zoomAndPan=\"magnify\"><defs/><g><!--MD5=[7aeb398939421629f6affaa4a1a7b125]\n",
       "@startuml\r\n",
       "skinparam ranksep 8\r\n",
       "left to right direction\r\n",
       "skinparam monochrome true\r\n",
       "skinparam classbackgroundcolor white\r\n",
       "skinparam shadowing false\r\n",
       "skinparam wrapWidth 300\r\n",
       "hide circle\r\n",
       "\r\n",
       "@enduml\r\n",
       "\n",
       "PlantUML version 1.2020.13(Sat Jun 13 12:26:38 UTC 2020)\n",
       "(EPL source distribution)\n",
       "Java Runtime: OpenJDK Runtime Environment\n",
       "JVM: OpenJDK 64-Bit Server VM\n",
       "Default Encoding: UTF-8\n",
       "Language: en\n",
       "Country: null\n",
       "--></g></svg>"
      ]
     },
     "execution_count": 20,
     "metadata": {},
     "output_type": "execute_result"
    }
   ],
   "source": [
    "%viz --style=\"LR\" --view=\"Action\" \"ConjugationTest\""
   ]
  },
  {
   "cell_type": "code",
   "execution_count": 21,
   "id": "b6cf2b90",
   "metadata": {
    "execution": {
     "iopub.execute_input": "2021-04-20T07:00:14.050332Z",
     "iopub.status.busy": "2021-04-20T07:00:14.049645Z",
     "iopub.status.idle": "2021-04-20T07:00:14.149537Z",
     "shell.execute_reply": "2021-04-20T07:00:14.148065Z"
    }
   },
   "outputs": [
    {
     "data": {
      "image/svg+xml": [
       "<?xml version=\"1.0\" encoding=\"UTF-8\" standalone=\"no\"?><svg xmlns=\"http://www.w3.org/2000/svg\" xmlns:xlink=\"http://www.w3.org/1999/xlink\" contentScriptType=\"application/ecmascript\" contentStyleType=\"text/css\" height=\"565px\" preserveAspectRatio=\"none\" style=\"width:290px;height:565px;\" version=\"1.1\" viewBox=\"0 0 290 565\" width=\"290px\" zoomAndPan=\"magnify\"><defs/><g><!--MD5=[fbc87193dbaf4d95561dea2c320d4a47]\n",
       "cluster E1--><a href=\"psysml:56f2a3b4-cc43-4fa3-8695-199f33536b50\" target=\"_top\" title=\"psysml:56f2a3b4-cc43-4fa3-8695-199f33536b50\" xlink:actuate=\"onRequest\" xlink:href=\"psysml:56f2a3b4-cc43-4fa3-8695-199f33536b50\" xlink:show=\"new\" xlink:title=\"psysml:56f2a3b4-cc43-4fa3-8695-199f33536b50\" xlink:type=\"simple\"><polygon fill=\"#FFFFFF\" points=\"16,6,151,6,158,28.2969,268,28.2969,268,553,16,553,16,6\" style=\"stroke: #000000; stroke-width: 1.5;\"/><line style=\"stroke: #000000; stroke-width: 1.5;\" x1=\"16\" x2=\"158\" y1=\"28.2969\" y2=\"28.2969\"/><text fill=\"#000000\" font-family=\"sans-serif\" font-size=\"14\" font-weight=\"bold\" lengthAdjust=\"spacingAndGlyphs\" textLength=\"129\" x=\"20\" y=\"20.9951\">ConjugationTest</text></a><!--MD5=[b4997ac47864f28c2f74865a473b2911]\n",
       "class E2--><a href=\"psysml:c0a3bc73-93c5-4b4d-b763-5833239b73fd\" target=\"_top\" title=\"psysml:c0a3bc73-93c5-4b4d-b763-5833239b73fd\" xlink:actuate=\"onRequest\" xlink:href=\"psysml:c0a3bc73-93c5-4b4d-b763-5833239b73fd\" xlink:show=\"new\" xlink:title=\"psysml:c0a3bc73-93c5-4b4d-b763-5833239b73fd\" xlink:type=\"simple\"><rect fill=\"#FFFFFF\" height=\"45.9375\" id=\"E2\" style=\"stroke: #383838; stroke-width: 1.5;\" width=\"66\" x=\"54\" y=\"41\"/><text fill=\"#000000\" font-family=\"sans-serif\" font-size=\"12\" font-style=\"italic\" lengthAdjust=\"spacingAndGlyphs\" textLength=\"64\" x=\"55\" y=\"57.1387\">«port def»</text><text fill=\"#000000\" font-family=\"sans-serif\" font-size=\"12\" lengthAdjust=\"spacingAndGlyphs\" textLength=\"8\" x=\"83\" y=\"71.1074\">P</text><line style=\"stroke: #383838; stroke-width: 1.5;\" x1=\"55\" x2=\"119\" y1=\"78.9375\" y2=\"78.9375\"/></a><!--MD5=[09b614a08d8cba4a07c9adeb5e0fee81]\n",
       "class E3--><a href=\"psysml:5cf63d0b-bb26-43ea-8091-2694cfd07b61\" target=\"_top\" title=\"psysml:5cf63d0b-bb26-43ea-8091-2694cfd07b61\" xlink:actuate=\"onRequest\" xlink:href=\"psysml:5cf63d0b-bb26-43ea-8091-2694cfd07b61\" xlink:show=\"new\" xlink:title=\"psysml:5cf63d0b-bb26-43ea-8091-2694cfd07b61\" xlink:type=\"simple\"><rect fill=\"#FFFFFF\" height=\"88.3516\" id=\"E3\" style=\"stroke: #383838; stroke-width: 1.5;\" width=\"66\" x=\"54\" y=\"122\"/><text fill=\"#000000\" font-family=\"sans-serif\" font-size=\"12\" font-style=\"italic\" lengthAdjust=\"spacingAndGlyphs\" textLength=\"64\" x=\"55\" y=\"138.1387\">«part def»</text><text fill=\"#000000\" font-family=\"sans-serif\" font-size=\"12\" lengthAdjust=\"spacingAndGlyphs\" textLength=\"8\" x=\"83\" y=\"152.1074\">B</text><line style=\"stroke: #383838; stroke-width: 1.5;\" x1=\"55\" x2=\"119\" y1=\"159.9375\" y2=\"159.9375\"/><text fill=\"#000000\" font-family=\"sans-serif\" font-size=\"11\" lengthAdjust=\"spacingAndGlyphs\" textLength=\"29\" x=\"60\" y=\"190.9526\">p1: P</text><text fill=\"#000000\" font-family=\"sans-serif\" font-size=\"11\" lengthAdjust=\"spacingAndGlyphs\" textLength=\"38\" x=\"60\" y=\"203.7573\">p2: ~P</text><line style=\"stroke: #383838; stroke-width: 1.0;\" x1=\"55\" x2=\"72\" y1=\"174.3398\" y2=\"174.3398\"/><text fill=\"#000000\" font-family=\"sans-serif\" font-size=\"11\" lengthAdjust=\"spacingAndGlyphs\" textLength=\"30\" x=\"72\" y=\"177.6479\">ports</text><line style=\"stroke: #383838; stroke-width: 1.0;\" x1=\"102\" x2=\"119\" y1=\"174.3398\" y2=\"174.3398\"/></a><!--MD5=[60a26617385b1d2d0262a64233df1f8d]\n",
       "class E6--><a href=\"psysml:c95e8ce0-7583-4d42-8de3-1e3c8277134a\" target=\"_top\" title=\"psysml:c95e8ce0-7583-4d42-8de3-1e3c8277134a\" xlink:actuate=\"onRequest\" xlink:href=\"psysml:c95e8ce0-7583-4d42-8de3-1e3c8277134a\" xlink:show=\"new\" xlink:title=\"psysml:c95e8ce0-7583-4d42-8de3-1e3c8277134a\" xlink:type=\"simple\"><rect fill=\"#FFFFFF\" height=\"88.3516\" id=\"E6\" style=\"stroke: #383838; stroke-width: 1.5;\" width=\"110\" x=\"32\" y=\"245\"/><text fill=\"#000000\" font-family=\"sans-serif\" font-size=\"12\" font-style=\"italic\" lengthAdjust=\"spacingAndGlyphs\" textLength=\"108\" x=\"33\" y=\"261.1387\">«connection def»</text><text fill=\"#000000\" font-family=\"sans-serif\" font-size=\"12\" lengthAdjust=\"spacingAndGlyphs\" textLength=\"8\" x=\"83\" y=\"275.1074\">A</text><line style=\"stroke: #383838; stroke-width: 1.5;\" x1=\"33\" x2=\"141\" y1=\"282.9375\" y2=\"282.9375\"/><text fill=\"#000000\" font-family=\"sans-serif\" font-size=\"11\" lengthAdjust=\"spacingAndGlyphs\" textLength=\"29\" x=\"38\" y=\"313.9526\">p1: P</text><text fill=\"#000000\" font-family=\"sans-serif\" font-size=\"11\" lengthAdjust=\"spacingAndGlyphs\" textLength=\"38\" x=\"38\" y=\"326.7573\">p2: ~P</text><line style=\"stroke: #383838; stroke-width: 1.0;\" x1=\"33\" x2=\"72\" y1=\"297.3398\" y2=\"297.3398\"/><text fill=\"#000000\" font-family=\"sans-serif\" font-size=\"11\" lengthAdjust=\"spacingAndGlyphs\" textLength=\"30\" x=\"72\" y=\"300.6479\">ports</text><line style=\"stroke: #383838; stroke-width: 1.0;\" x1=\"102\" x2=\"141\" y1=\"297.3398\" y2=\"297.3398\"/></a><!--MD5=[fd4143e9d270a159db93a4ea2a975926]\n",
       "class E9--><a href=\"psysml:3dca2d5e-c062-4427-93b4-bcb55890dd40\" target=\"_top\" title=\"psysml:3dca2d5e-c062-4427-93b4-bcb55890dd40\" xlink:actuate=\"onRequest\" xlink:href=\"psysml:3dca2d5e-c062-4427-93b4-bcb55890dd40\" xlink:show=\"new\" xlink:title=\"psysml:3dca2d5e-c062-4427-93b4-bcb55890dd40\" xlink:type=\"simple\"><rect fill=\"#FFFFFF\" height=\"88.3516\" id=\"E9\" style=\"stroke: #383838; stroke-width: 1.5;\" width=\"96\" x=\"39\" y=\"368\"/><text fill=\"#000000\" font-family=\"sans-serif\" font-size=\"12\" font-style=\"italic\" lengthAdjust=\"spacingAndGlyphs\" textLength=\"94\" x=\"40\" y=\"384.1387\">«interface def»</text><text fill=\"#000000\" font-family=\"sans-serif\" font-size=\"12\" lengthAdjust=\"spacingAndGlyphs\" textLength=\"3\" x=\"85.5\" y=\"398.1074\">I</text><line style=\"stroke: #383838; stroke-width: 1.5;\" x1=\"40\" x2=\"134\" y1=\"405.9375\" y2=\"405.9375\"/><text fill=\"#000000\" font-family=\"sans-serif\" font-size=\"11\" lengthAdjust=\"spacingAndGlyphs\" textLength=\"29\" x=\"45\" y=\"436.9526\">p1: P</text><text fill=\"#000000\" font-family=\"sans-serif\" font-size=\"11\" lengthAdjust=\"spacingAndGlyphs\" textLength=\"38\" x=\"45\" y=\"449.7573\">p2: ~P</text><line style=\"stroke: #383838; stroke-width: 1.0;\" x1=\"40\" x2=\"72\" y1=\"420.3398\" y2=\"420.3398\"/><text fill=\"#000000\" font-family=\"sans-serif\" font-size=\"11\" lengthAdjust=\"spacingAndGlyphs\" textLength=\"30\" x=\"72\" y=\"423.6479\">ports</text><line style=\"stroke: #383838; stroke-width: 1.0;\" x1=\"102\" x2=\"134\" y1=\"420.3398\" y2=\"420.3398\"/></a><!--MD5=[49a0ec8f00dab7302a31f22d0f0fe584]\n",
       "class E12--><a href=\"psysml:239b6b7d-2819-4aeb-bfce-341b8d8c5fb1\" target=\"_top\" title=\"psysml:239b6b7d-2819-4aeb-bfce-341b8d8c5fb1\" xlink:actuate=\"onRequest\" xlink:href=\"psysml:239b6b7d-2819-4aeb-bfce-341b8d8c5fb1\" xlink:show=\"new\" xlink:title=\"psysml:239b6b7d-2819-4aeb-bfce-341b8d8c5fb1\" xlink:type=\"simple\"><rect fill=\"#FFFFFF\" height=\"45.9375\" id=\"E12\" style=\"stroke: #383838; stroke-width: 1.5;\" width=\"66\" x=\"54\" y=\"491\"/><text fill=\"#000000\" font-family=\"sans-serif\" font-size=\"12\" font-style=\"italic\" lengthAdjust=\"spacingAndGlyphs\" textLength=\"64\" x=\"55\" y=\"507.1387\">«part def»</text><text fill=\"#000000\" font-family=\"sans-serif\" font-size=\"12\" lengthAdjust=\"spacingAndGlyphs\" textLength=\"16\" x=\"79\" y=\"521.1074\">B1</text><line style=\"stroke: #383838; stroke-width: 1.5;\" x1=\"55\" x2=\"119\" y1=\"528.9375\" y2=\"528.9375\"/></a><!--MD5=[ee3c913d1a06f366521f9ef512b67efe]\n",
       "class E13--><a href=\"psysml:080adc10-96fd-4f72-8d28-a6aae1d02a34\" target=\"_top\" title=\"psysml:080adc10-96fd-4f72-8d28-a6aae1d02a34\" xlink:actuate=\"onRequest\" xlink:href=\"psysml:080adc10-96fd-4f72-8d28-a6aae1d02a34\" xlink:show=\"new\" xlink:title=\"psysml:080adc10-96fd-4f72-8d28-a6aae1d02a34\" xlink:type=\"simple\"><rect fill=\"#FFFFFF\" height=\"88.3516\" id=\"E13\" rx=\"10\" ry=\"10\" style=\"stroke: #383838; stroke-width: 1.5;\" width=\"50\" x=\"202\" y=\"449\"/><text fill=\"#000000\" font-family=\"sans-serif\" font-size=\"12\" font-style=\"italic\" lengthAdjust=\"spacingAndGlyphs\" textLength=\"40\" x=\"207\" y=\"465.1387\">«part»</text><text fill=\"#000000\" font-family=\"sans-serif\" font-size=\"12\" lengthAdjust=\"spacingAndGlyphs\" textLength=\"8\" x=\"223\" y=\"479.1074\">p</text><line style=\"stroke: #383838; stroke-width: 1.5;\" x1=\"203\" x2=\"251\" y1=\"486.9375\" y2=\"486.9375\"/><text fill=\"#000000\" font-family=\"sans-serif\" font-size=\"11\" lengthAdjust=\"spacingAndGlyphs\" textLength=\"29\" x=\"208\" y=\"517.9526\">p1: P</text><text fill=\"#000000\" font-family=\"sans-serif\" font-size=\"11\" lengthAdjust=\"spacingAndGlyphs\" textLength=\"38\" x=\"208\" y=\"530.7573\">p2: ~P</text><line style=\"stroke: #383838; stroke-width: 1.0;\" x1=\"203\" x2=\"212\" y1=\"501.3398\" y2=\"501.3398\"/><text fill=\"#000000\" font-family=\"sans-serif\" font-size=\"11\" lengthAdjust=\"spacingAndGlyphs\" textLength=\"30\" x=\"212\" y=\"504.6479\">ports</text><line style=\"stroke: #383838; stroke-width: 1.0;\" x1=\"242\" x2=\"251\" y1=\"501.3398\" y2=\"501.3398\"/></a><!--MD5=[062ed86c389d1a88f61c6380d0491e17]\n",
       "reverse link E12 to E13--><a href=\"psysml:06665d43-130c-4b8a-bdfd-d93e6351f975\" target=\"_top\" title=\"psysml:06665d43-130c-4b8a-bdfd-d93e6351f975\" xlink:actuate=\"onRequest\" xlink:href=\"psysml:06665d43-130c-4b8a-bdfd-d93e6351f975\" xlink:show=\"new\" xlink:title=\"psysml:06665d43-130c-4b8a-bdfd-d93e6351f975\" xlink:type=\"simple\"><path d=\"M132.96,507.16 C155.92,503.66 182.94,499.55 201.92,496.66 \" fill=\"none\" id=\"E12&lt;-E13\" style=\"stroke: #383838; stroke-width: 1.0;\"/><polygon fill=\"#383838\" points=\"120.01,509.13,126.5441,512.1804,131.873,507.3222,125.3389,504.2717,120.01,509.13\" style=\"stroke: #383838; stroke-width: 1.0;\"/></a><!--MD5=[43f704a12dc68257399ede3d75683bf6]\n",
       "@startuml\r\n",
       "left to right direction\r\n",
       "skinparam monochrome true\r\n",
       "skinparam classbackgroundcolor white\r\n",
       "skinparam shadowing false\r\n",
       "skinparam wrapWidth 300\r\n",
       "hide circle\r\n",
       "\r\n",
       "package \"ConjugationTest\" as E1  [[psysml:56f2a3b4-cc43-4fa3-8695-199f33536b50 ]]  {\r\n",
       "comp def \"P\" as E2  <<(T,blue)port def>> [[psysml:c0a3bc73-93c5-4b4d-b763-5833239b73fd ]] {\r\n",
       "}\r\n",
       "comp def \"B\" as E3  <<(T,blue)part def>> [[psysml:5cf63d0b-bb26-43ea-8091-2694cfd07b61 ]] {\r\n",
       "- - ports - -\r\n",
       "p1: P\r\n",
       "p2: ~P\r\n",
       "}\r\n",
       "comp def \"A\" as E6  <<(T,blue)connection def>> [[psysml:c95e8ce0-7583-4d42-8de3-1e3c8277134a ]] {\r\n",
       "- - ports - -\r\n",
       "p1: P\r\n",
       "p2: ~P\r\n",
       "}\r\n",
       "comp def \"I\" as E9  <<(T,blue)interface def>> [[psysml:3dca2d5e-c062-4427-93b4-bcb55890dd40 ]] {\r\n",
       "- - ports - -\r\n",
       "p1: P\r\n",
       "p2: ~P\r\n",
       "}\r\n",
       "comp def \"B1\" as E12  <<(T,blue)part def>> [[psysml:239b6b7d-2819-4aeb-bfce-341b8d8c5fb1 ]] {\r\n",
       "}\r\n",
       "comp usage \"p\" as E13  <<(T,blue)part>> [[psysml:080adc10-96fd-4f72-8d28-a6aae1d02a34 ]] {\r\n",
       "- - ports - -\r\n",
       "p1: P\r\n",
       "p2: ~P\r\n",
       "}\r\n",
       "E12 *- - E13 [[psysml:06665d43-130c-4b8a-bdfd-d93e6351f975 ]] \r\n",
       "}\r\n",
       "@enduml\r\n",
       "\n",
       "PlantUML version 1.2020.13(Sat Jun 13 12:26:38 UTC 2020)\n",
       "(EPL source distribution)\n",
       "Java Runtime: OpenJDK Runtime Environment\n",
       "JVM: OpenJDK 64-Bit Server VM\n",
       "Default Encoding: UTF-8\n",
       "Language: en\n",
       "Country: null\n",
       "--></g></svg>"
      ]
     },
     "execution_count": 21,
     "metadata": {},
     "output_type": "execute_result"
    }
   ],
   "source": [
    "%viz --style=\"LR\" --view=\"Sequence\" \"ConjugationTest\""
   ]
  },
  {
   "cell_type": "code",
   "execution_count": 22,
   "id": "42f65b2a",
   "metadata": {
    "execution": {
     "iopub.execute_input": "2021-04-20T07:00:14.199509Z",
     "iopub.status.busy": "2021-04-20T07:00:14.199127Z",
     "iopub.status.idle": "2021-04-20T07:00:14.287969Z",
     "shell.execute_reply": "2021-04-20T07:00:14.286627Z"
    }
   },
   "outputs": [
    {
     "data": {
      "image/svg+xml": [
       "<?xml version=\"1.0\" encoding=\"UTF-8\" standalone=\"no\"?><svg xmlns=\"http://www.w3.org/2000/svg\" xmlns:xlink=\"http://www.w3.org/1999/xlink\" contentScriptType=\"application/ecmascript\" contentStyleType=\"text/css\" height=\"565px\" preserveAspectRatio=\"none\" style=\"width:290px;height:565px;\" version=\"1.1\" viewBox=\"0 0 290 565\" width=\"290px\" zoomAndPan=\"magnify\"><defs/><g><!--MD5=[fbc87193dbaf4d95561dea2c320d4a47]\n",
       "cluster E1--><a href=\"psysml:56f2a3b4-cc43-4fa3-8695-199f33536b50\" target=\"_top\" title=\"psysml:56f2a3b4-cc43-4fa3-8695-199f33536b50\" xlink:actuate=\"onRequest\" xlink:href=\"psysml:56f2a3b4-cc43-4fa3-8695-199f33536b50\" xlink:show=\"new\" xlink:title=\"psysml:56f2a3b4-cc43-4fa3-8695-199f33536b50\" xlink:type=\"simple\"><polygon fill=\"#FFFFFF\" points=\"16,6,151,6,158,28.2969,268,28.2969,268,553,16,553,16,6\" style=\"stroke: #000000; stroke-width: 1.5;\"/><line style=\"stroke: #000000; stroke-width: 1.5;\" x1=\"16\" x2=\"158\" y1=\"28.2969\" y2=\"28.2969\"/><text fill=\"#000000\" font-family=\"sans-serif\" font-size=\"14\" font-weight=\"bold\" lengthAdjust=\"spacingAndGlyphs\" textLength=\"129\" x=\"20\" y=\"20.9951\">ConjugationTest</text></a><!--MD5=[b4997ac47864f28c2f74865a473b2911]\n",
       "class E2--><a href=\"psysml:c0a3bc73-93c5-4b4d-b763-5833239b73fd\" target=\"_top\" title=\"psysml:c0a3bc73-93c5-4b4d-b763-5833239b73fd\" xlink:actuate=\"onRequest\" xlink:href=\"psysml:c0a3bc73-93c5-4b4d-b763-5833239b73fd\" xlink:show=\"new\" xlink:title=\"psysml:c0a3bc73-93c5-4b4d-b763-5833239b73fd\" xlink:type=\"simple\"><rect fill=\"#FFFFFF\" height=\"45.9375\" id=\"E2\" style=\"stroke: #383838; stroke-width: 1.5;\" width=\"66\" x=\"54\" y=\"41\"/><text fill=\"#000000\" font-family=\"sans-serif\" font-size=\"12\" font-style=\"italic\" lengthAdjust=\"spacingAndGlyphs\" textLength=\"64\" x=\"55\" y=\"57.1387\">«port def»</text><text fill=\"#000000\" font-family=\"sans-serif\" font-size=\"12\" lengthAdjust=\"spacingAndGlyphs\" textLength=\"8\" x=\"83\" y=\"71.1074\">P</text><line style=\"stroke: #383838; stroke-width: 1.5;\" x1=\"55\" x2=\"119\" y1=\"78.9375\" y2=\"78.9375\"/></a><!--MD5=[09b614a08d8cba4a07c9adeb5e0fee81]\n",
       "class E3--><a href=\"psysml:5cf63d0b-bb26-43ea-8091-2694cfd07b61\" target=\"_top\" title=\"psysml:5cf63d0b-bb26-43ea-8091-2694cfd07b61\" xlink:actuate=\"onRequest\" xlink:href=\"psysml:5cf63d0b-bb26-43ea-8091-2694cfd07b61\" xlink:show=\"new\" xlink:title=\"psysml:5cf63d0b-bb26-43ea-8091-2694cfd07b61\" xlink:type=\"simple\"><rect fill=\"#FFFFFF\" height=\"88.3516\" id=\"E3\" style=\"stroke: #383838; stroke-width: 1.5;\" width=\"66\" x=\"54\" y=\"122\"/><text fill=\"#000000\" font-family=\"sans-serif\" font-size=\"12\" font-style=\"italic\" lengthAdjust=\"spacingAndGlyphs\" textLength=\"64\" x=\"55\" y=\"138.1387\">«part def»</text><text fill=\"#000000\" font-family=\"sans-serif\" font-size=\"12\" lengthAdjust=\"spacingAndGlyphs\" textLength=\"8\" x=\"83\" y=\"152.1074\">B</text><line style=\"stroke: #383838; stroke-width: 1.5;\" x1=\"55\" x2=\"119\" y1=\"159.9375\" y2=\"159.9375\"/><text fill=\"#000000\" font-family=\"sans-serif\" font-size=\"11\" lengthAdjust=\"spacingAndGlyphs\" textLength=\"29\" x=\"60\" y=\"190.9526\">p1: P</text><text fill=\"#000000\" font-family=\"sans-serif\" font-size=\"11\" lengthAdjust=\"spacingAndGlyphs\" textLength=\"38\" x=\"60\" y=\"203.7573\">p2: ~P</text><line style=\"stroke: #383838; stroke-width: 1.0;\" x1=\"55\" x2=\"72\" y1=\"174.3398\" y2=\"174.3398\"/><text fill=\"#000000\" font-family=\"sans-serif\" font-size=\"11\" lengthAdjust=\"spacingAndGlyphs\" textLength=\"30\" x=\"72\" y=\"177.6479\">ports</text><line style=\"stroke: #383838; stroke-width: 1.0;\" x1=\"102\" x2=\"119\" y1=\"174.3398\" y2=\"174.3398\"/></a><!--MD5=[60a26617385b1d2d0262a64233df1f8d]\n",
       "class E6--><a href=\"psysml:c95e8ce0-7583-4d42-8de3-1e3c8277134a\" target=\"_top\" title=\"psysml:c95e8ce0-7583-4d42-8de3-1e3c8277134a\" xlink:actuate=\"onRequest\" xlink:href=\"psysml:c95e8ce0-7583-4d42-8de3-1e3c8277134a\" xlink:show=\"new\" xlink:title=\"psysml:c95e8ce0-7583-4d42-8de3-1e3c8277134a\" xlink:type=\"simple\"><rect fill=\"#FFFFFF\" height=\"88.3516\" id=\"E6\" style=\"stroke: #383838; stroke-width: 1.5;\" width=\"110\" x=\"32\" y=\"245\"/><text fill=\"#000000\" font-family=\"sans-serif\" font-size=\"12\" font-style=\"italic\" lengthAdjust=\"spacingAndGlyphs\" textLength=\"108\" x=\"33\" y=\"261.1387\">«connection def»</text><text fill=\"#000000\" font-family=\"sans-serif\" font-size=\"12\" lengthAdjust=\"spacingAndGlyphs\" textLength=\"8\" x=\"83\" y=\"275.1074\">A</text><line style=\"stroke: #383838; stroke-width: 1.5;\" x1=\"33\" x2=\"141\" y1=\"282.9375\" y2=\"282.9375\"/><text fill=\"#000000\" font-family=\"sans-serif\" font-size=\"11\" lengthAdjust=\"spacingAndGlyphs\" textLength=\"29\" x=\"38\" y=\"313.9526\">p1: P</text><text fill=\"#000000\" font-family=\"sans-serif\" font-size=\"11\" lengthAdjust=\"spacingAndGlyphs\" textLength=\"38\" x=\"38\" y=\"326.7573\">p2: ~P</text><line style=\"stroke: #383838; stroke-width: 1.0;\" x1=\"33\" x2=\"72\" y1=\"297.3398\" y2=\"297.3398\"/><text fill=\"#000000\" font-family=\"sans-serif\" font-size=\"11\" lengthAdjust=\"spacingAndGlyphs\" textLength=\"30\" x=\"72\" y=\"300.6479\">ports</text><line style=\"stroke: #383838; stroke-width: 1.0;\" x1=\"102\" x2=\"141\" y1=\"297.3398\" y2=\"297.3398\"/></a><!--MD5=[fd4143e9d270a159db93a4ea2a975926]\n",
       "class E9--><a href=\"psysml:3dca2d5e-c062-4427-93b4-bcb55890dd40\" target=\"_top\" title=\"psysml:3dca2d5e-c062-4427-93b4-bcb55890dd40\" xlink:actuate=\"onRequest\" xlink:href=\"psysml:3dca2d5e-c062-4427-93b4-bcb55890dd40\" xlink:show=\"new\" xlink:title=\"psysml:3dca2d5e-c062-4427-93b4-bcb55890dd40\" xlink:type=\"simple\"><rect fill=\"#FFFFFF\" height=\"88.3516\" id=\"E9\" style=\"stroke: #383838; stroke-width: 1.5;\" width=\"96\" x=\"39\" y=\"368\"/><text fill=\"#000000\" font-family=\"sans-serif\" font-size=\"12\" font-style=\"italic\" lengthAdjust=\"spacingAndGlyphs\" textLength=\"94\" x=\"40\" y=\"384.1387\">«interface def»</text><text fill=\"#000000\" font-family=\"sans-serif\" font-size=\"12\" lengthAdjust=\"spacingAndGlyphs\" textLength=\"3\" x=\"85.5\" y=\"398.1074\">I</text><line style=\"stroke: #383838; stroke-width: 1.5;\" x1=\"40\" x2=\"134\" y1=\"405.9375\" y2=\"405.9375\"/><text fill=\"#000000\" font-family=\"sans-serif\" font-size=\"11\" lengthAdjust=\"spacingAndGlyphs\" textLength=\"29\" x=\"45\" y=\"436.9526\">p1: P</text><text fill=\"#000000\" font-family=\"sans-serif\" font-size=\"11\" lengthAdjust=\"spacingAndGlyphs\" textLength=\"38\" x=\"45\" y=\"449.7573\">p2: ~P</text><line style=\"stroke: #383838; stroke-width: 1.0;\" x1=\"40\" x2=\"72\" y1=\"420.3398\" y2=\"420.3398\"/><text fill=\"#000000\" font-family=\"sans-serif\" font-size=\"11\" lengthAdjust=\"spacingAndGlyphs\" textLength=\"30\" x=\"72\" y=\"423.6479\">ports</text><line style=\"stroke: #383838; stroke-width: 1.0;\" x1=\"102\" x2=\"134\" y1=\"420.3398\" y2=\"420.3398\"/></a><!--MD5=[49a0ec8f00dab7302a31f22d0f0fe584]\n",
       "class E12--><a href=\"psysml:239b6b7d-2819-4aeb-bfce-341b8d8c5fb1\" target=\"_top\" title=\"psysml:239b6b7d-2819-4aeb-bfce-341b8d8c5fb1\" xlink:actuate=\"onRequest\" xlink:href=\"psysml:239b6b7d-2819-4aeb-bfce-341b8d8c5fb1\" xlink:show=\"new\" xlink:title=\"psysml:239b6b7d-2819-4aeb-bfce-341b8d8c5fb1\" xlink:type=\"simple\"><rect fill=\"#FFFFFF\" height=\"45.9375\" id=\"E12\" style=\"stroke: #383838; stroke-width: 1.5;\" width=\"66\" x=\"54\" y=\"491\"/><text fill=\"#000000\" font-family=\"sans-serif\" font-size=\"12\" font-style=\"italic\" lengthAdjust=\"spacingAndGlyphs\" textLength=\"64\" x=\"55\" y=\"507.1387\">«part def»</text><text fill=\"#000000\" font-family=\"sans-serif\" font-size=\"12\" lengthAdjust=\"spacingAndGlyphs\" textLength=\"16\" x=\"79\" y=\"521.1074\">B1</text><line style=\"stroke: #383838; stroke-width: 1.5;\" x1=\"55\" x2=\"119\" y1=\"528.9375\" y2=\"528.9375\"/></a><!--MD5=[ee3c913d1a06f366521f9ef512b67efe]\n",
       "class E13--><a href=\"psysml:080adc10-96fd-4f72-8d28-a6aae1d02a34\" target=\"_top\" title=\"psysml:080adc10-96fd-4f72-8d28-a6aae1d02a34\" xlink:actuate=\"onRequest\" xlink:href=\"psysml:080adc10-96fd-4f72-8d28-a6aae1d02a34\" xlink:show=\"new\" xlink:title=\"psysml:080adc10-96fd-4f72-8d28-a6aae1d02a34\" xlink:type=\"simple\"><rect fill=\"#FFFFFF\" height=\"88.3516\" id=\"E13\" rx=\"10\" ry=\"10\" style=\"stroke: #383838; stroke-width: 1.5;\" width=\"50\" x=\"202\" y=\"449\"/><text fill=\"#000000\" font-family=\"sans-serif\" font-size=\"12\" font-style=\"italic\" lengthAdjust=\"spacingAndGlyphs\" textLength=\"40\" x=\"207\" y=\"465.1387\">«part»</text><text fill=\"#000000\" font-family=\"sans-serif\" font-size=\"12\" lengthAdjust=\"spacingAndGlyphs\" textLength=\"8\" x=\"223\" y=\"479.1074\">p</text><line style=\"stroke: #383838; stroke-width: 1.5;\" x1=\"203\" x2=\"251\" y1=\"486.9375\" y2=\"486.9375\"/><text fill=\"#000000\" font-family=\"sans-serif\" font-size=\"11\" lengthAdjust=\"spacingAndGlyphs\" textLength=\"29\" x=\"208\" y=\"517.9526\">p1: P</text><text fill=\"#000000\" font-family=\"sans-serif\" font-size=\"11\" lengthAdjust=\"spacingAndGlyphs\" textLength=\"38\" x=\"208\" y=\"530.7573\">p2: ~P</text><line style=\"stroke: #383838; stroke-width: 1.0;\" x1=\"203\" x2=\"212\" y1=\"501.3398\" y2=\"501.3398\"/><text fill=\"#000000\" font-family=\"sans-serif\" font-size=\"11\" lengthAdjust=\"spacingAndGlyphs\" textLength=\"30\" x=\"212\" y=\"504.6479\">ports</text><line style=\"stroke: #383838; stroke-width: 1.0;\" x1=\"242\" x2=\"251\" y1=\"501.3398\" y2=\"501.3398\"/></a><!--MD5=[062ed86c389d1a88f61c6380d0491e17]\n",
       "reverse link E12 to E13--><a href=\"psysml:06665d43-130c-4b8a-bdfd-d93e6351f975\" target=\"_top\" title=\"psysml:06665d43-130c-4b8a-bdfd-d93e6351f975\" xlink:actuate=\"onRequest\" xlink:href=\"psysml:06665d43-130c-4b8a-bdfd-d93e6351f975\" xlink:show=\"new\" xlink:title=\"psysml:06665d43-130c-4b8a-bdfd-d93e6351f975\" xlink:type=\"simple\"><path d=\"M132.96,507.16 C155.92,503.66 182.94,499.55 201.92,496.66 \" fill=\"none\" id=\"E12&lt;-E13\" style=\"stroke: #383838; stroke-width: 1.0;\"/><polygon fill=\"#383838\" points=\"120.01,509.13,126.5441,512.1804,131.873,507.3222,125.3389,504.2717,120.01,509.13\" style=\"stroke: #383838; stroke-width: 1.0;\"/></a><!--MD5=[43f704a12dc68257399ede3d75683bf6]\n",
       "@startuml\r\n",
       "left to right direction\r\n",
       "skinparam monochrome true\r\n",
       "skinparam classbackgroundcolor white\r\n",
       "skinparam shadowing false\r\n",
       "skinparam wrapWidth 300\r\n",
       "hide circle\r\n",
       "\r\n",
       "package \"ConjugationTest\" as E1  [[psysml:56f2a3b4-cc43-4fa3-8695-199f33536b50 ]]  {\r\n",
       "comp def \"P\" as E2  <<(T,blue)port def>> [[psysml:c0a3bc73-93c5-4b4d-b763-5833239b73fd ]] {\r\n",
       "}\r\n",
       "comp def \"B\" as E3  <<(T,blue)part def>> [[psysml:5cf63d0b-bb26-43ea-8091-2694cfd07b61 ]] {\r\n",
       "- - ports - -\r\n",
       "p1: P\r\n",
       "p2: ~P\r\n",
       "}\r\n",
       "comp def \"A\" as E6  <<(T,blue)connection def>> [[psysml:c95e8ce0-7583-4d42-8de3-1e3c8277134a ]] {\r\n",
       "- - ports - -\r\n",
       "p1: P\r\n",
       "p2: ~P\r\n",
       "}\r\n",
       "comp def \"I\" as E9  <<(T,blue)interface def>> [[psysml:3dca2d5e-c062-4427-93b4-bcb55890dd40 ]] {\r\n",
       "- - ports - -\r\n",
       "p1: P\r\n",
       "p2: ~P\r\n",
       "}\r\n",
       "comp def \"B1\" as E12  <<(T,blue)part def>> [[psysml:239b6b7d-2819-4aeb-bfce-341b8d8c5fb1 ]] {\r\n",
       "}\r\n",
       "comp usage \"p\" as E13  <<(T,blue)part>> [[psysml:080adc10-96fd-4f72-8d28-a6aae1d02a34 ]] {\r\n",
       "- - ports - -\r\n",
       "p1: P\r\n",
       "p2: ~P\r\n",
       "}\r\n",
       "E12 *- - E13 [[psysml:06665d43-130c-4b8a-bdfd-d93e6351f975 ]] \r\n",
       "}\r\n",
       "@enduml\r\n",
       "\n",
       "PlantUML version 1.2020.13(Sat Jun 13 12:26:38 UTC 2020)\n",
       "(EPL source distribution)\n",
       "Java Runtime: OpenJDK Runtime Environment\n",
       "JVM: OpenJDK 64-Bit Server VM\n",
       "Default Encoding: UTF-8\n",
       "Language: en\n",
       "Country: null\n",
       "--></g></svg>"
      ]
     },
     "execution_count": 22,
     "metadata": {},
     "output_type": "execute_result"
    }
   ],
   "source": [
    "%viz --style=\"LR\" --view=\"MIXED\" \"ConjugationTest\""
   ]
  },
  {
   "cell_type": "code",
   "execution_count": 23,
   "id": "bf81bc78",
   "metadata": {
    "execution": {
     "iopub.execute_input": "2021-04-20T07:00:14.337763Z",
     "iopub.status.busy": "2021-04-20T07:00:14.337331Z",
     "iopub.status.idle": "2021-04-20T07:00:14.434943Z",
     "shell.execute_reply": "2021-04-20T07:00:14.433491Z"
    }
   },
   "outputs": [
    {
     "data": {
      "image/svg+xml": [
       "<?xml version=\"1.0\" encoding=\"UTF-8\" standalone=\"no\"?><svg xmlns=\"http://www.w3.org/2000/svg\" xmlns:xlink=\"http://www.w3.org/1999/xlink\" contentScriptType=\"application/ecmascript\" contentStyleType=\"text/css\" height=\"305px\" preserveAspectRatio=\"none\" style=\"width:614px;height:305px;\" version=\"1.1\" viewBox=\"0 0 614 305\" width=\"614px\" zoomAndPan=\"magnify\"><defs><filter height=\"300%\" id=\"f43kq0jbrxl8s\" width=\"300%\" x=\"-1\" y=\"-1\"><feGaussianBlur result=\"blurOut\" stdDeviation=\"2.0\"/><feColorMatrix in=\"blurOut\" result=\"blurOut2\" type=\"matrix\" values=\"0 0 0 0 0 0 0 0 0 0 0 0 0 0 0 0 0 0 .4 0\"/><feOffset dx=\"4.0\" dy=\"4.0\" in=\"blurOut2\" result=\"blurOut3\"/><feBlend in=\"SourceGraphic\" in2=\"blurOut3\" mode=\"normal\"/></filter></defs><g><!--MD5=[fbc87193dbaf4d95561dea2c320d4a47]\n",
       "cluster E1--><a href=\"psysml:56f2a3b4-cc43-4fa3-8695-199f33536b50\" target=\"_top\" title=\"psysml:56f2a3b4-cc43-4fa3-8695-199f33536b50\" xlink:actuate=\"onRequest\" xlink:href=\"psysml:56f2a3b4-cc43-4fa3-8695-199f33536b50\" xlink:show=\"new\" xlink:title=\"psysml:56f2a3b4-cc43-4fa3-8695-199f33536b50\" xlink:type=\"simple\"><polygon fill=\"#FFFFFF\" filter=\"url(#f43kq0jbrxl8s)\" points=\"16,6,151,6,158,28.2969,592,28.2969,592,293,16,293,16,6\" style=\"stroke: #000000; stroke-width: 1.5;\"/><line style=\"stroke: #000000; stroke-width: 1.5;\" x1=\"16\" x2=\"158\" y1=\"28.2969\" y2=\"28.2969\"/><text fill=\"#000000\" font-family=\"sans-serif\" font-size=\"14\" font-weight=\"bold\" lengthAdjust=\"spacingAndGlyphs\" textLength=\"129\" x=\"20\" y=\"20.9951\">ConjugationTest</text></a><!--MD5=[b4997ac47864f28c2f74865a473b2911]\n",
       "class E2--><a href=\"psysml:c0a3bc73-93c5-4b4d-b763-5833239b73fd\" target=\"_top\" title=\"psysml:c0a3bc73-93c5-4b4d-b763-5833239b73fd\" xlink:actuate=\"onRequest\" xlink:href=\"psysml:c0a3bc73-93c5-4b4d-b763-5833239b73fd\" xlink:show=\"new\" xlink:title=\"psysml:c0a3bc73-93c5-4b4d-b763-5833239b73fd\" xlink:type=\"simple\"><rect fill=\"#FEFECE\" filter=\"url(#f43kq0jbrxl8s)\" height=\"45.9375\" id=\"E2\" style=\"stroke: #A80036; stroke-width: 1.5;\" width=\"66\" x=\"510\" y=\"62\"/><text fill=\"#000000\" font-family=\"sans-serif\" font-size=\"12\" font-style=\"italic\" lengthAdjust=\"spacingAndGlyphs\" textLength=\"64\" x=\"511\" y=\"78.1387\">«port def»</text><text fill=\"#000000\" font-family=\"sans-serif\" font-size=\"12\" lengthAdjust=\"spacingAndGlyphs\" textLength=\"8\" x=\"539\" y=\"92.1074\">P</text><line style=\"stroke: #A80036; stroke-width: 1.5;\" x1=\"511\" x2=\"575\" y1=\"99.9375\" y2=\"99.9375\"/></a><!--MD5=[09b614a08d8cba4a07c9adeb5e0fee81]\n",
       "class E3--><a href=\"psysml:5cf63d0b-bb26-43ea-8091-2694cfd07b61\" target=\"_top\" title=\"psysml:5cf63d0b-bb26-43ea-8091-2694cfd07b61\" xlink:actuate=\"onRequest\" xlink:href=\"psysml:5cf63d0b-bb26-43ea-8091-2694cfd07b61\" xlink:show=\"new\" xlink:title=\"psysml:5cf63d0b-bb26-43ea-8091-2694cfd07b61\" xlink:type=\"simple\"><rect fill=\"#FEFECE\" filter=\"url(#f43kq0jbrxl8s)\" height=\"88.3516\" id=\"E3\" style=\"stroke: #A80036; stroke-width: 1.5;\" width=\"66\" x=\"409\" y=\"41\"/><text fill=\"#000000\" font-family=\"sans-serif\" font-size=\"12\" font-style=\"italic\" lengthAdjust=\"spacingAndGlyphs\" textLength=\"64\" x=\"410\" y=\"57.1387\">«part def»</text><text fill=\"#000000\" font-family=\"sans-serif\" font-size=\"12\" lengthAdjust=\"spacingAndGlyphs\" textLength=\"8\" x=\"438\" y=\"71.1074\">B</text><line style=\"stroke: #A80036; stroke-width: 1.5;\" x1=\"410\" x2=\"474\" y1=\"78.9375\" y2=\"78.9375\"/><text fill=\"#000000\" font-family=\"sans-serif\" font-size=\"11\" lengthAdjust=\"spacingAndGlyphs\" textLength=\"29\" x=\"415\" y=\"109.9526\">p1: P</text><text fill=\"#000000\" font-family=\"sans-serif\" font-size=\"11\" lengthAdjust=\"spacingAndGlyphs\" textLength=\"38\" x=\"415\" y=\"122.7573\">p2: ~P</text><line style=\"stroke: #A80036; stroke-width: 1.0;\" x1=\"410\" x2=\"427\" y1=\"93.3398\" y2=\"93.3398\"/><text fill=\"#000000\" font-family=\"sans-serif\" font-size=\"11\" lengthAdjust=\"spacingAndGlyphs\" textLength=\"30\" x=\"427\" y=\"96.6479\">ports</text><line style=\"stroke: #A80036; stroke-width: 1.0;\" x1=\"457\" x2=\"474\" y1=\"93.3398\" y2=\"93.3398\"/></a><!--MD5=[60a26617385b1d2d0262a64233df1f8d]\n",
       "class E6--><a href=\"psysml:c95e8ce0-7583-4d42-8de3-1e3c8277134a\" target=\"_top\" title=\"psysml:c95e8ce0-7583-4d42-8de3-1e3c8277134a\" xlink:actuate=\"onRequest\" xlink:href=\"psysml:c95e8ce0-7583-4d42-8de3-1e3c8277134a\" xlink:show=\"new\" xlink:title=\"psysml:c95e8ce0-7583-4d42-8de3-1e3c8277134a\" xlink:type=\"simple\"><rect fill=\"#FEFECE\" filter=\"url(#f43kq0jbrxl8s)\" height=\"88.3516\" id=\"E6\" style=\"stroke: #A80036; stroke-width: 1.5;\" width=\"110\" x=\"264\" y=\"41\"/><text fill=\"#000000\" font-family=\"sans-serif\" font-size=\"12\" font-style=\"italic\" lengthAdjust=\"spacingAndGlyphs\" textLength=\"108\" x=\"265\" y=\"57.1387\">«connection def»</text><text fill=\"#000000\" font-family=\"sans-serif\" font-size=\"12\" lengthAdjust=\"spacingAndGlyphs\" textLength=\"8\" x=\"315\" y=\"71.1074\">A</text><line style=\"stroke: #A80036; stroke-width: 1.5;\" x1=\"265\" x2=\"373\" y1=\"78.9375\" y2=\"78.9375\"/><text fill=\"#000000\" font-family=\"sans-serif\" font-size=\"11\" lengthAdjust=\"spacingAndGlyphs\" textLength=\"29\" x=\"270\" y=\"109.9526\">p1: P</text><text fill=\"#000000\" font-family=\"sans-serif\" font-size=\"11\" lengthAdjust=\"spacingAndGlyphs\" textLength=\"38\" x=\"270\" y=\"122.7573\">p2: ~P</text><line style=\"stroke: #A80036; stroke-width: 1.0;\" x1=\"265\" x2=\"304\" y1=\"93.3398\" y2=\"93.3398\"/><text fill=\"#000000\" font-family=\"sans-serif\" font-size=\"11\" lengthAdjust=\"spacingAndGlyphs\" textLength=\"30\" x=\"304\" y=\"96.6479\">ports</text><line style=\"stroke: #A80036; stroke-width: 1.0;\" x1=\"334\" x2=\"373\" y1=\"93.3398\" y2=\"93.3398\"/></a><!--MD5=[fd4143e9d270a159db93a4ea2a975926]\n",
       "class E9--><a href=\"psysml:3dca2d5e-c062-4427-93b4-bcb55890dd40\" target=\"_top\" title=\"psysml:3dca2d5e-c062-4427-93b4-bcb55890dd40\" xlink:actuate=\"onRequest\" xlink:href=\"psysml:3dca2d5e-c062-4427-93b4-bcb55890dd40\" xlink:show=\"new\" xlink:title=\"psysml:3dca2d5e-c062-4427-93b4-bcb55890dd40\" xlink:type=\"simple\"><rect fill=\"#FEFECE\" filter=\"url(#f43kq0jbrxl8s)\" height=\"88.3516\" id=\"E9\" style=\"stroke: #A80036; stroke-width: 1.5;\" width=\"96\" x=\"133\" y=\"41\"/><text fill=\"#000000\" font-family=\"sans-serif\" font-size=\"12\" font-style=\"italic\" lengthAdjust=\"spacingAndGlyphs\" textLength=\"94\" x=\"134\" y=\"57.1387\">«interface def»</text><text fill=\"#000000\" font-family=\"sans-serif\" font-size=\"12\" lengthAdjust=\"spacingAndGlyphs\" textLength=\"3\" x=\"179.5\" y=\"71.1074\">I</text><line style=\"stroke: #A80036; stroke-width: 1.5;\" x1=\"134\" x2=\"228\" y1=\"78.9375\" y2=\"78.9375\"/><text fill=\"#000000\" font-family=\"sans-serif\" font-size=\"11\" lengthAdjust=\"spacingAndGlyphs\" textLength=\"29\" x=\"139\" y=\"109.9526\">p1: P</text><text fill=\"#000000\" font-family=\"sans-serif\" font-size=\"11\" lengthAdjust=\"spacingAndGlyphs\" textLength=\"38\" x=\"139\" y=\"122.7573\">p2: ~P</text><line style=\"stroke: #A80036; stroke-width: 1.0;\" x1=\"134\" x2=\"166\" y1=\"93.3398\" y2=\"93.3398\"/><text fill=\"#000000\" font-family=\"sans-serif\" font-size=\"11\" lengthAdjust=\"spacingAndGlyphs\" textLength=\"30\" x=\"166\" y=\"96.6479\">ports</text><line style=\"stroke: #A80036; stroke-width: 1.0;\" x1=\"196\" x2=\"228\" y1=\"93.3398\" y2=\"93.3398\"/></a><!--MD5=[49a0ec8f00dab7302a31f22d0f0fe584]\n",
       "class E12--><a href=\"psysml:239b6b7d-2819-4aeb-bfce-341b8d8c5fb1\" target=\"_top\" title=\"psysml:239b6b7d-2819-4aeb-bfce-341b8d8c5fb1\" xlink:actuate=\"onRequest\" xlink:href=\"psysml:239b6b7d-2819-4aeb-bfce-341b8d8c5fb1\" xlink:show=\"new\" xlink:title=\"psysml:239b6b7d-2819-4aeb-bfce-341b8d8c5fb1\" xlink:type=\"simple\"><rect fill=\"#FEFECE\" filter=\"url(#f43kq0jbrxl8s)\" height=\"45.9375\" id=\"E12\" style=\"stroke: #A80036; stroke-width: 1.5;\" width=\"66\" x=\"32\" y=\"62\"/><text fill=\"#000000\" font-family=\"sans-serif\" font-size=\"12\" font-style=\"italic\" lengthAdjust=\"spacingAndGlyphs\" textLength=\"64\" x=\"33\" y=\"78.1387\">«part def»</text><text fill=\"#000000\" font-family=\"sans-serif\" font-size=\"12\" lengthAdjust=\"spacingAndGlyphs\" textLength=\"16\" x=\"57\" y=\"92.1074\">B1</text><line style=\"stroke: #A80036; stroke-width: 1.5;\" x1=\"33\" x2=\"97\" y1=\"99.9375\" y2=\"99.9375\"/></a><!--MD5=[ee3c913d1a06f366521f9ef512b67efe]\n",
       "class E13--><a href=\"psysml:080adc10-96fd-4f72-8d28-a6aae1d02a34\" target=\"_top\" title=\"psysml:080adc10-96fd-4f72-8d28-a6aae1d02a34\" xlink:actuate=\"onRequest\" xlink:href=\"psysml:080adc10-96fd-4f72-8d28-a6aae1d02a34\" xlink:show=\"new\" xlink:title=\"psysml:080adc10-96fd-4f72-8d28-a6aae1d02a34\" xlink:type=\"simple\"><rect fill=\"#FEFECE\" filter=\"url(#f43kq0jbrxl8s)\" height=\"88.3516\" id=\"E13\" rx=\"10\" ry=\"10\" style=\"stroke: #A80036; stroke-width: 1.5;\" width=\"50\" x=\"40\" y=\"189\"/><text fill=\"#000000\" font-family=\"sans-serif\" font-size=\"12\" font-style=\"italic\" lengthAdjust=\"spacingAndGlyphs\" textLength=\"40\" x=\"45\" y=\"205.1387\">«part»</text><text fill=\"#000000\" font-family=\"sans-serif\" font-size=\"12\" lengthAdjust=\"spacingAndGlyphs\" textLength=\"8\" x=\"61\" y=\"219.1074\">p</text><line style=\"stroke: #A80036; stroke-width: 1.5;\" x1=\"41\" x2=\"89\" y1=\"226.9375\" y2=\"226.9375\"/><text fill=\"#000000\" font-family=\"sans-serif\" font-size=\"11\" lengthAdjust=\"spacingAndGlyphs\" textLength=\"29\" x=\"46\" y=\"257.9526\">p1: P</text><text fill=\"#000000\" font-family=\"sans-serif\" font-size=\"11\" lengthAdjust=\"spacingAndGlyphs\" textLength=\"38\" x=\"46\" y=\"270.7573\">p2: ~P</text><line style=\"stroke: #A80036; stroke-width: 1.0;\" x1=\"41\" x2=\"50\" y1=\"241.3398\" y2=\"241.3398\"/><text fill=\"#000000\" font-family=\"sans-serif\" font-size=\"11\" lengthAdjust=\"spacingAndGlyphs\" textLength=\"30\" x=\"50\" y=\"244.6479\">ports</text><line style=\"stroke: #A80036; stroke-width: 1.0;\" x1=\"80\" x2=\"89\" y1=\"241.3398\" y2=\"241.3398\"/></a><!--MD5=[062ed86c389d1a88f61c6380d0491e17]\n",
       "reverse link E12 to E13--><a href=\"psysml:06665d43-130c-4b8a-bdfd-d93e6351f975\" target=\"_top\" title=\"psysml:06665d43-130c-4b8a-bdfd-d93e6351f975\" xlink:actuate=\"onRequest\" xlink:href=\"psysml:06665d43-130c-4b8a-bdfd-d93e6351f975\" xlink:show=\"new\" xlink:title=\"psysml:06665d43-130c-4b8a-bdfd-d93e6351f975\" xlink:type=\"simple\"><path d=\"M65,121.25 C65,141.54 65,167.2 65,188.71 \" fill=\"none\" id=\"E12&lt;-E13\" style=\"stroke: #A80036; stroke-width: 1.0;\"/><polygon fill=\"#A80036\" points=\"65,108.17,61,114.17,65,120.17,69,114.17,65,108.17\" style=\"stroke: #A80036; stroke-width: 1.0;\"/></a><!--MD5=[4e3d4704f76a229199fe4bbea95f940c]\n",
       "@startuml\r\n",
       "skinparam wrapWidth 300\r\n",
       "hide circle\r\n",
       "\r\n",
       "package \"ConjugationTest\" as E1  [[psysml:56f2a3b4-cc43-4fa3-8695-199f33536b50 ]]  {\r\n",
       "comp def \"P\" as E2  <<(T,blue)port def>> [[psysml:c0a3bc73-93c5-4b4d-b763-5833239b73fd ]] {\r\n",
       "}\r\n",
       "comp def \"B\" as E3  <<(T,blue)part def>> [[psysml:5cf63d0b-bb26-43ea-8091-2694cfd07b61 ]] {\r\n",
       "- - ports - -\r\n",
       "p1: P\r\n",
       "p2: ~P\r\n",
       "}\r\n",
       "comp def \"A\" as E6  <<(T,blue)connection def>> [[psysml:c95e8ce0-7583-4d42-8de3-1e3c8277134a ]] {\r\n",
       "- - ports - -\r\n",
       "p1: P\r\n",
       "p2: ~P\r\n",
       "}\r\n",
       "comp def \"I\" as E9  <<(T,blue)interface def>> [[psysml:3dca2d5e-c062-4427-93b4-bcb55890dd40 ]] {\r\n",
       "- - ports - -\r\n",
       "p1: P\r\n",
       "p2: ~P\r\n",
       "}\r\n",
       "comp def \"B1\" as E12  <<(T,blue)part def>> [[psysml:239b6b7d-2819-4aeb-bfce-341b8d8c5fb1 ]] {\r\n",
       "}\r\n",
       "comp usage \"p\" as E13  <<(T,blue)part>> [[psysml:080adc10-96fd-4f72-8d28-a6aae1d02a34 ]] {\r\n",
       "- - ports - -\r\n",
       "p1: P\r\n",
       "p2: ~P\r\n",
       "}\r\n",
       "E12 *- - E13 [[psysml:06665d43-130c-4b8a-bdfd-d93e6351f975 ]] \r\n",
       "}\r\n",
       "@enduml\r\n",
       "\n",
       "PlantUML version 1.2020.13(Sat Jun 13 12:26:38 UTC 2020)\n",
       "(EPL source distribution)\n",
       "Java Runtime: OpenJDK Runtime Environment\n",
       "JVM: OpenJDK 64-Bit Server VM\n",
       "Default Encoding: UTF-8\n",
       "Language: en\n",
       "Country: null\n",
       "--></g></svg>"
      ]
     },
     "execution_count": 23,
     "metadata": {},
     "output_type": "execute_result"
    }
   ],
   "source": [
    "%viz --style=\"STDCOLOR\" --view=\"Default\" \"ConjugationTest\""
   ]
  },
  {
   "cell_type": "code",
   "execution_count": 24,
   "id": "20722041",
   "metadata": {
    "execution": {
     "iopub.execute_input": "2021-04-20T07:00:14.486122Z",
     "iopub.status.busy": "2021-04-20T07:00:14.485358Z",
     "iopub.status.idle": "2021-04-20T07:00:14.594686Z",
     "shell.execute_reply": "2021-04-20T07:00:14.592102Z"
    }
   },
   "outputs": [
    {
     "data": {
      "image/svg+xml": [
       "<?xml version=\"1.0\" encoding=\"UTF-8\" standalone=\"no\"?><svg xmlns=\"http://www.w3.org/2000/svg\" xmlns:xlink=\"http://www.w3.org/1999/xlink\" contentScriptType=\"application/ecmascript\" contentStyleType=\"text/css\" height=\"305px\" preserveAspectRatio=\"none\" style=\"width:614px;height:305px;\" version=\"1.1\" viewBox=\"0 0 614 305\" width=\"614px\" zoomAndPan=\"magnify\"><defs><filter height=\"300%\" id=\"f43kq0jbrxl8s\" width=\"300%\" x=\"-1\" y=\"-1\"><feGaussianBlur result=\"blurOut\" stdDeviation=\"2.0\"/><feColorMatrix in=\"blurOut\" result=\"blurOut2\" type=\"matrix\" values=\"0 0 0 0 0 0 0 0 0 0 0 0 0 0 0 0 0 0 .4 0\"/><feOffset dx=\"4.0\" dy=\"4.0\" in=\"blurOut2\" result=\"blurOut3\"/><feBlend in=\"SourceGraphic\" in2=\"blurOut3\" mode=\"normal\"/></filter></defs><g><!--MD5=[fbc87193dbaf4d95561dea2c320d4a47]\n",
       "cluster E1--><a href=\"psysml:56f2a3b4-cc43-4fa3-8695-199f33536b50\" target=\"_top\" title=\"psysml:56f2a3b4-cc43-4fa3-8695-199f33536b50\" xlink:actuate=\"onRequest\" xlink:href=\"psysml:56f2a3b4-cc43-4fa3-8695-199f33536b50\" xlink:show=\"new\" xlink:title=\"psysml:56f2a3b4-cc43-4fa3-8695-199f33536b50\" xlink:type=\"simple\"><polygon fill=\"#FFFFFF\" filter=\"url(#f43kq0jbrxl8s)\" points=\"16,6,151,6,158,28.2969,592,28.2969,592,293,16,293,16,6\" style=\"stroke: #000000; stroke-width: 1.5;\"/><line style=\"stroke: #000000; stroke-width: 1.5;\" x1=\"16\" x2=\"158\" y1=\"28.2969\" y2=\"28.2969\"/><text fill=\"#000000\" font-family=\"sans-serif\" font-size=\"14\" font-weight=\"bold\" lengthAdjust=\"spacingAndGlyphs\" textLength=\"129\" x=\"20\" y=\"20.9951\">ConjugationTest</text></a><!--MD5=[b4997ac47864f28c2f74865a473b2911]\n",
       "class E2--><a href=\"psysml:c0a3bc73-93c5-4b4d-b763-5833239b73fd\" target=\"_top\" title=\"psysml:c0a3bc73-93c5-4b4d-b763-5833239b73fd\" xlink:actuate=\"onRequest\" xlink:href=\"psysml:c0a3bc73-93c5-4b4d-b763-5833239b73fd\" xlink:show=\"new\" xlink:title=\"psysml:c0a3bc73-93c5-4b4d-b763-5833239b73fd\" xlink:type=\"simple\"><rect fill=\"#FEFECE\" filter=\"url(#f43kq0jbrxl8s)\" height=\"45.9375\" id=\"E2\" style=\"stroke: #A80036; stroke-width: 1.5;\" width=\"66\" x=\"510\" y=\"62\"/><text fill=\"#000000\" font-family=\"sans-serif\" font-size=\"12\" font-style=\"italic\" lengthAdjust=\"spacingAndGlyphs\" textLength=\"64\" x=\"511\" y=\"78.1387\">«port def»</text><text fill=\"#000000\" font-family=\"sans-serif\" font-size=\"12\" lengthAdjust=\"spacingAndGlyphs\" textLength=\"8\" x=\"539\" y=\"92.1074\">P</text><line style=\"stroke: #A80036; stroke-width: 1.5;\" x1=\"511\" x2=\"575\" y1=\"99.9375\" y2=\"99.9375\"/></a><!--MD5=[09b614a08d8cba4a07c9adeb5e0fee81]\n",
       "class E3--><a href=\"psysml:5cf63d0b-bb26-43ea-8091-2694cfd07b61\" target=\"_top\" title=\"psysml:5cf63d0b-bb26-43ea-8091-2694cfd07b61\" xlink:actuate=\"onRequest\" xlink:href=\"psysml:5cf63d0b-bb26-43ea-8091-2694cfd07b61\" xlink:show=\"new\" xlink:title=\"psysml:5cf63d0b-bb26-43ea-8091-2694cfd07b61\" xlink:type=\"simple\"><rect fill=\"#FEFECE\" filter=\"url(#f43kq0jbrxl8s)\" height=\"88.3516\" id=\"E3\" style=\"stroke: #A80036; stroke-width: 1.5;\" width=\"66\" x=\"409\" y=\"41\"/><text fill=\"#000000\" font-family=\"sans-serif\" font-size=\"12\" font-style=\"italic\" lengthAdjust=\"spacingAndGlyphs\" textLength=\"64\" x=\"410\" y=\"57.1387\">«part def»</text><text fill=\"#000000\" font-family=\"sans-serif\" font-size=\"12\" lengthAdjust=\"spacingAndGlyphs\" textLength=\"8\" x=\"438\" y=\"71.1074\">B</text><line style=\"stroke: #A80036; stroke-width: 1.5;\" x1=\"410\" x2=\"474\" y1=\"78.9375\" y2=\"78.9375\"/><text fill=\"#000000\" font-family=\"sans-serif\" font-size=\"11\" lengthAdjust=\"spacingAndGlyphs\" textLength=\"29\" x=\"415\" y=\"109.9526\">p1: P</text><text fill=\"#000000\" font-family=\"sans-serif\" font-size=\"11\" lengthAdjust=\"spacingAndGlyphs\" textLength=\"38\" x=\"415\" y=\"122.7573\">p2: ~P</text><line style=\"stroke: #A80036; stroke-width: 1.0;\" x1=\"410\" x2=\"427\" y1=\"93.3398\" y2=\"93.3398\"/><text fill=\"#000000\" font-family=\"sans-serif\" font-size=\"11\" lengthAdjust=\"spacingAndGlyphs\" textLength=\"30\" x=\"427\" y=\"96.6479\">ports</text><line style=\"stroke: #A80036; stroke-width: 1.0;\" x1=\"457\" x2=\"474\" y1=\"93.3398\" y2=\"93.3398\"/></a><!--MD5=[60a26617385b1d2d0262a64233df1f8d]\n",
       "class E6--><a href=\"psysml:c95e8ce0-7583-4d42-8de3-1e3c8277134a\" target=\"_top\" title=\"psysml:c95e8ce0-7583-4d42-8de3-1e3c8277134a\" xlink:actuate=\"onRequest\" xlink:href=\"psysml:c95e8ce0-7583-4d42-8de3-1e3c8277134a\" xlink:show=\"new\" xlink:title=\"psysml:c95e8ce0-7583-4d42-8de3-1e3c8277134a\" xlink:type=\"simple\"><rect fill=\"#FEFECE\" filter=\"url(#f43kq0jbrxl8s)\" height=\"88.3516\" id=\"E6\" style=\"stroke: #A80036; stroke-width: 1.5;\" width=\"110\" x=\"264\" y=\"41\"/><text fill=\"#000000\" font-family=\"sans-serif\" font-size=\"12\" font-style=\"italic\" lengthAdjust=\"spacingAndGlyphs\" textLength=\"108\" x=\"265\" y=\"57.1387\">«connection def»</text><text fill=\"#000000\" font-family=\"sans-serif\" font-size=\"12\" lengthAdjust=\"spacingAndGlyphs\" textLength=\"8\" x=\"315\" y=\"71.1074\">A</text><line style=\"stroke: #A80036; stroke-width: 1.5;\" x1=\"265\" x2=\"373\" y1=\"78.9375\" y2=\"78.9375\"/><text fill=\"#000000\" font-family=\"sans-serif\" font-size=\"11\" lengthAdjust=\"spacingAndGlyphs\" textLength=\"29\" x=\"270\" y=\"109.9526\">p1: P</text><text fill=\"#000000\" font-family=\"sans-serif\" font-size=\"11\" lengthAdjust=\"spacingAndGlyphs\" textLength=\"38\" x=\"270\" y=\"122.7573\">p2: ~P</text><line style=\"stroke: #A80036; stroke-width: 1.0;\" x1=\"265\" x2=\"304\" y1=\"93.3398\" y2=\"93.3398\"/><text fill=\"#000000\" font-family=\"sans-serif\" font-size=\"11\" lengthAdjust=\"spacingAndGlyphs\" textLength=\"30\" x=\"304\" y=\"96.6479\">ports</text><line style=\"stroke: #A80036; stroke-width: 1.0;\" x1=\"334\" x2=\"373\" y1=\"93.3398\" y2=\"93.3398\"/></a><!--MD5=[fd4143e9d270a159db93a4ea2a975926]\n",
       "class E9--><a href=\"psysml:3dca2d5e-c062-4427-93b4-bcb55890dd40\" target=\"_top\" title=\"psysml:3dca2d5e-c062-4427-93b4-bcb55890dd40\" xlink:actuate=\"onRequest\" xlink:href=\"psysml:3dca2d5e-c062-4427-93b4-bcb55890dd40\" xlink:show=\"new\" xlink:title=\"psysml:3dca2d5e-c062-4427-93b4-bcb55890dd40\" xlink:type=\"simple\"><rect fill=\"#FEFECE\" filter=\"url(#f43kq0jbrxl8s)\" height=\"88.3516\" id=\"E9\" style=\"stroke: #A80036; stroke-width: 1.5;\" width=\"96\" x=\"133\" y=\"41\"/><text fill=\"#000000\" font-family=\"sans-serif\" font-size=\"12\" font-style=\"italic\" lengthAdjust=\"spacingAndGlyphs\" textLength=\"94\" x=\"134\" y=\"57.1387\">«interface def»</text><text fill=\"#000000\" font-family=\"sans-serif\" font-size=\"12\" lengthAdjust=\"spacingAndGlyphs\" textLength=\"3\" x=\"179.5\" y=\"71.1074\">I</text><line style=\"stroke: #A80036; stroke-width: 1.5;\" x1=\"134\" x2=\"228\" y1=\"78.9375\" y2=\"78.9375\"/><text fill=\"#000000\" font-family=\"sans-serif\" font-size=\"11\" lengthAdjust=\"spacingAndGlyphs\" textLength=\"29\" x=\"139\" y=\"109.9526\">p1: P</text><text fill=\"#000000\" font-family=\"sans-serif\" font-size=\"11\" lengthAdjust=\"spacingAndGlyphs\" textLength=\"38\" x=\"139\" y=\"122.7573\">p2: ~P</text><line style=\"stroke: #A80036; stroke-width: 1.0;\" x1=\"134\" x2=\"166\" y1=\"93.3398\" y2=\"93.3398\"/><text fill=\"#000000\" font-family=\"sans-serif\" font-size=\"11\" lengthAdjust=\"spacingAndGlyphs\" textLength=\"30\" x=\"166\" y=\"96.6479\">ports</text><line style=\"stroke: #A80036; stroke-width: 1.0;\" x1=\"196\" x2=\"228\" y1=\"93.3398\" y2=\"93.3398\"/></a><!--MD5=[49a0ec8f00dab7302a31f22d0f0fe584]\n",
       "class E12--><a href=\"psysml:239b6b7d-2819-4aeb-bfce-341b8d8c5fb1\" target=\"_top\" title=\"psysml:239b6b7d-2819-4aeb-bfce-341b8d8c5fb1\" xlink:actuate=\"onRequest\" xlink:href=\"psysml:239b6b7d-2819-4aeb-bfce-341b8d8c5fb1\" xlink:show=\"new\" xlink:title=\"psysml:239b6b7d-2819-4aeb-bfce-341b8d8c5fb1\" xlink:type=\"simple\"><rect fill=\"#FEFECE\" filter=\"url(#f43kq0jbrxl8s)\" height=\"45.9375\" id=\"E12\" style=\"stroke: #A80036; stroke-width: 1.5;\" width=\"66\" x=\"32\" y=\"62\"/><text fill=\"#000000\" font-family=\"sans-serif\" font-size=\"12\" font-style=\"italic\" lengthAdjust=\"spacingAndGlyphs\" textLength=\"64\" x=\"33\" y=\"78.1387\">«part def»</text><text fill=\"#000000\" font-family=\"sans-serif\" font-size=\"12\" lengthAdjust=\"spacingAndGlyphs\" textLength=\"16\" x=\"57\" y=\"92.1074\">B1</text><line style=\"stroke: #A80036; stroke-width: 1.5;\" x1=\"33\" x2=\"97\" y1=\"99.9375\" y2=\"99.9375\"/></a><!--MD5=[ee3c913d1a06f366521f9ef512b67efe]\n",
       "class E13--><a href=\"psysml:080adc10-96fd-4f72-8d28-a6aae1d02a34\" target=\"_top\" title=\"psysml:080adc10-96fd-4f72-8d28-a6aae1d02a34\" xlink:actuate=\"onRequest\" xlink:href=\"psysml:080adc10-96fd-4f72-8d28-a6aae1d02a34\" xlink:show=\"new\" xlink:title=\"psysml:080adc10-96fd-4f72-8d28-a6aae1d02a34\" xlink:type=\"simple\"><rect fill=\"#FEFECE\" filter=\"url(#f43kq0jbrxl8s)\" height=\"88.3516\" id=\"E13\" rx=\"10\" ry=\"10\" style=\"stroke: #A80036; stroke-width: 1.5;\" width=\"50\" x=\"40\" y=\"189\"/><text fill=\"#000000\" font-family=\"sans-serif\" font-size=\"12\" font-style=\"italic\" lengthAdjust=\"spacingAndGlyphs\" textLength=\"40\" x=\"45\" y=\"205.1387\">«part»</text><text fill=\"#000000\" font-family=\"sans-serif\" font-size=\"12\" lengthAdjust=\"spacingAndGlyphs\" textLength=\"8\" x=\"61\" y=\"219.1074\">p</text><line style=\"stroke: #A80036; stroke-width: 1.5;\" x1=\"41\" x2=\"89\" y1=\"226.9375\" y2=\"226.9375\"/><text fill=\"#000000\" font-family=\"sans-serif\" font-size=\"11\" lengthAdjust=\"spacingAndGlyphs\" textLength=\"29\" x=\"46\" y=\"257.9526\">p1: P</text><text fill=\"#000000\" font-family=\"sans-serif\" font-size=\"11\" lengthAdjust=\"spacingAndGlyphs\" textLength=\"38\" x=\"46\" y=\"270.7573\">p2: ~P</text><line style=\"stroke: #A80036; stroke-width: 1.0;\" x1=\"41\" x2=\"50\" y1=\"241.3398\" y2=\"241.3398\"/><text fill=\"#000000\" font-family=\"sans-serif\" font-size=\"11\" lengthAdjust=\"spacingAndGlyphs\" textLength=\"30\" x=\"50\" y=\"244.6479\">ports</text><line style=\"stroke: #A80036; stroke-width: 1.0;\" x1=\"80\" x2=\"89\" y1=\"241.3398\" y2=\"241.3398\"/></a><!--MD5=[062ed86c389d1a88f61c6380d0491e17]\n",
       "reverse link E12 to E13--><a href=\"psysml:06665d43-130c-4b8a-bdfd-d93e6351f975\" target=\"_top\" title=\"psysml:06665d43-130c-4b8a-bdfd-d93e6351f975\" xlink:actuate=\"onRequest\" xlink:href=\"psysml:06665d43-130c-4b8a-bdfd-d93e6351f975\" xlink:show=\"new\" xlink:title=\"psysml:06665d43-130c-4b8a-bdfd-d93e6351f975\" xlink:type=\"simple\"><path d=\"M65,121.25 C65,141.54 65,167.2 65,188.71 \" fill=\"none\" id=\"E12&lt;-E13\" style=\"stroke: #A80036; stroke-width: 1.0;\"/><polygon fill=\"#A80036\" points=\"65,108.17,61,114.17,65,120.17,69,114.17,65,108.17\" style=\"stroke: #A80036; stroke-width: 1.0;\"/></a><!--MD5=[4e3d4704f76a229199fe4bbea95f940c]\n",
       "@startuml\r\n",
       "skinparam wrapWidth 300\r\n",
       "hide circle\r\n",
       "\r\n",
       "package \"ConjugationTest\" as E1  [[psysml:56f2a3b4-cc43-4fa3-8695-199f33536b50 ]]  {\r\n",
       "comp def \"P\" as E2  <<(T,blue)port def>> [[psysml:c0a3bc73-93c5-4b4d-b763-5833239b73fd ]] {\r\n",
       "}\r\n",
       "comp def \"B\" as E3  <<(T,blue)part def>> [[psysml:5cf63d0b-bb26-43ea-8091-2694cfd07b61 ]] {\r\n",
       "- - ports - -\r\n",
       "p1: P\r\n",
       "p2: ~P\r\n",
       "}\r\n",
       "comp def \"A\" as E6  <<(T,blue)connection def>> [[psysml:c95e8ce0-7583-4d42-8de3-1e3c8277134a ]] {\r\n",
       "- - ports - -\r\n",
       "p1: P\r\n",
       "p2: ~P\r\n",
       "}\r\n",
       "comp def \"I\" as E9  <<(T,blue)interface def>> [[psysml:3dca2d5e-c062-4427-93b4-bcb55890dd40 ]] {\r\n",
       "- - ports - -\r\n",
       "p1: P\r\n",
       "p2: ~P\r\n",
       "}\r\n",
       "comp def \"B1\" as E12  <<(T,blue)part def>> [[psysml:239b6b7d-2819-4aeb-bfce-341b8d8c5fb1 ]] {\r\n",
       "}\r\n",
       "comp usage \"p\" as E13  <<(T,blue)part>> [[psysml:080adc10-96fd-4f72-8d28-a6aae1d02a34 ]] {\r\n",
       "- - ports - -\r\n",
       "p1: P\r\n",
       "p2: ~P\r\n",
       "}\r\n",
       "E12 *- - E13 [[psysml:06665d43-130c-4b8a-bdfd-d93e6351f975 ]] \r\n",
       "}\r\n",
       "@enduml\r\n",
       "\n",
       "PlantUML version 1.2020.13(Sat Jun 13 12:26:38 UTC 2020)\n",
       "(EPL source distribution)\n",
       "Java Runtime: OpenJDK Runtime Environment\n",
       "JVM: OpenJDK 64-Bit Server VM\n",
       "Default Encoding: UTF-8\n",
       "Language: en\n",
       "Country: null\n",
       "--></g></svg>"
      ]
     },
     "execution_count": 24,
     "metadata": {},
     "output_type": "execute_result"
    }
   ],
   "source": [
    "%viz --style=\"STDCOLOR\" --view=\"Tree\" \"ConjugationTest\""
   ]
  },
  {
   "cell_type": "code",
   "execution_count": 25,
   "id": "682c43d1",
   "metadata": {
    "execution": {
     "iopub.execute_input": "2021-04-20T07:00:14.644352Z",
     "iopub.status.busy": "2021-04-20T07:00:14.643393Z",
     "iopub.status.idle": "2021-04-20T07:00:14.662342Z",
     "shell.execute_reply": "2021-04-20T07:00:14.661290Z"
    }
   },
   "outputs": [
    {
     "data": {
      "image/svg+xml": [
       "<?xml version=\"1.0\" encoding=\"UTF-8\" standalone=\"no\"?><svg xmlns=\"http://www.w3.org/2000/svg\" xmlns:xlink=\"http://www.w3.org/1999/xlink\" contentScriptType=\"application/ecmascript\" contentStyleType=\"text/css\" height=\"12px\" preserveAspectRatio=\"none\" style=\"width:12px;height:12px;\" version=\"1.1\" viewBox=\"0 0 12 12\" width=\"12px\" zoomAndPan=\"magnify\"><defs/><g><!--MD5=[aeeef50f102b80d730deb6443d14f702]\n",
       "@startuml\r\n",
       "skinparam wrapWidth 300\r\n",
       "hide circle\r\n",
       "\r\n",
       "@enduml\r\n",
       "\n",
       "PlantUML version 1.2020.13(Sat Jun 13 12:26:38 UTC 2020)\n",
       "(EPL source distribution)\n",
       "Java Runtime: OpenJDK Runtime Environment\n",
       "JVM: OpenJDK 64-Bit Server VM\n",
       "Default Encoding: UTF-8\n",
       "Language: en\n",
       "Country: null\n",
       "--></g></svg>"
      ]
     },
     "execution_count": 25,
     "metadata": {},
     "output_type": "execute_result"
    }
   ],
   "source": [
    "%viz --style=\"STDCOLOR\" --view=\"State\" \"ConjugationTest\""
   ]
  },
  {
   "cell_type": "code",
   "execution_count": 26,
   "id": "05a62fc2",
   "metadata": {
    "execution": {
     "iopub.execute_input": "2021-04-20T07:00:14.713158Z",
     "iopub.status.busy": "2021-04-20T07:00:14.712080Z",
     "iopub.status.idle": "2021-04-20T07:00:14.766444Z",
     "shell.execute_reply": "2021-04-20T07:00:14.766046Z"
    }
   },
   "outputs": [
    {
     "data": {
      "image/svg+xml": [
       "<?xml version=\"1.0\" encoding=\"UTF-8\" standalone=\"no\"?><svg xmlns=\"http://www.w3.org/2000/svg\" xmlns:xlink=\"http://www.w3.org/1999/xlink\" contentScriptType=\"application/ecmascript\" contentStyleType=\"text/css\" height=\"246px\" preserveAspectRatio=\"none\" style=\"width:739px;height:246px;\" version=\"1.1\" viewBox=\"0 0 739 246\" width=\"739px\" zoomAndPan=\"magnify\"><defs><filter height=\"300%\" id=\"fe198kt52wmjr\" width=\"300%\" x=\"-1\" y=\"-1\"><feGaussianBlur result=\"blurOut\" stdDeviation=\"2.0\"/><feColorMatrix in=\"blurOut\" result=\"blurOut2\" type=\"matrix\" values=\"0 0 0 0 0 0 0 0 0 0 0 0 0 0 0 0 0 0 .4 0\"/><feOffset dx=\"4.0\" dy=\"4.0\" in=\"blurOut2\" result=\"blurOut3\"/><feBlend in=\"SourceGraphic\" in2=\"blurOut3\" mode=\"normal\"/></filter></defs><g><!--MD5=[fbc87193dbaf4d95561dea2c320d4a47]\n",
       "cluster E1--><a href=\"psysml:56f2a3b4-cc43-4fa3-8695-199f33536b50\" target=\"_top\" title=\"psysml:56f2a3b4-cc43-4fa3-8695-199f33536b50\" xlink:actuate=\"onRequest\" xlink:href=\"psysml:56f2a3b4-cc43-4fa3-8695-199f33536b50\" xlink:show=\"new\" xlink:title=\"psysml:56f2a3b4-cc43-4fa3-8695-199f33536b50\" xlink:type=\"simple\"><polygon fill=\"#FFFFFF\" filter=\"url(#fe198kt52wmjr)\" points=\"16,6,151,6,158,28.2969,717,28.2969,717,234.5,16,234.5,16,6\" style=\"stroke: #000000; stroke-width: 1.5;\"/><line style=\"stroke: #000000; stroke-width: 1.5;\" x1=\"16\" x2=\"158\" y1=\"28.2969\" y2=\"28.2969\"/><text fill=\"#000000\" font-family=\"sans-serif\" font-size=\"14\" font-weight=\"bold\" lengthAdjust=\"spacingAndGlyphs\" textLength=\"129\" x=\"20\" y=\"20.9951\">ConjugationTest</text></a><!--MD5=[d5e69f78d87373223dbae638b30a9c99]\n",
       "cluster E3--><a href=\"psysml:5cf63d0b-bb26-43ea-8091-2694cfd07b61\" target=\"_top\" title=\"psysml:5cf63d0b-bb26-43ea-8091-2694cfd07b61\" xlink:actuate=\"onRequest\" xlink:href=\"psysml:5cf63d0b-bb26-43ea-8091-2694cfd07b61\" xlink:show=\"new\" xlink:title=\"psysml:5cf63d0b-bb26-43ea-8091-2694cfd07b61\" xlink:type=\"simple\"><rect fill=\"#FFFFFF\" filter=\"url(#fe198kt52wmjr)\" height=\"88.5\" id=\"E3\" style=\"stroke: #A80036; stroke-width: 1.5;\" width=\"83\" x=\"577\" y=\"114\"/><rect fill=\"#FEFECE\" height=\"37.9375\" style=\"stroke: #A80036; stroke-width: 1.5;\" width=\"83\" x=\"577\" y=\"114\"/><text fill=\"#000000\" font-family=\"sans-serif\" font-size=\"12\" font-style=\"italic\" lengthAdjust=\"spacingAndGlyphs\" textLength=\"64\" x=\"586.5\" y=\"130.1387\">«part def»</text><text fill=\"#000000\" font-family=\"sans-serif\" font-size=\"12\" lengthAdjust=\"spacingAndGlyphs\" textLength=\"8\" x=\"614.5\" y=\"144.1074\">B</text></a><!--MD5=[14e3b0961a2654348d326746436168a1]\n",
       "cluster E6--><a href=\"psysml:c95e8ce0-7583-4d42-8de3-1e3c8277134a\" target=\"_top\" title=\"psysml:c95e8ce0-7583-4d42-8de3-1e3c8277134a\" xlink:actuate=\"onRequest\" xlink:href=\"psysml:c95e8ce0-7583-4d42-8de3-1e3c8277134a\" xlink:show=\"new\" xlink:title=\"psysml:c95e8ce0-7583-4d42-8de3-1e3c8277134a\" xlink:type=\"simple\"><rect fill=\"#FFFFFF\" filter=\"url(#fe198kt52wmjr)\" height=\"88.5\" id=\"E6\" style=\"stroke: #A80036; stroke-width: 1.5;\" width=\"150\" x=\"423\" y=\"114\"/><rect fill=\"#FEFECE\" height=\"37.9375\" style=\"stroke: #A80036; stroke-width: 1.5;\" width=\"150\" x=\"423\" y=\"114\"/><text fill=\"#000000\" font-family=\"sans-serif\" font-size=\"12\" font-style=\"italic\" lengthAdjust=\"spacingAndGlyphs\" textLength=\"108\" x=\"444\" y=\"130.1387\">«connection def»</text><text fill=\"#000000\" font-family=\"sans-serif\" font-size=\"12\" lengthAdjust=\"spacingAndGlyphs\" textLength=\"8\" x=\"494\" y=\"144.1074\">A</text></a><!--MD5=[7f149f147074ac12df2cb0a7728a5fb0]\n",
       "cluster E9--><a href=\"psysml:3dca2d5e-c062-4427-93b4-bcb55890dd40\" target=\"_top\" title=\"psysml:3dca2d5e-c062-4427-93b4-bcb55890dd40\" xlink:actuate=\"onRequest\" xlink:href=\"psysml:3dca2d5e-c062-4427-93b4-bcb55890dd40\" xlink:show=\"new\" xlink:title=\"psysml:3dca2d5e-c062-4427-93b4-bcb55890dd40\" xlink:type=\"simple\"><rect fill=\"#FFFFFF\" filter=\"url(#fe198kt52wmjr)\" height=\"88.5\" id=\"E9\" style=\"stroke: #A80036; stroke-width: 1.5;\" width=\"141\" x=\"254\" y=\"114\"/><rect fill=\"#FEFECE\" height=\"37.9375\" style=\"stroke: #A80036; stroke-width: 1.5;\" width=\"141\" x=\"254\" y=\"114\"/><text fill=\"#000000\" font-family=\"sans-serif\" font-size=\"12\" font-style=\"italic\" lengthAdjust=\"spacingAndGlyphs\" textLength=\"94\" x=\"277.5\" y=\"130.1387\">«interface def»</text><text fill=\"#000000\" font-family=\"sans-serif\" font-size=\"12\" lengthAdjust=\"spacingAndGlyphs\" textLength=\"3\" x=\"323\" y=\"144.1074\">I</text></a><!--MD5=[47bea60c1a0ac6c1143df232041969c0]\n",
       "cluster E12--><a href=\"psysml:239b6b7d-2819-4aeb-bfce-341b8d8c5fb1\" target=\"_top\" title=\"psysml:239b6b7d-2819-4aeb-bfce-341b8d8c5fb1\" xlink:actuate=\"onRequest\" xlink:href=\"psysml:239b6b7d-2819-4aeb-bfce-341b8d8c5fb1\" xlink:show=\"new\" xlink:title=\"psysml:239b6b7d-2819-4aeb-bfce-341b8d8c5fb1\" xlink:type=\"simple\"><rect fill=\"#FFFFFF\" filter=\"url(#fe198kt52wmjr)\" height=\"161.5\" id=\"E12\" style=\"stroke: #A80036; stroke-width: 1.5;\" width=\"107\" x=\"120\" y=\"49\"/><rect fill=\"#FEFECE\" height=\"37.9375\" style=\"stroke: #A80036; stroke-width: 1.5;\" width=\"107\" x=\"120\" y=\"49\"/><text fill=\"#000000\" font-family=\"sans-serif\" font-size=\"12\" font-style=\"italic\" lengthAdjust=\"spacingAndGlyphs\" textLength=\"64\" x=\"141.5\" y=\"65.1387\">«part def»</text><text fill=\"#000000\" font-family=\"sans-serif\" font-size=\"12\" lengthAdjust=\"spacingAndGlyphs\" textLength=\"16\" x=\"165.5\" y=\"79.1074\">B1</text></a><!--MD5=[03104f77b71e2d8d3500c651e6e31181]\n",
       "cluster E13--><a href=\"psysml:080adc10-96fd-4f72-8d28-a6aae1d02a34\" target=\"_top\" title=\"psysml:080adc10-96fd-4f72-8d28-a6aae1d02a34\" xlink:actuate=\"onRequest\" xlink:href=\"psysml:080adc10-96fd-4f72-8d28-a6aae1d02a34\" xlink:show=\"new\" xlink:title=\"psysml:080adc10-96fd-4f72-8d28-a6aae1d02a34\" xlink:type=\"simple\"><rect fill=\"#FFFFFF\" filter=\"url(#fe198kt52wmjr)\" height=\"80.5\" id=\"E13\" rx=\"10\" ry=\"10\" style=\"stroke: #A80036; stroke-width: 1.5;\" width=\"83\" x=\"132\" y=\"114\"/><rect fill=\"#FEFECE\" height=\"23.9688\" rx=\"10\" ry=\"10\" style=\"stroke: #FEFECE; stroke-width: 1.5;\" width=\"83\" x=\"132\" y=\"114\"/><rect fill=\"#FEFECE\" height=\"10\" style=\"stroke: #FEFECE; stroke-width: 1.5;\" width=\"83\" x=\"132\" y=\"127.9688\"/><rect fill=\"none\" height=\"80.5\" id=\"E13\" rx=\"10\" ry=\"10\" style=\"stroke: #A80036; stroke-width: 1.5;\" width=\"83\" x=\"132\" y=\"114\"/><text fill=\"#000000\" font-family=\"sans-serif\" font-size=\"12\" lengthAdjust=\"spacingAndGlyphs\" textLength=\"8\" x=\"169.5\" y=\"130.1387\">p</text><line style=\"stroke: #A80036; stroke-width: 1.0;\" x1=\"132\" x2=\"215\" y1=\"137.9688\" y2=\"137.9688\"/></a><g id=\"E1.E2\"><a href=\"psysml:c0a3bc73-93c5-4b4d-b763-5833239b73fd\" target=\"_top\" title=\"psysml:c0a3bc73-93c5-4b4d-b763-5833239b73fd\" xlink:actuate=\"onRequest\" xlink:href=\"psysml:c0a3bc73-93c5-4b4d-b763-5833239b73fd\" xlink:show=\"new\" xlink:title=\"psysml:c0a3bc73-93c5-4b4d-b763-5833239b73fd\" xlink:type=\"simple\"><rect fill=\"#FEFECE\" filter=\"url(#fe198kt52wmjr)\" height=\"42.9375\" id=\"E2\" style=\"stroke: #A80036; stroke-width: 1.5;\" width=\"71\" x=\"32.5\" y=\"92.5\"/><text fill=\"#000000\" font-family=\"sans-serif\" font-size=\"12\" font-style=\"italic\" lengthAdjust=\"spacingAndGlyphs\" textLength=\"64\" x=\"36\" y=\"108.6387\">«port def»</text><text fill=\"#000000\" font-family=\"sans-serif\" font-size=\"12\" lengthAdjust=\"spacingAndGlyphs\" textLength=\"8\" x=\"64\" y=\"122.6074\">P</text></a></g><text fill=\"#000000\" font-family=\"sans-serif\" font-size=\"14\" lengthAdjust=\"spacingAndGlyphs\" textLength=\"36\" x=\"577\" y=\"92.6982\">p1: P</text><rect fill=\"#A80036\" height=\"12\" style=\"stroke: #FEFECE; stroke-width: 1.5;\" width=\"12\" x=\"589\" y=\"108\"/><text fill=\"#000000\" font-family=\"sans-serif\" font-size=\"14\" lengthAdjust=\"spacingAndGlyphs\" textLength=\"48\" x=\"618\" y=\"92.6982\">p2: ~P</text><rect fill=\"#A80036\" height=\"12\" style=\"stroke: #FEFECE; stroke-width: 1.5;\" width=\"12\" x=\"636\" y=\"108\"/><text fill=\"#000000\" font-family=\"sans-serif\" font-size=\"14\" lengthAdjust=\"spacingAndGlyphs\" textLength=\"36\" x=\"423\" y=\"92.6982\">p1: P</text><rect fill=\"#A80036\" height=\"12\" style=\"stroke: #FEFECE; stroke-width: 1.5;\" width=\"12\" x=\"435\" y=\"108\"/><text fill=\"#000000\" font-family=\"sans-serif\" font-size=\"14\" lengthAdjust=\"spacingAndGlyphs\" textLength=\"48\" x=\"464\" y=\"92.6982\">p2: ~P</text><rect fill=\"#A80036\" height=\"12\" style=\"stroke: #FEFECE; stroke-width: 1.5;\" width=\"12\" x=\"482\" y=\"108\"/><text fill=\"#000000\" font-family=\"sans-serif\" font-size=\"14\" lengthAdjust=\"spacingAndGlyphs\" textLength=\"36\" x=\"254\" y=\"92.6982\">p1: P</text><rect fill=\"#A80036\" height=\"12\" style=\"stroke: #FEFECE; stroke-width: 1.5;\" width=\"12\" x=\"266\" y=\"108\"/><text fill=\"#000000\" font-family=\"sans-serif\" font-size=\"14\" lengthAdjust=\"spacingAndGlyphs\" textLength=\"48\" x=\"295\" y=\"92.6982\">p2: ~P</text><rect fill=\"#A80036\" height=\"12\" style=\"stroke: #FEFECE; stroke-width: 1.5;\" width=\"12\" x=\"313\" y=\"108\"/><text fill=\"#000000\" font-family=\"sans-serif\" font-size=\"14\" lengthAdjust=\"spacingAndGlyphs\" textLength=\"36\" x=\"132\" y=\"92.6982\">p1: P</text><rect fill=\"#A80036\" height=\"12\" style=\"stroke: #FEFECE; stroke-width: 1.5;\" width=\"12\" x=\"144\" y=\"108\"/><text fill=\"#000000\" font-family=\"sans-serif\" font-size=\"14\" lengthAdjust=\"spacingAndGlyphs\" textLength=\"48\" x=\"173\" y=\"92.6982\">p2: ~P</text><rect fill=\"#A80036\" height=\"12\" style=\"stroke: #FEFECE; stroke-width: 1.5;\" width=\"12\" x=\"191\" y=\"108\"/><!--MD5=[4ce51ac6fa4cf5202df3859e2718f033]\n",
       "link E15 to E14--><a href=\"psysml:b40b8767-d304-49cf-ad0a-af8e9dd9f9d8\" target=\"_top\" title=\"psysml:b40b8767-d304-49cf-ad0a-af8e9dd9f9d8\" xlink:actuate=\"onRequest\" xlink:href=\"psysml:b40b8767-d304-49cf-ad0a-af8e9dd9f9d8\" xlink:show=\"new\" xlink:title=\"psysml:b40b8767-d304-49cf-ad0a-af8e9dd9f9d8\" xlink:type=\"simple\"><path d=\"M190.95,114 C179.38,114 167.81,114 156.24,114 \" fill=\"none\" id=\"E15-E14\" style=\"stroke: #A80036; stroke-width: 3.0;\"/></a><!--MD5=[4ce51ac6fa4cf5202df3859e2718f033]\n",
       "link E15 to E14--><a href=\"psysml:e453fd18-f914-4bbc-b21b-733251b90d8d\" target=\"_top\" title=\"psysml:e453fd18-f914-4bbc-b21b-733251b90d8d\" xlink:actuate=\"onRequest\" xlink:href=\"psysml:e453fd18-f914-4bbc-b21b-733251b90d8d\" xlink:show=\"new\" xlink:title=\"psysml:e453fd18-f914-4bbc-b21b-733251b90d8d\" xlink:type=\"simple\"><path d=\"M190.95,111.98 C179.38,108.69 167.81,108.67 156.24,111.93 \" fill=\"none\" id=\"E15-E14-1\" style=\"stroke: #A80036; stroke-width: 3.0;\"/></a><!--MD5=[d572d506c430fe24930a89b1fa25f77a]\n",
       "@startuml\r\n",
       "skinparam ranksep 10\r\n",
       "skinparam rectangle {\r\n",
       " backgroundColor<<block>> LightGreen\r\n",
       "}\r\n",
       "skinparam wrapWidth 300\r\n",
       "hide circle\r\n",
       "\r\n",
       "package \"ConjugationTest\" as E1  [[psysml:56f2a3b4-cc43-4fa3-8695-199f33536b50 ]]  {\r\n",
       "def \"P\" as E2  <<(T,blue)port def>> [[psysml:c0a3bc73-93c5-4b4d-b763-5833239b73fd ]] \r\n",
       "rec def \"B\" as E3  <<(T,blue)part def>> [[psysml:5cf63d0b-bb26-43ea-8091-2694cfd07b61 ]] {\r\n",
       "portin \"p1: P\" as E4  <<(T,blue)port>> [[psysml:c76b55b8-c5f7-4b06-9682-6e30a37606f5 ]] \r\n",
       "portin \"p2: ~P\" as E5  <<(T,blue)port>> [[psysml:35da94da-d279-45b2-babf-0a6a90392647 ]] \r\n",
       "}\r\n",
       "rec def \"A\" as E6  <<(T,blue)connection def>> [[psysml:c95e8ce0-7583-4d42-8de3-1e3c8277134a ]] {\r\n",
       "portin \"p1: P\" as E7  <<(T,blue)port>> [[psysml:2d7c72e0-11ff-44e8-b252-bce43cdf8c5c ]] \r\n",
       "portin \"p2: ~P\" as E8  <<(T,blue)port>> [[psysml:32f7297e-deaa-40d0-ad2f-7459de0cc2ac ]] \r\n",
       "}\r\n",
       "rec def \"I\" as E9  <<(T,blue)interface def>> [[psysml:3dca2d5e-c062-4427-93b4-bcb55890dd40 ]] {\r\n",
       "portin \"p1: P\" as E10  <<(T,blue)port>> [[psysml:c5132c6d-1853-42dd-8f4d-8690518006d4 ]] \r\n",
       "portin \"p2: ~P\" as E11  <<(T,blue)port>> [[psysml:dfe5ce78-d727-465a-9c67-ad29336ed483 ]] \r\n",
       "}\r\n",
       "rec def \"B1\" as E12  <<(T,blue)part def>> [[psysml:239b6b7d-2819-4aeb-bfce-341b8d8c5fb1 ]] {\r\n",
       "rec usage \"p\" as E13  [[psysml:080adc10-96fd-4f72-8d28-a6aae1d02a34 ]] {\r\n",
       "portin \"p1: P\" as E14  <<(T,blue)port>> [[psysml:990bba01-cfb0-414f-879e-e0e887a1aff5 ]] \r\n",
       "portin \"p2: ~P\" as E15  <<(T,blue)port>> [[psysml:ea02eef2-b064-45a9-9708-410d7204d199 ]] \r\n",
       "}\r\n",
       "}\r\n",
       "E15 -[thickness=3]- E14 [[psysml:b40b8767-d304-49cf-ad0a-af8e9dd9f9d8 ]] \r\n",
       "E15 -[thickness=3]- E14 [[psysml:e453fd18-f914-4bbc-b21b-733251b90d8d ]] \r\n",
       "}\r\n",
       "@enduml\r\n",
       "\n",
       "PlantUML version 1.2020.13(Sat Jun 13 12:26:38 UTC 2020)\n",
       "(EPL source distribution)\n",
       "Java Runtime: OpenJDK Runtime Environment\n",
       "JVM: OpenJDK 64-Bit Server VM\n",
       "Default Encoding: UTF-8\n",
       "Language: en\n",
       "Country: null\n",
       "--></g></svg>"
      ]
     },
     "execution_count": 26,
     "metadata": {},
     "output_type": "execute_result"
    }
   ],
   "source": [
    "%viz --style=\"STDCOLOR\" --view=\"Interconnection\" \"ConjugationTest\""
   ]
  },
  {
   "cell_type": "code",
   "execution_count": 27,
   "id": "cc1ebf3e",
   "metadata": {
    "execution": {
     "iopub.execute_input": "2021-04-20T07:00:14.817306Z",
     "iopub.status.busy": "2021-04-20T07:00:14.816864Z",
     "iopub.status.idle": "2021-04-20T07:00:14.821910Z",
     "shell.execute_reply": "2021-04-20T07:00:14.821593Z"
    }
   },
   "outputs": [
    {
     "data": {
      "image/svg+xml": [
       "<?xml version=\"1.0\" encoding=\"UTF-8\" standalone=\"no\"?><svg xmlns=\"http://www.w3.org/2000/svg\" xmlns:xlink=\"http://www.w3.org/1999/xlink\" contentScriptType=\"application/ecmascript\" contentStyleType=\"text/css\" height=\"12px\" preserveAspectRatio=\"none\" style=\"width:12px;height:12px;\" version=\"1.1\" viewBox=\"0 0 12 12\" width=\"12px\" zoomAndPan=\"magnify\"><defs/><g><!--MD5=[9863325348a96a77dacc89509d8ee65e]\n",
       "@startuml\r\n",
       "skinparam ranksep 8\r\n",
       "skinparam wrapWidth 300\r\n",
       "hide circle\r\n",
       "\r\n",
       "@enduml\r\n",
       "\n",
       "PlantUML version 1.2020.13(Sat Jun 13 12:26:38 UTC 2020)\n",
       "(EPL source distribution)\n",
       "Java Runtime: OpenJDK Runtime Environment\n",
       "JVM: OpenJDK 64-Bit Server VM\n",
       "Default Encoding: UTF-8\n",
       "Language: en\n",
       "Country: null\n",
       "--></g></svg>"
      ]
     },
     "execution_count": 27,
     "metadata": {},
     "output_type": "execute_result"
    }
   ],
   "source": [
    "%viz --style=\"STDCOLOR\" --view=\"Action\" \"ConjugationTest\""
   ]
  },
  {
   "cell_type": "code",
   "execution_count": 28,
   "id": "de6a99e4",
   "metadata": {
    "execution": {
     "iopub.execute_input": "2021-04-20T07:00:14.873029Z",
     "iopub.status.busy": "2021-04-20T07:00:14.872669Z",
     "iopub.status.idle": "2021-04-20T07:00:14.969262Z",
     "shell.execute_reply": "2021-04-20T07:00:14.967515Z"
    }
   },
   "outputs": [
    {
     "data": {
      "image/svg+xml": [
       "<?xml version=\"1.0\" encoding=\"UTF-8\" standalone=\"no\"?><svg xmlns=\"http://www.w3.org/2000/svg\" xmlns:xlink=\"http://www.w3.org/1999/xlink\" contentScriptType=\"application/ecmascript\" contentStyleType=\"text/css\" height=\"305px\" preserveAspectRatio=\"none\" style=\"width:614px;height:305px;\" version=\"1.1\" viewBox=\"0 0 614 305\" width=\"614px\" zoomAndPan=\"magnify\"><defs><filter height=\"300%\" id=\"f43kq0jbrxl8s\" width=\"300%\" x=\"-1\" y=\"-1\"><feGaussianBlur result=\"blurOut\" stdDeviation=\"2.0\"/><feColorMatrix in=\"blurOut\" result=\"blurOut2\" type=\"matrix\" values=\"0 0 0 0 0 0 0 0 0 0 0 0 0 0 0 0 0 0 .4 0\"/><feOffset dx=\"4.0\" dy=\"4.0\" in=\"blurOut2\" result=\"blurOut3\"/><feBlend in=\"SourceGraphic\" in2=\"blurOut3\" mode=\"normal\"/></filter></defs><g><!--MD5=[fbc87193dbaf4d95561dea2c320d4a47]\n",
       "cluster E1--><a href=\"psysml:56f2a3b4-cc43-4fa3-8695-199f33536b50\" target=\"_top\" title=\"psysml:56f2a3b4-cc43-4fa3-8695-199f33536b50\" xlink:actuate=\"onRequest\" xlink:href=\"psysml:56f2a3b4-cc43-4fa3-8695-199f33536b50\" xlink:show=\"new\" xlink:title=\"psysml:56f2a3b4-cc43-4fa3-8695-199f33536b50\" xlink:type=\"simple\"><polygon fill=\"#FFFFFF\" filter=\"url(#f43kq0jbrxl8s)\" points=\"16,6,151,6,158,28.2969,592,28.2969,592,293,16,293,16,6\" style=\"stroke: #000000; stroke-width: 1.5;\"/><line style=\"stroke: #000000; stroke-width: 1.5;\" x1=\"16\" x2=\"158\" y1=\"28.2969\" y2=\"28.2969\"/><text fill=\"#000000\" font-family=\"sans-serif\" font-size=\"14\" font-weight=\"bold\" lengthAdjust=\"spacingAndGlyphs\" textLength=\"129\" x=\"20\" y=\"20.9951\">ConjugationTest</text></a><!--MD5=[b4997ac47864f28c2f74865a473b2911]\n",
       "class E2--><a href=\"psysml:c0a3bc73-93c5-4b4d-b763-5833239b73fd\" target=\"_top\" title=\"psysml:c0a3bc73-93c5-4b4d-b763-5833239b73fd\" xlink:actuate=\"onRequest\" xlink:href=\"psysml:c0a3bc73-93c5-4b4d-b763-5833239b73fd\" xlink:show=\"new\" xlink:title=\"psysml:c0a3bc73-93c5-4b4d-b763-5833239b73fd\" xlink:type=\"simple\"><rect fill=\"#FEFECE\" filter=\"url(#f43kq0jbrxl8s)\" height=\"45.9375\" id=\"E2\" style=\"stroke: #A80036; stroke-width: 1.5;\" width=\"66\" x=\"510\" y=\"62\"/><text fill=\"#000000\" font-family=\"sans-serif\" font-size=\"12\" font-style=\"italic\" lengthAdjust=\"spacingAndGlyphs\" textLength=\"64\" x=\"511\" y=\"78.1387\">«port def»</text><text fill=\"#000000\" font-family=\"sans-serif\" font-size=\"12\" lengthAdjust=\"spacingAndGlyphs\" textLength=\"8\" x=\"539\" y=\"92.1074\">P</text><line style=\"stroke: #A80036; stroke-width: 1.5;\" x1=\"511\" x2=\"575\" y1=\"99.9375\" y2=\"99.9375\"/></a><!--MD5=[09b614a08d8cba4a07c9adeb5e0fee81]\n",
       "class E3--><a href=\"psysml:5cf63d0b-bb26-43ea-8091-2694cfd07b61\" target=\"_top\" title=\"psysml:5cf63d0b-bb26-43ea-8091-2694cfd07b61\" xlink:actuate=\"onRequest\" xlink:href=\"psysml:5cf63d0b-bb26-43ea-8091-2694cfd07b61\" xlink:show=\"new\" xlink:title=\"psysml:5cf63d0b-bb26-43ea-8091-2694cfd07b61\" xlink:type=\"simple\"><rect fill=\"#FEFECE\" filter=\"url(#f43kq0jbrxl8s)\" height=\"88.3516\" id=\"E3\" style=\"stroke: #A80036; stroke-width: 1.5;\" width=\"66\" x=\"409\" y=\"41\"/><text fill=\"#000000\" font-family=\"sans-serif\" font-size=\"12\" font-style=\"italic\" lengthAdjust=\"spacingAndGlyphs\" textLength=\"64\" x=\"410\" y=\"57.1387\">«part def»</text><text fill=\"#000000\" font-family=\"sans-serif\" font-size=\"12\" lengthAdjust=\"spacingAndGlyphs\" textLength=\"8\" x=\"438\" y=\"71.1074\">B</text><line style=\"stroke: #A80036; stroke-width: 1.5;\" x1=\"410\" x2=\"474\" y1=\"78.9375\" y2=\"78.9375\"/><text fill=\"#000000\" font-family=\"sans-serif\" font-size=\"11\" lengthAdjust=\"spacingAndGlyphs\" textLength=\"29\" x=\"415\" y=\"109.9526\">p1: P</text><text fill=\"#000000\" font-family=\"sans-serif\" font-size=\"11\" lengthAdjust=\"spacingAndGlyphs\" textLength=\"38\" x=\"415\" y=\"122.7573\">p2: ~P</text><line style=\"stroke: #A80036; stroke-width: 1.0;\" x1=\"410\" x2=\"427\" y1=\"93.3398\" y2=\"93.3398\"/><text fill=\"#000000\" font-family=\"sans-serif\" font-size=\"11\" lengthAdjust=\"spacingAndGlyphs\" textLength=\"30\" x=\"427\" y=\"96.6479\">ports</text><line style=\"stroke: #A80036; stroke-width: 1.0;\" x1=\"457\" x2=\"474\" y1=\"93.3398\" y2=\"93.3398\"/></a><!--MD5=[60a26617385b1d2d0262a64233df1f8d]\n",
       "class E6--><a href=\"psysml:c95e8ce0-7583-4d42-8de3-1e3c8277134a\" target=\"_top\" title=\"psysml:c95e8ce0-7583-4d42-8de3-1e3c8277134a\" xlink:actuate=\"onRequest\" xlink:href=\"psysml:c95e8ce0-7583-4d42-8de3-1e3c8277134a\" xlink:show=\"new\" xlink:title=\"psysml:c95e8ce0-7583-4d42-8de3-1e3c8277134a\" xlink:type=\"simple\"><rect fill=\"#FEFECE\" filter=\"url(#f43kq0jbrxl8s)\" height=\"88.3516\" id=\"E6\" style=\"stroke: #A80036; stroke-width: 1.5;\" width=\"110\" x=\"264\" y=\"41\"/><text fill=\"#000000\" font-family=\"sans-serif\" font-size=\"12\" font-style=\"italic\" lengthAdjust=\"spacingAndGlyphs\" textLength=\"108\" x=\"265\" y=\"57.1387\">«connection def»</text><text fill=\"#000000\" font-family=\"sans-serif\" font-size=\"12\" lengthAdjust=\"spacingAndGlyphs\" textLength=\"8\" x=\"315\" y=\"71.1074\">A</text><line style=\"stroke: #A80036; stroke-width: 1.5;\" x1=\"265\" x2=\"373\" y1=\"78.9375\" y2=\"78.9375\"/><text fill=\"#000000\" font-family=\"sans-serif\" font-size=\"11\" lengthAdjust=\"spacingAndGlyphs\" textLength=\"29\" x=\"270\" y=\"109.9526\">p1: P</text><text fill=\"#000000\" font-family=\"sans-serif\" font-size=\"11\" lengthAdjust=\"spacingAndGlyphs\" textLength=\"38\" x=\"270\" y=\"122.7573\">p2: ~P</text><line style=\"stroke: #A80036; stroke-width: 1.0;\" x1=\"265\" x2=\"304\" y1=\"93.3398\" y2=\"93.3398\"/><text fill=\"#000000\" font-family=\"sans-serif\" font-size=\"11\" lengthAdjust=\"spacingAndGlyphs\" textLength=\"30\" x=\"304\" y=\"96.6479\">ports</text><line style=\"stroke: #A80036; stroke-width: 1.0;\" x1=\"334\" x2=\"373\" y1=\"93.3398\" y2=\"93.3398\"/></a><!--MD5=[fd4143e9d270a159db93a4ea2a975926]\n",
       "class E9--><a href=\"psysml:3dca2d5e-c062-4427-93b4-bcb55890dd40\" target=\"_top\" title=\"psysml:3dca2d5e-c062-4427-93b4-bcb55890dd40\" xlink:actuate=\"onRequest\" xlink:href=\"psysml:3dca2d5e-c062-4427-93b4-bcb55890dd40\" xlink:show=\"new\" xlink:title=\"psysml:3dca2d5e-c062-4427-93b4-bcb55890dd40\" xlink:type=\"simple\"><rect fill=\"#FEFECE\" filter=\"url(#f43kq0jbrxl8s)\" height=\"88.3516\" id=\"E9\" style=\"stroke: #A80036; stroke-width: 1.5;\" width=\"96\" x=\"133\" y=\"41\"/><text fill=\"#000000\" font-family=\"sans-serif\" font-size=\"12\" font-style=\"italic\" lengthAdjust=\"spacingAndGlyphs\" textLength=\"94\" x=\"134\" y=\"57.1387\">«interface def»</text><text fill=\"#000000\" font-family=\"sans-serif\" font-size=\"12\" lengthAdjust=\"spacingAndGlyphs\" textLength=\"3\" x=\"179.5\" y=\"71.1074\">I</text><line style=\"stroke: #A80036; stroke-width: 1.5;\" x1=\"134\" x2=\"228\" y1=\"78.9375\" y2=\"78.9375\"/><text fill=\"#000000\" font-family=\"sans-serif\" font-size=\"11\" lengthAdjust=\"spacingAndGlyphs\" textLength=\"29\" x=\"139\" y=\"109.9526\">p1: P</text><text fill=\"#000000\" font-family=\"sans-serif\" font-size=\"11\" lengthAdjust=\"spacingAndGlyphs\" textLength=\"38\" x=\"139\" y=\"122.7573\">p2: ~P</text><line style=\"stroke: #A80036; stroke-width: 1.0;\" x1=\"134\" x2=\"166\" y1=\"93.3398\" y2=\"93.3398\"/><text fill=\"#000000\" font-family=\"sans-serif\" font-size=\"11\" lengthAdjust=\"spacingAndGlyphs\" textLength=\"30\" x=\"166\" y=\"96.6479\">ports</text><line style=\"stroke: #A80036; stroke-width: 1.0;\" x1=\"196\" x2=\"228\" y1=\"93.3398\" y2=\"93.3398\"/></a><!--MD5=[49a0ec8f00dab7302a31f22d0f0fe584]\n",
       "class E12--><a href=\"psysml:239b6b7d-2819-4aeb-bfce-341b8d8c5fb1\" target=\"_top\" title=\"psysml:239b6b7d-2819-4aeb-bfce-341b8d8c5fb1\" xlink:actuate=\"onRequest\" xlink:href=\"psysml:239b6b7d-2819-4aeb-bfce-341b8d8c5fb1\" xlink:show=\"new\" xlink:title=\"psysml:239b6b7d-2819-4aeb-bfce-341b8d8c5fb1\" xlink:type=\"simple\"><rect fill=\"#FEFECE\" filter=\"url(#f43kq0jbrxl8s)\" height=\"45.9375\" id=\"E12\" style=\"stroke: #A80036; stroke-width: 1.5;\" width=\"66\" x=\"32\" y=\"62\"/><text fill=\"#000000\" font-family=\"sans-serif\" font-size=\"12\" font-style=\"italic\" lengthAdjust=\"spacingAndGlyphs\" textLength=\"64\" x=\"33\" y=\"78.1387\">«part def»</text><text fill=\"#000000\" font-family=\"sans-serif\" font-size=\"12\" lengthAdjust=\"spacingAndGlyphs\" textLength=\"16\" x=\"57\" y=\"92.1074\">B1</text><line style=\"stroke: #A80036; stroke-width: 1.5;\" x1=\"33\" x2=\"97\" y1=\"99.9375\" y2=\"99.9375\"/></a><!--MD5=[ee3c913d1a06f366521f9ef512b67efe]\n",
       "class E13--><a href=\"psysml:080adc10-96fd-4f72-8d28-a6aae1d02a34\" target=\"_top\" title=\"psysml:080adc10-96fd-4f72-8d28-a6aae1d02a34\" xlink:actuate=\"onRequest\" xlink:href=\"psysml:080adc10-96fd-4f72-8d28-a6aae1d02a34\" xlink:show=\"new\" xlink:title=\"psysml:080adc10-96fd-4f72-8d28-a6aae1d02a34\" xlink:type=\"simple\"><rect fill=\"#FEFECE\" filter=\"url(#f43kq0jbrxl8s)\" height=\"88.3516\" id=\"E13\" rx=\"10\" ry=\"10\" style=\"stroke: #A80036; stroke-width: 1.5;\" width=\"50\" x=\"40\" y=\"189\"/><text fill=\"#000000\" font-family=\"sans-serif\" font-size=\"12\" font-style=\"italic\" lengthAdjust=\"spacingAndGlyphs\" textLength=\"40\" x=\"45\" y=\"205.1387\">«part»</text><text fill=\"#000000\" font-family=\"sans-serif\" font-size=\"12\" lengthAdjust=\"spacingAndGlyphs\" textLength=\"8\" x=\"61\" y=\"219.1074\">p</text><line style=\"stroke: #A80036; stroke-width: 1.5;\" x1=\"41\" x2=\"89\" y1=\"226.9375\" y2=\"226.9375\"/><text fill=\"#000000\" font-family=\"sans-serif\" font-size=\"11\" lengthAdjust=\"spacingAndGlyphs\" textLength=\"29\" x=\"46\" y=\"257.9526\">p1: P</text><text fill=\"#000000\" font-family=\"sans-serif\" font-size=\"11\" lengthAdjust=\"spacingAndGlyphs\" textLength=\"38\" x=\"46\" y=\"270.7573\">p2: ~P</text><line style=\"stroke: #A80036; stroke-width: 1.0;\" x1=\"41\" x2=\"50\" y1=\"241.3398\" y2=\"241.3398\"/><text fill=\"#000000\" font-family=\"sans-serif\" font-size=\"11\" lengthAdjust=\"spacingAndGlyphs\" textLength=\"30\" x=\"50\" y=\"244.6479\">ports</text><line style=\"stroke: #A80036; stroke-width: 1.0;\" x1=\"80\" x2=\"89\" y1=\"241.3398\" y2=\"241.3398\"/></a><!--MD5=[062ed86c389d1a88f61c6380d0491e17]\n",
       "reverse link E12 to E13--><a href=\"psysml:06665d43-130c-4b8a-bdfd-d93e6351f975\" target=\"_top\" title=\"psysml:06665d43-130c-4b8a-bdfd-d93e6351f975\" xlink:actuate=\"onRequest\" xlink:href=\"psysml:06665d43-130c-4b8a-bdfd-d93e6351f975\" xlink:show=\"new\" xlink:title=\"psysml:06665d43-130c-4b8a-bdfd-d93e6351f975\" xlink:type=\"simple\"><path d=\"M65,121.25 C65,141.54 65,167.2 65,188.71 \" fill=\"none\" id=\"E12&lt;-E13\" style=\"stroke: #A80036; stroke-width: 1.0;\"/><polygon fill=\"#A80036\" points=\"65,108.17,61,114.17,65,120.17,69,114.17,65,108.17\" style=\"stroke: #A80036; stroke-width: 1.0;\"/></a><!--MD5=[4e3d4704f76a229199fe4bbea95f940c]\n",
       "@startuml\r\n",
       "skinparam wrapWidth 300\r\n",
       "hide circle\r\n",
       "\r\n",
       "package \"ConjugationTest\" as E1  [[psysml:56f2a3b4-cc43-4fa3-8695-199f33536b50 ]]  {\r\n",
       "comp def \"P\" as E2  <<(T,blue)port def>> [[psysml:c0a3bc73-93c5-4b4d-b763-5833239b73fd ]] {\r\n",
       "}\r\n",
       "comp def \"B\" as E3  <<(T,blue)part def>> [[psysml:5cf63d0b-bb26-43ea-8091-2694cfd07b61 ]] {\r\n",
       "- - ports - -\r\n",
       "p1: P\r\n",
       "p2: ~P\r\n",
       "}\r\n",
       "comp def \"A\" as E6  <<(T,blue)connection def>> [[psysml:c95e8ce0-7583-4d42-8de3-1e3c8277134a ]] {\r\n",
       "- - ports - -\r\n",
       "p1: P\r\n",
       "p2: ~P\r\n",
       "}\r\n",
       "comp def \"I\" as E9  <<(T,blue)interface def>> [[psysml:3dca2d5e-c062-4427-93b4-bcb55890dd40 ]] {\r\n",
       "- - ports - -\r\n",
       "p1: P\r\n",
       "p2: ~P\r\n",
       "}\r\n",
       "comp def \"B1\" as E12  <<(T,blue)part def>> [[psysml:239b6b7d-2819-4aeb-bfce-341b8d8c5fb1 ]] {\r\n",
       "}\r\n",
       "comp usage \"p\" as E13  <<(T,blue)part>> [[psysml:080adc10-96fd-4f72-8d28-a6aae1d02a34 ]] {\r\n",
       "- - ports - -\r\n",
       "p1: P\r\n",
       "p2: ~P\r\n",
       "}\r\n",
       "E12 *- - E13 [[psysml:06665d43-130c-4b8a-bdfd-d93e6351f975 ]] \r\n",
       "}\r\n",
       "@enduml\r\n",
       "\n",
       "PlantUML version 1.2020.13(Sat Jun 13 12:26:38 UTC 2020)\n",
       "(EPL source distribution)\n",
       "Java Runtime: OpenJDK Runtime Environment\n",
       "JVM: OpenJDK 64-Bit Server VM\n",
       "Default Encoding: UTF-8\n",
       "Language: en\n",
       "Country: null\n",
       "--></g></svg>"
      ]
     },
     "execution_count": 28,
     "metadata": {},
     "output_type": "execute_result"
    }
   ],
   "source": [
    "%viz --style=\"STDCOLOR\" --view=\"Sequence\" \"ConjugationTest\""
   ]
  },
  {
   "cell_type": "code",
   "execution_count": 29,
   "id": "907489e7",
   "metadata": {
    "execution": {
     "iopub.execute_input": "2021-04-20T07:00:15.019753Z",
     "iopub.status.busy": "2021-04-20T07:00:15.018941Z",
     "iopub.status.idle": "2021-04-20T07:00:15.136842Z",
     "shell.execute_reply": "2021-04-20T07:00:15.136448Z"
    }
   },
   "outputs": [
    {
     "data": {
      "image/svg+xml": [
       "<?xml version=\"1.0\" encoding=\"UTF-8\" standalone=\"no\"?><svg xmlns=\"http://www.w3.org/2000/svg\" xmlns:xlink=\"http://www.w3.org/1999/xlink\" contentScriptType=\"application/ecmascript\" contentStyleType=\"text/css\" height=\"305px\" preserveAspectRatio=\"none\" style=\"width:614px;height:305px;\" version=\"1.1\" viewBox=\"0 0 614 305\" width=\"614px\" zoomAndPan=\"magnify\"><defs><filter height=\"300%\" id=\"f43kq0jbrxl8s\" width=\"300%\" x=\"-1\" y=\"-1\"><feGaussianBlur result=\"blurOut\" stdDeviation=\"2.0\"/><feColorMatrix in=\"blurOut\" result=\"blurOut2\" type=\"matrix\" values=\"0 0 0 0 0 0 0 0 0 0 0 0 0 0 0 0 0 0 .4 0\"/><feOffset dx=\"4.0\" dy=\"4.0\" in=\"blurOut2\" result=\"blurOut3\"/><feBlend in=\"SourceGraphic\" in2=\"blurOut3\" mode=\"normal\"/></filter></defs><g><!--MD5=[fbc87193dbaf4d95561dea2c320d4a47]\n",
       "cluster E1--><a href=\"psysml:56f2a3b4-cc43-4fa3-8695-199f33536b50\" target=\"_top\" title=\"psysml:56f2a3b4-cc43-4fa3-8695-199f33536b50\" xlink:actuate=\"onRequest\" xlink:href=\"psysml:56f2a3b4-cc43-4fa3-8695-199f33536b50\" xlink:show=\"new\" xlink:title=\"psysml:56f2a3b4-cc43-4fa3-8695-199f33536b50\" xlink:type=\"simple\"><polygon fill=\"#FFFFFF\" filter=\"url(#f43kq0jbrxl8s)\" points=\"16,6,151,6,158,28.2969,592,28.2969,592,293,16,293,16,6\" style=\"stroke: #000000; stroke-width: 1.5;\"/><line style=\"stroke: #000000; stroke-width: 1.5;\" x1=\"16\" x2=\"158\" y1=\"28.2969\" y2=\"28.2969\"/><text fill=\"#000000\" font-family=\"sans-serif\" font-size=\"14\" font-weight=\"bold\" lengthAdjust=\"spacingAndGlyphs\" textLength=\"129\" x=\"20\" y=\"20.9951\">ConjugationTest</text></a><!--MD5=[b4997ac47864f28c2f74865a473b2911]\n",
       "class E2--><a href=\"psysml:c0a3bc73-93c5-4b4d-b763-5833239b73fd\" target=\"_top\" title=\"psysml:c0a3bc73-93c5-4b4d-b763-5833239b73fd\" xlink:actuate=\"onRequest\" xlink:href=\"psysml:c0a3bc73-93c5-4b4d-b763-5833239b73fd\" xlink:show=\"new\" xlink:title=\"psysml:c0a3bc73-93c5-4b4d-b763-5833239b73fd\" xlink:type=\"simple\"><rect fill=\"#FEFECE\" filter=\"url(#f43kq0jbrxl8s)\" height=\"45.9375\" id=\"E2\" style=\"stroke: #A80036; stroke-width: 1.5;\" width=\"66\" x=\"510\" y=\"62\"/><text fill=\"#000000\" font-family=\"sans-serif\" font-size=\"12\" font-style=\"italic\" lengthAdjust=\"spacingAndGlyphs\" textLength=\"64\" x=\"511\" y=\"78.1387\">«port def»</text><text fill=\"#000000\" font-family=\"sans-serif\" font-size=\"12\" lengthAdjust=\"spacingAndGlyphs\" textLength=\"8\" x=\"539\" y=\"92.1074\">P</text><line style=\"stroke: #A80036; stroke-width: 1.5;\" x1=\"511\" x2=\"575\" y1=\"99.9375\" y2=\"99.9375\"/></a><!--MD5=[09b614a08d8cba4a07c9adeb5e0fee81]\n",
       "class E3--><a href=\"psysml:5cf63d0b-bb26-43ea-8091-2694cfd07b61\" target=\"_top\" title=\"psysml:5cf63d0b-bb26-43ea-8091-2694cfd07b61\" xlink:actuate=\"onRequest\" xlink:href=\"psysml:5cf63d0b-bb26-43ea-8091-2694cfd07b61\" xlink:show=\"new\" xlink:title=\"psysml:5cf63d0b-bb26-43ea-8091-2694cfd07b61\" xlink:type=\"simple\"><rect fill=\"#FEFECE\" filter=\"url(#f43kq0jbrxl8s)\" height=\"88.3516\" id=\"E3\" style=\"stroke: #A80036; stroke-width: 1.5;\" width=\"66\" x=\"409\" y=\"41\"/><text fill=\"#000000\" font-family=\"sans-serif\" font-size=\"12\" font-style=\"italic\" lengthAdjust=\"spacingAndGlyphs\" textLength=\"64\" x=\"410\" y=\"57.1387\">«part def»</text><text fill=\"#000000\" font-family=\"sans-serif\" font-size=\"12\" lengthAdjust=\"spacingAndGlyphs\" textLength=\"8\" x=\"438\" y=\"71.1074\">B</text><line style=\"stroke: #A80036; stroke-width: 1.5;\" x1=\"410\" x2=\"474\" y1=\"78.9375\" y2=\"78.9375\"/><text fill=\"#000000\" font-family=\"sans-serif\" font-size=\"11\" lengthAdjust=\"spacingAndGlyphs\" textLength=\"29\" x=\"415\" y=\"109.9526\">p1: P</text><text fill=\"#000000\" font-family=\"sans-serif\" font-size=\"11\" lengthAdjust=\"spacingAndGlyphs\" textLength=\"38\" x=\"415\" y=\"122.7573\">p2: ~P</text><line style=\"stroke: #A80036; stroke-width: 1.0;\" x1=\"410\" x2=\"427\" y1=\"93.3398\" y2=\"93.3398\"/><text fill=\"#000000\" font-family=\"sans-serif\" font-size=\"11\" lengthAdjust=\"spacingAndGlyphs\" textLength=\"30\" x=\"427\" y=\"96.6479\">ports</text><line style=\"stroke: #A80036; stroke-width: 1.0;\" x1=\"457\" x2=\"474\" y1=\"93.3398\" y2=\"93.3398\"/></a><!--MD5=[60a26617385b1d2d0262a64233df1f8d]\n",
       "class E6--><a href=\"psysml:c95e8ce0-7583-4d42-8de3-1e3c8277134a\" target=\"_top\" title=\"psysml:c95e8ce0-7583-4d42-8de3-1e3c8277134a\" xlink:actuate=\"onRequest\" xlink:href=\"psysml:c95e8ce0-7583-4d42-8de3-1e3c8277134a\" xlink:show=\"new\" xlink:title=\"psysml:c95e8ce0-7583-4d42-8de3-1e3c8277134a\" xlink:type=\"simple\"><rect fill=\"#FEFECE\" filter=\"url(#f43kq0jbrxl8s)\" height=\"88.3516\" id=\"E6\" style=\"stroke: #A80036; stroke-width: 1.5;\" width=\"110\" x=\"264\" y=\"41\"/><text fill=\"#000000\" font-family=\"sans-serif\" font-size=\"12\" font-style=\"italic\" lengthAdjust=\"spacingAndGlyphs\" textLength=\"108\" x=\"265\" y=\"57.1387\">«connection def»</text><text fill=\"#000000\" font-family=\"sans-serif\" font-size=\"12\" lengthAdjust=\"spacingAndGlyphs\" textLength=\"8\" x=\"315\" y=\"71.1074\">A</text><line style=\"stroke: #A80036; stroke-width: 1.5;\" x1=\"265\" x2=\"373\" y1=\"78.9375\" y2=\"78.9375\"/><text fill=\"#000000\" font-family=\"sans-serif\" font-size=\"11\" lengthAdjust=\"spacingAndGlyphs\" textLength=\"29\" x=\"270\" y=\"109.9526\">p1: P</text><text fill=\"#000000\" font-family=\"sans-serif\" font-size=\"11\" lengthAdjust=\"spacingAndGlyphs\" textLength=\"38\" x=\"270\" y=\"122.7573\">p2: ~P</text><line style=\"stroke: #A80036; stroke-width: 1.0;\" x1=\"265\" x2=\"304\" y1=\"93.3398\" y2=\"93.3398\"/><text fill=\"#000000\" font-family=\"sans-serif\" font-size=\"11\" lengthAdjust=\"spacingAndGlyphs\" textLength=\"30\" x=\"304\" y=\"96.6479\">ports</text><line style=\"stroke: #A80036; stroke-width: 1.0;\" x1=\"334\" x2=\"373\" y1=\"93.3398\" y2=\"93.3398\"/></a><!--MD5=[fd4143e9d270a159db93a4ea2a975926]\n",
       "class E9--><a href=\"psysml:3dca2d5e-c062-4427-93b4-bcb55890dd40\" target=\"_top\" title=\"psysml:3dca2d5e-c062-4427-93b4-bcb55890dd40\" xlink:actuate=\"onRequest\" xlink:href=\"psysml:3dca2d5e-c062-4427-93b4-bcb55890dd40\" xlink:show=\"new\" xlink:title=\"psysml:3dca2d5e-c062-4427-93b4-bcb55890dd40\" xlink:type=\"simple\"><rect fill=\"#FEFECE\" filter=\"url(#f43kq0jbrxl8s)\" height=\"88.3516\" id=\"E9\" style=\"stroke: #A80036; stroke-width: 1.5;\" width=\"96\" x=\"133\" y=\"41\"/><text fill=\"#000000\" font-family=\"sans-serif\" font-size=\"12\" font-style=\"italic\" lengthAdjust=\"spacingAndGlyphs\" textLength=\"94\" x=\"134\" y=\"57.1387\">«interface def»</text><text fill=\"#000000\" font-family=\"sans-serif\" font-size=\"12\" lengthAdjust=\"spacingAndGlyphs\" textLength=\"3\" x=\"179.5\" y=\"71.1074\">I</text><line style=\"stroke: #A80036; stroke-width: 1.5;\" x1=\"134\" x2=\"228\" y1=\"78.9375\" y2=\"78.9375\"/><text fill=\"#000000\" font-family=\"sans-serif\" font-size=\"11\" lengthAdjust=\"spacingAndGlyphs\" textLength=\"29\" x=\"139\" y=\"109.9526\">p1: P</text><text fill=\"#000000\" font-family=\"sans-serif\" font-size=\"11\" lengthAdjust=\"spacingAndGlyphs\" textLength=\"38\" x=\"139\" y=\"122.7573\">p2: ~P</text><line style=\"stroke: #A80036; stroke-width: 1.0;\" x1=\"134\" x2=\"166\" y1=\"93.3398\" y2=\"93.3398\"/><text fill=\"#000000\" font-family=\"sans-serif\" font-size=\"11\" lengthAdjust=\"spacingAndGlyphs\" textLength=\"30\" x=\"166\" y=\"96.6479\">ports</text><line style=\"stroke: #A80036; stroke-width: 1.0;\" x1=\"196\" x2=\"228\" y1=\"93.3398\" y2=\"93.3398\"/></a><!--MD5=[49a0ec8f00dab7302a31f22d0f0fe584]\n",
       "class E12--><a href=\"psysml:239b6b7d-2819-4aeb-bfce-341b8d8c5fb1\" target=\"_top\" title=\"psysml:239b6b7d-2819-4aeb-bfce-341b8d8c5fb1\" xlink:actuate=\"onRequest\" xlink:href=\"psysml:239b6b7d-2819-4aeb-bfce-341b8d8c5fb1\" xlink:show=\"new\" xlink:title=\"psysml:239b6b7d-2819-4aeb-bfce-341b8d8c5fb1\" xlink:type=\"simple\"><rect fill=\"#FEFECE\" filter=\"url(#f43kq0jbrxl8s)\" height=\"45.9375\" id=\"E12\" style=\"stroke: #A80036; stroke-width: 1.5;\" width=\"66\" x=\"32\" y=\"62\"/><text fill=\"#000000\" font-family=\"sans-serif\" font-size=\"12\" font-style=\"italic\" lengthAdjust=\"spacingAndGlyphs\" textLength=\"64\" x=\"33\" y=\"78.1387\">«part def»</text><text fill=\"#000000\" font-family=\"sans-serif\" font-size=\"12\" lengthAdjust=\"spacingAndGlyphs\" textLength=\"16\" x=\"57\" y=\"92.1074\">B1</text><line style=\"stroke: #A80036; stroke-width: 1.5;\" x1=\"33\" x2=\"97\" y1=\"99.9375\" y2=\"99.9375\"/></a><!--MD5=[ee3c913d1a06f366521f9ef512b67efe]\n",
       "class E13--><a href=\"psysml:080adc10-96fd-4f72-8d28-a6aae1d02a34\" target=\"_top\" title=\"psysml:080adc10-96fd-4f72-8d28-a6aae1d02a34\" xlink:actuate=\"onRequest\" xlink:href=\"psysml:080adc10-96fd-4f72-8d28-a6aae1d02a34\" xlink:show=\"new\" xlink:title=\"psysml:080adc10-96fd-4f72-8d28-a6aae1d02a34\" xlink:type=\"simple\"><rect fill=\"#FEFECE\" filter=\"url(#f43kq0jbrxl8s)\" height=\"88.3516\" id=\"E13\" rx=\"10\" ry=\"10\" style=\"stroke: #A80036; stroke-width: 1.5;\" width=\"50\" x=\"40\" y=\"189\"/><text fill=\"#000000\" font-family=\"sans-serif\" font-size=\"12\" font-style=\"italic\" lengthAdjust=\"spacingAndGlyphs\" textLength=\"40\" x=\"45\" y=\"205.1387\">«part»</text><text fill=\"#000000\" font-family=\"sans-serif\" font-size=\"12\" lengthAdjust=\"spacingAndGlyphs\" textLength=\"8\" x=\"61\" y=\"219.1074\">p</text><line style=\"stroke: #A80036; stroke-width: 1.5;\" x1=\"41\" x2=\"89\" y1=\"226.9375\" y2=\"226.9375\"/><text fill=\"#000000\" font-family=\"sans-serif\" font-size=\"11\" lengthAdjust=\"spacingAndGlyphs\" textLength=\"29\" x=\"46\" y=\"257.9526\">p1: P</text><text fill=\"#000000\" font-family=\"sans-serif\" font-size=\"11\" lengthAdjust=\"spacingAndGlyphs\" textLength=\"38\" x=\"46\" y=\"270.7573\">p2: ~P</text><line style=\"stroke: #A80036; stroke-width: 1.0;\" x1=\"41\" x2=\"50\" y1=\"241.3398\" y2=\"241.3398\"/><text fill=\"#000000\" font-family=\"sans-serif\" font-size=\"11\" lengthAdjust=\"spacingAndGlyphs\" textLength=\"30\" x=\"50\" y=\"244.6479\">ports</text><line style=\"stroke: #A80036; stroke-width: 1.0;\" x1=\"80\" x2=\"89\" y1=\"241.3398\" y2=\"241.3398\"/></a><!--MD5=[062ed86c389d1a88f61c6380d0491e17]\n",
       "reverse link E12 to E13--><a href=\"psysml:06665d43-130c-4b8a-bdfd-d93e6351f975\" target=\"_top\" title=\"psysml:06665d43-130c-4b8a-bdfd-d93e6351f975\" xlink:actuate=\"onRequest\" xlink:href=\"psysml:06665d43-130c-4b8a-bdfd-d93e6351f975\" xlink:show=\"new\" xlink:title=\"psysml:06665d43-130c-4b8a-bdfd-d93e6351f975\" xlink:type=\"simple\"><path d=\"M65,121.25 C65,141.54 65,167.2 65,188.71 \" fill=\"none\" id=\"E12&lt;-E13\" style=\"stroke: #A80036; stroke-width: 1.0;\"/><polygon fill=\"#A80036\" points=\"65,108.17,61,114.17,65,120.17,69,114.17,65,108.17\" style=\"stroke: #A80036; stroke-width: 1.0;\"/></a><!--MD5=[4e3d4704f76a229199fe4bbea95f940c]\n",
       "@startuml\r\n",
       "skinparam wrapWidth 300\r\n",
       "hide circle\r\n",
       "\r\n",
       "package \"ConjugationTest\" as E1  [[psysml:56f2a3b4-cc43-4fa3-8695-199f33536b50 ]]  {\r\n",
       "comp def \"P\" as E2  <<(T,blue)port def>> [[psysml:c0a3bc73-93c5-4b4d-b763-5833239b73fd ]] {\r\n",
       "}\r\n",
       "comp def \"B\" as E3  <<(T,blue)part def>> [[psysml:5cf63d0b-bb26-43ea-8091-2694cfd07b61 ]] {\r\n",
       "- - ports - -\r\n",
       "p1: P\r\n",
       "p2: ~P\r\n",
       "}\r\n",
       "comp def \"A\" as E6  <<(T,blue)connection def>> [[psysml:c95e8ce0-7583-4d42-8de3-1e3c8277134a ]] {\r\n",
       "- - ports - -\r\n",
       "p1: P\r\n",
       "p2: ~P\r\n",
       "}\r\n",
       "comp def \"I\" as E9  <<(T,blue)interface def>> [[psysml:3dca2d5e-c062-4427-93b4-bcb55890dd40 ]] {\r\n",
       "- - ports - -\r\n",
       "p1: P\r\n",
       "p2: ~P\r\n",
       "}\r\n",
       "comp def \"B1\" as E12  <<(T,blue)part def>> [[psysml:239b6b7d-2819-4aeb-bfce-341b8d8c5fb1 ]] {\r\n",
       "}\r\n",
       "comp usage \"p\" as E13  <<(T,blue)part>> [[psysml:080adc10-96fd-4f72-8d28-a6aae1d02a34 ]] {\r\n",
       "- - ports - -\r\n",
       "p1: P\r\n",
       "p2: ~P\r\n",
       "}\r\n",
       "E12 *- - E13 [[psysml:06665d43-130c-4b8a-bdfd-d93e6351f975 ]] \r\n",
       "}\r\n",
       "@enduml\r\n",
       "\n",
       "PlantUML version 1.2020.13(Sat Jun 13 12:26:38 UTC 2020)\n",
       "(EPL source distribution)\n",
       "Java Runtime: OpenJDK Runtime Environment\n",
       "JVM: OpenJDK 64-Bit Server VM\n",
       "Default Encoding: UTF-8\n",
       "Language: en\n",
       "Country: null\n",
       "--></g></svg>"
      ]
     },
     "execution_count": 29,
     "metadata": {},
     "output_type": "execute_result"
    }
   ],
   "source": [
    "%viz --style=\"STDCOLOR\" --view=\"MIXED\" \"ConjugationTest\""
   ]
  },
  {
   "cell_type": "code",
   "execution_count": 30,
   "id": "52bd243a",
   "metadata": {
    "execution": {
     "iopub.execute_input": "2021-04-20T07:00:15.187533Z",
     "iopub.status.busy": "2021-04-20T07:00:15.187067Z",
     "iopub.status.idle": "2021-04-20T07:00:15.350303Z",
     "shell.execute_reply": "2021-04-20T07:00:15.349692Z"
    }
   },
   "outputs": [
    {
     "data": {
      "image/svg+xml": [
       "<?xml version=\"1.0\" encoding=\"UTF-8\" standalone=\"no\"?><svg xmlns=\"http://www.w3.org/2000/svg\" xmlns:xlink=\"http://www.w3.org/1999/xlink\" contentScriptType=\"application/ecmascript\" contentStyleType=\"text/css\" height=\"299px\" preserveAspectRatio=\"none\" style=\"width:500px;height:299px;\" version=\"1.1\" viewBox=\"0 0 500 299\" width=\"500px\" zoomAndPan=\"magnify\"><defs><filter height=\"300%\" id=\"fxk8r8ejcmng0\" width=\"300%\" x=\"-1\" y=\"-1\"><feGaussianBlur result=\"blurOut\" stdDeviation=\"2.0\"/><feColorMatrix in=\"blurOut\" result=\"blurOut2\" type=\"matrix\" values=\"0 0 0 0 0 0 0 0 0 0 0 0 0 0 0 0 0 0 .4 0\"/><feOffset dx=\"4.0\" dy=\"4.0\" in=\"blurOut2\" result=\"blurOut3\"/><feBlend in=\"SourceGraphic\" in2=\"blurOut3\" mode=\"normal\"/></filter></defs><g><!--MD5=[fbc87193dbaf4d95561dea2c320d4a47]\n",
       "cluster E1--><a href=\"psysml:56f2a3b4-cc43-4fa3-8695-199f33536b50\" target=\"_top\" title=\"psysml:56f2a3b4-cc43-4fa3-8695-199f33536b50\" xlink:actuate=\"onRequest\" xlink:href=\"psysml:56f2a3b4-cc43-4fa3-8695-199f33536b50\" xlink:show=\"new\" xlink:title=\"psysml:56f2a3b4-cc43-4fa3-8695-199f33536b50\" xlink:type=\"simple\"><polygon fill=\"#FFFFFF\" filter=\"url(#fxk8r8ejcmng0)\" points=\"16,6,151,6,158,28.2969,478,28.2969,478,287,16,287,16,6\" style=\"stroke: #000000; stroke-width: 1.5;\"/><line style=\"stroke: #000000; stroke-width: 1.5;\" x1=\"16\" x2=\"158\" y1=\"28.2969\" y2=\"28.2969\"/><text fill=\"#000000\" font-family=\"sans-serif\" font-size=\"14\" font-weight=\"bold\" lengthAdjust=\"spacingAndGlyphs\" textLength=\"129\" x=\"20\" y=\"20.9951\">ConjugationTest</text></a><!--MD5=[b4997ac47864f28c2f74865a473b2911]\n",
       "class E2--><a href=\"psysml:c0a3bc73-93c5-4b4d-b763-5833239b73fd\" target=\"_top\" title=\"psysml:c0a3bc73-93c5-4b4d-b763-5833239b73fd\" xlink:actuate=\"onRequest\" xlink:href=\"psysml:c0a3bc73-93c5-4b4d-b763-5833239b73fd\" xlink:show=\"new\" xlink:title=\"psysml:c0a3bc73-93c5-4b4d-b763-5833239b73fd\" xlink:type=\"simple\"><rect fill=\"#FEFECE\" filter=\"url(#fxk8r8ejcmng0)\" height=\"45.9375\" id=\"E2\" style=\"stroke: #A80036; stroke-width: 1.5;\" width=\"92\" x=\"370\" y=\"59\"/><ellipse cx=\"385\" cy=\"77.9688\" fill=\"#A52A2A\" rx=\"11\" ry=\"11\" style=\"stroke: #A80036; stroke-width: 1.0;\"/><path d=\"M384.5938,73.7813 L384.5938,81.7656 L385.25,81.7656 Q386.6875,81.7656 387.2969,80.8594 Q387.9219,79.9375 387.9219,77.7656 Q387.9219,75.5938 387.2969,74.6875 Q386.6875,73.7813 385.25,73.7813 L384.5938,73.7813 Z M382.1406,71.5781 L384.7656,71.5781 Q387.7969,71.5781 389.125,73.0313 Q390.4688,74.4688 390.4688,77.7656 Q390.4688,81.0625 389.125,82.5156 Q387.7969,83.9688 384.7656,83.9688 L382.1406,83.9688 L382.1406,71.5781 Z \"/><text fill=\"#000000\" font-family=\"sans-serif\" font-size=\"12\" font-style=\"italic\" lengthAdjust=\"spacingAndGlyphs\" textLength=\"64\" x=\"397\" y=\"75.1387\">«port def»</text><text fill=\"#000000\" font-family=\"sans-serif\" font-size=\"12\" lengthAdjust=\"spacingAndGlyphs\" textLength=\"8\" x=\"425\" y=\"89.1074\">P</text><line style=\"stroke: #A80036; stroke-width: 1.5;\" x1=\"371\" x2=\"461\" y1=\"96.9375\" y2=\"96.9375\"/></a><!--MD5=[09b614a08d8cba4a07c9adeb5e0fee81]\n",
       "class E3--><a href=\"psysml:5cf63d0b-bb26-43ea-8091-2694cfd07b61\" target=\"_top\" title=\"psysml:5cf63d0b-bb26-43ea-8091-2694cfd07b61\" xlink:actuate=\"onRequest\" xlink:href=\"psysml:5cf63d0b-bb26-43ea-8091-2694cfd07b61\" xlink:show=\"new\" xlink:title=\"psysml:5cf63d0b-bb26-43ea-8091-2694cfd07b61\" xlink:type=\"simple\"><rect fill=\"#FEFECE\" filter=\"url(#fxk8r8ejcmng0)\" height=\"82.4141\" id=\"E3\" style=\"stroke: #A80036; stroke-width: 1.5;\" width=\"50\" x=\"285\" y=\"41\"/><ellipse cx=\"304.5\" cy=\"57\" fill=\"#008000\" rx=\"11\" ry=\"11\" style=\"stroke: #A80036; stroke-width: 1.0;\"/><path d=\"M303.4063,57.375 L303.4063,61.0469 L305.0313,61.0469 Q306.2031,61.0469 306.6719,60.6563 Q307.1406,60.25 307.1406,59.25 Q307.1406,58.25 306.6406,57.8125 Q306.1563,57.375 305.0313,57.375 L303.4063,57.375 Z M303.4063,52.5469 L303.4063,55.4219 L305.0313,55.4219 Q305.9531,55.4219 306.3438,55.0938 Q306.75,54.75 306.75,54 Q306.75,53.2344 306.3438,52.8906 Q305.9375,52.5469 305.0313,52.5469 L303.4063,52.5469 Z M301.0313,50.5938 L305.0313,50.5938 Q307.0938,50.5938 308.1406,51.375 Q309.1875,52.1563 309.1875,53.7188 Q309.1875,54.9219 308.5625,55.5938 Q307.9531,56.2656 306.7656,56.375 Q308.1875,56.5156 308.9063,57.3281 Q309.625,58.1406 309.625,59.5938 Q309.625,61.3906 308.5469,62.2031 Q307.4688,63 305.0313,63 L301.0313,63 L301.0313,50.5938 Z \"/><text fill=\"#000000\" font-family=\"sans-serif\" font-size=\"12\" lengthAdjust=\"spacingAndGlyphs\" textLength=\"8\" x=\"319.5\" y=\"61.1543\">B</text><line style=\"stroke: #A80036; stroke-width: 1.5;\" x1=\"286\" x2=\"334\" y1=\"73\" y2=\"73\"/><text fill=\"#000000\" font-family=\"sans-serif\" font-size=\"11\" lengthAdjust=\"spacingAndGlyphs\" textLength=\"29\" x=\"291\" y=\"104.0151\">p1: P</text><text fill=\"#000000\" font-family=\"sans-serif\" font-size=\"11\" lengthAdjust=\"spacingAndGlyphs\" textLength=\"38\" x=\"291\" y=\"116.8198\">p2: ~P</text><line style=\"stroke: #A80036; stroke-width: 1.0;\" x1=\"286\" x2=\"295\" y1=\"87.4023\" y2=\"87.4023\"/><text fill=\"#000000\" font-family=\"sans-serif\" font-size=\"11\" lengthAdjust=\"spacingAndGlyphs\" textLength=\"30\" x=\"295\" y=\"90.7104\">ports</text><line style=\"stroke: #A80036; stroke-width: 1.0;\" x1=\"325\" x2=\"334\" y1=\"87.4023\" y2=\"87.4023\"/></a><!--MD5=[60a26617385b1d2d0262a64233df1f8d]\n",
       "class E6--><a href=\"psysml:c95e8ce0-7583-4d42-8de3-1e3c8277134a\" target=\"_top\" title=\"psysml:c95e8ce0-7583-4d42-8de3-1e3c8277134a\" xlink:actuate=\"onRequest\" xlink:href=\"psysml:c95e8ce0-7583-4d42-8de3-1e3c8277134a\" xlink:show=\"new\" xlink:title=\"psysml:c95e8ce0-7583-4d42-8de3-1e3c8277134a\" xlink:type=\"simple\"><rect fill=\"#FEFECE\" filter=\"url(#fxk8r8ejcmng0)\" height=\"82.4141\" id=\"E6\" style=\"stroke: #A80036; stroke-width: 1.5;\" width=\"50\" x=\"200\" y=\"41\"/><ellipse cx=\"219.5\" cy=\"57\" fill=\"#008000\" rx=\"11\" ry=\"11\" style=\"stroke: #A80036; stroke-width: 1.0;\"/><path d=\"M218.4063,57.375 L218.4063,61.0469 L220.0313,61.0469 Q221.2031,61.0469 221.6719,60.6563 Q222.1406,60.25 222.1406,59.25 Q222.1406,58.25 221.6406,57.8125 Q221.1563,57.375 220.0313,57.375 L218.4063,57.375 Z M218.4063,52.5469 L218.4063,55.4219 L220.0313,55.4219 Q220.9531,55.4219 221.3438,55.0938 Q221.75,54.75 221.75,54 Q221.75,53.2344 221.3438,52.8906 Q220.9375,52.5469 220.0313,52.5469 L218.4063,52.5469 Z M216.0313,50.5938 L220.0313,50.5938 Q222.0938,50.5938 223.1406,51.375 Q224.1875,52.1563 224.1875,53.7188 Q224.1875,54.9219 223.5625,55.5938 Q222.9531,56.2656 221.7656,56.375 Q223.1875,56.5156 223.9063,57.3281 Q224.625,58.1406 224.625,59.5938 Q224.625,61.3906 223.5469,62.2031 Q222.4688,63 220.0313,63 L216.0313,63 L216.0313,50.5938 Z \"/><text fill=\"#000000\" font-family=\"sans-serif\" font-size=\"12\" lengthAdjust=\"spacingAndGlyphs\" textLength=\"8\" x=\"234.5\" y=\"61.1543\">A</text><line style=\"stroke: #A80036; stroke-width: 1.5;\" x1=\"201\" x2=\"249\" y1=\"73\" y2=\"73\"/><text fill=\"#000000\" font-family=\"sans-serif\" font-size=\"11\" lengthAdjust=\"spacingAndGlyphs\" textLength=\"29\" x=\"206\" y=\"104.0151\">p1: P</text><text fill=\"#000000\" font-family=\"sans-serif\" font-size=\"11\" lengthAdjust=\"spacingAndGlyphs\" textLength=\"38\" x=\"206\" y=\"116.8198\">p2: ~P</text><line style=\"stroke: #A80036; stroke-width: 1.0;\" x1=\"201\" x2=\"210\" y1=\"87.4023\" y2=\"87.4023\"/><text fill=\"#000000\" font-family=\"sans-serif\" font-size=\"11\" lengthAdjust=\"spacingAndGlyphs\" textLength=\"30\" x=\"210\" y=\"90.7104\">ports</text><line style=\"stroke: #A80036; stroke-width: 1.0;\" x1=\"240\" x2=\"249\" y1=\"87.4023\" y2=\"87.4023\"/></a><!--MD5=[fd4143e9d270a159db93a4ea2a975926]\n",
       "class E9--><a href=\"psysml:3dca2d5e-c062-4427-93b4-bcb55890dd40\" target=\"_top\" title=\"psysml:3dca2d5e-c062-4427-93b4-bcb55890dd40\" xlink:actuate=\"onRequest\" xlink:href=\"psysml:3dca2d5e-c062-4427-93b4-bcb55890dd40\" xlink:show=\"new\" xlink:title=\"psysml:3dca2d5e-c062-4427-93b4-bcb55890dd40\" xlink:type=\"simple\"><rect fill=\"#FEFECE\" filter=\"url(#fxk8r8ejcmng0)\" height=\"82.4141\" id=\"E9\" style=\"stroke: #A80036; stroke-width: 1.5;\" width=\"50\" x=\"115\" y=\"41\"/><ellipse cx=\"136.75\" cy=\"57\" fill=\"#008000\" rx=\"11\" ry=\"11\" style=\"stroke: #A80036; stroke-width: 1.0;\"/><path d=\"M135.6563,57.375 L135.6563,61.0469 L137.2813,61.0469 Q138.4531,61.0469 138.9219,60.6563 Q139.3906,60.25 139.3906,59.25 Q139.3906,58.25 138.8906,57.8125 Q138.4063,57.375 137.2813,57.375 L135.6563,57.375 Z M135.6563,52.5469 L135.6563,55.4219 L137.2813,55.4219 Q138.2031,55.4219 138.5938,55.0938 Q139,54.75 139,54 Q139,53.2344 138.5938,52.8906 Q138.1875,52.5469 137.2813,52.5469 L135.6563,52.5469 Z M133.2813,50.5938 L137.2813,50.5938 Q139.3438,50.5938 140.3906,51.375 Q141.4375,52.1563 141.4375,53.7188 Q141.4375,54.9219 140.8125,55.5938 Q140.2031,56.2656 139.0156,56.375 Q140.4375,56.5156 141.1563,57.3281 Q141.875,58.1406 141.875,59.5938 Q141.875,61.3906 140.7969,62.2031 Q139.7188,63 137.2813,63 L133.2813,63 L133.2813,50.5938 Z \"/><text fill=\"#000000\" font-family=\"sans-serif\" font-size=\"12\" lengthAdjust=\"spacingAndGlyphs\" textLength=\"3\" x=\"152.25\" y=\"61.1543\">I</text><line style=\"stroke: #A80036; stroke-width: 1.5;\" x1=\"116\" x2=\"164\" y1=\"73\" y2=\"73\"/><text fill=\"#000000\" font-family=\"sans-serif\" font-size=\"11\" lengthAdjust=\"spacingAndGlyphs\" textLength=\"29\" x=\"121\" y=\"104.0151\">p1: P</text><text fill=\"#000000\" font-family=\"sans-serif\" font-size=\"11\" lengthAdjust=\"spacingAndGlyphs\" textLength=\"38\" x=\"121\" y=\"116.8198\">p2: ~P</text><line style=\"stroke: #A80036; stroke-width: 1.0;\" x1=\"116\" x2=\"125\" y1=\"87.4023\" y2=\"87.4023\"/><text fill=\"#000000\" font-family=\"sans-serif\" font-size=\"11\" lengthAdjust=\"spacingAndGlyphs\" textLength=\"30\" x=\"125\" y=\"90.7104\">ports</text><line style=\"stroke: #A80036; stroke-width: 1.0;\" x1=\"155\" x2=\"164\" y1=\"87.4023\" y2=\"87.4023\"/></a><!--MD5=[49a0ec8f00dab7302a31f22d0f0fe584]\n",
       "class E12--><a href=\"psysml:239b6b7d-2819-4aeb-bfce-341b8d8c5fb1\" target=\"_top\" title=\"psysml:239b6b7d-2819-4aeb-bfce-341b8d8c5fb1\" xlink:actuate=\"onRequest\" xlink:href=\"psysml:239b6b7d-2819-4aeb-bfce-341b8d8c5fb1\" xlink:show=\"new\" xlink:title=\"psysml:239b6b7d-2819-4aeb-bfce-341b8d8c5fb1\" xlink:type=\"simple\"><rect fill=\"#FEFECE\" filter=\"url(#fxk8r8ejcmng0)\" height=\"40\" id=\"E12\" style=\"stroke: #A80036; stroke-width: 1.5;\" width=\"48\" x=\"32\" y=\"62\"/><ellipse cx=\"47\" cy=\"78\" fill=\"#008000\" rx=\"11\" ry=\"11\" style=\"stroke: #A80036; stroke-width: 1.0;\"/><path d=\"M45.9063,78.375 L45.9063,82.0469 L47.5313,82.0469 Q48.7031,82.0469 49.1719,81.6563 Q49.6406,81.25 49.6406,80.25 Q49.6406,79.25 49.1406,78.8125 Q48.6563,78.375 47.5313,78.375 L45.9063,78.375 Z M45.9063,73.5469 L45.9063,76.4219 L47.5313,76.4219 Q48.4531,76.4219 48.8438,76.0938 Q49.25,75.75 49.25,75 Q49.25,74.2344 48.8438,73.8906 Q48.4375,73.5469 47.5313,73.5469 L45.9063,73.5469 Z M43.5313,71.5938 L47.5313,71.5938 Q49.5938,71.5938 50.6406,72.375 Q51.6875,73.1563 51.6875,74.7188 Q51.6875,75.9219 51.0625,76.5938 Q50.4531,77.2656 49.2656,77.375 Q50.6875,77.5156 51.4063,78.3281 Q52.125,79.1406 52.125,80.5938 Q52.125,82.3906 51.0469,83.2031 Q49.9688,84 47.5313,84 L43.5313,84 L43.5313,71.5938 Z \"/><text fill=\"#000000\" font-family=\"sans-serif\" font-size=\"12\" lengthAdjust=\"spacingAndGlyphs\" textLength=\"16\" x=\"61\" y=\"82.1543\">B1</text><line style=\"stroke: #A80036; stroke-width: 1.5;\" x1=\"33\" x2=\"79\" y1=\"94\" y2=\"94\"/></a><!--MD5=[ee3c913d1a06f366521f9ef512b67efe]\n",
       "class E13--><a href=\"psysml:080adc10-96fd-4f72-8d28-a6aae1d02a34\" target=\"_top\" title=\"psysml:080adc10-96fd-4f72-8d28-a6aae1d02a34\" xlink:actuate=\"onRequest\" xlink:href=\"psysml:080adc10-96fd-4f72-8d28-a6aae1d02a34\" xlink:show=\"new\" xlink:title=\"psysml:080adc10-96fd-4f72-8d28-a6aae1d02a34\" xlink:type=\"simple\"><rect fill=\"#FEFECE\" filter=\"url(#fxk8r8ejcmng0)\" height=\"88.3516\" id=\"E13\" rx=\"10\" ry=\"10\" style=\"stroke: #A80036; stroke-width: 1.5;\" width=\"68\" x=\"32\" y=\"183\"/><ellipse cx=\"47\" cy=\"201.9688\" fill=\"#32CD32\" rx=\"11\" ry=\"11\" style=\"stroke: #A80036; stroke-width: 1.0;\"/><path d=\"M46.7969,197.6406 L46.7969,201.2656 L47.7969,201.2656 Q49,201.2656 49.4844,200.8594 Q49.9688,200.4531 49.9688,199.4531 Q49.9688,198.4531 49.4844,198.0469 Q49,197.6406 47.7969,197.6406 L46.7969,197.6406 Z M44.3438,195.5781 L47.7031,195.5781 Q50.2656,195.5781 51.3906,196.5 Q52.5156,197.4063 52.5156,199.4531 Q52.5156,201.5 51.3906,202.4219 Q50.2656,203.3281 47.7031,203.3281 L46.7969,203.3281 L46.7969,207.9688 L44.3438,207.9688 L44.3438,195.5781 Z \"/><text fill=\"#000000\" font-family=\"sans-serif\" font-size=\"12\" font-style=\"italic\" lengthAdjust=\"spacingAndGlyphs\" textLength=\"40\" x=\"59\" y=\"199.1387\">«part»</text><text fill=\"#000000\" font-family=\"sans-serif\" font-size=\"12\" lengthAdjust=\"spacingAndGlyphs\" textLength=\"8\" x=\"75\" y=\"213.1074\">p</text><line style=\"stroke: #A80036; stroke-width: 1.5;\" x1=\"33\" x2=\"99\" y1=\"220.9375\" y2=\"220.9375\"/><text fill=\"#000000\" font-family=\"sans-serif\" font-size=\"11\" lengthAdjust=\"spacingAndGlyphs\" textLength=\"29\" x=\"38\" y=\"251.9526\">p1: P</text><text fill=\"#000000\" font-family=\"sans-serif\" font-size=\"11\" lengthAdjust=\"spacingAndGlyphs\" textLength=\"38\" x=\"38\" y=\"264.7573\">p2: ~P</text><line style=\"stroke: #A80036; stroke-width: 1.0;\" x1=\"33\" x2=\"51\" y1=\"235.3398\" y2=\"235.3398\"/><text fill=\"#000000\" font-family=\"sans-serif\" font-size=\"11\" lengthAdjust=\"spacingAndGlyphs\" textLength=\"30\" x=\"51\" y=\"238.6479\">ports</text><line style=\"stroke: #A80036; stroke-width: 1.0;\" x1=\"81\" x2=\"99\" y1=\"235.3398\" y2=\"235.3398\"/></a><!--MD5=[062ed86c389d1a88f61c6380d0491e17]\n",
       "reverse link E12 to E13--><a href=\"psysml:06665d43-130c-4b8a-bdfd-d93e6351f975\" target=\"_top\" title=\"psysml:06665d43-130c-4b8a-bdfd-d93e6351f975\" xlink:actuate=\"onRequest\" xlink:href=\"psysml:06665d43-130c-4b8a-bdfd-d93e6351f975\" xlink:show=\"new\" xlink:title=\"psysml:06665d43-130c-4b8a-bdfd-d93e6351f975\" xlink:type=\"simple\"><path d=\"M58.26,115.31 C59.65,135.24 61.46,161.03 62.97,182.71 \" fill=\"none\" id=\"E12&lt;-E13\" style=\"stroke: #A80036; stroke-width: 1.0;\"/><polygon fill=\"#A80036\" points=\"57.35,102.29,53.7754,108.5527,58.1815,114.2612,61.7561,107.9984,57.35,102.29\" style=\"stroke: #A80036; stroke-width: 1.0;\"/></a><!--MD5=[73d4283532c362b32e27bef2eca6f863]\n",
       "@startuml\r\n",
       " \r\n",
       "package \"ConjugationTest\" as E1  [[psysml:56f2a3b4-cc43-4fa3-8695-199f33536b50 ]]  {\r\n",
       "comp def \"P\" as E2  <<(D,brown)port def>> [[psysml:c0a3bc73-93c5-4b4d-b763-5833239b73fd ]] {\r\n",
       "}\r\n",
       "comp def \"B\" as E3  << (B,green) >> [[psysml:5cf63d0b-bb26-43ea-8091-2694cfd07b61 ]] {\r\n",
       "- - ports - -\r\n",
       "p1: P\r\n",
       "p2: ~P\r\n",
       "}\r\n",
       "comp def \"A\" as E6  << (B,green) >> [[psysml:c95e8ce0-7583-4d42-8de3-1e3c8277134a ]] {\r\n",
       "- - ports - -\r\n",
       "p1: P\r\n",
       "p2: ~P\r\n",
       "}\r\n",
       "comp def \"I\" as E9  << (B,green) >> [[psysml:3dca2d5e-c062-4427-93b4-bcb55890dd40 ]] {\r\n",
       "- - ports - -\r\n",
       "p1: P\r\n",
       "p2: ~P\r\n",
       "}\r\n",
       "comp def \"B1\" as E12  << (B,green) >> [[psysml:239b6b7d-2819-4aeb-bfce-341b8d8c5fb1 ]] {\r\n",
       "}\r\n",
       "comp usage \"p\" as E13  << (P,limegreen) part>> [[psysml:080adc10-96fd-4f72-8d28-a6aae1d02a34 ]] {\r\n",
       "- - ports - -\r\n",
       "p1: P\r\n",
       "p2: ~P\r\n",
       "}\r\n",
       "E12 *- - E13 [[psysml:06665d43-130c-4b8a-bdfd-d93e6351f975 ]] \r\n",
       "}\r\n",
       "@enduml\r\n",
       "\n",
       "PlantUML version 1.2020.13(Sat Jun 13 12:26:38 UTC 2020)\n",
       "(EPL source distribution)\n",
       "Java Runtime: OpenJDK Runtime Environment\n",
       "JVM: OpenJDK 64-Bit Server VM\n",
       "Default Encoding: UTF-8\n",
       "Language: en\n",
       "Country: null\n",
       "--></g></svg>"
      ]
     },
     "execution_count": 30,
     "metadata": {},
     "output_type": "execute_result"
    }
   ],
   "source": [
    "%viz --style=\"PLANTUML\" --view=\"Default\" \"ConjugationTest\""
   ]
  },
  {
   "cell_type": "code",
   "execution_count": 31,
   "id": "3d3d94ea",
   "metadata": {
    "execution": {
     "iopub.execute_input": "2021-04-20T07:00:15.399212Z",
     "iopub.status.busy": "2021-04-20T07:00:15.398685Z",
     "iopub.status.idle": "2021-04-20T07:00:15.501448Z",
     "shell.execute_reply": "2021-04-20T07:00:15.501052Z"
    }
   },
   "outputs": [
    {
     "data": {
      "image/svg+xml": [
       "<?xml version=\"1.0\" encoding=\"UTF-8\" standalone=\"no\"?><svg xmlns=\"http://www.w3.org/2000/svg\" xmlns:xlink=\"http://www.w3.org/1999/xlink\" contentScriptType=\"application/ecmascript\" contentStyleType=\"text/css\" height=\"299px\" preserveAspectRatio=\"none\" style=\"width:500px;height:299px;\" version=\"1.1\" viewBox=\"0 0 500 299\" width=\"500px\" zoomAndPan=\"magnify\"><defs><filter height=\"300%\" id=\"fxk8r8ejcmng0\" width=\"300%\" x=\"-1\" y=\"-1\"><feGaussianBlur result=\"blurOut\" stdDeviation=\"2.0\"/><feColorMatrix in=\"blurOut\" result=\"blurOut2\" type=\"matrix\" values=\"0 0 0 0 0 0 0 0 0 0 0 0 0 0 0 0 0 0 .4 0\"/><feOffset dx=\"4.0\" dy=\"4.0\" in=\"blurOut2\" result=\"blurOut3\"/><feBlend in=\"SourceGraphic\" in2=\"blurOut3\" mode=\"normal\"/></filter></defs><g><!--MD5=[fbc87193dbaf4d95561dea2c320d4a47]\n",
       "cluster E1--><a href=\"psysml:56f2a3b4-cc43-4fa3-8695-199f33536b50\" target=\"_top\" title=\"psysml:56f2a3b4-cc43-4fa3-8695-199f33536b50\" xlink:actuate=\"onRequest\" xlink:href=\"psysml:56f2a3b4-cc43-4fa3-8695-199f33536b50\" xlink:show=\"new\" xlink:title=\"psysml:56f2a3b4-cc43-4fa3-8695-199f33536b50\" xlink:type=\"simple\"><polygon fill=\"#FFFFFF\" filter=\"url(#fxk8r8ejcmng0)\" points=\"16,6,151,6,158,28.2969,478,28.2969,478,287,16,287,16,6\" style=\"stroke: #000000; stroke-width: 1.5;\"/><line style=\"stroke: #000000; stroke-width: 1.5;\" x1=\"16\" x2=\"158\" y1=\"28.2969\" y2=\"28.2969\"/><text fill=\"#000000\" font-family=\"sans-serif\" font-size=\"14\" font-weight=\"bold\" lengthAdjust=\"spacingAndGlyphs\" textLength=\"129\" x=\"20\" y=\"20.9951\">ConjugationTest</text></a><!--MD5=[b4997ac47864f28c2f74865a473b2911]\n",
       "class E2--><a href=\"psysml:c0a3bc73-93c5-4b4d-b763-5833239b73fd\" target=\"_top\" title=\"psysml:c0a3bc73-93c5-4b4d-b763-5833239b73fd\" xlink:actuate=\"onRequest\" xlink:href=\"psysml:c0a3bc73-93c5-4b4d-b763-5833239b73fd\" xlink:show=\"new\" xlink:title=\"psysml:c0a3bc73-93c5-4b4d-b763-5833239b73fd\" xlink:type=\"simple\"><rect fill=\"#FEFECE\" filter=\"url(#fxk8r8ejcmng0)\" height=\"45.9375\" id=\"E2\" style=\"stroke: #A80036; stroke-width: 1.5;\" width=\"92\" x=\"370\" y=\"59\"/><ellipse cx=\"385\" cy=\"77.9688\" fill=\"#A52A2A\" rx=\"11\" ry=\"11\" style=\"stroke: #A80036; stroke-width: 1.0;\"/><path d=\"M384.5938,73.7813 L384.5938,81.7656 L385.25,81.7656 Q386.6875,81.7656 387.2969,80.8594 Q387.9219,79.9375 387.9219,77.7656 Q387.9219,75.5938 387.2969,74.6875 Q386.6875,73.7813 385.25,73.7813 L384.5938,73.7813 Z M382.1406,71.5781 L384.7656,71.5781 Q387.7969,71.5781 389.125,73.0313 Q390.4688,74.4688 390.4688,77.7656 Q390.4688,81.0625 389.125,82.5156 Q387.7969,83.9688 384.7656,83.9688 L382.1406,83.9688 L382.1406,71.5781 Z \"/><text fill=\"#000000\" font-family=\"sans-serif\" font-size=\"12\" font-style=\"italic\" lengthAdjust=\"spacingAndGlyphs\" textLength=\"64\" x=\"397\" y=\"75.1387\">«port def»</text><text fill=\"#000000\" font-family=\"sans-serif\" font-size=\"12\" lengthAdjust=\"spacingAndGlyphs\" textLength=\"8\" x=\"425\" y=\"89.1074\">P</text><line style=\"stroke: #A80036; stroke-width: 1.5;\" x1=\"371\" x2=\"461\" y1=\"96.9375\" y2=\"96.9375\"/></a><!--MD5=[09b614a08d8cba4a07c9adeb5e0fee81]\n",
       "class E3--><a href=\"psysml:5cf63d0b-bb26-43ea-8091-2694cfd07b61\" target=\"_top\" title=\"psysml:5cf63d0b-bb26-43ea-8091-2694cfd07b61\" xlink:actuate=\"onRequest\" xlink:href=\"psysml:5cf63d0b-bb26-43ea-8091-2694cfd07b61\" xlink:show=\"new\" xlink:title=\"psysml:5cf63d0b-bb26-43ea-8091-2694cfd07b61\" xlink:type=\"simple\"><rect fill=\"#FEFECE\" filter=\"url(#fxk8r8ejcmng0)\" height=\"82.4141\" id=\"E3\" style=\"stroke: #A80036; stroke-width: 1.5;\" width=\"50\" x=\"285\" y=\"41\"/><ellipse cx=\"304.5\" cy=\"57\" fill=\"#008000\" rx=\"11\" ry=\"11\" style=\"stroke: #A80036; stroke-width: 1.0;\"/><path d=\"M303.4063,57.375 L303.4063,61.0469 L305.0313,61.0469 Q306.2031,61.0469 306.6719,60.6563 Q307.1406,60.25 307.1406,59.25 Q307.1406,58.25 306.6406,57.8125 Q306.1563,57.375 305.0313,57.375 L303.4063,57.375 Z M303.4063,52.5469 L303.4063,55.4219 L305.0313,55.4219 Q305.9531,55.4219 306.3438,55.0938 Q306.75,54.75 306.75,54 Q306.75,53.2344 306.3438,52.8906 Q305.9375,52.5469 305.0313,52.5469 L303.4063,52.5469 Z M301.0313,50.5938 L305.0313,50.5938 Q307.0938,50.5938 308.1406,51.375 Q309.1875,52.1563 309.1875,53.7188 Q309.1875,54.9219 308.5625,55.5938 Q307.9531,56.2656 306.7656,56.375 Q308.1875,56.5156 308.9063,57.3281 Q309.625,58.1406 309.625,59.5938 Q309.625,61.3906 308.5469,62.2031 Q307.4688,63 305.0313,63 L301.0313,63 L301.0313,50.5938 Z \"/><text fill=\"#000000\" font-family=\"sans-serif\" font-size=\"12\" lengthAdjust=\"spacingAndGlyphs\" textLength=\"8\" x=\"319.5\" y=\"61.1543\">B</text><line style=\"stroke: #A80036; stroke-width: 1.5;\" x1=\"286\" x2=\"334\" y1=\"73\" y2=\"73\"/><text fill=\"#000000\" font-family=\"sans-serif\" font-size=\"11\" lengthAdjust=\"spacingAndGlyphs\" textLength=\"29\" x=\"291\" y=\"104.0151\">p1: P</text><text fill=\"#000000\" font-family=\"sans-serif\" font-size=\"11\" lengthAdjust=\"spacingAndGlyphs\" textLength=\"38\" x=\"291\" y=\"116.8198\">p2: ~P</text><line style=\"stroke: #A80036; stroke-width: 1.0;\" x1=\"286\" x2=\"295\" y1=\"87.4023\" y2=\"87.4023\"/><text fill=\"#000000\" font-family=\"sans-serif\" font-size=\"11\" lengthAdjust=\"spacingAndGlyphs\" textLength=\"30\" x=\"295\" y=\"90.7104\">ports</text><line style=\"stroke: #A80036; stroke-width: 1.0;\" x1=\"325\" x2=\"334\" y1=\"87.4023\" y2=\"87.4023\"/></a><!--MD5=[60a26617385b1d2d0262a64233df1f8d]\n",
       "class E6--><a href=\"psysml:c95e8ce0-7583-4d42-8de3-1e3c8277134a\" target=\"_top\" title=\"psysml:c95e8ce0-7583-4d42-8de3-1e3c8277134a\" xlink:actuate=\"onRequest\" xlink:href=\"psysml:c95e8ce0-7583-4d42-8de3-1e3c8277134a\" xlink:show=\"new\" xlink:title=\"psysml:c95e8ce0-7583-4d42-8de3-1e3c8277134a\" xlink:type=\"simple\"><rect fill=\"#FEFECE\" filter=\"url(#fxk8r8ejcmng0)\" height=\"82.4141\" id=\"E6\" style=\"stroke: #A80036; stroke-width: 1.5;\" width=\"50\" x=\"200\" y=\"41\"/><ellipse cx=\"219.5\" cy=\"57\" fill=\"#008000\" rx=\"11\" ry=\"11\" style=\"stroke: #A80036; stroke-width: 1.0;\"/><path d=\"M218.4063,57.375 L218.4063,61.0469 L220.0313,61.0469 Q221.2031,61.0469 221.6719,60.6563 Q222.1406,60.25 222.1406,59.25 Q222.1406,58.25 221.6406,57.8125 Q221.1563,57.375 220.0313,57.375 L218.4063,57.375 Z M218.4063,52.5469 L218.4063,55.4219 L220.0313,55.4219 Q220.9531,55.4219 221.3438,55.0938 Q221.75,54.75 221.75,54 Q221.75,53.2344 221.3438,52.8906 Q220.9375,52.5469 220.0313,52.5469 L218.4063,52.5469 Z M216.0313,50.5938 L220.0313,50.5938 Q222.0938,50.5938 223.1406,51.375 Q224.1875,52.1563 224.1875,53.7188 Q224.1875,54.9219 223.5625,55.5938 Q222.9531,56.2656 221.7656,56.375 Q223.1875,56.5156 223.9063,57.3281 Q224.625,58.1406 224.625,59.5938 Q224.625,61.3906 223.5469,62.2031 Q222.4688,63 220.0313,63 L216.0313,63 L216.0313,50.5938 Z \"/><text fill=\"#000000\" font-family=\"sans-serif\" font-size=\"12\" lengthAdjust=\"spacingAndGlyphs\" textLength=\"8\" x=\"234.5\" y=\"61.1543\">A</text><line style=\"stroke: #A80036; stroke-width: 1.5;\" x1=\"201\" x2=\"249\" y1=\"73\" y2=\"73\"/><text fill=\"#000000\" font-family=\"sans-serif\" font-size=\"11\" lengthAdjust=\"spacingAndGlyphs\" textLength=\"29\" x=\"206\" y=\"104.0151\">p1: P</text><text fill=\"#000000\" font-family=\"sans-serif\" font-size=\"11\" lengthAdjust=\"spacingAndGlyphs\" textLength=\"38\" x=\"206\" y=\"116.8198\">p2: ~P</text><line style=\"stroke: #A80036; stroke-width: 1.0;\" x1=\"201\" x2=\"210\" y1=\"87.4023\" y2=\"87.4023\"/><text fill=\"#000000\" font-family=\"sans-serif\" font-size=\"11\" lengthAdjust=\"spacingAndGlyphs\" textLength=\"30\" x=\"210\" y=\"90.7104\">ports</text><line style=\"stroke: #A80036; stroke-width: 1.0;\" x1=\"240\" x2=\"249\" y1=\"87.4023\" y2=\"87.4023\"/></a><!--MD5=[fd4143e9d270a159db93a4ea2a975926]\n",
       "class E9--><a href=\"psysml:3dca2d5e-c062-4427-93b4-bcb55890dd40\" target=\"_top\" title=\"psysml:3dca2d5e-c062-4427-93b4-bcb55890dd40\" xlink:actuate=\"onRequest\" xlink:href=\"psysml:3dca2d5e-c062-4427-93b4-bcb55890dd40\" xlink:show=\"new\" xlink:title=\"psysml:3dca2d5e-c062-4427-93b4-bcb55890dd40\" xlink:type=\"simple\"><rect fill=\"#FEFECE\" filter=\"url(#fxk8r8ejcmng0)\" height=\"82.4141\" id=\"E9\" style=\"stroke: #A80036; stroke-width: 1.5;\" width=\"50\" x=\"115\" y=\"41\"/><ellipse cx=\"136.75\" cy=\"57\" fill=\"#008000\" rx=\"11\" ry=\"11\" style=\"stroke: #A80036; stroke-width: 1.0;\"/><path d=\"M135.6563,57.375 L135.6563,61.0469 L137.2813,61.0469 Q138.4531,61.0469 138.9219,60.6563 Q139.3906,60.25 139.3906,59.25 Q139.3906,58.25 138.8906,57.8125 Q138.4063,57.375 137.2813,57.375 L135.6563,57.375 Z M135.6563,52.5469 L135.6563,55.4219 L137.2813,55.4219 Q138.2031,55.4219 138.5938,55.0938 Q139,54.75 139,54 Q139,53.2344 138.5938,52.8906 Q138.1875,52.5469 137.2813,52.5469 L135.6563,52.5469 Z M133.2813,50.5938 L137.2813,50.5938 Q139.3438,50.5938 140.3906,51.375 Q141.4375,52.1563 141.4375,53.7188 Q141.4375,54.9219 140.8125,55.5938 Q140.2031,56.2656 139.0156,56.375 Q140.4375,56.5156 141.1563,57.3281 Q141.875,58.1406 141.875,59.5938 Q141.875,61.3906 140.7969,62.2031 Q139.7188,63 137.2813,63 L133.2813,63 L133.2813,50.5938 Z \"/><text fill=\"#000000\" font-family=\"sans-serif\" font-size=\"12\" lengthAdjust=\"spacingAndGlyphs\" textLength=\"3\" x=\"152.25\" y=\"61.1543\">I</text><line style=\"stroke: #A80036; stroke-width: 1.5;\" x1=\"116\" x2=\"164\" y1=\"73\" y2=\"73\"/><text fill=\"#000000\" font-family=\"sans-serif\" font-size=\"11\" lengthAdjust=\"spacingAndGlyphs\" textLength=\"29\" x=\"121\" y=\"104.0151\">p1: P</text><text fill=\"#000000\" font-family=\"sans-serif\" font-size=\"11\" lengthAdjust=\"spacingAndGlyphs\" textLength=\"38\" x=\"121\" y=\"116.8198\">p2: ~P</text><line style=\"stroke: #A80036; stroke-width: 1.0;\" x1=\"116\" x2=\"125\" y1=\"87.4023\" y2=\"87.4023\"/><text fill=\"#000000\" font-family=\"sans-serif\" font-size=\"11\" lengthAdjust=\"spacingAndGlyphs\" textLength=\"30\" x=\"125\" y=\"90.7104\">ports</text><line style=\"stroke: #A80036; stroke-width: 1.0;\" x1=\"155\" x2=\"164\" y1=\"87.4023\" y2=\"87.4023\"/></a><!--MD5=[49a0ec8f00dab7302a31f22d0f0fe584]\n",
       "class E12--><a href=\"psysml:239b6b7d-2819-4aeb-bfce-341b8d8c5fb1\" target=\"_top\" title=\"psysml:239b6b7d-2819-4aeb-bfce-341b8d8c5fb1\" xlink:actuate=\"onRequest\" xlink:href=\"psysml:239b6b7d-2819-4aeb-bfce-341b8d8c5fb1\" xlink:show=\"new\" xlink:title=\"psysml:239b6b7d-2819-4aeb-bfce-341b8d8c5fb1\" xlink:type=\"simple\"><rect fill=\"#FEFECE\" filter=\"url(#fxk8r8ejcmng0)\" height=\"40\" id=\"E12\" style=\"stroke: #A80036; stroke-width: 1.5;\" width=\"48\" x=\"32\" y=\"62\"/><ellipse cx=\"47\" cy=\"78\" fill=\"#008000\" rx=\"11\" ry=\"11\" style=\"stroke: #A80036; stroke-width: 1.0;\"/><path d=\"M45.9063,78.375 L45.9063,82.0469 L47.5313,82.0469 Q48.7031,82.0469 49.1719,81.6563 Q49.6406,81.25 49.6406,80.25 Q49.6406,79.25 49.1406,78.8125 Q48.6563,78.375 47.5313,78.375 L45.9063,78.375 Z M45.9063,73.5469 L45.9063,76.4219 L47.5313,76.4219 Q48.4531,76.4219 48.8438,76.0938 Q49.25,75.75 49.25,75 Q49.25,74.2344 48.8438,73.8906 Q48.4375,73.5469 47.5313,73.5469 L45.9063,73.5469 Z M43.5313,71.5938 L47.5313,71.5938 Q49.5938,71.5938 50.6406,72.375 Q51.6875,73.1563 51.6875,74.7188 Q51.6875,75.9219 51.0625,76.5938 Q50.4531,77.2656 49.2656,77.375 Q50.6875,77.5156 51.4063,78.3281 Q52.125,79.1406 52.125,80.5938 Q52.125,82.3906 51.0469,83.2031 Q49.9688,84 47.5313,84 L43.5313,84 L43.5313,71.5938 Z \"/><text fill=\"#000000\" font-family=\"sans-serif\" font-size=\"12\" lengthAdjust=\"spacingAndGlyphs\" textLength=\"16\" x=\"61\" y=\"82.1543\">B1</text><line style=\"stroke: #A80036; stroke-width: 1.5;\" x1=\"33\" x2=\"79\" y1=\"94\" y2=\"94\"/></a><!--MD5=[ee3c913d1a06f366521f9ef512b67efe]\n",
       "class E13--><a href=\"psysml:080adc10-96fd-4f72-8d28-a6aae1d02a34\" target=\"_top\" title=\"psysml:080adc10-96fd-4f72-8d28-a6aae1d02a34\" xlink:actuate=\"onRequest\" xlink:href=\"psysml:080adc10-96fd-4f72-8d28-a6aae1d02a34\" xlink:show=\"new\" xlink:title=\"psysml:080adc10-96fd-4f72-8d28-a6aae1d02a34\" xlink:type=\"simple\"><rect fill=\"#FEFECE\" filter=\"url(#fxk8r8ejcmng0)\" height=\"88.3516\" id=\"E13\" rx=\"10\" ry=\"10\" style=\"stroke: #A80036; stroke-width: 1.5;\" width=\"68\" x=\"32\" y=\"183\"/><ellipse cx=\"47\" cy=\"201.9688\" fill=\"#32CD32\" rx=\"11\" ry=\"11\" style=\"stroke: #A80036; stroke-width: 1.0;\"/><path d=\"M46.7969,197.6406 L46.7969,201.2656 L47.7969,201.2656 Q49,201.2656 49.4844,200.8594 Q49.9688,200.4531 49.9688,199.4531 Q49.9688,198.4531 49.4844,198.0469 Q49,197.6406 47.7969,197.6406 L46.7969,197.6406 Z M44.3438,195.5781 L47.7031,195.5781 Q50.2656,195.5781 51.3906,196.5 Q52.5156,197.4063 52.5156,199.4531 Q52.5156,201.5 51.3906,202.4219 Q50.2656,203.3281 47.7031,203.3281 L46.7969,203.3281 L46.7969,207.9688 L44.3438,207.9688 L44.3438,195.5781 Z \"/><text fill=\"#000000\" font-family=\"sans-serif\" font-size=\"12\" font-style=\"italic\" lengthAdjust=\"spacingAndGlyphs\" textLength=\"40\" x=\"59\" y=\"199.1387\">«part»</text><text fill=\"#000000\" font-family=\"sans-serif\" font-size=\"12\" lengthAdjust=\"spacingAndGlyphs\" textLength=\"8\" x=\"75\" y=\"213.1074\">p</text><line style=\"stroke: #A80036; stroke-width: 1.5;\" x1=\"33\" x2=\"99\" y1=\"220.9375\" y2=\"220.9375\"/><text fill=\"#000000\" font-family=\"sans-serif\" font-size=\"11\" lengthAdjust=\"spacingAndGlyphs\" textLength=\"29\" x=\"38\" y=\"251.9526\">p1: P</text><text fill=\"#000000\" font-family=\"sans-serif\" font-size=\"11\" lengthAdjust=\"spacingAndGlyphs\" textLength=\"38\" x=\"38\" y=\"264.7573\">p2: ~P</text><line style=\"stroke: #A80036; stroke-width: 1.0;\" x1=\"33\" x2=\"51\" y1=\"235.3398\" y2=\"235.3398\"/><text fill=\"#000000\" font-family=\"sans-serif\" font-size=\"11\" lengthAdjust=\"spacingAndGlyphs\" textLength=\"30\" x=\"51\" y=\"238.6479\">ports</text><line style=\"stroke: #A80036; stroke-width: 1.0;\" x1=\"81\" x2=\"99\" y1=\"235.3398\" y2=\"235.3398\"/></a><!--MD5=[062ed86c389d1a88f61c6380d0491e17]\n",
       "reverse link E12 to E13--><a href=\"psysml:06665d43-130c-4b8a-bdfd-d93e6351f975\" target=\"_top\" title=\"psysml:06665d43-130c-4b8a-bdfd-d93e6351f975\" xlink:actuate=\"onRequest\" xlink:href=\"psysml:06665d43-130c-4b8a-bdfd-d93e6351f975\" xlink:show=\"new\" xlink:title=\"psysml:06665d43-130c-4b8a-bdfd-d93e6351f975\" xlink:type=\"simple\"><path d=\"M58.26,115.31 C59.65,135.24 61.46,161.03 62.97,182.71 \" fill=\"none\" id=\"E12&lt;-E13\" style=\"stroke: #A80036; stroke-width: 1.0;\"/><polygon fill=\"#A80036\" points=\"57.35,102.29,53.7754,108.5527,58.1815,114.2612,61.7561,107.9984,57.35,102.29\" style=\"stroke: #A80036; stroke-width: 1.0;\"/></a><!--MD5=[73d4283532c362b32e27bef2eca6f863]\n",
       "@startuml\r\n",
       " \r\n",
       "package \"ConjugationTest\" as E1  [[psysml:56f2a3b4-cc43-4fa3-8695-199f33536b50 ]]  {\r\n",
       "comp def \"P\" as E2  <<(D,brown)port def>> [[psysml:c0a3bc73-93c5-4b4d-b763-5833239b73fd ]] {\r\n",
       "}\r\n",
       "comp def \"B\" as E3  << (B,green) >> [[psysml:5cf63d0b-bb26-43ea-8091-2694cfd07b61 ]] {\r\n",
       "- - ports - -\r\n",
       "p1: P\r\n",
       "p2: ~P\r\n",
       "}\r\n",
       "comp def \"A\" as E6  << (B,green) >> [[psysml:c95e8ce0-7583-4d42-8de3-1e3c8277134a ]] {\r\n",
       "- - ports - -\r\n",
       "p1: P\r\n",
       "p2: ~P\r\n",
       "}\r\n",
       "comp def \"I\" as E9  << (B,green) >> [[psysml:3dca2d5e-c062-4427-93b4-bcb55890dd40 ]] {\r\n",
       "- - ports - -\r\n",
       "p1: P\r\n",
       "p2: ~P\r\n",
       "}\r\n",
       "comp def \"B1\" as E12  << (B,green) >> [[psysml:239b6b7d-2819-4aeb-bfce-341b8d8c5fb1 ]] {\r\n",
       "}\r\n",
       "comp usage \"p\" as E13  << (P,limegreen) part>> [[psysml:080adc10-96fd-4f72-8d28-a6aae1d02a34 ]] {\r\n",
       "- - ports - -\r\n",
       "p1: P\r\n",
       "p2: ~P\r\n",
       "}\r\n",
       "E12 *- - E13 [[psysml:06665d43-130c-4b8a-bdfd-d93e6351f975 ]] \r\n",
       "}\r\n",
       "@enduml\r\n",
       "\n",
       "PlantUML version 1.2020.13(Sat Jun 13 12:26:38 UTC 2020)\n",
       "(EPL source distribution)\n",
       "Java Runtime: OpenJDK Runtime Environment\n",
       "JVM: OpenJDK 64-Bit Server VM\n",
       "Default Encoding: UTF-8\n",
       "Language: en\n",
       "Country: null\n",
       "--></g></svg>"
      ]
     },
     "execution_count": 31,
     "metadata": {},
     "output_type": "execute_result"
    }
   ],
   "source": [
    "%viz --style=\"PLANTUML\" --view=\"Tree\" \"ConjugationTest\""
   ]
  },
  {
   "cell_type": "code",
   "execution_count": 32,
   "id": "22c42247",
   "metadata": {
    "execution": {
     "iopub.execute_input": "2021-04-20T07:00:15.551429Z",
     "iopub.status.busy": "2021-04-20T07:00:15.550939Z",
     "iopub.status.idle": "2021-04-20T07:00:15.645719Z",
     "shell.execute_reply": "2021-04-20T07:00:15.645319Z"
    }
   },
   "outputs": [
    {
     "data": {
      "image/svg+xml": [
       "<?xml version=\"1.0\" encoding=\"UTF-8\" standalone=\"no\"?><svg xmlns=\"http://www.w3.org/2000/svg\" xmlns:xlink=\"http://www.w3.org/1999/xlink\" contentScriptType=\"application/ecmascript\" contentStyleType=\"text/css\" height=\"303px\" preserveAspectRatio=\"none\" style=\"width:603px;height:303px;background:#000000;\" version=\"1.1\" viewBox=\"0 0 603 303\" width=\"603px\" zoomAndPan=\"magnify\"><defs/><g><rect fill=\"#241804\" height=\"1\" style=\"stroke: #241804; stroke-width: 1.0;\" width=\"1\" x=\"0\" y=\"0\"/><rect fill=\"#FFFFFF\" height=\"205.5625\" style=\"stroke: #FFFFFF; stroke-width: 1.0;\" width=\"602\" x=\"0\" y=\"0\"/><text fill=\"#000000\" font-family=\"sans-serif\" font-size=\"12\" font-weight=\"bold\" lengthAdjust=\"spacingAndGlyphs\" textLength=\"159\" x=\"5\" y=\"16.1387\">Welcome to PlantUML!</text><text fill=\"#000000\" font-family=\"sans-serif\" font-size=\"12\" lengthAdjust=\"spacingAndGlyphs\" textLength=\"0\" x=\"9\" y=\"30.1074\"/><text fill=\"#000000\" font-family=\"sans-serif\" font-size=\"12\" lengthAdjust=\"spacingAndGlyphs\" textLength=\"293\" x=\"5\" y=\"44.0762\">If you use this software, you accept its license.</text><text fill=\"#000000\" font-family=\"sans-serif\" font-size=\"12\" lengthAdjust=\"spacingAndGlyphs\" textLength=\"107\" x=\"5\" y=\"58.0449\">(details by typing</text><text fill=\"#000000\" font-family=\"monospace\" font-size=\"12\" lengthAdjust=\"spacingAndGlyphs\" textLength=\"49\" x=\"116\" y=\"58.0449\">license</text><text fill=\"#000000\" font-family=\"sans-serif\" font-size=\"12\" lengthAdjust=\"spacingAndGlyphs\" textLength=\"56\" x=\"169\" y=\"58.0449\">keyword)</text><text fill=\"#000000\" font-family=\"sans-serif\" font-size=\"12\" lengthAdjust=\"spacingAndGlyphs\" textLength=\"0\" x=\"9\" y=\"72.0137\"/><text fill=\"#000000\" font-family=\"sans-serif\" font-size=\"12\" lengthAdjust=\"spacingAndGlyphs\" textLength=\"283\" x=\"5\" y=\"85.9824\">You can start with a simple UML Diagram like:</text><text fill=\"#000000\" font-family=\"sans-serif\" font-size=\"12\" lengthAdjust=\"spacingAndGlyphs\" textLength=\"0\" x=\"9\" y=\"99.9512\"/><text fill=\"#000000\" font-family=\"monospace\" font-size=\"12\" lengthAdjust=\"spacingAndGlyphs\" textLength=\"119\" x=\"5\" y=\"113.9199\">Bob-&gt;Alice: Hello</text><text fill=\"#000000\" font-family=\"sans-serif\" font-size=\"12\" lengthAdjust=\"spacingAndGlyphs\" textLength=\"0\" x=\"9\" y=\"127.8887\"/><text fill=\"#000000\" font-family=\"sans-serif\" font-size=\"12\" lengthAdjust=\"spacingAndGlyphs\" textLength=\"14\" x=\"5\" y=\"141.8574\">Or</text><text fill=\"#000000\" font-family=\"sans-serif\" font-size=\"12\" lengthAdjust=\"spacingAndGlyphs\" textLength=\"0\" x=\"9\" y=\"155.8262\"/><text fill=\"#000000\" font-family=\"monospace\" font-size=\"12\" lengthAdjust=\"spacingAndGlyphs\" textLength=\"91\" x=\"5\" y=\"169.7949\">class Example</text><text fill=\"#000000\" font-family=\"sans-serif\" font-size=\"12\" lengthAdjust=\"spacingAndGlyphs\" textLength=\"0\" x=\"9\" y=\"183.7637\"/><text fill=\"#000000\" font-family=\"sans-serif\" font-size=\"12\" lengthAdjust=\"spacingAndGlyphs\" textLength=\"349\" x=\"5\" y=\"197.7324\">You will find more information about PlantUML syntax on</text><text fill=\"#000000\" font-family=\"sans-serif\" font-size=\"12\" lengthAdjust=\"spacingAndGlyphs\" text-decoration=\"underline\" textLength=\"129\" x=\"358\" y=\"197.7324\">https://plantuml.com</text><image height=\"71\" width=\"80\" x=\"516\" xlink:href=\"data:image/png;base64,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\" y=\"6\"/><rect fill=\"#000000\" height=\"96.4844\" style=\"stroke: #000000; stroke-width: 1.0;\" width=\"602\" x=\"0\" y=\"205.5625\"/><rect fill=\"#33FF02\" height=\"21.2969\" style=\"stroke: #33FF02; stroke-width: 1.0;\" width=\"170\" x=\"5\" y=\"210.5625\"/><text fill=\"#000000\" font-family=\"sans-serif\" font-size=\"14\" font-weight=\"bold\" lengthAdjust=\"spacingAndGlyphs\" textLength=\"168\" x=\"6\" y=\"225.5625\">[From string (line 2) ]</text><text fill=\"#33FF02\" font-family=\"sans-serif\" font-size=\"14\" font-weight=\"bold\" lengthAdjust=\"spacingAndGlyphs\" textLength=\"0\" x=\"10\" y=\"245.8594\"/><text fill=\"#33FF02\" font-family=\"sans-serif\" font-size=\"14\" font-weight=\"bold\" lengthAdjust=\"spacingAndGlyphs\" textLength=\"79\" x=\"5\" y=\"262.1563\">@startuml</text><text fill=\"#33FF02\" font-family=\"sans-serif\" font-size=\"14\" font-weight=\"bold\" lengthAdjust=\"spacingAndGlyphs\" textLength=\"0\" x=\"10\" y=\"278.4531\"/><text fill=\"#FF0000\" font-family=\"sans-serif\" font-size=\"14\" font-weight=\"bold\" lengthAdjust=\"spacingAndGlyphs\" textLength=\"142\" x=\"10\" y=\"294.75\">Empty description</text><!--MD5=[f59edd8218d337f74d0c332fc6737304]\n",
       "@startuml\r\n",
       " \r\n",
       "@enduml\r\n",
       "\n",
       "PlantUML version 1.2020.13(Sat Jun 13 12:26:38 UTC 2020)\n",
       "(EPL source distribution)\n",
       "Java Runtime: OpenJDK Runtime Environment\n",
       "JVM: OpenJDK 64-Bit Server VM\n",
       "Default Encoding: UTF-8\n",
       "Language: en\n",
       "Country: null\n",
       "--></g></svg>"
      ]
     },
     "execution_count": 32,
     "metadata": {},
     "output_type": "execute_result"
    }
   ],
   "source": [
    "%viz --style=\"PLANTUML\" --view=\"State\" \"ConjugationTest\""
   ]
  },
  {
   "cell_type": "code",
   "execution_count": 33,
   "id": "2f997cdb",
   "metadata": {
    "execution": {
     "iopub.execute_input": "2021-04-20T07:00:15.696217Z",
     "iopub.status.busy": "2021-04-20T07:00:15.695404Z",
     "iopub.status.idle": "2021-04-20T07:00:15.755082Z",
     "shell.execute_reply": "2021-04-20T07:00:15.754461Z"
    }
   },
   "outputs": [
    {
     "data": {
      "image/svg+xml": [
       "<?xml version=\"1.0\" encoding=\"UTF-8\" standalone=\"no\"?><svg xmlns=\"http://www.w3.org/2000/svg\" xmlns:xlink=\"http://www.w3.org/1999/xlink\" contentScriptType=\"application/ecmascript\" contentStyleType=\"text/css\" height=\"222px\" preserveAspectRatio=\"none\" style=\"width:568px;height:222px;\" version=\"1.1\" viewBox=\"0 0 568 222\" width=\"568px\" zoomAndPan=\"magnify\"><defs><filter height=\"300%\" id=\"fcn77bqhvwvwl\" width=\"300%\" x=\"-1\" y=\"-1\"><feGaussianBlur result=\"blurOut\" stdDeviation=\"2.0\"/><feColorMatrix in=\"blurOut\" result=\"blurOut2\" type=\"matrix\" values=\"0 0 0 0 0 0 0 0 0 0 0 0 0 0 0 0 0 0 .4 0\"/><feOffset dx=\"4.0\" dy=\"4.0\" in=\"blurOut2\" result=\"blurOut3\"/><feBlend in=\"SourceGraphic\" in2=\"blurOut3\" mode=\"normal\"/></filter></defs><g><!--MD5=[fbc87193dbaf4d95561dea2c320d4a47]\n",
       "cluster E1--><a href=\"psysml:56f2a3b4-cc43-4fa3-8695-199f33536b50\" target=\"_top\" title=\"psysml:56f2a3b4-cc43-4fa3-8695-199f33536b50\" xlink:actuate=\"onRequest\" xlink:href=\"psysml:56f2a3b4-cc43-4fa3-8695-199f33536b50\" xlink:show=\"new\" xlink:title=\"psysml:56f2a3b4-cc43-4fa3-8695-199f33536b50\" xlink:type=\"simple\"><polygon fill=\"#FFFFFF\" filter=\"url(#fcn77bqhvwvwl)\" points=\"16,6,151,6,158,28.2969,546,28.2969,546,210.5,16,210.5,16,6\" style=\"stroke: #000000; stroke-width: 1.5;\"/><line style=\"stroke: #000000; stroke-width: 1.5;\" x1=\"16\" x2=\"158\" y1=\"28.2969\" y2=\"28.2969\"/><text fill=\"#000000\" font-family=\"sans-serif\" font-size=\"14\" font-weight=\"bold\" lengthAdjust=\"spacingAndGlyphs\" textLength=\"129\" x=\"20\" y=\"20.9951\">ConjugationTest</text></a><!--MD5=[d5e69f78d87373223dbae638b30a9c99]\n",
       "cluster E3--><a href=\"psysml:5cf63d0b-bb26-43ea-8091-2694cfd07b61\" target=\"_top\" title=\"psysml:5cf63d0b-bb26-43ea-8091-2694cfd07b61\" xlink:actuate=\"onRequest\" xlink:href=\"psysml:5cf63d0b-bb26-43ea-8091-2694cfd07b61\" xlink:show=\"new\" xlink:title=\"psysml:5cf63d0b-bb26-43ea-8091-2694cfd07b61\" xlink:type=\"simple\"><rect fill=\"#FFFFFF\" filter=\"url(#fcn77bqhvwvwl)\" height=\"72.5\" id=\"E3\" style=\"stroke: #A80036; stroke-width: 1.5;\" width=\"83\" x=\"451\" y=\"98\"/><rect fill=\"#FEFECE\" height=\"23.9688\" style=\"stroke: #A80036; stroke-width: 1.5;\" width=\"83\" x=\"451\" y=\"98\"/><text fill=\"#000000\" font-family=\"sans-serif\" font-size=\"12\" lengthAdjust=\"spacingAndGlyphs\" textLength=\"8\" x=\"488.5\" y=\"114.1387\">B</text></a><!--MD5=[14e3b0961a2654348d326746436168a1]\n",
       "cluster E6--><a href=\"psysml:c95e8ce0-7583-4d42-8de3-1e3c8277134a\" target=\"_top\" title=\"psysml:c95e8ce0-7583-4d42-8de3-1e3c8277134a\" xlink:actuate=\"onRequest\" xlink:href=\"psysml:c95e8ce0-7583-4d42-8de3-1e3c8277134a\" xlink:show=\"new\" xlink:title=\"psysml:c95e8ce0-7583-4d42-8de3-1e3c8277134a\" xlink:type=\"simple\"><rect fill=\"#FFFFFF\" filter=\"url(#fcn77bqhvwvwl)\" height=\"72.5\" id=\"E6\" style=\"stroke: #A80036; stroke-width: 1.5;\" width=\"83\" x=\"357\" y=\"98\"/><rect fill=\"#FEFECE\" height=\"23.9688\" style=\"stroke: #A80036; stroke-width: 1.5;\" width=\"83\" x=\"357\" y=\"98\"/><text fill=\"#000000\" font-family=\"sans-serif\" font-size=\"12\" lengthAdjust=\"spacingAndGlyphs\" textLength=\"8\" x=\"394.5\" y=\"114.1387\">A</text></a><!--MD5=[7f149f147074ac12df2cb0a7728a5fb0]\n",
       "cluster E9--><a href=\"psysml:3dca2d5e-c062-4427-93b4-bcb55890dd40\" target=\"_top\" title=\"psysml:3dca2d5e-c062-4427-93b4-bcb55890dd40\" xlink:actuate=\"onRequest\" xlink:href=\"psysml:3dca2d5e-c062-4427-93b4-bcb55890dd40\" xlink:show=\"new\" xlink:title=\"psysml:3dca2d5e-c062-4427-93b4-bcb55890dd40\" xlink:type=\"simple\"><rect fill=\"#FFFFFF\" filter=\"url(#fcn77bqhvwvwl)\" height=\"72.5\" id=\"E9\" style=\"stroke: #A80036; stroke-width: 1.5;\" width=\"83\" x=\"263\" y=\"98\"/><rect fill=\"#FEFECE\" height=\"23.9688\" style=\"stroke: #A80036; stroke-width: 1.5;\" width=\"83\" x=\"263\" y=\"98\"/><text fill=\"#000000\" font-family=\"sans-serif\" font-size=\"12\" lengthAdjust=\"spacingAndGlyphs\" textLength=\"3\" x=\"303\" y=\"114.1387\">I</text></a><!--MD5=[47bea60c1a0ac6c1143df232041969c0]\n",
       "cluster E12--><a href=\"psysml:239b6b7d-2819-4aeb-bfce-341b8d8c5fb1\" target=\"_top\" title=\"psysml:239b6b7d-2819-4aeb-bfce-341b8d8c5fb1\" xlink:actuate=\"onRequest\" xlink:href=\"psysml:239b6b7d-2819-4aeb-bfce-341b8d8c5fb1\" xlink:show=\"new\" xlink:title=\"psysml:239b6b7d-2819-4aeb-bfce-341b8d8c5fb1\" xlink:type=\"simple\"><rect fill=\"#FFFFFF\" filter=\"url(#fcn77bqhvwvwl)\" height=\"137.5\" id=\"E12\" style=\"stroke: #A80036; stroke-width: 1.5;\" width=\"107\" x=\"144\" y=\"49\"/><rect fill=\"#FEFECE\" height=\"23.9688\" style=\"stroke: #A80036; stroke-width: 1.5;\" width=\"107\" x=\"144\" y=\"49\"/><text fill=\"#000000\" font-family=\"sans-serif\" font-size=\"12\" lengthAdjust=\"spacingAndGlyphs\" textLength=\"16\" x=\"189.5\" y=\"65.1387\">B1</text></a><!--MD5=[03104f77b71e2d8d3500c651e6e31181]\n",
       "cluster E13--><a href=\"psysml:080adc10-96fd-4f72-8d28-a6aae1d02a34\" target=\"_top\" title=\"psysml:080adc10-96fd-4f72-8d28-a6aae1d02a34\" xlink:actuate=\"onRequest\" xlink:href=\"psysml:080adc10-96fd-4f72-8d28-a6aae1d02a34\" xlink:show=\"new\" xlink:title=\"psysml:080adc10-96fd-4f72-8d28-a6aae1d02a34\" xlink:type=\"simple\"><rect fill=\"#FFFFFF\" filter=\"url(#fcn77bqhvwvwl)\" height=\"72.5\" id=\"E13\" rx=\"10\" ry=\"10\" style=\"stroke: #A80036; stroke-width: 1.5;\" width=\"83\" x=\"156\" y=\"98\"/><rect fill=\"#FEFECE\" height=\"23.9688\" rx=\"10\" ry=\"10\" style=\"stroke: #FEFECE; stroke-width: 1.5;\" width=\"83\" x=\"156\" y=\"98\"/><rect fill=\"#FEFECE\" height=\"10\" style=\"stroke: #FEFECE; stroke-width: 1.5;\" width=\"83\" x=\"156\" y=\"111.9688\"/><rect fill=\"none\" height=\"72.5\" id=\"E13\" rx=\"10\" ry=\"10\" style=\"stroke: #A80036; stroke-width: 1.5;\" width=\"83\" x=\"156\" y=\"98\"/><text fill=\"#000000\" font-family=\"sans-serif\" font-size=\"12\" lengthAdjust=\"spacingAndGlyphs\" textLength=\"8\" x=\"193.5\" y=\"114.1387\">p</text><line style=\"stroke: #A80036; stroke-width: 1.0;\" x1=\"156\" x2=\"239\" y1=\"121.9688\" y2=\"121.9688\"/></a><g id=\"E1.E2\"><a href=\"psysml:c0a3bc73-93c5-4b4d-b763-5833239b73fd\" target=\"_top\" title=\"psysml:c0a3bc73-93c5-4b4d-b763-5833239b73fd\" xlink:actuate=\"onRequest\" xlink:href=\"psysml:c0a3bc73-93c5-4b4d-b763-5833239b73fd\" xlink:show=\"new\" xlink:title=\"psysml:c0a3bc73-93c5-4b4d-b763-5833239b73fd\" xlink:type=\"simple\"><rect fill=\"#FEFECE\" filter=\"url(#fcn77bqhvwvwl)\" height=\"42.9375\" id=\"E2\" style=\"stroke: #A80036; stroke-width: 1.5;\" width=\"97\" x=\"31.5\" y=\"76.5\"/><ellipse cx=\"48.75\" cy=\"95.4688\" fill=\"#A52A2A\" rx=\"11\" ry=\"11\" style=\"stroke: #A80036; stroke-width: 1.0;\"/><path d=\"M48.3438,91.2813 L48.3438,99.2656 L49,99.2656 Q50.4375,99.2656 51.0469,98.3594 Q51.6719,97.4375 51.6719,95.2656 Q51.6719,93.0938 51.0469,92.1875 Q50.4375,91.2813 49,91.2813 L48.3438,91.2813 Z M45.8906,89.0781 L48.5156,89.0781 Q51.5469,89.0781 52.875,90.5313 Q54.2188,91.9688 54.2188,95.2656 Q54.2188,98.5625 52.875,100.0156 Q51.5469,101.4688 48.5156,101.4688 L45.8906,101.4688 L45.8906,89.0781 Z \"/><text fill=\"#000000\" font-family=\"sans-serif\" font-size=\"12\" font-style=\"italic\" lengthAdjust=\"spacingAndGlyphs\" textLength=\"64\" x=\"61.25\" y=\"92.6387\">«port def»</text><text fill=\"#000000\" font-family=\"sans-serif\" font-size=\"12\" lengthAdjust=\"spacingAndGlyphs\" textLength=\"8\" x=\"89.25\" y=\"106.6074\">P</text></a></g><text fill=\"#000000\" font-family=\"sans-serif\" font-size=\"14\" lengthAdjust=\"spacingAndGlyphs\" textLength=\"36\" x=\"451\" y=\"76.6982\">p1: P</text><rect fill=\"#A80036\" height=\"12\" style=\"stroke: #FEFECE; stroke-width: 1.5;\" width=\"12\" x=\"463\" y=\"92\"/><text fill=\"#000000\" font-family=\"sans-serif\" font-size=\"14\" lengthAdjust=\"spacingAndGlyphs\" textLength=\"48\" x=\"492\" y=\"76.6982\">p2: ~P</text><rect fill=\"#A80036\" height=\"12\" style=\"stroke: #FEFECE; stroke-width: 1.5;\" width=\"12\" x=\"510\" y=\"92\"/><text fill=\"#000000\" font-family=\"sans-serif\" font-size=\"14\" lengthAdjust=\"spacingAndGlyphs\" textLength=\"36\" x=\"357\" y=\"76.6982\">p1: P</text><rect fill=\"#A80036\" height=\"12\" style=\"stroke: #FEFECE; stroke-width: 1.5;\" width=\"12\" x=\"369\" y=\"92\"/><text fill=\"#000000\" font-family=\"sans-serif\" font-size=\"14\" lengthAdjust=\"spacingAndGlyphs\" textLength=\"48\" x=\"398\" y=\"76.6982\">p2: ~P</text><rect fill=\"#A80036\" height=\"12\" style=\"stroke: #FEFECE; stroke-width: 1.5;\" width=\"12\" x=\"416\" y=\"92\"/><text fill=\"#000000\" font-family=\"sans-serif\" font-size=\"14\" lengthAdjust=\"spacingAndGlyphs\" textLength=\"36\" x=\"263\" y=\"76.6982\">p1: P</text><rect fill=\"#A80036\" height=\"12\" style=\"stroke: #FEFECE; stroke-width: 1.5;\" width=\"12\" x=\"275\" y=\"92\"/><text fill=\"#000000\" font-family=\"sans-serif\" font-size=\"14\" lengthAdjust=\"spacingAndGlyphs\" textLength=\"48\" x=\"304\" y=\"76.6982\">p2: ~P</text><rect fill=\"#A80036\" height=\"12\" style=\"stroke: #FEFECE; stroke-width: 1.5;\" width=\"12\" x=\"322\" y=\"92\"/><text fill=\"#000000\" font-family=\"sans-serif\" font-size=\"14\" lengthAdjust=\"spacingAndGlyphs\" textLength=\"36\" x=\"156\" y=\"76.6982\">p1: P</text><rect fill=\"#A80036\" height=\"12\" style=\"stroke: #FEFECE; stroke-width: 1.5;\" width=\"12\" x=\"168\" y=\"92\"/><text fill=\"#000000\" font-family=\"sans-serif\" font-size=\"14\" lengthAdjust=\"spacingAndGlyphs\" textLength=\"48\" x=\"197\" y=\"76.6982\">p2: ~P</text><rect fill=\"#A80036\" height=\"12\" style=\"stroke: #FEFECE; stroke-width: 1.5;\" width=\"12\" x=\"215\" y=\"92\"/><!--MD5=[4ce51ac6fa4cf5202df3859e2718f033]\n",
       "link E15 to E14--><a href=\"psysml:b40b8767-d304-49cf-ad0a-af8e9dd9f9d8\" target=\"_top\" title=\"psysml:b40b8767-d304-49cf-ad0a-af8e9dd9f9d8\" xlink:actuate=\"onRequest\" xlink:href=\"psysml:b40b8767-d304-49cf-ad0a-af8e9dd9f9d8\" xlink:show=\"new\" xlink:title=\"psysml:b40b8767-d304-49cf-ad0a-af8e9dd9f9d8\" xlink:type=\"simple\"><path d=\"M214.95,98 C203.38,98 191.81,98 180.24,98 \" fill=\"none\" id=\"E15-E14\" style=\"stroke: #A80036; stroke-width: 3.0;\"/></a><!--MD5=[4ce51ac6fa4cf5202df3859e2718f033]\n",
       "link E15 to E14--><a href=\"psysml:e453fd18-f914-4bbc-b21b-733251b90d8d\" target=\"_top\" title=\"psysml:e453fd18-f914-4bbc-b21b-733251b90d8d\" xlink:actuate=\"onRequest\" xlink:href=\"psysml:e453fd18-f914-4bbc-b21b-733251b90d8d\" xlink:show=\"new\" xlink:title=\"psysml:e453fd18-f914-4bbc-b21b-733251b90d8d\" xlink:type=\"simple\"><path d=\"M214.95,95.98 C203.38,92.69 191.81,92.67 180.24,95.93 \" fill=\"none\" id=\"E15-E14-1\" style=\"stroke: #A80036; stroke-width: 3.0;\"/></a><!--MD5=[bfe5f2862d0e3cd84863be0b87877964]\n",
       "@startuml\r\n",
       "skinparam ranksep 10\r\n",
       "skinparam rectangle {\r\n",
       " backgroundColor<<block>> LightGreen\r\n",
       "}\r\n",
       " \r\n",
       "package \"ConjugationTest\" as E1  [[psysml:56f2a3b4-cc43-4fa3-8695-199f33536b50 ]]  {\r\n",
       "def \"P\" as E2  <<(D,brown)port def>> [[psysml:c0a3bc73-93c5-4b4d-b763-5833239b73fd ]] \r\n",
       "rec def \"B\" as E3  << (B,green) >> [[psysml:5cf63d0b-bb26-43ea-8091-2694cfd07b61 ]] {\r\n",
       "portin \"p1: P\" as E4  << (P,blue) port>> [[psysml:c76b55b8-c5f7-4b06-9682-6e30a37606f5 ]] \r\n",
       "portin \"p2: ~P\" as E5  << (P,blue) port>> [[psysml:35da94da-d279-45b2-babf-0a6a90392647 ]] \r\n",
       "}\r\n",
       "rec def \"A\" as E6  << (B,green) >> [[psysml:c95e8ce0-7583-4d42-8de3-1e3c8277134a ]] {\r\n",
       "portin \"p1: P\" as E7  << (P,blue) port>> [[psysml:2d7c72e0-11ff-44e8-b252-bce43cdf8c5c ]] \r\n",
       "portin \"p2: ~P\" as E8  << (P,blue) port>> [[psysml:32f7297e-deaa-40d0-ad2f-7459de0cc2ac ]] \r\n",
       "}\r\n",
       "rec def \"I\" as E9  << (B,green) >> [[psysml:3dca2d5e-c062-4427-93b4-bcb55890dd40 ]] {\r\n",
       "portin \"p1: P\" as E10  << (P,blue) port>> [[psysml:c5132c6d-1853-42dd-8f4d-8690518006d4 ]] \r\n",
       "portin \"p2: ~P\" as E11  << (P,blue) port>> [[psysml:dfe5ce78-d727-465a-9c67-ad29336ed483 ]] \r\n",
       "}\r\n",
       "rec def \"B1\" as E12  << (B,green) >> [[psysml:239b6b7d-2819-4aeb-bfce-341b8d8c5fb1 ]] {\r\n",
       "rec usage \"p\" as E13  [[psysml:080adc10-96fd-4f72-8d28-a6aae1d02a34 ]] {\r\n",
       "portin \"p1: P\" as E14  << (P,blue) port>> [[psysml:990bba01-cfb0-414f-879e-e0e887a1aff5 ]] \r\n",
       "portin \"p2: ~P\" as E15  << (P,blue) port>> [[psysml:ea02eef2-b064-45a9-9708-410d7204d199 ]] \r\n",
       "}\r\n",
       "}\r\n",
       "E15 -[thickness=3]- E14 [[psysml:b40b8767-d304-49cf-ad0a-af8e9dd9f9d8 ]] \r\n",
       "E15 -[thickness=3]- E14 [[psysml:e453fd18-f914-4bbc-b21b-733251b90d8d ]] \r\n",
       "}\r\n",
       "@enduml\r\n",
       "\n",
       "PlantUML version 1.2020.13(Sat Jun 13 12:26:38 UTC 2020)\n",
       "(EPL source distribution)\n",
       "Java Runtime: OpenJDK Runtime Environment\n",
       "JVM: OpenJDK 64-Bit Server VM\n",
       "Default Encoding: UTF-8\n",
       "Language: en\n",
       "Country: null\n",
       "--></g></svg>"
      ]
     },
     "execution_count": 33,
     "metadata": {},
     "output_type": "execute_result"
    }
   ],
   "source": [
    "%viz --style=\"PLANTUML\" --view=\"Interconnection\" \"ConjugationTest\""
   ]
  },
  {
   "cell_type": "code",
   "execution_count": 34,
   "id": "527610cc",
   "metadata": {
    "execution": {
     "iopub.execute_input": "2021-04-20T07:00:15.804827Z",
     "iopub.status.busy": "2021-04-20T07:00:15.804218Z",
     "iopub.status.idle": "2021-04-20T07:00:15.817481Z",
     "shell.execute_reply": "2021-04-20T07:00:15.817002Z"
    }
   },
   "outputs": [
    {
     "data": {
      "image/svg+xml": [
       "<?xml version=\"1.0\" encoding=\"UTF-8\" standalone=\"no\"?><svg xmlns=\"http://www.w3.org/2000/svg\" xmlns:xlink=\"http://www.w3.org/1999/xlink\" contentScriptType=\"application/ecmascript\" contentStyleType=\"text/css\" height=\"12px\" preserveAspectRatio=\"none\" style=\"width:12px;height:12px;\" version=\"1.1\" viewBox=\"0 0 12 12\" width=\"12px\" zoomAndPan=\"magnify\"><defs/><g><!--MD5=[6a4cb978cab31700e1ce5529f947a75d]\n",
       "@startuml\r\n",
       "skinparam ranksep 8\r\n",
       " \r\n",
       "@enduml\r\n",
       "\n",
       "PlantUML version 1.2020.13(Sat Jun 13 12:26:38 UTC 2020)\n",
       "(EPL source distribution)\n",
       "Java Runtime: OpenJDK Runtime Environment\n",
       "JVM: OpenJDK 64-Bit Server VM\n",
       "Default Encoding: UTF-8\n",
       "Language: en\n",
       "Country: null\n",
       "--></g></svg>"
      ]
     },
     "execution_count": 34,
     "metadata": {},
     "output_type": "execute_result"
    }
   ],
   "source": [
    "%viz --style=\"PLANTUML\" --view=\"Action\" \"ConjugationTest\""
   ]
  },
  {
   "cell_type": "code",
   "execution_count": 35,
   "id": "eb1f08c0",
   "metadata": {
    "execution": {
     "iopub.execute_input": "2021-04-20T07:00:15.863311Z",
     "iopub.status.busy": "2021-04-20T07:00:15.862672Z",
     "iopub.status.idle": "2021-04-20T07:00:15.965361Z",
     "shell.execute_reply": "2021-04-20T07:00:15.963718Z"
    }
   },
   "outputs": [
    {
     "data": {
      "image/svg+xml": [
       "<?xml version=\"1.0\" encoding=\"UTF-8\" standalone=\"no\"?><svg xmlns=\"http://www.w3.org/2000/svg\" xmlns:xlink=\"http://www.w3.org/1999/xlink\" contentScriptType=\"application/ecmascript\" contentStyleType=\"text/css\" height=\"299px\" preserveAspectRatio=\"none\" style=\"width:500px;height:299px;\" version=\"1.1\" viewBox=\"0 0 500 299\" width=\"500px\" zoomAndPan=\"magnify\"><defs><filter height=\"300%\" id=\"fxk8r8ejcmng0\" width=\"300%\" x=\"-1\" y=\"-1\"><feGaussianBlur result=\"blurOut\" stdDeviation=\"2.0\"/><feColorMatrix in=\"blurOut\" result=\"blurOut2\" type=\"matrix\" values=\"0 0 0 0 0 0 0 0 0 0 0 0 0 0 0 0 0 0 .4 0\"/><feOffset dx=\"4.0\" dy=\"4.0\" in=\"blurOut2\" result=\"blurOut3\"/><feBlend in=\"SourceGraphic\" in2=\"blurOut3\" mode=\"normal\"/></filter></defs><g><!--MD5=[fbc87193dbaf4d95561dea2c320d4a47]\n",
       "cluster E1--><a href=\"psysml:56f2a3b4-cc43-4fa3-8695-199f33536b50\" target=\"_top\" title=\"psysml:56f2a3b4-cc43-4fa3-8695-199f33536b50\" xlink:actuate=\"onRequest\" xlink:href=\"psysml:56f2a3b4-cc43-4fa3-8695-199f33536b50\" xlink:show=\"new\" xlink:title=\"psysml:56f2a3b4-cc43-4fa3-8695-199f33536b50\" xlink:type=\"simple\"><polygon fill=\"#FFFFFF\" filter=\"url(#fxk8r8ejcmng0)\" points=\"16,6,151,6,158,28.2969,478,28.2969,478,287,16,287,16,6\" style=\"stroke: #000000; stroke-width: 1.5;\"/><line style=\"stroke: #000000; stroke-width: 1.5;\" x1=\"16\" x2=\"158\" y1=\"28.2969\" y2=\"28.2969\"/><text fill=\"#000000\" font-family=\"sans-serif\" font-size=\"14\" font-weight=\"bold\" lengthAdjust=\"spacingAndGlyphs\" textLength=\"129\" x=\"20\" y=\"20.9951\">ConjugationTest</text></a><!--MD5=[b4997ac47864f28c2f74865a473b2911]\n",
       "class E2--><a href=\"psysml:c0a3bc73-93c5-4b4d-b763-5833239b73fd\" target=\"_top\" title=\"psysml:c0a3bc73-93c5-4b4d-b763-5833239b73fd\" xlink:actuate=\"onRequest\" xlink:href=\"psysml:c0a3bc73-93c5-4b4d-b763-5833239b73fd\" xlink:show=\"new\" xlink:title=\"psysml:c0a3bc73-93c5-4b4d-b763-5833239b73fd\" xlink:type=\"simple\"><rect fill=\"#FEFECE\" filter=\"url(#fxk8r8ejcmng0)\" height=\"45.9375\" id=\"E2\" style=\"stroke: #A80036; stroke-width: 1.5;\" width=\"92\" x=\"370\" y=\"59\"/><ellipse cx=\"385\" cy=\"77.9688\" fill=\"#A52A2A\" rx=\"11\" ry=\"11\" style=\"stroke: #A80036; stroke-width: 1.0;\"/><path d=\"M384.5938,73.7813 L384.5938,81.7656 L385.25,81.7656 Q386.6875,81.7656 387.2969,80.8594 Q387.9219,79.9375 387.9219,77.7656 Q387.9219,75.5938 387.2969,74.6875 Q386.6875,73.7813 385.25,73.7813 L384.5938,73.7813 Z M382.1406,71.5781 L384.7656,71.5781 Q387.7969,71.5781 389.125,73.0313 Q390.4688,74.4688 390.4688,77.7656 Q390.4688,81.0625 389.125,82.5156 Q387.7969,83.9688 384.7656,83.9688 L382.1406,83.9688 L382.1406,71.5781 Z \"/><text fill=\"#000000\" font-family=\"sans-serif\" font-size=\"12\" font-style=\"italic\" lengthAdjust=\"spacingAndGlyphs\" textLength=\"64\" x=\"397\" y=\"75.1387\">«port def»</text><text fill=\"#000000\" font-family=\"sans-serif\" font-size=\"12\" lengthAdjust=\"spacingAndGlyphs\" textLength=\"8\" x=\"425\" y=\"89.1074\">P</text><line style=\"stroke: #A80036; stroke-width: 1.5;\" x1=\"371\" x2=\"461\" y1=\"96.9375\" y2=\"96.9375\"/></a><!--MD5=[09b614a08d8cba4a07c9adeb5e0fee81]\n",
       "class E3--><a href=\"psysml:5cf63d0b-bb26-43ea-8091-2694cfd07b61\" target=\"_top\" title=\"psysml:5cf63d0b-bb26-43ea-8091-2694cfd07b61\" xlink:actuate=\"onRequest\" xlink:href=\"psysml:5cf63d0b-bb26-43ea-8091-2694cfd07b61\" xlink:show=\"new\" xlink:title=\"psysml:5cf63d0b-bb26-43ea-8091-2694cfd07b61\" xlink:type=\"simple\"><rect fill=\"#FEFECE\" filter=\"url(#fxk8r8ejcmng0)\" height=\"82.4141\" id=\"E3\" style=\"stroke: #A80036; stroke-width: 1.5;\" width=\"50\" x=\"285\" y=\"41\"/><ellipse cx=\"304.5\" cy=\"57\" fill=\"#008000\" rx=\"11\" ry=\"11\" style=\"stroke: #A80036; stroke-width: 1.0;\"/><path d=\"M303.4063,57.375 L303.4063,61.0469 L305.0313,61.0469 Q306.2031,61.0469 306.6719,60.6563 Q307.1406,60.25 307.1406,59.25 Q307.1406,58.25 306.6406,57.8125 Q306.1563,57.375 305.0313,57.375 L303.4063,57.375 Z M303.4063,52.5469 L303.4063,55.4219 L305.0313,55.4219 Q305.9531,55.4219 306.3438,55.0938 Q306.75,54.75 306.75,54 Q306.75,53.2344 306.3438,52.8906 Q305.9375,52.5469 305.0313,52.5469 L303.4063,52.5469 Z M301.0313,50.5938 L305.0313,50.5938 Q307.0938,50.5938 308.1406,51.375 Q309.1875,52.1563 309.1875,53.7188 Q309.1875,54.9219 308.5625,55.5938 Q307.9531,56.2656 306.7656,56.375 Q308.1875,56.5156 308.9063,57.3281 Q309.625,58.1406 309.625,59.5938 Q309.625,61.3906 308.5469,62.2031 Q307.4688,63 305.0313,63 L301.0313,63 L301.0313,50.5938 Z \"/><text fill=\"#000000\" font-family=\"sans-serif\" font-size=\"12\" lengthAdjust=\"spacingAndGlyphs\" textLength=\"8\" x=\"319.5\" y=\"61.1543\">B</text><line style=\"stroke: #A80036; stroke-width: 1.5;\" x1=\"286\" x2=\"334\" y1=\"73\" y2=\"73\"/><text fill=\"#000000\" font-family=\"sans-serif\" font-size=\"11\" lengthAdjust=\"spacingAndGlyphs\" textLength=\"29\" x=\"291\" y=\"104.0151\">p1: P</text><text fill=\"#000000\" font-family=\"sans-serif\" font-size=\"11\" lengthAdjust=\"spacingAndGlyphs\" textLength=\"38\" x=\"291\" y=\"116.8198\">p2: ~P</text><line style=\"stroke: #A80036; stroke-width: 1.0;\" x1=\"286\" x2=\"295\" y1=\"87.4023\" y2=\"87.4023\"/><text fill=\"#000000\" font-family=\"sans-serif\" font-size=\"11\" lengthAdjust=\"spacingAndGlyphs\" textLength=\"30\" x=\"295\" y=\"90.7104\">ports</text><line style=\"stroke: #A80036; stroke-width: 1.0;\" x1=\"325\" x2=\"334\" y1=\"87.4023\" y2=\"87.4023\"/></a><!--MD5=[60a26617385b1d2d0262a64233df1f8d]\n",
       "class E6--><a href=\"psysml:c95e8ce0-7583-4d42-8de3-1e3c8277134a\" target=\"_top\" title=\"psysml:c95e8ce0-7583-4d42-8de3-1e3c8277134a\" xlink:actuate=\"onRequest\" xlink:href=\"psysml:c95e8ce0-7583-4d42-8de3-1e3c8277134a\" xlink:show=\"new\" xlink:title=\"psysml:c95e8ce0-7583-4d42-8de3-1e3c8277134a\" xlink:type=\"simple\"><rect fill=\"#FEFECE\" filter=\"url(#fxk8r8ejcmng0)\" height=\"82.4141\" id=\"E6\" style=\"stroke: #A80036; stroke-width: 1.5;\" width=\"50\" x=\"200\" y=\"41\"/><ellipse cx=\"219.5\" cy=\"57\" fill=\"#008000\" rx=\"11\" ry=\"11\" style=\"stroke: #A80036; stroke-width: 1.0;\"/><path d=\"M218.4063,57.375 L218.4063,61.0469 L220.0313,61.0469 Q221.2031,61.0469 221.6719,60.6563 Q222.1406,60.25 222.1406,59.25 Q222.1406,58.25 221.6406,57.8125 Q221.1563,57.375 220.0313,57.375 L218.4063,57.375 Z M218.4063,52.5469 L218.4063,55.4219 L220.0313,55.4219 Q220.9531,55.4219 221.3438,55.0938 Q221.75,54.75 221.75,54 Q221.75,53.2344 221.3438,52.8906 Q220.9375,52.5469 220.0313,52.5469 L218.4063,52.5469 Z M216.0313,50.5938 L220.0313,50.5938 Q222.0938,50.5938 223.1406,51.375 Q224.1875,52.1563 224.1875,53.7188 Q224.1875,54.9219 223.5625,55.5938 Q222.9531,56.2656 221.7656,56.375 Q223.1875,56.5156 223.9063,57.3281 Q224.625,58.1406 224.625,59.5938 Q224.625,61.3906 223.5469,62.2031 Q222.4688,63 220.0313,63 L216.0313,63 L216.0313,50.5938 Z \"/><text fill=\"#000000\" font-family=\"sans-serif\" font-size=\"12\" lengthAdjust=\"spacingAndGlyphs\" textLength=\"8\" x=\"234.5\" y=\"61.1543\">A</text><line style=\"stroke: #A80036; stroke-width: 1.5;\" x1=\"201\" x2=\"249\" y1=\"73\" y2=\"73\"/><text fill=\"#000000\" font-family=\"sans-serif\" font-size=\"11\" lengthAdjust=\"spacingAndGlyphs\" textLength=\"29\" x=\"206\" y=\"104.0151\">p1: P</text><text fill=\"#000000\" font-family=\"sans-serif\" font-size=\"11\" lengthAdjust=\"spacingAndGlyphs\" textLength=\"38\" x=\"206\" y=\"116.8198\">p2: ~P</text><line style=\"stroke: #A80036; stroke-width: 1.0;\" x1=\"201\" x2=\"210\" y1=\"87.4023\" y2=\"87.4023\"/><text fill=\"#000000\" font-family=\"sans-serif\" font-size=\"11\" lengthAdjust=\"spacingAndGlyphs\" textLength=\"30\" x=\"210\" y=\"90.7104\">ports</text><line style=\"stroke: #A80036; stroke-width: 1.0;\" x1=\"240\" x2=\"249\" y1=\"87.4023\" y2=\"87.4023\"/></a><!--MD5=[fd4143e9d270a159db93a4ea2a975926]\n",
       "class E9--><a href=\"psysml:3dca2d5e-c062-4427-93b4-bcb55890dd40\" target=\"_top\" title=\"psysml:3dca2d5e-c062-4427-93b4-bcb55890dd40\" xlink:actuate=\"onRequest\" xlink:href=\"psysml:3dca2d5e-c062-4427-93b4-bcb55890dd40\" xlink:show=\"new\" xlink:title=\"psysml:3dca2d5e-c062-4427-93b4-bcb55890dd40\" xlink:type=\"simple\"><rect fill=\"#FEFECE\" filter=\"url(#fxk8r8ejcmng0)\" height=\"82.4141\" id=\"E9\" style=\"stroke: #A80036; stroke-width: 1.5;\" width=\"50\" x=\"115\" y=\"41\"/><ellipse cx=\"136.75\" cy=\"57\" fill=\"#008000\" rx=\"11\" ry=\"11\" style=\"stroke: #A80036; stroke-width: 1.0;\"/><path d=\"M135.6563,57.375 L135.6563,61.0469 L137.2813,61.0469 Q138.4531,61.0469 138.9219,60.6563 Q139.3906,60.25 139.3906,59.25 Q139.3906,58.25 138.8906,57.8125 Q138.4063,57.375 137.2813,57.375 L135.6563,57.375 Z M135.6563,52.5469 L135.6563,55.4219 L137.2813,55.4219 Q138.2031,55.4219 138.5938,55.0938 Q139,54.75 139,54 Q139,53.2344 138.5938,52.8906 Q138.1875,52.5469 137.2813,52.5469 L135.6563,52.5469 Z M133.2813,50.5938 L137.2813,50.5938 Q139.3438,50.5938 140.3906,51.375 Q141.4375,52.1563 141.4375,53.7188 Q141.4375,54.9219 140.8125,55.5938 Q140.2031,56.2656 139.0156,56.375 Q140.4375,56.5156 141.1563,57.3281 Q141.875,58.1406 141.875,59.5938 Q141.875,61.3906 140.7969,62.2031 Q139.7188,63 137.2813,63 L133.2813,63 L133.2813,50.5938 Z \"/><text fill=\"#000000\" font-family=\"sans-serif\" font-size=\"12\" lengthAdjust=\"spacingAndGlyphs\" textLength=\"3\" x=\"152.25\" y=\"61.1543\">I</text><line style=\"stroke: #A80036; stroke-width: 1.5;\" x1=\"116\" x2=\"164\" y1=\"73\" y2=\"73\"/><text fill=\"#000000\" font-family=\"sans-serif\" font-size=\"11\" lengthAdjust=\"spacingAndGlyphs\" textLength=\"29\" x=\"121\" y=\"104.0151\">p1: P</text><text fill=\"#000000\" font-family=\"sans-serif\" font-size=\"11\" lengthAdjust=\"spacingAndGlyphs\" textLength=\"38\" x=\"121\" y=\"116.8198\">p2: ~P</text><line style=\"stroke: #A80036; stroke-width: 1.0;\" x1=\"116\" x2=\"125\" y1=\"87.4023\" y2=\"87.4023\"/><text fill=\"#000000\" font-family=\"sans-serif\" font-size=\"11\" lengthAdjust=\"spacingAndGlyphs\" textLength=\"30\" x=\"125\" y=\"90.7104\">ports</text><line style=\"stroke: #A80036; stroke-width: 1.0;\" x1=\"155\" x2=\"164\" y1=\"87.4023\" y2=\"87.4023\"/></a><!--MD5=[49a0ec8f00dab7302a31f22d0f0fe584]\n",
       "class E12--><a href=\"psysml:239b6b7d-2819-4aeb-bfce-341b8d8c5fb1\" target=\"_top\" title=\"psysml:239b6b7d-2819-4aeb-bfce-341b8d8c5fb1\" xlink:actuate=\"onRequest\" xlink:href=\"psysml:239b6b7d-2819-4aeb-bfce-341b8d8c5fb1\" xlink:show=\"new\" xlink:title=\"psysml:239b6b7d-2819-4aeb-bfce-341b8d8c5fb1\" xlink:type=\"simple\"><rect fill=\"#FEFECE\" filter=\"url(#fxk8r8ejcmng0)\" height=\"40\" id=\"E12\" style=\"stroke: #A80036; stroke-width: 1.5;\" width=\"48\" x=\"32\" y=\"62\"/><ellipse cx=\"47\" cy=\"78\" fill=\"#008000\" rx=\"11\" ry=\"11\" style=\"stroke: #A80036; stroke-width: 1.0;\"/><path d=\"M45.9063,78.375 L45.9063,82.0469 L47.5313,82.0469 Q48.7031,82.0469 49.1719,81.6563 Q49.6406,81.25 49.6406,80.25 Q49.6406,79.25 49.1406,78.8125 Q48.6563,78.375 47.5313,78.375 L45.9063,78.375 Z M45.9063,73.5469 L45.9063,76.4219 L47.5313,76.4219 Q48.4531,76.4219 48.8438,76.0938 Q49.25,75.75 49.25,75 Q49.25,74.2344 48.8438,73.8906 Q48.4375,73.5469 47.5313,73.5469 L45.9063,73.5469 Z M43.5313,71.5938 L47.5313,71.5938 Q49.5938,71.5938 50.6406,72.375 Q51.6875,73.1563 51.6875,74.7188 Q51.6875,75.9219 51.0625,76.5938 Q50.4531,77.2656 49.2656,77.375 Q50.6875,77.5156 51.4063,78.3281 Q52.125,79.1406 52.125,80.5938 Q52.125,82.3906 51.0469,83.2031 Q49.9688,84 47.5313,84 L43.5313,84 L43.5313,71.5938 Z \"/><text fill=\"#000000\" font-family=\"sans-serif\" font-size=\"12\" lengthAdjust=\"spacingAndGlyphs\" textLength=\"16\" x=\"61\" y=\"82.1543\">B1</text><line style=\"stroke: #A80036; stroke-width: 1.5;\" x1=\"33\" x2=\"79\" y1=\"94\" y2=\"94\"/></a><!--MD5=[ee3c913d1a06f366521f9ef512b67efe]\n",
       "class E13--><a href=\"psysml:080adc10-96fd-4f72-8d28-a6aae1d02a34\" target=\"_top\" title=\"psysml:080adc10-96fd-4f72-8d28-a6aae1d02a34\" xlink:actuate=\"onRequest\" xlink:href=\"psysml:080adc10-96fd-4f72-8d28-a6aae1d02a34\" xlink:show=\"new\" xlink:title=\"psysml:080adc10-96fd-4f72-8d28-a6aae1d02a34\" xlink:type=\"simple\"><rect fill=\"#FEFECE\" filter=\"url(#fxk8r8ejcmng0)\" height=\"88.3516\" id=\"E13\" rx=\"10\" ry=\"10\" style=\"stroke: #A80036; stroke-width: 1.5;\" width=\"68\" x=\"32\" y=\"183\"/><ellipse cx=\"47\" cy=\"201.9688\" fill=\"#32CD32\" rx=\"11\" ry=\"11\" style=\"stroke: #A80036; stroke-width: 1.0;\"/><path d=\"M46.7969,197.6406 L46.7969,201.2656 L47.7969,201.2656 Q49,201.2656 49.4844,200.8594 Q49.9688,200.4531 49.9688,199.4531 Q49.9688,198.4531 49.4844,198.0469 Q49,197.6406 47.7969,197.6406 L46.7969,197.6406 Z M44.3438,195.5781 L47.7031,195.5781 Q50.2656,195.5781 51.3906,196.5 Q52.5156,197.4063 52.5156,199.4531 Q52.5156,201.5 51.3906,202.4219 Q50.2656,203.3281 47.7031,203.3281 L46.7969,203.3281 L46.7969,207.9688 L44.3438,207.9688 L44.3438,195.5781 Z \"/><text fill=\"#000000\" font-family=\"sans-serif\" font-size=\"12\" font-style=\"italic\" lengthAdjust=\"spacingAndGlyphs\" textLength=\"40\" x=\"59\" y=\"199.1387\">«part»</text><text fill=\"#000000\" font-family=\"sans-serif\" font-size=\"12\" lengthAdjust=\"spacingAndGlyphs\" textLength=\"8\" x=\"75\" y=\"213.1074\">p</text><line style=\"stroke: #A80036; stroke-width: 1.5;\" x1=\"33\" x2=\"99\" y1=\"220.9375\" y2=\"220.9375\"/><text fill=\"#000000\" font-family=\"sans-serif\" font-size=\"11\" lengthAdjust=\"spacingAndGlyphs\" textLength=\"29\" x=\"38\" y=\"251.9526\">p1: P</text><text fill=\"#000000\" font-family=\"sans-serif\" font-size=\"11\" lengthAdjust=\"spacingAndGlyphs\" textLength=\"38\" x=\"38\" y=\"264.7573\">p2: ~P</text><line style=\"stroke: #A80036; stroke-width: 1.0;\" x1=\"33\" x2=\"51\" y1=\"235.3398\" y2=\"235.3398\"/><text fill=\"#000000\" font-family=\"sans-serif\" font-size=\"11\" lengthAdjust=\"spacingAndGlyphs\" textLength=\"30\" x=\"51\" y=\"238.6479\">ports</text><line style=\"stroke: #A80036; stroke-width: 1.0;\" x1=\"81\" x2=\"99\" y1=\"235.3398\" y2=\"235.3398\"/></a><!--MD5=[062ed86c389d1a88f61c6380d0491e17]\n",
       "reverse link E12 to E13--><a href=\"psysml:06665d43-130c-4b8a-bdfd-d93e6351f975\" target=\"_top\" title=\"psysml:06665d43-130c-4b8a-bdfd-d93e6351f975\" xlink:actuate=\"onRequest\" xlink:href=\"psysml:06665d43-130c-4b8a-bdfd-d93e6351f975\" xlink:show=\"new\" xlink:title=\"psysml:06665d43-130c-4b8a-bdfd-d93e6351f975\" xlink:type=\"simple\"><path d=\"M58.26,115.31 C59.65,135.24 61.46,161.03 62.97,182.71 \" fill=\"none\" id=\"E12&lt;-E13\" style=\"stroke: #A80036; stroke-width: 1.0;\"/><polygon fill=\"#A80036\" points=\"57.35,102.29,53.7754,108.5527,58.1815,114.2612,61.7561,107.9984,57.35,102.29\" style=\"stroke: #A80036; stroke-width: 1.0;\"/></a><!--MD5=[73d4283532c362b32e27bef2eca6f863]\n",
       "@startuml\r\n",
       " \r\n",
       "package \"ConjugationTest\" as E1  [[psysml:56f2a3b4-cc43-4fa3-8695-199f33536b50 ]]  {\r\n",
       "comp def \"P\" as E2  <<(D,brown)port def>> [[psysml:c0a3bc73-93c5-4b4d-b763-5833239b73fd ]] {\r\n",
       "}\r\n",
       "comp def \"B\" as E3  << (B,green) >> [[psysml:5cf63d0b-bb26-43ea-8091-2694cfd07b61 ]] {\r\n",
       "- - ports - -\r\n",
       "p1: P\r\n",
       "p2: ~P\r\n",
       "}\r\n",
       "comp def \"A\" as E6  << (B,green) >> [[psysml:c95e8ce0-7583-4d42-8de3-1e3c8277134a ]] {\r\n",
       "- - ports - -\r\n",
       "p1: P\r\n",
       "p2: ~P\r\n",
       "}\r\n",
       "comp def \"I\" as E9  << (B,green) >> [[psysml:3dca2d5e-c062-4427-93b4-bcb55890dd40 ]] {\r\n",
       "- - ports - -\r\n",
       "p1: P\r\n",
       "p2: ~P\r\n",
       "}\r\n",
       "comp def \"B1\" as E12  << (B,green) >> [[psysml:239b6b7d-2819-4aeb-bfce-341b8d8c5fb1 ]] {\r\n",
       "}\r\n",
       "comp usage \"p\" as E13  << (P,limegreen) part>> [[psysml:080adc10-96fd-4f72-8d28-a6aae1d02a34 ]] {\r\n",
       "- - ports - -\r\n",
       "p1: P\r\n",
       "p2: ~P\r\n",
       "}\r\n",
       "E12 *- - E13 [[psysml:06665d43-130c-4b8a-bdfd-d93e6351f975 ]] \r\n",
       "}\r\n",
       "@enduml\r\n",
       "\n",
       "PlantUML version 1.2020.13(Sat Jun 13 12:26:38 UTC 2020)\n",
       "(EPL source distribution)\n",
       "Java Runtime: OpenJDK Runtime Environment\n",
       "JVM: OpenJDK 64-Bit Server VM\n",
       "Default Encoding: UTF-8\n",
       "Language: en\n",
       "Country: null\n",
       "--></g></svg>"
      ]
     },
     "execution_count": 35,
     "metadata": {},
     "output_type": "execute_result"
    }
   ],
   "source": [
    "%viz --style=\"PLANTUML\" --view=\"Sequence\" \"ConjugationTest\""
   ]
  },
  {
   "cell_type": "code",
   "execution_count": 36,
   "id": "016cf67e",
   "metadata": {
    "execution": {
     "iopub.execute_input": "2021-04-20T07:00:16.015796Z",
     "iopub.status.busy": "2021-04-20T07:00:16.015265Z",
     "iopub.status.idle": "2021-04-20T07:00:16.128507Z",
     "shell.execute_reply": "2021-04-20T07:00:16.128191Z"
    }
   },
   "outputs": [
    {
     "data": {
      "image/svg+xml": [
       "<?xml version=\"1.0\" encoding=\"UTF-8\" standalone=\"no\"?><svg xmlns=\"http://www.w3.org/2000/svg\" xmlns:xlink=\"http://www.w3.org/1999/xlink\" contentScriptType=\"application/ecmascript\" contentStyleType=\"text/css\" height=\"299px\" preserveAspectRatio=\"none\" style=\"width:500px;height:299px;\" version=\"1.1\" viewBox=\"0 0 500 299\" width=\"500px\" zoomAndPan=\"magnify\"><defs><filter height=\"300%\" id=\"fxk8r8ejcmng0\" width=\"300%\" x=\"-1\" y=\"-1\"><feGaussianBlur result=\"blurOut\" stdDeviation=\"2.0\"/><feColorMatrix in=\"blurOut\" result=\"blurOut2\" type=\"matrix\" values=\"0 0 0 0 0 0 0 0 0 0 0 0 0 0 0 0 0 0 .4 0\"/><feOffset dx=\"4.0\" dy=\"4.0\" in=\"blurOut2\" result=\"blurOut3\"/><feBlend in=\"SourceGraphic\" in2=\"blurOut3\" mode=\"normal\"/></filter></defs><g><!--MD5=[fbc87193dbaf4d95561dea2c320d4a47]\n",
       "cluster E1--><a href=\"psysml:56f2a3b4-cc43-4fa3-8695-199f33536b50\" target=\"_top\" title=\"psysml:56f2a3b4-cc43-4fa3-8695-199f33536b50\" xlink:actuate=\"onRequest\" xlink:href=\"psysml:56f2a3b4-cc43-4fa3-8695-199f33536b50\" xlink:show=\"new\" xlink:title=\"psysml:56f2a3b4-cc43-4fa3-8695-199f33536b50\" xlink:type=\"simple\"><polygon fill=\"#FFFFFF\" filter=\"url(#fxk8r8ejcmng0)\" points=\"16,6,151,6,158,28.2969,478,28.2969,478,287,16,287,16,6\" style=\"stroke: #000000; stroke-width: 1.5;\"/><line style=\"stroke: #000000; stroke-width: 1.5;\" x1=\"16\" x2=\"158\" y1=\"28.2969\" y2=\"28.2969\"/><text fill=\"#000000\" font-family=\"sans-serif\" font-size=\"14\" font-weight=\"bold\" lengthAdjust=\"spacingAndGlyphs\" textLength=\"129\" x=\"20\" y=\"20.9951\">ConjugationTest</text></a><!--MD5=[b4997ac47864f28c2f74865a473b2911]\n",
       "class E2--><a href=\"psysml:c0a3bc73-93c5-4b4d-b763-5833239b73fd\" target=\"_top\" title=\"psysml:c0a3bc73-93c5-4b4d-b763-5833239b73fd\" xlink:actuate=\"onRequest\" xlink:href=\"psysml:c0a3bc73-93c5-4b4d-b763-5833239b73fd\" xlink:show=\"new\" xlink:title=\"psysml:c0a3bc73-93c5-4b4d-b763-5833239b73fd\" xlink:type=\"simple\"><rect fill=\"#FEFECE\" filter=\"url(#fxk8r8ejcmng0)\" height=\"45.9375\" id=\"E2\" style=\"stroke: #A80036; stroke-width: 1.5;\" width=\"92\" x=\"370\" y=\"59\"/><ellipse cx=\"385\" cy=\"77.9688\" fill=\"#A52A2A\" rx=\"11\" ry=\"11\" style=\"stroke: #A80036; stroke-width: 1.0;\"/><path d=\"M384.5938,73.7813 L384.5938,81.7656 L385.25,81.7656 Q386.6875,81.7656 387.2969,80.8594 Q387.9219,79.9375 387.9219,77.7656 Q387.9219,75.5938 387.2969,74.6875 Q386.6875,73.7813 385.25,73.7813 L384.5938,73.7813 Z M382.1406,71.5781 L384.7656,71.5781 Q387.7969,71.5781 389.125,73.0313 Q390.4688,74.4688 390.4688,77.7656 Q390.4688,81.0625 389.125,82.5156 Q387.7969,83.9688 384.7656,83.9688 L382.1406,83.9688 L382.1406,71.5781 Z \"/><text fill=\"#000000\" font-family=\"sans-serif\" font-size=\"12\" font-style=\"italic\" lengthAdjust=\"spacingAndGlyphs\" textLength=\"64\" x=\"397\" y=\"75.1387\">«port def»</text><text fill=\"#000000\" font-family=\"sans-serif\" font-size=\"12\" lengthAdjust=\"spacingAndGlyphs\" textLength=\"8\" x=\"425\" y=\"89.1074\">P</text><line style=\"stroke: #A80036; stroke-width: 1.5;\" x1=\"371\" x2=\"461\" y1=\"96.9375\" y2=\"96.9375\"/></a><!--MD5=[09b614a08d8cba4a07c9adeb5e0fee81]\n",
       "class E3--><a href=\"psysml:5cf63d0b-bb26-43ea-8091-2694cfd07b61\" target=\"_top\" title=\"psysml:5cf63d0b-bb26-43ea-8091-2694cfd07b61\" xlink:actuate=\"onRequest\" xlink:href=\"psysml:5cf63d0b-bb26-43ea-8091-2694cfd07b61\" xlink:show=\"new\" xlink:title=\"psysml:5cf63d0b-bb26-43ea-8091-2694cfd07b61\" xlink:type=\"simple\"><rect fill=\"#FEFECE\" filter=\"url(#fxk8r8ejcmng0)\" height=\"82.4141\" id=\"E3\" style=\"stroke: #A80036; stroke-width: 1.5;\" width=\"50\" x=\"285\" y=\"41\"/><ellipse cx=\"304.5\" cy=\"57\" fill=\"#008000\" rx=\"11\" ry=\"11\" style=\"stroke: #A80036; stroke-width: 1.0;\"/><path d=\"M303.4063,57.375 L303.4063,61.0469 L305.0313,61.0469 Q306.2031,61.0469 306.6719,60.6563 Q307.1406,60.25 307.1406,59.25 Q307.1406,58.25 306.6406,57.8125 Q306.1563,57.375 305.0313,57.375 L303.4063,57.375 Z M303.4063,52.5469 L303.4063,55.4219 L305.0313,55.4219 Q305.9531,55.4219 306.3438,55.0938 Q306.75,54.75 306.75,54 Q306.75,53.2344 306.3438,52.8906 Q305.9375,52.5469 305.0313,52.5469 L303.4063,52.5469 Z M301.0313,50.5938 L305.0313,50.5938 Q307.0938,50.5938 308.1406,51.375 Q309.1875,52.1563 309.1875,53.7188 Q309.1875,54.9219 308.5625,55.5938 Q307.9531,56.2656 306.7656,56.375 Q308.1875,56.5156 308.9063,57.3281 Q309.625,58.1406 309.625,59.5938 Q309.625,61.3906 308.5469,62.2031 Q307.4688,63 305.0313,63 L301.0313,63 L301.0313,50.5938 Z \"/><text fill=\"#000000\" font-family=\"sans-serif\" font-size=\"12\" lengthAdjust=\"spacingAndGlyphs\" textLength=\"8\" x=\"319.5\" y=\"61.1543\">B</text><line style=\"stroke: #A80036; stroke-width: 1.5;\" x1=\"286\" x2=\"334\" y1=\"73\" y2=\"73\"/><text fill=\"#000000\" font-family=\"sans-serif\" font-size=\"11\" lengthAdjust=\"spacingAndGlyphs\" textLength=\"29\" x=\"291\" y=\"104.0151\">p1: P</text><text fill=\"#000000\" font-family=\"sans-serif\" font-size=\"11\" lengthAdjust=\"spacingAndGlyphs\" textLength=\"38\" x=\"291\" y=\"116.8198\">p2: ~P</text><line style=\"stroke: #A80036; stroke-width: 1.0;\" x1=\"286\" x2=\"295\" y1=\"87.4023\" y2=\"87.4023\"/><text fill=\"#000000\" font-family=\"sans-serif\" font-size=\"11\" lengthAdjust=\"spacingAndGlyphs\" textLength=\"30\" x=\"295\" y=\"90.7104\">ports</text><line style=\"stroke: #A80036; stroke-width: 1.0;\" x1=\"325\" x2=\"334\" y1=\"87.4023\" y2=\"87.4023\"/></a><!--MD5=[60a26617385b1d2d0262a64233df1f8d]\n",
       "class E6--><a href=\"psysml:c95e8ce0-7583-4d42-8de3-1e3c8277134a\" target=\"_top\" title=\"psysml:c95e8ce0-7583-4d42-8de3-1e3c8277134a\" xlink:actuate=\"onRequest\" xlink:href=\"psysml:c95e8ce0-7583-4d42-8de3-1e3c8277134a\" xlink:show=\"new\" xlink:title=\"psysml:c95e8ce0-7583-4d42-8de3-1e3c8277134a\" xlink:type=\"simple\"><rect fill=\"#FEFECE\" filter=\"url(#fxk8r8ejcmng0)\" height=\"82.4141\" id=\"E6\" style=\"stroke: #A80036; stroke-width: 1.5;\" width=\"50\" x=\"200\" y=\"41\"/><ellipse cx=\"219.5\" cy=\"57\" fill=\"#008000\" rx=\"11\" ry=\"11\" style=\"stroke: #A80036; stroke-width: 1.0;\"/><path d=\"M218.4063,57.375 L218.4063,61.0469 L220.0313,61.0469 Q221.2031,61.0469 221.6719,60.6563 Q222.1406,60.25 222.1406,59.25 Q222.1406,58.25 221.6406,57.8125 Q221.1563,57.375 220.0313,57.375 L218.4063,57.375 Z M218.4063,52.5469 L218.4063,55.4219 L220.0313,55.4219 Q220.9531,55.4219 221.3438,55.0938 Q221.75,54.75 221.75,54 Q221.75,53.2344 221.3438,52.8906 Q220.9375,52.5469 220.0313,52.5469 L218.4063,52.5469 Z M216.0313,50.5938 L220.0313,50.5938 Q222.0938,50.5938 223.1406,51.375 Q224.1875,52.1563 224.1875,53.7188 Q224.1875,54.9219 223.5625,55.5938 Q222.9531,56.2656 221.7656,56.375 Q223.1875,56.5156 223.9063,57.3281 Q224.625,58.1406 224.625,59.5938 Q224.625,61.3906 223.5469,62.2031 Q222.4688,63 220.0313,63 L216.0313,63 L216.0313,50.5938 Z \"/><text fill=\"#000000\" font-family=\"sans-serif\" font-size=\"12\" lengthAdjust=\"spacingAndGlyphs\" textLength=\"8\" x=\"234.5\" y=\"61.1543\">A</text><line style=\"stroke: #A80036; stroke-width: 1.5;\" x1=\"201\" x2=\"249\" y1=\"73\" y2=\"73\"/><text fill=\"#000000\" font-family=\"sans-serif\" font-size=\"11\" lengthAdjust=\"spacingAndGlyphs\" textLength=\"29\" x=\"206\" y=\"104.0151\">p1: P</text><text fill=\"#000000\" font-family=\"sans-serif\" font-size=\"11\" lengthAdjust=\"spacingAndGlyphs\" textLength=\"38\" x=\"206\" y=\"116.8198\">p2: ~P</text><line style=\"stroke: #A80036; stroke-width: 1.0;\" x1=\"201\" x2=\"210\" y1=\"87.4023\" y2=\"87.4023\"/><text fill=\"#000000\" font-family=\"sans-serif\" font-size=\"11\" lengthAdjust=\"spacingAndGlyphs\" textLength=\"30\" x=\"210\" y=\"90.7104\">ports</text><line style=\"stroke: #A80036; stroke-width: 1.0;\" x1=\"240\" x2=\"249\" y1=\"87.4023\" y2=\"87.4023\"/></a><!--MD5=[fd4143e9d270a159db93a4ea2a975926]\n",
       "class E9--><a href=\"psysml:3dca2d5e-c062-4427-93b4-bcb55890dd40\" target=\"_top\" title=\"psysml:3dca2d5e-c062-4427-93b4-bcb55890dd40\" xlink:actuate=\"onRequest\" xlink:href=\"psysml:3dca2d5e-c062-4427-93b4-bcb55890dd40\" xlink:show=\"new\" xlink:title=\"psysml:3dca2d5e-c062-4427-93b4-bcb55890dd40\" xlink:type=\"simple\"><rect fill=\"#FEFECE\" filter=\"url(#fxk8r8ejcmng0)\" height=\"82.4141\" id=\"E9\" style=\"stroke: #A80036; stroke-width: 1.5;\" width=\"50\" x=\"115\" y=\"41\"/><ellipse cx=\"136.75\" cy=\"57\" fill=\"#008000\" rx=\"11\" ry=\"11\" style=\"stroke: #A80036; stroke-width: 1.0;\"/><path d=\"M135.6563,57.375 L135.6563,61.0469 L137.2813,61.0469 Q138.4531,61.0469 138.9219,60.6563 Q139.3906,60.25 139.3906,59.25 Q139.3906,58.25 138.8906,57.8125 Q138.4063,57.375 137.2813,57.375 L135.6563,57.375 Z M135.6563,52.5469 L135.6563,55.4219 L137.2813,55.4219 Q138.2031,55.4219 138.5938,55.0938 Q139,54.75 139,54 Q139,53.2344 138.5938,52.8906 Q138.1875,52.5469 137.2813,52.5469 L135.6563,52.5469 Z M133.2813,50.5938 L137.2813,50.5938 Q139.3438,50.5938 140.3906,51.375 Q141.4375,52.1563 141.4375,53.7188 Q141.4375,54.9219 140.8125,55.5938 Q140.2031,56.2656 139.0156,56.375 Q140.4375,56.5156 141.1563,57.3281 Q141.875,58.1406 141.875,59.5938 Q141.875,61.3906 140.7969,62.2031 Q139.7188,63 137.2813,63 L133.2813,63 L133.2813,50.5938 Z \"/><text fill=\"#000000\" font-family=\"sans-serif\" font-size=\"12\" lengthAdjust=\"spacingAndGlyphs\" textLength=\"3\" x=\"152.25\" y=\"61.1543\">I</text><line style=\"stroke: #A80036; stroke-width: 1.5;\" x1=\"116\" x2=\"164\" y1=\"73\" y2=\"73\"/><text fill=\"#000000\" font-family=\"sans-serif\" font-size=\"11\" lengthAdjust=\"spacingAndGlyphs\" textLength=\"29\" x=\"121\" y=\"104.0151\">p1: P</text><text fill=\"#000000\" font-family=\"sans-serif\" font-size=\"11\" lengthAdjust=\"spacingAndGlyphs\" textLength=\"38\" x=\"121\" y=\"116.8198\">p2: ~P</text><line style=\"stroke: #A80036; stroke-width: 1.0;\" x1=\"116\" x2=\"125\" y1=\"87.4023\" y2=\"87.4023\"/><text fill=\"#000000\" font-family=\"sans-serif\" font-size=\"11\" lengthAdjust=\"spacingAndGlyphs\" textLength=\"30\" x=\"125\" y=\"90.7104\">ports</text><line style=\"stroke: #A80036; stroke-width: 1.0;\" x1=\"155\" x2=\"164\" y1=\"87.4023\" y2=\"87.4023\"/></a><!--MD5=[49a0ec8f00dab7302a31f22d0f0fe584]\n",
       "class E12--><a href=\"psysml:239b6b7d-2819-4aeb-bfce-341b8d8c5fb1\" target=\"_top\" title=\"psysml:239b6b7d-2819-4aeb-bfce-341b8d8c5fb1\" xlink:actuate=\"onRequest\" xlink:href=\"psysml:239b6b7d-2819-4aeb-bfce-341b8d8c5fb1\" xlink:show=\"new\" xlink:title=\"psysml:239b6b7d-2819-4aeb-bfce-341b8d8c5fb1\" xlink:type=\"simple\"><rect fill=\"#FEFECE\" filter=\"url(#fxk8r8ejcmng0)\" height=\"40\" id=\"E12\" style=\"stroke: #A80036; stroke-width: 1.5;\" width=\"48\" x=\"32\" y=\"62\"/><ellipse cx=\"47\" cy=\"78\" fill=\"#008000\" rx=\"11\" ry=\"11\" style=\"stroke: #A80036; stroke-width: 1.0;\"/><path d=\"M45.9063,78.375 L45.9063,82.0469 L47.5313,82.0469 Q48.7031,82.0469 49.1719,81.6563 Q49.6406,81.25 49.6406,80.25 Q49.6406,79.25 49.1406,78.8125 Q48.6563,78.375 47.5313,78.375 L45.9063,78.375 Z M45.9063,73.5469 L45.9063,76.4219 L47.5313,76.4219 Q48.4531,76.4219 48.8438,76.0938 Q49.25,75.75 49.25,75 Q49.25,74.2344 48.8438,73.8906 Q48.4375,73.5469 47.5313,73.5469 L45.9063,73.5469 Z M43.5313,71.5938 L47.5313,71.5938 Q49.5938,71.5938 50.6406,72.375 Q51.6875,73.1563 51.6875,74.7188 Q51.6875,75.9219 51.0625,76.5938 Q50.4531,77.2656 49.2656,77.375 Q50.6875,77.5156 51.4063,78.3281 Q52.125,79.1406 52.125,80.5938 Q52.125,82.3906 51.0469,83.2031 Q49.9688,84 47.5313,84 L43.5313,84 L43.5313,71.5938 Z \"/><text fill=\"#000000\" font-family=\"sans-serif\" font-size=\"12\" lengthAdjust=\"spacingAndGlyphs\" textLength=\"16\" x=\"61\" y=\"82.1543\">B1</text><line style=\"stroke: #A80036; stroke-width: 1.5;\" x1=\"33\" x2=\"79\" y1=\"94\" y2=\"94\"/></a><!--MD5=[ee3c913d1a06f366521f9ef512b67efe]\n",
       "class E13--><a href=\"psysml:080adc10-96fd-4f72-8d28-a6aae1d02a34\" target=\"_top\" title=\"psysml:080adc10-96fd-4f72-8d28-a6aae1d02a34\" xlink:actuate=\"onRequest\" xlink:href=\"psysml:080adc10-96fd-4f72-8d28-a6aae1d02a34\" xlink:show=\"new\" xlink:title=\"psysml:080adc10-96fd-4f72-8d28-a6aae1d02a34\" xlink:type=\"simple\"><rect fill=\"#FEFECE\" filter=\"url(#fxk8r8ejcmng0)\" height=\"88.3516\" id=\"E13\" rx=\"10\" ry=\"10\" style=\"stroke: #A80036; stroke-width: 1.5;\" width=\"68\" x=\"32\" y=\"183\"/><ellipse cx=\"47\" cy=\"201.9688\" fill=\"#32CD32\" rx=\"11\" ry=\"11\" style=\"stroke: #A80036; stroke-width: 1.0;\"/><path d=\"M46.7969,197.6406 L46.7969,201.2656 L47.7969,201.2656 Q49,201.2656 49.4844,200.8594 Q49.9688,200.4531 49.9688,199.4531 Q49.9688,198.4531 49.4844,198.0469 Q49,197.6406 47.7969,197.6406 L46.7969,197.6406 Z M44.3438,195.5781 L47.7031,195.5781 Q50.2656,195.5781 51.3906,196.5 Q52.5156,197.4063 52.5156,199.4531 Q52.5156,201.5 51.3906,202.4219 Q50.2656,203.3281 47.7031,203.3281 L46.7969,203.3281 L46.7969,207.9688 L44.3438,207.9688 L44.3438,195.5781 Z \"/><text fill=\"#000000\" font-family=\"sans-serif\" font-size=\"12\" font-style=\"italic\" lengthAdjust=\"spacingAndGlyphs\" textLength=\"40\" x=\"59\" y=\"199.1387\">«part»</text><text fill=\"#000000\" font-family=\"sans-serif\" font-size=\"12\" lengthAdjust=\"spacingAndGlyphs\" textLength=\"8\" x=\"75\" y=\"213.1074\">p</text><line style=\"stroke: #A80036; stroke-width: 1.5;\" x1=\"33\" x2=\"99\" y1=\"220.9375\" y2=\"220.9375\"/><text fill=\"#000000\" font-family=\"sans-serif\" font-size=\"11\" lengthAdjust=\"spacingAndGlyphs\" textLength=\"29\" x=\"38\" y=\"251.9526\">p1: P</text><text fill=\"#000000\" font-family=\"sans-serif\" font-size=\"11\" lengthAdjust=\"spacingAndGlyphs\" textLength=\"38\" x=\"38\" y=\"264.7573\">p2: ~P</text><line style=\"stroke: #A80036; stroke-width: 1.0;\" x1=\"33\" x2=\"51\" y1=\"235.3398\" y2=\"235.3398\"/><text fill=\"#000000\" font-family=\"sans-serif\" font-size=\"11\" lengthAdjust=\"spacingAndGlyphs\" textLength=\"30\" x=\"51\" y=\"238.6479\">ports</text><line style=\"stroke: #A80036; stroke-width: 1.0;\" x1=\"81\" x2=\"99\" y1=\"235.3398\" y2=\"235.3398\"/></a><!--MD5=[062ed86c389d1a88f61c6380d0491e17]\n",
       "reverse link E12 to E13--><a href=\"psysml:06665d43-130c-4b8a-bdfd-d93e6351f975\" target=\"_top\" title=\"psysml:06665d43-130c-4b8a-bdfd-d93e6351f975\" xlink:actuate=\"onRequest\" xlink:href=\"psysml:06665d43-130c-4b8a-bdfd-d93e6351f975\" xlink:show=\"new\" xlink:title=\"psysml:06665d43-130c-4b8a-bdfd-d93e6351f975\" xlink:type=\"simple\"><path d=\"M58.26,115.31 C59.65,135.24 61.46,161.03 62.97,182.71 \" fill=\"none\" id=\"E12&lt;-E13\" style=\"stroke: #A80036; stroke-width: 1.0;\"/><polygon fill=\"#A80036\" points=\"57.35,102.29,53.7754,108.5527,58.1815,114.2612,61.7561,107.9984,57.35,102.29\" style=\"stroke: #A80036; stroke-width: 1.0;\"/></a><!--MD5=[73d4283532c362b32e27bef2eca6f863]\n",
       "@startuml\r\n",
       " \r\n",
       "package \"ConjugationTest\" as E1  [[psysml:56f2a3b4-cc43-4fa3-8695-199f33536b50 ]]  {\r\n",
       "comp def \"P\" as E2  <<(D,brown)port def>> [[psysml:c0a3bc73-93c5-4b4d-b763-5833239b73fd ]] {\r\n",
       "}\r\n",
       "comp def \"B\" as E3  << (B,green) >> [[psysml:5cf63d0b-bb26-43ea-8091-2694cfd07b61 ]] {\r\n",
       "- - ports - -\r\n",
       "p1: P\r\n",
       "p2: ~P\r\n",
       "}\r\n",
       "comp def \"A\" as E6  << (B,green) >> [[psysml:c95e8ce0-7583-4d42-8de3-1e3c8277134a ]] {\r\n",
       "- - ports - -\r\n",
       "p1: P\r\n",
       "p2: ~P\r\n",
       "}\r\n",
       "comp def \"I\" as E9  << (B,green) >> [[psysml:3dca2d5e-c062-4427-93b4-bcb55890dd40 ]] {\r\n",
       "- - ports - -\r\n",
       "p1: P\r\n",
       "p2: ~P\r\n",
       "}\r\n",
       "comp def \"B1\" as E12  << (B,green) >> [[psysml:239b6b7d-2819-4aeb-bfce-341b8d8c5fb1 ]] {\r\n",
       "}\r\n",
       "comp usage \"p\" as E13  << (P,limegreen) part>> [[psysml:080adc10-96fd-4f72-8d28-a6aae1d02a34 ]] {\r\n",
       "- - ports - -\r\n",
       "p1: P\r\n",
       "p2: ~P\r\n",
       "}\r\n",
       "E12 *- - E13 [[psysml:06665d43-130c-4b8a-bdfd-d93e6351f975 ]] \r\n",
       "}\r\n",
       "@enduml\r\n",
       "\n",
       "PlantUML version 1.2020.13(Sat Jun 13 12:26:38 UTC 2020)\n",
       "(EPL source distribution)\n",
       "Java Runtime: OpenJDK Runtime Environment\n",
       "JVM: OpenJDK 64-Bit Server VM\n",
       "Default Encoding: UTF-8\n",
       "Language: en\n",
       "Country: null\n",
       "--></g></svg>"
      ]
     },
     "execution_count": 36,
     "metadata": {},
     "output_type": "execute_result"
    }
   ],
   "source": [
    "%viz --style=\"PLANTUML\" --view=\"MIXED\" \"ConjugationTest\""
   ]
  },
  {
   "cell_type": "code",
   "execution_count": 37,
   "id": "8fd8a921",
   "metadata": {
    "execution": {
     "iopub.execute_input": "2021-04-20T07:00:16.179162Z",
     "iopub.status.busy": "2021-04-20T07:00:16.178610Z",
     "iopub.status.idle": "2021-04-20T07:00:16.279576Z",
     "shell.execute_reply": "2021-04-20T07:00:16.279213Z"
    }
   },
   "outputs": [
    {
     "data": {
      "image/svg+xml": [
       "<?xml version=\"1.0\" encoding=\"UTF-8\" standalone=\"no\"?><svg xmlns=\"http://www.w3.org/2000/svg\" xmlns:xlink=\"http://www.w3.org/1999/xlink\" contentScriptType=\"application/ecmascript\" contentStyleType=\"text/css\" height=\"305px\" preserveAspectRatio=\"none\" style=\"width:614px;height:305px;\" version=\"1.1\" viewBox=\"0 0 614 305\" width=\"614px\" zoomAndPan=\"magnify\"><defs/><g><!--MD5=[fbc87193dbaf4d95561dea2c320d4a47]\n",
       "cluster E1--><a href=\"psysml:56f2a3b4-cc43-4fa3-8695-199f33536b50\" target=\"_top\" title=\"psysml:56f2a3b4-cc43-4fa3-8695-199f33536b50\" xlink:actuate=\"onRequest\" xlink:href=\"psysml:56f2a3b4-cc43-4fa3-8695-199f33536b50\" xlink:show=\"new\" xlink:title=\"psysml:56f2a3b4-cc43-4fa3-8695-199f33536b50\" xlink:type=\"simple\"><polygon fill=\"#FFFFFF\" points=\"16,6,151,6,158,28.2969,592,28.2969,592,293,16,293,16,6\" style=\"stroke: #000000; stroke-width: 1.5;\"/><line style=\"stroke: #000000; stroke-width: 1.5;\" x1=\"16\" x2=\"158\" y1=\"28.2969\" y2=\"28.2969\"/><text fill=\"#000000\" font-family=\"sans-serif\" font-size=\"14\" font-weight=\"bold\" lengthAdjust=\"spacingAndGlyphs\" textLength=\"129\" x=\"20\" y=\"20.9951\">ConjugationTest</text></a><!--MD5=[b4997ac47864f28c2f74865a473b2911]\n",
       "class E2--><a href=\"psysml:c0a3bc73-93c5-4b4d-b763-5833239b73fd\" target=\"_top\" title=\"psysml:c0a3bc73-93c5-4b4d-b763-5833239b73fd\" xlink:actuate=\"onRequest\" xlink:href=\"psysml:c0a3bc73-93c5-4b4d-b763-5833239b73fd\" xlink:show=\"new\" xlink:title=\"psysml:c0a3bc73-93c5-4b4d-b763-5833239b73fd\" xlink:type=\"simple\"><rect fill=\"#FFFFFF\" height=\"45.9375\" id=\"E2\" style=\"stroke: #383838; stroke-width: 1.5;\" width=\"66\" x=\"510\" y=\"62\"/><text fill=\"#000000\" font-family=\"sans-serif\" font-size=\"12\" font-style=\"italic\" lengthAdjust=\"spacingAndGlyphs\" textLength=\"64\" x=\"511\" y=\"78.1387\">«port def»</text><text fill=\"#000000\" font-family=\"sans-serif\" font-size=\"12\" lengthAdjust=\"spacingAndGlyphs\" textLength=\"8\" x=\"539\" y=\"92.1074\">P</text><line style=\"stroke: #383838; stroke-width: 1.5;\" x1=\"511\" x2=\"575\" y1=\"99.9375\" y2=\"99.9375\"/></a><!--MD5=[09b614a08d8cba4a07c9adeb5e0fee81]\n",
       "class E3--><a href=\"psysml:5cf63d0b-bb26-43ea-8091-2694cfd07b61\" target=\"_top\" title=\"psysml:5cf63d0b-bb26-43ea-8091-2694cfd07b61\" xlink:actuate=\"onRequest\" xlink:href=\"psysml:5cf63d0b-bb26-43ea-8091-2694cfd07b61\" xlink:show=\"new\" xlink:title=\"psysml:5cf63d0b-bb26-43ea-8091-2694cfd07b61\" xlink:type=\"simple\"><rect fill=\"#FFFFFF\" height=\"88.3516\" id=\"E3\" style=\"stroke: #383838; stroke-width: 1.5;\" width=\"66\" x=\"409\" y=\"41\"/><text fill=\"#000000\" font-family=\"sans-serif\" font-size=\"12\" font-style=\"italic\" lengthAdjust=\"spacingAndGlyphs\" textLength=\"64\" x=\"410\" y=\"57.1387\">«part def»</text><text fill=\"#000000\" font-family=\"sans-serif\" font-size=\"12\" lengthAdjust=\"spacingAndGlyphs\" textLength=\"8\" x=\"438\" y=\"71.1074\">B</text><line style=\"stroke: #383838; stroke-width: 1.5;\" x1=\"410\" x2=\"474\" y1=\"78.9375\" y2=\"78.9375\"/><text fill=\"#000000\" font-family=\"sans-serif\" font-size=\"11\" lengthAdjust=\"spacingAndGlyphs\" textLength=\"29\" x=\"415\" y=\"109.9526\">p1: P</text><text fill=\"#000000\" font-family=\"sans-serif\" font-size=\"11\" lengthAdjust=\"spacingAndGlyphs\" textLength=\"38\" x=\"415\" y=\"122.7573\">p2: ~P</text><line style=\"stroke: #383838; stroke-width: 1.0;\" x1=\"410\" x2=\"427\" y1=\"93.3398\" y2=\"93.3398\"/><text fill=\"#000000\" font-family=\"sans-serif\" font-size=\"11\" lengthAdjust=\"spacingAndGlyphs\" textLength=\"30\" x=\"427\" y=\"96.6479\">ports</text><line style=\"stroke: #383838; stroke-width: 1.0;\" x1=\"457\" x2=\"474\" y1=\"93.3398\" y2=\"93.3398\"/></a><!--MD5=[60a26617385b1d2d0262a64233df1f8d]\n",
       "class E6--><a href=\"psysml:c95e8ce0-7583-4d42-8de3-1e3c8277134a\" target=\"_top\" title=\"psysml:c95e8ce0-7583-4d42-8de3-1e3c8277134a\" xlink:actuate=\"onRequest\" xlink:href=\"psysml:c95e8ce0-7583-4d42-8de3-1e3c8277134a\" xlink:show=\"new\" xlink:title=\"psysml:c95e8ce0-7583-4d42-8de3-1e3c8277134a\" xlink:type=\"simple\"><rect fill=\"#FFFFFF\" height=\"88.3516\" id=\"E6\" style=\"stroke: #383838; stroke-width: 1.5;\" width=\"110\" x=\"264\" y=\"41\"/><text fill=\"#000000\" font-family=\"sans-serif\" font-size=\"12\" font-style=\"italic\" lengthAdjust=\"spacingAndGlyphs\" textLength=\"108\" x=\"265\" y=\"57.1387\">«connection def»</text><text fill=\"#000000\" font-family=\"sans-serif\" font-size=\"12\" lengthAdjust=\"spacingAndGlyphs\" textLength=\"8\" x=\"315\" y=\"71.1074\">A</text><line style=\"stroke: #383838; stroke-width: 1.5;\" x1=\"265\" x2=\"373\" y1=\"78.9375\" y2=\"78.9375\"/><text fill=\"#000000\" font-family=\"sans-serif\" font-size=\"11\" lengthAdjust=\"spacingAndGlyphs\" textLength=\"29\" x=\"270\" y=\"109.9526\">p1: P</text><text fill=\"#000000\" font-family=\"sans-serif\" font-size=\"11\" lengthAdjust=\"spacingAndGlyphs\" textLength=\"38\" x=\"270\" y=\"122.7573\">p2: ~P</text><line style=\"stroke: #383838; stroke-width: 1.0;\" x1=\"265\" x2=\"304\" y1=\"93.3398\" y2=\"93.3398\"/><text fill=\"#000000\" font-family=\"sans-serif\" font-size=\"11\" lengthAdjust=\"spacingAndGlyphs\" textLength=\"30\" x=\"304\" y=\"96.6479\">ports</text><line style=\"stroke: #383838; stroke-width: 1.0;\" x1=\"334\" x2=\"373\" y1=\"93.3398\" y2=\"93.3398\"/></a><!--MD5=[fd4143e9d270a159db93a4ea2a975926]\n",
       "class E9--><a href=\"psysml:3dca2d5e-c062-4427-93b4-bcb55890dd40\" target=\"_top\" title=\"psysml:3dca2d5e-c062-4427-93b4-bcb55890dd40\" xlink:actuate=\"onRequest\" xlink:href=\"psysml:3dca2d5e-c062-4427-93b4-bcb55890dd40\" xlink:show=\"new\" xlink:title=\"psysml:3dca2d5e-c062-4427-93b4-bcb55890dd40\" xlink:type=\"simple\"><rect fill=\"#FFFFFF\" height=\"88.3516\" id=\"E9\" style=\"stroke: #383838; stroke-width: 1.5;\" width=\"96\" x=\"133\" y=\"41\"/><text fill=\"#000000\" font-family=\"sans-serif\" font-size=\"12\" font-style=\"italic\" lengthAdjust=\"spacingAndGlyphs\" textLength=\"94\" x=\"134\" y=\"57.1387\">«interface def»</text><text fill=\"#000000\" font-family=\"sans-serif\" font-size=\"12\" lengthAdjust=\"spacingAndGlyphs\" textLength=\"3\" x=\"179.5\" y=\"71.1074\">I</text><line style=\"stroke: #383838; stroke-width: 1.5;\" x1=\"134\" x2=\"228\" y1=\"78.9375\" y2=\"78.9375\"/><text fill=\"#000000\" font-family=\"sans-serif\" font-size=\"11\" lengthAdjust=\"spacingAndGlyphs\" textLength=\"29\" x=\"139\" y=\"109.9526\">p1: P</text><text fill=\"#000000\" font-family=\"sans-serif\" font-size=\"11\" lengthAdjust=\"spacingAndGlyphs\" textLength=\"38\" x=\"139\" y=\"122.7573\">p2: ~P</text><line style=\"stroke: #383838; stroke-width: 1.0;\" x1=\"134\" x2=\"166\" y1=\"93.3398\" y2=\"93.3398\"/><text fill=\"#000000\" font-family=\"sans-serif\" font-size=\"11\" lengthAdjust=\"spacingAndGlyphs\" textLength=\"30\" x=\"166\" y=\"96.6479\">ports</text><line style=\"stroke: #383838; stroke-width: 1.0;\" x1=\"196\" x2=\"228\" y1=\"93.3398\" y2=\"93.3398\"/></a><!--MD5=[49a0ec8f00dab7302a31f22d0f0fe584]\n",
       "class E12--><a href=\"psysml:239b6b7d-2819-4aeb-bfce-341b8d8c5fb1\" target=\"_top\" title=\"psysml:239b6b7d-2819-4aeb-bfce-341b8d8c5fb1\" xlink:actuate=\"onRequest\" xlink:href=\"psysml:239b6b7d-2819-4aeb-bfce-341b8d8c5fb1\" xlink:show=\"new\" xlink:title=\"psysml:239b6b7d-2819-4aeb-bfce-341b8d8c5fb1\" xlink:type=\"simple\"><rect fill=\"#FFFFFF\" height=\"45.9375\" id=\"E12\" style=\"stroke: #383838; stroke-width: 1.5;\" width=\"66\" x=\"32\" y=\"62\"/><text fill=\"#000000\" font-family=\"sans-serif\" font-size=\"12\" font-style=\"italic\" lengthAdjust=\"spacingAndGlyphs\" textLength=\"64\" x=\"33\" y=\"78.1387\">«part def»</text><text fill=\"#000000\" font-family=\"sans-serif\" font-size=\"12\" lengthAdjust=\"spacingAndGlyphs\" textLength=\"16\" x=\"57\" y=\"92.1074\">B1</text><line style=\"stroke: #383838; stroke-width: 1.5;\" x1=\"33\" x2=\"97\" y1=\"99.9375\" y2=\"99.9375\"/></a><!--MD5=[ee3c913d1a06f366521f9ef512b67efe]\n",
       "class E13--><a href=\"psysml:080adc10-96fd-4f72-8d28-a6aae1d02a34\" target=\"_top\" title=\"psysml:080adc10-96fd-4f72-8d28-a6aae1d02a34\" xlink:actuate=\"onRequest\" xlink:href=\"psysml:080adc10-96fd-4f72-8d28-a6aae1d02a34\" xlink:show=\"new\" xlink:title=\"psysml:080adc10-96fd-4f72-8d28-a6aae1d02a34\" xlink:type=\"simple\"><rect fill=\"#FFFFFF\" height=\"88.3516\" id=\"E13\" rx=\"10\" ry=\"10\" style=\"stroke: #383838; stroke-width: 1.5;\" width=\"50\" x=\"40\" y=\"189\"/><text fill=\"#000000\" font-family=\"sans-serif\" font-size=\"12\" font-style=\"italic\" lengthAdjust=\"spacingAndGlyphs\" textLength=\"40\" x=\"45\" y=\"205.1387\">«part»</text><text fill=\"#000000\" font-family=\"sans-serif\" font-size=\"12\" lengthAdjust=\"spacingAndGlyphs\" textLength=\"8\" x=\"61\" y=\"219.1074\">p</text><line style=\"stroke: #383838; stroke-width: 1.5;\" x1=\"41\" x2=\"89\" y1=\"226.9375\" y2=\"226.9375\"/><text fill=\"#000000\" font-family=\"sans-serif\" font-size=\"11\" lengthAdjust=\"spacingAndGlyphs\" textLength=\"29\" x=\"46\" y=\"257.9526\">p1: P</text><text fill=\"#000000\" font-family=\"sans-serif\" font-size=\"11\" lengthAdjust=\"spacingAndGlyphs\" textLength=\"38\" x=\"46\" y=\"270.7573\">p2: ~P</text><line style=\"stroke: #383838; stroke-width: 1.0;\" x1=\"41\" x2=\"50\" y1=\"241.3398\" y2=\"241.3398\"/><text fill=\"#000000\" font-family=\"sans-serif\" font-size=\"11\" lengthAdjust=\"spacingAndGlyphs\" textLength=\"30\" x=\"50\" y=\"244.6479\">ports</text><line style=\"stroke: #383838; stroke-width: 1.0;\" x1=\"80\" x2=\"89\" y1=\"241.3398\" y2=\"241.3398\"/></a><!--MD5=[062ed86c389d1a88f61c6380d0491e17]\n",
       "reverse link E12 to E13--><a href=\"psysml:06665d43-130c-4b8a-bdfd-d93e6351f975\" target=\"_top\" title=\"psysml:06665d43-130c-4b8a-bdfd-d93e6351f975\" xlink:actuate=\"onRequest\" xlink:href=\"psysml:06665d43-130c-4b8a-bdfd-d93e6351f975\" xlink:show=\"new\" xlink:title=\"psysml:06665d43-130c-4b8a-bdfd-d93e6351f975\" xlink:type=\"simple\"><path d=\"M65,121.25 C65,141.54 65,167.2 65,188.71 \" fill=\"none\" id=\"E12&lt;-E13\" style=\"stroke: #383838; stroke-width: 1.0;\"/><polygon fill=\"#383838\" points=\"65,108.17,61,114.17,65,120.17,69,114.17,65,108.17\" style=\"stroke: #383838; stroke-width: 1.0;\"/></a><!--MD5=[410cecb450897cff08a28bea486b9f1f]\n",
       "@startuml\r\n",
       "skinparam monochrome true\r\n",
       "skinparam classbackgroundcolor white\r\n",
       "skinparam shadowing false\r\n",
       "skinparam wrapWidth 300\r\n",
       "hide circle\r\n",
       "\r\n",
       "package \"ConjugationTest\" as E1  [[psysml:56f2a3b4-cc43-4fa3-8695-199f33536b50 ]]  {\r\n",
       "comp def \"P\" as E2  <<(T,blue)port def>> [[psysml:c0a3bc73-93c5-4b4d-b763-5833239b73fd ]] {\r\n",
       "}\r\n",
       "comp def \"B\" as E3  <<(T,blue)part def>> [[psysml:5cf63d0b-bb26-43ea-8091-2694cfd07b61 ]] {\r\n",
       "- - ports - -\r\n",
       "p1: P\r\n",
       "p2: ~P\r\n",
       "}\r\n",
       "comp def \"A\" as E6  <<(T,blue)connection def>> [[psysml:c95e8ce0-7583-4d42-8de3-1e3c8277134a ]] {\r\n",
       "- - ports - -\r\n",
       "p1: P\r\n",
       "p2: ~P\r\n",
       "}\r\n",
       "comp def \"I\" as E9  <<(T,blue)interface def>> [[psysml:3dca2d5e-c062-4427-93b4-bcb55890dd40 ]] {\r\n",
       "- - ports - -\r\n",
       "p1: P\r\n",
       "p2: ~P\r\n",
       "}\r\n",
       "comp def \"B1\" as E12  <<(T,blue)part def>> [[psysml:239b6b7d-2819-4aeb-bfce-341b8d8c5fb1 ]] {\r\n",
       "}\r\n",
       "comp usage \"p\" as E13  <<(T,blue)part>> [[psysml:080adc10-96fd-4f72-8d28-a6aae1d02a34 ]] {\r\n",
       "- - ports - -\r\n",
       "p1: P\r\n",
       "p2: ~P\r\n",
       "}\r\n",
       "E12 *- - E13 [[psysml:06665d43-130c-4b8a-bdfd-d93e6351f975 ]] \r\n",
       "}\r\n",
       "@enduml\r\n",
       "\n",
       "PlantUML version 1.2020.13(Sat Jun 13 12:26:38 UTC 2020)\n",
       "(EPL source distribution)\n",
       "Java Runtime: OpenJDK Runtime Environment\n",
       "JVM: OpenJDK 64-Bit Server VM\n",
       "Default Encoding: UTF-8\n",
       "Language: en\n",
       "Country: null\n",
       "--></g></svg>"
      ]
     },
     "execution_count": 37,
     "metadata": {},
     "output_type": "execute_result"
    }
   ],
   "source": [
    "%viz --style=\"DEFAULT\" --view=\"Default\" \"ConjugationTest\""
   ]
  },
  {
   "cell_type": "code",
   "execution_count": 38,
   "id": "72e5b00b",
   "metadata": {
    "execution": {
     "iopub.execute_input": "2021-04-20T07:00:16.329951Z",
     "iopub.status.busy": "2021-04-20T07:00:16.329361Z",
     "iopub.status.idle": "2021-04-20T07:00:16.440882Z",
     "shell.execute_reply": "2021-04-20T07:00:16.440501Z"
    }
   },
   "outputs": [
    {
     "data": {
      "image/svg+xml": [
       "<?xml version=\"1.0\" encoding=\"UTF-8\" standalone=\"no\"?><svg xmlns=\"http://www.w3.org/2000/svg\" xmlns:xlink=\"http://www.w3.org/1999/xlink\" contentScriptType=\"application/ecmascript\" contentStyleType=\"text/css\" height=\"305px\" preserveAspectRatio=\"none\" style=\"width:614px;height:305px;\" version=\"1.1\" viewBox=\"0 0 614 305\" width=\"614px\" zoomAndPan=\"magnify\"><defs/><g><!--MD5=[fbc87193dbaf4d95561dea2c320d4a47]\n",
       "cluster E1--><a href=\"psysml:56f2a3b4-cc43-4fa3-8695-199f33536b50\" target=\"_top\" title=\"psysml:56f2a3b4-cc43-4fa3-8695-199f33536b50\" xlink:actuate=\"onRequest\" xlink:href=\"psysml:56f2a3b4-cc43-4fa3-8695-199f33536b50\" xlink:show=\"new\" xlink:title=\"psysml:56f2a3b4-cc43-4fa3-8695-199f33536b50\" xlink:type=\"simple\"><polygon fill=\"#FFFFFF\" points=\"16,6,151,6,158,28.2969,592,28.2969,592,293,16,293,16,6\" style=\"stroke: #000000; stroke-width: 1.5;\"/><line style=\"stroke: #000000; stroke-width: 1.5;\" x1=\"16\" x2=\"158\" y1=\"28.2969\" y2=\"28.2969\"/><text fill=\"#000000\" font-family=\"sans-serif\" font-size=\"14\" font-weight=\"bold\" lengthAdjust=\"spacingAndGlyphs\" textLength=\"129\" x=\"20\" y=\"20.9951\">ConjugationTest</text></a><!--MD5=[b4997ac47864f28c2f74865a473b2911]\n",
       "class E2--><a href=\"psysml:c0a3bc73-93c5-4b4d-b763-5833239b73fd\" target=\"_top\" title=\"psysml:c0a3bc73-93c5-4b4d-b763-5833239b73fd\" xlink:actuate=\"onRequest\" xlink:href=\"psysml:c0a3bc73-93c5-4b4d-b763-5833239b73fd\" xlink:show=\"new\" xlink:title=\"psysml:c0a3bc73-93c5-4b4d-b763-5833239b73fd\" xlink:type=\"simple\"><rect fill=\"#FFFFFF\" height=\"45.9375\" id=\"E2\" style=\"stroke: #383838; stroke-width: 1.5;\" width=\"66\" x=\"510\" y=\"62\"/><text fill=\"#000000\" font-family=\"sans-serif\" font-size=\"12\" font-style=\"italic\" lengthAdjust=\"spacingAndGlyphs\" textLength=\"64\" x=\"511\" y=\"78.1387\">«port def»</text><text fill=\"#000000\" font-family=\"sans-serif\" font-size=\"12\" lengthAdjust=\"spacingAndGlyphs\" textLength=\"8\" x=\"539\" y=\"92.1074\">P</text><line style=\"stroke: #383838; stroke-width: 1.5;\" x1=\"511\" x2=\"575\" y1=\"99.9375\" y2=\"99.9375\"/></a><!--MD5=[09b614a08d8cba4a07c9adeb5e0fee81]\n",
       "class E3--><a href=\"psysml:5cf63d0b-bb26-43ea-8091-2694cfd07b61\" target=\"_top\" title=\"psysml:5cf63d0b-bb26-43ea-8091-2694cfd07b61\" xlink:actuate=\"onRequest\" xlink:href=\"psysml:5cf63d0b-bb26-43ea-8091-2694cfd07b61\" xlink:show=\"new\" xlink:title=\"psysml:5cf63d0b-bb26-43ea-8091-2694cfd07b61\" xlink:type=\"simple\"><rect fill=\"#FFFFFF\" height=\"88.3516\" id=\"E3\" style=\"stroke: #383838; stroke-width: 1.5;\" width=\"66\" x=\"409\" y=\"41\"/><text fill=\"#000000\" font-family=\"sans-serif\" font-size=\"12\" font-style=\"italic\" lengthAdjust=\"spacingAndGlyphs\" textLength=\"64\" x=\"410\" y=\"57.1387\">«part def»</text><text fill=\"#000000\" font-family=\"sans-serif\" font-size=\"12\" lengthAdjust=\"spacingAndGlyphs\" textLength=\"8\" x=\"438\" y=\"71.1074\">B</text><line style=\"stroke: #383838; stroke-width: 1.5;\" x1=\"410\" x2=\"474\" y1=\"78.9375\" y2=\"78.9375\"/><text fill=\"#000000\" font-family=\"sans-serif\" font-size=\"11\" lengthAdjust=\"spacingAndGlyphs\" textLength=\"29\" x=\"415\" y=\"109.9526\">p1: P</text><text fill=\"#000000\" font-family=\"sans-serif\" font-size=\"11\" lengthAdjust=\"spacingAndGlyphs\" textLength=\"38\" x=\"415\" y=\"122.7573\">p2: ~P</text><line style=\"stroke: #383838; stroke-width: 1.0;\" x1=\"410\" x2=\"427\" y1=\"93.3398\" y2=\"93.3398\"/><text fill=\"#000000\" font-family=\"sans-serif\" font-size=\"11\" lengthAdjust=\"spacingAndGlyphs\" textLength=\"30\" x=\"427\" y=\"96.6479\">ports</text><line style=\"stroke: #383838; stroke-width: 1.0;\" x1=\"457\" x2=\"474\" y1=\"93.3398\" y2=\"93.3398\"/></a><!--MD5=[60a26617385b1d2d0262a64233df1f8d]\n",
       "class E6--><a href=\"psysml:c95e8ce0-7583-4d42-8de3-1e3c8277134a\" target=\"_top\" title=\"psysml:c95e8ce0-7583-4d42-8de3-1e3c8277134a\" xlink:actuate=\"onRequest\" xlink:href=\"psysml:c95e8ce0-7583-4d42-8de3-1e3c8277134a\" xlink:show=\"new\" xlink:title=\"psysml:c95e8ce0-7583-4d42-8de3-1e3c8277134a\" xlink:type=\"simple\"><rect fill=\"#FFFFFF\" height=\"88.3516\" id=\"E6\" style=\"stroke: #383838; stroke-width: 1.5;\" width=\"110\" x=\"264\" y=\"41\"/><text fill=\"#000000\" font-family=\"sans-serif\" font-size=\"12\" font-style=\"italic\" lengthAdjust=\"spacingAndGlyphs\" textLength=\"108\" x=\"265\" y=\"57.1387\">«connection def»</text><text fill=\"#000000\" font-family=\"sans-serif\" font-size=\"12\" lengthAdjust=\"spacingAndGlyphs\" textLength=\"8\" x=\"315\" y=\"71.1074\">A</text><line style=\"stroke: #383838; stroke-width: 1.5;\" x1=\"265\" x2=\"373\" y1=\"78.9375\" y2=\"78.9375\"/><text fill=\"#000000\" font-family=\"sans-serif\" font-size=\"11\" lengthAdjust=\"spacingAndGlyphs\" textLength=\"29\" x=\"270\" y=\"109.9526\">p1: P</text><text fill=\"#000000\" font-family=\"sans-serif\" font-size=\"11\" lengthAdjust=\"spacingAndGlyphs\" textLength=\"38\" x=\"270\" y=\"122.7573\">p2: ~P</text><line style=\"stroke: #383838; stroke-width: 1.0;\" x1=\"265\" x2=\"304\" y1=\"93.3398\" y2=\"93.3398\"/><text fill=\"#000000\" font-family=\"sans-serif\" font-size=\"11\" lengthAdjust=\"spacingAndGlyphs\" textLength=\"30\" x=\"304\" y=\"96.6479\">ports</text><line style=\"stroke: #383838; stroke-width: 1.0;\" x1=\"334\" x2=\"373\" y1=\"93.3398\" y2=\"93.3398\"/></a><!--MD5=[fd4143e9d270a159db93a4ea2a975926]\n",
       "class E9--><a href=\"psysml:3dca2d5e-c062-4427-93b4-bcb55890dd40\" target=\"_top\" title=\"psysml:3dca2d5e-c062-4427-93b4-bcb55890dd40\" xlink:actuate=\"onRequest\" xlink:href=\"psysml:3dca2d5e-c062-4427-93b4-bcb55890dd40\" xlink:show=\"new\" xlink:title=\"psysml:3dca2d5e-c062-4427-93b4-bcb55890dd40\" xlink:type=\"simple\"><rect fill=\"#FFFFFF\" height=\"88.3516\" id=\"E9\" style=\"stroke: #383838; stroke-width: 1.5;\" width=\"96\" x=\"133\" y=\"41\"/><text fill=\"#000000\" font-family=\"sans-serif\" font-size=\"12\" font-style=\"italic\" lengthAdjust=\"spacingAndGlyphs\" textLength=\"94\" x=\"134\" y=\"57.1387\">«interface def»</text><text fill=\"#000000\" font-family=\"sans-serif\" font-size=\"12\" lengthAdjust=\"spacingAndGlyphs\" textLength=\"3\" x=\"179.5\" y=\"71.1074\">I</text><line style=\"stroke: #383838; stroke-width: 1.5;\" x1=\"134\" x2=\"228\" y1=\"78.9375\" y2=\"78.9375\"/><text fill=\"#000000\" font-family=\"sans-serif\" font-size=\"11\" lengthAdjust=\"spacingAndGlyphs\" textLength=\"29\" x=\"139\" y=\"109.9526\">p1: P</text><text fill=\"#000000\" font-family=\"sans-serif\" font-size=\"11\" lengthAdjust=\"spacingAndGlyphs\" textLength=\"38\" x=\"139\" y=\"122.7573\">p2: ~P</text><line style=\"stroke: #383838; stroke-width: 1.0;\" x1=\"134\" x2=\"166\" y1=\"93.3398\" y2=\"93.3398\"/><text fill=\"#000000\" font-family=\"sans-serif\" font-size=\"11\" lengthAdjust=\"spacingAndGlyphs\" textLength=\"30\" x=\"166\" y=\"96.6479\">ports</text><line style=\"stroke: #383838; stroke-width: 1.0;\" x1=\"196\" x2=\"228\" y1=\"93.3398\" y2=\"93.3398\"/></a><!--MD5=[49a0ec8f00dab7302a31f22d0f0fe584]\n",
       "class E12--><a href=\"psysml:239b6b7d-2819-4aeb-bfce-341b8d8c5fb1\" target=\"_top\" title=\"psysml:239b6b7d-2819-4aeb-bfce-341b8d8c5fb1\" xlink:actuate=\"onRequest\" xlink:href=\"psysml:239b6b7d-2819-4aeb-bfce-341b8d8c5fb1\" xlink:show=\"new\" xlink:title=\"psysml:239b6b7d-2819-4aeb-bfce-341b8d8c5fb1\" xlink:type=\"simple\"><rect fill=\"#FFFFFF\" height=\"45.9375\" id=\"E12\" style=\"stroke: #383838; stroke-width: 1.5;\" width=\"66\" x=\"32\" y=\"62\"/><text fill=\"#000000\" font-family=\"sans-serif\" font-size=\"12\" font-style=\"italic\" lengthAdjust=\"spacingAndGlyphs\" textLength=\"64\" x=\"33\" y=\"78.1387\">«part def»</text><text fill=\"#000000\" font-family=\"sans-serif\" font-size=\"12\" lengthAdjust=\"spacingAndGlyphs\" textLength=\"16\" x=\"57\" y=\"92.1074\">B1</text><line style=\"stroke: #383838; stroke-width: 1.5;\" x1=\"33\" x2=\"97\" y1=\"99.9375\" y2=\"99.9375\"/></a><!--MD5=[ee3c913d1a06f366521f9ef512b67efe]\n",
       "class E13--><a href=\"psysml:080adc10-96fd-4f72-8d28-a6aae1d02a34\" target=\"_top\" title=\"psysml:080adc10-96fd-4f72-8d28-a6aae1d02a34\" xlink:actuate=\"onRequest\" xlink:href=\"psysml:080adc10-96fd-4f72-8d28-a6aae1d02a34\" xlink:show=\"new\" xlink:title=\"psysml:080adc10-96fd-4f72-8d28-a6aae1d02a34\" xlink:type=\"simple\"><rect fill=\"#FFFFFF\" height=\"88.3516\" id=\"E13\" rx=\"10\" ry=\"10\" style=\"stroke: #383838; stroke-width: 1.5;\" width=\"50\" x=\"40\" y=\"189\"/><text fill=\"#000000\" font-family=\"sans-serif\" font-size=\"12\" font-style=\"italic\" lengthAdjust=\"spacingAndGlyphs\" textLength=\"40\" x=\"45\" y=\"205.1387\">«part»</text><text fill=\"#000000\" font-family=\"sans-serif\" font-size=\"12\" lengthAdjust=\"spacingAndGlyphs\" textLength=\"8\" x=\"61\" y=\"219.1074\">p</text><line style=\"stroke: #383838; stroke-width: 1.5;\" x1=\"41\" x2=\"89\" y1=\"226.9375\" y2=\"226.9375\"/><text fill=\"#000000\" font-family=\"sans-serif\" font-size=\"11\" lengthAdjust=\"spacingAndGlyphs\" textLength=\"29\" x=\"46\" y=\"257.9526\">p1: P</text><text fill=\"#000000\" font-family=\"sans-serif\" font-size=\"11\" lengthAdjust=\"spacingAndGlyphs\" textLength=\"38\" x=\"46\" y=\"270.7573\">p2: ~P</text><line style=\"stroke: #383838; stroke-width: 1.0;\" x1=\"41\" x2=\"50\" y1=\"241.3398\" y2=\"241.3398\"/><text fill=\"#000000\" font-family=\"sans-serif\" font-size=\"11\" lengthAdjust=\"spacingAndGlyphs\" textLength=\"30\" x=\"50\" y=\"244.6479\">ports</text><line style=\"stroke: #383838; stroke-width: 1.0;\" x1=\"80\" x2=\"89\" y1=\"241.3398\" y2=\"241.3398\"/></a><!--MD5=[062ed86c389d1a88f61c6380d0491e17]\n",
       "reverse link E12 to E13--><a href=\"psysml:06665d43-130c-4b8a-bdfd-d93e6351f975\" target=\"_top\" title=\"psysml:06665d43-130c-4b8a-bdfd-d93e6351f975\" xlink:actuate=\"onRequest\" xlink:href=\"psysml:06665d43-130c-4b8a-bdfd-d93e6351f975\" xlink:show=\"new\" xlink:title=\"psysml:06665d43-130c-4b8a-bdfd-d93e6351f975\" xlink:type=\"simple\"><path d=\"M65,121.25 C65,141.54 65,167.2 65,188.71 \" fill=\"none\" id=\"E12&lt;-E13\" style=\"stroke: #383838; stroke-width: 1.0;\"/><polygon fill=\"#383838\" points=\"65,108.17,61,114.17,65,120.17,69,114.17,65,108.17\" style=\"stroke: #383838; stroke-width: 1.0;\"/></a><!--MD5=[410cecb450897cff08a28bea486b9f1f]\n",
       "@startuml\r\n",
       "skinparam monochrome true\r\n",
       "skinparam classbackgroundcolor white\r\n",
       "skinparam shadowing false\r\n",
       "skinparam wrapWidth 300\r\n",
       "hide circle\r\n",
       "\r\n",
       "package \"ConjugationTest\" as E1  [[psysml:56f2a3b4-cc43-4fa3-8695-199f33536b50 ]]  {\r\n",
       "comp def \"P\" as E2  <<(T,blue)port def>> [[psysml:c0a3bc73-93c5-4b4d-b763-5833239b73fd ]] {\r\n",
       "}\r\n",
       "comp def \"B\" as E3  <<(T,blue)part def>> [[psysml:5cf63d0b-bb26-43ea-8091-2694cfd07b61 ]] {\r\n",
       "- - ports - -\r\n",
       "p1: P\r\n",
       "p2: ~P\r\n",
       "}\r\n",
       "comp def \"A\" as E6  <<(T,blue)connection def>> [[psysml:c95e8ce0-7583-4d42-8de3-1e3c8277134a ]] {\r\n",
       "- - ports - -\r\n",
       "p1: P\r\n",
       "p2: ~P\r\n",
       "}\r\n",
       "comp def \"I\" as E9  <<(T,blue)interface def>> [[psysml:3dca2d5e-c062-4427-93b4-bcb55890dd40 ]] {\r\n",
       "- - ports - -\r\n",
       "p1: P\r\n",
       "p2: ~P\r\n",
       "}\r\n",
       "comp def \"B1\" as E12  <<(T,blue)part def>> [[psysml:239b6b7d-2819-4aeb-bfce-341b8d8c5fb1 ]] {\r\n",
       "}\r\n",
       "comp usage \"p\" as E13  <<(T,blue)part>> [[psysml:080adc10-96fd-4f72-8d28-a6aae1d02a34 ]] {\r\n",
       "- - ports - -\r\n",
       "p1: P\r\n",
       "p2: ~P\r\n",
       "}\r\n",
       "E12 *- - E13 [[psysml:06665d43-130c-4b8a-bdfd-d93e6351f975 ]] \r\n",
       "}\r\n",
       "@enduml\r\n",
       "\n",
       "PlantUML version 1.2020.13(Sat Jun 13 12:26:38 UTC 2020)\n",
       "(EPL source distribution)\n",
       "Java Runtime: OpenJDK Runtime Environment\n",
       "JVM: OpenJDK 64-Bit Server VM\n",
       "Default Encoding: UTF-8\n",
       "Language: en\n",
       "Country: null\n",
       "--></g></svg>"
      ]
     },
     "execution_count": 38,
     "metadata": {},
     "output_type": "execute_result"
    }
   ],
   "source": [
    "%viz --style=\"DEFAULT\" --view=\"Tree\" \"ConjugationTest\""
   ]
  },
  {
   "cell_type": "code",
   "execution_count": 39,
   "id": "0bc4012a",
   "metadata": {
    "execution": {
     "iopub.execute_input": "2021-04-20T07:00:16.490524Z",
     "iopub.status.busy": "2021-04-20T07:00:16.490107Z",
     "iopub.status.idle": "2021-04-20T07:00:16.494674Z",
     "shell.execute_reply": "2021-04-20T07:00:16.495038Z"
    }
   },
   "outputs": [
    {
     "data": {
      "image/svg+xml": [
       "<?xml version=\"1.0\" encoding=\"UTF-8\" standalone=\"no\"?><svg xmlns=\"http://www.w3.org/2000/svg\" xmlns:xlink=\"http://www.w3.org/1999/xlink\" contentScriptType=\"application/ecmascript\" contentStyleType=\"text/css\" height=\"12px\" preserveAspectRatio=\"none\" style=\"width:12px;height:12px;\" version=\"1.1\" viewBox=\"0 0 12 12\" width=\"12px\" zoomAndPan=\"magnify\"><defs/><g><!--MD5=[c5f280e076d0d61ccf4b0f27871bda1d]\n",
       "@startuml\r\n",
       "skinparam monochrome true\r\n",
       "skinparam classbackgroundcolor white\r\n",
       "skinparam shadowing false\r\n",
       "skinparam wrapWidth 300\r\n",
       "hide circle\r\n",
       "\r\n",
       "@enduml\r\n",
       "\n",
       "PlantUML version 1.2020.13(Sat Jun 13 12:26:38 UTC 2020)\n",
       "(EPL source distribution)\n",
       "Java Runtime: OpenJDK Runtime Environment\n",
       "JVM: OpenJDK 64-Bit Server VM\n",
       "Default Encoding: UTF-8\n",
       "Language: en\n",
       "Country: null\n",
       "--></g></svg>"
      ]
     },
     "execution_count": 39,
     "metadata": {},
     "output_type": "execute_result"
    }
   ],
   "source": [
    "%viz --style=\"DEFAULT\" --view=\"State\" \"ConjugationTest\""
   ]
  },
  {
   "cell_type": "code",
   "execution_count": 40,
   "id": "6d548d6f",
   "metadata": {
    "execution": {
     "iopub.execute_input": "2021-04-20T07:00:16.547996Z",
     "iopub.status.busy": "2021-04-20T07:00:16.547038Z",
     "iopub.status.idle": "2021-04-20T07:00:16.590594Z",
     "shell.execute_reply": "2021-04-20T07:00:16.589043Z"
    }
   },
   "outputs": [
    {
     "data": {
      "image/svg+xml": [
       "<?xml version=\"1.0\" encoding=\"UTF-8\" standalone=\"no\"?><svg xmlns=\"http://www.w3.org/2000/svg\" xmlns:xlink=\"http://www.w3.org/1999/xlink\" contentScriptType=\"application/ecmascript\" contentStyleType=\"text/css\" height=\"246px\" preserveAspectRatio=\"none\" style=\"width:739px;height:246px;\" version=\"1.1\" viewBox=\"0 0 739 246\" width=\"739px\" zoomAndPan=\"magnify\"><defs/><g><!--MD5=[fbc87193dbaf4d95561dea2c320d4a47]\n",
       "cluster E1--><a href=\"psysml:56f2a3b4-cc43-4fa3-8695-199f33536b50\" target=\"_top\" title=\"psysml:56f2a3b4-cc43-4fa3-8695-199f33536b50\" xlink:actuate=\"onRequest\" xlink:href=\"psysml:56f2a3b4-cc43-4fa3-8695-199f33536b50\" xlink:show=\"new\" xlink:title=\"psysml:56f2a3b4-cc43-4fa3-8695-199f33536b50\" xlink:type=\"simple\"><polygon fill=\"#FFFFFF\" points=\"16,6,151,6,158,28.2969,717,28.2969,717,234.5,16,234.5,16,6\" style=\"stroke: #000000; stroke-width: 1.5;\"/><line style=\"stroke: #000000; stroke-width: 1.5;\" x1=\"16\" x2=\"158\" y1=\"28.2969\" y2=\"28.2969\"/><text fill=\"#000000\" font-family=\"sans-serif\" font-size=\"14\" font-weight=\"bold\" lengthAdjust=\"spacingAndGlyphs\" textLength=\"129\" x=\"20\" y=\"20.9951\">ConjugationTest</text></a><!--MD5=[d5e69f78d87373223dbae638b30a9c99]\n",
       "cluster E3--><a href=\"psysml:5cf63d0b-bb26-43ea-8091-2694cfd07b61\" target=\"_top\" title=\"psysml:5cf63d0b-bb26-43ea-8091-2694cfd07b61\" xlink:actuate=\"onRequest\" xlink:href=\"psysml:5cf63d0b-bb26-43ea-8091-2694cfd07b61\" xlink:show=\"new\" xlink:title=\"psysml:5cf63d0b-bb26-43ea-8091-2694cfd07b61\" xlink:type=\"simple\"><rect fill=\"#FFFFFF\" height=\"88.5\" id=\"E3\" style=\"stroke: #383838; stroke-width: 1.5;\" width=\"83\" x=\"577\" y=\"114\"/><rect fill=\"#F8F8F8\" height=\"37.9375\" style=\"stroke: #383838; stroke-width: 1.5;\" width=\"83\" x=\"577\" y=\"114\"/><text fill=\"#000000\" font-family=\"sans-serif\" font-size=\"12\" font-style=\"italic\" lengthAdjust=\"spacingAndGlyphs\" textLength=\"64\" x=\"586.5\" y=\"130.1387\">«part def»</text><text fill=\"#000000\" font-family=\"sans-serif\" font-size=\"12\" lengthAdjust=\"spacingAndGlyphs\" textLength=\"8\" x=\"614.5\" y=\"144.1074\">B</text></a><!--MD5=[14e3b0961a2654348d326746436168a1]\n",
       "cluster E6--><a href=\"psysml:c95e8ce0-7583-4d42-8de3-1e3c8277134a\" target=\"_top\" title=\"psysml:c95e8ce0-7583-4d42-8de3-1e3c8277134a\" xlink:actuate=\"onRequest\" xlink:href=\"psysml:c95e8ce0-7583-4d42-8de3-1e3c8277134a\" xlink:show=\"new\" xlink:title=\"psysml:c95e8ce0-7583-4d42-8de3-1e3c8277134a\" xlink:type=\"simple\"><rect fill=\"#FFFFFF\" height=\"88.5\" id=\"E6\" style=\"stroke: #383838; stroke-width: 1.5;\" width=\"150\" x=\"423\" y=\"114\"/><rect fill=\"#F8F8F8\" height=\"37.9375\" style=\"stroke: #383838; stroke-width: 1.5;\" width=\"150\" x=\"423\" y=\"114\"/><text fill=\"#000000\" font-family=\"sans-serif\" font-size=\"12\" font-style=\"italic\" lengthAdjust=\"spacingAndGlyphs\" textLength=\"108\" x=\"444\" y=\"130.1387\">«connection def»</text><text fill=\"#000000\" font-family=\"sans-serif\" font-size=\"12\" lengthAdjust=\"spacingAndGlyphs\" textLength=\"8\" x=\"494\" y=\"144.1074\">A</text></a><!--MD5=[7f149f147074ac12df2cb0a7728a5fb0]\n",
       "cluster E9--><a href=\"psysml:3dca2d5e-c062-4427-93b4-bcb55890dd40\" target=\"_top\" title=\"psysml:3dca2d5e-c062-4427-93b4-bcb55890dd40\" xlink:actuate=\"onRequest\" xlink:href=\"psysml:3dca2d5e-c062-4427-93b4-bcb55890dd40\" xlink:show=\"new\" xlink:title=\"psysml:3dca2d5e-c062-4427-93b4-bcb55890dd40\" xlink:type=\"simple\"><rect fill=\"#FFFFFF\" height=\"88.5\" id=\"E9\" style=\"stroke: #383838; stroke-width: 1.5;\" width=\"141\" x=\"254\" y=\"114\"/><rect fill=\"#F8F8F8\" height=\"37.9375\" style=\"stroke: #383838; stroke-width: 1.5;\" width=\"141\" x=\"254\" y=\"114\"/><text fill=\"#000000\" font-family=\"sans-serif\" font-size=\"12\" font-style=\"italic\" lengthAdjust=\"spacingAndGlyphs\" textLength=\"94\" x=\"277.5\" y=\"130.1387\">«interface def»</text><text fill=\"#000000\" font-family=\"sans-serif\" font-size=\"12\" lengthAdjust=\"spacingAndGlyphs\" textLength=\"3\" x=\"323\" y=\"144.1074\">I</text></a><!--MD5=[47bea60c1a0ac6c1143df232041969c0]\n",
       "cluster E12--><a href=\"psysml:239b6b7d-2819-4aeb-bfce-341b8d8c5fb1\" target=\"_top\" title=\"psysml:239b6b7d-2819-4aeb-bfce-341b8d8c5fb1\" xlink:actuate=\"onRequest\" xlink:href=\"psysml:239b6b7d-2819-4aeb-bfce-341b8d8c5fb1\" xlink:show=\"new\" xlink:title=\"psysml:239b6b7d-2819-4aeb-bfce-341b8d8c5fb1\" xlink:type=\"simple\"><rect fill=\"#FFFFFF\" height=\"161.5\" id=\"E12\" style=\"stroke: #383838; stroke-width: 1.5;\" width=\"107\" x=\"120\" y=\"49\"/><rect fill=\"#F8F8F8\" height=\"37.9375\" style=\"stroke: #383838; stroke-width: 1.5;\" width=\"107\" x=\"120\" y=\"49\"/><text fill=\"#000000\" font-family=\"sans-serif\" font-size=\"12\" font-style=\"italic\" lengthAdjust=\"spacingAndGlyphs\" textLength=\"64\" x=\"141.5\" y=\"65.1387\">«part def»</text><text fill=\"#000000\" font-family=\"sans-serif\" font-size=\"12\" lengthAdjust=\"spacingAndGlyphs\" textLength=\"16\" x=\"165.5\" y=\"79.1074\">B1</text></a><!--MD5=[03104f77b71e2d8d3500c651e6e31181]\n",
       "cluster E13--><a href=\"psysml:080adc10-96fd-4f72-8d28-a6aae1d02a34\" target=\"_top\" title=\"psysml:080adc10-96fd-4f72-8d28-a6aae1d02a34\" xlink:actuate=\"onRequest\" xlink:href=\"psysml:080adc10-96fd-4f72-8d28-a6aae1d02a34\" xlink:show=\"new\" xlink:title=\"psysml:080adc10-96fd-4f72-8d28-a6aae1d02a34\" xlink:type=\"simple\"><rect fill=\"#FFFFFF\" height=\"80.5\" id=\"E13\" rx=\"10\" ry=\"10\" style=\"stroke: #383838; stroke-width: 1.5;\" width=\"83\" x=\"132\" y=\"114\"/><rect fill=\"#F8F8F8\" height=\"23.9688\" rx=\"10\" ry=\"10\" style=\"stroke: #F8F8F8; stroke-width: 1.5;\" width=\"83\" x=\"132\" y=\"114\"/><rect fill=\"#F8F8F8\" height=\"10\" style=\"stroke: #F8F8F8; stroke-width: 1.5;\" width=\"83\" x=\"132\" y=\"127.9688\"/><rect fill=\"none\" height=\"80.5\" id=\"E13\" rx=\"10\" ry=\"10\" style=\"stroke: #383838; stroke-width: 1.5;\" width=\"83\" x=\"132\" y=\"114\"/><text fill=\"#000000\" font-family=\"sans-serif\" font-size=\"12\" lengthAdjust=\"spacingAndGlyphs\" textLength=\"8\" x=\"169.5\" y=\"130.1387\">p</text><line style=\"stroke: #383838; stroke-width: 1.0;\" x1=\"132\" x2=\"215\" y1=\"137.9688\" y2=\"137.9688\"/></a><g id=\"E1.E2\"><a href=\"psysml:c0a3bc73-93c5-4b4d-b763-5833239b73fd\" target=\"_top\" title=\"psysml:c0a3bc73-93c5-4b4d-b763-5833239b73fd\" xlink:actuate=\"onRequest\" xlink:href=\"psysml:c0a3bc73-93c5-4b4d-b763-5833239b73fd\" xlink:show=\"new\" xlink:title=\"psysml:c0a3bc73-93c5-4b4d-b763-5833239b73fd\" xlink:type=\"simple\"><rect fill=\"#FFFFFF\" height=\"42.9375\" id=\"E2\" style=\"stroke: #383838; stroke-width: 1.5;\" width=\"71\" x=\"32.5\" y=\"92.5\"/><rect fill=\"#F8F8F8\" height=\"37.9375\" style=\"stroke: #383838; stroke-width: 1.5;\" width=\"71\" x=\"32.5\" y=\"92.5\"/><text fill=\"#000000\" font-family=\"sans-serif\" font-size=\"12\" font-style=\"italic\" lengthAdjust=\"spacingAndGlyphs\" textLength=\"64\" x=\"36\" y=\"108.6387\">«port def»</text><text fill=\"#000000\" font-family=\"sans-serif\" font-size=\"12\" lengthAdjust=\"spacingAndGlyphs\" textLength=\"8\" x=\"64\" y=\"122.6074\">P</text></a></g><text fill=\"#000000\" font-family=\"sans-serif\" font-size=\"14\" lengthAdjust=\"spacingAndGlyphs\" textLength=\"36\" x=\"577\" y=\"92.6982\">p1: P</text><rect fill=\"#383838\" height=\"12\" style=\"stroke: #F8F8F8; stroke-width: 1.5;\" width=\"12\" x=\"589\" y=\"108\"/><text fill=\"#000000\" font-family=\"sans-serif\" font-size=\"14\" lengthAdjust=\"spacingAndGlyphs\" textLength=\"48\" x=\"618\" y=\"92.6982\">p2: ~P</text><rect fill=\"#383838\" height=\"12\" style=\"stroke: #F8F8F8; stroke-width: 1.5;\" width=\"12\" x=\"636\" y=\"108\"/><text fill=\"#000000\" font-family=\"sans-serif\" font-size=\"14\" lengthAdjust=\"spacingAndGlyphs\" textLength=\"36\" x=\"423\" y=\"92.6982\">p1: P</text><rect fill=\"#383838\" height=\"12\" style=\"stroke: #F8F8F8; stroke-width: 1.5;\" width=\"12\" x=\"435\" y=\"108\"/><text fill=\"#000000\" font-family=\"sans-serif\" font-size=\"14\" lengthAdjust=\"spacingAndGlyphs\" textLength=\"48\" x=\"464\" y=\"92.6982\">p2: ~P</text><rect fill=\"#383838\" height=\"12\" style=\"stroke: #F8F8F8; stroke-width: 1.5;\" width=\"12\" x=\"482\" y=\"108\"/><text fill=\"#000000\" font-family=\"sans-serif\" font-size=\"14\" lengthAdjust=\"spacingAndGlyphs\" textLength=\"36\" x=\"254\" y=\"92.6982\">p1: P</text><rect fill=\"#383838\" height=\"12\" style=\"stroke: #F8F8F8; stroke-width: 1.5;\" width=\"12\" x=\"266\" y=\"108\"/><text fill=\"#000000\" font-family=\"sans-serif\" font-size=\"14\" lengthAdjust=\"spacingAndGlyphs\" textLength=\"48\" x=\"295\" y=\"92.6982\">p2: ~P</text><rect fill=\"#383838\" height=\"12\" style=\"stroke: #F8F8F8; stroke-width: 1.5;\" width=\"12\" x=\"313\" y=\"108\"/><text fill=\"#000000\" font-family=\"sans-serif\" font-size=\"14\" lengthAdjust=\"spacingAndGlyphs\" textLength=\"36\" x=\"132\" y=\"92.6982\">p1: P</text><rect fill=\"#383838\" height=\"12\" style=\"stroke: #F8F8F8; stroke-width: 1.5;\" width=\"12\" x=\"144\" y=\"108\"/><text fill=\"#000000\" font-family=\"sans-serif\" font-size=\"14\" lengthAdjust=\"spacingAndGlyphs\" textLength=\"48\" x=\"173\" y=\"92.6982\">p2: ~P</text><rect fill=\"#383838\" height=\"12\" style=\"stroke: #F8F8F8; stroke-width: 1.5;\" width=\"12\" x=\"191\" y=\"108\"/><!--MD5=[4ce51ac6fa4cf5202df3859e2718f033]\n",
       "link E15 to E14--><a href=\"psysml:b40b8767-d304-49cf-ad0a-af8e9dd9f9d8\" target=\"_top\" title=\"psysml:b40b8767-d304-49cf-ad0a-af8e9dd9f9d8\" xlink:actuate=\"onRequest\" xlink:href=\"psysml:b40b8767-d304-49cf-ad0a-af8e9dd9f9d8\" xlink:show=\"new\" xlink:title=\"psysml:b40b8767-d304-49cf-ad0a-af8e9dd9f9d8\" xlink:type=\"simple\"><path d=\"M190.95,114 C179.38,114 167.81,114 156.24,114 \" fill=\"none\" id=\"E15-E14\" style=\"stroke: #383838; stroke-width: 3.0;\"/></a><!--MD5=[4ce51ac6fa4cf5202df3859e2718f033]\n",
       "link E15 to E14--><a href=\"psysml:e453fd18-f914-4bbc-b21b-733251b90d8d\" target=\"_top\" title=\"psysml:e453fd18-f914-4bbc-b21b-733251b90d8d\" xlink:actuate=\"onRequest\" xlink:href=\"psysml:e453fd18-f914-4bbc-b21b-733251b90d8d\" xlink:show=\"new\" xlink:title=\"psysml:e453fd18-f914-4bbc-b21b-733251b90d8d\" xlink:type=\"simple\"><path d=\"M190.95,111.98 C179.38,108.69 167.81,108.67 156.24,111.93 \" fill=\"none\" id=\"E15-E14-1\" style=\"stroke: #383838; stroke-width: 3.0;\"/></a><!--MD5=[ef72547cefb7458eca527dd83d009590]\n",
       "@startuml\r\n",
       "skinparam ranksep 10\r\n",
       "skinparam rectangle {\r\n",
       " backgroundColor<<block>> LightGreen\r\n",
       "}\r\n",
       "skinparam monochrome true\r\n",
       "skinparam classbackgroundcolor white\r\n",
       "skinparam shadowing false\r\n",
       "skinparam wrapWidth 300\r\n",
       "hide circle\r\n",
       "\r\n",
       "package \"ConjugationTest\" as E1  [[psysml:56f2a3b4-cc43-4fa3-8695-199f33536b50 ]]  {\r\n",
       "def \"P\" as E2  <<(T,blue)port def>> [[psysml:c0a3bc73-93c5-4b4d-b763-5833239b73fd ]] \r\n",
       "rec def \"B\" as E3  <<(T,blue)part def>> [[psysml:5cf63d0b-bb26-43ea-8091-2694cfd07b61 ]] {\r\n",
       "portin \"p1: P\" as E4  <<(T,blue)port>> [[psysml:c76b55b8-c5f7-4b06-9682-6e30a37606f5 ]] \r\n",
       "portin \"p2: ~P\" as E5  <<(T,blue)port>> [[psysml:35da94da-d279-45b2-babf-0a6a90392647 ]] \r\n",
       "}\r\n",
       "rec def \"A\" as E6  <<(T,blue)connection def>> [[psysml:c95e8ce0-7583-4d42-8de3-1e3c8277134a ]] {\r\n",
       "portin \"p1: P\" as E7  <<(T,blue)port>> [[psysml:2d7c72e0-11ff-44e8-b252-bce43cdf8c5c ]] \r\n",
       "portin \"p2: ~P\" as E8  <<(T,blue)port>> [[psysml:32f7297e-deaa-40d0-ad2f-7459de0cc2ac ]] \r\n",
       "}\r\n",
       "rec def \"I\" as E9  <<(T,blue)interface def>> [[psysml:3dca2d5e-c062-4427-93b4-bcb55890dd40 ]] {\r\n",
       "portin \"p1: P\" as E10  <<(T,blue)port>> [[psysml:c5132c6d-1853-42dd-8f4d-8690518006d4 ]] \r\n",
       "portin \"p2: ~P\" as E11  <<(T,blue)port>> [[psysml:dfe5ce78-d727-465a-9c67-ad29336ed483 ]] \r\n",
       "}\r\n",
       "rec def \"B1\" as E12  <<(T,blue)part def>> [[psysml:239b6b7d-2819-4aeb-bfce-341b8d8c5fb1 ]] {\r\n",
       "rec usage \"p\" as E13  [[psysml:080adc10-96fd-4f72-8d28-a6aae1d02a34 ]] {\r\n",
       "portin \"p1: P\" as E14  <<(T,blue)port>> [[psysml:990bba01-cfb0-414f-879e-e0e887a1aff5 ]] \r\n",
       "portin \"p2: ~P\" as E15  <<(T,blue)port>> [[psysml:ea02eef2-b064-45a9-9708-410d7204d199 ]] \r\n",
       "}\r\n",
       "}\r\n",
       "E15 -[thickness=3]- E14 [[psysml:b40b8767-d304-49cf-ad0a-af8e9dd9f9d8 ]] \r\n",
       "E15 -[thickness=3]- E14 [[psysml:e453fd18-f914-4bbc-b21b-733251b90d8d ]] \r\n",
       "}\r\n",
       "@enduml\r\n",
       "\n",
       "PlantUML version 1.2020.13(Sat Jun 13 12:26:38 UTC 2020)\n",
       "(EPL source distribution)\n",
       "Java Runtime: OpenJDK Runtime Environment\n",
       "JVM: OpenJDK 64-Bit Server VM\n",
       "Default Encoding: UTF-8\n",
       "Language: en\n",
       "Country: null\n",
       "--></g></svg>"
      ]
     },
     "execution_count": 40,
     "metadata": {},
     "output_type": "execute_result"
    }
   ],
   "source": [
    "%viz --style=\"DEFAULT\" --view=\"Interconnection\" \"ConjugationTest\""
   ]
  },
  {
   "cell_type": "code",
   "execution_count": 41,
   "id": "ed019975",
   "metadata": {
    "execution": {
     "iopub.execute_input": "2021-04-20T07:00:16.640911Z",
     "iopub.status.busy": "2021-04-20T07:00:16.640488Z",
     "iopub.status.idle": "2021-04-20T07:00:16.644778Z",
     "shell.execute_reply": "2021-04-20T07:00:16.644472Z"
    }
   },
   "outputs": [
    {
     "data": {
      "image/svg+xml": [
       "<?xml version=\"1.0\" encoding=\"UTF-8\" standalone=\"no\"?><svg xmlns=\"http://www.w3.org/2000/svg\" xmlns:xlink=\"http://www.w3.org/1999/xlink\" contentScriptType=\"application/ecmascript\" contentStyleType=\"text/css\" height=\"12px\" preserveAspectRatio=\"none\" style=\"width:12px;height:12px;\" version=\"1.1\" viewBox=\"0 0 12 12\" width=\"12px\" zoomAndPan=\"magnify\"><defs/><g><!--MD5=[388f21188e31bfdd97050473b19af356]\n",
       "@startuml\r\n",
       "skinparam ranksep 8\r\n",
       "skinparam monochrome true\r\n",
       "skinparam classbackgroundcolor white\r\n",
       "skinparam shadowing false\r\n",
       "skinparam wrapWidth 300\r\n",
       "hide circle\r\n",
       "\r\n",
       "@enduml\r\n",
       "\n",
       "PlantUML version 1.2020.13(Sat Jun 13 12:26:38 UTC 2020)\n",
       "(EPL source distribution)\n",
       "Java Runtime: OpenJDK Runtime Environment\n",
       "JVM: OpenJDK 64-Bit Server VM\n",
       "Default Encoding: UTF-8\n",
       "Language: en\n",
       "Country: null\n",
       "--></g></svg>"
      ]
     },
     "execution_count": 41,
     "metadata": {},
     "output_type": "execute_result"
    }
   ],
   "source": [
    "%viz --style=\"DEFAULT\" --view=\"Action\" \"ConjugationTest\""
   ]
  },
  {
   "cell_type": "code",
   "execution_count": 42,
   "id": "a826d860",
   "metadata": {
    "execution": {
     "iopub.execute_input": "2021-04-20T07:00:16.696238Z",
     "iopub.status.busy": "2021-04-20T07:00:16.695711Z",
     "iopub.status.idle": "2021-04-20T07:00:16.787610Z",
     "shell.execute_reply": "2021-04-20T07:00:16.787912Z"
    }
   },
   "outputs": [
    {
     "data": {
      "image/svg+xml": [
       "<?xml version=\"1.0\" encoding=\"UTF-8\" standalone=\"no\"?><svg xmlns=\"http://www.w3.org/2000/svg\" xmlns:xlink=\"http://www.w3.org/1999/xlink\" contentScriptType=\"application/ecmascript\" contentStyleType=\"text/css\" height=\"305px\" preserveAspectRatio=\"none\" style=\"width:614px;height:305px;\" version=\"1.1\" viewBox=\"0 0 614 305\" width=\"614px\" zoomAndPan=\"magnify\"><defs/><g><!--MD5=[fbc87193dbaf4d95561dea2c320d4a47]\n",
       "cluster E1--><a href=\"psysml:56f2a3b4-cc43-4fa3-8695-199f33536b50\" target=\"_top\" title=\"psysml:56f2a3b4-cc43-4fa3-8695-199f33536b50\" xlink:actuate=\"onRequest\" xlink:href=\"psysml:56f2a3b4-cc43-4fa3-8695-199f33536b50\" xlink:show=\"new\" xlink:title=\"psysml:56f2a3b4-cc43-4fa3-8695-199f33536b50\" xlink:type=\"simple\"><polygon fill=\"#FFFFFF\" points=\"16,6,151,6,158,28.2969,592,28.2969,592,293,16,293,16,6\" style=\"stroke: #000000; stroke-width: 1.5;\"/><line style=\"stroke: #000000; stroke-width: 1.5;\" x1=\"16\" x2=\"158\" y1=\"28.2969\" y2=\"28.2969\"/><text fill=\"#000000\" font-family=\"sans-serif\" font-size=\"14\" font-weight=\"bold\" lengthAdjust=\"spacingAndGlyphs\" textLength=\"129\" x=\"20\" y=\"20.9951\">ConjugationTest</text></a><!--MD5=[b4997ac47864f28c2f74865a473b2911]\n",
       "class E2--><a href=\"psysml:c0a3bc73-93c5-4b4d-b763-5833239b73fd\" target=\"_top\" title=\"psysml:c0a3bc73-93c5-4b4d-b763-5833239b73fd\" xlink:actuate=\"onRequest\" xlink:href=\"psysml:c0a3bc73-93c5-4b4d-b763-5833239b73fd\" xlink:show=\"new\" xlink:title=\"psysml:c0a3bc73-93c5-4b4d-b763-5833239b73fd\" xlink:type=\"simple\"><rect fill=\"#FFFFFF\" height=\"45.9375\" id=\"E2\" style=\"stroke: #383838; stroke-width: 1.5;\" width=\"66\" x=\"510\" y=\"62\"/><text fill=\"#000000\" font-family=\"sans-serif\" font-size=\"12\" font-style=\"italic\" lengthAdjust=\"spacingAndGlyphs\" textLength=\"64\" x=\"511\" y=\"78.1387\">«port def»</text><text fill=\"#000000\" font-family=\"sans-serif\" font-size=\"12\" lengthAdjust=\"spacingAndGlyphs\" textLength=\"8\" x=\"539\" y=\"92.1074\">P</text><line style=\"stroke: #383838; stroke-width: 1.5;\" x1=\"511\" x2=\"575\" y1=\"99.9375\" y2=\"99.9375\"/></a><!--MD5=[09b614a08d8cba4a07c9adeb5e0fee81]\n",
       "class E3--><a href=\"psysml:5cf63d0b-bb26-43ea-8091-2694cfd07b61\" target=\"_top\" title=\"psysml:5cf63d0b-bb26-43ea-8091-2694cfd07b61\" xlink:actuate=\"onRequest\" xlink:href=\"psysml:5cf63d0b-bb26-43ea-8091-2694cfd07b61\" xlink:show=\"new\" xlink:title=\"psysml:5cf63d0b-bb26-43ea-8091-2694cfd07b61\" xlink:type=\"simple\"><rect fill=\"#FFFFFF\" height=\"88.3516\" id=\"E3\" style=\"stroke: #383838; stroke-width: 1.5;\" width=\"66\" x=\"409\" y=\"41\"/><text fill=\"#000000\" font-family=\"sans-serif\" font-size=\"12\" font-style=\"italic\" lengthAdjust=\"spacingAndGlyphs\" textLength=\"64\" x=\"410\" y=\"57.1387\">«part def»</text><text fill=\"#000000\" font-family=\"sans-serif\" font-size=\"12\" lengthAdjust=\"spacingAndGlyphs\" textLength=\"8\" x=\"438\" y=\"71.1074\">B</text><line style=\"stroke: #383838; stroke-width: 1.5;\" x1=\"410\" x2=\"474\" y1=\"78.9375\" y2=\"78.9375\"/><text fill=\"#000000\" font-family=\"sans-serif\" font-size=\"11\" lengthAdjust=\"spacingAndGlyphs\" textLength=\"29\" x=\"415\" y=\"109.9526\">p1: P</text><text fill=\"#000000\" font-family=\"sans-serif\" font-size=\"11\" lengthAdjust=\"spacingAndGlyphs\" textLength=\"38\" x=\"415\" y=\"122.7573\">p2: ~P</text><line style=\"stroke: #383838; stroke-width: 1.0;\" x1=\"410\" x2=\"427\" y1=\"93.3398\" y2=\"93.3398\"/><text fill=\"#000000\" font-family=\"sans-serif\" font-size=\"11\" lengthAdjust=\"spacingAndGlyphs\" textLength=\"30\" x=\"427\" y=\"96.6479\">ports</text><line style=\"stroke: #383838; stroke-width: 1.0;\" x1=\"457\" x2=\"474\" y1=\"93.3398\" y2=\"93.3398\"/></a><!--MD5=[60a26617385b1d2d0262a64233df1f8d]\n",
       "class E6--><a href=\"psysml:c95e8ce0-7583-4d42-8de3-1e3c8277134a\" target=\"_top\" title=\"psysml:c95e8ce0-7583-4d42-8de3-1e3c8277134a\" xlink:actuate=\"onRequest\" xlink:href=\"psysml:c95e8ce0-7583-4d42-8de3-1e3c8277134a\" xlink:show=\"new\" xlink:title=\"psysml:c95e8ce0-7583-4d42-8de3-1e3c8277134a\" xlink:type=\"simple\"><rect fill=\"#FFFFFF\" height=\"88.3516\" id=\"E6\" style=\"stroke: #383838; stroke-width: 1.5;\" width=\"110\" x=\"264\" y=\"41\"/><text fill=\"#000000\" font-family=\"sans-serif\" font-size=\"12\" font-style=\"italic\" lengthAdjust=\"spacingAndGlyphs\" textLength=\"108\" x=\"265\" y=\"57.1387\">«connection def»</text><text fill=\"#000000\" font-family=\"sans-serif\" font-size=\"12\" lengthAdjust=\"spacingAndGlyphs\" textLength=\"8\" x=\"315\" y=\"71.1074\">A</text><line style=\"stroke: #383838; stroke-width: 1.5;\" x1=\"265\" x2=\"373\" y1=\"78.9375\" y2=\"78.9375\"/><text fill=\"#000000\" font-family=\"sans-serif\" font-size=\"11\" lengthAdjust=\"spacingAndGlyphs\" textLength=\"29\" x=\"270\" y=\"109.9526\">p1: P</text><text fill=\"#000000\" font-family=\"sans-serif\" font-size=\"11\" lengthAdjust=\"spacingAndGlyphs\" textLength=\"38\" x=\"270\" y=\"122.7573\">p2: ~P</text><line style=\"stroke: #383838; stroke-width: 1.0;\" x1=\"265\" x2=\"304\" y1=\"93.3398\" y2=\"93.3398\"/><text fill=\"#000000\" font-family=\"sans-serif\" font-size=\"11\" lengthAdjust=\"spacingAndGlyphs\" textLength=\"30\" x=\"304\" y=\"96.6479\">ports</text><line style=\"stroke: #383838; stroke-width: 1.0;\" x1=\"334\" x2=\"373\" y1=\"93.3398\" y2=\"93.3398\"/></a><!--MD5=[fd4143e9d270a159db93a4ea2a975926]\n",
       "class E9--><a href=\"psysml:3dca2d5e-c062-4427-93b4-bcb55890dd40\" target=\"_top\" title=\"psysml:3dca2d5e-c062-4427-93b4-bcb55890dd40\" xlink:actuate=\"onRequest\" xlink:href=\"psysml:3dca2d5e-c062-4427-93b4-bcb55890dd40\" xlink:show=\"new\" xlink:title=\"psysml:3dca2d5e-c062-4427-93b4-bcb55890dd40\" xlink:type=\"simple\"><rect fill=\"#FFFFFF\" height=\"88.3516\" id=\"E9\" style=\"stroke: #383838; stroke-width: 1.5;\" width=\"96\" x=\"133\" y=\"41\"/><text fill=\"#000000\" font-family=\"sans-serif\" font-size=\"12\" font-style=\"italic\" lengthAdjust=\"spacingAndGlyphs\" textLength=\"94\" x=\"134\" y=\"57.1387\">«interface def»</text><text fill=\"#000000\" font-family=\"sans-serif\" font-size=\"12\" lengthAdjust=\"spacingAndGlyphs\" textLength=\"3\" x=\"179.5\" y=\"71.1074\">I</text><line style=\"stroke: #383838; stroke-width: 1.5;\" x1=\"134\" x2=\"228\" y1=\"78.9375\" y2=\"78.9375\"/><text fill=\"#000000\" font-family=\"sans-serif\" font-size=\"11\" lengthAdjust=\"spacingAndGlyphs\" textLength=\"29\" x=\"139\" y=\"109.9526\">p1: P</text><text fill=\"#000000\" font-family=\"sans-serif\" font-size=\"11\" lengthAdjust=\"spacingAndGlyphs\" textLength=\"38\" x=\"139\" y=\"122.7573\">p2: ~P</text><line style=\"stroke: #383838; stroke-width: 1.0;\" x1=\"134\" x2=\"166\" y1=\"93.3398\" y2=\"93.3398\"/><text fill=\"#000000\" font-family=\"sans-serif\" font-size=\"11\" lengthAdjust=\"spacingAndGlyphs\" textLength=\"30\" x=\"166\" y=\"96.6479\">ports</text><line style=\"stroke: #383838; stroke-width: 1.0;\" x1=\"196\" x2=\"228\" y1=\"93.3398\" y2=\"93.3398\"/></a><!--MD5=[49a0ec8f00dab7302a31f22d0f0fe584]\n",
       "class E12--><a href=\"psysml:239b6b7d-2819-4aeb-bfce-341b8d8c5fb1\" target=\"_top\" title=\"psysml:239b6b7d-2819-4aeb-bfce-341b8d8c5fb1\" xlink:actuate=\"onRequest\" xlink:href=\"psysml:239b6b7d-2819-4aeb-bfce-341b8d8c5fb1\" xlink:show=\"new\" xlink:title=\"psysml:239b6b7d-2819-4aeb-bfce-341b8d8c5fb1\" xlink:type=\"simple\"><rect fill=\"#FFFFFF\" height=\"45.9375\" id=\"E12\" style=\"stroke: #383838; stroke-width: 1.5;\" width=\"66\" x=\"32\" y=\"62\"/><text fill=\"#000000\" font-family=\"sans-serif\" font-size=\"12\" font-style=\"italic\" lengthAdjust=\"spacingAndGlyphs\" textLength=\"64\" x=\"33\" y=\"78.1387\">«part def»</text><text fill=\"#000000\" font-family=\"sans-serif\" font-size=\"12\" lengthAdjust=\"spacingAndGlyphs\" textLength=\"16\" x=\"57\" y=\"92.1074\">B1</text><line style=\"stroke: #383838; stroke-width: 1.5;\" x1=\"33\" x2=\"97\" y1=\"99.9375\" y2=\"99.9375\"/></a><!--MD5=[ee3c913d1a06f366521f9ef512b67efe]\n",
       "class E13--><a href=\"psysml:080adc10-96fd-4f72-8d28-a6aae1d02a34\" target=\"_top\" title=\"psysml:080adc10-96fd-4f72-8d28-a6aae1d02a34\" xlink:actuate=\"onRequest\" xlink:href=\"psysml:080adc10-96fd-4f72-8d28-a6aae1d02a34\" xlink:show=\"new\" xlink:title=\"psysml:080adc10-96fd-4f72-8d28-a6aae1d02a34\" xlink:type=\"simple\"><rect fill=\"#FFFFFF\" height=\"88.3516\" id=\"E13\" rx=\"10\" ry=\"10\" style=\"stroke: #383838; stroke-width: 1.5;\" width=\"50\" x=\"40\" y=\"189\"/><text fill=\"#000000\" font-family=\"sans-serif\" font-size=\"12\" font-style=\"italic\" lengthAdjust=\"spacingAndGlyphs\" textLength=\"40\" x=\"45\" y=\"205.1387\">«part»</text><text fill=\"#000000\" font-family=\"sans-serif\" font-size=\"12\" lengthAdjust=\"spacingAndGlyphs\" textLength=\"8\" x=\"61\" y=\"219.1074\">p</text><line style=\"stroke: #383838; stroke-width: 1.5;\" x1=\"41\" x2=\"89\" y1=\"226.9375\" y2=\"226.9375\"/><text fill=\"#000000\" font-family=\"sans-serif\" font-size=\"11\" lengthAdjust=\"spacingAndGlyphs\" textLength=\"29\" x=\"46\" y=\"257.9526\">p1: P</text><text fill=\"#000000\" font-family=\"sans-serif\" font-size=\"11\" lengthAdjust=\"spacingAndGlyphs\" textLength=\"38\" x=\"46\" y=\"270.7573\">p2: ~P</text><line style=\"stroke: #383838; stroke-width: 1.0;\" x1=\"41\" x2=\"50\" y1=\"241.3398\" y2=\"241.3398\"/><text fill=\"#000000\" font-family=\"sans-serif\" font-size=\"11\" lengthAdjust=\"spacingAndGlyphs\" textLength=\"30\" x=\"50\" y=\"244.6479\">ports</text><line style=\"stroke: #383838; stroke-width: 1.0;\" x1=\"80\" x2=\"89\" y1=\"241.3398\" y2=\"241.3398\"/></a><!--MD5=[062ed86c389d1a88f61c6380d0491e17]\n",
       "reverse link E12 to E13--><a href=\"psysml:06665d43-130c-4b8a-bdfd-d93e6351f975\" target=\"_top\" title=\"psysml:06665d43-130c-4b8a-bdfd-d93e6351f975\" xlink:actuate=\"onRequest\" xlink:href=\"psysml:06665d43-130c-4b8a-bdfd-d93e6351f975\" xlink:show=\"new\" xlink:title=\"psysml:06665d43-130c-4b8a-bdfd-d93e6351f975\" xlink:type=\"simple\"><path d=\"M65,121.25 C65,141.54 65,167.2 65,188.71 \" fill=\"none\" id=\"E12&lt;-E13\" style=\"stroke: #383838; stroke-width: 1.0;\"/><polygon fill=\"#383838\" points=\"65,108.17,61,114.17,65,120.17,69,114.17,65,108.17\" style=\"stroke: #383838; stroke-width: 1.0;\"/></a><!--MD5=[410cecb450897cff08a28bea486b9f1f]\n",
       "@startuml\r\n",
       "skinparam monochrome true\r\n",
       "skinparam classbackgroundcolor white\r\n",
       "skinparam shadowing false\r\n",
       "skinparam wrapWidth 300\r\n",
       "hide circle\r\n",
       "\r\n",
       "package \"ConjugationTest\" as E1  [[psysml:56f2a3b4-cc43-4fa3-8695-199f33536b50 ]]  {\r\n",
       "comp def \"P\" as E2  <<(T,blue)port def>> [[psysml:c0a3bc73-93c5-4b4d-b763-5833239b73fd ]] {\r\n",
       "}\r\n",
       "comp def \"B\" as E3  <<(T,blue)part def>> [[psysml:5cf63d0b-bb26-43ea-8091-2694cfd07b61 ]] {\r\n",
       "- - ports - -\r\n",
       "p1: P\r\n",
       "p2: ~P\r\n",
       "}\r\n",
       "comp def \"A\" as E6  <<(T,blue)connection def>> [[psysml:c95e8ce0-7583-4d42-8de3-1e3c8277134a ]] {\r\n",
       "- - ports - -\r\n",
       "p1: P\r\n",
       "p2: ~P\r\n",
       "}\r\n",
       "comp def \"I\" as E9  <<(T,blue)interface def>> [[psysml:3dca2d5e-c062-4427-93b4-bcb55890dd40 ]] {\r\n",
       "- - ports - -\r\n",
       "p1: P\r\n",
       "p2: ~P\r\n",
       "}\r\n",
       "comp def \"B1\" as E12  <<(T,blue)part def>> [[psysml:239b6b7d-2819-4aeb-bfce-341b8d8c5fb1 ]] {\r\n",
       "}\r\n",
       "comp usage \"p\" as E13  <<(T,blue)part>> [[psysml:080adc10-96fd-4f72-8d28-a6aae1d02a34 ]] {\r\n",
       "- - ports - -\r\n",
       "p1: P\r\n",
       "p2: ~P\r\n",
       "}\r\n",
       "E12 *- - E13 [[psysml:06665d43-130c-4b8a-bdfd-d93e6351f975 ]] \r\n",
       "}\r\n",
       "@enduml\r\n",
       "\n",
       "PlantUML version 1.2020.13(Sat Jun 13 12:26:38 UTC 2020)\n",
       "(EPL source distribution)\n",
       "Java Runtime: OpenJDK Runtime Environment\n",
       "JVM: OpenJDK 64-Bit Server VM\n",
       "Default Encoding: UTF-8\n",
       "Language: en\n",
       "Country: null\n",
       "--></g></svg>"
      ]
     },
     "execution_count": 42,
     "metadata": {},
     "output_type": "execute_result"
    }
   ],
   "source": [
    "%viz --style=\"DEFAULT\" --view=\"Sequence\" \"ConjugationTest\""
   ]
  },
  {
   "cell_type": "code",
   "execution_count": 43,
   "id": "f9a11591",
   "metadata": {
    "execution": {
     "iopub.execute_input": "2021-04-20T07:00:16.840206Z",
     "iopub.status.busy": "2021-04-20T07:00:16.838852Z",
     "iopub.status.idle": "2021-04-20T07:00:16.924944Z",
     "shell.execute_reply": "2021-04-20T07:00:16.923608Z"
    }
   },
   "outputs": [
    {
     "data": {
      "image/svg+xml": [
       "<?xml version=\"1.0\" encoding=\"UTF-8\" standalone=\"no\"?><svg xmlns=\"http://www.w3.org/2000/svg\" xmlns:xlink=\"http://www.w3.org/1999/xlink\" contentScriptType=\"application/ecmascript\" contentStyleType=\"text/css\" height=\"305px\" preserveAspectRatio=\"none\" style=\"width:614px;height:305px;\" version=\"1.1\" viewBox=\"0 0 614 305\" width=\"614px\" zoomAndPan=\"magnify\"><defs/><g><!--MD5=[fbc87193dbaf4d95561dea2c320d4a47]\n",
       "cluster E1--><a href=\"psysml:56f2a3b4-cc43-4fa3-8695-199f33536b50\" target=\"_top\" title=\"psysml:56f2a3b4-cc43-4fa3-8695-199f33536b50\" xlink:actuate=\"onRequest\" xlink:href=\"psysml:56f2a3b4-cc43-4fa3-8695-199f33536b50\" xlink:show=\"new\" xlink:title=\"psysml:56f2a3b4-cc43-4fa3-8695-199f33536b50\" xlink:type=\"simple\"><polygon fill=\"#FFFFFF\" points=\"16,6,151,6,158,28.2969,592,28.2969,592,293,16,293,16,6\" style=\"stroke: #000000; stroke-width: 1.5;\"/><line style=\"stroke: #000000; stroke-width: 1.5;\" x1=\"16\" x2=\"158\" y1=\"28.2969\" y2=\"28.2969\"/><text fill=\"#000000\" font-family=\"sans-serif\" font-size=\"14\" font-weight=\"bold\" lengthAdjust=\"spacingAndGlyphs\" textLength=\"129\" x=\"20\" y=\"20.9951\">ConjugationTest</text></a><!--MD5=[b4997ac47864f28c2f74865a473b2911]\n",
       "class E2--><a href=\"psysml:c0a3bc73-93c5-4b4d-b763-5833239b73fd\" target=\"_top\" title=\"psysml:c0a3bc73-93c5-4b4d-b763-5833239b73fd\" xlink:actuate=\"onRequest\" xlink:href=\"psysml:c0a3bc73-93c5-4b4d-b763-5833239b73fd\" xlink:show=\"new\" xlink:title=\"psysml:c0a3bc73-93c5-4b4d-b763-5833239b73fd\" xlink:type=\"simple\"><rect fill=\"#FFFFFF\" height=\"45.9375\" id=\"E2\" style=\"stroke: #383838; stroke-width: 1.5;\" width=\"66\" x=\"510\" y=\"62\"/><text fill=\"#000000\" font-family=\"sans-serif\" font-size=\"12\" font-style=\"italic\" lengthAdjust=\"spacingAndGlyphs\" textLength=\"64\" x=\"511\" y=\"78.1387\">«port def»</text><text fill=\"#000000\" font-family=\"sans-serif\" font-size=\"12\" lengthAdjust=\"spacingAndGlyphs\" textLength=\"8\" x=\"539\" y=\"92.1074\">P</text><line style=\"stroke: #383838; stroke-width: 1.5;\" x1=\"511\" x2=\"575\" y1=\"99.9375\" y2=\"99.9375\"/></a><!--MD5=[09b614a08d8cba4a07c9adeb5e0fee81]\n",
       "class E3--><a href=\"psysml:5cf63d0b-bb26-43ea-8091-2694cfd07b61\" target=\"_top\" title=\"psysml:5cf63d0b-bb26-43ea-8091-2694cfd07b61\" xlink:actuate=\"onRequest\" xlink:href=\"psysml:5cf63d0b-bb26-43ea-8091-2694cfd07b61\" xlink:show=\"new\" xlink:title=\"psysml:5cf63d0b-bb26-43ea-8091-2694cfd07b61\" xlink:type=\"simple\"><rect fill=\"#FFFFFF\" height=\"88.3516\" id=\"E3\" style=\"stroke: #383838; stroke-width: 1.5;\" width=\"66\" x=\"409\" y=\"41\"/><text fill=\"#000000\" font-family=\"sans-serif\" font-size=\"12\" font-style=\"italic\" lengthAdjust=\"spacingAndGlyphs\" textLength=\"64\" x=\"410\" y=\"57.1387\">«part def»</text><text fill=\"#000000\" font-family=\"sans-serif\" font-size=\"12\" lengthAdjust=\"spacingAndGlyphs\" textLength=\"8\" x=\"438\" y=\"71.1074\">B</text><line style=\"stroke: #383838; stroke-width: 1.5;\" x1=\"410\" x2=\"474\" y1=\"78.9375\" y2=\"78.9375\"/><text fill=\"#000000\" font-family=\"sans-serif\" font-size=\"11\" lengthAdjust=\"spacingAndGlyphs\" textLength=\"29\" x=\"415\" y=\"109.9526\">p1: P</text><text fill=\"#000000\" font-family=\"sans-serif\" font-size=\"11\" lengthAdjust=\"spacingAndGlyphs\" textLength=\"38\" x=\"415\" y=\"122.7573\">p2: ~P</text><line style=\"stroke: #383838; stroke-width: 1.0;\" x1=\"410\" x2=\"427\" y1=\"93.3398\" y2=\"93.3398\"/><text fill=\"#000000\" font-family=\"sans-serif\" font-size=\"11\" lengthAdjust=\"spacingAndGlyphs\" textLength=\"30\" x=\"427\" y=\"96.6479\">ports</text><line style=\"stroke: #383838; stroke-width: 1.0;\" x1=\"457\" x2=\"474\" y1=\"93.3398\" y2=\"93.3398\"/></a><!--MD5=[60a26617385b1d2d0262a64233df1f8d]\n",
       "class E6--><a href=\"psysml:c95e8ce0-7583-4d42-8de3-1e3c8277134a\" target=\"_top\" title=\"psysml:c95e8ce0-7583-4d42-8de3-1e3c8277134a\" xlink:actuate=\"onRequest\" xlink:href=\"psysml:c95e8ce0-7583-4d42-8de3-1e3c8277134a\" xlink:show=\"new\" xlink:title=\"psysml:c95e8ce0-7583-4d42-8de3-1e3c8277134a\" xlink:type=\"simple\"><rect fill=\"#FFFFFF\" height=\"88.3516\" id=\"E6\" style=\"stroke: #383838; stroke-width: 1.5;\" width=\"110\" x=\"264\" y=\"41\"/><text fill=\"#000000\" font-family=\"sans-serif\" font-size=\"12\" font-style=\"italic\" lengthAdjust=\"spacingAndGlyphs\" textLength=\"108\" x=\"265\" y=\"57.1387\">«connection def»</text><text fill=\"#000000\" font-family=\"sans-serif\" font-size=\"12\" lengthAdjust=\"spacingAndGlyphs\" textLength=\"8\" x=\"315\" y=\"71.1074\">A</text><line style=\"stroke: #383838; stroke-width: 1.5;\" x1=\"265\" x2=\"373\" y1=\"78.9375\" y2=\"78.9375\"/><text fill=\"#000000\" font-family=\"sans-serif\" font-size=\"11\" lengthAdjust=\"spacingAndGlyphs\" textLength=\"29\" x=\"270\" y=\"109.9526\">p1: P</text><text fill=\"#000000\" font-family=\"sans-serif\" font-size=\"11\" lengthAdjust=\"spacingAndGlyphs\" textLength=\"38\" x=\"270\" y=\"122.7573\">p2: ~P</text><line style=\"stroke: #383838; stroke-width: 1.0;\" x1=\"265\" x2=\"304\" y1=\"93.3398\" y2=\"93.3398\"/><text fill=\"#000000\" font-family=\"sans-serif\" font-size=\"11\" lengthAdjust=\"spacingAndGlyphs\" textLength=\"30\" x=\"304\" y=\"96.6479\">ports</text><line style=\"stroke: #383838; stroke-width: 1.0;\" x1=\"334\" x2=\"373\" y1=\"93.3398\" y2=\"93.3398\"/></a><!--MD5=[fd4143e9d270a159db93a4ea2a975926]\n",
       "class E9--><a href=\"psysml:3dca2d5e-c062-4427-93b4-bcb55890dd40\" target=\"_top\" title=\"psysml:3dca2d5e-c062-4427-93b4-bcb55890dd40\" xlink:actuate=\"onRequest\" xlink:href=\"psysml:3dca2d5e-c062-4427-93b4-bcb55890dd40\" xlink:show=\"new\" xlink:title=\"psysml:3dca2d5e-c062-4427-93b4-bcb55890dd40\" xlink:type=\"simple\"><rect fill=\"#FFFFFF\" height=\"88.3516\" id=\"E9\" style=\"stroke: #383838; stroke-width: 1.5;\" width=\"96\" x=\"133\" y=\"41\"/><text fill=\"#000000\" font-family=\"sans-serif\" font-size=\"12\" font-style=\"italic\" lengthAdjust=\"spacingAndGlyphs\" textLength=\"94\" x=\"134\" y=\"57.1387\">«interface def»</text><text fill=\"#000000\" font-family=\"sans-serif\" font-size=\"12\" lengthAdjust=\"spacingAndGlyphs\" textLength=\"3\" x=\"179.5\" y=\"71.1074\">I</text><line style=\"stroke: #383838; stroke-width: 1.5;\" x1=\"134\" x2=\"228\" y1=\"78.9375\" y2=\"78.9375\"/><text fill=\"#000000\" font-family=\"sans-serif\" font-size=\"11\" lengthAdjust=\"spacingAndGlyphs\" textLength=\"29\" x=\"139\" y=\"109.9526\">p1: P</text><text fill=\"#000000\" font-family=\"sans-serif\" font-size=\"11\" lengthAdjust=\"spacingAndGlyphs\" textLength=\"38\" x=\"139\" y=\"122.7573\">p2: ~P</text><line style=\"stroke: #383838; stroke-width: 1.0;\" x1=\"134\" x2=\"166\" y1=\"93.3398\" y2=\"93.3398\"/><text fill=\"#000000\" font-family=\"sans-serif\" font-size=\"11\" lengthAdjust=\"spacingAndGlyphs\" textLength=\"30\" x=\"166\" y=\"96.6479\">ports</text><line style=\"stroke: #383838; stroke-width: 1.0;\" x1=\"196\" x2=\"228\" y1=\"93.3398\" y2=\"93.3398\"/></a><!--MD5=[49a0ec8f00dab7302a31f22d0f0fe584]\n",
       "class E12--><a href=\"psysml:239b6b7d-2819-4aeb-bfce-341b8d8c5fb1\" target=\"_top\" title=\"psysml:239b6b7d-2819-4aeb-bfce-341b8d8c5fb1\" xlink:actuate=\"onRequest\" xlink:href=\"psysml:239b6b7d-2819-4aeb-bfce-341b8d8c5fb1\" xlink:show=\"new\" xlink:title=\"psysml:239b6b7d-2819-4aeb-bfce-341b8d8c5fb1\" xlink:type=\"simple\"><rect fill=\"#FFFFFF\" height=\"45.9375\" id=\"E12\" style=\"stroke: #383838; stroke-width: 1.5;\" width=\"66\" x=\"32\" y=\"62\"/><text fill=\"#000000\" font-family=\"sans-serif\" font-size=\"12\" font-style=\"italic\" lengthAdjust=\"spacingAndGlyphs\" textLength=\"64\" x=\"33\" y=\"78.1387\">«part def»</text><text fill=\"#000000\" font-family=\"sans-serif\" font-size=\"12\" lengthAdjust=\"spacingAndGlyphs\" textLength=\"16\" x=\"57\" y=\"92.1074\">B1</text><line style=\"stroke: #383838; stroke-width: 1.5;\" x1=\"33\" x2=\"97\" y1=\"99.9375\" y2=\"99.9375\"/></a><!--MD5=[ee3c913d1a06f366521f9ef512b67efe]\n",
       "class E13--><a href=\"psysml:080adc10-96fd-4f72-8d28-a6aae1d02a34\" target=\"_top\" title=\"psysml:080adc10-96fd-4f72-8d28-a6aae1d02a34\" xlink:actuate=\"onRequest\" xlink:href=\"psysml:080adc10-96fd-4f72-8d28-a6aae1d02a34\" xlink:show=\"new\" xlink:title=\"psysml:080adc10-96fd-4f72-8d28-a6aae1d02a34\" xlink:type=\"simple\"><rect fill=\"#FFFFFF\" height=\"88.3516\" id=\"E13\" rx=\"10\" ry=\"10\" style=\"stroke: #383838; stroke-width: 1.5;\" width=\"50\" x=\"40\" y=\"189\"/><text fill=\"#000000\" font-family=\"sans-serif\" font-size=\"12\" font-style=\"italic\" lengthAdjust=\"spacingAndGlyphs\" textLength=\"40\" x=\"45\" y=\"205.1387\">«part»</text><text fill=\"#000000\" font-family=\"sans-serif\" font-size=\"12\" lengthAdjust=\"spacingAndGlyphs\" textLength=\"8\" x=\"61\" y=\"219.1074\">p</text><line style=\"stroke: #383838; stroke-width: 1.5;\" x1=\"41\" x2=\"89\" y1=\"226.9375\" y2=\"226.9375\"/><text fill=\"#000000\" font-family=\"sans-serif\" font-size=\"11\" lengthAdjust=\"spacingAndGlyphs\" textLength=\"29\" x=\"46\" y=\"257.9526\">p1: P</text><text fill=\"#000000\" font-family=\"sans-serif\" font-size=\"11\" lengthAdjust=\"spacingAndGlyphs\" textLength=\"38\" x=\"46\" y=\"270.7573\">p2: ~P</text><line style=\"stroke: #383838; stroke-width: 1.0;\" x1=\"41\" x2=\"50\" y1=\"241.3398\" y2=\"241.3398\"/><text fill=\"#000000\" font-family=\"sans-serif\" font-size=\"11\" lengthAdjust=\"spacingAndGlyphs\" textLength=\"30\" x=\"50\" y=\"244.6479\">ports</text><line style=\"stroke: #383838; stroke-width: 1.0;\" x1=\"80\" x2=\"89\" y1=\"241.3398\" y2=\"241.3398\"/></a><!--MD5=[062ed86c389d1a88f61c6380d0491e17]\n",
       "reverse link E12 to E13--><a href=\"psysml:06665d43-130c-4b8a-bdfd-d93e6351f975\" target=\"_top\" title=\"psysml:06665d43-130c-4b8a-bdfd-d93e6351f975\" xlink:actuate=\"onRequest\" xlink:href=\"psysml:06665d43-130c-4b8a-bdfd-d93e6351f975\" xlink:show=\"new\" xlink:title=\"psysml:06665d43-130c-4b8a-bdfd-d93e6351f975\" xlink:type=\"simple\"><path d=\"M65,121.25 C65,141.54 65,167.2 65,188.71 \" fill=\"none\" id=\"E12&lt;-E13\" style=\"stroke: #383838; stroke-width: 1.0;\"/><polygon fill=\"#383838\" points=\"65,108.17,61,114.17,65,120.17,69,114.17,65,108.17\" style=\"stroke: #383838; stroke-width: 1.0;\"/></a><!--MD5=[410cecb450897cff08a28bea486b9f1f]\n",
       "@startuml\r\n",
       "skinparam monochrome true\r\n",
       "skinparam classbackgroundcolor white\r\n",
       "skinparam shadowing false\r\n",
       "skinparam wrapWidth 300\r\n",
       "hide circle\r\n",
       "\r\n",
       "package \"ConjugationTest\" as E1  [[psysml:56f2a3b4-cc43-4fa3-8695-199f33536b50 ]]  {\r\n",
       "comp def \"P\" as E2  <<(T,blue)port def>> [[psysml:c0a3bc73-93c5-4b4d-b763-5833239b73fd ]] {\r\n",
       "}\r\n",
       "comp def \"B\" as E3  <<(T,blue)part def>> [[psysml:5cf63d0b-bb26-43ea-8091-2694cfd07b61 ]] {\r\n",
       "- - ports - -\r\n",
       "p1: P\r\n",
       "p2: ~P\r\n",
       "}\r\n",
       "comp def \"A\" as E6  <<(T,blue)connection def>> [[psysml:c95e8ce0-7583-4d42-8de3-1e3c8277134a ]] {\r\n",
       "- - ports - -\r\n",
       "p1: P\r\n",
       "p2: ~P\r\n",
       "}\r\n",
       "comp def \"I\" as E9  <<(T,blue)interface def>> [[psysml:3dca2d5e-c062-4427-93b4-bcb55890dd40 ]] {\r\n",
       "- - ports - -\r\n",
       "p1: P\r\n",
       "p2: ~P\r\n",
       "}\r\n",
       "comp def \"B1\" as E12  <<(T,blue)part def>> [[psysml:239b6b7d-2819-4aeb-bfce-341b8d8c5fb1 ]] {\r\n",
       "}\r\n",
       "comp usage \"p\" as E13  <<(T,blue)part>> [[psysml:080adc10-96fd-4f72-8d28-a6aae1d02a34 ]] {\r\n",
       "- - ports - -\r\n",
       "p1: P\r\n",
       "p2: ~P\r\n",
       "}\r\n",
       "E12 *- - E13 [[psysml:06665d43-130c-4b8a-bdfd-d93e6351f975 ]] \r\n",
       "}\r\n",
       "@enduml\r\n",
       "\n",
       "PlantUML version 1.2020.13(Sat Jun 13 12:26:38 UTC 2020)\n",
       "(EPL source distribution)\n",
       "Java Runtime: OpenJDK Runtime Environment\n",
       "JVM: OpenJDK 64-Bit Server VM\n",
       "Default Encoding: UTF-8\n",
       "Language: en\n",
       "Country: null\n",
       "--></g></svg>"
      ]
     },
     "execution_count": 43,
     "metadata": {},
     "output_type": "execute_result"
    }
   ],
   "source": [
    "%viz --style=\"DEFAULT\" --view=\"MIXED\" \"ConjugationTest\""
   ]
  },
  {
   "cell_type": "code",
   "execution_count": 44,
   "id": "707db943",
   "metadata": {
    "execution": {
     "iopub.execute_input": "2021-04-20T07:00:16.975673Z",
     "iopub.status.busy": "2021-04-20T07:00:16.975184Z",
     "iopub.status.idle": "2021-04-20T07:00:17.058197Z",
     "shell.execute_reply": "2021-04-20T07:00:17.056864Z"
    }
   },
   "outputs": [
    {
     "data": {
      "image/svg+xml": [
       "<?xml version=\"1.0\" encoding=\"UTF-8\" standalone=\"no\"?><svg xmlns=\"http://www.w3.org/2000/svg\" xmlns:xlink=\"http://www.w3.org/1999/xlink\" contentScriptType=\"application/ecmascript\" contentStyleType=\"text/css\" height=\"305px\" preserveAspectRatio=\"none\" style=\"width:614px;height:305px;\" version=\"1.1\" viewBox=\"0 0 614 305\" width=\"614px\" zoomAndPan=\"magnify\"><defs/><g><!--MD5=[fbc87193dbaf4d95561dea2c320d4a47]\n",
       "cluster E1--><a href=\"psysml:56f2a3b4-cc43-4fa3-8695-199f33536b50\" target=\"_top\" title=\"psysml:56f2a3b4-cc43-4fa3-8695-199f33536b50\" xlink:actuate=\"onRequest\" xlink:href=\"psysml:56f2a3b4-cc43-4fa3-8695-199f33536b50\" xlink:show=\"new\" xlink:title=\"psysml:56f2a3b4-cc43-4fa3-8695-199f33536b50\" xlink:type=\"simple\"><polygon fill=\"#FFFFFF\" points=\"16,6,151,6,158,28.2969,592,28.2969,592,293,16,293,16,6\" style=\"stroke: #000000; stroke-width: 1.5;\"/><line style=\"stroke: #000000; stroke-width: 1.5;\" x1=\"16\" x2=\"158\" y1=\"28.2969\" y2=\"28.2969\"/><text fill=\"#000000\" font-family=\"sans-serif\" font-size=\"14\" font-weight=\"bold\" lengthAdjust=\"spacingAndGlyphs\" textLength=\"129\" x=\"20\" y=\"20.9951\">ConjugationTest</text></a><!--MD5=[b4997ac47864f28c2f74865a473b2911]\n",
       "class E2--><a href=\"psysml:c0a3bc73-93c5-4b4d-b763-5833239b73fd\" target=\"_top\" title=\"psysml:c0a3bc73-93c5-4b4d-b763-5833239b73fd\" xlink:actuate=\"onRequest\" xlink:href=\"psysml:c0a3bc73-93c5-4b4d-b763-5833239b73fd\" xlink:show=\"new\" xlink:title=\"psysml:c0a3bc73-93c5-4b4d-b763-5833239b73fd\" xlink:type=\"simple\"><rect fill=\"#FFFFFF\" height=\"45.9375\" id=\"E2\" style=\"stroke: #383838; stroke-width: 1.5;\" width=\"66\" x=\"510\" y=\"62\"/><text fill=\"#000000\" font-family=\"sans-serif\" font-size=\"12\" font-style=\"italic\" lengthAdjust=\"spacingAndGlyphs\" textLength=\"64\" x=\"511\" y=\"78.1387\">«port def»</text><text fill=\"#000000\" font-family=\"sans-serif\" font-size=\"12\" lengthAdjust=\"spacingAndGlyphs\" textLength=\"8\" x=\"539\" y=\"92.1074\">P</text><line style=\"stroke: #383838; stroke-width: 1.5;\" x1=\"511\" x2=\"575\" y1=\"99.9375\" y2=\"99.9375\"/></a><!--MD5=[09b614a08d8cba4a07c9adeb5e0fee81]\n",
       "class E3--><a href=\"psysml:5cf63d0b-bb26-43ea-8091-2694cfd07b61\" target=\"_top\" title=\"psysml:5cf63d0b-bb26-43ea-8091-2694cfd07b61\" xlink:actuate=\"onRequest\" xlink:href=\"psysml:5cf63d0b-bb26-43ea-8091-2694cfd07b61\" xlink:show=\"new\" xlink:title=\"psysml:5cf63d0b-bb26-43ea-8091-2694cfd07b61\" xlink:type=\"simple\"><rect fill=\"#FFFFFF\" height=\"88.3516\" id=\"E3\" style=\"stroke: #383838; stroke-width: 1.5;\" width=\"66\" x=\"409\" y=\"41\"/><text fill=\"#000000\" font-family=\"sans-serif\" font-size=\"12\" font-style=\"italic\" lengthAdjust=\"spacingAndGlyphs\" textLength=\"64\" x=\"410\" y=\"57.1387\">«part def»</text><text fill=\"#000000\" font-family=\"sans-serif\" font-size=\"12\" lengthAdjust=\"spacingAndGlyphs\" textLength=\"8\" x=\"438\" y=\"71.1074\">B</text><line style=\"stroke: #383838; stroke-width: 1.5;\" x1=\"410\" x2=\"474\" y1=\"78.9375\" y2=\"78.9375\"/><text fill=\"#000000\" font-family=\"sans-serif\" font-size=\"11\" lengthAdjust=\"spacingAndGlyphs\" textLength=\"29\" x=\"415\" y=\"109.9526\">p1: P</text><text fill=\"#000000\" font-family=\"sans-serif\" font-size=\"11\" lengthAdjust=\"spacingAndGlyphs\" textLength=\"38\" x=\"415\" y=\"122.7573\">p2: ~P</text><line style=\"stroke: #383838; stroke-width: 1.0;\" x1=\"410\" x2=\"427\" y1=\"93.3398\" y2=\"93.3398\"/><text fill=\"#000000\" font-family=\"sans-serif\" font-size=\"11\" lengthAdjust=\"spacingAndGlyphs\" textLength=\"30\" x=\"427\" y=\"96.6479\">ports</text><line style=\"stroke: #383838; stroke-width: 1.0;\" x1=\"457\" x2=\"474\" y1=\"93.3398\" y2=\"93.3398\"/></a><!--MD5=[60a26617385b1d2d0262a64233df1f8d]\n",
       "class E6--><a href=\"psysml:c95e8ce0-7583-4d42-8de3-1e3c8277134a\" target=\"_top\" title=\"psysml:c95e8ce0-7583-4d42-8de3-1e3c8277134a\" xlink:actuate=\"onRequest\" xlink:href=\"psysml:c95e8ce0-7583-4d42-8de3-1e3c8277134a\" xlink:show=\"new\" xlink:title=\"psysml:c95e8ce0-7583-4d42-8de3-1e3c8277134a\" xlink:type=\"simple\"><rect fill=\"#FFFFFF\" height=\"88.3516\" id=\"E6\" style=\"stroke: #383838; stroke-width: 1.5;\" width=\"110\" x=\"264\" y=\"41\"/><text fill=\"#000000\" font-family=\"sans-serif\" font-size=\"12\" font-style=\"italic\" lengthAdjust=\"spacingAndGlyphs\" textLength=\"108\" x=\"265\" y=\"57.1387\">«connection def»</text><text fill=\"#000000\" font-family=\"sans-serif\" font-size=\"12\" lengthAdjust=\"spacingAndGlyphs\" textLength=\"8\" x=\"315\" y=\"71.1074\">A</text><line style=\"stroke: #383838; stroke-width: 1.5;\" x1=\"265\" x2=\"373\" y1=\"78.9375\" y2=\"78.9375\"/><text fill=\"#000000\" font-family=\"sans-serif\" font-size=\"11\" lengthAdjust=\"spacingAndGlyphs\" textLength=\"29\" x=\"270\" y=\"109.9526\">p1: P</text><text fill=\"#000000\" font-family=\"sans-serif\" font-size=\"11\" lengthAdjust=\"spacingAndGlyphs\" textLength=\"38\" x=\"270\" y=\"122.7573\">p2: ~P</text><line style=\"stroke: #383838; stroke-width: 1.0;\" x1=\"265\" x2=\"304\" y1=\"93.3398\" y2=\"93.3398\"/><text fill=\"#000000\" font-family=\"sans-serif\" font-size=\"11\" lengthAdjust=\"spacingAndGlyphs\" textLength=\"30\" x=\"304\" y=\"96.6479\">ports</text><line style=\"stroke: #383838; stroke-width: 1.0;\" x1=\"334\" x2=\"373\" y1=\"93.3398\" y2=\"93.3398\"/></a><!--MD5=[fd4143e9d270a159db93a4ea2a975926]\n",
       "class E9--><a href=\"psysml:3dca2d5e-c062-4427-93b4-bcb55890dd40\" target=\"_top\" title=\"psysml:3dca2d5e-c062-4427-93b4-bcb55890dd40\" xlink:actuate=\"onRequest\" xlink:href=\"psysml:3dca2d5e-c062-4427-93b4-bcb55890dd40\" xlink:show=\"new\" xlink:title=\"psysml:3dca2d5e-c062-4427-93b4-bcb55890dd40\" xlink:type=\"simple\"><rect fill=\"#FFFFFF\" height=\"88.3516\" id=\"E9\" style=\"stroke: #383838; stroke-width: 1.5;\" width=\"96\" x=\"133\" y=\"41\"/><text fill=\"#000000\" font-family=\"sans-serif\" font-size=\"12\" font-style=\"italic\" lengthAdjust=\"spacingAndGlyphs\" textLength=\"94\" x=\"134\" y=\"57.1387\">«interface def»</text><text fill=\"#000000\" font-family=\"sans-serif\" font-size=\"12\" lengthAdjust=\"spacingAndGlyphs\" textLength=\"3\" x=\"179.5\" y=\"71.1074\">I</text><line style=\"stroke: #383838; stroke-width: 1.5;\" x1=\"134\" x2=\"228\" y1=\"78.9375\" y2=\"78.9375\"/><text fill=\"#000000\" font-family=\"sans-serif\" font-size=\"11\" lengthAdjust=\"spacingAndGlyphs\" textLength=\"29\" x=\"139\" y=\"109.9526\">p1: P</text><text fill=\"#000000\" font-family=\"sans-serif\" font-size=\"11\" lengthAdjust=\"spacingAndGlyphs\" textLength=\"38\" x=\"139\" y=\"122.7573\">p2: ~P</text><line style=\"stroke: #383838; stroke-width: 1.0;\" x1=\"134\" x2=\"166\" y1=\"93.3398\" y2=\"93.3398\"/><text fill=\"#000000\" font-family=\"sans-serif\" font-size=\"11\" lengthAdjust=\"spacingAndGlyphs\" textLength=\"30\" x=\"166\" y=\"96.6479\">ports</text><line style=\"stroke: #383838; stroke-width: 1.0;\" x1=\"196\" x2=\"228\" y1=\"93.3398\" y2=\"93.3398\"/></a><!--MD5=[49a0ec8f00dab7302a31f22d0f0fe584]\n",
       "class E12--><a href=\"psysml:239b6b7d-2819-4aeb-bfce-341b8d8c5fb1\" target=\"_top\" title=\"psysml:239b6b7d-2819-4aeb-bfce-341b8d8c5fb1\" xlink:actuate=\"onRequest\" xlink:href=\"psysml:239b6b7d-2819-4aeb-bfce-341b8d8c5fb1\" xlink:show=\"new\" xlink:title=\"psysml:239b6b7d-2819-4aeb-bfce-341b8d8c5fb1\" xlink:type=\"simple\"><rect fill=\"#FFFFFF\" height=\"45.9375\" id=\"E12\" style=\"stroke: #383838; stroke-width: 1.5;\" width=\"66\" x=\"32\" y=\"62\"/><text fill=\"#000000\" font-family=\"sans-serif\" font-size=\"12\" font-style=\"italic\" lengthAdjust=\"spacingAndGlyphs\" textLength=\"64\" x=\"33\" y=\"78.1387\">«part def»</text><text fill=\"#000000\" font-family=\"sans-serif\" font-size=\"12\" lengthAdjust=\"spacingAndGlyphs\" textLength=\"16\" x=\"57\" y=\"92.1074\">B1</text><line style=\"stroke: #383838; stroke-width: 1.5;\" x1=\"33\" x2=\"97\" y1=\"99.9375\" y2=\"99.9375\"/></a><!--MD5=[ee3c913d1a06f366521f9ef512b67efe]\n",
       "class E13--><a href=\"psysml:080adc10-96fd-4f72-8d28-a6aae1d02a34\" target=\"_top\" title=\"psysml:080adc10-96fd-4f72-8d28-a6aae1d02a34\" xlink:actuate=\"onRequest\" xlink:href=\"psysml:080adc10-96fd-4f72-8d28-a6aae1d02a34\" xlink:show=\"new\" xlink:title=\"psysml:080adc10-96fd-4f72-8d28-a6aae1d02a34\" xlink:type=\"simple\"><rect fill=\"#FFFFFF\" height=\"88.3516\" id=\"E13\" rx=\"10\" ry=\"10\" style=\"stroke: #383838; stroke-width: 1.5;\" width=\"50\" x=\"40\" y=\"189\"/><text fill=\"#000000\" font-family=\"sans-serif\" font-size=\"12\" font-style=\"italic\" lengthAdjust=\"spacingAndGlyphs\" textLength=\"40\" x=\"45\" y=\"205.1387\">«part»</text><text fill=\"#000000\" font-family=\"sans-serif\" font-size=\"12\" lengthAdjust=\"spacingAndGlyphs\" textLength=\"8\" x=\"61\" y=\"219.1074\">p</text><line style=\"stroke: #383838; stroke-width: 1.5;\" x1=\"41\" x2=\"89\" y1=\"226.9375\" y2=\"226.9375\"/><text fill=\"#000000\" font-family=\"sans-serif\" font-size=\"11\" lengthAdjust=\"spacingAndGlyphs\" textLength=\"29\" x=\"46\" y=\"257.9526\">p1: P</text><text fill=\"#000000\" font-family=\"sans-serif\" font-size=\"11\" lengthAdjust=\"spacingAndGlyphs\" textLength=\"38\" x=\"46\" y=\"270.7573\">p2: ~P</text><line style=\"stroke: #383838; stroke-width: 1.0;\" x1=\"41\" x2=\"50\" y1=\"241.3398\" y2=\"241.3398\"/><text fill=\"#000000\" font-family=\"sans-serif\" font-size=\"11\" lengthAdjust=\"spacingAndGlyphs\" textLength=\"30\" x=\"50\" y=\"244.6479\">ports</text><line style=\"stroke: #383838; stroke-width: 1.0;\" x1=\"80\" x2=\"89\" y1=\"241.3398\" y2=\"241.3398\"/></a><!--MD5=[062ed86c389d1a88f61c6380d0491e17]\n",
       "reverse link E12 to E13--><a href=\"psysml:06665d43-130c-4b8a-bdfd-d93e6351f975\" target=\"_top\" title=\"psysml:06665d43-130c-4b8a-bdfd-d93e6351f975\" xlink:actuate=\"onRequest\" xlink:href=\"psysml:06665d43-130c-4b8a-bdfd-d93e6351f975\" xlink:show=\"new\" xlink:title=\"psysml:06665d43-130c-4b8a-bdfd-d93e6351f975\" xlink:type=\"simple\"><path d=\"M65,121.25 C65,141.54 65,167.2 65,188.71 \" fill=\"none\" id=\"E12&lt;-E13\" style=\"stroke: #383838; stroke-width: 1.0;\"/><polygon fill=\"#383838\" points=\"65,108.17,61,114.17,65,120.17,69,114.17,65,108.17\" style=\"stroke: #383838; stroke-width: 1.0;\"/></a><!--MD5=[da39f33879800d957325302bd24f101d]\n",
       "@startuml\r\n",
       "top to bottom direction\r\n",
       "skinparam monochrome true\r\n",
       "skinparam classbackgroundcolor white\r\n",
       "skinparam shadowing false\r\n",
       "skinparam wrapWidth 300\r\n",
       "hide circle\r\n",
       "\r\n",
       "package \"ConjugationTest\" as E1  [[psysml:56f2a3b4-cc43-4fa3-8695-199f33536b50 ]]  {\r\n",
       "comp def \"P\" as E2  <<(T,blue)port def>> [[psysml:c0a3bc73-93c5-4b4d-b763-5833239b73fd ]] {\r\n",
       "}\r\n",
       "comp def \"B\" as E3  <<(T,blue)part def>> [[psysml:5cf63d0b-bb26-43ea-8091-2694cfd07b61 ]] {\r\n",
       "- - ports - -\r\n",
       "p1: P\r\n",
       "p2: ~P\r\n",
       "}\r\n",
       "comp def \"A\" as E6  <<(T,blue)connection def>> [[psysml:c95e8ce0-7583-4d42-8de3-1e3c8277134a ]] {\r\n",
       "- - ports - -\r\n",
       "p1: P\r\n",
       "p2: ~P\r\n",
       "}\r\n",
       "comp def \"I\" as E9  <<(T,blue)interface def>> [[psysml:3dca2d5e-c062-4427-93b4-bcb55890dd40 ]] {\r\n",
       "- - ports - -\r\n",
       "p1: P\r\n",
       "p2: ~P\r\n",
       "}\r\n",
       "comp def \"B1\" as E12  <<(T,blue)part def>> [[psysml:239b6b7d-2819-4aeb-bfce-341b8d8c5fb1 ]] {\r\n",
       "}\r\n",
       "comp usage \"p\" as E13  <<(T,blue)part>> [[psysml:080adc10-96fd-4f72-8d28-a6aae1d02a34 ]] {\r\n",
       "- - ports - -\r\n",
       "p1: P\r\n",
       "p2: ~P\r\n",
       "}\r\n",
       "E12 *- - E13 [[psysml:06665d43-130c-4b8a-bdfd-d93e6351f975 ]] \r\n",
       "}\r\n",
       "@enduml\r\n",
       "\n",
       "PlantUML version 1.2020.13(Sat Jun 13 12:26:38 UTC 2020)\n",
       "(EPL source distribution)\n",
       "Java Runtime: OpenJDK Runtime Environment\n",
       "JVM: OpenJDK 64-Bit Server VM\n",
       "Default Encoding: UTF-8\n",
       "Language: en\n",
       "Country: null\n",
       "--></g></svg>"
      ]
     },
     "execution_count": 44,
     "metadata": {},
     "output_type": "execute_result"
    }
   ],
   "source": [
    "%viz --style=\"TB\" --view=\"Default\" \"ConjugationTest\""
   ]
  },
  {
   "cell_type": "code",
   "execution_count": 45,
   "id": "1ce22d70",
   "metadata": {
    "execution": {
     "iopub.execute_input": "2021-04-20T07:00:17.108417Z",
     "iopub.status.busy": "2021-04-20T07:00:17.108011Z",
     "iopub.status.idle": "2021-04-20T07:00:17.192093Z",
     "shell.execute_reply": "2021-04-20T07:00:17.190686Z"
    }
   },
   "outputs": [
    {
     "data": {
      "image/svg+xml": [
       "<?xml version=\"1.0\" encoding=\"UTF-8\" standalone=\"no\"?><svg xmlns=\"http://www.w3.org/2000/svg\" xmlns:xlink=\"http://www.w3.org/1999/xlink\" contentScriptType=\"application/ecmascript\" contentStyleType=\"text/css\" height=\"305px\" preserveAspectRatio=\"none\" style=\"width:614px;height:305px;\" version=\"1.1\" viewBox=\"0 0 614 305\" width=\"614px\" zoomAndPan=\"magnify\"><defs/><g><!--MD5=[fbc87193dbaf4d95561dea2c320d4a47]\n",
       "cluster E1--><a href=\"psysml:56f2a3b4-cc43-4fa3-8695-199f33536b50\" target=\"_top\" title=\"psysml:56f2a3b4-cc43-4fa3-8695-199f33536b50\" xlink:actuate=\"onRequest\" xlink:href=\"psysml:56f2a3b4-cc43-4fa3-8695-199f33536b50\" xlink:show=\"new\" xlink:title=\"psysml:56f2a3b4-cc43-4fa3-8695-199f33536b50\" xlink:type=\"simple\"><polygon fill=\"#FFFFFF\" points=\"16,6,151,6,158,28.2969,592,28.2969,592,293,16,293,16,6\" style=\"stroke: #000000; stroke-width: 1.5;\"/><line style=\"stroke: #000000; stroke-width: 1.5;\" x1=\"16\" x2=\"158\" y1=\"28.2969\" y2=\"28.2969\"/><text fill=\"#000000\" font-family=\"sans-serif\" font-size=\"14\" font-weight=\"bold\" lengthAdjust=\"spacingAndGlyphs\" textLength=\"129\" x=\"20\" y=\"20.9951\">ConjugationTest</text></a><!--MD5=[b4997ac47864f28c2f74865a473b2911]\n",
       "class E2--><a href=\"psysml:c0a3bc73-93c5-4b4d-b763-5833239b73fd\" target=\"_top\" title=\"psysml:c0a3bc73-93c5-4b4d-b763-5833239b73fd\" xlink:actuate=\"onRequest\" xlink:href=\"psysml:c0a3bc73-93c5-4b4d-b763-5833239b73fd\" xlink:show=\"new\" xlink:title=\"psysml:c0a3bc73-93c5-4b4d-b763-5833239b73fd\" xlink:type=\"simple\"><rect fill=\"#FFFFFF\" height=\"45.9375\" id=\"E2\" style=\"stroke: #383838; stroke-width: 1.5;\" width=\"66\" x=\"510\" y=\"62\"/><text fill=\"#000000\" font-family=\"sans-serif\" font-size=\"12\" font-style=\"italic\" lengthAdjust=\"spacingAndGlyphs\" textLength=\"64\" x=\"511\" y=\"78.1387\">«port def»</text><text fill=\"#000000\" font-family=\"sans-serif\" font-size=\"12\" lengthAdjust=\"spacingAndGlyphs\" textLength=\"8\" x=\"539\" y=\"92.1074\">P</text><line style=\"stroke: #383838; stroke-width: 1.5;\" x1=\"511\" x2=\"575\" y1=\"99.9375\" y2=\"99.9375\"/></a><!--MD5=[09b614a08d8cba4a07c9adeb5e0fee81]\n",
       "class E3--><a href=\"psysml:5cf63d0b-bb26-43ea-8091-2694cfd07b61\" target=\"_top\" title=\"psysml:5cf63d0b-bb26-43ea-8091-2694cfd07b61\" xlink:actuate=\"onRequest\" xlink:href=\"psysml:5cf63d0b-bb26-43ea-8091-2694cfd07b61\" xlink:show=\"new\" xlink:title=\"psysml:5cf63d0b-bb26-43ea-8091-2694cfd07b61\" xlink:type=\"simple\"><rect fill=\"#FFFFFF\" height=\"88.3516\" id=\"E3\" style=\"stroke: #383838; stroke-width: 1.5;\" width=\"66\" x=\"409\" y=\"41\"/><text fill=\"#000000\" font-family=\"sans-serif\" font-size=\"12\" font-style=\"italic\" lengthAdjust=\"spacingAndGlyphs\" textLength=\"64\" x=\"410\" y=\"57.1387\">«part def»</text><text fill=\"#000000\" font-family=\"sans-serif\" font-size=\"12\" lengthAdjust=\"spacingAndGlyphs\" textLength=\"8\" x=\"438\" y=\"71.1074\">B</text><line style=\"stroke: #383838; stroke-width: 1.5;\" x1=\"410\" x2=\"474\" y1=\"78.9375\" y2=\"78.9375\"/><text fill=\"#000000\" font-family=\"sans-serif\" font-size=\"11\" lengthAdjust=\"spacingAndGlyphs\" textLength=\"29\" x=\"415\" y=\"109.9526\">p1: P</text><text fill=\"#000000\" font-family=\"sans-serif\" font-size=\"11\" lengthAdjust=\"spacingAndGlyphs\" textLength=\"38\" x=\"415\" y=\"122.7573\">p2: ~P</text><line style=\"stroke: #383838; stroke-width: 1.0;\" x1=\"410\" x2=\"427\" y1=\"93.3398\" y2=\"93.3398\"/><text fill=\"#000000\" font-family=\"sans-serif\" font-size=\"11\" lengthAdjust=\"spacingAndGlyphs\" textLength=\"30\" x=\"427\" y=\"96.6479\">ports</text><line style=\"stroke: #383838; stroke-width: 1.0;\" x1=\"457\" x2=\"474\" y1=\"93.3398\" y2=\"93.3398\"/></a><!--MD5=[60a26617385b1d2d0262a64233df1f8d]\n",
       "class E6--><a href=\"psysml:c95e8ce0-7583-4d42-8de3-1e3c8277134a\" target=\"_top\" title=\"psysml:c95e8ce0-7583-4d42-8de3-1e3c8277134a\" xlink:actuate=\"onRequest\" xlink:href=\"psysml:c95e8ce0-7583-4d42-8de3-1e3c8277134a\" xlink:show=\"new\" xlink:title=\"psysml:c95e8ce0-7583-4d42-8de3-1e3c8277134a\" xlink:type=\"simple\"><rect fill=\"#FFFFFF\" height=\"88.3516\" id=\"E6\" style=\"stroke: #383838; stroke-width: 1.5;\" width=\"110\" x=\"264\" y=\"41\"/><text fill=\"#000000\" font-family=\"sans-serif\" font-size=\"12\" font-style=\"italic\" lengthAdjust=\"spacingAndGlyphs\" textLength=\"108\" x=\"265\" y=\"57.1387\">«connection def»</text><text fill=\"#000000\" font-family=\"sans-serif\" font-size=\"12\" lengthAdjust=\"spacingAndGlyphs\" textLength=\"8\" x=\"315\" y=\"71.1074\">A</text><line style=\"stroke: #383838; stroke-width: 1.5;\" x1=\"265\" x2=\"373\" y1=\"78.9375\" y2=\"78.9375\"/><text fill=\"#000000\" font-family=\"sans-serif\" font-size=\"11\" lengthAdjust=\"spacingAndGlyphs\" textLength=\"29\" x=\"270\" y=\"109.9526\">p1: P</text><text fill=\"#000000\" font-family=\"sans-serif\" font-size=\"11\" lengthAdjust=\"spacingAndGlyphs\" textLength=\"38\" x=\"270\" y=\"122.7573\">p2: ~P</text><line style=\"stroke: #383838; stroke-width: 1.0;\" x1=\"265\" x2=\"304\" y1=\"93.3398\" y2=\"93.3398\"/><text fill=\"#000000\" font-family=\"sans-serif\" font-size=\"11\" lengthAdjust=\"spacingAndGlyphs\" textLength=\"30\" x=\"304\" y=\"96.6479\">ports</text><line style=\"stroke: #383838; stroke-width: 1.0;\" x1=\"334\" x2=\"373\" y1=\"93.3398\" y2=\"93.3398\"/></a><!--MD5=[fd4143e9d270a159db93a4ea2a975926]\n",
       "class E9--><a href=\"psysml:3dca2d5e-c062-4427-93b4-bcb55890dd40\" target=\"_top\" title=\"psysml:3dca2d5e-c062-4427-93b4-bcb55890dd40\" xlink:actuate=\"onRequest\" xlink:href=\"psysml:3dca2d5e-c062-4427-93b4-bcb55890dd40\" xlink:show=\"new\" xlink:title=\"psysml:3dca2d5e-c062-4427-93b4-bcb55890dd40\" xlink:type=\"simple\"><rect fill=\"#FFFFFF\" height=\"88.3516\" id=\"E9\" style=\"stroke: #383838; stroke-width: 1.5;\" width=\"96\" x=\"133\" y=\"41\"/><text fill=\"#000000\" font-family=\"sans-serif\" font-size=\"12\" font-style=\"italic\" lengthAdjust=\"spacingAndGlyphs\" textLength=\"94\" x=\"134\" y=\"57.1387\">«interface def»</text><text fill=\"#000000\" font-family=\"sans-serif\" font-size=\"12\" lengthAdjust=\"spacingAndGlyphs\" textLength=\"3\" x=\"179.5\" y=\"71.1074\">I</text><line style=\"stroke: #383838; stroke-width: 1.5;\" x1=\"134\" x2=\"228\" y1=\"78.9375\" y2=\"78.9375\"/><text fill=\"#000000\" font-family=\"sans-serif\" font-size=\"11\" lengthAdjust=\"spacingAndGlyphs\" textLength=\"29\" x=\"139\" y=\"109.9526\">p1: P</text><text fill=\"#000000\" font-family=\"sans-serif\" font-size=\"11\" lengthAdjust=\"spacingAndGlyphs\" textLength=\"38\" x=\"139\" y=\"122.7573\">p2: ~P</text><line style=\"stroke: #383838; stroke-width: 1.0;\" x1=\"134\" x2=\"166\" y1=\"93.3398\" y2=\"93.3398\"/><text fill=\"#000000\" font-family=\"sans-serif\" font-size=\"11\" lengthAdjust=\"spacingAndGlyphs\" textLength=\"30\" x=\"166\" y=\"96.6479\">ports</text><line style=\"stroke: #383838; stroke-width: 1.0;\" x1=\"196\" x2=\"228\" y1=\"93.3398\" y2=\"93.3398\"/></a><!--MD5=[49a0ec8f00dab7302a31f22d0f0fe584]\n",
       "class E12--><a href=\"psysml:239b6b7d-2819-4aeb-bfce-341b8d8c5fb1\" target=\"_top\" title=\"psysml:239b6b7d-2819-4aeb-bfce-341b8d8c5fb1\" xlink:actuate=\"onRequest\" xlink:href=\"psysml:239b6b7d-2819-4aeb-bfce-341b8d8c5fb1\" xlink:show=\"new\" xlink:title=\"psysml:239b6b7d-2819-4aeb-bfce-341b8d8c5fb1\" xlink:type=\"simple\"><rect fill=\"#FFFFFF\" height=\"45.9375\" id=\"E12\" style=\"stroke: #383838; stroke-width: 1.5;\" width=\"66\" x=\"32\" y=\"62\"/><text fill=\"#000000\" font-family=\"sans-serif\" font-size=\"12\" font-style=\"italic\" lengthAdjust=\"spacingAndGlyphs\" textLength=\"64\" x=\"33\" y=\"78.1387\">«part def»</text><text fill=\"#000000\" font-family=\"sans-serif\" font-size=\"12\" lengthAdjust=\"spacingAndGlyphs\" textLength=\"16\" x=\"57\" y=\"92.1074\">B1</text><line style=\"stroke: #383838; stroke-width: 1.5;\" x1=\"33\" x2=\"97\" y1=\"99.9375\" y2=\"99.9375\"/></a><!--MD5=[ee3c913d1a06f366521f9ef512b67efe]\n",
       "class E13--><a href=\"psysml:080adc10-96fd-4f72-8d28-a6aae1d02a34\" target=\"_top\" title=\"psysml:080adc10-96fd-4f72-8d28-a6aae1d02a34\" xlink:actuate=\"onRequest\" xlink:href=\"psysml:080adc10-96fd-4f72-8d28-a6aae1d02a34\" xlink:show=\"new\" xlink:title=\"psysml:080adc10-96fd-4f72-8d28-a6aae1d02a34\" xlink:type=\"simple\"><rect fill=\"#FFFFFF\" height=\"88.3516\" id=\"E13\" rx=\"10\" ry=\"10\" style=\"stroke: #383838; stroke-width: 1.5;\" width=\"50\" x=\"40\" y=\"189\"/><text fill=\"#000000\" font-family=\"sans-serif\" font-size=\"12\" font-style=\"italic\" lengthAdjust=\"spacingAndGlyphs\" textLength=\"40\" x=\"45\" y=\"205.1387\">«part»</text><text fill=\"#000000\" font-family=\"sans-serif\" font-size=\"12\" lengthAdjust=\"spacingAndGlyphs\" textLength=\"8\" x=\"61\" y=\"219.1074\">p</text><line style=\"stroke: #383838; stroke-width: 1.5;\" x1=\"41\" x2=\"89\" y1=\"226.9375\" y2=\"226.9375\"/><text fill=\"#000000\" font-family=\"sans-serif\" font-size=\"11\" lengthAdjust=\"spacingAndGlyphs\" textLength=\"29\" x=\"46\" y=\"257.9526\">p1: P</text><text fill=\"#000000\" font-family=\"sans-serif\" font-size=\"11\" lengthAdjust=\"spacingAndGlyphs\" textLength=\"38\" x=\"46\" y=\"270.7573\">p2: ~P</text><line style=\"stroke: #383838; stroke-width: 1.0;\" x1=\"41\" x2=\"50\" y1=\"241.3398\" y2=\"241.3398\"/><text fill=\"#000000\" font-family=\"sans-serif\" font-size=\"11\" lengthAdjust=\"spacingAndGlyphs\" textLength=\"30\" x=\"50\" y=\"244.6479\">ports</text><line style=\"stroke: #383838; stroke-width: 1.0;\" x1=\"80\" x2=\"89\" y1=\"241.3398\" y2=\"241.3398\"/></a><!--MD5=[062ed86c389d1a88f61c6380d0491e17]\n",
       "reverse link E12 to E13--><a href=\"psysml:06665d43-130c-4b8a-bdfd-d93e6351f975\" target=\"_top\" title=\"psysml:06665d43-130c-4b8a-bdfd-d93e6351f975\" xlink:actuate=\"onRequest\" xlink:href=\"psysml:06665d43-130c-4b8a-bdfd-d93e6351f975\" xlink:show=\"new\" xlink:title=\"psysml:06665d43-130c-4b8a-bdfd-d93e6351f975\" xlink:type=\"simple\"><path d=\"M65,121.25 C65,141.54 65,167.2 65,188.71 \" fill=\"none\" id=\"E12&lt;-E13\" style=\"stroke: #383838; stroke-width: 1.0;\"/><polygon fill=\"#383838\" points=\"65,108.17,61,114.17,65,120.17,69,114.17,65,108.17\" style=\"stroke: #383838; stroke-width: 1.0;\"/></a><!--MD5=[da39f33879800d957325302bd24f101d]\n",
       "@startuml\r\n",
       "top to bottom direction\r\n",
       "skinparam monochrome true\r\n",
       "skinparam classbackgroundcolor white\r\n",
       "skinparam shadowing false\r\n",
       "skinparam wrapWidth 300\r\n",
       "hide circle\r\n",
       "\r\n",
       "package \"ConjugationTest\" as E1  [[psysml:56f2a3b4-cc43-4fa3-8695-199f33536b50 ]]  {\r\n",
       "comp def \"P\" as E2  <<(T,blue)port def>> [[psysml:c0a3bc73-93c5-4b4d-b763-5833239b73fd ]] {\r\n",
       "}\r\n",
       "comp def \"B\" as E3  <<(T,blue)part def>> [[psysml:5cf63d0b-bb26-43ea-8091-2694cfd07b61 ]] {\r\n",
       "- - ports - -\r\n",
       "p1: P\r\n",
       "p2: ~P\r\n",
       "}\r\n",
       "comp def \"A\" as E6  <<(T,blue)connection def>> [[psysml:c95e8ce0-7583-4d42-8de3-1e3c8277134a ]] {\r\n",
       "- - ports - -\r\n",
       "p1: P\r\n",
       "p2: ~P\r\n",
       "}\r\n",
       "comp def \"I\" as E9  <<(T,blue)interface def>> [[psysml:3dca2d5e-c062-4427-93b4-bcb55890dd40 ]] {\r\n",
       "- - ports - -\r\n",
       "p1: P\r\n",
       "p2: ~P\r\n",
       "}\r\n",
       "comp def \"B1\" as E12  <<(T,blue)part def>> [[psysml:239b6b7d-2819-4aeb-bfce-341b8d8c5fb1 ]] {\r\n",
       "}\r\n",
       "comp usage \"p\" as E13  <<(T,blue)part>> [[psysml:080adc10-96fd-4f72-8d28-a6aae1d02a34 ]] {\r\n",
       "- - ports - -\r\n",
       "p1: P\r\n",
       "p2: ~P\r\n",
       "}\r\n",
       "E12 *- - E13 [[psysml:06665d43-130c-4b8a-bdfd-d93e6351f975 ]] \r\n",
       "}\r\n",
       "@enduml\r\n",
       "\n",
       "PlantUML version 1.2020.13(Sat Jun 13 12:26:38 UTC 2020)\n",
       "(EPL source distribution)\n",
       "Java Runtime: OpenJDK Runtime Environment\n",
       "JVM: OpenJDK 64-Bit Server VM\n",
       "Default Encoding: UTF-8\n",
       "Language: en\n",
       "Country: null\n",
       "--></g></svg>"
      ]
     },
     "execution_count": 45,
     "metadata": {},
     "output_type": "execute_result"
    }
   ],
   "source": [
    "%viz --style=\"TB\" --view=\"Tree\" \"ConjugationTest\""
   ]
  },
  {
   "cell_type": "code",
   "execution_count": 46,
   "id": "9bb8c892",
   "metadata": {
    "execution": {
     "iopub.execute_input": "2021-04-20T07:00:17.242808Z",
     "iopub.status.busy": "2021-04-20T07:00:17.242349Z",
     "iopub.status.idle": "2021-04-20T07:00:17.245642Z",
     "shell.execute_reply": "2021-04-20T07:00:17.245360Z"
    }
   },
   "outputs": [
    {
     "data": {
      "image/svg+xml": [
       "<?xml version=\"1.0\" encoding=\"UTF-8\" standalone=\"no\"?><svg xmlns=\"http://www.w3.org/2000/svg\" xmlns:xlink=\"http://www.w3.org/1999/xlink\" contentScriptType=\"application/ecmascript\" contentStyleType=\"text/css\" height=\"12px\" preserveAspectRatio=\"none\" style=\"width:12px;height:12px;\" version=\"1.1\" viewBox=\"0 0 12 12\" width=\"12px\" zoomAndPan=\"magnify\"><defs/><g><!--MD5=[f4ee21bc66e489b5061b7c3e9601fdef]\n",
       "@startuml\r\n",
       "top to bottom direction\r\n",
       "skinparam monochrome true\r\n",
       "skinparam classbackgroundcolor white\r\n",
       "skinparam shadowing false\r\n",
       "skinparam wrapWidth 300\r\n",
       "hide circle\r\n",
       "\r\n",
       "@enduml\r\n",
       "\n",
       "PlantUML version 1.2020.13(Sat Jun 13 12:26:38 UTC 2020)\n",
       "(EPL source distribution)\n",
       "Java Runtime: OpenJDK Runtime Environment\n",
       "JVM: OpenJDK 64-Bit Server VM\n",
       "Default Encoding: UTF-8\n",
       "Language: en\n",
       "Country: null\n",
       "--></g></svg>"
      ]
     },
     "execution_count": 46,
     "metadata": {},
     "output_type": "execute_result"
    }
   ],
   "source": [
    "%viz --style=\"TB\" --view=\"State\" \"ConjugationTest\""
   ]
  },
  {
   "cell_type": "code",
   "execution_count": 47,
   "id": "2364ef2b",
   "metadata": {
    "execution": {
     "iopub.execute_input": "2021-04-20T07:00:17.297402Z",
     "iopub.status.busy": "2021-04-20T07:00:17.296928Z",
     "iopub.status.idle": "2021-04-20T07:00:17.338470Z",
     "shell.execute_reply": "2021-04-20T07:00:17.337213Z"
    }
   },
   "outputs": [
    {
     "data": {
      "image/svg+xml": [
       "<?xml version=\"1.0\" encoding=\"UTF-8\" standalone=\"no\"?><svg xmlns=\"http://www.w3.org/2000/svg\" xmlns:xlink=\"http://www.w3.org/1999/xlink\" contentScriptType=\"application/ecmascript\" contentStyleType=\"text/css\" height=\"246px\" preserveAspectRatio=\"none\" style=\"width:739px;height:246px;\" version=\"1.1\" viewBox=\"0 0 739 246\" width=\"739px\" zoomAndPan=\"magnify\"><defs/><g><!--MD5=[fbc87193dbaf4d95561dea2c320d4a47]\n",
       "cluster E1--><a href=\"psysml:56f2a3b4-cc43-4fa3-8695-199f33536b50\" target=\"_top\" title=\"psysml:56f2a3b4-cc43-4fa3-8695-199f33536b50\" xlink:actuate=\"onRequest\" xlink:href=\"psysml:56f2a3b4-cc43-4fa3-8695-199f33536b50\" xlink:show=\"new\" xlink:title=\"psysml:56f2a3b4-cc43-4fa3-8695-199f33536b50\" xlink:type=\"simple\"><polygon fill=\"#FFFFFF\" points=\"16,6,151,6,158,28.2969,717,28.2969,717,234.5,16,234.5,16,6\" style=\"stroke: #000000; stroke-width: 1.5;\"/><line style=\"stroke: #000000; stroke-width: 1.5;\" x1=\"16\" x2=\"158\" y1=\"28.2969\" y2=\"28.2969\"/><text fill=\"#000000\" font-family=\"sans-serif\" font-size=\"14\" font-weight=\"bold\" lengthAdjust=\"spacingAndGlyphs\" textLength=\"129\" x=\"20\" y=\"20.9951\">ConjugationTest</text></a><!--MD5=[d5e69f78d87373223dbae638b30a9c99]\n",
       "cluster E3--><a href=\"psysml:5cf63d0b-bb26-43ea-8091-2694cfd07b61\" target=\"_top\" title=\"psysml:5cf63d0b-bb26-43ea-8091-2694cfd07b61\" xlink:actuate=\"onRequest\" xlink:href=\"psysml:5cf63d0b-bb26-43ea-8091-2694cfd07b61\" xlink:show=\"new\" xlink:title=\"psysml:5cf63d0b-bb26-43ea-8091-2694cfd07b61\" xlink:type=\"simple\"><rect fill=\"#FFFFFF\" height=\"88.5\" id=\"E3\" style=\"stroke: #383838; stroke-width: 1.5;\" width=\"83\" x=\"577\" y=\"114\"/><rect fill=\"#F8F8F8\" height=\"37.9375\" style=\"stroke: #383838; stroke-width: 1.5;\" width=\"83\" x=\"577\" y=\"114\"/><text fill=\"#000000\" font-family=\"sans-serif\" font-size=\"12\" font-style=\"italic\" lengthAdjust=\"spacingAndGlyphs\" textLength=\"64\" x=\"586.5\" y=\"130.1387\">«part def»</text><text fill=\"#000000\" font-family=\"sans-serif\" font-size=\"12\" lengthAdjust=\"spacingAndGlyphs\" textLength=\"8\" x=\"614.5\" y=\"144.1074\">B</text></a><!--MD5=[14e3b0961a2654348d326746436168a1]\n",
       "cluster E6--><a href=\"psysml:c95e8ce0-7583-4d42-8de3-1e3c8277134a\" target=\"_top\" title=\"psysml:c95e8ce0-7583-4d42-8de3-1e3c8277134a\" xlink:actuate=\"onRequest\" xlink:href=\"psysml:c95e8ce0-7583-4d42-8de3-1e3c8277134a\" xlink:show=\"new\" xlink:title=\"psysml:c95e8ce0-7583-4d42-8de3-1e3c8277134a\" xlink:type=\"simple\"><rect fill=\"#FFFFFF\" height=\"88.5\" id=\"E6\" style=\"stroke: #383838; stroke-width: 1.5;\" width=\"150\" x=\"423\" y=\"114\"/><rect fill=\"#F8F8F8\" height=\"37.9375\" style=\"stroke: #383838; stroke-width: 1.5;\" width=\"150\" x=\"423\" y=\"114\"/><text fill=\"#000000\" font-family=\"sans-serif\" font-size=\"12\" font-style=\"italic\" lengthAdjust=\"spacingAndGlyphs\" textLength=\"108\" x=\"444\" y=\"130.1387\">«connection def»</text><text fill=\"#000000\" font-family=\"sans-serif\" font-size=\"12\" lengthAdjust=\"spacingAndGlyphs\" textLength=\"8\" x=\"494\" y=\"144.1074\">A</text></a><!--MD5=[7f149f147074ac12df2cb0a7728a5fb0]\n",
       "cluster E9--><a href=\"psysml:3dca2d5e-c062-4427-93b4-bcb55890dd40\" target=\"_top\" title=\"psysml:3dca2d5e-c062-4427-93b4-bcb55890dd40\" xlink:actuate=\"onRequest\" xlink:href=\"psysml:3dca2d5e-c062-4427-93b4-bcb55890dd40\" xlink:show=\"new\" xlink:title=\"psysml:3dca2d5e-c062-4427-93b4-bcb55890dd40\" xlink:type=\"simple\"><rect fill=\"#FFFFFF\" height=\"88.5\" id=\"E9\" style=\"stroke: #383838; stroke-width: 1.5;\" width=\"141\" x=\"254\" y=\"114\"/><rect fill=\"#F8F8F8\" height=\"37.9375\" style=\"stroke: #383838; stroke-width: 1.5;\" width=\"141\" x=\"254\" y=\"114\"/><text fill=\"#000000\" font-family=\"sans-serif\" font-size=\"12\" font-style=\"italic\" lengthAdjust=\"spacingAndGlyphs\" textLength=\"94\" x=\"277.5\" y=\"130.1387\">«interface def»</text><text fill=\"#000000\" font-family=\"sans-serif\" font-size=\"12\" lengthAdjust=\"spacingAndGlyphs\" textLength=\"3\" x=\"323\" y=\"144.1074\">I</text></a><!--MD5=[47bea60c1a0ac6c1143df232041969c0]\n",
       "cluster E12--><a href=\"psysml:239b6b7d-2819-4aeb-bfce-341b8d8c5fb1\" target=\"_top\" title=\"psysml:239b6b7d-2819-4aeb-bfce-341b8d8c5fb1\" xlink:actuate=\"onRequest\" xlink:href=\"psysml:239b6b7d-2819-4aeb-bfce-341b8d8c5fb1\" xlink:show=\"new\" xlink:title=\"psysml:239b6b7d-2819-4aeb-bfce-341b8d8c5fb1\" xlink:type=\"simple\"><rect fill=\"#FFFFFF\" height=\"161.5\" id=\"E12\" style=\"stroke: #383838; stroke-width: 1.5;\" width=\"107\" x=\"120\" y=\"49\"/><rect fill=\"#F8F8F8\" height=\"37.9375\" style=\"stroke: #383838; stroke-width: 1.5;\" width=\"107\" x=\"120\" y=\"49\"/><text fill=\"#000000\" font-family=\"sans-serif\" font-size=\"12\" font-style=\"italic\" lengthAdjust=\"spacingAndGlyphs\" textLength=\"64\" x=\"141.5\" y=\"65.1387\">«part def»</text><text fill=\"#000000\" font-family=\"sans-serif\" font-size=\"12\" lengthAdjust=\"spacingAndGlyphs\" textLength=\"16\" x=\"165.5\" y=\"79.1074\">B1</text></a><!--MD5=[03104f77b71e2d8d3500c651e6e31181]\n",
       "cluster E13--><a href=\"psysml:080adc10-96fd-4f72-8d28-a6aae1d02a34\" target=\"_top\" title=\"psysml:080adc10-96fd-4f72-8d28-a6aae1d02a34\" xlink:actuate=\"onRequest\" xlink:href=\"psysml:080adc10-96fd-4f72-8d28-a6aae1d02a34\" xlink:show=\"new\" xlink:title=\"psysml:080adc10-96fd-4f72-8d28-a6aae1d02a34\" xlink:type=\"simple\"><rect fill=\"#FFFFFF\" height=\"80.5\" id=\"E13\" rx=\"10\" ry=\"10\" style=\"stroke: #383838; stroke-width: 1.5;\" width=\"83\" x=\"132\" y=\"114\"/><rect fill=\"#F8F8F8\" height=\"23.9688\" rx=\"10\" ry=\"10\" style=\"stroke: #F8F8F8; stroke-width: 1.5;\" width=\"83\" x=\"132\" y=\"114\"/><rect fill=\"#F8F8F8\" height=\"10\" style=\"stroke: #F8F8F8; stroke-width: 1.5;\" width=\"83\" x=\"132\" y=\"127.9688\"/><rect fill=\"none\" height=\"80.5\" id=\"E13\" rx=\"10\" ry=\"10\" style=\"stroke: #383838; stroke-width: 1.5;\" width=\"83\" x=\"132\" y=\"114\"/><text fill=\"#000000\" font-family=\"sans-serif\" font-size=\"12\" lengthAdjust=\"spacingAndGlyphs\" textLength=\"8\" x=\"169.5\" y=\"130.1387\">p</text><line style=\"stroke: #383838; stroke-width: 1.0;\" x1=\"132\" x2=\"215\" y1=\"137.9688\" y2=\"137.9688\"/></a><g id=\"E1.E2\"><a href=\"psysml:c0a3bc73-93c5-4b4d-b763-5833239b73fd\" target=\"_top\" title=\"psysml:c0a3bc73-93c5-4b4d-b763-5833239b73fd\" xlink:actuate=\"onRequest\" xlink:href=\"psysml:c0a3bc73-93c5-4b4d-b763-5833239b73fd\" xlink:show=\"new\" xlink:title=\"psysml:c0a3bc73-93c5-4b4d-b763-5833239b73fd\" xlink:type=\"simple\"><rect fill=\"#FFFFFF\" height=\"42.9375\" id=\"E2\" style=\"stroke: #383838; stroke-width: 1.5;\" width=\"71\" x=\"32.5\" y=\"92.5\"/><rect fill=\"#F8F8F8\" height=\"37.9375\" style=\"stroke: #383838; stroke-width: 1.5;\" width=\"71\" x=\"32.5\" y=\"92.5\"/><text fill=\"#000000\" font-family=\"sans-serif\" font-size=\"12\" font-style=\"italic\" lengthAdjust=\"spacingAndGlyphs\" textLength=\"64\" x=\"36\" y=\"108.6387\">«port def»</text><text fill=\"#000000\" font-family=\"sans-serif\" font-size=\"12\" lengthAdjust=\"spacingAndGlyphs\" textLength=\"8\" x=\"64\" y=\"122.6074\">P</text></a></g><text fill=\"#000000\" font-family=\"sans-serif\" font-size=\"14\" lengthAdjust=\"spacingAndGlyphs\" textLength=\"36\" x=\"577\" y=\"92.6982\">p1: P</text><rect fill=\"#383838\" height=\"12\" style=\"stroke: #F8F8F8; stroke-width: 1.5;\" width=\"12\" x=\"589\" y=\"108\"/><text fill=\"#000000\" font-family=\"sans-serif\" font-size=\"14\" lengthAdjust=\"spacingAndGlyphs\" textLength=\"48\" x=\"618\" y=\"92.6982\">p2: ~P</text><rect fill=\"#383838\" height=\"12\" style=\"stroke: #F8F8F8; stroke-width: 1.5;\" width=\"12\" x=\"636\" y=\"108\"/><text fill=\"#000000\" font-family=\"sans-serif\" font-size=\"14\" lengthAdjust=\"spacingAndGlyphs\" textLength=\"36\" x=\"423\" y=\"92.6982\">p1: P</text><rect fill=\"#383838\" height=\"12\" style=\"stroke: #F8F8F8; stroke-width: 1.5;\" width=\"12\" x=\"435\" y=\"108\"/><text fill=\"#000000\" font-family=\"sans-serif\" font-size=\"14\" lengthAdjust=\"spacingAndGlyphs\" textLength=\"48\" x=\"464\" y=\"92.6982\">p2: ~P</text><rect fill=\"#383838\" height=\"12\" style=\"stroke: #F8F8F8; stroke-width: 1.5;\" width=\"12\" x=\"482\" y=\"108\"/><text fill=\"#000000\" font-family=\"sans-serif\" font-size=\"14\" lengthAdjust=\"spacingAndGlyphs\" textLength=\"36\" x=\"254\" y=\"92.6982\">p1: P</text><rect fill=\"#383838\" height=\"12\" style=\"stroke: #F8F8F8; stroke-width: 1.5;\" width=\"12\" x=\"266\" y=\"108\"/><text fill=\"#000000\" font-family=\"sans-serif\" font-size=\"14\" lengthAdjust=\"spacingAndGlyphs\" textLength=\"48\" x=\"295\" y=\"92.6982\">p2: ~P</text><rect fill=\"#383838\" height=\"12\" style=\"stroke: #F8F8F8; stroke-width: 1.5;\" width=\"12\" x=\"313\" y=\"108\"/><text fill=\"#000000\" font-family=\"sans-serif\" font-size=\"14\" lengthAdjust=\"spacingAndGlyphs\" textLength=\"36\" x=\"132\" y=\"92.6982\">p1: P</text><rect fill=\"#383838\" height=\"12\" style=\"stroke: #F8F8F8; stroke-width: 1.5;\" width=\"12\" x=\"144\" y=\"108\"/><text fill=\"#000000\" font-family=\"sans-serif\" font-size=\"14\" lengthAdjust=\"spacingAndGlyphs\" textLength=\"48\" x=\"173\" y=\"92.6982\">p2: ~P</text><rect fill=\"#383838\" height=\"12\" style=\"stroke: #F8F8F8; stroke-width: 1.5;\" width=\"12\" x=\"191\" y=\"108\"/><!--MD5=[4ce51ac6fa4cf5202df3859e2718f033]\n",
       "link E15 to E14--><a href=\"psysml:b40b8767-d304-49cf-ad0a-af8e9dd9f9d8\" target=\"_top\" title=\"psysml:b40b8767-d304-49cf-ad0a-af8e9dd9f9d8\" xlink:actuate=\"onRequest\" xlink:href=\"psysml:b40b8767-d304-49cf-ad0a-af8e9dd9f9d8\" xlink:show=\"new\" xlink:title=\"psysml:b40b8767-d304-49cf-ad0a-af8e9dd9f9d8\" xlink:type=\"simple\"><path d=\"M190.95,114 C179.38,114 167.81,114 156.24,114 \" fill=\"none\" id=\"E15-E14\" style=\"stroke: #383838; stroke-width: 3.0;\"/></a><!--MD5=[4ce51ac6fa4cf5202df3859e2718f033]\n",
       "link E15 to E14--><a href=\"psysml:e453fd18-f914-4bbc-b21b-733251b90d8d\" target=\"_top\" title=\"psysml:e453fd18-f914-4bbc-b21b-733251b90d8d\" xlink:actuate=\"onRequest\" xlink:href=\"psysml:e453fd18-f914-4bbc-b21b-733251b90d8d\" xlink:show=\"new\" xlink:title=\"psysml:e453fd18-f914-4bbc-b21b-733251b90d8d\" xlink:type=\"simple\"><path d=\"M190.95,111.98 C179.38,108.69 167.81,108.67 156.24,111.93 \" fill=\"none\" id=\"E15-E14-1\" style=\"stroke: #383838; stroke-width: 3.0;\"/></a><!--MD5=[42b8f62d42d6f5b3ce911cc236a8b00c]\n",
       "@startuml\r\n",
       "skinparam ranksep 10\r\n",
       "skinparam rectangle {\r\n",
       " backgroundColor<<block>> LightGreen\r\n",
       "}\r\n",
       "top to bottom direction\r\n",
       "skinparam monochrome true\r\n",
       "skinparam classbackgroundcolor white\r\n",
       "skinparam shadowing false\r\n",
       "skinparam wrapWidth 300\r\n",
       "hide circle\r\n",
       "\r\n",
       "package \"ConjugationTest\" as E1  [[psysml:56f2a3b4-cc43-4fa3-8695-199f33536b50 ]]  {\r\n",
       "def \"P\" as E2  <<(T,blue)port def>> [[psysml:c0a3bc73-93c5-4b4d-b763-5833239b73fd ]] \r\n",
       "rec def \"B\" as E3  <<(T,blue)part def>> [[psysml:5cf63d0b-bb26-43ea-8091-2694cfd07b61 ]] {\r\n",
       "portin \"p1: P\" as E4  <<(T,blue)port>> [[psysml:c76b55b8-c5f7-4b06-9682-6e30a37606f5 ]] \r\n",
       "portin \"p2: ~P\" as E5  <<(T,blue)port>> [[psysml:35da94da-d279-45b2-babf-0a6a90392647 ]] \r\n",
       "}\r\n",
       "rec def \"A\" as E6  <<(T,blue)connection def>> [[psysml:c95e8ce0-7583-4d42-8de3-1e3c8277134a ]] {\r\n",
       "portin \"p1: P\" as E7  <<(T,blue)port>> [[psysml:2d7c72e0-11ff-44e8-b252-bce43cdf8c5c ]] \r\n",
       "portin \"p2: ~P\" as E8  <<(T,blue)port>> [[psysml:32f7297e-deaa-40d0-ad2f-7459de0cc2ac ]] \r\n",
       "}\r\n",
       "rec def \"I\" as E9  <<(T,blue)interface def>> [[psysml:3dca2d5e-c062-4427-93b4-bcb55890dd40 ]] {\r\n",
       "portin \"p1: P\" as E10  <<(T,blue)port>> [[psysml:c5132c6d-1853-42dd-8f4d-8690518006d4 ]] \r\n",
       "portin \"p2: ~P\" as E11  <<(T,blue)port>> [[psysml:dfe5ce78-d727-465a-9c67-ad29336ed483 ]] \r\n",
       "}\r\n",
       "rec def \"B1\" as E12  <<(T,blue)part def>> [[psysml:239b6b7d-2819-4aeb-bfce-341b8d8c5fb1 ]] {\r\n",
       "rec usage \"p\" as E13  [[psysml:080adc10-96fd-4f72-8d28-a6aae1d02a34 ]] {\r\n",
       "portin \"p1: P\" as E14  <<(T,blue)port>> [[psysml:990bba01-cfb0-414f-879e-e0e887a1aff5 ]] \r\n",
       "portin \"p2: ~P\" as E15  <<(T,blue)port>> [[psysml:ea02eef2-b064-45a9-9708-410d7204d199 ]] \r\n",
       "}\r\n",
       "}\r\n",
       "E15 -[thickness=3]- E14 [[psysml:b40b8767-d304-49cf-ad0a-af8e9dd9f9d8 ]] \r\n",
       "E15 -[thickness=3]- E14 [[psysml:e453fd18-f914-4bbc-b21b-733251b90d8d ]] \r\n",
       "}\r\n",
       "@enduml\r\n",
       "\n",
       "PlantUML version 1.2020.13(Sat Jun 13 12:26:38 UTC 2020)\n",
       "(EPL source distribution)\n",
       "Java Runtime: OpenJDK Runtime Environment\n",
       "JVM: OpenJDK 64-Bit Server VM\n",
       "Default Encoding: UTF-8\n",
       "Language: en\n",
       "Country: null\n",
       "--></g></svg>"
      ]
     },
     "execution_count": 47,
     "metadata": {},
     "output_type": "execute_result"
    }
   ],
   "source": [
    "%viz --style=\"TB\" --view=\"Interconnection\" \"ConjugationTest\""
   ]
  },
  {
   "cell_type": "code",
   "execution_count": 48,
   "id": "39ad5698",
   "metadata": {
    "execution": {
     "iopub.execute_input": "2021-04-20T07:00:17.388584Z",
     "iopub.status.busy": "2021-04-20T07:00:17.388167Z",
     "iopub.status.idle": "2021-04-20T07:00:17.393024Z",
     "shell.execute_reply": "2021-04-20T07:00:17.392720Z"
    }
   },
   "outputs": [
    {
     "data": {
      "image/svg+xml": [
       "<?xml version=\"1.0\" encoding=\"UTF-8\" standalone=\"no\"?><svg xmlns=\"http://www.w3.org/2000/svg\" xmlns:xlink=\"http://www.w3.org/1999/xlink\" contentScriptType=\"application/ecmascript\" contentStyleType=\"text/css\" height=\"12px\" preserveAspectRatio=\"none\" style=\"width:12px;height:12px;\" version=\"1.1\" viewBox=\"0 0 12 12\" width=\"12px\" zoomAndPan=\"magnify\"><defs/><g><!--MD5=[06afc254b03ac5e9d9fb7773b07d0800]\n",
       "@startuml\r\n",
       "skinparam ranksep 8\r\n",
       "top to bottom direction\r\n",
       "skinparam monochrome true\r\n",
       "skinparam classbackgroundcolor white\r\n",
       "skinparam shadowing false\r\n",
       "skinparam wrapWidth 300\r\n",
       "hide circle\r\n",
       "\r\n",
       "@enduml\r\n",
       "\n",
       "PlantUML version 1.2020.13(Sat Jun 13 12:26:38 UTC 2020)\n",
       "(EPL source distribution)\n",
       "Java Runtime: OpenJDK Runtime Environment\n",
       "JVM: OpenJDK 64-Bit Server VM\n",
       "Default Encoding: UTF-8\n",
       "Language: en\n",
       "Country: null\n",
       "--></g></svg>"
      ]
     },
     "execution_count": 48,
     "metadata": {},
     "output_type": "execute_result"
    }
   ],
   "source": [
    "%viz --style=\"TB\" --view=\"Action\" \"ConjugationTest\""
   ]
  },
  {
   "cell_type": "code",
   "execution_count": 49,
   "id": "7d929219",
   "metadata": {
    "execution": {
     "iopub.execute_input": "2021-04-20T07:00:17.443313Z",
     "iopub.status.busy": "2021-04-20T07:00:17.442933Z",
     "iopub.status.idle": "2021-04-20T07:00:17.527597Z",
     "shell.execute_reply": "2021-04-20T07:00:17.526350Z"
    }
   },
   "outputs": [
    {
     "data": {
      "image/svg+xml": [
       "<?xml version=\"1.0\" encoding=\"UTF-8\" standalone=\"no\"?><svg xmlns=\"http://www.w3.org/2000/svg\" xmlns:xlink=\"http://www.w3.org/1999/xlink\" contentScriptType=\"application/ecmascript\" contentStyleType=\"text/css\" height=\"305px\" preserveAspectRatio=\"none\" style=\"width:614px;height:305px;\" version=\"1.1\" viewBox=\"0 0 614 305\" width=\"614px\" zoomAndPan=\"magnify\"><defs/><g><!--MD5=[fbc87193dbaf4d95561dea2c320d4a47]\n",
       "cluster E1--><a href=\"psysml:56f2a3b4-cc43-4fa3-8695-199f33536b50\" target=\"_top\" title=\"psysml:56f2a3b4-cc43-4fa3-8695-199f33536b50\" xlink:actuate=\"onRequest\" xlink:href=\"psysml:56f2a3b4-cc43-4fa3-8695-199f33536b50\" xlink:show=\"new\" xlink:title=\"psysml:56f2a3b4-cc43-4fa3-8695-199f33536b50\" xlink:type=\"simple\"><polygon fill=\"#FFFFFF\" points=\"16,6,151,6,158,28.2969,592,28.2969,592,293,16,293,16,6\" style=\"stroke: #000000; stroke-width: 1.5;\"/><line style=\"stroke: #000000; stroke-width: 1.5;\" x1=\"16\" x2=\"158\" y1=\"28.2969\" y2=\"28.2969\"/><text fill=\"#000000\" font-family=\"sans-serif\" font-size=\"14\" font-weight=\"bold\" lengthAdjust=\"spacingAndGlyphs\" textLength=\"129\" x=\"20\" y=\"20.9951\">ConjugationTest</text></a><!--MD5=[b4997ac47864f28c2f74865a473b2911]\n",
       "class E2--><a href=\"psysml:c0a3bc73-93c5-4b4d-b763-5833239b73fd\" target=\"_top\" title=\"psysml:c0a3bc73-93c5-4b4d-b763-5833239b73fd\" xlink:actuate=\"onRequest\" xlink:href=\"psysml:c0a3bc73-93c5-4b4d-b763-5833239b73fd\" xlink:show=\"new\" xlink:title=\"psysml:c0a3bc73-93c5-4b4d-b763-5833239b73fd\" xlink:type=\"simple\"><rect fill=\"#FFFFFF\" height=\"45.9375\" id=\"E2\" style=\"stroke: #383838; stroke-width: 1.5;\" width=\"66\" x=\"510\" y=\"62\"/><text fill=\"#000000\" font-family=\"sans-serif\" font-size=\"12\" font-style=\"italic\" lengthAdjust=\"spacingAndGlyphs\" textLength=\"64\" x=\"511\" y=\"78.1387\">«port def»</text><text fill=\"#000000\" font-family=\"sans-serif\" font-size=\"12\" lengthAdjust=\"spacingAndGlyphs\" textLength=\"8\" x=\"539\" y=\"92.1074\">P</text><line style=\"stroke: #383838; stroke-width: 1.5;\" x1=\"511\" x2=\"575\" y1=\"99.9375\" y2=\"99.9375\"/></a><!--MD5=[09b614a08d8cba4a07c9adeb5e0fee81]\n",
       "class E3--><a href=\"psysml:5cf63d0b-bb26-43ea-8091-2694cfd07b61\" target=\"_top\" title=\"psysml:5cf63d0b-bb26-43ea-8091-2694cfd07b61\" xlink:actuate=\"onRequest\" xlink:href=\"psysml:5cf63d0b-bb26-43ea-8091-2694cfd07b61\" xlink:show=\"new\" xlink:title=\"psysml:5cf63d0b-bb26-43ea-8091-2694cfd07b61\" xlink:type=\"simple\"><rect fill=\"#FFFFFF\" height=\"88.3516\" id=\"E3\" style=\"stroke: #383838; stroke-width: 1.5;\" width=\"66\" x=\"409\" y=\"41\"/><text fill=\"#000000\" font-family=\"sans-serif\" font-size=\"12\" font-style=\"italic\" lengthAdjust=\"spacingAndGlyphs\" textLength=\"64\" x=\"410\" y=\"57.1387\">«part def»</text><text fill=\"#000000\" font-family=\"sans-serif\" font-size=\"12\" lengthAdjust=\"spacingAndGlyphs\" textLength=\"8\" x=\"438\" y=\"71.1074\">B</text><line style=\"stroke: #383838; stroke-width: 1.5;\" x1=\"410\" x2=\"474\" y1=\"78.9375\" y2=\"78.9375\"/><text fill=\"#000000\" font-family=\"sans-serif\" font-size=\"11\" lengthAdjust=\"spacingAndGlyphs\" textLength=\"29\" x=\"415\" y=\"109.9526\">p1: P</text><text fill=\"#000000\" font-family=\"sans-serif\" font-size=\"11\" lengthAdjust=\"spacingAndGlyphs\" textLength=\"38\" x=\"415\" y=\"122.7573\">p2: ~P</text><line style=\"stroke: #383838; stroke-width: 1.0;\" x1=\"410\" x2=\"427\" y1=\"93.3398\" y2=\"93.3398\"/><text fill=\"#000000\" font-family=\"sans-serif\" font-size=\"11\" lengthAdjust=\"spacingAndGlyphs\" textLength=\"30\" x=\"427\" y=\"96.6479\">ports</text><line style=\"stroke: #383838; stroke-width: 1.0;\" x1=\"457\" x2=\"474\" y1=\"93.3398\" y2=\"93.3398\"/></a><!--MD5=[60a26617385b1d2d0262a64233df1f8d]\n",
       "class E6--><a href=\"psysml:c95e8ce0-7583-4d42-8de3-1e3c8277134a\" target=\"_top\" title=\"psysml:c95e8ce0-7583-4d42-8de3-1e3c8277134a\" xlink:actuate=\"onRequest\" xlink:href=\"psysml:c95e8ce0-7583-4d42-8de3-1e3c8277134a\" xlink:show=\"new\" xlink:title=\"psysml:c95e8ce0-7583-4d42-8de3-1e3c8277134a\" xlink:type=\"simple\"><rect fill=\"#FFFFFF\" height=\"88.3516\" id=\"E6\" style=\"stroke: #383838; stroke-width: 1.5;\" width=\"110\" x=\"264\" y=\"41\"/><text fill=\"#000000\" font-family=\"sans-serif\" font-size=\"12\" font-style=\"italic\" lengthAdjust=\"spacingAndGlyphs\" textLength=\"108\" x=\"265\" y=\"57.1387\">«connection def»</text><text fill=\"#000000\" font-family=\"sans-serif\" font-size=\"12\" lengthAdjust=\"spacingAndGlyphs\" textLength=\"8\" x=\"315\" y=\"71.1074\">A</text><line style=\"stroke: #383838; stroke-width: 1.5;\" x1=\"265\" x2=\"373\" y1=\"78.9375\" y2=\"78.9375\"/><text fill=\"#000000\" font-family=\"sans-serif\" font-size=\"11\" lengthAdjust=\"spacingAndGlyphs\" textLength=\"29\" x=\"270\" y=\"109.9526\">p1: P</text><text fill=\"#000000\" font-family=\"sans-serif\" font-size=\"11\" lengthAdjust=\"spacingAndGlyphs\" textLength=\"38\" x=\"270\" y=\"122.7573\">p2: ~P</text><line style=\"stroke: #383838; stroke-width: 1.0;\" x1=\"265\" x2=\"304\" y1=\"93.3398\" y2=\"93.3398\"/><text fill=\"#000000\" font-family=\"sans-serif\" font-size=\"11\" lengthAdjust=\"spacingAndGlyphs\" textLength=\"30\" x=\"304\" y=\"96.6479\">ports</text><line style=\"stroke: #383838; stroke-width: 1.0;\" x1=\"334\" x2=\"373\" y1=\"93.3398\" y2=\"93.3398\"/></a><!--MD5=[fd4143e9d270a159db93a4ea2a975926]\n",
       "class E9--><a href=\"psysml:3dca2d5e-c062-4427-93b4-bcb55890dd40\" target=\"_top\" title=\"psysml:3dca2d5e-c062-4427-93b4-bcb55890dd40\" xlink:actuate=\"onRequest\" xlink:href=\"psysml:3dca2d5e-c062-4427-93b4-bcb55890dd40\" xlink:show=\"new\" xlink:title=\"psysml:3dca2d5e-c062-4427-93b4-bcb55890dd40\" xlink:type=\"simple\"><rect fill=\"#FFFFFF\" height=\"88.3516\" id=\"E9\" style=\"stroke: #383838; stroke-width: 1.5;\" width=\"96\" x=\"133\" y=\"41\"/><text fill=\"#000000\" font-family=\"sans-serif\" font-size=\"12\" font-style=\"italic\" lengthAdjust=\"spacingAndGlyphs\" textLength=\"94\" x=\"134\" y=\"57.1387\">«interface def»</text><text fill=\"#000000\" font-family=\"sans-serif\" font-size=\"12\" lengthAdjust=\"spacingAndGlyphs\" textLength=\"3\" x=\"179.5\" y=\"71.1074\">I</text><line style=\"stroke: #383838; stroke-width: 1.5;\" x1=\"134\" x2=\"228\" y1=\"78.9375\" y2=\"78.9375\"/><text fill=\"#000000\" font-family=\"sans-serif\" font-size=\"11\" lengthAdjust=\"spacingAndGlyphs\" textLength=\"29\" x=\"139\" y=\"109.9526\">p1: P</text><text fill=\"#000000\" font-family=\"sans-serif\" font-size=\"11\" lengthAdjust=\"spacingAndGlyphs\" textLength=\"38\" x=\"139\" y=\"122.7573\">p2: ~P</text><line style=\"stroke: #383838; stroke-width: 1.0;\" x1=\"134\" x2=\"166\" y1=\"93.3398\" y2=\"93.3398\"/><text fill=\"#000000\" font-family=\"sans-serif\" font-size=\"11\" lengthAdjust=\"spacingAndGlyphs\" textLength=\"30\" x=\"166\" y=\"96.6479\">ports</text><line style=\"stroke: #383838; stroke-width: 1.0;\" x1=\"196\" x2=\"228\" y1=\"93.3398\" y2=\"93.3398\"/></a><!--MD5=[49a0ec8f00dab7302a31f22d0f0fe584]\n",
       "class E12--><a href=\"psysml:239b6b7d-2819-4aeb-bfce-341b8d8c5fb1\" target=\"_top\" title=\"psysml:239b6b7d-2819-4aeb-bfce-341b8d8c5fb1\" xlink:actuate=\"onRequest\" xlink:href=\"psysml:239b6b7d-2819-4aeb-bfce-341b8d8c5fb1\" xlink:show=\"new\" xlink:title=\"psysml:239b6b7d-2819-4aeb-bfce-341b8d8c5fb1\" xlink:type=\"simple\"><rect fill=\"#FFFFFF\" height=\"45.9375\" id=\"E12\" style=\"stroke: #383838; stroke-width: 1.5;\" width=\"66\" x=\"32\" y=\"62\"/><text fill=\"#000000\" font-family=\"sans-serif\" font-size=\"12\" font-style=\"italic\" lengthAdjust=\"spacingAndGlyphs\" textLength=\"64\" x=\"33\" y=\"78.1387\">«part def»</text><text fill=\"#000000\" font-family=\"sans-serif\" font-size=\"12\" lengthAdjust=\"spacingAndGlyphs\" textLength=\"16\" x=\"57\" y=\"92.1074\">B1</text><line style=\"stroke: #383838; stroke-width: 1.5;\" x1=\"33\" x2=\"97\" y1=\"99.9375\" y2=\"99.9375\"/></a><!--MD5=[ee3c913d1a06f366521f9ef512b67efe]\n",
       "class E13--><a href=\"psysml:080adc10-96fd-4f72-8d28-a6aae1d02a34\" target=\"_top\" title=\"psysml:080adc10-96fd-4f72-8d28-a6aae1d02a34\" xlink:actuate=\"onRequest\" xlink:href=\"psysml:080adc10-96fd-4f72-8d28-a6aae1d02a34\" xlink:show=\"new\" xlink:title=\"psysml:080adc10-96fd-4f72-8d28-a6aae1d02a34\" xlink:type=\"simple\"><rect fill=\"#FFFFFF\" height=\"88.3516\" id=\"E13\" rx=\"10\" ry=\"10\" style=\"stroke: #383838; stroke-width: 1.5;\" width=\"50\" x=\"40\" y=\"189\"/><text fill=\"#000000\" font-family=\"sans-serif\" font-size=\"12\" font-style=\"italic\" lengthAdjust=\"spacingAndGlyphs\" textLength=\"40\" x=\"45\" y=\"205.1387\">«part»</text><text fill=\"#000000\" font-family=\"sans-serif\" font-size=\"12\" lengthAdjust=\"spacingAndGlyphs\" textLength=\"8\" x=\"61\" y=\"219.1074\">p</text><line style=\"stroke: #383838; stroke-width: 1.5;\" x1=\"41\" x2=\"89\" y1=\"226.9375\" y2=\"226.9375\"/><text fill=\"#000000\" font-family=\"sans-serif\" font-size=\"11\" lengthAdjust=\"spacingAndGlyphs\" textLength=\"29\" x=\"46\" y=\"257.9526\">p1: P</text><text fill=\"#000000\" font-family=\"sans-serif\" font-size=\"11\" lengthAdjust=\"spacingAndGlyphs\" textLength=\"38\" x=\"46\" y=\"270.7573\">p2: ~P</text><line style=\"stroke: #383838; stroke-width: 1.0;\" x1=\"41\" x2=\"50\" y1=\"241.3398\" y2=\"241.3398\"/><text fill=\"#000000\" font-family=\"sans-serif\" font-size=\"11\" lengthAdjust=\"spacingAndGlyphs\" textLength=\"30\" x=\"50\" y=\"244.6479\">ports</text><line style=\"stroke: #383838; stroke-width: 1.0;\" x1=\"80\" x2=\"89\" y1=\"241.3398\" y2=\"241.3398\"/></a><!--MD5=[062ed86c389d1a88f61c6380d0491e17]\n",
       "reverse link E12 to E13--><a href=\"psysml:06665d43-130c-4b8a-bdfd-d93e6351f975\" target=\"_top\" title=\"psysml:06665d43-130c-4b8a-bdfd-d93e6351f975\" xlink:actuate=\"onRequest\" xlink:href=\"psysml:06665d43-130c-4b8a-bdfd-d93e6351f975\" xlink:show=\"new\" xlink:title=\"psysml:06665d43-130c-4b8a-bdfd-d93e6351f975\" xlink:type=\"simple\"><path d=\"M65,121.25 C65,141.54 65,167.2 65,188.71 \" fill=\"none\" id=\"E12&lt;-E13\" style=\"stroke: #383838; stroke-width: 1.0;\"/><polygon fill=\"#383838\" points=\"65,108.17,61,114.17,65,120.17,69,114.17,65,108.17\" style=\"stroke: #383838; stroke-width: 1.0;\"/></a><!--MD5=[da39f33879800d957325302bd24f101d]\n",
       "@startuml\r\n",
       "top to bottom direction\r\n",
       "skinparam monochrome true\r\n",
       "skinparam classbackgroundcolor white\r\n",
       "skinparam shadowing false\r\n",
       "skinparam wrapWidth 300\r\n",
       "hide circle\r\n",
       "\r\n",
       "package \"ConjugationTest\" as E1  [[psysml:56f2a3b4-cc43-4fa3-8695-199f33536b50 ]]  {\r\n",
       "comp def \"P\" as E2  <<(T,blue)port def>> [[psysml:c0a3bc73-93c5-4b4d-b763-5833239b73fd ]] {\r\n",
       "}\r\n",
       "comp def \"B\" as E3  <<(T,blue)part def>> [[psysml:5cf63d0b-bb26-43ea-8091-2694cfd07b61 ]] {\r\n",
       "- - ports - -\r\n",
       "p1: P\r\n",
       "p2: ~P\r\n",
       "}\r\n",
       "comp def \"A\" as E6  <<(T,blue)connection def>> [[psysml:c95e8ce0-7583-4d42-8de3-1e3c8277134a ]] {\r\n",
       "- - ports - -\r\n",
       "p1: P\r\n",
       "p2: ~P\r\n",
       "}\r\n",
       "comp def \"I\" as E9  <<(T,blue)interface def>> [[psysml:3dca2d5e-c062-4427-93b4-bcb55890dd40 ]] {\r\n",
       "- - ports - -\r\n",
       "p1: P\r\n",
       "p2: ~P\r\n",
       "}\r\n",
       "comp def \"B1\" as E12  <<(T,blue)part def>> [[psysml:239b6b7d-2819-4aeb-bfce-341b8d8c5fb1 ]] {\r\n",
       "}\r\n",
       "comp usage \"p\" as E13  <<(T,blue)part>> [[psysml:080adc10-96fd-4f72-8d28-a6aae1d02a34 ]] {\r\n",
       "- - ports - -\r\n",
       "p1: P\r\n",
       "p2: ~P\r\n",
       "}\r\n",
       "E12 *- - E13 [[psysml:06665d43-130c-4b8a-bdfd-d93e6351f975 ]] \r\n",
       "}\r\n",
       "@enduml\r\n",
       "\n",
       "PlantUML version 1.2020.13(Sat Jun 13 12:26:38 UTC 2020)\n",
       "(EPL source distribution)\n",
       "Java Runtime: OpenJDK Runtime Environment\n",
       "JVM: OpenJDK 64-Bit Server VM\n",
       "Default Encoding: UTF-8\n",
       "Language: en\n",
       "Country: null\n",
       "--></g></svg>"
      ]
     },
     "execution_count": 49,
     "metadata": {},
     "output_type": "execute_result"
    }
   ],
   "source": [
    "%viz --style=\"TB\" --view=\"Sequence\" \"ConjugationTest\""
   ]
  },
  {
   "cell_type": "code",
   "execution_count": 50,
   "id": "bcc2ba2c",
   "metadata": {
    "execution": {
     "iopub.execute_input": "2021-04-20T07:00:17.577053Z",
     "iopub.status.busy": "2021-04-20T07:00:17.576475Z",
     "iopub.status.idle": "2021-04-20T07:00:17.665151Z",
     "shell.execute_reply": "2021-04-20T07:00:17.663850Z"
    }
   },
   "outputs": [
    {
     "data": {
      "image/svg+xml": [
       "<?xml version=\"1.0\" encoding=\"UTF-8\" standalone=\"no\"?><svg xmlns=\"http://www.w3.org/2000/svg\" xmlns:xlink=\"http://www.w3.org/1999/xlink\" contentScriptType=\"application/ecmascript\" contentStyleType=\"text/css\" height=\"305px\" preserveAspectRatio=\"none\" style=\"width:614px;height:305px;\" version=\"1.1\" viewBox=\"0 0 614 305\" width=\"614px\" zoomAndPan=\"magnify\"><defs/><g><!--MD5=[fbc87193dbaf4d95561dea2c320d4a47]\n",
       "cluster E1--><a href=\"psysml:56f2a3b4-cc43-4fa3-8695-199f33536b50\" target=\"_top\" title=\"psysml:56f2a3b4-cc43-4fa3-8695-199f33536b50\" xlink:actuate=\"onRequest\" xlink:href=\"psysml:56f2a3b4-cc43-4fa3-8695-199f33536b50\" xlink:show=\"new\" xlink:title=\"psysml:56f2a3b4-cc43-4fa3-8695-199f33536b50\" xlink:type=\"simple\"><polygon fill=\"#FFFFFF\" points=\"16,6,151,6,158,28.2969,592,28.2969,592,293,16,293,16,6\" style=\"stroke: #000000; stroke-width: 1.5;\"/><line style=\"stroke: #000000; stroke-width: 1.5;\" x1=\"16\" x2=\"158\" y1=\"28.2969\" y2=\"28.2969\"/><text fill=\"#000000\" font-family=\"sans-serif\" font-size=\"14\" font-weight=\"bold\" lengthAdjust=\"spacingAndGlyphs\" textLength=\"129\" x=\"20\" y=\"20.9951\">ConjugationTest</text></a><!--MD5=[b4997ac47864f28c2f74865a473b2911]\n",
       "class E2--><a href=\"psysml:c0a3bc73-93c5-4b4d-b763-5833239b73fd\" target=\"_top\" title=\"psysml:c0a3bc73-93c5-4b4d-b763-5833239b73fd\" xlink:actuate=\"onRequest\" xlink:href=\"psysml:c0a3bc73-93c5-4b4d-b763-5833239b73fd\" xlink:show=\"new\" xlink:title=\"psysml:c0a3bc73-93c5-4b4d-b763-5833239b73fd\" xlink:type=\"simple\"><rect fill=\"#FFFFFF\" height=\"45.9375\" id=\"E2\" style=\"stroke: #383838; stroke-width: 1.5;\" width=\"66\" x=\"510\" y=\"62\"/><text fill=\"#000000\" font-family=\"sans-serif\" font-size=\"12\" font-style=\"italic\" lengthAdjust=\"spacingAndGlyphs\" textLength=\"64\" x=\"511\" y=\"78.1387\">«port def»</text><text fill=\"#000000\" font-family=\"sans-serif\" font-size=\"12\" lengthAdjust=\"spacingAndGlyphs\" textLength=\"8\" x=\"539\" y=\"92.1074\">P</text><line style=\"stroke: #383838; stroke-width: 1.5;\" x1=\"511\" x2=\"575\" y1=\"99.9375\" y2=\"99.9375\"/></a><!--MD5=[09b614a08d8cba4a07c9adeb5e0fee81]\n",
       "class E3--><a href=\"psysml:5cf63d0b-bb26-43ea-8091-2694cfd07b61\" target=\"_top\" title=\"psysml:5cf63d0b-bb26-43ea-8091-2694cfd07b61\" xlink:actuate=\"onRequest\" xlink:href=\"psysml:5cf63d0b-bb26-43ea-8091-2694cfd07b61\" xlink:show=\"new\" xlink:title=\"psysml:5cf63d0b-bb26-43ea-8091-2694cfd07b61\" xlink:type=\"simple\"><rect fill=\"#FFFFFF\" height=\"88.3516\" id=\"E3\" style=\"stroke: #383838; stroke-width: 1.5;\" width=\"66\" x=\"409\" y=\"41\"/><text fill=\"#000000\" font-family=\"sans-serif\" font-size=\"12\" font-style=\"italic\" lengthAdjust=\"spacingAndGlyphs\" textLength=\"64\" x=\"410\" y=\"57.1387\">«part def»</text><text fill=\"#000000\" font-family=\"sans-serif\" font-size=\"12\" lengthAdjust=\"spacingAndGlyphs\" textLength=\"8\" x=\"438\" y=\"71.1074\">B</text><line style=\"stroke: #383838; stroke-width: 1.5;\" x1=\"410\" x2=\"474\" y1=\"78.9375\" y2=\"78.9375\"/><text fill=\"#000000\" font-family=\"sans-serif\" font-size=\"11\" lengthAdjust=\"spacingAndGlyphs\" textLength=\"29\" x=\"415\" y=\"109.9526\">p1: P</text><text fill=\"#000000\" font-family=\"sans-serif\" font-size=\"11\" lengthAdjust=\"spacingAndGlyphs\" textLength=\"38\" x=\"415\" y=\"122.7573\">p2: ~P</text><line style=\"stroke: #383838; stroke-width: 1.0;\" x1=\"410\" x2=\"427\" y1=\"93.3398\" y2=\"93.3398\"/><text fill=\"#000000\" font-family=\"sans-serif\" font-size=\"11\" lengthAdjust=\"spacingAndGlyphs\" textLength=\"30\" x=\"427\" y=\"96.6479\">ports</text><line style=\"stroke: #383838; stroke-width: 1.0;\" x1=\"457\" x2=\"474\" y1=\"93.3398\" y2=\"93.3398\"/></a><!--MD5=[60a26617385b1d2d0262a64233df1f8d]\n",
       "class E6--><a href=\"psysml:c95e8ce0-7583-4d42-8de3-1e3c8277134a\" target=\"_top\" title=\"psysml:c95e8ce0-7583-4d42-8de3-1e3c8277134a\" xlink:actuate=\"onRequest\" xlink:href=\"psysml:c95e8ce0-7583-4d42-8de3-1e3c8277134a\" xlink:show=\"new\" xlink:title=\"psysml:c95e8ce0-7583-4d42-8de3-1e3c8277134a\" xlink:type=\"simple\"><rect fill=\"#FFFFFF\" height=\"88.3516\" id=\"E6\" style=\"stroke: #383838; stroke-width: 1.5;\" width=\"110\" x=\"264\" y=\"41\"/><text fill=\"#000000\" font-family=\"sans-serif\" font-size=\"12\" font-style=\"italic\" lengthAdjust=\"spacingAndGlyphs\" textLength=\"108\" x=\"265\" y=\"57.1387\">«connection def»</text><text fill=\"#000000\" font-family=\"sans-serif\" font-size=\"12\" lengthAdjust=\"spacingAndGlyphs\" textLength=\"8\" x=\"315\" y=\"71.1074\">A</text><line style=\"stroke: #383838; stroke-width: 1.5;\" x1=\"265\" x2=\"373\" y1=\"78.9375\" y2=\"78.9375\"/><text fill=\"#000000\" font-family=\"sans-serif\" font-size=\"11\" lengthAdjust=\"spacingAndGlyphs\" textLength=\"29\" x=\"270\" y=\"109.9526\">p1: P</text><text fill=\"#000000\" font-family=\"sans-serif\" font-size=\"11\" lengthAdjust=\"spacingAndGlyphs\" textLength=\"38\" x=\"270\" y=\"122.7573\">p2: ~P</text><line style=\"stroke: #383838; stroke-width: 1.0;\" x1=\"265\" x2=\"304\" y1=\"93.3398\" y2=\"93.3398\"/><text fill=\"#000000\" font-family=\"sans-serif\" font-size=\"11\" lengthAdjust=\"spacingAndGlyphs\" textLength=\"30\" x=\"304\" y=\"96.6479\">ports</text><line style=\"stroke: #383838; stroke-width: 1.0;\" x1=\"334\" x2=\"373\" y1=\"93.3398\" y2=\"93.3398\"/></a><!--MD5=[fd4143e9d270a159db93a4ea2a975926]\n",
       "class E9--><a href=\"psysml:3dca2d5e-c062-4427-93b4-bcb55890dd40\" target=\"_top\" title=\"psysml:3dca2d5e-c062-4427-93b4-bcb55890dd40\" xlink:actuate=\"onRequest\" xlink:href=\"psysml:3dca2d5e-c062-4427-93b4-bcb55890dd40\" xlink:show=\"new\" xlink:title=\"psysml:3dca2d5e-c062-4427-93b4-bcb55890dd40\" xlink:type=\"simple\"><rect fill=\"#FFFFFF\" height=\"88.3516\" id=\"E9\" style=\"stroke: #383838; stroke-width: 1.5;\" width=\"96\" x=\"133\" y=\"41\"/><text fill=\"#000000\" font-family=\"sans-serif\" font-size=\"12\" font-style=\"italic\" lengthAdjust=\"spacingAndGlyphs\" textLength=\"94\" x=\"134\" y=\"57.1387\">«interface def»</text><text fill=\"#000000\" font-family=\"sans-serif\" font-size=\"12\" lengthAdjust=\"spacingAndGlyphs\" textLength=\"3\" x=\"179.5\" y=\"71.1074\">I</text><line style=\"stroke: #383838; stroke-width: 1.5;\" x1=\"134\" x2=\"228\" y1=\"78.9375\" y2=\"78.9375\"/><text fill=\"#000000\" font-family=\"sans-serif\" font-size=\"11\" lengthAdjust=\"spacingAndGlyphs\" textLength=\"29\" x=\"139\" y=\"109.9526\">p1: P</text><text fill=\"#000000\" font-family=\"sans-serif\" font-size=\"11\" lengthAdjust=\"spacingAndGlyphs\" textLength=\"38\" x=\"139\" y=\"122.7573\">p2: ~P</text><line style=\"stroke: #383838; stroke-width: 1.0;\" x1=\"134\" x2=\"166\" y1=\"93.3398\" y2=\"93.3398\"/><text fill=\"#000000\" font-family=\"sans-serif\" font-size=\"11\" lengthAdjust=\"spacingAndGlyphs\" textLength=\"30\" x=\"166\" y=\"96.6479\">ports</text><line style=\"stroke: #383838; stroke-width: 1.0;\" x1=\"196\" x2=\"228\" y1=\"93.3398\" y2=\"93.3398\"/></a><!--MD5=[49a0ec8f00dab7302a31f22d0f0fe584]\n",
       "class E12--><a href=\"psysml:239b6b7d-2819-4aeb-bfce-341b8d8c5fb1\" target=\"_top\" title=\"psysml:239b6b7d-2819-4aeb-bfce-341b8d8c5fb1\" xlink:actuate=\"onRequest\" xlink:href=\"psysml:239b6b7d-2819-4aeb-bfce-341b8d8c5fb1\" xlink:show=\"new\" xlink:title=\"psysml:239b6b7d-2819-4aeb-bfce-341b8d8c5fb1\" xlink:type=\"simple\"><rect fill=\"#FFFFFF\" height=\"45.9375\" id=\"E12\" style=\"stroke: #383838; stroke-width: 1.5;\" width=\"66\" x=\"32\" y=\"62\"/><text fill=\"#000000\" font-family=\"sans-serif\" font-size=\"12\" font-style=\"italic\" lengthAdjust=\"spacingAndGlyphs\" textLength=\"64\" x=\"33\" y=\"78.1387\">«part def»</text><text fill=\"#000000\" font-family=\"sans-serif\" font-size=\"12\" lengthAdjust=\"spacingAndGlyphs\" textLength=\"16\" x=\"57\" y=\"92.1074\">B1</text><line style=\"stroke: #383838; stroke-width: 1.5;\" x1=\"33\" x2=\"97\" y1=\"99.9375\" y2=\"99.9375\"/></a><!--MD5=[ee3c913d1a06f366521f9ef512b67efe]\n",
       "class E13--><a href=\"psysml:080adc10-96fd-4f72-8d28-a6aae1d02a34\" target=\"_top\" title=\"psysml:080adc10-96fd-4f72-8d28-a6aae1d02a34\" xlink:actuate=\"onRequest\" xlink:href=\"psysml:080adc10-96fd-4f72-8d28-a6aae1d02a34\" xlink:show=\"new\" xlink:title=\"psysml:080adc10-96fd-4f72-8d28-a6aae1d02a34\" xlink:type=\"simple\"><rect fill=\"#FFFFFF\" height=\"88.3516\" id=\"E13\" rx=\"10\" ry=\"10\" style=\"stroke: #383838; stroke-width: 1.5;\" width=\"50\" x=\"40\" y=\"189\"/><text fill=\"#000000\" font-family=\"sans-serif\" font-size=\"12\" font-style=\"italic\" lengthAdjust=\"spacingAndGlyphs\" textLength=\"40\" x=\"45\" y=\"205.1387\">«part»</text><text fill=\"#000000\" font-family=\"sans-serif\" font-size=\"12\" lengthAdjust=\"spacingAndGlyphs\" textLength=\"8\" x=\"61\" y=\"219.1074\">p</text><line style=\"stroke: #383838; stroke-width: 1.5;\" x1=\"41\" x2=\"89\" y1=\"226.9375\" y2=\"226.9375\"/><text fill=\"#000000\" font-family=\"sans-serif\" font-size=\"11\" lengthAdjust=\"spacingAndGlyphs\" textLength=\"29\" x=\"46\" y=\"257.9526\">p1: P</text><text fill=\"#000000\" font-family=\"sans-serif\" font-size=\"11\" lengthAdjust=\"spacingAndGlyphs\" textLength=\"38\" x=\"46\" y=\"270.7573\">p2: ~P</text><line style=\"stroke: #383838; stroke-width: 1.0;\" x1=\"41\" x2=\"50\" y1=\"241.3398\" y2=\"241.3398\"/><text fill=\"#000000\" font-family=\"sans-serif\" font-size=\"11\" lengthAdjust=\"spacingAndGlyphs\" textLength=\"30\" x=\"50\" y=\"244.6479\">ports</text><line style=\"stroke: #383838; stroke-width: 1.0;\" x1=\"80\" x2=\"89\" y1=\"241.3398\" y2=\"241.3398\"/></a><!--MD5=[062ed86c389d1a88f61c6380d0491e17]\n",
       "reverse link E12 to E13--><a href=\"psysml:06665d43-130c-4b8a-bdfd-d93e6351f975\" target=\"_top\" title=\"psysml:06665d43-130c-4b8a-bdfd-d93e6351f975\" xlink:actuate=\"onRequest\" xlink:href=\"psysml:06665d43-130c-4b8a-bdfd-d93e6351f975\" xlink:show=\"new\" xlink:title=\"psysml:06665d43-130c-4b8a-bdfd-d93e6351f975\" xlink:type=\"simple\"><path d=\"M65,121.25 C65,141.54 65,167.2 65,188.71 \" fill=\"none\" id=\"E12&lt;-E13\" style=\"stroke: #383838; stroke-width: 1.0;\"/><polygon fill=\"#383838\" points=\"65,108.17,61,114.17,65,120.17,69,114.17,65,108.17\" style=\"stroke: #383838; stroke-width: 1.0;\"/></a><!--MD5=[da39f33879800d957325302bd24f101d]\n",
       "@startuml\r\n",
       "top to bottom direction\r\n",
       "skinparam monochrome true\r\n",
       "skinparam classbackgroundcolor white\r\n",
       "skinparam shadowing false\r\n",
       "skinparam wrapWidth 300\r\n",
       "hide circle\r\n",
       "\r\n",
       "package \"ConjugationTest\" as E1  [[psysml:56f2a3b4-cc43-4fa3-8695-199f33536b50 ]]  {\r\n",
       "comp def \"P\" as E2  <<(T,blue)port def>> [[psysml:c0a3bc73-93c5-4b4d-b763-5833239b73fd ]] {\r\n",
       "}\r\n",
       "comp def \"B\" as E3  <<(T,blue)part def>> [[psysml:5cf63d0b-bb26-43ea-8091-2694cfd07b61 ]] {\r\n",
       "- - ports - -\r\n",
       "p1: P\r\n",
       "p2: ~P\r\n",
       "}\r\n",
       "comp def \"A\" as E6  <<(T,blue)connection def>> [[psysml:c95e8ce0-7583-4d42-8de3-1e3c8277134a ]] {\r\n",
       "- - ports - -\r\n",
       "p1: P\r\n",
       "p2: ~P\r\n",
       "}\r\n",
       "comp def \"I\" as E9  <<(T,blue)interface def>> [[psysml:3dca2d5e-c062-4427-93b4-bcb55890dd40 ]] {\r\n",
       "- - ports - -\r\n",
       "p1: P\r\n",
       "p2: ~P\r\n",
       "}\r\n",
       "comp def \"B1\" as E12  <<(T,blue)part def>> [[psysml:239b6b7d-2819-4aeb-bfce-341b8d8c5fb1 ]] {\r\n",
       "}\r\n",
       "comp usage \"p\" as E13  <<(T,blue)part>> [[psysml:080adc10-96fd-4f72-8d28-a6aae1d02a34 ]] {\r\n",
       "- - ports - -\r\n",
       "p1: P\r\n",
       "p2: ~P\r\n",
       "}\r\n",
       "E12 *- - E13 [[psysml:06665d43-130c-4b8a-bdfd-d93e6351f975 ]] \r\n",
       "}\r\n",
       "@enduml\r\n",
       "\n",
       "PlantUML version 1.2020.13(Sat Jun 13 12:26:38 UTC 2020)\n",
       "(EPL source distribution)\n",
       "Java Runtime: OpenJDK Runtime Environment\n",
       "JVM: OpenJDK 64-Bit Server VM\n",
       "Default Encoding: UTF-8\n",
       "Language: en\n",
       "Country: null\n",
       "--></g></svg>"
      ]
     },
     "execution_count": 50,
     "metadata": {},
     "output_type": "execute_result"
    }
   ],
   "source": [
    "%viz --style=\"TB\" --view=\"MIXED\" \"ConjugationTest\""
   ]
  },
  {
   "cell_type": "code",
   "execution_count": 51,
   "id": "2011087a",
   "metadata": {
    "execution": {
     "iopub.execute_input": "2021-04-20T07:00:17.714569Z",
     "iopub.status.busy": "2021-04-20T07:00:17.714198Z",
     "iopub.status.idle": "2021-04-20T07:00:17.803352Z",
     "shell.execute_reply": "2021-04-20T07:00:17.801910Z"
    }
   },
   "outputs": [
    {
     "data": {
      "image/svg+xml": [
       "<?xml version=\"1.0\" encoding=\"UTF-8\" standalone=\"no\"?><svg xmlns=\"http://www.w3.org/2000/svg\" xmlns:xlink=\"http://www.w3.org/1999/xlink\" contentScriptType=\"application/ecmascript\" contentStyleType=\"text/css\" height=\"305px\" preserveAspectRatio=\"none\" style=\"width:614px;height:305px;\" version=\"1.1\" viewBox=\"0 0 614 305\" width=\"614px\" zoomAndPan=\"magnify\"><defs/><g><!--MD5=[fbc87193dbaf4d95561dea2c320d4a47]\n",
       "cluster E1--><a href=\"psysml:56f2a3b4-cc43-4fa3-8695-199f33536b50\" target=\"_top\" title=\"psysml:56f2a3b4-cc43-4fa3-8695-199f33536b50\" xlink:actuate=\"onRequest\" xlink:href=\"psysml:56f2a3b4-cc43-4fa3-8695-199f33536b50\" xlink:show=\"new\" xlink:title=\"psysml:56f2a3b4-cc43-4fa3-8695-199f33536b50\" xlink:type=\"simple\"><polygon fill=\"#FFFFFF\" points=\"16,6,151,6,158,28.2969,592,28.2969,592,293,16,293,16,6\" style=\"stroke: #000000; stroke-width: 1.5;\"/><line style=\"stroke: #000000; stroke-width: 1.5;\" x1=\"16\" x2=\"158\" y1=\"28.2969\" y2=\"28.2969\"/><text fill=\"#000000\" font-family=\"sans-serif\" font-size=\"14\" font-weight=\"bold\" lengthAdjust=\"spacingAndGlyphs\" textLength=\"129\" x=\"20\" y=\"20.9951\">ConjugationTest</text></a><!--MD5=[b4997ac47864f28c2f74865a473b2911]\n",
       "class E2--><a href=\"psysml:c0a3bc73-93c5-4b4d-b763-5833239b73fd\" target=\"_top\" title=\"psysml:c0a3bc73-93c5-4b4d-b763-5833239b73fd\" xlink:actuate=\"onRequest\" xlink:href=\"psysml:c0a3bc73-93c5-4b4d-b763-5833239b73fd\" xlink:show=\"new\" xlink:title=\"psysml:c0a3bc73-93c5-4b4d-b763-5833239b73fd\" xlink:type=\"simple\"><rect fill=\"#FFFFFF\" height=\"45.9375\" id=\"E2\" style=\"stroke: #383838; stroke-width: 1.5;\" width=\"66\" x=\"510\" y=\"62\"/><text fill=\"#000000\" font-family=\"sans-serif\" font-size=\"12\" font-style=\"italic\" lengthAdjust=\"spacingAndGlyphs\" textLength=\"64\" x=\"511\" y=\"78.1387\">«port def»</text><text fill=\"#000000\" font-family=\"sans-serif\" font-size=\"12\" lengthAdjust=\"spacingAndGlyphs\" textLength=\"8\" x=\"539\" y=\"92.1074\">P</text><line style=\"stroke: #383838; stroke-width: 1.5;\" x1=\"511\" x2=\"575\" y1=\"99.9375\" y2=\"99.9375\"/></a><!--MD5=[09b614a08d8cba4a07c9adeb5e0fee81]\n",
       "class E3--><a href=\"psysml:5cf63d0b-bb26-43ea-8091-2694cfd07b61\" target=\"_top\" title=\"psysml:5cf63d0b-bb26-43ea-8091-2694cfd07b61\" xlink:actuate=\"onRequest\" xlink:href=\"psysml:5cf63d0b-bb26-43ea-8091-2694cfd07b61\" xlink:show=\"new\" xlink:title=\"psysml:5cf63d0b-bb26-43ea-8091-2694cfd07b61\" xlink:type=\"simple\"><rect fill=\"#FFFFFF\" height=\"88.3516\" id=\"E3\" style=\"stroke: #383838; stroke-width: 1.5;\" width=\"66\" x=\"409\" y=\"41\"/><text fill=\"#000000\" font-family=\"sans-serif\" font-size=\"12\" font-style=\"italic\" lengthAdjust=\"spacingAndGlyphs\" textLength=\"64\" x=\"410\" y=\"57.1387\">«part def»</text><text fill=\"#000000\" font-family=\"sans-serif\" font-size=\"12\" lengthAdjust=\"spacingAndGlyphs\" textLength=\"8\" x=\"438\" y=\"71.1074\">B</text><line style=\"stroke: #383838; stroke-width: 1.5;\" x1=\"410\" x2=\"474\" y1=\"78.9375\" y2=\"78.9375\"/><text fill=\"#000000\" font-family=\"sans-serif\" font-size=\"11\" lengthAdjust=\"spacingAndGlyphs\" textLength=\"29\" x=\"415\" y=\"109.9526\">p1: P</text><text fill=\"#000000\" font-family=\"sans-serif\" font-size=\"11\" lengthAdjust=\"spacingAndGlyphs\" textLength=\"38\" x=\"415\" y=\"122.7573\">p2: ~P</text><line style=\"stroke: #383838; stroke-width: 1.0;\" x1=\"410\" x2=\"427\" y1=\"93.3398\" y2=\"93.3398\"/><text fill=\"#000000\" font-family=\"sans-serif\" font-size=\"11\" lengthAdjust=\"spacingAndGlyphs\" textLength=\"30\" x=\"427\" y=\"96.6479\">ports</text><line style=\"stroke: #383838; stroke-width: 1.0;\" x1=\"457\" x2=\"474\" y1=\"93.3398\" y2=\"93.3398\"/></a><!--MD5=[60a26617385b1d2d0262a64233df1f8d]\n",
       "class E6--><a href=\"psysml:c95e8ce0-7583-4d42-8de3-1e3c8277134a\" target=\"_top\" title=\"psysml:c95e8ce0-7583-4d42-8de3-1e3c8277134a\" xlink:actuate=\"onRequest\" xlink:href=\"psysml:c95e8ce0-7583-4d42-8de3-1e3c8277134a\" xlink:show=\"new\" xlink:title=\"psysml:c95e8ce0-7583-4d42-8de3-1e3c8277134a\" xlink:type=\"simple\"><rect fill=\"#FFFFFF\" height=\"88.3516\" id=\"E6\" style=\"stroke: #383838; stroke-width: 1.5;\" width=\"110\" x=\"264\" y=\"41\"/><text fill=\"#000000\" font-family=\"sans-serif\" font-size=\"12\" font-style=\"italic\" lengthAdjust=\"spacingAndGlyphs\" textLength=\"108\" x=\"265\" y=\"57.1387\">«connection def»</text><text fill=\"#000000\" font-family=\"sans-serif\" font-size=\"12\" lengthAdjust=\"spacingAndGlyphs\" textLength=\"8\" x=\"315\" y=\"71.1074\">A</text><line style=\"stroke: #383838; stroke-width: 1.5;\" x1=\"265\" x2=\"373\" y1=\"78.9375\" y2=\"78.9375\"/><text fill=\"#000000\" font-family=\"sans-serif\" font-size=\"11\" lengthAdjust=\"spacingAndGlyphs\" textLength=\"29\" x=\"270\" y=\"109.9526\">p1: P</text><text fill=\"#000000\" font-family=\"sans-serif\" font-size=\"11\" lengthAdjust=\"spacingAndGlyphs\" textLength=\"38\" x=\"270\" y=\"122.7573\">p2: ~P</text><line style=\"stroke: #383838; stroke-width: 1.0;\" x1=\"265\" x2=\"304\" y1=\"93.3398\" y2=\"93.3398\"/><text fill=\"#000000\" font-family=\"sans-serif\" font-size=\"11\" lengthAdjust=\"spacingAndGlyphs\" textLength=\"30\" x=\"304\" y=\"96.6479\">ports</text><line style=\"stroke: #383838; stroke-width: 1.0;\" x1=\"334\" x2=\"373\" y1=\"93.3398\" y2=\"93.3398\"/></a><!--MD5=[fd4143e9d270a159db93a4ea2a975926]\n",
       "class E9--><a href=\"psysml:3dca2d5e-c062-4427-93b4-bcb55890dd40\" target=\"_top\" title=\"psysml:3dca2d5e-c062-4427-93b4-bcb55890dd40\" xlink:actuate=\"onRequest\" xlink:href=\"psysml:3dca2d5e-c062-4427-93b4-bcb55890dd40\" xlink:show=\"new\" xlink:title=\"psysml:3dca2d5e-c062-4427-93b4-bcb55890dd40\" xlink:type=\"simple\"><rect fill=\"#FFFFFF\" height=\"88.3516\" id=\"E9\" style=\"stroke: #383838; stroke-width: 1.5;\" width=\"96\" x=\"133\" y=\"41\"/><text fill=\"#000000\" font-family=\"sans-serif\" font-size=\"12\" font-style=\"italic\" lengthAdjust=\"spacingAndGlyphs\" textLength=\"94\" x=\"134\" y=\"57.1387\">«interface def»</text><text fill=\"#000000\" font-family=\"sans-serif\" font-size=\"12\" lengthAdjust=\"spacingAndGlyphs\" textLength=\"3\" x=\"179.5\" y=\"71.1074\">I</text><line style=\"stroke: #383838; stroke-width: 1.5;\" x1=\"134\" x2=\"228\" y1=\"78.9375\" y2=\"78.9375\"/><text fill=\"#000000\" font-family=\"sans-serif\" font-size=\"11\" lengthAdjust=\"spacingAndGlyphs\" textLength=\"29\" x=\"139\" y=\"109.9526\">p1: P</text><text fill=\"#000000\" font-family=\"sans-serif\" font-size=\"11\" lengthAdjust=\"spacingAndGlyphs\" textLength=\"38\" x=\"139\" y=\"122.7573\">p2: ~P</text><line style=\"stroke: #383838; stroke-width: 1.0;\" x1=\"134\" x2=\"166\" y1=\"93.3398\" y2=\"93.3398\"/><text fill=\"#000000\" font-family=\"sans-serif\" font-size=\"11\" lengthAdjust=\"spacingAndGlyphs\" textLength=\"30\" x=\"166\" y=\"96.6479\">ports</text><line style=\"stroke: #383838; stroke-width: 1.0;\" x1=\"196\" x2=\"228\" y1=\"93.3398\" y2=\"93.3398\"/></a><!--MD5=[49a0ec8f00dab7302a31f22d0f0fe584]\n",
       "class E12--><a href=\"psysml:239b6b7d-2819-4aeb-bfce-341b8d8c5fb1\" target=\"_top\" title=\"psysml:239b6b7d-2819-4aeb-bfce-341b8d8c5fb1\" xlink:actuate=\"onRequest\" xlink:href=\"psysml:239b6b7d-2819-4aeb-bfce-341b8d8c5fb1\" xlink:show=\"new\" xlink:title=\"psysml:239b6b7d-2819-4aeb-bfce-341b8d8c5fb1\" xlink:type=\"simple\"><rect fill=\"#FFFFFF\" height=\"45.9375\" id=\"E12\" style=\"stroke: #383838; stroke-width: 1.5;\" width=\"66\" x=\"32\" y=\"62\"/><text fill=\"#000000\" font-family=\"sans-serif\" font-size=\"12\" font-style=\"italic\" lengthAdjust=\"spacingAndGlyphs\" textLength=\"64\" x=\"33\" y=\"78.1387\">«part def»</text><text fill=\"#000000\" font-family=\"sans-serif\" font-size=\"12\" lengthAdjust=\"spacingAndGlyphs\" textLength=\"16\" x=\"57\" y=\"92.1074\">B1</text><line style=\"stroke: #383838; stroke-width: 1.5;\" x1=\"33\" x2=\"97\" y1=\"99.9375\" y2=\"99.9375\"/></a><!--MD5=[ee3c913d1a06f366521f9ef512b67efe]\n",
       "class E13--><a href=\"psysml:080adc10-96fd-4f72-8d28-a6aae1d02a34\" target=\"_top\" title=\"psysml:080adc10-96fd-4f72-8d28-a6aae1d02a34\" xlink:actuate=\"onRequest\" xlink:href=\"psysml:080adc10-96fd-4f72-8d28-a6aae1d02a34\" xlink:show=\"new\" xlink:title=\"psysml:080adc10-96fd-4f72-8d28-a6aae1d02a34\" xlink:type=\"simple\"><rect fill=\"#FFFFFF\" height=\"88.3516\" id=\"E13\" rx=\"10\" ry=\"10\" style=\"stroke: #383838; stroke-width: 1.5;\" width=\"50\" x=\"40\" y=\"189\"/><text fill=\"#000000\" font-family=\"sans-serif\" font-size=\"12\" font-style=\"italic\" lengthAdjust=\"spacingAndGlyphs\" textLength=\"40\" x=\"45\" y=\"205.1387\">«part»</text><text fill=\"#000000\" font-family=\"sans-serif\" font-size=\"12\" lengthAdjust=\"spacingAndGlyphs\" textLength=\"8\" x=\"61\" y=\"219.1074\">p</text><line style=\"stroke: #383838; stroke-width: 1.5;\" x1=\"41\" x2=\"89\" y1=\"226.9375\" y2=\"226.9375\"/><text fill=\"#000000\" font-family=\"sans-serif\" font-size=\"11\" lengthAdjust=\"spacingAndGlyphs\" textLength=\"29\" x=\"46\" y=\"257.9526\">p1: P</text><text fill=\"#000000\" font-family=\"sans-serif\" font-size=\"11\" lengthAdjust=\"spacingAndGlyphs\" textLength=\"38\" x=\"46\" y=\"270.7573\">p2: ~P</text><line style=\"stroke: #383838; stroke-width: 1.0;\" x1=\"41\" x2=\"50\" y1=\"241.3398\" y2=\"241.3398\"/><text fill=\"#000000\" font-family=\"sans-serif\" font-size=\"11\" lengthAdjust=\"spacingAndGlyphs\" textLength=\"30\" x=\"50\" y=\"244.6479\">ports</text><line style=\"stroke: #383838; stroke-width: 1.0;\" x1=\"80\" x2=\"89\" y1=\"241.3398\" y2=\"241.3398\"/></a><!--MD5=[062ed86c389d1a88f61c6380d0491e17]\n",
       "reverse link E12 to E13--><a href=\"psysml:06665d43-130c-4b8a-bdfd-d93e6351f975\" target=\"_top\" title=\"psysml:06665d43-130c-4b8a-bdfd-d93e6351f975\" xlink:actuate=\"onRequest\" xlink:href=\"psysml:06665d43-130c-4b8a-bdfd-d93e6351f975\" xlink:show=\"new\" xlink:title=\"psysml:06665d43-130c-4b8a-bdfd-d93e6351f975\" xlink:type=\"simple\"><path d=\"M65,121.12 C65,121.12 65,188.9 65,188.9 \" fill=\"none\" id=\"E12&lt;-E13\" style=\"stroke: #383838; stroke-width: 1.0;\"/><polygon fill=\"#383838\" points=\"65,108.12,61.0066,114.1244,65.0132,120.12,69.0066,114.1156,65,108.12\" style=\"stroke: #383838; stroke-width: 1.0;\"/></a><!--MD5=[30eb0e61223434e89aedfb7ae32602d6]\n",
       "@startuml\r\n",
       "skinparam linetype ortho\r\n",
       "skinparam monochrome true\r\n",
       "skinparam classbackgroundcolor white\r\n",
       "skinparam shadowing false\r\n",
       "skinparam wrapWidth 300\r\n",
       "hide circle\r\n",
       "\r\n",
       "package \"ConjugationTest\" as E1  [[psysml:56f2a3b4-cc43-4fa3-8695-199f33536b50 ]]  {\r\n",
       "comp def \"P\" as E2  <<(T,blue)port def>> [[psysml:c0a3bc73-93c5-4b4d-b763-5833239b73fd ]] {\r\n",
       "}\r\n",
       "comp def \"B\" as E3  <<(T,blue)part def>> [[psysml:5cf63d0b-bb26-43ea-8091-2694cfd07b61 ]] {\r\n",
       "- - ports - -\r\n",
       "p1: P\r\n",
       "p2: ~P\r\n",
       "}\r\n",
       "comp def \"A\" as E6  <<(T,blue)connection def>> [[psysml:c95e8ce0-7583-4d42-8de3-1e3c8277134a ]] {\r\n",
       "- - ports - -\r\n",
       "p1: P\r\n",
       "p2: ~P\r\n",
       "}\r\n",
       "comp def \"I\" as E9  <<(T,blue)interface def>> [[psysml:3dca2d5e-c062-4427-93b4-bcb55890dd40 ]] {\r\n",
       "- - ports - -\r\n",
       "p1: P\r\n",
       "p2: ~P\r\n",
       "}\r\n",
       "comp def \"B1\" as E12  <<(T,blue)part def>> [[psysml:239b6b7d-2819-4aeb-bfce-341b8d8c5fb1 ]] {\r\n",
       "}\r\n",
       "comp usage \"p\" as E13  <<(T,blue)part>> [[psysml:080adc10-96fd-4f72-8d28-a6aae1d02a34 ]] {\r\n",
       "- - ports - -\r\n",
       "p1: P\r\n",
       "p2: ~P\r\n",
       "}\r\n",
       "E12 *- - E13 [[psysml:06665d43-130c-4b8a-bdfd-d93e6351f975 ]] \r\n",
       "}\r\n",
       "@enduml\r\n",
       "\n",
       "PlantUML version 1.2020.13(Sat Jun 13 12:26:38 UTC 2020)\n",
       "(EPL source distribution)\n",
       "Java Runtime: OpenJDK Runtime Environment\n",
       "JVM: OpenJDK 64-Bit Server VM\n",
       "Default Encoding: UTF-8\n",
       "Language: en\n",
       "Country: null\n",
       "--></g></svg>"
      ]
     },
     "execution_count": 51,
     "metadata": {},
     "output_type": "execute_result"
    }
   ],
   "source": [
    "%viz --style=\"ORTHOLINE\" --view=\"Default\" \"ConjugationTest\""
   ]
  },
  {
   "cell_type": "code",
   "execution_count": 52,
   "id": "daab17ca",
   "metadata": {
    "execution": {
     "iopub.execute_input": "2021-04-20T07:00:17.853278Z",
     "iopub.status.busy": "2021-04-20T07:00:17.852838Z",
     "iopub.status.idle": "2021-04-20T07:00:17.938561Z",
     "shell.execute_reply": "2021-04-20T07:00:17.937210Z"
    }
   },
   "outputs": [
    {
     "data": {
      "image/svg+xml": [
       "<?xml version=\"1.0\" encoding=\"UTF-8\" standalone=\"no\"?><svg xmlns=\"http://www.w3.org/2000/svg\" xmlns:xlink=\"http://www.w3.org/1999/xlink\" contentScriptType=\"application/ecmascript\" contentStyleType=\"text/css\" height=\"305px\" preserveAspectRatio=\"none\" style=\"width:614px;height:305px;\" version=\"1.1\" viewBox=\"0 0 614 305\" width=\"614px\" zoomAndPan=\"magnify\"><defs/><g><!--MD5=[fbc87193dbaf4d95561dea2c320d4a47]\n",
       "cluster E1--><a href=\"psysml:56f2a3b4-cc43-4fa3-8695-199f33536b50\" target=\"_top\" title=\"psysml:56f2a3b4-cc43-4fa3-8695-199f33536b50\" xlink:actuate=\"onRequest\" xlink:href=\"psysml:56f2a3b4-cc43-4fa3-8695-199f33536b50\" xlink:show=\"new\" xlink:title=\"psysml:56f2a3b4-cc43-4fa3-8695-199f33536b50\" xlink:type=\"simple\"><polygon fill=\"#FFFFFF\" points=\"16,6,151,6,158,28.2969,592,28.2969,592,293,16,293,16,6\" style=\"stroke: #000000; stroke-width: 1.5;\"/><line style=\"stroke: #000000; stroke-width: 1.5;\" x1=\"16\" x2=\"158\" y1=\"28.2969\" y2=\"28.2969\"/><text fill=\"#000000\" font-family=\"sans-serif\" font-size=\"14\" font-weight=\"bold\" lengthAdjust=\"spacingAndGlyphs\" textLength=\"129\" x=\"20\" y=\"20.9951\">ConjugationTest</text></a><!--MD5=[b4997ac47864f28c2f74865a473b2911]\n",
       "class E2--><a href=\"psysml:c0a3bc73-93c5-4b4d-b763-5833239b73fd\" target=\"_top\" title=\"psysml:c0a3bc73-93c5-4b4d-b763-5833239b73fd\" xlink:actuate=\"onRequest\" xlink:href=\"psysml:c0a3bc73-93c5-4b4d-b763-5833239b73fd\" xlink:show=\"new\" xlink:title=\"psysml:c0a3bc73-93c5-4b4d-b763-5833239b73fd\" xlink:type=\"simple\"><rect fill=\"#FFFFFF\" height=\"45.9375\" id=\"E2\" style=\"stroke: #383838; stroke-width: 1.5;\" width=\"66\" x=\"510\" y=\"62\"/><text fill=\"#000000\" font-family=\"sans-serif\" font-size=\"12\" font-style=\"italic\" lengthAdjust=\"spacingAndGlyphs\" textLength=\"64\" x=\"511\" y=\"78.1387\">«port def»</text><text fill=\"#000000\" font-family=\"sans-serif\" font-size=\"12\" lengthAdjust=\"spacingAndGlyphs\" textLength=\"8\" x=\"539\" y=\"92.1074\">P</text><line style=\"stroke: #383838; stroke-width: 1.5;\" x1=\"511\" x2=\"575\" y1=\"99.9375\" y2=\"99.9375\"/></a><!--MD5=[09b614a08d8cba4a07c9adeb5e0fee81]\n",
       "class E3--><a href=\"psysml:5cf63d0b-bb26-43ea-8091-2694cfd07b61\" target=\"_top\" title=\"psysml:5cf63d0b-bb26-43ea-8091-2694cfd07b61\" xlink:actuate=\"onRequest\" xlink:href=\"psysml:5cf63d0b-bb26-43ea-8091-2694cfd07b61\" xlink:show=\"new\" xlink:title=\"psysml:5cf63d0b-bb26-43ea-8091-2694cfd07b61\" xlink:type=\"simple\"><rect fill=\"#FFFFFF\" height=\"88.3516\" id=\"E3\" style=\"stroke: #383838; stroke-width: 1.5;\" width=\"66\" x=\"409\" y=\"41\"/><text fill=\"#000000\" font-family=\"sans-serif\" font-size=\"12\" font-style=\"italic\" lengthAdjust=\"spacingAndGlyphs\" textLength=\"64\" x=\"410\" y=\"57.1387\">«part def»</text><text fill=\"#000000\" font-family=\"sans-serif\" font-size=\"12\" lengthAdjust=\"spacingAndGlyphs\" textLength=\"8\" x=\"438\" y=\"71.1074\">B</text><line style=\"stroke: #383838; stroke-width: 1.5;\" x1=\"410\" x2=\"474\" y1=\"78.9375\" y2=\"78.9375\"/><text fill=\"#000000\" font-family=\"sans-serif\" font-size=\"11\" lengthAdjust=\"spacingAndGlyphs\" textLength=\"29\" x=\"415\" y=\"109.9526\">p1: P</text><text fill=\"#000000\" font-family=\"sans-serif\" font-size=\"11\" lengthAdjust=\"spacingAndGlyphs\" textLength=\"38\" x=\"415\" y=\"122.7573\">p2: ~P</text><line style=\"stroke: #383838; stroke-width: 1.0;\" x1=\"410\" x2=\"427\" y1=\"93.3398\" y2=\"93.3398\"/><text fill=\"#000000\" font-family=\"sans-serif\" font-size=\"11\" lengthAdjust=\"spacingAndGlyphs\" textLength=\"30\" x=\"427\" y=\"96.6479\">ports</text><line style=\"stroke: #383838; stroke-width: 1.0;\" x1=\"457\" x2=\"474\" y1=\"93.3398\" y2=\"93.3398\"/></a><!--MD5=[60a26617385b1d2d0262a64233df1f8d]\n",
       "class E6--><a href=\"psysml:c95e8ce0-7583-4d42-8de3-1e3c8277134a\" target=\"_top\" title=\"psysml:c95e8ce0-7583-4d42-8de3-1e3c8277134a\" xlink:actuate=\"onRequest\" xlink:href=\"psysml:c95e8ce0-7583-4d42-8de3-1e3c8277134a\" xlink:show=\"new\" xlink:title=\"psysml:c95e8ce0-7583-4d42-8de3-1e3c8277134a\" xlink:type=\"simple\"><rect fill=\"#FFFFFF\" height=\"88.3516\" id=\"E6\" style=\"stroke: #383838; stroke-width: 1.5;\" width=\"110\" x=\"264\" y=\"41\"/><text fill=\"#000000\" font-family=\"sans-serif\" font-size=\"12\" font-style=\"italic\" lengthAdjust=\"spacingAndGlyphs\" textLength=\"108\" x=\"265\" y=\"57.1387\">«connection def»</text><text fill=\"#000000\" font-family=\"sans-serif\" font-size=\"12\" lengthAdjust=\"spacingAndGlyphs\" textLength=\"8\" x=\"315\" y=\"71.1074\">A</text><line style=\"stroke: #383838; stroke-width: 1.5;\" x1=\"265\" x2=\"373\" y1=\"78.9375\" y2=\"78.9375\"/><text fill=\"#000000\" font-family=\"sans-serif\" font-size=\"11\" lengthAdjust=\"spacingAndGlyphs\" textLength=\"29\" x=\"270\" y=\"109.9526\">p1: P</text><text fill=\"#000000\" font-family=\"sans-serif\" font-size=\"11\" lengthAdjust=\"spacingAndGlyphs\" textLength=\"38\" x=\"270\" y=\"122.7573\">p2: ~P</text><line style=\"stroke: #383838; stroke-width: 1.0;\" x1=\"265\" x2=\"304\" y1=\"93.3398\" y2=\"93.3398\"/><text fill=\"#000000\" font-family=\"sans-serif\" font-size=\"11\" lengthAdjust=\"spacingAndGlyphs\" textLength=\"30\" x=\"304\" y=\"96.6479\">ports</text><line style=\"stroke: #383838; stroke-width: 1.0;\" x1=\"334\" x2=\"373\" y1=\"93.3398\" y2=\"93.3398\"/></a><!--MD5=[fd4143e9d270a159db93a4ea2a975926]\n",
       "class E9--><a href=\"psysml:3dca2d5e-c062-4427-93b4-bcb55890dd40\" target=\"_top\" title=\"psysml:3dca2d5e-c062-4427-93b4-bcb55890dd40\" xlink:actuate=\"onRequest\" xlink:href=\"psysml:3dca2d5e-c062-4427-93b4-bcb55890dd40\" xlink:show=\"new\" xlink:title=\"psysml:3dca2d5e-c062-4427-93b4-bcb55890dd40\" xlink:type=\"simple\"><rect fill=\"#FFFFFF\" height=\"88.3516\" id=\"E9\" style=\"stroke: #383838; stroke-width: 1.5;\" width=\"96\" x=\"133\" y=\"41\"/><text fill=\"#000000\" font-family=\"sans-serif\" font-size=\"12\" font-style=\"italic\" lengthAdjust=\"spacingAndGlyphs\" textLength=\"94\" x=\"134\" y=\"57.1387\">«interface def»</text><text fill=\"#000000\" font-family=\"sans-serif\" font-size=\"12\" lengthAdjust=\"spacingAndGlyphs\" textLength=\"3\" x=\"179.5\" y=\"71.1074\">I</text><line style=\"stroke: #383838; stroke-width: 1.5;\" x1=\"134\" x2=\"228\" y1=\"78.9375\" y2=\"78.9375\"/><text fill=\"#000000\" font-family=\"sans-serif\" font-size=\"11\" lengthAdjust=\"spacingAndGlyphs\" textLength=\"29\" x=\"139\" y=\"109.9526\">p1: P</text><text fill=\"#000000\" font-family=\"sans-serif\" font-size=\"11\" lengthAdjust=\"spacingAndGlyphs\" textLength=\"38\" x=\"139\" y=\"122.7573\">p2: ~P</text><line style=\"stroke: #383838; stroke-width: 1.0;\" x1=\"134\" x2=\"166\" y1=\"93.3398\" y2=\"93.3398\"/><text fill=\"#000000\" font-family=\"sans-serif\" font-size=\"11\" lengthAdjust=\"spacingAndGlyphs\" textLength=\"30\" x=\"166\" y=\"96.6479\">ports</text><line style=\"stroke: #383838; stroke-width: 1.0;\" x1=\"196\" x2=\"228\" y1=\"93.3398\" y2=\"93.3398\"/></a><!--MD5=[49a0ec8f00dab7302a31f22d0f0fe584]\n",
       "class E12--><a href=\"psysml:239b6b7d-2819-4aeb-bfce-341b8d8c5fb1\" target=\"_top\" title=\"psysml:239b6b7d-2819-4aeb-bfce-341b8d8c5fb1\" xlink:actuate=\"onRequest\" xlink:href=\"psysml:239b6b7d-2819-4aeb-bfce-341b8d8c5fb1\" xlink:show=\"new\" xlink:title=\"psysml:239b6b7d-2819-4aeb-bfce-341b8d8c5fb1\" xlink:type=\"simple\"><rect fill=\"#FFFFFF\" height=\"45.9375\" id=\"E12\" style=\"stroke: #383838; stroke-width: 1.5;\" width=\"66\" x=\"32\" y=\"62\"/><text fill=\"#000000\" font-family=\"sans-serif\" font-size=\"12\" font-style=\"italic\" lengthAdjust=\"spacingAndGlyphs\" textLength=\"64\" x=\"33\" y=\"78.1387\">«part def»</text><text fill=\"#000000\" font-family=\"sans-serif\" font-size=\"12\" lengthAdjust=\"spacingAndGlyphs\" textLength=\"16\" x=\"57\" y=\"92.1074\">B1</text><line style=\"stroke: #383838; stroke-width: 1.5;\" x1=\"33\" x2=\"97\" y1=\"99.9375\" y2=\"99.9375\"/></a><!--MD5=[ee3c913d1a06f366521f9ef512b67efe]\n",
       "class E13--><a href=\"psysml:080adc10-96fd-4f72-8d28-a6aae1d02a34\" target=\"_top\" title=\"psysml:080adc10-96fd-4f72-8d28-a6aae1d02a34\" xlink:actuate=\"onRequest\" xlink:href=\"psysml:080adc10-96fd-4f72-8d28-a6aae1d02a34\" xlink:show=\"new\" xlink:title=\"psysml:080adc10-96fd-4f72-8d28-a6aae1d02a34\" xlink:type=\"simple\"><rect fill=\"#FFFFFF\" height=\"88.3516\" id=\"E13\" rx=\"10\" ry=\"10\" style=\"stroke: #383838; stroke-width: 1.5;\" width=\"50\" x=\"40\" y=\"189\"/><text fill=\"#000000\" font-family=\"sans-serif\" font-size=\"12\" font-style=\"italic\" lengthAdjust=\"spacingAndGlyphs\" textLength=\"40\" x=\"45\" y=\"205.1387\">«part»</text><text fill=\"#000000\" font-family=\"sans-serif\" font-size=\"12\" lengthAdjust=\"spacingAndGlyphs\" textLength=\"8\" x=\"61\" y=\"219.1074\">p</text><line style=\"stroke: #383838; stroke-width: 1.5;\" x1=\"41\" x2=\"89\" y1=\"226.9375\" y2=\"226.9375\"/><text fill=\"#000000\" font-family=\"sans-serif\" font-size=\"11\" lengthAdjust=\"spacingAndGlyphs\" textLength=\"29\" x=\"46\" y=\"257.9526\">p1: P</text><text fill=\"#000000\" font-family=\"sans-serif\" font-size=\"11\" lengthAdjust=\"spacingAndGlyphs\" textLength=\"38\" x=\"46\" y=\"270.7573\">p2: ~P</text><line style=\"stroke: #383838; stroke-width: 1.0;\" x1=\"41\" x2=\"50\" y1=\"241.3398\" y2=\"241.3398\"/><text fill=\"#000000\" font-family=\"sans-serif\" font-size=\"11\" lengthAdjust=\"spacingAndGlyphs\" textLength=\"30\" x=\"50\" y=\"244.6479\">ports</text><line style=\"stroke: #383838; stroke-width: 1.0;\" x1=\"80\" x2=\"89\" y1=\"241.3398\" y2=\"241.3398\"/></a><!--MD5=[062ed86c389d1a88f61c6380d0491e17]\n",
       "reverse link E12 to E13--><a href=\"psysml:06665d43-130c-4b8a-bdfd-d93e6351f975\" target=\"_top\" title=\"psysml:06665d43-130c-4b8a-bdfd-d93e6351f975\" xlink:actuate=\"onRequest\" xlink:href=\"psysml:06665d43-130c-4b8a-bdfd-d93e6351f975\" xlink:show=\"new\" xlink:title=\"psysml:06665d43-130c-4b8a-bdfd-d93e6351f975\" xlink:type=\"simple\"><path d=\"M65,121.12 C65,121.12 65,188.9 65,188.9 \" fill=\"none\" id=\"E12&lt;-E13\" style=\"stroke: #383838; stroke-width: 1.0;\"/><polygon fill=\"#383838\" points=\"65,108.12,61.0066,114.1244,65.0132,120.12,69.0066,114.1156,65,108.12\" style=\"stroke: #383838; stroke-width: 1.0;\"/></a><!--MD5=[30eb0e61223434e89aedfb7ae32602d6]\n",
       "@startuml\r\n",
       "skinparam linetype ortho\r\n",
       "skinparam monochrome true\r\n",
       "skinparam classbackgroundcolor white\r\n",
       "skinparam shadowing false\r\n",
       "skinparam wrapWidth 300\r\n",
       "hide circle\r\n",
       "\r\n",
       "package \"ConjugationTest\" as E1  [[psysml:56f2a3b4-cc43-4fa3-8695-199f33536b50 ]]  {\r\n",
       "comp def \"P\" as E2  <<(T,blue)port def>> [[psysml:c0a3bc73-93c5-4b4d-b763-5833239b73fd ]] {\r\n",
       "}\r\n",
       "comp def \"B\" as E3  <<(T,blue)part def>> [[psysml:5cf63d0b-bb26-43ea-8091-2694cfd07b61 ]] {\r\n",
       "- - ports - -\r\n",
       "p1: P\r\n",
       "p2: ~P\r\n",
       "}\r\n",
       "comp def \"A\" as E6  <<(T,blue)connection def>> [[psysml:c95e8ce0-7583-4d42-8de3-1e3c8277134a ]] {\r\n",
       "- - ports - -\r\n",
       "p1: P\r\n",
       "p2: ~P\r\n",
       "}\r\n",
       "comp def \"I\" as E9  <<(T,blue)interface def>> [[psysml:3dca2d5e-c062-4427-93b4-bcb55890dd40 ]] {\r\n",
       "- - ports - -\r\n",
       "p1: P\r\n",
       "p2: ~P\r\n",
       "}\r\n",
       "comp def \"B1\" as E12  <<(T,blue)part def>> [[psysml:239b6b7d-2819-4aeb-bfce-341b8d8c5fb1 ]] {\r\n",
       "}\r\n",
       "comp usage \"p\" as E13  <<(T,blue)part>> [[psysml:080adc10-96fd-4f72-8d28-a6aae1d02a34 ]] {\r\n",
       "- - ports - -\r\n",
       "p1: P\r\n",
       "p2: ~P\r\n",
       "}\r\n",
       "E12 *- - E13 [[psysml:06665d43-130c-4b8a-bdfd-d93e6351f975 ]] \r\n",
       "}\r\n",
       "@enduml\r\n",
       "\n",
       "PlantUML version 1.2020.13(Sat Jun 13 12:26:38 UTC 2020)\n",
       "(EPL source distribution)\n",
       "Java Runtime: OpenJDK Runtime Environment\n",
       "JVM: OpenJDK 64-Bit Server VM\n",
       "Default Encoding: UTF-8\n",
       "Language: en\n",
       "Country: null\n",
       "--></g></svg>"
      ]
     },
     "execution_count": 52,
     "metadata": {},
     "output_type": "execute_result"
    }
   ],
   "source": [
    "%viz --style=\"ORTHOLINE\" --view=\"Tree\" \"ConjugationTest\""
   ]
  },
  {
   "cell_type": "code",
   "execution_count": 53,
   "id": "ac7a2b4c",
   "metadata": {
    "execution": {
     "iopub.execute_input": "2021-04-20T07:00:17.988827Z",
     "iopub.status.busy": "2021-04-20T07:00:17.988182Z",
     "iopub.status.idle": "2021-04-20T07:00:17.993901Z",
     "shell.execute_reply": "2021-04-20T07:00:17.993502Z"
    }
   },
   "outputs": [
    {
     "data": {
      "image/svg+xml": [
       "<?xml version=\"1.0\" encoding=\"UTF-8\" standalone=\"no\"?><svg xmlns=\"http://www.w3.org/2000/svg\" xmlns:xlink=\"http://www.w3.org/1999/xlink\" contentScriptType=\"application/ecmascript\" contentStyleType=\"text/css\" height=\"12px\" preserveAspectRatio=\"none\" style=\"width:12px;height:12px;\" version=\"1.1\" viewBox=\"0 0 12 12\" width=\"12px\" zoomAndPan=\"magnify\"><defs/><g><!--MD5=[97d6f38768b311333d388e66b2b27985]\n",
       "@startuml\r\n",
       "skinparam linetype ortho\r\n",
       "skinparam monochrome true\r\n",
       "skinparam classbackgroundcolor white\r\n",
       "skinparam shadowing false\r\n",
       "skinparam wrapWidth 300\r\n",
       "hide circle\r\n",
       "\r\n",
       "@enduml\r\n",
       "\n",
       "PlantUML version 1.2020.13(Sat Jun 13 12:26:38 UTC 2020)\n",
       "(EPL source distribution)\n",
       "Java Runtime: OpenJDK Runtime Environment\n",
       "JVM: OpenJDK 64-Bit Server VM\n",
       "Default Encoding: UTF-8\n",
       "Language: en\n",
       "Country: null\n",
       "--></g></svg>"
      ]
     },
     "execution_count": 53,
     "metadata": {},
     "output_type": "execute_result"
    }
   ],
   "source": [
    "%viz --style=\"ORTHOLINE\" --view=\"State\" \"ConjugationTest\""
   ]
  },
  {
   "cell_type": "code",
   "execution_count": 54,
   "id": "5f9ddd85",
   "metadata": {
    "execution": {
     "iopub.execute_input": "2021-04-20T07:00:18.044998Z",
     "iopub.status.busy": "2021-04-20T07:00:18.044419Z",
     "iopub.status.idle": "2021-04-20T07:00:18.084024Z",
     "shell.execute_reply": "2021-04-20T07:00:18.082513Z"
    }
   },
   "outputs": [
    {
     "data": {
      "image/svg+xml": [
       "<?xml version=\"1.0\" encoding=\"UTF-8\" standalone=\"no\"?><svg xmlns=\"http://www.w3.org/2000/svg\" xmlns:xlink=\"http://www.w3.org/1999/xlink\" contentScriptType=\"application/ecmascript\" contentStyleType=\"text/css\" height=\"246px\" preserveAspectRatio=\"none\" style=\"width:739px;height:246px;\" version=\"1.1\" viewBox=\"0 0 739 246\" width=\"739px\" zoomAndPan=\"magnify\"><defs/><g><!--MD5=[fbc87193dbaf4d95561dea2c320d4a47]\n",
       "cluster E1--><a href=\"psysml:56f2a3b4-cc43-4fa3-8695-199f33536b50\" target=\"_top\" title=\"psysml:56f2a3b4-cc43-4fa3-8695-199f33536b50\" xlink:actuate=\"onRequest\" xlink:href=\"psysml:56f2a3b4-cc43-4fa3-8695-199f33536b50\" xlink:show=\"new\" xlink:title=\"psysml:56f2a3b4-cc43-4fa3-8695-199f33536b50\" xlink:type=\"simple\"><polygon fill=\"#FFFFFF\" points=\"16,6,151,6,158,28.2969,717,28.2969,717,234.5,16,234.5,16,6\" style=\"stroke: #000000; stroke-width: 1.5;\"/><line style=\"stroke: #000000; stroke-width: 1.5;\" x1=\"16\" x2=\"158\" y1=\"28.2969\" y2=\"28.2969\"/><text fill=\"#000000\" font-family=\"sans-serif\" font-size=\"14\" font-weight=\"bold\" lengthAdjust=\"spacingAndGlyphs\" textLength=\"129\" x=\"20\" y=\"20.9951\">ConjugationTest</text></a><!--MD5=[d5e69f78d87373223dbae638b30a9c99]\n",
       "cluster E3--><a href=\"psysml:5cf63d0b-bb26-43ea-8091-2694cfd07b61\" target=\"_top\" title=\"psysml:5cf63d0b-bb26-43ea-8091-2694cfd07b61\" xlink:actuate=\"onRequest\" xlink:href=\"psysml:5cf63d0b-bb26-43ea-8091-2694cfd07b61\" xlink:show=\"new\" xlink:title=\"psysml:5cf63d0b-bb26-43ea-8091-2694cfd07b61\" xlink:type=\"simple\"><rect fill=\"#FFFFFF\" height=\"88.5\" id=\"E3\" style=\"stroke: #383838; stroke-width: 1.5;\" width=\"83\" x=\"577\" y=\"114\"/><rect fill=\"#F8F8F8\" height=\"37.9375\" style=\"stroke: #383838; stroke-width: 1.5;\" width=\"83\" x=\"577\" y=\"114\"/><text fill=\"#000000\" font-family=\"sans-serif\" font-size=\"12\" font-style=\"italic\" lengthAdjust=\"spacingAndGlyphs\" textLength=\"64\" x=\"586.5\" y=\"130.1387\">«part def»</text><text fill=\"#000000\" font-family=\"sans-serif\" font-size=\"12\" lengthAdjust=\"spacingAndGlyphs\" textLength=\"8\" x=\"614.5\" y=\"144.1074\">B</text></a><!--MD5=[14e3b0961a2654348d326746436168a1]\n",
       "cluster E6--><a href=\"psysml:c95e8ce0-7583-4d42-8de3-1e3c8277134a\" target=\"_top\" title=\"psysml:c95e8ce0-7583-4d42-8de3-1e3c8277134a\" xlink:actuate=\"onRequest\" xlink:href=\"psysml:c95e8ce0-7583-4d42-8de3-1e3c8277134a\" xlink:show=\"new\" xlink:title=\"psysml:c95e8ce0-7583-4d42-8de3-1e3c8277134a\" xlink:type=\"simple\"><rect fill=\"#FFFFFF\" height=\"88.5\" id=\"E6\" style=\"stroke: #383838; stroke-width: 1.5;\" width=\"150\" x=\"423\" y=\"114\"/><rect fill=\"#F8F8F8\" height=\"37.9375\" style=\"stroke: #383838; stroke-width: 1.5;\" width=\"150\" x=\"423\" y=\"114\"/><text fill=\"#000000\" font-family=\"sans-serif\" font-size=\"12\" font-style=\"italic\" lengthAdjust=\"spacingAndGlyphs\" textLength=\"108\" x=\"444\" y=\"130.1387\">«connection def»</text><text fill=\"#000000\" font-family=\"sans-serif\" font-size=\"12\" lengthAdjust=\"spacingAndGlyphs\" textLength=\"8\" x=\"494\" y=\"144.1074\">A</text></a><!--MD5=[7f149f147074ac12df2cb0a7728a5fb0]\n",
       "cluster E9--><a href=\"psysml:3dca2d5e-c062-4427-93b4-bcb55890dd40\" target=\"_top\" title=\"psysml:3dca2d5e-c062-4427-93b4-bcb55890dd40\" xlink:actuate=\"onRequest\" xlink:href=\"psysml:3dca2d5e-c062-4427-93b4-bcb55890dd40\" xlink:show=\"new\" xlink:title=\"psysml:3dca2d5e-c062-4427-93b4-bcb55890dd40\" xlink:type=\"simple\"><rect fill=\"#FFFFFF\" height=\"88.5\" id=\"E9\" style=\"stroke: #383838; stroke-width: 1.5;\" width=\"141\" x=\"254\" y=\"114\"/><rect fill=\"#F8F8F8\" height=\"37.9375\" style=\"stroke: #383838; stroke-width: 1.5;\" width=\"141\" x=\"254\" y=\"114\"/><text fill=\"#000000\" font-family=\"sans-serif\" font-size=\"12\" font-style=\"italic\" lengthAdjust=\"spacingAndGlyphs\" textLength=\"94\" x=\"277.5\" y=\"130.1387\">«interface def»</text><text fill=\"#000000\" font-family=\"sans-serif\" font-size=\"12\" lengthAdjust=\"spacingAndGlyphs\" textLength=\"3\" x=\"323\" y=\"144.1074\">I</text></a><!--MD5=[47bea60c1a0ac6c1143df232041969c0]\n",
       "cluster E12--><a href=\"psysml:239b6b7d-2819-4aeb-bfce-341b8d8c5fb1\" target=\"_top\" title=\"psysml:239b6b7d-2819-4aeb-bfce-341b8d8c5fb1\" xlink:actuate=\"onRequest\" xlink:href=\"psysml:239b6b7d-2819-4aeb-bfce-341b8d8c5fb1\" xlink:show=\"new\" xlink:title=\"psysml:239b6b7d-2819-4aeb-bfce-341b8d8c5fb1\" xlink:type=\"simple\"><rect fill=\"#FFFFFF\" height=\"161.5\" id=\"E12\" style=\"stroke: #383838; stroke-width: 1.5;\" width=\"107\" x=\"120\" y=\"49\"/><rect fill=\"#F8F8F8\" height=\"37.9375\" style=\"stroke: #383838; stroke-width: 1.5;\" width=\"107\" x=\"120\" y=\"49\"/><text fill=\"#000000\" font-family=\"sans-serif\" font-size=\"12\" font-style=\"italic\" lengthAdjust=\"spacingAndGlyphs\" textLength=\"64\" x=\"141.5\" y=\"65.1387\">«part def»</text><text fill=\"#000000\" font-family=\"sans-serif\" font-size=\"12\" lengthAdjust=\"spacingAndGlyphs\" textLength=\"16\" x=\"165.5\" y=\"79.1074\">B1</text></a><!--MD5=[03104f77b71e2d8d3500c651e6e31181]\n",
       "cluster E13--><a href=\"psysml:080adc10-96fd-4f72-8d28-a6aae1d02a34\" target=\"_top\" title=\"psysml:080adc10-96fd-4f72-8d28-a6aae1d02a34\" xlink:actuate=\"onRequest\" xlink:href=\"psysml:080adc10-96fd-4f72-8d28-a6aae1d02a34\" xlink:show=\"new\" xlink:title=\"psysml:080adc10-96fd-4f72-8d28-a6aae1d02a34\" xlink:type=\"simple\"><rect fill=\"#FFFFFF\" height=\"80.5\" id=\"E13\" rx=\"10\" ry=\"10\" style=\"stroke: #383838; stroke-width: 1.5;\" width=\"83\" x=\"132\" y=\"114\"/><rect fill=\"#F8F8F8\" height=\"23.9688\" rx=\"10\" ry=\"10\" style=\"stroke: #F8F8F8; stroke-width: 1.5;\" width=\"83\" x=\"132\" y=\"114\"/><rect fill=\"#F8F8F8\" height=\"10\" style=\"stroke: #F8F8F8; stroke-width: 1.5;\" width=\"83\" x=\"132\" y=\"127.9688\"/><rect fill=\"none\" height=\"80.5\" id=\"E13\" rx=\"10\" ry=\"10\" style=\"stroke: #383838; stroke-width: 1.5;\" width=\"83\" x=\"132\" y=\"114\"/><text fill=\"#000000\" font-family=\"sans-serif\" font-size=\"12\" lengthAdjust=\"spacingAndGlyphs\" textLength=\"8\" x=\"169.5\" y=\"130.1387\">p</text><line style=\"stroke: #383838; stroke-width: 1.0;\" x1=\"132\" x2=\"215\" y1=\"137.9688\" y2=\"137.9688\"/></a><g id=\"E1.E2\"><a href=\"psysml:c0a3bc73-93c5-4b4d-b763-5833239b73fd\" target=\"_top\" title=\"psysml:c0a3bc73-93c5-4b4d-b763-5833239b73fd\" xlink:actuate=\"onRequest\" xlink:href=\"psysml:c0a3bc73-93c5-4b4d-b763-5833239b73fd\" xlink:show=\"new\" xlink:title=\"psysml:c0a3bc73-93c5-4b4d-b763-5833239b73fd\" xlink:type=\"simple\"><rect fill=\"#FFFFFF\" height=\"42.9375\" id=\"E2\" style=\"stroke: #383838; stroke-width: 1.5;\" width=\"71\" x=\"32.5\" y=\"92.5\"/><rect fill=\"#F8F8F8\" height=\"37.9375\" style=\"stroke: #383838; stroke-width: 1.5;\" width=\"71\" x=\"32.5\" y=\"92.5\"/><text fill=\"#000000\" font-family=\"sans-serif\" font-size=\"12\" font-style=\"italic\" lengthAdjust=\"spacingAndGlyphs\" textLength=\"64\" x=\"36\" y=\"108.6387\">«port def»</text><text fill=\"#000000\" font-family=\"sans-serif\" font-size=\"12\" lengthAdjust=\"spacingAndGlyphs\" textLength=\"8\" x=\"64\" y=\"122.6074\">P</text></a></g><text fill=\"#000000\" font-family=\"sans-serif\" font-size=\"14\" lengthAdjust=\"spacingAndGlyphs\" textLength=\"36\" x=\"577\" y=\"92.6982\">p1: P</text><rect fill=\"#383838\" height=\"12\" style=\"stroke: #F8F8F8; stroke-width: 1.5;\" width=\"12\" x=\"589\" y=\"108\"/><text fill=\"#000000\" font-family=\"sans-serif\" font-size=\"14\" lengthAdjust=\"spacingAndGlyphs\" textLength=\"48\" x=\"618\" y=\"92.6982\">p2: ~P</text><rect fill=\"#383838\" height=\"12\" style=\"stroke: #F8F8F8; stroke-width: 1.5;\" width=\"12\" x=\"636\" y=\"108\"/><text fill=\"#000000\" font-family=\"sans-serif\" font-size=\"14\" lengthAdjust=\"spacingAndGlyphs\" textLength=\"36\" x=\"423\" y=\"92.6982\">p1: P</text><rect fill=\"#383838\" height=\"12\" style=\"stroke: #F8F8F8; stroke-width: 1.5;\" width=\"12\" x=\"435\" y=\"108\"/><text fill=\"#000000\" font-family=\"sans-serif\" font-size=\"14\" lengthAdjust=\"spacingAndGlyphs\" textLength=\"48\" x=\"464\" y=\"92.6982\">p2: ~P</text><rect fill=\"#383838\" height=\"12\" style=\"stroke: #F8F8F8; stroke-width: 1.5;\" width=\"12\" x=\"482\" y=\"108\"/><text fill=\"#000000\" font-family=\"sans-serif\" font-size=\"14\" lengthAdjust=\"spacingAndGlyphs\" textLength=\"36\" x=\"254\" y=\"92.6982\">p1: P</text><rect fill=\"#383838\" height=\"12\" style=\"stroke: #F8F8F8; stroke-width: 1.5;\" width=\"12\" x=\"266\" y=\"108\"/><text fill=\"#000000\" font-family=\"sans-serif\" font-size=\"14\" lengthAdjust=\"spacingAndGlyphs\" textLength=\"48\" x=\"295\" y=\"92.6982\">p2: ~P</text><rect fill=\"#383838\" height=\"12\" style=\"stroke: #F8F8F8; stroke-width: 1.5;\" width=\"12\" x=\"313\" y=\"108\"/><text fill=\"#000000\" font-family=\"sans-serif\" font-size=\"14\" lengthAdjust=\"spacingAndGlyphs\" textLength=\"36\" x=\"132\" y=\"92.6982\">p1: P</text><rect fill=\"#383838\" height=\"12\" style=\"stroke: #F8F8F8; stroke-width: 1.5;\" width=\"12\" x=\"144\" y=\"108\"/><text fill=\"#000000\" font-family=\"sans-serif\" font-size=\"14\" lengthAdjust=\"spacingAndGlyphs\" textLength=\"48\" x=\"173\" y=\"92.6982\">p2: ~P</text><rect fill=\"#383838\" height=\"12\" style=\"stroke: #F8F8F8; stroke-width: 1.5;\" width=\"12\" x=\"191\" y=\"108\"/><!--MD5=[4ce51ac6fa4cf5202df3859e2718f033]\n",
       "link E15 to E14--><a href=\"psysml:b40b8767-d304-49cf-ad0a-af8e9dd9f9d8\" target=\"_top\" title=\"psysml:b40b8767-d304-49cf-ad0a-af8e9dd9f9d8\" xlink:actuate=\"onRequest\" xlink:href=\"psysml:b40b8767-d304-49cf-ad0a-af8e9dd9f9d8\" xlink:show=\"new\" xlink:title=\"psysml:b40b8767-d304-49cf-ad0a-af8e9dd9f9d8\" xlink:type=\"simple\"><path d=\"M190.86,114.5 C181.9,114.5 165.34,114.5 156.3,114.5 \" fill=\"none\" id=\"E15-E14\" style=\"stroke: #383838; stroke-width: 3.0;\"/></a><!--MD5=[4ce51ac6fa4cf5202df3859e2718f033]\n",
       "link E15 to E14--><a href=\"psysml:e453fd18-f914-4bbc-b21b-733251b90d8d\" target=\"_top\" title=\"psysml:e453fd18-f914-4bbc-b21b-733251b90d8d\" xlink:actuate=\"onRequest\" xlink:href=\"psysml:e453fd18-f914-4bbc-b21b-733251b90d8d\" xlink:show=\"new\" xlink:title=\"psysml:e453fd18-f914-4bbc-b21b-733251b90d8d\" xlink:type=\"simple\"><path d=\"M190.86,117.5 C181.9,117.5 165.34,117.5 156.3,117.5 \" fill=\"none\" id=\"E15-E14-1\" style=\"stroke: #383838; stroke-width: 3.0;\"/></a><!--MD5=[849fdb679968a0c86cf6356d77322772]\n",
       "@startuml\r\n",
       "skinparam ranksep 10\r\n",
       "skinparam rectangle {\r\n",
       " backgroundColor<<block>> LightGreen\r\n",
       "}\r\n",
       "skinparam linetype ortho\r\n",
       "skinparam monochrome true\r\n",
       "skinparam classbackgroundcolor white\r\n",
       "skinparam shadowing false\r\n",
       "skinparam wrapWidth 300\r\n",
       "hide circle\r\n",
       "\r\n",
       "package \"ConjugationTest\" as E1  [[psysml:56f2a3b4-cc43-4fa3-8695-199f33536b50 ]]  {\r\n",
       "def \"P\" as E2  <<(T,blue)port def>> [[psysml:c0a3bc73-93c5-4b4d-b763-5833239b73fd ]] \r\n",
       "rec def \"B\" as E3  <<(T,blue)part def>> [[psysml:5cf63d0b-bb26-43ea-8091-2694cfd07b61 ]] {\r\n",
       "portin \"p1: P\" as E4  <<(T,blue)port>> [[psysml:c76b55b8-c5f7-4b06-9682-6e30a37606f5 ]] \r\n",
       "portin \"p2: ~P\" as E5  <<(T,blue)port>> [[psysml:35da94da-d279-45b2-babf-0a6a90392647 ]] \r\n",
       "}\r\n",
       "rec def \"A\" as E6  <<(T,blue)connection def>> [[psysml:c95e8ce0-7583-4d42-8de3-1e3c8277134a ]] {\r\n",
       "portin \"p1: P\" as E7  <<(T,blue)port>> [[psysml:2d7c72e0-11ff-44e8-b252-bce43cdf8c5c ]] \r\n",
       "portin \"p2: ~P\" as E8  <<(T,blue)port>> [[psysml:32f7297e-deaa-40d0-ad2f-7459de0cc2ac ]] \r\n",
       "}\r\n",
       "rec def \"I\" as E9  <<(T,blue)interface def>> [[psysml:3dca2d5e-c062-4427-93b4-bcb55890dd40 ]] {\r\n",
       "portin \"p1: P\" as E10  <<(T,blue)port>> [[psysml:c5132c6d-1853-42dd-8f4d-8690518006d4 ]] \r\n",
       "portin \"p2: ~P\" as E11  <<(T,blue)port>> [[psysml:dfe5ce78-d727-465a-9c67-ad29336ed483 ]] \r\n",
       "}\r\n",
       "rec def \"B1\" as E12  <<(T,blue)part def>> [[psysml:239b6b7d-2819-4aeb-bfce-341b8d8c5fb1 ]] {\r\n",
       "rec usage \"p\" as E13  [[psysml:080adc10-96fd-4f72-8d28-a6aae1d02a34 ]] {\r\n",
       "portin \"p1: P\" as E14  <<(T,blue)port>> [[psysml:990bba01-cfb0-414f-879e-e0e887a1aff5 ]] \r\n",
       "portin \"p2: ~P\" as E15  <<(T,blue)port>> [[psysml:ea02eef2-b064-45a9-9708-410d7204d199 ]] \r\n",
       "}\r\n",
       "}\r\n",
       "E15 -[thickness=3]- E14 [[psysml:b40b8767-d304-49cf-ad0a-af8e9dd9f9d8 ]] \r\n",
       "E15 -[thickness=3]- E14 [[psysml:e453fd18-f914-4bbc-b21b-733251b90d8d ]] \r\n",
       "}\r\n",
       "@enduml\r\n",
       "\n",
       "PlantUML version 1.2020.13(Sat Jun 13 12:26:38 UTC 2020)\n",
       "(EPL source distribution)\n",
       "Java Runtime: OpenJDK Runtime Environment\n",
       "JVM: OpenJDK 64-Bit Server VM\n",
       "Default Encoding: UTF-8\n",
       "Language: en\n",
       "Country: null\n",
       "--></g></svg>"
      ]
     },
     "execution_count": 54,
     "metadata": {},
     "output_type": "execute_result"
    }
   ],
   "source": [
    "%viz --style=\"ORTHOLINE\" --view=\"Interconnection\" \"ConjugationTest\""
   ]
  },
  {
   "cell_type": "code",
   "execution_count": 55,
   "id": "1020a26d",
   "metadata": {
    "execution": {
     "iopub.execute_input": "2021-04-20T07:00:18.136884Z",
     "iopub.status.busy": "2021-04-20T07:00:18.135830Z",
     "iopub.status.idle": "2021-04-20T07:00:18.141845Z",
     "shell.execute_reply": "2021-04-20T07:00:18.141388Z"
    }
   },
   "outputs": [
    {
     "data": {
      "image/svg+xml": [
       "<?xml version=\"1.0\" encoding=\"UTF-8\" standalone=\"no\"?><svg xmlns=\"http://www.w3.org/2000/svg\" xmlns:xlink=\"http://www.w3.org/1999/xlink\" contentScriptType=\"application/ecmascript\" contentStyleType=\"text/css\" height=\"12px\" preserveAspectRatio=\"none\" style=\"width:12px;height:12px;\" version=\"1.1\" viewBox=\"0 0 12 12\" width=\"12px\" zoomAndPan=\"magnify\"><defs/><g><!--MD5=[72934c63077099a26744516a776b4749]\n",
       "@startuml\r\n",
       "skinparam ranksep 8\r\n",
       "skinparam linetype ortho\r\n",
       "skinparam monochrome true\r\n",
       "skinparam classbackgroundcolor white\r\n",
       "skinparam shadowing false\r\n",
       "skinparam wrapWidth 300\r\n",
       "hide circle\r\n",
       "\r\n",
       "@enduml\r\n",
       "\n",
       "PlantUML version 1.2020.13(Sat Jun 13 12:26:38 UTC 2020)\n",
       "(EPL source distribution)\n",
       "Java Runtime: OpenJDK Runtime Environment\n",
       "JVM: OpenJDK 64-Bit Server VM\n",
       "Default Encoding: UTF-8\n",
       "Language: en\n",
       "Country: null\n",
       "--></g></svg>"
      ]
     },
     "execution_count": 55,
     "metadata": {},
     "output_type": "execute_result"
    }
   ],
   "source": [
    "%viz --style=\"ORTHOLINE\" --view=\"Action\" \"ConjugationTest\""
   ]
  },
  {
   "cell_type": "code",
   "execution_count": 56,
   "id": "7ac63423",
   "metadata": {
    "execution": {
     "iopub.execute_input": "2021-04-20T07:00:18.193197Z",
     "iopub.status.busy": "2021-04-20T07:00:18.192747Z",
     "iopub.status.idle": "2021-04-20T07:00:18.285185Z",
     "shell.execute_reply": "2021-04-20T07:00:18.283639Z"
    }
   },
   "outputs": [
    {
     "data": {
      "image/svg+xml": [
       "<?xml version=\"1.0\" encoding=\"UTF-8\" standalone=\"no\"?><svg xmlns=\"http://www.w3.org/2000/svg\" xmlns:xlink=\"http://www.w3.org/1999/xlink\" contentScriptType=\"application/ecmascript\" contentStyleType=\"text/css\" height=\"305px\" preserveAspectRatio=\"none\" style=\"width:614px;height:305px;\" version=\"1.1\" viewBox=\"0 0 614 305\" width=\"614px\" zoomAndPan=\"magnify\"><defs/><g><!--MD5=[fbc87193dbaf4d95561dea2c320d4a47]\n",
       "cluster E1--><a href=\"psysml:56f2a3b4-cc43-4fa3-8695-199f33536b50\" target=\"_top\" title=\"psysml:56f2a3b4-cc43-4fa3-8695-199f33536b50\" xlink:actuate=\"onRequest\" xlink:href=\"psysml:56f2a3b4-cc43-4fa3-8695-199f33536b50\" xlink:show=\"new\" xlink:title=\"psysml:56f2a3b4-cc43-4fa3-8695-199f33536b50\" xlink:type=\"simple\"><polygon fill=\"#FFFFFF\" points=\"16,6,151,6,158,28.2969,592,28.2969,592,293,16,293,16,6\" style=\"stroke: #000000; stroke-width: 1.5;\"/><line style=\"stroke: #000000; stroke-width: 1.5;\" x1=\"16\" x2=\"158\" y1=\"28.2969\" y2=\"28.2969\"/><text fill=\"#000000\" font-family=\"sans-serif\" font-size=\"14\" font-weight=\"bold\" lengthAdjust=\"spacingAndGlyphs\" textLength=\"129\" x=\"20\" y=\"20.9951\">ConjugationTest</text></a><!--MD5=[b4997ac47864f28c2f74865a473b2911]\n",
       "class E2--><a href=\"psysml:c0a3bc73-93c5-4b4d-b763-5833239b73fd\" target=\"_top\" title=\"psysml:c0a3bc73-93c5-4b4d-b763-5833239b73fd\" xlink:actuate=\"onRequest\" xlink:href=\"psysml:c0a3bc73-93c5-4b4d-b763-5833239b73fd\" xlink:show=\"new\" xlink:title=\"psysml:c0a3bc73-93c5-4b4d-b763-5833239b73fd\" xlink:type=\"simple\"><rect fill=\"#FFFFFF\" height=\"45.9375\" id=\"E2\" style=\"stroke: #383838; stroke-width: 1.5;\" width=\"66\" x=\"510\" y=\"62\"/><text fill=\"#000000\" font-family=\"sans-serif\" font-size=\"12\" font-style=\"italic\" lengthAdjust=\"spacingAndGlyphs\" textLength=\"64\" x=\"511\" y=\"78.1387\">«port def»</text><text fill=\"#000000\" font-family=\"sans-serif\" font-size=\"12\" lengthAdjust=\"spacingAndGlyphs\" textLength=\"8\" x=\"539\" y=\"92.1074\">P</text><line style=\"stroke: #383838; stroke-width: 1.5;\" x1=\"511\" x2=\"575\" y1=\"99.9375\" y2=\"99.9375\"/></a><!--MD5=[09b614a08d8cba4a07c9adeb5e0fee81]\n",
       "class E3--><a href=\"psysml:5cf63d0b-bb26-43ea-8091-2694cfd07b61\" target=\"_top\" title=\"psysml:5cf63d0b-bb26-43ea-8091-2694cfd07b61\" xlink:actuate=\"onRequest\" xlink:href=\"psysml:5cf63d0b-bb26-43ea-8091-2694cfd07b61\" xlink:show=\"new\" xlink:title=\"psysml:5cf63d0b-bb26-43ea-8091-2694cfd07b61\" xlink:type=\"simple\"><rect fill=\"#FFFFFF\" height=\"88.3516\" id=\"E3\" style=\"stroke: #383838; stroke-width: 1.5;\" width=\"66\" x=\"409\" y=\"41\"/><text fill=\"#000000\" font-family=\"sans-serif\" font-size=\"12\" font-style=\"italic\" lengthAdjust=\"spacingAndGlyphs\" textLength=\"64\" x=\"410\" y=\"57.1387\">«part def»</text><text fill=\"#000000\" font-family=\"sans-serif\" font-size=\"12\" lengthAdjust=\"spacingAndGlyphs\" textLength=\"8\" x=\"438\" y=\"71.1074\">B</text><line style=\"stroke: #383838; stroke-width: 1.5;\" x1=\"410\" x2=\"474\" y1=\"78.9375\" y2=\"78.9375\"/><text fill=\"#000000\" font-family=\"sans-serif\" font-size=\"11\" lengthAdjust=\"spacingAndGlyphs\" textLength=\"29\" x=\"415\" y=\"109.9526\">p1: P</text><text fill=\"#000000\" font-family=\"sans-serif\" font-size=\"11\" lengthAdjust=\"spacingAndGlyphs\" textLength=\"38\" x=\"415\" y=\"122.7573\">p2: ~P</text><line style=\"stroke: #383838; stroke-width: 1.0;\" x1=\"410\" x2=\"427\" y1=\"93.3398\" y2=\"93.3398\"/><text fill=\"#000000\" font-family=\"sans-serif\" font-size=\"11\" lengthAdjust=\"spacingAndGlyphs\" textLength=\"30\" x=\"427\" y=\"96.6479\">ports</text><line style=\"stroke: #383838; stroke-width: 1.0;\" x1=\"457\" x2=\"474\" y1=\"93.3398\" y2=\"93.3398\"/></a><!--MD5=[60a26617385b1d2d0262a64233df1f8d]\n",
       "class E6--><a href=\"psysml:c95e8ce0-7583-4d42-8de3-1e3c8277134a\" target=\"_top\" title=\"psysml:c95e8ce0-7583-4d42-8de3-1e3c8277134a\" xlink:actuate=\"onRequest\" xlink:href=\"psysml:c95e8ce0-7583-4d42-8de3-1e3c8277134a\" xlink:show=\"new\" xlink:title=\"psysml:c95e8ce0-7583-4d42-8de3-1e3c8277134a\" xlink:type=\"simple\"><rect fill=\"#FFFFFF\" height=\"88.3516\" id=\"E6\" style=\"stroke: #383838; stroke-width: 1.5;\" width=\"110\" x=\"264\" y=\"41\"/><text fill=\"#000000\" font-family=\"sans-serif\" font-size=\"12\" font-style=\"italic\" lengthAdjust=\"spacingAndGlyphs\" textLength=\"108\" x=\"265\" y=\"57.1387\">«connection def»</text><text fill=\"#000000\" font-family=\"sans-serif\" font-size=\"12\" lengthAdjust=\"spacingAndGlyphs\" textLength=\"8\" x=\"315\" y=\"71.1074\">A</text><line style=\"stroke: #383838; stroke-width: 1.5;\" x1=\"265\" x2=\"373\" y1=\"78.9375\" y2=\"78.9375\"/><text fill=\"#000000\" font-family=\"sans-serif\" font-size=\"11\" lengthAdjust=\"spacingAndGlyphs\" textLength=\"29\" x=\"270\" y=\"109.9526\">p1: P</text><text fill=\"#000000\" font-family=\"sans-serif\" font-size=\"11\" lengthAdjust=\"spacingAndGlyphs\" textLength=\"38\" x=\"270\" y=\"122.7573\">p2: ~P</text><line style=\"stroke: #383838; stroke-width: 1.0;\" x1=\"265\" x2=\"304\" y1=\"93.3398\" y2=\"93.3398\"/><text fill=\"#000000\" font-family=\"sans-serif\" font-size=\"11\" lengthAdjust=\"spacingAndGlyphs\" textLength=\"30\" x=\"304\" y=\"96.6479\">ports</text><line style=\"stroke: #383838; stroke-width: 1.0;\" x1=\"334\" x2=\"373\" y1=\"93.3398\" y2=\"93.3398\"/></a><!--MD5=[fd4143e9d270a159db93a4ea2a975926]\n",
       "class E9--><a href=\"psysml:3dca2d5e-c062-4427-93b4-bcb55890dd40\" target=\"_top\" title=\"psysml:3dca2d5e-c062-4427-93b4-bcb55890dd40\" xlink:actuate=\"onRequest\" xlink:href=\"psysml:3dca2d5e-c062-4427-93b4-bcb55890dd40\" xlink:show=\"new\" xlink:title=\"psysml:3dca2d5e-c062-4427-93b4-bcb55890dd40\" xlink:type=\"simple\"><rect fill=\"#FFFFFF\" height=\"88.3516\" id=\"E9\" style=\"stroke: #383838; stroke-width: 1.5;\" width=\"96\" x=\"133\" y=\"41\"/><text fill=\"#000000\" font-family=\"sans-serif\" font-size=\"12\" font-style=\"italic\" lengthAdjust=\"spacingAndGlyphs\" textLength=\"94\" x=\"134\" y=\"57.1387\">«interface def»</text><text fill=\"#000000\" font-family=\"sans-serif\" font-size=\"12\" lengthAdjust=\"spacingAndGlyphs\" textLength=\"3\" x=\"179.5\" y=\"71.1074\">I</text><line style=\"stroke: #383838; stroke-width: 1.5;\" x1=\"134\" x2=\"228\" y1=\"78.9375\" y2=\"78.9375\"/><text fill=\"#000000\" font-family=\"sans-serif\" font-size=\"11\" lengthAdjust=\"spacingAndGlyphs\" textLength=\"29\" x=\"139\" y=\"109.9526\">p1: P</text><text fill=\"#000000\" font-family=\"sans-serif\" font-size=\"11\" lengthAdjust=\"spacingAndGlyphs\" textLength=\"38\" x=\"139\" y=\"122.7573\">p2: ~P</text><line style=\"stroke: #383838; stroke-width: 1.0;\" x1=\"134\" x2=\"166\" y1=\"93.3398\" y2=\"93.3398\"/><text fill=\"#000000\" font-family=\"sans-serif\" font-size=\"11\" lengthAdjust=\"spacingAndGlyphs\" textLength=\"30\" x=\"166\" y=\"96.6479\">ports</text><line style=\"stroke: #383838; stroke-width: 1.0;\" x1=\"196\" x2=\"228\" y1=\"93.3398\" y2=\"93.3398\"/></a><!--MD5=[49a0ec8f00dab7302a31f22d0f0fe584]\n",
       "class E12--><a href=\"psysml:239b6b7d-2819-4aeb-bfce-341b8d8c5fb1\" target=\"_top\" title=\"psysml:239b6b7d-2819-4aeb-bfce-341b8d8c5fb1\" xlink:actuate=\"onRequest\" xlink:href=\"psysml:239b6b7d-2819-4aeb-bfce-341b8d8c5fb1\" xlink:show=\"new\" xlink:title=\"psysml:239b6b7d-2819-4aeb-bfce-341b8d8c5fb1\" xlink:type=\"simple\"><rect fill=\"#FFFFFF\" height=\"45.9375\" id=\"E12\" style=\"stroke: #383838; stroke-width: 1.5;\" width=\"66\" x=\"32\" y=\"62\"/><text fill=\"#000000\" font-family=\"sans-serif\" font-size=\"12\" font-style=\"italic\" lengthAdjust=\"spacingAndGlyphs\" textLength=\"64\" x=\"33\" y=\"78.1387\">«part def»</text><text fill=\"#000000\" font-family=\"sans-serif\" font-size=\"12\" lengthAdjust=\"spacingAndGlyphs\" textLength=\"16\" x=\"57\" y=\"92.1074\">B1</text><line style=\"stroke: #383838; stroke-width: 1.5;\" x1=\"33\" x2=\"97\" y1=\"99.9375\" y2=\"99.9375\"/></a><!--MD5=[ee3c913d1a06f366521f9ef512b67efe]\n",
       "class E13--><a href=\"psysml:080adc10-96fd-4f72-8d28-a6aae1d02a34\" target=\"_top\" title=\"psysml:080adc10-96fd-4f72-8d28-a6aae1d02a34\" xlink:actuate=\"onRequest\" xlink:href=\"psysml:080adc10-96fd-4f72-8d28-a6aae1d02a34\" xlink:show=\"new\" xlink:title=\"psysml:080adc10-96fd-4f72-8d28-a6aae1d02a34\" xlink:type=\"simple\"><rect fill=\"#FFFFFF\" height=\"88.3516\" id=\"E13\" rx=\"10\" ry=\"10\" style=\"stroke: #383838; stroke-width: 1.5;\" width=\"50\" x=\"40\" y=\"189\"/><text fill=\"#000000\" font-family=\"sans-serif\" font-size=\"12\" font-style=\"italic\" lengthAdjust=\"spacingAndGlyphs\" textLength=\"40\" x=\"45\" y=\"205.1387\">«part»</text><text fill=\"#000000\" font-family=\"sans-serif\" font-size=\"12\" lengthAdjust=\"spacingAndGlyphs\" textLength=\"8\" x=\"61\" y=\"219.1074\">p</text><line style=\"stroke: #383838; stroke-width: 1.5;\" x1=\"41\" x2=\"89\" y1=\"226.9375\" y2=\"226.9375\"/><text fill=\"#000000\" font-family=\"sans-serif\" font-size=\"11\" lengthAdjust=\"spacingAndGlyphs\" textLength=\"29\" x=\"46\" y=\"257.9526\">p1: P</text><text fill=\"#000000\" font-family=\"sans-serif\" font-size=\"11\" lengthAdjust=\"spacingAndGlyphs\" textLength=\"38\" x=\"46\" y=\"270.7573\">p2: ~P</text><line style=\"stroke: #383838; stroke-width: 1.0;\" x1=\"41\" x2=\"50\" y1=\"241.3398\" y2=\"241.3398\"/><text fill=\"#000000\" font-family=\"sans-serif\" font-size=\"11\" lengthAdjust=\"spacingAndGlyphs\" textLength=\"30\" x=\"50\" y=\"244.6479\">ports</text><line style=\"stroke: #383838; stroke-width: 1.0;\" x1=\"80\" x2=\"89\" y1=\"241.3398\" y2=\"241.3398\"/></a><!--MD5=[062ed86c389d1a88f61c6380d0491e17]\n",
       "reverse link E12 to E13--><a href=\"psysml:06665d43-130c-4b8a-bdfd-d93e6351f975\" target=\"_top\" title=\"psysml:06665d43-130c-4b8a-bdfd-d93e6351f975\" xlink:actuate=\"onRequest\" xlink:href=\"psysml:06665d43-130c-4b8a-bdfd-d93e6351f975\" xlink:show=\"new\" xlink:title=\"psysml:06665d43-130c-4b8a-bdfd-d93e6351f975\" xlink:type=\"simple\"><path d=\"M65,121.12 C65,121.12 65,188.9 65,188.9 \" fill=\"none\" id=\"E12&lt;-E13\" style=\"stroke: #383838; stroke-width: 1.0;\"/><polygon fill=\"#383838\" points=\"65,108.12,61.0066,114.1244,65.0132,120.12,69.0066,114.1156,65,108.12\" style=\"stroke: #383838; stroke-width: 1.0;\"/></a><!--MD5=[30eb0e61223434e89aedfb7ae32602d6]\n",
       "@startuml\r\n",
       "skinparam linetype ortho\r\n",
       "skinparam monochrome true\r\n",
       "skinparam classbackgroundcolor white\r\n",
       "skinparam shadowing false\r\n",
       "skinparam wrapWidth 300\r\n",
       "hide circle\r\n",
       "\r\n",
       "package \"ConjugationTest\" as E1  [[psysml:56f2a3b4-cc43-4fa3-8695-199f33536b50 ]]  {\r\n",
       "comp def \"P\" as E2  <<(T,blue)port def>> [[psysml:c0a3bc73-93c5-4b4d-b763-5833239b73fd ]] {\r\n",
       "}\r\n",
       "comp def \"B\" as E3  <<(T,blue)part def>> [[psysml:5cf63d0b-bb26-43ea-8091-2694cfd07b61 ]] {\r\n",
       "- - ports - -\r\n",
       "p1: P\r\n",
       "p2: ~P\r\n",
       "}\r\n",
       "comp def \"A\" as E6  <<(T,blue)connection def>> [[psysml:c95e8ce0-7583-4d42-8de3-1e3c8277134a ]] {\r\n",
       "- - ports - -\r\n",
       "p1: P\r\n",
       "p2: ~P\r\n",
       "}\r\n",
       "comp def \"I\" as E9  <<(T,blue)interface def>> [[psysml:3dca2d5e-c062-4427-93b4-bcb55890dd40 ]] {\r\n",
       "- - ports - -\r\n",
       "p1: P\r\n",
       "p2: ~P\r\n",
       "}\r\n",
       "comp def \"B1\" as E12  <<(T,blue)part def>> [[psysml:239b6b7d-2819-4aeb-bfce-341b8d8c5fb1 ]] {\r\n",
       "}\r\n",
       "comp usage \"p\" as E13  <<(T,blue)part>> [[psysml:080adc10-96fd-4f72-8d28-a6aae1d02a34 ]] {\r\n",
       "- - ports - -\r\n",
       "p1: P\r\n",
       "p2: ~P\r\n",
       "}\r\n",
       "E12 *- - E13 [[psysml:06665d43-130c-4b8a-bdfd-d93e6351f975 ]] \r\n",
       "}\r\n",
       "@enduml\r\n",
       "\n",
       "PlantUML version 1.2020.13(Sat Jun 13 12:26:38 UTC 2020)\n",
       "(EPL source distribution)\n",
       "Java Runtime: OpenJDK Runtime Environment\n",
       "JVM: OpenJDK 64-Bit Server VM\n",
       "Default Encoding: UTF-8\n",
       "Language: en\n",
       "Country: null\n",
       "--></g></svg>"
      ]
     },
     "execution_count": 56,
     "metadata": {},
     "output_type": "execute_result"
    }
   ],
   "source": [
    "%viz --style=\"ORTHOLINE\" --view=\"Sequence\" \"ConjugationTest\""
   ]
  },
  {
   "cell_type": "code",
   "execution_count": 57,
   "id": "c35489d7",
   "metadata": {
    "execution": {
     "iopub.execute_input": "2021-04-20T07:00:18.335177Z",
     "iopub.status.busy": "2021-04-20T07:00:18.334677Z",
     "iopub.status.idle": "2021-04-20T07:00:18.445438Z",
     "shell.execute_reply": "2021-04-20T07:00:18.444360Z"
    }
   },
   "outputs": [
    {
     "data": {
      "image/svg+xml": [
       "<?xml version=\"1.0\" encoding=\"UTF-8\" standalone=\"no\"?><svg xmlns=\"http://www.w3.org/2000/svg\" xmlns:xlink=\"http://www.w3.org/1999/xlink\" contentScriptType=\"application/ecmascript\" contentStyleType=\"text/css\" height=\"305px\" preserveAspectRatio=\"none\" style=\"width:614px;height:305px;\" version=\"1.1\" viewBox=\"0 0 614 305\" width=\"614px\" zoomAndPan=\"magnify\"><defs/><g><!--MD5=[fbc87193dbaf4d95561dea2c320d4a47]\n",
       "cluster E1--><a href=\"psysml:56f2a3b4-cc43-4fa3-8695-199f33536b50\" target=\"_top\" title=\"psysml:56f2a3b4-cc43-4fa3-8695-199f33536b50\" xlink:actuate=\"onRequest\" xlink:href=\"psysml:56f2a3b4-cc43-4fa3-8695-199f33536b50\" xlink:show=\"new\" xlink:title=\"psysml:56f2a3b4-cc43-4fa3-8695-199f33536b50\" xlink:type=\"simple\"><polygon fill=\"#FFFFFF\" points=\"16,6,151,6,158,28.2969,592,28.2969,592,293,16,293,16,6\" style=\"stroke: #000000; stroke-width: 1.5;\"/><line style=\"stroke: #000000; stroke-width: 1.5;\" x1=\"16\" x2=\"158\" y1=\"28.2969\" y2=\"28.2969\"/><text fill=\"#000000\" font-family=\"sans-serif\" font-size=\"14\" font-weight=\"bold\" lengthAdjust=\"spacingAndGlyphs\" textLength=\"129\" x=\"20\" y=\"20.9951\">ConjugationTest</text></a><!--MD5=[b4997ac47864f28c2f74865a473b2911]\n",
       "class E2--><a href=\"psysml:c0a3bc73-93c5-4b4d-b763-5833239b73fd\" target=\"_top\" title=\"psysml:c0a3bc73-93c5-4b4d-b763-5833239b73fd\" xlink:actuate=\"onRequest\" xlink:href=\"psysml:c0a3bc73-93c5-4b4d-b763-5833239b73fd\" xlink:show=\"new\" xlink:title=\"psysml:c0a3bc73-93c5-4b4d-b763-5833239b73fd\" xlink:type=\"simple\"><rect fill=\"#FFFFFF\" height=\"45.9375\" id=\"E2\" style=\"stroke: #383838; stroke-width: 1.5;\" width=\"66\" x=\"510\" y=\"62\"/><text fill=\"#000000\" font-family=\"sans-serif\" font-size=\"12\" font-style=\"italic\" lengthAdjust=\"spacingAndGlyphs\" textLength=\"64\" x=\"511\" y=\"78.1387\">«port def»</text><text fill=\"#000000\" font-family=\"sans-serif\" font-size=\"12\" lengthAdjust=\"spacingAndGlyphs\" textLength=\"8\" x=\"539\" y=\"92.1074\">P</text><line style=\"stroke: #383838; stroke-width: 1.5;\" x1=\"511\" x2=\"575\" y1=\"99.9375\" y2=\"99.9375\"/></a><!--MD5=[09b614a08d8cba4a07c9adeb5e0fee81]\n",
       "class E3--><a href=\"psysml:5cf63d0b-bb26-43ea-8091-2694cfd07b61\" target=\"_top\" title=\"psysml:5cf63d0b-bb26-43ea-8091-2694cfd07b61\" xlink:actuate=\"onRequest\" xlink:href=\"psysml:5cf63d0b-bb26-43ea-8091-2694cfd07b61\" xlink:show=\"new\" xlink:title=\"psysml:5cf63d0b-bb26-43ea-8091-2694cfd07b61\" xlink:type=\"simple\"><rect fill=\"#FFFFFF\" height=\"88.3516\" id=\"E3\" style=\"stroke: #383838; stroke-width: 1.5;\" width=\"66\" x=\"409\" y=\"41\"/><text fill=\"#000000\" font-family=\"sans-serif\" font-size=\"12\" font-style=\"italic\" lengthAdjust=\"spacingAndGlyphs\" textLength=\"64\" x=\"410\" y=\"57.1387\">«part def»</text><text fill=\"#000000\" font-family=\"sans-serif\" font-size=\"12\" lengthAdjust=\"spacingAndGlyphs\" textLength=\"8\" x=\"438\" y=\"71.1074\">B</text><line style=\"stroke: #383838; stroke-width: 1.5;\" x1=\"410\" x2=\"474\" y1=\"78.9375\" y2=\"78.9375\"/><text fill=\"#000000\" font-family=\"sans-serif\" font-size=\"11\" lengthAdjust=\"spacingAndGlyphs\" textLength=\"29\" x=\"415\" y=\"109.9526\">p1: P</text><text fill=\"#000000\" font-family=\"sans-serif\" font-size=\"11\" lengthAdjust=\"spacingAndGlyphs\" textLength=\"38\" x=\"415\" y=\"122.7573\">p2: ~P</text><line style=\"stroke: #383838; stroke-width: 1.0;\" x1=\"410\" x2=\"427\" y1=\"93.3398\" y2=\"93.3398\"/><text fill=\"#000000\" font-family=\"sans-serif\" font-size=\"11\" lengthAdjust=\"spacingAndGlyphs\" textLength=\"30\" x=\"427\" y=\"96.6479\">ports</text><line style=\"stroke: #383838; stroke-width: 1.0;\" x1=\"457\" x2=\"474\" y1=\"93.3398\" y2=\"93.3398\"/></a><!--MD5=[60a26617385b1d2d0262a64233df1f8d]\n",
       "class E6--><a href=\"psysml:c95e8ce0-7583-4d42-8de3-1e3c8277134a\" target=\"_top\" title=\"psysml:c95e8ce0-7583-4d42-8de3-1e3c8277134a\" xlink:actuate=\"onRequest\" xlink:href=\"psysml:c95e8ce0-7583-4d42-8de3-1e3c8277134a\" xlink:show=\"new\" xlink:title=\"psysml:c95e8ce0-7583-4d42-8de3-1e3c8277134a\" xlink:type=\"simple\"><rect fill=\"#FFFFFF\" height=\"88.3516\" id=\"E6\" style=\"stroke: #383838; stroke-width: 1.5;\" width=\"110\" x=\"264\" y=\"41\"/><text fill=\"#000000\" font-family=\"sans-serif\" font-size=\"12\" font-style=\"italic\" lengthAdjust=\"spacingAndGlyphs\" textLength=\"108\" x=\"265\" y=\"57.1387\">«connection def»</text><text fill=\"#000000\" font-family=\"sans-serif\" font-size=\"12\" lengthAdjust=\"spacingAndGlyphs\" textLength=\"8\" x=\"315\" y=\"71.1074\">A</text><line style=\"stroke: #383838; stroke-width: 1.5;\" x1=\"265\" x2=\"373\" y1=\"78.9375\" y2=\"78.9375\"/><text fill=\"#000000\" font-family=\"sans-serif\" font-size=\"11\" lengthAdjust=\"spacingAndGlyphs\" textLength=\"29\" x=\"270\" y=\"109.9526\">p1: P</text><text fill=\"#000000\" font-family=\"sans-serif\" font-size=\"11\" lengthAdjust=\"spacingAndGlyphs\" textLength=\"38\" x=\"270\" y=\"122.7573\">p2: ~P</text><line style=\"stroke: #383838; stroke-width: 1.0;\" x1=\"265\" x2=\"304\" y1=\"93.3398\" y2=\"93.3398\"/><text fill=\"#000000\" font-family=\"sans-serif\" font-size=\"11\" lengthAdjust=\"spacingAndGlyphs\" textLength=\"30\" x=\"304\" y=\"96.6479\">ports</text><line style=\"stroke: #383838; stroke-width: 1.0;\" x1=\"334\" x2=\"373\" y1=\"93.3398\" y2=\"93.3398\"/></a><!--MD5=[fd4143e9d270a159db93a4ea2a975926]\n",
       "class E9--><a href=\"psysml:3dca2d5e-c062-4427-93b4-bcb55890dd40\" target=\"_top\" title=\"psysml:3dca2d5e-c062-4427-93b4-bcb55890dd40\" xlink:actuate=\"onRequest\" xlink:href=\"psysml:3dca2d5e-c062-4427-93b4-bcb55890dd40\" xlink:show=\"new\" xlink:title=\"psysml:3dca2d5e-c062-4427-93b4-bcb55890dd40\" xlink:type=\"simple\"><rect fill=\"#FFFFFF\" height=\"88.3516\" id=\"E9\" style=\"stroke: #383838; stroke-width: 1.5;\" width=\"96\" x=\"133\" y=\"41\"/><text fill=\"#000000\" font-family=\"sans-serif\" font-size=\"12\" font-style=\"italic\" lengthAdjust=\"spacingAndGlyphs\" textLength=\"94\" x=\"134\" y=\"57.1387\">«interface def»</text><text fill=\"#000000\" font-family=\"sans-serif\" font-size=\"12\" lengthAdjust=\"spacingAndGlyphs\" textLength=\"3\" x=\"179.5\" y=\"71.1074\">I</text><line style=\"stroke: #383838; stroke-width: 1.5;\" x1=\"134\" x2=\"228\" y1=\"78.9375\" y2=\"78.9375\"/><text fill=\"#000000\" font-family=\"sans-serif\" font-size=\"11\" lengthAdjust=\"spacingAndGlyphs\" textLength=\"29\" x=\"139\" y=\"109.9526\">p1: P</text><text fill=\"#000000\" font-family=\"sans-serif\" font-size=\"11\" lengthAdjust=\"spacingAndGlyphs\" textLength=\"38\" x=\"139\" y=\"122.7573\">p2: ~P</text><line style=\"stroke: #383838; stroke-width: 1.0;\" x1=\"134\" x2=\"166\" y1=\"93.3398\" y2=\"93.3398\"/><text fill=\"#000000\" font-family=\"sans-serif\" font-size=\"11\" lengthAdjust=\"spacingAndGlyphs\" textLength=\"30\" x=\"166\" y=\"96.6479\">ports</text><line style=\"stroke: #383838; stroke-width: 1.0;\" x1=\"196\" x2=\"228\" y1=\"93.3398\" y2=\"93.3398\"/></a><!--MD5=[49a0ec8f00dab7302a31f22d0f0fe584]\n",
       "class E12--><a href=\"psysml:239b6b7d-2819-4aeb-bfce-341b8d8c5fb1\" target=\"_top\" title=\"psysml:239b6b7d-2819-4aeb-bfce-341b8d8c5fb1\" xlink:actuate=\"onRequest\" xlink:href=\"psysml:239b6b7d-2819-4aeb-bfce-341b8d8c5fb1\" xlink:show=\"new\" xlink:title=\"psysml:239b6b7d-2819-4aeb-bfce-341b8d8c5fb1\" xlink:type=\"simple\"><rect fill=\"#FFFFFF\" height=\"45.9375\" id=\"E12\" style=\"stroke: #383838; stroke-width: 1.5;\" width=\"66\" x=\"32\" y=\"62\"/><text fill=\"#000000\" font-family=\"sans-serif\" font-size=\"12\" font-style=\"italic\" lengthAdjust=\"spacingAndGlyphs\" textLength=\"64\" x=\"33\" y=\"78.1387\">«part def»</text><text fill=\"#000000\" font-family=\"sans-serif\" font-size=\"12\" lengthAdjust=\"spacingAndGlyphs\" textLength=\"16\" x=\"57\" y=\"92.1074\">B1</text><line style=\"stroke: #383838; stroke-width: 1.5;\" x1=\"33\" x2=\"97\" y1=\"99.9375\" y2=\"99.9375\"/></a><!--MD5=[ee3c913d1a06f366521f9ef512b67efe]\n",
       "class E13--><a href=\"psysml:080adc10-96fd-4f72-8d28-a6aae1d02a34\" target=\"_top\" title=\"psysml:080adc10-96fd-4f72-8d28-a6aae1d02a34\" xlink:actuate=\"onRequest\" xlink:href=\"psysml:080adc10-96fd-4f72-8d28-a6aae1d02a34\" xlink:show=\"new\" xlink:title=\"psysml:080adc10-96fd-4f72-8d28-a6aae1d02a34\" xlink:type=\"simple\"><rect fill=\"#FFFFFF\" height=\"88.3516\" id=\"E13\" rx=\"10\" ry=\"10\" style=\"stroke: #383838; stroke-width: 1.5;\" width=\"50\" x=\"40\" y=\"189\"/><text fill=\"#000000\" font-family=\"sans-serif\" font-size=\"12\" font-style=\"italic\" lengthAdjust=\"spacingAndGlyphs\" textLength=\"40\" x=\"45\" y=\"205.1387\">«part»</text><text fill=\"#000000\" font-family=\"sans-serif\" font-size=\"12\" lengthAdjust=\"spacingAndGlyphs\" textLength=\"8\" x=\"61\" y=\"219.1074\">p</text><line style=\"stroke: #383838; stroke-width: 1.5;\" x1=\"41\" x2=\"89\" y1=\"226.9375\" y2=\"226.9375\"/><text fill=\"#000000\" font-family=\"sans-serif\" font-size=\"11\" lengthAdjust=\"spacingAndGlyphs\" textLength=\"29\" x=\"46\" y=\"257.9526\">p1: P</text><text fill=\"#000000\" font-family=\"sans-serif\" font-size=\"11\" lengthAdjust=\"spacingAndGlyphs\" textLength=\"38\" x=\"46\" y=\"270.7573\">p2: ~P</text><line style=\"stroke: #383838; stroke-width: 1.0;\" x1=\"41\" x2=\"50\" y1=\"241.3398\" y2=\"241.3398\"/><text fill=\"#000000\" font-family=\"sans-serif\" font-size=\"11\" lengthAdjust=\"spacingAndGlyphs\" textLength=\"30\" x=\"50\" y=\"244.6479\">ports</text><line style=\"stroke: #383838; stroke-width: 1.0;\" x1=\"80\" x2=\"89\" y1=\"241.3398\" y2=\"241.3398\"/></a><!--MD5=[062ed86c389d1a88f61c6380d0491e17]\n",
       "reverse link E12 to E13--><a href=\"psysml:06665d43-130c-4b8a-bdfd-d93e6351f975\" target=\"_top\" title=\"psysml:06665d43-130c-4b8a-bdfd-d93e6351f975\" xlink:actuate=\"onRequest\" xlink:href=\"psysml:06665d43-130c-4b8a-bdfd-d93e6351f975\" xlink:show=\"new\" xlink:title=\"psysml:06665d43-130c-4b8a-bdfd-d93e6351f975\" xlink:type=\"simple\"><path d=\"M65,121.12 C65,121.12 65,188.9 65,188.9 \" fill=\"none\" id=\"E12&lt;-E13\" style=\"stroke: #383838; stroke-width: 1.0;\"/><polygon fill=\"#383838\" points=\"65,108.12,61.0066,114.1244,65.0132,120.12,69.0066,114.1156,65,108.12\" style=\"stroke: #383838; stroke-width: 1.0;\"/></a><!--MD5=[30eb0e61223434e89aedfb7ae32602d6]\n",
       "@startuml\r\n",
       "skinparam linetype ortho\r\n",
       "skinparam monochrome true\r\n",
       "skinparam classbackgroundcolor white\r\n",
       "skinparam shadowing false\r\n",
       "skinparam wrapWidth 300\r\n",
       "hide circle\r\n",
       "\r\n",
       "package \"ConjugationTest\" as E1  [[psysml:56f2a3b4-cc43-4fa3-8695-199f33536b50 ]]  {\r\n",
       "comp def \"P\" as E2  <<(T,blue)port def>> [[psysml:c0a3bc73-93c5-4b4d-b763-5833239b73fd ]] {\r\n",
       "}\r\n",
       "comp def \"B\" as E3  <<(T,blue)part def>> [[psysml:5cf63d0b-bb26-43ea-8091-2694cfd07b61 ]] {\r\n",
       "- - ports - -\r\n",
       "p1: P\r\n",
       "p2: ~P\r\n",
       "}\r\n",
       "comp def \"A\" as E6  <<(T,blue)connection def>> [[psysml:c95e8ce0-7583-4d42-8de3-1e3c8277134a ]] {\r\n",
       "- - ports - -\r\n",
       "p1: P\r\n",
       "p2: ~P\r\n",
       "}\r\n",
       "comp def \"I\" as E9  <<(T,blue)interface def>> [[psysml:3dca2d5e-c062-4427-93b4-bcb55890dd40 ]] {\r\n",
       "- - ports - -\r\n",
       "p1: P\r\n",
       "p2: ~P\r\n",
       "}\r\n",
       "comp def \"B1\" as E12  <<(T,blue)part def>> [[psysml:239b6b7d-2819-4aeb-bfce-341b8d8c5fb1 ]] {\r\n",
       "}\r\n",
       "comp usage \"p\" as E13  <<(T,blue)part>> [[psysml:080adc10-96fd-4f72-8d28-a6aae1d02a34 ]] {\r\n",
       "- - ports - -\r\n",
       "p1: P\r\n",
       "p2: ~P\r\n",
       "}\r\n",
       "E12 *- - E13 [[psysml:06665d43-130c-4b8a-bdfd-d93e6351f975 ]] \r\n",
       "}\r\n",
       "@enduml\r\n",
       "\n",
       "PlantUML version 1.2020.13(Sat Jun 13 12:26:38 UTC 2020)\n",
       "(EPL source distribution)\n",
       "Java Runtime: OpenJDK Runtime Environment\n",
       "JVM: OpenJDK 64-Bit Server VM\n",
       "Default Encoding: UTF-8\n",
       "Language: en\n",
       "Country: null\n",
       "--></g></svg>"
      ]
     },
     "execution_count": 57,
     "metadata": {},
     "output_type": "execute_result"
    }
   ],
   "source": [
    "%viz --style=\"ORTHOLINE\" --view=\"MIXED\" \"ConjugationTest\""
   ]
  }
 ],
 "metadata": {
  "kernelspec": {
   "display_name": "SysML",
   "language": "sysml",
   "name": "sysml"
  },
  "language_info": {
   "codemirror_mode": "sysml",
   "file_extension": ".sysml",
   "mimetype": "text/x-sysml",
   "name": "SysML",
   "pygments_lexer": "java",
   "version": "1.0.0"
  }
 },
 "nbformat": 4,
 "nbformat_minor": 5
}
