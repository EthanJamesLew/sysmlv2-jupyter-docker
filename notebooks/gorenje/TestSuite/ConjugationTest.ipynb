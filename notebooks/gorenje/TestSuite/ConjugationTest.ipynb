{
 "cells": [
  {
   "cell_type": "markdown",
   "id": "d8280b8c",
   "metadata": {},
   "source": [
    "# SysML v2 Test Suite\n",
    "\n",
    "This can notebook can be cleared using menu `Edit --> Clear All Outputs` and then all cells can be\n",
    "run using menu `Run --> Run All Cells`.\n",
    "\n",
    "**WARNING**: This file is generated, all modifications here will be ignored.\n"
   ]
  },
  {
   "cell_type": "markdown",
   "id": "a739fd4c",
   "metadata": {},
   "source": [
    "## File: ../../sysml/src/examples/Simple Tests/ConjugationTest.sysml"
   ]
  },
  {
   "cell_type": "code",
   "execution_count": 1,
   "id": "d96cd216",
   "metadata": {
    "execution": {
     "iopub.execute_input": "2021-10-03T08:28:03.647421Z",
     "iopub.status.busy": "2021-10-03T08:28:03.646130Z",
     "iopub.status.idle": "2021-10-03T08:28:04.105364Z",
     "shell.execute_reply": "2021-10-03T08:28:04.105709Z"
    }
   },
   "outputs": [
    {
     "data": {
      "text/plain": [
       "Package ConjugationTest (2e29d213-9110-43d3-b2b4-3399eb467519)\n"
      ]
     },
     "execution_count": 1,
     "metadata": {},
     "output_type": "execute_result"
    }
   ],
   "source": [
    "package ConjugationTest {\n",
    "\tport def P;\n",
    "\t\n",
    "\tpart def B {\n",
    "\t\tport p1: P;\n",
    "\t\tport p2: ~P;\n",
    "\t}\n",
    "\t\n",
    "\tconnection def A {\n",
    "\t\tend port p1: P;\n",
    "\t\tend port p2: ~P;\n",
    "\t}\n",
    "\t\n",
    "\tinterface def I {\n",
    "\t\tend p1: P;\n",
    "\t\tend p2: ~P;\n",
    "\t}\n",
    "\t\n",
    "\tpart def B1 {\n",
    "\t\tpart p {\n",
    "\t\t\tport p1: P;\n",
    "\t\t\tport p2: ~P;\t\t\n",
    "\t\t}\n",
    "\t\n",
    "\t\tconnection a: A connect p.p1 to p.p2 {\n",
    "\t\t\tend port p3: P;\n",
    "\t\t\tend port p4: ~P;\n",
    "\t\t}\n",
    "\t\tinterface i: I connect p.p1 to p.p2 {\n",
    "\t\t\tend port p3: P;\n",
    "\t\t\tend port p4: ~P;\n",
    "\t\t}\n",
    "\t}\n",
    "\t\n",
    "}"
   ]
  },
  {
   "cell_type": "code",
   "execution_count": 2,
   "id": "98a6afc1",
   "metadata": {
    "execution": {
     "iopub.execute_input": "2021-10-03T08:28:04.155943Z",
     "iopub.status.busy": "2021-10-03T08:28:04.155430Z",
     "iopub.status.idle": "2021-10-03T08:28:04.669985Z",
     "shell.execute_reply": "2021-10-03T08:28:04.667828Z"
    }
   },
   "outputs": [
    {
     "data": {
      "image/svg+xml": [
       "<?xml version=\"1.0\" encoding=\"UTF-8\" standalone=\"no\"?><svg xmlns=\"http://www.w3.org/2000/svg\" xmlns:xlink=\"http://www.w3.org/1999/xlink\" contentScriptType=\"application/ecmascript\" contentStyleType=\"text/css\" height=\"305px\" preserveAspectRatio=\"none\" style=\"width:614px;height:305px;\" version=\"1.1\" viewBox=\"0 0 614 305\" width=\"614px\" zoomAndPan=\"magnify\"><defs/><g><!--MD5=[fbc87193dbaf4d95561dea2c320d4a47]\n",
       "cluster E1--><a href=\"psysml:811d2e93-771a-4206-9534-119b2782ed8b\" target=\"_top\" title=\"psysml:811d2e93-771a-4206-9534-119b2782ed8b\" xlink:actuate=\"onRequest\" xlink:href=\"psysml:811d2e93-771a-4206-9534-119b2782ed8b\" xlink:show=\"new\" xlink:title=\"psysml:811d2e93-771a-4206-9534-119b2782ed8b\" xlink:type=\"simple\"><polygon fill=\"#FFFFFF\" points=\"16,6,136,6,143,28.2969,592,28.2969,592,293,16,293,16,6\" style=\"stroke: #000000; stroke-width: 1.5;\"/><line style=\"stroke: #000000; stroke-width: 1.5;\" x1=\"16\" x2=\"143\" y1=\"28.2969\" y2=\"28.2969\"/><text fill=\"#000000\" font-family=\"sans-serif\" font-size=\"14\" font-weight=\"bold\" lengthAdjust=\"spacingAndGlyphs\" textLength=\"114\" x=\"20\" y=\"20.9951\">ConjugationTest</text></a><!--MD5=[b4997ac47864f28c2f74865a473b2911]\n",
       "class E2--><a href=\"psysml:a118eece-ff6c-41b4-a8ec-63007fd81e06\" target=\"_top\" title=\"psysml:a118eece-ff6c-41b4-a8ec-63007fd81e06\" xlink:actuate=\"onRequest\" xlink:href=\"psysml:a118eece-ff6c-41b4-a8ec-63007fd81e06\" xlink:show=\"new\" xlink:title=\"psysml:a118eece-ff6c-41b4-a8ec-63007fd81e06\" xlink:type=\"simple\"><rect fill=\"#FFFFFF\" height=\"45.9375\" id=\"E2\" style=\"stroke: #383838; stroke-width: 1.5;\" width=\"66\" x=\"510\" y=\"62\"/><text fill=\"#000000\" font-family=\"sans-serif\" font-size=\"12\" font-style=\"italic\" lengthAdjust=\"spacingAndGlyphs\" textLength=\"64\" x=\"511\" y=\"78.1387\">«port def»</text><text fill=\"#000000\" font-family=\"sans-serif\" font-size=\"12\" lengthAdjust=\"spacingAndGlyphs\" textLength=\"8\" x=\"539\" y=\"92.1074\">P</text><line style=\"stroke: #383838; stroke-width: 1.5;\" x1=\"511\" x2=\"575\" y1=\"99.9375\" y2=\"99.9375\"/></a><!--MD5=[09b614a08d8cba4a07c9adeb5e0fee81]\n",
       "class E3--><a href=\"psysml:45f3428f-90c5-481c-8b5b-6d42a9c9ecb4\" target=\"_top\" title=\"psysml:45f3428f-90c5-481c-8b5b-6d42a9c9ecb4\" xlink:actuate=\"onRequest\" xlink:href=\"psysml:45f3428f-90c5-481c-8b5b-6d42a9c9ecb4\" xlink:show=\"new\" xlink:title=\"psysml:45f3428f-90c5-481c-8b5b-6d42a9c9ecb4\" xlink:type=\"simple\"><rect fill=\"#FFFFFF\" height=\"88.3516\" id=\"E3\" style=\"stroke: #383838; stroke-width: 1.5;\" width=\"66\" x=\"409\" y=\"41\"/><text fill=\"#000000\" font-family=\"sans-serif\" font-size=\"12\" font-style=\"italic\" lengthAdjust=\"spacingAndGlyphs\" textLength=\"64\" x=\"410\" y=\"57.1387\">«part def»</text><text fill=\"#000000\" font-family=\"sans-serif\" font-size=\"12\" lengthAdjust=\"spacingAndGlyphs\" textLength=\"8\" x=\"438\" y=\"71.1074\">B</text><line style=\"stroke: #383838; stroke-width: 1.5;\" x1=\"410\" x2=\"474\" y1=\"78.9375\" y2=\"78.9375\"/><text fill=\"#000000\" font-family=\"sans-serif\" font-size=\"11\" lengthAdjust=\"spacingAndGlyphs\" textLength=\"29\" x=\"415\" y=\"109.9526\">p1: P</text><text fill=\"#000000\" font-family=\"sans-serif\" font-size=\"11\" lengthAdjust=\"spacingAndGlyphs\" textLength=\"38\" x=\"415\" y=\"122.7573\">p2: ~P</text><line style=\"stroke: #383838; stroke-width: 1.0;\" x1=\"410\" x2=\"427\" y1=\"93.3398\" y2=\"93.3398\"/><text fill=\"#000000\" font-family=\"sans-serif\" font-size=\"11\" lengthAdjust=\"spacingAndGlyphs\" textLength=\"30\" x=\"427\" y=\"96.6479\">ports</text><line style=\"stroke: #383838; stroke-width: 1.0;\" x1=\"457\" x2=\"474\" y1=\"93.3398\" y2=\"93.3398\"/></a><!--MD5=[ebbe1d658d1005bcc118a6aa81145e00]\n",
       "class E4--><a href=\"psysml:1e44cf6a-fe6c-483a-98ee-7c5816e24c4f\" target=\"_top\" title=\"psysml:1e44cf6a-fe6c-483a-98ee-7c5816e24c4f\" xlink:actuate=\"onRequest\" xlink:href=\"psysml:1e44cf6a-fe6c-483a-98ee-7c5816e24c4f\" xlink:show=\"new\" xlink:title=\"psysml:1e44cf6a-fe6c-483a-98ee-7c5816e24c4f\" xlink:type=\"simple\"><rect fill=\"#FFFFFF\" height=\"88.3516\" id=\"E4\" style=\"stroke: #383838; stroke-width: 1.5;\" width=\"110\" x=\"264\" y=\"41\"/><text fill=\"#000000\" font-family=\"sans-serif\" font-size=\"12\" font-style=\"italic\" lengthAdjust=\"spacingAndGlyphs\" textLength=\"108\" x=\"265\" y=\"57.1387\">«connection def»</text><text fill=\"#000000\" font-family=\"sans-serif\" font-size=\"12\" lengthAdjust=\"spacingAndGlyphs\" textLength=\"8\" x=\"315\" y=\"71.1074\">A</text><line style=\"stroke: #383838; stroke-width: 1.5;\" x1=\"265\" x2=\"373\" y1=\"78.9375\" y2=\"78.9375\"/><text fill=\"#000000\" font-family=\"sans-serif\" font-size=\"11\" lengthAdjust=\"spacingAndGlyphs\" textLength=\"29\" x=\"270\" y=\"109.9526\">p1: P</text><text fill=\"#000000\" font-family=\"sans-serif\" font-size=\"11\" lengthAdjust=\"spacingAndGlyphs\" textLength=\"38\" x=\"270\" y=\"122.7573\">p2: ~P</text><line style=\"stroke: #383838; stroke-width: 1.0;\" x1=\"265\" x2=\"304\" y1=\"93.3398\" y2=\"93.3398\"/><text fill=\"#000000\" font-family=\"sans-serif\" font-size=\"11\" lengthAdjust=\"spacingAndGlyphs\" textLength=\"30\" x=\"304\" y=\"96.6479\">ports</text><line style=\"stroke: #383838; stroke-width: 1.0;\" x1=\"334\" x2=\"373\" y1=\"93.3398\" y2=\"93.3398\"/></a><!--MD5=[270fce915f116d4de14055a7c1d9a0f3]\n",
       "class E5--><a href=\"psysml:c589f335-4cab-4324-b073-03ca89b55f7d\" target=\"_top\" title=\"psysml:c589f335-4cab-4324-b073-03ca89b55f7d\" xlink:actuate=\"onRequest\" xlink:href=\"psysml:c589f335-4cab-4324-b073-03ca89b55f7d\" xlink:show=\"new\" xlink:title=\"psysml:c589f335-4cab-4324-b073-03ca89b55f7d\" xlink:type=\"simple\"><rect fill=\"#FFFFFF\" height=\"88.3516\" id=\"E5\" style=\"stroke: #383838; stroke-width: 1.5;\" width=\"96\" x=\"133\" y=\"41\"/><text fill=\"#000000\" font-family=\"sans-serif\" font-size=\"12\" font-style=\"italic\" lengthAdjust=\"spacingAndGlyphs\" textLength=\"94\" x=\"134\" y=\"57.1387\">«interface def»</text><text fill=\"#000000\" font-family=\"sans-serif\" font-size=\"12\" lengthAdjust=\"spacingAndGlyphs\" textLength=\"3\" x=\"179.5\" y=\"71.1074\">I</text><line style=\"stroke: #383838; stroke-width: 1.5;\" x1=\"134\" x2=\"228\" y1=\"78.9375\" y2=\"78.9375\"/><text fill=\"#000000\" font-family=\"sans-serif\" font-size=\"11\" lengthAdjust=\"spacingAndGlyphs\" textLength=\"29\" x=\"139\" y=\"109.9526\">p1: P</text><text fill=\"#000000\" font-family=\"sans-serif\" font-size=\"11\" lengthAdjust=\"spacingAndGlyphs\" textLength=\"38\" x=\"139\" y=\"122.7573\">p2: ~P</text><line style=\"stroke: #383838; stroke-width: 1.0;\" x1=\"134\" x2=\"166\" y1=\"93.3398\" y2=\"93.3398\"/><text fill=\"#000000\" font-family=\"sans-serif\" font-size=\"11\" lengthAdjust=\"spacingAndGlyphs\" textLength=\"30\" x=\"166\" y=\"96.6479\">ports</text><line style=\"stroke: #383838; stroke-width: 1.0;\" x1=\"196\" x2=\"228\" y1=\"93.3398\" y2=\"93.3398\"/></a><!--MD5=[60a26617385b1d2d0262a64233df1f8d]\n",
       "class E6--><a href=\"psysml:99d6c811-1239-4557-8bf5-512a2d9b51f5\" target=\"_top\" title=\"psysml:99d6c811-1239-4557-8bf5-512a2d9b51f5\" xlink:actuate=\"onRequest\" xlink:href=\"psysml:99d6c811-1239-4557-8bf5-512a2d9b51f5\" xlink:show=\"new\" xlink:title=\"psysml:99d6c811-1239-4557-8bf5-512a2d9b51f5\" xlink:type=\"simple\"><rect fill=\"#FFFFFF\" height=\"45.9375\" id=\"E6\" style=\"stroke: #383838; stroke-width: 1.5;\" width=\"66\" x=\"32\" y=\"62\"/><text fill=\"#000000\" font-family=\"sans-serif\" font-size=\"12\" font-style=\"italic\" lengthAdjust=\"spacingAndGlyphs\" textLength=\"64\" x=\"33\" y=\"78.1387\">«part def»</text><text fill=\"#000000\" font-family=\"sans-serif\" font-size=\"12\" lengthAdjust=\"spacingAndGlyphs\" textLength=\"16\" x=\"57\" y=\"92.1074\">B1</text><line style=\"stroke: #383838; stroke-width: 1.5;\" x1=\"33\" x2=\"97\" y1=\"99.9375\" y2=\"99.9375\"/></a><!--MD5=[2156ba9850f5573cc1fc38a6a4b2f02b]\n",
       "class E7--><a href=\"psysml:c80e6282-4b88-42a6-beea-d83b68d36327\" target=\"_top\" title=\"psysml:c80e6282-4b88-42a6-beea-d83b68d36327\" xlink:actuate=\"onRequest\" xlink:href=\"psysml:c80e6282-4b88-42a6-beea-d83b68d36327\" xlink:show=\"new\" xlink:title=\"psysml:c80e6282-4b88-42a6-beea-d83b68d36327\" xlink:type=\"simple\"><rect fill=\"#FFFFFF\" height=\"88.3516\" id=\"E7\" rx=\"10\" ry=\"10\" style=\"stroke: #383838; stroke-width: 1.5;\" width=\"59\" x=\"35.5\" y=\"189\"/><text fill=\"#000000\" font-family=\"sans-serif\" font-size=\"12\" font-style=\"italic\" lengthAdjust=\"spacingAndGlyphs\" textLength=\"40\" x=\"45\" y=\"205.1387\">«part»</text><text fill=\"#000000\" font-family=\"sans-serif\" font-size=\"12\" lengthAdjust=\"spacingAndGlyphs\" textLength=\"8\" x=\"61\" y=\"219.1074\">p</text><line style=\"stroke: #383838; stroke-width: 1.5;\" x1=\"36.5\" x2=\"93.5\" y1=\"226.9375\" y2=\"226.9375\"/><text fill=\"#000000\" font-family=\"sans-serif\" font-size=\"11\" lengthAdjust=\"spacingAndGlyphs\" textLength=\"38\" x=\"41.5\" y=\"257.9526\">^p1: P</text><text fill=\"#000000\" font-family=\"sans-serif\" font-size=\"11\" lengthAdjust=\"spacingAndGlyphs\" textLength=\"47\" x=\"41.5\" y=\"270.7573\">^p2: ~P</text><line style=\"stroke: #383838; stroke-width: 1.0;\" x1=\"36.5\" x2=\"50\" y1=\"241.3398\" y2=\"241.3398\"/><text fill=\"#000000\" font-family=\"sans-serif\" font-size=\"11\" lengthAdjust=\"spacingAndGlyphs\" textLength=\"30\" x=\"50\" y=\"244.6479\">ports</text><line style=\"stroke: #383838; stroke-width: 1.0;\" x1=\"80\" x2=\"93.5\" y1=\"241.3398\" y2=\"241.3398\"/></a><!--MD5=[3f50a3473f1dfb74d3f76443e03635af]\n",
       "reverse link E6 to E7--><a href=\"psysml:2ea9f126-2045-475e-98b2-0bebbeaf39ba\" target=\"_top\" title=\"psysml:2ea9f126-2045-475e-98b2-0bebbeaf39ba\" xlink:actuate=\"onRequest\" xlink:href=\"psysml:2ea9f126-2045-475e-98b2-0bebbeaf39ba\" xlink:show=\"new\" xlink:title=\"psysml:2ea9f126-2045-475e-98b2-0bebbeaf39ba\" xlink:type=\"simple\"><path d=\"M65,121.25 C65,141.54 65,167.2 65,188.71 \" fill=\"none\" id=\"E6&lt;-E7\" style=\"stroke: #383838; stroke-width: 1.0;\"/><polygon fill=\"#383838\" points=\"65,108.17,61,114.17,65,120.17,69,114.17,65,108.17\" style=\"stroke: #383838; stroke-width: 1.0;\"/><text fill=\"#000000\" font-family=\"sans-serif\" font-size=\"13\" lengthAdjust=\"spacingAndGlyphs\" textLength=\"8\" x=\"56.3875\" y=\"177.8298\">1</text></a><!--MD5=[2e6b2bd7067ffe6bdf9902355cc520f6]\n",
       "@startuml\r\n",
       " skinparam monochrome true\r\n",
       "skinparam classbackgroundcolor white\r\n",
       "skinparam shadowing false\r\n",
       "skinparam wrapWidth 300\r\n",
       "hide circle\r\n",
       "\r\n",
       "package \"ConjugationTest\" as E1  [[psysml:811d2e93-771a-4206-9534-119b2782ed8b ]]  {\r\n",
       "comp def \"P\" as E2  <<(T,blue) port def>> [[psysml:a118eece-ff6c-41b4-a8ec-63007fd81e06 ]] {\r\n",
       "}\r\n",
       "comp def \"B\" as E3  <<(T,blue) part def>> [[psysml:45f3428f-90c5-481c-8b5b-6d42a9c9ecb4 ]] {\r\n",
       "- - ports - -\r\n",
       "p1: P\r\n",
       "p2: ~P\r\n",
       "}\r\n",
       "comp def \"A\" as E4  <<(T,blue) connection def>> [[psysml:1e44cf6a-fe6c-483a-98ee-7c5816e24c4f ]] {\r\n",
       "- - ports - -\r\n",
       "p1: P\r\n",
       "p2: ~P\r\n",
       "}\r\n",
       "comp def \"I\" as E5  <<(T,blue) interface def>> [[psysml:c589f335-4cab-4324-b073-03ca89b55f7d ]] {\r\n",
       "- - ports - -\r\n",
       "p1: P\r\n",
       "p2: ~P\r\n",
       "}\r\n",
       "comp def \"B1\" as E6  <<(T,blue) part def>> [[psysml:99d6c811-1239-4557-8bf5-512a2d9b51f5 ]] {\r\n",
       "}\r\n",
       "comp usage \"p\" as E7  <<(T,blue) part>> [[psysml:c80e6282-4b88-42a6-beea-d83b68d36327 ]] {\r\n",
       "- - ports - -\r\n",
       "^p1: P\r\n",
       "^p2: ~P\r\n",
       "}\r\n",
       "}\r\n",
       "E6 *- - \"1\"E7 [[psysml:2ea9f126-2045-475e-98b2-0bebbeaf39ba ]] \r\n",
       "@enduml\r\n",
       "\n",
       "PlantUML version 1.2020.13(Sat Jun 13 12:26:38 UTC 2020)\n",
       "(EPL source distribution)\n",
       "Java Runtime: OpenJDK Runtime Environment\n",
       "JVM: OpenJDK 64-Bit Server VM\n",
       "Default Encoding: UTF-8\n",
       "Language: en\n",
       "Country: null\n",
       "--></g></svg>"
      ]
     },
     "execution_count": 2,
     "metadata": {},
     "output_type": "execute_result"
    }
   ],
   "source": [
    "%viz --style=\"COMPTREE\" --view=\"Default\" \"ConjugationTest\""
   ]
  },
  {
   "cell_type": "code",
   "execution_count": 3,
   "id": "fd93b4e3",
   "metadata": {
    "execution": {
     "iopub.execute_input": "2021-10-03T08:28:04.719056Z",
     "iopub.status.busy": "2021-10-03T08:28:04.718567Z",
     "iopub.status.idle": "2021-10-03T08:28:04.835592Z",
     "shell.execute_reply": "2021-10-03T08:28:04.833658Z"
    }
   },
   "outputs": [
    {
     "data": {
      "image/svg+xml": [
       "<?xml version=\"1.0\" encoding=\"UTF-8\" standalone=\"no\"?><svg xmlns=\"http://www.w3.org/2000/svg\" xmlns:xlink=\"http://www.w3.org/1999/xlink\" contentScriptType=\"application/ecmascript\" contentStyleType=\"text/css\" height=\"305px\" preserveAspectRatio=\"none\" style=\"width:614px;height:305px;\" version=\"1.1\" viewBox=\"0 0 614 305\" width=\"614px\" zoomAndPan=\"magnify\"><defs/><g><!--MD5=[fbc87193dbaf4d95561dea2c320d4a47]\n",
       "cluster E1--><a href=\"psysml:811d2e93-771a-4206-9534-119b2782ed8b\" target=\"_top\" title=\"psysml:811d2e93-771a-4206-9534-119b2782ed8b\" xlink:actuate=\"onRequest\" xlink:href=\"psysml:811d2e93-771a-4206-9534-119b2782ed8b\" xlink:show=\"new\" xlink:title=\"psysml:811d2e93-771a-4206-9534-119b2782ed8b\" xlink:type=\"simple\"><polygon fill=\"#FFFFFF\" points=\"16,6,136,6,143,28.2969,592,28.2969,592,293,16,293,16,6\" style=\"stroke: #000000; stroke-width: 1.5;\"/><line style=\"stroke: #000000; stroke-width: 1.5;\" x1=\"16\" x2=\"143\" y1=\"28.2969\" y2=\"28.2969\"/><text fill=\"#000000\" font-family=\"sans-serif\" font-size=\"14\" font-weight=\"bold\" lengthAdjust=\"spacingAndGlyphs\" textLength=\"114\" x=\"20\" y=\"20.9951\">ConjugationTest</text></a><!--MD5=[b4997ac47864f28c2f74865a473b2911]\n",
       "class E2--><a href=\"psysml:a118eece-ff6c-41b4-a8ec-63007fd81e06\" target=\"_top\" title=\"psysml:a118eece-ff6c-41b4-a8ec-63007fd81e06\" xlink:actuate=\"onRequest\" xlink:href=\"psysml:a118eece-ff6c-41b4-a8ec-63007fd81e06\" xlink:show=\"new\" xlink:title=\"psysml:a118eece-ff6c-41b4-a8ec-63007fd81e06\" xlink:type=\"simple\"><rect fill=\"#FFFFFF\" height=\"45.9375\" id=\"E2\" style=\"stroke: #383838; stroke-width: 1.5;\" width=\"66\" x=\"510\" y=\"62\"/><text fill=\"#000000\" font-family=\"sans-serif\" font-size=\"12\" font-style=\"italic\" lengthAdjust=\"spacingAndGlyphs\" textLength=\"64\" x=\"511\" y=\"78.1387\">«port def»</text><text fill=\"#000000\" font-family=\"sans-serif\" font-size=\"12\" lengthAdjust=\"spacingAndGlyphs\" textLength=\"8\" x=\"539\" y=\"92.1074\">P</text><line style=\"stroke: #383838; stroke-width: 1.5;\" x1=\"511\" x2=\"575\" y1=\"99.9375\" y2=\"99.9375\"/></a><!--MD5=[09b614a08d8cba4a07c9adeb5e0fee81]\n",
       "class E3--><a href=\"psysml:45f3428f-90c5-481c-8b5b-6d42a9c9ecb4\" target=\"_top\" title=\"psysml:45f3428f-90c5-481c-8b5b-6d42a9c9ecb4\" xlink:actuate=\"onRequest\" xlink:href=\"psysml:45f3428f-90c5-481c-8b5b-6d42a9c9ecb4\" xlink:show=\"new\" xlink:title=\"psysml:45f3428f-90c5-481c-8b5b-6d42a9c9ecb4\" xlink:type=\"simple\"><rect fill=\"#FFFFFF\" height=\"88.3516\" id=\"E3\" style=\"stroke: #383838; stroke-width: 1.5;\" width=\"66\" x=\"409\" y=\"41\"/><text fill=\"#000000\" font-family=\"sans-serif\" font-size=\"12\" font-style=\"italic\" lengthAdjust=\"spacingAndGlyphs\" textLength=\"64\" x=\"410\" y=\"57.1387\">«part def»</text><text fill=\"#000000\" font-family=\"sans-serif\" font-size=\"12\" lengthAdjust=\"spacingAndGlyphs\" textLength=\"8\" x=\"438\" y=\"71.1074\">B</text><line style=\"stroke: #383838; stroke-width: 1.5;\" x1=\"410\" x2=\"474\" y1=\"78.9375\" y2=\"78.9375\"/><text fill=\"#000000\" font-family=\"sans-serif\" font-size=\"11\" lengthAdjust=\"spacingAndGlyphs\" textLength=\"29\" x=\"415\" y=\"109.9526\">p1: P</text><text fill=\"#000000\" font-family=\"sans-serif\" font-size=\"11\" lengthAdjust=\"spacingAndGlyphs\" textLength=\"38\" x=\"415\" y=\"122.7573\">p2: ~P</text><line style=\"stroke: #383838; stroke-width: 1.0;\" x1=\"410\" x2=\"427\" y1=\"93.3398\" y2=\"93.3398\"/><text fill=\"#000000\" font-family=\"sans-serif\" font-size=\"11\" lengthAdjust=\"spacingAndGlyphs\" textLength=\"30\" x=\"427\" y=\"96.6479\">ports</text><line style=\"stroke: #383838; stroke-width: 1.0;\" x1=\"457\" x2=\"474\" y1=\"93.3398\" y2=\"93.3398\"/></a><!--MD5=[ebbe1d658d1005bcc118a6aa81145e00]\n",
       "class E4--><a href=\"psysml:1e44cf6a-fe6c-483a-98ee-7c5816e24c4f\" target=\"_top\" title=\"psysml:1e44cf6a-fe6c-483a-98ee-7c5816e24c4f\" xlink:actuate=\"onRequest\" xlink:href=\"psysml:1e44cf6a-fe6c-483a-98ee-7c5816e24c4f\" xlink:show=\"new\" xlink:title=\"psysml:1e44cf6a-fe6c-483a-98ee-7c5816e24c4f\" xlink:type=\"simple\"><rect fill=\"#FFFFFF\" height=\"88.3516\" id=\"E4\" style=\"stroke: #383838; stroke-width: 1.5;\" width=\"110\" x=\"264\" y=\"41\"/><text fill=\"#000000\" font-family=\"sans-serif\" font-size=\"12\" font-style=\"italic\" lengthAdjust=\"spacingAndGlyphs\" textLength=\"108\" x=\"265\" y=\"57.1387\">«connection def»</text><text fill=\"#000000\" font-family=\"sans-serif\" font-size=\"12\" lengthAdjust=\"spacingAndGlyphs\" textLength=\"8\" x=\"315\" y=\"71.1074\">A</text><line style=\"stroke: #383838; stroke-width: 1.5;\" x1=\"265\" x2=\"373\" y1=\"78.9375\" y2=\"78.9375\"/><text fill=\"#000000\" font-family=\"sans-serif\" font-size=\"11\" lengthAdjust=\"spacingAndGlyphs\" textLength=\"29\" x=\"270\" y=\"109.9526\">p1: P</text><text fill=\"#000000\" font-family=\"sans-serif\" font-size=\"11\" lengthAdjust=\"spacingAndGlyphs\" textLength=\"38\" x=\"270\" y=\"122.7573\">p2: ~P</text><line style=\"stroke: #383838; stroke-width: 1.0;\" x1=\"265\" x2=\"304\" y1=\"93.3398\" y2=\"93.3398\"/><text fill=\"#000000\" font-family=\"sans-serif\" font-size=\"11\" lengthAdjust=\"spacingAndGlyphs\" textLength=\"30\" x=\"304\" y=\"96.6479\">ports</text><line style=\"stroke: #383838; stroke-width: 1.0;\" x1=\"334\" x2=\"373\" y1=\"93.3398\" y2=\"93.3398\"/></a><!--MD5=[270fce915f116d4de14055a7c1d9a0f3]\n",
       "class E5--><a href=\"psysml:c589f335-4cab-4324-b073-03ca89b55f7d\" target=\"_top\" title=\"psysml:c589f335-4cab-4324-b073-03ca89b55f7d\" xlink:actuate=\"onRequest\" xlink:href=\"psysml:c589f335-4cab-4324-b073-03ca89b55f7d\" xlink:show=\"new\" xlink:title=\"psysml:c589f335-4cab-4324-b073-03ca89b55f7d\" xlink:type=\"simple\"><rect fill=\"#FFFFFF\" height=\"88.3516\" id=\"E5\" style=\"stroke: #383838; stroke-width: 1.5;\" width=\"96\" x=\"133\" y=\"41\"/><text fill=\"#000000\" font-family=\"sans-serif\" font-size=\"12\" font-style=\"italic\" lengthAdjust=\"spacingAndGlyphs\" textLength=\"94\" x=\"134\" y=\"57.1387\">«interface def»</text><text fill=\"#000000\" font-family=\"sans-serif\" font-size=\"12\" lengthAdjust=\"spacingAndGlyphs\" textLength=\"3\" x=\"179.5\" y=\"71.1074\">I</text><line style=\"stroke: #383838; stroke-width: 1.5;\" x1=\"134\" x2=\"228\" y1=\"78.9375\" y2=\"78.9375\"/><text fill=\"#000000\" font-family=\"sans-serif\" font-size=\"11\" lengthAdjust=\"spacingAndGlyphs\" textLength=\"29\" x=\"139\" y=\"109.9526\">p1: P</text><text fill=\"#000000\" font-family=\"sans-serif\" font-size=\"11\" lengthAdjust=\"spacingAndGlyphs\" textLength=\"38\" x=\"139\" y=\"122.7573\">p2: ~P</text><line style=\"stroke: #383838; stroke-width: 1.0;\" x1=\"134\" x2=\"166\" y1=\"93.3398\" y2=\"93.3398\"/><text fill=\"#000000\" font-family=\"sans-serif\" font-size=\"11\" lengthAdjust=\"spacingAndGlyphs\" textLength=\"30\" x=\"166\" y=\"96.6479\">ports</text><line style=\"stroke: #383838; stroke-width: 1.0;\" x1=\"196\" x2=\"228\" y1=\"93.3398\" y2=\"93.3398\"/></a><!--MD5=[60a26617385b1d2d0262a64233df1f8d]\n",
       "class E6--><a href=\"psysml:99d6c811-1239-4557-8bf5-512a2d9b51f5\" target=\"_top\" title=\"psysml:99d6c811-1239-4557-8bf5-512a2d9b51f5\" xlink:actuate=\"onRequest\" xlink:href=\"psysml:99d6c811-1239-4557-8bf5-512a2d9b51f5\" xlink:show=\"new\" xlink:title=\"psysml:99d6c811-1239-4557-8bf5-512a2d9b51f5\" xlink:type=\"simple\"><rect fill=\"#FFFFFF\" height=\"45.9375\" id=\"E6\" style=\"stroke: #383838; stroke-width: 1.5;\" width=\"66\" x=\"32\" y=\"62\"/><text fill=\"#000000\" font-family=\"sans-serif\" font-size=\"12\" font-style=\"italic\" lengthAdjust=\"spacingAndGlyphs\" textLength=\"64\" x=\"33\" y=\"78.1387\">«part def»</text><text fill=\"#000000\" font-family=\"sans-serif\" font-size=\"12\" lengthAdjust=\"spacingAndGlyphs\" textLength=\"16\" x=\"57\" y=\"92.1074\">B1</text><line style=\"stroke: #383838; stroke-width: 1.5;\" x1=\"33\" x2=\"97\" y1=\"99.9375\" y2=\"99.9375\"/></a><!--MD5=[2156ba9850f5573cc1fc38a6a4b2f02b]\n",
       "class E7--><a href=\"psysml:c80e6282-4b88-42a6-beea-d83b68d36327\" target=\"_top\" title=\"psysml:c80e6282-4b88-42a6-beea-d83b68d36327\" xlink:actuate=\"onRequest\" xlink:href=\"psysml:c80e6282-4b88-42a6-beea-d83b68d36327\" xlink:show=\"new\" xlink:title=\"psysml:c80e6282-4b88-42a6-beea-d83b68d36327\" xlink:type=\"simple\"><rect fill=\"#FFFFFF\" height=\"88.3516\" id=\"E7\" rx=\"10\" ry=\"10\" style=\"stroke: #383838; stroke-width: 1.5;\" width=\"59\" x=\"35.5\" y=\"189\"/><text fill=\"#000000\" font-family=\"sans-serif\" font-size=\"12\" font-style=\"italic\" lengthAdjust=\"spacingAndGlyphs\" textLength=\"40\" x=\"45\" y=\"205.1387\">«part»</text><text fill=\"#000000\" font-family=\"sans-serif\" font-size=\"12\" lengthAdjust=\"spacingAndGlyphs\" textLength=\"8\" x=\"61\" y=\"219.1074\">p</text><line style=\"stroke: #383838; stroke-width: 1.5;\" x1=\"36.5\" x2=\"93.5\" y1=\"226.9375\" y2=\"226.9375\"/><text fill=\"#000000\" font-family=\"sans-serif\" font-size=\"11\" lengthAdjust=\"spacingAndGlyphs\" textLength=\"38\" x=\"41.5\" y=\"257.9526\">^p1: P</text><text fill=\"#000000\" font-family=\"sans-serif\" font-size=\"11\" lengthAdjust=\"spacingAndGlyphs\" textLength=\"47\" x=\"41.5\" y=\"270.7573\">^p2: ~P</text><line style=\"stroke: #383838; stroke-width: 1.0;\" x1=\"36.5\" x2=\"50\" y1=\"241.3398\" y2=\"241.3398\"/><text fill=\"#000000\" font-family=\"sans-serif\" font-size=\"11\" lengthAdjust=\"spacingAndGlyphs\" textLength=\"30\" x=\"50\" y=\"244.6479\">ports</text><line style=\"stroke: #383838; stroke-width: 1.0;\" x1=\"80\" x2=\"93.5\" y1=\"241.3398\" y2=\"241.3398\"/></a><!--MD5=[3f50a3473f1dfb74d3f76443e03635af]\n",
       "reverse link E6 to E7--><a href=\"psysml:2ea9f126-2045-475e-98b2-0bebbeaf39ba\" target=\"_top\" title=\"psysml:2ea9f126-2045-475e-98b2-0bebbeaf39ba\" xlink:actuate=\"onRequest\" xlink:href=\"psysml:2ea9f126-2045-475e-98b2-0bebbeaf39ba\" xlink:show=\"new\" xlink:title=\"psysml:2ea9f126-2045-475e-98b2-0bebbeaf39ba\" xlink:type=\"simple\"><path d=\"M65,121.25 C65,141.54 65,167.2 65,188.71 \" fill=\"none\" id=\"E6&lt;-E7\" style=\"stroke: #383838; stroke-width: 1.0;\"/><polygon fill=\"#383838\" points=\"65,108.17,61,114.17,65,120.17,69,114.17,65,108.17\" style=\"stroke: #383838; stroke-width: 1.0;\"/><text fill=\"#000000\" font-family=\"sans-serif\" font-size=\"13\" lengthAdjust=\"spacingAndGlyphs\" textLength=\"8\" x=\"56.3875\" y=\"177.8298\">1</text></a><!--MD5=[2e6b2bd7067ffe6bdf9902355cc520f6]\n",
       "@startuml\r\n",
       " skinparam monochrome true\r\n",
       "skinparam classbackgroundcolor white\r\n",
       "skinparam shadowing false\r\n",
       "skinparam wrapWidth 300\r\n",
       "hide circle\r\n",
       "\r\n",
       "package \"ConjugationTest\" as E1  [[psysml:811d2e93-771a-4206-9534-119b2782ed8b ]]  {\r\n",
       "comp def \"P\" as E2  <<(T,blue) port def>> [[psysml:a118eece-ff6c-41b4-a8ec-63007fd81e06 ]] {\r\n",
       "}\r\n",
       "comp def \"B\" as E3  <<(T,blue) part def>> [[psysml:45f3428f-90c5-481c-8b5b-6d42a9c9ecb4 ]] {\r\n",
       "- - ports - -\r\n",
       "p1: P\r\n",
       "p2: ~P\r\n",
       "}\r\n",
       "comp def \"A\" as E4  <<(T,blue) connection def>> [[psysml:1e44cf6a-fe6c-483a-98ee-7c5816e24c4f ]] {\r\n",
       "- - ports - -\r\n",
       "p1: P\r\n",
       "p2: ~P\r\n",
       "}\r\n",
       "comp def \"I\" as E5  <<(T,blue) interface def>> [[psysml:c589f335-4cab-4324-b073-03ca89b55f7d ]] {\r\n",
       "- - ports - -\r\n",
       "p1: P\r\n",
       "p2: ~P\r\n",
       "}\r\n",
       "comp def \"B1\" as E6  <<(T,blue) part def>> [[psysml:99d6c811-1239-4557-8bf5-512a2d9b51f5 ]] {\r\n",
       "}\r\n",
       "comp usage \"p\" as E7  <<(T,blue) part>> [[psysml:c80e6282-4b88-42a6-beea-d83b68d36327 ]] {\r\n",
       "- - ports - -\r\n",
       "^p1: P\r\n",
       "^p2: ~P\r\n",
       "}\r\n",
       "}\r\n",
       "E6 *- - \"1\"E7 [[psysml:2ea9f126-2045-475e-98b2-0bebbeaf39ba ]] \r\n",
       "@enduml\r\n",
       "\n",
       "PlantUML version 1.2020.13(Sat Jun 13 12:26:38 UTC 2020)\n",
       "(EPL source distribution)\n",
       "Java Runtime: OpenJDK Runtime Environment\n",
       "JVM: OpenJDK 64-Bit Server VM\n",
       "Default Encoding: UTF-8\n",
       "Language: en\n",
       "Country: null\n",
       "--></g></svg>"
      ]
     },
     "execution_count": 3,
     "metadata": {},
     "output_type": "execute_result"
    }
   ],
   "source": [
    "%viz --style=\"COMPTREE\" --view=\"Tree\" \"ConjugationTest\""
   ]
  },
  {
   "cell_type": "code",
   "execution_count": 4,
   "id": "aaed9759",
   "metadata": {
    "execution": {
     "iopub.execute_input": "2021-10-03T08:28:04.884556Z",
     "iopub.status.busy": "2021-10-03T08:28:04.884129Z",
     "iopub.status.idle": "2021-10-03T08:28:04.890272Z",
     "shell.execute_reply": "2021-10-03T08:28:04.890597Z"
    }
   },
   "outputs": [
    {
     "data": {
      "image/svg+xml": [
       "<?xml version=\"1.0\" encoding=\"UTF-8\" standalone=\"no\"?><svg xmlns=\"http://www.w3.org/2000/svg\" xmlns:xlink=\"http://www.w3.org/1999/xlink\" contentScriptType=\"application/ecmascript\" contentStyleType=\"text/css\" height=\"12px\" preserveAspectRatio=\"none\" style=\"width:12px;height:12px;\" version=\"1.1\" viewBox=\"0 0 12 12\" width=\"12px\" zoomAndPan=\"magnify\"><defs/><g><!--MD5=[f19188ef49e11757b5c46753f95d9edc]\n",
       "@startuml\r\n",
       " skinparam monochrome true\r\n",
       "skinparam classbackgroundcolor white\r\n",
       "skinparam shadowing false\r\n",
       "skinparam wrapWidth 300\r\n",
       "hide circle\r\n",
       "\r\n",
       "@enduml\r\n",
       "\n",
       "PlantUML version 1.2020.13(Sat Jun 13 12:26:38 UTC 2020)\n",
       "(EPL source distribution)\n",
       "Java Runtime: OpenJDK Runtime Environment\n",
       "JVM: OpenJDK 64-Bit Server VM\n",
       "Default Encoding: UTF-8\n",
       "Language: en\n",
       "Country: null\n",
       "--></g></svg>"
      ]
     },
     "execution_count": 4,
     "metadata": {},
     "output_type": "execute_result"
    }
   ],
   "source": [
    "%viz --style=\"COMPTREE\" --view=\"State\" \"ConjugationTest\""
   ]
  },
  {
   "cell_type": "code",
   "execution_count": 5,
   "id": "68a25c94",
   "metadata": {
    "execution": {
     "iopub.execute_input": "2021-10-03T08:28:04.940607Z",
     "iopub.status.busy": "2021-10-03T08:28:04.940200Z",
     "iopub.status.idle": "2021-10-03T08:28:05.010174Z",
     "shell.execute_reply": "2021-10-03T08:28:05.010510Z"
    }
   },
   "outputs": [
    {
     "data": {
      "image/svg+xml": [
       "<?xml version=\"1.0\" encoding=\"UTF-8\" standalone=\"no\"?><svg xmlns=\"http://www.w3.org/2000/svg\" xmlns:xlink=\"http://www.w3.org/1999/xlink\" contentScriptType=\"application/ecmascript\" contentStyleType=\"text/css\" height=\"246px\" preserveAspectRatio=\"none\" style=\"width:739px;height:246px;\" version=\"1.1\" viewBox=\"0 0 739 246\" width=\"739px\" zoomAndPan=\"magnify\"><defs/><g><!--MD5=[fbc87193dbaf4d95561dea2c320d4a47]\n",
       "cluster E1--><a href=\"psysml:811d2e93-771a-4206-9534-119b2782ed8b\" target=\"_top\" title=\"psysml:811d2e93-771a-4206-9534-119b2782ed8b\" xlink:actuate=\"onRequest\" xlink:href=\"psysml:811d2e93-771a-4206-9534-119b2782ed8b\" xlink:show=\"new\" xlink:title=\"psysml:811d2e93-771a-4206-9534-119b2782ed8b\" xlink:type=\"simple\"><polygon fill=\"#FFFFFF\" points=\"16,6,136,6,143,28.2969,717,28.2969,717,234.5,16,234.5,16,6\" style=\"stroke: #000000; stroke-width: 1.5;\"/><line style=\"stroke: #000000; stroke-width: 1.5;\" x1=\"16\" x2=\"143\" y1=\"28.2969\" y2=\"28.2969\"/><text fill=\"#000000\" font-family=\"sans-serif\" font-size=\"14\" font-weight=\"bold\" lengthAdjust=\"spacingAndGlyphs\" textLength=\"114\" x=\"20\" y=\"20.9951\">ConjugationTest</text></a><!--MD5=[d5e69f78d87373223dbae638b30a9c99]\n",
       "cluster E3--><a href=\"psysml:45f3428f-90c5-481c-8b5b-6d42a9c9ecb4\" target=\"_top\" title=\"psysml:45f3428f-90c5-481c-8b5b-6d42a9c9ecb4\" xlink:actuate=\"onRequest\" xlink:href=\"psysml:45f3428f-90c5-481c-8b5b-6d42a9c9ecb4\" xlink:show=\"new\" xlink:title=\"psysml:45f3428f-90c5-481c-8b5b-6d42a9c9ecb4\" xlink:type=\"simple\"><rect fill=\"#FFFFFF\" height=\"88.5\" id=\"E3\" style=\"stroke: #383838; stroke-width: 1.5;\" width=\"83\" x=\"577\" y=\"114\"/><rect fill=\"#F8F8F8\" height=\"37.9375\" style=\"stroke: #383838; stroke-width: 1.5;\" width=\"83\" x=\"577\" y=\"114\"/><text fill=\"#000000\" font-family=\"sans-serif\" font-size=\"12\" font-style=\"italic\" lengthAdjust=\"spacingAndGlyphs\" textLength=\"64\" x=\"586.5\" y=\"130.1387\">«part def»</text><text fill=\"#000000\" font-family=\"sans-serif\" font-size=\"12\" lengthAdjust=\"spacingAndGlyphs\" textLength=\"8\" x=\"614.5\" y=\"144.1074\">B</text></a><!--MD5=[14e3b0961a2654348d326746436168a1]\n",
       "cluster E6--><a href=\"psysml:1e44cf6a-fe6c-483a-98ee-7c5816e24c4f\" target=\"_top\" title=\"psysml:1e44cf6a-fe6c-483a-98ee-7c5816e24c4f\" xlink:actuate=\"onRequest\" xlink:href=\"psysml:1e44cf6a-fe6c-483a-98ee-7c5816e24c4f\" xlink:show=\"new\" xlink:title=\"psysml:1e44cf6a-fe6c-483a-98ee-7c5816e24c4f\" xlink:type=\"simple\"><rect fill=\"#FFFFFF\" height=\"88.5\" id=\"E6\" style=\"stroke: #383838; stroke-width: 1.5;\" width=\"150\" x=\"423\" y=\"114\"/><rect fill=\"#F8F8F8\" height=\"37.9375\" style=\"stroke: #383838; stroke-width: 1.5;\" width=\"150\" x=\"423\" y=\"114\"/><text fill=\"#000000\" font-family=\"sans-serif\" font-size=\"12\" font-style=\"italic\" lengthAdjust=\"spacingAndGlyphs\" textLength=\"108\" x=\"444\" y=\"130.1387\">«connection def»</text><text fill=\"#000000\" font-family=\"sans-serif\" font-size=\"12\" lengthAdjust=\"spacingAndGlyphs\" textLength=\"8\" x=\"494\" y=\"144.1074\">A</text></a><!--MD5=[7f149f147074ac12df2cb0a7728a5fb0]\n",
       "cluster E9--><a href=\"psysml:c589f335-4cab-4324-b073-03ca89b55f7d\" target=\"_top\" title=\"psysml:c589f335-4cab-4324-b073-03ca89b55f7d\" xlink:actuate=\"onRequest\" xlink:href=\"psysml:c589f335-4cab-4324-b073-03ca89b55f7d\" xlink:show=\"new\" xlink:title=\"psysml:c589f335-4cab-4324-b073-03ca89b55f7d\" xlink:type=\"simple\"><rect fill=\"#FFFFFF\" height=\"88.5\" id=\"E9\" style=\"stroke: #383838; stroke-width: 1.5;\" width=\"141\" x=\"254\" y=\"114\"/><rect fill=\"#F8F8F8\" height=\"37.9375\" style=\"stroke: #383838; stroke-width: 1.5;\" width=\"141\" x=\"254\" y=\"114\"/><text fill=\"#000000\" font-family=\"sans-serif\" font-size=\"12\" font-style=\"italic\" lengthAdjust=\"spacingAndGlyphs\" textLength=\"94\" x=\"277.5\" y=\"130.1387\">«interface def»</text><text fill=\"#000000\" font-family=\"sans-serif\" font-size=\"12\" lengthAdjust=\"spacingAndGlyphs\" textLength=\"3\" x=\"323\" y=\"144.1074\">I</text></a><!--MD5=[47bea60c1a0ac6c1143df232041969c0]\n",
       "cluster E12--><a href=\"psysml:99d6c811-1239-4557-8bf5-512a2d9b51f5\" target=\"_top\" title=\"psysml:99d6c811-1239-4557-8bf5-512a2d9b51f5\" xlink:actuate=\"onRequest\" xlink:href=\"psysml:99d6c811-1239-4557-8bf5-512a2d9b51f5\" xlink:show=\"new\" xlink:title=\"psysml:99d6c811-1239-4557-8bf5-512a2d9b51f5\" xlink:type=\"simple\"><rect fill=\"#FFFFFF\" height=\"161.5\" id=\"E12\" style=\"stroke: #383838; stroke-width: 1.5;\" width=\"107\" x=\"120\" y=\"49\"/><rect fill=\"#F8F8F8\" height=\"37.9375\" style=\"stroke: #383838; stroke-width: 1.5;\" width=\"107\" x=\"120\" y=\"49\"/><text fill=\"#000000\" font-family=\"sans-serif\" font-size=\"12\" font-style=\"italic\" lengthAdjust=\"spacingAndGlyphs\" textLength=\"64\" x=\"141.5\" y=\"65.1387\">«part def»</text><text fill=\"#000000\" font-family=\"sans-serif\" font-size=\"12\" lengthAdjust=\"spacingAndGlyphs\" textLength=\"16\" x=\"165.5\" y=\"79.1074\">B1</text></a><!--MD5=[03104f77b71e2d8d3500c651e6e31181]\n",
       "cluster E13--><a href=\"psysml:c80e6282-4b88-42a6-beea-d83b68d36327\" target=\"_top\" title=\"psysml:c80e6282-4b88-42a6-beea-d83b68d36327\" xlink:actuate=\"onRequest\" xlink:href=\"psysml:c80e6282-4b88-42a6-beea-d83b68d36327\" xlink:show=\"new\" xlink:title=\"psysml:c80e6282-4b88-42a6-beea-d83b68d36327\" xlink:type=\"simple\"><rect fill=\"#FFFFFF\" height=\"80.5\" id=\"E13\" rx=\"10\" ry=\"10\" style=\"stroke: #383838; stroke-width: 1.5;\" width=\"83\" x=\"132\" y=\"114\"/><rect fill=\"#F8F8F8\" height=\"23.9688\" rx=\"10\" ry=\"10\" style=\"stroke: #F8F8F8; stroke-width: 1.5;\" width=\"83\" x=\"132\" y=\"114\"/><rect fill=\"#F8F8F8\" height=\"10\" style=\"stroke: #F8F8F8; stroke-width: 1.5;\" width=\"83\" x=\"132\" y=\"127.9688\"/><rect fill=\"none\" height=\"80.5\" id=\"E13\" rx=\"10\" ry=\"10\" style=\"stroke: #383838; stroke-width: 1.5;\" width=\"83\" x=\"132\" y=\"114\"/><text fill=\"#000000\" font-family=\"sans-serif\" font-size=\"12\" lengthAdjust=\"spacingAndGlyphs\" textLength=\"8\" x=\"169.5\" y=\"130.1387\">p</text><line style=\"stroke: #383838; stroke-width: 1.0;\" x1=\"132\" x2=\"215\" y1=\"137.9688\" y2=\"137.9688\"/></a><g id=\"E1.E2\"><a href=\"psysml:a118eece-ff6c-41b4-a8ec-63007fd81e06\" target=\"_top\" title=\"psysml:a118eece-ff6c-41b4-a8ec-63007fd81e06\" xlink:actuate=\"onRequest\" xlink:href=\"psysml:a118eece-ff6c-41b4-a8ec-63007fd81e06\" xlink:show=\"new\" xlink:title=\"psysml:a118eece-ff6c-41b4-a8ec-63007fd81e06\" xlink:type=\"simple\"><rect fill=\"#FFFFFF\" height=\"42.9375\" id=\"E2\" style=\"stroke: #383838; stroke-width: 1.5;\" width=\"71\" x=\"32.5\" y=\"92.5\"/><rect fill=\"#F8F8F8\" height=\"37.9375\" style=\"stroke: #383838; stroke-width: 1.5;\" width=\"71\" x=\"32.5\" y=\"92.5\"/><text fill=\"#000000\" font-family=\"sans-serif\" font-size=\"12\" font-style=\"italic\" lengthAdjust=\"spacingAndGlyphs\" textLength=\"64\" x=\"36\" y=\"108.6387\">«port def»</text><text fill=\"#000000\" font-family=\"sans-serif\" font-size=\"12\" lengthAdjust=\"spacingAndGlyphs\" textLength=\"8\" x=\"64\" y=\"122.6074\">P</text></a></g><text fill=\"#000000\" font-family=\"sans-serif\" font-size=\"14\" lengthAdjust=\"spacingAndGlyphs\" textLength=\"36\" x=\"577\" y=\"92.6982\">p1: P</text><rect fill=\"#383838\" height=\"12\" style=\"stroke: #F8F8F8; stroke-width: 1.5;\" width=\"12\" x=\"589\" y=\"108\"/><text fill=\"#000000\" font-family=\"sans-serif\" font-size=\"14\" lengthAdjust=\"spacingAndGlyphs\" textLength=\"48\" x=\"618\" y=\"92.6982\">p2: ~P</text><rect fill=\"#383838\" height=\"12\" style=\"stroke: #F8F8F8; stroke-width: 1.5;\" width=\"12\" x=\"636\" y=\"108\"/><text fill=\"#000000\" font-family=\"sans-serif\" font-size=\"14\" lengthAdjust=\"spacingAndGlyphs\" textLength=\"36\" x=\"423\" y=\"92.6982\">p1: P</text><rect fill=\"#383838\" height=\"12\" style=\"stroke: #F8F8F8; stroke-width: 1.5;\" width=\"12\" x=\"435\" y=\"108\"/><text fill=\"#000000\" font-family=\"sans-serif\" font-size=\"14\" lengthAdjust=\"spacingAndGlyphs\" textLength=\"48\" x=\"464\" y=\"92.6982\">p2: ~P</text><rect fill=\"#383838\" height=\"12\" style=\"stroke: #F8F8F8; stroke-width: 1.5;\" width=\"12\" x=\"482\" y=\"108\"/><text fill=\"#000000\" font-family=\"sans-serif\" font-size=\"14\" lengthAdjust=\"spacingAndGlyphs\" textLength=\"36\" x=\"254\" y=\"92.6982\">p1: P</text><rect fill=\"#383838\" height=\"12\" style=\"stroke: #F8F8F8; stroke-width: 1.5;\" width=\"12\" x=\"266\" y=\"108\"/><text fill=\"#000000\" font-family=\"sans-serif\" font-size=\"14\" lengthAdjust=\"spacingAndGlyphs\" textLength=\"48\" x=\"295\" y=\"92.6982\">p2: ~P</text><rect fill=\"#383838\" height=\"12\" style=\"stroke: #F8F8F8; stroke-width: 1.5;\" width=\"12\" x=\"313\" y=\"108\"/><text fill=\"#000000\" font-family=\"sans-serif\" font-size=\"14\" lengthAdjust=\"spacingAndGlyphs\" textLength=\"36\" x=\"132\" y=\"92.6982\">p1: P</text><rect fill=\"#383838\" height=\"12\" style=\"stroke: #F8F8F8; stroke-width: 1.5;\" width=\"12\" x=\"144\" y=\"108\"/><text fill=\"#000000\" font-family=\"sans-serif\" font-size=\"14\" lengthAdjust=\"spacingAndGlyphs\" textLength=\"48\" x=\"173\" y=\"92.6982\">p2: ~P</text><rect fill=\"#383838\" height=\"12\" style=\"stroke: #F8F8F8; stroke-width: 1.5;\" width=\"12\" x=\"191\" y=\"108\"/><!--MD5=[3afbdc645381407e1bc99677323a2513]\n",
       "link E14 to E15--><a href=\"psysml:356465e0-8362-42f7-8017-4c1d57dccd42\" target=\"_top\" title=\"psysml:356465e0-8362-42f7-8017-4c1d57dccd42\" xlink:actuate=\"onRequest\" xlink:href=\"psysml:356465e0-8362-42f7-8017-4c1d57dccd42\" xlink:show=\"new\" xlink:title=\"psysml:356465e0-8362-42f7-8017-4c1d57dccd42\" xlink:type=\"simple\"><path d=\"M156.24,114 C167.81,114 179.38,114 190.95,114 \" fill=\"none\" id=\"E14-E15\" style=\"stroke: #383838; stroke-width: 3.0;\"/></a><!--MD5=[3afbdc645381407e1bc99677323a2513]\n",
       "link E14 to E15--><a href=\"psysml:be002053-3eab-4239-b4ec-f62d8ddd6fa6\" target=\"_top\" title=\"psysml:be002053-3eab-4239-b4ec-f62d8ddd6fa6\" xlink:actuate=\"onRequest\" xlink:href=\"psysml:be002053-3eab-4239-b4ec-f62d8ddd6fa6\" xlink:show=\"new\" xlink:title=\"psysml:be002053-3eab-4239-b4ec-f62d8ddd6fa6\" xlink:type=\"simple\"><path d=\"M156.24,111.93 C167.81,108.67 179.38,108.69 190.95,111.98 \" fill=\"none\" id=\"E14-E15-1\" style=\"stroke: #383838; stroke-width: 3.0;\"/></a><!--MD5=[f459b74635a06d1b73fa31e41ed2c25b]\n",
       "@startuml\r\n",
       "skinparam ranksep 10\r\n",
       "skinparam rectangle {\r\n",
       " backgroundColor<<block>> LightGreen\r\n",
       "}\r\n",
       " skinparam monochrome true\r\n",
       "skinparam classbackgroundcolor white\r\n",
       "skinparam shadowing false\r\n",
       "skinparam wrapWidth 300\r\n",
       "hide circle\r\n",
       "\r\n",
       "package \"ConjugationTest\" as E1  [[psysml:811d2e93-771a-4206-9534-119b2782ed8b ]]  {\r\n",
       "def \"P\" as E2  <<(T,blue) port def>> [[psysml:a118eece-ff6c-41b4-a8ec-63007fd81e06 ]] \r\n",
       "rec def \"B\" as E3  <<(T,blue) part def>> [[psysml:45f3428f-90c5-481c-8b5b-6d42a9c9ecb4 ]] {\r\n",
       "portin \"p1: P\" as E4  <<(T,blue) port>> [[psysml:f10162e3-9121-4423-8c61-28bf75aadc9a ]] \r\n",
       "portin \"p2: ~P\" as E5  <<(T,blue) port>> [[psysml:f793b08e-b132-4869-8396-6344384571c9 ]] \r\n",
       "}\r\n",
       "rec def \"A\" as E6  <<(T,blue) connection def>> [[psysml:1e44cf6a-fe6c-483a-98ee-7c5816e24c4f ]] {\r\n",
       "portin \"p1: P\" as E7  <<(T,blue) port>> [[psysml:592da980-ebcc-4bfb-b89f-9a898fd7b408 ]] \r\n",
       "portin \"p2: ~P\" as E8  <<(T,blue) port>> [[psysml:4730362b-6892-4b61-8b08-4b1eb3a58a19 ]] \r\n",
       "}\r\n",
       "rec def \"I\" as E9  <<(T,blue) interface def>> [[psysml:c589f335-4cab-4324-b073-03ca89b55f7d ]] {\r\n",
       "portin \"p1: P\" as E10  <<(T,blue) port>> [[psysml:0a18d135-3a15-4f1e-a48b-3983b85e55aa ]] \r\n",
       "portin \"p2: ~P\" as E11  <<(T,blue) port>> [[psysml:f0ebefc1-580e-4b11-b9cf-e3cb40b874a3 ]] \r\n",
       "}\r\n",
       "rec def \"B1\" as E12  <<(T,blue) part def>> [[psysml:99d6c811-1239-4557-8bf5-512a2d9b51f5 ]] {\r\n",
       "rec usage \"p\" as E13  [[psysml:c80e6282-4b88-42a6-beea-d83b68d36327 ]] {\r\n",
       "portin \"p1: P\" as E14  <<(T,blue) port>> [[psysml:36fdd18b-cc96-4106-b803-027f179d9fab ]] \r\n",
       "portin \"p2: ~P\" as E15  <<(T,blue) port>> [[psysml:a04d4130-2616-430e-82e5-4df6c3f344d5 ]] \r\n",
       "}\r\n",
       "}\r\n",
       "}\r\n",
       "E14 -[thickness=3]- E15 [[psysml:356465e0-8362-42f7-8017-4c1d57dccd42 ]] \r\n",
       "E14 -[thickness=3]- E15 [[psysml:be002053-3eab-4239-b4ec-f62d8ddd6fa6 ]] \r\n",
       "@enduml\r\n",
       "\n",
       "PlantUML version 1.2020.13(Sat Jun 13 12:26:38 UTC 2020)\n",
       "(EPL source distribution)\n",
       "Java Runtime: OpenJDK Runtime Environment\n",
       "JVM: OpenJDK 64-Bit Server VM\n",
       "Default Encoding: UTF-8\n",
       "Language: en\n",
       "Country: null\n",
       "--></g></svg>"
      ]
     },
     "execution_count": 5,
     "metadata": {},
     "output_type": "execute_result"
    }
   ],
   "source": [
    "%viz --style=\"COMPTREE\" --view=\"Interconnection\" \"ConjugationTest\""
   ]
  },
  {
   "cell_type": "code",
   "execution_count": 6,
   "id": "ad32b17e",
   "metadata": {
    "execution": {
     "iopub.execute_input": "2021-10-03T08:28:05.060246Z",
     "iopub.status.busy": "2021-10-03T08:28:05.059837Z",
     "iopub.status.idle": "2021-10-03T08:28:05.068638Z",
     "shell.execute_reply": "2021-10-03T08:28:05.069076Z"
    }
   },
   "outputs": [
    {
     "data": {
      "image/svg+xml": [
       "<?xml version=\"1.0\" encoding=\"UTF-8\" standalone=\"no\"?><svg xmlns=\"http://www.w3.org/2000/svg\" xmlns:xlink=\"http://www.w3.org/1999/xlink\" contentScriptType=\"application/ecmascript\" contentStyleType=\"text/css\" height=\"12px\" preserveAspectRatio=\"none\" style=\"width:12px;height:12px;\" version=\"1.1\" viewBox=\"0 0 12 12\" width=\"12px\" zoomAndPan=\"magnify\"><defs/><g><!--MD5=[655b888544ca4751ea36af1068543f84]\n",
       "@startuml\r\n",
       "skinparam ranksep 8\r\n",
       " skinparam monochrome true\r\n",
       "skinparam classbackgroundcolor white\r\n",
       "skinparam shadowing false\r\n",
       "skinparam wrapWidth 300\r\n",
       "hide circle\r\n",
       "\r\n",
       "@enduml\r\n",
       "\n",
       "PlantUML version 1.2020.13(Sat Jun 13 12:26:38 UTC 2020)\n",
       "(EPL source distribution)\n",
       "Java Runtime: OpenJDK Runtime Environment\n",
       "JVM: OpenJDK 64-Bit Server VM\n",
       "Default Encoding: UTF-8\n",
       "Language: en\n",
       "Country: null\n",
       "--></g></svg>"
      ]
     },
     "execution_count": 6,
     "metadata": {},
     "output_type": "execute_result"
    }
   ],
   "source": [
    "%viz --style=\"COMPTREE\" --view=\"Action\" \"ConjugationTest\""
   ]
  },
  {
   "cell_type": "code",
   "execution_count": 7,
   "id": "d3101aaa",
   "metadata": {
    "execution": {
     "iopub.execute_input": "2021-10-03T08:28:05.118572Z",
     "iopub.status.busy": "2021-10-03T08:28:05.118151Z",
     "iopub.status.idle": "2021-10-03T08:28:05.130176Z",
     "shell.execute_reply": "2021-10-03T08:28:05.130497Z"
    }
   },
   "outputs": [
    {
     "data": {
      "image/svg+xml": [
       "<?xml version=\"1.0\" encoding=\"UTF-8\" standalone=\"no\"?><svg xmlns=\"http://www.w3.org/2000/svg\" xmlns:xlink=\"http://www.w3.org/1999/xlink\" contentScriptType=\"application/ecmascript\" contentStyleType=\"text/css\" height=\"12px\" preserveAspectRatio=\"none\" style=\"width:12px;height:12px;\" version=\"1.1\" viewBox=\"0 0 12 12\" width=\"12px\" zoomAndPan=\"magnify\"><defs/><g><!--MD5=[803fc46c337be7a5c8a9831e35356779]\n",
       "@startuml\r\n",
       "skinparam roundcorner 20\r\n",
       "skinparam BoxPadding 20\r\n",
       "skinparam SequenceBoxBackgroundColor #white\r\n",
       "skinparam style strictuml\r\n",
       "skinparam maxMessageSize 100\r\n",
       " skinparam monochrome true\r\n",
       "skinparam classbackgroundcolor white\r\n",
       "skinparam shadowing false\r\n",
       "skinparam wrapWidth 300\r\n",
       "hide circle\r\n",
       "\r\n",
       "@enduml\r\n",
       "\n",
       "PlantUML version 1.2020.13(Sat Jun 13 12:26:38 UTC 2020)\n",
       "(EPL source distribution)\n",
       "Java Runtime: OpenJDK Runtime Environment\n",
       "JVM: OpenJDK 64-Bit Server VM\n",
       "Default Encoding: UTF-8\n",
       "Language: en\n",
       "Country: null\n",
       "--></g></svg>"
      ]
     },
     "execution_count": 7,
     "metadata": {},
     "output_type": "execute_result"
    }
   ],
   "source": [
    "%viz --style=\"COMPTREE\" --view=\"Sequence\" \"ConjugationTest\""
   ]
  },
  {
   "cell_type": "code",
   "execution_count": 8,
   "id": "b7d142bc",
   "metadata": {
    "execution": {
     "iopub.execute_input": "2021-10-03T08:28:05.180441Z",
     "iopub.status.busy": "2021-10-03T08:28:05.180021Z",
     "iopub.status.idle": "2021-10-03T08:28:05.289594Z",
     "shell.execute_reply": "2021-10-03T08:28:05.288205Z"
    }
   },
   "outputs": [
    {
     "data": {
      "image/svg+xml": [
       "<?xml version=\"1.0\" encoding=\"UTF-8\" standalone=\"no\"?><svg xmlns=\"http://www.w3.org/2000/svg\" xmlns:xlink=\"http://www.w3.org/1999/xlink\" contentScriptType=\"application/ecmascript\" contentStyleType=\"text/css\" height=\"305px\" preserveAspectRatio=\"none\" style=\"width:614px;height:305px;\" version=\"1.1\" viewBox=\"0 0 614 305\" width=\"614px\" zoomAndPan=\"magnify\"><defs/><g><!--MD5=[fbc87193dbaf4d95561dea2c320d4a47]\n",
       "cluster E1--><a href=\"psysml:811d2e93-771a-4206-9534-119b2782ed8b\" target=\"_top\" title=\"psysml:811d2e93-771a-4206-9534-119b2782ed8b\" xlink:actuate=\"onRequest\" xlink:href=\"psysml:811d2e93-771a-4206-9534-119b2782ed8b\" xlink:show=\"new\" xlink:title=\"psysml:811d2e93-771a-4206-9534-119b2782ed8b\" xlink:type=\"simple\"><polygon fill=\"#FFFFFF\" points=\"16,6,136,6,143,28.2969,592,28.2969,592,293,16,293,16,6\" style=\"stroke: #000000; stroke-width: 1.5;\"/><line style=\"stroke: #000000; stroke-width: 1.5;\" x1=\"16\" x2=\"143\" y1=\"28.2969\" y2=\"28.2969\"/><text fill=\"#000000\" font-family=\"sans-serif\" font-size=\"14\" font-weight=\"bold\" lengthAdjust=\"spacingAndGlyphs\" textLength=\"114\" x=\"20\" y=\"20.9951\">ConjugationTest</text></a><!--MD5=[b4997ac47864f28c2f74865a473b2911]\n",
       "class E2--><a href=\"psysml:a118eece-ff6c-41b4-a8ec-63007fd81e06\" target=\"_top\" title=\"psysml:a118eece-ff6c-41b4-a8ec-63007fd81e06\" xlink:actuate=\"onRequest\" xlink:href=\"psysml:a118eece-ff6c-41b4-a8ec-63007fd81e06\" xlink:show=\"new\" xlink:title=\"psysml:a118eece-ff6c-41b4-a8ec-63007fd81e06\" xlink:type=\"simple\"><rect fill=\"#FFFFFF\" height=\"45.9375\" id=\"E2\" style=\"stroke: #383838; stroke-width: 1.5;\" width=\"66\" x=\"510\" y=\"62\"/><text fill=\"#000000\" font-family=\"sans-serif\" font-size=\"12\" font-style=\"italic\" lengthAdjust=\"spacingAndGlyphs\" textLength=\"64\" x=\"511\" y=\"78.1387\">«port def»</text><text fill=\"#000000\" font-family=\"sans-serif\" font-size=\"12\" lengthAdjust=\"spacingAndGlyphs\" textLength=\"8\" x=\"539\" y=\"92.1074\">P</text><line style=\"stroke: #383838; stroke-width: 1.5;\" x1=\"511\" x2=\"575\" y1=\"99.9375\" y2=\"99.9375\"/></a><!--MD5=[09b614a08d8cba4a07c9adeb5e0fee81]\n",
       "class E3--><a href=\"psysml:45f3428f-90c5-481c-8b5b-6d42a9c9ecb4\" target=\"_top\" title=\"psysml:45f3428f-90c5-481c-8b5b-6d42a9c9ecb4\" xlink:actuate=\"onRequest\" xlink:href=\"psysml:45f3428f-90c5-481c-8b5b-6d42a9c9ecb4\" xlink:show=\"new\" xlink:title=\"psysml:45f3428f-90c5-481c-8b5b-6d42a9c9ecb4\" xlink:type=\"simple\"><rect fill=\"#FFFFFF\" height=\"88.3516\" id=\"E3\" style=\"stroke: #383838; stroke-width: 1.5;\" width=\"66\" x=\"409\" y=\"41\"/><text fill=\"#000000\" font-family=\"sans-serif\" font-size=\"12\" font-style=\"italic\" lengthAdjust=\"spacingAndGlyphs\" textLength=\"64\" x=\"410\" y=\"57.1387\">«part def»</text><text fill=\"#000000\" font-family=\"sans-serif\" font-size=\"12\" lengthAdjust=\"spacingAndGlyphs\" textLength=\"8\" x=\"438\" y=\"71.1074\">B</text><line style=\"stroke: #383838; stroke-width: 1.5;\" x1=\"410\" x2=\"474\" y1=\"78.9375\" y2=\"78.9375\"/><text fill=\"#000000\" font-family=\"sans-serif\" font-size=\"11\" lengthAdjust=\"spacingAndGlyphs\" textLength=\"29\" x=\"415\" y=\"109.9526\">p1: P</text><text fill=\"#000000\" font-family=\"sans-serif\" font-size=\"11\" lengthAdjust=\"spacingAndGlyphs\" textLength=\"38\" x=\"415\" y=\"122.7573\">p2: ~P</text><line style=\"stroke: #383838; stroke-width: 1.0;\" x1=\"410\" x2=\"427\" y1=\"93.3398\" y2=\"93.3398\"/><text fill=\"#000000\" font-family=\"sans-serif\" font-size=\"11\" lengthAdjust=\"spacingAndGlyphs\" textLength=\"30\" x=\"427\" y=\"96.6479\">ports</text><line style=\"stroke: #383838; stroke-width: 1.0;\" x1=\"457\" x2=\"474\" y1=\"93.3398\" y2=\"93.3398\"/></a><!--MD5=[ebbe1d658d1005bcc118a6aa81145e00]\n",
       "class E4--><a href=\"psysml:1e44cf6a-fe6c-483a-98ee-7c5816e24c4f\" target=\"_top\" title=\"psysml:1e44cf6a-fe6c-483a-98ee-7c5816e24c4f\" xlink:actuate=\"onRequest\" xlink:href=\"psysml:1e44cf6a-fe6c-483a-98ee-7c5816e24c4f\" xlink:show=\"new\" xlink:title=\"psysml:1e44cf6a-fe6c-483a-98ee-7c5816e24c4f\" xlink:type=\"simple\"><rect fill=\"#FFFFFF\" height=\"88.3516\" id=\"E4\" style=\"stroke: #383838; stroke-width: 1.5;\" width=\"110\" x=\"264\" y=\"41\"/><text fill=\"#000000\" font-family=\"sans-serif\" font-size=\"12\" font-style=\"italic\" lengthAdjust=\"spacingAndGlyphs\" textLength=\"108\" x=\"265\" y=\"57.1387\">«connection def»</text><text fill=\"#000000\" font-family=\"sans-serif\" font-size=\"12\" lengthAdjust=\"spacingAndGlyphs\" textLength=\"8\" x=\"315\" y=\"71.1074\">A</text><line style=\"stroke: #383838; stroke-width: 1.5;\" x1=\"265\" x2=\"373\" y1=\"78.9375\" y2=\"78.9375\"/><text fill=\"#000000\" font-family=\"sans-serif\" font-size=\"11\" lengthAdjust=\"spacingAndGlyphs\" textLength=\"29\" x=\"270\" y=\"109.9526\">p1: P</text><text fill=\"#000000\" font-family=\"sans-serif\" font-size=\"11\" lengthAdjust=\"spacingAndGlyphs\" textLength=\"38\" x=\"270\" y=\"122.7573\">p2: ~P</text><line style=\"stroke: #383838; stroke-width: 1.0;\" x1=\"265\" x2=\"304\" y1=\"93.3398\" y2=\"93.3398\"/><text fill=\"#000000\" font-family=\"sans-serif\" font-size=\"11\" lengthAdjust=\"spacingAndGlyphs\" textLength=\"30\" x=\"304\" y=\"96.6479\">ports</text><line style=\"stroke: #383838; stroke-width: 1.0;\" x1=\"334\" x2=\"373\" y1=\"93.3398\" y2=\"93.3398\"/></a><!--MD5=[270fce915f116d4de14055a7c1d9a0f3]\n",
       "class E5--><a href=\"psysml:c589f335-4cab-4324-b073-03ca89b55f7d\" target=\"_top\" title=\"psysml:c589f335-4cab-4324-b073-03ca89b55f7d\" xlink:actuate=\"onRequest\" xlink:href=\"psysml:c589f335-4cab-4324-b073-03ca89b55f7d\" xlink:show=\"new\" xlink:title=\"psysml:c589f335-4cab-4324-b073-03ca89b55f7d\" xlink:type=\"simple\"><rect fill=\"#FFFFFF\" height=\"88.3516\" id=\"E5\" style=\"stroke: #383838; stroke-width: 1.5;\" width=\"96\" x=\"133\" y=\"41\"/><text fill=\"#000000\" font-family=\"sans-serif\" font-size=\"12\" font-style=\"italic\" lengthAdjust=\"spacingAndGlyphs\" textLength=\"94\" x=\"134\" y=\"57.1387\">«interface def»</text><text fill=\"#000000\" font-family=\"sans-serif\" font-size=\"12\" lengthAdjust=\"spacingAndGlyphs\" textLength=\"3\" x=\"179.5\" y=\"71.1074\">I</text><line style=\"stroke: #383838; stroke-width: 1.5;\" x1=\"134\" x2=\"228\" y1=\"78.9375\" y2=\"78.9375\"/><text fill=\"#000000\" font-family=\"sans-serif\" font-size=\"11\" lengthAdjust=\"spacingAndGlyphs\" textLength=\"29\" x=\"139\" y=\"109.9526\">p1: P</text><text fill=\"#000000\" font-family=\"sans-serif\" font-size=\"11\" lengthAdjust=\"spacingAndGlyphs\" textLength=\"38\" x=\"139\" y=\"122.7573\">p2: ~P</text><line style=\"stroke: #383838; stroke-width: 1.0;\" x1=\"134\" x2=\"166\" y1=\"93.3398\" y2=\"93.3398\"/><text fill=\"#000000\" font-family=\"sans-serif\" font-size=\"11\" lengthAdjust=\"spacingAndGlyphs\" textLength=\"30\" x=\"166\" y=\"96.6479\">ports</text><line style=\"stroke: #383838; stroke-width: 1.0;\" x1=\"196\" x2=\"228\" y1=\"93.3398\" y2=\"93.3398\"/></a><!--MD5=[60a26617385b1d2d0262a64233df1f8d]\n",
       "class E6--><a href=\"psysml:99d6c811-1239-4557-8bf5-512a2d9b51f5\" target=\"_top\" title=\"psysml:99d6c811-1239-4557-8bf5-512a2d9b51f5\" xlink:actuate=\"onRequest\" xlink:href=\"psysml:99d6c811-1239-4557-8bf5-512a2d9b51f5\" xlink:show=\"new\" xlink:title=\"psysml:99d6c811-1239-4557-8bf5-512a2d9b51f5\" xlink:type=\"simple\"><rect fill=\"#FFFFFF\" height=\"45.9375\" id=\"E6\" style=\"stroke: #383838; stroke-width: 1.5;\" width=\"66\" x=\"32\" y=\"62\"/><text fill=\"#000000\" font-family=\"sans-serif\" font-size=\"12\" font-style=\"italic\" lengthAdjust=\"spacingAndGlyphs\" textLength=\"64\" x=\"33\" y=\"78.1387\">«part def»</text><text fill=\"#000000\" font-family=\"sans-serif\" font-size=\"12\" lengthAdjust=\"spacingAndGlyphs\" textLength=\"16\" x=\"57\" y=\"92.1074\">B1</text><line style=\"stroke: #383838; stroke-width: 1.5;\" x1=\"33\" x2=\"97\" y1=\"99.9375\" y2=\"99.9375\"/></a><!--MD5=[2156ba9850f5573cc1fc38a6a4b2f02b]\n",
       "class E7--><a href=\"psysml:c80e6282-4b88-42a6-beea-d83b68d36327\" target=\"_top\" title=\"psysml:c80e6282-4b88-42a6-beea-d83b68d36327\" xlink:actuate=\"onRequest\" xlink:href=\"psysml:c80e6282-4b88-42a6-beea-d83b68d36327\" xlink:show=\"new\" xlink:title=\"psysml:c80e6282-4b88-42a6-beea-d83b68d36327\" xlink:type=\"simple\"><rect fill=\"#FFFFFF\" height=\"88.3516\" id=\"E7\" rx=\"10\" ry=\"10\" style=\"stroke: #383838; stroke-width: 1.5;\" width=\"59\" x=\"35.5\" y=\"189\"/><text fill=\"#000000\" font-family=\"sans-serif\" font-size=\"12\" font-style=\"italic\" lengthAdjust=\"spacingAndGlyphs\" textLength=\"40\" x=\"45\" y=\"205.1387\">«part»</text><text fill=\"#000000\" font-family=\"sans-serif\" font-size=\"12\" lengthAdjust=\"spacingAndGlyphs\" textLength=\"8\" x=\"61\" y=\"219.1074\">p</text><line style=\"stroke: #383838; stroke-width: 1.5;\" x1=\"36.5\" x2=\"93.5\" y1=\"226.9375\" y2=\"226.9375\"/><text fill=\"#000000\" font-family=\"sans-serif\" font-size=\"11\" lengthAdjust=\"spacingAndGlyphs\" textLength=\"38\" x=\"41.5\" y=\"257.9526\">^p1: P</text><text fill=\"#000000\" font-family=\"sans-serif\" font-size=\"11\" lengthAdjust=\"spacingAndGlyphs\" textLength=\"47\" x=\"41.5\" y=\"270.7573\">^p2: ~P</text><line style=\"stroke: #383838; stroke-width: 1.0;\" x1=\"36.5\" x2=\"50\" y1=\"241.3398\" y2=\"241.3398\"/><text fill=\"#000000\" font-family=\"sans-serif\" font-size=\"11\" lengthAdjust=\"spacingAndGlyphs\" textLength=\"30\" x=\"50\" y=\"244.6479\">ports</text><line style=\"stroke: #383838; stroke-width: 1.0;\" x1=\"80\" x2=\"93.5\" y1=\"241.3398\" y2=\"241.3398\"/></a><!--MD5=[3f50a3473f1dfb74d3f76443e03635af]\n",
       "reverse link E6 to E7--><a href=\"psysml:2ea9f126-2045-475e-98b2-0bebbeaf39ba\" target=\"_top\" title=\"psysml:2ea9f126-2045-475e-98b2-0bebbeaf39ba\" xlink:actuate=\"onRequest\" xlink:href=\"psysml:2ea9f126-2045-475e-98b2-0bebbeaf39ba\" xlink:show=\"new\" xlink:title=\"psysml:2ea9f126-2045-475e-98b2-0bebbeaf39ba\" xlink:type=\"simple\"><path d=\"M65,121.25 C65,141.54 65,167.2 65,188.71 \" fill=\"none\" id=\"E6&lt;-E7\" style=\"stroke: #383838; stroke-width: 1.0;\"/><polygon fill=\"#383838\" points=\"65,108.17,61,114.17,65,120.17,69,114.17,65,108.17\" style=\"stroke: #383838; stroke-width: 1.0;\"/><text fill=\"#000000\" font-family=\"sans-serif\" font-size=\"13\" lengthAdjust=\"spacingAndGlyphs\" textLength=\"8\" x=\"56.3875\" y=\"177.8298\">1</text></a><!--MD5=[2e6b2bd7067ffe6bdf9902355cc520f6]\n",
       "@startuml\r\n",
       " skinparam monochrome true\r\n",
       "skinparam classbackgroundcolor white\r\n",
       "skinparam shadowing false\r\n",
       "skinparam wrapWidth 300\r\n",
       "hide circle\r\n",
       "\r\n",
       "package \"ConjugationTest\" as E1  [[psysml:811d2e93-771a-4206-9534-119b2782ed8b ]]  {\r\n",
       "comp def \"P\" as E2  <<(T,blue) port def>> [[psysml:a118eece-ff6c-41b4-a8ec-63007fd81e06 ]] {\r\n",
       "}\r\n",
       "comp def \"B\" as E3  <<(T,blue) part def>> [[psysml:45f3428f-90c5-481c-8b5b-6d42a9c9ecb4 ]] {\r\n",
       "- - ports - -\r\n",
       "p1: P\r\n",
       "p2: ~P\r\n",
       "}\r\n",
       "comp def \"A\" as E4  <<(T,blue) connection def>> [[psysml:1e44cf6a-fe6c-483a-98ee-7c5816e24c4f ]] {\r\n",
       "- - ports - -\r\n",
       "p1: P\r\n",
       "p2: ~P\r\n",
       "}\r\n",
       "comp def \"I\" as E5  <<(T,blue) interface def>> [[psysml:c589f335-4cab-4324-b073-03ca89b55f7d ]] {\r\n",
       "- - ports - -\r\n",
       "p1: P\r\n",
       "p2: ~P\r\n",
       "}\r\n",
       "comp def \"B1\" as E6  <<(T,blue) part def>> [[psysml:99d6c811-1239-4557-8bf5-512a2d9b51f5 ]] {\r\n",
       "}\r\n",
       "comp usage \"p\" as E7  <<(T,blue) part>> [[psysml:c80e6282-4b88-42a6-beea-d83b68d36327 ]] {\r\n",
       "- - ports - -\r\n",
       "^p1: P\r\n",
       "^p2: ~P\r\n",
       "}\r\n",
       "}\r\n",
       "E6 *- - \"1\"E7 [[psysml:2ea9f126-2045-475e-98b2-0bebbeaf39ba ]] \r\n",
       "@enduml\r\n",
       "\n",
       "PlantUML version 1.2020.13(Sat Jun 13 12:26:38 UTC 2020)\n",
       "(EPL source distribution)\n",
       "Java Runtime: OpenJDK Runtime Environment\n",
       "JVM: OpenJDK 64-Bit Server VM\n",
       "Default Encoding: UTF-8\n",
       "Language: en\n",
       "Country: null\n",
       "--></g></svg>"
      ]
     },
     "execution_count": 8,
     "metadata": {},
     "output_type": "execute_result"
    }
   ],
   "source": [
    "%viz --style=\"COMPTREE\" --view=\"MIXED\" \"ConjugationTest\""
   ]
  },
  {
   "cell_type": "code",
   "execution_count": 9,
   "id": "19bb7894",
   "metadata": {
    "execution": {
     "iopub.execute_input": "2021-10-03T08:28:05.339139Z",
     "iopub.status.busy": "2021-10-03T08:28:05.338816Z",
     "iopub.status.idle": "2021-10-03T08:28:05.410105Z",
     "shell.execute_reply": "2021-10-03T08:28:05.408465Z"
    }
   },
   "outputs": [
    {
     "data": {
      "image/svg+xml": [
       "<?xml version=\"1.0\" encoding=\"UTF-8\" standalone=\"no\"?><svg xmlns=\"http://www.w3.org/2000/svg\" xmlns:xlink=\"http://www.w3.org/1999/xlink\" contentScriptType=\"application/ecmascript\" contentStyleType=\"text/css\" height=\"433px\" preserveAspectRatio=\"none\" style=\"width:629px;height:433px;\" version=\"1.1\" viewBox=\"0 0 629 433\" width=\"629px\" zoomAndPan=\"magnify\"><defs/><g><!--MD5=[fbc87193dbaf4d95561dea2c320d4a47]\n",
       "cluster E1--><a href=\"psysml:811d2e93-771a-4206-9534-119b2782ed8b\" target=\"_top\" title=\"psysml:811d2e93-771a-4206-9534-119b2782ed8b\" xlink:actuate=\"onRequest\" xlink:href=\"psysml:811d2e93-771a-4206-9534-119b2782ed8b\" xlink:show=\"new\" xlink:title=\"psysml:811d2e93-771a-4206-9534-119b2782ed8b\" xlink:type=\"simple\"><polygon fill=\"#FFFFFF\" points=\"16,6,136,6,143,28.2969,607,28.2969,607,421,16,421,16,6\" style=\"stroke: #000000; stroke-width: 1.5;\"/><line style=\"stroke: #000000; stroke-width: 1.5;\" x1=\"16\" x2=\"143\" y1=\"28.2969\" y2=\"28.2969\"/><text fill=\"#000000\" font-family=\"sans-serif\" font-size=\"14\" font-weight=\"bold\" lengthAdjust=\"spacingAndGlyphs\" textLength=\"114\" x=\"20\" y=\"20.9951\">ConjugationTest</text></a><!--MD5=[b4997ac47864f28c2f74865a473b2911]\n",
       "class E2--><a href=\"psysml:a118eece-ff6c-41b4-a8ec-63007fd81e06\" target=\"_top\" title=\"psysml:a118eece-ff6c-41b4-a8ec-63007fd81e06\" xlink:actuate=\"onRequest\" xlink:href=\"psysml:a118eece-ff6c-41b4-a8ec-63007fd81e06\" xlink:show=\"new\" xlink:title=\"psysml:a118eece-ff6c-41b4-a8ec-63007fd81e06\" xlink:type=\"simple\"><rect fill=\"#FFFFFF\" height=\"45.9375\" id=\"E2\" style=\"stroke: #383838; stroke-width: 1.5;\" width=\"66\" x=\"221\" y=\"359\"/><text fill=\"#000000\" font-family=\"sans-serif\" font-size=\"12\" font-style=\"italic\" lengthAdjust=\"spacingAndGlyphs\" textLength=\"64\" x=\"222\" y=\"375.1387\">«port def»</text><text fill=\"#000000\" font-family=\"sans-serif\" font-size=\"12\" lengthAdjust=\"spacingAndGlyphs\" textLength=\"8\" x=\"250\" y=\"389.1074\">P</text><line style=\"stroke: #383838; stroke-width: 1.5;\" x1=\"222\" x2=\"286\" y1=\"396.9375\" y2=\"396.9375\"/></a><!--MD5=[09b614a08d8cba4a07c9adeb5e0fee81]\n",
       "class E3--><a href=\"psysml:45f3428f-90c5-481c-8b5b-6d42a9c9ecb4\" target=\"_top\" title=\"psysml:45f3428f-90c5-481c-8b5b-6d42a9c9ecb4\" xlink:actuate=\"onRequest\" xlink:href=\"psysml:45f3428f-90c5-481c-8b5b-6d42a9c9ecb4\" xlink:show=\"new\" xlink:title=\"psysml:45f3428f-90c5-481c-8b5b-6d42a9c9ecb4\" xlink:type=\"simple\"><rect fill=\"#FFFFFF\" height=\"45.9375\" id=\"E3\" style=\"stroke: #383838; stroke-width: 1.5;\" width=\"66\" x=\"489\" y=\"147\"/><text fill=\"#000000\" font-family=\"sans-serif\" font-size=\"12\" font-style=\"italic\" lengthAdjust=\"spacingAndGlyphs\" textLength=\"64\" x=\"490\" y=\"163.1387\">«part def»</text><text fill=\"#000000\" font-family=\"sans-serif\" font-size=\"12\" lengthAdjust=\"spacingAndGlyphs\" textLength=\"8\" x=\"518\" y=\"177.1074\">B</text><line style=\"stroke: #383838; stroke-width: 1.5;\" x1=\"490\" x2=\"554\" y1=\"184.9375\" y2=\"184.9375\"/></a><!--MD5=[ebbe1d658d1005bcc118a6aa81145e00]\n",
       "class E4--><a href=\"psysml:f10162e3-9121-4423-8c61-28bf75aadc9a\" target=\"_top\" title=\"psysml:f10162e3-9121-4423-8c61-28bf75aadc9a\" xlink:actuate=\"onRequest\" xlink:href=\"psysml:f10162e3-9121-4423-8c61-28bf75aadc9a\" xlink:show=\"new\" xlink:title=\"psysml:f10162e3-9121-4423-8c61-28bf75aadc9a\" xlink:type=\"simple\"><rect fill=\"#FFFFFF\" height=\"45.9375\" id=\"E4\" rx=\"10\" ry=\"10\" style=\"stroke: #383838; stroke-width: 1.5;\" width=\"42\" x=\"466\" y=\"253\"/><text fill=\"#000000\" font-family=\"sans-serif\" font-size=\"12\" font-style=\"italic\" lengthAdjust=\"spacingAndGlyphs\" textLength=\"40\" x=\"467\" y=\"269.1387\">«port»</text><text fill=\"#000000\" font-family=\"sans-serif\" font-size=\"12\" lengthAdjust=\"spacingAndGlyphs\" textLength=\"32\" x=\"471\" y=\"283.1074\">p1: P</text><line style=\"stroke: #383838; stroke-width: 1.5;\" x1=\"467\" x2=\"507\" y1=\"290.9375\" y2=\"290.9375\"/></a><!--MD5=[270fce915f116d4de14055a7c1d9a0f3]\n",
       "class E5--><a href=\"psysml:f793b08e-b132-4869-8396-6344384571c9\" target=\"_top\" title=\"psysml:f793b08e-b132-4869-8396-6344384571c9\" xlink:actuate=\"onRequest\" xlink:href=\"psysml:f793b08e-b132-4869-8396-6344384571c9\" xlink:show=\"new\" xlink:title=\"psysml:f793b08e-b132-4869-8396-6344384571c9\" xlink:type=\"simple\"><rect fill=\"#FFFFFF\" height=\"45.9375\" id=\"E5\" rx=\"10\" ry=\"10\" style=\"stroke: #383838; stroke-width: 1.5;\" width=\"48\" x=\"543\" y=\"253\"/><text fill=\"#000000\" font-family=\"sans-serif\" font-size=\"12\" font-style=\"italic\" lengthAdjust=\"spacingAndGlyphs\" textLength=\"40\" x=\"547\" y=\"269.1387\">«port»</text><text fill=\"#000000\" font-family=\"sans-serif\" font-size=\"12\" lengthAdjust=\"spacingAndGlyphs\" textLength=\"42\" x=\"546\" y=\"283.1074\">p2: ~P</text><line style=\"stroke: #383838; stroke-width: 1.5;\" x1=\"544\" x2=\"590\" y1=\"290.9375\" y2=\"290.9375\"/></a><!--MD5=[60a26617385b1d2d0262a64233df1f8d]\n",
       "class E6--><a href=\"psysml:1e44cf6a-fe6c-483a-98ee-7c5816e24c4f\" target=\"_top\" title=\"psysml:1e44cf6a-fe6c-483a-98ee-7c5816e24c4f\" xlink:actuate=\"onRequest\" xlink:href=\"psysml:1e44cf6a-fe6c-483a-98ee-7c5816e24c4f\" xlink:show=\"new\" xlink:title=\"psysml:1e44cf6a-fe6c-483a-98ee-7c5816e24c4f\" xlink:type=\"simple\"><rect fill=\"#FFFFFF\" height=\"45.9375\" id=\"E6\" style=\"stroke: #383838; stroke-width: 1.5;\" width=\"110\" x=\"282\" y=\"147\"/><text fill=\"#000000\" font-family=\"sans-serif\" font-size=\"12\" font-style=\"italic\" lengthAdjust=\"spacingAndGlyphs\" textLength=\"108\" x=\"283\" y=\"163.1387\">«connection def»</text><text fill=\"#000000\" font-family=\"sans-serif\" font-size=\"12\" lengthAdjust=\"spacingAndGlyphs\" textLength=\"8\" x=\"333\" y=\"177.1074\">A</text><line style=\"stroke: #383838; stroke-width: 1.5;\" x1=\"283\" x2=\"391\" y1=\"184.9375\" y2=\"184.9375\"/></a><!--MD5=[2156ba9850f5573cc1fc38a6a4b2f02b]\n",
       "class E7--><a href=\"psysml:592da980-ebcc-4bfb-b89f-9a898fd7b408\" target=\"_top\" title=\"psysml:592da980-ebcc-4bfb-b89f-9a898fd7b408\" xlink:actuate=\"onRequest\" xlink:href=\"psysml:592da980-ebcc-4bfb-b89f-9a898fd7b408\" xlink:show=\"new\" xlink:title=\"psysml:592da980-ebcc-4bfb-b89f-9a898fd7b408\" xlink:type=\"simple\"><rect fill=\"#FFFFFF\" height=\"45.9375\" id=\"E7\" rx=\"10\" ry=\"10\" style=\"stroke: #383838; stroke-width: 1.5;\" width=\"42\" x=\"306\" y=\"253\"/><text fill=\"#000000\" font-family=\"sans-serif\" font-size=\"12\" font-style=\"italic\" lengthAdjust=\"spacingAndGlyphs\" textLength=\"40\" x=\"307\" y=\"269.1387\">«port»</text><text fill=\"#000000\" font-family=\"sans-serif\" font-size=\"12\" lengthAdjust=\"spacingAndGlyphs\" textLength=\"32\" x=\"311\" y=\"283.1074\">p1: P</text><line style=\"stroke: #383838; stroke-width: 1.5;\" x1=\"307\" x2=\"347\" y1=\"290.9375\" y2=\"290.9375\"/></a><!--MD5=[b9389687b975829384b498ac4b7476b2]\n",
       "class E8--><a href=\"psysml:4730362b-6892-4b61-8b08-4b1eb3a58a19\" target=\"_top\" title=\"psysml:4730362b-6892-4b61-8b08-4b1eb3a58a19\" xlink:actuate=\"onRequest\" xlink:href=\"psysml:4730362b-6892-4b61-8b08-4b1eb3a58a19\" xlink:show=\"new\" xlink:title=\"psysml:4730362b-6892-4b61-8b08-4b1eb3a58a19\" xlink:type=\"simple\"><rect fill=\"#FFFFFF\" height=\"45.9375\" id=\"E8\" rx=\"10\" ry=\"10\" style=\"stroke: #383838; stroke-width: 1.5;\" width=\"48\" x=\"383\" y=\"253\"/><text fill=\"#000000\" font-family=\"sans-serif\" font-size=\"12\" font-style=\"italic\" lengthAdjust=\"spacingAndGlyphs\" textLength=\"40\" x=\"387\" y=\"269.1387\">«port»</text><text fill=\"#000000\" font-family=\"sans-serif\" font-size=\"12\" lengthAdjust=\"spacingAndGlyphs\" textLength=\"42\" x=\"386\" y=\"283.1074\">p2: ~P</text><line style=\"stroke: #383838; stroke-width: 1.5;\" x1=\"384\" x2=\"430\" y1=\"290.9375\" y2=\"290.9375\"/></a><!--MD5=[fd4143e9d270a159db93a4ea2a975926]\n",
       "class E9--><a href=\"psysml:c589f335-4cab-4324-b073-03ca89b55f7d\" target=\"_top\" title=\"psysml:c589f335-4cab-4324-b073-03ca89b55f7d\" xlink:actuate=\"onRequest\" xlink:href=\"psysml:c589f335-4cab-4324-b073-03ca89b55f7d\" xlink:show=\"new\" xlink:title=\"psysml:c589f335-4cab-4324-b073-03ca89b55f7d\" xlink:type=\"simple\"><rect fill=\"#FFFFFF\" height=\"45.9375\" id=\"E9\" style=\"stroke: #383838; stroke-width: 1.5;\" width=\"96\" x=\"146\" y=\"147\"/><text fill=\"#000000\" font-family=\"sans-serif\" font-size=\"12\" font-style=\"italic\" lengthAdjust=\"spacingAndGlyphs\" textLength=\"94\" x=\"147\" y=\"163.1387\">«interface def»</text><text fill=\"#000000\" font-family=\"sans-serif\" font-size=\"12\" lengthAdjust=\"spacingAndGlyphs\" textLength=\"3\" x=\"192.5\" y=\"177.1074\">I</text><line style=\"stroke: #383838; stroke-width: 1.5;\" x1=\"147\" x2=\"241\" y1=\"184.9375\" y2=\"184.9375\"/></a><!--MD5=[96f4274e9e20536e775497830990834d]\n",
       "class E10--><a href=\"psysml:0a18d135-3a15-4f1e-a48b-3983b85e55aa\" target=\"_top\" title=\"psysml:0a18d135-3a15-4f1e-a48b-3983b85e55aa\" xlink:actuate=\"onRequest\" xlink:href=\"psysml:0a18d135-3a15-4f1e-a48b-3983b85e55aa\" xlink:show=\"new\" xlink:title=\"psysml:0a18d135-3a15-4f1e-a48b-3983b85e55aa\" xlink:type=\"simple\"><rect fill=\"#FFFFFF\" height=\"45.9375\" id=\"E10\" rx=\"10\" ry=\"10\" style=\"stroke: #383838; stroke-width: 1.5;\" width=\"42\" x=\"146\" y=\"253\"/><text fill=\"#000000\" font-family=\"sans-serif\" font-size=\"12\" font-style=\"italic\" lengthAdjust=\"spacingAndGlyphs\" textLength=\"40\" x=\"147\" y=\"269.1387\">«port»</text><text fill=\"#000000\" font-family=\"sans-serif\" font-size=\"12\" lengthAdjust=\"spacingAndGlyphs\" textLength=\"32\" x=\"151\" y=\"283.1074\">p1: P</text><line style=\"stroke: #383838; stroke-width: 1.5;\" x1=\"147\" x2=\"187\" y1=\"290.9375\" y2=\"290.9375\"/></a><!--MD5=[1dd1bfd58a279cf63c5f349dbc8fc6a1]\n",
       "class E11--><a href=\"psysml:f0ebefc1-580e-4b11-b9cf-e3cb40b874a3\" target=\"_top\" title=\"psysml:f0ebefc1-580e-4b11-b9cf-e3cb40b874a3\" xlink:actuate=\"onRequest\" xlink:href=\"psysml:f0ebefc1-580e-4b11-b9cf-e3cb40b874a3\" xlink:show=\"new\" xlink:title=\"psysml:f0ebefc1-580e-4b11-b9cf-e3cb40b874a3\" xlink:type=\"simple\"><rect fill=\"#FFFFFF\" height=\"45.9375\" id=\"E11\" rx=\"10\" ry=\"10\" style=\"stroke: #383838; stroke-width: 1.5;\" width=\"48\" x=\"223\" y=\"253\"/><text fill=\"#000000\" font-family=\"sans-serif\" font-size=\"12\" font-style=\"italic\" lengthAdjust=\"spacingAndGlyphs\" textLength=\"40\" x=\"227\" y=\"269.1387\">«port»</text><text fill=\"#000000\" font-family=\"sans-serif\" font-size=\"12\" lengthAdjust=\"spacingAndGlyphs\" textLength=\"42\" x=\"226\" y=\"283.1074\">p2: ~P</text><line style=\"stroke: #383838; stroke-width: 1.5;\" x1=\"224\" x2=\"270\" y1=\"290.9375\" y2=\"290.9375\"/></a><!--MD5=[49a0ec8f00dab7302a31f22d0f0fe584]\n",
       "class E12--><a href=\"psysml:99d6c811-1239-4557-8bf5-512a2d9b51f5\" target=\"_top\" title=\"psysml:99d6c811-1239-4557-8bf5-512a2d9b51f5\" xlink:actuate=\"onRequest\" xlink:href=\"psysml:99d6c811-1239-4557-8bf5-512a2d9b51f5\" xlink:show=\"new\" xlink:title=\"psysml:99d6c811-1239-4557-8bf5-512a2d9b51f5\" xlink:type=\"simple\"><rect fill=\"#FFFFFF\" height=\"45.9375\" id=\"E12\" style=\"stroke: #383838; stroke-width: 1.5;\" width=\"66\" x=\"47\" y=\"41\"/><text fill=\"#000000\" font-family=\"sans-serif\" font-size=\"12\" font-style=\"italic\" lengthAdjust=\"spacingAndGlyphs\" textLength=\"64\" x=\"48\" y=\"57.1387\">«part def»</text><text fill=\"#000000\" font-family=\"sans-serif\" font-size=\"12\" lengthAdjust=\"spacingAndGlyphs\" textLength=\"16\" x=\"72\" y=\"71.1074\">B1</text><line style=\"stroke: #383838; stroke-width: 1.5;\" x1=\"48\" x2=\"112\" y1=\"78.9375\" y2=\"78.9375\"/></a><!--MD5=[ee3c913d1a06f366521f9ef512b67efe]\n",
       "class E13--><a href=\"psysml:c80e6282-4b88-42a6-beea-d83b68d36327\" target=\"_top\" title=\"psysml:c80e6282-4b88-42a6-beea-d83b68d36327\" xlink:actuate=\"onRequest\" xlink:href=\"psysml:c80e6282-4b88-42a6-beea-d83b68d36327\" xlink:show=\"new\" xlink:title=\"psysml:c80e6282-4b88-42a6-beea-d83b68d36327\" xlink:type=\"simple\"><rect fill=\"#FFFFFF\" height=\"45.9375\" id=\"E13\" rx=\"10\" ry=\"10\" style=\"stroke: #383838; stroke-width: 1.5;\" width=\"42\" x=\"59\" y=\"147\"/><text fill=\"#000000\" font-family=\"sans-serif\" font-size=\"12\" font-style=\"italic\" lengthAdjust=\"spacingAndGlyphs\" textLength=\"40\" x=\"60\" y=\"163.1387\">«part»</text><text fill=\"#000000\" font-family=\"sans-serif\" font-size=\"12\" lengthAdjust=\"spacingAndGlyphs\" textLength=\"8\" x=\"76\" y=\"177.1074\">p</text><line style=\"stroke: #383838; stroke-width: 1.5;\" x1=\"60\" x2=\"100\" y1=\"184.9375\" y2=\"184.9375\"/></a><!--MD5=[bee11217b2f71d958a27249dc326068c]\n",
       "class E14--><a href=\"psysml:36fdd18b-cc96-4106-b803-027f179d9fab\" target=\"_top\" title=\"psysml:36fdd18b-cc96-4106-b803-027f179d9fab\" xlink:actuate=\"onRequest\" xlink:href=\"psysml:36fdd18b-cc96-4106-b803-027f179d9fab\" xlink:show=\"new\" xlink:title=\"psysml:36fdd18b-cc96-4106-b803-027f179d9fab\" xlink:type=\"simple\"><rect fill=\"#FFFFFF\" height=\"45.9375\" id=\"E14\" rx=\"10\" ry=\"10\" style=\"stroke: #383838; stroke-width: 1.5;\" width=\"42\" x=\"69\" y=\"253\"/><text fill=\"#000000\" font-family=\"sans-serif\" font-size=\"12\" font-style=\"italic\" lengthAdjust=\"spacingAndGlyphs\" textLength=\"40\" x=\"70\" y=\"269.1387\">«port»</text><text fill=\"#000000\" font-family=\"sans-serif\" font-size=\"12\" lengthAdjust=\"spacingAndGlyphs\" textLength=\"32\" x=\"74\" y=\"283.1074\">p1: P</text><line style=\"stroke: #383838; stroke-width: 1.5;\" x1=\"70\" x2=\"110\" y1=\"290.9375\" y2=\"290.9375\"/></a><!--MD5=[0c48fb7552dae8cbbef69381101a84c8]\n",
       "class E15--><a href=\"psysml:a04d4130-2616-430e-82e5-4df6c3f344d5\" target=\"_top\" title=\"psysml:a04d4130-2616-430e-82e5-4df6c3f344d5\" xlink:actuate=\"onRequest\" xlink:href=\"psysml:a04d4130-2616-430e-82e5-4df6c3f344d5\" xlink:show=\"new\" xlink:title=\"psysml:a04d4130-2616-430e-82e5-4df6c3f344d5\" xlink:type=\"simple\"><rect fill=\"#FFFFFF\" height=\"45.9375\" id=\"E15\" rx=\"10\" ry=\"10\" style=\"stroke: #383838; stroke-width: 1.5;\" width=\"48\" x=\"66\" y=\"359\"/><text fill=\"#000000\" font-family=\"sans-serif\" font-size=\"12\" font-style=\"italic\" lengthAdjust=\"spacingAndGlyphs\" textLength=\"40\" x=\"70\" y=\"375.1387\">«port»</text><text fill=\"#000000\" font-family=\"sans-serif\" font-size=\"12\" lengthAdjust=\"spacingAndGlyphs\" textLength=\"42\" x=\"69\" y=\"389.1074\">p2: ~P</text><line style=\"stroke: #383838; stroke-width: 1.5;\" x1=\"67\" x2=\"113\" y1=\"396.9375\" y2=\"396.9375\"/></a><!--MD5=[4672eba38e49728da53d11aeb285b987]\n",
       "reverse link E3 to E4--><a href=\"psysml:478537c4-9aea-45e7-93bf-51b2f99f76d0\" target=\"_top\" title=\"psysml:478537c4-9aea-45e7-93bf-51b2f99f76d0\" xlink:actuate=\"onRequest\" xlink:href=\"psysml:478537c4-9aea-45e7-93bf-51b2f99f76d0\" xlink:show=\"new\" xlink:title=\"psysml:478537c4-9aea-45e7-93bf-51b2f99f76d0\" xlink:type=\"simple\"><path d=\"M510.39,205.49 C505.12,221.15 499.05,239.19 494.41,252.98 \" fill=\"none\" id=\"E3&lt;-E4\" style=\"stroke: #383838; stroke-width: 1.0;\"/><polygon fill=\"#FFFFFF\" points=\"514.58,193.06,508.8756,197.4713,510.7536,204.4336,516.458,200.0223,514.58,193.06\" style=\"stroke: #383838; stroke-width: 1.0;\"/><text fill=\"#000000\" font-family=\"sans-serif\" font-size=\"13\" lengthAdjust=\"spacingAndGlyphs\" textLength=\"8\" x=\"487.3264\" y=\"241.8709\">1</text></a><!--MD5=[185131fc0dcab0a4505a2ebe144e961b]\n",
       "link E4 to E2--><a href=\"psysml:9a27f54b-62e8-4ed3-8ffb-179b9354440f\" target=\"_top\" title=\"psysml:9a27f54b-62e8-4ed3-8ffb-179b9354440f\" xlink:actuate=\"onRequest\" xlink:href=\"psysml:9a27f54b-62e8-4ed3-8ffb-179b9354440f\" xlink:show=\"new\" xlink:title=\"psysml:9a27f54b-62e8-4ed3-8ffb-179b9354440f\" xlink:type=\"simple\"><path d=\"M465.78,289.29 C457.07,294.33 449,299 449,299 C449,299 363.58,334.92 305.81,359.21 \" fill=\"none\" id=\"E4-&gt;E2\" style=\"stroke: #383838; stroke-width: 1.0;\"/><polygon fill=\"#FFFFFF\" points=\"287.08,367.09,301.8799,353.2711,307.3078,366.1761,287.08,367.09\" style=\"stroke: #383838; stroke-width: 1.0;\"/><ellipse cx=\"307.9095\" cy=\"352.9047\" fill=\"#383838\" rx=\"2\" ry=\"2\" style=\"stroke: #383838; stroke-width: 1.0;\"/><ellipse cx=\"311.7866\" cy=\"362.1226\" fill=\"#383838\" rx=\"2\" ry=\"2\" style=\"stroke: #383838; stroke-width: 1.0;\"/></a><!--MD5=[191cde3d490a3f6d7bb551fe3ddca469]\n",
       "reverse link E3 to E5--><a href=\"psysml:0c237cb0-b529-413c-8aaf-d2f6ce3a1092\" target=\"_top\" title=\"psysml:0c237cb0-b529-413c-8aaf-d2f6ce3a1092\" xlink:actuate=\"onRequest\" xlink:href=\"psysml:0c237cb0-b529-413c-8aaf-d2f6ce3a1092\" xlink:show=\"new\" xlink:title=\"psysml:0c237cb0-b529-413c-8aaf-d2f6ce3a1092\" xlink:type=\"simple\"><path d=\"M536.72,205.03 C543.54,220.78 551.45,239.06 557.47,252.98 \" fill=\"none\" id=\"E3&lt;-E5\" style=\"stroke: #383838; stroke-width: 1.0;\"/><polygon fill=\"#FFFFFF\" points=\"531.54,193.06,530.2495,200.1547,536.302,204.0747,537.5926,196.98,531.54,193.06\" style=\"stroke: #383838; stroke-width: 1.0;\"/><text fill=\"#000000\" font-family=\"sans-serif\" font-size=\"13\" lengthAdjust=\"spacingAndGlyphs\" textLength=\"8\" x=\"545.8338\" y=\"241.8709\">1</text></a><!--MD5=[3f50a3473f1dfb74d3f76443e03635af]\n",
       "reverse link E6 to E7--><a href=\"psysml:b94a6cc2-6585-4221-b4bd-c6e1360a7593\" target=\"_top\" title=\"psysml:b94a6cc2-6585-4221-b4bd-c6e1360a7593\" xlink:actuate=\"onRequest\" xlink:href=\"psysml:b94a6cc2-6585-4221-b4bd-c6e1360a7593\" xlink:show=\"new\" xlink:title=\"psysml:b94a6cc2-6585-4221-b4bd-c6e1360a7593\" xlink:type=\"simple\"><path d=\"M333.59,206.44 C332.11,221.87 330.42,239.47 329.12,252.98 \" fill=\"none\" id=\"E6&lt;-E7\" style=\"stroke: #383838; stroke-width: 1.0;\"/><polygon fill=\"#FFFFFF\" points=\"334.88,193.06,330.3242,198.6497,333.7317,205.0049,338.2875,199.4152,334.88,193.06\" style=\"stroke: #383838; stroke-width: 1.0;\"/><text fill=\"#000000\" font-family=\"sans-serif\" font-size=\"13\" lengthAdjust=\"spacingAndGlyphs\" textLength=\"8\" x=\"320.6148\" y=\"241.8709\">1</text></a><!--MD5=[583832df87f4419a098336a29a52fa00]\n",
       "link E7 to E2--><a href=\"psysml:6c7ecdb4-3704-4141-b5eb-90be274661d4\" target=\"_top\" title=\"psysml:6c7ecdb4-3704-4141-b5eb-90be274661d4\" xlink:actuate=\"onRequest\" xlink:href=\"psysml:6c7ecdb4-3704-4141-b5eb-90be274661d4\" xlink:show=\"new\" xlink:title=\"psysml:6c7ecdb4-3704-4141-b5eb-90be274661d4\" xlink:type=\"simple\"><path d=\"M311.52,299.06 C302.71,311.6 291.43,327.68 281.19,342.26 \" fill=\"none\" id=\"E7-&gt;E2\" style=\"stroke: #383838; stroke-width: 1.0;\"/><polygon fill=\"#FFFFFF\" points=\"269.46,358.98,274.6532,339.4088,286.1093,347.4561,269.46,358.98\" style=\"stroke: #383838; stroke-width: 1.0;\"/><ellipse cx=\"279.5662\" cy=\"335.8942\" fill=\"#383838\" rx=\"2\" ry=\"2\" style=\"stroke: #383838; stroke-width: 1.0;\"/><ellipse cx=\"287.7491\" cy=\"341.6422\" fill=\"#383838\" rx=\"2\" ry=\"2\" style=\"stroke: #383838; stroke-width: 1.0;\"/></a><!--MD5=[f4cf0736d43fd73c4ef68817c49d37d5]\n",
       "reverse link E6 to E8--><a href=\"psysml:c893fa2e-0043-44e8-be45-2077001790d0\" target=\"_top\" title=\"psysml:c893fa2e-0043-44e8-be45-2077001790d0\" xlink:actuate=\"onRequest\" xlink:href=\"psysml:c893fa2e-0043-44e8-be45-2077001790d0\" xlink:show=\"new\" xlink:title=\"psysml:c893fa2e-0043-44e8-be45-2077001790d0\" xlink:type=\"simple\"><path d=\"M359.27,204.09 C370.02,220.06 382.62,238.78 392.18,252.98 \" fill=\"none\" id=\"E6&lt;-E8\" style=\"stroke: #383838; stroke-width: 1.0;\"/><polygon fill=\"#FFFFFF\" points=\"351.85,193.06,351.8808,200.271,358.5489,203.0161,358.5182,195.8051,351.85,193.06\" style=\"stroke: #383838; stroke-width: 1.0;\"/><text fill=\"#000000\" font-family=\"sans-serif\" font-size=\"13\" lengthAdjust=\"spacingAndGlyphs\" textLength=\"8\" x=\"379.1221\" y=\"241.8709\">1</text></a><!--MD5=[23ac544a70576c3e717098101004234c]\n",
       "reverse link E9 to E10--><a href=\"psysml:3723b58c-a4dd-4ef3-9a79-2a659572d83c\" target=\"_top\" title=\"psysml:3723b58c-a4dd-4ef3-9a79-2a659572d83c\" xlink:actuate=\"onRequest\" xlink:href=\"psysml:3723b58c-a4dd-4ef3-9a79-2a659572d83c\" xlink:show=\"new\" xlink:title=\"psysml:3723b58c-a4dd-4ef3-9a79-2a659572d83c\" xlink:type=\"simple\"><path d=\"M184.92,205.96 C180.89,221.51 176.26,239.33 172.72,252.98 \" fill=\"none\" id=\"E9&lt;-E10\" style=\"stroke: #383838; stroke-width: 1.0;\"/><polygon fill=\"#FFFFFF\" points=\"188.27,193.06,182.8943,197.8665,185.2635,204.6773,190.6392,199.8708,188.27,193.06\" style=\"stroke: #383838; stroke-width: 1.0;\"/><text fill=\"#000000\" font-family=\"sans-serif\" font-size=\"13\" lengthAdjust=\"spacingAndGlyphs\" textLength=\"8\" x=\"165.1823\" y=\"241.8709\">1</text></a><!--MD5=[0f36bececdf0dff6e600d6f64214b0f1]\n",
       "link E10 to E2--><a href=\"psysml:8c7a6e5c-2c0e-473c-a2c4-4062964bb416\" target=\"_top\" title=\"psysml:8c7a6e5c-2c0e-473c-a2c4-4062964bb416\" xlink:actuate=\"onRequest\" xlink:href=\"psysml:8c7a6e5c-2c0e-473c-a2c4-4062964bb416\" xlink:show=\"new\" xlink:title=\"psysml:8c7a6e5c-2c0e-473c-a2c4-4062964bb416\" xlink:type=\"simple\"><path d=\"M185.45,299.06 C196.18,311.88 209.99,328.39 222.4,343.22 \" fill=\"none\" id=\"E10-&gt;E2\" style=\"stroke: #383838; stroke-width: 1.0;\"/><polygon fill=\"#FFFFFF\" points=\"235.58,358.98,218.0168,348.9036,228.7522,339.9174,235.58,358.98\" style=\"stroke: #383838; stroke-width: 1.0;\"/><ellipse cx=\"215.8918\" cy=\"343.249\" fill=\"#383838\" rx=\"2\" ry=\"2\" style=\"stroke: #383838; stroke-width: 1.0;\"/><ellipse cx=\"223.5599\" cy=\"336.8303\" fill=\"#383838\" rx=\"2\" ry=\"2\" style=\"stroke: #383838; stroke-width: 1.0;\"/></a><!--MD5=[1fc04a95fd77ad5ce46c1a3027516051]\n",
       "reverse link E9 to E11--><a href=\"psysml:05b52cb0-1bec-4ecb-a4ba-b6e0a5fd36fa\" target=\"_top\" title=\"psysml:05b52cb0-1bec-4ecb-a4ba-b6e0a5fd36fa\" xlink:actuate=\"onRequest\" xlink:href=\"psysml:05b52cb0-1bec-4ecb-a4ba-b6e0a5fd36fa\" xlink:show=\"new\" xlink:title=\"psysml:05b52cb0-1bec-4ecb-a4ba-b6e0a5fd36fa\" xlink:type=\"simple\"><path d=\"M211.34,205.03 C219.37,220.78 228.68,239.06 235.78,252.98 \" fill=\"none\" id=\"E9&lt;-E11\" style=\"stroke: #383838; stroke-width: 1.0;\"/><polygon fill=\"#FFFFFF\" points=\"205.24,193.06,204.3983,200.2218,210.6855,203.7533,211.5272,196.5915,205.24,193.06\" style=\"stroke: #383838; stroke-width: 1.0;\"/><text fill=\"#000000\" font-family=\"sans-serif\" font-size=\"13\" lengthAdjust=\"spacingAndGlyphs\" textLength=\"8\" x=\"223.6896\" y=\"241.8709\">1</text></a><!--MD5=[062ed86c389d1a88f61c6380d0491e17]\n",
       "reverse link E12 to E13--><a href=\"psysml:2ea9f126-2045-475e-98b2-0bebbeaf39ba\" target=\"_top\" title=\"psysml:2ea9f126-2045-475e-98b2-0bebbeaf39ba\" xlink:actuate=\"onRequest\" xlink:href=\"psysml:2ea9f126-2045-475e-98b2-0bebbeaf39ba\" xlink:show=\"new\" xlink:title=\"psysml:2ea9f126-2045-475e-98b2-0bebbeaf39ba\" xlink:type=\"simple\"><path d=\"M80,100.44 C80,115.87 80,133.47 80,146.98 \" fill=\"none\" id=\"E12&lt;-E13\" style=\"stroke: #383838; stroke-width: 1.0;\"/><polygon fill=\"#383838\" points=\"80,87.06,76,93.06,80,99.06,84,93.06,80,87.06\" style=\"stroke: #383838; stroke-width: 1.0;\"/><text fill=\"#000000\" font-family=\"sans-serif\" font-size=\"13\" lengthAdjust=\"spacingAndGlyphs\" textLength=\"8\" x=\"70.925\" y=\"135.8709\">1</text></a><!--MD5=[01db00f33b28669d6d9febea71002831]\n",
       "reverse link E13 to E14--><a href=\"psysml:56644651-1cff-4e4b-add6-5aaf4cbf3323\" target=\"_top\" title=\"psysml:56644651-1cff-4e4b-add6-5aaf4cbf3323\" xlink:actuate=\"onRequest\" xlink:href=\"psysml:56644651-1cff-4e4b-add6-5aaf4cbf3323\" xlink:show=\"new\" xlink:title=\"psysml:56644651-1cff-4e4b-add6-5aaf4cbf3323\" xlink:type=\"simple\"><path d=\"M83.41,206.44 C84.89,221.87 86.58,239.47 87.88,252.98 \" fill=\"none\" id=\"E13&lt;-E14\" style=\"stroke: #383838; stroke-width: 1.0;\"/><polygon fill=\"#FFFFFF\" points=\"82.12,193.06,78.7125,199.4152,83.2683,205.0049,86.6758,198.6497,82.12,193.06\" style=\"stroke: #383838; stroke-width: 1.0;\"/><text fill=\"#000000\" font-family=\"sans-serif\" font-size=\"13\" lengthAdjust=\"spacingAndGlyphs\" textLength=\"8\" x=\"78.2353\" y=\"241.8709\">1</text></a><!--MD5=[e5566ac99d7714697a7fbc17f6b550fe]\n",
       "link E14 to E2--><a href=\"psysml:004f1bd4-f46a-4fc3-b446-5abbd305cc50\" target=\"_top\" title=\"psysml:004f1bd4-f46a-4fc3-b446-5abbd305cc50\" xlink:actuate=\"onRequest\" xlink:href=\"psysml:004f1bd4-f46a-4fc3-b446-5abbd305cc50\" xlink:show=\"new\" xlink:title=\"psysml:004f1bd4-f46a-4fc3-b446-5abbd305cc50\" xlink:type=\"simple\"><path d=\"M111.1,290.38 C134.32,305.1 172.45,329.29 203.49,348.97 \" fill=\"none\" id=\"E14-&gt;E2\" style=\"stroke: #383838; stroke-width: 1.0;\"/><polygon fill=\"#FFFFFF\" points=\"220.77,359.93,200.9767,355.661,208.4774,343.8399,220.77,359.93\" style=\"stroke: #383838; stroke-width: 1.0;\"/><ellipse cx=\"197.2353\" cy=\"350.9184\" fill=\"#383838\" rx=\"2\" ry=\"2\" style=\"stroke: #383838; stroke-width: 1.0;\"/><ellipse cx=\"202.593\" cy=\"342.4748\" fill=\"#383838\" rx=\"2\" ry=\"2\" style=\"stroke: #383838; stroke-width: 1.0;\"/></a><!--MD5=[e9a5e828c71fd2209a11a152f562d491]\n",
       "reverse link E13 to E15--><a href=\"psysml:439c4bcd-5bf6-4395-bbdb-0df2330c2504\" target=\"_top\" title=\"psysml:439c4bcd-5bf6-4395-bbdb-0df2330c2504\" xlink:actuate=\"onRequest\" xlink:href=\"psysml:439c4bcd-5bf6-4395-bbdb-0df2330c2504\" xlink:show=\"new\" xlink:title=\"psysml:439c4bcd-5bf6-4395-bbdb-0df2330c2504\" xlink:type=\"simple\"><path d=\"M68.14,205.73 C60.51,228.09 52,253 52,253 C52,253 52,299 52,299 C52,299 68.37,334.31 79.62,358.59 \" fill=\"none\" id=\"E13&lt;-E15\" style=\"stroke: #383838; stroke-width: 1.0;\"/><polygon fill=\"#FFFFFF\" points=\"72.35,193.41,66.6257,197.7955,68.4723,204.7662,74.1965,200.3807,72.35,193.41\" style=\"stroke: #383838; stroke-width: 1.0;\"/><text fill=\"#000000\" font-family=\"sans-serif\" font-size=\"13\" lengthAdjust=\"spacingAndGlyphs\" textLength=\"8\" x=\"67.9351\" y=\"347.7612\">1</text></a><!--MD5=[3afbdc645381407e1bc99677323a2513]\n",
       "link E14 to E15--><a href=\"psysml:356465e0-8362-42f7-8017-4c1d57dccd42\" target=\"_top\" title=\"psysml:356465e0-8362-42f7-8017-4c1d57dccd42\" xlink:actuate=\"onRequest\" xlink:href=\"psysml:356465e0-8362-42f7-8017-4c1d57dccd42\" xlink:show=\"new\" xlink:title=\"psysml:356465e0-8362-42f7-8017-4c1d57dccd42\" xlink:type=\"simple\"><path d=\"M79.35,299.06 C76.55,316.7 76.55,341.34 79.36,358.98 \" fill=\"none\" id=\"E14-E15\" style=\"stroke: #383838; stroke-width: 3.0;\"/></a><!--MD5=[3afbdc645381407e1bc99677323a2513]\n",
       "link E14 to E15--><a href=\"psysml:be002053-3eab-4239-b4ec-f62d8ddd6fa6\" target=\"_top\" title=\"psysml:be002053-3eab-4239-b4ec-f62d8ddd6fa6\" xlink:actuate=\"onRequest\" xlink:href=\"psysml:be002053-3eab-4239-b4ec-f62d8ddd6fa6\" xlink:show=\"new\" xlink:title=\"psysml:be002053-3eab-4239-b4ec-f62d8ddd6fa6\" xlink:type=\"simple\"><path d=\"M101.27,299.06 C104.24,316.7 104.24,341.34 101.27,358.98 \" fill=\"none\" id=\"E14-E15-1\" style=\"stroke: #383838; stroke-width: 3.0;\"/></a><!--MD5=[9fa2062ea0169063908c8d90e1d5ba0a]\n",
       "@startuml\r\n",
       "skinparam linetype polyline\r\n",
       "skinparam monochrome true\r\n",
       "skinparam classbackgroundcolor white\r\n",
       "skinparam shadowing false\r\n",
       "skinparam wrapWidth 300\r\n",
       "hide circle\r\n",
       "\r\n",
       "package \"ConjugationTest\" as E1  [[psysml:811d2e93-771a-4206-9534-119b2782ed8b ]]  {\r\n",
       "comp def \"P\" as E2  <<(T,blue) port def>> [[psysml:a118eece-ff6c-41b4-a8ec-63007fd81e06 ]] {\r\n",
       "}\r\n",
       "comp def \"B\" as E3  <<(T,blue) part def>> [[psysml:45f3428f-90c5-481c-8b5b-6d42a9c9ecb4 ]] {\r\n",
       "}\r\n",
       "comp usage \"p1: P\" as E4  <<(T,blue) port>> [[psysml:f10162e3-9121-4423-8c61-28bf75aadc9a ]] {\r\n",
       "}\r\n",
       "comp usage \"p2: ~P\" as E5  <<(T,blue) port>> [[psysml:f793b08e-b132-4869-8396-6344384571c9 ]] {\r\n",
       "}\r\n",
       "comp def \"A\" as E6  <<(T,blue) connection def>> [[psysml:1e44cf6a-fe6c-483a-98ee-7c5816e24c4f ]] {\r\n",
       "}\r\n",
       "comp usage \"p1: P\" as E7  <<(T,blue) port>> [[psysml:592da980-ebcc-4bfb-b89f-9a898fd7b408 ]] {\r\n",
       "}\r\n",
       "comp usage \"p2: ~P\" as E8  <<(T,blue) port>> [[psysml:4730362b-6892-4b61-8b08-4b1eb3a58a19 ]] {\r\n",
       "}\r\n",
       "comp def \"I\" as E9  <<(T,blue) interface def>> [[psysml:c589f335-4cab-4324-b073-03ca89b55f7d ]] {\r\n",
       "}\r\n",
       "comp usage \"p1: P\" as E10  <<(T,blue) port>> [[psysml:0a18d135-3a15-4f1e-a48b-3983b85e55aa ]] {\r\n",
       "}\r\n",
       "comp usage \"p2: ~P\" as E11  <<(T,blue) port>> [[psysml:f0ebefc1-580e-4b11-b9cf-e3cb40b874a3 ]] {\r\n",
       "}\r\n",
       "comp def \"B1\" as E12  <<(T,blue) part def>> [[psysml:99d6c811-1239-4557-8bf5-512a2d9b51f5 ]] {\r\n",
       "}\r\n",
       "comp usage \"p\" as E13  <<(T,blue) part>> [[psysml:c80e6282-4b88-42a6-beea-d83b68d36327 ]] {\r\n",
       "}\r\n",
       "comp usage \"p1: P\" as E14  <<(T,blue) port>> [[psysml:36fdd18b-cc96-4106-b803-027f179d9fab ]] {\r\n",
       "}\r\n",
       "comp usage \"p2: ~P\" as E15  <<(T,blue) port>> [[psysml:a04d4130-2616-430e-82e5-4df6c3f344d5 ]] {\r\n",
       "}\r\n",
       "}\r\n",
       "E3 o- - \"1\"E4 [[psysml:478537c4-9aea-45e7-93bf-51b2f99f76d0 ]] \r\n",
       "E4 - -:|> E2 [[psysml:9a27f54b-62e8-4ed3-8ffb-179b9354440f ]] \r\n",
       "E3 o- - \"1\"E5 [[psysml:0c237cb0-b529-413c-8aaf-d2f6ce3a1092 ]] \r\n",
       "E6 o- - \"1\"E7 [[psysml:b94a6cc2-6585-4221-b4bd-c6e1360a7593 ]] \r\n",
       "E7 - -:|> E2 [[psysml:6c7ecdb4-3704-4141-b5eb-90be274661d4 ]] \r\n",
       "E6 o- - \"1\"E8 [[psysml:c893fa2e-0043-44e8-be45-2077001790d0 ]] \r\n",
       "E9 o- - \"1\"E10 [[psysml:3723b58c-a4dd-4ef3-9a79-2a659572d83c ]] \r\n",
       "E10 - -:|> E2 [[psysml:8c7a6e5c-2c0e-473c-a2c4-4062964bb416 ]] \r\n",
       "E9 o- - \"1\"E11 [[psysml:05b52cb0-1bec-4ecb-a4ba-b6e0a5fd36fa ]] \r\n",
       "E12 *- - \"1\"E13 [[psysml:2ea9f126-2045-475e-98b2-0bebbeaf39ba ]] \r\n",
       "E13 o- - \"1\"E14 [[psysml:56644651-1cff-4e4b-add6-5aaf4cbf3323 ]] \r\n",
       "E14 - -:|> E2 [[psysml:004f1bd4-f46a-4fc3-b446-5abbd305cc50 ]] \r\n",
       "E13 o- - \"1\"E15 [[psysml:439c4bcd-5bf6-4395-bbdb-0df2330c2504 ]] \r\n",
       "E14 -[thickness=3]- E15 [[psysml:356465e0-8362-42f7-8017-4c1d57dccd42 ]] \r\n",
       "E14 -[thickness=3]- E15 [[psysml:be002053-3eab-4239-b4ec-f62d8ddd6fa6 ]] \r\n",
       "@enduml\r\n",
       "\n",
       "PlantUML version 1.2020.13(Sat Jun 13 12:26:38 UTC 2020)\n",
       "(EPL source distribution)\n",
       "Java Runtime: OpenJDK Runtime Environment\n",
       "JVM: OpenJDK 64-Bit Server VM\n",
       "Default Encoding: UTF-8\n",
       "Language: en\n",
       "Country: null\n",
       "--></g></svg>"
      ]
     },
     "execution_count": 9,
     "metadata": {},
     "output_type": "execute_result"
    }
   ],
   "source": [
    "%viz --style=\"POLYLINE\" --view=\"Default\" \"ConjugationTest\""
   ]
  },
  {
   "cell_type": "code",
   "execution_count": 10,
   "id": "2f996b8a",
   "metadata": {
    "execution": {
     "iopub.execute_input": "2021-10-03T08:28:05.458986Z",
     "iopub.status.busy": "2021-10-03T08:28:05.458744Z",
     "iopub.status.idle": "2021-10-03T08:28:05.529253Z",
     "shell.execute_reply": "2021-10-03T08:28:05.526335Z"
    }
   },
   "outputs": [
    {
     "data": {
      "image/svg+xml": [
       "<?xml version=\"1.0\" encoding=\"UTF-8\" standalone=\"no\"?><svg xmlns=\"http://www.w3.org/2000/svg\" xmlns:xlink=\"http://www.w3.org/1999/xlink\" contentScriptType=\"application/ecmascript\" contentStyleType=\"text/css\" height=\"433px\" preserveAspectRatio=\"none\" style=\"width:629px;height:433px;\" version=\"1.1\" viewBox=\"0 0 629 433\" width=\"629px\" zoomAndPan=\"magnify\"><defs/><g><!--MD5=[fbc87193dbaf4d95561dea2c320d4a47]\n",
       "cluster E1--><a href=\"psysml:811d2e93-771a-4206-9534-119b2782ed8b\" target=\"_top\" title=\"psysml:811d2e93-771a-4206-9534-119b2782ed8b\" xlink:actuate=\"onRequest\" xlink:href=\"psysml:811d2e93-771a-4206-9534-119b2782ed8b\" xlink:show=\"new\" xlink:title=\"psysml:811d2e93-771a-4206-9534-119b2782ed8b\" xlink:type=\"simple\"><polygon fill=\"#FFFFFF\" points=\"16,6,136,6,143,28.2969,607,28.2969,607,421,16,421,16,6\" style=\"stroke: #000000; stroke-width: 1.5;\"/><line style=\"stroke: #000000; stroke-width: 1.5;\" x1=\"16\" x2=\"143\" y1=\"28.2969\" y2=\"28.2969\"/><text fill=\"#000000\" font-family=\"sans-serif\" font-size=\"14\" font-weight=\"bold\" lengthAdjust=\"spacingAndGlyphs\" textLength=\"114\" x=\"20\" y=\"20.9951\">ConjugationTest</text></a><!--MD5=[b4997ac47864f28c2f74865a473b2911]\n",
       "class E2--><a href=\"psysml:a118eece-ff6c-41b4-a8ec-63007fd81e06\" target=\"_top\" title=\"psysml:a118eece-ff6c-41b4-a8ec-63007fd81e06\" xlink:actuate=\"onRequest\" xlink:href=\"psysml:a118eece-ff6c-41b4-a8ec-63007fd81e06\" xlink:show=\"new\" xlink:title=\"psysml:a118eece-ff6c-41b4-a8ec-63007fd81e06\" xlink:type=\"simple\"><rect fill=\"#FFFFFF\" height=\"45.9375\" id=\"E2\" style=\"stroke: #383838; stroke-width: 1.5;\" width=\"66\" x=\"221\" y=\"359\"/><text fill=\"#000000\" font-family=\"sans-serif\" font-size=\"12\" font-style=\"italic\" lengthAdjust=\"spacingAndGlyphs\" textLength=\"64\" x=\"222\" y=\"375.1387\">«port def»</text><text fill=\"#000000\" font-family=\"sans-serif\" font-size=\"12\" lengthAdjust=\"spacingAndGlyphs\" textLength=\"8\" x=\"250\" y=\"389.1074\">P</text><line style=\"stroke: #383838; stroke-width: 1.5;\" x1=\"222\" x2=\"286\" y1=\"396.9375\" y2=\"396.9375\"/></a><!--MD5=[09b614a08d8cba4a07c9adeb5e0fee81]\n",
       "class E3--><a href=\"psysml:45f3428f-90c5-481c-8b5b-6d42a9c9ecb4\" target=\"_top\" title=\"psysml:45f3428f-90c5-481c-8b5b-6d42a9c9ecb4\" xlink:actuate=\"onRequest\" xlink:href=\"psysml:45f3428f-90c5-481c-8b5b-6d42a9c9ecb4\" xlink:show=\"new\" xlink:title=\"psysml:45f3428f-90c5-481c-8b5b-6d42a9c9ecb4\" xlink:type=\"simple\"><rect fill=\"#FFFFFF\" height=\"45.9375\" id=\"E3\" style=\"stroke: #383838; stroke-width: 1.5;\" width=\"66\" x=\"489\" y=\"147\"/><text fill=\"#000000\" font-family=\"sans-serif\" font-size=\"12\" font-style=\"italic\" lengthAdjust=\"spacingAndGlyphs\" textLength=\"64\" x=\"490\" y=\"163.1387\">«part def»</text><text fill=\"#000000\" font-family=\"sans-serif\" font-size=\"12\" lengthAdjust=\"spacingAndGlyphs\" textLength=\"8\" x=\"518\" y=\"177.1074\">B</text><line style=\"stroke: #383838; stroke-width: 1.5;\" x1=\"490\" x2=\"554\" y1=\"184.9375\" y2=\"184.9375\"/></a><!--MD5=[ebbe1d658d1005bcc118a6aa81145e00]\n",
       "class E4--><a href=\"psysml:f10162e3-9121-4423-8c61-28bf75aadc9a\" target=\"_top\" title=\"psysml:f10162e3-9121-4423-8c61-28bf75aadc9a\" xlink:actuate=\"onRequest\" xlink:href=\"psysml:f10162e3-9121-4423-8c61-28bf75aadc9a\" xlink:show=\"new\" xlink:title=\"psysml:f10162e3-9121-4423-8c61-28bf75aadc9a\" xlink:type=\"simple\"><rect fill=\"#FFFFFF\" height=\"45.9375\" id=\"E4\" rx=\"10\" ry=\"10\" style=\"stroke: #383838; stroke-width: 1.5;\" width=\"42\" x=\"466\" y=\"253\"/><text fill=\"#000000\" font-family=\"sans-serif\" font-size=\"12\" font-style=\"italic\" lengthAdjust=\"spacingAndGlyphs\" textLength=\"40\" x=\"467\" y=\"269.1387\">«port»</text><text fill=\"#000000\" font-family=\"sans-serif\" font-size=\"12\" lengthAdjust=\"spacingAndGlyphs\" textLength=\"32\" x=\"471\" y=\"283.1074\">p1: P</text><line style=\"stroke: #383838; stroke-width: 1.5;\" x1=\"467\" x2=\"507\" y1=\"290.9375\" y2=\"290.9375\"/></a><!--MD5=[270fce915f116d4de14055a7c1d9a0f3]\n",
       "class E5--><a href=\"psysml:f793b08e-b132-4869-8396-6344384571c9\" target=\"_top\" title=\"psysml:f793b08e-b132-4869-8396-6344384571c9\" xlink:actuate=\"onRequest\" xlink:href=\"psysml:f793b08e-b132-4869-8396-6344384571c9\" xlink:show=\"new\" xlink:title=\"psysml:f793b08e-b132-4869-8396-6344384571c9\" xlink:type=\"simple\"><rect fill=\"#FFFFFF\" height=\"45.9375\" id=\"E5\" rx=\"10\" ry=\"10\" style=\"stroke: #383838; stroke-width: 1.5;\" width=\"48\" x=\"543\" y=\"253\"/><text fill=\"#000000\" font-family=\"sans-serif\" font-size=\"12\" font-style=\"italic\" lengthAdjust=\"spacingAndGlyphs\" textLength=\"40\" x=\"547\" y=\"269.1387\">«port»</text><text fill=\"#000000\" font-family=\"sans-serif\" font-size=\"12\" lengthAdjust=\"spacingAndGlyphs\" textLength=\"42\" x=\"546\" y=\"283.1074\">p2: ~P</text><line style=\"stroke: #383838; stroke-width: 1.5;\" x1=\"544\" x2=\"590\" y1=\"290.9375\" y2=\"290.9375\"/></a><!--MD5=[60a26617385b1d2d0262a64233df1f8d]\n",
       "class E6--><a href=\"psysml:1e44cf6a-fe6c-483a-98ee-7c5816e24c4f\" target=\"_top\" title=\"psysml:1e44cf6a-fe6c-483a-98ee-7c5816e24c4f\" xlink:actuate=\"onRequest\" xlink:href=\"psysml:1e44cf6a-fe6c-483a-98ee-7c5816e24c4f\" xlink:show=\"new\" xlink:title=\"psysml:1e44cf6a-fe6c-483a-98ee-7c5816e24c4f\" xlink:type=\"simple\"><rect fill=\"#FFFFFF\" height=\"45.9375\" id=\"E6\" style=\"stroke: #383838; stroke-width: 1.5;\" width=\"110\" x=\"282\" y=\"147\"/><text fill=\"#000000\" font-family=\"sans-serif\" font-size=\"12\" font-style=\"italic\" lengthAdjust=\"spacingAndGlyphs\" textLength=\"108\" x=\"283\" y=\"163.1387\">«connection def»</text><text fill=\"#000000\" font-family=\"sans-serif\" font-size=\"12\" lengthAdjust=\"spacingAndGlyphs\" textLength=\"8\" x=\"333\" y=\"177.1074\">A</text><line style=\"stroke: #383838; stroke-width: 1.5;\" x1=\"283\" x2=\"391\" y1=\"184.9375\" y2=\"184.9375\"/></a><!--MD5=[2156ba9850f5573cc1fc38a6a4b2f02b]\n",
       "class E7--><a href=\"psysml:592da980-ebcc-4bfb-b89f-9a898fd7b408\" target=\"_top\" title=\"psysml:592da980-ebcc-4bfb-b89f-9a898fd7b408\" xlink:actuate=\"onRequest\" xlink:href=\"psysml:592da980-ebcc-4bfb-b89f-9a898fd7b408\" xlink:show=\"new\" xlink:title=\"psysml:592da980-ebcc-4bfb-b89f-9a898fd7b408\" xlink:type=\"simple\"><rect fill=\"#FFFFFF\" height=\"45.9375\" id=\"E7\" rx=\"10\" ry=\"10\" style=\"stroke: #383838; stroke-width: 1.5;\" width=\"42\" x=\"306\" y=\"253\"/><text fill=\"#000000\" font-family=\"sans-serif\" font-size=\"12\" font-style=\"italic\" lengthAdjust=\"spacingAndGlyphs\" textLength=\"40\" x=\"307\" y=\"269.1387\">«port»</text><text fill=\"#000000\" font-family=\"sans-serif\" font-size=\"12\" lengthAdjust=\"spacingAndGlyphs\" textLength=\"32\" x=\"311\" y=\"283.1074\">p1: P</text><line style=\"stroke: #383838; stroke-width: 1.5;\" x1=\"307\" x2=\"347\" y1=\"290.9375\" y2=\"290.9375\"/></a><!--MD5=[b9389687b975829384b498ac4b7476b2]\n",
       "class E8--><a href=\"psysml:4730362b-6892-4b61-8b08-4b1eb3a58a19\" target=\"_top\" title=\"psysml:4730362b-6892-4b61-8b08-4b1eb3a58a19\" xlink:actuate=\"onRequest\" xlink:href=\"psysml:4730362b-6892-4b61-8b08-4b1eb3a58a19\" xlink:show=\"new\" xlink:title=\"psysml:4730362b-6892-4b61-8b08-4b1eb3a58a19\" xlink:type=\"simple\"><rect fill=\"#FFFFFF\" height=\"45.9375\" id=\"E8\" rx=\"10\" ry=\"10\" style=\"stroke: #383838; stroke-width: 1.5;\" width=\"48\" x=\"383\" y=\"253\"/><text fill=\"#000000\" font-family=\"sans-serif\" font-size=\"12\" font-style=\"italic\" lengthAdjust=\"spacingAndGlyphs\" textLength=\"40\" x=\"387\" y=\"269.1387\">«port»</text><text fill=\"#000000\" font-family=\"sans-serif\" font-size=\"12\" lengthAdjust=\"spacingAndGlyphs\" textLength=\"42\" x=\"386\" y=\"283.1074\">p2: ~P</text><line style=\"stroke: #383838; stroke-width: 1.5;\" x1=\"384\" x2=\"430\" y1=\"290.9375\" y2=\"290.9375\"/></a><!--MD5=[fd4143e9d270a159db93a4ea2a975926]\n",
       "class E9--><a href=\"psysml:c589f335-4cab-4324-b073-03ca89b55f7d\" target=\"_top\" title=\"psysml:c589f335-4cab-4324-b073-03ca89b55f7d\" xlink:actuate=\"onRequest\" xlink:href=\"psysml:c589f335-4cab-4324-b073-03ca89b55f7d\" xlink:show=\"new\" xlink:title=\"psysml:c589f335-4cab-4324-b073-03ca89b55f7d\" xlink:type=\"simple\"><rect fill=\"#FFFFFF\" height=\"45.9375\" id=\"E9\" style=\"stroke: #383838; stroke-width: 1.5;\" width=\"96\" x=\"146\" y=\"147\"/><text fill=\"#000000\" font-family=\"sans-serif\" font-size=\"12\" font-style=\"italic\" lengthAdjust=\"spacingAndGlyphs\" textLength=\"94\" x=\"147\" y=\"163.1387\">«interface def»</text><text fill=\"#000000\" font-family=\"sans-serif\" font-size=\"12\" lengthAdjust=\"spacingAndGlyphs\" textLength=\"3\" x=\"192.5\" y=\"177.1074\">I</text><line style=\"stroke: #383838; stroke-width: 1.5;\" x1=\"147\" x2=\"241\" y1=\"184.9375\" y2=\"184.9375\"/></a><!--MD5=[96f4274e9e20536e775497830990834d]\n",
       "class E10--><a href=\"psysml:0a18d135-3a15-4f1e-a48b-3983b85e55aa\" target=\"_top\" title=\"psysml:0a18d135-3a15-4f1e-a48b-3983b85e55aa\" xlink:actuate=\"onRequest\" xlink:href=\"psysml:0a18d135-3a15-4f1e-a48b-3983b85e55aa\" xlink:show=\"new\" xlink:title=\"psysml:0a18d135-3a15-4f1e-a48b-3983b85e55aa\" xlink:type=\"simple\"><rect fill=\"#FFFFFF\" height=\"45.9375\" id=\"E10\" rx=\"10\" ry=\"10\" style=\"stroke: #383838; stroke-width: 1.5;\" width=\"42\" x=\"146\" y=\"253\"/><text fill=\"#000000\" font-family=\"sans-serif\" font-size=\"12\" font-style=\"italic\" lengthAdjust=\"spacingAndGlyphs\" textLength=\"40\" x=\"147\" y=\"269.1387\">«port»</text><text fill=\"#000000\" font-family=\"sans-serif\" font-size=\"12\" lengthAdjust=\"spacingAndGlyphs\" textLength=\"32\" x=\"151\" y=\"283.1074\">p1: P</text><line style=\"stroke: #383838; stroke-width: 1.5;\" x1=\"147\" x2=\"187\" y1=\"290.9375\" y2=\"290.9375\"/></a><!--MD5=[1dd1bfd58a279cf63c5f349dbc8fc6a1]\n",
       "class E11--><a href=\"psysml:f0ebefc1-580e-4b11-b9cf-e3cb40b874a3\" target=\"_top\" title=\"psysml:f0ebefc1-580e-4b11-b9cf-e3cb40b874a3\" xlink:actuate=\"onRequest\" xlink:href=\"psysml:f0ebefc1-580e-4b11-b9cf-e3cb40b874a3\" xlink:show=\"new\" xlink:title=\"psysml:f0ebefc1-580e-4b11-b9cf-e3cb40b874a3\" xlink:type=\"simple\"><rect fill=\"#FFFFFF\" height=\"45.9375\" id=\"E11\" rx=\"10\" ry=\"10\" style=\"stroke: #383838; stroke-width: 1.5;\" width=\"48\" x=\"223\" y=\"253\"/><text fill=\"#000000\" font-family=\"sans-serif\" font-size=\"12\" font-style=\"italic\" lengthAdjust=\"spacingAndGlyphs\" textLength=\"40\" x=\"227\" y=\"269.1387\">«port»</text><text fill=\"#000000\" font-family=\"sans-serif\" font-size=\"12\" lengthAdjust=\"spacingAndGlyphs\" textLength=\"42\" x=\"226\" y=\"283.1074\">p2: ~P</text><line style=\"stroke: #383838; stroke-width: 1.5;\" x1=\"224\" x2=\"270\" y1=\"290.9375\" y2=\"290.9375\"/></a><!--MD5=[49a0ec8f00dab7302a31f22d0f0fe584]\n",
       "class E12--><a href=\"psysml:99d6c811-1239-4557-8bf5-512a2d9b51f5\" target=\"_top\" title=\"psysml:99d6c811-1239-4557-8bf5-512a2d9b51f5\" xlink:actuate=\"onRequest\" xlink:href=\"psysml:99d6c811-1239-4557-8bf5-512a2d9b51f5\" xlink:show=\"new\" xlink:title=\"psysml:99d6c811-1239-4557-8bf5-512a2d9b51f5\" xlink:type=\"simple\"><rect fill=\"#FFFFFF\" height=\"45.9375\" id=\"E12\" style=\"stroke: #383838; stroke-width: 1.5;\" width=\"66\" x=\"47\" y=\"41\"/><text fill=\"#000000\" font-family=\"sans-serif\" font-size=\"12\" font-style=\"italic\" lengthAdjust=\"spacingAndGlyphs\" textLength=\"64\" x=\"48\" y=\"57.1387\">«part def»</text><text fill=\"#000000\" font-family=\"sans-serif\" font-size=\"12\" lengthAdjust=\"spacingAndGlyphs\" textLength=\"16\" x=\"72\" y=\"71.1074\">B1</text><line style=\"stroke: #383838; stroke-width: 1.5;\" x1=\"48\" x2=\"112\" y1=\"78.9375\" y2=\"78.9375\"/></a><!--MD5=[ee3c913d1a06f366521f9ef512b67efe]\n",
       "class E13--><a href=\"psysml:c80e6282-4b88-42a6-beea-d83b68d36327\" target=\"_top\" title=\"psysml:c80e6282-4b88-42a6-beea-d83b68d36327\" xlink:actuate=\"onRequest\" xlink:href=\"psysml:c80e6282-4b88-42a6-beea-d83b68d36327\" xlink:show=\"new\" xlink:title=\"psysml:c80e6282-4b88-42a6-beea-d83b68d36327\" xlink:type=\"simple\"><rect fill=\"#FFFFFF\" height=\"45.9375\" id=\"E13\" rx=\"10\" ry=\"10\" style=\"stroke: #383838; stroke-width: 1.5;\" width=\"42\" x=\"59\" y=\"147\"/><text fill=\"#000000\" font-family=\"sans-serif\" font-size=\"12\" font-style=\"italic\" lengthAdjust=\"spacingAndGlyphs\" textLength=\"40\" x=\"60\" y=\"163.1387\">«part»</text><text fill=\"#000000\" font-family=\"sans-serif\" font-size=\"12\" lengthAdjust=\"spacingAndGlyphs\" textLength=\"8\" x=\"76\" y=\"177.1074\">p</text><line style=\"stroke: #383838; stroke-width: 1.5;\" x1=\"60\" x2=\"100\" y1=\"184.9375\" y2=\"184.9375\"/></a><!--MD5=[bee11217b2f71d958a27249dc326068c]\n",
       "class E14--><a href=\"psysml:36fdd18b-cc96-4106-b803-027f179d9fab\" target=\"_top\" title=\"psysml:36fdd18b-cc96-4106-b803-027f179d9fab\" xlink:actuate=\"onRequest\" xlink:href=\"psysml:36fdd18b-cc96-4106-b803-027f179d9fab\" xlink:show=\"new\" xlink:title=\"psysml:36fdd18b-cc96-4106-b803-027f179d9fab\" xlink:type=\"simple\"><rect fill=\"#FFFFFF\" height=\"45.9375\" id=\"E14\" rx=\"10\" ry=\"10\" style=\"stroke: #383838; stroke-width: 1.5;\" width=\"42\" x=\"69\" y=\"253\"/><text fill=\"#000000\" font-family=\"sans-serif\" font-size=\"12\" font-style=\"italic\" lengthAdjust=\"spacingAndGlyphs\" textLength=\"40\" x=\"70\" y=\"269.1387\">«port»</text><text fill=\"#000000\" font-family=\"sans-serif\" font-size=\"12\" lengthAdjust=\"spacingAndGlyphs\" textLength=\"32\" x=\"74\" y=\"283.1074\">p1: P</text><line style=\"stroke: #383838; stroke-width: 1.5;\" x1=\"70\" x2=\"110\" y1=\"290.9375\" y2=\"290.9375\"/></a><!--MD5=[0c48fb7552dae8cbbef69381101a84c8]\n",
       "class E15--><a href=\"psysml:a04d4130-2616-430e-82e5-4df6c3f344d5\" target=\"_top\" title=\"psysml:a04d4130-2616-430e-82e5-4df6c3f344d5\" xlink:actuate=\"onRequest\" xlink:href=\"psysml:a04d4130-2616-430e-82e5-4df6c3f344d5\" xlink:show=\"new\" xlink:title=\"psysml:a04d4130-2616-430e-82e5-4df6c3f344d5\" xlink:type=\"simple\"><rect fill=\"#FFFFFF\" height=\"45.9375\" id=\"E15\" rx=\"10\" ry=\"10\" style=\"stroke: #383838; stroke-width: 1.5;\" width=\"48\" x=\"66\" y=\"359\"/><text fill=\"#000000\" font-family=\"sans-serif\" font-size=\"12\" font-style=\"italic\" lengthAdjust=\"spacingAndGlyphs\" textLength=\"40\" x=\"70\" y=\"375.1387\">«port»</text><text fill=\"#000000\" font-family=\"sans-serif\" font-size=\"12\" lengthAdjust=\"spacingAndGlyphs\" textLength=\"42\" x=\"69\" y=\"389.1074\">p2: ~P</text><line style=\"stroke: #383838; stroke-width: 1.5;\" x1=\"67\" x2=\"113\" y1=\"396.9375\" y2=\"396.9375\"/></a><!--MD5=[4672eba38e49728da53d11aeb285b987]\n",
       "reverse link E3 to E4--><a href=\"psysml:478537c4-9aea-45e7-93bf-51b2f99f76d0\" target=\"_top\" title=\"psysml:478537c4-9aea-45e7-93bf-51b2f99f76d0\" xlink:actuate=\"onRequest\" xlink:href=\"psysml:478537c4-9aea-45e7-93bf-51b2f99f76d0\" xlink:show=\"new\" xlink:title=\"psysml:478537c4-9aea-45e7-93bf-51b2f99f76d0\" xlink:type=\"simple\"><path d=\"M510.39,205.49 C505.12,221.15 499.05,239.19 494.41,252.98 \" fill=\"none\" id=\"E3&lt;-E4\" style=\"stroke: #383838; stroke-width: 1.0;\"/><polygon fill=\"#FFFFFF\" points=\"514.58,193.06,508.8756,197.4713,510.7536,204.4336,516.458,200.0223,514.58,193.06\" style=\"stroke: #383838; stroke-width: 1.0;\"/><text fill=\"#000000\" font-family=\"sans-serif\" font-size=\"13\" lengthAdjust=\"spacingAndGlyphs\" textLength=\"8\" x=\"487.3264\" y=\"241.8709\">1</text></a><!--MD5=[185131fc0dcab0a4505a2ebe144e961b]\n",
       "link E4 to E2--><a href=\"psysml:9a27f54b-62e8-4ed3-8ffb-179b9354440f\" target=\"_top\" title=\"psysml:9a27f54b-62e8-4ed3-8ffb-179b9354440f\" xlink:actuate=\"onRequest\" xlink:href=\"psysml:9a27f54b-62e8-4ed3-8ffb-179b9354440f\" xlink:show=\"new\" xlink:title=\"psysml:9a27f54b-62e8-4ed3-8ffb-179b9354440f\" xlink:type=\"simple\"><path d=\"M465.78,289.29 C457.07,294.33 449,299 449,299 C449,299 363.58,334.92 305.81,359.21 \" fill=\"none\" id=\"E4-&gt;E2\" style=\"stroke: #383838; stroke-width: 1.0;\"/><polygon fill=\"#FFFFFF\" points=\"287.08,367.09,301.8799,353.2711,307.3078,366.1761,287.08,367.09\" style=\"stroke: #383838; stroke-width: 1.0;\"/><ellipse cx=\"307.9095\" cy=\"352.9047\" fill=\"#383838\" rx=\"2\" ry=\"2\" style=\"stroke: #383838; stroke-width: 1.0;\"/><ellipse cx=\"311.7866\" cy=\"362.1226\" fill=\"#383838\" rx=\"2\" ry=\"2\" style=\"stroke: #383838; stroke-width: 1.0;\"/></a><!--MD5=[191cde3d490a3f6d7bb551fe3ddca469]\n",
       "reverse link E3 to E5--><a href=\"psysml:0c237cb0-b529-413c-8aaf-d2f6ce3a1092\" target=\"_top\" title=\"psysml:0c237cb0-b529-413c-8aaf-d2f6ce3a1092\" xlink:actuate=\"onRequest\" xlink:href=\"psysml:0c237cb0-b529-413c-8aaf-d2f6ce3a1092\" xlink:show=\"new\" xlink:title=\"psysml:0c237cb0-b529-413c-8aaf-d2f6ce3a1092\" xlink:type=\"simple\"><path d=\"M536.72,205.03 C543.54,220.78 551.45,239.06 557.47,252.98 \" fill=\"none\" id=\"E3&lt;-E5\" style=\"stroke: #383838; stroke-width: 1.0;\"/><polygon fill=\"#FFFFFF\" points=\"531.54,193.06,530.2495,200.1547,536.302,204.0747,537.5926,196.98,531.54,193.06\" style=\"stroke: #383838; stroke-width: 1.0;\"/><text fill=\"#000000\" font-family=\"sans-serif\" font-size=\"13\" lengthAdjust=\"spacingAndGlyphs\" textLength=\"8\" x=\"545.8338\" y=\"241.8709\">1</text></a><!--MD5=[3f50a3473f1dfb74d3f76443e03635af]\n",
       "reverse link E6 to E7--><a href=\"psysml:b94a6cc2-6585-4221-b4bd-c6e1360a7593\" target=\"_top\" title=\"psysml:b94a6cc2-6585-4221-b4bd-c6e1360a7593\" xlink:actuate=\"onRequest\" xlink:href=\"psysml:b94a6cc2-6585-4221-b4bd-c6e1360a7593\" xlink:show=\"new\" xlink:title=\"psysml:b94a6cc2-6585-4221-b4bd-c6e1360a7593\" xlink:type=\"simple\"><path d=\"M333.59,206.44 C332.11,221.87 330.42,239.47 329.12,252.98 \" fill=\"none\" id=\"E6&lt;-E7\" style=\"stroke: #383838; stroke-width: 1.0;\"/><polygon fill=\"#FFFFFF\" points=\"334.88,193.06,330.3242,198.6497,333.7317,205.0049,338.2875,199.4152,334.88,193.06\" style=\"stroke: #383838; stroke-width: 1.0;\"/><text fill=\"#000000\" font-family=\"sans-serif\" font-size=\"13\" lengthAdjust=\"spacingAndGlyphs\" textLength=\"8\" x=\"320.6148\" y=\"241.8709\">1</text></a><!--MD5=[583832df87f4419a098336a29a52fa00]\n",
       "link E7 to E2--><a href=\"psysml:6c7ecdb4-3704-4141-b5eb-90be274661d4\" target=\"_top\" title=\"psysml:6c7ecdb4-3704-4141-b5eb-90be274661d4\" xlink:actuate=\"onRequest\" xlink:href=\"psysml:6c7ecdb4-3704-4141-b5eb-90be274661d4\" xlink:show=\"new\" xlink:title=\"psysml:6c7ecdb4-3704-4141-b5eb-90be274661d4\" xlink:type=\"simple\"><path d=\"M311.52,299.06 C302.71,311.6 291.43,327.68 281.19,342.26 \" fill=\"none\" id=\"E7-&gt;E2\" style=\"stroke: #383838; stroke-width: 1.0;\"/><polygon fill=\"#FFFFFF\" points=\"269.46,358.98,274.6532,339.4088,286.1093,347.4561,269.46,358.98\" style=\"stroke: #383838; stroke-width: 1.0;\"/><ellipse cx=\"279.5662\" cy=\"335.8942\" fill=\"#383838\" rx=\"2\" ry=\"2\" style=\"stroke: #383838; stroke-width: 1.0;\"/><ellipse cx=\"287.7491\" cy=\"341.6422\" fill=\"#383838\" rx=\"2\" ry=\"2\" style=\"stroke: #383838; stroke-width: 1.0;\"/></a><!--MD5=[f4cf0736d43fd73c4ef68817c49d37d5]\n",
       "reverse link E6 to E8--><a href=\"psysml:c893fa2e-0043-44e8-be45-2077001790d0\" target=\"_top\" title=\"psysml:c893fa2e-0043-44e8-be45-2077001790d0\" xlink:actuate=\"onRequest\" xlink:href=\"psysml:c893fa2e-0043-44e8-be45-2077001790d0\" xlink:show=\"new\" xlink:title=\"psysml:c893fa2e-0043-44e8-be45-2077001790d0\" xlink:type=\"simple\"><path d=\"M359.27,204.09 C370.02,220.06 382.62,238.78 392.18,252.98 \" fill=\"none\" id=\"E6&lt;-E8\" style=\"stroke: #383838; stroke-width: 1.0;\"/><polygon fill=\"#FFFFFF\" points=\"351.85,193.06,351.8808,200.271,358.5489,203.0161,358.5182,195.8051,351.85,193.06\" style=\"stroke: #383838; stroke-width: 1.0;\"/><text fill=\"#000000\" font-family=\"sans-serif\" font-size=\"13\" lengthAdjust=\"spacingAndGlyphs\" textLength=\"8\" x=\"379.1221\" y=\"241.8709\">1</text></a><!--MD5=[23ac544a70576c3e717098101004234c]\n",
       "reverse link E9 to E10--><a href=\"psysml:3723b58c-a4dd-4ef3-9a79-2a659572d83c\" target=\"_top\" title=\"psysml:3723b58c-a4dd-4ef3-9a79-2a659572d83c\" xlink:actuate=\"onRequest\" xlink:href=\"psysml:3723b58c-a4dd-4ef3-9a79-2a659572d83c\" xlink:show=\"new\" xlink:title=\"psysml:3723b58c-a4dd-4ef3-9a79-2a659572d83c\" xlink:type=\"simple\"><path d=\"M184.92,205.96 C180.89,221.51 176.26,239.33 172.72,252.98 \" fill=\"none\" id=\"E9&lt;-E10\" style=\"stroke: #383838; stroke-width: 1.0;\"/><polygon fill=\"#FFFFFF\" points=\"188.27,193.06,182.8943,197.8665,185.2635,204.6773,190.6392,199.8708,188.27,193.06\" style=\"stroke: #383838; stroke-width: 1.0;\"/><text fill=\"#000000\" font-family=\"sans-serif\" font-size=\"13\" lengthAdjust=\"spacingAndGlyphs\" textLength=\"8\" x=\"165.1823\" y=\"241.8709\">1</text></a><!--MD5=[0f36bececdf0dff6e600d6f64214b0f1]\n",
       "link E10 to E2--><a href=\"psysml:8c7a6e5c-2c0e-473c-a2c4-4062964bb416\" target=\"_top\" title=\"psysml:8c7a6e5c-2c0e-473c-a2c4-4062964bb416\" xlink:actuate=\"onRequest\" xlink:href=\"psysml:8c7a6e5c-2c0e-473c-a2c4-4062964bb416\" xlink:show=\"new\" xlink:title=\"psysml:8c7a6e5c-2c0e-473c-a2c4-4062964bb416\" xlink:type=\"simple\"><path d=\"M185.45,299.06 C196.18,311.88 209.99,328.39 222.4,343.22 \" fill=\"none\" id=\"E10-&gt;E2\" style=\"stroke: #383838; stroke-width: 1.0;\"/><polygon fill=\"#FFFFFF\" points=\"235.58,358.98,218.0168,348.9036,228.7522,339.9174,235.58,358.98\" style=\"stroke: #383838; stroke-width: 1.0;\"/><ellipse cx=\"215.8918\" cy=\"343.249\" fill=\"#383838\" rx=\"2\" ry=\"2\" style=\"stroke: #383838; stroke-width: 1.0;\"/><ellipse cx=\"223.5599\" cy=\"336.8303\" fill=\"#383838\" rx=\"2\" ry=\"2\" style=\"stroke: #383838; stroke-width: 1.0;\"/></a><!--MD5=[1fc04a95fd77ad5ce46c1a3027516051]\n",
       "reverse link E9 to E11--><a href=\"psysml:05b52cb0-1bec-4ecb-a4ba-b6e0a5fd36fa\" target=\"_top\" title=\"psysml:05b52cb0-1bec-4ecb-a4ba-b6e0a5fd36fa\" xlink:actuate=\"onRequest\" xlink:href=\"psysml:05b52cb0-1bec-4ecb-a4ba-b6e0a5fd36fa\" xlink:show=\"new\" xlink:title=\"psysml:05b52cb0-1bec-4ecb-a4ba-b6e0a5fd36fa\" xlink:type=\"simple\"><path d=\"M211.34,205.03 C219.37,220.78 228.68,239.06 235.78,252.98 \" fill=\"none\" id=\"E9&lt;-E11\" style=\"stroke: #383838; stroke-width: 1.0;\"/><polygon fill=\"#FFFFFF\" points=\"205.24,193.06,204.3983,200.2218,210.6855,203.7533,211.5272,196.5915,205.24,193.06\" style=\"stroke: #383838; stroke-width: 1.0;\"/><text fill=\"#000000\" font-family=\"sans-serif\" font-size=\"13\" lengthAdjust=\"spacingAndGlyphs\" textLength=\"8\" x=\"223.6896\" y=\"241.8709\">1</text></a><!--MD5=[062ed86c389d1a88f61c6380d0491e17]\n",
       "reverse link E12 to E13--><a href=\"psysml:2ea9f126-2045-475e-98b2-0bebbeaf39ba\" target=\"_top\" title=\"psysml:2ea9f126-2045-475e-98b2-0bebbeaf39ba\" xlink:actuate=\"onRequest\" xlink:href=\"psysml:2ea9f126-2045-475e-98b2-0bebbeaf39ba\" xlink:show=\"new\" xlink:title=\"psysml:2ea9f126-2045-475e-98b2-0bebbeaf39ba\" xlink:type=\"simple\"><path d=\"M80,100.44 C80,115.87 80,133.47 80,146.98 \" fill=\"none\" id=\"E12&lt;-E13\" style=\"stroke: #383838; stroke-width: 1.0;\"/><polygon fill=\"#383838\" points=\"80,87.06,76,93.06,80,99.06,84,93.06,80,87.06\" style=\"stroke: #383838; stroke-width: 1.0;\"/><text fill=\"#000000\" font-family=\"sans-serif\" font-size=\"13\" lengthAdjust=\"spacingAndGlyphs\" textLength=\"8\" x=\"70.925\" y=\"135.8709\">1</text></a><!--MD5=[01db00f33b28669d6d9febea71002831]\n",
       "reverse link E13 to E14--><a href=\"psysml:56644651-1cff-4e4b-add6-5aaf4cbf3323\" target=\"_top\" title=\"psysml:56644651-1cff-4e4b-add6-5aaf4cbf3323\" xlink:actuate=\"onRequest\" xlink:href=\"psysml:56644651-1cff-4e4b-add6-5aaf4cbf3323\" xlink:show=\"new\" xlink:title=\"psysml:56644651-1cff-4e4b-add6-5aaf4cbf3323\" xlink:type=\"simple\"><path d=\"M83.41,206.44 C84.89,221.87 86.58,239.47 87.88,252.98 \" fill=\"none\" id=\"E13&lt;-E14\" style=\"stroke: #383838; stroke-width: 1.0;\"/><polygon fill=\"#FFFFFF\" points=\"82.12,193.06,78.7125,199.4152,83.2683,205.0049,86.6758,198.6497,82.12,193.06\" style=\"stroke: #383838; stroke-width: 1.0;\"/><text fill=\"#000000\" font-family=\"sans-serif\" font-size=\"13\" lengthAdjust=\"spacingAndGlyphs\" textLength=\"8\" x=\"78.2353\" y=\"241.8709\">1</text></a><!--MD5=[e5566ac99d7714697a7fbc17f6b550fe]\n",
       "link E14 to E2--><a href=\"psysml:004f1bd4-f46a-4fc3-b446-5abbd305cc50\" target=\"_top\" title=\"psysml:004f1bd4-f46a-4fc3-b446-5abbd305cc50\" xlink:actuate=\"onRequest\" xlink:href=\"psysml:004f1bd4-f46a-4fc3-b446-5abbd305cc50\" xlink:show=\"new\" xlink:title=\"psysml:004f1bd4-f46a-4fc3-b446-5abbd305cc50\" xlink:type=\"simple\"><path d=\"M111.1,290.38 C134.32,305.1 172.45,329.29 203.49,348.97 \" fill=\"none\" id=\"E14-&gt;E2\" style=\"stroke: #383838; stroke-width: 1.0;\"/><polygon fill=\"#FFFFFF\" points=\"220.77,359.93,200.9767,355.661,208.4774,343.8399,220.77,359.93\" style=\"stroke: #383838; stroke-width: 1.0;\"/><ellipse cx=\"197.2353\" cy=\"350.9184\" fill=\"#383838\" rx=\"2\" ry=\"2\" style=\"stroke: #383838; stroke-width: 1.0;\"/><ellipse cx=\"202.593\" cy=\"342.4748\" fill=\"#383838\" rx=\"2\" ry=\"2\" style=\"stroke: #383838; stroke-width: 1.0;\"/></a><!--MD5=[e9a5e828c71fd2209a11a152f562d491]\n",
       "reverse link E13 to E15--><a href=\"psysml:439c4bcd-5bf6-4395-bbdb-0df2330c2504\" target=\"_top\" title=\"psysml:439c4bcd-5bf6-4395-bbdb-0df2330c2504\" xlink:actuate=\"onRequest\" xlink:href=\"psysml:439c4bcd-5bf6-4395-bbdb-0df2330c2504\" xlink:show=\"new\" xlink:title=\"psysml:439c4bcd-5bf6-4395-bbdb-0df2330c2504\" xlink:type=\"simple\"><path d=\"M68.14,205.73 C60.51,228.09 52,253 52,253 C52,253 52,299 52,299 C52,299 68.37,334.31 79.62,358.59 \" fill=\"none\" id=\"E13&lt;-E15\" style=\"stroke: #383838; stroke-width: 1.0;\"/><polygon fill=\"#FFFFFF\" points=\"72.35,193.41,66.6257,197.7955,68.4723,204.7662,74.1965,200.3807,72.35,193.41\" style=\"stroke: #383838; stroke-width: 1.0;\"/><text fill=\"#000000\" font-family=\"sans-serif\" font-size=\"13\" lengthAdjust=\"spacingAndGlyphs\" textLength=\"8\" x=\"67.9351\" y=\"347.7612\">1</text></a><!--MD5=[3afbdc645381407e1bc99677323a2513]\n",
       "link E14 to E15--><a href=\"psysml:356465e0-8362-42f7-8017-4c1d57dccd42\" target=\"_top\" title=\"psysml:356465e0-8362-42f7-8017-4c1d57dccd42\" xlink:actuate=\"onRequest\" xlink:href=\"psysml:356465e0-8362-42f7-8017-4c1d57dccd42\" xlink:show=\"new\" xlink:title=\"psysml:356465e0-8362-42f7-8017-4c1d57dccd42\" xlink:type=\"simple\"><path d=\"M79.35,299.06 C76.55,316.7 76.55,341.34 79.36,358.98 \" fill=\"none\" id=\"E14-E15\" style=\"stroke: #383838; stroke-width: 3.0;\"/></a><!--MD5=[3afbdc645381407e1bc99677323a2513]\n",
       "link E14 to E15--><a href=\"psysml:be002053-3eab-4239-b4ec-f62d8ddd6fa6\" target=\"_top\" title=\"psysml:be002053-3eab-4239-b4ec-f62d8ddd6fa6\" xlink:actuate=\"onRequest\" xlink:href=\"psysml:be002053-3eab-4239-b4ec-f62d8ddd6fa6\" xlink:show=\"new\" xlink:title=\"psysml:be002053-3eab-4239-b4ec-f62d8ddd6fa6\" xlink:type=\"simple\"><path d=\"M101.27,299.06 C104.24,316.7 104.24,341.34 101.27,358.98 \" fill=\"none\" id=\"E14-E15-1\" style=\"stroke: #383838; stroke-width: 3.0;\"/></a><!--MD5=[9fa2062ea0169063908c8d90e1d5ba0a]\n",
       "@startuml\r\n",
       "skinparam linetype polyline\r\n",
       "skinparam monochrome true\r\n",
       "skinparam classbackgroundcolor white\r\n",
       "skinparam shadowing false\r\n",
       "skinparam wrapWidth 300\r\n",
       "hide circle\r\n",
       "\r\n",
       "package \"ConjugationTest\" as E1  [[psysml:811d2e93-771a-4206-9534-119b2782ed8b ]]  {\r\n",
       "comp def \"P\" as E2  <<(T,blue) port def>> [[psysml:a118eece-ff6c-41b4-a8ec-63007fd81e06 ]] {\r\n",
       "}\r\n",
       "comp def \"B\" as E3  <<(T,blue) part def>> [[psysml:45f3428f-90c5-481c-8b5b-6d42a9c9ecb4 ]] {\r\n",
       "}\r\n",
       "comp usage \"p1: P\" as E4  <<(T,blue) port>> [[psysml:f10162e3-9121-4423-8c61-28bf75aadc9a ]] {\r\n",
       "}\r\n",
       "comp usage \"p2: ~P\" as E5  <<(T,blue) port>> [[psysml:f793b08e-b132-4869-8396-6344384571c9 ]] {\r\n",
       "}\r\n",
       "comp def \"A\" as E6  <<(T,blue) connection def>> [[psysml:1e44cf6a-fe6c-483a-98ee-7c5816e24c4f ]] {\r\n",
       "}\r\n",
       "comp usage \"p1: P\" as E7  <<(T,blue) port>> [[psysml:592da980-ebcc-4bfb-b89f-9a898fd7b408 ]] {\r\n",
       "}\r\n",
       "comp usage \"p2: ~P\" as E8  <<(T,blue) port>> [[psysml:4730362b-6892-4b61-8b08-4b1eb3a58a19 ]] {\r\n",
       "}\r\n",
       "comp def \"I\" as E9  <<(T,blue) interface def>> [[psysml:c589f335-4cab-4324-b073-03ca89b55f7d ]] {\r\n",
       "}\r\n",
       "comp usage \"p1: P\" as E10  <<(T,blue) port>> [[psysml:0a18d135-3a15-4f1e-a48b-3983b85e55aa ]] {\r\n",
       "}\r\n",
       "comp usage \"p2: ~P\" as E11  <<(T,blue) port>> [[psysml:f0ebefc1-580e-4b11-b9cf-e3cb40b874a3 ]] {\r\n",
       "}\r\n",
       "comp def \"B1\" as E12  <<(T,blue) part def>> [[psysml:99d6c811-1239-4557-8bf5-512a2d9b51f5 ]] {\r\n",
       "}\r\n",
       "comp usage \"p\" as E13  <<(T,blue) part>> [[psysml:c80e6282-4b88-42a6-beea-d83b68d36327 ]] {\r\n",
       "}\r\n",
       "comp usage \"p1: P\" as E14  <<(T,blue) port>> [[psysml:36fdd18b-cc96-4106-b803-027f179d9fab ]] {\r\n",
       "}\r\n",
       "comp usage \"p2: ~P\" as E15  <<(T,blue) port>> [[psysml:a04d4130-2616-430e-82e5-4df6c3f344d5 ]] {\r\n",
       "}\r\n",
       "}\r\n",
       "E3 o- - \"1\"E4 [[psysml:478537c4-9aea-45e7-93bf-51b2f99f76d0 ]] \r\n",
       "E4 - -:|> E2 [[psysml:9a27f54b-62e8-4ed3-8ffb-179b9354440f ]] \r\n",
       "E3 o- - \"1\"E5 [[psysml:0c237cb0-b529-413c-8aaf-d2f6ce3a1092 ]] \r\n",
       "E6 o- - \"1\"E7 [[psysml:b94a6cc2-6585-4221-b4bd-c6e1360a7593 ]] \r\n",
       "E7 - -:|> E2 [[psysml:6c7ecdb4-3704-4141-b5eb-90be274661d4 ]] \r\n",
       "E6 o- - \"1\"E8 [[psysml:c893fa2e-0043-44e8-be45-2077001790d0 ]] \r\n",
       "E9 o- - \"1\"E10 [[psysml:3723b58c-a4dd-4ef3-9a79-2a659572d83c ]] \r\n",
       "E10 - -:|> E2 [[psysml:8c7a6e5c-2c0e-473c-a2c4-4062964bb416 ]] \r\n",
       "E9 o- - \"1\"E11 [[psysml:05b52cb0-1bec-4ecb-a4ba-b6e0a5fd36fa ]] \r\n",
       "E12 *- - \"1\"E13 [[psysml:2ea9f126-2045-475e-98b2-0bebbeaf39ba ]] \r\n",
       "E13 o- - \"1\"E14 [[psysml:56644651-1cff-4e4b-add6-5aaf4cbf3323 ]] \r\n",
       "E14 - -:|> E2 [[psysml:004f1bd4-f46a-4fc3-b446-5abbd305cc50 ]] \r\n",
       "E13 o- - \"1\"E15 [[psysml:439c4bcd-5bf6-4395-bbdb-0df2330c2504 ]] \r\n",
       "E14 -[thickness=3]- E15 [[psysml:356465e0-8362-42f7-8017-4c1d57dccd42 ]] \r\n",
       "E14 -[thickness=3]- E15 [[psysml:be002053-3eab-4239-b4ec-f62d8ddd6fa6 ]] \r\n",
       "@enduml\r\n",
       "\n",
       "PlantUML version 1.2020.13(Sat Jun 13 12:26:38 UTC 2020)\n",
       "(EPL source distribution)\n",
       "Java Runtime: OpenJDK Runtime Environment\n",
       "JVM: OpenJDK 64-Bit Server VM\n",
       "Default Encoding: UTF-8\n",
       "Language: en\n",
       "Country: null\n",
       "--></g></svg>"
      ]
     },
     "execution_count": 10,
     "metadata": {},
     "output_type": "execute_result"
    }
   ],
   "source": [
    "%viz --style=\"POLYLINE\" --view=\"Tree\" \"ConjugationTest\""
   ]
  },
  {
   "cell_type": "code",
   "execution_count": 11,
   "id": "83ba1993",
   "metadata": {
    "execution": {
     "iopub.execute_input": "2021-10-03T08:28:05.577093Z",
     "iopub.status.busy": "2021-10-03T08:28:05.576796Z",
     "iopub.status.idle": "2021-10-03T08:28:05.583330Z",
     "shell.execute_reply": "2021-10-03T08:28:05.583563Z"
    }
   },
   "outputs": [
    {
     "data": {
      "image/svg+xml": [
       "<?xml version=\"1.0\" encoding=\"UTF-8\" standalone=\"no\"?><svg xmlns=\"http://www.w3.org/2000/svg\" xmlns:xlink=\"http://www.w3.org/1999/xlink\" contentScriptType=\"application/ecmascript\" contentStyleType=\"text/css\" height=\"12px\" preserveAspectRatio=\"none\" style=\"width:12px;height:12px;\" version=\"1.1\" viewBox=\"0 0 12 12\" width=\"12px\" zoomAndPan=\"magnify\"><defs/><g><!--MD5=[896ac0e7a515d8dd7765a661cb4ee08b]\n",
       "@startuml\r\n",
       "skinparam linetype polyline\r\n",
       "skinparam monochrome true\r\n",
       "skinparam classbackgroundcolor white\r\n",
       "skinparam shadowing false\r\n",
       "skinparam wrapWidth 300\r\n",
       "hide circle\r\n",
       "\r\n",
       "@enduml\r\n",
       "\n",
       "PlantUML version 1.2020.13(Sat Jun 13 12:26:38 UTC 2020)\n",
       "(EPL source distribution)\n",
       "Java Runtime: OpenJDK Runtime Environment\n",
       "JVM: OpenJDK 64-Bit Server VM\n",
       "Default Encoding: UTF-8\n",
       "Language: en\n",
       "Country: null\n",
       "--></g></svg>"
      ]
     },
     "execution_count": 11,
     "metadata": {},
     "output_type": "execute_result"
    }
   ],
   "source": [
    "%viz --style=\"POLYLINE\" --view=\"State\" \"ConjugationTest\""
   ]
  },
  {
   "cell_type": "code",
   "execution_count": 12,
   "id": "497ee4d1",
   "metadata": {
    "execution": {
     "iopub.execute_input": "2021-10-03T08:28:05.633665Z",
     "iopub.status.busy": "2021-10-03T08:28:05.633413Z",
     "iopub.status.idle": "2021-10-03T08:28:05.689793Z",
     "shell.execute_reply": "2021-10-03T08:28:05.688442Z"
    }
   },
   "outputs": [
    {
     "data": {
      "image/svg+xml": [
       "<?xml version=\"1.0\" encoding=\"UTF-8\" standalone=\"no\"?><svg xmlns=\"http://www.w3.org/2000/svg\" xmlns:xlink=\"http://www.w3.org/1999/xlink\" contentScriptType=\"application/ecmascript\" contentStyleType=\"text/css\" height=\"246px\" preserveAspectRatio=\"none\" style=\"width:739px;height:246px;\" version=\"1.1\" viewBox=\"0 0 739 246\" width=\"739px\" zoomAndPan=\"magnify\"><defs/><g><!--MD5=[fbc87193dbaf4d95561dea2c320d4a47]\n",
       "cluster E1--><a href=\"psysml:811d2e93-771a-4206-9534-119b2782ed8b\" target=\"_top\" title=\"psysml:811d2e93-771a-4206-9534-119b2782ed8b\" xlink:actuate=\"onRequest\" xlink:href=\"psysml:811d2e93-771a-4206-9534-119b2782ed8b\" xlink:show=\"new\" xlink:title=\"psysml:811d2e93-771a-4206-9534-119b2782ed8b\" xlink:type=\"simple\"><polygon fill=\"#FFFFFF\" points=\"16,6,136,6,143,28.2969,717,28.2969,717,234.5,16,234.5,16,6\" style=\"stroke: #000000; stroke-width: 1.5;\"/><line style=\"stroke: #000000; stroke-width: 1.5;\" x1=\"16\" x2=\"143\" y1=\"28.2969\" y2=\"28.2969\"/><text fill=\"#000000\" font-family=\"sans-serif\" font-size=\"14\" font-weight=\"bold\" lengthAdjust=\"spacingAndGlyphs\" textLength=\"114\" x=\"20\" y=\"20.9951\">ConjugationTest</text></a><!--MD5=[d5e69f78d87373223dbae638b30a9c99]\n",
       "cluster E3--><a href=\"psysml:45f3428f-90c5-481c-8b5b-6d42a9c9ecb4\" target=\"_top\" title=\"psysml:45f3428f-90c5-481c-8b5b-6d42a9c9ecb4\" xlink:actuate=\"onRequest\" xlink:href=\"psysml:45f3428f-90c5-481c-8b5b-6d42a9c9ecb4\" xlink:show=\"new\" xlink:title=\"psysml:45f3428f-90c5-481c-8b5b-6d42a9c9ecb4\" xlink:type=\"simple\"><rect fill=\"#FFFFFF\" height=\"88.5\" id=\"E3\" style=\"stroke: #383838; stroke-width: 1.5;\" width=\"83\" x=\"577\" y=\"114\"/><rect fill=\"#F8F8F8\" height=\"37.9375\" style=\"stroke: #383838; stroke-width: 1.5;\" width=\"83\" x=\"577\" y=\"114\"/><text fill=\"#000000\" font-family=\"sans-serif\" font-size=\"12\" font-style=\"italic\" lengthAdjust=\"spacingAndGlyphs\" textLength=\"64\" x=\"586.5\" y=\"130.1387\">«part def»</text><text fill=\"#000000\" font-family=\"sans-serif\" font-size=\"12\" lengthAdjust=\"spacingAndGlyphs\" textLength=\"8\" x=\"614.5\" y=\"144.1074\">B</text></a><!--MD5=[14e3b0961a2654348d326746436168a1]\n",
       "cluster E6--><a href=\"psysml:1e44cf6a-fe6c-483a-98ee-7c5816e24c4f\" target=\"_top\" title=\"psysml:1e44cf6a-fe6c-483a-98ee-7c5816e24c4f\" xlink:actuate=\"onRequest\" xlink:href=\"psysml:1e44cf6a-fe6c-483a-98ee-7c5816e24c4f\" xlink:show=\"new\" xlink:title=\"psysml:1e44cf6a-fe6c-483a-98ee-7c5816e24c4f\" xlink:type=\"simple\"><rect fill=\"#FFFFFF\" height=\"88.5\" id=\"E6\" style=\"stroke: #383838; stroke-width: 1.5;\" width=\"150\" x=\"423\" y=\"114\"/><rect fill=\"#F8F8F8\" height=\"37.9375\" style=\"stroke: #383838; stroke-width: 1.5;\" width=\"150\" x=\"423\" y=\"114\"/><text fill=\"#000000\" font-family=\"sans-serif\" font-size=\"12\" font-style=\"italic\" lengthAdjust=\"spacingAndGlyphs\" textLength=\"108\" x=\"444\" y=\"130.1387\">«connection def»</text><text fill=\"#000000\" font-family=\"sans-serif\" font-size=\"12\" lengthAdjust=\"spacingAndGlyphs\" textLength=\"8\" x=\"494\" y=\"144.1074\">A</text></a><!--MD5=[7f149f147074ac12df2cb0a7728a5fb0]\n",
       "cluster E9--><a href=\"psysml:c589f335-4cab-4324-b073-03ca89b55f7d\" target=\"_top\" title=\"psysml:c589f335-4cab-4324-b073-03ca89b55f7d\" xlink:actuate=\"onRequest\" xlink:href=\"psysml:c589f335-4cab-4324-b073-03ca89b55f7d\" xlink:show=\"new\" xlink:title=\"psysml:c589f335-4cab-4324-b073-03ca89b55f7d\" xlink:type=\"simple\"><rect fill=\"#FFFFFF\" height=\"88.5\" id=\"E9\" style=\"stroke: #383838; stroke-width: 1.5;\" width=\"141\" x=\"254\" y=\"114\"/><rect fill=\"#F8F8F8\" height=\"37.9375\" style=\"stroke: #383838; stroke-width: 1.5;\" width=\"141\" x=\"254\" y=\"114\"/><text fill=\"#000000\" font-family=\"sans-serif\" font-size=\"12\" font-style=\"italic\" lengthAdjust=\"spacingAndGlyphs\" textLength=\"94\" x=\"277.5\" y=\"130.1387\">«interface def»</text><text fill=\"#000000\" font-family=\"sans-serif\" font-size=\"12\" lengthAdjust=\"spacingAndGlyphs\" textLength=\"3\" x=\"323\" y=\"144.1074\">I</text></a><!--MD5=[47bea60c1a0ac6c1143df232041969c0]\n",
       "cluster E12--><a href=\"psysml:99d6c811-1239-4557-8bf5-512a2d9b51f5\" target=\"_top\" title=\"psysml:99d6c811-1239-4557-8bf5-512a2d9b51f5\" xlink:actuate=\"onRequest\" xlink:href=\"psysml:99d6c811-1239-4557-8bf5-512a2d9b51f5\" xlink:show=\"new\" xlink:title=\"psysml:99d6c811-1239-4557-8bf5-512a2d9b51f5\" xlink:type=\"simple\"><rect fill=\"#FFFFFF\" height=\"161.5\" id=\"E12\" style=\"stroke: #383838; stroke-width: 1.5;\" width=\"107\" x=\"120\" y=\"49\"/><rect fill=\"#F8F8F8\" height=\"37.9375\" style=\"stroke: #383838; stroke-width: 1.5;\" width=\"107\" x=\"120\" y=\"49\"/><text fill=\"#000000\" font-family=\"sans-serif\" font-size=\"12\" font-style=\"italic\" lengthAdjust=\"spacingAndGlyphs\" textLength=\"64\" x=\"141.5\" y=\"65.1387\">«part def»</text><text fill=\"#000000\" font-family=\"sans-serif\" font-size=\"12\" lengthAdjust=\"spacingAndGlyphs\" textLength=\"16\" x=\"165.5\" y=\"79.1074\">B1</text></a><!--MD5=[03104f77b71e2d8d3500c651e6e31181]\n",
       "cluster E13--><a href=\"psysml:c80e6282-4b88-42a6-beea-d83b68d36327\" target=\"_top\" title=\"psysml:c80e6282-4b88-42a6-beea-d83b68d36327\" xlink:actuate=\"onRequest\" xlink:href=\"psysml:c80e6282-4b88-42a6-beea-d83b68d36327\" xlink:show=\"new\" xlink:title=\"psysml:c80e6282-4b88-42a6-beea-d83b68d36327\" xlink:type=\"simple\"><rect fill=\"#FFFFFF\" height=\"80.5\" id=\"E13\" rx=\"10\" ry=\"10\" style=\"stroke: #383838; stroke-width: 1.5;\" width=\"83\" x=\"132\" y=\"114\"/><rect fill=\"#F8F8F8\" height=\"23.9688\" rx=\"10\" ry=\"10\" style=\"stroke: #F8F8F8; stroke-width: 1.5;\" width=\"83\" x=\"132\" y=\"114\"/><rect fill=\"#F8F8F8\" height=\"10\" style=\"stroke: #F8F8F8; stroke-width: 1.5;\" width=\"83\" x=\"132\" y=\"127.9688\"/><rect fill=\"none\" height=\"80.5\" id=\"E13\" rx=\"10\" ry=\"10\" style=\"stroke: #383838; stroke-width: 1.5;\" width=\"83\" x=\"132\" y=\"114\"/><text fill=\"#000000\" font-family=\"sans-serif\" font-size=\"12\" lengthAdjust=\"spacingAndGlyphs\" textLength=\"8\" x=\"169.5\" y=\"130.1387\">p</text><line style=\"stroke: #383838; stroke-width: 1.0;\" x1=\"132\" x2=\"215\" y1=\"137.9688\" y2=\"137.9688\"/></a><g id=\"E1.E2\"><a href=\"psysml:a118eece-ff6c-41b4-a8ec-63007fd81e06\" target=\"_top\" title=\"psysml:a118eece-ff6c-41b4-a8ec-63007fd81e06\" xlink:actuate=\"onRequest\" xlink:href=\"psysml:a118eece-ff6c-41b4-a8ec-63007fd81e06\" xlink:show=\"new\" xlink:title=\"psysml:a118eece-ff6c-41b4-a8ec-63007fd81e06\" xlink:type=\"simple\"><rect fill=\"#FFFFFF\" height=\"42.9375\" id=\"E2\" style=\"stroke: #383838; stroke-width: 1.5;\" width=\"71\" x=\"32.5\" y=\"92.5\"/><rect fill=\"#F8F8F8\" height=\"37.9375\" style=\"stroke: #383838; stroke-width: 1.5;\" width=\"71\" x=\"32.5\" y=\"92.5\"/><text fill=\"#000000\" font-family=\"sans-serif\" font-size=\"12\" font-style=\"italic\" lengthAdjust=\"spacingAndGlyphs\" textLength=\"64\" x=\"36\" y=\"108.6387\">«port def»</text><text fill=\"#000000\" font-family=\"sans-serif\" font-size=\"12\" lengthAdjust=\"spacingAndGlyphs\" textLength=\"8\" x=\"64\" y=\"122.6074\">P</text></a></g><text fill=\"#000000\" font-family=\"sans-serif\" font-size=\"14\" lengthAdjust=\"spacingAndGlyphs\" textLength=\"36\" x=\"577\" y=\"92.6982\">p1: P</text><rect fill=\"#383838\" height=\"12\" style=\"stroke: #F8F8F8; stroke-width: 1.5;\" width=\"12\" x=\"589\" y=\"108\"/><text fill=\"#000000\" font-family=\"sans-serif\" font-size=\"14\" lengthAdjust=\"spacingAndGlyphs\" textLength=\"48\" x=\"618\" y=\"92.6982\">p2: ~P</text><rect fill=\"#383838\" height=\"12\" style=\"stroke: #F8F8F8; stroke-width: 1.5;\" width=\"12\" x=\"636\" y=\"108\"/><text fill=\"#000000\" font-family=\"sans-serif\" font-size=\"14\" lengthAdjust=\"spacingAndGlyphs\" textLength=\"36\" x=\"423\" y=\"92.6982\">p1: P</text><rect fill=\"#383838\" height=\"12\" style=\"stroke: #F8F8F8; stroke-width: 1.5;\" width=\"12\" x=\"435\" y=\"108\"/><text fill=\"#000000\" font-family=\"sans-serif\" font-size=\"14\" lengthAdjust=\"spacingAndGlyphs\" textLength=\"48\" x=\"464\" y=\"92.6982\">p2: ~P</text><rect fill=\"#383838\" height=\"12\" style=\"stroke: #F8F8F8; stroke-width: 1.5;\" width=\"12\" x=\"482\" y=\"108\"/><text fill=\"#000000\" font-family=\"sans-serif\" font-size=\"14\" lengthAdjust=\"spacingAndGlyphs\" textLength=\"36\" x=\"254\" y=\"92.6982\">p1: P</text><rect fill=\"#383838\" height=\"12\" style=\"stroke: #F8F8F8; stroke-width: 1.5;\" width=\"12\" x=\"266\" y=\"108\"/><text fill=\"#000000\" font-family=\"sans-serif\" font-size=\"14\" lengthAdjust=\"spacingAndGlyphs\" textLength=\"48\" x=\"295\" y=\"92.6982\">p2: ~P</text><rect fill=\"#383838\" height=\"12\" style=\"stroke: #F8F8F8; stroke-width: 1.5;\" width=\"12\" x=\"313\" y=\"108\"/><text fill=\"#000000\" font-family=\"sans-serif\" font-size=\"14\" lengthAdjust=\"spacingAndGlyphs\" textLength=\"36\" x=\"132\" y=\"92.6982\">p1: P</text><rect fill=\"#383838\" height=\"12\" style=\"stroke: #F8F8F8; stroke-width: 1.5;\" width=\"12\" x=\"144\" y=\"108\"/><text fill=\"#000000\" font-family=\"sans-serif\" font-size=\"14\" lengthAdjust=\"spacingAndGlyphs\" textLength=\"48\" x=\"173\" y=\"92.6982\">p2: ~P</text><rect fill=\"#383838\" height=\"12\" style=\"stroke: #F8F8F8; stroke-width: 1.5;\" width=\"12\" x=\"191\" y=\"108\"/><!--MD5=[3afbdc645381407e1bc99677323a2513]\n",
       "link E14 to E15--><a href=\"psysml:356465e0-8362-42f7-8017-4c1d57dccd42\" target=\"_top\" title=\"psysml:356465e0-8362-42f7-8017-4c1d57dccd42\" xlink:actuate=\"onRequest\" xlink:href=\"psysml:356465e0-8362-42f7-8017-4c1d57dccd42\" xlink:show=\"new\" xlink:title=\"psysml:356465e0-8362-42f7-8017-4c1d57dccd42\" xlink:type=\"simple\"><path d=\"M156.01,114 C160.43,114 165.67,114 165.67,114 C165.67,114 181.33,114 181.33,114 C181.33,114 186.57,114 190.99,114 \" fill=\"none\" id=\"E14-E15\" style=\"stroke: #383838; stroke-width: 3.0;\"/></a><!--MD5=[3afbdc645381407e1bc99677323a2513]\n",
       "link E14 to E15--><a href=\"psysml:be002053-3eab-4239-b4ec-f62d8ddd6fa6\" target=\"_top\" title=\"psysml:be002053-3eab-4239-b4ec-f62d8ddd6fa6\" xlink:actuate=\"onRequest\" xlink:href=\"psysml:be002053-3eab-4239-b4ec-f62d8ddd6fa6\" xlink:show=\"new\" xlink:title=\"psysml:be002053-3eab-4239-b4ec-f62d8ddd6fa6\" xlink:type=\"simple\"><path d=\"M156.01,111.7 C160.43,110.01 165.67,108 165.67,108 C165.67,108 181.33,108 181.33,108 C181.33,108 186.57,110.01 190.99,111.7 \" fill=\"none\" id=\"E14-E15-1\" style=\"stroke: #383838; stroke-width: 3.0;\"/></a><!--MD5=[cff3482ad8c638d572bc538f1cd69436]\n",
       "@startuml\r\n",
       "skinparam ranksep 10\r\n",
       "skinparam rectangle {\r\n",
       " backgroundColor<<block>> LightGreen\r\n",
       "}\r\n",
       "skinparam linetype polyline\r\n",
       "skinparam monochrome true\r\n",
       "skinparam classbackgroundcolor white\r\n",
       "skinparam shadowing false\r\n",
       "skinparam wrapWidth 300\r\n",
       "hide circle\r\n",
       "\r\n",
       "package \"ConjugationTest\" as E1  [[psysml:811d2e93-771a-4206-9534-119b2782ed8b ]]  {\r\n",
       "def \"P\" as E2  <<(T,blue) port def>> [[psysml:a118eece-ff6c-41b4-a8ec-63007fd81e06 ]] \r\n",
       "rec def \"B\" as E3  <<(T,blue) part def>> [[psysml:45f3428f-90c5-481c-8b5b-6d42a9c9ecb4 ]] {\r\n",
       "portin \"p1: P\" as E4  <<(T,blue) port>> [[psysml:f10162e3-9121-4423-8c61-28bf75aadc9a ]] \r\n",
       "portin \"p2: ~P\" as E5  <<(T,blue) port>> [[psysml:f793b08e-b132-4869-8396-6344384571c9 ]] \r\n",
       "}\r\n",
       "rec def \"A\" as E6  <<(T,blue) connection def>> [[psysml:1e44cf6a-fe6c-483a-98ee-7c5816e24c4f ]] {\r\n",
       "portin \"p1: P\" as E7  <<(T,blue) port>> [[psysml:592da980-ebcc-4bfb-b89f-9a898fd7b408 ]] \r\n",
       "portin \"p2: ~P\" as E8  <<(T,blue) port>> [[psysml:4730362b-6892-4b61-8b08-4b1eb3a58a19 ]] \r\n",
       "}\r\n",
       "rec def \"I\" as E9  <<(T,blue) interface def>> [[psysml:c589f335-4cab-4324-b073-03ca89b55f7d ]] {\r\n",
       "portin \"p1: P\" as E10  <<(T,blue) port>> [[psysml:0a18d135-3a15-4f1e-a48b-3983b85e55aa ]] \r\n",
       "portin \"p2: ~P\" as E11  <<(T,blue) port>> [[psysml:f0ebefc1-580e-4b11-b9cf-e3cb40b874a3 ]] \r\n",
       "}\r\n",
       "rec def \"B1\" as E12  <<(T,blue) part def>> [[psysml:99d6c811-1239-4557-8bf5-512a2d9b51f5 ]] {\r\n",
       "rec usage \"p\" as E13  [[psysml:c80e6282-4b88-42a6-beea-d83b68d36327 ]] {\r\n",
       "portin \"p1: P\" as E14  <<(T,blue) port>> [[psysml:36fdd18b-cc96-4106-b803-027f179d9fab ]] \r\n",
       "portin \"p2: ~P\" as E15  <<(T,blue) port>> [[psysml:a04d4130-2616-430e-82e5-4df6c3f344d5 ]] \r\n",
       "}\r\n",
       "}\r\n",
       "}\r\n",
       "E14 -[thickness=3]- E15 [[psysml:356465e0-8362-42f7-8017-4c1d57dccd42 ]] \r\n",
       "E14 -[thickness=3]- E15 [[psysml:be002053-3eab-4239-b4ec-f62d8ddd6fa6 ]] \r\n",
       "@enduml\r\n",
       "\n",
       "PlantUML version 1.2020.13(Sat Jun 13 12:26:38 UTC 2020)\n",
       "(EPL source distribution)\n",
       "Java Runtime: OpenJDK Runtime Environment\n",
       "JVM: OpenJDK 64-Bit Server VM\n",
       "Default Encoding: UTF-8\n",
       "Language: en\n",
       "Country: null\n",
       "--></g></svg>"
      ]
     },
     "execution_count": 12,
     "metadata": {},
     "output_type": "execute_result"
    }
   ],
   "source": [
    "%viz --style=\"POLYLINE\" --view=\"Interconnection\" \"ConjugationTest\""
   ]
  },
  {
   "cell_type": "code",
   "execution_count": 13,
   "id": "0fe2ac06",
   "metadata": {
    "execution": {
     "iopub.execute_input": "2021-10-03T08:28:05.739332Z",
     "iopub.status.busy": "2021-10-03T08:28:05.739070Z",
     "iopub.status.idle": "2021-10-03T08:28:05.745084Z",
     "shell.execute_reply": "2021-10-03T08:28:05.745244Z"
    }
   },
   "outputs": [
    {
     "data": {
      "image/svg+xml": [
       "<?xml version=\"1.0\" encoding=\"UTF-8\" standalone=\"no\"?><svg xmlns=\"http://www.w3.org/2000/svg\" xmlns:xlink=\"http://www.w3.org/1999/xlink\" contentScriptType=\"application/ecmascript\" contentStyleType=\"text/css\" height=\"12px\" preserveAspectRatio=\"none\" style=\"width:12px;height:12px;\" version=\"1.1\" viewBox=\"0 0 12 12\" width=\"12px\" zoomAndPan=\"magnify\"><defs/><g><!--MD5=[97bbf32f66ccd50cbc40d92ea8f5a65e]\n",
       "@startuml\r\n",
       "skinparam ranksep 8\r\n",
       "skinparam linetype polyline\r\n",
       "skinparam monochrome true\r\n",
       "skinparam classbackgroundcolor white\r\n",
       "skinparam shadowing false\r\n",
       "skinparam wrapWidth 300\r\n",
       "hide circle\r\n",
       "\r\n",
       "@enduml\r\n",
       "\n",
       "PlantUML version 1.2020.13(Sat Jun 13 12:26:38 UTC 2020)\n",
       "(EPL source distribution)\n",
       "Java Runtime: OpenJDK Runtime Environment\n",
       "JVM: OpenJDK 64-Bit Server VM\n",
       "Default Encoding: UTF-8\n",
       "Language: en\n",
       "Country: null\n",
       "--></g></svg>"
      ]
     },
     "execution_count": 13,
     "metadata": {},
     "output_type": "execute_result"
    }
   ],
   "source": [
    "%viz --style=\"POLYLINE\" --view=\"Action\" \"ConjugationTest\""
   ]
  },
  {
   "cell_type": "code",
   "execution_count": 14,
   "id": "121164f5",
   "metadata": {
    "execution": {
     "iopub.execute_input": "2021-10-03T08:28:05.795436Z",
     "iopub.status.busy": "2021-10-03T08:28:05.795184Z",
     "iopub.status.idle": "2021-10-03T08:28:05.801767Z",
     "shell.execute_reply": "2021-10-03T08:28:05.802087Z"
    }
   },
   "outputs": [
    {
     "data": {
      "image/svg+xml": [
       "<?xml version=\"1.0\" encoding=\"UTF-8\" standalone=\"no\"?><svg xmlns=\"http://www.w3.org/2000/svg\" xmlns:xlink=\"http://www.w3.org/1999/xlink\" contentScriptType=\"application/ecmascript\" contentStyleType=\"text/css\" height=\"12px\" preserveAspectRatio=\"none\" style=\"width:12px;height:12px;\" version=\"1.1\" viewBox=\"0 0 12 12\" width=\"12px\" zoomAndPan=\"magnify\"><defs/><g><!--MD5=[dc938048236c351797870c36b62f92ad]\n",
       "@startuml\r\n",
       "skinparam roundcorner 20\r\n",
       "skinparam BoxPadding 20\r\n",
       "skinparam SequenceBoxBackgroundColor #white\r\n",
       "skinparam style strictuml\r\n",
       "skinparam maxMessageSize 100\r\n",
       "skinparam linetype polyline\r\n",
       "skinparam monochrome true\r\n",
       "skinparam classbackgroundcolor white\r\n",
       "skinparam shadowing false\r\n",
       "skinparam wrapWidth 300\r\n",
       "hide circle\r\n",
       "\r\n",
       "@enduml\r\n",
       "\n",
       "PlantUML version 1.2020.13(Sat Jun 13 12:26:38 UTC 2020)\n",
       "(EPL source distribution)\n",
       "Java Runtime: OpenJDK Runtime Environment\n",
       "JVM: OpenJDK 64-Bit Server VM\n",
       "Default Encoding: UTF-8\n",
       "Language: en\n",
       "Country: null\n",
       "--></g></svg>"
      ]
     },
     "execution_count": 14,
     "metadata": {},
     "output_type": "execute_result"
    }
   ],
   "source": [
    "%viz --style=\"POLYLINE\" --view=\"Sequence\" \"ConjugationTest\""
   ]
  },
  {
   "cell_type": "code",
   "execution_count": 15,
   "id": "bd1ae8d9",
   "metadata": {
    "execution": {
     "iopub.execute_input": "2021-10-03T08:28:05.852050Z",
     "iopub.status.busy": "2021-10-03T08:28:05.851426Z",
     "iopub.status.idle": "2021-10-03T08:28:05.912722Z",
     "shell.execute_reply": "2021-10-03T08:28:05.912340Z"
    }
   },
   "outputs": [
    {
     "data": {
      "image/svg+xml": [
       "<?xml version=\"1.0\" encoding=\"UTF-8\" standalone=\"no\"?><svg xmlns=\"http://www.w3.org/2000/svg\" xmlns:xlink=\"http://www.w3.org/1999/xlink\" contentScriptType=\"application/ecmascript\" contentStyleType=\"text/css\" height=\"433px\" preserveAspectRatio=\"none\" style=\"width:629px;height:433px;\" version=\"1.1\" viewBox=\"0 0 629 433\" width=\"629px\" zoomAndPan=\"magnify\"><defs/><g><!--MD5=[fbc87193dbaf4d95561dea2c320d4a47]\n",
       "cluster E1--><a href=\"psysml:811d2e93-771a-4206-9534-119b2782ed8b\" target=\"_top\" title=\"psysml:811d2e93-771a-4206-9534-119b2782ed8b\" xlink:actuate=\"onRequest\" xlink:href=\"psysml:811d2e93-771a-4206-9534-119b2782ed8b\" xlink:show=\"new\" xlink:title=\"psysml:811d2e93-771a-4206-9534-119b2782ed8b\" xlink:type=\"simple\"><polygon fill=\"#FFFFFF\" points=\"16,6,136,6,143,28.2969,607,28.2969,607,421,16,421,16,6\" style=\"stroke: #000000; stroke-width: 1.5;\"/><line style=\"stroke: #000000; stroke-width: 1.5;\" x1=\"16\" x2=\"143\" y1=\"28.2969\" y2=\"28.2969\"/><text fill=\"#000000\" font-family=\"sans-serif\" font-size=\"14\" font-weight=\"bold\" lengthAdjust=\"spacingAndGlyphs\" textLength=\"114\" x=\"20\" y=\"20.9951\">ConjugationTest</text></a><!--MD5=[b4997ac47864f28c2f74865a473b2911]\n",
       "class E2--><a href=\"psysml:a118eece-ff6c-41b4-a8ec-63007fd81e06\" target=\"_top\" title=\"psysml:a118eece-ff6c-41b4-a8ec-63007fd81e06\" xlink:actuate=\"onRequest\" xlink:href=\"psysml:a118eece-ff6c-41b4-a8ec-63007fd81e06\" xlink:show=\"new\" xlink:title=\"psysml:a118eece-ff6c-41b4-a8ec-63007fd81e06\" xlink:type=\"simple\"><rect fill=\"#FFFFFF\" height=\"45.9375\" id=\"E2\" style=\"stroke: #383838; stroke-width: 1.5;\" width=\"66\" x=\"221\" y=\"359\"/><text fill=\"#000000\" font-family=\"sans-serif\" font-size=\"12\" font-style=\"italic\" lengthAdjust=\"spacingAndGlyphs\" textLength=\"64\" x=\"222\" y=\"375.1387\">«port def»</text><text fill=\"#000000\" font-family=\"sans-serif\" font-size=\"12\" lengthAdjust=\"spacingAndGlyphs\" textLength=\"8\" x=\"250\" y=\"389.1074\">P</text><line style=\"stroke: #383838; stroke-width: 1.5;\" x1=\"222\" x2=\"286\" y1=\"396.9375\" y2=\"396.9375\"/></a><!--MD5=[09b614a08d8cba4a07c9adeb5e0fee81]\n",
       "class E3--><a href=\"psysml:45f3428f-90c5-481c-8b5b-6d42a9c9ecb4\" target=\"_top\" title=\"psysml:45f3428f-90c5-481c-8b5b-6d42a9c9ecb4\" xlink:actuate=\"onRequest\" xlink:href=\"psysml:45f3428f-90c5-481c-8b5b-6d42a9c9ecb4\" xlink:show=\"new\" xlink:title=\"psysml:45f3428f-90c5-481c-8b5b-6d42a9c9ecb4\" xlink:type=\"simple\"><rect fill=\"#FFFFFF\" height=\"45.9375\" id=\"E3\" style=\"stroke: #383838; stroke-width: 1.5;\" width=\"66\" x=\"489\" y=\"147\"/><text fill=\"#000000\" font-family=\"sans-serif\" font-size=\"12\" font-style=\"italic\" lengthAdjust=\"spacingAndGlyphs\" textLength=\"64\" x=\"490\" y=\"163.1387\">«part def»</text><text fill=\"#000000\" font-family=\"sans-serif\" font-size=\"12\" lengthAdjust=\"spacingAndGlyphs\" textLength=\"8\" x=\"518\" y=\"177.1074\">B</text><line style=\"stroke: #383838; stroke-width: 1.5;\" x1=\"490\" x2=\"554\" y1=\"184.9375\" y2=\"184.9375\"/></a><!--MD5=[ebbe1d658d1005bcc118a6aa81145e00]\n",
       "class E4--><a href=\"psysml:f10162e3-9121-4423-8c61-28bf75aadc9a\" target=\"_top\" title=\"psysml:f10162e3-9121-4423-8c61-28bf75aadc9a\" xlink:actuate=\"onRequest\" xlink:href=\"psysml:f10162e3-9121-4423-8c61-28bf75aadc9a\" xlink:show=\"new\" xlink:title=\"psysml:f10162e3-9121-4423-8c61-28bf75aadc9a\" xlink:type=\"simple\"><rect fill=\"#FFFFFF\" height=\"45.9375\" id=\"E4\" rx=\"10\" ry=\"10\" style=\"stroke: #383838; stroke-width: 1.5;\" width=\"42\" x=\"466\" y=\"253\"/><text fill=\"#000000\" font-family=\"sans-serif\" font-size=\"12\" font-style=\"italic\" lengthAdjust=\"spacingAndGlyphs\" textLength=\"40\" x=\"467\" y=\"269.1387\">«port»</text><text fill=\"#000000\" font-family=\"sans-serif\" font-size=\"12\" lengthAdjust=\"spacingAndGlyphs\" textLength=\"32\" x=\"471\" y=\"283.1074\">p1: P</text><line style=\"stroke: #383838; stroke-width: 1.5;\" x1=\"467\" x2=\"507\" y1=\"290.9375\" y2=\"290.9375\"/></a><!--MD5=[270fce915f116d4de14055a7c1d9a0f3]\n",
       "class E5--><a href=\"psysml:f793b08e-b132-4869-8396-6344384571c9\" target=\"_top\" title=\"psysml:f793b08e-b132-4869-8396-6344384571c9\" xlink:actuate=\"onRequest\" xlink:href=\"psysml:f793b08e-b132-4869-8396-6344384571c9\" xlink:show=\"new\" xlink:title=\"psysml:f793b08e-b132-4869-8396-6344384571c9\" xlink:type=\"simple\"><rect fill=\"#FFFFFF\" height=\"45.9375\" id=\"E5\" rx=\"10\" ry=\"10\" style=\"stroke: #383838; stroke-width: 1.5;\" width=\"48\" x=\"543\" y=\"253\"/><text fill=\"#000000\" font-family=\"sans-serif\" font-size=\"12\" font-style=\"italic\" lengthAdjust=\"spacingAndGlyphs\" textLength=\"40\" x=\"547\" y=\"269.1387\">«port»</text><text fill=\"#000000\" font-family=\"sans-serif\" font-size=\"12\" lengthAdjust=\"spacingAndGlyphs\" textLength=\"42\" x=\"546\" y=\"283.1074\">p2: ~P</text><line style=\"stroke: #383838; stroke-width: 1.5;\" x1=\"544\" x2=\"590\" y1=\"290.9375\" y2=\"290.9375\"/></a><!--MD5=[60a26617385b1d2d0262a64233df1f8d]\n",
       "class E6--><a href=\"psysml:1e44cf6a-fe6c-483a-98ee-7c5816e24c4f\" target=\"_top\" title=\"psysml:1e44cf6a-fe6c-483a-98ee-7c5816e24c4f\" xlink:actuate=\"onRequest\" xlink:href=\"psysml:1e44cf6a-fe6c-483a-98ee-7c5816e24c4f\" xlink:show=\"new\" xlink:title=\"psysml:1e44cf6a-fe6c-483a-98ee-7c5816e24c4f\" xlink:type=\"simple\"><rect fill=\"#FFFFFF\" height=\"45.9375\" id=\"E6\" style=\"stroke: #383838; stroke-width: 1.5;\" width=\"110\" x=\"282\" y=\"147\"/><text fill=\"#000000\" font-family=\"sans-serif\" font-size=\"12\" font-style=\"italic\" lengthAdjust=\"spacingAndGlyphs\" textLength=\"108\" x=\"283\" y=\"163.1387\">«connection def»</text><text fill=\"#000000\" font-family=\"sans-serif\" font-size=\"12\" lengthAdjust=\"spacingAndGlyphs\" textLength=\"8\" x=\"333\" y=\"177.1074\">A</text><line style=\"stroke: #383838; stroke-width: 1.5;\" x1=\"283\" x2=\"391\" y1=\"184.9375\" y2=\"184.9375\"/></a><!--MD5=[2156ba9850f5573cc1fc38a6a4b2f02b]\n",
       "class E7--><a href=\"psysml:592da980-ebcc-4bfb-b89f-9a898fd7b408\" target=\"_top\" title=\"psysml:592da980-ebcc-4bfb-b89f-9a898fd7b408\" xlink:actuate=\"onRequest\" xlink:href=\"psysml:592da980-ebcc-4bfb-b89f-9a898fd7b408\" xlink:show=\"new\" xlink:title=\"psysml:592da980-ebcc-4bfb-b89f-9a898fd7b408\" xlink:type=\"simple\"><rect fill=\"#FFFFFF\" height=\"45.9375\" id=\"E7\" rx=\"10\" ry=\"10\" style=\"stroke: #383838; stroke-width: 1.5;\" width=\"42\" x=\"306\" y=\"253\"/><text fill=\"#000000\" font-family=\"sans-serif\" font-size=\"12\" font-style=\"italic\" lengthAdjust=\"spacingAndGlyphs\" textLength=\"40\" x=\"307\" y=\"269.1387\">«port»</text><text fill=\"#000000\" font-family=\"sans-serif\" font-size=\"12\" lengthAdjust=\"spacingAndGlyphs\" textLength=\"32\" x=\"311\" y=\"283.1074\">p1: P</text><line style=\"stroke: #383838; stroke-width: 1.5;\" x1=\"307\" x2=\"347\" y1=\"290.9375\" y2=\"290.9375\"/></a><!--MD5=[b9389687b975829384b498ac4b7476b2]\n",
       "class E8--><a href=\"psysml:4730362b-6892-4b61-8b08-4b1eb3a58a19\" target=\"_top\" title=\"psysml:4730362b-6892-4b61-8b08-4b1eb3a58a19\" xlink:actuate=\"onRequest\" xlink:href=\"psysml:4730362b-6892-4b61-8b08-4b1eb3a58a19\" xlink:show=\"new\" xlink:title=\"psysml:4730362b-6892-4b61-8b08-4b1eb3a58a19\" xlink:type=\"simple\"><rect fill=\"#FFFFFF\" height=\"45.9375\" id=\"E8\" rx=\"10\" ry=\"10\" style=\"stroke: #383838; stroke-width: 1.5;\" width=\"48\" x=\"383\" y=\"253\"/><text fill=\"#000000\" font-family=\"sans-serif\" font-size=\"12\" font-style=\"italic\" lengthAdjust=\"spacingAndGlyphs\" textLength=\"40\" x=\"387\" y=\"269.1387\">«port»</text><text fill=\"#000000\" font-family=\"sans-serif\" font-size=\"12\" lengthAdjust=\"spacingAndGlyphs\" textLength=\"42\" x=\"386\" y=\"283.1074\">p2: ~P</text><line style=\"stroke: #383838; stroke-width: 1.5;\" x1=\"384\" x2=\"430\" y1=\"290.9375\" y2=\"290.9375\"/></a><!--MD5=[fd4143e9d270a159db93a4ea2a975926]\n",
       "class E9--><a href=\"psysml:c589f335-4cab-4324-b073-03ca89b55f7d\" target=\"_top\" title=\"psysml:c589f335-4cab-4324-b073-03ca89b55f7d\" xlink:actuate=\"onRequest\" xlink:href=\"psysml:c589f335-4cab-4324-b073-03ca89b55f7d\" xlink:show=\"new\" xlink:title=\"psysml:c589f335-4cab-4324-b073-03ca89b55f7d\" xlink:type=\"simple\"><rect fill=\"#FFFFFF\" height=\"45.9375\" id=\"E9\" style=\"stroke: #383838; stroke-width: 1.5;\" width=\"96\" x=\"146\" y=\"147\"/><text fill=\"#000000\" font-family=\"sans-serif\" font-size=\"12\" font-style=\"italic\" lengthAdjust=\"spacingAndGlyphs\" textLength=\"94\" x=\"147\" y=\"163.1387\">«interface def»</text><text fill=\"#000000\" font-family=\"sans-serif\" font-size=\"12\" lengthAdjust=\"spacingAndGlyphs\" textLength=\"3\" x=\"192.5\" y=\"177.1074\">I</text><line style=\"stroke: #383838; stroke-width: 1.5;\" x1=\"147\" x2=\"241\" y1=\"184.9375\" y2=\"184.9375\"/></a><!--MD5=[96f4274e9e20536e775497830990834d]\n",
       "class E10--><a href=\"psysml:0a18d135-3a15-4f1e-a48b-3983b85e55aa\" target=\"_top\" title=\"psysml:0a18d135-3a15-4f1e-a48b-3983b85e55aa\" xlink:actuate=\"onRequest\" xlink:href=\"psysml:0a18d135-3a15-4f1e-a48b-3983b85e55aa\" xlink:show=\"new\" xlink:title=\"psysml:0a18d135-3a15-4f1e-a48b-3983b85e55aa\" xlink:type=\"simple\"><rect fill=\"#FFFFFF\" height=\"45.9375\" id=\"E10\" rx=\"10\" ry=\"10\" style=\"stroke: #383838; stroke-width: 1.5;\" width=\"42\" x=\"146\" y=\"253\"/><text fill=\"#000000\" font-family=\"sans-serif\" font-size=\"12\" font-style=\"italic\" lengthAdjust=\"spacingAndGlyphs\" textLength=\"40\" x=\"147\" y=\"269.1387\">«port»</text><text fill=\"#000000\" font-family=\"sans-serif\" font-size=\"12\" lengthAdjust=\"spacingAndGlyphs\" textLength=\"32\" x=\"151\" y=\"283.1074\">p1: P</text><line style=\"stroke: #383838; stroke-width: 1.5;\" x1=\"147\" x2=\"187\" y1=\"290.9375\" y2=\"290.9375\"/></a><!--MD5=[1dd1bfd58a279cf63c5f349dbc8fc6a1]\n",
       "class E11--><a href=\"psysml:f0ebefc1-580e-4b11-b9cf-e3cb40b874a3\" target=\"_top\" title=\"psysml:f0ebefc1-580e-4b11-b9cf-e3cb40b874a3\" xlink:actuate=\"onRequest\" xlink:href=\"psysml:f0ebefc1-580e-4b11-b9cf-e3cb40b874a3\" xlink:show=\"new\" xlink:title=\"psysml:f0ebefc1-580e-4b11-b9cf-e3cb40b874a3\" xlink:type=\"simple\"><rect fill=\"#FFFFFF\" height=\"45.9375\" id=\"E11\" rx=\"10\" ry=\"10\" style=\"stroke: #383838; stroke-width: 1.5;\" width=\"48\" x=\"223\" y=\"253\"/><text fill=\"#000000\" font-family=\"sans-serif\" font-size=\"12\" font-style=\"italic\" lengthAdjust=\"spacingAndGlyphs\" textLength=\"40\" x=\"227\" y=\"269.1387\">«port»</text><text fill=\"#000000\" font-family=\"sans-serif\" font-size=\"12\" lengthAdjust=\"spacingAndGlyphs\" textLength=\"42\" x=\"226\" y=\"283.1074\">p2: ~P</text><line style=\"stroke: #383838; stroke-width: 1.5;\" x1=\"224\" x2=\"270\" y1=\"290.9375\" y2=\"290.9375\"/></a><!--MD5=[49a0ec8f00dab7302a31f22d0f0fe584]\n",
       "class E12--><a href=\"psysml:99d6c811-1239-4557-8bf5-512a2d9b51f5\" target=\"_top\" title=\"psysml:99d6c811-1239-4557-8bf5-512a2d9b51f5\" xlink:actuate=\"onRequest\" xlink:href=\"psysml:99d6c811-1239-4557-8bf5-512a2d9b51f5\" xlink:show=\"new\" xlink:title=\"psysml:99d6c811-1239-4557-8bf5-512a2d9b51f5\" xlink:type=\"simple\"><rect fill=\"#FFFFFF\" height=\"45.9375\" id=\"E12\" style=\"stroke: #383838; stroke-width: 1.5;\" width=\"66\" x=\"47\" y=\"41\"/><text fill=\"#000000\" font-family=\"sans-serif\" font-size=\"12\" font-style=\"italic\" lengthAdjust=\"spacingAndGlyphs\" textLength=\"64\" x=\"48\" y=\"57.1387\">«part def»</text><text fill=\"#000000\" font-family=\"sans-serif\" font-size=\"12\" lengthAdjust=\"spacingAndGlyphs\" textLength=\"16\" x=\"72\" y=\"71.1074\">B1</text><line style=\"stroke: #383838; stroke-width: 1.5;\" x1=\"48\" x2=\"112\" y1=\"78.9375\" y2=\"78.9375\"/></a><!--MD5=[ee3c913d1a06f366521f9ef512b67efe]\n",
       "class E13--><a href=\"psysml:c80e6282-4b88-42a6-beea-d83b68d36327\" target=\"_top\" title=\"psysml:c80e6282-4b88-42a6-beea-d83b68d36327\" xlink:actuate=\"onRequest\" xlink:href=\"psysml:c80e6282-4b88-42a6-beea-d83b68d36327\" xlink:show=\"new\" xlink:title=\"psysml:c80e6282-4b88-42a6-beea-d83b68d36327\" xlink:type=\"simple\"><rect fill=\"#FFFFFF\" height=\"45.9375\" id=\"E13\" rx=\"10\" ry=\"10\" style=\"stroke: #383838; stroke-width: 1.5;\" width=\"42\" x=\"59\" y=\"147\"/><text fill=\"#000000\" font-family=\"sans-serif\" font-size=\"12\" font-style=\"italic\" lengthAdjust=\"spacingAndGlyphs\" textLength=\"40\" x=\"60\" y=\"163.1387\">«part»</text><text fill=\"#000000\" font-family=\"sans-serif\" font-size=\"12\" lengthAdjust=\"spacingAndGlyphs\" textLength=\"8\" x=\"76\" y=\"177.1074\">p</text><line style=\"stroke: #383838; stroke-width: 1.5;\" x1=\"60\" x2=\"100\" y1=\"184.9375\" y2=\"184.9375\"/></a><!--MD5=[bee11217b2f71d958a27249dc326068c]\n",
       "class E14--><a href=\"psysml:36fdd18b-cc96-4106-b803-027f179d9fab\" target=\"_top\" title=\"psysml:36fdd18b-cc96-4106-b803-027f179d9fab\" xlink:actuate=\"onRequest\" xlink:href=\"psysml:36fdd18b-cc96-4106-b803-027f179d9fab\" xlink:show=\"new\" xlink:title=\"psysml:36fdd18b-cc96-4106-b803-027f179d9fab\" xlink:type=\"simple\"><rect fill=\"#FFFFFF\" height=\"45.9375\" id=\"E14\" rx=\"10\" ry=\"10\" style=\"stroke: #383838; stroke-width: 1.5;\" width=\"42\" x=\"69\" y=\"253\"/><text fill=\"#000000\" font-family=\"sans-serif\" font-size=\"12\" font-style=\"italic\" lengthAdjust=\"spacingAndGlyphs\" textLength=\"40\" x=\"70\" y=\"269.1387\">«port»</text><text fill=\"#000000\" font-family=\"sans-serif\" font-size=\"12\" lengthAdjust=\"spacingAndGlyphs\" textLength=\"32\" x=\"74\" y=\"283.1074\">p1: P</text><line style=\"stroke: #383838; stroke-width: 1.5;\" x1=\"70\" x2=\"110\" y1=\"290.9375\" y2=\"290.9375\"/></a><!--MD5=[0c48fb7552dae8cbbef69381101a84c8]\n",
       "class E15--><a href=\"psysml:a04d4130-2616-430e-82e5-4df6c3f344d5\" target=\"_top\" title=\"psysml:a04d4130-2616-430e-82e5-4df6c3f344d5\" xlink:actuate=\"onRequest\" xlink:href=\"psysml:a04d4130-2616-430e-82e5-4df6c3f344d5\" xlink:show=\"new\" xlink:title=\"psysml:a04d4130-2616-430e-82e5-4df6c3f344d5\" xlink:type=\"simple\"><rect fill=\"#FFFFFF\" height=\"45.9375\" id=\"E15\" rx=\"10\" ry=\"10\" style=\"stroke: #383838; stroke-width: 1.5;\" width=\"48\" x=\"66\" y=\"359\"/><text fill=\"#000000\" font-family=\"sans-serif\" font-size=\"12\" font-style=\"italic\" lengthAdjust=\"spacingAndGlyphs\" textLength=\"40\" x=\"70\" y=\"375.1387\">«port»</text><text fill=\"#000000\" font-family=\"sans-serif\" font-size=\"12\" lengthAdjust=\"spacingAndGlyphs\" textLength=\"42\" x=\"69\" y=\"389.1074\">p2: ~P</text><line style=\"stroke: #383838; stroke-width: 1.5;\" x1=\"67\" x2=\"113\" y1=\"396.9375\" y2=\"396.9375\"/></a><!--MD5=[4672eba38e49728da53d11aeb285b987]\n",
       "reverse link E3 to E4--><a href=\"psysml:478537c4-9aea-45e7-93bf-51b2f99f76d0\" target=\"_top\" title=\"psysml:478537c4-9aea-45e7-93bf-51b2f99f76d0\" xlink:actuate=\"onRequest\" xlink:href=\"psysml:478537c4-9aea-45e7-93bf-51b2f99f76d0\" xlink:show=\"new\" xlink:title=\"psysml:478537c4-9aea-45e7-93bf-51b2f99f76d0\" xlink:type=\"simple\"><path d=\"M510.39,205.49 C505.12,221.15 499.05,239.19 494.41,252.98 \" fill=\"none\" id=\"E3&lt;-E4\" style=\"stroke: #383838; stroke-width: 1.0;\"/><polygon fill=\"#FFFFFF\" points=\"514.58,193.06,508.8756,197.4713,510.7536,204.4336,516.458,200.0223,514.58,193.06\" style=\"stroke: #383838; stroke-width: 1.0;\"/><text fill=\"#000000\" font-family=\"sans-serif\" font-size=\"13\" lengthAdjust=\"spacingAndGlyphs\" textLength=\"8\" x=\"487.3264\" y=\"241.8709\">1</text></a><!--MD5=[185131fc0dcab0a4505a2ebe144e961b]\n",
       "link E4 to E2--><a href=\"psysml:9a27f54b-62e8-4ed3-8ffb-179b9354440f\" target=\"_top\" title=\"psysml:9a27f54b-62e8-4ed3-8ffb-179b9354440f\" xlink:actuate=\"onRequest\" xlink:href=\"psysml:9a27f54b-62e8-4ed3-8ffb-179b9354440f\" xlink:show=\"new\" xlink:title=\"psysml:9a27f54b-62e8-4ed3-8ffb-179b9354440f\" xlink:type=\"simple\"><path d=\"M465.78,289.29 C457.07,294.33 449,299 449,299 C449,299 363.58,334.92 305.81,359.21 \" fill=\"none\" id=\"E4-&gt;E2\" style=\"stroke: #383838; stroke-width: 1.0;\"/><polygon fill=\"#FFFFFF\" points=\"287.08,367.09,301.8799,353.2711,307.3078,366.1761,287.08,367.09\" style=\"stroke: #383838; stroke-width: 1.0;\"/><ellipse cx=\"307.9095\" cy=\"352.9047\" fill=\"#383838\" rx=\"2\" ry=\"2\" style=\"stroke: #383838; stroke-width: 1.0;\"/><ellipse cx=\"311.7866\" cy=\"362.1226\" fill=\"#383838\" rx=\"2\" ry=\"2\" style=\"stroke: #383838; stroke-width: 1.0;\"/></a><!--MD5=[191cde3d490a3f6d7bb551fe3ddca469]\n",
       "reverse link E3 to E5--><a href=\"psysml:0c237cb0-b529-413c-8aaf-d2f6ce3a1092\" target=\"_top\" title=\"psysml:0c237cb0-b529-413c-8aaf-d2f6ce3a1092\" xlink:actuate=\"onRequest\" xlink:href=\"psysml:0c237cb0-b529-413c-8aaf-d2f6ce3a1092\" xlink:show=\"new\" xlink:title=\"psysml:0c237cb0-b529-413c-8aaf-d2f6ce3a1092\" xlink:type=\"simple\"><path d=\"M536.72,205.03 C543.54,220.78 551.45,239.06 557.47,252.98 \" fill=\"none\" id=\"E3&lt;-E5\" style=\"stroke: #383838; stroke-width: 1.0;\"/><polygon fill=\"#FFFFFF\" points=\"531.54,193.06,530.2495,200.1547,536.302,204.0747,537.5926,196.98,531.54,193.06\" style=\"stroke: #383838; stroke-width: 1.0;\"/><text fill=\"#000000\" font-family=\"sans-serif\" font-size=\"13\" lengthAdjust=\"spacingAndGlyphs\" textLength=\"8\" x=\"545.8338\" y=\"241.8709\">1</text></a><!--MD5=[3f50a3473f1dfb74d3f76443e03635af]\n",
       "reverse link E6 to E7--><a href=\"psysml:b94a6cc2-6585-4221-b4bd-c6e1360a7593\" target=\"_top\" title=\"psysml:b94a6cc2-6585-4221-b4bd-c6e1360a7593\" xlink:actuate=\"onRequest\" xlink:href=\"psysml:b94a6cc2-6585-4221-b4bd-c6e1360a7593\" xlink:show=\"new\" xlink:title=\"psysml:b94a6cc2-6585-4221-b4bd-c6e1360a7593\" xlink:type=\"simple\"><path d=\"M333.59,206.44 C332.11,221.87 330.42,239.47 329.12,252.98 \" fill=\"none\" id=\"E6&lt;-E7\" style=\"stroke: #383838; stroke-width: 1.0;\"/><polygon fill=\"#FFFFFF\" points=\"334.88,193.06,330.3242,198.6497,333.7317,205.0049,338.2875,199.4152,334.88,193.06\" style=\"stroke: #383838; stroke-width: 1.0;\"/><text fill=\"#000000\" font-family=\"sans-serif\" font-size=\"13\" lengthAdjust=\"spacingAndGlyphs\" textLength=\"8\" x=\"320.6148\" y=\"241.8709\">1</text></a><!--MD5=[583832df87f4419a098336a29a52fa00]\n",
       "link E7 to E2--><a href=\"psysml:6c7ecdb4-3704-4141-b5eb-90be274661d4\" target=\"_top\" title=\"psysml:6c7ecdb4-3704-4141-b5eb-90be274661d4\" xlink:actuate=\"onRequest\" xlink:href=\"psysml:6c7ecdb4-3704-4141-b5eb-90be274661d4\" xlink:show=\"new\" xlink:title=\"psysml:6c7ecdb4-3704-4141-b5eb-90be274661d4\" xlink:type=\"simple\"><path d=\"M311.52,299.06 C302.71,311.6 291.43,327.68 281.19,342.26 \" fill=\"none\" id=\"E7-&gt;E2\" style=\"stroke: #383838; stroke-width: 1.0;\"/><polygon fill=\"#FFFFFF\" points=\"269.46,358.98,274.6532,339.4088,286.1093,347.4561,269.46,358.98\" style=\"stroke: #383838; stroke-width: 1.0;\"/><ellipse cx=\"279.5662\" cy=\"335.8942\" fill=\"#383838\" rx=\"2\" ry=\"2\" style=\"stroke: #383838; stroke-width: 1.0;\"/><ellipse cx=\"287.7491\" cy=\"341.6422\" fill=\"#383838\" rx=\"2\" ry=\"2\" style=\"stroke: #383838; stroke-width: 1.0;\"/></a><!--MD5=[f4cf0736d43fd73c4ef68817c49d37d5]\n",
       "reverse link E6 to E8--><a href=\"psysml:c893fa2e-0043-44e8-be45-2077001790d0\" target=\"_top\" title=\"psysml:c893fa2e-0043-44e8-be45-2077001790d0\" xlink:actuate=\"onRequest\" xlink:href=\"psysml:c893fa2e-0043-44e8-be45-2077001790d0\" xlink:show=\"new\" xlink:title=\"psysml:c893fa2e-0043-44e8-be45-2077001790d0\" xlink:type=\"simple\"><path d=\"M359.27,204.09 C370.02,220.06 382.62,238.78 392.18,252.98 \" fill=\"none\" id=\"E6&lt;-E8\" style=\"stroke: #383838; stroke-width: 1.0;\"/><polygon fill=\"#FFFFFF\" points=\"351.85,193.06,351.8808,200.271,358.5489,203.0161,358.5182,195.8051,351.85,193.06\" style=\"stroke: #383838; stroke-width: 1.0;\"/><text fill=\"#000000\" font-family=\"sans-serif\" font-size=\"13\" lengthAdjust=\"spacingAndGlyphs\" textLength=\"8\" x=\"379.1221\" y=\"241.8709\">1</text></a><!--MD5=[23ac544a70576c3e717098101004234c]\n",
       "reverse link E9 to E10--><a href=\"psysml:3723b58c-a4dd-4ef3-9a79-2a659572d83c\" target=\"_top\" title=\"psysml:3723b58c-a4dd-4ef3-9a79-2a659572d83c\" xlink:actuate=\"onRequest\" xlink:href=\"psysml:3723b58c-a4dd-4ef3-9a79-2a659572d83c\" xlink:show=\"new\" xlink:title=\"psysml:3723b58c-a4dd-4ef3-9a79-2a659572d83c\" xlink:type=\"simple\"><path d=\"M184.92,205.96 C180.89,221.51 176.26,239.33 172.72,252.98 \" fill=\"none\" id=\"E9&lt;-E10\" style=\"stroke: #383838; stroke-width: 1.0;\"/><polygon fill=\"#FFFFFF\" points=\"188.27,193.06,182.8943,197.8665,185.2635,204.6773,190.6392,199.8708,188.27,193.06\" style=\"stroke: #383838; stroke-width: 1.0;\"/><text fill=\"#000000\" font-family=\"sans-serif\" font-size=\"13\" lengthAdjust=\"spacingAndGlyphs\" textLength=\"8\" x=\"165.1823\" y=\"241.8709\">1</text></a><!--MD5=[0f36bececdf0dff6e600d6f64214b0f1]\n",
       "link E10 to E2--><a href=\"psysml:8c7a6e5c-2c0e-473c-a2c4-4062964bb416\" target=\"_top\" title=\"psysml:8c7a6e5c-2c0e-473c-a2c4-4062964bb416\" xlink:actuate=\"onRequest\" xlink:href=\"psysml:8c7a6e5c-2c0e-473c-a2c4-4062964bb416\" xlink:show=\"new\" xlink:title=\"psysml:8c7a6e5c-2c0e-473c-a2c4-4062964bb416\" xlink:type=\"simple\"><path d=\"M185.45,299.06 C196.18,311.88 209.99,328.39 222.4,343.22 \" fill=\"none\" id=\"E10-&gt;E2\" style=\"stroke: #383838; stroke-width: 1.0;\"/><polygon fill=\"#FFFFFF\" points=\"235.58,358.98,218.0168,348.9036,228.7522,339.9174,235.58,358.98\" style=\"stroke: #383838; stroke-width: 1.0;\"/><ellipse cx=\"215.8918\" cy=\"343.249\" fill=\"#383838\" rx=\"2\" ry=\"2\" style=\"stroke: #383838; stroke-width: 1.0;\"/><ellipse cx=\"223.5599\" cy=\"336.8303\" fill=\"#383838\" rx=\"2\" ry=\"2\" style=\"stroke: #383838; stroke-width: 1.0;\"/></a><!--MD5=[1fc04a95fd77ad5ce46c1a3027516051]\n",
       "reverse link E9 to E11--><a href=\"psysml:05b52cb0-1bec-4ecb-a4ba-b6e0a5fd36fa\" target=\"_top\" title=\"psysml:05b52cb0-1bec-4ecb-a4ba-b6e0a5fd36fa\" xlink:actuate=\"onRequest\" xlink:href=\"psysml:05b52cb0-1bec-4ecb-a4ba-b6e0a5fd36fa\" xlink:show=\"new\" xlink:title=\"psysml:05b52cb0-1bec-4ecb-a4ba-b6e0a5fd36fa\" xlink:type=\"simple\"><path d=\"M211.34,205.03 C219.37,220.78 228.68,239.06 235.78,252.98 \" fill=\"none\" id=\"E9&lt;-E11\" style=\"stroke: #383838; stroke-width: 1.0;\"/><polygon fill=\"#FFFFFF\" points=\"205.24,193.06,204.3983,200.2218,210.6855,203.7533,211.5272,196.5915,205.24,193.06\" style=\"stroke: #383838; stroke-width: 1.0;\"/><text fill=\"#000000\" font-family=\"sans-serif\" font-size=\"13\" lengthAdjust=\"spacingAndGlyphs\" textLength=\"8\" x=\"223.6896\" y=\"241.8709\">1</text></a><!--MD5=[062ed86c389d1a88f61c6380d0491e17]\n",
       "reverse link E12 to E13--><a href=\"psysml:2ea9f126-2045-475e-98b2-0bebbeaf39ba\" target=\"_top\" title=\"psysml:2ea9f126-2045-475e-98b2-0bebbeaf39ba\" xlink:actuate=\"onRequest\" xlink:href=\"psysml:2ea9f126-2045-475e-98b2-0bebbeaf39ba\" xlink:show=\"new\" xlink:title=\"psysml:2ea9f126-2045-475e-98b2-0bebbeaf39ba\" xlink:type=\"simple\"><path d=\"M80,100.44 C80,115.87 80,133.47 80,146.98 \" fill=\"none\" id=\"E12&lt;-E13\" style=\"stroke: #383838; stroke-width: 1.0;\"/><polygon fill=\"#383838\" points=\"80,87.06,76,93.06,80,99.06,84,93.06,80,87.06\" style=\"stroke: #383838; stroke-width: 1.0;\"/><text fill=\"#000000\" font-family=\"sans-serif\" font-size=\"13\" lengthAdjust=\"spacingAndGlyphs\" textLength=\"8\" x=\"70.925\" y=\"135.8709\">1</text></a><!--MD5=[01db00f33b28669d6d9febea71002831]\n",
       "reverse link E13 to E14--><a href=\"psysml:56644651-1cff-4e4b-add6-5aaf4cbf3323\" target=\"_top\" title=\"psysml:56644651-1cff-4e4b-add6-5aaf4cbf3323\" xlink:actuate=\"onRequest\" xlink:href=\"psysml:56644651-1cff-4e4b-add6-5aaf4cbf3323\" xlink:show=\"new\" xlink:title=\"psysml:56644651-1cff-4e4b-add6-5aaf4cbf3323\" xlink:type=\"simple\"><path d=\"M83.41,206.44 C84.89,221.87 86.58,239.47 87.88,252.98 \" fill=\"none\" id=\"E13&lt;-E14\" style=\"stroke: #383838; stroke-width: 1.0;\"/><polygon fill=\"#FFFFFF\" points=\"82.12,193.06,78.7125,199.4152,83.2683,205.0049,86.6758,198.6497,82.12,193.06\" style=\"stroke: #383838; stroke-width: 1.0;\"/><text fill=\"#000000\" font-family=\"sans-serif\" font-size=\"13\" lengthAdjust=\"spacingAndGlyphs\" textLength=\"8\" x=\"78.2353\" y=\"241.8709\">1</text></a><!--MD5=[e5566ac99d7714697a7fbc17f6b550fe]\n",
       "link E14 to E2--><a href=\"psysml:004f1bd4-f46a-4fc3-b446-5abbd305cc50\" target=\"_top\" title=\"psysml:004f1bd4-f46a-4fc3-b446-5abbd305cc50\" xlink:actuate=\"onRequest\" xlink:href=\"psysml:004f1bd4-f46a-4fc3-b446-5abbd305cc50\" xlink:show=\"new\" xlink:title=\"psysml:004f1bd4-f46a-4fc3-b446-5abbd305cc50\" xlink:type=\"simple\"><path d=\"M111.1,290.38 C134.32,305.1 172.45,329.29 203.49,348.97 \" fill=\"none\" id=\"E14-&gt;E2\" style=\"stroke: #383838; stroke-width: 1.0;\"/><polygon fill=\"#FFFFFF\" points=\"220.77,359.93,200.9767,355.661,208.4774,343.8399,220.77,359.93\" style=\"stroke: #383838; stroke-width: 1.0;\"/><ellipse cx=\"197.2353\" cy=\"350.9184\" fill=\"#383838\" rx=\"2\" ry=\"2\" style=\"stroke: #383838; stroke-width: 1.0;\"/><ellipse cx=\"202.593\" cy=\"342.4748\" fill=\"#383838\" rx=\"2\" ry=\"2\" style=\"stroke: #383838; stroke-width: 1.0;\"/></a><!--MD5=[e9a5e828c71fd2209a11a152f562d491]\n",
       "reverse link E13 to E15--><a href=\"psysml:439c4bcd-5bf6-4395-bbdb-0df2330c2504\" target=\"_top\" title=\"psysml:439c4bcd-5bf6-4395-bbdb-0df2330c2504\" xlink:actuate=\"onRequest\" xlink:href=\"psysml:439c4bcd-5bf6-4395-bbdb-0df2330c2504\" xlink:show=\"new\" xlink:title=\"psysml:439c4bcd-5bf6-4395-bbdb-0df2330c2504\" xlink:type=\"simple\"><path d=\"M68.14,205.73 C60.51,228.09 52,253 52,253 C52,253 52,299 52,299 C52,299 68.37,334.31 79.62,358.59 \" fill=\"none\" id=\"E13&lt;-E15\" style=\"stroke: #383838; stroke-width: 1.0;\"/><polygon fill=\"#FFFFFF\" points=\"72.35,193.41,66.6257,197.7955,68.4723,204.7662,74.1965,200.3807,72.35,193.41\" style=\"stroke: #383838; stroke-width: 1.0;\"/><text fill=\"#000000\" font-family=\"sans-serif\" font-size=\"13\" lengthAdjust=\"spacingAndGlyphs\" textLength=\"8\" x=\"67.9351\" y=\"347.7612\">1</text></a><!--MD5=[3afbdc645381407e1bc99677323a2513]\n",
       "link E14 to E15--><a href=\"psysml:356465e0-8362-42f7-8017-4c1d57dccd42\" target=\"_top\" title=\"psysml:356465e0-8362-42f7-8017-4c1d57dccd42\" xlink:actuate=\"onRequest\" xlink:href=\"psysml:356465e0-8362-42f7-8017-4c1d57dccd42\" xlink:show=\"new\" xlink:title=\"psysml:356465e0-8362-42f7-8017-4c1d57dccd42\" xlink:type=\"simple\"><path d=\"M79.35,299.06 C76.55,316.7 76.55,341.34 79.36,358.98 \" fill=\"none\" id=\"E14-E15\" style=\"stroke: #383838; stroke-width: 3.0;\"/></a><!--MD5=[3afbdc645381407e1bc99677323a2513]\n",
       "link E14 to E15--><a href=\"psysml:be002053-3eab-4239-b4ec-f62d8ddd6fa6\" target=\"_top\" title=\"psysml:be002053-3eab-4239-b4ec-f62d8ddd6fa6\" xlink:actuate=\"onRequest\" xlink:href=\"psysml:be002053-3eab-4239-b4ec-f62d8ddd6fa6\" xlink:show=\"new\" xlink:title=\"psysml:be002053-3eab-4239-b4ec-f62d8ddd6fa6\" xlink:type=\"simple\"><path d=\"M101.27,299.06 C104.24,316.7 104.24,341.34 101.27,358.98 \" fill=\"none\" id=\"E14-E15-1\" style=\"stroke: #383838; stroke-width: 3.0;\"/></a><!--MD5=[9fa2062ea0169063908c8d90e1d5ba0a]\n",
       "@startuml\r\n",
       "skinparam linetype polyline\r\n",
       "skinparam monochrome true\r\n",
       "skinparam classbackgroundcolor white\r\n",
       "skinparam shadowing false\r\n",
       "skinparam wrapWidth 300\r\n",
       "hide circle\r\n",
       "\r\n",
       "package \"ConjugationTest\" as E1  [[psysml:811d2e93-771a-4206-9534-119b2782ed8b ]]  {\r\n",
       "comp def \"P\" as E2  <<(T,blue) port def>> [[psysml:a118eece-ff6c-41b4-a8ec-63007fd81e06 ]] {\r\n",
       "}\r\n",
       "comp def \"B\" as E3  <<(T,blue) part def>> [[psysml:45f3428f-90c5-481c-8b5b-6d42a9c9ecb4 ]] {\r\n",
       "}\r\n",
       "comp usage \"p1: P\" as E4  <<(T,blue) port>> [[psysml:f10162e3-9121-4423-8c61-28bf75aadc9a ]] {\r\n",
       "}\r\n",
       "comp usage \"p2: ~P\" as E5  <<(T,blue) port>> [[psysml:f793b08e-b132-4869-8396-6344384571c9 ]] {\r\n",
       "}\r\n",
       "comp def \"A\" as E6  <<(T,blue) connection def>> [[psysml:1e44cf6a-fe6c-483a-98ee-7c5816e24c4f ]] {\r\n",
       "}\r\n",
       "comp usage \"p1: P\" as E7  <<(T,blue) port>> [[psysml:592da980-ebcc-4bfb-b89f-9a898fd7b408 ]] {\r\n",
       "}\r\n",
       "comp usage \"p2: ~P\" as E8  <<(T,blue) port>> [[psysml:4730362b-6892-4b61-8b08-4b1eb3a58a19 ]] {\r\n",
       "}\r\n",
       "comp def \"I\" as E9  <<(T,blue) interface def>> [[psysml:c589f335-4cab-4324-b073-03ca89b55f7d ]] {\r\n",
       "}\r\n",
       "comp usage \"p1: P\" as E10  <<(T,blue) port>> [[psysml:0a18d135-3a15-4f1e-a48b-3983b85e55aa ]] {\r\n",
       "}\r\n",
       "comp usage \"p2: ~P\" as E11  <<(T,blue) port>> [[psysml:f0ebefc1-580e-4b11-b9cf-e3cb40b874a3 ]] {\r\n",
       "}\r\n",
       "comp def \"B1\" as E12  <<(T,blue) part def>> [[psysml:99d6c811-1239-4557-8bf5-512a2d9b51f5 ]] {\r\n",
       "}\r\n",
       "comp usage \"p\" as E13  <<(T,blue) part>> [[psysml:c80e6282-4b88-42a6-beea-d83b68d36327 ]] {\r\n",
       "}\r\n",
       "comp usage \"p1: P\" as E14  <<(T,blue) port>> [[psysml:36fdd18b-cc96-4106-b803-027f179d9fab ]] {\r\n",
       "}\r\n",
       "comp usage \"p2: ~P\" as E15  <<(T,blue) port>> [[psysml:a04d4130-2616-430e-82e5-4df6c3f344d5 ]] {\r\n",
       "}\r\n",
       "}\r\n",
       "E3 o- - \"1\"E4 [[psysml:478537c4-9aea-45e7-93bf-51b2f99f76d0 ]] \r\n",
       "E4 - -:|> E2 [[psysml:9a27f54b-62e8-4ed3-8ffb-179b9354440f ]] \r\n",
       "E3 o- - \"1\"E5 [[psysml:0c237cb0-b529-413c-8aaf-d2f6ce3a1092 ]] \r\n",
       "E6 o- - \"1\"E7 [[psysml:b94a6cc2-6585-4221-b4bd-c6e1360a7593 ]] \r\n",
       "E7 - -:|> E2 [[psysml:6c7ecdb4-3704-4141-b5eb-90be274661d4 ]] \r\n",
       "E6 o- - \"1\"E8 [[psysml:c893fa2e-0043-44e8-be45-2077001790d0 ]] \r\n",
       "E9 o- - \"1\"E10 [[psysml:3723b58c-a4dd-4ef3-9a79-2a659572d83c ]] \r\n",
       "E10 - -:|> E2 [[psysml:8c7a6e5c-2c0e-473c-a2c4-4062964bb416 ]] \r\n",
       "E9 o- - \"1\"E11 [[psysml:05b52cb0-1bec-4ecb-a4ba-b6e0a5fd36fa ]] \r\n",
       "E12 *- - \"1\"E13 [[psysml:2ea9f126-2045-475e-98b2-0bebbeaf39ba ]] \r\n",
       "E13 o- - \"1\"E14 [[psysml:56644651-1cff-4e4b-add6-5aaf4cbf3323 ]] \r\n",
       "E14 - -:|> E2 [[psysml:004f1bd4-f46a-4fc3-b446-5abbd305cc50 ]] \r\n",
       "E13 o- - \"1\"E15 [[psysml:439c4bcd-5bf6-4395-bbdb-0df2330c2504 ]] \r\n",
       "E14 -[thickness=3]- E15 [[psysml:356465e0-8362-42f7-8017-4c1d57dccd42 ]] \r\n",
       "E14 -[thickness=3]- E15 [[psysml:be002053-3eab-4239-b4ec-f62d8ddd6fa6 ]] \r\n",
       "@enduml\r\n",
       "\n",
       "PlantUML version 1.2020.13(Sat Jun 13 12:26:38 UTC 2020)\n",
       "(EPL source distribution)\n",
       "Java Runtime: OpenJDK Runtime Environment\n",
       "JVM: OpenJDK 64-Bit Server VM\n",
       "Default Encoding: UTF-8\n",
       "Language: en\n",
       "Country: null\n",
       "--></g></svg>"
      ]
     },
     "execution_count": 15,
     "metadata": {},
     "output_type": "execute_result"
    }
   ],
   "source": [
    "%viz --style=\"POLYLINE\" --view=\"MIXED\" \"ConjugationTest\""
   ]
  },
  {
   "cell_type": "code",
   "execution_count": 16,
   "id": "fc4980b7",
   "metadata": {
    "execution": {
     "iopub.execute_input": "2021-10-03T08:28:05.962030Z",
     "iopub.status.busy": "2021-10-03T08:28:05.961524Z",
     "iopub.status.idle": "2021-10-03T08:28:06.024419Z",
     "shell.execute_reply": "2021-10-03T08:28:06.023899Z"
    }
   },
   "outputs": [
    {
     "data": {
      "image/svg+xml": [
       "<?xml version=\"1.0\" encoding=\"UTF-8\" standalone=\"no\"?><svg xmlns=\"http://www.w3.org/2000/svg\" xmlns:xlink=\"http://www.w3.org/1999/xlink\" contentScriptType=\"application/ecmascript\" contentStyleType=\"text/css\" height=\"638px\" preserveAspectRatio=\"none\" style=\"width:540px;height:638px;\" version=\"1.1\" viewBox=\"0 0 540 638\" width=\"540px\" zoomAndPan=\"magnify\"><defs/><g><!--MD5=[fbc87193dbaf4d95561dea2c320d4a47]\n",
       "cluster E1--><a href=\"psysml:811d2e93-771a-4206-9534-119b2782ed8b\" target=\"_top\" title=\"psysml:811d2e93-771a-4206-9534-119b2782ed8b\" xlink:actuate=\"onRequest\" xlink:href=\"psysml:811d2e93-771a-4206-9534-119b2782ed8b\" xlink:show=\"new\" xlink:title=\"psysml:811d2e93-771a-4206-9534-119b2782ed8b\" xlink:type=\"simple\"><polygon fill=\"#FFFFFF\" points=\"16,6,136,6,143,28.2969,518,28.2969,518,626,16,626,16,6\" style=\"stroke: #000000; stroke-width: 1.5;\"/><line style=\"stroke: #000000; stroke-width: 1.5;\" x1=\"16\" x2=\"143\" y1=\"28.2969\" y2=\"28.2969\"/><text fill=\"#000000\" font-family=\"sans-serif\" font-size=\"14\" font-weight=\"bold\" lengthAdjust=\"spacingAndGlyphs\" textLength=\"114\" x=\"20\" y=\"20.9951\">ConjugationTest</text></a><!--MD5=[b4997ac47864f28c2f74865a473b2911]\n",
       "class E2--><a href=\"psysml:a118eece-ff6c-41b4-a8ec-63007fd81e06\" target=\"_top\" title=\"psysml:a118eece-ff6c-41b4-a8ec-63007fd81e06\" xlink:actuate=\"onRequest\" xlink:href=\"psysml:a118eece-ff6c-41b4-a8ec-63007fd81e06\" xlink:show=\"new\" xlink:title=\"psysml:a118eece-ff6c-41b4-a8ec-63007fd81e06\" xlink:type=\"simple\"><rect fill=\"#FFFFFF\" height=\"45.9375\" id=\"E2\" style=\"stroke: #383838; stroke-width: 1.5;\" width=\"66\" x=\"436\" y=\"365\"/><text fill=\"#000000\" font-family=\"sans-serif\" font-size=\"12\" font-style=\"italic\" lengthAdjust=\"spacingAndGlyphs\" textLength=\"64\" x=\"437\" y=\"381.1387\">«port def»</text><text fill=\"#000000\" font-family=\"sans-serif\" font-size=\"12\" lengthAdjust=\"spacingAndGlyphs\" textLength=\"8\" x=\"465\" y=\"395.1074\">P</text><line style=\"stroke: #383838; stroke-width: 1.5;\" x1=\"437\" x2=\"501\" y1=\"402.9375\" y2=\"402.9375\"/></a><!--MD5=[09b614a08d8cba4a07c9adeb5e0fee81]\n",
       "class E3--><a href=\"psysml:45f3428f-90c5-481c-8b5b-6d42a9c9ecb4\" target=\"_top\" title=\"psysml:45f3428f-90c5-481c-8b5b-6d42a9c9ecb4\" xlink:actuate=\"onRequest\" xlink:href=\"psysml:45f3428f-90c5-481c-8b5b-6d42a9c9ecb4\" xlink:show=\"new\" xlink:title=\"psysml:45f3428f-90c5-481c-8b5b-6d42a9c9ecb4\" xlink:type=\"simple\"><rect fill=\"#FFFFFF\" height=\"45.9375\" id=\"E3\" style=\"stroke: #383838; stroke-width: 1.5;\" width=\"66\" x=\"180\" y=\"82\"/><text fill=\"#000000\" font-family=\"sans-serif\" font-size=\"12\" font-style=\"italic\" lengthAdjust=\"spacingAndGlyphs\" textLength=\"64\" x=\"181\" y=\"98.1387\">«part def»</text><text fill=\"#000000\" font-family=\"sans-serif\" font-size=\"12\" lengthAdjust=\"spacingAndGlyphs\" textLength=\"8\" x=\"209\" y=\"112.1074\">B</text><line style=\"stroke: #383838; stroke-width: 1.5;\" x1=\"181\" x2=\"245\" y1=\"119.9375\" y2=\"119.9375\"/></a><!--MD5=[ebbe1d658d1005bcc118a6aa81145e00]\n",
       "class E4--><a href=\"psysml:f10162e3-9121-4423-8c61-28bf75aadc9a\" target=\"_top\" title=\"psysml:f10162e3-9121-4423-8c61-28bf75aadc9a\" xlink:actuate=\"onRequest\" xlink:href=\"psysml:f10162e3-9121-4423-8c61-28bf75aadc9a\" xlink:show=\"new\" xlink:title=\"psysml:f10162e3-9121-4423-8c61-28bf75aadc9a\" xlink:type=\"simple\"><rect fill=\"#FFFFFF\" height=\"45.9375\" id=\"E4\" rx=\"10\" ry=\"10\" style=\"stroke: #383838; stroke-width: 1.5;\" width=\"42\" x=\"331\" y=\"122\"/><text fill=\"#000000\" font-family=\"sans-serif\" font-size=\"12\" font-style=\"italic\" lengthAdjust=\"spacingAndGlyphs\" textLength=\"40\" x=\"332\" y=\"138.1387\">«port»</text><text fill=\"#000000\" font-family=\"sans-serif\" font-size=\"12\" lengthAdjust=\"spacingAndGlyphs\" textLength=\"32\" x=\"336\" y=\"152.1074\">p1: P</text><line style=\"stroke: #383838; stroke-width: 1.5;\" x1=\"332\" x2=\"372\" y1=\"159.9375\" y2=\"159.9375\"/></a><!--MD5=[270fce915f116d4de14055a7c1d9a0f3]\n",
       "class E5--><a href=\"psysml:f793b08e-b132-4869-8396-6344384571c9\" target=\"_top\" title=\"psysml:f793b08e-b132-4869-8396-6344384571c9\" xlink:actuate=\"onRequest\" xlink:href=\"psysml:f793b08e-b132-4869-8396-6344384571c9\" xlink:show=\"new\" xlink:title=\"psysml:f793b08e-b132-4869-8396-6344384571c9\" xlink:type=\"simple\"><rect fill=\"#FFFFFF\" height=\"45.9375\" id=\"E5\" rx=\"10\" ry=\"10\" style=\"stroke: #383838; stroke-width: 1.5;\" width=\"48\" x=\"328\" y=\"41\"/><text fill=\"#000000\" font-family=\"sans-serif\" font-size=\"12\" font-style=\"italic\" lengthAdjust=\"spacingAndGlyphs\" textLength=\"40\" x=\"332\" y=\"57.1387\">«port»</text><text fill=\"#000000\" font-family=\"sans-serif\" font-size=\"12\" lengthAdjust=\"spacingAndGlyphs\" textLength=\"42\" x=\"331\" y=\"71.1074\">p2: ~P</text><line style=\"stroke: #383838; stroke-width: 1.5;\" x1=\"329\" x2=\"375\" y1=\"78.9375\" y2=\"78.9375\"/></a><!--MD5=[60a26617385b1d2d0262a64233df1f8d]\n",
       "class E6--><a href=\"psysml:1e44cf6a-fe6c-483a-98ee-7c5816e24c4f\" target=\"_top\" title=\"psysml:1e44cf6a-fe6c-483a-98ee-7c5816e24c4f\" xlink:actuate=\"onRequest\" xlink:href=\"psysml:1e44cf6a-fe6c-483a-98ee-7c5816e24c4f\" xlink:show=\"new\" xlink:title=\"psysml:1e44cf6a-fe6c-483a-98ee-7c5816e24c4f\" xlink:type=\"simple\"><rect fill=\"#FFFFFF\" height=\"45.9375\" id=\"E6\" style=\"stroke: #383838; stroke-width: 1.5;\" width=\"110\" x=\"158\" y=\"244\"/><text fill=\"#000000\" font-family=\"sans-serif\" font-size=\"12\" font-style=\"italic\" lengthAdjust=\"spacingAndGlyphs\" textLength=\"108\" x=\"159\" y=\"260.1387\">«connection def»</text><text fill=\"#000000\" font-family=\"sans-serif\" font-size=\"12\" lengthAdjust=\"spacingAndGlyphs\" textLength=\"8\" x=\"209\" y=\"274.1074\">A</text><line style=\"stroke: #383838; stroke-width: 1.5;\" x1=\"159\" x2=\"267\" y1=\"281.9375\" y2=\"281.9375\"/></a><!--MD5=[2156ba9850f5573cc1fc38a6a4b2f02b]\n",
       "class E7--><a href=\"psysml:592da980-ebcc-4bfb-b89f-9a898fd7b408\" target=\"_top\" title=\"psysml:592da980-ebcc-4bfb-b89f-9a898fd7b408\" xlink:actuate=\"onRequest\" xlink:href=\"psysml:592da980-ebcc-4bfb-b89f-9a898fd7b408\" xlink:show=\"new\" xlink:title=\"psysml:592da980-ebcc-4bfb-b89f-9a898fd7b408\" xlink:type=\"simple\"><rect fill=\"#FFFFFF\" height=\"45.9375\" id=\"E7\" rx=\"10\" ry=\"10\" style=\"stroke: #383838; stroke-width: 1.5;\" width=\"42\" x=\"331\" y=\"284\"/><text fill=\"#000000\" font-family=\"sans-serif\" font-size=\"12\" font-style=\"italic\" lengthAdjust=\"spacingAndGlyphs\" textLength=\"40\" x=\"332\" y=\"300.1387\">«port»</text><text fill=\"#000000\" font-family=\"sans-serif\" font-size=\"12\" lengthAdjust=\"spacingAndGlyphs\" textLength=\"32\" x=\"336\" y=\"314.1074\">p1: P</text><line style=\"stroke: #383838; stroke-width: 1.5;\" x1=\"332\" x2=\"372\" y1=\"321.9375\" y2=\"321.9375\"/></a><!--MD5=[b9389687b975829384b498ac4b7476b2]\n",
       "class E8--><a href=\"psysml:4730362b-6892-4b61-8b08-4b1eb3a58a19\" target=\"_top\" title=\"psysml:4730362b-6892-4b61-8b08-4b1eb3a58a19\" xlink:actuate=\"onRequest\" xlink:href=\"psysml:4730362b-6892-4b61-8b08-4b1eb3a58a19\" xlink:show=\"new\" xlink:title=\"psysml:4730362b-6892-4b61-8b08-4b1eb3a58a19\" xlink:type=\"simple\"><rect fill=\"#FFFFFF\" height=\"45.9375\" id=\"E8\" rx=\"10\" ry=\"10\" style=\"stroke: #383838; stroke-width: 1.5;\" width=\"48\" x=\"328\" y=\"203\"/><text fill=\"#000000\" font-family=\"sans-serif\" font-size=\"12\" font-style=\"italic\" lengthAdjust=\"spacingAndGlyphs\" textLength=\"40\" x=\"332\" y=\"219.1387\">«port»</text><text fill=\"#000000\" font-family=\"sans-serif\" font-size=\"12\" lengthAdjust=\"spacingAndGlyphs\" textLength=\"42\" x=\"331\" y=\"233.1074\">p2: ~P</text><line style=\"stroke: #383838; stroke-width: 1.5;\" x1=\"329\" x2=\"375\" y1=\"240.9375\" y2=\"240.9375\"/></a><!--MD5=[fd4143e9d270a159db93a4ea2a975926]\n",
       "class E9--><a href=\"psysml:c589f335-4cab-4324-b073-03ca89b55f7d\" target=\"_top\" title=\"psysml:c589f335-4cab-4324-b073-03ca89b55f7d\" xlink:actuate=\"onRequest\" xlink:href=\"psysml:c589f335-4cab-4324-b073-03ca89b55f7d\" xlink:show=\"new\" xlink:title=\"psysml:c589f335-4cab-4324-b073-03ca89b55f7d\" xlink:type=\"simple\"><rect fill=\"#FFFFFF\" height=\"45.9375\" id=\"E9\" style=\"stroke: #383838; stroke-width: 1.5;\" width=\"96\" x=\"165\" y=\"406\"/><text fill=\"#000000\" font-family=\"sans-serif\" font-size=\"12\" font-style=\"italic\" lengthAdjust=\"spacingAndGlyphs\" textLength=\"94\" x=\"166\" y=\"422.1387\">«interface def»</text><text fill=\"#000000\" font-family=\"sans-serif\" font-size=\"12\" lengthAdjust=\"spacingAndGlyphs\" textLength=\"3\" x=\"211.5\" y=\"436.1074\">I</text><line style=\"stroke: #383838; stroke-width: 1.5;\" x1=\"166\" x2=\"260\" y1=\"443.9375\" y2=\"443.9375\"/></a><!--MD5=[96f4274e9e20536e775497830990834d]\n",
       "class E10--><a href=\"psysml:0a18d135-3a15-4f1e-a48b-3983b85e55aa\" target=\"_top\" title=\"psysml:0a18d135-3a15-4f1e-a48b-3983b85e55aa\" xlink:actuate=\"onRequest\" xlink:href=\"psysml:0a18d135-3a15-4f1e-a48b-3983b85e55aa\" xlink:show=\"new\" xlink:title=\"psysml:0a18d135-3a15-4f1e-a48b-3983b85e55aa\" xlink:type=\"simple\"><rect fill=\"#FFFFFF\" height=\"45.9375\" id=\"E10\" rx=\"10\" ry=\"10\" style=\"stroke: #383838; stroke-width: 1.5;\" width=\"42\" x=\"331\" y=\"446\"/><text fill=\"#000000\" font-family=\"sans-serif\" font-size=\"12\" font-style=\"italic\" lengthAdjust=\"spacingAndGlyphs\" textLength=\"40\" x=\"332\" y=\"462.1387\">«port»</text><text fill=\"#000000\" font-family=\"sans-serif\" font-size=\"12\" lengthAdjust=\"spacingAndGlyphs\" textLength=\"32\" x=\"336\" y=\"476.1074\">p1: P</text><line style=\"stroke: #383838; stroke-width: 1.5;\" x1=\"332\" x2=\"372\" y1=\"483.9375\" y2=\"483.9375\"/></a><!--MD5=[1dd1bfd58a279cf63c5f349dbc8fc6a1]\n",
       "class E11--><a href=\"psysml:f0ebefc1-580e-4b11-b9cf-e3cb40b874a3\" target=\"_top\" title=\"psysml:f0ebefc1-580e-4b11-b9cf-e3cb40b874a3\" xlink:actuate=\"onRequest\" xlink:href=\"psysml:f0ebefc1-580e-4b11-b9cf-e3cb40b874a3\" xlink:show=\"new\" xlink:title=\"psysml:f0ebefc1-580e-4b11-b9cf-e3cb40b874a3\" xlink:type=\"simple\"><rect fill=\"#FFFFFF\" height=\"45.9375\" id=\"E11\" rx=\"10\" ry=\"10\" style=\"stroke: #383838; stroke-width: 1.5;\" width=\"48\" x=\"328\" y=\"365\"/><text fill=\"#000000\" font-family=\"sans-serif\" font-size=\"12\" font-style=\"italic\" lengthAdjust=\"spacingAndGlyphs\" textLength=\"40\" x=\"332\" y=\"381.1387\">«port»</text><text fill=\"#000000\" font-family=\"sans-serif\" font-size=\"12\" lengthAdjust=\"spacingAndGlyphs\" textLength=\"42\" x=\"331\" y=\"395.1074\">p2: ~P</text><line style=\"stroke: #383838; stroke-width: 1.5;\" x1=\"329\" x2=\"375\" y1=\"402.9375\" y2=\"402.9375\"/></a><!--MD5=[49a0ec8f00dab7302a31f22d0f0fe584]\n",
       "class E12--><a href=\"psysml:99d6c811-1239-4557-8bf5-512a2d9b51f5\" target=\"_top\" title=\"psysml:99d6c811-1239-4557-8bf5-512a2d9b51f5\" xlink:actuate=\"onRequest\" xlink:href=\"psysml:99d6c811-1239-4557-8bf5-512a2d9b51f5\" xlink:show=\"new\" xlink:title=\"psysml:99d6c811-1239-4557-8bf5-512a2d9b51f5\" xlink:type=\"simple\"><rect fill=\"#FFFFFF\" height=\"45.9375\" id=\"E12\" style=\"stroke: #383838; stroke-width: 1.5;\" width=\"66\" x=\"32\" y=\"546\"/><text fill=\"#000000\" font-family=\"sans-serif\" font-size=\"12\" font-style=\"italic\" lengthAdjust=\"spacingAndGlyphs\" textLength=\"64\" x=\"33\" y=\"562.1387\">«part def»</text><text fill=\"#000000\" font-family=\"sans-serif\" font-size=\"12\" lengthAdjust=\"spacingAndGlyphs\" textLength=\"16\" x=\"57\" y=\"576.1074\">B1</text><line style=\"stroke: #383838; stroke-width: 1.5;\" x1=\"33\" x2=\"97\" y1=\"583.9375\" y2=\"583.9375\"/></a><!--MD5=[ee3c913d1a06f366521f9ef512b67efe]\n",
       "class E13--><a href=\"psysml:c80e6282-4b88-42a6-beea-d83b68d36327\" target=\"_top\" title=\"psysml:c80e6282-4b88-42a6-beea-d83b68d36327\" xlink:actuate=\"onRequest\" xlink:href=\"psysml:c80e6282-4b88-42a6-beea-d83b68d36327\" xlink:show=\"new\" xlink:title=\"psysml:c80e6282-4b88-42a6-beea-d83b68d36327\" xlink:type=\"simple\"><rect fill=\"#FFFFFF\" height=\"45.9375\" id=\"E13\" rx=\"10\" ry=\"10\" style=\"stroke: #383838; stroke-width: 1.5;\" width=\"42\" x=\"192\" y=\"546\"/><text fill=\"#000000\" font-family=\"sans-serif\" font-size=\"12\" font-style=\"italic\" lengthAdjust=\"spacingAndGlyphs\" textLength=\"40\" x=\"193\" y=\"562.1387\">«part»</text><text fill=\"#000000\" font-family=\"sans-serif\" font-size=\"12\" lengthAdjust=\"spacingAndGlyphs\" textLength=\"8\" x=\"209\" y=\"576.1074\">p</text><line style=\"stroke: #383838; stroke-width: 1.5;\" x1=\"193\" x2=\"233\" y1=\"583.9375\" y2=\"583.9375\"/></a><!--MD5=[bee11217b2f71d958a27249dc326068c]\n",
       "class E14--><a href=\"psysml:36fdd18b-cc96-4106-b803-027f179d9fab\" target=\"_top\" title=\"psysml:36fdd18b-cc96-4106-b803-027f179d9fab\" xlink:actuate=\"onRequest\" xlink:href=\"psysml:36fdd18b-cc96-4106-b803-027f179d9fab\" xlink:show=\"new\" xlink:title=\"psysml:36fdd18b-cc96-4106-b803-027f179d9fab\" xlink:type=\"simple\"><rect fill=\"#FFFFFF\" height=\"45.9375\" id=\"E14\" rx=\"10\" ry=\"10\" style=\"stroke: #383838; stroke-width: 1.5;\" width=\"42\" x=\"331\" y=\"527\"/><text fill=\"#000000\" font-family=\"sans-serif\" font-size=\"12\" font-style=\"italic\" lengthAdjust=\"spacingAndGlyphs\" textLength=\"40\" x=\"332\" y=\"543.1387\">«port»</text><text fill=\"#000000\" font-family=\"sans-serif\" font-size=\"12\" lengthAdjust=\"spacingAndGlyphs\" textLength=\"32\" x=\"336\" y=\"557.1074\">p1: P</text><line style=\"stroke: #383838; stroke-width: 1.5;\" x1=\"332\" x2=\"372\" y1=\"564.9375\" y2=\"564.9375\"/></a><!--MD5=[0c48fb7552dae8cbbef69381101a84c8]\n",
       "class E15--><a href=\"psysml:a04d4130-2616-430e-82e5-4df6c3f344d5\" target=\"_top\" title=\"psysml:a04d4130-2616-430e-82e5-4df6c3f344d5\" xlink:actuate=\"onRequest\" xlink:href=\"psysml:a04d4130-2616-430e-82e5-4df6c3f344d5\" xlink:show=\"new\" xlink:title=\"psysml:a04d4130-2616-430e-82e5-4df6c3f344d5\" xlink:type=\"simple\"><rect fill=\"#FFFFFF\" height=\"45.9375\" id=\"E15\" rx=\"10\" ry=\"10\" style=\"stroke: #383838; stroke-width: 1.5;\" width=\"48\" x=\"445\" y=\"527\"/><text fill=\"#000000\" font-family=\"sans-serif\" font-size=\"12\" font-style=\"italic\" lengthAdjust=\"spacingAndGlyphs\" textLength=\"40\" x=\"449\" y=\"543.1387\">«port»</text><text fill=\"#000000\" font-family=\"sans-serif\" font-size=\"12\" lengthAdjust=\"spacingAndGlyphs\" textLength=\"42\" x=\"448\" y=\"557.1074\">p2: ~P</text><line style=\"stroke: #383838; stroke-width: 1.5;\" x1=\"446\" x2=\"492\" y1=\"564.9375\" y2=\"564.9375\"/></a><!--MD5=[4672eba38e49728da53d11aeb285b987]\n",
       "reverse link E3 to E4--><a href=\"psysml:478537c4-9aea-45e7-93bf-51b2f99f76d0\" target=\"_top\" title=\"psysml:478537c4-9aea-45e7-93bf-51b2f99f76d0\" xlink:actuate=\"onRequest\" xlink:href=\"psysml:478537c4-9aea-45e7-93bf-51b2f99f76d0\" xlink:show=\"new\" xlink:title=\"psysml:478537c4-9aea-45e7-93bf-51b2f99f76d0\" xlink:type=\"simple\"><path d=\"M258.74,118.06 C283.11,125.18 312.08,133.64 330.96,139.15 \" fill=\"none\" id=\"E3&lt;-E4\" style=\"stroke: #383838; stroke-width: 1.0;\"/><polygon fill=\"#FFFFFF\" points=\"246.12,114.38,250.7595,119.9004,257.6397,117.741,253.0002,112.2206,246.12,114.38\" style=\"stroke: #383838; stroke-width: 1.0;\"/><text fill=\"#000000\" font-family=\"sans-serif\" font-size=\"13\" lengthAdjust=\"spacingAndGlyphs\" textLength=\"8\" x=\"314.9785\" y=\"151.774\">1</text></a><!--MD5=[185131fc0dcab0a4505a2ebe144e961b]\n",
       "link E4 to E2--><a href=\"psysml:9a27f54b-62e8-4ed3-8ffb-179b9354440f\" target=\"_top\" title=\"psysml:9a27f54b-62e8-4ed3-8ffb-179b9354440f\" xlink:actuate=\"onRequest\" xlink:href=\"psysml:9a27f54b-62e8-4ed3-8ffb-179b9354440f\" xlink:show=\"new\" xlink:title=\"psysml:9a27f54b-62e8-4ed3-8ffb-179b9354440f\" xlink:type=\"simple\"><path d=\"M366.76,168.06 C369.9,173.55 373.15,179.44 376,185 C404.07,239.77 432.78,304.84 450.49,346.27 \" fill=\"none\" id=\"E4-&gt;E2\" style=\"stroke: #383838; stroke-width: 1.0;\"/><polygon fill=\"#FFFFFF\" points=\"458.36,364.83,444.494,350.0742,457.3816,344.6052,458.36,364.83\" style=\"stroke: #383838; stroke-width: 1.0;\"/><ellipse cx=\"444.1084\" cy=\"344.0458\" fill=\"#383838\" rx=\"2\" ry=\"2\" style=\"stroke: #383838; stroke-width: 1.0;\"/><ellipse cx=\"453.3139\" cy=\"340.1394\" fill=\"#383838\" rx=\"2\" ry=\"2\" style=\"stroke: #383838; stroke-width: 1.0;\"/></a><!--MD5=[191cde3d490a3f6d7bb551fe3ddca469]\n",
       "reverse link E3 to E5--><a href=\"psysml:0c237cb0-b529-413c-8aaf-d2f6ce3a1092\" target=\"_top\" title=\"psysml:0c237cb0-b529-413c-8aaf-d2f6ce3a1092\" xlink:actuate=\"onRequest\" xlink:href=\"psysml:0c237cb0-b529-413c-8aaf-d2f6ce3a1092\" xlink:show=\"new\" xlink:title=\"psysml:0c237cb0-b529-413c-8aaf-d2f6ce3a1092\" xlink:type=\"simple\"><path d=\"M258.74,91.61 C281.73,84.73 308.8,76.63 327.65,70.99 \" fill=\"none\" id=\"E3&lt;-E5\" style=\"stroke: #383838; stroke-width: 1.0;\"/><polygon fill=\"#FFFFFF\" points=\"246.12,95.39,253.015,97.5016,257.6161,91.9491,250.7211,89.8375,246.12,95.39\" style=\"stroke: #383838; stroke-width: 1.0;\"/><text fill=\"#000000\" font-family=\"sans-serif\" font-size=\"13\" lengthAdjust=\"spacingAndGlyphs\" textLength=\"8\" x=\"312.0309\" y=\"86.9773\">1</text></a><!--MD5=[3f50a3473f1dfb74d3f76443e03635af]\n",
       "reverse link E6 to E7--><a href=\"psysml:b94a6cc2-6585-4221-b4bd-c6e1360a7593\" target=\"_top\" title=\"psysml:b94a6cc2-6585-4221-b4bd-c6e1360a7593\" xlink:actuate=\"onRequest\" xlink:href=\"psysml:b94a6cc2-6585-4221-b4bd-c6e1360a7593\" xlink:show=\"new\" xlink:title=\"psysml:b94a6cc2-6585-4221-b4bd-c6e1360a7593\" xlink:type=\"simple\"><path d=\"M280.67,286.47 C298.89,291.79 317.28,297.16 330.69,301.07 \" fill=\"none\" id=\"E6&lt;-E7\" style=\"stroke: #383838; stroke-width: 1.0;\"/><polygon fill=\"#FFFFFF\" points=\"268.15,282.81,272.7895,288.3304,279.6697,286.171,275.0302,280.6506,268.15,282.81\" style=\"stroke: #383838; stroke-width: 1.0;\"/><text fill=\"#000000\" font-family=\"sans-serif\" font-size=\"13\" lengthAdjust=\"spacingAndGlyphs\" textLength=\"8\" x=\"314.9388\" y=\"313.6476\">1</text></a><!--MD5=[583832df87f4419a098336a29a52fa00]\n",
       "link E7 to E2--><a href=\"psysml:6c7ecdb4-3704-4141-b5eb-90be274661d4\" target=\"_top\" title=\"psysml:6c7ecdb4-3704-4141-b5eb-90be274661d4\" xlink:actuate=\"onRequest\" xlink:href=\"psysml:6c7ecdb4-3704-4141-b5eb-90be274661d4\" xlink:show=\"new\" xlink:title=\"psysml:6c7ecdb4-3704-4141-b5eb-90be274661d4\" xlink:type=\"simple\"><path d=\"M373.03,321.11 C385.76,330.08 402.84,342.1 419,353.48 \" fill=\"none\" id=\"E7-&gt;E2\" style=\"stroke: #383838; stroke-width: 1.0;\"/><polygon fill=\"#FFFFFF\" points=\"435.6,365.18,416.034,359.9673,424.0927,348.5192,435.6,365.18\" style=\"stroke: #383838; stroke-width: 1.0;\"/><ellipse cx=\"412.5242\" cy=\"355.0509\" fill=\"#383838\" rx=\"2\" ry=\"2\" style=\"stroke: #383838; stroke-width: 1.0;\"/><ellipse cx=\"418.2804\" cy=\"346.8737\" fill=\"#383838\" rx=\"2\" ry=\"2\" style=\"stroke: #383838; stroke-width: 1.0;\"/></a><!--MD5=[f4cf0736d43fd73c4ef68817c49d37d5]\n",
       "reverse link E6 to E8--><a href=\"psysml:c893fa2e-0043-44e8-be45-2077001790d0\" target=\"_top\" title=\"psysml:c893fa2e-0043-44e8-be45-2077001790d0\" xlink:actuate=\"onRequest\" xlink:href=\"psysml:c893fa2e-0043-44e8-be45-2077001790d0\" xlink:show=\"new\" xlink:title=\"psysml:c893fa2e-0043-44e8-be45-2077001790d0\" xlink:type=\"simple\"><path d=\"M280.98,246.96 C297.88,241.9 314.9,236.8 327.93,232.9 \" fill=\"none\" id=\"E6&lt;-E8\" style=\"stroke: #383838; stroke-width: 1.0;\"/><polygon fill=\"#FFFFFF\" points=\"268.15,250.8,275.0428,252.9188,279.6497,247.3712,272.7569,245.2524,268.15,250.8\" style=\"stroke: #383838; stroke-width: 1.0;\"/><text fill=\"#000000\" font-family=\"sans-serif\" font-size=\"13\" lengthAdjust=\"spacingAndGlyphs\" textLength=\"8\" x=\"312.0353\" y=\"249.0444\">1</text></a><!--MD5=[23ac544a70576c3e717098101004234c]\n",
       "reverse link E9 to E10--><a href=\"psysml:3723b58c-a4dd-4ef3-9a79-2a659572d83c\" target=\"_top\" title=\"psysml:3723b58c-a4dd-4ef3-9a79-2a659572d83c\" xlink:actuate=\"onRequest\" xlink:href=\"psysml:3723b58c-a4dd-4ef3-9a79-2a659572d83c\" xlink:show=\"new\" xlink:title=\"psysml:3723b58c-a4dd-4ef3-9a79-2a659572d83c\" xlink:type=\"simple\"><path d=\"M273.71,446.43 C294.22,452.42 315.8,458.72 330.93,463.14 \" fill=\"none\" id=\"E9&lt;-E10\" style=\"stroke: #383838; stroke-width: 1.0;\"/><polygon fill=\"#FFFFFF\" points=\"261.15,442.77,265.7895,448.2904,272.6697,446.131,268.0302,440.6106,261.15,442.77\" style=\"stroke: #383838; stroke-width: 1.0;\"/><text fill=\"#000000\" font-family=\"sans-serif\" font-size=\"13\" lengthAdjust=\"spacingAndGlyphs\" textLength=\"8\" x=\"314.9389\" y=\"475.7608\">1</text></a><!--MD5=[0f36bececdf0dff6e600d6f64214b0f1]\n",
       "link E10 to E2--><a href=\"psysml:8c7a6e5c-2c0e-473c-a2c4-4062964bb416\" target=\"_top\" title=\"psysml:8c7a6e5c-2c0e-473c-a2c4-4062964bb416\" xlink:actuate=\"onRequest\" xlink:href=\"psysml:8c7a6e5c-2c0e-473c-a2c4-4062964bb416\" xlink:show=\"new\" xlink:title=\"psysml:8c7a6e5c-2c0e-473c-a2c4-4062964bb416\" xlink:type=\"simple\"><path d=\"M373.03,454.89 C385.76,445.92 402.84,433.9 419,422.52 \" fill=\"none\" id=\"E10-&gt;E2\" style=\"stroke: #383838; stroke-width: 1.0;\"/><polygon fill=\"#FFFFFF\" points=\"435.6,410.82,424.0927,427.4808,416.034,416.0327,435.6,410.82\" style=\"stroke: #383838; stroke-width: 1.0;\"/><ellipse cx=\"418.2804\" cy=\"429.1263\" fill=\"#383838\" rx=\"2\" ry=\"2\" style=\"stroke: #383838; stroke-width: 1.0;\"/><ellipse cx=\"412.5242\" cy=\"420.9491\" fill=\"#383838\" rx=\"2\" ry=\"2\" style=\"stroke: #383838; stroke-width: 1.0;\"/></a><!--MD5=[1fc04a95fd77ad5ce46c1a3027516051]\n",
       "reverse link E9 to E11--><a href=\"psysml:05b52cb0-1bec-4ecb-a4ba-b6e0a5fd36fa\" target=\"_top\" title=\"psysml:05b52cb0-1bec-4ecb-a4ba-b6e0a5fd36fa\" xlink:actuate=\"onRequest\" xlink:href=\"psysml:05b52cb0-1bec-4ecb-a4ba-b6e0a5fd36fa\" xlink:show=\"new\" xlink:title=\"psysml:05b52cb0-1bec-4ecb-a4ba-b6e0a5fd36fa\" xlink:type=\"simple\"><path d=\"M273.79,411.11 C292.83,405.41 312.78,399.44 327.63,394.99 \" fill=\"none\" id=\"E9&lt;-E11\" style=\"stroke: #383838; stroke-width: 1.0;\"/><polygon fill=\"#FFFFFF\" points=\"261.15,414.89,268.045,417.0016,272.6461,411.4491,265.7511,409.3375,261.15,414.89\" style=\"stroke: #383838; stroke-width: 1.0;\"/><text fill=\"#000000\" font-family=\"sans-serif\" font-size=\"13\" lengthAdjust=\"spacingAndGlyphs\" textLength=\"8\" x=\"312.0056\" y=\"410.9773\">1</text></a><!--MD5=[062ed86c389d1a88f61c6380d0491e17]\n",
       "reverse link E12 to E13--><a href=\"psysml:2ea9f126-2045-475e-98b2-0bebbeaf39ba\" target=\"_top\" title=\"psysml:2ea9f126-2045-475e-98b2-0bebbeaf39ba\" xlink:actuate=\"onRequest\" xlink:href=\"psysml:2ea9f126-2045-475e-98b2-0bebbeaf39ba\" xlink:show=\"new\" xlink:title=\"psysml:2ea9f126-2045-475e-98b2-0bebbeaf39ba\" xlink:type=\"simple\"><path d=\"M111.1,569 C138.05,569 170.97,569 191.72,569 \" fill=\"none\" id=\"E12&lt;-E13\" style=\"stroke: #383838; stroke-width: 1.0;\"/><polygon fill=\"#383838\" points=\"98.04,569,104.04,573,110.04,569,104.04,565,98.04,569\" style=\"stroke: #383838; stroke-width: 1.0;\"/><text fill=\"#000000\" font-family=\"sans-serif\" font-size=\"13\" lengthAdjust=\"spacingAndGlyphs\" textLength=\"8\" x=\"175.978\" y=\"583.3937\">1</text></a><!--MD5=[01db00f33b28669d6d9febea71002831]\n",
       "reverse link E13 to E14--><a href=\"psysml:56644651-1cff-4e4b-add6-5aaf4cbf3323\" target=\"_top\" title=\"psysml:56644651-1cff-4e4b-add6-5aaf4cbf3323\" xlink:actuate=\"onRequest\" xlink:href=\"psysml:56644651-1cff-4e4b-add6-5aaf4cbf3323\" xlink:show=\"new\" xlink:title=\"psysml:56644651-1cff-4e4b-add6-5aaf4cbf3323\" xlink:type=\"simple\"><path d=\"M247.23,564.39 C273.29,560.78 308.71,555.86 330.7,552.82 \" fill=\"none\" id=\"E13&lt;-E14\" style=\"stroke: #383838; stroke-width: 1.0;\"/><polygon fill=\"#FFFFFF\" points=\"234.21,566.2,240.7023,569.3385,246.0964,564.5528,239.6041,561.4143,234.21,566.2\" style=\"stroke: #383838; stroke-width: 1.0;\"/><text fill=\"#000000\" font-family=\"sans-serif\" font-size=\"13\" lengthAdjust=\"spacingAndGlyphs\" textLength=\"8\" x=\"314.9519\" y=\"568.0773\">1</text></a><!--MD5=[e5566ac99d7714697a7fbc17f6b550fe]\n",
       "link E14 to E2--><a href=\"psysml:004f1bd4-f46a-4fc3-b446-5abbd305cc50\" target=\"_top\" title=\"psysml:004f1bd4-f46a-4fc3-b446-5abbd305cc50\" xlink:actuate=\"onRequest\" xlink:href=\"psysml:004f1bd4-f46a-4fc3-b446-5abbd305cc50\" xlink:show=\"new\" xlink:title=\"psysml:004f1bd4-f46a-4fc3-b446-5abbd305cc50\" xlink:type=\"simple\"><path d=\"M369.48,526.79 C387.84,500.93 417.84,458.66 439.92,427.55 \" fill=\"none\" id=\"E14-&gt;E2\" style=\"stroke: #383838; stroke-width: 1.0;\"/><polygon fill=\"#FFFFFF\" points=\"451.55,411.17,446.248,430.712,434.8369,422.6012,451.55,411.17\" style=\"stroke: #383838; stroke-width: 1.0;\"/><ellipse cx=\"441.3156\" cy=\"434.1993\" fill=\"#383838\" rx=\"2\" ry=\"2\" style=\"stroke: #383838; stroke-width: 1.0;\"/><ellipse cx=\"433.1648\" cy=\"428.4058\" fill=\"#383838\" rx=\"2\" ry=\"2\" style=\"stroke: #383838; stroke-width: 1.0;\"/></a><!--MD5=[e9a5e828c71fd2209a11a152f562d491]\n",
       "reverse link E13 to E15--><a href=\"psysml:439c4bcd-5bf6-4395-bbdb-0df2330c2504\" target=\"_top\" title=\"psysml:439c4bcd-5bf6-4395-bbdb-0df2330c2504\" xlink:actuate=\"onRequest\" xlink:href=\"psysml:439c4bcd-5bf6-4395-bbdb-0df2330c2504\" xlink:show=\"new\" xlink:title=\"psysml:439c4bcd-5bf6-4395-bbdb-0df2330c2504\" xlink:type=\"simple\"><path d=\"M246.98,580.08 C279.89,589.6 331.79,600.41 376,591 C400.63,585.76 426.66,573.44 444.72,563.67 \" fill=\"none\" id=\"E13&lt;-E15\" style=\"stroke: #383838; stroke-width: 1.0;\"/><polygon fill=\"#FFFFFF\" points=\"234.12,576.15,238.6883,581.7295,245.5956,579.6586,241.0273,574.0791,234.12,576.15\" style=\"stroke: #383838; stroke-width: 1.0;\"/><text fill=\"#000000\" font-family=\"sans-serif\" font-size=\"13\" lengthAdjust=\"spacingAndGlyphs\" textLength=\"8\" x=\"429.1198\" y=\"581.4526\">1</text></a><!--MD5=[3afbdc645381407e1bc99677323a2513]\n",
       "link E14 to E15--><a href=\"psysml:356465e0-8362-42f7-8017-4c1d57dccd42\" target=\"_top\" title=\"psysml:356465e0-8362-42f7-8017-4c1d57dccd42\" xlink:actuate=\"onRequest\" xlink:href=\"psysml:356465e0-8362-42f7-8017-4c1d57dccd42\" xlink:show=\"new\" xlink:title=\"psysml:356465e0-8362-42f7-8017-4c1d57dccd42\" xlink:type=\"simple\"><path d=\"M373.03,559.95 C392.98,563.49 423.59,563.67 444.63,560.5 \" fill=\"none\" id=\"E14-E15\" style=\"stroke: #383838; stroke-width: 3.0;\"/></a><!--MD5=[3afbdc645381407e1bc99677323a2513]\n",
       "link E14 to E15--><a href=\"psysml:be002053-3eab-4239-b4ec-f62d8ddd6fa6\" target=\"_top\" title=\"psysml:be002053-3eab-4239-b4ec-f62d8ddd6fa6\" xlink:actuate=\"onRequest\" xlink:href=\"psysml:be002053-3eab-4239-b4ec-f62d8ddd6fa6\" xlink:show=\"new\" xlink:title=\"psysml:be002053-3eab-4239-b4ec-f62d8ddd6fa6\" xlink:type=\"simple\"><path d=\"M373.03,539.47 C392.98,535.71 423.59,535.52 444.63,538.89 \" fill=\"none\" id=\"E14-E15-1\" style=\"stroke: #383838; stroke-width: 3.0;\"/></a><!--MD5=[1792cd7fb73d092c459c99529baea9e6]\n",
       "@startuml\r\n",
       "left to right direction\r\n",
       "skinparam monochrome true\r\n",
       "skinparam classbackgroundcolor white\r\n",
       "skinparam shadowing false\r\n",
       "skinparam wrapWidth 300\r\n",
       "hide circle\r\n",
       "\r\n",
       "package \"ConjugationTest\" as E1  [[psysml:811d2e93-771a-4206-9534-119b2782ed8b ]]  {\r\n",
       "comp def \"P\" as E2  <<(T,blue) port def>> [[psysml:a118eece-ff6c-41b4-a8ec-63007fd81e06 ]] {\r\n",
       "}\r\n",
       "comp def \"B\" as E3  <<(T,blue) part def>> [[psysml:45f3428f-90c5-481c-8b5b-6d42a9c9ecb4 ]] {\r\n",
       "}\r\n",
       "comp usage \"p1: P\" as E4  <<(T,blue) port>> [[psysml:f10162e3-9121-4423-8c61-28bf75aadc9a ]] {\r\n",
       "}\r\n",
       "comp usage \"p2: ~P\" as E5  <<(T,blue) port>> [[psysml:f793b08e-b132-4869-8396-6344384571c9 ]] {\r\n",
       "}\r\n",
       "comp def \"A\" as E6  <<(T,blue) connection def>> [[psysml:1e44cf6a-fe6c-483a-98ee-7c5816e24c4f ]] {\r\n",
       "}\r\n",
       "comp usage \"p1: P\" as E7  <<(T,blue) port>> [[psysml:592da980-ebcc-4bfb-b89f-9a898fd7b408 ]] {\r\n",
       "}\r\n",
       "comp usage \"p2: ~P\" as E8  <<(T,blue) port>> [[psysml:4730362b-6892-4b61-8b08-4b1eb3a58a19 ]] {\r\n",
       "}\r\n",
       "comp def \"I\" as E9  <<(T,blue) interface def>> [[psysml:c589f335-4cab-4324-b073-03ca89b55f7d ]] {\r\n",
       "}\r\n",
       "comp usage \"p1: P\" as E10  <<(T,blue) port>> [[psysml:0a18d135-3a15-4f1e-a48b-3983b85e55aa ]] {\r\n",
       "}\r\n",
       "comp usage \"p2: ~P\" as E11  <<(T,blue) port>> [[psysml:f0ebefc1-580e-4b11-b9cf-e3cb40b874a3 ]] {\r\n",
       "}\r\n",
       "comp def \"B1\" as E12  <<(T,blue) part def>> [[psysml:99d6c811-1239-4557-8bf5-512a2d9b51f5 ]] {\r\n",
       "}\r\n",
       "comp usage \"p\" as E13  <<(T,blue) part>> [[psysml:c80e6282-4b88-42a6-beea-d83b68d36327 ]] {\r\n",
       "}\r\n",
       "comp usage \"p1: P\" as E14  <<(T,blue) port>> [[psysml:36fdd18b-cc96-4106-b803-027f179d9fab ]] {\r\n",
       "}\r\n",
       "comp usage \"p2: ~P\" as E15  <<(T,blue) port>> [[psysml:a04d4130-2616-430e-82e5-4df6c3f344d5 ]] {\r\n",
       "}\r\n",
       "}\r\n",
       "E3 o- - \"1\"E4 [[psysml:478537c4-9aea-45e7-93bf-51b2f99f76d0 ]] \r\n",
       "E4 - -:|> E2 [[psysml:9a27f54b-62e8-4ed3-8ffb-179b9354440f ]] \r\n",
       "E3 o- - \"1\"E5 [[psysml:0c237cb0-b529-413c-8aaf-d2f6ce3a1092 ]] \r\n",
       "E6 o- - \"1\"E7 [[psysml:b94a6cc2-6585-4221-b4bd-c6e1360a7593 ]] \r\n",
       "E7 - -:|> E2 [[psysml:6c7ecdb4-3704-4141-b5eb-90be274661d4 ]] \r\n",
       "E6 o- - \"1\"E8 [[psysml:c893fa2e-0043-44e8-be45-2077001790d0 ]] \r\n",
       "E9 o- - \"1\"E10 [[psysml:3723b58c-a4dd-4ef3-9a79-2a659572d83c ]] \r\n",
       "E10 - -:|> E2 [[psysml:8c7a6e5c-2c0e-473c-a2c4-4062964bb416 ]] \r\n",
       "E9 o- - \"1\"E11 [[psysml:05b52cb0-1bec-4ecb-a4ba-b6e0a5fd36fa ]] \r\n",
       "E12 *- - \"1\"E13 [[psysml:2ea9f126-2045-475e-98b2-0bebbeaf39ba ]] \r\n",
       "E13 o- - \"1\"E14 [[psysml:56644651-1cff-4e4b-add6-5aaf4cbf3323 ]] \r\n",
       "E14 - -:|> E2 [[psysml:004f1bd4-f46a-4fc3-b446-5abbd305cc50 ]] \r\n",
       "E13 o- - \"1\"E15 [[psysml:439c4bcd-5bf6-4395-bbdb-0df2330c2504 ]] \r\n",
       "E14 -[thickness=3]- E15 [[psysml:356465e0-8362-42f7-8017-4c1d57dccd42 ]] \r\n",
       "E14 -[thickness=3]- E15 [[psysml:be002053-3eab-4239-b4ec-f62d8ddd6fa6 ]] \r\n",
       "@enduml\r\n",
       "\n",
       "PlantUML version 1.2020.13(Sat Jun 13 12:26:38 UTC 2020)\n",
       "(EPL source distribution)\n",
       "Java Runtime: OpenJDK Runtime Environment\n",
       "JVM: OpenJDK 64-Bit Server VM\n",
       "Default Encoding: UTF-8\n",
       "Language: en\n",
       "Country: null\n",
       "--></g></svg>"
      ]
     },
     "execution_count": 16,
     "metadata": {},
     "output_type": "execute_result"
    }
   ],
   "source": [
    "%viz --style=\"LR\" --view=\"Default\" \"ConjugationTest\""
   ]
  },
  {
   "cell_type": "code",
   "execution_count": 17,
   "id": "2c3526fb",
   "metadata": {
    "execution": {
     "iopub.execute_input": "2021-10-03T08:28:06.072410Z",
     "iopub.status.busy": "2021-10-03T08:28:06.072104Z",
     "iopub.status.idle": "2021-10-03T08:28:06.124985Z",
     "shell.execute_reply": "2021-10-03T08:28:06.123435Z"
    }
   },
   "outputs": [
    {
     "data": {
      "image/svg+xml": [
       "<?xml version=\"1.0\" encoding=\"UTF-8\" standalone=\"no\"?><svg xmlns=\"http://www.w3.org/2000/svg\" xmlns:xlink=\"http://www.w3.org/1999/xlink\" contentScriptType=\"application/ecmascript\" contentStyleType=\"text/css\" height=\"638px\" preserveAspectRatio=\"none\" style=\"width:540px;height:638px;\" version=\"1.1\" viewBox=\"0 0 540 638\" width=\"540px\" zoomAndPan=\"magnify\"><defs/><g><!--MD5=[fbc87193dbaf4d95561dea2c320d4a47]\n",
       "cluster E1--><a href=\"psysml:811d2e93-771a-4206-9534-119b2782ed8b\" target=\"_top\" title=\"psysml:811d2e93-771a-4206-9534-119b2782ed8b\" xlink:actuate=\"onRequest\" xlink:href=\"psysml:811d2e93-771a-4206-9534-119b2782ed8b\" xlink:show=\"new\" xlink:title=\"psysml:811d2e93-771a-4206-9534-119b2782ed8b\" xlink:type=\"simple\"><polygon fill=\"#FFFFFF\" points=\"16,6,136,6,143,28.2969,518,28.2969,518,626,16,626,16,6\" style=\"stroke: #000000; stroke-width: 1.5;\"/><line style=\"stroke: #000000; stroke-width: 1.5;\" x1=\"16\" x2=\"143\" y1=\"28.2969\" y2=\"28.2969\"/><text fill=\"#000000\" font-family=\"sans-serif\" font-size=\"14\" font-weight=\"bold\" lengthAdjust=\"spacingAndGlyphs\" textLength=\"114\" x=\"20\" y=\"20.9951\">ConjugationTest</text></a><!--MD5=[b4997ac47864f28c2f74865a473b2911]\n",
       "class E2--><a href=\"psysml:a118eece-ff6c-41b4-a8ec-63007fd81e06\" target=\"_top\" title=\"psysml:a118eece-ff6c-41b4-a8ec-63007fd81e06\" xlink:actuate=\"onRequest\" xlink:href=\"psysml:a118eece-ff6c-41b4-a8ec-63007fd81e06\" xlink:show=\"new\" xlink:title=\"psysml:a118eece-ff6c-41b4-a8ec-63007fd81e06\" xlink:type=\"simple\"><rect fill=\"#FFFFFF\" height=\"45.9375\" id=\"E2\" style=\"stroke: #383838; stroke-width: 1.5;\" width=\"66\" x=\"436\" y=\"365\"/><text fill=\"#000000\" font-family=\"sans-serif\" font-size=\"12\" font-style=\"italic\" lengthAdjust=\"spacingAndGlyphs\" textLength=\"64\" x=\"437\" y=\"381.1387\">«port def»</text><text fill=\"#000000\" font-family=\"sans-serif\" font-size=\"12\" lengthAdjust=\"spacingAndGlyphs\" textLength=\"8\" x=\"465\" y=\"395.1074\">P</text><line style=\"stroke: #383838; stroke-width: 1.5;\" x1=\"437\" x2=\"501\" y1=\"402.9375\" y2=\"402.9375\"/></a><!--MD5=[09b614a08d8cba4a07c9adeb5e0fee81]\n",
       "class E3--><a href=\"psysml:45f3428f-90c5-481c-8b5b-6d42a9c9ecb4\" target=\"_top\" title=\"psysml:45f3428f-90c5-481c-8b5b-6d42a9c9ecb4\" xlink:actuate=\"onRequest\" xlink:href=\"psysml:45f3428f-90c5-481c-8b5b-6d42a9c9ecb4\" xlink:show=\"new\" xlink:title=\"psysml:45f3428f-90c5-481c-8b5b-6d42a9c9ecb4\" xlink:type=\"simple\"><rect fill=\"#FFFFFF\" height=\"45.9375\" id=\"E3\" style=\"stroke: #383838; stroke-width: 1.5;\" width=\"66\" x=\"180\" y=\"82\"/><text fill=\"#000000\" font-family=\"sans-serif\" font-size=\"12\" font-style=\"italic\" lengthAdjust=\"spacingAndGlyphs\" textLength=\"64\" x=\"181\" y=\"98.1387\">«part def»</text><text fill=\"#000000\" font-family=\"sans-serif\" font-size=\"12\" lengthAdjust=\"spacingAndGlyphs\" textLength=\"8\" x=\"209\" y=\"112.1074\">B</text><line style=\"stroke: #383838; stroke-width: 1.5;\" x1=\"181\" x2=\"245\" y1=\"119.9375\" y2=\"119.9375\"/></a><!--MD5=[ebbe1d658d1005bcc118a6aa81145e00]\n",
       "class E4--><a href=\"psysml:f10162e3-9121-4423-8c61-28bf75aadc9a\" target=\"_top\" title=\"psysml:f10162e3-9121-4423-8c61-28bf75aadc9a\" xlink:actuate=\"onRequest\" xlink:href=\"psysml:f10162e3-9121-4423-8c61-28bf75aadc9a\" xlink:show=\"new\" xlink:title=\"psysml:f10162e3-9121-4423-8c61-28bf75aadc9a\" xlink:type=\"simple\"><rect fill=\"#FFFFFF\" height=\"45.9375\" id=\"E4\" rx=\"10\" ry=\"10\" style=\"stroke: #383838; stroke-width: 1.5;\" width=\"42\" x=\"331\" y=\"122\"/><text fill=\"#000000\" font-family=\"sans-serif\" font-size=\"12\" font-style=\"italic\" lengthAdjust=\"spacingAndGlyphs\" textLength=\"40\" x=\"332\" y=\"138.1387\">«port»</text><text fill=\"#000000\" font-family=\"sans-serif\" font-size=\"12\" lengthAdjust=\"spacingAndGlyphs\" textLength=\"32\" x=\"336\" y=\"152.1074\">p1: P</text><line style=\"stroke: #383838; stroke-width: 1.5;\" x1=\"332\" x2=\"372\" y1=\"159.9375\" y2=\"159.9375\"/></a><!--MD5=[270fce915f116d4de14055a7c1d9a0f3]\n",
       "class E5--><a href=\"psysml:f793b08e-b132-4869-8396-6344384571c9\" target=\"_top\" title=\"psysml:f793b08e-b132-4869-8396-6344384571c9\" xlink:actuate=\"onRequest\" xlink:href=\"psysml:f793b08e-b132-4869-8396-6344384571c9\" xlink:show=\"new\" xlink:title=\"psysml:f793b08e-b132-4869-8396-6344384571c9\" xlink:type=\"simple\"><rect fill=\"#FFFFFF\" height=\"45.9375\" id=\"E5\" rx=\"10\" ry=\"10\" style=\"stroke: #383838; stroke-width: 1.5;\" width=\"48\" x=\"328\" y=\"41\"/><text fill=\"#000000\" font-family=\"sans-serif\" font-size=\"12\" font-style=\"italic\" lengthAdjust=\"spacingAndGlyphs\" textLength=\"40\" x=\"332\" y=\"57.1387\">«port»</text><text fill=\"#000000\" font-family=\"sans-serif\" font-size=\"12\" lengthAdjust=\"spacingAndGlyphs\" textLength=\"42\" x=\"331\" y=\"71.1074\">p2: ~P</text><line style=\"stroke: #383838; stroke-width: 1.5;\" x1=\"329\" x2=\"375\" y1=\"78.9375\" y2=\"78.9375\"/></a><!--MD5=[60a26617385b1d2d0262a64233df1f8d]\n",
       "class E6--><a href=\"psysml:1e44cf6a-fe6c-483a-98ee-7c5816e24c4f\" target=\"_top\" title=\"psysml:1e44cf6a-fe6c-483a-98ee-7c5816e24c4f\" xlink:actuate=\"onRequest\" xlink:href=\"psysml:1e44cf6a-fe6c-483a-98ee-7c5816e24c4f\" xlink:show=\"new\" xlink:title=\"psysml:1e44cf6a-fe6c-483a-98ee-7c5816e24c4f\" xlink:type=\"simple\"><rect fill=\"#FFFFFF\" height=\"45.9375\" id=\"E6\" style=\"stroke: #383838; stroke-width: 1.5;\" width=\"110\" x=\"158\" y=\"244\"/><text fill=\"#000000\" font-family=\"sans-serif\" font-size=\"12\" font-style=\"italic\" lengthAdjust=\"spacingAndGlyphs\" textLength=\"108\" x=\"159\" y=\"260.1387\">«connection def»</text><text fill=\"#000000\" font-family=\"sans-serif\" font-size=\"12\" lengthAdjust=\"spacingAndGlyphs\" textLength=\"8\" x=\"209\" y=\"274.1074\">A</text><line style=\"stroke: #383838; stroke-width: 1.5;\" x1=\"159\" x2=\"267\" y1=\"281.9375\" y2=\"281.9375\"/></a><!--MD5=[2156ba9850f5573cc1fc38a6a4b2f02b]\n",
       "class E7--><a href=\"psysml:592da980-ebcc-4bfb-b89f-9a898fd7b408\" target=\"_top\" title=\"psysml:592da980-ebcc-4bfb-b89f-9a898fd7b408\" xlink:actuate=\"onRequest\" xlink:href=\"psysml:592da980-ebcc-4bfb-b89f-9a898fd7b408\" xlink:show=\"new\" xlink:title=\"psysml:592da980-ebcc-4bfb-b89f-9a898fd7b408\" xlink:type=\"simple\"><rect fill=\"#FFFFFF\" height=\"45.9375\" id=\"E7\" rx=\"10\" ry=\"10\" style=\"stroke: #383838; stroke-width: 1.5;\" width=\"42\" x=\"331\" y=\"284\"/><text fill=\"#000000\" font-family=\"sans-serif\" font-size=\"12\" font-style=\"italic\" lengthAdjust=\"spacingAndGlyphs\" textLength=\"40\" x=\"332\" y=\"300.1387\">«port»</text><text fill=\"#000000\" font-family=\"sans-serif\" font-size=\"12\" lengthAdjust=\"spacingAndGlyphs\" textLength=\"32\" x=\"336\" y=\"314.1074\">p1: P</text><line style=\"stroke: #383838; stroke-width: 1.5;\" x1=\"332\" x2=\"372\" y1=\"321.9375\" y2=\"321.9375\"/></a><!--MD5=[b9389687b975829384b498ac4b7476b2]\n",
       "class E8--><a href=\"psysml:4730362b-6892-4b61-8b08-4b1eb3a58a19\" target=\"_top\" title=\"psysml:4730362b-6892-4b61-8b08-4b1eb3a58a19\" xlink:actuate=\"onRequest\" xlink:href=\"psysml:4730362b-6892-4b61-8b08-4b1eb3a58a19\" xlink:show=\"new\" xlink:title=\"psysml:4730362b-6892-4b61-8b08-4b1eb3a58a19\" xlink:type=\"simple\"><rect fill=\"#FFFFFF\" height=\"45.9375\" id=\"E8\" rx=\"10\" ry=\"10\" style=\"stroke: #383838; stroke-width: 1.5;\" width=\"48\" x=\"328\" y=\"203\"/><text fill=\"#000000\" font-family=\"sans-serif\" font-size=\"12\" font-style=\"italic\" lengthAdjust=\"spacingAndGlyphs\" textLength=\"40\" x=\"332\" y=\"219.1387\">«port»</text><text fill=\"#000000\" font-family=\"sans-serif\" font-size=\"12\" lengthAdjust=\"spacingAndGlyphs\" textLength=\"42\" x=\"331\" y=\"233.1074\">p2: ~P</text><line style=\"stroke: #383838; stroke-width: 1.5;\" x1=\"329\" x2=\"375\" y1=\"240.9375\" y2=\"240.9375\"/></a><!--MD5=[fd4143e9d270a159db93a4ea2a975926]\n",
       "class E9--><a href=\"psysml:c589f335-4cab-4324-b073-03ca89b55f7d\" target=\"_top\" title=\"psysml:c589f335-4cab-4324-b073-03ca89b55f7d\" xlink:actuate=\"onRequest\" xlink:href=\"psysml:c589f335-4cab-4324-b073-03ca89b55f7d\" xlink:show=\"new\" xlink:title=\"psysml:c589f335-4cab-4324-b073-03ca89b55f7d\" xlink:type=\"simple\"><rect fill=\"#FFFFFF\" height=\"45.9375\" id=\"E9\" style=\"stroke: #383838; stroke-width: 1.5;\" width=\"96\" x=\"165\" y=\"406\"/><text fill=\"#000000\" font-family=\"sans-serif\" font-size=\"12\" font-style=\"italic\" lengthAdjust=\"spacingAndGlyphs\" textLength=\"94\" x=\"166\" y=\"422.1387\">«interface def»</text><text fill=\"#000000\" font-family=\"sans-serif\" font-size=\"12\" lengthAdjust=\"spacingAndGlyphs\" textLength=\"3\" x=\"211.5\" y=\"436.1074\">I</text><line style=\"stroke: #383838; stroke-width: 1.5;\" x1=\"166\" x2=\"260\" y1=\"443.9375\" y2=\"443.9375\"/></a><!--MD5=[96f4274e9e20536e775497830990834d]\n",
       "class E10--><a href=\"psysml:0a18d135-3a15-4f1e-a48b-3983b85e55aa\" target=\"_top\" title=\"psysml:0a18d135-3a15-4f1e-a48b-3983b85e55aa\" xlink:actuate=\"onRequest\" xlink:href=\"psysml:0a18d135-3a15-4f1e-a48b-3983b85e55aa\" xlink:show=\"new\" xlink:title=\"psysml:0a18d135-3a15-4f1e-a48b-3983b85e55aa\" xlink:type=\"simple\"><rect fill=\"#FFFFFF\" height=\"45.9375\" id=\"E10\" rx=\"10\" ry=\"10\" style=\"stroke: #383838; stroke-width: 1.5;\" width=\"42\" x=\"331\" y=\"446\"/><text fill=\"#000000\" font-family=\"sans-serif\" font-size=\"12\" font-style=\"italic\" lengthAdjust=\"spacingAndGlyphs\" textLength=\"40\" x=\"332\" y=\"462.1387\">«port»</text><text fill=\"#000000\" font-family=\"sans-serif\" font-size=\"12\" lengthAdjust=\"spacingAndGlyphs\" textLength=\"32\" x=\"336\" y=\"476.1074\">p1: P</text><line style=\"stroke: #383838; stroke-width: 1.5;\" x1=\"332\" x2=\"372\" y1=\"483.9375\" y2=\"483.9375\"/></a><!--MD5=[1dd1bfd58a279cf63c5f349dbc8fc6a1]\n",
       "class E11--><a href=\"psysml:f0ebefc1-580e-4b11-b9cf-e3cb40b874a3\" target=\"_top\" title=\"psysml:f0ebefc1-580e-4b11-b9cf-e3cb40b874a3\" xlink:actuate=\"onRequest\" xlink:href=\"psysml:f0ebefc1-580e-4b11-b9cf-e3cb40b874a3\" xlink:show=\"new\" xlink:title=\"psysml:f0ebefc1-580e-4b11-b9cf-e3cb40b874a3\" xlink:type=\"simple\"><rect fill=\"#FFFFFF\" height=\"45.9375\" id=\"E11\" rx=\"10\" ry=\"10\" style=\"stroke: #383838; stroke-width: 1.5;\" width=\"48\" x=\"328\" y=\"365\"/><text fill=\"#000000\" font-family=\"sans-serif\" font-size=\"12\" font-style=\"italic\" lengthAdjust=\"spacingAndGlyphs\" textLength=\"40\" x=\"332\" y=\"381.1387\">«port»</text><text fill=\"#000000\" font-family=\"sans-serif\" font-size=\"12\" lengthAdjust=\"spacingAndGlyphs\" textLength=\"42\" x=\"331\" y=\"395.1074\">p2: ~P</text><line style=\"stroke: #383838; stroke-width: 1.5;\" x1=\"329\" x2=\"375\" y1=\"402.9375\" y2=\"402.9375\"/></a><!--MD5=[49a0ec8f00dab7302a31f22d0f0fe584]\n",
       "class E12--><a href=\"psysml:99d6c811-1239-4557-8bf5-512a2d9b51f5\" target=\"_top\" title=\"psysml:99d6c811-1239-4557-8bf5-512a2d9b51f5\" xlink:actuate=\"onRequest\" xlink:href=\"psysml:99d6c811-1239-4557-8bf5-512a2d9b51f5\" xlink:show=\"new\" xlink:title=\"psysml:99d6c811-1239-4557-8bf5-512a2d9b51f5\" xlink:type=\"simple\"><rect fill=\"#FFFFFF\" height=\"45.9375\" id=\"E12\" style=\"stroke: #383838; stroke-width: 1.5;\" width=\"66\" x=\"32\" y=\"546\"/><text fill=\"#000000\" font-family=\"sans-serif\" font-size=\"12\" font-style=\"italic\" lengthAdjust=\"spacingAndGlyphs\" textLength=\"64\" x=\"33\" y=\"562.1387\">«part def»</text><text fill=\"#000000\" font-family=\"sans-serif\" font-size=\"12\" lengthAdjust=\"spacingAndGlyphs\" textLength=\"16\" x=\"57\" y=\"576.1074\">B1</text><line style=\"stroke: #383838; stroke-width: 1.5;\" x1=\"33\" x2=\"97\" y1=\"583.9375\" y2=\"583.9375\"/></a><!--MD5=[ee3c913d1a06f366521f9ef512b67efe]\n",
       "class E13--><a href=\"psysml:c80e6282-4b88-42a6-beea-d83b68d36327\" target=\"_top\" title=\"psysml:c80e6282-4b88-42a6-beea-d83b68d36327\" xlink:actuate=\"onRequest\" xlink:href=\"psysml:c80e6282-4b88-42a6-beea-d83b68d36327\" xlink:show=\"new\" xlink:title=\"psysml:c80e6282-4b88-42a6-beea-d83b68d36327\" xlink:type=\"simple\"><rect fill=\"#FFFFFF\" height=\"45.9375\" id=\"E13\" rx=\"10\" ry=\"10\" style=\"stroke: #383838; stroke-width: 1.5;\" width=\"42\" x=\"192\" y=\"546\"/><text fill=\"#000000\" font-family=\"sans-serif\" font-size=\"12\" font-style=\"italic\" lengthAdjust=\"spacingAndGlyphs\" textLength=\"40\" x=\"193\" y=\"562.1387\">«part»</text><text fill=\"#000000\" font-family=\"sans-serif\" font-size=\"12\" lengthAdjust=\"spacingAndGlyphs\" textLength=\"8\" x=\"209\" y=\"576.1074\">p</text><line style=\"stroke: #383838; stroke-width: 1.5;\" x1=\"193\" x2=\"233\" y1=\"583.9375\" y2=\"583.9375\"/></a><!--MD5=[bee11217b2f71d958a27249dc326068c]\n",
       "class E14--><a href=\"psysml:36fdd18b-cc96-4106-b803-027f179d9fab\" target=\"_top\" title=\"psysml:36fdd18b-cc96-4106-b803-027f179d9fab\" xlink:actuate=\"onRequest\" xlink:href=\"psysml:36fdd18b-cc96-4106-b803-027f179d9fab\" xlink:show=\"new\" xlink:title=\"psysml:36fdd18b-cc96-4106-b803-027f179d9fab\" xlink:type=\"simple\"><rect fill=\"#FFFFFF\" height=\"45.9375\" id=\"E14\" rx=\"10\" ry=\"10\" style=\"stroke: #383838; stroke-width: 1.5;\" width=\"42\" x=\"331\" y=\"527\"/><text fill=\"#000000\" font-family=\"sans-serif\" font-size=\"12\" font-style=\"italic\" lengthAdjust=\"spacingAndGlyphs\" textLength=\"40\" x=\"332\" y=\"543.1387\">«port»</text><text fill=\"#000000\" font-family=\"sans-serif\" font-size=\"12\" lengthAdjust=\"spacingAndGlyphs\" textLength=\"32\" x=\"336\" y=\"557.1074\">p1: P</text><line style=\"stroke: #383838; stroke-width: 1.5;\" x1=\"332\" x2=\"372\" y1=\"564.9375\" y2=\"564.9375\"/></a><!--MD5=[0c48fb7552dae8cbbef69381101a84c8]\n",
       "class E15--><a href=\"psysml:a04d4130-2616-430e-82e5-4df6c3f344d5\" target=\"_top\" title=\"psysml:a04d4130-2616-430e-82e5-4df6c3f344d5\" xlink:actuate=\"onRequest\" xlink:href=\"psysml:a04d4130-2616-430e-82e5-4df6c3f344d5\" xlink:show=\"new\" xlink:title=\"psysml:a04d4130-2616-430e-82e5-4df6c3f344d5\" xlink:type=\"simple\"><rect fill=\"#FFFFFF\" height=\"45.9375\" id=\"E15\" rx=\"10\" ry=\"10\" style=\"stroke: #383838; stroke-width: 1.5;\" width=\"48\" x=\"445\" y=\"527\"/><text fill=\"#000000\" font-family=\"sans-serif\" font-size=\"12\" font-style=\"italic\" lengthAdjust=\"spacingAndGlyphs\" textLength=\"40\" x=\"449\" y=\"543.1387\">«port»</text><text fill=\"#000000\" font-family=\"sans-serif\" font-size=\"12\" lengthAdjust=\"spacingAndGlyphs\" textLength=\"42\" x=\"448\" y=\"557.1074\">p2: ~P</text><line style=\"stroke: #383838; stroke-width: 1.5;\" x1=\"446\" x2=\"492\" y1=\"564.9375\" y2=\"564.9375\"/></a><!--MD5=[4672eba38e49728da53d11aeb285b987]\n",
       "reverse link E3 to E4--><a href=\"psysml:478537c4-9aea-45e7-93bf-51b2f99f76d0\" target=\"_top\" title=\"psysml:478537c4-9aea-45e7-93bf-51b2f99f76d0\" xlink:actuate=\"onRequest\" xlink:href=\"psysml:478537c4-9aea-45e7-93bf-51b2f99f76d0\" xlink:show=\"new\" xlink:title=\"psysml:478537c4-9aea-45e7-93bf-51b2f99f76d0\" xlink:type=\"simple\"><path d=\"M258.74,118.06 C283.11,125.18 312.08,133.64 330.96,139.15 \" fill=\"none\" id=\"E3&lt;-E4\" style=\"stroke: #383838; stroke-width: 1.0;\"/><polygon fill=\"#FFFFFF\" points=\"246.12,114.38,250.7595,119.9004,257.6397,117.741,253.0002,112.2206,246.12,114.38\" style=\"stroke: #383838; stroke-width: 1.0;\"/><text fill=\"#000000\" font-family=\"sans-serif\" font-size=\"13\" lengthAdjust=\"spacingAndGlyphs\" textLength=\"8\" x=\"314.9785\" y=\"151.774\">1</text></a><!--MD5=[185131fc0dcab0a4505a2ebe144e961b]\n",
       "link E4 to E2--><a href=\"psysml:9a27f54b-62e8-4ed3-8ffb-179b9354440f\" target=\"_top\" title=\"psysml:9a27f54b-62e8-4ed3-8ffb-179b9354440f\" xlink:actuate=\"onRequest\" xlink:href=\"psysml:9a27f54b-62e8-4ed3-8ffb-179b9354440f\" xlink:show=\"new\" xlink:title=\"psysml:9a27f54b-62e8-4ed3-8ffb-179b9354440f\" xlink:type=\"simple\"><path d=\"M366.76,168.06 C369.9,173.55 373.15,179.44 376,185 C404.07,239.77 432.78,304.84 450.49,346.27 \" fill=\"none\" id=\"E4-&gt;E2\" style=\"stroke: #383838; stroke-width: 1.0;\"/><polygon fill=\"#FFFFFF\" points=\"458.36,364.83,444.494,350.0742,457.3816,344.6052,458.36,364.83\" style=\"stroke: #383838; stroke-width: 1.0;\"/><ellipse cx=\"444.1084\" cy=\"344.0458\" fill=\"#383838\" rx=\"2\" ry=\"2\" style=\"stroke: #383838; stroke-width: 1.0;\"/><ellipse cx=\"453.3139\" cy=\"340.1394\" fill=\"#383838\" rx=\"2\" ry=\"2\" style=\"stroke: #383838; stroke-width: 1.0;\"/></a><!--MD5=[191cde3d490a3f6d7bb551fe3ddca469]\n",
       "reverse link E3 to E5--><a href=\"psysml:0c237cb0-b529-413c-8aaf-d2f6ce3a1092\" target=\"_top\" title=\"psysml:0c237cb0-b529-413c-8aaf-d2f6ce3a1092\" xlink:actuate=\"onRequest\" xlink:href=\"psysml:0c237cb0-b529-413c-8aaf-d2f6ce3a1092\" xlink:show=\"new\" xlink:title=\"psysml:0c237cb0-b529-413c-8aaf-d2f6ce3a1092\" xlink:type=\"simple\"><path d=\"M258.74,91.61 C281.73,84.73 308.8,76.63 327.65,70.99 \" fill=\"none\" id=\"E3&lt;-E5\" style=\"stroke: #383838; stroke-width: 1.0;\"/><polygon fill=\"#FFFFFF\" points=\"246.12,95.39,253.015,97.5016,257.6161,91.9491,250.7211,89.8375,246.12,95.39\" style=\"stroke: #383838; stroke-width: 1.0;\"/><text fill=\"#000000\" font-family=\"sans-serif\" font-size=\"13\" lengthAdjust=\"spacingAndGlyphs\" textLength=\"8\" x=\"312.0309\" y=\"86.9773\">1</text></a><!--MD5=[3f50a3473f1dfb74d3f76443e03635af]\n",
       "reverse link E6 to E7--><a href=\"psysml:b94a6cc2-6585-4221-b4bd-c6e1360a7593\" target=\"_top\" title=\"psysml:b94a6cc2-6585-4221-b4bd-c6e1360a7593\" xlink:actuate=\"onRequest\" xlink:href=\"psysml:b94a6cc2-6585-4221-b4bd-c6e1360a7593\" xlink:show=\"new\" xlink:title=\"psysml:b94a6cc2-6585-4221-b4bd-c6e1360a7593\" xlink:type=\"simple\"><path d=\"M280.67,286.47 C298.89,291.79 317.28,297.16 330.69,301.07 \" fill=\"none\" id=\"E6&lt;-E7\" style=\"stroke: #383838; stroke-width: 1.0;\"/><polygon fill=\"#FFFFFF\" points=\"268.15,282.81,272.7895,288.3304,279.6697,286.171,275.0302,280.6506,268.15,282.81\" style=\"stroke: #383838; stroke-width: 1.0;\"/><text fill=\"#000000\" font-family=\"sans-serif\" font-size=\"13\" lengthAdjust=\"spacingAndGlyphs\" textLength=\"8\" x=\"314.9388\" y=\"313.6476\">1</text></a><!--MD5=[583832df87f4419a098336a29a52fa00]\n",
       "link E7 to E2--><a href=\"psysml:6c7ecdb4-3704-4141-b5eb-90be274661d4\" target=\"_top\" title=\"psysml:6c7ecdb4-3704-4141-b5eb-90be274661d4\" xlink:actuate=\"onRequest\" xlink:href=\"psysml:6c7ecdb4-3704-4141-b5eb-90be274661d4\" xlink:show=\"new\" xlink:title=\"psysml:6c7ecdb4-3704-4141-b5eb-90be274661d4\" xlink:type=\"simple\"><path d=\"M373.03,321.11 C385.76,330.08 402.84,342.1 419,353.48 \" fill=\"none\" id=\"E7-&gt;E2\" style=\"stroke: #383838; stroke-width: 1.0;\"/><polygon fill=\"#FFFFFF\" points=\"435.6,365.18,416.034,359.9673,424.0927,348.5192,435.6,365.18\" style=\"stroke: #383838; stroke-width: 1.0;\"/><ellipse cx=\"412.5242\" cy=\"355.0509\" fill=\"#383838\" rx=\"2\" ry=\"2\" style=\"stroke: #383838; stroke-width: 1.0;\"/><ellipse cx=\"418.2804\" cy=\"346.8737\" fill=\"#383838\" rx=\"2\" ry=\"2\" style=\"stroke: #383838; stroke-width: 1.0;\"/></a><!--MD5=[f4cf0736d43fd73c4ef68817c49d37d5]\n",
       "reverse link E6 to E8--><a href=\"psysml:c893fa2e-0043-44e8-be45-2077001790d0\" target=\"_top\" title=\"psysml:c893fa2e-0043-44e8-be45-2077001790d0\" xlink:actuate=\"onRequest\" xlink:href=\"psysml:c893fa2e-0043-44e8-be45-2077001790d0\" xlink:show=\"new\" xlink:title=\"psysml:c893fa2e-0043-44e8-be45-2077001790d0\" xlink:type=\"simple\"><path d=\"M280.98,246.96 C297.88,241.9 314.9,236.8 327.93,232.9 \" fill=\"none\" id=\"E6&lt;-E8\" style=\"stroke: #383838; stroke-width: 1.0;\"/><polygon fill=\"#FFFFFF\" points=\"268.15,250.8,275.0428,252.9188,279.6497,247.3712,272.7569,245.2524,268.15,250.8\" style=\"stroke: #383838; stroke-width: 1.0;\"/><text fill=\"#000000\" font-family=\"sans-serif\" font-size=\"13\" lengthAdjust=\"spacingAndGlyphs\" textLength=\"8\" x=\"312.0353\" y=\"249.0444\">1</text></a><!--MD5=[23ac544a70576c3e717098101004234c]\n",
       "reverse link E9 to E10--><a href=\"psysml:3723b58c-a4dd-4ef3-9a79-2a659572d83c\" target=\"_top\" title=\"psysml:3723b58c-a4dd-4ef3-9a79-2a659572d83c\" xlink:actuate=\"onRequest\" xlink:href=\"psysml:3723b58c-a4dd-4ef3-9a79-2a659572d83c\" xlink:show=\"new\" xlink:title=\"psysml:3723b58c-a4dd-4ef3-9a79-2a659572d83c\" xlink:type=\"simple\"><path d=\"M273.71,446.43 C294.22,452.42 315.8,458.72 330.93,463.14 \" fill=\"none\" id=\"E9&lt;-E10\" style=\"stroke: #383838; stroke-width: 1.0;\"/><polygon fill=\"#FFFFFF\" points=\"261.15,442.77,265.7895,448.2904,272.6697,446.131,268.0302,440.6106,261.15,442.77\" style=\"stroke: #383838; stroke-width: 1.0;\"/><text fill=\"#000000\" font-family=\"sans-serif\" font-size=\"13\" lengthAdjust=\"spacingAndGlyphs\" textLength=\"8\" x=\"314.9389\" y=\"475.7608\">1</text></a><!--MD5=[0f36bececdf0dff6e600d6f64214b0f1]\n",
       "link E10 to E2--><a href=\"psysml:8c7a6e5c-2c0e-473c-a2c4-4062964bb416\" target=\"_top\" title=\"psysml:8c7a6e5c-2c0e-473c-a2c4-4062964bb416\" xlink:actuate=\"onRequest\" xlink:href=\"psysml:8c7a6e5c-2c0e-473c-a2c4-4062964bb416\" xlink:show=\"new\" xlink:title=\"psysml:8c7a6e5c-2c0e-473c-a2c4-4062964bb416\" xlink:type=\"simple\"><path d=\"M373.03,454.89 C385.76,445.92 402.84,433.9 419,422.52 \" fill=\"none\" id=\"E10-&gt;E2\" style=\"stroke: #383838; stroke-width: 1.0;\"/><polygon fill=\"#FFFFFF\" points=\"435.6,410.82,424.0927,427.4808,416.034,416.0327,435.6,410.82\" style=\"stroke: #383838; stroke-width: 1.0;\"/><ellipse cx=\"418.2804\" cy=\"429.1263\" fill=\"#383838\" rx=\"2\" ry=\"2\" style=\"stroke: #383838; stroke-width: 1.0;\"/><ellipse cx=\"412.5242\" cy=\"420.9491\" fill=\"#383838\" rx=\"2\" ry=\"2\" style=\"stroke: #383838; stroke-width: 1.0;\"/></a><!--MD5=[1fc04a95fd77ad5ce46c1a3027516051]\n",
       "reverse link E9 to E11--><a href=\"psysml:05b52cb0-1bec-4ecb-a4ba-b6e0a5fd36fa\" target=\"_top\" title=\"psysml:05b52cb0-1bec-4ecb-a4ba-b6e0a5fd36fa\" xlink:actuate=\"onRequest\" xlink:href=\"psysml:05b52cb0-1bec-4ecb-a4ba-b6e0a5fd36fa\" xlink:show=\"new\" xlink:title=\"psysml:05b52cb0-1bec-4ecb-a4ba-b6e0a5fd36fa\" xlink:type=\"simple\"><path d=\"M273.79,411.11 C292.83,405.41 312.78,399.44 327.63,394.99 \" fill=\"none\" id=\"E9&lt;-E11\" style=\"stroke: #383838; stroke-width: 1.0;\"/><polygon fill=\"#FFFFFF\" points=\"261.15,414.89,268.045,417.0016,272.6461,411.4491,265.7511,409.3375,261.15,414.89\" style=\"stroke: #383838; stroke-width: 1.0;\"/><text fill=\"#000000\" font-family=\"sans-serif\" font-size=\"13\" lengthAdjust=\"spacingAndGlyphs\" textLength=\"8\" x=\"312.0056\" y=\"410.9773\">1</text></a><!--MD5=[062ed86c389d1a88f61c6380d0491e17]\n",
       "reverse link E12 to E13--><a href=\"psysml:2ea9f126-2045-475e-98b2-0bebbeaf39ba\" target=\"_top\" title=\"psysml:2ea9f126-2045-475e-98b2-0bebbeaf39ba\" xlink:actuate=\"onRequest\" xlink:href=\"psysml:2ea9f126-2045-475e-98b2-0bebbeaf39ba\" xlink:show=\"new\" xlink:title=\"psysml:2ea9f126-2045-475e-98b2-0bebbeaf39ba\" xlink:type=\"simple\"><path d=\"M111.1,569 C138.05,569 170.97,569 191.72,569 \" fill=\"none\" id=\"E12&lt;-E13\" style=\"stroke: #383838; stroke-width: 1.0;\"/><polygon fill=\"#383838\" points=\"98.04,569,104.04,573,110.04,569,104.04,565,98.04,569\" style=\"stroke: #383838; stroke-width: 1.0;\"/><text fill=\"#000000\" font-family=\"sans-serif\" font-size=\"13\" lengthAdjust=\"spacingAndGlyphs\" textLength=\"8\" x=\"175.978\" y=\"583.3937\">1</text></a><!--MD5=[01db00f33b28669d6d9febea71002831]\n",
       "reverse link E13 to E14--><a href=\"psysml:56644651-1cff-4e4b-add6-5aaf4cbf3323\" target=\"_top\" title=\"psysml:56644651-1cff-4e4b-add6-5aaf4cbf3323\" xlink:actuate=\"onRequest\" xlink:href=\"psysml:56644651-1cff-4e4b-add6-5aaf4cbf3323\" xlink:show=\"new\" xlink:title=\"psysml:56644651-1cff-4e4b-add6-5aaf4cbf3323\" xlink:type=\"simple\"><path d=\"M247.23,564.39 C273.29,560.78 308.71,555.86 330.7,552.82 \" fill=\"none\" id=\"E13&lt;-E14\" style=\"stroke: #383838; stroke-width: 1.0;\"/><polygon fill=\"#FFFFFF\" points=\"234.21,566.2,240.7023,569.3385,246.0964,564.5528,239.6041,561.4143,234.21,566.2\" style=\"stroke: #383838; stroke-width: 1.0;\"/><text fill=\"#000000\" font-family=\"sans-serif\" font-size=\"13\" lengthAdjust=\"spacingAndGlyphs\" textLength=\"8\" x=\"314.9519\" y=\"568.0773\">1</text></a><!--MD5=[e5566ac99d7714697a7fbc17f6b550fe]\n",
       "link E14 to E2--><a href=\"psysml:004f1bd4-f46a-4fc3-b446-5abbd305cc50\" target=\"_top\" title=\"psysml:004f1bd4-f46a-4fc3-b446-5abbd305cc50\" xlink:actuate=\"onRequest\" xlink:href=\"psysml:004f1bd4-f46a-4fc3-b446-5abbd305cc50\" xlink:show=\"new\" xlink:title=\"psysml:004f1bd4-f46a-4fc3-b446-5abbd305cc50\" xlink:type=\"simple\"><path d=\"M369.48,526.79 C387.84,500.93 417.84,458.66 439.92,427.55 \" fill=\"none\" id=\"E14-&gt;E2\" style=\"stroke: #383838; stroke-width: 1.0;\"/><polygon fill=\"#FFFFFF\" points=\"451.55,411.17,446.248,430.712,434.8369,422.6012,451.55,411.17\" style=\"stroke: #383838; stroke-width: 1.0;\"/><ellipse cx=\"441.3156\" cy=\"434.1993\" fill=\"#383838\" rx=\"2\" ry=\"2\" style=\"stroke: #383838; stroke-width: 1.0;\"/><ellipse cx=\"433.1648\" cy=\"428.4058\" fill=\"#383838\" rx=\"2\" ry=\"2\" style=\"stroke: #383838; stroke-width: 1.0;\"/></a><!--MD5=[e9a5e828c71fd2209a11a152f562d491]\n",
       "reverse link E13 to E15--><a href=\"psysml:439c4bcd-5bf6-4395-bbdb-0df2330c2504\" target=\"_top\" title=\"psysml:439c4bcd-5bf6-4395-bbdb-0df2330c2504\" xlink:actuate=\"onRequest\" xlink:href=\"psysml:439c4bcd-5bf6-4395-bbdb-0df2330c2504\" xlink:show=\"new\" xlink:title=\"psysml:439c4bcd-5bf6-4395-bbdb-0df2330c2504\" xlink:type=\"simple\"><path d=\"M246.98,580.08 C279.89,589.6 331.79,600.41 376,591 C400.63,585.76 426.66,573.44 444.72,563.67 \" fill=\"none\" id=\"E13&lt;-E15\" style=\"stroke: #383838; stroke-width: 1.0;\"/><polygon fill=\"#FFFFFF\" points=\"234.12,576.15,238.6883,581.7295,245.5956,579.6586,241.0273,574.0791,234.12,576.15\" style=\"stroke: #383838; stroke-width: 1.0;\"/><text fill=\"#000000\" font-family=\"sans-serif\" font-size=\"13\" lengthAdjust=\"spacingAndGlyphs\" textLength=\"8\" x=\"429.1198\" y=\"581.4526\">1</text></a><!--MD5=[3afbdc645381407e1bc99677323a2513]\n",
       "link E14 to E15--><a href=\"psysml:356465e0-8362-42f7-8017-4c1d57dccd42\" target=\"_top\" title=\"psysml:356465e0-8362-42f7-8017-4c1d57dccd42\" xlink:actuate=\"onRequest\" xlink:href=\"psysml:356465e0-8362-42f7-8017-4c1d57dccd42\" xlink:show=\"new\" xlink:title=\"psysml:356465e0-8362-42f7-8017-4c1d57dccd42\" xlink:type=\"simple\"><path d=\"M373.03,559.95 C392.98,563.49 423.59,563.67 444.63,560.5 \" fill=\"none\" id=\"E14-E15\" style=\"stroke: #383838; stroke-width: 3.0;\"/></a><!--MD5=[3afbdc645381407e1bc99677323a2513]\n",
       "link E14 to E15--><a href=\"psysml:be002053-3eab-4239-b4ec-f62d8ddd6fa6\" target=\"_top\" title=\"psysml:be002053-3eab-4239-b4ec-f62d8ddd6fa6\" xlink:actuate=\"onRequest\" xlink:href=\"psysml:be002053-3eab-4239-b4ec-f62d8ddd6fa6\" xlink:show=\"new\" xlink:title=\"psysml:be002053-3eab-4239-b4ec-f62d8ddd6fa6\" xlink:type=\"simple\"><path d=\"M373.03,539.47 C392.98,535.71 423.59,535.52 444.63,538.89 \" fill=\"none\" id=\"E14-E15-1\" style=\"stroke: #383838; stroke-width: 3.0;\"/></a><!--MD5=[1792cd7fb73d092c459c99529baea9e6]\n",
       "@startuml\r\n",
       "left to right direction\r\n",
       "skinparam monochrome true\r\n",
       "skinparam classbackgroundcolor white\r\n",
       "skinparam shadowing false\r\n",
       "skinparam wrapWidth 300\r\n",
       "hide circle\r\n",
       "\r\n",
       "package \"ConjugationTest\" as E1  [[psysml:811d2e93-771a-4206-9534-119b2782ed8b ]]  {\r\n",
       "comp def \"P\" as E2  <<(T,blue) port def>> [[psysml:a118eece-ff6c-41b4-a8ec-63007fd81e06 ]] {\r\n",
       "}\r\n",
       "comp def \"B\" as E3  <<(T,blue) part def>> [[psysml:45f3428f-90c5-481c-8b5b-6d42a9c9ecb4 ]] {\r\n",
       "}\r\n",
       "comp usage \"p1: P\" as E4  <<(T,blue) port>> [[psysml:f10162e3-9121-4423-8c61-28bf75aadc9a ]] {\r\n",
       "}\r\n",
       "comp usage \"p2: ~P\" as E5  <<(T,blue) port>> [[psysml:f793b08e-b132-4869-8396-6344384571c9 ]] {\r\n",
       "}\r\n",
       "comp def \"A\" as E6  <<(T,blue) connection def>> [[psysml:1e44cf6a-fe6c-483a-98ee-7c5816e24c4f ]] {\r\n",
       "}\r\n",
       "comp usage \"p1: P\" as E7  <<(T,blue) port>> [[psysml:592da980-ebcc-4bfb-b89f-9a898fd7b408 ]] {\r\n",
       "}\r\n",
       "comp usage \"p2: ~P\" as E8  <<(T,blue) port>> [[psysml:4730362b-6892-4b61-8b08-4b1eb3a58a19 ]] {\r\n",
       "}\r\n",
       "comp def \"I\" as E9  <<(T,blue) interface def>> [[psysml:c589f335-4cab-4324-b073-03ca89b55f7d ]] {\r\n",
       "}\r\n",
       "comp usage \"p1: P\" as E10  <<(T,blue) port>> [[psysml:0a18d135-3a15-4f1e-a48b-3983b85e55aa ]] {\r\n",
       "}\r\n",
       "comp usage \"p2: ~P\" as E11  <<(T,blue) port>> [[psysml:f0ebefc1-580e-4b11-b9cf-e3cb40b874a3 ]] {\r\n",
       "}\r\n",
       "comp def \"B1\" as E12  <<(T,blue) part def>> [[psysml:99d6c811-1239-4557-8bf5-512a2d9b51f5 ]] {\r\n",
       "}\r\n",
       "comp usage \"p\" as E13  <<(T,blue) part>> [[psysml:c80e6282-4b88-42a6-beea-d83b68d36327 ]] {\r\n",
       "}\r\n",
       "comp usage \"p1: P\" as E14  <<(T,blue) port>> [[psysml:36fdd18b-cc96-4106-b803-027f179d9fab ]] {\r\n",
       "}\r\n",
       "comp usage \"p2: ~P\" as E15  <<(T,blue) port>> [[psysml:a04d4130-2616-430e-82e5-4df6c3f344d5 ]] {\r\n",
       "}\r\n",
       "}\r\n",
       "E3 o- - \"1\"E4 [[psysml:478537c4-9aea-45e7-93bf-51b2f99f76d0 ]] \r\n",
       "E4 - -:|> E2 [[psysml:9a27f54b-62e8-4ed3-8ffb-179b9354440f ]] \r\n",
       "E3 o- - \"1\"E5 [[psysml:0c237cb0-b529-413c-8aaf-d2f6ce3a1092 ]] \r\n",
       "E6 o- - \"1\"E7 [[psysml:b94a6cc2-6585-4221-b4bd-c6e1360a7593 ]] \r\n",
       "E7 - -:|> E2 [[psysml:6c7ecdb4-3704-4141-b5eb-90be274661d4 ]] \r\n",
       "E6 o- - \"1\"E8 [[psysml:c893fa2e-0043-44e8-be45-2077001790d0 ]] \r\n",
       "E9 o- - \"1\"E10 [[psysml:3723b58c-a4dd-4ef3-9a79-2a659572d83c ]] \r\n",
       "E10 - -:|> E2 [[psysml:8c7a6e5c-2c0e-473c-a2c4-4062964bb416 ]] \r\n",
       "E9 o- - \"1\"E11 [[psysml:05b52cb0-1bec-4ecb-a4ba-b6e0a5fd36fa ]] \r\n",
       "E12 *- - \"1\"E13 [[psysml:2ea9f126-2045-475e-98b2-0bebbeaf39ba ]] \r\n",
       "E13 o- - \"1\"E14 [[psysml:56644651-1cff-4e4b-add6-5aaf4cbf3323 ]] \r\n",
       "E14 - -:|> E2 [[psysml:004f1bd4-f46a-4fc3-b446-5abbd305cc50 ]] \r\n",
       "E13 o- - \"1\"E15 [[psysml:439c4bcd-5bf6-4395-bbdb-0df2330c2504 ]] \r\n",
       "E14 -[thickness=3]- E15 [[psysml:356465e0-8362-42f7-8017-4c1d57dccd42 ]] \r\n",
       "E14 -[thickness=3]- E15 [[psysml:be002053-3eab-4239-b4ec-f62d8ddd6fa6 ]] \r\n",
       "@enduml\r\n",
       "\n",
       "PlantUML version 1.2020.13(Sat Jun 13 12:26:38 UTC 2020)\n",
       "(EPL source distribution)\n",
       "Java Runtime: OpenJDK Runtime Environment\n",
       "JVM: OpenJDK 64-Bit Server VM\n",
       "Default Encoding: UTF-8\n",
       "Language: en\n",
       "Country: null\n",
       "--></g></svg>"
      ]
     },
     "execution_count": 17,
     "metadata": {},
     "output_type": "execute_result"
    }
   ],
   "source": [
    "%viz --style=\"LR\" --view=\"Tree\" \"ConjugationTest\""
   ]
  },
  {
   "cell_type": "code",
   "execution_count": 18,
   "id": "95134a7d",
   "metadata": {
    "execution": {
     "iopub.execute_input": "2021-10-03T08:28:06.174062Z",
     "iopub.status.busy": "2021-10-03T08:28:06.173648Z",
     "iopub.status.idle": "2021-10-03T08:28:06.178038Z",
     "shell.execute_reply": "2021-10-03T08:28:06.178337Z"
    }
   },
   "outputs": [
    {
     "data": {
      "image/svg+xml": [
       "<?xml version=\"1.0\" encoding=\"UTF-8\" standalone=\"no\"?><svg xmlns=\"http://www.w3.org/2000/svg\" xmlns:xlink=\"http://www.w3.org/1999/xlink\" contentScriptType=\"application/ecmascript\" contentStyleType=\"text/css\" height=\"12px\" preserveAspectRatio=\"none\" style=\"width:12px;height:12px;\" version=\"1.1\" viewBox=\"0 0 12 12\" width=\"12px\" zoomAndPan=\"magnify\"><defs/><g><!--MD5=[19d285c9d72a204eba4e2cd117d745e8]\n",
       "@startuml\r\n",
       "left to right direction\r\n",
       "skinparam monochrome true\r\n",
       "skinparam classbackgroundcolor white\r\n",
       "skinparam shadowing false\r\n",
       "skinparam wrapWidth 300\r\n",
       "hide circle\r\n",
       "\r\n",
       "@enduml\r\n",
       "\n",
       "PlantUML version 1.2020.13(Sat Jun 13 12:26:38 UTC 2020)\n",
       "(EPL source distribution)\n",
       "Java Runtime: OpenJDK Runtime Environment\n",
       "JVM: OpenJDK 64-Bit Server VM\n",
       "Default Encoding: UTF-8\n",
       "Language: en\n",
       "Country: null\n",
       "--></g></svg>"
      ]
     },
     "execution_count": 18,
     "metadata": {},
     "output_type": "execute_result"
    }
   ],
   "source": [
    "%viz --style=\"LR\" --view=\"State\" \"ConjugationTest\""
   ]
  },
  {
   "cell_type": "code",
   "execution_count": 19,
   "id": "82b47734",
   "metadata": {
    "execution": {
     "iopub.execute_input": "2021-10-03T08:28:06.227987Z",
     "iopub.status.busy": "2021-10-03T08:28:06.227530Z",
     "iopub.status.idle": "2021-10-03T08:28:06.274329Z",
     "shell.execute_reply": "2021-10-03T08:28:06.273987Z"
    }
   },
   "outputs": [
    {
     "data": {
      "image/svg+xml": [
       "<?xml version=\"1.0\" encoding=\"UTF-8\" standalone=\"no\"?><svg xmlns=\"http://www.w3.org/2000/svg\" xmlns:xlink=\"http://www.w3.org/1999/xlink\" contentScriptType=\"application/ecmascript\" contentStyleType=\"text/css\" height=\"550px\" preserveAspectRatio=\"none\" style=\"width:313px;height:550px;\" version=\"1.1\" viewBox=\"0 0 313 550\" width=\"313px\" zoomAndPan=\"magnify\"><defs/><g><!--MD5=[fbc87193dbaf4d95561dea2c320d4a47]\n",
       "cluster E1--><a href=\"psysml:811d2e93-771a-4206-9534-119b2782ed8b\" target=\"_top\" title=\"psysml:811d2e93-771a-4206-9534-119b2782ed8b\" xlink:actuate=\"onRequest\" xlink:href=\"psysml:811d2e93-771a-4206-9534-119b2782ed8b\" xlink:show=\"new\" xlink:title=\"psysml:811d2e93-771a-4206-9534-119b2782ed8b\" xlink:type=\"simple\"><polygon fill=\"#FFFFFF\" points=\"16,6,136,6,143,28.2969,291.5,28.2969,291.5,538,16,538,16,6\" style=\"stroke: #000000; stroke-width: 1.5;\"/><line style=\"stroke: #000000; stroke-width: 1.5;\" x1=\"16\" x2=\"143\" y1=\"28.2969\" y2=\"28.2969\"/><text fill=\"#000000\" font-family=\"sans-serif\" font-size=\"14\" font-weight=\"bold\" lengthAdjust=\"spacingAndGlyphs\" textLength=\"114\" x=\"20\" y=\"20.9951\">ConjugationTest</text></a><!--MD5=[d5e69f78d87373223dbae638b30a9c99]\n",
       "cluster E3--><a href=\"psysml:45f3428f-90c5-481c-8b5b-6d42a9c9ecb4\" target=\"_top\" title=\"psysml:45f3428f-90c5-481c-8b5b-6d42a9c9ecb4\" xlink:actuate=\"onRequest\" xlink:href=\"psysml:45f3428f-90c5-481c-8b5b-6d42a9c9ecb4\" xlink:show=\"new\" xlink:title=\"psysml:45f3428f-90c5-481c-8b5b-6d42a9c9ecb4\" xlink:type=\"simple\"><rect fill=\"#FFFFFF\" height=\"47\" id=\"E3\" style=\"stroke: #383838; stroke-width: 1.5;\" width=\"198\" x=\"52\" y=\"55\"/><rect fill=\"#F8F8F8\" height=\"37.9375\" style=\"stroke: #383838; stroke-width: 1.5;\" width=\"198\" x=\"52\" y=\"55\"/><text fill=\"#000000\" font-family=\"sans-serif\" font-size=\"12\" font-style=\"italic\" lengthAdjust=\"spacingAndGlyphs\" textLength=\"64\" x=\"119\" y=\"71.1387\">«part def»</text><text fill=\"#000000\" font-family=\"sans-serif\" font-size=\"12\" lengthAdjust=\"spacingAndGlyphs\" textLength=\"8\" x=\"147\" y=\"85.1074\">B</text></a><!--MD5=[14e3b0961a2654348d326746436168a1]\n",
       "cluster E6--><a href=\"psysml:1e44cf6a-fe6c-483a-98ee-7c5816e24c4f\" target=\"_top\" title=\"psysml:1e44cf6a-fe6c-483a-98ee-7c5816e24c4f\" xlink:actuate=\"onRequest\" xlink:href=\"psysml:1e44cf6a-fe6c-483a-98ee-7c5816e24c4f\" xlink:show=\"new\" xlink:title=\"psysml:1e44cf6a-fe6c-483a-98ee-7c5816e24c4f\" xlink:type=\"simple\"><rect fill=\"#FFFFFF\" height=\"47\" id=\"E6\" style=\"stroke: #383838; stroke-width: 1.5;\" width=\"223.5\" x=\"52\" y=\"149\"/><rect fill=\"#F8F8F8\" height=\"37.9375\" style=\"stroke: #383838; stroke-width: 1.5;\" width=\"223.5\" x=\"52\" y=\"149\"/><text fill=\"#000000\" font-family=\"sans-serif\" font-size=\"12\" font-style=\"italic\" lengthAdjust=\"spacingAndGlyphs\" textLength=\"108\" x=\"109.75\" y=\"165.1387\">«connection def»</text><text fill=\"#000000\" font-family=\"sans-serif\" font-size=\"12\" lengthAdjust=\"spacingAndGlyphs\" textLength=\"8\" x=\"159.75\" y=\"179.1074\">A</text></a><!--MD5=[7f149f147074ac12df2cb0a7728a5fb0]\n",
       "cluster E9--><a href=\"psysml:c589f335-4cab-4324-b073-03ca89b55f7d\" target=\"_top\" title=\"psysml:c589f335-4cab-4324-b073-03ca89b55f7d\" xlink:actuate=\"onRequest\" xlink:href=\"psysml:c589f335-4cab-4324-b073-03ca89b55f7d\" xlink:show=\"new\" xlink:title=\"psysml:c589f335-4cab-4324-b073-03ca89b55f7d\" xlink:type=\"simple\"><rect fill=\"#FFFFFF\" height=\"47\" id=\"E9\" style=\"stroke: #383838; stroke-width: 1.5;\" width=\"214.5\" x=\"52\" y=\"243\"/><rect fill=\"#F8F8F8\" height=\"37.9375\" style=\"stroke: #383838; stroke-width: 1.5;\" width=\"214.5\" x=\"52\" y=\"243\"/><text fill=\"#000000\" font-family=\"sans-serif\" font-size=\"12\" font-style=\"italic\" lengthAdjust=\"spacingAndGlyphs\" textLength=\"94\" x=\"112.25\" y=\"259.1387\">«interface def»</text><text fill=\"#000000\" font-family=\"sans-serif\" font-size=\"12\" lengthAdjust=\"spacingAndGlyphs\" textLength=\"3\" x=\"157.75\" y=\"273.1074\">I</text></a><!--MD5=[47bea60c1a0ac6c1143df232041969c0]\n",
       "cluster E12--><a href=\"psysml:99d6c811-1239-4557-8bf5-512a2d9b51f5\" target=\"_top\" title=\"psysml:99d6c811-1239-4557-8bf5-512a2d9b51f5\" xlink:actuate=\"onRequest\" xlink:href=\"psysml:99d6c811-1239-4557-8bf5-512a2d9b51f5\" xlink:show=\"new\" xlink:title=\"psysml:99d6c811-1239-4557-8bf5-512a2d9b51f5\" xlink:type=\"simple\"><rect fill=\"#FFFFFF\" height=\"142\" id=\"E12\" style=\"stroke: #383838; stroke-width: 1.5;\" width=\"195\" x=\"40\" y=\"320\"/><rect fill=\"#F8F8F8\" height=\"37.9375\" style=\"stroke: #383838; stroke-width: 1.5;\" width=\"195\" x=\"40\" y=\"320\"/><text fill=\"#000000\" font-family=\"sans-serif\" font-size=\"12\" font-style=\"italic\" lengthAdjust=\"spacingAndGlyphs\" textLength=\"64\" x=\"105.5\" y=\"336.1387\">«part def»</text><text fill=\"#000000\" font-family=\"sans-serif\" font-size=\"12\" lengthAdjust=\"spacingAndGlyphs\" textLength=\"16\" x=\"129.5\" y=\"350.1074\">B1</text></a><!--MD5=[03104f77b71e2d8d3500c651e6e31181]\n",
       "cluster E13--><a href=\"psysml:c80e6282-4b88-42a6-beea-d83b68d36327\" target=\"_top\" title=\"psysml:c80e6282-4b88-42a6-beea-d83b68d36327\" xlink:actuate=\"onRequest\" xlink:href=\"psysml:c80e6282-4b88-42a6-beea-d83b68d36327\" xlink:show=\"new\" xlink:title=\"psysml:c80e6282-4b88-42a6-beea-d83b68d36327\" xlink:type=\"simple\"><rect fill=\"#FFFFFF\" height=\"47\" id=\"E13\" rx=\"10\" ry=\"10\" style=\"stroke: #383838; stroke-width: 1.5;\" width=\"167\" x=\"52\" y=\"385\"/><rect fill=\"#F8F8F8\" height=\"23.9688\" rx=\"10\" ry=\"10\" style=\"stroke: #F8F8F8; stroke-width: 1.5;\" width=\"167\" x=\"52\" y=\"385\"/><rect fill=\"#F8F8F8\" height=\"10\" style=\"stroke: #F8F8F8; stroke-width: 1.5;\" width=\"167\" x=\"52\" y=\"398.9688\"/><rect fill=\"none\" height=\"47\" id=\"E13\" rx=\"10\" ry=\"10\" style=\"stroke: #383838; stroke-width: 1.5;\" width=\"167\" x=\"52\" y=\"385\"/><text fill=\"#000000\" font-family=\"sans-serif\" font-size=\"12\" lengthAdjust=\"spacingAndGlyphs\" textLength=\"8\" x=\"131.5\" y=\"401.1387\">p</text><line style=\"stroke: #383838; stroke-width: 1.0;\" x1=\"52\" x2=\"219\" y1=\"408.9688\" y2=\"408.9688\"/></a><g id=\"E1.E2\"><a href=\"psysml:a118eece-ff6c-41b4-a8ec-63007fd81e06\" target=\"_top\" title=\"psysml:a118eece-ff6c-41b4-a8ec-63007fd81e06\" xlink:actuate=\"onRequest\" xlink:href=\"psysml:a118eece-ff6c-41b4-a8ec-63007fd81e06\" xlink:show=\"new\" xlink:title=\"psysml:a118eece-ff6c-41b4-a8ec-63007fd81e06\" xlink:type=\"simple\"><rect fill=\"#FFFFFF\" height=\"42.9375\" id=\"E2\" style=\"stroke: #383838; stroke-width: 1.5;\" width=\"71\" x=\"34.5\" y=\"478.5\"/><rect fill=\"#F8F8F8\" height=\"37.9375\" style=\"stroke: #383838; stroke-width: 1.5;\" width=\"71\" x=\"34.5\" y=\"478.5\"/><text fill=\"#000000\" font-family=\"sans-serif\" font-size=\"12\" font-style=\"italic\" lengthAdjust=\"spacingAndGlyphs\" textLength=\"64\" x=\"38\" y=\"494.6387\">«port def»</text><text fill=\"#000000\" font-family=\"sans-serif\" font-size=\"12\" lengthAdjust=\"spacingAndGlyphs\" textLength=\"8\" x=\"66\" y=\"508.6074\">P</text></a></g><text fill=\"#000000\" font-family=\"sans-serif\" font-size=\"14\" lengthAdjust=\"spacingAndGlyphs\" textLength=\"36\" x=\"52\" y=\"120.9951\">p1: P</text><rect fill=\"#383838\" height=\"12\" style=\"stroke: #F8F8F8; stroke-width: 1.5;\" width=\"12\" x=\"64\" y=\"96\"/><text fill=\"#000000\" font-family=\"sans-serif\" font-size=\"14\" lengthAdjust=\"spacingAndGlyphs\" textLength=\"48\" x=\"46\" y=\"33.6982\">p2: ~P</text><rect fill=\"#383838\" height=\"12\" style=\"stroke: #F8F8F8; stroke-width: 1.5;\" width=\"12\" x=\"64\" y=\"49\"/><text fill=\"#000000\" font-family=\"sans-serif\" font-size=\"14\" lengthAdjust=\"spacingAndGlyphs\" textLength=\"36\" x=\"52\" y=\"214.9951\">p1: P</text><rect fill=\"#383838\" height=\"12\" style=\"stroke: #F8F8F8; stroke-width: 1.5;\" width=\"12\" x=\"64\" y=\"190\"/><text fill=\"#000000\" font-family=\"sans-serif\" font-size=\"14\" lengthAdjust=\"spacingAndGlyphs\" textLength=\"48\" x=\"46\" y=\"127.6982\">p2: ~P</text><rect fill=\"#383838\" height=\"12\" style=\"stroke: #F8F8F8; stroke-width: 1.5;\" width=\"12\" x=\"64\" y=\"143\"/><text fill=\"#000000\" font-family=\"sans-serif\" font-size=\"14\" lengthAdjust=\"spacingAndGlyphs\" textLength=\"36\" x=\"52\" y=\"308.9951\">p1: P</text><rect fill=\"#383838\" height=\"12\" style=\"stroke: #F8F8F8; stroke-width: 1.5;\" width=\"12\" x=\"64\" y=\"284\"/><text fill=\"#000000\" font-family=\"sans-serif\" font-size=\"14\" lengthAdjust=\"spacingAndGlyphs\" textLength=\"48\" x=\"46\" y=\"221.6982\">p2: ~P</text><rect fill=\"#383838\" height=\"12\" style=\"stroke: #F8F8F8; stroke-width: 1.5;\" width=\"12\" x=\"64\" y=\"237\"/><text fill=\"#000000\" font-family=\"sans-serif\" font-size=\"14\" lengthAdjust=\"spacingAndGlyphs\" textLength=\"36\" x=\"52\" y=\"450.9951\">p1: P</text><rect fill=\"#383838\" height=\"12\" style=\"stroke: #F8F8F8; stroke-width: 1.5;\" width=\"12\" x=\"64\" y=\"426\"/><text fill=\"#000000\" font-family=\"sans-serif\" font-size=\"14\" lengthAdjust=\"spacingAndGlyphs\" textLength=\"48\" x=\"46\" y=\"363.6982\">p2: ~P</text><rect fill=\"#383838\" height=\"12\" style=\"stroke: #F8F8F8; stroke-width: 1.5;\" width=\"12\" x=\"64\" y=\"379\"/><!--MD5=[3afbdc645381407e1bc99677323a2513]\n",
       "link E14 to E15--><a href=\"psysml:356465e0-8362-42f7-8017-4c1d57dccd42\" target=\"_top\" title=\"psysml:356465e0-8362-42f7-8017-4c1d57dccd42\" xlink:actuate=\"onRequest\" xlink:href=\"psysml:356465e0-8362-42f7-8017-4c1d57dccd42\" xlink:show=\"new\" xlink:title=\"psysml:356465e0-8362-42f7-8017-4c1d57dccd42\" xlink:type=\"simple\"><path d=\"M70,425.76 C70,414.19 70,402.62 70,391.05 \" fill=\"none\" id=\"E14-E15\" style=\"stroke: #383838; stroke-width: 3.0;\"/></a><!--MD5=[3afbdc645381407e1bc99677323a2513]\n",
       "link E14 to E15--><a href=\"psysml:be002053-3eab-4239-b4ec-f62d8ddd6fa6\" target=\"_top\" title=\"psysml:be002053-3eab-4239-b4ec-f62d8ddd6fa6\" xlink:actuate=\"onRequest\" xlink:href=\"psysml:be002053-3eab-4239-b4ec-f62d8ddd6fa6\" xlink:show=\"new\" xlink:title=\"psysml:be002053-3eab-4239-b4ec-f62d8ddd6fa6\" xlink:type=\"simple\"><path d=\"M67.93,425.76 C64.67,414.19 64.69,402.62 67.98,391.05 \" fill=\"none\" id=\"E14-E15-1\" style=\"stroke: #383838; stroke-width: 3.0;\"/></a><!--MD5=[d771730739bba1ec2093261410d3a5bd]\n",
       "@startuml\r\n",
       "skinparam ranksep 10\r\n",
       "skinparam rectangle {\r\n",
       " backgroundColor<<block>> LightGreen\r\n",
       "}\r\n",
       "left to right direction\r\n",
       "skinparam monochrome true\r\n",
       "skinparam classbackgroundcolor white\r\n",
       "skinparam shadowing false\r\n",
       "skinparam wrapWidth 300\r\n",
       "hide circle\r\n",
       "\r\n",
       "package \"ConjugationTest\" as E1  [[psysml:811d2e93-771a-4206-9534-119b2782ed8b ]]  {\r\n",
       "def \"P\" as E2  <<(T,blue) port def>> [[psysml:a118eece-ff6c-41b4-a8ec-63007fd81e06 ]] \r\n",
       "rec def \"B\" as E3  <<(T,blue) part def>> [[psysml:45f3428f-90c5-481c-8b5b-6d42a9c9ecb4 ]] {\r\n",
       "portin \"p1: P\" as E4  <<(T,blue) port>> [[psysml:f10162e3-9121-4423-8c61-28bf75aadc9a ]] \r\n",
       "portin \"p2: ~P\" as E5  <<(T,blue) port>> [[psysml:f793b08e-b132-4869-8396-6344384571c9 ]] \r\n",
       "}\r\n",
       "rec def \"A\" as E6  <<(T,blue) connection def>> [[psysml:1e44cf6a-fe6c-483a-98ee-7c5816e24c4f ]] {\r\n",
       "portin \"p1: P\" as E7  <<(T,blue) port>> [[psysml:592da980-ebcc-4bfb-b89f-9a898fd7b408 ]] \r\n",
       "portin \"p2: ~P\" as E8  <<(T,blue) port>> [[psysml:4730362b-6892-4b61-8b08-4b1eb3a58a19 ]] \r\n",
       "}\r\n",
       "rec def \"I\" as E9  <<(T,blue) interface def>> [[psysml:c589f335-4cab-4324-b073-03ca89b55f7d ]] {\r\n",
       "portin \"p1: P\" as E10  <<(T,blue) port>> [[psysml:0a18d135-3a15-4f1e-a48b-3983b85e55aa ]] \r\n",
       "portin \"p2: ~P\" as E11  <<(T,blue) port>> [[psysml:f0ebefc1-580e-4b11-b9cf-e3cb40b874a3 ]] \r\n",
       "}\r\n",
       "rec def \"B1\" as E12  <<(T,blue) part def>> [[psysml:99d6c811-1239-4557-8bf5-512a2d9b51f5 ]] {\r\n",
       "rec usage \"p\" as E13  [[psysml:c80e6282-4b88-42a6-beea-d83b68d36327 ]] {\r\n",
       "portin \"p1: P\" as E14  <<(T,blue) port>> [[psysml:36fdd18b-cc96-4106-b803-027f179d9fab ]] \r\n",
       "portin \"p2: ~P\" as E15  <<(T,blue) port>> [[psysml:a04d4130-2616-430e-82e5-4df6c3f344d5 ]] \r\n",
       "}\r\n",
       "}\r\n",
       "}\r\n",
       "E14 -[thickness=3]- E15 [[psysml:356465e0-8362-42f7-8017-4c1d57dccd42 ]] \r\n",
       "E14 -[thickness=3]- E15 [[psysml:be002053-3eab-4239-b4ec-f62d8ddd6fa6 ]] \r\n",
       "@enduml\r\n",
       "\n",
       "PlantUML version 1.2020.13(Sat Jun 13 12:26:38 UTC 2020)\n",
       "(EPL source distribution)\n",
       "Java Runtime: OpenJDK Runtime Environment\n",
       "JVM: OpenJDK 64-Bit Server VM\n",
       "Default Encoding: UTF-8\n",
       "Language: en\n",
       "Country: null\n",
       "--></g></svg>"
      ]
     },
     "execution_count": 19,
     "metadata": {},
     "output_type": "execute_result"
    }
   ],
   "source": [
    "%viz --style=\"LR\" --view=\"Interconnection\" \"ConjugationTest\""
   ]
  },
  {
   "cell_type": "code",
   "execution_count": 20,
   "id": "b5e107f9",
   "metadata": {
    "execution": {
     "iopub.execute_input": "2021-10-03T08:28:06.323874Z",
     "iopub.status.busy": "2021-10-03T08:28:06.323430Z",
     "iopub.status.idle": "2021-10-03T08:28:06.329631Z",
     "shell.execute_reply": "2021-10-03T08:28:06.329261Z"
    }
   },
   "outputs": [
    {
     "data": {
      "image/svg+xml": [
       "<?xml version=\"1.0\" encoding=\"UTF-8\" standalone=\"no\"?><svg xmlns=\"http://www.w3.org/2000/svg\" xmlns:xlink=\"http://www.w3.org/1999/xlink\" contentScriptType=\"application/ecmascript\" contentStyleType=\"text/css\" height=\"12px\" preserveAspectRatio=\"none\" style=\"width:12px;height:12px;\" version=\"1.1\" viewBox=\"0 0 12 12\" width=\"12px\" zoomAndPan=\"magnify\"><defs/><g><!--MD5=[7aeb398939421629f6affaa4a1a7b125]\n",
       "@startuml\r\n",
       "skinparam ranksep 8\r\n",
       "left to right direction\r\n",
       "skinparam monochrome true\r\n",
       "skinparam classbackgroundcolor white\r\n",
       "skinparam shadowing false\r\n",
       "skinparam wrapWidth 300\r\n",
       "hide circle\r\n",
       "\r\n",
       "@enduml\r\n",
       "\n",
       "PlantUML version 1.2020.13(Sat Jun 13 12:26:38 UTC 2020)\n",
       "(EPL source distribution)\n",
       "Java Runtime: OpenJDK Runtime Environment\n",
       "JVM: OpenJDK 64-Bit Server VM\n",
       "Default Encoding: UTF-8\n",
       "Language: en\n",
       "Country: null\n",
       "--></g></svg>"
      ]
     },
     "execution_count": 20,
     "metadata": {},
     "output_type": "execute_result"
    }
   ],
   "source": [
    "%viz --style=\"LR\" --view=\"Action\" \"ConjugationTest\""
   ]
  },
  {
   "cell_type": "code",
   "execution_count": 21,
   "id": "7233442c",
   "metadata": {
    "execution": {
     "iopub.execute_input": "2021-10-03T08:28:06.378866Z",
     "iopub.status.busy": "2021-10-03T08:28:06.378454Z",
     "iopub.status.idle": "2021-10-03T08:28:06.384260Z",
     "shell.execute_reply": "2021-10-03T08:28:06.384568Z"
    }
   },
   "outputs": [
    {
     "data": {
      "image/svg+xml": [
       "<?xml version=\"1.0\" encoding=\"UTF-8\" standalone=\"no\"?><svg xmlns=\"http://www.w3.org/2000/svg\" xmlns:xlink=\"http://www.w3.org/1999/xlink\" contentScriptType=\"application/ecmascript\" contentStyleType=\"text/css\" height=\"12px\" preserveAspectRatio=\"none\" style=\"width:12px;height:12px;\" version=\"1.1\" viewBox=\"0 0 12 12\" width=\"12px\" zoomAndPan=\"magnify\"><defs/><g><!--MD5=[238c11ea2002f03115ad6b49a457d50e]\n",
       "@startuml\r\n",
       "skinparam roundcorner 20\r\n",
       "skinparam BoxPadding 20\r\n",
       "skinparam SequenceBoxBackgroundColor #white\r\n",
       "skinparam style strictuml\r\n",
       "skinparam maxMessageSize 100\r\n",
       "left to right direction\r\n",
       "skinparam monochrome true\r\n",
       "skinparam classbackgroundcolor white\r\n",
       "skinparam shadowing false\r\n",
       "skinparam wrapWidth 300\r\n",
       "hide circle\r\n",
       "\r\n",
       "@enduml\r\n",
       "\n",
       "PlantUML version 1.2020.13(Sat Jun 13 12:26:38 UTC 2020)\n",
       "(EPL source distribution)\n",
       "Java Runtime: OpenJDK Runtime Environment\n",
       "JVM: OpenJDK 64-Bit Server VM\n",
       "Default Encoding: UTF-8\n",
       "Language: en\n",
       "Country: null\n",
       "--></g></svg>"
      ]
     },
     "execution_count": 21,
     "metadata": {},
     "output_type": "execute_result"
    }
   ],
   "source": [
    "%viz --style=\"LR\" --view=\"Sequence\" \"ConjugationTest\""
   ]
  },
  {
   "cell_type": "code",
   "execution_count": 22,
   "id": "44f593a4",
   "metadata": {
    "execution": {
     "iopub.execute_input": "2021-10-03T08:28:06.434295Z",
     "iopub.status.busy": "2021-10-03T08:28:06.433827Z",
     "iopub.status.idle": "2021-10-03T08:28:06.496850Z",
     "shell.execute_reply": "2021-10-03T08:28:06.497169Z"
    }
   },
   "outputs": [
    {
     "data": {
      "image/svg+xml": [
       "<?xml version=\"1.0\" encoding=\"UTF-8\" standalone=\"no\"?><svg xmlns=\"http://www.w3.org/2000/svg\" xmlns:xlink=\"http://www.w3.org/1999/xlink\" contentScriptType=\"application/ecmascript\" contentStyleType=\"text/css\" height=\"638px\" preserveAspectRatio=\"none\" style=\"width:540px;height:638px;\" version=\"1.1\" viewBox=\"0 0 540 638\" width=\"540px\" zoomAndPan=\"magnify\"><defs/><g><!--MD5=[fbc87193dbaf4d95561dea2c320d4a47]\n",
       "cluster E1--><a href=\"psysml:811d2e93-771a-4206-9534-119b2782ed8b\" target=\"_top\" title=\"psysml:811d2e93-771a-4206-9534-119b2782ed8b\" xlink:actuate=\"onRequest\" xlink:href=\"psysml:811d2e93-771a-4206-9534-119b2782ed8b\" xlink:show=\"new\" xlink:title=\"psysml:811d2e93-771a-4206-9534-119b2782ed8b\" xlink:type=\"simple\"><polygon fill=\"#FFFFFF\" points=\"16,6,136,6,143,28.2969,518,28.2969,518,626,16,626,16,6\" style=\"stroke: #000000; stroke-width: 1.5;\"/><line style=\"stroke: #000000; stroke-width: 1.5;\" x1=\"16\" x2=\"143\" y1=\"28.2969\" y2=\"28.2969\"/><text fill=\"#000000\" font-family=\"sans-serif\" font-size=\"14\" font-weight=\"bold\" lengthAdjust=\"spacingAndGlyphs\" textLength=\"114\" x=\"20\" y=\"20.9951\">ConjugationTest</text></a><!--MD5=[b4997ac47864f28c2f74865a473b2911]\n",
       "class E2--><a href=\"psysml:a118eece-ff6c-41b4-a8ec-63007fd81e06\" target=\"_top\" title=\"psysml:a118eece-ff6c-41b4-a8ec-63007fd81e06\" xlink:actuate=\"onRequest\" xlink:href=\"psysml:a118eece-ff6c-41b4-a8ec-63007fd81e06\" xlink:show=\"new\" xlink:title=\"psysml:a118eece-ff6c-41b4-a8ec-63007fd81e06\" xlink:type=\"simple\"><rect fill=\"#FFFFFF\" height=\"45.9375\" id=\"E2\" style=\"stroke: #383838; stroke-width: 1.5;\" width=\"66\" x=\"436\" y=\"365\"/><text fill=\"#000000\" font-family=\"sans-serif\" font-size=\"12\" font-style=\"italic\" lengthAdjust=\"spacingAndGlyphs\" textLength=\"64\" x=\"437\" y=\"381.1387\">«port def»</text><text fill=\"#000000\" font-family=\"sans-serif\" font-size=\"12\" lengthAdjust=\"spacingAndGlyphs\" textLength=\"8\" x=\"465\" y=\"395.1074\">P</text><line style=\"stroke: #383838; stroke-width: 1.5;\" x1=\"437\" x2=\"501\" y1=\"402.9375\" y2=\"402.9375\"/></a><!--MD5=[09b614a08d8cba4a07c9adeb5e0fee81]\n",
       "class E3--><a href=\"psysml:45f3428f-90c5-481c-8b5b-6d42a9c9ecb4\" target=\"_top\" title=\"psysml:45f3428f-90c5-481c-8b5b-6d42a9c9ecb4\" xlink:actuate=\"onRequest\" xlink:href=\"psysml:45f3428f-90c5-481c-8b5b-6d42a9c9ecb4\" xlink:show=\"new\" xlink:title=\"psysml:45f3428f-90c5-481c-8b5b-6d42a9c9ecb4\" xlink:type=\"simple\"><rect fill=\"#FFFFFF\" height=\"45.9375\" id=\"E3\" style=\"stroke: #383838; stroke-width: 1.5;\" width=\"66\" x=\"180\" y=\"82\"/><text fill=\"#000000\" font-family=\"sans-serif\" font-size=\"12\" font-style=\"italic\" lengthAdjust=\"spacingAndGlyphs\" textLength=\"64\" x=\"181\" y=\"98.1387\">«part def»</text><text fill=\"#000000\" font-family=\"sans-serif\" font-size=\"12\" lengthAdjust=\"spacingAndGlyphs\" textLength=\"8\" x=\"209\" y=\"112.1074\">B</text><line style=\"stroke: #383838; stroke-width: 1.5;\" x1=\"181\" x2=\"245\" y1=\"119.9375\" y2=\"119.9375\"/></a><!--MD5=[ebbe1d658d1005bcc118a6aa81145e00]\n",
       "class E4--><a href=\"psysml:f10162e3-9121-4423-8c61-28bf75aadc9a\" target=\"_top\" title=\"psysml:f10162e3-9121-4423-8c61-28bf75aadc9a\" xlink:actuate=\"onRequest\" xlink:href=\"psysml:f10162e3-9121-4423-8c61-28bf75aadc9a\" xlink:show=\"new\" xlink:title=\"psysml:f10162e3-9121-4423-8c61-28bf75aadc9a\" xlink:type=\"simple\"><rect fill=\"#FFFFFF\" height=\"45.9375\" id=\"E4\" rx=\"10\" ry=\"10\" style=\"stroke: #383838; stroke-width: 1.5;\" width=\"42\" x=\"331\" y=\"122\"/><text fill=\"#000000\" font-family=\"sans-serif\" font-size=\"12\" font-style=\"italic\" lengthAdjust=\"spacingAndGlyphs\" textLength=\"40\" x=\"332\" y=\"138.1387\">«port»</text><text fill=\"#000000\" font-family=\"sans-serif\" font-size=\"12\" lengthAdjust=\"spacingAndGlyphs\" textLength=\"32\" x=\"336\" y=\"152.1074\">p1: P</text><line style=\"stroke: #383838; stroke-width: 1.5;\" x1=\"332\" x2=\"372\" y1=\"159.9375\" y2=\"159.9375\"/></a><!--MD5=[270fce915f116d4de14055a7c1d9a0f3]\n",
       "class E5--><a href=\"psysml:f793b08e-b132-4869-8396-6344384571c9\" target=\"_top\" title=\"psysml:f793b08e-b132-4869-8396-6344384571c9\" xlink:actuate=\"onRequest\" xlink:href=\"psysml:f793b08e-b132-4869-8396-6344384571c9\" xlink:show=\"new\" xlink:title=\"psysml:f793b08e-b132-4869-8396-6344384571c9\" xlink:type=\"simple\"><rect fill=\"#FFFFFF\" height=\"45.9375\" id=\"E5\" rx=\"10\" ry=\"10\" style=\"stroke: #383838; stroke-width: 1.5;\" width=\"48\" x=\"328\" y=\"41\"/><text fill=\"#000000\" font-family=\"sans-serif\" font-size=\"12\" font-style=\"italic\" lengthAdjust=\"spacingAndGlyphs\" textLength=\"40\" x=\"332\" y=\"57.1387\">«port»</text><text fill=\"#000000\" font-family=\"sans-serif\" font-size=\"12\" lengthAdjust=\"spacingAndGlyphs\" textLength=\"42\" x=\"331\" y=\"71.1074\">p2: ~P</text><line style=\"stroke: #383838; stroke-width: 1.5;\" x1=\"329\" x2=\"375\" y1=\"78.9375\" y2=\"78.9375\"/></a><!--MD5=[60a26617385b1d2d0262a64233df1f8d]\n",
       "class E6--><a href=\"psysml:1e44cf6a-fe6c-483a-98ee-7c5816e24c4f\" target=\"_top\" title=\"psysml:1e44cf6a-fe6c-483a-98ee-7c5816e24c4f\" xlink:actuate=\"onRequest\" xlink:href=\"psysml:1e44cf6a-fe6c-483a-98ee-7c5816e24c4f\" xlink:show=\"new\" xlink:title=\"psysml:1e44cf6a-fe6c-483a-98ee-7c5816e24c4f\" xlink:type=\"simple\"><rect fill=\"#FFFFFF\" height=\"45.9375\" id=\"E6\" style=\"stroke: #383838; stroke-width: 1.5;\" width=\"110\" x=\"158\" y=\"244\"/><text fill=\"#000000\" font-family=\"sans-serif\" font-size=\"12\" font-style=\"italic\" lengthAdjust=\"spacingAndGlyphs\" textLength=\"108\" x=\"159\" y=\"260.1387\">«connection def»</text><text fill=\"#000000\" font-family=\"sans-serif\" font-size=\"12\" lengthAdjust=\"spacingAndGlyphs\" textLength=\"8\" x=\"209\" y=\"274.1074\">A</text><line style=\"stroke: #383838; stroke-width: 1.5;\" x1=\"159\" x2=\"267\" y1=\"281.9375\" y2=\"281.9375\"/></a><!--MD5=[2156ba9850f5573cc1fc38a6a4b2f02b]\n",
       "class E7--><a href=\"psysml:592da980-ebcc-4bfb-b89f-9a898fd7b408\" target=\"_top\" title=\"psysml:592da980-ebcc-4bfb-b89f-9a898fd7b408\" xlink:actuate=\"onRequest\" xlink:href=\"psysml:592da980-ebcc-4bfb-b89f-9a898fd7b408\" xlink:show=\"new\" xlink:title=\"psysml:592da980-ebcc-4bfb-b89f-9a898fd7b408\" xlink:type=\"simple\"><rect fill=\"#FFFFFF\" height=\"45.9375\" id=\"E7\" rx=\"10\" ry=\"10\" style=\"stroke: #383838; stroke-width: 1.5;\" width=\"42\" x=\"331\" y=\"284\"/><text fill=\"#000000\" font-family=\"sans-serif\" font-size=\"12\" font-style=\"italic\" lengthAdjust=\"spacingAndGlyphs\" textLength=\"40\" x=\"332\" y=\"300.1387\">«port»</text><text fill=\"#000000\" font-family=\"sans-serif\" font-size=\"12\" lengthAdjust=\"spacingAndGlyphs\" textLength=\"32\" x=\"336\" y=\"314.1074\">p1: P</text><line style=\"stroke: #383838; stroke-width: 1.5;\" x1=\"332\" x2=\"372\" y1=\"321.9375\" y2=\"321.9375\"/></a><!--MD5=[b9389687b975829384b498ac4b7476b2]\n",
       "class E8--><a href=\"psysml:4730362b-6892-4b61-8b08-4b1eb3a58a19\" target=\"_top\" title=\"psysml:4730362b-6892-4b61-8b08-4b1eb3a58a19\" xlink:actuate=\"onRequest\" xlink:href=\"psysml:4730362b-6892-4b61-8b08-4b1eb3a58a19\" xlink:show=\"new\" xlink:title=\"psysml:4730362b-6892-4b61-8b08-4b1eb3a58a19\" xlink:type=\"simple\"><rect fill=\"#FFFFFF\" height=\"45.9375\" id=\"E8\" rx=\"10\" ry=\"10\" style=\"stroke: #383838; stroke-width: 1.5;\" width=\"48\" x=\"328\" y=\"203\"/><text fill=\"#000000\" font-family=\"sans-serif\" font-size=\"12\" font-style=\"italic\" lengthAdjust=\"spacingAndGlyphs\" textLength=\"40\" x=\"332\" y=\"219.1387\">«port»</text><text fill=\"#000000\" font-family=\"sans-serif\" font-size=\"12\" lengthAdjust=\"spacingAndGlyphs\" textLength=\"42\" x=\"331\" y=\"233.1074\">p2: ~P</text><line style=\"stroke: #383838; stroke-width: 1.5;\" x1=\"329\" x2=\"375\" y1=\"240.9375\" y2=\"240.9375\"/></a><!--MD5=[fd4143e9d270a159db93a4ea2a975926]\n",
       "class E9--><a href=\"psysml:c589f335-4cab-4324-b073-03ca89b55f7d\" target=\"_top\" title=\"psysml:c589f335-4cab-4324-b073-03ca89b55f7d\" xlink:actuate=\"onRequest\" xlink:href=\"psysml:c589f335-4cab-4324-b073-03ca89b55f7d\" xlink:show=\"new\" xlink:title=\"psysml:c589f335-4cab-4324-b073-03ca89b55f7d\" xlink:type=\"simple\"><rect fill=\"#FFFFFF\" height=\"45.9375\" id=\"E9\" style=\"stroke: #383838; stroke-width: 1.5;\" width=\"96\" x=\"165\" y=\"406\"/><text fill=\"#000000\" font-family=\"sans-serif\" font-size=\"12\" font-style=\"italic\" lengthAdjust=\"spacingAndGlyphs\" textLength=\"94\" x=\"166\" y=\"422.1387\">«interface def»</text><text fill=\"#000000\" font-family=\"sans-serif\" font-size=\"12\" lengthAdjust=\"spacingAndGlyphs\" textLength=\"3\" x=\"211.5\" y=\"436.1074\">I</text><line style=\"stroke: #383838; stroke-width: 1.5;\" x1=\"166\" x2=\"260\" y1=\"443.9375\" y2=\"443.9375\"/></a><!--MD5=[96f4274e9e20536e775497830990834d]\n",
       "class E10--><a href=\"psysml:0a18d135-3a15-4f1e-a48b-3983b85e55aa\" target=\"_top\" title=\"psysml:0a18d135-3a15-4f1e-a48b-3983b85e55aa\" xlink:actuate=\"onRequest\" xlink:href=\"psysml:0a18d135-3a15-4f1e-a48b-3983b85e55aa\" xlink:show=\"new\" xlink:title=\"psysml:0a18d135-3a15-4f1e-a48b-3983b85e55aa\" xlink:type=\"simple\"><rect fill=\"#FFFFFF\" height=\"45.9375\" id=\"E10\" rx=\"10\" ry=\"10\" style=\"stroke: #383838; stroke-width: 1.5;\" width=\"42\" x=\"331\" y=\"446\"/><text fill=\"#000000\" font-family=\"sans-serif\" font-size=\"12\" font-style=\"italic\" lengthAdjust=\"spacingAndGlyphs\" textLength=\"40\" x=\"332\" y=\"462.1387\">«port»</text><text fill=\"#000000\" font-family=\"sans-serif\" font-size=\"12\" lengthAdjust=\"spacingAndGlyphs\" textLength=\"32\" x=\"336\" y=\"476.1074\">p1: P</text><line style=\"stroke: #383838; stroke-width: 1.5;\" x1=\"332\" x2=\"372\" y1=\"483.9375\" y2=\"483.9375\"/></a><!--MD5=[1dd1bfd58a279cf63c5f349dbc8fc6a1]\n",
       "class E11--><a href=\"psysml:f0ebefc1-580e-4b11-b9cf-e3cb40b874a3\" target=\"_top\" title=\"psysml:f0ebefc1-580e-4b11-b9cf-e3cb40b874a3\" xlink:actuate=\"onRequest\" xlink:href=\"psysml:f0ebefc1-580e-4b11-b9cf-e3cb40b874a3\" xlink:show=\"new\" xlink:title=\"psysml:f0ebefc1-580e-4b11-b9cf-e3cb40b874a3\" xlink:type=\"simple\"><rect fill=\"#FFFFFF\" height=\"45.9375\" id=\"E11\" rx=\"10\" ry=\"10\" style=\"stroke: #383838; stroke-width: 1.5;\" width=\"48\" x=\"328\" y=\"365\"/><text fill=\"#000000\" font-family=\"sans-serif\" font-size=\"12\" font-style=\"italic\" lengthAdjust=\"spacingAndGlyphs\" textLength=\"40\" x=\"332\" y=\"381.1387\">«port»</text><text fill=\"#000000\" font-family=\"sans-serif\" font-size=\"12\" lengthAdjust=\"spacingAndGlyphs\" textLength=\"42\" x=\"331\" y=\"395.1074\">p2: ~P</text><line style=\"stroke: #383838; stroke-width: 1.5;\" x1=\"329\" x2=\"375\" y1=\"402.9375\" y2=\"402.9375\"/></a><!--MD5=[49a0ec8f00dab7302a31f22d0f0fe584]\n",
       "class E12--><a href=\"psysml:99d6c811-1239-4557-8bf5-512a2d9b51f5\" target=\"_top\" title=\"psysml:99d6c811-1239-4557-8bf5-512a2d9b51f5\" xlink:actuate=\"onRequest\" xlink:href=\"psysml:99d6c811-1239-4557-8bf5-512a2d9b51f5\" xlink:show=\"new\" xlink:title=\"psysml:99d6c811-1239-4557-8bf5-512a2d9b51f5\" xlink:type=\"simple\"><rect fill=\"#FFFFFF\" height=\"45.9375\" id=\"E12\" style=\"stroke: #383838; stroke-width: 1.5;\" width=\"66\" x=\"32\" y=\"546\"/><text fill=\"#000000\" font-family=\"sans-serif\" font-size=\"12\" font-style=\"italic\" lengthAdjust=\"spacingAndGlyphs\" textLength=\"64\" x=\"33\" y=\"562.1387\">«part def»</text><text fill=\"#000000\" font-family=\"sans-serif\" font-size=\"12\" lengthAdjust=\"spacingAndGlyphs\" textLength=\"16\" x=\"57\" y=\"576.1074\">B1</text><line style=\"stroke: #383838; stroke-width: 1.5;\" x1=\"33\" x2=\"97\" y1=\"583.9375\" y2=\"583.9375\"/></a><!--MD5=[ee3c913d1a06f366521f9ef512b67efe]\n",
       "class E13--><a href=\"psysml:c80e6282-4b88-42a6-beea-d83b68d36327\" target=\"_top\" title=\"psysml:c80e6282-4b88-42a6-beea-d83b68d36327\" xlink:actuate=\"onRequest\" xlink:href=\"psysml:c80e6282-4b88-42a6-beea-d83b68d36327\" xlink:show=\"new\" xlink:title=\"psysml:c80e6282-4b88-42a6-beea-d83b68d36327\" xlink:type=\"simple\"><rect fill=\"#FFFFFF\" height=\"45.9375\" id=\"E13\" rx=\"10\" ry=\"10\" style=\"stroke: #383838; stroke-width: 1.5;\" width=\"42\" x=\"192\" y=\"546\"/><text fill=\"#000000\" font-family=\"sans-serif\" font-size=\"12\" font-style=\"italic\" lengthAdjust=\"spacingAndGlyphs\" textLength=\"40\" x=\"193\" y=\"562.1387\">«part»</text><text fill=\"#000000\" font-family=\"sans-serif\" font-size=\"12\" lengthAdjust=\"spacingAndGlyphs\" textLength=\"8\" x=\"209\" y=\"576.1074\">p</text><line style=\"stroke: #383838; stroke-width: 1.5;\" x1=\"193\" x2=\"233\" y1=\"583.9375\" y2=\"583.9375\"/></a><!--MD5=[bee11217b2f71d958a27249dc326068c]\n",
       "class E14--><a href=\"psysml:36fdd18b-cc96-4106-b803-027f179d9fab\" target=\"_top\" title=\"psysml:36fdd18b-cc96-4106-b803-027f179d9fab\" xlink:actuate=\"onRequest\" xlink:href=\"psysml:36fdd18b-cc96-4106-b803-027f179d9fab\" xlink:show=\"new\" xlink:title=\"psysml:36fdd18b-cc96-4106-b803-027f179d9fab\" xlink:type=\"simple\"><rect fill=\"#FFFFFF\" height=\"45.9375\" id=\"E14\" rx=\"10\" ry=\"10\" style=\"stroke: #383838; stroke-width: 1.5;\" width=\"42\" x=\"331\" y=\"527\"/><text fill=\"#000000\" font-family=\"sans-serif\" font-size=\"12\" font-style=\"italic\" lengthAdjust=\"spacingAndGlyphs\" textLength=\"40\" x=\"332\" y=\"543.1387\">«port»</text><text fill=\"#000000\" font-family=\"sans-serif\" font-size=\"12\" lengthAdjust=\"spacingAndGlyphs\" textLength=\"32\" x=\"336\" y=\"557.1074\">p1: P</text><line style=\"stroke: #383838; stroke-width: 1.5;\" x1=\"332\" x2=\"372\" y1=\"564.9375\" y2=\"564.9375\"/></a><!--MD5=[0c48fb7552dae8cbbef69381101a84c8]\n",
       "class E15--><a href=\"psysml:a04d4130-2616-430e-82e5-4df6c3f344d5\" target=\"_top\" title=\"psysml:a04d4130-2616-430e-82e5-4df6c3f344d5\" xlink:actuate=\"onRequest\" xlink:href=\"psysml:a04d4130-2616-430e-82e5-4df6c3f344d5\" xlink:show=\"new\" xlink:title=\"psysml:a04d4130-2616-430e-82e5-4df6c3f344d5\" xlink:type=\"simple\"><rect fill=\"#FFFFFF\" height=\"45.9375\" id=\"E15\" rx=\"10\" ry=\"10\" style=\"stroke: #383838; stroke-width: 1.5;\" width=\"48\" x=\"445\" y=\"527\"/><text fill=\"#000000\" font-family=\"sans-serif\" font-size=\"12\" font-style=\"italic\" lengthAdjust=\"spacingAndGlyphs\" textLength=\"40\" x=\"449\" y=\"543.1387\">«port»</text><text fill=\"#000000\" font-family=\"sans-serif\" font-size=\"12\" lengthAdjust=\"spacingAndGlyphs\" textLength=\"42\" x=\"448\" y=\"557.1074\">p2: ~P</text><line style=\"stroke: #383838; stroke-width: 1.5;\" x1=\"446\" x2=\"492\" y1=\"564.9375\" y2=\"564.9375\"/></a><!--MD5=[4672eba38e49728da53d11aeb285b987]\n",
       "reverse link E3 to E4--><a href=\"psysml:478537c4-9aea-45e7-93bf-51b2f99f76d0\" target=\"_top\" title=\"psysml:478537c4-9aea-45e7-93bf-51b2f99f76d0\" xlink:actuate=\"onRequest\" xlink:href=\"psysml:478537c4-9aea-45e7-93bf-51b2f99f76d0\" xlink:show=\"new\" xlink:title=\"psysml:478537c4-9aea-45e7-93bf-51b2f99f76d0\" xlink:type=\"simple\"><path d=\"M258.74,118.06 C283.11,125.18 312.08,133.64 330.96,139.15 \" fill=\"none\" id=\"E3&lt;-E4\" style=\"stroke: #383838; stroke-width: 1.0;\"/><polygon fill=\"#FFFFFF\" points=\"246.12,114.38,250.7595,119.9004,257.6397,117.741,253.0002,112.2206,246.12,114.38\" style=\"stroke: #383838; stroke-width: 1.0;\"/><text fill=\"#000000\" font-family=\"sans-serif\" font-size=\"13\" lengthAdjust=\"spacingAndGlyphs\" textLength=\"8\" x=\"314.9785\" y=\"151.774\">1</text></a><!--MD5=[185131fc0dcab0a4505a2ebe144e961b]\n",
       "link E4 to E2--><a href=\"psysml:9a27f54b-62e8-4ed3-8ffb-179b9354440f\" target=\"_top\" title=\"psysml:9a27f54b-62e8-4ed3-8ffb-179b9354440f\" xlink:actuate=\"onRequest\" xlink:href=\"psysml:9a27f54b-62e8-4ed3-8ffb-179b9354440f\" xlink:show=\"new\" xlink:title=\"psysml:9a27f54b-62e8-4ed3-8ffb-179b9354440f\" xlink:type=\"simple\"><path d=\"M366.76,168.06 C369.9,173.55 373.15,179.44 376,185 C404.07,239.77 432.78,304.84 450.49,346.27 \" fill=\"none\" id=\"E4-&gt;E2\" style=\"stroke: #383838; stroke-width: 1.0;\"/><polygon fill=\"#FFFFFF\" points=\"458.36,364.83,444.494,350.0742,457.3816,344.6052,458.36,364.83\" style=\"stroke: #383838; stroke-width: 1.0;\"/><ellipse cx=\"444.1084\" cy=\"344.0458\" fill=\"#383838\" rx=\"2\" ry=\"2\" style=\"stroke: #383838; stroke-width: 1.0;\"/><ellipse cx=\"453.3139\" cy=\"340.1394\" fill=\"#383838\" rx=\"2\" ry=\"2\" style=\"stroke: #383838; stroke-width: 1.0;\"/></a><!--MD5=[191cde3d490a3f6d7bb551fe3ddca469]\n",
       "reverse link E3 to E5--><a href=\"psysml:0c237cb0-b529-413c-8aaf-d2f6ce3a1092\" target=\"_top\" title=\"psysml:0c237cb0-b529-413c-8aaf-d2f6ce3a1092\" xlink:actuate=\"onRequest\" xlink:href=\"psysml:0c237cb0-b529-413c-8aaf-d2f6ce3a1092\" xlink:show=\"new\" xlink:title=\"psysml:0c237cb0-b529-413c-8aaf-d2f6ce3a1092\" xlink:type=\"simple\"><path d=\"M258.74,91.61 C281.73,84.73 308.8,76.63 327.65,70.99 \" fill=\"none\" id=\"E3&lt;-E5\" style=\"stroke: #383838; stroke-width: 1.0;\"/><polygon fill=\"#FFFFFF\" points=\"246.12,95.39,253.015,97.5016,257.6161,91.9491,250.7211,89.8375,246.12,95.39\" style=\"stroke: #383838; stroke-width: 1.0;\"/><text fill=\"#000000\" font-family=\"sans-serif\" font-size=\"13\" lengthAdjust=\"spacingAndGlyphs\" textLength=\"8\" x=\"312.0309\" y=\"86.9773\">1</text></a><!--MD5=[3f50a3473f1dfb74d3f76443e03635af]\n",
       "reverse link E6 to E7--><a href=\"psysml:b94a6cc2-6585-4221-b4bd-c6e1360a7593\" target=\"_top\" title=\"psysml:b94a6cc2-6585-4221-b4bd-c6e1360a7593\" xlink:actuate=\"onRequest\" xlink:href=\"psysml:b94a6cc2-6585-4221-b4bd-c6e1360a7593\" xlink:show=\"new\" xlink:title=\"psysml:b94a6cc2-6585-4221-b4bd-c6e1360a7593\" xlink:type=\"simple\"><path d=\"M280.67,286.47 C298.89,291.79 317.28,297.16 330.69,301.07 \" fill=\"none\" id=\"E6&lt;-E7\" style=\"stroke: #383838; stroke-width: 1.0;\"/><polygon fill=\"#FFFFFF\" points=\"268.15,282.81,272.7895,288.3304,279.6697,286.171,275.0302,280.6506,268.15,282.81\" style=\"stroke: #383838; stroke-width: 1.0;\"/><text fill=\"#000000\" font-family=\"sans-serif\" font-size=\"13\" lengthAdjust=\"spacingAndGlyphs\" textLength=\"8\" x=\"314.9388\" y=\"313.6476\">1</text></a><!--MD5=[583832df87f4419a098336a29a52fa00]\n",
       "link E7 to E2--><a href=\"psysml:6c7ecdb4-3704-4141-b5eb-90be274661d4\" target=\"_top\" title=\"psysml:6c7ecdb4-3704-4141-b5eb-90be274661d4\" xlink:actuate=\"onRequest\" xlink:href=\"psysml:6c7ecdb4-3704-4141-b5eb-90be274661d4\" xlink:show=\"new\" xlink:title=\"psysml:6c7ecdb4-3704-4141-b5eb-90be274661d4\" xlink:type=\"simple\"><path d=\"M373.03,321.11 C385.76,330.08 402.84,342.1 419,353.48 \" fill=\"none\" id=\"E7-&gt;E2\" style=\"stroke: #383838; stroke-width: 1.0;\"/><polygon fill=\"#FFFFFF\" points=\"435.6,365.18,416.034,359.9673,424.0927,348.5192,435.6,365.18\" style=\"stroke: #383838; stroke-width: 1.0;\"/><ellipse cx=\"412.5242\" cy=\"355.0509\" fill=\"#383838\" rx=\"2\" ry=\"2\" style=\"stroke: #383838; stroke-width: 1.0;\"/><ellipse cx=\"418.2804\" cy=\"346.8737\" fill=\"#383838\" rx=\"2\" ry=\"2\" style=\"stroke: #383838; stroke-width: 1.0;\"/></a><!--MD5=[f4cf0736d43fd73c4ef68817c49d37d5]\n",
       "reverse link E6 to E8--><a href=\"psysml:c893fa2e-0043-44e8-be45-2077001790d0\" target=\"_top\" title=\"psysml:c893fa2e-0043-44e8-be45-2077001790d0\" xlink:actuate=\"onRequest\" xlink:href=\"psysml:c893fa2e-0043-44e8-be45-2077001790d0\" xlink:show=\"new\" xlink:title=\"psysml:c893fa2e-0043-44e8-be45-2077001790d0\" xlink:type=\"simple\"><path d=\"M280.98,246.96 C297.88,241.9 314.9,236.8 327.93,232.9 \" fill=\"none\" id=\"E6&lt;-E8\" style=\"stroke: #383838; stroke-width: 1.0;\"/><polygon fill=\"#FFFFFF\" points=\"268.15,250.8,275.0428,252.9188,279.6497,247.3712,272.7569,245.2524,268.15,250.8\" style=\"stroke: #383838; stroke-width: 1.0;\"/><text fill=\"#000000\" font-family=\"sans-serif\" font-size=\"13\" lengthAdjust=\"spacingAndGlyphs\" textLength=\"8\" x=\"312.0353\" y=\"249.0444\">1</text></a><!--MD5=[23ac544a70576c3e717098101004234c]\n",
       "reverse link E9 to E10--><a href=\"psysml:3723b58c-a4dd-4ef3-9a79-2a659572d83c\" target=\"_top\" title=\"psysml:3723b58c-a4dd-4ef3-9a79-2a659572d83c\" xlink:actuate=\"onRequest\" xlink:href=\"psysml:3723b58c-a4dd-4ef3-9a79-2a659572d83c\" xlink:show=\"new\" xlink:title=\"psysml:3723b58c-a4dd-4ef3-9a79-2a659572d83c\" xlink:type=\"simple\"><path d=\"M273.71,446.43 C294.22,452.42 315.8,458.72 330.93,463.14 \" fill=\"none\" id=\"E9&lt;-E10\" style=\"stroke: #383838; stroke-width: 1.0;\"/><polygon fill=\"#FFFFFF\" points=\"261.15,442.77,265.7895,448.2904,272.6697,446.131,268.0302,440.6106,261.15,442.77\" style=\"stroke: #383838; stroke-width: 1.0;\"/><text fill=\"#000000\" font-family=\"sans-serif\" font-size=\"13\" lengthAdjust=\"spacingAndGlyphs\" textLength=\"8\" x=\"314.9389\" y=\"475.7608\">1</text></a><!--MD5=[0f36bececdf0dff6e600d6f64214b0f1]\n",
       "link E10 to E2--><a href=\"psysml:8c7a6e5c-2c0e-473c-a2c4-4062964bb416\" target=\"_top\" title=\"psysml:8c7a6e5c-2c0e-473c-a2c4-4062964bb416\" xlink:actuate=\"onRequest\" xlink:href=\"psysml:8c7a6e5c-2c0e-473c-a2c4-4062964bb416\" xlink:show=\"new\" xlink:title=\"psysml:8c7a6e5c-2c0e-473c-a2c4-4062964bb416\" xlink:type=\"simple\"><path d=\"M373.03,454.89 C385.76,445.92 402.84,433.9 419,422.52 \" fill=\"none\" id=\"E10-&gt;E2\" style=\"stroke: #383838; stroke-width: 1.0;\"/><polygon fill=\"#FFFFFF\" points=\"435.6,410.82,424.0927,427.4808,416.034,416.0327,435.6,410.82\" style=\"stroke: #383838; stroke-width: 1.0;\"/><ellipse cx=\"418.2804\" cy=\"429.1263\" fill=\"#383838\" rx=\"2\" ry=\"2\" style=\"stroke: #383838; stroke-width: 1.0;\"/><ellipse cx=\"412.5242\" cy=\"420.9491\" fill=\"#383838\" rx=\"2\" ry=\"2\" style=\"stroke: #383838; stroke-width: 1.0;\"/></a><!--MD5=[1fc04a95fd77ad5ce46c1a3027516051]\n",
       "reverse link E9 to E11--><a href=\"psysml:05b52cb0-1bec-4ecb-a4ba-b6e0a5fd36fa\" target=\"_top\" title=\"psysml:05b52cb0-1bec-4ecb-a4ba-b6e0a5fd36fa\" xlink:actuate=\"onRequest\" xlink:href=\"psysml:05b52cb0-1bec-4ecb-a4ba-b6e0a5fd36fa\" xlink:show=\"new\" xlink:title=\"psysml:05b52cb0-1bec-4ecb-a4ba-b6e0a5fd36fa\" xlink:type=\"simple\"><path d=\"M273.79,411.11 C292.83,405.41 312.78,399.44 327.63,394.99 \" fill=\"none\" id=\"E9&lt;-E11\" style=\"stroke: #383838; stroke-width: 1.0;\"/><polygon fill=\"#FFFFFF\" points=\"261.15,414.89,268.045,417.0016,272.6461,411.4491,265.7511,409.3375,261.15,414.89\" style=\"stroke: #383838; stroke-width: 1.0;\"/><text fill=\"#000000\" font-family=\"sans-serif\" font-size=\"13\" lengthAdjust=\"spacingAndGlyphs\" textLength=\"8\" x=\"312.0056\" y=\"410.9773\">1</text></a><!--MD5=[062ed86c389d1a88f61c6380d0491e17]\n",
       "reverse link E12 to E13--><a href=\"psysml:2ea9f126-2045-475e-98b2-0bebbeaf39ba\" target=\"_top\" title=\"psysml:2ea9f126-2045-475e-98b2-0bebbeaf39ba\" xlink:actuate=\"onRequest\" xlink:href=\"psysml:2ea9f126-2045-475e-98b2-0bebbeaf39ba\" xlink:show=\"new\" xlink:title=\"psysml:2ea9f126-2045-475e-98b2-0bebbeaf39ba\" xlink:type=\"simple\"><path d=\"M111.1,569 C138.05,569 170.97,569 191.72,569 \" fill=\"none\" id=\"E12&lt;-E13\" style=\"stroke: #383838; stroke-width: 1.0;\"/><polygon fill=\"#383838\" points=\"98.04,569,104.04,573,110.04,569,104.04,565,98.04,569\" style=\"stroke: #383838; stroke-width: 1.0;\"/><text fill=\"#000000\" font-family=\"sans-serif\" font-size=\"13\" lengthAdjust=\"spacingAndGlyphs\" textLength=\"8\" x=\"175.978\" y=\"583.3937\">1</text></a><!--MD5=[01db00f33b28669d6d9febea71002831]\n",
       "reverse link E13 to E14--><a href=\"psysml:56644651-1cff-4e4b-add6-5aaf4cbf3323\" target=\"_top\" title=\"psysml:56644651-1cff-4e4b-add6-5aaf4cbf3323\" xlink:actuate=\"onRequest\" xlink:href=\"psysml:56644651-1cff-4e4b-add6-5aaf4cbf3323\" xlink:show=\"new\" xlink:title=\"psysml:56644651-1cff-4e4b-add6-5aaf4cbf3323\" xlink:type=\"simple\"><path d=\"M247.23,564.39 C273.29,560.78 308.71,555.86 330.7,552.82 \" fill=\"none\" id=\"E13&lt;-E14\" style=\"stroke: #383838; stroke-width: 1.0;\"/><polygon fill=\"#FFFFFF\" points=\"234.21,566.2,240.7023,569.3385,246.0964,564.5528,239.6041,561.4143,234.21,566.2\" style=\"stroke: #383838; stroke-width: 1.0;\"/><text fill=\"#000000\" font-family=\"sans-serif\" font-size=\"13\" lengthAdjust=\"spacingAndGlyphs\" textLength=\"8\" x=\"314.9519\" y=\"568.0773\">1</text></a><!--MD5=[e5566ac99d7714697a7fbc17f6b550fe]\n",
       "link E14 to E2--><a href=\"psysml:004f1bd4-f46a-4fc3-b446-5abbd305cc50\" target=\"_top\" title=\"psysml:004f1bd4-f46a-4fc3-b446-5abbd305cc50\" xlink:actuate=\"onRequest\" xlink:href=\"psysml:004f1bd4-f46a-4fc3-b446-5abbd305cc50\" xlink:show=\"new\" xlink:title=\"psysml:004f1bd4-f46a-4fc3-b446-5abbd305cc50\" xlink:type=\"simple\"><path d=\"M369.48,526.79 C387.84,500.93 417.84,458.66 439.92,427.55 \" fill=\"none\" id=\"E14-&gt;E2\" style=\"stroke: #383838; stroke-width: 1.0;\"/><polygon fill=\"#FFFFFF\" points=\"451.55,411.17,446.248,430.712,434.8369,422.6012,451.55,411.17\" style=\"stroke: #383838; stroke-width: 1.0;\"/><ellipse cx=\"441.3156\" cy=\"434.1993\" fill=\"#383838\" rx=\"2\" ry=\"2\" style=\"stroke: #383838; stroke-width: 1.0;\"/><ellipse cx=\"433.1648\" cy=\"428.4058\" fill=\"#383838\" rx=\"2\" ry=\"2\" style=\"stroke: #383838; stroke-width: 1.0;\"/></a><!--MD5=[e9a5e828c71fd2209a11a152f562d491]\n",
       "reverse link E13 to E15--><a href=\"psysml:439c4bcd-5bf6-4395-bbdb-0df2330c2504\" target=\"_top\" title=\"psysml:439c4bcd-5bf6-4395-bbdb-0df2330c2504\" xlink:actuate=\"onRequest\" xlink:href=\"psysml:439c4bcd-5bf6-4395-bbdb-0df2330c2504\" xlink:show=\"new\" xlink:title=\"psysml:439c4bcd-5bf6-4395-bbdb-0df2330c2504\" xlink:type=\"simple\"><path d=\"M246.98,580.08 C279.89,589.6 331.79,600.41 376,591 C400.63,585.76 426.66,573.44 444.72,563.67 \" fill=\"none\" id=\"E13&lt;-E15\" style=\"stroke: #383838; stroke-width: 1.0;\"/><polygon fill=\"#FFFFFF\" points=\"234.12,576.15,238.6883,581.7295,245.5956,579.6586,241.0273,574.0791,234.12,576.15\" style=\"stroke: #383838; stroke-width: 1.0;\"/><text fill=\"#000000\" font-family=\"sans-serif\" font-size=\"13\" lengthAdjust=\"spacingAndGlyphs\" textLength=\"8\" x=\"429.1198\" y=\"581.4526\">1</text></a><!--MD5=[3afbdc645381407e1bc99677323a2513]\n",
       "link E14 to E15--><a href=\"psysml:356465e0-8362-42f7-8017-4c1d57dccd42\" target=\"_top\" title=\"psysml:356465e0-8362-42f7-8017-4c1d57dccd42\" xlink:actuate=\"onRequest\" xlink:href=\"psysml:356465e0-8362-42f7-8017-4c1d57dccd42\" xlink:show=\"new\" xlink:title=\"psysml:356465e0-8362-42f7-8017-4c1d57dccd42\" xlink:type=\"simple\"><path d=\"M373.03,559.95 C392.98,563.49 423.59,563.67 444.63,560.5 \" fill=\"none\" id=\"E14-E15\" style=\"stroke: #383838; stroke-width: 3.0;\"/></a><!--MD5=[3afbdc645381407e1bc99677323a2513]\n",
       "link E14 to E15--><a href=\"psysml:be002053-3eab-4239-b4ec-f62d8ddd6fa6\" target=\"_top\" title=\"psysml:be002053-3eab-4239-b4ec-f62d8ddd6fa6\" xlink:actuate=\"onRequest\" xlink:href=\"psysml:be002053-3eab-4239-b4ec-f62d8ddd6fa6\" xlink:show=\"new\" xlink:title=\"psysml:be002053-3eab-4239-b4ec-f62d8ddd6fa6\" xlink:type=\"simple\"><path d=\"M373.03,539.47 C392.98,535.71 423.59,535.52 444.63,538.89 \" fill=\"none\" id=\"E14-E15-1\" style=\"stroke: #383838; stroke-width: 3.0;\"/></a><!--MD5=[1792cd7fb73d092c459c99529baea9e6]\n",
       "@startuml\r\n",
       "left to right direction\r\n",
       "skinparam monochrome true\r\n",
       "skinparam classbackgroundcolor white\r\n",
       "skinparam shadowing false\r\n",
       "skinparam wrapWidth 300\r\n",
       "hide circle\r\n",
       "\r\n",
       "package \"ConjugationTest\" as E1  [[psysml:811d2e93-771a-4206-9534-119b2782ed8b ]]  {\r\n",
       "comp def \"P\" as E2  <<(T,blue) port def>> [[psysml:a118eece-ff6c-41b4-a8ec-63007fd81e06 ]] {\r\n",
       "}\r\n",
       "comp def \"B\" as E3  <<(T,blue) part def>> [[psysml:45f3428f-90c5-481c-8b5b-6d42a9c9ecb4 ]] {\r\n",
       "}\r\n",
       "comp usage \"p1: P\" as E4  <<(T,blue) port>> [[psysml:f10162e3-9121-4423-8c61-28bf75aadc9a ]] {\r\n",
       "}\r\n",
       "comp usage \"p2: ~P\" as E5  <<(T,blue) port>> [[psysml:f793b08e-b132-4869-8396-6344384571c9 ]] {\r\n",
       "}\r\n",
       "comp def \"A\" as E6  <<(T,blue) connection def>> [[psysml:1e44cf6a-fe6c-483a-98ee-7c5816e24c4f ]] {\r\n",
       "}\r\n",
       "comp usage \"p1: P\" as E7  <<(T,blue) port>> [[psysml:592da980-ebcc-4bfb-b89f-9a898fd7b408 ]] {\r\n",
       "}\r\n",
       "comp usage \"p2: ~P\" as E8  <<(T,blue) port>> [[psysml:4730362b-6892-4b61-8b08-4b1eb3a58a19 ]] {\r\n",
       "}\r\n",
       "comp def \"I\" as E9  <<(T,blue) interface def>> [[psysml:c589f335-4cab-4324-b073-03ca89b55f7d ]] {\r\n",
       "}\r\n",
       "comp usage \"p1: P\" as E10  <<(T,blue) port>> [[psysml:0a18d135-3a15-4f1e-a48b-3983b85e55aa ]] {\r\n",
       "}\r\n",
       "comp usage \"p2: ~P\" as E11  <<(T,blue) port>> [[psysml:f0ebefc1-580e-4b11-b9cf-e3cb40b874a3 ]] {\r\n",
       "}\r\n",
       "comp def \"B1\" as E12  <<(T,blue) part def>> [[psysml:99d6c811-1239-4557-8bf5-512a2d9b51f5 ]] {\r\n",
       "}\r\n",
       "comp usage \"p\" as E13  <<(T,blue) part>> [[psysml:c80e6282-4b88-42a6-beea-d83b68d36327 ]] {\r\n",
       "}\r\n",
       "comp usage \"p1: P\" as E14  <<(T,blue) port>> [[psysml:36fdd18b-cc96-4106-b803-027f179d9fab ]] {\r\n",
       "}\r\n",
       "comp usage \"p2: ~P\" as E15  <<(T,blue) port>> [[psysml:a04d4130-2616-430e-82e5-4df6c3f344d5 ]] {\r\n",
       "}\r\n",
       "}\r\n",
       "E3 o- - \"1\"E4 [[psysml:478537c4-9aea-45e7-93bf-51b2f99f76d0 ]] \r\n",
       "E4 - -:|> E2 [[psysml:9a27f54b-62e8-4ed3-8ffb-179b9354440f ]] \r\n",
       "E3 o- - \"1\"E5 [[psysml:0c237cb0-b529-413c-8aaf-d2f6ce3a1092 ]] \r\n",
       "E6 o- - \"1\"E7 [[psysml:b94a6cc2-6585-4221-b4bd-c6e1360a7593 ]] \r\n",
       "E7 - -:|> E2 [[psysml:6c7ecdb4-3704-4141-b5eb-90be274661d4 ]] \r\n",
       "E6 o- - \"1\"E8 [[psysml:c893fa2e-0043-44e8-be45-2077001790d0 ]] \r\n",
       "E9 o- - \"1\"E10 [[psysml:3723b58c-a4dd-4ef3-9a79-2a659572d83c ]] \r\n",
       "E10 - -:|> E2 [[psysml:8c7a6e5c-2c0e-473c-a2c4-4062964bb416 ]] \r\n",
       "E9 o- - \"1\"E11 [[psysml:05b52cb0-1bec-4ecb-a4ba-b6e0a5fd36fa ]] \r\n",
       "E12 *- - \"1\"E13 [[psysml:2ea9f126-2045-475e-98b2-0bebbeaf39ba ]] \r\n",
       "E13 o- - \"1\"E14 [[psysml:56644651-1cff-4e4b-add6-5aaf4cbf3323 ]] \r\n",
       "E14 - -:|> E2 [[psysml:004f1bd4-f46a-4fc3-b446-5abbd305cc50 ]] \r\n",
       "E13 o- - \"1\"E15 [[psysml:439c4bcd-5bf6-4395-bbdb-0df2330c2504 ]] \r\n",
       "E14 -[thickness=3]- E15 [[psysml:356465e0-8362-42f7-8017-4c1d57dccd42 ]] \r\n",
       "E14 -[thickness=3]- E15 [[psysml:be002053-3eab-4239-b4ec-f62d8ddd6fa6 ]] \r\n",
       "@enduml\r\n",
       "\n",
       "PlantUML version 1.2020.13(Sat Jun 13 12:26:38 UTC 2020)\n",
       "(EPL source distribution)\n",
       "Java Runtime: OpenJDK Runtime Environment\n",
       "JVM: OpenJDK 64-Bit Server VM\n",
       "Default Encoding: UTF-8\n",
       "Language: en\n",
       "Country: null\n",
       "--></g></svg>"
      ]
     },
     "execution_count": 22,
     "metadata": {},
     "output_type": "execute_result"
    }
   ],
   "source": [
    "%viz --style=\"LR\" --view=\"MIXED\" \"ConjugationTest\""
   ]
  },
  {
   "cell_type": "code",
   "execution_count": 23,
   "id": "ff8613ce",
   "metadata": {
    "execution": {
     "iopub.execute_input": "2021-10-03T08:28:06.546524Z",
     "iopub.status.busy": "2021-10-03T08:28:06.546123Z",
     "iopub.status.idle": "2021-10-03T08:28:06.603405Z",
     "shell.execute_reply": "2021-10-03T08:28:06.603041Z"
    }
   },
   "outputs": [
    {
     "data": {
      "image/svg+xml": [
       "<?xml version=\"1.0\" encoding=\"UTF-8\" standalone=\"no\"?><svg xmlns=\"http://www.w3.org/2000/svg\" xmlns:xlink=\"http://www.w3.org/1999/xlink\" contentScriptType=\"application/ecmascript\" contentStyleType=\"text/css\" height=\"433px\" preserveAspectRatio=\"none\" style=\"width:629px;height:433px;\" version=\"1.1\" viewBox=\"0 0 629 433\" width=\"629px\" zoomAndPan=\"magnify\"><defs><filter height=\"300%\" id=\"fcipsaxuo4sht\" width=\"300%\" x=\"-1\" y=\"-1\"><feGaussianBlur result=\"blurOut\" stdDeviation=\"2.0\"/><feColorMatrix in=\"blurOut\" result=\"blurOut2\" type=\"matrix\" values=\"0 0 0 0 0 0 0 0 0 0 0 0 0 0 0 0 0 0 .4 0\"/><feOffset dx=\"4.0\" dy=\"4.0\" in=\"blurOut2\" result=\"blurOut3\"/><feBlend in=\"SourceGraphic\" in2=\"blurOut3\" mode=\"normal\"/></filter></defs><g><!--MD5=[fbc87193dbaf4d95561dea2c320d4a47]\n",
       "cluster E1--><a href=\"psysml:811d2e93-771a-4206-9534-119b2782ed8b\" target=\"_top\" title=\"psysml:811d2e93-771a-4206-9534-119b2782ed8b\" xlink:actuate=\"onRequest\" xlink:href=\"psysml:811d2e93-771a-4206-9534-119b2782ed8b\" xlink:show=\"new\" xlink:title=\"psysml:811d2e93-771a-4206-9534-119b2782ed8b\" xlink:type=\"simple\"><polygon fill=\"#FFFFFF\" filter=\"url(#fcipsaxuo4sht)\" points=\"16,6,136,6,143,28.2969,607,28.2969,607,421,16,421,16,6\" style=\"stroke: #000000; stroke-width: 1.5;\"/><line style=\"stroke: #000000; stroke-width: 1.5;\" x1=\"16\" x2=\"143\" y1=\"28.2969\" y2=\"28.2969\"/><text fill=\"#000000\" font-family=\"sans-serif\" font-size=\"14\" font-weight=\"bold\" lengthAdjust=\"spacingAndGlyphs\" textLength=\"114\" x=\"20\" y=\"20.9951\">ConjugationTest</text></a><!--MD5=[b4997ac47864f28c2f74865a473b2911]\n",
       "class E2--><a href=\"psysml:a118eece-ff6c-41b4-a8ec-63007fd81e06\" target=\"_top\" title=\"psysml:a118eece-ff6c-41b4-a8ec-63007fd81e06\" xlink:actuate=\"onRequest\" xlink:href=\"psysml:a118eece-ff6c-41b4-a8ec-63007fd81e06\" xlink:show=\"new\" xlink:title=\"psysml:a118eece-ff6c-41b4-a8ec-63007fd81e06\" xlink:type=\"simple\"><rect fill=\"#FEFECE\" filter=\"url(#fcipsaxuo4sht)\" height=\"45.9375\" id=\"E2\" style=\"stroke: #A80036; stroke-width: 1.5;\" width=\"66\" x=\"221\" y=\"359\"/><text fill=\"#000000\" font-family=\"sans-serif\" font-size=\"12\" font-style=\"italic\" lengthAdjust=\"spacingAndGlyphs\" textLength=\"64\" x=\"222\" y=\"375.1387\">«port def»</text><text fill=\"#000000\" font-family=\"sans-serif\" font-size=\"12\" lengthAdjust=\"spacingAndGlyphs\" textLength=\"8\" x=\"250\" y=\"389.1074\">P</text><line style=\"stroke: #A80036; stroke-width: 1.5;\" x1=\"222\" x2=\"286\" y1=\"396.9375\" y2=\"396.9375\"/></a><!--MD5=[09b614a08d8cba4a07c9adeb5e0fee81]\n",
       "class E3--><a href=\"psysml:45f3428f-90c5-481c-8b5b-6d42a9c9ecb4\" target=\"_top\" title=\"psysml:45f3428f-90c5-481c-8b5b-6d42a9c9ecb4\" xlink:actuate=\"onRequest\" xlink:href=\"psysml:45f3428f-90c5-481c-8b5b-6d42a9c9ecb4\" xlink:show=\"new\" xlink:title=\"psysml:45f3428f-90c5-481c-8b5b-6d42a9c9ecb4\" xlink:type=\"simple\"><rect fill=\"#FEFECE\" filter=\"url(#fcipsaxuo4sht)\" height=\"45.9375\" id=\"E3\" style=\"stroke: #A80036; stroke-width: 1.5;\" width=\"66\" x=\"489\" y=\"147\"/><text fill=\"#000000\" font-family=\"sans-serif\" font-size=\"12\" font-style=\"italic\" lengthAdjust=\"spacingAndGlyphs\" textLength=\"64\" x=\"490\" y=\"163.1387\">«part def»</text><text fill=\"#000000\" font-family=\"sans-serif\" font-size=\"12\" lengthAdjust=\"spacingAndGlyphs\" textLength=\"8\" x=\"518\" y=\"177.1074\">B</text><line style=\"stroke: #A80036; stroke-width: 1.5;\" x1=\"490\" x2=\"554\" y1=\"184.9375\" y2=\"184.9375\"/></a><!--MD5=[ebbe1d658d1005bcc118a6aa81145e00]\n",
       "class E4--><a href=\"psysml:f10162e3-9121-4423-8c61-28bf75aadc9a\" target=\"_top\" title=\"psysml:f10162e3-9121-4423-8c61-28bf75aadc9a\" xlink:actuate=\"onRequest\" xlink:href=\"psysml:f10162e3-9121-4423-8c61-28bf75aadc9a\" xlink:show=\"new\" xlink:title=\"psysml:f10162e3-9121-4423-8c61-28bf75aadc9a\" xlink:type=\"simple\"><rect fill=\"#FEFECE\" filter=\"url(#fcipsaxuo4sht)\" height=\"45.9375\" id=\"E4\" rx=\"10\" ry=\"10\" style=\"stroke: #A80036; stroke-width: 1.5;\" width=\"42\" x=\"466\" y=\"253\"/><text fill=\"#000000\" font-family=\"sans-serif\" font-size=\"12\" font-style=\"italic\" lengthAdjust=\"spacingAndGlyphs\" textLength=\"40\" x=\"467\" y=\"269.1387\">«port»</text><text fill=\"#000000\" font-family=\"sans-serif\" font-size=\"12\" lengthAdjust=\"spacingAndGlyphs\" textLength=\"32\" x=\"471\" y=\"283.1074\">p1: P</text><line style=\"stroke: #A80036; stroke-width: 1.5;\" x1=\"467\" x2=\"507\" y1=\"290.9375\" y2=\"290.9375\"/></a><!--MD5=[270fce915f116d4de14055a7c1d9a0f3]\n",
       "class E5--><a href=\"psysml:f793b08e-b132-4869-8396-6344384571c9\" target=\"_top\" title=\"psysml:f793b08e-b132-4869-8396-6344384571c9\" xlink:actuate=\"onRequest\" xlink:href=\"psysml:f793b08e-b132-4869-8396-6344384571c9\" xlink:show=\"new\" xlink:title=\"psysml:f793b08e-b132-4869-8396-6344384571c9\" xlink:type=\"simple\"><rect fill=\"#FEFECE\" filter=\"url(#fcipsaxuo4sht)\" height=\"45.9375\" id=\"E5\" rx=\"10\" ry=\"10\" style=\"stroke: #A80036; stroke-width: 1.5;\" width=\"48\" x=\"543\" y=\"253\"/><text fill=\"#000000\" font-family=\"sans-serif\" font-size=\"12\" font-style=\"italic\" lengthAdjust=\"spacingAndGlyphs\" textLength=\"40\" x=\"547\" y=\"269.1387\">«port»</text><text fill=\"#000000\" font-family=\"sans-serif\" font-size=\"12\" lengthAdjust=\"spacingAndGlyphs\" textLength=\"42\" x=\"546\" y=\"283.1074\">p2: ~P</text><line style=\"stroke: #A80036; stroke-width: 1.5;\" x1=\"544\" x2=\"590\" y1=\"290.9375\" y2=\"290.9375\"/></a><!--MD5=[60a26617385b1d2d0262a64233df1f8d]\n",
       "class E6--><a href=\"psysml:1e44cf6a-fe6c-483a-98ee-7c5816e24c4f\" target=\"_top\" title=\"psysml:1e44cf6a-fe6c-483a-98ee-7c5816e24c4f\" xlink:actuate=\"onRequest\" xlink:href=\"psysml:1e44cf6a-fe6c-483a-98ee-7c5816e24c4f\" xlink:show=\"new\" xlink:title=\"psysml:1e44cf6a-fe6c-483a-98ee-7c5816e24c4f\" xlink:type=\"simple\"><rect fill=\"#FEFECE\" filter=\"url(#fcipsaxuo4sht)\" height=\"45.9375\" id=\"E6\" style=\"stroke: #A80036; stroke-width: 1.5;\" width=\"110\" x=\"282\" y=\"147\"/><text fill=\"#000000\" font-family=\"sans-serif\" font-size=\"12\" font-style=\"italic\" lengthAdjust=\"spacingAndGlyphs\" textLength=\"108\" x=\"283\" y=\"163.1387\">«connection def»</text><text fill=\"#000000\" font-family=\"sans-serif\" font-size=\"12\" lengthAdjust=\"spacingAndGlyphs\" textLength=\"8\" x=\"333\" y=\"177.1074\">A</text><line style=\"stroke: #A80036; stroke-width: 1.5;\" x1=\"283\" x2=\"391\" y1=\"184.9375\" y2=\"184.9375\"/></a><!--MD5=[2156ba9850f5573cc1fc38a6a4b2f02b]\n",
       "class E7--><a href=\"psysml:592da980-ebcc-4bfb-b89f-9a898fd7b408\" target=\"_top\" title=\"psysml:592da980-ebcc-4bfb-b89f-9a898fd7b408\" xlink:actuate=\"onRequest\" xlink:href=\"psysml:592da980-ebcc-4bfb-b89f-9a898fd7b408\" xlink:show=\"new\" xlink:title=\"psysml:592da980-ebcc-4bfb-b89f-9a898fd7b408\" xlink:type=\"simple\"><rect fill=\"#FEFECE\" filter=\"url(#fcipsaxuo4sht)\" height=\"45.9375\" id=\"E7\" rx=\"10\" ry=\"10\" style=\"stroke: #A80036; stroke-width: 1.5;\" width=\"42\" x=\"306\" y=\"253\"/><text fill=\"#000000\" font-family=\"sans-serif\" font-size=\"12\" font-style=\"italic\" lengthAdjust=\"spacingAndGlyphs\" textLength=\"40\" x=\"307\" y=\"269.1387\">«port»</text><text fill=\"#000000\" font-family=\"sans-serif\" font-size=\"12\" lengthAdjust=\"spacingAndGlyphs\" textLength=\"32\" x=\"311\" y=\"283.1074\">p1: P</text><line style=\"stroke: #A80036; stroke-width: 1.5;\" x1=\"307\" x2=\"347\" y1=\"290.9375\" y2=\"290.9375\"/></a><!--MD5=[b9389687b975829384b498ac4b7476b2]\n",
       "class E8--><a href=\"psysml:4730362b-6892-4b61-8b08-4b1eb3a58a19\" target=\"_top\" title=\"psysml:4730362b-6892-4b61-8b08-4b1eb3a58a19\" xlink:actuate=\"onRequest\" xlink:href=\"psysml:4730362b-6892-4b61-8b08-4b1eb3a58a19\" xlink:show=\"new\" xlink:title=\"psysml:4730362b-6892-4b61-8b08-4b1eb3a58a19\" xlink:type=\"simple\"><rect fill=\"#FEFECE\" filter=\"url(#fcipsaxuo4sht)\" height=\"45.9375\" id=\"E8\" rx=\"10\" ry=\"10\" style=\"stroke: #A80036; stroke-width: 1.5;\" width=\"48\" x=\"383\" y=\"253\"/><text fill=\"#000000\" font-family=\"sans-serif\" font-size=\"12\" font-style=\"italic\" lengthAdjust=\"spacingAndGlyphs\" textLength=\"40\" x=\"387\" y=\"269.1387\">«port»</text><text fill=\"#000000\" font-family=\"sans-serif\" font-size=\"12\" lengthAdjust=\"spacingAndGlyphs\" textLength=\"42\" x=\"386\" y=\"283.1074\">p2: ~P</text><line style=\"stroke: #A80036; stroke-width: 1.5;\" x1=\"384\" x2=\"430\" y1=\"290.9375\" y2=\"290.9375\"/></a><!--MD5=[fd4143e9d270a159db93a4ea2a975926]\n",
       "class E9--><a href=\"psysml:c589f335-4cab-4324-b073-03ca89b55f7d\" target=\"_top\" title=\"psysml:c589f335-4cab-4324-b073-03ca89b55f7d\" xlink:actuate=\"onRequest\" xlink:href=\"psysml:c589f335-4cab-4324-b073-03ca89b55f7d\" xlink:show=\"new\" xlink:title=\"psysml:c589f335-4cab-4324-b073-03ca89b55f7d\" xlink:type=\"simple\"><rect fill=\"#FEFECE\" filter=\"url(#fcipsaxuo4sht)\" height=\"45.9375\" id=\"E9\" style=\"stroke: #A80036; stroke-width: 1.5;\" width=\"96\" x=\"146\" y=\"147\"/><text fill=\"#000000\" font-family=\"sans-serif\" font-size=\"12\" font-style=\"italic\" lengthAdjust=\"spacingAndGlyphs\" textLength=\"94\" x=\"147\" y=\"163.1387\">«interface def»</text><text fill=\"#000000\" font-family=\"sans-serif\" font-size=\"12\" lengthAdjust=\"spacingAndGlyphs\" textLength=\"3\" x=\"192.5\" y=\"177.1074\">I</text><line style=\"stroke: #A80036; stroke-width: 1.5;\" x1=\"147\" x2=\"241\" y1=\"184.9375\" y2=\"184.9375\"/></a><!--MD5=[96f4274e9e20536e775497830990834d]\n",
       "class E10--><a href=\"psysml:0a18d135-3a15-4f1e-a48b-3983b85e55aa\" target=\"_top\" title=\"psysml:0a18d135-3a15-4f1e-a48b-3983b85e55aa\" xlink:actuate=\"onRequest\" xlink:href=\"psysml:0a18d135-3a15-4f1e-a48b-3983b85e55aa\" xlink:show=\"new\" xlink:title=\"psysml:0a18d135-3a15-4f1e-a48b-3983b85e55aa\" xlink:type=\"simple\"><rect fill=\"#FEFECE\" filter=\"url(#fcipsaxuo4sht)\" height=\"45.9375\" id=\"E10\" rx=\"10\" ry=\"10\" style=\"stroke: #A80036; stroke-width: 1.5;\" width=\"42\" x=\"146\" y=\"253\"/><text fill=\"#000000\" font-family=\"sans-serif\" font-size=\"12\" font-style=\"italic\" lengthAdjust=\"spacingAndGlyphs\" textLength=\"40\" x=\"147\" y=\"269.1387\">«port»</text><text fill=\"#000000\" font-family=\"sans-serif\" font-size=\"12\" lengthAdjust=\"spacingAndGlyphs\" textLength=\"32\" x=\"151\" y=\"283.1074\">p1: P</text><line style=\"stroke: #A80036; stroke-width: 1.5;\" x1=\"147\" x2=\"187\" y1=\"290.9375\" y2=\"290.9375\"/></a><!--MD5=[1dd1bfd58a279cf63c5f349dbc8fc6a1]\n",
       "class E11--><a href=\"psysml:f0ebefc1-580e-4b11-b9cf-e3cb40b874a3\" target=\"_top\" title=\"psysml:f0ebefc1-580e-4b11-b9cf-e3cb40b874a3\" xlink:actuate=\"onRequest\" xlink:href=\"psysml:f0ebefc1-580e-4b11-b9cf-e3cb40b874a3\" xlink:show=\"new\" xlink:title=\"psysml:f0ebefc1-580e-4b11-b9cf-e3cb40b874a3\" xlink:type=\"simple\"><rect fill=\"#FEFECE\" filter=\"url(#fcipsaxuo4sht)\" height=\"45.9375\" id=\"E11\" rx=\"10\" ry=\"10\" style=\"stroke: #A80036; stroke-width: 1.5;\" width=\"48\" x=\"223\" y=\"253\"/><text fill=\"#000000\" font-family=\"sans-serif\" font-size=\"12\" font-style=\"italic\" lengthAdjust=\"spacingAndGlyphs\" textLength=\"40\" x=\"227\" y=\"269.1387\">«port»</text><text fill=\"#000000\" font-family=\"sans-serif\" font-size=\"12\" lengthAdjust=\"spacingAndGlyphs\" textLength=\"42\" x=\"226\" y=\"283.1074\">p2: ~P</text><line style=\"stroke: #A80036; stroke-width: 1.5;\" x1=\"224\" x2=\"270\" y1=\"290.9375\" y2=\"290.9375\"/></a><!--MD5=[49a0ec8f00dab7302a31f22d0f0fe584]\n",
       "class E12--><a href=\"psysml:99d6c811-1239-4557-8bf5-512a2d9b51f5\" target=\"_top\" title=\"psysml:99d6c811-1239-4557-8bf5-512a2d9b51f5\" xlink:actuate=\"onRequest\" xlink:href=\"psysml:99d6c811-1239-4557-8bf5-512a2d9b51f5\" xlink:show=\"new\" xlink:title=\"psysml:99d6c811-1239-4557-8bf5-512a2d9b51f5\" xlink:type=\"simple\"><rect fill=\"#FEFECE\" filter=\"url(#fcipsaxuo4sht)\" height=\"45.9375\" id=\"E12\" style=\"stroke: #A80036; stroke-width: 1.5;\" width=\"66\" x=\"47\" y=\"41\"/><text fill=\"#000000\" font-family=\"sans-serif\" font-size=\"12\" font-style=\"italic\" lengthAdjust=\"spacingAndGlyphs\" textLength=\"64\" x=\"48\" y=\"57.1387\">«part def»</text><text fill=\"#000000\" font-family=\"sans-serif\" font-size=\"12\" lengthAdjust=\"spacingAndGlyphs\" textLength=\"16\" x=\"72\" y=\"71.1074\">B1</text><line style=\"stroke: #A80036; stroke-width: 1.5;\" x1=\"48\" x2=\"112\" y1=\"78.9375\" y2=\"78.9375\"/></a><!--MD5=[ee3c913d1a06f366521f9ef512b67efe]\n",
       "class E13--><a href=\"psysml:c80e6282-4b88-42a6-beea-d83b68d36327\" target=\"_top\" title=\"psysml:c80e6282-4b88-42a6-beea-d83b68d36327\" xlink:actuate=\"onRequest\" xlink:href=\"psysml:c80e6282-4b88-42a6-beea-d83b68d36327\" xlink:show=\"new\" xlink:title=\"psysml:c80e6282-4b88-42a6-beea-d83b68d36327\" xlink:type=\"simple\"><rect fill=\"#FEFECE\" filter=\"url(#fcipsaxuo4sht)\" height=\"45.9375\" id=\"E13\" rx=\"10\" ry=\"10\" style=\"stroke: #A80036; stroke-width: 1.5;\" width=\"42\" x=\"59\" y=\"147\"/><text fill=\"#000000\" font-family=\"sans-serif\" font-size=\"12\" font-style=\"italic\" lengthAdjust=\"spacingAndGlyphs\" textLength=\"40\" x=\"60\" y=\"163.1387\">«part»</text><text fill=\"#000000\" font-family=\"sans-serif\" font-size=\"12\" lengthAdjust=\"spacingAndGlyphs\" textLength=\"8\" x=\"76\" y=\"177.1074\">p</text><line style=\"stroke: #A80036; stroke-width: 1.5;\" x1=\"60\" x2=\"100\" y1=\"184.9375\" y2=\"184.9375\"/></a><!--MD5=[bee11217b2f71d958a27249dc326068c]\n",
       "class E14--><a href=\"psysml:36fdd18b-cc96-4106-b803-027f179d9fab\" target=\"_top\" title=\"psysml:36fdd18b-cc96-4106-b803-027f179d9fab\" xlink:actuate=\"onRequest\" xlink:href=\"psysml:36fdd18b-cc96-4106-b803-027f179d9fab\" xlink:show=\"new\" xlink:title=\"psysml:36fdd18b-cc96-4106-b803-027f179d9fab\" xlink:type=\"simple\"><rect fill=\"#FEFECE\" filter=\"url(#fcipsaxuo4sht)\" height=\"45.9375\" id=\"E14\" rx=\"10\" ry=\"10\" style=\"stroke: #A80036; stroke-width: 1.5;\" width=\"42\" x=\"69\" y=\"253\"/><text fill=\"#000000\" font-family=\"sans-serif\" font-size=\"12\" font-style=\"italic\" lengthAdjust=\"spacingAndGlyphs\" textLength=\"40\" x=\"70\" y=\"269.1387\">«port»</text><text fill=\"#000000\" font-family=\"sans-serif\" font-size=\"12\" lengthAdjust=\"spacingAndGlyphs\" textLength=\"32\" x=\"74\" y=\"283.1074\">p1: P</text><line style=\"stroke: #A80036; stroke-width: 1.5;\" x1=\"70\" x2=\"110\" y1=\"290.9375\" y2=\"290.9375\"/></a><!--MD5=[0c48fb7552dae8cbbef69381101a84c8]\n",
       "class E15--><a href=\"psysml:a04d4130-2616-430e-82e5-4df6c3f344d5\" target=\"_top\" title=\"psysml:a04d4130-2616-430e-82e5-4df6c3f344d5\" xlink:actuate=\"onRequest\" xlink:href=\"psysml:a04d4130-2616-430e-82e5-4df6c3f344d5\" xlink:show=\"new\" xlink:title=\"psysml:a04d4130-2616-430e-82e5-4df6c3f344d5\" xlink:type=\"simple\"><rect fill=\"#FEFECE\" filter=\"url(#fcipsaxuo4sht)\" height=\"45.9375\" id=\"E15\" rx=\"10\" ry=\"10\" style=\"stroke: #A80036; stroke-width: 1.5;\" width=\"48\" x=\"66\" y=\"359\"/><text fill=\"#000000\" font-family=\"sans-serif\" font-size=\"12\" font-style=\"italic\" lengthAdjust=\"spacingAndGlyphs\" textLength=\"40\" x=\"70\" y=\"375.1387\">«port»</text><text fill=\"#000000\" font-family=\"sans-serif\" font-size=\"12\" lengthAdjust=\"spacingAndGlyphs\" textLength=\"42\" x=\"69\" y=\"389.1074\">p2: ~P</text><line style=\"stroke: #A80036; stroke-width: 1.5;\" x1=\"67\" x2=\"113\" y1=\"396.9375\" y2=\"396.9375\"/></a><!--MD5=[4672eba38e49728da53d11aeb285b987]\n",
       "reverse link E3 to E4--><a href=\"psysml:478537c4-9aea-45e7-93bf-51b2f99f76d0\" target=\"_top\" title=\"psysml:478537c4-9aea-45e7-93bf-51b2f99f76d0\" xlink:actuate=\"onRequest\" xlink:href=\"psysml:478537c4-9aea-45e7-93bf-51b2f99f76d0\" xlink:show=\"new\" xlink:title=\"psysml:478537c4-9aea-45e7-93bf-51b2f99f76d0\" xlink:type=\"simple\"><path d=\"M510.39,205.49 C505.12,221.15 499.05,239.19 494.41,252.98 \" fill=\"none\" id=\"E3&lt;-E4\" style=\"stroke: #A80036; stroke-width: 1.0;\"/><polygon fill=\"#FFFFFF\" points=\"514.58,193.06,508.8756,197.4713,510.7536,204.4336,516.458,200.0223,514.58,193.06\" style=\"stroke: #A80036; stroke-width: 1.0;\"/><text fill=\"#000000\" font-family=\"sans-serif\" font-size=\"13\" lengthAdjust=\"spacingAndGlyphs\" textLength=\"8\" x=\"487.3264\" y=\"241.8709\">1</text></a><!--MD5=[185131fc0dcab0a4505a2ebe144e961b]\n",
       "link E4 to E2--><a href=\"psysml:9a27f54b-62e8-4ed3-8ffb-179b9354440f\" target=\"_top\" title=\"psysml:9a27f54b-62e8-4ed3-8ffb-179b9354440f\" xlink:actuate=\"onRequest\" xlink:href=\"psysml:9a27f54b-62e8-4ed3-8ffb-179b9354440f\" xlink:show=\"new\" xlink:title=\"psysml:9a27f54b-62e8-4ed3-8ffb-179b9354440f\" xlink:type=\"simple\"><path d=\"M465.96,289.82 C460.51,292.96 454.6,296.22 449,299 C401.46,322.64 345.42,345.73 305.65,361.35 \" fill=\"none\" id=\"E4-&gt;E2\" style=\"stroke: #A80036; stroke-width: 1.0;\"/><polygon fill=\"#FFFFFF\" points=\"287,368.6,302.1754,355.1945,307.2453,368.2443,287,368.6\" style=\"stroke: #A80036; stroke-width: 1.0;\"/><ellipse cx=\"308.2128\" cy=\"354.9946\" fill=\"#A80036\" rx=\"2\" ry=\"2\" style=\"stroke: #A80036; stroke-width: 1.0;\"/><ellipse cx=\"311.8342\" cy=\"364.3159\" fill=\"#A80036\" rx=\"2\" ry=\"2\" style=\"stroke: #A80036; stroke-width: 1.0;\"/></a><!--MD5=[191cde3d490a3f6d7bb551fe3ddca469]\n",
       "reverse link E3 to E5--><a href=\"psysml:0c237cb0-b529-413c-8aaf-d2f6ce3a1092\" target=\"_top\" title=\"psysml:0c237cb0-b529-413c-8aaf-d2f6ce3a1092\" xlink:actuate=\"onRequest\" xlink:href=\"psysml:0c237cb0-b529-413c-8aaf-d2f6ce3a1092\" xlink:show=\"new\" xlink:title=\"psysml:0c237cb0-b529-413c-8aaf-d2f6ce3a1092\" xlink:type=\"simple\"><path d=\"M536.72,205.03 C543.54,220.78 551.45,239.06 557.47,252.98 \" fill=\"none\" id=\"E3&lt;-E5\" style=\"stroke: #A80036; stroke-width: 1.0;\"/><polygon fill=\"#FFFFFF\" points=\"531.54,193.06,530.2495,200.1547,536.302,204.0747,537.5926,196.98,531.54,193.06\" style=\"stroke: #A80036; stroke-width: 1.0;\"/><text fill=\"#000000\" font-family=\"sans-serif\" font-size=\"13\" lengthAdjust=\"spacingAndGlyphs\" textLength=\"8\" x=\"545.8338\" y=\"241.8709\">1</text></a><!--MD5=[3f50a3473f1dfb74d3f76443e03635af]\n",
       "reverse link E6 to E7--><a href=\"psysml:b94a6cc2-6585-4221-b4bd-c6e1360a7593\" target=\"_top\" title=\"psysml:b94a6cc2-6585-4221-b4bd-c6e1360a7593\" xlink:actuate=\"onRequest\" xlink:href=\"psysml:b94a6cc2-6585-4221-b4bd-c6e1360a7593\" xlink:show=\"new\" xlink:title=\"psysml:b94a6cc2-6585-4221-b4bd-c6e1360a7593\" xlink:type=\"simple\"><path d=\"M333.59,206.44 C332.11,221.87 330.42,239.47 329.12,252.98 \" fill=\"none\" id=\"E6&lt;-E7\" style=\"stroke: #A80036; stroke-width: 1.0;\"/><polygon fill=\"#FFFFFF\" points=\"334.88,193.06,330.3242,198.6497,333.7317,205.0049,338.2875,199.4152,334.88,193.06\" style=\"stroke: #A80036; stroke-width: 1.0;\"/><text fill=\"#000000\" font-family=\"sans-serif\" font-size=\"13\" lengthAdjust=\"spacingAndGlyphs\" textLength=\"8\" x=\"320.6148\" y=\"241.8709\">1</text></a><!--MD5=[583832df87f4419a098336a29a52fa00]\n",
       "link E7 to E2--><a href=\"psysml:6c7ecdb4-3704-4141-b5eb-90be274661d4\" target=\"_top\" title=\"psysml:6c7ecdb4-3704-4141-b5eb-90be274661d4\" xlink:actuate=\"onRequest\" xlink:href=\"psysml:6c7ecdb4-3704-4141-b5eb-90be274661d4\" xlink:show=\"new\" xlink:title=\"psysml:6c7ecdb4-3704-4141-b5eb-90be274661d4\" xlink:type=\"simple\"><path d=\"M311.52,299.06 C302.71,311.6 291.43,327.68 281.19,342.26 \" fill=\"none\" id=\"E7-&gt;E2\" style=\"stroke: #A80036; stroke-width: 1.0;\"/><polygon fill=\"#FFFFFF\" points=\"269.46,358.98,274.6532,339.4088,286.1093,347.4561,269.46,358.98\" style=\"stroke: #A80036; stroke-width: 1.0;\"/><ellipse cx=\"279.5662\" cy=\"335.8942\" fill=\"#A80036\" rx=\"2\" ry=\"2\" style=\"stroke: #A80036; stroke-width: 1.0;\"/><ellipse cx=\"287.7491\" cy=\"341.6422\" fill=\"#A80036\" rx=\"2\" ry=\"2\" style=\"stroke: #A80036; stroke-width: 1.0;\"/></a><!--MD5=[f4cf0736d43fd73c4ef68817c49d37d5]\n",
       "reverse link E6 to E8--><a href=\"psysml:c893fa2e-0043-44e8-be45-2077001790d0\" target=\"_top\" title=\"psysml:c893fa2e-0043-44e8-be45-2077001790d0\" xlink:actuate=\"onRequest\" xlink:href=\"psysml:c893fa2e-0043-44e8-be45-2077001790d0\" xlink:show=\"new\" xlink:title=\"psysml:c893fa2e-0043-44e8-be45-2077001790d0\" xlink:type=\"simple\"><path d=\"M359.27,204.09 C370.02,220.06 382.62,238.78 392.18,252.98 \" fill=\"none\" id=\"E6&lt;-E8\" style=\"stroke: #A80036; stroke-width: 1.0;\"/><polygon fill=\"#FFFFFF\" points=\"351.85,193.06,351.8808,200.271,358.5489,203.0161,358.5182,195.8051,351.85,193.06\" style=\"stroke: #A80036; stroke-width: 1.0;\"/><text fill=\"#000000\" font-family=\"sans-serif\" font-size=\"13\" lengthAdjust=\"spacingAndGlyphs\" textLength=\"8\" x=\"379.1221\" y=\"241.8709\">1</text></a><!--MD5=[23ac544a70576c3e717098101004234c]\n",
       "reverse link E9 to E10--><a href=\"psysml:3723b58c-a4dd-4ef3-9a79-2a659572d83c\" target=\"_top\" title=\"psysml:3723b58c-a4dd-4ef3-9a79-2a659572d83c\" xlink:actuate=\"onRequest\" xlink:href=\"psysml:3723b58c-a4dd-4ef3-9a79-2a659572d83c\" xlink:show=\"new\" xlink:title=\"psysml:3723b58c-a4dd-4ef3-9a79-2a659572d83c\" xlink:type=\"simple\"><path d=\"M184.92,205.96 C180.89,221.51 176.26,239.33 172.72,252.98 \" fill=\"none\" id=\"E9&lt;-E10\" style=\"stroke: #A80036; stroke-width: 1.0;\"/><polygon fill=\"#FFFFFF\" points=\"188.27,193.06,182.8943,197.8665,185.2635,204.6773,190.6392,199.8708,188.27,193.06\" style=\"stroke: #A80036; stroke-width: 1.0;\"/><text fill=\"#000000\" font-family=\"sans-serif\" font-size=\"13\" lengthAdjust=\"spacingAndGlyphs\" textLength=\"8\" x=\"165.1823\" y=\"241.8709\">1</text></a><!--MD5=[0f36bececdf0dff6e600d6f64214b0f1]\n",
       "link E10 to E2--><a href=\"psysml:8c7a6e5c-2c0e-473c-a2c4-4062964bb416\" target=\"_top\" title=\"psysml:8c7a6e5c-2c0e-473c-a2c4-4062964bb416\" xlink:actuate=\"onRequest\" xlink:href=\"psysml:8c7a6e5c-2c0e-473c-a2c4-4062964bb416\" xlink:show=\"new\" xlink:title=\"psysml:8c7a6e5c-2c0e-473c-a2c4-4062964bb416\" xlink:type=\"simple\"><path d=\"M185.45,299.06 C196.18,311.88 209.99,328.39 222.4,343.22 \" fill=\"none\" id=\"E10-&gt;E2\" style=\"stroke: #A80036; stroke-width: 1.0;\"/><polygon fill=\"#FFFFFF\" points=\"235.58,358.98,218.0168,348.9036,228.7522,339.9174,235.58,358.98\" style=\"stroke: #A80036; stroke-width: 1.0;\"/><ellipse cx=\"215.8918\" cy=\"343.249\" fill=\"#A80036\" rx=\"2\" ry=\"2\" style=\"stroke: #A80036; stroke-width: 1.0;\"/><ellipse cx=\"223.5599\" cy=\"336.8303\" fill=\"#A80036\" rx=\"2\" ry=\"2\" style=\"stroke: #A80036; stroke-width: 1.0;\"/></a><!--MD5=[1fc04a95fd77ad5ce46c1a3027516051]\n",
       "reverse link E9 to E11--><a href=\"psysml:05b52cb0-1bec-4ecb-a4ba-b6e0a5fd36fa\" target=\"_top\" title=\"psysml:05b52cb0-1bec-4ecb-a4ba-b6e0a5fd36fa\" xlink:actuate=\"onRequest\" xlink:href=\"psysml:05b52cb0-1bec-4ecb-a4ba-b6e0a5fd36fa\" xlink:show=\"new\" xlink:title=\"psysml:05b52cb0-1bec-4ecb-a4ba-b6e0a5fd36fa\" xlink:type=\"simple\"><path d=\"M211.34,205.03 C219.37,220.78 228.68,239.06 235.78,252.98 \" fill=\"none\" id=\"E9&lt;-E11\" style=\"stroke: #A80036; stroke-width: 1.0;\"/><polygon fill=\"#FFFFFF\" points=\"205.24,193.06,204.3983,200.2218,210.6855,203.7533,211.5272,196.5915,205.24,193.06\" style=\"stroke: #A80036; stroke-width: 1.0;\"/><text fill=\"#000000\" font-family=\"sans-serif\" font-size=\"13\" lengthAdjust=\"spacingAndGlyphs\" textLength=\"8\" x=\"223.6896\" y=\"241.8709\">1</text></a><!--MD5=[062ed86c389d1a88f61c6380d0491e17]\n",
       "reverse link E12 to E13--><a href=\"psysml:2ea9f126-2045-475e-98b2-0bebbeaf39ba\" target=\"_top\" title=\"psysml:2ea9f126-2045-475e-98b2-0bebbeaf39ba\" xlink:actuate=\"onRequest\" xlink:href=\"psysml:2ea9f126-2045-475e-98b2-0bebbeaf39ba\" xlink:show=\"new\" xlink:title=\"psysml:2ea9f126-2045-475e-98b2-0bebbeaf39ba\" xlink:type=\"simple\"><path d=\"M80,100.44 C80,115.87 80,133.47 80,146.98 \" fill=\"none\" id=\"E12&lt;-E13\" style=\"stroke: #A80036; stroke-width: 1.0;\"/><polygon fill=\"#A80036\" points=\"80,87.06,76,93.06,80,99.06,84,93.06,80,87.06\" style=\"stroke: #A80036; stroke-width: 1.0;\"/><text fill=\"#000000\" font-family=\"sans-serif\" font-size=\"13\" lengthAdjust=\"spacingAndGlyphs\" textLength=\"8\" x=\"70.925\" y=\"135.8709\">1</text></a><!--MD5=[01db00f33b28669d6d9febea71002831]\n",
       "reverse link E13 to E14--><a href=\"psysml:56644651-1cff-4e4b-add6-5aaf4cbf3323\" target=\"_top\" title=\"psysml:56644651-1cff-4e4b-add6-5aaf4cbf3323\" xlink:actuate=\"onRequest\" xlink:href=\"psysml:56644651-1cff-4e4b-add6-5aaf4cbf3323\" xlink:show=\"new\" xlink:title=\"psysml:56644651-1cff-4e4b-add6-5aaf4cbf3323\" xlink:type=\"simple\"><path d=\"M83.41,206.44 C84.89,221.87 86.58,239.47 87.88,252.98 \" fill=\"none\" id=\"E13&lt;-E14\" style=\"stroke: #A80036; stroke-width: 1.0;\"/><polygon fill=\"#FFFFFF\" points=\"82.12,193.06,78.7125,199.4152,83.2683,205.0049,86.6758,198.6497,82.12,193.06\" style=\"stroke: #A80036; stroke-width: 1.0;\"/><text fill=\"#000000\" font-family=\"sans-serif\" font-size=\"13\" lengthAdjust=\"spacingAndGlyphs\" textLength=\"8\" x=\"78.2353\" y=\"241.8709\">1</text></a><!--MD5=[e5566ac99d7714697a7fbc17f6b550fe]\n",
       "link E14 to E2--><a href=\"psysml:004f1bd4-f46a-4fc3-b446-5abbd305cc50\" target=\"_top\" title=\"psysml:004f1bd4-f46a-4fc3-b446-5abbd305cc50\" xlink:actuate=\"onRequest\" xlink:href=\"psysml:004f1bd4-f46a-4fc3-b446-5abbd305cc50\" xlink:show=\"new\" xlink:title=\"psysml:004f1bd4-f46a-4fc3-b446-5abbd305cc50\" xlink:type=\"simple\"><path d=\"M111.1,290.38 C134.32,305.1 172.45,329.29 203.49,348.97 \" fill=\"none\" id=\"E14-&gt;E2\" style=\"stroke: #A80036; stroke-width: 1.0;\"/><polygon fill=\"#FFFFFF\" points=\"220.77,359.93,200.9767,355.661,208.4774,343.8399,220.77,359.93\" style=\"stroke: #A80036; stroke-width: 1.0;\"/><ellipse cx=\"197.2353\" cy=\"350.9184\" fill=\"#A80036\" rx=\"2\" ry=\"2\" style=\"stroke: #A80036; stroke-width: 1.0;\"/><ellipse cx=\"202.593\" cy=\"342.4748\" fill=\"#A80036\" rx=\"2\" ry=\"2\" style=\"stroke: #A80036; stroke-width: 1.0;\"/></a><!--MD5=[e9a5e828c71fd2209a11a152f562d491]\n",
       "reverse link E13 to E15--><a href=\"psysml:439c4bcd-5bf6-4395-bbdb-0df2330c2504\" target=\"_top\" title=\"psysml:439c4bcd-5bf6-4395-bbdb-0df2330c2504\" xlink:actuate=\"onRequest\" xlink:href=\"psysml:439c4bcd-5bf6-4395-bbdb-0df2330c2504\" xlink:show=\"new\" xlink:title=\"psysml:439c4bcd-5bf6-4395-bbdb-0df2330c2504\" xlink:type=\"simple\"><path d=\"M64.33,205.31 C54.54,231.09 45,267.26 52,299 C56.73,320.45 67.65,342.96 76.58,358.96 \" fill=\"none\" id=\"E13&lt;-E15\" style=\"stroke: #A80036; stroke-width: 1.0;\"/><polygon fill=\"#FFFFFF\" points=\"69.24,193.2,63.2795,197.2586,64.7334,204.3216,70.6939,200.263,69.24,193.2\" style=\"stroke: #A80036; stroke-width: 1.0;\"/><text fill=\"#000000\" font-family=\"sans-serif\" font-size=\"13\" lengthAdjust=\"spacingAndGlyphs\" textLength=\"8\" x=\"63.8984\" y=\"347.8455\">1</text></a><!--MD5=[3afbdc645381407e1bc99677323a2513]\n",
       "link E14 to E15--><a href=\"psysml:356465e0-8362-42f7-8017-4c1d57dccd42\" target=\"_top\" title=\"psysml:356465e0-8362-42f7-8017-4c1d57dccd42\" xlink:actuate=\"onRequest\" xlink:href=\"psysml:356465e0-8362-42f7-8017-4c1d57dccd42\" xlink:show=\"new\" xlink:title=\"psysml:356465e0-8362-42f7-8017-4c1d57dccd42\" xlink:type=\"simple\"><path d=\"M79.35,299.06 C76.55,316.7 76.55,341.34 79.36,358.98 \" fill=\"none\" id=\"E14-E15\" style=\"stroke: #A80036; stroke-width: 3.0;\"/></a><!--MD5=[3afbdc645381407e1bc99677323a2513]\n",
       "link E14 to E15--><a href=\"psysml:be002053-3eab-4239-b4ec-f62d8ddd6fa6\" target=\"_top\" title=\"psysml:be002053-3eab-4239-b4ec-f62d8ddd6fa6\" xlink:actuate=\"onRequest\" xlink:href=\"psysml:be002053-3eab-4239-b4ec-f62d8ddd6fa6\" xlink:show=\"new\" xlink:title=\"psysml:be002053-3eab-4239-b4ec-f62d8ddd6fa6\" xlink:type=\"simple\"><path d=\"M101.27,299.06 C104.24,316.7 104.24,341.34 101.27,358.98 \" fill=\"none\" id=\"E14-E15-1\" style=\"stroke: #A80036; stroke-width: 3.0;\"/></a><!--MD5=[a44188c92afb4aaae13fd9d48e0114ac]\n",
       "@startuml\r\n",
       "skinparam wrapWidth 300\r\n",
       "hide circle\r\n",
       "\r\n",
       "package \"ConjugationTest\" as E1  [[psysml:811d2e93-771a-4206-9534-119b2782ed8b ]]  {\r\n",
       "comp def \"P\" as E2  <<(T,blue) port def>> [[psysml:a118eece-ff6c-41b4-a8ec-63007fd81e06 ]] {\r\n",
       "}\r\n",
       "comp def \"B\" as E3  <<(T,blue) part def>> [[psysml:45f3428f-90c5-481c-8b5b-6d42a9c9ecb4 ]] {\r\n",
       "}\r\n",
       "comp usage \"p1: P\" as E4  <<(T,blue) port>> [[psysml:f10162e3-9121-4423-8c61-28bf75aadc9a ]] {\r\n",
       "}\r\n",
       "comp usage \"p2: ~P\" as E5  <<(T,blue) port>> [[psysml:f793b08e-b132-4869-8396-6344384571c9 ]] {\r\n",
       "}\r\n",
       "comp def \"A\" as E6  <<(T,blue) connection def>> [[psysml:1e44cf6a-fe6c-483a-98ee-7c5816e24c4f ]] {\r\n",
       "}\r\n",
       "comp usage \"p1: P\" as E7  <<(T,blue) port>> [[psysml:592da980-ebcc-4bfb-b89f-9a898fd7b408 ]] {\r\n",
       "}\r\n",
       "comp usage \"p2: ~P\" as E8  <<(T,blue) port>> [[psysml:4730362b-6892-4b61-8b08-4b1eb3a58a19 ]] {\r\n",
       "}\r\n",
       "comp def \"I\" as E9  <<(T,blue) interface def>> [[psysml:c589f335-4cab-4324-b073-03ca89b55f7d ]] {\r\n",
       "}\r\n",
       "comp usage \"p1: P\" as E10  <<(T,blue) port>> [[psysml:0a18d135-3a15-4f1e-a48b-3983b85e55aa ]] {\r\n",
       "}\r\n",
       "comp usage \"p2: ~P\" as E11  <<(T,blue) port>> [[psysml:f0ebefc1-580e-4b11-b9cf-e3cb40b874a3 ]] {\r\n",
       "}\r\n",
       "comp def \"B1\" as E12  <<(T,blue) part def>> [[psysml:99d6c811-1239-4557-8bf5-512a2d9b51f5 ]] {\r\n",
       "}\r\n",
       "comp usage \"p\" as E13  <<(T,blue) part>> [[psysml:c80e6282-4b88-42a6-beea-d83b68d36327 ]] {\r\n",
       "}\r\n",
       "comp usage \"p1: P\" as E14  <<(T,blue) port>> [[psysml:36fdd18b-cc96-4106-b803-027f179d9fab ]] {\r\n",
       "}\r\n",
       "comp usage \"p2: ~P\" as E15  <<(T,blue) port>> [[psysml:a04d4130-2616-430e-82e5-4df6c3f344d5 ]] {\r\n",
       "}\r\n",
       "}\r\n",
       "E3 o- - \"1\"E4 [[psysml:478537c4-9aea-45e7-93bf-51b2f99f76d0 ]] \r\n",
       "E4 - -:|> E2 [[psysml:9a27f54b-62e8-4ed3-8ffb-179b9354440f ]] \r\n",
       "E3 o- - \"1\"E5 [[psysml:0c237cb0-b529-413c-8aaf-d2f6ce3a1092 ]] \r\n",
       "E6 o- - \"1\"E7 [[psysml:b94a6cc2-6585-4221-b4bd-c6e1360a7593 ]] \r\n",
       "E7 - -:|> E2 [[psysml:6c7ecdb4-3704-4141-b5eb-90be274661d4 ]] \r\n",
       "E6 o- - \"1\"E8 [[psysml:c893fa2e-0043-44e8-be45-2077001790d0 ]] \r\n",
       "E9 o- - \"1\"E10 [[psysml:3723b58c-a4dd-4ef3-9a79-2a659572d83c ]] \r\n",
       "E10 - -:|> E2 [[psysml:8c7a6e5c-2c0e-473c-a2c4-4062964bb416 ]] \r\n",
       "E9 o- - \"1\"E11 [[psysml:05b52cb0-1bec-4ecb-a4ba-b6e0a5fd36fa ]] \r\n",
       "E12 *- - \"1\"E13 [[psysml:2ea9f126-2045-475e-98b2-0bebbeaf39ba ]] \r\n",
       "E13 o- - \"1\"E14 [[psysml:56644651-1cff-4e4b-add6-5aaf4cbf3323 ]] \r\n",
       "E14 - -:|> E2 [[psysml:004f1bd4-f46a-4fc3-b446-5abbd305cc50 ]] \r\n",
       "E13 o- - \"1\"E15 [[psysml:439c4bcd-5bf6-4395-bbdb-0df2330c2504 ]] \r\n",
       "E14 -[thickness=3]- E15 [[psysml:356465e0-8362-42f7-8017-4c1d57dccd42 ]] \r\n",
       "E14 -[thickness=3]- E15 [[psysml:be002053-3eab-4239-b4ec-f62d8ddd6fa6 ]] \r\n",
       "@enduml\r\n",
       "\n",
       "PlantUML version 1.2020.13(Sat Jun 13 12:26:38 UTC 2020)\n",
       "(EPL source distribution)\n",
       "Java Runtime: OpenJDK Runtime Environment\n",
       "JVM: OpenJDK 64-Bit Server VM\n",
       "Default Encoding: UTF-8\n",
       "Language: en\n",
       "Country: null\n",
       "--></g></svg>"
      ]
     },
     "execution_count": 23,
     "metadata": {},
     "output_type": "execute_result"
    }
   ],
   "source": [
    "%viz --style=\"STDCOLOR\" --view=\"Default\" \"ConjugationTest\""
   ]
  },
  {
   "cell_type": "code",
   "execution_count": 24,
   "id": "02f96d82",
   "metadata": {
    "execution": {
     "iopub.execute_input": "2021-10-03T08:28:06.652370Z",
     "iopub.status.busy": "2021-10-03T08:28:06.651966Z",
     "iopub.status.idle": "2021-10-03T08:28:06.707011Z",
     "shell.execute_reply": "2021-10-03T08:28:06.706655Z"
    }
   },
   "outputs": [
    {
     "data": {
      "image/svg+xml": [
       "<?xml version=\"1.0\" encoding=\"UTF-8\" standalone=\"no\"?><svg xmlns=\"http://www.w3.org/2000/svg\" xmlns:xlink=\"http://www.w3.org/1999/xlink\" contentScriptType=\"application/ecmascript\" contentStyleType=\"text/css\" height=\"433px\" preserveAspectRatio=\"none\" style=\"width:629px;height:433px;\" version=\"1.1\" viewBox=\"0 0 629 433\" width=\"629px\" zoomAndPan=\"magnify\"><defs><filter height=\"300%\" id=\"fcipsaxuo4sht\" width=\"300%\" x=\"-1\" y=\"-1\"><feGaussianBlur result=\"blurOut\" stdDeviation=\"2.0\"/><feColorMatrix in=\"blurOut\" result=\"blurOut2\" type=\"matrix\" values=\"0 0 0 0 0 0 0 0 0 0 0 0 0 0 0 0 0 0 .4 0\"/><feOffset dx=\"4.0\" dy=\"4.0\" in=\"blurOut2\" result=\"blurOut3\"/><feBlend in=\"SourceGraphic\" in2=\"blurOut3\" mode=\"normal\"/></filter></defs><g><!--MD5=[fbc87193dbaf4d95561dea2c320d4a47]\n",
       "cluster E1--><a href=\"psysml:811d2e93-771a-4206-9534-119b2782ed8b\" target=\"_top\" title=\"psysml:811d2e93-771a-4206-9534-119b2782ed8b\" xlink:actuate=\"onRequest\" xlink:href=\"psysml:811d2e93-771a-4206-9534-119b2782ed8b\" xlink:show=\"new\" xlink:title=\"psysml:811d2e93-771a-4206-9534-119b2782ed8b\" xlink:type=\"simple\"><polygon fill=\"#FFFFFF\" filter=\"url(#fcipsaxuo4sht)\" points=\"16,6,136,6,143,28.2969,607,28.2969,607,421,16,421,16,6\" style=\"stroke: #000000; stroke-width: 1.5;\"/><line style=\"stroke: #000000; stroke-width: 1.5;\" x1=\"16\" x2=\"143\" y1=\"28.2969\" y2=\"28.2969\"/><text fill=\"#000000\" font-family=\"sans-serif\" font-size=\"14\" font-weight=\"bold\" lengthAdjust=\"spacingAndGlyphs\" textLength=\"114\" x=\"20\" y=\"20.9951\">ConjugationTest</text></a><!--MD5=[b4997ac47864f28c2f74865a473b2911]\n",
       "class E2--><a href=\"psysml:a118eece-ff6c-41b4-a8ec-63007fd81e06\" target=\"_top\" title=\"psysml:a118eece-ff6c-41b4-a8ec-63007fd81e06\" xlink:actuate=\"onRequest\" xlink:href=\"psysml:a118eece-ff6c-41b4-a8ec-63007fd81e06\" xlink:show=\"new\" xlink:title=\"psysml:a118eece-ff6c-41b4-a8ec-63007fd81e06\" xlink:type=\"simple\"><rect fill=\"#FEFECE\" filter=\"url(#fcipsaxuo4sht)\" height=\"45.9375\" id=\"E2\" style=\"stroke: #A80036; stroke-width: 1.5;\" width=\"66\" x=\"221\" y=\"359\"/><text fill=\"#000000\" font-family=\"sans-serif\" font-size=\"12\" font-style=\"italic\" lengthAdjust=\"spacingAndGlyphs\" textLength=\"64\" x=\"222\" y=\"375.1387\">«port def»</text><text fill=\"#000000\" font-family=\"sans-serif\" font-size=\"12\" lengthAdjust=\"spacingAndGlyphs\" textLength=\"8\" x=\"250\" y=\"389.1074\">P</text><line style=\"stroke: #A80036; stroke-width: 1.5;\" x1=\"222\" x2=\"286\" y1=\"396.9375\" y2=\"396.9375\"/></a><!--MD5=[09b614a08d8cba4a07c9adeb5e0fee81]\n",
       "class E3--><a href=\"psysml:45f3428f-90c5-481c-8b5b-6d42a9c9ecb4\" target=\"_top\" title=\"psysml:45f3428f-90c5-481c-8b5b-6d42a9c9ecb4\" xlink:actuate=\"onRequest\" xlink:href=\"psysml:45f3428f-90c5-481c-8b5b-6d42a9c9ecb4\" xlink:show=\"new\" xlink:title=\"psysml:45f3428f-90c5-481c-8b5b-6d42a9c9ecb4\" xlink:type=\"simple\"><rect fill=\"#FEFECE\" filter=\"url(#fcipsaxuo4sht)\" height=\"45.9375\" id=\"E3\" style=\"stroke: #A80036; stroke-width: 1.5;\" width=\"66\" x=\"489\" y=\"147\"/><text fill=\"#000000\" font-family=\"sans-serif\" font-size=\"12\" font-style=\"italic\" lengthAdjust=\"spacingAndGlyphs\" textLength=\"64\" x=\"490\" y=\"163.1387\">«part def»</text><text fill=\"#000000\" font-family=\"sans-serif\" font-size=\"12\" lengthAdjust=\"spacingAndGlyphs\" textLength=\"8\" x=\"518\" y=\"177.1074\">B</text><line style=\"stroke: #A80036; stroke-width: 1.5;\" x1=\"490\" x2=\"554\" y1=\"184.9375\" y2=\"184.9375\"/></a><!--MD5=[ebbe1d658d1005bcc118a6aa81145e00]\n",
       "class E4--><a href=\"psysml:f10162e3-9121-4423-8c61-28bf75aadc9a\" target=\"_top\" title=\"psysml:f10162e3-9121-4423-8c61-28bf75aadc9a\" xlink:actuate=\"onRequest\" xlink:href=\"psysml:f10162e3-9121-4423-8c61-28bf75aadc9a\" xlink:show=\"new\" xlink:title=\"psysml:f10162e3-9121-4423-8c61-28bf75aadc9a\" xlink:type=\"simple\"><rect fill=\"#FEFECE\" filter=\"url(#fcipsaxuo4sht)\" height=\"45.9375\" id=\"E4\" rx=\"10\" ry=\"10\" style=\"stroke: #A80036; stroke-width: 1.5;\" width=\"42\" x=\"466\" y=\"253\"/><text fill=\"#000000\" font-family=\"sans-serif\" font-size=\"12\" font-style=\"italic\" lengthAdjust=\"spacingAndGlyphs\" textLength=\"40\" x=\"467\" y=\"269.1387\">«port»</text><text fill=\"#000000\" font-family=\"sans-serif\" font-size=\"12\" lengthAdjust=\"spacingAndGlyphs\" textLength=\"32\" x=\"471\" y=\"283.1074\">p1: P</text><line style=\"stroke: #A80036; stroke-width: 1.5;\" x1=\"467\" x2=\"507\" y1=\"290.9375\" y2=\"290.9375\"/></a><!--MD5=[270fce915f116d4de14055a7c1d9a0f3]\n",
       "class E5--><a href=\"psysml:f793b08e-b132-4869-8396-6344384571c9\" target=\"_top\" title=\"psysml:f793b08e-b132-4869-8396-6344384571c9\" xlink:actuate=\"onRequest\" xlink:href=\"psysml:f793b08e-b132-4869-8396-6344384571c9\" xlink:show=\"new\" xlink:title=\"psysml:f793b08e-b132-4869-8396-6344384571c9\" xlink:type=\"simple\"><rect fill=\"#FEFECE\" filter=\"url(#fcipsaxuo4sht)\" height=\"45.9375\" id=\"E5\" rx=\"10\" ry=\"10\" style=\"stroke: #A80036; stroke-width: 1.5;\" width=\"48\" x=\"543\" y=\"253\"/><text fill=\"#000000\" font-family=\"sans-serif\" font-size=\"12\" font-style=\"italic\" lengthAdjust=\"spacingAndGlyphs\" textLength=\"40\" x=\"547\" y=\"269.1387\">«port»</text><text fill=\"#000000\" font-family=\"sans-serif\" font-size=\"12\" lengthAdjust=\"spacingAndGlyphs\" textLength=\"42\" x=\"546\" y=\"283.1074\">p2: ~P</text><line style=\"stroke: #A80036; stroke-width: 1.5;\" x1=\"544\" x2=\"590\" y1=\"290.9375\" y2=\"290.9375\"/></a><!--MD5=[60a26617385b1d2d0262a64233df1f8d]\n",
       "class E6--><a href=\"psysml:1e44cf6a-fe6c-483a-98ee-7c5816e24c4f\" target=\"_top\" title=\"psysml:1e44cf6a-fe6c-483a-98ee-7c5816e24c4f\" xlink:actuate=\"onRequest\" xlink:href=\"psysml:1e44cf6a-fe6c-483a-98ee-7c5816e24c4f\" xlink:show=\"new\" xlink:title=\"psysml:1e44cf6a-fe6c-483a-98ee-7c5816e24c4f\" xlink:type=\"simple\"><rect fill=\"#FEFECE\" filter=\"url(#fcipsaxuo4sht)\" height=\"45.9375\" id=\"E6\" style=\"stroke: #A80036; stroke-width: 1.5;\" width=\"110\" x=\"282\" y=\"147\"/><text fill=\"#000000\" font-family=\"sans-serif\" font-size=\"12\" font-style=\"italic\" lengthAdjust=\"spacingAndGlyphs\" textLength=\"108\" x=\"283\" y=\"163.1387\">«connection def»</text><text fill=\"#000000\" font-family=\"sans-serif\" font-size=\"12\" lengthAdjust=\"spacingAndGlyphs\" textLength=\"8\" x=\"333\" y=\"177.1074\">A</text><line style=\"stroke: #A80036; stroke-width: 1.5;\" x1=\"283\" x2=\"391\" y1=\"184.9375\" y2=\"184.9375\"/></a><!--MD5=[2156ba9850f5573cc1fc38a6a4b2f02b]\n",
       "class E7--><a href=\"psysml:592da980-ebcc-4bfb-b89f-9a898fd7b408\" target=\"_top\" title=\"psysml:592da980-ebcc-4bfb-b89f-9a898fd7b408\" xlink:actuate=\"onRequest\" xlink:href=\"psysml:592da980-ebcc-4bfb-b89f-9a898fd7b408\" xlink:show=\"new\" xlink:title=\"psysml:592da980-ebcc-4bfb-b89f-9a898fd7b408\" xlink:type=\"simple\"><rect fill=\"#FEFECE\" filter=\"url(#fcipsaxuo4sht)\" height=\"45.9375\" id=\"E7\" rx=\"10\" ry=\"10\" style=\"stroke: #A80036; stroke-width: 1.5;\" width=\"42\" x=\"306\" y=\"253\"/><text fill=\"#000000\" font-family=\"sans-serif\" font-size=\"12\" font-style=\"italic\" lengthAdjust=\"spacingAndGlyphs\" textLength=\"40\" x=\"307\" y=\"269.1387\">«port»</text><text fill=\"#000000\" font-family=\"sans-serif\" font-size=\"12\" lengthAdjust=\"spacingAndGlyphs\" textLength=\"32\" x=\"311\" y=\"283.1074\">p1: P</text><line style=\"stroke: #A80036; stroke-width: 1.5;\" x1=\"307\" x2=\"347\" y1=\"290.9375\" y2=\"290.9375\"/></a><!--MD5=[b9389687b975829384b498ac4b7476b2]\n",
       "class E8--><a href=\"psysml:4730362b-6892-4b61-8b08-4b1eb3a58a19\" target=\"_top\" title=\"psysml:4730362b-6892-4b61-8b08-4b1eb3a58a19\" xlink:actuate=\"onRequest\" xlink:href=\"psysml:4730362b-6892-4b61-8b08-4b1eb3a58a19\" xlink:show=\"new\" xlink:title=\"psysml:4730362b-6892-4b61-8b08-4b1eb3a58a19\" xlink:type=\"simple\"><rect fill=\"#FEFECE\" filter=\"url(#fcipsaxuo4sht)\" height=\"45.9375\" id=\"E8\" rx=\"10\" ry=\"10\" style=\"stroke: #A80036; stroke-width: 1.5;\" width=\"48\" x=\"383\" y=\"253\"/><text fill=\"#000000\" font-family=\"sans-serif\" font-size=\"12\" font-style=\"italic\" lengthAdjust=\"spacingAndGlyphs\" textLength=\"40\" x=\"387\" y=\"269.1387\">«port»</text><text fill=\"#000000\" font-family=\"sans-serif\" font-size=\"12\" lengthAdjust=\"spacingAndGlyphs\" textLength=\"42\" x=\"386\" y=\"283.1074\">p2: ~P</text><line style=\"stroke: #A80036; stroke-width: 1.5;\" x1=\"384\" x2=\"430\" y1=\"290.9375\" y2=\"290.9375\"/></a><!--MD5=[fd4143e9d270a159db93a4ea2a975926]\n",
       "class E9--><a href=\"psysml:c589f335-4cab-4324-b073-03ca89b55f7d\" target=\"_top\" title=\"psysml:c589f335-4cab-4324-b073-03ca89b55f7d\" xlink:actuate=\"onRequest\" xlink:href=\"psysml:c589f335-4cab-4324-b073-03ca89b55f7d\" xlink:show=\"new\" xlink:title=\"psysml:c589f335-4cab-4324-b073-03ca89b55f7d\" xlink:type=\"simple\"><rect fill=\"#FEFECE\" filter=\"url(#fcipsaxuo4sht)\" height=\"45.9375\" id=\"E9\" style=\"stroke: #A80036; stroke-width: 1.5;\" width=\"96\" x=\"146\" y=\"147\"/><text fill=\"#000000\" font-family=\"sans-serif\" font-size=\"12\" font-style=\"italic\" lengthAdjust=\"spacingAndGlyphs\" textLength=\"94\" x=\"147\" y=\"163.1387\">«interface def»</text><text fill=\"#000000\" font-family=\"sans-serif\" font-size=\"12\" lengthAdjust=\"spacingAndGlyphs\" textLength=\"3\" x=\"192.5\" y=\"177.1074\">I</text><line style=\"stroke: #A80036; stroke-width: 1.5;\" x1=\"147\" x2=\"241\" y1=\"184.9375\" y2=\"184.9375\"/></a><!--MD5=[96f4274e9e20536e775497830990834d]\n",
       "class E10--><a href=\"psysml:0a18d135-3a15-4f1e-a48b-3983b85e55aa\" target=\"_top\" title=\"psysml:0a18d135-3a15-4f1e-a48b-3983b85e55aa\" xlink:actuate=\"onRequest\" xlink:href=\"psysml:0a18d135-3a15-4f1e-a48b-3983b85e55aa\" xlink:show=\"new\" xlink:title=\"psysml:0a18d135-3a15-4f1e-a48b-3983b85e55aa\" xlink:type=\"simple\"><rect fill=\"#FEFECE\" filter=\"url(#fcipsaxuo4sht)\" height=\"45.9375\" id=\"E10\" rx=\"10\" ry=\"10\" style=\"stroke: #A80036; stroke-width: 1.5;\" width=\"42\" x=\"146\" y=\"253\"/><text fill=\"#000000\" font-family=\"sans-serif\" font-size=\"12\" font-style=\"italic\" lengthAdjust=\"spacingAndGlyphs\" textLength=\"40\" x=\"147\" y=\"269.1387\">«port»</text><text fill=\"#000000\" font-family=\"sans-serif\" font-size=\"12\" lengthAdjust=\"spacingAndGlyphs\" textLength=\"32\" x=\"151\" y=\"283.1074\">p1: P</text><line style=\"stroke: #A80036; stroke-width: 1.5;\" x1=\"147\" x2=\"187\" y1=\"290.9375\" y2=\"290.9375\"/></a><!--MD5=[1dd1bfd58a279cf63c5f349dbc8fc6a1]\n",
       "class E11--><a href=\"psysml:f0ebefc1-580e-4b11-b9cf-e3cb40b874a3\" target=\"_top\" title=\"psysml:f0ebefc1-580e-4b11-b9cf-e3cb40b874a3\" xlink:actuate=\"onRequest\" xlink:href=\"psysml:f0ebefc1-580e-4b11-b9cf-e3cb40b874a3\" xlink:show=\"new\" xlink:title=\"psysml:f0ebefc1-580e-4b11-b9cf-e3cb40b874a3\" xlink:type=\"simple\"><rect fill=\"#FEFECE\" filter=\"url(#fcipsaxuo4sht)\" height=\"45.9375\" id=\"E11\" rx=\"10\" ry=\"10\" style=\"stroke: #A80036; stroke-width: 1.5;\" width=\"48\" x=\"223\" y=\"253\"/><text fill=\"#000000\" font-family=\"sans-serif\" font-size=\"12\" font-style=\"italic\" lengthAdjust=\"spacingAndGlyphs\" textLength=\"40\" x=\"227\" y=\"269.1387\">«port»</text><text fill=\"#000000\" font-family=\"sans-serif\" font-size=\"12\" lengthAdjust=\"spacingAndGlyphs\" textLength=\"42\" x=\"226\" y=\"283.1074\">p2: ~P</text><line style=\"stroke: #A80036; stroke-width: 1.5;\" x1=\"224\" x2=\"270\" y1=\"290.9375\" y2=\"290.9375\"/></a><!--MD5=[49a0ec8f00dab7302a31f22d0f0fe584]\n",
       "class E12--><a href=\"psysml:99d6c811-1239-4557-8bf5-512a2d9b51f5\" target=\"_top\" title=\"psysml:99d6c811-1239-4557-8bf5-512a2d9b51f5\" xlink:actuate=\"onRequest\" xlink:href=\"psysml:99d6c811-1239-4557-8bf5-512a2d9b51f5\" xlink:show=\"new\" xlink:title=\"psysml:99d6c811-1239-4557-8bf5-512a2d9b51f5\" xlink:type=\"simple\"><rect fill=\"#FEFECE\" filter=\"url(#fcipsaxuo4sht)\" height=\"45.9375\" id=\"E12\" style=\"stroke: #A80036; stroke-width: 1.5;\" width=\"66\" x=\"47\" y=\"41\"/><text fill=\"#000000\" font-family=\"sans-serif\" font-size=\"12\" font-style=\"italic\" lengthAdjust=\"spacingAndGlyphs\" textLength=\"64\" x=\"48\" y=\"57.1387\">«part def»</text><text fill=\"#000000\" font-family=\"sans-serif\" font-size=\"12\" lengthAdjust=\"spacingAndGlyphs\" textLength=\"16\" x=\"72\" y=\"71.1074\">B1</text><line style=\"stroke: #A80036; stroke-width: 1.5;\" x1=\"48\" x2=\"112\" y1=\"78.9375\" y2=\"78.9375\"/></a><!--MD5=[ee3c913d1a06f366521f9ef512b67efe]\n",
       "class E13--><a href=\"psysml:c80e6282-4b88-42a6-beea-d83b68d36327\" target=\"_top\" title=\"psysml:c80e6282-4b88-42a6-beea-d83b68d36327\" xlink:actuate=\"onRequest\" xlink:href=\"psysml:c80e6282-4b88-42a6-beea-d83b68d36327\" xlink:show=\"new\" xlink:title=\"psysml:c80e6282-4b88-42a6-beea-d83b68d36327\" xlink:type=\"simple\"><rect fill=\"#FEFECE\" filter=\"url(#fcipsaxuo4sht)\" height=\"45.9375\" id=\"E13\" rx=\"10\" ry=\"10\" style=\"stroke: #A80036; stroke-width: 1.5;\" width=\"42\" x=\"59\" y=\"147\"/><text fill=\"#000000\" font-family=\"sans-serif\" font-size=\"12\" font-style=\"italic\" lengthAdjust=\"spacingAndGlyphs\" textLength=\"40\" x=\"60\" y=\"163.1387\">«part»</text><text fill=\"#000000\" font-family=\"sans-serif\" font-size=\"12\" lengthAdjust=\"spacingAndGlyphs\" textLength=\"8\" x=\"76\" y=\"177.1074\">p</text><line style=\"stroke: #A80036; stroke-width: 1.5;\" x1=\"60\" x2=\"100\" y1=\"184.9375\" y2=\"184.9375\"/></a><!--MD5=[bee11217b2f71d958a27249dc326068c]\n",
       "class E14--><a href=\"psysml:36fdd18b-cc96-4106-b803-027f179d9fab\" target=\"_top\" title=\"psysml:36fdd18b-cc96-4106-b803-027f179d9fab\" xlink:actuate=\"onRequest\" xlink:href=\"psysml:36fdd18b-cc96-4106-b803-027f179d9fab\" xlink:show=\"new\" xlink:title=\"psysml:36fdd18b-cc96-4106-b803-027f179d9fab\" xlink:type=\"simple\"><rect fill=\"#FEFECE\" filter=\"url(#fcipsaxuo4sht)\" height=\"45.9375\" id=\"E14\" rx=\"10\" ry=\"10\" style=\"stroke: #A80036; stroke-width: 1.5;\" width=\"42\" x=\"69\" y=\"253\"/><text fill=\"#000000\" font-family=\"sans-serif\" font-size=\"12\" font-style=\"italic\" lengthAdjust=\"spacingAndGlyphs\" textLength=\"40\" x=\"70\" y=\"269.1387\">«port»</text><text fill=\"#000000\" font-family=\"sans-serif\" font-size=\"12\" lengthAdjust=\"spacingAndGlyphs\" textLength=\"32\" x=\"74\" y=\"283.1074\">p1: P</text><line style=\"stroke: #A80036; stroke-width: 1.5;\" x1=\"70\" x2=\"110\" y1=\"290.9375\" y2=\"290.9375\"/></a><!--MD5=[0c48fb7552dae8cbbef69381101a84c8]\n",
       "class E15--><a href=\"psysml:a04d4130-2616-430e-82e5-4df6c3f344d5\" target=\"_top\" title=\"psysml:a04d4130-2616-430e-82e5-4df6c3f344d5\" xlink:actuate=\"onRequest\" xlink:href=\"psysml:a04d4130-2616-430e-82e5-4df6c3f344d5\" xlink:show=\"new\" xlink:title=\"psysml:a04d4130-2616-430e-82e5-4df6c3f344d5\" xlink:type=\"simple\"><rect fill=\"#FEFECE\" filter=\"url(#fcipsaxuo4sht)\" height=\"45.9375\" id=\"E15\" rx=\"10\" ry=\"10\" style=\"stroke: #A80036; stroke-width: 1.5;\" width=\"48\" x=\"66\" y=\"359\"/><text fill=\"#000000\" font-family=\"sans-serif\" font-size=\"12\" font-style=\"italic\" lengthAdjust=\"spacingAndGlyphs\" textLength=\"40\" x=\"70\" y=\"375.1387\">«port»</text><text fill=\"#000000\" font-family=\"sans-serif\" font-size=\"12\" lengthAdjust=\"spacingAndGlyphs\" textLength=\"42\" x=\"69\" y=\"389.1074\">p2: ~P</text><line style=\"stroke: #A80036; stroke-width: 1.5;\" x1=\"67\" x2=\"113\" y1=\"396.9375\" y2=\"396.9375\"/></a><!--MD5=[4672eba38e49728da53d11aeb285b987]\n",
       "reverse link E3 to E4--><a href=\"psysml:478537c4-9aea-45e7-93bf-51b2f99f76d0\" target=\"_top\" title=\"psysml:478537c4-9aea-45e7-93bf-51b2f99f76d0\" xlink:actuate=\"onRequest\" xlink:href=\"psysml:478537c4-9aea-45e7-93bf-51b2f99f76d0\" xlink:show=\"new\" xlink:title=\"psysml:478537c4-9aea-45e7-93bf-51b2f99f76d0\" xlink:type=\"simple\"><path d=\"M510.39,205.49 C505.12,221.15 499.05,239.19 494.41,252.98 \" fill=\"none\" id=\"E3&lt;-E4\" style=\"stroke: #A80036; stroke-width: 1.0;\"/><polygon fill=\"#FFFFFF\" points=\"514.58,193.06,508.8756,197.4713,510.7536,204.4336,516.458,200.0223,514.58,193.06\" style=\"stroke: #A80036; stroke-width: 1.0;\"/><text fill=\"#000000\" font-family=\"sans-serif\" font-size=\"13\" lengthAdjust=\"spacingAndGlyphs\" textLength=\"8\" x=\"487.3264\" y=\"241.8709\">1</text></a><!--MD5=[185131fc0dcab0a4505a2ebe144e961b]\n",
       "link E4 to E2--><a href=\"psysml:9a27f54b-62e8-4ed3-8ffb-179b9354440f\" target=\"_top\" title=\"psysml:9a27f54b-62e8-4ed3-8ffb-179b9354440f\" xlink:actuate=\"onRequest\" xlink:href=\"psysml:9a27f54b-62e8-4ed3-8ffb-179b9354440f\" xlink:show=\"new\" xlink:title=\"psysml:9a27f54b-62e8-4ed3-8ffb-179b9354440f\" xlink:type=\"simple\"><path d=\"M465.96,289.82 C460.51,292.96 454.6,296.22 449,299 C401.46,322.64 345.42,345.73 305.65,361.35 \" fill=\"none\" id=\"E4-&gt;E2\" style=\"stroke: #A80036; stroke-width: 1.0;\"/><polygon fill=\"#FFFFFF\" points=\"287,368.6,302.1754,355.1945,307.2453,368.2443,287,368.6\" style=\"stroke: #A80036; stroke-width: 1.0;\"/><ellipse cx=\"308.2128\" cy=\"354.9946\" fill=\"#A80036\" rx=\"2\" ry=\"2\" style=\"stroke: #A80036; stroke-width: 1.0;\"/><ellipse cx=\"311.8342\" cy=\"364.3159\" fill=\"#A80036\" rx=\"2\" ry=\"2\" style=\"stroke: #A80036; stroke-width: 1.0;\"/></a><!--MD5=[191cde3d490a3f6d7bb551fe3ddca469]\n",
       "reverse link E3 to E5--><a href=\"psysml:0c237cb0-b529-413c-8aaf-d2f6ce3a1092\" target=\"_top\" title=\"psysml:0c237cb0-b529-413c-8aaf-d2f6ce3a1092\" xlink:actuate=\"onRequest\" xlink:href=\"psysml:0c237cb0-b529-413c-8aaf-d2f6ce3a1092\" xlink:show=\"new\" xlink:title=\"psysml:0c237cb0-b529-413c-8aaf-d2f6ce3a1092\" xlink:type=\"simple\"><path d=\"M536.72,205.03 C543.54,220.78 551.45,239.06 557.47,252.98 \" fill=\"none\" id=\"E3&lt;-E5\" style=\"stroke: #A80036; stroke-width: 1.0;\"/><polygon fill=\"#FFFFFF\" points=\"531.54,193.06,530.2495,200.1547,536.302,204.0747,537.5926,196.98,531.54,193.06\" style=\"stroke: #A80036; stroke-width: 1.0;\"/><text fill=\"#000000\" font-family=\"sans-serif\" font-size=\"13\" lengthAdjust=\"spacingAndGlyphs\" textLength=\"8\" x=\"545.8338\" y=\"241.8709\">1</text></a><!--MD5=[3f50a3473f1dfb74d3f76443e03635af]\n",
       "reverse link E6 to E7--><a href=\"psysml:b94a6cc2-6585-4221-b4bd-c6e1360a7593\" target=\"_top\" title=\"psysml:b94a6cc2-6585-4221-b4bd-c6e1360a7593\" xlink:actuate=\"onRequest\" xlink:href=\"psysml:b94a6cc2-6585-4221-b4bd-c6e1360a7593\" xlink:show=\"new\" xlink:title=\"psysml:b94a6cc2-6585-4221-b4bd-c6e1360a7593\" xlink:type=\"simple\"><path d=\"M333.59,206.44 C332.11,221.87 330.42,239.47 329.12,252.98 \" fill=\"none\" id=\"E6&lt;-E7\" style=\"stroke: #A80036; stroke-width: 1.0;\"/><polygon fill=\"#FFFFFF\" points=\"334.88,193.06,330.3242,198.6497,333.7317,205.0049,338.2875,199.4152,334.88,193.06\" style=\"stroke: #A80036; stroke-width: 1.0;\"/><text fill=\"#000000\" font-family=\"sans-serif\" font-size=\"13\" lengthAdjust=\"spacingAndGlyphs\" textLength=\"8\" x=\"320.6148\" y=\"241.8709\">1</text></a><!--MD5=[583832df87f4419a098336a29a52fa00]\n",
       "link E7 to E2--><a href=\"psysml:6c7ecdb4-3704-4141-b5eb-90be274661d4\" target=\"_top\" title=\"psysml:6c7ecdb4-3704-4141-b5eb-90be274661d4\" xlink:actuate=\"onRequest\" xlink:href=\"psysml:6c7ecdb4-3704-4141-b5eb-90be274661d4\" xlink:show=\"new\" xlink:title=\"psysml:6c7ecdb4-3704-4141-b5eb-90be274661d4\" xlink:type=\"simple\"><path d=\"M311.52,299.06 C302.71,311.6 291.43,327.68 281.19,342.26 \" fill=\"none\" id=\"E7-&gt;E2\" style=\"stroke: #A80036; stroke-width: 1.0;\"/><polygon fill=\"#FFFFFF\" points=\"269.46,358.98,274.6532,339.4088,286.1093,347.4561,269.46,358.98\" style=\"stroke: #A80036; stroke-width: 1.0;\"/><ellipse cx=\"279.5662\" cy=\"335.8942\" fill=\"#A80036\" rx=\"2\" ry=\"2\" style=\"stroke: #A80036; stroke-width: 1.0;\"/><ellipse cx=\"287.7491\" cy=\"341.6422\" fill=\"#A80036\" rx=\"2\" ry=\"2\" style=\"stroke: #A80036; stroke-width: 1.0;\"/></a><!--MD5=[f4cf0736d43fd73c4ef68817c49d37d5]\n",
       "reverse link E6 to E8--><a href=\"psysml:c893fa2e-0043-44e8-be45-2077001790d0\" target=\"_top\" title=\"psysml:c893fa2e-0043-44e8-be45-2077001790d0\" xlink:actuate=\"onRequest\" xlink:href=\"psysml:c893fa2e-0043-44e8-be45-2077001790d0\" xlink:show=\"new\" xlink:title=\"psysml:c893fa2e-0043-44e8-be45-2077001790d0\" xlink:type=\"simple\"><path d=\"M359.27,204.09 C370.02,220.06 382.62,238.78 392.18,252.98 \" fill=\"none\" id=\"E6&lt;-E8\" style=\"stroke: #A80036; stroke-width: 1.0;\"/><polygon fill=\"#FFFFFF\" points=\"351.85,193.06,351.8808,200.271,358.5489,203.0161,358.5182,195.8051,351.85,193.06\" style=\"stroke: #A80036; stroke-width: 1.0;\"/><text fill=\"#000000\" font-family=\"sans-serif\" font-size=\"13\" lengthAdjust=\"spacingAndGlyphs\" textLength=\"8\" x=\"379.1221\" y=\"241.8709\">1</text></a><!--MD5=[23ac544a70576c3e717098101004234c]\n",
       "reverse link E9 to E10--><a href=\"psysml:3723b58c-a4dd-4ef3-9a79-2a659572d83c\" target=\"_top\" title=\"psysml:3723b58c-a4dd-4ef3-9a79-2a659572d83c\" xlink:actuate=\"onRequest\" xlink:href=\"psysml:3723b58c-a4dd-4ef3-9a79-2a659572d83c\" xlink:show=\"new\" xlink:title=\"psysml:3723b58c-a4dd-4ef3-9a79-2a659572d83c\" xlink:type=\"simple\"><path d=\"M184.92,205.96 C180.89,221.51 176.26,239.33 172.72,252.98 \" fill=\"none\" id=\"E9&lt;-E10\" style=\"stroke: #A80036; stroke-width: 1.0;\"/><polygon fill=\"#FFFFFF\" points=\"188.27,193.06,182.8943,197.8665,185.2635,204.6773,190.6392,199.8708,188.27,193.06\" style=\"stroke: #A80036; stroke-width: 1.0;\"/><text fill=\"#000000\" font-family=\"sans-serif\" font-size=\"13\" lengthAdjust=\"spacingAndGlyphs\" textLength=\"8\" x=\"165.1823\" y=\"241.8709\">1</text></a><!--MD5=[0f36bececdf0dff6e600d6f64214b0f1]\n",
       "link E10 to E2--><a href=\"psysml:8c7a6e5c-2c0e-473c-a2c4-4062964bb416\" target=\"_top\" title=\"psysml:8c7a6e5c-2c0e-473c-a2c4-4062964bb416\" xlink:actuate=\"onRequest\" xlink:href=\"psysml:8c7a6e5c-2c0e-473c-a2c4-4062964bb416\" xlink:show=\"new\" xlink:title=\"psysml:8c7a6e5c-2c0e-473c-a2c4-4062964bb416\" xlink:type=\"simple\"><path d=\"M185.45,299.06 C196.18,311.88 209.99,328.39 222.4,343.22 \" fill=\"none\" id=\"E10-&gt;E2\" style=\"stroke: #A80036; stroke-width: 1.0;\"/><polygon fill=\"#FFFFFF\" points=\"235.58,358.98,218.0168,348.9036,228.7522,339.9174,235.58,358.98\" style=\"stroke: #A80036; stroke-width: 1.0;\"/><ellipse cx=\"215.8918\" cy=\"343.249\" fill=\"#A80036\" rx=\"2\" ry=\"2\" style=\"stroke: #A80036; stroke-width: 1.0;\"/><ellipse cx=\"223.5599\" cy=\"336.8303\" fill=\"#A80036\" rx=\"2\" ry=\"2\" style=\"stroke: #A80036; stroke-width: 1.0;\"/></a><!--MD5=[1fc04a95fd77ad5ce46c1a3027516051]\n",
       "reverse link E9 to E11--><a href=\"psysml:05b52cb0-1bec-4ecb-a4ba-b6e0a5fd36fa\" target=\"_top\" title=\"psysml:05b52cb0-1bec-4ecb-a4ba-b6e0a5fd36fa\" xlink:actuate=\"onRequest\" xlink:href=\"psysml:05b52cb0-1bec-4ecb-a4ba-b6e0a5fd36fa\" xlink:show=\"new\" xlink:title=\"psysml:05b52cb0-1bec-4ecb-a4ba-b6e0a5fd36fa\" xlink:type=\"simple\"><path d=\"M211.34,205.03 C219.37,220.78 228.68,239.06 235.78,252.98 \" fill=\"none\" id=\"E9&lt;-E11\" style=\"stroke: #A80036; stroke-width: 1.0;\"/><polygon fill=\"#FFFFFF\" points=\"205.24,193.06,204.3983,200.2218,210.6855,203.7533,211.5272,196.5915,205.24,193.06\" style=\"stroke: #A80036; stroke-width: 1.0;\"/><text fill=\"#000000\" font-family=\"sans-serif\" font-size=\"13\" lengthAdjust=\"spacingAndGlyphs\" textLength=\"8\" x=\"223.6896\" y=\"241.8709\">1</text></a><!--MD5=[062ed86c389d1a88f61c6380d0491e17]\n",
       "reverse link E12 to E13--><a href=\"psysml:2ea9f126-2045-475e-98b2-0bebbeaf39ba\" target=\"_top\" title=\"psysml:2ea9f126-2045-475e-98b2-0bebbeaf39ba\" xlink:actuate=\"onRequest\" xlink:href=\"psysml:2ea9f126-2045-475e-98b2-0bebbeaf39ba\" xlink:show=\"new\" xlink:title=\"psysml:2ea9f126-2045-475e-98b2-0bebbeaf39ba\" xlink:type=\"simple\"><path d=\"M80,100.44 C80,115.87 80,133.47 80,146.98 \" fill=\"none\" id=\"E12&lt;-E13\" style=\"stroke: #A80036; stroke-width: 1.0;\"/><polygon fill=\"#A80036\" points=\"80,87.06,76,93.06,80,99.06,84,93.06,80,87.06\" style=\"stroke: #A80036; stroke-width: 1.0;\"/><text fill=\"#000000\" font-family=\"sans-serif\" font-size=\"13\" lengthAdjust=\"spacingAndGlyphs\" textLength=\"8\" x=\"70.925\" y=\"135.8709\">1</text></a><!--MD5=[01db00f33b28669d6d9febea71002831]\n",
       "reverse link E13 to E14--><a href=\"psysml:56644651-1cff-4e4b-add6-5aaf4cbf3323\" target=\"_top\" title=\"psysml:56644651-1cff-4e4b-add6-5aaf4cbf3323\" xlink:actuate=\"onRequest\" xlink:href=\"psysml:56644651-1cff-4e4b-add6-5aaf4cbf3323\" xlink:show=\"new\" xlink:title=\"psysml:56644651-1cff-4e4b-add6-5aaf4cbf3323\" xlink:type=\"simple\"><path d=\"M83.41,206.44 C84.89,221.87 86.58,239.47 87.88,252.98 \" fill=\"none\" id=\"E13&lt;-E14\" style=\"stroke: #A80036; stroke-width: 1.0;\"/><polygon fill=\"#FFFFFF\" points=\"82.12,193.06,78.7125,199.4152,83.2683,205.0049,86.6758,198.6497,82.12,193.06\" style=\"stroke: #A80036; stroke-width: 1.0;\"/><text fill=\"#000000\" font-family=\"sans-serif\" font-size=\"13\" lengthAdjust=\"spacingAndGlyphs\" textLength=\"8\" x=\"78.2353\" y=\"241.8709\">1</text></a><!--MD5=[e5566ac99d7714697a7fbc17f6b550fe]\n",
       "link E14 to E2--><a href=\"psysml:004f1bd4-f46a-4fc3-b446-5abbd305cc50\" target=\"_top\" title=\"psysml:004f1bd4-f46a-4fc3-b446-5abbd305cc50\" xlink:actuate=\"onRequest\" xlink:href=\"psysml:004f1bd4-f46a-4fc3-b446-5abbd305cc50\" xlink:show=\"new\" xlink:title=\"psysml:004f1bd4-f46a-4fc3-b446-5abbd305cc50\" xlink:type=\"simple\"><path d=\"M111.1,290.38 C134.32,305.1 172.45,329.29 203.49,348.97 \" fill=\"none\" id=\"E14-&gt;E2\" style=\"stroke: #A80036; stroke-width: 1.0;\"/><polygon fill=\"#FFFFFF\" points=\"220.77,359.93,200.9767,355.661,208.4774,343.8399,220.77,359.93\" style=\"stroke: #A80036; stroke-width: 1.0;\"/><ellipse cx=\"197.2353\" cy=\"350.9184\" fill=\"#A80036\" rx=\"2\" ry=\"2\" style=\"stroke: #A80036; stroke-width: 1.0;\"/><ellipse cx=\"202.593\" cy=\"342.4748\" fill=\"#A80036\" rx=\"2\" ry=\"2\" style=\"stroke: #A80036; stroke-width: 1.0;\"/></a><!--MD5=[e9a5e828c71fd2209a11a152f562d491]\n",
       "reverse link E13 to E15--><a href=\"psysml:439c4bcd-5bf6-4395-bbdb-0df2330c2504\" target=\"_top\" title=\"psysml:439c4bcd-5bf6-4395-bbdb-0df2330c2504\" xlink:actuate=\"onRequest\" xlink:href=\"psysml:439c4bcd-5bf6-4395-bbdb-0df2330c2504\" xlink:show=\"new\" xlink:title=\"psysml:439c4bcd-5bf6-4395-bbdb-0df2330c2504\" xlink:type=\"simple\"><path d=\"M64.33,205.31 C54.54,231.09 45,267.26 52,299 C56.73,320.45 67.65,342.96 76.58,358.96 \" fill=\"none\" id=\"E13&lt;-E15\" style=\"stroke: #A80036; stroke-width: 1.0;\"/><polygon fill=\"#FFFFFF\" points=\"69.24,193.2,63.2795,197.2586,64.7334,204.3216,70.6939,200.263,69.24,193.2\" style=\"stroke: #A80036; stroke-width: 1.0;\"/><text fill=\"#000000\" font-family=\"sans-serif\" font-size=\"13\" lengthAdjust=\"spacingAndGlyphs\" textLength=\"8\" x=\"63.8984\" y=\"347.8455\">1</text></a><!--MD5=[3afbdc645381407e1bc99677323a2513]\n",
       "link E14 to E15--><a href=\"psysml:356465e0-8362-42f7-8017-4c1d57dccd42\" target=\"_top\" title=\"psysml:356465e0-8362-42f7-8017-4c1d57dccd42\" xlink:actuate=\"onRequest\" xlink:href=\"psysml:356465e0-8362-42f7-8017-4c1d57dccd42\" xlink:show=\"new\" xlink:title=\"psysml:356465e0-8362-42f7-8017-4c1d57dccd42\" xlink:type=\"simple\"><path d=\"M79.35,299.06 C76.55,316.7 76.55,341.34 79.36,358.98 \" fill=\"none\" id=\"E14-E15\" style=\"stroke: #A80036; stroke-width: 3.0;\"/></a><!--MD5=[3afbdc645381407e1bc99677323a2513]\n",
       "link E14 to E15--><a href=\"psysml:be002053-3eab-4239-b4ec-f62d8ddd6fa6\" target=\"_top\" title=\"psysml:be002053-3eab-4239-b4ec-f62d8ddd6fa6\" xlink:actuate=\"onRequest\" xlink:href=\"psysml:be002053-3eab-4239-b4ec-f62d8ddd6fa6\" xlink:show=\"new\" xlink:title=\"psysml:be002053-3eab-4239-b4ec-f62d8ddd6fa6\" xlink:type=\"simple\"><path d=\"M101.27,299.06 C104.24,316.7 104.24,341.34 101.27,358.98 \" fill=\"none\" id=\"E14-E15-1\" style=\"stroke: #A80036; stroke-width: 3.0;\"/></a><!--MD5=[a44188c92afb4aaae13fd9d48e0114ac]\n",
       "@startuml\r\n",
       "skinparam wrapWidth 300\r\n",
       "hide circle\r\n",
       "\r\n",
       "package \"ConjugationTest\" as E1  [[psysml:811d2e93-771a-4206-9534-119b2782ed8b ]]  {\r\n",
       "comp def \"P\" as E2  <<(T,blue) port def>> [[psysml:a118eece-ff6c-41b4-a8ec-63007fd81e06 ]] {\r\n",
       "}\r\n",
       "comp def \"B\" as E3  <<(T,blue) part def>> [[psysml:45f3428f-90c5-481c-8b5b-6d42a9c9ecb4 ]] {\r\n",
       "}\r\n",
       "comp usage \"p1: P\" as E4  <<(T,blue) port>> [[psysml:f10162e3-9121-4423-8c61-28bf75aadc9a ]] {\r\n",
       "}\r\n",
       "comp usage \"p2: ~P\" as E5  <<(T,blue) port>> [[psysml:f793b08e-b132-4869-8396-6344384571c9 ]] {\r\n",
       "}\r\n",
       "comp def \"A\" as E6  <<(T,blue) connection def>> [[psysml:1e44cf6a-fe6c-483a-98ee-7c5816e24c4f ]] {\r\n",
       "}\r\n",
       "comp usage \"p1: P\" as E7  <<(T,blue) port>> [[psysml:592da980-ebcc-4bfb-b89f-9a898fd7b408 ]] {\r\n",
       "}\r\n",
       "comp usage \"p2: ~P\" as E8  <<(T,blue) port>> [[psysml:4730362b-6892-4b61-8b08-4b1eb3a58a19 ]] {\r\n",
       "}\r\n",
       "comp def \"I\" as E9  <<(T,blue) interface def>> [[psysml:c589f335-4cab-4324-b073-03ca89b55f7d ]] {\r\n",
       "}\r\n",
       "comp usage \"p1: P\" as E10  <<(T,blue) port>> [[psysml:0a18d135-3a15-4f1e-a48b-3983b85e55aa ]] {\r\n",
       "}\r\n",
       "comp usage \"p2: ~P\" as E11  <<(T,blue) port>> [[psysml:f0ebefc1-580e-4b11-b9cf-e3cb40b874a3 ]] {\r\n",
       "}\r\n",
       "comp def \"B1\" as E12  <<(T,blue) part def>> [[psysml:99d6c811-1239-4557-8bf5-512a2d9b51f5 ]] {\r\n",
       "}\r\n",
       "comp usage \"p\" as E13  <<(T,blue) part>> [[psysml:c80e6282-4b88-42a6-beea-d83b68d36327 ]] {\r\n",
       "}\r\n",
       "comp usage \"p1: P\" as E14  <<(T,blue) port>> [[psysml:36fdd18b-cc96-4106-b803-027f179d9fab ]] {\r\n",
       "}\r\n",
       "comp usage \"p2: ~P\" as E15  <<(T,blue) port>> [[psysml:a04d4130-2616-430e-82e5-4df6c3f344d5 ]] {\r\n",
       "}\r\n",
       "}\r\n",
       "E3 o- - \"1\"E4 [[psysml:478537c4-9aea-45e7-93bf-51b2f99f76d0 ]] \r\n",
       "E4 - -:|> E2 [[psysml:9a27f54b-62e8-4ed3-8ffb-179b9354440f ]] \r\n",
       "E3 o- - \"1\"E5 [[psysml:0c237cb0-b529-413c-8aaf-d2f6ce3a1092 ]] \r\n",
       "E6 o- - \"1\"E7 [[psysml:b94a6cc2-6585-4221-b4bd-c6e1360a7593 ]] \r\n",
       "E7 - -:|> E2 [[psysml:6c7ecdb4-3704-4141-b5eb-90be274661d4 ]] \r\n",
       "E6 o- - \"1\"E8 [[psysml:c893fa2e-0043-44e8-be45-2077001790d0 ]] \r\n",
       "E9 o- - \"1\"E10 [[psysml:3723b58c-a4dd-4ef3-9a79-2a659572d83c ]] \r\n",
       "E10 - -:|> E2 [[psysml:8c7a6e5c-2c0e-473c-a2c4-4062964bb416 ]] \r\n",
       "E9 o- - \"1\"E11 [[psysml:05b52cb0-1bec-4ecb-a4ba-b6e0a5fd36fa ]] \r\n",
       "E12 *- - \"1\"E13 [[psysml:2ea9f126-2045-475e-98b2-0bebbeaf39ba ]] \r\n",
       "E13 o- - \"1\"E14 [[psysml:56644651-1cff-4e4b-add6-5aaf4cbf3323 ]] \r\n",
       "E14 - -:|> E2 [[psysml:004f1bd4-f46a-4fc3-b446-5abbd305cc50 ]] \r\n",
       "E13 o- - \"1\"E15 [[psysml:439c4bcd-5bf6-4395-bbdb-0df2330c2504 ]] \r\n",
       "E14 -[thickness=3]- E15 [[psysml:356465e0-8362-42f7-8017-4c1d57dccd42 ]] \r\n",
       "E14 -[thickness=3]- E15 [[psysml:be002053-3eab-4239-b4ec-f62d8ddd6fa6 ]] \r\n",
       "@enduml\r\n",
       "\n",
       "PlantUML version 1.2020.13(Sat Jun 13 12:26:38 UTC 2020)\n",
       "(EPL source distribution)\n",
       "Java Runtime: OpenJDK Runtime Environment\n",
       "JVM: OpenJDK 64-Bit Server VM\n",
       "Default Encoding: UTF-8\n",
       "Language: en\n",
       "Country: null\n",
       "--></g></svg>"
      ]
     },
     "execution_count": 24,
     "metadata": {},
     "output_type": "execute_result"
    }
   ],
   "source": [
    "%viz --style=\"STDCOLOR\" --view=\"Tree\" \"ConjugationTest\""
   ]
  },
  {
   "cell_type": "code",
   "execution_count": 25,
   "id": "316b4384",
   "metadata": {
    "execution": {
     "iopub.execute_input": "2021-10-03T08:28:06.756064Z",
     "iopub.status.busy": "2021-10-03T08:28:06.755643Z",
     "iopub.status.idle": "2021-10-03T08:28:06.760807Z",
     "shell.execute_reply": "2021-10-03T08:28:06.761131Z"
    }
   },
   "outputs": [
    {
     "data": {
      "image/svg+xml": [
       "<?xml version=\"1.0\" encoding=\"UTF-8\" standalone=\"no\"?><svg xmlns=\"http://www.w3.org/2000/svg\" xmlns:xlink=\"http://www.w3.org/1999/xlink\" contentScriptType=\"application/ecmascript\" contentStyleType=\"text/css\" height=\"12px\" preserveAspectRatio=\"none\" style=\"width:12px;height:12px;\" version=\"1.1\" viewBox=\"0 0 12 12\" width=\"12px\" zoomAndPan=\"magnify\"><defs/><g><!--MD5=[aeeef50f102b80d730deb6443d14f702]\n",
       "@startuml\r\n",
       "skinparam wrapWidth 300\r\n",
       "hide circle\r\n",
       "\r\n",
       "@enduml\r\n",
       "\n",
       "PlantUML version 1.2020.13(Sat Jun 13 12:26:38 UTC 2020)\n",
       "(EPL source distribution)\n",
       "Java Runtime: OpenJDK Runtime Environment\n",
       "JVM: OpenJDK 64-Bit Server VM\n",
       "Default Encoding: UTF-8\n",
       "Language: en\n",
       "Country: null\n",
       "--></g></svg>"
      ]
     },
     "execution_count": 25,
     "metadata": {},
     "output_type": "execute_result"
    }
   ],
   "source": [
    "%viz --style=\"STDCOLOR\" --view=\"State\" \"ConjugationTest\""
   ]
  },
  {
   "cell_type": "code",
   "execution_count": 26,
   "id": "35b80812",
   "metadata": {
    "execution": {
     "iopub.execute_input": "2021-10-03T08:28:06.810696Z",
     "iopub.status.busy": "2021-10-03T08:28:06.810288Z",
     "iopub.status.idle": "2021-10-03T08:28:06.876168Z",
     "shell.execute_reply": "2021-10-03T08:28:06.874277Z"
    }
   },
   "outputs": [
    {
     "data": {
      "image/svg+xml": [
       "<?xml version=\"1.0\" encoding=\"UTF-8\" standalone=\"no\"?><svg xmlns=\"http://www.w3.org/2000/svg\" xmlns:xlink=\"http://www.w3.org/1999/xlink\" contentScriptType=\"application/ecmascript\" contentStyleType=\"text/css\" height=\"246px\" preserveAspectRatio=\"none\" style=\"width:739px;height:246px;\" version=\"1.1\" viewBox=\"0 0 739 246\" width=\"739px\" zoomAndPan=\"magnify\"><defs><filter height=\"300%\" id=\"f13u2je6yvh32n\" width=\"300%\" x=\"-1\" y=\"-1\"><feGaussianBlur result=\"blurOut\" stdDeviation=\"2.0\"/><feColorMatrix in=\"blurOut\" result=\"blurOut2\" type=\"matrix\" values=\"0 0 0 0 0 0 0 0 0 0 0 0 0 0 0 0 0 0 .4 0\"/><feOffset dx=\"4.0\" dy=\"4.0\" in=\"blurOut2\" result=\"blurOut3\"/><feBlend in=\"SourceGraphic\" in2=\"blurOut3\" mode=\"normal\"/></filter></defs><g><!--MD5=[fbc87193dbaf4d95561dea2c320d4a47]\n",
       "cluster E1--><a href=\"psysml:811d2e93-771a-4206-9534-119b2782ed8b\" target=\"_top\" title=\"psysml:811d2e93-771a-4206-9534-119b2782ed8b\" xlink:actuate=\"onRequest\" xlink:href=\"psysml:811d2e93-771a-4206-9534-119b2782ed8b\" xlink:show=\"new\" xlink:title=\"psysml:811d2e93-771a-4206-9534-119b2782ed8b\" xlink:type=\"simple\"><polygon fill=\"#FFFFFF\" filter=\"url(#f13u2je6yvh32n)\" points=\"16,6,136,6,143,28.2969,717,28.2969,717,234.5,16,234.5,16,6\" style=\"stroke: #000000; stroke-width: 1.5;\"/><line style=\"stroke: #000000; stroke-width: 1.5;\" x1=\"16\" x2=\"143\" y1=\"28.2969\" y2=\"28.2969\"/><text fill=\"#000000\" font-family=\"sans-serif\" font-size=\"14\" font-weight=\"bold\" lengthAdjust=\"spacingAndGlyphs\" textLength=\"114\" x=\"20\" y=\"20.9951\">ConjugationTest</text></a><!--MD5=[d5e69f78d87373223dbae638b30a9c99]\n",
       "cluster E3--><a href=\"psysml:45f3428f-90c5-481c-8b5b-6d42a9c9ecb4\" target=\"_top\" title=\"psysml:45f3428f-90c5-481c-8b5b-6d42a9c9ecb4\" xlink:actuate=\"onRequest\" xlink:href=\"psysml:45f3428f-90c5-481c-8b5b-6d42a9c9ecb4\" xlink:show=\"new\" xlink:title=\"psysml:45f3428f-90c5-481c-8b5b-6d42a9c9ecb4\" xlink:type=\"simple\"><rect fill=\"#FFFFFF\" filter=\"url(#f13u2je6yvh32n)\" height=\"88.5\" id=\"E3\" style=\"stroke: #A80036; stroke-width: 1.5;\" width=\"83\" x=\"577\" y=\"114\"/><rect fill=\"#FEFECE\" height=\"37.9375\" style=\"stroke: #A80036; stroke-width: 1.5;\" width=\"83\" x=\"577\" y=\"114\"/><text fill=\"#000000\" font-family=\"sans-serif\" font-size=\"12\" font-style=\"italic\" lengthAdjust=\"spacingAndGlyphs\" textLength=\"64\" x=\"586.5\" y=\"130.1387\">«part def»</text><text fill=\"#000000\" font-family=\"sans-serif\" font-size=\"12\" lengthAdjust=\"spacingAndGlyphs\" textLength=\"8\" x=\"614.5\" y=\"144.1074\">B</text></a><!--MD5=[14e3b0961a2654348d326746436168a1]\n",
       "cluster E6--><a href=\"psysml:1e44cf6a-fe6c-483a-98ee-7c5816e24c4f\" target=\"_top\" title=\"psysml:1e44cf6a-fe6c-483a-98ee-7c5816e24c4f\" xlink:actuate=\"onRequest\" xlink:href=\"psysml:1e44cf6a-fe6c-483a-98ee-7c5816e24c4f\" xlink:show=\"new\" xlink:title=\"psysml:1e44cf6a-fe6c-483a-98ee-7c5816e24c4f\" xlink:type=\"simple\"><rect fill=\"#FFFFFF\" filter=\"url(#f13u2je6yvh32n)\" height=\"88.5\" id=\"E6\" style=\"stroke: #A80036; stroke-width: 1.5;\" width=\"150\" x=\"423\" y=\"114\"/><rect fill=\"#FEFECE\" height=\"37.9375\" style=\"stroke: #A80036; stroke-width: 1.5;\" width=\"150\" x=\"423\" y=\"114\"/><text fill=\"#000000\" font-family=\"sans-serif\" font-size=\"12\" font-style=\"italic\" lengthAdjust=\"spacingAndGlyphs\" textLength=\"108\" x=\"444\" y=\"130.1387\">«connection def»</text><text fill=\"#000000\" font-family=\"sans-serif\" font-size=\"12\" lengthAdjust=\"spacingAndGlyphs\" textLength=\"8\" x=\"494\" y=\"144.1074\">A</text></a><!--MD5=[7f149f147074ac12df2cb0a7728a5fb0]\n",
       "cluster E9--><a href=\"psysml:c589f335-4cab-4324-b073-03ca89b55f7d\" target=\"_top\" title=\"psysml:c589f335-4cab-4324-b073-03ca89b55f7d\" xlink:actuate=\"onRequest\" xlink:href=\"psysml:c589f335-4cab-4324-b073-03ca89b55f7d\" xlink:show=\"new\" xlink:title=\"psysml:c589f335-4cab-4324-b073-03ca89b55f7d\" xlink:type=\"simple\"><rect fill=\"#FFFFFF\" filter=\"url(#f13u2je6yvh32n)\" height=\"88.5\" id=\"E9\" style=\"stroke: #A80036; stroke-width: 1.5;\" width=\"141\" x=\"254\" y=\"114\"/><rect fill=\"#FEFECE\" height=\"37.9375\" style=\"stroke: #A80036; stroke-width: 1.5;\" width=\"141\" x=\"254\" y=\"114\"/><text fill=\"#000000\" font-family=\"sans-serif\" font-size=\"12\" font-style=\"italic\" lengthAdjust=\"spacingAndGlyphs\" textLength=\"94\" x=\"277.5\" y=\"130.1387\">«interface def»</text><text fill=\"#000000\" font-family=\"sans-serif\" font-size=\"12\" lengthAdjust=\"spacingAndGlyphs\" textLength=\"3\" x=\"323\" y=\"144.1074\">I</text></a><!--MD5=[47bea60c1a0ac6c1143df232041969c0]\n",
       "cluster E12--><a href=\"psysml:99d6c811-1239-4557-8bf5-512a2d9b51f5\" target=\"_top\" title=\"psysml:99d6c811-1239-4557-8bf5-512a2d9b51f5\" xlink:actuate=\"onRequest\" xlink:href=\"psysml:99d6c811-1239-4557-8bf5-512a2d9b51f5\" xlink:show=\"new\" xlink:title=\"psysml:99d6c811-1239-4557-8bf5-512a2d9b51f5\" xlink:type=\"simple\"><rect fill=\"#FFFFFF\" filter=\"url(#f13u2je6yvh32n)\" height=\"161.5\" id=\"E12\" style=\"stroke: #A80036; stroke-width: 1.5;\" width=\"107\" x=\"120\" y=\"49\"/><rect fill=\"#FEFECE\" height=\"37.9375\" style=\"stroke: #A80036; stroke-width: 1.5;\" width=\"107\" x=\"120\" y=\"49\"/><text fill=\"#000000\" font-family=\"sans-serif\" font-size=\"12\" font-style=\"italic\" lengthAdjust=\"spacingAndGlyphs\" textLength=\"64\" x=\"141.5\" y=\"65.1387\">«part def»</text><text fill=\"#000000\" font-family=\"sans-serif\" font-size=\"12\" lengthAdjust=\"spacingAndGlyphs\" textLength=\"16\" x=\"165.5\" y=\"79.1074\">B1</text></a><!--MD5=[03104f77b71e2d8d3500c651e6e31181]\n",
       "cluster E13--><a href=\"psysml:c80e6282-4b88-42a6-beea-d83b68d36327\" target=\"_top\" title=\"psysml:c80e6282-4b88-42a6-beea-d83b68d36327\" xlink:actuate=\"onRequest\" xlink:href=\"psysml:c80e6282-4b88-42a6-beea-d83b68d36327\" xlink:show=\"new\" xlink:title=\"psysml:c80e6282-4b88-42a6-beea-d83b68d36327\" xlink:type=\"simple\"><rect fill=\"#FFFFFF\" filter=\"url(#f13u2je6yvh32n)\" height=\"80.5\" id=\"E13\" rx=\"10\" ry=\"10\" style=\"stroke: #A80036; stroke-width: 1.5;\" width=\"83\" x=\"132\" y=\"114\"/><rect fill=\"#FEFECE\" height=\"23.9688\" rx=\"10\" ry=\"10\" style=\"stroke: #FEFECE; stroke-width: 1.5;\" width=\"83\" x=\"132\" y=\"114\"/><rect fill=\"#FEFECE\" height=\"10\" style=\"stroke: #FEFECE; stroke-width: 1.5;\" width=\"83\" x=\"132\" y=\"127.9688\"/><rect fill=\"none\" height=\"80.5\" id=\"E13\" rx=\"10\" ry=\"10\" style=\"stroke: #A80036; stroke-width: 1.5;\" width=\"83\" x=\"132\" y=\"114\"/><text fill=\"#000000\" font-family=\"sans-serif\" font-size=\"12\" lengthAdjust=\"spacingAndGlyphs\" textLength=\"8\" x=\"169.5\" y=\"130.1387\">p</text><line style=\"stroke: #A80036; stroke-width: 1.0;\" x1=\"132\" x2=\"215\" y1=\"137.9688\" y2=\"137.9688\"/></a><g id=\"E1.E2\"><a href=\"psysml:a118eece-ff6c-41b4-a8ec-63007fd81e06\" target=\"_top\" title=\"psysml:a118eece-ff6c-41b4-a8ec-63007fd81e06\" xlink:actuate=\"onRequest\" xlink:href=\"psysml:a118eece-ff6c-41b4-a8ec-63007fd81e06\" xlink:show=\"new\" xlink:title=\"psysml:a118eece-ff6c-41b4-a8ec-63007fd81e06\" xlink:type=\"simple\"><rect fill=\"#FEFECE\" filter=\"url(#f13u2je6yvh32n)\" height=\"42.9375\" id=\"E2\" style=\"stroke: #A80036; stroke-width: 1.5;\" width=\"71\" x=\"32.5\" y=\"92.5\"/><text fill=\"#000000\" font-family=\"sans-serif\" font-size=\"12\" font-style=\"italic\" lengthAdjust=\"spacingAndGlyphs\" textLength=\"64\" x=\"36\" y=\"108.6387\">«port def»</text><text fill=\"#000000\" font-family=\"sans-serif\" font-size=\"12\" lengthAdjust=\"spacingAndGlyphs\" textLength=\"8\" x=\"64\" y=\"122.6074\">P</text></a></g><text fill=\"#000000\" font-family=\"sans-serif\" font-size=\"14\" lengthAdjust=\"spacingAndGlyphs\" textLength=\"36\" x=\"577\" y=\"92.6982\">p1: P</text><rect fill=\"#A80036\" height=\"12\" style=\"stroke: #FEFECE; stroke-width: 1.5;\" width=\"12\" x=\"589\" y=\"108\"/><text fill=\"#000000\" font-family=\"sans-serif\" font-size=\"14\" lengthAdjust=\"spacingAndGlyphs\" textLength=\"48\" x=\"618\" y=\"92.6982\">p2: ~P</text><rect fill=\"#A80036\" height=\"12\" style=\"stroke: #FEFECE; stroke-width: 1.5;\" width=\"12\" x=\"636\" y=\"108\"/><text fill=\"#000000\" font-family=\"sans-serif\" font-size=\"14\" lengthAdjust=\"spacingAndGlyphs\" textLength=\"36\" x=\"423\" y=\"92.6982\">p1: P</text><rect fill=\"#A80036\" height=\"12\" style=\"stroke: #FEFECE; stroke-width: 1.5;\" width=\"12\" x=\"435\" y=\"108\"/><text fill=\"#000000\" font-family=\"sans-serif\" font-size=\"14\" lengthAdjust=\"spacingAndGlyphs\" textLength=\"48\" x=\"464\" y=\"92.6982\">p2: ~P</text><rect fill=\"#A80036\" height=\"12\" style=\"stroke: #FEFECE; stroke-width: 1.5;\" width=\"12\" x=\"482\" y=\"108\"/><text fill=\"#000000\" font-family=\"sans-serif\" font-size=\"14\" lengthAdjust=\"spacingAndGlyphs\" textLength=\"36\" x=\"254\" y=\"92.6982\">p1: P</text><rect fill=\"#A80036\" height=\"12\" style=\"stroke: #FEFECE; stroke-width: 1.5;\" width=\"12\" x=\"266\" y=\"108\"/><text fill=\"#000000\" font-family=\"sans-serif\" font-size=\"14\" lengthAdjust=\"spacingAndGlyphs\" textLength=\"48\" x=\"295\" y=\"92.6982\">p2: ~P</text><rect fill=\"#A80036\" height=\"12\" style=\"stroke: #FEFECE; stroke-width: 1.5;\" width=\"12\" x=\"313\" y=\"108\"/><text fill=\"#000000\" font-family=\"sans-serif\" font-size=\"14\" lengthAdjust=\"spacingAndGlyphs\" textLength=\"36\" x=\"132\" y=\"92.6982\">p1: P</text><rect fill=\"#A80036\" height=\"12\" style=\"stroke: #FEFECE; stroke-width: 1.5;\" width=\"12\" x=\"144\" y=\"108\"/><text fill=\"#000000\" font-family=\"sans-serif\" font-size=\"14\" lengthAdjust=\"spacingAndGlyphs\" textLength=\"48\" x=\"173\" y=\"92.6982\">p2: ~P</text><rect fill=\"#A80036\" height=\"12\" style=\"stroke: #FEFECE; stroke-width: 1.5;\" width=\"12\" x=\"191\" y=\"108\"/><!--MD5=[3afbdc645381407e1bc99677323a2513]\n",
       "link E14 to E15--><a href=\"psysml:356465e0-8362-42f7-8017-4c1d57dccd42\" target=\"_top\" title=\"psysml:356465e0-8362-42f7-8017-4c1d57dccd42\" xlink:actuate=\"onRequest\" xlink:href=\"psysml:356465e0-8362-42f7-8017-4c1d57dccd42\" xlink:show=\"new\" xlink:title=\"psysml:356465e0-8362-42f7-8017-4c1d57dccd42\" xlink:type=\"simple\"><path d=\"M156.24,114 C167.81,114 179.38,114 190.95,114 \" fill=\"none\" id=\"E14-E15\" style=\"stroke: #A80036; stroke-width: 3.0;\"/></a><!--MD5=[3afbdc645381407e1bc99677323a2513]\n",
       "link E14 to E15--><a href=\"psysml:be002053-3eab-4239-b4ec-f62d8ddd6fa6\" target=\"_top\" title=\"psysml:be002053-3eab-4239-b4ec-f62d8ddd6fa6\" xlink:actuate=\"onRequest\" xlink:href=\"psysml:be002053-3eab-4239-b4ec-f62d8ddd6fa6\" xlink:show=\"new\" xlink:title=\"psysml:be002053-3eab-4239-b4ec-f62d8ddd6fa6\" xlink:type=\"simple\"><path d=\"M156.24,111.93 C167.81,108.67 179.38,108.69 190.95,111.98 \" fill=\"none\" id=\"E14-E15-1\" style=\"stroke: #A80036; stroke-width: 3.0;\"/></a><!--MD5=[fe7a0a26bd570d52cc3d352d69c57a2d]\n",
       "@startuml\r\n",
       "skinparam ranksep 10\r\n",
       "skinparam rectangle {\r\n",
       " backgroundColor<<block>> LightGreen\r\n",
       "}\r\n",
       "skinparam wrapWidth 300\r\n",
       "hide circle\r\n",
       "\r\n",
       "package \"ConjugationTest\" as E1  [[psysml:811d2e93-771a-4206-9534-119b2782ed8b ]]  {\r\n",
       "def \"P\" as E2  <<(T,blue) port def>> [[psysml:a118eece-ff6c-41b4-a8ec-63007fd81e06 ]] \r\n",
       "rec def \"B\" as E3  <<(T,blue) part def>> [[psysml:45f3428f-90c5-481c-8b5b-6d42a9c9ecb4 ]] {\r\n",
       "portin \"p1: P\" as E4  <<(T,blue) port>> [[psysml:f10162e3-9121-4423-8c61-28bf75aadc9a ]] \r\n",
       "portin \"p2: ~P\" as E5  <<(T,blue) port>> [[psysml:f793b08e-b132-4869-8396-6344384571c9 ]] \r\n",
       "}\r\n",
       "rec def \"A\" as E6  <<(T,blue) connection def>> [[psysml:1e44cf6a-fe6c-483a-98ee-7c5816e24c4f ]] {\r\n",
       "portin \"p1: P\" as E7  <<(T,blue) port>> [[psysml:592da980-ebcc-4bfb-b89f-9a898fd7b408 ]] \r\n",
       "portin \"p2: ~P\" as E8  <<(T,blue) port>> [[psysml:4730362b-6892-4b61-8b08-4b1eb3a58a19 ]] \r\n",
       "}\r\n",
       "rec def \"I\" as E9  <<(T,blue) interface def>> [[psysml:c589f335-4cab-4324-b073-03ca89b55f7d ]] {\r\n",
       "portin \"p1: P\" as E10  <<(T,blue) port>> [[psysml:0a18d135-3a15-4f1e-a48b-3983b85e55aa ]] \r\n",
       "portin \"p2: ~P\" as E11  <<(T,blue) port>> [[psysml:f0ebefc1-580e-4b11-b9cf-e3cb40b874a3 ]] \r\n",
       "}\r\n",
       "rec def \"B1\" as E12  <<(T,blue) part def>> [[psysml:99d6c811-1239-4557-8bf5-512a2d9b51f5 ]] {\r\n",
       "rec usage \"p\" as E13  [[psysml:c80e6282-4b88-42a6-beea-d83b68d36327 ]] {\r\n",
       "portin \"p1: P\" as E14  <<(T,blue) port>> [[psysml:36fdd18b-cc96-4106-b803-027f179d9fab ]] \r\n",
       "portin \"p2: ~P\" as E15  <<(T,blue) port>> [[psysml:a04d4130-2616-430e-82e5-4df6c3f344d5 ]] \r\n",
       "}\r\n",
       "}\r\n",
       "}\r\n",
       "E14 -[thickness=3]- E15 [[psysml:356465e0-8362-42f7-8017-4c1d57dccd42 ]] \r\n",
       "E14 -[thickness=3]- E15 [[psysml:be002053-3eab-4239-b4ec-f62d8ddd6fa6 ]] \r\n",
       "@enduml\r\n",
       "\n",
       "PlantUML version 1.2020.13(Sat Jun 13 12:26:38 UTC 2020)\n",
       "(EPL source distribution)\n",
       "Java Runtime: OpenJDK Runtime Environment\n",
       "JVM: OpenJDK 64-Bit Server VM\n",
       "Default Encoding: UTF-8\n",
       "Language: en\n",
       "Country: null\n",
       "--></g></svg>"
      ]
     },
     "execution_count": 26,
     "metadata": {},
     "output_type": "execute_result"
    }
   ],
   "source": [
    "%viz --style=\"STDCOLOR\" --view=\"Interconnection\" \"ConjugationTest\""
   ]
  },
  {
   "cell_type": "code",
   "execution_count": 27,
   "id": "3141d061",
   "metadata": {
    "execution": {
     "iopub.execute_input": "2021-10-03T08:28:06.925499Z",
     "iopub.status.busy": "2021-10-03T08:28:06.925081Z",
     "iopub.status.idle": "2021-10-03T08:28:06.930231Z",
     "shell.execute_reply": "2021-10-03T08:28:06.930551Z"
    }
   },
   "outputs": [
    {
     "data": {
      "image/svg+xml": [
       "<?xml version=\"1.0\" encoding=\"UTF-8\" standalone=\"no\"?><svg xmlns=\"http://www.w3.org/2000/svg\" xmlns:xlink=\"http://www.w3.org/1999/xlink\" contentScriptType=\"application/ecmascript\" contentStyleType=\"text/css\" height=\"12px\" preserveAspectRatio=\"none\" style=\"width:12px;height:12px;\" version=\"1.1\" viewBox=\"0 0 12 12\" width=\"12px\" zoomAndPan=\"magnify\"><defs/><g><!--MD5=[9863325348a96a77dacc89509d8ee65e]\n",
       "@startuml\r\n",
       "skinparam ranksep 8\r\n",
       "skinparam wrapWidth 300\r\n",
       "hide circle\r\n",
       "\r\n",
       "@enduml\r\n",
       "\n",
       "PlantUML version 1.2020.13(Sat Jun 13 12:26:38 UTC 2020)\n",
       "(EPL source distribution)\n",
       "Java Runtime: OpenJDK Runtime Environment\n",
       "JVM: OpenJDK 64-Bit Server VM\n",
       "Default Encoding: UTF-8\n",
       "Language: en\n",
       "Country: null\n",
       "--></g></svg>"
      ]
     },
     "execution_count": 27,
     "metadata": {},
     "output_type": "execute_result"
    }
   ],
   "source": [
    "%viz --style=\"STDCOLOR\" --view=\"Action\" \"ConjugationTest\""
   ]
  },
  {
   "cell_type": "code",
   "execution_count": 28,
   "id": "6a8adcc1",
   "metadata": {
    "execution": {
     "iopub.execute_input": "2021-10-03T08:28:06.980143Z",
     "iopub.status.busy": "2021-10-03T08:28:06.979731Z",
     "iopub.status.idle": "2021-10-03T08:28:06.985204Z",
     "shell.execute_reply": "2021-10-03T08:28:06.984851Z"
    }
   },
   "outputs": [
    {
     "data": {
      "image/svg+xml": [
       "<?xml version=\"1.0\" encoding=\"UTF-8\" standalone=\"no\"?><svg xmlns=\"http://www.w3.org/2000/svg\" xmlns:xlink=\"http://www.w3.org/1999/xlink\" contentScriptType=\"application/ecmascript\" contentStyleType=\"text/css\" height=\"12px\" preserveAspectRatio=\"none\" style=\"width:12px;height:12px;\" version=\"1.1\" viewBox=\"0 0 12 12\" width=\"12px\" zoomAndPan=\"magnify\"><defs/><g><!--MD5=[6c4bca67b4d71758159a5a7f1f1e1fc2]\n",
       "@startuml\r\n",
       "skinparam roundcorner 20\r\n",
       "skinparam BoxPadding 20\r\n",
       "skinparam SequenceBoxBackgroundColor #white\r\n",
       "skinparam style strictuml\r\n",
       "skinparam maxMessageSize 100\r\n",
       "skinparam wrapWidth 300\r\n",
       "hide circle\r\n",
       "\r\n",
       "@enduml\r\n",
       "\n",
       "PlantUML version 1.2020.13(Sat Jun 13 12:26:38 UTC 2020)\n",
       "(EPL source distribution)\n",
       "Java Runtime: OpenJDK Runtime Environment\n",
       "JVM: OpenJDK 64-Bit Server VM\n",
       "Default Encoding: UTF-8\n",
       "Language: en\n",
       "Country: null\n",
       "--></g></svg>"
      ]
     },
     "execution_count": 28,
     "metadata": {},
     "output_type": "execute_result"
    }
   ],
   "source": [
    "%viz --style=\"STDCOLOR\" --view=\"Sequence\" \"ConjugationTest\""
   ]
  },
  {
   "cell_type": "code",
   "execution_count": 29,
   "id": "e7640f09",
   "metadata": {
    "execution": {
     "iopub.execute_input": "2021-10-03T08:28:07.034736Z",
     "iopub.status.busy": "2021-10-03T08:28:07.034338Z",
     "iopub.status.idle": "2021-10-03T08:28:07.091002Z",
     "shell.execute_reply": "2021-10-03T08:28:07.090640Z"
    }
   },
   "outputs": [
    {
     "data": {
      "image/svg+xml": [
       "<?xml version=\"1.0\" encoding=\"UTF-8\" standalone=\"no\"?><svg xmlns=\"http://www.w3.org/2000/svg\" xmlns:xlink=\"http://www.w3.org/1999/xlink\" contentScriptType=\"application/ecmascript\" contentStyleType=\"text/css\" height=\"433px\" preserveAspectRatio=\"none\" style=\"width:629px;height:433px;\" version=\"1.1\" viewBox=\"0 0 629 433\" width=\"629px\" zoomAndPan=\"magnify\"><defs><filter height=\"300%\" id=\"fcipsaxuo4sht\" width=\"300%\" x=\"-1\" y=\"-1\"><feGaussianBlur result=\"blurOut\" stdDeviation=\"2.0\"/><feColorMatrix in=\"blurOut\" result=\"blurOut2\" type=\"matrix\" values=\"0 0 0 0 0 0 0 0 0 0 0 0 0 0 0 0 0 0 .4 0\"/><feOffset dx=\"4.0\" dy=\"4.0\" in=\"blurOut2\" result=\"blurOut3\"/><feBlend in=\"SourceGraphic\" in2=\"blurOut3\" mode=\"normal\"/></filter></defs><g><!--MD5=[fbc87193dbaf4d95561dea2c320d4a47]\n",
       "cluster E1--><a href=\"psysml:811d2e93-771a-4206-9534-119b2782ed8b\" target=\"_top\" title=\"psysml:811d2e93-771a-4206-9534-119b2782ed8b\" xlink:actuate=\"onRequest\" xlink:href=\"psysml:811d2e93-771a-4206-9534-119b2782ed8b\" xlink:show=\"new\" xlink:title=\"psysml:811d2e93-771a-4206-9534-119b2782ed8b\" xlink:type=\"simple\"><polygon fill=\"#FFFFFF\" filter=\"url(#fcipsaxuo4sht)\" points=\"16,6,136,6,143,28.2969,607,28.2969,607,421,16,421,16,6\" style=\"stroke: #000000; stroke-width: 1.5;\"/><line style=\"stroke: #000000; stroke-width: 1.5;\" x1=\"16\" x2=\"143\" y1=\"28.2969\" y2=\"28.2969\"/><text fill=\"#000000\" font-family=\"sans-serif\" font-size=\"14\" font-weight=\"bold\" lengthAdjust=\"spacingAndGlyphs\" textLength=\"114\" x=\"20\" y=\"20.9951\">ConjugationTest</text></a><!--MD5=[b4997ac47864f28c2f74865a473b2911]\n",
       "class E2--><a href=\"psysml:a118eece-ff6c-41b4-a8ec-63007fd81e06\" target=\"_top\" title=\"psysml:a118eece-ff6c-41b4-a8ec-63007fd81e06\" xlink:actuate=\"onRequest\" xlink:href=\"psysml:a118eece-ff6c-41b4-a8ec-63007fd81e06\" xlink:show=\"new\" xlink:title=\"psysml:a118eece-ff6c-41b4-a8ec-63007fd81e06\" xlink:type=\"simple\"><rect fill=\"#FEFECE\" filter=\"url(#fcipsaxuo4sht)\" height=\"45.9375\" id=\"E2\" style=\"stroke: #A80036; stroke-width: 1.5;\" width=\"66\" x=\"221\" y=\"359\"/><text fill=\"#000000\" font-family=\"sans-serif\" font-size=\"12\" font-style=\"italic\" lengthAdjust=\"spacingAndGlyphs\" textLength=\"64\" x=\"222\" y=\"375.1387\">«port def»</text><text fill=\"#000000\" font-family=\"sans-serif\" font-size=\"12\" lengthAdjust=\"spacingAndGlyphs\" textLength=\"8\" x=\"250\" y=\"389.1074\">P</text><line style=\"stroke: #A80036; stroke-width: 1.5;\" x1=\"222\" x2=\"286\" y1=\"396.9375\" y2=\"396.9375\"/></a><!--MD5=[09b614a08d8cba4a07c9adeb5e0fee81]\n",
       "class E3--><a href=\"psysml:45f3428f-90c5-481c-8b5b-6d42a9c9ecb4\" target=\"_top\" title=\"psysml:45f3428f-90c5-481c-8b5b-6d42a9c9ecb4\" xlink:actuate=\"onRequest\" xlink:href=\"psysml:45f3428f-90c5-481c-8b5b-6d42a9c9ecb4\" xlink:show=\"new\" xlink:title=\"psysml:45f3428f-90c5-481c-8b5b-6d42a9c9ecb4\" xlink:type=\"simple\"><rect fill=\"#FEFECE\" filter=\"url(#fcipsaxuo4sht)\" height=\"45.9375\" id=\"E3\" style=\"stroke: #A80036; stroke-width: 1.5;\" width=\"66\" x=\"489\" y=\"147\"/><text fill=\"#000000\" font-family=\"sans-serif\" font-size=\"12\" font-style=\"italic\" lengthAdjust=\"spacingAndGlyphs\" textLength=\"64\" x=\"490\" y=\"163.1387\">«part def»</text><text fill=\"#000000\" font-family=\"sans-serif\" font-size=\"12\" lengthAdjust=\"spacingAndGlyphs\" textLength=\"8\" x=\"518\" y=\"177.1074\">B</text><line style=\"stroke: #A80036; stroke-width: 1.5;\" x1=\"490\" x2=\"554\" y1=\"184.9375\" y2=\"184.9375\"/></a><!--MD5=[ebbe1d658d1005bcc118a6aa81145e00]\n",
       "class E4--><a href=\"psysml:f10162e3-9121-4423-8c61-28bf75aadc9a\" target=\"_top\" title=\"psysml:f10162e3-9121-4423-8c61-28bf75aadc9a\" xlink:actuate=\"onRequest\" xlink:href=\"psysml:f10162e3-9121-4423-8c61-28bf75aadc9a\" xlink:show=\"new\" xlink:title=\"psysml:f10162e3-9121-4423-8c61-28bf75aadc9a\" xlink:type=\"simple\"><rect fill=\"#FEFECE\" filter=\"url(#fcipsaxuo4sht)\" height=\"45.9375\" id=\"E4\" rx=\"10\" ry=\"10\" style=\"stroke: #A80036; stroke-width: 1.5;\" width=\"42\" x=\"466\" y=\"253\"/><text fill=\"#000000\" font-family=\"sans-serif\" font-size=\"12\" font-style=\"italic\" lengthAdjust=\"spacingAndGlyphs\" textLength=\"40\" x=\"467\" y=\"269.1387\">«port»</text><text fill=\"#000000\" font-family=\"sans-serif\" font-size=\"12\" lengthAdjust=\"spacingAndGlyphs\" textLength=\"32\" x=\"471\" y=\"283.1074\">p1: P</text><line style=\"stroke: #A80036; stroke-width: 1.5;\" x1=\"467\" x2=\"507\" y1=\"290.9375\" y2=\"290.9375\"/></a><!--MD5=[270fce915f116d4de14055a7c1d9a0f3]\n",
       "class E5--><a href=\"psysml:f793b08e-b132-4869-8396-6344384571c9\" target=\"_top\" title=\"psysml:f793b08e-b132-4869-8396-6344384571c9\" xlink:actuate=\"onRequest\" xlink:href=\"psysml:f793b08e-b132-4869-8396-6344384571c9\" xlink:show=\"new\" xlink:title=\"psysml:f793b08e-b132-4869-8396-6344384571c9\" xlink:type=\"simple\"><rect fill=\"#FEFECE\" filter=\"url(#fcipsaxuo4sht)\" height=\"45.9375\" id=\"E5\" rx=\"10\" ry=\"10\" style=\"stroke: #A80036; stroke-width: 1.5;\" width=\"48\" x=\"543\" y=\"253\"/><text fill=\"#000000\" font-family=\"sans-serif\" font-size=\"12\" font-style=\"italic\" lengthAdjust=\"spacingAndGlyphs\" textLength=\"40\" x=\"547\" y=\"269.1387\">«port»</text><text fill=\"#000000\" font-family=\"sans-serif\" font-size=\"12\" lengthAdjust=\"spacingAndGlyphs\" textLength=\"42\" x=\"546\" y=\"283.1074\">p2: ~P</text><line style=\"stroke: #A80036; stroke-width: 1.5;\" x1=\"544\" x2=\"590\" y1=\"290.9375\" y2=\"290.9375\"/></a><!--MD5=[60a26617385b1d2d0262a64233df1f8d]\n",
       "class E6--><a href=\"psysml:1e44cf6a-fe6c-483a-98ee-7c5816e24c4f\" target=\"_top\" title=\"psysml:1e44cf6a-fe6c-483a-98ee-7c5816e24c4f\" xlink:actuate=\"onRequest\" xlink:href=\"psysml:1e44cf6a-fe6c-483a-98ee-7c5816e24c4f\" xlink:show=\"new\" xlink:title=\"psysml:1e44cf6a-fe6c-483a-98ee-7c5816e24c4f\" xlink:type=\"simple\"><rect fill=\"#FEFECE\" filter=\"url(#fcipsaxuo4sht)\" height=\"45.9375\" id=\"E6\" style=\"stroke: #A80036; stroke-width: 1.5;\" width=\"110\" x=\"282\" y=\"147\"/><text fill=\"#000000\" font-family=\"sans-serif\" font-size=\"12\" font-style=\"italic\" lengthAdjust=\"spacingAndGlyphs\" textLength=\"108\" x=\"283\" y=\"163.1387\">«connection def»</text><text fill=\"#000000\" font-family=\"sans-serif\" font-size=\"12\" lengthAdjust=\"spacingAndGlyphs\" textLength=\"8\" x=\"333\" y=\"177.1074\">A</text><line style=\"stroke: #A80036; stroke-width: 1.5;\" x1=\"283\" x2=\"391\" y1=\"184.9375\" y2=\"184.9375\"/></a><!--MD5=[2156ba9850f5573cc1fc38a6a4b2f02b]\n",
       "class E7--><a href=\"psysml:592da980-ebcc-4bfb-b89f-9a898fd7b408\" target=\"_top\" title=\"psysml:592da980-ebcc-4bfb-b89f-9a898fd7b408\" xlink:actuate=\"onRequest\" xlink:href=\"psysml:592da980-ebcc-4bfb-b89f-9a898fd7b408\" xlink:show=\"new\" xlink:title=\"psysml:592da980-ebcc-4bfb-b89f-9a898fd7b408\" xlink:type=\"simple\"><rect fill=\"#FEFECE\" filter=\"url(#fcipsaxuo4sht)\" height=\"45.9375\" id=\"E7\" rx=\"10\" ry=\"10\" style=\"stroke: #A80036; stroke-width: 1.5;\" width=\"42\" x=\"306\" y=\"253\"/><text fill=\"#000000\" font-family=\"sans-serif\" font-size=\"12\" font-style=\"italic\" lengthAdjust=\"spacingAndGlyphs\" textLength=\"40\" x=\"307\" y=\"269.1387\">«port»</text><text fill=\"#000000\" font-family=\"sans-serif\" font-size=\"12\" lengthAdjust=\"spacingAndGlyphs\" textLength=\"32\" x=\"311\" y=\"283.1074\">p1: P</text><line style=\"stroke: #A80036; stroke-width: 1.5;\" x1=\"307\" x2=\"347\" y1=\"290.9375\" y2=\"290.9375\"/></a><!--MD5=[b9389687b975829384b498ac4b7476b2]\n",
       "class E8--><a href=\"psysml:4730362b-6892-4b61-8b08-4b1eb3a58a19\" target=\"_top\" title=\"psysml:4730362b-6892-4b61-8b08-4b1eb3a58a19\" xlink:actuate=\"onRequest\" xlink:href=\"psysml:4730362b-6892-4b61-8b08-4b1eb3a58a19\" xlink:show=\"new\" xlink:title=\"psysml:4730362b-6892-4b61-8b08-4b1eb3a58a19\" xlink:type=\"simple\"><rect fill=\"#FEFECE\" filter=\"url(#fcipsaxuo4sht)\" height=\"45.9375\" id=\"E8\" rx=\"10\" ry=\"10\" style=\"stroke: #A80036; stroke-width: 1.5;\" width=\"48\" x=\"383\" y=\"253\"/><text fill=\"#000000\" font-family=\"sans-serif\" font-size=\"12\" font-style=\"italic\" lengthAdjust=\"spacingAndGlyphs\" textLength=\"40\" x=\"387\" y=\"269.1387\">«port»</text><text fill=\"#000000\" font-family=\"sans-serif\" font-size=\"12\" lengthAdjust=\"spacingAndGlyphs\" textLength=\"42\" x=\"386\" y=\"283.1074\">p2: ~P</text><line style=\"stroke: #A80036; stroke-width: 1.5;\" x1=\"384\" x2=\"430\" y1=\"290.9375\" y2=\"290.9375\"/></a><!--MD5=[fd4143e9d270a159db93a4ea2a975926]\n",
       "class E9--><a href=\"psysml:c589f335-4cab-4324-b073-03ca89b55f7d\" target=\"_top\" title=\"psysml:c589f335-4cab-4324-b073-03ca89b55f7d\" xlink:actuate=\"onRequest\" xlink:href=\"psysml:c589f335-4cab-4324-b073-03ca89b55f7d\" xlink:show=\"new\" xlink:title=\"psysml:c589f335-4cab-4324-b073-03ca89b55f7d\" xlink:type=\"simple\"><rect fill=\"#FEFECE\" filter=\"url(#fcipsaxuo4sht)\" height=\"45.9375\" id=\"E9\" style=\"stroke: #A80036; stroke-width: 1.5;\" width=\"96\" x=\"146\" y=\"147\"/><text fill=\"#000000\" font-family=\"sans-serif\" font-size=\"12\" font-style=\"italic\" lengthAdjust=\"spacingAndGlyphs\" textLength=\"94\" x=\"147\" y=\"163.1387\">«interface def»</text><text fill=\"#000000\" font-family=\"sans-serif\" font-size=\"12\" lengthAdjust=\"spacingAndGlyphs\" textLength=\"3\" x=\"192.5\" y=\"177.1074\">I</text><line style=\"stroke: #A80036; stroke-width: 1.5;\" x1=\"147\" x2=\"241\" y1=\"184.9375\" y2=\"184.9375\"/></a><!--MD5=[96f4274e9e20536e775497830990834d]\n",
       "class E10--><a href=\"psysml:0a18d135-3a15-4f1e-a48b-3983b85e55aa\" target=\"_top\" title=\"psysml:0a18d135-3a15-4f1e-a48b-3983b85e55aa\" xlink:actuate=\"onRequest\" xlink:href=\"psysml:0a18d135-3a15-4f1e-a48b-3983b85e55aa\" xlink:show=\"new\" xlink:title=\"psysml:0a18d135-3a15-4f1e-a48b-3983b85e55aa\" xlink:type=\"simple\"><rect fill=\"#FEFECE\" filter=\"url(#fcipsaxuo4sht)\" height=\"45.9375\" id=\"E10\" rx=\"10\" ry=\"10\" style=\"stroke: #A80036; stroke-width: 1.5;\" width=\"42\" x=\"146\" y=\"253\"/><text fill=\"#000000\" font-family=\"sans-serif\" font-size=\"12\" font-style=\"italic\" lengthAdjust=\"spacingAndGlyphs\" textLength=\"40\" x=\"147\" y=\"269.1387\">«port»</text><text fill=\"#000000\" font-family=\"sans-serif\" font-size=\"12\" lengthAdjust=\"spacingAndGlyphs\" textLength=\"32\" x=\"151\" y=\"283.1074\">p1: P</text><line style=\"stroke: #A80036; stroke-width: 1.5;\" x1=\"147\" x2=\"187\" y1=\"290.9375\" y2=\"290.9375\"/></a><!--MD5=[1dd1bfd58a279cf63c5f349dbc8fc6a1]\n",
       "class E11--><a href=\"psysml:f0ebefc1-580e-4b11-b9cf-e3cb40b874a3\" target=\"_top\" title=\"psysml:f0ebefc1-580e-4b11-b9cf-e3cb40b874a3\" xlink:actuate=\"onRequest\" xlink:href=\"psysml:f0ebefc1-580e-4b11-b9cf-e3cb40b874a3\" xlink:show=\"new\" xlink:title=\"psysml:f0ebefc1-580e-4b11-b9cf-e3cb40b874a3\" xlink:type=\"simple\"><rect fill=\"#FEFECE\" filter=\"url(#fcipsaxuo4sht)\" height=\"45.9375\" id=\"E11\" rx=\"10\" ry=\"10\" style=\"stroke: #A80036; stroke-width: 1.5;\" width=\"48\" x=\"223\" y=\"253\"/><text fill=\"#000000\" font-family=\"sans-serif\" font-size=\"12\" font-style=\"italic\" lengthAdjust=\"spacingAndGlyphs\" textLength=\"40\" x=\"227\" y=\"269.1387\">«port»</text><text fill=\"#000000\" font-family=\"sans-serif\" font-size=\"12\" lengthAdjust=\"spacingAndGlyphs\" textLength=\"42\" x=\"226\" y=\"283.1074\">p2: ~P</text><line style=\"stroke: #A80036; stroke-width: 1.5;\" x1=\"224\" x2=\"270\" y1=\"290.9375\" y2=\"290.9375\"/></a><!--MD5=[49a0ec8f00dab7302a31f22d0f0fe584]\n",
       "class E12--><a href=\"psysml:99d6c811-1239-4557-8bf5-512a2d9b51f5\" target=\"_top\" title=\"psysml:99d6c811-1239-4557-8bf5-512a2d9b51f5\" xlink:actuate=\"onRequest\" xlink:href=\"psysml:99d6c811-1239-4557-8bf5-512a2d9b51f5\" xlink:show=\"new\" xlink:title=\"psysml:99d6c811-1239-4557-8bf5-512a2d9b51f5\" xlink:type=\"simple\"><rect fill=\"#FEFECE\" filter=\"url(#fcipsaxuo4sht)\" height=\"45.9375\" id=\"E12\" style=\"stroke: #A80036; stroke-width: 1.5;\" width=\"66\" x=\"47\" y=\"41\"/><text fill=\"#000000\" font-family=\"sans-serif\" font-size=\"12\" font-style=\"italic\" lengthAdjust=\"spacingAndGlyphs\" textLength=\"64\" x=\"48\" y=\"57.1387\">«part def»</text><text fill=\"#000000\" font-family=\"sans-serif\" font-size=\"12\" lengthAdjust=\"spacingAndGlyphs\" textLength=\"16\" x=\"72\" y=\"71.1074\">B1</text><line style=\"stroke: #A80036; stroke-width: 1.5;\" x1=\"48\" x2=\"112\" y1=\"78.9375\" y2=\"78.9375\"/></a><!--MD5=[ee3c913d1a06f366521f9ef512b67efe]\n",
       "class E13--><a href=\"psysml:c80e6282-4b88-42a6-beea-d83b68d36327\" target=\"_top\" title=\"psysml:c80e6282-4b88-42a6-beea-d83b68d36327\" xlink:actuate=\"onRequest\" xlink:href=\"psysml:c80e6282-4b88-42a6-beea-d83b68d36327\" xlink:show=\"new\" xlink:title=\"psysml:c80e6282-4b88-42a6-beea-d83b68d36327\" xlink:type=\"simple\"><rect fill=\"#FEFECE\" filter=\"url(#fcipsaxuo4sht)\" height=\"45.9375\" id=\"E13\" rx=\"10\" ry=\"10\" style=\"stroke: #A80036; stroke-width: 1.5;\" width=\"42\" x=\"59\" y=\"147\"/><text fill=\"#000000\" font-family=\"sans-serif\" font-size=\"12\" font-style=\"italic\" lengthAdjust=\"spacingAndGlyphs\" textLength=\"40\" x=\"60\" y=\"163.1387\">«part»</text><text fill=\"#000000\" font-family=\"sans-serif\" font-size=\"12\" lengthAdjust=\"spacingAndGlyphs\" textLength=\"8\" x=\"76\" y=\"177.1074\">p</text><line style=\"stroke: #A80036; stroke-width: 1.5;\" x1=\"60\" x2=\"100\" y1=\"184.9375\" y2=\"184.9375\"/></a><!--MD5=[bee11217b2f71d958a27249dc326068c]\n",
       "class E14--><a href=\"psysml:36fdd18b-cc96-4106-b803-027f179d9fab\" target=\"_top\" title=\"psysml:36fdd18b-cc96-4106-b803-027f179d9fab\" xlink:actuate=\"onRequest\" xlink:href=\"psysml:36fdd18b-cc96-4106-b803-027f179d9fab\" xlink:show=\"new\" xlink:title=\"psysml:36fdd18b-cc96-4106-b803-027f179d9fab\" xlink:type=\"simple\"><rect fill=\"#FEFECE\" filter=\"url(#fcipsaxuo4sht)\" height=\"45.9375\" id=\"E14\" rx=\"10\" ry=\"10\" style=\"stroke: #A80036; stroke-width: 1.5;\" width=\"42\" x=\"69\" y=\"253\"/><text fill=\"#000000\" font-family=\"sans-serif\" font-size=\"12\" font-style=\"italic\" lengthAdjust=\"spacingAndGlyphs\" textLength=\"40\" x=\"70\" y=\"269.1387\">«port»</text><text fill=\"#000000\" font-family=\"sans-serif\" font-size=\"12\" lengthAdjust=\"spacingAndGlyphs\" textLength=\"32\" x=\"74\" y=\"283.1074\">p1: P</text><line style=\"stroke: #A80036; stroke-width: 1.5;\" x1=\"70\" x2=\"110\" y1=\"290.9375\" y2=\"290.9375\"/></a><!--MD5=[0c48fb7552dae8cbbef69381101a84c8]\n",
       "class E15--><a href=\"psysml:a04d4130-2616-430e-82e5-4df6c3f344d5\" target=\"_top\" title=\"psysml:a04d4130-2616-430e-82e5-4df6c3f344d5\" xlink:actuate=\"onRequest\" xlink:href=\"psysml:a04d4130-2616-430e-82e5-4df6c3f344d5\" xlink:show=\"new\" xlink:title=\"psysml:a04d4130-2616-430e-82e5-4df6c3f344d5\" xlink:type=\"simple\"><rect fill=\"#FEFECE\" filter=\"url(#fcipsaxuo4sht)\" height=\"45.9375\" id=\"E15\" rx=\"10\" ry=\"10\" style=\"stroke: #A80036; stroke-width: 1.5;\" width=\"48\" x=\"66\" y=\"359\"/><text fill=\"#000000\" font-family=\"sans-serif\" font-size=\"12\" font-style=\"italic\" lengthAdjust=\"spacingAndGlyphs\" textLength=\"40\" x=\"70\" y=\"375.1387\">«port»</text><text fill=\"#000000\" font-family=\"sans-serif\" font-size=\"12\" lengthAdjust=\"spacingAndGlyphs\" textLength=\"42\" x=\"69\" y=\"389.1074\">p2: ~P</text><line style=\"stroke: #A80036; stroke-width: 1.5;\" x1=\"67\" x2=\"113\" y1=\"396.9375\" y2=\"396.9375\"/></a><!--MD5=[4672eba38e49728da53d11aeb285b987]\n",
       "reverse link E3 to E4--><a href=\"psysml:478537c4-9aea-45e7-93bf-51b2f99f76d0\" target=\"_top\" title=\"psysml:478537c4-9aea-45e7-93bf-51b2f99f76d0\" xlink:actuate=\"onRequest\" xlink:href=\"psysml:478537c4-9aea-45e7-93bf-51b2f99f76d0\" xlink:show=\"new\" xlink:title=\"psysml:478537c4-9aea-45e7-93bf-51b2f99f76d0\" xlink:type=\"simple\"><path d=\"M510.39,205.49 C505.12,221.15 499.05,239.19 494.41,252.98 \" fill=\"none\" id=\"E3&lt;-E4\" style=\"stroke: #A80036; stroke-width: 1.0;\"/><polygon fill=\"#FFFFFF\" points=\"514.58,193.06,508.8756,197.4713,510.7536,204.4336,516.458,200.0223,514.58,193.06\" style=\"stroke: #A80036; stroke-width: 1.0;\"/><text fill=\"#000000\" font-family=\"sans-serif\" font-size=\"13\" lengthAdjust=\"spacingAndGlyphs\" textLength=\"8\" x=\"487.3264\" y=\"241.8709\">1</text></a><!--MD5=[185131fc0dcab0a4505a2ebe144e961b]\n",
       "link E4 to E2--><a href=\"psysml:9a27f54b-62e8-4ed3-8ffb-179b9354440f\" target=\"_top\" title=\"psysml:9a27f54b-62e8-4ed3-8ffb-179b9354440f\" xlink:actuate=\"onRequest\" xlink:href=\"psysml:9a27f54b-62e8-4ed3-8ffb-179b9354440f\" xlink:show=\"new\" xlink:title=\"psysml:9a27f54b-62e8-4ed3-8ffb-179b9354440f\" xlink:type=\"simple\"><path d=\"M465.96,289.82 C460.51,292.96 454.6,296.22 449,299 C401.46,322.64 345.42,345.73 305.65,361.35 \" fill=\"none\" id=\"E4-&gt;E2\" style=\"stroke: #A80036; stroke-width: 1.0;\"/><polygon fill=\"#FFFFFF\" points=\"287,368.6,302.1754,355.1945,307.2453,368.2443,287,368.6\" style=\"stroke: #A80036; stroke-width: 1.0;\"/><ellipse cx=\"308.2128\" cy=\"354.9946\" fill=\"#A80036\" rx=\"2\" ry=\"2\" style=\"stroke: #A80036; stroke-width: 1.0;\"/><ellipse cx=\"311.8342\" cy=\"364.3159\" fill=\"#A80036\" rx=\"2\" ry=\"2\" style=\"stroke: #A80036; stroke-width: 1.0;\"/></a><!--MD5=[191cde3d490a3f6d7bb551fe3ddca469]\n",
       "reverse link E3 to E5--><a href=\"psysml:0c237cb0-b529-413c-8aaf-d2f6ce3a1092\" target=\"_top\" title=\"psysml:0c237cb0-b529-413c-8aaf-d2f6ce3a1092\" xlink:actuate=\"onRequest\" xlink:href=\"psysml:0c237cb0-b529-413c-8aaf-d2f6ce3a1092\" xlink:show=\"new\" xlink:title=\"psysml:0c237cb0-b529-413c-8aaf-d2f6ce3a1092\" xlink:type=\"simple\"><path d=\"M536.72,205.03 C543.54,220.78 551.45,239.06 557.47,252.98 \" fill=\"none\" id=\"E3&lt;-E5\" style=\"stroke: #A80036; stroke-width: 1.0;\"/><polygon fill=\"#FFFFFF\" points=\"531.54,193.06,530.2495,200.1547,536.302,204.0747,537.5926,196.98,531.54,193.06\" style=\"stroke: #A80036; stroke-width: 1.0;\"/><text fill=\"#000000\" font-family=\"sans-serif\" font-size=\"13\" lengthAdjust=\"spacingAndGlyphs\" textLength=\"8\" x=\"545.8338\" y=\"241.8709\">1</text></a><!--MD5=[3f50a3473f1dfb74d3f76443e03635af]\n",
       "reverse link E6 to E7--><a href=\"psysml:b94a6cc2-6585-4221-b4bd-c6e1360a7593\" target=\"_top\" title=\"psysml:b94a6cc2-6585-4221-b4bd-c6e1360a7593\" xlink:actuate=\"onRequest\" xlink:href=\"psysml:b94a6cc2-6585-4221-b4bd-c6e1360a7593\" xlink:show=\"new\" xlink:title=\"psysml:b94a6cc2-6585-4221-b4bd-c6e1360a7593\" xlink:type=\"simple\"><path d=\"M333.59,206.44 C332.11,221.87 330.42,239.47 329.12,252.98 \" fill=\"none\" id=\"E6&lt;-E7\" style=\"stroke: #A80036; stroke-width: 1.0;\"/><polygon fill=\"#FFFFFF\" points=\"334.88,193.06,330.3242,198.6497,333.7317,205.0049,338.2875,199.4152,334.88,193.06\" style=\"stroke: #A80036; stroke-width: 1.0;\"/><text fill=\"#000000\" font-family=\"sans-serif\" font-size=\"13\" lengthAdjust=\"spacingAndGlyphs\" textLength=\"8\" x=\"320.6148\" y=\"241.8709\">1</text></a><!--MD5=[583832df87f4419a098336a29a52fa00]\n",
       "link E7 to E2--><a href=\"psysml:6c7ecdb4-3704-4141-b5eb-90be274661d4\" target=\"_top\" title=\"psysml:6c7ecdb4-3704-4141-b5eb-90be274661d4\" xlink:actuate=\"onRequest\" xlink:href=\"psysml:6c7ecdb4-3704-4141-b5eb-90be274661d4\" xlink:show=\"new\" xlink:title=\"psysml:6c7ecdb4-3704-4141-b5eb-90be274661d4\" xlink:type=\"simple\"><path d=\"M311.52,299.06 C302.71,311.6 291.43,327.68 281.19,342.26 \" fill=\"none\" id=\"E7-&gt;E2\" style=\"stroke: #A80036; stroke-width: 1.0;\"/><polygon fill=\"#FFFFFF\" points=\"269.46,358.98,274.6532,339.4088,286.1093,347.4561,269.46,358.98\" style=\"stroke: #A80036; stroke-width: 1.0;\"/><ellipse cx=\"279.5662\" cy=\"335.8942\" fill=\"#A80036\" rx=\"2\" ry=\"2\" style=\"stroke: #A80036; stroke-width: 1.0;\"/><ellipse cx=\"287.7491\" cy=\"341.6422\" fill=\"#A80036\" rx=\"2\" ry=\"2\" style=\"stroke: #A80036; stroke-width: 1.0;\"/></a><!--MD5=[f4cf0736d43fd73c4ef68817c49d37d5]\n",
       "reverse link E6 to E8--><a href=\"psysml:c893fa2e-0043-44e8-be45-2077001790d0\" target=\"_top\" title=\"psysml:c893fa2e-0043-44e8-be45-2077001790d0\" xlink:actuate=\"onRequest\" xlink:href=\"psysml:c893fa2e-0043-44e8-be45-2077001790d0\" xlink:show=\"new\" xlink:title=\"psysml:c893fa2e-0043-44e8-be45-2077001790d0\" xlink:type=\"simple\"><path d=\"M359.27,204.09 C370.02,220.06 382.62,238.78 392.18,252.98 \" fill=\"none\" id=\"E6&lt;-E8\" style=\"stroke: #A80036; stroke-width: 1.0;\"/><polygon fill=\"#FFFFFF\" points=\"351.85,193.06,351.8808,200.271,358.5489,203.0161,358.5182,195.8051,351.85,193.06\" style=\"stroke: #A80036; stroke-width: 1.0;\"/><text fill=\"#000000\" font-family=\"sans-serif\" font-size=\"13\" lengthAdjust=\"spacingAndGlyphs\" textLength=\"8\" x=\"379.1221\" y=\"241.8709\">1</text></a><!--MD5=[23ac544a70576c3e717098101004234c]\n",
       "reverse link E9 to E10--><a href=\"psysml:3723b58c-a4dd-4ef3-9a79-2a659572d83c\" target=\"_top\" title=\"psysml:3723b58c-a4dd-4ef3-9a79-2a659572d83c\" xlink:actuate=\"onRequest\" xlink:href=\"psysml:3723b58c-a4dd-4ef3-9a79-2a659572d83c\" xlink:show=\"new\" xlink:title=\"psysml:3723b58c-a4dd-4ef3-9a79-2a659572d83c\" xlink:type=\"simple\"><path d=\"M184.92,205.96 C180.89,221.51 176.26,239.33 172.72,252.98 \" fill=\"none\" id=\"E9&lt;-E10\" style=\"stroke: #A80036; stroke-width: 1.0;\"/><polygon fill=\"#FFFFFF\" points=\"188.27,193.06,182.8943,197.8665,185.2635,204.6773,190.6392,199.8708,188.27,193.06\" style=\"stroke: #A80036; stroke-width: 1.0;\"/><text fill=\"#000000\" font-family=\"sans-serif\" font-size=\"13\" lengthAdjust=\"spacingAndGlyphs\" textLength=\"8\" x=\"165.1823\" y=\"241.8709\">1</text></a><!--MD5=[0f36bececdf0dff6e600d6f64214b0f1]\n",
       "link E10 to E2--><a href=\"psysml:8c7a6e5c-2c0e-473c-a2c4-4062964bb416\" target=\"_top\" title=\"psysml:8c7a6e5c-2c0e-473c-a2c4-4062964bb416\" xlink:actuate=\"onRequest\" xlink:href=\"psysml:8c7a6e5c-2c0e-473c-a2c4-4062964bb416\" xlink:show=\"new\" xlink:title=\"psysml:8c7a6e5c-2c0e-473c-a2c4-4062964bb416\" xlink:type=\"simple\"><path d=\"M185.45,299.06 C196.18,311.88 209.99,328.39 222.4,343.22 \" fill=\"none\" id=\"E10-&gt;E2\" style=\"stroke: #A80036; stroke-width: 1.0;\"/><polygon fill=\"#FFFFFF\" points=\"235.58,358.98,218.0168,348.9036,228.7522,339.9174,235.58,358.98\" style=\"stroke: #A80036; stroke-width: 1.0;\"/><ellipse cx=\"215.8918\" cy=\"343.249\" fill=\"#A80036\" rx=\"2\" ry=\"2\" style=\"stroke: #A80036; stroke-width: 1.0;\"/><ellipse cx=\"223.5599\" cy=\"336.8303\" fill=\"#A80036\" rx=\"2\" ry=\"2\" style=\"stroke: #A80036; stroke-width: 1.0;\"/></a><!--MD5=[1fc04a95fd77ad5ce46c1a3027516051]\n",
       "reverse link E9 to E11--><a href=\"psysml:05b52cb0-1bec-4ecb-a4ba-b6e0a5fd36fa\" target=\"_top\" title=\"psysml:05b52cb0-1bec-4ecb-a4ba-b6e0a5fd36fa\" xlink:actuate=\"onRequest\" xlink:href=\"psysml:05b52cb0-1bec-4ecb-a4ba-b6e0a5fd36fa\" xlink:show=\"new\" xlink:title=\"psysml:05b52cb0-1bec-4ecb-a4ba-b6e0a5fd36fa\" xlink:type=\"simple\"><path d=\"M211.34,205.03 C219.37,220.78 228.68,239.06 235.78,252.98 \" fill=\"none\" id=\"E9&lt;-E11\" style=\"stroke: #A80036; stroke-width: 1.0;\"/><polygon fill=\"#FFFFFF\" points=\"205.24,193.06,204.3983,200.2218,210.6855,203.7533,211.5272,196.5915,205.24,193.06\" style=\"stroke: #A80036; stroke-width: 1.0;\"/><text fill=\"#000000\" font-family=\"sans-serif\" font-size=\"13\" lengthAdjust=\"spacingAndGlyphs\" textLength=\"8\" x=\"223.6896\" y=\"241.8709\">1</text></a><!--MD5=[062ed86c389d1a88f61c6380d0491e17]\n",
       "reverse link E12 to E13--><a href=\"psysml:2ea9f126-2045-475e-98b2-0bebbeaf39ba\" target=\"_top\" title=\"psysml:2ea9f126-2045-475e-98b2-0bebbeaf39ba\" xlink:actuate=\"onRequest\" xlink:href=\"psysml:2ea9f126-2045-475e-98b2-0bebbeaf39ba\" xlink:show=\"new\" xlink:title=\"psysml:2ea9f126-2045-475e-98b2-0bebbeaf39ba\" xlink:type=\"simple\"><path d=\"M80,100.44 C80,115.87 80,133.47 80,146.98 \" fill=\"none\" id=\"E12&lt;-E13\" style=\"stroke: #A80036; stroke-width: 1.0;\"/><polygon fill=\"#A80036\" points=\"80,87.06,76,93.06,80,99.06,84,93.06,80,87.06\" style=\"stroke: #A80036; stroke-width: 1.0;\"/><text fill=\"#000000\" font-family=\"sans-serif\" font-size=\"13\" lengthAdjust=\"spacingAndGlyphs\" textLength=\"8\" x=\"70.925\" y=\"135.8709\">1</text></a><!--MD5=[01db00f33b28669d6d9febea71002831]\n",
       "reverse link E13 to E14--><a href=\"psysml:56644651-1cff-4e4b-add6-5aaf4cbf3323\" target=\"_top\" title=\"psysml:56644651-1cff-4e4b-add6-5aaf4cbf3323\" xlink:actuate=\"onRequest\" xlink:href=\"psysml:56644651-1cff-4e4b-add6-5aaf4cbf3323\" xlink:show=\"new\" xlink:title=\"psysml:56644651-1cff-4e4b-add6-5aaf4cbf3323\" xlink:type=\"simple\"><path d=\"M83.41,206.44 C84.89,221.87 86.58,239.47 87.88,252.98 \" fill=\"none\" id=\"E13&lt;-E14\" style=\"stroke: #A80036; stroke-width: 1.0;\"/><polygon fill=\"#FFFFFF\" points=\"82.12,193.06,78.7125,199.4152,83.2683,205.0049,86.6758,198.6497,82.12,193.06\" style=\"stroke: #A80036; stroke-width: 1.0;\"/><text fill=\"#000000\" font-family=\"sans-serif\" font-size=\"13\" lengthAdjust=\"spacingAndGlyphs\" textLength=\"8\" x=\"78.2353\" y=\"241.8709\">1</text></a><!--MD5=[e5566ac99d7714697a7fbc17f6b550fe]\n",
       "link E14 to E2--><a href=\"psysml:004f1bd4-f46a-4fc3-b446-5abbd305cc50\" target=\"_top\" title=\"psysml:004f1bd4-f46a-4fc3-b446-5abbd305cc50\" xlink:actuate=\"onRequest\" xlink:href=\"psysml:004f1bd4-f46a-4fc3-b446-5abbd305cc50\" xlink:show=\"new\" xlink:title=\"psysml:004f1bd4-f46a-4fc3-b446-5abbd305cc50\" xlink:type=\"simple\"><path d=\"M111.1,290.38 C134.32,305.1 172.45,329.29 203.49,348.97 \" fill=\"none\" id=\"E14-&gt;E2\" style=\"stroke: #A80036; stroke-width: 1.0;\"/><polygon fill=\"#FFFFFF\" points=\"220.77,359.93,200.9767,355.661,208.4774,343.8399,220.77,359.93\" style=\"stroke: #A80036; stroke-width: 1.0;\"/><ellipse cx=\"197.2353\" cy=\"350.9184\" fill=\"#A80036\" rx=\"2\" ry=\"2\" style=\"stroke: #A80036; stroke-width: 1.0;\"/><ellipse cx=\"202.593\" cy=\"342.4748\" fill=\"#A80036\" rx=\"2\" ry=\"2\" style=\"stroke: #A80036; stroke-width: 1.0;\"/></a><!--MD5=[e9a5e828c71fd2209a11a152f562d491]\n",
       "reverse link E13 to E15--><a href=\"psysml:439c4bcd-5bf6-4395-bbdb-0df2330c2504\" target=\"_top\" title=\"psysml:439c4bcd-5bf6-4395-bbdb-0df2330c2504\" xlink:actuate=\"onRequest\" xlink:href=\"psysml:439c4bcd-5bf6-4395-bbdb-0df2330c2504\" xlink:show=\"new\" xlink:title=\"psysml:439c4bcd-5bf6-4395-bbdb-0df2330c2504\" xlink:type=\"simple\"><path d=\"M64.33,205.31 C54.54,231.09 45,267.26 52,299 C56.73,320.45 67.65,342.96 76.58,358.96 \" fill=\"none\" id=\"E13&lt;-E15\" style=\"stroke: #A80036; stroke-width: 1.0;\"/><polygon fill=\"#FFFFFF\" points=\"69.24,193.2,63.2795,197.2586,64.7334,204.3216,70.6939,200.263,69.24,193.2\" style=\"stroke: #A80036; stroke-width: 1.0;\"/><text fill=\"#000000\" font-family=\"sans-serif\" font-size=\"13\" lengthAdjust=\"spacingAndGlyphs\" textLength=\"8\" x=\"63.8984\" y=\"347.8455\">1</text></a><!--MD5=[3afbdc645381407e1bc99677323a2513]\n",
       "link E14 to E15--><a href=\"psysml:356465e0-8362-42f7-8017-4c1d57dccd42\" target=\"_top\" title=\"psysml:356465e0-8362-42f7-8017-4c1d57dccd42\" xlink:actuate=\"onRequest\" xlink:href=\"psysml:356465e0-8362-42f7-8017-4c1d57dccd42\" xlink:show=\"new\" xlink:title=\"psysml:356465e0-8362-42f7-8017-4c1d57dccd42\" xlink:type=\"simple\"><path d=\"M79.35,299.06 C76.55,316.7 76.55,341.34 79.36,358.98 \" fill=\"none\" id=\"E14-E15\" style=\"stroke: #A80036; stroke-width: 3.0;\"/></a><!--MD5=[3afbdc645381407e1bc99677323a2513]\n",
       "link E14 to E15--><a href=\"psysml:be002053-3eab-4239-b4ec-f62d8ddd6fa6\" target=\"_top\" title=\"psysml:be002053-3eab-4239-b4ec-f62d8ddd6fa6\" xlink:actuate=\"onRequest\" xlink:href=\"psysml:be002053-3eab-4239-b4ec-f62d8ddd6fa6\" xlink:show=\"new\" xlink:title=\"psysml:be002053-3eab-4239-b4ec-f62d8ddd6fa6\" xlink:type=\"simple\"><path d=\"M101.27,299.06 C104.24,316.7 104.24,341.34 101.27,358.98 \" fill=\"none\" id=\"E14-E15-1\" style=\"stroke: #A80036; stroke-width: 3.0;\"/></a><!--MD5=[a44188c92afb4aaae13fd9d48e0114ac]\n",
       "@startuml\r\n",
       "skinparam wrapWidth 300\r\n",
       "hide circle\r\n",
       "\r\n",
       "package \"ConjugationTest\" as E1  [[psysml:811d2e93-771a-4206-9534-119b2782ed8b ]]  {\r\n",
       "comp def \"P\" as E2  <<(T,blue) port def>> [[psysml:a118eece-ff6c-41b4-a8ec-63007fd81e06 ]] {\r\n",
       "}\r\n",
       "comp def \"B\" as E3  <<(T,blue) part def>> [[psysml:45f3428f-90c5-481c-8b5b-6d42a9c9ecb4 ]] {\r\n",
       "}\r\n",
       "comp usage \"p1: P\" as E4  <<(T,blue) port>> [[psysml:f10162e3-9121-4423-8c61-28bf75aadc9a ]] {\r\n",
       "}\r\n",
       "comp usage \"p2: ~P\" as E5  <<(T,blue) port>> [[psysml:f793b08e-b132-4869-8396-6344384571c9 ]] {\r\n",
       "}\r\n",
       "comp def \"A\" as E6  <<(T,blue) connection def>> [[psysml:1e44cf6a-fe6c-483a-98ee-7c5816e24c4f ]] {\r\n",
       "}\r\n",
       "comp usage \"p1: P\" as E7  <<(T,blue) port>> [[psysml:592da980-ebcc-4bfb-b89f-9a898fd7b408 ]] {\r\n",
       "}\r\n",
       "comp usage \"p2: ~P\" as E8  <<(T,blue) port>> [[psysml:4730362b-6892-4b61-8b08-4b1eb3a58a19 ]] {\r\n",
       "}\r\n",
       "comp def \"I\" as E9  <<(T,blue) interface def>> [[psysml:c589f335-4cab-4324-b073-03ca89b55f7d ]] {\r\n",
       "}\r\n",
       "comp usage \"p1: P\" as E10  <<(T,blue) port>> [[psysml:0a18d135-3a15-4f1e-a48b-3983b85e55aa ]] {\r\n",
       "}\r\n",
       "comp usage \"p2: ~P\" as E11  <<(T,blue) port>> [[psysml:f0ebefc1-580e-4b11-b9cf-e3cb40b874a3 ]] {\r\n",
       "}\r\n",
       "comp def \"B1\" as E12  <<(T,blue) part def>> [[psysml:99d6c811-1239-4557-8bf5-512a2d9b51f5 ]] {\r\n",
       "}\r\n",
       "comp usage \"p\" as E13  <<(T,blue) part>> [[psysml:c80e6282-4b88-42a6-beea-d83b68d36327 ]] {\r\n",
       "}\r\n",
       "comp usage \"p1: P\" as E14  <<(T,blue) port>> [[psysml:36fdd18b-cc96-4106-b803-027f179d9fab ]] {\r\n",
       "}\r\n",
       "comp usage \"p2: ~P\" as E15  <<(T,blue) port>> [[psysml:a04d4130-2616-430e-82e5-4df6c3f344d5 ]] {\r\n",
       "}\r\n",
       "}\r\n",
       "E3 o- - \"1\"E4 [[psysml:478537c4-9aea-45e7-93bf-51b2f99f76d0 ]] \r\n",
       "E4 - -:|> E2 [[psysml:9a27f54b-62e8-4ed3-8ffb-179b9354440f ]] \r\n",
       "E3 o- - \"1\"E5 [[psysml:0c237cb0-b529-413c-8aaf-d2f6ce3a1092 ]] \r\n",
       "E6 o- - \"1\"E7 [[psysml:b94a6cc2-6585-4221-b4bd-c6e1360a7593 ]] \r\n",
       "E7 - -:|> E2 [[psysml:6c7ecdb4-3704-4141-b5eb-90be274661d4 ]] \r\n",
       "E6 o- - \"1\"E8 [[psysml:c893fa2e-0043-44e8-be45-2077001790d0 ]] \r\n",
       "E9 o- - \"1\"E10 [[psysml:3723b58c-a4dd-4ef3-9a79-2a659572d83c ]] \r\n",
       "E10 - -:|> E2 [[psysml:8c7a6e5c-2c0e-473c-a2c4-4062964bb416 ]] \r\n",
       "E9 o- - \"1\"E11 [[psysml:05b52cb0-1bec-4ecb-a4ba-b6e0a5fd36fa ]] \r\n",
       "E12 *- - \"1\"E13 [[psysml:2ea9f126-2045-475e-98b2-0bebbeaf39ba ]] \r\n",
       "E13 o- - \"1\"E14 [[psysml:56644651-1cff-4e4b-add6-5aaf4cbf3323 ]] \r\n",
       "E14 - -:|> E2 [[psysml:004f1bd4-f46a-4fc3-b446-5abbd305cc50 ]] \r\n",
       "E13 o- - \"1\"E15 [[psysml:439c4bcd-5bf6-4395-bbdb-0df2330c2504 ]] \r\n",
       "E14 -[thickness=3]- E15 [[psysml:356465e0-8362-42f7-8017-4c1d57dccd42 ]] \r\n",
       "E14 -[thickness=3]- E15 [[psysml:be002053-3eab-4239-b4ec-f62d8ddd6fa6 ]] \r\n",
       "@enduml\r\n",
       "\n",
       "PlantUML version 1.2020.13(Sat Jun 13 12:26:38 UTC 2020)\n",
       "(EPL source distribution)\n",
       "Java Runtime: OpenJDK Runtime Environment\n",
       "JVM: OpenJDK 64-Bit Server VM\n",
       "Default Encoding: UTF-8\n",
       "Language: en\n",
       "Country: null\n",
       "--></g></svg>"
      ]
     },
     "execution_count": 29,
     "metadata": {},
     "output_type": "execute_result"
    }
   ],
   "source": [
    "%viz --style=\"STDCOLOR\" --view=\"MIXED\" \"ConjugationTest\""
   ]
  },
  {
   "cell_type": "code",
   "execution_count": 30,
   "id": "0802899b",
   "metadata": {
    "execution": {
     "iopub.execute_input": "2021-10-03T08:28:07.139998Z",
     "iopub.status.busy": "2021-10-03T08:28:07.139590Z",
     "iopub.status.idle": "2021-10-03T08:28:07.213251Z",
     "shell.execute_reply": "2021-10-03T08:28:07.211100Z"
    }
   },
   "outputs": [
    {
     "data": {
      "image/svg+xml": [
       "<?xml version=\"1.0\" encoding=\"UTF-8\" standalone=\"no\"?><svg xmlns=\"http://www.w3.org/2000/svg\" xmlns:xlink=\"http://www.w3.org/1999/xlink\" contentScriptType=\"application/ecmascript\" contentStyleType=\"text/css\" height=\"427px\" preserveAspectRatio=\"none\" style=\"width:811px;height:427px;\" version=\"1.1\" viewBox=\"0 0 811 427\" width=\"811px\" zoomAndPan=\"magnify\"><defs><filter height=\"300%\" id=\"f1xvtljoy8tqdh\" width=\"300%\" x=\"-1\" y=\"-1\"><feGaussianBlur result=\"blurOut\" stdDeviation=\"2.0\"/><feColorMatrix in=\"blurOut\" result=\"blurOut2\" type=\"matrix\" values=\"0 0 0 0 0 0 0 0 0 0 0 0 0 0 0 0 0 0 .4 0\"/><feOffset dx=\"4.0\" dy=\"4.0\" in=\"blurOut2\" result=\"blurOut3\"/><feBlend in=\"SourceGraphic\" in2=\"blurOut3\" mode=\"normal\"/></filter></defs><g><!--MD5=[fbc87193dbaf4d95561dea2c320d4a47]\n",
       "cluster E1--><a href=\"psysml:811d2e93-771a-4206-9534-119b2782ed8b\" target=\"_top\" title=\"psysml:811d2e93-771a-4206-9534-119b2782ed8b\" xlink:actuate=\"onRequest\" xlink:href=\"psysml:811d2e93-771a-4206-9534-119b2782ed8b\" xlink:show=\"new\" xlink:title=\"psysml:811d2e93-771a-4206-9534-119b2782ed8b\" xlink:type=\"simple\"><polygon fill=\"#FFFFFF\" filter=\"url(#f1xvtljoy8tqdh)\" points=\"16,6,136,6,143,28.2969,789,28.2969,789,415,16,415,16,6\" style=\"stroke: #000000; stroke-width: 1.5;\"/><line style=\"stroke: #000000; stroke-width: 1.5;\" x1=\"16\" x2=\"143\" y1=\"28.2969\" y2=\"28.2969\"/><text fill=\"#000000\" font-family=\"sans-serif\" font-size=\"14\" font-weight=\"bold\" lengthAdjust=\"spacingAndGlyphs\" textLength=\"114\" x=\"20\" y=\"20.9951\">ConjugationTest</text></a><!--MD5=[b4997ac47864f28c2f74865a473b2911]\n",
       "class E2--><a href=\"psysml:a118eece-ff6c-41b4-a8ec-63007fd81e06\" target=\"_top\" title=\"psysml:a118eece-ff6c-41b4-a8ec-63007fd81e06\" xlink:actuate=\"onRequest\" xlink:href=\"psysml:a118eece-ff6c-41b4-a8ec-63007fd81e06\" xlink:show=\"new\" xlink:title=\"psysml:a118eece-ff6c-41b4-a8ec-63007fd81e06\" xlink:type=\"simple\"><rect fill=\"#FEFECE\" filter=\"url(#f1xvtljoy8tqdh)\" height=\"45.9375\" id=\"E2\" style=\"stroke: #A80036; stroke-width: 1.5;\" width=\"92\" x=\"273\" y=\"353\"/><ellipse cx=\"288\" cy=\"371.9688\" fill=\"#A52A2A\" rx=\"11\" ry=\"11\" style=\"stroke: #A80036; stroke-width: 1.0;\"/><path d=\"M285.2188,376.9688 L285.2188,366.375 L287.9531,366.375 Q289.3438,366.375 290.1094,366.7656 Q290.8906,367.1406 291.4219,367.8438 Q291.9531,368.5469 292.25,369.5469 Q292.5469,370.5313 292.5469,371.75 Q292.5,373.3438 292,374.5313 Q291.5156,375.7031 290.4688,376.3438 Q289.4375,376.9688 287.75,376.9688 L285.2188,376.9688 Z M287.0781,375.4688 L287.7031,375.4688 Q288.7813,375.4688 289.4375,375.0156 Q290.0938,374.5625 290.375,373.7344 Q290.6719,372.8906 290.6563,371.7656 Q290.6563,370.5938 290.4063,369.7344 Q290.1563,368.8594 289.5469,368.3906 Q288.9375,367.9063 287.8906,367.9063 L287.0781,367.9063 L287.0781,375.4688 Z \"/><text fill=\"#000000\" font-family=\"sans-serif\" font-size=\"12\" font-style=\"italic\" lengthAdjust=\"spacingAndGlyphs\" textLength=\"64\" x=\"300\" y=\"369.1387\">«port def»</text><text fill=\"#000000\" font-family=\"sans-serif\" font-size=\"12\" lengthAdjust=\"spacingAndGlyphs\" textLength=\"8\" x=\"328\" y=\"383.1074\">P</text><line style=\"stroke: #A80036; stroke-width: 1.5;\" x1=\"274\" x2=\"364\" y1=\"390.9375\" y2=\"390.9375\"/></a><!--MD5=[09b614a08d8cba4a07c9adeb5e0fee81]\n",
       "class E3--><a href=\"psysml:45f3428f-90c5-481c-8b5b-6d42a9c9ecb4\" target=\"_top\" title=\"psysml:45f3428f-90c5-481c-8b5b-6d42a9c9ecb4\" xlink:actuate=\"onRequest\" xlink:href=\"psysml:45f3428f-90c5-481c-8b5b-6d42a9c9ecb4\" xlink:show=\"new\" xlink:title=\"psysml:45f3428f-90c5-481c-8b5b-6d42a9c9ecb4\" xlink:type=\"simple\"><rect fill=\"#FEFECE\" filter=\"url(#f1xvtljoy8tqdh)\" height=\"40\" id=\"E3\" style=\"stroke: #A80036; stroke-width: 1.5;\" width=\"40\" x=\"663\" y=\"144\"/><ellipse cx=\"678\" cy=\"160\" fill=\"#008000\" rx=\"11\" ry=\"11\" style=\"stroke: #A80036; stroke-width: 1.0;\"/><path d=\"M674.875,165 L674.875,154.4063 L678.1094,154.4063 Q680.0156,154.4063 680.9219,155.1563 Q681.8438,155.9063 681.8438,157.0781 Q681.8438,157.7656 681.4531,158.4219 Q681.0781,159.0781 680.3594,159.375 Q681.2188,159.75 681.7344,160.4375 Q682.25,161.125 682.25,161.9375 Q682.25,163.3125 681.2188,164.1563 Q680.2031,165 678.0938,165 L674.875,165 Z M676.7969,158.6406 L677.9531,158.6406 Q679.0781,158.6406 679.4844,158.2656 Q679.9063,157.875 679.9063,157.25 Q679.9063,156.6719 679.4844,156.3125 Q679.0625,155.9531 678.125,155.9531 L676.7969,155.9531 L676.7969,158.6406 Z M676.7969,163.4219 L678.2969,163.4219 Q679.2031,163.4219 679.7344,163.0313 Q680.2656,162.6406 680.2656,161.8906 Q680.2656,161.125 679.7656,160.6563 Q679.2656,160.1719 678,160.1719 L676.7969,160.1719 L676.7969,163.4219 Z \"/><text fill=\"#000000\" font-family=\"sans-serif\" font-size=\"12\" lengthAdjust=\"spacingAndGlyphs\" textLength=\"8\" x=\"692\" y=\"164.1543\">B</text><line style=\"stroke: #A80036; stroke-width: 1.5;\" x1=\"664\" x2=\"702\" y1=\"176\" y2=\"176\"/></a><!--MD5=[ebbe1d658d1005bcc118a6aa81145e00]\n",
       "class E4--><a href=\"psysml:f10162e3-9121-4423-8c61-28bf75aadc9a\" target=\"_top\" title=\"psysml:f10162e3-9121-4423-8c61-28bf75aadc9a\" xlink:actuate=\"onRequest\" xlink:href=\"psysml:f10162e3-9121-4423-8c61-28bf75aadc9a\" xlink:show=\"new\" xlink:title=\"psysml:f10162e3-9121-4423-8c61-28bf75aadc9a\" xlink:type=\"simple\"><rect fill=\"#FEFECE\" filter=\"url(#f1xvtljoy8tqdh)\" height=\"45.9375\" id=\"E4\" rx=\"10\" ry=\"10\" style=\"stroke: #A80036; stroke-width: 1.5;\" width=\"68\" x=\"596\" y=\"247\"/><ellipse cx=\"611\" cy=\"265.9688\" fill=\"#0000FF\" rx=\"11\" ry=\"11\" style=\"stroke: #A80036; stroke-width: 1.0;\"/><path d=\"M607.8125,270.9688 L607.8125,260.375 L611.4219,260.375 Q612.6406,260.375 613.4375,260.8125 Q614.2344,261.2344 614.6094,261.9375 Q615,262.6406 615,263.4844 Q615,264.3281 614.625,265.0156 Q614.2656,265.7031 613.4688,266.125 Q612.6875,266.5313 611.5,266.5313 L609.7656,266.5313 L609.7656,270.9688 L607.8125,270.9688 Z M609.7656,264.9375 L611.375,264.9375 Q612.1875,264.9375 612.6094,264.5313 Q613.0313,264.125 613.0313,263.4844 Q613.0313,262.8594 612.6094,262.4531 Q612.1875,262.0469 611.3906,262.0469 L609.7656,262.0469 L609.7656,264.9375 Z \"/><text fill=\"#000000\" font-family=\"sans-serif\" font-size=\"12\" font-style=\"italic\" lengthAdjust=\"spacingAndGlyphs\" textLength=\"40\" x=\"623\" y=\"263.1387\">«port»</text><text fill=\"#000000\" font-family=\"sans-serif\" font-size=\"12\" lengthAdjust=\"spacingAndGlyphs\" textLength=\"32\" x=\"627\" y=\"277.1074\">p1: P</text><line style=\"stroke: #A80036; stroke-width: 1.5;\" x1=\"597\" x2=\"663\" y1=\"284.9375\" y2=\"284.9375\"/></a><!--MD5=[270fce915f116d4de14055a7c1d9a0f3]\n",
       "class E5--><a href=\"psysml:f793b08e-b132-4869-8396-6344384571c9\" target=\"_top\" title=\"psysml:f793b08e-b132-4869-8396-6344384571c9\" xlink:actuate=\"onRequest\" xlink:href=\"psysml:f793b08e-b132-4869-8396-6344384571c9\" xlink:show=\"new\" xlink:title=\"psysml:f793b08e-b132-4869-8396-6344384571c9\" xlink:type=\"simple\"><rect fill=\"#FEFECE\" filter=\"url(#f1xvtljoy8tqdh)\" height=\"45.9375\" id=\"E5\" rx=\"10\" ry=\"10\" style=\"stroke: #A80036; stroke-width: 1.5;\" width=\"74\" x=\"699\" y=\"247\"/><ellipse cx=\"714\" cy=\"265.9688\" fill=\"#0000FF\" rx=\"11\" ry=\"11\" style=\"stroke: #A80036; stroke-width: 1.0;\"/><path d=\"M710.8125,270.9688 L710.8125,260.375 L714.4219,260.375 Q715.6406,260.375 716.4375,260.8125 Q717.2344,261.2344 717.6094,261.9375 Q718,262.6406 718,263.4844 Q718,264.3281 717.625,265.0156 Q717.2656,265.7031 716.4688,266.125 Q715.6875,266.5313 714.5,266.5313 L712.7656,266.5313 L712.7656,270.9688 L710.8125,270.9688 Z M712.7656,264.9375 L714.375,264.9375 Q715.1875,264.9375 715.6094,264.5313 Q716.0313,264.125 716.0313,263.4844 Q716.0313,262.8594 715.6094,262.4531 Q715.1875,262.0469 714.3906,262.0469 L712.7656,262.0469 L712.7656,264.9375 Z \"/><text fill=\"#000000\" font-family=\"sans-serif\" font-size=\"12\" font-style=\"italic\" lengthAdjust=\"spacingAndGlyphs\" textLength=\"40\" x=\"729\" y=\"263.1387\">«port»</text><text fill=\"#000000\" font-family=\"sans-serif\" font-size=\"12\" lengthAdjust=\"spacingAndGlyphs\" textLength=\"42\" x=\"728\" y=\"277.1074\">p2: ~P</text><line style=\"stroke: #A80036; stroke-width: 1.5;\" x1=\"700\" x2=\"772\" y1=\"284.9375\" y2=\"284.9375\"/></a><!--MD5=[60a26617385b1d2d0262a64233df1f8d]\n",
       "class E6--><a href=\"psysml:1e44cf6a-fe6c-483a-98ee-7c5816e24c4f\" target=\"_top\" title=\"psysml:1e44cf6a-fe6c-483a-98ee-7c5816e24c4f\" xlink:actuate=\"onRequest\" xlink:href=\"psysml:1e44cf6a-fe6c-483a-98ee-7c5816e24c4f\" xlink:show=\"new\" xlink:title=\"psysml:1e44cf6a-fe6c-483a-98ee-7c5816e24c4f\" xlink:type=\"simple\"><rect fill=\"#FEFECE\" filter=\"url(#f1xvtljoy8tqdh)\" height=\"40\" id=\"E6\" style=\"stroke: #A80036; stroke-width: 1.5;\" width=\"40\" x=\"451\" y=\"144\"/><ellipse cx=\"466\" cy=\"160\" fill=\"#008000\" rx=\"11\" ry=\"11\" style=\"stroke: #A80036; stroke-width: 1.0;\"/><path d=\"M462.875,165 L462.875,154.4063 L466.1094,154.4063 Q468.0156,154.4063 468.9219,155.1563 Q469.8438,155.9063 469.8438,157.0781 Q469.8438,157.7656 469.4531,158.4219 Q469.0781,159.0781 468.3594,159.375 Q469.2188,159.75 469.7344,160.4375 Q470.25,161.125 470.25,161.9375 Q470.25,163.3125 469.2188,164.1563 Q468.2031,165 466.0938,165 L462.875,165 Z M464.7969,158.6406 L465.9531,158.6406 Q467.0781,158.6406 467.4844,158.2656 Q467.9063,157.875 467.9063,157.25 Q467.9063,156.6719 467.4844,156.3125 Q467.0625,155.9531 466.125,155.9531 L464.7969,155.9531 L464.7969,158.6406 Z M464.7969,163.4219 L466.2969,163.4219 Q467.2031,163.4219 467.7344,163.0313 Q468.2656,162.6406 468.2656,161.8906 Q468.2656,161.125 467.7656,160.6563 Q467.2656,160.1719 466,160.1719 L464.7969,160.1719 L464.7969,163.4219 Z \"/><text fill=\"#000000\" font-family=\"sans-serif\" font-size=\"12\" lengthAdjust=\"spacingAndGlyphs\" textLength=\"8\" x=\"480\" y=\"164.1543\">A</text><line style=\"stroke: #A80036; stroke-width: 1.5;\" x1=\"452\" x2=\"490\" y1=\"176\" y2=\"176\"/></a><!--MD5=[2156ba9850f5573cc1fc38a6a4b2f02b]\n",
       "class E7--><a href=\"psysml:592da980-ebcc-4bfb-b89f-9a898fd7b408\" target=\"_top\" title=\"psysml:592da980-ebcc-4bfb-b89f-9a898fd7b408\" xlink:actuate=\"onRequest\" xlink:href=\"psysml:592da980-ebcc-4bfb-b89f-9a898fd7b408\" xlink:show=\"new\" xlink:title=\"psysml:592da980-ebcc-4bfb-b89f-9a898fd7b408\" xlink:type=\"simple\"><rect fill=\"#FEFECE\" filter=\"url(#f1xvtljoy8tqdh)\" height=\"45.9375\" id=\"E7\" rx=\"10\" ry=\"10\" style=\"stroke: #A80036; stroke-width: 1.5;\" width=\"68\" x=\"384\" y=\"247\"/><ellipse cx=\"399\" cy=\"265.9688\" fill=\"#0000FF\" rx=\"11\" ry=\"11\" style=\"stroke: #A80036; stroke-width: 1.0;\"/><path d=\"M395.8125,270.9688 L395.8125,260.375 L399.4219,260.375 Q400.6406,260.375 401.4375,260.8125 Q402.2344,261.2344 402.6094,261.9375 Q403,262.6406 403,263.4844 Q403,264.3281 402.625,265.0156 Q402.2656,265.7031 401.4688,266.125 Q400.6875,266.5313 399.5,266.5313 L397.7656,266.5313 L397.7656,270.9688 L395.8125,270.9688 Z M397.7656,264.9375 L399.375,264.9375 Q400.1875,264.9375 400.6094,264.5313 Q401.0313,264.125 401.0313,263.4844 Q401.0313,262.8594 400.6094,262.4531 Q400.1875,262.0469 399.3906,262.0469 L397.7656,262.0469 L397.7656,264.9375 Z \"/><text fill=\"#000000\" font-family=\"sans-serif\" font-size=\"12\" font-style=\"italic\" lengthAdjust=\"spacingAndGlyphs\" textLength=\"40\" x=\"411\" y=\"263.1387\">«port»</text><text fill=\"#000000\" font-family=\"sans-serif\" font-size=\"12\" lengthAdjust=\"spacingAndGlyphs\" textLength=\"32\" x=\"415\" y=\"277.1074\">p1: P</text><line style=\"stroke: #A80036; stroke-width: 1.5;\" x1=\"385\" x2=\"451\" y1=\"284.9375\" y2=\"284.9375\"/></a><!--MD5=[b9389687b975829384b498ac4b7476b2]\n",
       "class E8--><a href=\"psysml:4730362b-6892-4b61-8b08-4b1eb3a58a19\" target=\"_top\" title=\"psysml:4730362b-6892-4b61-8b08-4b1eb3a58a19\" xlink:actuate=\"onRequest\" xlink:href=\"psysml:4730362b-6892-4b61-8b08-4b1eb3a58a19\" xlink:show=\"new\" xlink:title=\"psysml:4730362b-6892-4b61-8b08-4b1eb3a58a19\" xlink:type=\"simple\"><rect fill=\"#FEFECE\" filter=\"url(#f1xvtljoy8tqdh)\" height=\"45.9375\" id=\"E8\" rx=\"10\" ry=\"10\" style=\"stroke: #A80036; stroke-width: 1.5;\" width=\"74\" x=\"487\" y=\"247\"/><ellipse cx=\"502\" cy=\"265.9688\" fill=\"#0000FF\" rx=\"11\" ry=\"11\" style=\"stroke: #A80036; stroke-width: 1.0;\"/><path d=\"M498.8125,270.9688 L498.8125,260.375 L502.4219,260.375 Q503.6406,260.375 504.4375,260.8125 Q505.2344,261.2344 505.6094,261.9375 Q506,262.6406 506,263.4844 Q506,264.3281 505.625,265.0156 Q505.2656,265.7031 504.4688,266.125 Q503.6875,266.5313 502.5,266.5313 L500.7656,266.5313 L500.7656,270.9688 L498.8125,270.9688 Z M500.7656,264.9375 L502.375,264.9375 Q503.1875,264.9375 503.6094,264.5313 Q504.0313,264.125 504.0313,263.4844 Q504.0313,262.8594 503.6094,262.4531 Q503.1875,262.0469 502.3906,262.0469 L500.7656,262.0469 L500.7656,264.9375 Z \"/><text fill=\"#000000\" font-family=\"sans-serif\" font-size=\"12\" font-style=\"italic\" lengthAdjust=\"spacingAndGlyphs\" textLength=\"40\" x=\"517\" y=\"263.1387\">«port»</text><text fill=\"#000000\" font-family=\"sans-serif\" font-size=\"12\" lengthAdjust=\"spacingAndGlyphs\" textLength=\"42\" x=\"516\" y=\"277.1074\">p2: ~P</text><line style=\"stroke: #A80036; stroke-width: 1.5;\" x1=\"488\" x2=\"560\" y1=\"284.9375\" y2=\"284.9375\"/></a><!--MD5=[fd4143e9d270a159db93a4ea2a975926]\n",
       "class E9--><a href=\"psysml:c589f335-4cab-4324-b073-03ca89b55f7d\" target=\"_top\" title=\"psysml:c589f335-4cab-4324-b073-03ca89b55f7d\" xlink:actuate=\"onRequest\" xlink:href=\"psysml:c589f335-4cab-4324-b073-03ca89b55f7d\" xlink:show=\"new\" xlink:title=\"psysml:c589f335-4cab-4324-b073-03ca89b55f7d\" xlink:type=\"simple\"><rect fill=\"#FEFECE\" filter=\"url(#f1xvtljoy8tqdh)\" height=\"40\" id=\"E9\" style=\"stroke: #A80036; stroke-width: 1.5;\" width=\"35\" x=\"241.5\" y=\"144\"/><ellipse cx=\"256.5\" cy=\"160\" fill=\"#008000\" rx=\"11\" ry=\"11\" style=\"stroke: #A80036; stroke-width: 1.0;\"/><path d=\"M253.375,165 L253.375,154.4063 L256.6094,154.4063 Q258.5156,154.4063 259.4219,155.1563 Q260.3438,155.9063 260.3438,157.0781 Q260.3438,157.7656 259.9531,158.4219 Q259.5781,159.0781 258.8594,159.375 Q259.7188,159.75 260.2344,160.4375 Q260.75,161.125 260.75,161.9375 Q260.75,163.3125 259.7188,164.1563 Q258.7031,165 256.5938,165 L253.375,165 Z M255.2969,158.6406 L256.4531,158.6406 Q257.5781,158.6406 257.9844,158.2656 Q258.4063,157.875 258.4063,157.25 Q258.4063,156.6719 257.9844,156.3125 Q257.5625,155.9531 256.625,155.9531 L255.2969,155.9531 L255.2969,158.6406 Z M255.2969,163.4219 L256.7969,163.4219 Q257.7031,163.4219 258.2344,163.0313 Q258.7656,162.6406 258.7656,161.8906 Q258.7656,161.125 258.2656,160.6563 Q257.7656,160.1719 256.5,160.1719 L255.2969,160.1719 L255.2969,163.4219 Z \"/><text fill=\"#000000\" font-family=\"sans-serif\" font-size=\"12\" lengthAdjust=\"spacingAndGlyphs\" textLength=\"3\" x=\"270.5\" y=\"164.1543\">I</text><line style=\"stroke: #A80036; stroke-width: 1.5;\" x1=\"242.5\" x2=\"275.5\" y1=\"176\" y2=\"176\"/></a><!--MD5=[96f4274e9e20536e775497830990834d]\n",
       "class E10--><a href=\"psysml:0a18d135-3a15-4f1e-a48b-3983b85e55aa\" target=\"_top\" title=\"psysml:0a18d135-3a15-4f1e-a48b-3983b85e55aa\" xlink:actuate=\"onRequest\" xlink:href=\"psysml:0a18d135-3a15-4f1e-a48b-3983b85e55aa\" xlink:show=\"new\" xlink:title=\"psysml:0a18d135-3a15-4f1e-a48b-3983b85e55aa\" xlink:type=\"simple\"><rect fill=\"#FEFECE\" filter=\"url(#f1xvtljoy8tqdh)\" height=\"45.9375\" id=\"E10\" rx=\"10\" ry=\"10\" style=\"stroke: #A80036; stroke-width: 1.5;\" width=\"68\" x=\"172\" y=\"247\"/><ellipse cx=\"187\" cy=\"265.9688\" fill=\"#0000FF\" rx=\"11\" ry=\"11\" style=\"stroke: #A80036; stroke-width: 1.0;\"/><path d=\"M183.8125,270.9688 L183.8125,260.375 L187.4219,260.375 Q188.6406,260.375 189.4375,260.8125 Q190.2344,261.2344 190.6094,261.9375 Q191,262.6406 191,263.4844 Q191,264.3281 190.625,265.0156 Q190.2656,265.7031 189.4688,266.125 Q188.6875,266.5313 187.5,266.5313 L185.7656,266.5313 L185.7656,270.9688 L183.8125,270.9688 Z M185.7656,264.9375 L187.375,264.9375 Q188.1875,264.9375 188.6094,264.5313 Q189.0313,264.125 189.0313,263.4844 Q189.0313,262.8594 188.6094,262.4531 Q188.1875,262.0469 187.3906,262.0469 L185.7656,262.0469 L185.7656,264.9375 Z \"/><text fill=\"#000000\" font-family=\"sans-serif\" font-size=\"12\" font-style=\"italic\" lengthAdjust=\"spacingAndGlyphs\" textLength=\"40\" x=\"199\" y=\"263.1387\">«port»</text><text fill=\"#000000\" font-family=\"sans-serif\" font-size=\"12\" lengthAdjust=\"spacingAndGlyphs\" textLength=\"32\" x=\"203\" y=\"277.1074\">p1: P</text><line style=\"stroke: #A80036; stroke-width: 1.5;\" x1=\"173\" x2=\"239\" y1=\"284.9375\" y2=\"284.9375\"/></a><!--MD5=[1dd1bfd58a279cf63c5f349dbc8fc6a1]\n",
       "class E11--><a href=\"psysml:f0ebefc1-580e-4b11-b9cf-e3cb40b874a3\" target=\"_top\" title=\"psysml:f0ebefc1-580e-4b11-b9cf-e3cb40b874a3\" xlink:actuate=\"onRequest\" xlink:href=\"psysml:f0ebefc1-580e-4b11-b9cf-e3cb40b874a3\" xlink:show=\"new\" xlink:title=\"psysml:f0ebefc1-580e-4b11-b9cf-e3cb40b874a3\" xlink:type=\"simple\"><rect fill=\"#FEFECE\" filter=\"url(#f1xvtljoy8tqdh)\" height=\"45.9375\" id=\"E11\" rx=\"10\" ry=\"10\" style=\"stroke: #A80036; stroke-width: 1.5;\" width=\"74\" x=\"275\" y=\"247\"/><ellipse cx=\"290\" cy=\"265.9688\" fill=\"#0000FF\" rx=\"11\" ry=\"11\" style=\"stroke: #A80036; stroke-width: 1.0;\"/><path d=\"M286.8125,270.9688 L286.8125,260.375 L290.4219,260.375 Q291.6406,260.375 292.4375,260.8125 Q293.2344,261.2344 293.6094,261.9375 Q294,262.6406 294,263.4844 Q294,264.3281 293.625,265.0156 Q293.2656,265.7031 292.4688,266.125 Q291.6875,266.5313 290.5,266.5313 L288.7656,266.5313 L288.7656,270.9688 L286.8125,270.9688 Z M288.7656,264.9375 L290.375,264.9375 Q291.1875,264.9375 291.6094,264.5313 Q292.0313,264.125 292.0313,263.4844 Q292.0313,262.8594 291.6094,262.4531 Q291.1875,262.0469 290.3906,262.0469 L288.7656,262.0469 L288.7656,264.9375 Z \"/><text fill=\"#000000\" font-family=\"sans-serif\" font-size=\"12\" font-style=\"italic\" lengthAdjust=\"spacingAndGlyphs\" textLength=\"40\" x=\"305\" y=\"263.1387\">«port»</text><text fill=\"#000000\" font-family=\"sans-serif\" font-size=\"12\" lengthAdjust=\"spacingAndGlyphs\" textLength=\"42\" x=\"304\" y=\"277.1074\">p2: ~P</text><line style=\"stroke: #A80036; stroke-width: 1.5;\" x1=\"276\" x2=\"348\" y1=\"284.9375\" y2=\"284.9375\"/></a><!--MD5=[49a0ec8f00dab7302a31f22d0f0fe584]\n",
       "class E12--><a href=\"psysml:99d6c811-1239-4557-8bf5-512a2d9b51f5\" target=\"_top\" title=\"psysml:99d6c811-1239-4557-8bf5-512a2d9b51f5\" xlink:actuate=\"onRequest\" xlink:href=\"psysml:99d6c811-1239-4557-8bf5-512a2d9b51f5\" xlink:show=\"new\" xlink:title=\"psysml:99d6c811-1239-4557-8bf5-512a2d9b51f5\" xlink:type=\"simple\"><rect fill=\"#FEFECE\" filter=\"url(#f1xvtljoy8tqdh)\" height=\"40\" id=\"E12\" style=\"stroke: #A80036; stroke-width: 1.5;\" width=\"48\" x=\"60\" y=\"41\"/><ellipse cx=\"75\" cy=\"57\" fill=\"#008000\" rx=\"11\" ry=\"11\" style=\"stroke: #A80036; stroke-width: 1.0;\"/><path d=\"M71.875,62 L71.875,51.4063 L75.1094,51.4063 Q77.0156,51.4063 77.9219,52.1563 Q78.8438,52.9063 78.8438,54.0781 Q78.8438,54.7656 78.4531,55.4219 Q78.0781,56.0781 77.3594,56.375 Q78.2188,56.75 78.7344,57.4375 Q79.25,58.125 79.25,58.9375 Q79.25,60.3125 78.2188,61.1563 Q77.2031,62 75.0938,62 L71.875,62 Z M73.7969,55.6406 L74.9531,55.6406 Q76.0781,55.6406 76.4844,55.2656 Q76.9063,54.875 76.9063,54.25 Q76.9063,53.6719 76.4844,53.3125 Q76.0625,52.9531 75.125,52.9531 L73.7969,52.9531 L73.7969,55.6406 Z M73.7969,60.4219 L75.2969,60.4219 Q76.2031,60.4219 76.7344,60.0313 Q77.2656,59.6406 77.2656,58.8906 Q77.2656,58.125 76.7656,57.6563 Q76.2656,57.1719 75,57.1719 L73.7969,57.1719 L73.7969,60.4219 Z \"/><text fill=\"#000000\" font-family=\"sans-serif\" font-size=\"12\" lengthAdjust=\"spacingAndGlyphs\" textLength=\"16\" x=\"89\" y=\"61.1543\">B1</text><line style=\"stroke: #A80036; stroke-width: 1.5;\" x1=\"61\" x2=\"107\" y1=\"73\" y2=\"73\"/></a><!--MD5=[ee3c913d1a06f366521f9ef512b67efe]\n",
       "class E13--><a href=\"psysml:c80e6282-4b88-42a6-beea-d83b68d36327\" target=\"_top\" title=\"psysml:c80e6282-4b88-42a6-beea-d83b68d36327\" xlink:actuate=\"onRequest\" xlink:href=\"psysml:c80e6282-4b88-42a6-beea-d83b68d36327\" xlink:show=\"new\" xlink:title=\"psysml:c80e6282-4b88-42a6-beea-d83b68d36327\" xlink:type=\"simple\"><rect fill=\"#FEFECE\" filter=\"url(#f1xvtljoy8tqdh)\" height=\"45.9375\" id=\"E13\" rx=\"10\" ry=\"10\" style=\"stroke: #A80036; stroke-width: 1.5;\" width=\"68\" x=\"50\" y=\"141\"/><ellipse cx=\"65\" cy=\"159.9688\" fill=\"#32CD32\" rx=\"11\" ry=\"11\" style=\"stroke: #A80036; stroke-width: 1.0;\"/><path d=\"M61.8125,164.9688 L61.8125,154.375 L65.4219,154.375 Q66.6406,154.375 67.4375,154.8125 Q68.2344,155.2344 68.6094,155.9375 Q69,156.6406 69,157.4844 Q69,158.3281 68.625,159.0156 Q68.2656,159.7031 67.4688,160.125 Q66.6875,160.5313 65.5,160.5313 L63.7656,160.5313 L63.7656,164.9688 L61.8125,164.9688 Z M63.7656,158.9375 L65.375,158.9375 Q66.1875,158.9375 66.6094,158.5313 Q67.0313,158.125 67.0313,157.4844 Q67.0313,156.8594 66.6094,156.4531 Q66.1875,156.0469 65.3906,156.0469 L63.7656,156.0469 L63.7656,158.9375 Z \"/><text fill=\"#000000\" font-family=\"sans-serif\" font-size=\"12\" font-style=\"italic\" lengthAdjust=\"spacingAndGlyphs\" textLength=\"40\" x=\"77\" y=\"157.1387\">«part»</text><text fill=\"#000000\" font-family=\"sans-serif\" font-size=\"12\" lengthAdjust=\"spacingAndGlyphs\" textLength=\"8\" x=\"93\" y=\"171.1074\">p</text><line style=\"stroke: #A80036; stroke-width: 1.5;\" x1=\"51\" x2=\"117\" y1=\"178.9375\" y2=\"178.9375\"/></a><!--MD5=[bee11217b2f71d958a27249dc326068c]\n",
       "class E14--><a href=\"psysml:36fdd18b-cc96-4106-b803-027f179d9fab\" target=\"_top\" title=\"psysml:36fdd18b-cc96-4106-b803-027f179d9fab\" xlink:actuate=\"onRequest\" xlink:href=\"psysml:36fdd18b-cc96-4106-b803-027f179d9fab\" xlink:show=\"new\" xlink:title=\"psysml:36fdd18b-cc96-4106-b803-027f179d9fab\" xlink:type=\"simple\"><rect fill=\"#FEFECE\" filter=\"url(#f1xvtljoy8tqdh)\" height=\"45.9375\" id=\"E14\" rx=\"10\" ry=\"10\" style=\"stroke: #A80036; stroke-width: 1.5;\" width=\"68\" x=\"69\" y=\"247\"/><ellipse cx=\"84\" cy=\"265.9688\" fill=\"#0000FF\" rx=\"11\" ry=\"11\" style=\"stroke: #A80036; stroke-width: 1.0;\"/><path d=\"M80.8125,270.9688 L80.8125,260.375 L84.4219,260.375 Q85.6406,260.375 86.4375,260.8125 Q87.2344,261.2344 87.6094,261.9375 Q88,262.6406 88,263.4844 Q88,264.3281 87.625,265.0156 Q87.2656,265.7031 86.4688,266.125 Q85.6875,266.5313 84.5,266.5313 L82.7656,266.5313 L82.7656,270.9688 L80.8125,270.9688 Z M82.7656,264.9375 L84.375,264.9375 Q85.1875,264.9375 85.6094,264.5313 Q86.0313,264.125 86.0313,263.4844 Q86.0313,262.8594 85.6094,262.4531 Q85.1875,262.0469 84.3906,262.0469 L82.7656,262.0469 L82.7656,264.9375 Z \"/><text fill=\"#000000\" font-family=\"sans-serif\" font-size=\"12\" font-style=\"italic\" lengthAdjust=\"spacingAndGlyphs\" textLength=\"40\" x=\"96\" y=\"263.1387\">«port»</text><text fill=\"#000000\" font-family=\"sans-serif\" font-size=\"12\" lengthAdjust=\"spacingAndGlyphs\" textLength=\"32\" x=\"100\" y=\"277.1074\">p1: P</text><line style=\"stroke: #A80036; stroke-width: 1.5;\" x1=\"70\" x2=\"136\" y1=\"284.9375\" y2=\"284.9375\"/></a><!--MD5=[0c48fb7552dae8cbbef69381101a84c8]\n",
       "class E15--><a href=\"psysml:a04d4130-2616-430e-82e5-4df6c3f344d5\" target=\"_top\" title=\"psysml:a04d4130-2616-430e-82e5-4df6c3f344d5\" xlink:actuate=\"onRequest\" xlink:href=\"psysml:a04d4130-2616-430e-82e5-4df6c3f344d5\" xlink:show=\"new\" xlink:title=\"psysml:a04d4130-2616-430e-82e5-4df6c3f344d5\" xlink:type=\"simple\"><rect fill=\"#FEFECE\" filter=\"url(#f1xvtljoy8tqdh)\" height=\"45.9375\" id=\"E15\" rx=\"10\" ry=\"10\" style=\"stroke: #A80036; stroke-width: 1.5;\" width=\"74\" x=\"66\" y=\"353\"/><ellipse cx=\"81\" cy=\"371.9688\" fill=\"#0000FF\" rx=\"11\" ry=\"11\" style=\"stroke: #A80036; stroke-width: 1.0;\"/><path d=\"M77.8125,376.9688 L77.8125,366.375 L81.4219,366.375 Q82.6406,366.375 83.4375,366.8125 Q84.2344,367.2344 84.6094,367.9375 Q85,368.6406 85,369.4844 Q85,370.3281 84.625,371.0156 Q84.2656,371.7031 83.4688,372.125 Q82.6875,372.5313 81.5,372.5313 L79.7656,372.5313 L79.7656,376.9688 L77.8125,376.9688 Z M79.7656,370.9375 L81.375,370.9375 Q82.1875,370.9375 82.6094,370.5313 Q83.0313,370.125 83.0313,369.4844 Q83.0313,368.8594 82.6094,368.4531 Q82.1875,368.0469 81.3906,368.0469 L79.7656,368.0469 L79.7656,370.9375 Z \"/><text fill=\"#000000\" font-family=\"sans-serif\" font-size=\"12\" font-style=\"italic\" lengthAdjust=\"spacingAndGlyphs\" textLength=\"40\" x=\"96\" y=\"369.1387\">«port»</text><text fill=\"#000000\" font-family=\"sans-serif\" font-size=\"12\" lengthAdjust=\"spacingAndGlyphs\" textLength=\"42\" x=\"95\" y=\"383.1074\">p2: ~P</text><line style=\"stroke: #A80036; stroke-width: 1.5;\" x1=\"67\" x2=\"139\" y1=\"390.9375\" y2=\"390.9375\"/></a><!--MD5=[4672eba38e49728da53d11aeb285b987]\n",
       "reverse link E3 to E4--><a href=\"psysml:478537c4-9aea-45e7-93bf-51b2f99f76d0\" target=\"_top\" title=\"psysml:478537c4-9aea-45e7-93bf-51b2f99f76d0\" xlink:actuate=\"onRequest\" xlink:href=\"psysml:478537c4-9aea-45e7-93bf-51b2f99f76d0\" xlink:show=\"new\" xlink:title=\"psysml:478537c4-9aea-45e7-93bf-51b2f99f76d0\" xlink:type=\"simple\"><path d=\"M667.3,195.8 C658.96,212.18 648.89,231.94 641.31,246.8 \" fill=\"none\" id=\"E3&lt;-E4\" style=\"stroke: #A80036; stroke-width: 1.0;\"/><polygon fill=\"#FFFFFF\" points=\"673.28,184.08,666.9928,187.6115,667.8345,194.7733,674.1217,191.2418,673.28,184.08\" style=\"stroke: #A80036; stroke-width: 1.0;\"/><text fill=\"#000000\" font-family=\"sans-serif\" font-size=\"13\" lengthAdjust=\"spacingAndGlyphs\" textLength=\"8\" x=\"635.1832\" y=\"236.025\">1</text></a><!--MD5=[185131fc0dcab0a4505a2ebe144e961b]\n",
       "link E4 to E2--><a href=\"psysml:9a27f54b-62e8-4ed3-8ffb-179b9354440f\" target=\"_top\" title=\"psysml:9a27f54b-62e8-4ed3-8ffb-179b9354440f\" xlink:actuate=\"onRequest\" xlink:href=\"psysml:9a27f54b-62e8-4ed3-8ffb-179b9354440f\" xlink:show=\"new\" xlink:title=\"psysml:9a27f54b-62e8-4ed3-8ffb-179b9354440f\" xlink:type=\"simple\"><path d=\"M595.9,286.28 C590.29,288.62 584.51,290.95 579,293 C513.66,317.33 437.42,340.81 384.47,356.36 \" fill=\"none\" id=\"E4-&gt;E2\" style=\"stroke: #A80036; stroke-width: 1.0;\"/><polygon fill=\"#FFFFFF\" points=\"365.04,362.02,381.32,349.98,385.24,363.42,365.04,362.02\" style=\"stroke: #A80036; stroke-width: 1.0;\"/><ellipse cx=\"387.352\" cy=\"350.304\" fill=\"#A80036\" rx=\"2\" ry=\"2\" style=\"stroke: #A80036; stroke-width: 1.0;\"/><ellipse cx=\"390.152\" cy=\"359.904\" fill=\"#A80036\" rx=\"2\" ry=\"2\" style=\"stroke: #A80036; stroke-width: 1.0;\"/></a><!--MD5=[191cde3d490a3f6d7bb551fe3ddca469]\n",
       "reverse link E3 to E5--><a href=\"psysml:0c237cb0-b529-413c-8aaf-d2f6ce3a1092\" target=\"_top\" title=\"psysml:0c237cb0-b529-413c-8aaf-d2f6ce3a1092\" xlink:actuate=\"onRequest\" xlink:href=\"psysml:0c237cb0-b529-413c-8aaf-d2f6ce3a1092\" xlink:show=\"new\" xlink:title=\"psysml:0c237cb0-b529-413c-8aaf-d2f6ce3a1092\" xlink:type=\"simple\"><path d=\"M698.7,195.8 C707.04,212.18 717.11,231.94 724.69,246.8 \" fill=\"none\" id=\"E3&lt;-E5\" style=\"stroke: #A80036; stroke-width: 1.0;\"/><polygon fill=\"#FFFFFF\" points=\"692.72,184.08,691.8783,191.2418,698.1655,194.7733,699.0072,187.6115,692.72,184.08\" style=\"stroke: #A80036; stroke-width: 1.0;\"/><text fill=\"#000000\" font-family=\"sans-serif\" font-size=\"13\" lengthAdjust=\"spacingAndGlyphs\" textLength=\"8\" x=\"712.7668\" y=\"236.025\">1</text></a><!--MD5=[3f50a3473f1dfb74d3f76443e03635af]\n",
       "reverse link E6 to E7--><a href=\"psysml:b94a6cc2-6585-4221-b4bd-c6e1360a7593\" target=\"_top\" title=\"psysml:b94a6cc2-6585-4221-b4bd-c6e1360a7593\" xlink:actuate=\"onRequest\" xlink:href=\"psysml:b94a6cc2-6585-4221-b4bd-c6e1360a7593\" xlink:show=\"new\" xlink:title=\"psysml:b94a6cc2-6585-4221-b4bd-c6e1360a7593\" xlink:type=\"simple\"><path d=\"M455.3,195.8 C446.96,212.18 436.89,231.94 429.31,246.8 \" fill=\"none\" id=\"E6&lt;-E7\" style=\"stroke: #A80036; stroke-width: 1.0;\"/><polygon fill=\"#FFFFFF\" points=\"461.28,184.08,454.9928,187.6115,455.8345,194.7733,462.1217,191.2418,461.28,184.08\" style=\"stroke: #A80036; stroke-width: 1.0;\"/><text fill=\"#000000\" font-family=\"sans-serif\" font-size=\"13\" lengthAdjust=\"spacingAndGlyphs\" textLength=\"8\" x=\"423.1832\" y=\"236.025\">1</text></a><!--MD5=[583832df87f4419a098336a29a52fa00]\n",
       "link E7 to E2--><a href=\"psysml:6c7ecdb4-3704-4141-b5eb-90be274661d4\" target=\"_top\" title=\"psysml:6c7ecdb4-3704-4141-b5eb-90be274661d4\" xlink:actuate=\"onRequest\" xlink:href=\"psysml:6c7ecdb4-3704-4141-b5eb-90be274661d4\" xlink:show=\"new\" xlink:title=\"psysml:6c7ecdb4-3704-4141-b5eb-90be274661d4\" xlink:type=\"simple\"><path d=\"M397,293.06 C384.54,306.15 368.41,323.1 354.05,338.18 \" fill=\"none\" id=\"E7-&gt;E2\" style=\"stroke: #A80036; stroke-width: 1.0;\"/><polygon fill=\"#FFFFFF\" points=\"339.97,352.98,348.0072,334.395,358.1437,344.0517,339.97,352.98\" style=\"stroke: #A80036; stroke-width: 1.0;\"/><ellipse cx=\"353.3869\" cy=\"331.6475\" fill=\"#A80036\" rx=\"2\" ry=\"2\" style=\"stroke: #A80036; stroke-width: 1.0;\"/><ellipse cx=\"360.6273\" cy=\"338.5451\" fill=\"#A80036\" rx=\"2\" ry=\"2\" style=\"stroke: #A80036; stroke-width: 1.0;\"/></a><!--MD5=[f4cf0736d43fd73c4ef68817c49d37d5]\n",
       "reverse link E6 to E8--><a href=\"psysml:c893fa2e-0043-44e8-be45-2077001790d0\" target=\"_top\" title=\"psysml:c893fa2e-0043-44e8-be45-2077001790d0\" xlink:actuate=\"onRequest\" xlink:href=\"psysml:c893fa2e-0043-44e8-be45-2077001790d0\" xlink:show=\"new\" xlink:title=\"psysml:c893fa2e-0043-44e8-be45-2077001790d0\" xlink:type=\"simple\"><path d=\"M486.7,195.8 C495.04,212.18 505.11,231.94 512.69,246.8 \" fill=\"none\" id=\"E6&lt;-E8\" style=\"stroke: #A80036; stroke-width: 1.0;\"/><polygon fill=\"#FFFFFF\" points=\"480.72,184.08,479.8783,191.2418,486.1655,194.7733,487.0072,187.6115,480.72,184.08\" style=\"stroke: #A80036; stroke-width: 1.0;\"/><text fill=\"#000000\" font-family=\"sans-serif\" font-size=\"13\" lengthAdjust=\"spacingAndGlyphs\" textLength=\"8\" x=\"500.7668\" y=\"236.025\">1</text></a><!--MD5=[23ac544a70576c3e717098101004234c]\n",
       "reverse link E9 to E10--><a href=\"psysml:3723b58c-a4dd-4ef3-9a79-2a659572d83c\" target=\"_top\" title=\"psysml:3723b58c-a4dd-4ef3-9a79-2a659572d83c\" xlink:actuate=\"onRequest\" xlink:href=\"psysml:3723b58c-a4dd-4ef3-9a79-2a659572d83c\" xlink:show=\"new\" xlink:title=\"psysml:3723b58c-a4dd-4ef3-9a79-2a659572d83c\" xlink:type=\"simple\"><path d=\"M243.3,195.8 C234.96,212.18 224.89,231.94 217.31,246.8 \" fill=\"none\" id=\"E9&lt;-E10\" style=\"stroke: #A80036; stroke-width: 1.0;\"/><polygon fill=\"#FFFFFF\" points=\"249.28,184.08,242.9928,187.6115,243.8345,194.7733,250.1217,191.2418,249.28,184.08\" style=\"stroke: #A80036; stroke-width: 1.0;\"/><text fill=\"#000000\" font-family=\"sans-serif\" font-size=\"13\" lengthAdjust=\"spacingAndGlyphs\" textLength=\"8\" x=\"211.1832\" y=\"236.025\">1</text></a><!--MD5=[0f36bececdf0dff6e600d6f64214b0f1]\n",
       "link E10 to E2--><a href=\"psysml:8c7a6e5c-2c0e-473c-a2c4-4062964bb416\" target=\"_top\" title=\"psysml:8c7a6e5c-2c0e-473c-a2c4-4062964bb416\" xlink:actuate=\"onRequest\" xlink:href=\"psysml:8c7a6e5c-2c0e-473c-a2c4-4062964bb416\" xlink:show=\"new\" xlink:title=\"psysml:8c7a6e5c-2c0e-473c-a2c4-4062964bb416\" xlink:type=\"simple\"><path d=\"M229.96,293.06 C244.57,306.5 263.58,323.99 280.28,339.36 \" fill=\"none\" id=\"E10-&gt;E2\" style=\"stroke: #A80036; stroke-width: 1.0;\"/><polygon fill=\"#FFFFFF\" points=\"295.07,352.98,276.3495,345.2635,285.8305,334.9625,295.07,352.98\" style=\"stroke: #A80036; stroke-width: 1.0;\"/><ellipse cx=\"273.51\" cy=\"339.9318\" fill=\"#A80036\" rx=\"2\" ry=\"2\" style=\"stroke: #A80036; stroke-width: 1.0;\"/><ellipse cx=\"280.2821\" cy=\"332.5739\" fill=\"#A80036\" rx=\"2\" ry=\"2\" style=\"stroke: #A80036; stroke-width: 1.0;\"/></a><!--MD5=[1fc04a95fd77ad5ce46c1a3027516051]\n",
       "reverse link E9 to E11--><a href=\"psysml:05b52cb0-1bec-4ecb-a4ba-b6e0a5fd36fa\" target=\"_top\" title=\"psysml:05b52cb0-1bec-4ecb-a4ba-b6e0a5fd36fa\" xlink:actuate=\"onRequest\" xlink:href=\"psysml:05b52cb0-1bec-4ecb-a4ba-b6e0a5fd36fa\" xlink:show=\"new\" xlink:title=\"psysml:05b52cb0-1bec-4ecb-a4ba-b6e0a5fd36fa\" xlink:type=\"simple\"><path d=\"M274.7,195.8 C283.04,212.18 293.11,231.94 300.69,246.8 \" fill=\"none\" id=\"E9&lt;-E11\" style=\"stroke: #A80036; stroke-width: 1.0;\"/><polygon fill=\"#FFFFFF\" points=\"268.72,184.08,267.8783,191.2418,274.1655,194.7733,275.0072,187.6115,268.72,184.08\" style=\"stroke: #A80036; stroke-width: 1.0;\"/><text fill=\"#000000\" font-family=\"sans-serif\" font-size=\"13\" lengthAdjust=\"spacingAndGlyphs\" textLength=\"8\" x=\"288.7668\" y=\"236.025\">1</text></a><!--MD5=[062ed86c389d1a88f61c6380d0491e17]\n",
       "reverse link E12 to E13--><a href=\"psysml:2ea9f126-2045-475e-98b2-0bebbeaf39ba\" target=\"_top\" title=\"psysml:2ea9f126-2045-475e-98b2-0bebbeaf39ba\" xlink:actuate=\"onRequest\" xlink:href=\"psysml:2ea9f126-2045-475e-98b2-0bebbeaf39ba\" xlink:show=\"new\" xlink:title=\"psysml:2ea9f126-2045-475e-98b2-0bebbeaf39ba\" xlink:type=\"simple\"><path d=\"M84,94.47 C84,109.59 84,127.2 84,140.77 \" fill=\"none\" id=\"E12&lt;-E13\" style=\"stroke: #A80036; stroke-width: 1.0;\"/><polygon fill=\"#A80036\" points=\"84,81.47,80,87.47,84,93.47,88,87.47,84,81.47\" style=\"stroke: #A80036; stroke-width: 1.0;\"/><text fill=\"#000000\" font-family=\"sans-serif\" font-size=\"13\" lengthAdjust=\"spacingAndGlyphs\" textLength=\"8\" x=\"74.975\" y=\"129.9874\">1</text></a><!--MD5=[01db00f33b28669d6d9febea71002831]\n",
       "reverse link E13 to E14--><a href=\"psysml:56644651-1cff-4e4b-add6-5aaf4cbf3323\" target=\"_top\" title=\"psysml:56644651-1cff-4e4b-add6-5aaf4cbf3323\" xlink:actuate=\"onRequest\" xlink:href=\"psysml:56644651-1cff-4e4b-add6-5aaf4cbf3323\" xlink:show=\"new\" xlink:title=\"psysml:56644651-1cff-4e4b-add6-5aaf4cbf3323\" xlink:type=\"simple\"><path d=\"M90.39,199.96 C93.23,215.51 96.48,233.33 98.98,246.98 \" fill=\"none\" id=\"E13&lt;-E14\" style=\"stroke: #A80036; stroke-width: 1.0;\"/><polygon fill=\"#FFFFFF\" points=\"88.03,187.06,85.1698,193.6796,90.1801,198.8658,93.0403,192.2462,88.03,187.06\" style=\"stroke: #A80036; stroke-width: 1.0;\"/><text fill=\"#000000\" font-family=\"sans-serif\" font-size=\"13\" lengthAdjust=\"spacingAndGlyphs\" textLength=\"8\" x=\"88.8246\" y=\"235.8709\">1</text></a><!--MD5=[e5566ac99d7714697a7fbc17f6b550fe]\n",
       "link E14 to E2--><a href=\"psysml:004f1bd4-f46a-4fc3-b446-5abbd305cc50\" target=\"_top\" title=\"psysml:004f1bd4-f46a-4fc3-b446-5abbd305cc50\" xlink:actuate=\"onRequest\" xlink:href=\"psysml:004f1bd4-f46a-4fc3-b446-5abbd305cc50\" xlink:show=\"new\" xlink:title=\"psysml:004f1bd4-f46a-4fc3-b446-5abbd305cc50\" xlink:type=\"simple\"><path d=\"M137.23,287.48 C168.81,302.69 216.53,325.66 255.15,344.26 \" fill=\"none\" id=\"E14-&gt;E2\" style=\"stroke: #A80036; stroke-width: 1.0;\"/><polygon fill=\"#FFFFFF\" points=\"273.27,352.98,253.1153,351.0335,259.1957,338.4228,273.27,352.98\" style=\"stroke: #A80036; stroke-width: 1.0;\"/><ellipse cx=\"248.8496\" cy=\"346.7564\" fill=\"#A80036\" rx=\"2\" ry=\"2\" style=\"stroke: #A80036; stroke-width: 1.0;\"/><ellipse cx=\"253.1927\" cy=\"337.7487\" fill=\"#A80036\" rx=\"2\" ry=\"2\" style=\"stroke: #A80036; stroke-width: 1.0;\"/></a><!--MD5=[e9a5e828c71fd2209a11a152f562d491]\n",
       "reverse link E13 to E15--><a href=\"psysml:439c4bcd-5bf6-4395-bbdb-0df2330c2504\" target=\"_top\" title=\"psysml:439c4bcd-5bf6-4395-bbdb-0df2330c2504\" xlink:actuate=\"onRequest\" xlink:href=\"psysml:439c4bcd-5bf6-4395-bbdb-0df2330c2504\" xlink:show=\"new\" xlink:title=\"psysml:439c4bcd-5bf6-4395-bbdb-0df2330c2504\" xlink:type=\"simple\"><path d=\"M65.17,199.1 C53.3,224.98 41.82,261.37 51,293 C57.44,315.18 71.88,337.1 83.91,352.69 \" fill=\"none\" id=\"E13&lt;-E15\" style=\"stroke: #A80036; stroke-width: 1.0;\"/><polygon fill=\"#FFFFFF\" points=\"70.93,187.31,64.7009,190.9429,65.6585,198.0902,71.8876,194.4572,70.93,187.31\" style=\"stroke: #A80036; stroke-width: 1.0;\"/><text fill=\"#000000\" font-family=\"sans-serif\" font-size=\"13\" lengthAdjust=\"spacingAndGlyphs\" textLength=\"8\" x=\"69.9932\" y=\"341.8869\">1</text></a><!--MD5=[3afbdc645381407e1bc99677323a2513]\n",
       "link E14 to E15--><a href=\"psysml:356465e0-8362-42f7-8017-4c1d57dccd42\" target=\"_top\" title=\"psysml:356465e0-8362-42f7-8017-4c1d57dccd42\" xlink:actuate=\"onRequest\" xlink:href=\"psysml:356465e0-8362-42f7-8017-4c1d57dccd42\" xlink:show=\"new\" xlink:title=\"psysml:356465e0-8362-42f7-8017-4c1d57dccd42\" xlink:type=\"simple\"><path d=\"M92.35,293.06 C89.55,310.7 89.55,335.34 92.36,352.98 \" fill=\"none\" id=\"E14-E15\" style=\"stroke: #A80036; stroke-width: 3.0;\"/></a><!--MD5=[3afbdc645381407e1bc99677323a2513]\n",
       "link E14 to E15--><a href=\"psysml:be002053-3eab-4239-b4ec-f62d8ddd6fa6\" target=\"_top\" title=\"psysml:be002053-3eab-4239-b4ec-f62d8ddd6fa6\" xlink:actuate=\"onRequest\" xlink:href=\"psysml:be002053-3eab-4239-b4ec-f62d8ddd6fa6\" xlink:show=\"new\" xlink:title=\"psysml:be002053-3eab-4239-b4ec-f62d8ddd6fa6\" xlink:type=\"simple\"><path d=\"M114.27,293.06 C117.24,310.7 117.24,335.34 114.27,352.98 \" fill=\"none\" id=\"E14-E15-1\" style=\"stroke: #A80036; stroke-width: 3.0;\"/></a><!--MD5=[8273ec2128809f8bb01a074e9e0bd06b]\n",
       "@startuml\r\n",
       " \r\n",
       "package \"ConjugationTest\" as E1  [[psysml:811d2e93-771a-4206-9534-119b2782ed8b ]]  {\r\n",
       "comp def \"P\" as E2 << <<(D,brown) port def>> [[psysml:a118eece-ff6c-41b4-a8ec-63007fd81e06 ]] {\r\n",
       "}\r\n",
       "comp def \"B\" as E3 << << (B,green) >> [[psysml:45f3428f-90c5-481c-8b5b-6d42a9c9ecb4 ]] {\r\n",
       "}\r\n",
       "comp usage \"p1: P\" as E4 << << (P,blue) port>> [[psysml:f10162e3-9121-4423-8c61-28bf75aadc9a ]] {\r\n",
       "}\r\n",
       "comp usage \"p2: ~P\" as E5 << << (P,blue) port>> [[psysml:f793b08e-b132-4869-8396-6344384571c9 ]] {\r\n",
       "}\r\n",
       "comp def \"A\" as E6 << << (B,green) >> [[psysml:1e44cf6a-fe6c-483a-98ee-7c5816e24c4f ]] {\r\n",
       "}\r\n",
       "comp usage \"p1: P\" as E7 << << (P,blue) port>> [[psysml:592da980-ebcc-4bfb-b89f-9a898fd7b408 ]] {\r\n",
       "}\r\n",
       "comp usage \"p2: ~P\" as E8 << << (P,blue) port>> [[psysml:4730362b-6892-4b61-8b08-4b1eb3a58a19 ]] {\r\n",
       "}\r\n",
       "comp def \"I\" as E9 << << (B,green) >> [[psysml:c589f335-4cab-4324-b073-03ca89b55f7d ]] {\r\n",
       "}\r\n",
       "comp usage \"p1: P\" as E10 << << (P,blue) port>> [[psysml:0a18d135-3a15-4f1e-a48b-3983b85e55aa ]] {\r\n",
       "}\r\n",
       "comp usage \"p2: ~P\" as E11 << << (P,blue) port>> [[psysml:f0ebefc1-580e-4b11-b9cf-e3cb40b874a3 ]] {\r\n",
       "}\r\n",
       "comp def \"B1\" as E12 << << (B,green) >> [[psysml:99d6c811-1239-4557-8bf5-512a2d9b51f5 ]] {\r\n",
       "}\r\n",
       "comp usage \"p\" as E13 << << (P,limegreen) part>> [[psysml:c80e6282-4b88-42a6-beea-d83b68d36327 ]] {\r\n",
       "}\r\n",
       "comp usage \"p1: P\" as E14 << << (P,blue) port>> [[psysml:36fdd18b-cc96-4106-b803-027f179d9fab ]] {\r\n",
       "}\r\n",
       "comp usage \"p2: ~P\" as E15 << << (P,blue) port>> [[psysml:a04d4130-2616-430e-82e5-4df6c3f344d5 ]] {\r\n",
       "}\r\n",
       "}\r\n",
       "E3 o- - \"1\"E4 [[psysml:478537c4-9aea-45e7-93bf-51b2f99f76d0 ]] \r\n",
       "E4 - -:|> E2 [[psysml:9a27f54b-62e8-4ed3-8ffb-179b9354440f ]] \r\n",
       "E3 o- - \"1\"E5 [[psysml:0c237cb0-b529-413c-8aaf-d2f6ce3a1092 ]] \r\n",
       "E6 o- - \"1\"E7 [[psysml:b94a6cc2-6585-4221-b4bd-c6e1360a7593 ]] \r\n",
       "E7 - -:|> E2 [[psysml:6c7ecdb4-3704-4141-b5eb-90be274661d4 ]] \r\n",
       "E6 o- - \"1\"E8 [[psysml:c893fa2e-0043-44e8-be45-2077001790d0 ]] \r\n",
       "E9 o- - \"1\"E10 [[psysml:3723b58c-a4dd-4ef3-9a79-2a659572d83c ]] \r\n",
       "E10 - -:|> E2 [[psysml:8c7a6e5c-2c0e-473c-a2c4-4062964bb416 ]] \r\n",
       "E9 o- - \"1\"E11 [[psysml:05b52cb0-1bec-4ecb-a4ba-b6e0a5fd36fa ]] \r\n",
       "E12 *- - \"1\"E13 [[psysml:2ea9f126-2045-475e-98b2-0bebbeaf39ba ]] \r\n",
       "E13 o- - \"1\"E14 [[psysml:56644651-1cff-4e4b-add6-5aaf4cbf3323 ]] \r\n",
       "E14 - -:|> E2 [[psysml:004f1bd4-f46a-4fc3-b446-5abbd305cc50 ]] \r\n",
       "E13 o- - \"1\"E15 [[psysml:439c4bcd-5bf6-4395-bbdb-0df2330c2504 ]] \r\n",
       "E14 -[thickness=3]- E15 [[psysml:356465e0-8362-42f7-8017-4c1d57dccd42 ]] \r\n",
       "E14 -[thickness=3]- E15 [[psysml:be002053-3eab-4239-b4ec-f62d8ddd6fa6 ]] \r\n",
       "@enduml\r\n",
       "\n",
       "PlantUML version 1.2020.13(Sat Jun 13 12:26:38 UTC 2020)\n",
       "(EPL source distribution)\n",
       "Java Runtime: OpenJDK Runtime Environment\n",
       "JVM: OpenJDK 64-Bit Server VM\n",
       "Default Encoding: UTF-8\n",
       "Language: en\n",
       "Country: null\n",
       "--></g></svg>"
      ]
     },
     "execution_count": 30,
     "metadata": {},
     "output_type": "execute_result"
    }
   ],
   "source": [
    "%viz --style=\"PLANTUML\" --view=\"Default\" \"ConjugationTest\""
   ]
  },
  {
   "cell_type": "code",
   "execution_count": 31,
   "id": "2f2e79db",
   "metadata": {
    "execution": {
     "iopub.execute_input": "2021-10-03T08:28:07.261778Z",
     "iopub.status.busy": "2021-10-03T08:28:07.261380Z",
     "iopub.status.idle": "2021-10-03T08:28:07.313894Z",
     "shell.execute_reply": "2021-10-03T08:28:07.313529Z"
    }
   },
   "outputs": [
    {
     "data": {
      "image/svg+xml": [
       "<?xml version=\"1.0\" encoding=\"UTF-8\" standalone=\"no\"?><svg xmlns=\"http://www.w3.org/2000/svg\" xmlns:xlink=\"http://www.w3.org/1999/xlink\" contentScriptType=\"application/ecmascript\" contentStyleType=\"text/css\" height=\"427px\" preserveAspectRatio=\"none\" style=\"width:811px;height:427px;\" version=\"1.1\" viewBox=\"0 0 811 427\" width=\"811px\" zoomAndPan=\"magnify\"><defs><filter height=\"300%\" id=\"f1xvtljoy8tqdh\" width=\"300%\" x=\"-1\" y=\"-1\"><feGaussianBlur result=\"blurOut\" stdDeviation=\"2.0\"/><feColorMatrix in=\"blurOut\" result=\"blurOut2\" type=\"matrix\" values=\"0 0 0 0 0 0 0 0 0 0 0 0 0 0 0 0 0 0 .4 0\"/><feOffset dx=\"4.0\" dy=\"4.0\" in=\"blurOut2\" result=\"blurOut3\"/><feBlend in=\"SourceGraphic\" in2=\"blurOut3\" mode=\"normal\"/></filter></defs><g><!--MD5=[fbc87193dbaf4d95561dea2c320d4a47]\n",
       "cluster E1--><a href=\"psysml:811d2e93-771a-4206-9534-119b2782ed8b\" target=\"_top\" title=\"psysml:811d2e93-771a-4206-9534-119b2782ed8b\" xlink:actuate=\"onRequest\" xlink:href=\"psysml:811d2e93-771a-4206-9534-119b2782ed8b\" xlink:show=\"new\" xlink:title=\"psysml:811d2e93-771a-4206-9534-119b2782ed8b\" xlink:type=\"simple\"><polygon fill=\"#FFFFFF\" filter=\"url(#f1xvtljoy8tqdh)\" points=\"16,6,136,6,143,28.2969,789,28.2969,789,415,16,415,16,6\" style=\"stroke: #000000; stroke-width: 1.5;\"/><line style=\"stroke: #000000; stroke-width: 1.5;\" x1=\"16\" x2=\"143\" y1=\"28.2969\" y2=\"28.2969\"/><text fill=\"#000000\" font-family=\"sans-serif\" font-size=\"14\" font-weight=\"bold\" lengthAdjust=\"spacingAndGlyphs\" textLength=\"114\" x=\"20\" y=\"20.9951\">ConjugationTest</text></a><!--MD5=[b4997ac47864f28c2f74865a473b2911]\n",
       "class E2--><a href=\"psysml:a118eece-ff6c-41b4-a8ec-63007fd81e06\" target=\"_top\" title=\"psysml:a118eece-ff6c-41b4-a8ec-63007fd81e06\" xlink:actuate=\"onRequest\" xlink:href=\"psysml:a118eece-ff6c-41b4-a8ec-63007fd81e06\" xlink:show=\"new\" xlink:title=\"psysml:a118eece-ff6c-41b4-a8ec-63007fd81e06\" xlink:type=\"simple\"><rect fill=\"#FEFECE\" filter=\"url(#f1xvtljoy8tqdh)\" height=\"45.9375\" id=\"E2\" style=\"stroke: #A80036; stroke-width: 1.5;\" width=\"92\" x=\"273\" y=\"353\"/><ellipse cx=\"288\" cy=\"371.9688\" fill=\"#A52A2A\" rx=\"11\" ry=\"11\" style=\"stroke: #A80036; stroke-width: 1.0;\"/><path d=\"M285.2188,376.9688 L285.2188,366.375 L287.9531,366.375 Q289.3438,366.375 290.1094,366.7656 Q290.8906,367.1406 291.4219,367.8438 Q291.9531,368.5469 292.25,369.5469 Q292.5469,370.5313 292.5469,371.75 Q292.5,373.3438 292,374.5313 Q291.5156,375.7031 290.4688,376.3438 Q289.4375,376.9688 287.75,376.9688 L285.2188,376.9688 Z M287.0781,375.4688 L287.7031,375.4688 Q288.7813,375.4688 289.4375,375.0156 Q290.0938,374.5625 290.375,373.7344 Q290.6719,372.8906 290.6563,371.7656 Q290.6563,370.5938 290.4063,369.7344 Q290.1563,368.8594 289.5469,368.3906 Q288.9375,367.9063 287.8906,367.9063 L287.0781,367.9063 L287.0781,375.4688 Z \"/><text fill=\"#000000\" font-family=\"sans-serif\" font-size=\"12\" font-style=\"italic\" lengthAdjust=\"spacingAndGlyphs\" textLength=\"64\" x=\"300\" y=\"369.1387\">«port def»</text><text fill=\"#000000\" font-family=\"sans-serif\" font-size=\"12\" lengthAdjust=\"spacingAndGlyphs\" textLength=\"8\" x=\"328\" y=\"383.1074\">P</text><line style=\"stroke: #A80036; stroke-width: 1.5;\" x1=\"274\" x2=\"364\" y1=\"390.9375\" y2=\"390.9375\"/></a><!--MD5=[09b614a08d8cba4a07c9adeb5e0fee81]\n",
       "class E3--><a href=\"psysml:45f3428f-90c5-481c-8b5b-6d42a9c9ecb4\" target=\"_top\" title=\"psysml:45f3428f-90c5-481c-8b5b-6d42a9c9ecb4\" xlink:actuate=\"onRequest\" xlink:href=\"psysml:45f3428f-90c5-481c-8b5b-6d42a9c9ecb4\" xlink:show=\"new\" xlink:title=\"psysml:45f3428f-90c5-481c-8b5b-6d42a9c9ecb4\" xlink:type=\"simple\"><rect fill=\"#FEFECE\" filter=\"url(#f1xvtljoy8tqdh)\" height=\"40\" id=\"E3\" style=\"stroke: #A80036; stroke-width: 1.5;\" width=\"40\" x=\"663\" y=\"144\"/><ellipse cx=\"678\" cy=\"160\" fill=\"#008000\" rx=\"11\" ry=\"11\" style=\"stroke: #A80036; stroke-width: 1.0;\"/><path d=\"M674.875,165 L674.875,154.4063 L678.1094,154.4063 Q680.0156,154.4063 680.9219,155.1563 Q681.8438,155.9063 681.8438,157.0781 Q681.8438,157.7656 681.4531,158.4219 Q681.0781,159.0781 680.3594,159.375 Q681.2188,159.75 681.7344,160.4375 Q682.25,161.125 682.25,161.9375 Q682.25,163.3125 681.2188,164.1563 Q680.2031,165 678.0938,165 L674.875,165 Z M676.7969,158.6406 L677.9531,158.6406 Q679.0781,158.6406 679.4844,158.2656 Q679.9063,157.875 679.9063,157.25 Q679.9063,156.6719 679.4844,156.3125 Q679.0625,155.9531 678.125,155.9531 L676.7969,155.9531 L676.7969,158.6406 Z M676.7969,163.4219 L678.2969,163.4219 Q679.2031,163.4219 679.7344,163.0313 Q680.2656,162.6406 680.2656,161.8906 Q680.2656,161.125 679.7656,160.6563 Q679.2656,160.1719 678,160.1719 L676.7969,160.1719 L676.7969,163.4219 Z \"/><text fill=\"#000000\" font-family=\"sans-serif\" font-size=\"12\" lengthAdjust=\"spacingAndGlyphs\" textLength=\"8\" x=\"692\" y=\"164.1543\">B</text><line style=\"stroke: #A80036; stroke-width: 1.5;\" x1=\"664\" x2=\"702\" y1=\"176\" y2=\"176\"/></a><!--MD5=[ebbe1d658d1005bcc118a6aa81145e00]\n",
       "class E4--><a href=\"psysml:f10162e3-9121-4423-8c61-28bf75aadc9a\" target=\"_top\" title=\"psysml:f10162e3-9121-4423-8c61-28bf75aadc9a\" xlink:actuate=\"onRequest\" xlink:href=\"psysml:f10162e3-9121-4423-8c61-28bf75aadc9a\" xlink:show=\"new\" xlink:title=\"psysml:f10162e3-9121-4423-8c61-28bf75aadc9a\" xlink:type=\"simple\"><rect fill=\"#FEFECE\" filter=\"url(#f1xvtljoy8tqdh)\" height=\"45.9375\" id=\"E4\" rx=\"10\" ry=\"10\" style=\"stroke: #A80036; stroke-width: 1.5;\" width=\"68\" x=\"596\" y=\"247\"/><ellipse cx=\"611\" cy=\"265.9688\" fill=\"#0000FF\" rx=\"11\" ry=\"11\" style=\"stroke: #A80036; stroke-width: 1.0;\"/><path d=\"M607.8125,270.9688 L607.8125,260.375 L611.4219,260.375 Q612.6406,260.375 613.4375,260.8125 Q614.2344,261.2344 614.6094,261.9375 Q615,262.6406 615,263.4844 Q615,264.3281 614.625,265.0156 Q614.2656,265.7031 613.4688,266.125 Q612.6875,266.5313 611.5,266.5313 L609.7656,266.5313 L609.7656,270.9688 L607.8125,270.9688 Z M609.7656,264.9375 L611.375,264.9375 Q612.1875,264.9375 612.6094,264.5313 Q613.0313,264.125 613.0313,263.4844 Q613.0313,262.8594 612.6094,262.4531 Q612.1875,262.0469 611.3906,262.0469 L609.7656,262.0469 L609.7656,264.9375 Z \"/><text fill=\"#000000\" font-family=\"sans-serif\" font-size=\"12\" font-style=\"italic\" lengthAdjust=\"spacingAndGlyphs\" textLength=\"40\" x=\"623\" y=\"263.1387\">«port»</text><text fill=\"#000000\" font-family=\"sans-serif\" font-size=\"12\" lengthAdjust=\"spacingAndGlyphs\" textLength=\"32\" x=\"627\" y=\"277.1074\">p1: P</text><line style=\"stroke: #A80036; stroke-width: 1.5;\" x1=\"597\" x2=\"663\" y1=\"284.9375\" y2=\"284.9375\"/></a><!--MD5=[270fce915f116d4de14055a7c1d9a0f3]\n",
       "class E5--><a href=\"psysml:f793b08e-b132-4869-8396-6344384571c9\" target=\"_top\" title=\"psysml:f793b08e-b132-4869-8396-6344384571c9\" xlink:actuate=\"onRequest\" xlink:href=\"psysml:f793b08e-b132-4869-8396-6344384571c9\" xlink:show=\"new\" xlink:title=\"psysml:f793b08e-b132-4869-8396-6344384571c9\" xlink:type=\"simple\"><rect fill=\"#FEFECE\" filter=\"url(#f1xvtljoy8tqdh)\" height=\"45.9375\" id=\"E5\" rx=\"10\" ry=\"10\" style=\"stroke: #A80036; stroke-width: 1.5;\" width=\"74\" x=\"699\" y=\"247\"/><ellipse cx=\"714\" cy=\"265.9688\" fill=\"#0000FF\" rx=\"11\" ry=\"11\" style=\"stroke: #A80036; stroke-width: 1.0;\"/><path d=\"M710.8125,270.9688 L710.8125,260.375 L714.4219,260.375 Q715.6406,260.375 716.4375,260.8125 Q717.2344,261.2344 717.6094,261.9375 Q718,262.6406 718,263.4844 Q718,264.3281 717.625,265.0156 Q717.2656,265.7031 716.4688,266.125 Q715.6875,266.5313 714.5,266.5313 L712.7656,266.5313 L712.7656,270.9688 L710.8125,270.9688 Z M712.7656,264.9375 L714.375,264.9375 Q715.1875,264.9375 715.6094,264.5313 Q716.0313,264.125 716.0313,263.4844 Q716.0313,262.8594 715.6094,262.4531 Q715.1875,262.0469 714.3906,262.0469 L712.7656,262.0469 L712.7656,264.9375 Z \"/><text fill=\"#000000\" font-family=\"sans-serif\" font-size=\"12\" font-style=\"italic\" lengthAdjust=\"spacingAndGlyphs\" textLength=\"40\" x=\"729\" y=\"263.1387\">«port»</text><text fill=\"#000000\" font-family=\"sans-serif\" font-size=\"12\" lengthAdjust=\"spacingAndGlyphs\" textLength=\"42\" x=\"728\" y=\"277.1074\">p2: ~P</text><line style=\"stroke: #A80036; stroke-width: 1.5;\" x1=\"700\" x2=\"772\" y1=\"284.9375\" y2=\"284.9375\"/></a><!--MD5=[60a26617385b1d2d0262a64233df1f8d]\n",
       "class E6--><a href=\"psysml:1e44cf6a-fe6c-483a-98ee-7c5816e24c4f\" target=\"_top\" title=\"psysml:1e44cf6a-fe6c-483a-98ee-7c5816e24c4f\" xlink:actuate=\"onRequest\" xlink:href=\"psysml:1e44cf6a-fe6c-483a-98ee-7c5816e24c4f\" xlink:show=\"new\" xlink:title=\"psysml:1e44cf6a-fe6c-483a-98ee-7c5816e24c4f\" xlink:type=\"simple\"><rect fill=\"#FEFECE\" filter=\"url(#f1xvtljoy8tqdh)\" height=\"40\" id=\"E6\" style=\"stroke: #A80036; stroke-width: 1.5;\" width=\"40\" x=\"451\" y=\"144\"/><ellipse cx=\"466\" cy=\"160\" fill=\"#008000\" rx=\"11\" ry=\"11\" style=\"stroke: #A80036; stroke-width: 1.0;\"/><path d=\"M462.875,165 L462.875,154.4063 L466.1094,154.4063 Q468.0156,154.4063 468.9219,155.1563 Q469.8438,155.9063 469.8438,157.0781 Q469.8438,157.7656 469.4531,158.4219 Q469.0781,159.0781 468.3594,159.375 Q469.2188,159.75 469.7344,160.4375 Q470.25,161.125 470.25,161.9375 Q470.25,163.3125 469.2188,164.1563 Q468.2031,165 466.0938,165 L462.875,165 Z M464.7969,158.6406 L465.9531,158.6406 Q467.0781,158.6406 467.4844,158.2656 Q467.9063,157.875 467.9063,157.25 Q467.9063,156.6719 467.4844,156.3125 Q467.0625,155.9531 466.125,155.9531 L464.7969,155.9531 L464.7969,158.6406 Z M464.7969,163.4219 L466.2969,163.4219 Q467.2031,163.4219 467.7344,163.0313 Q468.2656,162.6406 468.2656,161.8906 Q468.2656,161.125 467.7656,160.6563 Q467.2656,160.1719 466,160.1719 L464.7969,160.1719 L464.7969,163.4219 Z \"/><text fill=\"#000000\" font-family=\"sans-serif\" font-size=\"12\" lengthAdjust=\"spacingAndGlyphs\" textLength=\"8\" x=\"480\" y=\"164.1543\">A</text><line style=\"stroke: #A80036; stroke-width: 1.5;\" x1=\"452\" x2=\"490\" y1=\"176\" y2=\"176\"/></a><!--MD5=[2156ba9850f5573cc1fc38a6a4b2f02b]\n",
       "class E7--><a href=\"psysml:592da980-ebcc-4bfb-b89f-9a898fd7b408\" target=\"_top\" title=\"psysml:592da980-ebcc-4bfb-b89f-9a898fd7b408\" xlink:actuate=\"onRequest\" xlink:href=\"psysml:592da980-ebcc-4bfb-b89f-9a898fd7b408\" xlink:show=\"new\" xlink:title=\"psysml:592da980-ebcc-4bfb-b89f-9a898fd7b408\" xlink:type=\"simple\"><rect fill=\"#FEFECE\" filter=\"url(#f1xvtljoy8tqdh)\" height=\"45.9375\" id=\"E7\" rx=\"10\" ry=\"10\" style=\"stroke: #A80036; stroke-width: 1.5;\" width=\"68\" x=\"384\" y=\"247\"/><ellipse cx=\"399\" cy=\"265.9688\" fill=\"#0000FF\" rx=\"11\" ry=\"11\" style=\"stroke: #A80036; stroke-width: 1.0;\"/><path d=\"M395.8125,270.9688 L395.8125,260.375 L399.4219,260.375 Q400.6406,260.375 401.4375,260.8125 Q402.2344,261.2344 402.6094,261.9375 Q403,262.6406 403,263.4844 Q403,264.3281 402.625,265.0156 Q402.2656,265.7031 401.4688,266.125 Q400.6875,266.5313 399.5,266.5313 L397.7656,266.5313 L397.7656,270.9688 L395.8125,270.9688 Z M397.7656,264.9375 L399.375,264.9375 Q400.1875,264.9375 400.6094,264.5313 Q401.0313,264.125 401.0313,263.4844 Q401.0313,262.8594 400.6094,262.4531 Q400.1875,262.0469 399.3906,262.0469 L397.7656,262.0469 L397.7656,264.9375 Z \"/><text fill=\"#000000\" font-family=\"sans-serif\" font-size=\"12\" font-style=\"italic\" lengthAdjust=\"spacingAndGlyphs\" textLength=\"40\" x=\"411\" y=\"263.1387\">«port»</text><text fill=\"#000000\" font-family=\"sans-serif\" font-size=\"12\" lengthAdjust=\"spacingAndGlyphs\" textLength=\"32\" x=\"415\" y=\"277.1074\">p1: P</text><line style=\"stroke: #A80036; stroke-width: 1.5;\" x1=\"385\" x2=\"451\" y1=\"284.9375\" y2=\"284.9375\"/></a><!--MD5=[b9389687b975829384b498ac4b7476b2]\n",
       "class E8--><a href=\"psysml:4730362b-6892-4b61-8b08-4b1eb3a58a19\" target=\"_top\" title=\"psysml:4730362b-6892-4b61-8b08-4b1eb3a58a19\" xlink:actuate=\"onRequest\" xlink:href=\"psysml:4730362b-6892-4b61-8b08-4b1eb3a58a19\" xlink:show=\"new\" xlink:title=\"psysml:4730362b-6892-4b61-8b08-4b1eb3a58a19\" xlink:type=\"simple\"><rect fill=\"#FEFECE\" filter=\"url(#f1xvtljoy8tqdh)\" height=\"45.9375\" id=\"E8\" rx=\"10\" ry=\"10\" style=\"stroke: #A80036; stroke-width: 1.5;\" width=\"74\" x=\"487\" y=\"247\"/><ellipse cx=\"502\" cy=\"265.9688\" fill=\"#0000FF\" rx=\"11\" ry=\"11\" style=\"stroke: #A80036; stroke-width: 1.0;\"/><path d=\"M498.8125,270.9688 L498.8125,260.375 L502.4219,260.375 Q503.6406,260.375 504.4375,260.8125 Q505.2344,261.2344 505.6094,261.9375 Q506,262.6406 506,263.4844 Q506,264.3281 505.625,265.0156 Q505.2656,265.7031 504.4688,266.125 Q503.6875,266.5313 502.5,266.5313 L500.7656,266.5313 L500.7656,270.9688 L498.8125,270.9688 Z M500.7656,264.9375 L502.375,264.9375 Q503.1875,264.9375 503.6094,264.5313 Q504.0313,264.125 504.0313,263.4844 Q504.0313,262.8594 503.6094,262.4531 Q503.1875,262.0469 502.3906,262.0469 L500.7656,262.0469 L500.7656,264.9375 Z \"/><text fill=\"#000000\" font-family=\"sans-serif\" font-size=\"12\" font-style=\"italic\" lengthAdjust=\"spacingAndGlyphs\" textLength=\"40\" x=\"517\" y=\"263.1387\">«port»</text><text fill=\"#000000\" font-family=\"sans-serif\" font-size=\"12\" lengthAdjust=\"spacingAndGlyphs\" textLength=\"42\" x=\"516\" y=\"277.1074\">p2: ~P</text><line style=\"stroke: #A80036; stroke-width: 1.5;\" x1=\"488\" x2=\"560\" y1=\"284.9375\" y2=\"284.9375\"/></a><!--MD5=[fd4143e9d270a159db93a4ea2a975926]\n",
       "class E9--><a href=\"psysml:c589f335-4cab-4324-b073-03ca89b55f7d\" target=\"_top\" title=\"psysml:c589f335-4cab-4324-b073-03ca89b55f7d\" xlink:actuate=\"onRequest\" xlink:href=\"psysml:c589f335-4cab-4324-b073-03ca89b55f7d\" xlink:show=\"new\" xlink:title=\"psysml:c589f335-4cab-4324-b073-03ca89b55f7d\" xlink:type=\"simple\"><rect fill=\"#FEFECE\" filter=\"url(#f1xvtljoy8tqdh)\" height=\"40\" id=\"E9\" style=\"stroke: #A80036; stroke-width: 1.5;\" width=\"35\" x=\"241.5\" y=\"144\"/><ellipse cx=\"256.5\" cy=\"160\" fill=\"#008000\" rx=\"11\" ry=\"11\" style=\"stroke: #A80036; stroke-width: 1.0;\"/><path d=\"M253.375,165 L253.375,154.4063 L256.6094,154.4063 Q258.5156,154.4063 259.4219,155.1563 Q260.3438,155.9063 260.3438,157.0781 Q260.3438,157.7656 259.9531,158.4219 Q259.5781,159.0781 258.8594,159.375 Q259.7188,159.75 260.2344,160.4375 Q260.75,161.125 260.75,161.9375 Q260.75,163.3125 259.7188,164.1563 Q258.7031,165 256.5938,165 L253.375,165 Z M255.2969,158.6406 L256.4531,158.6406 Q257.5781,158.6406 257.9844,158.2656 Q258.4063,157.875 258.4063,157.25 Q258.4063,156.6719 257.9844,156.3125 Q257.5625,155.9531 256.625,155.9531 L255.2969,155.9531 L255.2969,158.6406 Z M255.2969,163.4219 L256.7969,163.4219 Q257.7031,163.4219 258.2344,163.0313 Q258.7656,162.6406 258.7656,161.8906 Q258.7656,161.125 258.2656,160.6563 Q257.7656,160.1719 256.5,160.1719 L255.2969,160.1719 L255.2969,163.4219 Z \"/><text fill=\"#000000\" font-family=\"sans-serif\" font-size=\"12\" lengthAdjust=\"spacingAndGlyphs\" textLength=\"3\" x=\"270.5\" y=\"164.1543\">I</text><line style=\"stroke: #A80036; stroke-width: 1.5;\" x1=\"242.5\" x2=\"275.5\" y1=\"176\" y2=\"176\"/></a><!--MD5=[96f4274e9e20536e775497830990834d]\n",
       "class E10--><a href=\"psysml:0a18d135-3a15-4f1e-a48b-3983b85e55aa\" target=\"_top\" title=\"psysml:0a18d135-3a15-4f1e-a48b-3983b85e55aa\" xlink:actuate=\"onRequest\" xlink:href=\"psysml:0a18d135-3a15-4f1e-a48b-3983b85e55aa\" xlink:show=\"new\" xlink:title=\"psysml:0a18d135-3a15-4f1e-a48b-3983b85e55aa\" xlink:type=\"simple\"><rect fill=\"#FEFECE\" filter=\"url(#f1xvtljoy8tqdh)\" height=\"45.9375\" id=\"E10\" rx=\"10\" ry=\"10\" style=\"stroke: #A80036; stroke-width: 1.5;\" width=\"68\" x=\"172\" y=\"247\"/><ellipse cx=\"187\" cy=\"265.9688\" fill=\"#0000FF\" rx=\"11\" ry=\"11\" style=\"stroke: #A80036; stroke-width: 1.0;\"/><path d=\"M183.8125,270.9688 L183.8125,260.375 L187.4219,260.375 Q188.6406,260.375 189.4375,260.8125 Q190.2344,261.2344 190.6094,261.9375 Q191,262.6406 191,263.4844 Q191,264.3281 190.625,265.0156 Q190.2656,265.7031 189.4688,266.125 Q188.6875,266.5313 187.5,266.5313 L185.7656,266.5313 L185.7656,270.9688 L183.8125,270.9688 Z M185.7656,264.9375 L187.375,264.9375 Q188.1875,264.9375 188.6094,264.5313 Q189.0313,264.125 189.0313,263.4844 Q189.0313,262.8594 188.6094,262.4531 Q188.1875,262.0469 187.3906,262.0469 L185.7656,262.0469 L185.7656,264.9375 Z \"/><text fill=\"#000000\" font-family=\"sans-serif\" font-size=\"12\" font-style=\"italic\" lengthAdjust=\"spacingAndGlyphs\" textLength=\"40\" x=\"199\" y=\"263.1387\">«port»</text><text fill=\"#000000\" font-family=\"sans-serif\" font-size=\"12\" lengthAdjust=\"spacingAndGlyphs\" textLength=\"32\" x=\"203\" y=\"277.1074\">p1: P</text><line style=\"stroke: #A80036; stroke-width: 1.5;\" x1=\"173\" x2=\"239\" y1=\"284.9375\" y2=\"284.9375\"/></a><!--MD5=[1dd1bfd58a279cf63c5f349dbc8fc6a1]\n",
       "class E11--><a href=\"psysml:f0ebefc1-580e-4b11-b9cf-e3cb40b874a3\" target=\"_top\" title=\"psysml:f0ebefc1-580e-4b11-b9cf-e3cb40b874a3\" xlink:actuate=\"onRequest\" xlink:href=\"psysml:f0ebefc1-580e-4b11-b9cf-e3cb40b874a3\" xlink:show=\"new\" xlink:title=\"psysml:f0ebefc1-580e-4b11-b9cf-e3cb40b874a3\" xlink:type=\"simple\"><rect fill=\"#FEFECE\" filter=\"url(#f1xvtljoy8tqdh)\" height=\"45.9375\" id=\"E11\" rx=\"10\" ry=\"10\" style=\"stroke: #A80036; stroke-width: 1.5;\" width=\"74\" x=\"275\" y=\"247\"/><ellipse cx=\"290\" cy=\"265.9688\" fill=\"#0000FF\" rx=\"11\" ry=\"11\" style=\"stroke: #A80036; stroke-width: 1.0;\"/><path d=\"M286.8125,270.9688 L286.8125,260.375 L290.4219,260.375 Q291.6406,260.375 292.4375,260.8125 Q293.2344,261.2344 293.6094,261.9375 Q294,262.6406 294,263.4844 Q294,264.3281 293.625,265.0156 Q293.2656,265.7031 292.4688,266.125 Q291.6875,266.5313 290.5,266.5313 L288.7656,266.5313 L288.7656,270.9688 L286.8125,270.9688 Z M288.7656,264.9375 L290.375,264.9375 Q291.1875,264.9375 291.6094,264.5313 Q292.0313,264.125 292.0313,263.4844 Q292.0313,262.8594 291.6094,262.4531 Q291.1875,262.0469 290.3906,262.0469 L288.7656,262.0469 L288.7656,264.9375 Z \"/><text fill=\"#000000\" font-family=\"sans-serif\" font-size=\"12\" font-style=\"italic\" lengthAdjust=\"spacingAndGlyphs\" textLength=\"40\" x=\"305\" y=\"263.1387\">«port»</text><text fill=\"#000000\" font-family=\"sans-serif\" font-size=\"12\" lengthAdjust=\"spacingAndGlyphs\" textLength=\"42\" x=\"304\" y=\"277.1074\">p2: ~P</text><line style=\"stroke: #A80036; stroke-width: 1.5;\" x1=\"276\" x2=\"348\" y1=\"284.9375\" y2=\"284.9375\"/></a><!--MD5=[49a0ec8f00dab7302a31f22d0f0fe584]\n",
       "class E12--><a href=\"psysml:99d6c811-1239-4557-8bf5-512a2d9b51f5\" target=\"_top\" title=\"psysml:99d6c811-1239-4557-8bf5-512a2d9b51f5\" xlink:actuate=\"onRequest\" xlink:href=\"psysml:99d6c811-1239-4557-8bf5-512a2d9b51f5\" xlink:show=\"new\" xlink:title=\"psysml:99d6c811-1239-4557-8bf5-512a2d9b51f5\" xlink:type=\"simple\"><rect fill=\"#FEFECE\" filter=\"url(#f1xvtljoy8tqdh)\" height=\"40\" id=\"E12\" style=\"stroke: #A80036; stroke-width: 1.5;\" width=\"48\" x=\"60\" y=\"41\"/><ellipse cx=\"75\" cy=\"57\" fill=\"#008000\" rx=\"11\" ry=\"11\" style=\"stroke: #A80036; stroke-width: 1.0;\"/><path d=\"M71.875,62 L71.875,51.4063 L75.1094,51.4063 Q77.0156,51.4063 77.9219,52.1563 Q78.8438,52.9063 78.8438,54.0781 Q78.8438,54.7656 78.4531,55.4219 Q78.0781,56.0781 77.3594,56.375 Q78.2188,56.75 78.7344,57.4375 Q79.25,58.125 79.25,58.9375 Q79.25,60.3125 78.2188,61.1563 Q77.2031,62 75.0938,62 L71.875,62 Z M73.7969,55.6406 L74.9531,55.6406 Q76.0781,55.6406 76.4844,55.2656 Q76.9063,54.875 76.9063,54.25 Q76.9063,53.6719 76.4844,53.3125 Q76.0625,52.9531 75.125,52.9531 L73.7969,52.9531 L73.7969,55.6406 Z M73.7969,60.4219 L75.2969,60.4219 Q76.2031,60.4219 76.7344,60.0313 Q77.2656,59.6406 77.2656,58.8906 Q77.2656,58.125 76.7656,57.6563 Q76.2656,57.1719 75,57.1719 L73.7969,57.1719 L73.7969,60.4219 Z \"/><text fill=\"#000000\" font-family=\"sans-serif\" font-size=\"12\" lengthAdjust=\"spacingAndGlyphs\" textLength=\"16\" x=\"89\" y=\"61.1543\">B1</text><line style=\"stroke: #A80036; stroke-width: 1.5;\" x1=\"61\" x2=\"107\" y1=\"73\" y2=\"73\"/></a><!--MD5=[ee3c913d1a06f366521f9ef512b67efe]\n",
       "class E13--><a href=\"psysml:c80e6282-4b88-42a6-beea-d83b68d36327\" target=\"_top\" title=\"psysml:c80e6282-4b88-42a6-beea-d83b68d36327\" xlink:actuate=\"onRequest\" xlink:href=\"psysml:c80e6282-4b88-42a6-beea-d83b68d36327\" xlink:show=\"new\" xlink:title=\"psysml:c80e6282-4b88-42a6-beea-d83b68d36327\" xlink:type=\"simple\"><rect fill=\"#FEFECE\" filter=\"url(#f1xvtljoy8tqdh)\" height=\"45.9375\" id=\"E13\" rx=\"10\" ry=\"10\" style=\"stroke: #A80036; stroke-width: 1.5;\" width=\"68\" x=\"50\" y=\"141\"/><ellipse cx=\"65\" cy=\"159.9688\" fill=\"#32CD32\" rx=\"11\" ry=\"11\" style=\"stroke: #A80036; stroke-width: 1.0;\"/><path d=\"M61.8125,164.9688 L61.8125,154.375 L65.4219,154.375 Q66.6406,154.375 67.4375,154.8125 Q68.2344,155.2344 68.6094,155.9375 Q69,156.6406 69,157.4844 Q69,158.3281 68.625,159.0156 Q68.2656,159.7031 67.4688,160.125 Q66.6875,160.5313 65.5,160.5313 L63.7656,160.5313 L63.7656,164.9688 L61.8125,164.9688 Z M63.7656,158.9375 L65.375,158.9375 Q66.1875,158.9375 66.6094,158.5313 Q67.0313,158.125 67.0313,157.4844 Q67.0313,156.8594 66.6094,156.4531 Q66.1875,156.0469 65.3906,156.0469 L63.7656,156.0469 L63.7656,158.9375 Z \"/><text fill=\"#000000\" font-family=\"sans-serif\" font-size=\"12\" font-style=\"italic\" lengthAdjust=\"spacingAndGlyphs\" textLength=\"40\" x=\"77\" y=\"157.1387\">«part»</text><text fill=\"#000000\" font-family=\"sans-serif\" font-size=\"12\" lengthAdjust=\"spacingAndGlyphs\" textLength=\"8\" x=\"93\" y=\"171.1074\">p</text><line style=\"stroke: #A80036; stroke-width: 1.5;\" x1=\"51\" x2=\"117\" y1=\"178.9375\" y2=\"178.9375\"/></a><!--MD5=[bee11217b2f71d958a27249dc326068c]\n",
       "class E14--><a href=\"psysml:36fdd18b-cc96-4106-b803-027f179d9fab\" target=\"_top\" title=\"psysml:36fdd18b-cc96-4106-b803-027f179d9fab\" xlink:actuate=\"onRequest\" xlink:href=\"psysml:36fdd18b-cc96-4106-b803-027f179d9fab\" xlink:show=\"new\" xlink:title=\"psysml:36fdd18b-cc96-4106-b803-027f179d9fab\" xlink:type=\"simple\"><rect fill=\"#FEFECE\" filter=\"url(#f1xvtljoy8tqdh)\" height=\"45.9375\" id=\"E14\" rx=\"10\" ry=\"10\" style=\"stroke: #A80036; stroke-width: 1.5;\" width=\"68\" x=\"69\" y=\"247\"/><ellipse cx=\"84\" cy=\"265.9688\" fill=\"#0000FF\" rx=\"11\" ry=\"11\" style=\"stroke: #A80036; stroke-width: 1.0;\"/><path d=\"M80.8125,270.9688 L80.8125,260.375 L84.4219,260.375 Q85.6406,260.375 86.4375,260.8125 Q87.2344,261.2344 87.6094,261.9375 Q88,262.6406 88,263.4844 Q88,264.3281 87.625,265.0156 Q87.2656,265.7031 86.4688,266.125 Q85.6875,266.5313 84.5,266.5313 L82.7656,266.5313 L82.7656,270.9688 L80.8125,270.9688 Z M82.7656,264.9375 L84.375,264.9375 Q85.1875,264.9375 85.6094,264.5313 Q86.0313,264.125 86.0313,263.4844 Q86.0313,262.8594 85.6094,262.4531 Q85.1875,262.0469 84.3906,262.0469 L82.7656,262.0469 L82.7656,264.9375 Z \"/><text fill=\"#000000\" font-family=\"sans-serif\" font-size=\"12\" font-style=\"italic\" lengthAdjust=\"spacingAndGlyphs\" textLength=\"40\" x=\"96\" y=\"263.1387\">«port»</text><text fill=\"#000000\" font-family=\"sans-serif\" font-size=\"12\" lengthAdjust=\"spacingAndGlyphs\" textLength=\"32\" x=\"100\" y=\"277.1074\">p1: P</text><line style=\"stroke: #A80036; stroke-width: 1.5;\" x1=\"70\" x2=\"136\" y1=\"284.9375\" y2=\"284.9375\"/></a><!--MD5=[0c48fb7552dae8cbbef69381101a84c8]\n",
       "class E15--><a href=\"psysml:a04d4130-2616-430e-82e5-4df6c3f344d5\" target=\"_top\" title=\"psysml:a04d4130-2616-430e-82e5-4df6c3f344d5\" xlink:actuate=\"onRequest\" xlink:href=\"psysml:a04d4130-2616-430e-82e5-4df6c3f344d5\" xlink:show=\"new\" xlink:title=\"psysml:a04d4130-2616-430e-82e5-4df6c3f344d5\" xlink:type=\"simple\"><rect fill=\"#FEFECE\" filter=\"url(#f1xvtljoy8tqdh)\" height=\"45.9375\" id=\"E15\" rx=\"10\" ry=\"10\" style=\"stroke: #A80036; stroke-width: 1.5;\" width=\"74\" x=\"66\" y=\"353\"/><ellipse cx=\"81\" cy=\"371.9688\" fill=\"#0000FF\" rx=\"11\" ry=\"11\" style=\"stroke: #A80036; stroke-width: 1.0;\"/><path d=\"M77.8125,376.9688 L77.8125,366.375 L81.4219,366.375 Q82.6406,366.375 83.4375,366.8125 Q84.2344,367.2344 84.6094,367.9375 Q85,368.6406 85,369.4844 Q85,370.3281 84.625,371.0156 Q84.2656,371.7031 83.4688,372.125 Q82.6875,372.5313 81.5,372.5313 L79.7656,372.5313 L79.7656,376.9688 L77.8125,376.9688 Z M79.7656,370.9375 L81.375,370.9375 Q82.1875,370.9375 82.6094,370.5313 Q83.0313,370.125 83.0313,369.4844 Q83.0313,368.8594 82.6094,368.4531 Q82.1875,368.0469 81.3906,368.0469 L79.7656,368.0469 L79.7656,370.9375 Z \"/><text fill=\"#000000\" font-family=\"sans-serif\" font-size=\"12\" font-style=\"italic\" lengthAdjust=\"spacingAndGlyphs\" textLength=\"40\" x=\"96\" y=\"369.1387\">«port»</text><text fill=\"#000000\" font-family=\"sans-serif\" font-size=\"12\" lengthAdjust=\"spacingAndGlyphs\" textLength=\"42\" x=\"95\" y=\"383.1074\">p2: ~P</text><line style=\"stroke: #A80036; stroke-width: 1.5;\" x1=\"67\" x2=\"139\" y1=\"390.9375\" y2=\"390.9375\"/></a><!--MD5=[4672eba38e49728da53d11aeb285b987]\n",
       "reverse link E3 to E4--><a href=\"psysml:478537c4-9aea-45e7-93bf-51b2f99f76d0\" target=\"_top\" title=\"psysml:478537c4-9aea-45e7-93bf-51b2f99f76d0\" xlink:actuate=\"onRequest\" xlink:href=\"psysml:478537c4-9aea-45e7-93bf-51b2f99f76d0\" xlink:show=\"new\" xlink:title=\"psysml:478537c4-9aea-45e7-93bf-51b2f99f76d0\" xlink:type=\"simple\"><path d=\"M667.3,195.8 C658.96,212.18 648.89,231.94 641.31,246.8 \" fill=\"none\" id=\"E3&lt;-E4\" style=\"stroke: #A80036; stroke-width: 1.0;\"/><polygon fill=\"#FFFFFF\" points=\"673.28,184.08,666.9928,187.6115,667.8345,194.7733,674.1217,191.2418,673.28,184.08\" style=\"stroke: #A80036; stroke-width: 1.0;\"/><text fill=\"#000000\" font-family=\"sans-serif\" font-size=\"13\" lengthAdjust=\"spacingAndGlyphs\" textLength=\"8\" x=\"635.1832\" y=\"236.025\">1</text></a><!--MD5=[185131fc0dcab0a4505a2ebe144e961b]\n",
       "link E4 to E2--><a href=\"psysml:9a27f54b-62e8-4ed3-8ffb-179b9354440f\" target=\"_top\" title=\"psysml:9a27f54b-62e8-4ed3-8ffb-179b9354440f\" xlink:actuate=\"onRequest\" xlink:href=\"psysml:9a27f54b-62e8-4ed3-8ffb-179b9354440f\" xlink:show=\"new\" xlink:title=\"psysml:9a27f54b-62e8-4ed3-8ffb-179b9354440f\" xlink:type=\"simple\"><path d=\"M595.9,286.28 C590.29,288.62 584.51,290.95 579,293 C513.66,317.33 437.42,340.81 384.47,356.36 \" fill=\"none\" id=\"E4-&gt;E2\" style=\"stroke: #A80036; stroke-width: 1.0;\"/><polygon fill=\"#FFFFFF\" points=\"365.04,362.02,381.32,349.98,385.24,363.42,365.04,362.02\" style=\"stroke: #A80036; stroke-width: 1.0;\"/><ellipse cx=\"387.352\" cy=\"350.304\" fill=\"#A80036\" rx=\"2\" ry=\"2\" style=\"stroke: #A80036; stroke-width: 1.0;\"/><ellipse cx=\"390.152\" cy=\"359.904\" fill=\"#A80036\" rx=\"2\" ry=\"2\" style=\"stroke: #A80036; stroke-width: 1.0;\"/></a><!--MD5=[191cde3d490a3f6d7bb551fe3ddca469]\n",
       "reverse link E3 to E5--><a href=\"psysml:0c237cb0-b529-413c-8aaf-d2f6ce3a1092\" target=\"_top\" title=\"psysml:0c237cb0-b529-413c-8aaf-d2f6ce3a1092\" xlink:actuate=\"onRequest\" xlink:href=\"psysml:0c237cb0-b529-413c-8aaf-d2f6ce3a1092\" xlink:show=\"new\" xlink:title=\"psysml:0c237cb0-b529-413c-8aaf-d2f6ce3a1092\" xlink:type=\"simple\"><path d=\"M698.7,195.8 C707.04,212.18 717.11,231.94 724.69,246.8 \" fill=\"none\" id=\"E3&lt;-E5\" style=\"stroke: #A80036; stroke-width: 1.0;\"/><polygon fill=\"#FFFFFF\" points=\"692.72,184.08,691.8783,191.2418,698.1655,194.7733,699.0072,187.6115,692.72,184.08\" style=\"stroke: #A80036; stroke-width: 1.0;\"/><text fill=\"#000000\" font-family=\"sans-serif\" font-size=\"13\" lengthAdjust=\"spacingAndGlyphs\" textLength=\"8\" x=\"712.7668\" y=\"236.025\">1</text></a><!--MD5=[3f50a3473f1dfb74d3f76443e03635af]\n",
       "reverse link E6 to E7--><a href=\"psysml:b94a6cc2-6585-4221-b4bd-c6e1360a7593\" target=\"_top\" title=\"psysml:b94a6cc2-6585-4221-b4bd-c6e1360a7593\" xlink:actuate=\"onRequest\" xlink:href=\"psysml:b94a6cc2-6585-4221-b4bd-c6e1360a7593\" xlink:show=\"new\" xlink:title=\"psysml:b94a6cc2-6585-4221-b4bd-c6e1360a7593\" xlink:type=\"simple\"><path d=\"M455.3,195.8 C446.96,212.18 436.89,231.94 429.31,246.8 \" fill=\"none\" id=\"E6&lt;-E7\" style=\"stroke: #A80036; stroke-width: 1.0;\"/><polygon fill=\"#FFFFFF\" points=\"461.28,184.08,454.9928,187.6115,455.8345,194.7733,462.1217,191.2418,461.28,184.08\" style=\"stroke: #A80036; stroke-width: 1.0;\"/><text fill=\"#000000\" font-family=\"sans-serif\" font-size=\"13\" lengthAdjust=\"spacingAndGlyphs\" textLength=\"8\" x=\"423.1832\" y=\"236.025\">1</text></a><!--MD5=[583832df87f4419a098336a29a52fa00]\n",
       "link E7 to E2--><a href=\"psysml:6c7ecdb4-3704-4141-b5eb-90be274661d4\" target=\"_top\" title=\"psysml:6c7ecdb4-3704-4141-b5eb-90be274661d4\" xlink:actuate=\"onRequest\" xlink:href=\"psysml:6c7ecdb4-3704-4141-b5eb-90be274661d4\" xlink:show=\"new\" xlink:title=\"psysml:6c7ecdb4-3704-4141-b5eb-90be274661d4\" xlink:type=\"simple\"><path d=\"M397,293.06 C384.54,306.15 368.41,323.1 354.05,338.18 \" fill=\"none\" id=\"E7-&gt;E2\" style=\"stroke: #A80036; stroke-width: 1.0;\"/><polygon fill=\"#FFFFFF\" points=\"339.97,352.98,348.0072,334.395,358.1437,344.0517,339.97,352.98\" style=\"stroke: #A80036; stroke-width: 1.0;\"/><ellipse cx=\"353.3869\" cy=\"331.6475\" fill=\"#A80036\" rx=\"2\" ry=\"2\" style=\"stroke: #A80036; stroke-width: 1.0;\"/><ellipse cx=\"360.6273\" cy=\"338.5451\" fill=\"#A80036\" rx=\"2\" ry=\"2\" style=\"stroke: #A80036; stroke-width: 1.0;\"/></a><!--MD5=[f4cf0736d43fd73c4ef68817c49d37d5]\n",
       "reverse link E6 to E8--><a href=\"psysml:c893fa2e-0043-44e8-be45-2077001790d0\" target=\"_top\" title=\"psysml:c893fa2e-0043-44e8-be45-2077001790d0\" xlink:actuate=\"onRequest\" xlink:href=\"psysml:c893fa2e-0043-44e8-be45-2077001790d0\" xlink:show=\"new\" xlink:title=\"psysml:c893fa2e-0043-44e8-be45-2077001790d0\" xlink:type=\"simple\"><path d=\"M486.7,195.8 C495.04,212.18 505.11,231.94 512.69,246.8 \" fill=\"none\" id=\"E6&lt;-E8\" style=\"stroke: #A80036; stroke-width: 1.0;\"/><polygon fill=\"#FFFFFF\" points=\"480.72,184.08,479.8783,191.2418,486.1655,194.7733,487.0072,187.6115,480.72,184.08\" style=\"stroke: #A80036; stroke-width: 1.0;\"/><text fill=\"#000000\" font-family=\"sans-serif\" font-size=\"13\" lengthAdjust=\"spacingAndGlyphs\" textLength=\"8\" x=\"500.7668\" y=\"236.025\">1</text></a><!--MD5=[23ac544a70576c3e717098101004234c]\n",
       "reverse link E9 to E10--><a href=\"psysml:3723b58c-a4dd-4ef3-9a79-2a659572d83c\" target=\"_top\" title=\"psysml:3723b58c-a4dd-4ef3-9a79-2a659572d83c\" xlink:actuate=\"onRequest\" xlink:href=\"psysml:3723b58c-a4dd-4ef3-9a79-2a659572d83c\" xlink:show=\"new\" xlink:title=\"psysml:3723b58c-a4dd-4ef3-9a79-2a659572d83c\" xlink:type=\"simple\"><path d=\"M243.3,195.8 C234.96,212.18 224.89,231.94 217.31,246.8 \" fill=\"none\" id=\"E9&lt;-E10\" style=\"stroke: #A80036; stroke-width: 1.0;\"/><polygon fill=\"#FFFFFF\" points=\"249.28,184.08,242.9928,187.6115,243.8345,194.7733,250.1217,191.2418,249.28,184.08\" style=\"stroke: #A80036; stroke-width: 1.0;\"/><text fill=\"#000000\" font-family=\"sans-serif\" font-size=\"13\" lengthAdjust=\"spacingAndGlyphs\" textLength=\"8\" x=\"211.1832\" y=\"236.025\">1</text></a><!--MD5=[0f36bececdf0dff6e600d6f64214b0f1]\n",
       "link E10 to E2--><a href=\"psysml:8c7a6e5c-2c0e-473c-a2c4-4062964bb416\" target=\"_top\" title=\"psysml:8c7a6e5c-2c0e-473c-a2c4-4062964bb416\" xlink:actuate=\"onRequest\" xlink:href=\"psysml:8c7a6e5c-2c0e-473c-a2c4-4062964bb416\" xlink:show=\"new\" xlink:title=\"psysml:8c7a6e5c-2c0e-473c-a2c4-4062964bb416\" xlink:type=\"simple\"><path d=\"M229.96,293.06 C244.57,306.5 263.58,323.99 280.28,339.36 \" fill=\"none\" id=\"E10-&gt;E2\" style=\"stroke: #A80036; stroke-width: 1.0;\"/><polygon fill=\"#FFFFFF\" points=\"295.07,352.98,276.3495,345.2635,285.8305,334.9625,295.07,352.98\" style=\"stroke: #A80036; stroke-width: 1.0;\"/><ellipse cx=\"273.51\" cy=\"339.9318\" fill=\"#A80036\" rx=\"2\" ry=\"2\" style=\"stroke: #A80036; stroke-width: 1.0;\"/><ellipse cx=\"280.2821\" cy=\"332.5739\" fill=\"#A80036\" rx=\"2\" ry=\"2\" style=\"stroke: #A80036; stroke-width: 1.0;\"/></a><!--MD5=[1fc04a95fd77ad5ce46c1a3027516051]\n",
       "reverse link E9 to E11--><a href=\"psysml:05b52cb0-1bec-4ecb-a4ba-b6e0a5fd36fa\" target=\"_top\" title=\"psysml:05b52cb0-1bec-4ecb-a4ba-b6e0a5fd36fa\" xlink:actuate=\"onRequest\" xlink:href=\"psysml:05b52cb0-1bec-4ecb-a4ba-b6e0a5fd36fa\" xlink:show=\"new\" xlink:title=\"psysml:05b52cb0-1bec-4ecb-a4ba-b6e0a5fd36fa\" xlink:type=\"simple\"><path d=\"M274.7,195.8 C283.04,212.18 293.11,231.94 300.69,246.8 \" fill=\"none\" id=\"E9&lt;-E11\" style=\"stroke: #A80036; stroke-width: 1.0;\"/><polygon fill=\"#FFFFFF\" points=\"268.72,184.08,267.8783,191.2418,274.1655,194.7733,275.0072,187.6115,268.72,184.08\" style=\"stroke: #A80036; stroke-width: 1.0;\"/><text fill=\"#000000\" font-family=\"sans-serif\" font-size=\"13\" lengthAdjust=\"spacingAndGlyphs\" textLength=\"8\" x=\"288.7668\" y=\"236.025\">1</text></a><!--MD5=[062ed86c389d1a88f61c6380d0491e17]\n",
       "reverse link E12 to E13--><a href=\"psysml:2ea9f126-2045-475e-98b2-0bebbeaf39ba\" target=\"_top\" title=\"psysml:2ea9f126-2045-475e-98b2-0bebbeaf39ba\" xlink:actuate=\"onRequest\" xlink:href=\"psysml:2ea9f126-2045-475e-98b2-0bebbeaf39ba\" xlink:show=\"new\" xlink:title=\"psysml:2ea9f126-2045-475e-98b2-0bebbeaf39ba\" xlink:type=\"simple\"><path d=\"M84,94.47 C84,109.59 84,127.2 84,140.77 \" fill=\"none\" id=\"E12&lt;-E13\" style=\"stroke: #A80036; stroke-width: 1.0;\"/><polygon fill=\"#A80036\" points=\"84,81.47,80,87.47,84,93.47,88,87.47,84,81.47\" style=\"stroke: #A80036; stroke-width: 1.0;\"/><text fill=\"#000000\" font-family=\"sans-serif\" font-size=\"13\" lengthAdjust=\"spacingAndGlyphs\" textLength=\"8\" x=\"74.975\" y=\"129.9874\">1</text></a><!--MD5=[01db00f33b28669d6d9febea71002831]\n",
       "reverse link E13 to E14--><a href=\"psysml:56644651-1cff-4e4b-add6-5aaf4cbf3323\" target=\"_top\" title=\"psysml:56644651-1cff-4e4b-add6-5aaf4cbf3323\" xlink:actuate=\"onRequest\" xlink:href=\"psysml:56644651-1cff-4e4b-add6-5aaf4cbf3323\" xlink:show=\"new\" xlink:title=\"psysml:56644651-1cff-4e4b-add6-5aaf4cbf3323\" xlink:type=\"simple\"><path d=\"M90.39,199.96 C93.23,215.51 96.48,233.33 98.98,246.98 \" fill=\"none\" id=\"E13&lt;-E14\" style=\"stroke: #A80036; stroke-width: 1.0;\"/><polygon fill=\"#FFFFFF\" points=\"88.03,187.06,85.1698,193.6796,90.1801,198.8658,93.0403,192.2462,88.03,187.06\" style=\"stroke: #A80036; stroke-width: 1.0;\"/><text fill=\"#000000\" font-family=\"sans-serif\" font-size=\"13\" lengthAdjust=\"spacingAndGlyphs\" textLength=\"8\" x=\"88.8246\" y=\"235.8709\">1</text></a><!--MD5=[e5566ac99d7714697a7fbc17f6b550fe]\n",
       "link E14 to E2--><a href=\"psysml:004f1bd4-f46a-4fc3-b446-5abbd305cc50\" target=\"_top\" title=\"psysml:004f1bd4-f46a-4fc3-b446-5abbd305cc50\" xlink:actuate=\"onRequest\" xlink:href=\"psysml:004f1bd4-f46a-4fc3-b446-5abbd305cc50\" xlink:show=\"new\" xlink:title=\"psysml:004f1bd4-f46a-4fc3-b446-5abbd305cc50\" xlink:type=\"simple\"><path d=\"M137.23,287.48 C168.81,302.69 216.53,325.66 255.15,344.26 \" fill=\"none\" id=\"E14-&gt;E2\" style=\"stroke: #A80036; stroke-width: 1.0;\"/><polygon fill=\"#FFFFFF\" points=\"273.27,352.98,253.1153,351.0335,259.1957,338.4228,273.27,352.98\" style=\"stroke: #A80036; stroke-width: 1.0;\"/><ellipse cx=\"248.8496\" cy=\"346.7564\" fill=\"#A80036\" rx=\"2\" ry=\"2\" style=\"stroke: #A80036; stroke-width: 1.0;\"/><ellipse cx=\"253.1927\" cy=\"337.7487\" fill=\"#A80036\" rx=\"2\" ry=\"2\" style=\"stroke: #A80036; stroke-width: 1.0;\"/></a><!--MD5=[e9a5e828c71fd2209a11a152f562d491]\n",
       "reverse link E13 to E15--><a href=\"psysml:439c4bcd-5bf6-4395-bbdb-0df2330c2504\" target=\"_top\" title=\"psysml:439c4bcd-5bf6-4395-bbdb-0df2330c2504\" xlink:actuate=\"onRequest\" xlink:href=\"psysml:439c4bcd-5bf6-4395-bbdb-0df2330c2504\" xlink:show=\"new\" xlink:title=\"psysml:439c4bcd-5bf6-4395-bbdb-0df2330c2504\" xlink:type=\"simple\"><path d=\"M65.17,199.1 C53.3,224.98 41.82,261.37 51,293 C57.44,315.18 71.88,337.1 83.91,352.69 \" fill=\"none\" id=\"E13&lt;-E15\" style=\"stroke: #A80036; stroke-width: 1.0;\"/><polygon fill=\"#FFFFFF\" points=\"70.93,187.31,64.7009,190.9429,65.6585,198.0902,71.8876,194.4572,70.93,187.31\" style=\"stroke: #A80036; stroke-width: 1.0;\"/><text fill=\"#000000\" font-family=\"sans-serif\" font-size=\"13\" lengthAdjust=\"spacingAndGlyphs\" textLength=\"8\" x=\"69.9932\" y=\"341.8869\">1</text></a><!--MD5=[3afbdc645381407e1bc99677323a2513]\n",
       "link E14 to E15--><a href=\"psysml:356465e0-8362-42f7-8017-4c1d57dccd42\" target=\"_top\" title=\"psysml:356465e0-8362-42f7-8017-4c1d57dccd42\" xlink:actuate=\"onRequest\" xlink:href=\"psysml:356465e0-8362-42f7-8017-4c1d57dccd42\" xlink:show=\"new\" xlink:title=\"psysml:356465e0-8362-42f7-8017-4c1d57dccd42\" xlink:type=\"simple\"><path d=\"M92.35,293.06 C89.55,310.7 89.55,335.34 92.36,352.98 \" fill=\"none\" id=\"E14-E15\" style=\"stroke: #A80036; stroke-width: 3.0;\"/></a><!--MD5=[3afbdc645381407e1bc99677323a2513]\n",
       "link E14 to E15--><a href=\"psysml:be002053-3eab-4239-b4ec-f62d8ddd6fa6\" target=\"_top\" title=\"psysml:be002053-3eab-4239-b4ec-f62d8ddd6fa6\" xlink:actuate=\"onRequest\" xlink:href=\"psysml:be002053-3eab-4239-b4ec-f62d8ddd6fa6\" xlink:show=\"new\" xlink:title=\"psysml:be002053-3eab-4239-b4ec-f62d8ddd6fa6\" xlink:type=\"simple\"><path d=\"M114.27,293.06 C117.24,310.7 117.24,335.34 114.27,352.98 \" fill=\"none\" id=\"E14-E15-1\" style=\"stroke: #A80036; stroke-width: 3.0;\"/></a><!--MD5=[8273ec2128809f8bb01a074e9e0bd06b]\n",
       "@startuml\r\n",
       " \r\n",
       "package \"ConjugationTest\" as E1  [[psysml:811d2e93-771a-4206-9534-119b2782ed8b ]]  {\r\n",
       "comp def \"P\" as E2 << <<(D,brown) port def>> [[psysml:a118eece-ff6c-41b4-a8ec-63007fd81e06 ]] {\r\n",
       "}\r\n",
       "comp def \"B\" as E3 << << (B,green) >> [[psysml:45f3428f-90c5-481c-8b5b-6d42a9c9ecb4 ]] {\r\n",
       "}\r\n",
       "comp usage \"p1: P\" as E4 << << (P,blue) port>> [[psysml:f10162e3-9121-4423-8c61-28bf75aadc9a ]] {\r\n",
       "}\r\n",
       "comp usage \"p2: ~P\" as E5 << << (P,blue) port>> [[psysml:f793b08e-b132-4869-8396-6344384571c9 ]] {\r\n",
       "}\r\n",
       "comp def \"A\" as E6 << << (B,green) >> [[psysml:1e44cf6a-fe6c-483a-98ee-7c5816e24c4f ]] {\r\n",
       "}\r\n",
       "comp usage \"p1: P\" as E7 << << (P,blue) port>> [[psysml:592da980-ebcc-4bfb-b89f-9a898fd7b408 ]] {\r\n",
       "}\r\n",
       "comp usage \"p2: ~P\" as E8 << << (P,blue) port>> [[psysml:4730362b-6892-4b61-8b08-4b1eb3a58a19 ]] {\r\n",
       "}\r\n",
       "comp def \"I\" as E9 << << (B,green) >> [[psysml:c589f335-4cab-4324-b073-03ca89b55f7d ]] {\r\n",
       "}\r\n",
       "comp usage \"p1: P\" as E10 << << (P,blue) port>> [[psysml:0a18d135-3a15-4f1e-a48b-3983b85e55aa ]] {\r\n",
       "}\r\n",
       "comp usage \"p2: ~P\" as E11 << << (P,blue) port>> [[psysml:f0ebefc1-580e-4b11-b9cf-e3cb40b874a3 ]] {\r\n",
       "}\r\n",
       "comp def \"B1\" as E12 << << (B,green) >> [[psysml:99d6c811-1239-4557-8bf5-512a2d9b51f5 ]] {\r\n",
       "}\r\n",
       "comp usage \"p\" as E13 << << (P,limegreen) part>> [[psysml:c80e6282-4b88-42a6-beea-d83b68d36327 ]] {\r\n",
       "}\r\n",
       "comp usage \"p1: P\" as E14 << << (P,blue) port>> [[psysml:36fdd18b-cc96-4106-b803-027f179d9fab ]] {\r\n",
       "}\r\n",
       "comp usage \"p2: ~P\" as E15 << << (P,blue) port>> [[psysml:a04d4130-2616-430e-82e5-4df6c3f344d5 ]] {\r\n",
       "}\r\n",
       "}\r\n",
       "E3 o- - \"1\"E4 [[psysml:478537c4-9aea-45e7-93bf-51b2f99f76d0 ]] \r\n",
       "E4 - -:|> E2 [[psysml:9a27f54b-62e8-4ed3-8ffb-179b9354440f ]] \r\n",
       "E3 o- - \"1\"E5 [[psysml:0c237cb0-b529-413c-8aaf-d2f6ce3a1092 ]] \r\n",
       "E6 o- - \"1\"E7 [[psysml:b94a6cc2-6585-4221-b4bd-c6e1360a7593 ]] \r\n",
       "E7 - -:|> E2 [[psysml:6c7ecdb4-3704-4141-b5eb-90be274661d4 ]] \r\n",
       "E6 o- - \"1\"E8 [[psysml:c893fa2e-0043-44e8-be45-2077001790d0 ]] \r\n",
       "E9 o- - \"1\"E10 [[psysml:3723b58c-a4dd-4ef3-9a79-2a659572d83c ]] \r\n",
       "E10 - -:|> E2 [[psysml:8c7a6e5c-2c0e-473c-a2c4-4062964bb416 ]] \r\n",
       "E9 o- - \"1\"E11 [[psysml:05b52cb0-1bec-4ecb-a4ba-b6e0a5fd36fa ]] \r\n",
       "E12 *- - \"1\"E13 [[psysml:2ea9f126-2045-475e-98b2-0bebbeaf39ba ]] \r\n",
       "E13 o- - \"1\"E14 [[psysml:56644651-1cff-4e4b-add6-5aaf4cbf3323 ]] \r\n",
       "E14 - -:|> E2 [[psysml:004f1bd4-f46a-4fc3-b446-5abbd305cc50 ]] \r\n",
       "E13 o- - \"1\"E15 [[psysml:439c4bcd-5bf6-4395-bbdb-0df2330c2504 ]] \r\n",
       "E14 -[thickness=3]- E15 [[psysml:356465e0-8362-42f7-8017-4c1d57dccd42 ]] \r\n",
       "E14 -[thickness=3]- E15 [[psysml:be002053-3eab-4239-b4ec-f62d8ddd6fa6 ]] \r\n",
       "@enduml\r\n",
       "\n",
       "PlantUML version 1.2020.13(Sat Jun 13 12:26:38 UTC 2020)\n",
       "(EPL source distribution)\n",
       "Java Runtime: OpenJDK Runtime Environment\n",
       "JVM: OpenJDK 64-Bit Server VM\n",
       "Default Encoding: UTF-8\n",
       "Language: en\n",
       "Country: null\n",
       "--></g></svg>"
      ]
     },
     "execution_count": 31,
     "metadata": {},
     "output_type": "execute_result"
    }
   ],
   "source": [
    "%viz --style=\"PLANTUML\" --view=\"Tree\" \"ConjugationTest\""
   ]
  },
  {
   "cell_type": "code",
   "execution_count": 32,
   "id": "7868dce6",
   "metadata": {
    "execution": {
     "iopub.execute_input": "2021-10-03T08:28:07.362602Z",
     "iopub.status.busy": "2021-10-03T08:28:07.362206Z",
     "iopub.status.idle": "2021-10-03T08:28:07.448834Z",
     "shell.execute_reply": "2021-10-03T08:28:07.446967Z"
    }
   },
   "outputs": [
    {
     "data": {
      "image/svg+xml": [
       "<?xml version=\"1.0\" encoding=\"UTF-8\" standalone=\"no\"?><svg xmlns=\"http://www.w3.org/2000/svg\" xmlns:xlink=\"http://www.w3.org/1999/xlink\" contentScriptType=\"application/ecmascript\" contentStyleType=\"text/css\" height=\"300px\" preserveAspectRatio=\"none\" style=\"width:603px;height:300px;background:#000000;\" version=\"1.1\" viewBox=\"0 0 603 300\" width=\"603px\" zoomAndPan=\"magnify\"><defs/><g><rect fill=\"#0D080E\" height=\"1\" style=\"stroke: #0D080E; stroke-width: 1.0;\" width=\"1\" x=\"0\" y=\"0\"/><rect fill=\"#FFFFFF\" height=\"202.8012\" style=\"stroke: #FFFFFF; stroke-width: 1.0;\" width=\"602\" x=\"0\" y=\"0\"/><text fill=\"#000000\" font-family=\"sans-serif\" font-size=\"12\" font-weight=\"bold\" lengthAdjust=\"spacingAndGlyphs\" textLength=\"139\" x=\"5\" y=\"16.1387\">Welcome to PlantUML!</text><text fill=\"#000000\" font-family=\"sans-serif\" font-size=\"12\" lengthAdjust=\"spacingAndGlyphs\" textLength=\"0\" x=\"9\" y=\"30.1074\"/><text fill=\"#000000\" font-family=\"sans-serif\" font-size=\"12\" lengthAdjust=\"spacingAndGlyphs\" textLength=\"293\" x=\"5\" y=\"44.0762\">If you use this software, you accept its license.</text><text fill=\"#000000\" font-family=\"sans-serif\" font-size=\"12\" lengthAdjust=\"spacingAndGlyphs\" textLength=\"107\" x=\"5\" y=\"58.0449\">(details by typing</text><text fill=\"#000000\" font-family=\"monospace\" font-size=\"12\" lengthAdjust=\"spacingAndGlyphs\" textLength=\"42\" x=\"116\" y=\"58.595\">license</text><text fill=\"#000000\" font-family=\"sans-serif\" font-size=\"12\" lengthAdjust=\"spacingAndGlyphs\" textLength=\"56\" x=\"162\" y=\"58.0449\">keyword)</text><text fill=\"#000000\" font-family=\"sans-serif\" font-size=\"12\" lengthAdjust=\"spacingAndGlyphs\" textLength=\"0\" x=\"9\" y=\"72.0137\"/><text fill=\"#000000\" font-family=\"sans-serif\" font-size=\"12\" lengthAdjust=\"spacingAndGlyphs\" textLength=\"283\" x=\"5\" y=\"85.9824\">You can start with a simple UML Diagram like:</text><text fill=\"#000000\" font-family=\"sans-serif\" font-size=\"12\" lengthAdjust=\"spacingAndGlyphs\" textLength=\"0\" x=\"9\" y=\"99.9512\"/><text fill=\"#000000\" font-family=\"monospace\" font-size=\"12\" lengthAdjust=\"spacingAndGlyphs\" textLength=\"102\" x=\"5\" y=\"113.0893\">Bob-&gt;Alice: Hello</text><text fill=\"#000000\" font-family=\"sans-serif\" font-size=\"12\" lengthAdjust=\"spacingAndGlyphs\" textLength=\"0\" x=\"9\" y=\"126.508\"/><text fill=\"#000000\" font-family=\"sans-serif\" font-size=\"12\" lengthAdjust=\"spacingAndGlyphs\" textLength=\"14\" x=\"5\" y=\"140.4768\">Or</text><text fill=\"#000000\" font-family=\"sans-serif\" font-size=\"12\" lengthAdjust=\"spacingAndGlyphs\" textLength=\"0\" x=\"9\" y=\"154.4455\"/><text fill=\"#000000\" font-family=\"monospace\" font-size=\"12\" lengthAdjust=\"spacingAndGlyphs\" textLength=\"78\" x=\"5\" y=\"167.5837\">class Example</text><text fill=\"#000000\" font-family=\"sans-serif\" font-size=\"12\" lengthAdjust=\"spacingAndGlyphs\" textLength=\"0\" x=\"9\" y=\"181.0023\"/><text fill=\"#000000\" font-family=\"sans-serif\" font-size=\"12\" lengthAdjust=\"spacingAndGlyphs\" textLength=\"349\" x=\"5\" y=\"194.9711\">You will find more information about PlantUML syntax on</text><text fill=\"#000000\" font-family=\"sans-serif\" font-size=\"12\" lengthAdjust=\"spacingAndGlyphs\" text-decoration=\"underline\" textLength=\"129\" x=\"358\" y=\"194.9711\">https://plantuml.com</text><image height=\"71\" width=\"80\" x=\"516\" xlink:href=\"data:image/png;base64,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\" y=\"6\"/><rect fill=\"#000000\" height=\"96.4844\" style=\"stroke: #000000; stroke-width: 1.0;\" width=\"602\" x=\"0\" y=\"202.8012\"/><rect fill=\"#33FF02\" height=\"21.2969\" style=\"stroke: #33FF02; stroke-width: 1.0;\" width=\"145\" x=\"5\" y=\"207.8012\"/><text fill=\"#000000\" font-family=\"sans-serif\" font-size=\"14\" font-weight=\"bold\" lengthAdjust=\"spacingAndGlyphs\" textLength=\"143\" x=\"6\" y=\"222.8012\">[From string (line 2) ]</text><text fill=\"#33FF02\" font-family=\"sans-serif\" font-size=\"14\" font-weight=\"bold\" lengthAdjust=\"spacingAndGlyphs\" textLength=\"0\" x=\"9\" y=\"243.0981\"/><text fill=\"#33FF02\" font-family=\"sans-serif\" font-size=\"14\" font-weight=\"bold\" lengthAdjust=\"spacingAndGlyphs\" textLength=\"70\" x=\"5\" y=\"259.3949\">@startuml</text><text fill=\"#33FF02\" font-family=\"sans-serif\" font-size=\"14\" font-weight=\"bold\" lengthAdjust=\"spacingAndGlyphs\" textLength=\"0\" x=\"9\" y=\"275.6918\"/><text fill=\"#FF0000\" font-family=\"sans-serif\" font-size=\"14\" font-weight=\"bold\" lengthAdjust=\"spacingAndGlyphs\" textLength=\"124\" x=\"9\" y=\"291.9887\">Empty description</text><!--MD5=[f59edd8218d337f74d0c332fc6737304]\n",
       "@startuml\r\n",
       " \r\n",
       "@enduml\r\n",
       "\n",
       "PlantUML version 1.2020.13(Sat Jun 13 12:26:38 UTC 2020)\n",
       "(EPL source distribution)\n",
       "Java Runtime: OpenJDK Runtime Environment\n",
       "JVM: OpenJDK 64-Bit Server VM\n",
       "Default Encoding: UTF-8\n",
       "Language: en\n",
       "Country: null\n",
       "--></g></svg>"
      ]
     },
     "execution_count": 32,
     "metadata": {},
     "output_type": "execute_result"
    }
   ],
   "source": [
    "%viz --style=\"PLANTUML\" --view=\"State\" \"ConjugationTest\""
   ]
  },
  {
   "cell_type": "code",
   "execution_count": 33,
   "id": "03113631",
   "metadata": {
    "execution": {
     "iopub.execute_input": "2021-10-03T08:28:07.497501Z",
     "iopub.status.busy": "2021-10-03T08:28:07.497084Z",
     "iopub.status.idle": "2021-10-03T08:28:07.519777Z",
     "shell.execute_reply": "2021-10-03T08:28:07.518144Z"
    }
   },
   "outputs": [
    {
     "data": {
      "image/svg+xml": [
       "<?xml version=\"1.0\" encoding=\"UTF-8\" standalone=\"no\"?><svg xmlns=\"http://www.w3.org/2000/svg\" xmlns:xlink=\"http://www.w3.org/1999/xlink\" contentScriptType=\"application/ecmascript\" contentStyleType=\"text/css\" height=\"222px\" preserveAspectRatio=\"none\" style=\"width:568px;height:222px;\" version=\"1.1\" viewBox=\"0 0 568 222\" width=\"568px\" zoomAndPan=\"magnify\"><defs><filter height=\"300%\" id=\"f1n8jbp81hsj9t\" width=\"300%\" x=\"-1\" y=\"-1\"><feGaussianBlur result=\"blurOut\" stdDeviation=\"2.0\"/><feColorMatrix in=\"blurOut\" result=\"blurOut2\" type=\"matrix\" values=\"0 0 0 0 0 0 0 0 0 0 0 0 0 0 0 0 0 0 .4 0\"/><feOffset dx=\"4.0\" dy=\"4.0\" in=\"blurOut2\" result=\"blurOut3\"/><feBlend in=\"SourceGraphic\" in2=\"blurOut3\" mode=\"normal\"/></filter></defs><g><!--MD5=[fbc87193dbaf4d95561dea2c320d4a47]\n",
       "cluster E1--><a href=\"psysml:811d2e93-771a-4206-9534-119b2782ed8b\" target=\"_top\" title=\"psysml:811d2e93-771a-4206-9534-119b2782ed8b\" xlink:actuate=\"onRequest\" xlink:href=\"psysml:811d2e93-771a-4206-9534-119b2782ed8b\" xlink:show=\"new\" xlink:title=\"psysml:811d2e93-771a-4206-9534-119b2782ed8b\" xlink:type=\"simple\"><polygon fill=\"#FFFFFF\" filter=\"url(#f1n8jbp81hsj9t)\" points=\"16,6,136,6,143,28.2969,546,28.2969,546,210.5,16,210.5,16,6\" style=\"stroke: #000000; stroke-width: 1.5;\"/><line style=\"stroke: #000000; stroke-width: 1.5;\" x1=\"16\" x2=\"143\" y1=\"28.2969\" y2=\"28.2969\"/><text fill=\"#000000\" font-family=\"sans-serif\" font-size=\"14\" font-weight=\"bold\" lengthAdjust=\"spacingAndGlyphs\" textLength=\"114\" x=\"20\" y=\"20.9951\">ConjugationTest</text></a><!--MD5=[d5e69f78d87373223dbae638b30a9c99]\n",
       "cluster E3--><a href=\"psysml:45f3428f-90c5-481c-8b5b-6d42a9c9ecb4\" target=\"_top\" title=\"psysml:45f3428f-90c5-481c-8b5b-6d42a9c9ecb4\" xlink:actuate=\"onRequest\" xlink:href=\"psysml:45f3428f-90c5-481c-8b5b-6d42a9c9ecb4\" xlink:show=\"new\" xlink:title=\"psysml:45f3428f-90c5-481c-8b5b-6d42a9c9ecb4\" xlink:type=\"simple\"><rect fill=\"#FFFFFF\" filter=\"url(#f1n8jbp81hsj9t)\" height=\"72.5\" id=\"E3\" style=\"stroke: #A80036; stroke-width: 1.5;\" width=\"83\" x=\"451\" y=\"98\"/><rect fill=\"#FEFECE\" height=\"23.9688\" style=\"stroke: #A80036; stroke-width: 1.5;\" width=\"83\" x=\"451\" y=\"98\"/><text fill=\"#000000\" font-family=\"sans-serif\" font-size=\"12\" lengthAdjust=\"spacingAndGlyphs\" textLength=\"8\" x=\"488.5\" y=\"114.1387\">B</text></a><!--MD5=[14e3b0961a2654348d326746436168a1]\n",
       "cluster E6--><a href=\"psysml:1e44cf6a-fe6c-483a-98ee-7c5816e24c4f\" target=\"_top\" title=\"psysml:1e44cf6a-fe6c-483a-98ee-7c5816e24c4f\" xlink:actuate=\"onRequest\" xlink:href=\"psysml:1e44cf6a-fe6c-483a-98ee-7c5816e24c4f\" xlink:show=\"new\" xlink:title=\"psysml:1e44cf6a-fe6c-483a-98ee-7c5816e24c4f\" xlink:type=\"simple\"><rect fill=\"#FFFFFF\" filter=\"url(#f1n8jbp81hsj9t)\" height=\"72.5\" id=\"E6\" style=\"stroke: #A80036; stroke-width: 1.5;\" width=\"83\" x=\"357\" y=\"98\"/><rect fill=\"#FEFECE\" height=\"23.9688\" style=\"stroke: #A80036; stroke-width: 1.5;\" width=\"83\" x=\"357\" y=\"98\"/><text fill=\"#000000\" font-family=\"sans-serif\" font-size=\"12\" lengthAdjust=\"spacingAndGlyphs\" textLength=\"8\" x=\"394.5\" y=\"114.1387\">A</text></a><!--MD5=[7f149f147074ac12df2cb0a7728a5fb0]\n",
       "cluster E9--><a href=\"psysml:c589f335-4cab-4324-b073-03ca89b55f7d\" target=\"_top\" title=\"psysml:c589f335-4cab-4324-b073-03ca89b55f7d\" xlink:actuate=\"onRequest\" xlink:href=\"psysml:c589f335-4cab-4324-b073-03ca89b55f7d\" xlink:show=\"new\" xlink:title=\"psysml:c589f335-4cab-4324-b073-03ca89b55f7d\" xlink:type=\"simple\"><rect fill=\"#FFFFFF\" filter=\"url(#f1n8jbp81hsj9t)\" height=\"72.5\" id=\"E9\" style=\"stroke: #A80036; stroke-width: 1.5;\" width=\"83\" x=\"263\" y=\"98\"/><rect fill=\"#FEFECE\" height=\"23.9688\" style=\"stroke: #A80036; stroke-width: 1.5;\" width=\"83\" x=\"263\" y=\"98\"/><text fill=\"#000000\" font-family=\"sans-serif\" font-size=\"12\" lengthAdjust=\"spacingAndGlyphs\" textLength=\"3\" x=\"303\" y=\"114.1387\">I</text></a><!--MD5=[47bea60c1a0ac6c1143df232041969c0]\n",
       "cluster E12--><a href=\"psysml:99d6c811-1239-4557-8bf5-512a2d9b51f5\" target=\"_top\" title=\"psysml:99d6c811-1239-4557-8bf5-512a2d9b51f5\" xlink:actuate=\"onRequest\" xlink:href=\"psysml:99d6c811-1239-4557-8bf5-512a2d9b51f5\" xlink:show=\"new\" xlink:title=\"psysml:99d6c811-1239-4557-8bf5-512a2d9b51f5\" xlink:type=\"simple\"><rect fill=\"#FFFFFF\" filter=\"url(#f1n8jbp81hsj9t)\" height=\"137.5\" id=\"E12\" style=\"stroke: #A80036; stroke-width: 1.5;\" width=\"107\" x=\"144\" y=\"49\"/><rect fill=\"#FEFECE\" height=\"23.9688\" style=\"stroke: #A80036; stroke-width: 1.5;\" width=\"107\" x=\"144\" y=\"49\"/><text fill=\"#000000\" font-family=\"sans-serif\" font-size=\"12\" lengthAdjust=\"spacingAndGlyphs\" textLength=\"16\" x=\"189.5\" y=\"65.1387\">B1</text></a><!--MD5=[03104f77b71e2d8d3500c651e6e31181]\n",
       "cluster E13--><a href=\"psysml:c80e6282-4b88-42a6-beea-d83b68d36327\" target=\"_top\" title=\"psysml:c80e6282-4b88-42a6-beea-d83b68d36327\" xlink:actuate=\"onRequest\" xlink:href=\"psysml:c80e6282-4b88-42a6-beea-d83b68d36327\" xlink:show=\"new\" xlink:title=\"psysml:c80e6282-4b88-42a6-beea-d83b68d36327\" xlink:type=\"simple\"><rect fill=\"#FFFFFF\" filter=\"url(#f1n8jbp81hsj9t)\" height=\"72.5\" id=\"E13\" rx=\"10\" ry=\"10\" style=\"stroke: #A80036; stroke-width: 1.5;\" width=\"83\" x=\"156\" y=\"98\"/><rect fill=\"#FEFECE\" height=\"23.9688\" rx=\"10\" ry=\"10\" style=\"stroke: #FEFECE; stroke-width: 1.5;\" width=\"83\" x=\"156\" y=\"98\"/><rect fill=\"#FEFECE\" height=\"10\" style=\"stroke: #FEFECE; stroke-width: 1.5;\" width=\"83\" x=\"156\" y=\"111.9688\"/><rect fill=\"none\" height=\"72.5\" id=\"E13\" rx=\"10\" ry=\"10\" style=\"stroke: #A80036; stroke-width: 1.5;\" width=\"83\" x=\"156\" y=\"98\"/><text fill=\"#000000\" font-family=\"sans-serif\" font-size=\"12\" lengthAdjust=\"spacingAndGlyphs\" textLength=\"8\" x=\"193.5\" y=\"114.1387\">p</text><line style=\"stroke: #A80036; stroke-width: 1.0;\" x1=\"156\" x2=\"239\" y1=\"121.9688\" y2=\"121.9688\"/></a><g id=\"E1.E2\"><a href=\"psysml:a118eece-ff6c-41b4-a8ec-63007fd81e06\" target=\"_top\" title=\"psysml:a118eece-ff6c-41b4-a8ec-63007fd81e06\" xlink:actuate=\"onRequest\" xlink:href=\"psysml:a118eece-ff6c-41b4-a8ec-63007fd81e06\" xlink:show=\"new\" xlink:title=\"psysml:a118eece-ff6c-41b4-a8ec-63007fd81e06\" xlink:type=\"simple\"><rect fill=\"#FEFECE\" filter=\"url(#f1n8jbp81hsj9t)\" height=\"42.9375\" id=\"E2\" style=\"stroke: #A80036; stroke-width: 1.5;\" width=\"97\" x=\"31.5\" y=\"76.5\"/><ellipse cx=\"48.75\" cy=\"95.4688\" fill=\"#A52A2A\" rx=\"11\" ry=\"11\" style=\"stroke: #A80036; stroke-width: 1.0;\"/><path d=\"M45.9688,100.4688 L45.9688,89.875 L48.7031,89.875 Q50.0938,89.875 50.8594,90.2656 Q51.6406,90.6406 52.1719,91.3438 Q52.7031,92.0469 53,93.0469 Q53.2969,94.0313 53.2969,95.25 Q53.25,96.8438 52.75,98.0313 Q52.2656,99.2031 51.2188,99.8438 Q50.1875,100.4688 48.5,100.4688 L45.9688,100.4688 Z M47.8281,98.9688 L48.4531,98.9688 Q49.5313,98.9688 50.1875,98.5156 Q50.8438,98.0625 51.125,97.2344 Q51.4219,96.3906 51.4063,95.2656 Q51.4063,94.0938 51.1563,93.2344 Q50.9063,92.3594 50.2969,91.8906 Q49.6875,91.4063 48.6406,91.4063 L47.8281,91.4063 L47.8281,98.9688 Z \"/><text fill=\"#000000\" font-family=\"sans-serif\" font-size=\"12\" font-style=\"italic\" lengthAdjust=\"spacingAndGlyphs\" textLength=\"64\" x=\"61.25\" y=\"92.6387\">«port def»</text><text fill=\"#000000\" font-family=\"sans-serif\" font-size=\"12\" lengthAdjust=\"spacingAndGlyphs\" textLength=\"8\" x=\"89.25\" y=\"106.6074\">P</text></a></g><text fill=\"#000000\" font-family=\"sans-serif\" font-size=\"14\" lengthAdjust=\"spacingAndGlyphs\" textLength=\"36\" x=\"451\" y=\"76.6982\">p1: P</text><rect fill=\"#A80036\" height=\"12\" style=\"stroke: #FEFECE; stroke-width: 1.5;\" width=\"12\" x=\"463\" y=\"92\"/><text fill=\"#000000\" font-family=\"sans-serif\" font-size=\"14\" lengthAdjust=\"spacingAndGlyphs\" textLength=\"48\" x=\"492\" y=\"76.6982\">p2: ~P</text><rect fill=\"#A80036\" height=\"12\" style=\"stroke: #FEFECE; stroke-width: 1.5;\" width=\"12\" x=\"510\" y=\"92\"/><text fill=\"#000000\" font-family=\"sans-serif\" font-size=\"14\" lengthAdjust=\"spacingAndGlyphs\" textLength=\"36\" x=\"357\" y=\"76.6982\">p1: P</text><rect fill=\"#A80036\" height=\"12\" style=\"stroke: #FEFECE; stroke-width: 1.5;\" width=\"12\" x=\"369\" y=\"92\"/><text fill=\"#000000\" font-family=\"sans-serif\" font-size=\"14\" lengthAdjust=\"spacingAndGlyphs\" textLength=\"48\" x=\"398\" y=\"76.6982\">p2: ~P</text><rect fill=\"#A80036\" height=\"12\" style=\"stroke: #FEFECE; stroke-width: 1.5;\" width=\"12\" x=\"416\" y=\"92\"/><text fill=\"#000000\" font-family=\"sans-serif\" font-size=\"14\" lengthAdjust=\"spacingAndGlyphs\" textLength=\"36\" x=\"263\" y=\"76.6982\">p1: P</text><rect fill=\"#A80036\" height=\"12\" style=\"stroke: #FEFECE; stroke-width: 1.5;\" width=\"12\" x=\"275\" y=\"92\"/><text fill=\"#000000\" font-family=\"sans-serif\" font-size=\"14\" lengthAdjust=\"spacingAndGlyphs\" textLength=\"48\" x=\"304\" y=\"76.6982\">p2: ~P</text><rect fill=\"#A80036\" height=\"12\" style=\"stroke: #FEFECE; stroke-width: 1.5;\" width=\"12\" x=\"322\" y=\"92\"/><text fill=\"#000000\" font-family=\"sans-serif\" font-size=\"14\" lengthAdjust=\"spacingAndGlyphs\" textLength=\"36\" x=\"156\" y=\"76.6982\">p1: P</text><rect fill=\"#A80036\" height=\"12\" style=\"stroke: #FEFECE; stroke-width: 1.5;\" width=\"12\" x=\"168\" y=\"92\"/><text fill=\"#000000\" font-family=\"sans-serif\" font-size=\"14\" lengthAdjust=\"spacingAndGlyphs\" textLength=\"48\" x=\"197\" y=\"76.6982\">p2: ~P</text><rect fill=\"#A80036\" height=\"12\" style=\"stroke: #FEFECE; stroke-width: 1.5;\" width=\"12\" x=\"215\" y=\"92\"/><!--MD5=[3afbdc645381407e1bc99677323a2513]\n",
       "link E14 to E15--><a href=\"psysml:356465e0-8362-42f7-8017-4c1d57dccd42\" target=\"_top\" title=\"psysml:356465e0-8362-42f7-8017-4c1d57dccd42\" xlink:actuate=\"onRequest\" xlink:href=\"psysml:356465e0-8362-42f7-8017-4c1d57dccd42\" xlink:show=\"new\" xlink:title=\"psysml:356465e0-8362-42f7-8017-4c1d57dccd42\" xlink:type=\"simple\"><path d=\"M180.24,98 C191.81,98 203.38,98 214.95,98 \" fill=\"none\" id=\"E14-E15\" style=\"stroke: #A80036; stroke-width: 3.0;\"/></a><!--MD5=[3afbdc645381407e1bc99677323a2513]\n",
       "link E14 to E15--><a href=\"psysml:be002053-3eab-4239-b4ec-f62d8ddd6fa6\" target=\"_top\" title=\"psysml:be002053-3eab-4239-b4ec-f62d8ddd6fa6\" xlink:actuate=\"onRequest\" xlink:href=\"psysml:be002053-3eab-4239-b4ec-f62d8ddd6fa6\" xlink:show=\"new\" xlink:title=\"psysml:be002053-3eab-4239-b4ec-f62d8ddd6fa6\" xlink:type=\"simple\"><path d=\"M180.24,95.93 C191.81,92.67 203.38,92.69 214.95,95.98 \" fill=\"none\" id=\"E14-E15-1\" style=\"stroke: #A80036; stroke-width: 3.0;\"/></a><!--MD5=[3e7e2b555bdefb5e022386282d836095]\n",
       "@startuml\r\n",
       "skinparam ranksep 10\r\n",
       "skinparam rectangle {\r\n",
       " backgroundColor<<block>> LightGreen\r\n",
       "}\r\n",
       " \r\n",
       "package \"ConjugationTest\" as E1  [[psysml:811d2e93-771a-4206-9534-119b2782ed8b ]]  {\r\n",
       "def \"P\" as E2 << <<(D,brown) port def>> [[psysml:a118eece-ff6c-41b4-a8ec-63007fd81e06 ]] \r\n",
       "rec def \"B\" as E3 << << (B,green) >> [[psysml:45f3428f-90c5-481c-8b5b-6d42a9c9ecb4 ]] {\r\n",
       "portin \"p1: P\" as E4 << << (P,blue) port>> [[psysml:f10162e3-9121-4423-8c61-28bf75aadc9a ]] \r\n",
       "portin \"p2: ~P\" as E5 << << (P,blue) port>> [[psysml:f793b08e-b132-4869-8396-6344384571c9 ]] \r\n",
       "}\r\n",
       "rec def \"A\" as E6 << << (B,green) >> [[psysml:1e44cf6a-fe6c-483a-98ee-7c5816e24c4f ]] {\r\n",
       "portin \"p1: P\" as E7 << << (P,blue) port>> [[psysml:592da980-ebcc-4bfb-b89f-9a898fd7b408 ]] \r\n",
       "portin \"p2: ~P\" as E8 << << (P,blue) port>> [[psysml:4730362b-6892-4b61-8b08-4b1eb3a58a19 ]] \r\n",
       "}\r\n",
       "rec def \"I\" as E9 << << (B,green) >> [[psysml:c589f335-4cab-4324-b073-03ca89b55f7d ]] {\r\n",
       "portin \"p1: P\" as E10 << << (P,blue) port>> [[psysml:0a18d135-3a15-4f1e-a48b-3983b85e55aa ]] \r\n",
       "portin \"p2: ~P\" as E11 << << (P,blue) port>> [[psysml:f0ebefc1-580e-4b11-b9cf-e3cb40b874a3 ]] \r\n",
       "}\r\n",
       "rec def \"B1\" as E12 << << (B,green) >> [[psysml:99d6c811-1239-4557-8bf5-512a2d9b51f5 ]] {\r\n",
       "rec usage \"p\" as E13  [[psysml:c80e6282-4b88-42a6-beea-d83b68d36327 ]] {\r\n",
       "portin \"p1: P\" as E14 << << (P,blue) port>> [[psysml:36fdd18b-cc96-4106-b803-027f179d9fab ]] \r\n",
       "portin \"p2: ~P\" as E15 << << (P,blue) port>> [[psysml:a04d4130-2616-430e-82e5-4df6c3f344d5 ]] \r\n",
       "}\r\n",
       "}\r\n",
       "}\r\n",
       "E14 -[thickness=3]- E15 [[psysml:356465e0-8362-42f7-8017-4c1d57dccd42 ]] \r\n",
       "E14 -[thickness=3]- E15 [[psysml:be002053-3eab-4239-b4ec-f62d8ddd6fa6 ]] \r\n",
       "@enduml\r\n",
       "\n",
       "PlantUML version 1.2020.13(Sat Jun 13 12:26:38 UTC 2020)\n",
       "(EPL source distribution)\n",
       "Java Runtime: OpenJDK Runtime Environment\n",
       "JVM: OpenJDK 64-Bit Server VM\n",
       "Default Encoding: UTF-8\n",
       "Language: en\n",
       "Country: null\n",
       "--></g></svg>"
      ]
     },
     "execution_count": 33,
     "metadata": {},
     "output_type": "execute_result"
    }
   ],
   "source": [
    "%viz --style=\"PLANTUML\" --view=\"Interconnection\" \"ConjugationTest\""
   ]
  },
  {
   "cell_type": "code",
   "execution_count": 34,
   "id": "65ba85a8",
   "metadata": {
    "execution": {
     "iopub.execute_input": "2021-10-03T08:28:07.568955Z",
     "iopub.status.busy": "2021-10-03T08:28:07.568540Z",
     "iopub.status.idle": "2021-10-03T08:28:07.572665Z",
     "shell.execute_reply": "2021-10-03T08:28:07.572276Z"
    }
   },
   "outputs": [
    {
     "data": {
      "image/svg+xml": [
       "<?xml version=\"1.0\" encoding=\"UTF-8\" standalone=\"no\"?><svg xmlns=\"http://www.w3.org/2000/svg\" xmlns:xlink=\"http://www.w3.org/1999/xlink\" contentScriptType=\"application/ecmascript\" contentStyleType=\"text/css\" height=\"12px\" preserveAspectRatio=\"none\" style=\"width:12px;height:12px;\" version=\"1.1\" viewBox=\"0 0 12 12\" width=\"12px\" zoomAndPan=\"magnify\"><defs/><g><!--MD5=[6a4cb978cab31700e1ce5529f947a75d]\n",
       "@startuml\r\n",
       "skinparam ranksep 8\r\n",
       " \r\n",
       "@enduml\r\n",
       "\n",
       "PlantUML version 1.2020.13(Sat Jun 13 12:26:38 UTC 2020)\n",
       "(EPL source distribution)\n",
       "Java Runtime: OpenJDK Runtime Environment\n",
       "JVM: OpenJDK 64-Bit Server VM\n",
       "Default Encoding: UTF-8\n",
       "Language: en\n",
       "Country: null\n",
       "--></g></svg>"
      ]
     },
     "execution_count": 34,
     "metadata": {},
     "output_type": "execute_result"
    }
   ],
   "source": [
    "%viz --style=\"PLANTUML\" --view=\"Action\" \"ConjugationTest\""
   ]
  },
  {
   "cell_type": "code",
   "execution_count": 35,
   "id": "45bfa995",
   "metadata": {
    "execution": {
     "iopub.execute_input": "2021-10-03T08:28:07.622284Z",
     "iopub.status.busy": "2021-10-03T08:28:07.621865Z",
     "iopub.status.idle": "2021-10-03T08:28:07.627459Z",
     "shell.execute_reply": "2021-10-03T08:28:07.627099Z"
    }
   },
   "outputs": [
    {
     "data": {
      "image/svg+xml": [
       "<?xml version=\"1.0\" encoding=\"UTF-8\" standalone=\"no\"?><svg xmlns=\"http://www.w3.org/2000/svg\" xmlns:xlink=\"http://www.w3.org/1999/xlink\" contentScriptType=\"application/ecmascript\" contentStyleType=\"text/css\" height=\"12px\" preserveAspectRatio=\"none\" style=\"width:12px;height:12px;\" version=\"1.1\" viewBox=\"0 0 12 12\" width=\"12px\" zoomAndPan=\"magnify\"><defs/><g><!--MD5=[ca4faa0b02def275ea33c14ea7a1a98d]\n",
       "@startuml\r\n",
       "skinparam roundcorner 20\r\n",
       "skinparam BoxPadding 20\r\n",
       "skinparam SequenceBoxBackgroundColor #white\r\n",
       "skinparam style strictuml\r\n",
       "skinparam maxMessageSize 100\r\n",
       " \r\n",
       "@enduml\r\n",
       "\n",
       "PlantUML version 1.2020.13(Sat Jun 13 12:26:38 UTC 2020)\n",
       "(EPL source distribution)\n",
       "Java Runtime: OpenJDK Runtime Environment\n",
       "JVM: OpenJDK 64-Bit Server VM\n",
       "Default Encoding: UTF-8\n",
       "Language: en\n",
       "Country: null\n",
       "--></g></svg>"
      ]
     },
     "execution_count": 35,
     "metadata": {},
     "output_type": "execute_result"
    }
   ],
   "source": [
    "%viz --style=\"PLANTUML\" --view=\"Sequence\" \"ConjugationTest\""
   ]
  },
  {
   "cell_type": "code",
   "execution_count": 36,
   "id": "015772dd",
   "metadata": {
    "execution": {
     "iopub.execute_input": "2021-10-03T08:28:07.677303Z",
     "iopub.status.busy": "2021-10-03T08:28:07.676875Z",
     "iopub.status.idle": "2021-10-03T08:28:07.734776Z",
     "shell.execute_reply": "2021-10-03T08:28:07.730702Z"
    }
   },
   "outputs": [
    {
     "data": {
      "image/svg+xml": [
       "<?xml version=\"1.0\" encoding=\"UTF-8\" standalone=\"no\"?><svg xmlns=\"http://www.w3.org/2000/svg\" xmlns:xlink=\"http://www.w3.org/1999/xlink\" contentScriptType=\"application/ecmascript\" contentStyleType=\"text/css\" height=\"427px\" preserveAspectRatio=\"none\" style=\"width:811px;height:427px;\" version=\"1.1\" viewBox=\"0 0 811 427\" width=\"811px\" zoomAndPan=\"magnify\"><defs><filter height=\"300%\" id=\"f1xvtljoy8tqdh\" width=\"300%\" x=\"-1\" y=\"-1\"><feGaussianBlur result=\"blurOut\" stdDeviation=\"2.0\"/><feColorMatrix in=\"blurOut\" result=\"blurOut2\" type=\"matrix\" values=\"0 0 0 0 0 0 0 0 0 0 0 0 0 0 0 0 0 0 .4 0\"/><feOffset dx=\"4.0\" dy=\"4.0\" in=\"blurOut2\" result=\"blurOut3\"/><feBlend in=\"SourceGraphic\" in2=\"blurOut3\" mode=\"normal\"/></filter></defs><g><!--MD5=[fbc87193dbaf4d95561dea2c320d4a47]\n",
       "cluster E1--><a href=\"psysml:811d2e93-771a-4206-9534-119b2782ed8b\" target=\"_top\" title=\"psysml:811d2e93-771a-4206-9534-119b2782ed8b\" xlink:actuate=\"onRequest\" xlink:href=\"psysml:811d2e93-771a-4206-9534-119b2782ed8b\" xlink:show=\"new\" xlink:title=\"psysml:811d2e93-771a-4206-9534-119b2782ed8b\" xlink:type=\"simple\"><polygon fill=\"#FFFFFF\" filter=\"url(#f1xvtljoy8tqdh)\" points=\"16,6,136,6,143,28.2969,789,28.2969,789,415,16,415,16,6\" style=\"stroke: #000000; stroke-width: 1.5;\"/><line style=\"stroke: #000000; stroke-width: 1.5;\" x1=\"16\" x2=\"143\" y1=\"28.2969\" y2=\"28.2969\"/><text fill=\"#000000\" font-family=\"sans-serif\" font-size=\"14\" font-weight=\"bold\" lengthAdjust=\"spacingAndGlyphs\" textLength=\"114\" x=\"20\" y=\"20.9951\">ConjugationTest</text></a><!--MD5=[b4997ac47864f28c2f74865a473b2911]\n",
       "class E2--><a href=\"psysml:a118eece-ff6c-41b4-a8ec-63007fd81e06\" target=\"_top\" title=\"psysml:a118eece-ff6c-41b4-a8ec-63007fd81e06\" xlink:actuate=\"onRequest\" xlink:href=\"psysml:a118eece-ff6c-41b4-a8ec-63007fd81e06\" xlink:show=\"new\" xlink:title=\"psysml:a118eece-ff6c-41b4-a8ec-63007fd81e06\" xlink:type=\"simple\"><rect fill=\"#FEFECE\" filter=\"url(#f1xvtljoy8tqdh)\" height=\"45.9375\" id=\"E2\" style=\"stroke: #A80036; stroke-width: 1.5;\" width=\"92\" x=\"273\" y=\"353\"/><ellipse cx=\"288\" cy=\"371.9688\" fill=\"#A52A2A\" rx=\"11\" ry=\"11\" style=\"stroke: #A80036; stroke-width: 1.0;\"/><path d=\"M285.2188,376.9688 L285.2188,366.375 L287.9531,366.375 Q289.3438,366.375 290.1094,366.7656 Q290.8906,367.1406 291.4219,367.8438 Q291.9531,368.5469 292.25,369.5469 Q292.5469,370.5313 292.5469,371.75 Q292.5,373.3438 292,374.5313 Q291.5156,375.7031 290.4688,376.3438 Q289.4375,376.9688 287.75,376.9688 L285.2188,376.9688 Z M287.0781,375.4688 L287.7031,375.4688 Q288.7813,375.4688 289.4375,375.0156 Q290.0938,374.5625 290.375,373.7344 Q290.6719,372.8906 290.6563,371.7656 Q290.6563,370.5938 290.4063,369.7344 Q290.1563,368.8594 289.5469,368.3906 Q288.9375,367.9063 287.8906,367.9063 L287.0781,367.9063 L287.0781,375.4688 Z \"/><text fill=\"#000000\" font-family=\"sans-serif\" font-size=\"12\" font-style=\"italic\" lengthAdjust=\"spacingAndGlyphs\" textLength=\"64\" x=\"300\" y=\"369.1387\">«port def»</text><text fill=\"#000000\" font-family=\"sans-serif\" font-size=\"12\" lengthAdjust=\"spacingAndGlyphs\" textLength=\"8\" x=\"328\" y=\"383.1074\">P</text><line style=\"stroke: #A80036; stroke-width: 1.5;\" x1=\"274\" x2=\"364\" y1=\"390.9375\" y2=\"390.9375\"/></a><!--MD5=[09b614a08d8cba4a07c9adeb5e0fee81]\n",
       "class E3--><a href=\"psysml:45f3428f-90c5-481c-8b5b-6d42a9c9ecb4\" target=\"_top\" title=\"psysml:45f3428f-90c5-481c-8b5b-6d42a9c9ecb4\" xlink:actuate=\"onRequest\" xlink:href=\"psysml:45f3428f-90c5-481c-8b5b-6d42a9c9ecb4\" xlink:show=\"new\" xlink:title=\"psysml:45f3428f-90c5-481c-8b5b-6d42a9c9ecb4\" xlink:type=\"simple\"><rect fill=\"#FEFECE\" filter=\"url(#f1xvtljoy8tqdh)\" height=\"40\" id=\"E3\" style=\"stroke: #A80036; stroke-width: 1.5;\" width=\"40\" x=\"663\" y=\"144\"/><ellipse cx=\"678\" cy=\"160\" fill=\"#008000\" rx=\"11\" ry=\"11\" style=\"stroke: #A80036; stroke-width: 1.0;\"/><path d=\"M674.875,165 L674.875,154.4063 L678.1094,154.4063 Q680.0156,154.4063 680.9219,155.1563 Q681.8438,155.9063 681.8438,157.0781 Q681.8438,157.7656 681.4531,158.4219 Q681.0781,159.0781 680.3594,159.375 Q681.2188,159.75 681.7344,160.4375 Q682.25,161.125 682.25,161.9375 Q682.25,163.3125 681.2188,164.1563 Q680.2031,165 678.0938,165 L674.875,165 Z M676.7969,158.6406 L677.9531,158.6406 Q679.0781,158.6406 679.4844,158.2656 Q679.9063,157.875 679.9063,157.25 Q679.9063,156.6719 679.4844,156.3125 Q679.0625,155.9531 678.125,155.9531 L676.7969,155.9531 L676.7969,158.6406 Z M676.7969,163.4219 L678.2969,163.4219 Q679.2031,163.4219 679.7344,163.0313 Q680.2656,162.6406 680.2656,161.8906 Q680.2656,161.125 679.7656,160.6563 Q679.2656,160.1719 678,160.1719 L676.7969,160.1719 L676.7969,163.4219 Z \"/><text fill=\"#000000\" font-family=\"sans-serif\" font-size=\"12\" lengthAdjust=\"spacingAndGlyphs\" textLength=\"8\" x=\"692\" y=\"164.1543\">B</text><line style=\"stroke: #A80036; stroke-width: 1.5;\" x1=\"664\" x2=\"702\" y1=\"176\" y2=\"176\"/></a><!--MD5=[ebbe1d658d1005bcc118a6aa81145e00]\n",
       "class E4--><a href=\"psysml:f10162e3-9121-4423-8c61-28bf75aadc9a\" target=\"_top\" title=\"psysml:f10162e3-9121-4423-8c61-28bf75aadc9a\" xlink:actuate=\"onRequest\" xlink:href=\"psysml:f10162e3-9121-4423-8c61-28bf75aadc9a\" xlink:show=\"new\" xlink:title=\"psysml:f10162e3-9121-4423-8c61-28bf75aadc9a\" xlink:type=\"simple\"><rect fill=\"#FEFECE\" filter=\"url(#f1xvtljoy8tqdh)\" height=\"45.9375\" id=\"E4\" rx=\"10\" ry=\"10\" style=\"stroke: #A80036; stroke-width: 1.5;\" width=\"68\" x=\"596\" y=\"247\"/><ellipse cx=\"611\" cy=\"265.9688\" fill=\"#0000FF\" rx=\"11\" ry=\"11\" style=\"stroke: #A80036; stroke-width: 1.0;\"/><path d=\"M607.8125,270.9688 L607.8125,260.375 L611.4219,260.375 Q612.6406,260.375 613.4375,260.8125 Q614.2344,261.2344 614.6094,261.9375 Q615,262.6406 615,263.4844 Q615,264.3281 614.625,265.0156 Q614.2656,265.7031 613.4688,266.125 Q612.6875,266.5313 611.5,266.5313 L609.7656,266.5313 L609.7656,270.9688 L607.8125,270.9688 Z M609.7656,264.9375 L611.375,264.9375 Q612.1875,264.9375 612.6094,264.5313 Q613.0313,264.125 613.0313,263.4844 Q613.0313,262.8594 612.6094,262.4531 Q612.1875,262.0469 611.3906,262.0469 L609.7656,262.0469 L609.7656,264.9375 Z \"/><text fill=\"#000000\" font-family=\"sans-serif\" font-size=\"12\" font-style=\"italic\" lengthAdjust=\"spacingAndGlyphs\" textLength=\"40\" x=\"623\" y=\"263.1387\">«port»</text><text fill=\"#000000\" font-family=\"sans-serif\" font-size=\"12\" lengthAdjust=\"spacingAndGlyphs\" textLength=\"32\" x=\"627\" y=\"277.1074\">p1: P</text><line style=\"stroke: #A80036; stroke-width: 1.5;\" x1=\"597\" x2=\"663\" y1=\"284.9375\" y2=\"284.9375\"/></a><!--MD5=[270fce915f116d4de14055a7c1d9a0f3]\n",
       "class E5--><a href=\"psysml:f793b08e-b132-4869-8396-6344384571c9\" target=\"_top\" title=\"psysml:f793b08e-b132-4869-8396-6344384571c9\" xlink:actuate=\"onRequest\" xlink:href=\"psysml:f793b08e-b132-4869-8396-6344384571c9\" xlink:show=\"new\" xlink:title=\"psysml:f793b08e-b132-4869-8396-6344384571c9\" xlink:type=\"simple\"><rect fill=\"#FEFECE\" filter=\"url(#f1xvtljoy8tqdh)\" height=\"45.9375\" id=\"E5\" rx=\"10\" ry=\"10\" style=\"stroke: #A80036; stroke-width: 1.5;\" width=\"74\" x=\"699\" y=\"247\"/><ellipse cx=\"714\" cy=\"265.9688\" fill=\"#0000FF\" rx=\"11\" ry=\"11\" style=\"stroke: #A80036; stroke-width: 1.0;\"/><path d=\"M710.8125,270.9688 L710.8125,260.375 L714.4219,260.375 Q715.6406,260.375 716.4375,260.8125 Q717.2344,261.2344 717.6094,261.9375 Q718,262.6406 718,263.4844 Q718,264.3281 717.625,265.0156 Q717.2656,265.7031 716.4688,266.125 Q715.6875,266.5313 714.5,266.5313 L712.7656,266.5313 L712.7656,270.9688 L710.8125,270.9688 Z M712.7656,264.9375 L714.375,264.9375 Q715.1875,264.9375 715.6094,264.5313 Q716.0313,264.125 716.0313,263.4844 Q716.0313,262.8594 715.6094,262.4531 Q715.1875,262.0469 714.3906,262.0469 L712.7656,262.0469 L712.7656,264.9375 Z \"/><text fill=\"#000000\" font-family=\"sans-serif\" font-size=\"12\" font-style=\"italic\" lengthAdjust=\"spacingAndGlyphs\" textLength=\"40\" x=\"729\" y=\"263.1387\">«port»</text><text fill=\"#000000\" font-family=\"sans-serif\" font-size=\"12\" lengthAdjust=\"spacingAndGlyphs\" textLength=\"42\" x=\"728\" y=\"277.1074\">p2: ~P</text><line style=\"stroke: #A80036; stroke-width: 1.5;\" x1=\"700\" x2=\"772\" y1=\"284.9375\" y2=\"284.9375\"/></a><!--MD5=[60a26617385b1d2d0262a64233df1f8d]\n",
       "class E6--><a href=\"psysml:1e44cf6a-fe6c-483a-98ee-7c5816e24c4f\" target=\"_top\" title=\"psysml:1e44cf6a-fe6c-483a-98ee-7c5816e24c4f\" xlink:actuate=\"onRequest\" xlink:href=\"psysml:1e44cf6a-fe6c-483a-98ee-7c5816e24c4f\" xlink:show=\"new\" xlink:title=\"psysml:1e44cf6a-fe6c-483a-98ee-7c5816e24c4f\" xlink:type=\"simple\"><rect fill=\"#FEFECE\" filter=\"url(#f1xvtljoy8tqdh)\" height=\"40\" id=\"E6\" style=\"stroke: #A80036; stroke-width: 1.5;\" width=\"40\" x=\"451\" y=\"144\"/><ellipse cx=\"466\" cy=\"160\" fill=\"#008000\" rx=\"11\" ry=\"11\" style=\"stroke: #A80036; stroke-width: 1.0;\"/><path d=\"M462.875,165 L462.875,154.4063 L466.1094,154.4063 Q468.0156,154.4063 468.9219,155.1563 Q469.8438,155.9063 469.8438,157.0781 Q469.8438,157.7656 469.4531,158.4219 Q469.0781,159.0781 468.3594,159.375 Q469.2188,159.75 469.7344,160.4375 Q470.25,161.125 470.25,161.9375 Q470.25,163.3125 469.2188,164.1563 Q468.2031,165 466.0938,165 L462.875,165 Z M464.7969,158.6406 L465.9531,158.6406 Q467.0781,158.6406 467.4844,158.2656 Q467.9063,157.875 467.9063,157.25 Q467.9063,156.6719 467.4844,156.3125 Q467.0625,155.9531 466.125,155.9531 L464.7969,155.9531 L464.7969,158.6406 Z M464.7969,163.4219 L466.2969,163.4219 Q467.2031,163.4219 467.7344,163.0313 Q468.2656,162.6406 468.2656,161.8906 Q468.2656,161.125 467.7656,160.6563 Q467.2656,160.1719 466,160.1719 L464.7969,160.1719 L464.7969,163.4219 Z \"/><text fill=\"#000000\" font-family=\"sans-serif\" font-size=\"12\" lengthAdjust=\"spacingAndGlyphs\" textLength=\"8\" x=\"480\" y=\"164.1543\">A</text><line style=\"stroke: #A80036; stroke-width: 1.5;\" x1=\"452\" x2=\"490\" y1=\"176\" y2=\"176\"/></a><!--MD5=[2156ba9850f5573cc1fc38a6a4b2f02b]\n",
       "class E7--><a href=\"psysml:592da980-ebcc-4bfb-b89f-9a898fd7b408\" target=\"_top\" title=\"psysml:592da980-ebcc-4bfb-b89f-9a898fd7b408\" xlink:actuate=\"onRequest\" xlink:href=\"psysml:592da980-ebcc-4bfb-b89f-9a898fd7b408\" xlink:show=\"new\" xlink:title=\"psysml:592da980-ebcc-4bfb-b89f-9a898fd7b408\" xlink:type=\"simple\"><rect fill=\"#FEFECE\" filter=\"url(#f1xvtljoy8tqdh)\" height=\"45.9375\" id=\"E7\" rx=\"10\" ry=\"10\" style=\"stroke: #A80036; stroke-width: 1.5;\" width=\"68\" x=\"384\" y=\"247\"/><ellipse cx=\"399\" cy=\"265.9688\" fill=\"#0000FF\" rx=\"11\" ry=\"11\" style=\"stroke: #A80036; stroke-width: 1.0;\"/><path d=\"M395.8125,270.9688 L395.8125,260.375 L399.4219,260.375 Q400.6406,260.375 401.4375,260.8125 Q402.2344,261.2344 402.6094,261.9375 Q403,262.6406 403,263.4844 Q403,264.3281 402.625,265.0156 Q402.2656,265.7031 401.4688,266.125 Q400.6875,266.5313 399.5,266.5313 L397.7656,266.5313 L397.7656,270.9688 L395.8125,270.9688 Z M397.7656,264.9375 L399.375,264.9375 Q400.1875,264.9375 400.6094,264.5313 Q401.0313,264.125 401.0313,263.4844 Q401.0313,262.8594 400.6094,262.4531 Q400.1875,262.0469 399.3906,262.0469 L397.7656,262.0469 L397.7656,264.9375 Z \"/><text fill=\"#000000\" font-family=\"sans-serif\" font-size=\"12\" font-style=\"italic\" lengthAdjust=\"spacingAndGlyphs\" textLength=\"40\" x=\"411\" y=\"263.1387\">«port»</text><text fill=\"#000000\" font-family=\"sans-serif\" font-size=\"12\" lengthAdjust=\"spacingAndGlyphs\" textLength=\"32\" x=\"415\" y=\"277.1074\">p1: P</text><line style=\"stroke: #A80036; stroke-width: 1.5;\" x1=\"385\" x2=\"451\" y1=\"284.9375\" y2=\"284.9375\"/></a><!--MD5=[b9389687b975829384b498ac4b7476b2]\n",
       "class E8--><a href=\"psysml:4730362b-6892-4b61-8b08-4b1eb3a58a19\" target=\"_top\" title=\"psysml:4730362b-6892-4b61-8b08-4b1eb3a58a19\" xlink:actuate=\"onRequest\" xlink:href=\"psysml:4730362b-6892-4b61-8b08-4b1eb3a58a19\" xlink:show=\"new\" xlink:title=\"psysml:4730362b-6892-4b61-8b08-4b1eb3a58a19\" xlink:type=\"simple\"><rect fill=\"#FEFECE\" filter=\"url(#f1xvtljoy8tqdh)\" height=\"45.9375\" id=\"E8\" rx=\"10\" ry=\"10\" style=\"stroke: #A80036; stroke-width: 1.5;\" width=\"74\" x=\"487\" y=\"247\"/><ellipse cx=\"502\" cy=\"265.9688\" fill=\"#0000FF\" rx=\"11\" ry=\"11\" style=\"stroke: #A80036; stroke-width: 1.0;\"/><path d=\"M498.8125,270.9688 L498.8125,260.375 L502.4219,260.375 Q503.6406,260.375 504.4375,260.8125 Q505.2344,261.2344 505.6094,261.9375 Q506,262.6406 506,263.4844 Q506,264.3281 505.625,265.0156 Q505.2656,265.7031 504.4688,266.125 Q503.6875,266.5313 502.5,266.5313 L500.7656,266.5313 L500.7656,270.9688 L498.8125,270.9688 Z M500.7656,264.9375 L502.375,264.9375 Q503.1875,264.9375 503.6094,264.5313 Q504.0313,264.125 504.0313,263.4844 Q504.0313,262.8594 503.6094,262.4531 Q503.1875,262.0469 502.3906,262.0469 L500.7656,262.0469 L500.7656,264.9375 Z \"/><text fill=\"#000000\" font-family=\"sans-serif\" font-size=\"12\" font-style=\"italic\" lengthAdjust=\"spacingAndGlyphs\" textLength=\"40\" x=\"517\" y=\"263.1387\">«port»</text><text fill=\"#000000\" font-family=\"sans-serif\" font-size=\"12\" lengthAdjust=\"spacingAndGlyphs\" textLength=\"42\" x=\"516\" y=\"277.1074\">p2: ~P</text><line style=\"stroke: #A80036; stroke-width: 1.5;\" x1=\"488\" x2=\"560\" y1=\"284.9375\" y2=\"284.9375\"/></a><!--MD5=[fd4143e9d270a159db93a4ea2a975926]\n",
       "class E9--><a href=\"psysml:c589f335-4cab-4324-b073-03ca89b55f7d\" target=\"_top\" title=\"psysml:c589f335-4cab-4324-b073-03ca89b55f7d\" xlink:actuate=\"onRequest\" xlink:href=\"psysml:c589f335-4cab-4324-b073-03ca89b55f7d\" xlink:show=\"new\" xlink:title=\"psysml:c589f335-4cab-4324-b073-03ca89b55f7d\" xlink:type=\"simple\"><rect fill=\"#FEFECE\" filter=\"url(#f1xvtljoy8tqdh)\" height=\"40\" id=\"E9\" style=\"stroke: #A80036; stroke-width: 1.5;\" width=\"35\" x=\"241.5\" y=\"144\"/><ellipse cx=\"256.5\" cy=\"160\" fill=\"#008000\" rx=\"11\" ry=\"11\" style=\"stroke: #A80036; stroke-width: 1.0;\"/><path d=\"M253.375,165 L253.375,154.4063 L256.6094,154.4063 Q258.5156,154.4063 259.4219,155.1563 Q260.3438,155.9063 260.3438,157.0781 Q260.3438,157.7656 259.9531,158.4219 Q259.5781,159.0781 258.8594,159.375 Q259.7188,159.75 260.2344,160.4375 Q260.75,161.125 260.75,161.9375 Q260.75,163.3125 259.7188,164.1563 Q258.7031,165 256.5938,165 L253.375,165 Z M255.2969,158.6406 L256.4531,158.6406 Q257.5781,158.6406 257.9844,158.2656 Q258.4063,157.875 258.4063,157.25 Q258.4063,156.6719 257.9844,156.3125 Q257.5625,155.9531 256.625,155.9531 L255.2969,155.9531 L255.2969,158.6406 Z M255.2969,163.4219 L256.7969,163.4219 Q257.7031,163.4219 258.2344,163.0313 Q258.7656,162.6406 258.7656,161.8906 Q258.7656,161.125 258.2656,160.6563 Q257.7656,160.1719 256.5,160.1719 L255.2969,160.1719 L255.2969,163.4219 Z \"/><text fill=\"#000000\" font-family=\"sans-serif\" font-size=\"12\" lengthAdjust=\"spacingAndGlyphs\" textLength=\"3\" x=\"270.5\" y=\"164.1543\">I</text><line style=\"stroke: #A80036; stroke-width: 1.5;\" x1=\"242.5\" x2=\"275.5\" y1=\"176\" y2=\"176\"/></a><!--MD5=[96f4274e9e20536e775497830990834d]\n",
       "class E10--><a href=\"psysml:0a18d135-3a15-4f1e-a48b-3983b85e55aa\" target=\"_top\" title=\"psysml:0a18d135-3a15-4f1e-a48b-3983b85e55aa\" xlink:actuate=\"onRequest\" xlink:href=\"psysml:0a18d135-3a15-4f1e-a48b-3983b85e55aa\" xlink:show=\"new\" xlink:title=\"psysml:0a18d135-3a15-4f1e-a48b-3983b85e55aa\" xlink:type=\"simple\"><rect fill=\"#FEFECE\" filter=\"url(#f1xvtljoy8tqdh)\" height=\"45.9375\" id=\"E10\" rx=\"10\" ry=\"10\" style=\"stroke: #A80036; stroke-width: 1.5;\" width=\"68\" x=\"172\" y=\"247\"/><ellipse cx=\"187\" cy=\"265.9688\" fill=\"#0000FF\" rx=\"11\" ry=\"11\" style=\"stroke: #A80036; stroke-width: 1.0;\"/><path d=\"M183.8125,270.9688 L183.8125,260.375 L187.4219,260.375 Q188.6406,260.375 189.4375,260.8125 Q190.2344,261.2344 190.6094,261.9375 Q191,262.6406 191,263.4844 Q191,264.3281 190.625,265.0156 Q190.2656,265.7031 189.4688,266.125 Q188.6875,266.5313 187.5,266.5313 L185.7656,266.5313 L185.7656,270.9688 L183.8125,270.9688 Z M185.7656,264.9375 L187.375,264.9375 Q188.1875,264.9375 188.6094,264.5313 Q189.0313,264.125 189.0313,263.4844 Q189.0313,262.8594 188.6094,262.4531 Q188.1875,262.0469 187.3906,262.0469 L185.7656,262.0469 L185.7656,264.9375 Z \"/><text fill=\"#000000\" font-family=\"sans-serif\" font-size=\"12\" font-style=\"italic\" lengthAdjust=\"spacingAndGlyphs\" textLength=\"40\" x=\"199\" y=\"263.1387\">«port»</text><text fill=\"#000000\" font-family=\"sans-serif\" font-size=\"12\" lengthAdjust=\"spacingAndGlyphs\" textLength=\"32\" x=\"203\" y=\"277.1074\">p1: P</text><line style=\"stroke: #A80036; stroke-width: 1.5;\" x1=\"173\" x2=\"239\" y1=\"284.9375\" y2=\"284.9375\"/></a><!--MD5=[1dd1bfd58a279cf63c5f349dbc8fc6a1]\n",
       "class E11--><a href=\"psysml:f0ebefc1-580e-4b11-b9cf-e3cb40b874a3\" target=\"_top\" title=\"psysml:f0ebefc1-580e-4b11-b9cf-e3cb40b874a3\" xlink:actuate=\"onRequest\" xlink:href=\"psysml:f0ebefc1-580e-4b11-b9cf-e3cb40b874a3\" xlink:show=\"new\" xlink:title=\"psysml:f0ebefc1-580e-4b11-b9cf-e3cb40b874a3\" xlink:type=\"simple\"><rect fill=\"#FEFECE\" filter=\"url(#f1xvtljoy8tqdh)\" height=\"45.9375\" id=\"E11\" rx=\"10\" ry=\"10\" style=\"stroke: #A80036; stroke-width: 1.5;\" width=\"74\" x=\"275\" y=\"247\"/><ellipse cx=\"290\" cy=\"265.9688\" fill=\"#0000FF\" rx=\"11\" ry=\"11\" style=\"stroke: #A80036; stroke-width: 1.0;\"/><path d=\"M286.8125,270.9688 L286.8125,260.375 L290.4219,260.375 Q291.6406,260.375 292.4375,260.8125 Q293.2344,261.2344 293.6094,261.9375 Q294,262.6406 294,263.4844 Q294,264.3281 293.625,265.0156 Q293.2656,265.7031 292.4688,266.125 Q291.6875,266.5313 290.5,266.5313 L288.7656,266.5313 L288.7656,270.9688 L286.8125,270.9688 Z M288.7656,264.9375 L290.375,264.9375 Q291.1875,264.9375 291.6094,264.5313 Q292.0313,264.125 292.0313,263.4844 Q292.0313,262.8594 291.6094,262.4531 Q291.1875,262.0469 290.3906,262.0469 L288.7656,262.0469 L288.7656,264.9375 Z \"/><text fill=\"#000000\" font-family=\"sans-serif\" font-size=\"12\" font-style=\"italic\" lengthAdjust=\"spacingAndGlyphs\" textLength=\"40\" x=\"305\" y=\"263.1387\">«port»</text><text fill=\"#000000\" font-family=\"sans-serif\" font-size=\"12\" lengthAdjust=\"spacingAndGlyphs\" textLength=\"42\" x=\"304\" y=\"277.1074\">p2: ~P</text><line style=\"stroke: #A80036; stroke-width: 1.5;\" x1=\"276\" x2=\"348\" y1=\"284.9375\" y2=\"284.9375\"/></a><!--MD5=[49a0ec8f00dab7302a31f22d0f0fe584]\n",
       "class E12--><a href=\"psysml:99d6c811-1239-4557-8bf5-512a2d9b51f5\" target=\"_top\" title=\"psysml:99d6c811-1239-4557-8bf5-512a2d9b51f5\" xlink:actuate=\"onRequest\" xlink:href=\"psysml:99d6c811-1239-4557-8bf5-512a2d9b51f5\" xlink:show=\"new\" xlink:title=\"psysml:99d6c811-1239-4557-8bf5-512a2d9b51f5\" xlink:type=\"simple\"><rect fill=\"#FEFECE\" filter=\"url(#f1xvtljoy8tqdh)\" height=\"40\" id=\"E12\" style=\"stroke: #A80036; stroke-width: 1.5;\" width=\"48\" x=\"60\" y=\"41\"/><ellipse cx=\"75\" cy=\"57\" fill=\"#008000\" rx=\"11\" ry=\"11\" style=\"stroke: #A80036; stroke-width: 1.0;\"/><path d=\"M71.875,62 L71.875,51.4063 L75.1094,51.4063 Q77.0156,51.4063 77.9219,52.1563 Q78.8438,52.9063 78.8438,54.0781 Q78.8438,54.7656 78.4531,55.4219 Q78.0781,56.0781 77.3594,56.375 Q78.2188,56.75 78.7344,57.4375 Q79.25,58.125 79.25,58.9375 Q79.25,60.3125 78.2188,61.1563 Q77.2031,62 75.0938,62 L71.875,62 Z M73.7969,55.6406 L74.9531,55.6406 Q76.0781,55.6406 76.4844,55.2656 Q76.9063,54.875 76.9063,54.25 Q76.9063,53.6719 76.4844,53.3125 Q76.0625,52.9531 75.125,52.9531 L73.7969,52.9531 L73.7969,55.6406 Z M73.7969,60.4219 L75.2969,60.4219 Q76.2031,60.4219 76.7344,60.0313 Q77.2656,59.6406 77.2656,58.8906 Q77.2656,58.125 76.7656,57.6563 Q76.2656,57.1719 75,57.1719 L73.7969,57.1719 L73.7969,60.4219 Z \"/><text fill=\"#000000\" font-family=\"sans-serif\" font-size=\"12\" lengthAdjust=\"spacingAndGlyphs\" textLength=\"16\" x=\"89\" y=\"61.1543\">B1</text><line style=\"stroke: #A80036; stroke-width: 1.5;\" x1=\"61\" x2=\"107\" y1=\"73\" y2=\"73\"/></a><!--MD5=[ee3c913d1a06f366521f9ef512b67efe]\n",
       "class E13--><a href=\"psysml:c80e6282-4b88-42a6-beea-d83b68d36327\" target=\"_top\" title=\"psysml:c80e6282-4b88-42a6-beea-d83b68d36327\" xlink:actuate=\"onRequest\" xlink:href=\"psysml:c80e6282-4b88-42a6-beea-d83b68d36327\" xlink:show=\"new\" xlink:title=\"psysml:c80e6282-4b88-42a6-beea-d83b68d36327\" xlink:type=\"simple\"><rect fill=\"#FEFECE\" filter=\"url(#f1xvtljoy8tqdh)\" height=\"45.9375\" id=\"E13\" rx=\"10\" ry=\"10\" style=\"stroke: #A80036; stroke-width: 1.5;\" width=\"68\" x=\"50\" y=\"141\"/><ellipse cx=\"65\" cy=\"159.9688\" fill=\"#32CD32\" rx=\"11\" ry=\"11\" style=\"stroke: #A80036; stroke-width: 1.0;\"/><path d=\"M61.8125,164.9688 L61.8125,154.375 L65.4219,154.375 Q66.6406,154.375 67.4375,154.8125 Q68.2344,155.2344 68.6094,155.9375 Q69,156.6406 69,157.4844 Q69,158.3281 68.625,159.0156 Q68.2656,159.7031 67.4688,160.125 Q66.6875,160.5313 65.5,160.5313 L63.7656,160.5313 L63.7656,164.9688 L61.8125,164.9688 Z M63.7656,158.9375 L65.375,158.9375 Q66.1875,158.9375 66.6094,158.5313 Q67.0313,158.125 67.0313,157.4844 Q67.0313,156.8594 66.6094,156.4531 Q66.1875,156.0469 65.3906,156.0469 L63.7656,156.0469 L63.7656,158.9375 Z \"/><text fill=\"#000000\" font-family=\"sans-serif\" font-size=\"12\" font-style=\"italic\" lengthAdjust=\"spacingAndGlyphs\" textLength=\"40\" x=\"77\" y=\"157.1387\">«part»</text><text fill=\"#000000\" font-family=\"sans-serif\" font-size=\"12\" lengthAdjust=\"spacingAndGlyphs\" textLength=\"8\" x=\"93\" y=\"171.1074\">p</text><line style=\"stroke: #A80036; stroke-width: 1.5;\" x1=\"51\" x2=\"117\" y1=\"178.9375\" y2=\"178.9375\"/></a><!--MD5=[bee11217b2f71d958a27249dc326068c]\n",
       "class E14--><a href=\"psysml:36fdd18b-cc96-4106-b803-027f179d9fab\" target=\"_top\" title=\"psysml:36fdd18b-cc96-4106-b803-027f179d9fab\" xlink:actuate=\"onRequest\" xlink:href=\"psysml:36fdd18b-cc96-4106-b803-027f179d9fab\" xlink:show=\"new\" xlink:title=\"psysml:36fdd18b-cc96-4106-b803-027f179d9fab\" xlink:type=\"simple\"><rect fill=\"#FEFECE\" filter=\"url(#f1xvtljoy8tqdh)\" height=\"45.9375\" id=\"E14\" rx=\"10\" ry=\"10\" style=\"stroke: #A80036; stroke-width: 1.5;\" width=\"68\" x=\"69\" y=\"247\"/><ellipse cx=\"84\" cy=\"265.9688\" fill=\"#0000FF\" rx=\"11\" ry=\"11\" style=\"stroke: #A80036; stroke-width: 1.0;\"/><path d=\"M80.8125,270.9688 L80.8125,260.375 L84.4219,260.375 Q85.6406,260.375 86.4375,260.8125 Q87.2344,261.2344 87.6094,261.9375 Q88,262.6406 88,263.4844 Q88,264.3281 87.625,265.0156 Q87.2656,265.7031 86.4688,266.125 Q85.6875,266.5313 84.5,266.5313 L82.7656,266.5313 L82.7656,270.9688 L80.8125,270.9688 Z M82.7656,264.9375 L84.375,264.9375 Q85.1875,264.9375 85.6094,264.5313 Q86.0313,264.125 86.0313,263.4844 Q86.0313,262.8594 85.6094,262.4531 Q85.1875,262.0469 84.3906,262.0469 L82.7656,262.0469 L82.7656,264.9375 Z \"/><text fill=\"#000000\" font-family=\"sans-serif\" font-size=\"12\" font-style=\"italic\" lengthAdjust=\"spacingAndGlyphs\" textLength=\"40\" x=\"96\" y=\"263.1387\">«port»</text><text fill=\"#000000\" font-family=\"sans-serif\" font-size=\"12\" lengthAdjust=\"spacingAndGlyphs\" textLength=\"32\" x=\"100\" y=\"277.1074\">p1: P</text><line style=\"stroke: #A80036; stroke-width: 1.5;\" x1=\"70\" x2=\"136\" y1=\"284.9375\" y2=\"284.9375\"/></a><!--MD5=[0c48fb7552dae8cbbef69381101a84c8]\n",
       "class E15--><a href=\"psysml:a04d4130-2616-430e-82e5-4df6c3f344d5\" target=\"_top\" title=\"psysml:a04d4130-2616-430e-82e5-4df6c3f344d5\" xlink:actuate=\"onRequest\" xlink:href=\"psysml:a04d4130-2616-430e-82e5-4df6c3f344d5\" xlink:show=\"new\" xlink:title=\"psysml:a04d4130-2616-430e-82e5-4df6c3f344d5\" xlink:type=\"simple\"><rect fill=\"#FEFECE\" filter=\"url(#f1xvtljoy8tqdh)\" height=\"45.9375\" id=\"E15\" rx=\"10\" ry=\"10\" style=\"stroke: #A80036; stroke-width: 1.5;\" width=\"74\" x=\"66\" y=\"353\"/><ellipse cx=\"81\" cy=\"371.9688\" fill=\"#0000FF\" rx=\"11\" ry=\"11\" style=\"stroke: #A80036; stroke-width: 1.0;\"/><path d=\"M77.8125,376.9688 L77.8125,366.375 L81.4219,366.375 Q82.6406,366.375 83.4375,366.8125 Q84.2344,367.2344 84.6094,367.9375 Q85,368.6406 85,369.4844 Q85,370.3281 84.625,371.0156 Q84.2656,371.7031 83.4688,372.125 Q82.6875,372.5313 81.5,372.5313 L79.7656,372.5313 L79.7656,376.9688 L77.8125,376.9688 Z M79.7656,370.9375 L81.375,370.9375 Q82.1875,370.9375 82.6094,370.5313 Q83.0313,370.125 83.0313,369.4844 Q83.0313,368.8594 82.6094,368.4531 Q82.1875,368.0469 81.3906,368.0469 L79.7656,368.0469 L79.7656,370.9375 Z \"/><text fill=\"#000000\" font-family=\"sans-serif\" font-size=\"12\" font-style=\"italic\" lengthAdjust=\"spacingAndGlyphs\" textLength=\"40\" x=\"96\" y=\"369.1387\">«port»</text><text fill=\"#000000\" font-family=\"sans-serif\" font-size=\"12\" lengthAdjust=\"spacingAndGlyphs\" textLength=\"42\" x=\"95\" y=\"383.1074\">p2: ~P</text><line style=\"stroke: #A80036; stroke-width: 1.5;\" x1=\"67\" x2=\"139\" y1=\"390.9375\" y2=\"390.9375\"/></a><!--MD5=[4672eba38e49728da53d11aeb285b987]\n",
       "reverse link E3 to E4--><a href=\"psysml:478537c4-9aea-45e7-93bf-51b2f99f76d0\" target=\"_top\" title=\"psysml:478537c4-9aea-45e7-93bf-51b2f99f76d0\" xlink:actuate=\"onRequest\" xlink:href=\"psysml:478537c4-9aea-45e7-93bf-51b2f99f76d0\" xlink:show=\"new\" xlink:title=\"psysml:478537c4-9aea-45e7-93bf-51b2f99f76d0\" xlink:type=\"simple\"><path d=\"M667.3,195.8 C658.96,212.18 648.89,231.94 641.31,246.8 \" fill=\"none\" id=\"E3&lt;-E4\" style=\"stroke: #A80036; stroke-width: 1.0;\"/><polygon fill=\"#FFFFFF\" points=\"673.28,184.08,666.9928,187.6115,667.8345,194.7733,674.1217,191.2418,673.28,184.08\" style=\"stroke: #A80036; stroke-width: 1.0;\"/><text fill=\"#000000\" font-family=\"sans-serif\" font-size=\"13\" lengthAdjust=\"spacingAndGlyphs\" textLength=\"8\" x=\"635.1832\" y=\"236.025\">1</text></a><!--MD5=[185131fc0dcab0a4505a2ebe144e961b]\n",
       "link E4 to E2--><a href=\"psysml:9a27f54b-62e8-4ed3-8ffb-179b9354440f\" target=\"_top\" title=\"psysml:9a27f54b-62e8-4ed3-8ffb-179b9354440f\" xlink:actuate=\"onRequest\" xlink:href=\"psysml:9a27f54b-62e8-4ed3-8ffb-179b9354440f\" xlink:show=\"new\" xlink:title=\"psysml:9a27f54b-62e8-4ed3-8ffb-179b9354440f\" xlink:type=\"simple\"><path d=\"M595.9,286.28 C590.29,288.62 584.51,290.95 579,293 C513.66,317.33 437.42,340.81 384.47,356.36 \" fill=\"none\" id=\"E4-&gt;E2\" style=\"stroke: #A80036; stroke-width: 1.0;\"/><polygon fill=\"#FFFFFF\" points=\"365.04,362.02,381.32,349.98,385.24,363.42,365.04,362.02\" style=\"stroke: #A80036; stroke-width: 1.0;\"/><ellipse cx=\"387.352\" cy=\"350.304\" fill=\"#A80036\" rx=\"2\" ry=\"2\" style=\"stroke: #A80036; stroke-width: 1.0;\"/><ellipse cx=\"390.152\" cy=\"359.904\" fill=\"#A80036\" rx=\"2\" ry=\"2\" style=\"stroke: #A80036; stroke-width: 1.0;\"/></a><!--MD5=[191cde3d490a3f6d7bb551fe3ddca469]\n",
       "reverse link E3 to E5--><a href=\"psysml:0c237cb0-b529-413c-8aaf-d2f6ce3a1092\" target=\"_top\" title=\"psysml:0c237cb0-b529-413c-8aaf-d2f6ce3a1092\" xlink:actuate=\"onRequest\" xlink:href=\"psysml:0c237cb0-b529-413c-8aaf-d2f6ce3a1092\" xlink:show=\"new\" xlink:title=\"psysml:0c237cb0-b529-413c-8aaf-d2f6ce3a1092\" xlink:type=\"simple\"><path d=\"M698.7,195.8 C707.04,212.18 717.11,231.94 724.69,246.8 \" fill=\"none\" id=\"E3&lt;-E5\" style=\"stroke: #A80036; stroke-width: 1.0;\"/><polygon fill=\"#FFFFFF\" points=\"692.72,184.08,691.8783,191.2418,698.1655,194.7733,699.0072,187.6115,692.72,184.08\" style=\"stroke: #A80036; stroke-width: 1.0;\"/><text fill=\"#000000\" font-family=\"sans-serif\" font-size=\"13\" lengthAdjust=\"spacingAndGlyphs\" textLength=\"8\" x=\"712.7668\" y=\"236.025\">1</text></a><!--MD5=[3f50a3473f1dfb74d3f76443e03635af]\n",
       "reverse link E6 to E7--><a href=\"psysml:b94a6cc2-6585-4221-b4bd-c6e1360a7593\" target=\"_top\" title=\"psysml:b94a6cc2-6585-4221-b4bd-c6e1360a7593\" xlink:actuate=\"onRequest\" xlink:href=\"psysml:b94a6cc2-6585-4221-b4bd-c6e1360a7593\" xlink:show=\"new\" xlink:title=\"psysml:b94a6cc2-6585-4221-b4bd-c6e1360a7593\" xlink:type=\"simple\"><path d=\"M455.3,195.8 C446.96,212.18 436.89,231.94 429.31,246.8 \" fill=\"none\" id=\"E6&lt;-E7\" style=\"stroke: #A80036; stroke-width: 1.0;\"/><polygon fill=\"#FFFFFF\" points=\"461.28,184.08,454.9928,187.6115,455.8345,194.7733,462.1217,191.2418,461.28,184.08\" style=\"stroke: #A80036; stroke-width: 1.0;\"/><text fill=\"#000000\" font-family=\"sans-serif\" font-size=\"13\" lengthAdjust=\"spacingAndGlyphs\" textLength=\"8\" x=\"423.1832\" y=\"236.025\">1</text></a><!--MD5=[583832df87f4419a098336a29a52fa00]\n",
       "link E7 to E2--><a href=\"psysml:6c7ecdb4-3704-4141-b5eb-90be274661d4\" target=\"_top\" title=\"psysml:6c7ecdb4-3704-4141-b5eb-90be274661d4\" xlink:actuate=\"onRequest\" xlink:href=\"psysml:6c7ecdb4-3704-4141-b5eb-90be274661d4\" xlink:show=\"new\" xlink:title=\"psysml:6c7ecdb4-3704-4141-b5eb-90be274661d4\" xlink:type=\"simple\"><path d=\"M397,293.06 C384.54,306.15 368.41,323.1 354.05,338.18 \" fill=\"none\" id=\"E7-&gt;E2\" style=\"stroke: #A80036; stroke-width: 1.0;\"/><polygon fill=\"#FFFFFF\" points=\"339.97,352.98,348.0072,334.395,358.1437,344.0517,339.97,352.98\" style=\"stroke: #A80036; stroke-width: 1.0;\"/><ellipse cx=\"353.3869\" cy=\"331.6475\" fill=\"#A80036\" rx=\"2\" ry=\"2\" style=\"stroke: #A80036; stroke-width: 1.0;\"/><ellipse cx=\"360.6273\" cy=\"338.5451\" fill=\"#A80036\" rx=\"2\" ry=\"2\" style=\"stroke: #A80036; stroke-width: 1.0;\"/></a><!--MD5=[f4cf0736d43fd73c4ef68817c49d37d5]\n",
       "reverse link E6 to E8--><a href=\"psysml:c893fa2e-0043-44e8-be45-2077001790d0\" target=\"_top\" title=\"psysml:c893fa2e-0043-44e8-be45-2077001790d0\" xlink:actuate=\"onRequest\" xlink:href=\"psysml:c893fa2e-0043-44e8-be45-2077001790d0\" xlink:show=\"new\" xlink:title=\"psysml:c893fa2e-0043-44e8-be45-2077001790d0\" xlink:type=\"simple\"><path d=\"M486.7,195.8 C495.04,212.18 505.11,231.94 512.69,246.8 \" fill=\"none\" id=\"E6&lt;-E8\" style=\"stroke: #A80036; stroke-width: 1.0;\"/><polygon fill=\"#FFFFFF\" points=\"480.72,184.08,479.8783,191.2418,486.1655,194.7733,487.0072,187.6115,480.72,184.08\" style=\"stroke: #A80036; stroke-width: 1.0;\"/><text fill=\"#000000\" font-family=\"sans-serif\" font-size=\"13\" lengthAdjust=\"spacingAndGlyphs\" textLength=\"8\" x=\"500.7668\" y=\"236.025\">1</text></a><!--MD5=[23ac544a70576c3e717098101004234c]\n",
       "reverse link E9 to E10--><a href=\"psysml:3723b58c-a4dd-4ef3-9a79-2a659572d83c\" target=\"_top\" title=\"psysml:3723b58c-a4dd-4ef3-9a79-2a659572d83c\" xlink:actuate=\"onRequest\" xlink:href=\"psysml:3723b58c-a4dd-4ef3-9a79-2a659572d83c\" xlink:show=\"new\" xlink:title=\"psysml:3723b58c-a4dd-4ef3-9a79-2a659572d83c\" xlink:type=\"simple\"><path d=\"M243.3,195.8 C234.96,212.18 224.89,231.94 217.31,246.8 \" fill=\"none\" id=\"E9&lt;-E10\" style=\"stroke: #A80036; stroke-width: 1.0;\"/><polygon fill=\"#FFFFFF\" points=\"249.28,184.08,242.9928,187.6115,243.8345,194.7733,250.1217,191.2418,249.28,184.08\" style=\"stroke: #A80036; stroke-width: 1.0;\"/><text fill=\"#000000\" font-family=\"sans-serif\" font-size=\"13\" lengthAdjust=\"spacingAndGlyphs\" textLength=\"8\" x=\"211.1832\" y=\"236.025\">1</text></a><!--MD5=[0f36bececdf0dff6e600d6f64214b0f1]\n",
       "link E10 to E2--><a href=\"psysml:8c7a6e5c-2c0e-473c-a2c4-4062964bb416\" target=\"_top\" title=\"psysml:8c7a6e5c-2c0e-473c-a2c4-4062964bb416\" xlink:actuate=\"onRequest\" xlink:href=\"psysml:8c7a6e5c-2c0e-473c-a2c4-4062964bb416\" xlink:show=\"new\" xlink:title=\"psysml:8c7a6e5c-2c0e-473c-a2c4-4062964bb416\" xlink:type=\"simple\"><path d=\"M229.96,293.06 C244.57,306.5 263.58,323.99 280.28,339.36 \" fill=\"none\" id=\"E10-&gt;E2\" style=\"stroke: #A80036; stroke-width: 1.0;\"/><polygon fill=\"#FFFFFF\" points=\"295.07,352.98,276.3495,345.2635,285.8305,334.9625,295.07,352.98\" style=\"stroke: #A80036; stroke-width: 1.0;\"/><ellipse cx=\"273.51\" cy=\"339.9318\" fill=\"#A80036\" rx=\"2\" ry=\"2\" style=\"stroke: #A80036; stroke-width: 1.0;\"/><ellipse cx=\"280.2821\" cy=\"332.5739\" fill=\"#A80036\" rx=\"2\" ry=\"2\" style=\"stroke: #A80036; stroke-width: 1.0;\"/></a><!--MD5=[1fc04a95fd77ad5ce46c1a3027516051]\n",
       "reverse link E9 to E11--><a href=\"psysml:05b52cb0-1bec-4ecb-a4ba-b6e0a5fd36fa\" target=\"_top\" title=\"psysml:05b52cb0-1bec-4ecb-a4ba-b6e0a5fd36fa\" xlink:actuate=\"onRequest\" xlink:href=\"psysml:05b52cb0-1bec-4ecb-a4ba-b6e0a5fd36fa\" xlink:show=\"new\" xlink:title=\"psysml:05b52cb0-1bec-4ecb-a4ba-b6e0a5fd36fa\" xlink:type=\"simple\"><path d=\"M274.7,195.8 C283.04,212.18 293.11,231.94 300.69,246.8 \" fill=\"none\" id=\"E9&lt;-E11\" style=\"stroke: #A80036; stroke-width: 1.0;\"/><polygon fill=\"#FFFFFF\" points=\"268.72,184.08,267.8783,191.2418,274.1655,194.7733,275.0072,187.6115,268.72,184.08\" style=\"stroke: #A80036; stroke-width: 1.0;\"/><text fill=\"#000000\" font-family=\"sans-serif\" font-size=\"13\" lengthAdjust=\"spacingAndGlyphs\" textLength=\"8\" x=\"288.7668\" y=\"236.025\">1</text></a><!--MD5=[062ed86c389d1a88f61c6380d0491e17]\n",
       "reverse link E12 to E13--><a href=\"psysml:2ea9f126-2045-475e-98b2-0bebbeaf39ba\" target=\"_top\" title=\"psysml:2ea9f126-2045-475e-98b2-0bebbeaf39ba\" xlink:actuate=\"onRequest\" xlink:href=\"psysml:2ea9f126-2045-475e-98b2-0bebbeaf39ba\" xlink:show=\"new\" xlink:title=\"psysml:2ea9f126-2045-475e-98b2-0bebbeaf39ba\" xlink:type=\"simple\"><path d=\"M84,94.47 C84,109.59 84,127.2 84,140.77 \" fill=\"none\" id=\"E12&lt;-E13\" style=\"stroke: #A80036; stroke-width: 1.0;\"/><polygon fill=\"#A80036\" points=\"84,81.47,80,87.47,84,93.47,88,87.47,84,81.47\" style=\"stroke: #A80036; stroke-width: 1.0;\"/><text fill=\"#000000\" font-family=\"sans-serif\" font-size=\"13\" lengthAdjust=\"spacingAndGlyphs\" textLength=\"8\" x=\"74.975\" y=\"129.9874\">1</text></a><!--MD5=[01db00f33b28669d6d9febea71002831]\n",
       "reverse link E13 to E14--><a href=\"psysml:56644651-1cff-4e4b-add6-5aaf4cbf3323\" target=\"_top\" title=\"psysml:56644651-1cff-4e4b-add6-5aaf4cbf3323\" xlink:actuate=\"onRequest\" xlink:href=\"psysml:56644651-1cff-4e4b-add6-5aaf4cbf3323\" xlink:show=\"new\" xlink:title=\"psysml:56644651-1cff-4e4b-add6-5aaf4cbf3323\" xlink:type=\"simple\"><path d=\"M90.39,199.96 C93.23,215.51 96.48,233.33 98.98,246.98 \" fill=\"none\" id=\"E13&lt;-E14\" style=\"stroke: #A80036; stroke-width: 1.0;\"/><polygon fill=\"#FFFFFF\" points=\"88.03,187.06,85.1698,193.6796,90.1801,198.8658,93.0403,192.2462,88.03,187.06\" style=\"stroke: #A80036; stroke-width: 1.0;\"/><text fill=\"#000000\" font-family=\"sans-serif\" font-size=\"13\" lengthAdjust=\"spacingAndGlyphs\" textLength=\"8\" x=\"88.8246\" y=\"235.8709\">1</text></a><!--MD5=[e5566ac99d7714697a7fbc17f6b550fe]\n",
       "link E14 to E2--><a href=\"psysml:004f1bd4-f46a-4fc3-b446-5abbd305cc50\" target=\"_top\" title=\"psysml:004f1bd4-f46a-4fc3-b446-5abbd305cc50\" xlink:actuate=\"onRequest\" xlink:href=\"psysml:004f1bd4-f46a-4fc3-b446-5abbd305cc50\" xlink:show=\"new\" xlink:title=\"psysml:004f1bd4-f46a-4fc3-b446-5abbd305cc50\" xlink:type=\"simple\"><path d=\"M137.23,287.48 C168.81,302.69 216.53,325.66 255.15,344.26 \" fill=\"none\" id=\"E14-&gt;E2\" style=\"stroke: #A80036; stroke-width: 1.0;\"/><polygon fill=\"#FFFFFF\" points=\"273.27,352.98,253.1153,351.0335,259.1957,338.4228,273.27,352.98\" style=\"stroke: #A80036; stroke-width: 1.0;\"/><ellipse cx=\"248.8496\" cy=\"346.7564\" fill=\"#A80036\" rx=\"2\" ry=\"2\" style=\"stroke: #A80036; stroke-width: 1.0;\"/><ellipse cx=\"253.1927\" cy=\"337.7487\" fill=\"#A80036\" rx=\"2\" ry=\"2\" style=\"stroke: #A80036; stroke-width: 1.0;\"/></a><!--MD5=[e9a5e828c71fd2209a11a152f562d491]\n",
       "reverse link E13 to E15--><a href=\"psysml:439c4bcd-5bf6-4395-bbdb-0df2330c2504\" target=\"_top\" title=\"psysml:439c4bcd-5bf6-4395-bbdb-0df2330c2504\" xlink:actuate=\"onRequest\" xlink:href=\"psysml:439c4bcd-5bf6-4395-bbdb-0df2330c2504\" xlink:show=\"new\" xlink:title=\"psysml:439c4bcd-5bf6-4395-bbdb-0df2330c2504\" xlink:type=\"simple\"><path d=\"M65.17,199.1 C53.3,224.98 41.82,261.37 51,293 C57.44,315.18 71.88,337.1 83.91,352.69 \" fill=\"none\" id=\"E13&lt;-E15\" style=\"stroke: #A80036; stroke-width: 1.0;\"/><polygon fill=\"#FFFFFF\" points=\"70.93,187.31,64.7009,190.9429,65.6585,198.0902,71.8876,194.4572,70.93,187.31\" style=\"stroke: #A80036; stroke-width: 1.0;\"/><text fill=\"#000000\" font-family=\"sans-serif\" font-size=\"13\" lengthAdjust=\"spacingAndGlyphs\" textLength=\"8\" x=\"69.9932\" y=\"341.8869\">1</text></a><!--MD5=[3afbdc645381407e1bc99677323a2513]\n",
       "link E14 to E15--><a href=\"psysml:356465e0-8362-42f7-8017-4c1d57dccd42\" target=\"_top\" title=\"psysml:356465e0-8362-42f7-8017-4c1d57dccd42\" xlink:actuate=\"onRequest\" xlink:href=\"psysml:356465e0-8362-42f7-8017-4c1d57dccd42\" xlink:show=\"new\" xlink:title=\"psysml:356465e0-8362-42f7-8017-4c1d57dccd42\" xlink:type=\"simple\"><path d=\"M92.35,293.06 C89.55,310.7 89.55,335.34 92.36,352.98 \" fill=\"none\" id=\"E14-E15\" style=\"stroke: #A80036; stroke-width: 3.0;\"/></a><!--MD5=[3afbdc645381407e1bc99677323a2513]\n",
       "link E14 to E15--><a href=\"psysml:be002053-3eab-4239-b4ec-f62d8ddd6fa6\" target=\"_top\" title=\"psysml:be002053-3eab-4239-b4ec-f62d8ddd6fa6\" xlink:actuate=\"onRequest\" xlink:href=\"psysml:be002053-3eab-4239-b4ec-f62d8ddd6fa6\" xlink:show=\"new\" xlink:title=\"psysml:be002053-3eab-4239-b4ec-f62d8ddd6fa6\" xlink:type=\"simple\"><path d=\"M114.27,293.06 C117.24,310.7 117.24,335.34 114.27,352.98 \" fill=\"none\" id=\"E14-E15-1\" style=\"stroke: #A80036; stroke-width: 3.0;\"/></a><!--MD5=[8273ec2128809f8bb01a074e9e0bd06b]\n",
       "@startuml\r\n",
       " \r\n",
       "package \"ConjugationTest\" as E1  [[psysml:811d2e93-771a-4206-9534-119b2782ed8b ]]  {\r\n",
       "comp def \"P\" as E2 << <<(D,brown) port def>> [[psysml:a118eece-ff6c-41b4-a8ec-63007fd81e06 ]] {\r\n",
       "}\r\n",
       "comp def \"B\" as E3 << << (B,green) >> [[psysml:45f3428f-90c5-481c-8b5b-6d42a9c9ecb4 ]] {\r\n",
       "}\r\n",
       "comp usage \"p1: P\" as E4 << << (P,blue) port>> [[psysml:f10162e3-9121-4423-8c61-28bf75aadc9a ]] {\r\n",
       "}\r\n",
       "comp usage \"p2: ~P\" as E5 << << (P,blue) port>> [[psysml:f793b08e-b132-4869-8396-6344384571c9 ]] {\r\n",
       "}\r\n",
       "comp def \"A\" as E6 << << (B,green) >> [[psysml:1e44cf6a-fe6c-483a-98ee-7c5816e24c4f ]] {\r\n",
       "}\r\n",
       "comp usage \"p1: P\" as E7 << << (P,blue) port>> [[psysml:592da980-ebcc-4bfb-b89f-9a898fd7b408 ]] {\r\n",
       "}\r\n",
       "comp usage \"p2: ~P\" as E8 << << (P,blue) port>> [[psysml:4730362b-6892-4b61-8b08-4b1eb3a58a19 ]] {\r\n",
       "}\r\n",
       "comp def \"I\" as E9 << << (B,green) >> [[psysml:c589f335-4cab-4324-b073-03ca89b55f7d ]] {\r\n",
       "}\r\n",
       "comp usage \"p1: P\" as E10 << << (P,blue) port>> [[psysml:0a18d135-3a15-4f1e-a48b-3983b85e55aa ]] {\r\n",
       "}\r\n",
       "comp usage \"p2: ~P\" as E11 << << (P,blue) port>> [[psysml:f0ebefc1-580e-4b11-b9cf-e3cb40b874a3 ]] {\r\n",
       "}\r\n",
       "comp def \"B1\" as E12 << << (B,green) >> [[psysml:99d6c811-1239-4557-8bf5-512a2d9b51f5 ]] {\r\n",
       "}\r\n",
       "comp usage \"p\" as E13 << << (P,limegreen) part>> [[psysml:c80e6282-4b88-42a6-beea-d83b68d36327 ]] {\r\n",
       "}\r\n",
       "comp usage \"p1: P\" as E14 << << (P,blue) port>> [[psysml:36fdd18b-cc96-4106-b803-027f179d9fab ]] {\r\n",
       "}\r\n",
       "comp usage \"p2: ~P\" as E15 << << (P,blue) port>> [[psysml:a04d4130-2616-430e-82e5-4df6c3f344d5 ]] {\r\n",
       "}\r\n",
       "}\r\n",
       "E3 o- - \"1\"E4 [[psysml:478537c4-9aea-45e7-93bf-51b2f99f76d0 ]] \r\n",
       "E4 - -:|> E2 [[psysml:9a27f54b-62e8-4ed3-8ffb-179b9354440f ]] \r\n",
       "E3 o- - \"1\"E5 [[psysml:0c237cb0-b529-413c-8aaf-d2f6ce3a1092 ]] \r\n",
       "E6 o- - \"1\"E7 [[psysml:b94a6cc2-6585-4221-b4bd-c6e1360a7593 ]] \r\n",
       "E7 - -:|> E2 [[psysml:6c7ecdb4-3704-4141-b5eb-90be274661d4 ]] \r\n",
       "E6 o- - \"1\"E8 [[psysml:c893fa2e-0043-44e8-be45-2077001790d0 ]] \r\n",
       "E9 o- - \"1\"E10 [[psysml:3723b58c-a4dd-4ef3-9a79-2a659572d83c ]] \r\n",
       "E10 - -:|> E2 [[psysml:8c7a6e5c-2c0e-473c-a2c4-4062964bb416 ]] \r\n",
       "E9 o- - \"1\"E11 [[psysml:05b52cb0-1bec-4ecb-a4ba-b6e0a5fd36fa ]] \r\n",
       "E12 *- - \"1\"E13 [[psysml:2ea9f126-2045-475e-98b2-0bebbeaf39ba ]] \r\n",
       "E13 o- - \"1\"E14 [[psysml:56644651-1cff-4e4b-add6-5aaf4cbf3323 ]] \r\n",
       "E14 - -:|> E2 [[psysml:004f1bd4-f46a-4fc3-b446-5abbd305cc50 ]] \r\n",
       "E13 o- - \"1\"E15 [[psysml:439c4bcd-5bf6-4395-bbdb-0df2330c2504 ]] \r\n",
       "E14 -[thickness=3]- E15 [[psysml:356465e0-8362-42f7-8017-4c1d57dccd42 ]] \r\n",
       "E14 -[thickness=3]- E15 [[psysml:be002053-3eab-4239-b4ec-f62d8ddd6fa6 ]] \r\n",
       "@enduml\r\n",
       "\n",
       "PlantUML version 1.2020.13(Sat Jun 13 12:26:38 UTC 2020)\n",
       "(EPL source distribution)\n",
       "Java Runtime: OpenJDK Runtime Environment\n",
       "JVM: OpenJDK 64-Bit Server VM\n",
       "Default Encoding: UTF-8\n",
       "Language: en\n",
       "Country: null\n",
       "--></g></svg>"
      ]
     },
     "execution_count": 36,
     "metadata": {},
     "output_type": "execute_result"
    }
   ],
   "source": [
    "%viz --style=\"PLANTUML\" --view=\"MIXED\" \"ConjugationTest\""
   ]
  },
  {
   "cell_type": "code",
   "execution_count": 37,
   "id": "3b69a553",
   "metadata": {
    "execution": {
     "iopub.execute_input": "2021-10-03T08:28:07.781354Z",
     "iopub.status.busy": "2021-10-03T08:28:07.781017Z",
     "iopub.status.idle": "2021-10-03T08:28:07.830705Z",
     "shell.execute_reply": "2021-10-03T08:28:07.830152Z"
    }
   },
   "outputs": [
    {
     "data": {
      "image/svg+xml": [
       "<?xml version=\"1.0\" encoding=\"UTF-8\" standalone=\"no\"?><svg xmlns=\"http://www.w3.org/2000/svg\" xmlns:xlink=\"http://www.w3.org/1999/xlink\" contentScriptType=\"application/ecmascript\" contentStyleType=\"text/css\" height=\"433px\" preserveAspectRatio=\"none\" style=\"width:629px;height:433px;\" version=\"1.1\" viewBox=\"0 0 629 433\" width=\"629px\" zoomAndPan=\"magnify\"><defs/><g><!--MD5=[fbc87193dbaf4d95561dea2c320d4a47]\n",
       "cluster E1--><a href=\"psysml:811d2e93-771a-4206-9534-119b2782ed8b\" target=\"_top\" title=\"psysml:811d2e93-771a-4206-9534-119b2782ed8b\" xlink:actuate=\"onRequest\" xlink:href=\"psysml:811d2e93-771a-4206-9534-119b2782ed8b\" xlink:show=\"new\" xlink:title=\"psysml:811d2e93-771a-4206-9534-119b2782ed8b\" xlink:type=\"simple\"><polygon fill=\"#FFFFFF\" points=\"16,6,136,6,143,28.2969,607,28.2969,607,421,16,421,16,6\" style=\"stroke: #000000; stroke-width: 1.5;\"/><line style=\"stroke: #000000; stroke-width: 1.5;\" x1=\"16\" x2=\"143\" y1=\"28.2969\" y2=\"28.2969\"/><text fill=\"#000000\" font-family=\"sans-serif\" font-size=\"14\" font-weight=\"bold\" lengthAdjust=\"spacingAndGlyphs\" textLength=\"114\" x=\"20\" y=\"20.9951\">ConjugationTest</text></a><!--MD5=[b4997ac47864f28c2f74865a473b2911]\n",
       "class E2--><a href=\"psysml:a118eece-ff6c-41b4-a8ec-63007fd81e06\" target=\"_top\" title=\"psysml:a118eece-ff6c-41b4-a8ec-63007fd81e06\" xlink:actuate=\"onRequest\" xlink:href=\"psysml:a118eece-ff6c-41b4-a8ec-63007fd81e06\" xlink:show=\"new\" xlink:title=\"psysml:a118eece-ff6c-41b4-a8ec-63007fd81e06\" xlink:type=\"simple\"><rect fill=\"#FFFFFF\" height=\"45.9375\" id=\"E2\" style=\"stroke: #383838; stroke-width: 1.5;\" width=\"66\" x=\"221\" y=\"359\"/><text fill=\"#000000\" font-family=\"sans-serif\" font-size=\"12\" font-style=\"italic\" lengthAdjust=\"spacingAndGlyphs\" textLength=\"64\" x=\"222\" y=\"375.1387\">«port def»</text><text fill=\"#000000\" font-family=\"sans-serif\" font-size=\"12\" lengthAdjust=\"spacingAndGlyphs\" textLength=\"8\" x=\"250\" y=\"389.1074\">P</text><line style=\"stroke: #383838; stroke-width: 1.5;\" x1=\"222\" x2=\"286\" y1=\"396.9375\" y2=\"396.9375\"/></a><!--MD5=[09b614a08d8cba4a07c9adeb5e0fee81]\n",
       "class E3--><a href=\"psysml:45f3428f-90c5-481c-8b5b-6d42a9c9ecb4\" target=\"_top\" title=\"psysml:45f3428f-90c5-481c-8b5b-6d42a9c9ecb4\" xlink:actuate=\"onRequest\" xlink:href=\"psysml:45f3428f-90c5-481c-8b5b-6d42a9c9ecb4\" xlink:show=\"new\" xlink:title=\"psysml:45f3428f-90c5-481c-8b5b-6d42a9c9ecb4\" xlink:type=\"simple\"><rect fill=\"#FFFFFF\" height=\"45.9375\" id=\"E3\" style=\"stroke: #383838; stroke-width: 1.5;\" width=\"66\" x=\"489\" y=\"147\"/><text fill=\"#000000\" font-family=\"sans-serif\" font-size=\"12\" font-style=\"italic\" lengthAdjust=\"spacingAndGlyphs\" textLength=\"64\" x=\"490\" y=\"163.1387\">«part def»</text><text fill=\"#000000\" font-family=\"sans-serif\" font-size=\"12\" lengthAdjust=\"spacingAndGlyphs\" textLength=\"8\" x=\"518\" y=\"177.1074\">B</text><line style=\"stroke: #383838; stroke-width: 1.5;\" x1=\"490\" x2=\"554\" y1=\"184.9375\" y2=\"184.9375\"/></a><!--MD5=[ebbe1d658d1005bcc118a6aa81145e00]\n",
       "class E4--><a href=\"psysml:f10162e3-9121-4423-8c61-28bf75aadc9a\" target=\"_top\" title=\"psysml:f10162e3-9121-4423-8c61-28bf75aadc9a\" xlink:actuate=\"onRequest\" xlink:href=\"psysml:f10162e3-9121-4423-8c61-28bf75aadc9a\" xlink:show=\"new\" xlink:title=\"psysml:f10162e3-9121-4423-8c61-28bf75aadc9a\" xlink:type=\"simple\"><rect fill=\"#FFFFFF\" height=\"45.9375\" id=\"E4\" rx=\"10\" ry=\"10\" style=\"stroke: #383838; stroke-width: 1.5;\" width=\"42\" x=\"466\" y=\"253\"/><text fill=\"#000000\" font-family=\"sans-serif\" font-size=\"12\" font-style=\"italic\" lengthAdjust=\"spacingAndGlyphs\" textLength=\"40\" x=\"467\" y=\"269.1387\">«port»</text><text fill=\"#000000\" font-family=\"sans-serif\" font-size=\"12\" lengthAdjust=\"spacingAndGlyphs\" textLength=\"32\" x=\"471\" y=\"283.1074\">p1: P</text><line style=\"stroke: #383838; stroke-width: 1.5;\" x1=\"467\" x2=\"507\" y1=\"290.9375\" y2=\"290.9375\"/></a><!--MD5=[270fce915f116d4de14055a7c1d9a0f3]\n",
       "class E5--><a href=\"psysml:f793b08e-b132-4869-8396-6344384571c9\" target=\"_top\" title=\"psysml:f793b08e-b132-4869-8396-6344384571c9\" xlink:actuate=\"onRequest\" xlink:href=\"psysml:f793b08e-b132-4869-8396-6344384571c9\" xlink:show=\"new\" xlink:title=\"psysml:f793b08e-b132-4869-8396-6344384571c9\" xlink:type=\"simple\"><rect fill=\"#FFFFFF\" height=\"45.9375\" id=\"E5\" rx=\"10\" ry=\"10\" style=\"stroke: #383838; stroke-width: 1.5;\" width=\"48\" x=\"543\" y=\"253\"/><text fill=\"#000000\" font-family=\"sans-serif\" font-size=\"12\" font-style=\"italic\" lengthAdjust=\"spacingAndGlyphs\" textLength=\"40\" x=\"547\" y=\"269.1387\">«port»</text><text fill=\"#000000\" font-family=\"sans-serif\" font-size=\"12\" lengthAdjust=\"spacingAndGlyphs\" textLength=\"42\" x=\"546\" y=\"283.1074\">p2: ~P</text><line style=\"stroke: #383838; stroke-width: 1.5;\" x1=\"544\" x2=\"590\" y1=\"290.9375\" y2=\"290.9375\"/></a><!--MD5=[60a26617385b1d2d0262a64233df1f8d]\n",
       "class E6--><a href=\"psysml:1e44cf6a-fe6c-483a-98ee-7c5816e24c4f\" target=\"_top\" title=\"psysml:1e44cf6a-fe6c-483a-98ee-7c5816e24c4f\" xlink:actuate=\"onRequest\" xlink:href=\"psysml:1e44cf6a-fe6c-483a-98ee-7c5816e24c4f\" xlink:show=\"new\" xlink:title=\"psysml:1e44cf6a-fe6c-483a-98ee-7c5816e24c4f\" xlink:type=\"simple\"><rect fill=\"#FFFFFF\" height=\"45.9375\" id=\"E6\" style=\"stroke: #383838; stroke-width: 1.5;\" width=\"110\" x=\"282\" y=\"147\"/><text fill=\"#000000\" font-family=\"sans-serif\" font-size=\"12\" font-style=\"italic\" lengthAdjust=\"spacingAndGlyphs\" textLength=\"108\" x=\"283\" y=\"163.1387\">«connection def»</text><text fill=\"#000000\" font-family=\"sans-serif\" font-size=\"12\" lengthAdjust=\"spacingAndGlyphs\" textLength=\"8\" x=\"333\" y=\"177.1074\">A</text><line style=\"stroke: #383838; stroke-width: 1.5;\" x1=\"283\" x2=\"391\" y1=\"184.9375\" y2=\"184.9375\"/></a><!--MD5=[2156ba9850f5573cc1fc38a6a4b2f02b]\n",
       "class E7--><a href=\"psysml:592da980-ebcc-4bfb-b89f-9a898fd7b408\" target=\"_top\" title=\"psysml:592da980-ebcc-4bfb-b89f-9a898fd7b408\" xlink:actuate=\"onRequest\" xlink:href=\"psysml:592da980-ebcc-4bfb-b89f-9a898fd7b408\" xlink:show=\"new\" xlink:title=\"psysml:592da980-ebcc-4bfb-b89f-9a898fd7b408\" xlink:type=\"simple\"><rect fill=\"#FFFFFF\" height=\"45.9375\" id=\"E7\" rx=\"10\" ry=\"10\" style=\"stroke: #383838; stroke-width: 1.5;\" width=\"42\" x=\"306\" y=\"253\"/><text fill=\"#000000\" font-family=\"sans-serif\" font-size=\"12\" font-style=\"italic\" lengthAdjust=\"spacingAndGlyphs\" textLength=\"40\" x=\"307\" y=\"269.1387\">«port»</text><text fill=\"#000000\" font-family=\"sans-serif\" font-size=\"12\" lengthAdjust=\"spacingAndGlyphs\" textLength=\"32\" x=\"311\" y=\"283.1074\">p1: P</text><line style=\"stroke: #383838; stroke-width: 1.5;\" x1=\"307\" x2=\"347\" y1=\"290.9375\" y2=\"290.9375\"/></a><!--MD5=[b9389687b975829384b498ac4b7476b2]\n",
       "class E8--><a href=\"psysml:4730362b-6892-4b61-8b08-4b1eb3a58a19\" target=\"_top\" title=\"psysml:4730362b-6892-4b61-8b08-4b1eb3a58a19\" xlink:actuate=\"onRequest\" xlink:href=\"psysml:4730362b-6892-4b61-8b08-4b1eb3a58a19\" xlink:show=\"new\" xlink:title=\"psysml:4730362b-6892-4b61-8b08-4b1eb3a58a19\" xlink:type=\"simple\"><rect fill=\"#FFFFFF\" height=\"45.9375\" id=\"E8\" rx=\"10\" ry=\"10\" style=\"stroke: #383838; stroke-width: 1.5;\" width=\"48\" x=\"383\" y=\"253\"/><text fill=\"#000000\" font-family=\"sans-serif\" font-size=\"12\" font-style=\"italic\" lengthAdjust=\"spacingAndGlyphs\" textLength=\"40\" x=\"387\" y=\"269.1387\">«port»</text><text fill=\"#000000\" font-family=\"sans-serif\" font-size=\"12\" lengthAdjust=\"spacingAndGlyphs\" textLength=\"42\" x=\"386\" y=\"283.1074\">p2: ~P</text><line style=\"stroke: #383838; stroke-width: 1.5;\" x1=\"384\" x2=\"430\" y1=\"290.9375\" y2=\"290.9375\"/></a><!--MD5=[fd4143e9d270a159db93a4ea2a975926]\n",
       "class E9--><a href=\"psysml:c589f335-4cab-4324-b073-03ca89b55f7d\" target=\"_top\" title=\"psysml:c589f335-4cab-4324-b073-03ca89b55f7d\" xlink:actuate=\"onRequest\" xlink:href=\"psysml:c589f335-4cab-4324-b073-03ca89b55f7d\" xlink:show=\"new\" xlink:title=\"psysml:c589f335-4cab-4324-b073-03ca89b55f7d\" xlink:type=\"simple\"><rect fill=\"#FFFFFF\" height=\"45.9375\" id=\"E9\" style=\"stroke: #383838; stroke-width: 1.5;\" width=\"96\" x=\"146\" y=\"147\"/><text fill=\"#000000\" font-family=\"sans-serif\" font-size=\"12\" font-style=\"italic\" lengthAdjust=\"spacingAndGlyphs\" textLength=\"94\" x=\"147\" y=\"163.1387\">«interface def»</text><text fill=\"#000000\" font-family=\"sans-serif\" font-size=\"12\" lengthAdjust=\"spacingAndGlyphs\" textLength=\"3\" x=\"192.5\" y=\"177.1074\">I</text><line style=\"stroke: #383838; stroke-width: 1.5;\" x1=\"147\" x2=\"241\" y1=\"184.9375\" y2=\"184.9375\"/></a><!--MD5=[96f4274e9e20536e775497830990834d]\n",
       "class E10--><a href=\"psysml:0a18d135-3a15-4f1e-a48b-3983b85e55aa\" target=\"_top\" title=\"psysml:0a18d135-3a15-4f1e-a48b-3983b85e55aa\" xlink:actuate=\"onRequest\" xlink:href=\"psysml:0a18d135-3a15-4f1e-a48b-3983b85e55aa\" xlink:show=\"new\" xlink:title=\"psysml:0a18d135-3a15-4f1e-a48b-3983b85e55aa\" xlink:type=\"simple\"><rect fill=\"#FFFFFF\" height=\"45.9375\" id=\"E10\" rx=\"10\" ry=\"10\" style=\"stroke: #383838; stroke-width: 1.5;\" width=\"42\" x=\"146\" y=\"253\"/><text fill=\"#000000\" font-family=\"sans-serif\" font-size=\"12\" font-style=\"italic\" lengthAdjust=\"spacingAndGlyphs\" textLength=\"40\" x=\"147\" y=\"269.1387\">«port»</text><text fill=\"#000000\" font-family=\"sans-serif\" font-size=\"12\" lengthAdjust=\"spacingAndGlyphs\" textLength=\"32\" x=\"151\" y=\"283.1074\">p1: P</text><line style=\"stroke: #383838; stroke-width: 1.5;\" x1=\"147\" x2=\"187\" y1=\"290.9375\" y2=\"290.9375\"/></a><!--MD5=[1dd1bfd58a279cf63c5f349dbc8fc6a1]\n",
       "class E11--><a href=\"psysml:f0ebefc1-580e-4b11-b9cf-e3cb40b874a3\" target=\"_top\" title=\"psysml:f0ebefc1-580e-4b11-b9cf-e3cb40b874a3\" xlink:actuate=\"onRequest\" xlink:href=\"psysml:f0ebefc1-580e-4b11-b9cf-e3cb40b874a3\" xlink:show=\"new\" xlink:title=\"psysml:f0ebefc1-580e-4b11-b9cf-e3cb40b874a3\" xlink:type=\"simple\"><rect fill=\"#FFFFFF\" height=\"45.9375\" id=\"E11\" rx=\"10\" ry=\"10\" style=\"stroke: #383838; stroke-width: 1.5;\" width=\"48\" x=\"223\" y=\"253\"/><text fill=\"#000000\" font-family=\"sans-serif\" font-size=\"12\" font-style=\"italic\" lengthAdjust=\"spacingAndGlyphs\" textLength=\"40\" x=\"227\" y=\"269.1387\">«port»</text><text fill=\"#000000\" font-family=\"sans-serif\" font-size=\"12\" lengthAdjust=\"spacingAndGlyphs\" textLength=\"42\" x=\"226\" y=\"283.1074\">p2: ~P</text><line style=\"stroke: #383838; stroke-width: 1.5;\" x1=\"224\" x2=\"270\" y1=\"290.9375\" y2=\"290.9375\"/></a><!--MD5=[49a0ec8f00dab7302a31f22d0f0fe584]\n",
       "class E12--><a href=\"psysml:99d6c811-1239-4557-8bf5-512a2d9b51f5\" target=\"_top\" title=\"psysml:99d6c811-1239-4557-8bf5-512a2d9b51f5\" xlink:actuate=\"onRequest\" xlink:href=\"psysml:99d6c811-1239-4557-8bf5-512a2d9b51f5\" xlink:show=\"new\" xlink:title=\"psysml:99d6c811-1239-4557-8bf5-512a2d9b51f5\" xlink:type=\"simple\"><rect fill=\"#FFFFFF\" height=\"45.9375\" id=\"E12\" style=\"stroke: #383838; stroke-width: 1.5;\" width=\"66\" x=\"47\" y=\"41\"/><text fill=\"#000000\" font-family=\"sans-serif\" font-size=\"12\" font-style=\"italic\" lengthAdjust=\"spacingAndGlyphs\" textLength=\"64\" x=\"48\" y=\"57.1387\">«part def»</text><text fill=\"#000000\" font-family=\"sans-serif\" font-size=\"12\" lengthAdjust=\"spacingAndGlyphs\" textLength=\"16\" x=\"72\" y=\"71.1074\">B1</text><line style=\"stroke: #383838; stroke-width: 1.5;\" x1=\"48\" x2=\"112\" y1=\"78.9375\" y2=\"78.9375\"/></a><!--MD5=[ee3c913d1a06f366521f9ef512b67efe]\n",
       "class E13--><a href=\"psysml:c80e6282-4b88-42a6-beea-d83b68d36327\" target=\"_top\" title=\"psysml:c80e6282-4b88-42a6-beea-d83b68d36327\" xlink:actuate=\"onRequest\" xlink:href=\"psysml:c80e6282-4b88-42a6-beea-d83b68d36327\" xlink:show=\"new\" xlink:title=\"psysml:c80e6282-4b88-42a6-beea-d83b68d36327\" xlink:type=\"simple\"><rect fill=\"#FFFFFF\" height=\"45.9375\" id=\"E13\" rx=\"10\" ry=\"10\" style=\"stroke: #383838; stroke-width: 1.5;\" width=\"42\" x=\"59\" y=\"147\"/><text fill=\"#000000\" font-family=\"sans-serif\" font-size=\"12\" font-style=\"italic\" lengthAdjust=\"spacingAndGlyphs\" textLength=\"40\" x=\"60\" y=\"163.1387\">«part»</text><text fill=\"#000000\" font-family=\"sans-serif\" font-size=\"12\" lengthAdjust=\"spacingAndGlyphs\" textLength=\"8\" x=\"76\" y=\"177.1074\">p</text><line style=\"stroke: #383838; stroke-width: 1.5;\" x1=\"60\" x2=\"100\" y1=\"184.9375\" y2=\"184.9375\"/></a><!--MD5=[bee11217b2f71d958a27249dc326068c]\n",
       "class E14--><a href=\"psysml:36fdd18b-cc96-4106-b803-027f179d9fab\" target=\"_top\" title=\"psysml:36fdd18b-cc96-4106-b803-027f179d9fab\" xlink:actuate=\"onRequest\" xlink:href=\"psysml:36fdd18b-cc96-4106-b803-027f179d9fab\" xlink:show=\"new\" xlink:title=\"psysml:36fdd18b-cc96-4106-b803-027f179d9fab\" xlink:type=\"simple\"><rect fill=\"#FFFFFF\" height=\"45.9375\" id=\"E14\" rx=\"10\" ry=\"10\" style=\"stroke: #383838; stroke-width: 1.5;\" width=\"42\" x=\"69\" y=\"253\"/><text fill=\"#000000\" font-family=\"sans-serif\" font-size=\"12\" font-style=\"italic\" lengthAdjust=\"spacingAndGlyphs\" textLength=\"40\" x=\"70\" y=\"269.1387\">«port»</text><text fill=\"#000000\" font-family=\"sans-serif\" font-size=\"12\" lengthAdjust=\"spacingAndGlyphs\" textLength=\"32\" x=\"74\" y=\"283.1074\">p1: P</text><line style=\"stroke: #383838; stroke-width: 1.5;\" x1=\"70\" x2=\"110\" y1=\"290.9375\" y2=\"290.9375\"/></a><!--MD5=[0c48fb7552dae8cbbef69381101a84c8]\n",
       "class E15--><a href=\"psysml:a04d4130-2616-430e-82e5-4df6c3f344d5\" target=\"_top\" title=\"psysml:a04d4130-2616-430e-82e5-4df6c3f344d5\" xlink:actuate=\"onRequest\" xlink:href=\"psysml:a04d4130-2616-430e-82e5-4df6c3f344d5\" xlink:show=\"new\" xlink:title=\"psysml:a04d4130-2616-430e-82e5-4df6c3f344d5\" xlink:type=\"simple\"><rect fill=\"#FFFFFF\" height=\"45.9375\" id=\"E15\" rx=\"10\" ry=\"10\" style=\"stroke: #383838; stroke-width: 1.5;\" width=\"48\" x=\"66\" y=\"359\"/><text fill=\"#000000\" font-family=\"sans-serif\" font-size=\"12\" font-style=\"italic\" lengthAdjust=\"spacingAndGlyphs\" textLength=\"40\" x=\"70\" y=\"375.1387\">«port»</text><text fill=\"#000000\" font-family=\"sans-serif\" font-size=\"12\" lengthAdjust=\"spacingAndGlyphs\" textLength=\"42\" x=\"69\" y=\"389.1074\">p2: ~P</text><line style=\"stroke: #383838; stroke-width: 1.5;\" x1=\"67\" x2=\"113\" y1=\"396.9375\" y2=\"396.9375\"/></a><!--MD5=[4672eba38e49728da53d11aeb285b987]\n",
       "reverse link E3 to E4--><a href=\"psysml:478537c4-9aea-45e7-93bf-51b2f99f76d0\" target=\"_top\" title=\"psysml:478537c4-9aea-45e7-93bf-51b2f99f76d0\" xlink:actuate=\"onRequest\" xlink:href=\"psysml:478537c4-9aea-45e7-93bf-51b2f99f76d0\" xlink:show=\"new\" xlink:title=\"psysml:478537c4-9aea-45e7-93bf-51b2f99f76d0\" xlink:type=\"simple\"><path d=\"M510.39,205.49 C505.12,221.15 499.05,239.19 494.41,252.98 \" fill=\"none\" id=\"E3&lt;-E4\" style=\"stroke: #383838; stroke-width: 1.0;\"/><polygon fill=\"#FFFFFF\" points=\"514.58,193.06,508.8756,197.4713,510.7536,204.4336,516.458,200.0223,514.58,193.06\" style=\"stroke: #383838; stroke-width: 1.0;\"/><text fill=\"#000000\" font-family=\"sans-serif\" font-size=\"13\" lengthAdjust=\"spacingAndGlyphs\" textLength=\"8\" x=\"487.3264\" y=\"241.8709\">1</text></a><!--MD5=[185131fc0dcab0a4505a2ebe144e961b]\n",
       "link E4 to E2--><a href=\"psysml:9a27f54b-62e8-4ed3-8ffb-179b9354440f\" target=\"_top\" title=\"psysml:9a27f54b-62e8-4ed3-8ffb-179b9354440f\" xlink:actuate=\"onRequest\" xlink:href=\"psysml:9a27f54b-62e8-4ed3-8ffb-179b9354440f\" xlink:show=\"new\" xlink:title=\"psysml:9a27f54b-62e8-4ed3-8ffb-179b9354440f\" xlink:type=\"simple\"><path d=\"M465.96,289.82 C460.51,292.96 454.6,296.22 449,299 C401.46,322.64 345.42,345.73 305.65,361.35 \" fill=\"none\" id=\"E4-&gt;E2\" style=\"stroke: #383838; stroke-width: 1.0;\"/><polygon fill=\"#FFFFFF\" points=\"287,368.6,302.1754,355.1945,307.2453,368.2443,287,368.6\" style=\"stroke: #383838; stroke-width: 1.0;\"/><ellipse cx=\"308.2128\" cy=\"354.9946\" fill=\"#383838\" rx=\"2\" ry=\"2\" style=\"stroke: #383838; stroke-width: 1.0;\"/><ellipse cx=\"311.8342\" cy=\"364.3159\" fill=\"#383838\" rx=\"2\" ry=\"2\" style=\"stroke: #383838; stroke-width: 1.0;\"/></a><!--MD5=[191cde3d490a3f6d7bb551fe3ddca469]\n",
       "reverse link E3 to E5--><a href=\"psysml:0c237cb0-b529-413c-8aaf-d2f6ce3a1092\" target=\"_top\" title=\"psysml:0c237cb0-b529-413c-8aaf-d2f6ce3a1092\" xlink:actuate=\"onRequest\" xlink:href=\"psysml:0c237cb0-b529-413c-8aaf-d2f6ce3a1092\" xlink:show=\"new\" xlink:title=\"psysml:0c237cb0-b529-413c-8aaf-d2f6ce3a1092\" xlink:type=\"simple\"><path d=\"M536.72,205.03 C543.54,220.78 551.45,239.06 557.47,252.98 \" fill=\"none\" id=\"E3&lt;-E5\" style=\"stroke: #383838; stroke-width: 1.0;\"/><polygon fill=\"#FFFFFF\" points=\"531.54,193.06,530.2495,200.1547,536.302,204.0747,537.5926,196.98,531.54,193.06\" style=\"stroke: #383838; stroke-width: 1.0;\"/><text fill=\"#000000\" font-family=\"sans-serif\" font-size=\"13\" lengthAdjust=\"spacingAndGlyphs\" textLength=\"8\" x=\"545.8338\" y=\"241.8709\">1</text></a><!--MD5=[3f50a3473f1dfb74d3f76443e03635af]\n",
       "reverse link E6 to E7--><a href=\"psysml:b94a6cc2-6585-4221-b4bd-c6e1360a7593\" target=\"_top\" title=\"psysml:b94a6cc2-6585-4221-b4bd-c6e1360a7593\" xlink:actuate=\"onRequest\" xlink:href=\"psysml:b94a6cc2-6585-4221-b4bd-c6e1360a7593\" xlink:show=\"new\" xlink:title=\"psysml:b94a6cc2-6585-4221-b4bd-c6e1360a7593\" xlink:type=\"simple\"><path d=\"M333.59,206.44 C332.11,221.87 330.42,239.47 329.12,252.98 \" fill=\"none\" id=\"E6&lt;-E7\" style=\"stroke: #383838; stroke-width: 1.0;\"/><polygon fill=\"#FFFFFF\" points=\"334.88,193.06,330.3242,198.6497,333.7317,205.0049,338.2875,199.4152,334.88,193.06\" style=\"stroke: #383838; stroke-width: 1.0;\"/><text fill=\"#000000\" font-family=\"sans-serif\" font-size=\"13\" lengthAdjust=\"spacingAndGlyphs\" textLength=\"8\" x=\"320.6148\" y=\"241.8709\">1</text></a><!--MD5=[583832df87f4419a098336a29a52fa00]\n",
       "link E7 to E2--><a href=\"psysml:6c7ecdb4-3704-4141-b5eb-90be274661d4\" target=\"_top\" title=\"psysml:6c7ecdb4-3704-4141-b5eb-90be274661d4\" xlink:actuate=\"onRequest\" xlink:href=\"psysml:6c7ecdb4-3704-4141-b5eb-90be274661d4\" xlink:show=\"new\" xlink:title=\"psysml:6c7ecdb4-3704-4141-b5eb-90be274661d4\" xlink:type=\"simple\"><path d=\"M311.52,299.06 C302.71,311.6 291.43,327.68 281.19,342.26 \" fill=\"none\" id=\"E7-&gt;E2\" style=\"stroke: #383838; stroke-width: 1.0;\"/><polygon fill=\"#FFFFFF\" points=\"269.46,358.98,274.6532,339.4088,286.1093,347.4561,269.46,358.98\" style=\"stroke: #383838; stroke-width: 1.0;\"/><ellipse cx=\"279.5662\" cy=\"335.8942\" fill=\"#383838\" rx=\"2\" ry=\"2\" style=\"stroke: #383838; stroke-width: 1.0;\"/><ellipse cx=\"287.7491\" cy=\"341.6422\" fill=\"#383838\" rx=\"2\" ry=\"2\" style=\"stroke: #383838; stroke-width: 1.0;\"/></a><!--MD5=[f4cf0736d43fd73c4ef68817c49d37d5]\n",
       "reverse link E6 to E8--><a href=\"psysml:c893fa2e-0043-44e8-be45-2077001790d0\" target=\"_top\" title=\"psysml:c893fa2e-0043-44e8-be45-2077001790d0\" xlink:actuate=\"onRequest\" xlink:href=\"psysml:c893fa2e-0043-44e8-be45-2077001790d0\" xlink:show=\"new\" xlink:title=\"psysml:c893fa2e-0043-44e8-be45-2077001790d0\" xlink:type=\"simple\"><path d=\"M359.27,204.09 C370.02,220.06 382.62,238.78 392.18,252.98 \" fill=\"none\" id=\"E6&lt;-E8\" style=\"stroke: #383838; stroke-width: 1.0;\"/><polygon fill=\"#FFFFFF\" points=\"351.85,193.06,351.8808,200.271,358.5489,203.0161,358.5182,195.8051,351.85,193.06\" style=\"stroke: #383838; stroke-width: 1.0;\"/><text fill=\"#000000\" font-family=\"sans-serif\" font-size=\"13\" lengthAdjust=\"spacingAndGlyphs\" textLength=\"8\" x=\"379.1221\" y=\"241.8709\">1</text></a><!--MD5=[23ac544a70576c3e717098101004234c]\n",
       "reverse link E9 to E10--><a href=\"psysml:3723b58c-a4dd-4ef3-9a79-2a659572d83c\" target=\"_top\" title=\"psysml:3723b58c-a4dd-4ef3-9a79-2a659572d83c\" xlink:actuate=\"onRequest\" xlink:href=\"psysml:3723b58c-a4dd-4ef3-9a79-2a659572d83c\" xlink:show=\"new\" xlink:title=\"psysml:3723b58c-a4dd-4ef3-9a79-2a659572d83c\" xlink:type=\"simple\"><path d=\"M184.92,205.96 C180.89,221.51 176.26,239.33 172.72,252.98 \" fill=\"none\" id=\"E9&lt;-E10\" style=\"stroke: #383838; stroke-width: 1.0;\"/><polygon fill=\"#FFFFFF\" points=\"188.27,193.06,182.8943,197.8665,185.2635,204.6773,190.6392,199.8708,188.27,193.06\" style=\"stroke: #383838; stroke-width: 1.0;\"/><text fill=\"#000000\" font-family=\"sans-serif\" font-size=\"13\" lengthAdjust=\"spacingAndGlyphs\" textLength=\"8\" x=\"165.1823\" y=\"241.8709\">1</text></a><!--MD5=[0f36bececdf0dff6e600d6f64214b0f1]\n",
       "link E10 to E2--><a href=\"psysml:8c7a6e5c-2c0e-473c-a2c4-4062964bb416\" target=\"_top\" title=\"psysml:8c7a6e5c-2c0e-473c-a2c4-4062964bb416\" xlink:actuate=\"onRequest\" xlink:href=\"psysml:8c7a6e5c-2c0e-473c-a2c4-4062964bb416\" xlink:show=\"new\" xlink:title=\"psysml:8c7a6e5c-2c0e-473c-a2c4-4062964bb416\" xlink:type=\"simple\"><path d=\"M185.45,299.06 C196.18,311.88 209.99,328.39 222.4,343.22 \" fill=\"none\" id=\"E10-&gt;E2\" style=\"stroke: #383838; stroke-width: 1.0;\"/><polygon fill=\"#FFFFFF\" points=\"235.58,358.98,218.0168,348.9036,228.7522,339.9174,235.58,358.98\" style=\"stroke: #383838; stroke-width: 1.0;\"/><ellipse cx=\"215.8918\" cy=\"343.249\" fill=\"#383838\" rx=\"2\" ry=\"2\" style=\"stroke: #383838; stroke-width: 1.0;\"/><ellipse cx=\"223.5599\" cy=\"336.8303\" fill=\"#383838\" rx=\"2\" ry=\"2\" style=\"stroke: #383838; stroke-width: 1.0;\"/></a><!--MD5=[1fc04a95fd77ad5ce46c1a3027516051]\n",
       "reverse link E9 to E11--><a href=\"psysml:05b52cb0-1bec-4ecb-a4ba-b6e0a5fd36fa\" target=\"_top\" title=\"psysml:05b52cb0-1bec-4ecb-a4ba-b6e0a5fd36fa\" xlink:actuate=\"onRequest\" xlink:href=\"psysml:05b52cb0-1bec-4ecb-a4ba-b6e0a5fd36fa\" xlink:show=\"new\" xlink:title=\"psysml:05b52cb0-1bec-4ecb-a4ba-b6e0a5fd36fa\" xlink:type=\"simple\"><path d=\"M211.34,205.03 C219.37,220.78 228.68,239.06 235.78,252.98 \" fill=\"none\" id=\"E9&lt;-E11\" style=\"stroke: #383838; stroke-width: 1.0;\"/><polygon fill=\"#FFFFFF\" points=\"205.24,193.06,204.3983,200.2218,210.6855,203.7533,211.5272,196.5915,205.24,193.06\" style=\"stroke: #383838; stroke-width: 1.0;\"/><text fill=\"#000000\" font-family=\"sans-serif\" font-size=\"13\" lengthAdjust=\"spacingAndGlyphs\" textLength=\"8\" x=\"223.6896\" y=\"241.8709\">1</text></a><!--MD5=[062ed86c389d1a88f61c6380d0491e17]\n",
       "reverse link E12 to E13--><a href=\"psysml:2ea9f126-2045-475e-98b2-0bebbeaf39ba\" target=\"_top\" title=\"psysml:2ea9f126-2045-475e-98b2-0bebbeaf39ba\" xlink:actuate=\"onRequest\" xlink:href=\"psysml:2ea9f126-2045-475e-98b2-0bebbeaf39ba\" xlink:show=\"new\" xlink:title=\"psysml:2ea9f126-2045-475e-98b2-0bebbeaf39ba\" xlink:type=\"simple\"><path d=\"M80,100.44 C80,115.87 80,133.47 80,146.98 \" fill=\"none\" id=\"E12&lt;-E13\" style=\"stroke: #383838; stroke-width: 1.0;\"/><polygon fill=\"#383838\" points=\"80,87.06,76,93.06,80,99.06,84,93.06,80,87.06\" style=\"stroke: #383838; stroke-width: 1.0;\"/><text fill=\"#000000\" font-family=\"sans-serif\" font-size=\"13\" lengthAdjust=\"spacingAndGlyphs\" textLength=\"8\" x=\"70.925\" y=\"135.8709\">1</text></a><!--MD5=[01db00f33b28669d6d9febea71002831]\n",
       "reverse link E13 to E14--><a href=\"psysml:56644651-1cff-4e4b-add6-5aaf4cbf3323\" target=\"_top\" title=\"psysml:56644651-1cff-4e4b-add6-5aaf4cbf3323\" xlink:actuate=\"onRequest\" xlink:href=\"psysml:56644651-1cff-4e4b-add6-5aaf4cbf3323\" xlink:show=\"new\" xlink:title=\"psysml:56644651-1cff-4e4b-add6-5aaf4cbf3323\" xlink:type=\"simple\"><path d=\"M83.41,206.44 C84.89,221.87 86.58,239.47 87.88,252.98 \" fill=\"none\" id=\"E13&lt;-E14\" style=\"stroke: #383838; stroke-width: 1.0;\"/><polygon fill=\"#FFFFFF\" points=\"82.12,193.06,78.7125,199.4152,83.2683,205.0049,86.6758,198.6497,82.12,193.06\" style=\"stroke: #383838; stroke-width: 1.0;\"/><text fill=\"#000000\" font-family=\"sans-serif\" font-size=\"13\" lengthAdjust=\"spacingAndGlyphs\" textLength=\"8\" x=\"78.2353\" y=\"241.8709\">1</text></a><!--MD5=[e5566ac99d7714697a7fbc17f6b550fe]\n",
       "link E14 to E2--><a href=\"psysml:004f1bd4-f46a-4fc3-b446-5abbd305cc50\" target=\"_top\" title=\"psysml:004f1bd4-f46a-4fc3-b446-5abbd305cc50\" xlink:actuate=\"onRequest\" xlink:href=\"psysml:004f1bd4-f46a-4fc3-b446-5abbd305cc50\" xlink:show=\"new\" xlink:title=\"psysml:004f1bd4-f46a-4fc3-b446-5abbd305cc50\" xlink:type=\"simple\"><path d=\"M111.1,290.38 C134.32,305.1 172.45,329.29 203.49,348.97 \" fill=\"none\" id=\"E14-&gt;E2\" style=\"stroke: #383838; stroke-width: 1.0;\"/><polygon fill=\"#FFFFFF\" points=\"220.77,359.93,200.9767,355.661,208.4774,343.8399,220.77,359.93\" style=\"stroke: #383838; stroke-width: 1.0;\"/><ellipse cx=\"197.2353\" cy=\"350.9184\" fill=\"#383838\" rx=\"2\" ry=\"2\" style=\"stroke: #383838; stroke-width: 1.0;\"/><ellipse cx=\"202.593\" cy=\"342.4748\" fill=\"#383838\" rx=\"2\" ry=\"2\" style=\"stroke: #383838; stroke-width: 1.0;\"/></a><!--MD5=[e9a5e828c71fd2209a11a152f562d491]\n",
       "reverse link E13 to E15--><a href=\"psysml:439c4bcd-5bf6-4395-bbdb-0df2330c2504\" target=\"_top\" title=\"psysml:439c4bcd-5bf6-4395-bbdb-0df2330c2504\" xlink:actuate=\"onRequest\" xlink:href=\"psysml:439c4bcd-5bf6-4395-bbdb-0df2330c2504\" xlink:show=\"new\" xlink:title=\"psysml:439c4bcd-5bf6-4395-bbdb-0df2330c2504\" xlink:type=\"simple\"><path d=\"M64.33,205.31 C54.54,231.09 45,267.26 52,299 C56.73,320.45 67.65,342.96 76.58,358.96 \" fill=\"none\" id=\"E13&lt;-E15\" style=\"stroke: #383838; stroke-width: 1.0;\"/><polygon fill=\"#FFFFFF\" points=\"69.24,193.2,63.2795,197.2586,64.7334,204.3216,70.6939,200.263,69.24,193.2\" style=\"stroke: #383838; stroke-width: 1.0;\"/><text fill=\"#000000\" font-family=\"sans-serif\" font-size=\"13\" lengthAdjust=\"spacingAndGlyphs\" textLength=\"8\" x=\"63.8984\" y=\"347.8455\">1</text></a><!--MD5=[3afbdc645381407e1bc99677323a2513]\n",
       "link E14 to E15--><a href=\"psysml:356465e0-8362-42f7-8017-4c1d57dccd42\" target=\"_top\" title=\"psysml:356465e0-8362-42f7-8017-4c1d57dccd42\" xlink:actuate=\"onRequest\" xlink:href=\"psysml:356465e0-8362-42f7-8017-4c1d57dccd42\" xlink:show=\"new\" xlink:title=\"psysml:356465e0-8362-42f7-8017-4c1d57dccd42\" xlink:type=\"simple\"><path d=\"M79.35,299.06 C76.55,316.7 76.55,341.34 79.36,358.98 \" fill=\"none\" id=\"E14-E15\" style=\"stroke: #383838; stroke-width: 3.0;\"/></a><!--MD5=[3afbdc645381407e1bc99677323a2513]\n",
       "link E14 to E15--><a href=\"psysml:be002053-3eab-4239-b4ec-f62d8ddd6fa6\" target=\"_top\" title=\"psysml:be002053-3eab-4239-b4ec-f62d8ddd6fa6\" xlink:actuate=\"onRequest\" xlink:href=\"psysml:be002053-3eab-4239-b4ec-f62d8ddd6fa6\" xlink:show=\"new\" xlink:title=\"psysml:be002053-3eab-4239-b4ec-f62d8ddd6fa6\" xlink:type=\"simple\"><path d=\"M101.27,299.06 C104.24,316.7 104.24,341.34 101.27,358.98 \" fill=\"none\" id=\"E14-E15-1\" style=\"stroke: #383838; stroke-width: 3.0;\"/></a><!--MD5=[4e526c8bdd62f458069806cab68e1fc2]\n",
       "@startuml\r\n",
       "skinparam monochrome true\r\n",
       "skinparam classbackgroundcolor white\r\n",
       "skinparam shadowing false\r\n",
       "skinparam wrapWidth 300\r\n",
       "hide circle\r\n",
       "\r\n",
       "package \"ConjugationTest\" as E1  [[psysml:811d2e93-771a-4206-9534-119b2782ed8b ]]  {\r\n",
       "comp def \"P\" as E2  <<(T,blue) port def>> [[psysml:a118eece-ff6c-41b4-a8ec-63007fd81e06 ]] {\r\n",
       "}\r\n",
       "comp def \"B\" as E3  <<(T,blue) part def>> [[psysml:45f3428f-90c5-481c-8b5b-6d42a9c9ecb4 ]] {\r\n",
       "}\r\n",
       "comp usage \"p1: P\" as E4  <<(T,blue) port>> [[psysml:f10162e3-9121-4423-8c61-28bf75aadc9a ]] {\r\n",
       "}\r\n",
       "comp usage \"p2: ~P\" as E5  <<(T,blue) port>> [[psysml:f793b08e-b132-4869-8396-6344384571c9 ]] {\r\n",
       "}\r\n",
       "comp def \"A\" as E6  <<(T,blue) connection def>> [[psysml:1e44cf6a-fe6c-483a-98ee-7c5816e24c4f ]] {\r\n",
       "}\r\n",
       "comp usage \"p1: P\" as E7  <<(T,blue) port>> [[psysml:592da980-ebcc-4bfb-b89f-9a898fd7b408 ]] {\r\n",
       "}\r\n",
       "comp usage \"p2: ~P\" as E8  <<(T,blue) port>> [[psysml:4730362b-6892-4b61-8b08-4b1eb3a58a19 ]] {\r\n",
       "}\r\n",
       "comp def \"I\" as E9  <<(T,blue) interface def>> [[psysml:c589f335-4cab-4324-b073-03ca89b55f7d ]] {\r\n",
       "}\r\n",
       "comp usage \"p1: P\" as E10  <<(T,blue) port>> [[psysml:0a18d135-3a15-4f1e-a48b-3983b85e55aa ]] {\r\n",
       "}\r\n",
       "comp usage \"p2: ~P\" as E11  <<(T,blue) port>> [[psysml:f0ebefc1-580e-4b11-b9cf-e3cb40b874a3 ]] {\r\n",
       "}\r\n",
       "comp def \"B1\" as E12  <<(T,blue) part def>> [[psysml:99d6c811-1239-4557-8bf5-512a2d9b51f5 ]] {\r\n",
       "}\r\n",
       "comp usage \"p\" as E13  <<(T,blue) part>> [[psysml:c80e6282-4b88-42a6-beea-d83b68d36327 ]] {\r\n",
       "}\r\n",
       "comp usage \"p1: P\" as E14  <<(T,blue) port>> [[psysml:36fdd18b-cc96-4106-b803-027f179d9fab ]] {\r\n",
       "}\r\n",
       "comp usage \"p2: ~P\" as E15  <<(T,blue) port>> [[psysml:a04d4130-2616-430e-82e5-4df6c3f344d5 ]] {\r\n",
       "}\r\n",
       "}\r\n",
       "E3 o- - \"1\"E4 [[psysml:478537c4-9aea-45e7-93bf-51b2f99f76d0 ]] \r\n",
       "E4 - -:|> E2 [[psysml:9a27f54b-62e8-4ed3-8ffb-179b9354440f ]] \r\n",
       "E3 o- - \"1\"E5 [[psysml:0c237cb0-b529-413c-8aaf-d2f6ce3a1092 ]] \r\n",
       "E6 o- - \"1\"E7 [[psysml:b94a6cc2-6585-4221-b4bd-c6e1360a7593 ]] \r\n",
       "E7 - -:|> E2 [[psysml:6c7ecdb4-3704-4141-b5eb-90be274661d4 ]] \r\n",
       "E6 o- - \"1\"E8 [[psysml:c893fa2e-0043-44e8-be45-2077001790d0 ]] \r\n",
       "E9 o- - \"1\"E10 [[psysml:3723b58c-a4dd-4ef3-9a79-2a659572d83c ]] \r\n",
       "E10 - -:|> E2 [[psysml:8c7a6e5c-2c0e-473c-a2c4-4062964bb416 ]] \r\n",
       "E9 o- - \"1\"E11 [[psysml:05b52cb0-1bec-4ecb-a4ba-b6e0a5fd36fa ]] \r\n",
       "E12 *- - \"1\"E13 [[psysml:2ea9f126-2045-475e-98b2-0bebbeaf39ba ]] \r\n",
       "E13 o- - \"1\"E14 [[psysml:56644651-1cff-4e4b-add6-5aaf4cbf3323 ]] \r\n",
       "E14 - -:|> E2 [[psysml:004f1bd4-f46a-4fc3-b446-5abbd305cc50 ]] \r\n",
       "E13 o- - \"1\"E15 [[psysml:439c4bcd-5bf6-4395-bbdb-0df2330c2504 ]] \r\n",
       "E14 -[thickness=3]- E15 [[psysml:356465e0-8362-42f7-8017-4c1d57dccd42 ]] \r\n",
       "E14 -[thickness=3]- E15 [[psysml:be002053-3eab-4239-b4ec-f62d8ddd6fa6 ]] \r\n",
       "@enduml\r\n",
       "\n",
       "PlantUML version 1.2020.13(Sat Jun 13 12:26:38 UTC 2020)\n",
       "(EPL source distribution)\n",
       "Java Runtime: OpenJDK Runtime Environment\n",
       "JVM: OpenJDK 64-Bit Server VM\n",
       "Default Encoding: UTF-8\n",
       "Language: en\n",
       "Country: null\n",
       "--></g></svg>"
      ]
     },
     "execution_count": 37,
     "metadata": {},
     "output_type": "execute_result"
    }
   ],
   "source": [
    "%viz --style=\"DEFAULT\" --view=\"Default\" \"ConjugationTest\""
   ]
  },
  {
   "cell_type": "code",
   "execution_count": 38,
   "id": "da4f0606",
   "metadata": {
    "execution": {
     "iopub.execute_input": "2021-10-03T08:28:07.879447Z",
     "iopub.status.busy": "2021-10-03T08:28:07.878946Z",
     "iopub.status.idle": "2021-10-03T08:28:07.930843Z",
     "shell.execute_reply": "2021-10-03T08:28:07.930429Z"
    }
   },
   "outputs": [
    {
     "data": {
      "image/svg+xml": [
       "<?xml version=\"1.0\" encoding=\"UTF-8\" standalone=\"no\"?><svg xmlns=\"http://www.w3.org/2000/svg\" xmlns:xlink=\"http://www.w3.org/1999/xlink\" contentScriptType=\"application/ecmascript\" contentStyleType=\"text/css\" height=\"433px\" preserveAspectRatio=\"none\" style=\"width:629px;height:433px;\" version=\"1.1\" viewBox=\"0 0 629 433\" width=\"629px\" zoomAndPan=\"magnify\"><defs/><g><!--MD5=[fbc87193dbaf4d95561dea2c320d4a47]\n",
       "cluster E1--><a href=\"psysml:811d2e93-771a-4206-9534-119b2782ed8b\" target=\"_top\" title=\"psysml:811d2e93-771a-4206-9534-119b2782ed8b\" xlink:actuate=\"onRequest\" xlink:href=\"psysml:811d2e93-771a-4206-9534-119b2782ed8b\" xlink:show=\"new\" xlink:title=\"psysml:811d2e93-771a-4206-9534-119b2782ed8b\" xlink:type=\"simple\"><polygon fill=\"#FFFFFF\" points=\"16,6,136,6,143,28.2969,607,28.2969,607,421,16,421,16,6\" style=\"stroke: #000000; stroke-width: 1.5;\"/><line style=\"stroke: #000000; stroke-width: 1.5;\" x1=\"16\" x2=\"143\" y1=\"28.2969\" y2=\"28.2969\"/><text fill=\"#000000\" font-family=\"sans-serif\" font-size=\"14\" font-weight=\"bold\" lengthAdjust=\"spacingAndGlyphs\" textLength=\"114\" x=\"20\" y=\"20.9951\">ConjugationTest</text></a><!--MD5=[b4997ac47864f28c2f74865a473b2911]\n",
       "class E2--><a href=\"psysml:a118eece-ff6c-41b4-a8ec-63007fd81e06\" target=\"_top\" title=\"psysml:a118eece-ff6c-41b4-a8ec-63007fd81e06\" xlink:actuate=\"onRequest\" xlink:href=\"psysml:a118eece-ff6c-41b4-a8ec-63007fd81e06\" xlink:show=\"new\" xlink:title=\"psysml:a118eece-ff6c-41b4-a8ec-63007fd81e06\" xlink:type=\"simple\"><rect fill=\"#FFFFFF\" height=\"45.9375\" id=\"E2\" style=\"stroke: #383838; stroke-width: 1.5;\" width=\"66\" x=\"221\" y=\"359\"/><text fill=\"#000000\" font-family=\"sans-serif\" font-size=\"12\" font-style=\"italic\" lengthAdjust=\"spacingAndGlyphs\" textLength=\"64\" x=\"222\" y=\"375.1387\">«port def»</text><text fill=\"#000000\" font-family=\"sans-serif\" font-size=\"12\" lengthAdjust=\"spacingAndGlyphs\" textLength=\"8\" x=\"250\" y=\"389.1074\">P</text><line style=\"stroke: #383838; stroke-width: 1.5;\" x1=\"222\" x2=\"286\" y1=\"396.9375\" y2=\"396.9375\"/></a><!--MD5=[09b614a08d8cba4a07c9adeb5e0fee81]\n",
       "class E3--><a href=\"psysml:45f3428f-90c5-481c-8b5b-6d42a9c9ecb4\" target=\"_top\" title=\"psysml:45f3428f-90c5-481c-8b5b-6d42a9c9ecb4\" xlink:actuate=\"onRequest\" xlink:href=\"psysml:45f3428f-90c5-481c-8b5b-6d42a9c9ecb4\" xlink:show=\"new\" xlink:title=\"psysml:45f3428f-90c5-481c-8b5b-6d42a9c9ecb4\" xlink:type=\"simple\"><rect fill=\"#FFFFFF\" height=\"45.9375\" id=\"E3\" style=\"stroke: #383838; stroke-width: 1.5;\" width=\"66\" x=\"489\" y=\"147\"/><text fill=\"#000000\" font-family=\"sans-serif\" font-size=\"12\" font-style=\"italic\" lengthAdjust=\"spacingAndGlyphs\" textLength=\"64\" x=\"490\" y=\"163.1387\">«part def»</text><text fill=\"#000000\" font-family=\"sans-serif\" font-size=\"12\" lengthAdjust=\"spacingAndGlyphs\" textLength=\"8\" x=\"518\" y=\"177.1074\">B</text><line style=\"stroke: #383838; stroke-width: 1.5;\" x1=\"490\" x2=\"554\" y1=\"184.9375\" y2=\"184.9375\"/></a><!--MD5=[ebbe1d658d1005bcc118a6aa81145e00]\n",
       "class E4--><a href=\"psysml:f10162e3-9121-4423-8c61-28bf75aadc9a\" target=\"_top\" title=\"psysml:f10162e3-9121-4423-8c61-28bf75aadc9a\" xlink:actuate=\"onRequest\" xlink:href=\"psysml:f10162e3-9121-4423-8c61-28bf75aadc9a\" xlink:show=\"new\" xlink:title=\"psysml:f10162e3-9121-4423-8c61-28bf75aadc9a\" xlink:type=\"simple\"><rect fill=\"#FFFFFF\" height=\"45.9375\" id=\"E4\" rx=\"10\" ry=\"10\" style=\"stroke: #383838; stroke-width: 1.5;\" width=\"42\" x=\"466\" y=\"253\"/><text fill=\"#000000\" font-family=\"sans-serif\" font-size=\"12\" font-style=\"italic\" lengthAdjust=\"spacingAndGlyphs\" textLength=\"40\" x=\"467\" y=\"269.1387\">«port»</text><text fill=\"#000000\" font-family=\"sans-serif\" font-size=\"12\" lengthAdjust=\"spacingAndGlyphs\" textLength=\"32\" x=\"471\" y=\"283.1074\">p1: P</text><line style=\"stroke: #383838; stroke-width: 1.5;\" x1=\"467\" x2=\"507\" y1=\"290.9375\" y2=\"290.9375\"/></a><!--MD5=[270fce915f116d4de14055a7c1d9a0f3]\n",
       "class E5--><a href=\"psysml:f793b08e-b132-4869-8396-6344384571c9\" target=\"_top\" title=\"psysml:f793b08e-b132-4869-8396-6344384571c9\" xlink:actuate=\"onRequest\" xlink:href=\"psysml:f793b08e-b132-4869-8396-6344384571c9\" xlink:show=\"new\" xlink:title=\"psysml:f793b08e-b132-4869-8396-6344384571c9\" xlink:type=\"simple\"><rect fill=\"#FFFFFF\" height=\"45.9375\" id=\"E5\" rx=\"10\" ry=\"10\" style=\"stroke: #383838; stroke-width: 1.5;\" width=\"48\" x=\"543\" y=\"253\"/><text fill=\"#000000\" font-family=\"sans-serif\" font-size=\"12\" font-style=\"italic\" lengthAdjust=\"spacingAndGlyphs\" textLength=\"40\" x=\"547\" y=\"269.1387\">«port»</text><text fill=\"#000000\" font-family=\"sans-serif\" font-size=\"12\" lengthAdjust=\"spacingAndGlyphs\" textLength=\"42\" x=\"546\" y=\"283.1074\">p2: ~P</text><line style=\"stroke: #383838; stroke-width: 1.5;\" x1=\"544\" x2=\"590\" y1=\"290.9375\" y2=\"290.9375\"/></a><!--MD5=[60a26617385b1d2d0262a64233df1f8d]\n",
       "class E6--><a href=\"psysml:1e44cf6a-fe6c-483a-98ee-7c5816e24c4f\" target=\"_top\" title=\"psysml:1e44cf6a-fe6c-483a-98ee-7c5816e24c4f\" xlink:actuate=\"onRequest\" xlink:href=\"psysml:1e44cf6a-fe6c-483a-98ee-7c5816e24c4f\" xlink:show=\"new\" xlink:title=\"psysml:1e44cf6a-fe6c-483a-98ee-7c5816e24c4f\" xlink:type=\"simple\"><rect fill=\"#FFFFFF\" height=\"45.9375\" id=\"E6\" style=\"stroke: #383838; stroke-width: 1.5;\" width=\"110\" x=\"282\" y=\"147\"/><text fill=\"#000000\" font-family=\"sans-serif\" font-size=\"12\" font-style=\"italic\" lengthAdjust=\"spacingAndGlyphs\" textLength=\"108\" x=\"283\" y=\"163.1387\">«connection def»</text><text fill=\"#000000\" font-family=\"sans-serif\" font-size=\"12\" lengthAdjust=\"spacingAndGlyphs\" textLength=\"8\" x=\"333\" y=\"177.1074\">A</text><line style=\"stroke: #383838; stroke-width: 1.5;\" x1=\"283\" x2=\"391\" y1=\"184.9375\" y2=\"184.9375\"/></a><!--MD5=[2156ba9850f5573cc1fc38a6a4b2f02b]\n",
       "class E7--><a href=\"psysml:592da980-ebcc-4bfb-b89f-9a898fd7b408\" target=\"_top\" title=\"psysml:592da980-ebcc-4bfb-b89f-9a898fd7b408\" xlink:actuate=\"onRequest\" xlink:href=\"psysml:592da980-ebcc-4bfb-b89f-9a898fd7b408\" xlink:show=\"new\" xlink:title=\"psysml:592da980-ebcc-4bfb-b89f-9a898fd7b408\" xlink:type=\"simple\"><rect fill=\"#FFFFFF\" height=\"45.9375\" id=\"E7\" rx=\"10\" ry=\"10\" style=\"stroke: #383838; stroke-width: 1.5;\" width=\"42\" x=\"306\" y=\"253\"/><text fill=\"#000000\" font-family=\"sans-serif\" font-size=\"12\" font-style=\"italic\" lengthAdjust=\"spacingAndGlyphs\" textLength=\"40\" x=\"307\" y=\"269.1387\">«port»</text><text fill=\"#000000\" font-family=\"sans-serif\" font-size=\"12\" lengthAdjust=\"spacingAndGlyphs\" textLength=\"32\" x=\"311\" y=\"283.1074\">p1: P</text><line style=\"stroke: #383838; stroke-width: 1.5;\" x1=\"307\" x2=\"347\" y1=\"290.9375\" y2=\"290.9375\"/></a><!--MD5=[b9389687b975829384b498ac4b7476b2]\n",
       "class E8--><a href=\"psysml:4730362b-6892-4b61-8b08-4b1eb3a58a19\" target=\"_top\" title=\"psysml:4730362b-6892-4b61-8b08-4b1eb3a58a19\" xlink:actuate=\"onRequest\" xlink:href=\"psysml:4730362b-6892-4b61-8b08-4b1eb3a58a19\" xlink:show=\"new\" xlink:title=\"psysml:4730362b-6892-4b61-8b08-4b1eb3a58a19\" xlink:type=\"simple\"><rect fill=\"#FFFFFF\" height=\"45.9375\" id=\"E8\" rx=\"10\" ry=\"10\" style=\"stroke: #383838; stroke-width: 1.5;\" width=\"48\" x=\"383\" y=\"253\"/><text fill=\"#000000\" font-family=\"sans-serif\" font-size=\"12\" font-style=\"italic\" lengthAdjust=\"spacingAndGlyphs\" textLength=\"40\" x=\"387\" y=\"269.1387\">«port»</text><text fill=\"#000000\" font-family=\"sans-serif\" font-size=\"12\" lengthAdjust=\"spacingAndGlyphs\" textLength=\"42\" x=\"386\" y=\"283.1074\">p2: ~P</text><line style=\"stroke: #383838; stroke-width: 1.5;\" x1=\"384\" x2=\"430\" y1=\"290.9375\" y2=\"290.9375\"/></a><!--MD5=[fd4143e9d270a159db93a4ea2a975926]\n",
       "class E9--><a href=\"psysml:c589f335-4cab-4324-b073-03ca89b55f7d\" target=\"_top\" title=\"psysml:c589f335-4cab-4324-b073-03ca89b55f7d\" xlink:actuate=\"onRequest\" xlink:href=\"psysml:c589f335-4cab-4324-b073-03ca89b55f7d\" xlink:show=\"new\" xlink:title=\"psysml:c589f335-4cab-4324-b073-03ca89b55f7d\" xlink:type=\"simple\"><rect fill=\"#FFFFFF\" height=\"45.9375\" id=\"E9\" style=\"stroke: #383838; stroke-width: 1.5;\" width=\"96\" x=\"146\" y=\"147\"/><text fill=\"#000000\" font-family=\"sans-serif\" font-size=\"12\" font-style=\"italic\" lengthAdjust=\"spacingAndGlyphs\" textLength=\"94\" x=\"147\" y=\"163.1387\">«interface def»</text><text fill=\"#000000\" font-family=\"sans-serif\" font-size=\"12\" lengthAdjust=\"spacingAndGlyphs\" textLength=\"3\" x=\"192.5\" y=\"177.1074\">I</text><line style=\"stroke: #383838; stroke-width: 1.5;\" x1=\"147\" x2=\"241\" y1=\"184.9375\" y2=\"184.9375\"/></a><!--MD5=[96f4274e9e20536e775497830990834d]\n",
       "class E10--><a href=\"psysml:0a18d135-3a15-4f1e-a48b-3983b85e55aa\" target=\"_top\" title=\"psysml:0a18d135-3a15-4f1e-a48b-3983b85e55aa\" xlink:actuate=\"onRequest\" xlink:href=\"psysml:0a18d135-3a15-4f1e-a48b-3983b85e55aa\" xlink:show=\"new\" xlink:title=\"psysml:0a18d135-3a15-4f1e-a48b-3983b85e55aa\" xlink:type=\"simple\"><rect fill=\"#FFFFFF\" height=\"45.9375\" id=\"E10\" rx=\"10\" ry=\"10\" style=\"stroke: #383838; stroke-width: 1.5;\" width=\"42\" x=\"146\" y=\"253\"/><text fill=\"#000000\" font-family=\"sans-serif\" font-size=\"12\" font-style=\"italic\" lengthAdjust=\"spacingAndGlyphs\" textLength=\"40\" x=\"147\" y=\"269.1387\">«port»</text><text fill=\"#000000\" font-family=\"sans-serif\" font-size=\"12\" lengthAdjust=\"spacingAndGlyphs\" textLength=\"32\" x=\"151\" y=\"283.1074\">p1: P</text><line style=\"stroke: #383838; stroke-width: 1.5;\" x1=\"147\" x2=\"187\" y1=\"290.9375\" y2=\"290.9375\"/></a><!--MD5=[1dd1bfd58a279cf63c5f349dbc8fc6a1]\n",
       "class E11--><a href=\"psysml:f0ebefc1-580e-4b11-b9cf-e3cb40b874a3\" target=\"_top\" title=\"psysml:f0ebefc1-580e-4b11-b9cf-e3cb40b874a3\" xlink:actuate=\"onRequest\" xlink:href=\"psysml:f0ebefc1-580e-4b11-b9cf-e3cb40b874a3\" xlink:show=\"new\" xlink:title=\"psysml:f0ebefc1-580e-4b11-b9cf-e3cb40b874a3\" xlink:type=\"simple\"><rect fill=\"#FFFFFF\" height=\"45.9375\" id=\"E11\" rx=\"10\" ry=\"10\" style=\"stroke: #383838; stroke-width: 1.5;\" width=\"48\" x=\"223\" y=\"253\"/><text fill=\"#000000\" font-family=\"sans-serif\" font-size=\"12\" font-style=\"italic\" lengthAdjust=\"spacingAndGlyphs\" textLength=\"40\" x=\"227\" y=\"269.1387\">«port»</text><text fill=\"#000000\" font-family=\"sans-serif\" font-size=\"12\" lengthAdjust=\"spacingAndGlyphs\" textLength=\"42\" x=\"226\" y=\"283.1074\">p2: ~P</text><line style=\"stroke: #383838; stroke-width: 1.5;\" x1=\"224\" x2=\"270\" y1=\"290.9375\" y2=\"290.9375\"/></a><!--MD5=[49a0ec8f00dab7302a31f22d0f0fe584]\n",
       "class E12--><a href=\"psysml:99d6c811-1239-4557-8bf5-512a2d9b51f5\" target=\"_top\" title=\"psysml:99d6c811-1239-4557-8bf5-512a2d9b51f5\" xlink:actuate=\"onRequest\" xlink:href=\"psysml:99d6c811-1239-4557-8bf5-512a2d9b51f5\" xlink:show=\"new\" xlink:title=\"psysml:99d6c811-1239-4557-8bf5-512a2d9b51f5\" xlink:type=\"simple\"><rect fill=\"#FFFFFF\" height=\"45.9375\" id=\"E12\" style=\"stroke: #383838; stroke-width: 1.5;\" width=\"66\" x=\"47\" y=\"41\"/><text fill=\"#000000\" font-family=\"sans-serif\" font-size=\"12\" font-style=\"italic\" lengthAdjust=\"spacingAndGlyphs\" textLength=\"64\" x=\"48\" y=\"57.1387\">«part def»</text><text fill=\"#000000\" font-family=\"sans-serif\" font-size=\"12\" lengthAdjust=\"spacingAndGlyphs\" textLength=\"16\" x=\"72\" y=\"71.1074\">B1</text><line style=\"stroke: #383838; stroke-width: 1.5;\" x1=\"48\" x2=\"112\" y1=\"78.9375\" y2=\"78.9375\"/></a><!--MD5=[ee3c913d1a06f366521f9ef512b67efe]\n",
       "class E13--><a href=\"psysml:c80e6282-4b88-42a6-beea-d83b68d36327\" target=\"_top\" title=\"psysml:c80e6282-4b88-42a6-beea-d83b68d36327\" xlink:actuate=\"onRequest\" xlink:href=\"psysml:c80e6282-4b88-42a6-beea-d83b68d36327\" xlink:show=\"new\" xlink:title=\"psysml:c80e6282-4b88-42a6-beea-d83b68d36327\" xlink:type=\"simple\"><rect fill=\"#FFFFFF\" height=\"45.9375\" id=\"E13\" rx=\"10\" ry=\"10\" style=\"stroke: #383838; stroke-width: 1.5;\" width=\"42\" x=\"59\" y=\"147\"/><text fill=\"#000000\" font-family=\"sans-serif\" font-size=\"12\" font-style=\"italic\" lengthAdjust=\"spacingAndGlyphs\" textLength=\"40\" x=\"60\" y=\"163.1387\">«part»</text><text fill=\"#000000\" font-family=\"sans-serif\" font-size=\"12\" lengthAdjust=\"spacingAndGlyphs\" textLength=\"8\" x=\"76\" y=\"177.1074\">p</text><line style=\"stroke: #383838; stroke-width: 1.5;\" x1=\"60\" x2=\"100\" y1=\"184.9375\" y2=\"184.9375\"/></a><!--MD5=[bee11217b2f71d958a27249dc326068c]\n",
       "class E14--><a href=\"psysml:36fdd18b-cc96-4106-b803-027f179d9fab\" target=\"_top\" title=\"psysml:36fdd18b-cc96-4106-b803-027f179d9fab\" xlink:actuate=\"onRequest\" xlink:href=\"psysml:36fdd18b-cc96-4106-b803-027f179d9fab\" xlink:show=\"new\" xlink:title=\"psysml:36fdd18b-cc96-4106-b803-027f179d9fab\" xlink:type=\"simple\"><rect fill=\"#FFFFFF\" height=\"45.9375\" id=\"E14\" rx=\"10\" ry=\"10\" style=\"stroke: #383838; stroke-width: 1.5;\" width=\"42\" x=\"69\" y=\"253\"/><text fill=\"#000000\" font-family=\"sans-serif\" font-size=\"12\" font-style=\"italic\" lengthAdjust=\"spacingAndGlyphs\" textLength=\"40\" x=\"70\" y=\"269.1387\">«port»</text><text fill=\"#000000\" font-family=\"sans-serif\" font-size=\"12\" lengthAdjust=\"spacingAndGlyphs\" textLength=\"32\" x=\"74\" y=\"283.1074\">p1: P</text><line style=\"stroke: #383838; stroke-width: 1.5;\" x1=\"70\" x2=\"110\" y1=\"290.9375\" y2=\"290.9375\"/></a><!--MD5=[0c48fb7552dae8cbbef69381101a84c8]\n",
       "class E15--><a href=\"psysml:a04d4130-2616-430e-82e5-4df6c3f344d5\" target=\"_top\" title=\"psysml:a04d4130-2616-430e-82e5-4df6c3f344d5\" xlink:actuate=\"onRequest\" xlink:href=\"psysml:a04d4130-2616-430e-82e5-4df6c3f344d5\" xlink:show=\"new\" xlink:title=\"psysml:a04d4130-2616-430e-82e5-4df6c3f344d5\" xlink:type=\"simple\"><rect fill=\"#FFFFFF\" height=\"45.9375\" id=\"E15\" rx=\"10\" ry=\"10\" style=\"stroke: #383838; stroke-width: 1.5;\" width=\"48\" x=\"66\" y=\"359\"/><text fill=\"#000000\" font-family=\"sans-serif\" font-size=\"12\" font-style=\"italic\" lengthAdjust=\"spacingAndGlyphs\" textLength=\"40\" x=\"70\" y=\"375.1387\">«port»</text><text fill=\"#000000\" font-family=\"sans-serif\" font-size=\"12\" lengthAdjust=\"spacingAndGlyphs\" textLength=\"42\" x=\"69\" y=\"389.1074\">p2: ~P</text><line style=\"stroke: #383838; stroke-width: 1.5;\" x1=\"67\" x2=\"113\" y1=\"396.9375\" y2=\"396.9375\"/></a><!--MD5=[4672eba38e49728da53d11aeb285b987]\n",
       "reverse link E3 to E4--><a href=\"psysml:478537c4-9aea-45e7-93bf-51b2f99f76d0\" target=\"_top\" title=\"psysml:478537c4-9aea-45e7-93bf-51b2f99f76d0\" xlink:actuate=\"onRequest\" xlink:href=\"psysml:478537c4-9aea-45e7-93bf-51b2f99f76d0\" xlink:show=\"new\" xlink:title=\"psysml:478537c4-9aea-45e7-93bf-51b2f99f76d0\" xlink:type=\"simple\"><path d=\"M510.39,205.49 C505.12,221.15 499.05,239.19 494.41,252.98 \" fill=\"none\" id=\"E3&lt;-E4\" style=\"stroke: #383838; stroke-width: 1.0;\"/><polygon fill=\"#FFFFFF\" points=\"514.58,193.06,508.8756,197.4713,510.7536,204.4336,516.458,200.0223,514.58,193.06\" style=\"stroke: #383838; stroke-width: 1.0;\"/><text fill=\"#000000\" font-family=\"sans-serif\" font-size=\"13\" lengthAdjust=\"spacingAndGlyphs\" textLength=\"8\" x=\"487.3264\" y=\"241.8709\">1</text></a><!--MD5=[185131fc0dcab0a4505a2ebe144e961b]\n",
       "link E4 to E2--><a href=\"psysml:9a27f54b-62e8-4ed3-8ffb-179b9354440f\" target=\"_top\" title=\"psysml:9a27f54b-62e8-4ed3-8ffb-179b9354440f\" xlink:actuate=\"onRequest\" xlink:href=\"psysml:9a27f54b-62e8-4ed3-8ffb-179b9354440f\" xlink:show=\"new\" xlink:title=\"psysml:9a27f54b-62e8-4ed3-8ffb-179b9354440f\" xlink:type=\"simple\"><path d=\"M465.96,289.82 C460.51,292.96 454.6,296.22 449,299 C401.46,322.64 345.42,345.73 305.65,361.35 \" fill=\"none\" id=\"E4-&gt;E2\" style=\"stroke: #383838; stroke-width: 1.0;\"/><polygon fill=\"#FFFFFF\" points=\"287,368.6,302.1754,355.1945,307.2453,368.2443,287,368.6\" style=\"stroke: #383838; stroke-width: 1.0;\"/><ellipse cx=\"308.2128\" cy=\"354.9946\" fill=\"#383838\" rx=\"2\" ry=\"2\" style=\"stroke: #383838; stroke-width: 1.0;\"/><ellipse cx=\"311.8342\" cy=\"364.3159\" fill=\"#383838\" rx=\"2\" ry=\"2\" style=\"stroke: #383838; stroke-width: 1.0;\"/></a><!--MD5=[191cde3d490a3f6d7bb551fe3ddca469]\n",
       "reverse link E3 to E5--><a href=\"psysml:0c237cb0-b529-413c-8aaf-d2f6ce3a1092\" target=\"_top\" title=\"psysml:0c237cb0-b529-413c-8aaf-d2f6ce3a1092\" xlink:actuate=\"onRequest\" xlink:href=\"psysml:0c237cb0-b529-413c-8aaf-d2f6ce3a1092\" xlink:show=\"new\" xlink:title=\"psysml:0c237cb0-b529-413c-8aaf-d2f6ce3a1092\" xlink:type=\"simple\"><path d=\"M536.72,205.03 C543.54,220.78 551.45,239.06 557.47,252.98 \" fill=\"none\" id=\"E3&lt;-E5\" style=\"stroke: #383838; stroke-width: 1.0;\"/><polygon fill=\"#FFFFFF\" points=\"531.54,193.06,530.2495,200.1547,536.302,204.0747,537.5926,196.98,531.54,193.06\" style=\"stroke: #383838; stroke-width: 1.0;\"/><text fill=\"#000000\" font-family=\"sans-serif\" font-size=\"13\" lengthAdjust=\"spacingAndGlyphs\" textLength=\"8\" x=\"545.8338\" y=\"241.8709\">1</text></a><!--MD5=[3f50a3473f1dfb74d3f76443e03635af]\n",
       "reverse link E6 to E7--><a href=\"psysml:b94a6cc2-6585-4221-b4bd-c6e1360a7593\" target=\"_top\" title=\"psysml:b94a6cc2-6585-4221-b4bd-c6e1360a7593\" xlink:actuate=\"onRequest\" xlink:href=\"psysml:b94a6cc2-6585-4221-b4bd-c6e1360a7593\" xlink:show=\"new\" xlink:title=\"psysml:b94a6cc2-6585-4221-b4bd-c6e1360a7593\" xlink:type=\"simple\"><path d=\"M333.59,206.44 C332.11,221.87 330.42,239.47 329.12,252.98 \" fill=\"none\" id=\"E6&lt;-E7\" style=\"stroke: #383838; stroke-width: 1.0;\"/><polygon fill=\"#FFFFFF\" points=\"334.88,193.06,330.3242,198.6497,333.7317,205.0049,338.2875,199.4152,334.88,193.06\" style=\"stroke: #383838; stroke-width: 1.0;\"/><text fill=\"#000000\" font-family=\"sans-serif\" font-size=\"13\" lengthAdjust=\"spacingAndGlyphs\" textLength=\"8\" x=\"320.6148\" y=\"241.8709\">1</text></a><!--MD5=[583832df87f4419a098336a29a52fa00]\n",
       "link E7 to E2--><a href=\"psysml:6c7ecdb4-3704-4141-b5eb-90be274661d4\" target=\"_top\" title=\"psysml:6c7ecdb4-3704-4141-b5eb-90be274661d4\" xlink:actuate=\"onRequest\" xlink:href=\"psysml:6c7ecdb4-3704-4141-b5eb-90be274661d4\" xlink:show=\"new\" xlink:title=\"psysml:6c7ecdb4-3704-4141-b5eb-90be274661d4\" xlink:type=\"simple\"><path d=\"M311.52,299.06 C302.71,311.6 291.43,327.68 281.19,342.26 \" fill=\"none\" id=\"E7-&gt;E2\" style=\"stroke: #383838; stroke-width: 1.0;\"/><polygon fill=\"#FFFFFF\" points=\"269.46,358.98,274.6532,339.4088,286.1093,347.4561,269.46,358.98\" style=\"stroke: #383838; stroke-width: 1.0;\"/><ellipse cx=\"279.5662\" cy=\"335.8942\" fill=\"#383838\" rx=\"2\" ry=\"2\" style=\"stroke: #383838; stroke-width: 1.0;\"/><ellipse cx=\"287.7491\" cy=\"341.6422\" fill=\"#383838\" rx=\"2\" ry=\"2\" style=\"stroke: #383838; stroke-width: 1.0;\"/></a><!--MD5=[f4cf0736d43fd73c4ef68817c49d37d5]\n",
       "reverse link E6 to E8--><a href=\"psysml:c893fa2e-0043-44e8-be45-2077001790d0\" target=\"_top\" title=\"psysml:c893fa2e-0043-44e8-be45-2077001790d0\" xlink:actuate=\"onRequest\" xlink:href=\"psysml:c893fa2e-0043-44e8-be45-2077001790d0\" xlink:show=\"new\" xlink:title=\"psysml:c893fa2e-0043-44e8-be45-2077001790d0\" xlink:type=\"simple\"><path d=\"M359.27,204.09 C370.02,220.06 382.62,238.78 392.18,252.98 \" fill=\"none\" id=\"E6&lt;-E8\" style=\"stroke: #383838; stroke-width: 1.0;\"/><polygon fill=\"#FFFFFF\" points=\"351.85,193.06,351.8808,200.271,358.5489,203.0161,358.5182,195.8051,351.85,193.06\" style=\"stroke: #383838; stroke-width: 1.0;\"/><text fill=\"#000000\" font-family=\"sans-serif\" font-size=\"13\" lengthAdjust=\"spacingAndGlyphs\" textLength=\"8\" x=\"379.1221\" y=\"241.8709\">1</text></a><!--MD5=[23ac544a70576c3e717098101004234c]\n",
       "reverse link E9 to E10--><a href=\"psysml:3723b58c-a4dd-4ef3-9a79-2a659572d83c\" target=\"_top\" title=\"psysml:3723b58c-a4dd-4ef3-9a79-2a659572d83c\" xlink:actuate=\"onRequest\" xlink:href=\"psysml:3723b58c-a4dd-4ef3-9a79-2a659572d83c\" xlink:show=\"new\" xlink:title=\"psysml:3723b58c-a4dd-4ef3-9a79-2a659572d83c\" xlink:type=\"simple\"><path d=\"M184.92,205.96 C180.89,221.51 176.26,239.33 172.72,252.98 \" fill=\"none\" id=\"E9&lt;-E10\" style=\"stroke: #383838; stroke-width: 1.0;\"/><polygon fill=\"#FFFFFF\" points=\"188.27,193.06,182.8943,197.8665,185.2635,204.6773,190.6392,199.8708,188.27,193.06\" style=\"stroke: #383838; stroke-width: 1.0;\"/><text fill=\"#000000\" font-family=\"sans-serif\" font-size=\"13\" lengthAdjust=\"spacingAndGlyphs\" textLength=\"8\" x=\"165.1823\" y=\"241.8709\">1</text></a><!--MD5=[0f36bececdf0dff6e600d6f64214b0f1]\n",
       "link E10 to E2--><a href=\"psysml:8c7a6e5c-2c0e-473c-a2c4-4062964bb416\" target=\"_top\" title=\"psysml:8c7a6e5c-2c0e-473c-a2c4-4062964bb416\" xlink:actuate=\"onRequest\" xlink:href=\"psysml:8c7a6e5c-2c0e-473c-a2c4-4062964bb416\" xlink:show=\"new\" xlink:title=\"psysml:8c7a6e5c-2c0e-473c-a2c4-4062964bb416\" xlink:type=\"simple\"><path d=\"M185.45,299.06 C196.18,311.88 209.99,328.39 222.4,343.22 \" fill=\"none\" id=\"E10-&gt;E2\" style=\"stroke: #383838; stroke-width: 1.0;\"/><polygon fill=\"#FFFFFF\" points=\"235.58,358.98,218.0168,348.9036,228.7522,339.9174,235.58,358.98\" style=\"stroke: #383838; stroke-width: 1.0;\"/><ellipse cx=\"215.8918\" cy=\"343.249\" fill=\"#383838\" rx=\"2\" ry=\"2\" style=\"stroke: #383838; stroke-width: 1.0;\"/><ellipse cx=\"223.5599\" cy=\"336.8303\" fill=\"#383838\" rx=\"2\" ry=\"2\" style=\"stroke: #383838; stroke-width: 1.0;\"/></a><!--MD5=[1fc04a95fd77ad5ce46c1a3027516051]\n",
       "reverse link E9 to E11--><a href=\"psysml:05b52cb0-1bec-4ecb-a4ba-b6e0a5fd36fa\" target=\"_top\" title=\"psysml:05b52cb0-1bec-4ecb-a4ba-b6e0a5fd36fa\" xlink:actuate=\"onRequest\" xlink:href=\"psysml:05b52cb0-1bec-4ecb-a4ba-b6e0a5fd36fa\" xlink:show=\"new\" xlink:title=\"psysml:05b52cb0-1bec-4ecb-a4ba-b6e0a5fd36fa\" xlink:type=\"simple\"><path d=\"M211.34,205.03 C219.37,220.78 228.68,239.06 235.78,252.98 \" fill=\"none\" id=\"E9&lt;-E11\" style=\"stroke: #383838; stroke-width: 1.0;\"/><polygon fill=\"#FFFFFF\" points=\"205.24,193.06,204.3983,200.2218,210.6855,203.7533,211.5272,196.5915,205.24,193.06\" style=\"stroke: #383838; stroke-width: 1.0;\"/><text fill=\"#000000\" font-family=\"sans-serif\" font-size=\"13\" lengthAdjust=\"spacingAndGlyphs\" textLength=\"8\" x=\"223.6896\" y=\"241.8709\">1</text></a><!--MD5=[062ed86c389d1a88f61c6380d0491e17]\n",
       "reverse link E12 to E13--><a href=\"psysml:2ea9f126-2045-475e-98b2-0bebbeaf39ba\" target=\"_top\" title=\"psysml:2ea9f126-2045-475e-98b2-0bebbeaf39ba\" xlink:actuate=\"onRequest\" xlink:href=\"psysml:2ea9f126-2045-475e-98b2-0bebbeaf39ba\" xlink:show=\"new\" xlink:title=\"psysml:2ea9f126-2045-475e-98b2-0bebbeaf39ba\" xlink:type=\"simple\"><path d=\"M80,100.44 C80,115.87 80,133.47 80,146.98 \" fill=\"none\" id=\"E12&lt;-E13\" style=\"stroke: #383838; stroke-width: 1.0;\"/><polygon fill=\"#383838\" points=\"80,87.06,76,93.06,80,99.06,84,93.06,80,87.06\" style=\"stroke: #383838; stroke-width: 1.0;\"/><text fill=\"#000000\" font-family=\"sans-serif\" font-size=\"13\" lengthAdjust=\"spacingAndGlyphs\" textLength=\"8\" x=\"70.925\" y=\"135.8709\">1</text></a><!--MD5=[01db00f33b28669d6d9febea71002831]\n",
       "reverse link E13 to E14--><a href=\"psysml:56644651-1cff-4e4b-add6-5aaf4cbf3323\" target=\"_top\" title=\"psysml:56644651-1cff-4e4b-add6-5aaf4cbf3323\" xlink:actuate=\"onRequest\" xlink:href=\"psysml:56644651-1cff-4e4b-add6-5aaf4cbf3323\" xlink:show=\"new\" xlink:title=\"psysml:56644651-1cff-4e4b-add6-5aaf4cbf3323\" xlink:type=\"simple\"><path d=\"M83.41,206.44 C84.89,221.87 86.58,239.47 87.88,252.98 \" fill=\"none\" id=\"E13&lt;-E14\" style=\"stroke: #383838; stroke-width: 1.0;\"/><polygon fill=\"#FFFFFF\" points=\"82.12,193.06,78.7125,199.4152,83.2683,205.0049,86.6758,198.6497,82.12,193.06\" style=\"stroke: #383838; stroke-width: 1.0;\"/><text fill=\"#000000\" font-family=\"sans-serif\" font-size=\"13\" lengthAdjust=\"spacingAndGlyphs\" textLength=\"8\" x=\"78.2353\" y=\"241.8709\">1</text></a><!--MD5=[e5566ac99d7714697a7fbc17f6b550fe]\n",
       "link E14 to E2--><a href=\"psysml:004f1bd4-f46a-4fc3-b446-5abbd305cc50\" target=\"_top\" title=\"psysml:004f1bd4-f46a-4fc3-b446-5abbd305cc50\" xlink:actuate=\"onRequest\" xlink:href=\"psysml:004f1bd4-f46a-4fc3-b446-5abbd305cc50\" xlink:show=\"new\" xlink:title=\"psysml:004f1bd4-f46a-4fc3-b446-5abbd305cc50\" xlink:type=\"simple\"><path d=\"M111.1,290.38 C134.32,305.1 172.45,329.29 203.49,348.97 \" fill=\"none\" id=\"E14-&gt;E2\" style=\"stroke: #383838; stroke-width: 1.0;\"/><polygon fill=\"#FFFFFF\" points=\"220.77,359.93,200.9767,355.661,208.4774,343.8399,220.77,359.93\" style=\"stroke: #383838; stroke-width: 1.0;\"/><ellipse cx=\"197.2353\" cy=\"350.9184\" fill=\"#383838\" rx=\"2\" ry=\"2\" style=\"stroke: #383838; stroke-width: 1.0;\"/><ellipse cx=\"202.593\" cy=\"342.4748\" fill=\"#383838\" rx=\"2\" ry=\"2\" style=\"stroke: #383838; stroke-width: 1.0;\"/></a><!--MD5=[e9a5e828c71fd2209a11a152f562d491]\n",
       "reverse link E13 to E15--><a href=\"psysml:439c4bcd-5bf6-4395-bbdb-0df2330c2504\" target=\"_top\" title=\"psysml:439c4bcd-5bf6-4395-bbdb-0df2330c2504\" xlink:actuate=\"onRequest\" xlink:href=\"psysml:439c4bcd-5bf6-4395-bbdb-0df2330c2504\" xlink:show=\"new\" xlink:title=\"psysml:439c4bcd-5bf6-4395-bbdb-0df2330c2504\" xlink:type=\"simple\"><path d=\"M64.33,205.31 C54.54,231.09 45,267.26 52,299 C56.73,320.45 67.65,342.96 76.58,358.96 \" fill=\"none\" id=\"E13&lt;-E15\" style=\"stroke: #383838; stroke-width: 1.0;\"/><polygon fill=\"#FFFFFF\" points=\"69.24,193.2,63.2795,197.2586,64.7334,204.3216,70.6939,200.263,69.24,193.2\" style=\"stroke: #383838; stroke-width: 1.0;\"/><text fill=\"#000000\" font-family=\"sans-serif\" font-size=\"13\" lengthAdjust=\"spacingAndGlyphs\" textLength=\"8\" x=\"63.8984\" y=\"347.8455\">1</text></a><!--MD5=[3afbdc645381407e1bc99677323a2513]\n",
       "link E14 to E15--><a href=\"psysml:356465e0-8362-42f7-8017-4c1d57dccd42\" target=\"_top\" title=\"psysml:356465e0-8362-42f7-8017-4c1d57dccd42\" xlink:actuate=\"onRequest\" xlink:href=\"psysml:356465e0-8362-42f7-8017-4c1d57dccd42\" xlink:show=\"new\" xlink:title=\"psysml:356465e0-8362-42f7-8017-4c1d57dccd42\" xlink:type=\"simple\"><path d=\"M79.35,299.06 C76.55,316.7 76.55,341.34 79.36,358.98 \" fill=\"none\" id=\"E14-E15\" style=\"stroke: #383838; stroke-width: 3.0;\"/></a><!--MD5=[3afbdc645381407e1bc99677323a2513]\n",
       "link E14 to E15--><a href=\"psysml:be002053-3eab-4239-b4ec-f62d8ddd6fa6\" target=\"_top\" title=\"psysml:be002053-3eab-4239-b4ec-f62d8ddd6fa6\" xlink:actuate=\"onRequest\" xlink:href=\"psysml:be002053-3eab-4239-b4ec-f62d8ddd6fa6\" xlink:show=\"new\" xlink:title=\"psysml:be002053-3eab-4239-b4ec-f62d8ddd6fa6\" xlink:type=\"simple\"><path d=\"M101.27,299.06 C104.24,316.7 104.24,341.34 101.27,358.98 \" fill=\"none\" id=\"E14-E15-1\" style=\"stroke: #383838; stroke-width: 3.0;\"/></a><!--MD5=[4e526c8bdd62f458069806cab68e1fc2]\n",
       "@startuml\r\n",
       "skinparam monochrome true\r\n",
       "skinparam classbackgroundcolor white\r\n",
       "skinparam shadowing false\r\n",
       "skinparam wrapWidth 300\r\n",
       "hide circle\r\n",
       "\r\n",
       "package \"ConjugationTest\" as E1  [[psysml:811d2e93-771a-4206-9534-119b2782ed8b ]]  {\r\n",
       "comp def \"P\" as E2  <<(T,blue) port def>> [[psysml:a118eece-ff6c-41b4-a8ec-63007fd81e06 ]] {\r\n",
       "}\r\n",
       "comp def \"B\" as E3  <<(T,blue) part def>> [[psysml:45f3428f-90c5-481c-8b5b-6d42a9c9ecb4 ]] {\r\n",
       "}\r\n",
       "comp usage \"p1: P\" as E4  <<(T,blue) port>> [[psysml:f10162e3-9121-4423-8c61-28bf75aadc9a ]] {\r\n",
       "}\r\n",
       "comp usage \"p2: ~P\" as E5  <<(T,blue) port>> [[psysml:f793b08e-b132-4869-8396-6344384571c9 ]] {\r\n",
       "}\r\n",
       "comp def \"A\" as E6  <<(T,blue) connection def>> [[psysml:1e44cf6a-fe6c-483a-98ee-7c5816e24c4f ]] {\r\n",
       "}\r\n",
       "comp usage \"p1: P\" as E7  <<(T,blue) port>> [[psysml:592da980-ebcc-4bfb-b89f-9a898fd7b408 ]] {\r\n",
       "}\r\n",
       "comp usage \"p2: ~P\" as E8  <<(T,blue) port>> [[psysml:4730362b-6892-4b61-8b08-4b1eb3a58a19 ]] {\r\n",
       "}\r\n",
       "comp def \"I\" as E9  <<(T,blue) interface def>> [[psysml:c589f335-4cab-4324-b073-03ca89b55f7d ]] {\r\n",
       "}\r\n",
       "comp usage \"p1: P\" as E10  <<(T,blue) port>> [[psysml:0a18d135-3a15-4f1e-a48b-3983b85e55aa ]] {\r\n",
       "}\r\n",
       "comp usage \"p2: ~P\" as E11  <<(T,blue) port>> [[psysml:f0ebefc1-580e-4b11-b9cf-e3cb40b874a3 ]] {\r\n",
       "}\r\n",
       "comp def \"B1\" as E12  <<(T,blue) part def>> [[psysml:99d6c811-1239-4557-8bf5-512a2d9b51f5 ]] {\r\n",
       "}\r\n",
       "comp usage \"p\" as E13  <<(T,blue) part>> [[psysml:c80e6282-4b88-42a6-beea-d83b68d36327 ]] {\r\n",
       "}\r\n",
       "comp usage \"p1: P\" as E14  <<(T,blue) port>> [[psysml:36fdd18b-cc96-4106-b803-027f179d9fab ]] {\r\n",
       "}\r\n",
       "comp usage \"p2: ~P\" as E15  <<(T,blue) port>> [[psysml:a04d4130-2616-430e-82e5-4df6c3f344d5 ]] {\r\n",
       "}\r\n",
       "}\r\n",
       "E3 o- - \"1\"E4 [[psysml:478537c4-9aea-45e7-93bf-51b2f99f76d0 ]] \r\n",
       "E4 - -:|> E2 [[psysml:9a27f54b-62e8-4ed3-8ffb-179b9354440f ]] \r\n",
       "E3 o- - \"1\"E5 [[psysml:0c237cb0-b529-413c-8aaf-d2f6ce3a1092 ]] \r\n",
       "E6 o- - \"1\"E7 [[psysml:b94a6cc2-6585-4221-b4bd-c6e1360a7593 ]] \r\n",
       "E7 - -:|> E2 [[psysml:6c7ecdb4-3704-4141-b5eb-90be274661d4 ]] \r\n",
       "E6 o- - \"1\"E8 [[psysml:c893fa2e-0043-44e8-be45-2077001790d0 ]] \r\n",
       "E9 o- - \"1\"E10 [[psysml:3723b58c-a4dd-4ef3-9a79-2a659572d83c ]] \r\n",
       "E10 - -:|> E2 [[psysml:8c7a6e5c-2c0e-473c-a2c4-4062964bb416 ]] \r\n",
       "E9 o- - \"1\"E11 [[psysml:05b52cb0-1bec-4ecb-a4ba-b6e0a5fd36fa ]] \r\n",
       "E12 *- - \"1\"E13 [[psysml:2ea9f126-2045-475e-98b2-0bebbeaf39ba ]] \r\n",
       "E13 o- - \"1\"E14 [[psysml:56644651-1cff-4e4b-add6-5aaf4cbf3323 ]] \r\n",
       "E14 - -:|> E2 [[psysml:004f1bd4-f46a-4fc3-b446-5abbd305cc50 ]] \r\n",
       "E13 o- - \"1\"E15 [[psysml:439c4bcd-5bf6-4395-bbdb-0df2330c2504 ]] \r\n",
       "E14 -[thickness=3]- E15 [[psysml:356465e0-8362-42f7-8017-4c1d57dccd42 ]] \r\n",
       "E14 -[thickness=3]- E15 [[psysml:be002053-3eab-4239-b4ec-f62d8ddd6fa6 ]] \r\n",
       "@enduml\r\n",
       "\n",
       "PlantUML version 1.2020.13(Sat Jun 13 12:26:38 UTC 2020)\n",
       "(EPL source distribution)\n",
       "Java Runtime: OpenJDK Runtime Environment\n",
       "JVM: OpenJDK 64-Bit Server VM\n",
       "Default Encoding: UTF-8\n",
       "Language: en\n",
       "Country: null\n",
       "--></g></svg>"
      ]
     },
     "execution_count": 38,
     "metadata": {},
     "output_type": "execute_result"
    }
   ],
   "source": [
    "%viz --style=\"DEFAULT\" --view=\"Tree\" \"ConjugationTest\""
   ]
  },
  {
   "cell_type": "code",
   "execution_count": 39,
   "id": "9223a13b",
   "metadata": {
    "execution": {
     "iopub.execute_input": "2021-10-03T08:28:07.979813Z",
     "iopub.status.busy": "2021-10-03T08:28:07.979348Z",
     "iopub.status.idle": "2021-10-03T08:28:07.984874Z",
     "shell.execute_reply": "2021-10-03T08:28:07.985215Z"
    }
   },
   "outputs": [
    {
     "data": {
      "image/svg+xml": [
       "<?xml version=\"1.0\" encoding=\"UTF-8\" standalone=\"no\"?><svg xmlns=\"http://www.w3.org/2000/svg\" xmlns:xlink=\"http://www.w3.org/1999/xlink\" contentScriptType=\"application/ecmascript\" contentStyleType=\"text/css\" height=\"12px\" preserveAspectRatio=\"none\" style=\"width:12px;height:12px;\" version=\"1.1\" viewBox=\"0 0 12 12\" width=\"12px\" zoomAndPan=\"magnify\"><defs/><g><!--MD5=[c5f280e076d0d61ccf4b0f27871bda1d]\n",
       "@startuml\r\n",
       "skinparam monochrome true\r\n",
       "skinparam classbackgroundcolor white\r\n",
       "skinparam shadowing false\r\n",
       "skinparam wrapWidth 300\r\n",
       "hide circle\r\n",
       "\r\n",
       "@enduml\r\n",
       "\n",
       "PlantUML version 1.2020.13(Sat Jun 13 12:26:38 UTC 2020)\n",
       "(EPL source distribution)\n",
       "Java Runtime: OpenJDK Runtime Environment\n",
       "JVM: OpenJDK 64-Bit Server VM\n",
       "Default Encoding: UTF-8\n",
       "Language: en\n",
       "Country: null\n",
       "--></g></svg>"
      ]
     },
     "execution_count": 39,
     "metadata": {},
     "output_type": "execute_result"
    }
   ],
   "source": [
    "%viz --style=\"DEFAULT\" --view=\"State\" \"ConjugationTest\""
   ]
  },
  {
   "cell_type": "code",
   "execution_count": 40,
   "id": "25827f94",
   "metadata": {
    "execution": {
     "iopub.execute_input": "2021-10-03T08:28:08.034571Z",
     "iopub.status.busy": "2021-10-03T08:28:08.034146Z",
     "iopub.status.idle": "2021-10-03T08:28:08.079134Z",
     "shell.execute_reply": "2021-10-03T08:28:08.077317Z"
    }
   },
   "outputs": [
    {
     "data": {
      "image/svg+xml": [
       "<?xml version=\"1.0\" encoding=\"UTF-8\" standalone=\"no\"?><svg xmlns=\"http://www.w3.org/2000/svg\" xmlns:xlink=\"http://www.w3.org/1999/xlink\" contentScriptType=\"application/ecmascript\" contentStyleType=\"text/css\" height=\"246px\" preserveAspectRatio=\"none\" style=\"width:739px;height:246px;\" version=\"1.1\" viewBox=\"0 0 739 246\" width=\"739px\" zoomAndPan=\"magnify\"><defs/><g><!--MD5=[fbc87193dbaf4d95561dea2c320d4a47]\n",
       "cluster E1--><a href=\"psysml:811d2e93-771a-4206-9534-119b2782ed8b\" target=\"_top\" title=\"psysml:811d2e93-771a-4206-9534-119b2782ed8b\" xlink:actuate=\"onRequest\" xlink:href=\"psysml:811d2e93-771a-4206-9534-119b2782ed8b\" xlink:show=\"new\" xlink:title=\"psysml:811d2e93-771a-4206-9534-119b2782ed8b\" xlink:type=\"simple\"><polygon fill=\"#FFFFFF\" points=\"16,6,136,6,143,28.2969,717,28.2969,717,234.5,16,234.5,16,6\" style=\"stroke: #000000; stroke-width: 1.5;\"/><line style=\"stroke: #000000; stroke-width: 1.5;\" x1=\"16\" x2=\"143\" y1=\"28.2969\" y2=\"28.2969\"/><text fill=\"#000000\" font-family=\"sans-serif\" font-size=\"14\" font-weight=\"bold\" lengthAdjust=\"spacingAndGlyphs\" textLength=\"114\" x=\"20\" y=\"20.9951\">ConjugationTest</text></a><!--MD5=[d5e69f78d87373223dbae638b30a9c99]\n",
       "cluster E3--><a href=\"psysml:45f3428f-90c5-481c-8b5b-6d42a9c9ecb4\" target=\"_top\" title=\"psysml:45f3428f-90c5-481c-8b5b-6d42a9c9ecb4\" xlink:actuate=\"onRequest\" xlink:href=\"psysml:45f3428f-90c5-481c-8b5b-6d42a9c9ecb4\" xlink:show=\"new\" xlink:title=\"psysml:45f3428f-90c5-481c-8b5b-6d42a9c9ecb4\" xlink:type=\"simple\"><rect fill=\"#FFFFFF\" height=\"88.5\" id=\"E3\" style=\"stroke: #383838; stroke-width: 1.5;\" width=\"83\" x=\"577\" y=\"114\"/><rect fill=\"#F8F8F8\" height=\"37.9375\" style=\"stroke: #383838; stroke-width: 1.5;\" width=\"83\" x=\"577\" y=\"114\"/><text fill=\"#000000\" font-family=\"sans-serif\" font-size=\"12\" font-style=\"italic\" lengthAdjust=\"spacingAndGlyphs\" textLength=\"64\" x=\"586.5\" y=\"130.1387\">«part def»</text><text fill=\"#000000\" font-family=\"sans-serif\" font-size=\"12\" lengthAdjust=\"spacingAndGlyphs\" textLength=\"8\" x=\"614.5\" y=\"144.1074\">B</text></a><!--MD5=[14e3b0961a2654348d326746436168a1]\n",
       "cluster E6--><a href=\"psysml:1e44cf6a-fe6c-483a-98ee-7c5816e24c4f\" target=\"_top\" title=\"psysml:1e44cf6a-fe6c-483a-98ee-7c5816e24c4f\" xlink:actuate=\"onRequest\" xlink:href=\"psysml:1e44cf6a-fe6c-483a-98ee-7c5816e24c4f\" xlink:show=\"new\" xlink:title=\"psysml:1e44cf6a-fe6c-483a-98ee-7c5816e24c4f\" xlink:type=\"simple\"><rect fill=\"#FFFFFF\" height=\"88.5\" id=\"E6\" style=\"stroke: #383838; stroke-width: 1.5;\" width=\"150\" x=\"423\" y=\"114\"/><rect fill=\"#F8F8F8\" height=\"37.9375\" style=\"stroke: #383838; stroke-width: 1.5;\" width=\"150\" x=\"423\" y=\"114\"/><text fill=\"#000000\" font-family=\"sans-serif\" font-size=\"12\" font-style=\"italic\" lengthAdjust=\"spacingAndGlyphs\" textLength=\"108\" x=\"444\" y=\"130.1387\">«connection def»</text><text fill=\"#000000\" font-family=\"sans-serif\" font-size=\"12\" lengthAdjust=\"spacingAndGlyphs\" textLength=\"8\" x=\"494\" y=\"144.1074\">A</text></a><!--MD5=[7f149f147074ac12df2cb0a7728a5fb0]\n",
       "cluster E9--><a href=\"psysml:c589f335-4cab-4324-b073-03ca89b55f7d\" target=\"_top\" title=\"psysml:c589f335-4cab-4324-b073-03ca89b55f7d\" xlink:actuate=\"onRequest\" xlink:href=\"psysml:c589f335-4cab-4324-b073-03ca89b55f7d\" xlink:show=\"new\" xlink:title=\"psysml:c589f335-4cab-4324-b073-03ca89b55f7d\" xlink:type=\"simple\"><rect fill=\"#FFFFFF\" height=\"88.5\" id=\"E9\" style=\"stroke: #383838; stroke-width: 1.5;\" width=\"141\" x=\"254\" y=\"114\"/><rect fill=\"#F8F8F8\" height=\"37.9375\" style=\"stroke: #383838; stroke-width: 1.5;\" width=\"141\" x=\"254\" y=\"114\"/><text fill=\"#000000\" font-family=\"sans-serif\" font-size=\"12\" font-style=\"italic\" lengthAdjust=\"spacingAndGlyphs\" textLength=\"94\" x=\"277.5\" y=\"130.1387\">«interface def»</text><text fill=\"#000000\" font-family=\"sans-serif\" font-size=\"12\" lengthAdjust=\"spacingAndGlyphs\" textLength=\"3\" x=\"323\" y=\"144.1074\">I</text></a><!--MD5=[47bea60c1a0ac6c1143df232041969c0]\n",
       "cluster E12--><a href=\"psysml:99d6c811-1239-4557-8bf5-512a2d9b51f5\" target=\"_top\" title=\"psysml:99d6c811-1239-4557-8bf5-512a2d9b51f5\" xlink:actuate=\"onRequest\" xlink:href=\"psysml:99d6c811-1239-4557-8bf5-512a2d9b51f5\" xlink:show=\"new\" xlink:title=\"psysml:99d6c811-1239-4557-8bf5-512a2d9b51f5\" xlink:type=\"simple\"><rect fill=\"#FFFFFF\" height=\"161.5\" id=\"E12\" style=\"stroke: #383838; stroke-width: 1.5;\" width=\"107\" x=\"120\" y=\"49\"/><rect fill=\"#F8F8F8\" height=\"37.9375\" style=\"stroke: #383838; stroke-width: 1.5;\" width=\"107\" x=\"120\" y=\"49\"/><text fill=\"#000000\" font-family=\"sans-serif\" font-size=\"12\" font-style=\"italic\" lengthAdjust=\"spacingAndGlyphs\" textLength=\"64\" x=\"141.5\" y=\"65.1387\">«part def»</text><text fill=\"#000000\" font-family=\"sans-serif\" font-size=\"12\" lengthAdjust=\"spacingAndGlyphs\" textLength=\"16\" x=\"165.5\" y=\"79.1074\">B1</text></a><!--MD5=[03104f77b71e2d8d3500c651e6e31181]\n",
       "cluster E13--><a href=\"psysml:c80e6282-4b88-42a6-beea-d83b68d36327\" target=\"_top\" title=\"psysml:c80e6282-4b88-42a6-beea-d83b68d36327\" xlink:actuate=\"onRequest\" xlink:href=\"psysml:c80e6282-4b88-42a6-beea-d83b68d36327\" xlink:show=\"new\" xlink:title=\"psysml:c80e6282-4b88-42a6-beea-d83b68d36327\" xlink:type=\"simple\"><rect fill=\"#FFFFFF\" height=\"80.5\" id=\"E13\" rx=\"10\" ry=\"10\" style=\"stroke: #383838; stroke-width: 1.5;\" width=\"83\" x=\"132\" y=\"114\"/><rect fill=\"#F8F8F8\" height=\"23.9688\" rx=\"10\" ry=\"10\" style=\"stroke: #F8F8F8; stroke-width: 1.5;\" width=\"83\" x=\"132\" y=\"114\"/><rect fill=\"#F8F8F8\" height=\"10\" style=\"stroke: #F8F8F8; stroke-width: 1.5;\" width=\"83\" x=\"132\" y=\"127.9688\"/><rect fill=\"none\" height=\"80.5\" id=\"E13\" rx=\"10\" ry=\"10\" style=\"stroke: #383838; stroke-width: 1.5;\" width=\"83\" x=\"132\" y=\"114\"/><text fill=\"#000000\" font-family=\"sans-serif\" font-size=\"12\" lengthAdjust=\"spacingAndGlyphs\" textLength=\"8\" x=\"169.5\" y=\"130.1387\">p</text><line style=\"stroke: #383838; stroke-width: 1.0;\" x1=\"132\" x2=\"215\" y1=\"137.9688\" y2=\"137.9688\"/></a><g id=\"E1.E2\"><a href=\"psysml:a118eece-ff6c-41b4-a8ec-63007fd81e06\" target=\"_top\" title=\"psysml:a118eece-ff6c-41b4-a8ec-63007fd81e06\" xlink:actuate=\"onRequest\" xlink:href=\"psysml:a118eece-ff6c-41b4-a8ec-63007fd81e06\" xlink:show=\"new\" xlink:title=\"psysml:a118eece-ff6c-41b4-a8ec-63007fd81e06\" xlink:type=\"simple\"><rect fill=\"#FFFFFF\" height=\"42.9375\" id=\"E2\" style=\"stroke: #383838; stroke-width: 1.5;\" width=\"71\" x=\"32.5\" y=\"92.5\"/><rect fill=\"#F8F8F8\" height=\"37.9375\" style=\"stroke: #383838; stroke-width: 1.5;\" width=\"71\" x=\"32.5\" y=\"92.5\"/><text fill=\"#000000\" font-family=\"sans-serif\" font-size=\"12\" font-style=\"italic\" lengthAdjust=\"spacingAndGlyphs\" textLength=\"64\" x=\"36\" y=\"108.6387\">«port def»</text><text fill=\"#000000\" font-family=\"sans-serif\" font-size=\"12\" lengthAdjust=\"spacingAndGlyphs\" textLength=\"8\" x=\"64\" y=\"122.6074\">P</text></a></g><text fill=\"#000000\" font-family=\"sans-serif\" font-size=\"14\" lengthAdjust=\"spacingAndGlyphs\" textLength=\"36\" x=\"577\" y=\"92.6982\">p1: P</text><rect fill=\"#383838\" height=\"12\" style=\"stroke: #F8F8F8; stroke-width: 1.5;\" width=\"12\" x=\"589\" y=\"108\"/><text fill=\"#000000\" font-family=\"sans-serif\" font-size=\"14\" lengthAdjust=\"spacingAndGlyphs\" textLength=\"48\" x=\"618\" y=\"92.6982\">p2: ~P</text><rect fill=\"#383838\" height=\"12\" style=\"stroke: #F8F8F8; stroke-width: 1.5;\" width=\"12\" x=\"636\" y=\"108\"/><text fill=\"#000000\" font-family=\"sans-serif\" font-size=\"14\" lengthAdjust=\"spacingAndGlyphs\" textLength=\"36\" x=\"423\" y=\"92.6982\">p1: P</text><rect fill=\"#383838\" height=\"12\" style=\"stroke: #F8F8F8; stroke-width: 1.5;\" width=\"12\" x=\"435\" y=\"108\"/><text fill=\"#000000\" font-family=\"sans-serif\" font-size=\"14\" lengthAdjust=\"spacingAndGlyphs\" textLength=\"48\" x=\"464\" y=\"92.6982\">p2: ~P</text><rect fill=\"#383838\" height=\"12\" style=\"stroke: #F8F8F8; stroke-width: 1.5;\" width=\"12\" x=\"482\" y=\"108\"/><text fill=\"#000000\" font-family=\"sans-serif\" font-size=\"14\" lengthAdjust=\"spacingAndGlyphs\" textLength=\"36\" x=\"254\" y=\"92.6982\">p1: P</text><rect fill=\"#383838\" height=\"12\" style=\"stroke: #F8F8F8; stroke-width: 1.5;\" width=\"12\" x=\"266\" y=\"108\"/><text fill=\"#000000\" font-family=\"sans-serif\" font-size=\"14\" lengthAdjust=\"spacingAndGlyphs\" textLength=\"48\" x=\"295\" y=\"92.6982\">p2: ~P</text><rect fill=\"#383838\" height=\"12\" style=\"stroke: #F8F8F8; stroke-width: 1.5;\" width=\"12\" x=\"313\" y=\"108\"/><text fill=\"#000000\" font-family=\"sans-serif\" font-size=\"14\" lengthAdjust=\"spacingAndGlyphs\" textLength=\"36\" x=\"132\" y=\"92.6982\">p1: P</text><rect fill=\"#383838\" height=\"12\" style=\"stroke: #F8F8F8; stroke-width: 1.5;\" width=\"12\" x=\"144\" y=\"108\"/><text fill=\"#000000\" font-family=\"sans-serif\" font-size=\"14\" lengthAdjust=\"spacingAndGlyphs\" textLength=\"48\" x=\"173\" y=\"92.6982\">p2: ~P</text><rect fill=\"#383838\" height=\"12\" style=\"stroke: #F8F8F8; stroke-width: 1.5;\" width=\"12\" x=\"191\" y=\"108\"/><!--MD5=[3afbdc645381407e1bc99677323a2513]\n",
       "link E14 to E15--><a href=\"psysml:356465e0-8362-42f7-8017-4c1d57dccd42\" target=\"_top\" title=\"psysml:356465e0-8362-42f7-8017-4c1d57dccd42\" xlink:actuate=\"onRequest\" xlink:href=\"psysml:356465e0-8362-42f7-8017-4c1d57dccd42\" xlink:show=\"new\" xlink:title=\"psysml:356465e0-8362-42f7-8017-4c1d57dccd42\" xlink:type=\"simple\"><path d=\"M156.24,114 C167.81,114 179.38,114 190.95,114 \" fill=\"none\" id=\"E14-E15\" style=\"stroke: #383838; stroke-width: 3.0;\"/></a><!--MD5=[3afbdc645381407e1bc99677323a2513]\n",
       "link E14 to E15--><a href=\"psysml:be002053-3eab-4239-b4ec-f62d8ddd6fa6\" target=\"_top\" title=\"psysml:be002053-3eab-4239-b4ec-f62d8ddd6fa6\" xlink:actuate=\"onRequest\" xlink:href=\"psysml:be002053-3eab-4239-b4ec-f62d8ddd6fa6\" xlink:show=\"new\" xlink:title=\"psysml:be002053-3eab-4239-b4ec-f62d8ddd6fa6\" xlink:type=\"simple\"><path d=\"M156.24,111.93 C167.81,108.67 179.38,108.69 190.95,111.98 \" fill=\"none\" id=\"E14-E15-1\" style=\"stroke: #383838; stroke-width: 3.0;\"/></a><!--MD5=[edca4968da39c550f23771bfabf58abd]\n",
       "@startuml\r\n",
       "skinparam ranksep 10\r\n",
       "skinparam rectangle {\r\n",
       " backgroundColor<<block>> LightGreen\r\n",
       "}\r\n",
       "skinparam monochrome true\r\n",
       "skinparam classbackgroundcolor white\r\n",
       "skinparam shadowing false\r\n",
       "skinparam wrapWidth 300\r\n",
       "hide circle\r\n",
       "\r\n",
       "package \"ConjugationTest\" as E1  [[psysml:811d2e93-771a-4206-9534-119b2782ed8b ]]  {\r\n",
       "def \"P\" as E2  <<(T,blue) port def>> [[psysml:a118eece-ff6c-41b4-a8ec-63007fd81e06 ]] \r\n",
       "rec def \"B\" as E3  <<(T,blue) part def>> [[psysml:45f3428f-90c5-481c-8b5b-6d42a9c9ecb4 ]] {\r\n",
       "portin \"p1: P\" as E4  <<(T,blue) port>> [[psysml:f10162e3-9121-4423-8c61-28bf75aadc9a ]] \r\n",
       "portin \"p2: ~P\" as E5  <<(T,blue) port>> [[psysml:f793b08e-b132-4869-8396-6344384571c9 ]] \r\n",
       "}\r\n",
       "rec def \"A\" as E6  <<(T,blue) connection def>> [[psysml:1e44cf6a-fe6c-483a-98ee-7c5816e24c4f ]] {\r\n",
       "portin \"p1: P\" as E7  <<(T,blue) port>> [[psysml:592da980-ebcc-4bfb-b89f-9a898fd7b408 ]] \r\n",
       "portin \"p2: ~P\" as E8  <<(T,blue) port>> [[psysml:4730362b-6892-4b61-8b08-4b1eb3a58a19 ]] \r\n",
       "}\r\n",
       "rec def \"I\" as E9  <<(T,blue) interface def>> [[psysml:c589f335-4cab-4324-b073-03ca89b55f7d ]] {\r\n",
       "portin \"p1: P\" as E10  <<(T,blue) port>> [[psysml:0a18d135-3a15-4f1e-a48b-3983b85e55aa ]] \r\n",
       "portin \"p2: ~P\" as E11  <<(T,blue) port>> [[psysml:f0ebefc1-580e-4b11-b9cf-e3cb40b874a3 ]] \r\n",
       "}\r\n",
       "rec def \"B1\" as E12  <<(T,blue) part def>> [[psysml:99d6c811-1239-4557-8bf5-512a2d9b51f5 ]] {\r\n",
       "rec usage \"p\" as E13  [[psysml:c80e6282-4b88-42a6-beea-d83b68d36327 ]] {\r\n",
       "portin \"p1: P\" as E14  <<(T,blue) port>> [[psysml:36fdd18b-cc96-4106-b803-027f179d9fab ]] \r\n",
       "portin \"p2: ~P\" as E15  <<(T,blue) port>> [[psysml:a04d4130-2616-430e-82e5-4df6c3f344d5 ]] \r\n",
       "}\r\n",
       "}\r\n",
       "}\r\n",
       "E14 -[thickness=3]- E15 [[psysml:356465e0-8362-42f7-8017-4c1d57dccd42 ]] \r\n",
       "E14 -[thickness=3]- E15 [[psysml:be002053-3eab-4239-b4ec-f62d8ddd6fa6 ]] \r\n",
       "@enduml\r\n",
       "\n",
       "PlantUML version 1.2020.13(Sat Jun 13 12:26:38 UTC 2020)\n",
       "(EPL source distribution)\n",
       "Java Runtime: OpenJDK Runtime Environment\n",
       "JVM: OpenJDK 64-Bit Server VM\n",
       "Default Encoding: UTF-8\n",
       "Language: en\n",
       "Country: null\n",
       "--></g></svg>"
      ]
     },
     "execution_count": 40,
     "metadata": {},
     "output_type": "execute_result"
    }
   ],
   "source": [
    "%viz --style=\"DEFAULT\" --view=\"Interconnection\" \"ConjugationTest\""
   ]
  },
  {
   "cell_type": "code",
   "execution_count": 41,
   "id": "651722ec",
   "metadata": {
    "execution": {
     "iopub.execute_input": "2021-10-03T08:28:08.128108Z",
     "iopub.status.busy": "2021-10-03T08:28:08.127697Z",
     "iopub.status.idle": "2021-10-03T08:28:08.133429Z",
     "shell.execute_reply": "2021-10-03T08:28:08.133063Z"
    }
   },
   "outputs": [
    {
     "data": {
      "image/svg+xml": [
       "<?xml version=\"1.0\" encoding=\"UTF-8\" standalone=\"no\"?><svg xmlns=\"http://www.w3.org/2000/svg\" xmlns:xlink=\"http://www.w3.org/1999/xlink\" contentScriptType=\"application/ecmascript\" contentStyleType=\"text/css\" height=\"12px\" preserveAspectRatio=\"none\" style=\"width:12px;height:12px;\" version=\"1.1\" viewBox=\"0 0 12 12\" width=\"12px\" zoomAndPan=\"magnify\"><defs/><g><!--MD5=[388f21188e31bfdd97050473b19af356]\n",
       "@startuml\r\n",
       "skinparam ranksep 8\r\n",
       "skinparam monochrome true\r\n",
       "skinparam classbackgroundcolor white\r\n",
       "skinparam shadowing false\r\n",
       "skinparam wrapWidth 300\r\n",
       "hide circle\r\n",
       "\r\n",
       "@enduml\r\n",
       "\n",
       "PlantUML version 1.2020.13(Sat Jun 13 12:26:38 UTC 2020)\n",
       "(EPL source distribution)\n",
       "Java Runtime: OpenJDK Runtime Environment\n",
       "JVM: OpenJDK 64-Bit Server VM\n",
       "Default Encoding: UTF-8\n",
       "Language: en\n",
       "Country: null\n",
       "--></g></svg>"
      ]
     },
     "execution_count": 41,
     "metadata": {},
     "output_type": "execute_result"
    }
   ],
   "source": [
    "%viz --style=\"DEFAULT\" --view=\"Action\" \"ConjugationTest\""
   ]
  },
  {
   "cell_type": "code",
   "execution_count": 42,
   "id": "0b40e358",
   "metadata": {
    "execution": {
     "iopub.execute_input": "2021-10-03T08:28:08.183156Z",
     "iopub.status.busy": "2021-10-03T08:28:08.182519Z",
     "iopub.status.idle": "2021-10-03T08:28:08.188417Z",
     "shell.execute_reply": "2021-10-03T08:28:08.188050Z"
    }
   },
   "outputs": [
    {
     "data": {
      "image/svg+xml": [
       "<?xml version=\"1.0\" encoding=\"UTF-8\" standalone=\"no\"?><svg xmlns=\"http://www.w3.org/2000/svg\" xmlns:xlink=\"http://www.w3.org/1999/xlink\" contentScriptType=\"application/ecmascript\" contentStyleType=\"text/css\" height=\"12px\" preserveAspectRatio=\"none\" style=\"width:12px;height:12px;\" version=\"1.1\" viewBox=\"0 0 12 12\" width=\"12px\" zoomAndPan=\"magnify\"><defs/><g><!--MD5=[0b72472770326784bf6c2b53246e1e64]\n",
       "@startuml\r\n",
       "skinparam roundcorner 20\r\n",
       "skinparam BoxPadding 20\r\n",
       "skinparam SequenceBoxBackgroundColor #white\r\n",
       "skinparam style strictuml\r\n",
       "skinparam maxMessageSize 100\r\n",
       "skinparam monochrome true\r\n",
       "skinparam classbackgroundcolor white\r\n",
       "skinparam shadowing false\r\n",
       "skinparam wrapWidth 300\r\n",
       "hide circle\r\n",
       "\r\n",
       "@enduml\r\n",
       "\n",
       "PlantUML version 1.2020.13(Sat Jun 13 12:26:38 UTC 2020)\n",
       "(EPL source distribution)\n",
       "Java Runtime: OpenJDK Runtime Environment\n",
       "JVM: OpenJDK 64-Bit Server VM\n",
       "Default Encoding: UTF-8\n",
       "Language: en\n",
       "Country: null\n",
       "--></g></svg>"
      ]
     },
     "execution_count": 42,
     "metadata": {},
     "output_type": "execute_result"
    }
   ],
   "source": [
    "%viz --style=\"DEFAULT\" --view=\"Sequence\" \"ConjugationTest\""
   ]
  },
  {
   "cell_type": "code",
   "execution_count": 43,
   "id": "9f2c87ff",
   "metadata": {
    "execution": {
     "iopub.execute_input": "2021-10-03T08:28:08.238140Z",
     "iopub.status.busy": "2021-10-03T08:28:08.237516Z",
     "iopub.status.idle": "2021-10-03T08:28:08.284064Z",
     "shell.execute_reply": "2021-10-03T08:28:08.283636Z"
    }
   },
   "outputs": [
    {
     "data": {
      "image/svg+xml": [
       "<?xml version=\"1.0\" encoding=\"UTF-8\" standalone=\"no\"?><svg xmlns=\"http://www.w3.org/2000/svg\" xmlns:xlink=\"http://www.w3.org/1999/xlink\" contentScriptType=\"application/ecmascript\" contentStyleType=\"text/css\" height=\"433px\" preserveAspectRatio=\"none\" style=\"width:629px;height:433px;\" version=\"1.1\" viewBox=\"0 0 629 433\" width=\"629px\" zoomAndPan=\"magnify\"><defs/><g><!--MD5=[fbc87193dbaf4d95561dea2c320d4a47]\n",
       "cluster E1--><a href=\"psysml:811d2e93-771a-4206-9534-119b2782ed8b\" target=\"_top\" title=\"psysml:811d2e93-771a-4206-9534-119b2782ed8b\" xlink:actuate=\"onRequest\" xlink:href=\"psysml:811d2e93-771a-4206-9534-119b2782ed8b\" xlink:show=\"new\" xlink:title=\"psysml:811d2e93-771a-4206-9534-119b2782ed8b\" xlink:type=\"simple\"><polygon fill=\"#FFFFFF\" points=\"16,6,136,6,143,28.2969,607,28.2969,607,421,16,421,16,6\" style=\"stroke: #000000; stroke-width: 1.5;\"/><line style=\"stroke: #000000; stroke-width: 1.5;\" x1=\"16\" x2=\"143\" y1=\"28.2969\" y2=\"28.2969\"/><text fill=\"#000000\" font-family=\"sans-serif\" font-size=\"14\" font-weight=\"bold\" lengthAdjust=\"spacingAndGlyphs\" textLength=\"114\" x=\"20\" y=\"20.9951\">ConjugationTest</text></a><!--MD5=[b4997ac47864f28c2f74865a473b2911]\n",
       "class E2--><a href=\"psysml:a118eece-ff6c-41b4-a8ec-63007fd81e06\" target=\"_top\" title=\"psysml:a118eece-ff6c-41b4-a8ec-63007fd81e06\" xlink:actuate=\"onRequest\" xlink:href=\"psysml:a118eece-ff6c-41b4-a8ec-63007fd81e06\" xlink:show=\"new\" xlink:title=\"psysml:a118eece-ff6c-41b4-a8ec-63007fd81e06\" xlink:type=\"simple\"><rect fill=\"#FFFFFF\" height=\"45.9375\" id=\"E2\" style=\"stroke: #383838; stroke-width: 1.5;\" width=\"66\" x=\"221\" y=\"359\"/><text fill=\"#000000\" font-family=\"sans-serif\" font-size=\"12\" font-style=\"italic\" lengthAdjust=\"spacingAndGlyphs\" textLength=\"64\" x=\"222\" y=\"375.1387\">«port def»</text><text fill=\"#000000\" font-family=\"sans-serif\" font-size=\"12\" lengthAdjust=\"spacingAndGlyphs\" textLength=\"8\" x=\"250\" y=\"389.1074\">P</text><line style=\"stroke: #383838; stroke-width: 1.5;\" x1=\"222\" x2=\"286\" y1=\"396.9375\" y2=\"396.9375\"/></a><!--MD5=[09b614a08d8cba4a07c9adeb5e0fee81]\n",
       "class E3--><a href=\"psysml:45f3428f-90c5-481c-8b5b-6d42a9c9ecb4\" target=\"_top\" title=\"psysml:45f3428f-90c5-481c-8b5b-6d42a9c9ecb4\" xlink:actuate=\"onRequest\" xlink:href=\"psysml:45f3428f-90c5-481c-8b5b-6d42a9c9ecb4\" xlink:show=\"new\" xlink:title=\"psysml:45f3428f-90c5-481c-8b5b-6d42a9c9ecb4\" xlink:type=\"simple\"><rect fill=\"#FFFFFF\" height=\"45.9375\" id=\"E3\" style=\"stroke: #383838; stroke-width: 1.5;\" width=\"66\" x=\"489\" y=\"147\"/><text fill=\"#000000\" font-family=\"sans-serif\" font-size=\"12\" font-style=\"italic\" lengthAdjust=\"spacingAndGlyphs\" textLength=\"64\" x=\"490\" y=\"163.1387\">«part def»</text><text fill=\"#000000\" font-family=\"sans-serif\" font-size=\"12\" lengthAdjust=\"spacingAndGlyphs\" textLength=\"8\" x=\"518\" y=\"177.1074\">B</text><line style=\"stroke: #383838; stroke-width: 1.5;\" x1=\"490\" x2=\"554\" y1=\"184.9375\" y2=\"184.9375\"/></a><!--MD5=[ebbe1d658d1005bcc118a6aa81145e00]\n",
       "class E4--><a href=\"psysml:f10162e3-9121-4423-8c61-28bf75aadc9a\" target=\"_top\" title=\"psysml:f10162e3-9121-4423-8c61-28bf75aadc9a\" xlink:actuate=\"onRequest\" xlink:href=\"psysml:f10162e3-9121-4423-8c61-28bf75aadc9a\" xlink:show=\"new\" xlink:title=\"psysml:f10162e3-9121-4423-8c61-28bf75aadc9a\" xlink:type=\"simple\"><rect fill=\"#FFFFFF\" height=\"45.9375\" id=\"E4\" rx=\"10\" ry=\"10\" style=\"stroke: #383838; stroke-width: 1.5;\" width=\"42\" x=\"466\" y=\"253\"/><text fill=\"#000000\" font-family=\"sans-serif\" font-size=\"12\" font-style=\"italic\" lengthAdjust=\"spacingAndGlyphs\" textLength=\"40\" x=\"467\" y=\"269.1387\">«port»</text><text fill=\"#000000\" font-family=\"sans-serif\" font-size=\"12\" lengthAdjust=\"spacingAndGlyphs\" textLength=\"32\" x=\"471\" y=\"283.1074\">p1: P</text><line style=\"stroke: #383838; stroke-width: 1.5;\" x1=\"467\" x2=\"507\" y1=\"290.9375\" y2=\"290.9375\"/></a><!--MD5=[270fce915f116d4de14055a7c1d9a0f3]\n",
       "class E5--><a href=\"psysml:f793b08e-b132-4869-8396-6344384571c9\" target=\"_top\" title=\"psysml:f793b08e-b132-4869-8396-6344384571c9\" xlink:actuate=\"onRequest\" xlink:href=\"psysml:f793b08e-b132-4869-8396-6344384571c9\" xlink:show=\"new\" xlink:title=\"psysml:f793b08e-b132-4869-8396-6344384571c9\" xlink:type=\"simple\"><rect fill=\"#FFFFFF\" height=\"45.9375\" id=\"E5\" rx=\"10\" ry=\"10\" style=\"stroke: #383838; stroke-width: 1.5;\" width=\"48\" x=\"543\" y=\"253\"/><text fill=\"#000000\" font-family=\"sans-serif\" font-size=\"12\" font-style=\"italic\" lengthAdjust=\"spacingAndGlyphs\" textLength=\"40\" x=\"547\" y=\"269.1387\">«port»</text><text fill=\"#000000\" font-family=\"sans-serif\" font-size=\"12\" lengthAdjust=\"spacingAndGlyphs\" textLength=\"42\" x=\"546\" y=\"283.1074\">p2: ~P</text><line style=\"stroke: #383838; stroke-width: 1.5;\" x1=\"544\" x2=\"590\" y1=\"290.9375\" y2=\"290.9375\"/></a><!--MD5=[60a26617385b1d2d0262a64233df1f8d]\n",
       "class E6--><a href=\"psysml:1e44cf6a-fe6c-483a-98ee-7c5816e24c4f\" target=\"_top\" title=\"psysml:1e44cf6a-fe6c-483a-98ee-7c5816e24c4f\" xlink:actuate=\"onRequest\" xlink:href=\"psysml:1e44cf6a-fe6c-483a-98ee-7c5816e24c4f\" xlink:show=\"new\" xlink:title=\"psysml:1e44cf6a-fe6c-483a-98ee-7c5816e24c4f\" xlink:type=\"simple\"><rect fill=\"#FFFFFF\" height=\"45.9375\" id=\"E6\" style=\"stroke: #383838; stroke-width: 1.5;\" width=\"110\" x=\"282\" y=\"147\"/><text fill=\"#000000\" font-family=\"sans-serif\" font-size=\"12\" font-style=\"italic\" lengthAdjust=\"spacingAndGlyphs\" textLength=\"108\" x=\"283\" y=\"163.1387\">«connection def»</text><text fill=\"#000000\" font-family=\"sans-serif\" font-size=\"12\" lengthAdjust=\"spacingAndGlyphs\" textLength=\"8\" x=\"333\" y=\"177.1074\">A</text><line style=\"stroke: #383838; stroke-width: 1.5;\" x1=\"283\" x2=\"391\" y1=\"184.9375\" y2=\"184.9375\"/></a><!--MD5=[2156ba9850f5573cc1fc38a6a4b2f02b]\n",
       "class E7--><a href=\"psysml:592da980-ebcc-4bfb-b89f-9a898fd7b408\" target=\"_top\" title=\"psysml:592da980-ebcc-4bfb-b89f-9a898fd7b408\" xlink:actuate=\"onRequest\" xlink:href=\"psysml:592da980-ebcc-4bfb-b89f-9a898fd7b408\" xlink:show=\"new\" xlink:title=\"psysml:592da980-ebcc-4bfb-b89f-9a898fd7b408\" xlink:type=\"simple\"><rect fill=\"#FFFFFF\" height=\"45.9375\" id=\"E7\" rx=\"10\" ry=\"10\" style=\"stroke: #383838; stroke-width: 1.5;\" width=\"42\" x=\"306\" y=\"253\"/><text fill=\"#000000\" font-family=\"sans-serif\" font-size=\"12\" font-style=\"italic\" lengthAdjust=\"spacingAndGlyphs\" textLength=\"40\" x=\"307\" y=\"269.1387\">«port»</text><text fill=\"#000000\" font-family=\"sans-serif\" font-size=\"12\" lengthAdjust=\"spacingAndGlyphs\" textLength=\"32\" x=\"311\" y=\"283.1074\">p1: P</text><line style=\"stroke: #383838; stroke-width: 1.5;\" x1=\"307\" x2=\"347\" y1=\"290.9375\" y2=\"290.9375\"/></a><!--MD5=[b9389687b975829384b498ac4b7476b2]\n",
       "class E8--><a href=\"psysml:4730362b-6892-4b61-8b08-4b1eb3a58a19\" target=\"_top\" title=\"psysml:4730362b-6892-4b61-8b08-4b1eb3a58a19\" xlink:actuate=\"onRequest\" xlink:href=\"psysml:4730362b-6892-4b61-8b08-4b1eb3a58a19\" xlink:show=\"new\" xlink:title=\"psysml:4730362b-6892-4b61-8b08-4b1eb3a58a19\" xlink:type=\"simple\"><rect fill=\"#FFFFFF\" height=\"45.9375\" id=\"E8\" rx=\"10\" ry=\"10\" style=\"stroke: #383838; stroke-width: 1.5;\" width=\"48\" x=\"383\" y=\"253\"/><text fill=\"#000000\" font-family=\"sans-serif\" font-size=\"12\" font-style=\"italic\" lengthAdjust=\"spacingAndGlyphs\" textLength=\"40\" x=\"387\" y=\"269.1387\">«port»</text><text fill=\"#000000\" font-family=\"sans-serif\" font-size=\"12\" lengthAdjust=\"spacingAndGlyphs\" textLength=\"42\" x=\"386\" y=\"283.1074\">p2: ~P</text><line style=\"stroke: #383838; stroke-width: 1.5;\" x1=\"384\" x2=\"430\" y1=\"290.9375\" y2=\"290.9375\"/></a><!--MD5=[fd4143e9d270a159db93a4ea2a975926]\n",
       "class E9--><a href=\"psysml:c589f335-4cab-4324-b073-03ca89b55f7d\" target=\"_top\" title=\"psysml:c589f335-4cab-4324-b073-03ca89b55f7d\" xlink:actuate=\"onRequest\" xlink:href=\"psysml:c589f335-4cab-4324-b073-03ca89b55f7d\" xlink:show=\"new\" xlink:title=\"psysml:c589f335-4cab-4324-b073-03ca89b55f7d\" xlink:type=\"simple\"><rect fill=\"#FFFFFF\" height=\"45.9375\" id=\"E9\" style=\"stroke: #383838; stroke-width: 1.5;\" width=\"96\" x=\"146\" y=\"147\"/><text fill=\"#000000\" font-family=\"sans-serif\" font-size=\"12\" font-style=\"italic\" lengthAdjust=\"spacingAndGlyphs\" textLength=\"94\" x=\"147\" y=\"163.1387\">«interface def»</text><text fill=\"#000000\" font-family=\"sans-serif\" font-size=\"12\" lengthAdjust=\"spacingAndGlyphs\" textLength=\"3\" x=\"192.5\" y=\"177.1074\">I</text><line style=\"stroke: #383838; stroke-width: 1.5;\" x1=\"147\" x2=\"241\" y1=\"184.9375\" y2=\"184.9375\"/></a><!--MD5=[96f4274e9e20536e775497830990834d]\n",
       "class E10--><a href=\"psysml:0a18d135-3a15-4f1e-a48b-3983b85e55aa\" target=\"_top\" title=\"psysml:0a18d135-3a15-4f1e-a48b-3983b85e55aa\" xlink:actuate=\"onRequest\" xlink:href=\"psysml:0a18d135-3a15-4f1e-a48b-3983b85e55aa\" xlink:show=\"new\" xlink:title=\"psysml:0a18d135-3a15-4f1e-a48b-3983b85e55aa\" xlink:type=\"simple\"><rect fill=\"#FFFFFF\" height=\"45.9375\" id=\"E10\" rx=\"10\" ry=\"10\" style=\"stroke: #383838; stroke-width: 1.5;\" width=\"42\" x=\"146\" y=\"253\"/><text fill=\"#000000\" font-family=\"sans-serif\" font-size=\"12\" font-style=\"italic\" lengthAdjust=\"spacingAndGlyphs\" textLength=\"40\" x=\"147\" y=\"269.1387\">«port»</text><text fill=\"#000000\" font-family=\"sans-serif\" font-size=\"12\" lengthAdjust=\"spacingAndGlyphs\" textLength=\"32\" x=\"151\" y=\"283.1074\">p1: P</text><line style=\"stroke: #383838; stroke-width: 1.5;\" x1=\"147\" x2=\"187\" y1=\"290.9375\" y2=\"290.9375\"/></a><!--MD5=[1dd1bfd58a279cf63c5f349dbc8fc6a1]\n",
       "class E11--><a href=\"psysml:f0ebefc1-580e-4b11-b9cf-e3cb40b874a3\" target=\"_top\" title=\"psysml:f0ebefc1-580e-4b11-b9cf-e3cb40b874a3\" xlink:actuate=\"onRequest\" xlink:href=\"psysml:f0ebefc1-580e-4b11-b9cf-e3cb40b874a3\" xlink:show=\"new\" xlink:title=\"psysml:f0ebefc1-580e-4b11-b9cf-e3cb40b874a3\" xlink:type=\"simple\"><rect fill=\"#FFFFFF\" height=\"45.9375\" id=\"E11\" rx=\"10\" ry=\"10\" style=\"stroke: #383838; stroke-width: 1.5;\" width=\"48\" x=\"223\" y=\"253\"/><text fill=\"#000000\" font-family=\"sans-serif\" font-size=\"12\" font-style=\"italic\" lengthAdjust=\"spacingAndGlyphs\" textLength=\"40\" x=\"227\" y=\"269.1387\">«port»</text><text fill=\"#000000\" font-family=\"sans-serif\" font-size=\"12\" lengthAdjust=\"spacingAndGlyphs\" textLength=\"42\" x=\"226\" y=\"283.1074\">p2: ~P</text><line style=\"stroke: #383838; stroke-width: 1.5;\" x1=\"224\" x2=\"270\" y1=\"290.9375\" y2=\"290.9375\"/></a><!--MD5=[49a0ec8f00dab7302a31f22d0f0fe584]\n",
       "class E12--><a href=\"psysml:99d6c811-1239-4557-8bf5-512a2d9b51f5\" target=\"_top\" title=\"psysml:99d6c811-1239-4557-8bf5-512a2d9b51f5\" xlink:actuate=\"onRequest\" xlink:href=\"psysml:99d6c811-1239-4557-8bf5-512a2d9b51f5\" xlink:show=\"new\" xlink:title=\"psysml:99d6c811-1239-4557-8bf5-512a2d9b51f5\" xlink:type=\"simple\"><rect fill=\"#FFFFFF\" height=\"45.9375\" id=\"E12\" style=\"stroke: #383838; stroke-width: 1.5;\" width=\"66\" x=\"47\" y=\"41\"/><text fill=\"#000000\" font-family=\"sans-serif\" font-size=\"12\" font-style=\"italic\" lengthAdjust=\"spacingAndGlyphs\" textLength=\"64\" x=\"48\" y=\"57.1387\">«part def»</text><text fill=\"#000000\" font-family=\"sans-serif\" font-size=\"12\" lengthAdjust=\"spacingAndGlyphs\" textLength=\"16\" x=\"72\" y=\"71.1074\">B1</text><line style=\"stroke: #383838; stroke-width: 1.5;\" x1=\"48\" x2=\"112\" y1=\"78.9375\" y2=\"78.9375\"/></a><!--MD5=[ee3c913d1a06f366521f9ef512b67efe]\n",
       "class E13--><a href=\"psysml:c80e6282-4b88-42a6-beea-d83b68d36327\" target=\"_top\" title=\"psysml:c80e6282-4b88-42a6-beea-d83b68d36327\" xlink:actuate=\"onRequest\" xlink:href=\"psysml:c80e6282-4b88-42a6-beea-d83b68d36327\" xlink:show=\"new\" xlink:title=\"psysml:c80e6282-4b88-42a6-beea-d83b68d36327\" xlink:type=\"simple\"><rect fill=\"#FFFFFF\" height=\"45.9375\" id=\"E13\" rx=\"10\" ry=\"10\" style=\"stroke: #383838; stroke-width: 1.5;\" width=\"42\" x=\"59\" y=\"147\"/><text fill=\"#000000\" font-family=\"sans-serif\" font-size=\"12\" font-style=\"italic\" lengthAdjust=\"spacingAndGlyphs\" textLength=\"40\" x=\"60\" y=\"163.1387\">«part»</text><text fill=\"#000000\" font-family=\"sans-serif\" font-size=\"12\" lengthAdjust=\"spacingAndGlyphs\" textLength=\"8\" x=\"76\" y=\"177.1074\">p</text><line style=\"stroke: #383838; stroke-width: 1.5;\" x1=\"60\" x2=\"100\" y1=\"184.9375\" y2=\"184.9375\"/></a><!--MD5=[bee11217b2f71d958a27249dc326068c]\n",
       "class E14--><a href=\"psysml:36fdd18b-cc96-4106-b803-027f179d9fab\" target=\"_top\" title=\"psysml:36fdd18b-cc96-4106-b803-027f179d9fab\" xlink:actuate=\"onRequest\" xlink:href=\"psysml:36fdd18b-cc96-4106-b803-027f179d9fab\" xlink:show=\"new\" xlink:title=\"psysml:36fdd18b-cc96-4106-b803-027f179d9fab\" xlink:type=\"simple\"><rect fill=\"#FFFFFF\" height=\"45.9375\" id=\"E14\" rx=\"10\" ry=\"10\" style=\"stroke: #383838; stroke-width: 1.5;\" width=\"42\" x=\"69\" y=\"253\"/><text fill=\"#000000\" font-family=\"sans-serif\" font-size=\"12\" font-style=\"italic\" lengthAdjust=\"spacingAndGlyphs\" textLength=\"40\" x=\"70\" y=\"269.1387\">«port»</text><text fill=\"#000000\" font-family=\"sans-serif\" font-size=\"12\" lengthAdjust=\"spacingAndGlyphs\" textLength=\"32\" x=\"74\" y=\"283.1074\">p1: P</text><line style=\"stroke: #383838; stroke-width: 1.5;\" x1=\"70\" x2=\"110\" y1=\"290.9375\" y2=\"290.9375\"/></a><!--MD5=[0c48fb7552dae8cbbef69381101a84c8]\n",
       "class E15--><a href=\"psysml:a04d4130-2616-430e-82e5-4df6c3f344d5\" target=\"_top\" title=\"psysml:a04d4130-2616-430e-82e5-4df6c3f344d5\" xlink:actuate=\"onRequest\" xlink:href=\"psysml:a04d4130-2616-430e-82e5-4df6c3f344d5\" xlink:show=\"new\" xlink:title=\"psysml:a04d4130-2616-430e-82e5-4df6c3f344d5\" xlink:type=\"simple\"><rect fill=\"#FFFFFF\" height=\"45.9375\" id=\"E15\" rx=\"10\" ry=\"10\" style=\"stroke: #383838; stroke-width: 1.5;\" width=\"48\" x=\"66\" y=\"359\"/><text fill=\"#000000\" font-family=\"sans-serif\" font-size=\"12\" font-style=\"italic\" lengthAdjust=\"spacingAndGlyphs\" textLength=\"40\" x=\"70\" y=\"375.1387\">«port»</text><text fill=\"#000000\" font-family=\"sans-serif\" font-size=\"12\" lengthAdjust=\"spacingAndGlyphs\" textLength=\"42\" x=\"69\" y=\"389.1074\">p2: ~P</text><line style=\"stroke: #383838; stroke-width: 1.5;\" x1=\"67\" x2=\"113\" y1=\"396.9375\" y2=\"396.9375\"/></a><!--MD5=[4672eba38e49728da53d11aeb285b987]\n",
       "reverse link E3 to E4--><a href=\"psysml:478537c4-9aea-45e7-93bf-51b2f99f76d0\" target=\"_top\" title=\"psysml:478537c4-9aea-45e7-93bf-51b2f99f76d0\" xlink:actuate=\"onRequest\" xlink:href=\"psysml:478537c4-9aea-45e7-93bf-51b2f99f76d0\" xlink:show=\"new\" xlink:title=\"psysml:478537c4-9aea-45e7-93bf-51b2f99f76d0\" xlink:type=\"simple\"><path d=\"M510.39,205.49 C505.12,221.15 499.05,239.19 494.41,252.98 \" fill=\"none\" id=\"E3&lt;-E4\" style=\"stroke: #383838; stroke-width: 1.0;\"/><polygon fill=\"#FFFFFF\" points=\"514.58,193.06,508.8756,197.4713,510.7536,204.4336,516.458,200.0223,514.58,193.06\" style=\"stroke: #383838; stroke-width: 1.0;\"/><text fill=\"#000000\" font-family=\"sans-serif\" font-size=\"13\" lengthAdjust=\"spacingAndGlyphs\" textLength=\"8\" x=\"487.3264\" y=\"241.8709\">1</text></a><!--MD5=[185131fc0dcab0a4505a2ebe144e961b]\n",
       "link E4 to E2--><a href=\"psysml:9a27f54b-62e8-4ed3-8ffb-179b9354440f\" target=\"_top\" title=\"psysml:9a27f54b-62e8-4ed3-8ffb-179b9354440f\" xlink:actuate=\"onRequest\" xlink:href=\"psysml:9a27f54b-62e8-4ed3-8ffb-179b9354440f\" xlink:show=\"new\" xlink:title=\"psysml:9a27f54b-62e8-4ed3-8ffb-179b9354440f\" xlink:type=\"simple\"><path d=\"M465.96,289.82 C460.51,292.96 454.6,296.22 449,299 C401.46,322.64 345.42,345.73 305.65,361.35 \" fill=\"none\" id=\"E4-&gt;E2\" style=\"stroke: #383838; stroke-width: 1.0;\"/><polygon fill=\"#FFFFFF\" points=\"287,368.6,302.1754,355.1945,307.2453,368.2443,287,368.6\" style=\"stroke: #383838; stroke-width: 1.0;\"/><ellipse cx=\"308.2128\" cy=\"354.9946\" fill=\"#383838\" rx=\"2\" ry=\"2\" style=\"stroke: #383838; stroke-width: 1.0;\"/><ellipse cx=\"311.8342\" cy=\"364.3159\" fill=\"#383838\" rx=\"2\" ry=\"2\" style=\"stroke: #383838; stroke-width: 1.0;\"/></a><!--MD5=[191cde3d490a3f6d7bb551fe3ddca469]\n",
       "reverse link E3 to E5--><a href=\"psysml:0c237cb0-b529-413c-8aaf-d2f6ce3a1092\" target=\"_top\" title=\"psysml:0c237cb0-b529-413c-8aaf-d2f6ce3a1092\" xlink:actuate=\"onRequest\" xlink:href=\"psysml:0c237cb0-b529-413c-8aaf-d2f6ce3a1092\" xlink:show=\"new\" xlink:title=\"psysml:0c237cb0-b529-413c-8aaf-d2f6ce3a1092\" xlink:type=\"simple\"><path d=\"M536.72,205.03 C543.54,220.78 551.45,239.06 557.47,252.98 \" fill=\"none\" id=\"E3&lt;-E5\" style=\"stroke: #383838; stroke-width: 1.0;\"/><polygon fill=\"#FFFFFF\" points=\"531.54,193.06,530.2495,200.1547,536.302,204.0747,537.5926,196.98,531.54,193.06\" style=\"stroke: #383838; stroke-width: 1.0;\"/><text fill=\"#000000\" font-family=\"sans-serif\" font-size=\"13\" lengthAdjust=\"spacingAndGlyphs\" textLength=\"8\" x=\"545.8338\" y=\"241.8709\">1</text></a><!--MD5=[3f50a3473f1dfb74d3f76443e03635af]\n",
       "reverse link E6 to E7--><a href=\"psysml:b94a6cc2-6585-4221-b4bd-c6e1360a7593\" target=\"_top\" title=\"psysml:b94a6cc2-6585-4221-b4bd-c6e1360a7593\" xlink:actuate=\"onRequest\" xlink:href=\"psysml:b94a6cc2-6585-4221-b4bd-c6e1360a7593\" xlink:show=\"new\" xlink:title=\"psysml:b94a6cc2-6585-4221-b4bd-c6e1360a7593\" xlink:type=\"simple\"><path d=\"M333.59,206.44 C332.11,221.87 330.42,239.47 329.12,252.98 \" fill=\"none\" id=\"E6&lt;-E7\" style=\"stroke: #383838; stroke-width: 1.0;\"/><polygon fill=\"#FFFFFF\" points=\"334.88,193.06,330.3242,198.6497,333.7317,205.0049,338.2875,199.4152,334.88,193.06\" style=\"stroke: #383838; stroke-width: 1.0;\"/><text fill=\"#000000\" font-family=\"sans-serif\" font-size=\"13\" lengthAdjust=\"spacingAndGlyphs\" textLength=\"8\" x=\"320.6148\" y=\"241.8709\">1</text></a><!--MD5=[583832df87f4419a098336a29a52fa00]\n",
       "link E7 to E2--><a href=\"psysml:6c7ecdb4-3704-4141-b5eb-90be274661d4\" target=\"_top\" title=\"psysml:6c7ecdb4-3704-4141-b5eb-90be274661d4\" xlink:actuate=\"onRequest\" xlink:href=\"psysml:6c7ecdb4-3704-4141-b5eb-90be274661d4\" xlink:show=\"new\" xlink:title=\"psysml:6c7ecdb4-3704-4141-b5eb-90be274661d4\" xlink:type=\"simple\"><path d=\"M311.52,299.06 C302.71,311.6 291.43,327.68 281.19,342.26 \" fill=\"none\" id=\"E7-&gt;E2\" style=\"stroke: #383838; stroke-width: 1.0;\"/><polygon fill=\"#FFFFFF\" points=\"269.46,358.98,274.6532,339.4088,286.1093,347.4561,269.46,358.98\" style=\"stroke: #383838; stroke-width: 1.0;\"/><ellipse cx=\"279.5662\" cy=\"335.8942\" fill=\"#383838\" rx=\"2\" ry=\"2\" style=\"stroke: #383838; stroke-width: 1.0;\"/><ellipse cx=\"287.7491\" cy=\"341.6422\" fill=\"#383838\" rx=\"2\" ry=\"2\" style=\"stroke: #383838; stroke-width: 1.0;\"/></a><!--MD5=[f4cf0736d43fd73c4ef68817c49d37d5]\n",
       "reverse link E6 to E8--><a href=\"psysml:c893fa2e-0043-44e8-be45-2077001790d0\" target=\"_top\" title=\"psysml:c893fa2e-0043-44e8-be45-2077001790d0\" xlink:actuate=\"onRequest\" xlink:href=\"psysml:c893fa2e-0043-44e8-be45-2077001790d0\" xlink:show=\"new\" xlink:title=\"psysml:c893fa2e-0043-44e8-be45-2077001790d0\" xlink:type=\"simple\"><path d=\"M359.27,204.09 C370.02,220.06 382.62,238.78 392.18,252.98 \" fill=\"none\" id=\"E6&lt;-E8\" style=\"stroke: #383838; stroke-width: 1.0;\"/><polygon fill=\"#FFFFFF\" points=\"351.85,193.06,351.8808,200.271,358.5489,203.0161,358.5182,195.8051,351.85,193.06\" style=\"stroke: #383838; stroke-width: 1.0;\"/><text fill=\"#000000\" font-family=\"sans-serif\" font-size=\"13\" lengthAdjust=\"spacingAndGlyphs\" textLength=\"8\" x=\"379.1221\" y=\"241.8709\">1</text></a><!--MD5=[23ac544a70576c3e717098101004234c]\n",
       "reverse link E9 to E10--><a href=\"psysml:3723b58c-a4dd-4ef3-9a79-2a659572d83c\" target=\"_top\" title=\"psysml:3723b58c-a4dd-4ef3-9a79-2a659572d83c\" xlink:actuate=\"onRequest\" xlink:href=\"psysml:3723b58c-a4dd-4ef3-9a79-2a659572d83c\" xlink:show=\"new\" xlink:title=\"psysml:3723b58c-a4dd-4ef3-9a79-2a659572d83c\" xlink:type=\"simple\"><path d=\"M184.92,205.96 C180.89,221.51 176.26,239.33 172.72,252.98 \" fill=\"none\" id=\"E9&lt;-E10\" style=\"stroke: #383838; stroke-width: 1.0;\"/><polygon fill=\"#FFFFFF\" points=\"188.27,193.06,182.8943,197.8665,185.2635,204.6773,190.6392,199.8708,188.27,193.06\" style=\"stroke: #383838; stroke-width: 1.0;\"/><text fill=\"#000000\" font-family=\"sans-serif\" font-size=\"13\" lengthAdjust=\"spacingAndGlyphs\" textLength=\"8\" x=\"165.1823\" y=\"241.8709\">1</text></a><!--MD5=[0f36bececdf0dff6e600d6f64214b0f1]\n",
       "link E10 to E2--><a href=\"psysml:8c7a6e5c-2c0e-473c-a2c4-4062964bb416\" target=\"_top\" title=\"psysml:8c7a6e5c-2c0e-473c-a2c4-4062964bb416\" xlink:actuate=\"onRequest\" xlink:href=\"psysml:8c7a6e5c-2c0e-473c-a2c4-4062964bb416\" xlink:show=\"new\" xlink:title=\"psysml:8c7a6e5c-2c0e-473c-a2c4-4062964bb416\" xlink:type=\"simple\"><path d=\"M185.45,299.06 C196.18,311.88 209.99,328.39 222.4,343.22 \" fill=\"none\" id=\"E10-&gt;E2\" style=\"stroke: #383838; stroke-width: 1.0;\"/><polygon fill=\"#FFFFFF\" points=\"235.58,358.98,218.0168,348.9036,228.7522,339.9174,235.58,358.98\" style=\"stroke: #383838; stroke-width: 1.0;\"/><ellipse cx=\"215.8918\" cy=\"343.249\" fill=\"#383838\" rx=\"2\" ry=\"2\" style=\"stroke: #383838; stroke-width: 1.0;\"/><ellipse cx=\"223.5599\" cy=\"336.8303\" fill=\"#383838\" rx=\"2\" ry=\"2\" style=\"stroke: #383838; stroke-width: 1.0;\"/></a><!--MD5=[1fc04a95fd77ad5ce46c1a3027516051]\n",
       "reverse link E9 to E11--><a href=\"psysml:05b52cb0-1bec-4ecb-a4ba-b6e0a5fd36fa\" target=\"_top\" title=\"psysml:05b52cb0-1bec-4ecb-a4ba-b6e0a5fd36fa\" xlink:actuate=\"onRequest\" xlink:href=\"psysml:05b52cb0-1bec-4ecb-a4ba-b6e0a5fd36fa\" xlink:show=\"new\" xlink:title=\"psysml:05b52cb0-1bec-4ecb-a4ba-b6e0a5fd36fa\" xlink:type=\"simple\"><path d=\"M211.34,205.03 C219.37,220.78 228.68,239.06 235.78,252.98 \" fill=\"none\" id=\"E9&lt;-E11\" style=\"stroke: #383838; stroke-width: 1.0;\"/><polygon fill=\"#FFFFFF\" points=\"205.24,193.06,204.3983,200.2218,210.6855,203.7533,211.5272,196.5915,205.24,193.06\" style=\"stroke: #383838; stroke-width: 1.0;\"/><text fill=\"#000000\" font-family=\"sans-serif\" font-size=\"13\" lengthAdjust=\"spacingAndGlyphs\" textLength=\"8\" x=\"223.6896\" y=\"241.8709\">1</text></a><!--MD5=[062ed86c389d1a88f61c6380d0491e17]\n",
       "reverse link E12 to E13--><a href=\"psysml:2ea9f126-2045-475e-98b2-0bebbeaf39ba\" target=\"_top\" title=\"psysml:2ea9f126-2045-475e-98b2-0bebbeaf39ba\" xlink:actuate=\"onRequest\" xlink:href=\"psysml:2ea9f126-2045-475e-98b2-0bebbeaf39ba\" xlink:show=\"new\" xlink:title=\"psysml:2ea9f126-2045-475e-98b2-0bebbeaf39ba\" xlink:type=\"simple\"><path d=\"M80,100.44 C80,115.87 80,133.47 80,146.98 \" fill=\"none\" id=\"E12&lt;-E13\" style=\"stroke: #383838; stroke-width: 1.0;\"/><polygon fill=\"#383838\" points=\"80,87.06,76,93.06,80,99.06,84,93.06,80,87.06\" style=\"stroke: #383838; stroke-width: 1.0;\"/><text fill=\"#000000\" font-family=\"sans-serif\" font-size=\"13\" lengthAdjust=\"spacingAndGlyphs\" textLength=\"8\" x=\"70.925\" y=\"135.8709\">1</text></a><!--MD5=[01db00f33b28669d6d9febea71002831]\n",
       "reverse link E13 to E14--><a href=\"psysml:56644651-1cff-4e4b-add6-5aaf4cbf3323\" target=\"_top\" title=\"psysml:56644651-1cff-4e4b-add6-5aaf4cbf3323\" xlink:actuate=\"onRequest\" xlink:href=\"psysml:56644651-1cff-4e4b-add6-5aaf4cbf3323\" xlink:show=\"new\" xlink:title=\"psysml:56644651-1cff-4e4b-add6-5aaf4cbf3323\" xlink:type=\"simple\"><path d=\"M83.41,206.44 C84.89,221.87 86.58,239.47 87.88,252.98 \" fill=\"none\" id=\"E13&lt;-E14\" style=\"stroke: #383838; stroke-width: 1.0;\"/><polygon fill=\"#FFFFFF\" points=\"82.12,193.06,78.7125,199.4152,83.2683,205.0049,86.6758,198.6497,82.12,193.06\" style=\"stroke: #383838; stroke-width: 1.0;\"/><text fill=\"#000000\" font-family=\"sans-serif\" font-size=\"13\" lengthAdjust=\"spacingAndGlyphs\" textLength=\"8\" x=\"78.2353\" y=\"241.8709\">1</text></a><!--MD5=[e5566ac99d7714697a7fbc17f6b550fe]\n",
       "link E14 to E2--><a href=\"psysml:004f1bd4-f46a-4fc3-b446-5abbd305cc50\" target=\"_top\" title=\"psysml:004f1bd4-f46a-4fc3-b446-5abbd305cc50\" xlink:actuate=\"onRequest\" xlink:href=\"psysml:004f1bd4-f46a-4fc3-b446-5abbd305cc50\" xlink:show=\"new\" xlink:title=\"psysml:004f1bd4-f46a-4fc3-b446-5abbd305cc50\" xlink:type=\"simple\"><path d=\"M111.1,290.38 C134.32,305.1 172.45,329.29 203.49,348.97 \" fill=\"none\" id=\"E14-&gt;E2\" style=\"stroke: #383838; stroke-width: 1.0;\"/><polygon fill=\"#FFFFFF\" points=\"220.77,359.93,200.9767,355.661,208.4774,343.8399,220.77,359.93\" style=\"stroke: #383838; stroke-width: 1.0;\"/><ellipse cx=\"197.2353\" cy=\"350.9184\" fill=\"#383838\" rx=\"2\" ry=\"2\" style=\"stroke: #383838; stroke-width: 1.0;\"/><ellipse cx=\"202.593\" cy=\"342.4748\" fill=\"#383838\" rx=\"2\" ry=\"2\" style=\"stroke: #383838; stroke-width: 1.0;\"/></a><!--MD5=[e9a5e828c71fd2209a11a152f562d491]\n",
       "reverse link E13 to E15--><a href=\"psysml:439c4bcd-5bf6-4395-bbdb-0df2330c2504\" target=\"_top\" title=\"psysml:439c4bcd-5bf6-4395-bbdb-0df2330c2504\" xlink:actuate=\"onRequest\" xlink:href=\"psysml:439c4bcd-5bf6-4395-bbdb-0df2330c2504\" xlink:show=\"new\" xlink:title=\"psysml:439c4bcd-5bf6-4395-bbdb-0df2330c2504\" xlink:type=\"simple\"><path d=\"M64.33,205.31 C54.54,231.09 45,267.26 52,299 C56.73,320.45 67.65,342.96 76.58,358.96 \" fill=\"none\" id=\"E13&lt;-E15\" style=\"stroke: #383838; stroke-width: 1.0;\"/><polygon fill=\"#FFFFFF\" points=\"69.24,193.2,63.2795,197.2586,64.7334,204.3216,70.6939,200.263,69.24,193.2\" style=\"stroke: #383838; stroke-width: 1.0;\"/><text fill=\"#000000\" font-family=\"sans-serif\" font-size=\"13\" lengthAdjust=\"spacingAndGlyphs\" textLength=\"8\" x=\"63.8984\" y=\"347.8455\">1</text></a><!--MD5=[3afbdc645381407e1bc99677323a2513]\n",
       "link E14 to E15--><a href=\"psysml:356465e0-8362-42f7-8017-4c1d57dccd42\" target=\"_top\" title=\"psysml:356465e0-8362-42f7-8017-4c1d57dccd42\" xlink:actuate=\"onRequest\" xlink:href=\"psysml:356465e0-8362-42f7-8017-4c1d57dccd42\" xlink:show=\"new\" xlink:title=\"psysml:356465e0-8362-42f7-8017-4c1d57dccd42\" xlink:type=\"simple\"><path d=\"M79.35,299.06 C76.55,316.7 76.55,341.34 79.36,358.98 \" fill=\"none\" id=\"E14-E15\" style=\"stroke: #383838; stroke-width: 3.0;\"/></a><!--MD5=[3afbdc645381407e1bc99677323a2513]\n",
       "link E14 to E15--><a href=\"psysml:be002053-3eab-4239-b4ec-f62d8ddd6fa6\" target=\"_top\" title=\"psysml:be002053-3eab-4239-b4ec-f62d8ddd6fa6\" xlink:actuate=\"onRequest\" xlink:href=\"psysml:be002053-3eab-4239-b4ec-f62d8ddd6fa6\" xlink:show=\"new\" xlink:title=\"psysml:be002053-3eab-4239-b4ec-f62d8ddd6fa6\" xlink:type=\"simple\"><path d=\"M101.27,299.06 C104.24,316.7 104.24,341.34 101.27,358.98 \" fill=\"none\" id=\"E14-E15-1\" style=\"stroke: #383838; stroke-width: 3.0;\"/></a><!--MD5=[4e526c8bdd62f458069806cab68e1fc2]\n",
       "@startuml\r\n",
       "skinparam monochrome true\r\n",
       "skinparam classbackgroundcolor white\r\n",
       "skinparam shadowing false\r\n",
       "skinparam wrapWidth 300\r\n",
       "hide circle\r\n",
       "\r\n",
       "package \"ConjugationTest\" as E1  [[psysml:811d2e93-771a-4206-9534-119b2782ed8b ]]  {\r\n",
       "comp def \"P\" as E2  <<(T,blue) port def>> [[psysml:a118eece-ff6c-41b4-a8ec-63007fd81e06 ]] {\r\n",
       "}\r\n",
       "comp def \"B\" as E3  <<(T,blue) part def>> [[psysml:45f3428f-90c5-481c-8b5b-6d42a9c9ecb4 ]] {\r\n",
       "}\r\n",
       "comp usage \"p1: P\" as E4  <<(T,blue) port>> [[psysml:f10162e3-9121-4423-8c61-28bf75aadc9a ]] {\r\n",
       "}\r\n",
       "comp usage \"p2: ~P\" as E5  <<(T,blue) port>> [[psysml:f793b08e-b132-4869-8396-6344384571c9 ]] {\r\n",
       "}\r\n",
       "comp def \"A\" as E6  <<(T,blue) connection def>> [[psysml:1e44cf6a-fe6c-483a-98ee-7c5816e24c4f ]] {\r\n",
       "}\r\n",
       "comp usage \"p1: P\" as E7  <<(T,blue) port>> [[psysml:592da980-ebcc-4bfb-b89f-9a898fd7b408 ]] {\r\n",
       "}\r\n",
       "comp usage \"p2: ~P\" as E8  <<(T,blue) port>> [[psysml:4730362b-6892-4b61-8b08-4b1eb3a58a19 ]] {\r\n",
       "}\r\n",
       "comp def \"I\" as E9  <<(T,blue) interface def>> [[psysml:c589f335-4cab-4324-b073-03ca89b55f7d ]] {\r\n",
       "}\r\n",
       "comp usage \"p1: P\" as E10  <<(T,blue) port>> [[psysml:0a18d135-3a15-4f1e-a48b-3983b85e55aa ]] {\r\n",
       "}\r\n",
       "comp usage \"p2: ~P\" as E11  <<(T,blue) port>> [[psysml:f0ebefc1-580e-4b11-b9cf-e3cb40b874a3 ]] {\r\n",
       "}\r\n",
       "comp def \"B1\" as E12  <<(T,blue) part def>> [[psysml:99d6c811-1239-4557-8bf5-512a2d9b51f5 ]] {\r\n",
       "}\r\n",
       "comp usage \"p\" as E13  <<(T,blue) part>> [[psysml:c80e6282-4b88-42a6-beea-d83b68d36327 ]] {\r\n",
       "}\r\n",
       "comp usage \"p1: P\" as E14  <<(T,blue) port>> [[psysml:36fdd18b-cc96-4106-b803-027f179d9fab ]] {\r\n",
       "}\r\n",
       "comp usage \"p2: ~P\" as E15  <<(T,blue) port>> [[psysml:a04d4130-2616-430e-82e5-4df6c3f344d5 ]] {\r\n",
       "}\r\n",
       "}\r\n",
       "E3 o- - \"1\"E4 [[psysml:478537c4-9aea-45e7-93bf-51b2f99f76d0 ]] \r\n",
       "E4 - -:|> E2 [[psysml:9a27f54b-62e8-4ed3-8ffb-179b9354440f ]] \r\n",
       "E3 o- - \"1\"E5 [[psysml:0c237cb0-b529-413c-8aaf-d2f6ce3a1092 ]] \r\n",
       "E6 o- - \"1\"E7 [[psysml:b94a6cc2-6585-4221-b4bd-c6e1360a7593 ]] \r\n",
       "E7 - -:|> E2 [[psysml:6c7ecdb4-3704-4141-b5eb-90be274661d4 ]] \r\n",
       "E6 o- - \"1\"E8 [[psysml:c893fa2e-0043-44e8-be45-2077001790d0 ]] \r\n",
       "E9 o- - \"1\"E10 [[psysml:3723b58c-a4dd-4ef3-9a79-2a659572d83c ]] \r\n",
       "E10 - -:|> E2 [[psysml:8c7a6e5c-2c0e-473c-a2c4-4062964bb416 ]] \r\n",
       "E9 o- - \"1\"E11 [[psysml:05b52cb0-1bec-4ecb-a4ba-b6e0a5fd36fa ]] \r\n",
       "E12 *- - \"1\"E13 [[psysml:2ea9f126-2045-475e-98b2-0bebbeaf39ba ]] \r\n",
       "E13 o- - \"1\"E14 [[psysml:56644651-1cff-4e4b-add6-5aaf4cbf3323 ]] \r\n",
       "E14 - -:|> E2 [[psysml:004f1bd4-f46a-4fc3-b446-5abbd305cc50 ]] \r\n",
       "E13 o- - \"1\"E15 [[psysml:439c4bcd-5bf6-4395-bbdb-0df2330c2504 ]] \r\n",
       "E14 -[thickness=3]- E15 [[psysml:356465e0-8362-42f7-8017-4c1d57dccd42 ]] \r\n",
       "E14 -[thickness=3]- E15 [[psysml:be002053-3eab-4239-b4ec-f62d8ddd6fa6 ]] \r\n",
       "@enduml\r\n",
       "\n",
       "PlantUML version 1.2020.13(Sat Jun 13 12:26:38 UTC 2020)\n",
       "(EPL source distribution)\n",
       "Java Runtime: OpenJDK Runtime Environment\n",
       "JVM: OpenJDK 64-Bit Server VM\n",
       "Default Encoding: UTF-8\n",
       "Language: en\n",
       "Country: null\n",
       "--></g></svg>"
      ]
     },
     "execution_count": 43,
     "metadata": {},
     "output_type": "execute_result"
    }
   ],
   "source": [
    "%viz --style=\"DEFAULT\" --view=\"MIXED\" \"ConjugationTest\""
   ]
  },
  {
   "cell_type": "code",
   "execution_count": 44,
   "id": "f8085110",
   "metadata": {
    "execution": {
     "iopub.execute_input": "2021-10-03T08:28:08.333106Z",
     "iopub.status.busy": "2021-10-03T08:28:08.332500Z",
     "iopub.status.idle": "2021-10-03T08:28:08.380415Z",
     "shell.execute_reply": "2021-10-03T08:28:08.379871Z"
    }
   },
   "outputs": [
    {
     "data": {
      "image/svg+xml": [
       "<?xml version=\"1.0\" encoding=\"UTF-8\" standalone=\"no\"?><svg xmlns=\"http://www.w3.org/2000/svg\" xmlns:xlink=\"http://www.w3.org/1999/xlink\" contentScriptType=\"application/ecmascript\" contentStyleType=\"text/css\" height=\"433px\" preserveAspectRatio=\"none\" style=\"width:629px;height:433px;\" version=\"1.1\" viewBox=\"0 0 629 433\" width=\"629px\" zoomAndPan=\"magnify\"><defs/><g><!--MD5=[fbc87193dbaf4d95561dea2c320d4a47]\n",
       "cluster E1--><a href=\"psysml:811d2e93-771a-4206-9534-119b2782ed8b\" target=\"_top\" title=\"psysml:811d2e93-771a-4206-9534-119b2782ed8b\" xlink:actuate=\"onRequest\" xlink:href=\"psysml:811d2e93-771a-4206-9534-119b2782ed8b\" xlink:show=\"new\" xlink:title=\"psysml:811d2e93-771a-4206-9534-119b2782ed8b\" xlink:type=\"simple\"><polygon fill=\"#FFFFFF\" points=\"16,6,136,6,143,28.2969,607,28.2969,607,421,16,421,16,6\" style=\"stroke: #000000; stroke-width: 1.5;\"/><line style=\"stroke: #000000; stroke-width: 1.5;\" x1=\"16\" x2=\"143\" y1=\"28.2969\" y2=\"28.2969\"/><text fill=\"#000000\" font-family=\"sans-serif\" font-size=\"14\" font-weight=\"bold\" lengthAdjust=\"spacingAndGlyphs\" textLength=\"114\" x=\"20\" y=\"20.9951\">ConjugationTest</text></a><!--MD5=[b4997ac47864f28c2f74865a473b2911]\n",
       "class E2--><a href=\"psysml:a118eece-ff6c-41b4-a8ec-63007fd81e06\" target=\"_top\" title=\"psysml:a118eece-ff6c-41b4-a8ec-63007fd81e06\" xlink:actuate=\"onRequest\" xlink:href=\"psysml:a118eece-ff6c-41b4-a8ec-63007fd81e06\" xlink:show=\"new\" xlink:title=\"psysml:a118eece-ff6c-41b4-a8ec-63007fd81e06\" xlink:type=\"simple\"><rect fill=\"#FFFFFF\" height=\"45.9375\" id=\"E2\" style=\"stroke: #383838; stroke-width: 1.5;\" width=\"66\" x=\"221\" y=\"359\"/><text fill=\"#000000\" font-family=\"sans-serif\" font-size=\"12\" font-style=\"italic\" lengthAdjust=\"spacingAndGlyphs\" textLength=\"64\" x=\"222\" y=\"375.1387\">«port def»</text><text fill=\"#000000\" font-family=\"sans-serif\" font-size=\"12\" lengthAdjust=\"spacingAndGlyphs\" textLength=\"8\" x=\"250\" y=\"389.1074\">P</text><line style=\"stroke: #383838; stroke-width: 1.5;\" x1=\"222\" x2=\"286\" y1=\"396.9375\" y2=\"396.9375\"/></a><!--MD5=[09b614a08d8cba4a07c9adeb5e0fee81]\n",
       "class E3--><a href=\"psysml:45f3428f-90c5-481c-8b5b-6d42a9c9ecb4\" target=\"_top\" title=\"psysml:45f3428f-90c5-481c-8b5b-6d42a9c9ecb4\" xlink:actuate=\"onRequest\" xlink:href=\"psysml:45f3428f-90c5-481c-8b5b-6d42a9c9ecb4\" xlink:show=\"new\" xlink:title=\"psysml:45f3428f-90c5-481c-8b5b-6d42a9c9ecb4\" xlink:type=\"simple\"><rect fill=\"#FFFFFF\" height=\"45.9375\" id=\"E3\" style=\"stroke: #383838; stroke-width: 1.5;\" width=\"66\" x=\"489\" y=\"147\"/><text fill=\"#000000\" font-family=\"sans-serif\" font-size=\"12\" font-style=\"italic\" lengthAdjust=\"spacingAndGlyphs\" textLength=\"64\" x=\"490\" y=\"163.1387\">«part def»</text><text fill=\"#000000\" font-family=\"sans-serif\" font-size=\"12\" lengthAdjust=\"spacingAndGlyphs\" textLength=\"8\" x=\"518\" y=\"177.1074\">B</text><line style=\"stroke: #383838; stroke-width: 1.5;\" x1=\"490\" x2=\"554\" y1=\"184.9375\" y2=\"184.9375\"/></a><!--MD5=[ebbe1d658d1005bcc118a6aa81145e00]\n",
       "class E4--><a href=\"psysml:f10162e3-9121-4423-8c61-28bf75aadc9a\" target=\"_top\" title=\"psysml:f10162e3-9121-4423-8c61-28bf75aadc9a\" xlink:actuate=\"onRequest\" xlink:href=\"psysml:f10162e3-9121-4423-8c61-28bf75aadc9a\" xlink:show=\"new\" xlink:title=\"psysml:f10162e3-9121-4423-8c61-28bf75aadc9a\" xlink:type=\"simple\"><rect fill=\"#FFFFFF\" height=\"45.9375\" id=\"E4\" rx=\"10\" ry=\"10\" style=\"stroke: #383838; stroke-width: 1.5;\" width=\"42\" x=\"466\" y=\"253\"/><text fill=\"#000000\" font-family=\"sans-serif\" font-size=\"12\" font-style=\"italic\" lengthAdjust=\"spacingAndGlyphs\" textLength=\"40\" x=\"467\" y=\"269.1387\">«port»</text><text fill=\"#000000\" font-family=\"sans-serif\" font-size=\"12\" lengthAdjust=\"spacingAndGlyphs\" textLength=\"32\" x=\"471\" y=\"283.1074\">p1: P</text><line style=\"stroke: #383838; stroke-width: 1.5;\" x1=\"467\" x2=\"507\" y1=\"290.9375\" y2=\"290.9375\"/></a><!--MD5=[270fce915f116d4de14055a7c1d9a0f3]\n",
       "class E5--><a href=\"psysml:f793b08e-b132-4869-8396-6344384571c9\" target=\"_top\" title=\"psysml:f793b08e-b132-4869-8396-6344384571c9\" xlink:actuate=\"onRequest\" xlink:href=\"psysml:f793b08e-b132-4869-8396-6344384571c9\" xlink:show=\"new\" xlink:title=\"psysml:f793b08e-b132-4869-8396-6344384571c9\" xlink:type=\"simple\"><rect fill=\"#FFFFFF\" height=\"45.9375\" id=\"E5\" rx=\"10\" ry=\"10\" style=\"stroke: #383838; stroke-width: 1.5;\" width=\"48\" x=\"543\" y=\"253\"/><text fill=\"#000000\" font-family=\"sans-serif\" font-size=\"12\" font-style=\"italic\" lengthAdjust=\"spacingAndGlyphs\" textLength=\"40\" x=\"547\" y=\"269.1387\">«port»</text><text fill=\"#000000\" font-family=\"sans-serif\" font-size=\"12\" lengthAdjust=\"spacingAndGlyphs\" textLength=\"42\" x=\"546\" y=\"283.1074\">p2: ~P</text><line style=\"stroke: #383838; stroke-width: 1.5;\" x1=\"544\" x2=\"590\" y1=\"290.9375\" y2=\"290.9375\"/></a><!--MD5=[60a26617385b1d2d0262a64233df1f8d]\n",
       "class E6--><a href=\"psysml:1e44cf6a-fe6c-483a-98ee-7c5816e24c4f\" target=\"_top\" title=\"psysml:1e44cf6a-fe6c-483a-98ee-7c5816e24c4f\" xlink:actuate=\"onRequest\" xlink:href=\"psysml:1e44cf6a-fe6c-483a-98ee-7c5816e24c4f\" xlink:show=\"new\" xlink:title=\"psysml:1e44cf6a-fe6c-483a-98ee-7c5816e24c4f\" xlink:type=\"simple\"><rect fill=\"#FFFFFF\" height=\"45.9375\" id=\"E6\" style=\"stroke: #383838; stroke-width: 1.5;\" width=\"110\" x=\"282\" y=\"147\"/><text fill=\"#000000\" font-family=\"sans-serif\" font-size=\"12\" font-style=\"italic\" lengthAdjust=\"spacingAndGlyphs\" textLength=\"108\" x=\"283\" y=\"163.1387\">«connection def»</text><text fill=\"#000000\" font-family=\"sans-serif\" font-size=\"12\" lengthAdjust=\"spacingAndGlyphs\" textLength=\"8\" x=\"333\" y=\"177.1074\">A</text><line style=\"stroke: #383838; stroke-width: 1.5;\" x1=\"283\" x2=\"391\" y1=\"184.9375\" y2=\"184.9375\"/></a><!--MD5=[2156ba9850f5573cc1fc38a6a4b2f02b]\n",
       "class E7--><a href=\"psysml:592da980-ebcc-4bfb-b89f-9a898fd7b408\" target=\"_top\" title=\"psysml:592da980-ebcc-4bfb-b89f-9a898fd7b408\" xlink:actuate=\"onRequest\" xlink:href=\"psysml:592da980-ebcc-4bfb-b89f-9a898fd7b408\" xlink:show=\"new\" xlink:title=\"psysml:592da980-ebcc-4bfb-b89f-9a898fd7b408\" xlink:type=\"simple\"><rect fill=\"#FFFFFF\" height=\"45.9375\" id=\"E7\" rx=\"10\" ry=\"10\" style=\"stroke: #383838; stroke-width: 1.5;\" width=\"42\" x=\"306\" y=\"253\"/><text fill=\"#000000\" font-family=\"sans-serif\" font-size=\"12\" font-style=\"italic\" lengthAdjust=\"spacingAndGlyphs\" textLength=\"40\" x=\"307\" y=\"269.1387\">«port»</text><text fill=\"#000000\" font-family=\"sans-serif\" font-size=\"12\" lengthAdjust=\"spacingAndGlyphs\" textLength=\"32\" x=\"311\" y=\"283.1074\">p1: P</text><line style=\"stroke: #383838; stroke-width: 1.5;\" x1=\"307\" x2=\"347\" y1=\"290.9375\" y2=\"290.9375\"/></a><!--MD5=[b9389687b975829384b498ac4b7476b2]\n",
       "class E8--><a href=\"psysml:4730362b-6892-4b61-8b08-4b1eb3a58a19\" target=\"_top\" title=\"psysml:4730362b-6892-4b61-8b08-4b1eb3a58a19\" xlink:actuate=\"onRequest\" xlink:href=\"psysml:4730362b-6892-4b61-8b08-4b1eb3a58a19\" xlink:show=\"new\" xlink:title=\"psysml:4730362b-6892-4b61-8b08-4b1eb3a58a19\" xlink:type=\"simple\"><rect fill=\"#FFFFFF\" height=\"45.9375\" id=\"E8\" rx=\"10\" ry=\"10\" style=\"stroke: #383838; stroke-width: 1.5;\" width=\"48\" x=\"383\" y=\"253\"/><text fill=\"#000000\" font-family=\"sans-serif\" font-size=\"12\" font-style=\"italic\" lengthAdjust=\"spacingAndGlyphs\" textLength=\"40\" x=\"387\" y=\"269.1387\">«port»</text><text fill=\"#000000\" font-family=\"sans-serif\" font-size=\"12\" lengthAdjust=\"spacingAndGlyphs\" textLength=\"42\" x=\"386\" y=\"283.1074\">p2: ~P</text><line style=\"stroke: #383838; stroke-width: 1.5;\" x1=\"384\" x2=\"430\" y1=\"290.9375\" y2=\"290.9375\"/></a><!--MD5=[fd4143e9d270a159db93a4ea2a975926]\n",
       "class E9--><a href=\"psysml:c589f335-4cab-4324-b073-03ca89b55f7d\" target=\"_top\" title=\"psysml:c589f335-4cab-4324-b073-03ca89b55f7d\" xlink:actuate=\"onRequest\" xlink:href=\"psysml:c589f335-4cab-4324-b073-03ca89b55f7d\" xlink:show=\"new\" xlink:title=\"psysml:c589f335-4cab-4324-b073-03ca89b55f7d\" xlink:type=\"simple\"><rect fill=\"#FFFFFF\" height=\"45.9375\" id=\"E9\" style=\"stroke: #383838; stroke-width: 1.5;\" width=\"96\" x=\"146\" y=\"147\"/><text fill=\"#000000\" font-family=\"sans-serif\" font-size=\"12\" font-style=\"italic\" lengthAdjust=\"spacingAndGlyphs\" textLength=\"94\" x=\"147\" y=\"163.1387\">«interface def»</text><text fill=\"#000000\" font-family=\"sans-serif\" font-size=\"12\" lengthAdjust=\"spacingAndGlyphs\" textLength=\"3\" x=\"192.5\" y=\"177.1074\">I</text><line style=\"stroke: #383838; stroke-width: 1.5;\" x1=\"147\" x2=\"241\" y1=\"184.9375\" y2=\"184.9375\"/></a><!--MD5=[96f4274e9e20536e775497830990834d]\n",
       "class E10--><a href=\"psysml:0a18d135-3a15-4f1e-a48b-3983b85e55aa\" target=\"_top\" title=\"psysml:0a18d135-3a15-4f1e-a48b-3983b85e55aa\" xlink:actuate=\"onRequest\" xlink:href=\"psysml:0a18d135-3a15-4f1e-a48b-3983b85e55aa\" xlink:show=\"new\" xlink:title=\"psysml:0a18d135-3a15-4f1e-a48b-3983b85e55aa\" xlink:type=\"simple\"><rect fill=\"#FFFFFF\" height=\"45.9375\" id=\"E10\" rx=\"10\" ry=\"10\" style=\"stroke: #383838; stroke-width: 1.5;\" width=\"42\" x=\"146\" y=\"253\"/><text fill=\"#000000\" font-family=\"sans-serif\" font-size=\"12\" font-style=\"italic\" lengthAdjust=\"spacingAndGlyphs\" textLength=\"40\" x=\"147\" y=\"269.1387\">«port»</text><text fill=\"#000000\" font-family=\"sans-serif\" font-size=\"12\" lengthAdjust=\"spacingAndGlyphs\" textLength=\"32\" x=\"151\" y=\"283.1074\">p1: P</text><line style=\"stroke: #383838; stroke-width: 1.5;\" x1=\"147\" x2=\"187\" y1=\"290.9375\" y2=\"290.9375\"/></a><!--MD5=[1dd1bfd58a279cf63c5f349dbc8fc6a1]\n",
       "class E11--><a href=\"psysml:f0ebefc1-580e-4b11-b9cf-e3cb40b874a3\" target=\"_top\" title=\"psysml:f0ebefc1-580e-4b11-b9cf-e3cb40b874a3\" xlink:actuate=\"onRequest\" xlink:href=\"psysml:f0ebefc1-580e-4b11-b9cf-e3cb40b874a3\" xlink:show=\"new\" xlink:title=\"psysml:f0ebefc1-580e-4b11-b9cf-e3cb40b874a3\" xlink:type=\"simple\"><rect fill=\"#FFFFFF\" height=\"45.9375\" id=\"E11\" rx=\"10\" ry=\"10\" style=\"stroke: #383838; stroke-width: 1.5;\" width=\"48\" x=\"223\" y=\"253\"/><text fill=\"#000000\" font-family=\"sans-serif\" font-size=\"12\" font-style=\"italic\" lengthAdjust=\"spacingAndGlyphs\" textLength=\"40\" x=\"227\" y=\"269.1387\">«port»</text><text fill=\"#000000\" font-family=\"sans-serif\" font-size=\"12\" lengthAdjust=\"spacingAndGlyphs\" textLength=\"42\" x=\"226\" y=\"283.1074\">p2: ~P</text><line style=\"stroke: #383838; stroke-width: 1.5;\" x1=\"224\" x2=\"270\" y1=\"290.9375\" y2=\"290.9375\"/></a><!--MD5=[49a0ec8f00dab7302a31f22d0f0fe584]\n",
       "class E12--><a href=\"psysml:99d6c811-1239-4557-8bf5-512a2d9b51f5\" target=\"_top\" title=\"psysml:99d6c811-1239-4557-8bf5-512a2d9b51f5\" xlink:actuate=\"onRequest\" xlink:href=\"psysml:99d6c811-1239-4557-8bf5-512a2d9b51f5\" xlink:show=\"new\" xlink:title=\"psysml:99d6c811-1239-4557-8bf5-512a2d9b51f5\" xlink:type=\"simple\"><rect fill=\"#FFFFFF\" height=\"45.9375\" id=\"E12\" style=\"stroke: #383838; stroke-width: 1.5;\" width=\"66\" x=\"47\" y=\"41\"/><text fill=\"#000000\" font-family=\"sans-serif\" font-size=\"12\" font-style=\"italic\" lengthAdjust=\"spacingAndGlyphs\" textLength=\"64\" x=\"48\" y=\"57.1387\">«part def»</text><text fill=\"#000000\" font-family=\"sans-serif\" font-size=\"12\" lengthAdjust=\"spacingAndGlyphs\" textLength=\"16\" x=\"72\" y=\"71.1074\">B1</text><line style=\"stroke: #383838; stroke-width: 1.5;\" x1=\"48\" x2=\"112\" y1=\"78.9375\" y2=\"78.9375\"/></a><!--MD5=[ee3c913d1a06f366521f9ef512b67efe]\n",
       "class E13--><a href=\"psysml:c80e6282-4b88-42a6-beea-d83b68d36327\" target=\"_top\" title=\"psysml:c80e6282-4b88-42a6-beea-d83b68d36327\" xlink:actuate=\"onRequest\" xlink:href=\"psysml:c80e6282-4b88-42a6-beea-d83b68d36327\" xlink:show=\"new\" xlink:title=\"psysml:c80e6282-4b88-42a6-beea-d83b68d36327\" xlink:type=\"simple\"><rect fill=\"#FFFFFF\" height=\"45.9375\" id=\"E13\" rx=\"10\" ry=\"10\" style=\"stroke: #383838; stroke-width: 1.5;\" width=\"42\" x=\"59\" y=\"147\"/><text fill=\"#000000\" font-family=\"sans-serif\" font-size=\"12\" font-style=\"italic\" lengthAdjust=\"spacingAndGlyphs\" textLength=\"40\" x=\"60\" y=\"163.1387\">«part»</text><text fill=\"#000000\" font-family=\"sans-serif\" font-size=\"12\" lengthAdjust=\"spacingAndGlyphs\" textLength=\"8\" x=\"76\" y=\"177.1074\">p</text><line style=\"stroke: #383838; stroke-width: 1.5;\" x1=\"60\" x2=\"100\" y1=\"184.9375\" y2=\"184.9375\"/></a><!--MD5=[bee11217b2f71d958a27249dc326068c]\n",
       "class E14--><a href=\"psysml:36fdd18b-cc96-4106-b803-027f179d9fab\" target=\"_top\" title=\"psysml:36fdd18b-cc96-4106-b803-027f179d9fab\" xlink:actuate=\"onRequest\" xlink:href=\"psysml:36fdd18b-cc96-4106-b803-027f179d9fab\" xlink:show=\"new\" xlink:title=\"psysml:36fdd18b-cc96-4106-b803-027f179d9fab\" xlink:type=\"simple\"><rect fill=\"#FFFFFF\" height=\"45.9375\" id=\"E14\" rx=\"10\" ry=\"10\" style=\"stroke: #383838; stroke-width: 1.5;\" width=\"42\" x=\"69\" y=\"253\"/><text fill=\"#000000\" font-family=\"sans-serif\" font-size=\"12\" font-style=\"italic\" lengthAdjust=\"spacingAndGlyphs\" textLength=\"40\" x=\"70\" y=\"269.1387\">«port»</text><text fill=\"#000000\" font-family=\"sans-serif\" font-size=\"12\" lengthAdjust=\"spacingAndGlyphs\" textLength=\"32\" x=\"74\" y=\"283.1074\">p1: P</text><line style=\"stroke: #383838; stroke-width: 1.5;\" x1=\"70\" x2=\"110\" y1=\"290.9375\" y2=\"290.9375\"/></a><!--MD5=[0c48fb7552dae8cbbef69381101a84c8]\n",
       "class E15--><a href=\"psysml:a04d4130-2616-430e-82e5-4df6c3f344d5\" target=\"_top\" title=\"psysml:a04d4130-2616-430e-82e5-4df6c3f344d5\" xlink:actuate=\"onRequest\" xlink:href=\"psysml:a04d4130-2616-430e-82e5-4df6c3f344d5\" xlink:show=\"new\" xlink:title=\"psysml:a04d4130-2616-430e-82e5-4df6c3f344d5\" xlink:type=\"simple\"><rect fill=\"#FFFFFF\" height=\"45.9375\" id=\"E15\" rx=\"10\" ry=\"10\" style=\"stroke: #383838; stroke-width: 1.5;\" width=\"48\" x=\"66\" y=\"359\"/><text fill=\"#000000\" font-family=\"sans-serif\" font-size=\"12\" font-style=\"italic\" lengthAdjust=\"spacingAndGlyphs\" textLength=\"40\" x=\"70\" y=\"375.1387\">«port»</text><text fill=\"#000000\" font-family=\"sans-serif\" font-size=\"12\" lengthAdjust=\"spacingAndGlyphs\" textLength=\"42\" x=\"69\" y=\"389.1074\">p2: ~P</text><line style=\"stroke: #383838; stroke-width: 1.5;\" x1=\"67\" x2=\"113\" y1=\"396.9375\" y2=\"396.9375\"/></a><!--MD5=[4672eba38e49728da53d11aeb285b987]\n",
       "reverse link E3 to E4--><a href=\"psysml:478537c4-9aea-45e7-93bf-51b2f99f76d0\" target=\"_top\" title=\"psysml:478537c4-9aea-45e7-93bf-51b2f99f76d0\" xlink:actuate=\"onRequest\" xlink:href=\"psysml:478537c4-9aea-45e7-93bf-51b2f99f76d0\" xlink:show=\"new\" xlink:title=\"psysml:478537c4-9aea-45e7-93bf-51b2f99f76d0\" xlink:type=\"simple\"><path d=\"M510.39,205.49 C505.12,221.15 499.05,239.19 494.41,252.98 \" fill=\"none\" id=\"E3&lt;-E4\" style=\"stroke: #383838; stroke-width: 1.0;\"/><polygon fill=\"#FFFFFF\" points=\"514.58,193.06,508.8756,197.4713,510.7536,204.4336,516.458,200.0223,514.58,193.06\" style=\"stroke: #383838; stroke-width: 1.0;\"/><text fill=\"#000000\" font-family=\"sans-serif\" font-size=\"13\" lengthAdjust=\"spacingAndGlyphs\" textLength=\"8\" x=\"487.3264\" y=\"241.8709\">1</text></a><!--MD5=[185131fc0dcab0a4505a2ebe144e961b]\n",
       "link E4 to E2--><a href=\"psysml:9a27f54b-62e8-4ed3-8ffb-179b9354440f\" target=\"_top\" title=\"psysml:9a27f54b-62e8-4ed3-8ffb-179b9354440f\" xlink:actuate=\"onRequest\" xlink:href=\"psysml:9a27f54b-62e8-4ed3-8ffb-179b9354440f\" xlink:show=\"new\" xlink:title=\"psysml:9a27f54b-62e8-4ed3-8ffb-179b9354440f\" xlink:type=\"simple\"><path d=\"M465.96,289.82 C460.51,292.96 454.6,296.22 449,299 C401.46,322.64 345.42,345.73 305.65,361.35 \" fill=\"none\" id=\"E4-&gt;E2\" style=\"stroke: #383838; stroke-width: 1.0;\"/><polygon fill=\"#FFFFFF\" points=\"287,368.6,302.1754,355.1945,307.2453,368.2443,287,368.6\" style=\"stroke: #383838; stroke-width: 1.0;\"/><ellipse cx=\"308.2128\" cy=\"354.9946\" fill=\"#383838\" rx=\"2\" ry=\"2\" style=\"stroke: #383838; stroke-width: 1.0;\"/><ellipse cx=\"311.8342\" cy=\"364.3159\" fill=\"#383838\" rx=\"2\" ry=\"2\" style=\"stroke: #383838; stroke-width: 1.0;\"/></a><!--MD5=[191cde3d490a3f6d7bb551fe3ddca469]\n",
       "reverse link E3 to E5--><a href=\"psysml:0c237cb0-b529-413c-8aaf-d2f6ce3a1092\" target=\"_top\" title=\"psysml:0c237cb0-b529-413c-8aaf-d2f6ce3a1092\" xlink:actuate=\"onRequest\" xlink:href=\"psysml:0c237cb0-b529-413c-8aaf-d2f6ce3a1092\" xlink:show=\"new\" xlink:title=\"psysml:0c237cb0-b529-413c-8aaf-d2f6ce3a1092\" xlink:type=\"simple\"><path d=\"M536.72,205.03 C543.54,220.78 551.45,239.06 557.47,252.98 \" fill=\"none\" id=\"E3&lt;-E5\" style=\"stroke: #383838; stroke-width: 1.0;\"/><polygon fill=\"#FFFFFF\" points=\"531.54,193.06,530.2495,200.1547,536.302,204.0747,537.5926,196.98,531.54,193.06\" style=\"stroke: #383838; stroke-width: 1.0;\"/><text fill=\"#000000\" font-family=\"sans-serif\" font-size=\"13\" lengthAdjust=\"spacingAndGlyphs\" textLength=\"8\" x=\"545.8338\" y=\"241.8709\">1</text></a><!--MD5=[3f50a3473f1dfb74d3f76443e03635af]\n",
       "reverse link E6 to E7--><a href=\"psysml:b94a6cc2-6585-4221-b4bd-c6e1360a7593\" target=\"_top\" title=\"psysml:b94a6cc2-6585-4221-b4bd-c6e1360a7593\" xlink:actuate=\"onRequest\" xlink:href=\"psysml:b94a6cc2-6585-4221-b4bd-c6e1360a7593\" xlink:show=\"new\" xlink:title=\"psysml:b94a6cc2-6585-4221-b4bd-c6e1360a7593\" xlink:type=\"simple\"><path d=\"M333.59,206.44 C332.11,221.87 330.42,239.47 329.12,252.98 \" fill=\"none\" id=\"E6&lt;-E7\" style=\"stroke: #383838; stroke-width: 1.0;\"/><polygon fill=\"#FFFFFF\" points=\"334.88,193.06,330.3242,198.6497,333.7317,205.0049,338.2875,199.4152,334.88,193.06\" style=\"stroke: #383838; stroke-width: 1.0;\"/><text fill=\"#000000\" font-family=\"sans-serif\" font-size=\"13\" lengthAdjust=\"spacingAndGlyphs\" textLength=\"8\" x=\"320.6148\" y=\"241.8709\">1</text></a><!--MD5=[583832df87f4419a098336a29a52fa00]\n",
       "link E7 to E2--><a href=\"psysml:6c7ecdb4-3704-4141-b5eb-90be274661d4\" target=\"_top\" title=\"psysml:6c7ecdb4-3704-4141-b5eb-90be274661d4\" xlink:actuate=\"onRequest\" xlink:href=\"psysml:6c7ecdb4-3704-4141-b5eb-90be274661d4\" xlink:show=\"new\" xlink:title=\"psysml:6c7ecdb4-3704-4141-b5eb-90be274661d4\" xlink:type=\"simple\"><path d=\"M311.52,299.06 C302.71,311.6 291.43,327.68 281.19,342.26 \" fill=\"none\" id=\"E7-&gt;E2\" style=\"stroke: #383838; stroke-width: 1.0;\"/><polygon fill=\"#FFFFFF\" points=\"269.46,358.98,274.6532,339.4088,286.1093,347.4561,269.46,358.98\" style=\"stroke: #383838; stroke-width: 1.0;\"/><ellipse cx=\"279.5662\" cy=\"335.8942\" fill=\"#383838\" rx=\"2\" ry=\"2\" style=\"stroke: #383838; stroke-width: 1.0;\"/><ellipse cx=\"287.7491\" cy=\"341.6422\" fill=\"#383838\" rx=\"2\" ry=\"2\" style=\"stroke: #383838; stroke-width: 1.0;\"/></a><!--MD5=[f4cf0736d43fd73c4ef68817c49d37d5]\n",
       "reverse link E6 to E8--><a href=\"psysml:c893fa2e-0043-44e8-be45-2077001790d0\" target=\"_top\" title=\"psysml:c893fa2e-0043-44e8-be45-2077001790d0\" xlink:actuate=\"onRequest\" xlink:href=\"psysml:c893fa2e-0043-44e8-be45-2077001790d0\" xlink:show=\"new\" xlink:title=\"psysml:c893fa2e-0043-44e8-be45-2077001790d0\" xlink:type=\"simple\"><path d=\"M359.27,204.09 C370.02,220.06 382.62,238.78 392.18,252.98 \" fill=\"none\" id=\"E6&lt;-E8\" style=\"stroke: #383838; stroke-width: 1.0;\"/><polygon fill=\"#FFFFFF\" points=\"351.85,193.06,351.8808,200.271,358.5489,203.0161,358.5182,195.8051,351.85,193.06\" style=\"stroke: #383838; stroke-width: 1.0;\"/><text fill=\"#000000\" font-family=\"sans-serif\" font-size=\"13\" lengthAdjust=\"spacingAndGlyphs\" textLength=\"8\" x=\"379.1221\" y=\"241.8709\">1</text></a><!--MD5=[23ac544a70576c3e717098101004234c]\n",
       "reverse link E9 to E10--><a href=\"psysml:3723b58c-a4dd-4ef3-9a79-2a659572d83c\" target=\"_top\" title=\"psysml:3723b58c-a4dd-4ef3-9a79-2a659572d83c\" xlink:actuate=\"onRequest\" xlink:href=\"psysml:3723b58c-a4dd-4ef3-9a79-2a659572d83c\" xlink:show=\"new\" xlink:title=\"psysml:3723b58c-a4dd-4ef3-9a79-2a659572d83c\" xlink:type=\"simple\"><path d=\"M184.92,205.96 C180.89,221.51 176.26,239.33 172.72,252.98 \" fill=\"none\" id=\"E9&lt;-E10\" style=\"stroke: #383838; stroke-width: 1.0;\"/><polygon fill=\"#FFFFFF\" points=\"188.27,193.06,182.8943,197.8665,185.2635,204.6773,190.6392,199.8708,188.27,193.06\" style=\"stroke: #383838; stroke-width: 1.0;\"/><text fill=\"#000000\" font-family=\"sans-serif\" font-size=\"13\" lengthAdjust=\"spacingAndGlyphs\" textLength=\"8\" x=\"165.1823\" y=\"241.8709\">1</text></a><!--MD5=[0f36bececdf0dff6e600d6f64214b0f1]\n",
       "link E10 to E2--><a href=\"psysml:8c7a6e5c-2c0e-473c-a2c4-4062964bb416\" target=\"_top\" title=\"psysml:8c7a6e5c-2c0e-473c-a2c4-4062964bb416\" xlink:actuate=\"onRequest\" xlink:href=\"psysml:8c7a6e5c-2c0e-473c-a2c4-4062964bb416\" xlink:show=\"new\" xlink:title=\"psysml:8c7a6e5c-2c0e-473c-a2c4-4062964bb416\" xlink:type=\"simple\"><path d=\"M185.45,299.06 C196.18,311.88 209.99,328.39 222.4,343.22 \" fill=\"none\" id=\"E10-&gt;E2\" style=\"stroke: #383838; stroke-width: 1.0;\"/><polygon fill=\"#FFFFFF\" points=\"235.58,358.98,218.0168,348.9036,228.7522,339.9174,235.58,358.98\" style=\"stroke: #383838; stroke-width: 1.0;\"/><ellipse cx=\"215.8918\" cy=\"343.249\" fill=\"#383838\" rx=\"2\" ry=\"2\" style=\"stroke: #383838; stroke-width: 1.0;\"/><ellipse cx=\"223.5599\" cy=\"336.8303\" fill=\"#383838\" rx=\"2\" ry=\"2\" style=\"stroke: #383838; stroke-width: 1.0;\"/></a><!--MD5=[1fc04a95fd77ad5ce46c1a3027516051]\n",
       "reverse link E9 to E11--><a href=\"psysml:05b52cb0-1bec-4ecb-a4ba-b6e0a5fd36fa\" target=\"_top\" title=\"psysml:05b52cb0-1bec-4ecb-a4ba-b6e0a5fd36fa\" xlink:actuate=\"onRequest\" xlink:href=\"psysml:05b52cb0-1bec-4ecb-a4ba-b6e0a5fd36fa\" xlink:show=\"new\" xlink:title=\"psysml:05b52cb0-1bec-4ecb-a4ba-b6e0a5fd36fa\" xlink:type=\"simple\"><path d=\"M211.34,205.03 C219.37,220.78 228.68,239.06 235.78,252.98 \" fill=\"none\" id=\"E9&lt;-E11\" style=\"stroke: #383838; stroke-width: 1.0;\"/><polygon fill=\"#FFFFFF\" points=\"205.24,193.06,204.3983,200.2218,210.6855,203.7533,211.5272,196.5915,205.24,193.06\" style=\"stroke: #383838; stroke-width: 1.0;\"/><text fill=\"#000000\" font-family=\"sans-serif\" font-size=\"13\" lengthAdjust=\"spacingAndGlyphs\" textLength=\"8\" x=\"223.6896\" y=\"241.8709\">1</text></a><!--MD5=[062ed86c389d1a88f61c6380d0491e17]\n",
       "reverse link E12 to E13--><a href=\"psysml:2ea9f126-2045-475e-98b2-0bebbeaf39ba\" target=\"_top\" title=\"psysml:2ea9f126-2045-475e-98b2-0bebbeaf39ba\" xlink:actuate=\"onRequest\" xlink:href=\"psysml:2ea9f126-2045-475e-98b2-0bebbeaf39ba\" xlink:show=\"new\" xlink:title=\"psysml:2ea9f126-2045-475e-98b2-0bebbeaf39ba\" xlink:type=\"simple\"><path d=\"M80,100.44 C80,115.87 80,133.47 80,146.98 \" fill=\"none\" id=\"E12&lt;-E13\" style=\"stroke: #383838; stroke-width: 1.0;\"/><polygon fill=\"#383838\" points=\"80,87.06,76,93.06,80,99.06,84,93.06,80,87.06\" style=\"stroke: #383838; stroke-width: 1.0;\"/><text fill=\"#000000\" font-family=\"sans-serif\" font-size=\"13\" lengthAdjust=\"spacingAndGlyphs\" textLength=\"8\" x=\"70.925\" y=\"135.8709\">1</text></a><!--MD5=[01db00f33b28669d6d9febea71002831]\n",
       "reverse link E13 to E14--><a href=\"psysml:56644651-1cff-4e4b-add6-5aaf4cbf3323\" target=\"_top\" title=\"psysml:56644651-1cff-4e4b-add6-5aaf4cbf3323\" xlink:actuate=\"onRequest\" xlink:href=\"psysml:56644651-1cff-4e4b-add6-5aaf4cbf3323\" xlink:show=\"new\" xlink:title=\"psysml:56644651-1cff-4e4b-add6-5aaf4cbf3323\" xlink:type=\"simple\"><path d=\"M83.41,206.44 C84.89,221.87 86.58,239.47 87.88,252.98 \" fill=\"none\" id=\"E13&lt;-E14\" style=\"stroke: #383838; stroke-width: 1.0;\"/><polygon fill=\"#FFFFFF\" points=\"82.12,193.06,78.7125,199.4152,83.2683,205.0049,86.6758,198.6497,82.12,193.06\" style=\"stroke: #383838; stroke-width: 1.0;\"/><text fill=\"#000000\" font-family=\"sans-serif\" font-size=\"13\" lengthAdjust=\"spacingAndGlyphs\" textLength=\"8\" x=\"78.2353\" y=\"241.8709\">1</text></a><!--MD5=[e5566ac99d7714697a7fbc17f6b550fe]\n",
       "link E14 to E2--><a href=\"psysml:004f1bd4-f46a-4fc3-b446-5abbd305cc50\" target=\"_top\" title=\"psysml:004f1bd4-f46a-4fc3-b446-5abbd305cc50\" xlink:actuate=\"onRequest\" xlink:href=\"psysml:004f1bd4-f46a-4fc3-b446-5abbd305cc50\" xlink:show=\"new\" xlink:title=\"psysml:004f1bd4-f46a-4fc3-b446-5abbd305cc50\" xlink:type=\"simple\"><path d=\"M111.1,290.38 C134.32,305.1 172.45,329.29 203.49,348.97 \" fill=\"none\" id=\"E14-&gt;E2\" style=\"stroke: #383838; stroke-width: 1.0;\"/><polygon fill=\"#FFFFFF\" points=\"220.77,359.93,200.9767,355.661,208.4774,343.8399,220.77,359.93\" style=\"stroke: #383838; stroke-width: 1.0;\"/><ellipse cx=\"197.2353\" cy=\"350.9184\" fill=\"#383838\" rx=\"2\" ry=\"2\" style=\"stroke: #383838; stroke-width: 1.0;\"/><ellipse cx=\"202.593\" cy=\"342.4748\" fill=\"#383838\" rx=\"2\" ry=\"2\" style=\"stroke: #383838; stroke-width: 1.0;\"/></a><!--MD5=[e9a5e828c71fd2209a11a152f562d491]\n",
       "reverse link E13 to E15--><a href=\"psysml:439c4bcd-5bf6-4395-bbdb-0df2330c2504\" target=\"_top\" title=\"psysml:439c4bcd-5bf6-4395-bbdb-0df2330c2504\" xlink:actuate=\"onRequest\" xlink:href=\"psysml:439c4bcd-5bf6-4395-bbdb-0df2330c2504\" xlink:show=\"new\" xlink:title=\"psysml:439c4bcd-5bf6-4395-bbdb-0df2330c2504\" xlink:type=\"simple\"><path d=\"M64.33,205.31 C54.54,231.09 45,267.26 52,299 C56.73,320.45 67.65,342.96 76.58,358.96 \" fill=\"none\" id=\"E13&lt;-E15\" style=\"stroke: #383838; stroke-width: 1.0;\"/><polygon fill=\"#FFFFFF\" points=\"69.24,193.2,63.2795,197.2586,64.7334,204.3216,70.6939,200.263,69.24,193.2\" style=\"stroke: #383838; stroke-width: 1.0;\"/><text fill=\"#000000\" font-family=\"sans-serif\" font-size=\"13\" lengthAdjust=\"spacingAndGlyphs\" textLength=\"8\" x=\"63.8984\" y=\"347.8455\">1</text></a><!--MD5=[3afbdc645381407e1bc99677323a2513]\n",
       "link E14 to E15--><a href=\"psysml:356465e0-8362-42f7-8017-4c1d57dccd42\" target=\"_top\" title=\"psysml:356465e0-8362-42f7-8017-4c1d57dccd42\" xlink:actuate=\"onRequest\" xlink:href=\"psysml:356465e0-8362-42f7-8017-4c1d57dccd42\" xlink:show=\"new\" xlink:title=\"psysml:356465e0-8362-42f7-8017-4c1d57dccd42\" xlink:type=\"simple\"><path d=\"M79.35,299.06 C76.55,316.7 76.55,341.34 79.36,358.98 \" fill=\"none\" id=\"E14-E15\" style=\"stroke: #383838; stroke-width: 3.0;\"/></a><!--MD5=[3afbdc645381407e1bc99677323a2513]\n",
       "link E14 to E15--><a href=\"psysml:be002053-3eab-4239-b4ec-f62d8ddd6fa6\" target=\"_top\" title=\"psysml:be002053-3eab-4239-b4ec-f62d8ddd6fa6\" xlink:actuate=\"onRequest\" xlink:href=\"psysml:be002053-3eab-4239-b4ec-f62d8ddd6fa6\" xlink:show=\"new\" xlink:title=\"psysml:be002053-3eab-4239-b4ec-f62d8ddd6fa6\" xlink:type=\"simple\"><path d=\"M101.27,299.06 C104.24,316.7 104.24,341.34 101.27,358.98 \" fill=\"none\" id=\"E14-E15-1\" style=\"stroke: #383838; stroke-width: 3.0;\"/></a><!--MD5=[2d26c13053264d305fc8f4b4f9060800]\n",
       "@startuml\r\n",
       "top to bottom direction\r\n",
       "skinparam monochrome true\r\n",
       "skinparam classbackgroundcolor white\r\n",
       "skinparam shadowing false\r\n",
       "skinparam wrapWidth 300\r\n",
       "hide circle\r\n",
       "\r\n",
       "package \"ConjugationTest\" as E1  [[psysml:811d2e93-771a-4206-9534-119b2782ed8b ]]  {\r\n",
       "comp def \"P\" as E2  <<(T,blue) port def>> [[psysml:a118eece-ff6c-41b4-a8ec-63007fd81e06 ]] {\r\n",
       "}\r\n",
       "comp def \"B\" as E3  <<(T,blue) part def>> [[psysml:45f3428f-90c5-481c-8b5b-6d42a9c9ecb4 ]] {\r\n",
       "}\r\n",
       "comp usage \"p1: P\" as E4  <<(T,blue) port>> [[psysml:f10162e3-9121-4423-8c61-28bf75aadc9a ]] {\r\n",
       "}\r\n",
       "comp usage \"p2: ~P\" as E5  <<(T,blue) port>> [[psysml:f793b08e-b132-4869-8396-6344384571c9 ]] {\r\n",
       "}\r\n",
       "comp def \"A\" as E6  <<(T,blue) connection def>> [[psysml:1e44cf6a-fe6c-483a-98ee-7c5816e24c4f ]] {\r\n",
       "}\r\n",
       "comp usage \"p1: P\" as E7  <<(T,blue) port>> [[psysml:592da980-ebcc-4bfb-b89f-9a898fd7b408 ]] {\r\n",
       "}\r\n",
       "comp usage \"p2: ~P\" as E8  <<(T,blue) port>> [[psysml:4730362b-6892-4b61-8b08-4b1eb3a58a19 ]] {\r\n",
       "}\r\n",
       "comp def \"I\" as E9  <<(T,blue) interface def>> [[psysml:c589f335-4cab-4324-b073-03ca89b55f7d ]] {\r\n",
       "}\r\n",
       "comp usage \"p1: P\" as E10  <<(T,blue) port>> [[psysml:0a18d135-3a15-4f1e-a48b-3983b85e55aa ]] {\r\n",
       "}\r\n",
       "comp usage \"p2: ~P\" as E11  <<(T,blue) port>> [[psysml:f0ebefc1-580e-4b11-b9cf-e3cb40b874a3 ]] {\r\n",
       "}\r\n",
       "comp def \"B1\" as E12  <<(T,blue) part def>> [[psysml:99d6c811-1239-4557-8bf5-512a2d9b51f5 ]] {\r\n",
       "}\r\n",
       "comp usage \"p\" as E13  <<(T,blue) part>> [[psysml:c80e6282-4b88-42a6-beea-d83b68d36327 ]] {\r\n",
       "}\r\n",
       "comp usage \"p1: P\" as E14  <<(T,blue) port>> [[psysml:36fdd18b-cc96-4106-b803-027f179d9fab ]] {\r\n",
       "}\r\n",
       "comp usage \"p2: ~P\" as E15  <<(T,blue) port>> [[psysml:a04d4130-2616-430e-82e5-4df6c3f344d5 ]] {\r\n",
       "}\r\n",
       "}\r\n",
       "E3 o- - \"1\"E4 [[psysml:478537c4-9aea-45e7-93bf-51b2f99f76d0 ]] \r\n",
       "E4 - -:|> E2 [[psysml:9a27f54b-62e8-4ed3-8ffb-179b9354440f ]] \r\n",
       "E3 o- - \"1\"E5 [[psysml:0c237cb0-b529-413c-8aaf-d2f6ce3a1092 ]] \r\n",
       "E6 o- - \"1\"E7 [[psysml:b94a6cc2-6585-4221-b4bd-c6e1360a7593 ]] \r\n",
       "E7 - -:|> E2 [[psysml:6c7ecdb4-3704-4141-b5eb-90be274661d4 ]] \r\n",
       "E6 o- - \"1\"E8 [[psysml:c893fa2e-0043-44e8-be45-2077001790d0 ]] \r\n",
       "E9 o- - \"1\"E10 [[psysml:3723b58c-a4dd-4ef3-9a79-2a659572d83c ]] \r\n",
       "E10 - -:|> E2 [[psysml:8c7a6e5c-2c0e-473c-a2c4-4062964bb416 ]] \r\n",
       "E9 o- - \"1\"E11 [[psysml:05b52cb0-1bec-4ecb-a4ba-b6e0a5fd36fa ]] \r\n",
       "E12 *- - \"1\"E13 [[psysml:2ea9f126-2045-475e-98b2-0bebbeaf39ba ]] \r\n",
       "E13 o- - \"1\"E14 [[psysml:56644651-1cff-4e4b-add6-5aaf4cbf3323 ]] \r\n",
       "E14 - -:|> E2 [[psysml:004f1bd4-f46a-4fc3-b446-5abbd305cc50 ]] \r\n",
       "E13 o- - \"1\"E15 [[psysml:439c4bcd-5bf6-4395-bbdb-0df2330c2504 ]] \r\n",
       "E14 -[thickness=3]- E15 [[psysml:356465e0-8362-42f7-8017-4c1d57dccd42 ]] \r\n",
       "E14 -[thickness=3]- E15 [[psysml:be002053-3eab-4239-b4ec-f62d8ddd6fa6 ]] \r\n",
       "@enduml\r\n",
       "\n",
       "PlantUML version 1.2020.13(Sat Jun 13 12:26:38 UTC 2020)\n",
       "(EPL source distribution)\n",
       "Java Runtime: OpenJDK Runtime Environment\n",
       "JVM: OpenJDK 64-Bit Server VM\n",
       "Default Encoding: UTF-8\n",
       "Language: en\n",
       "Country: null\n",
       "--></g></svg>"
      ]
     },
     "execution_count": 44,
     "metadata": {},
     "output_type": "execute_result"
    }
   ],
   "source": [
    "%viz --style=\"TB\" --view=\"Default\" \"ConjugationTest\""
   ]
  },
  {
   "cell_type": "code",
   "execution_count": 45,
   "id": "9be801ff",
   "metadata": {
    "execution": {
     "iopub.execute_input": "2021-10-03T08:28:08.428187Z",
     "iopub.status.busy": "2021-10-03T08:28:08.427869Z",
     "iopub.status.idle": "2021-10-03T08:28:08.476877Z",
     "shell.execute_reply": "2021-10-03T08:28:08.475350Z"
    }
   },
   "outputs": [
    {
     "data": {
      "image/svg+xml": [
       "<?xml version=\"1.0\" encoding=\"UTF-8\" standalone=\"no\"?><svg xmlns=\"http://www.w3.org/2000/svg\" xmlns:xlink=\"http://www.w3.org/1999/xlink\" contentScriptType=\"application/ecmascript\" contentStyleType=\"text/css\" height=\"433px\" preserveAspectRatio=\"none\" style=\"width:629px;height:433px;\" version=\"1.1\" viewBox=\"0 0 629 433\" width=\"629px\" zoomAndPan=\"magnify\"><defs/><g><!--MD5=[fbc87193dbaf4d95561dea2c320d4a47]\n",
       "cluster E1--><a href=\"psysml:811d2e93-771a-4206-9534-119b2782ed8b\" target=\"_top\" title=\"psysml:811d2e93-771a-4206-9534-119b2782ed8b\" xlink:actuate=\"onRequest\" xlink:href=\"psysml:811d2e93-771a-4206-9534-119b2782ed8b\" xlink:show=\"new\" xlink:title=\"psysml:811d2e93-771a-4206-9534-119b2782ed8b\" xlink:type=\"simple\"><polygon fill=\"#FFFFFF\" points=\"16,6,136,6,143,28.2969,607,28.2969,607,421,16,421,16,6\" style=\"stroke: #000000; stroke-width: 1.5;\"/><line style=\"stroke: #000000; stroke-width: 1.5;\" x1=\"16\" x2=\"143\" y1=\"28.2969\" y2=\"28.2969\"/><text fill=\"#000000\" font-family=\"sans-serif\" font-size=\"14\" font-weight=\"bold\" lengthAdjust=\"spacingAndGlyphs\" textLength=\"114\" x=\"20\" y=\"20.9951\">ConjugationTest</text></a><!--MD5=[b4997ac47864f28c2f74865a473b2911]\n",
       "class E2--><a href=\"psysml:a118eece-ff6c-41b4-a8ec-63007fd81e06\" target=\"_top\" title=\"psysml:a118eece-ff6c-41b4-a8ec-63007fd81e06\" xlink:actuate=\"onRequest\" xlink:href=\"psysml:a118eece-ff6c-41b4-a8ec-63007fd81e06\" xlink:show=\"new\" xlink:title=\"psysml:a118eece-ff6c-41b4-a8ec-63007fd81e06\" xlink:type=\"simple\"><rect fill=\"#FFFFFF\" height=\"45.9375\" id=\"E2\" style=\"stroke: #383838; stroke-width: 1.5;\" width=\"66\" x=\"221\" y=\"359\"/><text fill=\"#000000\" font-family=\"sans-serif\" font-size=\"12\" font-style=\"italic\" lengthAdjust=\"spacingAndGlyphs\" textLength=\"64\" x=\"222\" y=\"375.1387\">«port def»</text><text fill=\"#000000\" font-family=\"sans-serif\" font-size=\"12\" lengthAdjust=\"spacingAndGlyphs\" textLength=\"8\" x=\"250\" y=\"389.1074\">P</text><line style=\"stroke: #383838; stroke-width: 1.5;\" x1=\"222\" x2=\"286\" y1=\"396.9375\" y2=\"396.9375\"/></a><!--MD5=[09b614a08d8cba4a07c9adeb5e0fee81]\n",
       "class E3--><a href=\"psysml:45f3428f-90c5-481c-8b5b-6d42a9c9ecb4\" target=\"_top\" title=\"psysml:45f3428f-90c5-481c-8b5b-6d42a9c9ecb4\" xlink:actuate=\"onRequest\" xlink:href=\"psysml:45f3428f-90c5-481c-8b5b-6d42a9c9ecb4\" xlink:show=\"new\" xlink:title=\"psysml:45f3428f-90c5-481c-8b5b-6d42a9c9ecb4\" xlink:type=\"simple\"><rect fill=\"#FFFFFF\" height=\"45.9375\" id=\"E3\" style=\"stroke: #383838; stroke-width: 1.5;\" width=\"66\" x=\"489\" y=\"147\"/><text fill=\"#000000\" font-family=\"sans-serif\" font-size=\"12\" font-style=\"italic\" lengthAdjust=\"spacingAndGlyphs\" textLength=\"64\" x=\"490\" y=\"163.1387\">«part def»</text><text fill=\"#000000\" font-family=\"sans-serif\" font-size=\"12\" lengthAdjust=\"spacingAndGlyphs\" textLength=\"8\" x=\"518\" y=\"177.1074\">B</text><line style=\"stroke: #383838; stroke-width: 1.5;\" x1=\"490\" x2=\"554\" y1=\"184.9375\" y2=\"184.9375\"/></a><!--MD5=[ebbe1d658d1005bcc118a6aa81145e00]\n",
       "class E4--><a href=\"psysml:f10162e3-9121-4423-8c61-28bf75aadc9a\" target=\"_top\" title=\"psysml:f10162e3-9121-4423-8c61-28bf75aadc9a\" xlink:actuate=\"onRequest\" xlink:href=\"psysml:f10162e3-9121-4423-8c61-28bf75aadc9a\" xlink:show=\"new\" xlink:title=\"psysml:f10162e3-9121-4423-8c61-28bf75aadc9a\" xlink:type=\"simple\"><rect fill=\"#FFFFFF\" height=\"45.9375\" id=\"E4\" rx=\"10\" ry=\"10\" style=\"stroke: #383838; stroke-width: 1.5;\" width=\"42\" x=\"466\" y=\"253\"/><text fill=\"#000000\" font-family=\"sans-serif\" font-size=\"12\" font-style=\"italic\" lengthAdjust=\"spacingAndGlyphs\" textLength=\"40\" x=\"467\" y=\"269.1387\">«port»</text><text fill=\"#000000\" font-family=\"sans-serif\" font-size=\"12\" lengthAdjust=\"spacingAndGlyphs\" textLength=\"32\" x=\"471\" y=\"283.1074\">p1: P</text><line style=\"stroke: #383838; stroke-width: 1.5;\" x1=\"467\" x2=\"507\" y1=\"290.9375\" y2=\"290.9375\"/></a><!--MD5=[270fce915f116d4de14055a7c1d9a0f3]\n",
       "class E5--><a href=\"psysml:f793b08e-b132-4869-8396-6344384571c9\" target=\"_top\" title=\"psysml:f793b08e-b132-4869-8396-6344384571c9\" xlink:actuate=\"onRequest\" xlink:href=\"psysml:f793b08e-b132-4869-8396-6344384571c9\" xlink:show=\"new\" xlink:title=\"psysml:f793b08e-b132-4869-8396-6344384571c9\" xlink:type=\"simple\"><rect fill=\"#FFFFFF\" height=\"45.9375\" id=\"E5\" rx=\"10\" ry=\"10\" style=\"stroke: #383838; stroke-width: 1.5;\" width=\"48\" x=\"543\" y=\"253\"/><text fill=\"#000000\" font-family=\"sans-serif\" font-size=\"12\" font-style=\"italic\" lengthAdjust=\"spacingAndGlyphs\" textLength=\"40\" x=\"547\" y=\"269.1387\">«port»</text><text fill=\"#000000\" font-family=\"sans-serif\" font-size=\"12\" lengthAdjust=\"spacingAndGlyphs\" textLength=\"42\" x=\"546\" y=\"283.1074\">p2: ~P</text><line style=\"stroke: #383838; stroke-width: 1.5;\" x1=\"544\" x2=\"590\" y1=\"290.9375\" y2=\"290.9375\"/></a><!--MD5=[60a26617385b1d2d0262a64233df1f8d]\n",
       "class E6--><a href=\"psysml:1e44cf6a-fe6c-483a-98ee-7c5816e24c4f\" target=\"_top\" title=\"psysml:1e44cf6a-fe6c-483a-98ee-7c5816e24c4f\" xlink:actuate=\"onRequest\" xlink:href=\"psysml:1e44cf6a-fe6c-483a-98ee-7c5816e24c4f\" xlink:show=\"new\" xlink:title=\"psysml:1e44cf6a-fe6c-483a-98ee-7c5816e24c4f\" xlink:type=\"simple\"><rect fill=\"#FFFFFF\" height=\"45.9375\" id=\"E6\" style=\"stroke: #383838; stroke-width: 1.5;\" width=\"110\" x=\"282\" y=\"147\"/><text fill=\"#000000\" font-family=\"sans-serif\" font-size=\"12\" font-style=\"italic\" lengthAdjust=\"spacingAndGlyphs\" textLength=\"108\" x=\"283\" y=\"163.1387\">«connection def»</text><text fill=\"#000000\" font-family=\"sans-serif\" font-size=\"12\" lengthAdjust=\"spacingAndGlyphs\" textLength=\"8\" x=\"333\" y=\"177.1074\">A</text><line style=\"stroke: #383838; stroke-width: 1.5;\" x1=\"283\" x2=\"391\" y1=\"184.9375\" y2=\"184.9375\"/></a><!--MD5=[2156ba9850f5573cc1fc38a6a4b2f02b]\n",
       "class E7--><a href=\"psysml:592da980-ebcc-4bfb-b89f-9a898fd7b408\" target=\"_top\" title=\"psysml:592da980-ebcc-4bfb-b89f-9a898fd7b408\" xlink:actuate=\"onRequest\" xlink:href=\"psysml:592da980-ebcc-4bfb-b89f-9a898fd7b408\" xlink:show=\"new\" xlink:title=\"psysml:592da980-ebcc-4bfb-b89f-9a898fd7b408\" xlink:type=\"simple\"><rect fill=\"#FFFFFF\" height=\"45.9375\" id=\"E7\" rx=\"10\" ry=\"10\" style=\"stroke: #383838; stroke-width: 1.5;\" width=\"42\" x=\"306\" y=\"253\"/><text fill=\"#000000\" font-family=\"sans-serif\" font-size=\"12\" font-style=\"italic\" lengthAdjust=\"spacingAndGlyphs\" textLength=\"40\" x=\"307\" y=\"269.1387\">«port»</text><text fill=\"#000000\" font-family=\"sans-serif\" font-size=\"12\" lengthAdjust=\"spacingAndGlyphs\" textLength=\"32\" x=\"311\" y=\"283.1074\">p1: P</text><line style=\"stroke: #383838; stroke-width: 1.5;\" x1=\"307\" x2=\"347\" y1=\"290.9375\" y2=\"290.9375\"/></a><!--MD5=[b9389687b975829384b498ac4b7476b2]\n",
       "class E8--><a href=\"psysml:4730362b-6892-4b61-8b08-4b1eb3a58a19\" target=\"_top\" title=\"psysml:4730362b-6892-4b61-8b08-4b1eb3a58a19\" xlink:actuate=\"onRequest\" xlink:href=\"psysml:4730362b-6892-4b61-8b08-4b1eb3a58a19\" xlink:show=\"new\" xlink:title=\"psysml:4730362b-6892-4b61-8b08-4b1eb3a58a19\" xlink:type=\"simple\"><rect fill=\"#FFFFFF\" height=\"45.9375\" id=\"E8\" rx=\"10\" ry=\"10\" style=\"stroke: #383838; stroke-width: 1.5;\" width=\"48\" x=\"383\" y=\"253\"/><text fill=\"#000000\" font-family=\"sans-serif\" font-size=\"12\" font-style=\"italic\" lengthAdjust=\"spacingAndGlyphs\" textLength=\"40\" x=\"387\" y=\"269.1387\">«port»</text><text fill=\"#000000\" font-family=\"sans-serif\" font-size=\"12\" lengthAdjust=\"spacingAndGlyphs\" textLength=\"42\" x=\"386\" y=\"283.1074\">p2: ~P</text><line style=\"stroke: #383838; stroke-width: 1.5;\" x1=\"384\" x2=\"430\" y1=\"290.9375\" y2=\"290.9375\"/></a><!--MD5=[fd4143e9d270a159db93a4ea2a975926]\n",
       "class E9--><a href=\"psysml:c589f335-4cab-4324-b073-03ca89b55f7d\" target=\"_top\" title=\"psysml:c589f335-4cab-4324-b073-03ca89b55f7d\" xlink:actuate=\"onRequest\" xlink:href=\"psysml:c589f335-4cab-4324-b073-03ca89b55f7d\" xlink:show=\"new\" xlink:title=\"psysml:c589f335-4cab-4324-b073-03ca89b55f7d\" xlink:type=\"simple\"><rect fill=\"#FFFFFF\" height=\"45.9375\" id=\"E9\" style=\"stroke: #383838; stroke-width: 1.5;\" width=\"96\" x=\"146\" y=\"147\"/><text fill=\"#000000\" font-family=\"sans-serif\" font-size=\"12\" font-style=\"italic\" lengthAdjust=\"spacingAndGlyphs\" textLength=\"94\" x=\"147\" y=\"163.1387\">«interface def»</text><text fill=\"#000000\" font-family=\"sans-serif\" font-size=\"12\" lengthAdjust=\"spacingAndGlyphs\" textLength=\"3\" x=\"192.5\" y=\"177.1074\">I</text><line style=\"stroke: #383838; stroke-width: 1.5;\" x1=\"147\" x2=\"241\" y1=\"184.9375\" y2=\"184.9375\"/></a><!--MD5=[96f4274e9e20536e775497830990834d]\n",
       "class E10--><a href=\"psysml:0a18d135-3a15-4f1e-a48b-3983b85e55aa\" target=\"_top\" title=\"psysml:0a18d135-3a15-4f1e-a48b-3983b85e55aa\" xlink:actuate=\"onRequest\" xlink:href=\"psysml:0a18d135-3a15-4f1e-a48b-3983b85e55aa\" xlink:show=\"new\" xlink:title=\"psysml:0a18d135-3a15-4f1e-a48b-3983b85e55aa\" xlink:type=\"simple\"><rect fill=\"#FFFFFF\" height=\"45.9375\" id=\"E10\" rx=\"10\" ry=\"10\" style=\"stroke: #383838; stroke-width: 1.5;\" width=\"42\" x=\"146\" y=\"253\"/><text fill=\"#000000\" font-family=\"sans-serif\" font-size=\"12\" font-style=\"italic\" lengthAdjust=\"spacingAndGlyphs\" textLength=\"40\" x=\"147\" y=\"269.1387\">«port»</text><text fill=\"#000000\" font-family=\"sans-serif\" font-size=\"12\" lengthAdjust=\"spacingAndGlyphs\" textLength=\"32\" x=\"151\" y=\"283.1074\">p1: P</text><line style=\"stroke: #383838; stroke-width: 1.5;\" x1=\"147\" x2=\"187\" y1=\"290.9375\" y2=\"290.9375\"/></a><!--MD5=[1dd1bfd58a279cf63c5f349dbc8fc6a1]\n",
       "class E11--><a href=\"psysml:f0ebefc1-580e-4b11-b9cf-e3cb40b874a3\" target=\"_top\" title=\"psysml:f0ebefc1-580e-4b11-b9cf-e3cb40b874a3\" xlink:actuate=\"onRequest\" xlink:href=\"psysml:f0ebefc1-580e-4b11-b9cf-e3cb40b874a3\" xlink:show=\"new\" xlink:title=\"psysml:f0ebefc1-580e-4b11-b9cf-e3cb40b874a3\" xlink:type=\"simple\"><rect fill=\"#FFFFFF\" height=\"45.9375\" id=\"E11\" rx=\"10\" ry=\"10\" style=\"stroke: #383838; stroke-width: 1.5;\" width=\"48\" x=\"223\" y=\"253\"/><text fill=\"#000000\" font-family=\"sans-serif\" font-size=\"12\" font-style=\"italic\" lengthAdjust=\"spacingAndGlyphs\" textLength=\"40\" x=\"227\" y=\"269.1387\">«port»</text><text fill=\"#000000\" font-family=\"sans-serif\" font-size=\"12\" lengthAdjust=\"spacingAndGlyphs\" textLength=\"42\" x=\"226\" y=\"283.1074\">p2: ~P</text><line style=\"stroke: #383838; stroke-width: 1.5;\" x1=\"224\" x2=\"270\" y1=\"290.9375\" y2=\"290.9375\"/></a><!--MD5=[49a0ec8f00dab7302a31f22d0f0fe584]\n",
       "class E12--><a href=\"psysml:99d6c811-1239-4557-8bf5-512a2d9b51f5\" target=\"_top\" title=\"psysml:99d6c811-1239-4557-8bf5-512a2d9b51f5\" xlink:actuate=\"onRequest\" xlink:href=\"psysml:99d6c811-1239-4557-8bf5-512a2d9b51f5\" xlink:show=\"new\" xlink:title=\"psysml:99d6c811-1239-4557-8bf5-512a2d9b51f5\" xlink:type=\"simple\"><rect fill=\"#FFFFFF\" height=\"45.9375\" id=\"E12\" style=\"stroke: #383838; stroke-width: 1.5;\" width=\"66\" x=\"47\" y=\"41\"/><text fill=\"#000000\" font-family=\"sans-serif\" font-size=\"12\" font-style=\"italic\" lengthAdjust=\"spacingAndGlyphs\" textLength=\"64\" x=\"48\" y=\"57.1387\">«part def»</text><text fill=\"#000000\" font-family=\"sans-serif\" font-size=\"12\" lengthAdjust=\"spacingAndGlyphs\" textLength=\"16\" x=\"72\" y=\"71.1074\">B1</text><line style=\"stroke: #383838; stroke-width: 1.5;\" x1=\"48\" x2=\"112\" y1=\"78.9375\" y2=\"78.9375\"/></a><!--MD5=[ee3c913d1a06f366521f9ef512b67efe]\n",
       "class E13--><a href=\"psysml:c80e6282-4b88-42a6-beea-d83b68d36327\" target=\"_top\" title=\"psysml:c80e6282-4b88-42a6-beea-d83b68d36327\" xlink:actuate=\"onRequest\" xlink:href=\"psysml:c80e6282-4b88-42a6-beea-d83b68d36327\" xlink:show=\"new\" xlink:title=\"psysml:c80e6282-4b88-42a6-beea-d83b68d36327\" xlink:type=\"simple\"><rect fill=\"#FFFFFF\" height=\"45.9375\" id=\"E13\" rx=\"10\" ry=\"10\" style=\"stroke: #383838; stroke-width: 1.5;\" width=\"42\" x=\"59\" y=\"147\"/><text fill=\"#000000\" font-family=\"sans-serif\" font-size=\"12\" font-style=\"italic\" lengthAdjust=\"spacingAndGlyphs\" textLength=\"40\" x=\"60\" y=\"163.1387\">«part»</text><text fill=\"#000000\" font-family=\"sans-serif\" font-size=\"12\" lengthAdjust=\"spacingAndGlyphs\" textLength=\"8\" x=\"76\" y=\"177.1074\">p</text><line style=\"stroke: #383838; stroke-width: 1.5;\" x1=\"60\" x2=\"100\" y1=\"184.9375\" y2=\"184.9375\"/></a><!--MD5=[bee11217b2f71d958a27249dc326068c]\n",
       "class E14--><a href=\"psysml:36fdd18b-cc96-4106-b803-027f179d9fab\" target=\"_top\" title=\"psysml:36fdd18b-cc96-4106-b803-027f179d9fab\" xlink:actuate=\"onRequest\" xlink:href=\"psysml:36fdd18b-cc96-4106-b803-027f179d9fab\" xlink:show=\"new\" xlink:title=\"psysml:36fdd18b-cc96-4106-b803-027f179d9fab\" xlink:type=\"simple\"><rect fill=\"#FFFFFF\" height=\"45.9375\" id=\"E14\" rx=\"10\" ry=\"10\" style=\"stroke: #383838; stroke-width: 1.5;\" width=\"42\" x=\"69\" y=\"253\"/><text fill=\"#000000\" font-family=\"sans-serif\" font-size=\"12\" font-style=\"italic\" lengthAdjust=\"spacingAndGlyphs\" textLength=\"40\" x=\"70\" y=\"269.1387\">«port»</text><text fill=\"#000000\" font-family=\"sans-serif\" font-size=\"12\" lengthAdjust=\"spacingAndGlyphs\" textLength=\"32\" x=\"74\" y=\"283.1074\">p1: P</text><line style=\"stroke: #383838; stroke-width: 1.5;\" x1=\"70\" x2=\"110\" y1=\"290.9375\" y2=\"290.9375\"/></a><!--MD5=[0c48fb7552dae8cbbef69381101a84c8]\n",
       "class E15--><a href=\"psysml:a04d4130-2616-430e-82e5-4df6c3f344d5\" target=\"_top\" title=\"psysml:a04d4130-2616-430e-82e5-4df6c3f344d5\" xlink:actuate=\"onRequest\" xlink:href=\"psysml:a04d4130-2616-430e-82e5-4df6c3f344d5\" xlink:show=\"new\" xlink:title=\"psysml:a04d4130-2616-430e-82e5-4df6c3f344d5\" xlink:type=\"simple\"><rect fill=\"#FFFFFF\" height=\"45.9375\" id=\"E15\" rx=\"10\" ry=\"10\" style=\"stroke: #383838; stroke-width: 1.5;\" width=\"48\" x=\"66\" y=\"359\"/><text fill=\"#000000\" font-family=\"sans-serif\" font-size=\"12\" font-style=\"italic\" lengthAdjust=\"spacingAndGlyphs\" textLength=\"40\" x=\"70\" y=\"375.1387\">«port»</text><text fill=\"#000000\" font-family=\"sans-serif\" font-size=\"12\" lengthAdjust=\"spacingAndGlyphs\" textLength=\"42\" x=\"69\" y=\"389.1074\">p2: ~P</text><line style=\"stroke: #383838; stroke-width: 1.5;\" x1=\"67\" x2=\"113\" y1=\"396.9375\" y2=\"396.9375\"/></a><!--MD5=[4672eba38e49728da53d11aeb285b987]\n",
       "reverse link E3 to E4--><a href=\"psysml:478537c4-9aea-45e7-93bf-51b2f99f76d0\" target=\"_top\" title=\"psysml:478537c4-9aea-45e7-93bf-51b2f99f76d0\" xlink:actuate=\"onRequest\" xlink:href=\"psysml:478537c4-9aea-45e7-93bf-51b2f99f76d0\" xlink:show=\"new\" xlink:title=\"psysml:478537c4-9aea-45e7-93bf-51b2f99f76d0\" xlink:type=\"simple\"><path d=\"M510.39,205.49 C505.12,221.15 499.05,239.19 494.41,252.98 \" fill=\"none\" id=\"E3&lt;-E4\" style=\"stroke: #383838; stroke-width: 1.0;\"/><polygon fill=\"#FFFFFF\" points=\"514.58,193.06,508.8756,197.4713,510.7536,204.4336,516.458,200.0223,514.58,193.06\" style=\"stroke: #383838; stroke-width: 1.0;\"/><text fill=\"#000000\" font-family=\"sans-serif\" font-size=\"13\" lengthAdjust=\"spacingAndGlyphs\" textLength=\"8\" x=\"487.3264\" y=\"241.8709\">1</text></a><!--MD5=[185131fc0dcab0a4505a2ebe144e961b]\n",
       "link E4 to E2--><a href=\"psysml:9a27f54b-62e8-4ed3-8ffb-179b9354440f\" target=\"_top\" title=\"psysml:9a27f54b-62e8-4ed3-8ffb-179b9354440f\" xlink:actuate=\"onRequest\" xlink:href=\"psysml:9a27f54b-62e8-4ed3-8ffb-179b9354440f\" xlink:show=\"new\" xlink:title=\"psysml:9a27f54b-62e8-4ed3-8ffb-179b9354440f\" xlink:type=\"simple\"><path d=\"M465.96,289.82 C460.51,292.96 454.6,296.22 449,299 C401.46,322.64 345.42,345.73 305.65,361.35 \" fill=\"none\" id=\"E4-&gt;E2\" style=\"stroke: #383838; stroke-width: 1.0;\"/><polygon fill=\"#FFFFFF\" points=\"287,368.6,302.1754,355.1945,307.2453,368.2443,287,368.6\" style=\"stroke: #383838; stroke-width: 1.0;\"/><ellipse cx=\"308.2128\" cy=\"354.9946\" fill=\"#383838\" rx=\"2\" ry=\"2\" style=\"stroke: #383838; stroke-width: 1.0;\"/><ellipse cx=\"311.8342\" cy=\"364.3159\" fill=\"#383838\" rx=\"2\" ry=\"2\" style=\"stroke: #383838; stroke-width: 1.0;\"/></a><!--MD5=[191cde3d490a3f6d7bb551fe3ddca469]\n",
       "reverse link E3 to E5--><a href=\"psysml:0c237cb0-b529-413c-8aaf-d2f6ce3a1092\" target=\"_top\" title=\"psysml:0c237cb0-b529-413c-8aaf-d2f6ce3a1092\" xlink:actuate=\"onRequest\" xlink:href=\"psysml:0c237cb0-b529-413c-8aaf-d2f6ce3a1092\" xlink:show=\"new\" xlink:title=\"psysml:0c237cb0-b529-413c-8aaf-d2f6ce3a1092\" xlink:type=\"simple\"><path d=\"M536.72,205.03 C543.54,220.78 551.45,239.06 557.47,252.98 \" fill=\"none\" id=\"E3&lt;-E5\" style=\"stroke: #383838; stroke-width: 1.0;\"/><polygon fill=\"#FFFFFF\" points=\"531.54,193.06,530.2495,200.1547,536.302,204.0747,537.5926,196.98,531.54,193.06\" style=\"stroke: #383838; stroke-width: 1.0;\"/><text fill=\"#000000\" font-family=\"sans-serif\" font-size=\"13\" lengthAdjust=\"spacingAndGlyphs\" textLength=\"8\" x=\"545.8338\" y=\"241.8709\">1</text></a><!--MD5=[3f50a3473f1dfb74d3f76443e03635af]\n",
       "reverse link E6 to E7--><a href=\"psysml:b94a6cc2-6585-4221-b4bd-c6e1360a7593\" target=\"_top\" title=\"psysml:b94a6cc2-6585-4221-b4bd-c6e1360a7593\" xlink:actuate=\"onRequest\" xlink:href=\"psysml:b94a6cc2-6585-4221-b4bd-c6e1360a7593\" xlink:show=\"new\" xlink:title=\"psysml:b94a6cc2-6585-4221-b4bd-c6e1360a7593\" xlink:type=\"simple\"><path d=\"M333.59,206.44 C332.11,221.87 330.42,239.47 329.12,252.98 \" fill=\"none\" id=\"E6&lt;-E7\" style=\"stroke: #383838; stroke-width: 1.0;\"/><polygon fill=\"#FFFFFF\" points=\"334.88,193.06,330.3242,198.6497,333.7317,205.0049,338.2875,199.4152,334.88,193.06\" style=\"stroke: #383838; stroke-width: 1.0;\"/><text fill=\"#000000\" font-family=\"sans-serif\" font-size=\"13\" lengthAdjust=\"spacingAndGlyphs\" textLength=\"8\" x=\"320.6148\" y=\"241.8709\">1</text></a><!--MD5=[583832df87f4419a098336a29a52fa00]\n",
       "link E7 to E2--><a href=\"psysml:6c7ecdb4-3704-4141-b5eb-90be274661d4\" target=\"_top\" title=\"psysml:6c7ecdb4-3704-4141-b5eb-90be274661d4\" xlink:actuate=\"onRequest\" xlink:href=\"psysml:6c7ecdb4-3704-4141-b5eb-90be274661d4\" xlink:show=\"new\" xlink:title=\"psysml:6c7ecdb4-3704-4141-b5eb-90be274661d4\" xlink:type=\"simple\"><path d=\"M311.52,299.06 C302.71,311.6 291.43,327.68 281.19,342.26 \" fill=\"none\" id=\"E7-&gt;E2\" style=\"stroke: #383838; stroke-width: 1.0;\"/><polygon fill=\"#FFFFFF\" points=\"269.46,358.98,274.6532,339.4088,286.1093,347.4561,269.46,358.98\" style=\"stroke: #383838; stroke-width: 1.0;\"/><ellipse cx=\"279.5662\" cy=\"335.8942\" fill=\"#383838\" rx=\"2\" ry=\"2\" style=\"stroke: #383838; stroke-width: 1.0;\"/><ellipse cx=\"287.7491\" cy=\"341.6422\" fill=\"#383838\" rx=\"2\" ry=\"2\" style=\"stroke: #383838; stroke-width: 1.0;\"/></a><!--MD5=[f4cf0736d43fd73c4ef68817c49d37d5]\n",
       "reverse link E6 to E8--><a href=\"psysml:c893fa2e-0043-44e8-be45-2077001790d0\" target=\"_top\" title=\"psysml:c893fa2e-0043-44e8-be45-2077001790d0\" xlink:actuate=\"onRequest\" xlink:href=\"psysml:c893fa2e-0043-44e8-be45-2077001790d0\" xlink:show=\"new\" xlink:title=\"psysml:c893fa2e-0043-44e8-be45-2077001790d0\" xlink:type=\"simple\"><path d=\"M359.27,204.09 C370.02,220.06 382.62,238.78 392.18,252.98 \" fill=\"none\" id=\"E6&lt;-E8\" style=\"stroke: #383838; stroke-width: 1.0;\"/><polygon fill=\"#FFFFFF\" points=\"351.85,193.06,351.8808,200.271,358.5489,203.0161,358.5182,195.8051,351.85,193.06\" style=\"stroke: #383838; stroke-width: 1.0;\"/><text fill=\"#000000\" font-family=\"sans-serif\" font-size=\"13\" lengthAdjust=\"spacingAndGlyphs\" textLength=\"8\" x=\"379.1221\" y=\"241.8709\">1</text></a><!--MD5=[23ac544a70576c3e717098101004234c]\n",
       "reverse link E9 to E10--><a href=\"psysml:3723b58c-a4dd-4ef3-9a79-2a659572d83c\" target=\"_top\" title=\"psysml:3723b58c-a4dd-4ef3-9a79-2a659572d83c\" xlink:actuate=\"onRequest\" xlink:href=\"psysml:3723b58c-a4dd-4ef3-9a79-2a659572d83c\" xlink:show=\"new\" xlink:title=\"psysml:3723b58c-a4dd-4ef3-9a79-2a659572d83c\" xlink:type=\"simple\"><path d=\"M184.92,205.96 C180.89,221.51 176.26,239.33 172.72,252.98 \" fill=\"none\" id=\"E9&lt;-E10\" style=\"stroke: #383838; stroke-width: 1.0;\"/><polygon fill=\"#FFFFFF\" points=\"188.27,193.06,182.8943,197.8665,185.2635,204.6773,190.6392,199.8708,188.27,193.06\" style=\"stroke: #383838; stroke-width: 1.0;\"/><text fill=\"#000000\" font-family=\"sans-serif\" font-size=\"13\" lengthAdjust=\"spacingAndGlyphs\" textLength=\"8\" x=\"165.1823\" y=\"241.8709\">1</text></a><!--MD5=[0f36bececdf0dff6e600d6f64214b0f1]\n",
       "link E10 to E2--><a href=\"psysml:8c7a6e5c-2c0e-473c-a2c4-4062964bb416\" target=\"_top\" title=\"psysml:8c7a6e5c-2c0e-473c-a2c4-4062964bb416\" xlink:actuate=\"onRequest\" xlink:href=\"psysml:8c7a6e5c-2c0e-473c-a2c4-4062964bb416\" xlink:show=\"new\" xlink:title=\"psysml:8c7a6e5c-2c0e-473c-a2c4-4062964bb416\" xlink:type=\"simple\"><path d=\"M185.45,299.06 C196.18,311.88 209.99,328.39 222.4,343.22 \" fill=\"none\" id=\"E10-&gt;E2\" style=\"stroke: #383838; stroke-width: 1.0;\"/><polygon fill=\"#FFFFFF\" points=\"235.58,358.98,218.0168,348.9036,228.7522,339.9174,235.58,358.98\" style=\"stroke: #383838; stroke-width: 1.0;\"/><ellipse cx=\"215.8918\" cy=\"343.249\" fill=\"#383838\" rx=\"2\" ry=\"2\" style=\"stroke: #383838; stroke-width: 1.0;\"/><ellipse cx=\"223.5599\" cy=\"336.8303\" fill=\"#383838\" rx=\"2\" ry=\"2\" style=\"stroke: #383838; stroke-width: 1.0;\"/></a><!--MD5=[1fc04a95fd77ad5ce46c1a3027516051]\n",
       "reverse link E9 to E11--><a href=\"psysml:05b52cb0-1bec-4ecb-a4ba-b6e0a5fd36fa\" target=\"_top\" title=\"psysml:05b52cb0-1bec-4ecb-a4ba-b6e0a5fd36fa\" xlink:actuate=\"onRequest\" xlink:href=\"psysml:05b52cb0-1bec-4ecb-a4ba-b6e0a5fd36fa\" xlink:show=\"new\" xlink:title=\"psysml:05b52cb0-1bec-4ecb-a4ba-b6e0a5fd36fa\" xlink:type=\"simple\"><path d=\"M211.34,205.03 C219.37,220.78 228.68,239.06 235.78,252.98 \" fill=\"none\" id=\"E9&lt;-E11\" style=\"stroke: #383838; stroke-width: 1.0;\"/><polygon fill=\"#FFFFFF\" points=\"205.24,193.06,204.3983,200.2218,210.6855,203.7533,211.5272,196.5915,205.24,193.06\" style=\"stroke: #383838; stroke-width: 1.0;\"/><text fill=\"#000000\" font-family=\"sans-serif\" font-size=\"13\" lengthAdjust=\"spacingAndGlyphs\" textLength=\"8\" x=\"223.6896\" y=\"241.8709\">1</text></a><!--MD5=[062ed86c389d1a88f61c6380d0491e17]\n",
       "reverse link E12 to E13--><a href=\"psysml:2ea9f126-2045-475e-98b2-0bebbeaf39ba\" target=\"_top\" title=\"psysml:2ea9f126-2045-475e-98b2-0bebbeaf39ba\" xlink:actuate=\"onRequest\" xlink:href=\"psysml:2ea9f126-2045-475e-98b2-0bebbeaf39ba\" xlink:show=\"new\" xlink:title=\"psysml:2ea9f126-2045-475e-98b2-0bebbeaf39ba\" xlink:type=\"simple\"><path d=\"M80,100.44 C80,115.87 80,133.47 80,146.98 \" fill=\"none\" id=\"E12&lt;-E13\" style=\"stroke: #383838; stroke-width: 1.0;\"/><polygon fill=\"#383838\" points=\"80,87.06,76,93.06,80,99.06,84,93.06,80,87.06\" style=\"stroke: #383838; stroke-width: 1.0;\"/><text fill=\"#000000\" font-family=\"sans-serif\" font-size=\"13\" lengthAdjust=\"spacingAndGlyphs\" textLength=\"8\" x=\"70.925\" y=\"135.8709\">1</text></a><!--MD5=[01db00f33b28669d6d9febea71002831]\n",
       "reverse link E13 to E14--><a href=\"psysml:56644651-1cff-4e4b-add6-5aaf4cbf3323\" target=\"_top\" title=\"psysml:56644651-1cff-4e4b-add6-5aaf4cbf3323\" xlink:actuate=\"onRequest\" xlink:href=\"psysml:56644651-1cff-4e4b-add6-5aaf4cbf3323\" xlink:show=\"new\" xlink:title=\"psysml:56644651-1cff-4e4b-add6-5aaf4cbf3323\" xlink:type=\"simple\"><path d=\"M83.41,206.44 C84.89,221.87 86.58,239.47 87.88,252.98 \" fill=\"none\" id=\"E13&lt;-E14\" style=\"stroke: #383838; stroke-width: 1.0;\"/><polygon fill=\"#FFFFFF\" points=\"82.12,193.06,78.7125,199.4152,83.2683,205.0049,86.6758,198.6497,82.12,193.06\" style=\"stroke: #383838; stroke-width: 1.0;\"/><text fill=\"#000000\" font-family=\"sans-serif\" font-size=\"13\" lengthAdjust=\"spacingAndGlyphs\" textLength=\"8\" x=\"78.2353\" y=\"241.8709\">1</text></a><!--MD5=[e5566ac99d7714697a7fbc17f6b550fe]\n",
       "link E14 to E2--><a href=\"psysml:004f1bd4-f46a-4fc3-b446-5abbd305cc50\" target=\"_top\" title=\"psysml:004f1bd4-f46a-4fc3-b446-5abbd305cc50\" xlink:actuate=\"onRequest\" xlink:href=\"psysml:004f1bd4-f46a-4fc3-b446-5abbd305cc50\" xlink:show=\"new\" xlink:title=\"psysml:004f1bd4-f46a-4fc3-b446-5abbd305cc50\" xlink:type=\"simple\"><path d=\"M111.1,290.38 C134.32,305.1 172.45,329.29 203.49,348.97 \" fill=\"none\" id=\"E14-&gt;E2\" style=\"stroke: #383838; stroke-width: 1.0;\"/><polygon fill=\"#FFFFFF\" points=\"220.77,359.93,200.9767,355.661,208.4774,343.8399,220.77,359.93\" style=\"stroke: #383838; stroke-width: 1.0;\"/><ellipse cx=\"197.2353\" cy=\"350.9184\" fill=\"#383838\" rx=\"2\" ry=\"2\" style=\"stroke: #383838; stroke-width: 1.0;\"/><ellipse cx=\"202.593\" cy=\"342.4748\" fill=\"#383838\" rx=\"2\" ry=\"2\" style=\"stroke: #383838; stroke-width: 1.0;\"/></a><!--MD5=[e9a5e828c71fd2209a11a152f562d491]\n",
       "reverse link E13 to E15--><a href=\"psysml:439c4bcd-5bf6-4395-bbdb-0df2330c2504\" target=\"_top\" title=\"psysml:439c4bcd-5bf6-4395-bbdb-0df2330c2504\" xlink:actuate=\"onRequest\" xlink:href=\"psysml:439c4bcd-5bf6-4395-bbdb-0df2330c2504\" xlink:show=\"new\" xlink:title=\"psysml:439c4bcd-5bf6-4395-bbdb-0df2330c2504\" xlink:type=\"simple\"><path d=\"M64.33,205.31 C54.54,231.09 45,267.26 52,299 C56.73,320.45 67.65,342.96 76.58,358.96 \" fill=\"none\" id=\"E13&lt;-E15\" style=\"stroke: #383838; stroke-width: 1.0;\"/><polygon fill=\"#FFFFFF\" points=\"69.24,193.2,63.2795,197.2586,64.7334,204.3216,70.6939,200.263,69.24,193.2\" style=\"stroke: #383838; stroke-width: 1.0;\"/><text fill=\"#000000\" font-family=\"sans-serif\" font-size=\"13\" lengthAdjust=\"spacingAndGlyphs\" textLength=\"8\" x=\"63.8984\" y=\"347.8455\">1</text></a><!--MD5=[3afbdc645381407e1bc99677323a2513]\n",
       "link E14 to E15--><a href=\"psysml:356465e0-8362-42f7-8017-4c1d57dccd42\" target=\"_top\" title=\"psysml:356465e0-8362-42f7-8017-4c1d57dccd42\" xlink:actuate=\"onRequest\" xlink:href=\"psysml:356465e0-8362-42f7-8017-4c1d57dccd42\" xlink:show=\"new\" xlink:title=\"psysml:356465e0-8362-42f7-8017-4c1d57dccd42\" xlink:type=\"simple\"><path d=\"M79.35,299.06 C76.55,316.7 76.55,341.34 79.36,358.98 \" fill=\"none\" id=\"E14-E15\" style=\"stroke: #383838; stroke-width: 3.0;\"/></a><!--MD5=[3afbdc645381407e1bc99677323a2513]\n",
       "link E14 to E15--><a href=\"psysml:be002053-3eab-4239-b4ec-f62d8ddd6fa6\" target=\"_top\" title=\"psysml:be002053-3eab-4239-b4ec-f62d8ddd6fa6\" xlink:actuate=\"onRequest\" xlink:href=\"psysml:be002053-3eab-4239-b4ec-f62d8ddd6fa6\" xlink:show=\"new\" xlink:title=\"psysml:be002053-3eab-4239-b4ec-f62d8ddd6fa6\" xlink:type=\"simple\"><path d=\"M101.27,299.06 C104.24,316.7 104.24,341.34 101.27,358.98 \" fill=\"none\" id=\"E14-E15-1\" style=\"stroke: #383838; stroke-width: 3.0;\"/></a><!--MD5=[2d26c13053264d305fc8f4b4f9060800]\n",
       "@startuml\r\n",
       "top to bottom direction\r\n",
       "skinparam monochrome true\r\n",
       "skinparam classbackgroundcolor white\r\n",
       "skinparam shadowing false\r\n",
       "skinparam wrapWidth 300\r\n",
       "hide circle\r\n",
       "\r\n",
       "package \"ConjugationTest\" as E1  [[psysml:811d2e93-771a-4206-9534-119b2782ed8b ]]  {\r\n",
       "comp def \"P\" as E2  <<(T,blue) port def>> [[psysml:a118eece-ff6c-41b4-a8ec-63007fd81e06 ]] {\r\n",
       "}\r\n",
       "comp def \"B\" as E3  <<(T,blue) part def>> [[psysml:45f3428f-90c5-481c-8b5b-6d42a9c9ecb4 ]] {\r\n",
       "}\r\n",
       "comp usage \"p1: P\" as E4  <<(T,blue) port>> [[psysml:f10162e3-9121-4423-8c61-28bf75aadc9a ]] {\r\n",
       "}\r\n",
       "comp usage \"p2: ~P\" as E5  <<(T,blue) port>> [[psysml:f793b08e-b132-4869-8396-6344384571c9 ]] {\r\n",
       "}\r\n",
       "comp def \"A\" as E6  <<(T,blue) connection def>> [[psysml:1e44cf6a-fe6c-483a-98ee-7c5816e24c4f ]] {\r\n",
       "}\r\n",
       "comp usage \"p1: P\" as E7  <<(T,blue) port>> [[psysml:592da980-ebcc-4bfb-b89f-9a898fd7b408 ]] {\r\n",
       "}\r\n",
       "comp usage \"p2: ~P\" as E8  <<(T,blue) port>> [[psysml:4730362b-6892-4b61-8b08-4b1eb3a58a19 ]] {\r\n",
       "}\r\n",
       "comp def \"I\" as E9  <<(T,blue) interface def>> [[psysml:c589f335-4cab-4324-b073-03ca89b55f7d ]] {\r\n",
       "}\r\n",
       "comp usage \"p1: P\" as E10  <<(T,blue) port>> [[psysml:0a18d135-3a15-4f1e-a48b-3983b85e55aa ]] {\r\n",
       "}\r\n",
       "comp usage \"p2: ~P\" as E11  <<(T,blue) port>> [[psysml:f0ebefc1-580e-4b11-b9cf-e3cb40b874a3 ]] {\r\n",
       "}\r\n",
       "comp def \"B1\" as E12  <<(T,blue) part def>> [[psysml:99d6c811-1239-4557-8bf5-512a2d9b51f5 ]] {\r\n",
       "}\r\n",
       "comp usage \"p\" as E13  <<(T,blue) part>> [[psysml:c80e6282-4b88-42a6-beea-d83b68d36327 ]] {\r\n",
       "}\r\n",
       "comp usage \"p1: P\" as E14  <<(T,blue) port>> [[psysml:36fdd18b-cc96-4106-b803-027f179d9fab ]] {\r\n",
       "}\r\n",
       "comp usage \"p2: ~P\" as E15  <<(T,blue) port>> [[psysml:a04d4130-2616-430e-82e5-4df6c3f344d5 ]] {\r\n",
       "}\r\n",
       "}\r\n",
       "E3 o- - \"1\"E4 [[psysml:478537c4-9aea-45e7-93bf-51b2f99f76d0 ]] \r\n",
       "E4 - -:|> E2 [[psysml:9a27f54b-62e8-4ed3-8ffb-179b9354440f ]] \r\n",
       "E3 o- - \"1\"E5 [[psysml:0c237cb0-b529-413c-8aaf-d2f6ce3a1092 ]] \r\n",
       "E6 o- - \"1\"E7 [[psysml:b94a6cc2-6585-4221-b4bd-c6e1360a7593 ]] \r\n",
       "E7 - -:|> E2 [[psysml:6c7ecdb4-3704-4141-b5eb-90be274661d4 ]] \r\n",
       "E6 o- - \"1\"E8 [[psysml:c893fa2e-0043-44e8-be45-2077001790d0 ]] \r\n",
       "E9 o- - \"1\"E10 [[psysml:3723b58c-a4dd-4ef3-9a79-2a659572d83c ]] \r\n",
       "E10 - -:|> E2 [[psysml:8c7a6e5c-2c0e-473c-a2c4-4062964bb416 ]] \r\n",
       "E9 o- - \"1\"E11 [[psysml:05b52cb0-1bec-4ecb-a4ba-b6e0a5fd36fa ]] \r\n",
       "E12 *- - \"1\"E13 [[psysml:2ea9f126-2045-475e-98b2-0bebbeaf39ba ]] \r\n",
       "E13 o- - \"1\"E14 [[psysml:56644651-1cff-4e4b-add6-5aaf4cbf3323 ]] \r\n",
       "E14 - -:|> E2 [[psysml:004f1bd4-f46a-4fc3-b446-5abbd305cc50 ]] \r\n",
       "E13 o- - \"1\"E15 [[psysml:439c4bcd-5bf6-4395-bbdb-0df2330c2504 ]] \r\n",
       "E14 -[thickness=3]- E15 [[psysml:356465e0-8362-42f7-8017-4c1d57dccd42 ]] \r\n",
       "E14 -[thickness=3]- E15 [[psysml:be002053-3eab-4239-b4ec-f62d8ddd6fa6 ]] \r\n",
       "@enduml\r\n",
       "\n",
       "PlantUML version 1.2020.13(Sat Jun 13 12:26:38 UTC 2020)\n",
       "(EPL source distribution)\n",
       "Java Runtime: OpenJDK Runtime Environment\n",
       "JVM: OpenJDK 64-Bit Server VM\n",
       "Default Encoding: UTF-8\n",
       "Language: en\n",
       "Country: null\n",
       "--></g></svg>"
      ]
     },
     "execution_count": 45,
     "metadata": {},
     "output_type": "execute_result"
    }
   ],
   "source": [
    "%viz --style=\"TB\" --view=\"Tree\" \"ConjugationTest\""
   ]
  },
  {
   "cell_type": "code",
   "execution_count": 46,
   "id": "53d7c60a",
   "metadata": {
    "execution": {
     "iopub.execute_input": "2021-10-03T08:28:08.526424Z",
     "iopub.status.busy": "2021-10-03T08:28:08.526112Z",
     "iopub.status.idle": "2021-10-03T08:28:08.531091Z",
     "shell.execute_reply": "2021-10-03T08:28:08.530843Z"
    }
   },
   "outputs": [
    {
     "data": {
      "image/svg+xml": [
       "<?xml version=\"1.0\" encoding=\"UTF-8\" standalone=\"no\"?><svg xmlns=\"http://www.w3.org/2000/svg\" xmlns:xlink=\"http://www.w3.org/1999/xlink\" contentScriptType=\"application/ecmascript\" contentStyleType=\"text/css\" height=\"12px\" preserveAspectRatio=\"none\" style=\"width:12px;height:12px;\" version=\"1.1\" viewBox=\"0 0 12 12\" width=\"12px\" zoomAndPan=\"magnify\"><defs/><g><!--MD5=[f4ee21bc66e489b5061b7c3e9601fdef]\n",
       "@startuml\r\n",
       "top to bottom direction\r\n",
       "skinparam monochrome true\r\n",
       "skinparam classbackgroundcolor white\r\n",
       "skinparam shadowing false\r\n",
       "skinparam wrapWidth 300\r\n",
       "hide circle\r\n",
       "\r\n",
       "@enduml\r\n",
       "\n",
       "PlantUML version 1.2020.13(Sat Jun 13 12:26:38 UTC 2020)\n",
       "(EPL source distribution)\n",
       "Java Runtime: OpenJDK Runtime Environment\n",
       "JVM: OpenJDK 64-Bit Server VM\n",
       "Default Encoding: UTF-8\n",
       "Language: en\n",
       "Country: null\n",
       "--></g></svg>"
      ]
     },
     "execution_count": 46,
     "metadata": {},
     "output_type": "execute_result"
    }
   ],
   "source": [
    "%viz --style=\"TB\" --view=\"State\" \"ConjugationTest\""
   ]
  },
  {
   "cell_type": "code",
   "execution_count": 47,
   "id": "6923d98b",
   "metadata": {
    "execution": {
     "iopub.execute_input": "2021-10-03T08:28:08.581126Z",
     "iopub.status.busy": "2021-10-03T08:28:08.580889Z",
     "iopub.status.idle": "2021-10-03T08:28:08.627164Z",
     "shell.execute_reply": "2021-10-03T08:28:08.626781Z"
    }
   },
   "outputs": [
    {
     "data": {
      "image/svg+xml": [
       "<?xml version=\"1.0\" encoding=\"UTF-8\" standalone=\"no\"?><svg xmlns=\"http://www.w3.org/2000/svg\" xmlns:xlink=\"http://www.w3.org/1999/xlink\" contentScriptType=\"application/ecmascript\" contentStyleType=\"text/css\" height=\"246px\" preserveAspectRatio=\"none\" style=\"width:739px;height:246px;\" version=\"1.1\" viewBox=\"0 0 739 246\" width=\"739px\" zoomAndPan=\"magnify\"><defs/><g><!--MD5=[fbc87193dbaf4d95561dea2c320d4a47]\n",
       "cluster E1--><a href=\"psysml:811d2e93-771a-4206-9534-119b2782ed8b\" target=\"_top\" title=\"psysml:811d2e93-771a-4206-9534-119b2782ed8b\" xlink:actuate=\"onRequest\" xlink:href=\"psysml:811d2e93-771a-4206-9534-119b2782ed8b\" xlink:show=\"new\" xlink:title=\"psysml:811d2e93-771a-4206-9534-119b2782ed8b\" xlink:type=\"simple\"><polygon fill=\"#FFFFFF\" points=\"16,6,136,6,143,28.2969,717,28.2969,717,234.5,16,234.5,16,6\" style=\"stroke: #000000; stroke-width: 1.5;\"/><line style=\"stroke: #000000; stroke-width: 1.5;\" x1=\"16\" x2=\"143\" y1=\"28.2969\" y2=\"28.2969\"/><text fill=\"#000000\" font-family=\"sans-serif\" font-size=\"14\" font-weight=\"bold\" lengthAdjust=\"spacingAndGlyphs\" textLength=\"114\" x=\"20\" y=\"20.9951\">ConjugationTest</text></a><!--MD5=[d5e69f78d87373223dbae638b30a9c99]\n",
       "cluster E3--><a href=\"psysml:45f3428f-90c5-481c-8b5b-6d42a9c9ecb4\" target=\"_top\" title=\"psysml:45f3428f-90c5-481c-8b5b-6d42a9c9ecb4\" xlink:actuate=\"onRequest\" xlink:href=\"psysml:45f3428f-90c5-481c-8b5b-6d42a9c9ecb4\" xlink:show=\"new\" xlink:title=\"psysml:45f3428f-90c5-481c-8b5b-6d42a9c9ecb4\" xlink:type=\"simple\"><rect fill=\"#FFFFFF\" height=\"88.5\" id=\"E3\" style=\"stroke: #383838; stroke-width: 1.5;\" width=\"83\" x=\"577\" y=\"114\"/><rect fill=\"#F8F8F8\" height=\"37.9375\" style=\"stroke: #383838; stroke-width: 1.5;\" width=\"83\" x=\"577\" y=\"114\"/><text fill=\"#000000\" font-family=\"sans-serif\" font-size=\"12\" font-style=\"italic\" lengthAdjust=\"spacingAndGlyphs\" textLength=\"64\" x=\"586.5\" y=\"130.1387\">«part def»</text><text fill=\"#000000\" font-family=\"sans-serif\" font-size=\"12\" lengthAdjust=\"spacingAndGlyphs\" textLength=\"8\" x=\"614.5\" y=\"144.1074\">B</text></a><!--MD5=[14e3b0961a2654348d326746436168a1]\n",
       "cluster E6--><a href=\"psysml:1e44cf6a-fe6c-483a-98ee-7c5816e24c4f\" target=\"_top\" title=\"psysml:1e44cf6a-fe6c-483a-98ee-7c5816e24c4f\" xlink:actuate=\"onRequest\" xlink:href=\"psysml:1e44cf6a-fe6c-483a-98ee-7c5816e24c4f\" xlink:show=\"new\" xlink:title=\"psysml:1e44cf6a-fe6c-483a-98ee-7c5816e24c4f\" xlink:type=\"simple\"><rect fill=\"#FFFFFF\" height=\"88.5\" id=\"E6\" style=\"stroke: #383838; stroke-width: 1.5;\" width=\"150\" x=\"423\" y=\"114\"/><rect fill=\"#F8F8F8\" height=\"37.9375\" style=\"stroke: #383838; stroke-width: 1.5;\" width=\"150\" x=\"423\" y=\"114\"/><text fill=\"#000000\" font-family=\"sans-serif\" font-size=\"12\" font-style=\"italic\" lengthAdjust=\"spacingAndGlyphs\" textLength=\"108\" x=\"444\" y=\"130.1387\">«connection def»</text><text fill=\"#000000\" font-family=\"sans-serif\" font-size=\"12\" lengthAdjust=\"spacingAndGlyphs\" textLength=\"8\" x=\"494\" y=\"144.1074\">A</text></a><!--MD5=[7f149f147074ac12df2cb0a7728a5fb0]\n",
       "cluster E9--><a href=\"psysml:c589f335-4cab-4324-b073-03ca89b55f7d\" target=\"_top\" title=\"psysml:c589f335-4cab-4324-b073-03ca89b55f7d\" xlink:actuate=\"onRequest\" xlink:href=\"psysml:c589f335-4cab-4324-b073-03ca89b55f7d\" xlink:show=\"new\" xlink:title=\"psysml:c589f335-4cab-4324-b073-03ca89b55f7d\" xlink:type=\"simple\"><rect fill=\"#FFFFFF\" height=\"88.5\" id=\"E9\" style=\"stroke: #383838; stroke-width: 1.5;\" width=\"141\" x=\"254\" y=\"114\"/><rect fill=\"#F8F8F8\" height=\"37.9375\" style=\"stroke: #383838; stroke-width: 1.5;\" width=\"141\" x=\"254\" y=\"114\"/><text fill=\"#000000\" font-family=\"sans-serif\" font-size=\"12\" font-style=\"italic\" lengthAdjust=\"spacingAndGlyphs\" textLength=\"94\" x=\"277.5\" y=\"130.1387\">«interface def»</text><text fill=\"#000000\" font-family=\"sans-serif\" font-size=\"12\" lengthAdjust=\"spacingAndGlyphs\" textLength=\"3\" x=\"323\" y=\"144.1074\">I</text></a><!--MD5=[47bea60c1a0ac6c1143df232041969c0]\n",
       "cluster E12--><a href=\"psysml:99d6c811-1239-4557-8bf5-512a2d9b51f5\" target=\"_top\" title=\"psysml:99d6c811-1239-4557-8bf5-512a2d9b51f5\" xlink:actuate=\"onRequest\" xlink:href=\"psysml:99d6c811-1239-4557-8bf5-512a2d9b51f5\" xlink:show=\"new\" xlink:title=\"psysml:99d6c811-1239-4557-8bf5-512a2d9b51f5\" xlink:type=\"simple\"><rect fill=\"#FFFFFF\" height=\"161.5\" id=\"E12\" style=\"stroke: #383838; stroke-width: 1.5;\" width=\"107\" x=\"120\" y=\"49\"/><rect fill=\"#F8F8F8\" height=\"37.9375\" style=\"stroke: #383838; stroke-width: 1.5;\" width=\"107\" x=\"120\" y=\"49\"/><text fill=\"#000000\" font-family=\"sans-serif\" font-size=\"12\" font-style=\"italic\" lengthAdjust=\"spacingAndGlyphs\" textLength=\"64\" x=\"141.5\" y=\"65.1387\">«part def»</text><text fill=\"#000000\" font-family=\"sans-serif\" font-size=\"12\" lengthAdjust=\"spacingAndGlyphs\" textLength=\"16\" x=\"165.5\" y=\"79.1074\">B1</text></a><!--MD5=[03104f77b71e2d8d3500c651e6e31181]\n",
       "cluster E13--><a href=\"psysml:c80e6282-4b88-42a6-beea-d83b68d36327\" target=\"_top\" title=\"psysml:c80e6282-4b88-42a6-beea-d83b68d36327\" xlink:actuate=\"onRequest\" xlink:href=\"psysml:c80e6282-4b88-42a6-beea-d83b68d36327\" xlink:show=\"new\" xlink:title=\"psysml:c80e6282-4b88-42a6-beea-d83b68d36327\" xlink:type=\"simple\"><rect fill=\"#FFFFFF\" height=\"80.5\" id=\"E13\" rx=\"10\" ry=\"10\" style=\"stroke: #383838; stroke-width: 1.5;\" width=\"83\" x=\"132\" y=\"114\"/><rect fill=\"#F8F8F8\" height=\"23.9688\" rx=\"10\" ry=\"10\" style=\"stroke: #F8F8F8; stroke-width: 1.5;\" width=\"83\" x=\"132\" y=\"114\"/><rect fill=\"#F8F8F8\" height=\"10\" style=\"stroke: #F8F8F8; stroke-width: 1.5;\" width=\"83\" x=\"132\" y=\"127.9688\"/><rect fill=\"none\" height=\"80.5\" id=\"E13\" rx=\"10\" ry=\"10\" style=\"stroke: #383838; stroke-width: 1.5;\" width=\"83\" x=\"132\" y=\"114\"/><text fill=\"#000000\" font-family=\"sans-serif\" font-size=\"12\" lengthAdjust=\"spacingAndGlyphs\" textLength=\"8\" x=\"169.5\" y=\"130.1387\">p</text><line style=\"stroke: #383838; stroke-width: 1.0;\" x1=\"132\" x2=\"215\" y1=\"137.9688\" y2=\"137.9688\"/></a><g id=\"E1.E2\"><a href=\"psysml:a118eece-ff6c-41b4-a8ec-63007fd81e06\" target=\"_top\" title=\"psysml:a118eece-ff6c-41b4-a8ec-63007fd81e06\" xlink:actuate=\"onRequest\" xlink:href=\"psysml:a118eece-ff6c-41b4-a8ec-63007fd81e06\" xlink:show=\"new\" xlink:title=\"psysml:a118eece-ff6c-41b4-a8ec-63007fd81e06\" xlink:type=\"simple\"><rect fill=\"#FFFFFF\" height=\"42.9375\" id=\"E2\" style=\"stroke: #383838; stroke-width: 1.5;\" width=\"71\" x=\"32.5\" y=\"92.5\"/><rect fill=\"#F8F8F8\" height=\"37.9375\" style=\"stroke: #383838; stroke-width: 1.5;\" width=\"71\" x=\"32.5\" y=\"92.5\"/><text fill=\"#000000\" font-family=\"sans-serif\" font-size=\"12\" font-style=\"italic\" lengthAdjust=\"spacingAndGlyphs\" textLength=\"64\" x=\"36\" y=\"108.6387\">«port def»</text><text fill=\"#000000\" font-family=\"sans-serif\" font-size=\"12\" lengthAdjust=\"spacingAndGlyphs\" textLength=\"8\" x=\"64\" y=\"122.6074\">P</text></a></g><text fill=\"#000000\" font-family=\"sans-serif\" font-size=\"14\" lengthAdjust=\"spacingAndGlyphs\" textLength=\"36\" x=\"577\" y=\"92.6982\">p1: P</text><rect fill=\"#383838\" height=\"12\" style=\"stroke: #F8F8F8; stroke-width: 1.5;\" width=\"12\" x=\"589\" y=\"108\"/><text fill=\"#000000\" font-family=\"sans-serif\" font-size=\"14\" lengthAdjust=\"spacingAndGlyphs\" textLength=\"48\" x=\"618\" y=\"92.6982\">p2: ~P</text><rect fill=\"#383838\" height=\"12\" style=\"stroke: #F8F8F8; stroke-width: 1.5;\" width=\"12\" x=\"636\" y=\"108\"/><text fill=\"#000000\" font-family=\"sans-serif\" font-size=\"14\" lengthAdjust=\"spacingAndGlyphs\" textLength=\"36\" x=\"423\" y=\"92.6982\">p1: P</text><rect fill=\"#383838\" height=\"12\" style=\"stroke: #F8F8F8; stroke-width: 1.5;\" width=\"12\" x=\"435\" y=\"108\"/><text fill=\"#000000\" font-family=\"sans-serif\" font-size=\"14\" lengthAdjust=\"spacingAndGlyphs\" textLength=\"48\" x=\"464\" y=\"92.6982\">p2: ~P</text><rect fill=\"#383838\" height=\"12\" style=\"stroke: #F8F8F8; stroke-width: 1.5;\" width=\"12\" x=\"482\" y=\"108\"/><text fill=\"#000000\" font-family=\"sans-serif\" font-size=\"14\" lengthAdjust=\"spacingAndGlyphs\" textLength=\"36\" x=\"254\" y=\"92.6982\">p1: P</text><rect fill=\"#383838\" height=\"12\" style=\"stroke: #F8F8F8; stroke-width: 1.5;\" width=\"12\" x=\"266\" y=\"108\"/><text fill=\"#000000\" font-family=\"sans-serif\" font-size=\"14\" lengthAdjust=\"spacingAndGlyphs\" textLength=\"48\" x=\"295\" y=\"92.6982\">p2: ~P</text><rect fill=\"#383838\" height=\"12\" style=\"stroke: #F8F8F8; stroke-width: 1.5;\" width=\"12\" x=\"313\" y=\"108\"/><text fill=\"#000000\" font-family=\"sans-serif\" font-size=\"14\" lengthAdjust=\"spacingAndGlyphs\" textLength=\"36\" x=\"132\" y=\"92.6982\">p1: P</text><rect fill=\"#383838\" height=\"12\" style=\"stroke: #F8F8F8; stroke-width: 1.5;\" width=\"12\" x=\"144\" y=\"108\"/><text fill=\"#000000\" font-family=\"sans-serif\" font-size=\"14\" lengthAdjust=\"spacingAndGlyphs\" textLength=\"48\" x=\"173\" y=\"92.6982\">p2: ~P</text><rect fill=\"#383838\" height=\"12\" style=\"stroke: #F8F8F8; stroke-width: 1.5;\" width=\"12\" x=\"191\" y=\"108\"/><!--MD5=[3afbdc645381407e1bc99677323a2513]\n",
       "link E14 to E15--><a href=\"psysml:356465e0-8362-42f7-8017-4c1d57dccd42\" target=\"_top\" title=\"psysml:356465e0-8362-42f7-8017-4c1d57dccd42\" xlink:actuate=\"onRequest\" xlink:href=\"psysml:356465e0-8362-42f7-8017-4c1d57dccd42\" xlink:show=\"new\" xlink:title=\"psysml:356465e0-8362-42f7-8017-4c1d57dccd42\" xlink:type=\"simple\"><path d=\"M156.24,114 C167.81,114 179.38,114 190.95,114 \" fill=\"none\" id=\"E14-E15\" style=\"stroke: #383838; stroke-width: 3.0;\"/></a><!--MD5=[3afbdc645381407e1bc99677323a2513]\n",
       "link E14 to E15--><a href=\"psysml:be002053-3eab-4239-b4ec-f62d8ddd6fa6\" target=\"_top\" title=\"psysml:be002053-3eab-4239-b4ec-f62d8ddd6fa6\" xlink:actuate=\"onRequest\" xlink:href=\"psysml:be002053-3eab-4239-b4ec-f62d8ddd6fa6\" xlink:show=\"new\" xlink:title=\"psysml:be002053-3eab-4239-b4ec-f62d8ddd6fa6\" xlink:type=\"simple\"><path d=\"M156.24,111.93 C167.81,108.67 179.38,108.69 190.95,111.98 \" fill=\"none\" id=\"E14-E15-1\" style=\"stroke: #383838; stroke-width: 3.0;\"/></a><!--MD5=[eeb88dbd43fa787c6de0f3dec8e648da]\n",
       "@startuml\r\n",
       "skinparam ranksep 10\r\n",
       "skinparam rectangle {\r\n",
       " backgroundColor<<block>> LightGreen\r\n",
       "}\r\n",
       "top to bottom direction\r\n",
       "skinparam monochrome true\r\n",
       "skinparam classbackgroundcolor white\r\n",
       "skinparam shadowing false\r\n",
       "skinparam wrapWidth 300\r\n",
       "hide circle\r\n",
       "\r\n",
       "package \"ConjugationTest\" as E1  [[psysml:811d2e93-771a-4206-9534-119b2782ed8b ]]  {\r\n",
       "def \"P\" as E2  <<(T,blue) port def>> [[psysml:a118eece-ff6c-41b4-a8ec-63007fd81e06 ]] \r\n",
       "rec def \"B\" as E3  <<(T,blue) part def>> [[psysml:45f3428f-90c5-481c-8b5b-6d42a9c9ecb4 ]] {\r\n",
       "portin \"p1: P\" as E4  <<(T,blue) port>> [[psysml:f10162e3-9121-4423-8c61-28bf75aadc9a ]] \r\n",
       "portin \"p2: ~P\" as E5  <<(T,blue) port>> [[psysml:f793b08e-b132-4869-8396-6344384571c9 ]] \r\n",
       "}\r\n",
       "rec def \"A\" as E6  <<(T,blue) connection def>> [[psysml:1e44cf6a-fe6c-483a-98ee-7c5816e24c4f ]] {\r\n",
       "portin \"p1: P\" as E7  <<(T,blue) port>> [[psysml:592da980-ebcc-4bfb-b89f-9a898fd7b408 ]] \r\n",
       "portin \"p2: ~P\" as E8  <<(T,blue) port>> [[psysml:4730362b-6892-4b61-8b08-4b1eb3a58a19 ]] \r\n",
       "}\r\n",
       "rec def \"I\" as E9  <<(T,blue) interface def>> [[psysml:c589f335-4cab-4324-b073-03ca89b55f7d ]] {\r\n",
       "portin \"p1: P\" as E10  <<(T,blue) port>> [[psysml:0a18d135-3a15-4f1e-a48b-3983b85e55aa ]] \r\n",
       "portin \"p2: ~P\" as E11  <<(T,blue) port>> [[psysml:f0ebefc1-580e-4b11-b9cf-e3cb40b874a3 ]] \r\n",
       "}\r\n",
       "rec def \"B1\" as E12  <<(T,blue) part def>> [[psysml:99d6c811-1239-4557-8bf5-512a2d9b51f5 ]] {\r\n",
       "rec usage \"p\" as E13  [[psysml:c80e6282-4b88-42a6-beea-d83b68d36327 ]] {\r\n",
       "portin \"p1: P\" as E14  <<(T,blue) port>> [[psysml:36fdd18b-cc96-4106-b803-027f179d9fab ]] \r\n",
       "portin \"p2: ~P\" as E15  <<(T,blue) port>> [[psysml:a04d4130-2616-430e-82e5-4df6c3f344d5 ]] \r\n",
       "}\r\n",
       "}\r\n",
       "}\r\n",
       "E14 -[thickness=3]- E15 [[psysml:356465e0-8362-42f7-8017-4c1d57dccd42 ]] \r\n",
       "E14 -[thickness=3]- E15 [[psysml:be002053-3eab-4239-b4ec-f62d8ddd6fa6 ]] \r\n",
       "@enduml\r\n",
       "\n",
       "PlantUML version 1.2020.13(Sat Jun 13 12:26:38 UTC 2020)\n",
       "(EPL source distribution)\n",
       "Java Runtime: OpenJDK Runtime Environment\n",
       "JVM: OpenJDK 64-Bit Server VM\n",
       "Default Encoding: UTF-8\n",
       "Language: en\n",
       "Country: null\n",
       "--></g></svg>"
      ]
     },
     "execution_count": 47,
     "metadata": {},
     "output_type": "execute_result"
    }
   ],
   "source": [
    "%viz --style=\"TB\" --view=\"Interconnection\" \"ConjugationTest\""
   ]
  },
  {
   "cell_type": "code",
   "execution_count": 48,
   "id": "c6ca7c8c",
   "metadata": {
    "execution": {
     "iopub.execute_input": "2021-10-03T08:28:08.676189Z",
     "iopub.status.busy": "2021-10-03T08:28:08.675764Z",
     "iopub.status.idle": "2021-10-03T08:28:08.680903Z",
     "shell.execute_reply": "2021-10-03T08:28:08.681227Z"
    }
   },
   "outputs": [
    {
     "data": {
      "image/svg+xml": [
       "<?xml version=\"1.0\" encoding=\"UTF-8\" standalone=\"no\"?><svg xmlns=\"http://www.w3.org/2000/svg\" xmlns:xlink=\"http://www.w3.org/1999/xlink\" contentScriptType=\"application/ecmascript\" contentStyleType=\"text/css\" height=\"12px\" preserveAspectRatio=\"none\" style=\"width:12px;height:12px;\" version=\"1.1\" viewBox=\"0 0 12 12\" width=\"12px\" zoomAndPan=\"magnify\"><defs/><g><!--MD5=[06afc254b03ac5e9d9fb7773b07d0800]\n",
       "@startuml\r\n",
       "skinparam ranksep 8\r\n",
       "top to bottom direction\r\n",
       "skinparam monochrome true\r\n",
       "skinparam classbackgroundcolor white\r\n",
       "skinparam shadowing false\r\n",
       "skinparam wrapWidth 300\r\n",
       "hide circle\r\n",
       "\r\n",
       "@enduml\r\n",
       "\n",
       "PlantUML version 1.2020.13(Sat Jun 13 12:26:38 UTC 2020)\n",
       "(EPL source distribution)\n",
       "Java Runtime: OpenJDK Runtime Environment\n",
       "JVM: OpenJDK 64-Bit Server VM\n",
       "Default Encoding: UTF-8\n",
       "Language: en\n",
       "Country: null\n",
       "--></g></svg>"
      ]
     },
     "execution_count": 48,
     "metadata": {},
     "output_type": "execute_result"
    }
   ],
   "source": [
    "%viz --style=\"TB\" --view=\"Action\" \"ConjugationTest\""
   ]
  },
  {
   "cell_type": "code",
   "execution_count": 49,
   "id": "4e9aad8e",
   "metadata": {
    "execution": {
     "iopub.execute_input": "2021-10-03T08:28:08.730890Z",
     "iopub.status.busy": "2021-10-03T08:28:08.730479Z",
     "iopub.status.idle": "2021-10-03T08:28:08.736952Z",
     "shell.execute_reply": "2021-10-03T08:28:08.737391Z"
    }
   },
   "outputs": [
    {
     "data": {
      "image/svg+xml": [
       "<?xml version=\"1.0\" encoding=\"UTF-8\" standalone=\"no\"?><svg xmlns=\"http://www.w3.org/2000/svg\" xmlns:xlink=\"http://www.w3.org/1999/xlink\" contentScriptType=\"application/ecmascript\" contentStyleType=\"text/css\" height=\"12px\" preserveAspectRatio=\"none\" style=\"width:12px;height:12px;\" version=\"1.1\" viewBox=\"0 0 12 12\" width=\"12px\" zoomAndPan=\"magnify\"><defs/><g><!--MD5=[e1ab0c84c44d2fef8bf5f140f2689906]\n",
       "@startuml\r\n",
       "skinparam roundcorner 20\r\n",
       "skinparam BoxPadding 20\r\n",
       "skinparam SequenceBoxBackgroundColor #white\r\n",
       "skinparam style strictuml\r\n",
       "skinparam maxMessageSize 100\r\n",
       "top to bottom direction\r\n",
       "skinparam monochrome true\r\n",
       "skinparam classbackgroundcolor white\r\n",
       "skinparam shadowing false\r\n",
       "skinparam wrapWidth 300\r\n",
       "hide circle\r\n",
       "\r\n",
       "@enduml\r\n",
       "\n",
       "PlantUML version 1.2020.13(Sat Jun 13 12:26:38 UTC 2020)\n",
       "(EPL source distribution)\n",
       "Java Runtime: OpenJDK Runtime Environment\n",
       "JVM: OpenJDK 64-Bit Server VM\n",
       "Default Encoding: UTF-8\n",
       "Language: en\n",
       "Country: null\n",
       "--></g></svg>"
      ]
     },
     "execution_count": 49,
     "metadata": {},
     "output_type": "execute_result"
    }
   ],
   "source": [
    "%viz --style=\"TB\" --view=\"Sequence\" \"ConjugationTest\""
   ]
  },
  {
   "cell_type": "code",
   "execution_count": 50,
   "id": "9370966c",
   "metadata": {
    "execution": {
     "iopub.execute_input": "2021-10-03T08:28:08.786327Z",
     "iopub.status.busy": "2021-10-03T08:28:08.785917Z",
     "iopub.status.idle": "2021-10-03T08:28:08.832386Z",
     "shell.execute_reply": "2021-10-03T08:28:08.829777Z"
    }
   },
   "outputs": [
    {
     "data": {
      "image/svg+xml": [
       "<?xml version=\"1.0\" encoding=\"UTF-8\" standalone=\"no\"?><svg xmlns=\"http://www.w3.org/2000/svg\" xmlns:xlink=\"http://www.w3.org/1999/xlink\" contentScriptType=\"application/ecmascript\" contentStyleType=\"text/css\" height=\"433px\" preserveAspectRatio=\"none\" style=\"width:629px;height:433px;\" version=\"1.1\" viewBox=\"0 0 629 433\" width=\"629px\" zoomAndPan=\"magnify\"><defs/><g><!--MD5=[fbc87193dbaf4d95561dea2c320d4a47]\n",
       "cluster E1--><a href=\"psysml:811d2e93-771a-4206-9534-119b2782ed8b\" target=\"_top\" title=\"psysml:811d2e93-771a-4206-9534-119b2782ed8b\" xlink:actuate=\"onRequest\" xlink:href=\"psysml:811d2e93-771a-4206-9534-119b2782ed8b\" xlink:show=\"new\" xlink:title=\"psysml:811d2e93-771a-4206-9534-119b2782ed8b\" xlink:type=\"simple\"><polygon fill=\"#FFFFFF\" points=\"16,6,136,6,143,28.2969,607,28.2969,607,421,16,421,16,6\" style=\"stroke: #000000; stroke-width: 1.5;\"/><line style=\"stroke: #000000; stroke-width: 1.5;\" x1=\"16\" x2=\"143\" y1=\"28.2969\" y2=\"28.2969\"/><text fill=\"#000000\" font-family=\"sans-serif\" font-size=\"14\" font-weight=\"bold\" lengthAdjust=\"spacingAndGlyphs\" textLength=\"114\" x=\"20\" y=\"20.9951\">ConjugationTest</text></a><!--MD5=[b4997ac47864f28c2f74865a473b2911]\n",
       "class E2--><a href=\"psysml:a118eece-ff6c-41b4-a8ec-63007fd81e06\" target=\"_top\" title=\"psysml:a118eece-ff6c-41b4-a8ec-63007fd81e06\" xlink:actuate=\"onRequest\" xlink:href=\"psysml:a118eece-ff6c-41b4-a8ec-63007fd81e06\" xlink:show=\"new\" xlink:title=\"psysml:a118eece-ff6c-41b4-a8ec-63007fd81e06\" xlink:type=\"simple\"><rect fill=\"#FFFFFF\" height=\"45.9375\" id=\"E2\" style=\"stroke: #383838; stroke-width: 1.5;\" width=\"66\" x=\"221\" y=\"359\"/><text fill=\"#000000\" font-family=\"sans-serif\" font-size=\"12\" font-style=\"italic\" lengthAdjust=\"spacingAndGlyphs\" textLength=\"64\" x=\"222\" y=\"375.1387\">«port def»</text><text fill=\"#000000\" font-family=\"sans-serif\" font-size=\"12\" lengthAdjust=\"spacingAndGlyphs\" textLength=\"8\" x=\"250\" y=\"389.1074\">P</text><line style=\"stroke: #383838; stroke-width: 1.5;\" x1=\"222\" x2=\"286\" y1=\"396.9375\" y2=\"396.9375\"/></a><!--MD5=[09b614a08d8cba4a07c9adeb5e0fee81]\n",
       "class E3--><a href=\"psysml:45f3428f-90c5-481c-8b5b-6d42a9c9ecb4\" target=\"_top\" title=\"psysml:45f3428f-90c5-481c-8b5b-6d42a9c9ecb4\" xlink:actuate=\"onRequest\" xlink:href=\"psysml:45f3428f-90c5-481c-8b5b-6d42a9c9ecb4\" xlink:show=\"new\" xlink:title=\"psysml:45f3428f-90c5-481c-8b5b-6d42a9c9ecb4\" xlink:type=\"simple\"><rect fill=\"#FFFFFF\" height=\"45.9375\" id=\"E3\" style=\"stroke: #383838; stroke-width: 1.5;\" width=\"66\" x=\"489\" y=\"147\"/><text fill=\"#000000\" font-family=\"sans-serif\" font-size=\"12\" font-style=\"italic\" lengthAdjust=\"spacingAndGlyphs\" textLength=\"64\" x=\"490\" y=\"163.1387\">«part def»</text><text fill=\"#000000\" font-family=\"sans-serif\" font-size=\"12\" lengthAdjust=\"spacingAndGlyphs\" textLength=\"8\" x=\"518\" y=\"177.1074\">B</text><line style=\"stroke: #383838; stroke-width: 1.5;\" x1=\"490\" x2=\"554\" y1=\"184.9375\" y2=\"184.9375\"/></a><!--MD5=[ebbe1d658d1005bcc118a6aa81145e00]\n",
       "class E4--><a href=\"psysml:f10162e3-9121-4423-8c61-28bf75aadc9a\" target=\"_top\" title=\"psysml:f10162e3-9121-4423-8c61-28bf75aadc9a\" xlink:actuate=\"onRequest\" xlink:href=\"psysml:f10162e3-9121-4423-8c61-28bf75aadc9a\" xlink:show=\"new\" xlink:title=\"psysml:f10162e3-9121-4423-8c61-28bf75aadc9a\" xlink:type=\"simple\"><rect fill=\"#FFFFFF\" height=\"45.9375\" id=\"E4\" rx=\"10\" ry=\"10\" style=\"stroke: #383838; stroke-width: 1.5;\" width=\"42\" x=\"466\" y=\"253\"/><text fill=\"#000000\" font-family=\"sans-serif\" font-size=\"12\" font-style=\"italic\" lengthAdjust=\"spacingAndGlyphs\" textLength=\"40\" x=\"467\" y=\"269.1387\">«port»</text><text fill=\"#000000\" font-family=\"sans-serif\" font-size=\"12\" lengthAdjust=\"spacingAndGlyphs\" textLength=\"32\" x=\"471\" y=\"283.1074\">p1: P</text><line style=\"stroke: #383838; stroke-width: 1.5;\" x1=\"467\" x2=\"507\" y1=\"290.9375\" y2=\"290.9375\"/></a><!--MD5=[270fce915f116d4de14055a7c1d9a0f3]\n",
       "class E5--><a href=\"psysml:f793b08e-b132-4869-8396-6344384571c9\" target=\"_top\" title=\"psysml:f793b08e-b132-4869-8396-6344384571c9\" xlink:actuate=\"onRequest\" xlink:href=\"psysml:f793b08e-b132-4869-8396-6344384571c9\" xlink:show=\"new\" xlink:title=\"psysml:f793b08e-b132-4869-8396-6344384571c9\" xlink:type=\"simple\"><rect fill=\"#FFFFFF\" height=\"45.9375\" id=\"E5\" rx=\"10\" ry=\"10\" style=\"stroke: #383838; stroke-width: 1.5;\" width=\"48\" x=\"543\" y=\"253\"/><text fill=\"#000000\" font-family=\"sans-serif\" font-size=\"12\" font-style=\"italic\" lengthAdjust=\"spacingAndGlyphs\" textLength=\"40\" x=\"547\" y=\"269.1387\">«port»</text><text fill=\"#000000\" font-family=\"sans-serif\" font-size=\"12\" lengthAdjust=\"spacingAndGlyphs\" textLength=\"42\" x=\"546\" y=\"283.1074\">p2: ~P</text><line style=\"stroke: #383838; stroke-width: 1.5;\" x1=\"544\" x2=\"590\" y1=\"290.9375\" y2=\"290.9375\"/></a><!--MD5=[60a26617385b1d2d0262a64233df1f8d]\n",
       "class E6--><a href=\"psysml:1e44cf6a-fe6c-483a-98ee-7c5816e24c4f\" target=\"_top\" title=\"psysml:1e44cf6a-fe6c-483a-98ee-7c5816e24c4f\" xlink:actuate=\"onRequest\" xlink:href=\"psysml:1e44cf6a-fe6c-483a-98ee-7c5816e24c4f\" xlink:show=\"new\" xlink:title=\"psysml:1e44cf6a-fe6c-483a-98ee-7c5816e24c4f\" xlink:type=\"simple\"><rect fill=\"#FFFFFF\" height=\"45.9375\" id=\"E6\" style=\"stroke: #383838; stroke-width: 1.5;\" width=\"110\" x=\"282\" y=\"147\"/><text fill=\"#000000\" font-family=\"sans-serif\" font-size=\"12\" font-style=\"italic\" lengthAdjust=\"spacingAndGlyphs\" textLength=\"108\" x=\"283\" y=\"163.1387\">«connection def»</text><text fill=\"#000000\" font-family=\"sans-serif\" font-size=\"12\" lengthAdjust=\"spacingAndGlyphs\" textLength=\"8\" x=\"333\" y=\"177.1074\">A</text><line style=\"stroke: #383838; stroke-width: 1.5;\" x1=\"283\" x2=\"391\" y1=\"184.9375\" y2=\"184.9375\"/></a><!--MD5=[2156ba9850f5573cc1fc38a6a4b2f02b]\n",
       "class E7--><a href=\"psysml:592da980-ebcc-4bfb-b89f-9a898fd7b408\" target=\"_top\" title=\"psysml:592da980-ebcc-4bfb-b89f-9a898fd7b408\" xlink:actuate=\"onRequest\" xlink:href=\"psysml:592da980-ebcc-4bfb-b89f-9a898fd7b408\" xlink:show=\"new\" xlink:title=\"psysml:592da980-ebcc-4bfb-b89f-9a898fd7b408\" xlink:type=\"simple\"><rect fill=\"#FFFFFF\" height=\"45.9375\" id=\"E7\" rx=\"10\" ry=\"10\" style=\"stroke: #383838; stroke-width: 1.5;\" width=\"42\" x=\"306\" y=\"253\"/><text fill=\"#000000\" font-family=\"sans-serif\" font-size=\"12\" font-style=\"italic\" lengthAdjust=\"spacingAndGlyphs\" textLength=\"40\" x=\"307\" y=\"269.1387\">«port»</text><text fill=\"#000000\" font-family=\"sans-serif\" font-size=\"12\" lengthAdjust=\"spacingAndGlyphs\" textLength=\"32\" x=\"311\" y=\"283.1074\">p1: P</text><line style=\"stroke: #383838; stroke-width: 1.5;\" x1=\"307\" x2=\"347\" y1=\"290.9375\" y2=\"290.9375\"/></a><!--MD5=[b9389687b975829384b498ac4b7476b2]\n",
       "class E8--><a href=\"psysml:4730362b-6892-4b61-8b08-4b1eb3a58a19\" target=\"_top\" title=\"psysml:4730362b-6892-4b61-8b08-4b1eb3a58a19\" xlink:actuate=\"onRequest\" xlink:href=\"psysml:4730362b-6892-4b61-8b08-4b1eb3a58a19\" xlink:show=\"new\" xlink:title=\"psysml:4730362b-6892-4b61-8b08-4b1eb3a58a19\" xlink:type=\"simple\"><rect fill=\"#FFFFFF\" height=\"45.9375\" id=\"E8\" rx=\"10\" ry=\"10\" style=\"stroke: #383838; stroke-width: 1.5;\" width=\"48\" x=\"383\" y=\"253\"/><text fill=\"#000000\" font-family=\"sans-serif\" font-size=\"12\" font-style=\"italic\" lengthAdjust=\"spacingAndGlyphs\" textLength=\"40\" x=\"387\" y=\"269.1387\">«port»</text><text fill=\"#000000\" font-family=\"sans-serif\" font-size=\"12\" lengthAdjust=\"spacingAndGlyphs\" textLength=\"42\" x=\"386\" y=\"283.1074\">p2: ~P</text><line style=\"stroke: #383838; stroke-width: 1.5;\" x1=\"384\" x2=\"430\" y1=\"290.9375\" y2=\"290.9375\"/></a><!--MD5=[fd4143e9d270a159db93a4ea2a975926]\n",
       "class E9--><a href=\"psysml:c589f335-4cab-4324-b073-03ca89b55f7d\" target=\"_top\" title=\"psysml:c589f335-4cab-4324-b073-03ca89b55f7d\" xlink:actuate=\"onRequest\" xlink:href=\"psysml:c589f335-4cab-4324-b073-03ca89b55f7d\" xlink:show=\"new\" xlink:title=\"psysml:c589f335-4cab-4324-b073-03ca89b55f7d\" xlink:type=\"simple\"><rect fill=\"#FFFFFF\" height=\"45.9375\" id=\"E9\" style=\"stroke: #383838; stroke-width: 1.5;\" width=\"96\" x=\"146\" y=\"147\"/><text fill=\"#000000\" font-family=\"sans-serif\" font-size=\"12\" font-style=\"italic\" lengthAdjust=\"spacingAndGlyphs\" textLength=\"94\" x=\"147\" y=\"163.1387\">«interface def»</text><text fill=\"#000000\" font-family=\"sans-serif\" font-size=\"12\" lengthAdjust=\"spacingAndGlyphs\" textLength=\"3\" x=\"192.5\" y=\"177.1074\">I</text><line style=\"stroke: #383838; stroke-width: 1.5;\" x1=\"147\" x2=\"241\" y1=\"184.9375\" y2=\"184.9375\"/></a><!--MD5=[96f4274e9e20536e775497830990834d]\n",
       "class E10--><a href=\"psysml:0a18d135-3a15-4f1e-a48b-3983b85e55aa\" target=\"_top\" title=\"psysml:0a18d135-3a15-4f1e-a48b-3983b85e55aa\" xlink:actuate=\"onRequest\" xlink:href=\"psysml:0a18d135-3a15-4f1e-a48b-3983b85e55aa\" xlink:show=\"new\" xlink:title=\"psysml:0a18d135-3a15-4f1e-a48b-3983b85e55aa\" xlink:type=\"simple\"><rect fill=\"#FFFFFF\" height=\"45.9375\" id=\"E10\" rx=\"10\" ry=\"10\" style=\"stroke: #383838; stroke-width: 1.5;\" width=\"42\" x=\"146\" y=\"253\"/><text fill=\"#000000\" font-family=\"sans-serif\" font-size=\"12\" font-style=\"italic\" lengthAdjust=\"spacingAndGlyphs\" textLength=\"40\" x=\"147\" y=\"269.1387\">«port»</text><text fill=\"#000000\" font-family=\"sans-serif\" font-size=\"12\" lengthAdjust=\"spacingAndGlyphs\" textLength=\"32\" x=\"151\" y=\"283.1074\">p1: P</text><line style=\"stroke: #383838; stroke-width: 1.5;\" x1=\"147\" x2=\"187\" y1=\"290.9375\" y2=\"290.9375\"/></a><!--MD5=[1dd1bfd58a279cf63c5f349dbc8fc6a1]\n",
       "class E11--><a href=\"psysml:f0ebefc1-580e-4b11-b9cf-e3cb40b874a3\" target=\"_top\" title=\"psysml:f0ebefc1-580e-4b11-b9cf-e3cb40b874a3\" xlink:actuate=\"onRequest\" xlink:href=\"psysml:f0ebefc1-580e-4b11-b9cf-e3cb40b874a3\" xlink:show=\"new\" xlink:title=\"psysml:f0ebefc1-580e-4b11-b9cf-e3cb40b874a3\" xlink:type=\"simple\"><rect fill=\"#FFFFFF\" height=\"45.9375\" id=\"E11\" rx=\"10\" ry=\"10\" style=\"stroke: #383838; stroke-width: 1.5;\" width=\"48\" x=\"223\" y=\"253\"/><text fill=\"#000000\" font-family=\"sans-serif\" font-size=\"12\" font-style=\"italic\" lengthAdjust=\"spacingAndGlyphs\" textLength=\"40\" x=\"227\" y=\"269.1387\">«port»</text><text fill=\"#000000\" font-family=\"sans-serif\" font-size=\"12\" lengthAdjust=\"spacingAndGlyphs\" textLength=\"42\" x=\"226\" y=\"283.1074\">p2: ~P</text><line style=\"stroke: #383838; stroke-width: 1.5;\" x1=\"224\" x2=\"270\" y1=\"290.9375\" y2=\"290.9375\"/></a><!--MD5=[49a0ec8f00dab7302a31f22d0f0fe584]\n",
       "class E12--><a href=\"psysml:99d6c811-1239-4557-8bf5-512a2d9b51f5\" target=\"_top\" title=\"psysml:99d6c811-1239-4557-8bf5-512a2d9b51f5\" xlink:actuate=\"onRequest\" xlink:href=\"psysml:99d6c811-1239-4557-8bf5-512a2d9b51f5\" xlink:show=\"new\" xlink:title=\"psysml:99d6c811-1239-4557-8bf5-512a2d9b51f5\" xlink:type=\"simple\"><rect fill=\"#FFFFFF\" height=\"45.9375\" id=\"E12\" style=\"stroke: #383838; stroke-width: 1.5;\" width=\"66\" x=\"47\" y=\"41\"/><text fill=\"#000000\" font-family=\"sans-serif\" font-size=\"12\" font-style=\"italic\" lengthAdjust=\"spacingAndGlyphs\" textLength=\"64\" x=\"48\" y=\"57.1387\">«part def»</text><text fill=\"#000000\" font-family=\"sans-serif\" font-size=\"12\" lengthAdjust=\"spacingAndGlyphs\" textLength=\"16\" x=\"72\" y=\"71.1074\">B1</text><line style=\"stroke: #383838; stroke-width: 1.5;\" x1=\"48\" x2=\"112\" y1=\"78.9375\" y2=\"78.9375\"/></a><!--MD5=[ee3c913d1a06f366521f9ef512b67efe]\n",
       "class E13--><a href=\"psysml:c80e6282-4b88-42a6-beea-d83b68d36327\" target=\"_top\" title=\"psysml:c80e6282-4b88-42a6-beea-d83b68d36327\" xlink:actuate=\"onRequest\" xlink:href=\"psysml:c80e6282-4b88-42a6-beea-d83b68d36327\" xlink:show=\"new\" xlink:title=\"psysml:c80e6282-4b88-42a6-beea-d83b68d36327\" xlink:type=\"simple\"><rect fill=\"#FFFFFF\" height=\"45.9375\" id=\"E13\" rx=\"10\" ry=\"10\" style=\"stroke: #383838; stroke-width: 1.5;\" width=\"42\" x=\"59\" y=\"147\"/><text fill=\"#000000\" font-family=\"sans-serif\" font-size=\"12\" font-style=\"italic\" lengthAdjust=\"spacingAndGlyphs\" textLength=\"40\" x=\"60\" y=\"163.1387\">«part»</text><text fill=\"#000000\" font-family=\"sans-serif\" font-size=\"12\" lengthAdjust=\"spacingAndGlyphs\" textLength=\"8\" x=\"76\" y=\"177.1074\">p</text><line style=\"stroke: #383838; stroke-width: 1.5;\" x1=\"60\" x2=\"100\" y1=\"184.9375\" y2=\"184.9375\"/></a><!--MD5=[bee11217b2f71d958a27249dc326068c]\n",
       "class E14--><a href=\"psysml:36fdd18b-cc96-4106-b803-027f179d9fab\" target=\"_top\" title=\"psysml:36fdd18b-cc96-4106-b803-027f179d9fab\" xlink:actuate=\"onRequest\" xlink:href=\"psysml:36fdd18b-cc96-4106-b803-027f179d9fab\" xlink:show=\"new\" xlink:title=\"psysml:36fdd18b-cc96-4106-b803-027f179d9fab\" xlink:type=\"simple\"><rect fill=\"#FFFFFF\" height=\"45.9375\" id=\"E14\" rx=\"10\" ry=\"10\" style=\"stroke: #383838; stroke-width: 1.5;\" width=\"42\" x=\"69\" y=\"253\"/><text fill=\"#000000\" font-family=\"sans-serif\" font-size=\"12\" font-style=\"italic\" lengthAdjust=\"spacingAndGlyphs\" textLength=\"40\" x=\"70\" y=\"269.1387\">«port»</text><text fill=\"#000000\" font-family=\"sans-serif\" font-size=\"12\" lengthAdjust=\"spacingAndGlyphs\" textLength=\"32\" x=\"74\" y=\"283.1074\">p1: P</text><line style=\"stroke: #383838; stroke-width: 1.5;\" x1=\"70\" x2=\"110\" y1=\"290.9375\" y2=\"290.9375\"/></a><!--MD5=[0c48fb7552dae8cbbef69381101a84c8]\n",
       "class E15--><a href=\"psysml:a04d4130-2616-430e-82e5-4df6c3f344d5\" target=\"_top\" title=\"psysml:a04d4130-2616-430e-82e5-4df6c3f344d5\" xlink:actuate=\"onRequest\" xlink:href=\"psysml:a04d4130-2616-430e-82e5-4df6c3f344d5\" xlink:show=\"new\" xlink:title=\"psysml:a04d4130-2616-430e-82e5-4df6c3f344d5\" xlink:type=\"simple\"><rect fill=\"#FFFFFF\" height=\"45.9375\" id=\"E15\" rx=\"10\" ry=\"10\" style=\"stroke: #383838; stroke-width: 1.5;\" width=\"48\" x=\"66\" y=\"359\"/><text fill=\"#000000\" font-family=\"sans-serif\" font-size=\"12\" font-style=\"italic\" lengthAdjust=\"spacingAndGlyphs\" textLength=\"40\" x=\"70\" y=\"375.1387\">«port»</text><text fill=\"#000000\" font-family=\"sans-serif\" font-size=\"12\" lengthAdjust=\"spacingAndGlyphs\" textLength=\"42\" x=\"69\" y=\"389.1074\">p2: ~P</text><line style=\"stroke: #383838; stroke-width: 1.5;\" x1=\"67\" x2=\"113\" y1=\"396.9375\" y2=\"396.9375\"/></a><!--MD5=[4672eba38e49728da53d11aeb285b987]\n",
       "reverse link E3 to E4--><a href=\"psysml:478537c4-9aea-45e7-93bf-51b2f99f76d0\" target=\"_top\" title=\"psysml:478537c4-9aea-45e7-93bf-51b2f99f76d0\" xlink:actuate=\"onRequest\" xlink:href=\"psysml:478537c4-9aea-45e7-93bf-51b2f99f76d0\" xlink:show=\"new\" xlink:title=\"psysml:478537c4-9aea-45e7-93bf-51b2f99f76d0\" xlink:type=\"simple\"><path d=\"M510.39,205.49 C505.12,221.15 499.05,239.19 494.41,252.98 \" fill=\"none\" id=\"E3&lt;-E4\" style=\"stroke: #383838; stroke-width: 1.0;\"/><polygon fill=\"#FFFFFF\" points=\"514.58,193.06,508.8756,197.4713,510.7536,204.4336,516.458,200.0223,514.58,193.06\" style=\"stroke: #383838; stroke-width: 1.0;\"/><text fill=\"#000000\" font-family=\"sans-serif\" font-size=\"13\" lengthAdjust=\"spacingAndGlyphs\" textLength=\"8\" x=\"487.3264\" y=\"241.8709\">1</text></a><!--MD5=[185131fc0dcab0a4505a2ebe144e961b]\n",
       "link E4 to E2--><a href=\"psysml:9a27f54b-62e8-4ed3-8ffb-179b9354440f\" target=\"_top\" title=\"psysml:9a27f54b-62e8-4ed3-8ffb-179b9354440f\" xlink:actuate=\"onRequest\" xlink:href=\"psysml:9a27f54b-62e8-4ed3-8ffb-179b9354440f\" xlink:show=\"new\" xlink:title=\"psysml:9a27f54b-62e8-4ed3-8ffb-179b9354440f\" xlink:type=\"simple\"><path d=\"M465.96,289.82 C460.51,292.96 454.6,296.22 449,299 C401.46,322.64 345.42,345.73 305.65,361.35 \" fill=\"none\" id=\"E4-&gt;E2\" style=\"stroke: #383838; stroke-width: 1.0;\"/><polygon fill=\"#FFFFFF\" points=\"287,368.6,302.1754,355.1945,307.2453,368.2443,287,368.6\" style=\"stroke: #383838; stroke-width: 1.0;\"/><ellipse cx=\"308.2128\" cy=\"354.9946\" fill=\"#383838\" rx=\"2\" ry=\"2\" style=\"stroke: #383838; stroke-width: 1.0;\"/><ellipse cx=\"311.8342\" cy=\"364.3159\" fill=\"#383838\" rx=\"2\" ry=\"2\" style=\"stroke: #383838; stroke-width: 1.0;\"/></a><!--MD5=[191cde3d490a3f6d7bb551fe3ddca469]\n",
       "reverse link E3 to E5--><a href=\"psysml:0c237cb0-b529-413c-8aaf-d2f6ce3a1092\" target=\"_top\" title=\"psysml:0c237cb0-b529-413c-8aaf-d2f6ce3a1092\" xlink:actuate=\"onRequest\" xlink:href=\"psysml:0c237cb0-b529-413c-8aaf-d2f6ce3a1092\" xlink:show=\"new\" xlink:title=\"psysml:0c237cb0-b529-413c-8aaf-d2f6ce3a1092\" xlink:type=\"simple\"><path d=\"M536.72,205.03 C543.54,220.78 551.45,239.06 557.47,252.98 \" fill=\"none\" id=\"E3&lt;-E5\" style=\"stroke: #383838; stroke-width: 1.0;\"/><polygon fill=\"#FFFFFF\" points=\"531.54,193.06,530.2495,200.1547,536.302,204.0747,537.5926,196.98,531.54,193.06\" style=\"stroke: #383838; stroke-width: 1.0;\"/><text fill=\"#000000\" font-family=\"sans-serif\" font-size=\"13\" lengthAdjust=\"spacingAndGlyphs\" textLength=\"8\" x=\"545.8338\" y=\"241.8709\">1</text></a><!--MD5=[3f50a3473f1dfb74d3f76443e03635af]\n",
       "reverse link E6 to E7--><a href=\"psysml:b94a6cc2-6585-4221-b4bd-c6e1360a7593\" target=\"_top\" title=\"psysml:b94a6cc2-6585-4221-b4bd-c6e1360a7593\" xlink:actuate=\"onRequest\" xlink:href=\"psysml:b94a6cc2-6585-4221-b4bd-c6e1360a7593\" xlink:show=\"new\" xlink:title=\"psysml:b94a6cc2-6585-4221-b4bd-c6e1360a7593\" xlink:type=\"simple\"><path d=\"M333.59,206.44 C332.11,221.87 330.42,239.47 329.12,252.98 \" fill=\"none\" id=\"E6&lt;-E7\" style=\"stroke: #383838; stroke-width: 1.0;\"/><polygon fill=\"#FFFFFF\" points=\"334.88,193.06,330.3242,198.6497,333.7317,205.0049,338.2875,199.4152,334.88,193.06\" style=\"stroke: #383838; stroke-width: 1.0;\"/><text fill=\"#000000\" font-family=\"sans-serif\" font-size=\"13\" lengthAdjust=\"spacingAndGlyphs\" textLength=\"8\" x=\"320.6148\" y=\"241.8709\">1</text></a><!--MD5=[583832df87f4419a098336a29a52fa00]\n",
       "link E7 to E2--><a href=\"psysml:6c7ecdb4-3704-4141-b5eb-90be274661d4\" target=\"_top\" title=\"psysml:6c7ecdb4-3704-4141-b5eb-90be274661d4\" xlink:actuate=\"onRequest\" xlink:href=\"psysml:6c7ecdb4-3704-4141-b5eb-90be274661d4\" xlink:show=\"new\" xlink:title=\"psysml:6c7ecdb4-3704-4141-b5eb-90be274661d4\" xlink:type=\"simple\"><path d=\"M311.52,299.06 C302.71,311.6 291.43,327.68 281.19,342.26 \" fill=\"none\" id=\"E7-&gt;E2\" style=\"stroke: #383838; stroke-width: 1.0;\"/><polygon fill=\"#FFFFFF\" points=\"269.46,358.98,274.6532,339.4088,286.1093,347.4561,269.46,358.98\" style=\"stroke: #383838; stroke-width: 1.0;\"/><ellipse cx=\"279.5662\" cy=\"335.8942\" fill=\"#383838\" rx=\"2\" ry=\"2\" style=\"stroke: #383838; stroke-width: 1.0;\"/><ellipse cx=\"287.7491\" cy=\"341.6422\" fill=\"#383838\" rx=\"2\" ry=\"2\" style=\"stroke: #383838; stroke-width: 1.0;\"/></a><!--MD5=[f4cf0736d43fd73c4ef68817c49d37d5]\n",
       "reverse link E6 to E8--><a href=\"psysml:c893fa2e-0043-44e8-be45-2077001790d0\" target=\"_top\" title=\"psysml:c893fa2e-0043-44e8-be45-2077001790d0\" xlink:actuate=\"onRequest\" xlink:href=\"psysml:c893fa2e-0043-44e8-be45-2077001790d0\" xlink:show=\"new\" xlink:title=\"psysml:c893fa2e-0043-44e8-be45-2077001790d0\" xlink:type=\"simple\"><path d=\"M359.27,204.09 C370.02,220.06 382.62,238.78 392.18,252.98 \" fill=\"none\" id=\"E6&lt;-E8\" style=\"stroke: #383838; stroke-width: 1.0;\"/><polygon fill=\"#FFFFFF\" points=\"351.85,193.06,351.8808,200.271,358.5489,203.0161,358.5182,195.8051,351.85,193.06\" style=\"stroke: #383838; stroke-width: 1.0;\"/><text fill=\"#000000\" font-family=\"sans-serif\" font-size=\"13\" lengthAdjust=\"spacingAndGlyphs\" textLength=\"8\" x=\"379.1221\" y=\"241.8709\">1</text></a><!--MD5=[23ac544a70576c3e717098101004234c]\n",
       "reverse link E9 to E10--><a href=\"psysml:3723b58c-a4dd-4ef3-9a79-2a659572d83c\" target=\"_top\" title=\"psysml:3723b58c-a4dd-4ef3-9a79-2a659572d83c\" xlink:actuate=\"onRequest\" xlink:href=\"psysml:3723b58c-a4dd-4ef3-9a79-2a659572d83c\" xlink:show=\"new\" xlink:title=\"psysml:3723b58c-a4dd-4ef3-9a79-2a659572d83c\" xlink:type=\"simple\"><path d=\"M184.92,205.96 C180.89,221.51 176.26,239.33 172.72,252.98 \" fill=\"none\" id=\"E9&lt;-E10\" style=\"stroke: #383838; stroke-width: 1.0;\"/><polygon fill=\"#FFFFFF\" points=\"188.27,193.06,182.8943,197.8665,185.2635,204.6773,190.6392,199.8708,188.27,193.06\" style=\"stroke: #383838; stroke-width: 1.0;\"/><text fill=\"#000000\" font-family=\"sans-serif\" font-size=\"13\" lengthAdjust=\"spacingAndGlyphs\" textLength=\"8\" x=\"165.1823\" y=\"241.8709\">1</text></a><!--MD5=[0f36bececdf0dff6e600d6f64214b0f1]\n",
       "link E10 to E2--><a href=\"psysml:8c7a6e5c-2c0e-473c-a2c4-4062964bb416\" target=\"_top\" title=\"psysml:8c7a6e5c-2c0e-473c-a2c4-4062964bb416\" xlink:actuate=\"onRequest\" xlink:href=\"psysml:8c7a6e5c-2c0e-473c-a2c4-4062964bb416\" xlink:show=\"new\" xlink:title=\"psysml:8c7a6e5c-2c0e-473c-a2c4-4062964bb416\" xlink:type=\"simple\"><path d=\"M185.45,299.06 C196.18,311.88 209.99,328.39 222.4,343.22 \" fill=\"none\" id=\"E10-&gt;E2\" style=\"stroke: #383838; stroke-width: 1.0;\"/><polygon fill=\"#FFFFFF\" points=\"235.58,358.98,218.0168,348.9036,228.7522,339.9174,235.58,358.98\" style=\"stroke: #383838; stroke-width: 1.0;\"/><ellipse cx=\"215.8918\" cy=\"343.249\" fill=\"#383838\" rx=\"2\" ry=\"2\" style=\"stroke: #383838; stroke-width: 1.0;\"/><ellipse cx=\"223.5599\" cy=\"336.8303\" fill=\"#383838\" rx=\"2\" ry=\"2\" style=\"stroke: #383838; stroke-width: 1.0;\"/></a><!--MD5=[1fc04a95fd77ad5ce46c1a3027516051]\n",
       "reverse link E9 to E11--><a href=\"psysml:05b52cb0-1bec-4ecb-a4ba-b6e0a5fd36fa\" target=\"_top\" title=\"psysml:05b52cb0-1bec-4ecb-a4ba-b6e0a5fd36fa\" xlink:actuate=\"onRequest\" xlink:href=\"psysml:05b52cb0-1bec-4ecb-a4ba-b6e0a5fd36fa\" xlink:show=\"new\" xlink:title=\"psysml:05b52cb0-1bec-4ecb-a4ba-b6e0a5fd36fa\" xlink:type=\"simple\"><path d=\"M211.34,205.03 C219.37,220.78 228.68,239.06 235.78,252.98 \" fill=\"none\" id=\"E9&lt;-E11\" style=\"stroke: #383838; stroke-width: 1.0;\"/><polygon fill=\"#FFFFFF\" points=\"205.24,193.06,204.3983,200.2218,210.6855,203.7533,211.5272,196.5915,205.24,193.06\" style=\"stroke: #383838; stroke-width: 1.0;\"/><text fill=\"#000000\" font-family=\"sans-serif\" font-size=\"13\" lengthAdjust=\"spacingAndGlyphs\" textLength=\"8\" x=\"223.6896\" y=\"241.8709\">1</text></a><!--MD5=[062ed86c389d1a88f61c6380d0491e17]\n",
       "reverse link E12 to E13--><a href=\"psysml:2ea9f126-2045-475e-98b2-0bebbeaf39ba\" target=\"_top\" title=\"psysml:2ea9f126-2045-475e-98b2-0bebbeaf39ba\" xlink:actuate=\"onRequest\" xlink:href=\"psysml:2ea9f126-2045-475e-98b2-0bebbeaf39ba\" xlink:show=\"new\" xlink:title=\"psysml:2ea9f126-2045-475e-98b2-0bebbeaf39ba\" xlink:type=\"simple\"><path d=\"M80,100.44 C80,115.87 80,133.47 80,146.98 \" fill=\"none\" id=\"E12&lt;-E13\" style=\"stroke: #383838; stroke-width: 1.0;\"/><polygon fill=\"#383838\" points=\"80,87.06,76,93.06,80,99.06,84,93.06,80,87.06\" style=\"stroke: #383838; stroke-width: 1.0;\"/><text fill=\"#000000\" font-family=\"sans-serif\" font-size=\"13\" lengthAdjust=\"spacingAndGlyphs\" textLength=\"8\" x=\"70.925\" y=\"135.8709\">1</text></a><!--MD5=[01db00f33b28669d6d9febea71002831]\n",
       "reverse link E13 to E14--><a href=\"psysml:56644651-1cff-4e4b-add6-5aaf4cbf3323\" target=\"_top\" title=\"psysml:56644651-1cff-4e4b-add6-5aaf4cbf3323\" xlink:actuate=\"onRequest\" xlink:href=\"psysml:56644651-1cff-4e4b-add6-5aaf4cbf3323\" xlink:show=\"new\" xlink:title=\"psysml:56644651-1cff-4e4b-add6-5aaf4cbf3323\" xlink:type=\"simple\"><path d=\"M83.41,206.44 C84.89,221.87 86.58,239.47 87.88,252.98 \" fill=\"none\" id=\"E13&lt;-E14\" style=\"stroke: #383838; stroke-width: 1.0;\"/><polygon fill=\"#FFFFFF\" points=\"82.12,193.06,78.7125,199.4152,83.2683,205.0049,86.6758,198.6497,82.12,193.06\" style=\"stroke: #383838; stroke-width: 1.0;\"/><text fill=\"#000000\" font-family=\"sans-serif\" font-size=\"13\" lengthAdjust=\"spacingAndGlyphs\" textLength=\"8\" x=\"78.2353\" y=\"241.8709\">1</text></a><!--MD5=[e5566ac99d7714697a7fbc17f6b550fe]\n",
       "link E14 to E2--><a href=\"psysml:004f1bd4-f46a-4fc3-b446-5abbd305cc50\" target=\"_top\" title=\"psysml:004f1bd4-f46a-4fc3-b446-5abbd305cc50\" xlink:actuate=\"onRequest\" xlink:href=\"psysml:004f1bd4-f46a-4fc3-b446-5abbd305cc50\" xlink:show=\"new\" xlink:title=\"psysml:004f1bd4-f46a-4fc3-b446-5abbd305cc50\" xlink:type=\"simple\"><path d=\"M111.1,290.38 C134.32,305.1 172.45,329.29 203.49,348.97 \" fill=\"none\" id=\"E14-&gt;E2\" style=\"stroke: #383838; stroke-width: 1.0;\"/><polygon fill=\"#FFFFFF\" points=\"220.77,359.93,200.9767,355.661,208.4774,343.8399,220.77,359.93\" style=\"stroke: #383838; stroke-width: 1.0;\"/><ellipse cx=\"197.2353\" cy=\"350.9184\" fill=\"#383838\" rx=\"2\" ry=\"2\" style=\"stroke: #383838; stroke-width: 1.0;\"/><ellipse cx=\"202.593\" cy=\"342.4748\" fill=\"#383838\" rx=\"2\" ry=\"2\" style=\"stroke: #383838; stroke-width: 1.0;\"/></a><!--MD5=[e9a5e828c71fd2209a11a152f562d491]\n",
       "reverse link E13 to E15--><a href=\"psysml:439c4bcd-5bf6-4395-bbdb-0df2330c2504\" target=\"_top\" title=\"psysml:439c4bcd-5bf6-4395-bbdb-0df2330c2504\" xlink:actuate=\"onRequest\" xlink:href=\"psysml:439c4bcd-5bf6-4395-bbdb-0df2330c2504\" xlink:show=\"new\" xlink:title=\"psysml:439c4bcd-5bf6-4395-bbdb-0df2330c2504\" xlink:type=\"simple\"><path d=\"M64.33,205.31 C54.54,231.09 45,267.26 52,299 C56.73,320.45 67.65,342.96 76.58,358.96 \" fill=\"none\" id=\"E13&lt;-E15\" style=\"stroke: #383838; stroke-width: 1.0;\"/><polygon fill=\"#FFFFFF\" points=\"69.24,193.2,63.2795,197.2586,64.7334,204.3216,70.6939,200.263,69.24,193.2\" style=\"stroke: #383838; stroke-width: 1.0;\"/><text fill=\"#000000\" font-family=\"sans-serif\" font-size=\"13\" lengthAdjust=\"spacingAndGlyphs\" textLength=\"8\" x=\"63.8984\" y=\"347.8455\">1</text></a><!--MD5=[3afbdc645381407e1bc99677323a2513]\n",
       "link E14 to E15--><a href=\"psysml:356465e0-8362-42f7-8017-4c1d57dccd42\" target=\"_top\" title=\"psysml:356465e0-8362-42f7-8017-4c1d57dccd42\" xlink:actuate=\"onRequest\" xlink:href=\"psysml:356465e0-8362-42f7-8017-4c1d57dccd42\" xlink:show=\"new\" xlink:title=\"psysml:356465e0-8362-42f7-8017-4c1d57dccd42\" xlink:type=\"simple\"><path d=\"M79.35,299.06 C76.55,316.7 76.55,341.34 79.36,358.98 \" fill=\"none\" id=\"E14-E15\" style=\"stroke: #383838; stroke-width: 3.0;\"/></a><!--MD5=[3afbdc645381407e1bc99677323a2513]\n",
       "link E14 to E15--><a href=\"psysml:be002053-3eab-4239-b4ec-f62d8ddd6fa6\" target=\"_top\" title=\"psysml:be002053-3eab-4239-b4ec-f62d8ddd6fa6\" xlink:actuate=\"onRequest\" xlink:href=\"psysml:be002053-3eab-4239-b4ec-f62d8ddd6fa6\" xlink:show=\"new\" xlink:title=\"psysml:be002053-3eab-4239-b4ec-f62d8ddd6fa6\" xlink:type=\"simple\"><path d=\"M101.27,299.06 C104.24,316.7 104.24,341.34 101.27,358.98 \" fill=\"none\" id=\"E14-E15-1\" style=\"stroke: #383838; stroke-width: 3.0;\"/></a><!--MD5=[2d26c13053264d305fc8f4b4f9060800]\n",
       "@startuml\r\n",
       "top to bottom direction\r\n",
       "skinparam monochrome true\r\n",
       "skinparam classbackgroundcolor white\r\n",
       "skinparam shadowing false\r\n",
       "skinparam wrapWidth 300\r\n",
       "hide circle\r\n",
       "\r\n",
       "package \"ConjugationTest\" as E1  [[psysml:811d2e93-771a-4206-9534-119b2782ed8b ]]  {\r\n",
       "comp def \"P\" as E2  <<(T,blue) port def>> [[psysml:a118eece-ff6c-41b4-a8ec-63007fd81e06 ]] {\r\n",
       "}\r\n",
       "comp def \"B\" as E3  <<(T,blue) part def>> [[psysml:45f3428f-90c5-481c-8b5b-6d42a9c9ecb4 ]] {\r\n",
       "}\r\n",
       "comp usage \"p1: P\" as E4  <<(T,blue) port>> [[psysml:f10162e3-9121-4423-8c61-28bf75aadc9a ]] {\r\n",
       "}\r\n",
       "comp usage \"p2: ~P\" as E5  <<(T,blue) port>> [[psysml:f793b08e-b132-4869-8396-6344384571c9 ]] {\r\n",
       "}\r\n",
       "comp def \"A\" as E6  <<(T,blue) connection def>> [[psysml:1e44cf6a-fe6c-483a-98ee-7c5816e24c4f ]] {\r\n",
       "}\r\n",
       "comp usage \"p1: P\" as E7  <<(T,blue) port>> [[psysml:592da980-ebcc-4bfb-b89f-9a898fd7b408 ]] {\r\n",
       "}\r\n",
       "comp usage \"p2: ~P\" as E8  <<(T,blue) port>> [[psysml:4730362b-6892-4b61-8b08-4b1eb3a58a19 ]] {\r\n",
       "}\r\n",
       "comp def \"I\" as E9  <<(T,blue) interface def>> [[psysml:c589f335-4cab-4324-b073-03ca89b55f7d ]] {\r\n",
       "}\r\n",
       "comp usage \"p1: P\" as E10  <<(T,blue) port>> [[psysml:0a18d135-3a15-4f1e-a48b-3983b85e55aa ]] {\r\n",
       "}\r\n",
       "comp usage \"p2: ~P\" as E11  <<(T,blue) port>> [[psysml:f0ebefc1-580e-4b11-b9cf-e3cb40b874a3 ]] {\r\n",
       "}\r\n",
       "comp def \"B1\" as E12  <<(T,blue) part def>> [[psysml:99d6c811-1239-4557-8bf5-512a2d9b51f5 ]] {\r\n",
       "}\r\n",
       "comp usage \"p\" as E13  <<(T,blue) part>> [[psysml:c80e6282-4b88-42a6-beea-d83b68d36327 ]] {\r\n",
       "}\r\n",
       "comp usage \"p1: P\" as E14  <<(T,blue) port>> [[psysml:36fdd18b-cc96-4106-b803-027f179d9fab ]] {\r\n",
       "}\r\n",
       "comp usage \"p2: ~P\" as E15  <<(T,blue) port>> [[psysml:a04d4130-2616-430e-82e5-4df6c3f344d5 ]] {\r\n",
       "}\r\n",
       "}\r\n",
       "E3 o- - \"1\"E4 [[psysml:478537c4-9aea-45e7-93bf-51b2f99f76d0 ]] \r\n",
       "E4 - -:|> E2 [[psysml:9a27f54b-62e8-4ed3-8ffb-179b9354440f ]] \r\n",
       "E3 o- - \"1\"E5 [[psysml:0c237cb0-b529-413c-8aaf-d2f6ce3a1092 ]] \r\n",
       "E6 o- - \"1\"E7 [[psysml:b94a6cc2-6585-4221-b4bd-c6e1360a7593 ]] \r\n",
       "E7 - -:|> E2 [[psysml:6c7ecdb4-3704-4141-b5eb-90be274661d4 ]] \r\n",
       "E6 o- - \"1\"E8 [[psysml:c893fa2e-0043-44e8-be45-2077001790d0 ]] \r\n",
       "E9 o- - \"1\"E10 [[psysml:3723b58c-a4dd-4ef3-9a79-2a659572d83c ]] \r\n",
       "E10 - -:|> E2 [[psysml:8c7a6e5c-2c0e-473c-a2c4-4062964bb416 ]] \r\n",
       "E9 o- - \"1\"E11 [[psysml:05b52cb0-1bec-4ecb-a4ba-b6e0a5fd36fa ]] \r\n",
       "E12 *- - \"1\"E13 [[psysml:2ea9f126-2045-475e-98b2-0bebbeaf39ba ]] \r\n",
       "E13 o- - \"1\"E14 [[psysml:56644651-1cff-4e4b-add6-5aaf4cbf3323 ]] \r\n",
       "E14 - -:|> E2 [[psysml:004f1bd4-f46a-4fc3-b446-5abbd305cc50 ]] \r\n",
       "E13 o- - \"1\"E15 [[psysml:439c4bcd-5bf6-4395-bbdb-0df2330c2504 ]] \r\n",
       "E14 -[thickness=3]- E15 [[psysml:356465e0-8362-42f7-8017-4c1d57dccd42 ]] \r\n",
       "E14 -[thickness=3]- E15 [[psysml:be002053-3eab-4239-b4ec-f62d8ddd6fa6 ]] \r\n",
       "@enduml\r\n",
       "\n",
       "PlantUML version 1.2020.13(Sat Jun 13 12:26:38 UTC 2020)\n",
       "(EPL source distribution)\n",
       "Java Runtime: OpenJDK Runtime Environment\n",
       "JVM: OpenJDK 64-Bit Server VM\n",
       "Default Encoding: UTF-8\n",
       "Language: en\n",
       "Country: null\n",
       "--></g></svg>"
      ]
     },
     "execution_count": 50,
     "metadata": {},
     "output_type": "execute_result"
    }
   ],
   "source": [
    "%viz --style=\"TB\" --view=\"MIXED\" \"ConjugationTest\""
   ]
  },
  {
   "cell_type": "code",
   "execution_count": 51,
   "id": "43bbfd41",
   "metadata": {
    "execution": {
     "iopub.execute_input": "2021-10-03T08:28:08.880224Z",
     "iopub.status.busy": "2021-10-03T08:28:08.879815Z",
     "iopub.status.idle": "2021-10-03T08:28:08.926379Z",
     "shell.execute_reply": "2021-10-03T08:28:08.925980Z"
    }
   },
   "outputs": [
    {
     "data": {
      "image/svg+xml": [
       "<?xml version=\"1.0\" encoding=\"UTF-8\" standalone=\"no\"?><svg xmlns=\"http://www.w3.org/2000/svg\" xmlns:xlink=\"http://www.w3.org/1999/xlink\" contentScriptType=\"application/ecmascript\" contentStyleType=\"text/css\" height=\"433px\" preserveAspectRatio=\"none\" style=\"width:629px;height:433px;\" version=\"1.1\" viewBox=\"0 0 629 433\" width=\"629px\" zoomAndPan=\"magnify\"><defs/><g><!--MD5=[fbc87193dbaf4d95561dea2c320d4a47]\n",
       "cluster E1--><a href=\"psysml:811d2e93-771a-4206-9534-119b2782ed8b\" target=\"_top\" title=\"psysml:811d2e93-771a-4206-9534-119b2782ed8b\" xlink:actuate=\"onRequest\" xlink:href=\"psysml:811d2e93-771a-4206-9534-119b2782ed8b\" xlink:show=\"new\" xlink:title=\"psysml:811d2e93-771a-4206-9534-119b2782ed8b\" xlink:type=\"simple\"><polygon fill=\"#FFFFFF\" points=\"16,6,136,6,143,28.2969,607,28.2969,607,421,16,421,16,6\" style=\"stroke: #000000; stroke-width: 1.5;\"/><line style=\"stroke: #000000; stroke-width: 1.5;\" x1=\"16\" x2=\"143\" y1=\"28.2969\" y2=\"28.2969\"/><text fill=\"#000000\" font-family=\"sans-serif\" font-size=\"14\" font-weight=\"bold\" lengthAdjust=\"spacingAndGlyphs\" textLength=\"114\" x=\"20\" y=\"20.9951\">ConjugationTest</text></a><!--MD5=[b4997ac47864f28c2f74865a473b2911]\n",
       "class E2--><a href=\"psysml:a118eece-ff6c-41b4-a8ec-63007fd81e06\" target=\"_top\" title=\"psysml:a118eece-ff6c-41b4-a8ec-63007fd81e06\" xlink:actuate=\"onRequest\" xlink:href=\"psysml:a118eece-ff6c-41b4-a8ec-63007fd81e06\" xlink:show=\"new\" xlink:title=\"psysml:a118eece-ff6c-41b4-a8ec-63007fd81e06\" xlink:type=\"simple\"><rect fill=\"#FFFFFF\" height=\"45.9375\" id=\"E2\" style=\"stroke: #383838; stroke-width: 1.5;\" width=\"66\" x=\"221\" y=\"359\"/><text fill=\"#000000\" font-family=\"sans-serif\" font-size=\"12\" font-style=\"italic\" lengthAdjust=\"spacingAndGlyphs\" textLength=\"64\" x=\"222\" y=\"375.1387\">«port def»</text><text fill=\"#000000\" font-family=\"sans-serif\" font-size=\"12\" lengthAdjust=\"spacingAndGlyphs\" textLength=\"8\" x=\"250\" y=\"389.1074\">P</text><line style=\"stroke: #383838; stroke-width: 1.5;\" x1=\"222\" x2=\"286\" y1=\"396.9375\" y2=\"396.9375\"/></a><!--MD5=[09b614a08d8cba4a07c9adeb5e0fee81]\n",
       "class E3--><a href=\"psysml:45f3428f-90c5-481c-8b5b-6d42a9c9ecb4\" target=\"_top\" title=\"psysml:45f3428f-90c5-481c-8b5b-6d42a9c9ecb4\" xlink:actuate=\"onRequest\" xlink:href=\"psysml:45f3428f-90c5-481c-8b5b-6d42a9c9ecb4\" xlink:show=\"new\" xlink:title=\"psysml:45f3428f-90c5-481c-8b5b-6d42a9c9ecb4\" xlink:type=\"simple\"><rect fill=\"#FFFFFF\" height=\"45.9375\" id=\"E3\" style=\"stroke: #383838; stroke-width: 1.5;\" width=\"66\" x=\"489\" y=\"147\"/><text fill=\"#000000\" font-family=\"sans-serif\" font-size=\"12\" font-style=\"italic\" lengthAdjust=\"spacingAndGlyphs\" textLength=\"64\" x=\"490\" y=\"163.1387\">«part def»</text><text fill=\"#000000\" font-family=\"sans-serif\" font-size=\"12\" lengthAdjust=\"spacingAndGlyphs\" textLength=\"8\" x=\"518\" y=\"177.1074\">B</text><line style=\"stroke: #383838; stroke-width: 1.5;\" x1=\"490\" x2=\"554\" y1=\"184.9375\" y2=\"184.9375\"/></a><!--MD5=[ebbe1d658d1005bcc118a6aa81145e00]\n",
       "class E4--><a href=\"psysml:f10162e3-9121-4423-8c61-28bf75aadc9a\" target=\"_top\" title=\"psysml:f10162e3-9121-4423-8c61-28bf75aadc9a\" xlink:actuate=\"onRequest\" xlink:href=\"psysml:f10162e3-9121-4423-8c61-28bf75aadc9a\" xlink:show=\"new\" xlink:title=\"psysml:f10162e3-9121-4423-8c61-28bf75aadc9a\" xlink:type=\"simple\"><rect fill=\"#FFFFFF\" height=\"45.9375\" id=\"E4\" rx=\"10\" ry=\"10\" style=\"stroke: #383838; stroke-width: 1.5;\" width=\"42\" x=\"466\" y=\"253\"/><text fill=\"#000000\" font-family=\"sans-serif\" font-size=\"12\" font-style=\"italic\" lengthAdjust=\"spacingAndGlyphs\" textLength=\"40\" x=\"467\" y=\"269.1387\">«port»</text><text fill=\"#000000\" font-family=\"sans-serif\" font-size=\"12\" lengthAdjust=\"spacingAndGlyphs\" textLength=\"32\" x=\"471\" y=\"283.1074\">p1: P</text><line style=\"stroke: #383838; stroke-width: 1.5;\" x1=\"467\" x2=\"507\" y1=\"290.9375\" y2=\"290.9375\"/></a><!--MD5=[270fce915f116d4de14055a7c1d9a0f3]\n",
       "class E5--><a href=\"psysml:f793b08e-b132-4869-8396-6344384571c9\" target=\"_top\" title=\"psysml:f793b08e-b132-4869-8396-6344384571c9\" xlink:actuate=\"onRequest\" xlink:href=\"psysml:f793b08e-b132-4869-8396-6344384571c9\" xlink:show=\"new\" xlink:title=\"psysml:f793b08e-b132-4869-8396-6344384571c9\" xlink:type=\"simple\"><rect fill=\"#FFFFFF\" height=\"45.9375\" id=\"E5\" rx=\"10\" ry=\"10\" style=\"stroke: #383838; stroke-width: 1.5;\" width=\"48\" x=\"543\" y=\"253\"/><text fill=\"#000000\" font-family=\"sans-serif\" font-size=\"12\" font-style=\"italic\" lengthAdjust=\"spacingAndGlyphs\" textLength=\"40\" x=\"547\" y=\"269.1387\">«port»</text><text fill=\"#000000\" font-family=\"sans-serif\" font-size=\"12\" lengthAdjust=\"spacingAndGlyphs\" textLength=\"42\" x=\"546\" y=\"283.1074\">p2: ~P</text><line style=\"stroke: #383838; stroke-width: 1.5;\" x1=\"544\" x2=\"590\" y1=\"290.9375\" y2=\"290.9375\"/></a><!--MD5=[60a26617385b1d2d0262a64233df1f8d]\n",
       "class E6--><a href=\"psysml:1e44cf6a-fe6c-483a-98ee-7c5816e24c4f\" target=\"_top\" title=\"psysml:1e44cf6a-fe6c-483a-98ee-7c5816e24c4f\" xlink:actuate=\"onRequest\" xlink:href=\"psysml:1e44cf6a-fe6c-483a-98ee-7c5816e24c4f\" xlink:show=\"new\" xlink:title=\"psysml:1e44cf6a-fe6c-483a-98ee-7c5816e24c4f\" xlink:type=\"simple\"><rect fill=\"#FFFFFF\" height=\"45.9375\" id=\"E6\" style=\"stroke: #383838; stroke-width: 1.5;\" width=\"110\" x=\"282\" y=\"147\"/><text fill=\"#000000\" font-family=\"sans-serif\" font-size=\"12\" font-style=\"italic\" lengthAdjust=\"spacingAndGlyphs\" textLength=\"108\" x=\"283\" y=\"163.1387\">«connection def»</text><text fill=\"#000000\" font-family=\"sans-serif\" font-size=\"12\" lengthAdjust=\"spacingAndGlyphs\" textLength=\"8\" x=\"333\" y=\"177.1074\">A</text><line style=\"stroke: #383838; stroke-width: 1.5;\" x1=\"283\" x2=\"391\" y1=\"184.9375\" y2=\"184.9375\"/></a><!--MD5=[2156ba9850f5573cc1fc38a6a4b2f02b]\n",
       "class E7--><a href=\"psysml:592da980-ebcc-4bfb-b89f-9a898fd7b408\" target=\"_top\" title=\"psysml:592da980-ebcc-4bfb-b89f-9a898fd7b408\" xlink:actuate=\"onRequest\" xlink:href=\"psysml:592da980-ebcc-4bfb-b89f-9a898fd7b408\" xlink:show=\"new\" xlink:title=\"psysml:592da980-ebcc-4bfb-b89f-9a898fd7b408\" xlink:type=\"simple\"><rect fill=\"#FFFFFF\" height=\"45.9375\" id=\"E7\" rx=\"10\" ry=\"10\" style=\"stroke: #383838; stroke-width: 1.5;\" width=\"42\" x=\"306\" y=\"253\"/><text fill=\"#000000\" font-family=\"sans-serif\" font-size=\"12\" font-style=\"italic\" lengthAdjust=\"spacingAndGlyphs\" textLength=\"40\" x=\"307\" y=\"269.1387\">«port»</text><text fill=\"#000000\" font-family=\"sans-serif\" font-size=\"12\" lengthAdjust=\"spacingAndGlyphs\" textLength=\"32\" x=\"311\" y=\"283.1074\">p1: P</text><line style=\"stroke: #383838; stroke-width: 1.5;\" x1=\"307\" x2=\"347\" y1=\"290.9375\" y2=\"290.9375\"/></a><!--MD5=[b9389687b975829384b498ac4b7476b2]\n",
       "class E8--><a href=\"psysml:4730362b-6892-4b61-8b08-4b1eb3a58a19\" target=\"_top\" title=\"psysml:4730362b-6892-4b61-8b08-4b1eb3a58a19\" xlink:actuate=\"onRequest\" xlink:href=\"psysml:4730362b-6892-4b61-8b08-4b1eb3a58a19\" xlink:show=\"new\" xlink:title=\"psysml:4730362b-6892-4b61-8b08-4b1eb3a58a19\" xlink:type=\"simple\"><rect fill=\"#FFFFFF\" height=\"45.9375\" id=\"E8\" rx=\"10\" ry=\"10\" style=\"stroke: #383838; stroke-width: 1.5;\" width=\"48\" x=\"383\" y=\"253\"/><text fill=\"#000000\" font-family=\"sans-serif\" font-size=\"12\" font-style=\"italic\" lengthAdjust=\"spacingAndGlyphs\" textLength=\"40\" x=\"387\" y=\"269.1387\">«port»</text><text fill=\"#000000\" font-family=\"sans-serif\" font-size=\"12\" lengthAdjust=\"spacingAndGlyphs\" textLength=\"42\" x=\"386\" y=\"283.1074\">p2: ~P</text><line style=\"stroke: #383838; stroke-width: 1.5;\" x1=\"384\" x2=\"430\" y1=\"290.9375\" y2=\"290.9375\"/></a><!--MD5=[fd4143e9d270a159db93a4ea2a975926]\n",
       "class E9--><a href=\"psysml:c589f335-4cab-4324-b073-03ca89b55f7d\" target=\"_top\" title=\"psysml:c589f335-4cab-4324-b073-03ca89b55f7d\" xlink:actuate=\"onRequest\" xlink:href=\"psysml:c589f335-4cab-4324-b073-03ca89b55f7d\" xlink:show=\"new\" xlink:title=\"psysml:c589f335-4cab-4324-b073-03ca89b55f7d\" xlink:type=\"simple\"><rect fill=\"#FFFFFF\" height=\"45.9375\" id=\"E9\" style=\"stroke: #383838; stroke-width: 1.5;\" width=\"96\" x=\"146\" y=\"147\"/><text fill=\"#000000\" font-family=\"sans-serif\" font-size=\"12\" font-style=\"italic\" lengthAdjust=\"spacingAndGlyphs\" textLength=\"94\" x=\"147\" y=\"163.1387\">«interface def»</text><text fill=\"#000000\" font-family=\"sans-serif\" font-size=\"12\" lengthAdjust=\"spacingAndGlyphs\" textLength=\"3\" x=\"192.5\" y=\"177.1074\">I</text><line style=\"stroke: #383838; stroke-width: 1.5;\" x1=\"147\" x2=\"241\" y1=\"184.9375\" y2=\"184.9375\"/></a><!--MD5=[96f4274e9e20536e775497830990834d]\n",
       "class E10--><a href=\"psysml:0a18d135-3a15-4f1e-a48b-3983b85e55aa\" target=\"_top\" title=\"psysml:0a18d135-3a15-4f1e-a48b-3983b85e55aa\" xlink:actuate=\"onRequest\" xlink:href=\"psysml:0a18d135-3a15-4f1e-a48b-3983b85e55aa\" xlink:show=\"new\" xlink:title=\"psysml:0a18d135-3a15-4f1e-a48b-3983b85e55aa\" xlink:type=\"simple\"><rect fill=\"#FFFFFF\" height=\"45.9375\" id=\"E10\" rx=\"10\" ry=\"10\" style=\"stroke: #383838; stroke-width: 1.5;\" width=\"42\" x=\"146\" y=\"253\"/><text fill=\"#000000\" font-family=\"sans-serif\" font-size=\"12\" font-style=\"italic\" lengthAdjust=\"spacingAndGlyphs\" textLength=\"40\" x=\"147\" y=\"269.1387\">«port»</text><text fill=\"#000000\" font-family=\"sans-serif\" font-size=\"12\" lengthAdjust=\"spacingAndGlyphs\" textLength=\"32\" x=\"151\" y=\"283.1074\">p1: P</text><line style=\"stroke: #383838; stroke-width: 1.5;\" x1=\"147\" x2=\"187\" y1=\"290.9375\" y2=\"290.9375\"/></a><!--MD5=[1dd1bfd58a279cf63c5f349dbc8fc6a1]\n",
       "class E11--><a href=\"psysml:f0ebefc1-580e-4b11-b9cf-e3cb40b874a3\" target=\"_top\" title=\"psysml:f0ebefc1-580e-4b11-b9cf-e3cb40b874a3\" xlink:actuate=\"onRequest\" xlink:href=\"psysml:f0ebefc1-580e-4b11-b9cf-e3cb40b874a3\" xlink:show=\"new\" xlink:title=\"psysml:f0ebefc1-580e-4b11-b9cf-e3cb40b874a3\" xlink:type=\"simple\"><rect fill=\"#FFFFFF\" height=\"45.9375\" id=\"E11\" rx=\"10\" ry=\"10\" style=\"stroke: #383838; stroke-width: 1.5;\" width=\"48\" x=\"223\" y=\"253\"/><text fill=\"#000000\" font-family=\"sans-serif\" font-size=\"12\" font-style=\"italic\" lengthAdjust=\"spacingAndGlyphs\" textLength=\"40\" x=\"227\" y=\"269.1387\">«port»</text><text fill=\"#000000\" font-family=\"sans-serif\" font-size=\"12\" lengthAdjust=\"spacingAndGlyphs\" textLength=\"42\" x=\"226\" y=\"283.1074\">p2: ~P</text><line style=\"stroke: #383838; stroke-width: 1.5;\" x1=\"224\" x2=\"270\" y1=\"290.9375\" y2=\"290.9375\"/></a><!--MD5=[49a0ec8f00dab7302a31f22d0f0fe584]\n",
       "class E12--><a href=\"psysml:99d6c811-1239-4557-8bf5-512a2d9b51f5\" target=\"_top\" title=\"psysml:99d6c811-1239-4557-8bf5-512a2d9b51f5\" xlink:actuate=\"onRequest\" xlink:href=\"psysml:99d6c811-1239-4557-8bf5-512a2d9b51f5\" xlink:show=\"new\" xlink:title=\"psysml:99d6c811-1239-4557-8bf5-512a2d9b51f5\" xlink:type=\"simple\"><rect fill=\"#FFFFFF\" height=\"45.9375\" id=\"E12\" style=\"stroke: #383838; stroke-width: 1.5;\" width=\"66\" x=\"47\" y=\"41\"/><text fill=\"#000000\" font-family=\"sans-serif\" font-size=\"12\" font-style=\"italic\" lengthAdjust=\"spacingAndGlyphs\" textLength=\"64\" x=\"48\" y=\"57.1387\">«part def»</text><text fill=\"#000000\" font-family=\"sans-serif\" font-size=\"12\" lengthAdjust=\"spacingAndGlyphs\" textLength=\"16\" x=\"72\" y=\"71.1074\">B1</text><line style=\"stroke: #383838; stroke-width: 1.5;\" x1=\"48\" x2=\"112\" y1=\"78.9375\" y2=\"78.9375\"/></a><!--MD5=[ee3c913d1a06f366521f9ef512b67efe]\n",
       "class E13--><a href=\"psysml:c80e6282-4b88-42a6-beea-d83b68d36327\" target=\"_top\" title=\"psysml:c80e6282-4b88-42a6-beea-d83b68d36327\" xlink:actuate=\"onRequest\" xlink:href=\"psysml:c80e6282-4b88-42a6-beea-d83b68d36327\" xlink:show=\"new\" xlink:title=\"psysml:c80e6282-4b88-42a6-beea-d83b68d36327\" xlink:type=\"simple\"><rect fill=\"#FFFFFF\" height=\"45.9375\" id=\"E13\" rx=\"10\" ry=\"10\" style=\"stroke: #383838; stroke-width: 1.5;\" width=\"42\" x=\"59\" y=\"147\"/><text fill=\"#000000\" font-family=\"sans-serif\" font-size=\"12\" font-style=\"italic\" lengthAdjust=\"spacingAndGlyphs\" textLength=\"40\" x=\"60\" y=\"163.1387\">«part»</text><text fill=\"#000000\" font-family=\"sans-serif\" font-size=\"12\" lengthAdjust=\"spacingAndGlyphs\" textLength=\"8\" x=\"76\" y=\"177.1074\">p</text><line style=\"stroke: #383838; stroke-width: 1.5;\" x1=\"60\" x2=\"100\" y1=\"184.9375\" y2=\"184.9375\"/></a><!--MD5=[bee11217b2f71d958a27249dc326068c]\n",
       "class E14--><a href=\"psysml:36fdd18b-cc96-4106-b803-027f179d9fab\" target=\"_top\" title=\"psysml:36fdd18b-cc96-4106-b803-027f179d9fab\" xlink:actuate=\"onRequest\" xlink:href=\"psysml:36fdd18b-cc96-4106-b803-027f179d9fab\" xlink:show=\"new\" xlink:title=\"psysml:36fdd18b-cc96-4106-b803-027f179d9fab\" xlink:type=\"simple\"><rect fill=\"#FFFFFF\" height=\"45.9375\" id=\"E14\" rx=\"10\" ry=\"10\" style=\"stroke: #383838; stroke-width: 1.5;\" width=\"42\" x=\"69\" y=\"253\"/><text fill=\"#000000\" font-family=\"sans-serif\" font-size=\"12\" font-style=\"italic\" lengthAdjust=\"spacingAndGlyphs\" textLength=\"40\" x=\"70\" y=\"269.1387\">«port»</text><text fill=\"#000000\" font-family=\"sans-serif\" font-size=\"12\" lengthAdjust=\"spacingAndGlyphs\" textLength=\"32\" x=\"74\" y=\"283.1074\">p1: P</text><line style=\"stroke: #383838; stroke-width: 1.5;\" x1=\"70\" x2=\"110\" y1=\"290.9375\" y2=\"290.9375\"/></a><!--MD5=[0c48fb7552dae8cbbef69381101a84c8]\n",
       "class E15--><a href=\"psysml:a04d4130-2616-430e-82e5-4df6c3f344d5\" target=\"_top\" title=\"psysml:a04d4130-2616-430e-82e5-4df6c3f344d5\" xlink:actuate=\"onRequest\" xlink:href=\"psysml:a04d4130-2616-430e-82e5-4df6c3f344d5\" xlink:show=\"new\" xlink:title=\"psysml:a04d4130-2616-430e-82e5-4df6c3f344d5\" xlink:type=\"simple\"><rect fill=\"#FFFFFF\" height=\"45.9375\" id=\"E15\" rx=\"10\" ry=\"10\" style=\"stroke: #383838; stroke-width: 1.5;\" width=\"48\" x=\"66\" y=\"359\"/><text fill=\"#000000\" font-family=\"sans-serif\" font-size=\"12\" font-style=\"italic\" lengthAdjust=\"spacingAndGlyphs\" textLength=\"40\" x=\"70\" y=\"375.1387\">«port»</text><text fill=\"#000000\" font-family=\"sans-serif\" font-size=\"12\" lengthAdjust=\"spacingAndGlyphs\" textLength=\"42\" x=\"69\" y=\"389.1074\">p2: ~P</text><line style=\"stroke: #383838; stroke-width: 1.5;\" x1=\"67\" x2=\"113\" y1=\"396.9375\" y2=\"396.9375\"/></a><!--MD5=[4672eba38e49728da53d11aeb285b987]\n",
       "reverse link E3 to E4--><a href=\"psysml:478537c4-9aea-45e7-93bf-51b2f99f76d0\" target=\"_top\" title=\"psysml:478537c4-9aea-45e7-93bf-51b2f99f76d0\" xlink:actuate=\"onRequest\" xlink:href=\"psysml:478537c4-9aea-45e7-93bf-51b2f99f76d0\" xlink:show=\"new\" xlink:title=\"psysml:478537c4-9aea-45e7-93bf-51b2f99f76d0\" xlink:type=\"simple\"><path d=\"M498.5,206 C498.5,206 498.5,252.68 498.5,252.68 \" fill=\"none\" id=\"E3&lt;-E4\" style=\"stroke: #383838; stroke-width: 1.0;\"/><polygon fill=\"#FFFFFF\" points=\"498.5,193,494.5,199,498.5,205,502.5,199,498.5,193\" style=\"stroke: #383838; stroke-width: 1.0;\"/><text fill=\"#000000\" font-family=\"sans-serif\" font-size=\"13\" lengthAdjust=\"spacingAndGlyphs\" textLength=\"8\" x=\"492.4219\" y=\"241.8743\">1</text></a><!--MD5=[185131fc0dcab0a4505a2ebe144e961b]\n",
       "link E4 to E2--><a href=\"psysml:9a27f54b-62e8-4ed3-8ffb-179b9354440f\" target=\"_top\" title=\"psysml:9a27f54b-62e8-4ed3-8ffb-179b9354440f\" xlink:actuate=\"onRequest\" xlink:href=\"psysml:9a27f54b-62e8-4ed3-8ffb-179b9354440f\" xlink:show=\"new\" xlink:title=\"psysml:9a27f54b-62e8-4ed3-8ffb-179b9354440f\" xlink:type=\"simple\"><path d=\"M487,299 C487,330.18 487,382 487,382 C487,382 307.38,382 307.38,382 \" fill=\"none\" id=\"E4-&gt;E2\" style=\"stroke: #383838; stroke-width: 1.0;\"/><polygon fill=\"#FFFFFF\" points=\"287.38,382,306.38,375,306.38,389,287.38,382\" style=\"stroke: #383838; stroke-width: 1.0;\"/><ellipse cx=\"312.08\" cy=\"377\" fill=\"#383838\" rx=\"2\" ry=\"2\" style=\"stroke: #383838; stroke-width: 1.0;\"/><ellipse cx=\"312.08\" cy=\"387\" fill=\"#383838\" rx=\"2\" ry=\"2\" style=\"stroke: #383838; stroke-width: 1.0;\"/></a><!--MD5=[191cde3d490a3f6d7bb551fe3ddca469]\n",
       "reverse link E3 to E5--><a href=\"psysml:0c237cb0-b529-413c-8aaf-d2f6ce3a1092\" target=\"_top\" title=\"psysml:0c237cb0-b529-413c-8aaf-d2f6ce3a1092\" xlink:actuate=\"onRequest\" xlink:href=\"psysml:0c237cb0-b529-413c-8aaf-d2f6ce3a1092\" xlink:show=\"new\" xlink:title=\"psysml:0c237cb0-b529-413c-8aaf-d2f6ce3a1092\" xlink:type=\"simple\"><path d=\"M549,206 C549,206 549,252.68 549,252.68 \" fill=\"none\" id=\"E3&lt;-E5\" style=\"stroke: #383838; stroke-width: 1.0;\"/><polygon fill=\"#FFFFFF\" points=\"549,193,545,199,549,205,553,199,549,193\" style=\"stroke: #383838; stroke-width: 1.0;\"/><text fill=\"#000000\" font-family=\"sans-serif\" font-size=\"13\" lengthAdjust=\"spacingAndGlyphs\" textLength=\"8\" x=\"535.3625\" y=\"241.8743\">1</text></a><!--MD5=[3f50a3473f1dfb74d3f76443e03635af]\n",
       "reverse link E6 to E7--><a href=\"psysml:b94a6cc2-6585-4221-b4bd-c6e1360a7593\" target=\"_top\" title=\"psysml:b94a6cc2-6585-4221-b4bd-c6e1360a7593\" xlink:actuate=\"onRequest\" xlink:href=\"psysml:b94a6cc2-6585-4221-b4bd-c6e1360a7593\" xlink:show=\"new\" xlink:title=\"psysml:b94a6cc2-6585-4221-b4bd-c6e1360a7593\" xlink:type=\"simple\"><path d=\"M327,206 C327,206 327,252.68 327,252.68 \" fill=\"none\" id=\"E6&lt;-E7\" style=\"stroke: #383838; stroke-width: 1.0;\"/><polygon fill=\"#FFFFFF\" points=\"327,193,323,199,327,205,331,199,327,193\" style=\"stroke: #383838; stroke-width: 1.0;\"/><text fill=\"#000000\" font-family=\"sans-serif\" font-size=\"13\" lengthAdjust=\"spacingAndGlyphs\" textLength=\"8\" x=\"317.975\" y=\"241.8743\">1</text></a><!--MD5=[583832df87f4419a098336a29a52fa00]\n",
       "link E7 to E2--><a href=\"psysml:6c7ecdb4-3704-4141-b5eb-90be274661d4\" target=\"_top\" title=\"psysml:6c7ecdb4-3704-4141-b5eb-90be274661d4\" xlink:actuate=\"onRequest\" xlink:href=\"psysml:6c7ecdb4-3704-4141-b5eb-90be274661d4\" xlink:show=\"new\" xlink:title=\"psysml:6c7ecdb4-3704-4141-b5eb-90be274661d4\" xlink:type=\"simple\"><path d=\"M305.88,276 C292.04,276 276.5,276 276.5,276 C276.5,276 276.5,339 276.5,339 \" fill=\"none\" id=\"E7-&gt;E2\" style=\"stroke: #383838; stroke-width: 1.0;\"/><polygon fill=\"#FFFFFF\" points=\"276.5,359,269.5,340,283.5,340,276.5,359\" style=\"stroke: #383838; stroke-width: 1.0;\"/><ellipse cx=\"271.5\" cy=\"334.3\" fill=\"#383838\" rx=\"2\" ry=\"2\" style=\"stroke: #383838; stroke-width: 1.0;\"/><ellipse cx=\"281.5\" cy=\"334.3\" fill=\"#383838\" rx=\"2\" ry=\"2\" style=\"stroke: #383838; stroke-width: 1.0;\"/></a><!--MD5=[f4cf0736d43fd73c4ef68817c49d37d5]\n",
       "reverse link E6 to E8--><a href=\"psysml:c893fa2e-0043-44e8-be45-2077001790d0\" target=\"_top\" title=\"psysml:c893fa2e-0043-44e8-be45-2077001790d0\" xlink:actuate=\"onRequest\" xlink:href=\"psysml:c893fa2e-0043-44e8-be45-2077001790d0\" xlink:show=\"new\" xlink:title=\"psysml:c893fa2e-0043-44e8-be45-2077001790d0\" xlink:type=\"simple\"><path d=\"M387.5,206 C387.5,206 387.5,252.68 387.5,252.68 \" fill=\"none\" id=\"E6&lt;-E8\" style=\"stroke: #383838; stroke-width: 1.0;\"/><polygon fill=\"#FFFFFF\" points=\"387.5,193,383.5,199,387.5,205,391.5,199,387.5,193\" style=\"stroke: #383838; stroke-width: 1.0;\"/><text fill=\"#000000\" font-family=\"sans-serif\" font-size=\"13\" lengthAdjust=\"spacingAndGlyphs\" textLength=\"8\" x=\"373.4781\" y=\"241.8743\">1</text></a><!--MD5=[23ac544a70576c3e717098101004234c]\n",
       "reverse link E9 to E10--><a href=\"psysml:3723b58c-a4dd-4ef3-9a79-2a659572d83c\" target=\"_top\" title=\"psysml:3723b58c-a4dd-4ef3-9a79-2a659572d83c\" xlink:actuate=\"onRequest\" xlink:href=\"psysml:3723b58c-a4dd-4ef3-9a79-2a659572d83c\" xlink:show=\"new\" xlink:title=\"psysml:3723b58c-a4dd-4ef3-9a79-2a659572d83c\" xlink:type=\"simple\"><path d=\"M167,206 C167,206 167,252.68 167,252.68 \" fill=\"none\" id=\"E9&lt;-E10\" style=\"stroke: #383838; stroke-width: 1.0;\"/><polygon fill=\"#FFFFFF\" points=\"167,193,163,199,167,205,171,199,167,193\" style=\"stroke: #383838; stroke-width: 1.0;\"/><text fill=\"#000000\" font-family=\"sans-serif\" font-size=\"13\" lengthAdjust=\"spacingAndGlyphs\" textLength=\"8\" x=\"157.975\" y=\"241.8743\">1</text></a><!--MD5=[0f36bececdf0dff6e600d6f64214b0f1]\n",
       "link E10 to E2--><a href=\"psysml:8c7a6e5c-2c0e-473c-a2c4-4062964bb416\" target=\"_top\" title=\"psysml:8c7a6e5c-2c0e-473c-a2c4-4062964bb416\" xlink:actuate=\"onRequest\" xlink:href=\"psysml:8c7a6e5c-2c0e-473c-a2c4-4062964bb416\" xlink:show=\"new\" xlink:title=\"psysml:8c7a6e5c-2c0e-473c-a2c4-4062964bb416\" xlink:type=\"simple\"><path d=\"M167,299.21 C167,328.47 167,375 167,375 C167,375 200.61,375 200.61,375 \" fill=\"none\" id=\"E10-&gt;E2\" style=\"stroke: #383838; stroke-width: 1.0;\"/><polygon fill=\"#FFFFFF\" points=\"220.61,375,201.61,382,201.61,368,220.61,375\" style=\"stroke: #383838; stroke-width: 1.0;\"/><ellipse cx=\"195.91\" cy=\"380\" fill=\"#383838\" rx=\"2\" ry=\"2\" style=\"stroke: #383838; stroke-width: 1.0;\"/><ellipse cx=\"195.91\" cy=\"370\" fill=\"#383838\" rx=\"2\" ry=\"2\" style=\"stroke: #383838; stroke-width: 1.0;\"/></a><!--MD5=[1fc04a95fd77ad5ce46c1a3027516051]\n",
       "reverse link E9 to E11--><a href=\"psysml:05b52cb0-1bec-4ecb-a4ba-b6e0a5fd36fa\" target=\"_top\" title=\"psysml:05b52cb0-1bec-4ecb-a4ba-b6e0a5fd36fa\" xlink:actuate=\"onRequest\" xlink:href=\"psysml:05b52cb0-1bec-4ecb-a4ba-b6e0a5fd36fa\" xlink:show=\"new\" xlink:title=\"psysml:05b52cb0-1bec-4ecb-a4ba-b6e0a5fd36fa\" xlink:type=\"simple\"><path d=\"M232.5,206 C232.5,206 232.5,252.68 232.5,252.68 \" fill=\"none\" id=\"E9&lt;-E11\" style=\"stroke: #383838; stroke-width: 1.0;\"/><polygon fill=\"#FFFFFF\" points=\"232.5,193,228.5,199,232.5,205,236.5,199,232.5,193\" style=\"stroke: #383838; stroke-width: 1.0;\"/><text fill=\"#000000\" font-family=\"sans-serif\" font-size=\"13\" lengthAdjust=\"spacingAndGlyphs\" textLength=\"8\" x=\"219.7594\" y=\"241.8743\">1</text></a><!--MD5=[062ed86c389d1a88f61c6380d0491e17]\n",
       "reverse link E12 to E13--><a href=\"psysml:2ea9f126-2045-475e-98b2-0bebbeaf39ba\" target=\"_top\" title=\"psysml:2ea9f126-2045-475e-98b2-0bebbeaf39ba\" xlink:actuate=\"onRequest\" xlink:href=\"psysml:2ea9f126-2045-475e-98b2-0bebbeaf39ba\" xlink:show=\"new\" xlink:title=\"psysml:2ea9f126-2045-475e-98b2-0bebbeaf39ba\" xlink:type=\"simple\"><path d=\"M80,100 C80,100 80,146.68 80,146.68 \" fill=\"none\" id=\"E12&lt;-E13\" style=\"stroke: #383838; stroke-width: 1.0;\"/><polygon fill=\"#383838\" points=\"80,87,76,93,80,99,84,93,80,87\" style=\"stroke: #383838; stroke-width: 1.0;\"/><text fill=\"#000000\" font-family=\"sans-serif\" font-size=\"13\" lengthAdjust=\"spacingAndGlyphs\" textLength=\"8\" x=\"70.975\" y=\"135.8743\">1</text></a><!--MD5=[01db00f33b28669d6d9febea71002831]\n",
       "reverse link E13 to E14--><a href=\"psysml:56644651-1cff-4e4b-add6-5aaf4cbf3323\" target=\"_top\" title=\"psysml:56644651-1cff-4e4b-add6-5aaf4cbf3323\" xlink:actuate=\"onRequest\" xlink:href=\"psysml:56644651-1cff-4e4b-add6-5aaf4cbf3323\" xlink:show=\"new\" xlink:title=\"psysml:56644651-1cff-4e4b-add6-5aaf4cbf3323\" xlink:type=\"simple\"><path d=\"M85,206 C85,206 85,252.68 85,252.68 \" fill=\"none\" id=\"E13&lt;-E14\" style=\"stroke: #383838; stroke-width: 1.0;\"/><polygon fill=\"#FFFFFF\" points=\"85,193,81,199,85,205,89,199,85,193\" style=\"stroke: #383838; stroke-width: 1.0;\"/><text fill=\"#000000\" font-family=\"sans-serif\" font-size=\"13\" lengthAdjust=\"spacingAndGlyphs\" textLength=\"8\" x=\"74.6938\" y=\"241.8743\">1</text></a><!--MD5=[e5566ac99d7714697a7fbc17f6b550fe]\n",
       "link E14 to E2--><a href=\"psysml:004f1bd4-f46a-4fc3-b446-5abbd305cc50\" target=\"_top\" title=\"psysml:004f1bd4-f46a-4fc3-b446-5abbd305cc50\" xlink:actuate=\"onRequest\" xlink:href=\"psysml:004f1bd4-f46a-4fc3-b446-5abbd305cc50\" xlink:show=\"new\" xlink:title=\"psysml:004f1bd4-f46a-4fc3-b446-5abbd305cc50\" xlink:type=\"simple\"><path d=\"M111.41,276 C120.92,276 130,276 130,276 C130,276 130,390 130,390 C130,390 200.77,390 200.77,390 \" fill=\"none\" id=\"E14-&gt;E2\" style=\"stroke: #383838; stroke-width: 1.0;\"/><polygon fill=\"#FFFFFF\" points=\"220.77,390,201.77,397,201.77,383,220.77,390\" style=\"stroke: #383838; stroke-width: 1.0;\"/><ellipse cx=\"196.07\" cy=\"395\" fill=\"#383838\" rx=\"2\" ry=\"2\" style=\"stroke: #383838; stroke-width: 1.0;\"/><ellipse cx=\"196.07\" cy=\"385\" fill=\"#383838\" rx=\"2\" ry=\"2\" style=\"stroke: #383838; stroke-width: 1.0;\"/></a><!--MD5=[e9a5e828c71fd2209a11a152f562d491]\n",
       "reverse link E13 to E15--><a href=\"psysml:439c4bcd-5bf6-4395-bbdb-0df2330c2504\" target=\"_top\" title=\"psysml:439c4bcd-5bf6-4395-bbdb-0df2330c2504\" xlink:actuate=\"onRequest\" xlink:href=\"psysml:439c4bcd-5bf6-4395-bbdb-0df2330c2504\" xlink:show=\"new\" xlink:title=\"psysml:439c4bcd-5bf6-4395-bbdb-0df2330c2504\" xlink:type=\"simple\"><path d=\"M53.6,170 C53.6,170 53,170 53,170 C53,170 53,382 53,382 C53,382 58.87,382 65.94,382 \" fill=\"none\" id=\"E13&lt;-E15\" style=\"stroke: #383838; stroke-width: 1.0;\"/><polygon fill=\"#FFFFFF\" points=\"58.99,170,52.99,166,46.99,170,52.99,174,58.99,170\" style=\"stroke: #383838; stroke-width: 1.0;\"/><text fill=\"#000000\" font-family=\"sans-serif\" font-size=\"13\" lengthAdjust=\"spacingAndGlyphs\" textLength=\"8\" x=\"50.0481\" y=\"376.985\">1</text></a><!--MD5=[3afbdc645381407e1bc99677323a2513]\n",
       "link E14 to E15--><a href=\"psysml:356465e0-8362-42f7-8017-4c1d57dccd42\" target=\"_top\" title=\"psysml:356465e0-8362-42f7-8017-4c1d57dccd42\" xlink:actuate=\"onRequest\" xlink:href=\"psysml:356465e0-8362-42f7-8017-4c1d57dccd42\" xlink:show=\"new\" xlink:title=\"psysml:356465e0-8362-42f7-8017-4c1d57dccd42\" xlink:type=\"simple\"><path d=\"M83,299 C83,316.66 83,340.94 83,358.68 \" fill=\"none\" id=\"E14-E15\" style=\"stroke: #383838; stroke-width: 3.0;\"/></a><!--MD5=[3afbdc645381407e1bc99677323a2513]\n",
       "link E14 to E15--><a href=\"psysml:be002053-3eab-4239-b4ec-f62d8ddd6fa6\" target=\"_top\" title=\"psysml:be002053-3eab-4239-b4ec-f62d8ddd6fa6\" xlink:actuate=\"onRequest\" xlink:href=\"psysml:be002053-3eab-4239-b4ec-f62d8ddd6fa6\" xlink:show=\"new\" xlink:title=\"psysml:be002053-3eab-4239-b4ec-f62d8ddd6fa6\" xlink:type=\"simple\"><path d=\"M97,299 C97,316.66 97,340.94 97,358.68 \" fill=\"none\" id=\"E14-E15-1\" style=\"stroke: #383838; stroke-width: 3.0;\"/></a><!--MD5=[fdae553b332deee89dc7ed0e03f5858d]\n",
       "@startuml\r\n",
       "skinparam linetype ortho\r\n",
       "skinparam monochrome true\r\n",
       "skinparam classbackgroundcolor white\r\n",
       "skinparam shadowing false\r\n",
       "skinparam wrapWidth 300\r\n",
       "hide circle\r\n",
       "\r\n",
       "package \"ConjugationTest\" as E1  [[psysml:811d2e93-771a-4206-9534-119b2782ed8b ]]  {\r\n",
       "comp def \"P\" as E2  <<(T,blue) port def>> [[psysml:a118eece-ff6c-41b4-a8ec-63007fd81e06 ]] {\r\n",
       "}\r\n",
       "comp def \"B\" as E3  <<(T,blue) part def>> [[psysml:45f3428f-90c5-481c-8b5b-6d42a9c9ecb4 ]] {\r\n",
       "}\r\n",
       "comp usage \"p1: P\" as E4  <<(T,blue) port>> [[psysml:f10162e3-9121-4423-8c61-28bf75aadc9a ]] {\r\n",
       "}\r\n",
       "comp usage \"p2: ~P\" as E5  <<(T,blue) port>> [[psysml:f793b08e-b132-4869-8396-6344384571c9 ]] {\r\n",
       "}\r\n",
       "comp def \"A\" as E6  <<(T,blue) connection def>> [[psysml:1e44cf6a-fe6c-483a-98ee-7c5816e24c4f ]] {\r\n",
       "}\r\n",
       "comp usage \"p1: P\" as E7  <<(T,blue) port>> [[psysml:592da980-ebcc-4bfb-b89f-9a898fd7b408 ]] {\r\n",
       "}\r\n",
       "comp usage \"p2: ~P\" as E8  <<(T,blue) port>> [[psysml:4730362b-6892-4b61-8b08-4b1eb3a58a19 ]] {\r\n",
       "}\r\n",
       "comp def \"I\" as E9  <<(T,blue) interface def>> [[psysml:c589f335-4cab-4324-b073-03ca89b55f7d ]] {\r\n",
       "}\r\n",
       "comp usage \"p1: P\" as E10  <<(T,blue) port>> [[psysml:0a18d135-3a15-4f1e-a48b-3983b85e55aa ]] {\r\n",
       "}\r\n",
       "comp usage \"p2: ~P\" as E11  <<(T,blue) port>> [[psysml:f0ebefc1-580e-4b11-b9cf-e3cb40b874a3 ]] {\r\n",
       "}\r\n",
       "comp def \"B1\" as E12  <<(T,blue) part def>> [[psysml:99d6c811-1239-4557-8bf5-512a2d9b51f5 ]] {\r\n",
       "}\r\n",
       "comp usage \"p\" as E13  <<(T,blue) part>> [[psysml:c80e6282-4b88-42a6-beea-d83b68d36327 ]] {\r\n",
       "}\r\n",
       "comp usage \"p1: P\" as E14  <<(T,blue) port>> [[psysml:36fdd18b-cc96-4106-b803-027f179d9fab ]] {\r\n",
       "}\r\n",
       "comp usage \"p2: ~P\" as E15  <<(T,blue) port>> [[psysml:a04d4130-2616-430e-82e5-4df6c3f344d5 ]] {\r\n",
       "}\r\n",
       "}\r\n",
       "E3 o- - \"1\"E4 [[psysml:478537c4-9aea-45e7-93bf-51b2f99f76d0 ]] \r\n",
       "E4 - -:|> E2 [[psysml:9a27f54b-62e8-4ed3-8ffb-179b9354440f ]] \r\n",
       "E3 o- - \"1\"E5 [[psysml:0c237cb0-b529-413c-8aaf-d2f6ce3a1092 ]] \r\n",
       "E6 o- - \"1\"E7 [[psysml:b94a6cc2-6585-4221-b4bd-c6e1360a7593 ]] \r\n",
       "E7 - -:|> E2 [[psysml:6c7ecdb4-3704-4141-b5eb-90be274661d4 ]] \r\n",
       "E6 o- - \"1\"E8 [[psysml:c893fa2e-0043-44e8-be45-2077001790d0 ]] \r\n",
       "E9 o- - \"1\"E10 [[psysml:3723b58c-a4dd-4ef3-9a79-2a659572d83c ]] \r\n",
       "E10 - -:|> E2 [[psysml:8c7a6e5c-2c0e-473c-a2c4-4062964bb416 ]] \r\n",
       "E9 o- - \"1\"E11 [[psysml:05b52cb0-1bec-4ecb-a4ba-b6e0a5fd36fa ]] \r\n",
       "E12 *- - \"1\"E13 [[psysml:2ea9f126-2045-475e-98b2-0bebbeaf39ba ]] \r\n",
       "E13 o- - \"1\"E14 [[psysml:56644651-1cff-4e4b-add6-5aaf4cbf3323 ]] \r\n",
       "E14 - -:|> E2 [[psysml:004f1bd4-f46a-4fc3-b446-5abbd305cc50 ]] \r\n",
       "E13 o- - \"1\"E15 [[psysml:439c4bcd-5bf6-4395-bbdb-0df2330c2504 ]] \r\n",
       "E14 -[thickness=3]- E15 [[psysml:356465e0-8362-42f7-8017-4c1d57dccd42 ]] \r\n",
       "E14 -[thickness=3]- E15 [[psysml:be002053-3eab-4239-b4ec-f62d8ddd6fa6 ]] \r\n",
       "@enduml\r\n",
       "\n",
       "PlantUML version 1.2020.13(Sat Jun 13 12:26:38 UTC 2020)\n",
       "(EPL source distribution)\n",
       "Java Runtime: OpenJDK Runtime Environment\n",
       "JVM: OpenJDK 64-Bit Server VM\n",
       "Default Encoding: UTF-8\n",
       "Language: en\n",
       "Country: null\n",
       "--></g></svg>"
      ]
     },
     "execution_count": 51,
     "metadata": {},
     "output_type": "execute_result"
    }
   ],
   "source": [
    "%viz --style=\"ORTHOLINE\" --view=\"Default\" \"ConjugationTest\""
   ]
  },
  {
   "cell_type": "code",
   "execution_count": 52,
   "id": "c87cacd1",
   "metadata": {
    "execution": {
     "iopub.execute_input": "2021-10-03T08:28:08.975518Z",
     "iopub.status.busy": "2021-10-03T08:28:08.974899Z",
     "iopub.status.idle": "2021-10-03T08:28:09.021531Z",
     "shell.execute_reply": "2021-10-03T08:28:09.019433Z"
    }
   },
   "outputs": [
    {
     "data": {
      "image/svg+xml": [
       "<?xml version=\"1.0\" encoding=\"UTF-8\" standalone=\"no\"?><svg xmlns=\"http://www.w3.org/2000/svg\" xmlns:xlink=\"http://www.w3.org/1999/xlink\" contentScriptType=\"application/ecmascript\" contentStyleType=\"text/css\" height=\"433px\" preserveAspectRatio=\"none\" style=\"width:629px;height:433px;\" version=\"1.1\" viewBox=\"0 0 629 433\" width=\"629px\" zoomAndPan=\"magnify\"><defs/><g><!--MD5=[fbc87193dbaf4d95561dea2c320d4a47]\n",
       "cluster E1--><a href=\"psysml:811d2e93-771a-4206-9534-119b2782ed8b\" target=\"_top\" title=\"psysml:811d2e93-771a-4206-9534-119b2782ed8b\" xlink:actuate=\"onRequest\" xlink:href=\"psysml:811d2e93-771a-4206-9534-119b2782ed8b\" xlink:show=\"new\" xlink:title=\"psysml:811d2e93-771a-4206-9534-119b2782ed8b\" xlink:type=\"simple\"><polygon fill=\"#FFFFFF\" points=\"16,6,136,6,143,28.2969,607,28.2969,607,421,16,421,16,6\" style=\"stroke: #000000; stroke-width: 1.5;\"/><line style=\"stroke: #000000; stroke-width: 1.5;\" x1=\"16\" x2=\"143\" y1=\"28.2969\" y2=\"28.2969\"/><text fill=\"#000000\" font-family=\"sans-serif\" font-size=\"14\" font-weight=\"bold\" lengthAdjust=\"spacingAndGlyphs\" textLength=\"114\" x=\"20\" y=\"20.9951\">ConjugationTest</text></a><!--MD5=[b4997ac47864f28c2f74865a473b2911]\n",
       "class E2--><a href=\"psysml:a118eece-ff6c-41b4-a8ec-63007fd81e06\" target=\"_top\" title=\"psysml:a118eece-ff6c-41b4-a8ec-63007fd81e06\" xlink:actuate=\"onRequest\" xlink:href=\"psysml:a118eece-ff6c-41b4-a8ec-63007fd81e06\" xlink:show=\"new\" xlink:title=\"psysml:a118eece-ff6c-41b4-a8ec-63007fd81e06\" xlink:type=\"simple\"><rect fill=\"#FFFFFF\" height=\"45.9375\" id=\"E2\" style=\"stroke: #383838; stroke-width: 1.5;\" width=\"66\" x=\"221\" y=\"359\"/><text fill=\"#000000\" font-family=\"sans-serif\" font-size=\"12\" font-style=\"italic\" lengthAdjust=\"spacingAndGlyphs\" textLength=\"64\" x=\"222\" y=\"375.1387\">«port def»</text><text fill=\"#000000\" font-family=\"sans-serif\" font-size=\"12\" lengthAdjust=\"spacingAndGlyphs\" textLength=\"8\" x=\"250\" y=\"389.1074\">P</text><line style=\"stroke: #383838; stroke-width: 1.5;\" x1=\"222\" x2=\"286\" y1=\"396.9375\" y2=\"396.9375\"/></a><!--MD5=[09b614a08d8cba4a07c9adeb5e0fee81]\n",
       "class E3--><a href=\"psysml:45f3428f-90c5-481c-8b5b-6d42a9c9ecb4\" target=\"_top\" title=\"psysml:45f3428f-90c5-481c-8b5b-6d42a9c9ecb4\" xlink:actuate=\"onRequest\" xlink:href=\"psysml:45f3428f-90c5-481c-8b5b-6d42a9c9ecb4\" xlink:show=\"new\" xlink:title=\"psysml:45f3428f-90c5-481c-8b5b-6d42a9c9ecb4\" xlink:type=\"simple\"><rect fill=\"#FFFFFF\" height=\"45.9375\" id=\"E3\" style=\"stroke: #383838; stroke-width: 1.5;\" width=\"66\" x=\"489\" y=\"147\"/><text fill=\"#000000\" font-family=\"sans-serif\" font-size=\"12\" font-style=\"italic\" lengthAdjust=\"spacingAndGlyphs\" textLength=\"64\" x=\"490\" y=\"163.1387\">«part def»</text><text fill=\"#000000\" font-family=\"sans-serif\" font-size=\"12\" lengthAdjust=\"spacingAndGlyphs\" textLength=\"8\" x=\"518\" y=\"177.1074\">B</text><line style=\"stroke: #383838; stroke-width: 1.5;\" x1=\"490\" x2=\"554\" y1=\"184.9375\" y2=\"184.9375\"/></a><!--MD5=[ebbe1d658d1005bcc118a6aa81145e00]\n",
       "class E4--><a href=\"psysml:f10162e3-9121-4423-8c61-28bf75aadc9a\" target=\"_top\" title=\"psysml:f10162e3-9121-4423-8c61-28bf75aadc9a\" xlink:actuate=\"onRequest\" xlink:href=\"psysml:f10162e3-9121-4423-8c61-28bf75aadc9a\" xlink:show=\"new\" xlink:title=\"psysml:f10162e3-9121-4423-8c61-28bf75aadc9a\" xlink:type=\"simple\"><rect fill=\"#FFFFFF\" height=\"45.9375\" id=\"E4\" rx=\"10\" ry=\"10\" style=\"stroke: #383838; stroke-width: 1.5;\" width=\"42\" x=\"466\" y=\"253\"/><text fill=\"#000000\" font-family=\"sans-serif\" font-size=\"12\" font-style=\"italic\" lengthAdjust=\"spacingAndGlyphs\" textLength=\"40\" x=\"467\" y=\"269.1387\">«port»</text><text fill=\"#000000\" font-family=\"sans-serif\" font-size=\"12\" lengthAdjust=\"spacingAndGlyphs\" textLength=\"32\" x=\"471\" y=\"283.1074\">p1: P</text><line style=\"stroke: #383838; stroke-width: 1.5;\" x1=\"467\" x2=\"507\" y1=\"290.9375\" y2=\"290.9375\"/></a><!--MD5=[270fce915f116d4de14055a7c1d9a0f3]\n",
       "class E5--><a href=\"psysml:f793b08e-b132-4869-8396-6344384571c9\" target=\"_top\" title=\"psysml:f793b08e-b132-4869-8396-6344384571c9\" xlink:actuate=\"onRequest\" xlink:href=\"psysml:f793b08e-b132-4869-8396-6344384571c9\" xlink:show=\"new\" xlink:title=\"psysml:f793b08e-b132-4869-8396-6344384571c9\" xlink:type=\"simple\"><rect fill=\"#FFFFFF\" height=\"45.9375\" id=\"E5\" rx=\"10\" ry=\"10\" style=\"stroke: #383838; stroke-width: 1.5;\" width=\"48\" x=\"543\" y=\"253\"/><text fill=\"#000000\" font-family=\"sans-serif\" font-size=\"12\" font-style=\"italic\" lengthAdjust=\"spacingAndGlyphs\" textLength=\"40\" x=\"547\" y=\"269.1387\">«port»</text><text fill=\"#000000\" font-family=\"sans-serif\" font-size=\"12\" lengthAdjust=\"spacingAndGlyphs\" textLength=\"42\" x=\"546\" y=\"283.1074\">p2: ~P</text><line style=\"stroke: #383838; stroke-width: 1.5;\" x1=\"544\" x2=\"590\" y1=\"290.9375\" y2=\"290.9375\"/></a><!--MD5=[60a26617385b1d2d0262a64233df1f8d]\n",
       "class E6--><a href=\"psysml:1e44cf6a-fe6c-483a-98ee-7c5816e24c4f\" target=\"_top\" title=\"psysml:1e44cf6a-fe6c-483a-98ee-7c5816e24c4f\" xlink:actuate=\"onRequest\" xlink:href=\"psysml:1e44cf6a-fe6c-483a-98ee-7c5816e24c4f\" xlink:show=\"new\" xlink:title=\"psysml:1e44cf6a-fe6c-483a-98ee-7c5816e24c4f\" xlink:type=\"simple\"><rect fill=\"#FFFFFF\" height=\"45.9375\" id=\"E6\" style=\"stroke: #383838; stroke-width: 1.5;\" width=\"110\" x=\"282\" y=\"147\"/><text fill=\"#000000\" font-family=\"sans-serif\" font-size=\"12\" font-style=\"italic\" lengthAdjust=\"spacingAndGlyphs\" textLength=\"108\" x=\"283\" y=\"163.1387\">«connection def»</text><text fill=\"#000000\" font-family=\"sans-serif\" font-size=\"12\" lengthAdjust=\"spacingAndGlyphs\" textLength=\"8\" x=\"333\" y=\"177.1074\">A</text><line style=\"stroke: #383838; stroke-width: 1.5;\" x1=\"283\" x2=\"391\" y1=\"184.9375\" y2=\"184.9375\"/></a><!--MD5=[2156ba9850f5573cc1fc38a6a4b2f02b]\n",
       "class E7--><a href=\"psysml:592da980-ebcc-4bfb-b89f-9a898fd7b408\" target=\"_top\" title=\"psysml:592da980-ebcc-4bfb-b89f-9a898fd7b408\" xlink:actuate=\"onRequest\" xlink:href=\"psysml:592da980-ebcc-4bfb-b89f-9a898fd7b408\" xlink:show=\"new\" xlink:title=\"psysml:592da980-ebcc-4bfb-b89f-9a898fd7b408\" xlink:type=\"simple\"><rect fill=\"#FFFFFF\" height=\"45.9375\" id=\"E7\" rx=\"10\" ry=\"10\" style=\"stroke: #383838; stroke-width: 1.5;\" width=\"42\" x=\"306\" y=\"253\"/><text fill=\"#000000\" font-family=\"sans-serif\" font-size=\"12\" font-style=\"italic\" lengthAdjust=\"spacingAndGlyphs\" textLength=\"40\" x=\"307\" y=\"269.1387\">«port»</text><text fill=\"#000000\" font-family=\"sans-serif\" font-size=\"12\" lengthAdjust=\"spacingAndGlyphs\" textLength=\"32\" x=\"311\" y=\"283.1074\">p1: P</text><line style=\"stroke: #383838; stroke-width: 1.5;\" x1=\"307\" x2=\"347\" y1=\"290.9375\" y2=\"290.9375\"/></a><!--MD5=[b9389687b975829384b498ac4b7476b2]\n",
       "class E8--><a href=\"psysml:4730362b-6892-4b61-8b08-4b1eb3a58a19\" target=\"_top\" title=\"psysml:4730362b-6892-4b61-8b08-4b1eb3a58a19\" xlink:actuate=\"onRequest\" xlink:href=\"psysml:4730362b-6892-4b61-8b08-4b1eb3a58a19\" xlink:show=\"new\" xlink:title=\"psysml:4730362b-6892-4b61-8b08-4b1eb3a58a19\" xlink:type=\"simple\"><rect fill=\"#FFFFFF\" height=\"45.9375\" id=\"E8\" rx=\"10\" ry=\"10\" style=\"stroke: #383838; stroke-width: 1.5;\" width=\"48\" x=\"383\" y=\"253\"/><text fill=\"#000000\" font-family=\"sans-serif\" font-size=\"12\" font-style=\"italic\" lengthAdjust=\"spacingAndGlyphs\" textLength=\"40\" x=\"387\" y=\"269.1387\">«port»</text><text fill=\"#000000\" font-family=\"sans-serif\" font-size=\"12\" lengthAdjust=\"spacingAndGlyphs\" textLength=\"42\" x=\"386\" y=\"283.1074\">p2: ~P</text><line style=\"stroke: #383838; stroke-width: 1.5;\" x1=\"384\" x2=\"430\" y1=\"290.9375\" y2=\"290.9375\"/></a><!--MD5=[fd4143e9d270a159db93a4ea2a975926]\n",
       "class E9--><a href=\"psysml:c589f335-4cab-4324-b073-03ca89b55f7d\" target=\"_top\" title=\"psysml:c589f335-4cab-4324-b073-03ca89b55f7d\" xlink:actuate=\"onRequest\" xlink:href=\"psysml:c589f335-4cab-4324-b073-03ca89b55f7d\" xlink:show=\"new\" xlink:title=\"psysml:c589f335-4cab-4324-b073-03ca89b55f7d\" xlink:type=\"simple\"><rect fill=\"#FFFFFF\" height=\"45.9375\" id=\"E9\" style=\"stroke: #383838; stroke-width: 1.5;\" width=\"96\" x=\"146\" y=\"147\"/><text fill=\"#000000\" font-family=\"sans-serif\" font-size=\"12\" font-style=\"italic\" lengthAdjust=\"spacingAndGlyphs\" textLength=\"94\" x=\"147\" y=\"163.1387\">«interface def»</text><text fill=\"#000000\" font-family=\"sans-serif\" font-size=\"12\" lengthAdjust=\"spacingAndGlyphs\" textLength=\"3\" x=\"192.5\" y=\"177.1074\">I</text><line style=\"stroke: #383838; stroke-width: 1.5;\" x1=\"147\" x2=\"241\" y1=\"184.9375\" y2=\"184.9375\"/></a><!--MD5=[96f4274e9e20536e775497830990834d]\n",
       "class E10--><a href=\"psysml:0a18d135-3a15-4f1e-a48b-3983b85e55aa\" target=\"_top\" title=\"psysml:0a18d135-3a15-4f1e-a48b-3983b85e55aa\" xlink:actuate=\"onRequest\" xlink:href=\"psysml:0a18d135-3a15-4f1e-a48b-3983b85e55aa\" xlink:show=\"new\" xlink:title=\"psysml:0a18d135-3a15-4f1e-a48b-3983b85e55aa\" xlink:type=\"simple\"><rect fill=\"#FFFFFF\" height=\"45.9375\" id=\"E10\" rx=\"10\" ry=\"10\" style=\"stroke: #383838; stroke-width: 1.5;\" width=\"42\" x=\"146\" y=\"253\"/><text fill=\"#000000\" font-family=\"sans-serif\" font-size=\"12\" font-style=\"italic\" lengthAdjust=\"spacingAndGlyphs\" textLength=\"40\" x=\"147\" y=\"269.1387\">«port»</text><text fill=\"#000000\" font-family=\"sans-serif\" font-size=\"12\" lengthAdjust=\"spacingAndGlyphs\" textLength=\"32\" x=\"151\" y=\"283.1074\">p1: P</text><line style=\"stroke: #383838; stroke-width: 1.5;\" x1=\"147\" x2=\"187\" y1=\"290.9375\" y2=\"290.9375\"/></a><!--MD5=[1dd1bfd58a279cf63c5f349dbc8fc6a1]\n",
       "class E11--><a href=\"psysml:f0ebefc1-580e-4b11-b9cf-e3cb40b874a3\" target=\"_top\" title=\"psysml:f0ebefc1-580e-4b11-b9cf-e3cb40b874a3\" xlink:actuate=\"onRequest\" xlink:href=\"psysml:f0ebefc1-580e-4b11-b9cf-e3cb40b874a3\" xlink:show=\"new\" xlink:title=\"psysml:f0ebefc1-580e-4b11-b9cf-e3cb40b874a3\" xlink:type=\"simple\"><rect fill=\"#FFFFFF\" height=\"45.9375\" id=\"E11\" rx=\"10\" ry=\"10\" style=\"stroke: #383838; stroke-width: 1.5;\" width=\"48\" x=\"223\" y=\"253\"/><text fill=\"#000000\" font-family=\"sans-serif\" font-size=\"12\" font-style=\"italic\" lengthAdjust=\"spacingAndGlyphs\" textLength=\"40\" x=\"227\" y=\"269.1387\">«port»</text><text fill=\"#000000\" font-family=\"sans-serif\" font-size=\"12\" lengthAdjust=\"spacingAndGlyphs\" textLength=\"42\" x=\"226\" y=\"283.1074\">p2: ~P</text><line style=\"stroke: #383838; stroke-width: 1.5;\" x1=\"224\" x2=\"270\" y1=\"290.9375\" y2=\"290.9375\"/></a><!--MD5=[49a0ec8f00dab7302a31f22d0f0fe584]\n",
       "class E12--><a href=\"psysml:99d6c811-1239-4557-8bf5-512a2d9b51f5\" target=\"_top\" title=\"psysml:99d6c811-1239-4557-8bf5-512a2d9b51f5\" xlink:actuate=\"onRequest\" xlink:href=\"psysml:99d6c811-1239-4557-8bf5-512a2d9b51f5\" xlink:show=\"new\" xlink:title=\"psysml:99d6c811-1239-4557-8bf5-512a2d9b51f5\" xlink:type=\"simple\"><rect fill=\"#FFFFFF\" height=\"45.9375\" id=\"E12\" style=\"stroke: #383838; stroke-width: 1.5;\" width=\"66\" x=\"47\" y=\"41\"/><text fill=\"#000000\" font-family=\"sans-serif\" font-size=\"12\" font-style=\"italic\" lengthAdjust=\"spacingAndGlyphs\" textLength=\"64\" x=\"48\" y=\"57.1387\">«part def»</text><text fill=\"#000000\" font-family=\"sans-serif\" font-size=\"12\" lengthAdjust=\"spacingAndGlyphs\" textLength=\"16\" x=\"72\" y=\"71.1074\">B1</text><line style=\"stroke: #383838; stroke-width: 1.5;\" x1=\"48\" x2=\"112\" y1=\"78.9375\" y2=\"78.9375\"/></a><!--MD5=[ee3c913d1a06f366521f9ef512b67efe]\n",
       "class E13--><a href=\"psysml:c80e6282-4b88-42a6-beea-d83b68d36327\" target=\"_top\" title=\"psysml:c80e6282-4b88-42a6-beea-d83b68d36327\" xlink:actuate=\"onRequest\" xlink:href=\"psysml:c80e6282-4b88-42a6-beea-d83b68d36327\" xlink:show=\"new\" xlink:title=\"psysml:c80e6282-4b88-42a6-beea-d83b68d36327\" xlink:type=\"simple\"><rect fill=\"#FFFFFF\" height=\"45.9375\" id=\"E13\" rx=\"10\" ry=\"10\" style=\"stroke: #383838; stroke-width: 1.5;\" width=\"42\" x=\"59\" y=\"147\"/><text fill=\"#000000\" font-family=\"sans-serif\" font-size=\"12\" font-style=\"italic\" lengthAdjust=\"spacingAndGlyphs\" textLength=\"40\" x=\"60\" y=\"163.1387\">«part»</text><text fill=\"#000000\" font-family=\"sans-serif\" font-size=\"12\" lengthAdjust=\"spacingAndGlyphs\" textLength=\"8\" x=\"76\" y=\"177.1074\">p</text><line style=\"stroke: #383838; stroke-width: 1.5;\" x1=\"60\" x2=\"100\" y1=\"184.9375\" y2=\"184.9375\"/></a><!--MD5=[bee11217b2f71d958a27249dc326068c]\n",
       "class E14--><a href=\"psysml:36fdd18b-cc96-4106-b803-027f179d9fab\" target=\"_top\" title=\"psysml:36fdd18b-cc96-4106-b803-027f179d9fab\" xlink:actuate=\"onRequest\" xlink:href=\"psysml:36fdd18b-cc96-4106-b803-027f179d9fab\" xlink:show=\"new\" xlink:title=\"psysml:36fdd18b-cc96-4106-b803-027f179d9fab\" xlink:type=\"simple\"><rect fill=\"#FFFFFF\" height=\"45.9375\" id=\"E14\" rx=\"10\" ry=\"10\" style=\"stroke: #383838; stroke-width: 1.5;\" width=\"42\" x=\"69\" y=\"253\"/><text fill=\"#000000\" font-family=\"sans-serif\" font-size=\"12\" font-style=\"italic\" lengthAdjust=\"spacingAndGlyphs\" textLength=\"40\" x=\"70\" y=\"269.1387\">«port»</text><text fill=\"#000000\" font-family=\"sans-serif\" font-size=\"12\" lengthAdjust=\"spacingAndGlyphs\" textLength=\"32\" x=\"74\" y=\"283.1074\">p1: P</text><line style=\"stroke: #383838; stroke-width: 1.5;\" x1=\"70\" x2=\"110\" y1=\"290.9375\" y2=\"290.9375\"/></a><!--MD5=[0c48fb7552dae8cbbef69381101a84c8]\n",
       "class E15--><a href=\"psysml:a04d4130-2616-430e-82e5-4df6c3f344d5\" target=\"_top\" title=\"psysml:a04d4130-2616-430e-82e5-4df6c3f344d5\" xlink:actuate=\"onRequest\" xlink:href=\"psysml:a04d4130-2616-430e-82e5-4df6c3f344d5\" xlink:show=\"new\" xlink:title=\"psysml:a04d4130-2616-430e-82e5-4df6c3f344d5\" xlink:type=\"simple\"><rect fill=\"#FFFFFF\" height=\"45.9375\" id=\"E15\" rx=\"10\" ry=\"10\" style=\"stroke: #383838; stroke-width: 1.5;\" width=\"48\" x=\"66\" y=\"359\"/><text fill=\"#000000\" font-family=\"sans-serif\" font-size=\"12\" font-style=\"italic\" lengthAdjust=\"spacingAndGlyphs\" textLength=\"40\" x=\"70\" y=\"375.1387\">«port»</text><text fill=\"#000000\" font-family=\"sans-serif\" font-size=\"12\" lengthAdjust=\"spacingAndGlyphs\" textLength=\"42\" x=\"69\" y=\"389.1074\">p2: ~P</text><line style=\"stroke: #383838; stroke-width: 1.5;\" x1=\"67\" x2=\"113\" y1=\"396.9375\" y2=\"396.9375\"/></a><!--MD5=[4672eba38e49728da53d11aeb285b987]\n",
       "reverse link E3 to E4--><a href=\"psysml:478537c4-9aea-45e7-93bf-51b2f99f76d0\" target=\"_top\" title=\"psysml:478537c4-9aea-45e7-93bf-51b2f99f76d0\" xlink:actuate=\"onRequest\" xlink:href=\"psysml:478537c4-9aea-45e7-93bf-51b2f99f76d0\" xlink:show=\"new\" xlink:title=\"psysml:478537c4-9aea-45e7-93bf-51b2f99f76d0\" xlink:type=\"simple\"><path d=\"M498.5,206 C498.5,206 498.5,252.68 498.5,252.68 \" fill=\"none\" id=\"E3&lt;-E4\" style=\"stroke: #383838; stroke-width: 1.0;\"/><polygon fill=\"#FFFFFF\" points=\"498.5,193,494.5,199,498.5,205,502.5,199,498.5,193\" style=\"stroke: #383838; stroke-width: 1.0;\"/><text fill=\"#000000\" font-family=\"sans-serif\" font-size=\"13\" lengthAdjust=\"spacingAndGlyphs\" textLength=\"8\" x=\"492.4219\" y=\"241.8743\">1</text></a><!--MD5=[185131fc0dcab0a4505a2ebe144e961b]\n",
       "link E4 to E2--><a href=\"psysml:9a27f54b-62e8-4ed3-8ffb-179b9354440f\" target=\"_top\" title=\"psysml:9a27f54b-62e8-4ed3-8ffb-179b9354440f\" xlink:actuate=\"onRequest\" xlink:href=\"psysml:9a27f54b-62e8-4ed3-8ffb-179b9354440f\" xlink:show=\"new\" xlink:title=\"psysml:9a27f54b-62e8-4ed3-8ffb-179b9354440f\" xlink:type=\"simple\"><path d=\"M487,299 C487,330.18 487,382 487,382 C487,382 307.38,382 307.38,382 \" fill=\"none\" id=\"E4-&gt;E2\" style=\"stroke: #383838; stroke-width: 1.0;\"/><polygon fill=\"#FFFFFF\" points=\"287.38,382,306.38,375,306.38,389,287.38,382\" style=\"stroke: #383838; stroke-width: 1.0;\"/><ellipse cx=\"312.08\" cy=\"377\" fill=\"#383838\" rx=\"2\" ry=\"2\" style=\"stroke: #383838; stroke-width: 1.0;\"/><ellipse cx=\"312.08\" cy=\"387\" fill=\"#383838\" rx=\"2\" ry=\"2\" style=\"stroke: #383838; stroke-width: 1.0;\"/></a><!--MD5=[191cde3d490a3f6d7bb551fe3ddca469]\n",
       "reverse link E3 to E5--><a href=\"psysml:0c237cb0-b529-413c-8aaf-d2f6ce3a1092\" target=\"_top\" title=\"psysml:0c237cb0-b529-413c-8aaf-d2f6ce3a1092\" xlink:actuate=\"onRequest\" xlink:href=\"psysml:0c237cb0-b529-413c-8aaf-d2f6ce3a1092\" xlink:show=\"new\" xlink:title=\"psysml:0c237cb0-b529-413c-8aaf-d2f6ce3a1092\" xlink:type=\"simple\"><path d=\"M549,206 C549,206 549,252.68 549,252.68 \" fill=\"none\" id=\"E3&lt;-E5\" style=\"stroke: #383838; stroke-width: 1.0;\"/><polygon fill=\"#FFFFFF\" points=\"549,193,545,199,549,205,553,199,549,193\" style=\"stroke: #383838; stroke-width: 1.0;\"/><text fill=\"#000000\" font-family=\"sans-serif\" font-size=\"13\" lengthAdjust=\"spacingAndGlyphs\" textLength=\"8\" x=\"535.3625\" y=\"241.8743\">1</text></a><!--MD5=[3f50a3473f1dfb74d3f76443e03635af]\n",
       "reverse link E6 to E7--><a href=\"psysml:b94a6cc2-6585-4221-b4bd-c6e1360a7593\" target=\"_top\" title=\"psysml:b94a6cc2-6585-4221-b4bd-c6e1360a7593\" xlink:actuate=\"onRequest\" xlink:href=\"psysml:b94a6cc2-6585-4221-b4bd-c6e1360a7593\" xlink:show=\"new\" xlink:title=\"psysml:b94a6cc2-6585-4221-b4bd-c6e1360a7593\" xlink:type=\"simple\"><path d=\"M327,206 C327,206 327,252.68 327,252.68 \" fill=\"none\" id=\"E6&lt;-E7\" style=\"stroke: #383838; stroke-width: 1.0;\"/><polygon fill=\"#FFFFFF\" points=\"327,193,323,199,327,205,331,199,327,193\" style=\"stroke: #383838; stroke-width: 1.0;\"/><text fill=\"#000000\" font-family=\"sans-serif\" font-size=\"13\" lengthAdjust=\"spacingAndGlyphs\" textLength=\"8\" x=\"317.975\" y=\"241.8743\">1</text></a><!--MD5=[583832df87f4419a098336a29a52fa00]\n",
       "link E7 to E2--><a href=\"psysml:6c7ecdb4-3704-4141-b5eb-90be274661d4\" target=\"_top\" title=\"psysml:6c7ecdb4-3704-4141-b5eb-90be274661d4\" xlink:actuate=\"onRequest\" xlink:href=\"psysml:6c7ecdb4-3704-4141-b5eb-90be274661d4\" xlink:show=\"new\" xlink:title=\"psysml:6c7ecdb4-3704-4141-b5eb-90be274661d4\" xlink:type=\"simple\"><path d=\"M305.88,276 C292.04,276 276.5,276 276.5,276 C276.5,276 276.5,339 276.5,339 \" fill=\"none\" id=\"E7-&gt;E2\" style=\"stroke: #383838; stroke-width: 1.0;\"/><polygon fill=\"#FFFFFF\" points=\"276.5,359,269.5,340,283.5,340,276.5,359\" style=\"stroke: #383838; stroke-width: 1.0;\"/><ellipse cx=\"271.5\" cy=\"334.3\" fill=\"#383838\" rx=\"2\" ry=\"2\" style=\"stroke: #383838; stroke-width: 1.0;\"/><ellipse cx=\"281.5\" cy=\"334.3\" fill=\"#383838\" rx=\"2\" ry=\"2\" style=\"stroke: #383838; stroke-width: 1.0;\"/></a><!--MD5=[f4cf0736d43fd73c4ef68817c49d37d5]\n",
       "reverse link E6 to E8--><a href=\"psysml:c893fa2e-0043-44e8-be45-2077001790d0\" target=\"_top\" title=\"psysml:c893fa2e-0043-44e8-be45-2077001790d0\" xlink:actuate=\"onRequest\" xlink:href=\"psysml:c893fa2e-0043-44e8-be45-2077001790d0\" xlink:show=\"new\" xlink:title=\"psysml:c893fa2e-0043-44e8-be45-2077001790d0\" xlink:type=\"simple\"><path d=\"M387.5,206 C387.5,206 387.5,252.68 387.5,252.68 \" fill=\"none\" id=\"E6&lt;-E8\" style=\"stroke: #383838; stroke-width: 1.0;\"/><polygon fill=\"#FFFFFF\" points=\"387.5,193,383.5,199,387.5,205,391.5,199,387.5,193\" style=\"stroke: #383838; stroke-width: 1.0;\"/><text fill=\"#000000\" font-family=\"sans-serif\" font-size=\"13\" lengthAdjust=\"spacingAndGlyphs\" textLength=\"8\" x=\"373.4781\" y=\"241.8743\">1</text></a><!--MD5=[23ac544a70576c3e717098101004234c]\n",
       "reverse link E9 to E10--><a href=\"psysml:3723b58c-a4dd-4ef3-9a79-2a659572d83c\" target=\"_top\" title=\"psysml:3723b58c-a4dd-4ef3-9a79-2a659572d83c\" xlink:actuate=\"onRequest\" xlink:href=\"psysml:3723b58c-a4dd-4ef3-9a79-2a659572d83c\" xlink:show=\"new\" xlink:title=\"psysml:3723b58c-a4dd-4ef3-9a79-2a659572d83c\" xlink:type=\"simple\"><path d=\"M167,206 C167,206 167,252.68 167,252.68 \" fill=\"none\" id=\"E9&lt;-E10\" style=\"stroke: #383838; stroke-width: 1.0;\"/><polygon fill=\"#FFFFFF\" points=\"167,193,163,199,167,205,171,199,167,193\" style=\"stroke: #383838; stroke-width: 1.0;\"/><text fill=\"#000000\" font-family=\"sans-serif\" font-size=\"13\" lengthAdjust=\"spacingAndGlyphs\" textLength=\"8\" x=\"157.975\" y=\"241.8743\">1</text></a><!--MD5=[0f36bececdf0dff6e600d6f64214b0f1]\n",
       "link E10 to E2--><a href=\"psysml:8c7a6e5c-2c0e-473c-a2c4-4062964bb416\" target=\"_top\" title=\"psysml:8c7a6e5c-2c0e-473c-a2c4-4062964bb416\" xlink:actuate=\"onRequest\" xlink:href=\"psysml:8c7a6e5c-2c0e-473c-a2c4-4062964bb416\" xlink:show=\"new\" xlink:title=\"psysml:8c7a6e5c-2c0e-473c-a2c4-4062964bb416\" xlink:type=\"simple\"><path d=\"M167,299.21 C167,328.47 167,375 167,375 C167,375 200.61,375 200.61,375 \" fill=\"none\" id=\"E10-&gt;E2\" style=\"stroke: #383838; stroke-width: 1.0;\"/><polygon fill=\"#FFFFFF\" points=\"220.61,375,201.61,382,201.61,368,220.61,375\" style=\"stroke: #383838; stroke-width: 1.0;\"/><ellipse cx=\"195.91\" cy=\"380\" fill=\"#383838\" rx=\"2\" ry=\"2\" style=\"stroke: #383838; stroke-width: 1.0;\"/><ellipse cx=\"195.91\" cy=\"370\" fill=\"#383838\" rx=\"2\" ry=\"2\" style=\"stroke: #383838; stroke-width: 1.0;\"/></a><!--MD5=[1fc04a95fd77ad5ce46c1a3027516051]\n",
       "reverse link E9 to E11--><a href=\"psysml:05b52cb0-1bec-4ecb-a4ba-b6e0a5fd36fa\" target=\"_top\" title=\"psysml:05b52cb0-1bec-4ecb-a4ba-b6e0a5fd36fa\" xlink:actuate=\"onRequest\" xlink:href=\"psysml:05b52cb0-1bec-4ecb-a4ba-b6e0a5fd36fa\" xlink:show=\"new\" xlink:title=\"psysml:05b52cb0-1bec-4ecb-a4ba-b6e0a5fd36fa\" xlink:type=\"simple\"><path d=\"M232.5,206 C232.5,206 232.5,252.68 232.5,252.68 \" fill=\"none\" id=\"E9&lt;-E11\" style=\"stroke: #383838; stroke-width: 1.0;\"/><polygon fill=\"#FFFFFF\" points=\"232.5,193,228.5,199,232.5,205,236.5,199,232.5,193\" style=\"stroke: #383838; stroke-width: 1.0;\"/><text fill=\"#000000\" font-family=\"sans-serif\" font-size=\"13\" lengthAdjust=\"spacingAndGlyphs\" textLength=\"8\" x=\"219.7594\" y=\"241.8743\">1</text></a><!--MD5=[062ed86c389d1a88f61c6380d0491e17]\n",
       "reverse link E12 to E13--><a href=\"psysml:2ea9f126-2045-475e-98b2-0bebbeaf39ba\" target=\"_top\" title=\"psysml:2ea9f126-2045-475e-98b2-0bebbeaf39ba\" xlink:actuate=\"onRequest\" xlink:href=\"psysml:2ea9f126-2045-475e-98b2-0bebbeaf39ba\" xlink:show=\"new\" xlink:title=\"psysml:2ea9f126-2045-475e-98b2-0bebbeaf39ba\" xlink:type=\"simple\"><path d=\"M80,100 C80,100 80,146.68 80,146.68 \" fill=\"none\" id=\"E12&lt;-E13\" style=\"stroke: #383838; stroke-width: 1.0;\"/><polygon fill=\"#383838\" points=\"80,87,76,93,80,99,84,93,80,87\" style=\"stroke: #383838; stroke-width: 1.0;\"/><text fill=\"#000000\" font-family=\"sans-serif\" font-size=\"13\" lengthAdjust=\"spacingAndGlyphs\" textLength=\"8\" x=\"70.975\" y=\"135.8743\">1</text></a><!--MD5=[01db00f33b28669d6d9febea71002831]\n",
       "reverse link E13 to E14--><a href=\"psysml:56644651-1cff-4e4b-add6-5aaf4cbf3323\" target=\"_top\" title=\"psysml:56644651-1cff-4e4b-add6-5aaf4cbf3323\" xlink:actuate=\"onRequest\" xlink:href=\"psysml:56644651-1cff-4e4b-add6-5aaf4cbf3323\" xlink:show=\"new\" xlink:title=\"psysml:56644651-1cff-4e4b-add6-5aaf4cbf3323\" xlink:type=\"simple\"><path d=\"M85,206 C85,206 85,252.68 85,252.68 \" fill=\"none\" id=\"E13&lt;-E14\" style=\"stroke: #383838; stroke-width: 1.0;\"/><polygon fill=\"#FFFFFF\" points=\"85,193,81,199,85,205,89,199,85,193\" style=\"stroke: #383838; stroke-width: 1.0;\"/><text fill=\"#000000\" font-family=\"sans-serif\" font-size=\"13\" lengthAdjust=\"spacingAndGlyphs\" textLength=\"8\" x=\"74.6938\" y=\"241.8743\">1</text></a><!--MD5=[e5566ac99d7714697a7fbc17f6b550fe]\n",
       "link E14 to E2--><a href=\"psysml:004f1bd4-f46a-4fc3-b446-5abbd305cc50\" target=\"_top\" title=\"psysml:004f1bd4-f46a-4fc3-b446-5abbd305cc50\" xlink:actuate=\"onRequest\" xlink:href=\"psysml:004f1bd4-f46a-4fc3-b446-5abbd305cc50\" xlink:show=\"new\" xlink:title=\"psysml:004f1bd4-f46a-4fc3-b446-5abbd305cc50\" xlink:type=\"simple\"><path d=\"M111.41,276 C120.92,276 130,276 130,276 C130,276 130,390 130,390 C130,390 200.77,390 200.77,390 \" fill=\"none\" id=\"E14-&gt;E2\" style=\"stroke: #383838; stroke-width: 1.0;\"/><polygon fill=\"#FFFFFF\" points=\"220.77,390,201.77,397,201.77,383,220.77,390\" style=\"stroke: #383838; stroke-width: 1.0;\"/><ellipse cx=\"196.07\" cy=\"395\" fill=\"#383838\" rx=\"2\" ry=\"2\" style=\"stroke: #383838; stroke-width: 1.0;\"/><ellipse cx=\"196.07\" cy=\"385\" fill=\"#383838\" rx=\"2\" ry=\"2\" style=\"stroke: #383838; stroke-width: 1.0;\"/></a><!--MD5=[e9a5e828c71fd2209a11a152f562d491]\n",
       "reverse link E13 to E15--><a href=\"psysml:439c4bcd-5bf6-4395-bbdb-0df2330c2504\" target=\"_top\" title=\"psysml:439c4bcd-5bf6-4395-bbdb-0df2330c2504\" xlink:actuate=\"onRequest\" xlink:href=\"psysml:439c4bcd-5bf6-4395-bbdb-0df2330c2504\" xlink:show=\"new\" xlink:title=\"psysml:439c4bcd-5bf6-4395-bbdb-0df2330c2504\" xlink:type=\"simple\"><path d=\"M53.6,170 C53.6,170 53,170 53,170 C53,170 53,382 53,382 C53,382 58.87,382 65.94,382 \" fill=\"none\" id=\"E13&lt;-E15\" style=\"stroke: #383838; stroke-width: 1.0;\"/><polygon fill=\"#FFFFFF\" points=\"58.99,170,52.99,166,46.99,170,52.99,174,58.99,170\" style=\"stroke: #383838; stroke-width: 1.0;\"/><text fill=\"#000000\" font-family=\"sans-serif\" font-size=\"13\" lengthAdjust=\"spacingAndGlyphs\" textLength=\"8\" x=\"50.0481\" y=\"376.985\">1</text></a><!--MD5=[3afbdc645381407e1bc99677323a2513]\n",
       "link E14 to E15--><a href=\"psysml:356465e0-8362-42f7-8017-4c1d57dccd42\" target=\"_top\" title=\"psysml:356465e0-8362-42f7-8017-4c1d57dccd42\" xlink:actuate=\"onRequest\" xlink:href=\"psysml:356465e0-8362-42f7-8017-4c1d57dccd42\" xlink:show=\"new\" xlink:title=\"psysml:356465e0-8362-42f7-8017-4c1d57dccd42\" xlink:type=\"simple\"><path d=\"M83,299 C83,316.66 83,340.94 83,358.68 \" fill=\"none\" id=\"E14-E15\" style=\"stroke: #383838; stroke-width: 3.0;\"/></a><!--MD5=[3afbdc645381407e1bc99677323a2513]\n",
       "link E14 to E15--><a href=\"psysml:be002053-3eab-4239-b4ec-f62d8ddd6fa6\" target=\"_top\" title=\"psysml:be002053-3eab-4239-b4ec-f62d8ddd6fa6\" xlink:actuate=\"onRequest\" xlink:href=\"psysml:be002053-3eab-4239-b4ec-f62d8ddd6fa6\" xlink:show=\"new\" xlink:title=\"psysml:be002053-3eab-4239-b4ec-f62d8ddd6fa6\" xlink:type=\"simple\"><path d=\"M97,299 C97,316.66 97,340.94 97,358.68 \" fill=\"none\" id=\"E14-E15-1\" style=\"stroke: #383838; stroke-width: 3.0;\"/></a><!--MD5=[fdae553b332deee89dc7ed0e03f5858d]\n",
       "@startuml\r\n",
       "skinparam linetype ortho\r\n",
       "skinparam monochrome true\r\n",
       "skinparam classbackgroundcolor white\r\n",
       "skinparam shadowing false\r\n",
       "skinparam wrapWidth 300\r\n",
       "hide circle\r\n",
       "\r\n",
       "package \"ConjugationTest\" as E1  [[psysml:811d2e93-771a-4206-9534-119b2782ed8b ]]  {\r\n",
       "comp def \"P\" as E2  <<(T,blue) port def>> [[psysml:a118eece-ff6c-41b4-a8ec-63007fd81e06 ]] {\r\n",
       "}\r\n",
       "comp def \"B\" as E3  <<(T,blue) part def>> [[psysml:45f3428f-90c5-481c-8b5b-6d42a9c9ecb4 ]] {\r\n",
       "}\r\n",
       "comp usage \"p1: P\" as E4  <<(T,blue) port>> [[psysml:f10162e3-9121-4423-8c61-28bf75aadc9a ]] {\r\n",
       "}\r\n",
       "comp usage \"p2: ~P\" as E5  <<(T,blue) port>> [[psysml:f793b08e-b132-4869-8396-6344384571c9 ]] {\r\n",
       "}\r\n",
       "comp def \"A\" as E6  <<(T,blue) connection def>> [[psysml:1e44cf6a-fe6c-483a-98ee-7c5816e24c4f ]] {\r\n",
       "}\r\n",
       "comp usage \"p1: P\" as E7  <<(T,blue) port>> [[psysml:592da980-ebcc-4bfb-b89f-9a898fd7b408 ]] {\r\n",
       "}\r\n",
       "comp usage \"p2: ~P\" as E8  <<(T,blue) port>> [[psysml:4730362b-6892-4b61-8b08-4b1eb3a58a19 ]] {\r\n",
       "}\r\n",
       "comp def \"I\" as E9  <<(T,blue) interface def>> [[psysml:c589f335-4cab-4324-b073-03ca89b55f7d ]] {\r\n",
       "}\r\n",
       "comp usage \"p1: P\" as E10  <<(T,blue) port>> [[psysml:0a18d135-3a15-4f1e-a48b-3983b85e55aa ]] {\r\n",
       "}\r\n",
       "comp usage \"p2: ~P\" as E11  <<(T,blue) port>> [[psysml:f0ebefc1-580e-4b11-b9cf-e3cb40b874a3 ]] {\r\n",
       "}\r\n",
       "comp def \"B1\" as E12  <<(T,blue) part def>> [[psysml:99d6c811-1239-4557-8bf5-512a2d9b51f5 ]] {\r\n",
       "}\r\n",
       "comp usage \"p\" as E13  <<(T,blue) part>> [[psysml:c80e6282-4b88-42a6-beea-d83b68d36327 ]] {\r\n",
       "}\r\n",
       "comp usage \"p1: P\" as E14  <<(T,blue) port>> [[psysml:36fdd18b-cc96-4106-b803-027f179d9fab ]] {\r\n",
       "}\r\n",
       "comp usage \"p2: ~P\" as E15  <<(T,blue) port>> [[psysml:a04d4130-2616-430e-82e5-4df6c3f344d5 ]] {\r\n",
       "}\r\n",
       "}\r\n",
       "E3 o- - \"1\"E4 [[psysml:478537c4-9aea-45e7-93bf-51b2f99f76d0 ]] \r\n",
       "E4 - -:|> E2 [[psysml:9a27f54b-62e8-4ed3-8ffb-179b9354440f ]] \r\n",
       "E3 o- - \"1\"E5 [[psysml:0c237cb0-b529-413c-8aaf-d2f6ce3a1092 ]] \r\n",
       "E6 o- - \"1\"E7 [[psysml:b94a6cc2-6585-4221-b4bd-c6e1360a7593 ]] \r\n",
       "E7 - -:|> E2 [[psysml:6c7ecdb4-3704-4141-b5eb-90be274661d4 ]] \r\n",
       "E6 o- - \"1\"E8 [[psysml:c893fa2e-0043-44e8-be45-2077001790d0 ]] \r\n",
       "E9 o- - \"1\"E10 [[psysml:3723b58c-a4dd-4ef3-9a79-2a659572d83c ]] \r\n",
       "E10 - -:|> E2 [[psysml:8c7a6e5c-2c0e-473c-a2c4-4062964bb416 ]] \r\n",
       "E9 o- - \"1\"E11 [[psysml:05b52cb0-1bec-4ecb-a4ba-b6e0a5fd36fa ]] \r\n",
       "E12 *- - \"1\"E13 [[psysml:2ea9f126-2045-475e-98b2-0bebbeaf39ba ]] \r\n",
       "E13 o- - \"1\"E14 [[psysml:56644651-1cff-4e4b-add6-5aaf4cbf3323 ]] \r\n",
       "E14 - -:|> E2 [[psysml:004f1bd4-f46a-4fc3-b446-5abbd305cc50 ]] \r\n",
       "E13 o- - \"1\"E15 [[psysml:439c4bcd-5bf6-4395-bbdb-0df2330c2504 ]] \r\n",
       "E14 -[thickness=3]- E15 [[psysml:356465e0-8362-42f7-8017-4c1d57dccd42 ]] \r\n",
       "E14 -[thickness=3]- E15 [[psysml:be002053-3eab-4239-b4ec-f62d8ddd6fa6 ]] \r\n",
       "@enduml\r\n",
       "\n",
       "PlantUML version 1.2020.13(Sat Jun 13 12:26:38 UTC 2020)\n",
       "(EPL source distribution)\n",
       "Java Runtime: OpenJDK Runtime Environment\n",
       "JVM: OpenJDK 64-Bit Server VM\n",
       "Default Encoding: UTF-8\n",
       "Language: en\n",
       "Country: null\n",
       "--></g></svg>"
      ]
     },
     "execution_count": 52,
     "metadata": {},
     "output_type": "execute_result"
    }
   ],
   "source": [
    "%viz --style=\"ORTHOLINE\" --view=\"Tree\" \"ConjugationTest\""
   ]
  },
  {
   "cell_type": "code",
   "execution_count": 53,
   "id": "37481dc7",
   "metadata": {
    "execution": {
     "iopub.execute_input": "2021-10-03T08:28:09.070377Z",
     "iopub.status.busy": "2021-10-03T08:28:09.069757Z",
     "iopub.status.idle": "2021-10-03T08:28:09.076002Z",
     "shell.execute_reply": "2021-10-03T08:28:09.075628Z"
    }
   },
   "outputs": [
    {
     "data": {
      "image/svg+xml": [
       "<?xml version=\"1.0\" encoding=\"UTF-8\" standalone=\"no\"?><svg xmlns=\"http://www.w3.org/2000/svg\" xmlns:xlink=\"http://www.w3.org/1999/xlink\" contentScriptType=\"application/ecmascript\" contentStyleType=\"text/css\" height=\"12px\" preserveAspectRatio=\"none\" style=\"width:12px;height:12px;\" version=\"1.1\" viewBox=\"0 0 12 12\" width=\"12px\" zoomAndPan=\"magnify\"><defs/><g><!--MD5=[97d6f38768b311333d388e66b2b27985]\n",
       "@startuml\r\n",
       "skinparam linetype ortho\r\n",
       "skinparam monochrome true\r\n",
       "skinparam classbackgroundcolor white\r\n",
       "skinparam shadowing false\r\n",
       "skinparam wrapWidth 300\r\n",
       "hide circle\r\n",
       "\r\n",
       "@enduml\r\n",
       "\n",
       "PlantUML version 1.2020.13(Sat Jun 13 12:26:38 UTC 2020)\n",
       "(EPL source distribution)\n",
       "Java Runtime: OpenJDK Runtime Environment\n",
       "JVM: OpenJDK 64-Bit Server VM\n",
       "Default Encoding: UTF-8\n",
       "Language: en\n",
       "Country: null\n",
       "--></g></svg>"
      ]
     },
     "execution_count": 53,
     "metadata": {},
     "output_type": "execute_result"
    }
   ],
   "source": [
    "%viz --style=\"ORTHOLINE\" --view=\"State\" \"ConjugationTest\""
   ]
  },
  {
   "cell_type": "code",
   "execution_count": 54,
   "id": "64a14bda",
   "metadata": {
    "execution": {
     "iopub.execute_input": "2021-10-03T08:28:09.125579Z",
     "iopub.status.busy": "2021-10-03T08:28:09.124973Z",
     "iopub.status.idle": "2021-10-03T08:28:09.166908Z",
     "shell.execute_reply": "2021-10-03T08:28:09.166535Z"
    }
   },
   "outputs": [
    {
     "data": {
      "image/svg+xml": [
       "<?xml version=\"1.0\" encoding=\"UTF-8\" standalone=\"no\"?><svg xmlns=\"http://www.w3.org/2000/svg\" xmlns:xlink=\"http://www.w3.org/1999/xlink\" contentScriptType=\"application/ecmascript\" contentStyleType=\"text/css\" height=\"246px\" preserveAspectRatio=\"none\" style=\"width:739px;height:246px;\" version=\"1.1\" viewBox=\"0 0 739 246\" width=\"739px\" zoomAndPan=\"magnify\"><defs/><g><!--MD5=[fbc87193dbaf4d95561dea2c320d4a47]\n",
       "cluster E1--><a href=\"psysml:811d2e93-771a-4206-9534-119b2782ed8b\" target=\"_top\" title=\"psysml:811d2e93-771a-4206-9534-119b2782ed8b\" xlink:actuate=\"onRequest\" xlink:href=\"psysml:811d2e93-771a-4206-9534-119b2782ed8b\" xlink:show=\"new\" xlink:title=\"psysml:811d2e93-771a-4206-9534-119b2782ed8b\" xlink:type=\"simple\"><polygon fill=\"#FFFFFF\" points=\"16,6,136,6,143,28.2969,717,28.2969,717,234.5,16,234.5,16,6\" style=\"stroke: #000000; stroke-width: 1.5;\"/><line style=\"stroke: #000000; stroke-width: 1.5;\" x1=\"16\" x2=\"143\" y1=\"28.2969\" y2=\"28.2969\"/><text fill=\"#000000\" font-family=\"sans-serif\" font-size=\"14\" font-weight=\"bold\" lengthAdjust=\"spacingAndGlyphs\" textLength=\"114\" x=\"20\" y=\"20.9951\">ConjugationTest</text></a><!--MD5=[d5e69f78d87373223dbae638b30a9c99]\n",
       "cluster E3--><a href=\"psysml:45f3428f-90c5-481c-8b5b-6d42a9c9ecb4\" target=\"_top\" title=\"psysml:45f3428f-90c5-481c-8b5b-6d42a9c9ecb4\" xlink:actuate=\"onRequest\" xlink:href=\"psysml:45f3428f-90c5-481c-8b5b-6d42a9c9ecb4\" xlink:show=\"new\" xlink:title=\"psysml:45f3428f-90c5-481c-8b5b-6d42a9c9ecb4\" xlink:type=\"simple\"><rect fill=\"#FFFFFF\" height=\"88.5\" id=\"E3\" style=\"stroke: #383838; stroke-width: 1.5;\" width=\"83\" x=\"577\" y=\"114\"/><rect fill=\"#F8F8F8\" height=\"37.9375\" style=\"stroke: #383838; stroke-width: 1.5;\" width=\"83\" x=\"577\" y=\"114\"/><text fill=\"#000000\" font-family=\"sans-serif\" font-size=\"12\" font-style=\"italic\" lengthAdjust=\"spacingAndGlyphs\" textLength=\"64\" x=\"586.5\" y=\"130.1387\">«part def»</text><text fill=\"#000000\" font-family=\"sans-serif\" font-size=\"12\" lengthAdjust=\"spacingAndGlyphs\" textLength=\"8\" x=\"614.5\" y=\"144.1074\">B</text></a><!--MD5=[14e3b0961a2654348d326746436168a1]\n",
       "cluster E6--><a href=\"psysml:1e44cf6a-fe6c-483a-98ee-7c5816e24c4f\" target=\"_top\" title=\"psysml:1e44cf6a-fe6c-483a-98ee-7c5816e24c4f\" xlink:actuate=\"onRequest\" xlink:href=\"psysml:1e44cf6a-fe6c-483a-98ee-7c5816e24c4f\" xlink:show=\"new\" xlink:title=\"psysml:1e44cf6a-fe6c-483a-98ee-7c5816e24c4f\" xlink:type=\"simple\"><rect fill=\"#FFFFFF\" height=\"88.5\" id=\"E6\" style=\"stroke: #383838; stroke-width: 1.5;\" width=\"150\" x=\"423\" y=\"114\"/><rect fill=\"#F8F8F8\" height=\"37.9375\" style=\"stroke: #383838; stroke-width: 1.5;\" width=\"150\" x=\"423\" y=\"114\"/><text fill=\"#000000\" font-family=\"sans-serif\" font-size=\"12\" font-style=\"italic\" lengthAdjust=\"spacingAndGlyphs\" textLength=\"108\" x=\"444\" y=\"130.1387\">«connection def»</text><text fill=\"#000000\" font-family=\"sans-serif\" font-size=\"12\" lengthAdjust=\"spacingAndGlyphs\" textLength=\"8\" x=\"494\" y=\"144.1074\">A</text></a><!--MD5=[7f149f147074ac12df2cb0a7728a5fb0]\n",
       "cluster E9--><a href=\"psysml:c589f335-4cab-4324-b073-03ca89b55f7d\" target=\"_top\" title=\"psysml:c589f335-4cab-4324-b073-03ca89b55f7d\" xlink:actuate=\"onRequest\" xlink:href=\"psysml:c589f335-4cab-4324-b073-03ca89b55f7d\" xlink:show=\"new\" xlink:title=\"psysml:c589f335-4cab-4324-b073-03ca89b55f7d\" xlink:type=\"simple\"><rect fill=\"#FFFFFF\" height=\"88.5\" id=\"E9\" style=\"stroke: #383838; stroke-width: 1.5;\" width=\"141\" x=\"254\" y=\"114\"/><rect fill=\"#F8F8F8\" height=\"37.9375\" style=\"stroke: #383838; stroke-width: 1.5;\" width=\"141\" x=\"254\" y=\"114\"/><text fill=\"#000000\" font-family=\"sans-serif\" font-size=\"12\" font-style=\"italic\" lengthAdjust=\"spacingAndGlyphs\" textLength=\"94\" x=\"277.5\" y=\"130.1387\">«interface def»</text><text fill=\"#000000\" font-family=\"sans-serif\" font-size=\"12\" lengthAdjust=\"spacingAndGlyphs\" textLength=\"3\" x=\"323\" y=\"144.1074\">I</text></a><!--MD5=[47bea60c1a0ac6c1143df232041969c0]\n",
       "cluster E12--><a href=\"psysml:99d6c811-1239-4557-8bf5-512a2d9b51f5\" target=\"_top\" title=\"psysml:99d6c811-1239-4557-8bf5-512a2d9b51f5\" xlink:actuate=\"onRequest\" xlink:href=\"psysml:99d6c811-1239-4557-8bf5-512a2d9b51f5\" xlink:show=\"new\" xlink:title=\"psysml:99d6c811-1239-4557-8bf5-512a2d9b51f5\" xlink:type=\"simple\"><rect fill=\"#FFFFFF\" height=\"161.5\" id=\"E12\" style=\"stroke: #383838; stroke-width: 1.5;\" width=\"107\" x=\"120\" y=\"49\"/><rect fill=\"#F8F8F8\" height=\"37.9375\" style=\"stroke: #383838; stroke-width: 1.5;\" width=\"107\" x=\"120\" y=\"49\"/><text fill=\"#000000\" font-family=\"sans-serif\" font-size=\"12\" font-style=\"italic\" lengthAdjust=\"spacingAndGlyphs\" textLength=\"64\" x=\"141.5\" y=\"65.1387\">«part def»</text><text fill=\"#000000\" font-family=\"sans-serif\" font-size=\"12\" lengthAdjust=\"spacingAndGlyphs\" textLength=\"16\" x=\"165.5\" y=\"79.1074\">B1</text></a><!--MD5=[03104f77b71e2d8d3500c651e6e31181]\n",
       "cluster E13--><a href=\"psysml:c80e6282-4b88-42a6-beea-d83b68d36327\" target=\"_top\" title=\"psysml:c80e6282-4b88-42a6-beea-d83b68d36327\" xlink:actuate=\"onRequest\" xlink:href=\"psysml:c80e6282-4b88-42a6-beea-d83b68d36327\" xlink:show=\"new\" xlink:title=\"psysml:c80e6282-4b88-42a6-beea-d83b68d36327\" xlink:type=\"simple\"><rect fill=\"#FFFFFF\" height=\"80.5\" id=\"E13\" rx=\"10\" ry=\"10\" style=\"stroke: #383838; stroke-width: 1.5;\" width=\"83\" x=\"132\" y=\"114\"/><rect fill=\"#F8F8F8\" height=\"23.9688\" rx=\"10\" ry=\"10\" style=\"stroke: #F8F8F8; stroke-width: 1.5;\" width=\"83\" x=\"132\" y=\"114\"/><rect fill=\"#F8F8F8\" height=\"10\" style=\"stroke: #F8F8F8; stroke-width: 1.5;\" width=\"83\" x=\"132\" y=\"127.9688\"/><rect fill=\"none\" height=\"80.5\" id=\"E13\" rx=\"10\" ry=\"10\" style=\"stroke: #383838; stroke-width: 1.5;\" width=\"83\" x=\"132\" y=\"114\"/><text fill=\"#000000\" font-family=\"sans-serif\" font-size=\"12\" lengthAdjust=\"spacingAndGlyphs\" textLength=\"8\" x=\"169.5\" y=\"130.1387\">p</text><line style=\"stroke: #383838; stroke-width: 1.0;\" x1=\"132\" x2=\"215\" y1=\"137.9688\" y2=\"137.9688\"/></a><g id=\"E1.E2\"><a href=\"psysml:a118eece-ff6c-41b4-a8ec-63007fd81e06\" target=\"_top\" title=\"psysml:a118eece-ff6c-41b4-a8ec-63007fd81e06\" xlink:actuate=\"onRequest\" xlink:href=\"psysml:a118eece-ff6c-41b4-a8ec-63007fd81e06\" xlink:show=\"new\" xlink:title=\"psysml:a118eece-ff6c-41b4-a8ec-63007fd81e06\" xlink:type=\"simple\"><rect fill=\"#FFFFFF\" height=\"42.9375\" id=\"E2\" style=\"stroke: #383838; stroke-width: 1.5;\" width=\"71\" x=\"32.5\" y=\"92.5\"/><rect fill=\"#F8F8F8\" height=\"37.9375\" style=\"stroke: #383838; stroke-width: 1.5;\" width=\"71\" x=\"32.5\" y=\"92.5\"/><text fill=\"#000000\" font-family=\"sans-serif\" font-size=\"12\" font-style=\"italic\" lengthAdjust=\"spacingAndGlyphs\" textLength=\"64\" x=\"36\" y=\"108.6387\">«port def»</text><text fill=\"#000000\" font-family=\"sans-serif\" font-size=\"12\" lengthAdjust=\"spacingAndGlyphs\" textLength=\"8\" x=\"64\" y=\"122.6074\">P</text></a></g><text fill=\"#000000\" font-family=\"sans-serif\" font-size=\"14\" lengthAdjust=\"spacingAndGlyphs\" textLength=\"36\" x=\"577\" y=\"92.6982\">p1: P</text><rect fill=\"#383838\" height=\"12\" style=\"stroke: #F8F8F8; stroke-width: 1.5;\" width=\"12\" x=\"589\" y=\"108\"/><text fill=\"#000000\" font-family=\"sans-serif\" font-size=\"14\" lengthAdjust=\"spacingAndGlyphs\" textLength=\"48\" x=\"618\" y=\"92.6982\">p2: ~P</text><rect fill=\"#383838\" height=\"12\" style=\"stroke: #F8F8F8; stroke-width: 1.5;\" width=\"12\" x=\"636\" y=\"108\"/><text fill=\"#000000\" font-family=\"sans-serif\" font-size=\"14\" lengthAdjust=\"spacingAndGlyphs\" textLength=\"36\" x=\"423\" y=\"92.6982\">p1: P</text><rect fill=\"#383838\" height=\"12\" style=\"stroke: #F8F8F8; stroke-width: 1.5;\" width=\"12\" x=\"435\" y=\"108\"/><text fill=\"#000000\" font-family=\"sans-serif\" font-size=\"14\" lengthAdjust=\"spacingAndGlyphs\" textLength=\"48\" x=\"464\" y=\"92.6982\">p2: ~P</text><rect fill=\"#383838\" height=\"12\" style=\"stroke: #F8F8F8; stroke-width: 1.5;\" width=\"12\" x=\"482\" y=\"108\"/><text fill=\"#000000\" font-family=\"sans-serif\" font-size=\"14\" lengthAdjust=\"spacingAndGlyphs\" textLength=\"36\" x=\"254\" y=\"92.6982\">p1: P</text><rect fill=\"#383838\" height=\"12\" style=\"stroke: #F8F8F8; stroke-width: 1.5;\" width=\"12\" x=\"266\" y=\"108\"/><text fill=\"#000000\" font-family=\"sans-serif\" font-size=\"14\" lengthAdjust=\"spacingAndGlyphs\" textLength=\"48\" x=\"295\" y=\"92.6982\">p2: ~P</text><rect fill=\"#383838\" height=\"12\" style=\"stroke: #F8F8F8; stroke-width: 1.5;\" width=\"12\" x=\"313\" y=\"108\"/><text fill=\"#000000\" font-family=\"sans-serif\" font-size=\"14\" lengthAdjust=\"spacingAndGlyphs\" textLength=\"36\" x=\"132\" y=\"92.6982\">p1: P</text><rect fill=\"#383838\" height=\"12\" style=\"stroke: #F8F8F8; stroke-width: 1.5;\" width=\"12\" x=\"144\" y=\"108\"/><text fill=\"#000000\" font-family=\"sans-serif\" font-size=\"14\" lengthAdjust=\"spacingAndGlyphs\" textLength=\"48\" x=\"173\" y=\"92.6982\">p2: ~P</text><rect fill=\"#383838\" height=\"12\" style=\"stroke: #F8F8F8; stroke-width: 1.5;\" width=\"12\" x=\"191\" y=\"108\"/><!--MD5=[3afbdc645381407e1bc99677323a2513]\n",
       "link E14 to E15--><a href=\"psysml:356465e0-8362-42f7-8017-4c1d57dccd42\" target=\"_top\" title=\"psysml:356465e0-8362-42f7-8017-4c1d57dccd42\" xlink:actuate=\"onRequest\" xlink:href=\"psysml:356465e0-8362-42f7-8017-4c1d57dccd42\" xlink:show=\"new\" xlink:title=\"psysml:356465e0-8362-42f7-8017-4c1d57dccd42\" xlink:type=\"simple\"><path d=\"M156.14,114.5 C165.1,114.5 181.66,114.5 190.7,114.5 \" fill=\"none\" id=\"E14-E15\" style=\"stroke: #383838; stroke-width: 3.0;\"/></a><!--MD5=[3afbdc645381407e1bc99677323a2513]\n",
       "link E14 to E15--><a href=\"psysml:be002053-3eab-4239-b4ec-f62d8ddd6fa6\" target=\"_top\" title=\"psysml:be002053-3eab-4239-b4ec-f62d8ddd6fa6\" xlink:actuate=\"onRequest\" xlink:href=\"psysml:be002053-3eab-4239-b4ec-f62d8ddd6fa6\" xlink:show=\"new\" xlink:title=\"psysml:be002053-3eab-4239-b4ec-f62d8ddd6fa6\" xlink:type=\"simple\"><path d=\"M156.14,117.5 C165.1,117.5 181.66,117.5 190.7,117.5 \" fill=\"none\" id=\"E14-E15-1\" style=\"stroke: #383838; stroke-width: 3.0;\"/></a><!--MD5=[a3159eeb2ccc186e4a6db9ab120ebddf]\n",
       "@startuml\r\n",
       "skinparam ranksep 10\r\n",
       "skinparam rectangle {\r\n",
       " backgroundColor<<block>> LightGreen\r\n",
       "}\r\n",
       "skinparam linetype ortho\r\n",
       "skinparam monochrome true\r\n",
       "skinparam classbackgroundcolor white\r\n",
       "skinparam shadowing false\r\n",
       "skinparam wrapWidth 300\r\n",
       "hide circle\r\n",
       "\r\n",
       "package \"ConjugationTest\" as E1  [[psysml:811d2e93-771a-4206-9534-119b2782ed8b ]]  {\r\n",
       "def \"P\" as E2  <<(T,blue) port def>> [[psysml:a118eece-ff6c-41b4-a8ec-63007fd81e06 ]] \r\n",
       "rec def \"B\" as E3  <<(T,blue) part def>> [[psysml:45f3428f-90c5-481c-8b5b-6d42a9c9ecb4 ]] {\r\n",
       "portin \"p1: P\" as E4  <<(T,blue) port>> [[psysml:f10162e3-9121-4423-8c61-28bf75aadc9a ]] \r\n",
       "portin \"p2: ~P\" as E5  <<(T,blue) port>> [[psysml:f793b08e-b132-4869-8396-6344384571c9 ]] \r\n",
       "}\r\n",
       "rec def \"A\" as E6  <<(T,blue) connection def>> [[psysml:1e44cf6a-fe6c-483a-98ee-7c5816e24c4f ]] {\r\n",
       "portin \"p1: P\" as E7  <<(T,blue) port>> [[psysml:592da980-ebcc-4bfb-b89f-9a898fd7b408 ]] \r\n",
       "portin \"p2: ~P\" as E8  <<(T,blue) port>> [[psysml:4730362b-6892-4b61-8b08-4b1eb3a58a19 ]] \r\n",
       "}\r\n",
       "rec def \"I\" as E9  <<(T,blue) interface def>> [[psysml:c589f335-4cab-4324-b073-03ca89b55f7d ]] {\r\n",
       "portin \"p1: P\" as E10  <<(T,blue) port>> [[psysml:0a18d135-3a15-4f1e-a48b-3983b85e55aa ]] \r\n",
       "portin \"p2: ~P\" as E11  <<(T,blue) port>> [[psysml:f0ebefc1-580e-4b11-b9cf-e3cb40b874a3 ]] \r\n",
       "}\r\n",
       "rec def \"B1\" as E12  <<(T,blue) part def>> [[psysml:99d6c811-1239-4557-8bf5-512a2d9b51f5 ]] {\r\n",
       "rec usage \"p\" as E13  [[psysml:c80e6282-4b88-42a6-beea-d83b68d36327 ]] {\r\n",
       "portin \"p1: P\" as E14  <<(T,blue) port>> [[psysml:36fdd18b-cc96-4106-b803-027f179d9fab ]] \r\n",
       "portin \"p2: ~P\" as E15  <<(T,blue) port>> [[psysml:a04d4130-2616-430e-82e5-4df6c3f344d5 ]] \r\n",
       "}\r\n",
       "}\r\n",
       "}\r\n",
       "E14 -[thickness=3]- E15 [[psysml:356465e0-8362-42f7-8017-4c1d57dccd42 ]] \r\n",
       "E14 -[thickness=3]- E15 [[psysml:be002053-3eab-4239-b4ec-f62d8ddd6fa6 ]] \r\n",
       "@enduml\r\n",
       "\n",
       "PlantUML version 1.2020.13(Sat Jun 13 12:26:38 UTC 2020)\n",
       "(EPL source distribution)\n",
       "Java Runtime: OpenJDK Runtime Environment\n",
       "JVM: OpenJDK 64-Bit Server VM\n",
       "Default Encoding: UTF-8\n",
       "Language: en\n",
       "Country: null\n",
       "--></g></svg>"
      ]
     },
     "execution_count": 54,
     "metadata": {},
     "output_type": "execute_result"
    }
   ],
   "source": [
    "%viz --style=\"ORTHOLINE\" --view=\"Interconnection\" \"ConjugationTest\""
   ]
  },
  {
   "cell_type": "code",
   "execution_count": 55,
   "id": "45211e84",
   "metadata": {
    "execution": {
     "iopub.execute_input": "2021-10-03T08:28:09.215747Z",
     "iopub.status.busy": "2021-10-03T08:28:09.215130Z",
     "iopub.status.idle": "2021-10-03T08:28:09.220516Z",
     "shell.execute_reply": "2021-10-03T08:28:09.220815Z"
    }
   },
   "outputs": [
    {
     "data": {
      "image/svg+xml": [
       "<?xml version=\"1.0\" encoding=\"UTF-8\" standalone=\"no\"?><svg xmlns=\"http://www.w3.org/2000/svg\" xmlns:xlink=\"http://www.w3.org/1999/xlink\" contentScriptType=\"application/ecmascript\" contentStyleType=\"text/css\" height=\"12px\" preserveAspectRatio=\"none\" style=\"width:12px;height:12px;\" version=\"1.1\" viewBox=\"0 0 12 12\" width=\"12px\" zoomAndPan=\"magnify\"><defs/><g><!--MD5=[72934c63077099a26744516a776b4749]\n",
       "@startuml\r\n",
       "skinparam ranksep 8\r\n",
       "skinparam linetype ortho\r\n",
       "skinparam monochrome true\r\n",
       "skinparam classbackgroundcolor white\r\n",
       "skinparam shadowing false\r\n",
       "skinparam wrapWidth 300\r\n",
       "hide circle\r\n",
       "\r\n",
       "@enduml\r\n",
       "\n",
       "PlantUML version 1.2020.13(Sat Jun 13 12:26:38 UTC 2020)\n",
       "(EPL source distribution)\n",
       "Java Runtime: OpenJDK Runtime Environment\n",
       "JVM: OpenJDK 64-Bit Server VM\n",
       "Default Encoding: UTF-8\n",
       "Language: en\n",
       "Country: null\n",
       "--></g></svg>"
      ]
     },
     "execution_count": 55,
     "metadata": {},
     "output_type": "execute_result"
    }
   ],
   "source": [
    "%viz --style=\"ORTHOLINE\" --view=\"Action\" \"ConjugationTest\""
   ]
  },
  {
   "cell_type": "code",
   "execution_count": 56,
   "id": "a3af8c41",
   "metadata": {
    "execution": {
     "iopub.execute_input": "2021-10-03T08:28:09.270561Z",
     "iopub.status.busy": "2021-10-03T08:28:09.269937Z",
     "iopub.status.idle": "2021-10-03T08:28:09.276014Z",
     "shell.execute_reply": "2021-10-03T08:28:09.275523Z"
    }
   },
   "outputs": [
    {
     "data": {
      "image/svg+xml": [
       "<?xml version=\"1.0\" encoding=\"UTF-8\" standalone=\"no\"?><svg xmlns=\"http://www.w3.org/2000/svg\" xmlns:xlink=\"http://www.w3.org/1999/xlink\" contentScriptType=\"application/ecmascript\" contentStyleType=\"text/css\" height=\"12px\" preserveAspectRatio=\"none\" style=\"width:12px;height:12px;\" version=\"1.1\" viewBox=\"0 0 12 12\" width=\"12px\" zoomAndPan=\"magnify\"><defs/><g><!--MD5=[30fc1de5121c5abddedd55b44417fde8]\n",
       "@startuml\r\n",
       "skinparam roundcorner 20\r\n",
       "skinparam BoxPadding 20\r\n",
       "skinparam SequenceBoxBackgroundColor #white\r\n",
       "skinparam style strictuml\r\n",
       "skinparam maxMessageSize 100\r\n",
       "skinparam linetype ortho\r\n",
       "skinparam monochrome true\r\n",
       "skinparam classbackgroundcolor white\r\n",
       "skinparam shadowing false\r\n",
       "skinparam wrapWidth 300\r\n",
       "hide circle\r\n",
       "\r\n",
       "@enduml\r\n",
       "\n",
       "PlantUML version 1.2020.13(Sat Jun 13 12:26:38 UTC 2020)\n",
       "(EPL source distribution)\n",
       "Java Runtime: OpenJDK Runtime Environment\n",
       "JVM: OpenJDK 64-Bit Server VM\n",
       "Default Encoding: UTF-8\n",
       "Language: en\n",
       "Country: null\n",
       "--></g></svg>"
      ]
     },
     "execution_count": 56,
     "metadata": {},
     "output_type": "execute_result"
    }
   ],
   "source": [
    "%viz --style=\"ORTHOLINE\" --view=\"Sequence\" \"ConjugationTest\""
   ]
  },
  {
   "cell_type": "code",
   "execution_count": 57,
   "id": "8c2cdd16",
   "metadata": {
    "execution": {
     "iopub.execute_input": "2021-10-03T08:28:09.324929Z",
     "iopub.status.busy": "2021-10-03T08:28:09.324520Z",
     "iopub.status.idle": "2021-10-03T08:28:09.368876Z",
     "shell.execute_reply": "2021-10-03T08:28:09.366856Z"
    }
   },
   "outputs": [
    {
     "data": {
      "image/svg+xml": [
       "<?xml version=\"1.0\" encoding=\"UTF-8\" standalone=\"no\"?><svg xmlns=\"http://www.w3.org/2000/svg\" xmlns:xlink=\"http://www.w3.org/1999/xlink\" contentScriptType=\"application/ecmascript\" contentStyleType=\"text/css\" height=\"433px\" preserveAspectRatio=\"none\" style=\"width:629px;height:433px;\" version=\"1.1\" viewBox=\"0 0 629 433\" width=\"629px\" zoomAndPan=\"magnify\"><defs/><g><!--MD5=[fbc87193dbaf4d95561dea2c320d4a47]\n",
       "cluster E1--><a href=\"psysml:811d2e93-771a-4206-9534-119b2782ed8b\" target=\"_top\" title=\"psysml:811d2e93-771a-4206-9534-119b2782ed8b\" xlink:actuate=\"onRequest\" xlink:href=\"psysml:811d2e93-771a-4206-9534-119b2782ed8b\" xlink:show=\"new\" xlink:title=\"psysml:811d2e93-771a-4206-9534-119b2782ed8b\" xlink:type=\"simple\"><polygon fill=\"#FFFFFF\" points=\"16,6,136,6,143,28.2969,607,28.2969,607,421,16,421,16,6\" style=\"stroke: #000000; stroke-width: 1.5;\"/><line style=\"stroke: #000000; stroke-width: 1.5;\" x1=\"16\" x2=\"143\" y1=\"28.2969\" y2=\"28.2969\"/><text fill=\"#000000\" font-family=\"sans-serif\" font-size=\"14\" font-weight=\"bold\" lengthAdjust=\"spacingAndGlyphs\" textLength=\"114\" x=\"20\" y=\"20.9951\">ConjugationTest</text></a><!--MD5=[b4997ac47864f28c2f74865a473b2911]\n",
       "class E2--><a href=\"psysml:a118eece-ff6c-41b4-a8ec-63007fd81e06\" target=\"_top\" title=\"psysml:a118eece-ff6c-41b4-a8ec-63007fd81e06\" xlink:actuate=\"onRequest\" xlink:href=\"psysml:a118eece-ff6c-41b4-a8ec-63007fd81e06\" xlink:show=\"new\" xlink:title=\"psysml:a118eece-ff6c-41b4-a8ec-63007fd81e06\" xlink:type=\"simple\"><rect fill=\"#FFFFFF\" height=\"45.9375\" id=\"E2\" style=\"stroke: #383838; stroke-width: 1.5;\" width=\"66\" x=\"221\" y=\"359\"/><text fill=\"#000000\" font-family=\"sans-serif\" font-size=\"12\" font-style=\"italic\" lengthAdjust=\"spacingAndGlyphs\" textLength=\"64\" x=\"222\" y=\"375.1387\">«port def»</text><text fill=\"#000000\" font-family=\"sans-serif\" font-size=\"12\" lengthAdjust=\"spacingAndGlyphs\" textLength=\"8\" x=\"250\" y=\"389.1074\">P</text><line style=\"stroke: #383838; stroke-width: 1.5;\" x1=\"222\" x2=\"286\" y1=\"396.9375\" y2=\"396.9375\"/></a><!--MD5=[09b614a08d8cba4a07c9adeb5e0fee81]\n",
       "class E3--><a href=\"psysml:45f3428f-90c5-481c-8b5b-6d42a9c9ecb4\" target=\"_top\" title=\"psysml:45f3428f-90c5-481c-8b5b-6d42a9c9ecb4\" xlink:actuate=\"onRequest\" xlink:href=\"psysml:45f3428f-90c5-481c-8b5b-6d42a9c9ecb4\" xlink:show=\"new\" xlink:title=\"psysml:45f3428f-90c5-481c-8b5b-6d42a9c9ecb4\" xlink:type=\"simple\"><rect fill=\"#FFFFFF\" height=\"45.9375\" id=\"E3\" style=\"stroke: #383838; stroke-width: 1.5;\" width=\"66\" x=\"489\" y=\"147\"/><text fill=\"#000000\" font-family=\"sans-serif\" font-size=\"12\" font-style=\"italic\" lengthAdjust=\"spacingAndGlyphs\" textLength=\"64\" x=\"490\" y=\"163.1387\">«part def»</text><text fill=\"#000000\" font-family=\"sans-serif\" font-size=\"12\" lengthAdjust=\"spacingAndGlyphs\" textLength=\"8\" x=\"518\" y=\"177.1074\">B</text><line style=\"stroke: #383838; stroke-width: 1.5;\" x1=\"490\" x2=\"554\" y1=\"184.9375\" y2=\"184.9375\"/></a><!--MD5=[ebbe1d658d1005bcc118a6aa81145e00]\n",
       "class E4--><a href=\"psysml:f10162e3-9121-4423-8c61-28bf75aadc9a\" target=\"_top\" title=\"psysml:f10162e3-9121-4423-8c61-28bf75aadc9a\" xlink:actuate=\"onRequest\" xlink:href=\"psysml:f10162e3-9121-4423-8c61-28bf75aadc9a\" xlink:show=\"new\" xlink:title=\"psysml:f10162e3-9121-4423-8c61-28bf75aadc9a\" xlink:type=\"simple\"><rect fill=\"#FFFFFF\" height=\"45.9375\" id=\"E4\" rx=\"10\" ry=\"10\" style=\"stroke: #383838; stroke-width: 1.5;\" width=\"42\" x=\"466\" y=\"253\"/><text fill=\"#000000\" font-family=\"sans-serif\" font-size=\"12\" font-style=\"italic\" lengthAdjust=\"spacingAndGlyphs\" textLength=\"40\" x=\"467\" y=\"269.1387\">«port»</text><text fill=\"#000000\" font-family=\"sans-serif\" font-size=\"12\" lengthAdjust=\"spacingAndGlyphs\" textLength=\"32\" x=\"471\" y=\"283.1074\">p1: P</text><line style=\"stroke: #383838; stroke-width: 1.5;\" x1=\"467\" x2=\"507\" y1=\"290.9375\" y2=\"290.9375\"/></a><!--MD5=[270fce915f116d4de14055a7c1d9a0f3]\n",
       "class E5--><a href=\"psysml:f793b08e-b132-4869-8396-6344384571c9\" target=\"_top\" title=\"psysml:f793b08e-b132-4869-8396-6344384571c9\" xlink:actuate=\"onRequest\" xlink:href=\"psysml:f793b08e-b132-4869-8396-6344384571c9\" xlink:show=\"new\" xlink:title=\"psysml:f793b08e-b132-4869-8396-6344384571c9\" xlink:type=\"simple\"><rect fill=\"#FFFFFF\" height=\"45.9375\" id=\"E5\" rx=\"10\" ry=\"10\" style=\"stroke: #383838; stroke-width: 1.5;\" width=\"48\" x=\"543\" y=\"253\"/><text fill=\"#000000\" font-family=\"sans-serif\" font-size=\"12\" font-style=\"italic\" lengthAdjust=\"spacingAndGlyphs\" textLength=\"40\" x=\"547\" y=\"269.1387\">«port»</text><text fill=\"#000000\" font-family=\"sans-serif\" font-size=\"12\" lengthAdjust=\"spacingAndGlyphs\" textLength=\"42\" x=\"546\" y=\"283.1074\">p2: ~P</text><line style=\"stroke: #383838; stroke-width: 1.5;\" x1=\"544\" x2=\"590\" y1=\"290.9375\" y2=\"290.9375\"/></a><!--MD5=[60a26617385b1d2d0262a64233df1f8d]\n",
       "class E6--><a href=\"psysml:1e44cf6a-fe6c-483a-98ee-7c5816e24c4f\" target=\"_top\" title=\"psysml:1e44cf6a-fe6c-483a-98ee-7c5816e24c4f\" xlink:actuate=\"onRequest\" xlink:href=\"psysml:1e44cf6a-fe6c-483a-98ee-7c5816e24c4f\" xlink:show=\"new\" xlink:title=\"psysml:1e44cf6a-fe6c-483a-98ee-7c5816e24c4f\" xlink:type=\"simple\"><rect fill=\"#FFFFFF\" height=\"45.9375\" id=\"E6\" style=\"stroke: #383838; stroke-width: 1.5;\" width=\"110\" x=\"282\" y=\"147\"/><text fill=\"#000000\" font-family=\"sans-serif\" font-size=\"12\" font-style=\"italic\" lengthAdjust=\"spacingAndGlyphs\" textLength=\"108\" x=\"283\" y=\"163.1387\">«connection def»</text><text fill=\"#000000\" font-family=\"sans-serif\" font-size=\"12\" lengthAdjust=\"spacingAndGlyphs\" textLength=\"8\" x=\"333\" y=\"177.1074\">A</text><line style=\"stroke: #383838; stroke-width: 1.5;\" x1=\"283\" x2=\"391\" y1=\"184.9375\" y2=\"184.9375\"/></a><!--MD5=[2156ba9850f5573cc1fc38a6a4b2f02b]\n",
       "class E7--><a href=\"psysml:592da980-ebcc-4bfb-b89f-9a898fd7b408\" target=\"_top\" title=\"psysml:592da980-ebcc-4bfb-b89f-9a898fd7b408\" xlink:actuate=\"onRequest\" xlink:href=\"psysml:592da980-ebcc-4bfb-b89f-9a898fd7b408\" xlink:show=\"new\" xlink:title=\"psysml:592da980-ebcc-4bfb-b89f-9a898fd7b408\" xlink:type=\"simple\"><rect fill=\"#FFFFFF\" height=\"45.9375\" id=\"E7\" rx=\"10\" ry=\"10\" style=\"stroke: #383838; stroke-width: 1.5;\" width=\"42\" x=\"306\" y=\"253\"/><text fill=\"#000000\" font-family=\"sans-serif\" font-size=\"12\" font-style=\"italic\" lengthAdjust=\"spacingAndGlyphs\" textLength=\"40\" x=\"307\" y=\"269.1387\">«port»</text><text fill=\"#000000\" font-family=\"sans-serif\" font-size=\"12\" lengthAdjust=\"spacingAndGlyphs\" textLength=\"32\" x=\"311\" y=\"283.1074\">p1: P</text><line style=\"stroke: #383838; stroke-width: 1.5;\" x1=\"307\" x2=\"347\" y1=\"290.9375\" y2=\"290.9375\"/></a><!--MD5=[b9389687b975829384b498ac4b7476b2]\n",
       "class E8--><a href=\"psysml:4730362b-6892-4b61-8b08-4b1eb3a58a19\" target=\"_top\" title=\"psysml:4730362b-6892-4b61-8b08-4b1eb3a58a19\" xlink:actuate=\"onRequest\" xlink:href=\"psysml:4730362b-6892-4b61-8b08-4b1eb3a58a19\" xlink:show=\"new\" xlink:title=\"psysml:4730362b-6892-4b61-8b08-4b1eb3a58a19\" xlink:type=\"simple\"><rect fill=\"#FFFFFF\" height=\"45.9375\" id=\"E8\" rx=\"10\" ry=\"10\" style=\"stroke: #383838; stroke-width: 1.5;\" width=\"48\" x=\"383\" y=\"253\"/><text fill=\"#000000\" font-family=\"sans-serif\" font-size=\"12\" font-style=\"italic\" lengthAdjust=\"spacingAndGlyphs\" textLength=\"40\" x=\"387\" y=\"269.1387\">«port»</text><text fill=\"#000000\" font-family=\"sans-serif\" font-size=\"12\" lengthAdjust=\"spacingAndGlyphs\" textLength=\"42\" x=\"386\" y=\"283.1074\">p2: ~P</text><line style=\"stroke: #383838; stroke-width: 1.5;\" x1=\"384\" x2=\"430\" y1=\"290.9375\" y2=\"290.9375\"/></a><!--MD5=[fd4143e9d270a159db93a4ea2a975926]\n",
       "class E9--><a href=\"psysml:c589f335-4cab-4324-b073-03ca89b55f7d\" target=\"_top\" title=\"psysml:c589f335-4cab-4324-b073-03ca89b55f7d\" xlink:actuate=\"onRequest\" xlink:href=\"psysml:c589f335-4cab-4324-b073-03ca89b55f7d\" xlink:show=\"new\" xlink:title=\"psysml:c589f335-4cab-4324-b073-03ca89b55f7d\" xlink:type=\"simple\"><rect fill=\"#FFFFFF\" height=\"45.9375\" id=\"E9\" style=\"stroke: #383838; stroke-width: 1.5;\" width=\"96\" x=\"146\" y=\"147\"/><text fill=\"#000000\" font-family=\"sans-serif\" font-size=\"12\" font-style=\"italic\" lengthAdjust=\"spacingAndGlyphs\" textLength=\"94\" x=\"147\" y=\"163.1387\">«interface def»</text><text fill=\"#000000\" font-family=\"sans-serif\" font-size=\"12\" lengthAdjust=\"spacingAndGlyphs\" textLength=\"3\" x=\"192.5\" y=\"177.1074\">I</text><line style=\"stroke: #383838; stroke-width: 1.5;\" x1=\"147\" x2=\"241\" y1=\"184.9375\" y2=\"184.9375\"/></a><!--MD5=[96f4274e9e20536e775497830990834d]\n",
       "class E10--><a href=\"psysml:0a18d135-3a15-4f1e-a48b-3983b85e55aa\" target=\"_top\" title=\"psysml:0a18d135-3a15-4f1e-a48b-3983b85e55aa\" xlink:actuate=\"onRequest\" xlink:href=\"psysml:0a18d135-3a15-4f1e-a48b-3983b85e55aa\" xlink:show=\"new\" xlink:title=\"psysml:0a18d135-3a15-4f1e-a48b-3983b85e55aa\" xlink:type=\"simple\"><rect fill=\"#FFFFFF\" height=\"45.9375\" id=\"E10\" rx=\"10\" ry=\"10\" style=\"stroke: #383838; stroke-width: 1.5;\" width=\"42\" x=\"146\" y=\"253\"/><text fill=\"#000000\" font-family=\"sans-serif\" font-size=\"12\" font-style=\"italic\" lengthAdjust=\"spacingAndGlyphs\" textLength=\"40\" x=\"147\" y=\"269.1387\">«port»</text><text fill=\"#000000\" font-family=\"sans-serif\" font-size=\"12\" lengthAdjust=\"spacingAndGlyphs\" textLength=\"32\" x=\"151\" y=\"283.1074\">p1: P</text><line style=\"stroke: #383838; stroke-width: 1.5;\" x1=\"147\" x2=\"187\" y1=\"290.9375\" y2=\"290.9375\"/></a><!--MD5=[1dd1bfd58a279cf63c5f349dbc8fc6a1]\n",
       "class E11--><a href=\"psysml:f0ebefc1-580e-4b11-b9cf-e3cb40b874a3\" target=\"_top\" title=\"psysml:f0ebefc1-580e-4b11-b9cf-e3cb40b874a3\" xlink:actuate=\"onRequest\" xlink:href=\"psysml:f0ebefc1-580e-4b11-b9cf-e3cb40b874a3\" xlink:show=\"new\" xlink:title=\"psysml:f0ebefc1-580e-4b11-b9cf-e3cb40b874a3\" xlink:type=\"simple\"><rect fill=\"#FFFFFF\" height=\"45.9375\" id=\"E11\" rx=\"10\" ry=\"10\" style=\"stroke: #383838; stroke-width: 1.5;\" width=\"48\" x=\"223\" y=\"253\"/><text fill=\"#000000\" font-family=\"sans-serif\" font-size=\"12\" font-style=\"italic\" lengthAdjust=\"spacingAndGlyphs\" textLength=\"40\" x=\"227\" y=\"269.1387\">«port»</text><text fill=\"#000000\" font-family=\"sans-serif\" font-size=\"12\" lengthAdjust=\"spacingAndGlyphs\" textLength=\"42\" x=\"226\" y=\"283.1074\">p2: ~P</text><line style=\"stroke: #383838; stroke-width: 1.5;\" x1=\"224\" x2=\"270\" y1=\"290.9375\" y2=\"290.9375\"/></a><!--MD5=[49a0ec8f00dab7302a31f22d0f0fe584]\n",
       "class E12--><a href=\"psysml:99d6c811-1239-4557-8bf5-512a2d9b51f5\" target=\"_top\" title=\"psysml:99d6c811-1239-4557-8bf5-512a2d9b51f5\" xlink:actuate=\"onRequest\" xlink:href=\"psysml:99d6c811-1239-4557-8bf5-512a2d9b51f5\" xlink:show=\"new\" xlink:title=\"psysml:99d6c811-1239-4557-8bf5-512a2d9b51f5\" xlink:type=\"simple\"><rect fill=\"#FFFFFF\" height=\"45.9375\" id=\"E12\" style=\"stroke: #383838; stroke-width: 1.5;\" width=\"66\" x=\"47\" y=\"41\"/><text fill=\"#000000\" font-family=\"sans-serif\" font-size=\"12\" font-style=\"italic\" lengthAdjust=\"spacingAndGlyphs\" textLength=\"64\" x=\"48\" y=\"57.1387\">«part def»</text><text fill=\"#000000\" font-family=\"sans-serif\" font-size=\"12\" lengthAdjust=\"spacingAndGlyphs\" textLength=\"16\" x=\"72\" y=\"71.1074\">B1</text><line style=\"stroke: #383838; stroke-width: 1.5;\" x1=\"48\" x2=\"112\" y1=\"78.9375\" y2=\"78.9375\"/></a><!--MD5=[ee3c913d1a06f366521f9ef512b67efe]\n",
       "class E13--><a href=\"psysml:c80e6282-4b88-42a6-beea-d83b68d36327\" target=\"_top\" title=\"psysml:c80e6282-4b88-42a6-beea-d83b68d36327\" xlink:actuate=\"onRequest\" xlink:href=\"psysml:c80e6282-4b88-42a6-beea-d83b68d36327\" xlink:show=\"new\" xlink:title=\"psysml:c80e6282-4b88-42a6-beea-d83b68d36327\" xlink:type=\"simple\"><rect fill=\"#FFFFFF\" height=\"45.9375\" id=\"E13\" rx=\"10\" ry=\"10\" style=\"stroke: #383838; stroke-width: 1.5;\" width=\"42\" x=\"59\" y=\"147\"/><text fill=\"#000000\" font-family=\"sans-serif\" font-size=\"12\" font-style=\"italic\" lengthAdjust=\"spacingAndGlyphs\" textLength=\"40\" x=\"60\" y=\"163.1387\">«part»</text><text fill=\"#000000\" font-family=\"sans-serif\" font-size=\"12\" lengthAdjust=\"spacingAndGlyphs\" textLength=\"8\" x=\"76\" y=\"177.1074\">p</text><line style=\"stroke: #383838; stroke-width: 1.5;\" x1=\"60\" x2=\"100\" y1=\"184.9375\" y2=\"184.9375\"/></a><!--MD5=[bee11217b2f71d958a27249dc326068c]\n",
       "class E14--><a href=\"psysml:36fdd18b-cc96-4106-b803-027f179d9fab\" target=\"_top\" title=\"psysml:36fdd18b-cc96-4106-b803-027f179d9fab\" xlink:actuate=\"onRequest\" xlink:href=\"psysml:36fdd18b-cc96-4106-b803-027f179d9fab\" xlink:show=\"new\" xlink:title=\"psysml:36fdd18b-cc96-4106-b803-027f179d9fab\" xlink:type=\"simple\"><rect fill=\"#FFFFFF\" height=\"45.9375\" id=\"E14\" rx=\"10\" ry=\"10\" style=\"stroke: #383838; stroke-width: 1.5;\" width=\"42\" x=\"69\" y=\"253\"/><text fill=\"#000000\" font-family=\"sans-serif\" font-size=\"12\" font-style=\"italic\" lengthAdjust=\"spacingAndGlyphs\" textLength=\"40\" x=\"70\" y=\"269.1387\">«port»</text><text fill=\"#000000\" font-family=\"sans-serif\" font-size=\"12\" lengthAdjust=\"spacingAndGlyphs\" textLength=\"32\" x=\"74\" y=\"283.1074\">p1: P</text><line style=\"stroke: #383838; stroke-width: 1.5;\" x1=\"70\" x2=\"110\" y1=\"290.9375\" y2=\"290.9375\"/></a><!--MD5=[0c48fb7552dae8cbbef69381101a84c8]\n",
       "class E15--><a href=\"psysml:a04d4130-2616-430e-82e5-4df6c3f344d5\" target=\"_top\" title=\"psysml:a04d4130-2616-430e-82e5-4df6c3f344d5\" xlink:actuate=\"onRequest\" xlink:href=\"psysml:a04d4130-2616-430e-82e5-4df6c3f344d5\" xlink:show=\"new\" xlink:title=\"psysml:a04d4130-2616-430e-82e5-4df6c3f344d5\" xlink:type=\"simple\"><rect fill=\"#FFFFFF\" height=\"45.9375\" id=\"E15\" rx=\"10\" ry=\"10\" style=\"stroke: #383838; stroke-width: 1.5;\" width=\"48\" x=\"66\" y=\"359\"/><text fill=\"#000000\" font-family=\"sans-serif\" font-size=\"12\" font-style=\"italic\" lengthAdjust=\"spacingAndGlyphs\" textLength=\"40\" x=\"70\" y=\"375.1387\">«port»</text><text fill=\"#000000\" font-family=\"sans-serif\" font-size=\"12\" lengthAdjust=\"spacingAndGlyphs\" textLength=\"42\" x=\"69\" y=\"389.1074\">p2: ~P</text><line style=\"stroke: #383838; stroke-width: 1.5;\" x1=\"67\" x2=\"113\" y1=\"396.9375\" y2=\"396.9375\"/></a><!--MD5=[4672eba38e49728da53d11aeb285b987]\n",
       "reverse link E3 to E4--><a href=\"psysml:478537c4-9aea-45e7-93bf-51b2f99f76d0\" target=\"_top\" title=\"psysml:478537c4-9aea-45e7-93bf-51b2f99f76d0\" xlink:actuate=\"onRequest\" xlink:href=\"psysml:478537c4-9aea-45e7-93bf-51b2f99f76d0\" xlink:show=\"new\" xlink:title=\"psysml:478537c4-9aea-45e7-93bf-51b2f99f76d0\" xlink:type=\"simple\"><path d=\"M498.5,206 C498.5,206 498.5,252.68 498.5,252.68 \" fill=\"none\" id=\"E3&lt;-E4\" style=\"stroke: #383838; stroke-width: 1.0;\"/><polygon fill=\"#FFFFFF\" points=\"498.5,193,494.5,199,498.5,205,502.5,199,498.5,193\" style=\"stroke: #383838; stroke-width: 1.0;\"/><text fill=\"#000000\" font-family=\"sans-serif\" font-size=\"13\" lengthAdjust=\"spacingAndGlyphs\" textLength=\"8\" x=\"492.4219\" y=\"241.8743\">1</text></a><!--MD5=[185131fc0dcab0a4505a2ebe144e961b]\n",
       "link E4 to E2--><a href=\"psysml:9a27f54b-62e8-4ed3-8ffb-179b9354440f\" target=\"_top\" title=\"psysml:9a27f54b-62e8-4ed3-8ffb-179b9354440f\" xlink:actuate=\"onRequest\" xlink:href=\"psysml:9a27f54b-62e8-4ed3-8ffb-179b9354440f\" xlink:show=\"new\" xlink:title=\"psysml:9a27f54b-62e8-4ed3-8ffb-179b9354440f\" xlink:type=\"simple\"><path d=\"M487,299 C487,330.18 487,382 487,382 C487,382 307.38,382 307.38,382 \" fill=\"none\" id=\"E4-&gt;E2\" style=\"stroke: #383838; stroke-width: 1.0;\"/><polygon fill=\"#FFFFFF\" points=\"287.38,382,306.38,375,306.38,389,287.38,382\" style=\"stroke: #383838; stroke-width: 1.0;\"/><ellipse cx=\"312.08\" cy=\"377\" fill=\"#383838\" rx=\"2\" ry=\"2\" style=\"stroke: #383838; stroke-width: 1.0;\"/><ellipse cx=\"312.08\" cy=\"387\" fill=\"#383838\" rx=\"2\" ry=\"2\" style=\"stroke: #383838; stroke-width: 1.0;\"/></a><!--MD5=[191cde3d490a3f6d7bb551fe3ddca469]\n",
       "reverse link E3 to E5--><a href=\"psysml:0c237cb0-b529-413c-8aaf-d2f6ce3a1092\" target=\"_top\" title=\"psysml:0c237cb0-b529-413c-8aaf-d2f6ce3a1092\" xlink:actuate=\"onRequest\" xlink:href=\"psysml:0c237cb0-b529-413c-8aaf-d2f6ce3a1092\" xlink:show=\"new\" xlink:title=\"psysml:0c237cb0-b529-413c-8aaf-d2f6ce3a1092\" xlink:type=\"simple\"><path d=\"M549,206 C549,206 549,252.68 549,252.68 \" fill=\"none\" id=\"E3&lt;-E5\" style=\"stroke: #383838; stroke-width: 1.0;\"/><polygon fill=\"#FFFFFF\" points=\"549,193,545,199,549,205,553,199,549,193\" style=\"stroke: #383838; stroke-width: 1.0;\"/><text fill=\"#000000\" font-family=\"sans-serif\" font-size=\"13\" lengthAdjust=\"spacingAndGlyphs\" textLength=\"8\" x=\"535.3625\" y=\"241.8743\">1</text></a><!--MD5=[3f50a3473f1dfb74d3f76443e03635af]\n",
       "reverse link E6 to E7--><a href=\"psysml:b94a6cc2-6585-4221-b4bd-c6e1360a7593\" target=\"_top\" title=\"psysml:b94a6cc2-6585-4221-b4bd-c6e1360a7593\" xlink:actuate=\"onRequest\" xlink:href=\"psysml:b94a6cc2-6585-4221-b4bd-c6e1360a7593\" xlink:show=\"new\" xlink:title=\"psysml:b94a6cc2-6585-4221-b4bd-c6e1360a7593\" xlink:type=\"simple\"><path d=\"M327,206 C327,206 327,252.68 327,252.68 \" fill=\"none\" id=\"E6&lt;-E7\" style=\"stroke: #383838; stroke-width: 1.0;\"/><polygon fill=\"#FFFFFF\" points=\"327,193,323,199,327,205,331,199,327,193\" style=\"stroke: #383838; stroke-width: 1.0;\"/><text fill=\"#000000\" font-family=\"sans-serif\" font-size=\"13\" lengthAdjust=\"spacingAndGlyphs\" textLength=\"8\" x=\"317.975\" y=\"241.8743\">1</text></a><!--MD5=[583832df87f4419a098336a29a52fa00]\n",
       "link E7 to E2--><a href=\"psysml:6c7ecdb4-3704-4141-b5eb-90be274661d4\" target=\"_top\" title=\"psysml:6c7ecdb4-3704-4141-b5eb-90be274661d4\" xlink:actuate=\"onRequest\" xlink:href=\"psysml:6c7ecdb4-3704-4141-b5eb-90be274661d4\" xlink:show=\"new\" xlink:title=\"psysml:6c7ecdb4-3704-4141-b5eb-90be274661d4\" xlink:type=\"simple\"><path d=\"M305.88,276 C292.04,276 276.5,276 276.5,276 C276.5,276 276.5,339 276.5,339 \" fill=\"none\" id=\"E7-&gt;E2\" style=\"stroke: #383838; stroke-width: 1.0;\"/><polygon fill=\"#FFFFFF\" points=\"276.5,359,269.5,340,283.5,340,276.5,359\" style=\"stroke: #383838; stroke-width: 1.0;\"/><ellipse cx=\"271.5\" cy=\"334.3\" fill=\"#383838\" rx=\"2\" ry=\"2\" style=\"stroke: #383838; stroke-width: 1.0;\"/><ellipse cx=\"281.5\" cy=\"334.3\" fill=\"#383838\" rx=\"2\" ry=\"2\" style=\"stroke: #383838; stroke-width: 1.0;\"/></a><!--MD5=[f4cf0736d43fd73c4ef68817c49d37d5]\n",
       "reverse link E6 to E8--><a href=\"psysml:c893fa2e-0043-44e8-be45-2077001790d0\" target=\"_top\" title=\"psysml:c893fa2e-0043-44e8-be45-2077001790d0\" xlink:actuate=\"onRequest\" xlink:href=\"psysml:c893fa2e-0043-44e8-be45-2077001790d0\" xlink:show=\"new\" xlink:title=\"psysml:c893fa2e-0043-44e8-be45-2077001790d0\" xlink:type=\"simple\"><path d=\"M387.5,206 C387.5,206 387.5,252.68 387.5,252.68 \" fill=\"none\" id=\"E6&lt;-E8\" style=\"stroke: #383838; stroke-width: 1.0;\"/><polygon fill=\"#FFFFFF\" points=\"387.5,193,383.5,199,387.5,205,391.5,199,387.5,193\" style=\"stroke: #383838; stroke-width: 1.0;\"/><text fill=\"#000000\" font-family=\"sans-serif\" font-size=\"13\" lengthAdjust=\"spacingAndGlyphs\" textLength=\"8\" x=\"373.4781\" y=\"241.8743\">1</text></a><!--MD5=[23ac544a70576c3e717098101004234c]\n",
       "reverse link E9 to E10--><a href=\"psysml:3723b58c-a4dd-4ef3-9a79-2a659572d83c\" target=\"_top\" title=\"psysml:3723b58c-a4dd-4ef3-9a79-2a659572d83c\" xlink:actuate=\"onRequest\" xlink:href=\"psysml:3723b58c-a4dd-4ef3-9a79-2a659572d83c\" xlink:show=\"new\" xlink:title=\"psysml:3723b58c-a4dd-4ef3-9a79-2a659572d83c\" xlink:type=\"simple\"><path d=\"M167,206 C167,206 167,252.68 167,252.68 \" fill=\"none\" id=\"E9&lt;-E10\" style=\"stroke: #383838; stroke-width: 1.0;\"/><polygon fill=\"#FFFFFF\" points=\"167,193,163,199,167,205,171,199,167,193\" style=\"stroke: #383838; stroke-width: 1.0;\"/><text fill=\"#000000\" font-family=\"sans-serif\" font-size=\"13\" lengthAdjust=\"spacingAndGlyphs\" textLength=\"8\" x=\"157.975\" y=\"241.8743\">1</text></a><!--MD5=[0f36bececdf0dff6e600d6f64214b0f1]\n",
       "link E10 to E2--><a href=\"psysml:8c7a6e5c-2c0e-473c-a2c4-4062964bb416\" target=\"_top\" title=\"psysml:8c7a6e5c-2c0e-473c-a2c4-4062964bb416\" xlink:actuate=\"onRequest\" xlink:href=\"psysml:8c7a6e5c-2c0e-473c-a2c4-4062964bb416\" xlink:show=\"new\" xlink:title=\"psysml:8c7a6e5c-2c0e-473c-a2c4-4062964bb416\" xlink:type=\"simple\"><path d=\"M167,299.21 C167,328.47 167,375 167,375 C167,375 200.61,375 200.61,375 \" fill=\"none\" id=\"E10-&gt;E2\" style=\"stroke: #383838; stroke-width: 1.0;\"/><polygon fill=\"#FFFFFF\" points=\"220.61,375,201.61,382,201.61,368,220.61,375\" style=\"stroke: #383838; stroke-width: 1.0;\"/><ellipse cx=\"195.91\" cy=\"380\" fill=\"#383838\" rx=\"2\" ry=\"2\" style=\"stroke: #383838; stroke-width: 1.0;\"/><ellipse cx=\"195.91\" cy=\"370\" fill=\"#383838\" rx=\"2\" ry=\"2\" style=\"stroke: #383838; stroke-width: 1.0;\"/></a><!--MD5=[1fc04a95fd77ad5ce46c1a3027516051]\n",
       "reverse link E9 to E11--><a href=\"psysml:05b52cb0-1bec-4ecb-a4ba-b6e0a5fd36fa\" target=\"_top\" title=\"psysml:05b52cb0-1bec-4ecb-a4ba-b6e0a5fd36fa\" xlink:actuate=\"onRequest\" xlink:href=\"psysml:05b52cb0-1bec-4ecb-a4ba-b6e0a5fd36fa\" xlink:show=\"new\" xlink:title=\"psysml:05b52cb0-1bec-4ecb-a4ba-b6e0a5fd36fa\" xlink:type=\"simple\"><path d=\"M232.5,206 C232.5,206 232.5,252.68 232.5,252.68 \" fill=\"none\" id=\"E9&lt;-E11\" style=\"stroke: #383838; stroke-width: 1.0;\"/><polygon fill=\"#FFFFFF\" points=\"232.5,193,228.5,199,232.5,205,236.5,199,232.5,193\" style=\"stroke: #383838; stroke-width: 1.0;\"/><text fill=\"#000000\" font-family=\"sans-serif\" font-size=\"13\" lengthAdjust=\"spacingAndGlyphs\" textLength=\"8\" x=\"219.7594\" y=\"241.8743\">1</text></a><!--MD5=[062ed86c389d1a88f61c6380d0491e17]\n",
       "reverse link E12 to E13--><a href=\"psysml:2ea9f126-2045-475e-98b2-0bebbeaf39ba\" target=\"_top\" title=\"psysml:2ea9f126-2045-475e-98b2-0bebbeaf39ba\" xlink:actuate=\"onRequest\" xlink:href=\"psysml:2ea9f126-2045-475e-98b2-0bebbeaf39ba\" xlink:show=\"new\" xlink:title=\"psysml:2ea9f126-2045-475e-98b2-0bebbeaf39ba\" xlink:type=\"simple\"><path d=\"M80,100 C80,100 80,146.68 80,146.68 \" fill=\"none\" id=\"E12&lt;-E13\" style=\"stroke: #383838; stroke-width: 1.0;\"/><polygon fill=\"#383838\" points=\"80,87,76,93,80,99,84,93,80,87\" style=\"stroke: #383838; stroke-width: 1.0;\"/><text fill=\"#000000\" font-family=\"sans-serif\" font-size=\"13\" lengthAdjust=\"spacingAndGlyphs\" textLength=\"8\" x=\"70.975\" y=\"135.8743\">1</text></a><!--MD5=[01db00f33b28669d6d9febea71002831]\n",
       "reverse link E13 to E14--><a href=\"psysml:56644651-1cff-4e4b-add6-5aaf4cbf3323\" target=\"_top\" title=\"psysml:56644651-1cff-4e4b-add6-5aaf4cbf3323\" xlink:actuate=\"onRequest\" xlink:href=\"psysml:56644651-1cff-4e4b-add6-5aaf4cbf3323\" xlink:show=\"new\" xlink:title=\"psysml:56644651-1cff-4e4b-add6-5aaf4cbf3323\" xlink:type=\"simple\"><path d=\"M85,206 C85,206 85,252.68 85,252.68 \" fill=\"none\" id=\"E13&lt;-E14\" style=\"stroke: #383838; stroke-width: 1.0;\"/><polygon fill=\"#FFFFFF\" points=\"85,193,81,199,85,205,89,199,85,193\" style=\"stroke: #383838; stroke-width: 1.0;\"/><text fill=\"#000000\" font-family=\"sans-serif\" font-size=\"13\" lengthAdjust=\"spacingAndGlyphs\" textLength=\"8\" x=\"74.6938\" y=\"241.8743\">1</text></a><!--MD5=[e5566ac99d7714697a7fbc17f6b550fe]\n",
       "link E14 to E2--><a href=\"psysml:004f1bd4-f46a-4fc3-b446-5abbd305cc50\" target=\"_top\" title=\"psysml:004f1bd4-f46a-4fc3-b446-5abbd305cc50\" xlink:actuate=\"onRequest\" xlink:href=\"psysml:004f1bd4-f46a-4fc3-b446-5abbd305cc50\" xlink:show=\"new\" xlink:title=\"psysml:004f1bd4-f46a-4fc3-b446-5abbd305cc50\" xlink:type=\"simple\"><path d=\"M111.41,276 C120.92,276 130,276 130,276 C130,276 130,390 130,390 C130,390 200.77,390 200.77,390 \" fill=\"none\" id=\"E14-&gt;E2\" style=\"stroke: #383838; stroke-width: 1.0;\"/><polygon fill=\"#FFFFFF\" points=\"220.77,390,201.77,397,201.77,383,220.77,390\" style=\"stroke: #383838; stroke-width: 1.0;\"/><ellipse cx=\"196.07\" cy=\"395\" fill=\"#383838\" rx=\"2\" ry=\"2\" style=\"stroke: #383838; stroke-width: 1.0;\"/><ellipse cx=\"196.07\" cy=\"385\" fill=\"#383838\" rx=\"2\" ry=\"2\" style=\"stroke: #383838; stroke-width: 1.0;\"/></a><!--MD5=[e9a5e828c71fd2209a11a152f562d491]\n",
       "reverse link E13 to E15--><a href=\"psysml:439c4bcd-5bf6-4395-bbdb-0df2330c2504\" target=\"_top\" title=\"psysml:439c4bcd-5bf6-4395-bbdb-0df2330c2504\" xlink:actuate=\"onRequest\" xlink:href=\"psysml:439c4bcd-5bf6-4395-bbdb-0df2330c2504\" xlink:show=\"new\" xlink:title=\"psysml:439c4bcd-5bf6-4395-bbdb-0df2330c2504\" xlink:type=\"simple\"><path d=\"M53.6,170 C53.6,170 53,170 53,170 C53,170 53,382 53,382 C53,382 58.87,382 65.94,382 \" fill=\"none\" id=\"E13&lt;-E15\" style=\"stroke: #383838; stroke-width: 1.0;\"/><polygon fill=\"#FFFFFF\" points=\"58.99,170,52.99,166,46.99,170,52.99,174,58.99,170\" style=\"stroke: #383838; stroke-width: 1.0;\"/><text fill=\"#000000\" font-family=\"sans-serif\" font-size=\"13\" lengthAdjust=\"spacingAndGlyphs\" textLength=\"8\" x=\"50.0481\" y=\"376.985\">1</text></a><!--MD5=[3afbdc645381407e1bc99677323a2513]\n",
       "link E14 to E15--><a href=\"psysml:356465e0-8362-42f7-8017-4c1d57dccd42\" target=\"_top\" title=\"psysml:356465e0-8362-42f7-8017-4c1d57dccd42\" xlink:actuate=\"onRequest\" xlink:href=\"psysml:356465e0-8362-42f7-8017-4c1d57dccd42\" xlink:show=\"new\" xlink:title=\"psysml:356465e0-8362-42f7-8017-4c1d57dccd42\" xlink:type=\"simple\"><path d=\"M83,299 C83,316.66 83,340.94 83,358.68 \" fill=\"none\" id=\"E14-E15\" style=\"stroke: #383838; stroke-width: 3.0;\"/></a><!--MD5=[3afbdc645381407e1bc99677323a2513]\n",
       "link E14 to E15--><a href=\"psysml:be002053-3eab-4239-b4ec-f62d8ddd6fa6\" target=\"_top\" title=\"psysml:be002053-3eab-4239-b4ec-f62d8ddd6fa6\" xlink:actuate=\"onRequest\" xlink:href=\"psysml:be002053-3eab-4239-b4ec-f62d8ddd6fa6\" xlink:show=\"new\" xlink:title=\"psysml:be002053-3eab-4239-b4ec-f62d8ddd6fa6\" xlink:type=\"simple\"><path d=\"M97,299 C97,316.66 97,340.94 97,358.68 \" fill=\"none\" id=\"E14-E15-1\" style=\"stroke: #383838; stroke-width: 3.0;\"/></a><!--MD5=[fdae553b332deee89dc7ed0e03f5858d]\n",
       "@startuml\r\n",
       "skinparam linetype ortho\r\n",
       "skinparam monochrome true\r\n",
       "skinparam classbackgroundcolor white\r\n",
       "skinparam shadowing false\r\n",
       "skinparam wrapWidth 300\r\n",
       "hide circle\r\n",
       "\r\n",
       "package \"ConjugationTest\" as E1  [[psysml:811d2e93-771a-4206-9534-119b2782ed8b ]]  {\r\n",
       "comp def \"P\" as E2  <<(T,blue) port def>> [[psysml:a118eece-ff6c-41b4-a8ec-63007fd81e06 ]] {\r\n",
       "}\r\n",
       "comp def \"B\" as E3  <<(T,blue) part def>> [[psysml:45f3428f-90c5-481c-8b5b-6d42a9c9ecb4 ]] {\r\n",
       "}\r\n",
       "comp usage \"p1: P\" as E4  <<(T,blue) port>> [[psysml:f10162e3-9121-4423-8c61-28bf75aadc9a ]] {\r\n",
       "}\r\n",
       "comp usage \"p2: ~P\" as E5  <<(T,blue) port>> [[psysml:f793b08e-b132-4869-8396-6344384571c9 ]] {\r\n",
       "}\r\n",
       "comp def \"A\" as E6  <<(T,blue) connection def>> [[psysml:1e44cf6a-fe6c-483a-98ee-7c5816e24c4f ]] {\r\n",
       "}\r\n",
       "comp usage \"p1: P\" as E7  <<(T,blue) port>> [[psysml:592da980-ebcc-4bfb-b89f-9a898fd7b408 ]] {\r\n",
       "}\r\n",
       "comp usage \"p2: ~P\" as E8  <<(T,blue) port>> [[psysml:4730362b-6892-4b61-8b08-4b1eb3a58a19 ]] {\r\n",
       "}\r\n",
       "comp def \"I\" as E9  <<(T,blue) interface def>> [[psysml:c589f335-4cab-4324-b073-03ca89b55f7d ]] {\r\n",
       "}\r\n",
       "comp usage \"p1: P\" as E10  <<(T,blue) port>> [[psysml:0a18d135-3a15-4f1e-a48b-3983b85e55aa ]] {\r\n",
       "}\r\n",
       "comp usage \"p2: ~P\" as E11  <<(T,blue) port>> [[psysml:f0ebefc1-580e-4b11-b9cf-e3cb40b874a3 ]] {\r\n",
       "}\r\n",
       "comp def \"B1\" as E12  <<(T,blue) part def>> [[psysml:99d6c811-1239-4557-8bf5-512a2d9b51f5 ]] {\r\n",
       "}\r\n",
       "comp usage \"p\" as E13  <<(T,blue) part>> [[psysml:c80e6282-4b88-42a6-beea-d83b68d36327 ]] {\r\n",
       "}\r\n",
       "comp usage \"p1: P\" as E14  <<(T,blue) port>> [[psysml:36fdd18b-cc96-4106-b803-027f179d9fab ]] {\r\n",
       "}\r\n",
       "comp usage \"p2: ~P\" as E15  <<(T,blue) port>> [[psysml:a04d4130-2616-430e-82e5-4df6c3f344d5 ]] {\r\n",
       "}\r\n",
       "}\r\n",
       "E3 o- - \"1\"E4 [[psysml:478537c4-9aea-45e7-93bf-51b2f99f76d0 ]] \r\n",
       "E4 - -:|> E2 [[psysml:9a27f54b-62e8-4ed3-8ffb-179b9354440f ]] \r\n",
       "E3 o- - \"1\"E5 [[psysml:0c237cb0-b529-413c-8aaf-d2f6ce3a1092 ]] \r\n",
       "E6 o- - \"1\"E7 [[psysml:b94a6cc2-6585-4221-b4bd-c6e1360a7593 ]] \r\n",
       "E7 - -:|> E2 [[psysml:6c7ecdb4-3704-4141-b5eb-90be274661d4 ]] \r\n",
       "E6 o- - \"1\"E8 [[psysml:c893fa2e-0043-44e8-be45-2077001790d0 ]] \r\n",
       "E9 o- - \"1\"E10 [[psysml:3723b58c-a4dd-4ef3-9a79-2a659572d83c ]] \r\n",
       "E10 - -:|> E2 [[psysml:8c7a6e5c-2c0e-473c-a2c4-4062964bb416 ]] \r\n",
       "E9 o- - \"1\"E11 [[psysml:05b52cb0-1bec-4ecb-a4ba-b6e0a5fd36fa ]] \r\n",
       "E12 *- - \"1\"E13 [[psysml:2ea9f126-2045-475e-98b2-0bebbeaf39ba ]] \r\n",
       "E13 o- - \"1\"E14 [[psysml:56644651-1cff-4e4b-add6-5aaf4cbf3323 ]] \r\n",
       "E14 - -:|> E2 [[psysml:004f1bd4-f46a-4fc3-b446-5abbd305cc50 ]] \r\n",
       "E13 o- - \"1\"E15 [[psysml:439c4bcd-5bf6-4395-bbdb-0df2330c2504 ]] \r\n",
       "E14 -[thickness=3]- E15 [[psysml:356465e0-8362-42f7-8017-4c1d57dccd42 ]] \r\n",
       "E14 -[thickness=3]- E15 [[psysml:be002053-3eab-4239-b4ec-f62d8ddd6fa6 ]] \r\n",
       "@enduml\r\n",
       "\n",
       "PlantUML version 1.2020.13(Sat Jun 13 12:26:38 UTC 2020)\n",
       "(EPL source distribution)\n",
       "Java Runtime: OpenJDK Runtime Environment\n",
       "JVM: OpenJDK 64-Bit Server VM\n",
       "Default Encoding: UTF-8\n",
       "Language: en\n",
       "Country: null\n",
       "--></g></svg>"
      ]
     },
     "execution_count": 57,
     "metadata": {},
     "output_type": "execute_result"
    }
   ],
   "source": [
    "%viz --style=\"ORTHOLINE\" --view=\"MIXED\" \"ConjugationTest\""
   ]
  }
 ],
 "metadata": {
  "kernelspec": {
   "display_name": "SysML",
   "language": "sysml",
   "name": "sysml"
  },
  "language_info": {
   "codemirror_mode": "sysml",
   "file_extension": ".sysml",
   "mimetype": "text/x-sysml",
   "name": "SysML",
   "pygments_lexer": "java",
   "version": "1.0.0"
  }
 },
 "nbformat": 4,
 "nbformat_minor": 5
}
