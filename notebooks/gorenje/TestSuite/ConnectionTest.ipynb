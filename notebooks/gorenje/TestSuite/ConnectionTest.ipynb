{
 "cells": [
  {
   "cell_type": "markdown",
   "id": "bed00e87",
   "metadata": {},
   "source": [
    "# SysML v2 Test Suite\n",
    "\n",
    "This can notebook can be cleared using menu `Edit --> Clear All Outputs` and then all cells can be\n",
    "run using menu `Run --> Run All Cells`.\n",
    "\n",
    "**WARNING**: This file is generated, all modifications here will be ignored.\n"
   ]
  },
  {
   "cell_type": "markdown",
   "id": "b5ff0ffc",
   "metadata": {},
   "source": [
    "## File: ../../sysml/src/examples/Simple Tests/ConnectionTest.sysml"
   ]
  },
  {
   "cell_type": "code",
   "execution_count": 1,
   "id": "811e1be1",
   "metadata": {
    "execution": {
     "iopub.execute_input": "2021-09-27T07:17:30.582536Z",
     "iopub.status.busy": "2021-09-27T07:17:30.581298Z",
     "iopub.status.idle": "2021-09-27T07:17:30.829834Z",
     "shell.execute_reply": "2021-09-27T07:17:30.830191Z"
    }
   },
   "outputs": [
    {
     "data": {
      "text/plain": [
       "Package ConnectionTest (9a7aff5d-aaef-4079-8b06-8075c494b248)\n"
      ]
     },
     "execution_count": 1,
     "metadata": {},
     "output_type": "execute_result"
    }
   ],
   "source": [
    "package ConnectionTest {\n",
    "\t\n",
    "\tpart p {\n",
    "\t\tpart x {\n",
    "\t\t\tpart x1;\n",
    "\t\t}\n",
    "\t}\n",
    "\t\n",
    "\tpart def P {\n",
    "\t\tpart y;\n",
    "\n",
    "\t\tconnect p to y;\n",
    "\t\t\n",
    "\t\tpart p1 :> p;\n",
    "\t\n",
    "\t\tconnect p1.x to y;\n",
    "\t\tconnect p1.x.x1 to y;\n",
    "\t}\n",
    "}"
   ]
  },
  {
   "cell_type": "code",
   "execution_count": 2,
   "id": "5540add6",
   "metadata": {
    "execution": {
     "iopub.execute_input": "2021-09-27T07:17:30.880894Z",
     "iopub.status.busy": "2021-09-27T07:17:30.880464Z",
     "iopub.status.idle": "2021-09-27T07:17:31.344204Z",
     "shell.execute_reply": "2021-09-27T07:17:31.342751Z"
    }
   },
   "outputs": [
    {
     "data": {
      "image/svg+xml": [
       "<?xml version=\"1.0\" encoding=\"UTF-8\" standalone=\"no\"?><svg xmlns=\"http://www.w3.org/2000/svg\" xmlns:xlink=\"http://www.w3.org/1999/xlink\" contentScriptType=\"application/ecmascript\" contentStyleType=\"text/css\" height=\"539px\" preserveAspectRatio=\"none\" style=\"width:189px;height:539px;\" version=\"1.1\" viewBox=\"0 0 189 539\" width=\"189px\" zoomAndPan=\"magnify\"><defs/><g><!--MD5=[fbc87193dbaf4d95561dea2c320d4a47]\n",
       "cluster E1--><a href=\"psysml:58064a58-d13b-4f80-a6f6-0eceb966f2f7\" target=\"_top\" title=\"psysml:58064a58-d13b-4f80-a6f6-0eceb966f2f7\" xlink:actuate=\"onRequest\" xlink:href=\"psysml:58064a58-d13b-4f80-a6f6-0eceb966f2f7\" xlink:show=\"new\" xlink:title=\"psysml:58064a58-d13b-4f80-a6f6-0eceb966f2f7\" xlink:type=\"simple\"><polygon fill=\"#FFFFFF\" points=\"16,6,133,6,140,28.2969,167,28.2969,167,527,16,527,16,6\" style=\"stroke: #000000; stroke-width: 1.5;\"/><line style=\"stroke: #000000; stroke-width: 1.5;\" x1=\"16\" x2=\"140\" y1=\"28.2969\" y2=\"28.2969\"/><text fill=\"#000000\" font-family=\"sans-serif\" font-size=\"14\" font-weight=\"bold\" lengthAdjust=\"spacingAndGlyphs\" textLength=\"111\" x=\"20\" y=\"20.9951\">ConnectionTest</text></a><!--MD5=[b4997ac47864f28c2f74865a473b2911]\n",
       "class E2--><a href=\"psysml:98bc980e-08bf-4c08-bf0e-335abb3c4ffd\" target=\"_top\" title=\"psysml:98bc980e-08bf-4c08-bf0e-335abb3c4ffd\" xlink:actuate=\"onRequest\" xlink:href=\"psysml:98bc980e-08bf-4c08-bf0e-335abb3c4ffd\" xlink:show=\"new\" xlink:title=\"psysml:98bc980e-08bf-4c08-bf0e-335abb3c4ffd\" xlink:type=\"simple\"><rect fill=\"#FFFFFF\" height=\"45.9375\" id=\"E2\" rx=\"10\" ry=\"10\" style=\"stroke: #383838; stroke-width: 1.5;\" width=\"42\" x=\"89\" y=\"253\"/><text fill=\"#000000\" font-family=\"sans-serif\" font-size=\"12\" font-style=\"italic\" lengthAdjust=\"spacingAndGlyphs\" textLength=\"40\" x=\"90\" y=\"269.1387\">«part»</text><text fill=\"#000000\" font-family=\"sans-serif\" font-size=\"12\" lengthAdjust=\"spacingAndGlyphs\" textLength=\"8\" x=\"106\" y=\"283.1074\">p</text><line style=\"stroke: #383838; stroke-width: 1.5;\" x1=\"90\" x2=\"130\" y1=\"290.9375\" y2=\"290.9375\"/></a><!--MD5=[09b614a08d8cba4a07c9adeb5e0fee81]\n",
       "class E3--><a href=\"psysml:c51e79ce-7cf1-4bdb-aba6-5cab2657d431\" target=\"_top\" title=\"psysml:c51e79ce-7cf1-4bdb-aba6-5cab2657d431\" xlink:actuate=\"onRequest\" xlink:href=\"psysml:c51e79ce-7cf1-4bdb-aba6-5cab2657d431\" xlink:show=\"new\" xlink:title=\"psysml:c51e79ce-7cf1-4bdb-aba6-5cab2657d431\" xlink:type=\"simple\"><rect fill=\"#FFFFFF\" height=\"45.9375\" id=\"E3\" rx=\"10\" ry=\"10\" style=\"stroke: #383838; stroke-width: 1.5;\" width=\"42\" x=\"109\" y=\"359\"/><text fill=\"#000000\" font-family=\"sans-serif\" font-size=\"12\" font-style=\"italic\" lengthAdjust=\"spacingAndGlyphs\" textLength=\"40\" x=\"110\" y=\"375.1387\">«part»</text><text fill=\"#000000\" font-family=\"sans-serif\" font-size=\"12\" lengthAdjust=\"spacingAndGlyphs\" textLength=\"6\" x=\"127\" y=\"389.1074\">x</text><line style=\"stroke: #383838; stroke-width: 1.5;\" x1=\"110\" x2=\"150\" y1=\"396.9375\" y2=\"396.9375\"/></a><!--MD5=[ebbe1d658d1005bcc118a6aa81145e00]\n",
       "class E4--><a href=\"psysml:31f41755-661a-4a53-a2bb-f2dfc01c0edf\" target=\"_top\" title=\"psysml:31f41755-661a-4a53-a2bb-f2dfc01c0edf\" xlink:actuate=\"onRequest\" xlink:href=\"psysml:31f41755-661a-4a53-a2bb-f2dfc01c0edf\" xlink:show=\"new\" xlink:title=\"psysml:31f41755-661a-4a53-a2bb-f2dfc01c0edf\" xlink:type=\"simple\"><rect fill=\"#FFFFFF\" height=\"45.9375\" id=\"E4\" rx=\"10\" ry=\"10\" style=\"stroke: #383838; stroke-width: 1.5;\" width=\"42\" x=\"109\" y=\"465\"/><text fill=\"#000000\" font-family=\"sans-serif\" font-size=\"12\" font-style=\"italic\" lengthAdjust=\"spacingAndGlyphs\" textLength=\"40\" x=\"110\" y=\"481.1387\">«part»</text><text fill=\"#000000\" font-family=\"sans-serif\" font-size=\"12\" lengthAdjust=\"spacingAndGlyphs\" textLength=\"14\" x=\"123\" y=\"495.1074\">x1</text><line style=\"stroke: #383838; stroke-width: 1.5;\" x1=\"110\" x2=\"150\" y1=\"502.9375\" y2=\"502.9375\"/></a><!--MD5=[270fce915f116d4de14055a7c1d9a0f3]\n",
       "class E5--><a href=\"psysml:9833d686-e720-46bf-b438-35dbd29b7a16\" target=\"_top\" title=\"psysml:9833d686-e720-46bf-b438-35dbd29b7a16\" xlink:actuate=\"onRequest\" xlink:href=\"psysml:9833d686-e720-46bf-b438-35dbd29b7a16\" xlink:show=\"new\" xlink:title=\"psysml:9833d686-e720-46bf-b438-35dbd29b7a16\" xlink:type=\"simple\"><rect fill=\"#FFFFFF\" height=\"45.9375\" id=\"E5\" style=\"stroke: #383838; stroke-width: 1.5;\" width=\"66\" x=\"54\" y=\"41\"/><text fill=\"#000000\" font-family=\"sans-serif\" font-size=\"12\" font-style=\"italic\" lengthAdjust=\"spacingAndGlyphs\" textLength=\"64\" x=\"55\" y=\"57.1387\">«part def»</text><text fill=\"#000000\" font-family=\"sans-serif\" font-size=\"12\" lengthAdjust=\"spacingAndGlyphs\" textLength=\"8\" x=\"83\" y=\"71.1074\">P</text><line style=\"stroke: #383838; stroke-width: 1.5;\" x1=\"55\" x2=\"119\" y1=\"78.9375\" y2=\"78.9375\"/></a><!--MD5=[60a26617385b1d2d0262a64233df1f8d]\n",
       "class E6--><a href=\"psysml:f96f9e94-0e28-4abd-b8cb-5d3679a708db\" target=\"_top\" title=\"psysml:f96f9e94-0e28-4abd-b8cb-5d3679a708db\" xlink:actuate=\"onRequest\" xlink:href=\"psysml:f96f9e94-0e28-4abd-b8cb-5d3679a708db\" xlink:show=\"new\" xlink:title=\"psysml:f96f9e94-0e28-4abd-b8cb-5d3679a708db\" xlink:type=\"simple\"><rect fill=\"#FFFFFF\" height=\"45.9375\" id=\"E6\" rx=\"10\" ry=\"10\" style=\"stroke: #383838; stroke-width: 1.5;\" width=\"42\" x=\"32\" y=\"359\"/><text fill=\"#000000\" font-family=\"sans-serif\" font-size=\"12\" font-style=\"italic\" lengthAdjust=\"spacingAndGlyphs\" textLength=\"40\" x=\"33\" y=\"375.1387\">«part»</text><text fill=\"#000000\" font-family=\"sans-serif\" font-size=\"12\" lengthAdjust=\"spacingAndGlyphs\" textLength=\"6\" x=\"50\" y=\"389.1074\">y</text><line style=\"stroke: #383838; stroke-width: 1.5;\" x1=\"33\" x2=\"73\" y1=\"396.9375\" y2=\"396.9375\"/></a><!--MD5=[2156ba9850f5573cc1fc38a6a4b2f02b]\n",
       "class E7--><a href=\"psysml:2279d5a4-5f0e-43ce-88bf-f6ddb21c3f25\" target=\"_top\" title=\"psysml:2279d5a4-5f0e-43ce-88bf-f6ddb21c3f25\" xlink:actuate=\"onRequest\" xlink:href=\"psysml:2279d5a4-5f0e-43ce-88bf-f6ddb21c3f25\" xlink:show=\"new\" xlink:title=\"psysml:2279d5a4-5f0e-43ce-88bf-f6ddb21c3f25\" xlink:type=\"simple\"><rect fill=\"#FFFFFF\" height=\"45.9375\" id=\"E7\" rx=\"10\" ry=\"10\" style=\"stroke: #383838; stroke-width: 1.5;\" width=\"42\" x=\"89\" y=\"147\"/><text fill=\"#000000\" font-family=\"sans-serif\" font-size=\"12\" font-style=\"italic\" lengthAdjust=\"spacingAndGlyphs\" textLength=\"40\" x=\"90\" y=\"163.1387\">«part»</text><text fill=\"#000000\" font-family=\"sans-serif\" font-size=\"12\" lengthAdjust=\"spacingAndGlyphs\" textLength=\"16\" x=\"102\" y=\"177.1074\">p1</text><line style=\"stroke: #383838; stroke-width: 1.5;\" x1=\"90\" x2=\"130\" y1=\"184.9375\" y2=\"184.9375\"/></a><!--MD5=[209b3feb70ccb6233bfe1053d122c12c]\n",
       "reverse link E2 to E3--><a href=\"psysml:1ffc18c1-940f-43c3-a54c-dcf9b76281a6\" target=\"_top\" title=\"psysml:1ffc18c1-940f-43c3-a54c-dcf9b76281a6\" xlink:actuate=\"onRequest\" xlink:href=\"psysml:1ffc18c1-940f-43c3-a54c-dcf9b76281a6\" xlink:show=\"new\" xlink:title=\"psysml:1ffc18c1-940f-43c3-a54c-dcf9b76281a6\" xlink:type=\"simple\"><path d=\"M116.72,311.96 C119.71,327.51 123.14,345.33 125.76,358.98 \" fill=\"none\" id=\"E2&lt;-E3\" style=\"stroke: #383838; stroke-width: 1.0;\"/><polygon fill=\"#383838\" points=\"114.24,299.06,111.447,305.7082,116.5096,310.8434,119.3026,304.1952,114.24,299.06\" style=\"stroke: #383838; stroke-width: 1.0;\"/><text fill=\"#000000\" font-family=\"sans-serif\" font-size=\"13\" lengthAdjust=\"spacingAndGlyphs\" textLength=\"8\" x=\"115.5455\" y=\"347.8709\">1</text></a><!--MD5=[4672eba38e49728da53d11aeb285b987]\n",
       "reverse link E3 to E4--><a href=\"psysml:3d75ef33-b13b-4214-af18-b5d2941be4f9\" target=\"_top\" title=\"psysml:3d75ef33-b13b-4214-af18-b5d2941be4f9\" xlink:actuate=\"onRequest\" xlink:href=\"psysml:3d75ef33-b13b-4214-af18-b5d2941be4f9\" xlink:show=\"new\" xlink:title=\"psysml:3d75ef33-b13b-4214-af18-b5d2941be4f9\" xlink:type=\"simple\"><path d=\"M130,418.44 C130,433.87 130,451.47 130,464.98 \" fill=\"none\" id=\"E3&lt;-E4\" style=\"stroke: #383838; stroke-width: 1.0;\"/><polygon fill=\"#383838\" points=\"130,405.06,126,411.06,130,417.06,134,411.06,130,405.06\" style=\"stroke: #383838; stroke-width: 1.0;\"/><text fill=\"#000000\" font-family=\"sans-serif\" font-size=\"13\" lengthAdjust=\"spacingAndGlyphs\" textLength=\"8\" x=\"120.925\" y=\"453.8709\">1</text></a><!--MD5=[85d356282659285ab4b2cfe2f634dd2b]\n",
       "reverse link E5 to E6--><a href=\"psysml:d68af8b5-54d9-4416-b26b-1e36c98f2c99\" target=\"_top\" title=\"psysml:d68af8b5-54d9-4416-b26b-1e36c98f2c99\" xlink:actuate=\"onRequest\" xlink:href=\"psysml:d68af8b5-54d9-4416-b26b-1e36c98f2c99\" xlink:show=\"new\" xlink:title=\"psysml:d68af8b5-54d9-4416-b26b-1e36c98f2c99\" xlink:type=\"simple\"><path d=\"M79.77,100.15 C77.01,114.61 74.03,131.56 72,147 C61.78,224.59 56.2,317.42 54.05,358.98 \" fill=\"none\" id=\"E5&lt;-E6\" style=\"stroke: #383838; stroke-width: 1.0;\"/><polygon fill=\"#383838\" points=\"82.32,87.18,77.2408,92.2988,80.0123,98.956,85.0915,93.8372,82.32,87.18\" style=\"stroke: #383838; stroke-width: 1.0;\"/><text fill=\"#000000\" font-family=\"sans-serif\" font-size=\"13\" lengthAdjust=\"spacingAndGlyphs\" textLength=\"8\" x=\"45.2572\" y=\"347.8709\">1</text></a><!--MD5=[e3e28c1befcf002155aa15e1416b4315]\n",
       "link E2 to E6--><a href=\"psysml:901b44a6-3b8d-4bea-9e51-ad40652cd7ff\" target=\"_top\" title=\"psysml:901b44a6-3b8d-4bea-9e51-ad40652cd7ff\" xlink:actuate=\"onRequest\" xlink:href=\"psysml:901b44a6-3b8d-4bea-9e51-ad40652cd7ff\" xlink:show=\"new\" xlink:title=\"psysml:901b44a6-3b8d-4bea-9e51-ad40652cd7ff\" xlink:type=\"simple\"><path d=\"M97.91,299.06 C88.24,316.7 74.74,341.34 65.07,358.98 \" fill=\"none\" id=\"E2-E6\" style=\"stroke: #383838; stroke-width: 3.0;\"/><text fill=\"#000000\" font-family=\"sans-serif\" font-size=\"13\" lengthAdjust=\"spacingAndGlyphs\" textLength=\"7\" x=\"60.3732\" y=\"347.8709\">*</text></a><!--MD5=[452b418e7f8a40397a49b8c0a78acc5b]\n",
       "reverse link E5 to E7--><a href=\"psysml:5a5926b8-11d9-4284-b6a0-db32c9e29bb2\" target=\"_top\" title=\"psysml:5a5926b8-11d9-4284-b6a0-db32c9e29bb2\" xlink:actuate=\"onRequest\" xlink:href=\"psysml:5a5926b8-11d9-4284-b6a0-db32c9e29bb2\" xlink:show=\"new\" xlink:title=\"psysml:5a5926b8-11d9-4284-b6a0-db32c9e29bb2\" xlink:type=\"simple\"><path d=\"M94.73,99.96 C98.17,115.51 102.11,133.33 105.13,146.98 \" fill=\"none\" id=\"E5&lt;-E7\" style=\"stroke: #383838; stroke-width: 1.0;\"/><polygon fill=\"#383838\" points=\"91.88,87.06,89.2656,93.7805,94.4636,98.7786,97.078,92.0581,91.88,87.06\" style=\"stroke: #383838; stroke-width: 1.0;\"/><text fill=\"#000000\" font-family=\"sans-serif\" font-size=\"13\" lengthAdjust=\"spacingAndGlyphs\" textLength=\"8\" x=\"94.7462\" y=\"135.8709\">1</text></a><!--MD5=[583832df87f4419a098336a29a52fa00]\n",
       "link E7 to E2--><a href=\"psysml:dd540a25-2742-496a-aaa6-3ea5cc8a4940\" target=\"_top\" title=\"psysml:dd540a25-2742-496a-aaa6-3ea5cc8a4940\" xlink:actuate=\"onRequest\" xlink:href=\"psysml:dd540a25-2742-496a-aaa6-3ea5cc8a4940\" xlink:show=\"new\" xlink:title=\"psysml:dd540a25-2742-496a-aaa6-3ea5cc8a4940\" xlink:type=\"simple\"><path d=\"M110,193.06 C110,204.64 110,219.23 110,232.87 \" fill=\"none\" id=\"E7-&gt;E2\" style=\"stroke: #383838; stroke-width: 1.0;\"/><polygon fill=\"none\" points=\"117,232.98,110,252.98,103,232.98,117,232.98\" style=\"stroke: #383838; stroke-width: 1.0;\"/></a><!--MD5=[319e82e2d0f0b12b38bcc45cf259c552]\n",
       "@startuml\r\n",
       " skinparam monochrome true\r\n",
       "skinparam classbackgroundcolor white\r\n",
       "skinparam shadowing false\r\n",
       "skinparam wrapWidth 300\r\n",
       "hide circle\r\n",
       "\r\n",
       "package \"ConnectionTest\" as E1  [[psysml:58064a58-d13b-4f80-a6f6-0eceb966f2f7 ]]  {\r\n",
       "comp usage \"p\" as E2  <<(T,blue) part>> [[psysml:98bc980e-08bf-4c08-bf0e-335abb3c4ffd ]] {\r\n",
       "}\r\n",
       "comp usage \"x\" as E3  <<(T,blue) part>> [[psysml:c51e79ce-7cf1-4bdb-aba6-5cab2657d431 ]] {\r\n",
       "}\r\n",
       "comp usage \"x1\" as E4  <<(T,blue) part>> [[psysml:31f41755-661a-4a53-a2bb-f2dfc01c0edf ]] {\r\n",
       "}\r\n",
       "comp def \"P\" as E5  <<(T,blue) part def>> [[psysml:9833d686-e720-46bf-b438-35dbd29b7a16 ]] {\r\n",
       "}\r\n",
       "comp usage \"y\" as E6  <<(T,blue) part>> [[psysml:f96f9e94-0e28-4abd-b8cb-5d3679a708db ]] {\r\n",
       "}\r\n",
       "comp usage \"p1\" as E7  <<(T,blue) part>> [[psysml:2279d5a4-5f0e-43ce-88bf-f6ddb21c3f25 ]] {\r\n",
       "}\r\n",
       "}\r\n",
       "E2 *- - \"1\"E3 [[psysml:1ffc18c1-940f-43c3-a54c-dcf9b76281a6 ]] \r\n",
       "E3 *- - \"1\"E4 [[psysml:3d75ef33-b13b-4214-af18-b5d2941be4f9 ]] \r\n",
       "E5 *- - \"1\"E6 [[psysml:d68af8b5-54d9-4416-b26b-1e36c98f2c99 ]] \r\n",
       "E2 -[thickness=3]- \"*\"E6 [[psysml:901b44a6-3b8d-4bea-9e51-ad40652cd7ff ]] \r\n",
       "E5 *- - \"1\"E7 [[psysml:5a5926b8-11d9-4284-b6a0-db32c9e29bb2 ]] \r\n",
       "E7 - -|> E2 [[psysml:dd540a25-2742-496a-aaa6-3ea5cc8a4940 ]] \r\n",
       "@enduml\r\n",
       "\n",
       "PlantUML version 1.2020.13(Sat Jun 13 12:26:38 UTC 2020)\n",
       "(EPL source distribution)\n",
       "Java Runtime: OpenJDK Runtime Environment\n",
       "JVM: OpenJDK 64-Bit Server VM\n",
       "Default Encoding: UTF-8\n",
       "Language: en\n",
       "Country: null\n",
       "--></g></svg>"
      ]
     },
     "execution_count": 2,
     "metadata": {},
     "output_type": "execute_result"
    }
   ],
   "source": [
    "%viz --style=\"COMPTREE\" --view=\"Default\" \"ConnectionTest\""
   ]
  },
  {
   "cell_type": "code",
   "execution_count": 3,
   "id": "9d1bd9df",
   "metadata": {
    "execution": {
     "iopub.execute_input": "2021-09-27T07:17:31.393729Z",
     "iopub.status.busy": "2021-09-27T07:17:31.393139Z",
     "iopub.status.idle": "2021-09-27T07:17:31.451692Z",
     "shell.execute_reply": "2021-09-27T07:17:31.451310Z"
    }
   },
   "outputs": [
    {
     "data": {
      "image/svg+xml": [
       "<?xml version=\"1.0\" encoding=\"UTF-8\" standalone=\"no\"?><svg xmlns=\"http://www.w3.org/2000/svg\" xmlns:xlink=\"http://www.w3.org/1999/xlink\" contentScriptType=\"application/ecmascript\" contentStyleType=\"text/css\" height=\"539px\" preserveAspectRatio=\"none\" style=\"width:189px;height:539px;\" version=\"1.1\" viewBox=\"0 0 189 539\" width=\"189px\" zoomAndPan=\"magnify\"><defs/><g><!--MD5=[fbc87193dbaf4d95561dea2c320d4a47]\n",
       "cluster E1--><a href=\"psysml:58064a58-d13b-4f80-a6f6-0eceb966f2f7\" target=\"_top\" title=\"psysml:58064a58-d13b-4f80-a6f6-0eceb966f2f7\" xlink:actuate=\"onRequest\" xlink:href=\"psysml:58064a58-d13b-4f80-a6f6-0eceb966f2f7\" xlink:show=\"new\" xlink:title=\"psysml:58064a58-d13b-4f80-a6f6-0eceb966f2f7\" xlink:type=\"simple\"><polygon fill=\"#FFFFFF\" points=\"16,6,133,6,140,28.2969,167,28.2969,167,527,16,527,16,6\" style=\"stroke: #000000; stroke-width: 1.5;\"/><line style=\"stroke: #000000; stroke-width: 1.5;\" x1=\"16\" x2=\"140\" y1=\"28.2969\" y2=\"28.2969\"/><text fill=\"#000000\" font-family=\"sans-serif\" font-size=\"14\" font-weight=\"bold\" lengthAdjust=\"spacingAndGlyphs\" textLength=\"111\" x=\"20\" y=\"20.9951\">ConnectionTest</text></a><!--MD5=[b4997ac47864f28c2f74865a473b2911]\n",
       "class E2--><a href=\"psysml:98bc980e-08bf-4c08-bf0e-335abb3c4ffd\" target=\"_top\" title=\"psysml:98bc980e-08bf-4c08-bf0e-335abb3c4ffd\" xlink:actuate=\"onRequest\" xlink:href=\"psysml:98bc980e-08bf-4c08-bf0e-335abb3c4ffd\" xlink:show=\"new\" xlink:title=\"psysml:98bc980e-08bf-4c08-bf0e-335abb3c4ffd\" xlink:type=\"simple\"><rect fill=\"#FFFFFF\" height=\"45.9375\" id=\"E2\" rx=\"10\" ry=\"10\" style=\"stroke: #383838; stroke-width: 1.5;\" width=\"42\" x=\"89\" y=\"253\"/><text fill=\"#000000\" font-family=\"sans-serif\" font-size=\"12\" font-style=\"italic\" lengthAdjust=\"spacingAndGlyphs\" textLength=\"40\" x=\"90\" y=\"269.1387\">«part»</text><text fill=\"#000000\" font-family=\"sans-serif\" font-size=\"12\" lengthAdjust=\"spacingAndGlyphs\" textLength=\"8\" x=\"106\" y=\"283.1074\">p</text><line style=\"stroke: #383838; stroke-width: 1.5;\" x1=\"90\" x2=\"130\" y1=\"290.9375\" y2=\"290.9375\"/></a><!--MD5=[09b614a08d8cba4a07c9adeb5e0fee81]\n",
       "class E3--><a href=\"psysml:c51e79ce-7cf1-4bdb-aba6-5cab2657d431\" target=\"_top\" title=\"psysml:c51e79ce-7cf1-4bdb-aba6-5cab2657d431\" xlink:actuate=\"onRequest\" xlink:href=\"psysml:c51e79ce-7cf1-4bdb-aba6-5cab2657d431\" xlink:show=\"new\" xlink:title=\"psysml:c51e79ce-7cf1-4bdb-aba6-5cab2657d431\" xlink:type=\"simple\"><rect fill=\"#FFFFFF\" height=\"45.9375\" id=\"E3\" rx=\"10\" ry=\"10\" style=\"stroke: #383838; stroke-width: 1.5;\" width=\"42\" x=\"109\" y=\"359\"/><text fill=\"#000000\" font-family=\"sans-serif\" font-size=\"12\" font-style=\"italic\" lengthAdjust=\"spacingAndGlyphs\" textLength=\"40\" x=\"110\" y=\"375.1387\">«part»</text><text fill=\"#000000\" font-family=\"sans-serif\" font-size=\"12\" lengthAdjust=\"spacingAndGlyphs\" textLength=\"6\" x=\"127\" y=\"389.1074\">x</text><line style=\"stroke: #383838; stroke-width: 1.5;\" x1=\"110\" x2=\"150\" y1=\"396.9375\" y2=\"396.9375\"/></a><!--MD5=[ebbe1d658d1005bcc118a6aa81145e00]\n",
       "class E4--><a href=\"psysml:31f41755-661a-4a53-a2bb-f2dfc01c0edf\" target=\"_top\" title=\"psysml:31f41755-661a-4a53-a2bb-f2dfc01c0edf\" xlink:actuate=\"onRequest\" xlink:href=\"psysml:31f41755-661a-4a53-a2bb-f2dfc01c0edf\" xlink:show=\"new\" xlink:title=\"psysml:31f41755-661a-4a53-a2bb-f2dfc01c0edf\" xlink:type=\"simple\"><rect fill=\"#FFFFFF\" height=\"45.9375\" id=\"E4\" rx=\"10\" ry=\"10\" style=\"stroke: #383838; stroke-width: 1.5;\" width=\"42\" x=\"109\" y=\"465\"/><text fill=\"#000000\" font-family=\"sans-serif\" font-size=\"12\" font-style=\"italic\" lengthAdjust=\"spacingAndGlyphs\" textLength=\"40\" x=\"110\" y=\"481.1387\">«part»</text><text fill=\"#000000\" font-family=\"sans-serif\" font-size=\"12\" lengthAdjust=\"spacingAndGlyphs\" textLength=\"14\" x=\"123\" y=\"495.1074\">x1</text><line style=\"stroke: #383838; stroke-width: 1.5;\" x1=\"110\" x2=\"150\" y1=\"502.9375\" y2=\"502.9375\"/></a><!--MD5=[270fce915f116d4de14055a7c1d9a0f3]\n",
       "class E5--><a href=\"psysml:9833d686-e720-46bf-b438-35dbd29b7a16\" target=\"_top\" title=\"psysml:9833d686-e720-46bf-b438-35dbd29b7a16\" xlink:actuate=\"onRequest\" xlink:href=\"psysml:9833d686-e720-46bf-b438-35dbd29b7a16\" xlink:show=\"new\" xlink:title=\"psysml:9833d686-e720-46bf-b438-35dbd29b7a16\" xlink:type=\"simple\"><rect fill=\"#FFFFFF\" height=\"45.9375\" id=\"E5\" style=\"stroke: #383838; stroke-width: 1.5;\" width=\"66\" x=\"54\" y=\"41\"/><text fill=\"#000000\" font-family=\"sans-serif\" font-size=\"12\" font-style=\"italic\" lengthAdjust=\"spacingAndGlyphs\" textLength=\"64\" x=\"55\" y=\"57.1387\">«part def»</text><text fill=\"#000000\" font-family=\"sans-serif\" font-size=\"12\" lengthAdjust=\"spacingAndGlyphs\" textLength=\"8\" x=\"83\" y=\"71.1074\">P</text><line style=\"stroke: #383838; stroke-width: 1.5;\" x1=\"55\" x2=\"119\" y1=\"78.9375\" y2=\"78.9375\"/></a><!--MD5=[60a26617385b1d2d0262a64233df1f8d]\n",
       "class E6--><a href=\"psysml:f96f9e94-0e28-4abd-b8cb-5d3679a708db\" target=\"_top\" title=\"psysml:f96f9e94-0e28-4abd-b8cb-5d3679a708db\" xlink:actuate=\"onRequest\" xlink:href=\"psysml:f96f9e94-0e28-4abd-b8cb-5d3679a708db\" xlink:show=\"new\" xlink:title=\"psysml:f96f9e94-0e28-4abd-b8cb-5d3679a708db\" xlink:type=\"simple\"><rect fill=\"#FFFFFF\" height=\"45.9375\" id=\"E6\" rx=\"10\" ry=\"10\" style=\"stroke: #383838; stroke-width: 1.5;\" width=\"42\" x=\"32\" y=\"359\"/><text fill=\"#000000\" font-family=\"sans-serif\" font-size=\"12\" font-style=\"italic\" lengthAdjust=\"spacingAndGlyphs\" textLength=\"40\" x=\"33\" y=\"375.1387\">«part»</text><text fill=\"#000000\" font-family=\"sans-serif\" font-size=\"12\" lengthAdjust=\"spacingAndGlyphs\" textLength=\"6\" x=\"50\" y=\"389.1074\">y</text><line style=\"stroke: #383838; stroke-width: 1.5;\" x1=\"33\" x2=\"73\" y1=\"396.9375\" y2=\"396.9375\"/></a><!--MD5=[2156ba9850f5573cc1fc38a6a4b2f02b]\n",
       "class E7--><a href=\"psysml:2279d5a4-5f0e-43ce-88bf-f6ddb21c3f25\" target=\"_top\" title=\"psysml:2279d5a4-5f0e-43ce-88bf-f6ddb21c3f25\" xlink:actuate=\"onRequest\" xlink:href=\"psysml:2279d5a4-5f0e-43ce-88bf-f6ddb21c3f25\" xlink:show=\"new\" xlink:title=\"psysml:2279d5a4-5f0e-43ce-88bf-f6ddb21c3f25\" xlink:type=\"simple\"><rect fill=\"#FFFFFF\" height=\"45.9375\" id=\"E7\" rx=\"10\" ry=\"10\" style=\"stroke: #383838; stroke-width: 1.5;\" width=\"42\" x=\"89\" y=\"147\"/><text fill=\"#000000\" font-family=\"sans-serif\" font-size=\"12\" font-style=\"italic\" lengthAdjust=\"spacingAndGlyphs\" textLength=\"40\" x=\"90\" y=\"163.1387\">«part»</text><text fill=\"#000000\" font-family=\"sans-serif\" font-size=\"12\" lengthAdjust=\"spacingAndGlyphs\" textLength=\"16\" x=\"102\" y=\"177.1074\">p1</text><line style=\"stroke: #383838; stroke-width: 1.5;\" x1=\"90\" x2=\"130\" y1=\"184.9375\" y2=\"184.9375\"/></a><!--MD5=[209b3feb70ccb6233bfe1053d122c12c]\n",
       "reverse link E2 to E3--><a href=\"psysml:1ffc18c1-940f-43c3-a54c-dcf9b76281a6\" target=\"_top\" title=\"psysml:1ffc18c1-940f-43c3-a54c-dcf9b76281a6\" xlink:actuate=\"onRequest\" xlink:href=\"psysml:1ffc18c1-940f-43c3-a54c-dcf9b76281a6\" xlink:show=\"new\" xlink:title=\"psysml:1ffc18c1-940f-43c3-a54c-dcf9b76281a6\" xlink:type=\"simple\"><path d=\"M116.72,311.96 C119.71,327.51 123.14,345.33 125.76,358.98 \" fill=\"none\" id=\"E2&lt;-E3\" style=\"stroke: #383838; stroke-width: 1.0;\"/><polygon fill=\"#383838\" points=\"114.24,299.06,111.447,305.7082,116.5096,310.8434,119.3026,304.1952,114.24,299.06\" style=\"stroke: #383838; stroke-width: 1.0;\"/><text fill=\"#000000\" font-family=\"sans-serif\" font-size=\"13\" lengthAdjust=\"spacingAndGlyphs\" textLength=\"8\" x=\"115.5455\" y=\"347.8709\">1</text></a><!--MD5=[4672eba38e49728da53d11aeb285b987]\n",
       "reverse link E3 to E4--><a href=\"psysml:3d75ef33-b13b-4214-af18-b5d2941be4f9\" target=\"_top\" title=\"psysml:3d75ef33-b13b-4214-af18-b5d2941be4f9\" xlink:actuate=\"onRequest\" xlink:href=\"psysml:3d75ef33-b13b-4214-af18-b5d2941be4f9\" xlink:show=\"new\" xlink:title=\"psysml:3d75ef33-b13b-4214-af18-b5d2941be4f9\" xlink:type=\"simple\"><path d=\"M130,418.44 C130,433.87 130,451.47 130,464.98 \" fill=\"none\" id=\"E3&lt;-E4\" style=\"stroke: #383838; stroke-width: 1.0;\"/><polygon fill=\"#383838\" points=\"130,405.06,126,411.06,130,417.06,134,411.06,130,405.06\" style=\"stroke: #383838; stroke-width: 1.0;\"/><text fill=\"#000000\" font-family=\"sans-serif\" font-size=\"13\" lengthAdjust=\"spacingAndGlyphs\" textLength=\"8\" x=\"120.925\" y=\"453.8709\">1</text></a><!--MD5=[85d356282659285ab4b2cfe2f634dd2b]\n",
       "reverse link E5 to E6--><a href=\"psysml:d68af8b5-54d9-4416-b26b-1e36c98f2c99\" target=\"_top\" title=\"psysml:d68af8b5-54d9-4416-b26b-1e36c98f2c99\" xlink:actuate=\"onRequest\" xlink:href=\"psysml:d68af8b5-54d9-4416-b26b-1e36c98f2c99\" xlink:show=\"new\" xlink:title=\"psysml:d68af8b5-54d9-4416-b26b-1e36c98f2c99\" xlink:type=\"simple\"><path d=\"M79.77,100.15 C77.01,114.61 74.03,131.56 72,147 C61.78,224.59 56.2,317.42 54.05,358.98 \" fill=\"none\" id=\"E5&lt;-E6\" style=\"stroke: #383838; stroke-width: 1.0;\"/><polygon fill=\"#383838\" points=\"82.32,87.18,77.2408,92.2988,80.0123,98.956,85.0915,93.8372,82.32,87.18\" style=\"stroke: #383838; stroke-width: 1.0;\"/><text fill=\"#000000\" font-family=\"sans-serif\" font-size=\"13\" lengthAdjust=\"spacingAndGlyphs\" textLength=\"8\" x=\"45.2572\" y=\"347.8709\">1</text></a><!--MD5=[e3e28c1befcf002155aa15e1416b4315]\n",
       "link E2 to E6--><a href=\"psysml:901b44a6-3b8d-4bea-9e51-ad40652cd7ff\" target=\"_top\" title=\"psysml:901b44a6-3b8d-4bea-9e51-ad40652cd7ff\" xlink:actuate=\"onRequest\" xlink:href=\"psysml:901b44a6-3b8d-4bea-9e51-ad40652cd7ff\" xlink:show=\"new\" xlink:title=\"psysml:901b44a6-3b8d-4bea-9e51-ad40652cd7ff\" xlink:type=\"simple\"><path d=\"M97.91,299.06 C88.24,316.7 74.74,341.34 65.07,358.98 \" fill=\"none\" id=\"E2-E6\" style=\"stroke: #383838; stroke-width: 3.0;\"/><text fill=\"#000000\" font-family=\"sans-serif\" font-size=\"13\" lengthAdjust=\"spacingAndGlyphs\" textLength=\"7\" x=\"60.3732\" y=\"347.8709\">*</text></a><!--MD5=[452b418e7f8a40397a49b8c0a78acc5b]\n",
       "reverse link E5 to E7--><a href=\"psysml:5a5926b8-11d9-4284-b6a0-db32c9e29bb2\" target=\"_top\" title=\"psysml:5a5926b8-11d9-4284-b6a0-db32c9e29bb2\" xlink:actuate=\"onRequest\" xlink:href=\"psysml:5a5926b8-11d9-4284-b6a0-db32c9e29bb2\" xlink:show=\"new\" xlink:title=\"psysml:5a5926b8-11d9-4284-b6a0-db32c9e29bb2\" xlink:type=\"simple\"><path d=\"M94.73,99.96 C98.17,115.51 102.11,133.33 105.13,146.98 \" fill=\"none\" id=\"E5&lt;-E7\" style=\"stroke: #383838; stroke-width: 1.0;\"/><polygon fill=\"#383838\" points=\"91.88,87.06,89.2656,93.7805,94.4636,98.7786,97.078,92.0581,91.88,87.06\" style=\"stroke: #383838; stroke-width: 1.0;\"/><text fill=\"#000000\" font-family=\"sans-serif\" font-size=\"13\" lengthAdjust=\"spacingAndGlyphs\" textLength=\"8\" x=\"94.7462\" y=\"135.8709\">1</text></a><!--MD5=[583832df87f4419a098336a29a52fa00]\n",
       "link E7 to E2--><a href=\"psysml:dd540a25-2742-496a-aaa6-3ea5cc8a4940\" target=\"_top\" title=\"psysml:dd540a25-2742-496a-aaa6-3ea5cc8a4940\" xlink:actuate=\"onRequest\" xlink:href=\"psysml:dd540a25-2742-496a-aaa6-3ea5cc8a4940\" xlink:show=\"new\" xlink:title=\"psysml:dd540a25-2742-496a-aaa6-3ea5cc8a4940\" xlink:type=\"simple\"><path d=\"M110,193.06 C110,204.64 110,219.23 110,232.87 \" fill=\"none\" id=\"E7-&gt;E2\" style=\"stroke: #383838; stroke-width: 1.0;\"/><polygon fill=\"none\" points=\"117,232.98,110,252.98,103,232.98,117,232.98\" style=\"stroke: #383838; stroke-width: 1.0;\"/></a><!--MD5=[319e82e2d0f0b12b38bcc45cf259c552]\n",
       "@startuml\r\n",
       " skinparam monochrome true\r\n",
       "skinparam classbackgroundcolor white\r\n",
       "skinparam shadowing false\r\n",
       "skinparam wrapWidth 300\r\n",
       "hide circle\r\n",
       "\r\n",
       "package \"ConnectionTest\" as E1  [[psysml:58064a58-d13b-4f80-a6f6-0eceb966f2f7 ]]  {\r\n",
       "comp usage \"p\" as E2  <<(T,blue) part>> [[psysml:98bc980e-08bf-4c08-bf0e-335abb3c4ffd ]] {\r\n",
       "}\r\n",
       "comp usage \"x\" as E3  <<(T,blue) part>> [[psysml:c51e79ce-7cf1-4bdb-aba6-5cab2657d431 ]] {\r\n",
       "}\r\n",
       "comp usage \"x1\" as E4  <<(T,blue) part>> [[psysml:31f41755-661a-4a53-a2bb-f2dfc01c0edf ]] {\r\n",
       "}\r\n",
       "comp def \"P\" as E5  <<(T,blue) part def>> [[psysml:9833d686-e720-46bf-b438-35dbd29b7a16 ]] {\r\n",
       "}\r\n",
       "comp usage \"y\" as E6  <<(T,blue) part>> [[psysml:f96f9e94-0e28-4abd-b8cb-5d3679a708db ]] {\r\n",
       "}\r\n",
       "comp usage \"p1\" as E7  <<(T,blue) part>> [[psysml:2279d5a4-5f0e-43ce-88bf-f6ddb21c3f25 ]] {\r\n",
       "}\r\n",
       "}\r\n",
       "E2 *- - \"1\"E3 [[psysml:1ffc18c1-940f-43c3-a54c-dcf9b76281a6 ]] \r\n",
       "E3 *- - \"1\"E4 [[psysml:3d75ef33-b13b-4214-af18-b5d2941be4f9 ]] \r\n",
       "E5 *- - \"1\"E6 [[psysml:d68af8b5-54d9-4416-b26b-1e36c98f2c99 ]] \r\n",
       "E2 -[thickness=3]- \"*\"E6 [[psysml:901b44a6-3b8d-4bea-9e51-ad40652cd7ff ]] \r\n",
       "E5 *- - \"1\"E7 [[psysml:5a5926b8-11d9-4284-b6a0-db32c9e29bb2 ]] \r\n",
       "E7 - -|> E2 [[psysml:dd540a25-2742-496a-aaa6-3ea5cc8a4940 ]] \r\n",
       "@enduml\r\n",
       "\n",
       "PlantUML version 1.2020.13(Sat Jun 13 12:26:38 UTC 2020)\n",
       "(EPL source distribution)\n",
       "Java Runtime: OpenJDK Runtime Environment\n",
       "JVM: OpenJDK 64-Bit Server VM\n",
       "Default Encoding: UTF-8\n",
       "Language: en\n",
       "Country: null\n",
       "--></g></svg>"
      ]
     },
     "execution_count": 3,
     "metadata": {},
     "output_type": "execute_result"
    }
   ],
   "source": [
    "%viz --style=\"COMPTREE\" --view=\"Tree\" \"ConnectionTest\""
   ]
  },
  {
   "cell_type": "code",
   "execution_count": 4,
   "id": "e4802bbd",
   "metadata": {
    "execution": {
     "iopub.execute_input": "2021-09-27T07:17:31.502208Z",
     "iopub.status.busy": "2021-09-27T07:17:31.501579Z",
     "iopub.status.idle": "2021-09-27T07:17:31.510885Z",
     "shell.execute_reply": "2021-09-27T07:17:31.511215Z"
    }
   },
   "outputs": [
    {
     "data": {
      "image/svg+xml": [
       "<?xml version=\"1.0\" encoding=\"UTF-8\" standalone=\"no\"?><svg xmlns=\"http://www.w3.org/2000/svg\" xmlns:xlink=\"http://www.w3.org/1999/xlink\" contentScriptType=\"application/ecmascript\" contentStyleType=\"text/css\" height=\"12px\" preserveAspectRatio=\"none\" style=\"width:12px;height:12px;\" version=\"1.1\" viewBox=\"0 0 12 12\" width=\"12px\" zoomAndPan=\"magnify\"><defs/><g><!--MD5=[f19188ef49e11757b5c46753f95d9edc]\n",
       "@startuml\r\n",
       " skinparam monochrome true\r\n",
       "skinparam classbackgroundcolor white\r\n",
       "skinparam shadowing false\r\n",
       "skinparam wrapWidth 300\r\n",
       "hide circle\r\n",
       "\r\n",
       "@enduml\r\n",
       "\n",
       "PlantUML version 1.2020.13(Sat Jun 13 12:26:38 UTC 2020)\n",
       "(EPL source distribution)\n",
       "Java Runtime: OpenJDK Runtime Environment\n",
       "JVM: OpenJDK 64-Bit Server VM\n",
       "Default Encoding: UTF-8\n",
       "Language: en\n",
       "Country: null\n",
       "--></g></svg>"
      ]
     },
     "execution_count": 4,
     "metadata": {},
     "output_type": "execute_result"
    }
   ],
   "source": [
    "%viz --style=\"COMPTREE\" --view=\"State\" \"ConnectionTest\""
   ]
  },
  {
   "cell_type": "code",
   "execution_count": 5,
   "id": "eed92795",
   "metadata": {
    "execution": {
     "iopub.execute_input": "2021-09-27T07:17:31.561738Z",
     "iopub.status.busy": "2021-09-27T07:17:31.561300Z",
     "iopub.status.idle": "2021-09-27T07:17:31.631770Z",
     "shell.execute_reply": "2021-09-27T07:17:31.632101Z"
    }
   },
   "outputs": [
    {
     "data": {
      "image/svg+xml": [
       "<?xml version=\"1.0\" encoding=\"UTF-8\" standalone=\"no\"?><svg xmlns=\"http://www.w3.org/2000/svg\" xmlns:xlink=\"http://www.w3.org/1999/xlink\" contentScriptType=\"application/ecmascript\" contentStyleType=\"text/css\" height=\"406px\" preserveAspectRatio=\"none\" style=\"width:509px;height:406px;\" version=\"1.1\" viewBox=\"0 0 509 406\" width=\"509px\" zoomAndPan=\"magnify\"><defs/><g><!--MD5=[fbc87193dbaf4d95561dea2c320d4a47]\n",
       "cluster E1--><a href=\"psysml:58064a58-d13b-4f80-a6f6-0eceb966f2f7\" target=\"_top\" title=\"psysml:58064a58-d13b-4f80-a6f6-0eceb966f2f7\" xlink:actuate=\"onRequest\" xlink:href=\"psysml:58064a58-d13b-4f80-a6f6-0eceb966f2f7\" xlink:show=\"new\" xlink:title=\"psysml:58064a58-d13b-4f80-a6f6-0eceb966f2f7\" xlink:type=\"simple\"><polygon fill=\"#FFFFFF\" points=\"16,6,133,6,140,28.2969,487,28.2969,487,394,16,394,16,6\" style=\"stroke: #000000; stroke-width: 1.5;\"/><line style=\"stroke: #000000; stroke-width: 1.5;\" x1=\"16\" x2=\"140\" y1=\"28.2969\" y2=\"28.2969\"/><text fill=\"#000000\" font-family=\"sans-serif\" font-size=\"14\" font-weight=\"bold\" lengthAdjust=\"spacingAndGlyphs\" textLength=\"111\" x=\"20\" y=\"20.9951\">ConnectionTest</text></a><!--MD5=[e4f7fae6ed58524ba242bb0b0d3be6b7]\n",
       "cluster E2--><a href=\"psysml:98bc980e-08bf-4c08-bf0e-335abb3c4ffd\" target=\"_top\" title=\"psysml:98bc980e-08bf-4c08-bf0e-335abb3c4ffd\" xlink:actuate=\"onRequest\" xlink:href=\"psysml:98bc980e-08bf-4c08-bf0e-335abb3c4ffd\" xlink:show=\"new\" xlink:title=\"psysml:98bc980e-08bf-4c08-bf0e-335abb3c4ffd\" xlink:type=\"simple\"><rect fill=\"#FFFFFF\" height=\"174\" id=\"E2\" rx=\"10\" ry=\"10\" style=\"stroke: #383838; stroke-width: 1.5;\" width=\"154\" x=\"301\" y=\"116\"/><rect fill=\"#F8F8F8\" height=\"23.9688\" rx=\"10\" ry=\"10\" style=\"stroke: #F8F8F8; stroke-width: 1.5;\" width=\"154\" x=\"301\" y=\"116\"/><rect fill=\"#F8F8F8\" height=\"10\" style=\"stroke: #F8F8F8; stroke-width: 1.5;\" width=\"154\" x=\"301\" y=\"129.9688\"/><rect fill=\"none\" height=\"174\" id=\"E2\" rx=\"10\" ry=\"10\" style=\"stroke: #383838; stroke-width: 1.5;\" width=\"154\" x=\"301\" y=\"116\"/><text fill=\"#000000\" font-family=\"sans-serif\" font-size=\"12\" lengthAdjust=\"spacingAndGlyphs\" textLength=\"8\" x=\"374\" y=\"132.1387\">p</text><line style=\"stroke: #383838; stroke-width: 1.0;\" x1=\"301\" x2=\"455\" y1=\"139.9688\" y2=\"139.9688\"/></a><!--MD5=[d5e69f78d87373223dbae638b30a9c99]\n",
       "cluster E3--><a href=\"psysml:c51e79ce-7cf1-4bdb-aba6-5cab2657d431\" target=\"_top\" title=\"psysml:c51e79ce-7cf1-4bdb-aba6-5cab2657d431\" xlink:actuate=\"onRequest\" xlink:href=\"psysml:c51e79ce-7cf1-4bdb-aba6-5cab2657d431\" xlink:show=\"new\" xlink:title=\"psysml:c51e79ce-7cf1-4bdb-aba6-5cab2657d431\" xlink:type=\"simple\"><rect fill=\"#FFFFFF\" height=\"91\" id=\"E3\" rx=\"10\" ry=\"10\" style=\"stroke: #383838; stroke-width: 1.5;\" width=\"82\" x=\"341\" y=\"167\"/><rect fill=\"#F8F8F8\" height=\"23.9688\" rx=\"10\" ry=\"10\" style=\"stroke: #F8F8F8; stroke-width: 1.5;\" width=\"82\" x=\"341\" y=\"167\"/><rect fill=\"#F8F8F8\" height=\"10\" style=\"stroke: #F8F8F8; stroke-width: 1.5;\" width=\"82\" x=\"341\" y=\"180.9688\"/><rect fill=\"none\" height=\"91\" id=\"E3\" rx=\"10\" ry=\"10\" style=\"stroke: #383838; stroke-width: 1.5;\" width=\"82\" x=\"341\" y=\"167\"/><text fill=\"#000000\" font-family=\"sans-serif\" font-size=\"12\" lengthAdjust=\"spacingAndGlyphs\" textLength=\"6\" x=\"379\" y=\"183.1387\">x</text><line style=\"stroke: #383838; stroke-width: 1.0;\" x1=\"341\" x2=\"423\" y1=\"190.9688\" y2=\"190.9688\"/></a><!--MD5=[de5ec2e2e8f62f467e546659f5068c88]\n",
       "cluster E5--><a href=\"psysml:9833d686-e720-46bf-b438-35dbd29b7a16\" target=\"_top\" title=\"psysml:9833d686-e720-46bf-b438-35dbd29b7a16\" xlink:actuate=\"onRequest\" xlink:href=\"psysml:9833d686-e720-46bf-b438-35dbd29b7a16\" xlink:show=\"new\" xlink:title=\"psysml:9833d686-e720-46bf-b438-35dbd29b7a16\" xlink:type=\"simple\"><rect fill=\"#FFFFFF\" height=\"321\" id=\"E5\" style=\"stroke: #383838; stroke-width: 1.5;\" width=\"229\" x=\"40\" y=\"49\"/><rect fill=\"#F8F8F8\" height=\"37.9375\" style=\"stroke: #383838; stroke-width: 1.5;\" width=\"229\" x=\"40\" y=\"49\"/><text fill=\"#000000\" font-family=\"sans-serif\" font-size=\"12\" font-style=\"italic\" lengthAdjust=\"spacingAndGlyphs\" textLength=\"64\" x=\"122.5\" y=\"65.1387\">«part def»</text><text fill=\"#000000\" font-family=\"sans-serif\" font-size=\"12\" lengthAdjust=\"spacingAndGlyphs\" textLength=\"8\" x=\"150.5\" y=\"79.1074\">P</text></a><!--MD5=[168fadf3d0c3fd93dd5d6da1b1d7ab76]\n",
       "cluster E7--><a href=\"psysml:2279d5a4-5f0e-43ce-88bf-f6ddb21c3f25\" target=\"_top\" title=\"psysml:2279d5a4-5f0e-43ce-88bf-f6ddb21c3f25\" xlink:actuate=\"onRequest\" xlink:href=\"psysml:2279d5a4-5f0e-43ce-88bf-f6ddb21c3f25\" xlink:show=\"new\" xlink:title=\"psysml:2279d5a4-5f0e-43ce-88bf-f6ddb21c3f25\" xlink:type=\"simple\"><rect fill=\"#FFFFFF\" height=\"190\" id=\"E7\" rx=\"10\" ry=\"10\" style=\"stroke: #383838; stroke-width: 1.5;\" width=\"181\" x=\"64\" y=\"108\"/><rect fill=\"#F8F8F8\" height=\"23.9688\" rx=\"10\" ry=\"10\" style=\"stroke: #F8F8F8; stroke-width: 1.5;\" width=\"181\" x=\"64\" y=\"108\"/><rect fill=\"#F8F8F8\" height=\"10\" style=\"stroke: #F8F8F8; stroke-width: 1.5;\" width=\"181\" x=\"64\" y=\"121.9688\"/><rect fill=\"none\" height=\"190\" id=\"E7\" rx=\"10\" ry=\"10\" style=\"stroke: #383838; stroke-width: 1.5;\" width=\"181\" x=\"64\" y=\"108\"/><text fill=\"#000000\" font-family=\"sans-serif\" font-size=\"12\" lengthAdjust=\"spacingAndGlyphs\" textLength=\"16\" x=\"146.5\" y=\"124.1387\">p1</text><line style=\"stroke: #383838; stroke-width: 1.0;\" x1=\"64\" x2=\"245\" y1=\"131.9688\" y2=\"131.9688\"/></a><!--MD5=[55dfccfc6c49c2d10cd1bd2211a6c90c]\n",
       "cluster E8--><a href=\"psysml:c51e79ce-7cf1-4bdb-aba6-5cab2657d431\" target=\"_top\" title=\"psysml:c51e79ce-7cf1-4bdb-aba6-5cab2657d431\" xlink:actuate=\"onRequest\" xlink:href=\"psysml:c51e79ce-7cf1-4bdb-aba6-5cab2657d431\" xlink:show=\"new\" xlink:title=\"psysml:c51e79ce-7cf1-4bdb-aba6-5cab2657d431\" xlink:type=\"simple\"><rect fill=\"#FFFFFF\" height=\"107\" id=\"E8\" rx=\"10\" ry=\"10\" style=\"stroke: #383838; stroke-width: 1.5;\" width=\"117\" x=\"96\" y=\"159\"/><rect fill=\"#F8F8F8\" height=\"23.9688\" rx=\"10\" ry=\"10\" style=\"stroke: #F8F8F8; stroke-width: 1.5;\" width=\"117\" x=\"96\" y=\"159\"/><rect fill=\"#F8F8F8\" height=\"10\" style=\"stroke: #F8F8F8; stroke-width: 1.5;\" width=\"117\" x=\"96\" y=\"172.9688\"/><rect fill=\"none\" height=\"107\" id=\"E8\" rx=\"10\" ry=\"10\" style=\"stroke: #383838; stroke-width: 1.5;\" width=\"117\" x=\"96\" y=\"159\"/><text fill=\"#000000\" font-family=\"sans-serif\" font-size=\"12\" lengthAdjust=\"spacingAndGlyphs\" textLength=\"16\" x=\"146.5\" y=\"175.1387\">^x</text><line style=\"stroke: #383838; stroke-width: 1.0;\" x1=\"96\" x2=\"213\" y1=\"182.9688\" y2=\"182.9688\"/></a><g id=\"E1.E2.E3.E4\"><a href=\"psysml:31f41755-661a-4a53-a2bb-f2dfc01c0edf\" target=\"_top\" title=\"psysml:31f41755-661a-4a53-a2bb-f2dfc01c0edf\" xlink:actuate=\"onRequest\" xlink:href=\"psysml:31f41755-661a-4a53-a2bb-f2dfc01c0edf\" xlink:show=\"new\" xlink:title=\"psysml:31f41755-661a-4a53-a2bb-f2dfc01c0edf\" xlink:type=\"simple\"><rect fill=\"#FFFFFF\" height=\"40\" id=\"E4\" rx=\"10\" ry=\"10\" style=\"stroke: #383838; stroke-width: 1.5;\" width=\"50\" x=\"357\" y=\"202\"/><rect fill=\"#F8F8F8\" height=\"23.9688\" rx=\"10\" ry=\"10\" style=\"stroke: #F8F8F8; stroke-width: 1.5;\" width=\"50\" x=\"357\" y=\"202\"/><rect fill=\"#F8F8F8\" height=\"10\" style=\"stroke: #F8F8F8; stroke-width: 1.5;\" width=\"50\" x=\"357\" y=\"215.9688\"/><rect fill=\"none\" height=\"40\" id=\"E4\" rx=\"10\" ry=\"10\" style=\"stroke: #383838; stroke-width: 1.5;\" width=\"50\" x=\"357\" y=\"202\"/><text fill=\"#000000\" font-family=\"sans-serif\" font-size=\"12\" lengthAdjust=\"spacingAndGlyphs\" textLength=\"14\" x=\"375\" y=\"218.1387\">x1</text></a></g><g id=\"E1.E5.E6\"><a href=\"psysml:f96f9e94-0e28-4abd-b8cb-5d3679a708db\" target=\"_top\" title=\"psysml:f96f9e94-0e28-4abd-b8cb-5d3679a708db\" xlink:actuate=\"onRequest\" xlink:href=\"psysml:f96f9e94-0e28-4abd-b8cb-5d3679a708db\" xlink:show=\"new\" xlink:title=\"psysml:f96f9e94-0e28-4abd-b8cb-5d3679a708db\" xlink:type=\"simple\"><rect fill=\"#FFFFFF\" height=\"40\" id=\"E6\" rx=\"10\" ry=\"10\" style=\"stroke: #383838; stroke-width: 1.5;\" width=\"50\" x=\"139\" y=\"314\"/><rect fill=\"#F8F8F8\" height=\"23.9688\" rx=\"10\" ry=\"10\" style=\"stroke: #F8F8F8; stroke-width: 1.5;\" width=\"50\" x=\"139\" y=\"314\"/><rect fill=\"#F8F8F8\" height=\"10\" style=\"stroke: #F8F8F8; stroke-width: 1.5;\" width=\"50\" x=\"139\" y=\"327.9688\"/><rect fill=\"none\" height=\"40\" id=\"E6\" rx=\"10\" ry=\"10\" style=\"stroke: #383838; stroke-width: 1.5;\" width=\"50\" x=\"139\" y=\"314\"/><text fill=\"#000000\" font-family=\"sans-serif\" font-size=\"12\" lengthAdjust=\"spacingAndGlyphs\" textLength=\"6\" x=\"161\" y=\"330.1387\">y</text></a></g><g id=\"E1.E5.E7.E8.E9\"><a href=\"psysml:31f41755-661a-4a53-a2bb-f2dfc01c0edf\" target=\"_top\" title=\"psysml:31f41755-661a-4a53-a2bb-f2dfc01c0edf\" xlink:actuate=\"onRequest\" xlink:href=\"psysml:31f41755-661a-4a53-a2bb-f2dfc01c0edf\" xlink:show=\"new\" xlink:title=\"psysml:31f41755-661a-4a53-a2bb-f2dfc01c0edf\" xlink:type=\"simple\"><rect fill=\"#FFFFFF\" height=\"40\" id=\"E9\" rx=\"10\" ry=\"10\" style=\"stroke: #383838; stroke-width: 1.5;\" width=\"50\" x=\"139\" y=\"202\"/><rect fill=\"#F8F8F8\" height=\"23.9688\" rx=\"10\" ry=\"10\" style=\"stroke: #F8F8F8; stroke-width: 1.5;\" width=\"50\" x=\"139\" y=\"202\"/><rect fill=\"#F8F8F8\" height=\"10\" style=\"stroke: #F8F8F8; stroke-width: 1.5;\" width=\"50\" x=\"139\" y=\"215.9688\"/><rect fill=\"none\" height=\"40\" id=\"E9\" rx=\"10\" ry=\"10\" style=\"stroke: #383838; stroke-width: 1.5;\" width=\"50\" x=\"139\" y=\"202\"/><text fill=\"#000000\" font-family=\"sans-serif\" font-size=\"12\" lengthAdjust=\"spacingAndGlyphs\" textLength=\"14\" x=\"157\" y=\"218.1387\">x1</text></a></g><!--MD5=[e3e28c1befcf002155aa15e1416b4315]\n",
       "link E2 to E6--><a href=\"psysml:901b44a6-3b8d-4bea-9e51-ad40652cd7ff\" target=\"_top\" title=\"psysml:901b44a6-3b8d-4bea-9e51-ad40652cd7ff\" xlink:actuate=\"onRequest\" xlink:href=\"psysml:901b44a6-3b8d-4bea-9e51-ad40652cd7ff\" xlink:show=\"new\" xlink:title=\"psysml:901b44a6-3b8d-4bea-9e51-ad40652cd7ff\" xlink:type=\"simple\"><path d=\"M300.7532,230.0089 C300.6678,230.081 300.5818,230.1536 300.4952,230.2266 C300.3221,230.3728 300.1466,230.5208 299.9687,230.6708 C299.2574,231.2706 298.509,231.9009 297.7253,232.56 C291.4556,237.8325 282.9263,244.945 273.0525,253.02 C253.305,269.17 228.18,289.17 205,306 C200.03,309.61 194.62,313.32 189.4,316.79 \" fill=\"none\" id=\"E2-E6\" style=\"stroke: #383838; stroke-width: 3.0;\"/><text fill=\"#000000\" font-family=\"sans-serif\" font-size=\"13\" lengthAdjust=\"spacingAndGlyphs\" textLength=\"7\" x=\"197.1669\" y=\"307.2339\">*</text></a><!--MD5=[c5e8897d989ce984f93528998a7150fe]\n",
       "link E8 to E6--><a href=\"psysml:b9509daa-923d-4932-b597-51fbb4fcb62c\" target=\"_top\" title=\"psysml:b9509daa-923d-4932-b597-51fbb4fcb62c\" xlink:actuate=\"onRequest\" xlink:href=\"psysml:b9509daa-923d-4932-b597-51fbb4fcb62c\" xlink:show=\"new\" xlink:title=\"psysml:b9509daa-923d-4932-b597-51fbb4fcb62c\" xlink:type=\"simple\"><path d=\"M107.5144,266.114 C107.5418,266.252 107.5694,266.3902 107.5972,266.5284 C107.6527,266.8049 107.7091,267.0817 107.7663,267.3589 C108.6814,271.7933 109.8082,276.3099 111.1942,280.7795 C113.9663,289.7188 117.775,298.47 123,306 C127.08,311.88 132.9,316.81 138.87,320.78 \" fill=\"none\" id=\"E8-E6\" style=\"stroke: #383838; stroke-width: 3.0;\"/><text fill=\"#000000\" font-family=\"sans-serif\" font-size=\"13\" lengthAdjust=\"spacingAndGlyphs\" textLength=\"7\" x=\"124.1757\" y=\"312.2962\">*</text></a><!--MD5=[60ac2c0cde89d4308155b0484e57a8ec]\n",
       "link E9 to E6--><a href=\"psysml:c683e43b-7fd5-4334-8447-643be8454737\" target=\"_top\" title=\"psysml:c683e43b-7fd5-4334-8447-643be8454737\" xlink:actuate=\"onRequest\" xlink:href=\"psysml:c683e43b-7fd5-4334-8447-643be8454737\" xlink:show=\"new\" xlink:title=\"psysml:c683e43b-7fd5-4334-8447-643be8454737\" xlink:type=\"simple\"><path d=\"M164,242.16 C164,262.23 164,293.57 164,313.69 \" fill=\"none\" id=\"E9-E6\" style=\"stroke: #383838; stroke-width: 3.0;\"/><text fill=\"#000000\" font-family=\"sans-serif\" font-size=\"13\" lengthAdjust=\"spacingAndGlyphs\" textLength=\"7\" x=\"156.0156\" y=\"302.954\">*</text></a><!--MD5=[e3f2a481c53225bdd9fa4a8a9c4dd801]\n",
       "@startuml\r\n",
       "skinparam ranksep 10\r\n",
       "skinparam rectangle {\r\n",
       " backgroundColor<<block>> LightGreen\r\n",
       "}\r\n",
       " skinparam monochrome true\r\n",
       "skinparam classbackgroundcolor white\r\n",
       "skinparam shadowing false\r\n",
       "skinparam wrapWidth 300\r\n",
       "hide circle\r\n",
       "\r\n",
       "package \"ConnectionTest\" as E1  [[psysml:58064a58-d13b-4f80-a6f6-0eceb966f2f7 ]]  {\r\n",
       "rec usage \"p\" as E2  [[psysml:98bc980e-08bf-4c08-bf0e-335abb3c4ffd ]] {\r\n",
       "rec usage \"x\" as E3  [[psysml:c51e79ce-7cf1-4bdb-aba6-5cab2657d431 ]] {\r\n",
       "rec usage \"x1\" as E4  [[psysml:31f41755-661a-4a53-a2bb-f2dfc01c0edf ]] {\r\n",
       "}\r\n",
       "}\r\n",
       "}\r\n",
       "rec def \"P\" as E5  <<(T,blue) part def>> [[psysml:9833d686-e720-46bf-b438-35dbd29b7a16 ]] {\r\n",
       "rec usage \"y\" as E6  [[psysml:f96f9e94-0e28-4abd-b8cb-5d3679a708db ]] {\r\n",
       "}\r\n",
       "rec usage \"p1\" as E7  [[psysml:2279d5a4-5f0e-43ce-88bf-f6ddb21c3f25 ]] {\r\n",
       "rec usage \"^x\" as E8  [[psysml:c51e79ce-7cf1-4bdb-aba6-5cab2657d431 ]] {\r\n",
       "rec usage \"x1\" as E9  [[psysml:31f41755-661a-4a53-a2bb-f2dfc01c0edf ]] {\r\n",
       "}\r\n",
       "}\r\n",
       "}\r\n",
       "}\r\n",
       "}\r\n",
       "E2 -[thickness=3]- \"*\"E6 [[psysml:901b44a6-3b8d-4bea-9e51-ad40652cd7ff ]] \r\n",
       "E8 -[thickness=3]- \"*\"E6 [[psysml:b9509daa-923d-4932-b597-51fbb4fcb62c ]] \r\n",
       "E9 -[thickness=3]- \"*\"E6 [[psysml:c683e43b-7fd5-4334-8447-643be8454737 ]] \r\n",
       "@enduml\r\n",
       "\n",
       "PlantUML version 1.2020.13(Sat Jun 13 12:26:38 UTC 2020)\n",
       "(EPL source distribution)\n",
       "Java Runtime: OpenJDK Runtime Environment\n",
       "JVM: OpenJDK 64-Bit Server VM\n",
       "Default Encoding: UTF-8\n",
       "Language: en\n",
       "Country: null\n",
       "--></g></svg>"
      ]
     },
     "execution_count": 5,
     "metadata": {},
     "output_type": "execute_result"
    }
   ],
   "source": [
    "%viz --style=\"COMPTREE\" --view=\"Interconnection\" \"ConnectionTest\""
   ]
  },
  {
   "cell_type": "code",
   "execution_count": 6,
   "id": "e44defa2",
   "metadata": {
    "execution": {
     "iopub.execute_input": "2021-09-27T07:17:31.682245Z",
     "iopub.status.busy": "2021-09-27T07:17:31.681814Z",
     "iopub.status.idle": "2021-09-27T07:17:31.690368Z",
     "shell.execute_reply": "2021-09-27T07:17:31.690685Z"
    }
   },
   "outputs": [
    {
     "data": {
      "image/svg+xml": [
       "<?xml version=\"1.0\" encoding=\"UTF-8\" standalone=\"no\"?><svg xmlns=\"http://www.w3.org/2000/svg\" xmlns:xlink=\"http://www.w3.org/1999/xlink\" contentScriptType=\"application/ecmascript\" contentStyleType=\"text/css\" height=\"12px\" preserveAspectRatio=\"none\" style=\"width:12px;height:12px;\" version=\"1.1\" viewBox=\"0 0 12 12\" width=\"12px\" zoomAndPan=\"magnify\"><defs/><g><!--MD5=[655b888544ca4751ea36af1068543f84]\n",
       "@startuml\r\n",
       "skinparam ranksep 8\r\n",
       " skinparam monochrome true\r\n",
       "skinparam classbackgroundcolor white\r\n",
       "skinparam shadowing false\r\n",
       "skinparam wrapWidth 300\r\n",
       "hide circle\r\n",
       "\r\n",
       "@enduml\r\n",
       "\n",
       "PlantUML version 1.2020.13(Sat Jun 13 12:26:38 UTC 2020)\n",
       "(EPL source distribution)\n",
       "Java Runtime: OpenJDK Runtime Environment\n",
       "JVM: OpenJDK 64-Bit Server VM\n",
       "Default Encoding: UTF-8\n",
       "Language: en\n",
       "Country: null\n",
       "--></g></svg>"
      ]
     },
     "execution_count": 6,
     "metadata": {},
     "output_type": "execute_result"
    }
   ],
   "source": [
    "%viz --style=\"COMPTREE\" --view=\"Action\" \"ConnectionTest\""
   ]
  },
  {
   "cell_type": "code",
   "execution_count": 7,
   "id": "2ef36ecf",
   "metadata": {
    "execution": {
     "iopub.execute_input": "2021-09-27T07:17:31.741409Z",
     "iopub.status.busy": "2021-09-27T07:17:31.740982Z",
     "iopub.status.idle": "2021-09-27T07:17:31.753280Z",
     "shell.execute_reply": "2021-09-27T07:17:31.753601Z"
    }
   },
   "outputs": [
    {
     "data": {
      "image/svg+xml": [
       "<?xml version=\"1.0\" encoding=\"UTF-8\" standalone=\"no\"?><svg xmlns=\"http://www.w3.org/2000/svg\" xmlns:xlink=\"http://www.w3.org/1999/xlink\" contentScriptType=\"application/ecmascript\" contentStyleType=\"text/css\" height=\"12px\" preserveAspectRatio=\"none\" style=\"width:12px;height:12px;\" version=\"1.1\" viewBox=\"0 0 12 12\" width=\"12px\" zoomAndPan=\"magnify\"><defs/><g><!--MD5=[803fc46c337be7a5c8a9831e35356779]\n",
       "@startuml\r\n",
       "skinparam roundcorner 20\r\n",
       "skinparam BoxPadding 20\r\n",
       "skinparam SequenceBoxBackgroundColor #white\r\n",
       "skinparam style strictuml\r\n",
       "skinparam maxMessageSize 100\r\n",
       " skinparam monochrome true\r\n",
       "skinparam classbackgroundcolor white\r\n",
       "skinparam shadowing false\r\n",
       "skinparam wrapWidth 300\r\n",
       "hide circle\r\n",
       "\r\n",
       "@enduml\r\n",
       "\n",
       "PlantUML version 1.2020.13(Sat Jun 13 12:26:38 UTC 2020)\n",
       "(EPL source distribution)\n",
       "Java Runtime: OpenJDK Runtime Environment\n",
       "JVM: OpenJDK 64-Bit Server VM\n",
       "Default Encoding: UTF-8\n",
       "Language: en\n",
       "Country: null\n",
       "--></g></svg>"
      ]
     },
     "execution_count": 7,
     "metadata": {},
     "output_type": "execute_result"
    }
   ],
   "source": [
    "%viz --style=\"COMPTREE\" --view=\"Sequence\" \"ConnectionTest\""
   ]
  },
  {
   "cell_type": "code",
   "execution_count": 8,
   "id": "9ec476fa",
   "metadata": {
    "execution": {
     "iopub.execute_input": "2021-09-27T07:17:31.804149Z",
     "iopub.status.busy": "2021-09-27T07:17:31.803726Z",
     "iopub.status.idle": "2021-09-27T07:17:31.854836Z",
     "shell.execute_reply": "2021-09-27T07:17:31.854532Z"
    }
   },
   "outputs": [
    {
     "data": {
      "image/svg+xml": [
       "<?xml version=\"1.0\" encoding=\"UTF-8\" standalone=\"no\"?><svg xmlns=\"http://www.w3.org/2000/svg\" xmlns:xlink=\"http://www.w3.org/1999/xlink\" contentScriptType=\"application/ecmascript\" contentStyleType=\"text/css\" height=\"539px\" preserveAspectRatio=\"none\" style=\"width:189px;height:539px;\" version=\"1.1\" viewBox=\"0 0 189 539\" width=\"189px\" zoomAndPan=\"magnify\"><defs/><g><!--MD5=[fbc87193dbaf4d95561dea2c320d4a47]\n",
       "cluster E1--><a href=\"psysml:58064a58-d13b-4f80-a6f6-0eceb966f2f7\" target=\"_top\" title=\"psysml:58064a58-d13b-4f80-a6f6-0eceb966f2f7\" xlink:actuate=\"onRequest\" xlink:href=\"psysml:58064a58-d13b-4f80-a6f6-0eceb966f2f7\" xlink:show=\"new\" xlink:title=\"psysml:58064a58-d13b-4f80-a6f6-0eceb966f2f7\" xlink:type=\"simple\"><polygon fill=\"#FFFFFF\" points=\"16,6,133,6,140,28.2969,167,28.2969,167,527,16,527,16,6\" style=\"stroke: #000000; stroke-width: 1.5;\"/><line style=\"stroke: #000000; stroke-width: 1.5;\" x1=\"16\" x2=\"140\" y1=\"28.2969\" y2=\"28.2969\"/><text fill=\"#000000\" font-family=\"sans-serif\" font-size=\"14\" font-weight=\"bold\" lengthAdjust=\"spacingAndGlyphs\" textLength=\"111\" x=\"20\" y=\"20.9951\">ConnectionTest</text></a><!--MD5=[b4997ac47864f28c2f74865a473b2911]\n",
       "class E2--><a href=\"psysml:98bc980e-08bf-4c08-bf0e-335abb3c4ffd\" target=\"_top\" title=\"psysml:98bc980e-08bf-4c08-bf0e-335abb3c4ffd\" xlink:actuate=\"onRequest\" xlink:href=\"psysml:98bc980e-08bf-4c08-bf0e-335abb3c4ffd\" xlink:show=\"new\" xlink:title=\"psysml:98bc980e-08bf-4c08-bf0e-335abb3c4ffd\" xlink:type=\"simple\"><rect fill=\"#FFFFFF\" height=\"45.9375\" id=\"E2\" rx=\"10\" ry=\"10\" style=\"stroke: #383838; stroke-width: 1.5;\" width=\"42\" x=\"89\" y=\"253\"/><text fill=\"#000000\" font-family=\"sans-serif\" font-size=\"12\" font-style=\"italic\" lengthAdjust=\"spacingAndGlyphs\" textLength=\"40\" x=\"90\" y=\"269.1387\">«part»</text><text fill=\"#000000\" font-family=\"sans-serif\" font-size=\"12\" lengthAdjust=\"spacingAndGlyphs\" textLength=\"8\" x=\"106\" y=\"283.1074\">p</text><line style=\"stroke: #383838; stroke-width: 1.5;\" x1=\"90\" x2=\"130\" y1=\"290.9375\" y2=\"290.9375\"/></a><!--MD5=[09b614a08d8cba4a07c9adeb5e0fee81]\n",
       "class E3--><a href=\"psysml:c51e79ce-7cf1-4bdb-aba6-5cab2657d431\" target=\"_top\" title=\"psysml:c51e79ce-7cf1-4bdb-aba6-5cab2657d431\" xlink:actuate=\"onRequest\" xlink:href=\"psysml:c51e79ce-7cf1-4bdb-aba6-5cab2657d431\" xlink:show=\"new\" xlink:title=\"psysml:c51e79ce-7cf1-4bdb-aba6-5cab2657d431\" xlink:type=\"simple\"><rect fill=\"#FFFFFF\" height=\"45.9375\" id=\"E3\" rx=\"10\" ry=\"10\" style=\"stroke: #383838; stroke-width: 1.5;\" width=\"42\" x=\"109\" y=\"359\"/><text fill=\"#000000\" font-family=\"sans-serif\" font-size=\"12\" font-style=\"italic\" lengthAdjust=\"spacingAndGlyphs\" textLength=\"40\" x=\"110\" y=\"375.1387\">«part»</text><text fill=\"#000000\" font-family=\"sans-serif\" font-size=\"12\" lengthAdjust=\"spacingAndGlyphs\" textLength=\"6\" x=\"127\" y=\"389.1074\">x</text><line style=\"stroke: #383838; stroke-width: 1.5;\" x1=\"110\" x2=\"150\" y1=\"396.9375\" y2=\"396.9375\"/></a><!--MD5=[ebbe1d658d1005bcc118a6aa81145e00]\n",
       "class E4--><a href=\"psysml:31f41755-661a-4a53-a2bb-f2dfc01c0edf\" target=\"_top\" title=\"psysml:31f41755-661a-4a53-a2bb-f2dfc01c0edf\" xlink:actuate=\"onRequest\" xlink:href=\"psysml:31f41755-661a-4a53-a2bb-f2dfc01c0edf\" xlink:show=\"new\" xlink:title=\"psysml:31f41755-661a-4a53-a2bb-f2dfc01c0edf\" xlink:type=\"simple\"><rect fill=\"#FFFFFF\" height=\"45.9375\" id=\"E4\" rx=\"10\" ry=\"10\" style=\"stroke: #383838; stroke-width: 1.5;\" width=\"42\" x=\"109\" y=\"465\"/><text fill=\"#000000\" font-family=\"sans-serif\" font-size=\"12\" font-style=\"italic\" lengthAdjust=\"spacingAndGlyphs\" textLength=\"40\" x=\"110\" y=\"481.1387\">«part»</text><text fill=\"#000000\" font-family=\"sans-serif\" font-size=\"12\" lengthAdjust=\"spacingAndGlyphs\" textLength=\"14\" x=\"123\" y=\"495.1074\">x1</text><line style=\"stroke: #383838; stroke-width: 1.5;\" x1=\"110\" x2=\"150\" y1=\"502.9375\" y2=\"502.9375\"/></a><!--MD5=[270fce915f116d4de14055a7c1d9a0f3]\n",
       "class E5--><a href=\"psysml:9833d686-e720-46bf-b438-35dbd29b7a16\" target=\"_top\" title=\"psysml:9833d686-e720-46bf-b438-35dbd29b7a16\" xlink:actuate=\"onRequest\" xlink:href=\"psysml:9833d686-e720-46bf-b438-35dbd29b7a16\" xlink:show=\"new\" xlink:title=\"psysml:9833d686-e720-46bf-b438-35dbd29b7a16\" xlink:type=\"simple\"><rect fill=\"#FFFFFF\" height=\"45.9375\" id=\"E5\" style=\"stroke: #383838; stroke-width: 1.5;\" width=\"66\" x=\"54\" y=\"41\"/><text fill=\"#000000\" font-family=\"sans-serif\" font-size=\"12\" font-style=\"italic\" lengthAdjust=\"spacingAndGlyphs\" textLength=\"64\" x=\"55\" y=\"57.1387\">«part def»</text><text fill=\"#000000\" font-family=\"sans-serif\" font-size=\"12\" lengthAdjust=\"spacingAndGlyphs\" textLength=\"8\" x=\"83\" y=\"71.1074\">P</text><line style=\"stroke: #383838; stroke-width: 1.5;\" x1=\"55\" x2=\"119\" y1=\"78.9375\" y2=\"78.9375\"/></a><!--MD5=[60a26617385b1d2d0262a64233df1f8d]\n",
       "class E6--><a href=\"psysml:f96f9e94-0e28-4abd-b8cb-5d3679a708db\" target=\"_top\" title=\"psysml:f96f9e94-0e28-4abd-b8cb-5d3679a708db\" xlink:actuate=\"onRequest\" xlink:href=\"psysml:f96f9e94-0e28-4abd-b8cb-5d3679a708db\" xlink:show=\"new\" xlink:title=\"psysml:f96f9e94-0e28-4abd-b8cb-5d3679a708db\" xlink:type=\"simple\"><rect fill=\"#FFFFFF\" height=\"45.9375\" id=\"E6\" rx=\"10\" ry=\"10\" style=\"stroke: #383838; stroke-width: 1.5;\" width=\"42\" x=\"32\" y=\"359\"/><text fill=\"#000000\" font-family=\"sans-serif\" font-size=\"12\" font-style=\"italic\" lengthAdjust=\"spacingAndGlyphs\" textLength=\"40\" x=\"33\" y=\"375.1387\">«part»</text><text fill=\"#000000\" font-family=\"sans-serif\" font-size=\"12\" lengthAdjust=\"spacingAndGlyphs\" textLength=\"6\" x=\"50\" y=\"389.1074\">y</text><line style=\"stroke: #383838; stroke-width: 1.5;\" x1=\"33\" x2=\"73\" y1=\"396.9375\" y2=\"396.9375\"/></a><!--MD5=[2156ba9850f5573cc1fc38a6a4b2f02b]\n",
       "class E7--><a href=\"psysml:2279d5a4-5f0e-43ce-88bf-f6ddb21c3f25\" target=\"_top\" title=\"psysml:2279d5a4-5f0e-43ce-88bf-f6ddb21c3f25\" xlink:actuate=\"onRequest\" xlink:href=\"psysml:2279d5a4-5f0e-43ce-88bf-f6ddb21c3f25\" xlink:show=\"new\" xlink:title=\"psysml:2279d5a4-5f0e-43ce-88bf-f6ddb21c3f25\" xlink:type=\"simple\"><rect fill=\"#FFFFFF\" height=\"45.9375\" id=\"E7\" rx=\"10\" ry=\"10\" style=\"stroke: #383838; stroke-width: 1.5;\" width=\"42\" x=\"89\" y=\"147\"/><text fill=\"#000000\" font-family=\"sans-serif\" font-size=\"12\" font-style=\"italic\" lengthAdjust=\"spacingAndGlyphs\" textLength=\"40\" x=\"90\" y=\"163.1387\">«part»</text><text fill=\"#000000\" font-family=\"sans-serif\" font-size=\"12\" lengthAdjust=\"spacingAndGlyphs\" textLength=\"16\" x=\"102\" y=\"177.1074\">p1</text><line style=\"stroke: #383838; stroke-width: 1.5;\" x1=\"90\" x2=\"130\" y1=\"184.9375\" y2=\"184.9375\"/></a><!--MD5=[209b3feb70ccb6233bfe1053d122c12c]\n",
       "reverse link E2 to E3--><a href=\"psysml:1ffc18c1-940f-43c3-a54c-dcf9b76281a6\" target=\"_top\" title=\"psysml:1ffc18c1-940f-43c3-a54c-dcf9b76281a6\" xlink:actuate=\"onRequest\" xlink:href=\"psysml:1ffc18c1-940f-43c3-a54c-dcf9b76281a6\" xlink:show=\"new\" xlink:title=\"psysml:1ffc18c1-940f-43c3-a54c-dcf9b76281a6\" xlink:type=\"simple\"><path d=\"M116.72,311.96 C119.71,327.51 123.14,345.33 125.76,358.98 \" fill=\"none\" id=\"E2&lt;-E3\" style=\"stroke: #383838; stroke-width: 1.0;\"/><polygon fill=\"#383838\" points=\"114.24,299.06,111.447,305.7082,116.5096,310.8434,119.3026,304.1952,114.24,299.06\" style=\"stroke: #383838; stroke-width: 1.0;\"/><text fill=\"#000000\" font-family=\"sans-serif\" font-size=\"13\" lengthAdjust=\"spacingAndGlyphs\" textLength=\"8\" x=\"115.5455\" y=\"347.8709\">1</text></a><!--MD5=[4672eba38e49728da53d11aeb285b987]\n",
       "reverse link E3 to E4--><a href=\"psysml:3d75ef33-b13b-4214-af18-b5d2941be4f9\" target=\"_top\" title=\"psysml:3d75ef33-b13b-4214-af18-b5d2941be4f9\" xlink:actuate=\"onRequest\" xlink:href=\"psysml:3d75ef33-b13b-4214-af18-b5d2941be4f9\" xlink:show=\"new\" xlink:title=\"psysml:3d75ef33-b13b-4214-af18-b5d2941be4f9\" xlink:type=\"simple\"><path d=\"M130,418.44 C130,433.87 130,451.47 130,464.98 \" fill=\"none\" id=\"E3&lt;-E4\" style=\"stroke: #383838; stroke-width: 1.0;\"/><polygon fill=\"#383838\" points=\"130,405.06,126,411.06,130,417.06,134,411.06,130,405.06\" style=\"stroke: #383838; stroke-width: 1.0;\"/><text fill=\"#000000\" font-family=\"sans-serif\" font-size=\"13\" lengthAdjust=\"spacingAndGlyphs\" textLength=\"8\" x=\"120.925\" y=\"453.8709\">1</text></a><!--MD5=[85d356282659285ab4b2cfe2f634dd2b]\n",
       "reverse link E5 to E6--><a href=\"psysml:d68af8b5-54d9-4416-b26b-1e36c98f2c99\" target=\"_top\" title=\"psysml:d68af8b5-54d9-4416-b26b-1e36c98f2c99\" xlink:actuate=\"onRequest\" xlink:href=\"psysml:d68af8b5-54d9-4416-b26b-1e36c98f2c99\" xlink:show=\"new\" xlink:title=\"psysml:d68af8b5-54d9-4416-b26b-1e36c98f2c99\" xlink:type=\"simple\"><path d=\"M79.77,100.15 C77.01,114.61 74.03,131.56 72,147 C61.78,224.59 56.2,317.42 54.05,358.98 \" fill=\"none\" id=\"E5&lt;-E6\" style=\"stroke: #383838; stroke-width: 1.0;\"/><polygon fill=\"#383838\" points=\"82.32,87.18,77.2408,92.2988,80.0123,98.956,85.0915,93.8372,82.32,87.18\" style=\"stroke: #383838; stroke-width: 1.0;\"/><text fill=\"#000000\" font-family=\"sans-serif\" font-size=\"13\" lengthAdjust=\"spacingAndGlyphs\" textLength=\"8\" x=\"45.2572\" y=\"347.8709\">1</text></a><!--MD5=[e3e28c1befcf002155aa15e1416b4315]\n",
       "link E2 to E6--><a href=\"psysml:901b44a6-3b8d-4bea-9e51-ad40652cd7ff\" target=\"_top\" title=\"psysml:901b44a6-3b8d-4bea-9e51-ad40652cd7ff\" xlink:actuate=\"onRequest\" xlink:href=\"psysml:901b44a6-3b8d-4bea-9e51-ad40652cd7ff\" xlink:show=\"new\" xlink:title=\"psysml:901b44a6-3b8d-4bea-9e51-ad40652cd7ff\" xlink:type=\"simple\"><path d=\"M97.91,299.06 C88.24,316.7 74.74,341.34 65.07,358.98 \" fill=\"none\" id=\"E2-E6\" style=\"stroke: #383838; stroke-width: 3.0;\"/><text fill=\"#000000\" font-family=\"sans-serif\" font-size=\"13\" lengthAdjust=\"spacingAndGlyphs\" textLength=\"7\" x=\"60.3732\" y=\"347.8709\">*</text></a><!--MD5=[452b418e7f8a40397a49b8c0a78acc5b]\n",
       "reverse link E5 to E7--><a href=\"psysml:5a5926b8-11d9-4284-b6a0-db32c9e29bb2\" target=\"_top\" title=\"psysml:5a5926b8-11d9-4284-b6a0-db32c9e29bb2\" xlink:actuate=\"onRequest\" xlink:href=\"psysml:5a5926b8-11d9-4284-b6a0-db32c9e29bb2\" xlink:show=\"new\" xlink:title=\"psysml:5a5926b8-11d9-4284-b6a0-db32c9e29bb2\" xlink:type=\"simple\"><path d=\"M94.73,99.96 C98.17,115.51 102.11,133.33 105.13,146.98 \" fill=\"none\" id=\"E5&lt;-E7\" style=\"stroke: #383838; stroke-width: 1.0;\"/><polygon fill=\"#383838\" points=\"91.88,87.06,89.2656,93.7805,94.4636,98.7786,97.078,92.0581,91.88,87.06\" style=\"stroke: #383838; stroke-width: 1.0;\"/><text fill=\"#000000\" font-family=\"sans-serif\" font-size=\"13\" lengthAdjust=\"spacingAndGlyphs\" textLength=\"8\" x=\"94.7462\" y=\"135.8709\">1</text></a><!--MD5=[583832df87f4419a098336a29a52fa00]\n",
       "link E7 to E2--><a href=\"psysml:dd540a25-2742-496a-aaa6-3ea5cc8a4940\" target=\"_top\" title=\"psysml:dd540a25-2742-496a-aaa6-3ea5cc8a4940\" xlink:actuate=\"onRequest\" xlink:href=\"psysml:dd540a25-2742-496a-aaa6-3ea5cc8a4940\" xlink:show=\"new\" xlink:title=\"psysml:dd540a25-2742-496a-aaa6-3ea5cc8a4940\" xlink:type=\"simple\"><path d=\"M110,193.06 C110,204.64 110,219.23 110,232.87 \" fill=\"none\" id=\"E7-&gt;E2\" style=\"stroke: #383838; stroke-width: 1.0;\"/><polygon fill=\"none\" points=\"117,232.98,110,252.98,103,232.98,117,232.98\" style=\"stroke: #383838; stroke-width: 1.0;\"/></a><!--MD5=[319e82e2d0f0b12b38bcc45cf259c552]\n",
       "@startuml\r\n",
       " skinparam monochrome true\r\n",
       "skinparam classbackgroundcolor white\r\n",
       "skinparam shadowing false\r\n",
       "skinparam wrapWidth 300\r\n",
       "hide circle\r\n",
       "\r\n",
       "package \"ConnectionTest\" as E1  [[psysml:58064a58-d13b-4f80-a6f6-0eceb966f2f7 ]]  {\r\n",
       "comp usage \"p\" as E2  <<(T,blue) part>> [[psysml:98bc980e-08bf-4c08-bf0e-335abb3c4ffd ]] {\r\n",
       "}\r\n",
       "comp usage \"x\" as E3  <<(T,blue) part>> [[psysml:c51e79ce-7cf1-4bdb-aba6-5cab2657d431 ]] {\r\n",
       "}\r\n",
       "comp usage \"x1\" as E4  <<(T,blue) part>> [[psysml:31f41755-661a-4a53-a2bb-f2dfc01c0edf ]] {\r\n",
       "}\r\n",
       "comp def \"P\" as E5  <<(T,blue) part def>> [[psysml:9833d686-e720-46bf-b438-35dbd29b7a16 ]] {\r\n",
       "}\r\n",
       "comp usage \"y\" as E6  <<(T,blue) part>> [[psysml:f96f9e94-0e28-4abd-b8cb-5d3679a708db ]] {\r\n",
       "}\r\n",
       "comp usage \"p1\" as E7  <<(T,blue) part>> [[psysml:2279d5a4-5f0e-43ce-88bf-f6ddb21c3f25 ]] {\r\n",
       "}\r\n",
       "}\r\n",
       "E2 *- - \"1\"E3 [[psysml:1ffc18c1-940f-43c3-a54c-dcf9b76281a6 ]] \r\n",
       "E3 *- - \"1\"E4 [[psysml:3d75ef33-b13b-4214-af18-b5d2941be4f9 ]] \r\n",
       "E5 *- - \"1\"E6 [[psysml:d68af8b5-54d9-4416-b26b-1e36c98f2c99 ]] \r\n",
       "E2 -[thickness=3]- \"*\"E6 [[psysml:901b44a6-3b8d-4bea-9e51-ad40652cd7ff ]] \r\n",
       "E5 *- - \"1\"E7 [[psysml:5a5926b8-11d9-4284-b6a0-db32c9e29bb2 ]] \r\n",
       "E7 - -|> E2 [[psysml:dd540a25-2742-496a-aaa6-3ea5cc8a4940 ]] \r\n",
       "@enduml\r\n",
       "\n",
       "PlantUML version 1.2020.13(Sat Jun 13 12:26:38 UTC 2020)\n",
       "(EPL source distribution)\n",
       "Java Runtime: OpenJDK Runtime Environment\n",
       "JVM: OpenJDK 64-Bit Server VM\n",
       "Default Encoding: UTF-8\n",
       "Language: en\n",
       "Country: null\n",
       "--></g></svg>"
      ]
     },
     "execution_count": 8,
     "metadata": {},
     "output_type": "execute_result"
    }
   ],
   "source": [
    "%viz --style=\"COMPTREE\" --view=\"MIXED\" \"ConnectionTest\""
   ]
  },
  {
   "cell_type": "code",
   "execution_count": 9,
   "id": "0b6c0acd",
   "metadata": {
    "execution": {
     "iopub.execute_input": "2021-09-27T07:17:31.904609Z",
     "iopub.status.busy": "2021-09-27T07:17:31.904192Z",
     "iopub.status.idle": "2021-09-27T07:17:31.963406Z",
     "shell.execute_reply": "2021-09-27T07:17:31.961347Z"
    }
   },
   "outputs": [
    {
     "data": {
      "image/svg+xml": [
       "<?xml version=\"1.0\" encoding=\"UTF-8\" standalone=\"no\"?><svg xmlns=\"http://www.w3.org/2000/svg\" xmlns:xlink=\"http://www.w3.org/1999/xlink\" contentScriptType=\"application/ecmascript\" contentStyleType=\"text/css\" height=\"539px\" preserveAspectRatio=\"none\" style=\"width:189px;height:539px;\" version=\"1.1\" viewBox=\"0 0 189 539\" width=\"189px\" zoomAndPan=\"magnify\"><defs/><g><!--MD5=[fbc87193dbaf4d95561dea2c320d4a47]\n",
       "cluster E1--><a href=\"psysml:58064a58-d13b-4f80-a6f6-0eceb966f2f7\" target=\"_top\" title=\"psysml:58064a58-d13b-4f80-a6f6-0eceb966f2f7\" xlink:actuate=\"onRequest\" xlink:href=\"psysml:58064a58-d13b-4f80-a6f6-0eceb966f2f7\" xlink:show=\"new\" xlink:title=\"psysml:58064a58-d13b-4f80-a6f6-0eceb966f2f7\" xlink:type=\"simple\"><polygon fill=\"#FFFFFF\" points=\"16,6,133,6,140,28.2969,167,28.2969,167,527,16,527,16,6\" style=\"stroke: #000000; stroke-width: 1.5;\"/><line style=\"stroke: #000000; stroke-width: 1.5;\" x1=\"16\" x2=\"140\" y1=\"28.2969\" y2=\"28.2969\"/><text fill=\"#000000\" font-family=\"sans-serif\" font-size=\"14\" font-weight=\"bold\" lengthAdjust=\"spacingAndGlyphs\" textLength=\"111\" x=\"20\" y=\"20.9951\">ConnectionTest</text></a><!--MD5=[b4997ac47864f28c2f74865a473b2911]\n",
       "class E2--><a href=\"psysml:98bc980e-08bf-4c08-bf0e-335abb3c4ffd\" target=\"_top\" title=\"psysml:98bc980e-08bf-4c08-bf0e-335abb3c4ffd\" xlink:actuate=\"onRequest\" xlink:href=\"psysml:98bc980e-08bf-4c08-bf0e-335abb3c4ffd\" xlink:show=\"new\" xlink:title=\"psysml:98bc980e-08bf-4c08-bf0e-335abb3c4ffd\" xlink:type=\"simple\"><rect fill=\"#FFFFFF\" height=\"45.9375\" id=\"E2\" rx=\"10\" ry=\"10\" style=\"stroke: #383838; stroke-width: 1.5;\" width=\"42\" x=\"89\" y=\"253\"/><text fill=\"#000000\" font-family=\"sans-serif\" font-size=\"12\" font-style=\"italic\" lengthAdjust=\"spacingAndGlyphs\" textLength=\"40\" x=\"90\" y=\"269.1387\">«part»</text><text fill=\"#000000\" font-family=\"sans-serif\" font-size=\"12\" lengthAdjust=\"spacingAndGlyphs\" textLength=\"8\" x=\"106\" y=\"283.1074\">p</text><line style=\"stroke: #383838; stroke-width: 1.5;\" x1=\"90\" x2=\"130\" y1=\"290.9375\" y2=\"290.9375\"/></a><!--MD5=[09b614a08d8cba4a07c9adeb5e0fee81]\n",
       "class E3--><a href=\"psysml:c51e79ce-7cf1-4bdb-aba6-5cab2657d431\" target=\"_top\" title=\"psysml:c51e79ce-7cf1-4bdb-aba6-5cab2657d431\" xlink:actuate=\"onRequest\" xlink:href=\"psysml:c51e79ce-7cf1-4bdb-aba6-5cab2657d431\" xlink:show=\"new\" xlink:title=\"psysml:c51e79ce-7cf1-4bdb-aba6-5cab2657d431\" xlink:type=\"simple\"><rect fill=\"#FFFFFF\" height=\"45.9375\" id=\"E3\" rx=\"10\" ry=\"10\" style=\"stroke: #383838; stroke-width: 1.5;\" width=\"42\" x=\"109\" y=\"359\"/><text fill=\"#000000\" font-family=\"sans-serif\" font-size=\"12\" font-style=\"italic\" lengthAdjust=\"spacingAndGlyphs\" textLength=\"40\" x=\"110\" y=\"375.1387\">«part»</text><text fill=\"#000000\" font-family=\"sans-serif\" font-size=\"12\" lengthAdjust=\"spacingAndGlyphs\" textLength=\"6\" x=\"127\" y=\"389.1074\">x</text><line style=\"stroke: #383838; stroke-width: 1.5;\" x1=\"110\" x2=\"150\" y1=\"396.9375\" y2=\"396.9375\"/></a><!--MD5=[ebbe1d658d1005bcc118a6aa81145e00]\n",
       "class E4--><a href=\"psysml:31f41755-661a-4a53-a2bb-f2dfc01c0edf\" target=\"_top\" title=\"psysml:31f41755-661a-4a53-a2bb-f2dfc01c0edf\" xlink:actuate=\"onRequest\" xlink:href=\"psysml:31f41755-661a-4a53-a2bb-f2dfc01c0edf\" xlink:show=\"new\" xlink:title=\"psysml:31f41755-661a-4a53-a2bb-f2dfc01c0edf\" xlink:type=\"simple\"><rect fill=\"#FFFFFF\" height=\"45.9375\" id=\"E4\" rx=\"10\" ry=\"10\" style=\"stroke: #383838; stroke-width: 1.5;\" width=\"42\" x=\"109\" y=\"465\"/><text fill=\"#000000\" font-family=\"sans-serif\" font-size=\"12\" font-style=\"italic\" lengthAdjust=\"spacingAndGlyphs\" textLength=\"40\" x=\"110\" y=\"481.1387\">«part»</text><text fill=\"#000000\" font-family=\"sans-serif\" font-size=\"12\" lengthAdjust=\"spacingAndGlyphs\" textLength=\"14\" x=\"123\" y=\"495.1074\">x1</text><line style=\"stroke: #383838; stroke-width: 1.5;\" x1=\"110\" x2=\"150\" y1=\"502.9375\" y2=\"502.9375\"/></a><!--MD5=[270fce915f116d4de14055a7c1d9a0f3]\n",
       "class E5--><a href=\"psysml:9833d686-e720-46bf-b438-35dbd29b7a16\" target=\"_top\" title=\"psysml:9833d686-e720-46bf-b438-35dbd29b7a16\" xlink:actuate=\"onRequest\" xlink:href=\"psysml:9833d686-e720-46bf-b438-35dbd29b7a16\" xlink:show=\"new\" xlink:title=\"psysml:9833d686-e720-46bf-b438-35dbd29b7a16\" xlink:type=\"simple\"><rect fill=\"#FFFFFF\" height=\"45.9375\" id=\"E5\" style=\"stroke: #383838; stroke-width: 1.5;\" width=\"66\" x=\"54\" y=\"41\"/><text fill=\"#000000\" font-family=\"sans-serif\" font-size=\"12\" font-style=\"italic\" lengthAdjust=\"spacingAndGlyphs\" textLength=\"64\" x=\"55\" y=\"57.1387\">«part def»</text><text fill=\"#000000\" font-family=\"sans-serif\" font-size=\"12\" lengthAdjust=\"spacingAndGlyphs\" textLength=\"8\" x=\"83\" y=\"71.1074\">P</text><line style=\"stroke: #383838; stroke-width: 1.5;\" x1=\"55\" x2=\"119\" y1=\"78.9375\" y2=\"78.9375\"/></a><!--MD5=[60a26617385b1d2d0262a64233df1f8d]\n",
       "class E6--><a href=\"psysml:f96f9e94-0e28-4abd-b8cb-5d3679a708db\" target=\"_top\" title=\"psysml:f96f9e94-0e28-4abd-b8cb-5d3679a708db\" xlink:actuate=\"onRequest\" xlink:href=\"psysml:f96f9e94-0e28-4abd-b8cb-5d3679a708db\" xlink:show=\"new\" xlink:title=\"psysml:f96f9e94-0e28-4abd-b8cb-5d3679a708db\" xlink:type=\"simple\"><rect fill=\"#FFFFFF\" height=\"45.9375\" id=\"E6\" rx=\"10\" ry=\"10\" style=\"stroke: #383838; stroke-width: 1.5;\" width=\"42\" x=\"32\" y=\"359\"/><text fill=\"#000000\" font-family=\"sans-serif\" font-size=\"12\" font-style=\"italic\" lengthAdjust=\"spacingAndGlyphs\" textLength=\"40\" x=\"33\" y=\"375.1387\">«part»</text><text fill=\"#000000\" font-family=\"sans-serif\" font-size=\"12\" lengthAdjust=\"spacingAndGlyphs\" textLength=\"6\" x=\"50\" y=\"389.1074\">y</text><line style=\"stroke: #383838; stroke-width: 1.5;\" x1=\"33\" x2=\"73\" y1=\"396.9375\" y2=\"396.9375\"/></a><!--MD5=[2156ba9850f5573cc1fc38a6a4b2f02b]\n",
       "class E7--><a href=\"psysml:2279d5a4-5f0e-43ce-88bf-f6ddb21c3f25\" target=\"_top\" title=\"psysml:2279d5a4-5f0e-43ce-88bf-f6ddb21c3f25\" xlink:actuate=\"onRequest\" xlink:href=\"psysml:2279d5a4-5f0e-43ce-88bf-f6ddb21c3f25\" xlink:show=\"new\" xlink:title=\"psysml:2279d5a4-5f0e-43ce-88bf-f6ddb21c3f25\" xlink:type=\"simple\"><rect fill=\"#FFFFFF\" height=\"45.9375\" id=\"E7\" rx=\"10\" ry=\"10\" style=\"stroke: #383838; stroke-width: 1.5;\" width=\"42\" x=\"89\" y=\"147\"/><text fill=\"#000000\" font-family=\"sans-serif\" font-size=\"12\" font-style=\"italic\" lengthAdjust=\"spacingAndGlyphs\" textLength=\"40\" x=\"90\" y=\"163.1387\">«part»</text><text fill=\"#000000\" font-family=\"sans-serif\" font-size=\"12\" lengthAdjust=\"spacingAndGlyphs\" textLength=\"16\" x=\"102\" y=\"177.1074\">p1</text><line style=\"stroke: #383838; stroke-width: 1.5;\" x1=\"90\" x2=\"130\" y1=\"184.9375\" y2=\"184.9375\"/></a><!--MD5=[209b3feb70ccb6233bfe1053d122c12c]\n",
       "reverse link E2 to E3--><a href=\"psysml:1ffc18c1-940f-43c3-a54c-dcf9b76281a6\" target=\"_top\" title=\"psysml:1ffc18c1-940f-43c3-a54c-dcf9b76281a6\" xlink:actuate=\"onRequest\" xlink:href=\"psysml:1ffc18c1-940f-43c3-a54c-dcf9b76281a6\" xlink:show=\"new\" xlink:title=\"psysml:1ffc18c1-940f-43c3-a54c-dcf9b76281a6\" xlink:type=\"simple\"><path d=\"M116.72,311.96 C119.71,327.51 123.14,345.33 125.76,358.98 \" fill=\"none\" id=\"E2&lt;-E3\" style=\"stroke: #383838; stroke-width: 1.0;\"/><polygon fill=\"#383838\" points=\"114.24,299.06,111.447,305.7082,116.5096,310.8434,119.3026,304.1952,114.24,299.06\" style=\"stroke: #383838; stroke-width: 1.0;\"/><text fill=\"#000000\" font-family=\"sans-serif\" font-size=\"13\" lengthAdjust=\"spacingAndGlyphs\" textLength=\"8\" x=\"115.5455\" y=\"347.8709\">1</text></a><!--MD5=[4672eba38e49728da53d11aeb285b987]\n",
       "reverse link E3 to E4--><a href=\"psysml:3d75ef33-b13b-4214-af18-b5d2941be4f9\" target=\"_top\" title=\"psysml:3d75ef33-b13b-4214-af18-b5d2941be4f9\" xlink:actuate=\"onRequest\" xlink:href=\"psysml:3d75ef33-b13b-4214-af18-b5d2941be4f9\" xlink:show=\"new\" xlink:title=\"psysml:3d75ef33-b13b-4214-af18-b5d2941be4f9\" xlink:type=\"simple\"><path d=\"M130,418.44 C130,433.87 130,451.47 130,464.98 \" fill=\"none\" id=\"E3&lt;-E4\" style=\"stroke: #383838; stroke-width: 1.0;\"/><polygon fill=\"#383838\" points=\"130,405.06,126,411.06,130,417.06,134,411.06,130,405.06\" style=\"stroke: #383838; stroke-width: 1.0;\"/><text fill=\"#000000\" font-family=\"sans-serif\" font-size=\"13\" lengthAdjust=\"spacingAndGlyphs\" textLength=\"8\" x=\"120.925\" y=\"453.8709\">1</text></a><!--MD5=[85d356282659285ab4b2cfe2f634dd2b]\n",
       "reverse link E5 to E6--><a href=\"psysml:d68af8b5-54d9-4416-b26b-1e36c98f2c99\" target=\"_top\" title=\"psysml:d68af8b5-54d9-4416-b26b-1e36c98f2c99\" xlink:actuate=\"onRequest\" xlink:href=\"psysml:d68af8b5-54d9-4416-b26b-1e36c98f2c99\" xlink:show=\"new\" xlink:title=\"psysml:d68af8b5-54d9-4416-b26b-1e36c98f2c99\" xlink:type=\"simple\"><path d=\"M80.53,100.36 C76.47,122.55 72,147 72,147 C72,147 59.52,300.73 54.79,358.99 \" fill=\"none\" id=\"E5&lt;-E6\" style=\"stroke: #383838; stroke-width: 1.0;\"/><polygon fill=\"#383838\" points=\"82.9,87.41,77.8897,92.5962,80.7499,99.2158,85.7602,94.0296,82.9,87.41\" style=\"stroke: #383838; stroke-width: 1.0;\"/><text fill=\"#000000\" font-family=\"sans-serif\" font-size=\"13\" lengthAdjust=\"spacingAndGlyphs\" textLength=\"8\" x=\"46.1961\" y=\"347.8836\">1</text></a><!--MD5=[e3e28c1befcf002155aa15e1416b4315]\n",
       "link E2 to E6--><a href=\"psysml:901b44a6-3b8d-4bea-9e51-ad40652cd7ff\" target=\"_top\" title=\"psysml:901b44a6-3b8d-4bea-9e51-ad40652cd7ff\" xlink:actuate=\"onRequest\" xlink:href=\"psysml:901b44a6-3b8d-4bea-9e51-ad40652cd7ff\" xlink:show=\"new\" xlink:title=\"psysml:901b44a6-3b8d-4bea-9e51-ad40652cd7ff\" xlink:type=\"simple\"><path d=\"M97.91,299.06 C88.24,316.7 74.74,341.34 65.07,358.98 \" fill=\"none\" id=\"E2-E6\" style=\"stroke: #383838; stroke-width: 3.0;\"/><text fill=\"#000000\" font-family=\"sans-serif\" font-size=\"13\" lengthAdjust=\"spacingAndGlyphs\" textLength=\"7\" x=\"60.3732\" y=\"347.8709\">*</text></a><!--MD5=[452b418e7f8a40397a49b8c0a78acc5b]\n",
       "reverse link E5 to E7--><a href=\"psysml:5a5926b8-11d9-4284-b6a0-db32c9e29bb2\" target=\"_top\" title=\"psysml:5a5926b8-11d9-4284-b6a0-db32c9e29bb2\" xlink:actuate=\"onRequest\" xlink:href=\"psysml:5a5926b8-11d9-4284-b6a0-db32c9e29bb2\" xlink:show=\"new\" xlink:title=\"psysml:5a5926b8-11d9-4284-b6a0-db32c9e29bb2\" xlink:type=\"simple\"><path d=\"M94.73,99.96 C98.17,115.51 102.11,133.33 105.13,146.98 \" fill=\"none\" id=\"E5&lt;-E7\" style=\"stroke: #383838; stroke-width: 1.0;\"/><polygon fill=\"#383838\" points=\"91.88,87.06,89.2656,93.7805,94.4636,98.7786,97.078,92.0581,91.88,87.06\" style=\"stroke: #383838; stroke-width: 1.0;\"/><text fill=\"#000000\" font-family=\"sans-serif\" font-size=\"13\" lengthAdjust=\"spacingAndGlyphs\" textLength=\"8\" x=\"94.7462\" y=\"135.8709\">1</text></a><!--MD5=[583832df87f4419a098336a29a52fa00]\n",
       "link E7 to E2--><a href=\"psysml:dd540a25-2742-496a-aaa6-3ea5cc8a4940\" target=\"_top\" title=\"psysml:dd540a25-2742-496a-aaa6-3ea5cc8a4940\" xlink:actuate=\"onRequest\" xlink:href=\"psysml:dd540a25-2742-496a-aaa6-3ea5cc8a4940\" xlink:show=\"new\" xlink:title=\"psysml:dd540a25-2742-496a-aaa6-3ea5cc8a4940\" xlink:type=\"simple\"><path d=\"M110,193.06 C110,204.64 110,219.23 110,232.87 \" fill=\"none\" id=\"E7-&gt;E2\" style=\"stroke: #383838; stroke-width: 1.0;\"/><polygon fill=\"none\" points=\"117,232.98,110,252.98,103,232.98,117,232.98\" style=\"stroke: #383838; stroke-width: 1.0;\"/></a><!--MD5=[d6e00e1ca4f838f062a62503e018e7e9]\n",
       "@startuml\r\n",
       "skinparam linetype polyline\r\n",
       "skinparam monochrome true\r\n",
       "skinparam classbackgroundcolor white\r\n",
       "skinparam shadowing false\r\n",
       "skinparam wrapWidth 300\r\n",
       "hide circle\r\n",
       "\r\n",
       "package \"ConnectionTest\" as E1  [[psysml:58064a58-d13b-4f80-a6f6-0eceb966f2f7 ]]  {\r\n",
       "comp usage \"p\" as E2  <<(T,blue) part>> [[psysml:98bc980e-08bf-4c08-bf0e-335abb3c4ffd ]] {\r\n",
       "}\r\n",
       "comp usage \"x\" as E3  <<(T,blue) part>> [[psysml:c51e79ce-7cf1-4bdb-aba6-5cab2657d431 ]] {\r\n",
       "}\r\n",
       "comp usage \"x1\" as E4  <<(T,blue) part>> [[psysml:31f41755-661a-4a53-a2bb-f2dfc01c0edf ]] {\r\n",
       "}\r\n",
       "comp def \"P\" as E5  <<(T,blue) part def>> [[psysml:9833d686-e720-46bf-b438-35dbd29b7a16 ]] {\r\n",
       "}\r\n",
       "comp usage \"y\" as E6  <<(T,blue) part>> [[psysml:f96f9e94-0e28-4abd-b8cb-5d3679a708db ]] {\r\n",
       "}\r\n",
       "comp usage \"p1\" as E7  <<(T,blue) part>> [[psysml:2279d5a4-5f0e-43ce-88bf-f6ddb21c3f25 ]] {\r\n",
       "}\r\n",
       "}\r\n",
       "E2 *- - \"1\"E3 [[psysml:1ffc18c1-940f-43c3-a54c-dcf9b76281a6 ]] \r\n",
       "E3 *- - \"1\"E4 [[psysml:3d75ef33-b13b-4214-af18-b5d2941be4f9 ]] \r\n",
       "E5 *- - \"1\"E6 [[psysml:d68af8b5-54d9-4416-b26b-1e36c98f2c99 ]] \r\n",
       "E2 -[thickness=3]- \"*\"E6 [[psysml:901b44a6-3b8d-4bea-9e51-ad40652cd7ff ]] \r\n",
       "E5 *- - \"1\"E7 [[psysml:5a5926b8-11d9-4284-b6a0-db32c9e29bb2 ]] \r\n",
       "E7 - -|> E2 [[psysml:dd540a25-2742-496a-aaa6-3ea5cc8a4940 ]] \r\n",
       "@enduml\r\n",
       "\n",
       "PlantUML version 1.2020.13(Sat Jun 13 12:26:38 UTC 2020)\n",
       "(EPL source distribution)\n",
       "Java Runtime: OpenJDK Runtime Environment\n",
       "JVM: OpenJDK 64-Bit Server VM\n",
       "Default Encoding: UTF-8\n",
       "Language: en\n",
       "Country: null\n",
       "--></g></svg>"
      ]
     },
     "execution_count": 9,
     "metadata": {},
     "output_type": "execute_result"
    }
   ],
   "source": [
    "%viz --style=\"POLYLINE\" --view=\"Default\" \"ConnectionTest\""
   ]
  },
  {
   "cell_type": "code",
   "execution_count": 10,
   "id": "e36507b2",
   "metadata": {
    "execution": {
     "iopub.execute_input": "2021-09-27T07:17:32.012198Z",
     "iopub.status.busy": "2021-09-27T07:17:32.011705Z",
     "iopub.status.idle": "2021-09-27T07:17:32.056943Z",
     "shell.execute_reply": "2021-09-27T07:17:32.055573Z"
    }
   },
   "outputs": [
    {
     "data": {
      "image/svg+xml": [
       "<?xml version=\"1.0\" encoding=\"UTF-8\" standalone=\"no\"?><svg xmlns=\"http://www.w3.org/2000/svg\" xmlns:xlink=\"http://www.w3.org/1999/xlink\" contentScriptType=\"application/ecmascript\" contentStyleType=\"text/css\" height=\"539px\" preserveAspectRatio=\"none\" style=\"width:189px;height:539px;\" version=\"1.1\" viewBox=\"0 0 189 539\" width=\"189px\" zoomAndPan=\"magnify\"><defs/><g><!--MD5=[fbc87193dbaf4d95561dea2c320d4a47]\n",
       "cluster E1--><a href=\"psysml:58064a58-d13b-4f80-a6f6-0eceb966f2f7\" target=\"_top\" title=\"psysml:58064a58-d13b-4f80-a6f6-0eceb966f2f7\" xlink:actuate=\"onRequest\" xlink:href=\"psysml:58064a58-d13b-4f80-a6f6-0eceb966f2f7\" xlink:show=\"new\" xlink:title=\"psysml:58064a58-d13b-4f80-a6f6-0eceb966f2f7\" xlink:type=\"simple\"><polygon fill=\"#FFFFFF\" points=\"16,6,133,6,140,28.2969,167,28.2969,167,527,16,527,16,6\" style=\"stroke: #000000; stroke-width: 1.5;\"/><line style=\"stroke: #000000; stroke-width: 1.5;\" x1=\"16\" x2=\"140\" y1=\"28.2969\" y2=\"28.2969\"/><text fill=\"#000000\" font-family=\"sans-serif\" font-size=\"14\" font-weight=\"bold\" lengthAdjust=\"spacingAndGlyphs\" textLength=\"111\" x=\"20\" y=\"20.9951\">ConnectionTest</text></a><!--MD5=[b4997ac47864f28c2f74865a473b2911]\n",
       "class E2--><a href=\"psysml:98bc980e-08bf-4c08-bf0e-335abb3c4ffd\" target=\"_top\" title=\"psysml:98bc980e-08bf-4c08-bf0e-335abb3c4ffd\" xlink:actuate=\"onRequest\" xlink:href=\"psysml:98bc980e-08bf-4c08-bf0e-335abb3c4ffd\" xlink:show=\"new\" xlink:title=\"psysml:98bc980e-08bf-4c08-bf0e-335abb3c4ffd\" xlink:type=\"simple\"><rect fill=\"#FFFFFF\" height=\"45.9375\" id=\"E2\" rx=\"10\" ry=\"10\" style=\"stroke: #383838; stroke-width: 1.5;\" width=\"42\" x=\"89\" y=\"253\"/><text fill=\"#000000\" font-family=\"sans-serif\" font-size=\"12\" font-style=\"italic\" lengthAdjust=\"spacingAndGlyphs\" textLength=\"40\" x=\"90\" y=\"269.1387\">«part»</text><text fill=\"#000000\" font-family=\"sans-serif\" font-size=\"12\" lengthAdjust=\"spacingAndGlyphs\" textLength=\"8\" x=\"106\" y=\"283.1074\">p</text><line style=\"stroke: #383838; stroke-width: 1.5;\" x1=\"90\" x2=\"130\" y1=\"290.9375\" y2=\"290.9375\"/></a><!--MD5=[09b614a08d8cba4a07c9adeb5e0fee81]\n",
       "class E3--><a href=\"psysml:c51e79ce-7cf1-4bdb-aba6-5cab2657d431\" target=\"_top\" title=\"psysml:c51e79ce-7cf1-4bdb-aba6-5cab2657d431\" xlink:actuate=\"onRequest\" xlink:href=\"psysml:c51e79ce-7cf1-4bdb-aba6-5cab2657d431\" xlink:show=\"new\" xlink:title=\"psysml:c51e79ce-7cf1-4bdb-aba6-5cab2657d431\" xlink:type=\"simple\"><rect fill=\"#FFFFFF\" height=\"45.9375\" id=\"E3\" rx=\"10\" ry=\"10\" style=\"stroke: #383838; stroke-width: 1.5;\" width=\"42\" x=\"109\" y=\"359\"/><text fill=\"#000000\" font-family=\"sans-serif\" font-size=\"12\" font-style=\"italic\" lengthAdjust=\"spacingAndGlyphs\" textLength=\"40\" x=\"110\" y=\"375.1387\">«part»</text><text fill=\"#000000\" font-family=\"sans-serif\" font-size=\"12\" lengthAdjust=\"spacingAndGlyphs\" textLength=\"6\" x=\"127\" y=\"389.1074\">x</text><line style=\"stroke: #383838; stroke-width: 1.5;\" x1=\"110\" x2=\"150\" y1=\"396.9375\" y2=\"396.9375\"/></a><!--MD5=[ebbe1d658d1005bcc118a6aa81145e00]\n",
       "class E4--><a href=\"psysml:31f41755-661a-4a53-a2bb-f2dfc01c0edf\" target=\"_top\" title=\"psysml:31f41755-661a-4a53-a2bb-f2dfc01c0edf\" xlink:actuate=\"onRequest\" xlink:href=\"psysml:31f41755-661a-4a53-a2bb-f2dfc01c0edf\" xlink:show=\"new\" xlink:title=\"psysml:31f41755-661a-4a53-a2bb-f2dfc01c0edf\" xlink:type=\"simple\"><rect fill=\"#FFFFFF\" height=\"45.9375\" id=\"E4\" rx=\"10\" ry=\"10\" style=\"stroke: #383838; stroke-width: 1.5;\" width=\"42\" x=\"109\" y=\"465\"/><text fill=\"#000000\" font-family=\"sans-serif\" font-size=\"12\" font-style=\"italic\" lengthAdjust=\"spacingAndGlyphs\" textLength=\"40\" x=\"110\" y=\"481.1387\">«part»</text><text fill=\"#000000\" font-family=\"sans-serif\" font-size=\"12\" lengthAdjust=\"spacingAndGlyphs\" textLength=\"14\" x=\"123\" y=\"495.1074\">x1</text><line style=\"stroke: #383838; stroke-width: 1.5;\" x1=\"110\" x2=\"150\" y1=\"502.9375\" y2=\"502.9375\"/></a><!--MD5=[270fce915f116d4de14055a7c1d9a0f3]\n",
       "class E5--><a href=\"psysml:9833d686-e720-46bf-b438-35dbd29b7a16\" target=\"_top\" title=\"psysml:9833d686-e720-46bf-b438-35dbd29b7a16\" xlink:actuate=\"onRequest\" xlink:href=\"psysml:9833d686-e720-46bf-b438-35dbd29b7a16\" xlink:show=\"new\" xlink:title=\"psysml:9833d686-e720-46bf-b438-35dbd29b7a16\" xlink:type=\"simple\"><rect fill=\"#FFFFFF\" height=\"45.9375\" id=\"E5\" style=\"stroke: #383838; stroke-width: 1.5;\" width=\"66\" x=\"54\" y=\"41\"/><text fill=\"#000000\" font-family=\"sans-serif\" font-size=\"12\" font-style=\"italic\" lengthAdjust=\"spacingAndGlyphs\" textLength=\"64\" x=\"55\" y=\"57.1387\">«part def»</text><text fill=\"#000000\" font-family=\"sans-serif\" font-size=\"12\" lengthAdjust=\"spacingAndGlyphs\" textLength=\"8\" x=\"83\" y=\"71.1074\">P</text><line style=\"stroke: #383838; stroke-width: 1.5;\" x1=\"55\" x2=\"119\" y1=\"78.9375\" y2=\"78.9375\"/></a><!--MD5=[60a26617385b1d2d0262a64233df1f8d]\n",
       "class E6--><a href=\"psysml:f96f9e94-0e28-4abd-b8cb-5d3679a708db\" target=\"_top\" title=\"psysml:f96f9e94-0e28-4abd-b8cb-5d3679a708db\" xlink:actuate=\"onRequest\" xlink:href=\"psysml:f96f9e94-0e28-4abd-b8cb-5d3679a708db\" xlink:show=\"new\" xlink:title=\"psysml:f96f9e94-0e28-4abd-b8cb-5d3679a708db\" xlink:type=\"simple\"><rect fill=\"#FFFFFF\" height=\"45.9375\" id=\"E6\" rx=\"10\" ry=\"10\" style=\"stroke: #383838; stroke-width: 1.5;\" width=\"42\" x=\"32\" y=\"359\"/><text fill=\"#000000\" font-family=\"sans-serif\" font-size=\"12\" font-style=\"italic\" lengthAdjust=\"spacingAndGlyphs\" textLength=\"40\" x=\"33\" y=\"375.1387\">«part»</text><text fill=\"#000000\" font-family=\"sans-serif\" font-size=\"12\" lengthAdjust=\"spacingAndGlyphs\" textLength=\"6\" x=\"50\" y=\"389.1074\">y</text><line style=\"stroke: #383838; stroke-width: 1.5;\" x1=\"33\" x2=\"73\" y1=\"396.9375\" y2=\"396.9375\"/></a><!--MD5=[2156ba9850f5573cc1fc38a6a4b2f02b]\n",
       "class E7--><a href=\"psysml:2279d5a4-5f0e-43ce-88bf-f6ddb21c3f25\" target=\"_top\" title=\"psysml:2279d5a4-5f0e-43ce-88bf-f6ddb21c3f25\" xlink:actuate=\"onRequest\" xlink:href=\"psysml:2279d5a4-5f0e-43ce-88bf-f6ddb21c3f25\" xlink:show=\"new\" xlink:title=\"psysml:2279d5a4-5f0e-43ce-88bf-f6ddb21c3f25\" xlink:type=\"simple\"><rect fill=\"#FFFFFF\" height=\"45.9375\" id=\"E7\" rx=\"10\" ry=\"10\" style=\"stroke: #383838; stroke-width: 1.5;\" width=\"42\" x=\"89\" y=\"147\"/><text fill=\"#000000\" font-family=\"sans-serif\" font-size=\"12\" font-style=\"italic\" lengthAdjust=\"spacingAndGlyphs\" textLength=\"40\" x=\"90\" y=\"163.1387\">«part»</text><text fill=\"#000000\" font-family=\"sans-serif\" font-size=\"12\" lengthAdjust=\"spacingAndGlyphs\" textLength=\"16\" x=\"102\" y=\"177.1074\">p1</text><line style=\"stroke: #383838; stroke-width: 1.5;\" x1=\"90\" x2=\"130\" y1=\"184.9375\" y2=\"184.9375\"/></a><!--MD5=[209b3feb70ccb6233bfe1053d122c12c]\n",
       "reverse link E2 to E3--><a href=\"psysml:1ffc18c1-940f-43c3-a54c-dcf9b76281a6\" target=\"_top\" title=\"psysml:1ffc18c1-940f-43c3-a54c-dcf9b76281a6\" xlink:actuate=\"onRequest\" xlink:href=\"psysml:1ffc18c1-940f-43c3-a54c-dcf9b76281a6\" xlink:show=\"new\" xlink:title=\"psysml:1ffc18c1-940f-43c3-a54c-dcf9b76281a6\" xlink:type=\"simple\"><path d=\"M116.72,311.96 C119.71,327.51 123.14,345.33 125.76,358.98 \" fill=\"none\" id=\"E2&lt;-E3\" style=\"stroke: #383838; stroke-width: 1.0;\"/><polygon fill=\"#383838\" points=\"114.24,299.06,111.447,305.7082,116.5096,310.8434,119.3026,304.1952,114.24,299.06\" style=\"stroke: #383838; stroke-width: 1.0;\"/><text fill=\"#000000\" font-family=\"sans-serif\" font-size=\"13\" lengthAdjust=\"spacingAndGlyphs\" textLength=\"8\" x=\"115.5455\" y=\"347.8709\">1</text></a><!--MD5=[4672eba38e49728da53d11aeb285b987]\n",
       "reverse link E3 to E4--><a href=\"psysml:3d75ef33-b13b-4214-af18-b5d2941be4f9\" target=\"_top\" title=\"psysml:3d75ef33-b13b-4214-af18-b5d2941be4f9\" xlink:actuate=\"onRequest\" xlink:href=\"psysml:3d75ef33-b13b-4214-af18-b5d2941be4f9\" xlink:show=\"new\" xlink:title=\"psysml:3d75ef33-b13b-4214-af18-b5d2941be4f9\" xlink:type=\"simple\"><path d=\"M130,418.44 C130,433.87 130,451.47 130,464.98 \" fill=\"none\" id=\"E3&lt;-E4\" style=\"stroke: #383838; stroke-width: 1.0;\"/><polygon fill=\"#383838\" points=\"130,405.06,126,411.06,130,417.06,134,411.06,130,405.06\" style=\"stroke: #383838; stroke-width: 1.0;\"/><text fill=\"#000000\" font-family=\"sans-serif\" font-size=\"13\" lengthAdjust=\"spacingAndGlyphs\" textLength=\"8\" x=\"120.925\" y=\"453.8709\">1</text></a><!--MD5=[85d356282659285ab4b2cfe2f634dd2b]\n",
       "reverse link E5 to E6--><a href=\"psysml:d68af8b5-54d9-4416-b26b-1e36c98f2c99\" target=\"_top\" title=\"psysml:d68af8b5-54d9-4416-b26b-1e36c98f2c99\" xlink:actuate=\"onRequest\" xlink:href=\"psysml:d68af8b5-54d9-4416-b26b-1e36c98f2c99\" xlink:show=\"new\" xlink:title=\"psysml:d68af8b5-54d9-4416-b26b-1e36c98f2c99\" xlink:type=\"simple\"><path d=\"M80.53,100.36 C76.47,122.55 72,147 72,147 C72,147 59.52,300.73 54.79,358.99 \" fill=\"none\" id=\"E5&lt;-E6\" style=\"stroke: #383838; stroke-width: 1.0;\"/><polygon fill=\"#383838\" points=\"82.9,87.41,77.8897,92.5962,80.7499,99.2158,85.7602,94.0296,82.9,87.41\" style=\"stroke: #383838; stroke-width: 1.0;\"/><text fill=\"#000000\" font-family=\"sans-serif\" font-size=\"13\" lengthAdjust=\"spacingAndGlyphs\" textLength=\"8\" x=\"46.1961\" y=\"347.8836\">1</text></a><!--MD5=[e3e28c1befcf002155aa15e1416b4315]\n",
       "link E2 to E6--><a href=\"psysml:901b44a6-3b8d-4bea-9e51-ad40652cd7ff\" target=\"_top\" title=\"psysml:901b44a6-3b8d-4bea-9e51-ad40652cd7ff\" xlink:actuate=\"onRequest\" xlink:href=\"psysml:901b44a6-3b8d-4bea-9e51-ad40652cd7ff\" xlink:show=\"new\" xlink:title=\"psysml:901b44a6-3b8d-4bea-9e51-ad40652cd7ff\" xlink:type=\"simple\"><path d=\"M97.91,299.06 C88.24,316.7 74.74,341.34 65.07,358.98 \" fill=\"none\" id=\"E2-E6\" style=\"stroke: #383838; stroke-width: 3.0;\"/><text fill=\"#000000\" font-family=\"sans-serif\" font-size=\"13\" lengthAdjust=\"spacingAndGlyphs\" textLength=\"7\" x=\"60.3732\" y=\"347.8709\">*</text></a><!--MD5=[452b418e7f8a40397a49b8c0a78acc5b]\n",
       "reverse link E5 to E7--><a href=\"psysml:5a5926b8-11d9-4284-b6a0-db32c9e29bb2\" target=\"_top\" title=\"psysml:5a5926b8-11d9-4284-b6a0-db32c9e29bb2\" xlink:actuate=\"onRequest\" xlink:href=\"psysml:5a5926b8-11d9-4284-b6a0-db32c9e29bb2\" xlink:show=\"new\" xlink:title=\"psysml:5a5926b8-11d9-4284-b6a0-db32c9e29bb2\" xlink:type=\"simple\"><path d=\"M94.73,99.96 C98.17,115.51 102.11,133.33 105.13,146.98 \" fill=\"none\" id=\"E5&lt;-E7\" style=\"stroke: #383838; stroke-width: 1.0;\"/><polygon fill=\"#383838\" points=\"91.88,87.06,89.2656,93.7805,94.4636,98.7786,97.078,92.0581,91.88,87.06\" style=\"stroke: #383838; stroke-width: 1.0;\"/><text fill=\"#000000\" font-family=\"sans-serif\" font-size=\"13\" lengthAdjust=\"spacingAndGlyphs\" textLength=\"8\" x=\"94.7462\" y=\"135.8709\">1</text></a><!--MD5=[583832df87f4419a098336a29a52fa00]\n",
       "link E7 to E2--><a href=\"psysml:dd540a25-2742-496a-aaa6-3ea5cc8a4940\" target=\"_top\" title=\"psysml:dd540a25-2742-496a-aaa6-3ea5cc8a4940\" xlink:actuate=\"onRequest\" xlink:href=\"psysml:dd540a25-2742-496a-aaa6-3ea5cc8a4940\" xlink:show=\"new\" xlink:title=\"psysml:dd540a25-2742-496a-aaa6-3ea5cc8a4940\" xlink:type=\"simple\"><path d=\"M110,193.06 C110,204.64 110,219.23 110,232.87 \" fill=\"none\" id=\"E7-&gt;E2\" style=\"stroke: #383838; stroke-width: 1.0;\"/><polygon fill=\"none\" points=\"117,232.98,110,252.98,103,232.98,117,232.98\" style=\"stroke: #383838; stroke-width: 1.0;\"/></a><!--MD5=[d6e00e1ca4f838f062a62503e018e7e9]\n",
       "@startuml\r\n",
       "skinparam linetype polyline\r\n",
       "skinparam monochrome true\r\n",
       "skinparam classbackgroundcolor white\r\n",
       "skinparam shadowing false\r\n",
       "skinparam wrapWidth 300\r\n",
       "hide circle\r\n",
       "\r\n",
       "package \"ConnectionTest\" as E1  [[psysml:58064a58-d13b-4f80-a6f6-0eceb966f2f7 ]]  {\r\n",
       "comp usage \"p\" as E2  <<(T,blue) part>> [[psysml:98bc980e-08bf-4c08-bf0e-335abb3c4ffd ]] {\r\n",
       "}\r\n",
       "comp usage \"x\" as E3  <<(T,blue) part>> [[psysml:c51e79ce-7cf1-4bdb-aba6-5cab2657d431 ]] {\r\n",
       "}\r\n",
       "comp usage \"x1\" as E4  <<(T,blue) part>> [[psysml:31f41755-661a-4a53-a2bb-f2dfc01c0edf ]] {\r\n",
       "}\r\n",
       "comp def \"P\" as E5  <<(T,blue) part def>> [[psysml:9833d686-e720-46bf-b438-35dbd29b7a16 ]] {\r\n",
       "}\r\n",
       "comp usage \"y\" as E6  <<(T,blue) part>> [[psysml:f96f9e94-0e28-4abd-b8cb-5d3679a708db ]] {\r\n",
       "}\r\n",
       "comp usage \"p1\" as E7  <<(T,blue) part>> [[psysml:2279d5a4-5f0e-43ce-88bf-f6ddb21c3f25 ]] {\r\n",
       "}\r\n",
       "}\r\n",
       "E2 *- - \"1\"E3 [[psysml:1ffc18c1-940f-43c3-a54c-dcf9b76281a6 ]] \r\n",
       "E3 *- - \"1\"E4 [[psysml:3d75ef33-b13b-4214-af18-b5d2941be4f9 ]] \r\n",
       "E5 *- - \"1\"E6 [[psysml:d68af8b5-54d9-4416-b26b-1e36c98f2c99 ]] \r\n",
       "E2 -[thickness=3]- \"*\"E6 [[psysml:901b44a6-3b8d-4bea-9e51-ad40652cd7ff ]] \r\n",
       "E5 *- - \"1\"E7 [[psysml:5a5926b8-11d9-4284-b6a0-db32c9e29bb2 ]] \r\n",
       "E7 - -|> E2 [[psysml:dd540a25-2742-496a-aaa6-3ea5cc8a4940 ]] \r\n",
       "@enduml\r\n",
       "\n",
       "PlantUML version 1.2020.13(Sat Jun 13 12:26:38 UTC 2020)\n",
       "(EPL source distribution)\n",
       "Java Runtime: OpenJDK Runtime Environment\n",
       "JVM: OpenJDK 64-Bit Server VM\n",
       "Default Encoding: UTF-8\n",
       "Language: en\n",
       "Country: null\n",
       "--></g></svg>"
      ]
     },
     "execution_count": 10,
     "metadata": {},
     "output_type": "execute_result"
    }
   ],
   "source": [
    "%viz --style=\"POLYLINE\" --view=\"Tree\" \"ConnectionTest\""
   ]
  },
  {
   "cell_type": "code",
   "execution_count": 11,
   "id": "8ded1978",
   "metadata": {
    "execution": {
     "iopub.execute_input": "2021-09-27T07:17:32.106125Z",
     "iopub.status.busy": "2021-09-27T07:17:32.105687Z",
     "iopub.status.idle": "2021-09-27T07:17:32.111197Z",
     "shell.execute_reply": "2021-09-27T07:17:32.111517Z"
    }
   },
   "outputs": [
    {
     "data": {
      "image/svg+xml": [
       "<?xml version=\"1.0\" encoding=\"UTF-8\" standalone=\"no\"?><svg xmlns=\"http://www.w3.org/2000/svg\" xmlns:xlink=\"http://www.w3.org/1999/xlink\" contentScriptType=\"application/ecmascript\" contentStyleType=\"text/css\" height=\"12px\" preserveAspectRatio=\"none\" style=\"width:12px;height:12px;\" version=\"1.1\" viewBox=\"0 0 12 12\" width=\"12px\" zoomAndPan=\"magnify\"><defs/><g><!--MD5=[896ac0e7a515d8dd7765a661cb4ee08b]\n",
       "@startuml\r\n",
       "skinparam linetype polyline\r\n",
       "skinparam monochrome true\r\n",
       "skinparam classbackgroundcolor white\r\n",
       "skinparam shadowing false\r\n",
       "skinparam wrapWidth 300\r\n",
       "hide circle\r\n",
       "\r\n",
       "@enduml\r\n",
       "\n",
       "PlantUML version 1.2020.13(Sat Jun 13 12:26:38 UTC 2020)\n",
       "(EPL source distribution)\n",
       "Java Runtime: OpenJDK Runtime Environment\n",
       "JVM: OpenJDK 64-Bit Server VM\n",
       "Default Encoding: UTF-8\n",
       "Language: en\n",
       "Country: null\n",
       "--></g></svg>"
      ]
     },
     "execution_count": 11,
     "metadata": {},
     "output_type": "execute_result"
    }
   ],
   "source": [
    "%viz --style=\"POLYLINE\" --view=\"State\" \"ConnectionTest\""
   ]
  },
  {
   "cell_type": "code",
   "execution_count": 12,
   "id": "69422347",
   "metadata": {
    "execution": {
     "iopub.execute_input": "2021-09-27T07:17:32.161862Z",
     "iopub.status.busy": "2021-09-27T07:17:32.161441Z",
     "iopub.status.idle": "2021-09-27T07:17:32.217664Z",
     "shell.execute_reply": "2021-09-27T07:17:32.217297Z"
    }
   },
   "outputs": [
    {
     "data": {
      "image/svg+xml": [
       "<?xml version=\"1.0\" encoding=\"UTF-8\" standalone=\"no\"?><svg xmlns=\"http://www.w3.org/2000/svg\" xmlns:xlink=\"http://www.w3.org/1999/xlink\" contentScriptType=\"application/ecmascript\" contentStyleType=\"text/css\" height=\"406px\" preserveAspectRatio=\"none\" style=\"width:509px;height:406px;\" version=\"1.1\" viewBox=\"0 0 509 406\" width=\"509px\" zoomAndPan=\"magnify\"><defs/><g><!--MD5=[fbc87193dbaf4d95561dea2c320d4a47]\n",
       "cluster E1--><a href=\"psysml:58064a58-d13b-4f80-a6f6-0eceb966f2f7\" target=\"_top\" title=\"psysml:58064a58-d13b-4f80-a6f6-0eceb966f2f7\" xlink:actuate=\"onRequest\" xlink:href=\"psysml:58064a58-d13b-4f80-a6f6-0eceb966f2f7\" xlink:show=\"new\" xlink:title=\"psysml:58064a58-d13b-4f80-a6f6-0eceb966f2f7\" xlink:type=\"simple\"><polygon fill=\"#FFFFFF\" points=\"16,6,133,6,140,28.2969,487,28.2969,487,394,16,394,16,6\" style=\"stroke: #000000; stroke-width: 1.5;\"/><line style=\"stroke: #000000; stroke-width: 1.5;\" x1=\"16\" x2=\"140\" y1=\"28.2969\" y2=\"28.2969\"/><text fill=\"#000000\" font-family=\"sans-serif\" font-size=\"14\" font-weight=\"bold\" lengthAdjust=\"spacingAndGlyphs\" textLength=\"111\" x=\"20\" y=\"20.9951\">ConnectionTest</text></a><!--MD5=[e4f7fae6ed58524ba242bb0b0d3be6b7]\n",
       "cluster E2--><a href=\"psysml:98bc980e-08bf-4c08-bf0e-335abb3c4ffd\" target=\"_top\" title=\"psysml:98bc980e-08bf-4c08-bf0e-335abb3c4ffd\" xlink:actuate=\"onRequest\" xlink:href=\"psysml:98bc980e-08bf-4c08-bf0e-335abb3c4ffd\" xlink:show=\"new\" xlink:title=\"psysml:98bc980e-08bf-4c08-bf0e-335abb3c4ffd\" xlink:type=\"simple\"><rect fill=\"#FFFFFF\" height=\"174\" id=\"E2\" rx=\"10\" ry=\"10\" style=\"stroke: #383838; stroke-width: 1.5;\" width=\"154\" x=\"301\" y=\"116\"/><rect fill=\"#F8F8F8\" height=\"23.9688\" rx=\"10\" ry=\"10\" style=\"stroke: #F8F8F8; stroke-width: 1.5;\" width=\"154\" x=\"301\" y=\"116\"/><rect fill=\"#F8F8F8\" height=\"10\" style=\"stroke: #F8F8F8; stroke-width: 1.5;\" width=\"154\" x=\"301\" y=\"129.9688\"/><rect fill=\"none\" height=\"174\" id=\"E2\" rx=\"10\" ry=\"10\" style=\"stroke: #383838; stroke-width: 1.5;\" width=\"154\" x=\"301\" y=\"116\"/><text fill=\"#000000\" font-family=\"sans-serif\" font-size=\"12\" lengthAdjust=\"spacingAndGlyphs\" textLength=\"8\" x=\"374\" y=\"132.1387\">p</text><line style=\"stroke: #383838; stroke-width: 1.0;\" x1=\"301\" x2=\"455\" y1=\"139.9688\" y2=\"139.9688\"/></a><!--MD5=[d5e69f78d87373223dbae638b30a9c99]\n",
       "cluster E3--><a href=\"psysml:c51e79ce-7cf1-4bdb-aba6-5cab2657d431\" target=\"_top\" title=\"psysml:c51e79ce-7cf1-4bdb-aba6-5cab2657d431\" xlink:actuate=\"onRequest\" xlink:href=\"psysml:c51e79ce-7cf1-4bdb-aba6-5cab2657d431\" xlink:show=\"new\" xlink:title=\"psysml:c51e79ce-7cf1-4bdb-aba6-5cab2657d431\" xlink:type=\"simple\"><rect fill=\"#FFFFFF\" height=\"91\" id=\"E3\" rx=\"10\" ry=\"10\" style=\"stroke: #383838; stroke-width: 1.5;\" width=\"82\" x=\"341\" y=\"167\"/><rect fill=\"#F8F8F8\" height=\"23.9688\" rx=\"10\" ry=\"10\" style=\"stroke: #F8F8F8; stroke-width: 1.5;\" width=\"82\" x=\"341\" y=\"167\"/><rect fill=\"#F8F8F8\" height=\"10\" style=\"stroke: #F8F8F8; stroke-width: 1.5;\" width=\"82\" x=\"341\" y=\"180.9688\"/><rect fill=\"none\" height=\"91\" id=\"E3\" rx=\"10\" ry=\"10\" style=\"stroke: #383838; stroke-width: 1.5;\" width=\"82\" x=\"341\" y=\"167\"/><text fill=\"#000000\" font-family=\"sans-serif\" font-size=\"12\" lengthAdjust=\"spacingAndGlyphs\" textLength=\"6\" x=\"379\" y=\"183.1387\">x</text><line style=\"stroke: #383838; stroke-width: 1.0;\" x1=\"341\" x2=\"423\" y1=\"190.9688\" y2=\"190.9688\"/></a><!--MD5=[de5ec2e2e8f62f467e546659f5068c88]\n",
       "cluster E5--><a href=\"psysml:9833d686-e720-46bf-b438-35dbd29b7a16\" target=\"_top\" title=\"psysml:9833d686-e720-46bf-b438-35dbd29b7a16\" xlink:actuate=\"onRequest\" xlink:href=\"psysml:9833d686-e720-46bf-b438-35dbd29b7a16\" xlink:show=\"new\" xlink:title=\"psysml:9833d686-e720-46bf-b438-35dbd29b7a16\" xlink:type=\"simple\"><rect fill=\"#FFFFFF\" height=\"321\" id=\"E5\" style=\"stroke: #383838; stroke-width: 1.5;\" width=\"229\" x=\"40\" y=\"49\"/><rect fill=\"#F8F8F8\" height=\"37.9375\" style=\"stroke: #383838; stroke-width: 1.5;\" width=\"229\" x=\"40\" y=\"49\"/><text fill=\"#000000\" font-family=\"sans-serif\" font-size=\"12\" font-style=\"italic\" lengthAdjust=\"spacingAndGlyphs\" textLength=\"64\" x=\"122.5\" y=\"65.1387\">«part def»</text><text fill=\"#000000\" font-family=\"sans-serif\" font-size=\"12\" lengthAdjust=\"spacingAndGlyphs\" textLength=\"8\" x=\"150.5\" y=\"79.1074\">P</text></a><!--MD5=[168fadf3d0c3fd93dd5d6da1b1d7ab76]\n",
       "cluster E7--><a href=\"psysml:2279d5a4-5f0e-43ce-88bf-f6ddb21c3f25\" target=\"_top\" title=\"psysml:2279d5a4-5f0e-43ce-88bf-f6ddb21c3f25\" xlink:actuate=\"onRequest\" xlink:href=\"psysml:2279d5a4-5f0e-43ce-88bf-f6ddb21c3f25\" xlink:show=\"new\" xlink:title=\"psysml:2279d5a4-5f0e-43ce-88bf-f6ddb21c3f25\" xlink:type=\"simple\"><rect fill=\"#FFFFFF\" height=\"190\" id=\"E7\" rx=\"10\" ry=\"10\" style=\"stroke: #383838; stroke-width: 1.5;\" width=\"181\" x=\"64\" y=\"108\"/><rect fill=\"#F8F8F8\" height=\"23.9688\" rx=\"10\" ry=\"10\" style=\"stroke: #F8F8F8; stroke-width: 1.5;\" width=\"181\" x=\"64\" y=\"108\"/><rect fill=\"#F8F8F8\" height=\"10\" style=\"stroke: #F8F8F8; stroke-width: 1.5;\" width=\"181\" x=\"64\" y=\"121.9688\"/><rect fill=\"none\" height=\"190\" id=\"E7\" rx=\"10\" ry=\"10\" style=\"stroke: #383838; stroke-width: 1.5;\" width=\"181\" x=\"64\" y=\"108\"/><text fill=\"#000000\" font-family=\"sans-serif\" font-size=\"12\" lengthAdjust=\"spacingAndGlyphs\" textLength=\"16\" x=\"146.5\" y=\"124.1387\">p1</text><line style=\"stroke: #383838; stroke-width: 1.0;\" x1=\"64\" x2=\"245\" y1=\"131.9688\" y2=\"131.9688\"/></a><!--MD5=[55dfccfc6c49c2d10cd1bd2211a6c90c]\n",
       "cluster E8--><a href=\"psysml:c51e79ce-7cf1-4bdb-aba6-5cab2657d431\" target=\"_top\" title=\"psysml:c51e79ce-7cf1-4bdb-aba6-5cab2657d431\" xlink:actuate=\"onRequest\" xlink:href=\"psysml:c51e79ce-7cf1-4bdb-aba6-5cab2657d431\" xlink:show=\"new\" xlink:title=\"psysml:c51e79ce-7cf1-4bdb-aba6-5cab2657d431\" xlink:type=\"simple\"><rect fill=\"#FFFFFF\" height=\"107\" id=\"E8\" rx=\"10\" ry=\"10\" style=\"stroke: #383838; stroke-width: 1.5;\" width=\"117\" x=\"96\" y=\"159\"/><rect fill=\"#F8F8F8\" height=\"23.9688\" rx=\"10\" ry=\"10\" style=\"stroke: #F8F8F8; stroke-width: 1.5;\" width=\"117\" x=\"96\" y=\"159\"/><rect fill=\"#F8F8F8\" height=\"10\" style=\"stroke: #F8F8F8; stroke-width: 1.5;\" width=\"117\" x=\"96\" y=\"172.9688\"/><rect fill=\"none\" height=\"107\" id=\"E8\" rx=\"10\" ry=\"10\" style=\"stroke: #383838; stroke-width: 1.5;\" width=\"117\" x=\"96\" y=\"159\"/><text fill=\"#000000\" font-family=\"sans-serif\" font-size=\"12\" lengthAdjust=\"spacingAndGlyphs\" textLength=\"16\" x=\"146.5\" y=\"175.1387\">^x</text><line style=\"stroke: #383838; stroke-width: 1.0;\" x1=\"96\" x2=\"213\" y1=\"182.9688\" y2=\"182.9688\"/></a><g id=\"E1.E2.E3.E4\"><a href=\"psysml:31f41755-661a-4a53-a2bb-f2dfc01c0edf\" target=\"_top\" title=\"psysml:31f41755-661a-4a53-a2bb-f2dfc01c0edf\" xlink:actuate=\"onRequest\" xlink:href=\"psysml:31f41755-661a-4a53-a2bb-f2dfc01c0edf\" xlink:show=\"new\" xlink:title=\"psysml:31f41755-661a-4a53-a2bb-f2dfc01c0edf\" xlink:type=\"simple\"><rect fill=\"#FFFFFF\" height=\"40\" id=\"E4\" rx=\"10\" ry=\"10\" style=\"stroke: #383838; stroke-width: 1.5;\" width=\"50\" x=\"357\" y=\"202\"/><rect fill=\"#F8F8F8\" height=\"23.9688\" rx=\"10\" ry=\"10\" style=\"stroke: #F8F8F8; stroke-width: 1.5;\" width=\"50\" x=\"357\" y=\"202\"/><rect fill=\"#F8F8F8\" height=\"10\" style=\"stroke: #F8F8F8; stroke-width: 1.5;\" width=\"50\" x=\"357\" y=\"215.9688\"/><rect fill=\"none\" height=\"40\" id=\"E4\" rx=\"10\" ry=\"10\" style=\"stroke: #383838; stroke-width: 1.5;\" width=\"50\" x=\"357\" y=\"202\"/><text fill=\"#000000\" font-family=\"sans-serif\" font-size=\"12\" lengthAdjust=\"spacingAndGlyphs\" textLength=\"14\" x=\"375\" y=\"218.1387\">x1</text></a></g><g id=\"E1.E5.E6\"><a href=\"psysml:f96f9e94-0e28-4abd-b8cb-5d3679a708db\" target=\"_top\" title=\"psysml:f96f9e94-0e28-4abd-b8cb-5d3679a708db\" xlink:actuate=\"onRequest\" xlink:href=\"psysml:f96f9e94-0e28-4abd-b8cb-5d3679a708db\" xlink:show=\"new\" xlink:title=\"psysml:f96f9e94-0e28-4abd-b8cb-5d3679a708db\" xlink:type=\"simple\"><rect fill=\"#FFFFFF\" height=\"40\" id=\"E6\" rx=\"10\" ry=\"10\" style=\"stroke: #383838; stroke-width: 1.5;\" width=\"50\" x=\"139\" y=\"314\"/><rect fill=\"#F8F8F8\" height=\"23.9688\" rx=\"10\" ry=\"10\" style=\"stroke: #F8F8F8; stroke-width: 1.5;\" width=\"50\" x=\"139\" y=\"314\"/><rect fill=\"#F8F8F8\" height=\"10\" style=\"stroke: #F8F8F8; stroke-width: 1.5;\" width=\"50\" x=\"139\" y=\"327.9688\"/><rect fill=\"none\" height=\"40\" id=\"E6\" rx=\"10\" ry=\"10\" style=\"stroke: #383838; stroke-width: 1.5;\" width=\"50\" x=\"139\" y=\"314\"/><text fill=\"#000000\" font-family=\"sans-serif\" font-size=\"12\" lengthAdjust=\"spacingAndGlyphs\" textLength=\"6\" x=\"161\" y=\"330.1387\">y</text></a></g><g id=\"E1.E5.E7.E8.E9\"><a href=\"psysml:31f41755-661a-4a53-a2bb-f2dfc01c0edf\" target=\"_top\" title=\"psysml:31f41755-661a-4a53-a2bb-f2dfc01c0edf\" xlink:actuate=\"onRequest\" xlink:href=\"psysml:31f41755-661a-4a53-a2bb-f2dfc01c0edf\" xlink:show=\"new\" xlink:title=\"psysml:31f41755-661a-4a53-a2bb-f2dfc01c0edf\" xlink:type=\"simple\"><rect fill=\"#FFFFFF\" height=\"40\" id=\"E9\" rx=\"10\" ry=\"10\" style=\"stroke: #383838; stroke-width: 1.5;\" width=\"50\" x=\"139\" y=\"202\"/><rect fill=\"#F8F8F8\" height=\"23.9688\" rx=\"10\" ry=\"10\" style=\"stroke: #F8F8F8; stroke-width: 1.5;\" width=\"50\" x=\"139\" y=\"202\"/><rect fill=\"#F8F8F8\" height=\"10\" style=\"stroke: #F8F8F8; stroke-width: 1.5;\" width=\"50\" x=\"139\" y=\"215.9688\"/><rect fill=\"none\" height=\"40\" id=\"E9\" rx=\"10\" ry=\"10\" style=\"stroke: #383838; stroke-width: 1.5;\" width=\"50\" x=\"139\" y=\"202\"/><text fill=\"#000000\" font-family=\"sans-serif\" font-size=\"12\" lengthAdjust=\"spacingAndGlyphs\" textLength=\"14\" x=\"157\" y=\"218.1387\">x1</text></a></g><!--MD5=[e3e28c1befcf002155aa15e1416b4315]\n",
       "link E2 to E6--><a href=\"psysml:901b44a6-3b8d-4bea-9e51-ad40652cd7ff\" target=\"_top\" title=\"psysml:901b44a6-3b8d-4bea-9e51-ad40652cd7ff\" xlink:actuate=\"onRequest\" xlink:href=\"psysml:901b44a6-3b8d-4bea-9e51-ad40652cd7ff\" xlink:show=\"new\" xlink:title=\"psysml:901b44a6-3b8d-4bea-9e51-ad40652cd7ff\" xlink:type=\"simple\"><path d=\"M300.713,229.6114 C300.5985,229.7029 300.4829,229.7951 300.3664,229.8881 C300.1333,230.0742 299.8962,230.2634 299.6552,230.4557 C299.1733,230.8404 298.6759,231.2374 298.1637,231.6462 C296.115,233.2814 293.8302,235.105 291.3578,237.0783 C281.4681,244.9716 268.5763,255.2606 255.7825,265.4712 C230.195,285.8925 205,306 205,306 C205,306 197.7,310.81 189.27,316.36 \" fill=\"none\" id=\"E2-E6\" style=\"stroke: #383838; stroke-width: 3.0;\"/><text fill=\"#000000\" font-family=\"sans-serif\" font-size=\"13\" lengthAdjust=\"spacingAndGlyphs\" textLength=\"7\" x=\"197.0019\" y=\"306.6884\">*</text></a><!--MD5=[c5e8897d989ce984f93528998a7150fe]\n",
       "link E8 to E6--><a href=\"psysml:b9509daa-923d-4932-b597-51fbb4fcb62c\" target=\"_top\" title=\"psysml:b9509daa-923d-4932-b597-51fbb4fcb62c\" xlink:actuate=\"onRequest\" xlink:href=\"psysml:b9509daa-923d-4932-b597-51fbb4fcb62c\" xlink:show=\"new\" xlink:title=\"psysml:b9509daa-923d-4932-b597-51fbb4fcb62c\" xlink:type=\"simple\"><path d=\"M113.9416,266.4282 C114.0146,266.747 114.0875,267.0657 114.1604,267.3842 C114.3062,268.0212 114.4518,268.6572 114.5971,269.2917 C114.8876,270.5608 115.1767,271.8238 115.4634,273.0759 C116.0366,275.58 116.5999,278.0407 117.1444,280.4191 C118.2333,285.1759 119.2469,289.6038 120.1144,293.3936 C121.8494,300.9731 123,306 123,306 C123,306 130.3,310.81 138.73,316.36 \" fill=\"none\" id=\"E8-E6\" style=\"stroke: #383838; stroke-width: 3.0;\"/><text fill=\"#000000\" font-family=\"sans-serif\" font-size=\"13\" lengthAdjust=\"spacingAndGlyphs\" textLength=\"7\" x=\"123.9981\" y=\"306.6884\">*</text></a><!--MD5=[60ac2c0cde89d4308155b0484e57a8ec]\n",
       "link E9 to E6--><a href=\"psysml:c683e43b-7fd5-4334-8447-643be8454737\" target=\"_top\" title=\"psysml:c683e43b-7fd5-4334-8447-643be8454737\" xlink:actuate=\"onRequest\" xlink:href=\"psysml:c683e43b-7fd5-4334-8447-643be8454737\" xlink:show=\"new\" xlink:title=\"psysml:c683e43b-7fd5-4334-8447-643be8454737\" xlink:type=\"simple\"><path d=\"M164,242.16 C164,262.23 164,293.57 164,313.69 \" fill=\"none\" id=\"E9-E6\" style=\"stroke: #383838; stroke-width: 3.0;\"/><text fill=\"#000000\" font-family=\"sans-serif\" font-size=\"13\" lengthAdjust=\"spacingAndGlyphs\" textLength=\"7\" x=\"156.0156\" y=\"302.954\">*</text></a><!--MD5=[e97085b027af72a0235dea7e8aac2966]\n",
       "@startuml\r\n",
       "skinparam ranksep 10\r\n",
       "skinparam rectangle {\r\n",
       " backgroundColor<<block>> LightGreen\r\n",
       "}\r\n",
       "skinparam linetype polyline\r\n",
       "skinparam monochrome true\r\n",
       "skinparam classbackgroundcolor white\r\n",
       "skinparam shadowing false\r\n",
       "skinparam wrapWidth 300\r\n",
       "hide circle\r\n",
       "\r\n",
       "package \"ConnectionTest\" as E1  [[psysml:58064a58-d13b-4f80-a6f6-0eceb966f2f7 ]]  {\r\n",
       "rec usage \"p\" as E2  [[psysml:98bc980e-08bf-4c08-bf0e-335abb3c4ffd ]] {\r\n",
       "rec usage \"x\" as E3  [[psysml:c51e79ce-7cf1-4bdb-aba6-5cab2657d431 ]] {\r\n",
       "rec usage \"x1\" as E4  [[psysml:31f41755-661a-4a53-a2bb-f2dfc01c0edf ]] {\r\n",
       "}\r\n",
       "}\r\n",
       "}\r\n",
       "rec def \"P\" as E5  <<(T,blue) part def>> [[psysml:9833d686-e720-46bf-b438-35dbd29b7a16 ]] {\r\n",
       "rec usage \"y\" as E6  [[psysml:f96f9e94-0e28-4abd-b8cb-5d3679a708db ]] {\r\n",
       "}\r\n",
       "rec usage \"p1\" as E7  [[psysml:2279d5a4-5f0e-43ce-88bf-f6ddb21c3f25 ]] {\r\n",
       "rec usage \"^x\" as E8  [[psysml:c51e79ce-7cf1-4bdb-aba6-5cab2657d431 ]] {\r\n",
       "rec usage \"x1\" as E9  [[psysml:31f41755-661a-4a53-a2bb-f2dfc01c0edf ]] {\r\n",
       "}\r\n",
       "}\r\n",
       "}\r\n",
       "}\r\n",
       "}\r\n",
       "E2 -[thickness=3]- \"*\"E6 [[psysml:901b44a6-3b8d-4bea-9e51-ad40652cd7ff ]] \r\n",
       "E8 -[thickness=3]- \"*\"E6 [[psysml:b9509daa-923d-4932-b597-51fbb4fcb62c ]] \r\n",
       "E9 -[thickness=3]- \"*\"E6 [[psysml:c683e43b-7fd5-4334-8447-643be8454737 ]] \r\n",
       "@enduml\r\n",
       "\n",
       "PlantUML version 1.2020.13(Sat Jun 13 12:26:38 UTC 2020)\n",
       "(EPL source distribution)\n",
       "Java Runtime: OpenJDK Runtime Environment\n",
       "JVM: OpenJDK 64-Bit Server VM\n",
       "Default Encoding: UTF-8\n",
       "Language: en\n",
       "Country: null\n",
       "--></g></svg>"
      ]
     },
     "execution_count": 12,
     "metadata": {},
     "output_type": "execute_result"
    }
   ],
   "source": [
    "%viz --style=\"POLYLINE\" --view=\"Interconnection\" \"ConnectionTest\""
   ]
  },
  {
   "cell_type": "code",
   "execution_count": 13,
   "id": "73925d00",
   "metadata": {
    "execution": {
     "iopub.execute_input": "2021-09-27T07:17:32.267538Z",
     "iopub.status.busy": "2021-09-27T07:17:32.267135Z",
     "iopub.status.idle": "2021-09-27T07:17:32.273138Z",
     "shell.execute_reply": "2021-09-27T07:17:32.273453Z"
    }
   },
   "outputs": [
    {
     "data": {
      "image/svg+xml": [
       "<?xml version=\"1.0\" encoding=\"UTF-8\" standalone=\"no\"?><svg xmlns=\"http://www.w3.org/2000/svg\" xmlns:xlink=\"http://www.w3.org/1999/xlink\" contentScriptType=\"application/ecmascript\" contentStyleType=\"text/css\" height=\"12px\" preserveAspectRatio=\"none\" style=\"width:12px;height:12px;\" version=\"1.1\" viewBox=\"0 0 12 12\" width=\"12px\" zoomAndPan=\"magnify\"><defs/><g><!--MD5=[97bbf32f66ccd50cbc40d92ea8f5a65e]\n",
       "@startuml\r\n",
       "skinparam ranksep 8\r\n",
       "skinparam linetype polyline\r\n",
       "skinparam monochrome true\r\n",
       "skinparam classbackgroundcolor white\r\n",
       "skinparam shadowing false\r\n",
       "skinparam wrapWidth 300\r\n",
       "hide circle\r\n",
       "\r\n",
       "@enduml\r\n",
       "\n",
       "PlantUML version 1.2020.13(Sat Jun 13 12:26:38 UTC 2020)\n",
       "(EPL source distribution)\n",
       "Java Runtime: OpenJDK Runtime Environment\n",
       "JVM: OpenJDK 64-Bit Server VM\n",
       "Default Encoding: UTF-8\n",
       "Language: en\n",
       "Country: null\n",
       "--></g></svg>"
      ]
     },
     "execution_count": 13,
     "metadata": {},
     "output_type": "execute_result"
    }
   ],
   "source": [
    "%viz --style=\"POLYLINE\" --view=\"Action\" \"ConnectionTest\""
   ]
  },
  {
   "cell_type": "code",
   "execution_count": 14,
   "id": "1ddbc3b5",
   "metadata": {
    "execution": {
     "iopub.execute_input": "2021-09-27T07:17:32.323807Z",
     "iopub.status.busy": "2021-09-27T07:17:32.323386Z",
     "iopub.status.idle": "2021-09-27T07:17:32.329961Z",
     "shell.execute_reply": "2021-09-27T07:17:32.330281Z"
    }
   },
   "outputs": [
    {
     "data": {
      "image/svg+xml": [
       "<?xml version=\"1.0\" encoding=\"UTF-8\" standalone=\"no\"?><svg xmlns=\"http://www.w3.org/2000/svg\" xmlns:xlink=\"http://www.w3.org/1999/xlink\" contentScriptType=\"application/ecmascript\" contentStyleType=\"text/css\" height=\"12px\" preserveAspectRatio=\"none\" style=\"width:12px;height:12px;\" version=\"1.1\" viewBox=\"0 0 12 12\" width=\"12px\" zoomAndPan=\"magnify\"><defs/><g><!--MD5=[dc938048236c351797870c36b62f92ad]\n",
       "@startuml\r\n",
       "skinparam roundcorner 20\r\n",
       "skinparam BoxPadding 20\r\n",
       "skinparam SequenceBoxBackgroundColor #white\r\n",
       "skinparam style strictuml\r\n",
       "skinparam maxMessageSize 100\r\n",
       "skinparam linetype polyline\r\n",
       "skinparam monochrome true\r\n",
       "skinparam classbackgroundcolor white\r\n",
       "skinparam shadowing false\r\n",
       "skinparam wrapWidth 300\r\n",
       "hide circle\r\n",
       "\r\n",
       "@enduml\r\n",
       "\n",
       "PlantUML version 1.2020.13(Sat Jun 13 12:26:38 UTC 2020)\n",
       "(EPL source distribution)\n",
       "Java Runtime: OpenJDK Runtime Environment\n",
       "JVM: OpenJDK 64-Bit Server VM\n",
       "Default Encoding: UTF-8\n",
       "Language: en\n",
       "Country: null\n",
       "--></g></svg>"
      ]
     },
     "execution_count": 14,
     "metadata": {},
     "output_type": "execute_result"
    }
   ],
   "source": [
    "%viz --style=\"POLYLINE\" --view=\"Sequence\" \"ConnectionTest\""
   ]
  },
  {
   "cell_type": "code",
   "execution_count": 15,
   "id": "2595df1e",
   "metadata": {
    "execution": {
     "iopub.execute_input": "2021-09-27T07:17:32.380548Z",
     "iopub.status.busy": "2021-09-27T07:17:32.380145Z",
     "iopub.status.idle": "2021-09-27T07:17:32.425392Z",
     "shell.execute_reply": "2021-09-27T07:17:32.425027Z"
    }
   },
   "outputs": [
    {
     "data": {
      "image/svg+xml": [
       "<?xml version=\"1.0\" encoding=\"UTF-8\" standalone=\"no\"?><svg xmlns=\"http://www.w3.org/2000/svg\" xmlns:xlink=\"http://www.w3.org/1999/xlink\" contentScriptType=\"application/ecmascript\" contentStyleType=\"text/css\" height=\"539px\" preserveAspectRatio=\"none\" style=\"width:189px;height:539px;\" version=\"1.1\" viewBox=\"0 0 189 539\" width=\"189px\" zoomAndPan=\"magnify\"><defs/><g><!--MD5=[fbc87193dbaf4d95561dea2c320d4a47]\n",
       "cluster E1--><a href=\"psysml:58064a58-d13b-4f80-a6f6-0eceb966f2f7\" target=\"_top\" title=\"psysml:58064a58-d13b-4f80-a6f6-0eceb966f2f7\" xlink:actuate=\"onRequest\" xlink:href=\"psysml:58064a58-d13b-4f80-a6f6-0eceb966f2f7\" xlink:show=\"new\" xlink:title=\"psysml:58064a58-d13b-4f80-a6f6-0eceb966f2f7\" xlink:type=\"simple\"><polygon fill=\"#FFFFFF\" points=\"16,6,133,6,140,28.2969,167,28.2969,167,527,16,527,16,6\" style=\"stroke: #000000; stroke-width: 1.5;\"/><line style=\"stroke: #000000; stroke-width: 1.5;\" x1=\"16\" x2=\"140\" y1=\"28.2969\" y2=\"28.2969\"/><text fill=\"#000000\" font-family=\"sans-serif\" font-size=\"14\" font-weight=\"bold\" lengthAdjust=\"spacingAndGlyphs\" textLength=\"111\" x=\"20\" y=\"20.9951\">ConnectionTest</text></a><!--MD5=[b4997ac47864f28c2f74865a473b2911]\n",
       "class E2--><a href=\"psysml:98bc980e-08bf-4c08-bf0e-335abb3c4ffd\" target=\"_top\" title=\"psysml:98bc980e-08bf-4c08-bf0e-335abb3c4ffd\" xlink:actuate=\"onRequest\" xlink:href=\"psysml:98bc980e-08bf-4c08-bf0e-335abb3c4ffd\" xlink:show=\"new\" xlink:title=\"psysml:98bc980e-08bf-4c08-bf0e-335abb3c4ffd\" xlink:type=\"simple\"><rect fill=\"#FFFFFF\" height=\"45.9375\" id=\"E2\" rx=\"10\" ry=\"10\" style=\"stroke: #383838; stroke-width: 1.5;\" width=\"42\" x=\"89\" y=\"253\"/><text fill=\"#000000\" font-family=\"sans-serif\" font-size=\"12\" font-style=\"italic\" lengthAdjust=\"spacingAndGlyphs\" textLength=\"40\" x=\"90\" y=\"269.1387\">«part»</text><text fill=\"#000000\" font-family=\"sans-serif\" font-size=\"12\" lengthAdjust=\"spacingAndGlyphs\" textLength=\"8\" x=\"106\" y=\"283.1074\">p</text><line style=\"stroke: #383838; stroke-width: 1.5;\" x1=\"90\" x2=\"130\" y1=\"290.9375\" y2=\"290.9375\"/></a><!--MD5=[09b614a08d8cba4a07c9adeb5e0fee81]\n",
       "class E3--><a href=\"psysml:c51e79ce-7cf1-4bdb-aba6-5cab2657d431\" target=\"_top\" title=\"psysml:c51e79ce-7cf1-4bdb-aba6-5cab2657d431\" xlink:actuate=\"onRequest\" xlink:href=\"psysml:c51e79ce-7cf1-4bdb-aba6-5cab2657d431\" xlink:show=\"new\" xlink:title=\"psysml:c51e79ce-7cf1-4bdb-aba6-5cab2657d431\" xlink:type=\"simple\"><rect fill=\"#FFFFFF\" height=\"45.9375\" id=\"E3\" rx=\"10\" ry=\"10\" style=\"stroke: #383838; stroke-width: 1.5;\" width=\"42\" x=\"109\" y=\"359\"/><text fill=\"#000000\" font-family=\"sans-serif\" font-size=\"12\" font-style=\"italic\" lengthAdjust=\"spacingAndGlyphs\" textLength=\"40\" x=\"110\" y=\"375.1387\">«part»</text><text fill=\"#000000\" font-family=\"sans-serif\" font-size=\"12\" lengthAdjust=\"spacingAndGlyphs\" textLength=\"6\" x=\"127\" y=\"389.1074\">x</text><line style=\"stroke: #383838; stroke-width: 1.5;\" x1=\"110\" x2=\"150\" y1=\"396.9375\" y2=\"396.9375\"/></a><!--MD5=[ebbe1d658d1005bcc118a6aa81145e00]\n",
       "class E4--><a href=\"psysml:31f41755-661a-4a53-a2bb-f2dfc01c0edf\" target=\"_top\" title=\"psysml:31f41755-661a-4a53-a2bb-f2dfc01c0edf\" xlink:actuate=\"onRequest\" xlink:href=\"psysml:31f41755-661a-4a53-a2bb-f2dfc01c0edf\" xlink:show=\"new\" xlink:title=\"psysml:31f41755-661a-4a53-a2bb-f2dfc01c0edf\" xlink:type=\"simple\"><rect fill=\"#FFFFFF\" height=\"45.9375\" id=\"E4\" rx=\"10\" ry=\"10\" style=\"stroke: #383838; stroke-width: 1.5;\" width=\"42\" x=\"109\" y=\"465\"/><text fill=\"#000000\" font-family=\"sans-serif\" font-size=\"12\" font-style=\"italic\" lengthAdjust=\"spacingAndGlyphs\" textLength=\"40\" x=\"110\" y=\"481.1387\">«part»</text><text fill=\"#000000\" font-family=\"sans-serif\" font-size=\"12\" lengthAdjust=\"spacingAndGlyphs\" textLength=\"14\" x=\"123\" y=\"495.1074\">x1</text><line style=\"stroke: #383838; stroke-width: 1.5;\" x1=\"110\" x2=\"150\" y1=\"502.9375\" y2=\"502.9375\"/></a><!--MD5=[270fce915f116d4de14055a7c1d9a0f3]\n",
       "class E5--><a href=\"psysml:9833d686-e720-46bf-b438-35dbd29b7a16\" target=\"_top\" title=\"psysml:9833d686-e720-46bf-b438-35dbd29b7a16\" xlink:actuate=\"onRequest\" xlink:href=\"psysml:9833d686-e720-46bf-b438-35dbd29b7a16\" xlink:show=\"new\" xlink:title=\"psysml:9833d686-e720-46bf-b438-35dbd29b7a16\" xlink:type=\"simple\"><rect fill=\"#FFFFFF\" height=\"45.9375\" id=\"E5\" style=\"stroke: #383838; stroke-width: 1.5;\" width=\"66\" x=\"54\" y=\"41\"/><text fill=\"#000000\" font-family=\"sans-serif\" font-size=\"12\" font-style=\"italic\" lengthAdjust=\"spacingAndGlyphs\" textLength=\"64\" x=\"55\" y=\"57.1387\">«part def»</text><text fill=\"#000000\" font-family=\"sans-serif\" font-size=\"12\" lengthAdjust=\"spacingAndGlyphs\" textLength=\"8\" x=\"83\" y=\"71.1074\">P</text><line style=\"stroke: #383838; stroke-width: 1.5;\" x1=\"55\" x2=\"119\" y1=\"78.9375\" y2=\"78.9375\"/></a><!--MD5=[60a26617385b1d2d0262a64233df1f8d]\n",
       "class E6--><a href=\"psysml:f96f9e94-0e28-4abd-b8cb-5d3679a708db\" target=\"_top\" title=\"psysml:f96f9e94-0e28-4abd-b8cb-5d3679a708db\" xlink:actuate=\"onRequest\" xlink:href=\"psysml:f96f9e94-0e28-4abd-b8cb-5d3679a708db\" xlink:show=\"new\" xlink:title=\"psysml:f96f9e94-0e28-4abd-b8cb-5d3679a708db\" xlink:type=\"simple\"><rect fill=\"#FFFFFF\" height=\"45.9375\" id=\"E6\" rx=\"10\" ry=\"10\" style=\"stroke: #383838; stroke-width: 1.5;\" width=\"42\" x=\"32\" y=\"359\"/><text fill=\"#000000\" font-family=\"sans-serif\" font-size=\"12\" font-style=\"italic\" lengthAdjust=\"spacingAndGlyphs\" textLength=\"40\" x=\"33\" y=\"375.1387\">«part»</text><text fill=\"#000000\" font-family=\"sans-serif\" font-size=\"12\" lengthAdjust=\"spacingAndGlyphs\" textLength=\"6\" x=\"50\" y=\"389.1074\">y</text><line style=\"stroke: #383838; stroke-width: 1.5;\" x1=\"33\" x2=\"73\" y1=\"396.9375\" y2=\"396.9375\"/></a><!--MD5=[2156ba9850f5573cc1fc38a6a4b2f02b]\n",
       "class E7--><a href=\"psysml:2279d5a4-5f0e-43ce-88bf-f6ddb21c3f25\" target=\"_top\" title=\"psysml:2279d5a4-5f0e-43ce-88bf-f6ddb21c3f25\" xlink:actuate=\"onRequest\" xlink:href=\"psysml:2279d5a4-5f0e-43ce-88bf-f6ddb21c3f25\" xlink:show=\"new\" xlink:title=\"psysml:2279d5a4-5f0e-43ce-88bf-f6ddb21c3f25\" xlink:type=\"simple\"><rect fill=\"#FFFFFF\" height=\"45.9375\" id=\"E7\" rx=\"10\" ry=\"10\" style=\"stroke: #383838; stroke-width: 1.5;\" width=\"42\" x=\"89\" y=\"147\"/><text fill=\"#000000\" font-family=\"sans-serif\" font-size=\"12\" font-style=\"italic\" lengthAdjust=\"spacingAndGlyphs\" textLength=\"40\" x=\"90\" y=\"163.1387\">«part»</text><text fill=\"#000000\" font-family=\"sans-serif\" font-size=\"12\" lengthAdjust=\"spacingAndGlyphs\" textLength=\"16\" x=\"102\" y=\"177.1074\">p1</text><line style=\"stroke: #383838; stroke-width: 1.5;\" x1=\"90\" x2=\"130\" y1=\"184.9375\" y2=\"184.9375\"/></a><!--MD5=[209b3feb70ccb6233bfe1053d122c12c]\n",
       "reverse link E2 to E3--><a href=\"psysml:1ffc18c1-940f-43c3-a54c-dcf9b76281a6\" target=\"_top\" title=\"psysml:1ffc18c1-940f-43c3-a54c-dcf9b76281a6\" xlink:actuate=\"onRequest\" xlink:href=\"psysml:1ffc18c1-940f-43c3-a54c-dcf9b76281a6\" xlink:show=\"new\" xlink:title=\"psysml:1ffc18c1-940f-43c3-a54c-dcf9b76281a6\" xlink:type=\"simple\"><path d=\"M116.72,311.96 C119.71,327.51 123.14,345.33 125.76,358.98 \" fill=\"none\" id=\"E2&lt;-E3\" style=\"stroke: #383838; stroke-width: 1.0;\"/><polygon fill=\"#383838\" points=\"114.24,299.06,111.447,305.7082,116.5096,310.8434,119.3026,304.1952,114.24,299.06\" style=\"stroke: #383838; stroke-width: 1.0;\"/><text fill=\"#000000\" font-family=\"sans-serif\" font-size=\"13\" lengthAdjust=\"spacingAndGlyphs\" textLength=\"8\" x=\"115.5455\" y=\"347.8709\">1</text></a><!--MD5=[4672eba38e49728da53d11aeb285b987]\n",
       "reverse link E3 to E4--><a href=\"psysml:3d75ef33-b13b-4214-af18-b5d2941be4f9\" target=\"_top\" title=\"psysml:3d75ef33-b13b-4214-af18-b5d2941be4f9\" xlink:actuate=\"onRequest\" xlink:href=\"psysml:3d75ef33-b13b-4214-af18-b5d2941be4f9\" xlink:show=\"new\" xlink:title=\"psysml:3d75ef33-b13b-4214-af18-b5d2941be4f9\" xlink:type=\"simple\"><path d=\"M130,418.44 C130,433.87 130,451.47 130,464.98 \" fill=\"none\" id=\"E3&lt;-E4\" style=\"stroke: #383838; stroke-width: 1.0;\"/><polygon fill=\"#383838\" points=\"130,405.06,126,411.06,130,417.06,134,411.06,130,405.06\" style=\"stroke: #383838; stroke-width: 1.0;\"/><text fill=\"#000000\" font-family=\"sans-serif\" font-size=\"13\" lengthAdjust=\"spacingAndGlyphs\" textLength=\"8\" x=\"120.925\" y=\"453.8709\">1</text></a><!--MD5=[85d356282659285ab4b2cfe2f634dd2b]\n",
       "reverse link E5 to E6--><a href=\"psysml:d68af8b5-54d9-4416-b26b-1e36c98f2c99\" target=\"_top\" title=\"psysml:d68af8b5-54d9-4416-b26b-1e36c98f2c99\" xlink:actuate=\"onRequest\" xlink:href=\"psysml:d68af8b5-54d9-4416-b26b-1e36c98f2c99\" xlink:show=\"new\" xlink:title=\"psysml:d68af8b5-54d9-4416-b26b-1e36c98f2c99\" xlink:type=\"simple\"><path d=\"M80.53,100.36 C76.47,122.55 72,147 72,147 C72,147 59.52,300.73 54.79,358.99 \" fill=\"none\" id=\"E5&lt;-E6\" style=\"stroke: #383838; stroke-width: 1.0;\"/><polygon fill=\"#383838\" points=\"82.9,87.41,77.8897,92.5962,80.7499,99.2158,85.7602,94.0296,82.9,87.41\" style=\"stroke: #383838; stroke-width: 1.0;\"/><text fill=\"#000000\" font-family=\"sans-serif\" font-size=\"13\" lengthAdjust=\"spacingAndGlyphs\" textLength=\"8\" x=\"46.1961\" y=\"347.8836\">1</text></a><!--MD5=[e3e28c1befcf002155aa15e1416b4315]\n",
       "link E2 to E6--><a href=\"psysml:901b44a6-3b8d-4bea-9e51-ad40652cd7ff\" target=\"_top\" title=\"psysml:901b44a6-3b8d-4bea-9e51-ad40652cd7ff\" xlink:actuate=\"onRequest\" xlink:href=\"psysml:901b44a6-3b8d-4bea-9e51-ad40652cd7ff\" xlink:show=\"new\" xlink:title=\"psysml:901b44a6-3b8d-4bea-9e51-ad40652cd7ff\" xlink:type=\"simple\"><path d=\"M97.91,299.06 C88.24,316.7 74.74,341.34 65.07,358.98 \" fill=\"none\" id=\"E2-E6\" style=\"stroke: #383838; stroke-width: 3.0;\"/><text fill=\"#000000\" font-family=\"sans-serif\" font-size=\"13\" lengthAdjust=\"spacingAndGlyphs\" textLength=\"7\" x=\"60.3732\" y=\"347.8709\">*</text></a><!--MD5=[452b418e7f8a40397a49b8c0a78acc5b]\n",
       "reverse link E5 to E7--><a href=\"psysml:5a5926b8-11d9-4284-b6a0-db32c9e29bb2\" target=\"_top\" title=\"psysml:5a5926b8-11d9-4284-b6a0-db32c9e29bb2\" xlink:actuate=\"onRequest\" xlink:href=\"psysml:5a5926b8-11d9-4284-b6a0-db32c9e29bb2\" xlink:show=\"new\" xlink:title=\"psysml:5a5926b8-11d9-4284-b6a0-db32c9e29bb2\" xlink:type=\"simple\"><path d=\"M94.73,99.96 C98.17,115.51 102.11,133.33 105.13,146.98 \" fill=\"none\" id=\"E5&lt;-E7\" style=\"stroke: #383838; stroke-width: 1.0;\"/><polygon fill=\"#383838\" points=\"91.88,87.06,89.2656,93.7805,94.4636,98.7786,97.078,92.0581,91.88,87.06\" style=\"stroke: #383838; stroke-width: 1.0;\"/><text fill=\"#000000\" font-family=\"sans-serif\" font-size=\"13\" lengthAdjust=\"spacingAndGlyphs\" textLength=\"8\" x=\"94.7462\" y=\"135.8709\">1</text></a><!--MD5=[583832df87f4419a098336a29a52fa00]\n",
       "link E7 to E2--><a href=\"psysml:dd540a25-2742-496a-aaa6-3ea5cc8a4940\" target=\"_top\" title=\"psysml:dd540a25-2742-496a-aaa6-3ea5cc8a4940\" xlink:actuate=\"onRequest\" xlink:href=\"psysml:dd540a25-2742-496a-aaa6-3ea5cc8a4940\" xlink:show=\"new\" xlink:title=\"psysml:dd540a25-2742-496a-aaa6-3ea5cc8a4940\" xlink:type=\"simple\"><path d=\"M110,193.06 C110,204.64 110,219.23 110,232.87 \" fill=\"none\" id=\"E7-&gt;E2\" style=\"stroke: #383838; stroke-width: 1.0;\"/><polygon fill=\"none\" points=\"117,232.98,110,252.98,103,232.98,117,232.98\" style=\"stroke: #383838; stroke-width: 1.0;\"/></a><!--MD5=[d6e00e1ca4f838f062a62503e018e7e9]\n",
       "@startuml\r\n",
       "skinparam linetype polyline\r\n",
       "skinparam monochrome true\r\n",
       "skinparam classbackgroundcolor white\r\n",
       "skinparam shadowing false\r\n",
       "skinparam wrapWidth 300\r\n",
       "hide circle\r\n",
       "\r\n",
       "package \"ConnectionTest\" as E1  [[psysml:58064a58-d13b-4f80-a6f6-0eceb966f2f7 ]]  {\r\n",
       "comp usage \"p\" as E2  <<(T,blue) part>> [[psysml:98bc980e-08bf-4c08-bf0e-335abb3c4ffd ]] {\r\n",
       "}\r\n",
       "comp usage \"x\" as E3  <<(T,blue) part>> [[psysml:c51e79ce-7cf1-4bdb-aba6-5cab2657d431 ]] {\r\n",
       "}\r\n",
       "comp usage \"x1\" as E4  <<(T,blue) part>> [[psysml:31f41755-661a-4a53-a2bb-f2dfc01c0edf ]] {\r\n",
       "}\r\n",
       "comp def \"P\" as E5  <<(T,blue) part def>> [[psysml:9833d686-e720-46bf-b438-35dbd29b7a16 ]] {\r\n",
       "}\r\n",
       "comp usage \"y\" as E6  <<(T,blue) part>> [[psysml:f96f9e94-0e28-4abd-b8cb-5d3679a708db ]] {\r\n",
       "}\r\n",
       "comp usage \"p1\" as E7  <<(T,blue) part>> [[psysml:2279d5a4-5f0e-43ce-88bf-f6ddb21c3f25 ]] {\r\n",
       "}\r\n",
       "}\r\n",
       "E2 *- - \"1\"E3 [[psysml:1ffc18c1-940f-43c3-a54c-dcf9b76281a6 ]] \r\n",
       "E3 *- - \"1\"E4 [[psysml:3d75ef33-b13b-4214-af18-b5d2941be4f9 ]] \r\n",
       "E5 *- - \"1\"E6 [[psysml:d68af8b5-54d9-4416-b26b-1e36c98f2c99 ]] \r\n",
       "E2 -[thickness=3]- \"*\"E6 [[psysml:901b44a6-3b8d-4bea-9e51-ad40652cd7ff ]] \r\n",
       "E5 *- - \"1\"E7 [[psysml:5a5926b8-11d9-4284-b6a0-db32c9e29bb2 ]] \r\n",
       "E7 - -|> E2 [[psysml:dd540a25-2742-496a-aaa6-3ea5cc8a4940 ]] \r\n",
       "@enduml\r\n",
       "\n",
       "PlantUML version 1.2020.13(Sat Jun 13 12:26:38 UTC 2020)\n",
       "(EPL source distribution)\n",
       "Java Runtime: OpenJDK Runtime Environment\n",
       "JVM: OpenJDK 64-Bit Server VM\n",
       "Default Encoding: UTF-8\n",
       "Language: en\n",
       "Country: null\n",
       "--></g></svg>"
      ]
     },
     "execution_count": 15,
     "metadata": {},
     "output_type": "execute_result"
    }
   ],
   "source": [
    "%viz --style=\"POLYLINE\" --view=\"MIXED\" \"ConnectionTest\""
   ]
  },
  {
   "cell_type": "code",
   "execution_count": 16,
   "id": "39375d75",
   "metadata": {
    "execution": {
     "iopub.execute_input": "2021-09-27T07:17:32.475286Z",
     "iopub.status.busy": "2021-09-27T07:17:32.474889Z",
     "iopub.status.idle": "2021-09-27T07:17:32.520205Z",
     "shell.execute_reply": "2021-09-27T07:17:32.519872Z"
    }
   },
   "outputs": [
    {
     "data": {
      "image/svg+xml": [
       "<?xml version=\"1.0\" encoding=\"UTF-8\" standalone=\"no\"?><svg xmlns=\"http://www.w3.org/2000/svg\" xmlns:xlink=\"http://www.w3.org/1999/xlink\" contentScriptType=\"application/ecmascript\" contentStyleType=\"text/css\" height=\"196px\" preserveAspectRatio=\"none\" style=\"width:544px;height:196px;\" version=\"1.1\" viewBox=\"0 0 544 196\" width=\"544px\" zoomAndPan=\"magnify\"><defs/><g><!--MD5=[fbc87193dbaf4d95561dea2c320d4a47]\n",
       "cluster E1--><a href=\"psysml:58064a58-d13b-4f80-a6f6-0eceb966f2f7\" target=\"_top\" title=\"psysml:58064a58-d13b-4f80-a6f6-0eceb966f2f7\" xlink:actuate=\"onRequest\" xlink:href=\"psysml:58064a58-d13b-4f80-a6f6-0eceb966f2f7\" xlink:show=\"new\" xlink:title=\"psysml:58064a58-d13b-4f80-a6f6-0eceb966f2f7\" xlink:type=\"simple\"><polygon fill=\"#FFFFFF\" points=\"16,6,133,6,140,28.2969,522,28.2969,522,184,16,184,16,6\" style=\"stroke: #000000; stroke-width: 1.5;\"/><line style=\"stroke: #000000; stroke-width: 1.5;\" x1=\"16\" x2=\"140\" y1=\"28.2969\" y2=\"28.2969\"/><text fill=\"#000000\" font-family=\"sans-serif\" font-size=\"14\" font-weight=\"bold\" lengthAdjust=\"spacingAndGlyphs\" textLength=\"111\" x=\"20\" y=\"20.9951\">ConnectionTest</text></a><!--MD5=[b4997ac47864f28c2f74865a473b2911]\n",
       "class E2--><a href=\"psysml:98bc980e-08bf-4c08-bf0e-335abb3c4ffd\" target=\"_top\" title=\"psysml:98bc980e-08bf-4c08-bf0e-335abb3c4ffd\" xlink:actuate=\"onRequest\" xlink:href=\"psysml:98bc980e-08bf-4c08-bf0e-335abb3c4ffd\" xlink:show=\"new\" xlink:title=\"psysml:98bc980e-08bf-4c08-bf0e-335abb3c4ffd\" xlink:type=\"simple\"><rect fill=\"#FFFFFF\" height=\"45.9375\" id=\"E2\" rx=\"10\" ry=\"10\" style=\"stroke: #383838; stroke-width: 1.5;\" width=\"42\" x=\"260\" y=\"63\"/><text fill=\"#000000\" font-family=\"sans-serif\" font-size=\"12\" font-style=\"italic\" lengthAdjust=\"spacingAndGlyphs\" textLength=\"40\" x=\"261\" y=\"79.1387\">«part»</text><text fill=\"#000000\" font-family=\"sans-serif\" font-size=\"12\" lengthAdjust=\"spacingAndGlyphs\" textLength=\"8\" x=\"277\" y=\"93.1074\">p</text><line style=\"stroke: #383838; stroke-width: 1.5;\" x1=\"261\" x2=\"301\" y1=\"100.9375\" y2=\"100.9375\"/></a><!--MD5=[09b614a08d8cba4a07c9adeb5e0fee81]\n",
       "class E3--><a href=\"psysml:c51e79ce-7cf1-4bdb-aba6-5cab2657d431\" target=\"_top\" title=\"psysml:c51e79ce-7cf1-4bdb-aba6-5cab2657d431\" xlink:actuate=\"onRequest\" xlink:href=\"psysml:c51e79ce-7cf1-4bdb-aba6-5cab2657d431\" xlink:show=\"new\" xlink:title=\"psysml:c51e79ce-7cf1-4bdb-aba6-5cab2657d431\" xlink:type=\"simple\"><rect fill=\"#FFFFFF\" height=\"45.9375\" id=\"E3\" rx=\"10\" ry=\"10\" style=\"stroke: #383838; stroke-width: 1.5;\" width=\"42\" x=\"362\" y=\"41\"/><text fill=\"#000000\" font-family=\"sans-serif\" font-size=\"12\" font-style=\"italic\" lengthAdjust=\"spacingAndGlyphs\" textLength=\"40\" x=\"363\" y=\"57.1387\">«part»</text><text fill=\"#000000\" font-family=\"sans-serif\" font-size=\"12\" lengthAdjust=\"spacingAndGlyphs\" textLength=\"6\" x=\"380\" y=\"71.1074\">x</text><line style=\"stroke: #383838; stroke-width: 1.5;\" x1=\"363\" x2=\"403\" y1=\"78.9375\" y2=\"78.9375\"/></a><!--MD5=[ebbe1d658d1005bcc118a6aa81145e00]\n",
       "class E4--><a href=\"psysml:31f41755-661a-4a53-a2bb-f2dfc01c0edf\" target=\"_top\" title=\"psysml:31f41755-661a-4a53-a2bb-f2dfc01c0edf\" xlink:actuate=\"onRequest\" xlink:href=\"psysml:31f41755-661a-4a53-a2bb-f2dfc01c0edf\" xlink:show=\"new\" xlink:title=\"psysml:31f41755-661a-4a53-a2bb-f2dfc01c0edf\" xlink:type=\"simple\"><rect fill=\"#FFFFFF\" height=\"45.9375\" id=\"E4\" rx=\"10\" ry=\"10\" style=\"stroke: #383838; stroke-width: 1.5;\" width=\"42\" x=\"464\" y=\"41\"/><text fill=\"#000000\" font-family=\"sans-serif\" font-size=\"12\" font-style=\"italic\" lengthAdjust=\"spacingAndGlyphs\" textLength=\"40\" x=\"465\" y=\"57.1387\">«part»</text><text fill=\"#000000\" font-family=\"sans-serif\" font-size=\"12\" lengthAdjust=\"spacingAndGlyphs\" textLength=\"14\" x=\"478\" y=\"71.1074\">x1</text><line style=\"stroke: #383838; stroke-width: 1.5;\" x1=\"465\" x2=\"505\" y1=\"78.9375\" y2=\"78.9375\"/></a><!--MD5=[270fce915f116d4de14055a7c1d9a0f3]\n",
       "class E5--><a href=\"psysml:9833d686-e720-46bf-b438-35dbd29b7a16\" target=\"_top\" title=\"psysml:9833d686-e720-46bf-b438-35dbd29b7a16\" xlink:actuate=\"onRequest\" xlink:href=\"psysml:9833d686-e720-46bf-b438-35dbd29b7a16\" xlink:show=\"new\" xlink:title=\"psysml:9833d686-e720-46bf-b438-35dbd29b7a16\" xlink:type=\"simple\"><rect fill=\"#FFFFFF\" height=\"45.9375\" id=\"E5\" style=\"stroke: #383838; stroke-width: 1.5;\" width=\"66\" x=\"32\" y=\"93\"/><text fill=\"#000000\" font-family=\"sans-serif\" font-size=\"12\" font-style=\"italic\" lengthAdjust=\"spacingAndGlyphs\" textLength=\"64\" x=\"33\" y=\"109.1387\">«part def»</text><text fill=\"#000000\" font-family=\"sans-serif\" font-size=\"12\" lengthAdjust=\"spacingAndGlyphs\" textLength=\"8\" x=\"61\" y=\"123.1074\">P</text><line style=\"stroke: #383838; stroke-width: 1.5;\" x1=\"33\" x2=\"97\" y1=\"130.9375\" y2=\"130.9375\"/></a><!--MD5=[60a26617385b1d2d0262a64233df1f8d]\n",
       "class E6--><a href=\"psysml:f96f9e94-0e28-4abd-b8cb-5d3679a708db\" target=\"_top\" title=\"psysml:f96f9e94-0e28-4abd-b8cb-5d3679a708db\" xlink:actuate=\"onRequest\" xlink:href=\"psysml:f96f9e94-0e28-4abd-b8cb-5d3679a708db\" xlink:show=\"new\" xlink:title=\"psysml:f96f9e94-0e28-4abd-b8cb-5d3679a708db\" xlink:type=\"simple\"><rect fill=\"#FFFFFF\" height=\"45.9375\" id=\"E6\" rx=\"10\" ry=\"10\" style=\"stroke: #383838; stroke-width: 1.5;\" width=\"42\" x=\"362\" y=\"122\"/><text fill=\"#000000\" font-family=\"sans-serif\" font-size=\"12\" font-style=\"italic\" lengthAdjust=\"spacingAndGlyphs\" textLength=\"40\" x=\"363\" y=\"138.1387\">«part»</text><text fill=\"#000000\" font-family=\"sans-serif\" font-size=\"12\" lengthAdjust=\"spacingAndGlyphs\" textLength=\"6\" x=\"380\" y=\"152.1074\">y</text><line style=\"stroke: #383838; stroke-width: 1.5;\" x1=\"363\" x2=\"403\" y1=\"159.9375\" y2=\"159.9375\"/></a><!--MD5=[2156ba9850f5573cc1fc38a6a4b2f02b]\n",
       "class E7--><a href=\"psysml:2279d5a4-5f0e-43ce-88bf-f6ddb21c3f25\" target=\"_top\" title=\"psysml:2279d5a4-5f0e-43ce-88bf-f6ddb21c3f25\" xlink:actuate=\"onRequest\" xlink:href=\"psysml:2279d5a4-5f0e-43ce-88bf-f6ddb21c3f25\" xlink:show=\"new\" xlink:title=\"psysml:2279d5a4-5f0e-43ce-88bf-f6ddb21c3f25\" xlink:type=\"simple\"><rect fill=\"#FFFFFF\" height=\"45.9375\" id=\"E7\" rx=\"10\" ry=\"10\" style=\"stroke: #383838; stroke-width: 1.5;\" width=\"42\" x=\"158\" y=\"63\"/><text fill=\"#000000\" font-family=\"sans-serif\" font-size=\"12\" font-style=\"italic\" lengthAdjust=\"spacingAndGlyphs\" textLength=\"40\" x=\"159\" y=\"79.1387\">«part»</text><text fill=\"#000000\" font-family=\"sans-serif\" font-size=\"12\" lengthAdjust=\"spacingAndGlyphs\" textLength=\"16\" x=\"171\" y=\"93.1074\">p1</text><line style=\"stroke: #383838; stroke-width: 1.5;\" x1=\"159\" x2=\"199\" y1=\"100.9375\" y2=\"100.9375\"/></a><!--MD5=[209b3feb70ccb6233bfe1053d122c12c]\n",
       "reverse link E2 to E3--><a href=\"psysml:1ffc18c1-940f-43c3-a54c-dcf9b76281a6\" target=\"_top\" title=\"psysml:1ffc18c1-940f-43c3-a54c-dcf9b76281a6\" xlink:actuate=\"onRequest\" xlink:href=\"psysml:1ffc18c1-940f-43c3-a54c-dcf9b76281a6\" xlink:show=\"new\" xlink:title=\"psysml:1ffc18c1-940f-43c3-a54c-dcf9b76281a6\" xlink:type=\"simple\"><path d=\"M315.01,78.74 C330.47,75.34 348.38,71.4 361.79,68.45 \" fill=\"none\" id=\"E2&lt;-E3\" style=\"stroke: #383838; stroke-width: 1.0;\"/><polygon fill=\"#383838\" points=\"302.24,81.55,308.9577,84.1716,313.9613,78.979,307.2437,76.3574,302.24,81.55\" style=\"stroke: #383838; stroke-width: 1.0;\"/><text fill=\"#000000\" font-family=\"sans-serif\" font-size=\"13\" lengthAdjust=\"spacingAndGlyphs\" textLength=\"8\" x=\"346.0694\" y=\"84.2065\">1</text></a><!--MD5=[4672eba38e49728da53d11aeb285b987]\n",
       "reverse link E3 to E4--><a href=\"psysml:3d75ef33-b13b-4214-af18-b5d2941be4f9\" target=\"_top\" title=\"psysml:3d75ef33-b13b-4214-af18-b5d2941be4f9\" xlink:actuate=\"onRequest\" xlink:href=\"psysml:3d75ef33-b13b-4214-af18-b5d2941be4f9\" xlink:show=\"new\" xlink:title=\"psysml:3d75ef33-b13b-4214-af18-b5d2941be4f9\" xlink:type=\"simple\"><path d=\"M417.48,64 C432.83,64 450.52,64 463.79,64 \" fill=\"none\" id=\"E3&lt;-E4\" style=\"stroke: #383838; stroke-width: 1.0;\"/><polygon fill=\"#383838\" points=\"404.24,64,410.24,68,416.24,64,410.24,60,404.24,64\" style=\"stroke: #383838; stroke-width: 1.0;\"/><text fill=\"#000000\" font-family=\"sans-serif\" font-size=\"13\" lengthAdjust=\"spacingAndGlyphs\" textLength=\"8\" x=\"448.0694\" y=\"78.3937\">1</text></a><!--MD5=[85d356282659285ab4b2cfe2f634dd2b]\n",
       "reverse link E5 to E6--><a href=\"psysml:d68af8b5-54d9-4416-b26b-1e36c98f2c99\" target=\"_top\" title=\"psysml:d68af8b5-54d9-4416-b26b-1e36c98f2c99\" xlink:actuate=\"onRequest\" xlink:href=\"psysml:d68af8b5-54d9-4416-b26b-1e36c98f2c99\" xlink:show=\"new\" xlink:title=\"psysml:d68af8b5-54d9-4416-b26b-1e36c98f2c99\" xlink:type=\"simple\"><path d=\"M111.4,121.15 C126.24,122.78 142.82,124.53 158,126 C233.17,133.27 322.68,140.41 361.91,143.46 \" fill=\"none\" id=\"E5&lt;-E6\" style=\"stroke: #383838; stroke-width: 1.0;\"/><polygon fill=\"#383838\" points=\"98.34,119.7,103.8644,124.3348,110.2674,121.0179,104.743,116.3832,98.34,119.7\" style=\"stroke: #383838; stroke-width: 1.0;\"/><text fill=\"#000000\" font-family=\"sans-serif\" font-size=\"13\" lengthAdjust=\"spacingAndGlyphs\" textLength=\"8\" x=\"345.9126\" y=\"157.4578\">1</text></a><!--MD5=[e3e28c1befcf002155aa15e1416b4315]\n",
       "link E2 to E6--><a href=\"psysml:901b44a6-3b8d-4bea-9e51-ad40652cd7ff\" target=\"_top\" title=\"psysml:901b44a6-3b8d-4bea-9e51-ad40652cd7ff\" xlink:actuate=\"onRequest\" xlink:href=\"psysml:901b44a6-3b8d-4bea-9e51-ad40652cd7ff\" xlink:show=\"new\" xlink:title=\"psysml:901b44a6-3b8d-4bea-9e51-ad40652cd7ff\" xlink:type=\"simple\"><path d=\"M302.24,97.94 C319.59,108.18 344.45,122.85 361.79,133.08 \" fill=\"none\" id=\"E2-E6\" style=\"stroke: #383838; stroke-width: 3.0;\"/><text fill=\"#000000\" font-family=\"sans-serif\" font-size=\"13\" lengthAdjust=\"spacingAndGlyphs\" textLength=\"7\" x=\"346.9137\" y=\"143.7691\">*</text></a><!--MD5=[452b418e7f8a40397a49b8c0a78acc5b]\n",
       "reverse link E5 to E7--><a href=\"psysml:5a5926b8-11d9-4284-b6a0-db32c9e29bb2\" target=\"_top\" title=\"psysml:5a5926b8-11d9-4284-b6a0-db32c9e29bb2\" xlink:actuate=\"onRequest\" xlink:href=\"psysml:5a5926b8-11d9-4284-b6a0-db32c9e29bb2\" xlink:show=\"new\" xlink:title=\"psysml:5a5926b8-11d9-4284-b6a0-db32c9e29bb2\" xlink:type=\"simple\"><path d=\"M110.79,104 C127.12,99.63 144.77,94.9 157.89,91.39 \" fill=\"none\" id=\"E5&lt;-E7\" style=\"stroke: #383838; stroke-width: 1.0;\"/><polygon fill=\"#383838\" points=\"98.09,107.4,104.922,109.7074,109.6796,104.2884,102.8476,101.981,98.09,107.4\" style=\"stroke: #383838; stroke-width: 1.0;\"/><text fill=\"#000000\" font-family=\"sans-serif\" font-size=\"13\" lengthAdjust=\"spacingAndGlyphs\" textLength=\"8\" x=\"141.8862\" y=\"107.5967\">1</text></a><!--MD5=[583832df87f4419a098336a29a52fa00]\n",
       "link E7 to E2--><a href=\"psysml:dd540a25-2742-496a-aaa6-3ea5cc8a4940\" target=\"_top\" title=\"psysml:dd540a25-2742-496a-aaa6-3ea5cc8a4940\" xlink:actuate=\"onRequest\" xlink:href=\"psysml:dd540a25-2742-496a-aaa6-3ea5cc8a4940\" xlink:show=\"new\" xlink:title=\"psysml:dd540a25-2742-496a-aaa6-3ea5cc8a4940\" xlink:type=\"simple\"><path d=\"M200.24,86 C211.49,86 225.9,86 239.37,86 \" fill=\"none\" id=\"E7-&gt;E2\" style=\"stroke: #383838; stroke-width: 1.0;\"/><polygon fill=\"none\" points=\"239.79,79,259.79,86,239.79,93,239.79,79\" style=\"stroke: #383838; stroke-width: 1.0;\"/></a><!--MD5=[2cf46ceb9d863d10a87caa41e916f220]\n",
       "@startuml\r\n",
       "left to right direction\r\n",
       "skinparam monochrome true\r\n",
       "skinparam classbackgroundcolor white\r\n",
       "skinparam shadowing false\r\n",
       "skinparam wrapWidth 300\r\n",
       "hide circle\r\n",
       "\r\n",
       "package \"ConnectionTest\" as E1  [[psysml:58064a58-d13b-4f80-a6f6-0eceb966f2f7 ]]  {\r\n",
       "comp usage \"p\" as E2  <<(T,blue) part>> [[psysml:98bc980e-08bf-4c08-bf0e-335abb3c4ffd ]] {\r\n",
       "}\r\n",
       "comp usage \"x\" as E3  <<(T,blue) part>> [[psysml:c51e79ce-7cf1-4bdb-aba6-5cab2657d431 ]] {\r\n",
       "}\r\n",
       "comp usage \"x1\" as E4  <<(T,blue) part>> [[psysml:31f41755-661a-4a53-a2bb-f2dfc01c0edf ]] {\r\n",
       "}\r\n",
       "comp def \"P\" as E5  <<(T,blue) part def>> [[psysml:9833d686-e720-46bf-b438-35dbd29b7a16 ]] {\r\n",
       "}\r\n",
       "comp usage \"y\" as E6  <<(T,blue) part>> [[psysml:f96f9e94-0e28-4abd-b8cb-5d3679a708db ]] {\r\n",
       "}\r\n",
       "comp usage \"p1\" as E7  <<(T,blue) part>> [[psysml:2279d5a4-5f0e-43ce-88bf-f6ddb21c3f25 ]] {\r\n",
       "}\r\n",
       "}\r\n",
       "E2 *- - \"1\"E3 [[psysml:1ffc18c1-940f-43c3-a54c-dcf9b76281a6 ]] \r\n",
       "E3 *- - \"1\"E4 [[psysml:3d75ef33-b13b-4214-af18-b5d2941be4f9 ]] \r\n",
       "E5 *- - \"1\"E6 [[psysml:d68af8b5-54d9-4416-b26b-1e36c98f2c99 ]] \r\n",
       "E2 -[thickness=3]- \"*\"E6 [[psysml:901b44a6-3b8d-4bea-9e51-ad40652cd7ff ]] \r\n",
       "E5 *- - \"1\"E7 [[psysml:5a5926b8-11d9-4284-b6a0-db32c9e29bb2 ]] \r\n",
       "E7 - -|> E2 [[psysml:dd540a25-2742-496a-aaa6-3ea5cc8a4940 ]] \r\n",
       "@enduml\r\n",
       "\n",
       "PlantUML version 1.2020.13(Sat Jun 13 12:26:38 UTC 2020)\n",
       "(EPL source distribution)\n",
       "Java Runtime: OpenJDK Runtime Environment\n",
       "JVM: OpenJDK 64-Bit Server VM\n",
       "Default Encoding: UTF-8\n",
       "Language: en\n",
       "Country: null\n",
       "--></g></svg>"
      ]
     },
     "execution_count": 16,
     "metadata": {},
     "output_type": "execute_result"
    }
   ],
   "source": [
    "%viz --style=\"LR\" --view=\"Default\" \"ConnectionTest\""
   ]
  },
  {
   "cell_type": "code",
   "execution_count": 17,
   "id": "4053891f",
   "metadata": {
    "execution": {
     "iopub.execute_input": "2021-09-27T07:17:32.570291Z",
     "iopub.status.busy": "2021-09-27T07:17:32.569890Z",
     "iopub.status.idle": "2021-09-27T07:17:32.615347Z",
     "shell.execute_reply": "2021-09-27T07:17:32.614042Z"
    }
   },
   "outputs": [
    {
     "data": {
      "image/svg+xml": [
       "<?xml version=\"1.0\" encoding=\"UTF-8\" standalone=\"no\"?><svg xmlns=\"http://www.w3.org/2000/svg\" xmlns:xlink=\"http://www.w3.org/1999/xlink\" contentScriptType=\"application/ecmascript\" contentStyleType=\"text/css\" height=\"196px\" preserveAspectRatio=\"none\" style=\"width:544px;height:196px;\" version=\"1.1\" viewBox=\"0 0 544 196\" width=\"544px\" zoomAndPan=\"magnify\"><defs/><g><!--MD5=[fbc87193dbaf4d95561dea2c320d4a47]\n",
       "cluster E1--><a href=\"psysml:58064a58-d13b-4f80-a6f6-0eceb966f2f7\" target=\"_top\" title=\"psysml:58064a58-d13b-4f80-a6f6-0eceb966f2f7\" xlink:actuate=\"onRequest\" xlink:href=\"psysml:58064a58-d13b-4f80-a6f6-0eceb966f2f7\" xlink:show=\"new\" xlink:title=\"psysml:58064a58-d13b-4f80-a6f6-0eceb966f2f7\" xlink:type=\"simple\"><polygon fill=\"#FFFFFF\" points=\"16,6,133,6,140,28.2969,522,28.2969,522,184,16,184,16,6\" style=\"stroke: #000000; stroke-width: 1.5;\"/><line style=\"stroke: #000000; stroke-width: 1.5;\" x1=\"16\" x2=\"140\" y1=\"28.2969\" y2=\"28.2969\"/><text fill=\"#000000\" font-family=\"sans-serif\" font-size=\"14\" font-weight=\"bold\" lengthAdjust=\"spacingAndGlyphs\" textLength=\"111\" x=\"20\" y=\"20.9951\">ConnectionTest</text></a><!--MD5=[b4997ac47864f28c2f74865a473b2911]\n",
       "class E2--><a href=\"psysml:98bc980e-08bf-4c08-bf0e-335abb3c4ffd\" target=\"_top\" title=\"psysml:98bc980e-08bf-4c08-bf0e-335abb3c4ffd\" xlink:actuate=\"onRequest\" xlink:href=\"psysml:98bc980e-08bf-4c08-bf0e-335abb3c4ffd\" xlink:show=\"new\" xlink:title=\"psysml:98bc980e-08bf-4c08-bf0e-335abb3c4ffd\" xlink:type=\"simple\"><rect fill=\"#FFFFFF\" height=\"45.9375\" id=\"E2\" rx=\"10\" ry=\"10\" style=\"stroke: #383838; stroke-width: 1.5;\" width=\"42\" x=\"260\" y=\"63\"/><text fill=\"#000000\" font-family=\"sans-serif\" font-size=\"12\" font-style=\"italic\" lengthAdjust=\"spacingAndGlyphs\" textLength=\"40\" x=\"261\" y=\"79.1387\">«part»</text><text fill=\"#000000\" font-family=\"sans-serif\" font-size=\"12\" lengthAdjust=\"spacingAndGlyphs\" textLength=\"8\" x=\"277\" y=\"93.1074\">p</text><line style=\"stroke: #383838; stroke-width: 1.5;\" x1=\"261\" x2=\"301\" y1=\"100.9375\" y2=\"100.9375\"/></a><!--MD5=[09b614a08d8cba4a07c9adeb5e0fee81]\n",
       "class E3--><a href=\"psysml:c51e79ce-7cf1-4bdb-aba6-5cab2657d431\" target=\"_top\" title=\"psysml:c51e79ce-7cf1-4bdb-aba6-5cab2657d431\" xlink:actuate=\"onRequest\" xlink:href=\"psysml:c51e79ce-7cf1-4bdb-aba6-5cab2657d431\" xlink:show=\"new\" xlink:title=\"psysml:c51e79ce-7cf1-4bdb-aba6-5cab2657d431\" xlink:type=\"simple\"><rect fill=\"#FFFFFF\" height=\"45.9375\" id=\"E3\" rx=\"10\" ry=\"10\" style=\"stroke: #383838; stroke-width: 1.5;\" width=\"42\" x=\"362\" y=\"41\"/><text fill=\"#000000\" font-family=\"sans-serif\" font-size=\"12\" font-style=\"italic\" lengthAdjust=\"spacingAndGlyphs\" textLength=\"40\" x=\"363\" y=\"57.1387\">«part»</text><text fill=\"#000000\" font-family=\"sans-serif\" font-size=\"12\" lengthAdjust=\"spacingAndGlyphs\" textLength=\"6\" x=\"380\" y=\"71.1074\">x</text><line style=\"stroke: #383838; stroke-width: 1.5;\" x1=\"363\" x2=\"403\" y1=\"78.9375\" y2=\"78.9375\"/></a><!--MD5=[ebbe1d658d1005bcc118a6aa81145e00]\n",
       "class E4--><a href=\"psysml:31f41755-661a-4a53-a2bb-f2dfc01c0edf\" target=\"_top\" title=\"psysml:31f41755-661a-4a53-a2bb-f2dfc01c0edf\" xlink:actuate=\"onRequest\" xlink:href=\"psysml:31f41755-661a-4a53-a2bb-f2dfc01c0edf\" xlink:show=\"new\" xlink:title=\"psysml:31f41755-661a-4a53-a2bb-f2dfc01c0edf\" xlink:type=\"simple\"><rect fill=\"#FFFFFF\" height=\"45.9375\" id=\"E4\" rx=\"10\" ry=\"10\" style=\"stroke: #383838; stroke-width: 1.5;\" width=\"42\" x=\"464\" y=\"41\"/><text fill=\"#000000\" font-family=\"sans-serif\" font-size=\"12\" font-style=\"italic\" lengthAdjust=\"spacingAndGlyphs\" textLength=\"40\" x=\"465\" y=\"57.1387\">«part»</text><text fill=\"#000000\" font-family=\"sans-serif\" font-size=\"12\" lengthAdjust=\"spacingAndGlyphs\" textLength=\"14\" x=\"478\" y=\"71.1074\">x1</text><line style=\"stroke: #383838; stroke-width: 1.5;\" x1=\"465\" x2=\"505\" y1=\"78.9375\" y2=\"78.9375\"/></a><!--MD5=[270fce915f116d4de14055a7c1d9a0f3]\n",
       "class E5--><a href=\"psysml:9833d686-e720-46bf-b438-35dbd29b7a16\" target=\"_top\" title=\"psysml:9833d686-e720-46bf-b438-35dbd29b7a16\" xlink:actuate=\"onRequest\" xlink:href=\"psysml:9833d686-e720-46bf-b438-35dbd29b7a16\" xlink:show=\"new\" xlink:title=\"psysml:9833d686-e720-46bf-b438-35dbd29b7a16\" xlink:type=\"simple\"><rect fill=\"#FFFFFF\" height=\"45.9375\" id=\"E5\" style=\"stroke: #383838; stroke-width: 1.5;\" width=\"66\" x=\"32\" y=\"93\"/><text fill=\"#000000\" font-family=\"sans-serif\" font-size=\"12\" font-style=\"italic\" lengthAdjust=\"spacingAndGlyphs\" textLength=\"64\" x=\"33\" y=\"109.1387\">«part def»</text><text fill=\"#000000\" font-family=\"sans-serif\" font-size=\"12\" lengthAdjust=\"spacingAndGlyphs\" textLength=\"8\" x=\"61\" y=\"123.1074\">P</text><line style=\"stroke: #383838; stroke-width: 1.5;\" x1=\"33\" x2=\"97\" y1=\"130.9375\" y2=\"130.9375\"/></a><!--MD5=[60a26617385b1d2d0262a64233df1f8d]\n",
       "class E6--><a href=\"psysml:f96f9e94-0e28-4abd-b8cb-5d3679a708db\" target=\"_top\" title=\"psysml:f96f9e94-0e28-4abd-b8cb-5d3679a708db\" xlink:actuate=\"onRequest\" xlink:href=\"psysml:f96f9e94-0e28-4abd-b8cb-5d3679a708db\" xlink:show=\"new\" xlink:title=\"psysml:f96f9e94-0e28-4abd-b8cb-5d3679a708db\" xlink:type=\"simple\"><rect fill=\"#FFFFFF\" height=\"45.9375\" id=\"E6\" rx=\"10\" ry=\"10\" style=\"stroke: #383838; stroke-width: 1.5;\" width=\"42\" x=\"362\" y=\"122\"/><text fill=\"#000000\" font-family=\"sans-serif\" font-size=\"12\" font-style=\"italic\" lengthAdjust=\"spacingAndGlyphs\" textLength=\"40\" x=\"363\" y=\"138.1387\">«part»</text><text fill=\"#000000\" font-family=\"sans-serif\" font-size=\"12\" lengthAdjust=\"spacingAndGlyphs\" textLength=\"6\" x=\"380\" y=\"152.1074\">y</text><line style=\"stroke: #383838; stroke-width: 1.5;\" x1=\"363\" x2=\"403\" y1=\"159.9375\" y2=\"159.9375\"/></a><!--MD5=[2156ba9850f5573cc1fc38a6a4b2f02b]\n",
       "class E7--><a href=\"psysml:2279d5a4-5f0e-43ce-88bf-f6ddb21c3f25\" target=\"_top\" title=\"psysml:2279d5a4-5f0e-43ce-88bf-f6ddb21c3f25\" xlink:actuate=\"onRequest\" xlink:href=\"psysml:2279d5a4-5f0e-43ce-88bf-f6ddb21c3f25\" xlink:show=\"new\" xlink:title=\"psysml:2279d5a4-5f0e-43ce-88bf-f6ddb21c3f25\" xlink:type=\"simple\"><rect fill=\"#FFFFFF\" height=\"45.9375\" id=\"E7\" rx=\"10\" ry=\"10\" style=\"stroke: #383838; stroke-width: 1.5;\" width=\"42\" x=\"158\" y=\"63\"/><text fill=\"#000000\" font-family=\"sans-serif\" font-size=\"12\" font-style=\"italic\" lengthAdjust=\"spacingAndGlyphs\" textLength=\"40\" x=\"159\" y=\"79.1387\">«part»</text><text fill=\"#000000\" font-family=\"sans-serif\" font-size=\"12\" lengthAdjust=\"spacingAndGlyphs\" textLength=\"16\" x=\"171\" y=\"93.1074\">p1</text><line style=\"stroke: #383838; stroke-width: 1.5;\" x1=\"159\" x2=\"199\" y1=\"100.9375\" y2=\"100.9375\"/></a><!--MD5=[209b3feb70ccb6233bfe1053d122c12c]\n",
       "reverse link E2 to E3--><a href=\"psysml:1ffc18c1-940f-43c3-a54c-dcf9b76281a6\" target=\"_top\" title=\"psysml:1ffc18c1-940f-43c3-a54c-dcf9b76281a6\" xlink:actuate=\"onRequest\" xlink:href=\"psysml:1ffc18c1-940f-43c3-a54c-dcf9b76281a6\" xlink:show=\"new\" xlink:title=\"psysml:1ffc18c1-940f-43c3-a54c-dcf9b76281a6\" xlink:type=\"simple\"><path d=\"M315.01,78.74 C330.47,75.34 348.38,71.4 361.79,68.45 \" fill=\"none\" id=\"E2&lt;-E3\" style=\"stroke: #383838; stroke-width: 1.0;\"/><polygon fill=\"#383838\" points=\"302.24,81.55,308.9577,84.1716,313.9613,78.979,307.2437,76.3574,302.24,81.55\" style=\"stroke: #383838; stroke-width: 1.0;\"/><text fill=\"#000000\" font-family=\"sans-serif\" font-size=\"13\" lengthAdjust=\"spacingAndGlyphs\" textLength=\"8\" x=\"346.0694\" y=\"84.2065\">1</text></a><!--MD5=[4672eba38e49728da53d11aeb285b987]\n",
       "reverse link E3 to E4--><a href=\"psysml:3d75ef33-b13b-4214-af18-b5d2941be4f9\" target=\"_top\" title=\"psysml:3d75ef33-b13b-4214-af18-b5d2941be4f9\" xlink:actuate=\"onRequest\" xlink:href=\"psysml:3d75ef33-b13b-4214-af18-b5d2941be4f9\" xlink:show=\"new\" xlink:title=\"psysml:3d75ef33-b13b-4214-af18-b5d2941be4f9\" xlink:type=\"simple\"><path d=\"M417.48,64 C432.83,64 450.52,64 463.79,64 \" fill=\"none\" id=\"E3&lt;-E4\" style=\"stroke: #383838; stroke-width: 1.0;\"/><polygon fill=\"#383838\" points=\"404.24,64,410.24,68,416.24,64,410.24,60,404.24,64\" style=\"stroke: #383838; stroke-width: 1.0;\"/><text fill=\"#000000\" font-family=\"sans-serif\" font-size=\"13\" lengthAdjust=\"spacingAndGlyphs\" textLength=\"8\" x=\"448.0694\" y=\"78.3937\">1</text></a><!--MD5=[85d356282659285ab4b2cfe2f634dd2b]\n",
       "reverse link E5 to E6--><a href=\"psysml:d68af8b5-54d9-4416-b26b-1e36c98f2c99\" target=\"_top\" title=\"psysml:d68af8b5-54d9-4416-b26b-1e36c98f2c99\" xlink:actuate=\"onRequest\" xlink:href=\"psysml:d68af8b5-54d9-4416-b26b-1e36c98f2c99\" xlink:show=\"new\" xlink:title=\"psysml:d68af8b5-54d9-4416-b26b-1e36c98f2c99\" xlink:type=\"simple\"><path d=\"M111.4,121.15 C126.24,122.78 142.82,124.53 158,126 C233.17,133.27 322.68,140.41 361.91,143.46 \" fill=\"none\" id=\"E5&lt;-E6\" style=\"stroke: #383838; stroke-width: 1.0;\"/><polygon fill=\"#383838\" points=\"98.34,119.7,103.8644,124.3348,110.2674,121.0179,104.743,116.3832,98.34,119.7\" style=\"stroke: #383838; stroke-width: 1.0;\"/><text fill=\"#000000\" font-family=\"sans-serif\" font-size=\"13\" lengthAdjust=\"spacingAndGlyphs\" textLength=\"8\" x=\"345.9126\" y=\"157.4578\">1</text></a><!--MD5=[e3e28c1befcf002155aa15e1416b4315]\n",
       "link E2 to E6--><a href=\"psysml:901b44a6-3b8d-4bea-9e51-ad40652cd7ff\" target=\"_top\" title=\"psysml:901b44a6-3b8d-4bea-9e51-ad40652cd7ff\" xlink:actuate=\"onRequest\" xlink:href=\"psysml:901b44a6-3b8d-4bea-9e51-ad40652cd7ff\" xlink:show=\"new\" xlink:title=\"psysml:901b44a6-3b8d-4bea-9e51-ad40652cd7ff\" xlink:type=\"simple\"><path d=\"M302.24,97.94 C319.59,108.18 344.45,122.85 361.79,133.08 \" fill=\"none\" id=\"E2-E6\" style=\"stroke: #383838; stroke-width: 3.0;\"/><text fill=\"#000000\" font-family=\"sans-serif\" font-size=\"13\" lengthAdjust=\"spacingAndGlyphs\" textLength=\"7\" x=\"346.9137\" y=\"143.7691\">*</text></a><!--MD5=[452b418e7f8a40397a49b8c0a78acc5b]\n",
       "reverse link E5 to E7--><a href=\"psysml:5a5926b8-11d9-4284-b6a0-db32c9e29bb2\" target=\"_top\" title=\"psysml:5a5926b8-11d9-4284-b6a0-db32c9e29bb2\" xlink:actuate=\"onRequest\" xlink:href=\"psysml:5a5926b8-11d9-4284-b6a0-db32c9e29bb2\" xlink:show=\"new\" xlink:title=\"psysml:5a5926b8-11d9-4284-b6a0-db32c9e29bb2\" xlink:type=\"simple\"><path d=\"M110.79,104 C127.12,99.63 144.77,94.9 157.89,91.39 \" fill=\"none\" id=\"E5&lt;-E7\" style=\"stroke: #383838; stroke-width: 1.0;\"/><polygon fill=\"#383838\" points=\"98.09,107.4,104.922,109.7074,109.6796,104.2884,102.8476,101.981,98.09,107.4\" style=\"stroke: #383838; stroke-width: 1.0;\"/><text fill=\"#000000\" font-family=\"sans-serif\" font-size=\"13\" lengthAdjust=\"spacingAndGlyphs\" textLength=\"8\" x=\"141.8862\" y=\"107.5967\">1</text></a><!--MD5=[583832df87f4419a098336a29a52fa00]\n",
       "link E7 to E2--><a href=\"psysml:dd540a25-2742-496a-aaa6-3ea5cc8a4940\" target=\"_top\" title=\"psysml:dd540a25-2742-496a-aaa6-3ea5cc8a4940\" xlink:actuate=\"onRequest\" xlink:href=\"psysml:dd540a25-2742-496a-aaa6-3ea5cc8a4940\" xlink:show=\"new\" xlink:title=\"psysml:dd540a25-2742-496a-aaa6-3ea5cc8a4940\" xlink:type=\"simple\"><path d=\"M200.24,86 C211.49,86 225.9,86 239.37,86 \" fill=\"none\" id=\"E7-&gt;E2\" style=\"stroke: #383838; stroke-width: 1.0;\"/><polygon fill=\"none\" points=\"239.79,79,259.79,86,239.79,93,239.79,79\" style=\"stroke: #383838; stroke-width: 1.0;\"/></a><!--MD5=[2cf46ceb9d863d10a87caa41e916f220]\n",
       "@startuml\r\n",
       "left to right direction\r\n",
       "skinparam monochrome true\r\n",
       "skinparam classbackgroundcolor white\r\n",
       "skinparam shadowing false\r\n",
       "skinparam wrapWidth 300\r\n",
       "hide circle\r\n",
       "\r\n",
       "package \"ConnectionTest\" as E1  [[psysml:58064a58-d13b-4f80-a6f6-0eceb966f2f7 ]]  {\r\n",
       "comp usage \"p\" as E2  <<(T,blue) part>> [[psysml:98bc980e-08bf-4c08-bf0e-335abb3c4ffd ]] {\r\n",
       "}\r\n",
       "comp usage \"x\" as E3  <<(T,blue) part>> [[psysml:c51e79ce-7cf1-4bdb-aba6-5cab2657d431 ]] {\r\n",
       "}\r\n",
       "comp usage \"x1\" as E4  <<(T,blue) part>> [[psysml:31f41755-661a-4a53-a2bb-f2dfc01c0edf ]] {\r\n",
       "}\r\n",
       "comp def \"P\" as E5  <<(T,blue) part def>> [[psysml:9833d686-e720-46bf-b438-35dbd29b7a16 ]] {\r\n",
       "}\r\n",
       "comp usage \"y\" as E6  <<(T,blue) part>> [[psysml:f96f9e94-0e28-4abd-b8cb-5d3679a708db ]] {\r\n",
       "}\r\n",
       "comp usage \"p1\" as E7  <<(T,blue) part>> [[psysml:2279d5a4-5f0e-43ce-88bf-f6ddb21c3f25 ]] {\r\n",
       "}\r\n",
       "}\r\n",
       "E2 *- - \"1\"E3 [[psysml:1ffc18c1-940f-43c3-a54c-dcf9b76281a6 ]] \r\n",
       "E3 *- - \"1\"E4 [[psysml:3d75ef33-b13b-4214-af18-b5d2941be4f9 ]] \r\n",
       "E5 *- - \"1\"E6 [[psysml:d68af8b5-54d9-4416-b26b-1e36c98f2c99 ]] \r\n",
       "E2 -[thickness=3]- \"*\"E6 [[psysml:901b44a6-3b8d-4bea-9e51-ad40652cd7ff ]] \r\n",
       "E5 *- - \"1\"E7 [[psysml:5a5926b8-11d9-4284-b6a0-db32c9e29bb2 ]] \r\n",
       "E7 - -|> E2 [[psysml:dd540a25-2742-496a-aaa6-3ea5cc8a4940 ]] \r\n",
       "@enduml\r\n",
       "\n",
       "PlantUML version 1.2020.13(Sat Jun 13 12:26:38 UTC 2020)\n",
       "(EPL source distribution)\n",
       "Java Runtime: OpenJDK Runtime Environment\n",
       "JVM: OpenJDK 64-Bit Server VM\n",
       "Default Encoding: UTF-8\n",
       "Language: en\n",
       "Country: null\n",
       "--></g></svg>"
      ]
     },
     "execution_count": 17,
     "metadata": {},
     "output_type": "execute_result"
    }
   ],
   "source": [
    "%viz --style=\"LR\" --view=\"Tree\" \"ConnectionTest\""
   ]
  },
  {
   "cell_type": "code",
   "execution_count": 18,
   "id": "0b36b88a",
   "metadata": {
    "execution": {
     "iopub.execute_input": "2021-09-27T07:17:32.664535Z",
     "iopub.status.busy": "2021-09-27T07:17:32.664107Z",
     "iopub.status.idle": "2021-09-27T07:17:32.668019Z",
     "shell.execute_reply": "2021-09-27T07:17:32.667656Z"
    }
   },
   "outputs": [
    {
     "data": {
      "image/svg+xml": [
       "<?xml version=\"1.0\" encoding=\"UTF-8\" standalone=\"no\"?><svg xmlns=\"http://www.w3.org/2000/svg\" xmlns:xlink=\"http://www.w3.org/1999/xlink\" contentScriptType=\"application/ecmascript\" contentStyleType=\"text/css\" height=\"12px\" preserveAspectRatio=\"none\" style=\"width:12px;height:12px;\" version=\"1.1\" viewBox=\"0 0 12 12\" width=\"12px\" zoomAndPan=\"magnify\"><defs/><g><!--MD5=[19d285c9d72a204eba4e2cd117d745e8]\n",
       "@startuml\r\n",
       "left to right direction\r\n",
       "skinparam monochrome true\r\n",
       "skinparam classbackgroundcolor white\r\n",
       "skinparam shadowing false\r\n",
       "skinparam wrapWidth 300\r\n",
       "hide circle\r\n",
       "\r\n",
       "@enduml\r\n",
       "\n",
       "PlantUML version 1.2020.13(Sat Jun 13 12:26:38 UTC 2020)\n",
       "(EPL source distribution)\n",
       "Java Runtime: OpenJDK Runtime Environment\n",
       "JVM: OpenJDK 64-Bit Server VM\n",
       "Default Encoding: UTF-8\n",
       "Language: en\n",
       "Country: null\n",
       "--></g></svg>"
      ]
     },
     "execution_count": 18,
     "metadata": {},
     "output_type": "execute_result"
    }
   ],
   "source": [
    "%viz --style=\"LR\" --view=\"State\" \"ConnectionTest\""
   ]
  },
  {
   "cell_type": "code",
   "execution_count": 19,
   "id": "6d889a5b",
   "metadata": {
    "execution": {
     "iopub.execute_input": "2021-09-27T07:17:32.718236Z",
     "iopub.status.busy": "2021-09-27T07:17:32.717811Z",
     "iopub.status.idle": "2021-09-27T07:17:32.751510Z",
     "shell.execute_reply": "2021-09-27T07:17:32.750245Z"
    }
   },
   "outputs": [
    {
     "data": {
      "image/svg+xml": [
       "<?xml version=\"1.0\" encoding=\"UTF-8\" standalone=\"no\"?><svg xmlns=\"http://www.w3.org/2000/svg\" xmlns:xlink=\"http://www.w3.org/1999/xlink\" contentScriptType=\"application/ecmascript\" contentStyleType=\"text/css\" height=\"599px\" preserveAspectRatio=\"none\" style=\"width:354px;height:599px;\" version=\"1.1\" viewBox=\"0 0 354 599\" width=\"354px\" zoomAndPan=\"magnify\"><defs/><g><!--MD5=[fbc87193dbaf4d95561dea2c320d4a47]\n",
       "cluster E1--><a href=\"psysml:58064a58-d13b-4f80-a6f6-0eceb966f2f7\" target=\"_top\" title=\"psysml:58064a58-d13b-4f80-a6f6-0eceb966f2f7\" xlink:actuate=\"onRequest\" xlink:href=\"psysml:58064a58-d13b-4f80-a6f6-0eceb966f2f7\" xlink:show=\"new\" xlink:title=\"psysml:58064a58-d13b-4f80-a6f6-0eceb966f2f7\" xlink:type=\"simple\"><polygon fill=\"#FFFFFF\" points=\"16,6,133,6,140,28.2969,332,28.2969,332,587,16,587,16,6\" style=\"stroke: #000000; stroke-width: 1.5;\"/><line style=\"stroke: #000000; stroke-width: 1.5;\" x1=\"16\" x2=\"140\" y1=\"28.2969\" y2=\"28.2969\"/><text fill=\"#000000\" font-family=\"sans-serif\" font-size=\"14\" font-weight=\"bold\" lengthAdjust=\"spacingAndGlyphs\" textLength=\"111\" x=\"20\" y=\"20.9951\">ConnectionTest</text></a><!--MD5=[e4f7fae6ed58524ba242bb0b0d3be6b7]\n",
       "cluster E2--><a href=\"psysml:98bc980e-08bf-4c08-bf0e-335abb3c4ffd\" target=\"_top\" title=\"psysml:98bc980e-08bf-4c08-bf0e-335abb3c4ffd\" xlink:actuate=\"onRequest\" xlink:href=\"psysml:98bc980e-08bf-4c08-bf0e-335abb3c4ffd\" xlink:show=\"new\" xlink:title=\"psysml:98bc980e-08bf-4c08-bf0e-335abb3c4ffd\" xlink:type=\"simple\"><rect fill=\"#FFFFFF\" height=\"182\" id=\"E2\" rx=\"10\" ry=\"10\" style=\"stroke: #383838; stroke-width: 1.5;\" width=\"146\" x=\"72\" y=\"57\"/><rect fill=\"#F8F8F8\" height=\"23.9688\" rx=\"10\" ry=\"10\" style=\"stroke: #F8F8F8; stroke-width: 1.5;\" width=\"146\" x=\"72\" y=\"57\"/><rect fill=\"#F8F8F8\" height=\"10\" style=\"stroke: #F8F8F8; stroke-width: 1.5;\" width=\"146\" x=\"72\" y=\"70.9688\"/><rect fill=\"none\" height=\"182\" id=\"E2\" rx=\"10\" ry=\"10\" style=\"stroke: #383838; stroke-width: 1.5;\" width=\"146\" x=\"72\" y=\"57\"/><text fill=\"#000000\" font-family=\"sans-serif\" font-size=\"12\" lengthAdjust=\"spacingAndGlyphs\" textLength=\"8\" x=\"141\" y=\"73.1387\">p</text><line style=\"stroke: #383838; stroke-width: 1.0;\" x1=\"72\" x2=\"218\" y1=\"80.9688\" y2=\"80.9688\"/></a><!--MD5=[d5e69f78d87373223dbae638b30a9c99]\n",
       "cluster E3--><a href=\"psysml:c51e79ce-7cf1-4bdb-aba6-5cab2657d431\" target=\"_top\" title=\"psysml:c51e79ce-7cf1-4bdb-aba6-5cab2657d431\" xlink:actuate=\"onRequest\" xlink:href=\"psysml:c51e79ce-7cf1-4bdb-aba6-5cab2657d431\" xlink:show=\"new\" xlink:title=\"psysml:c51e79ce-7cf1-4bdb-aba6-5cab2657d431\" xlink:type=\"simple\"><rect fill=\"#FFFFFF\" height=\"91\" id=\"E3\" rx=\"10\" ry=\"10\" style=\"stroke: #383838; stroke-width: 1.5;\" width=\"82\" x=\"104\" y=\"108\"/><rect fill=\"#F8F8F8\" height=\"23.9688\" rx=\"10\" ry=\"10\" style=\"stroke: #F8F8F8; stroke-width: 1.5;\" width=\"82\" x=\"104\" y=\"108\"/><rect fill=\"#F8F8F8\" height=\"10\" style=\"stroke: #F8F8F8; stroke-width: 1.5;\" width=\"82\" x=\"104\" y=\"121.9688\"/><rect fill=\"none\" height=\"91\" id=\"E3\" rx=\"10\" ry=\"10\" style=\"stroke: #383838; stroke-width: 1.5;\" width=\"82\" x=\"104\" y=\"108\"/><text fill=\"#000000\" font-family=\"sans-serif\" font-size=\"12\" lengthAdjust=\"spacingAndGlyphs\" textLength=\"6\" x=\"142\" y=\"124.1387\">x</text><line style=\"stroke: #383838; stroke-width: 1.0;\" x1=\"104\" x2=\"186\" y1=\"131.9688\" y2=\"131.9688\"/></a><!--MD5=[de5ec2e2e8f62f467e546659f5068c88]\n",
       "cluster E5--><a href=\"psysml:9833d686-e720-46bf-b438-35dbd29b7a16\" target=\"_top\" title=\"psysml:9833d686-e720-46bf-b438-35dbd29b7a16\" xlink:actuate=\"onRequest\" xlink:href=\"psysml:9833d686-e720-46bf-b438-35dbd29b7a16\" xlink:show=\"new\" xlink:title=\"psysml:9833d686-e720-46bf-b438-35dbd29b7a16\" xlink:type=\"simple\"><rect fill=\"#FFFFFF\" height=\"292\" id=\"E5\" style=\"stroke: #383838; stroke-width: 1.5;\" width=\"268\" x=\"40\" y=\"271\"/><rect fill=\"#F8F8F8\" height=\"37.9375\" style=\"stroke: #383838; stroke-width: 1.5;\" width=\"268\" x=\"40\" y=\"271\"/><text fill=\"#000000\" font-family=\"sans-serif\" font-size=\"12\" font-style=\"italic\" lengthAdjust=\"spacingAndGlyphs\" textLength=\"64\" x=\"142\" y=\"287.1387\">«part def»</text><text fill=\"#000000\" font-family=\"sans-serif\" font-size=\"12\" lengthAdjust=\"spacingAndGlyphs\" textLength=\"8\" x=\"170\" y=\"301.1074\">P</text></a><!--MD5=[168fadf3d0c3fd93dd5d6da1b1d7ab76]\n",
       "cluster E7--><a href=\"psysml:2279d5a4-5f0e-43ce-88bf-f6ddb21c3f25\" target=\"_top\" title=\"psysml:2279d5a4-5f0e-43ce-88bf-f6ddb21c3f25\" xlink:actuate=\"onRequest\" xlink:href=\"psysml:2279d5a4-5f0e-43ce-88bf-f6ddb21c3f25\" xlink:show=\"new\" xlink:title=\"psysml:2279d5a4-5f0e-43ce-88bf-f6ddb21c3f25\" xlink:type=\"simple\"><rect fill=\"#FFFFFF\" height=\"209\" id=\"E7\" rx=\"10\" ry=\"10\" style=\"stroke: #383838; stroke-width: 1.5;\" width=\"162\" x=\"64\" y=\"330\"/><rect fill=\"#F8F8F8\" height=\"23.9688\" rx=\"10\" ry=\"10\" style=\"stroke: #F8F8F8; stroke-width: 1.5;\" width=\"162\" x=\"64\" y=\"330\"/><rect fill=\"#F8F8F8\" height=\"10\" style=\"stroke: #F8F8F8; stroke-width: 1.5;\" width=\"162\" x=\"64\" y=\"343.9688\"/><rect fill=\"none\" height=\"209\" id=\"E7\" rx=\"10\" ry=\"10\" style=\"stroke: #383838; stroke-width: 1.5;\" width=\"162\" x=\"64\" y=\"330\"/><text fill=\"#000000\" font-family=\"sans-serif\" font-size=\"12\" lengthAdjust=\"spacingAndGlyphs\" textLength=\"16\" x=\"137\" y=\"346.1387\">p1</text><line style=\"stroke: #383838; stroke-width: 1.0;\" x1=\"64\" x2=\"226\" y1=\"353.9688\" y2=\"353.9688\"/></a><!--MD5=[55dfccfc6c49c2d10cd1bd2211a6c90c]\n",
       "cluster E8--><a href=\"psysml:c51e79ce-7cf1-4bdb-aba6-5cab2657d431\" target=\"_top\" title=\"psysml:c51e79ce-7cf1-4bdb-aba6-5cab2657d431\" xlink:actuate=\"onRequest\" xlink:href=\"psysml:c51e79ce-7cf1-4bdb-aba6-5cab2657d431\" xlink:show=\"new\" xlink:title=\"psysml:c51e79ce-7cf1-4bdb-aba6-5cab2657d431\" xlink:type=\"simple\"><rect fill=\"#FFFFFF\" height=\"126\" id=\"E8\" rx=\"10\" ry=\"10\" style=\"stroke: #383838; stroke-width: 1.5;\" width=\"98\" x=\"96\" y=\"381\"/><rect fill=\"#F8F8F8\" height=\"23.9688\" rx=\"10\" ry=\"10\" style=\"stroke: #F8F8F8; stroke-width: 1.5;\" width=\"98\" x=\"96\" y=\"381\"/><rect fill=\"#F8F8F8\" height=\"10\" style=\"stroke: #F8F8F8; stroke-width: 1.5;\" width=\"98\" x=\"96\" y=\"394.9688\"/><rect fill=\"none\" height=\"126\" id=\"E8\" rx=\"10\" ry=\"10\" style=\"stroke: #383838; stroke-width: 1.5;\" width=\"98\" x=\"96\" y=\"381\"/><text fill=\"#000000\" font-family=\"sans-serif\" font-size=\"12\" lengthAdjust=\"spacingAndGlyphs\" textLength=\"16\" x=\"137\" y=\"397.1387\">^x</text><line style=\"stroke: #383838; stroke-width: 1.0;\" x1=\"96\" x2=\"194\" y1=\"404.9688\" y2=\"404.9688\"/></a><g id=\"E1.E2.E3.E4\"><a href=\"psysml:31f41755-661a-4a53-a2bb-f2dfc01c0edf\" target=\"_top\" title=\"psysml:31f41755-661a-4a53-a2bb-f2dfc01c0edf\" xlink:actuate=\"onRequest\" xlink:href=\"psysml:31f41755-661a-4a53-a2bb-f2dfc01c0edf\" xlink:show=\"new\" xlink:title=\"psysml:31f41755-661a-4a53-a2bb-f2dfc01c0edf\" xlink:type=\"simple\"><rect fill=\"#FFFFFF\" height=\"40\" id=\"E4\" rx=\"10\" ry=\"10\" style=\"stroke: #383838; stroke-width: 1.5;\" width=\"50\" x=\"120\" y=\"143\"/><rect fill=\"#F8F8F8\" height=\"23.9688\" rx=\"10\" ry=\"10\" style=\"stroke: #F8F8F8; stroke-width: 1.5;\" width=\"50\" x=\"120\" y=\"143\"/><rect fill=\"#F8F8F8\" height=\"10\" style=\"stroke: #F8F8F8; stroke-width: 1.5;\" width=\"50\" x=\"120\" y=\"156.9688\"/><rect fill=\"none\" height=\"40\" id=\"E4\" rx=\"10\" ry=\"10\" style=\"stroke: #383838; stroke-width: 1.5;\" width=\"50\" x=\"120\" y=\"143\"/><text fill=\"#000000\" font-family=\"sans-serif\" font-size=\"12\" lengthAdjust=\"spacingAndGlyphs\" textLength=\"14\" x=\"138\" y=\"159.1387\">x1</text></a></g><g id=\"E1.E5.E6\"><a href=\"psysml:f96f9e94-0e28-4abd-b8cb-5d3679a708db\" target=\"_top\" title=\"psysml:f96f9e94-0e28-4abd-b8cb-5d3679a708db\" xlink:actuate=\"onRequest\" xlink:href=\"psysml:f96f9e94-0e28-4abd-b8cb-5d3679a708db\" xlink:show=\"new\" xlink:title=\"psysml:f96f9e94-0e28-4abd-b8cb-5d3679a708db\" xlink:type=\"simple\"><rect fill=\"#FFFFFF\" height=\"40\" id=\"E6\" rx=\"10\" ry=\"10\" style=\"stroke: #383838; stroke-width: 1.5;\" width=\"50\" x=\"242\" y=\"424\"/><rect fill=\"#F8F8F8\" height=\"23.9688\" rx=\"10\" ry=\"10\" style=\"stroke: #F8F8F8; stroke-width: 1.5;\" width=\"50\" x=\"242\" y=\"424\"/><rect fill=\"#F8F8F8\" height=\"10\" style=\"stroke: #F8F8F8; stroke-width: 1.5;\" width=\"50\" x=\"242\" y=\"437.9688\"/><rect fill=\"none\" height=\"40\" id=\"E6\" rx=\"10\" ry=\"10\" style=\"stroke: #383838; stroke-width: 1.5;\" width=\"50\" x=\"242\" y=\"424\"/><text fill=\"#000000\" font-family=\"sans-serif\" font-size=\"12\" lengthAdjust=\"spacingAndGlyphs\" textLength=\"6\" x=\"264\" y=\"440.1387\">y</text></a></g><g id=\"E1.E5.E7.E8.E9\"><a href=\"psysml:31f41755-661a-4a53-a2bb-f2dfc01c0edf\" target=\"_top\" title=\"psysml:31f41755-661a-4a53-a2bb-f2dfc01c0edf\" xlink:actuate=\"onRequest\" xlink:href=\"psysml:31f41755-661a-4a53-a2bb-f2dfc01c0edf\" xlink:show=\"new\" xlink:title=\"psysml:31f41755-661a-4a53-a2bb-f2dfc01c0edf\" xlink:type=\"simple\"><rect fill=\"#FFFFFF\" height=\"40\" id=\"E9\" rx=\"10\" ry=\"10\" style=\"stroke: #383838; stroke-width: 1.5;\" width=\"50\" x=\"120\" y=\"424\"/><rect fill=\"#F8F8F8\" height=\"23.9688\" rx=\"10\" ry=\"10\" style=\"stroke: #F8F8F8; stroke-width: 1.5;\" width=\"50\" x=\"120\" y=\"424\"/><rect fill=\"#F8F8F8\" height=\"10\" style=\"stroke: #F8F8F8; stroke-width: 1.5;\" width=\"50\" x=\"120\" y=\"437.9688\"/><rect fill=\"none\" height=\"40\" id=\"E9\" rx=\"10\" ry=\"10\" style=\"stroke: #383838; stroke-width: 1.5;\" width=\"50\" x=\"120\" y=\"424\"/><text fill=\"#000000\" font-family=\"sans-serif\" font-size=\"12\" lengthAdjust=\"spacingAndGlyphs\" textLength=\"14\" x=\"138\" y=\"440.1387\">x1</text></a></g><!--MD5=[e3e28c1befcf002155aa15e1416b4315]\n",
       "link E2 to E6--><a href=\"psysml:901b44a6-3b8d-4bea-9e51-ad40652cd7ff\" target=\"_top\" title=\"psysml:901b44a6-3b8d-4bea-9e51-ad40652cd7ff\" xlink:actuate=\"onRequest\" xlink:href=\"psysml:901b44a6-3b8d-4bea-9e51-ad40652cd7ff\" xlink:show=\"new\" xlink:title=\"psysml:901b44a6-3b8d-4bea-9e51-ad40652cd7ff\" xlink:type=\"simple\"><path d=\"M150.6193,239.193 C150.6967,239.3306 150.7751,239.4697 150.8543,239.6103 C151.0127,239.8916 151.1746,240.1791 151.34,240.4727 C151.6707,241.0598 152.0152,241.6715 152.3731,242.3067 C153.0887,243.5773 153.8576,244.9423 154.676,246.3953 C156.3129,249.3013 158.148,252.5593 160.1522,256.1172 C168.1688,270.3488 178.8888,289.3787 190.435,309.875 C213.5275,350.8675 239.925,397.725 254.61,423.79 \" fill=\"none\" id=\"E2-E6\" style=\"stroke: #383838; stroke-width: 3.0;\"/><text fill=\"#000000\" font-family=\"sans-serif\" font-size=\"13\" lengthAdjust=\"spacingAndGlyphs\" textLength=\"7\" x=\"243.1409\" y=\"413.0821\">*</text></a><!--MD5=[c5e8897d989ce984f93528998a7150fe]\n",
       "link E8 to E6--><a href=\"psysml:b9509daa-923d-4932-b597-51fbb4fcb62c\" target=\"_top\" title=\"psysml:b9509daa-923d-4932-b597-51fbb4fcb62c\" xlink:actuate=\"onRequest\" xlink:href=\"psysml:b9509daa-923d-4932-b597-51fbb4fcb62c\" xlink:show=\"new\" xlink:title=\"psysml:b9509daa-923d-4932-b597-51fbb4fcb62c\" xlink:type=\"simple\"><path d=\"M194.0904,494.256 C194.6799,494.1343 195.2708,494.0096 195.8628,493.8816 C197.047,493.6257 198.2359,493.3572 199.4276,493.0753 C201.811,492.5115 204.2054,491.8945 206.5948,491.2192 C216.1525,488.5181 225.63,484.885 234,480 C240.79,476.04 246.91,470.13 251.93,464.24 \" fill=\"none\" id=\"E8-E6\" style=\"stroke: #383838; stroke-width: 3.0;\"/><text fill=\"#000000\" font-family=\"sans-serif\" font-size=\"13\" lengthAdjust=\"spacingAndGlyphs\" textLength=\"7\" x=\"239.7072\" y=\"484.1274\">*</text></a><!--MD5=[60ac2c0cde89d4308155b0484e57a8ec]\n",
       "link E9 to E6--><a href=\"psysml:c683e43b-7fd5-4334-8447-643be8454737\" target=\"_top\" title=\"psysml:c683e43b-7fd5-4334-8447-643be8454737\" xlink:actuate=\"onRequest\" xlink:href=\"psysml:c683e43b-7fd5-4334-8447-643be8454737\" xlink:show=\"new\" xlink:title=\"psysml:c683e43b-7fd5-4334-8447-643be8454737\" xlink:type=\"simple\"><path d=\"M170.28,444 C191.1,444 220.94,444 241.75,444 \" fill=\"none\" id=\"E9-E6\" style=\"stroke: #383838; stroke-width: 3.0;\"/><text fill=\"#000000\" font-family=\"sans-serif\" font-size=\"13\" lengthAdjust=\"spacingAndGlyphs\" textLength=\"7\" x=\"227.0234\" y=\"458.1004\">*</text></a><!--MD5=[e95a376c8b55182d4a2e0f02a0d60dbb]\n",
       "@startuml\r\n",
       "skinparam ranksep 10\r\n",
       "skinparam rectangle {\r\n",
       " backgroundColor<<block>> LightGreen\r\n",
       "}\r\n",
       "left to right direction\r\n",
       "skinparam monochrome true\r\n",
       "skinparam classbackgroundcolor white\r\n",
       "skinparam shadowing false\r\n",
       "skinparam wrapWidth 300\r\n",
       "hide circle\r\n",
       "\r\n",
       "package \"ConnectionTest\" as E1  [[psysml:58064a58-d13b-4f80-a6f6-0eceb966f2f7 ]]  {\r\n",
       "rec usage \"p\" as E2  [[psysml:98bc980e-08bf-4c08-bf0e-335abb3c4ffd ]] {\r\n",
       "rec usage \"x\" as E3  [[psysml:c51e79ce-7cf1-4bdb-aba6-5cab2657d431 ]] {\r\n",
       "rec usage \"x1\" as E4  [[psysml:31f41755-661a-4a53-a2bb-f2dfc01c0edf ]] {\r\n",
       "}\r\n",
       "}\r\n",
       "}\r\n",
       "rec def \"P\" as E5  <<(T,blue) part def>> [[psysml:9833d686-e720-46bf-b438-35dbd29b7a16 ]] {\r\n",
       "rec usage \"y\" as E6  [[psysml:f96f9e94-0e28-4abd-b8cb-5d3679a708db ]] {\r\n",
       "}\r\n",
       "rec usage \"p1\" as E7  [[psysml:2279d5a4-5f0e-43ce-88bf-f6ddb21c3f25 ]] {\r\n",
       "rec usage \"^x\" as E8  [[psysml:c51e79ce-7cf1-4bdb-aba6-5cab2657d431 ]] {\r\n",
       "rec usage \"x1\" as E9  [[psysml:31f41755-661a-4a53-a2bb-f2dfc01c0edf ]] {\r\n",
       "}\r\n",
       "}\r\n",
       "}\r\n",
       "}\r\n",
       "}\r\n",
       "E2 -[thickness=3]- \"*\"E6 [[psysml:901b44a6-3b8d-4bea-9e51-ad40652cd7ff ]] \r\n",
       "E8 -[thickness=3]- \"*\"E6 [[psysml:b9509daa-923d-4932-b597-51fbb4fcb62c ]] \r\n",
       "E9 -[thickness=3]- \"*\"E6 [[psysml:c683e43b-7fd5-4334-8447-643be8454737 ]] \r\n",
       "@enduml\r\n",
       "\n",
       "PlantUML version 1.2020.13(Sat Jun 13 12:26:38 UTC 2020)\n",
       "(EPL source distribution)\n",
       "Java Runtime: OpenJDK Runtime Environment\n",
       "JVM: OpenJDK 64-Bit Server VM\n",
       "Default Encoding: UTF-8\n",
       "Language: en\n",
       "Country: null\n",
       "--></g></svg>"
      ]
     },
     "execution_count": 19,
     "metadata": {},
     "output_type": "execute_result"
    }
   ],
   "source": [
    "%viz --style=\"LR\" --view=\"Interconnection\" \"ConnectionTest\""
   ]
  },
  {
   "cell_type": "code",
   "execution_count": 20,
   "id": "95196b76",
   "metadata": {
    "execution": {
     "iopub.execute_input": "2021-09-27T07:17:32.801190Z",
     "iopub.status.busy": "2021-09-27T07:17:32.800778Z",
     "iopub.status.idle": "2021-09-27T07:17:32.804689Z",
     "shell.execute_reply": "2021-09-27T07:17:32.804338Z"
    }
   },
   "outputs": [
    {
     "data": {
      "image/svg+xml": [
       "<?xml version=\"1.0\" encoding=\"UTF-8\" standalone=\"no\"?><svg xmlns=\"http://www.w3.org/2000/svg\" xmlns:xlink=\"http://www.w3.org/1999/xlink\" contentScriptType=\"application/ecmascript\" contentStyleType=\"text/css\" height=\"12px\" preserveAspectRatio=\"none\" style=\"width:12px;height:12px;\" version=\"1.1\" viewBox=\"0 0 12 12\" width=\"12px\" zoomAndPan=\"magnify\"><defs/><g><!--MD5=[7aeb398939421629f6affaa4a1a7b125]\n",
       "@startuml\r\n",
       "skinparam ranksep 8\r\n",
       "left to right direction\r\n",
       "skinparam monochrome true\r\n",
       "skinparam classbackgroundcolor white\r\n",
       "skinparam shadowing false\r\n",
       "skinparam wrapWidth 300\r\n",
       "hide circle\r\n",
       "\r\n",
       "@enduml\r\n",
       "\n",
       "PlantUML version 1.2020.13(Sat Jun 13 12:26:38 UTC 2020)\n",
       "(EPL source distribution)\n",
       "Java Runtime: OpenJDK Runtime Environment\n",
       "JVM: OpenJDK 64-Bit Server VM\n",
       "Default Encoding: UTF-8\n",
       "Language: en\n",
       "Country: null\n",
       "--></g></svg>"
      ]
     },
     "execution_count": 20,
     "metadata": {},
     "output_type": "execute_result"
    }
   ],
   "source": [
    "%viz --style=\"LR\" --view=\"Action\" \"ConnectionTest\""
   ]
  },
  {
   "cell_type": "code",
   "execution_count": 21,
   "id": "a5168ae6",
   "metadata": {
    "execution": {
     "iopub.execute_input": "2021-09-27T07:17:32.854700Z",
     "iopub.status.busy": "2021-09-27T07:17:32.854267Z",
     "iopub.status.idle": "2021-09-27T07:17:32.858131Z",
     "shell.execute_reply": "2021-09-27T07:17:32.857769Z"
    }
   },
   "outputs": [
    {
     "data": {
      "image/svg+xml": [
       "<?xml version=\"1.0\" encoding=\"UTF-8\" standalone=\"no\"?><svg xmlns=\"http://www.w3.org/2000/svg\" xmlns:xlink=\"http://www.w3.org/1999/xlink\" contentScriptType=\"application/ecmascript\" contentStyleType=\"text/css\" height=\"12px\" preserveAspectRatio=\"none\" style=\"width:12px;height:12px;\" version=\"1.1\" viewBox=\"0 0 12 12\" width=\"12px\" zoomAndPan=\"magnify\"><defs/><g><!--MD5=[238c11ea2002f03115ad6b49a457d50e]\n",
       "@startuml\r\n",
       "skinparam roundcorner 20\r\n",
       "skinparam BoxPadding 20\r\n",
       "skinparam SequenceBoxBackgroundColor #white\r\n",
       "skinparam style strictuml\r\n",
       "skinparam maxMessageSize 100\r\n",
       "left to right direction\r\n",
       "skinparam monochrome true\r\n",
       "skinparam classbackgroundcolor white\r\n",
       "skinparam shadowing false\r\n",
       "skinparam wrapWidth 300\r\n",
       "hide circle\r\n",
       "\r\n",
       "@enduml\r\n",
       "\n",
       "PlantUML version 1.2020.13(Sat Jun 13 12:26:38 UTC 2020)\n",
       "(EPL source distribution)\n",
       "Java Runtime: OpenJDK Runtime Environment\n",
       "JVM: OpenJDK 64-Bit Server VM\n",
       "Default Encoding: UTF-8\n",
       "Language: en\n",
       "Country: null\n",
       "--></g></svg>"
      ]
     },
     "execution_count": 21,
     "metadata": {},
     "output_type": "execute_result"
    }
   ],
   "source": [
    "%viz --style=\"LR\" --view=\"Sequence\" \"ConnectionTest\""
   ]
  },
  {
   "cell_type": "code",
   "execution_count": 22,
   "id": "a66abe7f",
   "metadata": {
    "execution": {
     "iopub.execute_input": "2021-09-27T07:17:32.908179Z",
     "iopub.status.busy": "2021-09-27T07:17:32.907771Z",
     "iopub.status.idle": "2021-09-27T07:17:32.940319Z",
     "shell.execute_reply": "2021-09-27T07:17:32.940642Z"
    }
   },
   "outputs": [
    {
     "data": {
      "image/svg+xml": [
       "<?xml version=\"1.0\" encoding=\"UTF-8\" standalone=\"no\"?><svg xmlns=\"http://www.w3.org/2000/svg\" xmlns:xlink=\"http://www.w3.org/1999/xlink\" contentScriptType=\"application/ecmascript\" contentStyleType=\"text/css\" height=\"196px\" preserveAspectRatio=\"none\" style=\"width:544px;height:196px;\" version=\"1.1\" viewBox=\"0 0 544 196\" width=\"544px\" zoomAndPan=\"magnify\"><defs/><g><!--MD5=[fbc87193dbaf4d95561dea2c320d4a47]\n",
       "cluster E1--><a href=\"psysml:58064a58-d13b-4f80-a6f6-0eceb966f2f7\" target=\"_top\" title=\"psysml:58064a58-d13b-4f80-a6f6-0eceb966f2f7\" xlink:actuate=\"onRequest\" xlink:href=\"psysml:58064a58-d13b-4f80-a6f6-0eceb966f2f7\" xlink:show=\"new\" xlink:title=\"psysml:58064a58-d13b-4f80-a6f6-0eceb966f2f7\" xlink:type=\"simple\"><polygon fill=\"#FFFFFF\" points=\"16,6,133,6,140,28.2969,522,28.2969,522,184,16,184,16,6\" style=\"stroke: #000000; stroke-width: 1.5;\"/><line style=\"stroke: #000000; stroke-width: 1.5;\" x1=\"16\" x2=\"140\" y1=\"28.2969\" y2=\"28.2969\"/><text fill=\"#000000\" font-family=\"sans-serif\" font-size=\"14\" font-weight=\"bold\" lengthAdjust=\"spacingAndGlyphs\" textLength=\"111\" x=\"20\" y=\"20.9951\">ConnectionTest</text></a><!--MD5=[b4997ac47864f28c2f74865a473b2911]\n",
       "class E2--><a href=\"psysml:98bc980e-08bf-4c08-bf0e-335abb3c4ffd\" target=\"_top\" title=\"psysml:98bc980e-08bf-4c08-bf0e-335abb3c4ffd\" xlink:actuate=\"onRequest\" xlink:href=\"psysml:98bc980e-08bf-4c08-bf0e-335abb3c4ffd\" xlink:show=\"new\" xlink:title=\"psysml:98bc980e-08bf-4c08-bf0e-335abb3c4ffd\" xlink:type=\"simple\"><rect fill=\"#FFFFFF\" height=\"45.9375\" id=\"E2\" rx=\"10\" ry=\"10\" style=\"stroke: #383838; stroke-width: 1.5;\" width=\"42\" x=\"260\" y=\"63\"/><text fill=\"#000000\" font-family=\"sans-serif\" font-size=\"12\" font-style=\"italic\" lengthAdjust=\"spacingAndGlyphs\" textLength=\"40\" x=\"261\" y=\"79.1387\">«part»</text><text fill=\"#000000\" font-family=\"sans-serif\" font-size=\"12\" lengthAdjust=\"spacingAndGlyphs\" textLength=\"8\" x=\"277\" y=\"93.1074\">p</text><line style=\"stroke: #383838; stroke-width: 1.5;\" x1=\"261\" x2=\"301\" y1=\"100.9375\" y2=\"100.9375\"/></a><!--MD5=[09b614a08d8cba4a07c9adeb5e0fee81]\n",
       "class E3--><a href=\"psysml:c51e79ce-7cf1-4bdb-aba6-5cab2657d431\" target=\"_top\" title=\"psysml:c51e79ce-7cf1-4bdb-aba6-5cab2657d431\" xlink:actuate=\"onRequest\" xlink:href=\"psysml:c51e79ce-7cf1-4bdb-aba6-5cab2657d431\" xlink:show=\"new\" xlink:title=\"psysml:c51e79ce-7cf1-4bdb-aba6-5cab2657d431\" xlink:type=\"simple\"><rect fill=\"#FFFFFF\" height=\"45.9375\" id=\"E3\" rx=\"10\" ry=\"10\" style=\"stroke: #383838; stroke-width: 1.5;\" width=\"42\" x=\"362\" y=\"41\"/><text fill=\"#000000\" font-family=\"sans-serif\" font-size=\"12\" font-style=\"italic\" lengthAdjust=\"spacingAndGlyphs\" textLength=\"40\" x=\"363\" y=\"57.1387\">«part»</text><text fill=\"#000000\" font-family=\"sans-serif\" font-size=\"12\" lengthAdjust=\"spacingAndGlyphs\" textLength=\"6\" x=\"380\" y=\"71.1074\">x</text><line style=\"stroke: #383838; stroke-width: 1.5;\" x1=\"363\" x2=\"403\" y1=\"78.9375\" y2=\"78.9375\"/></a><!--MD5=[ebbe1d658d1005bcc118a6aa81145e00]\n",
       "class E4--><a href=\"psysml:31f41755-661a-4a53-a2bb-f2dfc01c0edf\" target=\"_top\" title=\"psysml:31f41755-661a-4a53-a2bb-f2dfc01c0edf\" xlink:actuate=\"onRequest\" xlink:href=\"psysml:31f41755-661a-4a53-a2bb-f2dfc01c0edf\" xlink:show=\"new\" xlink:title=\"psysml:31f41755-661a-4a53-a2bb-f2dfc01c0edf\" xlink:type=\"simple\"><rect fill=\"#FFFFFF\" height=\"45.9375\" id=\"E4\" rx=\"10\" ry=\"10\" style=\"stroke: #383838; stroke-width: 1.5;\" width=\"42\" x=\"464\" y=\"41\"/><text fill=\"#000000\" font-family=\"sans-serif\" font-size=\"12\" font-style=\"italic\" lengthAdjust=\"spacingAndGlyphs\" textLength=\"40\" x=\"465\" y=\"57.1387\">«part»</text><text fill=\"#000000\" font-family=\"sans-serif\" font-size=\"12\" lengthAdjust=\"spacingAndGlyphs\" textLength=\"14\" x=\"478\" y=\"71.1074\">x1</text><line style=\"stroke: #383838; stroke-width: 1.5;\" x1=\"465\" x2=\"505\" y1=\"78.9375\" y2=\"78.9375\"/></a><!--MD5=[270fce915f116d4de14055a7c1d9a0f3]\n",
       "class E5--><a href=\"psysml:9833d686-e720-46bf-b438-35dbd29b7a16\" target=\"_top\" title=\"psysml:9833d686-e720-46bf-b438-35dbd29b7a16\" xlink:actuate=\"onRequest\" xlink:href=\"psysml:9833d686-e720-46bf-b438-35dbd29b7a16\" xlink:show=\"new\" xlink:title=\"psysml:9833d686-e720-46bf-b438-35dbd29b7a16\" xlink:type=\"simple\"><rect fill=\"#FFFFFF\" height=\"45.9375\" id=\"E5\" style=\"stroke: #383838; stroke-width: 1.5;\" width=\"66\" x=\"32\" y=\"93\"/><text fill=\"#000000\" font-family=\"sans-serif\" font-size=\"12\" font-style=\"italic\" lengthAdjust=\"spacingAndGlyphs\" textLength=\"64\" x=\"33\" y=\"109.1387\">«part def»</text><text fill=\"#000000\" font-family=\"sans-serif\" font-size=\"12\" lengthAdjust=\"spacingAndGlyphs\" textLength=\"8\" x=\"61\" y=\"123.1074\">P</text><line style=\"stroke: #383838; stroke-width: 1.5;\" x1=\"33\" x2=\"97\" y1=\"130.9375\" y2=\"130.9375\"/></a><!--MD5=[60a26617385b1d2d0262a64233df1f8d]\n",
       "class E6--><a href=\"psysml:f96f9e94-0e28-4abd-b8cb-5d3679a708db\" target=\"_top\" title=\"psysml:f96f9e94-0e28-4abd-b8cb-5d3679a708db\" xlink:actuate=\"onRequest\" xlink:href=\"psysml:f96f9e94-0e28-4abd-b8cb-5d3679a708db\" xlink:show=\"new\" xlink:title=\"psysml:f96f9e94-0e28-4abd-b8cb-5d3679a708db\" xlink:type=\"simple\"><rect fill=\"#FFFFFF\" height=\"45.9375\" id=\"E6\" rx=\"10\" ry=\"10\" style=\"stroke: #383838; stroke-width: 1.5;\" width=\"42\" x=\"362\" y=\"122\"/><text fill=\"#000000\" font-family=\"sans-serif\" font-size=\"12\" font-style=\"italic\" lengthAdjust=\"spacingAndGlyphs\" textLength=\"40\" x=\"363\" y=\"138.1387\">«part»</text><text fill=\"#000000\" font-family=\"sans-serif\" font-size=\"12\" lengthAdjust=\"spacingAndGlyphs\" textLength=\"6\" x=\"380\" y=\"152.1074\">y</text><line style=\"stroke: #383838; stroke-width: 1.5;\" x1=\"363\" x2=\"403\" y1=\"159.9375\" y2=\"159.9375\"/></a><!--MD5=[2156ba9850f5573cc1fc38a6a4b2f02b]\n",
       "class E7--><a href=\"psysml:2279d5a4-5f0e-43ce-88bf-f6ddb21c3f25\" target=\"_top\" title=\"psysml:2279d5a4-5f0e-43ce-88bf-f6ddb21c3f25\" xlink:actuate=\"onRequest\" xlink:href=\"psysml:2279d5a4-5f0e-43ce-88bf-f6ddb21c3f25\" xlink:show=\"new\" xlink:title=\"psysml:2279d5a4-5f0e-43ce-88bf-f6ddb21c3f25\" xlink:type=\"simple\"><rect fill=\"#FFFFFF\" height=\"45.9375\" id=\"E7\" rx=\"10\" ry=\"10\" style=\"stroke: #383838; stroke-width: 1.5;\" width=\"42\" x=\"158\" y=\"63\"/><text fill=\"#000000\" font-family=\"sans-serif\" font-size=\"12\" font-style=\"italic\" lengthAdjust=\"spacingAndGlyphs\" textLength=\"40\" x=\"159\" y=\"79.1387\">«part»</text><text fill=\"#000000\" font-family=\"sans-serif\" font-size=\"12\" lengthAdjust=\"spacingAndGlyphs\" textLength=\"16\" x=\"171\" y=\"93.1074\">p1</text><line style=\"stroke: #383838; stroke-width: 1.5;\" x1=\"159\" x2=\"199\" y1=\"100.9375\" y2=\"100.9375\"/></a><!--MD5=[209b3feb70ccb6233bfe1053d122c12c]\n",
       "reverse link E2 to E3--><a href=\"psysml:1ffc18c1-940f-43c3-a54c-dcf9b76281a6\" target=\"_top\" title=\"psysml:1ffc18c1-940f-43c3-a54c-dcf9b76281a6\" xlink:actuate=\"onRequest\" xlink:href=\"psysml:1ffc18c1-940f-43c3-a54c-dcf9b76281a6\" xlink:show=\"new\" xlink:title=\"psysml:1ffc18c1-940f-43c3-a54c-dcf9b76281a6\" xlink:type=\"simple\"><path d=\"M315.01,78.74 C330.47,75.34 348.38,71.4 361.79,68.45 \" fill=\"none\" id=\"E2&lt;-E3\" style=\"stroke: #383838; stroke-width: 1.0;\"/><polygon fill=\"#383838\" points=\"302.24,81.55,308.9577,84.1716,313.9613,78.979,307.2437,76.3574,302.24,81.55\" style=\"stroke: #383838; stroke-width: 1.0;\"/><text fill=\"#000000\" font-family=\"sans-serif\" font-size=\"13\" lengthAdjust=\"spacingAndGlyphs\" textLength=\"8\" x=\"346.0694\" y=\"84.2065\">1</text></a><!--MD5=[4672eba38e49728da53d11aeb285b987]\n",
       "reverse link E3 to E4--><a href=\"psysml:3d75ef33-b13b-4214-af18-b5d2941be4f9\" target=\"_top\" title=\"psysml:3d75ef33-b13b-4214-af18-b5d2941be4f9\" xlink:actuate=\"onRequest\" xlink:href=\"psysml:3d75ef33-b13b-4214-af18-b5d2941be4f9\" xlink:show=\"new\" xlink:title=\"psysml:3d75ef33-b13b-4214-af18-b5d2941be4f9\" xlink:type=\"simple\"><path d=\"M417.48,64 C432.83,64 450.52,64 463.79,64 \" fill=\"none\" id=\"E3&lt;-E4\" style=\"stroke: #383838; stroke-width: 1.0;\"/><polygon fill=\"#383838\" points=\"404.24,64,410.24,68,416.24,64,410.24,60,404.24,64\" style=\"stroke: #383838; stroke-width: 1.0;\"/><text fill=\"#000000\" font-family=\"sans-serif\" font-size=\"13\" lengthAdjust=\"spacingAndGlyphs\" textLength=\"8\" x=\"448.0694\" y=\"78.3937\">1</text></a><!--MD5=[85d356282659285ab4b2cfe2f634dd2b]\n",
       "reverse link E5 to E6--><a href=\"psysml:d68af8b5-54d9-4416-b26b-1e36c98f2c99\" target=\"_top\" title=\"psysml:d68af8b5-54d9-4416-b26b-1e36c98f2c99\" xlink:actuate=\"onRequest\" xlink:href=\"psysml:d68af8b5-54d9-4416-b26b-1e36c98f2c99\" xlink:show=\"new\" xlink:title=\"psysml:d68af8b5-54d9-4416-b26b-1e36c98f2c99\" xlink:type=\"simple\"><path d=\"M111.4,121.15 C126.24,122.78 142.82,124.53 158,126 C233.17,133.27 322.68,140.41 361.91,143.46 \" fill=\"none\" id=\"E5&lt;-E6\" style=\"stroke: #383838; stroke-width: 1.0;\"/><polygon fill=\"#383838\" points=\"98.34,119.7,103.8644,124.3348,110.2674,121.0179,104.743,116.3832,98.34,119.7\" style=\"stroke: #383838; stroke-width: 1.0;\"/><text fill=\"#000000\" font-family=\"sans-serif\" font-size=\"13\" lengthAdjust=\"spacingAndGlyphs\" textLength=\"8\" x=\"345.9126\" y=\"157.4578\">1</text></a><!--MD5=[e3e28c1befcf002155aa15e1416b4315]\n",
       "link E2 to E6--><a href=\"psysml:901b44a6-3b8d-4bea-9e51-ad40652cd7ff\" target=\"_top\" title=\"psysml:901b44a6-3b8d-4bea-9e51-ad40652cd7ff\" xlink:actuate=\"onRequest\" xlink:href=\"psysml:901b44a6-3b8d-4bea-9e51-ad40652cd7ff\" xlink:show=\"new\" xlink:title=\"psysml:901b44a6-3b8d-4bea-9e51-ad40652cd7ff\" xlink:type=\"simple\"><path d=\"M302.24,97.94 C319.59,108.18 344.45,122.85 361.79,133.08 \" fill=\"none\" id=\"E2-E6\" style=\"stroke: #383838; stroke-width: 3.0;\"/><text fill=\"#000000\" font-family=\"sans-serif\" font-size=\"13\" lengthAdjust=\"spacingAndGlyphs\" textLength=\"7\" x=\"346.9137\" y=\"143.7691\">*</text></a><!--MD5=[452b418e7f8a40397a49b8c0a78acc5b]\n",
       "reverse link E5 to E7--><a href=\"psysml:5a5926b8-11d9-4284-b6a0-db32c9e29bb2\" target=\"_top\" title=\"psysml:5a5926b8-11d9-4284-b6a0-db32c9e29bb2\" xlink:actuate=\"onRequest\" xlink:href=\"psysml:5a5926b8-11d9-4284-b6a0-db32c9e29bb2\" xlink:show=\"new\" xlink:title=\"psysml:5a5926b8-11d9-4284-b6a0-db32c9e29bb2\" xlink:type=\"simple\"><path d=\"M110.79,104 C127.12,99.63 144.77,94.9 157.89,91.39 \" fill=\"none\" id=\"E5&lt;-E7\" style=\"stroke: #383838; stroke-width: 1.0;\"/><polygon fill=\"#383838\" points=\"98.09,107.4,104.922,109.7074,109.6796,104.2884,102.8476,101.981,98.09,107.4\" style=\"stroke: #383838; stroke-width: 1.0;\"/><text fill=\"#000000\" font-family=\"sans-serif\" font-size=\"13\" lengthAdjust=\"spacingAndGlyphs\" textLength=\"8\" x=\"141.8862\" y=\"107.5967\">1</text></a><!--MD5=[583832df87f4419a098336a29a52fa00]\n",
       "link E7 to E2--><a href=\"psysml:dd540a25-2742-496a-aaa6-3ea5cc8a4940\" target=\"_top\" title=\"psysml:dd540a25-2742-496a-aaa6-3ea5cc8a4940\" xlink:actuate=\"onRequest\" xlink:href=\"psysml:dd540a25-2742-496a-aaa6-3ea5cc8a4940\" xlink:show=\"new\" xlink:title=\"psysml:dd540a25-2742-496a-aaa6-3ea5cc8a4940\" xlink:type=\"simple\"><path d=\"M200.24,86 C211.49,86 225.9,86 239.37,86 \" fill=\"none\" id=\"E7-&gt;E2\" style=\"stroke: #383838; stroke-width: 1.0;\"/><polygon fill=\"none\" points=\"239.79,79,259.79,86,239.79,93,239.79,79\" style=\"stroke: #383838; stroke-width: 1.0;\"/></a><!--MD5=[2cf46ceb9d863d10a87caa41e916f220]\n",
       "@startuml\r\n",
       "left to right direction\r\n",
       "skinparam monochrome true\r\n",
       "skinparam classbackgroundcolor white\r\n",
       "skinparam shadowing false\r\n",
       "skinparam wrapWidth 300\r\n",
       "hide circle\r\n",
       "\r\n",
       "package \"ConnectionTest\" as E1  [[psysml:58064a58-d13b-4f80-a6f6-0eceb966f2f7 ]]  {\r\n",
       "comp usage \"p\" as E2  <<(T,blue) part>> [[psysml:98bc980e-08bf-4c08-bf0e-335abb3c4ffd ]] {\r\n",
       "}\r\n",
       "comp usage \"x\" as E3  <<(T,blue) part>> [[psysml:c51e79ce-7cf1-4bdb-aba6-5cab2657d431 ]] {\r\n",
       "}\r\n",
       "comp usage \"x1\" as E4  <<(T,blue) part>> [[psysml:31f41755-661a-4a53-a2bb-f2dfc01c0edf ]] {\r\n",
       "}\r\n",
       "comp def \"P\" as E5  <<(T,blue) part def>> [[psysml:9833d686-e720-46bf-b438-35dbd29b7a16 ]] {\r\n",
       "}\r\n",
       "comp usage \"y\" as E6  <<(T,blue) part>> [[psysml:f96f9e94-0e28-4abd-b8cb-5d3679a708db ]] {\r\n",
       "}\r\n",
       "comp usage \"p1\" as E7  <<(T,blue) part>> [[psysml:2279d5a4-5f0e-43ce-88bf-f6ddb21c3f25 ]] {\r\n",
       "}\r\n",
       "}\r\n",
       "E2 *- - \"1\"E3 [[psysml:1ffc18c1-940f-43c3-a54c-dcf9b76281a6 ]] \r\n",
       "E3 *- - \"1\"E4 [[psysml:3d75ef33-b13b-4214-af18-b5d2941be4f9 ]] \r\n",
       "E5 *- - \"1\"E6 [[psysml:d68af8b5-54d9-4416-b26b-1e36c98f2c99 ]] \r\n",
       "E2 -[thickness=3]- \"*\"E6 [[psysml:901b44a6-3b8d-4bea-9e51-ad40652cd7ff ]] \r\n",
       "E5 *- - \"1\"E7 [[psysml:5a5926b8-11d9-4284-b6a0-db32c9e29bb2 ]] \r\n",
       "E7 - -|> E2 [[psysml:dd540a25-2742-496a-aaa6-3ea5cc8a4940 ]] \r\n",
       "@enduml\r\n",
       "\n",
       "PlantUML version 1.2020.13(Sat Jun 13 12:26:38 UTC 2020)\n",
       "(EPL source distribution)\n",
       "Java Runtime: OpenJDK Runtime Environment\n",
       "JVM: OpenJDK 64-Bit Server VM\n",
       "Default Encoding: UTF-8\n",
       "Language: en\n",
       "Country: null\n",
       "--></g></svg>"
      ]
     },
     "execution_count": 22,
     "metadata": {},
     "output_type": "execute_result"
    }
   ],
   "source": [
    "%viz --style=\"LR\" --view=\"MIXED\" \"ConnectionTest\""
   ]
  },
  {
   "cell_type": "code",
   "execution_count": 23,
   "id": "3a4eceb4",
   "metadata": {
    "execution": {
     "iopub.execute_input": "2021-09-27T07:17:32.990774Z",
     "iopub.status.busy": "2021-09-27T07:17:32.990309Z",
     "iopub.status.idle": "2021-09-27T07:17:33.022809Z",
     "shell.execute_reply": "2021-09-27T07:17:33.021451Z"
    }
   },
   "outputs": [
    {
     "data": {
      "image/svg+xml": [
       "<?xml version=\"1.0\" encoding=\"UTF-8\" standalone=\"no\"?><svg xmlns=\"http://www.w3.org/2000/svg\" xmlns:xlink=\"http://www.w3.org/1999/xlink\" contentScriptType=\"application/ecmascript\" contentStyleType=\"text/css\" height=\"539px\" preserveAspectRatio=\"none\" style=\"width:189px;height:539px;\" version=\"1.1\" viewBox=\"0 0 189 539\" width=\"189px\" zoomAndPan=\"magnify\"><defs><filter height=\"300%\" id=\"f560ytpyd3jne\" width=\"300%\" x=\"-1\" y=\"-1\"><feGaussianBlur result=\"blurOut\" stdDeviation=\"2.0\"/><feColorMatrix in=\"blurOut\" result=\"blurOut2\" type=\"matrix\" values=\"0 0 0 0 0 0 0 0 0 0 0 0 0 0 0 0 0 0 .4 0\"/><feOffset dx=\"4.0\" dy=\"4.0\" in=\"blurOut2\" result=\"blurOut3\"/><feBlend in=\"SourceGraphic\" in2=\"blurOut3\" mode=\"normal\"/></filter></defs><g><!--MD5=[fbc87193dbaf4d95561dea2c320d4a47]\n",
       "cluster E1--><a href=\"psysml:58064a58-d13b-4f80-a6f6-0eceb966f2f7\" target=\"_top\" title=\"psysml:58064a58-d13b-4f80-a6f6-0eceb966f2f7\" xlink:actuate=\"onRequest\" xlink:href=\"psysml:58064a58-d13b-4f80-a6f6-0eceb966f2f7\" xlink:show=\"new\" xlink:title=\"psysml:58064a58-d13b-4f80-a6f6-0eceb966f2f7\" xlink:type=\"simple\"><polygon fill=\"#FFFFFF\" filter=\"url(#f560ytpyd3jne)\" points=\"16,6,133,6,140,28.2969,167,28.2969,167,527,16,527,16,6\" style=\"stroke: #000000; stroke-width: 1.5;\"/><line style=\"stroke: #000000; stroke-width: 1.5;\" x1=\"16\" x2=\"140\" y1=\"28.2969\" y2=\"28.2969\"/><text fill=\"#000000\" font-family=\"sans-serif\" font-size=\"14\" font-weight=\"bold\" lengthAdjust=\"spacingAndGlyphs\" textLength=\"111\" x=\"20\" y=\"20.9951\">ConnectionTest</text></a><!--MD5=[b4997ac47864f28c2f74865a473b2911]\n",
       "class E2--><a href=\"psysml:98bc980e-08bf-4c08-bf0e-335abb3c4ffd\" target=\"_top\" title=\"psysml:98bc980e-08bf-4c08-bf0e-335abb3c4ffd\" xlink:actuate=\"onRequest\" xlink:href=\"psysml:98bc980e-08bf-4c08-bf0e-335abb3c4ffd\" xlink:show=\"new\" xlink:title=\"psysml:98bc980e-08bf-4c08-bf0e-335abb3c4ffd\" xlink:type=\"simple\"><rect fill=\"#FEFECE\" filter=\"url(#f560ytpyd3jne)\" height=\"45.9375\" id=\"E2\" rx=\"10\" ry=\"10\" style=\"stroke: #A80036; stroke-width: 1.5;\" width=\"42\" x=\"89\" y=\"253\"/><text fill=\"#000000\" font-family=\"sans-serif\" font-size=\"12\" font-style=\"italic\" lengthAdjust=\"spacingAndGlyphs\" textLength=\"40\" x=\"90\" y=\"269.1387\">«part»</text><text fill=\"#000000\" font-family=\"sans-serif\" font-size=\"12\" lengthAdjust=\"spacingAndGlyphs\" textLength=\"8\" x=\"106\" y=\"283.1074\">p</text><line style=\"stroke: #A80036; stroke-width: 1.5;\" x1=\"90\" x2=\"130\" y1=\"290.9375\" y2=\"290.9375\"/></a><!--MD5=[09b614a08d8cba4a07c9adeb5e0fee81]\n",
       "class E3--><a href=\"psysml:c51e79ce-7cf1-4bdb-aba6-5cab2657d431\" target=\"_top\" title=\"psysml:c51e79ce-7cf1-4bdb-aba6-5cab2657d431\" xlink:actuate=\"onRequest\" xlink:href=\"psysml:c51e79ce-7cf1-4bdb-aba6-5cab2657d431\" xlink:show=\"new\" xlink:title=\"psysml:c51e79ce-7cf1-4bdb-aba6-5cab2657d431\" xlink:type=\"simple\"><rect fill=\"#FEFECE\" filter=\"url(#f560ytpyd3jne)\" height=\"45.9375\" id=\"E3\" rx=\"10\" ry=\"10\" style=\"stroke: #A80036; stroke-width: 1.5;\" width=\"42\" x=\"109\" y=\"359\"/><text fill=\"#000000\" font-family=\"sans-serif\" font-size=\"12\" font-style=\"italic\" lengthAdjust=\"spacingAndGlyphs\" textLength=\"40\" x=\"110\" y=\"375.1387\">«part»</text><text fill=\"#000000\" font-family=\"sans-serif\" font-size=\"12\" lengthAdjust=\"spacingAndGlyphs\" textLength=\"6\" x=\"127\" y=\"389.1074\">x</text><line style=\"stroke: #A80036; stroke-width: 1.5;\" x1=\"110\" x2=\"150\" y1=\"396.9375\" y2=\"396.9375\"/></a><!--MD5=[ebbe1d658d1005bcc118a6aa81145e00]\n",
       "class E4--><a href=\"psysml:31f41755-661a-4a53-a2bb-f2dfc01c0edf\" target=\"_top\" title=\"psysml:31f41755-661a-4a53-a2bb-f2dfc01c0edf\" xlink:actuate=\"onRequest\" xlink:href=\"psysml:31f41755-661a-4a53-a2bb-f2dfc01c0edf\" xlink:show=\"new\" xlink:title=\"psysml:31f41755-661a-4a53-a2bb-f2dfc01c0edf\" xlink:type=\"simple\"><rect fill=\"#FEFECE\" filter=\"url(#f560ytpyd3jne)\" height=\"45.9375\" id=\"E4\" rx=\"10\" ry=\"10\" style=\"stroke: #A80036; stroke-width: 1.5;\" width=\"42\" x=\"109\" y=\"465\"/><text fill=\"#000000\" font-family=\"sans-serif\" font-size=\"12\" font-style=\"italic\" lengthAdjust=\"spacingAndGlyphs\" textLength=\"40\" x=\"110\" y=\"481.1387\">«part»</text><text fill=\"#000000\" font-family=\"sans-serif\" font-size=\"12\" lengthAdjust=\"spacingAndGlyphs\" textLength=\"14\" x=\"123\" y=\"495.1074\">x1</text><line style=\"stroke: #A80036; stroke-width: 1.5;\" x1=\"110\" x2=\"150\" y1=\"502.9375\" y2=\"502.9375\"/></a><!--MD5=[270fce915f116d4de14055a7c1d9a0f3]\n",
       "class E5--><a href=\"psysml:9833d686-e720-46bf-b438-35dbd29b7a16\" target=\"_top\" title=\"psysml:9833d686-e720-46bf-b438-35dbd29b7a16\" xlink:actuate=\"onRequest\" xlink:href=\"psysml:9833d686-e720-46bf-b438-35dbd29b7a16\" xlink:show=\"new\" xlink:title=\"psysml:9833d686-e720-46bf-b438-35dbd29b7a16\" xlink:type=\"simple\"><rect fill=\"#FEFECE\" filter=\"url(#f560ytpyd3jne)\" height=\"45.9375\" id=\"E5\" style=\"stroke: #A80036; stroke-width: 1.5;\" width=\"66\" x=\"54\" y=\"41\"/><text fill=\"#000000\" font-family=\"sans-serif\" font-size=\"12\" font-style=\"italic\" lengthAdjust=\"spacingAndGlyphs\" textLength=\"64\" x=\"55\" y=\"57.1387\">«part def»</text><text fill=\"#000000\" font-family=\"sans-serif\" font-size=\"12\" lengthAdjust=\"spacingAndGlyphs\" textLength=\"8\" x=\"83\" y=\"71.1074\">P</text><line style=\"stroke: #A80036; stroke-width: 1.5;\" x1=\"55\" x2=\"119\" y1=\"78.9375\" y2=\"78.9375\"/></a><!--MD5=[60a26617385b1d2d0262a64233df1f8d]\n",
       "class E6--><a href=\"psysml:f96f9e94-0e28-4abd-b8cb-5d3679a708db\" target=\"_top\" title=\"psysml:f96f9e94-0e28-4abd-b8cb-5d3679a708db\" xlink:actuate=\"onRequest\" xlink:href=\"psysml:f96f9e94-0e28-4abd-b8cb-5d3679a708db\" xlink:show=\"new\" xlink:title=\"psysml:f96f9e94-0e28-4abd-b8cb-5d3679a708db\" xlink:type=\"simple\"><rect fill=\"#FEFECE\" filter=\"url(#f560ytpyd3jne)\" height=\"45.9375\" id=\"E6\" rx=\"10\" ry=\"10\" style=\"stroke: #A80036; stroke-width: 1.5;\" width=\"42\" x=\"32\" y=\"359\"/><text fill=\"#000000\" font-family=\"sans-serif\" font-size=\"12\" font-style=\"italic\" lengthAdjust=\"spacingAndGlyphs\" textLength=\"40\" x=\"33\" y=\"375.1387\">«part»</text><text fill=\"#000000\" font-family=\"sans-serif\" font-size=\"12\" lengthAdjust=\"spacingAndGlyphs\" textLength=\"6\" x=\"50\" y=\"389.1074\">y</text><line style=\"stroke: #A80036; stroke-width: 1.5;\" x1=\"33\" x2=\"73\" y1=\"396.9375\" y2=\"396.9375\"/></a><!--MD5=[2156ba9850f5573cc1fc38a6a4b2f02b]\n",
       "class E7--><a href=\"psysml:2279d5a4-5f0e-43ce-88bf-f6ddb21c3f25\" target=\"_top\" title=\"psysml:2279d5a4-5f0e-43ce-88bf-f6ddb21c3f25\" xlink:actuate=\"onRequest\" xlink:href=\"psysml:2279d5a4-5f0e-43ce-88bf-f6ddb21c3f25\" xlink:show=\"new\" xlink:title=\"psysml:2279d5a4-5f0e-43ce-88bf-f6ddb21c3f25\" xlink:type=\"simple\"><rect fill=\"#FEFECE\" filter=\"url(#f560ytpyd3jne)\" height=\"45.9375\" id=\"E7\" rx=\"10\" ry=\"10\" style=\"stroke: #A80036; stroke-width: 1.5;\" width=\"42\" x=\"89\" y=\"147\"/><text fill=\"#000000\" font-family=\"sans-serif\" font-size=\"12\" font-style=\"italic\" lengthAdjust=\"spacingAndGlyphs\" textLength=\"40\" x=\"90\" y=\"163.1387\">«part»</text><text fill=\"#000000\" font-family=\"sans-serif\" font-size=\"12\" lengthAdjust=\"spacingAndGlyphs\" textLength=\"16\" x=\"102\" y=\"177.1074\">p1</text><line style=\"stroke: #A80036; stroke-width: 1.5;\" x1=\"90\" x2=\"130\" y1=\"184.9375\" y2=\"184.9375\"/></a><!--MD5=[209b3feb70ccb6233bfe1053d122c12c]\n",
       "reverse link E2 to E3--><a href=\"psysml:1ffc18c1-940f-43c3-a54c-dcf9b76281a6\" target=\"_top\" title=\"psysml:1ffc18c1-940f-43c3-a54c-dcf9b76281a6\" xlink:actuate=\"onRequest\" xlink:href=\"psysml:1ffc18c1-940f-43c3-a54c-dcf9b76281a6\" xlink:show=\"new\" xlink:title=\"psysml:1ffc18c1-940f-43c3-a54c-dcf9b76281a6\" xlink:type=\"simple\"><path d=\"M116.72,311.96 C119.71,327.51 123.14,345.33 125.76,358.98 \" fill=\"none\" id=\"E2&lt;-E3\" style=\"stroke: #A80036; stroke-width: 1.0;\"/><polygon fill=\"#A80036\" points=\"114.24,299.06,111.447,305.7082,116.5096,310.8434,119.3026,304.1952,114.24,299.06\" style=\"stroke: #A80036; stroke-width: 1.0;\"/><text fill=\"#000000\" font-family=\"sans-serif\" font-size=\"13\" lengthAdjust=\"spacingAndGlyphs\" textLength=\"8\" x=\"115.5455\" y=\"347.8709\">1</text></a><!--MD5=[4672eba38e49728da53d11aeb285b987]\n",
       "reverse link E3 to E4--><a href=\"psysml:3d75ef33-b13b-4214-af18-b5d2941be4f9\" target=\"_top\" title=\"psysml:3d75ef33-b13b-4214-af18-b5d2941be4f9\" xlink:actuate=\"onRequest\" xlink:href=\"psysml:3d75ef33-b13b-4214-af18-b5d2941be4f9\" xlink:show=\"new\" xlink:title=\"psysml:3d75ef33-b13b-4214-af18-b5d2941be4f9\" xlink:type=\"simple\"><path d=\"M130,418.44 C130,433.87 130,451.47 130,464.98 \" fill=\"none\" id=\"E3&lt;-E4\" style=\"stroke: #A80036; stroke-width: 1.0;\"/><polygon fill=\"#A80036\" points=\"130,405.06,126,411.06,130,417.06,134,411.06,130,405.06\" style=\"stroke: #A80036; stroke-width: 1.0;\"/><text fill=\"#000000\" font-family=\"sans-serif\" font-size=\"13\" lengthAdjust=\"spacingAndGlyphs\" textLength=\"8\" x=\"120.925\" y=\"453.8709\">1</text></a><!--MD5=[85d356282659285ab4b2cfe2f634dd2b]\n",
       "reverse link E5 to E6--><a href=\"psysml:d68af8b5-54d9-4416-b26b-1e36c98f2c99\" target=\"_top\" title=\"psysml:d68af8b5-54d9-4416-b26b-1e36c98f2c99\" xlink:actuate=\"onRequest\" xlink:href=\"psysml:d68af8b5-54d9-4416-b26b-1e36c98f2c99\" xlink:show=\"new\" xlink:title=\"psysml:d68af8b5-54d9-4416-b26b-1e36c98f2c99\" xlink:type=\"simple\"><path d=\"M79.77,100.15 C77.01,114.61 74.03,131.56 72,147 C61.78,224.59 56.2,317.42 54.05,358.98 \" fill=\"none\" id=\"E5&lt;-E6\" style=\"stroke: #A80036; stroke-width: 1.0;\"/><polygon fill=\"#A80036\" points=\"82.32,87.18,77.2408,92.2988,80.0123,98.956,85.0915,93.8372,82.32,87.18\" style=\"stroke: #A80036; stroke-width: 1.0;\"/><text fill=\"#000000\" font-family=\"sans-serif\" font-size=\"13\" lengthAdjust=\"spacingAndGlyphs\" textLength=\"8\" x=\"45.2572\" y=\"347.8709\">1</text></a><!--MD5=[e3e28c1befcf002155aa15e1416b4315]\n",
       "link E2 to E6--><a href=\"psysml:901b44a6-3b8d-4bea-9e51-ad40652cd7ff\" target=\"_top\" title=\"psysml:901b44a6-3b8d-4bea-9e51-ad40652cd7ff\" xlink:actuate=\"onRequest\" xlink:href=\"psysml:901b44a6-3b8d-4bea-9e51-ad40652cd7ff\" xlink:show=\"new\" xlink:title=\"psysml:901b44a6-3b8d-4bea-9e51-ad40652cd7ff\" xlink:type=\"simple\"><path d=\"M97.91,299.06 C88.24,316.7 74.74,341.34 65.07,358.98 \" fill=\"none\" id=\"E2-E6\" style=\"stroke: #A80036; stroke-width: 3.0;\"/><text fill=\"#000000\" font-family=\"sans-serif\" font-size=\"13\" lengthAdjust=\"spacingAndGlyphs\" textLength=\"7\" x=\"60.3732\" y=\"347.8709\">*</text></a><!--MD5=[452b418e7f8a40397a49b8c0a78acc5b]\n",
       "reverse link E5 to E7--><a href=\"psysml:5a5926b8-11d9-4284-b6a0-db32c9e29bb2\" target=\"_top\" title=\"psysml:5a5926b8-11d9-4284-b6a0-db32c9e29bb2\" xlink:actuate=\"onRequest\" xlink:href=\"psysml:5a5926b8-11d9-4284-b6a0-db32c9e29bb2\" xlink:show=\"new\" xlink:title=\"psysml:5a5926b8-11d9-4284-b6a0-db32c9e29bb2\" xlink:type=\"simple\"><path d=\"M94.73,99.96 C98.17,115.51 102.11,133.33 105.13,146.98 \" fill=\"none\" id=\"E5&lt;-E7\" style=\"stroke: #A80036; stroke-width: 1.0;\"/><polygon fill=\"#A80036\" points=\"91.88,87.06,89.2656,93.7805,94.4636,98.7786,97.078,92.0581,91.88,87.06\" style=\"stroke: #A80036; stroke-width: 1.0;\"/><text fill=\"#000000\" font-family=\"sans-serif\" font-size=\"13\" lengthAdjust=\"spacingAndGlyphs\" textLength=\"8\" x=\"94.7462\" y=\"135.8709\">1</text></a><!--MD5=[583832df87f4419a098336a29a52fa00]\n",
       "link E7 to E2--><a href=\"psysml:dd540a25-2742-496a-aaa6-3ea5cc8a4940\" target=\"_top\" title=\"psysml:dd540a25-2742-496a-aaa6-3ea5cc8a4940\" xlink:actuate=\"onRequest\" xlink:href=\"psysml:dd540a25-2742-496a-aaa6-3ea5cc8a4940\" xlink:show=\"new\" xlink:title=\"psysml:dd540a25-2742-496a-aaa6-3ea5cc8a4940\" xlink:type=\"simple\"><path d=\"M110,193.06 C110,204.64 110,219.23 110,232.87 \" fill=\"none\" id=\"E7-&gt;E2\" style=\"stroke: #A80036; stroke-width: 1.0;\"/><polygon fill=\"none\" points=\"117,232.98,110,252.98,103,232.98,117,232.98\" style=\"stroke: #A80036; stroke-width: 1.0;\"/></a><!--MD5=[6ed80980b441e9b473035277e662883b]\n",
       "@startuml\r\n",
       "skinparam wrapWidth 300\r\n",
       "hide circle\r\n",
       "\r\n",
       "package \"ConnectionTest\" as E1  [[psysml:58064a58-d13b-4f80-a6f6-0eceb966f2f7 ]]  {\r\n",
       "comp usage \"p\" as E2  <<(T,blue) part>> [[psysml:98bc980e-08bf-4c08-bf0e-335abb3c4ffd ]] {\r\n",
       "}\r\n",
       "comp usage \"x\" as E3  <<(T,blue) part>> [[psysml:c51e79ce-7cf1-4bdb-aba6-5cab2657d431 ]] {\r\n",
       "}\r\n",
       "comp usage \"x1\" as E4  <<(T,blue) part>> [[psysml:31f41755-661a-4a53-a2bb-f2dfc01c0edf ]] {\r\n",
       "}\r\n",
       "comp def \"P\" as E5  <<(T,blue) part def>> [[psysml:9833d686-e720-46bf-b438-35dbd29b7a16 ]] {\r\n",
       "}\r\n",
       "comp usage \"y\" as E6  <<(T,blue) part>> [[psysml:f96f9e94-0e28-4abd-b8cb-5d3679a708db ]] {\r\n",
       "}\r\n",
       "comp usage \"p1\" as E7  <<(T,blue) part>> [[psysml:2279d5a4-5f0e-43ce-88bf-f6ddb21c3f25 ]] {\r\n",
       "}\r\n",
       "}\r\n",
       "E2 *- - \"1\"E3 [[psysml:1ffc18c1-940f-43c3-a54c-dcf9b76281a6 ]] \r\n",
       "E3 *- - \"1\"E4 [[psysml:3d75ef33-b13b-4214-af18-b5d2941be4f9 ]] \r\n",
       "E5 *- - \"1\"E6 [[psysml:d68af8b5-54d9-4416-b26b-1e36c98f2c99 ]] \r\n",
       "E2 -[thickness=3]- \"*\"E6 [[psysml:901b44a6-3b8d-4bea-9e51-ad40652cd7ff ]] \r\n",
       "E5 *- - \"1\"E7 [[psysml:5a5926b8-11d9-4284-b6a0-db32c9e29bb2 ]] \r\n",
       "E7 - -|> E2 [[psysml:dd540a25-2742-496a-aaa6-3ea5cc8a4940 ]] \r\n",
       "@enduml\r\n",
       "\n",
       "PlantUML version 1.2020.13(Sat Jun 13 12:26:38 UTC 2020)\n",
       "(EPL source distribution)\n",
       "Java Runtime: OpenJDK Runtime Environment\n",
       "JVM: OpenJDK 64-Bit Server VM\n",
       "Default Encoding: UTF-8\n",
       "Language: en\n",
       "Country: null\n",
       "--></g></svg>"
      ]
     },
     "execution_count": 23,
     "metadata": {},
     "output_type": "execute_result"
    }
   ],
   "source": [
    "%viz --style=\"STDCOLOR\" --view=\"Default\" \"ConnectionTest\""
   ]
  },
  {
   "cell_type": "code",
   "execution_count": 24,
   "id": "e848d5b0",
   "metadata": {
    "execution": {
     "iopub.execute_input": "2021-09-27T07:17:33.072358Z",
     "iopub.status.busy": "2021-09-27T07:17:33.071952Z",
     "iopub.status.idle": "2021-09-27T07:17:33.107532Z",
     "shell.execute_reply": "2021-09-27T07:17:33.107163Z"
    }
   },
   "outputs": [
    {
     "data": {
      "image/svg+xml": [
       "<?xml version=\"1.0\" encoding=\"UTF-8\" standalone=\"no\"?><svg xmlns=\"http://www.w3.org/2000/svg\" xmlns:xlink=\"http://www.w3.org/1999/xlink\" contentScriptType=\"application/ecmascript\" contentStyleType=\"text/css\" height=\"539px\" preserveAspectRatio=\"none\" style=\"width:189px;height:539px;\" version=\"1.1\" viewBox=\"0 0 189 539\" width=\"189px\" zoomAndPan=\"magnify\"><defs><filter height=\"300%\" id=\"f560ytpyd3jne\" width=\"300%\" x=\"-1\" y=\"-1\"><feGaussianBlur result=\"blurOut\" stdDeviation=\"2.0\"/><feColorMatrix in=\"blurOut\" result=\"blurOut2\" type=\"matrix\" values=\"0 0 0 0 0 0 0 0 0 0 0 0 0 0 0 0 0 0 .4 0\"/><feOffset dx=\"4.0\" dy=\"4.0\" in=\"blurOut2\" result=\"blurOut3\"/><feBlend in=\"SourceGraphic\" in2=\"blurOut3\" mode=\"normal\"/></filter></defs><g><!--MD5=[fbc87193dbaf4d95561dea2c320d4a47]\n",
       "cluster E1--><a href=\"psysml:58064a58-d13b-4f80-a6f6-0eceb966f2f7\" target=\"_top\" title=\"psysml:58064a58-d13b-4f80-a6f6-0eceb966f2f7\" xlink:actuate=\"onRequest\" xlink:href=\"psysml:58064a58-d13b-4f80-a6f6-0eceb966f2f7\" xlink:show=\"new\" xlink:title=\"psysml:58064a58-d13b-4f80-a6f6-0eceb966f2f7\" xlink:type=\"simple\"><polygon fill=\"#FFFFFF\" filter=\"url(#f560ytpyd3jne)\" points=\"16,6,133,6,140,28.2969,167,28.2969,167,527,16,527,16,6\" style=\"stroke: #000000; stroke-width: 1.5;\"/><line style=\"stroke: #000000; stroke-width: 1.5;\" x1=\"16\" x2=\"140\" y1=\"28.2969\" y2=\"28.2969\"/><text fill=\"#000000\" font-family=\"sans-serif\" font-size=\"14\" font-weight=\"bold\" lengthAdjust=\"spacingAndGlyphs\" textLength=\"111\" x=\"20\" y=\"20.9951\">ConnectionTest</text></a><!--MD5=[b4997ac47864f28c2f74865a473b2911]\n",
       "class E2--><a href=\"psysml:98bc980e-08bf-4c08-bf0e-335abb3c4ffd\" target=\"_top\" title=\"psysml:98bc980e-08bf-4c08-bf0e-335abb3c4ffd\" xlink:actuate=\"onRequest\" xlink:href=\"psysml:98bc980e-08bf-4c08-bf0e-335abb3c4ffd\" xlink:show=\"new\" xlink:title=\"psysml:98bc980e-08bf-4c08-bf0e-335abb3c4ffd\" xlink:type=\"simple\"><rect fill=\"#FEFECE\" filter=\"url(#f560ytpyd3jne)\" height=\"45.9375\" id=\"E2\" rx=\"10\" ry=\"10\" style=\"stroke: #A80036; stroke-width: 1.5;\" width=\"42\" x=\"89\" y=\"253\"/><text fill=\"#000000\" font-family=\"sans-serif\" font-size=\"12\" font-style=\"italic\" lengthAdjust=\"spacingAndGlyphs\" textLength=\"40\" x=\"90\" y=\"269.1387\">«part»</text><text fill=\"#000000\" font-family=\"sans-serif\" font-size=\"12\" lengthAdjust=\"spacingAndGlyphs\" textLength=\"8\" x=\"106\" y=\"283.1074\">p</text><line style=\"stroke: #A80036; stroke-width: 1.5;\" x1=\"90\" x2=\"130\" y1=\"290.9375\" y2=\"290.9375\"/></a><!--MD5=[09b614a08d8cba4a07c9adeb5e0fee81]\n",
       "class E3--><a href=\"psysml:c51e79ce-7cf1-4bdb-aba6-5cab2657d431\" target=\"_top\" title=\"psysml:c51e79ce-7cf1-4bdb-aba6-5cab2657d431\" xlink:actuate=\"onRequest\" xlink:href=\"psysml:c51e79ce-7cf1-4bdb-aba6-5cab2657d431\" xlink:show=\"new\" xlink:title=\"psysml:c51e79ce-7cf1-4bdb-aba6-5cab2657d431\" xlink:type=\"simple\"><rect fill=\"#FEFECE\" filter=\"url(#f560ytpyd3jne)\" height=\"45.9375\" id=\"E3\" rx=\"10\" ry=\"10\" style=\"stroke: #A80036; stroke-width: 1.5;\" width=\"42\" x=\"109\" y=\"359\"/><text fill=\"#000000\" font-family=\"sans-serif\" font-size=\"12\" font-style=\"italic\" lengthAdjust=\"spacingAndGlyphs\" textLength=\"40\" x=\"110\" y=\"375.1387\">«part»</text><text fill=\"#000000\" font-family=\"sans-serif\" font-size=\"12\" lengthAdjust=\"spacingAndGlyphs\" textLength=\"6\" x=\"127\" y=\"389.1074\">x</text><line style=\"stroke: #A80036; stroke-width: 1.5;\" x1=\"110\" x2=\"150\" y1=\"396.9375\" y2=\"396.9375\"/></a><!--MD5=[ebbe1d658d1005bcc118a6aa81145e00]\n",
       "class E4--><a href=\"psysml:31f41755-661a-4a53-a2bb-f2dfc01c0edf\" target=\"_top\" title=\"psysml:31f41755-661a-4a53-a2bb-f2dfc01c0edf\" xlink:actuate=\"onRequest\" xlink:href=\"psysml:31f41755-661a-4a53-a2bb-f2dfc01c0edf\" xlink:show=\"new\" xlink:title=\"psysml:31f41755-661a-4a53-a2bb-f2dfc01c0edf\" xlink:type=\"simple\"><rect fill=\"#FEFECE\" filter=\"url(#f560ytpyd3jne)\" height=\"45.9375\" id=\"E4\" rx=\"10\" ry=\"10\" style=\"stroke: #A80036; stroke-width: 1.5;\" width=\"42\" x=\"109\" y=\"465\"/><text fill=\"#000000\" font-family=\"sans-serif\" font-size=\"12\" font-style=\"italic\" lengthAdjust=\"spacingAndGlyphs\" textLength=\"40\" x=\"110\" y=\"481.1387\">«part»</text><text fill=\"#000000\" font-family=\"sans-serif\" font-size=\"12\" lengthAdjust=\"spacingAndGlyphs\" textLength=\"14\" x=\"123\" y=\"495.1074\">x1</text><line style=\"stroke: #A80036; stroke-width: 1.5;\" x1=\"110\" x2=\"150\" y1=\"502.9375\" y2=\"502.9375\"/></a><!--MD5=[270fce915f116d4de14055a7c1d9a0f3]\n",
       "class E5--><a href=\"psysml:9833d686-e720-46bf-b438-35dbd29b7a16\" target=\"_top\" title=\"psysml:9833d686-e720-46bf-b438-35dbd29b7a16\" xlink:actuate=\"onRequest\" xlink:href=\"psysml:9833d686-e720-46bf-b438-35dbd29b7a16\" xlink:show=\"new\" xlink:title=\"psysml:9833d686-e720-46bf-b438-35dbd29b7a16\" xlink:type=\"simple\"><rect fill=\"#FEFECE\" filter=\"url(#f560ytpyd3jne)\" height=\"45.9375\" id=\"E5\" style=\"stroke: #A80036; stroke-width: 1.5;\" width=\"66\" x=\"54\" y=\"41\"/><text fill=\"#000000\" font-family=\"sans-serif\" font-size=\"12\" font-style=\"italic\" lengthAdjust=\"spacingAndGlyphs\" textLength=\"64\" x=\"55\" y=\"57.1387\">«part def»</text><text fill=\"#000000\" font-family=\"sans-serif\" font-size=\"12\" lengthAdjust=\"spacingAndGlyphs\" textLength=\"8\" x=\"83\" y=\"71.1074\">P</text><line style=\"stroke: #A80036; stroke-width: 1.5;\" x1=\"55\" x2=\"119\" y1=\"78.9375\" y2=\"78.9375\"/></a><!--MD5=[60a26617385b1d2d0262a64233df1f8d]\n",
       "class E6--><a href=\"psysml:f96f9e94-0e28-4abd-b8cb-5d3679a708db\" target=\"_top\" title=\"psysml:f96f9e94-0e28-4abd-b8cb-5d3679a708db\" xlink:actuate=\"onRequest\" xlink:href=\"psysml:f96f9e94-0e28-4abd-b8cb-5d3679a708db\" xlink:show=\"new\" xlink:title=\"psysml:f96f9e94-0e28-4abd-b8cb-5d3679a708db\" xlink:type=\"simple\"><rect fill=\"#FEFECE\" filter=\"url(#f560ytpyd3jne)\" height=\"45.9375\" id=\"E6\" rx=\"10\" ry=\"10\" style=\"stroke: #A80036; stroke-width: 1.5;\" width=\"42\" x=\"32\" y=\"359\"/><text fill=\"#000000\" font-family=\"sans-serif\" font-size=\"12\" font-style=\"italic\" lengthAdjust=\"spacingAndGlyphs\" textLength=\"40\" x=\"33\" y=\"375.1387\">«part»</text><text fill=\"#000000\" font-family=\"sans-serif\" font-size=\"12\" lengthAdjust=\"spacingAndGlyphs\" textLength=\"6\" x=\"50\" y=\"389.1074\">y</text><line style=\"stroke: #A80036; stroke-width: 1.5;\" x1=\"33\" x2=\"73\" y1=\"396.9375\" y2=\"396.9375\"/></a><!--MD5=[2156ba9850f5573cc1fc38a6a4b2f02b]\n",
       "class E7--><a href=\"psysml:2279d5a4-5f0e-43ce-88bf-f6ddb21c3f25\" target=\"_top\" title=\"psysml:2279d5a4-5f0e-43ce-88bf-f6ddb21c3f25\" xlink:actuate=\"onRequest\" xlink:href=\"psysml:2279d5a4-5f0e-43ce-88bf-f6ddb21c3f25\" xlink:show=\"new\" xlink:title=\"psysml:2279d5a4-5f0e-43ce-88bf-f6ddb21c3f25\" xlink:type=\"simple\"><rect fill=\"#FEFECE\" filter=\"url(#f560ytpyd3jne)\" height=\"45.9375\" id=\"E7\" rx=\"10\" ry=\"10\" style=\"stroke: #A80036; stroke-width: 1.5;\" width=\"42\" x=\"89\" y=\"147\"/><text fill=\"#000000\" font-family=\"sans-serif\" font-size=\"12\" font-style=\"italic\" lengthAdjust=\"spacingAndGlyphs\" textLength=\"40\" x=\"90\" y=\"163.1387\">«part»</text><text fill=\"#000000\" font-family=\"sans-serif\" font-size=\"12\" lengthAdjust=\"spacingAndGlyphs\" textLength=\"16\" x=\"102\" y=\"177.1074\">p1</text><line style=\"stroke: #A80036; stroke-width: 1.5;\" x1=\"90\" x2=\"130\" y1=\"184.9375\" y2=\"184.9375\"/></a><!--MD5=[209b3feb70ccb6233bfe1053d122c12c]\n",
       "reverse link E2 to E3--><a href=\"psysml:1ffc18c1-940f-43c3-a54c-dcf9b76281a6\" target=\"_top\" title=\"psysml:1ffc18c1-940f-43c3-a54c-dcf9b76281a6\" xlink:actuate=\"onRequest\" xlink:href=\"psysml:1ffc18c1-940f-43c3-a54c-dcf9b76281a6\" xlink:show=\"new\" xlink:title=\"psysml:1ffc18c1-940f-43c3-a54c-dcf9b76281a6\" xlink:type=\"simple\"><path d=\"M116.72,311.96 C119.71,327.51 123.14,345.33 125.76,358.98 \" fill=\"none\" id=\"E2&lt;-E3\" style=\"stroke: #A80036; stroke-width: 1.0;\"/><polygon fill=\"#A80036\" points=\"114.24,299.06,111.447,305.7082,116.5096,310.8434,119.3026,304.1952,114.24,299.06\" style=\"stroke: #A80036; stroke-width: 1.0;\"/><text fill=\"#000000\" font-family=\"sans-serif\" font-size=\"13\" lengthAdjust=\"spacingAndGlyphs\" textLength=\"8\" x=\"115.5455\" y=\"347.8709\">1</text></a><!--MD5=[4672eba38e49728da53d11aeb285b987]\n",
       "reverse link E3 to E4--><a href=\"psysml:3d75ef33-b13b-4214-af18-b5d2941be4f9\" target=\"_top\" title=\"psysml:3d75ef33-b13b-4214-af18-b5d2941be4f9\" xlink:actuate=\"onRequest\" xlink:href=\"psysml:3d75ef33-b13b-4214-af18-b5d2941be4f9\" xlink:show=\"new\" xlink:title=\"psysml:3d75ef33-b13b-4214-af18-b5d2941be4f9\" xlink:type=\"simple\"><path d=\"M130,418.44 C130,433.87 130,451.47 130,464.98 \" fill=\"none\" id=\"E3&lt;-E4\" style=\"stroke: #A80036; stroke-width: 1.0;\"/><polygon fill=\"#A80036\" points=\"130,405.06,126,411.06,130,417.06,134,411.06,130,405.06\" style=\"stroke: #A80036; stroke-width: 1.0;\"/><text fill=\"#000000\" font-family=\"sans-serif\" font-size=\"13\" lengthAdjust=\"spacingAndGlyphs\" textLength=\"8\" x=\"120.925\" y=\"453.8709\">1</text></a><!--MD5=[85d356282659285ab4b2cfe2f634dd2b]\n",
       "reverse link E5 to E6--><a href=\"psysml:d68af8b5-54d9-4416-b26b-1e36c98f2c99\" target=\"_top\" title=\"psysml:d68af8b5-54d9-4416-b26b-1e36c98f2c99\" xlink:actuate=\"onRequest\" xlink:href=\"psysml:d68af8b5-54d9-4416-b26b-1e36c98f2c99\" xlink:show=\"new\" xlink:title=\"psysml:d68af8b5-54d9-4416-b26b-1e36c98f2c99\" xlink:type=\"simple\"><path d=\"M79.77,100.15 C77.01,114.61 74.03,131.56 72,147 C61.78,224.59 56.2,317.42 54.05,358.98 \" fill=\"none\" id=\"E5&lt;-E6\" style=\"stroke: #A80036; stroke-width: 1.0;\"/><polygon fill=\"#A80036\" points=\"82.32,87.18,77.2408,92.2988,80.0123,98.956,85.0915,93.8372,82.32,87.18\" style=\"stroke: #A80036; stroke-width: 1.0;\"/><text fill=\"#000000\" font-family=\"sans-serif\" font-size=\"13\" lengthAdjust=\"spacingAndGlyphs\" textLength=\"8\" x=\"45.2572\" y=\"347.8709\">1</text></a><!--MD5=[e3e28c1befcf002155aa15e1416b4315]\n",
       "link E2 to E6--><a href=\"psysml:901b44a6-3b8d-4bea-9e51-ad40652cd7ff\" target=\"_top\" title=\"psysml:901b44a6-3b8d-4bea-9e51-ad40652cd7ff\" xlink:actuate=\"onRequest\" xlink:href=\"psysml:901b44a6-3b8d-4bea-9e51-ad40652cd7ff\" xlink:show=\"new\" xlink:title=\"psysml:901b44a6-3b8d-4bea-9e51-ad40652cd7ff\" xlink:type=\"simple\"><path d=\"M97.91,299.06 C88.24,316.7 74.74,341.34 65.07,358.98 \" fill=\"none\" id=\"E2-E6\" style=\"stroke: #A80036; stroke-width: 3.0;\"/><text fill=\"#000000\" font-family=\"sans-serif\" font-size=\"13\" lengthAdjust=\"spacingAndGlyphs\" textLength=\"7\" x=\"60.3732\" y=\"347.8709\">*</text></a><!--MD5=[452b418e7f8a40397a49b8c0a78acc5b]\n",
       "reverse link E5 to E7--><a href=\"psysml:5a5926b8-11d9-4284-b6a0-db32c9e29bb2\" target=\"_top\" title=\"psysml:5a5926b8-11d9-4284-b6a0-db32c9e29bb2\" xlink:actuate=\"onRequest\" xlink:href=\"psysml:5a5926b8-11d9-4284-b6a0-db32c9e29bb2\" xlink:show=\"new\" xlink:title=\"psysml:5a5926b8-11d9-4284-b6a0-db32c9e29bb2\" xlink:type=\"simple\"><path d=\"M94.73,99.96 C98.17,115.51 102.11,133.33 105.13,146.98 \" fill=\"none\" id=\"E5&lt;-E7\" style=\"stroke: #A80036; stroke-width: 1.0;\"/><polygon fill=\"#A80036\" points=\"91.88,87.06,89.2656,93.7805,94.4636,98.7786,97.078,92.0581,91.88,87.06\" style=\"stroke: #A80036; stroke-width: 1.0;\"/><text fill=\"#000000\" font-family=\"sans-serif\" font-size=\"13\" lengthAdjust=\"spacingAndGlyphs\" textLength=\"8\" x=\"94.7462\" y=\"135.8709\">1</text></a><!--MD5=[583832df87f4419a098336a29a52fa00]\n",
       "link E7 to E2--><a href=\"psysml:dd540a25-2742-496a-aaa6-3ea5cc8a4940\" target=\"_top\" title=\"psysml:dd540a25-2742-496a-aaa6-3ea5cc8a4940\" xlink:actuate=\"onRequest\" xlink:href=\"psysml:dd540a25-2742-496a-aaa6-3ea5cc8a4940\" xlink:show=\"new\" xlink:title=\"psysml:dd540a25-2742-496a-aaa6-3ea5cc8a4940\" xlink:type=\"simple\"><path d=\"M110,193.06 C110,204.64 110,219.23 110,232.87 \" fill=\"none\" id=\"E7-&gt;E2\" style=\"stroke: #A80036; stroke-width: 1.0;\"/><polygon fill=\"none\" points=\"117,232.98,110,252.98,103,232.98,117,232.98\" style=\"stroke: #A80036; stroke-width: 1.0;\"/></a><!--MD5=[6ed80980b441e9b473035277e662883b]\n",
       "@startuml\r\n",
       "skinparam wrapWidth 300\r\n",
       "hide circle\r\n",
       "\r\n",
       "package \"ConnectionTest\" as E1  [[psysml:58064a58-d13b-4f80-a6f6-0eceb966f2f7 ]]  {\r\n",
       "comp usage \"p\" as E2  <<(T,blue) part>> [[psysml:98bc980e-08bf-4c08-bf0e-335abb3c4ffd ]] {\r\n",
       "}\r\n",
       "comp usage \"x\" as E3  <<(T,blue) part>> [[psysml:c51e79ce-7cf1-4bdb-aba6-5cab2657d431 ]] {\r\n",
       "}\r\n",
       "comp usage \"x1\" as E4  <<(T,blue) part>> [[psysml:31f41755-661a-4a53-a2bb-f2dfc01c0edf ]] {\r\n",
       "}\r\n",
       "comp def \"P\" as E5  <<(T,blue) part def>> [[psysml:9833d686-e720-46bf-b438-35dbd29b7a16 ]] {\r\n",
       "}\r\n",
       "comp usage \"y\" as E6  <<(T,blue) part>> [[psysml:f96f9e94-0e28-4abd-b8cb-5d3679a708db ]] {\r\n",
       "}\r\n",
       "comp usage \"p1\" as E7  <<(T,blue) part>> [[psysml:2279d5a4-5f0e-43ce-88bf-f6ddb21c3f25 ]] {\r\n",
       "}\r\n",
       "}\r\n",
       "E2 *- - \"1\"E3 [[psysml:1ffc18c1-940f-43c3-a54c-dcf9b76281a6 ]] \r\n",
       "E3 *- - \"1\"E4 [[psysml:3d75ef33-b13b-4214-af18-b5d2941be4f9 ]] \r\n",
       "E5 *- - \"1\"E6 [[psysml:d68af8b5-54d9-4416-b26b-1e36c98f2c99 ]] \r\n",
       "E2 -[thickness=3]- \"*\"E6 [[psysml:901b44a6-3b8d-4bea-9e51-ad40652cd7ff ]] \r\n",
       "E5 *- - \"1\"E7 [[psysml:5a5926b8-11d9-4284-b6a0-db32c9e29bb2 ]] \r\n",
       "E7 - -|> E2 [[psysml:dd540a25-2742-496a-aaa6-3ea5cc8a4940 ]] \r\n",
       "@enduml\r\n",
       "\n",
       "PlantUML version 1.2020.13(Sat Jun 13 12:26:38 UTC 2020)\n",
       "(EPL source distribution)\n",
       "Java Runtime: OpenJDK Runtime Environment\n",
       "JVM: OpenJDK 64-Bit Server VM\n",
       "Default Encoding: UTF-8\n",
       "Language: en\n",
       "Country: null\n",
       "--></g></svg>"
      ]
     },
     "execution_count": 24,
     "metadata": {},
     "output_type": "execute_result"
    }
   ],
   "source": [
    "%viz --style=\"STDCOLOR\" --view=\"Tree\" \"ConnectionTest\""
   ]
  },
  {
   "cell_type": "code",
   "execution_count": 25,
   "id": "84a54425",
   "metadata": {
    "execution": {
     "iopub.execute_input": "2021-09-27T07:17:33.157112Z",
     "iopub.status.busy": "2021-09-27T07:17:33.156704Z",
     "iopub.status.idle": "2021-09-27T07:17:33.160983Z",
     "shell.execute_reply": "2021-09-27T07:17:33.161302Z"
    }
   },
   "outputs": [
    {
     "data": {
      "image/svg+xml": [
       "<?xml version=\"1.0\" encoding=\"UTF-8\" standalone=\"no\"?><svg xmlns=\"http://www.w3.org/2000/svg\" xmlns:xlink=\"http://www.w3.org/1999/xlink\" contentScriptType=\"application/ecmascript\" contentStyleType=\"text/css\" height=\"12px\" preserveAspectRatio=\"none\" style=\"width:12px;height:12px;\" version=\"1.1\" viewBox=\"0 0 12 12\" width=\"12px\" zoomAndPan=\"magnify\"><defs/><g><!--MD5=[aeeef50f102b80d730deb6443d14f702]\n",
       "@startuml\r\n",
       "skinparam wrapWidth 300\r\n",
       "hide circle\r\n",
       "\r\n",
       "@enduml\r\n",
       "\n",
       "PlantUML version 1.2020.13(Sat Jun 13 12:26:38 UTC 2020)\n",
       "(EPL source distribution)\n",
       "Java Runtime: OpenJDK Runtime Environment\n",
       "JVM: OpenJDK 64-Bit Server VM\n",
       "Default Encoding: UTF-8\n",
       "Language: en\n",
       "Country: null\n",
       "--></g></svg>"
      ]
     },
     "execution_count": 25,
     "metadata": {},
     "output_type": "execute_result"
    }
   ],
   "source": [
    "%viz --style=\"STDCOLOR\" --view=\"State\" \"ConnectionTest\""
   ]
  },
  {
   "cell_type": "code",
   "execution_count": 26,
   "id": "bf6f9d4a",
   "metadata": {
    "execution": {
     "iopub.execute_input": "2021-09-27T07:17:33.211377Z",
     "iopub.status.busy": "2021-09-27T07:17:33.210952Z",
     "iopub.status.idle": "2021-09-27T07:17:33.237921Z",
     "shell.execute_reply": "2021-09-27T07:17:33.236618Z"
    }
   },
   "outputs": [
    {
     "data": {
      "image/svg+xml": [
       "<?xml version=\"1.0\" encoding=\"UTF-8\" standalone=\"no\"?><svg xmlns=\"http://www.w3.org/2000/svg\" xmlns:xlink=\"http://www.w3.org/1999/xlink\" contentScriptType=\"application/ecmascript\" contentStyleType=\"text/css\" height=\"406px\" preserveAspectRatio=\"none\" style=\"width:509px;height:406px;\" version=\"1.1\" viewBox=\"0 0 509 406\" width=\"509px\" zoomAndPan=\"magnify\"><defs><filter height=\"300%\" id=\"fw30ikvdwpfo0\" width=\"300%\" x=\"-1\" y=\"-1\"><feGaussianBlur result=\"blurOut\" stdDeviation=\"2.0\"/><feColorMatrix in=\"blurOut\" result=\"blurOut2\" type=\"matrix\" values=\"0 0 0 0 0 0 0 0 0 0 0 0 0 0 0 0 0 0 .4 0\"/><feOffset dx=\"4.0\" dy=\"4.0\" in=\"blurOut2\" result=\"blurOut3\"/><feBlend in=\"SourceGraphic\" in2=\"blurOut3\" mode=\"normal\"/></filter></defs><g><!--MD5=[fbc87193dbaf4d95561dea2c320d4a47]\n",
       "cluster E1--><a href=\"psysml:58064a58-d13b-4f80-a6f6-0eceb966f2f7\" target=\"_top\" title=\"psysml:58064a58-d13b-4f80-a6f6-0eceb966f2f7\" xlink:actuate=\"onRequest\" xlink:href=\"psysml:58064a58-d13b-4f80-a6f6-0eceb966f2f7\" xlink:show=\"new\" xlink:title=\"psysml:58064a58-d13b-4f80-a6f6-0eceb966f2f7\" xlink:type=\"simple\"><polygon fill=\"#FFFFFF\" filter=\"url(#fw30ikvdwpfo0)\" points=\"16,6,133,6,140,28.2969,487,28.2969,487,394,16,394,16,6\" style=\"stroke: #000000; stroke-width: 1.5;\"/><line style=\"stroke: #000000; stroke-width: 1.5;\" x1=\"16\" x2=\"140\" y1=\"28.2969\" y2=\"28.2969\"/><text fill=\"#000000\" font-family=\"sans-serif\" font-size=\"14\" font-weight=\"bold\" lengthAdjust=\"spacingAndGlyphs\" textLength=\"111\" x=\"20\" y=\"20.9951\">ConnectionTest</text></a><!--MD5=[e4f7fae6ed58524ba242bb0b0d3be6b7]\n",
       "cluster E2--><a href=\"psysml:98bc980e-08bf-4c08-bf0e-335abb3c4ffd\" target=\"_top\" title=\"psysml:98bc980e-08bf-4c08-bf0e-335abb3c4ffd\" xlink:actuate=\"onRequest\" xlink:href=\"psysml:98bc980e-08bf-4c08-bf0e-335abb3c4ffd\" xlink:show=\"new\" xlink:title=\"psysml:98bc980e-08bf-4c08-bf0e-335abb3c4ffd\" xlink:type=\"simple\"><rect fill=\"#FFFFFF\" filter=\"url(#fw30ikvdwpfo0)\" height=\"174\" id=\"E2\" rx=\"10\" ry=\"10\" style=\"stroke: #A80036; stroke-width: 1.5;\" width=\"154\" x=\"301\" y=\"116\"/><rect fill=\"#FEFECE\" height=\"23.9688\" rx=\"10\" ry=\"10\" style=\"stroke: #FEFECE; stroke-width: 1.5;\" width=\"154\" x=\"301\" y=\"116\"/><rect fill=\"#FEFECE\" height=\"10\" style=\"stroke: #FEFECE; stroke-width: 1.5;\" width=\"154\" x=\"301\" y=\"129.9688\"/><rect fill=\"none\" height=\"174\" id=\"E2\" rx=\"10\" ry=\"10\" style=\"stroke: #A80036; stroke-width: 1.5;\" width=\"154\" x=\"301\" y=\"116\"/><text fill=\"#000000\" font-family=\"sans-serif\" font-size=\"12\" lengthAdjust=\"spacingAndGlyphs\" textLength=\"8\" x=\"374\" y=\"132.1387\">p</text><line style=\"stroke: #A80036; stroke-width: 1.0;\" x1=\"301\" x2=\"455\" y1=\"139.9688\" y2=\"139.9688\"/></a><!--MD5=[d5e69f78d87373223dbae638b30a9c99]\n",
       "cluster E3--><a href=\"psysml:c51e79ce-7cf1-4bdb-aba6-5cab2657d431\" target=\"_top\" title=\"psysml:c51e79ce-7cf1-4bdb-aba6-5cab2657d431\" xlink:actuate=\"onRequest\" xlink:href=\"psysml:c51e79ce-7cf1-4bdb-aba6-5cab2657d431\" xlink:show=\"new\" xlink:title=\"psysml:c51e79ce-7cf1-4bdb-aba6-5cab2657d431\" xlink:type=\"simple\"><rect fill=\"#FFFFFF\" filter=\"url(#fw30ikvdwpfo0)\" height=\"91\" id=\"E3\" rx=\"10\" ry=\"10\" style=\"stroke: #A80036; stroke-width: 1.5;\" width=\"82\" x=\"341\" y=\"167\"/><rect fill=\"#FEFECE\" height=\"23.9688\" rx=\"10\" ry=\"10\" style=\"stroke: #FEFECE; stroke-width: 1.5;\" width=\"82\" x=\"341\" y=\"167\"/><rect fill=\"#FEFECE\" height=\"10\" style=\"stroke: #FEFECE; stroke-width: 1.5;\" width=\"82\" x=\"341\" y=\"180.9688\"/><rect fill=\"none\" height=\"91\" id=\"E3\" rx=\"10\" ry=\"10\" style=\"stroke: #A80036; stroke-width: 1.5;\" width=\"82\" x=\"341\" y=\"167\"/><text fill=\"#000000\" font-family=\"sans-serif\" font-size=\"12\" lengthAdjust=\"spacingAndGlyphs\" textLength=\"6\" x=\"379\" y=\"183.1387\">x</text><line style=\"stroke: #A80036; stroke-width: 1.0;\" x1=\"341\" x2=\"423\" y1=\"190.9688\" y2=\"190.9688\"/></a><!--MD5=[de5ec2e2e8f62f467e546659f5068c88]\n",
       "cluster E5--><a href=\"psysml:9833d686-e720-46bf-b438-35dbd29b7a16\" target=\"_top\" title=\"psysml:9833d686-e720-46bf-b438-35dbd29b7a16\" xlink:actuate=\"onRequest\" xlink:href=\"psysml:9833d686-e720-46bf-b438-35dbd29b7a16\" xlink:show=\"new\" xlink:title=\"psysml:9833d686-e720-46bf-b438-35dbd29b7a16\" xlink:type=\"simple\"><rect fill=\"#FFFFFF\" filter=\"url(#fw30ikvdwpfo0)\" height=\"321\" id=\"E5\" style=\"stroke: #A80036; stroke-width: 1.5;\" width=\"229\" x=\"40\" y=\"49\"/><rect fill=\"#FEFECE\" height=\"37.9375\" style=\"stroke: #A80036; stroke-width: 1.5;\" width=\"229\" x=\"40\" y=\"49\"/><text fill=\"#000000\" font-family=\"sans-serif\" font-size=\"12\" font-style=\"italic\" lengthAdjust=\"spacingAndGlyphs\" textLength=\"64\" x=\"122.5\" y=\"65.1387\">«part def»</text><text fill=\"#000000\" font-family=\"sans-serif\" font-size=\"12\" lengthAdjust=\"spacingAndGlyphs\" textLength=\"8\" x=\"150.5\" y=\"79.1074\">P</text></a><!--MD5=[168fadf3d0c3fd93dd5d6da1b1d7ab76]\n",
       "cluster E7--><a href=\"psysml:2279d5a4-5f0e-43ce-88bf-f6ddb21c3f25\" target=\"_top\" title=\"psysml:2279d5a4-5f0e-43ce-88bf-f6ddb21c3f25\" xlink:actuate=\"onRequest\" xlink:href=\"psysml:2279d5a4-5f0e-43ce-88bf-f6ddb21c3f25\" xlink:show=\"new\" xlink:title=\"psysml:2279d5a4-5f0e-43ce-88bf-f6ddb21c3f25\" xlink:type=\"simple\"><rect fill=\"#FFFFFF\" filter=\"url(#fw30ikvdwpfo0)\" height=\"190\" id=\"E7\" rx=\"10\" ry=\"10\" style=\"stroke: #A80036; stroke-width: 1.5;\" width=\"181\" x=\"64\" y=\"108\"/><rect fill=\"#FEFECE\" height=\"23.9688\" rx=\"10\" ry=\"10\" style=\"stroke: #FEFECE; stroke-width: 1.5;\" width=\"181\" x=\"64\" y=\"108\"/><rect fill=\"#FEFECE\" height=\"10\" style=\"stroke: #FEFECE; stroke-width: 1.5;\" width=\"181\" x=\"64\" y=\"121.9688\"/><rect fill=\"none\" height=\"190\" id=\"E7\" rx=\"10\" ry=\"10\" style=\"stroke: #A80036; stroke-width: 1.5;\" width=\"181\" x=\"64\" y=\"108\"/><text fill=\"#000000\" font-family=\"sans-serif\" font-size=\"12\" lengthAdjust=\"spacingAndGlyphs\" textLength=\"16\" x=\"146.5\" y=\"124.1387\">p1</text><line style=\"stroke: #A80036; stroke-width: 1.0;\" x1=\"64\" x2=\"245\" y1=\"131.9688\" y2=\"131.9688\"/></a><!--MD5=[55dfccfc6c49c2d10cd1bd2211a6c90c]\n",
       "cluster E8--><a href=\"psysml:c51e79ce-7cf1-4bdb-aba6-5cab2657d431\" target=\"_top\" title=\"psysml:c51e79ce-7cf1-4bdb-aba6-5cab2657d431\" xlink:actuate=\"onRequest\" xlink:href=\"psysml:c51e79ce-7cf1-4bdb-aba6-5cab2657d431\" xlink:show=\"new\" xlink:title=\"psysml:c51e79ce-7cf1-4bdb-aba6-5cab2657d431\" xlink:type=\"simple\"><rect fill=\"#FFFFFF\" filter=\"url(#fw30ikvdwpfo0)\" height=\"107\" id=\"E8\" rx=\"10\" ry=\"10\" style=\"stroke: #A80036; stroke-width: 1.5;\" width=\"117\" x=\"96\" y=\"159\"/><rect fill=\"#FEFECE\" height=\"23.9688\" rx=\"10\" ry=\"10\" style=\"stroke: #FEFECE; stroke-width: 1.5;\" width=\"117\" x=\"96\" y=\"159\"/><rect fill=\"#FEFECE\" height=\"10\" style=\"stroke: #FEFECE; stroke-width: 1.5;\" width=\"117\" x=\"96\" y=\"172.9688\"/><rect fill=\"none\" height=\"107\" id=\"E8\" rx=\"10\" ry=\"10\" style=\"stroke: #A80036; stroke-width: 1.5;\" width=\"117\" x=\"96\" y=\"159\"/><text fill=\"#000000\" font-family=\"sans-serif\" font-size=\"12\" lengthAdjust=\"spacingAndGlyphs\" textLength=\"16\" x=\"146.5\" y=\"175.1387\">^x</text><line style=\"stroke: #A80036; stroke-width: 1.0;\" x1=\"96\" x2=\"213\" y1=\"182.9688\" y2=\"182.9688\"/></a><g id=\"E1.E2.E3.E4\"><a href=\"psysml:31f41755-661a-4a53-a2bb-f2dfc01c0edf\" target=\"_top\" title=\"psysml:31f41755-661a-4a53-a2bb-f2dfc01c0edf\" xlink:actuate=\"onRequest\" xlink:href=\"psysml:31f41755-661a-4a53-a2bb-f2dfc01c0edf\" xlink:show=\"new\" xlink:title=\"psysml:31f41755-661a-4a53-a2bb-f2dfc01c0edf\" xlink:type=\"simple\"><rect fill=\"#FEFECE\" filter=\"url(#fw30ikvdwpfo0)\" height=\"40\" id=\"E4\" rx=\"10\" ry=\"10\" style=\"stroke: #A80036; stroke-width: 1.5;\" width=\"50\" x=\"357\" y=\"202\"/><text fill=\"#000000\" font-family=\"sans-serif\" font-size=\"12\" lengthAdjust=\"spacingAndGlyphs\" textLength=\"14\" x=\"375\" y=\"218.1387\">x1</text></a></g><g id=\"E1.E5.E6\"><a href=\"psysml:f96f9e94-0e28-4abd-b8cb-5d3679a708db\" target=\"_top\" title=\"psysml:f96f9e94-0e28-4abd-b8cb-5d3679a708db\" xlink:actuate=\"onRequest\" xlink:href=\"psysml:f96f9e94-0e28-4abd-b8cb-5d3679a708db\" xlink:show=\"new\" xlink:title=\"psysml:f96f9e94-0e28-4abd-b8cb-5d3679a708db\" xlink:type=\"simple\"><rect fill=\"#FEFECE\" filter=\"url(#fw30ikvdwpfo0)\" height=\"40\" id=\"E6\" rx=\"10\" ry=\"10\" style=\"stroke: #A80036; stroke-width: 1.5;\" width=\"50\" x=\"139\" y=\"314\"/><text fill=\"#000000\" font-family=\"sans-serif\" font-size=\"12\" lengthAdjust=\"spacingAndGlyphs\" textLength=\"6\" x=\"161\" y=\"330.1387\">y</text></a></g><g id=\"E1.E5.E7.E8.E9\"><a href=\"psysml:31f41755-661a-4a53-a2bb-f2dfc01c0edf\" target=\"_top\" title=\"psysml:31f41755-661a-4a53-a2bb-f2dfc01c0edf\" xlink:actuate=\"onRequest\" xlink:href=\"psysml:31f41755-661a-4a53-a2bb-f2dfc01c0edf\" xlink:show=\"new\" xlink:title=\"psysml:31f41755-661a-4a53-a2bb-f2dfc01c0edf\" xlink:type=\"simple\"><rect fill=\"#FEFECE\" filter=\"url(#fw30ikvdwpfo0)\" height=\"40\" id=\"E9\" rx=\"10\" ry=\"10\" style=\"stroke: #A80036; stroke-width: 1.5;\" width=\"50\" x=\"139\" y=\"202\"/><text fill=\"#000000\" font-family=\"sans-serif\" font-size=\"12\" lengthAdjust=\"spacingAndGlyphs\" textLength=\"14\" x=\"157\" y=\"218.1387\">x1</text></a></g><!--MD5=[e3e28c1befcf002155aa15e1416b4315]\n",
       "link E2 to E6--><a href=\"psysml:901b44a6-3b8d-4bea-9e51-ad40652cd7ff\" target=\"_top\" title=\"psysml:901b44a6-3b8d-4bea-9e51-ad40652cd7ff\" xlink:actuate=\"onRequest\" xlink:href=\"psysml:901b44a6-3b8d-4bea-9e51-ad40652cd7ff\" xlink:show=\"new\" xlink:title=\"psysml:901b44a6-3b8d-4bea-9e51-ad40652cd7ff\" xlink:type=\"simple\"><path d=\"M300.7532,230.0089 C300.6678,230.081 300.5818,230.1536 300.4952,230.2266 C300.3221,230.3728 300.1466,230.5208 299.9687,230.6708 C299.2574,231.2706 298.509,231.9009 297.7253,232.56 C291.4556,237.8325 282.9263,244.945 273.0525,253.02 C253.305,269.17 228.18,289.17 205,306 C200.03,309.61 194.62,313.32 189.4,316.79 \" fill=\"none\" id=\"E2-E6\" style=\"stroke: #A80036; stroke-width: 3.0;\"/><text fill=\"#000000\" font-family=\"sans-serif\" font-size=\"13\" lengthAdjust=\"spacingAndGlyphs\" textLength=\"7\" x=\"197.1669\" y=\"307.2339\">*</text></a><!--MD5=[c5e8897d989ce984f93528998a7150fe]\n",
       "link E8 to E6--><a href=\"psysml:b9509daa-923d-4932-b597-51fbb4fcb62c\" target=\"_top\" title=\"psysml:b9509daa-923d-4932-b597-51fbb4fcb62c\" xlink:actuate=\"onRequest\" xlink:href=\"psysml:b9509daa-923d-4932-b597-51fbb4fcb62c\" xlink:show=\"new\" xlink:title=\"psysml:b9509daa-923d-4932-b597-51fbb4fcb62c\" xlink:type=\"simple\"><path d=\"M107.5144,266.114 C107.5418,266.252 107.5694,266.3902 107.5972,266.5284 C107.6527,266.8049 107.7091,267.0817 107.7663,267.3589 C108.6814,271.7933 109.8082,276.3099 111.1942,280.7795 C113.9663,289.7188 117.775,298.47 123,306 C127.08,311.88 132.9,316.81 138.87,320.78 \" fill=\"none\" id=\"E8-E6\" style=\"stroke: #A80036; stroke-width: 3.0;\"/><text fill=\"#000000\" font-family=\"sans-serif\" font-size=\"13\" lengthAdjust=\"spacingAndGlyphs\" textLength=\"7\" x=\"124.1757\" y=\"312.2962\">*</text></a><!--MD5=[60ac2c0cde89d4308155b0484e57a8ec]\n",
       "link E9 to E6--><a href=\"psysml:c683e43b-7fd5-4334-8447-643be8454737\" target=\"_top\" title=\"psysml:c683e43b-7fd5-4334-8447-643be8454737\" xlink:actuate=\"onRequest\" xlink:href=\"psysml:c683e43b-7fd5-4334-8447-643be8454737\" xlink:show=\"new\" xlink:title=\"psysml:c683e43b-7fd5-4334-8447-643be8454737\" xlink:type=\"simple\"><path d=\"M164,242.16 C164,262.23 164,293.57 164,313.69 \" fill=\"none\" id=\"E9-E6\" style=\"stroke: #A80036; stroke-width: 3.0;\"/><text fill=\"#000000\" font-family=\"sans-serif\" font-size=\"13\" lengthAdjust=\"spacingAndGlyphs\" textLength=\"7\" x=\"156.0156\" y=\"302.954\">*</text></a><!--MD5=[4f227efb67d564ab2ac69a7ec2c91152]\n",
       "@startuml\r\n",
       "skinparam ranksep 10\r\n",
       "skinparam rectangle {\r\n",
       " backgroundColor<<block>> LightGreen\r\n",
       "}\r\n",
       "skinparam wrapWidth 300\r\n",
       "hide circle\r\n",
       "\r\n",
       "package \"ConnectionTest\" as E1  [[psysml:58064a58-d13b-4f80-a6f6-0eceb966f2f7 ]]  {\r\n",
       "rec usage \"p\" as E2  [[psysml:98bc980e-08bf-4c08-bf0e-335abb3c4ffd ]] {\r\n",
       "rec usage \"x\" as E3  [[psysml:c51e79ce-7cf1-4bdb-aba6-5cab2657d431 ]] {\r\n",
       "rec usage \"x1\" as E4  [[psysml:31f41755-661a-4a53-a2bb-f2dfc01c0edf ]] {\r\n",
       "}\r\n",
       "}\r\n",
       "}\r\n",
       "rec def \"P\" as E5  <<(T,blue) part def>> [[psysml:9833d686-e720-46bf-b438-35dbd29b7a16 ]] {\r\n",
       "rec usage \"y\" as E6  [[psysml:f96f9e94-0e28-4abd-b8cb-5d3679a708db ]] {\r\n",
       "}\r\n",
       "rec usage \"p1\" as E7  [[psysml:2279d5a4-5f0e-43ce-88bf-f6ddb21c3f25 ]] {\r\n",
       "rec usage \"^x\" as E8  [[psysml:c51e79ce-7cf1-4bdb-aba6-5cab2657d431 ]] {\r\n",
       "rec usage \"x1\" as E9  [[psysml:31f41755-661a-4a53-a2bb-f2dfc01c0edf ]] {\r\n",
       "}\r\n",
       "}\r\n",
       "}\r\n",
       "}\r\n",
       "}\r\n",
       "E2 -[thickness=3]- \"*\"E6 [[psysml:901b44a6-3b8d-4bea-9e51-ad40652cd7ff ]] \r\n",
       "E8 -[thickness=3]- \"*\"E6 [[psysml:b9509daa-923d-4932-b597-51fbb4fcb62c ]] \r\n",
       "E9 -[thickness=3]- \"*\"E6 [[psysml:c683e43b-7fd5-4334-8447-643be8454737 ]] \r\n",
       "@enduml\r\n",
       "\n",
       "PlantUML version 1.2020.13(Sat Jun 13 12:26:38 UTC 2020)\n",
       "(EPL source distribution)\n",
       "Java Runtime: OpenJDK Runtime Environment\n",
       "JVM: OpenJDK 64-Bit Server VM\n",
       "Default Encoding: UTF-8\n",
       "Language: en\n",
       "Country: null\n",
       "--></g></svg>"
      ]
     },
     "execution_count": 26,
     "metadata": {},
     "output_type": "execute_result"
    }
   ],
   "source": [
    "%viz --style=\"STDCOLOR\" --view=\"Interconnection\" \"ConnectionTest\""
   ]
  },
  {
   "cell_type": "code",
   "execution_count": 27,
   "id": "8dc9cbbf",
   "metadata": {
    "execution": {
     "iopub.execute_input": "2021-09-27T07:17:33.287319Z",
     "iopub.status.busy": "2021-09-27T07:17:33.286922Z",
     "iopub.status.idle": "2021-09-27T07:17:33.291226Z",
     "shell.execute_reply": "2021-09-27T07:17:33.291539Z"
    }
   },
   "outputs": [
    {
     "data": {
      "image/svg+xml": [
       "<?xml version=\"1.0\" encoding=\"UTF-8\" standalone=\"no\"?><svg xmlns=\"http://www.w3.org/2000/svg\" xmlns:xlink=\"http://www.w3.org/1999/xlink\" contentScriptType=\"application/ecmascript\" contentStyleType=\"text/css\" height=\"12px\" preserveAspectRatio=\"none\" style=\"width:12px;height:12px;\" version=\"1.1\" viewBox=\"0 0 12 12\" width=\"12px\" zoomAndPan=\"magnify\"><defs/><g><!--MD5=[9863325348a96a77dacc89509d8ee65e]\n",
       "@startuml\r\n",
       "skinparam ranksep 8\r\n",
       "skinparam wrapWidth 300\r\n",
       "hide circle\r\n",
       "\r\n",
       "@enduml\r\n",
       "\n",
       "PlantUML version 1.2020.13(Sat Jun 13 12:26:38 UTC 2020)\n",
       "(EPL source distribution)\n",
       "Java Runtime: OpenJDK Runtime Environment\n",
       "JVM: OpenJDK 64-Bit Server VM\n",
       "Default Encoding: UTF-8\n",
       "Language: en\n",
       "Country: null\n",
       "--></g></svg>"
      ]
     },
     "execution_count": 27,
     "metadata": {},
     "output_type": "execute_result"
    }
   ],
   "source": [
    "%viz --style=\"STDCOLOR\" --view=\"Action\" \"ConnectionTest\""
   ]
  },
  {
   "cell_type": "code",
   "execution_count": 28,
   "id": "e13949a9",
   "metadata": {
    "execution": {
     "iopub.execute_input": "2021-09-27T07:17:33.341658Z",
     "iopub.status.busy": "2021-09-27T07:17:33.341260Z",
     "iopub.status.idle": "2021-09-27T07:17:33.346208Z",
     "shell.execute_reply": "2021-09-27T07:17:33.346517Z"
    }
   },
   "outputs": [
    {
     "data": {
      "image/svg+xml": [
       "<?xml version=\"1.0\" encoding=\"UTF-8\" standalone=\"no\"?><svg xmlns=\"http://www.w3.org/2000/svg\" xmlns:xlink=\"http://www.w3.org/1999/xlink\" contentScriptType=\"application/ecmascript\" contentStyleType=\"text/css\" height=\"12px\" preserveAspectRatio=\"none\" style=\"width:12px;height:12px;\" version=\"1.1\" viewBox=\"0 0 12 12\" width=\"12px\" zoomAndPan=\"magnify\"><defs/><g><!--MD5=[6c4bca67b4d71758159a5a7f1f1e1fc2]\n",
       "@startuml\r\n",
       "skinparam roundcorner 20\r\n",
       "skinparam BoxPadding 20\r\n",
       "skinparam SequenceBoxBackgroundColor #white\r\n",
       "skinparam style strictuml\r\n",
       "skinparam maxMessageSize 100\r\n",
       "skinparam wrapWidth 300\r\n",
       "hide circle\r\n",
       "\r\n",
       "@enduml\r\n",
       "\n",
       "PlantUML version 1.2020.13(Sat Jun 13 12:26:38 UTC 2020)\n",
       "(EPL source distribution)\n",
       "Java Runtime: OpenJDK Runtime Environment\n",
       "JVM: OpenJDK 64-Bit Server VM\n",
       "Default Encoding: UTF-8\n",
       "Language: en\n",
       "Country: null\n",
       "--></g></svg>"
      ]
     },
     "execution_count": 28,
     "metadata": {},
     "output_type": "execute_result"
    }
   ],
   "source": [
    "%viz --style=\"STDCOLOR\" --view=\"Sequence\" \"ConnectionTest\""
   ]
  },
  {
   "cell_type": "code",
   "execution_count": 29,
   "id": "68a490db",
   "metadata": {
    "execution": {
     "iopub.execute_input": "2021-09-27T07:17:33.396470Z",
     "iopub.status.busy": "2021-09-27T07:17:33.396082Z",
     "iopub.status.idle": "2021-09-27T07:17:33.416213Z",
     "shell.execute_reply": "2021-09-27T07:17:33.415026Z"
    }
   },
   "outputs": [
    {
     "data": {
      "image/svg+xml": [
       "<?xml version=\"1.0\" encoding=\"UTF-8\" standalone=\"no\"?><svg xmlns=\"http://www.w3.org/2000/svg\" xmlns:xlink=\"http://www.w3.org/1999/xlink\" contentScriptType=\"application/ecmascript\" contentStyleType=\"text/css\" height=\"539px\" preserveAspectRatio=\"none\" style=\"width:189px;height:539px;\" version=\"1.1\" viewBox=\"0 0 189 539\" width=\"189px\" zoomAndPan=\"magnify\"><defs><filter height=\"300%\" id=\"f560ytpyd3jne\" width=\"300%\" x=\"-1\" y=\"-1\"><feGaussianBlur result=\"blurOut\" stdDeviation=\"2.0\"/><feColorMatrix in=\"blurOut\" result=\"blurOut2\" type=\"matrix\" values=\"0 0 0 0 0 0 0 0 0 0 0 0 0 0 0 0 0 0 .4 0\"/><feOffset dx=\"4.0\" dy=\"4.0\" in=\"blurOut2\" result=\"blurOut3\"/><feBlend in=\"SourceGraphic\" in2=\"blurOut3\" mode=\"normal\"/></filter></defs><g><!--MD5=[fbc87193dbaf4d95561dea2c320d4a47]\n",
       "cluster E1--><a href=\"psysml:58064a58-d13b-4f80-a6f6-0eceb966f2f7\" target=\"_top\" title=\"psysml:58064a58-d13b-4f80-a6f6-0eceb966f2f7\" xlink:actuate=\"onRequest\" xlink:href=\"psysml:58064a58-d13b-4f80-a6f6-0eceb966f2f7\" xlink:show=\"new\" xlink:title=\"psysml:58064a58-d13b-4f80-a6f6-0eceb966f2f7\" xlink:type=\"simple\"><polygon fill=\"#FFFFFF\" filter=\"url(#f560ytpyd3jne)\" points=\"16,6,133,6,140,28.2969,167,28.2969,167,527,16,527,16,6\" style=\"stroke: #000000; stroke-width: 1.5;\"/><line style=\"stroke: #000000; stroke-width: 1.5;\" x1=\"16\" x2=\"140\" y1=\"28.2969\" y2=\"28.2969\"/><text fill=\"#000000\" font-family=\"sans-serif\" font-size=\"14\" font-weight=\"bold\" lengthAdjust=\"spacingAndGlyphs\" textLength=\"111\" x=\"20\" y=\"20.9951\">ConnectionTest</text></a><!--MD5=[b4997ac47864f28c2f74865a473b2911]\n",
       "class E2--><a href=\"psysml:98bc980e-08bf-4c08-bf0e-335abb3c4ffd\" target=\"_top\" title=\"psysml:98bc980e-08bf-4c08-bf0e-335abb3c4ffd\" xlink:actuate=\"onRequest\" xlink:href=\"psysml:98bc980e-08bf-4c08-bf0e-335abb3c4ffd\" xlink:show=\"new\" xlink:title=\"psysml:98bc980e-08bf-4c08-bf0e-335abb3c4ffd\" xlink:type=\"simple\"><rect fill=\"#FEFECE\" filter=\"url(#f560ytpyd3jne)\" height=\"45.9375\" id=\"E2\" rx=\"10\" ry=\"10\" style=\"stroke: #A80036; stroke-width: 1.5;\" width=\"42\" x=\"89\" y=\"253\"/><text fill=\"#000000\" font-family=\"sans-serif\" font-size=\"12\" font-style=\"italic\" lengthAdjust=\"spacingAndGlyphs\" textLength=\"40\" x=\"90\" y=\"269.1387\">«part»</text><text fill=\"#000000\" font-family=\"sans-serif\" font-size=\"12\" lengthAdjust=\"spacingAndGlyphs\" textLength=\"8\" x=\"106\" y=\"283.1074\">p</text><line style=\"stroke: #A80036; stroke-width: 1.5;\" x1=\"90\" x2=\"130\" y1=\"290.9375\" y2=\"290.9375\"/></a><!--MD5=[09b614a08d8cba4a07c9adeb5e0fee81]\n",
       "class E3--><a href=\"psysml:c51e79ce-7cf1-4bdb-aba6-5cab2657d431\" target=\"_top\" title=\"psysml:c51e79ce-7cf1-4bdb-aba6-5cab2657d431\" xlink:actuate=\"onRequest\" xlink:href=\"psysml:c51e79ce-7cf1-4bdb-aba6-5cab2657d431\" xlink:show=\"new\" xlink:title=\"psysml:c51e79ce-7cf1-4bdb-aba6-5cab2657d431\" xlink:type=\"simple\"><rect fill=\"#FEFECE\" filter=\"url(#f560ytpyd3jne)\" height=\"45.9375\" id=\"E3\" rx=\"10\" ry=\"10\" style=\"stroke: #A80036; stroke-width: 1.5;\" width=\"42\" x=\"109\" y=\"359\"/><text fill=\"#000000\" font-family=\"sans-serif\" font-size=\"12\" font-style=\"italic\" lengthAdjust=\"spacingAndGlyphs\" textLength=\"40\" x=\"110\" y=\"375.1387\">«part»</text><text fill=\"#000000\" font-family=\"sans-serif\" font-size=\"12\" lengthAdjust=\"spacingAndGlyphs\" textLength=\"6\" x=\"127\" y=\"389.1074\">x</text><line style=\"stroke: #A80036; stroke-width: 1.5;\" x1=\"110\" x2=\"150\" y1=\"396.9375\" y2=\"396.9375\"/></a><!--MD5=[ebbe1d658d1005bcc118a6aa81145e00]\n",
       "class E4--><a href=\"psysml:31f41755-661a-4a53-a2bb-f2dfc01c0edf\" target=\"_top\" title=\"psysml:31f41755-661a-4a53-a2bb-f2dfc01c0edf\" xlink:actuate=\"onRequest\" xlink:href=\"psysml:31f41755-661a-4a53-a2bb-f2dfc01c0edf\" xlink:show=\"new\" xlink:title=\"psysml:31f41755-661a-4a53-a2bb-f2dfc01c0edf\" xlink:type=\"simple\"><rect fill=\"#FEFECE\" filter=\"url(#f560ytpyd3jne)\" height=\"45.9375\" id=\"E4\" rx=\"10\" ry=\"10\" style=\"stroke: #A80036; stroke-width: 1.5;\" width=\"42\" x=\"109\" y=\"465\"/><text fill=\"#000000\" font-family=\"sans-serif\" font-size=\"12\" font-style=\"italic\" lengthAdjust=\"spacingAndGlyphs\" textLength=\"40\" x=\"110\" y=\"481.1387\">«part»</text><text fill=\"#000000\" font-family=\"sans-serif\" font-size=\"12\" lengthAdjust=\"spacingAndGlyphs\" textLength=\"14\" x=\"123\" y=\"495.1074\">x1</text><line style=\"stroke: #A80036; stroke-width: 1.5;\" x1=\"110\" x2=\"150\" y1=\"502.9375\" y2=\"502.9375\"/></a><!--MD5=[270fce915f116d4de14055a7c1d9a0f3]\n",
       "class E5--><a href=\"psysml:9833d686-e720-46bf-b438-35dbd29b7a16\" target=\"_top\" title=\"psysml:9833d686-e720-46bf-b438-35dbd29b7a16\" xlink:actuate=\"onRequest\" xlink:href=\"psysml:9833d686-e720-46bf-b438-35dbd29b7a16\" xlink:show=\"new\" xlink:title=\"psysml:9833d686-e720-46bf-b438-35dbd29b7a16\" xlink:type=\"simple\"><rect fill=\"#FEFECE\" filter=\"url(#f560ytpyd3jne)\" height=\"45.9375\" id=\"E5\" style=\"stroke: #A80036; stroke-width: 1.5;\" width=\"66\" x=\"54\" y=\"41\"/><text fill=\"#000000\" font-family=\"sans-serif\" font-size=\"12\" font-style=\"italic\" lengthAdjust=\"spacingAndGlyphs\" textLength=\"64\" x=\"55\" y=\"57.1387\">«part def»</text><text fill=\"#000000\" font-family=\"sans-serif\" font-size=\"12\" lengthAdjust=\"spacingAndGlyphs\" textLength=\"8\" x=\"83\" y=\"71.1074\">P</text><line style=\"stroke: #A80036; stroke-width: 1.5;\" x1=\"55\" x2=\"119\" y1=\"78.9375\" y2=\"78.9375\"/></a><!--MD5=[60a26617385b1d2d0262a64233df1f8d]\n",
       "class E6--><a href=\"psysml:f96f9e94-0e28-4abd-b8cb-5d3679a708db\" target=\"_top\" title=\"psysml:f96f9e94-0e28-4abd-b8cb-5d3679a708db\" xlink:actuate=\"onRequest\" xlink:href=\"psysml:f96f9e94-0e28-4abd-b8cb-5d3679a708db\" xlink:show=\"new\" xlink:title=\"psysml:f96f9e94-0e28-4abd-b8cb-5d3679a708db\" xlink:type=\"simple\"><rect fill=\"#FEFECE\" filter=\"url(#f560ytpyd3jne)\" height=\"45.9375\" id=\"E6\" rx=\"10\" ry=\"10\" style=\"stroke: #A80036; stroke-width: 1.5;\" width=\"42\" x=\"32\" y=\"359\"/><text fill=\"#000000\" font-family=\"sans-serif\" font-size=\"12\" font-style=\"italic\" lengthAdjust=\"spacingAndGlyphs\" textLength=\"40\" x=\"33\" y=\"375.1387\">«part»</text><text fill=\"#000000\" font-family=\"sans-serif\" font-size=\"12\" lengthAdjust=\"spacingAndGlyphs\" textLength=\"6\" x=\"50\" y=\"389.1074\">y</text><line style=\"stroke: #A80036; stroke-width: 1.5;\" x1=\"33\" x2=\"73\" y1=\"396.9375\" y2=\"396.9375\"/></a><!--MD5=[2156ba9850f5573cc1fc38a6a4b2f02b]\n",
       "class E7--><a href=\"psysml:2279d5a4-5f0e-43ce-88bf-f6ddb21c3f25\" target=\"_top\" title=\"psysml:2279d5a4-5f0e-43ce-88bf-f6ddb21c3f25\" xlink:actuate=\"onRequest\" xlink:href=\"psysml:2279d5a4-5f0e-43ce-88bf-f6ddb21c3f25\" xlink:show=\"new\" xlink:title=\"psysml:2279d5a4-5f0e-43ce-88bf-f6ddb21c3f25\" xlink:type=\"simple\"><rect fill=\"#FEFECE\" filter=\"url(#f560ytpyd3jne)\" height=\"45.9375\" id=\"E7\" rx=\"10\" ry=\"10\" style=\"stroke: #A80036; stroke-width: 1.5;\" width=\"42\" x=\"89\" y=\"147\"/><text fill=\"#000000\" font-family=\"sans-serif\" font-size=\"12\" font-style=\"italic\" lengthAdjust=\"spacingAndGlyphs\" textLength=\"40\" x=\"90\" y=\"163.1387\">«part»</text><text fill=\"#000000\" font-family=\"sans-serif\" font-size=\"12\" lengthAdjust=\"spacingAndGlyphs\" textLength=\"16\" x=\"102\" y=\"177.1074\">p1</text><line style=\"stroke: #A80036; stroke-width: 1.5;\" x1=\"90\" x2=\"130\" y1=\"184.9375\" y2=\"184.9375\"/></a><!--MD5=[209b3feb70ccb6233bfe1053d122c12c]\n",
       "reverse link E2 to E3--><a href=\"psysml:1ffc18c1-940f-43c3-a54c-dcf9b76281a6\" target=\"_top\" title=\"psysml:1ffc18c1-940f-43c3-a54c-dcf9b76281a6\" xlink:actuate=\"onRequest\" xlink:href=\"psysml:1ffc18c1-940f-43c3-a54c-dcf9b76281a6\" xlink:show=\"new\" xlink:title=\"psysml:1ffc18c1-940f-43c3-a54c-dcf9b76281a6\" xlink:type=\"simple\"><path d=\"M116.72,311.96 C119.71,327.51 123.14,345.33 125.76,358.98 \" fill=\"none\" id=\"E2&lt;-E3\" style=\"stroke: #A80036; stroke-width: 1.0;\"/><polygon fill=\"#A80036\" points=\"114.24,299.06,111.447,305.7082,116.5096,310.8434,119.3026,304.1952,114.24,299.06\" style=\"stroke: #A80036; stroke-width: 1.0;\"/><text fill=\"#000000\" font-family=\"sans-serif\" font-size=\"13\" lengthAdjust=\"spacingAndGlyphs\" textLength=\"8\" x=\"115.5455\" y=\"347.8709\">1</text></a><!--MD5=[4672eba38e49728da53d11aeb285b987]\n",
       "reverse link E3 to E4--><a href=\"psysml:3d75ef33-b13b-4214-af18-b5d2941be4f9\" target=\"_top\" title=\"psysml:3d75ef33-b13b-4214-af18-b5d2941be4f9\" xlink:actuate=\"onRequest\" xlink:href=\"psysml:3d75ef33-b13b-4214-af18-b5d2941be4f9\" xlink:show=\"new\" xlink:title=\"psysml:3d75ef33-b13b-4214-af18-b5d2941be4f9\" xlink:type=\"simple\"><path d=\"M130,418.44 C130,433.87 130,451.47 130,464.98 \" fill=\"none\" id=\"E3&lt;-E4\" style=\"stroke: #A80036; stroke-width: 1.0;\"/><polygon fill=\"#A80036\" points=\"130,405.06,126,411.06,130,417.06,134,411.06,130,405.06\" style=\"stroke: #A80036; stroke-width: 1.0;\"/><text fill=\"#000000\" font-family=\"sans-serif\" font-size=\"13\" lengthAdjust=\"spacingAndGlyphs\" textLength=\"8\" x=\"120.925\" y=\"453.8709\">1</text></a><!--MD5=[85d356282659285ab4b2cfe2f634dd2b]\n",
       "reverse link E5 to E6--><a href=\"psysml:d68af8b5-54d9-4416-b26b-1e36c98f2c99\" target=\"_top\" title=\"psysml:d68af8b5-54d9-4416-b26b-1e36c98f2c99\" xlink:actuate=\"onRequest\" xlink:href=\"psysml:d68af8b5-54d9-4416-b26b-1e36c98f2c99\" xlink:show=\"new\" xlink:title=\"psysml:d68af8b5-54d9-4416-b26b-1e36c98f2c99\" xlink:type=\"simple\"><path d=\"M79.77,100.15 C77.01,114.61 74.03,131.56 72,147 C61.78,224.59 56.2,317.42 54.05,358.98 \" fill=\"none\" id=\"E5&lt;-E6\" style=\"stroke: #A80036; stroke-width: 1.0;\"/><polygon fill=\"#A80036\" points=\"82.32,87.18,77.2408,92.2988,80.0123,98.956,85.0915,93.8372,82.32,87.18\" style=\"stroke: #A80036; stroke-width: 1.0;\"/><text fill=\"#000000\" font-family=\"sans-serif\" font-size=\"13\" lengthAdjust=\"spacingAndGlyphs\" textLength=\"8\" x=\"45.2572\" y=\"347.8709\">1</text></a><!--MD5=[e3e28c1befcf002155aa15e1416b4315]\n",
       "link E2 to E6--><a href=\"psysml:901b44a6-3b8d-4bea-9e51-ad40652cd7ff\" target=\"_top\" title=\"psysml:901b44a6-3b8d-4bea-9e51-ad40652cd7ff\" xlink:actuate=\"onRequest\" xlink:href=\"psysml:901b44a6-3b8d-4bea-9e51-ad40652cd7ff\" xlink:show=\"new\" xlink:title=\"psysml:901b44a6-3b8d-4bea-9e51-ad40652cd7ff\" xlink:type=\"simple\"><path d=\"M97.91,299.06 C88.24,316.7 74.74,341.34 65.07,358.98 \" fill=\"none\" id=\"E2-E6\" style=\"stroke: #A80036; stroke-width: 3.0;\"/><text fill=\"#000000\" font-family=\"sans-serif\" font-size=\"13\" lengthAdjust=\"spacingAndGlyphs\" textLength=\"7\" x=\"60.3732\" y=\"347.8709\">*</text></a><!--MD5=[452b418e7f8a40397a49b8c0a78acc5b]\n",
       "reverse link E5 to E7--><a href=\"psysml:5a5926b8-11d9-4284-b6a0-db32c9e29bb2\" target=\"_top\" title=\"psysml:5a5926b8-11d9-4284-b6a0-db32c9e29bb2\" xlink:actuate=\"onRequest\" xlink:href=\"psysml:5a5926b8-11d9-4284-b6a0-db32c9e29bb2\" xlink:show=\"new\" xlink:title=\"psysml:5a5926b8-11d9-4284-b6a0-db32c9e29bb2\" xlink:type=\"simple\"><path d=\"M94.73,99.96 C98.17,115.51 102.11,133.33 105.13,146.98 \" fill=\"none\" id=\"E5&lt;-E7\" style=\"stroke: #A80036; stroke-width: 1.0;\"/><polygon fill=\"#A80036\" points=\"91.88,87.06,89.2656,93.7805,94.4636,98.7786,97.078,92.0581,91.88,87.06\" style=\"stroke: #A80036; stroke-width: 1.0;\"/><text fill=\"#000000\" font-family=\"sans-serif\" font-size=\"13\" lengthAdjust=\"spacingAndGlyphs\" textLength=\"8\" x=\"94.7462\" y=\"135.8709\">1</text></a><!--MD5=[583832df87f4419a098336a29a52fa00]\n",
       "link E7 to E2--><a href=\"psysml:dd540a25-2742-496a-aaa6-3ea5cc8a4940\" target=\"_top\" title=\"psysml:dd540a25-2742-496a-aaa6-3ea5cc8a4940\" xlink:actuate=\"onRequest\" xlink:href=\"psysml:dd540a25-2742-496a-aaa6-3ea5cc8a4940\" xlink:show=\"new\" xlink:title=\"psysml:dd540a25-2742-496a-aaa6-3ea5cc8a4940\" xlink:type=\"simple\"><path d=\"M110,193.06 C110,204.64 110,219.23 110,232.87 \" fill=\"none\" id=\"E7-&gt;E2\" style=\"stroke: #A80036; stroke-width: 1.0;\"/><polygon fill=\"none\" points=\"117,232.98,110,252.98,103,232.98,117,232.98\" style=\"stroke: #A80036; stroke-width: 1.0;\"/></a><!--MD5=[6ed80980b441e9b473035277e662883b]\n",
       "@startuml\r\n",
       "skinparam wrapWidth 300\r\n",
       "hide circle\r\n",
       "\r\n",
       "package \"ConnectionTest\" as E1  [[psysml:58064a58-d13b-4f80-a6f6-0eceb966f2f7 ]]  {\r\n",
       "comp usage \"p\" as E2  <<(T,blue) part>> [[psysml:98bc980e-08bf-4c08-bf0e-335abb3c4ffd ]] {\r\n",
       "}\r\n",
       "comp usage \"x\" as E3  <<(T,blue) part>> [[psysml:c51e79ce-7cf1-4bdb-aba6-5cab2657d431 ]] {\r\n",
       "}\r\n",
       "comp usage \"x1\" as E4  <<(T,blue) part>> [[psysml:31f41755-661a-4a53-a2bb-f2dfc01c0edf ]] {\r\n",
       "}\r\n",
       "comp def \"P\" as E5  <<(T,blue) part def>> [[psysml:9833d686-e720-46bf-b438-35dbd29b7a16 ]] {\r\n",
       "}\r\n",
       "comp usage \"y\" as E6  <<(T,blue) part>> [[psysml:f96f9e94-0e28-4abd-b8cb-5d3679a708db ]] {\r\n",
       "}\r\n",
       "comp usage \"p1\" as E7  <<(T,blue) part>> [[psysml:2279d5a4-5f0e-43ce-88bf-f6ddb21c3f25 ]] {\r\n",
       "}\r\n",
       "}\r\n",
       "E2 *- - \"1\"E3 [[psysml:1ffc18c1-940f-43c3-a54c-dcf9b76281a6 ]] \r\n",
       "E3 *- - \"1\"E4 [[psysml:3d75ef33-b13b-4214-af18-b5d2941be4f9 ]] \r\n",
       "E5 *- - \"1\"E6 [[psysml:d68af8b5-54d9-4416-b26b-1e36c98f2c99 ]] \r\n",
       "E2 -[thickness=3]- \"*\"E6 [[psysml:901b44a6-3b8d-4bea-9e51-ad40652cd7ff ]] \r\n",
       "E5 *- - \"1\"E7 [[psysml:5a5926b8-11d9-4284-b6a0-db32c9e29bb2 ]] \r\n",
       "E7 - -|> E2 [[psysml:dd540a25-2742-496a-aaa6-3ea5cc8a4940 ]] \r\n",
       "@enduml\r\n",
       "\n",
       "PlantUML version 1.2020.13(Sat Jun 13 12:26:38 UTC 2020)\n",
       "(EPL source distribution)\n",
       "Java Runtime: OpenJDK Runtime Environment\n",
       "JVM: OpenJDK 64-Bit Server VM\n",
       "Default Encoding: UTF-8\n",
       "Language: en\n",
       "Country: null\n",
       "--></g></svg>"
      ]
     },
     "execution_count": 29,
     "metadata": {},
     "output_type": "execute_result"
    }
   ],
   "source": [
    "%viz --style=\"STDCOLOR\" --view=\"MIXED\" \"ConnectionTest\""
   ]
  },
  {
   "cell_type": "code",
   "execution_count": 30,
   "id": "066aea89",
   "metadata": {
    "execution": {
     "iopub.execute_input": "2021-09-27T07:17:33.466059Z",
     "iopub.status.busy": "2021-09-27T07:17:33.465641Z",
     "iopub.status.idle": "2021-09-27T07:17:33.527347Z",
     "shell.execute_reply": "2021-09-27T07:17:33.526991Z"
    }
   },
   "outputs": [
    {
     "data": {
      "image/svg+xml": [
       "<?xml version=\"1.0\" encoding=\"UTF-8\" standalone=\"no\"?><svg xmlns=\"http://www.w3.org/2000/svg\" xmlns:xlink=\"http://www.w3.org/1999/xlink\" contentScriptType=\"application/ecmascript\" contentStyleType=\"text/css\" height=\"533px\" preserveAspectRatio=\"none\" style=\"width:241px;height:533px;\" version=\"1.1\" viewBox=\"0 0 241 533\" width=\"241px\" zoomAndPan=\"magnify\"><defs><filter height=\"300%\" id=\"f1sgh9gs9e3p3m\" width=\"300%\" x=\"-1\" y=\"-1\"><feGaussianBlur result=\"blurOut\" stdDeviation=\"2.0\"/><feColorMatrix in=\"blurOut\" result=\"blurOut2\" type=\"matrix\" values=\"0 0 0 0 0 0 0 0 0 0 0 0 0 0 0 0 0 0 .4 0\"/><feOffset dx=\"4.0\" dy=\"4.0\" in=\"blurOut2\" result=\"blurOut3\"/><feBlend in=\"SourceGraphic\" in2=\"blurOut3\" mode=\"normal\"/></filter></defs><g><!--MD5=[fbc87193dbaf4d95561dea2c320d4a47]\n",
       "cluster E1--><a href=\"psysml:58064a58-d13b-4f80-a6f6-0eceb966f2f7\" target=\"_top\" title=\"psysml:58064a58-d13b-4f80-a6f6-0eceb966f2f7\" xlink:actuate=\"onRequest\" xlink:href=\"psysml:58064a58-d13b-4f80-a6f6-0eceb966f2f7\" xlink:show=\"new\" xlink:title=\"psysml:58064a58-d13b-4f80-a6f6-0eceb966f2f7\" xlink:type=\"simple\"><polygon fill=\"#FFFFFF\" filter=\"url(#f1sgh9gs9e3p3m)\" points=\"16,6,133,6,140,28.2969,219,28.2969,219,521,16,521,16,6\" style=\"stroke: #000000; stroke-width: 1.5;\"/><line style=\"stroke: #000000; stroke-width: 1.5;\" x1=\"16\" x2=\"140\" y1=\"28.2969\" y2=\"28.2969\"/><text fill=\"#000000\" font-family=\"sans-serif\" font-size=\"14\" font-weight=\"bold\" lengthAdjust=\"spacingAndGlyphs\" textLength=\"111\" x=\"20\" y=\"20.9951\">ConnectionTest</text></a><!--MD5=[b4997ac47864f28c2f74865a473b2911]\n",
       "class E2--><a href=\"psysml:98bc980e-08bf-4c08-bf0e-335abb3c4ffd\" target=\"_top\" title=\"psysml:98bc980e-08bf-4c08-bf0e-335abb3c4ffd\" xlink:actuate=\"onRequest\" xlink:href=\"psysml:98bc980e-08bf-4c08-bf0e-335abb3c4ffd\" xlink:show=\"new\" xlink:title=\"psysml:98bc980e-08bf-4c08-bf0e-335abb3c4ffd\" xlink:type=\"simple\"><rect fill=\"#FEFECE\" filter=\"url(#f1sgh9gs9e3p3m)\" height=\"45.9375\" id=\"E2\" rx=\"10\" ry=\"10\" style=\"stroke: #A80036; stroke-width: 1.5;\" width=\"68\" x=\"102\" y=\"247\"/><ellipse cx=\"117\" cy=\"265.9688\" fill=\"#32CD32\" rx=\"11\" ry=\"11\" style=\"stroke: #A80036; stroke-width: 1.0;\"/><path d=\"M113.8125,270.9688 L113.8125,260.375 L117.4219,260.375 Q118.6406,260.375 119.4375,260.8125 Q120.2344,261.2344 120.6094,261.9375 Q121,262.6406 121,263.4844 Q121,264.3281 120.625,265.0156 Q120.2656,265.7031 119.4688,266.125 Q118.6875,266.5313 117.5,266.5313 L115.7656,266.5313 L115.7656,270.9688 L113.8125,270.9688 Z M115.7656,264.9375 L117.375,264.9375 Q118.1875,264.9375 118.6094,264.5313 Q119.0313,264.125 119.0313,263.4844 Q119.0313,262.8594 118.6094,262.4531 Q118.1875,262.0469 117.3906,262.0469 L115.7656,262.0469 L115.7656,264.9375 Z \"/><text fill=\"#000000\" font-family=\"sans-serif\" font-size=\"12\" font-style=\"italic\" lengthAdjust=\"spacingAndGlyphs\" textLength=\"40\" x=\"129\" y=\"263.1387\">«part»</text><text fill=\"#000000\" font-family=\"sans-serif\" font-size=\"12\" lengthAdjust=\"spacingAndGlyphs\" textLength=\"8\" x=\"145\" y=\"277.1074\">p</text><line style=\"stroke: #A80036; stroke-width: 1.5;\" x1=\"103\" x2=\"169\" y1=\"284.9375\" y2=\"284.9375\"/></a><!--MD5=[09b614a08d8cba4a07c9adeb5e0fee81]\n",
       "class E3--><a href=\"psysml:c51e79ce-7cf1-4bdb-aba6-5cab2657d431\" target=\"_top\" title=\"psysml:c51e79ce-7cf1-4bdb-aba6-5cab2657d431\" xlink:actuate=\"onRequest\" xlink:href=\"psysml:c51e79ce-7cf1-4bdb-aba6-5cab2657d431\" xlink:show=\"new\" xlink:title=\"psysml:c51e79ce-7cf1-4bdb-aba6-5cab2657d431\" xlink:type=\"simple\"><rect fill=\"#FEFECE\" filter=\"url(#f1sgh9gs9e3p3m)\" height=\"45.9375\" id=\"E3\" rx=\"10\" ry=\"10\" style=\"stroke: #A80036; stroke-width: 1.5;\" width=\"68\" x=\"135\" y=\"353\"/><ellipse cx=\"150\" cy=\"371.9688\" fill=\"#32CD32\" rx=\"11\" ry=\"11\" style=\"stroke: #A80036; stroke-width: 1.0;\"/><path d=\"M146.8125,376.9688 L146.8125,366.375 L150.4219,366.375 Q151.6406,366.375 152.4375,366.8125 Q153.2344,367.2344 153.6094,367.9375 Q154,368.6406 154,369.4844 Q154,370.3281 153.625,371.0156 Q153.2656,371.7031 152.4688,372.125 Q151.6875,372.5313 150.5,372.5313 L148.7656,372.5313 L148.7656,376.9688 L146.8125,376.9688 Z M148.7656,370.9375 L150.375,370.9375 Q151.1875,370.9375 151.6094,370.5313 Q152.0313,370.125 152.0313,369.4844 Q152.0313,368.8594 151.6094,368.4531 Q151.1875,368.0469 150.3906,368.0469 L148.7656,368.0469 L148.7656,370.9375 Z \"/><text fill=\"#000000\" font-family=\"sans-serif\" font-size=\"12\" font-style=\"italic\" lengthAdjust=\"spacingAndGlyphs\" textLength=\"40\" x=\"162\" y=\"369.1387\">«part»</text><text fill=\"#000000\" font-family=\"sans-serif\" font-size=\"12\" lengthAdjust=\"spacingAndGlyphs\" textLength=\"6\" x=\"179\" y=\"383.1074\">x</text><line style=\"stroke: #A80036; stroke-width: 1.5;\" x1=\"136\" x2=\"202\" y1=\"390.9375\" y2=\"390.9375\"/></a><!--MD5=[ebbe1d658d1005bcc118a6aa81145e00]\n",
       "class E4--><a href=\"psysml:31f41755-661a-4a53-a2bb-f2dfc01c0edf\" target=\"_top\" title=\"psysml:31f41755-661a-4a53-a2bb-f2dfc01c0edf\" xlink:actuate=\"onRequest\" xlink:href=\"psysml:31f41755-661a-4a53-a2bb-f2dfc01c0edf\" xlink:show=\"new\" xlink:title=\"psysml:31f41755-661a-4a53-a2bb-f2dfc01c0edf\" xlink:type=\"simple\"><rect fill=\"#FEFECE\" filter=\"url(#f1sgh9gs9e3p3m)\" height=\"45.9375\" id=\"E4\" rx=\"10\" ry=\"10\" style=\"stroke: #A80036; stroke-width: 1.5;\" width=\"68\" x=\"135\" y=\"459\"/><ellipse cx=\"150\" cy=\"477.9688\" fill=\"#32CD32\" rx=\"11\" ry=\"11\" style=\"stroke: #A80036; stroke-width: 1.0;\"/><path d=\"M146.8125,482.9688 L146.8125,472.375 L150.4219,472.375 Q151.6406,472.375 152.4375,472.8125 Q153.2344,473.2344 153.6094,473.9375 Q154,474.6406 154,475.4844 Q154,476.3281 153.625,477.0156 Q153.2656,477.7031 152.4688,478.125 Q151.6875,478.5313 150.5,478.5313 L148.7656,478.5313 L148.7656,482.9688 L146.8125,482.9688 Z M148.7656,476.9375 L150.375,476.9375 Q151.1875,476.9375 151.6094,476.5313 Q152.0313,476.125 152.0313,475.4844 Q152.0313,474.8594 151.6094,474.4531 Q151.1875,474.0469 150.3906,474.0469 L148.7656,474.0469 L148.7656,476.9375 Z \"/><text fill=\"#000000\" font-family=\"sans-serif\" font-size=\"12\" font-style=\"italic\" lengthAdjust=\"spacingAndGlyphs\" textLength=\"40\" x=\"162\" y=\"475.1387\">«part»</text><text fill=\"#000000\" font-family=\"sans-serif\" font-size=\"12\" lengthAdjust=\"spacingAndGlyphs\" textLength=\"14\" x=\"175\" y=\"489.1074\">x1</text><line style=\"stroke: #A80036; stroke-width: 1.5;\" x1=\"136\" x2=\"202\" y1=\"496.9375\" y2=\"496.9375\"/></a><!--MD5=[270fce915f116d4de14055a7c1d9a0f3]\n",
       "class E5--><a href=\"psysml:9833d686-e720-46bf-b438-35dbd29b7a16\" target=\"_top\" title=\"psysml:9833d686-e720-46bf-b438-35dbd29b7a16\" xlink:actuate=\"onRequest\" xlink:href=\"psysml:9833d686-e720-46bf-b438-35dbd29b7a16\" xlink:show=\"new\" xlink:title=\"psysml:9833d686-e720-46bf-b438-35dbd29b7a16\" xlink:type=\"simple\"><rect fill=\"#FEFECE\" filter=\"url(#f1sgh9gs9e3p3m)\" height=\"40\" id=\"E5\" style=\"stroke: #A80036; stroke-width: 1.5;\" width=\"40\" x=\"81\" y=\"41\"/><ellipse cx=\"96\" cy=\"57\" fill=\"#008000\" rx=\"11\" ry=\"11\" style=\"stroke: #A80036; stroke-width: 1.0;\"/><path d=\"M92.875,62 L92.875,51.4063 L96.1094,51.4063 Q98.0156,51.4063 98.9219,52.1563 Q99.8438,52.9063 99.8438,54.0781 Q99.8438,54.7656 99.4531,55.4219 Q99.0781,56.0781 98.3594,56.375 Q99.2188,56.75 99.7344,57.4375 Q100.25,58.125 100.25,58.9375 Q100.25,60.3125 99.2188,61.1563 Q98.2031,62 96.0938,62 L92.875,62 Z M94.7969,55.6406 L95.9531,55.6406 Q97.0781,55.6406 97.4844,55.2656 Q97.9063,54.875 97.9063,54.25 Q97.9063,53.6719 97.4844,53.3125 Q97.0625,52.9531 96.125,52.9531 L94.7969,52.9531 L94.7969,55.6406 Z M94.7969,60.4219 L96.2969,60.4219 Q97.2031,60.4219 97.7344,60.0313 Q98.2656,59.6406 98.2656,58.8906 Q98.2656,58.125 97.7656,57.6563 Q97.2656,57.1719 96,57.1719 L94.7969,57.1719 L94.7969,60.4219 Z \"/><text fill=\"#000000\" font-family=\"sans-serif\" font-size=\"12\" lengthAdjust=\"spacingAndGlyphs\" textLength=\"8\" x=\"110\" y=\"61.1543\">P</text><line style=\"stroke: #A80036; stroke-width: 1.5;\" x1=\"82\" x2=\"120\" y1=\"73\" y2=\"73\"/></a><!--MD5=[60a26617385b1d2d0262a64233df1f8d]\n",
       "class E6--><a href=\"psysml:f96f9e94-0e28-4abd-b8cb-5d3679a708db\" target=\"_top\" title=\"psysml:f96f9e94-0e28-4abd-b8cb-5d3679a708db\" xlink:actuate=\"onRequest\" xlink:href=\"psysml:f96f9e94-0e28-4abd-b8cb-5d3679a708db\" xlink:show=\"new\" xlink:title=\"psysml:f96f9e94-0e28-4abd-b8cb-5d3679a708db\" xlink:type=\"simple\"><rect fill=\"#FEFECE\" filter=\"url(#f1sgh9gs9e3p3m)\" height=\"45.9375\" id=\"E6\" rx=\"10\" ry=\"10\" style=\"stroke: #A80036; stroke-width: 1.5;\" width=\"68\" x=\"32\" y=\"353\"/><ellipse cx=\"47\" cy=\"371.9688\" fill=\"#32CD32\" rx=\"11\" ry=\"11\" style=\"stroke: #A80036; stroke-width: 1.0;\"/><path d=\"M43.8125,376.9688 L43.8125,366.375 L47.4219,366.375 Q48.6406,366.375 49.4375,366.8125 Q50.2344,367.2344 50.6094,367.9375 Q51,368.6406 51,369.4844 Q51,370.3281 50.625,371.0156 Q50.2656,371.7031 49.4688,372.125 Q48.6875,372.5313 47.5,372.5313 L45.7656,372.5313 L45.7656,376.9688 L43.8125,376.9688 Z M45.7656,370.9375 L47.375,370.9375 Q48.1875,370.9375 48.6094,370.5313 Q49.0313,370.125 49.0313,369.4844 Q49.0313,368.8594 48.6094,368.4531 Q48.1875,368.0469 47.3906,368.0469 L45.7656,368.0469 L45.7656,370.9375 Z \"/><text fill=\"#000000\" font-family=\"sans-serif\" font-size=\"12\" font-style=\"italic\" lengthAdjust=\"spacingAndGlyphs\" textLength=\"40\" x=\"59\" y=\"369.1387\">«part»</text><text fill=\"#000000\" font-family=\"sans-serif\" font-size=\"12\" lengthAdjust=\"spacingAndGlyphs\" textLength=\"6\" x=\"76\" y=\"383.1074\">y</text><line style=\"stroke: #A80036; stroke-width: 1.5;\" x1=\"33\" x2=\"99\" y1=\"390.9375\" y2=\"390.9375\"/></a><!--MD5=[2156ba9850f5573cc1fc38a6a4b2f02b]\n",
       "class E7--><a href=\"psysml:2279d5a4-5f0e-43ce-88bf-f6ddb21c3f25\" target=\"_top\" title=\"psysml:2279d5a4-5f0e-43ce-88bf-f6ddb21c3f25\" xlink:actuate=\"onRequest\" xlink:href=\"psysml:2279d5a4-5f0e-43ce-88bf-f6ddb21c3f25\" xlink:show=\"new\" xlink:title=\"psysml:2279d5a4-5f0e-43ce-88bf-f6ddb21c3f25\" xlink:type=\"simple\"><rect fill=\"#FEFECE\" filter=\"url(#f1sgh9gs9e3p3m)\" height=\"45.9375\" id=\"E7\" rx=\"10\" ry=\"10\" style=\"stroke: #A80036; stroke-width: 1.5;\" width=\"68\" x=\"102\" y=\"141\"/><ellipse cx=\"117\" cy=\"159.9688\" fill=\"#32CD32\" rx=\"11\" ry=\"11\" style=\"stroke: #A80036; stroke-width: 1.0;\"/><path d=\"M113.8125,164.9688 L113.8125,154.375 L117.4219,154.375 Q118.6406,154.375 119.4375,154.8125 Q120.2344,155.2344 120.6094,155.9375 Q121,156.6406 121,157.4844 Q121,158.3281 120.625,159.0156 Q120.2656,159.7031 119.4688,160.125 Q118.6875,160.5313 117.5,160.5313 L115.7656,160.5313 L115.7656,164.9688 L113.8125,164.9688 Z M115.7656,158.9375 L117.375,158.9375 Q118.1875,158.9375 118.6094,158.5313 Q119.0313,158.125 119.0313,157.4844 Q119.0313,156.8594 118.6094,156.4531 Q118.1875,156.0469 117.3906,156.0469 L115.7656,156.0469 L115.7656,158.9375 Z \"/><text fill=\"#000000\" font-family=\"sans-serif\" font-size=\"12\" font-style=\"italic\" lengthAdjust=\"spacingAndGlyphs\" textLength=\"40\" x=\"129\" y=\"157.1387\">«part»</text><text fill=\"#000000\" font-family=\"sans-serif\" font-size=\"12\" lengthAdjust=\"spacingAndGlyphs\" textLength=\"16\" x=\"141\" y=\"171.1074\">p1</text><line style=\"stroke: #A80036; stroke-width: 1.5;\" x1=\"103\" x2=\"169\" y1=\"178.9375\" y2=\"178.9375\"/></a><!--MD5=[209b3feb70ccb6233bfe1053d122c12c]\n",
       "reverse link E2 to E3--><a href=\"psysml:1ffc18c1-940f-43c3-a54c-dcf9b76281a6\" target=\"_top\" title=\"psysml:1ffc18c1-940f-43c3-a54c-dcf9b76281a6\" xlink:actuate=\"onRequest\" xlink:href=\"psysml:1ffc18c1-940f-43c3-a54c-dcf9b76281a6\" xlink:show=\"new\" xlink:title=\"psysml:1ffc18c1-940f-43c3-a54c-dcf9b76281a6\" xlink:type=\"simple\"><path d=\"M146.95,305.49 C151.91,321.15 157.64,339.19 162.01,352.98 \" fill=\"none\" id=\"E2&lt;-E3\" style=\"stroke: #A80036; stroke-width: 1.0;\"/><polygon fill=\"#A80036\" points=\"143,293.06,140.9989,299.9879,146.6243,304.4996,148.6253,297.5717,143,293.06\" style=\"stroke: #A80036; stroke-width: 1.0;\"/><text fill=\"#000000\" font-family=\"sans-serif\" font-size=\"13\" lengthAdjust=\"spacingAndGlyphs\" textLength=\"8\" x=\"151.0564\" y=\"341.8709\">1</text></a><!--MD5=[4672eba38e49728da53d11aeb285b987]\n",
       "reverse link E3 to E4--><a href=\"psysml:3d75ef33-b13b-4214-af18-b5d2941be4f9\" target=\"_top\" title=\"psysml:3d75ef33-b13b-4214-af18-b5d2941be4f9\" xlink:actuate=\"onRequest\" xlink:href=\"psysml:3d75ef33-b13b-4214-af18-b5d2941be4f9\" xlink:show=\"new\" xlink:title=\"psysml:3d75ef33-b13b-4214-af18-b5d2941be4f9\" xlink:type=\"simple\"><path d=\"M169,412.44 C169,427.87 169,445.47 169,458.98 \" fill=\"none\" id=\"E3&lt;-E4\" style=\"stroke: #A80036; stroke-width: 1.0;\"/><polygon fill=\"#A80036\" points=\"169,399.06,165,405.06,169,411.06,173,405.06,169,399.06\" style=\"stroke: #A80036; stroke-width: 1.0;\"/><text fill=\"#000000\" font-family=\"sans-serif\" font-size=\"13\" lengthAdjust=\"spacingAndGlyphs\" textLength=\"8\" x=\"159.925\" y=\"447.8709\">1</text></a><!--MD5=[85d356282659285ab4b2cfe2f634dd2b]\n",
       "reverse link E5 to E6--><a href=\"psysml:d68af8b5-54d9-4416-b26b-1e36c98f2c99\" target=\"_top\" title=\"psysml:d68af8b5-54d9-4416-b26b-1e36c98f2c99\" xlink:actuate=\"onRequest\" xlink:href=\"psysml:d68af8b5-54d9-4416-b26b-1e36c98f2c99\" xlink:show=\"new\" xlink:title=\"psysml:d68af8b5-54d9-4416-b26b-1e36c98f2c99\" xlink:type=\"simple\"><path d=\"M93.66,93.79 C90.58,108.14 87.21,125.35 85,141 C74.05,218.49 68.84,311.37 66.92,352.97 \" fill=\"none\" id=\"E5&lt;-E6\" style=\"stroke: #A80036; stroke-width: 1.0;\"/><polygon fill=\"#A80036\" points=\"96.48,81.05,91.282,86.0481,93.8964,92.7686,99.0944,87.7705,96.48,81.05\" style=\"stroke: #A80036; stroke-width: 1.0;\"/><text fill=\"#000000\" font-family=\"sans-serif\" font-size=\"13\" lengthAdjust=\"spacingAndGlyphs\" textLength=\"8\" x=\"58.0923\" y=\"341.8582\">1</text></a><!--MD5=[e3e28c1befcf002155aa15e1416b4315]\n",
       "link E2 to E6--><a href=\"psysml:901b44a6-3b8d-4bea-9e51-ad40652cd7ff\" target=\"_top\" title=\"psysml:901b44a6-3b8d-4bea-9e51-ad40652cd7ff\" xlink:actuate=\"onRequest\" xlink:href=\"psysml:901b44a6-3b8d-4bea-9e51-ad40652cd7ff\" xlink:show=\"new\" xlink:title=\"psysml:901b44a6-3b8d-4bea-9e51-ad40652cd7ff\" xlink:type=\"simple\"><path d=\"M121.15,293.06 C109.28,310.7 92.7,335.34 80.82,352.98 \" fill=\"none\" id=\"E2-E6\" style=\"stroke: #A80036; stroke-width: 3.0;\"/><text fill=\"#000000\" font-family=\"sans-serif\" font-size=\"13\" lengthAdjust=\"spacingAndGlyphs\" textLength=\"7\" x=\"76.8622\" y=\"341.8709\">*</text></a><!--MD5=[452b418e7f8a40397a49b8c0a78acc5b]\n",
       "reverse link E5 to E7--><a href=\"psysml:5a5926b8-11d9-4284-b6a0-db32c9e29bb2\" target=\"_top\" title=\"psysml:5a5926b8-11d9-4284-b6a0-db32c9e29bb2\" xlink:actuate=\"onRequest\" xlink:href=\"psysml:5a5926b8-11d9-4284-b6a0-db32c9e29bb2\" xlink:show=\"new\" xlink:title=\"psysml:5a5926b8-11d9-4284-b6a0-db32c9e29bb2\" xlink:type=\"simple\"><path d=\"M112.09,94.01 C117.37,109.23 123.54,127.06 128.3,140.77 \" fill=\"none\" id=\"E5&lt;-E7\" style=\"stroke: #A80036; stroke-width: 1.0;\"/><polygon fill=\"#A80036\" points=\"107.75,81.47,105.9375,88.4496,111.683,92.8072,113.4956,85.8276,107.75,81.47\" style=\"stroke: #A80036; stroke-width: 1.0;\"/><text fill=\"#000000\" font-family=\"sans-serif\" font-size=\"13\" lengthAdjust=\"spacingAndGlyphs\" textLength=\"8\" x=\"117.3019\" y=\"129.9874\">1</text></a><!--MD5=[583832df87f4419a098336a29a52fa00]\n",
       "link E7 to E2--><a href=\"psysml:dd540a25-2742-496a-aaa6-3ea5cc8a4940\" target=\"_top\" title=\"psysml:dd540a25-2742-496a-aaa6-3ea5cc8a4940\" xlink:actuate=\"onRequest\" xlink:href=\"psysml:dd540a25-2742-496a-aaa6-3ea5cc8a4940\" xlink:show=\"new\" xlink:title=\"psysml:dd540a25-2742-496a-aaa6-3ea5cc8a4940\" xlink:type=\"simple\"><path d=\"M136,187.06 C136,198.64 136,213.23 136,226.87 \" fill=\"none\" id=\"E7-&gt;E2\" style=\"stroke: #A80036; stroke-width: 1.0;\"/><polygon fill=\"none\" points=\"143,226.98,136,246.98,129,226.98,143,226.98\" style=\"stroke: #A80036; stroke-width: 1.0;\"/></a><!--MD5=[7689e3e371a0426d05869378f9c835a4]\n",
       "@startuml\r\n",
       " \r\n",
       "package \"ConnectionTest\" as E1  [[psysml:58064a58-d13b-4f80-a6f6-0eceb966f2f7 ]]  {\r\n",
       "comp usage \"p\" as E2 << << (P,limegreen) part>> [[psysml:98bc980e-08bf-4c08-bf0e-335abb3c4ffd ]] {\r\n",
       "}\r\n",
       "comp usage \"x\" as E3 << << (P,limegreen) part>> [[psysml:c51e79ce-7cf1-4bdb-aba6-5cab2657d431 ]] {\r\n",
       "}\r\n",
       "comp usage \"x1\" as E4 << << (P,limegreen) part>> [[psysml:31f41755-661a-4a53-a2bb-f2dfc01c0edf ]] {\r\n",
       "}\r\n",
       "comp def \"P\" as E5 << << (B,green) >> [[psysml:9833d686-e720-46bf-b438-35dbd29b7a16 ]] {\r\n",
       "}\r\n",
       "comp usage \"y\" as E6 << << (P,limegreen) part>> [[psysml:f96f9e94-0e28-4abd-b8cb-5d3679a708db ]] {\r\n",
       "}\r\n",
       "comp usage \"p1\" as E7 << << (P,limegreen) part>> [[psysml:2279d5a4-5f0e-43ce-88bf-f6ddb21c3f25 ]] {\r\n",
       "}\r\n",
       "}\r\n",
       "E2 *- - \"1\"E3 [[psysml:1ffc18c1-940f-43c3-a54c-dcf9b76281a6 ]] \r\n",
       "E3 *- - \"1\"E4 [[psysml:3d75ef33-b13b-4214-af18-b5d2941be4f9 ]] \r\n",
       "E5 *- - \"1\"E6 [[psysml:d68af8b5-54d9-4416-b26b-1e36c98f2c99 ]] \r\n",
       "E2 -[thickness=3]- \"*\"E6 [[psysml:901b44a6-3b8d-4bea-9e51-ad40652cd7ff ]] \r\n",
       "E5 *- - \"1\"E7 [[psysml:5a5926b8-11d9-4284-b6a0-db32c9e29bb2 ]] \r\n",
       "E7 - -|> E2 [[psysml:dd540a25-2742-496a-aaa6-3ea5cc8a4940 ]] \r\n",
       "@enduml\r\n",
       "\n",
       "PlantUML version 1.2020.13(Sat Jun 13 12:26:38 UTC 2020)\n",
       "(EPL source distribution)\n",
       "Java Runtime: OpenJDK Runtime Environment\n",
       "JVM: OpenJDK 64-Bit Server VM\n",
       "Default Encoding: UTF-8\n",
       "Language: en\n",
       "Country: null\n",
       "--></g></svg>"
      ]
     },
     "execution_count": 30,
     "metadata": {},
     "output_type": "execute_result"
    }
   ],
   "source": [
    "%viz --style=\"PLANTUML\" --view=\"Default\" \"ConnectionTest\""
   ]
  },
  {
   "cell_type": "code",
   "execution_count": 31,
   "id": "957ea7cc",
   "metadata": {
    "execution": {
     "iopub.execute_input": "2021-09-27T07:17:33.577065Z",
     "iopub.status.busy": "2021-09-27T07:17:33.576679Z",
     "iopub.status.idle": "2021-09-27T07:17:33.614564Z",
     "shell.execute_reply": "2021-09-27T07:17:33.614213Z"
    }
   },
   "outputs": [
    {
     "data": {
      "image/svg+xml": [
       "<?xml version=\"1.0\" encoding=\"UTF-8\" standalone=\"no\"?><svg xmlns=\"http://www.w3.org/2000/svg\" xmlns:xlink=\"http://www.w3.org/1999/xlink\" contentScriptType=\"application/ecmascript\" contentStyleType=\"text/css\" height=\"533px\" preserveAspectRatio=\"none\" style=\"width:241px;height:533px;\" version=\"1.1\" viewBox=\"0 0 241 533\" width=\"241px\" zoomAndPan=\"magnify\"><defs><filter height=\"300%\" id=\"f1sgh9gs9e3p3m\" width=\"300%\" x=\"-1\" y=\"-1\"><feGaussianBlur result=\"blurOut\" stdDeviation=\"2.0\"/><feColorMatrix in=\"blurOut\" result=\"blurOut2\" type=\"matrix\" values=\"0 0 0 0 0 0 0 0 0 0 0 0 0 0 0 0 0 0 .4 0\"/><feOffset dx=\"4.0\" dy=\"4.0\" in=\"blurOut2\" result=\"blurOut3\"/><feBlend in=\"SourceGraphic\" in2=\"blurOut3\" mode=\"normal\"/></filter></defs><g><!--MD5=[fbc87193dbaf4d95561dea2c320d4a47]\n",
       "cluster E1--><a href=\"psysml:58064a58-d13b-4f80-a6f6-0eceb966f2f7\" target=\"_top\" title=\"psysml:58064a58-d13b-4f80-a6f6-0eceb966f2f7\" xlink:actuate=\"onRequest\" xlink:href=\"psysml:58064a58-d13b-4f80-a6f6-0eceb966f2f7\" xlink:show=\"new\" xlink:title=\"psysml:58064a58-d13b-4f80-a6f6-0eceb966f2f7\" xlink:type=\"simple\"><polygon fill=\"#FFFFFF\" filter=\"url(#f1sgh9gs9e3p3m)\" points=\"16,6,133,6,140,28.2969,219,28.2969,219,521,16,521,16,6\" style=\"stroke: #000000; stroke-width: 1.5;\"/><line style=\"stroke: #000000; stroke-width: 1.5;\" x1=\"16\" x2=\"140\" y1=\"28.2969\" y2=\"28.2969\"/><text fill=\"#000000\" font-family=\"sans-serif\" font-size=\"14\" font-weight=\"bold\" lengthAdjust=\"spacingAndGlyphs\" textLength=\"111\" x=\"20\" y=\"20.9951\">ConnectionTest</text></a><!--MD5=[b4997ac47864f28c2f74865a473b2911]\n",
       "class E2--><a href=\"psysml:98bc980e-08bf-4c08-bf0e-335abb3c4ffd\" target=\"_top\" title=\"psysml:98bc980e-08bf-4c08-bf0e-335abb3c4ffd\" xlink:actuate=\"onRequest\" xlink:href=\"psysml:98bc980e-08bf-4c08-bf0e-335abb3c4ffd\" xlink:show=\"new\" xlink:title=\"psysml:98bc980e-08bf-4c08-bf0e-335abb3c4ffd\" xlink:type=\"simple\"><rect fill=\"#FEFECE\" filter=\"url(#f1sgh9gs9e3p3m)\" height=\"45.9375\" id=\"E2\" rx=\"10\" ry=\"10\" style=\"stroke: #A80036; stroke-width: 1.5;\" width=\"68\" x=\"102\" y=\"247\"/><ellipse cx=\"117\" cy=\"265.9688\" fill=\"#32CD32\" rx=\"11\" ry=\"11\" style=\"stroke: #A80036; stroke-width: 1.0;\"/><path d=\"M113.8125,270.9688 L113.8125,260.375 L117.4219,260.375 Q118.6406,260.375 119.4375,260.8125 Q120.2344,261.2344 120.6094,261.9375 Q121,262.6406 121,263.4844 Q121,264.3281 120.625,265.0156 Q120.2656,265.7031 119.4688,266.125 Q118.6875,266.5313 117.5,266.5313 L115.7656,266.5313 L115.7656,270.9688 L113.8125,270.9688 Z M115.7656,264.9375 L117.375,264.9375 Q118.1875,264.9375 118.6094,264.5313 Q119.0313,264.125 119.0313,263.4844 Q119.0313,262.8594 118.6094,262.4531 Q118.1875,262.0469 117.3906,262.0469 L115.7656,262.0469 L115.7656,264.9375 Z \"/><text fill=\"#000000\" font-family=\"sans-serif\" font-size=\"12\" font-style=\"italic\" lengthAdjust=\"spacingAndGlyphs\" textLength=\"40\" x=\"129\" y=\"263.1387\">«part»</text><text fill=\"#000000\" font-family=\"sans-serif\" font-size=\"12\" lengthAdjust=\"spacingAndGlyphs\" textLength=\"8\" x=\"145\" y=\"277.1074\">p</text><line style=\"stroke: #A80036; stroke-width: 1.5;\" x1=\"103\" x2=\"169\" y1=\"284.9375\" y2=\"284.9375\"/></a><!--MD5=[09b614a08d8cba4a07c9adeb5e0fee81]\n",
       "class E3--><a href=\"psysml:c51e79ce-7cf1-4bdb-aba6-5cab2657d431\" target=\"_top\" title=\"psysml:c51e79ce-7cf1-4bdb-aba6-5cab2657d431\" xlink:actuate=\"onRequest\" xlink:href=\"psysml:c51e79ce-7cf1-4bdb-aba6-5cab2657d431\" xlink:show=\"new\" xlink:title=\"psysml:c51e79ce-7cf1-4bdb-aba6-5cab2657d431\" xlink:type=\"simple\"><rect fill=\"#FEFECE\" filter=\"url(#f1sgh9gs9e3p3m)\" height=\"45.9375\" id=\"E3\" rx=\"10\" ry=\"10\" style=\"stroke: #A80036; stroke-width: 1.5;\" width=\"68\" x=\"135\" y=\"353\"/><ellipse cx=\"150\" cy=\"371.9688\" fill=\"#32CD32\" rx=\"11\" ry=\"11\" style=\"stroke: #A80036; stroke-width: 1.0;\"/><path d=\"M146.8125,376.9688 L146.8125,366.375 L150.4219,366.375 Q151.6406,366.375 152.4375,366.8125 Q153.2344,367.2344 153.6094,367.9375 Q154,368.6406 154,369.4844 Q154,370.3281 153.625,371.0156 Q153.2656,371.7031 152.4688,372.125 Q151.6875,372.5313 150.5,372.5313 L148.7656,372.5313 L148.7656,376.9688 L146.8125,376.9688 Z M148.7656,370.9375 L150.375,370.9375 Q151.1875,370.9375 151.6094,370.5313 Q152.0313,370.125 152.0313,369.4844 Q152.0313,368.8594 151.6094,368.4531 Q151.1875,368.0469 150.3906,368.0469 L148.7656,368.0469 L148.7656,370.9375 Z \"/><text fill=\"#000000\" font-family=\"sans-serif\" font-size=\"12\" font-style=\"italic\" lengthAdjust=\"spacingAndGlyphs\" textLength=\"40\" x=\"162\" y=\"369.1387\">«part»</text><text fill=\"#000000\" font-family=\"sans-serif\" font-size=\"12\" lengthAdjust=\"spacingAndGlyphs\" textLength=\"6\" x=\"179\" y=\"383.1074\">x</text><line style=\"stroke: #A80036; stroke-width: 1.5;\" x1=\"136\" x2=\"202\" y1=\"390.9375\" y2=\"390.9375\"/></a><!--MD5=[ebbe1d658d1005bcc118a6aa81145e00]\n",
       "class E4--><a href=\"psysml:31f41755-661a-4a53-a2bb-f2dfc01c0edf\" target=\"_top\" title=\"psysml:31f41755-661a-4a53-a2bb-f2dfc01c0edf\" xlink:actuate=\"onRequest\" xlink:href=\"psysml:31f41755-661a-4a53-a2bb-f2dfc01c0edf\" xlink:show=\"new\" xlink:title=\"psysml:31f41755-661a-4a53-a2bb-f2dfc01c0edf\" xlink:type=\"simple\"><rect fill=\"#FEFECE\" filter=\"url(#f1sgh9gs9e3p3m)\" height=\"45.9375\" id=\"E4\" rx=\"10\" ry=\"10\" style=\"stroke: #A80036; stroke-width: 1.5;\" width=\"68\" x=\"135\" y=\"459\"/><ellipse cx=\"150\" cy=\"477.9688\" fill=\"#32CD32\" rx=\"11\" ry=\"11\" style=\"stroke: #A80036; stroke-width: 1.0;\"/><path d=\"M146.8125,482.9688 L146.8125,472.375 L150.4219,472.375 Q151.6406,472.375 152.4375,472.8125 Q153.2344,473.2344 153.6094,473.9375 Q154,474.6406 154,475.4844 Q154,476.3281 153.625,477.0156 Q153.2656,477.7031 152.4688,478.125 Q151.6875,478.5313 150.5,478.5313 L148.7656,478.5313 L148.7656,482.9688 L146.8125,482.9688 Z M148.7656,476.9375 L150.375,476.9375 Q151.1875,476.9375 151.6094,476.5313 Q152.0313,476.125 152.0313,475.4844 Q152.0313,474.8594 151.6094,474.4531 Q151.1875,474.0469 150.3906,474.0469 L148.7656,474.0469 L148.7656,476.9375 Z \"/><text fill=\"#000000\" font-family=\"sans-serif\" font-size=\"12\" font-style=\"italic\" lengthAdjust=\"spacingAndGlyphs\" textLength=\"40\" x=\"162\" y=\"475.1387\">«part»</text><text fill=\"#000000\" font-family=\"sans-serif\" font-size=\"12\" lengthAdjust=\"spacingAndGlyphs\" textLength=\"14\" x=\"175\" y=\"489.1074\">x1</text><line style=\"stroke: #A80036; stroke-width: 1.5;\" x1=\"136\" x2=\"202\" y1=\"496.9375\" y2=\"496.9375\"/></a><!--MD5=[270fce915f116d4de14055a7c1d9a0f3]\n",
       "class E5--><a href=\"psysml:9833d686-e720-46bf-b438-35dbd29b7a16\" target=\"_top\" title=\"psysml:9833d686-e720-46bf-b438-35dbd29b7a16\" xlink:actuate=\"onRequest\" xlink:href=\"psysml:9833d686-e720-46bf-b438-35dbd29b7a16\" xlink:show=\"new\" xlink:title=\"psysml:9833d686-e720-46bf-b438-35dbd29b7a16\" xlink:type=\"simple\"><rect fill=\"#FEFECE\" filter=\"url(#f1sgh9gs9e3p3m)\" height=\"40\" id=\"E5\" style=\"stroke: #A80036; stroke-width: 1.5;\" width=\"40\" x=\"81\" y=\"41\"/><ellipse cx=\"96\" cy=\"57\" fill=\"#008000\" rx=\"11\" ry=\"11\" style=\"stroke: #A80036; stroke-width: 1.0;\"/><path d=\"M92.875,62 L92.875,51.4063 L96.1094,51.4063 Q98.0156,51.4063 98.9219,52.1563 Q99.8438,52.9063 99.8438,54.0781 Q99.8438,54.7656 99.4531,55.4219 Q99.0781,56.0781 98.3594,56.375 Q99.2188,56.75 99.7344,57.4375 Q100.25,58.125 100.25,58.9375 Q100.25,60.3125 99.2188,61.1563 Q98.2031,62 96.0938,62 L92.875,62 Z M94.7969,55.6406 L95.9531,55.6406 Q97.0781,55.6406 97.4844,55.2656 Q97.9063,54.875 97.9063,54.25 Q97.9063,53.6719 97.4844,53.3125 Q97.0625,52.9531 96.125,52.9531 L94.7969,52.9531 L94.7969,55.6406 Z M94.7969,60.4219 L96.2969,60.4219 Q97.2031,60.4219 97.7344,60.0313 Q98.2656,59.6406 98.2656,58.8906 Q98.2656,58.125 97.7656,57.6563 Q97.2656,57.1719 96,57.1719 L94.7969,57.1719 L94.7969,60.4219 Z \"/><text fill=\"#000000\" font-family=\"sans-serif\" font-size=\"12\" lengthAdjust=\"spacingAndGlyphs\" textLength=\"8\" x=\"110\" y=\"61.1543\">P</text><line style=\"stroke: #A80036; stroke-width: 1.5;\" x1=\"82\" x2=\"120\" y1=\"73\" y2=\"73\"/></a><!--MD5=[60a26617385b1d2d0262a64233df1f8d]\n",
       "class E6--><a href=\"psysml:f96f9e94-0e28-4abd-b8cb-5d3679a708db\" target=\"_top\" title=\"psysml:f96f9e94-0e28-4abd-b8cb-5d3679a708db\" xlink:actuate=\"onRequest\" xlink:href=\"psysml:f96f9e94-0e28-4abd-b8cb-5d3679a708db\" xlink:show=\"new\" xlink:title=\"psysml:f96f9e94-0e28-4abd-b8cb-5d3679a708db\" xlink:type=\"simple\"><rect fill=\"#FEFECE\" filter=\"url(#f1sgh9gs9e3p3m)\" height=\"45.9375\" id=\"E6\" rx=\"10\" ry=\"10\" style=\"stroke: #A80036; stroke-width: 1.5;\" width=\"68\" x=\"32\" y=\"353\"/><ellipse cx=\"47\" cy=\"371.9688\" fill=\"#32CD32\" rx=\"11\" ry=\"11\" style=\"stroke: #A80036; stroke-width: 1.0;\"/><path d=\"M43.8125,376.9688 L43.8125,366.375 L47.4219,366.375 Q48.6406,366.375 49.4375,366.8125 Q50.2344,367.2344 50.6094,367.9375 Q51,368.6406 51,369.4844 Q51,370.3281 50.625,371.0156 Q50.2656,371.7031 49.4688,372.125 Q48.6875,372.5313 47.5,372.5313 L45.7656,372.5313 L45.7656,376.9688 L43.8125,376.9688 Z M45.7656,370.9375 L47.375,370.9375 Q48.1875,370.9375 48.6094,370.5313 Q49.0313,370.125 49.0313,369.4844 Q49.0313,368.8594 48.6094,368.4531 Q48.1875,368.0469 47.3906,368.0469 L45.7656,368.0469 L45.7656,370.9375 Z \"/><text fill=\"#000000\" font-family=\"sans-serif\" font-size=\"12\" font-style=\"italic\" lengthAdjust=\"spacingAndGlyphs\" textLength=\"40\" x=\"59\" y=\"369.1387\">«part»</text><text fill=\"#000000\" font-family=\"sans-serif\" font-size=\"12\" lengthAdjust=\"spacingAndGlyphs\" textLength=\"6\" x=\"76\" y=\"383.1074\">y</text><line style=\"stroke: #A80036; stroke-width: 1.5;\" x1=\"33\" x2=\"99\" y1=\"390.9375\" y2=\"390.9375\"/></a><!--MD5=[2156ba9850f5573cc1fc38a6a4b2f02b]\n",
       "class E7--><a href=\"psysml:2279d5a4-5f0e-43ce-88bf-f6ddb21c3f25\" target=\"_top\" title=\"psysml:2279d5a4-5f0e-43ce-88bf-f6ddb21c3f25\" xlink:actuate=\"onRequest\" xlink:href=\"psysml:2279d5a4-5f0e-43ce-88bf-f6ddb21c3f25\" xlink:show=\"new\" xlink:title=\"psysml:2279d5a4-5f0e-43ce-88bf-f6ddb21c3f25\" xlink:type=\"simple\"><rect fill=\"#FEFECE\" filter=\"url(#f1sgh9gs9e3p3m)\" height=\"45.9375\" id=\"E7\" rx=\"10\" ry=\"10\" style=\"stroke: #A80036; stroke-width: 1.5;\" width=\"68\" x=\"102\" y=\"141\"/><ellipse cx=\"117\" cy=\"159.9688\" fill=\"#32CD32\" rx=\"11\" ry=\"11\" style=\"stroke: #A80036; stroke-width: 1.0;\"/><path d=\"M113.8125,164.9688 L113.8125,154.375 L117.4219,154.375 Q118.6406,154.375 119.4375,154.8125 Q120.2344,155.2344 120.6094,155.9375 Q121,156.6406 121,157.4844 Q121,158.3281 120.625,159.0156 Q120.2656,159.7031 119.4688,160.125 Q118.6875,160.5313 117.5,160.5313 L115.7656,160.5313 L115.7656,164.9688 L113.8125,164.9688 Z M115.7656,158.9375 L117.375,158.9375 Q118.1875,158.9375 118.6094,158.5313 Q119.0313,158.125 119.0313,157.4844 Q119.0313,156.8594 118.6094,156.4531 Q118.1875,156.0469 117.3906,156.0469 L115.7656,156.0469 L115.7656,158.9375 Z \"/><text fill=\"#000000\" font-family=\"sans-serif\" font-size=\"12\" font-style=\"italic\" lengthAdjust=\"spacingAndGlyphs\" textLength=\"40\" x=\"129\" y=\"157.1387\">«part»</text><text fill=\"#000000\" font-family=\"sans-serif\" font-size=\"12\" lengthAdjust=\"spacingAndGlyphs\" textLength=\"16\" x=\"141\" y=\"171.1074\">p1</text><line style=\"stroke: #A80036; stroke-width: 1.5;\" x1=\"103\" x2=\"169\" y1=\"178.9375\" y2=\"178.9375\"/></a><!--MD5=[209b3feb70ccb6233bfe1053d122c12c]\n",
       "reverse link E2 to E3--><a href=\"psysml:1ffc18c1-940f-43c3-a54c-dcf9b76281a6\" target=\"_top\" title=\"psysml:1ffc18c1-940f-43c3-a54c-dcf9b76281a6\" xlink:actuate=\"onRequest\" xlink:href=\"psysml:1ffc18c1-940f-43c3-a54c-dcf9b76281a6\" xlink:show=\"new\" xlink:title=\"psysml:1ffc18c1-940f-43c3-a54c-dcf9b76281a6\" xlink:type=\"simple\"><path d=\"M146.95,305.49 C151.91,321.15 157.64,339.19 162.01,352.98 \" fill=\"none\" id=\"E2&lt;-E3\" style=\"stroke: #A80036; stroke-width: 1.0;\"/><polygon fill=\"#A80036\" points=\"143,293.06,140.9989,299.9879,146.6243,304.4996,148.6253,297.5717,143,293.06\" style=\"stroke: #A80036; stroke-width: 1.0;\"/><text fill=\"#000000\" font-family=\"sans-serif\" font-size=\"13\" lengthAdjust=\"spacingAndGlyphs\" textLength=\"8\" x=\"151.0564\" y=\"341.8709\">1</text></a><!--MD5=[4672eba38e49728da53d11aeb285b987]\n",
       "reverse link E3 to E4--><a href=\"psysml:3d75ef33-b13b-4214-af18-b5d2941be4f9\" target=\"_top\" title=\"psysml:3d75ef33-b13b-4214-af18-b5d2941be4f9\" xlink:actuate=\"onRequest\" xlink:href=\"psysml:3d75ef33-b13b-4214-af18-b5d2941be4f9\" xlink:show=\"new\" xlink:title=\"psysml:3d75ef33-b13b-4214-af18-b5d2941be4f9\" xlink:type=\"simple\"><path d=\"M169,412.44 C169,427.87 169,445.47 169,458.98 \" fill=\"none\" id=\"E3&lt;-E4\" style=\"stroke: #A80036; stroke-width: 1.0;\"/><polygon fill=\"#A80036\" points=\"169,399.06,165,405.06,169,411.06,173,405.06,169,399.06\" style=\"stroke: #A80036; stroke-width: 1.0;\"/><text fill=\"#000000\" font-family=\"sans-serif\" font-size=\"13\" lengthAdjust=\"spacingAndGlyphs\" textLength=\"8\" x=\"159.925\" y=\"447.8709\">1</text></a><!--MD5=[85d356282659285ab4b2cfe2f634dd2b]\n",
       "reverse link E5 to E6--><a href=\"psysml:d68af8b5-54d9-4416-b26b-1e36c98f2c99\" target=\"_top\" title=\"psysml:d68af8b5-54d9-4416-b26b-1e36c98f2c99\" xlink:actuate=\"onRequest\" xlink:href=\"psysml:d68af8b5-54d9-4416-b26b-1e36c98f2c99\" xlink:show=\"new\" xlink:title=\"psysml:d68af8b5-54d9-4416-b26b-1e36c98f2c99\" xlink:type=\"simple\"><path d=\"M93.66,93.79 C90.58,108.14 87.21,125.35 85,141 C74.05,218.49 68.84,311.37 66.92,352.97 \" fill=\"none\" id=\"E5&lt;-E6\" style=\"stroke: #A80036; stroke-width: 1.0;\"/><polygon fill=\"#A80036\" points=\"96.48,81.05,91.282,86.0481,93.8964,92.7686,99.0944,87.7705,96.48,81.05\" style=\"stroke: #A80036; stroke-width: 1.0;\"/><text fill=\"#000000\" font-family=\"sans-serif\" font-size=\"13\" lengthAdjust=\"spacingAndGlyphs\" textLength=\"8\" x=\"58.0923\" y=\"341.8582\">1</text></a><!--MD5=[e3e28c1befcf002155aa15e1416b4315]\n",
       "link E2 to E6--><a href=\"psysml:901b44a6-3b8d-4bea-9e51-ad40652cd7ff\" target=\"_top\" title=\"psysml:901b44a6-3b8d-4bea-9e51-ad40652cd7ff\" xlink:actuate=\"onRequest\" xlink:href=\"psysml:901b44a6-3b8d-4bea-9e51-ad40652cd7ff\" xlink:show=\"new\" xlink:title=\"psysml:901b44a6-3b8d-4bea-9e51-ad40652cd7ff\" xlink:type=\"simple\"><path d=\"M121.15,293.06 C109.28,310.7 92.7,335.34 80.82,352.98 \" fill=\"none\" id=\"E2-E6\" style=\"stroke: #A80036; stroke-width: 3.0;\"/><text fill=\"#000000\" font-family=\"sans-serif\" font-size=\"13\" lengthAdjust=\"spacingAndGlyphs\" textLength=\"7\" x=\"76.8622\" y=\"341.8709\">*</text></a><!--MD5=[452b418e7f8a40397a49b8c0a78acc5b]\n",
       "reverse link E5 to E7--><a href=\"psysml:5a5926b8-11d9-4284-b6a0-db32c9e29bb2\" target=\"_top\" title=\"psysml:5a5926b8-11d9-4284-b6a0-db32c9e29bb2\" xlink:actuate=\"onRequest\" xlink:href=\"psysml:5a5926b8-11d9-4284-b6a0-db32c9e29bb2\" xlink:show=\"new\" xlink:title=\"psysml:5a5926b8-11d9-4284-b6a0-db32c9e29bb2\" xlink:type=\"simple\"><path d=\"M112.09,94.01 C117.37,109.23 123.54,127.06 128.3,140.77 \" fill=\"none\" id=\"E5&lt;-E7\" style=\"stroke: #A80036; stroke-width: 1.0;\"/><polygon fill=\"#A80036\" points=\"107.75,81.47,105.9375,88.4496,111.683,92.8072,113.4956,85.8276,107.75,81.47\" style=\"stroke: #A80036; stroke-width: 1.0;\"/><text fill=\"#000000\" font-family=\"sans-serif\" font-size=\"13\" lengthAdjust=\"spacingAndGlyphs\" textLength=\"8\" x=\"117.3019\" y=\"129.9874\">1</text></a><!--MD5=[583832df87f4419a098336a29a52fa00]\n",
       "link E7 to E2--><a href=\"psysml:dd540a25-2742-496a-aaa6-3ea5cc8a4940\" target=\"_top\" title=\"psysml:dd540a25-2742-496a-aaa6-3ea5cc8a4940\" xlink:actuate=\"onRequest\" xlink:href=\"psysml:dd540a25-2742-496a-aaa6-3ea5cc8a4940\" xlink:show=\"new\" xlink:title=\"psysml:dd540a25-2742-496a-aaa6-3ea5cc8a4940\" xlink:type=\"simple\"><path d=\"M136,187.06 C136,198.64 136,213.23 136,226.87 \" fill=\"none\" id=\"E7-&gt;E2\" style=\"stroke: #A80036; stroke-width: 1.0;\"/><polygon fill=\"none\" points=\"143,226.98,136,246.98,129,226.98,143,226.98\" style=\"stroke: #A80036; stroke-width: 1.0;\"/></a><!--MD5=[7689e3e371a0426d05869378f9c835a4]\n",
       "@startuml\r\n",
       " \r\n",
       "package \"ConnectionTest\" as E1  [[psysml:58064a58-d13b-4f80-a6f6-0eceb966f2f7 ]]  {\r\n",
       "comp usage \"p\" as E2 << << (P,limegreen) part>> [[psysml:98bc980e-08bf-4c08-bf0e-335abb3c4ffd ]] {\r\n",
       "}\r\n",
       "comp usage \"x\" as E3 << << (P,limegreen) part>> [[psysml:c51e79ce-7cf1-4bdb-aba6-5cab2657d431 ]] {\r\n",
       "}\r\n",
       "comp usage \"x1\" as E4 << << (P,limegreen) part>> [[psysml:31f41755-661a-4a53-a2bb-f2dfc01c0edf ]] {\r\n",
       "}\r\n",
       "comp def \"P\" as E5 << << (B,green) >> [[psysml:9833d686-e720-46bf-b438-35dbd29b7a16 ]] {\r\n",
       "}\r\n",
       "comp usage \"y\" as E6 << << (P,limegreen) part>> [[psysml:f96f9e94-0e28-4abd-b8cb-5d3679a708db ]] {\r\n",
       "}\r\n",
       "comp usage \"p1\" as E7 << << (P,limegreen) part>> [[psysml:2279d5a4-5f0e-43ce-88bf-f6ddb21c3f25 ]] {\r\n",
       "}\r\n",
       "}\r\n",
       "E2 *- - \"1\"E3 [[psysml:1ffc18c1-940f-43c3-a54c-dcf9b76281a6 ]] \r\n",
       "E3 *- - \"1\"E4 [[psysml:3d75ef33-b13b-4214-af18-b5d2941be4f9 ]] \r\n",
       "E5 *- - \"1\"E6 [[psysml:d68af8b5-54d9-4416-b26b-1e36c98f2c99 ]] \r\n",
       "E2 -[thickness=3]- \"*\"E6 [[psysml:901b44a6-3b8d-4bea-9e51-ad40652cd7ff ]] \r\n",
       "E5 *- - \"1\"E7 [[psysml:5a5926b8-11d9-4284-b6a0-db32c9e29bb2 ]] \r\n",
       "E7 - -|> E2 [[psysml:dd540a25-2742-496a-aaa6-3ea5cc8a4940 ]] \r\n",
       "@enduml\r\n",
       "\n",
       "PlantUML version 1.2020.13(Sat Jun 13 12:26:38 UTC 2020)\n",
       "(EPL source distribution)\n",
       "Java Runtime: OpenJDK Runtime Environment\n",
       "JVM: OpenJDK 64-Bit Server VM\n",
       "Default Encoding: UTF-8\n",
       "Language: en\n",
       "Country: null\n",
       "--></g></svg>"
      ]
     },
     "execution_count": 31,
     "metadata": {},
     "output_type": "execute_result"
    }
   ],
   "source": [
    "%viz --style=\"PLANTUML\" --view=\"Tree\" \"ConnectionTest\""
   ]
  },
  {
   "cell_type": "code",
   "execution_count": 32,
   "id": "8d00c303",
   "metadata": {
    "execution": {
     "iopub.execute_input": "2021-09-27T07:17:33.664473Z",
     "iopub.status.busy": "2021-09-27T07:17:33.664077Z",
     "iopub.status.idle": "2021-09-27T07:17:33.754687Z",
     "shell.execute_reply": "2021-09-27T07:17:33.754346Z"
    }
   },
   "outputs": [
    {
     "data": {
      "image/svg+xml": [
       "<?xml version=\"1.0\" encoding=\"UTF-8\" standalone=\"no\"?><svg xmlns=\"http://www.w3.org/2000/svg\" xmlns:xlink=\"http://www.w3.org/1999/xlink\" contentScriptType=\"application/ecmascript\" contentStyleType=\"text/css\" height=\"300px\" preserveAspectRatio=\"none\" style=\"width:603px;height:300px;background:#000000;\" version=\"1.1\" viewBox=\"0 0 603 300\" width=\"603px\" zoomAndPan=\"magnify\"><defs/><g><rect fill=\"#150606\" height=\"1\" style=\"stroke: #150606; stroke-width: 1.0;\" width=\"1\" x=\"0\" y=\"0\"/><rect fill=\"#FFFFFF\" height=\"202.8012\" style=\"stroke: #FFFFFF; stroke-width: 1.0;\" width=\"602\" x=\"0\" y=\"0\"/><text fill=\"#000000\" font-family=\"sans-serif\" font-size=\"12\" font-weight=\"bold\" lengthAdjust=\"spacingAndGlyphs\" textLength=\"139\" x=\"5\" y=\"16.1387\">Welcome to PlantUML!</text><text fill=\"#000000\" font-family=\"sans-serif\" font-size=\"12\" lengthAdjust=\"spacingAndGlyphs\" textLength=\"0\" x=\"9\" y=\"30.1074\"/><text fill=\"#000000\" font-family=\"sans-serif\" font-size=\"12\" lengthAdjust=\"spacingAndGlyphs\" textLength=\"293\" x=\"5\" y=\"44.0762\">If you use this software, you accept its license.</text><text fill=\"#000000\" font-family=\"sans-serif\" font-size=\"12\" lengthAdjust=\"spacingAndGlyphs\" textLength=\"107\" x=\"5\" y=\"58.0449\">(details by typing</text><text fill=\"#000000\" font-family=\"monospace\" font-size=\"12\" lengthAdjust=\"spacingAndGlyphs\" textLength=\"42\" x=\"116\" y=\"58.595\">license</text><text fill=\"#000000\" font-family=\"sans-serif\" font-size=\"12\" lengthAdjust=\"spacingAndGlyphs\" textLength=\"56\" x=\"162\" y=\"58.0449\">keyword)</text><text fill=\"#000000\" font-family=\"sans-serif\" font-size=\"12\" lengthAdjust=\"spacingAndGlyphs\" textLength=\"0\" x=\"9\" y=\"72.0137\"/><text fill=\"#000000\" font-family=\"sans-serif\" font-size=\"12\" lengthAdjust=\"spacingAndGlyphs\" textLength=\"283\" x=\"5\" y=\"85.9824\">You can start with a simple UML Diagram like:</text><text fill=\"#000000\" font-family=\"sans-serif\" font-size=\"12\" lengthAdjust=\"spacingAndGlyphs\" textLength=\"0\" x=\"9\" y=\"99.9512\"/><text fill=\"#000000\" font-family=\"monospace\" font-size=\"12\" lengthAdjust=\"spacingAndGlyphs\" textLength=\"102\" x=\"5\" y=\"113.0893\">Bob-&gt;Alice: Hello</text><text fill=\"#000000\" font-family=\"sans-serif\" font-size=\"12\" lengthAdjust=\"spacingAndGlyphs\" textLength=\"0\" x=\"9\" y=\"126.508\"/><text fill=\"#000000\" font-family=\"sans-serif\" font-size=\"12\" lengthAdjust=\"spacingAndGlyphs\" textLength=\"14\" x=\"5\" y=\"140.4768\">Or</text><text fill=\"#000000\" font-family=\"sans-serif\" font-size=\"12\" lengthAdjust=\"spacingAndGlyphs\" textLength=\"0\" x=\"9\" y=\"154.4455\"/><text fill=\"#000000\" font-family=\"monospace\" font-size=\"12\" lengthAdjust=\"spacingAndGlyphs\" textLength=\"78\" x=\"5\" y=\"167.5837\">class Example</text><text fill=\"#000000\" font-family=\"sans-serif\" font-size=\"12\" lengthAdjust=\"spacingAndGlyphs\" textLength=\"0\" x=\"9\" y=\"181.0023\"/><text fill=\"#000000\" font-family=\"sans-serif\" font-size=\"12\" lengthAdjust=\"spacingAndGlyphs\" textLength=\"349\" x=\"5\" y=\"194.9711\">You will find more information about PlantUML syntax on</text><text fill=\"#000000\" font-family=\"sans-serif\" font-size=\"12\" lengthAdjust=\"spacingAndGlyphs\" text-decoration=\"underline\" textLength=\"129\" x=\"358\" y=\"194.9711\">https://plantuml.com</text><image height=\"71\" width=\"80\" x=\"516\" xlink:href=\"data:image/png;base64,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\" y=\"6\"/><rect fill=\"#000000\" height=\"96.4844\" style=\"stroke: #000000; stroke-width: 1.0;\" width=\"602\" x=\"0\" y=\"202.8012\"/><rect fill=\"#33FF02\" height=\"21.2969\" style=\"stroke: #33FF02; stroke-width: 1.0;\" width=\"145\" x=\"5\" y=\"207.8012\"/><text fill=\"#000000\" font-family=\"sans-serif\" font-size=\"14\" font-weight=\"bold\" lengthAdjust=\"spacingAndGlyphs\" textLength=\"143\" x=\"6\" y=\"222.8012\">[From string (line 2) ]</text><text fill=\"#33FF02\" font-family=\"sans-serif\" font-size=\"14\" font-weight=\"bold\" lengthAdjust=\"spacingAndGlyphs\" textLength=\"0\" x=\"9\" y=\"243.0981\"/><text fill=\"#33FF02\" font-family=\"sans-serif\" font-size=\"14\" font-weight=\"bold\" lengthAdjust=\"spacingAndGlyphs\" textLength=\"70\" x=\"5\" y=\"259.3949\">@startuml</text><text fill=\"#33FF02\" font-family=\"sans-serif\" font-size=\"14\" font-weight=\"bold\" lengthAdjust=\"spacingAndGlyphs\" textLength=\"0\" x=\"9\" y=\"275.6918\"/><text fill=\"#FF0000\" font-family=\"sans-serif\" font-size=\"14\" font-weight=\"bold\" lengthAdjust=\"spacingAndGlyphs\" textLength=\"124\" x=\"9\" y=\"291.9887\">Empty description</text><!--MD5=[f59edd8218d337f74d0c332fc6737304]\n",
       "@startuml\r\n",
       " \r\n",
       "@enduml\r\n",
       "\n",
       "PlantUML version 1.2020.13(Sat Jun 13 12:26:38 UTC 2020)\n",
       "(EPL source distribution)\n",
       "Java Runtime: OpenJDK Runtime Environment\n",
       "JVM: OpenJDK 64-Bit Server VM\n",
       "Default Encoding: UTF-8\n",
       "Language: en\n",
       "Country: null\n",
       "--></g></svg>"
      ]
     },
     "execution_count": 32,
     "metadata": {},
     "output_type": "execute_result"
    }
   ],
   "source": [
    "%viz --style=\"PLANTUML\" --view=\"State\" \"ConnectionTest\""
   ]
  },
  {
   "cell_type": "code",
   "execution_count": 33,
   "id": "e6292f12",
   "metadata": {
    "execution": {
     "iopub.execute_input": "2021-09-27T07:17:33.804399Z",
     "iopub.status.busy": "2021-09-27T07:17:33.804008Z",
     "iopub.status.idle": "2021-09-27T07:17:33.837735Z",
     "shell.execute_reply": "2021-09-27T07:17:33.837387Z"
    }
   },
   "outputs": [
    {
     "data": {
      "image/svg+xml": [
       "<?xml version=\"1.0\" encoding=\"UTF-8\" standalone=\"no\"?><svg xmlns=\"http://www.w3.org/2000/svg\" xmlns:xlink=\"http://www.w3.org/1999/xlink\" contentScriptType=\"application/ecmascript\" contentStyleType=\"text/css\" height=\"390px\" preserveAspectRatio=\"none\" style=\"width:513px;height:390px;\" version=\"1.1\" viewBox=\"0 0 513 390\" width=\"513px\" zoomAndPan=\"magnify\"><defs><filter height=\"300%\" id=\"f98f2muqmwnzq\" width=\"300%\" x=\"-1\" y=\"-1\"><feGaussianBlur result=\"blurOut\" stdDeviation=\"2.0\"/><feColorMatrix in=\"blurOut\" result=\"blurOut2\" type=\"matrix\" values=\"0 0 0 0 0 0 0 0 0 0 0 0 0 0 0 0 0 0 .4 0\"/><feOffset dx=\"4.0\" dy=\"4.0\" in=\"blurOut2\" result=\"blurOut3\"/><feBlend in=\"SourceGraphic\" in2=\"blurOut3\" mode=\"normal\"/></filter></defs><g><!--MD5=[fbc87193dbaf4d95561dea2c320d4a47]\n",
       "cluster E1--><a href=\"psysml:58064a58-d13b-4f80-a6f6-0eceb966f2f7\" target=\"_top\" title=\"psysml:58064a58-d13b-4f80-a6f6-0eceb966f2f7\" xlink:actuate=\"onRequest\" xlink:href=\"psysml:58064a58-d13b-4f80-a6f6-0eceb966f2f7\" xlink:show=\"new\" xlink:title=\"psysml:58064a58-d13b-4f80-a6f6-0eceb966f2f7\" xlink:type=\"simple\"><polygon fill=\"#FFFFFF\" filter=\"url(#f98f2muqmwnzq)\" points=\"16,6,133,6,140,28.2969,491,28.2969,491,378,16,378,16,6\" style=\"stroke: #000000; stroke-width: 1.5;\"/><line style=\"stroke: #000000; stroke-width: 1.5;\" x1=\"16\" x2=\"140\" y1=\"28.2969\" y2=\"28.2969\"/><text fill=\"#000000\" font-family=\"sans-serif\" font-size=\"14\" font-weight=\"bold\" lengthAdjust=\"spacingAndGlyphs\" textLength=\"111\" x=\"20\" y=\"20.9951\">ConnectionTest</text></a><!--MD5=[e4f7fae6ed58524ba242bb0b0d3be6b7]\n",
       "cluster E2--><a href=\"psysml:98bc980e-08bf-4c08-bf0e-335abb3c4ffd\" target=\"_top\" title=\"psysml:98bc980e-08bf-4c08-bf0e-335abb3c4ffd\" xlink:actuate=\"onRequest\" xlink:href=\"psysml:98bc980e-08bf-4c08-bf0e-335abb3c4ffd\" xlink:show=\"new\" xlink:title=\"psysml:98bc980e-08bf-4c08-bf0e-335abb3c4ffd\" xlink:type=\"simple\"><rect fill=\"#FFFFFF\" filter=\"url(#f98f2muqmwnzq)\" height=\"174\" id=\"E2\" rx=\"10\" ry=\"10\" style=\"stroke: #A80036; stroke-width: 1.5;\" width=\"156\" x=\"303\" y=\"100\"/><rect fill=\"#FEFECE\" height=\"23.9688\" rx=\"10\" ry=\"10\" style=\"stroke: #FEFECE; stroke-width: 1.5;\" width=\"156\" x=\"303\" y=\"100\"/><rect fill=\"#FEFECE\" height=\"10\" style=\"stroke: #FEFECE; stroke-width: 1.5;\" width=\"156\" x=\"303\" y=\"113.9688\"/><rect fill=\"none\" height=\"174\" id=\"E2\" rx=\"10\" ry=\"10\" style=\"stroke: #A80036; stroke-width: 1.5;\" width=\"156\" x=\"303\" y=\"100\"/><text fill=\"#000000\" font-family=\"sans-serif\" font-size=\"12\" lengthAdjust=\"spacingAndGlyphs\" textLength=\"8\" x=\"377\" y=\"116.1387\">p</text><line style=\"stroke: #A80036; stroke-width: 1.0;\" x1=\"303\" x2=\"459\" y1=\"123.9688\" y2=\"123.9688\"/></a><!--MD5=[d5e69f78d87373223dbae638b30a9c99]\n",
       "cluster E3--><a href=\"psysml:c51e79ce-7cf1-4bdb-aba6-5cab2657d431\" target=\"_top\" title=\"psysml:c51e79ce-7cf1-4bdb-aba6-5cab2657d431\" xlink:actuate=\"onRequest\" xlink:href=\"psysml:c51e79ce-7cf1-4bdb-aba6-5cab2657d431\" xlink:show=\"new\" xlink:title=\"psysml:c51e79ce-7cf1-4bdb-aba6-5cab2657d431\" xlink:type=\"simple\"><rect fill=\"#FFFFFF\" filter=\"url(#f98f2muqmwnzq)\" height=\"91\" id=\"E3\" rx=\"10\" ry=\"10\" style=\"stroke: #A80036; stroke-width: 1.5;\" width=\"84\" x=\"343\" y=\"151\"/><rect fill=\"#FEFECE\" height=\"23.9688\" rx=\"10\" ry=\"10\" style=\"stroke: #FEFECE; stroke-width: 1.5;\" width=\"84\" x=\"343\" y=\"151\"/><rect fill=\"#FEFECE\" height=\"10\" style=\"stroke: #FEFECE; stroke-width: 1.5;\" width=\"84\" x=\"343\" y=\"164.9688\"/><rect fill=\"none\" height=\"91\" id=\"E3\" rx=\"10\" ry=\"10\" style=\"stroke: #A80036; stroke-width: 1.5;\" width=\"84\" x=\"343\" y=\"151\"/><text fill=\"#000000\" font-family=\"sans-serif\" font-size=\"12\" lengthAdjust=\"spacingAndGlyphs\" textLength=\"6\" x=\"382\" y=\"167.1387\">x</text><line style=\"stroke: #A80036; stroke-width: 1.0;\" x1=\"343\" x2=\"427\" y1=\"174.9688\" y2=\"174.9688\"/></a><!--MD5=[de5ec2e2e8f62f467e546659f5068c88]\n",
       "cluster E5--><a href=\"psysml:9833d686-e720-46bf-b438-35dbd29b7a16\" target=\"_top\" title=\"psysml:9833d686-e720-46bf-b438-35dbd29b7a16\" xlink:actuate=\"onRequest\" xlink:href=\"psysml:9833d686-e720-46bf-b438-35dbd29b7a16\" xlink:show=\"new\" xlink:title=\"psysml:9833d686-e720-46bf-b438-35dbd29b7a16\" xlink:type=\"simple\"><rect fill=\"#FFFFFF\" filter=\"url(#f98f2muqmwnzq)\" height=\"305\" id=\"E5\" style=\"stroke: #A80036; stroke-width: 1.5;\" width=\"231\" x=\"40\" y=\"49\"/><rect fill=\"#FEFECE\" height=\"23.9688\" style=\"stroke: #A80036; stroke-width: 1.5;\" width=\"231\" x=\"40\" y=\"49\"/><text fill=\"#000000\" font-family=\"sans-serif\" font-size=\"12\" lengthAdjust=\"spacingAndGlyphs\" textLength=\"8\" x=\"151.5\" y=\"65.1387\">P</text></a><!--MD5=[168fadf3d0c3fd93dd5d6da1b1d7ab76]\n",
       "cluster E7--><a href=\"psysml:2279d5a4-5f0e-43ce-88bf-f6ddb21c3f25\" target=\"_top\" title=\"psysml:2279d5a4-5f0e-43ce-88bf-f6ddb21c3f25\" xlink:actuate=\"onRequest\" xlink:href=\"psysml:2279d5a4-5f0e-43ce-88bf-f6ddb21c3f25\" xlink:show=\"new\" xlink:title=\"psysml:2279d5a4-5f0e-43ce-88bf-f6ddb21c3f25\" xlink:type=\"simple\"><rect fill=\"#FFFFFF\" filter=\"url(#f98f2muqmwnzq)\" height=\"190\" id=\"E7\" rx=\"10\" ry=\"10\" style=\"stroke: #A80036; stroke-width: 1.5;\" width=\"183\" x=\"64\" y=\"92\"/><rect fill=\"#FEFECE\" height=\"23.9688\" rx=\"10\" ry=\"10\" style=\"stroke: #FEFECE; stroke-width: 1.5;\" width=\"183\" x=\"64\" y=\"92\"/><rect fill=\"#FEFECE\" height=\"10\" style=\"stroke: #FEFECE; stroke-width: 1.5;\" width=\"183\" x=\"64\" y=\"105.9688\"/><rect fill=\"none\" height=\"190\" id=\"E7\" rx=\"10\" ry=\"10\" style=\"stroke: #A80036; stroke-width: 1.5;\" width=\"183\" x=\"64\" y=\"92\"/><text fill=\"#000000\" font-family=\"sans-serif\" font-size=\"12\" lengthAdjust=\"spacingAndGlyphs\" textLength=\"16\" x=\"147.5\" y=\"108.1387\">p1</text><line style=\"stroke: #A80036; stroke-width: 1.0;\" x1=\"64\" x2=\"247\" y1=\"115.9688\" y2=\"115.9688\"/></a><!--MD5=[55dfccfc6c49c2d10cd1bd2211a6c90c]\n",
       "cluster E8--><a href=\"psysml:c51e79ce-7cf1-4bdb-aba6-5cab2657d431\" target=\"_top\" title=\"psysml:c51e79ce-7cf1-4bdb-aba6-5cab2657d431\" xlink:actuate=\"onRequest\" xlink:href=\"psysml:c51e79ce-7cf1-4bdb-aba6-5cab2657d431\" xlink:show=\"new\" xlink:title=\"psysml:c51e79ce-7cf1-4bdb-aba6-5cab2657d431\" xlink:type=\"simple\"><rect fill=\"#FFFFFF\" filter=\"url(#f98f2muqmwnzq)\" height=\"107\" id=\"E8\" rx=\"10\" ry=\"10\" style=\"stroke: #A80036; stroke-width: 1.5;\" width=\"119\" x=\"96\" y=\"143\"/><rect fill=\"#FEFECE\" height=\"23.9688\" rx=\"10\" ry=\"10\" style=\"stroke: #FEFECE; stroke-width: 1.5;\" width=\"119\" x=\"96\" y=\"143\"/><rect fill=\"#FEFECE\" height=\"10\" style=\"stroke: #FEFECE; stroke-width: 1.5;\" width=\"119\" x=\"96\" y=\"156.9688\"/><rect fill=\"none\" height=\"107\" id=\"E8\" rx=\"10\" ry=\"10\" style=\"stroke: #A80036; stroke-width: 1.5;\" width=\"119\" x=\"96\" y=\"143\"/><text fill=\"#000000\" font-family=\"sans-serif\" font-size=\"12\" lengthAdjust=\"spacingAndGlyphs\" textLength=\"16\" x=\"147.5\" y=\"159.1387\">^x</text><line style=\"stroke: #A80036; stroke-width: 1.0;\" x1=\"96\" x2=\"215\" y1=\"166.9688\" y2=\"166.9688\"/></a><g id=\"E1.E2.E3.E4\"><a href=\"psysml:31f41755-661a-4a53-a2bb-f2dfc01c0edf\" target=\"_top\" title=\"psysml:31f41755-661a-4a53-a2bb-f2dfc01c0edf\" xlink:actuate=\"onRequest\" xlink:href=\"psysml:31f41755-661a-4a53-a2bb-f2dfc01c0edf\" xlink:show=\"new\" xlink:title=\"psysml:31f41755-661a-4a53-a2bb-f2dfc01c0edf\" xlink:type=\"simple\"><rect fill=\"#FEFECE\" filter=\"url(#f98f2muqmwnzq)\" height=\"40\" id=\"E4\" rx=\"10\" ry=\"10\" style=\"stroke: #A80036; stroke-width: 1.5;\" width=\"51\" x=\"359.5\" y=\"186\"/><ellipse cx=\"376.75\" cy=\"202\" fill=\"#B6DBBB\" rx=\"11\" ry=\"11\" style=\"stroke: #A80036; stroke-width: 1.0;\"/><path d=\"M376.5,207.4688 Q374.75,207.4688 373.7969,206.4375 Q372.8594,205.3906 372.8594,203.5469 L372.8594,196.6563 L374.9219,196.6563 L374.9219,196.8125 Q374.8281,196.9063 374.7969,197.0469 Q374.7813,197.1719 374.7813,197.4375 L374.7813,203.5625 Q374.7813,204.6563 375.1563,205.2813 Q375.5313,205.9063 376.5156,205.9063 Q377.5,205.9063 377.8906,205.2813 Q378.2813,204.6563 378.2813,203.5156 L378.2813,196.6563 L380.1563,196.6563 L380.1563,203.5 Q380.1563,205.5313 379.125,206.5 Q378.1094,207.4688 376.5,207.4688 Z \"/><text fill=\"#000000\" font-family=\"sans-serif\" font-size=\"12\" lengthAdjust=\"spacingAndGlyphs\" textLength=\"14\" x=\"391.25\" y=\"206.1543\">x1</text></a></g><g id=\"E1.E5.E6\"><a href=\"psysml:f96f9e94-0e28-4abd-b8cb-5d3679a708db\" target=\"_top\" title=\"psysml:f96f9e94-0e28-4abd-b8cb-5d3679a708db\" xlink:actuate=\"onRequest\" xlink:href=\"psysml:f96f9e94-0e28-4abd-b8cb-5d3679a708db\" xlink:show=\"new\" xlink:title=\"psysml:f96f9e94-0e28-4abd-b8cb-5d3679a708db\" xlink:type=\"simple\"><rect fill=\"#FEFECE\" filter=\"url(#f98f2muqmwnzq)\" height=\"40\" id=\"E6\" rx=\"10\" ry=\"10\" style=\"stroke: #A80036; stroke-width: 1.5;\" width=\"50\" x=\"140\" y=\"298\"/><ellipse cx=\"160.4\" cy=\"314\" fill=\"#B6DBBB\" rx=\"11\" ry=\"11\" style=\"stroke: #A80036; stroke-width: 1.0;\"/><path d=\"M160.15,319.4688 Q158.4,319.4688 157.4469,318.4375 Q156.5094,317.3906 156.5094,315.5469 L156.5094,308.6563 L158.5719,308.6563 L158.5719,308.8125 Q158.4781,308.9063 158.4469,309.0469 Q158.4313,309.1719 158.4313,309.4375 L158.4313,315.5625 Q158.4313,316.6563 158.8063,317.2813 Q159.1813,317.9063 160.1656,317.9063 Q161.15,317.9063 161.5406,317.2813 Q161.9313,316.6563 161.9313,315.5156 L161.9313,308.6563 L163.8063,308.6563 L163.8063,315.5 Q163.8063,317.5313 162.775,318.5 Q161.7594,319.4688 160.15,319.4688 Z \"/><text fill=\"#000000\" font-family=\"sans-serif\" font-size=\"12\" lengthAdjust=\"spacingAndGlyphs\" textLength=\"6\" x=\"175.6\" y=\"318.1543\">y</text></a></g><g id=\"E1.E5.E7.E8.E9\"><a href=\"psysml:31f41755-661a-4a53-a2bb-f2dfc01c0edf\" target=\"_top\" title=\"psysml:31f41755-661a-4a53-a2bb-f2dfc01c0edf\" xlink:actuate=\"onRequest\" xlink:href=\"psysml:31f41755-661a-4a53-a2bb-f2dfc01c0edf\" xlink:show=\"new\" xlink:title=\"psysml:31f41755-661a-4a53-a2bb-f2dfc01c0edf\" xlink:type=\"simple\"><rect fill=\"#FEFECE\" filter=\"url(#f98f2muqmwnzq)\" height=\"40\" id=\"E9\" rx=\"10\" ry=\"10\" style=\"stroke: #A80036; stroke-width: 1.5;\" width=\"51\" x=\"139.5\" y=\"186\"/><ellipse cx=\"156.75\" cy=\"202\" fill=\"#B6DBBB\" rx=\"11\" ry=\"11\" style=\"stroke: #A80036; stroke-width: 1.0;\"/><path d=\"M156.5,207.4688 Q154.75,207.4688 153.7969,206.4375 Q152.8594,205.3906 152.8594,203.5469 L152.8594,196.6563 L154.9219,196.6563 L154.9219,196.8125 Q154.8281,196.9063 154.7969,197.0469 Q154.7813,197.1719 154.7813,197.4375 L154.7813,203.5625 Q154.7813,204.6563 155.1563,205.2813 Q155.5313,205.9063 156.5156,205.9063 Q157.5,205.9063 157.8906,205.2813 Q158.2813,204.6563 158.2813,203.5156 L158.2813,196.6563 L160.1563,196.6563 L160.1563,203.5 Q160.1563,205.5313 159.125,206.5 Q158.1094,207.4688 156.5,207.4688 Z \"/><text fill=\"#000000\" font-family=\"sans-serif\" font-size=\"12\" lengthAdjust=\"spacingAndGlyphs\" textLength=\"14\" x=\"171.25\" y=\"206.1543\">x1</text></a></g><!--MD5=[e3e28c1befcf002155aa15e1416b4315]\n",
       "link E2 to E6--><a href=\"psysml:901b44a6-3b8d-4bea-9e51-ad40652cd7ff\" target=\"_top\" title=\"psysml:901b44a6-3b8d-4bea-9e51-ad40652cd7ff\" xlink:actuate=\"onRequest\" xlink:href=\"psysml:901b44a6-3b8d-4bea-9e51-ad40652cd7ff\" xlink:show=\"new\" xlink:title=\"psysml:901b44a6-3b8d-4bea-9e51-ad40652cd7ff\" xlink:type=\"simple\"><path d=\"M302.7765,214.0432 C302.6913,214.1156 302.6055,214.1885 302.5192,214.2619 C302.3465,214.4087 302.1714,214.5573 301.994,214.7079 C301.2846,215.3104 300.538,215.9433 299.7562,216.605 C293.5019,221.8988 284.99,229.035 275.1275,237.125 C255.4025,253.305 230.275,273.3 207,290 C201.65,293.84 195.77,297.78 190.15,301.42 \" fill=\"none\" id=\"E2-E6\" style=\"stroke: #A80036; stroke-width: 3.0;\"/><text fill=\"#000000\" font-family=\"sans-serif\" font-size=\"13\" lengthAdjust=\"spacingAndGlyphs\" textLength=\"7\" x=\"197.8497\" y=\"292.0332\">*</text></a><!--MD5=[c5e8897d989ce984f93528998a7150fe]\n",
       "link E8 to E6--><a href=\"psysml:b9509daa-923d-4932-b597-51fbb4fcb62c\" target=\"_top\" title=\"psysml:b9509daa-923d-4932-b597-51fbb4fcb62c\" xlink:actuate=\"onRequest\" xlink:href=\"psysml:b9509daa-923d-4932-b597-51fbb4fcb62c\" xlink:show=\"new\" xlink:title=\"psysml:b9509daa-923d-4932-b597-51fbb4fcb62c\" xlink:type=\"simple\"><path d=\"M107.4375,250.1691 C107.4648,250.3072 107.4923,250.4454 107.5201,250.5836 C107.5755,250.8602 107.6318,251.1371 107.6889,251.4143 C108.6028,255.8495 109.7307,260.3652 111.1211,264.8316 C113.9019,273.7644 117.7325,282.5 123,290 C127.28,296.1 133.43,301.15 139.7,305.16 \" fill=\"none\" id=\"E8-E6\" style=\"stroke: #A80036; stroke-width: 3.0;\"/><text fill=\"#000000\" font-family=\"sans-serif\" font-size=\"13\" lengthAdjust=\"spacingAndGlyphs\" textLength=\"7\" x=\"124.96\" y=\"296.7784\">*</text></a><!--MD5=[60ac2c0cde89d4308155b0484e57a8ec]\n",
       "link E9 to E6--><a href=\"psysml:c683e43b-7fd5-4334-8447-643be8454737\" target=\"_top\" title=\"psysml:c683e43b-7fd5-4334-8447-643be8454737\" xlink:actuate=\"onRequest\" xlink:href=\"psysml:c683e43b-7fd5-4334-8447-643be8454737\" xlink:show=\"new\" xlink:title=\"psysml:c683e43b-7fd5-4334-8447-643be8454737\" xlink:type=\"simple\"><path d=\"M165,226.16 C165,246.23 165,277.57 165,297.69 \" fill=\"none\" id=\"E9-E6\" style=\"stroke: #A80036; stroke-width: 3.0;\"/><text fill=\"#000000\" font-family=\"sans-serif\" font-size=\"13\" lengthAdjust=\"spacingAndGlyphs\" textLength=\"7\" x=\"157.0156\" y=\"286.954\">*</text></a><!--MD5=[eeda21c876bdcd8814347f20f187487e]\n",
       "@startuml\r\n",
       "skinparam ranksep 10\r\n",
       "skinparam rectangle {\r\n",
       " backgroundColor<<block>> LightGreen\r\n",
       "}\r\n",
       " \r\n",
       "package \"ConnectionTest\" as E1  [[psysml:58064a58-d13b-4f80-a6f6-0eceb966f2f7 ]]  {\r\n",
       "rec usage \"p\" as E2  [[psysml:98bc980e-08bf-4c08-bf0e-335abb3c4ffd ]] {\r\n",
       "rec usage \"x\" as E3  [[psysml:c51e79ce-7cf1-4bdb-aba6-5cab2657d431 ]] {\r\n",
       "rec usage \"x1\" as E4  [[psysml:31f41755-661a-4a53-a2bb-f2dfc01c0edf ]] {\r\n",
       "}\r\n",
       "}\r\n",
       "}\r\n",
       "rec def \"P\" as E5 << << (B,green) >> [[psysml:9833d686-e720-46bf-b438-35dbd29b7a16 ]] {\r\n",
       "rec usage \"y\" as E6  [[psysml:f96f9e94-0e28-4abd-b8cb-5d3679a708db ]] {\r\n",
       "}\r\n",
       "rec usage \"p1\" as E7  [[psysml:2279d5a4-5f0e-43ce-88bf-f6ddb21c3f25 ]] {\r\n",
       "rec usage \"^x\" as E8  [[psysml:c51e79ce-7cf1-4bdb-aba6-5cab2657d431 ]] {\r\n",
       "rec usage \"x1\" as E9  [[psysml:31f41755-661a-4a53-a2bb-f2dfc01c0edf ]] {\r\n",
       "}\r\n",
       "}\r\n",
       "}\r\n",
       "}\r\n",
       "}\r\n",
       "E2 -[thickness=3]- \"*\"E6 [[psysml:901b44a6-3b8d-4bea-9e51-ad40652cd7ff ]] \r\n",
       "E8 -[thickness=3]- \"*\"E6 [[psysml:b9509daa-923d-4932-b597-51fbb4fcb62c ]] \r\n",
       "E9 -[thickness=3]- \"*\"E6 [[psysml:c683e43b-7fd5-4334-8447-643be8454737 ]] \r\n",
       "@enduml\r\n",
       "\n",
       "PlantUML version 1.2020.13(Sat Jun 13 12:26:38 UTC 2020)\n",
       "(EPL source distribution)\n",
       "Java Runtime: OpenJDK Runtime Environment\n",
       "JVM: OpenJDK 64-Bit Server VM\n",
       "Default Encoding: UTF-8\n",
       "Language: en\n",
       "Country: null\n",
       "--></g></svg>"
      ]
     },
     "execution_count": 33,
     "metadata": {},
     "output_type": "execute_result"
    }
   ],
   "source": [
    "%viz --style=\"PLANTUML\" --view=\"Interconnection\" \"ConnectionTest\""
   ]
  },
  {
   "cell_type": "code",
   "execution_count": 34,
   "id": "3f924096",
   "metadata": {
    "execution": {
     "iopub.execute_input": "2021-09-27T07:17:33.887435Z",
     "iopub.status.busy": "2021-09-27T07:17:33.887034Z",
     "iopub.status.idle": "2021-09-27T07:17:33.892039Z",
     "shell.execute_reply": "2021-09-27T07:17:33.891708Z"
    }
   },
   "outputs": [
    {
     "data": {
      "image/svg+xml": [
       "<?xml version=\"1.0\" encoding=\"UTF-8\" standalone=\"no\"?><svg xmlns=\"http://www.w3.org/2000/svg\" xmlns:xlink=\"http://www.w3.org/1999/xlink\" contentScriptType=\"application/ecmascript\" contentStyleType=\"text/css\" height=\"12px\" preserveAspectRatio=\"none\" style=\"width:12px;height:12px;\" version=\"1.1\" viewBox=\"0 0 12 12\" width=\"12px\" zoomAndPan=\"magnify\"><defs/><g><!--MD5=[6a4cb978cab31700e1ce5529f947a75d]\n",
       "@startuml\r\n",
       "skinparam ranksep 8\r\n",
       " \r\n",
       "@enduml\r\n",
       "\n",
       "PlantUML version 1.2020.13(Sat Jun 13 12:26:38 UTC 2020)\n",
       "(EPL source distribution)\n",
       "Java Runtime: OpenJDK Runtime Environment\n",
       "JVM: OpenJDK 64-Bit Server VM\n",
       "Default Encoding: UTF-8\n",
       "Language: en\n",
       "Country: null\n",
       "--></g></svg>"
      ]
     },
     "execution_count": 34,
     "metadata": {},
     "output_type": "execute_result"
    }
   ],
   "source": [
    "%viz --style=\"PLANTUML\" --view=\"Action\" \"ConnectionTest\""
   ]
  },
  {
   "cell_type": "code",
   "execution_count": 35,
   "id": "38933d9b",
   "metadata": {
    "execution": {
     "iopub.execute_input": "2021-09-27T07:17:33.942047Z",
     "iopub.status.busy": "2021-09-27T07:17:33.941641Z",
     "iopub.status.idle": "2021-09-27T07:17:33.945738Z",
     "shell.execute_reply": "2021-09-27T07:17:33.946058Z"
    }
   },
   "outputs": [
    {
     "data": {
      "image/svg+xml": [
       "<?xml version=\"1.0\" encoding=\"UTF-8\" standalone=\"no\"?><svg xmlns=\"http://www.w3.org/2000/svg\" xmlns:xlink=\"http://www.w3.org/1999/xlink\" contentScriptType=\"application/ecmascript\" contentStyleType=\"text/css\" height=\"12px\" preserveAspectRatio=\"none\" style=\"width:12px;height:12px;\" version=\"1.1\" viewBox=\"0 0 12 12\" width=\"12px\" zoomAndPan=\"magnify\"><defs/><g><!--MD5=[ca4faa0b02def275ea33c14ea7a1a98d]\n",
       "@startuml\r\n",
       "skinparam roundcorner 20\r\n",
       "skinparam BoxPadding 20\r\n",
       "skinparam SequenceBoxBackgroundColor #white\r\n",
       "skinparam style strictuml\r\n",
       "skinparam maxMessageSize 100\r\n",
       " \r\n",
       "@enduml\r\n",
       "\n",
       "PlantUML version 1.2020.13(Sat Jun 13 12:26:38 UTC 2020)\n",
       "(EPL source distribution)\n",
       "Java Runtime: OpenJDK Runtime Environment\n",
       "JVM: OpenJDK 64-Bit Server VM\n",
       "Default Encoding: UTF-8\n",
       "Language: en\n",
       "Country: null\n",
       "--></g></svg>"
      ]
     },
     "execution_count": 35,
     "metadata": {},
     "output_type": "execute_result"
    }
   ],
   "source": [
    "%viz --style=\"PLANTUML\" --view=\"Sequence\" \"ConnectionTest\""
   ]
  },
  {
   "cell_type": "code",
   "execution_count": 36,
   "id": "612bcb49",
   "metadata": {
    "execution": {
     "iopub.execute_input": "2021-09-27T07:17:33.996149Z",
     "iopub.status.busy": "2021-09-27T07:17:33.995753Z",
     "iopub.status.idle": "2021-09-27T07:17:34.030639Z",
     "shell.execute_reply": "2021-09-27T07:17:34.030291Z"
    }
   },
   "outputs": [
    {
     "data": {
      "image/svg+xml": [
       "<?xml version=\"1.0\" encoding=\"UTF-8\" standalone=\"no\"?><svg xmlns=\"http://www.w3.org/2000/svg\" xmlns:xlink=\"http://www.w3.org/1999/xlink\" contentScriptType=\"application/ecmascript\" contentStyleType=\"text/css\" height=\"533px\" preserveAspectRatio=\"none\" style=\"width:241px;height:533px;\" version=\"1.1\" viewBox=\"0 0 241 533\" width=\"241px\" zoomAndPan=\"magnify\"><defs><filter height=\"300%\" id=\"f1sgh9gs9e3p3m\" width=\"300%\" x=\"-1\" y=\"-1\"><feGaussianBlur result=\"blurOut\" stdDeviation=\"2.0\"/><feColorMatrix in=\"blurOut\" result=\"blurOut2\" type=\"matrix\" values=\"0 0 0 0 0 0 0 0 0 0 0 0 0 0 0 0 0 0 .4 0\"/><feOffset dx=\"4.0\" dy=\"4.0\" in=\"blurOut2\" result=\"blurOut3\"/><feBlend in=\"SourceGraphic\" in2=\"blurOut3\" mode=\"normal\"/></filter></defs><g><!--MD5=[fbc87193dbaf4d95561dea2c320d4a47]\n",
       "cluster E1--><a href=\"psysml:58064a58-d13b-4f80-a6f6-0eceb966f2f7\" target=\"_top\" title=\"psysml:58064a58-d13b-4f80-a6f6-0eceb966f2f7\" xlink:actuate=\"onRequest\" xlink:href=\"psysml:58064a58-d13b-4f80-a6f6-0eceb966f2f7\" xlink:show=\"new\" xlink:title=\"psysml:58064a58-d13b-4f80-a6f6-0eceb966f2f7\" xlink:type=\"simple\"><polygon fill=\"#FFFFFF\" filter=\"url(#f1sgh9gs9e3p3m)\" points=\"16,6,133,6,140,28.2969,219,28.2969,219,521,16,521,16,6\" style=\"stroke: #000000; stroke-width: 1.5;\"/><line style=\"stroke: #000000; stroke-width: 1.5;\" x1=\"16\" x2=\"140\" y1=\"28.2969\" y2=\"28.2969\"/><text fill=\"#000000\" font-family=\"sans-serif\" font-size=\"14\" font-weight=\"bold\" lengthAdjust=\"spacingAndGlyphs\" textLength=\"111\" x=\"20\" y=\"20.9951\">ConnectionTest</text></a><!--MD5=[b4997ac47864f28c2f74865a473b2911]\n",
       "class E2--><a href=\"psysml:98bc980e-08bf-4c08-bf0e-335abb3c4ffd\" target=\"_top\" title=\"psysml:98bc980e-08bf-4c08-bf0e-335abb3c4ffd\" xlink:actuate=\"onRequest\" xlink:href=\"psysml:98bc980e-08bf-4c08-bf0e-335abb3c4ffd\" xlink:show=\"new\" xlink:title=\"psysml:98bc980e-08bf-4c08-bf0e-335abb3c4ffd\" xlink:type=\"simple\"><rect fill=\"#FEFECE\" filter=\"url(#f1sgh9gs9e3p3m)\" height=\"45.9375\" id=\"E2\" rx=\"10\" ry=\"10\" style=\"stroke: #A80036; stroke-width: 1.5;\" width=\"68\" x=\"102\" y=\"247\"/><ellipse cx=\"117\" cy=\"265.9688\" fill=\"#32CD32\" rx=\"11\" ry=\"11\" style=\"stroke: #A80036; stroke-width: 1.0;\"/><path d=\"M113.8125,270.9688 L113.8125,260.375 L117.4219,260.375 Q118.6406,260.375 119.4375,260.8125 Q120.2344,261.2344 120.6094,261.9375 Q121,262.6406 121,263.4844 Q121,264.3281 120.625,265.0156 Q120.2656,265.7031 119.4688,266.125 Q118.6875,266.5313 117.5,266.5313 L115.7656,266.5313 L115.7656,270.9688 L113.8125,270.9688 Z M115.7656,264.9375 L117.375,264.9375 Q118.1875,264.9375 118.6094,264.5313 Q119.0313,264.125 119.0313,263.4844 Q119.0313,262.8594 118.6094,262.4531 Q118.1875,262.0469 117.3906,262.0469 L115.7656,262.0469 L115.7656,264.9375 Z \"/><text fill=\"#000000\" font-family=\"sans-serif\" font-size=\"12\" font-style=\"italic\" lengthAdjust=\"spacingAndGlyphs\" textLength=\"40\" x=\"129\" y=\"263.1387\">«part»</text><text fill=\"#000000\" font-family=\"sans-serif\" font-size=\"12\" lengthAdjust=\"spacingAndGlyphs\" textLength=\"8\" x=\"145\" y=\"277.1074\">p</text><line style=\"stroke: #A80036; stroke-width: 1.5;\" x1=\"103\" x2=\"169\" y1=\"284.9375\" y2=\"284.9375\"/></a><!--MD5=[09b614a08d8cba4a07c9adeb5e0fee81]\n",
       "class E3--><a href=\"psysml:c51e79ce-7cf1-4bdb-aba6-5cab2657d431\" target=\"_top\" title=\"psysml:c51e79ce-7cf1-4bdb-aba6-5cab2657d431\" xlink:actuate=\"onRequest\" xlink:href=\"psysml:c51e79ce-7cf1-4bdb-aba6-5cab2657d431\" xlink:show=\"new\" xlink:title=\"psysml:c51e79ce-7cf1-4bdb-aba6-5cab2657d431\" xlink:type=\"simple\"><rect fill=\"#FEFECE\" filter=\"url(#f1sgh9gs9e3p3m)\" height=\"45.9375\" id=\"E3\" rx=\"10\" ry=\"10\" style=\"stroke: #A80036; stroke-width: 1.5;\" width=\"68\" x=\"135\" y=\"353\"/><ellipse cx=\"150\" cy=\"371.9688\" fill=\"#32CD32\" rx=\"11\" ry=\"11\" style=\"stroke: #A80036; stroke-width: 1.0;\"/><path d=\"M146.8125,376.9688 L146.8125,366.375 L150.4219,366.375 Q151.6406,366.375 152.4375,366.8125 Q153.2344,367.2344 153.6094,367.9375 Q154,368.6406 154,369.4844 Q154,370.3281 153.625,371.0156 Q153.2656,371.7031 152.4688,372.125 Q151.6875,372.5313 150.5,372.5313 L148.7656,372.5313 L148.7656,376.9688 L146.8125,376.9688 Z M148.7656,370.9375 L150.375,370.9375 Q151.1875,370.9375 151.6094,370.5313 Q152.0313,370.125 152.0313,369.4844 Q152.0313,368.8594 151.6094,368.4531 Q151.1875,368.0469 150.3906,368.0469 L148.7656,368.0469 L148.7656,370.9375 Z \"/><text fill=\"#000000\" font-family=\"sans-serif\" font-size=\"12\" font-style=\"italic\" lengthAdjust=\"spacingAndGlyphs\" textLength=\"40\" x=\"162\" y=\"369.1387\">«part»</text><text fill=\"#000000\" font-family=\"sans-serif\" font-size=\"12\" lengthAdjust=\"spacingAndGlyphs\" textLength=\"6\" x=\"179\" y=\"383.1074\">x</text><line style=\"stroke: #A80036; stroke-width: 1.5;\" x1=\"136\" x2=\"202\" y1=\"390.9375\" y2=\"390.9375\"/></a><!--MD5=[ebbe1d658d1005bcc118a6aa81145e00]\n",
       "class E4--><a href=\"psysml:31f41755-661a-4a53-a2bb-f2dfc01c0edf\" target=\"_top\" title=\"psysml:31f41755-661a-4a53-a2bb-f2dfc01c0edf\" xlink:actuate=\"onRequest\" xlink:href=\"psysml:31f41755-661a-4a53-a2bb-f2dfc01c0edf\" xlink:show=\"new\" xlink:title=\"psysml:31f41755-661a-4a53-a2bb-f2dfc01c0edf\" xlink:type=\"simple\"><rect fill=\"#FEFECE\" filter=\"url(#f1sgh9gs9e3p3m)\" height=\"45.9375\" id=\"E4\" rx=\"10\" ry=\"10\" style=\"stroke: #A80036; stroke-width: 1.5;\" width=\"68\" x=\"135\" y=\"459\"/><ellipse cx=\"150\" cy=\"477.9688\" fill=\"#32CD32\" rx=\"11\" ry=\"11\" style=\"stroke: #A80036; stroke-width: 1.0;\"/><path d=\"M146.8125,482.9688 L146.8125,472.375 L150.4219,472.375 Q151.6406,472.375 152.4375,472.8125 Q153.2344,473.2344 153.6094,473.9375 Q154,474.6406 154,475.4844 Q154,476.3281 153.625,477.0156 Q153.2656,477.7031 152.4688,478.125 Q151.6875,478.5313 150.5,478.5313 L148.7656,478.5313 L148.7656,482.9688 L146.8125,482.9688 Z M148.7656,476.9375 L150.375,476.9375 Q151.1875,476.9375 151.6094,476.5313 Q152.0313,476.125 152.0313,475.4844 Q152.0313,474.8594 151.6094,474.4531 Q151.1875,474.0469 150.3906,474.0469 L148.7656,474.0469 L148.7656,476.9375 Z \"/><text fill=\"#000000\" font-family=\"sans-serif\" font-size=\"12\" font-style=\"italic\" lengthAdjust=\"spacingAndGlyphs\" textLength=\"40\" x=\"162\" y=\"475.1387\">«part»</text><text fill=\"#000000\" font-family=\"sans-serif\" font-size=\"12\" lengthAdjust=\"spacingAndGlyphs\" textLength=\"14\" x=\"175\" y=\"489.1074\">x1</text><line style=\"stroke: #A80036; stroke-width: 1.5;\" x1=\"136\" x2=\"202\" y1=\"496.9375\" y2=\"496.9375\"/></a><!--MD5=[270fce915f116d4de14055a7c1d9a0f3]\n",
       "class E5--><a href=\"psysml:9833d686-e720-46bf-b438-35dbd29b7a16\" target=\"_top\" title=\"psysml:9833d686-e720-46bf-b438-35dbd29b7a16\" xlink:actuate=\"onRequest\" xlink:href=\"psysml:9833d686-e720-46bf-b438-35dbd29b7a16\" xlink:show=\"new\" xlink:title=\"psysml:9833d686-e720-46bf-b438-35dbd29b7a16\" xlink:type=\"simple\"><rect fill=\"#FEFECE\" filter=\"url(#f1sgh9gs9e3p3m)\" height=\"40\" id=\"E5\" style=\"stroke: #A80036; stroke-width: 1.5;\" width=\"40\" x=\"81\" y=\"41\"/><ellipse cx=\"96\" cy=\"57\" fill=\"#008000\" rx=\"11\" ry=\"11\" style=\"stroke: #A80036; stroke-width: 1.0;\"/><path d=\"M92.875,62 L92.875,51.4063 L96.1094,51.4063 Q98.0156,51.4063 98.9219,52.1563 Q99.8438,52.9063 99.8438,54.0781 Q99.8438,54.7656 99.4531,55.4219 Q99.0781,56.0781 98.3594,56.375 Q99.2188,56.75 99.7344,57.4375 Q100.25,58.125 100.25,58.9375 Q100.25,60.3125 99.2188,61.1563 Q98.2031,62 96.0938,62 L92.875,62 Z M94.7969,55.6406 L95.9531,55.6406 Q97.0781,55.6406 97.4844,55.2656 Q97.9063,54.875 97.9063,54.25 Q97.9063,53.6719 97.4844,53.3125 Q97.0625,52.9531 96.125,52.9531 L94.7969,52.9531 L94.7969,55.6406 Z M94.7969,60.4219 L96.2969,60.4219 Q97.2031,60.4219 97.7344,60.0313 Q98.2656,59.6406 98.2656,58.8906 Q98.2656,58.125 97.7656,57.6563 Q97.2656,57.1719 96,57.1719 L94.7969,57.1719 L94.7969,60.4219 Z \"/><text fill=\"#000000\" font-family=\"sans-serif\" font-size=\"12\" lengthAdjust=\"spacingAndGlyphs\" textLength=\"8\" x=\"110\" y=\"61.1543\">P</text><line style=\"stroke: #A80036; stroke-width: 1.5;\" x1=\"82\" x2=\"120\" y1=\"73\" y2=\"73\"/></a><!--MD5=[60a26617385b1d2d0262a64233df1f8d]\n",
       "class E6--><a href=\"psysml:f96f9e94-0e28-4abd-b8cb-5d3679a708db\" target=\"_top\" title=\"psysml:f96f9e94-0e28-4abd-b8cb-5d3679a708db\" xlink:actuate=\"onRequest\" xlink:href=\"psysml:f96f9e94-0e28-4abd-b8cb-5d3679a708db\" xlink:show=\"new\" xlink:title=\"psysml:f96f9e94-0e28-4abd-b8cb-5d3679a708db\" xlink:type=\"simple\"><rect fill=\"#FEFECE\" filter=\"url(#f1sgh9gs9e3p3m)\" height=\"45.9375\" id=\"E6\" rx=\"10\" ry=\"10\" style=\"stroke: #A80036; stroke-width: 1.5;\" width=\"68\" x=\"32\" y=\"353\"/><ellipse cx=\"47\" cy=\"371.9688\" fill=\"#32CD32\" rx=\"11\" ry=\"11\" style=\"stroke: #A80036; stroke-width: 1.0;\"/><path d=\"M43.8125,376.9688 L43.8125,366.375 L47.4219,366.375 Q48.6406,366.375 49.4375,366.8125 Q50.2344,367.2344 50.6094,367.9375 Q51,368.6406 51,369.4844 Q51,370.3281 50.625,371.0156 Q50.2656,371.7031 49.4688,372.125 Q48.6875,372.5313 47.5,372.5313 L45.7656,372.5313 L45.7656,376.9688 L43.8125,376.9688 Z M45.7656,370.9375 L47.375,370.9375 Q48.1875,370.9375 48.6094,370.5313 Q49.0313,370.125 49.0313,369.4844 Q49.0313,368.8594 48.6094,368.4531 Q48.1875,368.0469 47.3906,368.0469 L45.7656,368.0469 L45.7656,370.9375 Z \"/><text fill=\"#000000\" font-family=\"sans-serif\" font-size=\"12\" font-style=\"italic\" lengthAdjust=\"spacingAndGlyphs\" textLength=\"40\" x=\"59\" y=\"369.1387\">«part»</text><text fill=\"#000000\" font-family=\"sans-serif\" font-size=\"12\" lengthAdjust=\"spacingAndGlyphs\" textLength=\"6\" x=\"76\" y=\"383.1074\">y</text><line style=\"stroke: #A80036; stroke-width: 1.5;\" x1=\"33\" x2=\"99\" y1=\"390.9375\" y2=\"390.9375\"/></a><!--MD5=[2156ba9850f5573cc1fc38a6a4b2f02b]\n",
       "class E7--><a href=\"psysml:2279d5a4-5f0e-43ce-88bf-f6ddb21c3f25\" target=\"_top\" title=\"psysml:2279d5a4-5f0e-43ce-88bf-f6ddb21c3f25\" xlink:actuate=\"onRequest\" xlink:href=\"psysml:2279d5a4-5f0e-43ce-88bf-f6ddb21c3f25\" xlink:show=\"new\" xlink:title=\"psysml:2279d5a4-5f0e-43ce-88bf-f6ddb21c3f25\" xlink:type=\"simple\"><rect fill=\"#FEFECE\" filter=\"url(#f1sgh9gs9e3p3m)\" height=\"45.9375\" id=\"E7\" rx=\"10\" ry=\"10\" style=\"stroke: #A80036; stroke-width: 1.5;\" width=\"68\" x=\"102\" y=\"141\"/><ellipse cx=\"117\" cy=\"159.9688\" fill=\"#32CD32\" rx=\"11\" ry=\"11\" style=\"stroke: #A80036; stroke-width: 1.0;\"/><path d=\"M113.8125,164.9688 L113.8125,154.375 L117.4219,154.375 Q118.6406,154.375 119.4375,154.8125 Q120.2344,155.2344 120.6094,155.9375 Q121,156.6406 121,157.4844 Q121,158.3281 120.625,159.0156 Q120.2656,159.7031 119.4688,160.125 Q118.6875,160.5313 117.5,160.5313 L115.7656,160.5313 L115.7656,164.9688 L113.8125,164.9688 Z M115.7656,158.9375 L117.375,158.9375 Q118.1875,158.9375 118.6094,158.5313 Q119.0313,158.125 119.0313,157.4844 Q119.0313,156.8594 118.6094,156.4531 Q118.1875,156.0469 117.3906,156.0469 L115.7656,156.0469 L115.7656,158.9375 Z \"/><text fill=\"#000000\" font-family=\"sans-serif\" font-size=\"12\" font-style=\"italic\" lengthAdjust=\"spacingAndGlyphs\" textLength=\"40\" x=\"129\" y=\"157.1387\">«part»</text><text fill=\"#000000\" font-family=\"sans-serif\" font-size=\"12\" lengthAdjust=\"spacingAndGlyphs\" textLength=\"16\" x=\"141\" y=\"171.1074\">p1</text><line style=\"stroke: #A80036; stroke-width: 1.5;\" x1=\"103\" x2=\"169\" y1=\"178.9375\" y2=\"178.9375\"/></a><!--MD5=[209b3feb70ccb6233bfe1053d122c12c]\n",
       "reverse link E2 to E3--><a href=\"psysml:1ffc18c1-940f-43c3-a54c-dcf9b76281a6\" target=\"_top\" title=\"psysml:1ffc18c1-940f-43c3-a54c-dcf9b76281a6\" xlink:actuate=\"onRequest\" xlink:href=\"psysml:1ffc18c1-940f-43c3-a54c-dcf9b76281a6\" xlink:show=\"new\" xlink:title=\"psysml:1ffc18c1-940f-43c3-a54c-dcf9b76281a6\" xlink:type=\"simple\"><path d=\"M146.95,305.49 C151.91,321.15 157.64,339.19 162.01,352.98 \" fill=\"none\" id=\"E2&lt;-E3\" style=\"stroke: #A80036; stroke-width: 1.0;\"/><polygon fill=\"#A80036\" points=\"143,293.06,140.9989,299.9879,146.6243,304.4996,148.6253,297.5717,143,293.06\" style=\"stroke: #A80036; stroke-width: 1.0;\"/><text fill=\"#000000\" font-family=\"sans-serif\" font-size=\"13\" lengthAdjust=\"spacingAndGlyphs\" textLength=\"8\" x=\"151.0564\" y=\"341.8709\">1</text></a><!--MD5=[4672eba38e49728da53d11aeb285b987]\n",
       "reverse link E3 to E4--><a href=\"psysml:3d75ef33-b13b-4214-af18-b5d2941be4f9\" target=\"_top\" title=\"psysml:3d75ef33-b13b-4214-af18-b5d2941be4f9\" xlink:actuate=\"onRequest\" xlink:href=\"psysml:3d75ef33-b13b-4214-af18-b5d2941be4f9\" xlink:show=\"new\" xlink:title=\"psysml:3d75ef33-b13b-4214-af18-b5d2941be4f9\" xlink:type=\"simple\"><path d=\"M169,412.44 C169,427.87 169,445.47 169,458.98 \" fill=\"none\" id=\"E3&lt;-E4\" style=\"stroke: #A80036; stroke-width: 1.0;\"/><polygon fill=\"#A80036\" points=\"169,399.06,165,405.06,169,411.06,173,405.06,169,399.06\" style=\"stroke: #A80036; stroke-width: 1.0;\"/><text fill=\"#000000\" font-family=\"sans-serif\" font-size=\"13\" lengthAdjust=\"spacingAndGlyphs\" textLength=\"8\" x=\"159.925\" y=\"447.8709\">1</text></a><!--MD5=[85d356282659285ab4b2cfe2f634dd2b]\n",
       "reverse link E5 to E6--><a href=\"psysml:d68af8b5-54d9-4416-b26b-1e36c98f2c99\" target=\"_top\" title=\"psysml:d68af8b5-54d9-4416-b26b-1e36c98f2c99\" xlink:actuate=\"onRequest\" xlink:href=\"psysml:d68af8b5-54d9-4416-b26b-1e36c98f2c99\" xlink:show=\"new\" xlink:title=\"psysml:d68af8b5-54d9-4416-b26b-1e36c98f2c99\" xlink:type=\"simple\"><path d=\"M93.66,93.79 C90.58,108.14 87.21,125.35 85,141 C74.05,218.49 68.84,311.37 66.92,352.97 \" fill=\"none\" id=\"E5&lt;-E6\" style=\"stroke: #A80036; stroke-width: 1.0;\"/><polygon fill=\"#A80036\" points=\"96.48,81.05,91.282,86.0481,93.8964,92.7686,99.0944,87.7705,96.48,81.05\" style=\"stroke: #A80036; stroke-width: 1.0;\"/><text fill=\"#000000\" font-family=\"sans-serif\" font-size=\"13\" lengthAdjust=\"spacingAndGlyphs\" textLength=\"8\" x=\"58.0923\" y=\"341.8582\">1</text></a><!--MD5=[e3e28c1befcf002155aa15e1416b4315]\n",
       "link E2 to E6--><a href=\"psysml:901b44a6-3b8d-4bea-9e51-ad40652cd7ff\" target=\"_top\" title=\"psysml:901b44a6-3b8d-4bea-9e51-ad40652cd7ff\" xlink:actuate=\"onRequest\" xlink:href=\"psysml:901b44a6-3b8d-4bea-9e51-ad40652cd7ff\" xlink:show=\"new\" xlink:title=\"psysml:901b44a6-3b8d-4bea-9e51-ad40652cd7ff\" xlink:type=\"simple\"><path d=\"M121.15,293.06 C109.28,310.7 92.7,335.34 80.82,352.98 \" fill=\"none\" id=\"E2-E6\" style=\"stroke: #A80036; stroke-width: 3.0;\"/><text fill=\"#000000\" font-family=\"sans-serif\" font-size=\"13\" lengthAdjust=\"spacingAndGlyphs\" textLength=\"7\" x=\"76.8622\" y=\"341.8709\">*</text></a><!--MD5=[452b418e7f8a40397a49b8c0a78acc5b]\n",
       "reverse link E5 to E7--><a href=\"psysml:5a5926b8-11d9-4284-b6a0-db32c9e29bb2\" target=\"_top\" title=\"psysml:5a5926b8-11d9-4284-b6a0-db32c9e29bb2\" xlink:actuate=\"onRequest\" xlink:href=\"psysml:5a5926b8-11d9-4284-b6a0-db32c9e29bb2\" xlink:show=\"new\" xlink:title=\"psysml:5a5926b8-11d9-4284-b6a0-db32c9e29bb2\" xlink:type=\"simple\"><path d=\"M112.09,94.01 C117.37,109.23 123.54,127.06 128.3,140.77 \" fill=\"none\" id=\"E5&lt;-E7\" style=\"stroke: #A80036; stroke-width: 1.0;\"/><polygon fill=\"#A80036\" points=\"107.75,81.47,105.9375,88.4496,111.683,92.8072,113.4956,85.8276,107.75,81.47\" style=\"stroke: #A80036; stroke-width: 1.0;\"/><text fill=\"#000000\" font-family=\"sans-serif\" font-size=\"13\" lengthAdjust=\"spacingAndGlyphs\" textLength=\"8\" x=\"117.3019\" y=\"129.9874\">1</text></a><!--MD5=[583832df87f4419a098336a29a52fa00]\n",
       "link E7 to E2--><a href=\"psysml:dd540a25-2742-496a-aaa6-3ea5cc8a4940\" target=\"_top\" title=\"psysml:dd540a25-2742-496a-aaa6-3ea5cc8a4940\" xlink:actuate=\"onRequest\" xlink:href=\"psysml:dd540a25-2742-496a-aaa6-3ea5cc8a4940\" xlink:show=\"new\" xlink:title=\"psysml:dd540a25-2742-496a-aaa6-3ea5cc8a4940\" xlink:type=\"simple\"><path d=\"M136,187.06 C136,198.64 136,213.23 136,226.87 \" fill=\"none\" id=\"E7-&gt;E2\" style=\"stroke: #A80036; stroke-width: 1.0;\"/><polygon fill=\"none\" points=\"143,226.98,136,246.98,129,226.98,143,226.98\" style=\"stroke: #A80036; stroke-width: 1.0;\"/></a><!--MD5=[7689e3e371a0426d05869378f9c835a4]\n",
       "@startuml\r\n",
       " \r\n",
       "package \"ConnectionTest\" as E1  [[psysml:58064a58-d13b-4f80-a6f6-0eceb966f2f7 ]]  {\r\n",
       "comp usage \"p\" as E2 << << (P,limegreen) part>> [[psysml:98bc980e-08bf-4c08-bf0e-335abb3c4ffd ]] {\r\n",
       "}\r\n",
       "comp usage \"x\" as E3 << << (P,limegreen) part>> [[psysml:c51e79ce-7cf1-4bdb-aba6-5cab2657d431 ]] {\r\n",
       "}\r\n",
       "comp usage \"x1\" as E4 << << (P,limegreen) part>> [[psysml:31f41755-661a-4a53-a2bb-f2dfc01c0edf ]] {\r\n",
       "}\r\n",
       "comp def \"P\" as E5 << << (B,green) >> [[psysml:9833d686-e720-46bf-b438-35dbd29b7a16 ]] {\r\n",
       "}\r\n",
       "comp usage \"y\" as E6 << << (P,limegreen) part>> [[psysml:f96f9e94-0e28-4abd-b8cb-5d3679a708db ]] {\r\n",
       "}\r\n",
       "comp usage \"p1\" as E7 << << (P,limegreen) part>> [[psysml:2279d5a4-5f0e-43ce-88bf-f6ddb21c3f25 ]] {\r\n",
       "}\r\n",
       "}\r\n",
       "E2 *- - \"1\"E3 [[psysml:1ffc18c1-940f-43c3-a54c-dcf9b76281a6 ]] \r\n",
       "E3 *- - \"1\"E4 [[psysml:3d75ef33-b13b-4214-af18-b5d2941be4f9 ]] \r\n",
       "E5 *- - \"1\"E6 [[psysml:d68af8b5-54d9-4416-b26b-1e36c98f2c99 ]] \r\n",
       "E2 -[thickness=3]- \"*\"E6 [[psysml:901b44a6-3b8d-4bea-9e51-ad40652cd7ff ]] \r\n",
       "E5 *- - \"1\"E7 [[psysml:5a5926b8-11d9-4284-b6a0-db32c9e29bb2 ]] \r\n",
       "E7 - -|> E2 [[psysml:dd540a25-2742-496a-aaa6-3ea5cc8a4940 ]] \r\n",
       "@enduml\r\n",
       "\n",
       "PlantUML version 1.2020.13(Sat Jun 13 12:26:38 UTC 2020)\n",
       "(EPL source distribution)\n",
       "Java Runtime: OpenJDK Runtime Environment\n",
       "JVM: OpenJDK 64-Bit Server VM\n",
       "Default Encoding: UTF-8\n",
       "Language: en\n",
       "Country: null\n",
       "--></g></svg>"
      ]
     },
     "execution_count": 36,
     "metadata": {},
     "output_type": "execute_result"
    }
   ],
   "source": [
    "%viz --style=\"PLANTUML\" --view=\"MIXED\" \"ConnectionTest\""
   ]
  },
  {
   "cell_type": "code",
   "execution_count": 37,
   "id": "f16a6334",
   "metadata": {
    "execution": {
     "iopub.execute_input": "2021-09-27T07:17:34.080060Z",
     "iopub.status.busy": "2021-09-27T07:17:34.079664Z",
     "iopub.status.idle": "2021-09-27T07:17:34.112627Z",
     "shell.execute_reply": "2021-09-27T07:17:34.112278Z"
    }
   },
   "outputs": [
    {
     "data": {
      "image/svg+xml": [
       "<?xml version=\"1.0\" encoding=\"UTF-8\" standalone=\"no\"?><svg xmlns=\"http://www.w3.org/2000/svg\" xmlns:xlink=\"http://www.w3.org/1999/xlink\" contentScriptType=\"application/ecmascript\" contentStyleType=\"text/css\" height=\"539px\" preserveAspectRatio=\"none\" style=\"width:189px;height:539px;\" version=\"1.1\" viewBox=\"0 0 189 539\" width=\"189px\" zoomAndPan=\"magnify\"><defs/><g><!--MD5=[fbc87193dbaf4d95561dea2c320d4a47]\n",
       "cluster E1--><a href=\"psysml:58064a58-d13b-4f80-a6f6-0eceb966f2f7\" target=\"_top\" title=\"psysml:58064a58-d13b-4f80-a6f6-0eceb966f2f7\" xlink:actuate=\"onRequest\" xlink:href=\"psysml:58064a58-d13b-4f80-a6f6-0eceb966f2f7\" xlink:show=\"new\" xlink:title=\"psysml:58064a58-d13b-4f80-a6f6-0eceb966f2f7\" xlink:type=\"simple\"><polygon fill=\"#FFFFFF\" points=\"16,6,133,6,140,28.2969,167,28.2969,167,527,16,527,16,6\" style=\"stroke: #000000; stroke-width: 1.5;\"/><line style=\"stroke: #000000; stroke-width: 1.5;\" x1=\"16\" x2=\"140\" y1=\"28.2969\" y2=\"28.2969\"/><text fill=\"#000000\" font-family=\"sans-serif\" font-size=\"14\" font-weight=\"bold\" lengthAdjust=\"spacingAndGlyphs\" textLength=\"111\" x=\"20\" y=\"20.9951\">ConnectionTest</text></a><!--MD5=[b4997ac47864f28c2f74865a473b2911]\n",
       "class E2--><a href=\"psysml:98bc980e-08bf-4c08-bf0e-335abb3c4ffd\" target=\"_top\" title=\"psysml:98bc980e-08bf-4c08-bf0e-335abb3c4ffd\" xlink:actuate=\"onRequest\" xlink:href=\"psysml:98bc980e-08bf-4c08-bf0e-335abb3c4ffd\" xlink:show=\"new\" xlink:title=\"psysml:98bc980e-08bf-4c08-bf0e-335abb3c4ffd\" xlink:type=\"simple\"><rect fill=\"#FFFFFF\" height=\"45.9375\" id=\"E2\" rx=\"10\" ry=\"10\" style=\"stroke: #383838; stroke-width: 1.5;\" width=\"42\" x=\"89\" y=\"253\"/><text fill=\"#000000\" font-family=\"sans-serif\" font-size=\"12\" font-style=\"italic\" lengthAdjust=\"spacingAndGlyphs\" textLength=\"40\" x=\"90\" y=\"269.1387\">«part»</text><text fill=\"#000000\" font-family=\"sans-serif\" font-size=\"12\" lengthAdjust=\"spacingAndGlyphs\" textLength=\"8\" x=\"106\" y=\"283.1074\">p</text><line style=\"stroke: #383838; stroke-width: 1.5;\" x1=\"90\" x2=\"130\" y1=\"290.9375\" y2=\"290.9375\"/></a><!--MD5=[09b614a08d8cba4a07c9adeb5e0fee81]\n",
       "class E3--><a href=\"psysml:c51e79ce-7cf1-4bdb-aba6-5cab2657d431\" target=\"_top\" title=\"psysml:c51e79ce-7cf1-4bdb-aba6-5cab2657d431\" xlink:actuate=\"onRequest\" xlink:href=\"psysml:c51e79ce-7cf1-4bdb-aba6-5cab2657d431\" xlink:show=\"new\" xlink:title=\"psysml:c51e79ce-7cf1-4bdb-aba6-5cab2657d431\" xlink:type=\"simple\"><rect fill=\"#FFFFFF\" height=\"45.9375\" id=\"E3\" rx=\"10\" ry=\"10\" style=\"stroke: #383838; stroke-width: 1.5;\" width=\"42\" x=\"109\" y=\"359\"/><text fill=\"#000000\" font-family=\"sans-serif\" font-size=\"12\" font-style=\"italic\" lengthAdjust=\"spacingAndGlyphs\" textLength=\"40\" x=\"110\" y=\"375.1387\">«part»</text><text fill=\"#000000\" font-family=\"sans-serif\" font-size=\"12\" lengthAdjust=\"spacingAndGlyphs\" textLength=\"6\" x=\"127\" y=\"389.1074\">x</text><line style=\"stroke: #383838; stroke-width: 1.5;\" x1=\"110\" x2=\"150\" y1=\"396.9375\" y2=\"396.9375\"/></a><!--MD5=[ebbe1d658d1005bcc118a6aa81145e00]\n",
       "class E4--><a href=\"psysml:31f41755-661a-4a53-a2bb-f2dfc01c0edf\" target=\"_top\" title=\"psysml:31f41755-661a-4a53-a2bb-f2dfc01c0edf\" xlink:actuate=\"onRequest\" xlink:href=\"psysml:31f41755-661a-4a53-a2bb-f2dfc01c0edf\" xlink:show=\"new\" xlink:title=\"psysml:31f41755-661a-4a53-a2bb-f2dfc01c0edf\" xlink:type=\"simple\"><rect fill=\"#FFFFFF\" height=\"45.9375\" id=\"E4\" rx=\"10\" ry=\"10\" style=\"stroke: #383838; stroke-width: 1.5;\" width=\"42\" x=\"109\" y=\"465\"/><text fill=\"#000000\" font-family=\"sans-serif\" font-size=\"12\" font-style=\"italic\" lengthAdjust=\"spacingAndGlyphs\" textLength=\"40\" x=\"110\" y=\"481.1387\">«part»</text><text fill=\"#000000\" font-family=\"sans-serif\" font-size=\"12\" lengthAdjust=\"spacingAndGlyphs\" textLength=\"14\" x=\"123\" y=\"495.1074\">x1</text><line style=\"stroke: #383838; stroke-width: 1.5;\" x1=\"110\" x2=\"150\" y1=\"502.9375\" y2=\"502.9375\"/></a><!--MD5=[270fce915f116d4de14055a7c1d9a0f3]\n",
       "class E5--><a href=\"psysml:9833d686-e720-46bf-b438-35dbd29b7a16\" target=\"_top\" title=\"psysml:9833d686-e720-46bf-b438-35dbd29b7a16\" xlink:actuate=\"onRequest\" xlink:href=\"psysml:9833d686-e720-46bf-b438-35dbd29b7a16\" xlink:show=\"new\" xlink:title=\"psysml:9833d686-e720-46bf-b438-35dbd29b7a16\" xlink:type=\"simple\"><rect fill=\"#FFFFFF\" height=\"45.9375\" id=\"E5\" style=\"stroke: #383838; stroke-width: 1.5;\" width=\"66\" x=\"54\" y=\"41\"/><text fill=\"#000000\" font-family=\"sans-serif\" font-size=\"12\" font-style=\"italic\" lengthAdjust=\"spacingAndGlyphs\" textLength=\"64\" x=\"55\" y=\"57.1387\">«part def»</text><text fill=\"#000000\" font-family=\"sans-serif\" font-size=\"12\" lengthAdjust=\"spacingAndGlyphs\" textLength=\"8\" x=\"83\" y=\"71.1074\">P</text><line style=\"stroke: #383838; stroke-width: 1.5;\" x1=\"55\" x2=\"119\" y1=\"78.9375\" y2=\"78.9375\"/></a><!--MD5=[60a26617385b1d2d0262a64233df1f8d]\n",
       "class E6--><a href=\"psysml:f96f9e94-0e28-4abd-b8cb-5d3679a708db\" target=\"_top\" title=\"psysml:f96f9e94-0e28-4abd-b8cb-5d3679a708db\" xlink:actuate=\"onRequest\" xlink:href=\"psysml:f96f9e94-0e28-4abd-b8cb-5d3679a708db\" xlink:show=\"new\" xlink:title=\"psysml:f96f9e94-0e28-4abd-b8cb-5d3679a708db\" xlink:type=\"simple\"><rect fill=\"#FFFFFF\" height=\"45.9375\" id=\"E6\" rx=\"10\" ry=\"10\" style=\"stroke: #383838; stroke-width: 1.5;\" width=\"42\" x=\"32\" y=\"359\"/><text fill=\"#000000\" font-family=\"sans-serif\" font-size=\"12\" font-style=\"italic\" lengthAdjust=\"spacingAndGlyphs\" textLength=\"40\" x=\"33\" y=\"375.1387\">«part»</text><text fill=\"#000000\" font-family=\"sans-serif\" font-size=\"12\" lengthAdjust=\"spacingAndGlyphs\" textLength=\"6\" x=\"50\" y=\"389.1074\">y</text><line style=\"stroke: #383838; stroke-width: 1.5;\" x1=\"33\" x2=\"73\" y1=\"396.9375\" y2=\"396.9375\"/></a><!--MD5=[2156ba9850f5573cc1fc38a6a4b2f02b]\n",
       "class E7--><a href=\"psysml:2279d5a4-5f0e-43ce-88bf-f6ddb21c3f25\" target=\"_top\" title=\"psysml:2279d5a4-5f0e-43ce-88bf-f6ddb21c3f25\" xlink:actuate=\"onRequest\" xlink:href=\"psysml:2279d5a4-5f0e-43ce-88bf-f6ddb21c3f25\" xlink:show=\"new\" xlink:title=\"psysml:2279d5a4-5f0e-43ce-88bf-f6ddb21c3f25\" xlink:type=\"simple\"><rect fill=\"#FFFFFF\" height=\"45.9375\" id=\"E7\" rx=\"10\" ry=\"10\" style=\"stroke: #383838; stroke-width: 1.5;\" width=\"42\" x=\"89\" y=\"147\"/><text fill=\"#000000\" font-family=\"sans-serif\" font-size=\"12\" font-style=\"italic\" lengthAdjust=\"spacingAndGlyphs\" textLength=\"40\" x=\"90\" y=\"163.1387\">«part»</text><text fill=\"#000000\" font-family=\"sans-serif\" font-size=\"12\" lengthAdjust=\"spacingAndGlyphs\" textLength=\"16\" x=\"102\" y=\"177.1074\">p1</text><line style=\"stroke: #383838; stroke-width: 1.5;\" x1=\"90\" x2=\"130\" y1=\"184.9375\" y2=\"184.9375\"/></a><!--MD5=[209b3feb70ccb6233bfe1053d122c12c]\n",
       "reverse link E2 to E3--><a href=\"psysml:1ffc18c1-940f-43c3-a54c-dcf9b76281a6\" target=\"_top\" title=\"psysml:1ffc18c1-940f-43c3-a54c-dcf9b76281a6\" xlink:actuate=\"onRequest\" xlink:href=\"psysml:1ffc18c1-940f-43c3-a54c-dcf9b76281a6\" xlink:show=\"new\" xlink:title=\"psysml:1ffc18c1-940f-43c3-a54c-dcf9b76281a6\" xlink:type=\"simple\"><path d=\"M116.72,311.96 C119.71,327.51 123.14,345.33 125.76,358.98 \" fill=\"none\" id=\"E2&lt;-E3\" style=\"stroke: #383838; stroke-width: 1.0;\"/><polygon fill=\"#383838\" points=\"114.24,299.06,111.447,305.7082,116.5096,310.8434,119.3026,304.1952,114.24,299.06\" style=\"stroke: #383838; stroke-width: 1.0;\"/><text fill=\"#000000\" font-family=\"sans-serif\" font-size=\"13\" lengthAdjust=\"spacingAndGlyphs\" textLength=\"8\" x=\"115.5455\" y=\"347.8709\">1</text></a><!--MD5=[4672eba38e49728da53d11aeb285b987]\n",
       "reverse link E3 to E4--><a href=\"psysml:3d75ef33-b13b-4214-af18-b5d2941be4f9\" target=\"_top\" title=\"psysml:3d75ef33-b13b-4214-af18-b5d2941be4f9\" xlink:actuate=\"onRequest\" xlink:href=\"psysml:3d75ef33-b13b-4214-af18-b5d2941be4f9\" xlink:show=\"new\" xlink:title=\"psysml:3d75ef33-b13b-4214-af18-b5d2941be4f9\" xlink:type=\"simple\"><path d=\"M130,418.44 C130,433.87 130,451.47 130,464.98 \" fill=\"none\" id=\"E3&lt;-E4\" style=\"stroke: #383838; stroke-width: 1.0;\"/><polygon fill=\"#383838\" points=\"130,405.06,126,411.06,130,417.06,134,411.06,130,405.06\" style=\"stroke: #383838; stroke-width: 1.0;\"/><text fill=\"#000000\" font-family=\"sans-serif\" font-size=\"13\" lengthAdjust=\"spacingAndGlyphs\" textLength=\"8\" x=\"120.925\" y=\"453.8709\">1</text></a><!--MD5=[85d356282659285ab4b2cfe2f634dd2b]\n",
       "reverse link E5 to E6--><a href=\"psysml:d68af8b5-54d9-4416-b26b-1e36c98f2c99\" target=\"_top\" title=\"psysml:d68af8b5-54d9-4416-b26b-1e36c98f2c99\" xlink:actuate=\"onRequest\" xlink:href=\"psysml:d68af8b5-54d9-4416-b26b-1e36c98f2c99\" xlink:show=\"new\" xlink:title=\"psysml:d68af8b5-54d9-4416-b26b-1e36c98f2c99\" xlink:type=\"simple\"><path d=\"M79.77,100.15 C77.01,114.61 74.03,131.56 72,147 C61.78,224.59 56.2,317.42 54.05,358.98 \" fill=\"none\" id=\"E5&lt;-E6\" style=\"stroke: #383838; stroke-width: 1.0;\"/><polygon fill=\"#383838\" points=\"82.32,87.18,77.2408,92.2988,80.0123,98.956,85.0915,93.8372,82.32,87.18\" style=\"stroke: #383838; stroke-width: 1.0;\"/><text fill=\"#000000\" font-family=\"sans-serif\" font-size=\"13\" lengthAdjust=\"spacingAndGlyphs\" textLength=\"8\" x=\"45.2572\" y=\"347.8709\">1</text></a><!--MD5=[e3e28c1befcf002155aa15e1416b4315]\n",
       "link E2 to E6--><a href=\"psysml:901b44a6-3b8d-4bea-9e51-ad40652cd7ff\" target=\"_top\" title=\"psysml:901b44a6-3b8d-4bea-9e51-ad40652cd7ff\" xlink:actuate=\"onRequest\" xlink:href=\"psysml:901b44a6-3b8d-4bea-9e51-ad40652cd7ff\" xlink:show=\"new\" xlink:title=\"psysml:901b44a6-3b8d-4bea-9e51-ad40652cd7ff\" xlink:type=\"simple\"><path d=\"M97.91,299.06 C88.24,316.7 74.74,341.34 65.07,358.98 \" fill=\"none\" id=\"E2-E6\" style=\"stroke: #383838; stroke-width: 3.0;\"/><text fill=\"#000000\" font-family=\"sans-serif\" font-size=\"13\" lengthAdjust=\"spacingAndGlyphs\" textLength=\"7\" x=\"60.3732\" y=\"347.8709\">*</text></a><!--MD5=[452b418e7f8a40397a49b8c0a78acc5b]\n",
       "reverse link E5 to E7--><a href=\"psysml:5a5926b8-11d9-4284-b6a0-db32c9e29bb2\" target=\"_top\" title=\"psysml:5a5926b8-11d9-4284-b6a0-db32c9e29bb2\" xlink:actuate=\"onRequest\" xlink:href=\"psysml:5a5926b8-11d9-4284-b6a0-db32c9e29bb2\" xlink:show=\"new\" xlink:title=\"psysml:5a5926b8-11d9-4284-b6a0-db32c9e29bb2\" xlink:type=\"simple\"><path d=\"M94.73,99.96 C98.17,115.51 102.11,133.33 105.13,146.98 \" fill=\"none\" id=\"E5&lt;-E7\" style=\"stroke: #383838; stroke-width: 1.0;\"/><polygon fill=\"#383838\" points=\"91.88,87.06,89.2656,93.7805,94.4636,98.7786,97.078,92.0581,91.88,87.06\" style=\"stroke: #383838; stroke-width: 1.0;\"/><text fill=\"#000000\" font-family=\"sans-serif\" font-size=\"13\" lengthAdjust=\"spacingAndGlyphs\" textLength=\"8\" x=\"94.7462\" y=\"135.8709\">1</text></a><!--MD5=[583832df87f4419a098336a29a52fa00]\n",
       "link E7 to E2--><a href=\"psysml:dd540a25-2742-496a-aaa6-3ea5cc8a4940\" target=\"_top\" title=\"psysml:dd540a25-2742-496a-aaa6-3ea5cc8a4940\" xlink:actuate=\"onRequest\" xlink:href=\"psysml:dd540a25-2742-496a-aaa6-3ea5cc8a4940\" xlink:show=\"new\" xlink:title=\"psysml:dd540a25-2742-496a-aaa6-3ea5cc8a4940\" xlink:type=\"simple\"><path d=\"M110,193.06 C110,204.64 110,219.23 110,232.87 \" fill=\"none\" id=\"E7-&gt;E2\" style=\"stroke: #383838; stroke-width: 1.0;\"/><polygon fill=\"none\" points=\"117,232.98,110,252.98,103,232.98,117,232.98\" style=\"stroke: #383838; stroke-width: 1.0;\"/></a><!--MD5=[1c5f881d0df3fb81871d3c2cdf606d56]\n",
       "@startuml\r\n",
       "skinparam monochrome true\r\n",
       "skinparam classbackgroundcolor white\r\n",
       "skinparam shadowing false\r\n",
       "skinparam wrapWidth 300\r\n",
       "hide circle\r\n",
       "\r\n",
       "package \"ConnectionTest\" as E1  [[psysml:58064a58-d13b-4f80-a6f6-0eceb966f2f7 ]]  {\r\n",
       "comp usage \"p\" as E2  <<(T,blue) part>> [[psysml:98bc980e-08bf-4c08-bf0e-335abb3c4ffd ]] {\r\n",
       "}\r\n",
       "comp usage \"x\" as E3  <<(T,blue) part>> [[psysml:c51e79ce-7cf1-4bdb-aba6-5cab2657d431 ]] {\r\n",
       "}\r\n",
       "comp usage \"x1\" as E4  <<(T,blue) part>> [[psysml:31f41755-661a-4a53-a2bb-f2dfc01c0edf ]] {\r\n",
       "}\r\n",
       "comp def \"P\" as E5  <<(T,blue) part def>> [[psysml:9833d686-e720-46bf-b438-35dbd29b7a16 ]] {\r\n",
       "}\r\n",
       "comp usage \"y\" as E6  <<(T,blue) part>> [[psysml:f96f9e94-0e28-4abd-b8cb-5d3679a708db ]] {\r\n",
       "}\r\n",
       "comp usage \"p1\" as E7  <<(T,blue) part>> [[psysml:2279d5a4-5f0e-43ce-88bf-f6ddb21c3f25 ]] {\r\n",
       "}\r\n",
       "}\r\n",
       "E2 *- - \"1\"E3 [[psysml:1ffc18c1-940f-43c3-a54c-dcf9b76281a6 ]] \r\n",
       "E3 *- - \"1\"E4 [[psysml:3d75ef33-b13b-4214-af18-b5d2941be4f9 ]] \r\n",
       "E5 *- - \"1\"E6 [[psysml:d68af8b5-54d9-4416-b26b-1e36c98f2c99 ]] \r\n",
       "E2 -[thickness=3]- \"*\"E6 [[psysml:901b44a6-3b8d-4bea-9e51-ad40652cd7ff ]] \r\n",
       "E5 *- - \"1\"E7 [[psysml:5a5926b8-11d9-4284-b6a0-db32c9e29bb2 ]] \r\n",
       "E7 - -|> E2 [[psysml:dd540a25-2742-496a-aaa6-3ea5cc8a4940 ]] \r\n",
       "@enduml\r\n",
       "\n",
       "PlantUML version 1.2020.13(Sat Jun 13 12:26:38 UTC 2020)\n",
       "(EPL source distribution)\n",
       "Java Runtime: OpenJDK Runtime Environment\n",
       "JVM: OpenJDK 64-Bit Server VM\n",
       "Default Encoding: UTF-8\n",
       "Language: en\n",
       "Country: null\n",
       "--></g></svg>"
      ]
     },
     "execution_count": 37,
     "metadata": {},
     "output_type": "execute_result"
    }
   ],
   "source": [
    "%viz --style=\"DEFAULT\" --view=\"Default\" \"ConnectionTest\""
   ]
  },
  {
   "cell_type": "code",
   "execution_count": 38,
   "id": "b0739434",
   "metadata": {
    "execution": {
     "iopub.execute_input": "2021-09-27T07:17:34.162421Z",
     "iopub.status.busy": "2021-09-27T07:17:34.162020Z",
     "iopub.status.idle": "2021-09-27T07:17:34.195112Z",
     "shell.execute_reply": "2021-09-27T07:17:34.194751Z"
    }
   },
   "outputs": [
    {
     "data": {
      "image/svg+xml": [
       "<?xml version=\"1.0\" encoding=\"UTF-8\" standalone=\"no\"?><svg xmlns=\"http://www.w3.org/2000/svg\" xmlns:xlink=\"http://www.w3.org/1999/xlink\" contentScriptType=\"application/ecmascript\" contentStyleType=\"text/css\" height=\"539px\" preserveAspectRatio=\"none\" style=\"width:189px;height:539px;\" version=\"1.1\" viewBox=\"0 0 189 539\" width=\"189px\" zoomAndPan=\"magnify\"><defs/><g><!--MD5=[fbc87193dbaf4d95561dea2c320d4a47]\n",
       "cluster E1--><a href=\"psysml:58064a58-d13b-4f80-a6f6-0eceb966f2f7\" target=\"_top\" title=\"psysml:58064a58-d13b-4f80-a6f6-0eceb966f2f7\" xlink:actuate=\"onRequest\" xlink:href=\"psysml:58064a58-d13b-4f80-a6f6-0eceb966f2f7\" xlink:show=\"new\" xlink:title=\"psysml:58064a58-d13b-4f80-a6f6-0eceb966f2f7\" xlink:type=\"simple\"><polygon fill=\"#FFFFFF\" points=\"16,6,133,6,140,28.2969,167,28.2969,167,527,16,527,16,6\" style=\"stroke: #000000; stroke-width: 1.5;\"/><line style=\"stroke: #000000; stroke-width: 1.5;\" x1=\"16\" x2=\"140\" y1=\"28.2969\" y2=\"28.2969\"/><text fill=\"#000000\" font-family=\"sans-serif\" font-size=\"14\" font-weight=\"bold\" lengthAdjust=\"spacingAndGlyphs\" textLength=\"111\" x=\"20\" y=\"20.9951\">ConnectionTest</text></a><!--MD5=[b4997ac47864f28c2f74865a473b2911]\n",
       "class E2--><a href=\"psysml:98bc980e-08bf-4c08-bf0e-335abb3c4ffd\" target=\"_top\" title=\"psysml:98bc980e-08bf-4c08-bf0e-335abb3c4ffd\" xlink:actuate=\"onRequest\" xlink:href=\"psysml:98bc980e-08bf-4c08-bf0e-335abb3c4ffd\" xlink:show=\"new\" xlink:title=\"psysml:98bc980e-08bf-4c08-bf0e-335abb3c4ffd\" xlink:type=\"simple\"><rect fill=\"#FFFFFF\" height=\"45.9375\" id=\"E2\" rx=\"10\" ry=\"10\" style=\"stroke: #383838; stroke-width: 1.5;\" width=\"42\" x=\"89\" y=\"253\"/><text fill=\"#000000\" font-family=\"sans-serif\" font-size=\"12\" font-style=\"italic\" lengthAdjust=\"spacingAndGlyphs\" textLength=\"40\" x=\"90\" y=\"269.1387\">«part»</text><text fill=\"#000000\" font-family=\"sans-serif\" font-size=\"12\" lengthAdjust=\"spacingAndGlyphs\" textLength=\"8\" x=\"106\" y=\"283.1074\">p</text><line style=\"stroke: #383838; stroke-width: 1.5;\" x1=\"90\" x2=\"130\" y1=\"290.9375\" y2=\"290.9375\"/></a><!--MD5=[09b614a08d8cba4a07c9adeb5e0fee81]\n",
       "class E3--><a href=\"psysml:c51e79ce-7cf1-4bdb-aba6-5cab2657d431\" target=\"_top\" title=\"psysml:c51e79ce-7cf1-4bdb-aba6-5cab2657d431\" xlink:actuate=\"onRequest\" xlink:href=\"psysml:c51e79ce-7cf1-4bdb-aba6-5cab2657d431\" xlink:show=\"new\" xlink:title=\"psysml:c51e79ce-7cf1-4bdb-aba6-5cab2657d431\" xlink:type=\"simple\"><rect fill=\"#FFFFFF\" height=\"45.9375\" id=\"E3\" rx=\"10\" ry=\"10\" style=\"stroke: #383838; stroke-width: 1.5;\" width=\"42\" x=\"109\" y=\"359\"/><text fill=\"#000000\" font-family=\"sans-serif\" font-size=\"12\" font-style=\"italic\" lengthAdjust=\"spacingAndGlyphs\" textLength=\"40\" x=\"110\" y=\"375.1387\">«part»</text><text fill=\"#000000\" font-family=\"sans-serif\" font-size=\"12\" lengthAdjust=\"spacingAndGlyphs\" textLength=\"6\" x=\"127\" y=\"389.1074\">x</text><line style=\"stroke: #383838; stroke-width: 1.5;\" x1=\"110\" x2=\"150\" y1=\"396.9375\" y2=\"396.9375\"/></a><!--MD5=[ebbe1d658d1005bcc118a6aa81145e00]\n",
       "class E4--><a href=\"psysml:31f41755-661a-4a53-a2bb-f2dfc01c0edf\" target=\"_top\" title=\"psysml:31f41755-661a-4a53-a2bb-f2dfc01c0edf\" xlink:actuate=\"onRequest\" xlink:href=\"psysml:31f41755-661a-4a53-a2bb-f2dfc01c0edf\" xlink:show=\"new\" xlink:title=\"psysml:31f41755-661a-4a53-a2bb-f2dfc01c0edf\" xlink:type=\"simple\"><rect fill=\"#FFFFFF\" height=\"45.9375\" id=\"E4\" rx=\"10\" ry=\"10\" style=\"stroke: #383838; stroke-width: 1.5;\" width=\"42\" x=\"109\" y=\"465\"/><text fill=\"#000000\" font-family=\"sans-serif\" font-size=\"12\" font-style=\"italic\" lengthAdjust=\"spacingAndGlyphs\" textLength=\"40\" x=\"110\" y=\"481.1387\">«part»</text><text fill=\"#000000\" font-family=\"sans-serif\" font-size=\"12\" lengthAdjust=\"spacingAndGlyphs\" textLength=\"14\" x=\"123\" y=\"495.1074\">x1</text><line style=\"stroke: #383838; stroke-width: 1.5;\" x1=\"110\" x2=\"150\" y1=\"502.9375\" y2=\"502.9375\"/></a><!--MD5=[270fce915f116d4de14055a7c1d9a0f3]\n",
       "class E5--><a href=\"psysml:9833d686-e720-46bf-b438-35dbd29b7a16\" target=\"_top\" title=\"psysml:9833d686-e720-46bf-b438-35dbd29b7a16\" xlink:actuate=\"onRequest\" xlink:href=\"psysml:9833d686-e720-46bf-b438-35dbd29b7a16\" xlink:show=\"new\" xlink:title=\"psysml:9833d686-e720-46bf-b438-35dbd29b7a16\" xlink:type=\"simple\"><rect fill=\"#FFFFFF\" height=\"45.9375\" id=\"E5\" style=\"stroke: #383838; stroke-width: 1.5;\" width=\"66\" x=\"54\" y=\"41\"/><text fill=\"#000000\" font-family=\"sans-serif\" font-size=\"12\" font-style=\"italic\" lengthAdjust=\"spacingAndGlyphs\" textLength=\"64\" x=\"55\" y=\"57.1387\">«part def»</text><text fill=\"#000000\" font-family=\"sans-serif\" font-size=\"12\" lengthAdjust=\"spacingAndGlyphs\" textLength=\"8\" x=\"83\" y=\"71.1074\">P</text><line style=\"stroke: #383838; stroke-width: 1.5;\" x1=\"55\" x2=\"119\" y1=\"78.9375\" y2=\"78.9375\"/></a><!--MD5=[60a26617385b1d2d0262a64233df1f8d]\n",
       "class E6--><a href=\"psysml:f96f9e94-0e28-4abd-b8cb-5d3679a708db\" target=\"_top\" title=\"psysml:f96f9e94-0e28-4abd-b8cb-5d3679a708db\" xlink:actuate=\"onRequest\" xlink:href=\"psysml:f96f9e94-0e28-4abd-b8cb-5d3679a708db\" xlink:show=\"new\" xlink:title=\"psysml:f96f9e94-0e28-4abd-b8cb-5d3679a708db\" xlink:type=\"simple\"><rect fill=\"#FFFFFF\" height=\"45.9375\" id=\"E6\" rx=\"10\" ry=\"10\" style=\"stroke: #383838; stroke-width: 1.5;\" width=\"42\" x=\"32\" y=\"359\"/><text fill=\"#000000\" font-family=\"sans-serif\" font-size=\"12\" font-style=\"italic\" lengthAdjust=\"spacingAndGlyphs\" textLength=\"40\" x=\"33\" y=\"375.1387\">«part»</text><text fill=\"#000000\" font-family=\"sans-serif\" font-size=\"12\" lengthAdjust=\"spacingAndGlyphs\" textLength=\"6\" x=\"50\" y=\"389.1074\">y</text><line style=\"stroke: #383838; stroke-width: 1.5;\" x1=\"33\" x2=\"73\" y1=\"396.9375\" y2=\"396.9375\"/></a><!--MD5=[2156ba9850f5573cc1fc38a6a4b2f02b]\n",
       "class E7--><a href=\"psysml:2279d5a4-5f0e-43ce-88bf-f6ddb21c3f25\" target=\"_top\" title=\"psysml:2279d5a4-5f0e-43ce-88bf-f6ddb21c3f25\" xlink:actuate=\"onRequest\" xlink:href=\"psysml:2279d5a4-5f0e-43ce-88bf-f6ddb21c3f25\" xlink:show=\"new\" xlink:title=\"psysml:2279d5a4-5f0e-43ce-88bf-f6ddb21c3f25\" xlink:type=\"simple\"><rect fill=\"#FFFFFF\" height=\"45.9375\" id=\"E7\" rx=\"10\" ry=\"10\" style=\"stroke: #383838; stroke-width: 1.5;\" width=\"42\" x=\"89\" y=\"147\"/><text fill=\"#000000\" font-family=\"sans-serif\" font-size=\"12\" font-style=\"italic\" lengthAdjust=\"spacingAndGlyphs\" textLength=\"40\" x=\"90\" y=\"163.1387\">«part»</text><text fill=\"#000000\" font-family=\"sans-serif\" font-size=\"12\" lengthAdjust=\"spacingAndGlyphs\" textLength=\"16\" x=\"102\" y=\"177.1074\">p1</text><line style=\"stroke: #383838; stroke-width: 1.5;\" x1=\"90\" x2=\"130\" y1=\"184.9375\" y2=\"184.9375\"/></a><!--MD5=[209b3feb70ccb6233bfe1053d122c12c]\n",
       "reverse link E2 to E3--><a href=\"psysml:1ffc18c1-940f-43c3-a54c-dcf9b76281a6\" target=\"_top\" title=\"psysml:1ffc18c1-940f-43c3-a54c-dcf9b76281a6\" xlink:actuate=\"onRequest\" xlink:href=\"psysml:1ffc18c1-940f-43c3-a54c-dcf9b76281a6\" xlink:show=\"new\" xlink:title=\"psysml:1ffc18c1-940f-43c3-a54c-dcf9b76281a6\" xlink:type=\"simple\"><path d=\"M116.72,311.96 C119.71,327.51 123.14,345.33 125.76,358.98 \" fill=\"none\" id=\"E2&lt;-E3\" style=\"stroke: #383838; stroke-width: 1.0;\"/><polygon fill=\"#383838\" points=\"114.24,299.06,111.447,305.7082,116.5096,310.8434,119.3026,304.1952,114.24,299.06\" style=\"stroke: #383838; stroke-width: 1.0;\"/><text fill=\"#000000\" font-family=\"sans-serif\" font-size=\"13\" lengthAdjust=\"spacingAndGlyphs\" textLength=\"8\" x=\"115.5455\" y=\"347.8709\">1</text></a><!--MD5=[4672eba38e49728da53d11aeb285b987]\n",
       "reverse link E3 to E4--><a href=\"psysml:3d75ef33-b13b-4214-af18-b5d2941be4f9\" target=\"_top\" title=\"psysml:3d75ef33-b13b-4214-af18-b5d2941be4f9\" xlink:actuate=\"onRequest\" xlink:href=\"psysml:3d75ef33-b13b-4214-af18-b5d2941be4f9\" xlink:show=\"new\" xlink:title=\"psysml:3d75ef33-b13b-4214-af18-b5d2941be4f9\" xlink:type=\"simple\"><path d=\"M130,418.44 C130,433.87 130,451.47 130,464.98 \" fill=\"none\" id=\"E3&lt;-E4\" style=\"stroke: #383838; stroke-width: 1.0;\"/><polygon fill=\"#383838\" points=\"130,405.06,126,411.06,130,417.06,134,411.06,130,405.06\" style=\"stroke: #383838; stroke-width: 1.0;\"/><text fill=\"#000000\" font-family=\"sans-serif\" font-size=\"13\" lengthAdjust=\"spacingAndGlyphs\" textLength=\"8\" x=\"120.925\" y=\"453.8709\">1</text></a><!--MD5=[85d356282659285ab4b2cfe2f634dd2b]\n",
       "reverse link E5 to E6--><a href=\"psysml:d68af8b5-54d9-4416-b26b-1e36c98f2c99\" target=\"_top\" title=\"psysml:d68af8b5-54d9-4416-b26b-1e36c98f2c99\" xlink:actuate=\"onRequest\" xlink:href=\"psysml:d68af8b5-54d9-4416-b26b-1e36c98f2c99\" xlink:show=\"new\" xlink:title=\"psysml:d68af8b5-54d9-4416-b26b-1e36c98f2c99\" xlink:type=\"simple\"><path d=\"M79.77,100.15 C77.01,114.61 74.03,131.56 72,147 C61.78,224.59 56.2,317.42 54.05,358.98 \" fill=\"none\" id=\"E5&lt;-E6\" style=\"stroke: #383838; stroke-width: 1.0;\"/><polygon fill=\"#383838\" points=\"82.32,87.18,77.2408,92.2988,80.0123,98.956,85.0915,93.8372,82.32,87.18\" style=\"stroke: #383838; stroke-width: 1.0;\"/><text fill=\"#000000\" font-family=\"sans-serif\" font-size=\"13\" lengthAdjust=\"spacingAndGlyphs\" textLength=\"8\" x=\"45.2572\" y=\"347.8709\">1</text></a><!--MD5=[e3e28c1befcf002155aa15e1416b4315]\n",
       "link E2 to E6--><a href=\"psysml:901b44a6-3b8d-4bea-9e51-ad40652cd7ff\" target=\"_top\" title=\"psysml:901b44a6-3b8d-4bea-9e51-ad40652cd7ff\" xlink:actuate=\"onRequest\" xlink:href=\"psysml:901b44a6-3b8d-4bea-9e51-ad40652cd7ff\" xlink:show=\"new\" xlink:title=\"psysml:901b44a6-3b8d-4bea-9e51-ad40652cd7ff\" xlink:type=\"simple\"><path d=\"M97.91,299.06 C88.24,316.7 74.74,341.34 65.07,358.98 \" fill=\"none\" id=\"E2-E6\" style=\"stroke: #383838; stroke-width: 3.0;\"/><text fill=\"#000000\" font-family=\"sans-serif\" font-size=\"13\" lengthAdjust=\"spacingAndGlyphs\" textLength=\"7\" x=\"60.3732\" y=\"347.8709\">*</text></a><!--MD5=[452b418e7f8a40397a49b8c0a78acc5b]\n",
       "reverse link E5 to E7--><a href=\"psysml:5a5926b8-11d9-4284-b6a0-db32c9e29bb2\" target=\"_top\" title=\"psysml:5a5926b8-11d9-4284-b6a0-db32c9e29bb2\" xlink:actuate=\"onRequest\" xlink:href=\"psysml:5a5926b8-11d9-4284-b6a0-db32c9e29bb2\" xlink:show=\"new\" xlink:title=\"psysml:5a5926b8-11d9-4284-b6a0-db32c9e29bb2\" xlink:type=\"simple\"><path d=\"M94.73,99.96 C98.17,115.51 102.11,133.33 105.13,146.98 \" fill=\"none\" id=\"E5&lt;-E7\" style=\"stroke: #383838; stroke-width: 1.0;\"/><polygon fill=\"#383838\" points=\"91.88,87.06,89.2656,93.7805,94.4636,98.7786,97.078,92.0581,91.88,87.06\" style=\"stroke: #383838; stroke-width: 1.0;\"/><text fill=\"#000000\" font-family=\"sans-serif\" font-size=\"13\" lengthAdjust=\"spacingAndGlyphs\" textLength=\"8\" x=\"94.7462\" y=\"135.8709\">1</text></a><!--MD5=[583832df87f4419a098336a29a52fa00]\n",
       "link E7 to E2--><a href=\"psysml:dd540a25-2742-496a-aaa6-3ea5cc8a4940\" target=\"_top\" title=\"psysml:dd540a25-2742-496a-aaa6-3ea5cc8a4940\" xlink:actuate=\"onRequest\" xlink:href=\"psysml:dd540a25-2742-496a-aaa6-3ea5cc8a4940\" xlink:show=\"new\" xlink:title=\"psysml:dd540a25-2742-496a-aaa6-3ea5cc8a4940\" xlink:type=\"simple\"><path d=\"M110,193.06 C110,204.64 110,219.23 110,232.87 \" fill=\"none\" id=\"E7-&gt;E2\" style=\"stroke: #383838; stroke-width: 1.0;\"/><polygon fill=\"none\" points=\"117,232.98,110,252.98,103,232.98,117,232.98\" style=\"stroke: #383838; stroke-width: 1.0;\"/></a><!--MD5=[1c5f881d0df3fb81871d3c2cdf606d56]\n",
       "@startuml\r\n",
       "skinparam monochrome true\r\n",
       "skinparam classbackgroundcolor white\r\n",
       "skinparam shadowing false\r\n",
       "skinparam wrapWidth 300\r\n",
       "hide circle\r\n",
       "\r\n",
       "package \"ConnectionTest\" as E1  [[psysml:58064a58-d13b-4f80-a6f6-0eceb966f2f7 ]]  {\r\n",
       "comp usage \"p\" as E2  <<(T,blue) part>> [[psysml:98bc980e-08bf-4c08-bf0e-335abb3c4ffd ]] {\r\n",
       "}\r\n",
       "comp usage \"x\" as E3  <<(T,blue) part>> [[psysml:c51e79ce-7cf1-4bdb-aba6-5cab2657d431 ]] {\r\n",
       "}\r\n",
       "comp usage \"x1\" as E4  <<(T,blue) part>> [[psysml:31f41755-661a-4a53-a2bb-f2dfc01c0edf ]] {\r\n",
       "}\r\n",
       "comp def \"P\" as E5  <<(T,blue) part def>> [[psysml:9833d686-e720-46bf-b438-35dbd29b7a16 ]] {\r\n",
       "}\r\n",
       "comp usage \"y\" as E6  <<(T,blue) part>> [[psysml:f96f9e94-0e28-4abd-b8cb-5d3679a708db ]] {\r\n",
       "}\r\n",
       "comp usage \"p1\" as E7  <<(T,blue) part>> [[psysml:2279d5a4-5f0e-43ce-88bf-f6ddb21c3f25 ]] {\r\n",
       "}\r\n",
       "}\r\n",
       "E2 *- - \"1\"E3 [[psysml:1ffc18c1-940f-43c3-a54c-dcf9b76281a6 ]] \r\n",
       "E3 *- - \"1\"E4 [[psysml:3d75ef33-b13b-4214-af18-b5d2941be4f9 ]] \r\n",
       "E5 *- - \"1\"E6 [[psysml:d68af8b5-54d9-4416-b26b-1e36c98f2c99 ]] \r\n",
       "E2 -[thickness=3]- \"*\"E6 [[psysml:901b44a6-3b8d-4bea-9e51-ad40652cd7ff ]] \r\n",
       "E5 *- - \"1\"E7 [[psysml:5a5926b8-11d9-4284-b6a0-db32c9e29bb2 ]] \r\n",
       "E7 - -|> E2 [[psysml:dd540a25-2742-496a-aaa6-3ea5cc8a4940 ]] \r\n",
       "@enduml\r\n",
       "\n",
       "PlantUML version 1.2020.13(Sat Jun 13 12:26:38 UTC 2020)\n",
       "(EPL source distribution)\n",
       "Java Runtime: OpenJDK Runtime Environment\n",
       "JVM: OpenJDK 64-Bit Server VM\n",
       "Default Encoding: UTF-8\n",
       "Language: en\n",
       "Country: null\n",
       "--></g></svg>"
      ]
     },
     "execution_count": 38,
     "metadata": {},
     "output_type": "execute_result"
    }
   ],
   "source": [
    "%viz --style=\"DEFAULT\" --view=\"Tree\" \"ConnectionTest\""
   ]
  },
  {
   "cell_type": "code",
   "execution_count": 39,
   "id": "eee8a2e7",
   "metadata": {
    "execution": {
     "iopub.execute_input": "2021-09-27T07:17:34.244794Z",
     "iopub.status.busy": "2021-09-27T07:17:34.244392Z",
     "iopub.status.idle": "2021-09-27T07:17:34.248843Z",
     "shell.execute_reply": "2021-09-27T07:17:34.249158Z"
    }
   },
   "outputs": [
    {
     "data": {
      "image/svg+xml": [
       "<?xml version=\"1.0\" encoding=\"UTF-8\" standalone=\"no\"?><svg xmlns=\"http://www.w3.org/2000/svg\" xmlns:xlink=\"http://www.w3.org/1999/xlink\" contentScriptType=\"application/ecmascript\" contentStyleType=\"text/css\" height=\"12px\" preserveAspectRatio=\"none\" style=\"width:12px;height:12px;\" version=\"1.1\" viewBox=\"0 0 12 12\" width=\"12px\" zoomAndPan=\"magnify\"><defs/><g><!--MD5=[c5f280e076d0d61ccf4b0f27871bda1d]\n",
       "@startuml\r\n",
       "skinparam monochrome true\r\n",
       "skinparam classbackgroundcolor white\r\n",
       "skinparam shadowing false\r\n",
       "skinparam wrapWidth 300\r\n",
       "hide circle\r\n",
       "\r\n",
       "@enduml\r\n",
       "\n",
       "PlantUML version 1.2020.13(Sat Jun 13 12:26:38 UTC 2020)\n",
       "(EPL source distribution)\n",
       "Java Runtime: OpenJDK Runtime Environment\n",
       "JVM: OpenJDK 64-Bit Server VM\n",
       "Default Encoding: UTF-8\n",
       "Language: en\n",
       "Country: null\n",
       "--></g></svg>"
      ]
     },
     "execution_count": 39,
     "metadata": {},
     "output_type": "execute_result"
    }
   ],
   "source": [
    "%viz --style=\"DEFAULT\" --view=\"State\" \"ConnectionTest\""
   ]
  },
  {
   "cell_type": "code",
   "execution_count": 40,
   "id": "9b4e0e8b",
   "metadata": {
    "execution": {
     "iopub.execute_input": "2021-09-27T07:17:34.299286Z",
     "iopub.status.busy": "2021-09-27T07:17:34.298888Z",
     "iopub.status.idle": "2021-09-27T07:17:34.335378Z",
     "shell.execute_reply": "2021-09-27T07:17:34.335693Z"
    }
   },
   "outputs": [
    {
     "data": {
      "image/svg+xml": [
       "<?xml version=\"1.0\" encoding=\"UTF-8\" standalone=\"no\"?><svg xmlns=\"http://www.w3.org/2000/svg\" xmlns:xlink=\"http://www.w3.org/1999/xlink\" contentScriptType=\"application/ecmascript\" contentStyleType=\"text/css\" height=\"406px\" preserveAspectRatio=\"none\" style=\"width:509px;height:406px;\" version=\"1.1\" viewBox=\"0 0 509 406\" width=\"509px\" zoomAndPan=\"magnify\"><defs/><g><!--MD5=[fbc87193dbaf4d95561dea2c320d4a47]\n",
       "cluster E1--><a href=\"psysml:58064a58-d13b-4f80-a6f6-0eceb966f2f7\" target=\"_top\" title=\"psysml:58064a58-d13b-4f80-a6f6-0eceb966f2f7\" xlink:actuate=\"onRequest\" xlink:href=\"psysml:58064a58-d13b-4f80-a6f6-0eceb966f2f7\" xlink:show=\"new\" xlink:title=\"psysml:58064a58-d13b-4f80-a6f6-0eceb966f2f7\" xlink:type=\"simple\"><polygon fill=\"#FFFFFF\" points=\"16,6,133,6,140,28.2969,487,28.2969,487,394,16,394,16,6\" style=\"stroke: #000000; stroke-width: 1.5;\"/><line style=\"stroke: #000000; stroke-width: 1.5;\" x1=\"16\" x2=\"140\" y1=\"28.2969\" y2=\"28.2969\"/><text fill=\"#000000\" font-family=\"sans-serif\" font-size=\"14\" font-weight=\"bold\" lengthAdjust=\"spacingAndGlyphs\" textLength=\"111\" x=\"20\" y=\"20.9951\">ConnectionTest</text></a><!--MD5=[e4f7fae6ed58524ba242bb0b0d3be6b7]\n",
       "cluster E2--><a href=\"psysml:98bc980e-08bf-4c08-bf0e-335abb3c4ffd\" target=\"_top\" title=\"psysml:98bc980e-08bf-4c08-bf0e-335abb3c4ffd\" xlink:actuate=\"onRequest\" xlink:href=\"psysml:98bc980e-08bf-4c08-bf0e-335abb3c4ffd\" xlink:show=\"new\" xlink:title=\"psysml:98bc980e-08bf-4c08-bf0e-335abb3c4ffd\" xlink:type=\"simple\"><rect fill=\"#FFFFFF\" height=\"174\" id=\"E2\" rx=\"10\" ry=\"10\" style=\"stroke: #383838; stroke-width: 1.5;\" width=\"154\" x=\"301\" y=\"116\"/><rect fill=\"#F8F8F8\" height=\"23.9688\" rx=\"10\" ry=\"10\" style=\"stroke: #F8F8F8; stroke-width: 1.5;\" width=\"154\" x=\"301\" y=\"116\"/><rect fill=\"#F8F8F8\" height=\"10\" style=\"stroke: #F8F8F8; stroke-width: 1.5;\" width=\"154\" x=\"301\" y=\"129.9688\"/><rect fill=\"none\" height=\"174\" id=\"E2\" rx=\"10\" ry=\"10\" style=\"stroke: #383838; stroke-width: 1.5;\" width=\"154\" x=\"301\" y=\"116\"/><text fill=\"#000000\" font-family=\"sans-serif\" font-size=\"12\" lengthAdjust=\"spacingAndGlyphs\" textLength=\"8\" x=\"374\" y=\"132.1387\">p</text><line style=\"stroke: #383838; stroke-width: 1.0;\" x1=\"301\" x2=\"455\" y1=\"139.9688\" y2=\"139.9688\"/></a><!--MD5=[d5e69f78d87373223dbae638b30a9c99]\n",
       "cluster E3--><a href=\"psysml:c51e79ce-7cf1-4bdb-aba6-5cab2657d431\" target=\"_top\" title=\"psysml:c51e79ce-7cf1-4bdb-aba6-5cab2657d431\" xlink:actuate=\"onRequest\" xlink:href=\"psysml:c51e79ce-7cf1-4bdb-aba6-5cab2657d431\" xlink:show=\"new\" xlink:title=\"psysml:c51e79ce-7cf1-4bdb-aba6-5cab2657d431\" xlink:type=\"simple\"><rect fill=\"#FFFFFF\" height=\"91\" id=\"E3\" rx=\"10\" ry=\"10\" style=\"stroke: #383838; stroke-width: 1.5;\" width=\"82\" x=\"341\" y=\"167\"/><rect fill=\"#F8F8F8\" height=\"23.9688\" rx=\"10\" ry=\"10\" style=\"stroke: #F8F8F8; stroke-width: 1.5;\" width=\"82\" x=\"341\" y=\"167\"/><rect fill=\"#F8F8F8\" height=\"10\" style=\"stroke: #F8F8F8; stroke-width: 1.5;\" width=\"82\" x=\"341\" y=\"180.9688\"/><rect fill=\"none\" height=\"91\" id=\"E3\" rx=\"10\" ry=\"10\" style=\"stroke: #383838; stroke-width: 1.5;\" width=\"82\" x=\"341\" y=\"167\"/><text fill=\"#000000\" font-family=\"sans-serif\" font-size=\"12\" lengthAdjust=\"spacingAndGlyphs\" textLength=\"6\" x=\"379\" y=\"183.1387\">x</text><line style=\"stroke: #383838; stroke-width: 1.0;\" x1=\"341\" x2=\"423\" y1=\"190.9688\" y2=\"190.9688\"/></a><!--MD5=[de5ec2e2e8f62f467e546659f5068c88]\n",
       "cluster E5--><a href=\"psysml:9833d686-e720-46bf-b438-35dbd29b7a16\" target=\"_top\" title=\"psysml:9833d686-e720-46bf-b438-35dbd29b7a16\" xlink:actuate=\"onRequest\" xlink:href=\"psysml:9833d686-e720-46bf-b438-35dbd29b7a16\" xlink:show=\"new\" xlink:title=\"psysml:9833d686-e720-46bf-b438-35dbd29b7a16\" xlink:type=\"simple\"><rect fill=\"#FFFFFF\" height=\"321\" id=\"E5\" style=\"stroke: #383838; stroke-width: 1.5;\" width=\"229\" x=\"40\" y=\"49\"/><rect fill=\"#F8F8F8\" height=\"37.9375\" style=\"stroke: #383838; stroke-width: 1.5;\" width=\"229\" x=\"40\" y=\"49\"/><text fill=\"#000000\" font-family=\"sans-serif\" font-size=\"12\" font-style=\"italic\" lengthAdjust=\"spacingAndGlyphs\" textLength=\"64\" x=\"122.5\" y=\"65.1387\">«part def»</text><text fill=\"#000000\" font-family=\"sans-serif\" font-size=\"12\" lengthAdjust=\"spacingAndGlyphs\" textLength=\"8\" x=\"150.5\" y=\"79.1074\">P</text></a><!--MD5=[168fadf3d0c3fd93dd5d6da1b1d7ab76]\n",
       "cluster E7--><a href=\"psysml:2279d5a4-5f0e-43ce-88bf-f6ddb21c3f25\" target=\"_top\" title=\"psysml:2279d5a4-5f0e-43ce-88bf-f6ddb21c3f25\" xlink:actuate=\"onRequest\" xlink:href=\"psysml:2279d5a4-5f0e-43ce-88bf-f6ddb21c3f25\" xlink:show=\"new\" xlink:title=\"psysml:2279d5a4-5f0e-43ce-88bf-f6ddb21c3f25\" xlink:type=\"simple\"><rect fill=\"#FFFFFF\" height=\"190\" id=\"E7\" rx=\"10\" ry=\"10\" style=\"stroke: #383838; stroke-width: 1.5;\" width=\"181\" x=\"64\" y=\"108\"/><rect fill=\"#F8F8F8\" height=\"23.9688\" rx=\"10\" ry=\"10\" style=\"stroke: #F8F8F8; stroke-width: 1.5;\" width=\"181\" x=\"64\" y=\"108\"/><rect fill=\"#F8F8F8\" height=\"10\" style=\"stroke: #F8F8F8; stroke-width: 1.5;\" width=\"181\" x=\"64\" y=\"121.9688\"/><rect fill=\"none\" height=\"190\" id=\"E7\" rx=\"10\" ry=\"10\" style=\"stroke: #383838; stroke-width: 1.5;\" width=\"181\" x=\"64\" y=\"108\"/><text fill=\"#000000\" font-family=\"sans-serif\" font-size=\"12\" lengthAdjust=\"spacingAndGlyphs\" textLength=\"16\" x=\"146.5\" y=\"124.1387\">p1</text><line style=\"stroke: #383838; stroke-width: 1.0;\" x1=\"64\" x2=\"245\" y1=\"131.9688\" y2=\"131.9688\"/></a><!--MD5=[55dfccfc6c49c2d10cd1bd2211a6c90c]\n",
       "cluster E8--><a href=\"psysml:c51e79ce-7cf1-4bdb-aba6-5cab2657d431\" target=\"_top\" title=\"psysml:c51e79ce-7cf1-4bdb-aba6-5cab2657d431\" xlink:actuate=\"onRequest\" xlink:href=\"psysml:c51e79ce-7cf1-4bdb-aba6-5cab2657d431\" xlink:show=\"new\" xlink:title=\"psysml:c51e79ce-7cf1-4bdb-aba6-5cab2657d431\" xlink:type=\"simple\"><rect fill=\"#FFFFFF\" height=\"107\" id=\"E8\" rx=\"10\" ry=\"10\" style=\"stroke: #383838; stroke-width: 1.5;\" width=\"117\" x=\"96\" y=\"159\"/><rect fill=\"#F8F8F8\" height=\"23.9688\" rx=\"10\" ry=\"10\" style=\"stroke: #F8F8F8; stroke-width: 1.5;\" width=\"117\" x=\"96\" y=\"159\"/><rect fill=\"#F8F8F8\" height=\"10\" style=\"stroke: #F8F8F8; stroke-width: 1.5;\" width=\"117\" x=\"96\" y=\"172.9688\"/><rect fill=\"none\" height=\"107\" id=\"E8\" rx=\"10\" ry=\"10\" style=\"stroke: #383838; stroke-width: 1.5;\" width=\"117\" x=\"96\" y=\"159\"/><text fill=\"#000000\" font-family=\"sans-serif\" font-size=\"12\" lengthAdjust=\"spacingAndGlyphs\" textLength=\"16\" x=\"146.5\" y=\"175.1387\">^x</text><line style=\"stroke: #383838; stroke-width: 1.0;\" x1=\"96\" x2=\"213\" y1=\"182.9688\" y2=\"182.9688\"/></a><g id=\"E1.E2.E3.E4\"><a href=\"psysml:31f41755-661a-4a53-a2bb-f2dfc01c0edf\" target=\"_top\" title=\"psysml:31f41755-661a-4a53-a2bb-f2dfc01c0edf\" xlink:actuate=\"onRequest\" xlink:href=\"psysml:31f41755-661a-4a53-a2bb-f2dfc01c0edf\" xlink:show=\"new\" xlink:title=\"psysml:31f41755-661a-4a53-a2bb-f2dfc01c0edf\" xlink:type=\"simple\"><rect fill=\"#FFFFFF\" height=\"40\" id=\"E4\" rx=\"10\" ry=\"10\" style=\"stroke: #383838; stroke-width: 1.5;\" width=\"50\" x=\"357\" y=\"202\"/><rect fill=\"#F8F8F8\" height=\"23.9688\" rx=\"10\" ry=\"10\" style=\"stroke: #F8F8F8; stroke-width: 1.5;\" width=\"50\" x=\"357\" y=\"202\"/><rect fill=\"#F8F8F8\" height=\"10\" style=\"stroke: #F8F8F8; stroke-width: 1.5;\" width=\"50\" x=\"357\" y=\"215.9688\"/><rect fill=\"none\" height=\"40\" id=\"E4\" rx=\"10\" ry=\"10\" style=\"stroke: #383838; stroke-width: 1.5;\" width=\"50\" x=\"357\" y=\"202\"/><text fill=\"#000000\" font-family=\"sans-serif\" font-size=\"12\" lengthAdjust=\"spacingAndGlyphs\" textLength=\"14\" x=\"375\" y=\"218.1387\">x1</text></a></g><g id=\"E1.E5.E6\"><a href=\"psysml:f96f9e94-0e28-4abd-b8cb-5d3679a708db\" target=\"_top\" title=\"psysml:f96f9e94-0e28-4abd-b8cb-5d3679a708db\" xlink:actuate=\"onRequest\" xlink:href=\"psysml:f96f9e94-0e28-4abd-b8cb-5d3679a708db\" xlink:show=\"new\" xlink:title=\"psysml:f96f9e94-0e28-4abd-b8cb-5d3679a708db\" xlink:type=\"simple\"><rect fill=\"#FFFFFF\" height=\"40\" id=\"E6\" rx=\"10\" ry=\"10\" style=\"stroke: #383838; stroke-width: 1.5;\" width=\"50\" x=\"139\" y=\"314\"/><rect fill=\"#F8F8F8\" height=\"23.9688\" rx=\"10\" ry=\"10\" style=\"stroke: #F8F8F8; stroke-width: 1.5;\" width=\"50\" x=\"139\" y=\"314\"/><rect fill=\"#F8F8F8\" height=\"10\" style=\"stroke: #F8F8F8; stroke-width: 1.5;\" width=\"50\" x=\"139\" y=\"327.9688\"/><rect fill=\"none\" height=\"40\" id=\"E6\" rx=\"10\" ry=\"10\" style=\"stroke: #383838; stroke-width: 1.5;\" width=\"50\" x=\"139\" y=\"314\"/><text fill=\"#000000\" font-family=\"sans-serif\" font-size=\"12\" lengthAdjust=\"spacingAndGlyphs\" textLength=\"6\" x=\"161\" y=\"330.1387\">y</text></a></g><g id=\"E1.E5.E7.E8.E9\"><a href=\"psysml:31f41755-661a-4a53-a2bb-f2dfc01c0edf\" target=\"_top\" title=\"psysml:31f41755-661a-4a53-a2bb-f2dfc01c0edf\" xlink:actuate=\"onRequest\" xlink:href=\"psysml:31f41755-661a-4a53-a2bb-f2dfc01c0edf\" xlink:show=\"new\" xlink:title=\"psysml:31f41755-661a-4a53-a2bb-f2dfc01c0edf\" xlink:type=\"simple\"><rect fill=\"#FFFFFF\" height=\"40\" id=\"E9\" rx=\"10\" ry=\"10\" style=\"stroke: #383838; stroke-width: 1.5;\" width=\"50\" x=\"139\" y=\"202\"/><rect fill=\"#F8F8F8\" height=\"23.9688\" rx=\"10\" ry=\"10\" style=\"stroke: #F8F8F8; stroke-width: 1.5;\" width=\"50\" x=\"139\" y=\"202\"/><rect fill=\"#F8F8F8\" height=\"10\" style=\"stroke: #F8F8F8; stroke-width: 1.5;\" width=\"50\" x=\"139\" y=\"215.9688\"/><rect fill=\"none\" height=\"40\" id=\"E9\" rx=\"10\" ry=\"10\" style=\"stroke: #383838; stroke-width: 1.5;\" width=\"50\" x=\"139\" y=\"202\"/><text fill=\"#000000\" font-family=\"sans-serif\" font-size=\"12\" lengthAdjust=\"spacingAndGlyphs\" textLength=\"14\" x=\"157\" y=\"218.1387\">x1</text></a></g><!--MD5=[e3e28c1befcf002155aa15e1416b4315]\n",
       "link E2 to E6--><a href=\"psysml:901b44a6-3b8d-4bea-9e51-ad40652cd7ff\" target=\"_top\" title=\"psysml:901b44a6-3b8d-4bea-9e51-ad40652cd7ff\" xlink:actuate=\"onRequest\" xlink:href=\"psysml:901b44a6-3b8d-4bea-9e51-ad40652cd7ff\" xlink:show=\"new\" xlink:title=\"psysml:901b44a6-3b8d-4bea-9e51-ad40652cd7ff\" xlink:type=\"simple\"><path d=\"M300.7532,230.0089 C300.6678,230.081 300.5818,230.1536 300.4952,230.2266 C300.3221,230.3728 300.1466,230.5208 299.9687,230.6708 C299.2574,231.2706 298.509,231.9009 297.7253,232.56 C291.4556,237.8325 282.9263,244.945 273.0525,253.02 C253.305,269.17 228.18,289.17 205,306 C200.03,309.61 194.62,313.32 189.4,316.79 \" fill=\"none\" id=\"E2-E6\" style=\"stroke: #383838; stroke-width: 3.0;\"/><text fill=\"#000000\" font-family=\"sans-serif\" font-size=\"13\" lengthAdjust=\"spacingAndGlyphs\" textLength=\"7\" x=\"197.1669\" y=\"307.2339\">*</text></a><!--MD5=[c5e8897d989ce984f93528998a7150fe]\n",
       "link E8 to E6--><a href=\"psysml:b9509daa-923d-4932-b597-51fbb4fcb62c\" target=\"_top\" title=\"psysml:b9509daa-923d-4932-b597-51fbb4fcb62c\" xlink:actuate=\"onRequest\" xlink:href=\"psysml:b9509daa-923d-4932-b597-51fbb4fcb62c\" xlink:show=\"new\" xlink:title=\"psysml:b9509daa-923d-4932-b597-51fbb4fcb62c\" xlink:type=\"simple\"><path d=\"M107.5144,266.114 C107.5418,266.252 107.5694,266.3902 107.5972,266.5284 C107.6527,266.8049 107.7091,267.0817 107.7663,267.3589 C108.6814,271.7933 109.8082,276.3099 111.1942,280.7795 C113.9663,289.7188 117.775,298.47 123,306 C127.08,311.88 132.9,316.81 138.87,320.78 \" fill=\"none\" id=\"E8-E6\" style=\"stroke: #383838; stroke-width: 3.0;\"/><text fill=\"#000000\" font-family=\"sans-serif\" font-size=\"13\" lengthAdjust=\"spacingAndGlyphs\" textLength=\"7\" x=\"124.1757\" y=\"312.2962\">*</text></a><!--MD5=[60ac2c0cde89d4308155b0484e57a8ec]\n",
       "link E9 to E6--><a href=\"psysml:c683e43b-7fd5-4334-8447-643be8454737\" target=\"_top\" title=\"psysml:c683e43b-7fd5-4334-8447-643be8454737\" xlink:actuate=\"onRequest\" xlink:href=\"psysml:c683e43b-7fd5-4334-8447-643be8454737\" xlink:show=\"new\" xlink:title=\"psysml:c683e43b-7fd5-4334-8447-643be8454737\" xlink:type=\"simple\"><path d=\"M164,242.16 C164,262.23 164,293.57 164,313.69 \" fill=\"none\" id=\"E9-E6\" style=\"stroke: #383838; stroke-width: 3.0;\"/><text fill=\"#000000\" font-family=\"sans-serif\" font-size=\"13\" lengthAdjust=\"spacingAndGlyphs\" textLength=\"7\" x=\"156.0156\" y=\"302.954\">*</text></a><!--MD5=[c0d9f8beb9b1016c2f0b5a5db49394cc]\n",
       "@startuml\r\n",
       "skinparam ranksep 10\r\n",
       "skinparam rectangle {\r\n",
       " backgroundColor<<block>> LightGreen\r\n",
       "}\r\n",
       "skinparam monochrome true\r\n",
       "skinparam classbackgroundcolor white\r\n",
       "skinparam shadowing false\r\n",
       "skinparam wrapWidth 300\r\n",
       "hide circle\r\n",
       "\r\n",
       "package \"ConnectionTest\" as E1  [[psysml:58064a58-d13b-4f80-a6f6-0eceb966f2f7 ]]  {\r\n",
       "rec usage \"p\" as E2  [[psysml:98bc980e-08bf-4c08-bf0e-335abb3c4ffd ]] {\r\n",
       "rec usage \"x\" as E3  [[psysml:c51e79ce-7cf1-4bdb-aba6-5cab2657d431 ]] {\r\n",
       "rec usage \"x1\" as E4  [[psysml:31f41755-661a-4a53-a2bb-f2dfc01c0edf ]] {\r\n",
       "}\r\n",
       "}\r\n",
       "}\r\n",
       "rec def \"P\" as E5  <<(T,blue) part def>> [[psysml:9833d686-e720-46bf-b438-35dbd29b7a16 ]] {\r\n",
       "rec usage \"y\" as E6  [[psysml:f96f9e94-0e28-4abd-b8cb-5d3679a708db ]] {\r\n",
       "}\r\n",
       "rec usage \"p1\" as E7  [[psysml:2279d5a4-5f0e-43ce-88bf-f6ddb21c3f25 ]] {\r\n",
       "rec usage \"^x\" as E8  [[psysml:c51e79ce-7cf1-4bdb-aba6-5cab2657d431 ]] {\r\n",
       "rec usage \"x1\" as E9  [[psysml:31f41755-661a-4a53-a2bb-f2dfc01c0edf ]] {\r\n",
       "}\r\n",
       "}\r\n",
       "}\r\n",
       "}\r\n",
       "}\r\n",
       "E2 -[thickness=3]- \"*\"E6 [[psysml:901b44a6-3b8d-4bea-9e51-ad40652cd7ff ]] \r\n",
       "E8 -[thickness=3]- \"*\"E6 [[psysml:b9509daa-923d-4932-b597-51fbb4fcb62c ]] \r\n",
       "E9 -[thickness=3]- \"*\"E6 [[psysml:c683e43b-7fd5-4334-8447-643be8454737 ]] \r\n",
       "@enduml\r\n",
       "\n",
       "PlantUML version 1.2020.13(Sat Jun 13 12:26:38 UTC 2020)\n",
       "(EPL source distribution)\n",
       "Java Runtime: OpenJDK Runtime Environment\n",
       "JVM: OpenJDK 64-Bit Server VM\n",
       "Default Encoding: UTF-8\n",
       "Language: en\n",
       "Country: null\n",
       "--></g></svg>"
      ]
     },
     "execution_count": 40,
     "metadata": {},
     "output_type": "execute_result"
    }
   ],
   "source": [
    "%viz --style=\"DEFAULT\" --view=\"Interconnection\" \"ConnectionTest\""
   ]
  },
  {
   "cell_type": "code",
   "execution_count": 41,
   "id": "21e69e2c",
   "metadata": {
    "execution": {
     "iopub.execute_input": "2021-09-27T07:17:34.385754Z",
     "iopub.status.busy": "2021-09-27T07:17:34.385290Z",
     "iopub.status.idle": "2021-09-27T07:17:34.389863Z",
     "shell.execute_reply": "2021-09-27T07:17:34.390182Z"
    }
   },
   "outputs": [
    {
     "data": {
      "image/svg+xml": [
       "<?xml version=\"1.0\" encoding=\"UTF-8\" standalone=\"no\"?><svg xmlns=\"http://www.w3.org/2000/svg\" xmlns:xlink=\"http://www.w3.org/1999/xlink\" contentScriptType=\"application/ecmascript\" contentStyleType=\"text/css\" height=\"12px\" preserveAspectRatio=\"none\" style=\"width:12px;height:12px;\" version=\"1.1\" viewBox=\"0 0 12 12\" width=\"12px\" zoomAndPan=\"magnify\"><defs/><g><!--MD5=[388f21188e31bfdd97050473b19af356]\n",
       "@startuml\r\n",
       "skinparam ranksep 8\r\n",
       "skinparam monochrome true\r\n",
       "skinparam classbackgroundcolor white\r\n",
       "skinparam shadowing false\r\n",
       "skinparam wrapWidth 300\r\n",
       "hide circle\r\n",
       "\r\n",
       "@enduml\r\n",
       "\n",
       "PlantUML version 1.2020.13(Sat Jun 13 12:26:38 UTC 2020)\n",
       "(EPL source distribution)\n",
       "Java Runtime: OpenJDK Runtime Environment\n",
       "JVM: OpenJDK 64-Bit Server VM\n",
       "Default Encoding: UTF-8\n",
       "Language: en\n",
       "Country: null\n",
       "--></g></svg>"
      ]
     },
     "execution_count": 41,
     "metadata": {},
     "output_type": "execute_result"
    }
   ],
   "source": [
    "%viz --style=\"DEFAULT\" --view=\"Action\" \"ConnectionTest\""
   ]
  },
  {
   "cell_type": "code",
   "execution_count": 42,
   "id": "176df47f",
   "metadata": {
    "execution": {
     "iopub.execute_input": "2021-09-27T07:17:34.440584Z",
     "iopub.status.busy": "2021-09-27T07:17:34.440161Z",
     "iopub.status.idle": "2021-09-27T07:17:34.444648Z",
     "shell.execute_reply": "2021-09-27T07:17:34.444941Z"
    }
   },
   "outputs": [
    {
     "data": {
      "image/svg+xml": [
       "<?xml version=\"1.0\" encoding=\"UTF-8\" standalone=\"no\"?><svg xmlns=\"http://www.w3.org/2000/svg\" xmlns:xlink=\"http://www.w3.org/1999/xlink\" contentScriptType=\"application/ecmascript\" contentStyleType=\"text/css\" height=\"12px\" preserveAspectRatio=\"none\" style=\"width:12px;height:12px;\" version=\"1.1\" viewBox=\"0 0 12 12\" width=\"12px\" zoomAndPan=\"magnify\"><defs/><g><!--MD5=[0b72472770326784bf6c2b53246e1e64]\n",
       "@startuml\r\n",
       "skinparam roundcorner 20\r\n",
       "skinparam BoxPadding 20\r\n",
       "skinparam SequenceBoxBackgroundColor #white\r\n",
       "skinparam style strictuml\r\n",
       "skinparam maxMessageSize 100\r\n",
       "skinparam monochrome true\r\n",
       "skinparam classbackgroundcolor white\r\n",
       "skinparam shadowing false\r\n",
       "skinparam wrapWidth 300\r\n",
       "hide circle\r\n",
       "\r\n",
       "@enduml\r\n",
       "\n",
       "PlantUML version 1.2020.13(Sat Jun 13 12:26:38 UTC 2020)\n",
       "(EPL source distribution)\n",
       "Java Runtime: OpenJDK Runtime Environment\n",
       "JVM: OpenJDK 64-Bit Server VM\n",
       "Default Encoding: UTF-8\n",
       "Language: en\n",
       "Country: null\n",
       "--></g></svg>"
      ]
     },
     "execution_count": 42,
     "metadata": {},
     "output_type": "execute_result"
    }
   ],
   "source": [
    "%viz --style=\"DEFAULT\" --view=\"Sequence\" \"ConnectionTest\""
   ]
  },
  {
   "cell_type": "code",
   "execution_count": 43,
   "id": "1563c7b7",
   "metadata": {
    "execution": {
     "iopub.execute_input": "2021-09-27T07:17:34.495265Z",
     "iopub.status.busy": "2021-09-27T07:17:34.494837Z",
     "iopub.status.idle": "2021-09-27T07:17:34.522694Z",
     "shell.execute_reply": "2021-09-27T07:17:34.522340Z"
    }
   },
   "outputs": [
    {
     "data": {
      "image/svg+xml": [
       "<?xml version=\"1.0\" encoding=\"UTF-8\" standalone=\"no\"?><svg xmlns=\"http://www.w3.org/2000/svg\" xmlns:xlink=\"http://www.w3.org/1999/xlink\" contentScriptType=\"application/ecmascript\" contentStyleType=\"text/css\" height=\"539px\" preserveAspectRatio=\"none\" style=\"width:189px;height:539px;\" version=\"1.1\" viewBox=\"0 0 189 539\" width=\"189px\" zoomAndPan=\"magnify\"><defs/><g><!--MD5=[fbc87193dbaf4d95561dea2c320d4a47]\n",
       "cluster E1--><a href=\"psysml:58064a58-d13b-4f80-a6f6-0eceb966f2f7\" target=\"_top\" title=\"psysml:58064a58-d13b-4f80-a6f6-0eceb966f2f7\" xlink:actuate=\"onRequest\" xlink:href=\"psysml:58064a58-d13b-4f80-a6f6-0eceb966f2f7\" xlink:show=\"new\" xlink:title=\"psysml:58064a58-d13b-4f80-a6f6-0eceb966f2f7\" xlink:type=\"simple\"><polygon fill=\"#FFFFFF\" points=\"16,6,133,6,140,28.2969,167,28.2969,167,527,16,527,16,6\" style=\"stroke: #000000; stroke-width: 1.5;\"/><line style=\"stroke: #000000; stroke-width: 1.5;\" x1=\"16\" x2=\"140\" y1=\"28.2969\" y2=\"28.2969\"/><text fill=\"#000000\" font-family=\"sans-serif\" font-size=\"14\" font-weight=\"bold\" lengthAdjust=\"spacingAndGlyphs\" textLength=\"111\" x=\"20\" y=\"20.9951\">ConnectionTest</text></a><!--MD5=[b4997ac47864f28c2f74865a473b2911]\n",
       "class E2--><a href=\"psysml:98bc980e-08bf-4c08-bf0e-335abb3c4ffd\" target=\"_top\" title=\"psysml:98bc980e-08bf-4c08-bf0e-335abb3c4ffd\" xlink:actuate=\"onRequest\" xlink:href=\"psysml:98bc980e-08bf-4c08-bf0e-335abb3c4ffd\" xlink:show=\"new\" xlink:title=\"psysml:98bc980e-08bf-4c08-bf0e-335abb3c4ffd\" xlink:type=\"simple\"><rect fill=\"#FFFFFF\" height=\"45.9375\" id=\"E2\" rx=\"10\" ry=\"10\" style=\"stroke: #383838; stroke-width: 1.5;\" width=\"42\" x=\"89\" y=\"253\"/><text fill=\"#000000\" font-family=\"sans-serif\" font-size=\"12\" font-style=\"italic\" lengthAdjust=\"spacingAndGlyphs\" textLength=\"40\" x=\"90\" y=\"269.1387\">«part»</text><text fill=\"#000000\" font-family=\"sans-serif\" font-size=\"12\" lengthAdjust=\"spacingAndGlyphs\" textLength=\"8\" x=\"106\" y=\"283.1074\">p</text><line style=\"stroke: #383838; stroke-width: 1.5;\" x1=\"90\" x2=\"130\" y1=\"290.9375\" y2=\"290.9375\"/></a><!--MD5=[09b614a08d8cba4a07c9adeb5e0fee81]\n",
       "class E3--><a href=\"psysml:c51e79ce-7cf1-4bdb-aba6-5cab2657d431\" target=\"_top\" title=\"psysml:c51e79ce-7cf1-4bdb-aba6-5cab2657d431\" xlink:actuate=\"onRequest\" xlink:href=\"psysml:c51e79ce-7cf1-4bdb-aba6-5cab2657d431\" xlink:show=\"new\" xlink:title=\"psysml:c51e79ce-7cf1-4bdb-aba6-5cab2657d431\" xlink:type=\"simple\"><rect fill=\"#FFFFFF\" height=\"45.9375\" id=\"E3\" rx=\"10\" ry=\"10\" style=\"stroke: #383838; stroke-width: 1.5;\" width=\"42\" x=\"109\" y=\"359\"/><text fill=\"#000000\" font-family=\"sans-serif\" font-size=\"12\" font-style=\"italic\" lengthAdjust=\"spacingAndGlyphs\" textLength=\"40\" x=\"110\" y=\"375.1387\">«part»</text><text fill=\"#000000\" font-family=\"sans-serif\" font-size=\"12\" lengthAdjust=\"spacingAndGlyphs\" textLength=\"6\" x=\"127\" y=\"389.1074\">x</text><line style=\"stroke: #383838; stroke-width: 1.5;\" x1=\"110\" x2=\"150\" y1=\"396.9375\" y2=\"396.9375\"/></a><!--MD5=[ebbe1d658d1005bcc118a6aa81145e00]\n",
       "class E4--><a href=\"psysml:31f41755-661a-4a53-a2bb-f2dfc01c0edf\" target=\"_top\" title=\"psysml:31f41755-661a-4a53-a2bb-f2dfc01c0edf\" xlink:actuate=\"onRequest\" xlink:href=\"psysml:31f41755-661a-4a53-a2bb-f2dfc01c0edf\" xlink:show=\"new\" xlink:title=\"psysml:31f41755-661a-4a53-a2bb-f2dfc01c0edf\" xlink:type=\"simple\"><rect fill=\"#FFFFFF\" height=\"45.9375\" id=\"E4\" rx=\"10\" ry=\"10\" style=\"stroke: #383838; stroke-width: 1.5;\" width=\"42\" x=\"109\" y=\"465\"/><text fill=\"#000000\" font-family=\"sans-serif\" font-size=\"12\" font-style=\"italic\" lengthAdjust=\"spacingAndGlyphs\" textLength=\"40\" x=\"110\" y=\"481.1387\">«part»</text><text fill=\"#000000\" font-family=\"sans-serif\" font-size=\"12\" lengthAdjust=\"spacingAndGlyphs\" textLength=\"14\" x=\"123\" y=\"495.1074\">x1</text><line style=\"stroke: #383838; stroke-width: 1.5;\" x1=\"110\" x2=\"150\" y1=\"502.9375\" y2=\"502.9375\"/></a><!--MD5=[270fce915f116d4de14055a7c1d9a0f3]\n",
       "class E5--><a href=\"psysml:9833d686-e720-46bf-b438-35dbd29b7a16\" target=\"_top\" title=\"psysml:9833d686-e720-46bf-b438-35dbd29b7a16\" xlink:actuate=\"onRequest\" xlink:href=\"psysml:9833d686-e720-46bf-b438-35dbd29b7a16\" xlink:show=\"new\" xlink:title=\"psysml:9833d686-e720-46bf-b438-35dbd29b7a16\" xlink:type=\"simple\"><rect fill=\"#FFFFFF\" height=\"45.9375\" id=\"E5\" style=\"stroke: #383838; stroke-width: 1.5;\" width=\"66\" x=\"54\" y=\"41\"/><text fill=\"#000000\" font-family=\"sans-serif\" font-size=\"12\" font-style=\"italic\" lengthAdjust=\"spacingAndGlyphs\" textLength=\"64\" x=\"55\" y=\"57.1387\">«part def»</text><text fill=\"#000000\" font-family=\"sans-serif\" font-size=\"12\" lengthAdjust=\"spacingAndGlyphs\" textLength=\"8\" x=\"83\" y=\"71.1074\">P</text><line style=\"stroke: #383838; stroke-width: 1.5;\" x1=\"55\" x2=\"119\" y1=\"78.9375\" y2=\"78.9375\"/></a><!--MD5=[60a26617385b1d2d0262a64233df1f8d]\n",
       "class E6--><a href=\"psysml:f96f9e94-0e28-4abd-b8cb-5d3679a708db\" target=\"_top\" title=\"psysml:f96f9e94-0e28-4abd-b8cb-5d3679a708db\" xlink:actuate=\"onRequest\" xlink:href=\"psysml:f96f9e94-0e28-4abd-b8cb-5d3679a708db\" xlink:show=\"new\" xlink:title=\"psysml:f96f9e94-0e28-4abd-b8cb-5d3679a708db\" xlink:type=\"simple\"><rect fill=\"#FFFFFF\" height=\"45.9375\" id=\"E6\" rx=\"10\" ry=\"10\" style=\"stroke: #383838; stroke-width: 1.5;\" width=\"42\" x=\"32\" y=\"359\"/><text fill=\"#000000\" font-family=\"sans-serif\" font-size=\"12\" font-style=\"italic\" lengthAdjust=\"spacingAndGlyphs\" textLength=\"40\" x=\"33\" y=\"375.1387\">«part»</text><text fill=\"#000000\" font-family=\"sans-serif\" font-size=\"12\" lengthAdjust=\"spacingAndGlyphs\" textLength=\"6\" x=\"50\" y=\"389.1074\">y</text><line style=\"stroke: #383838; stroke-width: 1.5;\" x1=\"33\" x2=\"73\" y1=\"396.9375\" y2=\"396.9375\"/></a><!--MD5=[2156ba9850f5573cc1fc38a6a4b2f02b]\n",
       "class E7--><a href=\"psysml:2279d5a4-5f0e-43ce-88bf-f6ddb21c3f25\" target=\"_top\" title=\"psysml:2279d5a4-5f0e-43ce-88bf-f6ddb21c3f25\" xlink:actuate=\"onRequest\" xlink:href=\"psysml:2279d5a4-5f0e-43ce-88bf-f6ddb21c3f25\" xlink:show=\"new\" xlink:title=\"psysml:2279d5a4-5f0e-43ce-88bf-f6ddb21c3f25\" xlink:type=\"simple\"><rect fill=\"#FFFFFF\" height=\"45.9375\" id=\"E7\" rx=\"10\" ry=\"10\" style=\"stroke: #383838; stroke-width: 1.5;\" width=\"42\" x=\"89\" y=\"147\"/><text fill=\"#000000\" font-family=\"sans-serif\" font-size=\"12\" font-style=\"italic\" lengthAdjust=\"spacingAndGlyphs\" textLength=\"40\" x=\"90\" y=\"163.1387\">«part»</text><text fill=\"#000000\" font-family=\"sans-serif\" font-size=\"12\" lengthAdjust=\"spacingAndGlyphs\" textLength=\"16\" x=\"102\" y=\"177.1074\">p1</text><line style=\"stroke: #383838; stroke-width: 1.5;\" x1=\"90\" x2=\"130\" y1=\"184.9375\" y2=\"184.9375\"/></a><!--MD5=[209b3feb70ccb6233bfe1053d122c12c]\n",
       "reverse link E2 to E3--><a href=\"psysml:1ffc18c1-940f-43c3-a54c-dcf9b76281a6\" target=\"_top\" title=\"psysml:1ffc18c1-940f-43c3-a54c-dcf9b76281a6\" xlink:actuate=\"onRequest\" xlink:href=\"psysml:1ffc18c1-940f-43c3-a54c-dcf9b76281a6\" xlink:show=\"new\" xlink:title=\"psysml:1ffc18c1-940f-43c3-a54c-dcf9b76281a6\" xlink:type=\"simple\"><path d=\"M116.72,311.96 C119.71,327.51 123.14,345.33 125.76,358.98 \" fill=\"none\" id=\"E2&lt;-E3\" style=\"stroke: #383838; stroke-width: 1.0;\"/><polygon fill=\"#383838\" points=\"114.24,299.06,111.447,305.7082,116.5096,310.8434,119.3026,304.1952,114.24,299.06\" style=\"stroke: #383838; stroke-width: 1.0;\"/><text fill=\"#000000\" font-family=\"sans-serif\" font-size=\"13\" lengthAdjust=\"spacingAndGlyphs\" textLength=\"8\" x=\"115.5455\" y=\"347.8709\">1</text></a><!--MD5=[4672eba38e49728da53d11aeb285b987]\n",
       "reverse link E3 to E4--><a href=\"psysml:3d75ef33-b13b-4214-af18-b5d2941be4f9\" target=\"_top\" title=\"psysml:3d75ef33-b13b-4214-af18-b5d2941be4f9\" xlink:actuate=\"onRequest\" xlink:href=\"psysml:3d75ef33-b13b-4214-af18-b5d2941be4f9\" xlink:show=\"new\" xlink:title=\"psysml:3d75ef33-b13b-4214-af18-b5d2941be4f9\" xlink:type=\"simple\"><path d=\"M130,418.44 C130,433.87 130,451.47 130,464.98 \" fill=\"none\" id=\"E3&lt;-E4\" style=\"stroke: #383838; stroke-width: 1.0;\"/><polygon fill=\"#383838\" points=\"130,405.06,126,411.06,130,417.06,134,411.06,130,405.06\" style=\"stroke: #383838; stroke-width: 1.0;\"/><text fill=\"#000000\" font-family=\"sans-serif\" font-size=\"13\" lengthAdjust=\"spacingAndGlyphs\" textLength=\"8\" x=\"120.925\" y=\"453.8709\">1</text></a><!--MD5=[85d356282659285ab4b2cfe2f634dd2b]\n",
       "reverse link E5 to E6--><a href=\"psysml:d68af8b5-54d9-4416-b26b-1e36c98f2c99\" target=\"_top\" title=\"psysml:d68af8b5-54d9-4416-b26b-1e36c98f2c99\" xlink:actuate=\"onRequest\" xlink:href=\"psysml:d68af8b5-54d9-4416-b26b-1e36c98f2c99\" xlink:show=\"new\" xlink:title=\"psysml:d68af8b5-54d9-4416-b26b-1e36c98f2c99\" xlink:type=\"simple\"><path d=\"M79.77,100.15 C77.01,114.61 74.03,131.56 72,147 C61.78,224.59 56.2,317.42 54.05,358.98 \" fill=\"none\" id=\"E5&lt;-E6\" style=\"stroke: #383838; stroke-width: 1.0;\"/><polygon fill=\"#383838\" points=\"82.32,87.18,77.2408,92.2988,80.0123,98.956,85.0915,93.8372,82.32,87.18\" style=\"stroke: #383838; stroke-width: 1.0;\"/><text fill=\"#000000\" font-family=\"sans-serif\" font-size=\"13\" lengthAdjust=\"spacingAndGlyphs\" textLength=\"8\" x=\"45.2572\" y=\"347.8709\">1</text></a><!--MD5=[e3e28c1befcf002155aa15e1416b4315]\n",
       "link E2 to E6--><a href=\"psysml:901b44a6-3b8d-4bea-9e51-ad40652cd7ff\" target=\"_top\" title=\"psysml:901b44a6-3b8d-4bea-9e51-ad40652cd7ff\" xlink:actuate=\"onRequest\" xlink:href=\"psysml:901b44a6-3b8d-4bea-9e51-ad40652cd7ff\" xlink:show=\"new\" xlink:title=\"psysml:901b44a6-3b8d-4bea-9e51-ad40652cd7ff\" xlink:type=\"simple\"><path d=\"M97.91,299.06 C88.24,316.7 74.74,341.34 65.07,358.98 \" fill=\"none\" id=\"E2-E6\" style=\"stroke: #383838; stroke-width: 3.0;\"/><text fill=\"#000000\" font-family=\"sans-serif\" font-size=\"13\" lengthAdjust=\"spacingAndGlyphs\" textLength=\"7\" x=\"60.3732\" y=\"347.8709\">*</text></a><!--MD5=[452b418e7f8a40397a49b8c0a78acc5b]\n",
       "reverse link E5 to E7--><a href=\"psysml:5a5926b8-11d9-4284-b6a0-db32c9e29bb2\" target=\"_top\" title=\"psysml:5a5926b8-11d9-4284-b6a0-db32c9e29bb2\" xlink:actuate=\"onRequest\" xlink:href=\"psysml:5a5926b8-11d9-4284-b6a0-db32c9e29bb2\" xlink:show=\"new\" xlink:title=\"psysml:5a5926b8-11d9-4284-b6a0-db32c9e29bb2\" xlink:type=\"simple\"><path d=\"M94.73,99.96 C98.17,115.51 102.11,133.33 105.13,146.98 \" fill=\"none\" id=\"E5&lt;-E7\" style=\"stroke: #383838; stroke-width: 1.0;\"/><polygon fill=\"#383838\" points=\"91.88,87.06,89.2656,93.7805,94.4636,98.7786,97.078,92.0581,91.88,87.06\" style=\"stroke: #383838; stroke-width: 1.0;\"/><text fill=\"#000000\" font-family=\"sans-serif\" font-size=\"13\" lengthAdjust=\"spacingAndGlyphs\" textLength=\"8\" x=\"94.7462\" y=\"135.8709\">1</text></a><!--MD5=[583832df87f4419a098336a29a52fa00]\n",
       "link E7 to E2--><a href=\"psysml:dd540a25-2742-496a-aaa6-3ea5cc8a4940\" target=\"_top\" title=\"psysml:dd540a25-2742-496a-aaa6-3ea5cc8a4940\" xlink:actuate=\"onRequest\" xlink:href=\"psysml:dd540a25-2742-496a-aaa6-3ea5cc8a4940\" xlink:show=\"new\" xlink:title=\"psysml:dd540a25-2742-496a-aaa6-3ea5cc8a4940\" xlink:type=\"simple\"><path d=\"M110,193.06 C110,204.64 110,219.23 110,232.87 \" fill=\"none\" id=\"E7-&gt;E2\" style=\"stroke: #383838; stroke-width: 1.0;\"/><polygon fill=\"none\" points=\"117,232.98,110,252.98,103,232.98,117,232.98\" style=\"stroke: #383838; stroke-width: 1.0;\"/></a><!--MD5=[1c5f881d0df3fb81871d3c2cdf606d56]\n",
       "@startuml\r\n",
       "skinparam monochrome true\r\n",
       "skinparam classbackgroundcolor white\r\n",
       "skinparam shadowing false\r\n",
       "skinparam wrapWidth 300\r\n",
       "hide circle\r\n",
       "\r\n",
       "package \"ConnectionTest\" as E1  [[psysml:58064a58-d13b-4f80-a6f6-0eceb966f2f7 ]]  {\r\n",
       "comp usage \"p\" as E2  <<(T,blue) part>> [[psysml:98bc980e-08bf-4c08-bf0e-335abb3c4ffd ]] {\r\n",
       "}\r\n",
       "comp usage \"x\" as E3  <<(T,blue) part>> [[psysml:c51e79ce-7cf1-4bdb-aba6-5cab2657d431 ]] {\r\n",
       "}\r\n",
       "comp usage \"x1\" as E4  <<(T,blue) part>> [[psysml:31f41755-661a-4a53-a2bb-f2dfc01c0edf ]] {\r\n",
       "}\r\n",
       "comp def \"P\" as E5  <<(T,blue) part def>> [[psysml:9833d686-e720-46bf-b438-35dbd29b7a16 ]] {\r\n",
       "}\r\n",
       "comp usage \"y\" as E6  <<(T,blue) part>> [[psysml:f96f9e94-0e28-4abd-b8cb-5d3679a708db ]] {\r\n",
       "}\r\n",
       "comp usage \"p1\" as E7  <<(T,blue) part>> [[psysml:2279d5a4-5f0e-43ce-88bf-f6ddb21c3f25 ]] {\r\n",
       "}\r\n",
       "}\r\n",
       "E2 *- - \"1\"E3 [[psysml:1ffc18c1-940f-43c3-a54c-dcf9b76281a6 ]] \r\n",
       "E3 *- - \"1\"E4 [[psysml:3d75ef33-b13b-4214-af18-b5d2941be4f9 ]] \r\n",
       "E5 *- - \"1\"E6 [[psysml:d68af8b5-54d9-4416-b26b-1e36c98f2c99 ]] \r\n",
       "E2 -[thickness=3]- \"*\"E6 [[psysml:901b44a6-3b8d-4bea-9e51-ad40652cd7ff ]] \r\n",
       "E5 *- - \"1\"E7 [[psysml:5a5926b8-11d9-4284-b6a0-db32c9e29bb2 ]] \r\n",
       "E7 - -|> E2 [[psysml:dd540a25-2742-496a-aaa6-3ea5cc8a4940 ]] \r\n",
       "@enduml\r\n",
       "\n",
       "PlantUML version 1.2020.13(Sat Jun 13 12:26:38 UTC 2020)\n",
       "(EPL source distribution)\n",
       "Java Runtime: OpenJDK Runtime Environment\n",
       "JVM: OpenJDK 64-Bit Server VM\n",
       "Default Encoding: UTF-8\n",
       "Language: en\n",
       "Country: null\n",
       "--></g></svg>"
      ]
     },
     "execution_count": 43,
     "metadata": {},
     "output_type": "execute_result"
    }
   ],
   "source": [
    "%viz --style=\"DEFAULT\" --view=\"MIXED\" \"ConnectionTest\""
   ]
  },
  {
   "cell_type": "code",
   "execution_count": 44,
   "id": "15bed695",
   "metadata": {
    "execution": {
     "iopub.execute_input": "2021-09-27T07:17:34.572515Z",
     "iopub.status.busy": "2021-09-27T07:17:34.572119Z",
     "iopub.status.idle": "2021-09-27T07:17:34.605490Z",
     "shell.execute_reply": "2021-09-27T07:17:34.605803Z"
    }
   },
   "outputs": [
    {
     "data": {
      "image/svg+xml": [
       "<?xml version=\"1.0\" encoding=\"UTF-8\" standalone=\"no\"?><svg xmlns=\"http://www.w3.org/2000/svg\" xmlns:xlink=\"http://www.w3.org/1999/xlink\" contentScriptType=\"application/ecmascript\" contentStyleType=\"text/css\" height=\"539px\" preserveAspectRatio=\"none\" style=\"width:189px;height:539px;\" version=\"1.1\" viewBox=\"0 0 189 539\" width=\"189px\" zoomAndPan=\"magnify\"><defs/><g><!--MD5=[fbc87193dbaf4d95561dea2c320d4a47]\n",
       "cluster E1--><a href=\"psysml:58064a58-d13b-4f80-a6f6-0eceb966f2f7\" target=\"_top\" title=\"psysml:58064a58-d13b-4f80-a6f6-0eceb966f2f7\" xlink:actuate=\"onRequest\" xlink:href=\"psysml:58064a58-d13b-4f80-a6f6-0eceb966f2f7\" xlink:show=\"new\" xlink:title=\"psysml:58064a58-d13b-4f80-a6f6-0eceb966f2f7\" xlink:type=\"simple\"><polygon fill=\"#FFFFFF\" points=\"16,6,133,6,140,28.2969,167,28.2969,167,527,16,527,16,6\" style=\"stroke: #000000; stroke-width: 1.5;\"/><line style=\"stroke: #000000; stroke-width: 1.5;\" x1=\"16\" x2=\"140\" y1=\"28.2969\" y2=\"28.2969\"/><text fill=\"#000000\" font-family=\"sans-serif\" font-size=\"14\" font-weight=\"bold\" lengthAdjust=\"spacingAndGlyphs\" textLength=\"111\" x=\"20\" y=\"20.9951\">ConnectionTest</text></a><!--MD5=[b4997ac47864f28c2f74865a473b2911]\n",
       "class E2--><a href=\"psysml:98bc980e-08bf-4c08-bf0e-335abb3c4ffd\" target=\"_top\" title=\"psysml:98bc980e-08bf-4c08-bf0e-335abb3c4ffd\" xlink:actuate=\"onRequest\" xlink:href=\"psysml:98bc980e-08bf-4c08-bf0e-335abb3c4ffd\" xlink:show=\"new\" xlink:title=\"psysml:98bc980e-08bf-4c08-bf0e-335abb3c4ffd\" xlink:type=\"simple\"><rect fill=\"#FFFFFF\" height=\"45.9375\" id=\"E2\" rx=\"10\" ry=\"10\" style=\"stroke: #383838; stroke-width: 1.5;\" width=\"42\" x=\"89\" y=\"253\"/><text fill=\"#000000\" font-family=\"sans-serif\" font-size=\"12\" font-style=\"italic\" lengthAdjust=\"spacingAndGlyphs\" textLength=\"40\" x=\"90\" y=\"269.1387\">«part»</text><text fill=\"#000000\" font-family=\"sans-serif\" font-size=\"12\" lengthAdjust=\"spacingAndGlyphs\" textLength=\"8\" x=\"106\" y=\"283.1074\">p</text><line style=\"stroke: #383838; stroke-width: 1.5;\" x1=\"90\" x2=\"130\" y1=\"290.9375\" y2=\"290.9375\"/></a><!--MD5=[09b614a08d8cba4a07c9adeb5e0fee81]\n",
       "class E3--><a href=\"psysml:c51e79ce-7cf1-4bdb-aba6-5cab2657d431\" target=\"_top\" title=\"psysml:c51e79ce-7cf1-4bdb-aba6-5cab2657d431\" xlink:actuate=\"onRequest\" xlink:href=\"psysml:c51e79ce-7cf1-4bdb-aba6-5cab2657d431\" xlink:show=\"new\" xlink:title=\"psysml:c51e79ce-7cf1-4bdb-aba6-5cab2657d431\" xlink:type=\"simple\"><rect fill=\"#FFFFFF\" height=\"45.9375\" id=\"E3\" rx=\"10\" ry=\"10\" style=\"stroke: #383838; stroke-width: 1.5;\" width=\"42\" x=\"109\" y=\"359\"/><text fill=\"#000000\" font-family=\"sans-serif\" font-size=\"12\" font-style=\"italic\" lengthAdjust=\"spacingAndGlyphs\" textLength=\"40\" x=\"110\" y=\"375.1387\">«part»</text><text fill=\"#000000\" font-family=\"sans-serif\" font-size=\"12\" lengthAdjust=\"spacingAndGlyphs\" textLength=\"6\" x=\"127\" y=\"389.1074\">x</text><line style=\"stroke: #383838; stroke-width: 1.5;\" x1=\"110\" x2=\"150\" y1=\"396.9375\" y2=\"396.9375\"/></a><!--MD5=[ebbe1d658d1005bcc118a6aa81145e00]\n",
       "class E4--><a href=\"psysml:31f41755-661a-4a53-a2bb-f2dfc01c0edf\" target=\"_top\" title=\"psysml:31f41755-661a-4a53-a2bb-f2dfc01c0edf\" xlink:actuate=\"onRequest\" xlink:href=\"psysml:31f41755-661a-4a53-a2bb-f2dfc01c0edf\" xlink:show=\"new\" xlink:title=\"psysml:31f41755-661a-4a53-a2bb-f2dfc01c0edf\" xlink:type=\"simple\"><rect fill=\"#FFFFFF\" height=\"45.9375\" id=\"E4\" rx=\"10\" ry=\"10\" style=\"stroke: #383838; stroke-width: 1.5;\" width=\"42\" x=\"109\" y=\"465\"/><text fill=\"#000000\" font-family=\"sans-serif\" font-size=\"12\" font-style=\"italic\" lengthAdjust=\"spacingAndGlyphs\" textLength=\"40\" x=\"110\" y=\"481.1387\">«part»</text><text fill=\"#000000\" font-family=\"sans-serif\" font-size=\"12\" lengthAdjust=\"spacingAndGlyphs\" textLength=\"14\" x=\"123\" y=\"495.1074\">x1</text><line style=\"stroke: #383838; stroke-width: 1.5;\" x1=\"110\" x2=\"150\" y1=\"502.9375\" y2=\"502.9375\"/></a><!--MD5=[270fce915f116d4de14055a7c1d9a0f3]\n",
       "class E5--><a href=\"psysml:9833d686-e720-46bf-b438-35dbd29b7a16\" target=\"_top\" title=\"psysml:9833d686-e720-46bf-b438-35dbd29b7a16\" xlink:actuate=\"onRequest\" xlink:href=\"psysml:9833d686-e720-46bf-b438-35dbd29b7a16\" xlink:show=\"new\" xlink:title=\"psysml:9833d686-e720-46bf-b438-35dbd29b7a16\" xlink:type=\"simple\"><rect fill=\"#FFFFFF\" height=\"45.9375\" id=\"E5\" style=\"stroke: #383838; stroke-width: 1.5;\" width=\"66\" x=\"54\" y=\"41\"/><text fill=\"#000000\" font-family=\"sans-serif\" font-size=\"12\" font-style=\"italic\" lengthAdjust=\"spacingAndGlyphs\" textLength=\"64\" x=\"55\" y=\"57.1387\">«part def»</text><text fill=\"#000000\" font-family=\"sans-serif\" font-size=\"12\" lengthAdjust=\"spacingAndGlyphs\" textLength=\"8\" x=\"83\" y=\"71.1074\">P</text><line style=\"stroke: #383838; stroke-width: 1.5;\" x1=\"55\" x2=\"119\" y1=\"78.9375\" y2=\"78.9375\"/></a><!--MD5=[60a26617385b1d2d0262a64233df1f8d]\n",
       "class E6--><a href=\"psysml:f96f9e94-0e28-4abd-b8cb-5d3679a708db\" target=\"_top\" title=\"psysml:f96f9e94-0e28-4abd-b8cb-5d3679a708db\" xlink:actuate=\"onRequest\" xlink:href=\"psysml:f96f9e94-0e28-4abd-b8cb-5d3679a708db\" xlink:show=\"new\" xlink:title=\"psysml:f96f9e94-0e28-4abd-b8cb-5d3679a708db\" xlink:type=\"simple\"><rect fill=\"#FFFFFF\" height=\"45.9375\" id=\"E6\" rx=\"10\" ry=\"10\" style=\"stroke: #383838; stroke-width: 1.5;\" width=\"42\" x=\"32\" y=\"359\"/><text fill=\"#000000\" font-family=\"sans-serif\" font-size=\"12\" font-style=\"italic\" lengthAdjust=\"spacingAndGlyphs\" textLength=\"40\" x=\"33\" y=\"375.1387\">«part»</text><text fill=\"#000000\" font-family=\"sans-serif\" font-size=\"12\" lengthAdjust=\"spacingAndGlyphs\" textLength=\"6\" x=\"50\" y=\"389.1074\">y</text><line style=\"stroke: #383838; stroke-width: 1.5;\" x1=\"33\" x2=\"73\" y1=\"396.9375\" y2=\"396.9375\"/></a><!--MD5=[2156ba9850f5573cc1fc38a6a4b2f02b]\n",
       "class E7--><a href=\"psysml:2279d5a4-5f0e-43ce-88bf-f6ddb21c3f25\" target=\"_top\" title=\"psysml:2279d5a4-5f0e-43ce-88bf-f6ddb21c3f25\" xlink:actuate=\"onRequest\" xlink:href=\"psysml:2279d5a4-5f0e-43ce-88bf-f6ddb21c3f25\" xlink:show=\"new\" xlink:title=\"psysml:2279d5a4-5f0e-43ce-88bf-f6ddb21c3f25\" xlink:type=\"simple\"><rect fill=\"#FFFFFF\" height=\"45.9375\" id=\"E7\" rx=\"10\" ry=\"10\" style=\"stroke: #383838; stroke-width: 1.5;\" width=\"42\" x=\"89\" y=\"147\"/><text fill=\"#000000\" font-family=\"sans-serif\" font-size=\"12\" font-style=\"italic\" lengthAdjust=\"spacingAndGlyphs\" textLength=\"40\" x=\"90\" y=\"163.1387\">«part»</text><text fill=\"#000000\" font-family=\"sans-serif\" font-size=\"12\" lengthAdjust=\"spacingAndGlyphs\" textLength=\"16\" x=\"102\" y=\"177.1074\">p1</text><line style=\"stroke: #383838; stroke-width: 1.5;\" x1=\"90\" x2=\"130\" y1=\"184.9375\" y2=\"184.9375\"/></a><!--MD5=[209b3feb70ccb6233bfe1053d122c12c]\n",
       "reverse link E2 to E3--><a href=\"psysml:1ffc18c1-940f-43c3-a54c-dcf9b76281a6\" target=\"_top\" title=\"psysml:1ffc18c1-940f-43c3-a54c-dcf9b76281a6\" xlink:actuate=\"onRequest\" xlink:href=\"psysml:1ffc18c1-940f-43c3-a54c-dcf9b76281a6\" xlink:show=\"new\" xlink:title=\"psysml:1ffc18c1-940f-43c3-a54c-dcf9b76281a6\" xlink:type=\"simple\"><path d=\"M116.72,311.96 C119.71,327.51 123.14,345.33 125.76,358.98 \" fill=\"none\" id=\"E2&lt;-E3\" style=\"stroke: #383838; stroke-width: 1.0;\"/><polygon fill=\"#383838\" points=\"114.24,299.06,111.447,305.7082,116.5096,310.8434,119.3026,304.1952,114.24,299.06\" style=\"stroke: #383838; stroke-width: 1.0;\"/><text fill=\"#000000\" font-family=\"sans-serif\" font-size=\"13\" lengthAdjust=\"spacingAndGlyphs\" textLength=\"8\" x=\"115.5455\" y=\"347.8709\">1</text></a><!--MD5=[4672eba38e49728da53d11aeb285b987]\n",
       "reverse link E3 to E4--><a href=\"psysml:3d75ef33-b13b-4214-af18-b5d2941be4f9\" target=\"_top\" title=\"psysml:3d75ef33-b13b-4214-af18-b5d2941be4f9\" xlink:actuate=\"onRequest\" xlink:href=\"psysml:3d75ef33-b13b-4214-af18-b5d2941be4f9\" xlink:show=\"new\" xlink:title=\"psysml:3d75ef33-b13b-4214-af18-b5d2941be4f9\" xlink:type=\"simple\"><path d=\"M130,418.44 C130,433.87 130,451.47 130,464.98 \" fill=\"none\" id=\"E3&lt;-E4\" style=\"stroke: #383838; stroke-width: 1.0;\"/><polygon fill=\"#383838\" points=\"130,405.06,126,411.06,130,417.06,134,411.06,130,405.06\" style=\"stroke: #383838; stroke-width: 1.0;\"/><text fill=\"#000000\" font-family=\"sans-serif\" font-size=\"13\" lengthAdjust=\"spacingAndGlyphs\" textLength=\"8\" x=\"120.925\" y=\"453.8709\">1</text></a><!--MD5=[85d356282659285ab4b2cfe2f634dd2b]\n",
       "reverse link E5 to E6--><a href=\"psysml:d68af8b5-54d9-4416-b26b-1e36c98f2c99\" target=\"_top\" title=\"psysml:d68af8b5-54d9-4416-b26b-1e36c98f2c99\" xlink:actuate=\"onRequest\" xlink:href=\"psysml:d68af8b5-54d9-4416-b26b-1e36c98f2c99\" xlink:show=\"new\" xlink:title=\"psysml:d68af8b5-54d9-4416-b26b-1e36c98f2c99\" xlink:type=\"simple\"><path d=\"M79.77,100.15 C77.01,114.61 74.03,131.56 72,147 C61.78,224.59 56.2,317.42 54.05,358.98 \" fill=\"none\" id=\"E5&lt;-E6\" style=\"stroke: #383838; stroke-width: 1.0;\"/><polygon fill=\"#383838\" points=\"82.32,87.18,77.2408,92.2988,80.0123,98.956,85.0915,93.8372,82.32,87.18\" style=\"stroke: #383838; stroke-width: 1.0;\"/><text fill=\"#000000\" font-family=\"sans-serif\" font-size=\"13\" lengthAdjust=\"spacingAndGlyphs\" textLength=\"8\" x=\"45.2572\" y=\"347.8709\">1</text></a><!--MD5=[e3e28c1befcf002155aa15e1416b4315]\n",
       "link E2 to E6--><a href=\"psysml:901b44a6-3b8d-4bea-9e51-ad40652cd7ff\" target=\"_top\" title=\"psysml:901b44a6-3b8d-4bea-9e51-ad40652cd7ff\" xlink:actuate=\"onRequest\" xlink:href=\"psysml:901b44a6-3b8d-4bea-9e51-ad40652cd7ff\" xlink:show=\"new\" xlink:title=\"psysml:901b44a6-3b8d-4bea-9e51-ad40652cd7ff\" xlink:type=\"simple\"><path d=\"M97.91,299.06 C88.24,316.7 74.74,341.34 65.07,358.98 \" fill=\"none\" id=\"E2-E6\" style=\"stroke: #383838; stroke-width: 3.0;\"/><text fill=\"#000000\" font-family=\"sans-serif\" font-size=\"13\" lengthAdjust=\"spacingAndGlyphs\" textLength=\"7\" x=\"60.3732\" y=\"347.8709\">*</text></a><!--MD5=[452b418e7f8a40397a49b8c0a78acc5b]\n",
       "reverse link E5 to E7--><a href=\"psysml:5a5926b8-11d9-4284-b6a0-db32c9e29bb2\" target=\"_top\" title=\"psysml:5a5926b8-11d9-4284-b6a0-db32c9e29bb2\" xlink:actuate=\"onRequest\" xlink:href=\"psysml:5a5926b8-11d9-4284-b6a0-db32c9e29bb2\" xlink:show=\"new\" xlink:title=\"psysml:5a5926b8-11d9-4284-b6a0-db32c9e29bb2\" xlink:type=\"simple\"><path d=\"M94.73,99.96 C98.17,115.51 102.11,133.33 105.13,146.98 \" fill=\"none\" id=\"E5&lt;-E7\" style=\"stroke: #383838; stroke-width: 1.0;\"/><polygon fill=\"#383838\" points=\"91.88,87.06,89.2656,93.7805,94.4636,98.7786,97.078,92.0581,91.88,87.06\" style=\"stroke: #383838; stroke-width: 1.0;\"/><text fill=\"#000000\" font-family=\"sans-serif\" font-size=\"13\" lengthAdjust=\"spacingAndGlyphs\" textLength=\"8\" x=\"94.7462\" y=\"135.8709\">1</text></a><!--MD5=[583832df87f4419a098336a29a52fa00]\n",
       "link E7 to E2--><a href=\"psysml:dd540a25-2742-496a-aaa6-3ea5cc8a4940\" target=\"_top\" title=\"psysml:dd540a25-2742-496a-aaa6-3ea5cc8a4940\" xlink:actuate=\"onRequest\" xlink:href=\"psysml:dd540a25-2742-496a-aaa6-3ea5cc8a4940\" xlink:show=\"new\" xlink:title=\"psysml:dd540a25-2742-496a-aaa6-3ea5cc8a4940\" xlink:type=\"simple\"><path d=\"M110,193.06 C110,204.64 110,219.23 110,232.87 \" fill=\"none\" id=\"E7-&gt;E2\" style=\"stroke: #383838; stroke-width: 1.0;\"/><polygon fill=\"none\" points=\"117,232.98,110,252.98,103,232.98,117,232.98\" style=\"stroke: #383838; stroke-width: 1.0;\"/></a><!--MD5=[73398b0ac8040a0c0ef7ce5506e24d67]\n",
       "@startuml\r\n",
       "top to bottom direction\r\n",
       "skinparam monochrome true\r\n",
       "skinparam classbackgroundcolor white\r\n",
       "skinparam shadowing false\r\n",
       "skinparam wrapWidth 300\r\n",
       "hide circle\r\n",
       "\r\n",
       "package \"ConnectionTest\" as E1  [[psysml:58064a58-d13b-4f80-a6f6-0eceb966f2f7 ]]  {\r\n",
       "comp usage \"p\" as E2  <<(T,blue) part>> [[psysml:98bc980e-08bf-4c08-bf0e-335abb3c4ffd ]] {\r\n",
       "}\r\n",
       "comp usage \"x\" as E3  <<(T,blue) part>> [[psysml:c51e79ce-7cf1-4bdb-aba6-5cab2657d431 ]] {\r\n",
       "}\r\n",
       "comp usage \"x1\" as E4  <<(T,blue) part>> [[psysml:31f41755-661a-4a53-a2bb-f2dfc01c0edf ]] {\r\n",
       "}\r\n",
       "comp def \"P\" as E5  <<(T,blue) part def>> [[psysml:9833d686-e720-46bf-b438-35dbd29b7a16 ]] {\r\n",
       "}\r\n",
       "comp usage \"y\" as E6  <<(T,blue) part>> [[psysml:f96f9e94-0e28-4abd-b8cb-5d3679a708db ]] {\r\n",
       "}\r\n",
       "comp usage \"p1\" as E7  <<(T,blue) part>> [[psysml:2279d5a4-5f0e-43ce-88bf-f6ddb21c3f25 ]] {\r\n",
       "}\r\n",
       "}\r\n",
       "E2 *- - \"1\"E3 [[psysml:1ffc18c1-940f-43c3-a54c-dcf9b76281a6 ]] \r\n",
       "E3 *- - \"1\"E4 [[psysml:3d75ef33-b13b-4214-af18-b5d2941be4f9 ]] \r\n",
       "E5 *- - \"1\"E6 [[psysml:d68af8b5-54d9-4416-b26b-1e36c98f2c99 ]] \r\n",
       "E2 -[thickness=3]- \"*\"E6 [[psysml:901b44a6-3b8d-4bea-9e51-ad40652cd7ff ]] \r\n",
       "E5 *- - \"1\"E7 [[psysml:5a5926b8-11d9-4284-b6a0-db32c9e29bb2 ]] \r\n",
       "E7 - -|> E2 [[psysml:dd540a25-2742-496a-aaa6-3ea5cc8a4940 ]] \r\n",
       "@enduml\r\n",
       "\n",
       "PlantUML version 1.2020.13(Sat Jun 13 12:26:38 UTC 2020)\n",
       "(EPL source distribution)\n",
       "Java Runtime: OpenJDK Runtime Environment\n",
       "JVM: OpenJDK 64-Bit Server VM\n",
       "Default Encoding: UTF-8\n",
       "Language: en\n",
       "Country: null\n",
       "--></g></svg>"
      ]
     },
     "execution_count": 44,
     "metadata": {},
     "output_type": "execute_result"
    }
   ],
   "source": [
    "%viz --style=\"TB\" --view=\"Default\" \"ConnectionTest\""
   ]
  },
  {
   "cell_type": "code",
   "execution_count": 45,
   "id": "5e9a43d5",
   "metadata": {
    "execution": {
     "iopub.execute_input": "2021-09-27T07:17:34.655737Z",
     "iopub.status.busy": "2021-09-27T07:17:34.655340Z",
     "iopub.status.idle": "2021-09-27T07:17:34.686244Z",
     "shell.execute_reply": "2021-09-27T07:17:34.685894Z"
    }
   },
   "outputs": [
    {
     "data": {
      "image/svg+xml": [
       "<?xml version=\"1.0\" encoding=\"UTF-8\" standalone=\"no\"?><svg xmlns=\"http://www.w3.org/2000/svg\" xmlns:xlink=\"http://www.w3.org/1999/xlink\" contentScriptType=\"application/ecmascript\" contentStyleType=\"text/css\" height=\"539px\" preserveAspectRatio=\"none\" style=\"width:189px;height:539px;\" version=\"1.1\" viewBox=\"0 0 189 539\" width=\"189px\" zoomAndPan=\"magnify\"><defs/><g><!--MD5=[fbc87193dbaf4d95561dea2c320d4a47]\n",
       "cluster E1--><a href=\"psysml:58064a58-d13b-4f80-a6f6-0eceb966f2f7\" target=\"_top\" title=\"psysml:58064a58-d13b-4f80-a6f6-0eceb966f2f7\" xlink:actuate=\"onRequest\" xlink:href=\"psysml:58064a58-d13b-4f80-a6f6-0eceb966f2f7\" xlink:show=\"new\" xlink:title=\"psysml:58064a58-d13b-4f80-a6f6-0eceb966f2f7\" xlink:type=\"simple\"><polygon fill=\"#FFFFFF\" points=\"16,6,133,6,140,28.2969,167,28.2969,167,527,16,527,16,6\" style=\"stroke: #000000; stroke-width: 1.5;\"/><line style=\"stroke: #000000; stroke-width: 1.5;\" x1=\"16\" x2=\"140\" y1=\"28.2969\" y2=\"28.2969\"/><text fill=\"#000000\" font-family=\"sans-serif\" font-size=\"14\" font-weight=\"bold\" lengthAdjust=\"spacingAndGlyphs\" textLength=\"111\" x=\"20\" y=\"20.9951\">ConnectionTest</text></a><!--MD5=[b4997ac47864f28c2f74865a473b2911]\n",
       "class E2--><a href=\"psysml:98bc980e-08bf-4c08-bf0e-335abb3c4ffd\" target=\"_top\" title=\"psysml:98bc980e-08bf-4c08-bf0e-335abb3c4ffd\" xlink:actuate=\"onRequest\" xlink:href=\"psysml:98bc980e-08bf-4c08-bf0e-335abb3c4ffd\" xlink:show=\"new\" xlink:title=\"psysml:98bc980e-08bf-4c08-bf0e-335abb3c4ffd\" xlink:type=\"simple\"><rect fill=\"#FFFFFF\" height=\"45.9375\" id=\"E2\" rx=\"10\" ry=\"10\" style=\"stroke: #383838; stroke-width: 1.5;\" width=\"42\" x=\"89\" y=\"253\"/><text fill=\"#000000\" font-family=\"sans-serif\" font-size=\"12\" font-style=\"italic\" lengthAdjust=\"spacingAndGlyphs\" textLength=\"40\" x=\"90\" y=\"269.1387\">«part»</text><text fill=\"#000000\" font-family=\"sans-serif\" font-size=\"12\" lengthAdjust=\"spacingAndGlyphs\" textLength=\"8\" x=\"106\" y=\"283.1074\">p</text><line style=\"stroke: #383838; stroke-width: 1.5;\" x1=\"90\" x2=\"130\" y1=\"290.9375\" y2=\"290.9375\"/></a><!--MD5=[09b614a08d8cba4a07c9adeb5e0fee81]\n",
       "class E3--><a href=\"psysml:c51e79ce-7cf1-4bdb-aba6-5cab2657d431\" target=\"_top\" title=\"psysml:c51e79ce-7cf1-4bdb-aba6-5cab2657d431\" xlink:actuate=\"onRequest\" xlink:href=\"psysml:c51e79ce-7cf1-4bdb-aba6-5cab2657d431\" xlink:show=\"new\" xlink:title=\"psysml:c51e79ce-7cf1-4bdb-aba6-5cab2657d431\" xlink:type=\"simple\"><rect fill=\"#FFFFFF\" height=\"45.9375\" id=\"E3\" rx=\"10\" ry=\"10\" style=\"stroke: #383838; stroke-width: 1.5;\" width=\"42\" x=\"109\" y=\"359\"/><text fill=\"#000000\" font-family=\"sans-serif\" font-size=\"12\" font-style=\"italic\" lengthAdjust=\"spacingAndGlyphs\" textLength=\"40\" x=\"110\" y=\"375.1387\">«part»</text><text fill=\"#000000\" font-family=\"sans-serif\" font-size=\"12\" lengthAdjust=\"spacingAndGlyphs\" textLength=\"6\" x=\"127\" y=\"389.1074\">x</text><line style=\"stroke: #383838; stroke-width: 1.5;\" x1=\"110\" x2=\"150\" y1=\"396.9375\" y2=\"396.9375\"/></a><!--MD5=[ebbe1d658d1005bcc118a6aa81145e00]\n",
       "class E4--><a href=\"psysml:31f41755-661a-4a53-a2bb-f2dfc01c0edf\" target=\"_top\" title=\"psysml:31f41755-661a-4a53-a2bb-f2dfc01c0edf\" xlink:actuate=\"onRequest\" xlink:href=\"psysml:31f41755-661a-4a53-a2bb-f2dfc01c0edf\" xlink:show=\"new\" xlink:title=\"psysml:31f41755-661a-4a53-a2bb-f2dfc01c0edf\" xlink:type=\"simple\"><rect fill=\"#FFFFFF\" height=\"45.9375\" id=\"E4\" rx=\"10\" ry=\"10\" style=\"stroke: #383838; stroke-width: 1.5;\" width=\"42\" x=\"109\" y=\"465\"/><text fill=\"#000000\" font-family=\"sans-serif\" font-size=\"12\" font-style=\"italic\" lengthAdjust=\"spacingAndGlyphs\" textLength=\"40\" x=\"110\" y=\"481.1387\">«part»</text><text fill=\"#000000\" font-family=\"sans-serif\" font-size=\"12\" lengthAdjust=\"spacingAndGlyphs\" textLength=\"14\" x=\"123\" y=\"495.1074\">x1</text><line style=\"stroke: #383838; stroke-width: 1.5;\" x1=\"110\" x2=\"150\" y1=\"502.9375\" y2=\"502.9375\"/></a><!--MD5=[270fce915f116d4de14055a7c1d9a0f3]\n",
       "class E5--><a href=\"psysml:9833d686-e720-46bf-b438-35dbd29b7a16\" target=\"_top\" title=\"psysml:9833d686-e720-46bf-b438-35dbd29b7a16\" xlink:actuate=\"onRequest\" xlink:href=\"psysml:9833d686-e720-46bf-b438-35dbd29b7a16\" xlink:show=\"new\" xlink:title=\"psysml:9833d686-e720-46bf-b438-35dbd29b7a16\" xlink:type=\"simple\"><rect fill=\"#FFFFFF\" height=\"45.9375\" id=\"E5\" style=\"stroke: #383838; stroke-width: 1.5;\" width=\"66\" x=\"54\" y=\"41\"/><text fill=\"#000000\" font-family=\"sans-serif\" font-size=\"12\" font-style=\"italic\" lengthAdjust=\"spacingAndGlyphs\" textLength=\"64\" x=\"55\" y=\"57.1387\">«part def»</text><text fill=\"#000000\" font-family=\"sans-serif\" font-size=\"12\" lengthAdjust=\"spacingAndGlyphs\" textLength=\"8\" x=\"83\" y=\"71.1074\">P</text><line style=\"stroke: #383838; stroke-width: 1.5;\" x1=\"55\" x2=\"119\" y1=\"78.9375\" y2=\"78.9375\"/></a><!--MD5=[60a26617385b1d2d0262a64233df1f8d]\n",
       "class E6--><a href=\"psysml:f96f9e94-0e28-4abd-b8cb-5d3679a708db\" target=\"_top\" title=\"psysml:f96f9e94-0e28-4abd-b8cb-5d3679a708db\" xlink:actuate=\"onRequest\" xlink:href=\"psysml:f96f9e94-0e28-4abd-b8cb-5d3679a708db\" xlink:show=\"new\" xlink:title=\"psysml:f96f9e94-0e28-4abd-b8cb-5d3679a708db\" xlink:type=\"simple\"><rect fill=\"#FFFFFF\" height=\"45.9375\" id=\"E6\" rx=\"10\" ry=\"10\" style=\"stroke: #383838; stroke-width: 1.5;\" width=\"42\" x=\"32\" y=\"359\"/><text fill=\"#000000\" font-family=\"sans-serif\" font-size=\"12\" font-style=\"italic\" lengthAdjust=\"spacingAndGlyphs\" textLength=\"40\" x=\"33\" y=\"375.1387\">«part»</text><text fill=\"#000000\" font-family=\"sans-serif\" font-size=\"12\" lengthAdjust=\"spacingAndGlyphs\" textLength=\"6\" x=\"50\" y=\"389.1074\">y</text><line style=\"stroke: #383838; stroke-width: 1.5;\" x1=\"33\" x2=\"73\" y1=\"396.9375\" y2=\"396.9375\"/></a><!--MD5=[2156ba9850f5573cc1fc38a6a4b2f02b]\n",
       "class E7--><a href=\"psysml:2279d5a4-5f0e-43ce-88bf-f6ddb21c3f25\" target=\"_top\" title=\"psysml:2279d5a4-5f0e-43ce-88bf-f6ddb21c3f25\" xlink:actuate=\"onRequest\" xlink:href=\"psysml:2279d5a4-5f0e-43ce-88bf-f6ddb21c3f25\" xlink:show=\"new\" xlink:title=\"psysml:2279d5a4-5f0e-43ce-88bf-f6ddb21c3f25\" xlink:type=\"simple\"><rect fill=\"#FFFFFF\" height=\"45.9375\" id=\"E7\" rx=\"10\" ry=\"10\" style=\"stroke: #383838; stroke-width: 1.5;\" width=\"42\" x=\"89\" y=\"147\"/><text fill=\"#000000\" font-family=\"sans-serif\" font-size=\"12\" font-style=\"italic\" lengthAdjust=\"spacingAndGlyphs\" textLength=\"40\" x=\"90\" y=\"163.1387\">«part»</text><text fill=\"#000000\" font-family=\"sans-serif\" font-size=\"12\" lengthAdjust=\"spacingAndGlyphs\" textLength=\"16\" x=\"102\" y=\"177.1074\">p1</text><line style=\"stroke: #383838; stroke-width: 1.5;\" x1=\"90\" x2=\"130\" y1=\"184.9375\" y2=\"184.9375\"/></a><!--MD5=[209b3feb70ccb6233bfe1053d122c12c]\n",
       "reverse link E2 to E3--><a href=\"psysml:1ffc18c1-940f-43c3-a54c-dcf9b76281a6\" target=\"_top\" title=\"psysml:1ffc18c1-940f-43c3-a54c-dcf9b76281a6\" xlink:actuate=\"onRequest\" xlink:href=\"psysml:1ffc18c1-940f-43c3-a54c-dcf9b76281a6\" xlink:show=\"new\" xlink:title=\"psysml:1ffc18c1-940f-43c3-a54c-dcf9b76281a6\" xlink:type=\"simple\"><path d=\"M116.72,311.96 C119.71,327.51 123.14,345.33 125.76,358.98 \" fill=\"none\" id=\"E2&lt;-E3\" style=\"stroke: #383838; stroke-width: 1.0;\"/><polygon fill=\"#383838\" points=\"114.24,299.06,111.447,305.7082,116.5096,310.8434,119.3026,304.1952,114.24,299.06\" style=\"stroke: #383838; stroke-width: 1.0;\"/><text fill=\"#000000\" font-family=\"sans-serif\" font-size=\"13\" lengthAdjust=\"spacingAndGlyphs\" textLength=\"8\" x=\"115.5455\" y=\"347.8709\">1</text></a><!--MD5=[4672eba38e49728da53d11aeb285b987]\n",
       "reverse link E3 to E4--><a href=\"psysml:3d75ef33-b13b-4214-af18-b5d2941be4f9\" target=\"_top\" title=\"psysml:3d75ef33-b13b-4214-af18-b5d2941be4f9\" xlink:actuate=\"onRequest\" xlink:href=\"psysml:3d75ef33-b13b-4214-af18-b5d2941be4f9\" xlink:show=\"new\" xlink:title=\"psysml:3d75ef33-b13b-4214-af18-b5d2941be4f9\" xlink:type=\"simple\"><path d=\"M130,418.44 C130,433.87 130,451.47 130,464.98 \" fill=\"none\" id=\"E3&lt;-E4\" style=\"stroke: #383838; stroke-width: 1.0;\"/><polygon fill=\"#383838\" points=\"130,405.06,126,411.06,130,417.06,134,411.06,130,405.06\" style=\"stroke: #383838; stroke-width: 1.0;\"/><text fill=\"#000000\" font-family=\"sans-serif\" font-size=\"13\" lengthAdjust=\"spacingAndGlyphs\" textLength=\"8\" x=\"120.925\" y=\"453.8709\">1</text></a><!--MD5=[85d356282659285ab4b2cfe2f634dd2b]\n",
       "reverse link E5 to E6--><a href=\"psysml:d68af8b5-54d9-4416-b26b-1e36c98f2c99\" target=\"_top\" title=\"psysml:d68af8b5-54d9-4416-b26b-1e36c98f2c99\" xlink:actuate=\"onRequest\" xlink:href=\"psysml:d68af8b5-54d9-4416-b26b-1e36c98f2c99\" xlink:show=\"new\" xlink:title=\"psysml:d68af8b5-54d9-4416-b26b-1e36c98f2c99\" xlink:type=\"simple\"><path d=\"M79.77,100.15 C77.01,114.61 74.03,131.56 72,147 C61.78,224.59 56.2,317.42 54.05,358.98 \" fill=\"none\" id=\"E5&lt;-E6\" style=\"stroke: #383838; stroke-width: 1.0;\"/><polygon fill=\"#383838\" points=\"82.32,87.18,77.2408,92.2988,80.0123,98.956,85.0915,93.8372,82.32,87.18\" style=\"stroke: #383838; stroke-width: 1.0;\"/><text fill=\"#000000\" font-family=\"sans-serif\" font-size=\"13\" lengthAdjust=\"spacingAndGlyphs\" textLength=\"8\" x=\"45.2572\" y=\"347.8709\">1</text></a><!--MD5=[e3e28c1befcf002155aa15e1416b4315]\n",
       "link E2 to E6--><a href=\"psysml:901b44a6-3b8d-4bea-9e51-ad40652cd7ff\" target=\"_top\" title=\"psysml:901b44a6-3b8d-4bea-9e51-ad40652cd7ff\" xlink:actuate=\"onRequest\" xlink:href=\"psysml:901b44a6-3b8d-4bea-9e51-ad40652cd7ff\" xlink:show=\"new\" xlink:title=\"psysml:901b44a6-3b8d-4bea-9e51-ad40652cd7ff\" xlink:type=\"simple\"><path d=\"M97.91,299.06 C88.24,316.7 74.74,341.34 65.07,358.98 \" fill=\"none\" id=\"E2-E6\" style=\"stroke: #383838; stroke-width: 3.0;\"/><text fill=\"#000000\" font-family=\"sans-serif\" font-size=\"13\" lengthAdjust=\"spacingAndGlyphs\" textLength=\"7\" x=\"60.3732\" y=\"347.8709\">*</text></a><!--MD5=[452b418e7f8a40397a49b8c0a78acc5b]\n",
       "reverse link E5 to E7--><a href=\"psysml:5a5926b8-11d9-4284-b6a0-db32c9e29bb2\" target=\"_top\" title=\"psysml:5a5926b8-11d9-4284-b6a0-db32c9e29bb2\" xlink:actuate=\"onRequest\" xlink:href=\"psysml:5a5926b8-11d9-4284-b6a0-db32c9e29bb2\" xlink:show=\"new\" xlink:title=\"psysml:5a5926b8-11d9-4284-b6a0-db32c9e29bb2\" xlink:type=\"simple\"><path d=\"M94.73,99.96 C98.17,115.51 102.11,133.33 105.13,146.98 \" fill=\"none\" id=\"E5&lt;-E7\" style=\"stroke: #383838; stroke-width: 1.0;\"/><polygon fill=\"#383838\" points=\"91.88,87.06,89.2656,93.7805,94.4636,98.7786,97.078,92.0581,91.88,87.06\" style=\"stroke: #383838; stroke-width: 1.0;\"/><text fill=\"#000000\" font-family=\"sans-serif\" font-size=\"13\" lengthAdjust=\"spacingAndGlyphs\" textLength=\"8\" x=\"94.7462\" y=\"135.8709\">1</text></a><!--MD5=[583832df87f4419a098336a29a52fa00]\n",
       "link E7 to E2--><a href=\"psysml:dd540a25-2742-496a-aaa6-3ea5cc8a4940\" target=\"_top\" title=\"psysml:dd540a25-2742-496a-aaa6-3ea5cc8a4940\" xlink:actuate=\"onRequest\" xlink:href=\"psysml:dd540a25-2742-496a-aaa6-3ea5cc8a4940\" xlink:show=\"new\" xlink:title=\"psysml:dd540a25-2742-496a-aaa6-3ea5cc8a4940\" xlink:type=\"simple\"><path d=\"M110,193.06 C110,204.64 110,219.23 110,232.87 \" fill=\"none\" id=\"E7-&gt;E2\" style=\"stroke: #383838; stroke-width: 1.0;\"/><polygon fill=\"none\" points=\"117,232.98,110,252.98,103,232.98,117,232.98\" style=\"stroke: #383838; stroke-width: 1.0;\"/></a><!--MD5=[73398b0ac8040a0c0ef7ce5506e24d67]\n",
       "@startuml\r\n",
       "top to bottom direction\r\n",
       "skinparam monochrome true\r\n",
       "skinparam classbackgroundcolor white\r\n",
       "skinparam shadowing false\r\n",
       "skinparam wrapWidth 300\r\n",
       "hide circle\r\n",
       "\r\n",
       "package \"ConnectionTest\" as E1  [[psysml:58064a58-d13b-4f80-a6f6-0eceb966f2f7 ]]  {\r\n",
       "comp usage \"p\" as E2  <<(T,blue) part>> [[psysml:98bc980e-08bf-4c08-bf0e-335abb3c4ffd ]] {\r\n",
       "}\r\n",
       "comp usage \"x\" as E3  <<(T,blue) part>> [[psysml:c51e79ce-7cf1-4bdb-aba6-5cab2657d431 ]] {\r\n",
       "}\r\n",
       "comp usage \"x1\" as E4  <<(T,blue) part>> [[psysml:31f41755-661a-4a53-a2bb-f2dfc01c0edf ]] {\r\n",
       "}\r\n",
       "comp def \"P\" as E5  <<(T,blue) part def>> [[psysml:9833d686-e720-46bf-b438-35dbd29b7a16 ]] {\r\n",
       "}\r\n",
       "comp usage \"y\" as E6  <<(T,blue) part>> [[psysml:f96f9e94-0e28-4abd-b8cb-5d3679a708db ]] {\r\n",
       "}\r\n",
       "comp usage \"p1\" as E7  <<(T,blue) part>> [[psysml:2279d5a4-5f0e-43ce-88bf-f6ddb21c3f25 ]] {\r\n",
       "}\r\n",
       "}\r\n",
       "E2 *- - \"1\"E3 [[psysml:1ffc18c1-940f-43c3-a54c-dcf9b76281a6 ]] \r\n",
       "E3 *- - \"1\"E4 [[psysml:3d75ef33-b13b-4214-af18-b5d2941be4f9 ]] \r\n",
       "E5 *- - \"1\"E6 [[psysml:d68af8b5-54d9-4416-b26b-1e36c98f2c99 ]] \r\n",
       "E2 -[thickness=3]- \"*\"E6 [[psysml:901b44a6-3b8d-4bea-9e51-ad40652cd7ff ]] \r\n",
       "E5 *- - \"1\"E7 [[psysml:5a5926b8-11d9-4284-b6a0-db32c9e29bb2 ]] \r\n",
       "E7 - -|> E2 [[psysml:dd540a25-2742-496a-aaa6-3ea5cc8a4940 ]] \r\n",
       "@enduml\r\n",
       "\n",
       "PlantUML version 1.2020.13(Sat Jun 13 12:26:38 UTC 2020)\n",
       "(EPL source distribution)\n",
       "Java Runtime: OpenJDK Runtime Environment\n",
       "JVM: OpenJDK 64-Bit Server VM\n",
       "Default Encoding: UTF-8\n",
       "Language: en\n",
       "Country: null\n",
       "--></g></svg>"
      ]
     },
     "execution_count": 45,
     "metadata": {},
     "output_type": "execute_result"
    }
   ],
   "source": [
    "%viz --style=\"TB\" --view=\"Tree\" \"ConnectionTest\""
   ]
  },
  {
   "cell_type": "code",
   "execution_count": 46,
   "id": "06b5ea56",
   "metadata": {
    "execution": {
     "iopub.execute_input": "2021-09-27T07:17:34.736080Z",
     "iopub.status.busy": "2021-09-27T07:17:34.735672Z",
     "iopub.status.idle": "2021-09-27T07:17:34.740302Z",
     "shell.execute_reply": "2021-09-27T07:17:34.739921Z"
    }
   },
   "outputs": [
    {
     "data": {
      "image/svg+xml": [
       "<?xml version=\"1.0\" encoding=\"UTF-8\" standalone=\"no\"?><svg xmlns=\"http://www.w3.org/2000/svg\" xmlns:xlink=\"http://www.w3.org/1999/xlink\" contentScriptType=\"application/ecmascript\" contentStyleType=\"text/css\" height=\"12px\" preserveAspectRatio=\"none\" style=\"width:12px;height:12px;\" version=\"1.1\" viewBox=\"0 0 12 12\" width=\"12px\" zoomAndPan=\"magnify\"><defs/><g><!--MD5=[f4ee21bc66e489b5061b7c3e9601fdef]\n",
       "@startuml\r\n",
       "top to bottom direction\r\n",
       "skinparam monochrome true\r\n",
       "skinparam classbackgroundcolor white\r\n",
       "skinparam shadowing false\r\n",
       "skinparam wrapWidth 300\r\n",
       "hide circle\r\n",
       "\r\n",
       "@enduml\r\n",
       "\n",
       "PlantUML version 1.2020.13(Sat Jun 13 12:26:38 UTC 2020)\n",
       "(EPL source distribution)\n",
       "Java Runtime: OpenJDK Runtime Environment\n",
       "JVM: OpenJDK 64-Bit Server VM\n",
       "Default Encoding: UTF-8\n",
       "Language: en\n",
       "Country: null\n",
       "--></g></svg>"
      ]
     },
     "execution_count": 46,
     "metadata": {},
     "output_type": "execute_result"
    }
   ],
   "source": [
    "%viz --style=\"TB\" --view=\"State\" \"ConnectionTest\""
   ]
  },
  {
   "cell_type": "code",
   "execution_count": 47,
   "id": "666e3555",
   "metadata": {
    "execution": {
     "iopub.execute_input": "2021-09-27T07:17:34.790613Z",
     "iopub.status.busy": "2021-09-27T07:17:34.790185Z",
     "iopub.status.idle": "2021-09-27T07:17:34.826774Z",
     "shell.execute_reply": "2021-09-27T07:17:34.826418Z"
    }
   },
   "outputs": [
    {
     "data": {
      "image/svg+xml": [
       "<?xml version=\"1.0\" encoding=\"UTF-8\" standalone=\"no\"?><svg xmlns=\"http://www.w3.org/2000/svg\" xmlns:xlink=\"http://www.w3.org/1999/xlink\" contentScriptType=\"application/ecmascript\" contentStyleType=\"text/css\" height=\"406px\" preserveAspectRatio=\"none\" style=\"width:509px;height:406px;\" version=\"1.1\" viewBox=\"0 0 509 406\" width=\"509px\" zoomAndPan=\"magnify\"><defs/><g><!--MD5=[fbc87193dbaf4d95561dea2c320d4a47]\n",
       "cluster E1--><a href=\"psysml:58064a58-d13b-4f80-a6f6-0eceb966f2f7\" target=\"_top\" title=\"psysml:58064a58-d13b-4f80-a6f6-0eceb966f2f7\" xlink:actuate=\"onRequest\" xlink:href=\"psysml:58064a58-d13b-4f80-a6f6-0eceb966f2f7\" xlink:show=\"new\" xlink:title=\"psysml:58064a58-d13b-4f80-a6f6-0eceb966f2f7\" xlink:type=\"simple\"><polygon fill=\"#FFFFFF\" points=\"16,6,133,6,140,28.2969,487,28.2969,487,394,16,394,16,6\" style=\"stroke: #000000; stroke-width: 1.5;\"/><line style=\"stroke: #000000; stroke-width: 1.5;\" x1=\"16\" x2=\"140\" y1=\"28.2969\" y2=\"28.2969\"/><text fill=\"#000000\" font-family=\"sans-serif\" font-size=\"14\" font-weight=\"bold\" lengthAdjust=\"spacingAndGlyphs\" textLength=\"111\" x=\"20\" y=\"20.9951\">ConnectionTest</text></a><!--MD5=[e4f7fae6ed58524ba242bb0b0d3be6b7]\n",
       "cluster E2--><a href=\"psysml:98bc980e-08bf-4c08-bf0e-335abb3c4ffd\" target=\"_top\" title=\"psysml:98bc980e-08bf-4c08-bf0e-335abb3c4ffd\" xlink:actuate=\"onRequest\" xlink:href=\"psysml:98bc980e-08bf-4c08-bf0e-335abb3c4ffd\" xlink:show=\"new\" xlink:title=\"psysml:98bc980e-08bf-4c08-bf0e-335abb3c4ffd\" xlink:type=\"simple\"><rect fill=\"#FFFFFF\" height=\"174\" id=\"E2\" rx=\"10\" ry=\"10\" style=\"stroke: #383838; stroke-width: 1.5;\" width=\"154\" x=\"301\" y=\"116\"/><rect fill=\"#F8F8F8\" height=\"23.9688\" rx=\"10\" ry=\"10\" style=\"stroke: #F8F8F8; stroke-width: 1.5;\" width=\"154\" x=\"301\" y=\"116\"/><rect fill=\"#F8F8F8\" height=\"10\" style=\"stroke: #F8F8F8; stroke-width: 1.5;\" width=\"154\" x=\"301\" y=\"129.9688\"/><rect fill=\"none\" height=\"174\" id=\"E2\" rx=\"10\" ry=\"10\" style=\"stroke: #383838; stroke-width: 1.5;\" width=\"154\" x=\"301\" y=\"116\"/><text fill=\"#000000\" font-family=\"sans-serif\" font-size=\"12\" lengthAdjust=\"spacingAndGlyphs\" textLength=\"8\" x=\"374\" y=\"132.1387\">p</text><line style=\"stroke: #383838; stroke-width: 1.0;\" x1=\"301\" x2=\"455\" y1=\"139.9688\" y2=\"139.9688\"/></a><!--MD5=[d5e69f78d87373223dbae638b30a9c99]\n",
       "cluster E3--><a href=\"psysml:c51e79ce-7cf1-4bdb-aba6-5cab2657d431\" target=\"_top\" title=\"psysml:c51e79ce-7cf1-4bdb-aba6-5cab2657d431\" xlink:actuate=\"onRequest\" xlink:href=\"psysml:c51e79ce-7cf1-4bdb-aba6-5cab2657d431\" xlink:show=\"new\" xlink:title=\"psysml:c51e79ce-7cf1-4bdb-aba6-5cab2657d431\" xlink:type=\"simple\"><rect fill=\"#FFFFFF\" height=\"91\" id=\"E3\" rx=\"10\" ry=\"10\" style=\"stroke: #383838; stroke-width: 1.5;\" width=\"82\" x=\"341\" y=\"167\"/><rect fill=\"#F8F8F8\" height=\"23.9688\" rx=\"10\" ry=\"10\" style=\"stroke: #F8F8F8; stroke-width: 1.5;\" width=\"82\" x=\"341\" y=\"167\"/><rect fill=\"#F8F8F8\" height=\"10\" style=\"stroke: #F8F8F8; stroke-width: 1.5;\" width=\"82\" x=\"341\" y=\"180.9688\"/><rect fill=\"none\" height=\"91\" id=\"E3\" rx=\"10\" ry=\"10\" style=\"stroke: #383838; stroke-width: 1.5;\" width=\"82\" x=\"341\" y=\"167\"/><text fill=\"#000000\" font-family=\"sans-serif\" font-size=\"12\" lengthAdjust=\"spacingAndGlyphs\" textLength=\"6\" x=\"379\" y=\"183.1387\">x</text><line style=\"stroke: #383838; stroke-width: 1.0;\" x1=\"341\" x2=\"423\" y1=\"190.9688\" y2=\"190.9688\"/></a><!--MD5=[de5ec2e2e8f62f467e546659f5068c88]\n",
       "cluster E5--><a href=\"psysml:9833d686-e720-46bf-b438-35dbd29b7a16\" target=\"_top\" title=\"psysml:9833d686-e720-46bf-b438-35dbd29b7a16\" xlink:actuate=\"onRequest\" xlink:href=\"psysml:9833d686-e720-46bf-b438-35dbd29b7a16\" xlink:show=\"new\" xlink:title=\"psysml:9833d686-e720-46bf-b438-35dbd29b7a16\" xlink:type=\"simple\"><rect fill=\"#FFFFFF\" height=\"321\" id=\"E5\" style=\"stroke: #383838; stroke-width: 1.5;\" width=\"229\" x=\"40\" y=\"49\"/><rect fill=\"#F8F8F8\" height=\"37.9375\" style=\"stroke: #383838; stroke-width: 1.5;\" width=\"229\" x=\"40\" y=\"49\"/><text fill=\"#000000\" font-family=\"sans-serif\" font-size=\"12\" font-style=\"italic\" lengthAdjust=\"spacingAndGlyphs\" textLength=\"64\" x=\"122.5\" y=\"65.1387\">«part def»</text><text fill=\"#000000\" font-family=\"sans-serif\" font-size=\"12\" lengthAdjust=\"spacingAndGlyphs\" textLength=\"8\" x=\"150.5\" y=\"79.1074\">P</text></a><!--MD5=[168fadf3d0c3fd93dd5d6da1b1d7ab76]\n",
       "cluster E7--><a href=\"psysml:2279d5a4-5f0e-43ce-88bf-f6ddb21c3f25\" target=\"_top\" title=\"psysml:2279d5a4-5f0e-43ce-88bf-f6ddb21c3f25\" xlink:actuate=\"onRequest\" xlink:href=\"psysml:2279d5a4-5f0e-43ce-88bf-f6ddb21c3f25\" xlink:show=\"new\" xlink:title=\"psysml:2279d5a4-5f0e-43ce-88bf-f6ddb21c3f25\" xlink:type=\"simple\"><rect fill=\"#FFFFFF\" height=\"190\" id=\"E7\" rx=\"10\" ry=\"10\" style=\"stroke: #383838; stroke-width: 1.5;\" width=\"181\" x=\"64\" y=\"108\"/><rect fill=\"#F8F8F8\" height=\"23.9688\" rx=\"10\" ry=\"10\" style=\"stroke: #F8F8F8; stroke-width: 1.5;\" width=\"181\" x=\"64\" y=\"108\"/><rect fill=\"#F8F8F8\" height=\"10\" style=\"stroke: #F8F8F8; stroke-width: 1.5;\" width=\"181\" x=\"64\" y=\"121.9688\"/><rect fill=\"none\" height=\"190\" id=\"E7\" rx=\"10\" ry=\"10\" style=\"stroke: #383838; stroke-width: 1.5;\" width=\"181\" x=\"64\" y=\"108\"/><text fill=\"#000000\" font-family=\"sans-serif\" font-size=\"12\" lengthAdjust=\"spacingAndGlyphs\" textLength=\"16\" x=\"146.5\" y=\"124.1387\">p1</text><line style=\"stroke: #383838; stroke-width: 1.0;\" x1=\"64\" x2=\"245\" y1=\"131.9688\" y2=\"131.9688\"/></a><!--MD5=[55dfccfc6c49c2d10cd1bd2211a6c90c]\n",
       "cluster E8--><a href=\"psysml:c51e79ce-7cf1-4bdb-aba6-5cab2657d431\" target=\"_top\" title=\"psysml:c51e79ce-7cf1-4bdb-aba6-5cab2657d431\" xlink:actuate=\"onRequest\" xlink:href=\"psysml:c51e79ce-7cf1-4bdb-aba6-5cab2657d431\" xlink:show=\"new\" xlink:title=\"psysml:c51e79ce-7cf1-4bdb-aba6-5cab2657d431\" xlink:type=\"simple\"><rect fill=\"#FFFFFF\" height=\"107\" id=\"E8\" rx=\"10\" ry=\"10\" style=\"stroke: #383838; stroke-width: 1.5;\" width=\"117\" x=\"96\" y=\"159\"/><rect fill=\"#F8F8F8\" height=\"23.9688\" rx=\"10\" ry=\"10\" style=\"stroke: #F8F8F8; stroke-width: 1.5;\" width=\"117\" x=\"96\" y=\"159\"/><rect fill=\"#F8F8F8\" height=\"10\" style=\"stroke: #F8F8F8; stroke-width: 1.5;\" width=\"117\" x=\"96\" y=\"172.9688\"/><rect fill=\"none\" height=\"107\" id=\"E8\" rx=\"10\" ry=\"10\" style=\"stroke: #383838; stroke-width: 1.5;\" width=\"117\" x=\"96\" y=\"159\"/><text fill=\"#000000\" font-family=\"sans-serif\" font-size=\"12\" lengthAdjust=\"spacingAndGlyphs\" textLength=\"16\" x=\"146.5\" y=\"175.1387\">^x</text><line style=\"stroke: #383838; stroke-width: 1.0;\" x1=\"96\" x2=\"213\" y1=\"182.9688\" y2=\"182.9688\"/></a><g id=\"E1.E2.E3.E4\"><a href=\"psysml:31f41755-661a-4a53-a2bb-f2dfc01c0edf\" target=\"_top\" title=\"psysml:31f41755-661a-4a53-a2bb-f2dfc01c0edf\" xlink:actuate=\"onRequest\" xlink:href=\"psysml:31f41755-661a-4a53-a2bb-f2dfc01c0edf\" xlink:show=\"new\" xlink:title=\"psysml:31f41755-661a-4a53-a2bb-f2dfc01c0edf\" xlink:type=\"simple\"><rect fill=\"#FFFFFF\" height=\"40\" id=\"E4\" rx=\"10\" ry=\"10\" style=\"stroke: #383838; stroke-width: 1.5;\" width=\"50\" x=\"357\" y=\"202\"/><rect fill=\"#F8F8F8\" height=\"23.9688\" rx=\"10\" ry=\"10\" style=\"stroke: #F8F8F8; stroke-width: 1.5;\" width=\"50\" x=\"357\" y=\"202\"/><rect fill=\"#F8F8F8\" height=\"10\" style=\"stroke: #F8F8F8; stroke-width: 1.5;\" width=\"50\" x=\"357\" y=\"215.9688\"/><rect fill=\"none\" height=\"40\" id=\"E4\" rx=\"10\" ry=\"10\" style=\"stroke: #383838; stroke-width: 1.5;\" width=\"50\" x=\"357\" y=\"202\"/><text fill=\"#000000\" font-family=\"sans-serif\" font-size=\"12\" lengthAdjust=\"spacingAndGlyphs\" textLength=\"14\" x=\"375\" y=\"218.1387\">x1</text></a></g><g id=\"E1.E5.E6\"><a href=\"psysml:f96f9e94-0e28-4abd-b8cb-5d3679a708db\" target=\"_top\" title=\"psysml:f96f9e94-0e28-4abd-b8cb-5d3679a708db\" xlink:actuate=\"onRequest\" xlink:href=\"psysml:f96f9e94-0e28-4abd-b8cb-5d3679a708db\" xlink:show=\"new\" xlink:title=\"psysml:f96f9e94-0e28-4abd-b8cb-5d3679a708db\" xlink:type=\"simple\"><rect fill=\"#FFFFFF\" height=\"40\" id=\"E6\" rx=\"10\" ry=\"10\" style=\"stroke: #383838; stroke-width: 1.5;\" width=\"50\" x=\"139\" y=\"314\"/><rect fill=\"#F8F8F8\" height=\"23.9688\" rx=\"10\" ry=\"10\" style=\"stroke: #F8F8F8; stroke-width: 1.5;\" width=\"50\" x=\"139\" y=\"314\"/><rect fill=\"#F8F8F8\" height=\"10\" style=\"stroke: #F8F8F8; stroke-width: 1.5;\" width=\"50\" x=\"139\" y=\"327.9688\"/><rect fill=\"none\" height=\"40\" id=\"E6\" rx=\"10\" ry=\"10\" style=\"stroke: #383838; stroke-width: 1.5;\" width=\"50\" x=\"139\" y=\"314\"/><text fill=\"#000000\" font-family=\"sans-serif\" font-size=\"12\" lengthAdjust=\"spacingAndGlyphs\" textLength=\"6\" x=\"161\" y=\"330.1387\">y</text></a></g><g id=\"E1.E5.E7.E8.E9\"><a href=\"psysml:31f41755-661a-4a53-a2bb-f2dfc01c0edf\" target=\"_top\" title=\"psysml:31f41755-661a-4a53-a2bb-f2dfc01c0edf\" xlink:actuate=\"onRequest\" xlink:href=\"psysml:31f41755-661a-4a53-a2bb-f2dfc01c0edf\" xlink:show=\"new\" xlink:title=\"psysml:31f41755-661a-4a53-a2bb-f2dfc01c0edf\" xlink:type=\"simple\"><rect fill=\"#FFFFFF\" height=\"40\" id=\"E9\" rx=\"10\" ry=\"10\" style=\"stroke: #383838; stroke-width: 1.5;\" width=\"50\" x=\"139\" y=\"202\"/><rect fill=\"#F8F8F8\" height=\"23.9688\" rx=\"10\" ry=\"10\" style=\"stroke: #F8F8F8; stroke-width: 1.5;\" width=\"50\" x=\"139\" y=\"202\"/><rect fill=\"#F8F8F8\" height=\"10\" style=\"stroke: #F8F8F8; stroke-width: 1.5;\" width=\"50\" x=\"139\" y=\"215.9688\"/><rect fill=\"none\" height=\"40\" id=\"E9\" rx=\"10\" ry=\"10\" style=\"stroke: #383838; stroke-width: 1.5;\" width=\"50\" x=\"139\" y=\"202\"/><text fill=\"#000000\" font-family=\"sans-serif\" font-size=\"12\" lengthAdjust=\"spacingAndGlyphs\" textLength=\"14\" x=\"157\" y=\"218.1387\">x1</text></a></g><!--MD5=[e3e28c1befcf002155aa15e1416b4315]\n",
       "link E2 to E6--><a href=\"psysml:901b44a6-3b8d-4bea-9e51-ad40652cd7ff\" target=\"_top\" title=\"psysml:901b44a6-3b8d-4bea-9e51-ad40652cd7ff\" xlink:actuate=\"onRequest\" xlink:href=\"psysml:901b44a6-3b8d-4bea-9e51-ad40652cd7ff\" xlink:show=\"new\" xlink:title=\"psysml:901b44a6-3b8d-4bea-9e51-ad40652cd7ff\" xlink:type=\"simple\"><path d=\"M300.7532,230.0089 C300.6678,230.081 300.5818,230.1536 300.4952,230.2266 C300.3221,230.3728 300.1466,230.5208 299.9687,230.6708 C299.2574,231.2706 298.509,231.9009 297.7253,232.56 C291.4556,237.8325 282.9263,244.945 273.0525,253.02 C253.305,269.17 228.18,289.17 205,306 C200.03,309.61 194.62,313.32 189.4,316.79 \" fill=\"none\" id=\"E2-E6\" style=\"stroke: #383838; stroke-width: 3.0;\"/><text fill=\"#000000\" font-family=\"sans-serif\" font-size=\"13\" lengthAdjust=\"spacingAndGlyphs\" textLength=\"7\" x=\"197.1669\" y=\"307.2339\">*</text></a><!--MD5=[c5e8897d989ce984f93528998a7150fe]\n",
       "link E8 to E6--><a href=\"psysml:b9509daa-923d-4932-b597-51fbb4fcb62c\" target=\"_top\" title=\"psysml:b9509daa-923d-4932-b597-51fbb4fcb62c\" xlink:actuate=\"onRequest\" xlink:href=\"psysml:b9509daa-923d-4932-b597-51fbb4fcb62c\" xlink:show=\"new\" xlink:title=\"psysml:b9509daa-923d-4932-b597-51fbb4fcb62c\" xlink:type=\"simple\"><path d=\"M107.5144,266.114 C107.5418,266.252 107.5694,266.3902 107.5972,266.5284 C107.6527,266.8049 107.7091,267.0817 107.7663,267.3589 C108.6814,271.7933 109.8082,276.3099 111.1942,280.7795 C113.9663,289.7188 117.775,298.47 123,306 C127.08,311.88 132.9,316.81 138.87,320.78 \" fill=\"none\" id=\"E8-E6\" style=\"stroke: #383838; stroke-width: 3.0;\"/><text fill=\"#000000\" font-family=\"sans-serif\" font-size=\"13\" lengthAdjust=\"spacingAndGlyphs\" textLength=\"7\" x=\"124.1757\" y=\"312.2962\">*</text></a><!--MD5=[60ac2c0cde89d4308155b0484e57a8ec]\n",
       "link E9 to E6--><a href=\"psysml:c683e43b-7fd5-4334-8447-643be8454737\" target=\"_top\" title=\"psysml:c683e43b-7fd5-4334-8447-643be8454737\" xlink:actuate=\"onRequest\" xlink:href=\"psysml:c683e43b-7fd5-4334-8447-643be8454737\" xlink:show=\"new\" xlink:title=\"psysml:c683e43b-7fd5-4334-8447-643be8454737\" xlink:type=\"simple\"><path d=\"M164,242.16 C164,262.23 164,293.57 164,313.69 \" fill=\"none\" id=\"E9-E6\" style=\"stroke: #383838; stroke-width: 3.0;\"/><text fill=\"#000000\" font-family=\"sans-serif\" font-size=\"13\" lengthAdjust=\"spacingAndGlyphs\" textLength=\"7\" x=\"156.0156\" y=\"302.954\">*</text></a><!--MD5=[c45c2fda170db744680de7251bf8dda2]\n",
       "@startuml\r\n",
       "skinparam ranksep 10\r\n",
       "skinparam rectangle {\r\n",
       " backgroundColor<<block>> LightGreen\r\n",
       "}\r\n",
       "top to bottom direction\r\n",
       "skinparam monochrome true\r\n",
       "skinparam classbackgroundcolor white\r\n",
       "skinparam shadowing false\r\n",
       "skinparam wrapWidth 300\r\n",
       "hide circle\r\n",
       "\r\n",
       "package \"ConnectionTest\" as E1  [[psysml:58064a58-d13b-4f80-a6f6-0eceb966f2f7 ]]  {\r\n",
       "rec usage \"p\" as E2  [[psysml:98bc980e-08bf-4c08-bf0e-335abb3c4ffd ]] {\r\n",
       "rec usage \"x\" as E3  [[psysml:c51e79ce-7cf1-4bdb-aba6-5cab2657d431 ]] {\r\n",
       "rec usage \"x1\" as E4  [[psysml:31f41755-661a-4a53-a2bb-f2dfc01c0edf ]] {\r\n",
       "}\r\n",
       "}\r\n",
       "}\r\n",
       "rec def \"P\" as E5  <<(T,blue) part def>> [[psysml:9833d686-e720-46bf-b438-35dbd29b7a16 ]] {\r\n",
       "rec usage \"y\" as E6  [[psysml:f96f9e94-0e28-4abd-b8cb-5d3679a708db ]] {\r\n",
       "}\r\n",
       "rec usage \"p1\" as E7  [[psysml:2279d5a4-5f0e-43ce-88bf-f6ddb21c3f25 ]] {\r\n",
       "rec usage \"^x\" as E8  [[psysml:c51e79ce-7cf1-4bdb-aba6-5cab2657d431 ]] {\r\n",
       "rec usage \"x1\" as E9  [[psysml:31f41755-661a-4a53-a2bb-f2dfc01c0edf ]] {\r\n",
       "}\r\n",
       "}\r\n",
       "}\r\n",
       "}\r\n",
       "}\r\n",
       "E2 -[thickness=3]- \"*\"E6 [[psysml:901b44a6-3b8d-4bea-9e51-ad40652cd7ff ]] \r\n",
       "E8 -[thickness=3]- \"*\"E6 [[psysml:b9509daa-923d-4932-b597-51fbb4fcb62c ]] \r\n",
       "E9 -[thickness=3]- \"*\"E6 [[psysml:c683e43b-7fd5-4334-8447-643be8454737 ]] \r\n",
       "@enduml\r\n",
       "\n",
       "PlantUML version 1.2020.13(Sat Jun 13 12:26:38 UTC 2020)\n",
       "(EPL source distribution)\n",
       "Java Runtime: OpenJDK Runtime Environment\n",
       "JVM: OpenJDK 64-Bit Server VM\n",
       "Default Encoding: UTF-8\n",
       "Language: en\n",
       "Country: null\n",
       "--></g></svg>"
      ]
     },
     "execution_count": 47,
     "metadata": {},
     "output_type": "execute_result"
    }
   ],
   "source": [
    "%viz --style=\"TB\" --view=\"Interconnection\" \"ConnectionTest\""
   ]
  },
  {
   "cell_type": "code",
   "execution_count": 48,
   "id": "e7a2269e",
   "metadata": {
    "execution": {
     "iopub.execute_input": "2021-09-27T07:17:34.876558Z",
     "iopub.status.busy": "2021-09-27T07:17:34.876168Z",
     "iopub.status.idle": "2021-09-27T07:17:34.881184Z",
     "shell.execute_reply": "2021-09-27T07:17:34.881491Z"
    }
   },
   "outputs": [
    {
     "data": {
      "image/svg+xml": [
       "<?xml version=\"1.0\" encoding=\"UTF-8\" standalone=\"no\"?><svg xmlns=\"http://www.w3.org/2000/svg\" xmlns:xlink=\"http://www.w3.org/1999/xlink\" contentScriptType=\"application/ecmascript\" contentStyleType=\"text/css\" height=\"12px\" preserveAspectRatio=\"none\" style=\"width:12px;height:12px;\" version=\"1.1\" viewBox=\"0 0 12 12\" width=\"12px\" zoomAndPan=\"magnify\"><defs/><g><!--MD5=[06afc254b03ac5e9d9fb7773b07d0800]\n",
       "@startuml\r\n",
       "skinparam ranksep 8\r\n",
       "top to bottom direction\r\n",
       "skinparam monochrome true\r\n",
       "skinparam classbackgroundcolor white\r\n",
       "skinparam shadowing false\r\n",
       "skinparam wrapWidth 300\r\n",
       "hide circle\r\n",
       "\r\n",
       "@enduml\r\n",
       "\n",
       "PlantUML version 1.2020.13(Sat Jun 13 12:26:38 UTC 2020)\n",
       "(EPL source distribution)\n",
       "Java Runtime: OpenJDK Runtime Environment\n",
       "JVM: OpenJDK 64-Bit Server VM\n",
       "Default Encoding: UTF-8\n",
       "Language: en\n",
       "Country: null\n",
       "--></g></svg>"
      ]
     },
     "execution_count": 48,
     "metadata": {},
     "output_type": "execute_result"
    }
   ],
   "source": [
    "%viz --style=\"TB\" --view=\"Action\" \"ConnectionTest\""
   ]
  },
  {
   "cell_type": "code",
   "execution_count": 49,
   "id": "c80c0c4f",
   "metadata": {
    "execution": {
     "iopub.execute_input": "2021-09-27T07:17:34.931719Z",
     "iopub.status.busy": "2021-09-27T07:17:34.931324Z",
     "iopub.status.idle": "2021-09-27T07:17:34.936033Z",
     "shell.execute_reply": "2021-09-27T07:17:34.936340Z"
    }
   },
   "outputs": [
    {
     "data": {
      "image/svg+xml": [
       "<?xml version=\"1.0\" encoding=\"UTF-8\" standalone=\"no\"?><svg xmlns=\"http://www.w3.org/2000/svg\" xmlns:xlink=\"http://www.w3.org/1999/xlink\" contentScriptType=\"application/ecmascript\" contentStyleType=\"text/css\" height=\"12px\" preserveAspectRatio=\"none\" style=\"width:12px;height:12px;\" version=\"1.1\" viewBox=\"0 0 12 12\" width=\"12px\" zoomAndPan=\"magnify\"><defs/><g><!--MD5=[e1ab0c84c44d2fef8bf5f140f2689906]\n",
       "@startuml\r\n",
       "skinparam roundcorner 20\r\n",
       "skinparam BoxPadding 20\r\n",
       "skinparam SequenceBoxBackgroundColor #white\r\n",
       "skinparam style strictuml\r\n",
       "skinparam maxMessageSize 100\r\n",
       "top to bottom direction\r\n",
       "skinparam monochrome true\r\n",
       "skinparam classbackgroundcolor white\r\n",
       "skinparam shadowing false\r\n",
       "skinparam wrapWidth 300\r\n",
       "hide circle\r\n",
       "\r\n",
       "@enduml\r\n",
       "\n",
       "PlantUML version 1.2020.13(Sat Jun 13 12:26:38 UTC 2020)\n",
       "(EPL source distribution)\n",
       "Java Runtime: OpenJDK Runtime Environment\n",
       "JVM: OpenJDK 64-Bit Server VM\n",
       "Default Encoding: UTF-8\n",
       "Language: en\n",
       "Country: null\n",
       "--></g></svg>"
      ]
     },
     "execution_count": 49,
     "metadata": {},
     "output_type": "execute_result"
    }
   ],
   "source": [
    "%viz --style=\"TB\" --view=\"Sequence\" \"ConnectionTest\""
   ]
  },
  {
   "cell_type": "code",
   "execution_count": 50,
   "id": "c8351b03",
   "metadata": {
    "execution": {
     "iopub.execute_input": "2021-09-27T07:17:34.986588Z",
     "iopub.status.busy": "2021-09-27T07:17:34.986121Z",
     "iopub.status.idle": "2021-09-27T07:17:35.018874Z",
     "shell.execute_reply": "2021-09-27T07:17:35.018524Z"
    }
   },
   "outputs": [
    {
     "data": {
      "image/svg+xml": [
       "<?xml version=\"1.0\" encoding=\"UTF-8\" standalone=\"no\"?><svg xmlns=\"http://www.w3.org/2000/svg\" xmlns:xlink=\"http://www.w3.org/1999/xlink\" contentScriptType=\"application/ecmascript\" contentStyleType=\"text/css\" height=\"539px\" preserveAspectRatio=\"none\" style=\"width:189px;height:539px;\" version=\"1.1\" viewBox=\"0 0 189 539\" width=\"189px\" zoomAndPan=\"magnify\"><defs/><g><!--MD5=[fbc87193dbaf4d95561dea2c320d4a47]\n",
       "cluster E1--><a href=\"psysml:58064a58-d13b-4f80-a6f6-0eceb966f2f7\" target=\"_top\" title=\"psysml:58064a58-d13b-4f80-a6f6-0eceb966f2f7\" xlink:actuate=\"onRequest\" xlink:href=\"psysml:58064a58-d13b-4f80-a6f6-0eceb966f2f7\" xlink:show=\"new\" xlink:title=\"psysml:58064a58-d13b-4f80-a6f6-0eceb966f2f7\" xlink:type=\"simple\"><polygon fill=\"#FFFFFF\" points=\"16,6,133,6,140,28.2969,167,28.2969,167,527,16,527,16,6\" style=\"stroke: #000000; stroke-width: 1.5;\"/><line style=\"stroke: #000000; stroke-width: 1.5;\" x1=\"16\" x2=\"140\" y1=\"28.2969\" y2=\"28.2969\"/><text fill=\"#000000\" font-family=\"sans-serif\" font-size=\"14\" font-weight=\"bold\" lengthAdjust=\"spacingAndGlyphs\" textLength=\"111\" x=\"20\" y=\"20.9951\">ConnectionTest</text></a><!--MD5=[b4997ac47864f28c2f74865a473b2911]\n",
       "class E2--><a href=\"psysml:98bc980e-08bf-4c08-bf0e-335abb3c4ffd\" target=\"_top\" title=\"psysml:98bc980e-08bf-4c08-bf0e-335abb3c4ffd\" xlink:actuate=\"onRequest\" xlink:href=\"psysml:98bc980e-08bf-4c08-bf0e-335abb3c4ffd\" xlink:show=\"new\" xlink:title=\"psysml:98bc980e-08bf-4c08-bf0e-335abb3c4ffd\" xlink:type=\"simple\"><rect fill=\"#FFFFFF\" height=\"45.9375\" id=\"E2\" rx=\"10\" ry=\"10\" style=\"stroke: #383838; stroke-width: 1.5;\" width=\"42\" x=\"89\" y=\"253\"/><text fill=\"#000000\" font-family=\"sans-serif\" font-size=\"12\" font-style=\"italic\" lengthAdjust=\"spacingAndGlyphs\" textLength=\"40\" x=\"90\" y=\"269.1387\">«part»</text><text fill=\"#000000\" font-family=\"sans-serif\" font-size=\"12\" lengthAdjust=\"spacingAndGlyphs\" textLength=\"8\" x=\"106\" y=\"283.1074\">p</text><line style=\"stroke: #383838; stroke-width: 1.5;\" x1=\"90\" x2=\"130\" y1=\"290.9375\" y2=\"290.9375\"/></a><!--MD5=[09b614a08d8cba4a07c9adeb5e0fee81]\n",
       "class E3--><a href=\"psysml:c51e79ce-7cf1-4bdb-aba6-5cab2657d431\" target=\"_top\" title=\"psysml:c51e79ce-7cf1-4bdb-aba6-5cab2657d431\" xlink:actuate=\"onRequest\" xlink:href=\"psysml:c51e79ce-7cf1-4bdb-aba6-5cab2657d431\" xlink:show=\"new\" xlink:title=\"psysml:c51e79ce-7cf1-4bdb-aba6-5cab2657d431\" xlink:type=\"simple\"><rect fill=\"#FFFFFF\" height=\"45.9375\" id=\"E3\" rx=\"10\" ry=\"10\" style=\"stroke: #383838; stroke-width: 1.5;\" width=\"42\" x=\"109\" y=\"359\"/><text fill=\"#000000\" font-family=\"sans-serif\" font-size=\"12\" font-style=\"italic\" lengthAdjust=\"spacingAndGlyphs\" textLength=\"40\" x=\"110\" y=\"375.1387\">«part»</text><text fill=\"#000000\" font-family=\"sans-serif\" font-size=\"12\" lengthAdjust=\"spacingAndGlyphs\" textLength=\"6\" x=\"127\" y=\"389.1074\">x</text><line style=\"stroke: #383838; stroke-width: 1.5;\" x1=\"110\" x2=\"150\" y1=\"396.9375\" y2=\"396.9375\"/></a><!--MD5=[ebbe1d658d1005bcc118a6aa81145e00]\n",
       "class E4--><a href=\"psysml:31f41755-661a-4a53-a2bb-f2dfc01c0edf\" target=\"_top\" title=\"psysml:31f41755-661a-4a53-a2bb-f2dfc01c0edf\" xlink:actuate=\"onRequest\" xlink:href=\"psysml:31f41755-661a-4a53-a2bb-f2dfc01c0edf\" xlink:show=\"new\" xlink:title=\"psysml:31f41755-661a-4a53-a2bb-f2dfc01c0edf\" xlink:type=\"simple\"><rect fill=\"#FFFFFF\" height=\"45.9375\" id=\"E4\" rx=\"10\" ry=\"10\" style=\"stroke: #383838; stroke-width: 1.5;\" width=\"42\" x=\"109\" y=\"465\"/><text fill=\"#000000\" font-family=\"sans-serif\" font-size=\"12\" font-style=\"italic\" lengthAdjust=\"spacingAndGlyphs\" textLength=\"40\" x=\"110\" y=\"481.1387\">«part»</text><text fill=\"#000000\" font-family=\"sans-serif\" font-size=\"12\" lengthAdjust=\"spacingAndGlyphs\" textLength=\"14\" x=\"123\" y=\"495.1074\">x1</text><line style=\"stroke: #383838; stroke-width: 1.5;\" x1=\"110\" x2=\"150\" y1=\"502.9375\" y2=\"502.9375\"/></a><!--MD5=[270fce915f116d4de14055a7c1d9a0f3]\n",
       "class E5--><a href=\"psysml:9833d686-e720-46bf-b438-35dbd29b7a16\" target=\"_top\" title=\"psysml:9833d686-e720-46bf-b438-35dbd29b7a16\" xlink:actuate=\"onRequest\" xlink:href=\"psysml:9833d686-e720-46bf-b438-35dbd29b7a16\" xlink:show=\"new\" xlink:title=\"psysml:9833d686-e720-46bf-b438-35dbd29b7a16\" xlink:type=\"simple\"><rect fill=\"#FFFFFF\" height=\"45.9375\" id=\"E5\" style=\"stroke: #383838; stroke-width: 1.5;\" width=\"66\" x=\"54\" y=\"41\"/><text fill=\"#000000\" font-family=\"sans-serif\" font-size=\"12\" font-style=\"italic\" lengthAdjust=\"spacingAndGlyphs\" textLength=\"64\" x=\"55\" y=\"57.1387\">«part def»</text><text fill=\"#000000\" font-family=\"sans-serif\" font-size=\"12\" lengthAdjust=\"spacingAndGlyphs\" textLength=\"8\" x=\"83\" y=\"71.1074\">P</text><line style=\"stroke: #383838; stroke-width: 1.5;\" x1=\"55\" x2=\"119\" y1=\"78.9375\" y2=\"78.9375\"/></a><!--MD5=[60a26617385b1d2d0262a64233df1f8d]\n",
       "class E6--><a href=\"psysml:f96f9e94-0e28-4abd-b8cb-5d3679a708db\" target=\"_top\" title=\"psysml:f96f9e94-0e28-4abd-b8cb-5d3679a708db\" xlink:actuate=\"onRequest\" xlink:href=\"psysml:f96f9e94-0e28-4abd-b8cb-5d3679a708db\" xlink:show=\"new\" xlink:title=\"psysml:f96f9e94-0e28-4abd-b8cb-5d3679a708db\" xlink:type=\"simple\"><rect fill=\"#FFFFFF\" height=\"45.9375\" id=\"E6\" rx=\"10\" ry=\"10\" style=\"stroke: #383838; stroke-width: 1.5;\" width=\"42\" x=\"32\" y=\"359\"/><text fill=\"#000000\" font-family=\"sans-serif\" font-size=\"12\" font-style=\"italic\" lengthAdjust=\"spacingAndGlyphs\" textLength=\"40\" x=\"33\" y=\"375.1387\">«part»</text><text fill=\"#000000\" font-family=\"sans-serif\" font-size=\"12\" lengthAdjust=\"spacingAndGlyphs\" textLength=\"6\" x=\"50\" y=\"389.1074\">y</text><line style=\"stroke: #383838; stroke-width: 1.5;\" x1=\"33\" x2=\"73\" y1=\"396.9375\" y2=\"396.9375\"/></a><!--MD5=[2156ba9850f5573cc1fc38a6a4b2f02b]\n",
       "class E7--><a href=\"psysml:2279d5a4-5f0e-43ce-88bf-f6ddb21c3f25\" target=\"_top\" title=\"psysml:2279d5a4-5f0e-43ce-88bf-f6ddb21c3f25\" xlink:actuate=\"onRequest\" xlink:href=\"psysml:2279d5a4-5f0e-43ce-88bf-f6ddb21c3f25\" xlink:show=\"new\" xlink:title=\"psysml:2279d5a4-5f0e-43ce-88bf-f6ddb21c3f25\" xlink:type=\"simple\"><rect fill=\"#FFFFFF\" height=\"45.9375\" id=\"E7\" rx=\"10\" ry=\"10\" style=\"stroke: #383838; stroke-width: 1.5;\" width=\"42\" x=\"89\" y=\"147\"/><text fill=\"#000000\" font-family=\"sans-serif\" font-size=\"12\" font-style=\"italic\" lengthAdjust=\"spacingAndGlyphs\" textLength=\"40\" x=\"90\" y=\"163.1387\">«part»</text><text fill=\"#000000\" font-family=\"sans-serif\" font-size=\"12\" lengthAdjust=\"spacingAndGlyphs\" textLength=\"16\" x=\"102\" y=\"177.1074\">p1</text><line style=\"stroke: #383838; stroke-width: 1.5;\" x1=\"90\" x2=\"130\" y1=\"184.9375\" y2=\"184.9375\"/></a><!--MD5=[209b3feb70ccb6233bfe1053d122c12c]\n",
       "reverse link E2 to E3--><a href=\"psysml:1ffc18c1-940f-43c3-a54c-dcf9b76281a6\" target=\"_top\" title=\"psysml:1ffc18c1-940f-43c3-a54c-dcf9b76281a6\" xlink:actuate=\"onRequest\" xlink:href=\"psysml:1ffc18c1-940f-43c3-a54c-dcf9b76281a6\" xlink:show=\"new\" xlink:title=\"psysml:1ffc18c1-940f-43c3-a54c-dcf9b76281a6\" xlink:type=\"simple\"><path d=\"M116.72,311.96 C119.71,327.51 123.14,345.33 125.76,358.98 \" fill=\"none\" id=\"E2&lt;-E3\" style=\"stroke: #383838; stroke-width: 1.0;\"/><polygon fill=\"#383838\" points=\"114.24,299.06,111.447,305.7082,116.5096,310.8434,119.3026,304.1952,114.24,299.06\" style=\"stroke: #383838; stroke-width: 1.0;\"/><text fill=\"#000000\" font-family=\"sans-serif\" font-size=\"13\" lengthAdjust=\"spacingAndGlyphs\" textLength=\"8\" x=\"115.5455\" y=\"347.8709\">1</text></a><!--MD5=[4672eba38e49728da53d11aeb285b987]\n",
       "reverse link E3 to E4--><a href=\"psysml:3d75ef33-b13b-4214-af18-b5d2941be4f9\" target=\"_top\" title=\"psysml:3d75ef33-b13b-4214-af18-b5d2941be4f9\" xlink:actuate=\"onRequest\" xlink:href=\"psysml:3d75ef33-b13b-4214-af18-b5d2941be4f9\" xlink:show=\"new\" xlink:title=\"psysml:3d75ef33-b13b-4214-af18-b5d2941be4f9\" xlink:type=\"simple\"><path d=\"M130,418.44 C130,433.87 130,451.47 130,464.98 \" fill=\"none\" id=\"E3&lt;-E4\" style=\"stroke: #383838; stroke-width: 1.0;\"/><polygon fill=\"#383838\" points=\"130,405.06,126,411.06,130,417.06,134,411.06,130,405.06\" style=\"stroke: #383838; stroke-width: 1.0;\"/><text fill=\"#000000\" font-family=\"sans-serif\" font-size=\"13\" lengthAdjust=\"spacingAndGlyphs\" textLength=\"8\" x=\"120.925\" y=\"453.8709\">1</text></a><!--MD5=[85d356282659285ab4b2cfe2f634dd2b]\n",
       "reverse link E5 to E6--><a href=\"psysml:d68af8b5-54d9-4416-b26b-1e36c98f2c99\" target=\"_top\" title=\"psysml:d68af8b5-54d9-4416-b26b-1e36c98f2c99\" xlink:actuate=\"onRequest\" xlink:href=\"psysml:d68af8b5-54d9-4416-b26b-1e36c98f2c99\" xlink:show=\"new\" xlink:title=\"psysml:d68af8b5-54d9-4416-b26b-1e36c98f2c99\" xlink:type=\"simple\"><path d=\"M79.77,100.15 C77.01,114.61 74.03,131.56 72,147 C61.78,224.59 56.2,317.42 54.05,358.98 \" fill=\"none\" id=\"E5&lt;-E6\" style=\"stroke: #383838; stroke-width: 1.0;\"/><polygon fill=\"#383838\" points=\"82.32,87.18,77.2408,92.2988,80.0123,98.956,85.0915,93.8372,82.32,87.18\" style=\"stroke: #383838; stroke-width: 1.0;\"/><text fill=\"#000000\" font-family=\"sans-serif\" font-size=\"13\" lengthAdjust=\"spacingAndGlyphs\" textLength=\"8\" x=\"45.2572\" y=\"347.8709\">1</text></a><!--MD5=[e3e28c1befcf002155aa15e1416b4315]\n",
       "link E2 to E6--><a href=\"psysml:901b44a6-3b8d-4bea-9e51-ad40652cd7ff\" target=\"_top\" title=\"psysml:901b44a6-3b8d-4bea-9e51-ad40652cd7ff\" xlink:actuate=\"onRequest\" xlink:href=\"psysml:901b44a6-3b8d-4bea-9e51-ad40652cd7ff\" xlink:show=\"new\" xlink:title=\"psysml:901b44a6-3b8d-4bea-9e51-ad40652cd7ff\" xlink:type=\"simple\"><path d=\"M97.91,299.06 C88.24,316.7 74.74,341.34 65.07,358.98 \" fill=\"none\" id=\"E2-E6\" style=\"stroke: #383838; stroke-width: 3.0;\"/><text fill=\"#000000\" font-family=\"sans-serif\" font-size=\"13\" lengthAdjust=\"spacingAndGlyphs\" textLength=\"7\" x=\"60.3732\" y=\"347.8709\">*</text></a><!--MD5=[452b418e7f8a40397a49b8c0a78acc5b]\n",
       "reverse link E5 to E7--><a href=\"psysml:5a5926b8-11d9-4284-b6a0-db32c9e29bb2\" target=\"_top\" title=\"psysml:5a5926b8-11d9-4284-b6a0-db32c9e29bb2\" xlink:actuate=\"onRequest\" xlink:href=\"psysml:5a5926b8-11d9-4284-b6a0-db32c9e29bb2\" xlink:show=\"new\" xlink:title=\"psysml:5a5926b8-11d9-4284-b6a0-db32c9e29bb2\" xlink:type=\"simple\"><path d=\"M94.73,99.96 C98.17,115.51 102.11,133.33 105.13,146.98 \" fill=\"none\" id=\"E5&lt;-E7\" style=\"stroke: #383838; stroke-width: 1.0;\"/><polygon fill=\"#383838\" points=\"91.88,87.06,89.2656,93.7805,94.4636,98.7786,97.078,92.0581,91.88,87.06\" style=\"stroke: #383838; stroke-width: 1.0;\"/><text fill=\"#000000\" font-family=\"sans-serif\" font-size=\"13\" lengthAdjust=\"spacingAndGlyphs\" textLength=\"8\" x=\"94.7462\" y=\"135.8709\">1</text></a><!--MD5=[583832df87f4419a098336a29a52fa00]\n",
       "link E7 to E2--><a href=\"psysml:dd540a25-2742-496a-aaa6-3ea5cc8a4940\" target=\"_top\" title=\"psysml:dd540a25-2742-496a-aaa6-3ea5cc8a4940\" xlink:actuate=\"onRequest\" xlink:href=\"psysml:dd540a25-2742-496a-aaa6-3ea5cc8a4940\" xlink:show=\"new\" xlink:title=\"psysml:dd540a25-2742-496a-aaa6-3ea5cc8a4940\" xlink:type=\"simple\"><path d=\"M110,193.06 C110,204.64 110,219.23 110,232.87 \" fill=\"none\" id=\"E7-&gt;E2\" style=\"stroke: #383838; stroke-width: 1.0;\"/><polygon fill=\"none\" points=\"117,232.98,110,252.98,103,232.98,117,232.98\" style=\"stroke: #383838; stroke-width: 1.0;\"/></a><!--MD5=[73398b0ac8040a0c0ef7ce5506e24d67]\n",
       "@startuml\r\n",
       "top to bottom direction\r\n",
       "skinparam monochrome true\r\n",
       "skinparam classbackgroundcolor white\r\n",
       "skinparam shadowing false\r\n",
       "skinparam wrapWidth 300\r\n",
       "hide circle\r\n",
       "\r\n",
       "package \"ConnectionTest\" as E1  [[psysml:58064a58-d13b-4f80-a6f6-0eceb966f2f7 ]]  {\r\n",
       "comp usage \"p\" as E2  <<(T,blue) part>> [[psysml:98bc980e-08bf-4c08-bf0e-335abb3c4ffd ]] {\r\n",
       "}\r\n",
       "comp usage \"x\" as E3  <<(T,blue) part>> [[psysml:c51e79ce-7cf1-4bdb-aba6-5cab2657d431 ]] {\r\n",
       "}\r\n",
       "comp usage \"x1\" as E4  <<(T,blue) part>> [[psysml:31f41755-661a-4a53-a2bb-f2dfc01c0edf ]] {\r\n",
       "}\r\n",
       "comp def \"P\" as E5  <<(T,blue) part def>> [[psysml:9833d686-e720-46bf-b438-35dbd29b7a16 ]] {\r\n",
       "}\r\n",
       "comp usage \"y\" as E6  <<(T,blue) part>> [[psysml:f96f9e94-0e28-4abd-b8cb-5d3679a708db ]] {\r\n",
       "}\r\n",
       "comp usage \"p1\" as E7  <<(T,blue) part>> [[psysml:2279d5a4-5f0e-43ce-88bf-f6ddb21c3f25 ]] {\r\n",
       "}\r\n",
       "}\r\n",
       "E2 *- - \"1\"E3 [[psysml:1ffc18c1-940f-43c3-a54c-dcf9b76281a6 ]] \r\n",
       "E3 *- - \"1\"E4 [[psysml:3d75ef33-b13b-4214-af18-b5d2941be4f9 ]] \r\n",
       "E5 *- - \"1\"E6 [[psysml:d68af8b5-54d9-4416-b26b-1e36c98f2c99 ]] \r\n",
       "E2 -[thickness=3]- \"*\"E6 [[psysml:901b44a6-3b8d-4bea-9e51-ad40652cd7ff ]] \r\n",
       "E5 *- - \"1\"E7 [[psysml:5a5926b8-11d9-4284-b6a0-db32c9e29bb2 ]] \r\n",
       "E7 - -|> E2 [[psysml:dd540a25-2742-496a-aaa6-3ea5cc8a4940 ]] \r\n",
       "@enduml\r\n",
       "\n",
       "PlantUML version 1.2020.13(Sat Jun 13 12:26:38 UTC 2020)\n",
       "(EPL source distribution)\n",
       "Java Runtime: OpenJDK Runtime Environment\n",
       "JVM: OpenJDK 64-Bit Server VM\n",
       "Default Encoding: UTF-8\n",
       "Language: en\n",
       "Country: null\n",
       "--></g></svg>"
      ]
     },
     "execution_count": 50,
     "metadata": {},
     "output_type": "execute_result"
    }
   ],
   "source": [
    "%viz --style=\"TB\" --view=\"MIXED\" \"ConnectionTest\""
   ]
  },
  {
   "cell_type": "code",
   "execution_count": 51,
   "id": "6108e4ab",
   "metadata": {
    "execution": {
     "iopub.execute_input": "2021-09-27T07:17:35.068428Z",
     "iopub.status.busy": "2021-09-27T07:17:35.068033Z",
     "iopub.status.idle": "2021-09-27T07:17:35.098530Z",
     "shell.execute_reply": "2021-09-27T07:17:35.098156Z"
    }
   },
   "outputs": [
    {
     "data": {
      "image/svg+xml": [
       "<?xml version=\"1.0\" encoding=\"UTF-8\" standalone=\"no\"?><svg xmlns=\"http://www.w3.org/2000/svg\" xmlns:xlink=\"http://www.w3.org/1999/xlink\" contentScriptType=\"application/ecmascript\" contentStyleType=\"text/css\" height=\"539px\" preserveAspectRatio=\"none\" style=\"width:189px;height:539px;\" version=\"1.1\" viewBox=\"0 0 189 539\" width=\"189px\" zoomAndPan=\"magnify\"><defs/><g><!--MD5=[fbc87193dbaf4d95561dea2c320d4a47]\n",
       "cluster E1--><a href=\"psysml:58064a58-d13b-4f80-a6f6-0eceb966f2f7\" target=\"_top\" title=\"psysml:58064a58-d13b-4f80-a6f6-0eceb966f2f7\" xlink:actuate=\"onRequest\" xlink:href=\"psysml:58064a58-d13b-4f80-a6f6-0eceb966f2f7\" xlink:show=\"new\" xlink:title=\"psysml:58064a58-d13b-4f80-a6f6-0eceb966f2f7\" xlink:type=\"simple\"><polygon fill=\"#FFFFFF\" points=\"16,6,133,6,140,28.2969,167,28.2969,167,527,16,527,16,6\" style=\"stroke: #000000; stroke-width: 1.5;\"/><line style=\"stroke: #000000; stroke-width: 1.5;\" x1=\"16\" x2=\"140\" y1=\"28.2969\" y2=\"28.2969\"/><text fill=\"#000000\" font-family=\"sans-serif\" font-size=\"14\" font-weight=\"bold\" lengthAdjust=\"spacingAndGlyphs\" textLength=\"111\" x=\"20\" y=\"20.9951\">ConnectionTest</text></a><!--MD5=[b4997ac47864f28c2f74865a473b2911]\n",
       "class E2--><a href=\"psysml:98bc980e-08bf-4c08-bf0e-335abb3c4ffd\" target=\"_top\" title=\"psysml:98bc980e-08bf-4c08-bf0e-335abb3c4ffd\" xlink:actuate=\"onRequest\" xlink:href=\"psysml:98bc980e-08bf-4c08-bf0e-335abb3c4ffd\" xlink:show=\"new\" xlink:title=\"psysml:98bc980e-08bf-4c08-bf0e-335abb3c4ffd\" xlink:type=\"simple\"><rect fill=\"#FFFFFF\" height=\"45.9375\" id=\"E2\" rx=\"10\" ry=\"10\" style=\"stroke: #383838; stroke-width: 1.5;\" width=\"42\" x=\"89\" y=\"253\"/><text fill=\"#000000\" font-family=\"sans-serif\" font-size=\"12\" font-style=\"italic\" lengthAdjust=\"spacingAndGlyphs\" textLength=\"40\" x=\"90\" y=\"269.1387\">«part»</text><text fill=\"#000000\" font-family=\"sans-serif\" font-size=\"12\" lengthAdjust=\"spacingAndGlyphs\" textLength=\"8\" x=\"106\" y=\"283.1074\">p</text><line style=\"stroke: #383838; stroke-width: 1.5;\" x1=\"90\" x2=\"130\" y1=\"290.9375\" y2=\"290.9375\"/></a><!--MD5=[09b614a08d8cba4a07c9adeb5e0fee81]\n",
       "class E3--><a href=\"psysml:c51e79ce-7cf1-4bdb-aba6-5cab2657d431\" target=\"_top\" title=\"psysml:c51e79ce-7cf1-4bdb-aba6-5cab2657d431\" xlink:actuate=\"onRequest\" xlink:href=\"psysml:c51e79ce-7cf1-4bdb-aba6-5cab2657d431\" xlink:show=\"new\" xlink:title=\"psysml:c51e79ce-7cf1-4bdb-aba6-5cab2657d431\" xlink:type=\"simple\"><rect fill=\"#FFFFFF\" height=\"45.9375\" id=\"E3\" rx=\"10\" ry=\"10\" style=\"stroke: #383838; stroke-width: 1.5;\" width=\"42\" x=\"109\" y=\"359\"/><text fill=\"#000000\" font-family=\"sans-serif\" font-size=\"12\" font-style=\"italic\" lengthAdjust=\"spacingAndGlyphs\" textLength=\"40\" x=\"110\" y=\"375.1387\">«part»</text><text fill=\"#000000\" font-family=\"sans-serif\" font-size=\"12\" lengthAdjust=\"spacingAndGlyphs\" textLength=\"6\" x=\"127\" y=\"389.1074\">x</text><line style=\"stroke: #383838; stroke-width: 1.5;\" x1=\"110\" x2=\"150\" y1=\"396.9375\" y2=\"396.9375\"/></a><!--MD5=[ebbe1d658d1005bcc118a6aa81145e00]\n",
       "class E4--><a href=\"psysml:31f41755-661a-4a53-a2bb-f2dfc01c0edf\" target=\"_top\" title=\"psysml:31f41755-661a-4a53-a2bb-f2dfc01c0edf\" xlink:actuate=\"onRequest\" xlink:href=\"psysml:31f41755-661a-4a53-a2bb-f2dfc01c0edf\" xlink:show=\"new\" xlink:title=\"psysml:31f41755-661a-4a53-a2bb-f2dfc01c0edf\" xlink:type=\"simple\"><rect fill=\"#FFFFFF\" height=\"45.9375\" id=\"E4\" rx=\"10\" ry=\"10\" style=\"stroke: #383838; stroke-width: 1.5;\" width=\"42\" x=\"109\" y=\"465\"/><text fill=\"#000000\" font-family=\"sans-serif\" font-size=\"12\" font-style=\"italic\" lengthAdjust=\"spacingAndGlyphs\" textLength=\"40\" x=\"110\" y=\"481.1387\">«part»</text><text fill=\"#000000\" font-family=\"sans-serif\" font-size=\"12\" lengthAdjust=\"spacingAndGlyphs\" textLength=\"14\" x=\"123\" y=\"495.1074\">x1</text><line style=\"stroke: #383838; stroke-width: 1.5;\" x1=\"110\" x2=\"150\" y1=\"502.9375\" y2=\"502.9375\"/></a><!--MD5=[270fce915f116d4de14055a7c1d9a0f3]\n",
       "class E5--><a href=\"psysml:9833d686-e720-46bf-b438-35dbd29b7a16\" target=\"_top\" title=\"psysml:9833d686-e720-46bf-b438-35dbd29b7a16\" xlink:actuate=\"onRequest\" xlink:href=\"psysml:9833d686-e720-46bf-b438-35dbd29b7a16\" xlink:show=\"new\" xlink:title=\"psysml:9833d686-e720-46bf-b438-35dbd29b7a16\" xlink:type=\"simple\"><rect fill=\"#FFFFFF\" height=\"45.9375\" id=\"E5\" style=\"stroke: #383838; stroke-width: 1.5;\" width=\"66\" x=\"54\" y=\"41\"/><text fill=\"#000000\" font-family=\"sans-serif\" font-size=\"12\" font-style=\"italic\" lengthAdjust=\"spacingAndGlyphs\" textLength=\"64\" x=\"55\" y=\"57.1387\">«part def»</text><text fill=\"#000000\" font-family=\"sans-serif\" font-size=\"12\" lengthAdjust=\"spacingAndGlyphs\" textLength=\"8\" x=\"83\" y=\"71.1074\">P</text><line style=\"stroke: #383838; stroke-width: 1.5;\" x1=\"55\" x2=\"119\" y1=\"78.9375\" y2=\"78.9375\"/></a><!--MD5=[60a26617385b1d2d0262a64233df1f8d]\n",
       "class E6--><a href=\"psysml:f96f9e94-0e28-4abd-b8cb-5d3679a708db\" target=\"_top\" title=\"psysml:f96f9e94-0e28-4abd-b8cb-5d3679a708db\" xlink:actuate=\"onRequest\" xlink:href=\"psysml:f96f9e94-0e28-4abd-b8cb-5d3679a708db\" xlink:show=\"new\" xlink:title=\"psysml:f96f9e94-0e28-4abd-b8cb-5d3679a708db\" xlink:type=\"simple\"><rect fill=\"#FFFFFF\" height=\"45.9375\" id=\"E6\" rx=\"10\" ry=\"10\" style=\"stroke: #383838; stroke-width: 1.5;\" width=\"42\" x=\"32\" y=\"359\"/><text fill=\"#000000\" font-family=\"sans-serif\" font-size=\"12\" font-style=\"italic\" lengthAdjust=\"spacingAndGlyphs\" textLength=\"40\" x=\"33\" y=\"375.1387\">«part»</text><text fill=\"#000000\" font-family=\"sans-serif\" font-size=\"12\" lengthAdjust=\"spacingAndGlyphs\" textLength=\"6\" x=\"50\" y=\"389.1074\">y</text><line style=\"stroke: #383838; stroke-width: 1.5;\" x1=\"33\" x2=\"73\" y1=\"396.9375\" y2=\"396.9375\"/></a><!--MD5=[2156ba9850f5573cc1fc38a6a4b2f02b]\n",
       "class E7--><a href=\"psysml:2279d5a4-5f0e-43ce-88bf-f6ddb21c3f25\" target=\"_top\" title=\"psysml:2279d5a4-5f0e-43ce-88bf-f6ddb21c3f25\" xlink:actuate=\"onRequest\" xlink:href=\"psysml:2279d5a4-5f0e-43ce-88bf-f6ddb21c3f25\" xlink:show=\"new\" xlink:title=\"psysml:2279d5a4-5f0e-43ce-88bf-f6ddb21c3f25\" xlink:type=\"simple\"><rect fill=\"#FFFFFF\" height=\"45.9375\" id=\"E7\" rx=\"10\" ry=\"10\" style=\"stroke: #383838; stroke-width: 1.5;\" width=\"42\" x=\"89\" y=\"147\"/><text fill=\"#000000\" font-family=\"sans-serif\" font-size=\"12\" font-style=\"italic\" lengthAdjust=\"spacingAndGlyphs\" textLength=\"40\" x=\"90\" y=\"163.1387\">«part»</text><text fill=\"#000000\" font-family=\"sans-serif\" font-size=\"12\" lengthAdjust=\"spacingAndGlyphs\" textLength=\"16\" x=\"102\" y=\"177.1074\">p1</text><line style=\"stroke: #383838; stroke-width: 1.5;\" x1=\"90\" x2=\"130\" y1=\"184.9375\" y2=\"184.9375\"/></a><!--MD5=[209b3feb70ccb6233bfe1053d122c12c]\n",
       "reverse link E2 to E3--><a href=\"psysml:1ffc18c1-940f-43c3-a54c-dcf9b76281a6\" target=\"_top\" title=\"psysml:1ffc18c1-940f-43c3-a54c-dcf9b76281a6\" xlink:actuate=\"onRequest\" xlink:href=\"psysml:1ffc18c1-940f-43c3-a54c-dcf9b76281a6\" xlink:show=\"new\" xlink:title=\"psysml:1ffc18c1-940f-43c3-a54c-dcf9b76281a6\" xlink:type=\"simple\"><path d=\"M120,312 C120,312 120,358.68 120,358.68 \" fill=\"none\" id=\"E2&lt;-E3\" style=\"stroke: #383838; stroke-width: 1.0;\"/><polygon fill=\"#383838\" points=\"120,299,116,305,120,311,124,305,120,299\" style=\"stroke: #383838; stroke-width: 1.0;\"/><text fill=\"#000000\" font-family=\"sans-serif\" font-size=\"13\" lengthAdjust=\"spacingAndGlyphs\" textLength=\"8\" x=\"108.4125\" y=\"347.8743\">1</text></a><!--MD5=[4672eba38e49728da53d11aeb285b987]\n",
       "reverse link E3 to E4--><a href=\"psysml:3d75ef33-b13b-4214-af18-b5d2941be4f9\" target=\"_top\" title=\"psysml:3d75ef33-b13b-4214-af18-b5d2941be4f9\" xlink:actuate=\"onRequest\" xlink:href=\"psysml:3d75ef33-b13b-4214-af18-b5d2941be4f9\" xlink:show=\"new\" xlink:title=\"psysml:3d75ef33-b13b-4214-af18-b5d2941be4f9\" xlink:type=\"simple\"><path d=\"M130,418 C130,418 130,464.68 130,464.68 \" fill=\"none\" id=\"E3&lt;-E4\" style=\"stroke: #383838; stroke-width: 1.0;\"/><polygon fill=\"#383838\" points=\"130,405,126,411,130,417,134,411,130,405\" style=\"stroke: #383838; stroke-width: 1.0;\"/><text fill=\"#000000\" font-family=\"sans-serif\" font-size=\"13\" lengthAdjust=\"spacingAndGlyphs\" textLength=\"8\" x=\"120.975\" y=\"453.8743\">1</text></a><!--MD5=[85d356282659285ab4b2cfe2f634dd2b]\n",
       "reverse link E5 to E6--><a href=\"psysml:d68af8b5-54d9-4416-b26b-1e36c98f2c99\" target=\"_top\" title=\"psysml:d68af8b5-54d9-4416-b26b-1e36c98f2c99\" xlink:actuate=\"onRequest\" xlink:href=\"psysml:d68af8b5-54d9-4416-b26b-1e36c98f2c99\" xlink:show=\"new\" xlink:title=\"psysml:d68af8b5-54d9-4416-b26b-1e36c98f2c99\" xlink:type=\"simple\"><path d=\"M60.67,100.13 C60.67,100.13 60.67,358.96 60.67,358.96 \" fill=\"none\" id=\"E5&lt;-E6\" style=\"stroke: #383838; stroke-width: 1.0;\"/><polygon fill=\"#383838\" points=\"60.67,87.13,56.67,93.13,60.67,99.13,64.67,93.13,60.67,87.13\" style=\"stroke: #383838; stroke-width: 1.0;\"/><text fill=\"#000000\" font-family=\"sans-serif\" font-size=\"13\" lengthAdjust=\"spacingAndGlyphs\" textLength=\"8\" x=\"53.6563\" y=\"347.8455\">1</text></a><!--MD5=[e3e28c1befcf002155aa15e1416b4315]\n",
       "link E2 to E6--><a href=\"psysml:901b44a6-3b8d-4bea-9e51-ad40652cd7ff\" target=\"_top\" title=\"psysml:901b44a6-3b8d-4bea-9e51-ad40652cd7ff\" xlink:actuate=\"onRequest\" xlink:href=\"psysml:901b44a6-3b8d-4bea-9e51-ad40652cd7ff\" xlink:show=\"new\" xlink:title=\"psysml:901b44a6-3b8d-4bea-9e51-ad40652cd7ff\" xlink:type=\"simple\"><path d=\"M88.67,276 C78,276 67.33,276 67.33,276 C67.33,276 67.33,327.82 67.33,359 \" fill=\"none\" id=\"E2-E6\" style=\"stroke: #383838; stroke-width: 3.0;\"/><text fill=\"#000000\" font-family=\"sans-serif\" font-size=\"13\" lengthAdjust=\"spacingAndGlyphs\" textLength=\"7\" x=\"72.1218\" y=\"347.8963\">*</text></a><!--MD5=[452b418e7f8a40397a49b8c0a78acc5b]\n",
       "reverse link E5 to E7--><a href=\"psysml:5a5926b8-11d9-4284-b6a0-db32c9e29bb2\" target=\"_top\" title=\"psysml:5a5926b8-11d9-4284-b6a0-db32c9e29bb2\" xlink:actuate=\"onRequest\" xlink:href=\"psysml:5a5926b8-11d9-4284-b6a0-db32c9e29bb2\" xlink:show=\"new\" xlink:title=\"psysml:5a5926b8-11d9-4284-b6a0-db32c9e29bb2\" xlink:type=\"simple\"><path d=\"M104.5,100 C104.5,100 104.5,146.68 104.5,146.68 \" fill=\"none\" id=\"E5&lt;-E7\" style=\"stroke: #383838; stroke-width: 1.0;\"/><polygon fill=\"#383838\" points=\"104.5,87,100.5,93,104.5,99,108.5,93,104.5,87\" style=\"stroke: #383838; stroke-width: 1.0;\"/><text fill=\"#000000\" font-family=\"sans-serif\" font-size=\"13\" lengthAdjust=\"spacingAndGlyphs\" textLength=\"8\" x=\"94.0656\" y=\"135.8743\">1</text></a><!--MD5=[583832df87f4419a098336a29a52fa00]\n",
       "link E7 to E2--><a href=\"psysml:dd540a25-2742-496a-aaa6-3ea5cc8a4940\" target=\"_top\" title=\"psysml:dd540a25-2742-496a-aaa6-3ea5cc8a4940\" xlink:actuate=\"onRequest\" xlink:href=\"psysml:dd540a25-2742-496a-aaa6-3ea5cc8a4940\" xlink:show=\"new\" xlink:title=\"psysml:dd540a25-2742-496a-aaa6-3ea5cc8a4940\" xlink:type=\"simple\"><path d=\"M110,193 C110,193 110,232.68 110,232.68 \" fill=\"none\" id=\"E7-&gt;E2\" style=\"stroke: #383838; stroke-width: 1.0;\"/><polygon fill=\"none\" points=\"117,232.68,110,252.68,103,232.68,117,232.68\" style=\"stroke: #383838; stroke-width: 1.0;\"/></a><!--MD5=[b51f93e42b1e055ed6fe1d755c674d1a]\n",
       "@startuml\r\n",
       "skinparam linetype ortho\r\n",
       "skinparam monochrome true\r\n",
       "skinparam classbackgroundcolor white\r\n",
       "skinparam shadowing false\r\n",
       "skinparam wrapWidth 300\r\n",
       "hide circle\r\n",
       "\r\n",
       "package \"ConnectionTest\" as E1  [[psysml:58064a58-d13b-4f80-a6f6-0eceb966f2f7 ]]  {\r\n",
       "comp usage \"p\" as E2  <<(T,blue) part>> [[psysml:98bc980e-08bf-4c08-bf0e-335abb3c4ffd ]] {\r\n",
       "}\r\n",
       "comp usage \"x\" as E3  <<(T,blue) part>> [[psysml:c51e79ce-7cf1-4bdb-aba6-5cab2657d431 ]] {\r\n",
       "}\r\n",
       "comp usage \"x1\" as E4  <<(T,blue) part>> [[psysml:31f41755-661a-4a53-a2bb-f2dfc01c0edf ]] {\r\n",
       "}\r\n",
       "comp def \"P\" as E5  <<(T,blue) part def>> [[psysml:9833d686-e720-46bf-b438-35dbd29b7a16 ]] {\r\n",
       "}\r\n",
       "comp usage \"y\" as E6  <<(T,blue) part>> [[psysml:f96f9e94-0e28-4abd-b8cb-5d3679a708db ]] {\r\n",
       "}\r\n",
       "comp usage \"p1\" as E7  <<(T,blue) part>> [[psysml:2279d5a4-5f0e-43ce-88bf-f6ddb21c3f25 ]] {\r\n",
       "}\r\n",
       "}\r\n",
       "E2 *- - \"1\"E3 [[psysml:1ffc18c1-940f-43c3-a54c-dcf9b76281a6 ]] \r\n",
       "E3 *- - \"1\"E4 [[psysml:3d75ef33-b13b-4214-af18-b5d2941be4f9 ]] \r\n",
       "E5 *- - \"1\"E6 [[psysml:d68af8b5-54d9-4416-b26b-1e36c98f2c99 ]] \r\n",
       "E2 -[thickness=3]- \"*\"E6 [[psysml:901b44a6-3b8d-4bea-9e51-ad40652cd7ff ]] \r\n",
       "E5 *- - \"1\"E7 [[psysml:5a5926b8-11d9-4284-b6a0-db32c9e29bb2 ]] \r\n",
       "E7 - -|> E2 [[psysml:dd540a25-2742-496a-aaa6-3ea5cc8a4940 ]] \r\n",
       "@enduml\r\n",
       "\n",
       "PlantUML version 1.2020.13(Sat Jun 13 12:26:38 UTC 2020)\n",
       "(EPL source distribution)\n",
       "Java Runtime: OpenJDK Runtime Environment\n",
       "JVM: OpenJDK 64-Bit Server VM\n",
       "Default Encoding: UTF-8\n",
       "Language: en\n",
       "Country: null\n",
       "--></g></svg>"
      ]
     },
     "execution_count": 51,
     "metadata": {},
     "output_type": "execute_result"
    }
   ],
   "source": [
    "%viz --style=\"ORTHOLINE\" --view=\"Default\" \"ConnectionTest\""
   ]
  },
  {
   "cell_type": "code",
   "execution_count": 52,
   "id": "c719d651",
   "metadata": {
    "execution": {
     "iopub.execute_input": "2021-09-27T07:17:35.148206Z",
     "iopub.status.busy": "2021-09-27T07:17:35.147812Z",
     "iopub.status.idle": "2021-09-27T07:17:35.178529Z",
     "shell.execute_reply": "2021-09-27T07:17:35.178147Z"
    }
   },
   "outputs": [
    {
     "data": {
      "image/svg+xml": [
       "<?xml version=\"1.0\" encoding=\"UTF-8\" standalone=\"no\"?><svg xmlns=\"http://www.w3.org/2000/svg\" xmlns:xlink=\"http://www.w3.org/1999/xlink\" contentScriptType=\"application/ecmascript\" contentStyleType=\"text/css\" height=\"539px\" preserveAspectRatio=\"none\" style=\"width:189px;height:539px;\" version=\"1.1\" viewBox=\"0 0 189 539\" width=\"189px\" zoomAndPan=\"magnify\"><defs/><g><!--MD5=[fbc87193dbaf4d95561dea2c320d4a47]\n",
       "cluster E1--><a href=\"psysml:58064a58-d13b-4f80-a6f6-0eceb966f2f7\" target=\"_top\" title=\"psysml:58064a58-d13b-4f80-a6f6-0eceb966f2f7\" xlink:actuate=\"onRequest\" xlink:href=\"psysml:58064a58-d13b-4f80-a6f6-0eceb966f2f7\" xlink:show=\"new\" xlink:title=\"psysml:58064a58-d13b-4f80-a6f6-0eceb966f2f7\" xlink:type=\"simple\"><polygon fill=\"#FFFFFF\" points=\"16,6,133,6,140,28.2969,167,28.2969,167,527,16,527,16,6\" style=\"stroke: #000000; stroke-width: 1.5;\"/><line style=\"stroke: #000000; stroke-width: 1.5;\" x1=\"16\" x2=\"140\" y1=\"28.2969\" y2=\"28.2969\"/><text fill=\"#000000\" font-family=\"sans-serif\" font-size=\"14\" font-weight=\"bold\" lengthAdjust=\"spacingAndGlyphs\" textLength=\"111\" x=\"20\" y=\"20.9951\">ConnectionTest</text></a><!--MD5=[b4997ac47864f28c2f74865a473b2911]\n",
       "class E2--><a href=\"psysml:98bc980e-08bf-4c08-bf0e-335abb3c4ffd\" target=\"_top\" title=\"psysml:98bc980e-08bf-4c08-bf0e-335abb3c4ffd\" xlink:actuate=\"onRequest\" xlink:href=\"psysml:98bc980e-08bf-4c08-bf0e-335abb3c4ffd\" xlink:show=\"new\" xlink:title=\"psysml:98bc980e-08bf-4c08-bf0e-335abb3c4ffd\" xlink:type=\"simple\"><rect fill=\"#FFFFFF\" height=\"45.9375\" id=\"E2\" rx=\"10\" ry=\"10\" style=\"stroke: #383838; stroke-width: 1.5;\" width=\"42\" x=\"89\" y=\"253\"/><text fill=\"#000000\" font-family=\"sans-serif\" font-size=\"12\" font-style=\"italic\" lengthAdjust=\"spacingAndGlyphs\" textLength=\"40\" x=\"90\" y=\"269.1387\">«part»</text><text fill=\"#000000\" font-family=\"sans-serif\" font-size=\"12\" lengthAdjust=\"spacingAndGlyphs\" textLength=\"8\" x=\"106\" y=\"283.1074\">p</text><line style=\"stroke: #383838; stroke-width: 1.5;\" x1=\"90\" x2=\"130\" y1=\"290.9375\" y2=\"290.9375\"/></a><!--MD5=[09b614a08d8cba4a07c9adeb5e0fee81]\n",
       "class E3--><a href=\"psysml:c51e79ce-7cf1-4bdb-aba6-5cab2657d431\" target=\"_top\" title=\"psysml:c51e79ce-7cf1-4bdb-aba6-5cab2657d431\" xlink:actuate=\"onRequest\" xlink:href=\"psysml:c51e79ce-7cf1-4bdb-aba6-5cab2657d431\" xlink:show=\"new\" xlink:title=\"psysml:c51e79ce-7cf1-4bdb-aba6-5cab2657d431\" xlink:type=\"simple\"><rect fill=\"#FFFFFF\" height=\"45.9375\" id=\"E3\" rx=\"10\" ry=\"10\" style=\"stroke: #383838; stroke-width: 1.5;\" width=\"42\" x=\"109\" y=\"359\"/><text fill=\"#000000\" font-family=\"sans-serif\" font-size=\"12\" font-style=\"italic\" lengthAdjust=\"spacingAndGlyphs\" textLength=\"40\" x=\"110\" y=\"375.1387\">«part»</text><text fill=\"#000000\" font-family=\"sans-serif\" font-size=\"12\" lengthAdjust=\"spacingAndGlyphs\" textLength=\"6\" x=\"127\" y=\"389.1074\">x</text><line style=\"stroke: #383838; stroke-width: 1.5;\" x1=\"110\" x2=\"150\" y1=\"396.9375\" y2=\"396.9375\"/></a><!--MD5=[ebbe1d658d1005bcc118a6aa81145e00]\n",
       "class E4--><a href=\"psysml:31f41755-661a-4a53-a2bb-f2dfc01c0edf\" target=\"_top\" title=\"psysml:31f41755-661a-4a53-a2bb-f2dfc01c0edf\" xlink:actuate=\"onRequest\" xlink:href=\"psysml:31f41755-661a-4a53-a2bb-f2dfc01c0edf\" xlink:show=\"new\" xlink:title=\"psysml:31f41755-661a-4a53-a2bb-f2dfc01c0edf\" xlink:type=\"simple\"><rect fill=\"#FFFFFF\" height=\"45.9375\" id=\"E4\" rx=\"10\" ry=\"10\" style=\"stroke: #383838; stroke-width: 1.5;\" width=\"42\" x=\"109\" y=\"465\"/><text fill=\"#000000\" font-family=\"sans-serif\" font-size=\"12\" font-style=\"italic\" lengthAdjust=\"spacingAndGlyphs\" textLength=\"40\" x=\"110\" y=\"481.1387\">«part»</text><text fill=\"#000000\" font-family=\"sans-serif\" font-size=\"12\" lengthAdjust=\"spacingAndGlyphs\" textLength=\"14\" x=\"123\" y=\"495.1074\">x1</text><line style=\"stroke: #383838; stroke-width: 1.5;\" x1=\"110\" x2=\"150\" y1=\"502.9375\" y2=\"502.9375\"/></a><!--MD5=[270fce915f116d4de14055a7c1d9a0f3]\n",
       "class E5--><a href=\"psysml:9833d686-e720-46bf-b438-35dbd29b7a16\" target=\"_top\" title=\"psysml:9833d686-e720-46bf-b438-35dbd29b7a16\" xlink:actuate=\"onRequest\" xlink:href=\"psysml:9833d686-e720-46bf-b438-35dbd29b7a16\" xlink:show=\"new\" xlink:title=\"psysml:9833d686-e720-46bf-b438-35dbd29b7a16\" xlink:type=\"simple\"><rect fill=\"#FFFFFF\" height=\"45.9375\" id=\"E5\" style=\"stroke: #383838; stroke-width: 1.5;\" width=\"66\" x=\"54\" y=\"41\"/><text fill=\"#000000\" font-family=\"sans-serif\" font-size=\"12\" font-style=\"italic\" lengthAdjust=\"spacingAndGlyphs\" textLength=\"64\" x=\"55\" y=\"57.1387\">«part def»</text><text fill=\"#000000\" font-family=\"sans-serif\" font-size=\"12\" lengthAdjust=\"spacingAndGlyphs\" textLength=\"8\" x=\"83\" y=\"71.1074\">P</text><line style=\"stroke: #383838; stroke-width: 1.5;\" x1=\"55\" x2=\"119\" y1=\"78.9375\" y2=\"78.9375\"/></a><!--MD5=[60a26617385b1d2d0262a64233df1f8d]\n",
       "class E6--><a href=\"psysml:f96f9e94-0e28-4abd-b8cb-5d3679a708db\" target=\"_top\" title=\"psysml:f96f9e94-0e28-4abd-b8cb-5d3679a708db\" xlink:actuate=\"onRequest\" xlink:href=\"psysml:f96f9e94-0e28-4abd-b8cb-5d3679a708db\" xlink:show=\"new\" xlink:title=\"psysml:f96f9e94-0e28-4abd-b8cb-5d3679a708db\" xlink:type=\"simple\"><rect fill=\"#FFFFFF\" height=\"45.9375\" id=\"E6\" rx=\"10\" ry=\"10\" style=\"stroke: #383838; stroke-width: 1.5;\" width=\"42\" x=\"32\" y=\"359\"/><text fill=\"#000000\" font-family=\"sans-serif\" font-size=\"12\" font-style=\"italic\" lengthAdjust=\"spacingAndGlyphs\" textLength=\"40\" x=\"33\" y=\"375.1387\">«part»</text><text fill=\"#000000\" font-family=\"sans-serif\" font-size=\"12\" lengthAdjust=\"spacingAndGlyphs\" textLength=\"6\" x=\"50\" y=\"389.1074\">y</text><line style=\"stroke: #383838; stroke-width: 1.5;\" x1=\"33\" x2=\"73\" y1=\"396.9375\" y2=\"396.9375\"/></a><!--MD5=[2156ba9850f5573cc1fc38a6a4b2f02b]\n",
       "class E7--><a href=\"psysml:2279d5a4-5f0e-43ce-88bf-f6ddb21c3f25\" target=\"_top\" title=\"psysml:2279d5a4-5f0e-43ce-88bf-f6ddb21c3f25\" xlink:actuate=\"onRequest\" xlink:href=\"psysml:2279d5a4-5f0e-43ce-88bf-f6ddb21c3f25\" xlink:show=\"new\" xlink:title=\"psysml:2279d5a4-5f0e-43ce-88bf-f6ddb21c3f25\" xlink:type=\"simple\"><rect fill=\"#FFFFFF\" height=\"45.9375\" id=\"E7\" rx=\"10\" ry=\"10\" style=\"stroke: #383838; stroke-width: 1.5;\" width=\"42\" x=\"89\" y=\"147\"/><text fill=\"#000000\" font-family=\"sans-serif\" font-size=\"12\" font-style=\"italic\" lengthAdjust=\"spacingAndGlyphs\" textLength=\"40\" x=\"90\" y=\"163.1387\">«part»</text><text fill=\"#000000\" font-family=\"sans-serif\" font-size=\"12\" lengthAdjust=\"spacingAndGlyphs\" textLength=\"16\" x=\"102\" y=\"177.1074\">p1</text><line style=\"stroke: #383838; stroke-width: 1.5;\" x1=\"90\" x2=\"130\" y1=\"184.9375\" y2=\"184.9375\"/></a><!--MD5=[209b3feb70ccb6233bfe1053d122c12c]\n",
       "reverse link E2 to E3--><a href=\"psysml:1ffc18c1-940f-43c3-a54c-dcf9b76281a6\" target=\"_top\" title=\"psysml:1ffc18c1-940f-43c3-a54c-dcf9b76281a6\" xlink:actuate=\"onRequest\" xlink:href=\"psysml:1ffc18c1-940f-43c3-a54c-dcf9b76281a6\" xlink:show=\"new\" xlink:title=\"psysml:1ffc18c1-940f-43c3-a54c-dcf9b76281a6\" xlink:type=\"simple\"><path d=\"M120,312 C120,312 120,358.68 120,358.68 \" fill=\"none\" id=\"E2&lt;-E3\" style=\"stroke: #383838; stroke-width: 1.0;\"/><polygon fill=\"#383838\" points=\"120,299,116,305,120,311,124,305,120,299\" style=\"stroke: #383838; stroke-width: 1.0;\"/><text fill=\"#000000\" font-family=\"sans-serif\" font-size=\"13\" lengthAdjust=\"spacingAndGlyphs\" textLength=\"8\" x=\"108.4125\" y=\"347.8743\">1</text></a><!--MD5=[4672eba38e49728da53d11aeb285b987]\n",
       "reverse link E3 to E4--><a href=\"psysml:3d75ef33-b13b-4214-af18-b5d2941be4f9\" target=\"_top\" title=\"psysml:3d75ef33-b13b-4214-af18-b5d2941be4f9\" xlink:actuate=\"onRequest\" xlink:href=\"psysml:3d75ef33-b13b-4214-af18-b5d2941be4f9\" xlink:show=\"new\" xlink:title=\"psysml:3d75ef33-b13b-4214-af18-b5d2941be4f9\" xlink:type=\"simple\"><path d=\"M130,418 C130,418 130,464.68 130,464.68 \" fill=\"none\" id=\"E3&lt;-E4\" style=\"stroke: #383838; stroke-width: 1.0;\"/><polygon fill=\"#383838\" points=\"130,405,126,411,130,417,134,411,130,405\" style=\"stroke: #383838; stroke-width: 1.0;\"/><text fill=\"#000000\" font-family=\"sans-serif\" font-size=\"13\" lengthAdjust=\"spacingAndGlyphs\" textLength=\"8\" x=\"120.975\" y=\"453.8743\">1</text></a><!--MD5=[85d356282659285ab4b2cfe2f634dd2b]\n",
       "reverse link E5 to E6--><a href=\"psysml:d68af8b5-54d9-4416-b26b-1e36c98f2c99\" target=\"_top\" title=\"psysml:d68af8b5-54d9-4416-b26b-1e36c98f2c99\" xlink:actuate=\"onRequest\" xlink:href=\"psysml:d68af8b5-54d9-4416-b26b-1e36c98f2c99\" xlink:show=\"new\" xlink:title=\"psysml:d68af8b5-54d9-4416-b26b-1e36c98f2c99\" xlink:type=\"simple\"><path d=\"M60.67,100.13 C60.67,100.13 60.67,358.96 60.67,358.96 \" fill=\"none\" id=\"E5&lt;-E6\" style=\"stroke: #383838; stroke-width: 1.0;\"/><polygon fill=\"#383838\" points=\"60.67,87.13,56.67,93.13,60.67,99.13,64.67,93.13,60.67,87.13\" style=\"stroke: #383838; stroke-width: 1.0;\"/><text fill=\"#000000\" font-family=\"sans-serif\" font-size=\"13\" lengthAdjust=\"spacingAndGlyphs\" textLength=\"8\" x=\"53.6563\" y=\"347.8455\">1</text></a><!--MD5=[e3e28c1befcf002155aa15e1416b4315]\n",
       "link E2 to E6--><a href=\"psysml:901b44a6-3b8d-4bea-9e51-ad40652cd7ff\" target=\"_top\" title=\"psysml:901b44a6-3b8d-4bea-9e51-ad40652cd7ff\" xlink:actuate=\"onRequest\" xlink:href=\"psysml:901b44a6-3b8d-4bea-9e51-ad40652cd7ff\" xlink:show=\"new\" xlink:title=\"psysml:901b44a6-3b8d-4bea-9e51-ad40652cd7ff\" xlink:type=\"simple\"><path d=\"M88.67,276 C78,276 67.33,276 67.33,276 C67.33,276 67.33,327.82 67.33,359 \" fill=\"none\" id=\"E2-E6\" style=\"stroke: #383838; stroke-width: 3.0;\"/><text fill=\"#000000\" font-family=\"sans-serif\" font-size=\"13\" lengthAdjust=\"spacingAndGlyphs\" textLength=\"7\" x=\"72.1218\" y=\"347.8963\">*</text></a><!--MD5=[452b418e7f8a40397a49b8c0a78acc5b]\n",
       "reverse link E5 to E7--><a href=\"psysml:5a5926b8-11d9-4284-b6a0-db32c9e29bb2\" target=\"_top\" title=\"psysml:5a5926b8-11d9-4284-b6a0-db32c9e29bb2\" xlink:actuate=\"onRequest\" xlink:href=\"psysml:5a5926b8-11d9-4284-b6a0-db32c9e29bb2\" xlink:show=\"new\" xlink:title=\"psysml:5a5926b8-11d9-4284-b6a0-db32c9e29bb2\" xlink:type=\"simple\"><path d=\"M104.5,100 C104.5,100 104.5,146.68 104.5,146.68 \" fill=\"none\" id=\"E5&lt;-E7\" style=\"stroke: #383838; stroke-width: 1.0;\"/><polygon fill=\"#383838\" points=\"104.5,87,100.5,93,104.5,99,108.5,93,104.5,87\" style=\"stroke: #383838; stroke-width: 1.0;\"/><text fill=\"#000000\" font-family=\"sans-serif\" font-size=\"13\" lengthAdjust=\"spacingAndGlyphs\" textLength=\"8\" x=\"94.0656\" y=\"135.8743\">1</text></a><!--MD5=[583832df87f4419a098336a29a52fa00]\n",
       "link E7 to E2--><a href=\"psysml:dd540a25-2742-496a-aaa6-3ea5cc8a4940\" target=\"_top\" title=\"psysml:dd540a25-2742-496a-aaa6-3ea5cc8a4940\" xlink:actuate=\"onRequest\" xlink:href=\"psysml:dd540a25-2742-496a-aaa6-3ea5cc8a4940\" xlink:show=\"new\" xlink:title=\"psysml:dd540a25-2742-496a-aaa6-3ea5cc8a4940\" xlink:type=\"simple\"><path d=\"M110,193 C110,193 110,232.68 110,232.68 \" fill=\"none\" id=\"E7-&gt;E2\" style=\"stroke: #383838; stroke-width: 1.0;\"/><polygon fill=\"none\" points=\"117,232.68,110,252.68,103,232.68,117,232.68\" style=\"stroke: #383838; stroke-width: 1.0;\"/></a><!--MD5=[b51f93e42b1e055ed6fe1d755c674d1a]\n",
       "@startuml\r\n",
       "skinparam linetype ortho\r\n",
       "skinparam monochrome true\r\n",
       "skinparam classbackgroundcolor white\r\n",
       "skinparam shadowing false\r\n",
       "skinparam wrapWidth 300\r\n",
       "hide circle\r\n",
       "\r\n",
       "package \"ConnectionTest\" as E1  [[psysml:58064a58-d13b-4f80-a6f6-0eceb966f2f7 ]]  {\r\n",
       "comp usage \"p\" as E2  <<(T,blue) part>> [[psysml:98bc980e-08bf-4c08-bf0e-335abb3c4ffd ]] {\r\n",
       "}\r\n",
       "comp usage \"x\" as E3  <<(T,blue) part>> [[psysml:c51e79ce-7cf1-4bdb-aba6-5cab2657d431 ]] {\r\n",
       "}\r\n",
       "comp usage \"x1\" as E4  <<(T,blue) part>> [[psysml:31f41755-661a-4a53-a2bb-f2dfc01c0edf ]] {\r\n",
       "}\r\n",
       "comp def \"P\" as E5  <<(T,blue) part def>> [[psysml:9833d686-e720-46bf-b438-35dbd29b7a16 ]] {\r\n",
       "}\r\n",
       "comp usage \"y\" as E6  <<(T,blue) part>> [[psysml:f96f9e94-0e28-4abd-b8cb-5d3679a708db ]] {\r\n",
       "}\r\n",
       "comp usage \"p1\" as E7  <<(T,blue) part>> [[psysml:2279d5a4-5f0e-43ce-88bf-f6ddb21c3f25 ]] {\r\n",
       "}\r\n",
       "}\r\n",
       "E2 *- - \"1\"E3 [[psysml:1ffc18c1-940f-43c3-a54c-dcf9b76281a6 ]] \r\n",
       "E3 *- - \"1\"E4 [[psysml:3d75ef33-b13b-4214-af18-b5d2941be4f9 ]] \r\n",
       "E5 *- - \"1\"E6 [[psysml:d68af8b5-54d9-4416-b26b-1e36c98f2c99 ]] \r\n",
       "E2 -[thickness=3]- \"*\"E6 [[psysml:901b44a6-3b8d-4bea-9e51-ad40652cd7ff ]] \r\n",
       "E5 *- - \"1\"E7 [[psysml:5a5926b8-11d9-4284-b6a0-db32c9e29bb2 ]] \r\n",
       "E7 - -|> E2 [[psysml:dd540a25-2742-496a-aaa6-3ea5cc8a4940 ]] \r\n",
       "@enduml\r\n",
       "\n",
       "PlantUML version 1.2020.13(Sat Jun 13 12:26:38 UTC 2020)\n",
       "(EPL source distribution)\n",
       "Java Runtime: OpenJDK Runtime Environment\n",
       "JVM: OpenJDK 64-Bit Server VM\n",
       "Default Encoding: UTF-8\n",
       "Language: en\n",
       "Country: null\n",
       "--></g></svg>"
      ]
     },
     "execution_count": 52,
     "metadata": {},
     "output_type": "execute_result"
    }
   ],
   "source": [
    "%viz --style=\"ORTHOLINE\" --view=\"Tree\" \"ConnectionTest\""
   ]
  },
  {
   "cell_type": "code",
   "execution_count": 53,
   "id": "28b0215f",
   "metadata": {
    "execution": {
     "iopub.execute_input": "2021-09-27T07:17:35.228111Z",
     "iopub.status.busy": "2021-09-27T07:17:35.227713Z",
     "iopub.status.idle": "2021-09-27T07:17:35.232788Z",
     "shell.execute_reply": "2021-09-27T07:17:35.233097Z"
    }
   },
   "outputs": [
    {
     "data": {
      "image/svg+xml": [
       "<?xml version=\"1.0\" encoding=\"UTF-8\" standalone=\"no\"?><svg xmlns=\"http://www.w3.org/2000/svg\" xmlns:xlink=\"http://www.w3.org/1999/xlink\" contentScriptType=\"application/ecmascript\" contentStyleType=\"text/css\" height=\"12px\" preserveAspectRatio=\"none\" style=\"width:12px;height:12px;\" version=\"1.1\" viewBox=\"0 0 12 12\" width=\"12px\" zoomAndPan=\"magnify\"><defs/><g><!--MD5=[97d6f38768b311333d388e66b2b27985]\n",
       "@startuml\r\n",
       "skinparam linetype ortho\r\n",
       "skinparam monochrome true\r\n",
       "skinparam classbackgroundcolor white\r\n",
       "skinparam shadowing false\r\n",
       "skinparam wrapWidth 300\r\n",
       "hide circle\r\n",
       "\r\n",
       "@enduml\r\n",
       "\n",
       "PlantUML version 1.2020.13(Sat Jun 13 12:26:38 UTC 2020)\n",
       "(EPL source distribution)\n",
       "Java Runtime: OpenJDK Runtime Environment\n",
       "JVM: OpenJDK 64-Bit Server VM\n",
       "Default Encoding: UTF-8\n",
       "Language: en\n",
       "Country: null\n",
       "--></g></svg>"
      ]
     },
     "execution_count": 53,
     "metadata": {},
     "output_type": "execute_result"
    }
   ],
   "source": [
    "%viz --style=\"ORTHOLINE\" --view=\"State\" \"ConnectionTest\""
   ]
  },
  {
   "cell_type": "code",
   "execution_count": 54,
   "id": "ddc6ac50",
   "metadata": {
    "execution": {
     "iopub.execute_input": "2021-09-27T07:17:35.283149Z",
     "iopub.status.busy": "2021-09-27T07:17:35.282754Z",
     "iopub.status.idle": "2021-09-27T07:17:35.321051Z",
     "shell.execute_reply": "2021-09-27T07:17:35.318167Z"
    }
   },
   "outputs": [
    {
     "data": {
      "image/svg+xml": [
       "<?xml version=\"1.0\" encoding=\"UTF-8\" standalone=\"no\"?><svg xmlns=\"http://www.w3.org/2000/svg\" xmlns:xlink=\"http://www.w3.org/1999/xlink\" contentScriptType=\"application/ecmascript\" contentStyleType=\"text/css\" height=\"406px\" preserveAspectRatio=\"none\" style=\"width:509px;height:406px;\" version=\"1.1\" viewBox=\"0 0 509 406\" width=\"509px\" zoomAndPan=\"magnify\"><defs/><g><!--MD5=[fbc87193dbaf4d95561dea2c320d4a47]\n",
       "cluster E1--><a href=\"psysml:58064a58-d13b-4f80-a6f6-0eceb966f2f7\" target=\"_top\" title=\"psysml:58064a58-d13b-4f80-a6f6-0eceb966f2f7\" xlink:actuate=\"onRequest\" xlink:href=\"psysml:58064a58-d13b-4f80-a6f6-0eceb966f2f7\" xlink:show=\"new\" xlink:title=\"psysml:58064a58-d13b-4f80-a6f6-0eceb966f2f7\" xlink:type=\"simple\"><polygon fill=\"#FFFFFF\" points=\"16,6,133,6,140,28.2969,487,28.2969,487,394,16,394,16,6\" style=\"stroke: #000000; stroke-width: 1.5;\"/><line style=\"stroke: #000000; stroke-width: 1.5;\" x1=\"16\" x2=\"140\" y1=\"28.2969\" y2=\"28.2969\"/><text fill=\"#000000\" font-family=\"sans-serif\" font-size=\"14\" font-weight=\"bold\" lengthAdjust=\"spacingAndGlyphs\" textLength=\"111\" x=\"20\" y=\"20.9951\">ConnectionTest</text></a><!--MD5=[e4f7fae6ed58524ba242bb0b0d3be6b7]\n",
       "cluster E2--><a href=\"psysml:98bc980e-08bf-4c08-bf0e-335abb3c4ffd\" target=\"_top\" title=\"psysml:98bc980e-08bf-4c08-bf0e-335abb3c4ffd\" xlink:actuate=\"onRequest\" xlink:href=\"psysml:98bc980e-08bf-4c08-bf0e-335abb3c4ffd\" xlink:show=\"new\" xlink:title=\"psysml:98bc980e-08bf-4c08-bf0e-335abb3c4ffd\" xlink:type=\"simple\"><rect fill=\"#FFFFFF\" height=\"174\" id=\"E2\" rx=\"10\" ry=\"10\" style=\"stroke: #383838; stroke-width: 1.5;\" width=\"154\" x=\"301\" y=\"116\"/><rect fill=\"#F8F8F8\" height=\"23.9688\" rx=\"10\" ry=\"10\" style=\"stroke: #F8F8F8; stroke-width: 1.5;\" width=\"154\" x=\"301\" y=\"116\"/><rect fill=\"#F8F8F8\" height=\"10\" style=\"stroke: #F8F8F8; stroke-width: 1.5;\" width=\"154\" x=\"301\" y=\"129.9688\"/><rect fill=\"none\" height=\"174\" id=\"E2\" rx=\"10\" ry=\"10\" style=\"stroke: #383838; stroke-width: 1.5;\" width=\"154\" x=\"301\" y=\"116\"/><text fill=\"#000000\" font-family=\"sans-serif\" font-size=\"12\" lengthAdjust=\"spacingAndGlyphs\" textLength=\"8\" x=\"374\" y=\"132.1387\">p</text><line style=\"stroke: #383838; stroke-width: 1.0;\" x1=\"301\" x2=\"455\" y1=\"139.9688\" y2=\"139.9688\"/></a><!--MD5=[d5e69f78d87373223dbae638b30a9c99]\n",
       "cluster E3--><a href=\"psysml:c51e79ce-7cf1-4bdb-aba6-5cab2657d431\" target=\"_top\" title=\"psysml:c51e79ce-7cf1-4bdb-aba6-5cab2657d431\" xlink:actuate=\"onRequest\" xlink:href=\"psysml:c51e79ce-7cf1-4bdb-aba6-5cab2657d431\" xlink:show=\"new\" xlink:title=\"psysml:c51e79ce-7cf1-4bdb-aba6-5cab2657d431\" xlink:type=\"simple\"><rect fill=\"#FFFFFF\" height=\"91\" id=\"E3\" rx=\"10\" ry=\"10\" style=\"stroke: #383838; stroke-width: 1.5;\" width=\"82\" x=\"341\" y=\"167\"/><rect fill=\"#F8F8F8\" height=\"23.9688\" rx=\"10\" ry=\"10\" style=\"stroke: #F8F8F8; stroke-width: 1.5;\" width=\"82\" x=\"341\" y=\"167\"/><rect fill=\"#F8F8F8\" height=\"10\" style=\"stroke: #F8F8F8; stroke-width: 1.5;\" width=\"82\" x=\"341\" y=\"180.9688\"/><rect fill=\"none\" height=\"91\" id=\"E3\" rx=\"10\" ry=\"10\" style=\"stroke: #383838; stroke-width: 1.5;\" width=\"82\" x=\"341\" y=\"167\"/><text fill=\"#000000\" font-family=\"sans-serif\" font-size=\"12\" lengthAdjust=\"spacingAndGlyphs\" textLength=\"6\" x=\"379\" y=\"183.1387\">x</text><line style=\"stroke: #383838; stroke-width: 1.0;\" x1=\"341\" x2=\"423\" y1=\"190.9688\" y2=\"190.9688\"/></a><!--MD5=[de5ec2e2e8f62f467e546659f5068c88]\n",
       "cluster E5--><a href=\"psysml:9833d686-e720-46bf-b438-35dbd29b7a16\" target=\"_top\" title=\"psysml:9833d686-e720-46bf-b438-35dbd29b7a16\" xlink:actuate=\"onRequest\" xlink:href=\"psysml:9833d686-e720-46bf-b438-35dbd29b7a16\" xlink:show=\"new\" xlink:title=\"psysml:9833d686-e720-46bf-b438-35dbd29b7a16\" xlink:type=\"simple\"><rect fill=\"#FFFFFF\" height=\"321\" id=\"E5\" style=\"stroke: #383838; stroke-width: 1.5;\" width=\"229\" x=\"40\" y=\"49\"/><rect fill=\"#F8F8F8\" height=\"37.9375\" style=\"stroke: #383838; stroke-width: 1.5;\" width=\"229\" x=\"40\" y=\"49\"/><text fill=\"#000000\" font-family=\"sans-serif\" font-size=\"12\" font-style=\"italic\" lengthAdjust=\"spacingAndGlyphs\" textLength=\"64\" x=\"122.5\" y=\"65.1387\">«part def»</text><text fill=\"#000000\" font-family=\"sans-serif\" font-size=\"12\" lengthAdjust=\"spacingAndGlyphs\" textLength=\"8\" x=\"150.5\" y=\"79.1074\">P</text></a><!--MD5=[168fadf3d0c3fd93dd5d6da1b1d7ab76]\n",
       "cluster E7--><a href=\"psysml:2279d5a4-5f0e-43ce-88bf-f6ddb21c3f25\" target=\"_top\" title=\"psysml:2279d5a4-5f0e-43ce-88bf-f6ddb21c3f25\" xlink:actuate=\"onRequest\" xlink:href=\"psysml:2279d5a4-5f0e-43ce-88bf-f6ddb21c3f25\" xlink:show=\"new\" xlink:title=\"psysml:2279d5a4-5f0e-43ce-88bf-f6ddb21c3f25\" xlink:type=\"simple\"><rect fill=\"#FFFFFF\" height=\"190\" id=\"E7\" rx=\"10\" ry=\"10\" style=\"stroke: #383838; stroke-width: 1.5;\" width=\"181\" x=\"64\" y=\"108\"/><rect fill=\"#F8F8F8\" height=\"23.9688\" rx=\"10\" ry=\"10\" style=\"stroke: #F8F8F8; stroke-width: 1.5;\" width=\"181\" x=\"64\" y=\"108\"/><rect fill=\"#F8F8F8\" height=\"10\" style=\"stroke: #F8F8F8; stroke-width: 1.5;\" width=\"181\" x=\"64\" y=\"121.9688\"/><rect fill=\"none\" height=\"190\" id=\"E7\" rx=\"10\" ry=\"10\" style=\"stroke: #383838; stroke-width: 1.5;\" width=\"181\" x=\"64\" y=\"108\"/><text fill=\"#000000\" font-family=\"sans-serif\" font-size=\"12\" lengthAdjust=\"spacingAndGlyphs\" textLength=\"16\" x=\"146.5\" y=\"124.1387\">p1</text><line style=\"stroke: #383838; stroke-width: 1.0;\" x1=\"64\" x2=\"245\" y1=\"131.9688\" y2=\"131.9688\"/></a><!--MD5=[55dfccfc6c49c2d10cd1bd2211a6c90c]\n",
       "cluster E8--><a href=\"psysml:c51e79ce-7cf1-4bdb-aba6-5cab2657d431\" target=\"_top\" title=\"psysml:c51e79ce-7cf1-4bdb-aba6-5cab2657d431\" xlink:actuate=\"onRequest\" xlink:href=\"psysml:c51e79ce-7cf1-4bdb-aba6-5cab2657d431\" xlink:show=\"new\" xlink:title=\"psysml:c51e79ce-7cf1-4bdb-aba6-5cab2657d431\" xlink:type=\"simple\"><rect fill=\"#FFFFFF\" height=\"107\" id=\"E8\" rx=\"10\" ry=\"10\" style=\"stroke: #383838; stroke-width: 1.5;\" width=\"117\" x=\"96\" y=\"159\"/><rect fill=\"#F8F8F8\" height=\"23.9688\" rx=\"10\" ry=\"10\" style=\"stroke: #F8F8F8; stroke-width: 1.5;\" width=\"117\" x=\"96\" y=\"159\"/><rect fill=\"#F8F8F8\" height=\"10\" style=\"stroke: #F8F8F8; stroke-width: 1.5;\" width=\"117\" x=\"96\" y=\"172.9688\"/><rect fill=\"none\" height=\"107\" id=\"E8\" rx=\"10\" ry=\"10\" style=\"stroke: #383838; stroke-width: 1.5;\" width=\"117\" x=\"96\" y=\"159\"/><text fill=\"#000000\" font-family=\"sans-serif\" font-size=\"12\" lengthAdjust=\"spacingAndGlyphs\" textLength=\"16\" x=\"146.5\" y=\"175.1387\">^x</text><line style=\"stroke: #383838; stroke-width: 1.0;\" x1=\"96\" x2=\"213\" y1=\"182.9688\" y2=\"182.9688\"/></a><g id=\"E1.E2.E3.E4\"><a href=\"psysml:31f41755-661a-4a53-a2bb-f2dfc01c0edf\" target=\"_top\" title=\"psysml:31f41755-661a-4a53-a2bb-f2dfc01c0edf\" xlink:actuate=\"onRequest\" xlink:href=\"psysml:31f41755-661a-4a53-a2bb-f2dfc01c0edf\" xlink:show=\"new\" xlink:title=\"psysml:31f41755-661a-4a53-a2bb-f2dfc01c0edf\" xlink:type=\"simple\"><rect fill=\"#FFFFFF\" height=\"40\" id=\"E4\" rx=\"10\" ry=\"10\" style=\"stroke: #383838; stroke-width: 1.5;\" width=\"50\" x=\"357\" y=\"202\"/><rect fill=\"#F8F8F8\" height=\"23.9688\" rx=\"10\" ry=\"10\" style=\"stroke: #F8F8F8; stroke-width: 1.5;\" width=\"50\" x=\"357\" y=\"202\"/><rect fill=\"#F8F8F8\" height=\"10\" style=\"stroke: #F8F8F8; stroke-width: 1.5;\" width=\"50\" x=\"357\" y=\"215.9688\"/><rect fill=\"none\" height=\"40\" id=\"E4\" rx=\"10\" ry=\"10\" style=\"stroke: #383838; stroke-width: 1.5;\" width=\"50\" x=\"357\" y=\"202\"/><text fill=\"#000000\" font-family=\"sans-serif\" font-size=\"12\" lengthAdjust=\"spacingAndGlyphs\" textLength=\"14\" x=\"375\" y=\"218.1387\">x1</text></a></g><g id=\"E1.E5.E6\"><a href=\"psysml:f96f9e94-0e28-4abd-b8cb-5d3679a708db\" target=\"_top\" title=\"psysml:f96f9e94-0e28-4abd-b8cb-5d3679a708db\" xlink:actuate=\"onRequest\" xlink:href=\"psysml:f96f9e94-0e28-4abd-b8cb-5d3679a708db\" xlink:show=\"new\" xlink:title=\"psysml:f96f9e94-0e28-4abd-b8cb-5d3679a708db\" xlink:type=\"simple\"><rect fill=\"#FFFFFF\" height=\"40\" id=\"E6\" rx=\"10\" ry=\"10\" style=\"stroke: #383838; stroke-width: 1.5;\" width=\"50\" x=\"139\" y=\"314\"/><rect fill=\"#F8F8F8\" height=\"23.9688\" rx=\"10\" ry=\"10\" style=\"stroke: #F8F8F8; stroke-width: 1.5;\" width=\"50\" x=\"139\" y=\"314\"/><rect fill=\"#F8F8F8\" height=\"10\" style=\"stroke: #F8F8F8; stroke-width: 1.5;\" width=\"50\" x=\"139\" y=\"327.9688\"/><rect fill=\"none\" height=\"40\" id=\"E6\" rx=\"10\" ry=\"10\" style=\"stroke: #383838; stroke-width: 1.5;\" width=\"50\" x=\"139\" y=\"314\"/><text fill=\"#000000\" font-family=\"sans-serif\" font-size=\"12\" lengthAdjust=\"spacingAndGlyphs\" textLength=\"6\" x=\"161\" y=\"330.1387\">y</text></a></g><g id=\"E1.E5.E7.E8.E9\"><a href=\"psysml:31f41755-661a-4a53-a2bb-f2dfc01c0edf\" target=\"_top\" title=\"psysml:31f41755-661a-4a53-a2bb-f2dfc01c0edf\" xlink:actuate=\"onRequest\" xlink:href=\"psysml:31f41755-661a-4a53-a2bb-f2dfc01c0edf\" xlink:show=\"new\" xlink:title=\"psysml:31f41755-661a-4a53-a2bb-f2dfc01c0edf\" xlink:type=\"simple\"><rect fill=\"#FFFFFF\" height=\"40\" id=\"E9\" rx=\"10\" ry=\"10\" style=\"stroke: #383838; stroke-width: 1.5;\" width=\"50\" x=\"139\" y=\"202\"/><rect fill=\"#F8F8F8\" height=\"23.9688\" rx=\"10\" ry=\"10\" style=\"stroke: #F8F8F8; stroke-width: 1.5;\" width=\"50\" x=\"139\" y=\"202\"/><rect fill=\"#F8F8F8\" height=\"10\" style=\"stroke: #F8F8F8; stroke-width: 1.5;\" width=\"50\" x=\"139\" y=\"215.9688\"/><rect fill=\"none\" height=\"40\" id=\"E9\" rx=\"10\" ry=\"10\" style=\"stroke: #383838; stroke-width: 1.5;\" width=\"50\" x=\"139\" y=\"202\"/><text fill=\"#000000\" font-family=\"sans-serif\" font-size=\"12\" lengthAdjust=\"spacingAndGlyphs\" textLength=\"14\" x=\"157\" y=\"218.1387\">x1</text></a></g><!--MD5=[e3e28c1befcf002155aa15e1416b4315]\n",
       "link E2 to E6--><a href=\"psysml:901b44a6-3b8d-4bea-9e51-ad40652cd7ff\" target=\"_top\" title=\"psysml:901b44a6-3b8d-4bea-9e51-ad40652cd7ff\" xlink:actuate=\"onRequest\" xlink:href=\"psysml:901b44a6-3b8d-4bea-9e51-ad40652cd7ff\" xlink:show=\"new\" xlink:title=\"psysml:901b44a6-3b8d-4bea-9e51-ad40652cd7ff\" xlink:type=\"simple\"><path d=\"M309,290.5968 C309,291.0043 309,291.4108 309,291.8163 C309,295.0603 309,298.2384 309,301.3031 C309,307.4325 309,313.1087 309,317.9527 C309,327.6406 309,334 309,334 C309,334 230.8,334 189.26,334 \" fill=\"none\" id=\"E2-E6\" style=\"stroke: #383838; stroke-width: 3.0;\"/><text fill=\"#000000\" font-family=\"sans-serif\" font-size=\"13\" lengthAdjust=\"spacingAndGlyphs\" textLength=\"7\" x=\"196.9893\" y=\"329.0691\">*</text></a><!--MD5=[c5e8897d989ce984f93528998a7150fe]\n",
       "link E8 to E6--><a href=\"psysml:b9509daa-923d-4932-b597-51fbb4fcb62c\" target=\"_top\" title=\"psysml:b9509daa-923d-4932-b597-51fbb4fcb62c\" xlink:actuate=\"onRequest\" xlink:href=\"psysml:b9509daa-923d-4932-b597-51fbb4fcb62c\" xlink:show=\"new\" xlink:title=\"psysml:b9509daa-923d-4932-b597-51fbb4fcb62c\" xlink:type=\"simple\"><path d=\"M104,266.3753 C104,266.5797 104,266.7844 104,266.9893 C104,268.6282 104,270.2803 104,271.9395 C104,275.2579 104,278.6052 104,281.9338 C104,308.5625 104,334 104,334 C104,334 122.46,334 138.9,334 \" fill=\"none\" id=\"E8-E6\" style=\"stroke: #383838; stroke-width: 3.0;\"/><text fill=\"#000000\" font-family=\"sans-serif\" font-size=\"13\" lengthAdjust=\"spacingAndGlyphs\" textLength=\"7\" x=\"123.8563\" y=\"328.9762\">*</text></a><!--MD5=[60ac2c0cde89d4308155b0484e57a8ec]\n",
       "link E9 to E6--><a href=\"psysml:c683e43b-7fd5-4334-8447-643be8454737\" target=\"_top\" title=\"psysml:c683e43b-7fd5-4334-8447-643be8454737\" xlink:actuate=\"onRequest\" xlink:href=\"psysml:c683e43b-7fd5-4334-8447-643be8454737\" xlink:show=\"new\" xlink:title=\"psysml:c683e43b-7fd5-4334-8447-643be8454737\" xlink:type=\"simple\"><path d=\"M164,242.02 C164,262.28 164,293.44 164,313.77 \" fill=\"none\" id=\"E9-E6\" style=\"stroke: #383838; stroke-width: 3.0;\"/><text fill=\"#000000\" font-family=\"sans-serif\" font-size=\"13\" lengthAdjust=\"spacingAndGlyphs\" textLength=\"7\" x=\"156.0156\" y=\"303.0565\">*</text></a><!--MD5=[f73fe601264b4d245f01ed792d39a1ad]\n",
       "@startuml\r\n",
       "skinparam ranksep 10\r\n",
       "skinparam rectangle {\r\n",
       " backgroundColor<<block>> LightGreen\r\n",
       "}\r\n",
       "skinparam linetype ortho\r\n",
       "skinparam monochrome true\r\n",
       "skinparam classbackgroundcolor white\r\n",
       "skinparam shadowing false\r\n",
       "skinparam wrapWidth 300\r\n",
       "hide circle\r\n",
       "\r\n",
       "package \"ConnectionTest\" as E1  [[psysml:58064a58-d13b-4f80-a6f6-0eceb966f2f7 ]]  {\r\n",
       "rec usage \"p\" as E2  [[psysml:98bc980e-08bf-4c08-bf0e-335abb3c4ffd ]] {\r\n",
       "rec usage \"x\" as E3  [[psysml:c51e79ce-7cf1-4bdb-aba6-5cab2657d431 ]] {\r\n",
       "rec usage \"x1\" as E4  [[psysml:31f41755-661a-4a53-a2bb-f2dfc01c0edf ]] {\r\n",
       "}\r\n",
       "}\r\n",
       "}\r\n",
       "rec def \"P\" as E5  <<(T,blue) part def>> [[psysml:9833d686-e720-46bf-b438-35dbd29b7a16 ]] {\r\n",
       "rec usage \"y\" as E6  [[psysml:f96f9e94-0e28-4abd-b8cb-5d3679a708db ]] {\r\n",
       "}\r\n",
       "rec usage \"p1\" as E7  [[psysml:2279d5a4-5f0e-43ce-88bf-f6ddb21c3f25 ]] {\r\n",
       "rec usage \"^x\" as E8  [[psysml:c51e79ce-7cf1-4bdb-aba6-5cab2657d431 ]] {\r\n",
       "rec usage \"x1\" as E9  [[psysml:31f41755-661a-4a53-a2bb-f2dfc01c0edf ]] {\r\n",
       "}\r\n",
       "}\r\n",
       "}\r\n",
       "}\r\n",
       "}\r\n",
       "E2 -[thickness=3]- \"*\"E6 [[psysml:901b44a6-3b8d-4bea-9e51-ad40652cd7ff ]] \r\n",
       "E8 -[thickness=3]- \"*\"E6 [[psysml:b9509daa-923d-4932-b597-51fbb4fcb62c ]] \r\n",
       "E9 -[thickness=3]- \"*\"E6 [[psysml:c683e43b-7fd5-4334-8447-643be8454737 ]] \r\n",
       "@enduml\r\n",
       "\n",
       "PlantUML version 1.2020.13(Sat Jun 13 12:26:38 UTC 2020)\n",
       "(EPL source distribution)\n",
       "Java Runtime: OpenJDK Runtime Environment\n",
       "JVM: OpenJDK 64-Bit Server VM\n",
       "Default Encoding: UTF-8\n",
       "Language: en\n",
       "Country: null\n",
       "--></g></svg>"
      ]
     },
     "execution_count": 54,
     "metadata": {},
     "output_type": "execute_result"
    }
   ],
   "source": [
    "%viz --style=\"ORTHOLINE\" --view=\"Interconnection\" \"ConnectionTest\""
   ]
  },
  {
   "cell_type": "code",
   "execution_count": 55,
   "id": "bfc320c3",
   "metadata": {
    "execution": {
     "iopub.execute_input": "2021-09-27T07:17:35.368841Z",
     "iopub.status.busy": "2021-09-27T07:17:35.368442Z",
     "iopub.status.idle": "2021-09-27T07:17:35.373260Z",
     "shell.execute_reply": "2021-09-27T07:17:35.373544Z"
    }
   },
   "outputs": [
    {
     "data": {
      "image/svg+xml": [
       "<?xml version=\"1.0\" encoding=\"UTF-8\" standalone=\"no\"?><svg xmlns=\"http://www.w3.org/2000/svg\" xmlns:xlink=\"http://www.w3.org/1999/xlink\" contentScriptType=\"application/ecmascript\" contentStyleType=\"text/css\" height=\"12px\" preserveAspectRatio=\"none\" style=\"width:12px;height:12px;\" version=\"1.1\" viewBox=\"0 0 12 12\" width=\"12px\" zoomAndPan=\"magnify\"><defs/><g><!--MD5=[72934c63077099a26744516a776b4749]\n",
       "@startuml\r\n",
       "skinparam ranksep 8\r\n",
       "skinparam linetype ortho\r\n",
       "skinparam monochrome true\r\n",
       "skinparam classbackgroundcolor white\r\n",
       "skinparam shadowing false\r\n",
       "skinparam wrapWidth 300\r\n",
       "hide circle\r\n",
       "\r\n",
       "@enduml\r\n",
       "\n",
       "PlantUML version 1.2020.13(Sat Jun 13 12:26:38 UTC 2020)\n",
       "(EPL source distribution)\n",
       "Java Runtime: OpenJDK Runtime Environment\n",
       "JVM: OpenJDK 64-Bit Server VM\n",
       "Default Encoding: UTF-8\n",
       "Language: en\n",
       "Country: null\n",
       "--></g></svg>"
      ]
     },
     "execution_count": 55,
     "metadata": {},
     "output_type": "execute_result"
    }
   ],
   "source": [
    "%viz --style=\"ORTHOLINE\" --view=\"Action\" \"ConnectionTest\""
   ]
  },
  {
   "cell_type": "code",
   "execution_count": 56,
   "id": "8e8fb620",
   "metadata": {
    "execution": {
     "iopub.execute_input": "2021-09-27T07:17:35.423556Z",
     "iopub.status.busy": "2021-09-27T07:17:35.423160Z",
     "iopub.status.idle": "2021-09-27T07:17:35.427489Z",
     "shell.execute_reply": "2021-09-27T07:17:35.427799Z"
    }
   },
   "outputs": [
    {
     "data": {
      "image/svg+xml": [
       "<?xml version=\"1.0\" encoding=\"UTF-8\" standalone=\"no\"?><svg xmlns=\"http://www.w3.org/2000/svg\" xmlns:xlink=\"http://www.w3.org/1999/xlink\" contentScriptType=\"application/ecmascript\" contentStyleType=\"text/css\" height=\"12px\" preserveAspectRatio=\"none\" style=\"width:12px;height:12px;\" version=\"1.1\" viewBox=\"0 0 12 12\" width=\"12px\" zoomAndPan=\"magnify\"><defs/><g><!--MD5=[30fc1de5121c5abddedd55b44417fde8]\n",
       "@startuml\r\n",
       "skinparam roundcorner 20\r\n",
       "skinparam BoxPadding 20\r\n",
       "skinparam SequenceBoxBackgroundColor #white\r\n",
       "skinparam style strictuml\r\n",
       "skinparam maxMessageSize 100\r\n",
       "skinparam linetype ortho\r\n",
       "skinparam monochrome true\r\n",
       "skinparam classbackgroundcolor white\r\n",
       "skinparam shadowing false\r\n",
       "skinparam wrapWidth 300\r\n",
       "hide circle\r\n",
       "\r\n",
       "@enduml\r\n",
       "\n",
       "PlantUML version 1.2020.13(Sat Jun 13 12:26:38 UTC 2020)\n",
       "(EPL source distribution)\n",
       "Java Runtime: OpenJDK Runtime Environment\n",
       "JVM: OpenJDK 64-Bit Server VM\n",
       "Default Encoding: UTF-8\n",
       "Language: en\n",
       "Country: null\n",
       "--></g></svg>"
      ]
     },
     "execution_count": 56,
     "metadata": {},
     "output_type": "execute_result"
    }
   ],
   "source": [
    "%viz --style=\"ORTHOLINE\" --view=\"Sequence\" \"ConnectionTest\""
   ]
  },
  {
   "cell_type": "code",
   "execution_count": 57,
   "id": "b870e3b8",
   "metadata": {
    "execution": {
     "iopub.execute_input": "2021-09-27T07:17:35.477951Z",
     "iopub.status.busy": "2021-09-27T07:17:35.477540Z",
     "iopub.status.idle": "2021-09-27T07:17:35.509572Z",
     "shell.execute_reply": "2021-09-27T07:17:35.509222Z"
    }
   },
   "outputs": [
    {
     "data": {
      "image/svg+xml": [
       "<?xml version=\"1.0\" encoding=\"UTF-8\" standalone=\"no\"?><svg xmlns=\"http://www.w3.org/2000/svg\" xmlns:xlink=\"http://www.w3.org/1999/xlink\" contentScriptType=\"application/ecmascript\" contentStyleType=\"text/css\" height=\"539px\" preserveAspectRatio=\"none\" style=\"width:189px;height:539px;\" version=\"1.1\" viewBox=\"0 0 189 539\" width=\"189px\" zoomAndPan=\"magnify\"><defs/><g><!--MD5=[fbc87193dbaf4d95561dea2c320d4a47]\n",
       "cluster E1--><a href=\"psysml:58064a58-d13b-4f80-a6f6-0eceb966f2f7\" target=\"_top\" title=\"psysml:58064a58-d13b-4f80-a6f6-0eceb966f2f7\" xlink:actuate=\"onRequest\" xlink:href=\"psysml:58064a58-d13b-4f80-a6f6-0eceb966f2f7\" xlink:show=\"new\" xlink:title=\"psysml:58064a58-d13b-4f80-a6f6-0eceb966f2f7\" xlink:type=\"simple\"><polygon fill=\"#FFFFFF\" points=\"16,6,133,6,140,28.2969,167,28.2969,167,527,16,527,16,6\" style=\"stroke: #000000; stroke-width: 1.5;\"/><line style=\"stroke: #000000; stroke-width: 1.5;\" x1=\"16\" x2=\"140\" y1=\"28.2969\" y2=\"28.2969\"/><text fill=\"#000000\" font-family=\"sans-serif\" font-size=\"14\" font-weight=\"bold\" lengthAdjust=\"spacingAndGlyphs\" textLength=\"111\" x=\"20\" y=\"20.9951\">ConnectionTest</text></a><!--MD5=[b4997ac47864f28c2f74865a473b2911]\n",
       "class E2--><a href=\"psysml:98bc980e-08bf-4c08-bf0e-335abb3c4ffd\" target=\"_top\" title=\"psysml:98bc980e-08bf-4c08-bf0e-335abb3c4ffd\" xlink:actuate=\"onRequest\" xlink:href=\"psysml:98bc980e-08bf-4c08-bf0e-335abb3c4ffd\" xlink:show=\"new\" xlink:title=\"psysml:98bc980e-08bf-4c08-bf0e-335abb3c4ffd\" xlink:type=\"simple\"><rect fill=\"#FFFFFF\" height=\"45.9375\" id=\"E2\" rx=\"10\" ry=\"10\" style=\"stroke: #383838; stroke-width: 1.5;\" width=\"42\" x=\"89\" y=\"253\"/><text fill=\"#000000\" font-family=\"sans-serif\" font-size=\"12\" font-style=\"italic\" lengthAdjust=\"spacingAndGlyphs\" textLength=\"40\" x=\"90\" y=\"269.1387\">«part»</text><text fill=\"#000000\" font-family=\"sans-serif\" font-size=\"12\" lengthAdjust=\"spacingAndGlyphs\" textLength=\"8\" x=\"106\" y=\"283.1074\">p</text><line style=\"stroke: #383838; stroke-width: 1.5;\" x1=\"90\" x2=\"130\" y1=\"290.9375\" y2=\"290.9375\"/></a><!--MD5=[09b614a08d8cba4a07c9adeb5e0fee81]\n",
       "class E3--><a href=\"psysml:c51e79ce-7cf1-4bdb-aba6-5cab2657d431\" target=\"_top\" title=\"psysml:c51e79ce-7cf1-4bdb-aba6-5cab2657d431\" xlink:actuate=\"onRequest\" xlink:href=\"psysml:c51e79ce-7cf1-4bdb-aba6-5cab2657d431\" xlink:show=\"new\" xlink:title=\"psysml:c51e79ce-7cf1-4bdb-aba6-5cab2657d431\" xlink:type=\"simple\"><rect fill=\"#FFFFFF\" height=\"45.9375\" id=\"E3\" rx=\"10\" ry=\"10\" style=\"stroke: #383838; stroke-width: 1.5;\" width=\"42\" x=\"109\" y=\"359\"/><text fill=\"#000000\" font-family=\"sans-serif\" font-size=\"12\" font-style=\"italic\" lengthAdjust=\"spacingAndGlyphs\" textLength=\"40\" x=\"110\" y=\"375.1387\">«part»</text><text fill=\"#000000\" font-family=\"sans-serif\" font-size=\"12\" lengthAdjust=\"spacingAndGlyphs\" textLength=\"6\" x=\"127\" y=\"389.1074\">x</text><line style=\"stroke: #383838; stroke-width: 1.5;\" x1=\"110\" x2=\"150\" y1=\"396.9375\" y2=\"396.9375\"/></a><!--MD5=[ebbe1d658d1005bcc118a6aa81145e00]\n",
       "class E4--><a href=\"psysml:31f41755-661a-4a53-a2bb-f2dfc01c0edf\" target=\"_top\" title=\"psysml:31f41755-661a-4a53-a2bb-f2dfc01c0edf\" xlink:actuate=\"onRequest\" xlink:href=\"psysml:31f41755-661a-4a53-a2bb-f2dfc01c0edf\" xlink:show=\"new\" xlink:title=\"psysml:31f41755-661a-4a53-a2bb-f2dfc01c0edf\" xlink:type=\"simple\"><rect fill=\"#FFFFFF\" height=\"45.9375\" id=\"E4\" rx=\"10\" ry=\"10\" style=\"stroke: #383838; stroke-width: 1.5;\" width=\"42\" x=\"109\" y=\"465\"/><text fill=\"#000000\" font-family=\"sans-serif\" font-size=\"12\" font-style=\"italic\" lengthAdjust=\"spacingAndGlyphs\" textLength=\"40\" x=\"110\" y=\"481.1387\">«part»</text><text fill=\"#000000\" font-family=\"sans-serif\" font-size=\"12\" lengthAdjust=\"spacingAndGlyphs\" textLength=\"14\" x=\"123\" y=\"495.1074\">x1</text><line style=\"stroke: #383838; stroke-width: 1.5;\" x1=\"110\" x2=\"150\" y1=\"502.9375\" y2=\"502.9375\"/></a><!--MD5=[270fce915f116d4de14055a7c1d9a0f3]\n",
       "class E5--><a href=\"psysml:9833d686-e720-46bf-b438-35dbd29b7a16\" target=\"_top\" title=\"psysml:9833d686-e720-46bf-b438-35dbd29b7a16\" xlink:actuate=\"onRequest\" xlink:href=\"psysml:9833d686-e720-46bf-b438-35dbd29b7a16\" xlink:show=\"new\" xlink:title=\"psysml:9833d686-e720-46bf-b438-35dbd29b7a16\" xlink:type=\"simple\"><rect fill=\"#FFFFFF\" height=\"45.9375\" id=\"E5\" style=\"stroke: #383838; stroke-width: 1.5;\" width=\"66\" x=\"54\" y=\"41\"/><text fill=\"#000000\" font-family=\"sans-serif\" font-size=\"12\" font-style=\"italic\" lengthAdjust=\"spacingAndGlyphs\" textLength=\"64\" x=\"55\" y=\"57.1387\">«part def»</text><text fill=\"#000000\" font-family=\"sans-serif\" font-size=\"12\" lengthAdjust=\"spacingAndGlyphs\" textLength=\"8\" x=\"83\" y=\"71.1074\">P</text><line style=\"stroke: #383838; stroke-width: 1.5;\" x1=\"55\" x2=\"119\" y1=\"78.9375\" y2=\"78.9375\"/></a><!--MD5=[60a26617385b1d2d0262a64233df1f8d]\n",
       "class E6--><a href=\"psysml:f96f9e94-0e28-4abd-b8cb-5d3679a708db\" target=\"_top\" title=\"psysml:f96f9e94-0e28-4abd-b8cb-5d3679a708db\" xlink:actuate=\"onRequest\" xlink:href=\"psysml:f96f9e94-0e28-4abd-b8cb-5d3679a708db\" xlink:show=\"new\" xlink:title=\"psysml:f96f9e94-0e28-4abd-b8cb-5d3679a708db\" xlink:type=\"simple\"><rect fill=\"#FFFFFF\" height=\"45.9375\" id=\"E6\" rx=\"10\" ry=\"10\" style=\"stroke: #383838; stroke-width: 1.5;\" width=\"42\" x=\"32\" y=\"359\"/><text fill=\"#000000\" font-family=\"sans-serif\" font-size=\"12\" font-style=\"italic\" lengthAdjust=\"spacingAndGlyphs\" textLength=\"40\" x=\"33\" y=\"375.1387\">«part»</text><text fill=\"#000000\" font-family=\"sans-serif\" font-size=\"12\" lengthAdjust=\"spacingAndGlyphs\" textLength=\"6\" x=\"50\" y=\"389.1074\">y</text><line style=\"stroke: #383838; stroke-width: 1.5;\" x1=\"33\" x2=\"73\" y1=\"396.9375\" y2=\"396.9375\"/></a><!--MD5=[2156ba9850f5573cc1fc38a6a4b2f02b]\n",
       "class E7--><a href=\"psysml:2279d5a4-5f0e-43ce-88bf-f6ddb21c3f25\" target=\"_top\" title=\"psysml:2279d5a4-5f0e-43ce-88bf-f6ddb21c3f25\" xlink:actuate=\"onRequest\" xlink:href=\"psysml:2279d5a4-5f0e-43ce-88bf-f6ddb21c3f25\" xlink:show=\"new\" xlink:title=\"psysml:2279d5a4-5f0e-43ce-88bf-f6ddb21c3f25\" xlink:type=\"simple\"><rect fill=\"#FFFFFF\" height=\"45.9375\" id=\"E7\" rx=\"10\" ry=\"10\" style=\"stroke: #383838; stroke-width: 1.5;\" width=\"42\" x=\"89\" y=\"147\"/><text fill=\"#000000\" font-family=\"sans-serif\" font-size=\"12\" font-style=\"italic\" lengthAdjust=\"spacingAndGlyphs\" textLength=\"40\" x=\"90\" y=\"163.1387\">«part»</text><text fill=\"#000000\" font-family=\"sans-serif\" font-size=\"12\" lengthAdjust=\"spacingAndGlyphs\" textLength=\"16\" x=\"102\" y=\"177.1074\">p1</text><line style=\"stroke: #383838; stroke-width: 1.5;\" x1=\"90\" x2=\"130\" y1=\"184.9375\" y2=\"184.9375\"/></a><!--MD5=[209b3feb70ccb6233bfe1053d122c12c]\n",
       "reverse link E2 to E3--><a href=\"psysml:1ffc18c1-940f-43c3-a54c-dcf9b76281a6\" target=\"_top\" title=\"psysml:1ffc18c1-940f-43c3-a54c-dcf9b76281a6\" xlink:actuate=\"onRequest\" xlink:href=\"psysml:1ffc18c1-940f-43c3-a54c-dcf9b76281a6\" xlink:show=\"new\" xlink:title=\"psysml:1ffc18c1-940f-43c3-a54c-dcf9b76281a6\" xlink:type=\"simple\"><path d=\"M120,312 C120,312 120,358.68 120,358.68 \" fill=\"none\" id=\"E2&lt;-E3\" style=\"stroke: #383838; stroke-width: 1.0;\"/><polygon fill=\"#383838\" points=\"120,299,116,305,120,311,124,305,120,299\" style=\"stroke: #383838; stroke-width: 1.0;\"/><text fill=\"#000000\" font-family=\"sans-serif\" font-size=\"13\" lengthAdjust=\"spacingAndGlyphs\" textLength=\"8\" x=\"108.4125\" y=\"347.8743\">1</text></a><!--MD5=[4672eba38e49728da53d11aeb285b987]\n",
       "reverse link E3 to E4--><a href=\"psysml:3d75ef33-b13b-4214-af18-b5d2941be4f9\" target=\"_top\" title=\"psysml:3d75ef33-b13b-4214-af18-b5d2941be4f9\" xlink:actuate=\"onRequest\" xlink:href=\"psysml:3d75ef33-b13b-4214-af18-b5d2941be4f9\" xlink:show=\"new\" xlink:title=\"psysml:3d75ef33-b13b-4214-af18-b5d2941be4f9\" xlink:type=\"simple\"><path d=\"M130,418 C130,418 130,464.68 130,464.68 \" fill=\"none\" id=\"E3&lt;-E4\" style=\"stroke: #383838; stroke-width: 1.0;\"/><polygon fill=\"#383838\" points=\"130,405,126,411,130,417,134,411,130,405\" style=\"stroke: #383838; stroke-width: 1.0;\"/><text fill=\"#000000\" font-family=\"sans-serif\" font-size=\"13\" lengthAdjust=\"spacingAndGlyphs\" textLength=\"8\" x=\"120.975\" y=\"453.8743\">1</text></a><!--MD5=[85d356282659285ab4b2cfe2f634dd2b]\n",
       "reverse link E5 to E6--><a href=\"psysml:d68af8b5-54d9-4416-b26b-1e36c98f2c99\" target=\"_top\" title=\"psysml:d68af8b5-54d9-4416-b26b-1e36c98f2c99\" xlink:actuate=\"onRequest\" xlink:href=\"psysml:d68af8b5-54d9-4416-b26b-1e36c98f2c99\" xlink:show=\"new\" xlink:title=\"psysml:d68af8b5-54d9-4416-b26b-1e36c98f2c99\" xlink:type=\"simple\"><path d=\"M60.67,100.13 C60.67,100.13 60.67,358.96 60.67,358.96 \" fill=\"none\" id=\"E5&lt;-E6\" style=\"stroke: #383838; stroke-width: 1.0;\"/><polygon fill=\"#383838\" points=\"60.67,87.13,56.67,93.13,60.67,99.13,64.67,93.13,60.67,87.13\" style=\"stroke: #383838; stroke-width: 1.0;\"/><text fill=\"#000000\" font-family=\"sans-serif\" font-size=\"13\" lengthAdjust=\"spacingAndGlyphs\" textLength=\"8\" x=\"53.6563\" y=\"347.8455\">1</text></a><!--MD5=[e3e28c1befcf002155aa15e1416b4315]\n",
       "link E2 to E6--><a href=\"psysml:901b44a6-3b8d-4bea-9e51-ad40652cd7ff\" target=\"_top\" title=\"psysml:901b44a6-3b8d-4bea-9e51-ad40652cd7ff\" xlink:actuate=\"onRequest\" xlink:href=\"psysml:901b44a6-3b8d-4bea-9e51-ad40652cd7ff\" xlink:show=\"new\" xlink:title=\"psysml:901b44a6-3b8d-4bea-9e51-ad40652cd7ff\" xlink:type=\"simple\"><path d=\"M88.67,276 C78,276 67.33,276 67.33,276 C67.33,276 67.33,327.82 67.33,359 \" fill=\"none\" id=\"E2-E6\" style=\"stroke: #383838; stroke-width: 3.0;\"/><text fill=\"#000000\" font-family=\"sans-serif\" font-size=\"13\" lengthAdjust=\"spacingAndGlyphs\" textLength=\"7\" x=\"72.1218\" y=\"347.8963\">*</text></a><!--MD5=[452b418e7f8a40397a49b8c0a78acc5b]\n",
       "reverse link E5 to E7--><a href=\"psysml:5a5926b8-11d9-4284-b6a0-db32c9e29bb2\" target=\"_top\" title=\"psysml:5a5926b8-11d9-4284-b6a0-db32c9e29bb2\" xlink:actuate=\"onRequest\" xlink:href=\"psysml:5a5926b8-11d9-4284-b6a0-db32c9e29bb2\" xlink:show=\"new\" xlink:title=\"psysml:5a5926b8-11d9-4284-b6a0-db32c9e29bb2\" xlink:type=\"simple\"><path d=\"M104.5,100 C104.5,100 104.5,146.68 104.5,146.68 \" fill=\"none\" id=\"E5&lt;-E7\" style=\"stroke: #383838; stroke-width: 1.0;\"/><polygon fill=\"#383838\" points=\"104.5,87,100.5,93,104.5,99,108.5,93,104.5,87\" style=\"stroke: #383838; stroke-width: 1.0;\"/><text fill=\"#000000\" font-family=\"sans-serif\" font-size=\"13\" lengthAdjust=\"spacingAndGlyphs\" textLength=\"8\" x=\"94.0656\" y=\"135.8743\">1</text></a><!--MD5=[583832df87f4419a098336a29a52fa00]\n",
       "link E7 to E2--><a href=\"psysml:dd540a25-2742-496a-aaa6-3ea5cc8a4940\" target=\"_top\" title=\"psysml:dd540a25-2742-496a-aaa6-3ea5cc8a4940\" xlink:actuate=\"onRequest\" xlink:href=\"psysml:dd540a25-2742-496a-aaa6-3ea5cc8a4940\" xlink:show=\"new\" xlink:title=\"psysml:dd540a25-2742-496a-aaa6-3ea5cc8a4940\" xlink:type=\"simple\"><path d=\"M110,193 C110,193 110,232.68 110,232.68 \" fill=\"none\" id=\"E7-&gt;E2\" style=\"stroke: #383838; stroke-width: 1.0;\"/><polygon fill=\"none\" points=\"117,232.68,110,252.68,103,232.68,117,232.68\" style=\"stroke: #383838; stroke-width: 1.0;\"/></a><!--MD5=[b51f93e42b1e055ed6fe1d755c674d1a]\n",
       "@startuml\r\n",
       "skinparam linetype ortho\r\n",
       "skinparam monochrome true\r\n",
       "skinparam classbackgroundcolor white\r\n",
       "skinparam shadowing false\r\n",
       "skinparam wrapWidth 300\r\n",
       "hide circle\r\n",
       "\r\n",
       "package \"ConnectionTest\" as E1  [[psysml:58064a58-d13b-4f80-a6f6-0eceb966f2f7 ]]  {\r\n",
       "comp usage \"p\" as E2  <<(T,blue) part>> [[psysml:98bc980e-08bf-4c08-bf0e-335abb3c4ffd ]] {\r\n",
       "}\r\n",
       "comp usage \"x\" as E3  <<(T,blue) part>> [[psysml:c51e79ce-7cf1-4bdb-aba6-5cab2657d431 ]] {\r\n",
       "}\r\n",
       "comp usage \"x1\" as E4  <<(T,blue) part>> [[psysml:31f41755-661a-4a53-a2bb-f2dfc01c0edf ]] {\r\n",
       "}\r\n",
       "comp def \"P\" as E5  <<(T,blue) part def>> [[psysml:9833d686-e720-46bf-b438-35dbd29b7a16 ]] {\r\n",
       "}\r\n",
       "comp usage \"y\" as E6  <<(T,blue) part>> [[psysml:f96f9e94-0e28-4abd-b8cb-5d3679a708db ]] {\r\n",
       "}\r\n",
       "comp usage \"p1\" as E7  <<(T,blue) part>> [[psysml:2279d5a4-5f0e-43ce-88bf-f6ddb21c3f25 ]] {\r\n",
       "}\r\n",
       "}\r\n",
       "E2 *- - \"1\"E3 [[psysml:1ffc18c1-940f-43c3-a54c-dcf9b76281a6 ]] \r\n",
       "E3 *- - \"1\"E4 [[psysml:3d75ef33-b13b-4214-af18-b5d2941be4f9 ]] \r\n",
       "E5 *- - \"1\"E6 [[psysml:d68af8b5-54d9-4416-b26b-1e36c98f2c99 ]] \r\n",
       "E2 -[thickness=3]- \"*\"E6 [[psysml:901b44a6-3b8d-4bea-9e51-ad40652cd7ff ]] \r\n",
       "E5 *- - \"1\"E7 [[psysml:5a5926b8-11d9-4284-b6a0-db32c9e29bb2 ]] \r\n",
       "E7 - -|> E2 [[psysml:dd540a25-2742-496a-aaa6-3ea5cc8a4940 ]] \r\n",
       "@enduml\r\n",
       "\n",
       "PlantUML version 1.2020.13(Sat Jun 13 12:26:38 UTC 2020)\n",
       "(EPL source distribution)\n",
       "Java Runtime: OpenJDK Runtime Environment\n",
       "JVM: OpenJDK 64-Bit Server VM\n",
       "Default Encoding: UTF-8\n",
       "Language: en\n",
       "Country: null\n",
       "--></g></svg>"
      ]
     },
     "execution_count": 57,
     "metadata": {},
     "output_type": "execute_result"
    }
   ],
   "source": [
    "%viz --style=\"ORTHOLINE\" --view=\"MIXED\" \"ConnectionTest\""
   ]
  }
 ],
 "metadata": {
  "kernelspec": {
   "display_name": "SysML",
   "language": "sysml",
   "name": "sysml"
  },
  "language_info": {
   "codemirror_mode": "sysml",
   "file_extension": ".sysml",
   "mimetype": "text/x-sysml",
   "name": "SysML",
   "pygments_lexer": "java",
   "version": "1.0.0"
  }
 },
 "nbformat": 4,
 "nbformat_minor": 5
}
