{
 "cells": [
  {
   "cell_type": "markdown",
   "id": "d22e2910",
   "metadata": {},
   "source": [
    "# SysML v2 Test Suite\n",
    "\n",
    "This can notebook can be cleared using menu `Edit --> Clear All Outputs` and then all cells can be\n",
    "run using menu `Run --> Run All Cells`.\n",
    "\n",
    "**WARNING**: This file is generated, all modifications here will be ignored.\n"
   ]
  },
  {
   "cell_type": "markdown",
   "id": "112b44e7",
   "metadata": {},
   "source": [
    "## File: ../../sysml/src/examples/Simple Tests/ConnectionTest.sysml"
   ]
  },
  {
   "cell_type": "code",
   "execution_count": 1,
   "id": "6064f892",
   "metadata": {
    "execution": {
     "iopub.execute_input": "2021-08-04T06:28:50.658772Z",
     "iopub.status.busy": "2021-08-04T06:28:50.657696Z",
     "iopub.status.idle": "2021-08-04T06:28:50.950418Z",
     "shell.execute_reply": "2021-08-04T06:28:50.950765Z"
    }
   },
   "outputs": [
    {
     "data": {
      "text/plain": [
       "Package ConnectionTest (025d58dc-d096-4c7b-bd50-a6c8adeb16af)\n"
      ]
     },
     "execution_count": 1,
     "metadata": {},
     "output_type": "execute_result"
    }
   ],
   "source": [
    "package ConnectionTest {\n",
    "\t\n",
    "\tpart p {\n",
    "\t\tpart x {\n",
    "\t\t\tpart x1;\n",
    "\t\t}\n",
    "\t}\n",
    "\t\n",
    "\tpart def P {\n",
    "\t\tpart y;\n",
    "\n",
    "\t\tconnect p to y;\n",
    "\t\t\n",
    "\t\tpart p1 :> p;\n",
    "\t\n",
    "\t\tconnect p1.x to y;\n",
    "\t\tconnect p1.x.x1 to y;\n",
    "\t}\n",
    "}"
   ]
  },
  {
   "cell_type": "code",
   "execution_count": 2,
   "id": "232be7b3",
   "metadata": {
    "execution": {
     "iopub.execute_input": "2021-08-04T06:28:51.001520Z",
     "iopub.status.busy": "2021-08-04T06:28:51.001090Z",
     "iopub.status.idle": "2021-08-04T06:28:51.383959Z",
     "shell.execute_reply": "2021-08-04T06:28:51.382456Z"
    }
   },
   "outputs": [
    {
     "data": {
      "image/svg+xml": [
       "<?xml version=\"1.0\" encoding=\"UTF-8\" standalone=\"no\"?><svg xmlns=\"http://www.w3.org/2000/svg\" xmlns:xlink=\"http://www.w3.org/1999/xlink\" contentScriptType=\"application/ecmascript\" contentStyleType=\"text/css\" height=\"539px\" preserveAspectRatio=\"none\" style=\"width:189px;height:539px;\" version=\"1.1\" viewBox=\"0 0 189 539\" width=\"189px\" zoomAndPan=\"magnify\"><defs/><g><!--MD5=[fbc87193dbaf4d95561dea2c320d4a47]\n",
       "cluster E1--><a href=\"psysml:316d1b7b-e6b7-4d49-a637-31383ba5712a\" target=\"_top\" title=\"psysml:316d1b7b-e6b7-4d49-a637-31383ba5712a\" xlink:actuate=\"onRequest\" xlink:href=\"psysml:316d1b7b-e6b7-4d49-a637-31383ba5712a\" xlink:show=\"new\" xlink:title=\"psysml:316d1b7b-e6b7-4d49-a637-31383ba5712a\" xlink:type=\"simple\"><polygon fill=\"#FFFFFF\" points=\"16,6,147,6,154,28.2969,167,28.2969,167,527,16,527,16,6\" style=\"stroke: #000000; stroke-width: 1.5;\"/><line style=\"stroke: #000000; stroke-width: 1.5;\" x1=\"16\" x2=\"154\" y1=\"28.2969\" y2=\"28.2969\"/><text fill=\"#000000\" font-family=\"sans-serif\" font-size=\"14\" font-weight=\"bold\" lengthAdjust=\"spacingAndGlyphs\" textLength=\"125\" x=\"20\" y=\"20.9951\">ConnectionTest</text></a><!--MD5=[b4997ac47864f28c2f74865a473b2911]\n",
       "class E2--><a href=\"psysml:c01c1eb8-4402-477c-affb-a3d93aa1c07f\" target=\"_top\" title=\"psysml:c01c1eb8-4402-477c-affb-a3d93aa1c07f\" xlink:actuate=\"onRequest\" xlink:href=\"psysml:c01c1eb8-4402-477c-affb-a3d93aa1c07f\" xlink:show=\"new\" xlink:title=\"psysml:c01c1eb8-4402-477c-affb-a3d93aa1c07f\" xlink:type=\"simple\"><rect fill=\"#FFFFFF\" height=\"45.9375\" id=\"E2\" rx=\"10\" ry=\"10\" style=\"stroke: #383838; stroke-width: 1.5;\" width=\"42\" x=\"89\" y=\"253\"/><text fill=\"#000000\" font-family=\"sans-serif\" font-size=\"12\" font-style=\"italic\" lengthAdjust=\"spacingAndGlyphs\" textLength=\"40\" x=\"90\" y=\"269.1387\">«part»</text><text fill=\"#000000\" font-family=\"sans-serif\" font-size=\"12\" lengthAdjust=\"spacingAndGlyphs\" textLength=\"8\" x=\"106\" y=\"283.1074\">p</text><line style=\"stroke: #383838; stroke-width: 1.5;\" x1=\"90\" x2=\"130\" y1=\"290.9375\" y2=\"290.9375\"/></a><!--MD5=[09b614a08d8cba4a07c9adeb5e0fee81]\n",
       "class E3--><a href=\"psysml:83a66275-79f9-4d22-aa8c-e03faa30289f\" target=\"_top\" title=\"psysml:83a66275-79f9-4d22-aa8c-e03faa30289f\" xlink:actuate=\"onRequest\" xlink:href=\"psysml:83a66275-79f9-4d22-aa8c-e03faa30289f\" xlink:show=\"new\" xlink:title=\"psysml:83a66275-79f9-4d22-aa8c-e03faa30289f\" xlink:type=\"simple\"><rect fill=\"#FFFFFF\" height=\"45.9375\" id=\"E3\" rx=\"10\" ry=\"10\" style=\"stroke: #383838; stroke-width: 1.5;\" width=\"42\" x=\"109\" y=\"359\"/><text fill=\"#000000\" font-family=\"sans-serif\" font-size=\"12\" font-style=\"italic\" lengthAdjust=\"spacingAndGlyphs\" textLength=\"40\" x=\"110\" y=\"375.1387\">«part»</text><text fill=\"#000000\" font-family=\"sans-serif\" font-size=\"12\" lengthAdjust=\"spacingAndGlyphs\" textLength=\"6\" x=\"127\" y=\"389.1074\">x</text><line style=\"stroke: #383838; stroke-width: 1.5;\" x1=\"110\" x2=\"150\" y1=\"396.9375\" y2=\"396.9375\"/></a><!--MD5=[ebbe1d658d1005bcc118a6aa81145e00]\n",
       "class E4--><a href=\"psysml:aa5ac9d5-4dfe-418e-90b4-d1e9d9002b4c\" target=\"_top\" title=\"psysml:aa5ac9d5-4dfe-418e-90b4-d1e9d9002b4c\" xlink:actuate=\"onRequest\" xlink:href=\"psysml:aa5ac9d5-4dfe-418e-90b4-d1e9d9002b4c\" xlink:show=\"new\" xlink:title=\"psysml:aa5ac9d5-4dfe-418e-90b4-d1e9d9002b4c\" xlink:type=\"simple\"><rect fill=\"#FFFFFF\" height=\"45.9375\" id=\"E4\" rx=\"10\" ry=\"10\" style=\"stroke: #383838; stroke-width: 1.5;\" width=\"42\" x=\"109\" y=\"465\"/><text fill=\"#000000\" font-family=\"sans-serif\" font-size=\"12\" font-style=\"italic\" lengthAdjust=\"spacingAndGlyphs\" textLength=\"40\" x=\"110\" y=\"481.1387\">«part»</text><text fill=\"#000000\" font-family=\"sans-serif\" font-size=\"12\" lengthAdjust=\"spacingAndGlyphs\" textLength=\"14\" x=\"123\" y=\"495.1074\">x1</text><line style=\"stroke: #383838; stroke-width: 1.5;\" x1=\"110\" x2=\"150\" y1=\"502.9375\" y2=\"502.9375\"/></a><!--MD5=[270fce915f116d4de14055a7c1d9a0f3]\n",
       "class E5--><a href=\"psysml:fe1eabcd-2f5c-4c92-bec8-31bd54db8461\" target=\"_top\" title=\"psysml:fe1eabcd-2f5c-4c92-bec8-31bd54db8461\" xlink:actuate=\"onRequest\" xlink:href=\"psysml:fe1eabcd-2f5c-4c92-bec8-31bd54db8461\" xlink:show=\"new\" xlink:title=\"psysml:fe1eabcd-2f5c-4c92-bec8-31bd54db8461\" xlink:type=\"simple\"><rect fill=\"#FFFFFF\" height=\"45.9375\" id=\"E5\" style=\"stroke: #383838; stroke-width: 1.5;\" width=\"66\" x=\"54\" y=\"41\"/><text fill=\"#000000\" font-family=\"sans-serif\" font-size=\"12\" font-style=\"italic\" lengthAdjust=\"spacingAndGlyphs\" textLength=\"64\" x=\"55\" y=\"57.1387\">«part def»</text><text fill=\"#000000\" font-family=\"sans-serif\" font-size=\"12\" lengthAdjust=\"spacingAndGlyphs\" textLength=\"8\" x=\"83\" y=\"71.1074\">P</text><line style=\"stroke: #383838; stroke-width: 1.5;\" x1=\"55\" x2=\"119\" y1=\"78.9375\" y2=\"78.9375\"/></a><!--MD5=[60a26617385b1d2d0262a64233df1f8d]\n",
       "class E6--><a href=\"psysml:06be23d5-21a7-42eb-83e3-f8e6bdc4a055\" target=\"_top\" title=\"psysml:06be23d5-21a7-42eb-83e3-f8e6bdc4a055\" xlink:actuate=\"onRequest\" xlink:href=\"psysml:06be23d5-21a7-42eb-83e3-f8e6bdc4a055\" xlink:show=\"new\" xlink:title=\"psysml:06be23d5-21a7-42eb-83e3-f8e6bdc4a055\" xlink:type=\"simple\"><rect fill=\"#FFFFFF\" height=\"45.9375\" id=\"E6\" rx=\"10\" ry=\"10\" style=\"stroke: #383838; stroke-width: 1.5;\" width=\"42\" x=\"32\" y=\"359\"/><text fill=\"#000000\" font-family=\"sans-serif\" font-size=\"12\" font-style=\"italic\" lengthAdjust=\"spacingAndGlyphs\" textLength=\"40\" x=\"33\" y=\"375.1387\">«part»</text><text fill=\"#000000\" font-family=\"sans-serif\" font-size=\"12\" lengthAdjust=\"spacingAndGlyphs\" textLength=\"6\" x=\"50\" y=\"389.1074\">y</text><line style=\"stroke: #383838; stroke-width: 1.5;\" x1=\"33\" x2=\"73\" y1=\"396.9375\" y2=\"396.9375\"/></a><!--MD5=[2156ba9850f5573cc1fc38a6a4b2f02b]\n",
       "class E7--><a href=\"psysml:32e0c838-e55d-456a-ac80-3fd98b88adbf\" target=\"_top\" title=\"psysml:32e0c838-e55d-456a-ac80-3fd98b88adbf\" xlink:actuate=\"onRequest\" xlink:href=\"psysml:32e0c838-e55d-456a-ac80-3fd98b88adbf\" xlink:show=\"new\" xlink:title=\"psysml:32e0c838-e55d-456a-ac80-3fd98b88adbf\" xlink:type=\"simple\"><rect fill=\"#FFFFFF\" height=\"45.9375\" id=\"E7\" rx=\"10\" ry=\"10\" style=\"stroke: #383838; stroke-width: 1.5;\" width=\"42\" x=\"89\" y=\"147\"/><text fill=\"#000000\" font-family=\"sans-serif\" font-size=\"12\" font-style=\"italic\" lengthAdjust=\"spacingAndGlyphs\" textLength=\"40\" x=\"90\" y=\"163.1387\">«part»</text><text fill=\"#000000\" font-family=\"sans-serif\" font-size=\"12\" lengthAdjust=\"spacingAndGlyphs\" textLength=\"16\" x=\"102\" y=\"177.1074\">p1</text><line style=\"stroke: #383838; stroke-width: 1.5;\" x1=\"90\" x2=\"130\" y1=\"184.9375\" y2=\"184.9375\"/></a><!--MD5=[209b3feb70ccb6233bfe1053d122c12c]\n",
       "reverse link E2 to E3--><a href=\"psysml:96d6ab40-4f8f-4d11-a48f-d95a37d5e194\" target=\"_top\" title=\"psysml:96d6ab40-4f8f-4d11-a48f-d95a37d5e194\" xlink:actuate=\"onRequest\" xlink:href=\"psysml:96d6ab40-4f8f-4d11-a48f-d95a37d5e194\" xlink:show=\"new\" xlink:title=\"psysml:96d6ab40-4f8f-4d11-a48f-d95a37d5e194\" xlink:type=\"simple\"><path d=\"M116.72,311.96 C119.71,327.51 123.14,345.33 125.76,358.98 \" fill=\"none\" id=\"E2&lt;-E3\" style=\"stroke: #383838; stroke-width: 1.0;\"/><polygon fill=\"#383838\" points=\"114.24,299.06,111.447,305.7082,116.5096,310.8434,119.3026,304.1952,114.24,299.06\" style=\"stroke: #383838; stroke-width: 1.0;\"/><text fill=\"#000000\" font-family=\"sans-serif\" font-size=\"13\" lengthAdjust=\"spacingAndGlyphs\" textLength=\"8\" x=\"115.5455\" y=\"347.8709\">1</text></a><!--MD5=[4672eba38e49728da53d11aeb285b987]\n",
       "reverse link E3 to E4--><a href=\"psysml:15b45894-f404-4f26-aaef-cf96b8c0ca99\" target=\"_top\" title=\"psysml:15b45894-f404-4f26-aaef-cf96b8c0ca99\" xlink:actuate=\"onRequest\" xlink:href=\"psysml:15b45894-f404-4f26-aaef-cf96b8c0ca99\" xlink:show=\"new\" xlink:title=\"psysml:15b45894-f404-4f26-aaef-cf96b8c0ca99\" xlink:type=\"simple\"><path d=\"M130,418.44 C130,433.87 130,451.47 130,464.98 \" fill=\"none\" id=\"E3&lt;-E4\" style=\"stroke: #383838; stroke-width: 1.0;\"/><polygon fill=\"#383838\" points=\"130,405.06,126,411.06,130,417.06,134,411.06,130,405.06\" style=\"stroke: #383838; stroke-width: 1.0;\"/><text fill=\"#000000\" font-family=\"sans-serif\" font-size=\"13\" lengthAdjust=\"spacingAndGlyphs\" textLength=\"8\" x=\"120.925\" y=\"453.8709\">1</text></a><!--MD5=[85d356282659285ab4b2cfe2f634dd2b]\n",
       "reverse link E5 to E6--><a href=\"psysml:e9a2dbd2-75b9-45f4-aecc-a2c2183931e9\" target=\"_top\" title=\"psysml:e9a2dbd2-75b9-45f4-aecc-a2c2183931e9\" xlink:actuate=\"onRequest\" xlink:href=\"psysml:e9a2dbd2-75b9-45f4-aecc-a2c2183931e9\" xlink:show=\"new\" xlink:title=\"psysml:e9a2dbd2-75b9-45f4-aecc-a2c2183931e9\" xlink:type=\"simple\"><path d=\"M79.77,100.15 C77.01,114.61 74.03,131.56 72,147 C61.78,224.59 56.2,317.42 54.05,358.98 \" fill=\"none\" id=\"E5&lt;-E6\" style=\"stroke: #383838; stroke-width: 1.0;\"/><polygon fill=\"#383838\" points=\"82.32,87.18,77.2408,92.2988,80.0123,98.956,85.0915,93.8372,82.32,87.18\" style=\"stroke: #383838; stroke-width: 1.0;\"/><text fill=\"#000000\" font-family=\"sans-serif\" font-size=\"13\" lengthAdjust=\"spacingAndGlyphs\" textLength=\"8\" x=\"45.2572\" y=\"347.8709\">1</text></a><!--MD5=[e3e28c1befcf002155aa15e1416b4315]\n",
       "link E2 to E6--><a href=\"psysml:2b37c4a5-3576-4b38-9831-53a66373adf4\" target=\"_top\" title=\"psysml:2b37c4a5-3576-4b38-9831-53a66373adf4\" xlink:actuate=\"onRequest\" xlink:href=\"psysml:2b37c4a5-3576-4b38-9831-53a66373adf4\" xlink:show=\"new\" xlink:title=\"psysml:2b37c4a5-3576-4b38-9831-53a66373adf4\" xlink:type=\"simple\"><path d=\"M97.91,299.06 C88.24,316.7 74.74,341.34 65.07,358.98 \" fill=\"none\" id=\"E2-E6\" style=\"stroke: #383838; stroke-width: 3.0;\"/><text fill=\"#000000\" font-family=\"sans-serif\" font-size=\"13\" lengthAdjust=\"spacingAndGlyphs\" textLength=\"7\" x=\"60.3732\" y=\"347.8709\">*</text></a><!--MD5=[452b418e7f8a40397a49b8c0a78acc5b]\n",
       "reverse link E5 to E7--><a href=\"psysml:0433d7bc-4d61-42a3-98d7-5077bd02d97e\" target=\"_top\" title=\"psysml:0433d7bc-4d61-42a3-98d7-5077bd02d97e\" xlink:actuate=\"onRequest\" xlink:href=\"psysml:0433d7bc-4d61-42a3-98d7-5077bd02d97e\" xlink:show=\"new\" xlink:title=\"psysml:0433d7bc-4d61-42a3-98d7-5077bd02d97e\" xlink:type=\"simple\"><path d=\"M94.73,99.96 C98.17,115.51 102.11,133.33 105.13,146.98 \" fill=\"none\" id=\"E5&lt;-E7\" style=\"stroke: #383838; stroke-width: 1.0;\"/><polygon fill=\"#383838\" points=\"91.88,87.06,89.2656,93.7805,94.4636,98.7786,97.078,92.0581,91.88,87.06\" style=\"stroke: #383838; stroke-width: 1.0;\"/><text fill=\"#000000\" font-family=\"sans-serif\" font-size=\"13\" lengthAdjust=\"spacingAndGlyphs\" textLength=\"8\" x=\"94.7462\" y=\"135.8709\">1</text></a><!--MD5=[583832df87f4419a098336a29a52fa00]\n",
       "link E7 to E2--><a href=\"psysml:d6550333-67eb-4da5-a08d-e8c2ba9c3c42\" target=\"_top\" title=\"psysml:d6550333-67eb-4da5-a08d-e8c2ba9c3c42\" xlink:actuate=\"onRequest\" xlink:href=\"psysml:d6550333-67eb-4da5-a08d-e8c2ba9c3c42\" xlink:show=\"new\" xlink:title=\"psysml:d6550333-67eb-4da5-a08d-e8c2ba9c3c42\" xlink:type=\"simple\"><path d=\"M110,193.06 C110,204.64 110,219.23 110,232.87 \" fill=\"none\" id=\"E7-&gt;E2\" style=\"stroke: #383838; stroke-width: 1.0;\"/><polygon fill=\"none\" points=\"117,232.98,110,252.98,103,232.98,117,232.98\" style=\"stroke: #383838; stroke-width: 1.0;\"/></a><!--MD5=[c31f5257f711d9e9a358dd74b9e562fe]\n",
       "@startuml\r\n",
       " skinparam monochrome true\r\n",
       "skinparam classbackgroundcolor white\r\n",
       "skinparam shadowing false\r\n",
       "skinparam wrapWidth 300\r\n",
       "hide circle\r\n",
       "\r\n",
       "package \"ConnectionTest\" as E1  [[psysml:316d1b7b-e6b7-4d49-a637-31383ba5712a ]]  {\r\n",
       "comp usage \"p\" as E2  <<(T,blue) part>> [[psysml:c01c1eb8-4402-477c-affb-a3d93aa1c07f ]] {\r\n",
       "}\r\n",
       "comp usage \"x\" as E3  <<(T,blue) part>> [[psysml:83a66275-79f9-4d22-aa8c-e03faa30289f ]] {\r\n",
       "}\r\n",
       "comp usage \"x1\" as E4  <<(T,blue) part>> [[psysml:aa5ac9d5-4dfe-418e-90b4-d1e9d9002b4c ]] {\r\n",
       "}\r\n",
       "comp def \"P\" as E5  <<(T,blue) part def>> [[psysml:fe1eabcd-2f5c-4c92-bec8-31bd54db8461 ]] {\r\n",
       "}\r\n",
       "comp usage \"y\" as E6  <<(T,blue) part>> [[psysml:06be23d5-21a7-42eb-83e3-f8e6bdc4a055 ]] {\r\n",
       "}\r\n",
       "comp usage \"p1\" as E7  <<(T,blue) part>> [[psysml:32e0c838-e55d-456a-ac80-3fd98b88adbf ]] {\r\n",
       "}\r\n",
       "E2 *- - \"1\"E3 [[psysml:96d6ab40-4f8f-4d11-a48f-d95a37d5e194 ]] \r\n",
       "E3 *- - \"1\"E4 [[psysml:15b45894-f404-4f26-aaef-cf96b8c0ca99 ]] \r\n",
       "E5 *- - \"1\"E6 [[psysml:e9a2dbd2-75b9-45f4-aecc-a2c2183931e9 ]] \r\n",
       "E2 -[thickness=3]- \"*\"E6 [[psysml:2b37c4a5-3576-4b38-9831-53a66373adf4 ]] \r\n",
       "E5 *- - \"1\"E7 [[psysml:0433d7bc-4d61-42a3-98d7-5077bd02d97e ]] \r\n",
       "E7 - -|> E2 [[psysml:d6550333-67eb-4da5-a08d-e8c2ba9c3c42 ]] \r\n",
       "}\r\n",
       "@enduml\r\n",
       "\n",
       "PlantUML version 1.2020.13(Sat Jun 13 12:26:38 UTC 2020)\n",
       "(EPL source distribution)\n",
       "Java Runtime: OpenJDK Runtime Environment\n",
       "JVM: OpenJDK 64-Bit Server VM\n",
       "Default Encoding: UTF-8\n",
       "Language: en\n",
       "Country: null\n",
       "--></g></svg>"
      ]
     },
     "execution_count": 2,
     "metadata": {},
     "output_type": "execute_result"
    }
   ],
   "source": [
    "%viz --style=\"COMPTREE\" --view=\"Default\" \"ConnectionTest\""
   ]
  },
  {
   "cell_type": "code",
   "execution_count": 3,
   "id": "ab95ad2b",
   "metadata": {
    "execution": {
     "iopub.execute_input": "2021-08-04T06:28:51.433911Z",
     "iopub.status.busy": "2021-08-04T06:28:51.433648Z",
     "iopub.status.idle": "2021-08-04T06:28:51.496540Z",
     "shell.execute_reply": "2021-08-04T06:28:51.496800Z"
    }
   },
   "outputs": [
    {
     "data": {
      "image/svg+xml": [
       "<?xml version=\"1.0\" encoding=\"UTF-8\" standalone=\"no\"?><svg xmlns=\"http://www.w3.org/2000/svg\" xmlns:xlink=\"http://www.w3.org/1999/xlink\" contentScriptType=\"application/ecmascript\" contentStyleType=\"text/css\" height=\"539px\" preserveAspectRatio=\"none\" style=\"width:189px;height:539px;\" version=\"1.1\" viewBox=\"0 0 189 539\" width=\"189px\" zoomAndPan=\"magnify\"><defs/><g><!--MD5=[fbc87193dbaf4d95561dea2c320d4a47]\n",
       "cluster E1--><a href=\"psysml:316d1b7b-e6b7-4d49-a637-31383ba5712a\" target=\"_top\" title=\"psysml:316d1b7b-e6b7-4d49-a637-31383ba5712a\" xlink:actuate=\"onRequest\" xlink:href=\"psysml:316d1b7b-e6b7-4d49-a637-31383ba5712a\" xlink:show=\"new\" xlink:title=\"psysml:316d1b7b-e6b7-4d49-a637-31383ba5712a\" xlink:type=\"simple\"><polygon fill=\"#FFFFFF\" points=\"16,6,147,6,154,28.2969,167,28.2969,167,527,16,527,16,6\" style=\"stroke: #000000; stroke-width: 1.5;\"/><line style=\"stroke: #000000; stroke-width: 1.5;\" x1=\"16\" x2=\"154\" y1=\"28.2969\" y2=\"28.2969\"/><text fill=\"#000000\" font-family=\"sans-serif\" font-size=\"14\" font-weight=\"bold\" lengthAdjust=\"spacingAndGlyphs\" textLength=\"125\" x=\"20\" y=\"20.9951\">ConnectionTest</text></a><!--MD5=[b4997ac47864f28c2f74865a473b2911]\n",
       "class E2--><a href=\"psysml:c01c1eb8-4402-477c-affb-a3d93aa1c07f\" target=\"_top\" title=\"psysml:c01c1eb8-4402-477c-affb-a3d93aa1c07f\" xlink:actuate=\"onRequest\" xlink:href=\"psysml:c01c1eb8-4402-477c-affb-a3d93aa1c07f\" xlink:show=\"new\" xlink:title=\"psysml:c01c1eb8-4402-477c-affb-a3d93aa1c07f\" xlink:type=\"simple\"><rect fill=\"#FFFFFF\" height=\"45.9375\" id=\"E2\" rx=\"10\" ry=\"10\" style=\"stroke: #383838; stroke-width: 1.5;\" width=\"42\" x=\"89\" y=\"253\"/><text fill=\"#000000\" font-family=\"sans-serif\" font-size=\"12\" font-style=\"italic\" lengthAdjust=\"spacingAndGlyphs\" textLength=\"40\" x=\"90\" y=\"269.1387\">«part»</text><text fill=\"#000000\" font-family=\"sans-serif\" font-size=\"12\" lengthAdjust=\"spacingAndGlyphs\" textLength=\"8\" x=\"106\" y=\"283.1074\">p</text><line style=\"stroke: #383838; stroke-width: 1.5;\" x1=\"90\" x2=\"130\" y1=\"290.9375\" y2=\"290.9375\"/></a><!--MD5=[09b614a08d8cba4a07c9adeb5e0fee81]\n",
       "class E3--><a href=\"psysml:83a66275-79f9-4d22-aa8c-e03faa30289f\" target=\"_top\" title=\"psysml:83a66275-79f9-4d22-aa8c-e03faa30289f\" xlink:actuate=\"onRequest\" xlink:href=\"psysml:83a66275-79f9-4d22-aa8c-e03faa30289f\" xlink:show=\"new\" xlink:title=\"psysml:83a66275-79f9-4d22-aa8c-e03faa30289f\" xlink:type=\"simple\"><rect fill=\"#FFFFFF\" height=\"45.9375\" id=\"E3\" rx=\"10\" ry=\"10\" style=\"stroke: #383838; stroke-width: 1.5;\" width=\"42\" x=\"109\" y=\"359\"/><text fill=\"#000000\" font-family=\"sans-serif\" font-size=\"12\" font-style=\"italic\" lengthAdjust=\"spacingAndGlyphs\" textLength=\"40\" x=\"110\" y=\"375.1387\">«part»</text><text fill=\"#000000\" font-family=\"sans-serif\" font-size=\"12\" lengthAdjust=\"spacingAndGlyphs\" textLength=\"6\" x=\"127\" y=\"389.1074\">x</text><line style=\"stroke: #383838; stroke-width: 1.5;\" x1=\"110\" x2=\"150\" y1=\"396.9375\" y2=\"396.9375\"/></a><!--MD5=[ebbe1d658d1005bcc118a6aa81145e00]\n",
       "class E4--><a href=\"psysml:aa5ac9d5-4dfe-418e-90b4-d1e9d9002b4c\" target=\"_top\" title=\"psysml:aa5ac9d5-4dfe-418e-90b4-d1e9d9002b4c\" xlink:actuate=\"onRequest\" xlink:href=\"psysml:aa5ac9d5-4dfe-418e-90b4-d1e9d9002b4c\" xlink:show=\"new\" xlink:title=\"psysml:aa5ac9d5-4dfe-418e-90b4-d1e9d9002b4c\" xlink:type=\"simple\"><rect fill=\"#FFFFFF\" height=\"45.9375\" id=\"E4\" rx=\"10\" ry=\"10\" style=\"stroke: #383838; stroke-width: 1.5;\" width=\"42\" x=\"109\" y=\"465\"/><text fill=\"#000000\" font-family=\"sans-serif\" font-size=\"12\" font-style=\"italic\" lengthAdjust=\"spacingAndGlyphs\" textLength=\"40\" x=\"110\" y=\"481.1387\">«part»</text><text fill=\"#000000\" font-family=\"sans-serif\" font-size=\"12\" lengthAdjust=\"spacingAndGlyphs\" textLength=\"14\" x=\"123\" y=\"495.1074\">x1</text><line style=\"stroke: #383838; stroke-width: 1.5;\" x1=\"110\" x2=\"150\" y1=\"502.9375\" y2=\"502.9375\"/></a><!--MD5=[270fce915f116d4de14055a7c1d9a0f3]\n",
       "class E5--><a href=\"psysml:fe1eabcd-2f5c-4c92-bec8-31bd54db8461\" target=\"_top\" title=\"psysml:fe1eabcd-2f5c-4c92-bec8-31bd54db8461\" xlink:actuate=\"onRequest\" xlink:href=\"psysml:fe1eabcd-2f5c-4c92-bec8-31bd54db8461\" xlink:show=\"new\" xlink:title=\"psysml:fe1eabcd-2f5c-4c92-bec8-31bd54db8461\" xlink:type=\"simple\"><rect fill=\"#FFFFFF\" height=\"45.9375\" id=\"E5\" style=\"stroke: #383838; stroke-width: 1.5;\" width=\"66\" x=\"54\" y=\"41\"/><text fill=\"#000000\" font-family=\"sans-serif\" font-size=\"12\" font-style=\"italic\" lengthAdjust=\"spacingAndGlyphs\" textLength=\"64\" x=\"55\" y=\"57.1387\">«part def»</text><text fill=\"#000000\" font-family=\"sans-serif\" font-size=\"12\" lengthAdjust=\"spacingAndGlyphs\" textLength=\"8\" x=\"83\" y=\"71.1074\">P</text><line style=\"stroke: #383838; stroke-width: 1.5;\" x1=\"55\" x2=\"119\" y1=\"78.9375\" y2=\"78.9375\"/></a><!--MD5=[60a26617385b1d2d0262a64233df1f8d]\n",
       "class E6--><a href=\"psysml:06be23d5-21a7-42eb-83e3-f8e6bdc4a055\" target=\"_top\" title=\"psysml:06be23d5-21a7-42eb-83e3-f8e6bdc4a055\" xlink:actuate=\"onRequest\" xlink:href=\"psysml:06be23d5-21a7-42eb-83e3-f8e6bdc4a055\" xlink:show=\"new\" xlink:title=\"psysml:06be23d5-21a7-42eb-83e3-f8e6bdc4a055\" xlink:type=\"simple\"><rect fill=\"#FFFFFF\" height=\"45.9375\" id=\"E6\" rx=\"10\" ry=\"10\" style=\"stroke: #383838; stroke-width: 1.5;\" width=\"42\" x=\"32\" y=\"359\"/><text fill=\"#000000\" font-family=\"sans-serif\" font-size=\"12\" font-style=\"italic\" lengthAdjust=\"spacingAndGlyphs\" textLength=\"40\" x=\"33\" y=\"375.1387\">«part»</text><text fill=\"#000000\" font-family=\"sans-serif\" font-size=\"12\" lengthAdjust=\"spacingAndGlyphs\" textLength=\"6\" x=\"50\" y=\"389.1074\">y</text><line style=\"stroke: #383838; stroke-width: 1.5;\" x1=\"33\" x2=\"73\" y1=\"396.9375\" y2=\"396.9375\"/></a><!--MD5=[2156ba9850f5573cc1fc38a6a4b2f02b]\n",
       "class E7--><a href=\"psysml:32e0c838-e55d-456a-ac80-3fd98b88adbf\" target=\"_top\" title=\"psysml:32e0c838-e55d-456a-ac80-3fd98b88adbf\" xlink:actuate=\"onRequest\" xlink:href=\"psysml:32e0c838-e55d-456a-ac80-3fd98b88adbf\" xlink:show=\"new\" xlink:title=\"psysml:32e0c838-e55d-456a-ac80-3fd98b88adbf\" xlink:type=\"simple\"><rect fill=\"#FFFFFF\" height=\"45.9375\" id=\"E7\" rx=\"10\" ry=\"10\" style=\"stroke: #383838; stroke-width: 1.5;\" width=\"42\" x=\"89\" y=\"147\"/><text fill=\"#000000\" font-family=\"sans-serif\" font-size=\"12\" font-style=\"italic\" lengthAdjust=\"spacingAndGlyphs\" textLength=\"40\" x=\"90\" y=\"163.1387\">«part»</text><text fill=\"#000000\" font-family=\"sans-serif\" font-size=\"12\" lengthAdjust=\"spacingAndGlyphs\" textLength=\"16\" x=\"102\" y=\"177.1074\">p1</text><line style=\"stroke: #383838; stroke-width: 1.5;\" x1=\"90\" x2=\"130\" y1=\"184.9375\" y2=\"184.9375\"/></a><!--MD5=[209b3feb70ccb6233bfe1053d122c12c]\n",
       "reverse link E2 to E3--><a href=\"psysml:96d6ab40-4f8f-4d11-a48f-d95a37d5e194\" target=\"_top\" title=\"psysml:96d6ab40-4f8f-4d11-a48f-d95a37d5e194\" xlink:actuate=\"onRequest\" xlink:href=\"psysml:96d6ab40-4f8f-4d11-a48f-d95a37d5e194\" xlink:show=\"new\" xlink:title=\"psysml:96d6ab40-4f8f-4d11-a48f-d95a37d5e194\" xlink:type=\"simple\"><path d=\"M116.72,311.96 C119.71,327.51 123.14,345.33 125.76,358.98 \" fill=\"none\" id=\"E2&lt;-E3\" style=\"stroke: #383838; stroke-width: 1.0;\"/><polygon fill=\"#383838\" points=\"114.24,299.06,111.447,305.7082,116.5096,310.8434,119.3026,304.1952,114.24,299.06\" style=\"stroke: #383838; stroke-width: 1.0;\"/><text fill=\"#000000\" font-family=\"sans-serif\" font-size=\"13\" lengthAdjust=\"spacingAndGlyphs\" textLength=\"8\" x=\"115.5455\" y=\"347.8709\">1</text></a><!--MD5=[4672eba38e49728da53d11aeb285b987]\n",
       "reverse link E3 to E4--><a href=\"psysml:15b45894-f404-4f26-aaef-cf96b8c0ca99\" target=\"_top\" title=\"psysml:15b45894-f404-4f26-aaef-cf96b8c0ca99\" xlink:actuate=\"onRequest\" xlink:href=\"psysml:15b45894-f404-4f26-aaef-cf96b8c0ca99\" xlink:show=\"new\" xlink:title=\"psysml:15b45894-f404-4f26-aaef-cf96b8c0ca99\" xlink:type=\"simple\"><path d=\"M130,418.44 C130,433.87 130,451.47 130,464.98 \" fill=\"none\" id=\"E3&lt;-E4\" style=\"stroke: #383838; stroke-width: 1.0;\"/><polygon fill=\"#383838\" points=\"130,405.06,126,411.06,130,417.06,134,411.06,130,405.06\" style=\"stroke: #383838; stroke-width: 1.0;\"/><text fill=\"#000000\" font-family=\"sans-serif\" font-size=\"13\" lengthAdjust=\"spacingAndGlyphs\" textLength=\"8\" x=\"120.925\" y=\"453.8709\">1</text></a><!--MD5=[85d356282659285ab4b2cfe2f634dd2b]\n",
       "reverse link E5 to E6--><a href=\"psysml:e9a2dbd2-75b9-45f4-aecc-a2c2183931e9\" target=\"_top\" title=\"psysml:e9a2dbd2-75b9-45f4-aecc-a2c2183931e9\" xlink:actuate=\"onRequest\" xlink:href=\"psysml:e9a2dbd2-75b9-45f4-aecc-a2c2183931e9\" xlink:show=\"new\" xlink:title=\"psysml:e9a2dbd2-75b9-45f4-aecc-a2c2183931e9\" xlink:type=\"simple\"><path d=\"M79.77,100.15 C77.01,114.61 74.03,131.56 72,147 C61.78,224.59 56.2,317.42 54.05,358.98 \" fill=\"none\" id=\"E5&lt;-E6\" style=\"stroke: #383838; stroke-width: 1.0;\"/><polygon fill=\"#383838\" points=\"82.32,87.18,77.2408,92.2988,80.0123,98.956,85.0915,93.8372,82.32,87.18\" style=\"stroke: #383838; stroke-width: 1.0;\"/><text fill=\"#000000\" font-family=\"sans-serif\" font-size=\"13\" lengthAdjust=\"spacingAndGlyphs\" textLength=\"8\" x=\"45.2572\" y=\"347.8709\">1</text></a><!--MD5=[e3e28c1befcf002155aa15e1416b4315]\n",
       "link E2 to E6--><a href=\"psysml:2b37c4a5-3576-4b38-9831-53a66373adf4\" target=\"_top\" title=\"psysml:2b37c4a5-3576-4b38-9831-53a66373adf4\" xlink:actuate=\"onRequest\" xlink:href=\"psysml:2b37c4a5-3576-4b38-9831-53a66373adf4\" xlink:show=\"new\" xlink:title=\"psysml:2b37c4a5-3576-4b38-9831-53a66373adf4\" xlink:type=\"simple\"><path d=\"M97.91,299.06 C88.24,316.7 74.74,341.34 65.07,358.98 \" fill=\"none\" id=\"E2-E6\" style=\"stroke: #383838; stroke-width: 3.0;\"/><text fill=\"#000000\" font-family=\"sans-serif\" font-size=\"13\" lengthAdjust=\"spacingAndGlyphs\" textLength=\"7\" x=\"60.3732\" y=\"347.8709\">*</text></a><!--MD5=[452b418e7f8a40397a49b8c0a78acc5b]\n",
       "reverse link E5 to E7--><a href=\"psysml:0433d7bc-4d61-42a3-98d7-5077bd02d97e\" target=\"_top\" title=\"psysml:0433d7bc-4d61-42a3-98d7-5077bd02d97e\" xlink:actuate=\"onRequest\" xlink:href=\"psysml:0433d7bc-4d61-42a3-98d7-5077bd02d97e\" xlink:show=\"new\" xlink:title=\"psysml:0433d7bc-4d61-42a3-98d7-5077bd02d97e\" xlink:type=\"simple\"><path d=\"M94.73,99.96 C98.17,115.51 102.11,133.33 105.13,146.98 \" fill=\"none\" id=\"E5&lt;-E7\" style=\"stroke: #383838; stroke-width: 1.0;\"/><polygon fill=\"#383838\" points=\"91.88,87.06,89.2656,93.7805,94.4636,98.7786,97.078,92.0581,91.88,87.06\" style=\"stroke: #383838; stroke-width: 1.0;\"/><text fill=\"#000000\" font-family=\"sans-serif\" font-size=\"13\" lengthAdjust=\"spacingAndGlyphs\" textLength=\"8\" x=\"94.7462\" y=\"135.8709\">1</text></a><!--MD5=[583832df87f4419a098336a29a52fa00]\n",
       "link E7 to E2--><a href=\"psysml:d6550333-67eb-4da5-a08d-e8c2ba9c3c42\" target=\"_top\" title=\"psysml:d6550333-67eb-4da5-a08d-e8c2ba9c3c42\" xlink:actuate=\"onRequest\" xlink:href=\"psysml:d6550333-67eb-4da5-a08d-e8c2ba9c3c42\" xlink:show=\"new\" xlink:title=\"psysml:d6550333-67eb-4da5-a08d-e8c2ba9c3c42\" xlink:type=\"simple\"><path d=\"M110,193.06 C110,204.64 110,219.23 110,232.87 \" fill=\"none\" id=\"E7-&gt;E2\" style=\"stroke: #383838; stroke-width: 1.0;\"/><polygon fill=\"none\" points=\"117,232.98,110,252.98,103,232.98,117,232.98\" style=\"stroke: #383838; stroke-width: 1.0;\"/></a><!--MD5=[c31f5257f711d9e9a358dd74b9e562fe]\n",
       "@startuml\r\n",
       " skinparam monochrome true\r\n",
       "skinparam classbackgroundcolor white\r\n",
       "skinparam shadowing false\r\n",
       "skinparam wrapWidth 300\r\n",
       "hide circle\r\n",
       "\r\n",
       "package \"ConnectionTest\" as E1  [[psysml:316d1b7b-e6b7-4d49-a637-31383ba5712a ]]  {\r\n",
       "comp usage \"p\" as E2  <<(T,blue) part>> [[psysml:c01c1eb8-4402-477c-affb-a3d93aa1c07f ]] {\r\n",
       "}\r\n",
       "comp usage \"x\" as E3  <<(T,blue) part>> [[psysml:83a66275-79f9-4d22-aa8c-e03faa30289f ]] {\r\n",
       "}\r\n",
       "comp usage \"x1\" as E4  <<(T,blue) part>> [[psysml:aa5ac9d5-4dfe-418e-90b4-d1e9d9002b4c ]] {\r\n",
       "}\r\n",
       "comp def \"P\" as E5  <<(T,blue) part def>> [[psysml:fe1eabcd-2f5c-4c92-bec8-31bd54db8461 ]] {\r\n",
       "}\r\n",
       "comp usage \"y\" as E6  <<(T,blue) part>> [[psysml:06be23d5-21a7-42eb-83e3-f8e6bdc4a055 ]] {\r\n",
       "}\r\n",
       "comp usage \"p1\" as E7  <<(T,blue) part>> [[psysml:32e0c838-e55d-456a-ac80-3fd98b88adbf ]] {\r\n",
       "}\r\n",
       "E2 *- - \"1\"E3 [[psysml:96d6ab40-4f8f-4d11-a48f-d95a37d5e194 ]] \r\n",
       "E3 *- - \"1\"E4 [[psysml:15b45894-f404-4f26-aaef-cf96b8c0ca99 ]] \r\n",
       "E5 *- - \"1\"E6 [[psysml:e9a2dbd2-75b9-45f4-aecc-a2c2183931e9 ]] \r\n",
       "E2 -[thickness=3]- \"*\"E6 [[psysml:2b37c4a5-3576-4b38-9831-53a66373adf4 ]] \r\n",
       "E5 *- - \"1\"E7 [[psysml:0433d7bc-4d61-42a3-98d7-5077bd02d97e ]] \r\n",
       "E7 - -|> E2 [[psysml:d6550333-67eb-4da5-a08d-e8c2ba9c3c42 ]] \r\n",
       "}\r\n",
       "@enduml\r\n",
       "\n",
       "PlantUML version 1.2020.13(Sat Jun 13 12:26:38 UTC 2020)\n",
       "(EPL source distribution)\n",
       "Java Runtime: OpenJDK Runtime Environment\n",
       "JVM: OpenJDK 64-Bit Server VM\n",
       "Default Encoding: UTF-8\n",
       "Language: en\n",
       "Country: null\n",
       "--></g></svg>"
      ]
     },
     "execution_count": 3,
     "metadata": {},
     "output_type": "execute_result"
    }
   ],
   "source": [
    "%viz --style=\"COMPTREE\" --view=\"Tree\" \"ConnectionTest\""
   ]
  },
  {
   "cell_type": "code",
   "execution_count": 4,
   "id": "02b09ada",
   "metadata": {
    "execution": {
     "iopub.execute_input": "2021-08-04T06:28:51.547529Z",
     "iopub.status.busy": "2021-08-04T06:28:51.546995Z",
     "iopub.status.idle": "2021-08-04T06:28:51.555196Z",
     "shell.execute_reply": "2021-08-04T06:28:51.555530Z"
    }
   },
   "outputs": [
    {
     "data": {
      "image/svg+xml": [
       "<?xml version=\"1.0\" encoding=\"UTF-8\" standalone=\"no\"?><svg xmlns=\"http://www.w3.org/2000/svg\" xmlns:xlink=\"http://www.w3.org/1999/xlink\" contentScriptType=\"application/ecmascript\" contentStyleType=\"text/css\" height=\"12px\" preserveAspectRatio=\"none\" style=\"width:12px;height:12px;\" version=\"1.1\" viewBox=\"0 0 12 12\" width=\"12px\" zoomAndPan=\"magnify\"><defs/><g><!--MD5=[f19188ef49e11757b5c46753f95d9edc]\n",
       "@startuml\r\n",
       " skinparam monochrome true\r\n",
       "skinparam classbackgroundcolor white\r\n",
       "skinparam shadowing false\r\n",
       "skinparam wrapWidth 300\r\n",
       "hide circle\r\n",
       "\r\n",
       "@enduml\r\n",
       "\n",
       "PlantUML version 1.2020.13(Sat Jun 13 12:26:38 UTC 2020)\n",
       "(EPL source distribution)\n",
       "Java Runtime: OpenJDK Runtime Environment\n",
       "JVM: OpenJDK 64-Bit Server VM\n",
       "Default Encoding: UTF-8\n",
       "Language: en\n",
       "Country: null\n",
       "--></g></svg>"
      ]
     },
     "execution_count": 4,
     "metadata": {},
     "output_type": "execute_result"
    }
   ],
   "source": [
    "%viz --style=\"COMPTREE\" --view=\"State\" \"ConnectionTest\""
   ]
  },
  {
   "cell_type": "code",
   "execution_count": 5,
   "id": "5498c7be",
   "metadata": {
    "execution": {
     "iopub.execute_input": "2021-08-04T06:28:51.606212Z",
     "iopub.status.busy": "2021-08-04T06:28:51.605769Z",
     "iopub.status.idle": "2021-08-04T06:28:51.674439Z",
     "shell.execute_reply": "2021-08-04T06:28:51.674052Z"
    }
   },
   "outputs": [
    {
     "data": {
      "image/svg+xml": [
       "<?xml version=\"1.0\" encoding=\"UTF-8\" standalone=\"no\"?><svg xmlns=\"http://www.w3.org/2000/svg\" xmlns:xlink=\"http://www.w3.org/1999/xlink\" contentScriptType=\"application/ecmascript\" contentStyleType=\"text/css\" height=\"406px\" preserveAspectRatio=\"none\" style=\"width:509px;height:406px;\" version=\"1.1\" viewBox=\"0 0 509 406\" width=\"509px\" zoomAndPan=\"magnify\"><defs/><g><!--MD5=[fbc87193dbaf4d95561dea2c320d4a47]\n",
       "cluster E1--><a href=\"psysml:316d1b7b-e6b7-4d49-a637-31383ba5712a\" target=\"_top\" title=\"psysml:316d1b7b-e6b7-4d49-a637-31383ba5712a\" xlink:actuate=\"onRequest\" xlink:href=\"psysml:316d1b7b-e6b7-4d49-a637-31383ba5712a\" xlink:show=\"new\" xlink:title=\"psysml:316d1b7b-e6b7-4d49-a637-31383ba5712a\" xlink:type=\"simple\"><polygon fill=\"#FFFFFF\" points=\"16,6,147,6,154,28.2969,487,28.2969,487,394,16,394,16,6\" style=\"stroke: #000000; stroke-width: 1.5;\"/><line style=\"stroke: #000000; stroke-width: 1.5;\" x1=\"16\" x2=\"154\" y1=\"28.2969\" y2=\"28.2969\"/><text fill=\"#000000\" font-family=\"sans-serif\" font-size=\"14\" font-weight=\"bold\" lengthAdjust=\"spacingAndGlyphs\" textLength=\"125\" x=\"20\" y=\"20.9951\">ConnectionTest</text></a><!--MD5=[e4f7fae6ed58524ba242bb0b0d3be6b7]\n",
       "cluster E2--><a href=\"psysml:c01c1eb8-4402-477c-affb-a3d93aa1c07f\" target=\"_top\" title=\"psysml:c01c1eb8-4402-477c-affb-a3d93aa1c07f\" xlink:actuate=\"onRequest\" xlink:href=\"psysml:c01c1eb8-4402-477c-affb-a3d93aa1c07f\" xlink:show=\"new\" xlink:title=\"psysml:c01c1eb8-4402-477c-affb-a3d93aa1c07f\" xlink:type=\"simple\"><rect fill=\"#FFFFFF\" height=\"174\" id=\"E2\" rx=\"10\" ry=\"10\" style=\"stroke: #383838; stroke-width: 1.5;\" width=\"154\" x=\"301\" y=\"116\"/><rect fill=\"#F8F8F8\" height=\"23.9688\" rx=\"10\" ry=\"10\" style=\"stroke: #F8F8F8; stroke-width: 1.5;\" width=\"154\" x=\"301\" y=\"116\"/><rect fill=\"#F8F8F8\" height=\"10\" style=\"stroke: #F8F8F8; stroke-width: 1.5;\" width=\"154\" x=\"301\" y=\"129.9688\"/><rect fill=\"none\" height=\"174\" id=\"E2\" rx=\"10\" ry=\"10\" style=\"stroke: #383838; stroke-width: 1.5;\" width=\"154\" x=\"301\" y=\"116\"/><text fill=\"#000000\" font-family=\"sans-serif\" font-size=\"12\" lengthAdjust=\"spacingAndGlyphs\" textLength=\"8\" x=\"374\" y=\"132.1387\">p</text><line style=\"stroke: #383838; stroke-width: 1.0;\" x1=\"301\" x2=\"455\" y1=\"139.9688\" y2=\"139.9688\"/></a><!--MD5=[d5e69f78d87373223dbae638b30a9c99]\n",
       "cluster E3--><a href=\"psysml:83a66275-79f9-4d22-aa8c-e03faa30289f\" target=\"_top\" title=\"psysml:83a66275-79f9-4d22-aa8c-e03faa30289f\" xlink:actuate=\"onRequest\" xlink:href=\"psysml:83a66275-79f9-4d22-aa8c-e03faa30289f\" xlink:show=\"new\" xlink:title=\"psysml:83a66275-79f9-4d22-aa8c-e03faa30289f\" xlink:type=\"simple\"><rect fill=\"#FFFFFF\" height=\"91\" id=\"E3\" rx=\"10\" ry=\"10\" style=\"stroke: #383838; stroke-width: 1.5;\" width=\"82\" x=\"341\" y=\"167\"/><rect fill=\"#F8F8F8\" height=\"23.9688\" rx=\"10\" ry=\"10\" style=\"stroke: #F8F8F8; stroke-width: 1.5;\" width=\"82\" x=\"341\" y=\"167\"/><rect fill=\"#F8F8F8\" height=\"10\" style=\"stroke: #F8F8F8; stroke-width: 1.5;\" width=\"82\" x=\"341\" y=\"180.9688\"/><rect fill=\"none\" height=\"91\" id=\"E3\" rx=\"10\" ry=\"10\" style=\"stroke: #383838; stroke-width: 1.5;\" width=\"82\" x=\"341\" y=\"167\"/><text fill=\"#000000\" font-family=\"sans-serif\" font-size=\"12\" lengthAdjust=\"spacingAndGlyphs\" textLength=\"6\" x=\"379\" y=\"183.1387\">x</text><line style=\"stroke: #383838; stroke-width: 1.0;\" x1=\"341\" x2=\"423\" y1=\"190.9688\" y2=\"190.9688\"/></a><!--MD5=[de5ec2e2e8f62f467e546659f5068c88]\n",
       "cluster E5--><a href=\"psysml:fe1eabcd-2f5c-4c92-bec8-31bd54db8461\" target=\"_top\" title=\"psysml:fe1eabcd-2f5c-4c92-bec8-31bd54db8461\" xlink:actuate=\"onRequest\" xlink:href=\"psysml:fe1eabcd-2f5c-4c92-bec8-31bd54db8461\" xlink:show=\"new\" xlink:title=\"psysml:fe1eabcd-2f5c-4c92-bec8-31bd54db8461\" xlink:type=\"simple\"><rect fill=\"#FFFFFF\" height=\"321\" id=\"E5\" style=\"stroke: #383838; stroke-width: 1.5;\" width=\"229\" x=\"40\" y=\"49\"/><rect fill=\"#F8F8F8\" height=\"37.9375\" style=\"stroke: #383838; stroke-width: 1.5;\" width=\"229\" x=\"40\" y=\"49\"/><text fill=\"#000000\" font-family=\"sans-serif\" font-size=\"12\" font-style=\"italic\" lengthAdjust=\"spacingAndGlyphs\" textLength=\"64\" x=\"122.5\" y=\"65.1387\">«part def»</text><text fill=\"#000000\" font-family=\"sans-serif\" font-size=\"12\" lengthAdjust=\"spacingAndGlyphs\" textLength=\"8\" x=\"150.5\" y=\"79.1074\">P</text></a><!--MD5=[168fadf3d0c3fd93dd5d6da1b1d7ab76]\n",
       "cluster E7--><a href=\"psysml:32e0c838-e55d-456a-ac80-3fd98b88adbf\" target=\"_top\" title=\"psysml:32e0c838-e55d-456a-ac80-3fd98b88adbf\" xlink:actuate=\"onRequest\" xlink:href=\"psysml:32e0c838-e55d-456a-ac80-3fd98b88adbf\" xlink:show=\"new\" xlink:title=\"psysml:32e0c838-e55d-456a-ac80-3fd98b88adbf\" xlink:type=\"simple\"><rect fill=\"#FFFFFF\" height=\"190\" id=\"E7\" rx=\"10\" ry=\"10\" style=\"stroke: #383838; stroke-width: 1.5;\" width=\"181\" x=\"64\" y=\"108\"/><rect fill=\"#F8F8F8\" height=\"23.9688\" rx=\"10\" ry=\"10\" style=\"stroke: #F8F8F8; stroke-width: 1.5;\" width=\"181\" x=\"64\" y=\"108\"/><rect fill=\"#F8F8F8\" height=\"10\" style=\"stroke: #F8F8F8; stroke-width: 1.5;\" width=\"181\" x=\"64\" y=\"121.9688\"/><rect fill=\"none\" height=\"190\" id=\"E7\" rx=\"10\" ry=\"10\" style=\"stroke: #383838; stroke-width: 1.5;\" width=\"181\" x=\"64\" y=\"108\"/><text fill=\"#000000\" font-family=\"sans-serif\" font-size=\"12\" lengthAdjust=\"spacingAndGlyphs\" textLength=\"16\" x=\"146.5\" y=\"124.1387\">p1</text><line style=\"stroke: #383838; stroke-width: 1.0;\" x1=\"64\" x2=\"245\" y1=\"131.9688\" y2=\"131.9688\"/></a><!--MD5=[55dfccfc6c49c2d10cd1bd2211a6c90c]\n",
       "cluster E8--><a href=\"psysml:83a66275-79f9-4d22-aa8c-e03faa30289f\" target=\"_top\" title=\"psysml:83a66275-79f9-4d22-aa8c-e03faa30289f\" xlink:actuate=\"onRequest\" xlink:href=\"psysml:83a66275-79f9-4d22-aa8c-e03faa30289f\" xlink:show=\"new\" xlink:title=\"psysml:83a66275-79f9-4d22-aa8c-e03faa30289f\" xlink:type=\"simple\"><rect fill=\"#FFFFFF\" height=\"107\" id=\"E8\" rx=\"10\" ry=\"10\" style=\"stroke: #383838; stroke-width: 1.5;\" width=\"117\" x=\"96\" y=\"159\"/><rect fill=\"#F8F8F8\" height=\"23.9688\" rx=\"10\" ry=\"10\" style=\"stroke: #F8F8F8; stroke-width: 1.5;\" width=\"117\" x=\"96\" y=\"159\"/><rect fill=\"#F8F8F8\" height=\"10\" style=\"stroke: #F8F8F8; stroke-width: 1.5;\" width=\"117\" x=\"96\" y=\"172.9688\"/><rect fill=\"none\" height=\"107\" id=\"E8\" rx=\"10\" ry=\"10\" style=\"stroke: #383838; stroke-width: 1.5;\" width=\"117\" x=\"96\" y=\"159\"/><text fill=\"#000000\" font-family=\"sans-serif\" font-size=\"12\" lengthAdjust=\"spacingAndGlyphs\" textLength=\"16\" x=\"146.5\" y=\"175.1387\">^x</text><line style=\"stroke: #383838; stroke-width: 1.0;\" x1=\"96\" x2=\"213\" y1=\"182.9688\" y2=\"182.9688\"/></a><g id=\"E1.E2.E3.E4\"><a href=\"psysml:aa5ac9d5-4dfe-418e-90b4-d1e9d9002b4c\" target=\"_top\" title=\"psysml:aa5ac9d5-4dfe-418e-90b4-d1e9d9002b4c\" xlink:actuate=\"onRequest\" xlink:href=\"psysml:aa5ac9d5-4dfe-418e-90b4-d1e9d9002b4c\" xlink:show=\"new\" xlink:title=\"psysml:aa5ac9d5-4dfe-418e-90b4-d1e9d9002b4c\" xlink:type=\"simple\"><rect fill=\"#FFFFFF\" height=\"40\" id=\"E4\" rx=\"10\" ry=\"10\" style=\"stroke: #383838; stroke-width: 1.5;\" width=\"50\" x=\"357\" y=\"202\"/><rect fill=\"#F8F8F8\" height=\"23.9688\" rx=\"10\" ry=\"10\" style=\"stroke: #F8F8F8; stroke-width: 1.5;\" width=\"50\" x=\"357\" y=\"202\"/><rect fill=\"#F8F8F8\" height=\"10\" style=\"stroke: #F8F8F8; stroke-width: 1.5;\" width=\"50\" x=\"357\" y=\"215.9688\"/><rect fill=\"none\" height=\"40\" id=\"E4\" rx=\"10\" ry=\"10\" style=\"stroke: #383838; stroke-width: 1.5;\" width=\"50\" x=\"357\" y=\"202\"/><text fill=\"#000000\" font-family=\"sans-serif\" font-size=\"12\" lengthAdjust=\"spacingAndGlyphs\" textLength=\"14\" x=\"375\" y=\"218.1387\">x1</text></a></g><g id=\"E1.E5.E6\"><a href=\"psysml:06be23d5-21a7-42eb-83e3-f8e6bdc4a055\" target=\"_top\" title=\"psysml:06be23d5-21a7-42eb-83e3-f8e6bdc4a055\" xlink:actuate=\"onRequest\" xlink:href=\"psysml:06be23d5-21a7-42eb-83e3-f8e6bdc4a055\" xlink:show=\"new\" xlink:title=\"psysml:06be23d5-21a7-42eb-83e3-f8e6bdc4a055\" xlink:type=\"simple\"><rect fill=\"#FFFFFF\" height=\"40\" id=\"E6\" rx=\"10\" ry=\"10\" style=\"stroke: #383838; stroke-width: 1.5;\" width=\"50\" x=\"139\" y=\"314\"/><rect fill=\"#F8F8F8\" height=\"23.9688\" rx=\"10\" ry=\"10\" style=\"stroke: #F8F8F8; stroke-width: 1.5;\" width=\"50\" x=\"139\" y=\"314\"/><rect fill=\"#F8F8F8\" height=\"10\" style=\"stroke: #F8F8F8; stroke-width: 1.5;\" width=\"50\" x=\"139\" y=\"327.9688\"/><rect fill=\"none\" height=\"40\" id=\"E6\" rx=\"10\" ry=\"10\" style=\"stroke: #383838; stroke-width: 1.5;\" width=\"50\" x=\"139\" y=\"314\"/><text fill=\"#000000\" font-family=\"sans-serif\" font-size=\"12\" lengthAdjust=\"spacingAndGlyphs\" textLength=\"6\" x=\"161\" y=\"330.1387\">y</text></a></g><g id=\"E1.E5.E7.E8.E9\"><a href=\"psysml:aa5ac9d5-4dfe-418e-90b4-d1e9d9002b4c\" target=\"_top\" title=\"psysml:aa5ac9d5-4dfe-418e-90b4-d1e9d9002b4c\" xlink:actuate=\"onRequest\" xlink:href=\"psysml:aa5ac9d5-4dfe-418e-90b4-d1e9d9002b4c\" xlink:show=\"new\" xlink:title=\"psysml:aa5ac9d5-4dfe-418e-90b4-d1e9d9002b4c\" xlink:type=\"simple\"><rect fill=\"#FFFFFF\" height=\"40\" id=\"E9\" rx=\"10\" ry=\"10\" style=\"stroke: #383838; stroke-width: 1.5;\" width=\"50\" x=\"139\" y=\"202\"/><rect fill=\"#F8F8F8\" height=\"23.9688\" rx=\"10\" ry=\"10\" style=\"stroke: #F8F8F8; stroke-width: 1.5;\" width=\"50\" x=\"139\" y=\"202\"/><rect fill=\"#F8F8F8\" height=\"10\" style=\"stroke: #F8F8F8; stroke-width: 1.5;\" width=\"50\" x=\"139\" y=\"215.9688\"/><rect fill=\"none\" height=\"40\" id=\"E9\" rx=\"10\" ry=\"10\" style=\"stroke: #383838; stroke-width: 1.5;\" width=\"50\" x=\"139\" y=\"202\"/><text fill=\"#000000\" font-family=\"sans-serif\" font-size=\"12\" lengthAdjust=\"spacingAndGlyphs\" textLength=\"14\" x=\"157\" y=\"218.1387\">x1</text></a></g><!--MD5=[e3e28c1befcf002155aa15e1416b4315]\n",
       "link E2 to E6--><a href=\"psysml:2b37c4a5-3576-4b38-9831-53a66373adf4\" target=\"_top\" title=\"psysml:2b37c4a5-3576-4b38-9831-53a66373adf4\" xlink:actuate=\"onRequest\" xlink:href=\"psysml:2b37c4a5-3576-4b38-9831-53a66373adf4\" xlink:show=\"new\" xlink:title=\"psysml:2b37c4a5-3576-4b38-9831-53a66373adf4\" xlink:type=\"simple\"><path d=\"M300.7532,230.0089 C300.6678,230.081 300.5818,230.1536 300.4952,230.2266 C300.3221,230.3728 300.1466,230.5208 299.9687,230.6708 C299.2574,231.2706 298.509,231.9009 297.7253,232.56 C291.4556,237.8325 282.9263,244.945 273.0525,253.02 C253.305,269.17 228.18,289.17 205,306 C200.03,309.61 194.62,313.32 189.4,316.79 \" fill=\"none\" id=\"E2-E6\" style=\"stroke: #383838; stroke-width: 3.0;\"/><text fill=\"#000000\" font-family=\"sans-serif\" font-size=\"13\" lengthAdjust=\"spacingAndGlyphs\" textLength=\"7\" x=\"197.1669\" y=\"307.2339\">*</text></a><!--MD5=[c5e8897d989ce984f93528998a7150fe]\n",
       "link E8 to E6--><a href=\"psysml:55b22e92-f05f-458a-a067-1c48392866cc\" target=\"_top\" title=\"psysml:55b22e92-f05f-458a-a067-1c48392866cc\" xlink:actuate=\"onRequest\" xlink:href=\"psysml:55b22e92-f05f-458a-a067-1c48392866cc\" xlink:show=\"new\" xlink:title=\"psysml:55b22e92-f05f-458a-a067-1c48392866cc\" xlink:type=\"simple\"><path d=\"M107.5144,266.114 C107.5418,266.252 107.5694,266.3902 107.5972,266.5284 C107.6527,266.8049 107.7091,267.0817 107.7663,267.3589 C108.6814,271.7933 109.8082,276.3099 111.1942,280.7795 C113.9663,289.7188 117.775,298.47 123,306 C127.08,311.88 132.9,316.81 138.87,320.78 \" fill=\"none\" id=\"E8-E6\" style=\"stroke: #383838; stroke-width: 3.0;\"/><text fill=\"#000000\" font-family=\"sans-serif\" font-size=\"13\" lengthAdjust=\"spacingAndGlyphs\" textLength=\"7\" x=\"124.1757\" y=\"312.2962\">*</text></a><!--MD5=[60ac2c0cde89d4308155b0484e57a8ec]\n",
       "link E9 to E6--><a href=\"psysml:f5fd66b3-5ce3-4ce3-99f1-5aad5efc9456\" target=\"_top\" title=\"psysml:f5fd66b3-5ce3-4ce3-99f1-5aad5efc9456\" xlink:actuate=\"onRequest\" xlink:href=\"psysml:f5fd66b3-5ce3-4ce3-99f1-5aad5efc9456\" xlink:show=\"new\" xlink:title=\"psysml:f5fd66b3-5ce3-4ce3-99f1-5aad5efc9456\" xlink:type=\"simple\"><path d=\"M164,242.16 C164,262.23 164,293.57 164,313.69 \" fill=\"none\" id=\"E9-E6\" style=\"stroke: #383838; stroke-width: 3.0;\"/><text fill=\"#000000\" font-family=\"sans-serif\" font-size=\"13\" lengthAdjust=\"spacingAndGlyphs\" textLength=\"7\" x=\"156.0156\" y=\"302.954\">*</text></a><!--MD5=[a4fe56cd6a538b7e8189c2fe728f66b1]\n",
       "@startuml\r\n",
       "skinparam ranksep 10\r\n",
       "skinparam rectangle {\r\n",
       " backgroundColor<<block>> LightGreen\r\n",
       "}\r\n",
       " skinparam monochrome true\r\n",
       "skinparam classbackgroundcolor white\r\n",
       "skinparam shadowing false\r\n",
       "skinparam wrapWidth 300\r\n",
       "hide circle\r\n",
       "\r\n",
       "package \"ConnectionTest\" as E1  [[psysml:316d1b7b-e6b7-4d49-a637-31383ba5712a ]]  {\r\n",
       "rec usage \"p\" as E2  [[psysml:c01c1eb8-4402-477c-affb-a3d93aa1c07f ]] {\r\n",
       "rec usage \"x\" as E3  [[psysml:83a66275-79f9-4d22-aa8c-e03faa30289f ]] {\r\n",
       "rec usage \"x1\" as E4  [[psysml:aa5ac9d5-4dfe-418e-90b4-d1e9d9002b4c ]] {\r\n",
       "}\r\n",
       "}\r\n",
       "}\r\n",
       "rec def \"P\" as E5  <<(T,blue) part def>> [[psysml:fe1eabcd-2f5c-4c92-bec8-31bd54db8461 ]] {\r\n",
       "rec usage \"y\" as E6  [[psysml:06be23d5-21a7-42eb-83e3-f8e6bdc4a055 ]] {\r\n",
       "}\r\n",
       "rec usage \"p1\" as E7  [[psysml:32e0c838-e55d-456a-ac80-3fd98b88adbf ]] {\r\n",
       "rec usage \"^x\" as E8  [[psysml:83a66275-79f9-4d22-aa8c-e03faa30289f ]] {\r\n",
       "rec usage \"x1\" as E9  [[psysml:aa5ac9d5-4dfe-418e-90b4-d1e9d9002b4c ]] {\r\n",
       "}\r\n",
       "}\r\n",
       "}\r\n",
       "}\r\n",
       "E2 -[thickness=3]- \"*\"E6 [[psysml:2b37c4a5-3576-4b38-9831-53a66373adf4 ]] \r\n",
       "E8 -[thickness=3]- \"*\"E6 [[psysml:55b22e92-f05f-458a-a067-1c48392866cc ]] \r\n",
       "E9 -[thickness=3]- \"*\"E6 [[psysml:f5fd66b3-5ce3-4ce3-99f1-5aad5efc9456 ]] \r\n",
       "}\r\n",
       "@enduml\r\n",
       "\n",
       "PlantUML version 1.2020.13(Sat Jun 13 12:26:38 UTC 2020)\n",
       "(EPL source distribution)\n",
       "Java Runtime: OpenJDK Runtime Environment\n",
       "JVM: OpenJDK 64-Bit Server VM\n",
       "Default Encoding: UTF-8\n",
       "Language: en\n",
       "Country: null\n",
       "--></g></svg>"
      ]
     },
     "execution_count": 5,
     "metadata": {},
     "output_type": "execute_result"
    }
   ],
   "source": [
    "%viz --style=\"COMPTREE\" --view=\"Interconnection\" \"ConnectionTest\""
   ]
  },
  {
   "cell_type": "code",
   "execution_count": 6,
   "id": "483d3e6b",
   "metadata": {
    "execution": {
     "iopub.execute_input": "2021-08-04T06:28:51.724221Z",
     "iopub.status.busy": "2021-08-04T06:28:51.723658Z",
     "iopub.status.idle": "2021-08-04T06:28:51.731351Z",
     "shell.execute_reply": "2021-08-04T06:28:51.731805Z"
    }
   },
   "outputs": [
    {
     "data": {
      "image/svg+xml": [
       "<?xml version=\"1.0\" encoding=\"UTF-8\" standalone=\"no\"?><svg xmlns=\"http://www.w3.org/2000/svg\" xmlns:xlink=\"http://www.w3.org/1999/xlink\" contentScriptType=\"application/ecmascript\" contentStyleType=\"text/css\" height=\"12px\" preserveAspectRatio=\"none\" style=\"width:12px;height:12px;\" version=\"1.1\" viewBox=\"0 0 12 12\" width=\"12px\" zoomAndPan=\"magnify\"><defs/><g><!--MD5=[655b888544ca4751ea36af1068543f84]\n",
       "@startuml\r\n",
       "skinparam ranksep 8\r\n",
       " skinparam monochrome true\r\n",
       "skinparam classbackgroundcolor white\r\n",
       "skinparam shadowing false\r\n",
       "skinparam wrapWidth 300\r\n",
       "hide circle\r\n",
       "\r\n",
       "@enduml\r\n",
       "\n",
       "PlantUML version 1.2020.13(Sat Jun 13 12:26:38 UTC 2020)\n",
       "(EPL source distribution)\n",
       "Java Runtime: OpenJDK Runtime Environment\n",
       "JVM: OpenJDK 64-Bit Server VM\n",
       "Default Encoding: UTF-8\n",
       "Language: en\n",
       "Country: null\n",
       "--></g></svg>"
      ]
     },
     "execution_count": 6,
     "metadata": {},
     "output_type": "execute_result"
    }
   ],
   "source": [
    "%viz --style=\"COMPTREE\" --view=\"Action\" \"ConnectionTest\""
   ]
  },
  {
   "cell_type": "code",
   "execution_count": 7,
   "id": "b83c4873",
   "metadata": {
    "execution": {
     "iopub.execute_input": "2021-08-04T06:28:51.782259Z",
     "iopub.status.busy": "2021-08-04T06:28:51.781820Z",
     "iopub.status.idle": "2021-08-04T06:28:51.839972Z",
     "shell.execute_reply": "2021-08-04T06:28:51.839770Z"
    }
   },
   "outputs": [
    {
     "data": {
      "image/svg+xml": [
       "<?xml version=\"1.0\" encoding=\"UTF-8\" standalone=\"no\"?><svg xmlns=\"http://www.w3.org/2000/svg\" xmlns:xlink=\"http://www.w3.org/1999/xlink\" contentScriptType=\"application/ecmascript\" contentStyleType=\"text/css\" height=\"539px\" preserveAspectRatio=\"none\" style=\"width:189px;height:539px;\" version=\"1.1\" viewBox=\"0 0 189 539\" width=\"189px\" zoomAndPan=\"magnify\"><defs/><g><!--MD5=[fbc87193dbaf4d95561dea2c320d4a47]\n",
       "cluster E1--><a href=\"psysml:316d1b7b-e6b7-4d49-a637-31383ba5712a\" target=\"_top\" title=\"psysml:316d1b7b-e6b7-4d49-a637-31383ba5712a\" xlink:actuate=\"onRequest\" xlink:href=\"psysml:316d1b7b-e6b7-4d49-a637-31383ba5712a\" xlink:show=\"new\" xlink:title=\"psysml:316d1b7b-e6b7-4d49-a637-31383ba5712a\" xlink:type=\"simple\"><polygon fill=\"#FFFFFF\" points=\"16,6,147,6,154,28.2969,167,28.2969,167,527,16,527,16,6\" style=\"stroke: #000000; stroke-width: 1.5;\"/><line style=\"stroke: #000000; stroke-width: 1.5;\" x1=\"16\" x2=\"154\" y1=\"28.2969\" y2=\"28.2969\"/><text fill=\"#000000\" font-family=\"sans-serif\" font-size=\"14\" font-weight=\"bold\" lengthAdjust=\"spacingAndGlyphs\" textLength=\"125\" x=\"20\" y=\"20.9951\">ConnectionTest</text></a><!--MD5=[b4997ac47864f28c2f74865a473b2911]\n",
       "class E2--><a href=\"psysml:c01c1eb8-4402-477c-affb-a3d93aa1c07f\" target=\"_top\" title=\"psysml:c01c1eb8-4402-477c-affb-a3d93aa1c07f\" xlink:actuate=\"onRequest\" xlink:href=\"psysml:c01c1eb8-4402-477c-affb-a3d93aa1c07f\" xlink:show=\"new\" xlink:title=\"psysml:c01c1eb8-4402-477c-affb-a3d93aa1c07f\" xlink:type=\"simple\"><rect fill=\"#FFFFFF\" height=\"45.9375\" id=\"E2\" rx=\"10\" ry=\"10\" style=\"stroke: #383838; stroke-width: 1.5;\" width=\"42\" x=\"89\" y=\"253\"/><text fill=\"#000000\" font-family=\"sans-serif\" font-size=\"12\" font-style=\"italic\" lengthAdjust=\"spacingAndGlyphs\" textLength=\"40\" x=\"90\" y=\"269.1387\">«part»</text><text fill=\"#000000\" font-family=\"sans-serif\" font-size=\"12\" lengthAdjust=\"spacingAndGlyphs\" textLength=\"8\" x=\"106\" y=\"283.1074\">p</text><line style=\"stroke: #383838; stroke-width: 1.5;\" x1=\"90\" x2=\"130\" y1=\"290.9375\" y2=\"290.9375\"/></a><!--MD5=[09b614a08d8cba4a07c9adeb5e0fee81]\n",
       "class E3--><a href=\"psysml:83a66275-79f9-4d22-aa8c-e03faa30289f\" target=\"_top\" title=\"psysml:83a66275-79f9-4d22-aa8c-e03faa30289f\" xlink:actuate=\"onRequest\" xlink:href=\"psysml:83a66275-79f9-4d22-aa8c-e03faa30289f\" xlink:show=\"new\" xlink:title=\"psysml:83a66275-79f9-4d22-aa8c-e03faa30289f\" xlink:type=\"simple\"><rect fill=\"#FFFFFF\" height=\"45.9375\" id=\"E3\" rx=\"10\" ry=\"10\" style=\"stroke: #383838; stroke-width: 1.5;\" width=\"42\" x=\"109\" y=\"359\"/><text fill=\"#000000\" font-family=\"sans-serif\" font-size=\"12\" font-style=\"italic\" lengthAdjust=\"spacingAndGlyphs\" textLength=\"40\" x=\"110\" y=\"375.1387\">«part»</text><text fill=\"#000000\" font-family=\"sans-serif\" font-size=\"12\" lengthAdjust=\"spacingAndGlyphs\" textLength=\"6\" x=\"127\" y=\"389.1074\">x</text><line style=\"stroke: #383838; stroke-width: 1.5;\" x1=\"110\" x2=\"150\" y1=\"396.9375\" y2=\"396.9375\"/></a><!--MD5=[ebbe1d658d1005bcc118a6aa81145e00]\n",
       "class E4--><a href=\"psysml:aa5ac9d5-4dfe-418e-90b4-d1e9d9002b4c\" target=\"_top\" title=\"psysml:aa5ac9d5-4dfe-418e-90b4-d1e9d9002b4c\" xlink:actuate=\"onRequest\" xlink:href=\"psysml:aa5ac9d5-4dfe-418e-90b4-d1e9d9002b4c\" xlink:show=\"new\" xlink:title=\"psysml:aa5ac9d5-4dfe-418e-90b4-d1e9d9002b4c\" xlink:type=\"simple\"><rect fill=\"#FFFFFF\" height=\"45.9375\" id=\"E4\" rx=\"10\" ry=\"10\" style=\"stroke: #383838; stroke-width: 1.5;\" width=\"42\" x=\"109\" y=\"465\"/><text fill=\"#000000\" font-family=\"sans-serif\" font-size=\"12\" font-style=\"italic\" lengthAdjust=\"spacingAndGlyphs\" textLength=\"40\" x=\"110\" y=\"481.1387\">«part»</text><text fill=\"#000000\" font-family=\"sans-serif\" font-size=\"12\" lengthAdjust=\"spacingAndGlyphs\" textLength=\"14\" x=\"123\" y=\"495.1074\">x1</text><line style=\"stroke: #383838; stroke-width: 1.5;\" x1=\"110\" x2=\"150\" y1=\"502.9375\" y2=\"502.9375\"/></a><!--MD5=[270fce915f116d4de14055a7c1d9a0f3]\n",
       "class E5--><a href=\"psysml:fe1eabcd-2f5c-4c92-bec8-31bd54db8461\" target=\"_top\" title=\"psysml:fe1eabcd-2f5c-4c92-bec8-31bd54db8461\" xlink:actuate=\"onRequest\" xlink:href=\"psysml:fe1eabcd-2f5c-4c92-bec8-31bd54db8461\" xlink:show=\"new\" xlink:title=\"psysml:fe1eabcd-2f5c-4c92-bec8-31bd54db8461\" xlink:type=\"simple\"><rect fill=\"#FFFFFF\" height=\"45.9375\" id=\"E5\" style=\"stroke: #383838; stroke-width: 1.5;\" width=\"66\" x=\"54\" y=\"41\"/><text fill=\"#000000\" font-family=\"sans-serif\" font-size=\"12\" font-style=\"italic\" lengthAdjust=\"spacingAndGlyphs\" textLength=\"64\" x=\"55\" y=\"57.1387\">«part def»</text><text fill=\"#000000\" font-family=\"sans-serif\" font-size=\"12\" lengthAdjust=\"spacingAndGlyphs\" textLength=\"8\" x=\"83\" y=\"71.1074\">P</text><line style=\"stroke: #383838; stroke-width: 1.5;\" x1=\"55\" x2=\"119\" y1=\"78.9375\" y2=\"78.9375\"/></a><!--MD5=[60a26617385b1d2d0262a64233df1f8d]\n",
       "class E6--><a href=\"psysml:06be23d5-21a7-42eb-83e3-f8e6bdc4a055\" target=\"_top\" title=\"psysml:06be23d5-21a7-42eb-83e3-f8e6bdc4a055\" xlink:actuate=\"onRequest\" xlink:href=\"psysml:06be23d5-21a7-42eb-83e3-f8e6bdc4a055\" xlink:show=\"new\" xlink:title=\"psysml:06be23d5-21a7-42eb-83e3-f8e6bdc4a055\" xlink:type=\"simple\"><rect fill=\"#FFFFFF\" height=\"45.9375\" id=\"E6\" rx=\"10\" ry=\"10\" style=\"stroke: #383838; stroke-width: 1.5;\" width=\"42\" x=\"32\" y=\"359\"/><text fill=\"#000000\" font-family=\"sans-serif\" font-size=\"12\" font-style=\"italic\" lengthAdjust=\"spacingAndGlyphs\" textLength=\"40\" x=\"33\" y=\"375.1387\">«part»</text><text fill=\"#000000\" font-family=\"sans-serif\" font-size=\"12\" lengthAdjust=\"spacingAndGlyphs\" textLength=\"6\" x=\"50\" y=\"389.1074\">y</text><line style=\"stroke: #383838; stroke-width: 1.5;\" x1=\"33\" x2=\"73\" y1=\"396.9375\" y2=\"396.9375\"/></a><!--MD5=[2156ba9850f5573cc1fc38a6a4b2f02b]\n",
       "class E7--><a href=\"psysml:32e0c838-e55d-456a-ac80-3fd98b88adbf\" target=\"_top\" title=\"psysml:32e0c838-e55d-456a-ac80-3fd98b88adbf\" xlink:actuate=\"onRequest\" xlink:href=\"psysml:32e0c838-e55d-456a-ac80-3fd98b88adbf\" xlink:show=\"new\" xlink:title=\"psysml:32e0c838-e55d-456a-ac80-3fd98b88adbf\" xlink:type=\"simple\"><rect fill=\"#FFFFFF\" height=\"45.9375\" id=\"E7\" rx=\"10\" ry=\"10\" style=\"stroke: #383838; stroke-width: 1.5;\" width=\"42\" x=\"89\" y=\"147\"/><text fill=\"#000000\" font-family=\"sans-serif\" font-size=\"12\" font-style=\"italic\" lengthAdjust=\"spacingAndGlyphs\" textLength=\"40\" x=\"90\" y=\"163.1387\">«part»</text><text fill=\"#000000\" font-family=\"sans-serif\" font-size=\"12\" lengthAdjust=\"spacingAndGlyphs\" textLength=\"16\" x=\"102\" y=\"177.1074\">p1</text><line style=\"stroke: #383838; stroke-width: 1.5;\" x1=\"90\" x2=\"130\" y1=\"184.9375\" y2=\"184.9375\"/></a><!--MD5=[209b3feb70ccb6233bfe1053d122c12c]\n",
       "reverse link E2 to E3--><a href=\"psysml:96d6ab40-4f8f-4d11-a48f-d95a37d5e194\" target=\"_top\" title=\"psysml:96d6ab40-4f8f-4d11-a48f-d95a37d5e194\" xlink:actuate=\"onRequest\" xlink:href=\"psysml:96d6ab40-4f8f-4d11-a48f-d95a37d5e194\" xlink:show=\"new\" xlink:title=\"psysml:96d6ab40-4f8f-4d11-a48f-d95a37d5e194\" xlink:type=\"simple\"><path d=\"M116.72,311.96 C119.71,327.51 123.14,345.33 125.76,358.98 \" fill=\"none\" id=\"E2&lt;-E3\" style=\"stroke: #383838; stroke-width: 1.0;\"/><polygon fill=\"#383838\" points=\"114.24,299.06,111.447,305.7082,116.5096,310.8434,119.3026,304.1952,114.24,299.06\" style=\"stroke: #383838; stroke-width: 1.0;\"/><text fill=\"#000000\" font-family=\"sans-serif\" font-size=\"13\" lengthAdjust=\"spacingAndGlyphs\" textLength=\"8\" x=\"115.5455\" y=\"347.8709\">1</text></a><!--MD5=[4672eba38e49728da53d11aeb285b987]\n",
       "reverse link E3 to E4--><a href=\"psysml:15b45894-f404-4f26-aaef-cf96b8c0ca99\" target=\"_top\" title=\"psysml:15b45894-f404-4f26-aaef-cf96b8c0ca99\" xlink:actuate=\"onRequest\" xlink:href=\"psysml:15b45894-f404-4f26-aaef-cf96b8c0ca99\" xlink:show=\"new\" xlink:title=\"psysml:15b45894-f404-4f26-aaef-cf96b8c0ca99\" xlink:type=\"simple\"><path d=\"M130,418.44 C130,433.87 130,451.47 130,464.98 \" fill=\"none\" id=\"E3&lt;-E4\" style=\"stroke: #383838; stroke-width: 1.0;\"/><polygon fill=\"#383838\" points=\"130,405.06,126,411.06,130,417.06,134,411.06,130,405.06\" style=\"stroke: #383838; stroke-width: 1.0;\"/><text fill=\"#000000\" font-family=\"sans-serif\" font-size=\"13\" lengthAdjust=\"spacingAndGlyphs\" textLength=\"8\" x=\"120.925\" y=\"453.8709\">1</text></a><!--MD5=[85d356282659285ab4b2cfe2f634dd2b]\n",
       "reverse link E5 to E6--><a href=\"psysml:e9a2dbd2-75b9-45f4-aecc-a2c2183931e9\" target=\"_top\" title=\"psysml:e9a2dbd2-75b9-45f4-aecc-a2c2183931e9\" xlink:actuate=\"onRequest\" xlink:href=\"psysml:e9a2dbd2-75b9-45f4-aecc-a2c2183931e9\" xlink:show=\"new\" xlink:title=\"psysml:e9a2dbd2-75b9-45f4-aecc-a2c2183931e9\" xlink:type=\"simple\"><path d=\"M79.77,100.15 C77.01,114.61 74.03,131.56 72,147 C61.78,224.59 56.2,317.42 54.05,358.98 \" fill=\"none\" id=\"E5&lt;-E6\" style=\"stroke: #383838; stroke-width: 1.0;\"/><polygon fill=\"#383838\" points=\"82.32,87.18,77.2408,92.2988,80.0123,98.956,85.0915,93.8372,82.32,87.18\" style=\"stroke: #383838; stroke-width: 1.0;\"/><text fill=\"#000000\" font-family=\"sans-serif\" font-size=\"13\" lengthAdjust=\"spacingAndGlyphs\" textLength=\"8\" x=\"45.2572\" y=\"347.8709\">1</text></a><!--MD5=[e3e28c1befcf002155aa15e1416b4315]\n",
       "link E2 to E6--><a href=\"psysml:2b37c4a5-3576-4b38-9831-53a66373adf4\" target=\"_top\" title=\"psysml:2b37c4a5-3576-4b38-9831-53a66373adf4\" xlink:actuate=\"onRequest\" xlink:href=\"psysml:2b37c4a5-3576-4b38-9831-53a66373adf4\" xlink:show=\"new\" xlink:title=\"psysml:2b37c4a5-3576-4b38-9831-53a66373adf4\" xlink:type=\"simple\"><path d=\"M97.91,299.06 C88.24,316.7 74.74,341.34 65.07,358.98 \" fill=\"none\" id=\"E2-E6\" style=\"stroke: #383838; stroke-width: 3.0;\"/><text fill=\"#000000\" font-family=\"sans-serif\" font-size=\"13\" lengthAdjust=\"spacingAndGlyphs\" textLength=\"7\" x=\"60.3732\" y=\"347.8709\">*</text></a><!--MD5=[452b418e7f8a40397a49b8c0a78acc5b]\n",
       "reverse link E5 to E7--><a href=\"psysml:0433d7bc-4d61-42a3-98d7-5077bd02d97e\" target=\"_top\" title=\"psysml:0433d7bc-4d61-42a3-98d7-5077bd02d97e\" xlink:actuate=\"onRequest\" xlink:href=\"psysml:0433d7bc-4d61-42a3-98d7-5077bd02d97e\" xlink:show=\"new\" xlink:title=\"psysml:0433d7bc-4d61-42a3-98d7-5077bd02d97e\" xlink:type=\"simple\"><path d=\"M94.73,99.96 C98.17,115.51 102.11,133.33 105.13,146.98 \" fill=\"none\" id=\"E5&lt;-E7\" style=\"stroke: #383838; stroke-width: 1.0;\"/><polygon fill=\"#383838\" points=\"91.88,87.06,89.2656,93.7805,94.4636,98.7786,97.078,92.0581,91.88,87.06\" style=\"stroke: #383838; stroke-width: 1.0;\"/><text fill=\"#000000\" font-family=\"sans-serif\" font-size=\"13\" lengthAdjust=\"spacingAndGlyphs\" textLength=\"8\" x=\"94.7462\" y=\"135.8709\">1</text></a><!--MD5=[583832df87f4419a098336a29a52fa00]\n",
       "link E7 to E2--><a href=\"psysml:d6550333-67eb-4da5-a08d-e8c2ba9c3c42\" target=\"_top\" title=\"psysml:d6550333-67eb-4da5-a08d-e8c2ba9c3c42\" xlink:actuate=\"onRequest\" xlink:href=\"psysml:d6550333-67eb-4da5-a08d-e8c2ba9c3c42\" xlink:show=\"new\" xlink:title=\"psysml:d6550333-67eb-4da5-a08d-e8c2ba9c3c42\" xlink:type=\"simple\"><path d=\"M110,193.06 C110,204.64 110,219.23 110,232.87 \" fill=\"none\" id=\"E7-&gt;E2\" style=\"stroke: #383838; stroke-width: 1.0;\"/><polygon fill=\"none\" points=\"117,232.98,110,252.98,103,232.98,117,232.98\" style=\"stroke: #383838; stroke-width: 1.0;\"/></a><!--MD5=[c31f5257f711d9e9a358dd74b9e562fe]\n",
       "@startuml\r\n",
       " skinparam monochrome true\r\n",
       "skinparam classbackgroundcolor white\r\n",
       "skinparam shadowing false\r\n",
       "skinparam wrapWidth 300\r\n",
       "hide circle\r\n",
       "\r\n",
       "package \"ConnectionTest\" as E1  [[psysml:316d1b7b-e6b7-4d49-a637-31383ba5712a ]]  {\r\n",
       "comp usage \"p\" as E2  <<(T,blue) part>> [[psysml:c01c1eb8-4402-477c-affb-a3d93aa1c07f ]] {\r\n",
       "}\r\n",
       "comp usage \"x\" as E3  <<(T,blue) part>> [[psysml:83a66275-79f9-4d22-aa8c-e03faa30289f ]] {\r\n",
       "}\r\n",
       "comp usage \"x1\" as E4  <<(T,blue) part>> [[psysml:aa5ac9d5-4dfe-418e-90b4-d1e9d9002b4c ]] {\r\n",
       "}\r\n",
       "comp def \"P\" as E5  <<(T,blue) part def>> [[psysml:fe1eabcd-2f5c-4c92-bec8-31bd54db8461 ]] {\r\n",
       "}\r\n",
       "comp usage \"y\" as E6  <<(T,blue) part>> [[psysml:06be23d5-21a7-42eb-83e3-f8e6bdc4a055 ]] {\r\n",
       "}\r\n",
       "comp usage \"p1\" as E7  <<(T,blue) part>> [[psysml:32e0c838-e55d-456a-ac80-3fd98b88adbf ]] {\r\n",
       "}\r\n",
       "E2 *- - \"1\"E3 [[psysml:96d6ab40-4f8f-4d11-a48f-d95a37d5e194 ]] \r\n",
       "E3 *- - \"1\"E4 [[psysml:15b45894-f404-4f26-aaef-cf96b8c0ca99 ]] \r\n",
       "E5 *- - \"1\"E6 [[psysml:e9a2dbd2-75b9-45f4-aecc-a2c2183931e9 ]] \r\n",
       "E2 -[thickness=3]- \"*\"E6 [[psysml:2b37c4a5-3576-4b38-9831-53a66373adf4 ]] \r\n",
       "E5 *- - \"1\"E7 [[psysml:0433d7bc-4d61-42a3-98d7-5077bd02d97e ]] \r\n",
       "E7 - -|> E2 [[psysml:d6550333-67eb-4da5-a08d-e8c2ba9c3c42 ]] \r\n",
       "}\r\n",
       "@enduml\r\n",
       "\n",
       "PlantUML version 1.2020.13(Sat Jun 13 12:26:38 UTC 2020)\n",
       "(EPL source distribution)\n",
       "Java Runtime: OpenJDK Runtime Environment\n",
       "JVM: OpenJDK 64-Bit Server VM\n",
       "Default Encoding: UTF-8\n",
       "Language: en\n",
       "Country: null\n",
       "--></g></svg>"
      ]
     },
     "execution_count": 7,
     "metadata": {},
     "output_type": "execute_result"
    }
   ],
   "source": [
    "%viz --style=\"COMPTREE\" --view=\"Sequence\" \"ConnectionTest\""
   ]
  },
  {
   "cell_type": "code",
   "execution_count": 8,
   "id": "265e9546",
   "metadata": {
    "execution": {
     "iopub.execute_input": "2021-08-04T06:28:51.891377Z",
     "iopub.status.busy": "2021-08-04T06:28:51.890812Z",
     "iopub.status.idle": "2021-08-04T06:28:51.948419Z",
     "shell.execute_reply": "2021-08-04T06:28:51.946876Z"
    }
   },
   "outputs": [
    {
     "data": {
      "image/svg+xml": [
       "<?xml version=\"1.0\" encoding=\"UTF-8\" standalone=\"no\"?><svg xmlns=\"http://www.w3.org/2000/svg\" xmlns:xlink=\"http://www.w3.org/1999/xlink\" contentScriptType=\"application/ecmascript\" contentStyleType=\"text/css\" height=\"539px\" preserveAspectRatio=\"none\" style=\"width:189px;height:539px;\" version=\"1.1\" viewBox=\"0 0 189 539\" width=\"189px\" zoomAndPan=\"magnify\"><defs/><g><!--MD5=[fbc87193dbaf4d95561dea2c320d4a47]\n",
       "cluster E1--><a href=\"psysml:316d1b7b-e6b7-4d49-a637-31383ba5712a\" target=\"_top\" title=\"psysml:316d1b7b-e6b7-4d49-a637-31383ba5712a\" xlink:actuate=\"onRequest\" xlink:href=\"psysml:316d1b7b-e6b7-4d49-a637-31383ba5712a\" xlink:show=\"new\" xlink:title=\"psysml:316d1b7b-e6b7-4d49-a637-31383ba5712a\" xlink:type=\"simple\"><polygon fill=\"#FFFFFF\" points=\"16,6,147,6,154,28.2969,167,28.2969,167,527,16,527,16,6\" style=\"stroke: #000000; stroke-width: 1.5;\"/><line style=\"stroke: #000000; stroke-width: 1.5;\" x1=\"16\" x2=\"154\" y1=\"28.2969\" y2=\"28.2969\"/><text fill=\"#000000\" font-family=\"sans-serif\" font-size=\"14\" font-weight=\"bold\" lengthAdjust=\"spacingAndGlyphs\" textLength=\"125\" x=\"20\" y=\"20.9951\">ConnectionTest</text></a><!--MD5=[b4997ac47864f28c2f74865a473b2911]\n",
       "class E2--><a href=\"psysml:c01c1eb8-4402-477c-affb-a3d93aa1c07f\" target=\"_top\" title=\"psysml:c01c1eb8-4402-477c-affb-a3d93aa1c07f\" xlink:actuate=\"onRequest\" xlink:href=\"psysml:c01c1eb8-4402-477c-affb-a3d93aa1c07f\" xlink:show=\"new\" xlink:title=\"psysml:c01c1eb8-4402-477c-affb-a3d93aa1c07f\" xlink:type=\"simple\"><rect fill=\"#FFFFFF\" height=\"45.9375\" id=\"E2\" rx=\"10\" ry=\"10\" style=\"stroke: #383838; stroke-width: 1.5;\" width=\"42\" x=\"89\" y=\"253\"/><text fill=\"#000000\" font-family=\"sans-serif\" font-size=\"12\" font-style=\"italic\" lengthAdjust=\"spacingAndGlyphs\" textLength=\"40\" x=\"90\" y=\"269.1387\">«part»</text><text fill=\"#000000\" font-family=\"sans-serif\" font-size=\"12\" lengthAdjust=\"spacingAndGlyphs\" textLength=\"8\" x=\"106\" y=\"283.1074\">p</text><line style=\"stroke: #383838; stroke-width: 1.5;\" x1=\"90\" x2=\"130\" y1=\"290.9375\" y2=\"290.9375\"/></a><!--MD5=[09b614a08d8cba4a07c9adeb5e0fee81]\n",
       "class E3--><a href=\"psysml:83a66275-79f9-4d22-aa8c-e03faa30289f\" target=\"_top\" title=\"psysml:83a66275-79f9-4d22-aa8c-e03faa30289f\" xlink:actuate=\"onRequest\" xlink:href=\"psysml:83a66275-79f9-4d22-aa8c-e03faa30289f\" xlink:show=\"new\" xlink:title=\"psysml:83a66275-79f9-4d22-aa8c-e03faa30289f\" xlink:type=\"simple\"><rect fill=\"#FFFFFF\" height=\"45.9375\" id=\"E3\" rx=\"10\" ry=\"10\" style=\"stroke: #383838; stroke-width: 1.5;\" width=\"42\" x=\"109\" y=\"359\"/><text fill=\"#000000\" font-family=\"sans-serif\" font-size=\"12\" font-style=\"italic\" lengthAdjust=\"spacingAndGlyphs\" textLength=\"40\" x=\"110\" y=\"375.1387\">«part»</text><text fill=\"#000000\" font-family=\"sans-serif\" font-size=\"12\" lengthAdjust=\"spacingAndGlyphs\" textLength=\"6\" x=\"127\" y=\"389.1074\">x</text><line style=\"stroke: #383838; stroke-width: 1.5;\" x1=\"110\" x2=\"150\" y1=\"396.9375\" y2=\"396.9375\"/></a><!--MD5=[ebbe1d658d1005bcc118a6aa81145e00]\n",
       "class E4--><a href=\"psysml:aa5ac9d5-4dfe-418e-90b4-d1e9d9002b4c\" target=\"_top\" title=\"psysml:aa5ac9d5-4dfe-418e-90b4-d1e9d9002b4c\" xlink:actuate=\"onRequest\" xlink:href=\"psysml:aa5ac9d5-4dfe-418e-90b4-d1e9d9002b4c\" xlink:show=\"new\" xlink:title=\"psysml:aa5ac9d5-4dfe-418e-90b4-d1e9d9002b4c\" xlink:type=\"simple\"><rect fill=\"#FFFFFF\" height=\"45.9375\" id=\"E4\" rx=\"10\" ry=\"10\" style=\"stroke: #383838; stroke-width: 1.5;\" width=\"42\" x=\"109\" y=\"465\"/><text fill=\"#000000\" font-family=\"sans-serif\" font-size=\"12\" font-style=\"italic\" lengthAdjust=\"spacingAndGlyphs\" textLength=\"40\" x=\"110\" y=\"481.1387\">«part»</text><text fill=\"#000000\" font-family=\"sans-serif\" font-size=\"12\" lengthAdjust=\"spacingAndGlyphs\" textLength=\"14\" x=\"123\" y=\"495.1074\">x1</text><line style=\"stroke: #383838; stroke-width: 1.5;\" x1=\"110\" x2=\"150\" y1=\"502.9375\" y2=\"502.9375\"/></a><!--MD5=[270fce915f116d4de14055a7c1d9a0f3]\n",
       "class E5--><a href=\"psysml:fe1eabcd-2f5c-4c92-bec8-31bd54db8461\" target=\"_top\" title=\"psysml:fe1eabcd-2f5c-4c92-bec8-31bd54db8461\" xlink:actuate=\"onRequest\" xlink:href=\"psysml:fe1eabcd-2f5c-4c92-bec8-31bd54db8461\" xlink:show=\"new\" xlink:title=\"psysml:fe1eabcd-2f5c-4c92-bec8-31bd54db8461\" xlink:type=\"simple\"><rect fill=\"#FFFFFF\" height=\"45.9375\" id=\"E5\" style=\"stroke: #383838; stroke-width: 1.5;\" width=\"66\" x=\"54\" y=\"41\"/><text fill=\"#000000\" font-family=\"sans-serif\" font-size=\"12\" font-style=\"italic\" lengthAdjust=\"spacingAndGlyphs\" textLength=\"64\" x=\"55\" y=\"57.1387\">«part def»</text><text fill=\"#000000\" font-family=\"sans-serif\" font-size=\"12\" lengthAdjust=\"spacingAndGlyphs\" textLength=\"8\" x=\"83\" y=\"71.1074\">P</text><line style=\"stroke: #383838; stroke-width: 1.5;\" x1=\"55\" x2=\"119\" y1=\"78.9375\" y2=\"78.9375\"/></a><!--MD5=[60a26617385b1d2d0262a64233df1f8d]\n",
       "class E6--><a href=\"psysml:06be23d5-21a7-42eb-83e3-f8e6bdc4a055\" target=\"_top\" title=\"psysml:06be23d5-21a7-42eb-83e3-f8e6bdc4a055\" xlink:actuate=\"onRequest\" xlink:href=\"psysml:06be23d5-21a7-42eb-83e3-f8e6bdc4a055\" xlink:show=\"new\" xlink:title=\"psysml:06be23d5-21a7-42eb-83e3-f8e6bdc4a055\" xlink:type=\"simple\"><rect fill=\"#FFFFFF\" height=\"45.9375\" id=\"E6\" rx=\"10\" ry=\"10\" style=\"stroke: #383838; stroke-width: 1.5;\" width=\"42\" x=\"32\" y=\"359\"/><text fill=\"#000000\" font-family=\"sans-serif\" font-size=\"12\" font-style=\"italic\" lengthAdjust=\"spacingAndGlyphs\" textLength=\"40\" x=\"33\" y=\"375.1387\">«part»</text><text fill=\"#000000\" font-family=\"sans-serif\" font-size=\"12\" lengthAdjust=\"spacingAndGlyphs\" textLength=\"6\" x=\"50\" y=\"389.1074\">y</text><line style=\"stroke: #383838; stroke-width: 1.5;\" x1=\"33\" x2=\"73\" y1=\"396.9375\" y2=\"396.9375\"/></a><!--MD5=[2156ba9850f5573cc1fc38a6a4b2f02b]\n",
       "class E7--><a href=\"psysml:32e0c838-e55d-456a-ac80-3fd98b88adbf\" target=\"_top\" title=\"psysml:32e0c838-e55d-456a-ac80-3fd98b88adbf\" xlink:actuate=\"onRequest\" xlink:href=\"psysml:32e0c838-e55d-456a-ac80-3fd98b88adbf\" xlink:show=\"new\" xlink:title=\"psysml:32e0c838-e55d-456a-ac80-3fd98b88adbf\" xlink:type=\"simple\"><rect fill=\"#FFFFFF\" height=\"45.9375\" id=\"E7\" rx=\"10\" ry=\"10\" style=\"stroke: #383838; stroke-width: 1.5;\" width=\"42\" x=\"89\" y=\"147\"/><text fill=\"#000000\" font-family=\"sans-serif\" font-size=\"12\" font-style=\"italic\" lengthAdjust=\"spacingAndGlyphs\" textLength=\"40\" x=\"90\" y=\"163.1387\">«part»</text><text fill=\"#000000\" font-family=\"sans-serif\" font-size=\"12\" lengthAdjust=\"spacingAndGlyphs\" textLength=\"16\" x=\"102\" y=\"177.1074\">p1</text><line style=\"stroke: #383838; stroke-width: 1.5;\" x1=\"90\" x2=\"130\" y1=\"184.9375\" y2=\"184.9375\"/></a><!--MD5=[209b3feb70ccb6233bfe1053d122c12c]\n",
       "reverse link E2 to E3--><a href=\"psysml:96d6ab40-4f8f-4d11-a48f-d95a37d5e194\" target=\"_top\" title=\"psysml:96d6ab40-4f8f-4d11-a48f-d95a37d5e194\" xlink:actuate=\"onRequest\" xlink:href=\"psysml:96d6ab40-4f8f-4d11-a48f-d95a37d5e194\" xlink:show=\"new\" xlink:title=\"psysml:96d6ab40-4f8f-4d11-a48f-d95a37d5e194\" xlink:type=\"simple\"><path d=\"M116.72,311.96 C119.71,327.51 123.14,345.33 125.76,358.98 \" fill=\"none\" id=\"E2&lt;-E3\" style=\"stroke: #383838; stroke-width: 1.0;\"/><polygon fill=\"#383838\" points=\"114.24,299.06,111.447,305.7082,116.5096,310.8434,119.3026,304.1952,114.24,299.06\" style=\"stroke: #383838; stroke-width: 1.0;\"/><text fill=\"#000000\" font-family=\"sans-serif\" font-size=\"13\" lengthAdjust=\"spacingAndGlyphs\" textLength=\"8\" x=\"115.5455\" y=\"347.8709\">1</text></a><!--MD5=[4672eba38e49728da53d11aeb285b987]\n",
       "reverse link E3 to E4--><a href=\"psysml:15b45894-f404-4f26-aaef-cf96b8c0ca99\" target=\"_top\" title=\"psysml:15b45894-f404-4f26-aaef-cf96b8c0ca99\" xlink:actuate=\"onRequest\" xlink:href=\"psysml:15b45894-f404-4f26-aaef-cf96b8c0ca99\" xlink:show=\"new\" xlink:title=\"psysml:15b45894-f404-4f26-aaef-cf96b8c0ca99\" xlink:type=\"simple\"><path d=\"M130,418.44 C130,433.87 130,451.47 130,464.98 \" fill=\"none\" id=\"E3&lt;-E4\" style=\"stroke: #383838; stroke-width: 1.0;\"/><polygon fill=\"#383838\" points=\"130,405.06,126,411.06,130,417.06,134,411.06,130,405.06\" style=\"stroke: #383838; stroke-width: 1.0;\"/><text fill=\"#000000\" font-family=\"sans-serif\" font-size=\"13\" lengthAdjust=\"spacingAndGlyphs\" textLength=\"8\" x=\"120.925\" y=\"453.8709\">1</text></a><!--MD5=[85d356282659285ab4b2cfe2f634dd2b]\n",
       "reverse link E5 to E6--><a href=\"psysml:e9a2dbd2-75b9-45f4-aecc-a2c2183931e9\" target=\"_top\" title=\"psysml:e9a2dbd2-75b9-45f4-aecc-a2c2183931e9\" xlink:actuate=\"onRequest\" xlink:href=\"psysml:e9a2dbd2-75b9-45f4-aecc-a2c2183931e9\" xlink:show=\"new\" xlink:title=\"psysml:e9a2dbd2-75b9-45f4-aecc-a2c2183931e9\" xlink:type=\"simple\"><path d=\"M79.77,100.15 C77.01,114.61 74.03,131.56 72,147 C61.78,224.59 56.2,317.42 54.05,358.98 \" fill=\"none\" id=\"E5&lt;-E6\" style=\"stroke: #383838; stroke-width: 1.0;\"/><polygon fill=\"#383838\" points=\"82.32,87.18,77.2408,92.2988,80.0123,98.956,85.0915,93.8372,82.32,87.18\" style=\"stroke: #383838; stroke-width: 1.0;\"/><text fill=\"#000000\" font-family=\"sans-serif\" font-size=\"13\" lengthAdjust=\"spacingAndGlyphs\" textLength=\"8\" x=\"45.2572\" y=\"347.8709\">1</text></a><!--MD5=[e3e28c1befcf002155aa15e1416b4315]\n",
       "link E2 to E6--><a href=\"psysml:2b37c4a5-3576-4b38-9831-53a66373adf4\" target=\"_top\" title=\"psysml:2b37c4a5-3576-4b38-9831-53a66373adf4\" xlink:actuate=\"onRequest\" xlink:href=\"psysml:2b37c4a5-3576-4b38-9831-53a66373adf4\" xlink:show=\"new\" xlink:title=\"psysml:2b37c4a5-3576-4b38-9831-53a66373adf4\" xlink:type=\"simple\"><path d=\"M97.91,299.06 C88.24,316.7 74.74,341.34 65.07,358.98 \" fill=\"none\" id=\"E2-E6\" style=\"stroke: #383838; stroke-width: 3.0;\"/><text fill=\"#000000\" font-family=\"sans-serif\" font-size=\"13\" lengthAdjust=\"spacingAndGlyphs\" textLength=\"7\" x=\"60.3732\" y=\"347.8709\">*</text></a><!--MD5=[452b418e7f8a40397a49b8c0a78acc5b]\n",
       "reverse link E5 to E7--><a href=\"psysml:0433d7bc-4d61-42a3-98d7-5077bd02d97e\" target=\"_top\" title=\"psysml:0433d7bc-4d61-42a3-98d7-5077bd02d97e\" xlink:actuate=\"onRequest\" xlink:href=\"psysml:0433d7bc-4d61-42a3-98d7-5077bd02d97e\" xlink:show=\"new\" xlink:title=\"psysml:0433d7bc-4d61-42a3-98d7-5077bd02d97e\" xlink:type=\"simple\"><path d=\"M94.73,99.96 C98.17,115.51 102.11,133.33 105.13,146.98 \" fill=\"none\" id=\"E5&lt;-E7\" style=\"stroke: #383838; stroke-width: 1.0;\"/><polygon fill=\"#383838\" points=\"91.88,87.06,89.2656,93.7805,94.4636,98.7786,97.078,92.0581,91.88,87.06\" style=\"stroke: #383838; stroke-width: 1.0;\"/><text fill=\"#000000\" font-family=\"sans-serif\" font-size=\"13\" lengthAdjust=\"spacingAndGlyphs\" textLength=\"8\" x=\"94.7462\" y=\"135.8709\">1</text></a><!--MD5=[583832df87f4419a098336a29a52fa00]\n",
       "link E7 to E2--><a href=\"psysml:d6550333-67eb-4da5-a08d-e8c2ba9c3c42\" target=\"_top\" title=\"psysml:d6550333-67eb-4da5-a08d-e8c2ba9c3c42\" xlink:actuate=\"onRequest\" xlink:href=\"psysml:d6550333-67eb-4da5-a08d-e8c2ba9c3c42\" xlink:show=\"new\" xlink:title=\"psysml:d6550333-67eb-4da5-a08d-e8c2ba9c3c42\" xlink:type=\"simple\"><path d=\"M110,193.06 C110,204.64 110,219.23 110,232.87 \" fill=\"none\" id=\"E7-&gt;E2\" style=\"stroke: #383838; stroke-width: 1.0;\"/><polygon fill=\"none\" points=\"117,232.98,110,252.98,103,232.98,117,232.98\" style=\"stroke: #383838; stroke-width: 1.0;\"/></a><!--MD5=[c31f5257f711d9e9a358dd74b9e562fe]\n",
       "@startuml\r\n",
       " skinparam monochrome true\r\n",
       "skinparam classbackgroundcolor white\r\n",
       "skinparam shadowing false\r\n",
       "skinparam wrapWidth 300\r\n",
       "hide circle\r\n",
       "\r\n",
       "package \"ConnectionTest\" as E1  [[psysml:316d1b7b-e6b7-4d49-a637-31383ba5712a ]]  {\r\n",
       "comp usage \"p\" as E2  <<(T,blue) part>> [[psysml:c01c1eb8-4402-477c-affb-a3d93aa1c07f ]] {\r\n",
       "}\r\n",
       "comp usage \"x\" as E3  <<(T,blue) part>> [[psysml:83a66275-79f9-4d22-aa8c-e03faa30289f ]] {\r\n",
       "}\r\n",
       "comp usage \"x1\" as E4  <<(T,blue) part>> [[psysml:aa5ac9d5-4dfe-418e-90b4-d1e9d9002b4c ]] {\r\n",
       "}\r\n",
       "comp def \"P\" as E5  <<(T,blue) part def>> [[psysml:fe1eabcd-2f5c-4c92-bec8-31bd54db8461 ]] {\r\n",
       "}\r\n",
       "comp usage \"y\" as E6  <<(T,blue) part>> [[psysml:06be23d5-21a7-42eb-83e3-f8e6bdc4a055 ]] {\r\n",
       "}\r\n",
       "comp usage \"p1\" as E7  <<(T,blue) part>> [[psysml:32e0c838-e55d-456a-ac80-3fd98b88adbf ]] {\r\n",
       "}\r\n",
       "E2 *- - \"1\"E3 [[psysml:96d6ab40-4f8f-4d11-a48f-d95a37d5e194 ]] \r\n",
       "E3 *- - \"1\"E4 [[psysml:15b45894-f404-4f26-aaef-cf96b8c0ca99 ]] \r\n",
       "E5 *- - \"1\"E6 [[psysml:e9a2dbd2-75b9-45f4-aecc-a2c2183931e9 ]] \r\n",
       "E2 -[thickness=3]- \"*\"E6 [[psysml:2b37c4a5-3576-4b38-9831-53a66373adf4 ]] \r\n",
       "E5 *- - \"1\"E7 [[psysml:0433d7bc-4d61-42a3-98d7-5077bd02d97e ]] \r\n",
       "E7 - -|> E2 [[psysml:d6550333-67eb-4da5-a08d-e8c2ba9c3c42 ]] \r\n",
       "}\r\n",
       "@enduml\r\n",
       "\n",
       "PlantUML version 1.2020.13(Sat Jun 13 12:26:38 UTC 2020)\n",
       "(EPL source distribution)\n",
       "Java Runtime: OpenJDK Runtime Environment\n",
       "JVM: OpenJDK 64-Bit Server VM\n",
       "Default Encoding: UTF-8\n",
       "Language: en\n",
       "Country: null\n",
       "--></g></svg>"
      ]
     },
     "execution_count": 8,
     "metadata": {},
     "output_type": "execute_result"
    }
   ],
   "source": [
    "%viz --style=\"COMPTREE\" --view=\"MIXED\" \"ConnectionTest\""
   ]
  },
  {
   "cell_type": "code",
   "execution_count": 9,
   "id": "aa32e589",
   "metadata": {
    "execution": {
     "iopub.execute_input": "2021-08-04T06:28:51.998486Z",
     "iopub.status.busy": "2021-08-04T06:28:51.998044Z",
     "iopub.status.idle": "2021-08-04T06:28:52.040141Z",
     "shell.execute_reply": "2021-08-04T06:28:52.039780Z"
    }
   },
   "outputs": [
    {
     "data": {
      "image/svg+xml": [
       "<?xml version=\"1.0\" encoding=\"UTF-8\" standalone=\"no\"?><svg xmlns=\"http://www.w3.org/2000/svg\" xmlns:xlink=\"http://www.w3.org/1999/xlink\" contentScriptType=\"application/ecmascript\" contentStyleType=\"text/css\" height=\"539px\" preserveAspectRatio=\"none\" style=\"width:189px;height:539px;\" version=\"1.1\" viewBox=\"0 0 189 539\" width=\"189px\" zoomAndPan=\"magnify\"><defs/><g><!--MD5=[fbc87193dbaf4d95561dea2c320d4a47]\n",
       "cluster E1--><a href=\"psysml:316d1b7b-e6b7-4d49-a637-31383ba5712a\" target=\"_top\" title=\"psysml:316d1b7b-e6b7-4d49-a637-31383ba5712a\" xlink:actuate=\"onRequest\" xlink:href=\"psysml:316d1b7b-e6b7-4d49-a637-31383ba5712a\" xlink:show=\"new\" xlink:title=\"psysml:316d1b7b-e6b7-4d49-a637-31383ba5712a\" xlink:type=\"simple\"><polygon fill=\"#FFFFFF\" points=\"16,6,147,6,154,28.2969,167,28.2969,167,527,16,527,16,6\" style=\"stroke: #000000; stroke-width: 1.5;\"/><line style=\"stroke: #000000; stroke-width: 1.5;\" x1=\"16\" x2=\"154\" y1=\"28.2969\" y2=\"28.2969\"/><text fill=\"#000000\" font-family=\"sans-serif\" font-size=\"14\" font-weight=\"bold\" lengthAdjust=\"spacingAndGlyphs\" textLength=\"125\" x=\"20\" y=\"20.9951\">ConnectionTest</text></a><!--MD5=[b4997ac47864f28c2f74865a473b2911]\n",
       "class E2--><a href=\"psysml:c01c1eb8-4402-477c-affb-a3d93aa1c07f\" target=\"_top\" title=\"psysml:c01c1eb8-4402-477c-affb-a3d93aa1c07f\" xlink:actuate=\"onRequest\" xlink:href=\"psysml:c01c1eb8-4402-477c-affb-a3d93aa1c07f\" xlink:show=\"new\" xlink:title=\"psysml:c01c1eb8-4402-477c-affb-a3d93aa1c07f\" xlink:type=\"simple\"><rect fill=\"#FFFFFF\" height=\"45.9375\" id=\"E2\" rx=\"10\" ry=\"10\" style=\"stroke: #383838; stroke-width: 1.5;\" width=\"42\" x=\"89\" y=\"253\"/><text fill=\"#000000\" font-family=\"sans-serif\" font-size=\"12\" font-style=\"italic\" lengthAdjust=\"spacingAndGlyphs\" textLength=\"40\" x=\"90\" y=\"269.1387\">«part»</text><text fill=\"#000000\" font-family=\"sans-serif\" font-size=\"12\" lengthAdjust=\"spacingAndGlyphs\" textLength=\"8\" x=\"106\" y=\"283.1074\">p</text><line style=\"stroke: #383838; stroke-width: 1.5;\" x1=\"90\" x2=\"130\" y1=\"290.9375\" y2=\"290.9375\"/></a><!--MD5=[09b614a08d8cba4a07c9adeb5e0fee81]\n",
       "class E3--><a href=\"psysml:83a66275-79f9-4d22-aa8c-e03faa30289f\" target=\"_top\" title=\"psysml:83a66275-79f9-4d22-aa8c-e03faa30289f\" xlink:actuate=\"onRequest\" xlink:href=\"psysml:83a66275-79f9-4d22-aa8c-e03faa30289f\" xlink:show=\"new\" xlink:title=\"psysml:83a66275-79f9-4d22-aa8c-e03faa30289f\" xlink:type=\"simple\"><rect fill=\"#FFFFFF\" height=\"45.9375\" id=\"E3\" rx=\"10\" ry=\"10\" style=\"stroke: #383838; stroke-width: 1.5;\" width=\"42\" x=\"109\" y=\"359\"/><text fill=\"#000000\" font-family=\"sans-serif\" font-size=\"12\" font-style=\"italic\" lengthAdjust=\"spacingAndGlyphs\" textLength=\"40\" x=\"110\" y=\"375.1387\">«part»</text><text fill=\"#000000\" font-family=\"sans-serif\" font-size=\"12\" lengthAdjust=\"spacingAndGlyphs\" textLength=\"6\" x=\"127\" y=\"389.1074\">x</text><line style=\"stroke: #383838; stroke-width: 1.5;\" x1=\"110\" x2=\"150\" y1=\"396.9375\" y2=\"396.9375\"/></a><!--MD5=[ebbe1d658d1005bcc118a6aa81145e00]\n",
       "class E4--><a href=\"psysml:aa5ac9d5-4dfe-418e-90b4-d1e9d9002b4c\" target=\"_top\" title=\"psysml:aa5ac9d5-4dfe-418e-90b4-d1e9d9002b4c\" xlink:actuate=\"onRequest\" xlink:href=\"psysml:aa5ac9d5-4dfe-418e-90b4-d1e9d9002b4c\" xlink:show=\"new\" xlink:title=\"psysml:aa5ac9d5-4dfe-418e-90b4-d1e9d9002b4c\" xlink:type=\"simple\"><rect fill=\"#FFFFFF\" height=\"45.9375\" id=\"E4\" rx=\"10\" ry=\"10\" style=\"stroke: #383838; stroke-width: 1.5;\" width=\"42\" x=\"109\" y=\"465\"/><text fill=\"#000000\" font-family=\"sans-serif\" font-size=\"12\" font-style=\"italic\" lengthAdjust=\"spacingAndGlyphs\" textLength=\"40\" x=\"110\" y=\"481.1387\">«part»</text><text fill=\"#000000\" font-family=\"sans-serif\" font-size=\"12\" lengthAdjust=\"spacingAndGlyphs\" textLength=\"14\" x=\"123\" y=\"495.1074\">x1</text><line style=\"stroke: #383838; stroke-width: 1.5;\" x1=\"110\" x2=\"150\" y1=\"502.9375\" y2=\"502.9375\"/></a><!--MD5=[270fce915f116d4de14055a7c1d9a0f3]\n",
       "class E5--><a href=\"psysml:fe1eabcd-2f5c-4c92-bec8-31bd54db8461\" target=\"_top\" title=\"psysml:fe1eabcd-2f5c-4c92-bec8-31bd54db8461\" xlink:actuate=\"onRequest\" xlink:href=\"psysml:fe1eabcd-2f5c-4c92-bec8-31bd54db8461\" xlink:show=\"new\" xlink:title=\"psysml:fe1eabcd-2f5c-4c92-bec8-31bd54db8461\" xlink:type=\"simple\"><rect fill=\"#FFFFFF\" height=\"45.9375\" id=\"E5\" style=\"stroke: #383838; stroke-width: 1.5;\" width=\"66\" x=\"54\" y=\"41\"/><text fill=\"#000000\" font-family=\"sans-serif\" font-size=\"12\" font-style=\"italic\" lengthAdjust=\"spacingAndGlyphs\" textLength=\"64\" x=\"55\" y=\"57.1387\">«part def»</text><text fill=\"#000000\" font-family=\"sans-serif\" font-size=\"12\" lengthAdjust=\"spacingAndGlyphs\" textLength=\"8\" x=\"83\" y=\"71.1074\">P</text><line style=\"stroke: #383838; stroke-width: 1.5;\" x1=\"55\" x2=\"119\" y1=\"78.9375\" y2=\"78.9375\"/></a><!--MD5=[60a26617385b1d2d0262a64233df1f8d]\n",
       "class E6--><a href=\"psysml:06be23d5-21a7-42eb-83e3-f8e6bdc4a055\" target=\"_top\" title=\"psysml:06be23d5-21a7-42eb-83e3-f8e6bdc4a055\" xlink:actuate=\"onRequest\" xlink:href=\"psysml:06be23d5-21a7-42eb-83e3-f8e6bdc4a055\" xlink:show=\"new\" xlink:title=\"psysml:06be23d5-21a7-42eb-83e3-f8e6bdc4a055\" xlink:type=\"simple\"><rect fill=\"#FFFFFF\" height=\"45.9375\" id=\"E6\" rx=\"10\" ry=\"10\" style=\"stroke: #383838; stroke-width: 1.5;\" width=\"42\" x=\"32\" y=\"359\"/><text fill=\"#000000\" font-family=\"sans-serif\" font-size=\"12\" font-style=\"italic\" lengthAdjust=\"spacingAndGlyphs\" textLength=\"40\" x=\"33\" y=\"375.1387\">«part»</text><text fill=\"#000000\" font-family=\"sans-serif\" font-size=\"12\" lengthAdjust=\"spacingAndGlyphs\" textLength=\"6\" x=\"50\" y=\"389.1074\">y</text><line style=\"stroke: #383838; stroke-width: 1.5;\" x1=\"33\" x2=\"73\" y1=\"396.9375\" y2=\"396.9375\"/></a><!--MD5=[2156ba9850f5573cc1fc38a6a4b2f02b]\n",
       "class E7--><a href=\"psysml:32e0c838-e55d-456a-ac80-3fd98b88adbf\" target=\"_top\" title=\"psysml:32e0c838-e55d-456a-ac80-3fd98b88adbf\" xlink:actuate=\"onRequest\" xlink:href=\"psysml:32e0c838-e55d-456a-ac80-3fd98b88adbf\" xlink:show=\"new\" xlink:title=\"psysml:32e0c838-e55d-456a-ac80-3fd98b88adbf\" xlink:type=\"simple\"><rect fill=\"#FFFFFF\" height=\"45.9375\" id=\"E7\" rx=\"10\" ry=\"10\" style=\"stroke: #383838; stroke-width: 1.5;\" width=\"42\" x=\"89\" y=\"147\"/><text fill=\"#000000\" font-family=\"sans-serif\" font-size=\"12\" font-style=\"italic\" lengthAdjust=\"spacingAndGlyphs\" textLength=\"40\" x=\"90\" y=\"163.1387\">«part»</text><text fill=\"#000000\" font-family=\"sans-serif\" font-size=\"12\" lengthAdjust=\"spacingAndGlyphs\" textLength=\"16\" x=\"102\" y=\"177.1074\">p1</text><line style=\"stroke: #383838; stroke-width: 1.5;\" x1=\"90\" x2=\"130\" y1=\"184.9375\" y2=\"184.9375\"/></a><!--MD5=[209b3feb70ccb6233bfe1053d122c12c]\n",
       "reverse link E2 to E3--><a href=\"psysml:96d6ab40-4f8f-4d11-a48f-d95a37d5e194\" target=\"_top\" title=\"psysml:96d6ab40-4f8f-4d11-a48f-d95a37d5e194\" xlink:actuate=\"onRequest\" xlink:href=\"psysml:96d6ab40-4f8f-4d11-a48f-d95a37d5e194\" xlink:show=\"new\" xlink:title=\"psysml:96d6ab40-4f8f-4d11-a48f-d95a37d5e194\" xlink:type=\"simple\"><path d=\"M116.72,311.96 C119.71,327.51 123.14,345.33 125.76,358.98 \" fill=\"none\" id=\"E2&lt;-E3\" style=\"stroke: #383838; stroke-width: 1.0;\"/><polygon fill=\"#383838\" points=\"114.24,299.06,111.447,305.7082,116.5096,310.8434,119.3026,304.1952,114.24,299.06\" style=\"stroke: #383838; stroke-width: 1.0;\"/><text fill=\"#000000\" font-family=\"sans-serif\" font-size=\"13\" lengthAdjust=\"spacingAndGlyphs\" textLength=\"8\" x=\"115.5455\" y=\"347.8709\">1</text></a><!--MD5=[4672eba38e49728da53d11aeb285b987]\n",
       "reverse link E3 to E4--><a href=\"psysml:15b45894-f404-4f26-aaef-cf96b8c0ca99\" target=\"_top\" title=\"psysml:15b45894-f404-4f26-aaef-cf96b8c0ca99\" xlink:actuate=\"onRequest\" xlink:href=\"psysml:15b45894-f404-4f26-aaef-cf96b8c0ca99\" xlink:show=\"new\" xlink:title=\"psysml:15b45894-f404-4f26-aaef-cf96b8c0ca99\" xlink:type=\"simple\"><path d=\"M130,418.44 C130,433.87 130,451.47 130,464.98 \" fill=\"none\" id=\"E3&lt;-E4\" style=\"stroke: #383838; stroke-width: 1.0;\"/><polygon fill=\"#383838\" points=\"130,405.06,126,411.06,130,417.06,134,411.06,130,405.06\" style=\"stroke: #383838; stroke-width: 1.0;\"/><text fill=\"#000000\" font-family=\"sans-serif\" font-size=\"13\" lengthAdjust=\"spacingAndGlyphs\" textLength=\"8\" x=\"120.925\" y=\"453.8709\">1</text></a><!--MD5=[85d356282659285ab4b2cfe2f634dd2b]\n",
       "reverse link E5 to E6--><a href=\"psysml:e9a2dbd2-75b9-45f4-aecc-a2c2183931e9\" target=\"_top\" title=\"psysml:e9a2dbd2-75b9-45f4-aecc-a2c2183931e9\" xlink:actuate=\"onRequest\" xlink:href=\"psysml:e9a2dbd2-75b9-45f4-aecc-a2c2183931e9\" xlink:show=\"new\" xlink:title=\"psysml:e9a2dbd2-75b9-45f4-aecc-a2c2183931e9\" xlink:type=\"simple\"><path d=\"M80.53,100.36 C76.47,122.55 72,147 72,147 C72,147 59.52,300.73 54.79,358.99 \" fill=\"none\" id=\"E5&lt;-E6\" style=\"stroke: #383838; stroke-width: 1.0;\"/><polygon fill=\"#383838\" points=\"82.9,87.41,77.8897,92.5962,80.7499,99.2158,85.7602,94.0296,82.9,87.41\" style=\"stroke: #383838; stroke-width: 1.0;\"/><text fill=\"#000000\" font-family=\"sans-serif\" font-size=\"13\" lengthAdjust=\"spacingAndGlyphs\" textLength=\"8\" x=\"46.1961\" y=\"347.8836\">1</text></a><!--MD5=[e3e28c1befcf002155aa15e1416b4315]\n",
       "link E2 to E6--><a href=\"psysml:2b37c4a5-3576-4b38-9831-53a66373adf4\" target=\"_top\" title=\"psysml:2b37c4a5-3576-4b38-9831-53a66373adf4\" xlink:actuate=\"onRequest\" xlink:href=\"psysml:2b37c4a5-3576-4b38-9831-53a66373adf4\" xlink:show=\"new\" xlink:title=\"psysml:2b37c4a5-3576-4b38-9831-53a66373adf4\" xlink:type=\"simple\"><path d=\"M97.91,299.06 C88.24,316.7 74.74,341.34 65.07,358.98 \" fill=\"none\" id=\"E2-E6\" style=\"stroke: #383838; stroke-width: 3.0;\"/><text fill=\"#000000\" font-family=\"sans-serif\" font-size=\"13\" lengthAdjust=\"spacingAndGlyphs\" textLength=\"7\" x=\"60.3732\" y=\"347.8709\">*</text></a><!--MD5=[452b418e7f8a40397a49b8c0a78acc5b]\n",
       "reverse link E5 to E7--><a href=\"psysml:0433d7bc-4d61-42a3-98d7-5077bd02d97e\" target=\"_top\" title=\"psysml:0433d7bc-4d61-42a3-98d7-5077bd02d97e\" xlink:actuate=\"onRequest\" xlink:href=\"psysml:0433d7bc-4d61-42a3-98d7-5077bd02d97e\" xlink:show=\"new\" xlink:title=\"psysml:0433d7bc-4d61-42a3-98d7-5077bd02d97e\" xlink:type=\"simple\"><path d=\"M94.73,99.96 C98.17,115.51 102.11,133.33 105.13,146.98 \" fill=\"none\" id=\"E5&lt;-E7\" style=\"stroke: #383838; stroke-width: 1.0;\"/><polygon fill=\"#383838\" points=\"91.88,87.06,89.2656,93.7805,94.4636,98.7786,97.078,92.0581,91.88,87.06\" style=\"stroke: #383838; stroke-width: 1.0;\"/><text fill=\"#000000\" font-family=\"sans-serif\" font-size=\"13\" lengthAdjust=\"spacingAndGlyphs\" textLength=\"8\" x=\"94.7462\" y=\"135.8709\">1</text></a><!--MD5=[583832df87f4419a098336a29a52fa00]\n",
       "link E7 to E2--><a href=\"psysml:d6550333-67eb-4da5-a08d-e8c2ba9c3c42\" target=\"_top\" title=\"psysml:d6550333-67eb-4da5-a08d-e8c2ba9c3c42\" xlink:actuate=\"onRequest\" xlink:href=\"psysml:d6550333-67eb-4da5-a08d-e8c2ba9c3c42\" xlink:show=\"new\" xlink:title=\"psysml:d6550333-67eb-4da5-a08d-e8c2ba9c3c42\" xlink:type=\"simple\"><path d=\"M110,193.06 C110,204.64 110,219.23 110,232.87 \" fill=\"none\" id=\"E7-&gt;E2\" style=\"stroke: #383838; stroke-width: 1.0;\"/><polygon fill=\"none\" points=\"117,232.98,110,252.98,103,232.98,117,232.98\" style=\"stroke: #383838; stroke-width: 1.0;\"/></a><!--MD5=[67942b3a5bd4cb2bf6de926b5186dd33]\n",
       "@startuml\r\n",
       "skinparam linetype polyline\r\n",
       "skinparam monochrome true\r\n",
       "skinparam classbackgroundcolor white\r\n",
       "skinparam shadowing false\r\n",
       "skinparam wrapWidth 300\r\n",
       "hide circle\r\n",
       "\r\n",
       "package \"ConnectionTest\" as E1  [[psysml:316d1b7b-e6b7-4d49-a637-31383ba5712a ]]  {\r\n",
       "comp usage \"p\" as E2  <<(T,blue) part>> [[psysml:c01c1eb8-4402-477c-affb-a3d93aa1c07f ]] {\r\n",
       "}\r\n",
       "comp usage \"x\" as E3  <<(T,blue) part>> [[psysml:83a66275-79f9-4d22-aa8c-e03faa30289f ]] {\r\n",
       "}\r\n",
       "comp usage \"x1\" as E4  <<(T,blue) part>> [[psysml:aa5ac9d5-4dfe-418e-90b4-d1e9d9002b4c ]] {\r\n",
       "}\r\n",
       "comp def \"P\" as E5  <<(T,blue) part def>> [[psysml:fe1eabcd-2f5c-4c92-bec8-31bd54db8461 ]] {\r\n",
       "}\r\n",
       "comp usage \"y\" as E6  <<(T,blue) part>> [[psysml:06be23d5-21a7-42eb-83e3-f8e6bdc4a055 ]] {\r\n",
       "}\r\n",
       "comp usage \"p1\" as E7  <<(T,blue) part>> [[psysml:32e0c838-e55d-456a-ac80-3fd98b88adbf ]] {\r\n",
       "}\r\n",
       "E2 *- - \"1\"E3 [[psysml:96d6ab40-4f8f-4d11-a48f-d95a37d5e194 ]] \r\n",
       "E3 *- - \"1\"E4 [[psysml:15b45894-f404-4f26-aaef-cf96b8c0ca99 ]] \r\n",
       "E5 *- - \"1\"E6 [[psysml:e9a2dbd2-75b9-45f4-aecc-a2c2183931e9 ]] \r\n",
       "E2 -[thickness=3]- \"*\"E6 [[psysml:2b37c4a5-3576-4b38-9831-53a66373adf4 ]] \r\n",
       "E5 *- - \"1\"E7 [[psysml:0433d7bc-4d61-42a3-98d7-5077bd02d97e ]] \r\n",
       "E7 - -|> E2 [[psysml:d6550333-67eb-4da5-a08d-e8c2ba9c3c42 ]] \r\n",
       "}\r\n",
       "@enduml\r\n",
       "\n",
       "PlantUML version 1.2020.13(Sat Jun 13 12:26:38 UTC 2020)\n",
       "(EPL source distribution)\n",
       "Java Runtime: OpenJDK Runtime Environment\n",
       "JVM: OpenJDK 64-Bit Server VM\n",
       "Default Encoding: UTF-8\n",
       "Language: en\n",
       "Country: null\n",
       "--></g></svg>"
      ]
     },
     "execution_count": 9,
     "metadata": {},
     "output_type": "execute_result"
    }
   ],
   "source": [
    "%viz --style=\"POLYLINE\" --view=\"Default\" \"ConnectionTest\""
   ]
  },
  {
   "cell_type": "code",
   "execution_count": 10,
   "id": "264fbc39",
   "metadata": {
    "execution": {
     "iopub.execute_input": "2021-08-04T06:28:52.089820Z",
     "iopub.status.busy": "2021-08-04T06:28:52.089389Z",
     "iopub.status.idle": "2021-08-04T06:28:52.127715Z",
     "shell.execute_reply": "2021-08-04T06:28:52.126582Z"
    }
   },
   "outputs": [
    {
     "data": {
      "image/svg+xml": [
       "<?xml version=\"1.0\" encoding=\"UTF-8\" standalone=\"no\"?><svg xmlns=\"http://www.w3.org/2000/svg\" xmlns:xlink=\"http://www.w3.org/1999/xlink\" contentScriptType=\"application/ecmascript\" contentStyleType=\"text/css\" height=\"539px\" preserveAspectRatio=\"none\" style=\"width:189px;height:539px;\" version=\"1.1\" viewBox=\"0 0 189 539\" width=\"189px\" zoomAndPan=\"magnify\"><defs/><g><!--MD5=[fbc87193dbaf4d95561dea2c320d4a47]\n",
       "cluster E1--><a href=\"psysml:316d1b7b-e6b7-4d49-a637-31383ba5712a\" target=\"_top\" title=\"psysml:316d1b7b-e6b7-4d49-a637-31383ba5712a\" xlink:actuate=\"onRequest\" xlink:href=\"psysml:316d1b7b-e6b7-4d49-a637-31383ba5712a\" xlink:show=\"new\" xlink:title=\"psysml:316d1b7b-e6b7-4d49-a637-31383ba5712a\" xlink:type=\"simple\"><polygon fill=\"#FFFFFF\" points=\"16,6,147,6,154,28.2969,167,28.2969,167,527,16,527,16,6\" style=\"stroke: #000000; stroke-width: 1.5;\"/><line style=\"stroke: #000000; stroke-width: 1.5;\" x1=\"16\" x2=\"154\" y1=\"28.2969\" y2=\"28.2969\"/><text fill=\"#000000\" font-family=\"sans-serif\" font-size=\"14\" font-weight=\"bold\" lengthAdjust=\"spacingAndGlyphs\" textLength=\"125\" x=\"20\" y=\"20.9951\">ConnectionTest</text></a><!--MD5=[b4997ac47864f28c2f74865a473b2911]\n",
       "class E2--><a href=\"psysml:c01c1eb8-4402-477c-affb-a3d93aa1c07f\" target=\"_top\" title=\"psysml:c01c1eb8-4402-477c-affb-a3d93aa1c07f\" xlink:actuate=\"onRequest\" xlink:href=\"psysml:c01c1eb8-4402-477c-affb-a3d93aa1c07f\" xlink:show=\"new\" xlink:title=\"psysml:c01c1eb8-4402-477c-affb-a3d93aa1c07f\" xlink:type=\"simple\"><rect fill=\"#FFFFFF\" height=\"45.9375\" id=\"E2\" rx=\"10\" ry=\"10\" style=\"stroke: #383838; stroke-width: 1.5;\" width=\"42\" x=\"89\" y=\"253\"/><text fill=\"#000000\" font-family=\"sans-serif\" font-size=\"12\" font-style=\"italic\" lengthAdjust=\"spacingAndGlyphs\" textLength=\"40\" x=\"90\" y=\"269.1387\">«part»</text><text fill=\"#000000\" font-family=\"sans-serif\" font-size=\"12\" lengthAdjust=\"spacingAndGlyphs\" textLength=\"8\" x=\"106\" y=\"283.1074\">p</text><line style=\"stroke: #383838; stroke-width: 1.5;\" x1=\"90\" x2=\"130\" y1=\"290.9375\" y2=\"290.9375\"/></a><!--MD5=[09b614a08d8cba4a07c9adeb5e0fee81]\n",
       "class E3--><a href=\"psysml:83a66275-79f9-4d22-aa8c-e03faa30289f\" target=\"_top\" title=\"psysml:83a66275-79f9-4d22-aa8c-e03faa30289f\" xlink:actuate=\"onRequest\" xlink:href=\"psysml:83a66275-79f9-4d22-aa8c-e03faa30289f\" xlink:show=\"new\" xlink:title=\"psysml:83a66275-79f9-4d22-aa8c-e03faa30289f\" xlink:type=\"simple\"><rect fill=\"#FFFFFF\" height=\"45.9375\" id=\"E3\" rx=\"10\" ry=\"10\" style=\"stroke: #383838; stroke-width: 1.5;\" width=\"42\" x=\"109\" y=\"359\"/><text fill=\"#000000\" font-family=\"sans-serif\" font-size=\"12\" font-style=\"italic\" lengthAdjust=\"spacingAndGlyphs\" textLength=\"40\" x=\"110\" y=\"375.1387\">«part»</text><text fill=\"#000000\" font-family=\"sans-serif\" font-size=\"12\" lengthAdjust=\"spacingAndGlyphs\" textLength=\"6\" x=\"127\" y=\"389.1074\">x</text><line style=\"stroke: #383838; stroke-width: 1.5;\" x1=\"110\" x2=\"150\" y1=\"396.9375\" y2=\"396.9375\"/></a><!--MD5=[ebbe1d658d1005bcc118a6aa81145e00]\n",
       "class E4--><a href=\"psysml:aa5ac9d5-4dfe-418e-90b4-d1e9d9002b4c\" target=\"_top\" title=\"psysml:aa5ac9d5-4dfe-418e-90b4-d1e9d9002b4c\" xlink:actuate=\"onRequest\" xlink:href=\"psysml:aa5ac9d5-4dfe-418e-90b4-d1e9d9002b4c\" xlink:show=\"new\" xlink:title=\"psysml:aa5ac9d5-4dfe-418e-90b4-d1e9d9002b4c\" xlink:type=\"simple\"><rect fill=\"#FFFFFF\" height=\"45.9375\" id=\"E4\" rx=\"10\" ry=\"10\" style=\"stroke: #383838; stroke-width: 1.5;\" width=\"42\" x=\"109\" y=\"465\"/><text fill=\"#000000\" font-family=\"sans-serif\" font-size=\"12\" font-style=\"italic\" lengthAdjust=\"spacingAndGlyphs\" textLength=\"40\" x=\"110\" y=\"481.1387\">«part»</text><text fill=\"#000000\" font-family=\"sans-serif\" font-size=\"12\" lengthAdjust=\"spacingAndGlyphs\" textLength=\"14\" x=\"123\" y=\"495.1074\">x1</text><line style=\"stroke: #383838; stroke-width: 1.5;\" x1=\"110\" x2=\"150\" y1=\"502.9375\" y2=\"502.9375\"/></a><!--MD5=[270fce915f116d4de14055a7c1d9a0f3]\n",
       "class E5--><a href=\"psysml:fe1eabcd-2f5c-4c92-bec8-31bd54db8461\" target=\"_top\" title=\"psysml:fe1eabcd-2f5c-4c92-bec8-31bd54db8461\" xlink:actuate=\"onRequest\" xlink:href=\"psysml:fe1eabcd-2f5c-4c92-bec8-31bd54db8461\" xlink:show=\"new\" xlink:title=\"psysml:fe1eabcd-2f5c-4c92-bec8-31bd54db8461\" xlink:type=\"simple\"><rect fill=\"#FFFFFF\" height=\"45.9375\" id=\"E5\" style=\"stroke: #383838; stroke-width: 1.5;\" width=\"66\" x=\"54\" y=\"41\"/><text fill=\"#000000\" font-family=\"sans-serif\" font-size=\"12\" font-style=\"italic\" lengthAdjust=\"spacingAndGlyphs\" textLength=\"64\" x=\"55\" y=\"57.1387\">«part def»</text><text fill=\"#000000\" font-family=\"sans-serif\" font-size=\"12\" lengthAdjust=\"spacingAndGlyphs\" textLength=\"8\" x=\"83\" y=\"71.1074\">P</text><line style=\"stroke: #383838; stroke-width: 1.5;\" x1=\"55\" x2=\"119\" y1=\"78.9375\" y2=\"78.9375\"/></a><!--MD5=[60a26617385b1d2d0262a64233df1f8d]\n",
       "class E6--><a href=\"psysml:06be23d5-21a7-42eb-83e3-f8e6bdc4a055\" target=\"_top\" title=\"psysml:06be23d5-21a7-42eb-83e3-f8e6bdc4a055\" xlink:actuate=\"onRequest\" xlink:href=\"psysml:06be23d5-21a7-42eb-83e3-f8e6bdc4a055\" xlink:show=\"new\" xlink:title=\"psysml:06be23d5-21a7-42eb-83e3-f8e6bdc4a055\" xlink:type=\"simple\"><rect fill=\"#FFFFFF\" height=\"45.9375\" id=\"E6\" rx=\"10\" ry=\"10\" style=\"stroke: #383838; stroke-width: 1.5;\" width=\"42\" x=\"32\" y=\"359\"/><text fill=\"#000000\" font-family=\"sans-serif\" font-size=\"12\" font-style=\"italic\" lengthAdjust=\"spacingAndGlyphs\" textLength=\"40\" x=\"33\" y=\"375.1387\">«part»</text><text fill=\"#000000\" font-family=\"sans-serif\" font-size=\"12\" lengthAdjust=\"spacingAndGlyphs\" textLength=\"6\" x=\"50\" y=\"389.1074\">y</text><line style=\"stroke: #383838; stroke-width: 1.5;\" x1=\"33\" x2=\"73\" y1=\"396.9375\" y2=\"396.9375\"/></a><!--MD5=[2156ba9850f5573cc1fc38a6a4b2f02b]\n",
       "class E7--><a href=\"psysml:32e0c838-e55d-456a-ac80-3fd98b88adbf\" target=\"_top\" title=\"psysml:32e0c838-e55d-456a-ac80-3fd98b88adbf\" xlink:actuate=\"onRequest\" xlink:href=\"psysml:32e0c838-e55d-456a-ac80-3fd98b88adbf\" xlink:show=\"new\" xlink:title=\"psysml:32e0c838-e55d-456a-ac80-3fd98b88adbf\" xlink:type=\"simple\"><rect fill=\"#FFFFFF\" height=\"45.9375\" id=\"E7\" rx=\"10\" ry=\"10\" style=\"stroke: #383838; stroke-width: 1.5;\" width=\"42\" x=\"89\" y=\"147\"/><text fill=\"#000000\" font-family=\"sans-serif\" font-size=\"12\" font-style=\"italic\" lengthAdjust=\"spacingAndGlyphs\" textLength=\"40\" x=\"90\" y=\"163.1387\">«part»</text><text fill=\"#000000\" font-family=\"sans-serif\" font-size=\"12\" lengthAdjust=\"spacingAndGlyphs\" textLength=\"16\" x=\"102\" y=\"177.1074\">p1</text><line style=\"stroke: #383838; stroke-width: 1.5;\" x1=\"90\" x2=\"130\" y1=\"184.9375\" y2=\"184.9375\"/></a><!--MD5=[209b3feb70ccb6233bfe1053d122c12c]\n",
       "reverse link E2 to E3--><a href=\"psysml:96d6ab40-4f8f-4d11-a48f-d95a37d5e194\" target=\"_top\" title=\"psysml:96d6ab40-4f8f-4d11-a48f-d95a37d5e194\" xlink:actuate=\"onRequest\" xlink:href=\"psysml:96d6ab40-4f8f-4d11-a48f-d95a37d5e194\" xlink:show=\"new\" xlink:title=\"psysml:96d6ab40-4f8f-4d11-a48f-d95a37d5e194\" xlink:type=\"simple\"><path d=\"M116.72,311.96 C119.71,327.51 123.14,345.33 125.76,358.98 \" fill=\"none\" id=\"E2&lt;-E3\" style=\"stroke: #383838; stroke-width: 1.0;\"/><polygon fill=\"#383838\" points=\"114.24,299.06,111.447,305.7082,116.5096,310.8434,119.3026,304.1952,114.24,299.06\" style=\"stroke: #383838; stroke-width: 1.0;\"/><text fill=\"#000000\" font-family=\"sans-serif\" font-size=\"13\" lengthAdjust=\"spacingAndGlyphs\" textLength=\"8\" x=\"115.5455\" y=\"347.8709\">1</text></a><!--MD5=[4672eba38e49728da53d11aeb285b987]\n",
       "reverse link E3 to E4--><a href=\"psysml:15b45894-f404-4f26-aaef-cf96b8c0ca99\" target=\"_top\" title=\"psysml:15b45894-f404-4f26-aaef-cf96b8c0ca99\" xlink:actuate=\"onRequest\" xlink:href=\"psysml:15b45894-f404-4f26-aaef-cf96b8c0ca99\" xlink:show=\"new\" xlink:title=\"psysml:15b45894-f404-4f26-aaef-cf96b8c0ca99\" xlink:type=\"simple\"><path d=\"M130,418.44 C130,433.87 130,451.47 130,464.98 \" fill=\"none\" id=\"E3&lt;-E4\" style=\"stroke: #383838; stroke-width: 1.0;\"/><polygon fill=\"#383838\" points=\"130,405.06,126,411.06,130,417.06,134,411.06,130,405.06\" style=\"stroke: #383838; stroke-width: 1.0;\"/><text fill=\"#000000\" font-family=\"sans-serif\" font-size=\"13\" lengthAdjust=\"spacingAndGlyphs\" textLength=\"8\" x=\"120.925\" y=\"453.8709\">1</text></a><!--MD5=[85d356282659285ab4b2cfe2f634dd2b]\n",
       "reverse link E5 to E6--><a href=\"psysml:e9a2dbd2-75b9-45f4-aecc-a2c2183931e9\" target=\"_top\" title=\"psysml:e9a2dbd2-75b9-45f4-aecc-a2c2183931e9\" xlink:actuate=\"onRequest\" xlink:href=\"psysml:e9a2dbd2-75b9-45f4-aecc-a2c2183931e9\" xlink:show=\"new\" xlink:title=\"psysml:e9a2dbd2-75b9-45f4-aecc-a2c2183931e9\" xlink:type=\"simple\"><path d=\"M80.53,100.36 C76.47,122.55 72,147 72,147 C72,147 59.52,300.73 54.79,358.99 \" fill=\"none\" id=\"E5&lt;-E6\" style=\"stroke: #383838; stroke-width: 1.0;\"/><polygon fill=\"#383838\" points=\"82.9,87.41,77.8897,92.5962,80.7499,99.2158,85.7602,94.0296,82.9,87.41\" style=\"stroke: #383838; stroke-width: 1.0;\"/><text fill=\"#000000\" font-family=\"sans-serif\" font-size=\"13\" lengthAdjust=\"spacingAndGlyphs\" textLength=\"8\" x=\"46.1961\" y=\"347.8836\">1</text></a><!--MD5=[e3e28c1befcf002155aa15e1416b4315]\n",
       "link E2 to E6--><a href=\"psysml:2b37c4a5-3576-4b38-9831-53a66373adf4\" target=\"_top\" title=\"psysml:2b37c4a5-3576-4b38-9831-53a66373adf4\" xlink:actuate=\"onRequest\" xlink:href=\"psysml:2b37c4a5-3576-4b38-9831-53a66373adf4\" xlink:show=\"new\" xlink:title=\"psysml:2b37c4a5-3576-4b38-9831-53a66373adf4\" xlink:type=\"simple\"><path d=\"M97.91,299.06 C88.24,316.7 74.74,341.34 65.07,358.98 \" fill=\"none\" id=\"E2-E6\" style=\"stroke: #383838; stroke-width: 3.0;\"/><text fill=\"#000000\" font-family=\"sans-serif\" font-size=\"13\" lengthAdjust=\"spacingAndGlyphs\" textLength=\"7\" x=\"60.3732\" y=\"347.8709\">*</text></a><!--MD5=[452b418e7f8a40397a49b8c0a78acc5b]\n",
       "reverse link E5 to E7--><a href=\"psysml:0433d7bc-4d61-42a3-98d7-5077bd02d97e\" target=\"_top\" title=\"psysml:0433d7bc-4d61-42a3-98d7-5077bd02d97e\" xlink:actuate=\"onRequest\" xlink:href=\"psysml:0433d7bc-4d61-42a3-98d7-5077bd02d97e\" xlink:show=\"new\" xlink:title=\"psysml:0433d7bc-4d61-42a3-98d7-5077bd02d97e\" xlink:type=\"simple\"><path d=\"M94.73,99.96 C98.17,115.51 102.11,133.33 105.13,146.98 \" fill=\"none\" id=\"E5&lt;-E7\" style=\"stroke: #383838; stroke-width: 1.0;\"/><polygon fill=\"#383838\" points=\"91.88,87.06,89.2656,93.7805,94.4636,98.7786,97.078,92.0581,91.88,87.06\" style=\"stroke: #383838; stroke-width: 1.0;\"/><text fill=\"#000000\" font-family=\"sans-serif\" font-size=\"13\" lengthAdjust=\"spacingAndGlyphs\" textLength=\"8\" x=\"94.7462\" y=\"135.8709\">1</text></a><!--MD5=[583832df87f4419a098336a29a52fa00]\n",
       "link E7 to E2--><a href=\"psysml:d6550333-67eb-4da5-a08d-e8c2ba9c3c42\" target=\"_top\" title=\"psysml:d6550333-67eb-4da5-a08d-e8c2ba9c3c42\" xlink:actuate=\"onRequest\" xlink:href=\"psysml:d6550333-67eb-4da5-a08d-e8c2ba9c3c42\" xlink:show=\"new\" xlink:title=\"psysml:d6550333-67eb-4da5-a08d-e8c2ba9c3c42\" xlink:type=\"simple\"><path d=\"M110,193.06 C110,204.64 110,219.23 110,232.87 \" fill=\"none\" id=\"E7-&gt;E2\" style=\"stroke: #383838; stroke-width: 1.0;\"/><polygon fill=\"none\" points=\"117,232.98,110,252.98,103,232.98,117,232.98\" style=\"stroke: #383838; stroke-width: 1.0;\"/></a><!--MD5=[67942b3a5bd4cb2bf6de926b5186dd33]\n",
       "@startuml\r\n",
       "skinparam linetype polyline\r\n",
       "skinparam monochrome true\r\n",
       "skinparam classbackgroundcolor white\r\n",
       "skinparam shadowing false\r\n",
       "skinparam wrapWidth 300\r\n",
       "hide circle\r\n",
       "\r\n",
       "package \"ConnectionTest\" as E1  [[psysml:316d1b7b-e6b7-4d49-a637-31383ba5712a ]]  {\r\n",
       "comp usage \"p\" as E2  <<(T,blue) part>> [[psysml:c01c1eb8-4402-477c-affb-a3d93aa1c07f ]] {\r\n",
       "}\r\n",
       "comp usage \"x\" as E3  <<(T,blue) part>> [[psysml:83a66275-79f9-4d22-aa8c-e03faa30289f ]] {\r\n",
       "}\r\n",
       "comp usage \"x1\" as E4  <<(T,blue) part>> [[psysml:aa5ac9d5-4dfe-418e-90b4-d1e9d9002b4c ]] {\r\n",
       "}\r\n",
       "comp def \"P\" as E5  <<(T,blue) part def>> [[psysml:fe1eabcd-2f5c-4c92-bec8-31bd54db8461 ]] {\r\n",
       "}\r\n",
       "comp usage \"y\" as E6  <<(T,blue) part>> [[psysml:06be23d5-21a7-42eb-83e3-f8e6bdc4a055 ]] {\r\n",
       "}\r\n",
       "comp usage \"p1\" as E7  <<(T,blue) part>> [[psysml:32e0c838-e55d-456a-ac80-3fd98b88adbf ]] {\r\n",
       "}\r\n",
       "E2 *- - \"1\"E3 [[psysml:96d6ab40-4f8f-4d11-a48f-d95a37d5e194 ]] \r\n",
       "E3 *- - \"1\"E4 [[psysml:15b45894-f404-4f26-aaef-cf96b8c0ca99 ]] \r\n",
       "E5 *- - \"1\"E6 [[psysml:e9a2dbd2-75b9-45f4-aecc-a2c2183931e9 ]] \r\n",
       "E2 -[thickness=3]- \"*\"E6 [[psysml:2b37c4a5-3576-4b38-9831-53a66373adf4 ]] \r\n",
       "E5 *- - \"1\"E7 [[psysml:0433d7bc-4d61-42a3-98d7-5077bd02d97e ]] \r\n",
       "E7 - -|> E2 [[psysml:d6550333-67eb-4da5-a08d-e8c2ba9c3c42 ]] \r\n",
       "}\r\n",
       "@enduml\r\n",
       "\n",
       "PlantUML version 1.2020.13(Sat Jun 13 12:26:38 UTC 2020)\n",
       "(EPL source distribution)\n",
       "Java Runtime: OpenJDK Runtime Environment\n",
       "JVM: OpenJDK 64-Bit Server VM\n",
       "Default Encoding: UTF-8\n",
       "Language: en\n",
       "Country: null\n",
       "--></g></svg>"
      ]
     },
     "execution_count": 10,
     "metadata": {},
     "output_type": "execute_result"
    }
   ],
   "source": [
    "%viz --style=\"POLYLINE\" --view=\"Tree\" \"ConnectionTest\""
   ]
  },
  {
   "cell_type": "code",
   "execution_count": 11,
   "id": "387c2365",
   "metadata": {
    "execution": {
     "iopub.execute_input": "2021-08-04T06:28:52.178102Z",
     "iopub.status.busy": "2021-08-04T06:28:52.177643Z",
     "iopub.status.idle": "2021-08-04T06:28:52.183422Z",
     "shell.execute_reply": "2021-08-04T06:28:52.183751Z"
    }
   },
   "outputs": [
    {
     "data": {
      "image/svg+xml": [
       "<?xml version=\"1.0\" encoding=\"UTF-8\" standalone=\"no\"?><svg xmlns=\"http://www.w3.org/2000/svg\" xmlns:xlink=\"http://www.w3.org/1999/xlink\" contentScriptType=\"application/ecmascript\" contentStyleType=\"text/css\" height=\"12px\" preserveAspectRatio=\"none\" style=\"width:12px;height:12px;\" version=\"1.1\" viewBox=\"0 0 12 12\" width=\"12px\" zoomAndPan=\"magnify\"><defs/><g><!--MD5=[896ac0e7a515d8dd7765a661cb4ee08b]\n",
       "@startuml\r\n",
       "skinparam linetype polyline\r\n",
       "skinparam monochrome true\r\n",
       "skinparam classbackgroundcolor white\r\n",
       "skinparam shadowing false\r\n",
       "skinparam wrapWidth 300\r\n",
       "hide circle\r\n",
       "\r\n",
       "@enduml\r\n",
       "\n",
       "PlantUML version 1.2020.13(Sat Jun 13 12:26:38 UTC 2020)\n",
       "(EPL source distribution)\n",
       "Java Runtime: OpenJDK Runtime Environment\n",
       "JVM: OpenJDK 64-Bit Server VM\n",
       "Default Encoding: UTF-8\n",
       "Language: en\n",
       "Country: null\n",
       "--></g></svg>"
      ]
     },
     "execution_count": 11,
     "metadata": {},
     "output_type": "execute_result"
    }
   ],
   "source": [
    "%viz --style=\"POLYLINE\" --view=\"State\" \"ConnectionTest\""
   ]
  },
  {
   "cell_type": "code",
   "execution_count": 12,
   "id": "3cc5d6f7",
   "metadata": {
    "execution": {
     "iopub.execute_input": "2021-08-04T06:28:52.234456Z",
     "iopub.status.busy": "2021-08-04T06:28:52.233952Z",
     "iopub.status.idle": "2021-08-04T06:28:52.277052Z",
     "shell.execute_reply": "2021-08-04T06:28:52.276408Z"
    }
   },
   "outputs": [
    {
     "data": {
      "image/svg+xml": [
       "<?xml version=\"1.0\" encoding=\"UTF-8\" standalone=\"no\"?><svg xmlns=\"http://www.w3.org/2000/svg\" xmlns:xlink=\"http://www.w3.org/1999/xlink\" contentScriptType=\"application/ecmascript\" contentStyleType=\"text/css\" height=\"406px\" preserveAspectRatio=\"none\" style=\"width:509px;height:406px;\" version=\"1.1\" viewBox=\"0 0 509 406\" width=\"509px\" zoomAndPan=\"magnify\"><defs/><g><!--MD5=[fbc87193dbaf4d95561dea2c320d4a47]\n",
       "cluster E1--><a href=\"psysml:316d1b7b-e6b7-4d49-a637-31383ba5712a\" target=\"_top\" title=\"psysml:316d1b7b-e6b7-4d49-a637-31383ba5712a\" xlink:actuate=\"onRequest\" xlink:href=\"psysml:316d1b7b-e6b7-4d49-a637-31383ba5712a\" xlink:show=\"new\" xlink:title=\"psysml:316d1b7b-e6b7-4d49-a637-31383ba5712a\" xlink:type=\"simple\"><polygon fill=\"#FFFFFF\" points=\"16,6,147,6,154,28.2969,487,28.2969,487,394,16,394,16,6\" style=\"stroke: #000000; stroke-width: 1.5;\"/><line style=\"stroke: #000000; stroke-width: 1.5;\" x1=\"16\" x2=\"154\" y1=\"28.2969\" y2=\"28.2969\"/><text fill=\"#000000\" font-family=\"sans-serif\" font-size=\"14\" font-weight=\"bold\" lengthAdjust=\"spacingAndGlyphs\" textLength=\"125\" x=\"20\" y=\"20.9951\">ConnectionTest</text></a><!--MD5=[e4f7fae6ed58524ba242bb0b0d3be6b7]\n",
       "cluster E2--><a href=\"psysml:c01c1eb8-4402-477c-affb-a3d93aa1c07f\" target=\"_top\" title=\"psysml:c01c1eb8-4402-477c-affb-a3d93aa1c07f\" xlink:actuate=\"onRequest\" xlink:href=\"psysml:c01c1eb8-4402-477c-affb-a3d93aa1c07f\" xlink:show=\"new\" xlink:title=\"psysml:c01c1eb8-4402-477c-affb-a3d93aa1c07f\" xlink:type=\"simple\"><rect fill=\"#FFFFFF\" height=\"174\" id=\"E2\" rx=\"10\" ry=\"10\" style=\"stroke: #383838; stroke-width: 1.5;\" width=\"154\" x=\"301\" y=\"116\"/><rect fill=\"#F8F8F8\" height=\"23.9688\" rx=\"10\" ry=\"10\" style=\"stroke: #F8F8F8; stroke-width: 1.5;\" width=\"154\" x=\"301\" y=\"116\"/><rect fill=\"#F8F8F8\" height=\"10\" style=\"stroke: #F8F8F8; stroke-width: 1.5;\" width=\"154\" x=\"301\" y=\"129.9688\"/><rect fill=\"none\" height=\"174\" id=\"E2\" rx=\"10\" ry=\"10\" style=\"stroke: #383838; stroke-width: 1.5;\" width=\"154\" x=\"301\" y=\"116\"/><text fill=\"#000000\" font-family=\"sans-serif\" font-size=\"12\" lengthAdjust=\"spacingAndGlyphs\" textLength=\"8\" x=\"374\" y=\"132.1387\">p</text><line style=\"stroke: #383838; stroke-width: 1.0;\" x1=\"301\" x2=\"455\" y1=\"139.9688\" y2=\"139.9688\"/></a><!--MD5=[d5e69f78d87373223dbae638b30a9c99]\n",
       "cluster E3--><a href=\"psysml:83a66275-79f9-4d22-aa8c-e03faa30289f\" target=\"_top\" title=\"psysml:83a66275-79f9-4d22-aa8c-e03faa30289f\" xlink:actuate=\"onRequest\" xlink:href=\"psysml:83a66275-79f9-4d22-aa8c-e03faa30289f\" xlink:show=\"new\" xlink:title=\"psysml:83a66275-79f9-4d22-aa8c-e03faa30289f\" xlink:type=\"simple\"><rect fill=\"#FFFFFF\" height=\"91\" id=\"E3\" rx=\"10\" ry=\"10\" style=\"stroke: #383838; stroke-width: 1.5;\" width=\"82\" x=\"341\" y=\"167\"/><rect fill=\"#F8F8F8\" height=\"23.9688\" rx=\"10\" ry=\"10\" style=\"stroke: #F8F8F8; stroke-width: 1.5;\" width=\"82\" x=\"341\" y=\"167\"/><rect fill=\"#F8F8F8\" height=\"10\" style=\"stroke: #F8F8F8; stroke-width: 1.5;\" width=\"82\" x=\"341\" y=\"180.9688\"/><rect fill=\"none\" height=\"91\" id=\"E3\" rx=\"10\" ry=\"10\" style=\"stroke: #383838; stroke-width: 1.5;\" width=\"82\" x=\"341\" y=\"167\"/><text fill=\"#000000\" font-family=\"sans-serif\" font-size=\"12\" lengthAdjust=\"spacingAndGlyphs\" textLength=\"6\" x=\"379\" y=\"183.1387\">x</text><line style=\"stroke: #383838; stroke-width: 1.0;\" x1=\"341\" x2=\"423\" y1=\"190.9688\" y2=\"190.9688\"/></a><!--MD5=[de5ec2e2e8f62f467e546659f5068c88]\n",
       "cluster E5--><a href=\"psysml:fe1eabcd-2f5c-4c92-bec8-31bd54db8461\" target=\"_top\" title=\"psysml:fe1eabcd-2f5c-4c92-bec8-31bd54db8461\" xlink:actuate=\"onRequest\" xlink:href=\"psysml:fe1eabcd-2f5c-4c92-bec8-31bd54db8461\" xlink:show=\"new\" xlink:title=\"psysml:fe1eabcd-2f5c-4c92-bec8-31bd54db8461\" xlink:type=\"simple\"><rect fill=\"#FFFFFF\" height=\"321\" id=\"E5\" style=\"stroke: #383838; stroke-width: 1.5;\" width=\"229\" x=\"40\" y=\"49\"/><rect fill=\"#F8F8F8\" height=\"37.9375\" style=\"stroke: #383838; stroke-width: 1.5;\" width=\"229\" x=\"40\" y=\"49\"/><text fill=\"#000000\" font-family=\"sans-serif\" font-size=\"12\" font-style=\"italic\" lengthAdjust=\"spacingAndGlyphs\" textLength=\"64\" x=\"122.5\" y=\"65.1387\">«part def»</text><text fill=\"#000000\" font-family=\"sans-serif\" font-size=\"12\" lengthAdjust=\"spacingAndGlyphs\" textLength=\"8\" x=\"150.5\" y=\"79.1074\">P</text></a><!--MD5=[168fadf3d0c3fd93dd5d6da1b1d7ab76]\n",
       "cluster E7--><a href=\"psysml:32e0c838-e55d-456a-ac80-3fd98b88adbf\" target=\"_top\" title=\"psysml:32e0c838-e55d-456a-ac80-3fd98b88adbf\" xlink:actuate=\"onRequest\" xlink:href=\"psysml:32e0c838-e55d-456a-ac80-3fd98b88adbf\" xlink:show=\"new\" xlink:title=\"psysml:32e0c838-e55d-456a-ac80-3fd98b88adbf\" xlink:type=\"simple\"><rect fill=\"#FFFFFF\" height=\"190\" id=\"E7\" rx=\"10\" ry=\"10\" style=\"stroke: #383838; stroke-width: 1.5;\" width=\"181\" x=\"64\" y=\"108\"/><rect fill=\"#F8F8F8\" height=\"23.9688\" rx=\"10\" ry=\"10\" style=\"stroke: #F8F8F8; stroke-width: 1.5;\" width=\"181\" x=\"64\" y=\"108\"/><rect fill=\"#F8F8F8\" height=\"10\" style=\"stroke: #F8F8F8; stroke-width: 1.5;\" width=\"181\" x=\"64\" y=\"121.9688\"/><rect fill=\"none\" height=\"190\" id=\"E7\" rx=\"10\" ry=\"10\" style=\"stroke: #383838; stroke-width: 1.5;\" width=\"181\" x=\"64\" y=\"108\"/><text fill=\"#000000\" font-family=\"sans-serif\" font-size=\"12\" lengthAdjust=\"spacingAndGlyphs\" textLength=\"16\" x=\"146.5\" y=\"124.1387\">p1</text><line style=\"stroke: #383838; stroke-width: 1.0;\" x1=\"64\" x2=\"245\" y1=\"131.9688\" y2=\"131.9688\"/></a><!--MD5=[55dfccfc6c49c2d10cd1bd2211a6c90c]\n",
       "cluster E8--><a href=\"psysml:83a66275-79f9-4d22-aa8c-e03faa30289f\" target=\"_top\" title=\"psysml:83a66275-79f9-4d22-aa8c-e03faa30289f\" xlink:actuate=\"onRequest\" xlink:href=\"psysml:83a66275-79f9-4d22-aa8c-e03faa30289f\" xlink:show=\"new\" xlink:title=\"psysml:83a66275-79f9-4d22-aa8c-e03faa30289f\" xlink:type=\"simple\"><rect fill=\"#FFFFFF\" height=\"107\" id=\"E8\" rx=\"10\" ry=\"10\" style=\"stroke: #383838; stroke-width: 1.5;\" width=\"117\" x=\"96\" y=\"159\"/><rect fill=\"#F8F8F8\" height=\"23.9688\" rx=\"10\" ry=\"10\" style=\"stroke: #F8F8F8; stroke-width: 1.5;\" width=\"117\" x=\"96\" y=\"159\"/><rect fill=\"#F8F8F8\" height=\"10\" style=\"stroke: #F8F8F8; stroke-width: 1.5;\" width=\"117\" x=\"96\" y=\"172.9688\"/><rect fill=\"none\" height=\"107\" id=\"E8\" rx=\"10\" ry=\"10\" style=\"stroke: #383838; stroke-width: 1.5;\" width=\"117\" x=\"96\" y=\"159\"/><text fill=\"#000000\" font-family=\"sans-serif\" font-size=\"12\" lengthAdjust=\"spacingAndGlyphs\" textLength=\"16\" x=\"146.5\" y=\"175.1387\">^x</text><line style=\"stroke: #383838; stroke-width: 1.0;\" x1=\"96\" x2=\"213\" y1=\"182.9688\" y2=\"182.9688\"/></a><g id=\"E1.E2.E3.E4\"><a href=\"psysml:aa5ac9d5-4dfe-418e-90b4-d1e9d9002b4c\" target=\"_top\" title=\"psysml:aa5ac9d5-4dfe-418e-90b4-d1e9d9002b4c\" xlink:actuate=\"onRequest\" xlink:href=\"psysml:aa5ac9d5-4dfe-418e-90b4-d1e9d9002b4c\" xlink:show=\"new\" xlink:title=\"psysml:aa5ac9d5-4dfe-418e-90b4-d1e9d9002b4c\" xlink:type=\"simple\"><rect fill=\"#FFFFFF\" height=\"40\" id=\"E4\" rx=\"10\" ry=\"10\" style=\"stroke: #383838; stroke-width: 1.5;\" width=\"50\" x=\"357\" y=\"202\"/><rect fill=\"#F8F8F8\" height=\"23.9688\" rx=\"10\" ry=\"10\" style=\"stroke: #F8F8F8; stroke-width: 1.5;\" width=\"50\" x=\"357\" y=\"202\"/><rect fill=\"#F8F8F8\" height=\"10\" style=\"stroke: #F8F8F8; stroke-width: 1.5;\" width=\"50\" x=\"357\" y=\"215.9688\"/><rect fill=\"none\" height=\"40\" id=\"E4\" rx=\"10\" ry=\"10\" style=\"stroke: #383838; stroke-width: 1.5;\" width=\"50\" x=\"357\" y=\"202\"/><text fill=\"#000000\" font-family=\"sans-serif\" font-size=\"12\" lengthAdjust=\"spacingAndGlyphs\" textLength=\"14\" x=\"375\" y=\"218.1387\">x1</text></a></g><g id=\"E1.E5.E6\"><a href=\"psysml:06be23d5-21a7-42eb-83e3-f8e6bdc4a055\" target=\"_top\" title=\"psysml:06be23d5-21a7-42eb-83e3-f8e6bdc4a055\" xlink:actuate=\"onRequest\" xlink:href=\"psysml:06be23d5-21a7-42eb-83e3-f8e6bdc4a055\" xlink:show=\"new\" xlink:title=\"psysml:06be23d5-21a7-42eb-83e3-f8e6bdc4a055\" xlink:type=\"simple\"><rect fill=\"#FFFFFF\" height=\"40\" id=\"E6\" rx=\"10\" ry=\"10\" style=\"stroke: #383838; stroke-width: 1.5;\" width=\"50\" x=\"139\" y=\"314\"/><rect fill=\"#F8F8F8\" height=\"23.9688\" rx=\"10\" ry=\"10\" style=\"stroke: #F8F8F8; stroke-width: 1.5;\" width=\"50\" x=\"139\" y=\"314\"/><rect fill=\"#F8F8F8\" height=\"10\" style=\"stroke: #F8F8F8; stroke-width: 1.5;\" width=\"50\" x=\"139\" y=\"327.9688\"/><rect fill=\"none\" height=\"40\" id=\"E6\" rx=\"10\" ry=\"10\" style=\"stroke: #383838; stroke-width: 1.5;\" width=\"50\" x=\"139\" y=\"314\"/><text fill=\"#000000\" font-family=\"sans-serif\" font-size=\"12\" lengthAdjust=\"spacingAndGlyphs\" textLength=\"6\" x=\"161\" y=\"330.1387\">y</text></a></g><g id=\"E1.E5.E7.E8.E9\"><a href=\"psysml:aa5ac9d5-4dfe-418e-90b4-d1e9d9002b4c\" target=\"_top\" title=\"psysml:aa5ac9d5-4dfe-418e-90b4-d1e9d9002b4c\" xlink:actuate=\"onRequest\" xlink:href=\"psysml:aa5ac9d5-4dfe-418e-90b4-d1e9d9002b4c\" xlink:show=\"new\" xlink:title=\"psysml:aa5ac9d5-4dfe-418e-90b4-d1e9d9002b4c\" xlink:type=\"simple\"><rect fill=\"#FFFFFF\" height=\"40\" id=\"E9\" rx=\"10\" ry=\"10\" style=\"stroke: #383838; stroke-width: 1.5;\" width=\"50\" x=\"139\" y=\"202\"/><rect fill=\"#F8F8F8\" height=\"23.9688\" rx=\"10\" ry=\"10\" style=\"stroke: #F8F8F8; stroke-width: 1.5;\" width=\"50\" x=\"139\" y=\"202\"/><rect fill=\"#F8F8F8\" height=\"10\" style=\"stroke: #F8F8F8; stroke-width: 1.5;\" width=\"50\" x=\"139\" y=\"215.9688\"/><rect fill=\"none\" height=\"40\" id=\"E9\" rx=\"10\" ry=\"10\" style=\"stroke: #383838; stroke-width: 1.5;\" width=\"50\" x=\"139\" y=\"202\"/><text fill=\"#000000\" font-family=\"sans-serif\" font-size=\"12\" lengthAdjust=\"spacingAndGlyphs\" textLength=\"14\" x=\"157\" y=\"218.1387\">x1</text></a></g><!--MD5=[e3e28c1befcf002155aa15e1416b4315]\n",
       "link E2 to E6--><a href=\"psysml:2b37c4a5-3576-4b38-9831-53a66373adf4\" target=\"_top\" title=\"psysml:2b37c4a5-3576-4b38-9831-53a66373adf4\" xlink:actuate=\"onRequest\" xlink:href=\"psysml:2b37c4a5-3576-4b38-9831-53a66373adf4\" xlink:show=\"new\" xlink:title=\"psysml:2b37c4a5-3576-4b38-9831-53a66373adf4\" xlink:type=\"simple\"><path d=\"M300.713,229.6114 C300.5985,229.7029 300.4829,229.7951 300.3664,229.8881 C300.1333,230.0742 299.8962,230.2634 299.6552,230.4557 C299.1733,230.8404 298.6759,231.2374 298.1637,231.6462 C296.115,233.2814 293.8302,235.105 291.3578,237.0783 C281.4681,244.9716 268.5763,255.2606 255.7825,265.4712 C230.195,285.8925 205,306 205,306 C205,306 197.7,310.81 189.27,316.36 \" fill=\"none\" id=\"E2-E6\" style=\"stroke: #383838; stroke-width: 3.0;\"/><text fill=\"#000000\" font-family=\"sans-serif\" font-size=\"13\" lengthAdjust=\"spacingAndGlyphs\" textLength=\"7\" x=\"197.0019\" y=\"306.6884\">*</text></a><!--MD5=[c5e8897d989ce984f93528998a7150fe]\n",
       "link E8 to E6--><a href=\"psysml:55b22e92-f05f-458a-a067-1c48392866cc\" target=\"_top\" title=\"psysml:55b22e92-f05f-458a-a067-1c48392866cc\" xlink:actuate=\"onRequest\" xlink:href=\"psysml:55b22e92-f05f-458a-a067-1c48392866cc\" xlink:show=\"new\" xlink:title=\"psysml:55b22e92-f05f-458a-a067-1c48392866cc\" xlink:type=\"simple\"><path d=\"M113.9416,266.4282 C114.0146,266.747 114.0875,267.0657 114.1604,267.3842 C114.3062,268.0212 114.4518,268.6572 114.5971,269.2917 C114.8876,270.5608 115.1767,271.8238 115.4634,273.0759 C116.0366,275.58 116.5999,278.0407 117.1444,280.4191 C118.2333,285.1759 119.2469,289.6038 120.1144,293.3936 C121.8494,300.9731 123,306 123,306 C123,306 130.3,310.81 138.73,316.36 \" fill=\"none\" id=\"E8-E6\" style=\"stroke: #383838; stroke-width: 3.0;\"/><text fill=\"#000000\" font-family=\"sans-serif\" font-size=\"13\" lengthAdjust=\"spacingAndGlyphs\" textLength=\"7\" x=\"123.9981\" y=\"306.6884\">*</text></a><!--MD5=[60ac2c0cde89d4308155b0484e57a8ec]\n",
       "link E9 to E6--><a href=\"psysml:f5fd66b3-5ce3-4ce3-99f1-5aad5efc9456\" target=\"_top\" title=\"psysml:f5fd66b3-5ce3-4ce3-99f1-5aad5efc9456\" xlink:actuate=\"onRequest\" xlink:href=\"psysml:f5fd66b3-5ce3-4ce3-99f1-5aad5efc9456\" xlink:show=\"new\" xlink:title=\"psysml:f5fd66b3-5ce3-4ce3-99f1-5aad5efc9456\" xlink:type=\"simple\"><path d=\"M164,242.16 C164,262.23 164,293.57 164,313.69 \" fill=\"none\" id=\"E9-E6\" style=\"stroke: #383838; stroke-width: 3.0;\"/><text fill=\"#000000\" font-family=\"sans-serif\" font-size=\"13\" lengthAdjust=\"spacingAndGlyphs\" textLength=\"7\" x=\"156.0156\" y=\"302.954\">*</text></a><!--MD5=[710fb97b0736e2dda47df7945e6ad764]\n",
       "@startuml\r\n",
       "skinparam ranksep 10\r\n",
       "skinparam rectangle {\r\n",
       " backgroundColor<<block>> LightGreen\r\n",
       "}\r\n",
       "skinparam linetype polyline\r\n",
       "skinparam monochrome true\r\n",
       "skinparam classbackgroundcolor white\r\n",
       "skinparam shadowing false\r\n",
       "skinparam wrapWidth 300\r\n",
       "hide circle\r\n",
       "\r\n",
       "package \"ConnectionTest\" as E1  [[psysml:316d1b7b-e6b7-4d49-a637-31383ba5712a ]]  {\r\n",
       "rec usage \"p\" as E2  [[psysml:c01c1eb8-4402-477c-affb-a3d93aa1c07f ]] {\r\n",
       "rec usage \"x\" as E3  [[psysml:83a66275-79f9-4d22-aa8c-e03faa30289f ]] {\r\n",
       "rec usage \"x1\" as E4  [[psysml:aa5ac9d5-4dfe-418e-90b4-d1e9d9002b4c ]] {\r\n",
       "}\r\n",
       "}\r\n",
       "}\r\n",
       "rec def \"P\" as E5  <<(T,blue) part def>> [[psysml:fe1eabcd-2f5c-4c92-bec8-31bd54db8461 ]] {\r\n",
       "rec usage \"y\" as E6  [[psysml:06be23d5-21a7-42eb-83e3-f8e6bdc4a055 ]] {\r\n",
       "}\r\n",
       "rec usage \"p1\" as E7  [[psysml:32e0c838-e55d-456a-ac80-3fd98b88adbf ]] {\r\n",
       "rec usage \"^x\" as E8  [[psysml:83a66275-79f9-4d22-aa8c-e03faa30289f ]] {\r\n",
       "rec usage \"x1\" as E9  [[psysml:aa5ac9d5-4dfe-418e-90b4-d1e9d9002b4c ]] {\r\n",
       "}\r\n",
       "}\r\n",
       "}\r\n",
       "}\r\n",
       "E2 -[thickness=3]- \"*\"E6 [[psysml:2b37c4a5-3576-4b38-9831-53a66373adf4 ]] \r\n",
       "E8 -[thickness=3]- \"*\"E6 [[psysml:55b22e92-f05f-458a-a067-1c48392866cc ]] \r\n",
       "E9 -[thickness=3]- \"*\"E6 [[psysml:f5fd66b3-5ce3-4ce3-99f1-5aad5efc9456 ]] \r\n",
       "}\r\n",
       "@enduml\r\n",
       "\n",
       "PlantUML version 1.2020.13(Sat Jun 13 12:26:38 UTC 2020)\n",
       "(EPL source distribution)\n",
       "Java Runtime: OpenJDK Runtime Environment\n",
       "JVM: OpenJDK 64-Bit Server VM\n",
       "Default Encoding: UTF-8\n",
       "Language: en\n",
       "Country: null\n",
       "--></g></svg>"
      ]
     },
     "execution_count": 12,
     "metadata": {},
     "output_type": "execute_result"
    }
   ],
   "source": [
    "%viz --style=\"POLYLINE\" --view=\"Interconnection\" \"ConnectionTest\""
   ]
  },
  {
   "cell_type": "code",
   "execution_count": 13,
   "id": "2e84daf4",
   "metadata": {
    "execution": {
     "iopub.execute_input": "2021-08-04T06:28:52.325964Z",
     "iopub.status.busy": "2021-08-04T06:28:52.325558Z",
     "iopub.status.idle": "2021-08-04T06:28:52.333189Z",
     "shell.execute_reply": "2021-08-04T06:28:52.333601Z"
    }
   },
   "outputs": [
    {
     "data": {
      "image/svg+xml": [
       "<?xml version=\"1.0\" encoding=\"UTF-8\" standalone=\"no\"?><svg xmlns=\"http://www.w3.org/2000/svg\" xmlns:xlink=\"http://www.w3.org/1999/xlink\" contentScriptType=\"application/ecmascript\" contentStyleType=\"text/css\" height=\"12px\" preserveAspectRatio=\"none\" style=\"width:12px;height:12px;\" version=\"1.1\" viewBox=\"0 0 12 12\" width=\"12px\" zoomAndPan=\"magnify\"><defs/><g><!--MD5=[97bbf32f66ccd50cbc40d92ea8f5a65e]\n",
       "@startuml\r\n",
       "skinparam ranksep 8\r\n",
       "skinparam linetype polyline\r\n",
       "skinparam monochrome true\r\n",
       "skinparam classbackgroundcolor white\r\n",
       "skinparam shadowing false\r\n",
       "skinparam wrapWidth 300\r\n",
       "hide circle\r\n",
       "\r\n",
       "@enduml\r\n",
       "\n",
       "PlantUML version 1.2020.13(Sat Jun 13 12:26:38 UTC 2020)\n",
       "(EPL source distribution)\n",
       "Java Runtime: OpenJDK Runtime Environment\n",
       "JVM: OpenJDK 64-Bit Server VM\n",
       "Default Encoding: UTF-8\n",
       "Language: en\n",
       "Country: null\n",
       "--></g></svg>"
      ]
     },
     "execution_count": 13,
     "metadata": {},
     "output_type": "execute_result"
    }
   ],
   "source": [
    "%viz --style=\"POLYLINE\" --view=\"Action\" \"ConnectionTest\""
   ]
  },
  {
   "cell_type": "code",
   "execution_count": 14,
   "id": "bcee74ad",
   "metadata": {
    "execution": {
     "iopub.execute_input": "2021-08-04T06:28:52.384493Z",
     "iopub.status.busy": "2021-08-04T06:28:52.383991Z",
     "iopub.status.idle": "2021-08-04T06:28:52.420223Z",
     "shell.execute_reply": "2021-08-04T06:28:52.419833Z"
    }
   },
   "outputs": [
    {
     "data": {
      "image/svg+xml": [
       "<?xml version=\"1.0\" encoding=\"UTF-8\" standalone=\"no\"?><svg xmlns=\"http://www.w3.org/2000/svg\" xmlns:xlink=\"http://www.w3.org/1999/xlink\" contentScriptType=\"application/ecmascript\" contentStyleType=\"text/css\" height=\"539px\" preserveAspectRatio=\"none\" style=\"width:189px;height:539px;\" version=\"1.1\" viewBox=\"0 0 189 539\" width=\"189px\" zoomAndPan=\"magnify\"><defs/><g><!--MD5=[fbc87193dbaf4d95561dea2c320d4a47]\n",
       "cluster E1--><a href=\"psysml:316d1b7b-e6b7-4d49-a637-31383ba5712a\" target=\"_top\" title=\"psysml:316d1b7b-e6b7-4d49-a637-31383ba5712a\" xlink:actuate=\"onRequest\" xlink:href=\"psysml:316d1b7b-e6b7-4d49-a637-31383ba5712a\" xlink:show=\"new\" xlink:title=\"psysml:316d1b7b-e6b7-4d49-a637-31383ba5712a\" xlink:type=\"simple\"><polygon fill=\"#FFFFFF\" points=\"16,6,147,6,154,28.2969,167,28.2969,167,527,16,527,16,6\" style=\"stroke: #000000; stroke-width: 1.5;\"/><line style=\"stroke: #000000; stroke-width: 1.5;\" x1=\"16\" x2=\"154\" y1=\"28.2969\" y2=\"28.2969\"/><text fill=\"#000000\" font-family=\"sans-serif\" font-size=\"14\" font-weight=\"bold\" lengthAdjust=\"spacingAndGlyphs\" textLength=\"125\" x=\"20\" y=\"20.9951\">ConnectionTest</text></a><!--MD5=[b4997ac47864f28c2f74865a473b2911]\n",
       "class E2--><a href=\"psysml:c01c1eb8-4402-477c-affb-a3d93aa1c07f\" target=\"_top\" title=\"psysml:c01c1eb8-4402-477c-affb-a3d93aa1c07f\" xlink:actuate=\"onRequest\" xlink:href=\"psysml:c01c1eb8-4402-477c-affb-a3d93aa1c07f\" xlink:show=\"new\" xlink:title=\"psysml:c01c1eb8-4402-477c-affb-a3d93aa1c07f\" xlink:type=\"simple\"><rect fill=\"#FFFFFF\" height=\"45.9375\" id=\"E2\" rx=\"10\" ry=\"10\" style=\"stroke: #383838; stroke-width: 1.5;\" width=\"42\" x=\"89\" y=\"253\"/><text fill=\"#000000\" font-family=\"sans-serif\" font-size=\"12\" font-style=\"italic\" lengthAdjust=\"spacingAndGlyphs\" textLength=\"40\" x=\"90\" y=\"269.1387\">«part»</text><text fill=\"#000000\" font-family=\"sans-serif\" font-size=\"12\" lengthAdjust=\"spacingAndGlyphs\" textLength=\"8\" x=\"106\" y=\"283.1074\">p</text><line style=\"stroke: #383838; stroke-width: 1.5;\" x1=\"90\" x2=\"130\" y1=\"290.9375\" y2=\"290.9375\"/></a><!--MD5=[09b614a08d8cba4a07c9adeb5e0fee81]\n",
       "class E3--><a href=\"psysml:83a66275-79f9-4d22-aa8c-e03faa30289f\" target=\"_top\" title=\"psysml:83a66275-79f9-4d22-aa8c-e03faa30289f\" xlink:actuate=\"onRequest\" xlink:href=\"psysml:83a66275-79f9-4d22-aa8c-e03faa30289f\" xlink:show=\"new\" xlink:title=\"psysml:83a66275-79f9-4d22-aa8c-e03faa30289f\" xlink:type=\"simple\"><rect fill=\"#FFFFFF\" height=\"45.9375\" id=\"E3\" rx=\"10\" ry=\"10\" style=\"stroke: #383838; stroke-width: 1.5;\" width=\"42\" x=\"109\" y=\"359\"/><text fill=\"#000000\" font-family=\"sans-serif\" font-size=\"12\" font-style=\"italic\" lengthAdjust=\"spacingAndGlyphs\" textLength=\"40\" x=\"110\" y=\"375.1387\">«part»</text><text fill=\"#000000\" font-family=\"sans-serif\" font-size=\"12\" lengthAdjust=\"spacingAndGlyphs\" textLength=\"6\" x=\"127\" y=\"389.1074\">x</text><line style=\"stroke: #383838; stroke-width: 1.5;\" x1=\"110\" x2=\"150\" y1=\"396.9375\" y2=\"396.9375\"/></a><!--MD5=[ebbe1d658d1005bcc118a6aa81145e00]\n",
       "class E4--><a href=\"psysml:aa5ac9d5-4dfe-418e-90b4-d1e9d9002b4c\" target=\"_top\" title=\"psysml:aa5ac9d5-4dfe-418e-90b4-d1e9d9002b4c\" xlink:actuate=\"onRequest\" xlink:href=\"psysml:aa5ac9d5-4dfe-418e-90b4-d1e9d9002b4c\" xlink:show=\"new\" xlink:title=\"psysml:aa5ac9d5-4dfe-418e-90b4-d1e9d9002b4c\" xlink:type=\"simple\"><rect fill=\"#FFFFFF\" height=\"45.9375\" id=\"E4\" rx=\"10\" ry=\"10\" style=\"stroke: #383838; stroke-width: 1.5;\" width=\"42\" x=\"109\" y=\"465\"/><text fill=\"#000000\" font-family=\"sans-serif\" font-size=\"12\" font-style=\"italic\" lengthAdjust=\"spacingAndGlyphs\" textLength=\"40\" x=\"110\" y=\"481.1387\">«part»</text><text fill=\"#000000\" font-family=\"sans-serif\" font-size=\"12\" lengthAdjust=\"spacingAndGlyphs\" textLength=\"14\" x=\"123\" y=\"495.1074\">x1</text><line style=\"stroke: #383838; stroke-width: 1.5;\" x1=\"110\" x2=\"150\" y1=\"502.9375\" y2=\"502.9375\"/></a><!--MD5=[270fce915f116d4de14055a7c1d9a0f3]\n",
       "class E5--><a href=\"psysml:fe1eabcd-2f5c-4c92-bec8-31bd54db8461\" target=\"_top\" title=\"psysml:fe1eabcd-2f5c-4c92-bec8-31bd54db8461\" xlink:actuate=\"onRequest\" xlink:href=\"psysml:fe1eabcd-2f5c-4c92-bec8-31bd54db8461\" xlink:show=\"new\" xlink:title=\"psysml:fe1eabcd-2f5c-4c92-bec8-31bd54db8461\" xlink:type=\"simple\"><rect fill=\"#FFFFFF\" height=\"45.9375\" id=\"E5\" style=\"stroke: #383838; stroke-width: 1.5;\" width=\"66\" x=\"54\" y=\"41\"/><text fill=\"#000000\" font-family=\"sans-serif\" font-size=\"12\" font-style=\"italic\" lengthAdjust=\"spacingAndGlyphs\" textLength=\"64\" x=\"55\" y=\"57.1387\">«part def»</text><text fill=\"#000000\" font-family=\"sans-serif\" font-size=\"12\" lengthAdjust=\"spacingAndGlyphs\" textLength=\"8\" x=\"83\" y=\"71.1074\">P</text><line style=\"stroke: #383838; stroke-width: 1.5;\" x1=\"55\" x2=\"119\" y1=\"78.9375\" y2=\"78.9375\"/></a><!--MD5=[60a26617385b1d2d0262a64233df1f8d]\n",
       "class E6--><a href=\"psysml:06be23d5-21a7-42eb-83e3-f8e6bdc4a055\" target=\"_top\" title=\"psysml:06be23d5-21a7-42eb-83e3-f8e6bdc4a055\" xlink:actuate=\"onRequest\" xlink:href=\"psysml:06be23d5-21a7-42eb-83e3-f8e6bdc4a055\" xlink:show=\"new\" xlink:title=\"psysml:06be23d5-21a7-42eb-83e3-f8e6bdc4a055\" xlink:type=\"simple\"><rect fill=\"#FFFFFF\" height=\"45.9375\" id=\"E6\" rx=\"10\" ry=\"10\" style=\"stroke: #383838; stroke-width: 1.5;\" width=\"42\" x=\"32\" y=\"359\"/><text fill=\"#000000\" font-family=\"sans-serif\" font-size=\"12\" font-style=\"italic\" lengthAdjust=\"spacingAndGlyphs\" textLength=\"40\" x=\"33\" y=\"375.1387\">«part»</text><text fill=\"#000000\" font-family=\"sans-serif\" font-size=\"12\" lengthAdjust=\"spacingAndGlyphs\" textLength=\"6\" x=\"50\" y=\"389.1074\">y</text><line style=\"stroke: #383838; stroke-width: 1.5;\" x1=\"33\" x2=\"73\" y1=\"396.9375\" y2=\"396.9375\"/></a><!--MD5=[2156ba9850f5573cc1fc38a6a4b2f02b]\n",
       "class E7--><a href=\"psysml:32e0c838-e55d-456a-ac80-3fd98b88adbf\" target=\"_top\" title=\"psysml:32e0c838-e55d-456a-ac80-3fd98b88adbf\" xlink:actuate=\"onRequest\" xlink:href=\"psysml:32e0c838-e55d-456a-ac80-3fd98b88adbf\" xlink:show=\"new\" xlink:title=\"psysml:32e0c838-e55d-456a-ac80-3fd98b88adbf\" xlink:type=\"simple\"><rect fill=\"#FFFFFF\" height=\"45.9375\" id=\"E7\" rx=\"10\" ry=\"10\" style=\"stroke: #383838; stroke-width: 1.5;\" width=\"42\" x=\"89\" y=\"147\"/><text fill=\"#000000\" font-family=\"sans-serif\" font-size=\"12\" font-style=\"italic\" lengthAdjust=\"spacingAndGlyphs\" textLength=\"40\" x=\"90\" y=\"163.1387\">«part»</text><text fill=\"#000000\" font-family=\"sans-serif\" font-size=\"12\" lengthAdjust=\"spacingAndGlyphs\" textLength=\"16\" x=\"102\" y=\"177.1074\">p1</text><line style=\"stroke: #383838; stroke-width: 1.5;\" x1=\"90\" x2=\"130\" y1=\"184.9375\" y2=\"184.9375\"/></a><!--MD5=[209b3feb70ccb6233bfe1053d122c12c]\n",
       "reverse link E2 to E3--><a href=\"psysml:96d6ab40-4f8f-4d11-a48f-d95a37d5e194\" target=\"_top\" title=\"psysml:96d6ab40-4f8f-4d11-a48f-d95a37d5e194\" xlink:actuate=\"onRequest\" xlink:href=\"psysml:96d6ab40-4f8f-4d11-a48f-d95a37d5e194\" xlink:show=\"new\" xlink:title=\"psysml:96d6ab40-4f8f-4d11-a48f-d95a37d5e194\" xlink:type=\"simple\"><path d=\"M116.72,311.96 C119.71,327.51 123.14,345.33 125.76,358.98 \" fill=\"none\" id=\"E2&lt;-E3\" style=\"stroke: #383838; stroke-width: 1.0;\"/><polygon fill=\"#383838\" points=\"114.24,299.06,111.447,305.7082,116.5096,310.8434,119.3026,304.1952,114.24,299.06\" style=\"stroke: #383838; stroke-width: 1.0;\"/><text fill=\"#000000\" font-family=\"sans-serif\" font-size=\"13\" lengthAdjust=\"spacingAndGlyphs\" textLength=\"8\" x=\"115.5455\" y=\"347.8709\">1</text></a><!--MD5=[4672eba38e49728da53d11aeb285b987]\n",
       "reverse link E3 to E4--><a href=\"psysml:15b45894-f404-4f26-aaef-cf96b8c0ca99\" target=\"_top\" title=\"psysml:15b45894-f404-4f26-aaef-cf96b8c0ca99\" xlink:actuate=\"onRequest\" xlink:href=\"psysml:15b45894-f404-4f26-aaef-cf96b8c0ca99\" xlink:show=\"new\" xlink:title=\"psysml:15b45894-f404-4f26-aaef-cf96b8c0ca99\" xlink:type=\"simple\"><path d=\"M130,418.44 C130,433.87 130,451.47 130,464.98 \" fill=\"none\" id=\"E3&lt;-E4\" style=\"stroke: #383838; stroke-width: 1.0;\"/><polygon fill=\"#383838\" points=\"130,405.06,126,411.06,130,417.06,134,411.06,130,405.06\" style=\"stroke: #383838; stroke-width: 1.0;\"/><text fill=\"#000000\" font-family=\"sans-serif\" font-size=\"13\" lengthAdjust=\"spacingAndGlyphs\" textLength=\"8\" x=\"120.925\" y=\"453.8709\">1</text></a><!--MD5=[85d356282659285ab4b2cfe2f634dd2b]\n",
       "reverse link E5 to E6--><a href=\"psysml:e9a2dbd2-75b9-45f4-aecc-a2c2183931e9\" target=\"_top\" title=\"psysml:e9a2dbd2-75b9-45f4-aecc-a2c2183931e9\" xlink:actuate=\"onRequest\" xlink:href=\"psysml:e9a2dbd2-75b9-45f4-aecc-a2c2183931e9\" xlink:show=\"new\" xlink:title=\"psysml:e9a2dbd2-75b9-45f4-aecc-a2c2183931e9\" xlink:type=\"simple\"><path d=\"M80.53,100.36 C76.47,122.55 72,147 72,147 C72,147 59.52,300.73 54.79,358.99 \" fill=\"none\" id=\"E5&lt;-E6\" style=\"stroke: #383838; stroke-width: 1.0;\"/><polygon fill=\"#383838\" points=\"82.9,87.41,77.8897,92.5962,80.7499,99.2158,85.7602,94.0296,82.9,87.41\" style=\"stroke: #383838; stroke-width: 1.0;\"/><text fill=\"#000000\" font-family=\"sans-serif\" font-size=\"13\" lengthAdjust=\"spacingAndGlyphs\" textLength=\"8\" x=\"46.1961\" y=\"347.8836\">1</text></a><!--MD5=[e3e28c1befcf002155aa15e1416b4315]\n",
       "link E2 to E6--><a href=\"psysml:2b37c4a5-3576-4b38-9831-53a66373adf4\" target=\"_top\" title=\"psysml:2b37c4a5-3576-4b38-9831-53a66373adf4\" xlink:actuate=\"onRequest\" xlink:href=\"psysml:2b37c4a5-3576-4b38-9831-53a66373adf4\" xlink:show=\"new\" xlink:title=\"psysml:2b37c4a5-3576-4b38-9831-53a66373adf4\" xlink:type=\"simple\"><path d=\"M97.91,299.06 C88.24,316.7 74.74,341.34 65.07,358.98 \" fill=\"none\" id=\"E2-E6\" style=\"stroke: #383838; stroke-width: 3.0;\"/><text fill=\"#000000\" font-family=\"sans-serif\" font-size=\"13\" lengthAdjust=\"spacingAndGlyphs\" textLength=\"7\" x=\"60.3732\" y=\"347.8709\">*</text></a><!--MD5=[452b418e7f8a40397a49b8c0a78acc5b]\n",
       "reverse link E5 to E7--><a href=\"psysml:0433d7bc-4d61-42a3-98d7-5077bd02d97e\" target=\"_top\" title=\"psysml:0433d7bc-4d61-42a3-98d7-5077bd02d97e\" xlink:actuate=\"onRequest\" xlink:href=\"psysml:0433d7bc-4d61-42a3-98d7-5077bd02d97e\" xlink:show=\"new\" xlink:title=\"psysml:0433d7bc-4d61-42a3-98d7-5077bd02d97e\" xlink:type=\"simple\"><path d=\"M94.73,99.96 C98.17,115.51 102.11,133.33 105.13,146.98 \" fill=\"none\" id=\"E5&lt;-E7\" style=\"stroke: #383838; stroke-width: 1.0;\"/><polygon fill=\"#383838\" points=\"91.88,87.06,89.2656,93.7805,94.4636,98.7786,97.078,92.0581,91.88,87.06\" style=\"stroke: #383838; stroke-width: 1.0;\"/><text fill=\"#000000\" font-family=\"sans-serif\" font-size=\"13\" lengthAdjust=\"spacingAndGlyphs\" textLength=\"8\" x=\"94.7462\" y=\"135.8709\">1</text></a><!--MD5=[583832df87f4419a098336a29a52fa00]\n",
       "link E7 to E2--><a href=\"psysml:d6550333-67eb-4da5-a08d-e8c2ba9c3c42\" target=\"_top\" title=\"psysml:d6550333-67eb-4da5-a08d-e8c2ba9c3c42\" xlink:actuate=\"onRequest\" xlink:href=\"psysml:d6550333-67eb-4da5-a08d-e8c2ba9c3c42\" xlink:show=\"new\" xlink:title=\"psysml:d6550333-67eb-4da5-a08d-e8c2ba9c3c42\" xlink:type=\"simple\"><path d=\"M110,193.06 C110,204.64 110,219.23 110,232.87 \" fill=\"none\" id=\"E7-&gt;E2\" style=\"stroke: #383838; stroke-width: 1.0;\"/><polygon fill=\"none\" points=\"117,232.98,110,252.98,103,232.98,117,232.98\" style=\"stroke: #383838; stroke-width: 1.0;\"/></a><!--MD5=[67942b3a5bd4cb2bf6de926b5186dd33]\n",
       "@startuml\r\n",
       "skinparam linetype polyline\r\n",
       "skinparam monochrome true\r\n",
       "skinparam classbackgroundcolor white\r\n",
       "skinparam shadowing false\r\n",
       "skinparam wrapWidth 300\r\n",
       "hide circle\r\n",
       "\r\n",
       "package \"ConnectionTest\" as E1  [[psysml:316d1b7b-e6b7-4d49-a637-31383ba5712a ]]  {\r\n",
       "comp usage \"p\" as E2  <<(T,blue) part>> [[psysml:c01c1eb8-4402-477c-affb-a3d93aa1c07f ]] {\r\n",
       "}\r\n",
       "comp usage \"x\" as E3  <<(T,blue) part>> [[psysml:83a66275-79f9-4d22-aa8c-e03faa30289f ]] {\r\n",
       "}\r\n",
       "comp usage \"x1\" as E4  <<(T,blue) part>> [[psysml:aa5ac9d5-4dfe-418e-90b4-d1e9d9002b4c ]] {\r\n",
       "}\r\n",
       "comp def \"P\" as E5  <<(T,blue) part def>> [[psysml:fe1eabcd-2f5c-4c92-bec8-31bd54db8461 ]] {\r\n",
       "}\r\n",
       "comp usage \"y\" as E6  <<(T,blue) part>> [[psysml:06be23d5-21a7-42eb-83e3-f8e6bdc4a055 ]] {\r\n",
       "}\r\n",
       "comp usage \"p1\" as E7  <<(T,blue) part>> [[psysml:32e0c838-e55d-456a-ac80-3fd98b88adbf ]] {\r\n",
       "}\r\n",
       "E2 *- - \"1\"E3 [[psysml:96d6ab40-4f8f-4d11-a48f-d95a37d5e194 ]] \r\n",
       "E3 *- - \"1\"E4 [[psysml:15b45894-f404-4f26-aaef-cf96b8c0ca99 ]] \r\n",
       "E5 *- - \"1\"E6 [[psysml:e9a2dbd2-75b9-45f4-aecc-a2c2183931e9 ]] \r\n",
       "E2 -[thickness=3]- \"*\"E6 [[psysml:2b37c4a5-3576-4b38-9831-53a66373adf4 ]] \r\n",
       "E5 *- - \"1\"E7 [[psysml:0433d7bc-4d61-42a3-98d7-5077bd02d97e ]] \r\n",
       "E7 - -|> E2 [[psysml:d6550333-67eb-4da5-a08d-e8c2ba9c3c42 ]] \r\n",
       "}\r\n",
       "@enduml\r\n",
       "\n",
       "PlantUML version 1.2020.13(Sat Jun 13 12:26:38 UTC 2020)\n",
       "(EPL source distribution)\n",
       "Java Runtime: OpenJDK Runtime Environment\n",
       "JVM: OpenJDK 64-Bit Server VM\n",
       "Default Encoding: UTF-8\n",
       "Language: en\n",
       "Country: null\n",
       "--></g></svg>"
      ]
     },
     "execution_count": 14,
     "metadata": {},
     "output_type": "execute_result"
    }
   ],
   "source": [
    "%viz --style=\"POLYLINE\" --view=\"Sequence\" \"ConnectionTest\""
   ]
  },
  {
   "cell_type": "code",
   "execution_count": 15,
   "id": "8743cd43",
   "metadata": {
    "execution": {
     "iopub.execute_input": "2021-08-04T06:28:52.470214Z",
     "iopub.status.busy": "2021-08-04T06:28:52.469774Z",
     "iopub.status.idle": "2021-08-04T06:28:52.496839Z",
     "shell.execute_reply": "2021-08-04T06:28:52.496560Z"
    }
   },
   "outputs": [
    {
     "data": {
      "image/svg+xml": [
       "<?xml version=\"1.0\" encoding=\"UTF-8\" standalone=\"no\"?><svg xmlns=\"http://www.w3.org/2000/svg\" xmlns:xlink=\"http://www.w3.org/1999/xlink\" contentScriptType=\"application/ecmascript\" contentStyleType=\"text/css\" height=\"539px\" preserveAspectRatio=\"none\" style=\"width:189px;height:539px;\" version=\"1.1\" viewBox=\"0 0 189 539\" width=\"189px\" zoomAndPan=\"magnify\"><defs/><g><!--MD5=[fbc87193dbaf4d95561dea2c320d4a47]\n",
       "cluster E1--><a href=\"psysml:316d1b7b-e6b7-4d49-a637-31383ba5712a\" target=\"_top\" title=\"psysml:316d1b7b-e6b7-4d49-a637-31383ba5712a\" xlink:actuate=\"onRequest\" xlink:href=\"psysml:316d1b7b-e6b7-4d49-a637-31383ba5712a\" xlink:show=\"new\" xlink:title=\"psysml:316d1b7b-e6b7-4d49-a637-31383ba5712a\" xlink:type=\"simple\"><polygon fill=\"#FFFFFF\" points=\"16,6,147,6,154,28.2969,167,28.2969,167,527,16,527,16,6\" style=\"stroke: #000000; stroke-width: 1.5;\"/><line style=\"stroke: #000000; stroke-width: 1.5;\" x1=\"16\" x2=\"154\" y1=\"28.2969\" y2=\"28.2969\"/><text fill=\"#000000\" font-family=\"sans-serif\" font-size=\"14\" font-weight=\"bold\" lengthAdjust=\"spacingAndGlyphs\" textLength=\"125\" x=\"20\" y=\"20.9951\">ConnectionTest</text></a><!--MD5=[b4997ac47864f28c2f74865a473b2911]\n",
       "class E2--><a href=\"psysml:c01c1eb8-4402-477c-affb-a3d93aa1c07f\" target=\"_top\" title=\"psysml:c01c1eb8-4402-477c-affb-a3d93aa1c07f\" xlink:actuate=\"onRequest\" xlink:href=\"psysml:c01c1eb8-4402-477c-affb-a3d93aa1c07f\" xlink:show=\"new\" xlink:title=\"psysml:c01c1eb8-4402-477c-affb-a3d93aa1c07f\" xlink:type=\"simple\"><rect fill=\"#FFFFFF\" height=\"45.9375\" id=\"E2\" rx=\"10\" ry=\"10\" style=\"stroke: #383838; stroke-width: 1.5;\" width=\"42\" x=\"89\" y=\"253\"/><text fill=\"#000000\" font-family=\"sans-serif\" font-size=\"12\" font-style=\"italic\" lengthAdjust=\"spacingAndGlyphs\" textLength=\"40\" x=\"90\" y=\"269.1387\">«part»</text><text fill=\"#000000\" font-family=\"sans-serif\" font-size=\"12\" lengthAdjust=\"spacingAndGlyphs\" textLength=\"8\" x=\"106\" y=\"283.1074\">p</text><line style=\"stroke: #383838; stroke-width: 1.5;\" x1=\"90\" x2=\"130\" y1=\"290.9375\" y2=\"290.9375\"/></a><!--MD5=[09b614a08d8cba4a07c9adeb5e0fee81]\n",
       "class E3--><a href=\"psysml:83a66275-79f9-4d22-aa8c-e03faa30289f\" target=\"_top\" title=\"psysml:83a66275-79f9-4d22-aa8c-e03faa30289f\" xlink:actuate=\"onRequest\" xlink:href=\"psysml:83a66275-79f9-4d22-aa8c-e03faa30289f\" xlink:show=\"new\" xlink:title=\"psysml:83a66275-79f9-4d22-aa8c-e03faa30289f\" xlink:type=\"simple\"><rect fill=\"#FFFFFF\" height=\"45.9375\" id=\"E3\" rx=\"10\" ry=\"10\" style=\"stroke: #383838; stroke-width: 1.5;\" width=\"42\" x=\"109\" y=\"359\"/><text fill=\"#000000\" font-family=\"sans-serif\" font-size=\"12\" font-style=\"italic\" lengthAdjust=\"spacingAndGlyphs\" textLength=\"40\" x=\"110\" y=\"375.1387\">«part»</text><text fill=\"#000000\" font-family=\"sans-serif\" font-size=\"12\" lengthAdjust=\"spacingAndGlyphs\" textLength=\"6\" x=\"127\" y=\"389.1074\">x</text><line style=\"stroke: #383838; stroke-width: 1.5;\" x1=\"110\" x2=\"150\" y1=\"396.9375\" y2=\"396.9375\"/></a><!--MD5=[ebbe1d658d1005bcc118a6aa81145e00]\n",
       "class E4--><a href=\"psysml:aa5ac9d5-4dfe-418e-90b4-d1e9d9002b4c\" target=\"_top\" title=\"psysml:aa5ac9d5-4dfe-418e-90b4-d1e9d9002b4c\" xlink:actuate=\"onRequest\" xlink:href=\"psysml:aa5ac9d5-4dfe-418e-90b4-d1e9d9002b4c\" xlink:show=\"new\" xlink:title=\"psysml:aa5ac9d5-4dfe-418e-90b4-d1e9d9002b4c\" xlink:type=\"simple\"><rect fill=\"#FFFFFF\" height=\"45.9375\" id=\"E4\" rx=\"10\" ry=\"10\" style=\"stroke: #383838; stroke-width: 1.5;\" width=\"42\" x=\"109\" y=\"465\"/><text fill=\"#000000\" font-family=\"sans-serif\" font-size=\"12\" font-style=\"italic\" lengthAdjust=\"spacingAndGlyphs\" textLength=\"40\" x=\"110\" y=\"481.1387\">«part»</text><text fill=\"#000000\" font-family=\"sans-serif\" font-size=\"12\" lengthAdjust=\"spacingAndGlyphs\" textLength=\"14\" x=\"123\" y=\"495.1074\">x1</text><line style=\"stroke: #383838; stroke-width: 1.5;\" x1=\"110\" x2=\"150\" y1=\"502.9375\" y2=\"502.9375\"/></a><!--MD5=[270fce915f116d4de14055a7c1d9a0f3]\n",
       "class E5--><a href=\"psysml:fe1eabcd-2f5c-4c92-bec8-31bd54db8461\" target=\"_top\" title=\"psysml:fe1eabcd-2f5c-4c92-bec8-31bd54db8461\" xlink:actuate=\"onRequest\" xlink:href=\"psysml:fe1eabcd-2f5c-4c92-bec8-31bd54db8461\" xlink:show=\"new\" xlink:title=\"psysml:fe1eabcd-2f5c-4c92-bec8-31bd54db8461\" xlink:type=\"simple\"><rect fill=\"#FFFFFF\" height=\"45.9375\" id=\"E5\" style=\"stroke: #383838; stroke-width: 1.5;\" width=\"66\" x=\"54\" y=\"41\"/><text fill=\"#000000\" font-family=\"sans-serif\" font-size=\"12\" font-style=\"italic\" lengthAdjust=\"spacingAndGlyphs\" textLength=\"64\" x=\"55\" y=\"57.1387\">«part def»</text><text fill=\"#000000\" font-family=\"sans-serif\" font-size=\"12\" lengthAdjust=\"spacingAndGlyphs\" textLength=\"8\" x=\"83\" y=\"71.1074\">P</text><line style=\"stroke: #383838; stroke-width: 1.5;\" x1=\"55\" x2=\"119\" y1=\"78.9375\" y2=\"78.9375\"/></a><!--MD5=[60a26617385b1d2d0262a64233df1f8d]\n",
       "class E6--><a href=\"psysml:06be23d5-21a7-42eb-83e3-f8e6bdc4a055\" target=\"_top\" title=\"psysml:06be23d5-21a7-42eb-83e3-f8e6bdc4a055\" xlink:actuate=\"onRequest\" xlink:href=\"psysml:06be23d5-21a7-42eb-83e3-f8e6bdc4a055\" xlink:show=\"new\" xlink:title=\"psysml:06be23d5-21a7-42eb-83e3-f8e6bdc4a055\" xlink:type=\"simple\"><rect fill=\"#FFFFFF\" height=\"45.9375\" id=\"E6\" rx=\"10\" ry=\"10\" style=\"stroke: #383838; stroke-width: 1.5;\" width=\"42\" x=\"32\" y=\"359\"/><text fill=\"#000000\" font-family=\"sans-serif\" font-size=\"12\" font-style=\"italic\" lengthAdjust=\"spacingAndGlyphs\" textLength=\"40\" x=\"33\" y=\"375.1387\">«part»</text><text fill=\"#000000\" font-family=\"sans-serif\" font-size=\"12\" lengthAdjust=\"spacingAndGlyphs\" textLength=\"6\" x=\"50\" y=\"389.1074\">y</text><line style=\"stroke: #383838; stroke-width: 1.5;\" x1=\"33\" x2=\"73\" y1=\"396.9375\" y2=\"396.9375\"/></a><!--MD5=[2156ba9850f5573cc1fc38a6a4b2f02b]\n",
       "class E7--><a href=\"psysml:32e0c838-e55d-456a-ac80-3fd98b88adbf\" target=\"_top\" title=\"psysml:32e0c838-e55d-456a-ac80-3fd98b88adbf\" xlink:actuate=\"onRequest\" xlink:href=\"psysml:32e0c838-e55d-456a-ac80-3fd98b88adbf\" xlink:show=\"new\" xlink:title=\"psysml:32e0c838-e55d-456a-ac80-3fd98b88adbf\" xlink:type=\"simple\"><rect fill=\"#FFFFFF\" height=\"45.9375\" id=\"E7\" rx=\"10\" ry=\"10\" style=\"stroke: #383838; stroke-width: 1.5;\" width=\"42\" x=\"89\" y=\"147\"/><text fill=\"#000000\" font-family=\"sans-serif\" font-size=\"12\" font-style=\"italic\" lengthAdjust=\"spacingAndGlyphs\" textLength=\"40\" x=\"90\" y=\"163.1387\">«part»</text><text fill=\"#000000\" font-family=\"sans-serif\" font-size=\"12\" lengthAdjust=\"spacingAndGlyphs\" textLength=\"16\" x=\"102\" y=\"177.1074\">p1</text><line style=\"stroke: #383838; stroke-width: 1.5;\" x1=\"90\" x2=\"130\" y1=\"184.9375\" y2=\"184.9375\"/></a><!--MD5=[209b3feb70ccb6233bfe1053d122c12c]\n",
       "reverse link E2 to E3--><a href=\"psysml:96d6ab40-4f8f-4d11-a48f-d95a37d5e194\" target=\"_top\" title=\"psysml:96d6ab40-4f8f-4d11-a48f-d95a37d5e194\" xlink:actuate=\"onRequest\" xlink:href=\"psysml:96d6ab40-4f8f-4d11-a48f-d95a37d5e194\" xlink:show=\"new\" xlink:title=\"psysml:96d6ab40-4f8f-4d11-a48f-d95a37d5e194\" xlink:type=\"simple\"><path d=\"M116.72,311.96 C119.71,327.51 123.14,345.33 125.76,358.98 \" fill=\"none\" id=\"E2&lt;-E3\" style=\"stroke: #383838; stroke-width: 1.0;\"/><polygon fill=\"#383838\" points=\"114.24,299.06,111.447,305.7082,116.5096,310.8434,119.3026,304.1952,114.24,299.06\" style=\"stroke: #383838; stroke-width: 1.0;\"/><text fill=\"#000000\" font-family=\"sans-serif\" font-size=\"13\" lengthAdjust=\"spacingAndGlyphs\" textLength=\"8\" x=\"115.5455\" y=\"347.8709\">1</text></a><!--MD5=[4672eba38e49728da53d11aeb285b987]\n",
       "reverse link E3 to E4--><a href=\"psysml:15b45894-f404-4f26-aaef-cf96b8c0ca99\" target=\"_top\" title=\"psysml:15b45894-f404-4f26-aaef-cf96b8c0ca99\" xlink:actuate=\"onRequest\" xlink:href=\"psysml:15b45894-f404-4f26-aaef-cf96b8c0ca99\" xlink:show=\"new\" xlink:title=\"psysml:15b45894-f404-4f26-aaef-cf96b8c0ca99\" xlink:type=\"simple\"><path d=\"M130,418.44 C130,433.87 130,451.47 130,464.98 \" fill=\"none\" id=\"E3&lt;-E4\" style=\"stroke: #383838; stroke-width: 1.0;\"/><polygon fill=\"#383838\" points=\"130,405.06,126,411.06,130,417.06,134,411.06,130,405.06\" style=\"stroke: #383838; stroke-width: 1.0;\"/><text fill=\"#000000\" font-family=\"sans-serif\" font-size=\"13\" lengthAdjust=\"spacingAndGlyphs\" textLength=\"8\" x=\"120.925\" y=\"453.8709\">1</text></a><!--MD5=[85d356282659285ab4b2cfe2f634dd2b]\n",
       "reverse link E5 to E6--><a href=\"psysml:e9a2dbd2-75b9-45f4-aecc-a2c2183931e9\" target=\"_top\" title=\"psysml:e9a2dbd2-75b9-45f4-aecc-a2c2183931e9\" xlink:actuate=\"onRequest\" xlink:href=\"psysml:e9a2dbd2-75b9-45f4-aecc-a2c2183931e9\" xlink:show=\"new\" xlink:title=\"psysml:e9a2dbd2-75b9-45f4-aecc-a2c2183931e9\" xlink:type=\"simple\"><path d=\"M80.53,100.36 C76.47,122.55 72,147 72,147 C72,147 59.52,300.73 54.79,358.99 \" fill=\"none\" id=\"E5&lt;-E6\" style=\"stroke: #383838; stroke-width: 1.0;\"/><polygon fill=\"#383838\" points=\"82.9,87.41,77.8897,92.5962,80.7499,99.2158,85.7602,94.0296,82.9,87.41\" style=\"stroke: #383838; stroke-width: 1.0;\"/><text fill=\"#000000\" font-family=\"sans-serif\" font-size=\"13\" lengthAdjust=\"spacingAndGlyphs\" textLength=\"8\" x=\"46.1961\" y=\"347.8836\">1</text></a><!--MD5=[e3e28c1befcf002155aa15e1416b4315]\n",
       "link E2 to E6--><a href=\"psysml:2b37c4a5-3576-4b38-9831-53a66373adf4\" target=\"_top\" title=\"psysml:2b37c4a5-3576-4b38-9831-53a66373adf4\" xlink:actuate=\"onRequest\" xlink:href=\"psysml:2b37c4a5-3576-4b38-9831-53a66373adf4\" xlink:show=\"new\" xlink:title=\"psysml:2b37c4a5-3576-4b38-9831-53a66373adf4\" xlink:type=\"simple\"><path d=\"M97.91,299.06 C88.24,316.7 74.74,341.34 65.07,358.98 \" fill=\"none\" id=\"E2-E6\" style=\"stroke: #383838; stroke-width: 3.0;\"/><text fill=\"#000000\" font-family=\"sans-serif\" font-size=\"13\" lengthAdjust=\"spacingAndGlyphs\" textLength=\"7\" x=\"60.3732\" y=\"347.8709\">*</text></a><!--MD5=[452b418e7f8a40397a49b8c0a78acc5b]\n",
       "reverse link E5 to E7--><a href=\"psysml:0433d7bc-4d61-42a3-98d7-5077bd02d97e\" target=\"_top\" title=\"psysml:0433d7bc-4d61-42a3-98d7-5077bd02d97e\" xlink:actuate=\"onRequest\" xlink:href=\"psysml:0433d7bc-4d61-42a3-98d7-5077bd02d97e\" xlink:show=\"new\" xlink:title=\"psysml:0433d7bc-4d61-42a3-98d7-5077bd02d97e\" xlink:type=\"simple\"><path d=\"M94.73,99.96 C98.17,115.51 102.11,133.33 105.13,146.98 \" fill=\"none\" id=\"E5&lt;-E7\" style=\"stroke: #383838; stroke-width: 1.0;\"/><polygon fill=\"#383838\" points=\"91.88,87.06,89.2656,93.7805,94.4636,98.7786,97.078,92.0581,91.88,87.06\" style=\"stroke: #383838; stroke-width: 1.0;\"/><text fill=\"#000000\" font-family=\"sans-serif\" font-size=\"13\" lengthAdjust=\"spacingAndGlyphs\" textLength=\"8\" x=\"94.7462\" y=\"135.8709\">1</text></a><!--MD5=[583832df87f4419a098336a29a52fa00]\n",
       "link E7 to E2--><a href=\"psysml:d6550333-67eb-4da5-a08d-e8c2ba9c3c42\" target=\"_top\" title=\"psysml:d6550333-67eb-4da5-a08d-e8c2ba9c3c42\" xlink:actuate=\"onRequest\" xlink:href=\"psysml:d6550333-67eb-4da5-a08d-e8c2ba9c3c42\" xlink:show=\"new\" xlink:title=\"psysml:d6550333-67eb-4da5-a08d-e8c2ba9c3c42\" xlink:type=\"simple\"><path d=\"M110,193.06 C110,204.64 110,219.23 110,232.87 \" fill=\"none\" id=\"E7-&gt;E2\" style=\"stroke: #383838; stroke-width: 1.0;\"/><polygon fill=\"none\" points=\"117,232.98,110,252.98,103,232.98,117,232.98\" style=\"stroke: #383838; stroke-width: 1.0;\"/></a><!--MD5=[67942b3a5bd4cb2bf6de926b5186dd33]\n",
       "@startuml\r\n",
       "skinparam linetype polyline\r\n",
       "skinparam monochrome true\r\n",
       "skinparam classbackgroundcolor white\r\n",
       "skinparam shadowing false\r\n",
       "skinparam wrapWidth 300\r\n",
       "hide circle\r\n",
       "\r\n",
       "package \"ConnectionTest\" as E1  [[psysml:316d1b7b-e6b7-4d49-a637-31383ba5712a ]]  {\r\n",
       "comp usage \"p\" as E2  <<(T,blue) part>> [[psysml:c01c1eb8-4402-477c-affb-a3d93aa1c07f ]] {\r\n",
       "}\r\n",
       "comp usage \"x\" as E3  <<(T,blue) part>> [[psysml:83a66275-79f9-4d22-aa8c-e03faa30289f ]] {\r\n",
       "}\r\n",
       "comp usage \"x1\" as E4  <<(T,blue) part>> [[psysml:aa5ac9d5-4dfe-418e-90b4-d1e9d9002b4c ]] {\r\n",
       "}\r\n",
       "comp def \"P\" as E5  <<(T,blue) part def>> [[psysml:fe1eabcd-2f5c-4c92-bec8-31bd54db8461 ]] {\r\n",
       "}\r\n",
       "comp usage \"y\" as E6  <<(T,blue) part>> [[psysml:06be23d5-21a7-42eb-83e3-f8e6bdc4a055 ]] {\r\n",
       "}\r\n",
       "comp usage \"p1\" as E7  <<(T,blue) part>> [[psysml:32e0c838-e55d-456a-ac80-3fd98b88adbf ]] {\r\n",
       "}\r\n",
       "E2 *- - \"1\"E3 [[psysml:96d6ab40-4f8f-4d11-a48f-d95a37d5e194 ]] \r\n",
       "E3 *- - \"1\"E4 [[psysml:15b45894-f404-4f26-aaef-cf96b8c0ca99 ]] \r\n",
       "E5 *- - \"1\"E6 [[psysml:e9a2dbd2-75b9-45f4-aecc-a2c2183931e9 ]] \r\n",
       "E2 -[thickness=3]- \"*\"E6 [[psysml:2b37c4a5-3576-4b38-9831-53a66373adf4 ]] \r\n",
       "E5 *- - \"1\"E7 [[psysml:0433d7bc-4d61-42a3-98d7-5077bd02d97e ]] \r\n",
       "E7 - -|> E2 [[psysml:d6550333-67eb-4da5-a08d-e8c2ba9c3c42 ]] \r\n",
       "}\r\n",
       "@enduml\r\n",
       "\n",
       "PlantUML version 1.2020.13(Sat Jun 13 12:26:38 UTC 2020)\n",
       "(EPL source distribution)\n",
       "Java Runtime: OpenJDK Runtime Environment\n",
       "JVM: OpenJDK 64-Bit Server VM\n",
       "Default Encoding: UTF-8\n",
       "Language: en\n",
       "Country: null\n",
       "--></g></svg>"
      ]
     },
     "execution_count": 15,
     "metadata": {},
     "output_type": "execute_result"
    }
   ],
   "source": [
    "%viz --style=\"POLYLINE\" --view=\"MIXED\" \"ConnectionTest\""
   ]
  },
  {
   "cell_type": "code",
   "execution_count": 16,
   "id": "1e2309ec",
   "metadata": {
    "execution": {
     "iopub.execute_input": "2021-08-04T06:28:52.547198Z",
     "iopub.status.busy": "2021-08-04T06:28:52.546718Z",
     "iopub.status.idle": "2021-08-04T06:28:52.573935Z",
     "shell.execute_reply": "2021-08-04T06:28:52.573418Z"
    }
   },
   "outputs": [
    {
     "data": {
      "image/svg+xml": [
       "<?xml version=\"1.0\" encoding=\"UTF-8\" standalone=\"no\"?><svg xmlns=\"http://www.w3.org/2000/svg\" xmlns:xlink=\"http://www.w3.org/1999/xlink\" contentScriptType=\"application/ecmascript\" contentStyleType=\"text/css\" height=\"196px\" preserveAspectRatio=\"none\" style=\"width:544px;height:196px;\" version=\"1.1\" viewBox=\"0 0 544 196\" width=\"544px\" zoomAndPan=\"magnify\"><defs/><g><!--MD5=[fbc87193dbaf4d95561dea2c320d4a47]\n",
       "cluster E1--><a href=\"psysml:316d1b7b-e6b7-4d49-a637-31383ba5712a\" target=\"_top\" title=\"psysml:316d1b7b-e6b7-4d49-a637-31383ba5712a\" xlink:actuate=\"onRequest\" xlink:href=\"psysml:316d1b7b-e6b7-4d49-a637-31383ba5712a\" xlink:show=\"new\" xlink:title=\"psysml:316d1b7b-e6b7-4d49-a637-31383ba5712a\" xlink:type=\"simple\"><polygon fill=\"#FFFFFF\" points=\"16,6,147,6,154,28.2969,522,28.2969,522,184,16,184,16,6\" style=\"stroke: #000000; stroke-width: 1.5;\"/><line style=\"stroke: #000000; stroke-width: 1.5;\" x1=\"16\" x2=\"154\" y1=\"28.2969\" y2=\"28.2969\"/><text fill=\"#000000\" font-family=\"sans-serif\" font-size=\"14\" font-weight=\"bold\" lengthAdjust=\"spacingAndGlyphs\" textLength=\"125\" x=\"20\" y=\"20.9951\">ConnectionTest</text></a><!--MD5=[b4997ac47864f28c2f74865a473b2911]\n",
       "class E2--><a href=\"psysml:c01c1eb8-4402-477c-affb-a3d93aa1c07f\" target=\"_top\" title=\"psysml:c01c1eb8-4402-477c-affb-a3d93aa1c07f\" xlink:actuate=\"onRequest\" xlink:href=\"psysml:c01c1eb8-4402-477c-affb-a3d93aa1c07f\" xlink:show=\"new\" xlink:title=\"psysml:c01c1eb8-4402-477c-affb-a3d93aa1c07f\" xlink:type=\"simple\"><rect fill=\"#FFFFFF\" height=\"45.9375\" id=\"E2\" rx=\"10\" ry=\"10\" style=\"stroke: #383838; stroke-width: 1.5;\" width=\"42\" x=\"260\" y=\"63\"/><text fill=\"#000000\" font-family=\"sans-serif\" font-size=\"12\" font-style=\"italic\" lengthAdjust=\"spacingAndGlyphs\" textLength=\"40\" x=\"261\" y=\"79.1387\">«part»</text><text fill=\"#000000\" font-family=\"sans-serif\" font-size=\"12\" lengthAdjust=\"spacingAndGlyphs\" textLength=\"8\" x=\"277\" y=\"93.1074\">p</text><line style=\"stroke: #383838; stroke-width: 1.5;\" x1=\"261\" x2=\"301\" y1=\"100.9375\" y2=\"100.9375\"/></a><!--MD5=[09b614a08d8cba4a07c9adeb5e0fee81]\n",
       "class E3--><a href=\"psysml:83a66275-79f9-4d22-aa8c-e03faa30289f\" target=\"_top\" title=\"psysml:83a66275-79f9-4d22-aa8c-e03faa30289f\" xlink:actuate=\"onRequest\" xlink:href=\"psysml:83a66275-79f9-4d22-aa8c-e03faa30289f\" xlink:show=\"new\" xlink:title=\"psysml:83a66275-79f9-4d22-aa8c-e03faa30289f\" xlink:type=\"simple\"><rect fill=\"#FFFFFF\" height=\"45.9375\" id=\"E3\" rx=\"10\" ry=\"10\" style=\"stroke: #383838; stroke-width: 1.5;\" width=\"42\" x=\"362\" y=\"41\"/><text fill=\"#000000\" font-family=\"sans-serif\" font-size=\"12\" font-style=\"italic\" lengthAdjust=\"spacingAndGlyphs\" textLength=\"40\" x=\"363\" y=\"57.1387\">«part»</text><text fill=\"#000000\" font-family=\"sans-serif\" font-size=\"12\" lengthAdjust=\"spacingAndGlyphs\" textLength=\"6\" x=\"380\" y=\"71.1074\">x</text><line style=\"stroke: #383838; stroke-width: 1.5;\" x1=\"363\" x2=\"403\" y1=\"78.9375\" y2=\"78.9375\"/></a><!--MD5=[ebbe1d658d1005bcc118a6aa81145e00]\n",
       "class E4--><a href=\"psysml:aa5ac9d5-4dfe-418e-90b4-d1e9d9002b4c\" target=\"_top\" title=\"psysml:aa5ac9d5-4dfe-418e-90b4-d1e9d9002b4c\" xlink:actuate=\"onRequest\" xlink:href=\"psysml:aa5ac9d5-4dfe-418e-90b4-d1e9d9002b4c\" xlink:show=\"new\" xlink:title=\"psysml:aa5ac9d5-4dfe-418e-90b4-d1e9d9002b4c\" xlink:type=\"simple\"><rect fill=\"#FFFFFF\" height=\"45.9375\" id=\"E4\" rx=\"10\" ry=\"10\" style=\"stroke: #383838; stroke-width: 1.5;\" width=\"42\" x=\"464\" y=\"41\"/><text fill=\"#000000\" font-family=\"sans-serif\" font-size=\"12\" font-style=\"italic\" lengthAdjust=\"spacingAndGlyphs\" textLength=\"40\" x=\"465\" y=\"57.1387\">«part»</text><text fill=\"#000000\" font-family=\"sans-serif\" font-size=\"12\" lengthAdjust=\"spacingAndGlyphs\" textLength=\"14\" x=\"478\" y=\"71.1074\">x1</text><line style=\"stroke: #383838; stroke-width: 1.5;\" x1=\"465\" x2=\"505\" y1=\"78.9375\" y2=\"78.9375\"/></a><!--MD5=[270fce915f116d4de14055a7c1d9a0f3]\n",
       "class E5--><a href=\"psysml:fe1eabcd-2f5c-4c92-bec8-31bd54db8461\" target=\"_top\" title=\"psysml:fe1eabcd-2f5c-4c92-bec8-31bd54db8461\" xlink:actuate=\"onRequest\" xlink:href=\"psysml:fe1eabcd-2f5c-4c92-bec8-31bd54db8461\" xlink:show=\"new\" xlink:title=\"psysml:fe1eabcd-2f5c-4c92-bec8-31bd54db8461\" xlink:type=\"simple\"><rect fill=\"#FFFFFF\" height=\"45.9375\" id=\"E5\" style=\"stroke: #383838; stroke-width: 1.5;\" width=\"66\" x=\"32\" y=\"93\"/><text fill=\"#000000\" font-family=\"sans-serif\" font-size=\"12\" font-style=\"italic\" lengthAdjust=\"spacingAndGlyphs\" textLength=\"64\" x=\"33\" y=\"109.1387\">«part def»</text><text fill=\"#000000\" font-family=\"sans-serif\" font-size=\"12\" lengthAdjust=\"spacingAndGlyphs\" textLength=\"8\" x=\"61\" y=\"123.1074\">P</text><line style=\"stroke: #383838; stroke-width: 1.5;\" x1=\"33\" x2=\"97\" y1=\"130.9375\" y2=\"130.9375\"/></a><!--MD5=[60a26617385b1d2d0262a64233df1f8d]\n",
       "class E6--><a href=\"psysml:06be23d5-21a7-42eb-83e3-f8e6bdc4a055\" target=\"_top\" title=\"psysml:06be23d5-21a7-42eb-83e3-f8e6bdc4a055\" xlink:actuate=\"onRequest\" xlink:href=\"psysml:06be23d5-21a7-42eb-83e3-f8e6bdc4a055\" xlink:show=\"new\" xlink:title=\"psysml:06be23d5-21a7-42eb-83e3-f8e6bdc4a055\" xlink:type=\"simple\"><rect fill=\"#FFFFFF\" height=\"45.9375\" id=\"E6\" rx=\"10\" ry=\"10\" style=\"stroke: #383838; stroke-width: 1.5;\" width=\"42\" x=\"362\" y=\"122\"/><text fill=\"#000000\" font-family=\"sans-serif\" font-size=\"12\" font-style=\"italic\" lengthAdjust=\"spacingAndGlyphs\" textLength=\"40\" x=\"363\" y=\"138.1387\">«part»</text><text fill=\"#000000\" font-family=\"sans-serif\" font-size=\"12\" lengthAdjust=\"spacingAndGlyphs\" textLength=\"6\" x=\"380\" y=\"152.1074\">y</text><line style=\"stroke: #383838; stroke-width: 1.5;\" x1=\"363\" x2=\"403\" y1=\"159.9375\" y2=\"159.9375\"/></a><!--MD5=[2156ba9850f5573cc1fc38a6a4b2f02b]\n",
       "class E7--><a href=\"psysml:32e0c838-e55d-456a-ac80-3fd98b88adbf\" target=\"_top\" title=\"psysml:32e0c838-e55d-456a-ac80-3fd98b88adbf\" xlink:actuate=\"onRequest\" xlink:href=\"psysml:32e0c838-e55d-456a-ac80-3fd98b88adbf\" xlink:show=\"new\" xlink:title=\"psysml:32e0c838-e55d-456a-ac80-3fd98b88adbf\" xlink:type=\"simple\"><rect fill=\"#FFFFFF\" height=\"45.9375\" id=\"E7\" rx=\"10\" ry=\"10\" style=\"stroke: #383838; stroke-width: 1.5;\" width=\"42\" x=\"158\" y=\"63\"/><text fill=\"#000000\" font-family=\"sans-serif\" font-size=\"12\" font-style=\"italic\" lengthAdjust=\"spacingAndGlyphs\" textLength=\"40\" x=\"159\" y=\"79.1387\">«part»</text><text fill=\"#000000\" font-family=\"sans-serif\" font-size=\"12\" lengthAdjust=\"spacingAndGlyphs\" textLength=\"16\" x=\"171\" y=\"93.1074\">p1</text><line style=\"stroke: #383838; stroke-width: 1.5;\" x1=\"159\" x2=\"199\" y1=\"100.9375\" y2=\"100.9375\"/></a><!--MD5=[209b3feb70ccb6233bfe1053d122c12c]\n",
       "reverse link E2 to E3--><a href=\"psysml:96d6ab40-4f8f-4d11-a48f-d95a37d5e194\" target=\"_top\" title=\"psysml:96d6ab40-4f8f-4d11-a48f-d95a37d5e194\" xlink:actuate=\"onRequest\" xlink:href=\"psysml:96d6ab40-4f8f-4d11-a48f-d95a37d5e194\" xlink:show=\"new\" xlink:title=\"psysml:96d6ab40-4f8f-4d11-a48f-d95a37d5e194\" xlink:type=\"simple\"><path d=\"M315.01,78.74 C330.47,75.34 348.38,71.4 361.79,68.45 \" fill=\"none\" id=\"E2&lt;-E3\" style=\"stroke: #383838; stroke-width: 1.0;\"/><polygon fill=\"#383838\" points=\"302.24,81.55,308.9577,84.1716,313.9613,78.979,307.2437,76.3574,302.24,81.55\" style=\"stroke: #383838; stroke-width: 1.0;\"/><text fill=\"#000000\" font-family=\"sans-serif\" font-size=\"13\" lengthAdjust=\"spacingAndGlyphs\" textLength=\"8\" x=\"346.0694\" y=\"84.2065\">1</text></a><!--MD5=[4672eba38e49728da53d11aeb285b987]\n",
       "reverse link E3 to E4--><a href=\"psysml:15b45894-f404-4f26-aaef-cf96b8c0ca99\" target=\"_top\" title=\"psysml:15b45894-f404-4f26-aaef-cf96b8c0ca99\" xlink:actuate=\"onRequest\" xlink:href=\"psysml:15b45894-f404-4f26-aaef-cf96b8c0ca99\" xlink:show=\"new\" xlink:title=\"psysml:15b45894-f404-4f26-aaef-cf96b8c0ca99\" xlink:type=\"simple\"><path d=\"M417.48,64 C432.83,64 450.52,64 463.79,64 \" fill=\"none\" id=\"E3&lt;-E4\" style=\"stroke: #383838; stroke-width: 1.0;\"/><polygon fill=\"#383838\" points=\"404.24,64,410.24,68,416.24,64,410.24,60,404.24,64\" style=\"stroke: #383838; stroke-width: 1.0;\"/><text fill=\"#000000\" font-family=\"sans-serif\" font-size=\"13\" lengthAdjust=\"spacingAndGlyphs\" textLength=\"8\" x=\"448.0694\" y=\"78.3937\">1</text></a><!--MD5=[85d356282659285ab4b2cfe2f634dd2b]\n",
       "reverse link E5 to E6--><a href=\"psysml:e9a2dbd2-75b9-45f4-aecc-a2c2183931e9\" target=\"_top\" title=\"psysml:e9a2dbd2-75b9-45f4-aecc-a2c2183931e9\" xlink:actuate=\"onRequest\" xlink:href=\"psysml:e9a2dbd2-75b9-45f4-aecc-a2c2183931e9\" xlink:show=\"new\" xlink:title=\"psysml:e9a2dbd2-75b9-45f4-aecc-a2c2183931e9\" xlink:type=\"simple\"><path d=\"M111.4,121.15 C126.24,122.78 142.82,124.53 158,126 C233.17,133.27 322.68,140.41 361.91,143.46 \" fill=\"none\" id=\"E5&lt;-E6\" style=\"stroke: #383838; stroke-width: 1.0;\"/><polygon fill=\"#383838\" points=\"98.34,119.7,103.8644,124.3348,110.2674,121.0179,104.743,116.3832,98.34,119.7\" style=\"stroke: #383838; stroke-width: 1.0;\"/><text fill=\"#000000\" font-family=\"sans-serif\" font-size=\"13\" lengthAdjust=\"spacingAndGlyphs\" textLength=\"8\" x=\"345.9126\" y=\"157.4578\">1</text></a><!--MD5=[e3e28c1befcf002155aa15e1416b4315]\n",
       "link E2 to E6--><a href=\"psysml:2b37c4a5-3576-4b38-9831-53a66373adf4\" target=\"_top\" title=\"psysml:2b37c4a5-3576-4b38-9831-53a66373adf4\" xlink:actuate=\"onRequest\" xlink:href=\"psysml:2b37c4a5-3576-4b38-9831-53a66373adf4\" xlink:show=\"new\" xlink:title=\"psysml:2b37c4a5-3576-4b38-9831-53a66373adf4\" xlink:type=\"simple\"><path d=\"M302.24,97.94 C319.59,108.18 344.45,122.85 361.79,133.08 \" fill=\"none\" id=\"E2-E6\" style=\"stroke: #383838; stroke-width: 3.0;\"/><text fill=\"#000000\" font-family=\"sans-serif\" font-size=\"13\" lengthAdjust=\"spacingAndGlyphs\" textLength=\"7\" x=\"346.9137\" y=\"143.7691\">*</text></a><!--MD5=[452b418e7f8a40397a49b8c0a78acc5b]\n",
       "reverse link E5 to E7--><a href=\"psysml:0433d7bc-4d61-42a3-98d7-5077bd02d97e\" target=\"_top\" title=\"psysml:0433d7bc-4d61-42a3-98d7-5077bd02d97e\" xlink:actuate=\"onRequest\" xlink:href=\"psysml:0433d7bc-4d61-42a3-98d7-5077bd02d97e\" xlink:show=\"new\" xlink:title=\"psysml:0433d7bc-4d61-42a3-98d7-5077bd02d97e\" xlink:type=\"simple\"><path d=\"M110.79,104 C127.12,99.63 144.77,94.9 157.89,91.39 \" fill=\"none\" id=\"E5&lt;-E7\" style=\"stroke: #383838; stroke-width: 1.0;\"/><polygon fill=\"#383838\" points=\"98.09,107.4,104.922,109.7074,109.6796,104.2884,102.8476,101.981,98.09,107.4\" style=\"stroke: #383838; stroke-width: 1.0;\"/><text fill=\"#000000\" font-family=\"sans-serif\" font-size=\"13\" lengthAdjust=\"spacingAndGlyphs\" textLength=\"8\" x=\"141.8862\" y=\"107.5967\">1</text></a><!--MD5=[583832df87f4419a098336a29a52fa00]\n",
       "link E7 to E2--><a href=\"psysml:d6550333-67eb-4da5-a08d-e8c2ba9c3c42\" target=\"_top\" title=\"psysml:d6550333-67eb-4da5-a08d-e8c2ba9c3c42\" xlink:actuate=\"onRequest\" xlink:href=\"psysml:d6550333-67eb-4da5-a08d-e8c2ba9c3c42\" xlink:show=\"new\" xlink:title=\"psysml:d6550333-67eb-4da5-a08d-e8c2ba9c3c42\" xlink:type=\"simple\"><path d=\"M200.24,86 C211.49,86 225.9,86 239.37,86 \" fill=\"none\" id=\"E7-&gt;E2\" style=\"stroke: #383838; stroke-width: 1.0;\"/><polygon fill=\"none\" points=\"239.79,79,259.79,86,239.79,93,239.79,79\" style=\"stroke: #383838; stroke-width: 1.0;\"/></a><!--MD5=[b74b6327a5ebdda3d349bc7b33ece14c]\n",
       "@startuml\r\n",
       "left to right direction\r\n",
       "skinparam monochrome true\r\n",
       "skinparam classbackgroundcolor white\r\n",
       "skinparam shadowing false\r\n",
       "skinparam wrapWidth 300\r\n",
       "hide circle\r\n",
       "\r\n",
       "package \"ConnectionTest\" as E1  [[psysml:316d1b7b-e6b7-4d49-a637-31383ba5712a ]]  {\r\n",
       "comp usage \"p\" as E2  <<(T,blue) part>> [[psysml:c01c1eb8-4402-477c-affb-a3d93aa1c07f ]] {\r\n",
       "}\r\n",
       "comp usage \"x\" as E3  <<(T,blue) part>> [[psysml:83a66275-79f9-4d22-aa8c-e03faa30289f ]] {\r\n",
       "}\r\n",
       "comp usage \"x1\" as E4  <<(T,blue) part>> [[psysml:aa5ac9d5-4dfe-418e-90b4-d1e9d9002b4c ]] {\r\n",
       "}\r\n",
       "comp def \"P\" as E5  <<(T,blue) part def>> [[psysml:fe1eabcd-2f5c-4c92-bec8-31bd54db8461 ]] {\r\n",
       "}\r\n",
       "comp usage \"y\" as E6  <<(T,blue) part>> [[psysml:06be23d5-21a7-42eb-83e3-f8e6bdc4a055 ]] {\r\n",
       "}\r\n",
       "comp usage \"p1\" as E7  <<(T,blue) part>> [[psysml:32e0c838-e55d-456a-ac80-3fd98b88adbf ]] {\r\n",
       "}\r\n",
       "E2 *- - \"1\"E3 [[psysml:96d6ab40-4f8f-4d11-a48f-d95a37d5e194 ]] \r\n",
       "E3 *- - \"1\"E4 [[psysml:15b45894-f404-4f26-aaef-cf96b8c0ca99 ]] \r\n",
       "E5 *- - \"1\"E6 [[psysml:e9a2dbd2-75b9-45f4-aecc-a2c2183931e9 ]] \r\n",
       "E2 -[thickness=3]- \"*\"E6 [[psysml:2b37c4a5-3576-4b38-9831-53a66373adf4 ]] \r\n",
       "E5 *- - \"1\"E7 [[psysml:0433d7bc-4d61-42a3-98d7-5077bd02d97e ]] \r\n",
       "E7 - -|> E2 [[psysml:d6550333-67eb-4da5-a08d-e8c2ba9c3c42 ]] \r\n",
       "}\r\n",
       "@enduml\r\n",
       "\n",
       "PlantUML version 1.2020.13(Sat Jun 13 12:26:38 UTC 2020)\n",
       "(EPL source distribution)\n",
       "Java Runtime: OpenJDK Runtime Environment\n",
       "JVM: OpenJDK 64-Bit Server VM\n",
       "Default Encoding: UTF-8\n",
       "Language: en\n",
       "Country: null\n",
       "--></g></svg>"
      ]
     },
     "execution_count": 16,
     "metadata": {},
     "output_type": "execute_result"
    }
   ],
   "source": [
    "%viz --style=\"LR\" --view=\"Default\" \"ConnectionTest\""
   ]
  },
  {
   "cell_type": "code",
   "execution_count": 17,
   "id": "76aae951",
   "metadata": {
    "execution": {
     "iopub.execute_input": "2021-08-04T06:28:52.622997Z",
     "iopub.status.busy": "2021-08-04T06:28:52.622637Z",
     "iopub.status.idle": "2021-08-04T06:28:52.649468Z",
     "shell.execute_reply": "2021-08-04T06:28:52.648676Z"
    }
   },
   "outputs": [
    {
     "data": {
      "image/svg+xml": [
       "<?xml version=\"1.0\" encoding=\"UTF-8\" standalone=\"no\"?><svg xmlns=\"http://www.w3.org/2000/svg\" xmlns:xlink=\"http://www.w3.org/1999/xlink\" contentScriptType=\"application/ecmascript\" contentStyleType=\"text/css\" height=\"196px\" preserveAspectRatio=\"none\" style=\"width:544px;height:196px;\" version=\"1.1\" viewBox=\"0 0 544 196\" width=\"544px\" zoomAndPan=\"magnify\"><defs/><g><!--MD5=[fbc87193dbaf4d95561dea2c320d4a47]\n",
       "cluster E1--><a href=\"psysml:316d1b7b-e6b7-4d49-a637-31383ba5712a\" target=\"_top\" title=\"psysml:316d1b7b-e6b7-4d49-a637-31383ba5712a\" xlink:actuate=\"onRequest\" xlink:href=\"psysml:316d1b7b-e6b7-4d49-a637-31383ba5712a\" xlink:show=\"new\" xlink:title=\"psysml:316d1b7b-e6b7-4d49-a637-31383ba5712a\" xlink:type=\"simple\"><polygon fill=\"#FFFFFF\" points=\"16,6,147,6,154,28.2969,522,28.2969,522,184,16,184,16,6\" style=\"stroke: #000000; stroke-width: 1.5;\"/><line style=\"stroke: #000000; stroke-width: 1.5;\" x1=\"16\" x2=\"154\" y1=\"28.2969\" y2=\"28.2969\"/><text fill=\"#000000\" font-family=\"sans-serif\" font-size=\"14\" font-weight=\"bold\" lengthAdjust=\"spacingAndGlyphs\" textLength=\"125\" x=\"20\" y=\"20.9951\">ConnectionTest</text></a><!--MD5=[b4997ac47864f28c2f74865a473b2911]\n",
       "class E2--><a href=\"psysml:c01c1eb8-4402-477c-affb-a3d93aa1c07f\" target=\"_top\" title=\"psysml:c01c1eb8-4402-477c-affb-a3d93aa1c07f\" xlink:actuate=\"onRequest\" xlink:href=\"psysml:c01c1eb8-4402-477c-affb-a3d93aa1c07f\" xlink:show=\"new\" xlink:title=\"psysml:c01c1eb8-4402-477c-affb-a3d93aa1c07f\" xlink:type=\"simple\"><rect fill=\"#FFFFFF\" height=\"45.9375\" id=\"E2\" rx=\"10\" ry=\"10\" style=\"stroke: #383838; stroke-width: 1.5;\" width=\"42\" x=\"260\" y=\"63\"/><text fill=\"#000000\" font-family=\"sans-serif\" font-size=\"12\" font-style=\"italic\" lengthAdjust=\"spacingAndGlyphs\" textLength=\"40\" x=\"261\" y=\"79.1387\">«part»</text><text fill=\"#000000\" font-family=\"sans-serif\" font-size=\"12\" lengthAdjust=\"spacingAndGlyphs\" textLength=\"8\" x=\"277\" y=\"93.1074\">p</text><line style=\"stroke: #383838; stroke-width: 1.5;\" x1=\"261\" x2=\"301\" y1=\"100.9375\" y2=\"100.9375\"/></a><!--MD5=[09b614a08d8cba4a07c9adeb5e0fee81]\n",
       "class E3--><a href=\"psysml:83a66275-79f9-4d22-aa8c-e03faa30289f\" target=\"_top\" title=\"psysml:83a66275-79f9-4d22-aa8c-e03faa30289f\" xlink:actuate=\"onRequest\" xlink:href=\"psysml:83a66275-79f9-4d22-aa8c-e03faa30289f\" xlink:show=\"new\" xlink:title=\"psysml:83a66275-79f9-4d22-aa8c-e03faa30289f\" xlink:type=\"simple\"><rect fill=\"#FFFFFF\" height=\"45.9375\" id=\"E3\" rx=\"10\" ry=\"10\" style=\"stroke: #383838; stroke-width: 1.5;\" width=\"42\" x=\"362\" y=\"41\"/><text fill=\"#000000\" font-family=\"sans-serif\" font-size=\"12\" font-style=\"italic\" lengthAdjust=\"spacingAndGlyphs\" textLength=\"40\" x=\"363\" y=\"57.1387\">«part»</text><text fill=\"#000000\" font-family=\"sans-serif\" font-size=\"12\" lengthAdjust=\"spacingAndGlyphs\" textLength=\"6\" x=\"380\" y=\"71.1074\">x</text><line style=\"stroke: #383838; stroke-width: 1.5;\" x1=\"363\" x2=\"403\" y1=\"78.9375\" y2=\"78.9375\"/></a><!--MD5=[ebbe1d658d1005bcc118a6aa81145e00]\n",
       "class E4--><a href=\"psysml:aa5ac9d5-4dfe-418e-90b4-d1e9d9002b4c\" target=\"_top\" title=\"psysml:aa5ac9d5-4dfe-418e-90b4-d1e9d9002b4c\" xlink:actuate=\"onRequest\" xlink:href=\"psysml:aa5ac9d5-4dfe-418e-90b4-d1e9d9002b4c\" xlink:show=\"new\" xlink:title=\"psysml:aa5ac9d5-4dfe-418e-90b4-d1e9d9002b4c\" xlink:type=\"simple\"><rect fill=\"#FFFFFF\" height=\"45.9375\" id=\"E4\" rx=\"10\" ry=\"10\" style=\"stroke: #383838; stroke-width: 1.5;\" width=\"42\" x=\"464\" y=\"41\"/><text fill=\"#000000\" font-family=\"sans-serif\" font-size=\"12\" font-style=\"italic\" lengthAdjust=\"spacingAndGlyphs\" textLength=\"40\" x=\"465\" y=\"57.1387\">«part»</text><text fill=\"#000000\" font-family=\"sans-serif\" font-size=\"12\" lengthAdjust=\"spacingAndGlyphs\" textLength=\"14\" x=\"478\" y=\"71.1074\">x1</text><line style=\"stroke: #383838; stroke-width: 1.5;\" x1=\"465\" x2=\"505\" y1=\"78.9375\" y2=\"78.9375\"/></a><!--MD5=[270fce915f116d4de14055a7c1d9a0f3]\n",
       "class E5--><a href=\"psysml:fe1eabcd-2f5c-4c92-bec8-31bd54db8461\" target=\"_top\" title=\"psysml:fe1eabcd-2f5c-4c92-bec8-31bd54db8461\" xlink:actuate=\"onRequest\" xlink:href=\"psysml:fe1eabcd-2f5c-4c92-bec8-31bd54db8461\" xlink:show=\"new\" xlink:title=\"psysml:fe1eabcd-2f5c-4c92-bec8-31bd54db8461\" xlink:type=\"simple\"><rect fill=\"#FFFFFF\" height=\"45.9375\" id=\"E5\" style=\"stroke: #383838; stroke-width: 1.5;\" width=\"66\" x=\"32\" y=\"93\"/><text fill=\"#000000\" font-family=\"sans-serif\" font-size=\"12\" font-style=\"italic\" lengthAdjust=\"spacingAndGlyphs\" textLength=\"64\" x=\"33\" y=\"109.1387\">«part def»</text><text fill=\"#000000\" font-family=\"sans-serif\" font-size=\"12\" lengthAdjust=\"spacingAndGlyphs\" textLength=\"8\" x=\"61\" y=\"123.1074\">P</text><line style=\"stroke: #383838; stroke-width: 1.5;\" x1=\"33\" x2=\"97\" y1=\"130.9375\" y2=\"130.9375\"/></a><!--MD5=[60a26617385b1d2d0262a64233df1f8d]\n",
       "class E6--><a href=\"psysml:06be23d5-21a7-42eb-83e3-f8e6bdc4a055\" target=\"_top\" title=\"psysml:06be23d5-21a7-42eb-83e3-f8e6bdc4a055\" xlink:actuate=\"onRequest\" xlink:href=\"psysml:06be23d5-21a7-42eb-83e3-f8e6bdc4a055\" xlink:show=\"new\" xlink:title=\"psysml:06be23d5-21a7-42eb-83e3-f8e6bdc4a055\" xlink:type=\"simple\"><rect fill=\"#FFFFFF\" height=\"45.9375\" id=\"E6\" rx=\"10\" ry=\"10\" style=\"stroke: #383838; stroke-width: 1.5;\" width=\"42\" x=\"362\" y=\"122\"/><text fill=\"#000000\" font-family=\"sans-serif\" font-size=\"12\" font-style=\"italic\" lengthAdjust=\"spacingAndGlyphs\" textLength=\"40\" x=\"363\" y=\"138.1387\">«part»</text><text fill=\"#000000\" font-family=\"sans-serif\" font-size=\"12\" lengthAdjust=\"spacingAndGlyphs\" textLength=\"6\" x=\"380\" y=\"152.1074\">y</text><line style=\"stroke: #383838; stroke-width: 1.5;\" x1=\"363\" x2=\"403\" y1=\"159.9375\" y2=\"159.9375\"/></a><!--MD5=[2156ba9850f5573cc1fc38a6a4b2f02b]\n",
       "class E7--><a href=\"psysml:32e0c838-e55d-456a-ac80-3fd98b88adbf\" target=\"_top\" title=\"psysml:32e0c838-e55d-456a-ac80-3fd98b88adbf\" xlink:actuate=\"onRequest\" xlink:href=\"psysml:32e0c838-e55d-456a-ac80-3fd98b88adbf\" xlink:show=\"new\" xlink:title=\"psysml:32e0c838-e55d-456a-ac80-3fd98b88adbf\" xlink:type=\"simple\"><rect fill=\"#FFFFFF\" height=\"45.9375\" id=\"E7\" rx=\"10\" ry=\"10\" style=\"stroke: #383838; stroke-width: 1.5;\" width=\"42\" x=\"158\" y=\"63\"/><text fill=\"#000000\" font-family=\"sans-serif\" font-size=\"12\" font-style=\"italic\" lengthAdjust=\"spacingAndGlyphs\" textLength=\"40\" x=\"159\" y=\"79.1387\">«part»</text><text fill=\"#000000\" font-family=\"sans-serif\" font-size=\"12\" lengthAdjust=\"spacingAndGlyphs\" textLength=\"16\" x=\"171\" y=\"93.1074\">p1</text><line style=\"stroke: #383838; stroke-width: 1.5;\" x1=\"159\" x2=\"199\" y1=\"100.9375\" y2=\"100.9375\"/></a><!--MD5=[209b3feb70ccb6233bfe1053d122c12c]\n",
       "reverse link E2 to E3--><a href=\"psysml:96d6ab40-4f8f-4d11-a48f-d95a37d5e194\" target=\"_top\" title=\"psysml:96d6ab40-4f8f-4d11-a48f-d95a37d5e194\" xlink:actuate=\"onRequest\" xlink:href=\"psysml:96d6ab40-4f8f-4d11-a48f-d95a37d5e194\" xlink:show=\"new\" xlink:title=\"psysml:96d6ab40-4f8f-4d11-a48f-d95a37d5e194\" xlink:type=\"simple\"><path d=\"M315.01,78.74 C330.47,75.34 348.38,71.4 361.79,68.45 \" fill=\"none\" id=\"E2&lt;-E3\" style=\"stroke: #383838; stroke-width: 1.0;\"/><polygon fill=\"#383838\" points=\"302.24,81.55,308.9577,84.1716,313.9613,78.979,307.2437,76.3574,302.24,81.55\" style=\"stroke: #383838; stroke-width: 1.0;\"/><text fill=\"#000000\" font-family=\"sans-serif\" font-size=\"13\" lengthAdjust=\"spacingAndGlyphs\" textLength=\"8\" x=\"346.0694\" y=\"84.2065\">1</text></a><!--MD5=[4672eba38e49728da53d11aeb285b987]\n",
       "reverse link E3 to E4--><a href=\"psysml:15b45894-f404-4f26-aaef-cf96b8c0ca99\" target=\"_top\" title=\"psysml:15b45894-f404-4f26-aaef-cf96b8c0ca99\" xlink:actuate=\"onRequest\" xlink:href=\"psysml:15b45894-f404-4f26-aaef-cf96b8c0ca99\" xlink:show=\"new\" xlink:title=\"psysml:15b45894-f404-4f26-aaef-cf96b8c0ca99\" xlink:type=\"simple\"><path d=\"M417.48,64 C432.83,64 450.52,64 463.79,64 \" fill=\"none\" id=\"E3&lt;-E4\" style=\"stroke: #383838; stroke-width: 1.0;\"/><polygon fill=\"#383838\" points=\"404.24,64,410.24,68,416.24,64,410.24,60,404.24,64\" style=\"stroke: #383838; stroke-width: 1.0;\"/><text fill=\"#000000\" font-family=\"sans-serif\" font-size=\"13\" lengthAdjust=\"spacingAndGlyphs\" textLength=\"8\" x=\"448.0694\" y=\"78.3937\">1</text></a><!--MD5=[85d356282659285ab4b2cfe2f634dd2b]\n",
       "reverse link E5 to E6--><a href=\"psysml:e9a2dbd2-75b9-45f4-aecc-a2c2183931e9\" target=\"_top\" title=\"psysml:e9a2dbd2-75b9-45f4-aecc-a2c2183931e9\" xlink:actuate=\"onRequest\" xlink:href=\"psysml:e9a2dbd2-75b9-45f4-aecc-a2c2183931e9\" xlink:show=\"new\" xlink:title=\"psysml:e9a2dbd2-75b9-45f4-aecc-a2c2183931e9\" xlink:type=\"simple\"><path d=\"M111.4,121.15 C126.24,122.78 142.82,124.53 158,126 C233.17,133.27 322.68,140.41 361.91,143.46 \" fill=\"none\" id=\"E5&lt;-E6\" style=\"stroke: #383838; stroke-width: 1.0;\"/><polygon fill=\"#383838\" points=\"98.34,119.7,103.8644,124.3348,110.2674,121.0179,104.743,116.3832,98.34,119.7\" style=\"stroke: #383838; stroke-width: 1.0;\"/><text fill=\"#000000\" font-family=\"sans-serif\" font-size=\"13\" lengthAdjust=\"spacingAndGlyphs\" textLength=\"8\" x=\"345.9126\" y=\"157.4578\">1</text></a><!--MD5=[e3e28c1befcf002155aa15e1416b4315]\n",
       "link E2 to E6--><a href=\"psysml:2b37c4a5-3576-4b38-9831-53a66373adf4\" target=\"_top\" title=\"psysml:2b37c4a5-3576-4b38-9831-53a66373adf4\" xlink:actuate=\"onRequest\" xlink:href=\"psysml:2b37c4a5-3576-4b38-9831-53a66373adf4\" xlink:show=\"new\" xlink:title=\"psysml:2b37c4a5-3576-4b38-9831-53a66373adf4\" xlink:type=\"simple\"><path d=\"M302.24,97.94 C319.59,108.18 344.45,122.85 361.79,133.08 \" fill=\"none\" id=\"E2-E6\" style=\"stroke: #383838; stroke-width: 3.0;\"/><text fill=\"#000000\" font-family=\"sans-serif\" font-size=\"13\" lengthAdjust=\"spacingAndGlyphs\" textLength=\"7\" x=\"346.9137\" y=\"143.7691\">*</text></a><!--MD5=[452b418e7f8a40397a49b8c0a78acc5b]\n",
       "reverse link E5 to E7--><a href=\"psysml:0433d7bc-4d61-42a3-98d7-5077bd02d97e\" target=\"_top\" title=\"psysml:0433d7bc-4d61-42a3-98d7-5077bd02d97e\" xlink:actuate=\"onRequest\" xlink:href=\"psysml:0433d7bc-4d61-42a3-98d7-5077bd02d97e\" xlink:show=\"new\" xlink:title=\"psysml:0433d7bc-4d61-42a3-98d7-5077bd02d97e\" xlink:type=\"simple\"><path d=\"M110.79,104 C127.12,99.63 144.77,94.9 157.89,91.39 \" fill=\"none\" id=\"E5&lt;-E7\" style=\"stroke: #383838; stroke-width: 1.0;\"/><polygon fill=\"#383838\" points=\"98.09,107.4,104.922,109.7074,109.6796,104.2884,102.8476,101.981,98.09,107.4\" style=\"stroke: #383838; stroke-width: 1.0;\"/><text fill=\"#000000\" font-family=\"sans-serif\" font-size=\"13\" lengthAdjust=\"spacingAndGlyphs\" textLength=\"8\" x=\"141.8862\" y=\"107.5967\">1</text></a><!--MD5=[583832df87f4419a098336a29a52fa00]\n",
       "link E7 to E2--><a href=\"psysml:d6550333-67eb-4da5-a08d-e8c2ba9c3c42\" target=\"_top\" title=\"psysml:d6550333-67eb-4da5-a08d-e8c2ba9c3c42\" xlink:actuate=\"onRequest\" xlink:href=\"psysml:d6550333-67eb-4da5-a08d-e8c2ba9c3c42\" xlink:show=\"new\" xlink:title=\"psysml:d6550333-67eb-4da5-a08d-e8c2ba9c3c42\" xlink:type=\"simple\"><path d=\"M200.24,86 C211.49,86 225.9,86 239.37,86 \" fill=\"none\" id=\"E7-&gt;E2\" style=\"stroke: #383838; stroke-width: 1.0;\"/><polygon fill=\"none\" points=\"239.79,79,259.79,86,239.79,93,239.79,79\" style=\"stroke: #383838; stroke-width: 1.0;\"/></a><!--MD5=[b74b6327a5ebdda3d349bc7b33ece14c]\n",
       "@startuml\r\n",
       "left to right direction\r\n",
       "skinparam monochrome true\r\n",
       "skinparam classbackgroundcolor white\r\n",
       "skinparam shadowing false\r\n",
       "skinparam wrapWidth 300\r\n",
       "hide circle\r\n",
       "\r\n",
       "package \"ConnectionTest\" as E1  [[psysml:316d1b7b-e6b7-4d49-a637-31383ba5712a ]]  {\r\n",
       "comp usage \"p\" as E2  <<(T,blue) part>> [[psysml:c01c1eb8-4402-477c-affb-a3d93aa1c07f ]] {\r\n",
       "}\r\n",
       "comp usage \"x\" as E3  <<(T,blue) part>> [[psysml:83a66275-79f9-4d22-aa8c-e03faa30289f ]] {\r\n",
       "}\r\n",
       "comp usage \"x1\" as E4  <<(T,blue) part>> [[psysml:aa5ac9d5-4dfe-418e-90b4-d1e9d9002b4c ]] {\r\n",
       "}\r\n",
       "comp def \"P\" as E5  <<(T,blue) part def>> [[psysml:fe1eabcd-2f5c-4c92-bec8-31bd54db8461 ]] {\r\n",
       "}\r\n",
       "comp usage \"y\" as E6  <<(T,blue) part>> [[psysml:06be23d5-21a7-42eb-83e3-f8e6bdc4a055 ]] {\r\n",
       "}\r\n",
       "comp usage \"p1\" as E7  <<(T,blue) part>> [[psysml:32e0c838-e55d-456a-ac80-3fd98b88adbf ]] {\r\n",
       "}\r\n",
       "E2 *- - \"1\"E3 [[psysml:96d6ab40-4f8f-4d11-a48f-d95a37d5e194 ]] \r\n",
       "E3 *- - \"1\"E4 [[psysml:15b45894-f404-4f26-aaef-cf96b8c0ca99 ]] \r\n",
       "E5 *- - \"1\"E6 [[psysml:e9a2dbd2-75b9-45f4-aecc-a2c2183931e9 ]] \r\n",
       "E2 -[thickness=3]- \"*\"E6 [[psysml:2b37c4a5-3576-4b38-9831-53a66373adf4 ]] \r\n",
       "E5 *- - \"1\"E7 [[psysml:0433d7bc-4d61-42a3-98d7-5077bd02d97e ]] \r\n",
       "E7 - -|> E2 [[psysml:d6550333-67eb-4da5-a08d-e8c2ba9c3c42 ]] \r\n",
       "}\r\n",
       "@enduml\r\n",
       "\n",
       "PlantUML version 1.2020.13(Sat Jun 13 12:26:38 UTC 2020)\n",
       "(EPL source distribution)\n",
       "Java Runtime: OpenJDK Runtime Environment\n",
       "JVM: OpenJDK 64-Bit Server VM\n",
       "Default Encoding: UTF-8\n",
       "Language: en\n",
       "Country: null\n",
       "--></g></svg>"
      ]
     },
     "execution_count": 17,
     "metadata": {},
     "output_type": "execute_result"
    }
   ],
   "source": [
    "%viz --style=\"LR\" --view=\"Tree\" \"ConnectionTest\""
   ]
  },
  {
   "cell_type": "code",
   "execution_count": 18,
   "id": "b9b45b83",
   "metadata": {
    "execution": {
     "iopub.execute_input": "2021-08-04T06:28:52.700536Z",
     "iopub.status.busy": "2021-08-04T06:28:52.700004Z",
     "iopub.status.idle": "2021-08-04T06:28:52.705129Z",
     "shell.execute_reply": "2021-08-04T06:28:52.704752Z"
    }
   },
   "outputs": [
    {
     "data": {
      "image/svg+xml": [
       "<?xml version=\"1.0\" encoding=\"UTF-8\" standalone=\"no\"?><svg xmlns=\"http://www.w3.org/2000/svg\" xmlns:xlink=\"http://www.w3.org/1999/xlink\" contentScriptType=\"application/ecmascript\" contentStyleType=\"text/css\" height=\"12px\" preserveAspectRatio=\"none\" style=\"width:12px;height:12px;\" version=\"1.1\" viewBox=\"0 0 12 12\" width=\"12px\" zoomAndPan=\"magnify\"><defs/><g><!--MD5=[19d285c9d72a204eba4e2cd117d745e8]\n",
       "@startuml\r\n",
       "left to right direction\r\n",
       "skinparam monochrome true\r\n",
       "skinparam classbackgroundcolor white\r\n",
       "skinparam shadowing false\r\n",
       "skinparam wrapWidth 300\r\n",
       "hide circle\r\n",
       "\r\n",
       "@enduml\r\n",
       "\n",
       "PlantUML version 1.2020.13(Sat Jun 13 12:26:38 UTC 2020)\n",
       "(EPL source distribution)\n",
       "Java Runtime: OpenJDK Runtime Environment\n",
       "JVM: OpenJDK 64-Bit Server VM\n",
       "Default Encoding: UTF-8\n",
       "Language: en\n",
       "Country: null\n",
       "--></g></svg>"
      ]
     },
     "execution_count": 18,
     "metadata": {},
     "output_type": "execute_result"
    }
   ],
   "source": [
    "%viz --style=\"LR\" --view=\"State\" \"ConnectionTest\""
   ]
  },
  {
   "cell_type": "code",
   "execution_count": 19,
   "id": "86168d20",
   "metadata": {
    "execution": {
     "iopub.execute_input": "2021-08-04T06:28:52.755135Z",
     "iopub.status.busy": "2021-08-04T06:28:52.754685Z",
     "iopub.status.idle": "2021-08-04T06:28:52.794693Z",
     "shell.execute_reply": "2021-08-04T06:28:52.793458Z"
    }
   },
   "outputs": [
    {
     "data": {
      "image/svg+xml": [
       "<?xml version=\"1.0\" encoding=\"UTF-8\" standalone=\"no\"?><svg xmlns=\"http://www.w3.org/2000/svg\" xmlns:xlink=\"http://www.w3.org/1999/xlink\" contentScriptType=\"application/ecmascript\" contentStyleType=\"text/css\" height=\"599px\" preserveAspectRatio=\"none\" style=\"width:354px;height:599px;\" version=\"1.1\" viewBox=\"0 0 354 599\" width=\"354px\" zoomAndPan=\"magnify\"><defs/><g><!--MD5=[fbc87193dbaf4d95561dea2c320d4a47]\n",
       "cluster E1--><a href=\"psysml:316d1b7b-e6b7-4d49-a637-31383ba5712a\" target=\"_top\" title=\"psysml:316d1b7b-e6b7-4d49-a637-31383ba5712a\" xlink:actuate=\"onRequest\" xlink:href=\"psysml:316d1b7b-e6b7-4d49-a637-31383ba5712a\" xlink:show=\"new\" xlink:title=\"psysml:316d1b7b-e6b7-4d49-a637-31383ba5712a\" xlink:type=\"simple\"><polygon fill=\"#FFFFFF\" points=\"16,6,147,6,154,28.2969,332,28.2969,332,587,16,587,16,6\" style=\"stroke: #000000; stroke-width: 1.5;\"/><line style=\"stroke: #000000; stroke-width: 1.5;\" x1=\"16\" x2=\"154\" y1=\"28.2969\" y2=\"28.2969\"/><text fill=\"#000000\" font-family=\"sans-serif\" font-size=\"14\" font-weight=\"bold\" lengthAdjust=\"spacingAndGlyphs\" textLength=\"125\" x=\"20\" y=\"20.9951\">ConnectionTest</text></a><!--MD5=[e4f7fae6ed58524ba242bb0b0d3be6b7]\n",
       "cluster E2--><a href=\"psysml:c01c1eb8-4402-477c-affb-a3d93aa1c07f\" target=\"_top\" title=\"psysml:c01c1eb8-4402-477c-affb-a3d93aa1c07f\" xlink:actuate=\"onRequest\" xlink:href=\"psysml:c01c1eb8-4402-477c-affb-a3d93aa1c07f\" xlink:show=\"new\" xlink:title=\"psysml:c01c1eb8-4402-477c-affb-a3d93aa1c07f\" xlink:type=\"simple\"><rect fill=\"#FFFFFF\" height=\"182\" id=\"E2\" rx=\"10\" ry=\"10\" style=\"stroke: #383838; stroke-width: 1.5;\" width=\"146\" x=\"72\" y=\"57\"/><rect fill=\"#F8F8F8\" height=\"23.9688\" rx=\"10\" ry=\"10\" style=\"stroke: #F8F8F8; stroke-width: 1.5;\" width=\"146\" x=\"72\" y=\"57\"/><rect fill=\"#F8F8F8\" height=\"10\" style=\"stroke: #F8F8F8; stroke-width: 1.5;\" width=\"146\" x=\"72\" y=\"70.9688\"/><rect fill=\"none\" height=\"182\" id=\"E2\" rx=\"10\" ry=\"10\" style=\"stroke: #383838; stroke-width: 1.5;\" width=\"146\" x=\"72\" y=\"57\"/><text fill=\"#000000\" font-family=\"sans-serif\" font-size=\"12\" lengthAdjust=\"spacingAndGlyphs\" textLength=\"8\" x=\"141\" y=\"73.1387\">p</text><line style=\"stroke: #383838; stroke-width: 1.0;\" x1=\"72\" x2=\"218\" y1=\"80.9688\" y2=\"80.9688\"/></a><!--MD5=[d5e69f78d87373223dbae638b30a9c99]\n",
       "cluster E3--><a href=\"psysml:83a66275-79f9-4d22-aa8c-e03faa30289f\" target=\"_top\" title=\"psysml:83a66275-79f9-4d22-aa8c-e03faa30289f\" xlink:actuate=\"onRequest\" xlink:href=\"psysml:83a66275-79f9-4d22-aa8c-e03faa30289f\" xlink:show=\"new\" xlink:title=\"psysml:83a66275-79f9-4d22-aa8c-e03faa30289f\" xlink:type=\"simple\"><rect fill=\"#FFFFFF\" height=\"91\" id=\"E3\" rx=\"10\" ry=\"10\" style=\"stroke: #383838; stroke-width: 1.5;\" width=\"82\" x=\"104\" y=\"108\"/><rect fill=\"#F8F8F8\" height=\"23.9688\" rx=\"10\" ry=\"10\" style=\"stroke: #F8F8F8; stroke-width: 1.5;\" width=\"82\" x=\"104\" y=\"108\"/><rect fill=\"#F8F8F8\" height=\"10\" style=\"stroke: #F8F8F8; stroke-width: 1.5;\" width=\"82\" x=\"104\" y=\"121.9688\"/><rect fill=\"none\" height=\"91\" id=\"E3\" rx=\"10\" ry=\"10\" style=\"stroke: #383838; stroke-width: 1.5;\" width=\"82\" x=\"104\" y=\"108\"/><text fill=\"#000000\" font-family=\"sans-serif\" font-size=\"12\" lengthAdjust=\"spacingAndGlyphs\" textLength=\"6\" x=\"142\" y=\"124.1387\">x</text><line style=\"stroke: #383838; stroke-width: 1.0;\" x1=\"104\" x2=\"186\" y1=\"131.9688\" y2=\"131.9688\"/></a><!--MD5=[de5ec2e2e8f62f467e546659f5068c88]\n",
       "cluster E5--><a href=\"psysml:fe1eabcd-2f5c-4c92-bec8-31bd54db8461\" target=\"_top\" title=\"psysml:fe1eabcd-2f5c-4c92-bec8-31bd54db8461\" xlink:actuate=\"onRequest\" xlink:href=\"psysml:fe1eabcd-2f5c-4c92-bec8-31bd54db8461\" xlink:show=\"new\" xlink:title=\"psysml:fe1eabcd-2f5c-4c92-bec8-31bd54db8461\" xlink:type=\"simple\"><rect fill=\"#FFFFFF\" height=\"292\" id=\"E5\" style=\"stroke: #383838; stroke-width: 1.5;\" width=\"268\" x=\"40\" y=\"271\"/><rect fill=\"#F8F8F8\" height=\"37.9375\" style=\"stroke: #383838; stroke-width: 1.5;\" width=\"268\" x=\"40\" y=\"271\"/><text fill=\"#000000\" font-family=\"sans-serif\" font-size=\"12\" font-style=\"italic\" lengthAdjust=\"spacingAndGlyphs\" textLength=\"64\" x=\"142\" y=\"287.1387\">«part def»</text><text fill=\"#000000\" font-family=\"sans-serif\" font-size=\"12\" lengthAdjust=\"spacingAndGlyphs\" textLength=\"8\" x=\"170\" y=\"301.1074\">P</text></a><!--MD5=[168fadf3d0c3fd93dd5d6da1b1d7ab76]\n",
       "cluster E7--><a href=\"psysml:32e0c838-e55d-456a-ac80-3fd98b88adbf\" target=\"_top\" title=\"psysml:32e0c838-e55d-456a-ac80-3fd98b88adbf\" xlink:actuate=\"onRequest\" xlink:href=\"psysml:32e0c838-e55d-456a-ac80-3fd98b88adbf\" xlink:show=\"new\" xlink:title=\"psysml:32e0c838-e55d-456a-ac80-3fd98b88adbf\" xlink:type=\"simple\"><rect fill=\"#FFFFFF\" height=\"209\" id=\"E7\" rx=\"10\" ry=\"10\" style=\"stroke: #383838; stroke-width: 1.5;\" width=\"162\" x=\"64\" y=\"330\"/><rect fill=\"#F8F8F8\" height=\"23.9688\" rx=\"10\" ry=\"10\" style=\"stroke: #F8F8F8; stroke-width: 1.5;\" width=\"162\" x=\"64\" y=\"330\"/><rect fill=\"#F8F8F8\" height=\"10\" style=\"stroke: #F8F8F8; stroke-width: 1.5;\" width=\"162\" x=\"64\" y=\"343.9688\"/><rect fill=\"none\" height=\"209\" id=\"E7\" rx=\"10\" ry=\"10\" style=\"stroke: #383838; stroke-width: 1.5;\" width=\"162\" x=\"64\" y=\"330\"/><text fill=\"#000000\" font-family=\"sans-serif\" font-size=\"12\" lengthAdjust=\"spacingAndGlyphs\" textLength=\"16\" x=\"137\" y=\"346.1387\">p1</text><line style=\"stroke: #383838; stroke-width: 1.0;\" x1=\"64\" x2=\"226\" y1=\"353.9688\" y2=\"353.9688\"/></a><!--MD5=[55dfccfc6c49c2d10cd1bd2211a6c90c]\n",
       "cluster E8--><a href=\"psysml:83a66275-79f9-4d22-aa8c-e03faa30289f\" target=\"_top\" title=\"psysml:83a66275-79f9-4d22-aa8c-e03faa30289f\" xlink:actuate=\"onRequest\" xlink:href=\"psysml:83a66275-79f9-4d22-aa8c-e03faa30289f\" xlink:show=\"new\" xlink:title=\"psysml:83a66275-79f9-4d22-aa8c-e03faa30289f\" xlink:type=\"simple\"><rect fill=\"#FFFFFF\" height=\"126\" id=\"E8\" rx=\"10\" ry=\"10\" style=\"stroke: #383838; stroke-width: 1.5;\" width=\"98\" x=\"96\" y=\"381\"/><rect fill=\"#F8F8F8\" height=\"23.9688\" rx=\"10\" ry=\"10\" style=\"stroke: #F8F8F8; stroke-width: 1.5;\" width=\"98\" x=\"96\" y=\"381\"/><rect fill=\"#F8F8F8\" height=\"10\" style=\"stroke: #F8F8F8; stroke-width: 1.5;\" width=\"98\" x=\"96\" y=\"394.9688\"/><rect fill=\"none\" height=\"126\" id=\"E8\" rx=\"10\" ry=\"10\" style=\"stroke: #383838; stroke-width: 1.5;\" width=\"98\" x=\"96\" y=\"381\"/><text fill=\"#000000\" font-family=\"sans-serif\" font-size=\"12\" lengthAdjust=\"spacingAndGlyphs\" textLength=\"16\" x=\"137\" y=\"397.1387\">^x</text><line style=\"stroke: #383838; stroke-width: 1.0;\" x1=\"96\" x2=\"194\" y1=\"404.9688\" y2=\"404.9688\"/></a><g id=\"E1.E2.E3.E4\"><a href=\"psysml:aa5ac9d5-4dfe-418e-90b4-d1e9d9002b4c\" target=\"_top\" title=\"psysml:aa5ac9d5-4dfe-418e-90b4-d1e9d9002b4c\" xlink:actuate=\"onRequest\" xlink:href=\"psysml:aa5ac9d5-4dfe-418e-90b4-d1e9d9002b4c\" xlink:show=\"new\" xlink:title=\"psysml:aa5ac9d5-4dfe-418e-90b4-d1e9d9002b4c\" xlink:type=\"simple\"><rect fill=\"#FFFFFF\" height=\"40\" id=\"E4\" rx=\"10\" ry=\"10\" style=\"stroke: #383838; stroke-width: 1.5;\" width=\"50\" x=\"120\" y=\"143\"/><rect fill=\"#F8F8F8\" height=\"23.9688\" rx=\"10\" ry=\"10\" style=\"stroke: #F8F8F8; stroke-width: 1.5;\" width=\"50\" x=\"120\" y=\"143\"/><rect fill=\"#F8F8F8\" height=\"10\" style=\"stroke: #F8F8F8; stroke-width: 1.5;\" width=\"50\" x=\"120\" y=\"156.9688\"/><rect fill=\"none\" height=\"40\" id=\"E4\" rx=\"10\" ry=\"10\" style=\"stroke: #383838; stroke-width: 1.5;\" width=\"50\" x=\"120\" y=\"143\"/><text fill=\"#000000\" font-family=\"sans-serif\" font-size=\"12\" lengthAdjust=\"spacingAndGlyphs\" textLength=\"14\" x=\"138\" y=\"159.1387\">x1</text></a></g><g id=\"E1.E5.E6\"><a href=\"psysml:06be23d5-21a7-42eb-83e3-f8e6bdc4a055\" target=\"_top\" title=\"psysml:06be23d5-21a7-42eb-83e3-f8e6bdc4a055\" xlink:actuate=\"onRequest\" xlink:href=\"psysml:06be23d5-21a7-42eb-83e3-f8e6bdc4a055\" xlink:show=\"new\" xlink:title=\"psysml:06be23d5-21a7-42eb-83e3-f8e6bdc4a055\" xlink:type=\"simple\"><rect fill=\"#FFFFFF\" height=\"40\" id=\"E6\" rx=\"10\" ry=\"10\" style=\"stroke: #383838; stroke-width: 1.5;\" width=\"50\" x=\"242\" y=\"424\"/><rect fill=\"#F8F8F8\" height=\"23.9688\" rx=\"10\" ry=\"10\" style=\"stroke: #F8F8F8; stroke-width: 1.5;\" width=\"50\" x=\"242\" y=\"424\"/><rect fill=\"#F8F8F8\" height=\"10\" style=\"stroke: #F8F8F8; stroke-width: 1.5;\" width=\"50\" x=\"242\" y=\"437.9688\"/><rect fill=\"none\" height=\"40\" id=\"E6\" rx=\"10\" ry=\"10\" style=\"stroke: #383838; stroke-width: 1.5;\" width=\"50\" x=\"242\" y=\"424\"/><text fill=\"#000000\" font-family=\"sans-serif\" font-size=\"12\" lengthAdjust=\"spacingAndGlyphs\" textLength=\"6\" x=\"264\" y=\"440.1387\">y</text></a></g><g id=\"E1.E5.E7.E8.E9\"><a href=\"psysml:aa5ac9d5-4dfe-418e-90b4-d1e9d9002b4c\" target=\"_top\" title=\"psysml:aa5ac9d5-4dfe-418e-90b4-d1e9d9002b4c\" xlink:actuate=\"onRequest\" xlink:href=\"psysml:aa5ac9d5-4dfe-418e-90b4-d1e9d9002b4c\" xlink:show=\"new\" xlink:title=\"psysml:aa5ac9d5-4dfe-418e-90b4-d1e9d9002b4c\" xlink:type=\"simple\"><rect fill=\"#FFFFFF\" height=\"40\" id=\"E9\" rx=\"10\" ry=\"10\" style=\"stroke: #383838; stroke-width: 1.5;\" width=\"50\" x=\"120\" y=\"424\"/><rect fill=\"#F8F8F8\" height=\"23.9688\" rx=\"10\" ry=\"10\" style=\"stroke: #F8F8F8; stroke-width: 1.5;\" width=\"50\" x=\"120\" y=\"424\"/><rect fill=\"#F8F8F8\" height=\"10\" style=\"stroke: #F8F8F8; stroke-width: 1.5;\" width=\"50\" x=\"120\" y=\"437.9688\"/><rect fill=\"none\" height=\"40\" id=\"E9\" rx=\"10\" ry=\"10\" style=\"stroke: #383838; stroke-width: 1.5;\" width=\"50\" x=\"120\" y=\"424\"/><text fill=\"#000000\" font-family=\"sans-serif\" font-size=\"12\" lengthAdjust=\"spacingAndGlyphs\" textLength=\"14\" x=\"138\" y=\"440.1387\">x1</text></a></g><!--MD5=[e3e28c1befcf002155aa15e1416b4315]\n",
       "link E2 to E6--><a href=\"psysml:2b37c4a5-3576-4b38-9831-53a66373adf4\" target=\"_top\" title=\"psysml:2b37c4a5-3576-4b38-9831-53a66373adf4\" xlink:actuate=\"onRequest\" xlink:href=\"psysml:2b37c4a5-3576-4b38-9831-53a66373adf4\" xlink:show=\"new\" xlink:title=\"psysml:2b37c4a5-3576-4b38-9831-53a66373adf4\" xlink:type=\"simple\"><path d=\"M150.6193,239.193 C150.6967,239.3306 150.7751,239.4697 150.8543,239.6103 C151.0127,239.8916 151.1746,240.1791 151.34,240.4727 C151.6707,241.0598 152.0152,241.6715 152.3731,242.3067 C153.0887,243.5773 153.8576,244.9423 154.676,246.3953 C156.3129,249.3013 158.148,252.5593 160.1522,256.1172 C168.1688,270.3488 178.8888,289.3787 190.435,309.875 C213.5275,350.8675 239.925,397.725 254.61,423.79 \" fill=\"none\" id=\"E2-E6\" style=\"stroke: #383838; stroke-width: 3.0;\"/><text fill=\"#000000\" font-family=\"sans-serif\" font-size=\"13\" lengthAdjust=\"spacingAndGlyphs\" textLength=\"7\" x=\"243.1409\" y=\"413.0821\">*</text></a><!--MD5=[c5e8897d989ce984f93528998a7150fe]\n",
       "link E8 to E6--><a href=\"psysml:55b22e92-f05f-458a-a067-1c48392866cc\" target=\"_top\" title=\"psysml:55b22e92-f05f-458a-a067-1c48392866cc\" xlink:actuate=\"onRequest\" xlink:href=\"psysml:55b22e92-f05f-458a-a067-1c48392866cc\" xlink:show=\"new\" xlink:title=\"psysml:55b22e92-f05f-458a-a067-1c48392866cc\" xlink:type=\"simple\"><path d=\"M194.0904,494.256 C194.6799,494.1343 195.2708,494.0096 195.8628,493.8816 C197.047,493.6257 198.2359,493.3572 199.4276,493.0753 C201.811,492.5115 204.2054,491.8945 206.5948,491.2192 C216.1525,488.5181 225.63,484.885 234,480 C240.79,476.04 246.91,470.13 251.93,464.24 \" fill=\"none\" id=\"E8-E6\" style=\"stroke: #383838; stroke-width: 3.0;\"/><text fill=\"#000000\" font-family=\"sans-serif\" font-size=\"13\" lengthAdjust=\"spacingAndGlyphs\" textLength=\"7\" x=\"239.7072\" y=\"484.1274\">*</text></a><!--MD5=[60ac2c0cde89d4308155b0484e57a8ec]\n",
       "link E9 to E6--><a href=\"psysml:f5fd66b3-5ce3-4ce3-99f1-5aad5efc9456\" target=\"_top\" title=\"psysml:f5fd66b3-5ce3-4ce3-99f1-5aad5efc9456\" xlink:actuate=\"onRequest\" xlink:href=\"psysml:f5fd66b3-5ce3-4ce3-99f1-5aad5efc9456\" xlink:show=\"new\" xlink:title=\"psysml:f5fd66b3-5ce3-4ce3-99f1-5aad5efc9456\" xlink:type=\"simple\"><path d=\"M170.28,444 C191.1,444 220.94,444 241.75,444 \" fill=\"none\" id=\"E9-E6\" style=\"stroke: #383838; stroke-width: 3.0;\"/><text fill=\"#000000\" font-family=\"sans-serif\" font-size=\"13\" lengthAdjust=\"spacingAndGlyphs\" textLength=\"7\" x=\"227.0234\" y=\"458.1004\">*</text></a><!--MD5=[d60f7415b2a5cd12f83beb18dceab2a1]\n",
       "@startuml\r\n",
       "skinparam ranksep 10\r\n",
       "skinparam rectangle {\r\n",
       " backgroundColor<<block>> LightGreen\r\n",
       "}\r\n",
       "left to right direction\r\n",
       "skinparam monochrome true\r\n",
       "skinparam classbackgroundcolor white\r\n",
       "skinparam shadowing false\r\n",
       "skinparam wrapWidth 300\r\n",
       "hide circle\r\n",
       "\r\n",
       "package \"ConnectionTest\" as E1  [[psysml:316d1b7b-e6b7-4d49-a637-31383ba5712a ]]  {\r\n",
       "rec usage \"p\" as E2  [[psysml:c01c1eb8-4402-477c-affb-a3d93aa1c07f ]] {\r\n",
       "rec usage \"x\" as E3  [[psysml:83a66275-79f9-4d22-aa8c-e03faa30289f ]] {\r\n",
       "rec usage \"x1\" as E4  [[psysml:aa5ac9d5-4dfe-418e-90b4-d1e9d9002b4c ]] {\r\n",
       "}\r\n",
       "}\r\n",
       "}\r\n",
       "rec def \"P\" as E5  <<(T,blue) part def>> [[psysml:fe1eabcd-2f5c-4c92-bec8-31bd54db8461 ]] {\r\n",
       "rec usage \"y\" as E6  [[psysml:06be23d5-21a7-42eb-83e3-f8e6bdc4a055 ]] {\r\n",
       "}\r\n",
       "rec usage \"p1\" as E7  [[psysml:32e0c838-e55d-456a-ac80-3fd98b88adbf ]] {\r\n",
       "rec usage \"^x\" as E8  [[psysml:83a66275-79f9-4d22-aa8c-e03faa30289f ]] {\r\n",
       "rec usage \"x1\" as E9  [[psysml:aa5ac9d5-4dfe-418e-90b4-d1e9d9002b4c ]] {\r\n",
       "}\r\n",
       "}\r\n",
       "}\r\n",
       "}\r\n",
       "E2 -[thickness=3]- \"*\"E6 [[psysml:2b37c4a5-3576-4b38-9831-53a66373adf4 ]] \r\n",
       "E8 -[thickness=3]- \"*\"E6 [[psysml:55b22e92-f05f-458a-a067-1c48392866cc ]] \r\n",
       "E9 -[thickness=3]- \"*\"E6 [[psysml:f5fd66b3-5ce3-4ce3-99f1-5aad5efc9456 ]] \r\n",
       "}\r\n",
       "@enduml\r\n",
       "\n",
       "PlantUML version 1.2020.13(Sat Jun 13 12:26:38 UTC 2020)\n",
       "(EPL source distribution)\n",
       "Java Runtime: OpenJDK Runtime Environment\n",
       "JVM: OpenJDK 64-Bit Server VM\n",
       "Default Encoding: UTF-8\n",
       "Language: en\n",
       "Country: null\n",
       "--></g></svg>"
      ]
     },
     "execution_count": 19,
     "metadata": {},
     "output_type": "execute_result"
    }
   ],
   "source": [
    "%viz --style=\"LR\" --view=\"Interconnection\" \"ConnectionTest\""
   ]
  },
  {
   "cell_type": "code",
   "execution_count": 20,
   "id": "67bfaba6",
   "metadata": {
    "execution": {
     "iopub.execute_input": "2021-08-04T06:28:52.844762Z",
     "iopub.status.busy": "2021-08-04T06:28:52.844269Z",
     "iopub.status.idle": "2021-08-04T06:28:52.847969Z",
     "shell.execute_reply": "2021-08-04T06:28:52.847613Z"
    }
   },
   "outputs": [
    {
     "data": {
      "image/svg+xml": [
       "<?xml version=\"1.0\" encoding=\"UTF-8\" standalone=\"no\"?><svg xmlns=\"http://www.w3.org/2000/svg\" xmlns:xlink=\"http://www.w3.org/1999/xlink\" contentScriptType=\"application/ecmascript\" contentStyleType=\"text/css\" height=\"12px\" preserveAspectRatio=\"none\" style=\"width:12px;height:12px;\" version=\"1.1\" viewBox=\"0 0 12 12\" width=\"12px\" zoomAndPan=\"magnify\"><defs/><g><!--MD5=[7aeb398939421629f6affaa4a1a7b125]\n",
       "@startuml\r\n",
       "skinparam ranksep 8\r\n",
       "left to right direction\r\n",
       "skinparam monochrome true\r\n",
       "skinparam classbackgroundcolor white\r\n",
       "skinparam shadowing false\r\n",
       "skinparam wrapWidth 300\r\n",
       "hide circle\r\n",
       "\r\n",
       "@enduml\r\n",
       "\n",
       "PlantUML version 1.2020.13(Sat Jun 13 12:26:38 UTC 2020)\n",
       "(EPL source distribution)\n",
       "Java Runtime: OpenJDK Runtime Environment\n",
       "JVM: OpenJDK 64-Bit Server VM\n",
       "Default Encoding: UTF-8\n",
       "Language: en\n",
       "Country: null\n",
       "--></g></svg>"
      ]
     },
     "execution_count": 20,
     "metadata": {},
     "output_type": "execute_result"
    }
   ],
   "source": [
    "%viz --style=\"LR\" --view=\"Action\" \"ConnectionTest\""
   ]
  },
  {
   "cell_type": "code",
   "execution_count": 21,
   "id": "121c4bb3",
   "metadata": {
    "execution": {
     "iopub.execute_input": "2021-08-04T06:28:52.898136Z",
     "iopub.status.busy": "2021-08-04T06:28:52.897711Z",
     "iopub.status.idle": "2021-08-04T06:28:52.921393Z",
     "shell.execute_reply": "2021-08-04T06:28:52.920058Z"
    }
   },
   "outputs": [
    {
     "data": {
      "image/svg+xml": [
       "<?xml version=\"1.0\" encoding=\"UTF-8\" standalone=\"no\"?><svg xmlns=\"http://www.w3.org/2000/svg\" xmlns:xlink=\"http://www.w3.org/1999/xlink\" contentScriptType=\"application/ecmascript\" contentStyleType=\"text/css\" height=\"196px\" preserveAspectRatio=\"none\" style=\"width:544px;height:196px;\" version=\"1.1\" viewBox=\"0 0 544 196\" width=\"544px\" zoomAndPan=\"magnify\"><defs/><g><!--MD5=[fbc87193dbaf4d95561dea2c320d4a47]\n",
       "cluster E1--><a href=\"psysml:316d1b7b-e6b7-4d49-a637-31383ba5712a\" target=\"_top\" title=\"psysml:316d1b7b-e6b7-4d49-a637-31383ba5712a\" xlink:actuate=\"onRequest\" xlink:href=\"psysml:316d1b7b-e6b7-4d49-a637-31383ba5712a\" xlink:show=\"new\" xlink:title=\"psysml:316d1b7b-e6b7-4d49-a637-31383ba5712a\" xlink:type=\"simple\"><polygon fill=\"#FFFFFF\" points=\"16,6,147,6,154,28.2969,522,28.2969,522,184,16,184,16,6\" style=\"stroke: #000000; stroke-width: 1.5;\"/><line style=\"stroke: #000000; stroke-width: 1.5;\" x1=\"16\" x2=\"154\" y1=\"28.2969\" y2=\"28.2969\"/><text fill=\"#000000\" font-family=\"sans-serif\" font-size=\"14\" font-weight=\"bold\" lengthAdjust=\"spacingAndGlyphs\" textLength=\"125\" x=\"20\" y=\"20.9951\">ConnectionTest</text></a><!--MD5=[b4997ac47864f28c2f74865a473b2911]\n",
       "class E2--><a href=\"psysml:c01c1eb8-4402-477c-affb-a3d93aa1c07f\" target=\"_top\" title=\"psysml:c01c1eb8-4402-477c-affb-a3d93aa1c07f\" xlink:actuate=\"onRequest\" xlink:href=\"psysml:c01c1eb8-4402-477c-affb-a3d93aa1c07f\" xlink:show=\"new\" xlink:title=\"psysml:c01c1eb8-4402-477c-affb-a3d93aa1c07f\" xlink:type=\"simple\"><rect fill=\"#FFFFFF\" height=\"45.9375\" id=\"E2\" rx=\"10\" ry=\"10\" style=\"stroke: #383838; stroke-width: 1.5;\" width=\"42\" x=\"260\" y=\"63\"/><text fill=\"#000000\" font-family=\"sans-serif\" font-size=\"12\" font-style=\"italic\" lengthAdjust=\"spacingAndGlyphs\" textLength=\"40\" x=\"261\" y=\"79.1387\">«part»</text><text fill=\"#000000\" font-family=\"sans-serif\" font-size=\"12\" lengthAdjust=\"spacingAndGlyphs\" textLength=\"8\" x=\"277\" y=\"93.1074\">p</text><line style=\"stroke: #383838; stroke-width: 1.5;\" x1=\"261\" x2=\"301\" y1=\"100.9375\" y2=\"100.9375\"/></a><!--MD5=[09b614a08d8cba4a07c9adeb5e0fee81]\n",
       "class E3--><a href=\"psysml:83a66275-79f9-4d22-aa8c-e03faa30289f\" target=\"_top\" title=\"psysml:83a66275-79f9-4d22-aa8c-e03faa30289f\" xlink:actuate=\"onRequest\" xlink:href=\"psysml:83a66275-79f9-4d22-aa8c-e03faa30289f\" xlink:show=\"new\" xlink:title=\"psysml:83a66275-79f9-4d22-aa8c-e03faa30289f\" xlink:type=\"simple\"><rect fill=\"#FFFFFF\" height=\"45.9375\" id=\"E3\" rx=\"10\" ry=\"10\" style=\"stroke: #383838; stroke-width: 1.5;\" width=\"42\" x=\"362\" y=\"41\"/><text fill=\"#000000\" font-family=\"sans-serif\" font-size=\"12\" font-style=\"italic\" lengthAdjust=\"spacingAndGlyphs\" textLength=\"40\" x=\"363\" y=\"57.1387\">«part»</text><text fill=\"#000000\" font-family=\"sans-serif\" font-size=\"12\" lengthAdjust=\"spacingAndGlyphs\" textLength=\"6\" x=\"380\" y=\"71.1074\">x</text><line style=\"stroke: #383838; stroke-width: 1.5;\" x1=\"363\" x2=\"403\" y1=\"78.9375\" y2=\"78.9375\"/></a><!--MD5=[ebbe1d658d1005bcc118a6aa81145e00]\n",
       "class E4--><a href=\"psysml:aa5ac9d5-4dfe-418e-90b4-d1e9d9002b4c\" target=\"_top\" title=\"psysml:aa5ac9d5-4dfe-418e-90b4-d1e9d9002b4c\" xlink:actuate=\"onRequest\" xlink:href=\"psysml:aa5ac9d5-4dfe-418e-90b4-d1e9d9002b4c\" xlink:show=\"new\" xlink:title=\"psysml:aa5ac9d5-4dfe-418e-90b4-d1e9d9002b4c\" xlink:type=\"simple\"><rect fill=\"#FFFFFF\" height=\"45.9375\" id=\"E4\" rx=\"10\" ry=\"10\" style=\"stroke: #383838; stroke-width: 1.5;\" width=\"42\" x=\"464\" y=\"41\"/><text fill=\"#000000\" font-family=\"sans-serif\" font-size=\"12\" font-style=\"italic\" lengthAdjust=\"spacingAndGlyphs\" textLength=\"40\" x=\"465\" y=\"57.1387\">«part»</text><text fill=\"#000000\" font-family=\"sans-serif\" font-size=\"12\" lengthAdjust=\"spacingAndGlyphs\" textLength=\"14\" x=\"478\" y=\"71.1074\">x1</text><line style=\"stroke: #383838; stroke-width: 1.5;\" x1=\"465\" x2=\"505\" y1=\"78.9375\" y2=\"78.9375\"/></a><!--MD5=[270fce915f116d4de14055a7c1d9a0f3]\n",
       "class E5--><a href=\"psysml:fe1eabcd-2f5c-4c92-bec8-31bd54db8461\" target=\"_top\" title=\"psysml:fe1eabcd-2f5c-4c92-bec8-31bd54db8461\" xlink:actuate=\"onRequest\" xlink:href=\"psysml:fe1eabcd-2f5c-4c92-bec8-31bd54db8461\" xlink:show=\"new\" xlink:title=\"psysml:fe1eabcd-2f5c-4c92-bec8-31bd54db8461\" xlink:type=\"simple\"><rect fill=\"#FFFFFF\" height=\"45.9375\" id=\"E5\" style=\"stroke: #383838; stroke-width: 1.5;\" width=\"66\" x=\"32\" y=\"93\"/><text fill=\"#000000\" font-family=\"sans-serif\" font-size=\"12\" font-style=\"italic\" lengthAdjust=\"spacingAndGlyphs\" textLength=\"64\" x=\"33\" y=\"109.1387\">«part def»</text><text fill=\"#000000\" font-family=\"sans-serif\" font-size=\"12\" lengthAdjust=\"spacingAndGlyphs\" textLength=\"8\" x=\"61\" y=\"123.1074\">P</text><line style=\"stroke: #383838; stroke-width: 1.5;\" x1=\"33\" x2=\"97\" y1=\"130.9375\" y2=\"130.9375\"/></a><!--MD5=[60a26617385b1d2d0262a64233df1f8d]\n",
       "class E6--><a href=\"psysml:06be23d5-21a7-42eb-83e3-f8e6bdc4a055\" target=\"_top\" title=\"psysml:06be23d5-21a7-42eb-83e3-f8e6bdc4a055\" xlink:actuate=\"onRequest\" xlink:href=\"psysml:06be23d5-21a7-42eb-83e3-f8e6bdc4a055\" xlink:show=\"new\" xlink:title=\"psysml:06be23d5-21a7-42eb-83e3-f8e6bdc4a055\" xlink:type=\"simple\"><rect fill=\"#FFFFFF\" height=\"45.9375\" id=\"E6\" rx=\"10\" ry=\"10\" style=\"stroke: #383838; stroke-width: 1.5;\" width=\"42\" x=\"362\" y=\"122\"/><text fill=\"#000000\" font-family=\"sans-serif\" font-size=\"12\" font-style=\"italic\" lengthAdjust=\"spacingAndGlyphs\" textLength=\"40\" x=\"363\" y=\"138.1387\">«part»</text><text fill=\"#000000\" font-family=\"sans-serif\" font-size=\"12\" lengthAdjust=\"spacingAndGlyphs\" textLength=\"6\" x=\"380\" y=\"152.1074\">y</text><line style=\"stroke: #383838; stroke-width: 1.5;\" x1=\"363\" x2=\"403\" y1=\"159.9375\" y2=\"159.9375\"/></a><!--MD5=[2156ba9850f5573cc1fc38a6a4b2f02b]\n",
       "class E7--><a href=\"psysml:32e0c838-e55d-456a-ac80-3fd98b88adbf\" target=\"_top\" title=\"psysml:32e0c838-e55d-456a-ac80-3fd98b88adbf\" xlink:actuate=\"onRequest\" xlink:href=\"psysml:32e0c838-e55d-456a-ac80-3fd98b88adbf\" xlink:show=\"new\" xlink:title=\"psysml:32e0c838-e55d-456a-ac80-3fd98b88adbf\" xlink:type=\"simple\"><rect fill=\"#FFFFFF\" height=\"45.9375\" id=\"E7\" rx=\"10\" ry=\"10\" style=\"stroke: #383838; stroke-width: 1.5;\" width=\"42\" x=\"158\" y=\"63\"/><text fill=\"#000000\" font-family=\"sans-serif\" font-size=\"12\" font-style=\"italic\" lengthAdjust=\"spacingAndGlyphs\" textLength=\"40\" x=\"159\" y=\"79.1387\">«part»</text><text fill=\"#000000\" font-family=\"sans-serif\" font-size=\"12\" lengthAdjust=\"spacingAndGlyphs\" textLength=\"16\" x=\"171\" y=\"93.1074\">p1</text><line style=\"stroke: #383838; stroke-width: 1.5;\" x1=\"159\" x2=\"199\" y1=\"100.9375\" y2=\"100.9375\"/></a><!--MD5=[209b3feb70ccb6233bfe1053d122c12c]\n",
       "reverse link E2 to E3--><a href=\"psysml:96d6ab40-4f8f-4d11-a48f-d95a37d5e194\" target=\"_top\" title=\"psysml:96d6ab40-4f8f-4d11-a48f-d95a37d5e194\" xlink:actuate=\"onRequest\" xlink:href=\"psysml:96d6ab40-4f8f-4d11-a48f-d95a37d5e194\" xlink:show=\"new\" xlink:title=\"psysml:96d6ab40-4f8f-4d11-a48f-d95a37d5e194\" xlink:type=\"simple\"><path d=\"M315.01,78.74 C330.47,75.34 348.38,71.4 361.79,68.45 \" fill=\"none\" id=\"E2&lt;-E3\" style=\"stroke: #383838; stroke-width: 1.0;\"/><polygon fill=\"#383838\" points=\"302.24,81.55,308.9577,84.1716,313.9613,78.979,307.2437,76.3574,302.24,81.55\" style=\"stroke: #383838; stroke-width: 1.0;\"/><text fill=\"#000000\" font-family=\"sans-serif\" font-size=\"13\" lengthAdjust=\"spacingAndGlyphs\" textLength=\"8\" x=\"346.0694\" y=\"84.2065\">1</text></a><!--MD5=[4672eba38e49728da53d11aeb285b987]\n",
       "reverse link E3 to E4--><a href=\"psysml:15b45894-f404-4f26-aaef-cf96b8c0ca99\" target=\"_top\" title=\"psysml:15b45894-f404-4f26-aaef-cf96b8c0ca99\" xlink:actuate=\"onRequest\" xlink:href=\"psysml:15b45894-f404-4f26-aaef-cf96b8c0ca99\" xlink:show=\"new\" xlink:title=\"psysml:15b45894-f404-4f26-aaef-cf96b8c0ca99\" xlink:type=\"simple\"><path d=\"M417.48,64 C432.83,64 450.52,64 463.79,64 \" fill=\"none\" id=\"E3&lt;-E4\" style=\"stroke: #383838; stroke-width: 1.0;\"/><polygon fill=\"#383838\" points=\"404.24,64,410.24,68,416.24,64,410.24,60,404.24,64\" style=\"stroke: #383838; stroke-width: 1.0;\"/><text fill=\"#000000\" font-family=\"sans-serif\" font-size=\"13\" lengthAdjust=\"spacingAndGlyphs\" textLength=\"8\" x=\"448.0694\" y=\"78.3937\">1</text></a><!--MD5=[85d356282659285ab4b2cfe2f634dd2b]\n",
       "reverse link E5 to E6--><a href=\"psysml:e9a2dbd2-75b9-45f4-aecc-a2c2183931e9\" target=\"_top\" title=\"psysml:e9a2dbd2-75b9-45f4-aecc-a2c2183931e9\" xlink:actuate=\"onRequest\" xlink:href=\"psysml:e9a2dbd2-75b9-45f4-aecc-a2c2183931e9\" xlink:show=\"new\" xlink:title=\"psysml:e9a2dbd2-75b9-45f4-aecc-a2c2183931e9\" xlink:type=\"simple\"><path d=\"M111.4,121.15 C126.24,122.78 142.82,124.53 158,126 C233.17,133.27 322.68,140.41 361.91,143.46 \" fill=\"none\" id=\"E5&lt;-E6\" style=\"stroke: #383838; stroke-width: 1.0;\"/><polygon fill=\"#383838\" points=\"98.34,119.7,103.8644,124.3348,110.2674,121.0179,104.743,116.3832,98.34,119.7\" style=\"stroke: #383838; stroke-width: 1.0;\"/><text fill=\"#000000\" font-family=\"sans-serif\" font-size=\"13\" lengthAdjust=\"spacingAndGlyphs\" textLength=\"8\" x=\"345.9126\" y=\"157.4578\">1</text></a><!--MD5=[e3e28c1befcf002155aa15e1416b4315]\n",
       "link E2 to E6--><a href=\"psysml:2b37c4a5-3576-4b38-9831-53a66373adf4\" target=\"_top\" title=\"psysml:2b37c4a5-3576-4b38-9831-53a66373adf4\" xlink:actuate=\"onRequest\" xlink:href=\"psysml:2b37c4a5-3576-4b38-9831-53a66373adf4\" xlink:show=\"new\" xlink:title=\"psysml:2b37c4a5-3576-4b38-9831-53a66373adf4\" xlink:type=\"simple\"><path d=\"M302.24,97.94 C319.59,108.18 344.45,122.85 361.79,133.08 \" fill=\"none\" id=\"E2-E6\" style=\"stroke: #383838; stroke-width: 3.0;\"/><text fill=\"#000000\" font-family=\"sans-serif\" font-size=\"13\" lengthAdjust=\"spacingAndGlyphs\" textLength=\"7\" x=\"346.9137\" y=\"143.7691\">*</text></a><!--MD5=[452b418e7f8a40397a49b8c0a78acc5b]\n",
       "reverse link E5 to E7--><a href=\"psysml:0433d7bc-4d61-42a3-98d7-5077bd02d97e\" target=\"_top\" title=\"psysml:0433d7bc-4d61-42a3-98d7-5077bd02d97e\" xlink:actuate=\"onRequest\" xlink:href=\"psysml:0433d7bc-4d61-42a3-98d7-5077bd02d97e\" xlink:show=\"new\" xlink:title=\"psysml:0433d7bc-4d61-42a3-98d7-5077bd02d97e\" xlink:type=\"simple\"><path d=\"M110.79,104 C127.12,99.63 144.77,94.9 157.89,91.39 \" fill=\"none\" id=\"E5&lt;-E7\" style=\"stroke: #383838; stroke-width: 1.0;\"/><polygon fill=\"#383838\" points=\"98.09,107.4,104.922,109.7074,109.6796,104.2884,102.8476,101.981,98.09,107.4\" style=\"stroke: #383838; stroke-width: 1.0;\"/><text fill=\"#000000\" font-family=\"sans-serif\" font-size=\"13\" lengthAdjust=\"spacingAndGlyphs\" textLength=\"8\" x=\"141.8862\" y=\"107.5967\">1</text></a><!--MD5=[583832df87f4419a098336a29a52fa00]\n",
       "link E7 to E2--><a href=\"psysml:d6550333-67eb-4da5-a08d-e8c2ba9c3c42\" target=\"_top\" title=\"psysml:d6550333-67eb-4da5-a08d-e8c2ba9c3c42\" xlink:actuate=\"onRequest\" xlink:href=\"psysml:d6550333-67eb-4da5-a08d-e8c2ba9c3c42\" xlink:show=\"new\" xlink:title=\"psysml:d6550333-67eb-4da5-a08d-e8c2ba9c3c42\" xlink:type=\"simple\"><path d=\"M200.24,86 C211.49,86 225.9,86 239.37,86 \" fill=\"none\" id=\"E7-&gt;E2\" style=\"stroke: #383838; stroke-width: 1.0;\"/><polygon fill=\"none\" points=\"239.79,79,259.79,86,239.79,93,239.79,79\" style=\"stroke: #383838; stroke-width: 1.0;\"/></a><!--MD5=[b74b6327a5ebdda3d349bc7b33ece14c]\n",
       "@startuml\r\n",
       "left to right direction\r\n",
       "skinparam monochrome true\r\n",
       "skinparam classbackgroundcolor white\r\n",
       "skinparam shadowing false\r\n",
       "skinparam wrapWidth 300\r\n",
       "hide circle\r\n",
       "\r\n",
       "package \"ConnectionTest\" as E1  [[psysml:316d1b7b-e6b7-4d49-a637-31383ba5712a ]]  {\r\n",
       "comp usage \"p\" as E2  <<(T,blue) part>> [[psysml:c01c1eb8-4402-477c-affb-a3d93aa1c07f ]] {\r\n",
       "}\r\n",
       "comp usage \"x\" as E3  <<(T,blue) part>> [[psysml:83a66275-79f9-4d22-aa8c-e03faa30289f ]] {\r\n",
       "}\r\n",
       "comp usage \"x1\" as E4  <<(T,blue) part>> [[psysml:aa5ac9d5-4dfe-418e-90b4-d1e9d9002b4c ]] {\r\n",
       "}\r\n",
       "comp def \"P\" as E5  <<(T,blue) part def>> [[psysml:fe1eabcd-2f5c-4c92-bec8-31bd54db8461 ]] {\r\n",
       "}\r\n",
       "comp usage \"y\" as E6  <<(T,blue) part>> [[psysml:06be23d5-21a7-42eb-83e3-f8e6bdc4a055 ]] {\r\n",
       "}\r\n",
       "comp usage \"p1\" as E7  <<(T,blue) part>> [[psysml:32e0c838-e55d-456a-ac80-3fd98b88adbf ]] {\r\n",
       "}\r\n",
       "E2 *- - \"1\"E3 [[psysml:96d6ab40-4f8f-4d11-a48f-d95a37d5e194 ]] \r\n",
       "E3 *- - \"1\"E4 [[psysml:15b45894-f404-4f26-aaef-cf96b8c0ca99 ]] \r\n",
       "E5 *- - \"1\"E6 [[psysml:e9a2dbd2-75b9-45f4-aecc-a2c2183931e9 ]] \r\n",
       "E2 -[thickness=3]- \"*\"E6 [[psysml:2b37c4a5-3576-4b38-9831-53a66373adf4 ]] \r\n",
       "E5 *- - \"1\"E7 [[psysml:0433d7bc-4d61-42a3-98d7-5077bd02d97e ]] \r\n",
       "E7 - -|> E2 [[psysml:d6550333-67eb-4da5-a08d-e8c2ba9c3c42 ]] \r\n",
       "}\r\n",
       "@enduml\r\n",
       "\n",
       "PlantUML version 1.2020.13(Sat Jun 13 12:26:38 UTC 2020)\n",
       "(EPL source distribution)\n",
       "Java Runtime: OpenJDK Runtime Environment\n",
       "JVM: OpenJDK 64-Bit Server VM\n",
       "Default Encoding: UTF-8\n",
       "Language: en\n",
       "Country: null\n",
       "--></g></svg>"
      ]
     },
     "execution_count": 21,
     "metadata": {},
     "output_type": "execute_result"
    }
   ],
   "source": [
    "%viz --style=\"LR\" --view=\"Sequence\" \"ConnectionTest\""
   ]
  },
  {
   "cell_type": "code",
   "execution_count": 22,
   "id": "1975550a",
   "metadata": {
    "execution": {
     "iopub.execute_input": "2021-08-04T06:28:52.970742Z",
     "iopub.status.busy": "2021-08-04T06:28:52.970344Z",
     "iopub.status.idle": "2021-08-04T06:28:52.992165Z",
     "shell.execute_reply": "2021-08-04T06:28:52.991809Z"
    }
   },
   "outputs": [
    {
     "data": {
      "image/svg+xml": [
       "<?xml version=\"1.0\" encoding=\"UTF-8\" standalone=\"no\"?><svg xmlns=\"http://www.w3.org/2000/svg\" xmlns:xlink=\"http://www.w3.org/1999/xlink\" contentScriptType=\"application/ecmascript\" contentStyleType=\"text/css\" height=\"196px\" preserveAspectRatio=\"none\" style=\"width:544px;height:196px;\" version=\"1.1\" viewBox=\"0 0 544 196\" width=\"544px\" zoomAndPan=\"magnify\"><defs/><g><!--MD5=[fbc87193dbaf4d95561dea2c320d4a47]\n",
       "cluster E1--><a href=\"psysml:316d1b7b-e6b7-4d49-a637-31383ba5712a\" target=\"_top\" title=\"psysml:316d1b7b-e6b7-4d49-a637-31383ba5712a\" xlink:actuate=\"onRequest\" xlink:href=\"psysml:316d1b7b-e6b7-4d49-a637-31383ba5712a\" xlink:show=\"new\" xlink:title=\"psysml:316d1b7b-e6b7-4d49-a637-31383ba5712a\" xlink:type=\"simple\"><polygon fill=\"#FFFFFF\" points=\"16,6,147,6,154,28.2969,522,28.2969,522,184,16,184,16,6\" style=\"stroke: #000000; stroke-width: 1.5;\"/><line style=\"stroke: #000000; stroke-width: 1.5;\" x1=\"16\" x2=\"154\" y1=\"28.2969\" y2=\"28.2969\"/><text fill=\"#000000\" font-family=\"sans-serif\" font-size=\"14\" font-weight=\"bold\" lengthAdjust=\"spacingAndGlyphs\" textLength=\"125\" x=\"20\" y=\"20.9951\">ConnectionTest</text></a><!--MD5=[b4997ac47864f28c2f74865a473b2911]\n",
       "class E2--><a href=\"psysml:c01c1eb8-4402-477c-affb-a3d93aa1c07f\" target=\"_top\" title=\"psysml:c01c1eb8-4402-477c-affb-a3d93aa1c07f\" xlink:actuate=\"onRequest\" xlink:href=\"psysml:c01c1eb8-4402-477c-affb-a3d93aa1c07f\" xlink:show=\"new\" xlink:title=\"psysml:c01c1eb8-4402-477c-affb-a3d93aa1c07f\" xlink:type=\"simple\"><rect fill=\"#FFFFFF\" height=\"45.9375\" id=\"E2\" rx=\"10\" ry=\"10\" style=\"stroke: #383838; stroke-width: 1.5;\" width=\"42\" x=\"260\" y=\"63\"/><text fill=\"#000000\" font-family=\"sans-serif\" font-size=\"12\" font-style=\"italic\" lengthAdjust=\"spacingAndGlyphs\" textLength=\"40\" x=\"261\" y=\"79.1387\">«part»</text><text fill=\"#000000\" font-family=\"sans-serif\" font-size=\"12\" lengthAdjust=\"spacingAndGlyphs\" textLength=\"8\" x=\"277\" y=\"93.1074\">p</text><line style=\"stroke: #383838; stroke-width: 1.5;\" x1=\"261\" x2=\"301\" y1=\"100.9375\" y2=\"100.9375\"/></a><!--MD5=[09b614a08d8cba4a07c9adeb5e0fee81]\n",
       "class E3--><a href=\"psysml:83a66275-79f9-4d22-aa8c-e03faa30289f\" target=\"_top\" title=\"psysml:83a66275-79f9-4d22-aa8c-e03faa30289f\" xlink:actuate=\"onRequest\" xlink:href=\"psysml:83a66275-79f9-4d22-aa8c-e03faa30289f\" xlink:show=\"new\" xlink:title=\"psysml:83a66275-79f9-4d22-aa8c-e03faa30289f\" xlink:type=\"simple\"><rect fill=\"#FFFFFF\" height=\"45.9375\" id=\"E3\" rx=\"10\" ry=\"10\" style=\"stroke: #383838; stroke-width: 1.5;\" width=\"42\" x=\"362\" y=\"41\"/><text fill=\"#000000\" font-family=\"sans-serif\" font-size=\"12\" font-style=\"italic\" lengthAdjust=\"spacingAndGlyphs\" textLength=\"40\" x=\"363\" y=\"57.1387\">«part»</text><text fill=\"#000000\" font-family=\"sans-serif\" font-size=\"12\" lengthAdjust=\"spacingAndGlyphs\" textLength=\"6\" x=\"380\" y=\"71.1074\">x</text><line style=\"stroke: #383838; stroke-width: 1.5;\" x1=\"363\" x2=\"403\" y1=\"78.9375\" y2=\"78.9375\"/></a><!--MD5=[ebbe1d658d1005bcc118a6aa81145e00]\n",
       "class E4--><a href=\"psysml:aa5ac9d5-4dfe-418e-90b4-d1e9d9002b4c\" target=\"_top\" title=\"psysml:aa5ac9d5-4dfe-418e-90b4-d1e9d9002b4c\" xlink:actuate=\"onRequest\" xlink:href=\"psysml:aa5ac9d5-4dfe-418e-90b4-d1e9d9002b4c\" xlink:show=\"new\" xlink:title=\"psysml:aa5ac9d5-4dfe-418e-90b4-d1e9d9002b4c\" xlink:type=\"simple\"><rect fill=\"#FFFFFF\" height=\"45.9375\" id=\"E4\" rx=\"10\" ry=\"10\" style=\"stroke: #383838; stroke-width: 1.5;\" width=\"42\" x=\"464\" y=\"41\"/><text fill=\"#000000\" font-family=\"sans-serif\" font-size=\"12\" font-style=\"italic\" lengthAdjust=\"spacingAndGlyphs\" textLength=\"40\" x=\"465\" y=\"57.1387\">«part»</text><text fill=\"#000000\" font-family=\"sans-serif\" font-size=\"12\" lengthAdjust=\"spacingAndGlyphs\" textLength=\"14\" x=\"478\" y=\"71.1074\">x1</text><line style=\"stroke: #383838; stroke-width: 1.5;\" x1=\"465\" x2=\"505\" y1=\"78.9375\" y2=\"78.9375\"/></a><!--MD5=[270fce915f116d4de14055a7c1d9a0f3]\n",
       "class E5--><a href=\"psysml:fe1eabcd-2f5c-4c92-bec8-31bd54db8461\" target=\"_top\" title=\"psysml:fe1eabcd-2f5c-4c92-bec8-31bd54db8461\" xlink:actuate=\"onRequest\" xlink:href=\"psysml:fe1eabcd-2f5c-4c92-bec8-31bd54db8461\" xlink:show=\"new\" xlink:title=\"psysml:fe1eabcd-2f5c-4c92-bec8-31bd54db8461\" xlink:type=\"simple\"><rect fill=\"#FFFFFF\" height=\"45.9375\" id=\"E5\" style=\"stroke: #383838; stroke-width: 1.5;\" width=\"66\" x=\"32\" y=\"93\"/><text fill=\"#000000\" font-family=\"sans-serif\" font-size=\"12\" font-style=\"italic\" lengthAdjust=\"spacingAndGlyphs\" textLength=\"64\" x=\"33\" y=\"109.1387\">«part def»</text><text fill=\"#000000\" font-family=\"sans-serif\" font-size=\"12\" lengthAdjust=\"spacingAndGlyphs\" textLength=\"8\" x=\"61\" y=\"123.1074\">P</text><line style=\"stroke: #383838; stroke-width: 1.5;\" x1=\"33\" x2=\"97\" y1=\"130.9375\" y2=\"130.9375\"/></a><!--MD5=[60a26617385b1d2d0262a64233df1f8d]\n",
       "class E6--><a href=\"psysml:06be23d5-21a7-42eb-83e3-f8e6bdc4a055\" target=\"_top\" title=\"psysml:06be23d5-21a7-42eb-83e3-f8e6bdc4a055\" xlink:actuate=\"onRequest\" xlink:href=\"psysml:06be23d5-21a7-42eb-83e3-f8e6bdc4a055\" xlink:show=\"new\" xlink:title=\"psysml:06be23d5-21a7-42eb-83e3-f8e6bdc4a055\" xlink:type=\"simple\"><rect fill=\"#FFFFFF\" height=\"45.9375\" id=\"E6\" rx=\"10\" ry=\"10\" style=\"stroke: #383838; stroke-width: 1.5;\" width=\"42\" x=\"362\" y=\"122\"/><text fill=\"#000000\" font-family=\"sans-serif\" font-size=\"12\" font-style=\"italic\" lengthAdjust=\"spacingAndGlyphs\" textLength=\"40\" x=\"363\" y=\"138.1387\">«part»</text><text fill=\"#000000\" font-family=\"sans-serif\" font-size=\"12\" lengthAdjust=\"spacingAndGlyphs\" textLength=\"6\" x=\"380\" y=\"152.1074\">y</text><line style=\"stroke: #383838; stroke-width: 1.5;\" x1=\"363\" x2=\"403\" y1=\"159.9375\" y2=\"159.9375\"/></a><!--MD5=[2156ba9850f5573cc1fc38a6a4b2f02b]\n",
       "class E7--><a href=\"psysml:32e0c838-e55d-456a-ac80-3fd98b88adbf\" target=\"_top\" title=\"psysml:32e0c838-e55d-456a-ac80-3fd98b88adbf\" xlink:actuate=\"onRequest\" xlink:href=\"psysml:32e0c838-e55d-456a-ac80-3fd98b88adbf\" xlink:show=\"new\" xlink:title=\"psysml:32e0c838-e55d-456a-ac80-3fd98b88adbf\" xlink:type=\"simple\"><rect fill=\"#FFFFFF\" height=\"45.9375\" id=\"E7\" rx=\"10\" ry=\"10\" style=\"stroke: #383838; stroke-width: 1.5;\" width=\"42\" x=\"158\" y=\"63\"/><text fill=\"#000000\" font-family=\"sans-serif\" font-size=\"12\" font-style=\"italic\" lengthAdjust=\"spacingAndGlyphs\" textLength=\"40\" x=\"159\" y=\"79.1387\">«part»</text><text fill=\"#000000\" font-family=\"sans-serif\" font-size=\"12\" lengthAdjust=\"spacingAndGlyphs\" textLength=\"16\" x=\"171\" y=\"93.1074\">p1</text><line style=\"stroke: #383838; stroke-width: 1.5;\" x1=\"159\" x2=\"199\" y1=\"100.9375\" y2=\"100.9375\"/></a><!--MD5=[209b3feb70ccb6233bfe1053d122c12c]\n",
       "reverse link E2 to E3--><a href=\"psysml:96d6ab40-4f8f-4d11-a48f-d95a37d5e194\" target=\"_top\" title=\"psysml:96d6ab40-4f8f-4d11-a48f-d95a37d5e194\" xlink:actuate=\"onRequest\" xlink:href=\"psysml:96d6ab40-4f8f-4d11-a48f-d95a37d5e194\" xlink:show=\"new\" xlink:title=\"psysml:96d6ab40-4f8f-4d11-a48f-d95a37d5e194\" xlink:type=\"simple\"><path d=\"M315.01,78.74 C330.47,75.34 348.38,71.4 361.79,68.45 \" fill=\"none\" id=\"E2&lt;-E3\" style=\"stroke: #383838; stroke-width: 1.0;\"/><polygon fill=\"#383838\" points=\"302.24,81.55,308.9577,84.1716,313.9613,78.979,307.2437,76.3574,302.24,81.55\" style=\"stroke: #383838; stroke-width: 1.0;\"/><text fill=\"#000000\" font-family=\"sans-serif\" font-size=\"13\" lengthAdjust=\"spacingAndGlyphs\" textLength=\"8\" x=\"346.0694\" y=\"84.2065\">1</text></a><!--MD5=[4672eba38e49728da53d11aeb285b987]\n",
       "reverse link E3 to E4--><a href=\"psysml:15b45894-f404-4f26-aaef-cf96b8c0ca99\" target=\"_top\" title=\"psysml:15b45894-f404-4f26-aaef-cf96b8c0ca99\" xlink:actuate=\"onRequest\" xlink:href=\"psysml:15b45894-f404-4f26-aaef-cf96b8c0ca99\" xlink:show=\"new\" xlink:title=\"psysml:15b45894-f404-4f26-aaef-cf96b8c0ca99\" xlink:type=\"simple\"><path d=\"M417.48,64 C432.83,64 450.52,64 463.79,64 \" fill=\"none\" id=\"E3&lt;-E4\" style=\"stroke: #383838; stroke-width: 1.0;\"/><polygon fill=\"#383838\" points=\"404.24,64,410.24,68,416.24,64,410.24,60,404.24,64\" style=\"stroke: #383838; stroke-width: 1.0;\"/><text fill=\"#000000\" font-family=\"sans-serif\" font-size=\"13\" lengthAdjust=\"spacingAndGlyphs\" textLength=\"8\" x=\"448.0694\" y=\"78.3937\">1</text></a><!--MD5=[85d356282659285ab4b2cfe2f634dd2b]\n",
       "reverse link E5 to E6--><a href=\"psysml:e9a2dbd2-75b9-45f4-aecc-a2c2183931e9\" target=\"_top\" title=\"psysml:e9a2dbd2-75b9-45f4-aecc-a2c2183931e9\" xlink:actuate=\"onRequest\" xlink:href=\"psysml:e9a2dbd2-75b9-45f4-aecc-a2c2183931e9\" xlink:show=\"new\" xlink:title=\"psysml:e9a2dbd2-75b9-45f4-aecc-a2c2183931e9\" xlink:type=\"simple\"><path d=\"M111.4,121.15 C126.24,122.78 142.82,124.53 158,126 C233.17,133.27 322.68,140.41 361.91,143.46 \" fill=\"none\" id=\"E5&lt;-E6\" style=\"stroke: #383838; stroke-width: 1.0;\"/><polygon fill=\"#383838\" points=\"98.34,119.7,103.8644,124.3348,110.2674,121.0179,104.743,116.3832,98.34,119.7\" style=\"stroke: #383838; stroke-width: 1.0;\"/><text fill=\"#000000\" font-family=\"sans-serif\" font-size=\"13\" lengthAdjust=\"spacingAndGlyphs\" textLength=\"8\" x=\"345.9126\" y=\"157.4578\">1</text></a><!--MD5=[e3e28c1befcf002155aa15e1416b4315]\n",
       "link E2 to E6--><a href=\"psysml:2b37c4a5-3576-4b38-9831-53a66373adf4\" target=\"_top\" title=\"psysml:2b37c4a5-3576-4b38-9831-53a66373adf4\" xlink:actuate=\"onRequest\" xlink:href=\"psysml:2b37c4a5-3576-4b38-9831-53a66373adf4\" xlink:show=\"new\" xlink:title=\"psysml:2b37c4a5-3576-4b38-9831-53a66373adf4\" xlink:type=\"simple\"><path d=\"M302.24,97.94 C319.59,108.18 344.45,122.85 361.79,133.08 \" fill=\"none\" id=\"E2-E6\" style=\"stroke: #383838; stroke-width: 3.0;\"/><text fill=\"#000000\" font-family=\"sans-serif\" font-size=\"13\" lengthAdjust=\"spacingAndGlyphs\" textLength=\"7\" x=\"346.9137\" y=\"143.7691\">*</text></a><!--MD5=[452b418e7f8a40397a49b8c0a78acc5b]\n",
       "reverse link E5 to E7--><a href=\"psysml:0433d7bc-4d61-42a3-98d7-5077bd02d97e\" target=\"_top\" title=\"psysml:0433d7bc-4d61-42a3-98d7-5077bd02d97e\" xlink:actuate=\"onRequest\" xlink:href=\"psysml:0433d7bc-4d61-42a3-98d7-5077bd02d97e\" xlink:show=\"new\" xlink:title=\"psysml:0433d7bc-4d61-42a3-98d7-5077bd02d97e\" xlink:type=\"simple\"><path d=\"M110.79,104 C127.12,99.63 144.77,94.9 157.89,91.39 \" fill=\"none\" id=\"E5&lt;-E7\" style=\"stroke: #383838; stroke-width: 1.0;\"/><polygon fill=\"#383838\" points=\"98.09,107.4,104.922,109.7074,109.6796,104.2884,102.8476,101.981,98.09,107.4\" style=\"stroke: #383838; stroke-width: 1.0;\"/><text fill=\"#000000\" font-family=\"sans-serif\" font-size=\"13\" lengthAdjust=\"spacingAndGlyphs\" textLength=\"8\" x=\"141.8862\" y=\"107.5967\">1</text></a><!--MD5=[583832df87f4419a098336a29a52fa00]\n",
       "link E7 to E2--><a href=\"psysml:d6550333-67eb-4da5-a08d-e8c2ba9c3c42\" target=\"_top\" title=\"psysml:d6550333-67eb-4da5-a08d-e8c2ba9c3c42\" xlink:actuate=\"onRequest\" xlink:href=\"psysml:d6550333-67eb-4da5-a08d-e8c2ba9c3c42\" xlink:show=\"new\" xlink:title=\"psysml:d6550333-67eb-4da5-a08d-e8c2ba9c3c42\" xlink:type=\"simple\"><path d=\"M200.24,86 C211.49,86 225.9,86 239.37,86 \" fill=\"none\" id=\"E7-&gt;E2\" style=\"stroke: #383838; stroke-width: 1.0;\"/><polygon fill=\"none\" points=\"239.79,79,259.79,86,239.79,93,239.79,79\" style=\"stroke: #383838; stroke-width: 1.0;\"/></a><!--MD5=[b74b6327a5ebdda3d349bc7b33ece14c]\n",
       "@startuml\r\n",
       "left to right direction\r\n",
       "skinparam monochrome true\r\n",
       "skinparam classbackgroundcolor white\r\n",
       "skinparam shadowing false\r\n",
       "skinparam wrapWidth 300\r\n",
       "hide circle\r\n",
       "\r\n",
       "package \"ConnectionTest\" as E1  [[psysml:316d1b7b-e6b7-4d49-a637-31383ba5712a ]]  {\r\n",
       "comp usage \"p\" as E2  <<(T,blue) part>> [[psysml:c01c1eb8-4402-477c-affb-a3d93aa1c07f ]] {\r\n",
       "}\r\n",
       "comp usage \"x\" as E3  <<(T,blue) part>> [[psysml:83a66275-79f9-4d22-aa8c-e03faa30289f ]] {\r\n",
       "}\r\n",
       "comp usage \"x1\" as E4  <<(T,blue) part>> [[psysml:aa5ac9d5-4dfe-418e-90b4-d1e9d9002b4c ]] {\r\n",
       "}\r\n",
       "comp def \"P\" as E5  <<(T,blue) part def>> [[psysml:fe1eabcd-2f5c-4c92-bec8-31bd54db8461 ]] {\r\n",
       "}\r\n",
       "comp usage \"y\" as E6  <<(T,blue) part>> [[psysml:06be23d5-21a7-42eb-83e3-f8e6bdc4a055 ]] {\r\n",
       "}\r\n",
       "comp usage \"p1\" as E7  <<(T,blue) part>> [[psysml:32e0c838-e55d-456a-ac80-3fd98b88adbf ]] {\r\n",
       "}\r\n",
       "E2 *- - \"1\"E3 [[psysml:96d6ab40-4f8f-4d11-a48f-d95a37d5e194 ]] \r\n",
       "E3 *- - \"1\"E4 [[psysml:15b45894-f404-4f26-aaef-cf96b8c0ca99 ]] \r\n",
       "E5 *- - \"1\"E6 [[psysml:e9a2dbd2-75b9-45f4-aecc-a2c2183931e9 ]] \r\n",
       "E2 -[thickness=3]- \"*\"E6 [[psysml:2b37c4a5-3576-4b38-9831-53a66373adf4 ]] \r\n",
       "E5 *- - \"1\"E7 [[psysml:0433d7bc-4d61-42a3-98d7-5077bd02d97e ]] \r\n",
       "E7 - -|> E2 [[psysml:d6550333-67eb-4da5-a08d-e8c2ba9c3c42 ]] \r\n",
       "}\r\n",
       "@enduml\r\n",
       "\n",
       "PlantUML version 1.2020.13(Sat Jun 13 12:26:38 UTC 2020)\n",
       "(EPL source distribution)\n",
       "Java Runtime: OpenJDK Runtime Environment\n",
       "JVM: OpenJDK 64-Bit Server VM\n",
       "Default Encoding: UTF-8\n",
       "Language: en\n",
       "Country: null\n",
       "--></g></svg>"
      ]
     },
     "execution_count": 22,
     "metadata": {},
     "output_type": "execute_result"
    }
   ],
   "source": [
    "%viz --style=\"LR\" --view=\"MIXED\" \"ConnectionTest\""
   ]
  },
  {
   "cell_type": "code",
   "execution_count": 23,
   "id": "b86974bb",
   "metadata": {
    "execution": {
     "iopub.execute_input": "2021-08-04T06:28:53.042059Z",
     "iopub.status.busy": "2021-08-04T06:28:53.041635Z",
     "iopub.status.idle": "2021-08-04T06:28:53.062283Z",
     "shell.execute_reply": "2021-08-04T06:28:53.061439Z"
    }
   },
   "outputs": [
    {
     "data": {
      "image/svg+xml": [
       "<?xml version=\"1.0\" encoding=\"UTF-8\" standalone=\"no\"?><svg xmlns=\"http://www.w3.org/2000/svg\" xmlns:xlink=\"http://www.w3.org/1999/xlink\" contentScriptType=\"application/ecmascript\" contentStyleType=\"text/css\" height=\"539px\" preserveAspectRatio=\"none\" style=\"width:189px;height:539px;\" version=\"1.1\" viewBox=\"0 0 189 539\" width=\"189px\" zoomAndPan=\"magnify\"><defs><filter height=\"300%\" id=\"f10yqkfg25d1eb\" width=\"300%\" x=\"-1\" y=\"-1\"><feGaussianBlur result=\"blurOut\" stdDeviation=\"2.0\"/><feColorMatrix in=\"blurOut\" result=\"blurOut2\" type=\"matrix\" values=\"0 0 0 0 0 0 0 0 0 0 0 0 0 0 0 0 0 0 .4 0\"/><feOffset dx=\"4.0\" dy=\"4.0\" in=\"blurOut2\" result=\"blurOut3\"/><feBlend in=\"SourceGraphic\" in2=\"blurOut3\" mode=\"normal\"/></filter></defs><g><!--MD5=[fbc87193dbaf4d95561dea2c320d4a47]\n",
       "cluster E1--><a href=\"psysml:316d1b7b-e6b7-4d49-a637-31383ba5712a\" target=\"_top\" title=\"psysml:316d1b7b-e6b7-4d49-a637-31383ba5712a\" xlink:actuate=\"onRequest\" xlink:href=\"psysml:316d1b7b-e6b7-4d49-a637-31383ba5712a\" xlink:show=\"new\" xlink:title=\"psysml:316d1b7b-e6b7-4d49-a637-31383ba5712a\" xlink:type=\"simple\"><polygon fill=\"#FFFFFF\" filter=\"url(#f10yqkfg25d1eb)\" points=\"16,6,147,6,154,28.2969,167,28.2969,167,527,16,527,16,6\" style=\"stroke: #000000; stroke-width: 1.5;\"/><line style=\"stroke: #000000; stroke-width: 1.5;\" x1=\"16\" x2=\"154\" y1=\"28.2969\" y2=\"28.2969\"/><text fill=\"#000000\" font-family=\"sans-serif\" font-size=\"14\" font-weight=\"bold\" lengthAdjust=\"spacingAndGlyphs\" textLength=\"125\" x=\"20\" y=\"20.9951\">ConnectionTest</text></a><!--MD5=[b4997ac47864f28c2f74865a473b2911]\n",
       "class E2--><a href=\"psysml:c01c1eb8-4402-477c-affb-a3d93aa1c07f\" target=\"_top\" title=\"psysml:c01c1eb8-4402-477c-affb-a3d93aa1c07f\" xlink:actuate=\"onRequest\" xlink:href=\"psysml:c01c1eb8-4402-477c-affb-a3d93aa1c07f\" xlink:show=\"new\" xlink:title=\"psysml:c01c1eb8-4402-477c-affb-a3d93aa1c07f\" xlink:type=\"simple\"><rect fill=\"#FEFECE\" filter=\"url(#f10yqkfg25d1eb)\" height=\"45.9375\" id=\"E2\" rx=\"10\" ry=\"10\" style=\"stroke: #A80036; stroke-width: 1.5;\" width=\"42\" x=\"89\" y=\"253\"/><text fill=\"#000000\" font-family=\"sans-serif\" font-size=\"12\" font-style=\"italic\" lengthAdjust=\"spacingAndGlyphs\" textLength=\"40\" x=\"90\" y=\"269.1387\">«part»</text><text fill=\"#000000\" font-family=\"sans-serif\" font-size=\"12\" lengthAdjust=\"spacingAndGlyphs\" textLength=\"8\" x=\"106\" y=\"283.1074\">p</text><line style=\"stroke: #A80036; stroke-width: 1.5;\" x1=\"90\" x2=\"130\" y1=\"290.9375\" y2=\"290.9375\"/></a><!--MD5=[09b614a08d8cba4a07c9adeb5e0fee81]\n",
       "class E3--><a href=\"psysml:83a66275-79f9-4d22-aa8c-e03faa30289f\" target=\"_top\" title=\"psysml:83a66275-79f9-4d22-aa8c-e03faa30289f\" xlink:actuate=\"onRequest\" xlink:href=\"psysml:83a66275-79f9-4d22-aa8c-e03faa30289f\" xlink:show=\"new\" xlink:title=\"psysml:83a66275-79f9-4d22-aa8c-e03faa30289f\" xlink:type=\"simple\"><rect fill=\"#FEFECE\" filter=\"url(#f10yqkfg25d1eb)\" height=\"45.9375\" id=\"E3\" rx=\"10\" ry=\"10\" style=\"stroke: #A80036; stroke-width: 1.5;\" width=\"42\" x=\"109\" y=\"359\"/><text fill=\"#000000\" font-family=\"sans-serif\" font-size=\"12\" font-style=\"italic\" lengthAdjust=\"spacingAndGlyphs\" textLength=\"40\" x=\"110\" y=\"375.1387\">«part»</text><text fill=\"#000000\" font-family=\"sans-serif\" font-size=\"12\" lengthAdjust=\"spacingAndGlyphs\" textLength=\"6\" x=\"127\" y=\"389.1074\">x</text><line style=\"stroke: #A80036; stroke-width: 1.5;\" x1=\"110\" x2=\"150\" y1=\"396.9375\" y2=\"396.9375\"/></a><!--MD5=[ebbe1d658d1005bcc118a6aa81145e00]\n",
       "class E4--><a href=\"psysml:aa5ac9d5-4dfe-418e-90b4-d1e9d9002b4c\" target=\"_top\" title=\"psysml:aa5ac9d5-4dfe-418e-90b4-d1e9d9002b4c\" xlink:actuate=\"onRequest\" xlink:href=\"psysml:aa5ac9d5-4dfe-418e-90b4-d1e9d9002b4c\" xlink:show=\"new\" xlink:title=\"psysml:aa5ac9d5-4dfe-418e-90b4-d1e9d9002b4c\" xlink:type=\"simple\"><rect fill=\"#FEFECE\" filter=\"url(#f10yqkfg25d1eb)\" height=\"45.9375\" id=\"E4\" rx=\"10\" ry=\"10\" style=\"stroke: #A80036; stroke-width: 1.5;\" width=\"42\" x=\"109\" y=\"465\"/><text fill=\"#000000\" font-family=\"sans-serif\" font-size=\"12\" font-style=\"italic\" lengthAdjust=\"spacingAndGlyphs\" textLength=\"40\" x=\"110\" y=\"481.1387\">«part»</text><text fill=\"#000000\" font-family=\"sans-serif\" font-size=\"12\" lengthAdjust=\"spacingAndGlyphs\" textLength=\"14\" x=\"123\" y=\"495.1074\">x1</text><line style=\"stroke: #A80036; stroke-width: 1.5;\" x1=\"110\" x2=\"150\" y1=\"502.9375\" y2=\"502.9375\"/></a><!--MD5=[270fce915f116d4de14055a7c1d9a0f3]\n",
       "class E5--><a href=\"psysml:fe1eabcd-2f5c-4c92-bec8-31bd54db8461\" target=\"_top\" title=\"psysml:fe1eabcd-2f5c-4c92-bec8-31bd54db8461\" xlink:actuate=\"onRequest\" xlink:href=\"psysml:fe1eabcd-2f5c-4c92-bec8-31bd54db8461\" xlink:show=\"new\" xlink:title=\"psysml:fe1eabcd-2f5c-4c92-bec8-31bd54db8461\" xlink:type=\"simple\"><rect fill=\"#FEFECE\" filter=\"url(#f10yqkfg25d1eb)\" height=\"45.9375\" id=\"E5\" style=\"stroke: #A80036; stroke-width: 1.5;\" width=\"66\" x=\"54\" y=\"41\"/><text fill=\"#000000\" font-family=\"sans-serif\" font-size=\"12\" font-style=\"italic\" lengthAdjust=\"spacingAndGlyphs\" textLength=\"64\" x=\"55\" y=\"57.1387\">«part def»</text><text fill=\"#000000\" font-family=\"sans-serif\" font-size=\"12\" lengthAdjust=\"spacingAndGlyphs\" textLength=\"8\" x=\"83\" y=\"71.1074\">P</text><line style=\"stroke: #A80036; stroke-width: 1.5;\" x1=\"55\" x2=\"119\" y1=\"78.9375\" y2=\"78.9375\"/></a><!--MD5=[60a26617385b1d2d0262a64233df1f8d]\n",
       "class E6--><a href=\"psysml:06be23d5-21a7-42eb-83e3-f8e6bdc4a055\" target=\"_top\" title=\"psysml:06be23d5-21a7-42eb-83e3-f8e6bdc4a055\" xlink:actuate=\"onRequest\" xlink:href=\"psysml:06be23d5-21a7-42eb-83e3-f8e6bdc4a055\" xlink:show=\"new\" xlink:title=\"psysml:06be23d5-21a7-42eb-83e3-f8e6bdc4a055\" xlink:type=\"simple\"><rect fill=\"#FEFECE\" filter=\"url(#f10yqkfg25d1eb)\" height=\"45.9375\" id=\"E6\" rx=\"10\" ry=\"10\" style=\"stroke: #A80036; stroke-width: 1.5;\" width=\"42\" x=\"32\" y=\"359\"/><text fill=\"#000000\" font-family=\"sans-serif\" font-size=\"12\" font-style=\"italic\" lengthAdjust=\"spacingAndGlyphs\" textLength=\"40\" x=\"33\" y=\"375.1387\">«part»</text><text fill=\"#000000\" font-family=\"sans-serif\" font-size=\"12\" lengthAdjust=\"spacingAndGlyphs\" textLength=\"6\" x=\"50\" y=\"389.1074\">y</text><line style=\"stroke: #A80036; stroke-width: 1.5;\" x1=\"33\" x2=\"73\" y1=\"396.9375\" y2=\"396.9375\"/></a><!--MD5=[2156ba9850f5573cc1fc38a6a4b2f02b]\n",
       "class E7--><a href=\"psysml:32e0c838-e55d-456a-ac80-3fd98b88adbf\" target=\"_top\" title=\"psysml:32e0c838-e55d-456a-ac80-3fd98b88adbf\" xlink:actuate=\"onRequest\" xlink:href=\"psysml:32e0c838-e55d-456a-ac80-3fd98b88adbf\" xlink:show=\"new\" xlink:title=\"psysml:32e0c838-e55d-456a-ac80-3fd98b88adbf\" xlink:type=\"simple\"><rect fill=\"#FEFECE\" filter=\"url(#f10yqkfg25d1eb)\" height=\"45.9375\" id=\"E7\" rx=\"10\" ry=\"10\" style=\"stroke: #A80036; stroke-width: 1.5;\" width=\"42\" x=\"89\" y=\"147\"/><text fill=\"#000000\" font-family=\"sans-serif\" font-size=\"12\" font-style=\"italic\" lengthAdjust=\"spacingAndGlyphs\" textLength=\"40\" x=\"90\" y=\"163.1387\">«part»</text><text fill=\"#000000\" font-family=\"sans-serif\" font-size=\"12\" lengthAdjust=\"spacingAndGlyphs\" textLength=\"16\" x=\"102\" y=\"177.1074\">p1</text><line style=\"stroke: #A80036; stroke-width: 1.5;\" x1=\"90\" x2=\"130\" y1=\"184.9375\" y2=\"184.9375\"/></a><!--MD5=[209b3feb70ccb6233bfe1053d122c12c]\n",
       "reverse link E2 to E3--><a href=\"psysml:96d6ab40-4f8f-4d11-a48f-d95a37d5e194\" target=\"_top\" title=\"psysml:96d6ab40-4f8f-4d11-a48f-d95a37d5e194\" xlink:actuate=\"onRequest\" xlink:href=\"psysml:96d6ab40-4f8f-4d11-a48f-d95a37d5e194\" xlink:show=\"new\" xlink:title=\"psysml:96d6ab40-4f8f-4d11-a48f-d95a37d5e194\" xlink:type=\"simple\"><path d=\"M116.72,311.96 C119.71,327.51 123.14,345.33 125.76,358.98 \" fill=\"none\" id=\"E2&lt;-E3\" style=\"stroke: #A80036; stroke-width: 1.0;\"/><polygon fill=\"#A80036\" points=\"114.24,299.06,111.447,305.7082,116.5096,310.8434,119.3026,304.1952,114.24,299.06\" style=\"stroke: #A80036; stroke-width: 1.0;\"/><text fill=\"#000000\" font-family=\"sans-serif\" font-size=\"13\" lengthAdjust=\"spacingAndGlyphs\" textLength=\"8\" x=\"115.5455\" y=\"347.8709\">1</text></a><!--MD5=[4672eba38e49728da53d11aeb285b987]\n",
       "reverse link E3 to E4--><a href=\"psysml:15b45894-f404-4f26-aaef-cf96b8c0ca99\" target=\"_top\" title=\"psysml:15b45894-f404-4f26-aaef-cf96b8c0ca99\" xlink:actuate=\"onRequest\" xlink:href=\"psysml:15b45894-f404-4f26-aaef-cf96b8c0ca99\" xlink:show=\"new\" xlink:title=\"psysml:15b45894-f404-4f26-aaef-cf96b8c0ca99\" xlink:type=\"simple\"><path d=\"M130,418.44 C130,433.87 130,451.47 130,464.98 \" fill=\"none\" id=\"E3&lt;-E4\" style=\"stroke: #A80036; stroke-width: 1.0;\"/><polygon fill=\"#A80036\" points=\"130,405.06,126,411.06,130,417.06,134,411.06,130,405.06\" style=\"stroke: #A80036; stroke-width: 1.0;\"/><text fill=\"#000000\" font-family=\"sans-serif\" font-size=\"13\" lengthAdjust=\"spacingAndGlyphs\" textLength=\"8\" x=\"120.925\" y=\"453.8709\">1</text></a><!--MD5=[85d356282659285ab4b2cfe2f634dd2b]\n",
       "reverse link E5 to E6--><a href=\"psysml:e9a2dbd2-75b9-45f4-aecc-a2c2183931e9\" target=\"_top\" title=\"psysml:e9a2dbd2-75b9-45f4-aecc-a2c2183931e9\" xlink:actuate=\"onRequest\" xlink:href=\"psysml:e9a2dbd2-75b9-45f4-aecc-a2c2183931e9\" xlink:show=\"new\" xlink:title=\"psysml:e9a2dbd2-75b9-45f4-aecc-a2c2183931e9\" xlink:type=\"simple\"><path d=\"M79.77,100.15 C77.01,114.61 74.03,131.56 72,147 C61.78,224.59 56.2,317.42 54.05,358.98 \" fill=\"none\" id=\"E5&lt;-E6\" style=\"stroke: #A80036; stroke-width: 1.0;\"/><polygon fill=\"#A80036\" points=\"82.32,87.18,77.2408,92.2988,80.0123,98.956,85.0915,93.8372,82.32,87.18\" style=\"stroke: #A80036; stroke-width: 1.0;\"/><text fill=\"#000000\" font-family=\"sans-serif\" font-size=\"13\" lengthAdjust=\"spacingAndGlyphs\" textLength=\"8\" x=\"45.2572\" y=\"347.8709\">1</text></a><!--MD5=[e3e28c1befcf002155aa15e1416b4315]\n",
       "link E2 to E6--><a href=\"psysml:2b37c4a5-3576-4b38-9831-53a66373adf4\" target=\"_top\" title=\"psysml:2b37c4a5-3576-4b38-9831-53a66373adf4\" xlink:actuate=\"onRequest\" xlink:href=\"psysml:2b37c4a5-3576-4b38-9831-53a66373adf4\" xlink:show=\"new\" xlink:title=\"psysml:2b37c4a5-3576-4b38-9831-53a66373adf4\" xlink:type=\"simple\"><path d=\"M97.91,299.06 C88.24,316.7 74.74,341.34 65.07,358.98 \" fill=\"none\" id=\"E2-E6\" style=\"stroke: #A80036; stroke-width: 3.0;\"/><text fill=\"#000000\" font-family=\"sans-serif\" font-size=\"13\" lengthAdjust=\"spacingAndGlyphs\" textLength=\"7\" x=\"60.3732\" y=\"347.8709\">*</text></a><!--MD5=[452b418e7f8a40397a49b8c0a78acc5b]\n",
       "reverse link E5 to E7--><a href=\"psysml:0433d7bc-4d61-42a3-98d7-5077bd02d97e\" target=\"_top\" title=\"psysml:0433d7bc-4d61-42a3-98d7-5077bd02d97e\" xlink:actuate=\"onRequest\" xlink:href=\"psysml:0433d7bc-4d61-42a3-98d7-5077bd02d97e\" xlink:show=\"new\" xlink:title=\"psysml:0433d7bc-4d61-42a3-98d7-5077bd02d97e\" xlink:type=\"simple\"><path d=\"M94.73,99.96 C98.17,115.51 102.11,133.33 105.13,146.98 \" fill=\"none\" id=\"E5&lt;-E7\" style=\"stroke: #A80036; stroke-width: 1.0;\"/><polygon fill=\"#A80036\" points=\"91.88,87.06,89.2656,93.7805,94.4636,98.7786,97.078,92.0581,91.88,87.06\" style=\"stroke: #A80036; stroke-width: 1.0;\"/><text fill=\"#000000\" font-family=\"sans-serif\" font-size=\"13\" lengthAdjust=\"spacingAndGlyphs\" textLength=\"8\" x=\"94.7462\" y=\"135.8709\">1</text></a><!--MD5=[583832df87f4419a098336a29a52fa00]\n",
       "link E7 to E2--><a href=\"psysml:d6550333-67eb-4da5-a08d-e8c2ba9c3c42\" target=\"_top\" title=\"psysml:d6550333-67eb-4da5-a08d-e8c2ba9c3c42\" xlink:actuate=\"onRequest\" xlink:href=\"psysml:d6550333-67eb-4da5-a08d-e8c2ba9c3c42\" xlink:show=\"new\" xlink:title=\"psysml:d6550333-67eb-4da5-a08d-e8c2ba9c3c42\" xlink:type=\"simple\"><path d=\"M110,193.06 C110,204.64 110,219.23 110,232.87 \" fill=\"none\" id=\"E7-&gt;E2\" style=\"stroke: #A80036; stroke-width: 1.0;\"/><polygon fill=\"none\" points=\"117,232.98,110,252.98,103,232.98,117,232.98\" style=\"stroke: #A80036; stroke-width: 1.0;\"/></a><!--MD5=[d16890caa8968d76632366e7b8243d57]\n",
       "@startuml\r\n",
       "skinparam wrapWidth 300\r\n",
       "hide circle\r\n",
       "\r\n",
       "package \"ConnectionTest\" as E1  [[psysml:316d1b7b-e6b7-4d49-a637-31383ba5712a ]]  {\r\n",
       "comp usage \"p\" as E2  <<(T,blue) part>> [[psysml:c01c1eb8-4402-477c-affb-a3d93aa1c07f ]] {\r\n",
       "}\r\n",
       "comp usage \"x\" as E3  <<(T,blue) part>> [[psysml:83a66275-79f9-4d22-aa8c-e03faa30289f ]] {\r\n",
       "}\r\n",
       "comp usage \"x1\" as E4  <<(T,blue) part>> [[psysml:aa5ac9d5-4dfe-418e-90b4-d1e9d9002b4c ]] {\r\n",
       "}\r\n",
       "comp def \"P\" as E5  <<(T,blue) part def>> [[psysml:fe1eabcd-2f5c-4c92-bec8-31bd54db8461 ]] {\r\n",
       "}\r\n",
       "comp usage \"y\" as E6  <<(T,blue) part>> [[psysml:06be23d5-21a7-42eb-83e3-f8e6bdc4a055 ]] {\r\n",
       "}\r\n",
       "comp usage \"p1\" as E7  <<(T,blue) part>> [[psysml:32e0c838-e55d-456a-ac80-3fd98b88adbf ]] {\r\n",
       "}\r\n",
       "E2 *- - \"1\"E3 [[psysml:96d6ab40-4f8f-4d11-a48f-d95a37d5e194 ]] \r\n",
       "E3 *- - \"1\"E4 [[psysml:15b45894-f404-4f26-aaef-cf96b8c0ca99 ]] \r\n",
       "E5 *- - \"1\"E6 [[psysml:e9a2dbd2-75b9-45f4-aecc-a2c2183931e9 ]] \r\n",
       "E2 -[thickness=3]- \"*\"E6 [[psysml:2b37c4a5-3576-4b38-9831-53a66373adf4 ]] \r\n",
       "E5 *- - \"1\"E7 [[psysml:0433d7bc-4d61-42a3-98d7-5077bd02d97e ]] \r\n",
       "E7 - -|> E2 [[psysml:d6550333-67eb-4da5-a08d-e8c2ba9c3c42 ]] \r\n",
       "}\r\n",
       "@enduml\r\n",
       "\n",
       "PlantUML version 1.2020.13(Sat Jun 13 12:26:38 UTC 2020)\n",
       "(EPL source distribution)\n",
       "Java Runtime: OpenJDK Runtime Environment\n",
       "JVM: OpenJDK 64-Bit Server VM\n",
       "Default Encoding: UTF-8\n",
       "Language: en\n",
       "Country: null\n",
       "--></g></svg>"
      ]
     },
     "execution_count": 23,
     "metadata": {},
     "output_type": "execute_result"
    }
   ],
   "source": [
    "%viz --style=\"STDCOLOR\" --view=\"Default\" \"ConnectionTest\""
   ]
  },
  {
   "cell_type": "code",
   "execution_count": 24,
   "id": "3420addb",
   "metadata": {
    "execution": {
     "iopub.execute_input": "2021-08-04T06:28:53.112566Z",
     "iopub.status.busy": "2021-08-04T06:28:53.112283Z",
     "iopub.status.idle": "2021-08-04T06:28:53.136345Z",
     "shell.execute_reply": "2021-08-04T06:28:53.135647Z"
    }
   },
   "outputs": [
    {
     "data": {
      "image/svg+xml": [
       "<?xml version=\"1.0\" encoding=\"UTF-8\" standalone=\"no\"?><svg xmlns=\"http://www.w3.org/2000/svg\" xmlns:xlink=\"http://www.w3.org/1999/xlink\" contentScriptType=\"application/ecmascript\" contentStyleType=\"text/css\" height=\"539px\" preserveAspectRatio=\"none\" style=\"width:189px;height:539px;\" version=\"1.1\" viewBox=\"0 0 189 539\" width=\"189px\" zoomAndPan=\"magnify\"><defs><filter height=\"300%\" id=\"f10yqkfg25d1eb\" width=\"300%\" x=\"-1\" y=\"-1\"><feGaussianBlur result=\"blurOut\" stdDeviation=\"2.0\"/><feColorMatrix in=\"blurOut\" result=\"blurOut2\" type=\"matrix\" values=\"0 0 0 0 0 0 0 0 0 0 0 0 0 0 0 0 0 0 .4 0\"/><feOffset dx=\"4.0\" dy=\"4.0\" in=\"blurOut2\" result=\"blurOut3\"/><feBlend in=\"SourceGraphic\" in2=\"blurOut3\" mode=\"normal\"/></filter></defs><g><!--MD5=[fbc87193dbaf4d95561dea2c320d4a47]\n",
       "cluster E1--><a href=\"psysml:316d1b7b-e6b7-4d49-a637-31383ba5712a\" target=\"_top\" title=\"psysml:316d1b7b-e6b7-4d49-a637-31383ba5712a\" xlink:actuate=\"onRequest\" xlink:href=\"psysml:316d1b7b-e6b7-4d49-a637-31383ba5712a\" xlink:show=\"new\" xlink:title=\"psysml:316d1b7b-e6b7-4d49-a637-31383ba5712a\" xlink:type=\"simple\"><polygon fill=\"#FFFFFF\" filter=\"url(#f10yqkfg25d1eb)\" points=\"16,6,147,6,154,28.2969,167,28.2969,167,527,16,527,16,6\" style=\"stroke: #000000; stroke-width: 1.5;\"/><line style=\"stroke: #000000; stroke-width: 1.5;\" x1=\"16\" x2=\"154\" y1=\"28.2969\" y2=\"28.2969\"/><text fill=\"#000000\" font-family=\"sans-serif\" font-size=\"14\" font-weight=\"bold\" lengthAdjust=\"spacingAndGlyphs\" textLength=\"125\" x=\"20\" y=\"20.9951\">ConnectionTest</text></a><!--MD5=[b4997ac47864f28c2f74865a473b2911]\n",
       "class E2--><a href=\"psysml:c01c1eb8-4402-477c-affb-a3d93aa1c07f\" target=\"_top\" title=\"psysml:c01c1eb8-4402-477c-affb-a3d93aa1c07f\" xlink:actuate=\"onRequest\" xlink:href=\"psysml:c01c1eb8-4402-477c-affb-a3d93aa1c07f\" xlink:show=\"new\" xlink:title=\"psysml:c01c1eb8-4402-477c-affb-a3d93aa1c07f\" xlink:type=\"simple\"><rect fill=\"#FEFECE\" filter=\"url(#f10yqkfg25d1eb)\" height=\"45.9375\" id=\"E2\" rx=\"10\" ry=\"10\" style=\"stroke: #A80036; stroke-width: 1.5;\" width=\"42\" x=\"89\" y=\"253\"/><text fill=\"#000000\" font-family=\"sans-serif\" font-size=\"12\" font-style=\"italic\" lengthAdjust=\"spacingAndGlyphs\" textLength=\"40\" x=\"90\" y=\"269.1387\">«part»</text><text fill=\"#000000\" font-family=\"sans-serif\" font-size=\"12\" lengthAdjust=\"spacingAndGlyphs\" textLength=\"8\" x=\"106\" y=\"283.1074\">p</text><line style=\"stroke: #A80036; stroke-width: 1.5;\" x1=\"90\" x2=\"130\" y1=\"290.9375\" y2=\"290.9375\"/></a><!--MD5=[09b614a08d8cba4a07c9adeb5e0fee81]\n",
       "class E3--><a href=\"psysml:83a66275-79f9-4d22-aa8c-e03faa30289f\" target=\"_top\" title=\"psysml:83a66275-79f9-4d22-aa8c-e03faa30289f\" xlink:actuate=\"onRequest\" xlink:href=\"psysml:83a66275-79f9-4d22-aa8c-e03faa30289f\" xlink:show=\"new\" xlink:title=\"psysml:83a66275-79f9-4d22-aa8c-e03faa30289f\" xlink:type=\"simple\"><rect fill=\"#FEFECE\" filter=\"url(#f10yqkfg25d1eb)\" height=\"45.9375\" id=\"E3\" rx=\"10\" ry=\"10\" style=\"stroke: #A80036; stroke-width: 1.5;\" width=\"42\" x=\"109\" y=\"359\"/><text fill=\"#000000\" font-family=\"sans-serif\" font-size=\"12\" font-style=\"italic\" lengthAdjust=\"spacingAndGlyphs\" textLength=\"40\" x=\"110\" y=\"375.1387\">«part»</text><text fill=\"#000000\" font-family=\"sans-serif\" font-size=\"12\" lengthAdjust=\"spacingAndGlyphs\" textLength=\"6\" x=\"127\" y=\"389.1074\">x</text><line style=\"stroke: #A80036; stroke-width: 1.5;\" x1=\"110\" x2=\"150\" y1=\"396.9375\" y2=\"396.9375\"/></a><!--MD5=[ebbe1d658d1005bcc118a6aa81145e00]\n",
       "class E4--><a href=\"psysml:aa5ac9d5-4dfe-418e-90b4-d1e9d9002b4c\" target=\"_top\" title=\"psysml:aa5ac9d5-4dfe-418e-90b4-d1e9d9002b4c\" xlink:actuate=\"onRequest\" xlink:href=\"psysml:aa5ac9d5-4dfe-418e-90b4-d1e9d9002b4c\" xlink:show=\"new\" xlink:title=\"psysml:aa5ac9d5-4dfe-418e-90b4-d1e9d9002b4c\" xlink:type=\"simple\"><rect fill=\"#FEFECE\" filter=\"url(#f10yqkfg25d1eb)\" height=\"45.9375\" id=\"E4\" rx=\"10\" ry=\"10\" style=\"stroke: #A80036; stroke-width: 1.5;\" width=\"42\" x=\"109\" y=\"465\"/><text fill=\"#000000\" font-family=\"sans-serif\" font-size=\"12\" font-style=\"italic\" lengthAdjust=\"spacingAndGlyphs\" textLength=\"40\" x=\"110\" y=\"481.1387\">«part»</text><text fill=\"#000000\" font-family=\"sans-serif\" font-size=\"12\" lengthAdjust=\"spacingAndGlyphs\" textLength=\"14\" x=\"123\" y=\"495.1074\">x1</text><line style=\"stroke: #A80036; stroke-width: 1.5;\" x1=\"110\" x2=\"150\" y1=\"502.9375\" y2=\"502.9375\"/></a><!--MD5=[270fce915f116d4de14055a7c1d9a0f3]\n",
       "class E5--><a href=\"psysml:fe1eabcd-2f5c-4c92-bec8-31bd54db8461\" target=\"_top\" title=\"psysml:fe1eabcd-2f5c-4c92-bec8-31bd54db8461\" xlink:actuate=\"onRequest\" xlink:href=\"psysml:fe1eabcd-2f5c-4c92-bec8-31bd54db8461\" xlink:show=\"new\" xlink:title=\"psysml:fe1eabcd-2f5c-4c92-bec8-31bd54db8461\" xlink:type=\"simple\"><rect fill=\"#FEFECE\" filter=\"url(#f10yqkfg25d1eb)\" height=\"45.9375\" id=\"E5\" style=\"stroke: #A80036; stroke-width: 1.5;\" width=\"66\" x=\"54\" y=\"41\"/><text fill=\"#000000\" font-family=\"sans-serif\" font-size=\"12\" font-style=\"italic\" lengthAdjust=\"spacingAndGlyphs\" textLength=\"64\" x=\"55\" y=\"57.1387\">«part def»</text><text fill=\"#000000\" font-family=\"sans-serif\" font-size=\"12\" lengthAdjust=\"spacingAndGlyphs\" textLength=\"8\" x=\"83\" y=\"71.1074\">P</text><line style=\"stroke: #A80036; stroke-width: 1.5;\" x1=\"55\" x2=\"119\" y1=\"78.9375\" y2=\"78.9375\"/></a><!--MD5=[60a26617385b1d2d0262a64233df1f8d]\n",
       "class E6--><a href=\"psysml:06be23d5-21a7-42eb-83e3-f8e6bdc4a055\" target=\"_top\" title=\"psysml:06be23d5-21a7-42eb-83e3-f8e6bdc4a055\" xlink:actuate=\"onRequest\" xlink:href=\"psysml:06be23d5-21a7-42eb-83e3-f8e6bdc4a055\" xlink:show=\"new\" xlink:title=\"psysml:06be23d5-21a7-42eb-83e3-f8e6bdc4a055\" xlink:type=\"simple\"><rect fill=\"#FEFECE\" filter=\"url(#f10yqkfg25d1eb)\" height=\"45.9375\" id=\"E6\" rx=\"10\" ry=\"10\" style=\"stroke: #A80036; stroke-width: 1.5;\" width=\"42\" x=\"32\" y=\"359\"/><text fill=\"#000000\" font-family=\"sans-serif\" font-size=\"12\" font-style=\"italic\" lengthAdjust=\"spacingAndGlyphs\" textLength=\"40\" x=\"33\" y=\"375.1387\">«part»</text><text fill=\"#000000\" font-family=\"sans-serif\" font-size=\"12\" lengthAdjust=\"spacingAndGlyphs\" textLength=\"6\" x=\"50\" y=\"389.1074\">y</text><line style=\"stroke: #A80036; stroke-width: 1.5;\" x1=\"33\" x2=\"73\" y1=\"396.9375\" y2=\"396.9375\"/></a><!--MD5=[2156ba9850f5573cc1fc38a6a4b2f02b]\n",
       "class E7--><a href=\"psysml:32e0c838-e55d-456a-ac80-3fd98b88adbf\" target=\"_top\" title=\"psysml:32e0c838-e55d-456a-ac80-3fd98b88adbf\" xlink:actuate=\"onRequest\" xlink:href=\"psysml:32e0c838-e55d-456a-ac80-3fd98b88adbf\" xlink:show=\"new\" xlink:title=\"psysml:32e0c838-e55d-456a-ac80-3fd98b88adbf\" xlink:type=\"simple\"><rect fill=\"#FEFECE\" filter=\"url(#f10yqkfg25d1eb)\" height=\"45.9375\" id=\"E7\" rx=\"10\" ry=\"10\" style=\"stroke: #A80036; stroke-width: 1.5;\" width=\"42\" x=\"89\" y=\"147\"/><text fill=\"#000000\" font-family=\"sans-serif\" font-size=\"12\" font-style=\"italic\" lengthAdjust=\"spacingAndGlyphs\" textLength=\"40\" x=\"90\" y=\"163.1387\">«part»</text><text fill=\"#000000\" font-family=\"sans-serif\" font-size=\"12\" lengthAdjust=\"spacingAndGlyphs\" textLength=\"16\" x=\"102\" y=\"177.1074\">p1</text><line style=\"stroke: #A80036; stroke-width: 1.5;\" x1=\"90\" x2=\"130\" y1=\"184.9375\" y2=\"184.9375\"/></a><!--MD5=[209b3feb70ccb6233bfe1053d122c12c]\n",
       "reverse link E2 to E3--><a href=\"psysml:96d6ab40-4f8f-4d11-a48f-d95a37d5e194\" target=\"_top\" title=\"psysml:96d6ab40-4f8f-4d11-a48f-d95a37d5e194\" xlink:actuate=\"onRequest\" xlink:href=\"psysml:96d6ab40-4f8f-4d11-a48f-d95a37d5e194\" xlink:show=\"new\" xlink:title=\"psysml:96d6ab40-4f8f-4d11-a48f-d95a37d5e194\" xlink:type=\"simple\"><path d=\"M116.72,311.96 C119.71,327.51 123.14,345.33 125.76,358.98 \" fill=\"none\" id=\"E2&lt;-E3\" style=\"stroke: #A80036; stroke-width: 1.0;\"/><polygon fill=\"#A80036\" points=\"114.24,299.06,111.447,305.7082,116.5096,310.8434,119.3026,304.1952,114.24,299.06\" style=\"stroke: #A80036; stroke-width: 1.0;\"/><text fill=\"#000000\" font-family=\"sans-serif\" font-size=\"13\" lengthAdjust=\"spacingAndGlyphs\" textLength=\"8\" x=\"115.5455\" y=\"347.8709\">1</text></a><!--MD5=[4672eba38e49728da53d11aeb285b987]\n",
       "reverse link E3 to E4--><a href=\"psysml:15b45894-f404-4f26-aaef-cf96b8c0ca99\" target=\"_top\" title=\"psysml:15b45894-f404-4f26-aaef-cf96b8c0ca99\" xlink:actuate=\"onRequest\" xlink:href=\"psysml:15b45894-f404-4f26-aaef-cf96b8c0ca99\" xlink:show=\"new\" xlink:title=\"psysml:15b45894-f404-4f26-aaef-cf96b8c0ca99\" xlink:type=\"simple\"><path d=\"M130,418.44 C130,433.87 130,451.47 130,464.98 \" fill=\"none\" id=\"E3&lt;-E4\" style=\"stroke: #A80036; stroke-width: 1.0;\"/><polygon fill=\"#A80036\" points=\"130,405.06,126,411.06,130,417.06,134,411.06,130,405.06\" style=\"stroke: #A80036; stroke-width: 1.0;\"/><text fill=\"#000000\" font-family=\"sans-serif\" font-size=\"13\" lengthAdjust=\"spacingAndGlyphs\" textLength=\"8\" x=\"120.925\" y=\"453.8709\">1</text></a><!--MD5=[85d356282659285ab4b2cfe2f634dd2b]\n",
       "reverse link E5 to E6--><a href=\"psysml:e9a2dbd2-75b9-45f4-aecc-a2c2183931e9\" target=\"_top\" title=\"psysml:e9a2dbd2-75b9-45f4-aecc-a2c2183931e9\" xlink:actuate=\"onRequest\" xlink:href=\"psysml:e9a2dbd2-75b9-45f4-aecc-a2c2183931e9\" xlink:show=\"new\" xlink:title=\"psysml:e9a2dbd2-75b9-45f4-aecc-a2c2183931e9\" xlink:type=\"simple\"><path d=\"M79.77,100.15 C77.01,114.61 74.03,131.56 72,147 C61.78,224.59 56.2,317.42 54.05,358.98 \" fill=\"none\" id=\"E5&lt;-E6\" style=\"stroke: #A80036; stroke-width: 1.0;\"/><polygon fill=\"#A80036\" points=\"82.32,87.18,77.2408,92.2988,80.0123,98.956,85.0915,93.8372,82.32,87.18\" style=\"stroke: #A80036; stroke-width: 1.0;\"/><text fill=\"#000000\" font-family=\"sans-serif\" font-size=\"13\" lengthAdjust=\"spacingAndGlyphs\" textLength=\"8\" x=\"45.2572\" y=\"347.8709\">1</text></a><!--MD5=[e3e28c1befcf002155aa15e1416b4315]\n",
       "link E2 to E6--><a href=\"psysml:2b37c4a5-3576-4b38-9831-53a66373adf4\" target=\"_top\" title=\"psysml:2b37c4a5-3576-4b38-9831-53a66373adf4\" xlink:actuate=\"onRequest\" xlink:href=\"psysml:2b37c4a5-3576-4b38-9831-53a66373adf4\" xlink:show=\"new\" xlink:title=\"psysml:2b37c4a5-3576-4b38-9831-53a66373adf4\" xlink:type=\"simple\"><path d=\"M97.91,299.06 C88.24,316.7 74.74,341.34 65.07,358.98 \" fill=\"none\" id=\"E2-E6\" style=\"stroke: #A80036; stroke-width: 3.0;\"/><text fill=\"#000000\" font-family=\"sans-serif\" font-size=\"13\" lengthAdjust=\"spacingAndGlyphs\" textLength=\"7\" x=\"60.3732\" y=\"347.8709\">*</text></a><!--MD5=[452b418e7f8a40397a49b8c0a78acc5b]\n",
       "reverse link E5 to E7--><a href=\"psysml:0433d7bc-4d61-42a3-98d7-5077bd02d97e\" target=\"_top\" title=\"psysml:0433d7bc-4d61-42a3-98d7-5077bd02d97e\" xlink:actuate=\"onRequest\" xlink:href=\"psysml:0433d7bc-4d61-42a3-98d7-5077bd02d97e\" xlink:show=\"new\" xlink:title=\"psysml:0433d7bc-4d61-42a3-98d7-5077bd02d97e\" xlink:type=\"simple\"><path d=\"M94.73,99.96 C98.17,115.51 102.11,133.33 105.13,146.98 \" fill=\"none\" id=\"E5&lt;-E7\" style=\"stroke: #A80036; stroke-width: 1.0;\"/><polygon fill=\"#A80036\" points=\"91.88,87.06,89.2656,93.7805,94.4636,98.7786,97.078,92.0581,91.88,87.06\" style=\"stroke: #A80036; stroke-width: 1.0;\"/><text fill=\"#000000\" font-family=\"sans-serif\" font-size=\"13\" lengthAdjust=\"spacingAndGlyphs\" textLength=\"8\" x=\"94.7462\" y=\"135.8709\">1</text></a><!--MD5=[583832df87f4419a098336a29a52fa00]\n",
       "link E7 to E2--><a href=\"psysml:d6550333-67eb-4da5-a08d-e8c2ba9c3c42\" target=\"_top\" title=\"psysml:d6550333-67eb-4da5-a08d-e8c2ba9c3c42\" xlink:actuate=\"onRequest\" xlink:href=\"psysml:d6550333-67eb-4da5-a08d-e8c2ba9c3c42\" xlink:show=\"new\" xlink:title=\"psysml:d6550333-67eb-4da5-a08d-e8c2ba9c3c42\" xlink:type=\"simple\"><path d=\"M110,193.06 C110,204.64 110,219.23 110,232.87 \" fill=\"none\" id=\"E7-&gt;E2\" style=\"stroke: #A80036; stroke-width: 1.0;\"/><polygon fill=\"none\" points=\"117,232.98,110,252.98,103,232.98,117,232.98\" style=\"stroke: #A80036; stroke-width: 1.0;\"/></a><!--MD5=[d16890caa8968d76632366e7b8243d57]\n",
       "@startuml\r\n",
       "skinparam wrapWidth 300\r\n",
       "hide circle\r\n",
       "\r\n",
       "package \"ConnectionTest\" as E1  [[psysml:316d1b7b-e6b7-4d49-a637-31383ba5712a ]]  {\r\n",
       "comp usage \"p\" as E2  <<(T,blue) part>> [[psysml:c01c1eb8-4402-477c-affb-a3d93aa1c07f ]] {\r\n",
       "}\r\n",
       "comp usage \"x\" as E3  <<(T,blue) part>> [[psysml:83a66275-79f9-4d22-aa8c-e03faa30289f ]] {\r\n",
       "}\r\n",
       "comp usage \"x1\" as E4  <<(T,blue) part>> [[psysml:aa5ac9d5-4dfe-418e-90b4-d1e9d9002b4c ]] {\r\n",
       "}\r\n",
       "comp def \"P\" as E5  <<(T,blue) part def>> [[psysml:fe1eabcd-2f5c-4c92-bec8-31bd54db8461 ]] {\r\n",
       "}\r\n",
       "comp usage \"y\" as E6  <<(T,blue) part>> [[psysml:06be23d5-21a7-42eb-83e3-f8e6bdc4a055 ]] {\r\n",
       "}\r\n",
       "comp usage \"p1\" as E7  <<(T,blue) part>> [[psysml:32e0c838-e55d-456a-ac80-3fd98b88adbf ]] {\r\n",
       "}\r\n",
       "E2 *- - \"1\"E3 [[psysml:96d6ab40-4f8f-4d11-a48f-d95a37d5e194 ]] \r\n",
       "E3 *- - \"1\"E4 [[psysml:15b45894-f404-4f26-aaef-cf96b8c0ca99 ]] \r\n",
       "E5 *- - \"1\"E6 [[psysml:e9a2dbd2-75b9-45f4-aecc-a2c2183931e9 ]] \r\n",
       "E2 -[thickness=3]- \"*\"E6 [[psysml:2b37c4a5-3576-4b38-9831-53a66373adf4 ]] \r\n",
       "E5 *- - \"1\"E7 [[psysml:0433d7bc-4d61-42a3-98d7-5077bd02d97e ]] \r\n",
       "E7 - -|> E2 [[psysml:d6550333-67eb-4da5-a08d-e8c2ba9c3c42 ]] \r\n",
       "}\r\n",
       "@enduml\r\n",
       "\n",
       "PlantUML version 1.2020.13(Sat Jun 13 12:26:38 UTC 2020)\n",
       "(EPL source distribution)\n",
       "Java Runtime: OpenJDK Runtime Environment\n",
       "JVM: OpenJDK 64-Bit Server VM\n",
       "Default Encoding: UTF-8\n",
       "Language: en\n",
       "Country: null\n",
       "--></g></svg>"
      ]
     },
     "execution_count": 24,
     "metadata": {},
     "output_type": "execute_result"
    }
   ],
   "source": [
    "%viz --style=\"STDCOLOR\" --view=\"Tree\" \"ConnectionTest\""
   ]
  },
  {
   "cell_type": "code",
   "execution_count": 25,
   "id": "cd804be8",
   "metadata": {
    "execution": {
     "iopub.execute_input": "2021-08-04T06:28:53.186690Z",
     "iopub.status.busy": "2021-08-04T06:28:53.186266Z",
     "iopub.status.idle": "2021-08-04T06:28:53.190315Z",
     "shell.execute_reply": "2021-08-04T06:28:53.189983Z"
    }
   },
   "outputs": [
    {
     "data": {
      "image/svg+xml": [
       "<?xml version=\"1.0\" encoding=\"UTF-8\" standalone=\"no\"?><svg xmlns=\"http://www.w3.org/2000/svg\" xmlns:xlink=\"http://www.w3.org/1999/xlink\" contentScriptType=\"application/ecmascript\" contentStyleType=\"text/css\" height=\"12px\" preserveAspectRatio=\"none\" style=\"width:12px;height:12px;\" version=\"1.1\" viewBox=\"0 0 12 12\" width=\"12px\" zoomAndPan=\"magnify\"><defs/><g><!--MD5=[aeeef50f102b80d730deb6443d14f702]\n",
       "@startuml\r\n",
       "skinparam wrapWidth 300\r\n",
       "hide circle\r\n",
       "\r\n",
       "@enduml\r\n",
       "\n",
       "PlantUML version 1.2020.13(Sat Jun 13 12:26:38 UTC 2020)\n",
       "(EPL source distribution)\n",
       "Java Runtime: OpenJDK Runtime Environment\n",
       "JVM: OpenJDK 64-Bit Server VM\n",
       "Default Encoding: UTF-8\n",
       "Language: en\n",
       "Country: null\n",
       "--></g></svg>"
      ]
     },
     "execution_count": 25,
     "metadata": {},
     "output_type": "execute_result"
    }
   ],
   "source": [
    "%viz --style=\"STDCOLOR\" --view=\"State\" \"ConnectionTest\""
   ]
  },
  {
   "cell_type": "code",
   "execution_count": 26,
   "id": "d0ccd72e",
   "metadata": {
    "execution": {
     "iopub.execute_input": "2021-08-04T06:28:53.240265Z",
     "iopub.status.busy": "2021-08-04T06:28:53.239819Z",
     "iopub.status.idle": "2021-08-04T06:28:53.264861Z",
     "shell.execute_reply": "2021-08-04T06:28:53.264502Z"
    }
   },
   "outputs": [
    {
     "data": {
      "image/svg+xml": [
       "<?xml version=\"1.0\" encoding=\"UTF-8\" standalone=\"no\"?><svg xmlns=\"http://www.w3.org/2000/svg\" xmlns:xlink=\"http://www.w3.org/1999/xlink\" contentScriptType=\"application/ecmascript\" contentStyleType=\"text/css\" height=\"406px\" preserveAspectRatio=\"none\" style=\"width:509px;height:406px;\" version=\"1.1\" viewBox=\"0 0 509 406\" width=\"509px\" zoomAndPan=\"magnify\"><defs><filter height=\"300%\" id=\"f1eju02aswgmr\" width=\"300%\" x=\"-1\" y=\"-1\"><feGaussianBlur result=\"blurOut\" stdDeviation=\"2.0\"/><feColorMatrix in=\"blurOut\" result=\"blurOut2\" type=\"matrix\" values=\"0 0 0 0 0 0 0 0 0 0 0 0 0 0 0 0 0 0 .4 0\"/><feOffset dx=\"4.0\" dy=\"4.0\" in=\"blurOut2\" result=\"blurOut3\"/><feBlend in=\"SourceGraphic\" in2=\"blurOut3\" mode=\"normal\"/></filter></defs><g><!--MD5=[fbc87193dbaf4d95561dea2c320d4a47]\n",
       "cluster E1--><a href=\"psysml:316d1b7b-e6b7-4d49-a637-31383ba5712a\" target=\"_top\" title=\"psysml:316d1b7b-e6b7-4d49-a637-31383ba5712a\" xlink:actuate=\"onRequest\" xlink:href=\"psysml:316d1b7b-e6b7-4d49-a637-31383ba5712a\" xlink:show=\"new\" xlink:title=\"psysml:316d1b7b-e6b7-4d49-a637-31383ba5712a\" xlink:type=\"simple\"><polygon fill=\"#FFFFFF\" filter=\"url(#f1eju02aswgmr)\" points=\"16,6,147,6,154,28.2969,487,28.2969,487,394,16,394,16,6\" style=\"stroke: #000000; stroke-width: 1.5;\"/><line style=\"stroke: #000000; stroke-width: 1.5;\" x1=\"16\" x2=\"154\" y1=\"28.2969\" y2=\"28.2969\"/><text fill=\"#000000\" font-family=\"sans-serif\" font-size=\"14\" font-weight=\"bold\" lengthAdjust=\"spacingAndGlyphs\" textLength=\"125\" x=\"20\" y=\"20.9951\">ConnectionTest</text></a><!--MD5=[e4f7fae6ed58524ba242bb0b0d3be6b7]\n",
       "cluster E2--><a href=\"psysml:c01c1eb8-4402-477c-affb-a3d93aa1c07f\" target=\"_top\" title=\"psysml:c01c1eb8-4402-477c-affb-a3d93aa1c07f\" xlink:actuate=\"onRequest\" xlink:href=\"psysml:c01c1eb8-4402-477c-affb-a3d93aa1c07f\" xlink:show=\"new\" xlink:title=\"psysml:c01c1eb8-4402-477c-affb-a3d93aa1c07f\" xlink:type=\"simple\"><rect fill=\"#FFFFFF\" filter=\"url(#f1eju02aswgmr)\" height=\"174\" id=\"E2\" rx=\"10\" ry=\"10\" style=\"stroke: #A80036; stroke-width: 1.5;\" width=\"154\" x=\"301\" y=\"116\"/><rect fill=\"#FEFECE\" height=\"23.9688\" rx=\"10\" ry=\"10\" style=\"stroke: #FEFECE; stroke-width: 1.5;\" width=\"154\" x=\"301\" y=\"116\"/><rect fill=\"#FEFECE\" height=\"10\" style=\"stroke: #FEFECE; stroke-width: 1.5;\" width=\"154\" x=\"301\" y=\"129.9688\"/><rect fill=\"none\" height=\"174\" id=\"E2\" rx=\"10\" ry=\"10\" style=\"stroke: #A80036; stroke-width: 1.5;\" width=\"154\" x=\"301\" y=\"116\"/><text fill=\"#000000\" font-family=\"sans-serif\" font-size=\"12\" lengthAdjust=\"spacingAndGlyphs\" textLength=\"8\" x=\"374\" y=\"132.1387\">p</text><line style=\"stroke: #A80036; stroke-width: 1.0;\" x1=\"301\" x2=\"455\" y1=\"139.9688\" y2=\"139.9688\"/></a><!--MD5=[d5e69f78d87373223dbae638b30a9c99]\n",
       "cluster E3--><a href=\"psysml:83a66275-79f9-4d22-aa8c-e03faa30289f\" target=\"_top\" title=\"psysml:83a66275-79f9-4d22-aa8c-e03faa30289f\" xlink:actuate=\"onRequest\" xlink:href=\"psysml:83a66275-79f9-4d22-aa8c-e03faa30289f\" xlink:show=\"new\" xlink:title=\"psysml:83a66275-79f9-4d22-aa8c-e03faa30289f\" xlink:type=\"simple\"><rect fill=\"#FFFFFF\" filter=\"url(#f1eju02aswgmr)\" height=\"91\" id=\"E3\" rx=\"10\" ry=\"10\" style=\"stroke: #A80036; stroke-width: 1.5;\" width=\"82\" x=\"341\" y=\"167\"/><rect fill=\"#FEFECE\" height=\"23.9688\" rx=\"10\" ry=\"10\" style=\"stroke: #FEFECE; stroke-width: 1.5;\" width=\"82\" x=\"341\" y=\"167\"/><rect fill=\"#FEFECE\" height=\"10\" style=\"stroke: #FEFECE; stroke-width: 1.5;\" width=\"82\" x=\"341\" y=\"180.9688\"/><rect fill=\"none\" height=\"91\" id=\"E3\" rx=\"10\" ry=\"10\" style=\"stroke: #A80036; stroke-width: 1.5;\" width=\"82\" x=\"341\" y=\"167\"/><text fill=\"#000000\" font-family=\"sans-serif\" font-size=\"12\" lengthAdjust=\"spacingAndGlyphs\" textLength=\"6\" x=\"379\" y=\"183.1387\">x</text><line style=\"stroke: #A80036; stroke-width: 1.0;\" x1=\"341\" x2=\"423\" y1=\"190.9688\" y2=\"190.9688\"/></a><!--MD5=[de5ec2e2e8f62f467e546659f5068c88]\n",
       "cluster E5--><a href=\"psysml:fe1eabcd-2f5c-4c92-bec8-31bd54db8461\" target=\"_top\" title=\"psysml:fe1eabcd-2f5c-4c92-bec8-31bd54db8461\" xlink:actuate=\"onRequest\" xlink:href=\"psysml:fe1eabcd-2f5c-4c92-bec8-31bd54db8461\" xlink:show=\"new\" xlink:title=\"psysml:fe1eabcd-2f5c-4c92-bec8-31bd54db8461\" xlink:type=\"simple\"><rect fill=\"#FFFFFF\" filter=\"url(#f1eju02aswgmr)\" height=\"321\" id=\"E5\" style=\"stroke: #A80036; stroke-width: 1.5;\" width=\"229\" x=\"40\" y=\"49\"/><rect fill=\"#FEFECE\" height=\"37.9375\" style=\"stroke: #A80036; stroke-width: 1.5;\" width=\"229\" x=\"40\" y=\"49\"/><text fill=\"#000000\" font-family=\"sans-serif\" font-size=\"12\" font-style=\"italic\" lengthAdjust=\"spacingAndGlyphs\" textLength=\"64\" x=\"122.5\" y=\"65.1387\">«part def»</text><text fill=\"#000000\" font-family=\"sans-serif\" font-size=\"12\" lengthAdjust=\"spacingAndGlyphs\" textLength=\"8\" x=\"150.5\" y=\"79.1074\">P</text></a><!--MD5=[168fadf3d0c3fd93dd5d6da1b1d7ab76]\n",
       "cluster E7--><a href=\"psysml:32e0c838-e55d-456a-ac80-3fd98b88adbf\" target=\"_top\" title=\"psysml:32e0c838-e55d-456a-ac80-3fd98b88adbf\" xlink:actuate=\"onRequest\" xlink:href=\"psysml:32e0c838-e55d-456a-ac80-3fd98b88adbf\" xlink:show=\"new\" xlink:title=\"psysml:32e0c838-e55d-456a-ac80-3fd98b88adbf\" xlink:type=\"simple\"><rect fill=\"#FFFFFF\" filter=\"url(#f1eju02aswgmr)\" height=\"190\" id=\"E7\" rx=\"10\" ry=\"10\" style=\"stroke: #A80036; stroke-width: 1.5;\" width=\"181\" x=\"64\" y=\"108\"/><rect fill=\"#FEFECE\" height=\"23.9688\" rx=\"10\" ry=\"10\" style=\"stroke: #FEFECE; stroke-width: 1.5;\" width=\"181\" x=\"64\" y=\"108\"/><rect fill=\"#FEFECE\" height=\"10\" style=\"stroke: #FEFECE; stroke-width: 1.5;\" width=\"181\" x=\"64\" y=\"121.9688\"/><rect fill=\"none\" height=\"190\" id=\"E7\" rx=\"10\" ry=\"10\" style=\"stroke: #A80036; stroke-width: 1.5;\" width=\"181\" x=\"64\" y=\"108\"/><text fill=\"#000000\" font-family=\"sans-serif\" font-size=\"12\" lengthAdjust=\"spacingAndGlyphs\" textLength=\"16\" x=\"146.5\" y=\"124.1387\">p1</text><line style=\"stroke: #A80036; stroke-width: 1.0;\" x1=\"64\" x2=\"245\" y1=\"131.9688\" y2=\"131.9688\"/></a><!--MD5=[55dfccfc6c49c2d10cd1bd2211a6c90c]\n",
       "cluster E8--><a href=\"psysml:83a66275-79f9-4d22-aa8c-e03faa30289f\" target=\"_top\" title=\"psysml:83a66275-79f9-4d22-aa8c-e03faa30289f\" xlink:actuate=\"onRequest\" xlink:href=\"psysml:83a66275-79f9-4d22-aa8c-e03faa30289f\" xlink:show=\"new\" xlink:title=\"psysml:83a66275-79f9-4d22-aa8c-e03faa30289f\" xlink:type=\"simple\"><rect fill=\"#FFFFFF\" filter=\"url(#f1eju02aswgmr)\" height=\"107\" id=\"E8\" rx=\"10\" ry=\"10\" style=\"stroke: #A80036; stroke-width: 1.5;\" width=\"117\" x=\"96\" y=\"159\"/><rect fill=\"#FEFECE\" height=\"23.9688\" rx=\"10\" ry=\"10\" style=\"stroke: #FEFECE; stroke-width: 1.5;\" width=\"117\" x=\"96\" y=\"159\"/><rect fill=\"#FEFECE\" height=\"10\" style=\"stroke: #FEFECE; stroke-width: 1.5;\" width=\"117\" x=\"96\" y=\"172.9688\"/><rect fill=\"none\" height=\"107\" id=\"E8\" rx=\"10\" ry=\"10\" style=\"stroke: #A80036; stroke-width: 1.5;\" width=\"117\" x=\"96\" y=\"159\"/><text fill=\"#000000\" font-family=\"sans-serif\" font-size=\"12\" lengthAdjust=\"spacingAndGlyphs\" textLength=\"16\" x=\"146.5\" y=\"175.1387\">^x</text><line style=\"stroke: #A80036; stroke-width: 1.0;\" x1=\"96\" x2=\"213\" y1=\"182.9688\" y2=\"182.9688\"/></a><g id=\"E1.E2.E3.E4\"><a href=\"psysml:aa5ac9d5-4dfe-418e-90b4-d1e9d9002b4c\" target=\"_top\" title=\"psysml:aa5ac9d5-4dfe-418e-90b4-d1e9d9002b4c\" xlink:actuate=\"onRequest\" xlink:href=\"psysml:aa5ac9d5-4dfe-418e-90b4-d1e9d9002b4c\" xlink:show=\"new\" xlink:title=\"psysml:aa5ac9d5-4dfe-418e-90b4-d1e9d9002b4c\" xlink:type=\"simple\"><rect fill=\"#FEFECE\" filter=\"url(#f1eju02aswgmr)\" height=\"40\" id=\"E4\" rx=\"10\" ry=\"10\" style=\"stroke: #A80036; stroke-width: 1.5;\" width=\"50\" x=\"357\" y=\"202\"/><text fill=\"#000000\" font-family=\"sans-serif\" font-size=\"12\" lengthAdjust=\"spacingAndGlyphs\" textLength=\"14\" x=\"375\" y=\"218.1387\">x1</text></a></g><g id=\"E1.E5.E6\"><a href=\"psysml:06be23d5-21a7-42eb-83e3-f8e6bdc4a055\" target=\"_top\" title=\"psysml:06be23d5-21a7-42eb-83e3-f8e6bdc4a055\" xlink:actuate=\"onRequest\" xlink:href=\"psysml:06be23d5-21a7-42eb-83e3-f8e6bdc4a055\" xlink:show=\"new\" xlink:title=\"psysml:06be23d5-21a7-42eb-83e3-f8e6bdc4a055\" xlink:type=\"simple\"><rect fill=\"#FEFECE\" filter=\"url(#f1eju02aswgmr)\" height=\"40\" id=\"E6\" rx=\"10\" ry=\"10\" style=\"stroke: #A80036; stroke-width: 1.5;\" width=\"50\" x=\"139\" y=\"314\"/><text fill=\"#000000\" font-family=\"sans-serif\" font-size=\"12\" lengthAdjust=\"spacingAndGlyphs\" textLength=\"6\" x=\"161\" y=\"330.1387\">y</text></a></g><g id=\"E1.E5.E7.E8.E9\"><a href=\"psysml:aa5ac9d5-4dfe-418e-90b4-d1e9d9002b4c\" target=\"_top\" title=\"psysml:aa5ac9d5-4dfe-418e-90b4-d1e9d9002b4c\" xlink:actuate=\"onRequest\" xlink:href=\"psysml:aa5ac9d5-4dfe-418e-90b4-d1e9d9002b4c\" xlink:show=\"new\" xlink:title=\"psysml:aa5ac9d5-4dfe-418e-90b4-d1e9d9002b4c\" xlink:type=\"simple\"><rect fill=\"#FEFECE\" filter=\"url(#f1eju02aswgmr)\" height=\"40\" id=\"E9\" rx=\"10\" ry=\"10\" style=\"stroke: #A80036; stroke-width: 1.5;\" width=\"50\" x=\"139\" y=\"202\"/><text fill=\"#000000\" font-family=\"sans-serif\" font-size=\"12\" lengthAdjust=\"spacingAndGlyphs\" textLength=\"14\" x=\"157\" y=\"218.1387\">x1</text></a></g><!--MD5=[e3e28c1befcf002155aa15e1416b4315]\n",
       "link E2 to E6--><a href=\"psysml:2b37c4a5-3576-4b38-9831-53a66373adf4\" target=\"_top\" title=\"psysml:2b37c4a5-3576-4b38-9831-53a66373adf4\" xlink:actuate=\"onRequest\" xlink:href=\"psysml:2b37c4a5-3576-4b38-9831-53a66373adf4\" xlink:show=\"new\" xlink:title=\"psysml:2b37c4a5-3576-4b38-9831-53a66373adf4\" xlink:type=\"simple\"><path d=\"M300.7532,230.0089 C300.6678,230.081 300.5818,230.1536 300.4952,230.2266 C300.3221,230.3728 300.1466,230.5208 299.9687,230.6708 C299.2574,231.2706 298.509,231.9009 297.7253,232.56 C291.4556,237.8325 282.9263,244.945 273.0525,253.02 C253.305,269.17 228.18,289.17 205,306 C200.03,309.61 194.62,313.32 189.4,316.79 \" fill=\"none\" id=\"E2-E6\" style=\"stroke: #A80036; stroke-width: 3.0;\"/><text fill=\"#000000\" font-family=\"sans-serif\" font-size=\"13\" lengthAdjust=\"spacingAndGlyphs\" textLength=\"7\" x=\"197.1669\" y=\"307.2339\">*</text></a><!--MD5=[c5e8897d989ce984f93528998a7150fe]\n",
       "link E8 to E6--><a href=\"psysml:55b22e92-f05f-458a-a067-1c48392866cc\" target=\"_top\" title=\"psysml:55b22e92-f05f-458a-a067-1c48392866cc\" xlink:actuate=\"onRequest\" xlink:href=\"psysml:55b22e92-f05f-458a-a067-1c48392866cc\" xlink:show=\"new\" xlink:title=\"psysml:55b22e92-f05f-458a-a067-1c48392866cc\" xlink:type=\"simple\"><path d=\"M107.5144,266.114 C107.5418,266.252 107.5694,266.3902 107.5972,266.5284 C107.6527,266.8049 107.7091,267.0817 107.7663,267.3589 C108.6814,271.7933 109.8082,276.3099 111.1942,280.7795 C113.9663,289.7188 117.775,298.47 123,306 C127.08,311.88 132.9,316.81 138.87,320.78 \" fill=\"none\" id=\"E8-E6\" style=\"stroke: #A80036; stroke-width: 3.0;\"/><text fill=\"#000000\" font-family=\"sans-serif\" font-size=\"13\" lengthAdjust=\"spacingAndGlyphs\" textLength=\"7\" x=\"124.1757\" y=\"312.2962\">*</text></a><!--MD5=[60ac2c0cde89d4308155b0484e57a8ec]\n",
       "link E9 to E6--><a href=\"psysml:f5fd66b3-5ce3-4ce3-99f1-5aad5efc9456\" target=\"_top\" title=\"psysml:f5fd66b3-5ce3-4ce3-99f1-5aad5efc9456\" xlink:actuate=\"onRequest\" xlink:href=\"psysml:f5fd66b3-5ce3-4ce3-99f1-5aad5efc9456\" xlink:show=\"new\" xlink:title=\"psysml:f5fd66b3-5ce3-4ce3-99f1-5aad5efc9456\" xlink:type=\"simple\"><path d=\"M164,242.16 C164,262.23 164,293.57 164,313.69 \" fill=\"none\" id=\"E9-E6\" style=\"stroke: #A80036; stroke-width: 3.0;\"/><text fill=\"#000000\" font-family=\"sans-serif\" font-size=\"13\" lengthAdjust=\"spacingAndGlyphs\" textLength=\"7\" x=\"156.0156\" y=\"302.954\">*</text></a><!--MD5=[a8af8d77d62a8d21abe34e5b6bc9896a]\n",
       "@startuml\r\n",
       "skinparam ranksep 10\r\n",
       "skinparam rectangle {\r\n",
       " backgroundColor<<block>> LightGreen\r\n",
       "}\r\n",
       "skinparam wrapWidth 300\r\n",
       "hide circle\r\n",
       "\r\n",
       "package \"ConnectionTest\" as E1  [[psysml:316d1b7b-e6b7-4d49-a637-31383ba5712a ]]  {\r\n",
       "rec usage \"p\" as E2  [[psysml:c01c1eb8-4402-477c-affb-a3d93aa1c07f ]] {\r\n",
       "rec usage \"x\" as E3  [[psysml:83a66275-79f9-4d22-aa8c-e03faa30289f ]] {\r\n",
       "rec usage \"x1\" as E4  [[psysml:aa5ac9d5-4dfe-418e-90b4-d1e9d9002b4c ]] {\r\n",
       "}\r\n",
       "}\r\n",
       "}\r\n",
       "rec def \"P\" as E5  <<(T,blue) part def>> [[psysml:fe1eabcd-2f5c-4c92-bec8-31bd54db8461 ]] {\r\n",
       "rec usage \"y\" as E6  [[psysml:06be23d5-21a7-42eb-83e3-f8e6bdc4a055 ]] {\r\n",
       "}\r\n",
       "rec usage \"p1\" as E7  [[psysml:32e0c838-e55d-456a-ac80-3fd98b88adbf ]] {\r\n",
       "rec usage \"^x\" as E8  [[psysml:83a66275-79f9-4d22-aa8c-e03faa30289f ]] {\r\n",
       "rec usage \"x1\" as E9  [[psysml:aa5ac9d5-4dfe-418e-90b4-d1e9d9002b4c ]] {\r\n",
       "}\r\n",
       "}\r\n",
       "}\r\n",
       "}\r\n",
       "E2 -[thickness=3]- \"*\"E6 [[psysml:2b37c4a5-3576-4b38-9831-53a66373adf4 ]] \r\n",
       "E8 -[thickness=3]- \"*\"E6 [[psysml:55b22e92-f05f-458a-a067-1c48392866cc ]] \r\n",
       "E9 -[thickness=3]- \"*\"E6 [[psysml:f5fd66b3-5ce3-4ce3-99f1-5aad5efc9456 ]] \r\n",
       "}\r\n",
       "@enduml\r\n",
       "\n",
       "PlantUML version 1.2020.13(Sat Jun 13 12:26:38 UTC 2020)\n",
       "(EPL source distribution)\n",
       "Java Runtime: OpenJDK Runtime Environment\n",
       "JVM: OpenJDK 64-Bit Server VM\n",
       "Default Encoding: UTF-8\n",
       "Language: en\n",
       "Country: null\n",
       "--></g></svg>"
      ]
     },
     "execution_count": 26,
     "metadata": {},
     "output_type": "execute_result"
    }
   ],
   "source": [
    "%viz --style=\"STDCOLOR\" --view=\"Interconnection\" \"ConnectionTest\""
   ]
  },
  {
   "cell_type": "code",
   "execution_count": 27,
   "id": "7784a340",
   "metadata": {
    "execution": {
     "iopub.execute_input": "2021-08-04T06:28:53.314429Z",
     "iopub.status.busy": "2021-08-04T06:28:53.314027Z",
     "iopub.status.idle": "2021-08-04T06:28:53.317457Z",
     "shell.execute_reply": "2021-08-04T06:28:53.317129Z"
    }
   },
   "outputs": [
    {
     "data": {
      "image/svg+xml": [
       "<?xml version=\"1.0\" encoding=\"UTF-8\" standalone=\"no\"?><svg xmlns=\"http://www.w3.org/2000/svg\" xmlns:xlink=\"http://www.w3.org/1999/xlink\" contentScriptType=\"application/ecmascript\" contentStyleType=\"text/css\" height=\"12px\" preserveAspectRatio=\"none\" style=\"width:12px;height:12px;\" version=\"1.1\" viewBox=\"0 0 12 12\" width=\"12px\" zoomAndPan=\"magnify\"><defs/><g><!--MD5=[9863325348a96a77dacc89509d8ee65e]\n",
       "@startuml\r\n",
       "skinparam ranksep 8\r\n",
       "skinparam wrapWidth 300\r\n",
       "hide circle\r\n",
       "\r\n",
       "@enduml\r\n",
       "\n",
       "PlantUML version 1.2020.13(Sat Jun 13 12:26:38 UTC 2020)\n",
       "(EPL source distribution)\n",
       "Java Runtime: OpenJDK Runtime Environment\n",
       "JVM: OpenJDK 64-Bit Server VM\n",
       "Default Encoding: UTF-8\n",
       "Language: en\n",
       "Country: null\n",
       "--></g></svg>"
      ]
     },
     "execution_count": 27,
     "metadata": {},
     "output_type": "execute_result"
    }
   ],
   "source": [
    "%viz --style=\"STDCOLOR\" --view=\"Action\" \"ConnectionTest\""
   ]
  },
  {
   "cell_type": "code",
   "execution_count": 28,
   "id": "43fbeed0",
   "metadata": {
    "execution": {
     "iopub.execute_input": "2021-08-04T06:28:53.367306Z",
     "iopub.status.busy": "2021-08-04T06:28:53.366911Z",
     "iopub.status.idle": "2021-08-04T06:28:53.388197Z",
     "shell.execute_reply": "2021-08-04T06:28:53.386998Z"
    }
   },
   "outputs": [
    {
     "data": {
      "image/svg+xml": [
       "<?xml version=\"1.0\" encoding=\"UTF-8\" standalone=\"no\"?><svg xmlns=\"http://www.w3.org/2000/svg\" xmlns:xlink=\"http://www.w3.org/1999/xlink\" contentScriptType=\"application/ecmascript\" contentStyleType=\"text/css\" height=\"539px\" preserveAspectRatio=\"none\" style=\"width:189px;height:539px;\" version=\"1.1\" viewBox=\"0 0 189 539\" width=\"189px\" zoomAndPan=\"magnify\"><defs><filter height=\"300%\" id=\"f10yqkfg25d1eb\" width=\"300%\" x=\"-1\" y=\"-1\"><feGaussianBlur result=\"blurOut\" stdDeviation=\"2.0\"/><feColorMatrix in=\"blurOut\" result=\"blurOut2\" type=\"matrix\" values=\"0 0 0 0 0 0 0 0 0 0 0 0 0 0 0 0 0 0 .4 0\"/><feOffset dx=\"4.0\" dy=\"4.0\" in=\"blurOut2\" result=\"blurOut3\"/><feBlend in=\"SourceGraphic\" in2=\"blurOut3\" mode=\"normal\"/></filter></defs><g><!--MD5=[fbc87193dbaf4d95561dea2c320d4a47]\n",
       "cluster E1--><a href=\"psysml:316d1b7b-e6b7-4d49-a637-31383ba5712a\" target=\"_top\" title=\"psysml:316d1b7b-e6b7-4d49-a637-31383ba5712a\" xlink:actuate=\"onRequest\" xlink:href=\"psysml:316d1b7b-e6b7-4d49-a637-31383ba5712a\" xlink:show=\"new\" xlink:title=\"psysml:316d1b7b-e6b7-4d49-a637-31383ba5712a\" xlink:type=\"simple\"><polygon fill=\"#FFFFFF\" filter=\"url(#f10yqkfg25d1eb)\" points=\"16,6,147,6,154,28.2969,167,28.2969,167,527,16,527,16,6\" style=\"stroke: #000000; stroke-width: 1.5;\"/><line style=\"stroke: #000000; stroke-width: 1.5;\" x1=\"16\" x2=\"154\" y1=\"28.2969\" y2=\"28.2969\"/><text fill=\"#000000\" font-family=\"sans-serif\" font-size=\"14\" font-weight=\"bold\" lengthAdjust=\"spacingAndGlyphs\" textLength=\"125\" x=\"20\" y=\"20.9951\">ConnectionTest</text></a><!--MD5=[b4997ac47864f28c2f74865a473b2911]\n",
       "class E2--><a href=\"psysml:c01c1eb8-4402-477c-affb-a3d93aa1c07f\" target=\"_top\" title=\"psysml:c01c1eb8-4402-477c-affb-a3d93aa1c07f\" xlink:actuate=\"onRequest\" xlink:href=\"psysml:c01c1eb8-4402-477c-affb-a3d93aa1c07f\" xlink:show=\"new\" xlink:title=\"psysml:c01c1eb8-4402-477c-affb-a3d93aa1c07f\" xlink:type=\"simple\"><rect fill=\"#FEFECE\" filter=\"url(#f10yqkfg25d1eb)\" height=\"45.9375\" id=\"E2\" rx=\"10\" ry=\"10\" style=\"stroke: #A80036; stroke-width: 1.5;\" width=\"42\" x=\"89\" y=\"253\"/><text fill=\"#000000\" font-family=\"sans-serif\" font-size=\"12\" font-style=\"italic\" lengthAdjust=\"spacingAndGlyphs\" textLength=\"40\" x=\"90\" y=\"269.1387\">«part»</text><text fill=\"#000000\" font-family=\"sans-serif\" font-size=\"12\" lengthAdjust=\"spacingAndGlyphs\" textLength=\"8\" x=\"106\" y=\"283.1074\">p</text><line style=\"stroke: #A80036; stroke-width: 1.5;\" x1=\"90\" x2=\"130\" y1=\"290.9375\" y2=\"290.9375\"/></a><!--MD5=[09b614a08d8cba4a07c9adeb5e0fee81]\n",
       "class E3--><a href=\"psysml:83a66275-79f9-4d22-aa8c-e03faa30289f\" target=\"_top\" title=\"psysml:83a66275-79f9-4d22-aa8c-e03faa30289f\" xlink:actuate=\"onRequest\" xlink:href=\"psysml:83a66275-79f9-4d22-aa8c-e03faa30289f\" xlink:show=\"new\" xlink:title=\"psysml:83a66275-79f9-4d22-aa8c-e03faa30289f\" xlink:type=\"simple\"><rect fill=\"#FEFECE\" filter=\"url(#f10yqkfg25d1eb)\" height=\"45.9375\" id=\"E3\" rx=\"10\" ry=\"10\" style=\"stroke: #A80036; stroke-width: 1.5;\" width=\"42\" x=\"109\" y=\"359\"/><text fill=\"#000000\" font-family=\"sans-serif\" font-size=\"12\" font-style=\"italic\" lengthAdjust=\"spacingAndGlyphs\" textLength=\"40\" x=\"110\" y=\"375.1387\">«part»</text><text fill=\"#000000\" font-family=\"sans-serif\" font-size=\"12\" lengthAdjust=\"spacingAndGlyphs\" textLength=\"6\" x=\"127\" y=\"389.1074\">x</text><line style=\"stroke: #A80036; stroke-width: 1.5;\" x1=\"110\" x2=\"150\" y1=\"396.9375\" y2=\"396.9375\"/></a><!--MD5=[ebbe1d658d1005bcc118a6aa81145e00]\n",
       "class E4--><a href=\"psysml:aa5ac9d5-4dfe-418e-90b4-d1e9d9002b4c\" target=\"_top\" title=\"psysml:aa5ac9d5-4dfe-418e-90b4-d1e9d9002b4c\" xlink:actuate=\"onRequest\" xlink:href=\"psysml:aa5ac9d5-4dfe-418e-90b4-d1e9d9002b4c\" xlink:show=\"new\" xlink:title=\"psysml:aa5ac9d5-4dfe-418e-90b4-d1e9d9002b4c\" xlink:type=\"simple\"><rect fill=\"#FEFECE\" filter=\"url(#f10yqkfg25d1eb)\" height=\"45.9375\" id=\"E4\" rx=\"10\" ry=\"10\" style=\"stroke: #A80036; stroke-width: 1.5;\" width=\"42\" x=\"109\" y=\"465\"/><text fill=\"#000000\" font-family=\"sans-serif\" font-size=\"12\" font-style=\"italic\" lengthAdjust=\"spacingAndGlyphs\" textLength=\"40\" x=\"110\" y=\"481.1387\">«part»</text><text fill=\"#000000\" font-family=\"sans-serif\" font-size=\"12\" lengthAdjust=\"spacingAndGlyphs\" textLength=\"14\" x=\"123\" y=\"495.1074\">x1</text><line style=\"stroke: #A80036; stroke-width: 1.5;\" x1=\"110\" x2=\"150\" y1=\"502.9375\" y2=\"502.9375\"/></a><!--MD5=[270fce915f116d4de14055a7c1d9a0f3]\n",
       "class E5--><a href=\"psysml:fe1eabcd-2f5c-4c92-bec8-31bd54db8461\" target=\"_top\" title=\"psysml:fe1eabcd-2f5c-4c92-bec8-31bd54db8461\" xlink:actuate=\"onRequest\" xlink:href=\"psysml:fe1eabcd-2f5c-4c92-bec8-31bd54db8461\" xlink:show=\"new\" xlink:title=\"psysml:fe1eabcd-2f5c-4c92-bec8-31bd54db8461\" xlink:type=\"simple\"><rect fill=\"#FEFECE\" filter=\"url(#f10yqkfg25d1eb)\" height=\"45.9375\" id=\"E5\" style=\"stroke: #A80036; stroke-width: 1.5;\" width=\"66\" x=\"54\" y=\"41\"/><text fill=\"#000000\" font-family=\"sans-serif\" font-size=\"12\" font-style=\"italic\" lengthAdjust=\"spacingAndGlyphs\" textLength=\"64\" x=\"55\" y=\"57.1387\">«part def»</text><text fill=\"#000000\" font-family=\"sans-serif\" font-size=\"12\" lengthAdjust=\"spacingAndGlyphs\" textLength=\"8\" x=\"83\" y=\"71.1074\">P</text><line style=\"stroke: #A80036; stroke-width: 1.5;\" x1=\"55\" x2=\"119\" y1=\"78.9375\" y2=\"78.9375\"/></a><!--MD5=[60a26617385b1d2d0262a64233df1f8d]\n",
       "class E6--><a href=\"psysml:06be23d5-21a7-42eb-83e3-f8e6bdc4a055\" target=\"_top\" title=\"psysml:06be23d5-21a7-42eb-83e3-f8e6bdc4a055\" xlink:actuate=\"onRequest\" xlink:href=\"psysml:06be23d5-21a7-42eb-83e3-f8e6bdc4a055\" xlink:show=\"new\" xlink:title=\"psysml:06be23d5-21a7-42eb-83e3-f8e6bdc4a055\" xlink:type=\"simple\"><rect fill=\"#FEFECE\" filter=\"url(#f10yqkfg25d1eb)\" height=\"45.9375\" id=\"E6\" rx=\"10\" ry=\"10\" style=\"stroke: #A80036; stroke-width: 1.5;\" width=\"42\" x=\"32\" y=\"359\"/><text fill=\"#000000\" font-family=\"sans-serif\" font-size=\"12\" font-style=\"italic\" lengthAdjust=\"spacingAndGlyphs\" textLength=\"40\" x=\"33\" y=\"375.1387\">«part»</text><text fill=\"#000000\" font-family=\"sans-serif\" font-size=\"12\" lengthAdjust=\"spacingAndGlyphs\" textLength=\"6\" x=\"50\" y=\"389.1074\">y</text><line style=\"stroke: #A80036; stroke-width: 1.5;\" x1=\"33\" x2=\"73\" y1=\"396.9375\" y2=\"396.9375\"/></a><!--MD5=[2156ba9850f5573cc1fc38a6a4b2f02b]\n",
       "class E7--><a href=\"psysml:32e0c838-e55d-456a-ac80-3fd98b88adbf\" target=\"_top\" title=\"psysml:32e0c838-e55d-456a-ac80-3fd98b88adbf\" xlink:actuate=\"onRequest\" xlink:href=\"psysml:32e0c838-e55d-456a-ac80-3fd98b88adbf\" xlink:show=\"new\" xlink:title=\"psysml:32e0c838-e55d-456a-ac80-3fd98b88adbf\" xlink:type=\"simple\"><rect fill=\"#FEFECE\" filter=\"url(#f10yqkfg25d1eb)\" height=\"45.9375\" id=\"E7\" rx=\"10\" ry=\"10\" style=\"stroke: #A80036; stroke-width: 1.5;\" width=\"42\" x=\"89\" y=\"147\"/><text fill=\"#000000\" font-family=\"sans-serif\" font-size=\"12\" font-style=\"italic\" lengthAdjust=\"spacingAndGlyphs\" textLength=\"40\" x=\"90\" y=\"163.1387\">«part»</text><text fill=\"#000000\" font-family=\"sans-serif\" font-size=\"12\" lengthAdjust=\"spacingAndGlyphs\" textLength=\"16\" x=\"102\" y=\"177.1074\">p1</text><line style=\"stroke: #A80036; stroke-width: 1.5;\" x1=\"90\" x2=\"130\" y1=\"184.9375\" y2=\"184.9375\"/></a><!--MD5=[209b3feb70ccb6233bfe1053d122c12c]\n",
       "reverse link E2 to E3--><a href=\"psysml:96d6ab40-4f8f-4d11-a48f-d95a37d5e194\" target=\"_top\" title=\"psysml:96d6ab40-4f8f-4d11-a48f-d95a37d5e194\" xlink:actuate=\"onRequest\" xlink:href=\"psysml:96d6ab40-4f8f-4d11-a48f-d95a37d5e194\" xlink:show=\"new\" xlink:title=\"psysml:96d6ab40-4f8f-4d11-a48f-d95a37d5e194\" xlink:type=\"simple\"><path d=\"M116.72,311.96 C119.71,327.51 123.14,345.33 125.76,358.98 \" fill=\"none\" id=\"E2&lt;-E3\" style=\"stroke: #A80036; stroke-width: 1.0;\"/><polygon fill=\"#A80036\" points=\"114.24,299.06,111.447,305.7082,116.5096,310.8434,119.3026,304.1952,114.24,299.06\" style=\"stroke: #A80036; stroke-width: 1.0;\"/><text fill=\"#000000\" font-family=\"sans-serif\" font-size=\"13\" lengthAdjust=\"spacingAndGlyphs\" textLength=\"8\" x=\"115.5455\" y=\"347.8709\">1</text></a><!--MD5=[4672eba38e49728da53d11aeb285b987]\n",
       "reverse link E3 to E4--><a href=\"psysml:15b45894-f404-4f26-aaef-cf96b8c0ca99\" target=\"_top\" title=\"psysml:15b45894-f404-4f26-aaef-cf96b8c0ca99\" xlink:actuate=\"onRequest\" xlink:href=\"psysml:15b45894-f404-4f26-aaef-cf96b8c0ca99\" xlink:show=\"new\" xlink:title=\"psysml:15b45894-f404-4f26-aaef-cf96b8c0ca99\" xlink:type=\"simple\"><path d=\"M130,418.44 C130,433.87 130,451.47 130,464.98 \" fill=\"none\" id=\"E3&lt;-E4\" style=\"stroke: #A80036; stroke-width: 1.0;\"/><polygon fill=\"#A80036\" points=\"130,405.06,126,411.06,130,417.06,134,411.06,130,405.06\" style=\"stroke: #A80036; stroke-width: 1.0;\"/><text fill=\"#000000\" font-family=\"sans-serif\" font-size=\"13\" lengthAdjust=\"spacingAndGlyphs\" textLength=\"8\" x=\"120.925\" y=\"453.8709\">1</text></a><!--MD5=[85d356282659285ab4b2cfe2f634dd2b]\n",
       "reverse link E5 to E6--><a href=\"psysml:e9a2dbd2-75b9-45f4-aecc-a2c2183931e9\" target=\"_top\" title=\"psysml:e9a2dbd2-75b9-45f4-aecc-a2c2183931e9\" xlink:actuate=\"onRequest\" xlink:href=\"psysml:e9a2dbd2-75b9-45f4-aecc-a2c2183931e9\" xlink:show=\"new\" xlink:title=\"psysml:e9a2dbd2-75b9-45f4-aecc-a2c2183931e9\" xlink:type=\"simple\"><path d=\"M79.77,100.15 C77.01,114.61 74.03,131.56 72,147 C61.78,224.59 56.2,317.42 54.05,358.98 \" fill=\"none\" id=\"E5&lt;-E6\" style=\"stroke: #A80036; stroke-width: 1.0;\"/><polygon fill=\"#A80036\" points=\"82.32,87.18,77.2408,92.2988,80.0123,98.956,85.0915,93.8372,82.32,87.18\" style=\"stroke: #A80036; stroke-width: 1.0;\"/><text fill=\"#000000\" font-family=\"sans-serif\" font-size=\"13\" lengthAdjust=\"spacingAndGlyphs\" textLength=\"8\" x=\"45.2572\" y=\"347.8709\">1</text></a><!--MD5=[e3e28c1befcf002155aa15e1416b4315]\n",
       "link E2 to E6--><a href=\"psysml:2b37c4a5-3576-4b38-9831-53a66373adf4\" target=\"_top\" title=\"psysml:2b37c4a5-3576-4b38-9831-53a66373adf4\" xlink:actuate=\"onRequest\" xlink:href=\"psysml:2b37c4a5-3576-4b38-9831-53a66373adf4\" xlink:show=\"new\" xlink:title=\"psysml:2b37c4a5-3576-4b38-9831-53a66373adf4\" xlink:type=\"simple\"><path d=\"M97.91,299.06 C88.24,316.7 74.74,341.34 65.07,358.98 \" fill=\"none\" id=\"E2-E6\" style=\"stroke: #A80036; stroke-width: 3.0;\"/><text fill=\"#000000\" font-family=\"sans-serif\" font-size=\"13\" lengthAdjust=\"spacingAndGlyphs\" textLength=\"7\" x=\"60.3732\" y=\"347.8709\">*</text></a><!--MD5=[452b418e7f8a40397a49b8c0a78acc5b]\n",
       "reverse link E5 to E7--><a href=\"psysml:0433d7bc-4d61-42a3-98d7-5077bd02d97e\" target=\"_top\" title=\"psysml:0433d7bc-4d61-42a3-98d7-5077bd02d97e\" xlink:actuate=\"onRequest\" xlink:href=\"psysml:0433d7bc-4d61-42a3-98d7-5077bd02d97e\" xlink:show=\"new\" xlink:title=\"psysml:0433d7bc-4d61-42a3-98d7-5077bd02d97e\" xlink:type=\"simple\"><path d=\"M94.73,99.96 C98.17,115.51 102.11,133.33 105.13,146.98 \" fill=\"none\" id=\"E5&lt;-E7\" style=\"stroke: #A80036; stroke-width: 1.0;\"/><polygon fill=\"#A80036\" points=\"91.88,87.06,89.2656,93.7805,94.4636,98.7786,97.078,92.0581,91.88,87.06\" style=\"stroke: #A80036; stroke-width: 1.0;\"/><text fill=\"#000000\" font-family=\"sans-serif\" font-size=\"13\" lengthAdjust=\"spacingAndGlyphs\" textLength=\"8\" x=\"94.7462\" y=\"135.8709\">1</text></a><!--MD5=[583832df87f4419a098336a29a52fa00]\n",
       "link E7 to E2--><a href=\"psysml:d6550333-67eb-4da5-a08d-e8c2ba9c3c42\" target=\"_top\" title=\"psysml:d6550333-67eb-4da5-a08d-e8c2ba9c3c42\" xlink:actuate=\"onRequest\" xlink:href=\"psysml:d6550333-67eb-4da5-a08d-e8c2ba9c3c42\" xlink:show=\"new\" xlink:title=\"psysml:d6550333-67eb-4da5-a08d-e8c2ba9c3c42\" xlink:type=\"simple\"><path d=\"M110,193.06 C110,204.64 110,219.23 110,232.87 \" fill=\"none\" id=\"E7-&gt;E2\" style=\"stroke: #A80036; stroke-width: 1.0;\"/><polygon fill=\"none\" points=\"117,232.98,110,252.98,103,232.98,117,232.98\" style=\"stroke: #A80036; stroke-width: 1.0;\"/></a><!--MD5=[d16890caa8968d76632366e7b8243d57]\n",
       "@startuml\r\n",
       "skinparam wrapWidth 300\r\n",
       "hide circle\r\n",
       "\r\n",
       "package \"ConnectionTest\" as E1  [[psysml:316d1b7b-e6b7-4d49-a637-31383ba5712a ]]  {\r\n",
       "comp usage \"p\" as E2  <<(T,blue) part>> [[psysml:c01c1eb8-4402-477c-affb-a3d93aa1c07f ]] {\r\n",
       "}\r\n",
       "comp usage \"x\" as E3  <<(T,blue) part>> [[psysml:83a66275-79f9-4d22-aa8c-e03faa30289f ]] {\r\n",
       "}\r\n",
       "comp usage \"x1\" as E4  <<(T,blue) part>> [[psysml:aa5ac9d5-4dfe-418e-90b4-d1e9d9002b4c ]] {\r\n",
       "}\r\n",
       "comp def \"P\" as E5  <<(T,blue) part def>> [[psysml:fe1eabcd-2f5c-4c92-bec8-31bd54db8461 ]] {\r\n",
       "}\r\n",
       "comp usage \"y\" as E6  <<(T,blue) part>> [[psysml:06be23d5-21a7-42eb-83e3-f8e6bdc4a055 ]] {\r\n",
       "}\r\n",
       "comp usage \"p1\" as E7  <<(T,blue) part>> [[psysml:32e0c838-e55d-456a-ac80-3fd98b88adbf ]] {\r\n",
       "}\r\n",
       "E2 *- - \"1\"E3 [[psysml:96d6ab40-4f8f-4d11-a48f-d95a37d5e194 ]] \r\n",
       "E3 *- - \"1\"E4 [[psysml:15b45894-f404-4f26-aaef-cf96b8c0ca99 ]] \r\n",
       "E5 *- - \"1\"E6 [[psysml:e9a2dbd2-75b9-45f4-aecc-a2c2183931e9 ]] \r\n",
       "E2 -[thickness=3]- \"*\"E6 [[psysml:2b37c4a5-3576-4b38-9831-53a66373adf4 ]] \r\n",
       "E5 *- - \"1\"E7 [[psysml:0433d7bc-4d61-42a3-98d7-5077bd02d97e ]] \r\n",
       "E7 - -|> E2 [[psysml:d6550333-67eb-4da5-a08d-e8c2ba9c3c42 ]] \r\n",
       "}\r\n",
       "@enduml\r\n",
       "\n",
       "PlantUML version 1.2020.13(Sat Jun 13 12:26:38 UTC 2020)\n",
       "(EPL source distribution)\n",
       "Java Runtime: OpenJDK Runtime Environment\n",
       "JVM: OpenJDK 64-Bit Server VM\n",
       "Default Encoding: UTF-8\n",
       "Language: en\n",
       "Country: null\n",
       "--></g></svg>"
      ]
     },
     "execution_count": 28,
     "metadata": {},
     "output_type": "execute_result"
    }
   ],
   "source": [
    "%viz --style=\"STDCOLOR\" --view=\"Sequence\" \"ConnectionTest\""
   ]
  },
  {
   "cell_type": "code",
   "execution_count": 29,
   "id": "137689da",
   "metadata": {
    "execution": {
     "iopub.execute_input": "2021-08-04T06:28:53.437766Z",
     "iopub.status.busy": "2021-08-04T06:28:53.437369Z",
     "iopub.status.idle": "2021-08-04T06:28:53.458310Z",
     "shell.execute_reply": "2021-08-04T06:28:53.458116Z"
    }
   },
   "outputs": [
    {
     "data": {
      "image/svg+xml": [
       "<?xml version=\"1.0\" encoding=\"UTF-8\" standalone=\"no\"?><svg xmlns=\"http://www.w3.org/2000/svg\" xmlns:xlink=\"http://www.w3.org/1999/xlink\" contentScriptType=\"application/ecmascript\" contentStyleType=\"text/css\" height=\"539px\" preserveAspectRatio=\"none\" style=\"width:189px;height:539px;\" version=\"1.1\" viewBox=\"0 0 189 539\" width=\"189px\" zoomAndPan=\"magnify\"><defs><filter height=\"300%\" id=\"f10yqkfg25d1eb\" width=\"300%\" x=\"-1\" y=\"-1\"><feGaussianBlur result=\"blurOut\" stdDeviation=\"2.0\"/><feColorMatrix in=\"blurOut\" result=\"blurOut2\" type=\"matrix\" values=\"0 0 0 0 0 0 0 0 0 0 0 0 0 0 0 0 0 0 .4 0\"/><feOffset dx=\"4.0\" dy=\"4.0\" in=\"blurOut2\" result=\"blurOut3\"/><feBlend in=\"SourceGraphic\" in2=\"blurOut3\" mode=\"normal\"/></filter></defs><g><!--MD5=[fbc87193dbaf4d95561dea2c320d4a47]\n",
       "cluster E1--><a href=\"psysml:316d1b7b-e6b7-4d49-a637-31383ba5712a\" target=\"_top\" title=\"psysml:316d1b7b-e6b7-4d49-a637-31383ba5712a\" xlink:actuate=\"onRequest\" xlink:href=\"psysml:316d1b7b-e6b7-4d49-a637-31383ba5712a\" xlink:show=\"new\" xlink:title=\"psysml:316d1b7b-e6b7-4d49-a637-31383ba5712a\" xlink:type=\"simple\"><polygon fill=\"#FFFFFF\" filter=\"url(#f10yqkfg25d1eb)\" points=\"16,6,147,6,154,28.2969,167,28.2969,167,527,16,527,16,6\" style=\"stroke: #000000; stroke-width: 1.5;\"/><line style=\"stroke: #000000; stroke-width: 1.5;\" x1=\"16\" x2=\"154\" y1=\"28.2969\" y2=\"28.2969\"/><text fill=\"#000000\" font-family=\"sans-serif\" font-size=\"14\" font-weight=\"bold\" lengthAdjust=\"spacingAndGlyphs\" textLength=\"125\" x=\"20\" y=\"20.9951\">ConnectionTest</text></a><!--MD5=[b4997ac47864f28c2f74865a473b2911]\n",
       "class E2--><a href=\"psysml:c01c1eb8-4402-477c-affb-a3d93aa1c07f\" target=\"_top\" title=\"psysml:c01c1eb8-4402-477c-affb-a3d93aa1c07f\" xlink:actuate=\"onRequest\" xlink:href=\"psysml:c01c1eb8-4402-477c-affb-a3d93aa1c07f\" xlink:show=\"new\" xlink:title=\"psysml:c01c1eb8-4402-477c-affb-a3d93aa1c07f\" xlink:type=\"simple\"><rect fill=\"#FEFECE\" filter=\"url(#f10yqkfg25d1eb)\" height=\"45.9375\" id=\"E2\" rx=\"10\" ry=\"10\" style=\"stroke: #A80036; stroke-width: 1.5;\" width=\"42\" x=\"89\" y=\"253\"/><text fill=\"#000000\" font-family=\"sans-serif\" font-size=\"12\" font-style=\"italic\" lengthAdjust=\"spacingAndGlyphs\" textLength=\"40\" x=\"90\" y=\"269.1387\">«part»</text><text fill=\"#000000\" font-family=\"sans-serif\" font-size=\"12\" lengthAdjust=\"spacingAndGlyphs\" textLength=\"8\" x=\"106\" y=\"283.1074\">p</text><line style=\"stroke: #A80036; stroke-width: 1.5;\" x1=\"90\" x2=\"130\" y1=\"290.9375\" y2=\"290.9375\"/></a><!--MD5=[09b614a08d8cba4a07c9adeb5e0fee81]\n",
       "class E3--><a href=\"psysml:83a66275-79f9-4d22-aa8c-e03faa30289f\" target=\"_top\" title=\"psysml:83a66275-79f9-4d22-aa8c-e03faa30289f\" xlink:actuate=\"onRequest\" xlink:href=\"psysml:83a66275-79f9-4d22-aa8c-e03faa30289f\" xlink:show=\"new\" xlink:title=\"psysml:83a66275-79f9-4d22-aa8c-e03faa30289f\" xlink:type=\"simple\"><rect fill=\"#FEFECE\" filter=\"url(#f10yqkfg25d1eb)\" height=\"45.9375\" id=\"E3\" rx=\"10\" ry=\"10\" style=\"stroke: #A80036; stroke-width: 1.5;\" width=\"42\" x=\"109\" y=\"359\"/><text fill=\"#000000\" font-family=\"sans-serif\" font-size=\"12\" font-style=\"italic\" lengthAdjust=\"spacingAndGlyphs\" textLength=\"40\" x=\"110\" y=\"375.1387\">«part»</text><text fill=\"#000000\" font-family=\"sans-serif\" font-size=\"12\" lengthAdjust=\"spacingAndGlyphs\" textLength=\"6\" x=\"127\" y=\"389.1074\">x</text><line style=\"stroke: #A80036; stroke-width: 1.5;\" x1=\"110\" x2=\"150\" y1=\"396.9375\" y2=\"396.9375\"/></a><!--MD5=[ebbe1d658d1005bcc118a6aa81145e00]\n",
       "class E4--><a href=\"psysml:aa5ac9d5-4dfe-418e-90b4-d1e9d9002b4c\" target=\"_top\" title=\"psysml:aa5ac9d5-4dfe-418e-90b4-d1e9d9002b4c\" xlink:actuate=\"onRequest\" xlink:href=\"psysml:aa5ac9d5-4dfe-418e-90b4-d1e9d9002b4c\" xlink:show=\"new\" xlink:title=\"psysml:aa5ac9d5-4dfe-418e-90b4-d1e9d9002b4c\" xlink:type=\"simple\"><rect fill=\"#FEFECE\" filter=\"url(#f10yqkfg25d1eb)\" height=\"45.9375\" id=\"E4\" rx=\"10\" ry=\"10\" style=\"stroke: #A80036; stroke-width: 1.5;\" width=\"42\" x=\"109\" y=\"465\"/><text fill=\"#000000\" font-family=\"sans-serif\" font-size=\"12\" font-style=\"italic\" lengthAdjust=\"spacingAndGlyphs\" textLength=\"40\" x=\"110\" y=\"481.1387\">«part»</text><text fill=\"#000000\" font-family=\"sans-serif\" font-size=\"12\" lengthAdjust=\"spacingAndGlyphs\" textLength=\"14\" x=\"123\" y=\"495.1074\">x1</text><line style=\"stroke: #A80036; stroke-width: 1.5;\" x1=\"110\" x2=\"150\" y1=\"502.9375\" y2=\"502.9375\"/></a><!--MD5=[270fce915f116d4de14055a7c1d9a0f3]\n",
       "class E5--><a href=\"psysml:fe1eabcd-2f5c-4c92-bec8-31bd54db8461\" target=\"_top\" title=\"psysml:fe1eabcd-2f5c-4c92-bec8-31bd54db8461\" xlink:actuate=\"onRequest\" xlink:href=\"psysml:fe1eabcd-2f5c-4c92-bec8-31bd54db8461\" xlink:show=\"new\" xlink:title=\"psysml:fe1eabcd-2f5c-4c92-bec8-31bd54db8461\" xlink:type=\"simple\"><rect fill=\"#FEFECE\" filter=\"url(#f10yqkfg25d1eb)\" height=\"45.9375\" id=\"E5\" style=\"stroke: #A80036; stroke-width: 1.5;\" width=\"66\" x=\"54\" y=\"41\"/><text fill=\"#000000\" font-family=\"sans-serif\" font-size=\"12\" font-style=\"italic\" lengthAdjust=\"spacingAndGlyphs\" textLength=\"64\" x=\"55\" y=\"57.1387\">«part def»</text><text fill=\"#000000\" font-family=\"sans-serif\" font-size=\"12\" lengthAdjust=\"spacingAndGlyphs\" textLength=\"8\" x=\"83\" y=\"71.1074\">P</text><line style=\"stroke: #A80036; stroke-width: 1.5;\" x1=\"55\" x2=\"119\" y1=\"78.9375\" y2=\"78.9375\"/></a><!--MD5=[60a26617385b1d2d0262a64233df1f8d]\n",
       "class E6--><a href=\"psysml:06be23d5-21a7-42eb-83e3-f8e6bdc4a055\" target=\"_top\" title=\"psysml:06be23d5-21a7-42eb-83e3-f8e6bdc4a055\" xlink:actuate=\"onRequest\" xlink:href=\"psysml:06be23d5-21a7-42eb-83e3-f8e6bdc4a055\" xlink:show=\"new\" xlink:title=\"psysml:06be23d5-21a7-42eb-83e3-f8e6bdc4a055\" xlink:type=\"simple\"><rect fill=\"#FEFECE\" filter=\"url(#f10yqkfg25d1eb)\" height=\"45.9375\" id=\"E6\" rx=\"10\" ry=\"10\" style=\"stroke: #A80036; stroke-width: 1.5;\" width=\"42\" x=\"32\" y=\"359\"/><text fill=\"#000000\" font-family=\"sans-serif\" font-size=\"12\" font-style=\"italic\" lengthAdjust=\"spacingAndGlyphs\" textLength=\"40\" x=\"33\" y=\"375.1387\">«part»</text><text fill=\"#000000\" font-family=\"sans-serif\" font-size=\"12\" lengthAdjust=\"spacingAndGlyphs\" textLength=\"6\" x=\"50\" y=\"389.1074\">y</text><line style=\"stroke: #A80036; stroke-width: 1.5;\" x1=\"33\" x2=\"73\" y1=\"396.9375\" y2=\"396.9375\"/></a><!--MD5=[2156ba9850f5573cc1fc38a6a4b2f02b]\n",
       "class E7--><a href=\"psysml:32e0c838-e55d-456a-ac80-3fd98b88adbf\" target=\"_top\" title=\"psysml:32e0c838-e55d-456a-ac80-3fd98b88adbf\" xlink:actuate=\"onRequest\" xlink:href=\"psysml:32e0c838-e55d-456a-ac80-3fd98b88adbf\" xlink:show=\"new\" xlink:title=\"psysml:32e0c838-e55d-456a-ac80-3fd98b88adbf\" xlink:type=\"simple\"><rect fill=\"#FEFECE\" filter=\"url(#f10yqkfg25d1eb)\" height=\"45.9375\" id=\"E7\" rx=\"10\" ry=\"10\" style=\"stroke: #A80036; stroke-width: 1.5;\" width=\"42\" x=\"89\" y=\"147\"/><text fill=\"#000000\" font-family=\"sans-serif\" font-size=\"12\" font-style=\"italic\" lengthAdjust=\"spacingAndGlyphs\" textLength=\"40\" x=\"90\" y=\"163.1387\">«part»</text><text fill=\"#000000\" font-family=\"sans-serif\" font-size=\"12\" lengthAdjust=\"spacingAndGlyphs\" textLength=\"16\" x=\"102\" y=\"177.1074\">p1</text><line style=\"stroke: #A80036; stroke-width: 1.5;\" x1=\"90\" x2=\"130\" y1=\"184.9375\" y2=\"184.9375\"/></a><!--MD5=[209b3feb70ccb6233bfe1053d122c12c]\n",
       "reverse link E2 to E3--><a href=\"psysml:96d6ab40-4f8f-4d11-a48f-d95a37d5e194\" target=\"_top\" title=\"psysml:96d6ab40-4f8f-4d11-a48f-d95a37d5e194\" xlink:actuate=\"onRequest\" xlink:href=\"psysml:96d6ab40-4f8f-4d11-a48f-d95a37d5e194\" xlink:show=\"new\" xlink:title=\"psysml:96d6ab40-4f8f-4d11-a48f-d95a37d5e194\" xlink:type=\"simple\"><path d=\"M116.72,311.96 C119.71,327.51 123.14,345.33 125.76,358.98 \" fill=\"none\" id=\"E2&lt;-E3\" style=\"stroke: #A80036; stroke-width: 1.0;\"/><polygon fill=\"#A80036\" points=\"114.24,299.06,111.447,305.7082,116.5096,310.8434,119.3026,304.1952,114.24,299.06\" style=\"stroke: #A80036; stroke-width: 1.0;\"/><text fill=\"#000000\" font-family=\"sans-serif\" font-size=\"13\" lengthAdjust=\"spacingAndGlyphs\" textLength=\"8\" x=\"115.5455\" y=\"347.8709\">1</text></a><!--MD5=[4672eba38e49728da53d11aeb285b987]\n",
       "reverse link E3 to E4--><a href=\"psysml:15b45894-f404-4f26-aaef-cf96b8c0ca99\" target=\"_top\" title=\"psysml:15b45894-f404-4f26-aaef-cf96b8c0ca99\" xlink:actuate=\"onRequest\" xlink:href=\"psysml:15b45894-f404-4f26-aaef-cf96b8c0ca99\" xlink:show=\"new\" xlink:title=\"psysml:15b45894-f404-4f26-aaef-cf96b8c0ca99\" xlink:type=\"simple\"><path d=\"M130,418.44 C130,433.87 130,451.47 130,464.98 \" fill=\"none\" id=\"E3&lt;-E4\" style=\"stroke: #A80036; stroke-width: 1.0;\"/><polygon fill=\"#A80036\" points=\"130,405.06,126,411.06,130,417.06,134,411.06,130,405.06\" style=\"stroke: #A80036; stroke-width: 1.0;\"/><text fill=\"#000000\" font-family=\"sans-serif\" font-size=\"13\" lengthAdjust=\"spacingAndGlyphs\" textLength=\"8\" x=\"120.925\" y=\"453.8709\">1</text></a><!--MD5=[85d356282659285ab4b2cfe2f634dd2b]\n",
       "reverse link E5 to E6--><a href=\"psysml:e9a2dbd2-75b9-45f4-aecc-a2c2183931e9\" target=\"_top\" title=\"psysml:e9a2dbd2-75b9-45f4-aecc-a2c2183931e9\" xlink:actuate=\"onRequest\" xlink:href=\"psysml:e9a2dbd2-75b9-45f4-aecc-a2c2183931e9\" xlink:show=\"new\" xlink:title=\"psysml:e9a2dbd2-75b9-45f4-aecc-a2c2183931e9\" xlink:type=\"simple\"><path d=\"M79.77,100.15 C77.01,114.61 74.03,131.56 72,147 C61.78,224.59 56.2,317.42 54.05,358.98 \" fill=\"none\" id=\"E5&lt;-E6\" style=\"stroke: #A80036; stroke-width: 1.0;\"/><polygon fill=\"#A80036\" points=\"82.32,87.18,77.2408,92.2988,80.0123,98.956,85.0915,93.8372,82.32,87.18\" style=\"stroke: #A80036; stroke-width: 1.0;\"/><text fill=\"#000000\" font-family=\"sans-serif\" font-size=\"13\" lengthAdjust=\"spacingAndGlyphs\" textLength=\"8\" x=\"45.2572\" y=\"347.8709\">1</text></a><!--MD5=[e3e28c1befcf002155aa15e1416b4315]\n",
       "link E2 to E6--><a href=\"psysml:2b37c4a5-3576-4b38-9831-53a66373adf4\" target=\"_top\" title=\"psysml:2b37c4a5-3576-4b38-9831-53a66373adf4\" xlink:actuate=\"onRequest\" xlink:href=\"psysml:2b37c4a5-3576-4b38-9831-53a66373adf4\" xlink:show=\"new\" xlink:title=\"psysml:2b37c4a5-3576-4b38-9831-53a66373adf4\" xlink:type=\"simple\"><path d=\"M97.91,299.06 C88.24,316.7 74.74,341.34 65.07,358.98 \" fill=\"none\" id=\"E2-E6\" style=\"stroke: #A80036; stroke-width: 3.0;\"/><text fill=\"#000000\" font-family=\"sans-serif\" font-size=\"13\" lengthAdjust=\"spacingAndGlyphs\" textLength=\"7\" x=\"60.3732\" y=\"347.8709\">*</text></a><!--MD5=[452b418e7f8a40397a49b8c0a78acc5b]\n",
       "reverse link E5 to E7--><a href=\"psysml:0433d7bc-4d61-42a3-98d7-5077bd02d97e\" target=\"_top\" title=\"psysml:0433d7bc-4d61-42a3-98d7-5077bd02d97e\" xlink:actuate=\"onRequest\" xlink:href=\"psysml:0433d7bc-4d61-42a3-98d7-5077bd02d97e\" xlink:show=\"new\" xlink:title=\"psysml:0433d7bc-4d61-42a3-98d7-5077bd02d97e\" xlink:type=\"simple\"><path d=\"M94.73,99.96 C98.17,115.51 102.11,133.33 105.13,146.98 \" fill=\"none\" id=\"E5&lt;-E7\" style=\"stroke: #A80036; stroke-width: 1.0;\"/><polygon fill=\"#A80036\" points=\"91.88,87.06,89.2656,93.7805,94.4636,98.7786,97.078,92.0581,91.88,87.06\" style=\"stroke: #A80036; stroke-width: 1.0;\"/><text fill=\"#000000\" font-family=\"sans-serif\" font-size=\"13\" lengthAdjust=\"spacingAndGlyphs\" textLength=\"8\" x=\"94.7462\" y=\"135.8709\">1</text></a><!--MD5=[583832df87f4419a098336a29a52fa00]\n",
       "link E7 to E2--><a href=\"psysml:d6550333-67eb-4da5-a08d-e8c2ba9c3c42\" target=\"_top\" title=\"psysml:d6550333-67eb-4da5-a08d-e8c2ba9c3c42\" xlink:actuate=\"onRequest\" xlink:href=\"psysml:d6550333-67eb-4da5-a08d-e8c2ba9c3c42\" xlink:show=\"new\" xlink:title=\"psysml:d6550333-67eb-4da5-a08d-e8c2ba9c3c42\" xlink:type=\"simple\"><path d=\"M110,193.06 C110,204.64 110,219.23 110,232.87 \" fill=\"none\" id=\"E7-&gt;E2\" style=\"stroke: #A80036; stroke-width: 1.0;\"/><polygon fill=\"none\" points=\"117,232.98,110,252.98,103,232.98,117,232.98\" style=\"stroke: #A80036; stroke-width: 1.0;\"/></a><!--MD5=[d16890caa8968d76632366e7b8243d57]\n",
       "@startuml\r\n",
       "skinparam wrapWidth 300\r\n",
       "hide circle\r\n",
       "\r\n",
       "package \"ConnectionTest\" as E1  [[psysml:316d1b7b-e6b7-4d49-a637-31383ba5712a ]]  {\r\n",
       "comp usage \"p\" as E2  <<(T,blue) part>> [[psysml:c01c1eb8-4402-477c-affb-a3d93aa1c07f ]] {\r\n",
       "}\r\n",
       "comp usage \"x\" as E3  <<(T,blue) part>> [[psysml:83a66275-79f9-4d22-aa8c-e03faa30289f ]] {\r\n",
       "}\r\n",
       "comp usage \"x1\" as E4  <<(T,blue) part>> [[psysml:aa5ac9d5-4dfe-418e-90b4-d1e9d9002b4c ]] {\r\n",
       "}\r\n",
       "comp def \"P\" as E5  <<(T,blue) part def>> [[psysml:fe1eabcd-2f5c-4c92-bec8-31bd54db8461 ]] {\r\n",
       "}\r\n",
       "comp usage \"y\" as E6  <<(T,blue) part>> [[psysml:06be23d5-21a7-42eb-83e3-f8e6bdc4a055 ]] {\r\n",
       "}\r\n",
       "comp usage \"p1\" as E7  <<(T,blue) part>> [[psysml:32e0c838-e55d-456a-ac80-3fd98b88adbf ]] {\r\n",
       "}\r\n",
       "E2 *- - \"1\"E3 [[psysml:96d6ab40-4f8f-4d11-a48f-d95a37d5e194 ]] \r\n",
       "E3 *- - \"1\"E4 [[psysml:15b45894-f404-4f26-aaef-cf96b8c0ca99 ]] \r\n",
       "E5 *- - \"1\"E6 [[psysml:e9a2dbd2-75b9-45f4-aecc-a2c2183931e9 ]] \r\n",
       "E2 -[thickness=3]- \"*\"E6 [[psysml:2b37c4a5-3576-4b38-9831-53a66373adf4 ]] \r\n",
       "E5 *- - \"1\"E7 [[psysml:0433d7bc-4d61-42a3-98d7-5077bd02d97e ]] \r\n",
       "E7 - -|> E2 [[psysml:d6550333-67eb-4da5-a08d-e8c2ba9c3c42 ]] \r\n",
       "}\r\n",
       "@enduml\r\n",
       "\n",
       "PlantUML version 1.2020.13(Sat Jun 13 12:26:38 UTC 2020)\n",
       "(EPL source distribution)\n",
       "Java Runtime: OpenJDK Runtime Environment\n",
       "JVM: OpenJDK 64-Bit Server VM\n",
       "Default Encoding: UTF-8\n",
       "Language: en\n",
       "Country: null\n",
       "--></g></svg>"
      ]
     },
     "execution_count": 29,
     "metadata": {},
     "output_type": "execute_result"
    }
   ],
   "source": [
    "%viz --style=\"STDCOLOR\" --view=\"MIXED\" \"ConnectionTest\""
   ]
  },
  {
   "cell_type": "code",
   "execution_count": 30,
   "id": "40bea4dd",
   "metadata": {
    "execution": {
     "iopub.execute_input": "2021-08-04T06:28:53.508120Z",
     "iopub.status.busy": "2021-08-04T06:28:53.507874Z",
     "iopub.status.idle": "2021-08-04T06:28:53.544190Z",
     "shell.execute_reply": "2021-08-04T06:28:53.543998Z"
    }
   },
   "outputs": [
    {
     "data": {
      "image/svg+xml": [
       "<?xml version=\"1.0\" encoding=\"UTF-8\" standalone=\"no\"?><svg xmlns=\"http://www.w3.org/2000/svg\" xmlns:xlink=\"http://www.w3.org/1999/xlink\" contentScriptType=\"application/ecmascript\" contentStyleType=\"text/css\" height=\"533px\" preserveAspectRatio=\"none\" style=\"width:241px;height:533px;\" version=\"1.1\" viewBox=\"0 0 241 533\" width=\"241px\" zoomAndPan=\"magnify\"><defs><filter height=\"300%\" id=\"f1cs2enn4ctu13\" width=\"300%\" x=\"-1\" y=\"-1\"><feGaussianBlur result=\"blurOut\" stdDeviation=\"2.0\"/><feColorMatrix in=\"blurOut\" result=\"blurOut2\" type=\"matrix\" values=\"0 0 0 0 0 0 0 0 0 0 0 0 0 0 0 0 0 0 .4 0\"/><feOffset dx=\"4.0\" dy=\"4.0\" in=\"blurOut2\" result=\"blurOut3\"/><feBlend in=\"SourceGraphic\" in2=\"blurOut3\" mode=\"normal\"/></filter></defs><g><!--MD5=[fbc87193dbaf4d95561dea2c320d4a47]\n",
       "cluster E1--><a href=\"psysml:316d1b7b-e6b7-4d49-a637-31383ba5712a\" target=\"_top\" title=\"psysml:316d1b7b-e6b7-4d49-a637-31383ba5712a\" xlink:actuate=\"onRequest\" xlink:href=\"psysml:316d1b7b-e6b7-4d49-a637-31383ba5712a\" xlink:show=\"new\" xlink:title=\"psysml:316d1b7b-e6b7-4d49-a637-31383ba5712a\" xlink:type=\"simple\"><polygon fill=\"#FFFFFF\" filter=\"url(#f1cs2enn4ctu13)\" points=\"16,6,147,6,154,28.2969,219,28.2969,219,521,16,521,16,6\" style=\"stroke: #000000; stroke-width: 1.5;\"/><line style=\"stroke: #000000; stroke-width: 1.5;\" x1=\"16\" x2=\"154\" y1=\"28.2969\" y2=\"28.2969\"/><text fill=\"#000000\" font-family=\"sans-serif\" font-size=\"14\" font-weight=\"bold\" lengthAdjust=\"spacingAndGlyphs\" textLength=\"125\" x=\"20\" y=\"20.9951\">ConnectionTest</text></a><!--MD5=[b4997ac47864f28c2f74865a473b2911]\n",
       "class E2--><a href=\"psysml:c01c1eb8-4402-477c-affb-a3d93aa1c07f\" target=\"_top\" title=\"psysml:c01c1eb8-4402-477c-affb-a3d93aa1c07f\" xlink:actuate=\"onRequest\" xlink:href=\"psysml:c01c1eb8-4402-477c-affb-a3d93aa1c07f\" xlink:show=\"new\" xlink:title=\"psysml:c01c1eb8-4402-477c-affb-a3d93aa1c07f\" xlink:type=\"simple\"><rect fill=\"#FEFECE\" filter=\"url(#f1cs2enn4ctu13)\" height=\"45.9375\" id=\"E2\" rx=\"10\" ry=\"10\" style=\"stroke: #A80036; stroke-width: 1.5;\" width=\"68\" x=\"102\" y=\"247\"/><ellipse cx=\"117\" cy=\"265.9688\" fill=\"#32CD32\" rx=\"11\" ry=\"11\" style=\"stroke: #A80036; stroke-width: 1.0;\"/><path d=\"M116.7969,261.6406 L116.7969,265.2656 L117.7969,265.2656 Q119,265.2656 119.4844,264.8594 Q119.9688,264.4531 119.9688,263.4531 Q119.9688,262.4531 119.4844,262.0469 Q119,261.6406 117.7969,261.6406 L116.7969,261.6406 Z M114.3438,259.5781 L117.7031,259.5781 Q120.2656,259.5781 121.3906,260.5 Q122.5156,261.4063 122.5156,263.4531 Q122.5156,265.5 121.3906,266.4219 Q120.2656,267.3281 117.7031,267.3281 L116.7969,267.3281 L116.7969,271.9688 L114.3438,271.9688 L114.3438,259.5781 Z \"/><text fill=\"#000000\" font-family=\"sans-serif\" font-size=\"12\" font-style=\"italic\" lengthAdjust=\"spacingAndGlyphs\" textLength=\"40\" x=\"129\" y=\"263.1387\">«part»</text><text fill=\"#000000\" font-family=\"sans-serif\" font-size=\"12\" lengthAdjust=\"spacingAndGlyphs\" textLength=\"8\" x=\"145\" y=\"277.1074\">p</text><line style=\"stroke: #A80036; stroke-width: 1.5;\" x1=\"103\" x2=\"169\" y1=\"284.9375\" y2=\"284.9375\"/></a><!--MD5=[09b614a08d8cba4a07c9adeb5e0fee81]\n",
       "class E3--><a href=\"psysml:83a66275-79f9-4d22-aa8c-e03faa30289f\" target=\"_top\" title=\"psysml:83a66275-79f9-4d22-aa8c-e03faa30289f\" xlink:actuate=\"onRequest\" xlink:href=\"psysml:83a66275-79f9-4d22-aa8c-e03faa30289f\" xlink:show=\"new\" xlink:title=\"psysml:83a66275-79f9-4d22-aa8c-e03faa30289f\" xlink:type=\"simple\"><rect fill=\"#FEFECE\" filter=\"url(#f1cs2enn4ctu13)\" height=\"45.9375\" id=\"E3\" rx=\"10\" ry=\"10\" style=\"stroke: #A80036; stroke-width: 1.5;\" width=\"68\" x=\"135\" y=\"353\"/><ellipse cx=\"150\" cy=\"371.9688\" fill=\"#32CD32\" rx=\"11\" ry=\"11\" style=\"stroke: #A80036; stroke-width: 1.0;\"/><path d=\"M149.7969,367.6406 L149.7969,371.2656 L150.7969,371.2656 Q152,371.2656 152.4844,370.8594 Q152.9688,370.4531 152.9688,369.4531 Q152.9688,368.4531 152.4844,368.0469 Q152,367.6406 150.7969,367.6406 L149.7969,367.6406 Z M147.3438,365.5781 L150.7031,365.5781 Q153.2656,365.5781 154.3906,366.5 Q155.5156,367.4063 155.5156,369.4531 Q155.5156,371.5 154.3906,372.4219 Q153.2656,373.3281 150.7031,373.3281 L149.7969,373.3281 L149.7969,377.9688 L147.3438,377.9688 L147.3438,365.5781 Z \"/><text fill=\"#000000\" font-family=\"sans-serif\" font-size=\"12\" font-style=\"italic\" lengthAdjust=\"spacingAndGlyphs\" textLength=\"40\" x=\"162\" y=\"369.1387\">«part»</text><text fill=\"#000000\" font-family=\"sans-serif\" font-size=\"12\" lengthAdjust=\"spacingAndGlyphs\" textLength=\"6\" x=\"179\" y=\"383.1074\">x</text><line style=\"stroke: #A80036; stroke-width: 1.5;\" x1=\"136\" x2=\"202\" y1=\"390.9375\" y2=\"390.9375\"/></a><!--MD5=[ebbe1d658d1005bcc118a6aa81145e00]\n",
       "class E4--><a href=\"psysml:aa5ac9d5-4dfe-418e-90b4-d1e9d9002b4c\" target=\"_top\" title=\"psysml:aa5ac9d5-4dfe-418e-90b4-d1e9d9002b4c\" xlink:actuate=\"onRequest\" xlink:href=\"psysml:aa5ac9d5-4dfe-418e-90b4-d1e9d9002b4c\" xlink:show=\"new\" xlink:title=\"psysml:aa5ac9d5-4dfe-418e-90b4-d1e9d9002b4c\" xlink:type=\"simple\"><rect fill=\"#FEFECE\" filter=\"url(#f1cs2enn4ctu13)\" height=\"45.9375\" id=\"E4\" rx=\"10\" ry=\"10\" style=\"stroke: #A80036; stroke-width: 1.5;\" width=\"68\" x=\"135\" y=\"459\"/><ellipse cx=\"150\" cy=\"477.9688\" fill=\"#32CD32\" rx=\"11\" ry=\"11\" style=\"stroke: #A80036; stroke-width: 1.0;\"/><path d=\"M149.7969,473.6406 L149.7969,477.2656 L150.7969,477.2656 Q152,477.2656 152.4844,476.8594 Q152.9688,476.4531 152.9688,475.4531 Q152.9688,474.4531 152.4844,474.0469 Q152,473.6406 150.7969,473.6406 L149.7969,473.6406 Z M147.3438,471.5781 L150.7031,471.5781 Q153.2656,471.5781 154.3906,472.5 Q155.5156,473.4063 155.5156,475.4531 Q155.5156,477.5 154.3906,478.4219 Q153.2656,479.3281 150.7031,479.3281 L149.7969,479.3281 L149.7969,483.9688 L147.3438,483.9688 L147.3438,471.5781 Z \"/><text fill=\"#000000\" font-family=\"sans-serif\" font-size=\"12\" font-style=\"italic\" lengthAdjust=\"spacingAndGlyphs\" textLength=\"40\" x=\"162\" y=\"475.1387\">«part»</text><text fill=\"#000000\" font-family=\"sans-serif\" font-size=\"12\" lengthAdjust=\"spacingAndGlyphs\" textLength=\"14\" x=\"175\" y=\"489.1074\">x1</text><line style=\"stroke: #A80036; stroke-width: 1.5;\" x1=\"136\" x2=\"202\" y1=\"496.9375\" y2=\"496.9375\"/></a><!--MD5=[270fce915f116d4de14055a7c1d9a0f3]\n",
       "class E5--><a href=\"psysml:fe1eabcd-2f5c-4c92-bec8-31bd54db8461\" target=\"_top\" title=\"psysml:fe1eabcd-2f5c-4c92-bec8-31bd54db8461\" xlink:actuate=\"onRequest\" xlink:href=\"psysml:fe1eabcd-2f5c-4c92-bec8-31bd54db8461\" xlink:show=\"new\" xlink:title=\"psysml:fe1eabcd-2f5c-4c92-bec8-31bd54db8461\" xlink:type=\"simple\"><rect fill=\"#FEFECE\" filter=\"url(#f1cs2enn4ctu13)\" height=\"40\" id=\"E5\" style=\"stroke: #A80036; stroke-width: 1.5;\" width=\"40\" x=\"81\" y=\"41\"/><ellipse cx=\"96\" cy=\"57\" fill=\"#008000\" rx=\"11\" ry=\"11\" style=\"stroke: #A80036; stroke-width: 1.0;\"/><path d=\"M94.9063,57.375 L94.9063,61.0469 L96.5313,61.0469 Q97.7031,61.0469 98.1719,60.6563 Q98.6406,60.25 98.6406,59.25 Q98.6406,58.25 98.1406,57.8125 Q97.6563,57.375 96.5313,57.375 L94.9063,57.375 Z M94.9063,52.5469 L94.9063,55.4219 L96.5313,55.4219 Q97.4531,55.4219 97.8438,55.0938 Q98.25,54.75 98.25,54 Q98.25,53.2344 97.8438,52.8906 Q97.4375,52.5469 96.5313,52.5469 L94.9063,52.5469 Z M92.5313,50.5938 L96.5313,50.5938 Q98.5938,50.5938 99.6406,51.375 Q100.6875,52.1563 100.6875,53.7188 Q100.6875,54.9219 100.0625,55.5938 Q99.4531,56.2656 98.2656,56.375 Q99.6875,56.5156 100.4063,57.3281 Q101.125,58.1406 101.125,59.5938 Q101.125,61.3906 100.0469,62.2031 Q98.9688,63 96.5313,63 L92.5313,63 L92.5313,50.5938 Z \"/><text fill=\"#000000\" font-family=\"sans-serif\" font-size=\"12\" lengthAdjust=\"spacingAndGlyphs\" textLength=\"8\" x=\"110\" y=\"61.1543\">P</text><line style=\"stroke: #A80036; stroke-width: 1.5;\" x1=\"82\" x2=\"120\" y1=\"73\" y2=\"73\"/></a><!--MD5=[60a26617385b1d2d0262a64233df1f8d]\n",
       "class E6--><a href=\"psysml:06be23d5-21a7-42eb-83e3-f8e6bdc4a055\" target=\"_top\" title=\"psysml:06be23d5-21a7-42eb-83e3-f8e6bdc4a055\" xlink:actuate=\"onRequest\" xlink:href=\"psysml:06be23d5-21a7-42eb-83e3-f8e6bdc4a055\" xlink:show=\"new\" xlink:title=\"psysml:06be23d5-21a7-42eb-83e3-f8e6bdc4a055\" xlink:type=\"simple\"><rect fill=\"#FEFECE\" filter=\"url(#f1cs2enn4ctu13)\" height=\"45.9375\" id=\"E6\" rx=\"10\" ry=\"10\" style=\"stroke: #A80036; stroke-width: 1.5;\" width=\"68\" x=\"32\" y=\"353\"/><ellipse cx=\"47\" cy=\"371.9688\" fill=\"#32CD32\" rx=\"11\" ry=\"11\" style=\"stroke: #A80036; stroke-width: 1.0;\"/><path d=\"M46.7969,367.6406 L46.7969,371.2656 L47.7969,371.2656 Q49,371.2656 49.4844,370.8594 Q49.9688,370.4531 49.9688,369.4531 Q49.9688,368.4531 49.4844,368.0469 Q49,367.6406 47.7969,367.6406 L46.7969,367.6406 Z M44.3438,365.5781 L47.7031,365.5781 Q50.2656,365.5781 51.3906,366.5 Q52.5156,367.4063 52.5156,369.4531 Q52.5156,371.5 51.3906,372.4219 Q50.2656,373.3281 47.7031,373.3281 L46.7969,373.3281 L46.7969,377.9688 L44.3438,377.9688 L44.3438,365.5781 Z \"/><text fill=\"#000000\" font-family=\"sans-serif\" font-size=\"12\" font-style=\"italic\" lengthAdjust=\"spacingAndGlyphs\" textLength=\"40\" x=\"59\" y=\"369.1387\">«part»</text><text fill=\"#000000\" font-family=\"sans-serif\" font-size=\"12\" lengthAdjust=\"spacingAndGlyphs\" textLength=\"6\" x=\"76\" y=\"383.1074\">y</text><line style=\"stroke: #A80036; stroke-width: 1.5;\" x1=\"33\" x2=\"99\" y1=\"390.9375\" y2=\"390.9375\"/></a><!--MD5=[2156ba9850f5573cc1fc38a6a4b2f02b]\n",
       "class E7--><a href=\"psysml:32e0c838-e55d-456a-ac80-3fd98b88adbf\" target=\"_top\" title=\"psysml:32e0c838-e55d-456a-ac80-3fd98b88adbf\" xlink:actuate=\"onRequest\" xlink:href=\"psysml:32e0c838-e55d-456a-ac80-3fd98b88adbf\" xlink:show=\"new\" xlink:title=\"psysml:32e0c838-e55d-456a-ac80-3fd98b88adbf\" xlink:type=\"simple\"><rect fill=\"#FEFECE\" filter=\"url(#f1cs2enn4ctu13)\" height=\"45.9375\" id=\"E7\" rx=\"10\" ry=\"10\" style=\"stroke: #A80036; stroke-width: 1.5;\" width=\"68\" x=\"102\" y=\"141\"/><ellipse cx=\"117\" cy=\"159.9688\" fill=\"#32CD32\" rx=\"11\" ry=\"11\" style=\"stroke: #A80036; stroke-width: 1.0;\"/><path d=\"M116.7969,155.6406 L116.7969,159.2656 L117.7969,159.2656 Q119,159.2656 119.4844,158.8594 Q119.9688,158.4531 119.9688,157.4531 Q119.9688,156.4531 119.4844,156.0469 Q119,155.6406 117.7969,155.6406 L116.7969,155.6406 Z M114.3438,153.5781 L117.7031,153.5781 Q120.2656,153.5781 121.3906,154.5 Q122.5156,155.4063 122.5156,157.4531 Q122.5156,159.5 121.3906,160.4219 Q120.2656,161.3281 117.7031,161.3281 L116.7969,161.3281 L116.7969,165.9688 L114.3438,165.9688 L114.3438,153.5781 Z \"/><text fill=\"#000000\" font-family=\"sans-serif\" font-size=\"12\" font-style=\"italic\" lengthAdjust=\"spacingAndGlyphs\" textLength=\"40\" x=\"129\" y=\"157.1387\">«part»</text><text fill=\"#000000\" font-family=\"sans-serif\" font-size=\"12\" lengthAdjust=\"spacingAndGlyphs\" textLength=\"16\" x=\"141\" y=\"171.1074\">p1</text><line style=\"stroke: #A80036; stroke-width: 1.5;\" x1=\"103\" x2=\"169\" y1=\"178.9375\" y2=\"178.9375\"/></a><!--MD5=[209b3feb70ccb6233bfe1053d122c12c]\n",
       "reverse link E2 to E3--><a href=\"psysml:96d6ab40-4f8f-4d11-a48f-d95a37d5e194\" target=\"_top\" title=\"psysml:96d6ab40-4f8f-4d11-a48f-d95a37d5e194\" xlink:actuate=\"onRequest\" xlink:href=\"psysml:96d6ab40-4f8f-4d11-a48f-d95a37d5e194\" xlink:show=\"new\" xlink:title=\"psysml:96d6ab40-4f8f-4d11-a48f-d95a37d5e194\" xlink:type=\"simple\"><path d=\"M146.95,305.49 C151.91,321.15 157.64,339.19 162.01,352.98 \" fill=\"none\" id=\"E2&lt;-E3\" style=\"stroke: #A80036; stroke-width: 1.0;\"/><polygon fill=\"#A80036\" points=\"143,293.06,140.9989,299.9879,146.6243,304.4996,148.6253,297.5717,143,293.06\" style=\"stroke: #A80036; stroke-width: 1.0;\"/><text fill=\"#000000\" font-family=\"sans-serif\" font-size=\"13\" lengthAdjust=\"spacingAndGlyphs\" textLength=\"8\" x=\"151.0564\" y=\"341.8709\">1</text></a><!--MD5=[4672eba38e49728da53d11aeb285b987]\n",
       "reverse link E3 to E4--><a href=\"psysml:15b45894-f404-4f26-aaef-cf96b8c0ca99\" target=\"_top\" title=\"psysml:15b45894-f404-4f26-aaef-cf96b8c0ca99\" xlink:actuate=\"onRequest\" xlink:href=\"psysml:15b45894-f404-4f26-aaef-cf96b8c0ca99\" xlink:show=\"new\" xlink:title=\"psysml:15b45894-f404-4f26-aaef-cf96b8c0ca99\" xlink:type=\"simple\"><path d=\"M169,412.44 C169,427.87 169,445.47 169,458.98 \" fill=\"none\" id=\"E3&lt;-E4\" style=\"stroke: #A80036; stroke-width: 1.0;\"/><polygon fill=\"#A80036\" points=\"169,399.06,165,405.06,169,411.06,173,405.06,169,399.06\" style=\"stroke: #A80036; stroke-width: 1.0;\"/><text fill=\"#000000\" font-family=\"sans-serif\" font-size=\"13\" lengthAdjust=\"spacingAndGlyphs\" textLength=\"8\" x=\"159.925\" y=\"447.8709\">1</text></a><!--MD5=[85d356282659285ab4b2cfe2f634dd2b]\n",
       "reverse link E5 to E6--><a href=\"psysml:e9a2dbd2-75b9-45f4-aecc-a2c2183931e9\" target=\"_top\" title=\"psysml:e9a2dbd2-75b9-45f4-aecc-a2c2183931e9\" xlink:actuate=\"onRequest\" xlink:href=\"psysml:e9a2dbd2-75b9-45f4-aecc-a2c2183931e9\" xlink:show=\"new\" xlink:title=\"psysml:e9a2dbd2-75b9-45f4-aecc-a2c2183931e9\" xlink:type=\"simple\"><path d=\"M93.66,93.79 C90.58,108.14 87.21,125.35 85,141 C74.05,218.49 68.84,311.37 66.92,352.97 \" fill=\"none\" id=\"E5&lt;-E6\" style=\"stroke: #A80036; stroke-width: 1.0;\"/><polygon fill=\"#A80036\" points=\"96.48,81.05,91.282,86.0481,93.8964,92.7686,99.0944,87.7705,96.48,81.05\" style=\"stroke: #A80036; stroke-width: 1.0;\"/><text fill=\"#000000\" font-family=\"sans-serif\" font-size=\"13\" lengthAdjust=\"spacingAndGlyphs\" textLength=\"8\" x=\"58.0923\" y=\"341.8582\">1</text></a><!--MD5=[e3e28c1befcf002155aa15e1416b4315]\n",
       "link E2 to E6--><a href=\"psysml:2b37c4a5-3576-4b38-9831-53a66373adf4\" target=\"_top\" title=\"psysml:2b37c4a5-3576-4b38-9831-53a66373adf4\" xlink:actuate=\"onRequest\" xlink:href=\"psysml:2b37c4a5-3576-4b38-9831-53a66373adf4\" xlink:show=\"new\" xlink:title=\"psysml:2b37c4a5-3576-4b38-9831-53a66373adf4\" xlink:type=\"simple\"><path d=\"M121.15,293.06 C109.28,310.7 92.7,335.34 80.82,352.98 \" fill=\"none\" id=\"E2-E6\" style=\"stroke: #A80036; stroke-width: 3.0;\"/><text fill=\"#000000\" font-family=\"sans-serif\" font-size=\"13\" lengthAdjust=\"spacingAndGlyphs\" textLength=\"7\" x=\"76.8622\" y=\"341.8709\">*</text></a><!--MD5=[452b418e7f8a40397a49b8c0a78acc5b]\n",
       "reverse link E5 to E7--><a href=\"psysml:0433d7bc-4d61-42a3-98d7-5077bd02d97e\" target=\"_top\" title=\"psysml:0433d7bc-4d61-42a3-98d7-5077bd02d97e\" xlink:actuate=\"onRequest\" xlink:href=\"psysml:0433d7bc-4d61-42a3-98d7-5077bd02d97e\" xlink:show=\"new\" xlink:title=\"psysml:0433d7bc-4d61-42a3-98d7-5077bd02d97e\" xlink:type=\"simple\"><path d=\"M112.09,94.01 C117.37,109.23 123.54,127.06 128.3,140.77 \" fill=\"none\" id=\"E5&lt;-E7\" style=\"stroke: #A80036; stroke-width: 1.0;\"/><polygon fill=\"#A80036\" points=\"107.75,81.47,105.9375,88.4496,111.683,92.8072,113.4956,85.8276,107.75,81.47\" style=\"stroke: #A80036; stroke-width: 1.0;\"/><text fill=\"#000000\" font-family=\"sans-serif\" font-size=\"13\" lengthAdjust=\"spacingAndGlyphs\" textLength=\"8\" x=\"117.3019\" y=\"129.9874\">1</text></a><!--MD5=[583832df87f4419a098336a29a52fa00]\n",
       "link E7 to E2--><a href=\"psysml:d6550333-67eb-4da5-a08d-e8c2ba9c3c42\" target=\"_top\" title=\"psysml:d6550333-67eb-4da5-a08d-e8c2ba9c3c42\" xlink:actuate=\"onRequest\" xlink:href=\"psysml:d6550333-67eb-4da5-a08d-e8c2ba9c3c42\" xlink:show=\"new\" xlink:title=\"psysml:d6550333-67eb-4da5-a08d-e8c2ba9c3c42\" xlink:type=\"simple\"><path d=\"M136,187.06 C136,198.64 136,213.23 136,226.87 \" fill=\"none\" id=\"E7-&gt;E2\" style=\"stroke: #A80036; stroke-width: 1.0;\"/><polygon fill=\"none\" points=\"143,226.98,136,246.98,129,226.98,143,226.98\" style=\"stroke: #A80036; stroke-width: 1.0;\"/></a><!--MD5=[868935fe01071dcfc890c09b4aae933c]\n",
       "@startuml\r\n",
       " \r\n",
       "package \"ConnectionTest\" as E1  [[psysml:316d1b7b-e6b7-4d49-a637-31383ba5712a ]]  {\r\n",
       "comp usage \"p\" as E2 << << (P,limegreen) part>> [[psysml:c01c1eb8-4402-477c-affb-a3d93aa1c07f ]] {\r\n",
       "}\r\n",
       "comp usage \"x\" as E3 << << (P,limegreen) part>> [[psysml:83a66275-79f9-4d22-aa8c-e03faa30289f ]] {\r\n",
       "}\r\n",
       "comp usage \"x1\" as E4 << << (P,limegreen) part>> [[psysml:aa5ac9d5-4dfe-418e-90b4-d1e9d9002b4c ]] {\r\n",
       "}\r\n",
       "comp def \"P\" as E5 << << (B,green) >> [[psysml:fe1eabcd-2f5c-4c92-bec8-31bd54db8461 ]] {\r\n",
       "}\r\n",
       "comp usage \"y\" as E6 << << (P,limegreen) part>> [[psysml:06be23d5-21a7-42eb-83e3-f8e6bdc4a055 ]] {\r\n",
       "}\r\n",
       "comp usage \"p1\" as E7 << << (P,limegreen) part>> [[psysml:32e0c838-e55d-456a-ac80-3fd98b88adbf ]] {\r\n",
       "}\r\n",
       "E2 *- - \"1\"E3 [[psysml:96d6ab40-4f8f-4d11-a48f-d95a37d5e194 ]] \r\n",
       "E3 *- - \"1\"E4 [[psysml:15b45894-f404-4f26-aaef-cf96b8c0ca99 ]] \r\n",
       "E5 *- - \"1\"E6 [[psysml:e9a2dbd2-75b9-45f4-aecc-a2c2183931e9 ]] \r\n",
       "E2 -[thickness=3]- \"*\"E6 [[psysml:2b37c4a5-3576-4b38-9831-53a66373adf4 ]] \r\n",
       "E5 *- - \"1\"E7 [[psysml:0433d7bc-4d61-42a3-98d7-5077bd02d97e ]] \r\n",
       "E7 - -|> E2 [[psysml:d6550333-67eb-4da5-a08d-e8c2ba9c3c42 ]] \r\n",
       "}\r\n",
       "@enduml\r\n",
       "\n",
       "PlantUML version 1.2020.13(Sat Jun 13 12:26:38 UTC 2020)\n",
       "(EPL source distribution)\n",
       "Java Runtime: OpenJDK Runtime Environment\n",
       "JVM: OpenJDK 64-Bit Server VM\n",
       "Default Encoding: UTF-8\n",
       "Language: en\n",
       "Country: null\n",
       "--></g></svg>"
      ]
     },
     "execution_count": 30,
     "metadata": {},
     "output_type": "execute_result"
    }
   ],
   "source": [
    "%viz --style=\"PLANTUML\" --view=\"Default\" \"ConnectionTest\""
   ]
  },
  {
   "cell_type": "code",
   "execution_count": 31,
   "id": "a1933e6a",
   "metadata": {
    "execution": {
     "iopub.execute_input": "2021-08-04T06:28:53.594280Z",
     "iopub.status.busy": "2021-08-04T06:28:53.594023Z",
     "iopub.status.idle": "2021-08-04T06:28:53.617925Z",
     "shell.execute_reply": "2021-08-04T06:28:53.617562Z"
    }
   },
   "outputs": [
    {
     "data": {
      "image/svg+xml": [
       "<?xml version=\"1.0\" encoding=\"UTF-8\" standalone=\"no\"?><svg xmlns=\"http://www.w3.org/2000/svg\" xmlns:xlink=\"http://www.w3.org/1999/xlink\" contentScriptType=\"application/ecmascript\" contentStyleType=\"text/css\" height=\"533px\" preserveAspectRatio=\"none\" style=\"width:241px;height:533px;\" version=\"1.1\" viewBox=\"0 0 241 533\" width=\"241px\" zoomAndPan=\"magnify\"><defs><filter height=\"300%\" id=\"f1cs2enn4ctu13\" width=\"300%\" x=\"-1\" y=\"-1\"><feGaussianBlur result=\"blurOut\" stdDeviation=\"2.0\"/><feColorMatrix in=\"blurOut\" result=\"blurOut2\" type=\"matrix\" values=\"0 0 0 0 0 0 0 0 0 0 0 0 0 0 0 0 0 0 .4 0\"/><feOffset dx=\"4.0\" dy=\"4.0\" in=\"blurOut2\" result=\"blurOut3\"/><feBlend in=\"SourceGraphic\" in2=\"blurOut3\" mode=\"normal\"/></filter></defs><g><!--MD5=[fbc87193dbaf4d95561dea2c320d4a47]\n",
       "cluster E1--><a href=\"psysml:316d1b7b-e6b7-4d49-a637-31383ba5712a\" target=\"_top\" title=\"psysml:316d1b7b-e6b7-4d49-a637-31383ba5712a\" xlink:actuate=\"onRequest\" xlink:href=\"psysml:316d1b7b-e6b7-4d49-a637-31383ba5712a\" xlink:show=\"new\" xlink:title=\"psysml:316d1b7b-e6b7-4d49-a637-31383ba5712a\" xlink:type=\"simple\"><polygon fill=\"#FFFFFF\" filter=\"url(#f1cs2enn4ctu13)\" points=\"16,6,147,6,154,28.2969,219,28.2969,219,521,16,521,16,6\" style=\"stroke: #000000; stroke-width: 1.5;\"/><line style=\"stroke: #000000; stroke-width: 1.5;\" x1=\"16\" x2=\"154\" y1=\"28.2969\" y2=\"28.2969\"/><text fill=\"#000000\" font-family=\"sans-serif\" font-size=\"14\" font-weight=\"bold\" lengthAdjust=\"spacingAndGlyphs\" textLength=\"125\" x=\"20\" y=\"20.9951\">ConnectionTest</text></a><!--MD5=[b4997ac47864f28c2f74865a473b2911]\n",
       "class E2--><a href=\"psysml:c01c1eb8-4402-477c-affb-a3d93aa1c07f\" target=\"_top\" title=\"psysml:c01c1eb8-4402-477c-affb-a3d93aa1c07f\" xlink:actuate=\"onRequest\" xlink:href=\"psysml:c01c1eb8-4402-477c-affb-a3d93aa1c07f\" xlink:show=\"new\" xlink:title=\"psysml:c01c1eb8-4402-477c-affb-a3d93aa1c07f\" xlink:type=\"simple\"><rect fill=\"#FEFECE\" filter=\"url(#f1cs2enn4ctu13)\" height=\"45.9375\" id=\"E2\" rx=\"10\" ry=\"10\" style=\"stroke: #A80036; stroke-width: 1.5;\" width=\"68\" x=\"102\" y=\"247\"/><ellipse cx=\"117\" cy=\"265.9688\" fill=\"#32CD32\" rx=\"11\" ry=\"11\" style=\"stroke: #A80036; stroke-width: 1.0;\"/><path d=\"M116.7969,261.6406 L116.7969,265.2656 L117.7969,265.2656 Q119,265.2656 119.4844,264.8594 Q119.9688,264.4531 119.9688,263.4531 Q119.9688,262.4531 119.4844,262.0469 Q119,261.6406 117.7969,261.6406 L116.7969,261.6406 Z M114.3438,259.5781 L117.7031,259.5781 Q120.2656,259.5781 121.3906,260.5 Q122.5156,261.4063 122.5156,263.4531 Q122.5156,265.5 121.3906,266.4219 Q120.2656,267.3281 117.7031,267.3281 L116.7969,267.3281 L116.7969,271.9688 L114.3438,271.9688 L114.3438,259.5781 Z \"/><text fill=\"#000000\" font-family=\"sans-serif\" font-size=\"12\" font-style=\"italic\" lengthAdjust=\"spacingAndGlyphs\" textLength=\"40\" x=\"129\" y=\"263.1387\">«part»</text><text fill=\"#000000\" font-family=\"sans-serif\" font-size=\"12\" lengthAdjust=\"spacingAndGlyphs\" textLength=\"8\" x=\"145\" y=\"277.1074\">p</text><line style=\"stroke: #A80036; stroke-width: 1.5;\" x1=\"103\" x2=\"169\" y1=\"284.9375\" y2=\"284.9375\"/></a><!--MD5=[09b614a08d8cba4a07c9adeb5e0fee81]\n",
       "class E3--><a href=\"psysml:83a66275-79f9-4d22-aa8c-e03faa30289f\" target=\"_top\" title=\"psysml:83a66275-79f9-4d22-aa8c-e03faa30289f\" xlink:actuate=\"onRequest\" xlink:href=\"psysml:83a66275-79f9-4d22-aa8c-e03faa30289f\" xlink:show=\"new\" xlink:title=\"psysml:83a66275-79f9-4d22-aa8c-e03faa30289f\" xlink:type=\"simple\"><rect fill=\"#FEFECE\" filter=\"url(#f1cs2enn4ctu13)\" height=\"45.9375\" id=\"E3\" rx=\"10\" ry=\"10\" style=\"stroke: #A80036; stroke-width: 1.5;\" width=\"68\" x=\"135\" y=\"353\"/><ellipse cx=\"150\" cy=\"371.9688\" fill=\"#32CD32\" rx=\"11\" ry=\"11\" style=\"stroke: #A80036; stroke-width: 1.0;\"/><path d=\"M149.7969,367.6406 L149.7969,371.2656 L150.7969,371.2656 Q152,371.2656 152.4844,370.8594 Q152.9688,370.4531 152.9688,369.4531 Q152.9688,368.4531 152.4844,368.0469 Q152,367.6406 150.7969,367.6406 L149.7969,367.6406 Z M147.3438,365.5781 L150.7031,365.5781 Q153.2656,365.5781 154.3906,366.5 Q155.5156,367.4063 155.5156,369.4531 Q155.5156,371.5 154.3906,372.4219 Q153.2656,373.3281 150.7031,373.3281 L149.7969,373.3281 L149.7969,377.9688 L147.3438,377.9688 L147.3438,365.5781 Z \"/><text fill=\"#000000\" font-family=\"sans-serif\" font-size=\"12\" font-style=\"italic\" lengthAdjust=\"spacingAndGlyphs\" textLength=\"40\" x=\"162\" y=\"369.1387\">«part»</text><text fill=\"#000000\" font-family=\"sans-serif\" font-size=\"12\" lengthAdjust=\"spacingAndGlyphs\" textLength=\"6\" x=\"179\" y=\"383.1074\">x</text><line style=\"stroke: #A80036; stroke-width: 1.5;\" x1=\"136\" x2=\"202\" y1=\"390.9375\" y2=\"390.9375\"/></a><!--MD5=[ebbe1d658d1005bcc118a6aa81145e00]\n",
       "class E4--><a href=\"psysml:aa5ac9d5-4dfe-418e-90b4-d1e9d9002b4c\" target=\"_top\" title=\"psysml:aa5ac9d5-4dfe-418e-90b4-d1e9d9002b4c\" xlink:actuate=\"onRequest\" xlink:href=\"psysml:aa5ac9d5-4dfe-418e-90b4-d1e9d9002b4c\" xlink:show=\"new\" xlink:title=\"psysml:aa5ac9d5-4dfe-418e-90b4-d1e9d9002b4c\" xlink:type=\"simple\"><rect fill=\"#FEFECE\" filter=\"url(#f1cs2enn4ctu13)\" height=\"45.9375\" id=\"E4\" rx=\"10\" ry=\"10\" style=\"stroke: #A80036; stroke-width: 1.5;\" width=\"68\" x=\"135\" y=\"459\"/><ellipse cx=\"150\" cy=\"477.9688\" fill=\"#32CD32\" rx=\"11\" ry=\"11\" style=\"stroke: #A80036; stroke-width: 1.0;\"/><path d=\"M149.7969,473.6406 L149.7969,477.2656 L150.7969,477.2656 Q152,477.2656 152.4844,476.8594 Q152.9688,476.4531 152.9688,475.4531 Q152.9688,474.4531 152.4844,474.0469 Q152,473.6406 150.7969,473.6406 L149.7969,473.6406 Z M147.3438,471.5781 L150.7031,471.5781 Q153.2656,471.5781 154.3906,472.5 Q155.5156,473.4063 155.5156,475.4531 Q155.5156,477.5 154.3906,478.4219 Q153.2656,479.3281 150.7031,479.3281 L149.7969,479.3281 L149.7969,483.9688 L147.3438,483.9688 L147.3438,471.5781 Z \"/><text fill=\"#000000\" font-family=\"sans-serif\" font-size=\"12\" font-style=\"italic\" lengthAdjust=\"spacingAndGlyphs\" textLength=\"40\" x=\"162\" y=\"475.1387\">«part»</text><text fill=\"#000000\" font-family=\"sans-serif\" font-size=\"12\" lengthAdjust=\"spacingAndGlyphs\" textLength=\"14\" x=\"175\" y=\"489.1074\">x1</text><line style=\"stroke: #A80036; stroke-width: 1.5;\" x1=\"136\" x2=\"202\" y1=\"496.9375\" y2=\"496.9375\"/></a><!--MD5=[270fce915f116d4de14055a7c1d9a0f3]\n",
       "class E5--><a href=\"psysml:fe1eabcd-2f5c-4c92-bec8-31bd54db8461\" target=\"_top\" title=\"psysml:fe1eabcd-2f5c-4c92-bec8-31bd54db8461\" xlink:actuate=\"onRequest\" xlink:href=\"psysml:fe1eabcd-2f5c-4c92-bec8-31bd54db8461\" xlink:show=\"new\" xlink:title=\"psysml:fe1eabcd-2f5c-4c92-bec8-31bd54db8461\" xlink:type=\"simple\"><rect fill=\"#FEFECE\" filter=\"url(#f1cs2enn4ctu13)\" height=\"40\" id=\"E5\" style=\"stroke: #A80036; stroke-width: 1.5;\" width=\"40\" x=\"81\" y=\"41\"/><ellipse cx=\"96\" cy=\"57\" fill=\"#008000\" rx=\"11\" ry=\"11\" style=\"stroke: #A80036; stroke-width: 1.0;\"/><path d=\"M94.9063,57.375 L94.9063,61.0469 L96.5313,61.0469 Q97.7031,61.0469 98.1719,60.6563 Q98.6406,60.25 98.6406,59.25 Q98.6406,58.25 98.1406,57.8125 Q97.6563,57.375 96.5313,57.375 L94.9063,57.375 Z M94.9063,52.5469 L94.9063,55.4219 L96.5313,55.4219 Q97.4531,55.4219 97.8438,55.0938 Q98.25,54.75 98.25,54 Q98.25,53.2344 97.8438,52.8906 Q97.4375,52.5469 96.5313,52.5469 L94.9063,52.5469 Z M92.5313,50.5938 L96.5313,50.5938 Q98.5938,50.5938 99.6406,51.375 Q100.6875,52.1563 100.6875,53.7188 Q100.6875,54.9219 100.0625,55.5938 Q99.4531,56.2656 98.2656,56.375 Q99.6875,56.5156 100.4063,57.3281 Q101.125,58.1406 101.125,59.5938 Q101.125,61.3906 100.0469,62.2031 Q98.9688,63 96.5313,63 L92.5313,63 L92.5313,50.5938 Z \"/><text fill=\"#000000\" font-family=\"sans-serif\" font-size=\"12\" lengthAdjust=\"spacingAndGlyphs\" textLength=\"8\" x=\"110\" y=\"61.1543\">P</text><line style=\"stroke: #A80036; stroke-width: 1.5;\" x1=\"82\" x2=\"120\" y1=\"73\" y2=\"73\"/></a><!--MD5=[60a26617385b1d2d0262a64233df1f8d]\n",
       "class E6--><a href=\"psysml:06be23d5-21a7-42eb-83e3-f8e6bdc4a055\" target=\"_top\" title=\"psysml:06be23d5-21a7-42eb-83e3-f8e6bdc4a055\" xlink:actuate=\"onRequest\" xlink:href=\"psysml:06be23d5-21a7-42eb-83e3-f8e6bdc4a055\" xlink:show=\"new\" xlink:title=\"psysml:06be23d5-21a7-42eb-83e3-f8e6bdc4a055\" xlink:type=\"simple\"><rect fill=\"#FEFECE\" filter=\"url(#f1cs2enn4ctu13)\" height=\"45.9375\" id=\"E6\" rx=\"10\" ry=\"10\" style=\"stroke: #A80036; stroke-width: 1.5;\" width=\"68\" x=\"32\" y=\"353\"/><ellipse cx=\"47\" cy=\"371.9688\" fill=\"#32CD32\" rx=\"11\" ry=\"11\" style=\"stroke: #A80036; stroke-width: 1.0;\"/><path d=\"M46.7969,367.6406 L46.7969,371.2656 L47.7969,371.2656 Q49,371.2656 49.4844,370.8594 Q49.9688,370.4531 49.9688,369.4531 Q49.9688,368.4531 49.4844,368.0469 Q49,367.6406 47.7969,367.6406 L46.7969,367.6406 Z M44.3438,365.5781 L47.7031,365.5781 Q50.2656,365.5781 51.3906,366.5 Q52.5156,367.4063 52.5156,369.4531 Q52.5156,371.5 51.3906,372.4219 Q50.2656,373.3281 47.7031,373.3281 L46.7969,373.3281 L46.7969,377.9688 L44.3438,377.9688 L44.3438,365.5781 Z \"/><text fill=\"#000000\" font-family=\"sans-serif\" font-size=\"12\" font-style=\"italic\" lengthAdjust=\"spacingAndGlyphs\" textLength=\"40\" x=\"59\" y=\"369.1387\">«part»</text><text fill=\"#000000\" font-family=\"sans-serif\" font-size=\"12\" lengthAdjust=\"spacingAndGlyphs\" textLength=\"6\" x=\"76\" y=\"383.1074\">y</text><line style=\"stroke: #A80036; stroke-width: 1.5;\" x1=\"33\" x2=\"99\" y1=\"390.9375\" y2=\"390.9375\"/></a><!--MD5=[2156ba9850f5573cc1fc38a6a4b2f02b]\n",
       "class E7--><a href=\"psysml:32e0c838-e55d-456a-ac80-3fd98b88adbf\" target=\"_top\" title=\"psysml:32e0c838-e55d-456a-ac80-3fd98b88adbf\" xlink:actuate=\"onRequest\" xlink:href=\"psysml:32e0c838-e55d-456a-ac80-3fd98b88adbf\" xlink:show=\"new\" xlink:title=\"psysml:32e0c838-e55d-456a-ac80-3fd98b88adbf\" xlink:type=\"simple\"><rect fill=\"#FEFECE\" filter=\"url(#f1cs2enn4ctu13)\" height=\"45.9375\" id=\"E7\" rx=\"10\" ry=\"10\" style=\"stroke: #A80036; stroke-width: 1.5;\" width=\"68\" x=\"102\" y=\"141\"/><ellipse cx=\"117\" cy=\"159.9688\" fill=\"#32CD32\" rx=\"11\" ry=\"11\" style=\"stroke: #A80036; stroke-width: 1.0;\"/><path d=\"M116.7969,155.6406 L116.7969,159.2656 L117.7969,159.2656 Q119,159.2656 119.4844,158.8594 Q119.9688,158.4531 119.9688,157.4531 Q119.9688,156.4531 119.4844,156.0469 Q119,155.6406 117.7969,155.6406 L116.7969,155.6406 Z M114.3438,153.5781 L117.7031,153.5781 Q120.2656,153.5781 121.3906,154.5 Q122.5156,155.4063 122.5156,157.4531 Q122.5156,159.5 121.3906,160.4219 Q120.2656,161.3281 117.7031,161.3281 L116.7969,161.3281 L116.7969,165.9688 L114.3438,165.9688 L114.3438,153.5781 Z \"/><text fill=\"#000000\" font-family=\"sans-serif\" font-size=\"12\" font-style=\"italic\" lengthAdjust=\"spacingAndGlyphs\" textLength=\"40\" x=\"129\" y=\"157.1387\">«part»</text><text fill=\"#000000\" font-family=\"sans-serif\" font-size=\"12\" lengthAdjust=\"spacingAndGlyphs\" textLength=\"16\" x=\"141\" y=\"171.1074\">p1</text><line style=\"stroke: #A80036; stroke-width: 1.5;\" x1=\"103\" x2=\"169\" y1=\"178.9375\" y2=\"178.9375\"/></a><!--MD5=[209b3feb70ccb6233bfe1053d122c12c]\n",
       "reverse link E2 to E3--><a href=\"psysml:96d6ab40-4f8f-4d11-a48f-d95a37d5e194\" target=\"_top\" title=\"psysml:96d6ab40-4f8f-4d11-a48f-d95a37d5e194\" xlink:actuate=\"onRequest\" xlink:href=\"psysml:96d6ab40-4f8f-4d11-a48f-d95a37d5e194\" xlink:show=\"new\" xlink:title=\"psysml:96d6ab40-4f8f-4d11-a48f-d95a37d5e194\" xlink:type=\"simple\"><path d=\"M146.95,305.49 C151.91,321.15 157.64,339.19 162.01,352.98 \" fill=\"none\" id=\"E2&lt;-E3\" style=\"stroke: #A80036; stroke-width: 1.0;\"/><polygon fill=\"#A80036\" points=\"143,293.06,140.9989,299.9879,146.6243,304.4996,148.6253,297.5717,143,293.06\" style=\"stroke: #A80036; stroke-width: 1.0;\"/><text fill=\"#000000\" font-family=\"sans-serif\" font-size=\"13\" lengthAdjust=\"spacingAndGlyphs\" textLength=\"8\" x=\"151.0564\" y=\"341.8709\">1</text></a><!--MD5=[4672eba38e49728da53d11aeb285b987]\n",
       "reverse link E3 to E4--><a href=\"psysml:15b45894-f404-4f26-aaef-cf96b8c0ca99\" target=\"_top\" title=\"psysml:15b45894-f404-4f26-aaef-cf96b8c0ca99\" xlink:actuate=\"onRequest\" xlink:href=\"psysml:15b45894-f404-4f26-aaef-cf96b8c0ca99\" xlink:show=\"new\" xlink:title=\"psysml:15b45894-f404-4f26-aaef-cf96b8c0ca99\" xlink:type=\"simple\"><path d=\"M169,412.44 C169,427.87 169,445.47 169,458.98 \" fill=\"none\" id=\"E3&lt;-E4\" style=\"stroke: #A80036; stroke-width: 1.0;\"/><polygon fill=\"#A80036\" points=\"169,399.06,165,405.06,169,411.06,173,405.06,169,399.06\" style=\"stroke: #A80036; stroke-width: 1.0;\"/><text fill=\"#000000\" font-family=\"sans-serif\" font-size=\"13\" lengthAdjust=\"spacingAndGlyphs\" textLength=\"8\" x=\"159.925\" y=\"447.8709\">1</text></a><!--MD5=[85d356282659285ab4b2cfe2f634dd2b]\n",
       "reverse link E5 to E6--><a href=\"psysml:e9a2dbd2-75b9-45f4-aecc-a2c2183931e9\" target=\"_top\" title=\"psysml:e9a2dbd2-75b9-45f4-aecc-a2c2183931e9\" xlink:actuate=\"onRequest\" xlink:href=\"psysml:e9a2dbd2-75b9-45f4-aecc-a2c2183931e9\" xlink:show=\"new\" xlink:title=\"psysml:e9a2dbd2-75b9-45f4-aecc-a2c2183931e9\" xlink:type=\"simple\"><path d=\"M93.66,93.79 C90.58,108.14 87.21,125.35 85,141 C74.05,218.49 68.84,311.37 66.92,352.97 \" fill=\"none\" id=\"E5&lt;-E6\" style=\"stroke: #A80036; stroke-width: 1.0;\"/><polygon fill=\"#A80036\" points=\"96.48,81.05,91.282,86.0481,93.8964,92.7686,99.0944,87.7705,96.48,81.05\" style=\"stroke: #A80036; stroke-width: 1.0;\"/><text fill=\"#000000\" font-family=\"sans-serif\" font-size=\"13\" lengthAdjust=\"spacingAndGlyphs\" textLength=\"8\" x=\"58.0923\" y=\"341.8582\">1</text></a><!--MD5=[e3e28c1befcf002155aa15e1416b4315]\n",
       "link E2 to E6--><a href=\"psysml:2b37c4a5-3576-4b38-9831-53a66373adf4\" target=\"_top\" title=\"psysml:2b37c4a5-3576-4b38-9831-53a66373adf4\" xlink:actuate=\"onRequest\" xlink:href=\"psysml:2b37c4a5-3576-4b38-9831-53a66373adf4\" xlink:show=\"new\" xlink:title=\"psysml:2b37c4a5-3576-4b38-9831-53a66373adf4\" xlink:type=\"simple\"><path d=\"M121.15,293.06 C109.28,310.7 92.7,335.34 80.82,352.98 \" fill=\"none\" id=\"E2-E6\" style=\"stroke: #A80036; stroke-width: 3.0;\"/><text fill=\"#000000\" font-family=\"sans-serif\" font-size=\"13\" lengthAdjust=\"spacingAndGlyphs\" textLength=\"7\" x=\"76.8622\" y=\"341.8709\">*</text></a><!--MD5=[452b418e7f8a40397a49b8c0a78acc5b]\n",
       "reverse link E5 to E7--><a href=\"psysml:0433d7bc-4d61-42a3-98d7-5077bd02d97e\" target=\"_top\" title=\"psysml:0433d7bc-4d61-42a3-98d7-5077bd02d97e\" xlink:actuate=\"onRequest\" xlink:href=\"psysml:0433d7bc-4d61-42a3-98d7-5077bd02d97e\" xlink:show=\"new\" xlink:title=\"psysml:0433d7bc-4d61-42a3-98d7-5077bd02d97e\" xlink:type=\"simple\"><path d=\"M112.09,94.01 C117.37,109.23 123.54,127.06 128.3,140.77 \" fill=\"none\" id=\"E5&lt;-E7\" style=\"stroke: #A80036; stroke-width: 1.0;\"/><polygon fill=\"#A80036\" points=\"107.75,81.47,105.9375,88.4496,111.683,92.8072,113.4956,85.8276,107.75,81.47\" style=\"stroke: #A80036; stroke-width: 1.0;\"/><text fill=\"#000000\" font-family=\"sans-serif\" font-size=\"13\" lengthAdjust=\"spacingAndGlyphs\" textLength=\"8\" x=\"117.3019\" y=\"129.9874\">1</text></a><!--MD5=[583832df87f4419a098336a29a52fa00]\n",
       "link E7 to E2--><a href=\"psysml:d6550333-67eb-4da5-a08d-e8c2ba9c3c42\" target=\"_top\" title=\"psysml:d6550333-67eb-4da5-a08d-e8c2ba9c3c42\" xlink:actuate=\"onRequest\" xlink:href=\"psysml:d6550333-67eb-4da5-a08d-e8c2ba9c3c42\" xlink:show=\"new\" xlink:title=\"psysml:d6550333-67eb-4da5-a08d-e8c2ba9c3c42\" xlink:type=\"simple\"><path d=\"M136,187.06 C136,198.64 136,213.23 136,226.87 \" fill=\"none\" id=\"E7-&gt;E2\" style=\"stroke: #A80036; stroke-width: 1.0;\"/><polygon fill=\"none\" points=\"143,226.98,136,246.98,129,226.98,143,226.98\" style=\"stroke: #A80036; stroke-width: 1.0;\"/></a><!--MD5=[868935fe01071dcfc890c09b4aae933c]\n",
       "@startuml\r\n",
       " \r\n",
       "package \"ConnectionTest\" as E1  [[psysml:316d1b7b-e6b7-4d49-a637-31383ba5712a ]]  {\r\n",
       "comp usage \"p\" as E2 << << (P,limegreen) part>> [[psysml:c01c1eb8-4402-477c-affb-a3d93aa1c07f ]] {\r\n",
       "}\r\n",
       "comp usage \"x\" as E3 << << (P,limegreen) part>> [[psysml:83a66275-79f9-4d22-aa8c-e03faa30289f ]] {\r\n",
       "}\r\n",
       "comp usage \"x1\" as E4 << << (P,limegreen) part>> [[psysml:aa5ac9d5-4dfe-418e-90b4-d1e9d9002b4c ]] {\r\n",
       "}\r\n",
       "comp def \"P\" as E5 << << (B,green) >> [[psysml:fe1eabcd-2f5c-4c92-bec8-31bd54db8461 ]] {\r\n",
       "}\r\n",
       "comp usage \"y\" as E6 << << (P,limegreen) part>> [[psysml:06be23d5-21a7-42eb-83e3-f8e6bdc4a055 ]] {\r\n",
       "}\r\n",
       "comp usage \"p1\" as E7 << << (P,limegreen) part>> [[psysml:32e0c838-e55d-456a-ac80-3fd98b88adbf ]] {\r\n",
       "}\r\n",
       "E2 *- - \"1\"E3 [[psysml:96d6ab40-4f8f-4d11-a48f-d95a37d5e194 ]] \r\n",
       "E3 *- - \"1\"E4 [[psysml:15b45894-f404-4f26-aaef-cf96b8c0ca99 ]] \r\n",
       "E5 *- - \"1\"E6 [[psysml:e9a2dbd2-75b9-45f4-aecc-a2c2183931e9 ]] \r\n",
       "E2 -[thickness=3]- \"*\"E6 [[psysml:2b37c4a5-3576-4b38-9831-53a66373adf4 ]] \r\n",
       "E5 *- - \"1\"E7 [[psysml:0433d7bc-4d61-42a3-98d7-5077bd02d97e ]] \r\n",
       "E7 - -|> E2 [[psysml:d6550333-67eb-4da5-a08d-e8c2ba9c3c42 ]] \r\n",
       "}\r\n",
       "@enduml\r\n",
       "\n",
       "PlantUML version 1.2020.13(Sat Jun 13 12:26:38 UTC 2020)\n",
       "(EPL source distribution)\n",
       "Java Runtime: OpenJDK Runtime Environment\n",
       "JVM: OpenJDK 64-Bit Server VM\n",
       "Default Encoding: UTF-8\n",
       "Language: en\n",
       "Country: null\n",
       "--></g></svg>"
      ]
     },
     "execution_count": 31,
     "metadata": {},
     "output_type": "execute_result"
    }
   ],
   "source": [
    "%viz --style=\"PLANTUML\" --view=\"Tree\" \"ConnectionTest\""
   ]
  },
  {
   "cell_type": "code",
   "execution_count": 32,
   "id": "c75e9ea1",
   "metadata": {
    "execution": {
     "iopub.execute_input": "2021-08-04T06:28:53.667513Z",
     "iopub.status.busy": "2021-08-04T06:28:53.667112Z",
     "iopub.status.idle": "2021-08-04T06:28:53.734109Z",
     "shell.execute_reply": "2021-08-04T06:28:53.732820Z"
    }
   },
   "outputs": [
    {
     "data": {
      "image/svg+xml": [
       "<?xml version=\"1.0\" encoding=\"UTF-8\" standalone=\"no\"?><svg xmlns=\"http://www.w3.org/2000/svg\" xmlns:xlink=\"http://www.w3.org/1999/xlink\" contentScriptType=\"application/ecmascript\" contentStyleType=\"text/css\" height=\"303px\" preserveAspectRatio=\"none\" style=\"width:603px;height:303px;background:#000000;\" version=\"1.1\" viewBox=\"0 0 603 303\" width=\"603px\" zoomAndPan=\"magnify\"><defs/><g><rect fill=\"#0F2707\" height=\"1\" style=\"stroke: #0F2707; stroke-width: 1.0;\" width=\"1\" x=\"0\" y=\"0\"/><rect fill=\"#FFFFFF\" height=\"205.5625\" style=\"stroke: #FFFFFF; stroke-width: 1.0;\" width=\"602\" x=\"0\" y=\"0\"/><text fill=\"#000000\" font-family=\"sans-serif\" font-size=\"12\" font-weight=\"bold\" lengthAdjust=\"spacingAndGlyphs\" textLength=\"159\" x=\"5\" y=\"16.1387\">Welcome to PlantUML!</text><text fill=\"#000000\" font-family=\"sans-serif\" font-size=\"12\" lengthAdjust=\"spacingAndGlyphs\" textLength=\"0\" x=\"9\" y=\"30.1074\"/><text fill=\"#000000\" font-family=\"sans-serif\" font-size=\"12\" lengthAdjust=\"spacingAndGlyphs\" textLength=\"293\" x=\"5\" y=\"44.0762\">If you use this software, you accept its license.</text><text fill=\"#000000\" font-family=\"sans-serif\" font-size=\"12\" lengthAdjust=\"spacingAndGlyphs\" textLength=\"107\" x=\"5\" y=\"58.0449\">(details by typing</text><text fill=\"#000000\" font-family=\"monospace\" font-size=\"12\" lengthAdjust=\"spacingAndGlyphs\" textLength=\"49\" x=\"116\" y=\"58.0449\">license</text><text fill=\"#000000\" font-family=\"sans-serif\" font-size=\"12\" lengthAdjust=\"spacingAndGlyphs\" textLength=\"56\" x=\"169\" y=\"58.0449\">keyword)</text><text fill=\"#000000\" font-family=\"sans-serif\" font-size=\"12\" lengthAdjust=\"spacingAndGlyphs\" textLength=\"0\" x=\"9\" y=\"72.0137\"/><text fill=\"#000000\" font-family=\"sans-serif\" font-size=\"12\" lengthAdjust=\"spacingAndGlyphs\" textLength=\"283\" x=\"5\" y=\"85.9824\">You can start with a simple UML Diagram like:</text><text fill=\"#000000\" font-family=\"sans-serif\" font-size=\"12\" lengthAdjust=\"spacingAndGlyphs\" textLength=\"0\" x=\"9\" y=\"99.9512\"/><text fill=\"#000000\" font-family=\"monospace\" font-size=\"12\" lengthAdjust=\"spacingAndGlyphs\" textLength=\"119\" x=\"5\" y=\"113.9199\">Bob-&gt;Alice: Hello</text><text fill=\"#000000\" font-family=\"sans-serif\" font-size=\"12\" lengthAdjust=\"spacingAndGlyphs\" textLength=\"0\" x=\"9\" y=\"127.8887\"/><text fill=\"#000000\" font-family=\"sans-serif\" font-size=\"12\" lengthAdjust=\"spacingAndGlyphs\" textLength=\"14\" x=\"5\" y=\"141.8574\">Or</text><text fill=\"#000000\" font-family=\"sans-serif\" font-size=\"12\" lengthAdjust=\"spacingAndGlyphs\" textLength=\"0\" x=\"9\" y=\"155.8262\"/><text fill=\"#000000\" font-family=\"monospace\" font-size=\"12\" lengthAdjust=\"spacingAndGlyphs\" textLength=\"91\" x=\"5\" y=\"169.7949\">class Example</text><text fill=\"#000000\" font-family=\"sans-serif\" font-size=\"12\" lengthAdjust=\"spacingAndGlyphs\" textLength=\"0\" x=\"9\" y=\"183.7637\"/><text fill=\"#000000\" font-family=\"sans-serif\" font-size=\"12\" lengthAdjust=\"spacingAndGlyphs\" textLength=\"349\" x=\"5\" y=\"197.7324\">You will find more information about PlantUML syntax on</text><text fill=\"#000000\" font-family=\"sans-serif\" font-size=\"12\" lengthAdjust=\"spacingAndGlyphs\" text-decoration=\"underline\" textLength=\"129\" x=\"358\" y=\"197.7324\">https://plantuml.com</text><image height=\"71\" width=\"80\" x=\"516\" xlink:href=\"data:image/png;base64,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\" y=\"6\"/><rect fill=\"#000000\" height=\"96.4844\" style=\"stroke: #000000; stroke-width: 1.0;\" width=\"602\" x=\"0\" y=\"205.5625\"/><rect fill=\"#33FF02\" height=\"21.2969\" style=\"stroke: #33FF02; stroke-width: 1.0;\" width=\"170\" x=\"5\" y=\"210.5625\"/><text fill=\"#000000\" font-family=\"sans-serif\" font-size=\"14\" font-weight=\"bold\" lengthAdjust=\"spacingAndGlyphs\" textLength=\"168\" x=\"6\" y=\"225.5625\">[From string (line 2) ]</text><text fill=\"#33FF02\" font-family=\"sans-serif\" font-size=\"14\" font-weight=\"bold\" lengthAdjust=\"spacingAndGlyphs\" textLength=\"0\" x=\"10\" y=\"245.8594\"/><text fill=\"#33FF02\" font-family=\"sans-serif\" font-size=\"14\" font-weight=\"bold\" lengthAdjust=\"spacingAndGlyphs\" textLength=\"79\" x=\"5\" y=\"262.1563\">@startuml</text><text fill=\"#33FF02\" font-family=\"sans-serif\" font-size=\"14\" font-weight=\"bold\" lengthAdjust=\"spacingAndGlyphs\" textLength=\"0\" x=\"10\" y=\"278.4531\"/><text fill=\"#FF0000\" font-family=\"sans-serif\" font-size=\"14\" font-weight=\"bold\" lengthAdjust=\"spacingAndGlyphs\" textLength=\"142\" x=\"10\" y=\"294.75\">Empty description</text><!--MD5=[f59edd8218d337f74d0c332fc6737304]\n",
       "@startuml\r\n",
       " \r\n",
       "@enduml\r\n",
       "\n",
       "PlantUML version 1.2020.13(Sat Jun 13 12:26:38 UTC 2020)\n",
       "(EPL source distribution)\n",
       "Java Runtime: OpenJDK Runtime Environment\n",
       "JVM: OpenJDK 64-Bit Server VM\n",
       "Default Encoding: UTF-8\n",
       "Language: en\n",
       "Country: null\n",
       "--></g></svg>"
      ]
     },
     "execution_count": 32,
     "metadata": {},
     "output_type": "execute_result"
    }
   ],
   "source": [
    "%viz --style=\"PLANTUML\" --view=\"State\" \"ConnectionTest\""
   ]
  },
  {
   "cell_type": "code",
   "execution_count": 33,
   "id": "181d0e27",
   "metadata": {
    "execution": {
     "iopub.execute_input": "2021-08-04T06:28:53.783359Z",
     "iopub.status.busy": "2021-08-04T06:28:53.782901Z",
     "iopub.status.idle": "2021-08-04T06:28:53.805881Z",
     "shell.execute_reply": "2021-08-04T06:28:53.804793Z"
    }
   },
   "outputs": [
    {
     "data": {
      "image/svg+xml": [
       "<?xml version=\"1.0\" encoding=\"UTF-8\" standalone=\"no\"?><svg xmlns=\"http://www.w3.org/2000/svg\" xmlns:xlink=\"http://www.w3.org/1999/xlink\" contentScriptType=\"application/ecmascript\" contentStyleType=\"text/css\" height=\"390px\" preserveAspectRatio=\"none\" style=\"width:513px;height:390px;\" version=\"1.1\" viewBox=\"0 0 513 390\" width=\"513px\" zoomAndPan=\"magnify\"><defs><filter height=\"300%\" id=\"f149sm9fqrbvmb\" width=\"300%\" x=\"-1\" y=\"-1\"><feGaussianBlur result=\"blurOut\" stdDeviation=\"2.0\"/><feColorMatrix in=\"blurOut\" result=\"blurOut2\" type=\"matrix\" values=\"0 0 0 0 0 0 0 0 0 0 0 0 0 0 0 0 0 0 .4 0\"/><feOffset dx=\"4.0\" dy=\"4.0\" in=\"blurOut2\" result=\"blurOut3\"/><feBlend in=\"SourceGraphic\" in2=\"blurOut3\" mode=\"normal\"/></filter></defs><g><!--MD5=[fbc87193dbaf4d95561dea2c320d4a47]\n",
       "cluster E1--><a href=\"psysml:316d1b7b-e6b7-4d49-a637-31383ba5712a\" target=\"_top\" title=\"psysml:316d1b7b-e6b7-4d49-a637-31383ba5712a\" xlink:actuate=\"onRequest\" xlink:href=\"psysml:316d1b7b-e6b7-4d49-a637-31383ba5712a\" xlink:show=\"new\" xlink:title=\"psysml:316d1b7b-e6b7-4d49-a637-31383ba5712a\" xlink:type=\"simple\"><polygon fill=\"#FFFFFF\" filter=\"url(#f149sm9fqrbvmb)\" points=\"16,6,147,6,154,28.2969,491,28.2969,491,378,16,378,16,6\" style=\"stroke: #000000; stroke-width: 1.5;\"/><line style=\"stroke: #000000; stroke-width: 1.5;\" x1=\"16\" x2=\"154\" y1=\"28.2969\" y2=\"28.2969\"/><text fill=\"#000000\" font-family=\"sans-serif\" font-size=\"14\" font-weight=\"bold\" lengthAdjust=\"spacingAndGlyphs\" textLength=\"125\" x=\"20\" y=\"20.9951\">ConnectionTest</text></a><!--MD5=[e4f7fae6ed58524ba242bb0b0d3be6b7]\n",
       "cluster E2--><a href=\"psysml:c01c1eb8-4402-477c-affb-a3d93aa1c07f\" target=\"_top\" title=\"psysml:c01c1eb8-4402-477c-affb-a3d93aa1c07f\" xlink:actuate=\"onRequest\" xlink:href=\"psysml:c01c1eb8-4402-477c-affb-a3d93aa1c07f\" xlink:show=\"new\" xlink:title=\"psysml:c01c1eb8-4402-477c-affb-a3d93aa1c07f\" xlink:type=\"simple\"><rect fill=\"#FFFFFF\" filter=\"url(#f149sm9fqrbvmb)\" height=\"174\" id=\"E2\" rx=\"10\" ry=\"10\" style=\"stroke: #A80036; stroke-width: 1.5;\" width=\"156\" x=\"303\" y=\"100\"/><rect fill=\"#FEFECE\" height=\"23.9688\" rx=\"10\" ry=\"10\" style=\"stroke: #FEFECE; stroke-width: 1.5;\" width=\"156\" x=\"303\" y=\"100\"/><rect fill=\"#FEFECE\" height=\"10\" style=\"stroke: #FEFECE; stroke-width: 1.5;\" width=\"156\" x=\"303\" y=\"113.9688\"/><rect fill=\"none\" height=\"174\" id=\"E2\" rx=\"10\" ry=\"10\" style=\"stroke: #A80036; stroke-width: 1.5;\" width=\"156\" x=\"303\" y=\"100\"/><text fill=\"#000000\" font-family=\"sans-serif\" font-size=\"12\" lengthAdjust=\"spacingAndGlyphs\" textLength=\"8\" x=\"377\" y=\"116.1387\">p</text><line style=\"stroke: #A80036; stroke-width: 1.0;\" x1=\"303\" x2=\"459\" y1=\"123.9688\" y2=\"123.9688\"/></a><!--MD5=[d5e69f78d87373223dbae638b30a9c99]\n",
       "cluster E3--><a href=\"psysml:83a66275-79f9-4d22-aa8c-e03faa30289f\" target=\"_top\" title=\"psysml:83a66275-79f9-4d22-aa8c-e03faa30289f\" xlink:actuate=\"onRequest\" xlink:href=\"psysml:83a66275-79f9-4d22-aa8c-e03faa30289f\" xlink:show=\"new\" xlink:title=\"psysml:83a66275-79f9-4d22-aa8c-e03faa30289f\" xlink:type=\"simple\"><rect fill=\"#FFFFFF\" filter=\"url(#f149sm9fqrbvmb)\" height=\"91\" id=\"E3\" rx=\"10\" ry=\"10\" style=\"stroke: #A80036; stroke-width: 1.5;\" width=\"84\" x=\"343\" y=\"151\"/><rect fill=\"#FEFECE\" height=\"23.9688\" rx=\"10\" ry=\"10\" style=\"stroke: #FEFECE; stroke-width: 1.5;\" width=\"84\" x=\"343\" y=\"151\"/><rect fill=\"#FEFECE\" height=\"10\" style=\"stroke: #FEFECE; stroke-width: 1.5;\" width=\"84\" x=\"343\" y=\"164.9688\"/><rect fill=\"none\" height=\"91\" id=\"E3\" rx=\"10\" ry=\"10\" style=\"stroke: #A80036; stroke-width: 1.5;\" width=\"84\" x=\"343\" y=\"151\"/><text fill=\"#000000\" font-family=\"sans-serif\" font-size=\"12\" lengthAdjust=\"spacingAndGlyphs\" textLength=\"6\" x=\"382\" y=\"167.1387\">x</text><line style=\"stroke: #A80036; stroke-width: 1.0;\" x1=\"343\" x2=\"427\" y1=\"174.9688\" y2=\"174.9688\"/></a><!--MD5=[de5ec2e2e8f62f467e546659f5068c88]\n",
       "cluster E5--><a href=\"psysml:fe1eabcd-2f5c-4c92-bec8-31bd54db8461\" target=\"_top\" title=\"psysml:fe1eabcd-2f5c-4c92-bec8-31bd54db8461\" xlink:actuate=\"onRequest\" xlink:href=\"psysml:fe1eabcd-2f5c-4c92-bec8-31bd54db8461\" xlink:show=\"new\" xlink:title=\"psysml:fe1eabcd-2f5c-4c92-bec8-31bd54db8461\" xlink:type=\"simple\"><rect fill=\"#FFFFFF\" filter=\"url(#f149sm9fqrbvmb)\" height=\"305\" id=\"E5\" style=\"stroke: #A80036; stroke-width: 1.5;\" width=\"231\" x=\"40\" y=\"49\"/><rect fill=\"#FEFECE\" height=\"23.9688\" style=\"stroke: #A80036; stroke-width: 1.5;\" width=\"231\" x=\"40\" y=\"49\"/><text fill=\"#000000\" font-family=\"sans-serif\" font-size=\"12\" lengthAdjust=\"spacingAndGlyphs\" textLength=\"8\" x=\"151.5\" y=\"65.1387\">P</text></a><!--MD5=[168fadf3d0c3fd93dd5d6da1b1d7ab76]\n",
       "cluster E7--><a href=\"psysml:32e0c838-e55d-456a-ac80-3fd98b88adbf\" target=\"_top\" title=\"psysml:32e0c838-e55d-456a-ac80-3fd98b88adbf\" xlink:actuate=\"onRequest\" xlink:href=\"psysml:32e0c838-e55d-456a-ac80-3fd98b88adbf\" xlink:show=\"new\" xlink:title=\"psysml:32e0c838-e55d-456a-ac80-3fd98b88adbf\" xlink:type=\"simple\"><rect fill=\"#FFFFFF\" filter=\"url(#f149sm9fqrbvmb)\" height=\"190\" id=\"E7\" rx=\"10\" ry=\"10\" style=\"stroke: #A80036; stroke-width: 1.5;\" width=\"183\" x=\"64\" y=\"92\"/><rect fill=\"#FEFECE\" height=\"23.9688\" rx=\"10\" ry=\"10\" style=\"stroke: #FEFECE; stroke-width: 1.5;\" width=\"183\" x=\"64\" y=\"92\"/><rect fill=\"#FEFECE\" height=\"10\" style=\"stroke: #FEFECE; stroke-width: 1.5;\" width=\"183\" x=\"64\" y=\"105.9688\"/><rect fill=\"none\" height=\"190\" id=\"E7\" rx=\"10\" ry=\"10\" style=\"stroke: #A80036; stroke-width: 1.5;\" width=\"183\" x=\"64\" y=\"92\"/><text fill=\"#000000\" font-family=\"sans-serif\" font-size=\"12\" lengthAdjust=\"spacingAndGlyphs\" textLength=\"16\" x=\"147.5\" y=\"108.1387\">p1</text><line style=\"stroke: #A80036; stroke-width: 1.0;\" x1=\"64\" x2=\"247\" y1=\"115.9688\" y2=\"115.9688\"/></a><!--MD5=[55dfccfc6c49c2d10cd1bd2211a6c90c]\n",
       "cluster E8--><a href=\"psysml:83a66275-79f9-4d22-aa8c-e03faa30289f\" target=\"_top\" title=\"psysml:83a66275-79f9-4d22-aa8c-e03faa30289f\" xlink:actuate=\"onRequest\" xlink:href=\"psysml:83a66275-79f9-4d22-aa8c-e03faa30289f\" xlink:show=\"new\" xlink:title=\"psysml:83a66275-79f9-4d22-aa8c-e03faa30289f\" xlink:type=\"simple\"><rect fill=\"#FFFFFF\" filter=\"url(#f149sm9fqrbvmb)\" height=\"107\" id=\"E8\" rx=\"10\" ry=\"10\" style=\"stroke: #A80036; stroke-width: 1.5;\" width=\"119\" x=\"96\" y=\"143\"/><rect fill=\"#FEFECE\" height=\"23.9688\" rx=\"10\" ry=\"10\" style=\"stroke: #FEFECE; stroke-width: 1.5;\" width=\"119\" x=\"96\" y=\"143\"/><rect fill=\"#FEFECE\" height=\"10\" style=\"stroke: #FEFECE; stroke-width: 1.5;\" width=\"119\" x=\"96\" y=\"156.9688\"/><rect fill=\"none\" height=\"107\" id=\"E8\" rx=\"10\" ry=\"10\" style=\"stroke: #A80036; stroke-width: 1.5;\" width=\"119\" x=\"96\" y=\"143\"/><text fill=\"#000000\" font-family=\"sans-serif\" font-size=\"12\" lengthAdjust=\"spacingAndGlyphs\" textLength=\"16\" x=\"147.5\" y=\"159.1387\">^x</text><line style=\"stroke: #A80036; stroke-width: 1.0;\" x1=\"96\" x2=\"215\" y1=\"166.9688\" y2=\"166.9688\"/></a><g id=\"E1.E2.E3.E4\"><a href=\"psysml:aa5ac9d5-4dfe-418e-90b4-d1e9d9002b4c\" target=\"_top\" title=\"psysml:aa5ac9d5-4dfe-418e-90b4-d1e9d9002b4c\" xlink:actuate=\"onRequest\" xlink:href=\"psysml:aa5ac9d5-4dfe-418e-90b4-d1e9d9002b4c\" xlink:show=\"new\" xlink:title=\"psysml:aa5ac9d5-4dfe-418e-90b4-d1e9d9002b4c\" xlink:type=\"simple\"><rect fill=\"#FEFECE\" filter=\"url(#f149sm9fqrbvmb)\" height=\"40\" id=\"E4\" rx=\"10\" ry=\"10\" style=\"stroke: #A80036; stroke-width: 1.5;\" width=\"51\" x=\"359.5\" y=\"186\"/><ellipse cx=\"376.75\" cy=\"202\" fill=\"#B6DBBB\" rx=\"11\" ry=\"11\" style=\"stroke: #A80036; stroke-width: 1.0;\"/><path d=\"M372.625,203.9219 L372.625,196.1094 L375.0781,196.1094 L375.0781,204.5469 Q375.0781,205.4688 375.5469,206 Q376.0313,206.5313 376.8594,206.5313 Q377.7031,206.5313 378.1719,206 Q378.6406,205.4688 378.6406,204.5469 L378.6406,196.1094 L381.0938,196.1094 L381.0938,203.9219 Q381.0938,206.4531 380.0938,207.5938 Q379.0938,208.7344 376.8594,208.7344 Q374.6406,208.7344 373.625,207.5938 Q372.625,206.4531 372.625,203.9219 Z \"/><text fill=\"#000000\" font-family=\"sans-serif\" font-size=\"12\" lengthAdjust=\"spacingAndGlyphs\" textLength=\"14\" x=\"391.25\" y=\"206.1543\">x1</text></a></g><g id=\"E1.E5.E6\"><a href=\"psysml:06be23d5-21a7-42eb-83e3-f8e6bdc4a055\" target=\"_top\" title=\"psysml:06be23d5-21a7-42eb-83e3-f8e6bdc4a055\" xlink:actuate=\"onRequest\" xlink:href=\"psysml:06be23d5-21a7-42eb-83e3-f8e6bdc4a055\" xlink:show=\"new\" xlink:title=\"psysml:06be23d5-21a7-42eb-83e3-f8e6bdc4a055\" xlink:type=\"simple\"><rect fill=\"#FEFECE\" filter=\"url(#f149sm9fqrbvmb)\" height=\"40\" id=\"E6\" rx=\"10\" ry=\"10\" style=\"stroke: #A80036; stroke-width: 1.5;\" width=\"50\" x=\"140\" y=\"298\"/><ellipse cx=\"160.4\" cy=\"314\" fill=\"#B6DBBB\" rx=\"11\" ry=\"11\" style=\"stroke: #A80036; stroke-width: 1.0;\"/><path d=\"M156.275,315.9219 L156.275,308.1094 L158.7281,308.1094 L158.7281,316.5469 Q158.7281,317.4688 159.1969,318 Q159.6813,318.5313 160.5094,318.5313 Q161.3531,318.5313 161.8219,318 Q162.2906,317.4688 162.2906,316.5469 L162.2906,308.1094 L164.7438,308.1094 L164.7438,315.9219 Q164.7438,318.4531 163.7438,319.5938 Q162.7438,320.7344 160.5094,320.7344 Q158.2906,320.7344 157.275,319.5938 Q156.275,318.4531 156.275,315.9219 Z \"/><text fill=\"#000000\" font-family=\"sans-serif\" font-size=\"12\" lengthAdjust=\"spacingAndGlyphs\" textLength=\"6\" x=\"175.6\" y=\"318.1543\">y</text></a></g><g id=\"E1.E5.E7.E8.E9\"><a href=\"psysml:aa5ac9d5-4dfe-418e-90b4-d1e9d9002b4c\" target=\"_top\" title=\"psysml:aa5ac9d5-4dfe-418e-90b4-d1e9d9002b4c\" xlink:actuate=\"onRequest\" xlink:href=\"psysml:aa5ac9d5-4dfe-418e-90b4-d1e9d9002b4c\" xlink:show=\"new\" xlink:title=\"psysml:aa5ac9d5-4dfe-418e-90b4-d1e9d9002b4c\" xlink:type=\"simple\"><rect fill=\"#FEFECE\" filter=\"url(#f149sm9fqrbvmb)\" height=\"40\" id=\"E9\" rx=\"10\" ry=\"10\" style=\"stroke: #A80036; stroke-width: 1.5;\" width=\"51\" x=\"139.5\" y=\"186\"/><ellipse cx=\"156.75\" cy=\"202\" fill=\"#B6DBBB\" rx=\"11\" ry=\"11\" style=\"stroke: #A80036; stroke-width: 1.0;\"/><path d=\"M152.625,203.9219 L152.625,196.1094 L155.0781,196.1094 L155.0781,204.5469 Q155.0781,205.4688 155.5469,206 Q156.0313,206.5313 156.8594,206.5313 Q157.7031,206.5313 158.1719,206 Q158.6406,205.4688 158.6406,204.5469 L158.6406,196.1094 L161.0938,196.1094 L161.0938,203.9219 Q161.0938,206.4531 160.0938,207.5938 Q159.0938,208.7344 156.8594,208.7344 Q154.6406,208.7344 153.625,207.5938 Q152.625,206.4531 152.625,203.9219 Z \"/><text fill=\"#000000\" font-family=\"sans-serif\" font-size=\"12\" lengthAdjust=\"spacingAndGlyphs\" textLength=\"14\" x=\"171.25\" y=\"206.1543\">x1</text></a></g><!--MD5=[e3e28c1befcf002155aa15e1416b4315]\n",
       "link E2 to E6--><a href=\"psysml:2b37c4a5-3576-4b38-9831-53a66373adf4\" target=\"_top\" title=\"psysml:2b37c4a5-3576-4b38-9831-53a66373adf4\" xlink:actuate=\"onRequest\" xlink:href=\"psysml:2b37c4a5-3576-4b38-9831-53a66373adf4\" xlink:show=\"new\" xlink:title=\"psysml:2b37c4a5-3576-4b38-9831-53a66373adf4\" xlink:type=\"simple\"><path d=\"M302.7765,214.0432 C302.6913,214.1156 302.6055,214.1885 302.5192,214.2619 C302.3465,214.4087 302.1714,214.5573 301.994,214.7079 C301.2846,215.3104 300.538,215.9433 299.7562,216.605 C293.5019,221.8988 284.99,229.035 275.1275,237.125 C255.4025,253.305 230.275,273.3 207,290 C201.65,293.84 195.77,297.78 190.15,301.42 \" fill=\"none\" id=\"E2-E6\" style=\"stroke: #A80036; stroke-width: 3.0;\"/><text fill=\"#000000\" font-family=\"sans-serif\" font-size=\"13\" lengthAdjust=\"spacingAndGlyphs\" textLength=\"7\" x=\"197.8497\" y=\"292.0332\">*</text></a><!--MD5=[c5e8897d989ce984f93528998a7150fe]\n",
       "link E8 to E6--><a href=\"psysml:55b22e92-f05f-458a-a067-1c48392866cc\" target=\"_top\" title=\"psysml:55b22e92-f05f-458a-a067-1c48392866cc\" xlink:actuate=\"onRequest\" xlink:href=\"psysml:55b22e92-f05f-458a-a067-1c48392866cc\" xlink:show=\"new\" xlink:title=\"psysml:55b22e92-f05f-458a-a067-1c48392866cc\" xlink:type=\"simple\"><path d=\"M107.4375,250.1691 C107.4648,250.3072 107.4923,250.4454 107.5201,250.5836 C107.5755,250.8602 107.6318,251.1371 107.6889,251.4143 C108.6028,255.8495 109.7307,260.3652 111.1211,264.8316 C113.9019,273.7644 117.7325,282.5 123,290 C127.28,296.1 133.43,301.15 139.7,305.16 \" fill=\"none\" id=\"E8-E6\" style=\"stroke: #A80036; stroke-width: 3.0;\"/><text fill=\"#000000\" font-family=\"sans-serif\" font-size=\"13\" lengthAdjust=\"spacingAndGlyphs\" textLength=\"7\" x=\"124.96\" y=\"296.7784\">*</text></a><!--MD5=[60ac2c0cde89d4308155b0484e57a8ec]\n",
       "link E9 to E6--><a href=\"psysml:f5fd66b3-5ce3-4ce3-99f1-5aad5efc9456\" target=\"_top\" title=\"psysml:f5fd66b3-5ce3-4ce3-99f1-5aad5efc9456\" xlink:actuate=\"onRequest\" xlink:href=\"psysml:f5fd66b3-5ce3-4ce3-99f1-5aad5efc9456\" xlink:show=\"new\" xlink:title=\"psysml:f5fd66b3-5ce3-4ce3-99f1-5aad5efc9456\" xlink:type=\"simple\"><path d=\"M165,226.16 C165,246.23 165,277.57 165,297.69 \" fill=\"none\" id=\"E9-E6\" style=\"stroke: #A80036; stroke-width: 3.0;\"/><text fill=\"#000000\" font-family=\"sans-serif\" font-size=\"13\" lengthAdjust=\"spacingAndGlyphs\" textLength=\"7\" x=\"157.0156\" y=\"286.954\">*</text></a><!--MD5=[9be991650fd092436ba3eff9a6a8b026]\n",
       "@startuml\r\n",
       "skinparam ranksep 10\r\n",
       "skinparam rectangle {\r\n",
       " backgroundColor<<block>> LightGreen\r\n",
       "}\r\n",
       " \r\n",
       "package \"ConnectionTest\" as E1  [[psysml:316d1b7b-e6b7-4d49-a637-31383ba5712a ]]  {\r\n",
       "rec usage \"p\" as E2  [[psysml:c01c1eb8-4402-477c-affb-a3d93aa1c07f ]] {\r\n",
       "rec usage \"x\" as E3  [[psysml:83a66275-79f9-4d22-aa8c-e03faa30289f ]] {\r\n",
       "rec usage \"x1\" as E4  [[psysml:aa5ac9d5-4dfe-418e-90b4-d1e9d9002b4c ]] {\r\n",
       "}\r\n",
       "}\r\n",
       "}\r\n",
       "rec def \"P\" as E5 << << (B,green) >> [[psysml:fe1eabcd-2f5c-4c92-bec8-31bd54db8461 ]] {\r\n",
       "rec usage \"y\" as E6  [[psysml:06be23d5-21a7-42eb-83e3-f8e6bdc4a055 ]] {\r\n",
       "}\r\n",
       "rec usage \"p1\" as E7  [[psysml:32e0c838-e55d-456a-ac80-3fd98b88adbf ]] {\r\n",
       "rec usage \"^x\" as E8  [[psysml:83a66275-79f9-4d22-aa8c-e03faa30289f ]] {\r\n",
       "rec usage \"x1\" as E9  [[psysml:aa5ac9d5-4dfe-418e-90b4-d1e9d9002b4c ]] {\r\n",
       "}\r\n",
       "}\r\n",
       "}\r\n",
       "}\r\n",
       "E2 -[thickness=3]- \"*\"E6 [[psysml:2b37c4a5-3576-4b38-9831-53a66373adf4 ]] \r\n",
       "E8 -[thickness=3]- \"*\"E6 [[psysml:55b22e92-f05f-458a-a067-1c48392866cc ]] \r\n",
       "E9 -[thickness=3]- \"*\"E6 [[psysml:f5fd66b3-5ce3-4ce3-99f1-5aad5efc9456 ]] \r\n",
       "}\r\n",
       "@enduml\r\n",
       "\n",
       "PlantUML version 1.2020.13(Sat Jun 13 12:26:38 UTC 2020)\n",
       "(EPL source distribution)\n",
       "Java Runtime: OpenJDK Runtime Environment\n",
       "JVM: OpenJDK 64-Bit Server VM\n",
       "Default Encoding: UTF-8\n",
       "Language: en\n",
       "Country: null\n",
       "--></g></svg>"
      ]
     },
     "execution_count": 33,
     "metadata": {},
     "output_type": "execute_result"
    }
   ],
   "source": [
    "%viz --style=\"PLANTUML\" --view=\"Interconnection\" \"ConnectionTest\""
   ]
  },
  {
   "cell_type": "code",
   "execution_count": 34,
   "id": "ce3516de",
   "metadata": {
    "execution": {
     "iopub.execute_input": "2021-08-04T06:28:53.855408Z",
     "iopub.status.busy": "2021-08-04T06:28:53.855051Z",
     "iopub.status.idle": "2021-08-04T06:28:53.858042Z",
     "shell.execute_reply": "2021-08-04T06:28:53.858298Z"
    }
   },
   "outputs": [
    {
     "data": {
      "image/svg+xml": [
       "<?xml version=\"1.0\" encoding=\"UTF-8\" standalone=\"no\"?><svg xmlns=\"http://www.w3.org/2000/svg\" xmlns:xlink=\"http://www.w3.org/1999/xlink\" contentScriptType=\"application/ecmascript\" contentStyleType=\"text/css\" height=\"12px\" preserveAspectRatio=\"none\" style=\"width:12px;height:12px;\" version=\"1.1\" viewBox=\"0 0 12 12\" width=\"12px\" zoomAndPan=\"magnify\"><defs/><g><!--MD5=[6a4cb978cab31700e1ce5529f947a75d]\n",
       "@startuml\r\n",
       "skinparam ranksep 8\r\n",
       " \r\n",
       "@enduml\r\n",
       "\n",
       "PlantUML version 1.2020.13(Sat Jun 13 12:26:38 UTC 2020)\n",
       "(EPL source distribution)\n",
       "Java Runtime: OpenJDK Runtime Environment\n",
       "JVM: OpenJDK 64-Bit Server VM\n",
       "Default Encoding: UTF-8\n",
       "Language: en\n",
       "Country: null\n",
       "--></g></svg>"
      ]
     },
     "execution_count": 34,
     "metadata": {},
     "output_type": "execute_result"
    }
   ],
   "source": [
    "%viz --style=\"PLANTUML\" --view=\"Action\" \"ConnectionTest\""
   ]
  },
  {
   "cell_type": "code",
   "execution_count": 35,
   "id": "48608a27",
   "metadata": {
    "execution": {
     "iopub.execute_input": "2021-08-04T06:28:53.908480Z",
     "iopub.status.busy": "2021-08-04T06:28:53.908173Z",
     "iopub.status.idle": "2021-08-04T06:28:53.938626Z",
     "shell.execute_reply": "2021-08-04T06:28:53.938853Z"
    }
   },
   "outputs": [
    {
     "data": {
      "image/svg+xml": [
       "<?xml version=\"1.0\" encoding=\"UTF-8\" standalone=\"no\"?><svg xmlns=\"http://www.w3.org/2000/svg\" xmlns:xlink=\"http://www.w3.org/1999/xlink\" contentScriptType=\"application/ecmascript\" contentStyleType=\"text/css\" height=\"533px\" preserveAspectRatio=\"none\" style=\"width:241px;height:533px;\" version=\"1.1\" viewBox=\"0 0 241 533\" width=\"241px\" zoomAndPan=\"magnify\"><defs><filter height=\"300%\" id=\"f1cs2enn4ctu13\" width=\"300%\" x=\"-1\" y=\"-1\"><feGaussianBlur result=\"blurOut\" stdDeviation=\"2.0\"/><feColorMatrix in=\"blurOut\" result=\"blurOut2\" type=\"matrix\" values=\"0 0 0 0 0 0 0 0 0 0 0 0 0 0 0 0 0 0 .4 0\"/><feOffset dx=\"4.0\" dy=\"4.0\" in=\"blurOut2\" result=\"blurOut3\"/><feBlend in=\"SourceGraphic\" in2=\"blurOut3\" mode=\"normal\"/></filter></defs><g><!--MD5=[fbc87193dbaf4d95561dea2c320d4a47]\n",
       "cluster E1--><a href=\"psysml:316d1b7b-e6b7-4d49-a637-31383ba5712a\" target=\"_top\" title=\"psysml:316d1b7b-e6b7-4d49-a637-31383ba5712a\" xlink:actuate=\"onRequest\" xlink:href=\"psysml:316d1b7b-e6b7-4d49-a637-31383ba5712a\" xlink:show=\"new\" xlink:title=\"psysml:316d1b7b-e6b7-4d49-a637-31383ba5712a\" xlink:type=\"simple\"><polygon fill=\"#FFFFFF\" filter=\"url(#f1cs2enn4ctu13)\" points=\"16,6,147,6,154,28.2969,219,28.2969,219,521,16,521,16,6\" style=\"stroke: #000000; stroke-width: 1.5;\"/><line style=\"stroke: #000000; stroke-width: 1.5;\" x1=\"16\" x2=\"154\" y1=\"28.2969\" y2=\"28.2969\"/><text fill=\"#000000\" font-family=\"sans-serif\" font-size=\"14\" font-weight=\"bold\" lengthAdjust=\"spacingAndGlyphs\" textLength=\"125\" x=\"20\" y=\"20.9951\">ConnectionTest</text></a><!--MD5=[b4997ac47864f28c2f74865a473b2911]\n",
       "class E2--><a href=\"psysml:c01c1eb8-4402-477c-affb-a3d93aa1c07f\" target=\"_top\" title=\"psysml:c01c1eb8-4402-477c-affb-a3d93aa1c07f\" xlink:actuate=\"onRequest\" xlink:href=\"psysml:c01c1eb8-4402-477c-affb-a3d93aa1c07f\" xlink:show=\"new\" xlink:title=\"psysml:c01c1eb8-4402-477c-affb-a3d93aa1c07f\" xlink:type=\"simple\"><rect fill=\"#FEFECE\" filter=\"url(#f1cs2enn4ctu13)\" height=\"45.9375\" id=\"E2\" rx=\"10\" ry=\"10\" style=\"stroke: #A80036; stroke-width: 1.5;\" width=\"68\" x=\"102\" y=\"247\"/><ellipse cx=\"117\" cy=\"265.9688\" fill=\"#32CD32\" rx=\"11\" ry=\"11\" style=\"stroke: #A80036; stroke-width: 1.0;\"/><path d=\"M116.7969,261.6406 L116.7969,265.2656 L117.7969,265.2656 Q119,265.2656 119.4844,264.8594 Q119.9688,264.4531 119.9688,263.4531 Q119.9688,262.4531 119.4844,262.0469 Q119,261.6406 117.7969,261.6406 L116.7969,261.6406 Z M114.3438,259.5781 L117.7031,259.5781 Q120.2656,259.5781 121.3906,260.5 Q122.5156,261.4063 122.5156,263.4531 Q122.5156,265.5 121.3906,266.4219 Q120.2656,267.3281 117.7031,267.3281 L116.7969,267.3281 L116.7969,271.9688 L114.3438,271.9688 L114.3438,259.5781 Z \"/><text fill=\"#000000\" font-family=\"sans-serif\" font-size=\"12\" font-style=\"italic\" lengthAdjust=\"spacingAndGlyphs\" textLength=\"40\" x=\"129\" y=\"263.1387\">«part»</text><text fill=\"#000000\" font-family=\"sans-serif\" font-size=\"12\" lengthAdjust=\"spacingAndGlyphs\" textLength=\"8\" x=\"145\" y=\"277.1074\">p</text><line style=\"stroke: #A80036; stroke-width: 1.5;\" x1=\"103\" x2=\"169\" y1=\"284.9375\" y2=\"284.9375\"/></a><!--MD5=[09b614a08d8cba4a07c9adeb5e0fee81]\n",
       "class E3--><a href=\"psysml:83a66275-79f9-4d22-aa8c-e03faa30289f\" target=\"_top\" title=\"psysml:83a66275-79f9-4d22-aa8c-e03faa30289f\" xlink:actuate=\"onRequest\" xlink:href=\"psysml:83a66275-79f9-4d22-aa8c-e03faa30289f\" xlink:show=\"new\" xlink:title=\"psysml:83a66275-79f9-4d22-aa8c-e03faa30289f\" xlink:type=\"simple\"><rect fill=\"#FEFECE\" filter=\"url(#f1cs2enn4ctu13)\" height=\"45.9375\" id=\"E3\" rx=\"10\" ry=\"10\" style=\"stroke: #A80036; stroke-width: 1.5;\" width=\"68\" x=\"135\" y=\"353\"/><ellipse cx=\"150\" cy=\"371.9688\" fill=\"#32CD32\" rx=\"11\" ry=\"11\" style=\"stroke: #A80036; stroke-width: 1.0;\"/><path d=\"M149.7969,367.6406 L149.7969,371.2656 L150.7969,371.2656 Q152,371.2656 152.4844,370.8594 Q152.9688,370.4531 152.9688,369.4531 Q152.9688,368.4531 152.4844,368.0469 Q152,367.6406 150.7969,367.6406 L149.7969,367.6406 Z M147.3438,365.5781 L150.7031,365.5781 Q153.2656,365.5781 154.3906,366.5 Q155.5156,367.4063 155.5156,369.4531 Q155.5156,371.5 154.3906,372.4219 Q153.2656,373.3281 150.7031,373.3281 L149.7969,373.3281 L149.7969,377.9688 L147.3438,377.9688 L147.3438,365.5781 Z \"/><text fill=\"#000000\" font-family=\"sans-serif\" font-size=\"12\" font-style=\"italic\" lengthAdjust=\"spacingAndGlyphs\" textLength=\"40\" x=\"162\" y=\"369.1387\">«part»</text><text fill=\"#000000\" font-family=\"sans-serif\" font-size=\"12\" lengthAdjust=\"spacingAndGlyphs\" textLength=\"6\" x=\"179\" y=\"383.1074\">x</text><line style=\"stroke: #A80036; stroke-width: 1.5;\" x1=\"136\" x2=\"202\" y1=\"390.9375\" y2=\"390.9375\"/></a><!--MD5=[ebbe1d658d1005bcc118a6aa81145e00]\n",
       "class E4--><a href=\"psysml:aa5ac9d5-4dfe-418e-90b4-d1e9d9002b4c\" target=\"_top\" title=\"psysml:aa5ac9d5-4dfe-418e-90b4-d1e9d9002b4c\" xlink:actuate=\"onRequest\" xlink:href=\"psysml:aa5ac9d5-4dfe-418e-90b4-d1e9d9002b4c\" xlink:show=\"new\" xlink:title=\"psysml:aa5ac9d5-4dfe-418e-90b4-d1e9d9002b4c\" xlink:type=\"simple\"><rect fill=\"#FEFECE\" filter=\"url(#f1cs2enn4ctu13)\" height=\"45.9375\" id=\"E4\" rx=\"10\" ry=\"10\" style=\"stroke: #A80036; stroke-width: 1.5;\" width=\"68\" x=\"135\" y=\"459\"/><ellipse cx=\"150\" cy=\"477.9688\" fill=\"#32CD32\" rx=\"11\" ry=\"11\" style=\"stroke: #A80036; stroke-width: 1.0;\"/><path d=\"M149.7969,473.6406 L149.7969,477.2656 L150.7969,477.2656 Q152,477.2656 152.4844,476.8594 Q152.9688,476.4531 152.9688,475.4531 Q152.9688,474.4531 152.4844,474.0469 Q152,473.6406 150.7969,473.6406 L149.7969,473.6406 Z M147.3438,471.5781 L150.7031,471.5781 Q153.2656,471.5781 154.3906,472.5 Q155.5156,473.4063 155.5156,475.4531 Q155.5156,477.5 154.3906,478.4219 Q153.2656,479.3281 150.7031,479.3281 L149.7969,479.3281 L149.7969,483.9688 L147.3438,483.9688 L147.3438,471.5781 Z \"/><text fill=\"#000000\" font-family=\"sans-serif\" font-size=\"12\" font-style=\"italic\" lengthAdjust=\"spacingAndGlyphs\" textLength=\"40\" x=\"162\" y=\"475.1387\">«part»</text><text fill=\"#000000\" font-family=\"sans-serif\" font-size=\"12\" lengthAdjust=\"spacingAndGlyphs\" textLength=\"14\" x=\"175\" y=\"489.1074\">x1</text><line style=\"stroke: #A80036; stroke-width: 1.5;\" x1=\"136\" x2=\"202\" y1=\"496.9375\" y2=\"496.9375\"/></a><!--MD5=[270fce915f116d4de14055a7c1d9a0f3]\n",
       "class E5--><a href=\"psysml:fe1eabcd-2f5c-4c92-bec8-31bd54db8461\" target=\"_top\" title=\"psysml:fe1eabcd-2f5c-4c92-bec8-31bd54db8461\" xlink:actuate=\"onRequest\" xlink:href=\"psysml:fe1eabcd-2f5c-4c92-bec8-31bd54db8461\" xlink:show=\"new\" xlink:title=\"psysml:fe1eabcd-2f5c-4c92-bec8-31bd54db8461\" xlink:type=\"simple\"><rect fill=\"#FEFECE\" filter=\"url(#f1cs2enn4ctu13)\" height=\"40\" id=\"E5\" style=\"stroke: #A80036; stroke-width: 1.5;\" width=\"40\" x=\"81\" y=\"41\"/><ellipse cx=\"96\" cy=\"57\" fill=\"#008000\" rx=\"11\" ry=\"11\" style=\"stroke: #A80036; stroke-width: 1.0;\"/><path d=\"M94.9063,57.375 L94.9063,61.0469 L96.5313,61.0469 Q97.7031,61.0469 98.1719,60.6563 Q98.6406,60.25 98.6406,59.25 Q98.6406,58.25 98.1406,57.8125 Q97.6563,57.375 96.5313,57.375 L94.9063,57.375 Z M94.9063,52.5469 L94.9063,55.4219 L96.5313,55.4219 Q97.4531,55.4219 97.8438,55.0938 Q98.25,54.75 98.25,54 Q98.25,53.2344 97.8438,52.8906 Q97.4375,52.5469 96.5313,52.5469 L94.9063,52.5469 Z M92.5313,50.5938 L96.5313,50.5938 Q98.5938,50.5938 99.6406,51.375 Q100.6875,52.1563 100.6875,53.7188 Q100.6875,54.9219 100.0625,55.5938 Q99.4531,56.2656 98.2656,56.375 Q99.6875,56.5156 100.4063,57.3281 Q101.125,58.1406 101.125,59.5938 Q101.125,61.3906 100.0469,62.2031 Q98.9688,63 96.5313,63 L92.5313,63 L92.5313,50.5938 Z \"/><text fill=\"#000000\" font-family=\"sans-serif\" font-size=\"12\" lengthAdjust=\"spacingAndGlyphs\" textLength=\"8\" x=\"110\" y=\"61.1543\">P</text><line style=\"stroke: #A80036; stroke-width: 1.5;\" x1=\"82\" x2=\"120\" y1=\"73\" y2=\"73\"/></a><!--MD5=[60a26617385b1d2d0262a64233df1f8d]\n",
       "class E6--><a href=\"psysml:06be23d5-21a7-42eb-83e3-f8e6bdc4a055\" target=\"_top\" title=\"psysml:06be23d5-21a7-42eb-83e3-f8e6bdc4a055\" xlink:actuate=\"onRequest\" xlink:href=\"psysml:06be23d5-21a7-42eb-83e3-f8e6bdc4a055\" xlink:show=\"new\" xlink:title=\"psysml:06be23d5-21a7-42eb-83e3-f8e6bdc4a055\" xlink:type=\"simple\"><rect fill=\"#FEFECE\" filter=\"url(#f1cs2enn4ctu13)\" height=\"45.9375\" id=\"E6\" rx=\"10\" ry=\"10\" style=\"stroke: #A80036; stroke-width: 1.5;\" width=\"68\" x=\"32\" y=\"353\"/><ellipse cx=\"47\" cy=\"371.9688\" fill=\"#32CD32\" rx=\"11\" ry=\"11\" style=\"stroke: #A80036; stroke-width: 1.0;\"/><path d=\"M46.7969,367.6406 L46.7969,371.2656 L47.7969,371.2656 Q49,371.2656 49.4844,370.8594 Q49.9688,370.4531 49.9688,369.4531 Q49.9688,368.4531 49.4844,368.0469 Q49,367.6406 47.7969,367.6406 L46.7969,367.6406 Z M44.3438,365.5781 L47.7031,365.5781 Q50.2656,365.5781 51.3906,366.5 Q52.5156,367.4063 52.5156,369.4531 Q52.5156,371.5 51.3906,372.4219 Q50.2656,373.3281 47.7031,373.3281 L46.7969,373.3281 L46.7969,377.9688 L44.3438,377.9688 L44.3438,365.5781 Z \"/><text fill=\"#000000\" font-family=\"sans-serif\" font-size=\"12\" font-style=\"italic\" lengthAdjust=\"spacingAndGlyphs\" textLength=\"40\" x=\"59\" y=\"369.1387\">«part»</text><text fill=\"#000000\" font-family=\"sans-serif\" font-size=\"12\" lengthAdjust=\"spacingAndGlyphs\" textLength=\"6\" x=\"76\" y=\"383.1074\">y</text><line style=\"stroke: #A80036; stroke-width: 1.5;\" x1=\"33\" x2=\"99\" y1=\"390.9375\" y2=\"390.9375\"/></a><!--MD5=[2156ba9850f5573cc1fc38a6a4b2f02b]\n",
       "class E7--><a href=\"psysml:32e0c838-e55d-456a-ac80-3fd98b88adbf\" target=\"_top\" title=\"psysml:32e0c838-e55d-456a-ac80-3fd98b88adbf\" xlink:actuate=\"onRequest\" xlink:href=\"psysml:32e0c838-e55d-456a-ac80-3fd98b88adbf\" xlink:show=\"new\" xlink:title=\"psysml:32e0c838-e55d-456a-ac80-3fd98b88adbf\" xlink:type=\"simple\"><rect fill=\"#FEFECE\" filter=\"url(#f1cs2enn4ctu13)\" height=\"45.9375\" id=\"E7\" rx=\"10\" ry=\"10\" style=\"stroke: #A80036; stroke-width: 1.5;\" width=\"68\" x=\"102\" y=\"141\"/><ellipse cx=\"117\" cy=\"159.9688\" fill=\"#32CD32\" rx=\"11\" ry=\"11\" style=\"stroke: #A80036; stroke-width: 1.0;\"/><path d=\"M116.7969,155.6406 L116.7969,159.2656 L117.7969,159.2656 Q119,159.2656 119.4844,158.8594 Q119.9688,158.4531 119.9688,157.4531 Q119.9688,156.4531 119.4844,156.0469 Q119,155.6406 117.7969,155.6406 L116.7969,155.6406 Z M114.3438,153.5781 L117.7031,153.5781 Q120.2656,153.5781 121.3906,154.5 Q122.5156,155.4063 122.5156,157.4531 Q122.5156,159.5 121.3906,160.4219 Q120.2656,161.3281 117.7031,161.3281 L116.7969,161.3281 L116.7969,165.9688 L114.3438,165.9688 L114.3438,153.5781 Z \"/><text fill=\"#000000\" font-family=\"sans-serif\" font-size=\"12\" font-style=\"italic\" lengthAdjust=\"spacingAndGlyphs\" textLength=\"40\" x=\"129\" y=\"157.1387\">«part»</text><text fill=\"#000000\" font-family=\"sans-serif\" font-size=\"12\" lengthAdjust=\"spacingAndGlyphs\" textLength=\"16\" x=\"141\" y=\"171.1074\">p1</text><line style=\"stroke: #A80036; stroke-width: 1.5;\" x1=\"103\" x2=\"169\" y1=\"178.9375\" y2=\"178.9375\"/></a><!--MD5=[209b3feb70ccb6233bfe1053d122c12c]\n",
       "reverse link E2 to E3--><a href=\"psysml:96d6ab40-4f8f-4d11-a48f-d95a37d5e194\" target=\"_top\" title=\"psysml:96d6ab40-4f8f-4d11-a48f-d95a37d5e194\" xlink:actuate=\"onRequest\" xlink:href=\"psysml:96d6ab40-4f8f-4d11-a48f-d95a37d5e194\" xlink:show=\"new\" xlink:title=\"psysml:96d6ab40-4f8f-4d11-a48f-d95a37d5e194\" xlink:type=\"simple\"><path d=\"M146.95,305.49 C151.91,321.15 157.64,339.19 162.01,352.98 \" fill=\"none\" id=\"E2&lt;-E3\" style=\"stroke: #A80036; stroke-width: 1.0;\"/><polygon fill=\"#A80036\" points=\"143,293.06,140.9989,299.9879,146.6243,304.4996,148.6253,297.5717,143,293.06\" style=\"stroke: #A80036; stroke-width: 1.0;\"/><text fill=\"#000000\" font-family=\"sans-serif\" font-size=\"13\" lengthAdjust=\"spacingAndGlyphs\" textLength=\"8\" x=\"151.0564\" y=\"341.8709\">1</text></a><!--MD5=[4672eba38e49728da53d11aeb285b987]\n",
       "reverse link E3 to E4--><a href=\"psysml:15b45894-f404-4f26-aaef-cf96b8c0ca99\" target=\"_top\" title=\"psysml:15b45894-f404-4f26-aaef-cf96b8c0ca99\" xlink:actuate=\"onRequest\" xlink:href=\"psysml:15b45894-f404-4f26-aaef-cf96b8c0ca99\" xlink:show=\"new\" xlink:title=\"psysml:15b45894-f404-4f26-aaef-cf96b8c0ca99\" xlink:type=\"simple\"><path d=\"M169,412.44 C169,427.87 169,445.47 169,458.98 \" fill=\"none\" id=\"E3&lt;-E4\" style=\"stroke: #A80036; stroke-width: 1.0;\"/><polygon fill=\"#A80036\" points=\"169,399.06,165,405.06,169,411.06,173,405.06,169,399.06\" style=\"stroke: #A80036; stroke-width: 1.0;\"/><text fill=\"#000000\" font-family=\"sans-serif\" font-size=\"13\" lengthAdjust=\"spacingAndGlyphs\" textLength=\"8\" x=\"159.925\" y=\"447.8709\">1</text></a><!--MD5=[85d356282659285ab4b2cfe2f634dd2b]\n",
       "reverse link E5 to E6--><a href=\"psysml:e9a2dbd2-75b9-45f4-aecc-a2c2183931e9\" target=\"_top\" title=\"psysml:e9a2dbd2-75b9-45f4-aecc-a2c2183931e9\" xlink:actuate=\"onRequest\" xlink:href=\"psysml:e9a2dbd2-75b9-45f4-aecc-a2c2183931e9\" xlink:show=\"new\" xlink:title=\"psysml:e9a2dbd2-75b9-45f4-aecc-a2c2183931e9\" xlink:type=\"simple\"><path d=\"M93.66,93.79 C90.58,108.14 87.21,125.35 85,141 C74.05,218.49 68.84,311.37 66.92,352.97 \" fill=\"none\" id=\"E5&lt;-E6\" style=\"stroke: #A80036; stroke-width: 1.0;\"/><polygon fill=\"#A80036\" points=\"96.48,81.05,91.282,86.0481,93.8964,92.7686,99.0944,87.7705,96.48,81.05\" style=\"stroke: #A80036; stroke-width: 1.0;\"/><text fill=\"#000000\" font-family=\"sans-serif\" font-size=\"13\" lengthAdjust=\"spacingAndGlyphs\" textLength=\"8\" x=\"58.0923\" y=\"341.8582\">1</text></a><!--MD5=[e3e28c1befcf002155aa15e1416b4315]\n",
       "link E2 to E6--><a href=\"psysml:2b37c4a5-3576-4b38-9831-53a66373adf4\" target=\"_top\" title=\"psysml:2b37c4a5-3576-4b38-9831-53a66373adf4\" xlink:actuate=\"onRequest\" xlink:href=\"psysml:2b37c4a5-3576-4b38-9831-53a66373adf4\" xlink:show=\"new\" xlink:title=\"psysml:2b37c4a5-3576-4b38-9831-53a66373adf4\" xlink:type=\"simple\"><path d=\"M121.15,293.06 C109.28,310.7 92.7,335.34 80.82,352.98 \" fill=\"none\" id=\"E2-E6\" style=\"stroke: #A80036; stroke-width: 3.0;\"/><text fill=\"#000000\" font-family=\"sans-serif\" font-size=\"13\" lengthAdjust=\"spacingAndGlyphs\" textLength=\"7\" x=\"76.8622\" y=\"341.8709\">*</text></a><!--MD5=[452b418e7f8a40397a49b8c0a78acc5b]\n",
       "reverse link E5 to E7--><a href=\"psysml:0433d7bc-4d61-42a3-98d7-5077bd02d97e\" target=\"_top\" title=\"psysml:0433d7bc-4d61-42a3-98d7-5077bd02d97e\" xlink:actuate=\"onRequest\" xlink:href=\"psysml:0433d7bc-4d61-42a3-98d7-5077bd02d97e\" xlink:show=\"new\" xlink:title=\"psysml:0433d7bc-4d61-42a3-98d7-5077bd02d97e\" xlink:type=\"simple\"><path d=\"M112.09,94.01 C117.37,109.23 123.54,127.06 128.3,140.77 \" fill=\"none\" id=\"E5&lt;-E7\" style=\"stroke: #A80036; stroke-width: 1.0;\"/><polygon fill=\"#A80036\" points=\"107.75,81.47,105.9375,88.4496,111.683,92.8072,113.4956,85.8276,107.75,81.47\" style=\"stroke: #A80036; stroke-width: 1.0;\"/><text fill=\"#000000\" font-family=\"sans-serif\" font-size=\"13\" lengthAdjust=\"spacingAndGlyphs\" textLength=\"8\" x=\"117.3019\" y=\"129.9874\">1</text></a><!--MD5=[583832df87f4419a098336a29a52fa00]\n",
       "link E7 to E2--><a href=\"psysml:d6550333-67eb-4da5-a08d-e8c2ba9c3c42\" target=\"_top\" title=\"psysml:d6550333-67eb-4da5-a08d-e8c2ba9c3c42\" xlink:actuate=\"onRequest\" xlink:href=\"psysml:d6550333-67eb-4da5-a08d-e8c2ba9c3c42\" xlink:show=\"new\" xlink:title=\"psysml:d6550333-67eb-4da5-a08d-e8c2ba9c3c42\" xlink:type=\"simple\"><path d=\"M136,187.06 C136,198.64 136,213.23 136,226.87 \" fill=\"none\" id=\"E7-&gt;E2\" style=\"stroke: #A80036; stroke-width: 1.0;\"/><polygon fill=\"none\" points=\"143,226.98,136,246.98,129,226.98,143,226.98\" style=\"stroke: #A80036; stroke-width: 1.0;\"/></a><!--MD5=[868935fe01071dcfc890c09b4aae933c]\n",
       "@startuml\r\n",
       " \r\n",
       "package \"ConnectionTest\" as E1  [[psysml:316d1b7b-e6b7-4d49-a637-31383ba5712a ]]  {\r\n",
       "comp usage \"p\" as E2 << << (P,limegreen) part>> [[psysml:c01c1eb8-4402-477c-affb-a3d93aa1c07f ]] {\r\n",
       "}\r\n",
       "comp usage \"x\" as E3 << << (P,limegreen) part>> [[psysml:83a66275-79f9-4d22-aa8c-e03faa30289f ]] {\r\n",
       "}\r\n",
       "comp usage \"x1\" as E4 << << (P,limegreen) part>> [[psysml:aa5ac9d5-4dfe-418e-90b4-d1e9d9002b4c ]] {\r\n",
       "}\r\n",
       "comp def \"P\" as E5 << << (B,green) >> [[psysml:fe1eabcd-2f5c-4c92-bec8-31bd54db8461 ]] {\r\n",
       "}\r\n",
       "comp usage \"y\" as E6 << << (P,limegreen) part>> [[psysml:06be23d5-21a7-42eb-83e3-f8e6bdc4a055 ]] {\r\n",
       "}\r\n",
       "comp usage \"p1\" as E7 << << (P,limegreen) part>> [[psysml:32e0c838-e55d-456a-ac80-3fd98b88adbf ]] {\r\n",
       "}\r\n",
       "E2 *- - \"1\"E3 [[psysml:96d6ab40-4f8f-4d11-a48f-d95a37d5e194 ]] \r\n",
       "E3 *- - \"1\"E4 [[psysml:15b45894-f404-4f26-aaef-cf96b8c0ca99 ]] \r\n",
       "E5 *- - \"1\"E6 [[psysml:e9a2dbd2-75b9-45f4-aecc-a2c2183931e9 ]] \r\n",
       "E2 -[thickness=3]- \"*\"E6 [[psysml:2b37c4a5-3576-4b38-9831-53a66373adf4 ]] \r\n",
       "E5 *- - \"1\"E7 [[psysml:0433d7bc-4d61-42a3-98d7-5077bd02d97e ]] \r\n",
       "E7 - -|> E2 [[psysml:d6550333-67eb-4da5-a08d-e8c2ba9c3c42 ]] \r\n",
       "}\r\n",
       "@enduml\r\n",
       "\n",
       "PlantUML version 1.2020.13(Sat Jun 13 12:26:38 UTC 2020)\n",
       "(EPL source distribution)\n",
       "Java Runtime: OpenJDK Runtime Environment\n",
       "JVM: OpenJDK 64-Bit Server VM\n",
       "Default Encoding: UTF-8\n",
       "Language: en\n",
       "Country: null\n",
       "--></g></svg>"
      ]
     },
     "execution_count": 35,
     "metadata": {},
     "output_type": "execute_result"
    }
   ],
   "source": [
    "%viz --style=\"PLANTUML\" --view=\"Sequence\" \"ConnectionTest\""
   ]
  },
  {
   "cell_type": "code",
   "execution_count": 36,
   "id": "39044050",
   "metadata": {
    "execution": {
     "iopub.execute_input": "2021-08-04T06:28:53.988804Z",
     "iopub.status.busy": "2021-08-04T06:28:53.988487Z",
     "iopub.status.idle": "2021-08-04T06:28:54.019135Z",
     "shell.execute_reply": "2021-08-04T06:28:54.018860Z"
    }
   },
   "outputs": [
    {
     "data": {
      "image/svg+xml": [
       "<?xml version=\"1.0\" encoding=\"UTF-8\" standalone=\"no\"?><svg xmlns=\"http://www.w3.org/2000/svg\" xmlns:xlink=\"http://www.w3.org/1999/xlink\" contentScriptType=\"application/ecmascript\" contentStyleType=\"text/css\" height=\"533px\" preserveAspectRatio=\"none\" style=\"width:241px;height:533px;\" version=\"1.1\" viewBox=\"0 0 241 533\" width=\"241px\" zoomAndPan=\"magnify\"><defs><filter height=\"300%\" id=\"f1cs2enn4ctu13\" width=\"300%\" x=\"-1\" y=\"-1\"><feGaussianBlur result=\"blurOut\" stdDeviation=\"2.0\"/><feColorMatrix in=\"blurOut\" result=\"blurOut2\" type=\"matrix\" values=\"0 0 0 0 0 0 0 0 0 0 0 0 0 0 0 0 0 0 .4 0\"/><feOffset dx=\"4.0\" dy=\"4.0\" in=\"blurOut2\" result=\"blurOut3\"/><feBlend in=\"SourceGraphic\" in2=\"blurOut3\" mode=\"normal\"/></filter></defs><g><!--MD5=[fbc87193dbaf4d95561dea2c320d4a47]\n",
       "cluster E1--><a href=\"psysml:316d1b7b-e6b7-4d49-a637-31383ba5712a\" target=\"_top\" title=\"psysml:316d1b7b-e6b7-4d49-a637-31383ba5712a\" xlink:actuate=\"onRequest\" xlink:href=\"psysml:316d1b7b-e6b7-4d49-a637-31383ba5712a\" xlink:show=\"new\" xlink:title=\"psysml:316d1b7b-e6b7-4d49-a637-31383ba5712a\" xlink:type=\"simple\"><polygon fill=\"#FFFFFF\" filter=\"url(#f1cs2enn4ctu13)\" points=\"16,6,147,6,154,28.2969,219,28.2969,219,521,16,521,16,6\" style=\"stroke: #000000; stroke-width: 1.5;\"/><line style=\"stroke: #000000; stroke-width: 1.5;\" x1=\"16\" x2=\"154\" y1=\"28.2969\" y2=\"28.2969\"/><text fill=\"#000000\" font-family=\"sans-serif\" font-size=\"14\" font-weight=\"bold\" lengthAdjust=\"spacingAndGlyphs\" textLength=\"125\" x=\"20\" y=\"20.9951\">ConnectionTest</text></a><!--MD5=[b4997ac47864f28c2f74865a473b2911]\n",
       "class E2--><a href=\"psysml:c01c1eb8-4402-477c-affb-a3d93aa1c07f\" target=\"_top\" title=\"psysml:c01c1eb8-4402-477c-affb-a3d93aa1c07f\" xlink:actuate=\"onRequest\" xlink:href=\"psysml:c01c1eb8-4402-477c-affb-a3d93aa1c07f\" xlink:show=\"new\" xlink:title=\"psysml:c01c1eb8-4402-477c-affb-a3d93aa1c07f\" xlink:type=\"simple\"><rect fill=\"#FEFECE\" filter=\"url(#f1cs2enn4ctu13)\" height=\"45.9375\" id=\"E2\" rx=\"10\" ry=\"10\" style=\"stroke: #A80036; stroke-width: 1.5;\" width=\"68\" x=\"102\" y=\"247\"/><ellipse cx=\"117\" cy=\"265.9688\" fill=\"#32CD32\" rx=\"11\" ry=\"11\" style=\"stroke: #A80036; stroke-width: 1.0;\"/><path d=\"M116.7969,261.6406 L116.7969,265.2656 L117.7969,265.2656 Q119,265.2656 119.4844,264.8594 Q119.9688,264.4531 119.9688,263.4531 Q119.9688,262.4531 119.4844,262.0469 Q119,261.6406 117.7969,261.6406 L116.7969,261.6406 Z M114.3438,259.5781 L117.7031,259.5781 Q120.2656,259.5781 121.3906,260.5 Q122.5156,261.4063 122.5156,263.4531 Q122.5156,265.5 121.3906,266.4219 Q120.2656,267.3281 117.7031,267.3281 L116.7969,267.3281 L116.7969,271.9688 L114.3438,271.9688 L114.3438,259.5781 Z \"/><text fill=\"#000000\" font-family=\"sans-serif\" font-size=\"12\" font-style=\"italic\" lengthAdjust=\"spacingAndGlyphs\" textLength=\"40\" x=\"129\" y=\"263.1387\">«part»</text><text fill=\"#000000\" font-family=\"sans-serif\" font-size=\"12\" lengthAdjust=\"spacingAndGlyphs\" textLength=\"8\" x=\"145\" y=\"277.1074\">p</text><line style=\"stroke: #A80036; stroke-width: 1.5;\" x1=\"103\" x2=\"169\" y1=\"284.9375\" y2=\"284.9375\"/></a><!--MD5=[09b614a08d8cba4a07c9adeb5e0fee81]\n",
       "class E3--><a href=\"psysml:83a66275-79f9-4d22-aa8c-e03faa30289f\" target=\"_top\" title=\"psysml:83a66275-79f9-4d22-aa8c-e03faa30289f\" xlink:actuate=\"onRequest\" xlink:href=\"psysml:83a66275-79f9-4d22-aa8c-e03faa30289f\" xlink:show=\"new\" xlink:title=\"psysml:83a66275-79f9-4d22-aa8c-e03faa30289f\" xlink:type=\"simple\"><rect fill=\"#FEFECE\" filter=\"url(#f1cs2enn4ctu13)\" height=\"45.9375\" id=\"E3\" rx=\"10\" ry=\"10\" style=\"stroke: #A80036; stroke-width: 1.5;\" width=\"68\" x=\"135\" y=\"353\"/><ellipse cx=\"150\" cy=\"371.9688\" fill=\"#32CD32\" rx=\"11\" ry=\"11\" style=\"stroke: #A80036; stroke-width: 1.0;\"/><path d=\"M149.7969,367.6406 L149.7969,371.2656 L150.7969,371.2656 Q152,371.2656 152.4844,370.8594 Q152.9688,370.4531 152.9688,369.4531 Q152.9688,368.4531 152.4844,368.0469 Q152,367.6406 150.7969,367.6406 L149.7969,367.6406 Z M147.3438,365.5781 L150.7031,365.5781 Q153.2656,365.5781 154.3906,366.5 Q155.5156,367.4063 155.5156,369.4531 Q155.5156,371.5 154.3906,372.4219 Q153.2656,373.3281 150.7031,373.3281 L149.7969,373.3281 L149.7969,377.9688 L147.3438,377.9688 L147.3438,365.5781 Z \"/><text fill=\"#000000\" font-family=\"sans-serif\" font-size=\"12\" font-style=\"italic\" lengthAdjust=\"spacingAndGlyphs\" textLength=\"40\" x=\"162\" y=\"369.1387\">«part»</text><text fill=\"#000000\" font-family=\"sans-serif\" font-size=\"12\" lengthAdjust=\"spacingAndGlyphs\" textLength=\"6\" x=\"179\" y=\"383.1074\">x</text><line style=\"stroke: #A80036; stroke-width: 1.5;\" x1=\"136\" x2=\"202\" y1=\"390.9375\" y2=\"390.9375\"/></a><!--MD5=[ebbe1d658d1005bcc118a6aa81145e00]\n",
       "class E4--><a href=\"psysml:aa5ac9d5-4dfe-418e-90b4-d1e9d9002b4c\" target=\"_top\" title=\"psysml:aa5ac9d5-4dfe-418e-90b4-d1e9d9002b4c\" xlink:actuate=\"onRequest\" xlink:href=\"psysml:aa5ac9d5-4dfe-418e-90b4-d1e9d9002b4c\" xlink:show=\"new\" xlink:title=\"psysml:aa5ac9d5-4dfe-418e-90b4-d1e9d9002b4c\" xlink:type=\"simple\"><rect fill=\"#FEFECE\" filter=\"url(#f1cs2enn4ctu13)\" height=\"45.9375\" id=\"E4\" rx=\"10\" ry=\"10\" style=\"stroke: #A80036; stroke-width: 1.5;\" width=\"68\" x=\"135\" y=\"459\"/><ellipse cx=\"150\" cy=\"477.9688\" fill=\"#32CD32\" rx=\"11\" ry=\"11\" style=\"stroke: #A80036; stroke-width: 1.0;\"/><path d=\"M149.7969,473.6406 L149.7969,477.2656 L150.7969,477.2656 Q152,477.2656 152.4844,476.8594 Q152.9688,476.4531 152.9688,475.4531 Q152.9688,474.4531 152.4844,474.0469 Q152,473.6406 150.7969,473.6406 L149.7969,473.6406 Z M147.3438,471.5781 L150.7031,471.5781 Q153.2656,471.5781 154.3906,472.5 Q155.5156,473.4063 155.5156,475.4531 Q155.5156,477.5 154.3906,478.4219 Q153.2656,479.3281 150.7031,479.3281 L149.7969,479.3281 L149.7969,483.9688 L147.3438,483.9688 L147.3438,471.5781 Z \"/><text fill=\"#000000\" font-family=\"sans-serif\" font-size=\"12\" font-style=\"italic\" lengthAdjust=\"spacingAndGlyphs\" textLength=\"40\" x=\"162\" y=\"475.1387\">«part»</text><text fill=\"#000000\" font-family=\"sans-serif\" font-size=\"12\" lengthAdjust=\"spacingAndGlyphs\" textLength=\"14\" x=\"175\" y=\"489.1074\">x1</text><line style=\"stroke: #A80036; stroke-width: 1.5;\" x1=\"136\" x2=\"202\" y1=\"496.9375\" y2=\"496.9375\"/></a><!--MD5=[270fce915f116d4de14055a7c1d9a0f3]\n",
       "class E5--><a href=\"psysml:fe1eabcd-2f5c-4c92-bec8-31bd54db8461\" target=\"_top\" title=\"psysml:fe1eabcd-2f5c-4c92-bec8-31bd54db8461\" xlink:actuate=\"onRequest\" xlink:href=\"psysml:fe1eabcd-2f5c-4c92-bec8-31bd54db8461\" xlink:show=\"new\" xlink:title=\"psysml:fe1eabcd-2f5c-4c92-bec8-31bd54db8461\" xlink:type=\"simple\"><rect fill=\"#FEFECE\" filter=\"url(#f1cs2enn4ctu13)\" height=\"40\" id=\"E5\" style=\"stroke: #A80036; stroke-width: 1.5;\" width=\"40\" x=\"81\" y=\"41\"/><ellipse cx=\"96\" cy=\"57\" fill=\"#008000\" rx=\"11\" ry=\"11\" style=\"stroke: #A80036; stroke-width: 1.0;\"/><path d=\"M94.9063,57.375 L94.9063,61.0469 L96.5313,61.0469 Q97.7031,61.0469 98.1719,60.6563 Q98.6406,60.25 98.6406,59.25 Q98.6406,58.25 98.1406,57.8125 Q97.6563,57.375 96.5313,57.375 L94.9063,57.375 Z M94.9063,52.5469 L94.9063,55.4219 L96.5313,55.4219 Q97.4531,55.4219 97.8438,55.0938 Q98.25,54.75 98.25,54 Q98.25,53.2344 97.8438,52.8906 Q97.4375,52.5469 96.5313,52.5469 L94.9063,52.5469 Z M92.5313,50.5938 L96.5313,50.5938 Q98.5938,50.5938 99.6406,51.375 Q100.6875,52.1563 100.6875,53.7188 Q100.6875,54.9219 100.0625,55.5938 Q99.4531,56.2656 98.2656,56.375 Q99.6875,56.5156 100.4063,57.3281 Q101.125,58.1406 101.125,59.5938 Q101.125,61.3906 100.0469,62.2031 Q98.9688,63 96.5313,63 L92.5313,63 L92.5313,50.5938 Z \"/><text fill=\"#000000\" font-family=\"sans-serif\" font-size=\"12\" lengthAdjust=\"spacingAndGlyphs\" textLength=\"8\" x=\"110\" y=\"61.1543\">P</text><line style=\"stroke: #A80036; stroke-width: 1.5;\" x1=\"82\" x2=\"120\" y1=\"73\" y2=\"73\"/></a><!--MD5=[60a26617385b1d2d0262a64233df1f8d]\n",
       "class E6--><a href=\"psysml:06be23d5-21a7-42eb-83e3-f8e6bdc4a055\" target=\"_top\" title=\"psysml:06be23d5-21a7-42eb-83e3-f8e6bdc4a055\" xlink:actuate=\"onRequest\" xlink:href=\"psysml:06be23d5-21a7-42eb-83e3-f8e6bdc4a055\" xlink:show=\"new\" xlink:title=\"psysml:06be23d5-21a7-42eb-83e3-f8e6bdc4a055\" xlink:type=\"simple\"><rect fill=\"#FEFECE\" filter=\"url(#f1cs2enn4ctu13)\" height=\"45.9375\" id=\"E6\" rx=\"10\" ry=\"10\" style=\"stroke: #A80036; stroke-width: 1.5;\" width=\"68\" x=\"32\" y=\"353\"/><ellipse cx=\"47\" cy=\"371.9688\" fill=\"#32CD32\" rx=\"11\" ry=\"11\" style=\"stroke: #A80036; stroke-width: 1.0;\"/><path d=\"M46.7969,367.6406 L46.7969,371.2656 L47.7969,371.2656 Q49,371.2656 49.4844,370.8594 Q49.9688,370.4531 49.9688,369.4531 Q49.9688,368.4531 49.4844,368.0469 Q49,367.6406 47.7969,367.6406 L46.7969,367.6406 Z M44.3438,365.5781 L47.7031,365.5781 Q50.2656,365.5781 51.3906,366.5 Q52.5156,367.4063 52.5156,369.4531 Q52.5156,371.5 51.3906,372.4219 Q50.2656,373.3281 47.7031,373.3281 L46.7969,373.3281 L46.7969,377.9688 L44.3438,377.9688 L44.3438,365.5781 Z \"/><text fill=\"#000000\" font-family=\"sans-serif\" font-size=\"12\" font-style=\"italic\" lengthAdjust=\"spacingAndGlyphs\" textLength=\"40\" x=\"59\" y=\"369.1387\">«part»</text><text fill=\"#000000\" font-family=\"sans-serif\" font-size=\"12\" lengthAdjust=\"spacingAndGlyphs\" textLength=\"6\" x=\"76\" y=\"383.1074\">y</text><line style=\"stroke: #A80036; stroke-width: 1.5;\" x1=\"33\" x2=\"99\" y1=\"390.9375\" y2=\"390.9375\"/></a><!--MD5=[2156ba9850f5573cc1fc38a6a4b2f02b]\n",
       "class E7--><a href=\"psysml:32e0c838-e55d-456a-ac80-3fd98b88adbf\" target=\"_top\" title=\"psysml:32e0c838-e55d-456a-ac80-3fd98b88adbf\" xlink:actuate=\"onRequest\" xlink:href=\"psysml:32e0c838-e55d-456a-ac80-3fd98b88adbf\" xlink:show=\"new\" xlink:title=\"psysml:32e0c838-e55d-456a-ac80-3fd98b88adbf\" xlink:type=\"simple\"><rect fill=\"#FEFECE\" filter=\"url(#f1cs2enn4ctu13)\" height=\"45.9375\" id=\"E7\" rx=\"10\" ry=\"10\" style=\"stroke: #A80036; stroke-width: 1.5;\" width=\"68\" x=\"102\" y=\"141\"/><ellipse cx=\"117\" cy=\"159.9688\" fill=\"#32CD32\" rx=\"11\" ry=\"11\" style=\"stroke: #A80036; stroke-width: 1.0;\"/><path d=\"M116.7969,155.6406 L116.7969,159.2656 L117.7969,159.2656 Q119,159.2656 119.4844,158.8594 Q119.9688,158.4531 119.9688,157.4531 Q119.9688,156.4531 119.4844,156.0469 Q119,155.6406 117.7969,155.6406 L116.7969,155.6406 Z M114.3438,153.5781 L117.7031,153.5781 Q120.2656,153.5781 121.3906,154.5 Q122.5156,155.4063 122.5156,157.4531 Q122.5156,159.5 121.3906,160.4219 Q120.2656,161.3281 117.7031,161.3281 L116.7969,161.3281 L116.7969,165.9688 L114.3438,165.9688 L114.3438,153.5781 Z \"/><text fill=\"#000000\" font-family=\"sans-serif\" font-size=\"12\" font-style=\"italic\" lengthAdjust=\"spacingAndGlyphs\" textLength=\"40\" x=\"129\" y=\"157.1387\">«part»</text><text fill=\"#000000\" font-family=\"sans-serif\" font-size=\"12\" lengthAdjust=\"spacingAndGlyphs\" textLength=\"16\" x=\"141\" y=\"171.1074\">p1</text><line style=\"stroke: #A80036; stroke-width: 1.5;\" x1=\"103\" x2=\"169\" y1=\"178.9375\" y2=\"178.9375\"/></a><!--MD5=[209b3feb70ccb6233bfe1053d122c12c]\n",
       "reverse link E2 to E3--><a href=\"psysml:96d6ab40-4f8f-4d11-a48f-d95a37d5e194\" target=\"_top\" title=\"psysml:96d6ab40-4f8f-4d11-a48f-d95a37d5e194\" xlink:actuate=\"onRequest\" xlink:href=\"psysml:96d6ab40-4f8f-4d11-a48f-d95a37d5e194\" xlink:show=\"new\" xlink:title=\"psysml:96d6ab40-4f8f-4d11-a48f-d95a37d5e194\" xlink:type=\"simple\"><path d=\"M146.95,305.49 C151.91,321.15 157.64,339.19 162.01,352.98 \" fill=\"none\" id=\"E2&lt;-E3\" style=\"stroke: #A80036; stroke-width: 1.0;\"/><polygon fill=\"#A80036\" points=\"143,293.06,140.9989,299.9879,146.6243,304.4996,148.6253,297.5717,143,293.06\" style=\"stroke: #A80036; stroke-width: 1.0;\"/><text fill=\"#000000\" font-family=\"sans-serif\" font-size=\"13\" lengthAdjust=\"spacingAndGlyphs\" textLength=\"8\" x=\"151.0564\" y=\"341.8709\">1</text></a><!--MD5=[4672eba38e49728da53d11aeb285b987]\n",
       "reverse link E3 to E4--><a href=\"psysml:15b45894-f404-4f26-aaef-cf96b8c0ca99\" target=\"_top\" title=\"psysml:15b45894-f404-4f26-aaef-cf96b8c0ca99\" xlink:actuate=\"onRequest\" xlink:href=\"psysml:15b45894-f404-4f26-aaef-cf96b8c0ca99\" xlink:show=\"new\" xlink:title=\"psysml:15b45894-f404-4f26-aaef-cf96b8c0ca99\" xlink:type=\"simple\"><path d=\"M169,412.44 C169,427.87 169,445.47 169,458.98 \" fill=\"none\" id=\"E3&lt;-E4\" style=\"stroke: #A80036; stroke-width: 1.0;\"/><polygon fill=\"#A80036\" points=\"169,399.06,165,405.06,169,411.06,173,405.06,169,399.06\" style=\"stroke: #A80036; stroke-width: 1.0;\"/><text fill=\"#000000\" font-family=\"sans-serif\" font-size=\"13\" lengthAdjust=\"spacingAndGlyphs\" textLength=\"8\" x=\"159.925\" y=\"447.8709\">1</text></a><!--MD5=[85d356282659285ab4b2cfe2f634dd2b]\n",
       "reverse link E5 to E6--><a href=\"psysml:e9a2dbd2-75b9-45f4-aecc-a2c2183931e9\" target=\"_top\" title=\"psysml:e9a2dbd2-75b9-45f4-aecc-a2c2183931e9\" xlink:actuate=\"onRequest\" xlink:href=\"psysml:e9a2dbd2-75b9-45f4-aecc-a2c2183931e9\" xlink:show=\"new\" xlink:title=\"psysml:e9a2dbd2-75b9-45f4-aecc-a2c2183931e9\" xlink:type=\"simple\"><path d=\"M93.66,93.79 C90.58,108.14 87.21,125.35 85,141 C74.05,218.49 68.84,311.37 66.92,352.97 \" fill=\"none\" id=\"E5&lt;-E6\" style=\"stroke: #A80036; stroke-width: 1.0;\"/><polygon fill=\"#A80036\" points=\"96.48,81.05,91.282,86.0481,93.8964,92.7686,99.0944,87.7705,96.48,81.05\" style=\"stroke: #A80036; stroke-width: 1.0;\"/><text fill=\"#000000\" font-family=\"sans-serif\" font-size=\"13\" lengthAdjust=\"spacingAndGlyphs\" textLength=\"8\" x=\"58.0923\" y=\"341.8582\">1</text></a><!--MD5=[e3e28c1befcf002155aa15e1416b4315]\n",
       "link E2 to E6--><a href=\"psysml:2b37c4a5-3576-4b38-9831-53a66373adf4\" target=\"_top\" title=\"psysml:2b37c4a5-3576-4b38-9831-53a66373adf4\" xlink:actuate=\"onRequest\" xlink:href=\"psysml:2b37c4a5-3576-4b38-9831-53a66373adf4\" xlink:show=\"new\" xlink:title=\"psysml:2b37c4a5-3576-4b38-9831-53a66373adf4\" xlink:type=\"simple\"><path d=\"M121.15,293.06 C109.28,310.7 92.7,335.34 80.82,352.98 \" fill=\"none\" id=\"E2-E6\" style=\"stroke: #A80036; stroke-width: 3.0;\"/><text fill=\"#000000\" font-family=\"sans-serif\" font-size=\"13\" lengthAdjust=\"spacingAndGlyphs\" textLength=\"7\" x=\"76.8622\" y=\"341.8709\">*</text></a><!--MD5=[452b418e7f8a40397a49b8c0a78acc5b]\n",
       "reverse link E5 to E7--><a href=\"psysml:0433d7bc-4d61-42a3-98d7-5077bd02d97e\" target=\"_top\" title=\"psysml:0433d7bc-4d61-42a3-98d7-5077bd02d97e\" xlink:actuate=\"onRequest\" xlink:href=\"psysml:0433d7bc-4d61-42a3-98d7-5077bd02d97e\" xlink:show=\"new\" xlink:title=\"psysml:0433d7bc-4d61-42a3-98d7-5077bd02d97e\" xlink:type=\"simple\"><path d=\"M112.09,94.01 C117.37,109.23 123.54,127.06 128.3,140.77 \" fill=\"none\" id=\"E5&lt;-E7\" style=\"stroke: #A80036; stroke-width: 1.0;\"/><polygon fill=\"#A80036\" points=\"107.75,81.47,105.9375,88.4496,111.683,92.8072,113.4956,85.8276,107.75,81.47\" style=\"stroke: #A80036; stroke-width: 1.0;\"/><text fill=\"#000000\" font-family=\"sans-serif\" font-size=\"13\" lengthAdjust=\"spacingAndGlyphs\" textLength=\"8\" x=\"117.3019\" y=\"129.9874\">1</text></a><!--MD5=[583832df87f4419a098336a29a52fa00]\n",
       "link E7 to E2--><a href=\"psysml:d6550333-67eb-4da5-a08d-e8c2ba9c3c42\" target=\"_top\" title=\"psysml:d6550333-67eb-4da5-a08d-e8c2ba9c3c42\" xlink:actuate=\"onRequest\" xlink:href=\"psysml:d6550333-67eb-4da5-a08d-e8c2ba9c3c42\" xlink:show=\"new\" xlink:title=\"psysml:d6550333-67eb-4da5-a08d-e8c2ba9c3c42\" xlink:type=\"simple\"><path d=\"M136,187.06 C136,198.64 136,213.23 136,226.87 \" fill=\"none\" id=\"E7-&gt;E2\" style=\"stroke: #A80036; stroke-width: 1.0;\"/><polygon fill=\"none\" points=\"143,226.98,136,246.98,129,226.98,143,226.98\" style=\"stroke: #A80036; stroke-width: 1.0;\"/></a><!--MD5=[868935fe01071dcfc890c09b4aae933c]\n",
       "@startuml\r\n",
       " \r\n",
       "package \"ConnectionTest\" as E1  [[psysml:316d1b7b-e6b7-4d49-a637-31383ba5712a ]]  {\r\n",
       "comp usage \"p\" as E2 << << (P,limegreen) part>> [[psysml:c01c1eb8-4402-477c-affb-a3d93aa1c07f ]] {\r\n",
       "}\r\n",
       "comp usage \"x\" as E3 << << (P,limegreen) part>> [[psysml:83a66275-79f9-4d22-aa8c-e03faa30289f ]] {\r\n",
       "}\r\n",
       "comp usage \"x1\" as E4 << << (P,limegreen) part>> [[psysml:aa5ac9d5-4dfe-418e-90b4-d1e9d9002b4c ]] {\r\n",
       "}\r\n",
       "comp def \"P\" as E5 << << (B,green) >> [[psysml:fe1eabcd-2f5c-4c92-bec8-31bd54db8461 ]] {\r\n",
       "}\r\n",
       "comp usage \"y\" as E6 << << (P,limegreen) part>> [[psysml:06be23d5-21a7-42eb-83e3-f8e6bdc4a055 ]] {\r\n",
       "}\r\n",
       "comp usage \"p1\" as E7 << << (P,limegreen) part>> [[psysml:32e0c838-e55d-456a-ac80-3fd98b88adbf ]] {\r\n",
       "}\r\n",
       "E2 *- - \"1\"E3 [[psysml:96d6ab40-4f8f-4d11-a48f-d95a37d5e194 ]] \r\n",
       "E3 *- - \"1\"E4 [[psysml:15b45894-f404-4f26-aaef-cf96b8c0ca99 ]] \r\n",
       "E5 *- - \"1\"E6 [[psysml:e9a2dbd2-75b9-45f4-aecc-a2c2183931e9 ]] \r\n",
       "E2 -[thickness=3]- \"*\"E6 [[psysml:2b37c4a5-3576-4b38-9831-53a66373adf4 ]] \r\n",
       "E5 *- - \"1\"E7 [[psysml:0433d7bc-4d61-42a3-98d7-5077bd02d97e ]] \r\n",
       "E7 - -|> E2 [[psysml:d6550333-67eb-4da5-a08d-e8c2ba9c3c42 ]] \r\n",
       "}\r\n",
       "@enduml\r\n",
       "\n",
       "PlantUML version 1.2020.13(Sat Jun 13 12:26:38 UTC 2020)\n",
       "(EPL source distribution)\n",
       "Java Runtime: OpenJDK Runtime Environment\n",
       "JVM: OpenJDK 64-Bit Server VM\n",
       "Default Encoding: UTF-8\n",
       "Language: en\n",
       "Country: null\n",
       "--></g></svg>"
      ]
     },
     "execution_count": 36,
     "metadata": {},
     "output_type": "execute_result"
    }
   ],
   "source": [
    "%viz --style=\"PLANTUML\" --view=\"MIXED\" \"ConnectionTest\""
   ]
  },
  {
   "cell_type": "code",
   "execution_count": 37,
   "id": "0d54dc54",
   "metadata": {
    "execution": {
     "iopub.execute_input": "2021-08-04T06:28:54.068934Z",
     "iopub.status.busy": "2021-08-04T06:28:54.068525Z",
     "iopub.status.idle": "2021-08-04T06:28:54.095365Z",
     "shell.execute_reply": "2021-08-04T06:28:54.094195Z"
    }
   },
   "outputs": [
    {
     "data": {
      "image/svg+xml": [
       "<?xml version=\"1.0\" encoding=\"UTF-8\" standalone=\"no\"?><svg xmlns=\"http://www.w3.org/2000/svg\" xmlns:xlink=\"http://www.w3.org/1999/xlink\" contentScriptType=\"application/ecmascript\" contentStyleType=\"text/css\" height=\"539px\" preserveAspectRatio=\"none\" style=\"width:189px;height:539px;\" version=\"1.1\" viewBox=\"0 0 189 539\" width=\"189px\" zoomAndPan=\"magnify\"><defs/><g><!--MD5=[fbc87193dbaf4d95561dea2c320d4a47]\n",
       "cluster E1--><a href=\"psysml:316d1b7b-e6b7-4d49-a637-31383ba5712a\" target=\"_top\" title=\"psysml:316d1b7b-e6b7-4d49-a637-31383ba5712a\" xlink:actuate=\"onRequest\" xlink:href=\"psysml:316d1b7b-e6b7-4d49-a637-31383ba5712a\" xlink:show=\"new\" xlink:title=\"psysml:316d1b7b-e6b7-4d49-a637-31383ba5712a\" xlink:type=\"simple\"><polygon fill=\"#FFFFFF\" points=\"16,6,147,6,154,28.2969,167,28.2969,167,527,16,527,16,6\" style=\"stroke: #000000; stroke-width: 1.5;\"/><line style=\"stroke: #000000; stroke-width: 1.5;\" x1=\"16\" x2=\"154\" y1=\"28.2969\" y2=\"28.2969\"/><text fill=\"#000000\" font-family=\"sans-serif\" font-size=\"14\" font-weight=\"bold\" lengthAdjust=\"spacingAndGlyphs\" textLength=\"125\" x=\"20\" y=\"20.9951\">ConnectionTest</text></a><!--MD5=[b4997ac47864f28c2f74865a473b2911]\n",
       "class E2--><a href=\"psysml:c01c1eb8-4402-477c-affb-a3d93aa1c07f\" target=\"_top\" title=\"psysml:c01c1eb8-4402-477c-affb-a3d93aa1c07f\" xlink:actuate=\"onRequest\" xlink:href=\"psysml:c01c1eb8-4402-477c-affb-a3d93aa1c07f\" xlink:show=\"new\" xlink:title=\"psysml:c01c1eb8-4402-477c-affb-a3d93aa1c07f\" xlink:type=\"simple\"><rect fill=\"#FFFFFF\" height=\"45.9375\" id=\"E2\" rx=\"10\" ry=\"10\" style=\"stroke: #383838; stroke-width: 1.5;\" width=\"42\" x=\"89\" y=\"253\"/><text fill=\"#000000\" font-family=\"sans-serif\" font-size=\"12\" font-style=\"italic\" lengthAdjust=\"spacingAndGlyphs\" textLength=\"40\" x=\"90\" y=\"269.1387\">«part»</text><text fill=\"#000000\" font-family=\"sans-serif\" font-size=\"12\" lengthAdjust=\"spacingAndGlyphs\" textLength=\"8\" x=\"106\" y=\"283.1074\">p</text><line style=\"stroke: #383838; stroke-width: 1.5;\" x1=\"90\" x2=\"130\" y1=\"290.9375\" y2=\"290.9375\"/></a><!--MD5=[09b614a08d8cba4a07c9adeb5e0fee81]\n",
       "class E3--><a href=\"psysml:83a66275-79f9-4d22-aa8c-e03faa30289f\" target=\"_top\" title=\"psysml:83a66275-79f9-4d22-aa8c-e03faa30289f\" xlink:actuate=\"onRequest\" xlink:href=\"psysml:83a66275-79f9-4d22-aa8c-e03faa30289f\" xlink:show=\"new\" xlink:title=\"psysml:83a66275-79f9-4d22-aa8c-e03faa30289f\" xlink:type=\"simple\"><rect fill=\"#FFFFFF\" height=\"45.9375\" id=\"E3\" rx=\"10\" ry=\"10\" style=\"stroke: #383838; stroke-width: 1.5;\" width=\"42\" x=\"109\" y=\"359\"/><text fill=\"#000000\" font-family=\"sans-serif\" font-size=\"12\" font-style=\"italic\" lengthAdjust=\"spacingAndGlyphs\" textLength=\"40\" x=\"110\" y=\"375.1387\">«part»</text><text fill=\"#000000\" font-family=\"sans-serif\" font-size=\"12\" lengthAdjust=\"spacingAndGlyphs\" textLength=\"6\" x=\"127\" y=\"389.1074\">x</text><line style=\"stroke: #383838; stroke-width: 1.5;\" x1=\"110\" x2=\"150\" y1=\"396.9375\" y2=\"396.9375\"/></a><!--MD5=[ebbe1d658d1005bcc118a6aa81145e00]\n",
       "class E4--><a href=\"psysml:aa5ac9d5-4dfe-418e-90b4-d1e9d9002b4c\" target=\"_top\" title=\"psysml:aa5ac9d5-4dfe-418e-90b4-d1e9d9002b4c\" xlink:actuate=\"onRequest\" xlink:href=\"psysml:aa5ac9d5-4dfe-418e-90b4-d1e9d9002b4c\" xlink:show=\"new\" xlink:title=\"psysml:aa5ac9d5-4dfe-418e-90b4-d1e9d9002b4c\" xlink:type=\"simple\"><rect fill=\"#FFFFFF\" height=\"45.9375\" id=\"E4\" rx=\"10\" ry=\"10\" style=\"stroke: #383838; stroke-width: 1.5;\" width=\"42\" x=\"109\" y=\"465\"/><text fill=\"#000000\" font-family=\"sans-serif\" font-size=\"12\" font-style=\"italic\" lengthAdjust=\"spacingAndGlyphs\" textLength=\"40\" x=\"110\" y=\"481.1387\">«part»</text><text fill=\"#000000\" font-family=\"sans-serif\" font-size=\"12\" lengthAdjust=\"spacingAndGlyphs\" textLength=\"14\" x=\"123\" y=\"495.1074\">x1</text><line style=\"stroke: #383838; stroke-width: 1.5;\" x1=\"110\" x2=\"150\" y1=\"502.9375\" y2=\"502.9375\"/></a><!--MD5=[270fce915f116d4de14055a7c1d9a0f3]\n",
       "class E5--><a href=\"psysml:fe1eabcd-2f5c-4c92-bec8-31bd54db8461\" target=\"_top\" title=\"psysml:fe1eabcd-2f5c-4c92-bec8-31bd54db8461\" xlink:actuate=\"onRequest\" xlink:href=\"psysml:fe1eabcd-2f5c-4c92-bec8-31bd54db8461\" xlink:show=\"new\" xlink:title=\"psysml:fe1eabcd-2f5c-4c92-bec8-31bd54db8461\" xlink:type=\"simple\"><rect fill=\"#FFFFFF\" height=\"45.9375\" id=\"E5\" style=\"stroke: #383838; stroke-width: 1.5;\" width=\"66\" x=\"54\" y=\"41\"/><text fill=\"#000000\" font-family=\"sans-serif\" font-size=\"12\" font-style=\"italic\" lengthAdjust=\"spacingAndGlyphs\" textLength=\"64\" x=\"55\" y=\"57.1387\">«part def»</text><text fill=\"#000000\" font-family=\"sans-serif\" font-size=\"12\" lengthAdjust=\"spacingAndGlyphs\" textLength=\"8\" x=\"83\" y=\"71.1074\">P</text><line style=\"stroke: #383838; stroke-width: 1.5;\" x1=\"55\" x2=\"119\" y1=\"78.9375\" y2=\"78.9375\"/></a><!--MD5=[60a26617385b1d2d0262a64233df1f8d]\n",
       "class E6--><a href=\"psysml:06be23d5-21a7-42eb-83e3-f8e6bdc4a055\" target=\"_top\" title=\"psysml:06be23d5-21a7-42eb-83e3-f8e6bdc4a055\" xlink:actuate=\"onRequest\" xlink:href=\"psysml:06be23d5-21a7-42eb-83e3-f8e6bdc4a055\" xlink:show=\"new\" xlink:title=\"psysml:06be23d5-21a7-42eb-83e3-f8e6bdc4a055\" xlink:type=\"simple\"><rect fill=\"#FFFFFF\" height=\"45.9375\" id=\"E6\" rx=\"10\" ry=\"10\" style=\"stroke: #383838; stroke-width: 1.5;\" width=\"42\" x=\"32\" y=\"359\"/><text fill=\"#000000\" font-family=\"sans-serif\" font-size=\"12\" font-style=\"italic\" lengthAdjust=\"spacingAndGlyphs\" textLength=\"40\" x=\"33\" y=\"375.1387\">«part»</text><text fill=\"#000000\" font-family=\"sans-serif\" font-size=\"12\" lengthAdjust=\"spacingAndGlyphs\" textLength=\"6\" x=\"50\" y=\"389.1074\">y</text><line style=\"stroke: #383838; stroke-width: 1.5;\" x1=\"33\" x2=\"73\" y1=\"396.9375\" y2=\"396.9375\"/></a><!--MD5=[2156ba9850f5573cc1fc38a6a4b2f02b]\n",
       "class E7--><a href=\"psysml:32e0c838-e55d-456a-ac80-3fd98b88adbf\" target=\"_top\" title=\"psysml:32e0c838-e55d-456a-ac80-3fd98b88adbf\" xlink:actuate=\"onRequest\" xlink:href=\"psysml:32e0c838-e55d-456a-ac80-3fd98b88adbf\" xlink:show=\"new\" xlink:title=\"psysml:32e0c838-e55d-456a-ac80-3fd98b88adbf\" xlink:type=\"simple\"><rect fill=\"#FFFFFF\" height=\"45.9375\" id=\"E7\" rx=\"10\" ry=\"10\" style=\"stroke: #383838; stroke-width: 1.5;\" width=\"42\" x=\"89\" y=\"147\"/><text fill=\"#000000\" font-family=\"sans-serif\" font-size=\"12\" font-style=\"italic\" lengthAdjust=\"spacingAndGlyphs\" textLength=\"40\" x=\"90\" y=\"163.1387\">«part»</text><text fill=\"#000000\" font-family=\"sans-serif\" font-size=\"12\" lengthAdjust=\"spacingAndGlyphs\" textLength=\"16\" x=\"102\" y=\"177.1074\">p1</text><line style=\"stroke: #383838; stroke-width: 1.5;\" x1=\"90\" x2=\"130\" y1=\"184.9375\" y2=\"184.9375\"/></a><!--MD5=[209b3feb70ccb6233bfe1053d122c12c]\n",
       "reverse link E2 to E3--><a href=\"psysml:96d6ab40-4f8f-4d11-a48f-d95a37d5e194\" target=\"_top\" title=\"psysml:96d6ab40-4f8f-4d11-a48f-d95a37d5e194\" xlink:actuate=\"onRequest\" xlink:href=\"psysml:96d6ab40-4f8f-4d11-a48f-d95a37d5e194\" xlink:show=\"new\" xlink:title=\"psysml:96d6ab40-4f8f-4d11-a48f-d95a37d5e194\" xlink:type=\"simple\"><path d=\"M116.72,311.96 C119.71,327.51 123.14,345.33 125.76,358.98 \" fill=\"none\" id=\"E2&lt;-E3\" style=\"stroke: #383838; stroke-width: 1.0;\"/><polygon fill=\"#383838\" points=\"114.24,299.06,111.447,305.7082,116.5096,310.8434,119.3026,304.1952,114.24,299.06\" style=\"stroke: #383838; stroke-width: 1.0;\"/><text fill=\"#000000\" font-family=\"sans-serif\" font-size=\"13\" lengthAdjust=\"spacingAndGlyphs\" textLength=\"8\" x=\"115.5455\" y=\"347.8709\">1</text></a><!--MD5=[4672eba38e49728da53d11aeb285b987]\n",
       "reverse link E3 to E4--><a href=\"psysml:15b45894-f404-4f26-aaef-cf96b8c0ca99\" target=\"_top\" title=\"psysml:15b45894-f404-4f26-aaef-cf96b8c0ca99\" xlink:actuate=\"onRequest\" xlink:href=\"psysml:15b45894-f404-4f26-aaef-cf96b8c0ca99\" xlink:show=\"new\" xlink:title=\"psysml:15b45894-f404-4f26-aaef-cf96b8c0ca99\" xlink:type=\"simple\"><path d=\"M130,418.44 C130,433.87 130,451.47 130,464.98 \" fill=\"none\" id=\"E3&lt;-E4\" style=\"stroke: #383838; stroke-width: 1.0;\"/><polygon fill=\"#383838\" points=\"130,405.06,126,411.06,130,417.06,134,411.06,130,405.06\" style=\"stroke: #383838; stroke-width: 1.0;\"/><text fill=\"#000000\" font-family=\"sans-serif\" font-size=\"13\" lengthAdjust=\"spacingAndGlyphs\" textLength=\"8\" x=\"120.925\" y=\"453.8709\">1</text></a><!--MD5=[85d356282659285ab4b2cfe2f634dd2b]\n",
       "reverse link E5 to E6--><a href=\"psysml:e9a2dbd2-75b9-45f4-aecc-a2c2183931e9\" target=\"_top\" title=\"psysml:e9a2dbd2-75b9-45f4-aecc-a2c2183931e9\" xlink:actuate=\"onRequest\" xlink:href=\"psysml:e9a2dbd2-75b9-45f4-aecc-a2c2183931e9\" xlink:show=\"new\" xlink:title=\"psysml:e9a2dbd2-75b9-45f4-aecc-a2c2183931e9\" xlink:type=\"simple\"><path d=\"M79.77,100.15 C77.01,114.61 74.03,131.56 72,147 C61.78,224.59 56.2,317.42 54.05,358.98 \" fill=\"none\" id=\"E5&lt;-E6\" style=\"stroke: #383838; stroke-width: 1.0;\"/><polygon fill=\"#383838\" points=\"82.32,87.18,77.2408,92.2988,80.0123,98.956,85.0915,93.8372,82.32,87.18\" style=\"stroke: #383838; stroke-width: 1.0;\"/><text fill=\"#000000\" font-family=\"sans-serif\" font-size=\"13\" lengthAdjust=\"spacingAndGlyphs\" textLength=\"8\" x=\"45.2572\" y=\"347.8709\">1</text></a><!--MD5=[e3e28c1befcf002155aa15e1416b4315]\n",
       "link E2 to E6--><a href=\"psysml:2b37c4a5-3576-4b38-9831-53a66373adf4\" target=\"_top\" title=\"psysml:2b37c4a5-3576-4b38-9831-53a66373adf4\" xlink:actuate=\"onRequest\" xlink:href=\"psysml:2b37c4a5-3576-4b38-9831-53a66373adf4\" xlink:show=\"new\" xlink:title=\"psysml:2b37c4a5-3576-4b38-9831-53a66373adf4\" xlink:type=\"simple\"><path d=\"M97.91,299.06 C88.24,316.7 74.74,341.34 65.07,358.98 \" fill=\"none\" id=\"E2-E6\" style=\"stroke: #383838; stroke-width: 3.0;\"/><text fill=\"#000000\" font-family=\"sans-serif\" font-size=\"13\" lengthAdjust=\"spacingAndGlyphs\" textLength=\"7\" x=\"60.3732\" y=\"347.8709\">*</text></a><!--MD5=[452b418e7f8a40397a49b8c0a78acc5b]\n",
       "reverse link E5 to E7--><a href=\"psysml:0433d7bc-4d61-42a3-98d7-5077bd02d97e\" target=\"_top\" title=\"psysml:0433d7bc-4d61-42a3-98d7-5077bd02d97e\" xlink:actuate=\"onRequest\" xlink:href=\"psysml:0433d7bc-4d61-42a3-98d7-5077bd02d97e\" xlink:show=\"new\" xlink:title=\"psysml:0433d7bc-4d61-42a3-98d7-5077bd02d97e\" xlink:type=\"simple\"><path d=\"M94.73,99.96 C98.17,115.51 102.11,133.33 105.13,146.98 \" fill=\"none\" id=\"E5&lt;-E7\" style=\"stroke: #383838; stroke-width: 1.0;\"/><polygon fill=\"#383838\" points=\"91.88,87.06,89.2656,93.7805,94.4636,98.7786,97.078,92.0581,91.88,87.06\" style=\"stroke: #383838; stroke-width: 1.0;\"/><text fill=\"#000000\" font-family=\"sans-serif\" font-size=\"13\" lengthAdjust=\"spacingAndGlyphs\" textLength=\"8\" x=\"94.7462\" y=\"135.8709\">1</text></a><!--MD5=[583832df87f4419a098336a29a52fa00]\n",
       "link E7 to E2--><a href=\"psysml:d6550333-67eb-4da5-a08d-e8c2ba9c3c42\" target=\"_top\" title=\"psysml:d6550333-67eb-4da5-a08d-e8c2ba9c3c42\" xlink:actuate=\"onRequest\" xlink:href=\"psysml:d6550333-67eb-4da5-a08d-e8c2ba9c3c42\" xlink:show=\"new\" xlink:title=\"psysml:d6550333-67eb-4da5-a08d-e8c2ba9c3c42\" xlink:type=\"simple\"><path d=\"M110,193.06 C110,204.64 110,219.23 110,232.87 \" fill=\"none\" id=\"E7-&gt;E2\" style=\"stroke: #383838; stroke-width: 1.0;\"/><polygon fill=\"none\" points=\"117,232.98,110,252.98,103,232.98,117,232.98\" style=\"stroke: #383838; stroke-width: 1.0;\"/></a><!--MD5=[e51401d762d566f7047dfbf5bcc3bf99]\n",
       "@startuml\r\n",
       "skinparam monochrome true\r\n",
       "skinparam classbackgroundcolor white\r\n",
       "skinparam shadowing false\r\n",
       "skinparam wrapWidth 300\r\n",
       "hide circle\r\n",
       "\r\n",
       "package \"ConnectionTest\" as E1  [[psysml:316d1b7b-e6b7-4d49-a637-31383ba5712a ]]  {\r\n",
       "comp usage \"p\" as E2  <<(T,blue) part>> [[psysml:c01c1eb8-4402-477c-affb-a3d93aa1c07f ]] {\r\n",
       "}\r\n",
       "comp usage \"x\" as E3  <<(T,blue) part>> [[psysml:83a66275-79f9-4d22-aa8c-e03faa30289f ]] {\r\n",
       "}\r\n",
       "comp usage \"x1\" as E4  <<(T,blue) part>> [[psysml:aa5ac9d5-4dfe-418e-90b4-d1e9d9002b4c ]] {\r\n",
       "}\r\n",
       "comp def \"P\" as E5  <<(T,blue) part def>> [[psysml:fe1eabcd-2f5c-4c92-bec8-31bd54db8461 ]] {\r\n",
       "}\r\n",
       "comp usage \"y\" as E6  <<(T,blue) part>> [[psysml:06be23d5-21a7-42eb-83e3-f8e6bdc4a055 ]] {\r\n",
       "}\r\n",
       "comp usage \"p1\" as E7  <<(T,blue) part>> [[psysml:32e0c838-e55d-456a-ac80-3fd98b88adbf ]] {\r\n",
       "}\r\n",
       "E2 *- - \"1\"E3 [[psysml:96d6ab40-4f8f-4d11-a48f-d95a37d5e194 ]] \r\n",
       "E3 *- - \"1\"E4 [[psysml:15b45894-f404-4f26-aaef-cf96b8c0ca99 ]] \r\n",
       "E5 *- - \"1\"E6 [[psysml:e9a2dbd2-75b9-45f4-aecc-a2c2183931e9 ]] \r\n",
       "E2 -[thickness=3]- \"*\"E6 [[psysml:2b37c4a5-3576-4b38-9831-53a66373adf4 ]] \r\n",
       "E5 *- - \"1\"E7 [[psysml:0433d7bc-4d61-42a3-98d7-5077bd02d97e ]] \r\n",
       "E7 - -|> E2 [[psysml:d6550333-67eb-4da5-a08d-e8c2ba9c3c42 ]] \r\n",
       "}\r\n",
       "@enduml\r\n",
       "\n",
       "PlantUML version 1.2020.13(Sat Jun 13 12:26:38 UTC 2020)\n",
       "(EPL source distribution)\n",
       "Java Runtime: OpenJDK Runtime Environment\n",
       "JVM: OpenJDK 64-Bit Server VM\n",
       "Default Encoding: UTF-8\n",
       "Language: en\n",
       "Country: null\n",
       "--></g></svg>"
      ]
     },
     "execution_count": 37,
     "metadata": {},
     "output_type": "execute_result"
    }
   ],
   "source": [
    "%viz --style=\"DEFAULT\" --view=\"Default\" \"ConnectionTest\""
   ]
  },
  {
   "cell_type": "code",
   "execution_count": 38,
   "id": "9f3b0bb8",
   "metadata": {
    "execution": {
     "iopub.execute_input": "2021-08-04T06:28:54.145182Z",
     "iopub.status.busy": "2021-08-04T06:28:54.144767Z",
     "iopub.status.idle": "2021-08-04T06:28:54.173287Z",
     "shell.execute_reply": "2021-08-04T06:28:54.172927Z"
    }
   },
   "outputs": [
    {
     "data": {
      "image/svg+xml": [
       "<?xml version=\"1.0\" encoding=\"UTF-8\" standalone=\"no\"?><svg xmlns=\"http://www.w3.org/2000/svg\" xmlns:xlink=\"http://www.w3.org/1999/xlink\" contentScriptType=\"application/ecmascript\" contentStyleType=\"text/css\" height=\"539px\" preserveAspectRatio=\"none\" style=\"width:189px;height:539px;\" version=\"1.1\" viewBox=\"0 0 189 539\" width=\"189px\" zoomAndPan=\"magnify\"><defs/><g><!--MD5=[fbc87193dbaf4d95561dea2c320d4a47]\n",
       "cluster E1--><a href=\"psysml:316d1b7b-e6b7-4d49-a637-31383ba5712a\" target=\"_top\" title=\"psysml:316d1b7b-e6b7-4d49-a637-31383ba5712a\" xlink:actuate=\"onRequest\" xlink:href=\"psysml:316d1b7b-e6b7-4d49-a637-31383ba5712a\" xlink:show=\"new\" xlink:title=\"psysml:316d1b7b-e6b7-4d49-a637-31383ba5712a\" xlink:type=\"simple\"><polygon fill=\"#FFFFFF\" points=\"16,6,147,6,154,28.2969,167,28.2969,167,527,16,527,16,6\" style=\"stroke: #000000; stroke-width: 1.5;\"/><line style=\"stroke: #000000; stroke-width: 1.5;\" x1=\"16\" x2=\"154\" y1=\"28.2969\" y2=\"28.2969\"/><text fill=\"#000000\" font-family=\"sans-serif\" font-size=\"14\" font-weight=\"bold\" lengthAdjust=\"spacingAndGlyphs\" textLength=\"125\" x=\"20\" y=\"20.9951\">ConnectionTest</text></a><!--MD5=[b4997ac47864f28c2f74865a473b2911]\n",
       "class E2--><a href=\"psysml:c01c1eb8-4402-477c-affb-a3d93aa1c07f\" target=\"_top\" title=\"psysml:c01c1eb8-4402-477c-affb-a3d93aa1c07f\" xlink:actuate=\"onRequest\" xlink:href=\"psysml:c01c1eb8-4402-477c-affb-a3d93aa1c07f\" xlink:show=\"new\" xlink:title=\"psysml:c01c1eb8-4402-477c-affb-a3d93aa1c07f\" xlink:type=\"simple\"><rect fill=\"#FFFFFF\" height=\"45.9375\" id=\"E2\" rx=\"10\" ry=\"10\" style=\"stroke: #383838; stroke-width: 1.5;\" width=\"42\" x=\"89\" y=\"253\"/><text fill=\"#000000\" font-family=\"sans-serif\" font-size=\"12\" font-style=\"italic\" lengthAdjust=\"spacingAndGlyphs\" textLength=\"40\" x=\"90\" y=\"269.1387\">«part»</text><text fill=\"#000000\" font-family=\"sans-serif\" font-size=\"12\" lengthAdjust=\"spacingAndGlyphs\" textLength=\"8\" x=\"106\" y=\"283.1074\">p</text><line style=\"stroke: #383838; stroke-width: 1.5;\" x1=\"90\" x2=\"130\" y1=\"290.9375\" y2=\"290.9375\"/></a><!--MD5=[09b614a08d8cba4a07c9adeb5e0fee81]\n",
       "class E3--><a href=\"psysml:83a66275-79f9-4d22-aa8c-e03faa30289f\" target=\"_top\" title=\"psysml:83a66275-79f9-4d22-aa8c-e03faa30289f\" xlink:actuate=\"onRequest\" xlink:href=\"psysml:83a66275-79f9-4d22-aa8c-e03faa30289f\" xlink:show=\"new\" xlink:title=\"psysml:83a66275-79f9-4d22-aa8c-e03faa30289f\" xlink:type=\"simple\"><rect fill=\"#FFFFFF\" height=\"45.9375\" id=\"E3\" rx=\"10\" ry=\"10\" style=\"stroke: #383838; stroke-width: 1.5;\" width=\"42\" x=\"109\" y=\"359\"/><text fill=\"#000000\" font-family=\"sans-serif\" font-size=\"12\" font-style=\"italic\" lengthAdjust=\"spacingAndGlyphs\" textLength=\"40\" x=\"110\" y=\"375.1387\">«part»</text><text fill=\"#000000\" font-family=\"sans-serif\" font-size=\"12\" lengthAdjust=\"spacingAndGlyphs\" textLength=\"6\" x=\"127\" y=\"389.1074\">x</text><line style=\"stroke: #383838; stroke-width: 1.5;\" x1=\"110\" x2=\"150\" y1=\"396.9375\" y2=\"396.9375\"/></a><!--MD5=[ebbe1d658d1005bcc118a6aa81145e00]\n",
       "class E4--><a href=\"psysml:aa5ac9d5-4dfe-418e-90b4-d1e9d9002b4c\" target=\"_top\" title=\"psysml:aa5ac9d5-4dfe-418e-90b4-d1e9d9002b4c\" xlink:actuate=\"onRequest\" xlink:href=\"psysml:aa5ac9d5-4dfe-418e-90b4-d1e9d9002b4c\" xlink:show=\"new\" xlink:title=\"psysml:aa5ac9d5-4dfe-418e-90b4-d1e9d9002b4c\" xlink:type=\"simple\"><rect fill=\"#FFFFFF\" height=\"45.9375\" id=\"E4\" rx=\"10\" ry=\"10\" style=\"stroke: #383838; stroke-width: 1.5;\" width=\"42\" x=\"109\" y=\"465\"/><text fill=\"#000000\" font-family=\"sans-serif\" font-size=\"12\" font-style=\"italic\" lengthAdjust=\"spacingAndGlyphs\" textLength=\"40\" x=\"110\" y=\"481.1387\">«part»</text><text fill=\"#000000\" font-family=\"sans-serif\" font-size=\"12\" lengthAdjust=\"spacingAndGlyphs\" textLength=\"14\" x=\"123\" y=\"495.1074\">x1</text><line style=\"stroke: #383838; stroke-width: 1.5;\" x1=\"110\" x2=\"150\" y1=\"502.9375\" y2=\"502.9375\"/></a><!--MD5=[270fce915f116d4de14055a7c1d9a0f3]\n",
       "class E5--><a href=\"psysml:fe1eabcd-2f5c-4c92-bec8-31bd54db8461\" target=\"_top\" title=\"psysml:fe1eabcd-2f5c-4c92-bec8-31bd54db8461\" xlink:actuate=\"onRequest\" xlink:href=\"psysml:fe1eabcd-2f5c-4c92-bec8-31bd54db8461\" xlink:show=\"new\" xlink:title=\"psysml:fe1eabcd-2f5c-4c92-bec8-31bd54db8461\" xlink:type=\"simple\"><rect fill=\"#FFFFFF\" height=\"45.9375\" id=\"E5\" style=\"stroke: #383838; stroke-width: 1.5;\" width=\"66\" x=\"54\" y=\"41\"/><text fill=\"#000000\" font-family=\"sans-serif\" font-size=\"12\" font-style=\"italic\" lengthAdjust=\"spacingAndGlyphs\" textLength=\"64\" x=\"55\" y=\"57.1387\">«part def»</text><text fill=\"#000000\" font-family=\"sans-serif\" font-size=\"12\" lengthAdjust=\"spacingAndGlyphs\" textLength=\"8\" x=\"83\" y=\"71.1074\">P</text><line style=\"stroke: #383838; stroke-width: 1.5;\" x1=\"55\" x2=\"119\" y1=\"78.9375\" y2=\"78.9375\"/></a><!--MD5=[60a26617385b1d2d0262a64233df1f8d]\n",
       "class E6--><a href=\"psysml:06be23d5-21a7-42eb-83e3-f8e6bdc4a055\" target=\"_top\" title=\"psysml:06be23d5-21a7-42eb-83e3-f8e6bdc4a055\" xlink:actuate=\"onRequest\" xlink:href=\"psysml:06be23d5-21a7-42eb-83e3-f8e6bdc4a055\" xlink:show=\"new\" xlink:title=\"psysml:06be23d5-21a7-42eb-83e3-f8e6bdc4a055\" xlink:type=\"simple\"><rect fill=\"#FFFFFF\" height=\"45.9375\" id=\"E6\" rx=\"10\" ry=\"10\" style=\"stroke: #383838; stroke-width: 1.5;\" width=\"42\" x=\"32\" y=\"359\"/><text fill=\"#000000\" font-family=\"sans-serif\" font-size=\"12\" font-style=\"italic\" lengthAdjust=\"spacingAndGlyphs\" textLength=\"40\" x=\"33\" y=\"375.1387\">«part»</text><text fill=\"#000000\" font-family=\"sans-serif\" font-size=\"12\" lengthAdjust=\"spacingAndGlyphs\" textLength=\"6\" x=\"50\" y=\"389.1074\">y</text><line style=\"stroke: #383838; stroke-width: 1.5;\" x1=\"33\" x2=\"73\" y1=\"396.9375\" y2=\"396.9375\"/></a><!--MD5=[2156ba9850f5573cc1fc38a6a4b2f02b]\n",
       "class E7--><a href=\"psysml:32e0c838-e55d-456a-ac80-3fd98b88adbf\" target=\"_top\" title=\"psysml:32e0c838-e55d-456a-ac80-3fd98b88adbf\" xlink:actuate=\"onRequest\" xlink:href=\"psysml:32e0c838-e55d-456a-ac80-3fd98b88adbf\" xlink:show=\"new\" xlink:title=\"psysml:32e0c838-e55d-456a-ac80-3fd98b88adbf\" xlink:type=\"simple\"><rect fill=\"#FFFFFF\" height=\"45.9375\" id=\"E7\" rx=\"10\" ry=\"10\" style=\"stroke: #383838; stroke-width: 1.5;\" width=\"42\" x=\"89\" y=\"147\"/><text fill=\"#000000\" font-family=\"sans-serif\" font-size=\"12\" font-style=\"italic\" lengthAdjust=\"spacingAndGlyphs\" textLength=\"40\" x=\"90\" y=\"163.1387\">«part»</text><text fill=\"#000000\" font-family=\"sans-serif\" font-size=\"12\" lengthAdjust=\"spacingAndGlyphs\" textLength=\"16\" x=\"102\" y=\"177.1074\">p1</text><line style=\"stroke: #383838; stroke-width: 1.5;\" x1=\"90\" x2=\"130\" y1=\"184.9375\" y2=\"184.9375\"/></a><!--MD5=[209b3feb70ccb6233bfe1053d122c12c]\n",
       "reverse link E2 to E3--><a href=\"psysml:96d6ab40-4f8f-4d11-a48f-d95a37d5e194\" target=\"_top\" title=\"psysml:96d6ab40-4f8f-4d11-a48f-d95a37d5e194\" xlink:actuate=\"onRequest\" xlink:href=\"psysml:96d6ab40-4f8f-4d11-a48f-d95a37d5e194\" xlink:show=\"new\" xlink:title=\"psysml:96d6ab40-4f8f-4d11-a48f-d95a37d5e194\" xlink:type=\"simple\"><path d=\"M116.72,311.96 C119.71,327.51 123.14,345.33 125.76,358.98 \" fill=\"none\" id=\"E2&lt;-E3\" style=\"stroke: #383838; stroke-width: 1.0;\"/><polygon fill=\"#383838\" points=\"114.24,299.06,111.447,305.7082,116.5096,310.8434,119.3026,304.1952,114.24,299.06\" style=\"stroke: #383838; stroke-width: 1.0;\"/><text fill=\"#000000\" font-family=\"sans-serif\" font-size=\"13\" lengthAdjust=\"spacingAndGlyphs\" textLength=\"8\" x=\"115.5455\" y=\"347.8709\">1</text></a><!--MD5=[4672eba38e49728da53d11aeb285b987]\n",
       "reverse link E3 to E4--><a href=\"psysml:15b45894-f404-4f26-aaef-cf96b8c0ca99\" target=\"_top\" title=\"psysml:15b45894-f404-4f26-aaef-cf96b8c0ca99\" xlink:actuate=\"onRequest\" xlink:href=\"psysml:15b45894-f404-4f26-aaef-cf96b8c0ca99\" xlink:show=\"new\" xlink:title=\"psysml:15b45894-f404-4f26-aaef-cf96b8c0ca99\" xlink:type=\"simple\"><path d=\"M130,418.44 C130,433.87 130,451.47 130,464.98 \" fill=\"none\" id=\"E3&lt;-E4\" style=\"stroke: #383838; stroke-width: 1.0;\"/><polygon fill=\"#383838\" points=\"130,405.06,126,411.06,130,417.06,134,411.06,130,405.06\" style=\"stroke: #383838; stroke-width: 1.0;\"/><text fill=\"#000000\" font-family=\"sans-serif\" font-size=\"13\" lengthAdjust=\"spacingAndGlyphs\" textLength=\"8\" x=\"120.925\" y=\"453.8709\">1</text></a><!--MD5=[85d356282659285ab4b2cfe2f634dd2b]\n",
       "reverse link E5 to E6--><a href=\"psysml:e9a2dbd2-75b9-45f4-aecc-a2c2183931e9\" target=\"_top\" title=\"psysml:e9a2dbd2-75b9-45f4-aecc-a2c2183931e9\" xlink:actuate=\"onRequest\" xlink:href=\"psysml:e9a2dbd2-75b9-45f4-aecc-a2c2183931e9\" xlink:show=\"new\" xlink:title=\"psysml:e9a2dbd2-75b9-45f4-aecc-a2c2183931e9\" xlink:type=\"simple\"><path d=\"M79.77,100.15 C77.01,114.61 74.03,131.56 72,147 C61.78,224.59 56.2,317.42 54.05,358.98 \" fill=\"none\" id=\"E5&lt;-E6\" style=\"stroke: #383838; stroke-width: 1.0;\"/><polygon fill=\"#383838\" points=\"82.32,87.18,77.2408,92.2988,80.0123,98.956,85.0915,93.8372,82.32,87.18\" style=\"stroke: #383838; stroke-width: 1.0;\"/><text fill=\"#000000\" font-family=\"sans-serif\" font-size=\"13\" lengthAdjust=\"spacingAndGlyphs\" textLength=\"8\" x=\"45.2572\" y=\"347.8709\">1</text></a><!--MD5=[e3e28c1befcf002155aa15e1416b4315]\n",
       "link E2 to E6--><a href=\"psysml:2b37c4a5-3576-4b38-9831-53a66373adf4\" target=\"_top\" title=\"psysml:2b37c4a5-3576-4b38-9831-53a66373adf4\" xlink:actuate=\"onRequest\" xlink:href=\"psysml:2b37c4a5-3576-4b38-9831-53a66373adf4\" xlink:show=\"new\" xlink:title=\"psysml:2b37c4a5-3576-4b38-9831-53a66373adf4\" xlink:type=\"simple\"><path d=\"M97.91,299.06 C88.24,316.7 74.74,341.34 65.07,358.98 \" fill=\"none\" id=\"E2-E6\" style=\"stroke: #383838; stroke-width: 3.0;\"/><text fill=\"#000000\" font-family=\"sans-serif\" font-size=\"13\" lengthAdjust=\"spacingAndGlyphs\" textLength=\"7\" x=\"60.3732\" y=\"347.8709\">*</text></a><!--MD5=[452b418e7f8a40397a49b8c0a78acc5b]\n",
       "reverse link E5 to E7--><a href=\"psysml:0433d7bc-4d61-42a3-98d7-5077bd02d97e\" target=\"_top\" title=\"psysml:0433d7bc-4d61-42a3-98d7-5077bd02d97e\" xlink:actuate=\"onRequest\" xlink:href=\"psysml:0433d7bc-4d61-42a3-98d7-5077bd02d97e\" xlink:show=\"new\" xlink:title=\"psysml:0433d7bc-4d61-42a3-98d7-5077bd02d97e\" xlink:type=\"simple\"><path d=\"M94.73,99.96 C98.17,115.51 102.11,133.33 105.13,146.98 \" fill=\"none\" id=\"E5&lt;-E7\" style=\"stroke: #383838; stroke-width: 1.0;\"/><polygon fill=\"#383838\" points=\"91.88,87.06,89.2656,93.7805,94.4636,98.7786,97.078,92.0581,91.88,87.06\" style=\"stroke: #383838; stroke-width: 1.0;\"/><text fill=\"#000000\" font-family=\"sans-serif\" font-size=\"13\" lengthAdjust=\"spacingAndGlyphs\" textLength=\"8\" x=\"94.7462\" y=\"135.8709\">1</text></a><!--MD5=[583832df87f4419a098336a29a52fa00]\n",
       "link E7 to E2--><a href=\"psysml:d6550333-67eb-4da5-a08d-e8c2ba9c3c42\" target=\"_top\" title=\"psysml:d6550333-67eb-4da5-a08d-e8c2ba9c3c42\" xlink:actuate=\"onRequest\" xlink:href=\"psysml:d6550333-67eb-4da5-a08d-e8c2ba9c3c42\" xlink:show=\"new\" xlink:title=\"psysml:d6550333-67eb-4da5-a08d-e8c2ba9c3c42\" xlink:type=\"simple\"><path d=\"M110,193.06 C110,204.64 110,219.23 110,232.87 \" fill=\"none\" id=\"E7-&gt;E2\" style=\"stroke: #383838; stroke-width: 1.0;\"/><polygon fill=\"none\" points=\"117,232.98,110,252.98,103,232.98,117,232.98\" style=\"stroke: #383838; stroke-width: 1.0;\"/></a><!--MD5=[e51401d762d566f7047dfbf5bcc3bf99]\n",
       "@startuml\r\n",
       "skinparam monochrome true\r\n",
       "skinparam classbackgroundcolor white\r\n",
       "skinparam shadowing false\r\n",
       "skinparam wrapWidth 300\r\n",
       "hide circle\r\n",
       "\r\n",
       "package \"ConnectionTest\" as E1  [[psysml:316d1b7b-e6b7-4d49-a637-31383ba5712a ]]  {\r\n",
       "comp usage \"p\" as E2  <<(T,blue) part>> [[psysml:c01c1eb8-4402-477c-affb-a3d93aa1c07f ]] {\r\n",
       "}\r\n",
       "comp usage \"x\" as E3  <<(T,blue) part>> [[psysml:83a66275-79f9-4d22-aa8c-e03faa30289f ]] {\r\n",
       "}\r\n",
       "comp usage \"x1\" as E4  <<(T,blue) part>> [[psysml:aa5ac9d5-4dfe-418e-90b4-d1e9d9002b4c ]] {\r\n",
       "}\r\n",
       "comp def \"P\" as E5  <<(T,blue) part def>> [[psysml:fe1eabcd-2f5c-4c92-bec8-31bd54db8461 ]] {\r\n",
       "}\r\n",
       "comp usage \"y\" as E6  <<(T,blue) part>> [[psysml:06be23d5-21a7-42eb-83e3-f8e6bdc4a055 ]] {\r\n",
       "}\r\n",
       "comp usage \"p1\" as E7  <<(T,blue) part>> [[psysml:32e0c838-e55d-456a-ac80-3fd98b88adbf ]] {\r\n",
       "}\r\n",
       "E2 *- - \"1\"E3 [[psysml:96d6ab40-4f8f-4d11-a48f-d95a37d5e194 ]] \r\n",
       "E3 *- - \"1\"E4 [[psysml:15b45894-f404-4f26-aaef-cf96b8c0ca99 ]] \r\n",
       "E5 *- - \"1\"E6 [[psysml:e9a2dbd2-75b9-45f4-aecc-a2c2183931e9 ]] \r\n",
       "E2 -[thickness=3]- \"*\"E6 [[psysml:2b37c4a5-3576-4b38-9831-53a66373adf4 ]] \r\n",
       "E5 *- - \"1\"E7 [[psysml:0433d7bc-4d61-42a3-98d7-5077bd02d97e ]] \r\n",
       "E7 - -|> E2 [[psysml:d6550333-67eb-4da5-a08d-e8c2ba9c3c42 ]] \r\n",
       "}\r\n",
       "@enduml\r\n",
       "\n",
       "PlantUML version 1.2020.13(Sat Jun 13 12:26:38 UTC 2020)\n",
       "(EPL source distribution)\n",
       "Java Runtime: OpenJDK Runtime Environment\n",
       "JVM: OpenJDK 64-Bit Server VM\n",
       "Default Encoding: UTF-8\n",
       "Language: en\n",
       "Country: null\n",
       "--></g></svg>"
      ]
     },
     "execution_count": 38,
     "metadata": {},
     "output_type": "execute_result"
    }
   ],
   "source": [
    "%viz --style=\"DEFAULT\" --view=\"Tree\" \"ConnectionTest\""
   ]
  },
  {
   "cell_type": "code",
   "execution_count": 39,
   "id": "ad3bf1cf",
   "metadata": {
    "execution": {
     "iopub.execute_input": "2021-08-04T06:28:54.223122Z",
     "iopub.status.busy": "2021-08-04T06:28:54.222703Z",
     "iopub.status.idle": "2021-08-04T06:28:54.226848Z",
     "shell.execute_reply": "2021-08-04T06:28:54.227140Z"
    }
   },
   "outputs": [
    {
     "data": {
      "image/svg+xml": [
       "<?xml version=\"1.0\" encoding=\"UTF-8\" standalone=\"no\"?><svg xmlns=\"http://www.w3.org/2000/svg\" xmlns:xlink=\"http://www.w3.org/1999/xlink\" contentScriptType=\"application/ecmascript\" contentStyleType=\"text/css\" height=\"12px\" preserveAspectRatio=\"none\" style=\"width:12px;height:12px;\" version=\"1.1\" viewBox=\"0 0 12 12\" width=\"12px\" zoomAndPan=\"magnify\"><defs/><g><!--MD5=[c5f280e076d0d61ccf4b0f27871bda1d]\n",
       "@startuml\r\n",
       "skinparam monochrome true\r\n",
       "skinparam classbackgroundcolor white\r\n",
       "skinparam shadowing false\r\n",
       "skinparam wrapWidth 300\r\n",
       "hide circle\r\n",
       "\r\n",
       "@enduml\r\n",
       "\n",
       "PlantUML version 1.2020.13(Sat Jun 13 12:26:38 UTC 2020)\n",
       "(EPL source distribution)\n",
       "Java Runtime: OpenJDK Runtime Environment\n",
       "JVM: OpenJDK 64-Bit Server VM\n",
       "Default Encoding: UTF-8\n",
       "Language: en\n",
       "Country: null\n",
       "--></g></svg>"
      ]
     },
     "execution_count": 39,
     "metadata": {},
     "output_type": "execute_result"
    }
   ],
   "source": [
    "%viz --style=\"DEFAULT\" --view=\"State\" \"ConnectionTest\""
   ]
  },
  {
   "cell_type": "code",
   "execution_count": 40,
   "id": "59ce2ade",
   "metadata": {
    "execution": {
     "iopub.execute_input": "2021-08-04T06:28:54.277140Z",
     "iopub.status.busy": "2021-08-04T06:28:54.276729Z",
     "iopub.status.idle": "2021-08-04T06:28:54.302846Z",
     "shell.execute_reply": "2021-08-04T06:28:54.301637Z"
    }
   },
   "outputs": [
    {
     "data": {
      "image/svg+xml": [
       "<?xml version=\"1.0\" encoding=\"UTF-8\" standalone=\"no\"?><svg xmlns=\"http://www.w3.org/2000/svg\" xmlns:xlink=\"http://www.w3.org/1999/xlink\" contentScriptType=\"application/ecmascript\" contentStyleType=\"text/css\" height=\"406px\" preserveAspectRatio=\"none\" style=\"width:509px;height:406px;\" version=\"1.1\" viewBox=\"0 0 509 406\" width=\"509px\" zoomAndPan=\"magnify\"><defs/><g><!--MD5=[fbc87193dbaf4d95561dea2c320d4a47]\n",
       "cluster E1--><a href=\"psysml:316d1b7b-e6b7-4d49-a637-31383ba5712a\" target=\"_top\" title=\"psysml:316d1b7b-e6b7-4d49-a637-31383ba5712a\" xlink:actuate=\"onRequest\" xlink:href=\"psysml:316d1b7b-e6b7-4d49-a637-31383ba5712a\" xlink:show=\"new\" xlink:title=\"psysml:316d1b7b-e6b7-4d49-a637-31383ba5712a\" xlink:type=\"simple\"><polygon fill=\"#FFFFFF\" points=\"16,6,147,6,154,28.2969,487,28.2969,487,394,16,394,16,6\" style=\"stroke: #000000; stroke-width: 1.5;\"/><line style=\"stroke: #000000; stroke-width: 1.5;\" x1=\"16\" x2=\"154\" y1=\"28.2969\" y2=\"28.2969\"/><text fill=\"#000000\" font-family=\"sans-serif\" font-size=\"14\" font-weight=\"bold\" lengthAdjust=\"spacingAndGlyphs\" textLength=\"125\" x=\"20\" y=\"20.9951\">ConnectionTest</text></a><!--MD5=[e4f7fae6ed58524ba242bb0b0d3be6b7]\n",
       "cluster E2--><a href=\"psysml:c01c1eb8-4402-477c-affb-a3d93aa1c07f\" target=\"_top\" title=\"psysml:c01c1eb8-4402-477c-affb-a3d93aa1c07f\" xlink:actuate=\"onRequest\" xlink:href=\"psysml:c01c1eb8-4402-477c-affb-a3d93aa1c07f\" xlink:show=\"new\" xlink:title=\"psysml:c01c1eb8-4402-477c-affb-a3d93aa1c07f\" xlink:type=\"simple\"><rect fill=\"#FFFFFF\" height=\"174\" id=\"E2\" rx=\"10\" ry=\"10\" style=\"stroke: #383838; stroke-width: 1.5;\" width=\"154\" x=\"301\" y=\"116\"/><rect fill=\"#F8F8F8\" height=\"23.9688\" rx=\"10\" ry=\"10\" style=\"stroke: #F8F8F8; stroke-width: 1.5;\" width=\"154\" x=\"301\" y=\"116\"/><rect fill=\"#F8F8F8\" height=\"10\" style=\"stroke: #F8F8F8; stroke-width: 1.5;\" width=\"154\" x=\"301\" y=\"129.9688\"/><rect fill=\"none\" height=\"174\" id=\"E2\" rx=\"10\" ry=\"10\" style=\"stroke: #383838; stroke-width: 1.5;\" width=\"154\" x=\"301\" y=\"116\"/><text fill=\"#000000\" font-family=\"sans-serif\" font-size=\"12\" lengthAdjust=\"spacingAndGlyphs\" textLength=\"8\" x=\"374\" y=\"132.1387\">p</text><line style=\"stroke: #383838; stroke-width: 1.0;\" x1=\"301\" x2=\"455\" y1=\"139.9688\" y2=\"139.9688\"/></a><!--MD5=[d5e69f78d87373223dbae638b30a9c99]\n",
       "cluster E3--><a href=\"psysml:83a66275-79f9-4d22-aa8c-e03faa30289f\" target=\"_top\" title=\"psysml:83a66275-79f9-4d22-aa8c-e03faa30289f\" xlink:actuate=\"onRequest\" xlink:href=\"psysml:83a66275-79f9-4d22-aa8c-e03faa30289f\" xlink:show=\"new\" xlink:title=\"psysml:83a66275-79f9-4d22-aa8c-e03faa30289f\" xlink:type=\"simple\"><rect fill=\"#FFFFFF\" height=\"91\" id=\"E3\" rx=\"10\" ry=\"10\" style=\"stroke: #383838; stroke-width: 1.5;\" width=\"82\" x=\"341\" y=\"167\"/><rect fill=\"#F8F8F8\" height=\"23.9688\" rx=\"10\" ry=\"10\" style=\"stroke: #F8F8F8; stroke-width: 1.5;\" width=\"82\" x=\"341\" y=\"167\"/><rect fill=\"#F8F8F8\" height=\"10\" style=\"stroke: #F8F8F8; stroke-width: 1.5;\" width=\"82\" x=\"341\" y=\"180.9688\"/><rect fill=\"none\" height=\"91\" id=\"E3\" rx=\"10\" ry=\"10\" style=\"stroke: #383838; stroke-width: 1.5;\" width=\"82\" x=\"341\" y=\"167\"/><text fill=\"#000000\" font-family=\"sans-serif\" font-size=\"12\" lengthAdjust=\"spacingAndGlyphs\" textLength=\"6\" x=\"379\" y=\"183.1387\">x</text><line style=\"stroke: #383838; stroke-width: 1.0;\" x1=\"341\" x2=\"423\" y1=\"190.9688\" y2=\"190.9688\"/></a><!--MD5=[de5ec2e2e8f62f467e546659f5068c88]\n",
       "cluster E5--><a href=\"psysml:fe1eabcd-2f5c-4c92-bec8-31bd54db8461\" target=\"_top\" title=\"psysml:fe1eabcd-2f5c-4c92-bec8-31bd54db8461\" xlink:actuate=\"onRequest\" xlink:href=\"psysml:fe1eabcd-2f5c-4c92-bec8-31bd54db8461\" xlink:show=\"new\" xlink:title=\"psysml:fe1eabcd-2f5c-4c92-bec8-31bd54db8461\" xlink:type=\"simple\"><rect fill=\"#FFFFFF\" height=\"321\" id=\"E5\" style=\"stroke: #383838; stroke-width: 1.5;\" width=\"229\" x=\"40\" y=\"49\"/><rect fill=\"#F8F8F8\" height=\"37.9375\" style=\"stroke: #383838; stroke-width: 1.5;\" width=\"229\" x=\"40\" y=\"49\"/><text fill=\"#000000\" font-family=\"sans-serif\" font-size=\"12\" font-style=\"italic\" lengthAdjust=\"spacingAndGlyphs\" textLength=\"64\" x=\"122.5\" y=\"65.1387\">«part def»</text><text fill=\"#000000\" font-family=\"sans-serif\" font-size=\"12\" lengthAdjust=\"spacingAndGlyphs\" textLength=\"8\" x=\"150.5\" y=\"79.1074\">P</text></a><!--MD5=[168fadf3d0c3fd93dd5d6da1b1d7ab76]\n",
       "cluster E7--><a href=\"psysml:32e0c838-e55d-456a-ac80-3fd98b88adbf\" target=\"_top\" title=\"psysml:32e0c838-e55d-456a-ac80-3fd98b88adbf\" xlink:actuate=\"onRequest\" xlink:href=\"psysml:32e0c838-e55d-456a-ac80-3fd98b88adbf\" xlink:show=\"new\" xlink:title=\"psysml:32e0c838-e55d-456a-ac80-3fd98b88adbf\" xlink:type=\"simple\"><rect fill=\"#FFFFFF\" height=\"190\" id=\"E7\" rx=\"10\" ry=\"10\" style=\"stroke: #383838; stroke-width: 1.5;\" width=\"181\" x=\"64\" y=\"108\"/><rect fill=\"#F8F8F8\" height=\"23.9688\" rx=\"10\" ry=\"10\" style=\"stroke: #F8F8F8; stroke-width: 1.5;\" width=\"181\" x=\"64\" y=\"108\"/><rect fill=\"#F8F8F8\" height=\"10\" style=\"stroke: #F8F8F8; stroke-width: 1.5;\" width=\"181\" x=\"64\" y=\"121.9688\"/><rect fill=\"none\" height=\"190\" id=\"E7\" rx=\"10\" ry=\"10\" style=\"stroke: #383838; stroke-width: 1.5;\" width=\"181\" x=\"64\" y=\"108\"/><text fill=\"#000000\" font-family=\"sans-serif\" font-size=\"12\" lengthAdjust=\"spacingAndGlyphs\" textLength=\"16\" x=\"146.5\" y=\"124.1387\">p1</text><line style=\"stroke: #383838; stroke-width: 1.0;\" x1=\"64\" x2=\"245\" y1=\"131.9688\" y2=\"131.9688\"/></a><!--MD5=[55dfccfc6c49c2d10cd1bd2211a6c90c]\n",
       "cluster E8--><a href=\"psysml:83a66275-79f9-4d22-aa8c-e03faa30289f\" target=\"_top\" title=\"psysml:83a66275-79f9-4d22-aa8c-e03faa30289f\" xlink:actuate=\"onRequest\" xlink:href=\"psysml:83a66275-79f9-4d22-aa8c-e03faa30289f\" xlink:show=\"new\" xlink:title=\"psysml:83a66275-79f9-4d22-aa8c-e03faa30289f\" xlink:type=\"simple\"><rect fill=\"#FFFFFF\" height=\"107\" id=\"E8\" rx=\"10\" ry=\"10\" style=\"stroke: #383838; stroke-width: 1.5;\" width=\"117\" x=\"96\" y=\"159\"/><rect fill=\"#F8F8F8\" height=\"23.9688\" rx=\"10\" ry=\"10\" style=\"stroke: #F8F8F8; stroke-width: 1.5;\" width=\"117\" x=\"96\" y=\"159\"/><rect fill=\"#F8F8F8\" height=\"10\" style=\"stroke: #F8F8F8; stroke-width: 1.5;\" width=\"117\" x=\"96\" y=\"172.9688\"/><rect fill=\"none\" height=\"107\" id=\"E8\" rx=\"10\" ry=\"10\" style=\"stroke: #383838; stroke-width: 1.5;\" width=\"117\" x=\"96\" y=\"159\"/><text fill=\"#000000\" font-family=\"sans-serif\" font-size=\"12\" lengthAdjust=\"spacingAndGlyphs\" textLength=\"16\" x=\"146.5\" y=\"175.1387\">^x</text><line style=\"stroke: #383838; stroke-width: 1.0;\" x1=\"96\" x2=\"213\" y1=\"182.9688\" y2=\"182.9688\"/></a><g id=\"E1.E2.E3.E4\"><a href=\"psysml:aa5ac9d5-4dfe-418e-90b4-d1e9d9002b4c\" target=\"_top\" title=\"psysml:aa5ac9d5-4dfe-418e-90b4-d1e9d9002b4c\" xlink:actuate=\"onRequest\" xlink:href=\"psysml:aa5ac9d5-4dfe-418e-90b4-d1e9d9002b4c\" xlink:show=\"new\" xlink:title=\"psysml:aa5ac9d5-4dfe-418e-90b4-d1e9d9002b4c\" xlink:type=\"simple\"><rect fill=\"#FFFFFF\" height=\"40\" id=\"E4\" rx=\"10\" ry=\"10\" style=\"stroke: #383838; stroke-width: 1.5;\" width=\"50\" x=\"357\" y=\"202\"/><rect fill=\"#F8F8F8\" height=\"23.9688\" rx=\"10\" ry=\"10\" style=\"stroke: #F8F8F8; stroke-width: 1.5;\" width=\"50\" x=\"357\" y=\"202\"/><rect fill=\"#F8F8F8\" height=\"10\" style=\"stroke: #F8F8F8; stroke-width: 1.5;\" width=\"50\" x=\"357\" y=\"215.9688\"/><rect fill=\"none\" height=\"40\" id=\"E4\" rx=\"10\" ry=\"10\" style=\"stroke: #383838; stroke-width: 1.5;\" width=\"50\" x=\"357\" y=\"202\"/><text fill=\"#000000\" font-family=\"sans-serif\" font-size=\"12\" lengthAdjust=\"spacingAndGlyphs\" textLength=\"14\" x=\"375\" y=\"218.1387\">x1</text></a></g><g id=\"E1.E5.E6\"><a href=\"psysml:06be23d5-21a7-42eb-83e3-f8e6bdc4a055\" target=\"_top\" title=\"psysml:06be23d5-21a7-42eb-83e3-f8e6bdc4a055\" xlink:actuate=\"onRequest\" xlink:href=\"psysml:06be23d5-21a7-42eb-83e3-f8e6bdc4a055\" xlink:show=\"new\" xlink:title=\"psysml:06be23d5-21a7-42eb-83e3-f8e6bdc4a055\" xlink:type=\"simple\"><rect fill=\"#FFFFFF\" height=\"40\" id=\"E6\" rx=\"10\" ry=\"10\" style=\"stroke: #383838; stroke-width: 1.5;\" width=\"50\" x=\"139\" y=\"314\"/><rect fill=\"#F8F8F8\" height=\"23.9688\" rx=\"10\" ry=\"10\" style=\"stroke: #F8F8F8; stroke-width: 1.5;\" width=\"50\" x=\"139\" y=\"314\"/><rect fill=\"#F8F8F8\" height=\"10\" style=\"stroke: #F8F8F8; stroke-width: 1.5;\" width=\"50\" x=\"139\" y=\"327.9688\"/><rect fill=\"none\" height=\"40\" id=\"E6\" rx=\"10\" ry=\"10\" style=\"stroke: #383838; stroke-width: 1.5;\" width=\"50\" x=\"139\" y=\"314\"/><text fill=\"#000000\" font-family=\"sans-serif\" font-size=\"12\" lengthAdjust=\"spacingAndGlyphs\" textLength=\"6\" x=\"161\" y=\"330.1387\">y</text></a></g><g id=\"E1.E5.E7.E8.E9\"><a href=\"psysml:aa5ac9d5-4dfe-418e-90b4-d1e9d9002b4c\" target=\"_top\" title=\"psysml:aa5ac9d5-4dfe-418e-90b4-d1e9d9002b4c\" xlink:actuate=\"onRequest\" xlink:href=\"psysml:aa5ac9d5-4dfe-418e-90b4-d1e9d9002b4c\" xlink:show=\"new\" xlink:title=\"psysml:aa5ac9d5-4dfe-418e-90b4-d1e9d9002b4c\" xlink:type=\"simple\"><rect fill=\"#FFFFFF\" height=\"40\" id=\"E9\" rx=\"10\" ry=\"10\" style=\"stroke: #383838; stroke-width: 1.5;\" width=\"50\" x=\"139\" y=\"202\"/><rect fill=\"#F8F8F8\" height=\"23.9688\" rx=\"10\" ry=\"10\" style=\"stroke: #F8F8F8; stroke-width: 1.5;\" width=\"50\" x=\"139\" y=\"202\"/><rect fill=\"#F8F8F8\" height=\"10\" style=\"stroke: #F8F8F8; stroke-width: 1.5;\" width=\"50\" x=\"139\" y=\"215.9688\"/><rect fill=\"none\" height=\"40\" id=\"E9\" rx=\"10\" ry=\"10\" style=\"stroke: #383838; stroke-width: 1.5;\" width=\"50\" x=\"139\" y=\"202\"/><text fill=\"#000000\" font-family=\"sans-serif\" font-size=\"12\" lengthAdjust=\"spacingAndGlyphs\" textLength=\"14\" x=\"157\" y=\"218.1387\">x1</text></a></g><!--MD5=[e3e28c1befcf002155aa15e1416b4315]\n",
       "link E2 to E6--><a href=\"psysml:2b37c4a5-3576-4b38-9831-53a66373adf4\" target=\"_top\" title=\"psysml:2b37c4a5-3576-4b38-9831-53a66373adf4\" xlink:actuate=\"onRequest\" xlink:href=\"psysml:2b37c4a5-3576-4b38-9831-53a66373adf4\" xlink:show=\"new\" xlink:title=\"psysml:2b37c4a5-3576-4b38-9831-53a66373adf4\" xlink:type=\"simple\"><path d=\"M300.7532,230.0089 C300.6678,230.081 300.5818,230.1536 300.4952,230.2266 C300.3221,230.3728 300.1466,230.5208 299.9687,230.6708 C299.2574,231.2706 298.509,231.9009 297.7253,232.56 C291.4556,237.8325 282.9263,244.945 273.0525,253.02 C253.305,269.17 228.18,289.17 205,306 C200.03,309.61 194.62,313.32 189.4,316.79 \" fill=\"none\" id=\"E2-E6\" style=\"stroke: #383838; stroke-width: 3.0;\"/><text fill=\"#000000\" font-family=\"sans-serif\" font-size=\"13\" lengthAdjust=\"spacingAndGlyphs\" textLength=\"7\" x=\"197.1669\" y=\"307.2339\">*</text></a><!--MD5=[c5e8897d989ce984f93528998a7150fe]\n",
       "link E8 to E6--><a href=\"psysml:55b22e92-f05f-458a-a067-1c48392866cc\" target=\"_top\" title=\"psysml:55b22e92-f05f-458a-a067-1c48392866cc\" xlink:actuate=\"onRequest\" xlink:href=\"psysml:55b22e92-f05f-458a-a067-1c48392866cc\" xlink:show=\"new\" xlink:title=\"psysml:55b22e92-f05f-458a-a067-1c48392866cc\" xlink:type=\"simple\"><path d=\"M107.5144,266.114 C107.5418,266.252 107.5694,266.3902 107.5972,266.5284 C107.6527,266.8049 107.7091,267.0817 107.7663,267.3589 C108.6814,271.7933 109.8082,276.3099 111.1942,280.7795 C113.9663,289.7188 117.775,298.47 123,306 C127.08,311.88 132.9,316.81 138.87,320.78 \" fill=\"none\" id=\"E8-E6\" style=\"stroke: #383838; stroke-width: 3.0;\"/><text fill=\"#000000\" font-family=\"sans-serif\" font-size=\"13\" lengthAdjust=\"spacingAndGlyphs\" textLength=\"7\" x=\"124.1757\" y=\"312.2962\">*</text></a><!--MD5=[60ac2c0cde89d4308155b0484e57a8ec]\n",
       "link E9 to E6--><a href=\"psysml:f5fd66b3-5ce3-4ce3-99f1-5aad5efc9456\" target=\"_top\" title=\"psysml:f5fd66b3-5ce3-4ce3-99f1-5aad5efc9456\" xlink:actuate=\"onRequest\" xlink:href=\"psysml:f5fd66b3-5ce3-4ce3-99f1-5aad5efc9456\" xlink:show=\"new\" xlink:title=\"psysml:f5fd66b3-5ce3-4ce3-99f1-5aad5efc9456\" xlink:type=\"simple\"><path d=\"M164,242.16 C164,262.23 164,293.57 164,313.69 \" fill=\"none\" id=\"E9-E6\" style=\"stroke: #383838; stroke-width: 3.0;\"/><text fill=\"#000000\" font-family=\"sans-serif\" font-size=\"13\" lengthAdjust=\"spacingAndGlyphs\" textLength=\"7\" x=\"156.0156\" y=\"302.954\">*</text></a><!--MD5=[c838c7fd36ccdb5d40a58d36010f6b60]\n",
       "@startuml\r\n",
       "skinparam ranksep 10\r\n",
       "skinparam rectangle {\r\n",
       " backgroundColor<<block>> LightGreen\r\n",
       "}\r\n",
       "skinparam monochrome true\r\n",
       "skinparam classbackgroundcolor white\r\n",
       "skinparam shadowing false\r\n",
       "skinparam wrapWidth 300\r\n",
       "hide circle\r\n",
       "\r\n",
       "package \"ConnectionTest\" as E1  [[psysml:316d1b7b-e6b7-4d49-a637-31383ba5712a ]]  {\r\n",
       "rec usage \"p\" as E2  [[psysml:c01c1eb8-4402-477c-affb-a3d93aa1c07f ]] {\r\n",
       "rec usage \"x\" as E3  [[psysml:83a66275-79f9-4d22-aa8c-e03faa30289f ]] {\r\n",
       "rec usage \"x1\" as E4  [[psysml:aa5ac9d5-4dfe-418e-90b4-d1e9d9002b4c ]] {\r\n",
       "}\r\n",
       "}\r\n",
       "}\r\n",
       "rec def \"P\" as E5  <<(T,blue) part def>> [[psysml:fe1eabcd-2f5c-4c92-bec8-31bd54db8461 ]] {\r\n",
       "rec usage \"y\" as E6  [[psysml:06be23d5-21a7-42eb-83e3-f8e6bdc4a055 ]] {\r\n",
       "}\r\n",
       "rec usage \"p1\" as E7  [[psysml:32e0c838-e55d-456a-ac80-3fd98b88adbf ]] {\r\n",
       "rec usage \"^x\" as E8  [[psysml:83a66275-79f9-4d22-aa8c-e03faa30289f ]] {\r\n",
       "rec usage \"x1\" as E9  [[psysml:aa5ac9d5-4dfe-418e-90b4-d1e9d9002b4c ]] {\r\n",
       "}\r\n",
       "}\r\n",
       "}\r\n",
       "}\r\n",
       "E2 -[thickness=3]- \"*\"E6 [[psysml:2b37c4a5-3576-4b38-9831-53a66373adf4 ]] \r\n",
       "E8 -[thickness=3]- \"*\"E6 [[psysml:55b22e92-f05f-458a-a067-1c48392866cc ]] \r\n",
       "E9 -[thickness=3]- \"*\"E6 [[psysml:f5fd66b3-5ce3-4ce3-99f1-5aad5efc9456 ]] \r\n",
       "}\r\n",
       "@enduml\r\n",
       "\n",
       "PlantUML version 1.2020.13(Sat Jun 13 12:26:38 UTC 2020)\n",
       "(EPL source distribution)\n",
       "Java Runtime: OpenJDK Runtime Environment\n",
       "JVM: OpenJDK 64-Bit Server VM\n",
       "Default Encoding: UTF-8\n",
       "Language: en\n",
       "Country: null\n",
       "--></g></svg>"
      ]
     },
     "execution_count": 40,
     "metadata": {},
     "output_type": "execute_result"
    }
   ],
   "source": [
    "%viz --style=\"DEFAULT\" --view=\"Interconnection\" \"ConnectionTest\""
   ]
  },
  {
   "cell_type": "code",
   "execution_count": 41,
   "id": "70a2a068",
   "metadata": {
    "execution": {
     "iopub.execute_input": "2021-08-04T06:28:54.352404Z",
     "iopub.status.busy": "2021-08-04T06:28:54.351987Z",
     "iopub.status.idle": "2021-08-04T06:28:54.355562Z",
     "shell.execute_reply": "2021-08-04T06:28:54.355187Z"
    }
   },
   "outputs": [
    {
     "data": {
      "image/svg+xml": [
       "<?xml version=\"1.0\" encoding=\"UTF-8\" standalone=\"no\"?><svg xmlns=\"http://www.w3.org/2000/svg\" xmlns:xlink=\"http://www.w3.org/1999/xlink\" contentScriptType=\"application/ecmascript\" contentStyleType=\"text/css\" height=\"12px\" preserveAspectRatio=\"none\" style=\"width:12px;height:12px;\" version=\"1.1\" viewBox=\"0 0 12 12\" width=\"12px\" zoomAndPan=\"magnify\"><defs/><g><!--MD5=[388f21188e31bfdd97050473b19af356]\n",
       "@startuml\r\n",
       "skinparam ranksep 8\r\n",
       "skinparam monochrome true\r\n",
       "skinparam classbackgroundcolor white\r\n",
       "skinparam shadowing false\r\n",
       "skinparam wrapWidth 300\r\n",
       "hide circle\r\n",
       "\r\n",
       "@enduml\r\n",
       "\n",
       "PlantUML version 1.2020.13(Sat Jun 13 12:26:38 UTC 2020)\n",
       "(EPL source distribution)\n",
       "Java Runtime: OpenJDK Runtime Environment\n",
       "JVM: OpenJDK 64-Bit Server VM\n",
       "Default Encoding: UTF-8\n",
       "Language: en\n",
       "Country: null\n",
       "--></g></svg>"
      ]
     },
     "execution_count": 41,
     "metadata": {},
     "output_type": "execute_result"
    }
   ],
   "source": [
    "%viz --style=\"DEFAULT\" --view=\"Action\" \"ConnectionTest\""
   ]
  },
  {
   "cell_type": "code",
   "execution_count": 42,
   "id": "94e159c0",
   "metadata": {
    "execution": {
     "iopub.execute_input": "2021-08-04T06:28:54.405556Z",
     "iopub.status.busy": "2021-08-04T06:28:54.405153Z",
     "iopub.status.idle": "2021-08-04T06:28:54.430238Z",
     "shell.execute_reply": "2021-08-04T06:28:54.429070Z"
    }
   },
   "outputs": [
    {
     "data": {
      "image/svg+xml": [
       "<?xml version=\"1.0\" encoding=\"UTF-8\" standalone=\"no\"?><svg xmlns=\"http://www.w3.org/2000/svg\" xmlns:xlink=\"http://www.w3.org/1999/xlink\" contentScriptType=\"application/ecmascript\" contentStyleType=\"text/css\" height=\"539px\" preserveAspectRatio=\"none\" style=\"width:189px;height:539px;\" version=\"1.1\" viewBox=\"0 0 189 539\" width=\"189px\" zoomAndPan=\"magnify\"><defs/><g><!--MD5=[fbc87193dbaf4d95561dea2c320d4a47]\n",
       "cluster E1--><a href=\"psysml:316d1b7b-e6b7-4d49-a637-31383ba5712a\" target=\"_top\" title=\"psysml:316d1b7b-e6b7-4d49-a637-31383ba5712a\" xlink:actuate=\"onRequest\" xlink:href=\"psysml:316d1b7b-e6b7-4d49-a637-31383ba5712a\" xlink:show=\"new\" xlink:title=\"psysml:316d1b7b-e6b7-4d49-a637-31383ba5712a\" xlink:type=\"simple\"><polygon fill=\"#FFFFFF\" points=\"16,6,147,6,154,28.2969,167,28.2969,167,527,16,527,16,6\" style=\"stroke: #000000; stroke-width: 1.5;\"/><line style=\"stroke: #000000; stroke-width: 1.5;\" x1=\"16\" x2=\"154\" y1=\"28.2969\" y2=\"28.2969\"/><text fill=\"#000000\" font-family=\"sans-serif\" font-size=\"14\" font-weight=\"bold\" lengthAdjust=\"spacingAndGlyphs\" textLength=\"125\" x=\"20\" y=\"20.9951\">ConnectionTest</text></a><!--MD5=[b4997ac47864f28c2f74865a473b2911]\n",
       "class E2--><a href=\"psysml:c01c1eb8-4402-477c-affb-a3d93aa1c07f\" target=\"_top\" title=\"psysml:c01c1eb8-4402-477c-affb-a3d93aa1c07f\" xlink:actuate=\"onRequest\" xlink:href=\"psysml:c01c1eb8-4402-477c-affb-a3d93aa1c07f\" xlink:show=\"new\" xlink:title=\"psysml:c01c1eb8-4402-477c-affb-a3d93aa1c07f\" xlink:type=\"simple\"><rect fill=\"#FFFFFF\" height=\"45.9375\" id=\"E2\" rx=\"10\" ry=\"10\" style=\"stroke: #383838; stroke-width: 1.5;\" width=\"42\" x=\"89\" y=\"253\"/><text fill=\"#000000\" font-family=\"sans-serif\" font-size=\"12\" font-style=\"italic\" lengthAdjust=\"spacingAndGlyphs\" textLength=\"40\" x=\"90\" y=\"269.1387\">«part»</text><text fill=\"#000000\" font-family=\"sans-serif\" font-size=\"12\" lengthAdjust=\"spacingAndGlyphs\" textLength=\"8\" x=\"106\" y=\"283.1074\">p</text><line style=\"stroke: #383838; stroke-width: 1.5;\" x1=\"90\" x2=\"130\" y1=\"290.9375\" y2=\"290.9375\"/></a><!--MD5=[09b614a08d8cba4a07c9adeb5e0fee81]\n",
       "class E3--><a href=\"psysml:83a66275-79f9-4d22-aa8c-e03faa30289f\" target=\"_top\" title=\"psysml:83a66275-79f9-4d22-aa8c-e03faa30289f\" xlink:actuate=\"onRequest\" xlink:href=\"psysml:83a66275-79f9-4d22-aa8c-e03faa30289f\" xlink:show=\"new\" xlink:title=\"psysml:83a66275-79f9-4d22-aa8c-e03faa30289f\" xlink:type=\"simple\"><rect fill=\"#FFFFFF\" height=\"45.9375\" id=\"E3\" rx=\"10\" ry=\"10\" style=\"stroke: #383838; stroke-width: 1.5;\" width=\"42\" x=\"109\" y=\"359\"/><text fill=\"#000000\" font-family=\"sans-serif\" font-size=\"12\" font-style=\"italic\" lengthAdjust=\"spacingAndGlyphs\" textLength=\"40\" x=\"110\" y=\"375.1387\">«part»</text><text fill=\"#000000\" font-family=\"sans-serif\" font-size=\"12\" lengthAdjust=\"spacingAndGlyphs\" textLength=\"6\" x=\"127\" y=\"389.1074\">x</text><line style=\"stroke: #383838; stroke-width: 1.5;\" x1=\"110\" x2=\"150\" y1=\"396.9375\" y2=\"396.9375\"/></a><!--MD5=[ebbe1d658d1005bcc118a6aa81145e00]\n",
       "class E4--><a href=\"psysml:aa5ac9d5-4dfe-418e-90b4-d1e9d9002b4c\" target=\"_top\" title=\"psysml:aa5ac9d5-4dfe-418e-90b4-d1e9d9002b4c\" xlink:actuate=\"onRequest\" xlink:href=\"psysml:aa5ac9d5-4dfe-418e-90b4-d1e9d9002b4c\" xlink:show=\"new\" xlink:title=\"psysml:aa5ac9d5-4dfe-418e-90b4-d1e9d9002b4c\" xlink:type=\"simple\"><rect fill=\"#FFFFFF\" height=\"45.9375\" id=\"E4\" rx=\"10\" ry=\"10\" style=\"stroke: #383838; stroke-width: 1.5;\" width=\"42\" x=\"109\" y=\"465\"/><text fill=\"#000000\" font-family=\"sans-serif\" font-size=\"12\" font-style=\"italic\" lengthAdjust=\"spacingAndGlyphs\" textLength=\"40\" x=\"110\" y=\"481.1387\">«part»</text><text fill=\"#000000\" font-family=\"sans-serif\" font-size=\"12\" lengthAdjust=\"spacingAndGlyphs\" textLength=\"14\" x=\"123\" y=\"495.1074\">x1</text><line style=\"stroke: #383838; stroke-width: 1.5;\" x1=\"110\" x2=\"150\" y1=\"502.9375\" y2=\"502.9375\"/></a><!--MD5=[270fce915f116d4de14055a7c1d9a0f3]\n",
       "class E5--><a href=\"psysml:fe1eabcd-2f5c-4c92-bec8-31bd54db8461\" target=\"_top\" title=\"psysml:fe1eabcd-2f5c-4c92-bec8-31bd54db8461\" xlink:actuate=\"onRequest\" xlink:href=\"psysml:fe1eabcd-2f5c-4c92-bec8-31bd54db8461\" xlink:show=\"new\" xlink:title=\"psysml:fe1eabcd-2f5c-4c92-bec8-31bd54db8461\" xlink:type=\"simple\"><rect fill=\"#FFFFFF\" height=\"45.9375\" id=\"E5\" style=\"stroke: #383838; stroke-width: 1.5;\" width=\"66\" x=\"54\" y=\"41\"/><text fill=\"#000000\" font-family=\"sans-serif\" font-size=\"12\" font-style=\"italic\" lengthAdjust=\"spacingAndGlyphs\" textLength=\"64\" x=\"55\" y=\"57.1387\">«part def»</text><text fill=\"#000000\" font-family=\"sans-serif\" font-size=\"12\" lengthAdjust=\"spacingAndGlyphs\" textLength=\"8\" x=\"83\" y=\"71.1074\">P</text><line style=\"stroke: #383838; stroke-width: 1.5;\" x1=\"55\" x2=\"119\" y1=\"78.9375\" y2=\"78.9375\"/></a><!--MD5=[60a26617385b1d2d0262a64233df1f8d]\n",
       "class E6--><a href=\"psysml:06be23d5-21a7-42eb-83e3-f8e6bdc4a055\" target=\"_top\" title=\"psysml:06be23d5-21a7-42eb-83e3-f8e6bdc4a055\" xlink:actuate=\"onRequest\" xlink:href=\"psysml:06be23d5-21a7-42eb-83e3-f8e6bdc4a055\" xlink:show=\"new\" xlink:title=\"psysml:06be23d5-21a7-42eb-83e3-f8e6bdc4a055\" xlink:type=\"simple\"><rect fill=\"#FFFFFF\" height=\"45.9375\" id=\"E6\" rx=\"10\" ry=\"10\" style=\"stroke: #383838; stroke-width: 1.5;\" width=\"42\" x=\"32\" y=\"359\"/><text fill=\"#000000\" font-family=\"sans-serif\" font-size=\"12\" font-style=\"italic\" lengthAdjust=\"spacingAndGlyphs\" textLength=\"40\" x=\"33\" y=\"375.1387\">«part»</text><text fill=\"#000000\" font-family=\"sans-serif\" font-size=\"12\" lengthAdjust=\"spacingAndGlyphs\" textLength=\"6\" x=\"50\" y=\"389.1074\">y</text><line style=\"stroke: #383838; stroke-width: 1.5;\" x1=\"33\" x2=\"73\" y1=\"396.9375\" y2=\"396.9375\"/></a><!--MD5=[2156ba9850f5573cc1fc38a6a4b2f02b]\n",
       "class E7--><a href=\"psysml:32e0c838-e55d-456a-ac80-3fd98b88adbf\" target=\"_top\" title=\"psysml:32e0c838-e55d-456a-ac80-3fd98b88adbf\" xlink:actuate=\"onRequest\" xlink:href=\"psysml:32e0c838-e55d-456a-ac80-3fd98b88adbf\" xlink:show=\"new\" xlink:title=\"psysml:32e0c838-e55d-456a-ac80-3fd98b88adbf\" xlink:type=\"simple\"><rect fill=\"#FFFFFF\" height=\"45.9375\" id=\"E7\" rx=\"10\" ry=\"10\" style=\"stroke: #383838; stroke-width: 1.5;\" width=\"42\" x=\"89\" y=\"147\"/><text fill=\"#000000\" font-family=\"sans-serif\" font-size=\"12\" font-style=\"italic\" lengthAdjust=\"spacingAndGlyphs\" textLength=\"40\" x=\"90\" y=\"163.1387\">«part»</text><text fill=\"#000000\" font-family=\"sans-serif\" font-size=\"12\" lengthAdjust=\"spacingAndGlyphs\" textLength=\"16\" x=\"102\" y=\"177.1074\">p1</text><line style=\"stroke: #383838; stroke-width: 1.5;\" x1=\"90\" x2=\"130\" y1=\"184.9375\" y2=\"184.9375\"/></a><!--MD5=[209b3feb70ccb6233bfe1053d122c12c]\n",
       "reverse link E2 to E3--><a href=\"psysml:96d6ab40-4f8f-4d11-a48f-d95a37d5e194\" target=\"_top\" title=\"psysml:96d6ab40-4f8f-4d11-a48f-d95a37d5e194\" xlink:actuate=\"onRequest\" xlink:href=\"psysml:96d6ab40-4f8f-4d11-a48f-d95a37d5e194\" xlink:show=\"new\" xlink:title=\"psysml:96d6ab40-4f8f-4d11-a48f-d95a37d5e194\" xlink:type=\"simple\"><path d=\"M116.72,311.96 C119.71,327.51 123.14,345.33 125.76,358.98 \" fill=\"none\" id=\"E2&lt;-E3\" style=\"stroke: #383838; stroke-width: 1.0;\"/><polygon fill=\"#383838\" points=\"114.24,299.06,111.447,305.7082,116.5096,310.8434,119.3026,304.1952,114.24,299.06\" style=\"stroke: #383838; stroke-width: 1.0;\"/><text fill=\"#000000\" font-family=\"sans-serif\" font-size=\"13\" lengthAdjust=\"spacingAndGlyphs\" textLength=\"8\" x=\"115.5455\" y=\"347.8709\">1</text></a><!--MD5=[4672eba38e49728da53d11aeb285b987]\n",
       "reverse link E3 to E4--><a href=\"psysml:15b45894-f404-4f26-aaef-cf96b8c0ca99\" target=\"_top\" title=\"psysml:15b45894-f404-4f26-aaef-cf96b8c0ca99\" xlink:actuate=\"onRequest\" xlink:href=\"psysml:15b45894-f404-4f26-aaef-cf96b8c0ca99\" xlink:show=\"new\" xlink:title=\"psysml:15b45894-f404-4f26-aaef-cf96b8c0ca99\" xlink:type=\"simple\"><path d=\"M130,418.44 C130,433.87 130,451.47 130,464.98 \" fill=\"none\" id=\"E3&lt;-E4\" style=\"stroke: #383838; stroke-width: 1.0;\"/><polygon fill=\"#383838\" points=\"130,405.06,126,411.06,130,417.06,134,411.06,130,405.06\" style=\"stroke: #383838; stroke-width: 1.0;\"/><text fill=\"#000000\" font-family=\"sans-serif\" font-size=\"13\" lengthAdjust=\"spacingAndGlyphs\" textLength=\"8\" x=\"120.925\" y=\"453.8709\">1</text></a><!--MD5=[85d356282659285ab4b2cfe2f634dd2b]\n",
       "reverse link E5 to E6--><a href=\"psysml:e9a2dbd2-75b9-45f4-aecc-a2c2183931e9\" target=\"_top\" title=\"psysml:e9a2dbd2-75b9-45f4-aecc-a2c2183931e9\" xlink:actuate=\"onRequest\" xlink:href=\"psysml:e9a2dbd2-75b9-45f4-aecc-a2c2183931e9\" xlink:show=\"new\" xlink:title=\"psysml:e9a2dbd2-75b9-45f4-aecc-a2c2183931e9\" xlink:type=\"simple\"><path d=\"M79.77,100.15 C77.01,114.61 74.03,131.56 72,147 C61.78,224.59 56.2,317.42 54.05,358.98 \" fill=\"none\" id=\"E5&lt;-E6\" style=\"stroke: #383838; stroke-width: 1.0;\"/><polygon fill=\"#383838\" points=\"82.32,87.18,77.2408,92.2988,80.0123,98.956,85.0915,93.8372,82.32,87.18\" style=\"stroke: #383838; stroke-width: 1.0;\"/><text fill=\"#000000\" font-family=\"sans-serif\" font-size=\"13\" lengthAdjust=\"spacingAndGlyphs\" textLength=\"8\" x=\"45.2572\" y=\"347.8709\">1</text></a><!--MD5=[e3e28c1befcf002155aa15e1416b4315]\n",
       "link E2 to E6--><a href=\"psysml:2b37c4a5-3576-4b38-9831-53a66373adf4\" target=\"_top\" title=\"psysml:2b37c4a5-3576-4b38-9831-53a66373adf4\" xlink:actuate=\"onRequest\" xlink:href=\"psysml:2b37c4a5-3576-4b38-9831-53a66373adf4\" xlink:show=\"new\" xlink:title=\"psysml:2b37c4a5-3576-4b38-9831-53a66373adf4\" xlink:type=\"simple\"><path d=\"M97.91,299.06 C88.24,316.7 74.74,341.34 65.07,358.98 \" fill=\"none\" id=\"E2-E6\" style=\"stroke: #383838; stroke-width: 3.0;\"/><text fill=\"#000000\" font-family=\"sans-serif\" font-size=\"13\" lengthAdjust=\"spacingAndGlyphs\" textLength=\"7\" x=\"60.3732\" y=\"347.8709\">*</text></a><!--MD5=[452b418e7f8a40397a49b8c0a78acc5b]\n",
       "reverse link E5 to E7--><a href=\"psysml:0433d7bc-4d61-42a3-98d7-5077bd02d97e\" target=\"_top\" title=\"psysml:0433d7bc-4d61-42a3-98d7-5077bd02d97e\" xlink:actuate=\"onRequest\" xlink:href=\"psysml:0433d7bc-4d61-42a3-98d7-5077bd02d97e\" xlink:show=\"new\" xlink:title=\"psysml:0433d7bc-4d61-42a3-98d7-5077bd02d97e\" xlink:type=\"simple\"><path d=\"M94.73,99.96 C98.17,115.51 102.11,133.33 105.13,146.98 \" fill=\"none\" id=\"E5&lt;-E7\" style=\"stroke: #383838; stroke-width: 1.0;\"/><polygon fill=\"#383838\" points=\"91.88,87.06,89.2656,93.7805,94.4636,98.7786,97.078,92.0581,91.88,87.06\" style=\"stroke: #383838; stroke-width: 1.0;\"/><text fill=\"#000000\" font-family=\"sans-serif\" font-size=\"13\" lengthAdjust=\"spacingAndGlyphs\" textLength=\"8\" x=\"94.7462\" y=\"135.8709\">1</text></a><!--MD5=[583832df87f4419a098336a29a52fa00]\n",
       "link E7 to E2--><a href=\"psysml:d6550333-67eb-4da5-a08d-e8c2ba9c3c42\" target=\"_top\" title=\"psysml:d6550333-67eb-4da5-a08d-e8c2ba9c3c42\" xlink:actuate=\"onRequest\" xlink:href=\"psysml:d6550333-67eb-4da5-a08d-e8c2ba9c3c42\" xlink:show=\"new\" xlink:title=\"psysml:d6550333-67eb-4da5-a08d-e8c2ba9c3c42\" xlink:type=\"simple\"><path d=\"M110,193.06 C110,204.64 110,219.23 110,232.87 \" fill=\"none\" id=\"E7-&gt;E2\" style=\"stroke: #383838; stroke-width: 1.0;\"/><polygon fill=\"none\" points=\"117,232.98,110,252.98,103,232.98,117,232.98\" style=\"stroke: #383838; stroke-width: 1.0;\"/></a><!--MD5=[e51401d762d566f7047dfbf5bcc3bf99]\n",
       "@startuml\r\n",
       "skinparam monochrome true\r\n",
       "skinparam classbackgroundcolor white\r\n",
       "skinparam shadowing false\r\n",
       "skinparam wrapWidth 300\r\n",
       "hide circle\r\n",
       "\r\n",
       "package \"ConnectionTest\" as E1  [[psysml:316d1b7b-e6b7-4d49-a637-31383ba5712a ]]  {\r\n",
       "comp usage \"p\" as E2  <<(T,blue) part>> [[psysml:c01c1eb8-4402-477c-affb-a3d93aa1c07f ]] {\r\n",
       "}\r\n",
       "comp usage \"x\" as E3  <<(T,blue) part>> [[psysml:83a66275-79f9-4d22-aa8c-e03faa30289f ]] {\r\n",
       "}\r\n",
       "comp usage \"x1\" as E4  <<(T,blue) part>> [[psysml:aa5ac9d5-4dfe-418e-90b4-d1e9d9002b4c ]] {\r\n",
       "}\r\n",
       "comp def \"P\" as E5  <<(T,blue) part def>> [[psysml:fe1eabcd-2f5c-4c92-bec8-31bd54db8461 ]] {\r\n",
       "}\r\n",
       "comp usage \"y\" as E6  <<(T,blue) part>> [[psysml:06be23d5-21a7-42eb-83e3-f8e6bdc4a055 ]] {\r\n",
       "}\r\n",
       "comp usage \"p1\" as E7  <<(T,blue) part>> [[psysml:32e0c838-e55d-456a-ac80-3fd98b88adbf ]] {\r\n",
       "}\r\n",
       "E2 *- - \"1\"E3 [[psysml:96d6ab40-4f8f-4d11-a48f-d95a37d5e194 ]] \r\n",
       "E3 *- - \"1\"E4 [[psysml:15b45894-f404-4f26-aaef-cf96b8c0ca99 ]] \r\n",
       "E5 *- - \"1\"E6 [[psysml:e9a2dbd2-75b9-45f4-aecc-a2c2183931e9 ]] \r\n",
       "E2 -[thickness=3]- \"*\"E6 [[psysml:2b37c4a5-3576-4b38-9831-53a66373adf4 ]] \r\n",
       "E5 *- - \"1\"E7 [[psysml:0433d7bc-4d61-42a3-98d7-5077bd02d97e ]] \r\n",
       "E7 - -|> E2 [[psysml:d6550333-67eb-4da5-a08d-e8c2ba9c3c42 ]] \r\n",
       "}\r\n",
       "@enduml\r\n",
       "\n",
       "PlantUML version 1.2020.13(Sat Jun 13 12:26:38 UTC 2020)\n",
       "(EPL source distribution)\n",
       "Java Runtime: OpenJDK Runtime Environment\n",
       "JVM: OpenJDK 64-Bit Server VM\n",
       "Default Encoding: UTF-8\n",
       "Language: en\n",
       "Country: null\n",
       "--></g></svg>"
      ]
     },
     "execution_count": 42,
     "metadata": {},
     "output_type": "execute_result"
    }
   ],
   "source": [
    "%viz --style=\"DEFAULT\" --view=\"Sequence\" \"ConnectionTest\""
   ]
  },
  {
   "cell_type": "code",
   "execution_count": 43,
   "id": "fd3c683b",
   "metadata": {
    "execution": {
     "iopub.execute_input": "2021-08-04T06:28:54.479707Z",
     "iopub.status.busy": "2021-08-04T06:28:54.479315Z",
     "iopub.status.idle": "2021-08-04T06:28:54.497457Z",
     "shell.execute_reply": "2021-08-04T06:28:54.496188Z"
    }
   },
   "outputs": [
    {
     "data": {
      "image/svg+xml": [
       "<?xml version=\"1.0\" encoding=\"UTF-8\" standalone=\"no\"?><svg xmlns=\"http://www.w3.org/2000/svg\" xmlns:xlink=\"http://www.w3.org/1999/xlink\" contentScriptType=\"application/ecmascript\" contentStyleType=\"text/css\" height=\"539px\" preserveAspectRatio=\"none\" style=\"width:189px;height:539px;\" version=\"1.1\" viewBox=\"0 0 189 539\" width=\"189px\" zoomAndPan=\"magnify\"><defs/><g><!--MD5=[fbc87193dbaf4d95561dea2c320d4a47]\n",
       "cluster E1--><a href=\"psysml:316d1b7b-e6b7-4d49-a637-31383ba5712a\" target=\"_top\" title=\"psysml:316d1b7b-e6b7-4d49-a637-31383ba5712a\" xlink:actuate=\"onRequest\" xlink:href=\"psysml:316d1b7b-e6b7-4d49-a637-31383ba5712a\" xlink:show=\"new\" xlink:title=\"psysml:316d1b7b-e6b7-4d49-a637-31383ba5712a\" xlink:type=\"simple\"><polygon fill=\"#FFFFFF\" points=\"16,6,147,6,154,28.2969,167,28.2969,167,527,16,527,16,6\" style=\"stroke: #000000; stroke-width: 1.5;\"/><line style=\"stroke: #000000; stroke-width: 1.5;\" x1=\"16\" x2=\"154\" y1=\"28.2969\" y2=\"28.2969\"/><text fill=\"#000000\" font-family=\"sans-serif\" font-size=\"14\" font-weight=\"bold\" lengthAdjust=\"spacingAndGlyphs\" textLength=\"125\" x=\"20\" y=\"20.9951\">ConnectionTest</text></a><!--MD5=[b4997ac47864f28c2f74865a473b2911]\n",
       "class E2--><a href=\"psysml:c01c1eb8-4402-477c-affb-a3d93aa1c07f\" target=\"_top\" title=\"psysml:c01c1eb8-4402-477c-affb-a3d93aa1c07f\" xlink:actuate=\"onRequest\" xlink:href=\"psysml:c01c1eb8-4402-477c-affb-a3d93aa1c07f\" xlink:show=\"new\" xlink:title=\"psysml:c01c1eb8-4402-477c-affb-a3d93aa1c07f\" xlink:type=\"simple\"><rect fill=\"#FFFFFF\" height=\"45.9375\" id=\"E2\" rx=\"10\" ry=\"10\" style=\"stroke: #383838; stroke-width: 1.5;\" width=\"42\" x=\"89\" y=\"253\"/><text fill=\"#000000\" font-family=\"sans-serif\" font-size=\"12\" font-style=\"italic\" lengthAdjust=\"spacingAndGlyphs\" textLength=\"40\" x=\"90\" y=\"269.1387\">«part»</text><text fill=\"#000000\" font-family=\"sans-serif\" font-size=\"12\" lengthAdjust=\"spacingAndGlyphs\" textLength=\"8\" x=\"106\" y=\"283.1074\">p</text><line style=\"stroke: #383838; stroke-width: 1.5;\" x1=\"90\" x2=\"130\" y1=\"290.9375\" y2=\"290.9375\"/></a><!--MD5=[09b614a08d8cba4a07c9adeb5e0fee81]\n",
       "class E3--><a href=\"psysml:83a66275-79f9-4d22-aa8c-e03faa30289f\" target=\"_top\" title=\"psysml:83a66275-79f9-4d22-aa8c-e03faa30289f\" xlink:actuate=\"onRequest\" xlink:href=\"psysml:83a66275-79f9-4d22-aa8c-e03faa30289f\" xlink:show=\"new\" xlink:title=\"psysml:83a66275-79f9-4d22-aa8c-e03faa30289f\" xlink:type=\"simple\"><rect fill=\"#FFFFFF\" height=\"45.9375\" id=\"E3\" rx=\"10\" ry=\"10\" style=\"stroke: #383838; stroke-width: 1.5;\" width=\"42\" x=\"109\" y=\"359\"/><text fill=\"#000000\" font-family=\"sans-serif\" font-size=\"12\" font-style=\"italic\" lengthAdjust=\"spacingAndGlyphs\" textLength=\"40\" x=\"110\" y=\"375.1387\">«part»</text><text fill=\"#000000\" font-family=\"sans-serif\" font-size=\"12\" lengthAdjust=\"spacingAndGlyphs\" textLength=\"6\" x=\"127\" y=\"389.1074\">x</text><line style=\"stroke: #383838; stroke-width: 1.5;\" x1=\"110\" x2=\"150\" y1=\"396.9375\" y2=\"396.9375\"/></a><!--MD5=[ebbe1d658d1005bcc118a6aa81145e00]\n",
       "class E4--><a href=\"psysml:aa5ac9d5-4dfe-418e-90b4-d1e9d9002b4c\" target=\"_top\" title=\"psysml:aa5ac9d5-4dfe-418e-90b4-d1e9d9002b4c\" xlink:actuate=\"onRequest\" xlink:href=\"psysml:aa5ac9d5-4dfe-418e-90b4-d1e9d9002b4c\" xlink:show=\"new\" xlink:title=\"psysml:aa5ac9d5-4dfe-418e-90b4-d1e9d9002b4c\" xlink:type=\"simple\"><rect fill=\"#FFFFFF\" height=\"45.9375\" id=\"E4\" rx=\"10\" ry=\"10\" style=\"stroke: #383838; stroke-width: 1.5;\" width=\"42\" x=\"109\" y=\"465\"/><text fill=\"#000000\" font-family=\"sans-serif\" font-size=\"12\" font-style=\"italic\" lengthAdjust=\"spacingAndGlyphs\" textLength=\"40\" x=\"110\" y=\"481.1387\">«part»</text><text fill=\"#000000\" font-family=\"sans-serif\" font-size=\"12\" lengthAdjust=\"spacingAndGlyphs\" textLength=\"14\" x=\"123\" y=\"495.1074\">x1</text><line style=\"stroke: #383838; stroke-width: 1.5;\" x1=\"110\" x2=\"150\" y1=\"502.9375\" y2=\"502.9375\"/></a><!--MD5=[270fce915f116d4de14055a7c1d9a0f3]\n",
       "class E5--><a href=\"psysml:fe1eabcd-2f5c-4c92-bec8-31bd54db8461\" target=\"_top\" title=\"psysml:fe1eabcd-2f5c-4c92-bec8-31bd54db8461\" xlink:actuate=\"onRequest\" xlink:href=\"psysml:fe1eabcd-2f5c-4c92-bec8-31bd54db8461\" xlink:show=\"new\" xlink:title=\"psysml:fe1eabcd-2f5c-4c92-bec8-31bd54db8461\" xlink:type=\"simple\"><rect fill=\"#FFFFFF\" height=\"45.9375\" id=\"E5\" style=\"stroke: #383838; stroke-width: 1.5;\" width=\"66\" x=\"54\" y=\"41\"/><text fill=\"#000000\" font-family=\"sans-serif\" font-size=\"12\" font-style=\"italic\" lengthAdjust=\"spacingAndGlyphs\" textLength=\"64\" x=\"55\" y=\"57.1387\">«part def»</text><text fill=\"#000000\" font-family=\"sans-serif\" font-size=\"12\" lengthAdjust=\"spacingAndGlyphs\" textLength=\"8\" x=\"83\" y=\"71.1074\">P</text><line style=\"stroke: #383838; stroke-width: 1.5;\" x1=\"55\" x2=\"119\" y1=\"78.9375\" y2=\"78.9375\"/></a><!--MD5=[60a26617385b1d2d0262a64233df1f8d]\n",
       "class E6--><a href=\"psysml:06be23d5-21a7-42eb-83e3-f8e6bdc4a055\" target=\"_top\" title=\"psysml:06be23d5-21a7-42eb-83e3-f8e6bdc4a055\" xlink:actuate=\"onRequest\" xlink:href=\"psysml:06be23d5-21a7-42eb-83e3-f8e6bdc4a055\" xlink:show=\"new\" xlink:title=\"psysml:06be23d5-21a7-42eb-83e3-f8e6bdc4a055\" xlink:type=\"simple\"><rect fill=\"#FFFFFF\" height=\"45.9375\" id=\"E6\" rx=\"10\" ry=\"10\" style=\"stroke: #383838; stroke-width: 1.5;\" width=\"42\" x=\"32\" y=\"359\"/><text fill=\"#000000\" font-family=\"sans-serif\" font-size=\"12\" font-style=\"italic\" lengthAdjust=\"spacingAndGlyphs\" textLength=\"40\" x=\"33\" y=\"375.1387\">«part»</text><text fill=\"#000000\" font-family=\"sans-serif\" font-size=\"12\" lengthAdjust=\"spacingAndGlyphs\" textLength=\"6\" x=\"50\" y=\"389.1074\">y</text><line style=\"stroke: #383838; stroke-width: 1.5;\" x1=\"33\" x2=\"73\" y1=\"396.9375\" y2=\"396.9375\"/></a><!--MD5=[2156ba9850f5573cc1fc38a6a4b2f02b]\n",
       "class E7--><a href=\"psysml:32e0c838-e55d-456a-ac80-3fd98b88adbf\" target=\"_top\" title=\"psysml:32e0c838-e55d-456a-ac80-3fd98b88adbf\" xlink:actuate=\"onRequest\" xlink:href=\"psysml:32e0c838-e55d-456a-ac80-3fd98b88adbf\" xlink:show=\"new\" xlink:title=\"psysml:32e0c838-e55d-456a-ac80-3fd98b88adbf\" xlink:type=\"simple\"><rect fill=\"#FFFFFF\" height=\"45.9375\" id=\"E7\" rx=\"10\" ry=\"10\" style=\"stroke: #383838; stroke-width: 1.5;\" width=\"42\" x=\"89\" y=\"147\"/><text fill=\"#000000\" font-family=\"sans-serif\" font-size=\"12\" font-style=\"italic\" lengthAdjust=\"spacingAndGlyphs\" textLength=\"40\" x=\"90\" y=\"163.1387\">«part»</text><text fill=\"#000000\" font-family=\"sans-serif\" font-size=\"12\" lengthAdjust=\"spacingAndGlyphs\" textLength=\"16\" x=\"102\" y=\"177.1074\">p1</text><line style=\"stroke: #383838; stroke-width: 1.5;\" x1=\"90\" x2=\"130\" y1=\"184.9375\" y2=\"184.9375\"/></a><!--MD5=[209b3feb70ccb6233bfe1053d122c12c]\n",
       "reverse link E2 to E3--><a href=\"psysml:96d6ab40-4f8f-4d11-a48f-d95a37d5e194\" target=\"_top\" title=\"psysml:96d6ab40-4f8f-4d11-a48f-d95a37d5e194\" xlink:actuate=\"onRequest\" xlink:href=\"psysml:96d6ab40-4f8f-4d11-a48f-d95a37d5e194\" xlink:show=\"new\" xlink:title=\"psysml:96d6ab40-4f8f-4d11-a48f-d95a37d5e194\" xlink:type=\"simple\"><path d=\"M116.72,311.96 C119.71,327.51 123.14,345.33 125.76,358.98 \" fill=\"none\" id=\"E2&lt;-E3\" style=\"stroke: #383838; stroke-width: 1.0;\"/><polygon fill=\"#383838\" points=\"114.24,299.06,111.447,305.7082,116.5096,310.8434,119.3026,304.1952,114.24,299.06\" style=\"stroke: #383838; stroke-width: 1.0;\"/><text fill=\"#000000\" font-family=\"sans-serif\" font-size=\"13\" lengthAdjust=\"spacingAndGlyphs\" textLength=\"8\" x=\"115.5455\" y=\"347.8709\">1</text></a><!--MD5=[4672eba38e49728da53d11aeb285b987]\n",
       "reverse link E3 to E4--><a href=\"psysml:15b45894-f404-4f26-aaef-cf96b8c0ca99\" target=\"_top\" title=\"psysml:15b45894-f404-4f26-aaef-cf96b8c0ca99\" xlink:actuate=\"onRequest\" xlink:href=\"psysml:15b45894-f404-4f26-aaef-cf96b8c0ca99\" xlink:show=\"new\" xlink:title=\"psysml:15b45894-f404-4f26-aaef-cf96b8c0ca99\" xlink:type=\"simple\"><path d=\"M130,418.44 C130,433.87 130,451.47 130,464.98 \" fill=\"none\" id=\"E3&lt;-E4\" style=\"stroke: #383838; stroke-width: 1.0;\"/><polygon fill=\"#383838\" points=\"130,405.06,126,411.06,130,417.06,134,411.06,130,405.06\" style=\"stroke: #383838; stroke-width: 1.0;\"/><text fill=\"#000000\" font-family=\"sans-serif\" font-size=\"13\" lengthAdjust=\"spacingAndGlyphs\" textLength=\"8\" x=\"120.925\" y=\"453.8709\">1</text></a><!--MD5=[85d356282659285ab4b2cfe2f634dd2b]\n",
       "reverse link E5 to E6--><a href=\"psysml:e9a2dbd2-75b9-45f4-aecc-a2c2183931e9\" target=\"_top\" title=\"psysml:e9a2dbd2-75b9-45f4-aecc-a2c2183931e9\" xlink:actuate=\"onRequest\" xlink:href=\"psysml:e9a2dbd2-75b9-45f4-aecc-a2c2183931e9\" xlink:show=\"new\" xlink:title=\"psysml:e9a2dbd2-75b9-45f4-aecc-a2c2183931e9\" xlink:type=\"simple\"><path d=\"M79.77,100.15 C77.01,114.61 74.03,131.56 72,147 C61.78,224.59 56.2,317.42 54.05,358.98 \" fill=\"none\" id=\"E5&lt;-E6\" style=\"stroke: #383838; stroke-width: 1.0;\"/><polygon fill=\"#383838\" points=\"82.32,87.18,77.2408,92.2988,80.0123,98.956,85.0915,93.8372,82.32,87.18\" style=\"stroke: #383838; stroke-width: 1.0;\"/><text fill=\"#000000\" font-family=\"sans-serif\" font-size=\"13\" lengthAdjust=\"spacingAndGlyphs\" textLength=\"8\" x=\"45.2572\" y=\"347.8709\">1</text></a><!--MD5=[e3e28c1befcf002155aa15e1416b4315]\n",
       "link E2 to E6--><a href=\"psysml:2b37c4a5-3576-4b38-9831-53a66373adf4\" target=\"_top\" title=\"psysml:2b37c4a5-3576-4b38-9831-53a66373adf4\" xlink:actuate=\"onRequest\" xlink:href=\"psysml:2b37c4a5-3576-4b38-9831-53a66373adf4\" xlink:show=\"new\" xlink:title=\"psysml:2b37c4a5-3576-4b38-9831-53a66373adf4\" xlink:type=\"simple\"><path d=\"M97.91,299.06 C88.24,316.7 74.74,341.34 65.07,358.98 \" fill=\"none\" id=\"E2-E6\" style=\"stroke: #383838; stroke-width: 3.0;\"/><text fill=\"#000000\" font-family=\"sans-serif\" font-size=\"13\" lengthAdjust=\"spacingAndGlyphs\" textLength=\"7\" x=\"60.3732\" y=\"347.8709\">*</text></a><!--MD5=[452b418e7f8a40397a49b8c0a78acc5b]\n",
       "reverse link E5 to E7--><a href=\"psysml:0433d7bc-4d61-42a3-98d7-5077bd02d97e\" target=\"_top\" title=\"psysml:0433d7bc-4d61-42a3-98d7-5077bd02d97e\" xlink:actuate=\"onRequest\" xlink:href=\"psysml:0433d7bc-4d61-42a3-98d7-5077bd02d97e\" xlink:show=\"new\" xlink:title=\"psysml:0433d7bc-4d61-42a3-98d7-5077bd02d97e\" xlink:type=\"simple\"><path d=\"M94.73,99.96 C98.17,115.51 102.11,133.33 105.13,146.98 \" fill=\"none\" id=\"E5&lt;-E7\" style=\"stroke: #383838; stroke-width: 1.0;\"/><polygon fill=\"#383838\" points=\"91.88,87.06,89.2656,93.7805,94.4636,98.7786,97.078,92.0581,91.88,87.06\" style=\"stroke: #383838; stroke-width: 1.0;\"/><text fill=\"#000000\" font-family=\"sans-serif\" font-size=\"13\" lengthAdjust=\"spacingAndGlyphs\" textLength=\"8\" x=\"94.7462\" y=\"135.8709\">1</text></a><!--MD5=[583832df87f4419a098336a29a52fa00]\n",
       "link E7 to E2--><a href=\"psysml:d6550333-67eb-4da5-a08d-e8c2ba9c3c42\" target=\"_top\" title=\"psysml:d6550333-67eb-4da5-a08d-e8c2ba9c3c42\" xlink:actuate=\"onRequest\" xlink:href=\"psysml:d6550333-67eb-4da5-a08d-e8c2ba9c3c42\" xlink:show=\"new\" xlink:title=\"psysml:d6550333-67eb-4da5-a08d-e8c2ba9c3c42\" xlink:type=\"simple\"><path d=\"M110,193.06 C110,204.64 110,219.23 110,232.87 \" fill=\"none\" id=\"E7-&gt;E2\" style=\"stroke: #383838; stroke-width: 1.0;\"/><polygon fill=\"none\" points=\"117,232.98,110,252.98,103,232.98,117,232.98\" style=\"stroke: #383838; stroke-width: 1.0;\"/></a><!--MD5=[e51401d762d566f7047dfbf5bcc3bf99]\n",
       "@startuml\r\n",
       "skinparam monochrome true\r\n",
       "skinparam classbackgroundcolor white\r\n",
       "skinparam shadowing false\r\n",
       "skinparam wrapWidth 300\r\n",
       "hide circle\r\n",
       "\r\n",
       "package \"ConnectionTest\" as E1  [[psysml:316d1b7b-e6b7-4d49-a637-31383ba5712a ]]  {\r\n",
       "comp usage \"p\" as E2  <<(T,blue) part>> [[psysml:c01c1eb8-4402-477c-affb-a3d93aa1c07f ]] {\r\n",
       "}\r\n",
       "comp usage \"x\" as E3  <<(T,blue) part>> [[psysml:83a66275-79f9-4d22-aa8c-e03faa30289f ]] {\r\n",
       "}\r\n",
       "comp usage \"x1\" as E4  <<(T,blue) part>> [[psysml:aa5ac9d5-4dfe-418e-90b4-d1e9d9002b4c ]] {\r\n",
       "}\r\n",
       "comp def \"P\" as E5  <<(T,blue) part def>> [[psysml:fe1eabcd-2f5c-4c92-bec8-31bd54db8461 ]] {\r\n",
       "}\r\n",
       "comp usage \"y\" as E6  <<(T,blue) part>> [[psysml:06be23d5-21a7-42eb-83e3-f8e6bdc4a055 ]] {\r\n",
       "}\r\n",
       "comp usage \"p1\" as E7  <<(T,blue) part>> [[psysml:32e0c838-e55d-456a-ac80-3fd98b88adbf ]] {\r\n",
       "}\r\n",
       "E2 *- - \"1\"E3 [[psysml:96d6ab40-4f8f-4d11-a48f-d95a37d5e194 ]] \r\n",
       "E3 *- - \"1\"E4 [[psysml:15b45894-f404-4f26-aaef-cf96b8c0ca99 ]] \r\n",
       "E5 *- - \"1\"E6 [[psysml:e9a2dbd2-75b9-45f4-aecc-a2c2183931e9 ]] \r\n",
       "E2 -[thickness=3]- \"*\"E6 [[psysml:2b37c4a5-3576-4b38-9831-53a66373adf4 ]] \r\n",
       "E5 *- - \"1\"E7 [[psysml:0433d7bc-4d61-42a3-98d7-5077bd02d97e ]] \r\n",
       "E7 - -|> E2 [[psysml:d6550333-67eb-4da5-a08d-e8c2ba9c3c42 ]] \r\n",
       "}\r\n",
       "@enduml\r\n",
       "\n",
       "PlantUML version 1.2020.13(Sat Jun 13 12:26:38 UTC 2020)\n",
       "(EPL source distribution)\n",
       "Java Runtime: OpenJDK Runtime Environment\n",
       "JVM: OpenJDK 64-Bit Server VM\n",
       "Default Encoding: UTF-8\n",
       "Language: en\n",
       "Country: null\n",
       "--></g></svg>"
      ]
     },
     "execution_count": 43,
     "metadata": {},
     "output_type": "execute_result"
    }
   ],
   "source": [
    "%viz --style=\"DEFAULT\" --view=\"MIXED\" \"ConnectionTest\""
   ]
  },
  {
   "cell_type": "code",
   "execution_count": 44,
   "id": "cc037a48",
   "metadata": {
    "execution": {
     "iopub.execute_input": "2021-08-04T06:28:54.546948Z",
     "iopub.status.busy": "2021-08-04T06:28:54.546535Z",
     "iopub.status.idle": "2021-08-04T06:28:54.568203Z",
     "shell.execute_reply": "2021-08-04T06:28:54.566958Z"
    }
   },
   "outputs": [
    {
     "data": {
      "image/svg+xml": [
       "<?xml version=\"1.0\" encoding=\"UTF-8\" standalone=\"no\"?><svg xmlns=\"http://www.w3.org/2000/svg\" xmlns:xlink=\"http://www.w3.org/1999/xlink\" contentScriptType=\"application/ecmascript\" contentStyleType=\"text/css\" height=\"539px\" preserveAspectRatio=\"none\" style=\"width:189px;height:539px;\" version=\"1.1\" viewBox=\"0 0 189 539\" width=\"189px\" zoomAndPan=\"magnify\"><defs/><g><!--MD5=[fbc87193dbaf4d95561dea2c320d4a47]\n",
       "cluster E1--><a href=\"psysml:316d1b7b-e6b7-4d49-a637-31383ba5712a\" target=\"_top\" title=\"psysml:316d1b7b-e6b7-4d49-a637-31383ba5712a\" xlink:actuate=\"onRequest\" xlink:href=\"psysml:316d1b7b-e6b7-4d49-a637-31383ba5712a\" xlink:show=\"new\" xlink:title=\"psysml:316d1b7b-e6b7-4d49-a637-31383ba5712a\" xlink:type=\"simple\"><polygon fill=\"#FFFFFF\" points=\"16,6,147,6,154,28.2969,167,28.2969,167,527,16,527,16,6\" style=\"stroke: #000000; stroke-width: 1.5;\"/><line style=\"stroke: #000000; stroke-width: 1.5;\" x1=\"16\" x2=\"154\" y1=\"28.2969\" y2=\"28.2969\"/><text fill=\"#000000\" font-family=\"sans-serif\" font-size=\"14\" font-weight=\"bold\" lengthAdjust=\"spacingAndGlyphs\" textLength=\"125\" x=\"20\" y=\"20.9951\">ConnectionTest</text></a><!--MD5=[b4997ac47864f28c2f74865a473b2911]\n",
       "class E2--><a href=\"psysml:c01c1eb8-4402-477c-affb-a3d93aa1c07f\" target=\"_top\" title=\"psysml:c01c1eb8-4402-477c-affb-a3d93aa1c07f\" xlink:actuate=\"onRequest\" xlink:href=\"psysml:c01c1eb8-4402-477c-affb-a3d93aa1c07f\" xlink:show=\"new\" xlink:title=\"psysml:c01c1eb8-4402-477c-affb-a3d93aa1c07f\" xlink:type=\"simple\"><rect fill=\"#FFFFFF\" height=\"45.9375\" id=\"E2\" rx=\"10\" ry=\"10\" style=\"stroke: #383838; stroke-width: 1.5;\" width=\"42\" x=\"89\" y=\"253\"/><text fill=\"#000000\" font-family=\"sans-serif\" font-size=\"12\" font-style=\"italic\" lengthAdjust=\"spacingAndGlyphs\" textLength=\"40\" x=\"90\" y=\"269.1387\">«part»</text><text fill=\"#000000\" font-family=\"sans-serif\" font-size=\"12\" lengthAdjust=\"spacingAndGlyphs\" textLength=\"8\" x=\"106\" y=\"283.1074\">p</text><line style=\"stroke: #383838; stroke-width: 1.5;\" x1=\"90\" x2=\"130\" y1=\"290.9375\" y2=\"290.9375\"/></a><!--MD5=[09b614a08d8cba4a07c9adeb5e0fee81]\n",
       "class E3--><a href=\"psysml:83a66275-79f9-4d22-aa8c-e03faa30289f\" target=\"_top\" title=\"psysml:83a66275-79f9-4d22-aa8c-e03faa30289f\" xlink:actuate=\"onRequest\" xlink:href=\"psysml:83a66275-79f9-4d22-aa8c-e03faa30289f\" xlink:show=\"new\" xlink:title=\"psysml:83a66275-79f9-4d22-aa8c-e03faa30289f\" xlink:type=\"simple\"><rect fill=\"#FFFFFF\" height=\"45.9375\" id=\"E3\" rx=\"10\" ry=\"10\" style=\"stroke: #383838; stroke-width: 1.5;\" width=\"42\" x=\"109\" y=\"359\"/><text fill=\"#000000\" font-family=\"sans-serif\" font-size=\"12\" font-style=\"italic\" lengthAdjust=\"spacingAndGlyphs\" textLength=\"40\" x=\"110\" y=\"375.1387\">«part»</text><text fill=\"#000000\" font-family=\"sans-serif\" font-size=\"12\" lengthAdjust=\"spacingAndGlyphs\" textLength=\"6\" x=\"127\" y=\"389.1074\">x</text><line style=\"stroke: #383838; stroke-width: 1.5;\" x1=\"110\" x2=\"150\" y1=\"396.9375\" y2=\"396.9375\"/></a><!--MD5=[ebbe1d658d1005bcc118a6aa81145e00]\n",
       "class E4--><a href=\"psysml:aa5ac9d5-4dfe-418e-90b4-d1e9d9002b4c\" target=\"_top\" title=\"psysml:aa5ac9d5-4dfe-418e-90b4-d1e9d9002b4c\" xlink:actuate=\"onRequest\" xlink:href=\"psysml:aa5ac9d5-4dfe-418e-90b4-d1e9d9002b4c\" xlink:show=\"new\" xlink:title=\"psysml:aa5ac9d5-4dfe-418e-90b4-d1e9d9002b4c\" xlink:type=\"simple\"><rect fill=\"#FFFFFF\" height=\"45.9375\" id=\"E4\" rx=\"10\" ry=\"10\" style=\"stroke: #383838; stroke-width: 1.5;\" width=\"42\" x=\"109\" y=\"465\"/><text fill=\"#000000\" font-family=\"sans-serif\" font-size=\"12\" font-style=\"italic\" lengthAdjust=\"spacingAndGlyphs\" textLength=\"40\" x=\"110\" y=\"481.1387\">«part»</text><text fill=\"#000000\" font-family=\"sans-serif\" font-size=\"12\" lengthAdjust=\"spacingAndGlyphs\" textLength=\"14\" x=\"123\" y=\"495.1074\">x1</text><line style=\"stroke: #383838; stroke-width: 1.5;\" x1=\"110\" x2=\"150\" y1=\"502.9375\" y2=\"502.9375\"/></a><!--MD5=[270fce915f116d4de14055a7c1d9a0f3]\n",
       "class E5--><a href=\"psysml:fe1eabcd-2f5c-4c92-bec8-31bd54db8461\" target=\"_top\" title=\"psysml:fe1eabcd-2f5c-4c92-bec8-31bd54db8461\" xlink:actuate=\"onRequest\" xlink:href=\"psysml:fe1eabcd-2f5c-4c92-bec8-31bd54db8461\" xlink:show=\"new\" xlink:title=\"psysml:fe1eabcd-2f5c-4c92-bec8-31bd54db8461\" xlink:type=\"simple\"><rect fill=\"#FFFFFF\" height=\"45.9375\" id=\"E5\" style=\"stroke: #383838; stroke-width: 1.5;\" width=\"66\" x=\"54\" y=\"41\"/><text fill=\"#000000\" font-family=\"sans-serif\" font-size=\"12\" font-style=\"italic\" lengthAdjust=\"spacingAndGlyphs\" textLength=\"64\" x=\"55\" y=\"57.1387\">«part def»</text><text fill=\"#000000\" font-family=\"sans-serif\" font-size=\"12\" lengthAdjust=\"spacingAndGlyphs\" textLength=\"8\" x=\"83\" y=\"71.1074\">P</text><line style=\"stroke: #383838; stroke-width: 1.5;\" x1=\"55\" x2=\"119\" y1=\"78.9375\" y2=\"78.9375\"/></a><!--MD5=[60a26617385b1d2d0262a64233df1f8d]\n",
       "class E6--><a href=\"psysml:06be23d5-21a7-42eb-83e3-f8e6bdc4a055\" target=\"_top\" title=\"psysml:06be23d5-21a7-42eb-83e3-f8e6bdc4a055\" xlink:actuate=\"onRequest\" xlink:href=\"psysml:06be23d5-21a7-42eb-83e3-f8e6bdc4a055\" xlink:show=\"new\" xlink:title=\"psysml:06be23d5-21a7-42eb-83e3-f8e6bdc4a055\" xlink:type=\"simple\"><rect fill=\"#FFFFFF\" height=\"45.9375\" id=\"E6\" rx=\"10\" ry=\"10\" style=\"stroke: #383838; stroke-width: 1.5;\" width=\"42\" x=\"32\" y=\"359\"/><text fill=\"#000000\" font-family=\"sans-serif\" font-size=\"12\" font-style=\"italic\" lengthAdjust=\"spacingAndGlyphs\" textLength=\"40\" x=\"33\" y=\"375.1387\">«part»</text><text fill=\"#000000\" font-family=\"sans-serif\" font-size=\"12\" lengthAdjust=\"spacingAndGlyphs\" textLength=\"6\" x=\"50\" y=\"389.1074\">y</text><line style=\"stroke: #383838; stroke-width: 1.5;\" x1=\"33\" x2=\"73\" y1=\"396.9375\" y2=\"396.9375\"/></a><!--MD5=[2156ba9850f5573cc1fc38a6a4b2f02b]\n",
       "class E7--><a href=\"psysml:32e0c838-e55d-456a-ac80-3fd98b88adbf\" target=\"_top\" title=\"psysml:32e0c838-e55d-456a-ac80-3fd98b88adbf\" xlink:actuate=\"onRequest\" xlink:href=\"psysml:32e0c838-e55d-456a-ac80-3fd98b88adbf\" xlink:show=\"new\" xlink:title=\"psysml:32e0c838-e55d-456a-ac80-3fd98b88adbf\" xlink:type=\"simple\"><rect fill=\"#FFFFFF\" height=\"45.9375\" id=\"E7\" rx=\"10\" ry=\"10\" style=\"stroke: #383838; stroke-width: 1.5;\" width=\"42\" x=\"89\" y=\"147\"/><text fill=\"#000000\" font-family=\"sans-serif\" font-size=\"12\" font-style=\"italic\" lengthAdjust=\"spacingAndGlyphs\" textLength=\"40\" x=\"90\" y=\"163.1387\">«part»</text><text fill=\"#000000\" font-family=\"sans-serif\" font-size=\"12\" lengthAdjust=\"spacingAndGlyphs\" textLength=\"16\" x=\"102\" y=\"177.1074\">p1</text><line style=\"stroke: #383838; stroke-width: 1.5;\" x1=\"90\" x2=\"130\" y1=\"184.9375\" y2=\"184.9375\"/></a><!--MD5=[209b3feb70ccb6233bfe1053d122c12c]\n",
       "reverse link E2 to E3--><a href=\"psysml:96d6ab40-4f8f-4d11-a48f-d95a37d5e194\" target=\"_top\" title=\"psysml:96d6ab40-4f8f-4d11-a48f-d95a37d5e194\" xlink:actuate=\"onRequest\" xlink:href=\"psysml:96d6ab40-4f8f-4d11-a48f-d95a37d5e194\" xlink:show=\"new\" xlink:title=\"psysml:96d6ab40-4f8f-4d11-a48f-d95a37d5e194\" xlink:type=\"simple\"><path d=\"M116.72,311.96 C119.71,327.51 123.14,345.33 125.76,358.98 \" fill=\"none\" id=\"E2&lt;-E3\" style=\"stroke: #383838; stroke-width: 1.0;\"/><polygon fill=\"#383838\" points=\"114.24,299.06,111.447,305.7082,116.5096,310.8434,119.3026,304.1952,114.24,299.06\" style=\"stroke: #383838; stroke-width: 1.0;\"/><text fill=\"#000000\" font-family=\"sans-serif\" font-size=\"13\" lengthAdjust=\"spacingAndGlyphs\" textLength=\"8\" x=\"115.5455\" y=\"347.8709\">1</text></a><!--MD5=[4672eba38e49728da53d11aeb285b987]\n",
       "reverse link E3 to E4--><a href=\"psysml:15b45894-f404-4f26-aaef-cf96b8c0ca99\" target=\"_top\" title=\"psysml:15b45894-f404-4f26-aaef-cf96b8c0ca99\" xlink:actuate=\"onRequest\" xlink:href=\"psysml:15b45894-f404-4f26-aaef-cf96b8c0ca99\" xlink:show=\"new\" xlink:title=\"psysml:15b45894-f404-4f26-aaef-cf96b8c0ca99\" xlink:type=\"simple\"><path d=\"M130,418.44 C130,433.87 130,451.47 130,464.98 \" fill=\"none\" id=\"E3&lt;-E4\" style=\"stroke: #383838; stroke-width: 1.0;\"/><polygon fill=\"#383838\" points=\"130,405.06,126,411.06,130,417.06,134,411.06,130,405.06\" style=\"stroke: #383838; stroke-width: 1.0;\"/><text fill=\"#000000\" font-family=\"sans-serif\" font-size=\"13\" lengthAdjust=\"spacingAndGlyphs\" textLength=\"8\" x=\"120.925\" y=\"453.8709\">1</text></a><!--MD5=[85d356282659285ab4b2cfe2f634dd2b]\n",
       "reverse link E5 to E6--><a href=\"psysml:e9a2dbd2-75b9-45f4-aecc-a2c2183931e9\" target=\"_top\" title=\"psysml:e9a2dbd2-75b9-45f4-aecc-a2c2183931e9\" xlink:actuate=\"onRequest\" xlink:href=\"psysml:e9a2dbd2-75b9-45f4-aecc-a2c2183931e9\" xlink:show=\"new\" xlink:title=\"psysml:e9a2dbd2-75b9-45f4-aecc-a2c2183931e9\" xlink:type=\"simple\"><path d=\"M79.77,100.15 C77.01,114.61 74.03,131.56 72,147 C61.78,224.59 56.2,317.42 54.05,358.98 \" fill=\"none\" id=\"E5&lt;-E6\" style=\"stroke: #383838; stroke-width: 1.0;\"/><polygon fill=\"#383838\" points=\"82.32,87.18,77.2408,92.2988,80.0123,98.956,85.0915,93.8372,82.32,87.18\" style=\"stroke: #383838; stroke-width: 1.0;\"/><text fill=\"#000000\" font-family=\"sans-serif\" font-size=\"13\" lengthAdjust=\"spacingAndGlyphs\" textLength=\"8\" x=\"45.2572\" y=\"347.8709\">1</text></a><!--MD5=[e3e28c1befcf002155aa15e1416b4315]\n",
       "link E2 to E6--><a href=\"psysml:2b37c4a5-3576-4b38-9831-53a66373adf4\" target=\"_top\" title=\"psysml:2b37c4a5-3576-4b38-9831-53a66373adf4\" xlink:actuate=\"onRequest\" xlink:href=\"psysml:2b37c4a5-3576-4b38-9831-53a66373adf4\" xlink:show=\"new\" xlink:title=\"psysml:2b37c4a5-3576-4b38-9831-53a66373adf4\" xlink:type=\"simple\"><path d=\"M97.91,299.06 C88.24,316.7 74.74,341.34 65.07,358.98 \" fill=\"none\" id=\"E2-E6\" style=\"stroke: #383838; stroke-width: 3.0;\"/><text fill=\"#000000\" font-family=\"sans-serif\" font-size=\"13\" lengthAdjust=\"spacingAndGlyphs\" textLength=\"7\" x=\"60.3732\" y=\"347.8709\">*</text></a><!--MD5=[452b418e7f8a40397a49b8c0a78acc5b]\n",
       "reverse link E5 to E7--><a href=\"psysml:0433d7bc-4d61-42a3-98d7-5077bd02d97e\" target=\"_top\" title=\"psysml:0433d7bc-4d61-42a3-98d7-5077bd02d97e\" xlink:actuate=\"onRequest\" xlink:href=\"psysml:0433d7bc-4d61-42a3-98d7-5077bd02d97e\" xlink:show=\"new\" xlink:title=\"psysml:0433d7bc-4d61-42a3-98d7-5077bd02d97e\" xlink:type=\"simple\"><path d=\"M94.73,99.96 C98.17,115.51 102.11,133.33 105.13,146.98 \" fill=\"none\" id=\"E5&lt;-E7\" style=\"stroke: #383838; stroke-width: 1.0;\"/><polygon fill=\"#383838\" points=\"91.88,87.06,89.2656,93.7805,94.4636,98.7786,97.078,92.0581,91.88,87.06\" style=\"stroke: #383838; stroke-width: 1.0;\"/><text fill=\"#000000\" font-family=\"sans-serif\" font-size=\"13\" lengthAdjust=\"spacingAndGlyphs\" textLength=\"8\" x=\"94.7462\" y=\"135.8709\">1</text></a><!--MD5=[583832df87f4419a098336a29a52fa00]\n",
       "link E7 to E2--><a href=\"psysml:d6550333-67eb-4da5-a08d-e8c2ba9c3c42\" target=\"_top\" title=\"psysml:d6550333-67eb-4da5-a08d-e8c2ba9c3c42\" xlink:actuate=\"onRequest\" xlink:href=\"psysml:d6550333-67eb-4da5-a08d-e8c2ba9c3c42\" xlink:show=\"new\" xlink:title=\"psysml:d6550333-67eb-4da5-a08d-e8c2ba9c3c42\" xlink:type=\"simple\"><path d=\"M110,193.06 C110,204.64 110,219.23 110,232.87 \" fill=\"none\" id=\"E7-&gt;E2\" style=\"stroke: #383838; stroke-width: 1.0;\"/><polygon fill=\"none\" points=\"117,232.98,110,252.98,103,232.98,117,232.98\" style=\"stroke: #383838; stroke-width: 1.0;\"/></a><!--MD5=[f71d84fb5ea83f7d7b314aa36d4aad1c]\n",
       "@startuml\r\n",
       "top to bottom direction\r\n",
       "skinparam monochrome true\r\n",
       "skinparam classbackgroundcolor white\r\n",
       "skinparam shadowing false\r\n",
       "skinparam wrapWidth 300\r\n",
       "hide circle\r\n",
       "\r\n",
       "package \"ConnectionTest\" as E1  [[psysml:316d1b7b-e6b7-4d49-a637-31383ba5712a ]]  {\r\n",
       "comp usage \"p\" as E2  <<(T,blue) part>> [[psysml:c01c1eb8-4402-477c-affb-a3d93aa1c07f ]] {\r\n",
       "}\r\n",
       "comp usage \"x\" as E3  <<(T,blue) part>> [[psysml:83a66275-79f9-4d22-aa8c-e03faa30289f ]] {\r\n",
       "}\r\n",
       "comp usage \"x1\" as E4  <<(T,blue) part>> [[psysml:aa5ac9d5-4dfe-418e-90b4-d1e9d9002b4c ]] {\r\n",
       "}\r\n",
       "comp def \"P\" as E5  <<(T,blue) part def>> [[psysml:fe1eabcd-2f5c-4c92-bec8-31bd54db8461 ]] {\r\n",
       "}\r\n",
       "comp usage \"y\" as E6  <<(T,blue) part>> [[psysml:06be23d5-21a7-42eb-83e3-f8e6bdc4a055 ]] {\r\n",
       "}\r\n",
       "comp usage \"p1\" as E7  <<(T,blue) part>> [[psysml:32e0c838-e55d-456a-ac80-3fd98b88adbf ]] {\r\n",
       "}\r\n",
       "E2 *- - \"1\"E3 [[psysml:96d6ab40-4f8f-4d11-a48f-d95a37d5e194 ]] \r\n",
       "E3 *- - \"1\"E4 [[psysml:15b45894-f404-4f26-aaef-cf96b8c0ca99 ]] \r\n",
       "E5 *- - \"1\"E6 [[psysml:e9a2dbd2-75b9-45f4-aecc-a2c2183931e9 ]] \r\n",
       "E2 -[thickness=3]- \"*\"E6 [[psysml:2b37c4a5-3576-4b38-9831-53a66373adf4 ]] \r\n",
       "E5 *- - \"1\"E7 [[psysml:0433d7bc-4d61-42a3-98d7-5077bd02d97e ]] \r\n",
       "E7 - -|> E2 [[psysml:d6550333-67eb-4da5-a08d-e8c2ba9c3c42 ]] \r\n",
       "}\r\n",
       "@enduml\r\n",
       "\n",
       "PlantUML version 1.2020.13(Sat Jun 13 12:26:38 UTC 2020)\n",
       "(EPL source distribution)\n",
       "Java Runtime: OpenJDK Runtime Environment\n",
       "JVM: OpenJDK 64-Bit Server VM\n",
       "Default Encoding: UTF-8\n",
       "Language: en\n",
       "Country: null\n",
       "--></g></svg>"
      ]
     },
     "execution_count": 44,
     "metadata": {},
     "output_type": "execute_result"
    }
   ],
   "source": [
    "%viz --style=\"TB\" --view=\"Default\" \"ConnectionTest\""
   ]
  },
  {
   "cell_type": "code",
   "execution_count": 45,
   "id": "c27673a3",
   "metadata": {
    "execution": {
     "iopub.execute_input": "2021-08-04T06:28:54.617744Z",
     "iopub.status.busy": "2021-08-04T06:28:54.617306Z",
     "iopub.status.idle": "2021-08-04T06:28:54.641691Z",
     "shell.execute_reply": "2021-08-04T06:28:54.640453Z"
    }
   },
   "outputs": [
    {
     "data": {
      "image/svg+xml": [
       "<?xml version=\"1.0\" encoding=\"UTF-8\" standalone=\"no\"?><svg xmlns=\"http://www.w3.org/2000/svg\" xmlns:xlink=\"http://www.w3.org/1999/xlink\" contentScriptType=\"application/ecmascript\" contentStyleType=\"text/css\" height=\"539px\" preserveAspectRatio=\"none\" style=\"width:189px;height:539px;\" version=\"1.1\" viewBox=\"0 0 189 539\" width=\"189px\" zoomAndPan=\"magnify\"><defs/><g><!--MD5=[fbc87193dbaf4d95561dea2c320d4a47]\n",
       "cluster E1--><a href=\"psysml:316d1b7b-e6b7-4d49-a637-31383ba5712a\" target=\"_top\" title=\"psysml:316d1b7b-e6b7-4d49-a637-31383ba5712a\" xlink:actuate=\"onRequest\" xlink:href=\"psysml:316d1b7b-e6b7-4d49-a637-31383ba5712a\" xlink:show=\"new\" xlink:title=\"psysml:316d1b7b-e6b7-4d49-a637-31383ba5712a\" xlink:type=\"simple\"><polygon fill=\"#FFFFFF\" points=\"16,6,147,6,154,28.2969,167,28.2969,167,527,16,527,16,6\" style=\"stroke: #000000; stroke-width: 1.5;\"/><line style=\"stroke: #000000; stroke-width: 1.5;\" x1=\"16\" x2=\"154\" y1=\"28.2969\" y2=\"28.2969\"/><text fill=\"#000000\" font-family=\"sans-serif\" font-size=\"14\" font-weight=\"bold\" lengthAdjust=\"spacingAndGlyphs\" textLength=\"125\" x=\"20\" y=\"20.9951\">ConnectionTest</text></a><!--MD5=[b4997ac47864f28c2f74865a473b2911]\n",
       "class E2--><a href=\"psysml:c01c1eb8-4402-477c-affb-a3d93aa1c07f\" target=\"_top\" title=\"psysml:c01c1eb8-4402-477c-affb-a3d93aa1c07f\" xlink:actuate=\"onRequest\" xlink:href=\"psysml:c01c1eb8-4402-477c-affb-a3d93aa1c07f\" xlink:show=\"new\" xlink:title=\"psysml:c01c1eb8-4402-477c-affb-a3d93aa1c07f\" xlink:type=\"simple\"><rect fill=\"#FFFFFF\" height=\"45.9375\" id=\"E2\" rx=\"10\" ry=\"10\" style=\"stroke: #383838; stroke-width: 1.5;\" width=\"42\" x=\"89\" y=\"253\"/><text fill=\"#000000\" font-family=\"sans-serif\" font-size=\"12\" font-style=\"italic\" lengthAdjust=\"spacingAndGlyphs\" textLength=\"40\" x=\"90\" y=\"269.1387\">«part»</text><text fill=\"#000000\" font-family=\"sans-serif\" font-size=\"12\" lengthAdjust=\"spacingAndGlyphs\" textLength=\"8\" x=\"106\" y=\"283.1074\">p</text><line style=\"stroke: #383838; stroke-width: 1.5;\" x1=\"90\" x2=\"130\" y1=\"290.9375\" y2=\"290.9375\"/></a><!--MD5=[09b614a08d8cba4a07c9adeb5e0fee81]\n",
       "class E3--><a href=\"psysml:83a66275-79f9-4d22-aa8c-e03faa30289f\" target=\"_top\" title=\"psysml:83a66275-79f9-4d22-aa8c-e03faa30289f\" xlink:actuate=\"onRequest\" xlink:href=\"psysml:83a66275-79f9-4d22-aa8c-e03faa30289f\" xlink:show=\"new\" xlink:title=\"psysml:83a66275-79f9-4d22-aa8c-e03faa30289f\" xlink:type=\"simple\"><rect fill=\"#FFFFFF\" height=\"45.9375\" id=\"E3\" rx=\"10\" ry=\"10\" style=\"stroke: #383838; stroke-width: 1.5;\" width=\"42\" x=\"109\" y=\"359\"/><text fill=\"#000000\" font-family=\"sans-serif\" font-size=\"12\" font-style=\"italic\" lengthAdjust=\"spacingAndGlyphs\" textLength=\"40\" x=\"110\" y=\"375.1387\">«part»</text><text fill=\"#000000\" font-family=\"sans-serif\" font-size=\"12\" lengthAdjust=\"spacingAndGlyphs\" textLength=\"6\" x=\"127\" y=\"389.1074\">x</text><line style=\"stroke: #383838; stroke-width: 1.5;\" x1=\"110\" x2=\"150\" y1=\"396.9375\" y2=\"396.9375\"/></a><!--MD5=[ebbe1d658d1005bcc118a6aa81145e00]\n",
       "class E4--><a href=\"psysml:aa5ac9d5-4dfe-418e-90b4-d1e9d9002b4c\" target=\"_top\" title=\"psysml:aa5ac9d5-4dfe-418e-90b4-d1e9d9002b4c\" xlink:actuate=\"onRequest\" xlink:href=\"psysml:aa5ac9d5-4dfe-418e-90b4-d1e9d9002b4c\" xlink:show=\"new\" xlink:title=\"psysml:aa5ac9d5-4dfe-418e-90b4-d1e9d9002b4c\" xlink:type=\"simple\"><rect fill=\"#FFFFFF\" height=\"45.9375\" id=\"E4\" rx=\"10\" ry=\"10\" style=\"stroke: #383838; stroke-width: 1.5;\" width=\"42\" x=\"109\" y=\"465\"/><text fill=\"#000000\" font-family=\"sans-serif\" font-size=\"12\" font-style=\"italic\" lengthAdjust=\"spacingAndGlyphs\" textLength=\"40\" x=\"110\" y=\"481.1387\">«part»</text><text fill=\"#000000\" font-family=\"sans-serif\" font-size=\"12\" lengthAdjust=\"spacingAndGlyphs\" textLength=\"14\" x=\"123\" y=\"495.1074\">x1</text><line style=\"stroke: #383838; stroke-width: 1.5;\" x1=\"110\" x2=\"150\" y1=\"502.9375\" y2=\"502.9375\"/></a><!--MD5=[270fce915f116d4de14055a7c1d9a0f3]\n",
       "class E5--><a href=\"psysml:fe1eabcd-2f5c-4c92-bec8-31bd54db8461\" target=\"_top\" title=\"psysml:fe1eabcd-2f5c-4c92-bec8-31bd54db8461\" xlink:actuate=\"onRequest\" xlink:href=\"psysml:fe1eabcd-2f5c-4c92-bec8-31bd54db8461\" xlink:show=\"new\" xlink:title=\"psysml:fe1eabcd-2f5c-4c92-bec8-31bd54db8461\" xlink:type=\"simple\"><rect fill=\"#FFFFFF\" height=\"45.9375\" id=\"E5\" style=\"stroke: #383838; stroke-width: 1.5;\" width=\"66\" x=\"54\" y=\"41\"/><text fill=\"#000000\" font-family=\"sans-serif\" font-size=\"12\" font-style=\"italic\" lengthAdjust=\"spacingAndGlyphs\" textLength=\"64\" x=\"55\" y=\"57.1387\">«part def»</text><text fill=\"#000000\" font-family=\"sans-serif\" font-size=\"12\" lengthAdjust=\"spacingAndGlyphs\" textLength=\"8\" x=\"83\" y=\"71.1074\">P</text><line style=\"stroke: #383838; stroke-width: 1.5;\" x1=\"55\" x2=\"119\" y1=\"78.9375\" y2=\"78.9375\"/></a><!--MD5=[60a26617385b1d2d0262a64233df1f8d]\n",
       "class E6--><a href=\"psysml:06be23d5-21a7-42eb-83e3-f8e6bdc4a055\" target=\"_top\" title=\"psysml:06be23d5-21a7-42eb-83e3-f8e6bdc4a055\" xlink:actuate=\"onRequest\" xlink:href=\"psysml:06be23d5-21a7-42eb-83e3-f8e6bdc4a055\" xlink:show=\"new\" xlink:title=\"psysml:06be23d5-21a7-42eb-83e3-f8e6bdc4a055\" xlink:type=\"simple\"><rect fill=\"#FFFFFF\" height=\"45.9375\" id=\"E6\" rx=\"10\" ry=\"10\" style=\"stroke: #383838; stroke-width: 1.5;\" width=\"42\" x=\"32\" y=\"359\"/><text fill=\"#000000\" font-family=\"sans-serif\" font-size=\"12\" font-style=\"italic\" lengthAdjust=\"spacingAndGlyphs\" textLength=\"40\" x=\"33\" y=\"375.1387\">«part»</text><text fill=\"#000000\" font-family=\"sans-serif\" font-size=\"12\" lengthAdjust=\"spacingAndGlyphs\" textLength=\"6\" x=\"50\" y=\"389.1074\">y</text><line style=\"stroke: #383838; stroke-width: 1.5;\" x1=\"33\" x2=\"73\" y1=\"396.9375\" y2=\"396.9375\"/></a><!--MD5=[2156ba9850f5573cc1fc38a6a4b2f02b]\n",
       "class E7--><a href=\"psysml:32e0c838-e55d-456a-ac80-3fd98b88adbf\" target=\"_top\" title=\"psysml:32e0c838-e55d-456a-ac80-3fd98b88adbf\" xlink:actuate=\"onRequest\" xlink:href=\"psysml:32e0c838-e55d-456a-ac80-3fd98b88adbf\" xlink:show=\"new\" xlink:title=\"psysml:32e0c838-e55d-456a-ac80-3fd98b88adbf\" xlink:type=\"simple\"><rect fill=\"#FFFFFF\" height=\"45.9375\" id=\"E7\" rx=\"10\" ry=\"10\" style=\"stroke: #383838; stroke-width: 1.5;\" width=\"42\" x=\"89\" y=\"147\"/><text fill=\"#000000\" font-family=\"sans-serif\" font-size=\"12\" font-style=\"italic\" lengthAdjust=\"spacingAndGlyphs\" textLength=\"40\" x=\"90\" y=\"163.1387\">«part»</text><text fill=\"#000000\" font-family=\"sans-serif\" font-size=\"12\" lengthAdjust=\"spacingAndGlyphs\" textLength=\"16\" x=\"102\" y=\"177.1074\">p1</text><line style=\"stroke: #383838; stroke-width: 1.5;\" x1=\"90\" x2=\"130\" y1=\"184.9375\" y2=\"184.9375\"/></a><!--MD5=[209b3feb70ccb6233bfe1053d122c12c]\n",
       "reverse link E2 to E3--><a href=\"psysml:96d6ab40-4f8f-4d11-a48f-d95a37d5e194\" target=\"_top\" title=\"psysml:96d6ab40-4f8f-4d11-a48f-d95a37d5e194\" xlink:actuate=\"onRequest\" xlink:href=\"psysml:96d6ab40-4f8f-4d11-a48f-d95a37d5e194\" xlink:show=\"new\" xlink:title=\"psysml:96d6ab40-4f8f-4d11-a48f-d95a37d5e194\" xlink:type=\"simple\"><path d=\"M116.72,311.96 C119.71,327.51 123.14,345.33 125.76,358.98 \" fill=\"none\" id=\"E2&lt;-E3\" style=\"stroke: #383838; stroke-width: 1.0;\"/><polygon fill=\"#383838\" points=\"114.24,299.06,111.447,305.7082,116.5096,310.8434,119.3026,304.1952,114.24,299.06\" style=\"stroke: #383838; stroke-width: 1.0;\"/><text fill=\"#000000\" font-family=\"sans-serif\" font-size=\"13\" lengthAdjust=\"spacingAndGlyphs\" textLength=\"8\" x=\"115.5455\" y=\"347.8709\">1</text></a><!--MD5=[4672eba38e49728da53d11aeb285b987]\n",
       "reverse link E3 to E4--><a href=\"psysml:15b45894-f404-4f26-aaef-cf96b8c0ca99\" target=\"_top\" title=\"psysml:15b45894-f404-4f26-aaef-cf96b8c0ca99\" xlink:actuate=\"onRequest\" xlink:href=\"psysml:15b45894-f404-4f26-aaef-cf96b8c0ca99\" xlink:show=\"new\" xlink:title=\"psysml:15b45894-f404-4f26-aaef-cf96b8c0ca99\" xlink:type=\"simple\"><path d=\"M130,418.44 C130,433.87 130,451.47 130,464.98 \" fill=\"none\" id=\"E3&lt;-E4\" style=\"stroke: #383838; stroke-width: 1.0;\"/><polygon fill=\"#383838\" points=\"130,405.06,126,411.06,130,417.06,134,411.06,130,405.06\" style=\"stroke: #383838; stroke-width: 1.0;\"/><text fill=\"#000000\" font-family=\"sans-serif\" font-size=\"13\" lengthAdjust=\"spacingAndGlyphs\" textLength=\"8\" x=\"120.925\" y=\"453.8709\">1</text></a><!--MD5=[85d356282659285ab4b2cfe2f634dd2b]\n",
       "reverse link E5 to E6--><a href=\"psysml:e9a2dbd2-75b9-45f4-aecc-a2c2183931e9\" target=\"_top\" title=\"psysml:e9a2dbd2-75b9-45f4-aecc-a2c2183931e9\" xlink:actuate=\"onRequest\" xlink:href=\"psysml:e9a2dbd2-75b9-45f4-aecc-a2c2183931e9\" xlink:show=\"new\" xlink:title=\"psysml:e9a2dbd2-75b9-45f4-aecc-a2c2183931e9\" xlink:type=\"simple\"><path d=\"M79.77,100.15 C77.01,114.61 74.03,131.56 72,147 C61.78,224.59 56.2,317.42 54.05,358.98 \" fill=\"none\" id=\"E5&lt;-E6\" style=\"stroke: #383838; stroke-width: 1.0;\"/><polygon fill=\"#383838\" points=\"82.32,87.18,77.2408,92.2988,80.0123,98.956,85.0915,93.8372,82.32,87.18\" style=\"stroke: #383838; stroke-width: 1.0;\"/><text fill=\"#000000\" font-family=\"sans-serif\" font-size=\"13\" lengthAdjust=\"spacingAndGlyphs\" textLength=\"8\" x=\"45.2572\" y=\"347.8709\">1</text></a><!--MD5=[e3e28c1befcf002155aa15e1416b4315]\n",
       "link E2 to E6--><a href=\"psysml:2b37c4a5-3576-4b38-9831-53a66373adf4\" target=\"_top\" title=\"psysml:2b37c4a5-3576-4b38-9831-53a66373adf4\" xlink:actuate=\"onRequest\" xlink:href=\"psysml:2b37c4a5-3576-4b38-9831-53a66373adf4\" xlink:show=\"new\" xlink:title=\"psysml:2b37c4a5-3576-4b38-9831-53a66373adf4\" xlink:type=\"simple\"><path d=\"M97.91,299.06 C88.24,316.7 74.74,341.34 65.07,358.98 \" fill=\"none\" id=\"E2-E6\" style=\"stroke: #383838; stroke-width: 3.0;\"/><text fill=\"#000000\" font-family=\"sans-serif\" font-size=\"13\" lengthAdjust=\"spacingAndGlyphs\" textLength=\"7\" x=\"60.3732\" y=\"347.8709\">*</text></a><!--MD5=[452b418e7f8a40397a49b8c0a78acc5b]\n",
       "reverse link E5 to E7--><a href=\"psysml:0433d7bc-4d61-42a3-98d7-5077bd02d97e\" target=\"_top\" title=\"psysml:0433d7bc-4d61-42a3-98d7-5077bd02d97e\" xlink:actuate=\"onRequest\" xlink:href=\"psysml:0433d7bc-4d61-42a3-98d7-5077bd02d97e\" xlink:show=\"new\" xlink:title=\"psysml:0433d7bc-4d61-42a3-98d7-5077bd02d97e\" xlink:type=\"simple\"><path d=\"M94.73,99.96 C98.17,115.51 102.11,133.33 105.13,146.98 \" fill=\"none\" id=\"E5&lt;-E7\" style=\"stroke: #383838; stroke-width: 1.0;\"/><polygon fill=\"#383838\" points=\"91.88,87.06,89.2656,93.7805,94.4636,98.7786,97.078,92.0581,91.88,87.06\" style=\"stroke: #383838; stroke-width: 1.0;\"/><text fill=\"#000000\" font-family=\"sans-serif\" font-size=\"13\" lengthAdjust=\"spacingAndGlyphs\" textLength=\"8\" x=\"94.7462\" y=\"135.8709\">1</text></a><!--MD5=[583832df87f4419a098336a29a52fa00]\n",
       "link E7 to E2--><a href=\"psysml:d6550333-67eb-4da5-a08d-e8c2ba9c3c42\" target=\"_top\" title=\"psysml:d6550333-67eb-4da5-a08d-e8c2ba9c3c42\" xlink:actuate=\"onRequest\" xlink:href=\"psysml:d6550333-67eb-4da5-a08d-e8c2ba9c3c42\" xlink:show=\"new\" xlink:title=\"psysml:d6550333-67eb-4da5-a08d-e8c2ba9c3c42\" xlink:type=\"simple\"><path d=\"M110,193.06 C110,204.64 110,219.23 110,232.87 \" fill=\"none\" id=\"E7-&gt;E2\" style=\"stroke: #383838; stroke-width: 1.0;\"/><polygon fill=\"none\" points=\"117,232.98,110,252.98,103,232.98,117,232.98\" style=\"stroke: #383838; stroke-width: 1.0;\"/></a><!--MD5=[f71d84fb5ea83f7d7b314aa36d4aad1c]\n",
       "@startuml\r\n",
       "top to bottom direction\r\n",
       "skinparam monochrome true\r\n",
       "skinparam classbackgroundcolor white\r\n",
       "skinparam shadowing false\r\n",
       "skinparam wrapWidth 300\r\n",
       "hide circle\r\n",
       "\r\n",
       "package \"ConnectionTest\" as E1  [[psysml:316d1b7b-e6b7-4d49-a637-31383ba5712a ]]  {\r\n",
       "comp usage \"p\" as E2  <<(T,blue) part>> [[psysml:c01c1eb8-4402-477c-affb-a3d93aa1c07f ]] {\r\n",
       "}\r\n",
       "comp usage \"x\" as E3  <<(T,blue) part>> [[psysml:83a66275-79f9-4d22-aa8c-e03faa30289f ]] {\r\n",
       "}\r\n",
       "comp usage \"x1\" as E4  <<(T,blue) part>> [[psysml:aa5ac9d5-4dfe-418e-90b4-d1e9d9002b4c ]] {\r\n",
       "}\r\n",
       "comp def \"P\" as E5  <<(T,blue) part def>> [[psysml:fe1eabcd-2f5c-4c92-bec8-31bd54db8461 ]] {\r\n",
       "}\r\n",
       "comp usage \"y\" as E6  <<(T,blue) part>> [[psysml:06be23d5-21a7-42eb-83e3-f8e6bdc4a055 ]] {\r\n",
       "}\r\n",
       "comp usage \"p1\" as E7  <<(T,blue) part>> [[psysml:32e0c838-e55d-456a-ac80-3fd98b88adbf ]] {\r\n",
       "}\r\n",
       "E2 *- - \"1\"E3 [[psysml:96d6ab40-4f8f-4d11-a48f-d95a37d5e194 ]] \r\n",
       "E3 *- - \"1\"E4 [[psysml:15b45894-f404-4f26-aaef-cf96b8c0ca99 ]] \r\n",
       "E5 *- - \"1\"E6 [[psysml:e9a2dbd2-75b9-45f4-aecc-a2c2183931e9 ]] \r\n",
       "E2 -[thickness=3]- \"*\"E6 [[psysml:2b37c4a5-3576-4b38-9831-53a66373adf4 ]] \r\n",
       "E5 *- - \"1\"E7 [[psysml:0433d7bc-4d61-42a3-98d7-5077bd02d97e ]] \r\n",
       "E7 - -|> E2 [[psysml:d6550333-67eb-4da5-a08d-e8c2ba9c3c42 ]] \r\n",
       "}\r\n",
       "@enduml\r\n",
       "\n",
       "PlantUML version 1.2020.13(Sat Jun 13 12:26:38 UTC 2020)\n",
       "(EPL source distribution)\n",
       "Java Runtime: OpenJDK Runtime Environment\n",
       "JVM: OpenJDK 64-Bit Server VM\n",
       "Default Encoding: UTF-8\n",
       "Language: en\n",
       "Country: null\n",
       "--></g></svg>"
      ]
     },
     "execution_count": 45,
     "metadata": {},
     "output_type": "execute_result"
    }
   ],
   "source": [
    "%viz --style=\"TB\" --view=\"Tree\" \"ConnectionTest\""
   ]
  },
  {
   "cell_type": "code",
   "execution_count": 46,
   "id": "1eac798f",
   "metadata": {
    "execution": {
     "iopub.execute_input": "2021-08-04T06:28:54.691214Z",
     "iopub.status.busy": "2021-08-04T06:28:54.690803Z",
     "iopub.status.idle": "2021-08-04T06:28:54.695366Z",
     "shell.execute_reply": "2021-08-04T06:28:54.694941Z"
    }
   },
   "outputs": [
    {
     "data": {
      "image/svg+xml": [
       "<?xml version=\"1.0\" encoding=\"UTF-8\" standalone=\"no\"?><svg xmlns=\"http://www.w3.org/2000/svg\" xmlns:xlink=\"http://www.w3.org/1999/xlink\" contentScriptType=\"application/ecmascript\" contentStyleType=\"text/css\" height=\"12px\" preserveAspectRatio=\"none\" style=\"width:12px;height:12px;\" version=\"1.1\" viewBox=\"0 0 12 12\" width=\"12px\" zoomAndPan=\"magnify\"><defs/><g><!--MD5=[f4ee21bc66e489b5061b7c3e9601fdef]\n",
       "@startuml\r\n",
       "top to bottom direction\r\n",
       "skinparam monochrome true\r\n",
       "skinparam classbackgroundcolor white\r\n",
       "skinparam shadowing false\r\n",
       "skinparam wrapWidth 300\r\n",
       "hide circle\r\n",
       "\r\n",
       "@enduml\r\n",
       "\n",
       "PlantUML version 1.2020.13(Sat Jun 13 12:26:38 UTC 2020)\n",
       "(EPL source distribution)\n",
       "Java Runtime: OpenJDK Runtime Environment\n",
       "JVM: OpenJDK 64-Bit Server VM\n",
       "Default Encoding: UTF-8\n",
       "Language: en\n",
       "Country: null\n",
       "--></g></svg>"
      ]
     },
     "execution_count": 46,
     "metadata": {},
     "output_type": "execute_result"
    }
   ],
   "source": [
    "%viz --style=\"TB\" --view=\"State\" \"ConnectionTest\""
   ]
  },
  {
   "cell_type": "code",
   "execution_count": 47,
   "id": "970d48b4",
   "metadata": {
    "execution": {
     "iopub.execute_input": "2021-08-04T06:28:54.745108Z",
     "iopub.status.busy": "2021-08-04T06:28:54.744718Z",
     "iopub.status.idle": "2021-08-04T06:28:54.772978Z",
     "shell.execute_reply": "2021-08-04T06:28:54.772333Z"
    }
   },
   "outputs": [
    {
     "data": {
      "image/svg+xml": [
       "<?xml version=\"1.0\" encoding=\"UTF-8\" standalone=\"no\"?><svg xmlns=\"http://www.w3.org/2000/svg\" xmlns:xlink=\"http://www.w3.org/1999/xlink\" contentScriptType=\"application/ecmascript\" contentStyleType=\"text/css\" height=\"406px\" preserveAspectRatio=\"none\" style=\"width:509px;height:406px;\" version=\"1.1\" viewBox=\"0 0 509 406\" width=\"509px\" zoomAndPan=\"magnify\"><defs/><g><!--MD5=[fbc87193dbaf4d95561dea2c320d4a47]\n",
       "cluster E1--><a href=\"psysml:316d1b7b-e6b7-4d49-a637-31383ba5712a\" target=\"_top\" title=\"psysml:316d1b7b-e6b7-4d49-a637-31383ba5712a\" xlink:actuate=\"onRequest\" xlink:href=\"psysml:316d1b7b-e6b7-4d49-a637-31383ba5712a\" xlink:show=\"new\" xlink:title=\"psysml:316d1b7b-e6b7-4d49-a637-31383ba5712a\" xlink:type=\"simple\"><polygon fill=\"#FFFFFF\" points=\"16,6,147,6,154,28.2969,487,28.2969,487,394,16,394,16,6\" style=\"stroke: #000000; stroke-width: 1.5;\"/><line style=\"stroke: #000000; stroke-width: 1.5;\" x1=\"16\" x2=\"154\" y1=\"28.2969\" y2=\"28.2969\"/><text fill=\"#000000\" font-family=\"sans-serif\" font-size=\"14\" font-weight=\"bold\" lengthAdjust=\"spacingAndGlyphs\" textLength=\"125\" x=\"20\" y=\"20.9951\">ConnectionTest</text></a><!--MD5=[e4f7fae6ed58524ba242bb0b0d3be6b7]\n",
       "cluster E2--><a href=\"psysml:c01c1eb8-4402-477c-affb-a3d93aa1c07f\" target=\"_top\" title=\"psysml:c01c1eb8-4402-477c-affb-a3d93aa1c07f\" xlink:actuate=\"onRequest\" xlink:href=\"psysml:c01c1eb8-4402-477c-affb-a3d93aa1c07f\" xlink:show=\"new\" xlink:title=\"psysml:c01c1eb8-4402-477c-affb-a3d93aa1c07f\" xlink:type=\"simple\"><rect fill=\"#FFFFFF\" height=\"174\" id=\"E2\" rx=\"10\" ry=\"10\" style=\"stroke: #383838; stroke-width: 1.5;\" width=\"154\" x=\"301\" y=\"116\"/><rect fill=\"#F8F8F8\" height=\"23.9688\" rx=\"10\" ry=\"10\" style=\"stroke: #F8F8F8; stroke-width: 1.5;\" width=\"154\" x=\"301\" y=\"116\"/><rect fill=\"#F8F8F8\" height=\"10\" style=\"stroke: #F8F8F8; stroke-width: 1.5;\" width=\"154\" x=\"301\" y=\"129.9688\"/><rect fill=\"none\" height=\"174\" id=\"E2\" rx=\"10\" ry=\"10\" style=\"stroke: #383838; stroke-width: 1.5;\" width=\"154\" x=\"301\" y=\"116\"/><text fill=\"#000000\" font-family=\"sans-serif\" font-size=\"12\" lengthAdjust=\"spacingAndGlyphs\" textLength=\"8\" x=\"374\" y=\"132.1387\">p</text><line style=\"stroke: #383838; stroke-width: 1.0;\" x1=\"301\" x2=\"455\" y1=\"139.9688\" y2=\"139.9688\"/></a><!--MD5=[d5e69f78d87373223dbae638b30a9c99]\n",
       "cluster E3--><a href=\"psysml:83a66275-79f9-4d22-aa8c-e03faa30289f\" target=\"_top\" title=\"psysml:83a66275-79f9-4d22-aa8c-e03faa30289f\" xlink:actuate=\"onRequest\" xlink:href=\"psysml:83a66275-79f9-4d22-aa8c-e03faa30289f\" xlink:show=\"new\" xlink:title=\"psysml:83a66275-79f9-4d22-aa8c-e03faa30289f\" xlink:type=\"simple\"><rect fill=\"#FFFFFF\" height=\"91\" id=\"E3\" rx=\"10\" ry=\"10\" style=\"stroke: #383838; stroke-width: 1.5;\" width=\"82\" x=\"341\" y=\"167\"/><rect fill=\"#F8F8F8\" height=\"23.9688\" rx=\"10\" ry=\"10\" style=\"stroke: #F8F8F8; stroke-width: 1.5;\" width=\"82\" x=\"341\" y=\"167\"/><rect fill=\"#F8F8F8\" height=\"10\" style=\"stroke: #F8F8F8; stroke-width: 1.5;\" width=\"82\" x=\"341\" y=\"180.9688\"/><rect fill=\"none\" height=\"91\" id=\"E3\" rx=\"10\" ry=\"10\" style=\"stroke: #383838; stroke-width: 1.5;\" width=\"82\" x=\"341\" y=\"167\"/><text fill=\"#000000\" font-family=\"sans-serif\" font-size=\"12\" lengthAdjust=\"spacingAndGlyphs\" textLength=\"6\" x=\"379\" y=\"183.1387\">x</text><line style=\"stroke: #383838; stroke-width: 1.0;\" x1=\"341\" x2=\"423\" y1=\"190.9688\" y2=\"190.9688\"/></a><!--MD5=[de5ec2e2e8f62f467e546659f5068c88]\n",
       "cluster E5--><a href=\"psysml:fe1eabcd-2f5c-4c92-bec8-31bd54db8461\" target=\"_top\" title=\"psysml:fe1eabcd-2f5c-4c92-bec8-31bd54db8461\" xlink:actuate=\"onRequest\" xlink:href=\"psysml:fe1eabcd-2f5c-4c92-bec8-31bd54db8461\" xlink:show=\"new\" xlink:title=\"psysml:fe1eabcd-2f5c-4c92-bec8-31bd54db8461\" xlink:type=\"simple\"><rect fill=\"#FFFFFF\" height=\"321\" id=\"E5\" style=\"stroke: #383838; stroke-width: 1.5;\" width=\"229\" x=\"40\" y=\"49\"/><rect fill=\"#F8F8F8\" height=\"37.9375\" style=\"stroke: #383838; stroke-width: 1.5;\" width=\"229\" x=\"40\" y=\"49\"/><text fill=\"#000000\" font-family=\"sans-serif\" font-size=\"12\" font-style=\"italic\" lengthAdjust=\"spacingAndGlyphs\" textLength=\"64\" x=\"122.5\" y=\"65.1387\">«part def»</text><text fill=\"#000000\" font-family=\"sans-serif\" font-size=\"12\" lengthAdjust=\"spacingAndGlyphs\" textLength=\"8\" x=\"150.5\" y=\"79.1074\">P</text></a><!--MD5=[168fadf3d0c3fd93dd5d6da1b1d7ab76]\n",
       "cluster E7--><a href=\"psysml:32e0c838-e55d-456a-ac80-3fd98b88adbf\" target=\"_top\" title=\"psysml:32e0c838-e55d-456a-ac80-3fd98b88adbf\" xlink:actuate=\"onRequest\" xlink:href=\"psysml:32e0c838-e55d-456a-ac80-3fd98b88adbf\" xlink:show=\"new\" xlink:title=\"psysml:32e0c838-e55d-456a-ac80-3fd98b88adbf\" xlink:type=\"simple\"><rect fill=\"#FFFFFF\" height=\"190\" id=\"E7\" rx=\"10\" ry=\"10\" style=\"stroke: #383838; stroke-width: 1.5;\" width=\"181\" x=\"64\" y=\"108\"/><rect fill=\"#F8F8F8\" height=\"23.9688\" rx=\"10\" ry=\"10\" style=\"stroke: #F8F8F8; stroke-width: 1.5;\" width=\"181\" x=\"64\" y=\"108\"/><rect fill=\"#F8F8F8\" height=\"10\" style=\"stroke: #F8F8F8; stroke-width: 1.5;\" width=\"181\" x=\"64\" y=\"121.9688\"/><rect fill=\"none\" height=\"190\" id=\"E7\" rx=\"10\" ry=\"10\" style=\"stroke: #383838; stroke-width: 1.5;\" width=\"181\" x=\"64\" y=\"108\"/><text fill=\"#000000\" font-family=\"sans-serif\" font-size=\"12\" lengthAdjust=\"spacingAndGlyphs\" textLength=\"16\" x=\"146.5\" y=\"124.1387\">p1</text><line style=\"stroke: #383838; stroke-width: 1.0;\" x1=\"64\" x2=\"245\" y1=\"131.9688\" y2=\"131.9688\"/></a><!--MD5=[55dfccfc6c49c2d10cd1bd2211a6c90c]\n",
       "cluster E8--><a href=\"psysml:83a66275-79f9-4d22-aa8c-e03faa30289f\" target=\"_top\" title=\"psysml:83a66275-79f9-4d22-aa8c-e03faa30289f\" xlink:actuate=\"onRequest\" xlink:href=\"psysml:83a66275-79f9-4d22-aa8c-e03faa30289f\" xlink:show=\"new\" xlink:title=\"psysml:83a66275-79f9-4d22-aa8c-e03faa30289f\" xlink:type=\"simple\"><rect fill=\"#FFFFFF\" height=\"107\" id=\"E8\" rx=\"10\" ry=\"10\" style=\"stroke: #383838; stroke-width: 1.5;\" width=\"117\" x=\"96\" y=\"159\"/><rect fill=\"#F8F8F8\" height=\"23.9688\" rx=\"10\" ry=\"10\" style=\"stroke: #F8F8F8; stroke-width: 1.5;\" width=\"117\" x=\"96\" y=\"159\"/><rect fill=\"#F8F8F8\" height=\"10\" style=\"stroke: #F8F8F8; stroke-width: 1.5;\" width=\"117\" x=\"96\" y=\"172.9688\"/><rect fill=\"none\" height=\"107\" id=\"E8\" rx=\"10\" ry=\"10\" style=\"stroke: #383838; stroke-width: 1.5;\" width=\"117\" x=\"96\" y=\"159\"/><text fill=\"#000000\" font-family=\"sans-serif\" font-size=\"12\" lengthAdjust=\"spacingAndGlyphs\" textLength=\"16\" x=\"146.5\" y=\"175.1387\">^x</text><line style=\"stroke: #383838; stroke-width: 1.0;\" x1=\"96\" x2=\"213\" y1=\"182.9688\" y2=\"182.9688\"/></a><g id=\"E1.E2.E3.E4\"><a href=\"psysml:aa5ac9d5-4dfe-418e-90b4-d1e9d9002b4c\" target=\"_top\" title=\"psysml:aa5ac9d5-4dfe-418e-90b4-d1e9d9002b4c\" xlink:actuate=\"onRequest\" xlink:href=\"psysml:aa5ac9d5-4dfe-418e-90b4-d1e9d9002b4c\" xlink:show=\"new\" xlink:title=\"psysml:aa5ac9d5-4dfe-418e-90b4-d1e9d9002b4c\" xlink:type=\"simple\"><rect fill=\"#FFFFFF\" height=\"40\" id=\"E4\" rx=\"10\" ry=\"10\" style=\"stroke: #383838; stroke-width: 1.5;\" width=\"50\" x=\"357\" y=\"202\"/><rect fill=\"#F8F8F8\" height=\"23.9688\" rx=\"10\" ry=\"10\" style=\"stroke: #F8F8F8; stroke-width: 1.5;\" width=\"50\" x=\"357\" y=\"202\"/><rect fill=\"#F8F8F8\" height=\"10\" style=\"stroke: #F8F8F8; stroke-width: 1.5;\" width=\"50\" x=\"357\" y=\"215.9688\"/><rect fill=\"none\" height=\"40\" id=\"E4\" rx=\"10\" ry=\"10\" style=\"stroke: #383838; stroke-width: 1.5;\" width=\"50\" x=\"357\" y=\"202\"/><text fill=\"#000000\" font-family=\"sans-serif\" font-size=\"12\" lengthAdjust=\"spacingAndGlyphs\" textLength=\"14\" x=\"375\" y=\"218.1387\">x1</text></a></g><g id=\"E1.E5.E6\"><a href=\"psysml:06be23d5-21a7-42eb-83e3-f8e6bdc4a055\" target=\"_top\" title=\"psysml:06be23d5-21a7-42eb-83e3-f8e6bdc4a055\" xlink:actuate=\"onRequest\" xlink:href=\"psysml:06be23d5-21a7-42eb-83e3-f8e6bdc4a055\" xlink:show=\"new\" xlink:title=\"psysml:06be23d5-21a7-42eb-83e3-f8e6bdc4a055\" xlink:type=\"simple\"><rect fill=\"#FFFFFF\" height=\"40\" id=\"E6\" rx=\"10\" ry=\"10\" style=\"stroke: #383838; stroke-width: 1.5;\" width=\"50\" x=\"139\" y=\"314\"/><rect fill=\"#F8F8F8\" height=\"23.9688\" rx=\"10\" ry=\"10\" style=\"stroke: #F8F8F8; stroke-width: 1.5;\" width=\"50\" x=\"139\" y=\"314\"/><rect fill=\"#F8F8F8\" height=\"10\" style=\"stroke: #F8F8F8; stroke-width: 1.5;\" width=\"50\" x=\"139\" y=\"327.9688\"/><rect fill=\"none\" height=\"40\" id=\"E6\" rx=\"10\" ry=\"10\" style=\"stroke: #383838; stroke-width: 1.5;\" width=\"50\" x=\"139\" y=\"314\"/><text fill=\"#000000\" font-family=\"sans-serif\" font-size=\"12\" lengthAdjust=\"spacingAndGlyphs\" textLength=\"6\" x=\"161\" y=\"330.1387\">y</text></a></g><g id=\"E1.E5.E7.E8.E9\"><a href=\"psysml:aa5ac9d5-4dfe-418e-90b4-d1e9d9002b4c\" target=\"_top\" title=\"psysml:aa5ac9d5-4dfe-418e-90b4-d1e9d9002b4c\" xlink:actuate=\"onRequest\" xlink:href=\"psysml:aa5ac9d5-4dfe-418e-90b4-d1e9d9002b4c\" xlink:show=\"new\" xlink:title=\"psysml:aa5ac9d5-4dfe-418e-90b4-d1e9d9002b4c\" xlink:type=\"simple\"><rect fill=\"#FFFFFF\" height=\"40\" id=\"E9\" rx=\"10\" ry=\"10\" style=\"stroke: #383838; stroke-width: 1.5;\" width=\"50\" x=\"139\" y=\"202\"/><rect fill=\"#F8F8F8\" height=\"23.9688\" rx=\"10\" ry=\"10\" style=\"stroke: #F8F8F8; stroke-width: 1.5;\" width=\"50\" x=\"139\" y=\"202\"/><rect fill=\"#F8F8F8\" height=\"10\" style=\"stroke: #F8F8F8; stroke-width: 1.5;\" width=\"50\" x=\"139\" y=\"215.9688\"/><rect fill=\"none\" height=\"40\" id=\"E9\" rx=\"10\" ry=\"10\" style=\"stroke: #383838; stroke-width: 1.5;\" width=\"50\" x=\"139\" y=\"202\"/><text fill=\"#000000\" font-family=\"sans-serif\" font-size=\"12\" lengthAdjust=\"spacingAndGlyphs\" textLength=\"14\" x=\"157\" y=\"218.1387\">x1</text></a></g><!--MD5=[e3e28c1befcf002155aa15e1416b4315]\n",
       "link E2 to E6--><a href=\"psysml:2b37c4a5-3576-4b38-9831-53a66373adf4\" target=\"_top\" title=\"psysml:2b37c4a5-3576-4b38-9831-53a66373adf4\" xlink:actuate=\"onRequest\" xlink:href=\"psysml:2b37c4a5-3576-4b38-9831-53a66373adf4\" xlink:show=\"new\" xlink:title=\"psysml:2b37c4a5-3576-4b38-9831-53a66373adf4\" xlink:type=\"simple\"><path d=\"M300.7532,230.0089 C300.6678,230.081 300.5818,230.1536 300.4952,230.2266 C300.3221,230.3728 300.1466,230.5208 299.9687,230.6708 C299.2574,231.2706 298.509,231.9009 297.7253,232.56 C291.4556,237.8325 282.9263,244.945 273.0525,253.02 C253.305,269.17 228.18,289.17 205,306 C200.03,309.61 194.62,313.32 189.4,316.79 \" fill=\"none\" id=\"E2-E6\" style=\"stroke: #383838; stroke-width: 3.0;\"/><text fill=\"#000000\" font-family=\"sans-serif\" font-size=\"13\" lengthAdjust=\"spacingAndGlyphs\" textLength=\"7\" x=\"197.1669\" y=\"307.2339\">*</text></a><!--MD5=[c5e8897d989ce984f93528998a7150fe]\n",
       "link E8 to E6--><a href=\"psysml:55b22e92-f05f-458a-a067-1c48392866cc\" target=\"_top\" title=\"psysml:55b22e92-f05f-458a-a067-1c48392866cc\" xlink:actuate=\"onRequest\" xlink:href=\"psysml:55b22e92-f05f-458a-a067-1c48392866cc\" xlink:show=\"new\" xlink:title=\"psysml:55b22e92-f05f-458a-a067-1c48392866cc\" xlink:type=\"simple\"><path d=\"M107.5144,266.114 C107.5418,266.252 107.5694,266.3902 107.5972,266.5284 C107.6527,266.8049 107.7091,267.0817 107.7663,267.3589 C108.6814,271.7933 109.8082,276.3099 111.1942,280.7795 C113.9663,289.7188 117.775,298.47 123,306 C127.08,311.88 132.9,316.81 138.87,320.78 \" fill=\"none\" id=\"E8-E6\" style=\"stroke: #383838; stroke-width: 3.0;\"/><text fill=\"#000000\" font-family=\"sans-serif\" font-size=\"13\" lengthAdjust=\"spacingAndGlyphs\" textLength=\"7\" x=\"124.1757\" y=\"312.2962\">*</text></a><!--MD5=[60ac2c0cde89d4308155b0484e57a8ec]\n",
       "link E9 to E6--><a href=\"psysml:f5fd66b3-5ce3-4ce3-99f1-5aad5efc9456\" target=\"_top\" title=\"psysml:f5fd66b3-5ce3-4ce3-99f1-5aad5efc9456\" xlink:actuate=\"onRequest\" xlink:href=\"psysml:f5fd66b3-5ce3-4ce3-99f1-5aad5efc9456\" xlink:show=\"new\" xlink:title=\"psysml:f5fd66b3-5ce3-4ce3-99f1-5aad5efc9456\" xlink:type=\"simple\"><path d=\"M164,242.16 C164,262.23 164,293.57 164,313.69 \" fill=\"none\" id=\"E9-E6\" style=\"stroke: #383838; stroke-width: 3.0;\"/><text fill=\"#000000\" font-family=\"sans-serif\" font-size=\"13\" lengthAdjust=\"spacingAndGlyphs\" textLength=\"7\" x=\"156.0156\" y=\"302.954\">*</text></a><!--MD5=[4014c35bf216dd8f32664f30e0a5496d]\n",
       "@startuml\r\n",
       "skinparam ranksep 10\r\n",
       "skinparam rectangle {\r\n",
       " backgroundColor<<block>> LightGreen\r\n",
       "}\r\n",
       "top to bottom direction\r\n",
       "skinparam monochrome true\r\n",
       "skinparam classbackgroundcolor white\r\n",
       "skinparam shadowing false\r\n",
       "skinparam wrapWidth 300\r\n",
       "hide circle\r\n",
       "\r\n",
       "package \"ConnectionTest\" as E1  [[psysml:316d1b7b-e6b7-4d49-a637-31383ba5712a ]]  {\r\n",
       "rec usage \"p\" as E2  [[psysml:c01c1eb8-4402-477c-affb-a3d93aa1c07f ]] {\r\n",
       "rec usage \"x\" as E3  [[psysml:83a66275-79f9-4d22-aa8c-e03faa30289f ]] {\r\n",
       "rec usage \"x1\" as E4  [[psysml:aa5ac9d5-4dfe-418e-90b4-d1e9d9002b4c ]] {\r\n",
       "}\r\n",
       "}\r\n",
       "}\r\n",
       "rec def \"P\" as E5  <<(T,blue) part def>> [[psysml:fe1eabcd-2f5c-4c92-bec8-31bd54db8461 ]] {\r\n",
       "rec usage \"y\" as E6  [[psysml:06be23d5-21a7-42eb-83e3-f8e6bdc4a055 ]] {\r\n",
       "}\r\n",
       "rec usage \"p1\" as E7  [[psysml:32e0c838-e55d-456a-ac80-3fd98b88adbf ]] {\r\n",
       "rec usage \"^x\" as E8  [[psysml:83a66275-79f9-4d22-aa8c-e03faa30289f ]] {\r\n",
       "rec usage \"x1\" as E9  [[psysml:aa5ac9d5-4dfe-418e-90b4-d1e9d9002b4c ]] {\r\n",
       "}\r\n",
       "}\r\n",
       "}\r\n",
       "}\r\n",
       "E2 -[thickness=3]- \"*\"E6 [[psysml:2b37c4a5-3576-4b38-9831-53a66373adf4 ]] \r\n",
       "E8 -[thickness=3]- \"*\"E6 [[psysml:55b22e92-f05f-458a-a067-1c48392866cc ]] \r\n",
       "E9 -[thickness=3]- \"*\"E6 [[psysml:f5fd66b3-5ce3-4ce3-99f1-5aad5efc9456 ]] \r\n",
       "}\r\n",
       "@enduml\r\n",
       "\n",
       "PlantUML version 1.2020.13(Sat Jun 13 12:26:38 UTC 2020)\n",
       "(EPL source distribution)\n",
       "Java Runtime: OpenJDK Runtime Environment\n",
       "JVM: OpenJDK 64-Bit Server VM\n",
       "Default Encoding: UTF-8\n",
       "Language: en\n",
       "Country: null\n",
       "--></g></svg>"
      ]
     },
     "execution_count": 47,
     "metadata": {},
     "output_type": "execute_result"
    }
   ],
   "source": [
    "%viz --style=\"TB\" --view=\"Interconnection\" \"ConnectionTest\""
   ]
  },
  {
   "cell_type": "code",
   "execution_count": 48,
   "id": "05a195b7",
   "metadata": {
    "execution": {
     "iopub.execute_input": "2021-08-04T06:28:54.823077Z",
     "iopub.status.busy": "2021-08-04T06:28:54.822834Z",
     "iopub.status.idle": "2021-08-04T06:28:54.826721Z",
     "shell.execute_reply": "2021-08-04T06:28:54.826871Z"
    }
   },
   "outputs": [
    {
     "data": {
      "image/svg+xml": [
       "<?xml version=\"1.0\" encoding=\"UTF-8\" standalone=\"no\"?><svg xmlns=\"http://www.w3.org/2000/svg\" xmlns:xlink=\"http://www.w3.org/1999/xlink\" contentScriptType=\"application/ecmascript\" contentStyleType=\"text/css\" height=\"12px\" preserveAspectRatio=\"none\" style=\"width:12px;height:12px;\" version=\"1.1\" viewBox=\"0 0 12 12\" width=\"12px\" zoomAndPan=\"magnify\"><defs/><g><!--MD5=[06afc254b03ac5e9d9fb7773b07d0800]\n",
       "@startuml\r\n",
       "skinparam ranksep 8\r\n",
       "top to bottom direction\r\n",
       "skinparam monochrome true\r\n",
       "skinparam classbackgroundcolor white\r\n",
       "skinparam shadowing false\r\n",
       "skinparam wrapWidth 300\r\n",
       "hide circle\r\n",
       "\r\n",
       "@enduml\r\n",
       "\n",
       "PlantUML version 1.2020.13(Sat Jun 13 12:26:38 UTC 2020)\n",
       "(EPL source distribution)\n",
       "Java Runtime: OpenJDK Runtime Environment\n",
       "JVM: OpenJDK 64-Bit Server VM\n",
       "Default Encoding: UTF-8\n",
       "Language: en\n",
       "Country: null\n",
       "--></g></svg>"
      ]
     },
     "execution_count": 48,
     "metadata": {},
     "output_type": "execute_result"
    }
   ],
   "source": [
    "%viz --style=\"TB\" --view=\"Action\" \"ConnectionTest\""
   ]
  },
  {
   "cell_type": "code",
   "execution_count": 49,
   "id": "6d642de7",
   "metadata": {
    "execution": {
     "iopub.execute_input": "2021-08-04T06:28:54.877693Z",
     "iopub.status.busy": "2021-08-04T06:28:54.877298Z",
     "iopub.status.idle": "2021-08-04T06:28:54.904539Z",
     "shell.execute_reply": "2021-08-04T06:28:54.903353Z"
    }
   },
   "outputs": [
    {
     "data": {
      "image/svg+xml": [
       "<?xml version=\"1.0\" encoding=\"UTF-8\" standalone=\"no\"?><svg xmlns=\"http://www.w3.org/2000/svg\" xmlns:xlink=\"http://www.w3.org/1999/xlink\" contentScriptType=\"application/ecmascript\" contentStyleType=\"text/css\" height=\"539px\" preserveAspectRatio=\"none\" style=\"width:189px;height:539px;\" version=\"1.1\" viewBox=\"0 0 189 539\" width=\"189px\" zoomAndPan=\"magnify\"><defs/><g><!--MD5=[fbc87193dbaf4d95561dea2c320d4a47]\n",
       "cluster E1--><a href=\"psysml:316d1b7b-e6b7-4d49-a637-31383ba5712a\" target=\"_top\" title=\"psysml:316d1b7b-e6b7-4d49-a637-31383ba5712a\" xlink:actuate=\"onRequest\" xlink:href=\"psysml:316d1b7b-e6b7-4d49-a637-31383ba5712a\" xlink:show=\"new\" xlink:title=\"psysml:316d1b7b-e6b7-4d49-a637-31383ba5712a\" xlink:type=\"simple\"><polygon fill=\"#FFFFFF\" points=\"16,6,147,6,154,28.2969,167,28.2969,167,527,16,527,16,6\" style=\"stroke: #000000; stroke-width: 1.5;\"/><line style=\"stroke: #000000; stroke-width: 1.5;\" x1=\"16\" x2=\"154\" y1=\"28.2969\" y2=\"28.2969\"/><text fill=\"#000000\" font-family=\"sans-serif\" font-size=\"14\" font-weight=\"bold\" lengthAdjust=\"spacingAndGlyphs\" textLength=\"125\" x=\"20\" y=\"20.9951\">ConnectionTest</text></a><!--MD5=[b4997ac47864f28c2f74865a473b2911]\n",
       "class E2--><a href=\"psysml:c01c1eb8-4402-477c-affb-a3d93aa1c07f\" target=\"_top\" title=\"psysml:c01c1eb8-4402-477c-affb-a3d93aa1c07f\" xlink:actuate=\"onRequest\" xlink:href=\"psysml:c01c1eb8-4402-477c-affb-a3d93aa1c07f\" xlink:show=\"new\" xlink:title=\"psysml:c01c1eb8-4402-477c-affb-a3d93aa1c07f\" xlink:type=\"simple\"><rect fill=\"#FFFFFF\" height=\"45.9375\" id=\"E2\" rx=\"10\" ry=\"10\" style=\"stroke: #383838; stroke-width: 1.5;\" width=\"42\" x=\"89\" y=\"253\"/><text fill=\"#000000\" font-family=\"sans-serif\" font-size=\"12\" font-style=\"italic\" lengthAdjust=\"spacingAndGlyphs\" textLength=\"40\" x=\"90\" y=\"269.1387\">«part»</text><text fill=\"#000000\" font-family=\"sans-serif\" font-size=\"12\" lengthAdjust=\"spacingAndGlyphs\" textLength=\"8\" x=\"106\" y=\"283.1074\">p</text><line style=\"stroke: #383838; stroke-width: 1.5;\" x1=\"90\" x2=\"130\" y1=\"290.9375\" y2=\"290.9375\"/></a><!--MD5=[09b614a08d8cba4a07c9adeb5e0fee81]\n",
       "class E3--><a href=\"psysml:83a66275-79f9-4d22-aa8c-e03faa30289f\" target=\"_top\" title=\"psysml:83a66275-79f9-4d22-aa8c-e03faa30289f\" xlink:actuate=\"onRequest\" xlink:href=\"psysml:83a66275-79f9-4d22-aa8c-e03faa30289f\" xlink:show=\"new\" xlink:title=\"psysml:83a66275-79f9-4d22-aa8c-e03faa30289f\" xlink:type=\"simple\"><rect fill=\"#FFFFFF\" height=\"45.9375\" id=\"E3\" rx=\"10\" ry=\"10\" style=\"stroke: #383838; stroke-width: 1.5;\" width=\"42\" x=\"109\" y=\"359\"/><text fill=\"#000000\" font-family=\"sans-serif\" font-size=\"12\" font-style=\"italic\" lengthAdjust=\"spacingAndGlyphs\" textLength=\"40\" x=\"110\" y=\"375.1387\">«part»</text><text fill=\"#000000\" font-family=\"sans-serif\" font-size=\"12\" lengthAdjust=\"spacingAndGlyphs\" textLength=\"6\" x=\"127\" y=\"389.1074\">x</text><line style=\"stroke: #383838; stroke-width: 1.5;\" x1=\"110\" x2=\"150\" y1=\"396.9375\" y2=\"396.9375\"/></a><!--MD5=[ebbe1d658d1005bcc118a6aa81145e00]\n",
       "class E4--><a href=\"psysml:aa5ac9d5-4dfe-418e-90b4-d1e9d9002b4c\" target=\"_top\" title=\"psysml:aa5ac9d5-4dfe-418e-90b4-d1e9d9002b4c\" xlink:actuate=\"onRequest\" xlink:href=\"psysml:aa5ac9d5-4dfe-418e-90b4-d1e9d9002b4c\" xlink:show=\"new\" xlink:title=\"psysml:aa5ac9d5-4dfe-418e-90b4-d1e9d9002b4c\" xlink:type=\"simple\"><rect fill=\"#FFFFFF\" height=\"45.9375\" id=\"E4\" rx=\"10\" ry=\"10\" style=\"stroke: #383838; stroke-width: 1.5;\" width=\"42\" x=\"109\" y=\"465\"/><text fill=\"#000000\" font-family=\"sans-serif\" font-size=\"12\" font-style=\"italic\" lengthAdjust=\"spacingAndGlyphs\" textLength=\"40\" x=\"110\" y=\"481.1387\">«part»</text><text fill=\"#000000\" font-family=\"sans-serif\" font-size=\"12\" lengthAdjust=\"spacingAndGlyphs\" textLength=\"14\" x=\"123\" y=\"495.1074\">x1</text><line style=\"stroke: #383838; stroke-width: 1.5;\" x1=\"110\" x2=\"150\" y1=\"502.9375\" y2=\"502.9375\"/></a><!--MD5=[270fce915f116d4de14055a7c1d9a0f3]\n",
       "class E5--><a href=\"psysml:fe1eabcd-2f5c-4c92-bec8-31bd54db8461\" target=\"_top\" title=\"psysml:fe1eabcd-2f5c-4c92-bec8-31bd54db8461\" xlink:actuate=\"onRequest\" xlink:href=\"psysml:fe1eabcd-2f5c-4c92-bec8-31bd54db8461\" xlink:show=\"new\" xlink:title=\"psysml:fe1eabcd-2f5c-4c92-bec8-31bd54db8461\" xlink:type=\"simple\"><rect fill=\"#FFFFFF\" height=\"45.9375\" id=\"E5\" style=\"stroke: #383838; stroke-width: 1.5;\" width=\"66\" x=\"54\" y=\"41\"/><text fill=\"#000000\" font-family=\"sans-serif\" font-size=\"12\" font-style=\"italic\" lengthAdjust=\"spacingAndGlyphs\" textLength=\"64\" x=\"55\" y=\"57.1387\">«part def»</text><text fill=\"#000000\" font-family=\"sans-serif\" font-size=\"12\" lengthAdjust=\"spacingAndGlyphs\" textLength=\"8\" x=\"83\" y=\"71.1074\">P</text><line style=\"stroke: #383838; stroke-width: 1.5;\" x1=\"55\" x2=\"119\" y1=\"78.9375\" y2=\"78.9375\"/></a><!--MD5=[60a26617385b1d2d0262a64233df1f8d]\n",
       "class E6--><a href=\"psysml:06be23d5-21a7-42eb-83e3-f8e6bdc4a055\" target=\"_top\" title=\"psysml:06be23d5-21a7-42eb-83e3-f8e6bdc4a055\" xlink:actuate=\"onRequest\" xlink:href=\"psysml:06be23d5-21a7-42eb-83e3-f8e6bdc4a055\" xlink:show=\"new\" xlink:title=\"psysml:06be23d5-21a7-42eb-83e3-f8e6bdc4a055\" xlink:type=\"simple\"><rect fill=\"#FFFFFF\" height=\"45.9375\" id=\"E6\" rx=\"10\" ry=\"10\" style=\"stroke: #383838; stroke-width: 1.5;\" width=\"42\" x=\"32\" y=\"359\"/><text fill=\"#000000\" font-family=\"sans-serif\" font-size=\"12\" font-style=\"italic\" lengthAdjust=\"spacingAndGlyphs\" textLength=\"40\" x=\"33\" y=\"375.1387\">«part»</text><text fill=\"#000000\" font-family=\"sans-serif\" font-size=\"12\" lengthAdjust=\"spacingAndGlyphs\" textLength=\"6\" x=\"50\" y=\"389.1074\">y</text><line style=\"stroke: #383838; stroke-width: 1.5;\" x1=\"33\" x2=\"73\" y1=\"396.9375\" y2=\"396.9375\"/></a><!--MD5=[2156ba9850f5573cc1fc38a6a4b2f02b]\n",
       "class E7--><a href=\"psysml:32e0c838-e55d-456a-ac80-3fd98b88adbf\" target=\"_top\" title=\"psysml:32e0c838-e55d-456a-ac80-3fd98b88adbf\" xlink:actuate=\"onRequest\" xlink:href=\"psysml:32e0c838-e55d-456a-ac80-3fd98b88adbf\" xlink:show=\"new\" xlink:title=\"psysml:32e0c838-e55d-456a-ac80-3fd98b88adbf\" xlink:type=\"simple\"><rect fill=\"#FFFFFF\" height=\"45.9375\" id=\"E7\" rx=\"10\" ry=\"10\" style=\"stroke: #383838; stroke-width: 1.5;\" width=\"42\" x=\"89\" y=\"147\"/><text fill=\"#000000\" font-family=\"sans-serif\" font-size=\"12\" font-style=\"italic\" lengthAdjust=\"spacingAndGlyphs\" textLength=\"40\" x=\"90\" y=\"163.1387\">«part»</text><text fill=\"#000000\" font-family=\"sans-serif\" font-size=\"12\" lengthAdjust=\"spacingAndGlyphs\" textLength=\"16\" x=\"102\" y=\"177.1074\">p1</text><line style=\"stroke: #383838; stroke-width: 1.5;\" x1=\"90\" x2=\"130\" y1=\"184.9375\" y2=\"184.9375\"/></a><!--MD5=[209b3feb70ccb6233bfe1053d122c12c]\n",
       "reverse link E2 to E3--><a href=\"psysml:96d6ab40-4f8f-4d11-a48f-d95a37d5e194\" target=\"_top\" title=\"psysml:96d6ab40-4f8f-4d11-a48f-d95a37d5e194\" xlink:actuate=\"onRequest\" xlink:href=\"psysml:96d6ab40-4f8f-4d11-a48f-d95a37d5e194\" xlink:show=\"new\" xlink:title=\"psysml:96d6ab40-4f8f-4d11-a48f-d95a37d5e194\" xlink:type=\"simple\"><path d=\"M116.72,311.96 C119.71,327.51 123.14,345.33 125.76,358.98 \" fill=\"none\" id=\"E2&lt;-E3\" style=\"stroke: #383838; stroke-width: 1.0;\"/><polygon fill=\"#383838\" points=\"114.24,299.06,111.447,305.7082,116.5096,310.8434,119.3026,304.1952,114.24,299.06\" style=\"stroke: #383838; stroke-width: 1.0;\"/><text fill=\"#000000\" font-family=\"sans-serif\" font-size=\"13\" lengthAdjust=\"spacingAndGlyphs\" textLength=\"8\" x=\"115.5455\" y=\"347.8709\">1</text></a><!--MD5=[4672eba38e49728da53d11aeb285b987]\n",
       "reverse link E3 to E4--><a href=\"psysml:15b45894-f404-4f26-aaef-cf96b8c0ca99\" target=\"_top\" title=\"psysml:15b45894-f404-4f26-aaef-cf96b8c0ca99\" xlink:actuate=\"onRequest\" xlink:href=\"psysml:15b45894-f404-4f26-aaef-cf96b8c0ca99\" xlink:show=\"new\" xlink:title=\"psysml:15b45894-f404-4f26-aaef-cf96b8c0ca99\" xlink:type=\"simple\"><path d=\"M130,418.44 C130,433.87 130,451.47 130,464.98 \" fill=\"none\" id=\"E3&lt;-E4\" style=\"stroke: #383838; stroke-width: 1.0;\"/><polygon fill=\"#383838\" points=\"130,405.06,126,411.06,130,417.06,134,411.06,130,405.06\" style=\"stroke: #383838; stroke-width: 1.0;\"/><text fill=\"#000000\" font-family=\"sans-serif\" font-size=\"13\" lengthAdjust=\"spacingAndGlyphs\" textLength=\"8\" x=\"120.925\" y=\"453.8709\">1</text></a><!--MD5=[85d356282659285ab4b2cfe2f634dd2b]\n",
       "reverse link E5 to E6--><a href=\"psysml:e9a2dbd2-75b9-45f4-aecc-a2c2183931e9\" target=\"_top\" title=\"psysml:e9a2dbd2-75b9-45f4-aecc-a2c2183931e9\" xlink:actuate=\"onRequest\" xlink:href=\"psysml:e9a2dbd2-75b9-45f4-aecc-a2c2183931e9\" xlink:show=\"new\" xlink:title=\"psysml:e9a2dbd2-75b9-45f4-aecc-a2c2183931e9\" xlink:type=\"simple\"><path d=\"M79.77,100.15 C77.01,114.61 74.03,131.56 72,147 C61.78,224.59 56.2,317.42 54.05,358.98 \" fill=\"none\" id=\"E5&lt;-E6\" style=\"stroke: #383838; stroke-width: 1.0;\"/><polygon fill=\"#383838\" points=\"82.32,87.18,77.2408,92.2988,80.0123,98.956,85.0915,93.8372,82.32,87.18\" style=\"stroke: #383838; stroke-width: 1.0;\"/><text fill=\"#000000\" font-family=\"sans-serif\" font-size=\"13\" lengthAdjust=\"spacingAndGlyphs\" textLength=\"8\" x=\"45.2572\" y=\"347.8709\">1</text></a><!--MD5=[e3e28c1befcf002155aa15e1416b4315]\n",
       "link E2 to E6--><a href=\"psysml:2b37c4a5-3576-4b38-9831-53a66373adf4\" target=\"_top\" title=\"psysml:2b37c4a5-3576-4b38-9831-53a66373adf4\" xlink:actuate=\"onRequest\" xlink:href=\"psysml:2b37c4a5-3576-4b38-9831-53a66373adf4\" xlink:show=\"new\" xlink:title=\"psysml:2b37c4a5-3576-4b38-9831-53a66373adf4\" xlink:type=\"simple\"><path d=\"M97.91,299.06 C88.24,316.7 74.74,341.34 65.07,358.98 \" fill=\"none\" id=\"E2-E6\" style=\"stroke: #383838; stroke-width: 3.0;\"/><text fill=\"#000000\" font-family=\"sans-serif\" font-size=\"13\" lengthAdjust=\"spacingAndGlyphs\" textLength=\"7\" x=\"60.3732\" y=\"347.8709\">*</text></a><!--MD5=[452b418e7f8a40397a49b8c0a78acc5b]\n",
       "reverse link E5 to E7--><a href=\"psysml:0433d7bc-4d61-42a3-98d7-5077bd02d97e\" target=\"_top\" title=\"psysml:0433d7bc-4d61-42a3-98d7-5077bd02d97e\" xlink:actuate=\"onRequest\" xlink:href=\"psysml:0433d7bc-4d61-42a3-98d7-5077bd02d97e\" xlink:show=\"new\" xlink:title=\"psysml:0433d7bc-4d61-42a3-98d7-5077bd02d97e\" xlink:type=\"simple\"><path d=\"M94.73,99.96 C98.17,115.51 102.11,133.33 105.13,146.98 \" fill=\"none\" id=\"E5&lt;-E7\" style=\"stroke: #383838; stroke-width: 1.0;\"/><polygon fill=\"#383838\" points=\"91.88,87.06,89.2656,93.7805,94.4636,98.7786,97.078,92.0581,91.88,87.06\" style=\"stroke: #383838; stroke-width: 1.0;\"/><text fill=\"#000000\" font-family=\"sans-serif\" font-size=\"13\" lengthAdjust=\"spacingAndGlyphs\" textLength=\"8\" x=\"94.7462\" y=\"135.8709\">1</text></a><!--MD5=[583832df87f4419a098336a29a52fa00]\n",
       "link E7 to E2--><a href=\"psysml:d6550333-67eb-4da5-a08d-e8c2ba9c3c42\" target=\"_top\" title=\"psysml:d6550333-67eb-4da5-a08d-e8c2ba9c3c42\" xlink:actuate=\"onRequest\" xlink:href=\"psysml:d6550333-67eb-4da5-a08d-e8c2ba9c3c42\" xlink:show=\"new\" xlink:title=\"psysml:d6550333-67eb-4da5-a08d-e8c2ba9c3c42\" xlink:type=\"simple\"><path d=\"M110,193.06 C110,204.64 110,219.23 110,232.87 \" fill=\"none\" id=\"E7-&gt;E2\" style=\"stroke: #383838; stroke-width: 1.0;\"/><polygon fill=\"none\" points=\"117,232.98,110,252.98,103,232.98,117,232.98\" style=\"stroke: #383838; stroke-width: 1.0;\"/></a><!--MD5=[f71d84fb5ea83f7d7b314aa36d4aad1c]\n",
       "@startuml\r\n",
       "top to bottom direction\r\n",
       "skinparam monochrome true\r\n",
       "skinparam classbackgroundcolor white\r\n",
       "skinparam shadowing false\r\n",
       "skinparam wrapWidth 300\r\n",
       "hide circle\r\n",
       "\r\n",
       "package \"ConnectionTest\" as E1  [[psysml:316d1b7b-e6b7-4d49-a637-31383ba5712a ]]  {\r\n",
       "comp usage \"p\" as E2  <<(T,blue) part>> [[psysml:c01c1eb8-4402-477c-affb-a3d93aa1c07f ]] {\r\n",
       "}\r\n",
       "comp usage \"x\" as E3  <<(T,blue) part>> [[psysml:83a66275-79f9-4d22-aa8c-e03faa30289f ]] {\r\n",
       "}\r\n",
       "comp usage \"x1\" as E4  <<(T,blue) part>> [[psysml:aa5ac9d5-4dfe-418e-90b4-d1e9d9002b4c ]] {\r\n",
       "}\r\n",
       "comp def \"P\" as E5  <<(T,blue) part def>> [[psysml:fe1eabcd-2f5c-4c92-bec8-31bd54db8461 ]] {\r\n",
       "}\r\n",
       "comp usage \"y\" as E6  <<(T,blue) part>> [[psysml:06be23d5-21a7-42eb-83e3-f8e6bdc4a055 ]] {\r\n",
       "}\r\n",
       "comp usage \"p1\" as E7  <<(T,blue) part>> [[psysml:32e0c838-e55d-456a-ac80-3fd98b88adbf ]] {\r\n",
       "}\r\n",
       "E2 *- - \"1\"E3 [[psysml:96d6ab40-4f8f-4d11-a48f-d95a37d5e194 ]] \r\n",
       "E3 *- - \"1\"E4 [[psysml:15b45894-f404-4f26-aaef-cf96b8c0ca99 ]] \r\n",
       "E5 *- - \"1\"E6 [[psysml:e9a2dbd2-75b9-45f4-aecc-a2c2183931e9 ]] \r\n",
       "E2 -[thickness=3]- \"*\"E6 [[psysml:2b37c4a5-3576-4b38-9831-53a66373adf4 ]] \r\n",
       "E5 *- - \"1\"E7 [[psysml:0433d7bc-4d61-42a3-98d7-5077bd02d97e ]] \r\n",
       "E7 - -|> E2 [[psysml:d6550333-67eb-4da5-a08d-e8c2ba9c3c42 ]] \r\n",
       "}\r\n",
       "@enduml\r\n",
       "\n",
       "PlantUML version 1.2020.13(Sat Jun 13 12:26:38 UTC 2020)\n",
       "(EPL source distribution)\n",
       "Java Runtime: OpenJDK Runtime Environment\n",
       "JVM: OpenJDK 64-Bit Server VM\n",
       "Default Encoding: UTF-8\n",
       "Language: en\n",
       "Country: null\n",
       "--></g></svg>"
      ]
     },
     "execution_count": 49,
     "metadata": {},
     "output_type": "execute_result"
    }
   ],
   "source": [
    "%viz --style=\"TB\" --view=\"Sequence\" \"ConnectionTest\""
   ]
  },
  {
   "cell_type": "code",
   "execution_count": 50,
   "id": "cce2a02a",
   "metadata": {
    "execution": {
     "iopub.execute_input": "2021-08-04T06:28:54.954371Z",
     "iopub.status.busy": "2021-08-04T06:28:54.953979Z",
     "iopub.status.idle": "2021-08-04T06:28:54.978143Z",
     "shell.execute_reply": "2021-08-04T06:28:54.977003Z"
    }
   },
   "outputs": [
    {
     "data": {
      "image/svg+xml": [
       "<?xml version=\"1.0\" encoding=\"UTF-8\" standalone=\"no\"?><svg xmlns=\"http://www.w3.org/2000/svg\" xmlns:xlink=\"http://www.w3.org/1999/xlink\" contentScriptType=\"application/ecmascript\" contentStyleType=\"text/css\" height=\"539px\" preserveAspectRatio=\"none\" style=\"width:189px;height:539px;\" version=\"1.1\" viewBox=\"0 0 189 539\" width=\"189px\" zoomAndPan=\"magnify\"><defs/><g><!--MD5=[fbc87193dbaf4d95561dea2c320d4a47]\n",
       "cluster E1--><a href=\"psysml:316d1b7b-e6b7-4d49-a637-31383ba5712a\" target=\"_top\" title=\"psysml:316d1b7b-e6b7-4d49-a637-31383ba5712a\" xlink:actuate=\"onRequest\" xlink:href=\"psysml:316d1b7b-e6b7-4d49-a637-31383ba5712a\" xlink:show=\"new\" xlink:title=\"psysml:316d1b7b-e6b7-4d49-a637-31383ba5712a\" xlink:type=\"simple\"><polygon fill=\"#FFFFFF\" points=\"16,6,147,6,154,28.2969,167,28.2969,167,527,16,527,16,6\" style=\"stroke: #000000; stroke-width: 1.5;\"/><line style=\"stroke: #000000; stroke-width: 1.5;\" x1=\"16\" x2=\"154\" y1=\"28.2969\" y2=\"28.2969\"/><text fill=\"#000000\" font-family=\"sans-serif\" font-size=\"14\" font-weight=\"bold\" lengthAdjust=\"spacingAndGlyphs\" textLength=\"125\" x=\"20\" y=\"20.9951\">ConnectionTest</text></a><!--MD5=[b4997ac47864f28c2f74865a473b2911]\n",
       "class E2--><a href=\"psysml:c01c1eb8-4402-477c-affb-a3d93aa1c07f\" target=\"_top\" title=\"psysml:c01c1eb8-4402-477c-affb-a3d93aa1c07f\" xlink:actuate=\"onRequest\" xlink:href=\"psysml:c01c1eb8-4402-477c-affb-a3d93aa1c07f\" xlink:show=\"new\" xlink:title=\"psysml:c01c1eb8-4402-477c-affb-a3d93aa1c07f\" xlink:type=\"simple\"><rect fill=\"#FFFFFF\" height=\"45.9375\" id=\"E2\" rx=\"10\" ry=\"10\" style=\"stroke: #383838; stroke-width: 1.5;\" width=\"42\" x=\"89\" y=\"253\"/><text fill=\"#000000\" font-family=\"sans-serif\" font-size=\"12\" font-style=\"italic\" lengthAdjust=\"spacingAndGlyphs\" textLength=\"40\" x=\"90\" y=\"269.1387\">«part»</text><text fill=\"#000000\" font-family=\"sans-serif\" font-size=\"12\" lengthAdjust=\"spacingAndGlyphs\" textLength=\"8\" x=\"106\" y=\"283.1074\">p</text><line style=\"stroke: #383838; stroke-width: 1.5;\" x1=\"90\" x2=\"130\" y1=\"290.9375\" y2=\"290.9375\"/></a><!--MD5=[09b614a08d8cba4a07c9adeb5e0fee81]\n",
       "class E3--><a href=\"psysml:83a66275-79f9-4d22-aa8c-e03faa30289f\" target=\"_top\" title=\"psysml:83a66275-79f9-4d22-aa8c-e03faa30289f\" xlink:actuate=\"onRequest\" xlink:href=\"psysml:83a66275-79f9-4d22-aa8c-e03faa30289f\" xlink:show=\"new\" xlink:title=\"psysml:83a66275-79f9-4d22-aa8c-e03faa30289f\" xlink:type=\"simple\"><rect fill=\"#FFFFFF\" height=\"45.9375\" id=\"E3\" rx=\"10\" ry=\"10\" style=\"stroke: #383838; stroke-width: 1.5;\" width=\"42\" x=\"109\" y=\"359\"/><text fill=\"#000000\" font-family=\"sans-serif\" font-size=\"12\" font-style=\"italic\" lengthAdjust=\"spacingAndGlyphs\" textLength=\"40\" x=\"110\" y=\"375.1387\">«part»</text><text fill=\"#000000\" font-family=\"sans-serif\" font-size=\"12\" lengthAdjust=\"spacingAndGlyphs\" textLength=\"6\" x=\"127\" y=\"389.1074\">x</text><line style=\"stroke: #383838; stroke-width: 1.5;\" x1=\"110\" x2=\"150\" y1=\"396.9375\" y2=\"396.9375\"/></a><!--MD5=[ebbe1d658d1005bcc118a6aa81145e00]\n",
       "class E4--><a href=\"psysml:aa5ac9d5-4dfe-418e-90b4-d1e9d9002b4c\" target=\"_top\" title=\"psysml:aa5ac9d5-4dfe-418e-90b4-d1e9d9002b4c\" xlink:actuate=\"onRequest\" xlink:href=\"psysml:aa5ac9d5-4dfe-418e-90b4-d1e9d9002b4c\" xlink:show=\"new\" xlink:title=\"psysml:aa5ac9d5-4dfe-418e-90b4-d1e9d9002b4c\" xlink:type=\"simple\"><rect fill=\"#FFFFFF\" height=\"45.9375\" id=\"E4\" rx=\"10\" ry=\"10\" style=\"stroke: #383838; stroke-width: 1.5;\" width=\"42\" x=\"109\" y=\"465\"/><text fill=\"#000000\" font-family=\"sans-serif\" font-size=\"12\" font-style=\"italic\" lengthAdjust=\"spacingAndGlyphs\" textLength=\"40\" x=\"110\" y=\"481.1387\">«part»</text><text fill=\"#000000\" font-family=\"sans-serif\" font-size=\"12\" lengthAdjust=\"spacingAndGlyphs\" textLength=\"14\" x=\"123\" y=\"495.1074\">x1</text><line style=\"stroke: #383838; stroke-width: 1.5;\" x1=\"110\" x2=\"150\" y1=\"502.9375\" y2=\"502.9375\"/></a><!--MD5=[270fce915f116d4de14055a7c1d9a0f3]\n",
       "class E5--><a href=\"psysml:fe1eabcd-2f5c-4c92-bec8-31bd54db8461\" target=\"_top\" title=\"psysml:fe1eabcd-2f5c-4c92-bec8-31bd54db8461\" xlink:actuate=\"onRequest\" xlink:href=\"psysml:fe1eabcd-2f5c-4c92-bec8-31bd54db8461\" xlink:show=\"new\" xlink:title=\"psysml:fe1eabcd-2f5c-4c92-bec8-31bd54db8461\" xlink:type=\"simple\"><rect fill=\"#FFFFFF\" height=\"45.9375\" id=\"E5\" style=\"stroke: #383838; stroke-width: 1.5;\" width=\"66\" x=\"54\" y=\"41\"/><text fill=\"#000000\" font-family=\"sans-serif\" font-size=\"12\" font-style=\"italic\" lengthAdjust=\"spacingAndGlyphs\" textLength=\"64\" x=\"55\" y=\"57.1387\">«part def»</text><text fill=\"#000000\" font-family=\"sans-serif\" font-size=\"12\" lengthAdjust=\"spacingAndGlyphs\" textLength=\"8\" x=\"83\" y=\"71.1074\">P</text><line style=\"stroke: #383838; stroke-width: 1.5;\" x1=\"55\" x2=\"119\" y1=\"78.9375\" y2=\"78.9375\"/></a><!--MD5=[60a26617385b1d2d0262a64233df1f8d]\n",
       "class E6--><a href=\"psysml:06be23d5-21a7-42eb-83e3-f8e6bdc4a055\" target=\"_top\" title=\"psysml:06be23d5-21a7-42eb-83e3-f8e6bdc4a055\" xlink:actuate=\"onRequest\" xlink:href=\"psysml:06be23d5-21a7-42eb-83e3-f8e6bdc4a055\" xlink:show=\"new\" xlink:title=\"psysml:06be23d5-21a7-42eb-83e3-f8e6bdc4a055\" xlink:type=\"simple\"><rect fill=\"#FFFFFF\" height=\"45.9375\" id=\"E6\" rx=\"10\" ry=\"10\" style=\"stroke: #383838; stroke-width: 1.5;\" width=\"42\" x=\"32\" y=\"359\"/><text fill=\"#000000\" font-family=\"sans-serif\" font-size=\"12\" font-style=\"italic\" lengthAdjust=\"spacingAndGlyphs\" textLength=\"40\" x=\"33\" y=\"375.1387\">«part»</text><text fill=\"#000000\" font-family=\"sans-serif\" font-size=\"12\" lengthAdjust=\"spacingAndGlyphs\" textLength=\"6\" x=\"50\" y=\"389.1074\">y</text><line style=\"stroke: #383838; stroke-width: 1.5;\" x1=\"33\" x2=\"73\" y1=\"396.9375\" y2=\"396.9375\"/></a><!--MD5=[2156ba9850f5573cc1fc38a6a4b2f02b]\n",
       "class E7--><a href=\"psysml:32e0c838-e55d-456a-ac80-3fd98b88adbf\" target=\"_top\" title=\"psysml:32e0c838-e55d-456a-ac80-3fd98b88adbf\" xlink:actuate=\"onRequest\" xlink:href=\"psysml:32e0c838-e55d-456a-ac80-3fd98b88adbf\" xlink:show=\"new\" xlink:title=\"psysml:32e0c838-e55d-456a-ac80-3fd98b88adbf\" xlink:type=\"simple\"><rect fill=\"#FFFFFF\" height=\"45.9375\" id=\"E7\" rx=\"10\" ry=\"10\" style=\"stroke: #383838; stroke-width: 1.5;\" width=\"42\" x=\"89\" y=\"147\"/><text fill=\"#000000\" font-family=\"sans-serif\" font-size=\"12\" font-style=\"italic\" lengthAdjust=\"spacingAndGlyphs\" textLength=\"40\" x=\"90\" y=\"163.1387\">«part»</text><text fill=\"#000000\" font-family=\"sans-serif\" font-size=\"12\" lengthAdjust=\"spacingAndGlyphs\" textLength=\"16\" x=\"102\" y=\"177.1074\">p1</text><line style=\"stroke: #383838; stroke-width: 1.5;\" x1=\"90\" x2=\"130\" y1=\"184.9375\" y2=\"184.9375\"/></a><!--MD5=[209b3feb70ccb6233bfe1053d122c12c]\n",
       "reverse link E2 to E3--><a href=\"psysml:96d6ab40-4f8f-4d11-a48f-d95a37d5e194\" target=\"_top\" title=\"psysml:96d6ab40-4f8f-4d11-a48f-d95a37d5e194\" xlink:actuate=\"onRequest\" xlink:href=\"psysml:96d6ab40-4f8f-4d11-a48f-d95a37d5e194\" xlink:show=\"new\" xlink:title=\"psysml:96d6ab40-4f8f-4d11-a48f-d95a37d5e194\" xlink:type=\"simple\"><path d=\"M116.72,311.96 C119.71,327.51 123.14,345.33 125.76,358.98 \" fill=\"none\" id=\"E2&lt;-E3\" style=\"stroke: #383838; stroke-width: 1.0;\"/><polygon fill=\"#383838\" points=\"114.24,299.06,111.447,305.7082,116.5096,310.8434,119.3026,304.1952,114.24,299.06\" style=\"stroke: #383838; stroke-width: 1.0;\"/><text fill=\"#000000\" font-family=\"sans-serif\" font-size=\"13\" lengthAdjust=\"spacingAndGlyphs\" textLength=\"8\" x=\"115.5455\" y=\"347.8709\">1</text></a><!--MD5=[4672eba38e49728da53d11aeb285b987]\n",
       "reverse link E3 to E4--><a href=\"psysml:15b45894-f404-4f26-aaef-cf96b8c0ca99\" target=\"_top\" title=\"psysml:15b45894-f404-4f26-aaef-cf96b8c0ca99\" xlink:actuate=\"onRequest\" xlink:href=\"psysml:15b45894-f404-4f26-aaef-cf96b8c0ca99\" xlink:show=\"new\" xlink:title=\"psysml:15b45894-f404-4f26-aaef-cf96b8c0ca99\" xlink:type=\"simple\"><path d=\"M130,418.44 C130,433.87 130,451.47 130,464.98 \" fill=\"none\" id=\"E3&lt;-E4\" style=\"stroke: #383838; stroke-width: 1.0;\"/><polygon fill=\"#383838\" points=\"130,405.06,126,411.06,130,417.06,134,411.06,130,405.06\" style=\"stroke: #383838; stroke-width: 1.0;\"/><text fill=\"#000000\" font-family=\"sans-serif\" font-size=\"13\" lengthAdjust=\"spacingAndGlyphs\" textLength=\"8\" x=\"120.925\" y=\"453.8709\">1</text></a><!--MD5=[85d356282659285ab4b2cfe2f634dd2b]\n",
       "reverse link E5 to E6--><a href=\"psysml:e9a2dbd2-75b9-45f4-aecc-a2c2183931e9\" target=\"_top\" title=\"psysml:e9a2dbd2-75b9-45f4-aecc-a2c2183931e9\" xlink:actuate=\"onRequest\" xlink:href=\"psysml:e9a2dbd2-75b9-45f4-aecc-a2c2183931e9\" xlink:show=\"new\" xlink:title=\"psysml:e9a2dbd2-75b9-45f4-aecc-a2c2183931e9\" xlink:type=\"simple\"><path d=\"M79.77,100.15 C77.01,114.61 74.03,131.56 72,147 C61.78,224.59 56.2,317.42 54.05,358.98 \" fill=\"none\" id=\"E5&lt;-E6\" style=\"stroke: #383838; stroke-width: 1.0;\"/><polygon fill=\"#383838\" points=\"82.32,87.18,77.2408,92.2988,80.0123,98.956,85.0915,93.8372,82.32,87.18\" style=\"stroke: #383838; stroke-width: 1.0;\"/><text fill=\"#000000\" font-family=\"sans-serif\" font-size=\"13\" lengthAdjust=\"spacingAndGlyphs\" textLength=\"8\" x=\"45.2572\" y=\"347.8709\">1</text></a><!--MD5=[e3e28c1befcf002155aa15e1416b4315]\n",
       "link E2 to E6--><a href=\"psysml:2b37c4a5-3576-4b38-9831-53a66373adf4\" target=\"_top\" title=\"psysml:2b37c4a5-3576-4b38-9831-53a66373adf4\" xlink:actuate=\"onRequest\" xlink:href=\"psysml:2b37c4a5-3576-4b38-9831-53a66373adf4\" xlink:show=\"new\" xlink:title=\"psysml:2b37c4a5-3576-4b38-9831-53a66373adf4\" xlink:type=\"simple\"><path d=\"M97.91,299.06 C88.24,316.7 74.74,341.34 65.07,358.98 \" fill=\"none\" id=\"E2-E6\" style=\"stroke: #383838; stroke-width: 3.0;\"/><text fill=\"#000000\" font-family=\"sans-serif\" font-size=\"13\" lengthAdjust=\"spacingAndGlyphs\" textLength=\"7\" x=\"60.3732\" y=\"347.8709\">*</text></a><!--MD5=[452b418e7f8a40397a49b8c0a78acc5b]\n",
       "reverse link E5 to E7--><a href=\"psysml:0433d7bc-4d61-42a3-98d7-5077bd02d97e\" target=\"_top\" title=\"psysml:0433d7bc-4d61-42a3-98d7-5077bd02d97e\" xlink:actuate=\"onRequest\" xlink:href=\"psysml:0433d7bc-4d61-42a3-98d7-5077bd02d97e\" xlink:show=\"new\" xlink:title=\"psysml:0433d7bc-4d61-42a3-98d7-5077bd02d97e\" xlink:type=\"simple\"><path d=\"M94.73,99.96 C98.17,115.51 102.11,133.33 105.13,146.98 \" fill=\"none\" id=\"E5&lt;-E7\" style=\"stroke: #383838; stroke-width: 1.0;\"/><polygon fill=\"#383838\" points=\"91.88,87.06,89.2656,93.7805,94.4636,98.7786,97.078,92.0581,91.88,87.06\" style=\"stroke: #383838; stroke-width: 1.0;\"/><text fill=\"#000000\" font-family=\"sans-serif\" font-size=\"13\" lengthAdjust=\"spacingAndGlyphs\" textLength=\"8\" x=\"94.7462\" y=\"135.8709\">1</text></a><!--MD5=[583832df87f4419a098336a29a52fa00]\n",
       "link E7 to E2--><a href=\"psysml:d6550333-67eb-4da5-a08d-e8c2ba9c3c42\" target=\"_top\" title=\"psysml:d6550333-67eb-4da5-a08d-e8c2ba9c3c42\" xlink:actuate=\"onRequest\" xlink:href=\"psysml:d6550333-67eb-4da5-a08d-e8c2ba9c3c42\" xlink:show=\"new\" xlink:title=\"psysml:d6550333-67eb-4da5-a08d-e8c2ba9c3c42\" xlink:type=\"simple\"><path d=\"M110,193.06 C110,204.64 110,219.23 110,232.87 \" fill=\"none\" id=\"E7-&gt;E2\" style=\"stroke: #383838; stroke-width: 1.0;\"/><polygon fill=\"none\" points=\"117,232.98,110,252.98,103,232.98,117,232.98\" style=\"stroke: #383838; stroke-width: 1.0;\"/></a><!--MD5=[f71d84fb5ea83f7d7b314aa36d4aad1c]\n",
       "@startuml\r\n",
       "top to bottom direction\r\n",
       "skinparam monochrome true\r\n",
       "skinparam classbackgroundcolor white\r\n",
       "skinparam shadowing false\r\n",
       "skinparam wrapWidth 300\r\n",
       "hide circle\r\n",
       "\r\n",
       "package \"ConnectionTest\" as E1  [[psysml:316d1b7b-e6b7-4d49-a637-31383ba5712a ]]  {\r\n",
       "comp usage \"p\" as E2  <<(T,blue) part>> [[psysml:c01c1eb8-4402-477c-affb-a3d93aa1c07f ]] {\r\n",
       "}\r\n",
       "comp usage \"x\" as E3  <<(T,blue) part>> [[psysml:83a66275-79f9-4d22-aa8c-e03faa30289f ]] {\r\n",
       "}\r\n",
       "comp usage \"x1\" as E4  <<(T,blue) part>> [[psysml:aa5ac9d5-4dfe-418e-90b4-d1e9d9002b4c ]] {\r\n",
       "}\r\n",
       "comp def \"P\" as E5  <<(T,blue) part def>> [[psysml:fe1eabcd-2f5c-4c92-bec8-31bd54db8461 ]] {\r\n",
       "}\r\n",
       "comp usage \"y\" as E6  <<(T,blue) part>> [[psysml:06be23d5-21a7-42eb-83e3-f8e6bdc4a055 ]] {\r\n",
       "}\r\n",
       "comp usage \"p1\" as E7  <<(T,blue) part>> [[psysml:32e0c838-e55d-456a-ac80-3fd98b88adbf ]] {\r\n",
       "}\r\n",
       "E2 *- - \"1\"E3 [[psysml:96d6ab40-4f8f-4d11-a48f-d95a37d5e194 ]] \r\n",
       "E3 *- - \"1\"E4 [[psysml:15b45894-f404-4f26-aaef-cf96b8c0ca99 ]] \r\n",
       "E5 *- - \"1\"E6 [[psysml:e9a2dbd2-75b9-45f4-aecc-a2c2183931e9 ]] \r\n",
       "E2 -[thickness=3]- \"*\"E6 [[psysml:2b37c4a5-3576-4b38-9831-53a66373adf4 ]] \r\n",
       "E5 *- - \"1\"E7 [[psysml:0433d7bc-4d61-42a3-98d7-5077bd02d97e ]] \r\n",
       "E7 - -|> E2 [[psysml:d6550333-67eb-4da5-a08d-e8c2ba9c3c42 ]] \r\n",
       "}\r\n",
       "@enduml\r\n",
       "\n",
       "PlantUML version 1.2020.13(Sat Jun 13 12:26:38 UTC 2020)\n",
       "(EPL source distribution)\n",
       "Java Runtime: OpenJDK Runtime Environment\n",
       "JVM: OpenJDK 64-Bit Server VM\n",
       "Default Encoding: UTF-8\n",
       "Language: en\n",
       "Country: null\n",
       "--></g></svg>"
      ]
     },
     "execution_count": 50,
     "metadata": {},
     "output_type": "execute_result"
    }
   ],
   "source": [
    "%viz --style=\"TB\" --view=\"MIXED\" \"ConnectionTest\""
   ]
  },
  {
   "cell_type": "code",
   "execution_count": 51,
   "id": "cfdd7fad",
   "metadata": {
    "execution": {
     "iopub.execute_input": "2021-08-04T06:28:55.027876Z",
     "iopub.status.busy": "2021-08-04T06:28:55.027486Z",
     "iopub.status.idle": "2021-08-04T06:28:55.052256Z",
     "shell.execute_reply": "2021-08-04T06:28:55.051111Z"
    }
   },
   "outputs": [
    {
     "data": {
      "image/svg+xml": [
       "<?xml version=\"1.0\" encoding=\"UTF-8\" standalone=\"no\"?><svg xmlns=\"http://www.w3.org/2000/svg\" xmlns:xlink=\"http://www.w3.org/1999/xlink\" contentScriptType=\"application/ecmascript\" contentStyleType=\"text/css\" height=\"539px\" preserveAspectRatio=\"none\" style=\"width:189px;height:539px;\" version=\"1.1\" viewBox=\"0 0 189 539\" width=\"189px\" zoomAndPan=\"magnify\"><defs/><g><!--MD5=[fbc87193dbaf4d95561dea2c320d4a47]\n",
       "cluster E1--><a href=\"psysml:316d1b7b-e6b7-4d49-a637-31383ba5712a\" target=\"_top\" title=\"psysml:316d1b7b-e6b7-4d49-a637-31383ba5712a\" xlink:actuate=\"onRequest\" xlink:href=\"psysml:316d1b7b-e6b7-4d49-a637-31383ba5712a\" xlink:show=\"new\" xlink:title=\"psysml:316d1b7b-e6b7-4d49-a637-31383ba5712a\" xlink:type=\"simple\"><polygon fill=\"#FFFFFF\" points=\"16,6,147,6,154,28.2969,167,28.2969,167,527,16,527,16,6\" style=\"stroke: #000000; stroke-width: 1.5;\"/><line style=\"stroke: #000000; stroke-width: 1.5;\" x1=\"16\" x2=\"154\" y1=\"28.2969\" y2=\"28.2969\"/><text fill=\"#000000\" font-family=\"sans-serif\" font-size=\"14\" font-weight=\"bold\" lengthAdjust=\"spacingAndGlyphs\" textLength=\"125\" x=\"20\" y=\"20.9951\">ConnectionTest</text></a><!--MD5=[b4997ac47864f28c2f74865a473b2911]\n",
       "class E2--><a href=\"psysml:c01c1eb8-4402-477c-affb-a3d93aa1c07f\" target=\"_top\" title=\"psysml:c01c1eb8-4402-477c-affb-a3d93aa1c07f\" xlink:actuate=\"onRequest\" xlink:href=\"psysml:c01c1eb8-4402-477c-affb-a3d93aa1c07f\" xlink:show=\"new\" xlink:title=\"psysml:c01c1eb8-4402-477c-affb-a3d93aa1c07f\" xlink:type=\"simple\"><rect fill=\"#FFFFFF\" height=\"45.9375\" id=\"E2\" rx=\"10\" ry=\"10\" style=\"stroke: #383838; stroke-width: 1.5;\" width=\"42\" x=\"89\" y=\"253\"/><text fill=\"#000000\" font-family=\"sans-serif\" font-size=\"12\" font-style=\"italic\" lengthAdjust=\"spacingAndGlyphs\" textLength=\"40\" x=\"90\" y=\"269.1387\">«part»</text><text fill=\"#000000\" font-family=\"sans-serif\" font-size=\"12\" lengthAdjust=\"spacingAndGlyphs\" textLength=\"8\" x=\"106\" y=\"283.1074\">p</text><line style=\"stroke: #383838; stroke-width: 1.5;\" x1=\"90\" x2=\"130\" y1=\"290.9375\" y2=\"290.9375\"/></a><!--MD5=[09b614a08d8cba4a07c9adeb5e0fee81]\n",
       "class E3--><a href=\"psysml:83a66275-79f9-4d22-aa8c-e03faa30289f\" target=\"_top\" title=\"psysml:83a66275-79f9-4d22-aa8c-e03faa30289f\" xlink:actuate=\"onRequest\" xlink:href=\"psysml:83a66275-79f9-4d22-aa8c-e03faa30289f\" xlink:show=\"new\" xlink:title=\"psysml:83a66275-79f9-4d22-aa8c-e03faa30289f\" xlink:type=\"simple\"><rect fill=\"#FFFFFF\" height=\"45.9375\" id=\"E3\" rx=\"10\" ry=\"10\" style=\"stroke: #383838; stroke-width: 1.5;\" width=\"42\" x=\"109\" y=\"359\"/><text fill=\"#000000\" font-family=\"sans-serif\" font-size=\"12\" font-style=\"italic\" lengthAdjust=\"spacingAndGlyphs\" textLength=\"40\" x=\"110\" y=\"375.1387\">«part»</text><text fill=\"#000000\" font-family=\"sans-serif\" font-size=\"12\" lengthAdjust=\"spacingAndGlyphs\" textLength=\"6\" x=\"127\" y=\"389.1074\">x</text><line style=\"stroke: #383838; stroke-width: 1.5;\" x1=\"110\" x2=\"150\" y1=\"396.9375\" y2=\"396.9375\"/></a><!--MD5=[ebbe1d658d1005bcc118a6aa81145e00]\n",
       "class E4--><a href=\"psysml:aa5ac9d5-4dfe-418e-90b4-d1e9d9002b4c\" target=\"_top\" title=\"psysml:aa5ac9d5-4dfe-418e-90b4-d1e9d9002b4c\" xlink:actuate=\"onRequest\" xlink:href=\"psysml:aa5ac9d5-4dfe-418e-90b4-d1e9d9002b4c\" xlink:show=\"new\" xlink:title=\"psysml:aa5ac9d5-4dfe-418e-90b4-d1e9d9002b4c\" xlink:type=\"simple\"><rect fill=\"#FFFFFF\" height=\"45.9375\" id=\"E4\" rx=\"10\" ry=\"10\" style=\"stroke: #383838; stroke-width: 1.5;\" width=\"42\" x=\"109\" y=\"465\"/><text fill=\"#000000\" font-family=\"sans-serif\" font-size=\"12\" font-style=\"italic\" lengthAdjust=\"spacingAndGlyphs\" textLength=\"40\" x=\"110\" y=\"481.1387\">«part»</text><text fill=\"#000000\" font-family=\"sans-serif\" font-size=\"12\" lengthAdjust=\"spacingAndGlyphs\" textLength=\"14\" x=\"123\" y=\"495.1074\">x1</text><line style=\"stroke: #383838; stroke-width: 1.5;\" x1=\"110\" x2=\"150\" y1=\"502.9375\" y2=\"502.9375\"/></a><!--MD5=[270fce915f116d4de14055a7c1d9a0f3]\n",
       "class E5--><a href=\"psysml:fe1eabcd-2f5c-4c92-bec8-31bd54db8461\" target=\"_top\" title=\"psysml:fe1eabcd-2f5c-4c92-bec8-31bd54db8461\" xlink:actuate=\"onRequest\" xlink:href=\"psysml:fe1eabcd-2f5c-4c92-bec8-31bd54db8461\" xlink:show=\"new\" xlink:title=\"psysml:fe1eabcd-2f5c-4c92-bec8-31bd54db8461\" xlink:type=\"simple\"><rect fill=\"#FFFFFF\" height=\"45.9375\" id=\"E5\" style=\"stroke: #383838; stroke-width: 1.5;\" width=\"66\" x=\"54\" y=\"41\"/><text fill=\"#000000\" font-family=\"sans-serif\" font-size=\"12\" font-style=\"italic\" lengthAdjust=\"spacingAndGlyphs\" textLength=\"64\" x=\"55\" y=\"57.1387\">«part def»</text><text fill=\"#000000\" font-family=\"sans-serif\" font-size=\"12\" lengthAdjust=\"spacingAndGlyphs\" textLength=\"8\" x=\"83\" y=\"71.1074\">P</text><line style=\"stroke: #383838; stroke-width: 1.5;\" x1=\"55\" x2=\"119\" y1=\"78.9375\" y2=\"78.9375\"/></a><!--MD5=[60a26617385b1d2d0262a64233df1f8d]\n",
       "class E6--><a href=\"psysml:06be23d5-21a7-42eb-83e3-f8e6bdc4a055\" target=\"_top\" title=\"psysml:06be23d5-21a7-42eb-83e3-f8e6bdc4a055\" xlink:actuate=\"onRequest\" xlink:href=\"psysml:06be23d5-21a7-42eb-83e3-f8e6bdc4a055\" xlink:show=\"new\" xlink:title=\"psysml:06be23d5-21a7-42eb-83e3-f8e6bdc4a055\" xlink:type=\"simple\"><rect fill=\"#FFFFFF\" height=\"45.9375\" id=\"E6\" rx=\"10\" ry=\"10\" style=\"stroke: #383838; stroke-width: 1.5;\" width=\"42\" x=\"32\" y=\"359\"/><text fill=\"#000000\" font-family=\"sans-serif\" font-size=\"12\" font-style=\"italic\" lengthAdjust=\"spacingAndGlyphs\" textLength=\"40\" x=\"33\" y=\"375.1387\">«part»</text><text fill=\"#000000\" font-family=\"sans-serif\" font-size=\"12\" lengthAdjust=\"spacingAndGlyphs\" textLength=\"6\" x=\"50\" y=\"389.1074\">y</text><line style=\"stroke: #383838; stroke-width: 1.5;\" x1=\"33\" x2=\"73\" y1=\"396.9375\" y2=\"396.9375\"/></a><!--MD5=[2156ba9850f5573cc1fc38a6a4b2f02b]\n",
       "class E7--><a href=\"psysml:32e0c838-e55d-456a-ac80-3fd98b88adbf\" target=\"_top\" title=\"psysml:32e0c838-e55d-456a-ac80-3fd98b88adbf\" xlink:actuate=\"onRequest\" xlink:href=\"psysml:32e0c838-e55d-456a-ac80-3fd98b88adbf\" xlink:show=\"new\" xlink:title=\"psysml:32e0c838-e55d-456a-ac80-3fd98b88adbf\" xlink:type=\"simple\"><rect fill=\"#FFFFFF\" height=\"45.9375\" id=\"E7\" rx=\"10\" ry=\"10\" style=\"stroke: #383838; stroke-width: 1.5;\" width=\"42\" x=\"89\" y=\"147\"/><text fill=\"#000000\" font-family=\"sans-serif\" font-size=\"12\" font-style=\"italic\" lengthAdjust=\"spacingAndGlyphs\" textLength=\"40\" x=\"90\" y=\"163.1387\">«part»</text><text fill=\"#000000\" font-family=\"sans-serif\" font-size=\"12\" lengthAdjust=\"spacingAndGlyphs\" textLength=\"16\" x=\"102\" y=\"177.1074\">p1</text><line style=\"stroke: #383838; stroke-width: 1.5;\" x1=\"90\" x2=\"130\" y1=\"184.9375\" y2=\"184.9375\"/></a><!--MD5=[209b3feb70ccb6233bfe1053d122c12c]\n",
       "reverse link E2 to E3--><a href=\"psysml:96d6ab40-4f8f-4d11-a48f-d95a37d5e194\" target=\"_top\" title=\"psysml:96d6ab40-4f8f-4d11-a48f-d95a37d5e194\" xlink:actuate=\"onRequest\" xlink:href=\"psysml:96d6ab40-4f8f-4d11-a48f-d95a37d5e194\" xlink:show=\"new\" xlink:title=\"psysml:96d6ab40-4f8f-4d11-a48f-d95a37d5e194\" xlink:type=\"simple\"><path d=\"M120,312 C120,312 120,358.68 120,358.68 \" fill=\"none\" id=\"E2&lt;-E3\" style=\"stroke: #383838; stroke-width: 1.0;\"/><polygon fill=\"#383838\" points=\"120,299,116,305,120,311,124,305,120,299\" style=\"stroke: #383838; stroke-width: 1.0;\"/><text fill=\"#000000\" font-family=\"sans-serif\" font-size=\"13\" lengthAdjust=\"spacingAndGlyphs\" textLength=\"8\" x=\"108.4125\" y=\"347.8743\">1</text></a><!--MD5=[4672eba38e49728da53d11aeb285b987]\n",
       "reverse link E3 to E4--><a href=\"psysml:15b45894-f404-4f26-aaef-cf96b8c0ca99\" target=\"_top\" title=\"psysml:15b45894-f404-4f26-aaef-cf96b8c0ca99\" xlink:actuate=\"onRequest\" xlink:href=\"psysml:15b45894-f404-4f26-aaef-cf96b8c0ca99\" xlink:show=\"new\" xlink:title=\"psysml:15b45894-f404-4f26-aaef-cf96b8c0ca99\" xlink:type=\"simple\"><path d=\"M130,418 C130,418 130,464.68 130,464.68 \" fill=\"none\" id=\"E3&lt;-E4\" style=\"stroke: #383838; stroke-width: 1.0;\"/><polygon fill=\"#383838\" points=\"130,405,126,411,130,417,134,411,130,405\" style=\"stroke: #383838; stroke-width: 1.0;\"/><text fill=\"#000000\" font-family=\"sans-serif\" font-size=\"13\" lengthAdjust=\"spacingAndGlyphs\" textLength=\"8\" x=\"120.975\" y=\"453.8743\">1</text></a><!--MD5=[85d356282659285ab4b2cfe2f634dd2b]\n",
       "reverse link E5 to E6--><a href=\"psysml:e9a2dbd2-75b9-45f4-aecc-a2c2183931e9\" target=\"_top\" title=\"psysml:e9a2dbd2-75b9-45f4-aecc-a2c2183931e9\" xlink:actuate=\"onRequest\" xlink:href=\"psysml:e9a2dbd2-75b9-45f4-aecc-a2c2183931e9\" xlink:show=\"new\" xlink:title=\"psysml:e9a2dbd2-75b9-45f4-aecc-a2c2183931e9\" xlink:type=\"simple\"><path d=\"M60.67,100.13 C60.67,100.13 60.67,358.96 60.67,358.96 \" fill=\"none\" id=\"E5&lt;-E6\" style=\"stroke: #383838; stroke-width: 1.0;\"/><polygon fill=\"#383838\" points=\"60.67,87.13,56.67,93.13,60.67,99.13,64.67,93.13,60.67,87.13\" style=\"stroke: #383838; stroke-width: 1.0;\"/><text fill=\"#000000\" font-family=\"sans-serif\" font-size=\"13\" lengthAdjust=\"spacingAndGlyphs\" textLength=\"8\" x=\"53.6563\" y=\"347.8455\">1</text></a><!--MD5=[e3e28c1befcf002155aa15e1416b4315]\n",
       "link E2 to E6--><a href=\"psysml:2b37c4a5-3576-4b38-9831-53a66373adf4\" target=\"_top\" title=\"psysml:2b37c4a5-3576-4b38-9831-53a66373adf4\" xlink:actuate=\"onRequest\" xlink:href=\"psysml:2b37c4a5-3576-4b38-9831-53a66373adf4\" xlink:show=\"new\" xlink:title=\"psysml:2b37c4a5-3576-4b38-9831-53a66373adf4\" xlink:type=\"simple\"><path d=\"M88.67,276 C78,276 67.33,276 67.33,276 C67.33,276 67.33,327.82 67.33,359 \" fill=\"none\" id=\"E2-E6\" style=\"stroke: #383838; stroke-width: 3.0;\"/><text fill=\"#000000\" font-family=\"sans-serif\" font-size=\"13\" lengthAdjust=\"spacingAndGlyphs\" textLength=\"7\" x=\"72.1218\" y=\"347.8963\">*</text></a><!--MD5=[452b418e7f8a40397a49b8c0a78acc5b]\n",
       "reverse link E5 to E7--><a href=\"psysml:0433d7bc-4d61-42a3-98d7-5077bd02d97e\" target=\"_top\" title=\"psysml:0433d7bc-4d61-42a3-98d7-5077bd02d97e\" xlink:actuate=\"onRequest\" xlink:href=\"psysml:0433d7bc-4d61-42a3-98d7-5077bd02d97e\" xlink:show=\"new\" xlink:title=\"psysml:0433d7bc-4d61-42a3-98d7-5077bd02d97e\" xlink:type=\"simple\"><path d=\"M104.5,100 C104.5,100 104.5,146.68 104.5,146.68 \" fill=\"none\" id=\"E5&lt;-E7\" style=\"stroke: #383838; stroke-width: 1.0;\"/><polygon fill=\"#383838\" points=\"104.5,87,100.5,93,104.5,99,108.5,93,104.5,87\" style=\"stroke: #383838; stroke-width: 1.0;\"/><text fill=\"#000000\" font-family=\"sans-serif\" font-size=\"13\" lengthAdjust=\"spacingAndGlyphs\" textLength=\"8\" x=\"94.0656\" y=\"135.8743\">1</text></a><!--MD5=[583832df87f4419a098336a29a52fa00]\n",
       "link E7 to E2--><a href=\"psysml:d6550333-67eb-4da5-a08d-e8c2ba9c3c42\" target=\"_top\" title=\"psysml:d6550333-67eb-4da5-a08d-e8c2ba9c3c42\" xlink:actuate=\"onRequest\" xlink:href=\"psysml:d6550333-67eb-4da5-a08d-e8c2ba9c3c42\" xlink:show=\"new\" xlink:title=\"psysml:d6550333-67eb-4da5-a08d-e8c2ba9c3c42\" xlink:type=\"simple\"><path d=\"M110,193 C110,193 110,232.68 110,232.68 \" fill=\"none\" id=\"E7-&gt;E2\" style=\"stroke: #383838; stroke-width: 1.0;\"/><polygon fill=\"none\" points=\"117,232.68,110,252.68,103,232.68,117,232.68\" style=\"stroke: #383838; stroke-width: 1.0;\"/></a><!--MD5=[aa99e51b6015a8312593bb545f420577]\n",
       "@startuml\r\n",
       "skinparam linetype ortho\r\n",
       "skinparam monochrome true\r\n",
       "skinparam classbackgroundcolor white\r\n",
       "skinparam shadowing false\r\n",
       "skinparam wrapWidth 300\r\n",
       "hide circle\r\n",
       "\r\n",
       "package \"ConnectionTest\" as E1  [[psysml:316d1b7b-e6b7-4d49-a637-31383ba5712a ]]  {\r\n",
       "comp usage \"p\" as E2  <<(T,blue) part>> [[psysml:c01c1eb8-4402-477c-affb-a3d93aa1c07f ]] {\r\n",
       "}\r\n",
       "comp usage \"x\" as E3  <<(T,blue) part>> [[psysml:83a66275-79f9-4d22-aa8c-e03faa30289f ]] {\r\n",
       "}\r\n",
       "comp usage \"x1\" as E4  <<(T,blue) part>> [[psysml:aa5ac9d5-4dfe-418e-90b4-d1e9d9002b4c ]] {\r\n",
       "}\r\n",
       "comp def \"P\" as E5  <<(T,blue) part def>> [[psysml:fe1eabcd-2f5c-4c92-bec8-31bd54db8461 ]] {\r\n",
       "}\r\n",
       "comp usage \"y\" as E6  <<(T,blue) part>> [[psysml:06be23d5-21a7-42eb-83e3-f8e6bdc4a055 ]] {\r\n",
       "}\r\n",
       "comp usage \"p1\" as E7  <<(T,blue) part>> [[psysml:32e0c838-e55d-456a-ac80-3fd98b88adbf ]] {\r\n",
       "}\r\n",
       "E2 *- - \"1\"E3 [[psysml:96d6ab40-4f8f-4d11-a48f-d95a37d5e194 ]] \r\n",
       "E3 *- - \"1\"E4 [[psysml:15b45894-f404-4f26-aaef-cf96b8c0ca99 ]] \r\n",
       "E5 *- - \"1\"E6 [[psysml:e9a2dbd2-75b9-45f4-aecc-a2c2183931e9 ]] \r\n",
       "E2 -[thickness=3]- \"*\"E6 [[psysml:2b37c4a5-3576-4b38-9831-53a66373adf4 ]] \r\n",
       "E5 *- - \"1\"E7 [[psysml:0433d7bc-4d61-42a3-98d7-5077bd02d97e ]] \r\n",
       "E7 - -|> E2 [[psysml:d6550333-67eb-4da5-a08d-e8c2ba9c3c42 ]] \r\n",
       "}\r\n",
       "@enduml\r\n",
       "\n",
       "PlantUML version 1.2020.13(Sat Jun 13 12:26:38 UTC 2020)\n",
       "(EPL source distribution)\n",
       "Java Runtime: OpenJDK Runtime Environment\n",
       "JVM: OpenJDK 64-Bit Server VM\n",
       "Default Encoding: UTF-8\n",
       "Language: en\n",
       "Country: null\n",
       "--></g></svg>"
      ]
     },
     "execution_count": 51,
     "metadata": {},
     "output_type": "execute_result"
    }
   ],
   "source": [
    "%viz --style=\"ORTHOLINE\" --view=\"Default\" \"ConnectionTest\""
   ]
  },
  {
   "cell_type": "code",
   "execution_count": 52,
   "id": "8f764484",
   "metadata": {
    "execution": {
     "iopub.execute_input": "2021-08-04T06:28:55.101873Z",
     "iopub.status.busy": "2021-08-04T06:28:55.101482Z",
     "iopub.status.idle": "2021-08-04T06:28:55.128490Z",
     "shell.execute_reply": "2021-08-04T06:28:55.127190Z"
    }
   },
   "outputs": [
    {
     "data": {
      "image/svg+xml": [
       "<?xml version=\"1.0\" encoding=\"UTF-8\" standalone=\"no\"?><svg xmlns=\"http://www.w3.org/2000/svg\" xmlns:xlink=\"http://www.w3.org/1999/xlink\" contentScriptType=\"application/ecmascript\" contentStyleType=\"text/css\" height=\"539px\" preserveAspectRatio=\"none\" style=\"width:189px;height:539px;\" version=\"1.1\" viewBox=\"0 0 189 539\" width=\"189px\" zoomAndPan=\"magnify\"><defs/><g><!--MD5=[fbc87193dbaf4d95561dea2c320d4a47]\n",
       "cluster E1--><a href=\"psysml:316d1b7b-e6b7-4d49-a637-31383ba5712a\" target=\"_top\" title=\"psysml:316d1b7b-e6b7-4d49-a637-31383ba5712a\" xlink:actuate=\"onRequest\" xlink:href=\"psysml:316d1b7b-e6b7-4d49-a637-31383ba5712a\" xlink:show=\"new\" xlink:title=\"psysml:316d1b7b-e6b7-4d49-a637-31383ba5712a\" xlink:type=\"simple\"><polygon fill=\"#FFFFFF\" points=\"16,6,147,6,154,28.2969,167,28.2969,167,527,16,527,16,6\" style=\"stroke: #000000; stroke-width: 1.5;\"/><line style=\"stroke: #000000; stroke-width: 1.5;\" x1=\"16\" x2=\"154\" y1=\"28.2969\" y2=\"28.2969\"/><text fill=\"#000000\" font-family=\"sans-serif\" font-size=\"14\" font-weight=\"bold\" lengthAdjust=\"spacingAndGlyphs\" textLength=\"125\" x=\"20\" y=\"20.9951\">ConnectionTest</text></a><!--MD5=[b4997ac47864f28c2f74865a473b2911]\n",
       "class E2--><a href=\"psysml:c01c1eb8-4402-477c-affb-a3d93aa1c07f\" target=\"_top\" title=\"psysml:c01c1eb8-4402-477c-affb-a3d93aa1c07f\" xlink:actuate=\"onRequest\" xlink:href=\"psysml:c01c1eb8-4402-477c-affb-a3d93aa1c07f\" xlink:show=\"new\" xlink:title=\"psysml:c01c1eb8-4402-477c-affb-a3d93aa1c07f\" xlink:type=\"simple\"><rect fill=\"#FFFFFF\" height=\"45.9375\" id=\"E2\" rx=\"10\" ry=\"10\" style=\"stroke: #383838; stroke-width: 1.5;\" width=\"42\" x=\"89\" y=\"253\"/><text fill=\"#000000\" font-family=\"sans-serif\" font-size=\"12\" font-style=\"italic\" lengthAdjust=\"spacingAndGlyphs\" textLength=\"40\" x=\"90\" y=\"269.1387\">«part»</text><text fill=\"#000000\" font-family=\"sans-serif\" font-size=\"12\" lengthAdjust=\"spacingAndGlyphs\" textLength=\"8\" x=\"106\" y=\"283.1074\">p</text><line style=\"stroke: #383838; stroke-width: 1.5;\" x1=\"90\" x2=\"130\" y1=\"290.9375\" y2=\"290.9375\"/></a><!--MD5=[09b614a08d8cba4a07c9adeb5e0fee81]\n",
       "class E3--><a href=\"psysml:83a66275-79f9-4d22-aa8c-e03faa30289f\" target=\"_top\" title=\"psysml:83a66275-79f9-4d22-aa8c-e03faa30289f\" xlink:actuate=\"onRequest\" xlink:href=\"psysml:83a66275-79f9-4d22-aa8c-e03faa30289f\" xlink:show=\"new\" xlink:title=\"psysml:83a66275-79f9-4d22-aa8c-e03faa30289f\" xlink:type=\"simple\"><rect fill=\"#FFFFFF\" height=\"45.9375\" id=\"E3\" rx=\"10\" ry=\"10\" style=\"stroke: #383838; stroke-width: 1.5;\" width=\"42\" x=\"109\" y=\"359\"/><text fill=\"#000000\" font-family=\"sans-serif\" font-size=\"12\" font-style=\"italic\" lengthAdjust=\"spacingAndGlyphs\" textLength=\"40\" x=\"110\" y=\"375.1387\">«part»</text><text fill=\"#000000\" font-family=\"sans-serif\" font-size=\"12\" lengthAdjust=\"spacingAndGlyphs\" textLength=\"6\" x=\"127\" y=\"389.1074\">x</text><line style=\"stroke: #383838; stroke-width: 1.5;\" x1=\"110\" x2=\"150\" y1=\"396.9375\" y2=\"396.9375\"/></a><!--MD5=[ebbe1d658d1005bcc118a6aa81145e00]\n",
       "class E4--><a href=\"psysml:aa5ac9d5-4dfe-418e-90b4-d1e9d9002b4c\" target=\"_top\" title=\"psysml:aa5ac9d5-4dfe-418e-90b4-d1e9d9002b4c\" xlink:actuate=\"onRequest\" xlink:href=\"psysml:aa5ac9d5-4dfe-418e-90b4-d1e9d9002b4c\" xlink:show=\"new\" xlink:title=\"psysml:aa5ac9d5-4dfe-418e-90b4-d1e9d9002b4c\" xlink:type=\"simple\"><rect fill=\"#FFFFFF\" height=\"45.9375\" id=\"E4\" rx=\"10\" ry=\"10\" style=\"stroke: #383838; stroke-width: 1.5;\" width=\"42\" x=\"109\" y=\"465\"/><text fill=\"#000000\" font-family=\"sans-serif\" font-size=\"12\" font-style=\"italic\" lengthAdjust=\"spacingAndGlyphs\" textLength=\"40\" x=\"110\" y=\"481.1387\">«part»</text><text fill=\"#000000\" font-family=\"sans-serif\" font-size=\"12\" lengthAdjust=\"spacingAndGlyphs\" textLength=\"14\" x=\"123\" y=\"495.1074\">x1</text><line style=\"stroke: #383838; stroke-width: 1.5;\" x1=\"110\" x2=\"150\" y1=\"502.9375\" y2=\"502.9375\"/></a><!--MD5=[270fce915f116d4de14055a7c1d9a0f3]\n",
       "class E5--><a href=\"psysml:fe1eabcd-2f5c-4c92-bec8-31bd54db8461\" target=\"_top\" title=\"psysml:fe1eabcd-2f5c-4c92-bec8-31bd54db8461\" xlink:actuate=\"onRequest\" xlink:href=\"psysml:fe1eabcd-2f5c-4c92-bec8-31bd54db8461\" xlink:show=\"new\" xlink:title=\"psysml:fe1eabcd-2f5c-4c92-bec8-31bd54db8461\" xlink:type=\"simple\"><rect fill=\"#FFFFFF\" height=\"45.9375\" id=\"E5\" style=\"stroke: #383838; stroke-width: 1.5;\" width=\"66\" x=\"54\" y=\"41\"/><text fill=\"#000000\" font-family=\"sans-serif\" font-size=\"12\" font-style=\"italic\" lengthAdjust=\"spacingAndGlyphs\" textLength=\"64\" x=\"55\" y=\"57.1387\">«part def»</text><text fill=\"#000000\" font-family=\"sans-serif\" font-size=\"12\" lengthAdjust=\"spacingAndGlyphs\" textLength=\"8\" x=\"83\" y=\"71.1074\">P</text><line style=\"stroke: #383838; stroke-width: 1.5;\" x1=\"55\" x2=\"119\" y1=\"78.9375\" y2=\"78.9375\"/></a><!--MD5=[60a26617385b1d2d0262a64233df1f8d]\n",
       "class E6--><a href=\"psysml:06be23d5-21a7-42eb-83e3-f8e6bdc4a055\" target=\"_top\" title=\"psysml:06be23d5-21a7-42eb-83e3-f8e6bdc4a055\" xlink:actuate=\"onRequest\" xlink:href=\"psysml:06be23d5-21a7-42eb-83e3-f8e6bdc4a055\" xlink:show=\"new\" xlink:title=\"psysml:06be23d5-21a7-42eb-83e3-f8e6bdc4a055\" xlink:type=\"simple\"><rect fill=\"#FFFFFF\" height=\"45.9375\" id=\"E6\" rx=\"10\" ry=\"10\" style=\"stroke: #383838; stroke-width: 1.5;\" width=\"42\" x=\"32\" y=\"359\"/><text fill=\"#000000\" font-family=\"sans-serif\" font-size=\"12\" font-style=\"italic\" lengthAdjust=\"spacingAndGlyphs\" textLength=\"40\" x=\"33\" y=\"375.1387\">«part»</text><text fill=\"#000000\" font-family=\"sans-serif\" font-size=\"12\" lengthAdjust=\"spacingAndGlyphs\" textLength=\"6\" x=\"50\" y=\"389.1074\">y</text><line style=\"stroke: #383838; stroke-width: 1.5;\" x1=\"33\" x2=\"73\" y1=\"396.9375\" y2=\"396.9375\"/></a><!--MD5=[2156ba9850f5573cc1fc38a6a4b2f02b]\n",
       "class E7--><a href=\"psysml:32e0c838-e55d-456a-ac80-3fd98b88adbf\" target=\"_top\" title=\"psysml:32e0c838-e55d-456a-ac80-3fd98b88adbf\" xlink:actuate=\"onRequest\" xlink:href=\"psysml:32e0c838-e55d-456a-ac80-3fd98b88adbf\" xlink:show=\"new\" xlink:title=\"psysml:32e0c838-e55d-456a-ac80-3fd98b88adbf\" xlink:type=\"simple\"><rect fill=\"#FFFFFF\" height=\"45.9375\" id=\"E7\" rx=\"10\" ry=\"10\" style=\"stroke: #383838; stroke-width: 1.5;\" width=\"42\" x=\"89\" y=\"147\"/><text fill=\"#000000\" font-family=\"sans-serif\" font-size=\"12\" font-style=\"italic\" lengthAdjust=\"spacingAndGlyphs\" textLength=\"40\" x=\"90\" y=\"163.1387\">«part»</text><text fill=\"#000000\" font-family=\"sans-serif\" font-size=\"12\" lengthAdjust=\"spacingAndGlyphs\" textLength=\"16\" x=\"102\" y=\"177.1074\">p1</text><line style=\"stroke: #383838; stroke-width: 1.5;\" x1=\"90\" x2=\"130\" y1=\"184.9375\" y2=\"184.9375\"/></a><!--MD5=[209b3feb70ccb6233bfe1053d122c12c]\n",
       "reverse link E2 to E3--><a href=\"psysml:96d6ab40-4f8f-4d11-a48f-d95a37d5e194\" target=\"_top\" title=\"psysml:96d6ab40-4f8f-4d11-a48f-d95a37d5e194\" xlink:actuate=\"onRequest\" xlink:href=\"psysml:96d6ab40-4f8f-4d11-a48f-d95a37d5e194\" xlink:show=\"new\" xlink:title=\"psysml:96d6ab40-4f8f-4d11-a48f-d95a37d5e194\" xlink:type=\"simple\"><path d=\"M120,312 C120,312 120,358.68 120,358.68 \" fill=\"none\" id=\"E2&lt;-E3\" style=\"stroke: #383838; stroke-width: 1.0;\"/><polygon fill=\"#383838\" points=\"120,299,116,305,120,311,124,305,120,299\" style=\"stroke: #383838; stroke-width: 1.0;\"/><text fill=\"#000000\" font-family=\"sans-serif\" font-size=\"13\" lengthAdjust=\"spacingAndGlyphs\" textLength=\"8\" x=\"108.4125\" y=\"347.8743\">1</text></a><!--MD5=[4672eba38e49728da53d11aeb285b987]\n",
       "reverse link E3 to E4--><a href=\"psysml:15b45894-f404-4f26-aaef-cf96b8c0ca99\" target=\"_top\" title=\"psysml:15b45894-f404-4f26-aaef-cf96b8c0ca99\" xlink:actuate=\"onRequest\" xlink:href=\"psysml:15b45894-f404-4f26-aaef-cf96b8c0ca99\" xlink:show=\"new\" xlink:title=\"psysml:15b45894-f404-4f26-aaef-cf96b8c0ca99\" xlink:type=\"simple\"><path d=\"M130,418 C130,418 130,464.68 130,464.68 \" fill=\"none\" id=\"E3&lt;-E4\" style=\"stroke: #383838; stroke-width: 1.0;\"/><polygon fill=\"#383838\" points=\"130,405,126,411,130,417,134,411,130,405\" style=\"stroke: #383838; stroke-width: 1.0;\"/><text fill=\"#000000\" font-family=\"sans-serif\" font-size=\"13\" lengthAdjust=\"spacingAndGlyphs\" textLength=\"8\" x=\"120.975\" y=\"453.8743\">1</text></a><!--MD5=[85d356282659285ab4b2cfe2f634dd2b]\n",
       "reverse link E5 to E6--><a href=\"psysml:e9a2dbd2-75b9-45f4-aecc-a2c2183931e9\" target=\"_top\" title=\"psysml:e9a2dbd2-75b9-45f4-aecc-a2c2183931e9\" xlink:actuate=\"onRequest\" xlink:href=\"psysml:e9a2dbd2-75b9-45f4-aecc-a2c2183931e9\" xlink:show=\"new\" xlink:title=\"psysml:e9a2dbd2-75b9-45f4-aecc-a2c2183931e9\" xlink:type=\"simple\"><path d=\"M60.67,100.13 C60.67,100.13 60.67,358.96 60.67,358.96 \" fill=\"none\" id=\"E5&lt;-E6\" style=\"stroke: #383838; stroke-width: 1.0;\"/><polygon fill=\"#383838\" points=\"60.67,87.13,56.67,93.13,60.67,99.13,64.67,93.13,60.67,87.13\" style=\"stroke: #383838; stroke-width: 1.0;\"/><text fill=\"#000000\" font-family=\"sans-serif\" font-size=\"13\" lengthAdjust=\"spacingAndGlyphs\" textLength=\"8\" x=\"53.6563\" y=\"347.8455\">1</text></a><!--MD5=[e3e28c1befcf002155aa15e1416b4315]\n",
       "link E2 to E6--><a href=\"psysml:2b37c4a5-3576-4b38-9831-53a66373adf4\" target=\"_top\" title=\"psysml:2b37c4a5-3576-4b38-9831-53a66373adf4\" xlink:actuate=\"onRequest\" xlink:href=\"psysml:2b37c4a5-3576-4b38-9831-53a66373adf4\" xlink:show=\"new\" xlink:title=\"psysml:2b37c4a5-3576-4b38-9831-53a66373adf4\" xlink:type=\"simple\"><path d=\"M88.67,276 C78,276 67.33,276 67.33,276 C67.33,276 67.33,327.82 67.33,359 \" fill=\"none\" id=\"E2-E6\" style=\"stroke: #383838; stroke-width: 3.0;\"/><text fill=\"#000000\" font-family=\"sans-serif\" font-size=\"13\" lengthAdjust=\"spacingAndGlyphs\" textLength=\"7\" x=\"72.1218\" y=\"347.8963\">*</text></a><!--MD5=[452b418e7f8a40397a49b8c0a78acc5b]\n",
       "reverse link E5 to E7--><a href=\"psysml:0433d7bc-4d61-42a3-98d7-5077bd02d97e\" target=\"_top\" title=\"psysml:0433d7bc-4d61-42a3-98d7-5077bd02d97e\" xlink:actuate=\"onRequest\" xlink:href=\"psysml:0433d7bc-4d61-42a3-98d7-5077bd02d97e\" xlink:show=\"new\" xlink:title=\"psysml:0433d7bc-4d61-42a3-98d7-5077bd02d97e\" xlink:type=\"simple\"><path d=\"M104.5,100 C104.5,100 104.5,146.68 104.5,146.68 \" fill=\"none\" id=\"E5&lt;-E7\" style=\"stroke: #383838; stroke-width: 1.0;\"/><polygon fill=\"#383838\" points=\"104.5,87,100.5,93,104.5,99,108.5,93,104.5,87\" style=\"stroke: #383838; stroke-width: 1.0;\"/><text fill=\"#000000\" font-family=\"sans-serif\" font-size=\"13\" lengthAdjust=\"spacingAndGlyphs\" textLength=\"8\" x=\"94.0656\" y=\"135.8743\">1</text></a><!--MD5=[583832df87f4419a098336a29a52fa00]\n",
       "link E7 to E2--><a href=\"psysml:d6550333-67eb-4da5-a08d-e8c2ba9c3c42\" target=\"_top\" title=\"psysml:d6550333-67eb-4da5-a08d-e8c2ba9c3c42\" xlink:actuate=\"onRequest\" xlink:href=\"psysml:d6550333-67eb-4da5-a08d-e8c2ba9c3c42\" xlink:show=\"new\" xlink:title=\"psysml:d6550333-67eb-4da5-a08d-e8c2ba9c3c42\" xlink:type=\"simple\"><path d=\"M110,193 C110,193 110,232.68 110,232.68 \" fill=\"none\" id=\"E7-&gt;E2\" style=\"stroke: #383838; stroke-width: 1.0;\"/><polygon fill=\"none\" points=\"117,232.68,110,252.68,103,232.68,117,232.68\" style=\"stroke: #383838; stroke-width: 1.0;\"/></a><!--MD5=[aa99e51b6015a8312593bb545f420577]\n",
       "@startuml\r\n",
       "skinparam linetype ortho\r\n",
       "skinparam monochrome true\r\n",
       "skinparam classbackgroundcolor white\r\n",
       "skinparam shadowing false\r\n",
       "skinparam wrapWidth 300\r\n",
       "hide circle\r\n",
       "\r\n",
       "package \"ConnectionTest\" as E1  [[psysml:316d1b7b-e6b7-4d49-a637-31383ba5712a ]]  {\r\n",
       "comp usage \"p\" as E2  <<(T,blue) part>> [[psysml:c01c1eb8-4402-477c-affb-a3d93aa1c07f ]] {\r\n",
       "}\r\n",
       "comp usage \"x\" as E3  <<(T,blue) part>> [[psysml:83a66275-79f9-4d22-aa8c-e03faa30289f ]] {\r\n",
       "}\r\n",
       "comp usage \"x1\" as E4  <<(T,blue) part>> [[psysml:aa5ac9d5-4dfe-418e-90b4-d1e9d9002b4c ]] {\r\n",
       "}\r\n",
       "comp def \"P\" as E5  <<(T,blue) part def>> [[psysml:fe1eabcd-2f5c-4c92-bec8-31bd54db8461 ]] {\r\n",
       "}\r\n",
       "comp usage \"y\" as E6  <<(T,blue) part>> [[psysml:06be23d5-21a7-42eb-83e3-f8e6bdc4a055 ]] {\r\n",
       "}\r\n",
       "comp usage \"p1\" as E7  <<(T,blue) part>> [[psysml:32e0c838-e55d-456a-ac80-3fd98b88adbf ]] {\r\n",
       "}\r\n",
       "E2 *- - \"1\"E3 [[psysml:96d6ab40-4f8f-4d11-a48f-d95a37d5e194 ]] \r\n",
       "E3 *- - \"1\"E4 [[psysml:15b45894-f404-4f26-aaef-cf96b8c0ca99 ]] \r\n",
       "E5 *- - \"1\"E6 [[psysml:e9a2dbd2-75b9-45f4-aecc-a2c2183931e9 ]] \r\n",
       "E2 -[thickness=3]- \"*\"E6 [[psysml:2b37c4a5-3576-4b38-9831-53a66373adf4 ]] \r\n",
       "E5 *- - \"1\"E7 [[psysml:0433d7bc-4d61-42a3-98d7-5077bd02d97e ]] \r\n",
       "E7 - -|> E2 [[psysml:d6550333-67eb-4da5-a08d-e8c2ba9c3c42 ]] \r\n",
       "}\r\n",
       "@enduml\r\n",
       "\n",
       "PlantUML version 1.2020.13(Sat Jun 13 12:26:38 UTC 2020)\n",
       "(EPL source distribution)\n",
       "Java Runtime: OpenJDK Runtime Environment\n",
       "JVM: OpenJDK 64-Bit Server VM\n",
       "Default Encoding: UTF-8\n",
       "Language: en\n",
       "Country: null\n",
       "--></g></svg>"
      ]
     },
     "execution_count": 52,
     "metadata": {},
     "output_type": "execute_result"
    }
   ],
   "source": [
    "%viz --style=\"ORTHOLINE\" --view=\"Tree\" \"ConnectionTest\""
   ]
  },
  {
   "cell_type": "code",
   "execution_count": 53,
   "id": "a9b53fba",
   "metadata": {
    "execution": {
     "iopub.execute_input": "2021-08-04T06:28:55.178509Z",
     "iopub.status.busy": "2021-08-04T06:28:55.178102Z",
     "iopub.status.idle": "2021-08-04T06:28:55.182687Z",
     "shell.execute_reply": "2021-08-04T06:28:55.182336Z"
    }
   },
   "outputs": [
    {
     "data": {
      "image/svg+xml": [
       "<?xml version=\"1.0\" encoding=\"UTF-8\" standalone=\"no\"?><svg xmlns=\"http://www.w3.org/2000/svg\" xmlns:xlink=\"http://www.w3.org/1999/xlink\" contentScriptType=\"application/ecmascript\" contentStyleType=\"text/css\" height=\"12px\" preserveAspectRatio=\"none\" style=\"width:12px;height:12px;\" version=\"1.1\" viewBox=\"0 0 12 12\" width=\"12px\" zoomAndPan=\"magnify\"><defs/><g><!--MD5=[97d6f38768b311333d388e66b2b27985]\n",
       "@startuml\r\n",
       "skinparam linetype ortho\r\n",
       "skinparam monochrome true\r\n",
       "skinparam classbackgroundcolor white\r\n",
       "skinparam shadowing false\r\n",
       "skinparam wrapWidth 300\r\n",
       "hide circle\r\n",
       "\r\n",
       "@enduml\r\n",
       "\n",
       "PlantUML version 1.2020.13(Sat Jun 13 12:26:38 UTC 2020)\n",
       "(EPL source distribution)\n",
       "Java Runtime: OpenJDK Runtime Environment\n",
       "JVM: OpenJDK 64-Bit Server VM\n",
       "Default Encoding: UTF-8\n",
       "Language: en\n",
       "Country: null\n",
       "--></g></svg>"
      ]
     },
     "execution_count": 53,
     "metadata": {},
     "output_type": "execute_result"
    }
   ],
   "source": [
    "%viz --style=\"ORTHOLINE\" --view=\"State\" \"ConnectionTest\""
   ]
  },
  {
   "cell_type": "code",
   "execution_count": 54,
   "id": "92eb7108",
   "metadata": {
    "execution": {
     "iopub.execute_input": "2021-08-04T06:28:55.233106Z",
     "iopub.status.busy": "2021-08-04T06:28:55.232690Z",
     "iopub.status.idle": "2021-08-04T06:28:55.259961Z",
     "shell.execute_reply": "2021-08-04T06:28:55.258493Z"
    }
   },
   "outputs": [
    {
     "data": {
      "image/svg+xml": [
       "<?xml version=\"1.0\" encoding=\"UTF-8\" standalone=\"no\"?><svg xmlns=\"http://www.w3.org/2000/svg\" xmlns:xlink=\"http://www.w3.org/1999/xlink\" contentScriptType=\"application/ecmascript\" contentStyleType=\"text/css\" height=\"406px\" preserveAspectRatio=\"none\" style=\"width:509px;height:406px;\" version=\"1.1\" viewBox=\"0 0 509 406\" width=\"509px\" zoomAndPan=\"magnify\"><defs/><g><!--MD5=[fbc87193dbaf4d95561dea2c320d4a47]\n",
       "cluster E1--><a href=\"psysml:316d1b7b-e6b7-4d49-a637-31383ba5712a\" target=\"_top\" title=\"psysml:316d1b7b-e6b7-4d49-a637-31383ba5712a\" xlink:actuate=\"onRequest\" xlink:href=\"psysml:316d1b7b-e6b7-4d49-a637-31383ba5712a\" xlink:show=\"new\" xlink:title=\"psysml:316d1b7b-e6b7-4d49-a637-31383ba5712a\" xlink:type=\"simple\"><polygon fill=\"#FFFFFF\" points=\"16,6,147,6,154,28.2969,487,28.2969,487,394,16,394,16,6\" style=\"stroke: #000000; stroke-width: 1.5;\"/><line style=\"stroke: #000000; stroke-width: 1.5;\" x1=\"16\" x2=\"154\" y1=\"28.2969\" y2=\"28.2969\"/><text fill=\"#000000\" font-family=\"sans-serif\" font-size=\"14\" font-weight=\"bold\" lengthAdjust=\"spacingAndGlyphs\" textLength=\"125\" x=\"20\" y=\"20.9951\">ConnectionTest</text></a><!--MD5=[e4f7fae6ed58524ba242bb0b0d3be6b7]\n",
       "cluster E2--><a href=\"psysml:c01c1eb8-4402-477c-affb-a3d93aa1c07f\" target=\"_top\" title=\"psysml:c01c1eb8-4402-477c-affb-a3d93aa1c07f\" xlink:actuate=\"onRequest\" xlink:href=\"psysml:c01c1eb8-4402-477c-affb-a3d93aa1c07f\" xlink:show=\"new\" xlink:title=\"psysml:c01c1eb8-4402-477c-affb-a3d93aa1c07f\" xlink:type=\"simple\"><rect fill=\"#FFFFFF\" height=\"174\" id=\"E2\" rx=\"10\" ry=\"10\" style=\"stroke: #383838; stroke-width: 1.5;\" width=\"154\" x=\"301\" y=\"116\"/><rect fill=\"#F8F8F8\" height=\"23.9688\" rx=\"10\" ry=\"10\" style=\"stroke: #F8F8F8; stroke-width: 1.5;\" width=\"154\" x=\"301\" y=\"116\"/><rect fill=\"#F8F8F8\" height=\"10\" style=\"stroke: #F8F8F8; stroke-width: 1.5;\" width=\"154\" x=\"301\" y=\"129.9688\"/><rect fill=\"none\" height=\"174\" id=\"E2\" rx=\"10\" ry=\"10\" style=\"stroke: #383838; stroke-width: 1.5;\" width=\"154\" x=\"301\" y=\"116\"/><text fill=\"#000000\" font-family=\"sans-serif\" font-size=\"12\" lengthAdjust=\"spacingAndGlyphs\" textLength=\"8\" x=\"374\" y=\"132.1387\">p</text><line style=\"stroke: #383838; stroke-width: 1.0;\" x1=\"301\" x2=\"455\" y1=\"139.9688\" y2=\"139.9688\"/></a><!--MD5=[d5e69f78d87373223dbae638b30a9c99]\n",
       "cluster E3--><a href=\"psysml:83a66275-79f9-4d22-aa8c-e03faa30289f\" target=\"_top\" title=\"psysml:83a66275-79f9-4d22-aa8c-e03faa30289f\" xlink:actuate=\"onRequest\" xlink:href=\"psysml:83a66275-79f9-4d22-aa8c-e03faa30289f\" xlink:show=\"new\" xlink:title=\"psysml:83a66275-79f9-4d22-aa8c-e03faa30289f\" xlink:type=\"simple\"><rect fill=\"#FFFFFF\" height=\"91\" id=\"E3\" rx=\"10\" ry=\"10\" style=\"stroke: #383838; stroke-width: 1.5;\" width=\"82\" x=\"341\" y=\"167\"/><rect fill=\"#F8F8F8\" height=\"23.9688\" rx=\"10\" ry=\"10\" style=\"stroke: #F8F8F8; stroke-width: 1.5;\" width=\"82\" x=\"341\" y=\"167\"/><rect fill=\"#F8F8F8\" height=\"10\" style=\"stroke: #F8F8F8; stroke-width: 1.5;\" width=\"82\" x=\"341\" y=\"180.9688\"/><rect fill=\"none\" height=\"91\" id=\"E3\" rx=\"10\" ry=\"10\" style=\"stroke: #383838; stroke-width: 1.5;\" width=\"82\" x=\"341\" y=\"167\"/><text fill=\"#000000\" font-family=\"sans-serif\" font-size=\"12\" lengthAdjust=\"spacingAndGlyphs\" textLength=\"6\" x=\"379\" y=\"183.1387\">x</text><line style=\"stroke: #383838; stroke-width: 1.0;\" x1=\"341\" x2=\"423\" y1=\"190.9688\" y2=\"190.9688\"/></a><!--MD5=[de5ec2e2e8f62f467e546659f5068c88]\n",
       "cluster E5--><a href=\"psysml:fe1eabcd-2f5c-4c92-bec8-31bd54db8461\" target=\"_top\" title=\"psysml:fe1eabcd-2f5c-4c92-bec8-31bd54db8461\" xlink:actuate=\"onRequest\" xlink:href=\"psysml:fe1eabcd-2f5c-4c92-bec8-31bd54db8461\" xlink:show=\"new\" xlink:title=\"psysml:fe1eabcd-2f5c-4c92-bec8-31bd54db8461\" xlink:type=\"simple\"><rect fill=\"#FFFFFF\" height=\"321\" id=\"E5\" style=\"stroke: #383838; stroke-width: 1.5;\" width=\"229\" x=\"40\" y=\"49\"/><rect fill=\"#F8F8F8\" height=\"37.9375\" style=\"stroke: #383838; stroke-width: 1.5;\" width=\"229\" x=\"40\" y=\"49\"/><text fill=\"#000000\" font-family=\"sans-serif\" font-size=\"12\" font-style=\"italic\" lengthAdjust=\"spacingAndGlyphs\" textLength=\"64\" x=\"122.5\" y=\"65.1387\">«part def»</text><text fill=\"#000000\" font-family=\"sans-serif\" font-size=\"12\" lengthAdjust=\"spacingAndGlyphs\" textLength=\"8\" x=\"150.5\" y=\"79.1074\">P</text></a><!--MD5=[168fadf3d0c3fd93dd5d6da1b1d7ab76]\n",
       "cluster E7--><a href=\"psysml:32e0c838-e55d-456a-ac80-3fd98b88adbf\" target=\"_top\" title=\"psysml:32e0c838-e55d-456a-ac80-3fd98b88adbf\" xlink:actuate=\"onRequest\" xlink:href=\"psysml:32e0c838-e55d-456a-ac80-3fd98b88adbf\" xlink:show=\"new\" xlink:title=\"psysml:32e0c838-e55d-456a-ac80-3fd98b88adbf\" xlink:type=\"simple\"><rect fill=\"#FFFFFF\" height=\"190\" id=\"E7\" rx=\"10\" ry=\"10\" style=\"stroke: #383838; stroke-width: 1.5;\" width=\"181\" x=\"64\" y=\"108\"/><rect fill=\"#F8F8F8\" height=\"23.9688\" rx=\"10\" ry=\"10\" style=\"stroke: #F8F8F8; stroke-width: 1.5;\" width=\"181\" x=\"64\" y=\"108\"/><rect fill=\"#F8F8F8\" height=\"10\" style=\"stroke: #F8F8F8; stroke-width: 1.5;\" width=\"181\" x=\"64\" y=\"121.9688\"/><rect fill=\"none\" height=\"190\" id=\"E7\" rx=\"10\" ry=\"10\" style=\"stroke: #383838; stroke-width: 1.5;\" width=\"181\" x=\"64\" y=\"108\"/><text fill=\"#000000\" font-family=\"sans-serif\" font-size=\"12\" lengthAdjust=\"spacingAndGlyphs\" textLength=\"16\" x=\"146.5\" y=\"124.1387\">p1</text><line style=\"stroke: #383838; stroke-width: 1.0;\" x1=\"64\" x2=\"245\" y1=\"131.9688\" y2=\"131.9688\"/></a><!--MD5=[55dfccfc6c49c2d10cd1bd2211a6c90c]\n",
       "cluster E8--><a href=\"psysml:83a66275-79f9-4d22-aa8c-e03faa30289f\" target=\"_top\" title=\"psysml:83a66275-79f9-4d22-aa8c-e03faa30289f\" xlink:actuate=\"onRequest\" xlink:href=\"psysml:83a66275-79f9-4d22-aa8c-e03faa30289f\" xlink:show=\"new\" xlink:title=\"psysml:83a66275-79f9-4d22-aa8c-e03faa30289f\" xlink:type=\"simple\"><rect fill=\"#FFFFFF\" height=\"107\" id=\"E8\" rx=\"10\" ry=\"10\" style=\"stroke: #383838; stroke-width: 1.5;\" width=\"117\" x=\"96\" y=\"159\"/><rect fill=\"#F8F8F8\" height=\"23.9688\" rx=\"10\" ry=\"10\" style=\"stroke: #F8F8F8; stroke-width: 1.5;\" width=\"117\" x=\"96\" y=\"159\"/><rect fill=\"#F8F8F8\" height=\"10\" style=\"stroke: #F8F8F8; stroke-width: 1.5;\" width=\"117\" x=\"96\" y=\"172.9688\"/><rect fill=\"none\" height=\"107\" id=\"E8\" rx=\"10\" ry=\"10\" style=\"stroke: #383838; stroke-width: 1.5;\" width=\"117\" x=\"96\" y=\"159\"/><text fill=\"#000000\" font-family=\"sans-serif\" font-size=\"12\" lengthAdjust=\"spacingAndGlyphs\" textLength=\"16\" x=\"146.5\" y=\"175.1387\">^x</text><line style=\"stroke: #383838; stroke-width: 1.0;\" x1=\"96\" x2=\"213\" y1=\"182.9688\" y2=\"182.9688\"/></a><g id=\"E1.E2.E3.E4\"><a href=\"psysml:aa5ac9d5-4dfe-418e-90b4-d1e9d9002b4c\" target=\"_top\" title=\"psysml:aa5ac9d5-4dfe-418e-90b4-d1e9d9002b4c\" xlink:actuate=\"onRequest\" xlink:href=\"psysml:aa5ac9d5-4dfe-418e-90b4-d1e9d9002b4c\" xlink:show=\"new\" xlink:title=\"psysml:aa5ac9d5-4dfe-418e-90b4-d1e9d9002b4c\" xlink:type=\"simple\"><rect fill=\"#FFFFFF\" height=\"40\" id=\"E4\" rx=\"10\" ry=\"10\" style=\"stroke: #383838; stroke-width: 1.5;\" width=\"50\" x=\"357\" y=\"202\"/><rect fill=\"#F8F8F8\" height=\"23.9688\" rx=\"10\" ry=\"10\" style=\"stroke: #F8F8F8; stroke-width: 1.5;\" width=\"50\" x=\"357\" y=\"202\"/><rect fill=\"#F8F8F8\" height=\"10\" style=\"stroke: #F8F8F8; stroke-width: 1.5;\" width=\"50\" x=\"357\" y=\"215.9688\"/><rect fill=\"none\" height=\"40\" id=\"E4\" rx=\"10\" ry=\"10\" style=\"stroke: #383838; stroke-width: 1.5;\" width=\"50\" x=\"357\" y=\"202\"/><text fill=\"#000000\" font-family=\"sans-serif\" font-size=\"12\" lengthAdjust=\"spacingAndGlyphs\" textLength=\"14\" x=\"375\" y=\"218.1387\">x1</text></a></g><g id=\"E1.E5.E6\"><a href=\"psysml:06be23d5-21a7-42eb-83e3-f8e6bdc4a055\" target=\"_top\" title=\"psysml:06be23d5-21a7-42eb-83e3-f8e6bdc4a055\" xlink:actuate=\"onRequest\" xlink:href=\"psysml:06be23d5-21a7-42eb-83e3-f8e6bdc4a055\" xlink:show=\"new\" xlink:title=\"psysml:06be23d5-21a7-42eb-83e3-f8e6bdc4a055\" xlink:type=\"simple\"><rect fill=\"#FFFFFF\" height=\"40\" id=\"E6\" rx=\"10\" ry=\"10\" style=\"stroke: #383838; stroke-width: 1.5;\" width=\"50\" x=\"139\" y=\"314\"/><rect fill=\"#F8F8F8\" height=\"23.9688\" rx=\"10\" ry=\"10\" style=\"stroke: #F8F8F8; stroke-width: 1.5;\" width=\"50\" x=\"139\" y=\"314\"/><rect fill=\"#F8F8F8\" height=\"10\" style=\"stroke: #F8F8F8; stroke-width: 1.5;\" width=\"50\" x=\"139\" y=\"327.9688\"/><rect fill=\"none\" height=\"40\" id=\"E6\" rx=\"10\" ry=\"10\" style=\"stroke: #383838; stroke-width: 1.5;\" width=\"50\" x=\"139\" y=\"314\"/><text fill=\"#000000\" font-family=\"sans-serif\" font-size=\"12\" lengthAdjust=\"spacingAndGlyphs\" textLength=\"6\" x=\"161\" y=\"330.1387\">y</text></a></g><g id=\"E1.E5.E7.E8.E9\"><a href=\"psysml:aa5ac9d5-4dfe-418e-90b4-d1e9d9002b4c\" target=\"_top\" title=\"psysml:aa5ac9d5-4dfe-418e-90b4-d1e9d9002b4c\" xlink:actuate=\"onRequest\" xlink:href=\"psysml:aa5ac9d5-4dfe-418e-90b4-d1e9d9002b4c\" xlink:show=\"new\" xlink:title=\"psysml:aa5ac9d5-4dfe-418e-90b4-d1e9d9002b4c\" xlink:type=\"simple\"><rect fill=\"#FFFFFF\" height=\"40\" id=\"E9\" rx=\"10\" ry=\"10\" style=\"stroke: #383838; stroke-width: 1.5;\" width=\"50\" x=\"139\" y=\"202\"/><rect fill=\"#F8F8F8\" height=\"23.9688\" rx=\"10\" ry=\"10\" style=\"stroke: #F8F8F8; stroke-width: 1.5;\" width=\"50\" x=\"139\" y=\"202\"/><rect fill=\"#F8F8F8\" height=\"10\" style=\"stroke: #F8F8F8; stroke-width: 1.5;\" width=\"50\" x=\"139\" y=\"215.9688\"/><rect fill=\"none\" height=\"40\" id=\"E9\" rx=\"10\" ry=\"10\" style=\"stroke: #383838; stroke-width: 1.5;\" width=\"50\" x=\"139\" y=\"202\"/><text fill=\"#000000\" font-family=\"sans-serif\" font-size=\"12\" lengthAdjust=\"spacingAndGlyphs\" textLength=\"14\" x=\"157\" y=\"218.1387\">x1</text></a></g><!--MD5=[e3e28c1befcf002155aa15e1416b4315]\n",
       "link E2 to E6--><a href=\"psysml:2b37c4a5-3576-4b38-9831-53a66373adf4\" target=\"_top\" title=\"psysml:2b37c4a5-3576-4b38-9831-53a66373adf4\" xlink:actuate=\"onRequest\" xlink:href=\"psysml:2b37c4a5-3576-4b38-9831-53a66373adf4\" xlink:show=\"new\" xlink:title=\"psysml:2b37c4a5-3576-4b38-9831-53a66373adf4\" xlink:type=\"simple\"><path d=\"M309,290.5968 C309,291.0043 309,291.4108 309,291.8163 C309,295.0603 309,298.2384 309,301.3031 C309,307.4325 309,313.1087 309,317.9527 C309,327.6406 309,334 309,334 C309,334 230.8,334 189.26,334 \" fill=\"none\" id=\"E2-E6\" style=\"stroke: #383838; stroke-width: 3.0;\"/><text fill=\"#000000\" font-family=\"sans-serif\" font-size=\"13\" lengthAdjust=\"spacingAndGlyphs\" textLength=\"7\" x=\"196.9893\" y=\"329.0691\">*</text></a><!--MD5=[c5e8897d989ce984f93528998a7150fe]\n",
       "link E8 to E6--><a href=\"psysml:55b22e92-f05f-458a-a067-1c48392866cc\" target=\"_top\" title=\"psysml:55b22e92-f05f-458a-a067-1c48392866cc\" xlink:actuate=\"onRequest\" xlink:href=\"psysml:55b22e92-f05f-458a-a067-1c48392866cc\" xlink:show=\"new\" xlink:title=\"psysml:55b22e92-f05f-458a-a067-1c48392866cc\" xlink:type=\"simple\"><path d=\"M104,266.3753 C104,266.5797 104,266.7844 104,266.9893 C104,268.6282 104,270.2803 104,271.9395 C104,275.2579 104,278.6052 104,281.9338 C104,308.5625 104,334 104,334 C104,334 122.46,334 138.9,334 \" fill=\"none\" id=\"E8-E6\" style=\"stroke: #383838; stroke-width: 3.0;\"/><text fill=\"#000000\" font-family=\"sans-serif\" font-size=\"13\" lengthAdjust=\"spacingAndGlyphs\" textLength=\"7\" x=\"123.8563\" y=\"328.9762\">*</text></a><!--MD5=[60ac2c0cde89d4308155b0484e57a8ec]\n",
       "link E9 to E6--><a href=\"psysml:f5fd66b3-5ce3-4ce3-99f1-5aad5efc9456\" target=\"_top\" title=\"psysml:f5fd66b3-5ce3-4ce3-99f1-5aad5efc9456\" xlink:actuate=\"onRequest\" xlink:href=\"psysml:f5fd66b3-5ce3-4ce3-99f1-5aad5efc9456\" xlink:show=\"new\" xlink:title=\"psysml:f5fd66b3-5ce3-4ce3-99f1-5aad5efc9456\" xlink:type=\"simple\"><path d=\"M164,242.02 C164,262.28 164,293.44 164,313.77 \" fill=\"none\" id=\"E9-E6\" style=\"stroke: #383838; stroke-width: 3.0;\"/><text fill=\"#000000\" font-family=\"sans-serif\" font-size=\"13\" lengthAdjust=\"spacingAndGlyphs\" textLength=\"7\" x=\"156.0156\" y=\"303.0565\">*</text></a><!--MD5=[34f38095f01abe565c93504f12407c5e]\n",
       "@startuml\r\n",
       "skinparam ranksep 10\r\n",
       "skinparam rectangle {\r\n",
       " backgroundColor<<block>> LightGreen\r\n",
       "}\r\n",
       "skinparam linetype ortho\r\n",
       "skinparam monochrome true\r\n",
       "skinparam classbackgroundcolor white\r\n",
       "skinparam shadowing false\r\n",
       "skinparam wrapWidth 300\r\n",
       "hide circle\r\n",
       "\r\n",
       "package \"ConnectionTest\" as E1  [[psysml:316d1b7b-e6b7-4d49-a637-31383ba5712a ]]  {\r\n",
       "rec usage \"p\" as E2  [[psysml:c01c1eb8-4402-477c-affb-a3d93aa1c07f ]] {\r\n",
       "rec usage \"x\" as E3  [[psysml:83a66275-79f9-4d22-aa8c-e03faa30289f ]] {\r\n",
       "rec usage \"x1\" as E4  [[psysml:aa5ac9d5-4dfe-418e-90b4-d1e9d9002b4c ]] {\r\n",
       "}\r\n",
       "}\r\n",
       "}\r\n",
       "rec def \"P\" as E5  <<(T,blue) part def>> [[psysml:fe1eabcd-2f5c-4c92-bec8-31bd54db8461 ]] {\r\n",
       "rec usage \"y\" as E6  [[psysml:06be23d5-21a7-42eb-83e3-f8e6bdc4a055 ]] {\r\n",
       "}\r\n",
       "rec usage \"p1\" as E7  [[psysml:32e0c838-e55d-456a-ac80-3fd98b88adbf ]] {\r\n",
       "rec usage \"^x\" as E8  [[psysml:83a66275-79f9-4d22-aa8c-e03faa30289f ]] {\r\n",
       "rec usage \"x1\" as E9  [[psysml:aa5ac9d5-4dfe-418e-90b4-d1e9d9002b4c ]] {\r\n",
       "}\r\n",
       "}\r\n",
       "}\r\n",
       "}\r\n",
       "E2 -[thickness=3]- \"*\"E6 [[psysml:2b37c4a5-3576-4b38-9831-53a66373adf4 ]] \r\n",
       "E8 -[thickness=3]- \"*\"E6 [[psysml:55b22e92-f05f-458a-a067-1c48392866cc ]] \r\n",
       "E9 -[thickness=3]- \"*\"E6 [[psysml:f5fd66b3-5ce3-4ce3-99f1-5aad5efc9456 ]] \r\n",
       "}\r\n",
       "@enduml\r\n",
       "\n",
       "PlantUML version 1.2020.13(Sat Jun 13 12:26:38 UTC 2020)\n",
       "(EPL source distribution)\n",
       "Java Runtime: OpenJDK Runtime Environment\n",
       "JVM: OpenJDK 64-Bit Server VM\n",
       "Default Encoding: UTF-8\n",
       "Language: en\n",
       "Country: null\n",
       "--></g></svg>"
      ]
     },
     "execution_count": 54,
     "metadata": {},
     "output_type": "execute_result"
    }
   ],
   "source": [
    "%viz --style=\"ORTHOLINE\" --view=\"Interconnection\" \"ConnectionTest\""
   ]
  },
  {
   "cell_type": "code",
   "execution_count": 55,
   "id": "3ebdf70f",
   "metadata": {
    "execution": {
     "iopub.execute_input": "2021-08-04T06:28:55.309533Z",
     "iopub.status.busy": "2021-08-04T06:28:55.309135Z",
     "iopub.status.idle": "2021-08-04T06:28:55.314770Z",
     "shell.execute_reply": "2021-08-04T06:28:55.314434Z"
    }
   },
   "outputs": [
    {
     "data": {
      "image/svg+xml": [
       "<?xml version=\"1.0\" encoding=\"UTF-8\" standalone=\"no\"?><svg xmlns=\"http://www.w3.org/2000/svg\" xmlns:xlink=\"http://www.w3.org/1999/xlink\" contentScriptType=\"application/ecmascript\" contentStyleType=\"text/css\" height=\"12px\" preserveAspectRatio=\"none\" style=\"width:12px;height:12px;\" version=\"1.1\" viewBox=\"0 0 12 12\" width=\"12px\" zoomAndPan=\"magnify\"><defs/><g><!--MD5=[72934c63077099a26744516a776b4749]\n",
       "@startuml\r\n",
       "skinparam ranksep 8\r\n",
       "skinparam linetype ortho\r\n",
       "skinparam monochrome true\r\n",
       "skinparam classbackgroundcolor white\r\n",
       "skinparam shadowing false\r\n",
       "skinparam wrapWidth 300\r\n",
       "hide circle\r\n",
       "\r\n",
       "@enduml\r\n",
       "\n",
       "PlantUML version 1.2020.13(Sat Jun 13 12:26:38 UTC 2020)\n",
       "(EPL source distribution)\n",
       "Java Runtime: OpenJDK Runtime Environment\n",
       "JVM: OpenJDK 64-Bit Server VM\n",
       "Default Encoding: UTF-8\n",
       "Language: en\n",
       "Country: null\n",
       "--></g></svg>"
      ]
     },
     "execution_count": 55,
     "metadata": {},
     "output_type": "execute_result"
    }
   ],
   "source": [
    "%viz --style=\"ORTHOLINE\" --view=\"Action\" \"ConnectionTest\""
   ]
  },
  {
   "cell_type": "code",
   "execution_count": 56,
   "id": "f607b4d4",
   "metadata": {
    "execution": {
     "iopub.execute_input": "2021-08-04T06:28:55.364893Z",
     "iopub.status.busy": "2021-08-04T06:28:55.364467Z",
     "iopub.status.idle": "2021-08-04T06:28:55.392607Z",
     "shell.execute_reply": "2021-08-04T06:28:55.391799Z"
    }
   },
   "outputs": [
    {
     "data": {
      "image/svg+xml": [
       "<?xml version=\"1.0\" encoding=\"UTF-8\" standalone=\"no\"?><svg xmlns=\"http://www.w3.org/2000/svg\" xmlns:xlink=\"http://www.w3.org/1999/xlink\" contentScriptType=\"application/ecmascript\" contentStyleType=\"text/css\" height=\"539px\" preserveAspectRatio=\"none\" style=\"width:189px;height:539px;\" version=\"1.1\" viewBox=\"0 0 189 539\" width=\"189px\" zoomAndPan=\"magnify\"><defs/><g><!--MD5=[fbc87193dbaf4d95561dea2c320d4a47]\n",
       "cluster E1--><a href=\"psysml:316d1b7b-e6b7-4d49-a637-31383ba5712a\" target=\"_top\" title=\"psysml:316d1b7b-e6b7-4d49-a637-31383ba5712a\" xlink:actuate=\"onRequest\" xlink:href=\"psysml:316d1b7b-e6b7-4d49-a637-31383ba5712a\" xlink:show=\"new\" xlink:title=\"psysml:316d1b7b-e6b7-4d49-a637-31383ba5712a\" xlink:type=\"simple\"><polygon fill=\"#FFFFFF\" points=\"16,6,147,6,154,28.2969,167,28.2969,167,527,16,527,16,6\" style=\"stroke: #000000; stroke-width: 1.5;\"/><line style=\"stroke: #000000; stroke-width: 1.5;\" x1=\"16\" x2=\"154\" y1=\"28.2969\" y2=\"28.2969\"/><text fill=\"#000000\" font-family=\"sans-serif\" font-size=\"14\" font-weight=\"bold\" lengthAdjust=\"spacingAndGlyphs\" textLength=\"125\" x=\"20\" y=\"20.9951\">ConnectionTest</text></a><!--MD5=[b4997ac47864f28c2f74865a473b2911]\n",
       "class E2--><a href=\"psysml:c01c1eb8-4402-477c-affb-a3d93aa1c07f\" target=\"_top\" title=\"psysml:c01c1eb8-4402-477c-affb-a3d93aa1c07f\" xlink:actuate=\"onRequest\" xlink:href=\"psysml:c01c1eb8-4402-477c-affb-a3d93aa1c07f\" xlink:show=\"new\" xlink:title=\"psysml:c01c1eb8-4402-477c-affb-a3d93aa1c07f\" xlink:type=\"simple\"><rect fill=\"#FFFFFF\" height=\"45.9375\" id=\"E2\" rx=\"10\" ry=\"10\" style=\"stroke: #383838; stroke-width: 1.5;\" width=\"42\" x=\"89\" y=\"253\"/><text fill=\"#000000\" font-family=\"sans-serif\" font-size=\"12\" font-style=\"italic\" lengthAdjust=\"spacingAndGlyphs\" textLength=\"40\" x=\"90\" y=\"269.1387\">«part»</text><text fill=\"#000000\" font-family=\"sans-serif\" font-size=\"12\" lengthAdjust=\"spacingAndGlyphs\" textLength=\"8\" x=\"106\" y=\"283.1074\">p</text><line style=\"stroke: #383838; stroke-width: 1.5;\" x1=\"90\" x2=\"130\" y1=\"290.9375\" y2=\"290.9375\"/></a><!--MD5=[09b614a08d8cba4a07c9adeb5e0fee81]\n",
       "class E3--><a href=\"psysml:83a66275-79f9-4d22-aa8c-e03faa30289f\" target=\"_top\" title=\"psysml:83a66275-79f9-4d22-aa8c-e03faa30289f\" xlink:actuate=\"onRequest\" xlink:href=\"psysml:83a66275-79f9-4d22-aa8c-e03faa30289f\" xlink:show=\"new\" xlink:title=\"psysml:83a66275-79f9-4d22-aa8c-e03faa30289f\" xlink:type=\"simple\"><rect fill=\"#FFFFFF\" height=\"45.9375\" id=\"E3\" rx=\"10\" ry=\"10\" style=\"stroke: #383838; stroke-width: 1.5;\" width=\"42\" x=\"109\" y=\"359\"/><text fill=\"#000000\" font-family=\"sans-serif\" font-size=\"12\" font-style=\"italic\" lengthAdjust=\"spacingAndGlyphs\" textLength=\"40\" x=\"110\" y=\"375.1387\">«part»</text><text fill=\"#000000\" font-family=\"sans-serif\" font-size=\"12\" lengthAdjust=\"spacingAndGlyphs\" textLength=\"6\" x=\"127\" y=\"389.1074\">x</text><line style=\"stroke: #383838; stroke-width: 1.5;\" x1=\"110\" x2=\"150\" y1=\"396.9375\" y2=\"396.9375\"/></a><!--MD5=[ebbe1d658d1005bcc118a6aa81145e00]\n",
       "class E4--><a href=\"psysml:aa5ac9d5-4dfe-418e-90b4-d1e9d9002b4c\" target=\"_top\" title=\"psysml:aa5ac9d5-4dfe-418e-90b4-d1e9d9002b4c\" xlink:actuate=\"onRequest\" xlink:href=\"psysml:aa5ac9d5-4dfe-418e-90b4-d1e9d9002b4c\" xlink:show=\"new\" xlink:title=\"psysml:aa5ac9d5-4dfe-418e-90b4-d1e9d9002b4c\" xlink:type=\"simple\"><rect fill=\"#FFFFFF\" height=\"45.9375\" id=\"E4\" rx=\"10\" ry=\"10\" style=\"stroke: #383838; stroke-width: 1.5;\" width=\"42\" x=\"109\" y=\"465\"/><text fill=\"#000000\" font-family=\"sans-serif\" font-size=\"12\" font-style=\"italic\" lengthAdjust=\"spacingAndGlyphs\" textLength=\"40\" x=\"110\" y=\"481.1387\">«part»</text><text fill=\"#000000\" font-family=\"sans-serif\" font-size=\"12\" lengthAdjust=\"spacingAndGlyphs\" textLength=\"14\" x=\"123\" y=\"495.1074\">x1</text><line style=\"stroke: #383838; stroke-width: 1.5;\" x1=\"110\" x2=\"150\" y1=\"502.9375\" y2=\"502.9375\"/></a><!--MD5=[270fce915f116d4de14055a7c1d9a0f3]\n",
       "class E5--><a href=\"psysml:fe1eabcd-2f5c-4c92-bec8-31bd54db8461\" target=\"_top\" title=\"psysml:fe1eabcd-2f5c-4c92-bec8-31bd54db8461\" xlink:actuate=\"onRequest\" xlink:href=\"psysml:fe1eabcd-2f5c-4c92-bec8-31bd54db8461\" xlink:show=\"new\" xlink:title=\"psysml:fe1eabcd-2f5c-4c92-bec8-31bd54db8461\" xlink:type=\"simple\"><rect fill=\"#FFFFFF\" height=\"45.9375\" id=\"E5\" style=\"stroke: #383838; stroke-width: 1.5;\" width=\"66\" x=\"54\" y=\"41\"/><text fill=\"#000000\" font-family=\"sans-serif\" font-size=\"12\" font-style=\"italic\" lengthAdjust=\"spacingAndGlyphs\" textLength=\"64\" x=\"55\" y=\"57.1387\">«part def»</text><text fill=\"#000000\" font-family=\"sans-serif\" font-size=\"12\" lengthAdjust=\"spacingAndGlyphs\" textLength=\"8\" x=\"83\" y=\"71.1074\">P</text><line style=\"stroke: #383838; stroke-width: 1.5;\" x1=\"55\" x2=\"119\" y1=\"78.9375\" y2=\"78.9375\"/></a><!--MD5=[60a26617385b1d2d0262a64233df1f8d]\n",
       "class E6--><a href=\"psysml:06be23d5-21a7-42eb-83e3-f8e6bdc4a055\" target=\"_top\" title=\"psysml:06be23d5-21a7-42eb-83e3-f8e6bdc4a055\" xlink:actuate=\"onRequest\" xlink:href=\"psysml:06be23d5-21a7-42eb-83e3-f8e6bdc4a055\" xlink:show=\"new\" xlink:title=\"psysml:06be23d5-21a7-42eb-83e3-f8e6bdc4a055\" xlink:type=\"simple\"><rect fill=\"#FFFFFF\" height=\"45.9375\" id=\"E6\" rx=\"10\" ry=\"10\" style=\"stroke: #383838; stroke-width: 1.5;\" width=\"42\" x=\"32\" y=\"359\"/><text fill=\"#000000\" font-family=\"sans-serif\" font-size=\"12\" font-style=\"italic\" lengthAdjust=\"spacingAndGlyphs\" textLength=\"40\" x=\"33\" y=\"375.1387\">«part»</text><text fill=\"#000000\" font-family=\"sans-serif\" font-size=\"12\" lengthAdjust=\"spacingAndGlyphs\" textLength=\"6\" x=\"50\" y=\"389.1074\">y</text><line style=\"stroke: #383838; stroke-width: 1.5;\" x1=\"33\" x2=\"73\" y1=\"396.9375\" y2=\"396.9375\"/></a><!--MD5=[2156ba9850f5573cc1fc38a6a4b2f02b]\n",
       "class E7--><a href=\"psysml:32e0c838-e55d-456a-ac80-3fd98b88adbf\" target=\"_top\" title=\"psysml:32e0c838-e55d-456a-ac80-3fd98b88adbf\" xlink:actuate=\"onRequest\" xlink:href=\"psysml:32e0c838-e55d-456a-ac80-3fd98b88adbf\" xlink:show=\"new\" xlink:title=\"psysml:32e0c838-e55d-456a-ac80-3fd98b88adbf\" xlink:type=\"simple\"><rect fill=\"#FFFFFF\" height=\"45.9375\" id=\"E7\" rx=\"10\" ry=\"10\" style=\"stroke: #383838; stroke-width: 1.5;\" width=\"42\" x=\"89\" y=\"147\"/><text fill=\"#000000\" font-family=\"sans-serif\" font-size=\"12\" font-style=\"italic\" lengthAdjust=\"spacingAndGlyphs\" textLength=\"40\" x=\"90\" y=\"163.1387\">«part»</text><text fill=\"#000000\" font-family=\"sans-serif\" font-size=\"12\" lengthAdjust=\"spacingAndGlyphs\" textLength=\"16\" x=\"102\" y=\"177.1074\">p1</text><line style=\"stroke: #383838; stroke-width: 1.5;\" x1=\"90\" x2=\"130\" y1=\"184.9375\" y2=\"184.9375\"/></a><!--MD5=[209b3feb70ccb6233bfe1053d122c12c]\n",
       "reverse link E2 to E3--><a href=\"psysml:96d6ab40-4f8f-4d11-a48f-d95a37d5e194\" target=\"_top\" title=\"psysml:96d6ab40-4f8f-4d11-a48f-d95a37d5e194\" xlink:actuate=\"onRequest\" xlink:href=\"psysml:96d6ab40-4f8f-4d11-a48f-d95a37d5e194\" xlink:show=\"new\" xlink:title=\"psysml:96d6ab40-4f8f-4d11-a48f-d95a37d5e194\" xlink:type=\"simple\"><path d=\"M120,312 C120,312 120,358.68 120,358.68 \" fill=\"none\" id=\"E2&lt;-E3\" style=\"stroke: #383838; stroke-width: 1.0;\"/><polygon fill=\"#383838\" points=\"120,299,116,305,120,311,124,305,120,299\" style=\"stroke: #383838; stroke-width: 1.0;\"/><text fill=\"#000000\" font-family=\"sans-serif\" font-size=\"13\" lengthAdjust=\"spacingAndGlyphs\" textLength=\"8\" x=\"108.4125\" y=\"347.8743\">1</text></a><!--MD5=[4672eba38e49728da53d11aeb285b987]\n",
       "reverse link E3 to E4--><a href=\"psysml:15b45894-f404-4f26-aaef-cf96b8c0ca99\" target=\"_top\" title=\"psysml:15b45894-f404-4f26-aaef-cf96b8c0ca99\" xlink:actuate=\"onRequest\" xlink:href=\"psysml:15b45894-f404-4f26-aaef-cf96b8c0ca99\" xlink:show=\"new\" xlink:title=\"psysml:15b45894-f404-4f26-aaef-cf96b8c0ca99\" xlink:type=\"simple\"><path d=\"M130,418 C130,418 130,464.68 130,464.68 \" fill=\"none\" id=\"E3&lt;-E4\" style=\"stroke: #383838; stroke-width: 1.0;\"/><polygon fill=\"#383838\" points=\"130,405,126,411,130,417,134,411,130,405\" style=\"stroke: #383838; stroke-width: 1.0;\"/><text fill=\"#000000\" font-family=\"sans-serif\" font-size=\"13\" lengthAdjust=\"spacingAndGlyphs\" textLength=\"8\" x=\"120.975\" y=\"453.8743\">1</text></a><!--MD5=[85d356282659285ab4b2cfe2f634dd2b]\n",
       "reverse link E5 to E6--><a href=\"psysml:e9a2dbd2-75b9-45f4-aecc-a2c2183931e9\" target=\"_top\" title=\"psysml:e9a2dbd2-75b9-45f4-aecc-a2c2183931e9\" xlink:actuate=\"onRequest\" xlink:href=\"psysml:e9a2dbd2-75b9-45f4-aecc-a2c2183931e9\" xlink:show=\"new\" xlink:title=\"psysml:e9a2dbd2-75b9-45f4-aecc-a2c2183931e9\" xlink:type=\"simple\"><path d=\"M60.67,100.13 C60.67,100.13 60.67,358.96 60.67,358.96 \" fill=\"none\" id=\"E5&lt;-E6\" style=\"stroke: #383838; stroke-width: 1.0;\"/><polygon fill=\"#383838\" points=\"60.67,87.13,56.67,93.13,60.67,99.13,64.67,93.13,60.67,87.13\" style=\"stroke: #383838; stroke-width: 1.0;\"/><text fill=\"#000000\" font-family=\"sans-serif\" font-size=\"13\" lengthAdjust=\"spacingAndGlyphs\" textLength=\"8\" x=\"53.6563\" y=\"347.8455\">1</text></a><!--MD5=[e3e28c1befcf002155aa15e1416b4315]\n",
       "link E2 to E6--><a href=\"psysml:2b37c4a5-3576-4b38-9831-53a66373adf4\" target=\"_top\" title=\"psysml:2b37c4a5-3576-4b38-9831-53a66373adf4\" xlink:actuate=\"onRequest\" xlink:href=\"psysml:2b37c4a5-3576-4b38-9831-53a66373adf4\" xlink:show=\"new\" xlink:title=\"psysml:2b37c4a5-3576-4b38-9831-53a66373adf4\" xlink:type=\"simple\"><path d=\"M88.67,276 C78,276 67.33,276 67.33,276 C67.33,276 67.33,327.82 67.33,359 \" fill=\"none\" id=\"E2-E6\" style=\"stroke: #383838; stroke-width: 3.0;\"/><text fill=\"#000000\" font-family=\"sans-serif\" font-size=\"13\" lengthAdjust=\"spacingAndGlyphs\" textLength=\"7\" x=\"72.1218\" y=\"347.8963\">*</text></a><!--MD5=[452b418e7f8a40397a49b8c0a78acc5b]\n",
       "reverse link E5 to E7--><a href=\"psysml:0433d7bc-4d61-42a3-98d7-5077bd02d97e\" target=\"_top\" title=\"psysml:0433d7bc-4d61-42a3-98d7-5077bd02d97e\" xlink:actuate=\"onRequest\" xlink:href=\"psysml:0433d7bc-4d61-42a3-98d7-5077bd02d97e\" xlink:show=\"new\" xlink:title=\"psysml:0433d7bc-4d61-42a3-98d7-5077bd02d97e\" xlink:type=\"simple\"><path d=\"M104.5,100 C104.5,100 104.5,146.68 104.5,146.68 \" fill=\"none\" id=\"E5&lt;-E7\" style=\"stroke: #383838; stroke-width: 1.0;\"/><polygon fill=\"#383838\" points=\"104.5,87,100.5,93,104.5,99,108.5,93,104.5,87\" style=\"stroke: #383838; stroke-width: 1.0;\"/><text fill=\"#000000\" font-family=\"sans-serif\" font-size=\"13\" lengthAdjust=\"spacingAndGlyphs\" textLength=\"8\" x=\"94.0656\" y=\"135.8743\">1</text></a><!--MD5=[583832df87f4419a098336a29a52fa00]\n",
       "link E7 to E2--><a href=\"psysml:d6550333-67eb-4da5-a08d-e8c2ba9c3c42\" target=\"_top\" title=\"psysml:d6550333-67eb-4da5-a08d-e8c2ba9c3c42\" xlink:actuate=\"onRequest\" xlink:href=\"psysml:d6550333-67eb-4da5-a08d-e8c2ba9c3c42\" xlink:show=\"new\" xlink:title=\"psysml:d6550333-67eb-4da5-a08d-e8c2ba9c3c42\" xlink:type=\"simple\"><path d=\"M110,193 C110,193 110,232.68 110,232.68 \" fill=\"none\" id=\"E7-&gt;E2\" style=\"stroke: #383838; stroke-width: 1.0;\"/><polygon fill=\"none\" points=\"117,232.68,110,252.68,103,232.68,117,232.68\" style=\"stroke: #383838; stroke-width: 1.0;\"/></a><!--MD5=[aa99e51b6015a8312593bb545f420577]\n",
       "@startuml\r\n",
       "skinparam linetype ortho\r\n",
       "skinparam monochrome true\r\n",
       "skinparam classbackgroundcolor white\r\n",
       "skinparam shadowing false\r\n",
       "skinparam wrapWidth 300\r\n",
       "hide circle\r\n",
       "\r\n",
       "package \"ConnectionTest\" as E1  [[psysml:316d1b7b-e6b7-4d49-a637-31383ba5712a ]]  {\r\n",
       "comp usage \"p\" as E2  <<(T,blue) part>> [[psysml:c01c1eb8-4402-477c-affb-a3d93aa1c07f ]] {\r\n",
       "}\r\n",
       "comp usage \"x\" as E3  <<(T,blue) part>> [[psysml:83a66275-79f9-4d22-aa8c-e03faa30289f ]] {\r\n",
       "}\r\n",
       "comp usage \"x1\" as E4  <<(T,blue) part>> [[psysml:aa5ac9d5-4dfe-418e-90b4-d1e9d9002b4c ]] {\r\n",
       "}\r\n",
       "comp def \"P\" as E5  <<(T,blue) part def>> [[psysml:fe1eabcd-2f5c-4c92-bec8-31bd54db8461 ]] {\r\n",
       "}\r\n",
       "comp usage \"y\" as E6  <<(T,blue) part>> [[psysml:06be23d5-21a7-42eb-83e3-f8e6bdc4a055 ]] {\r\n",
       "}\r\n",
       "comp usage \"p1\" as E7  <<(T,blue) part>> [[psysml:32e0c838-e55d-456a-ac80-3fd98b88adbf ]] {\r\n",
       "}\r\n",
       "E2 *- - \"1\"E3 [[psysml:96d6ab40-4f8f-4d11-a48f-d95a37d5e194 ]] \r\n",
       "E3 *- - \"1\"E4 [[psysml:15b45894-f404-4f26-aaef-cf96b8c0ca99 ]] \r\n",
       "E5 *- - \"1\"E6 [[psysml:e9a2dbd2-75b9-45f4-aecc-a2c2183931e9 ]] \r\n",
       "E2 -[thickness=3]- \"*\"E6 [[psysml:2b37c4a5-3576-4b38-9831-53a66373adf4 ]] \r\n",
       "E5 *- - \"1\"E7 [[psysml:0433d7bc-4d61-42a3-98d7-5077bd02d97e ]] \r\n",
       "E7 - -|> E2 [[psysml:d6550333-67eb-4da5-a08d-e8c2ba9c3c42 ]] \r\n",
       "}\r\n",
       "@enduml\r\n",
       "\n",
       "PlantUML version 1.2020.13(Sat Jun 13 12:26:38 UTC 2020)\n",
       "(EPL source distribution)\n",
       "Java Runtime: OpenJDK Runtime Environment\n",
       "JVM: OpenJDK 64-Bit Server VM\n",
       "Default Encoding: UTF-8\n",
       "Language: en\n",
       "Country: null\n",
       "--></g></svg>"
      ]
     },
     "execution_count": 56,
     "metadata": {},
     "output_type": "execute_result"
    }
   ],
   "source": [
    "%viz --style=\"ORTHOLINE\" --view=\"Sequence\" \"ConnectionTest\""
   ]
  },
  {
   "cell_type": "code",
   "execution_count": 57,
   "id": "f216d3e5",
   "metadata": {
    "execution": {
     "iopub.execute_input": "2021-08-04T06:28:55.442854Z",
     "iopub.status.busy": "2021-08-04T06:28:55.442450Z",
     "iopub.status.idle": "2021-08-04T06:28:55.467128Z",
     "shell.execute_reply": "2021-08-04T06:28:55.465909Z"
    }
   },
   "outputs": [
    {
     "data": {
      "image/svg+xml": [
       "<?xml version=\"1.0\" encoding=\"UTF-8\" standalone=\"no\"?><svg xmlns=\"http://www.w3.org/2000/svg\" xmlns:xlink=\"http://www.w3.org/1999/xlink\" contentScriptType=\"application/ecmascript\" contentStyleType=\"text/css\" height=\"539px\" preserveAspectRatio=\"none\" style=\"width:189px;height:539px;\" version=\"1.1\" viewBox=\"0 0 189 539\" width=\"189px\" zoomAndPan=\"magnify\"><defs/><g><!--MD5=[fbc87193dbaf4d95561dea2c320d4a47]\n",
       "cluster E1--><a href=\"psysml:316d1b7b-e6b7-4d49-a637-31383ba5712a\" target=\"_top\" title=\"psysml:316d1b7b-e6b7-4d49-a637-31383ba5712a\" xlink:actuate=\"onRequest\" xlink:href=\"psysml:316d1b7b-e6b7-4d49-a637-31383ba5712a\" xlink:show=\"new\" xlink:title=\"psysml:316d1b7b-e6b7-4d49-a637-31383ba5712a\" xlink:type=\"simple\"><polygon fill=\"#FFFFFF\" points=\"16,6,147,6,154,28.2969,167,28.2969,167,527,16,527,16,6\" style=\"stroke: #000000; stroke-width: 1.5;\"/><line style=\"stroke: #000000; stroke-width: 1.5;\" x1=\"16\" x2=\"154\" y1=\"28.2969\" y2=\"28.2969\"/><text fill=\"#000000\" font-family=\"sans-serif\" font-size=\"14\" font-weight=\"bold\" lengthAdjust=\"spacingAndGlyphs\" textLength=\"125\" x=\"20\" y=\"20.9951\">ConnectionTest</text></a><!--MD5=[b4997ac47864f28c2f74865a473b2911]\n",
       "class E2--><a href=\"psysml:c01c1eb8-4402-477c-affb-a3d93aa1c07f\" target=\"_top\" title=\"psysml:c01c1eb8-4402-477c-affb-a3d93aa1c07f\" xlink:actuate=\"onRequest\" xlink:href=\"psysml:c01c1eb8-4402-477c-affb-a3d93aa1c07f\" xlink:show=\"new\" xlink:title=\"psysml:c01c1eb8-4402-477c-affb-a3d93aa1c07f\" xlink:type=\"simple\"><rect fill=\"#FFFFFF\" height=\"45.9375\" id=\"E2\" rx=\"10\" ry=\"10\" style=\"stroke: #383838; stroke-width: 1.5;\" width=\"42\" x=\"89\" y=\"253\"/><text fill=\"#000000\" font-family=\"sans-serif\" font-size=\"12\" font-style=\"italic\" lengthAdjust=\"spacingAndGlyphs\" textLength=\"40\" x=\"90\" y=\"269.1387\">«part»</text><text fill=\"#000000\" font-family=\"sans-serif\" font-size=\"12\" lengthAdjust=\"spacingAndGlyphs\" textLength=\"8\" x=\"106\" y=\"283.1074\">p</text><line style=\"stroke: #383838; stroke-width: 1.5;\" x1=\"90\" x2=\"130\" y1=\"290.9375\" y2=\"290.9375\"/></a><!--MD5=[09b614a08d8cba4a07c9adeb5e0fee81]\n",
       "class E3--><a href=\"psysml:83a66275-79f9-4d22-aa8c-e03faa30289f\" target=\"_top\" title=\"psysml:83a66275-79f9-4d22-aa8c-e03faa30289f\" xlink:actuate=\"onRequest\" xlink:href=\"psysml:83a66275-79f9-4d22-aa8c-e03faa30289f\" xlink:show=\"new\" xlink:title=\"psysml:83a66275-79f9-4d22-aa8c-e03faa30289f\" xlink:type=\"simple\"><rect fill=\"#FFFFFF\" height=\"45.9375\" id=\"E3\" rx=\"10\" ry=\"10\" style=\"stroke: #383838; stroke-width: 1.5;\" width=\"42\" x=\"109\" y=\"359\"/><text fill=\"#000000\" font-family=\"sans-serif\" font-size=\"12\" font-style=\"italic\" lengthAdjust=\"spacingAndGlyphs\" textLength=\"40\" x=\"110\" y=\"375.1387\">«part»</text><text fill=\"#000000\" font-family=\"sans-serif\" font-size=\"12\" lengthAdjust=\"spacingAndGlyphs\" textLength=\"6\" x=\"127\" y=\"389.1074\">x</text><line style=\"stroke: #383838; stroke-width: 1.5;\" x1=\"110\" x2=\"150\" y1=\"396.9375\" y2=\"396.9375\"/></a><!--MD5=[ebbe1d658d1005bcc118a6aa81145e00]\n",
       "class E4--><a href=\"psysml:aa5ac9d5-4dfe-418e-90b4-d1e9d9002b4c\" target=\"_top\" title=\"psysml:aa5ac9d5-4dfe-418e-90b4-d1e9d9002b4c\" xlink:actuate=\"onRequest\" xlink:href=\"psysml:aa5ac9d5-4dfe-418e-90b4-d1e9d9002b4c\" xlink:show=\"new\" xlink:title=\"psysml:aa5ac9d5-4dfe-418e-90b4-d1e9d9002b4c\" xlink:type=\"simple\"><rect fill=\"#FFFFFF\" height=\"45.9375\" id=\"E4\" rx=\"10\" ry=\"10\" style=\"stroke: #383838; stroke-width: 1.5;\" width=\"42\" x=\"109\" y=\"465\"/><text fill=\"#000000\" font-family=\"sans-serif\" font-size=\"12\" font-style=\"italic\" lengthAdjust=\"spacingAndGlyphs\" textLength=\"40\" x=\"110\" y=\"481.1387\">«part»</text><text fill=\"#000000\" font-family=\"sans-serif\" font-size=\"12\" lengthAdjust=\"spacingAndGlyphs\" textLength=\"14\" x=\"123\" y=\"495.1074\">x1</text><line style=\"stroke: #383838; stroke-width: 1.5;\" x1=\"110\" x2=\"150\" y1=\"502.9375\" y2=\"502.9375\"/></a><!--MD5=[270fce915f116d4de14055a7c1d9a0f3]\n",
       "class E5--><a href=\"psysml:fe1eabcd-2f5c-4c92-bec8-31bd54db8461\" target=\"_top\" title=\"psysml:fe1eabcd-2f5c-4c92-bec8-31bd54db8461\" xlink:actuate=\"onRequest\" xlink:href=\"psysml:fe1eabcd-2f5c-4c92-bec8-31bd54db8461\" xlink:show=\"new\" xlink:title=\"psysml:fe1eabcd-2f5c-4c92-bec8-31bd54db8461\" xlink:type=\"simple\"><rect fill=\"#FFFFFF\" height=\"45.9375\" id=\"E5\" style=\"stroke: #383838; stroke-width: 1.5;\" width=\"66\" x=\"54\" y=\"41\"/><text fill=\"#000000\" font-family=\"sans-serif\" font-size=\"12\" font-style=\"italic\" lengthAdjust=\"spacingAndGlyphs\" textLength=\"64\" x=\"55\" y=\"57.1387\">«part def»</text><text fill=\"#000000\" font-family=\"sans-serif\" font-size=\"12\" lengthAdjust=\"spacingAndGlyphs\" textLength=\"8\" x=\"83\" y=\"71.1074\">P</text><line style=\"stroke: #383838; stroke-width: 1.5;\" x1=\"55\" x2=\"119\" y1=\"78.9375\" y2=\"78.9375\"/></a><!--MD5=[60a26617385b1d2d0262a64233df1f8d]\n",
       "class E6--><a href=\"psysml:06be23d5-21a7-42eb-83e3-f8e6bdc4a055\" target=\"_top\" title=\"psysml:06be23d5-21a7-42eb-83e3-f8e6bdc4a055\" xlink:actuate=\"onRequest\" xlink:href=\"psysml:06be23d5-21a7-42eb-83e3-f8e6bdc4a055\" xlink:show=\"new\" xlink:title=\"psysml:06be23d5-21a7-42eb-83e3-f8e6bdc4a055\" xlink:type=\"simple\"><rect fill=\"#FFFFFF\" height=\"45.9375\" id=\"E6\" rx=\"10\" ry=\"10\" style=\"stroke: #383838; stroke-width: 1.5;\" width=\"42\" x=\"32\" y=\"359\"/><text fill=\"#000000\" font-family=\"sans-serif\" font-size=\"12\" font-style=\"italic\" lengthAdjust=\"spacingAndGlyphs\" textLength=\"40\" x=\"33\" y=\"375.1387\">«part»</text><text fill=\"#000000\" font-family=\"sans-serif\" font-size=\"12\" lengthAdjust=\"spacingAndGlyphs\" textLength=\"6\" x=\"50\" y=\"389.1074\">y</text><line style=\"stroke: #383838; stroke-width: 1.5;\" x1=\"33\" x2=\"73\" y1=\"396.9375\" y2=\"396.9375\"/></a><!--MD5=[2156ba9850f5573cc1fc38a6a4b2f02b]\n",
       "class E7--><a href=\"psysml:32e0c838-e55d-456a-ac80-3fd98b88adbf\" target=\"_top\" title=\"psysml:32e0c838-e55d-456a-ac80-3fd98b88adbf\" xlink:actuate=\"onRequest\" xlink:href=\"psysml:32e0c838-e55d-456a-ac80-3fd98b88adbf\" xlink:show=\"new\" xlink:title=\"psysml:32e0c838-e55d-456a-ac80-3fd98b88adbf\" xlink:type=\"simple\"><rect fill=\"#FFFFFF\" height=\"45.9375\" id=\"E7\" rx=\"10\" ry=\"10\" style=\"stroke: #383838; stroke-width: 1.5;\" width=\"42\" x=\"89\" y=\"147\"/><text fill=\"#000000\" font-family=\"sans-serif\" font-size=\"12\" font-style=\"italic\" lengthAdjust=\"spacingAndGlyphs\" textLength=\"40\" x=\"90\" y=\"163.1387\">«part»</text><text fill=\"#000000\" font-family=\"sans-serif\" font-size=\"12\" lengthAdjust=\"spacingAndGlyphs\" textLength=\"16\" x=\"102\" y=\"177.1074\">p1</text><line style=\"stroke: #383838; stroke-width: 1.5;\" x1=\"90\" x2=\"130\" y1=\"184.9375\" y2=\"184.9375\"/></a><!--MD5=[209b3feb70ccb6233bfe1053d122c12c]\n",
       "reverse link E2 to E3--><a href=\"psysml:96d6ab40-4f8f-4d11-a48f-d95a37d5e194\" target=\"_top\" title=\"psysml:96d6ab40-4f8f-4d11-a48f-d95a37d5e194\" xlink:actuate=\"onRequest\" xlink:href=\"psysml:96d6ab40-4f8f-4d11-a48f-d95a37d5e194\" xlink:show=\"new\" xlink:title=\"psysml:96d6ab40-4f8f-4d11-a48f-d95a37d5e194\" xlink:type=\"simple\"><path d=\"M120,312 C120,312 120,358.68 120,358.68 \" fill=\"none\" id=\"E2&lt;-E3\" style=\"stroke: #383838; stroke-width: 1.0;\"/><polygon fill=\"#383838\" points=\"120,299,116,305,120,311,124,305,120,299\" style=\"stroke: #383838; stroke-width: 1.0;\"/><text fill=\"#000000\" font-family=\"sans-serif\" font-size=\"13\" lengthAdjust=\"spacingAndGlyphs\" textLength=\"8\" x=\"108.4125\" y=\"347.8743\">1</text></a><!--MD5=[4672eba38e49728da53d11aeb285b987]\n",
       "reverse link E3 to E4--><a href=\"psysml:15b45894-f404-4f26-aaef-cf96b8c0ca99\" target=\"_top\" title=\"psysml:15b45894-f404-4f26-aaef-cf96b8c0ca99\" xlink:actuate=\"onRequest\" xlink:href=\"psysml:15b45894-f404-4f26-aaef-cf96b8c0ca99\" xlink:show=\"new\" xlink:title=\"psysml:15b45894-f404-4f26-aaef-cf96b8c0ca99\" xlink:type=\"simple\"><path d=\"M130,418 C130,418 130,464.68 130,464.68 \" fill=\"none\" id=\"E3&lt;-E4\" style=\"stroke: #383838; stroke-width: 1.0;\"/><polygon fill=\"#383838\" points=\"130,405,126,411,130,417,134,411,130,405\" style=\"stroke: #383838; stroke-width: 1.0;\"/><text fill=\"#000000\" font-family=\"sans-serif\" font-size=\"13\" lengthAdjust=\"spacingAndGlyphs\" textLength=\"8\" x=\"120.975\" y=\"453.8743\">1</text></a><!--MD5=[85d356282659285ab4b2cfe2f634dd2b]\n",
       "reverse link E5 to E6--><a href=\"psysml:e9a2dbd2-75b9-45f4-aecc-a2c2183931e9\" target=\"_top\" title=\"psysml:e9a2dbd2-75b9-45f4-aecc-a2c2183931e9\" xlink:actuate=\"onRequest\" xlink:href=\"psysml:e9a2dbd2-75b9-45f4-aecc-a2c2183931e9\" xlink:show=\"new\" xlink:title=\"psysml:e9a2dbd2-75b9-45f4-aecc-a2c2183931e9\" xlink:type=\"simple\"><path d=\"M60.67,100.13 C60.67,100.13 60.67,358.96 60.67,358.96 \" fill=\"none\" id=\"E5&lt;-E6\" style=\"stroke: #383838; stroke-width: 1.0;\"/><polygon fill=\"#383838\" points=\"60.67,87.13,56.67,93.13,60.67,99.13,64.67,93.13,60.67,87.13\" style=\"stroke: #383838; stroke-width: 1.0;\"/><text fill=\"#000000\" font-family=\"sans-serif\" font-size=\"13\" lengthAdjust=\"spacingAndGlyphs\" textLength=\"8\" x=\"53.6563\" y=\"347.8455\">1</text></a><!--MD5=[e3e28c1befcf002155aa15e1416b4315]\n",
       "link E2 to E6--><a href=\"psysml:2b37c4a5-3576-4b38-9831-53a66373adf4\" target=\"_top\" title=\"psysml:2b37c4a5-3576-4b38-9831-53a66373adf4\" xlink:actuate=\"onRequest\" xlink:href=\"psysml:2b37c4a5-3576-4b38-9831-53a66373adf4\" xlink:show=\"new\" xlink:title=\"psysml:2b37c4a5-3576-4b38-9831-53a66373adf4\" xlink:type=\"simple\"><path d=\"M88.67,276 C78,276 67.33,276 67.33,276 C67.33,276 67.33,327.82 67.33,359 \" fill=\"none\" id=\"E2-E6\" style=\"stroke: #383838; stroke-width: 3.0;\"/><text fill=\"#000000\" font-family=\"sans-serif\" font-size=\"13\" lengthAdjust=\"spacingAndGlyphs\" textLength=\"7\" x=\"72.1218\" y=\"347.8963\">*</text></a><!--MD5=[452b418e7f8a40397a49b8c0a78acc5b]\n",
       "reverse link E5 to E7--><a href=\"psysml:0433d7bc-4d61-42a3-98d7-5077bd02d97e\" target=\"_top\" title=\"psysml:0433d7bc-4d61-42a3-98d7-5077bd02d97e\" xlink:actuate=\"onRequest\" xlink:href=\"psysml:0433d7bc-4d61-42a3-98d7-5077bd02d97e\" xlink:show=\"new\" xlink:title=\"psysml:0433d7bc-4d61-42a3-98d7-5077bd02d97e\" xlink:type=\"simple\"><path d=\"M104.5,100 C104.5,100 104.5,146.68 104.5,146.68 \" fill=\"none\" id=\"E5&lt;-E7\" style=\"stroke: #383838; stroke-width: 1.0;\"/><polygon fill=\"#383838\" points=\"104.5,87,100.5,93,104.5,99,108.5,93,104.5,87\" style=\"stroke: #383838; stroke-width: 1.0;\"/><text fill=\"#000000\" font-family=\"sans-serif\" font-size=\"13\" lengthAdjust=\"spacingAndGlyphs\" textLength=\"8\" x=\"94.0656\" y=\"135.8743\">1</text></a><!--MD5=[583832df87f4419a098336a29a52fa00]\n",
       "link E7 to E2--><a href=\"psysml:d6550333-67eb-4da5-a08d-e8c2ba9c3c42\" target=\"_top\" title=\"psysml:d6550333-67eb-4da5-a08d-e8c2ba9c3c42\" xlink:actuate=\"onRequest\" xlink:href=\"psysml:d6550333-67eb-4da5-a08d-e8c2ba9c3c42\" xlink:show=\"new\" xlink:title=\"psysml:d6550333-67eb-4da5-a08d-e8c2ba9c3c42\" xlink:type=\"simple\"><path d=\"M110,193 C110,193 110,232.68 110,232.68 \" fill=\"none\" id=\"E7-&gt;E2\" style=\"stroke: #383838; stroke-width: 1.0;\"/><polygon fill=\"none\" points=\"117,232.68,110,252.68,103,232.68,117,232.68\" style=\"stroke: #383838; stroke-width: 1.0;\"/></a><!--MD5=[aa99e51b6015a8312593bb545f420577]\n",
       "@startuml\r\n",
       "skinparam linetype ortho\r\n",
       "skinparam monochrome true\r\n",
       "skinparam classbackgroundcolor white\r\n",
       "skinparam shadowing false\r\n",
       "skinparam wrapWidth 300\r\n",
       "hide circle\r\n",
       "\r\n",
       "package \"ConnectionTest\" as E1  [[psysml:316d1b7b-e6b7-4d49-a637-31383ba5712a ]]  {\r\n",
       "comp usage \"p\" as E2  <<(T,blue) part>> [[psysml:c01c1eb8-4402-477c-affb-a3d93aa1c07f ]] {\r\n",
       "}\r\n",
       "comp usage \"x\" as E3  <<(T,blue) part>> [[psysml:83a66275-79f9-4d22-aa8c-e03faa30289f ]] {\r\n",
       "}\r\n",
       "comp usage \"x1\" as E4  <<(T,blue) part>> [[psysml:aa5ac9d5-4dfe-418e-90b4-d1e9d9002b4c ]] {\r\n",
       "}\r\n",
       "comp def \"P\" as E5  <<(T,blue) part def>> [[psysml:fe1eabcd-2f5c-4c92-bec8-31bd54db8461 ]] {\r\n",
       "}\r\n",
       "comp usage \"y\" as E6  <<(T,blue) part>> [[psysml:06be23d5-21a7-42eb-83e3-f8e6bdc4a055 ]] {\r\n",
       "}\r\n",
       "comp usage \"p1\" as E7  <<(T,blue) part>> [[psysml:32e0c838-e55d-456a-ac80-3fd98b88adbf ]] {\r\n",
       "}\r\n",
       "E2 *- - \"1\"E3 [[psysml:96d6ab40-4f8f-4d11-a48f-d95a37d5e194 ]] \r\n",
       "E3 *- - \"1\"E4 [[psysml:15b45894-f404-4f26-aaef-cf96b8c0ca99 ]] \r\n",
       "E5 *- - \"1\"E6 [[psysml:e9a2dbd2-75b9-45f4-aecc-a2c2183931e9 ]] \r\n",
       "E2 -[thickness=3]- \"*\"E6 [[psysml:2b37c4a5-3576-4b38-9831-53a66373adf4 ]] \r\n",
       "E5 *- - \"1\"E7 [[psysml:0433d7bc-4d61-42a3-98d7-5077bd02d97e ]] \r\n",
       "E7 - -|> E2 [[psysml:d6550333-67eb-4da5-a08d-e8c2ba9c3c42 ]] \r\n",
       "}\r\n",
       "@enduml\r\n",
       "\n",
       "PlantUML version 1.2020.13(Sat Jun 13 12:26:38 UTC 2020)\n",
       "(EPL source distribution)\n",
       "Java Runtime: OpenJDK Runtime Environment\n",
       "JVM: OpenJDK 64-Bit Server VM\n",
       "Default Encoding: UTF-8\n",
       "Language: en\n",
       "Country: null\n",
       "--></g></svg>"
      ]
     },
     "execution_count": 57,
     "metadata": {},
     "output_type": "execute_result"
    }
   ],
   "source": [
    "%viz --style=\"ORTHOLINE\" --view=\"MIXED\" \"ConnectionTest\""
   ]
  }
 ],
 "metadata": {
  "kernelspec": {
   "display_name": "SysML",
   "language": "sysml",
   "name": "sysml"
  },
  "language_info": {
   "codemirror_mode": "sysml",
   "file_extension": ".sysml",
   "mimetype": "text/x-sysml",
   "name": "SysML",
   "pygments_lexer": "java",
   "version": "1.0.0"
  }
 },
 "nbformat": 4,
 "nbformat_minor": 5
}
