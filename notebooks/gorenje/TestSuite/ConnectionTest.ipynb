{
 "cells": [
  {
   "cell_type": "markdown",
   "id": "86ad9f63",
   "metadata": {},
   "source": [
    "# SysML v2 Test Suite\n",
    "\n",
    "This can notebook can be cleared using menu `Edit --> Clear All Outputs` and then all cells can be\n",
    "run using menu `Run --> Run All Cells`.\n",
    "\n",
    "**WARNING**: This file is generated, all modifications here will be ignored.\n"
   ]
  },
  {
   "cell_type": "markdown",
   "id": "d22cc203",
   "metadata": {},
   "source": [
    "## File: ../../sysml/src/examples/Simple Tests/ConnectionTest.sysml"
   ]
  },
  {
   "cell_type": "code",
   "execution_count": 1,
   "id": "3e0ac3eb",
   "metadata": {
    "execution": {
     "iopub.execute_input": "2021-06-30T09:21:30.854136Z",
     "iopub.status.busy": "2021-06-30T09:21:30.852438Z",
     "iopub.status.idle": "2021-06-30T09:21:31.784838Z",
     "shell.execute_reply": "2021-06-30T09:21:31.783893Z"
    }
   },
   "outputs": [
    {
     "data": {
      "text/plain": [
       "Package ConnectionTest (b82ee7d5-5e36-4149-a464-75660b053070)\n"
      ]
     },
     "execution_count": 1,
     "metadata": {},
     "output_type": "execute_result"
    }
   ],
   "source": [
    "package ConnectionTest {\n",
    "\t\n",
    "\tpart p {\n",
    "\t\tpart x {\n",
    "\t\t\tpart x1;\n",
    "\t\t}\n",
    "\t}\n",
    "\t\n",
    "\tpart def P {\n",
    "\t\tpart y;\n",
    "\n",
    "\t\tconnect p to y;\n",
    "\t\t\n",
    "\t\tpart p1 :> p;\n",
    "\t\n",
    "\t\tconnect p1.x to y;\n",
    "\t\tconnect p1.x.x1 to y;\n",
    "\t}\n",
    "}"
   ]
  },
  {
   "cell_type": "code",
   "execution_count": 2,
   "id": "5cb8094c",
   "metadata": {
    "execution": {
     "iopub.execute_input": "2021-06-30T09:21:31.836705Z",
     "iopub.status.busy": "2021-06-30T09:21:31.836131Z",
     "iopub.status.idle": "2021-06-30T09:21:32.647025Z",
     "shell.execute_reply": "2021-06-30T09:21:32.644558Z"
    }
   },
   "outputs": [
    {
     "data": {
      "image/svg+xml": [
       "<?xml version=\"1.0\" encoding=\"UTF-8\" standalone=\"no\"?><svg xmlns=\"http://www.w3.org/2000/svg\" xmlns:xlink=\"http://www.w3.org/1999/xlink\" contentScriptType=\"application/ecmascript\" contentStyleType=\"text/css\" height=\"539px\" preserveAspectRatio=\"none\" style=\"width:189px;height:539px;\" version=\"1.1\" viewBox=\"0 0 189 539\" width=\"189px\" zoomAndPan=\"magnify\"><defs/><g><!--MD5=[fbc87193dbaf4d95561dea2c320d4a47]\n",
       "cluster E1--><a href=\"psysml:22aef044-e637-4155-a6c9-7ceaf878199d\" target=\"_top\" title=\"psysml:22aef044-e637-4155-a6c9-7ceaf878199d\" xlink:actuate=\"onRequest\" xlink:href=\"psysml:22aef044-e637-4155-a6c9-7ceaf878199d\" xlink:show=\"new\" xlink:title=\"psysml:22aef044-e637-4155-a6c9-7ceaf878199d\" xlink:type=\"simple\"><polygon fill=\"#FFFFFF\" points=\"16,6,147,6,154,28.2969,167,28.2969,167,527,16,527,16,6\" style=\"stroke: #000000; stroke-width: 1.5;\"/><line style=\"stroke: #000000; stroke-width: 1.5;\" x1=\"16\" x2=\"154\" y1=\"28.2969\" y2=\"28.2969\"/><text fill=\"#000000\" font-family=\"sans-serif\" font-size=\"14\" font-weight=\"bold\" lengthAdjust=\"spacingAndGlyphs\" textLength=\"125\" x=\"20\" y=\"20.9951\">ConnectionTest</text></a><!--MD5=[b4997ac47864f28c2f74865a473b2911]\n",
       "class E2--><a href=\"psysml:4372fe5d-a54c-4736-ace6-05c35a4b2fd0\" target=\"_top\" title=\"psysml:4372fe5d-a54c-4736-ace6-05c35a4b2fd0\" xlink:actuate=\"onRequest\" xlink:href=\"psysml:4372fe5d-a54c-4736-ace6-05c35a4b2fd0\" xlink:show=\"new\" xlink:title=\"psysml:4372fe5d-a54c-4736-ace6-05c35a4b2fd0\" xlink:type=\"simple\"><rect fill=\"#FFFFFF\" height=\"45.9375\" id=\"E2\" rx=\"10\" ry=\"10\" style=\"stroke: #383838; stroke-width: 1.5;\" width=\"42\" x=\"70\" y=\"253\"/><text fill=\"#000000\" font-family=\"sans-serif\" font-size=\"12\" font-style=\"italic\" lengthAdjust=\"spacingAndGlyphs\" textLength=\"40\" x=\"71\" y=\"269.1387\">«part»</text><text fill=\"#000000\" font-family=\"sans-serif\" font-size=\"12\" lengthAdjust=\"spacingAndGlyphs\" textLength=\"8\" x=\"87\" y=\"283.1074\">p</text><line style=\"stroke: #383838; stroke-width: 1.5;\" x1=\"71\" x2=\"111\" y1=\"290.9375\" y2=\"290.9375\"/></a><!--MD5=[09b614a08d8cba4a07c9adeb5e0fee81]\n",
       "class E3--><a href=\"psysml:3f2b8857-d9ea-41c6-bb7a-db05d1986c1a\" target=\"_top\" title=\"psysml:3f2b8857-d9ea-41c6-bb7a-db05d1986c1a\" xlink:actuate=\"onRequest\" xlink:href=\"psysml:3f2b8857-d9ea-41c6-bb7a-db05d1986c1a\" xlink:show=\"new\" xlink:title=\"psysml:3f2b8857-d9ea-41c6-bb7a-db05d1986c1a\" xlink:type=\"simple\"><rect fill=\"#FFFFFF\" height=\"45.9375\" id=\"E3\" rx=\"10\" ry=\"10\" style=\"stroke: #383838; stroke-width: 1.5;\" width=\"42\" x=\"70\" y=\"359\"/><text fill=\"#000000\" font-family=\"sans-serif\" font-size=\"12\" font-style=\"italic\" lengthAdjust=\"spacingAndGlyphs\" textLength=\"40\" x=\"71\" y=\"375.1387\">«part»</text><text fill=\"#000000\" font-family=\"sans-serif\" font-size=\"12\" lengthAdjust=\"spacingAndGlyphs\" textLength=\"6\" x=\"88\" y=\"389.1074\">x</text><line style=\"stroke: #383838; stroke-width: 1.5;\" x1=\"71\" x2=\"111\" y1=\"396.9375\" y2=\"396.9375\"/></a><!--MD5=[ebbe1d658d1005bcc118a6aa81145e00]\n",
       "class E4--><a href=\"psysml:e84cebed-6405-49c5-b413-5d504fb47cee\" target=\"_top\" title=\"psysml:e84cebed-6405-49c5-b413-5d504fb47cee\" xlink:actuate=\"onRequest\" xlink:href=\"psysml:e84cebed-6405-49c5-b413-5d504fb47cee\" xlink:show=\"new\" xlink:title=\"psysml:e84cebed-6405-49c5-b413-5d504fb47cee\" xlink:type=\"simple\"><rect fill=\"#FFFFFF\" height=\"45.9375\" id=\"E4\" rx=\"10\" ry=\"10\" style=\"stroke: #383838; stroke-width: 1.5;\" width=\"42\" x=\"70\" y=\"465\"/><text fill=\"#000000\" font-family=\"sans-serif\" font-size=\"12\" font-style=\"italic\" lengthAdjust=\"spacingAndGlyphs\" textLength=\"40\" x=\"71\" y=\"481.1387\">«part»</text><text fill=\"#000000\" font-family=\"sans-serif\" font-size=\"12\" lengthAdjust=\"spacingAndGlyphs\" textLength=\"14\" x=\"84\" y=\"495.1074\">x1</text><line style=\"stroke: #383838; stroke-width: 1.5;\" x1=\"71\" x2=\"111\" y1=\"502.9375\" y2=\"502.9375\"/></a><!--MD5=[270fce915f116d4de14055a7c1d9a0f3]\n",
       "class E5--><a href=\"psysml:ba7b03ba-afee-4a2c-95ba-c440e322d2ee\" target=\"_top\" title=\"psysml:ba7b03ba-afee-4a2c-95ba-c440e322d2ee\" xlink:actuate=\"onRequest\" xlink:href=\"psysml:ba7b03ba-afee-4a2c-95ba-c440e322d2ee\" xlink:show=\"new\" xlink:title=\"psysml:ba7b03ba-afee-4a2c-95ba-c440e322d2ee\" xlink:type=\"simple\"><rect fill=\"#FFFFFF\" height=\"45.9375\" id=\"E5\" style=\"stroke: #383838; stroke-width: 1.5;\" width=\"66\" x=\"58\" y=\"41\"/><text fill=\"#000000\" font-family=\"sans-serif\" font-size=\"12\" font-style=\"italic\" lengthAdjust=\"spacingAndGlyphs\" textLength=\"64\" x=\"59\" y=\"57.1387\">«part def»</text><text fill=\"#000000\" font-family=\"sans-serif\" font-size=\"12\" lengthAdjust=\"spacingAndGlyphs\" textLength=\"8\" x=\"87\" y=\"71.1074\">P</text><line style=\"stroke: #383838; stroke-width: 1.5;\" x1=\"59\" x2=\"123\" y1=\"78.9375\" y2=\"78.9375\"/></a><!--MD5=[60a26617385b1d2d0262a64233df1f8d]\n",
       "class E6--><a href=\"psysml:6b502337-597a-4c17-979b-8872526dd5b6\" target=\"_top\" title=\"psysml:6b502337-597a-4c17-979b-8872526dd5b6\" xlink:actuate=\"onRequest\" xlink:href=\"psysml:6b502337-597a-4c17-979b-8872526dd5b6\" xlink:show=\"new\" xlink:title=\"psysml:6b502337-597a-4c17-979b-8872526dd5b6\" xlink:type=\"simple\"><rect fill=\"#FFFFFF\" height=\"45.9375\" id=\"E6\" rx=\"10\" ry=\"10\" style=\"stroke: #383838; stroke-width: 1.5;\" width=\"42\" x=\"32\" y=\"147\"/><text fill=\"#000000\" font-family=\"sans-serif\" font-size=\"12\" font-style=\"italic\" lengthAdjust=\"spacingAndGlyphs\" textLength=\"40\" x=\"33\" y=\"163.1387\">«part»</text><text fill=\"#000000\" font-family=\"sans-serif\" font-size=\"12\" lengthAdjust=\"spacingAndGlyphs\" textLength=\"6\" x=\"50\" y=\"177.1074\">y</text><line style=\"stroke: #383838; stroke-width: 1.5;\" x1=\"33\" x2=\"73\" y1=\"184.9375\" y2=\"184.9375\"/></a><!--MD5=[2156ba9850f5573cc1fc38a6a4b2f02b]\n",
       "class E7--><a href=\"psysml:c0882630-04b8-4e6c-a043-bd39b4f2710a\" target=\"_top\" title=\"psysml:c0882630-04b8-4e6c-a043-bd39b4f2710a\" xlink:actuate=\"onRequest\" xlink:href=\"psysml:c0882630-04b8-4e6c-a043-bd39b4f2710a\" xlink:show=\"new\" xlink:title=\"psysml:c0882630-04b8-4e6c-a043-bd39b4f2710a\" xlink:type=\"simple\"><rect fill=\"#FFFFFF\" height=\"45.9375\" id=\"E7\" rx=\"10\" ry=\"10\" style=\"stroke: #383838; stroke-width: 1.5;\" width=\"42\" x=\"109\" y=\"147\"/><text fill=\"#000000\" font-family=\"sans-serif\" font-size=\"12\" font-style=\"italic\" lengthAdjust=\"spacingAndGlyphs\" textLength=\"40\" x=\"110\" y=\"163.1387\">«part»</text><text fill=\"#000000\" font-family=\"sans-serif\" font-size=\"12\" lengthAdjust=\"spacingAndGlyphs\" textLength=\"16\" x=\"122\" y=\"177.1074\">p1</text><line style=\"stroke: #383838; stroke-width: 1.5;\" x1=\"110\" x2=\"150\" y1=\"184.9375\" y2=\"184.9375\"/></a><!--MD5=[209b3feb70ccb6233bfe1053d122c12c]\n",
       "reverse link E2 to E3--><a href=\"psysml:d551e406-73fb-4a91-a080-fc440127a640\" target=\"_top\" title=\"psysml:d551e406-73fb-4a91-a080-fc440127a640\" xlink:actuate=\"onRequest\" xlink:href=\"psysml:d551e406-73fb-4a91-a080-fc440127a640\" xlink:show=\"new\" xlink:title=\"psysml:d551e406-73fb-4a91-a080-fc440127a640\" xlink:type=\"simple\"><path d=\"M91,312.44 C91,327.87 91,345.47 91,358.98 \" fill=\"none\" id=\"E2&lt;-E3\" style=\"stroke: #383838; stroke-width: 1.0;\"/><polygon fill=\"#383838\" points=\"91,299.06,87,305.06,91,311.06,95,305.06,91,299.06\" style=\"stroke: #383838; stroke-width: 1.0;\"/></a><!--MD5=[4672eba38e49728da53d11aeb285b987]\n",
       "reverse link E3 to E4--><a href=\"psysml:0c62ef63-43f3-4799-a069-927499b27fb4\" target=\"_top\" title=\"psysml:0c62ef63-43f3-4799-a069-927499b27fb4\" xlink:actuate=\"onRequest\" xlink:href=\"psysml:0c62ef63-43f3-4799-a069-927499b27fb4\" xlink:show=\"new\" xlink:title=\"psysml:0c62ef63-43f3-4799-a069-927499b27fb4\" xlink:type=\"simple\"><path d=\"M91,418.44 C91,433.87 91,451.47 91,464.98 \" fill=\"none\" id=\"E3&lt;-E4\" style=\"stroke: #383838; stroke-width: 1.0;\"/><polygon fill=\"#383838\" points=\"91,405.06,87,411.06,91,417.06,95,411.06,91,405.06\" style=\"stroke: #383838; stroke-width: 1.0;\"/></a><!--MD5=[85d356282659285ab4b2cfe2f634dd2b]\n",
       "reverse link E5 to E6--><a href=\"psysml:bccb9dd4-409f-48ce-8915-27f20628680f\" target=\"_top\" title=\"psysml:bccb9dd4-409f-48ce-8915-27f20628680f\" xlink:actuate=\"onRequest\" xlink:href=\"psysml:bccb9dd4-409f-48ce-8915-27f20628680f\" xlink:show=\"new\" xlink:title=\"psysml:bccb9dd4-409f-48ce-8915-27f20628680f\" xlink:type=\"simple\"><path d=\"M78.4,99.49 C72.68,115.15 66.08,133.19 61.05,146.98 \" fill=\"none\" id=\"E5&lt;-E6\" style=\"stroke: #383838; stroke-width: 1.0;\"/><polygon fill=\"#383838\" points=\"82.94,87.06,77.1196,91.317,78.8105,98.3271,84.6309,94.07,82.94,87.06\" style=\"stroke: #383838; stroke-width: 1.0;\"/></a><!--MD5=[2351f337d6de0f557b50152ba70847b5]\n",
       "link E6 to E2--><a href=\"psysml:3c2ac290-8ac1-4000-af3e-5bcf9ecf7966\" target=\"_top\" title=\"psysml:3c2ac290-8ac1-4000-af3e-5bcf9ecf7966\" xlink:actuate=\"onRequest\" xlink:href=\"psysml:3c2ac290-8ac1-4000-af3e-5bcf9ecf7966\" xlink:show=\"new\" xlink:title=\"psysml:3c2ac290-8ac1-4000-af3e-5bcf9ecf7966\" xlink:type=\"simple\"><path d=\"M61.06,193.06 C67.51,210.7 76.51,235.34 82.95,252.98 \" fill=\"none\" id=\"E6-E2\" style=\"stroke: #383838; stroke-width: 3.0;\"/></a><!--MD5=[452b418e7f8a40397a49b8c0a78acc5b]\n",
       "reverse link E5 to E7--><a href=\"psysml:97bf4e08-a4b3-492a-87d8-6adc842be5d3\" target=\"_top\" title=\"psysml:97bf4e08-a4b3-492a-87d8-6adc842be5d3\" xlink:actuate=\"onRequest\" xlink:href=\"psysml:97bf4e08-a4b3-492a-87d8-6adc842be5d3\" xlink:show=\"new\" xlink:title=\"psysml:97bf4e08-a4b3-492a-87d8-6adc842be5d3\" xlink:type=\"simple\"><path d=\"M103.94,99.49 C109.8,115.15 116.57,133.19 121.74,146.98 \" fill=\"none\" id=\"E5&lt;-E7\" style=\"stroke: #383838; stroke-width: 1.0;\"/><polygon fill=\"#383838\" points=\"99.27,87.06,97.635,94.0833,103.4893,98.2938,105.1242,91.2705,99.27,87.06\" style=\"stroke: #383838; stroke-width: 1.0;\"/></a><!--MD5=[583832df87f4419a098336a29a52fa00]\n",
       "link E7 to E2--><a href=\"psysml:6815ba90-0374-438b-ad93-53c34ddf71b8\" target=\"_top\" title=\"psysml:6815ba90-0374-438b-ad93-53c34ddf71b8\" xlink:actuate=\"onRequest\" xlink:href=\"psysml:6815ba90-0374-438b-ad93-53c34ddf71b8\" xlink:show=\"new\" xlink:title=\"psysml:6815ba90-0374-438b-ad93-53c34ddf71b8\" xlink:type=\"simple\"><path d=\"M121.73,193.06 C117.28,204.91 111.65,219.92 106.43,233.85 \" fill=\"none\" id=\"E7-&gt;E2\" style=\"stroke: #383838; stroke-width: 1.0;\"/><polygon fill=\"none\" points=\"112.84,236.71,99.26,252.98,99.73,231.79,112.84,236.71\" style=\"stroke: #383838; stroke-width: 1.0;\"/></a><!--MD5=[b5775b8ab0d24dde4de3019209ef5817]\n",
       "@startuml\r\n",
       " skinparam monochrome true\r\n",
       "skinparam classbackgroundcolor white\r\n",
       "skinparam shadowing false\r\n",
       "skinparam wrapWidth 300\r\n",
       "hide circle\r\n",
       "\r\n",
       "package \"ConnectionTest\" as E1  [[psysml:22aef044-e637-4155-a6c9-7ceaf878199d ]]  {\r\n",
       "comp usage \"p\" as E2  <<(T,blue) part>> [[psysml:4372fe5d-a54c-4736-ace6-05c35a4b2fd0 ]] {\r\n",
       "}\r\n",
       "comp usage \"x\" as E3  <<(T,blue) part>> [[psysml:3f2b8857-d9ea-41c6-bb7a-db05d1986c1a ]] {\r\n",
       "}\r\n",
       "comp usage \"x1\" as E4  <<(T,blue) part>> [[psysml:e84cebed-6405-49c5-b413-5d504fb47cee ]] {\r\n",
       "}\r\n",
       "comp def \"P\" as E5  <<(T,blue) part def>> [[psysml:ba7b03ba-afee-4a2c-95ba-c440e322d2ee ]] {\r\n",
       "}\r\n",
       "comp usage \"y\" as E6  <<(T,blue) part>> [[psysml:6b502337-597a-4c17-979b-8872526dd5b6 ]] {\r\n",
       "}\r\n",
       "comp usage \"p1\" as E7  <<(T,blue) part>> [[psysml:c0882630-04b8-4e6c-a043-bd39b4f2710a ]] {\r\n",
       "}\r\n",
       "E2 *- - E3 [[psysml:d551e406-73fb-4a91-a080-fc440127a640 ]] \r\n",
       "E3 *- - E4 [[psysml:0c62ef63-43f3-4799-a069-927499b27fb4 ]] \r\n",
       "E5 *- - E6 [[psysml:bccb9dd4-409f-48ce-8915-27f20628680f ]] \r\n",
       "E6 -[thickness=3]- E2 [[psysml:3c2ac290-8ac1-4000-af3e-5bcf9ecf7966 ]] \r\n",
       "E5 *- - E7 [[psysml:97bf4e08-a4b3-492a-87d8-6adc842be5d3 ]] \r\n",
       "E7 - -|> E2 [[psysml:6815ba90-0374-438b-ad93-53c34ddf71b8 ]] \r\n",
       "}\r\n",
       "@enduml\r\n",
       "\n",
       "PlantUML version 1.2020.13(Sat Jun 13 12:26:38 UTC 2020)\n",
       "(EPL source distribution)\n",
       "Java Runtime: OpenJDK Runtime Environment\n",
       "JVM: OpenJDK 64-Bit Server VM\n",
       "Default Encoding: UTF-8\n",
       "Language: en\n",
       "Country: null\n",
       "--></g></svg>"
      ]
     },
     "execution_count": 2,
     "metadata": {},
     "output_type": "execute_result"
    }
   ],
   "source": [
    "%viz --style=\"COMPTREE\" --view=\"Default\" \"ConnectionTest\""
   ]
  },
  {
   "cell_type": "code",
   "execution_count": 3,
   "id": "a601dbdf",
   "metadata": {
    "execution": {
     "iopub.execute_input": "2021-06-30T09:21:32.692523Z",
     "iopub.status.busy": "2021-06-30T09:21:32.691271Z",
     "iopub.status.idle": "2021-06-30T09:21:32.798284Z",
     "shell.execute_reply": "2021-06-30T09:21:32.797049Z"
    }
   },
   "outputs": [
    {
     "data": {
      "image/svg+xml": [
       "<?xml version=\"1.0\" encoding=\"UTF-8\" standalone=\"no\"?><svg xmlns=\"http://www.w3.org/2000/svg\" xmlns:xlink=\"http://www.w3.org/1999/xlink\" contentScriptType=\"application/ecmascript\" contentStyleType=\"text/css\" height=\"539px\" preserveAspectRatio=\"none\" style=\"width:189px;height:539px;\" version=\"1.1\" viewBox=\"0 0 189 539\" width=\"189px\" zoomAndPan=\"magnify\"><defs/><g><!--MD5=[fbc87193dbaf4d95561dea2c320d4a47]\n",
       "cluster E1--><a href=\"psysml:22aef044-e637-4155-a6c9-7ceaf878199d\" target=\"_top\" title=\"psysml:22aef044-e637-4155-a6c9-7ceaf878199d\" xlink:actuate=\"onRequest\" xlink:href=\"psysml:22aef044-e637-4155-a6c9-7ceaf878199d\" xlink:show=\"new\" xlink:title=\"psysml:22aef044-e637-4155-a6c9-7ceaf878199d\" xlink:type=\"simple\"><polygon fill=\"#FFFFFF\" points=\"16,6,147,6,154,28.2969,167,28.2969,167,527,16,527,16,6\" style=\"stroke: #000000; stroke-width: 1.5;\"/><line style=\"stroke: #000000; stroke-width: 1.5;\" x1=\"16\" x2=\"154\" y1=\"28.2969\" y2=\"28.2969\"/><text fill=\"#000000\" font-family=\"sans-serif\" font-size=\"14\" font-weight=\"bold\" lengthAdjust=\"spacingAndGlyphs\" textLength=\"125\" x=\"20\" y=\"20.9951\">ConnectionTest</text></a><!--MD5=[b4997ac47864f28c2f74865a473b2911]\n",
       "class E2--><a href=\"psysml:4372fe5d-a54c-4736-ace6-05c35a4b2fd0\" target=\"_top\" title=\"psysml:4372fe5d-a54c-4736-ace6-05c35a4b2fd0\" xlink:actuate=\"onRequest\" xlink:href=\"psysml:4372fe5d-a54c-4736-ace6-05c35a4b2fd0\" xlink:show=\"new\" xlink:title=\"psysml:4372fe5d-a54c-4736-ace6-05c35a4b2fd0\" xlink:type=\"simple\"><rect fill=\"#FFFFFF\" height=\"45.9375\" id=\"E2\" rx=\"10\" ry=\"10\" style=\"stroke: #383838; stroke-width: 1.5;\" width=\"42\" x=\"70\" y=\"253\"/><text fill=\"#000000\" font-family=\"sans-serif\" font-size=\"12\" font-style=\"italic\" lengthAdjust=\"spacingAndGlyphs\" textLength=\"40\" x=\"71\" y=\"269.1387\">«part»</text><text fill=\"#000000\" font-family=\"sans-serif\" font-size=\"12\" lengthAdjust=\"spacingAndGlyphs\" textLength=\"8\" x=\"87\" y=\"283.1074\">p</text><line style=\"stroke: #383838; stroke-width: 1.5;\" x1=\"71\" x2=\"111\" y1=\"290.9375\" y2=\"290.9375\"/></a><!--MD5=[09b614a08d8cba4a07c9adeb5e0fee81]\n",
       "class E3--><a href=\"psysml:3f2b8857-d9ea-41c6-bb7a-db05d1986c1a\" target=\"_top\" title=\"psysml:3f2b8857-d9ea-41c6-bb7a-db05d1986c1a\" xlink:actuate=\"onRequest\" xlink:href=\"psysml:3f2b8857-d9ea-41c6-bb7a-db05d1986c1a\" xlink:show=\"new\" xlink:title=\"psysml:3f2b8857-d9ea-41c6-bb7a-db05d1986c1a\" xlink:type=\"simple\"><rect fill=\"#FFFFFF\" height=\"45.9375\" id=\"E3\" rx=\"10\" ry=\"10\" style=\"stroke: #383838; stroke-width: 1.5;\" width=\"42\" x=\"70\" y=\"359\"/><text fill=\"#000000\" font-family=\"sans-serif\" font-size=\"12\" font-style=\"italic\" lengthAdjust=\"spacingAndGlyphs\" textLength=\"40\" x=\"71\" y=\"375.1387\">«part»</text><text fill=\"#000000\" font-family=\"sans-serif\" font-size=\"12\" lengthAdjust=\"spacingAndGlyphs\" textLength=\"6\" x=\"88\" y=\"389.1074\">x</text><line style=\"stroke: #383838; stroke-width: 1.5;\" x1=\"71\" x2=\"111\" y1=\"396.9375\" y2=\"396.9375\"/></a><!--MD5=[ebbe1d658d1005bcc118a6aa81145e00]\n",
       "class E4--><a href=\"psysml:e84cebed-6405-49c5-b413-5d504fb47cee\" target=\"_top\" title=\"psysml:e84cebed-6405-49c5-b413-5d504fb47cee\" xlink:actuate=\"onRequest\" xlink:href=\"psysml:e84cebed-6405-49c5-b413-5d504fb47cee\" xlink:show=\"new\" xlink:title=\"psysml:e84cebed-6405-49c5-b413-5d504fb47cee\" xlink:type=\"simple\"><rect fill=\"#FFFFFF\" height=\"45.9375\" id=\"E4\" rx=\"10\" ry=\"10\" style=\"stroke: #383838; stroke-width: 1.5;\" width=\"42\" x=\"70\" y=\"465\"/><text fill=\"#000000\" font-family=\"sans-serif\" font-size=\"12\" font-style=\"italic\" lengthAdjust=\"spacingAndGlyphs\" textLength=\"40\" x=\"71\" y=\"481.1387\">«part»</text><text fill=\"#000000\" font-family=\"sans-serif\" font-size=\"12\" lengthAdjust=\"spacingAndGlyphs\" textLength=\"14\" x=\"84\" y=\"495.1074\">x1</text><line style=\"stroke: #383838; stroke-width: 1.5;\" x1=\"71\" x2=\"111\" y1=\"502.9375\" y2=\"502.9375\"/></a><!--MD5=[270fce915f116d4de14055a7c1d9a0f3]\n",
       "class E5--><a href=\"psysml:ba7b03ba-afee-4a2c-95ba-c440e322d2ee\" target=\"_top\" title=\"psysml:ba7b03ba-afee-4a2c-95ba-c440e322d2ee\" xlink:actuate=\"onRequest\" xlink:href=\"psysml:ba7b03ba-afee-4a2c-95ba-c440e322d2ee\" xlink:show=\"new\" xlink:title=\"psysml:ba7b03ba-afee-4a2c-95ba-c440e322d2ee\" xlink:type=\"simple\"><rect fill=\"#FFFFFF\" height=\"45.9375\" id=\"E5\" style=\"stroke: #383838; stroke-width: 1.5;\" width=\"66\" x=\"58\" y=\"41\"/><text fill=\"#000000\" font-family=\"sans-serif\" font-size=\"12\" font-style=\"italic\" lengthAdjust=\"spacingAndGlyphs\" textLength=\"64\" x=\"59\" y=\"57.1387\">«part def»</text><text fill=\"#000000\" font-family=\"sans-serif\" font-size=\"12\" lengthAdjust=\"spacingAndGlyphs\" textLength=\"8\" x=\"87\" y=\"71.1074\">P</text><line style=\"stroke: #383838; stroke-width: 1.5;\" x1=\"59\" x2=\"123\" y1=\"78.9375\" y2=\"78.9375\"/></a><!--MD5=[60a26617385b1d2d0262a64233df1f8d]\n",
       "class E6--><a href=\"psysml:6b502337-597a-4c17-979b-8872526dd5b6\" target=\"_top\" title=\"psysml:6b502337-597a-4c17-979b-8872526dd5b6\" xlink:actuate=\"onRequest\" xlink:href=\"psysml:6b502337-597a-4c17-979b-8872526dd5b6\" xlink:show=\"new\" xlink:title=\"psysml:6b502337-597a-4c17-979b-8872526dd5b6\" xlink:type=\"simple\"><rect fill=\"#FFFFFF\" height=\"45.9375\" id=\"E6\" rx=\"10\" ry=\"10\" style=\"stroke: #383838; stroke-width: 1.5;\" width=\"42\" x=\"32\" y=\"147\"/><text fill=\"#000000\" font-family=\"sans-serif\" font-size=\"12\" font-style=\"italic\" lengthAdjust=\"spacingAndGlyphs\" textLength=\"40\" x=\"33\" y=\"163.1387\">«part»</text><text fill=\"#000000\" font-family=\"sans-serif\" font-size=\"12\" lengthAdjust=\"spacingAndGlyphs\" textLength=\"6\" x=\"50\" y=\"177.1074\">y</text><line style=\"stroke: #383838; stroke-width: 1.5;\" x1=\"33\" x2=\"73\" y1=\"184.9375\" y2=\"184.9375\"/></a><!--MD5=[2156ba9850f5573cc1fc38a6a4b2f02b]\n",
       "class E7--><a href=\"psysml:c0882630-04b8-4e6c-a043-bd39b4f2710a\" target=\"_top\" title=\"psysml:c0882630-04b8-4e6c-a043-bd39b4f2710a\" xlink:actuate=\"onRequest\" xlink:href=\"psysml:c0882630-04b8-4e6c-a043-bd39b4f2710a\" xlink:show=\"new\" xlink:title=\"psysml:c0882630-04b8-4e6c-a043-bd39b4f2710a\" xlink:type=\"simple\"><rect fill=\"#FFFFFF\" height=\"45.9375\" id=\"E7\" rx=\"10\" ry=\"10\" style=\"stroke: #383838; stroke-width: 1.5;\" width=\"42\" x=\"109\" y=\"147\"/><text fill=\"#000000\" font-family=\"sans-serif\" font-size=\"12\" font-style=\"italic\" lengthAdjust=\"spacingAndGlyphs\" textLength=\"40\" x=\"110\" y=\"163.1387\">«part»</text><text fill=\"#000000\" font-family=\"sans-serif\" font-size=\"12\" lengthAdjust=\"spacingAndGlyphs\" textLength=\"16\" x=\"122\" y=\"177.1074\">p1</text><line style=\"stroke: #383838; stroke-width: 1.5;\" x1=\"110\" x2=\"150\" y1=\"184.9375\" y2=\"184.9375\"/></a><!--MD5=[209b3feb70ccb6233bfe1053d122c12c]\n",
       "reverse link E2 to E3--><a href=\"psysml:d551e406-73fb-4a91-a080-fc440127a640\" target=\"_top\" title=\"psysml:d551e406-73fb-4a91-a080-fc440127a640\" xlink:actuate=\"onRequest\" xlink:href=\"psysml:d551e406-73fb-4a91-a080-fc440127a640\" xlink:show=\"new\" xlink:title=\"psysml:d551e406-73fb-4a91-a080-fc440127a640\" xlink:type=\"simple\"><path d=\"M91,312.44 C91,327.87 91,345.47 91,358.98 \" fill=\"none\" id=\"E2&lt;-E3\" style=\"stroke: #383838; stroke-width: 1.0;\"/><polygon fill=\"#383838\" points=\"91,299.06,87,305.06,91,311.06,95,305.06,91,299.06\" style=\"stroke: #383838; stroke-width: 1.0;\"/></a><!--MD5=[4672eba38e49728da53d11aeb285b987]\n",
       "reverse link E3 to E4--><a href=\"psysml:0c62ef63-43f3-4799-a069-927499b27fb4\" target=\"_top\" title=\"psysml:0c62ef63-43f3-4799-a069-927499b27fb4\" xlink:actuate=\"onRequest\" xlink:href=\"psysml:0c62ef63-43f3-4799-a069-927499b27fb4\" xlink:show=\"new\" xlink:title=\"psysml:0c62ef63-43f3-4799-a069-927499b27fb4\" xlink:type=\"simple\"><path d=\"M91,418.44 C91,433.87 91,451.47 91,464.98 \" fill=\"none\" id=\"E3&lt;-E4\" style=\"stroke: #383838; stroke-width: 1.0;\"/><polygon fill=\"#383838\" points=\"91,405.06,87,411.06,91,417.06,95,411.06,91,405.06\" style=\"stroke: #383838; stroke-width: 1.0;\"/></a><!--MD5=[85d356282659285ab4b2cfe2f634dd2b]\n",
       "reverse link E5 to E6--><a href=\"psysml:bccb9dd4-409f-48ce-8915-27f20628680f\" target=\"_top\" title=\"psysml:bccb9dd4-409f-48ce-8915-27f20628680f\" xlink:actuate=\"onRequest\" xlink:href=\"psysml:bccb9dd4-409f-48ce-8915-27f20628680f\" xlink:show=\"new\" xlink:title=\"psysml:bccb9dd4-409f-48ce-8915-27f20628680f\" xlink:type=\"simple\"><path d=\"M78.4,99.49 C72.68,115.15 66.08,133.19 61.05,146.98 \" fill=\"none\" id=\"E5&lt;-E6\" style=\"stroke: #383838; stroke-width: 1.0;\"/><polygon fill=\"#383838\" points=\"82.94,87.06,77.1196,91.317,78.8105,98.3271,84.6309,94.07,82.94,87.06\" style=\"stroke: #383838; stroke-width: 1.0;\"/></a><!--MD5=[2351f337d6de0f557b50152ba70847b5]\n",
       "link E6 to E2--><a href=\"psysml:3c2ac290-8ac1-4000-af3e-5bcf9ecf7966\" target=\"_top\" title=\"psysml:3c2ac290-8ac1-4000-af3e-5bcf9ecf7966\" xlink:actuate=\"onRequest\" xlink:href=\"psysml:3c2ac290-8ac1-4000-af3e-5bcf9ecf7966\" xlink:show=\"new\" xlink:title=\"psysml:3c2ac290-8ac1-4000-af3e-5bcf9ecf7966\" xlink:type=\"simple\"><path d=\"M61.06,193.06 C67.51,210.7 76.51,235.34 82.95,252.98 \" fill=\"none\" id=\"E6-E2\" style=\"stroke: #383838; stroke-width: 3.0;\"/></a><!--MD5=[452b418e7f8a40397a49b8c0a78acc5b]\n",
       "reverse link E5 to E7--><a href=\"psysml:97bf4e08-a4b3-492a-87d8-6adc842be5d3\" target=\"_top\" title=\"psysml:97bf4e08-a4b3-492a-87d8-6adc842be5d3\" xlink:actuate=\"onRequest\" xlink:href=\"psysml:97bf4e08-a4b3-492a-87d8-6adc842be5d3\" xlink:show=\"new\" xlink:title=\"psysml:97bf4e08-a4b3-492a-87d8-6adc842be5d3\" xlink:type=\"simple\"><path d=\"M103.94,99.49 C109.8,115.15 116.57,133.19 121.74,146.98 \" fill=\"none\" id=\"E5&lt;-E7\" style=\"stroke: #383838; stroke-width: 1.0;\"/><polygon fill=\"#383838\" points=\"99.27,87.06,97.635,94.0833,103.4893,98.2938,105.1242,91.2705,99.27,87.06\" style=\"stroke: #383838; stroke-width: 1.0;\"/></a><!--MD5=[583832df87f4419a098336a29a52fa00]\n",
       "link E7 to E2--><a href=\"psysml:6815ba90-0374-438b-ad93-53c34ddf71b8\" target=\"_top\" title=\"psysml:6815ba90-0374-438b-ad93-53c34ddf71b8\" xlink:actuate=\"onRequest\" xlink:href=\"psysml:6815ba90-0374-438b-ad93-53c34ddf71b8\" xlink:show=\"new\" xlink:title=\"psysml:6815ba90-0374-438b-ad93-53c34ddf71b8\" xlink:type=\"simple\"><path d=\"M121.73,193.06 C117.28,204.91 111.65,219.92 106.43,233.85 \" fill=\"none\" id=\"E7-&gt;E2\" style=\"stroke: #383838; stroke-width: 1.0;\"/><polygon fill=\"none\" points=\"112.84,236.71,99.26,252.98,99.73,231.79,112.84,236.71\" style=\"stroke: #383838; stroke-width: 1.0;\"/></a><!--MD5=[b5775b8ab0d24dde4de3019209ef5817]\n",
       "@startuml\r\n",
       " skinparam monochrome true\r\n",
       "skinparam classbackgroundcolor white\r\n",
       "skinparam shadowing false\r\n",
       "skinparam wrapWidth 300\r\n",
       "hide circle\r\n",
       "\r\n",
       "package \"ConnectionTest\" as E1  [[psysml:22aef044-e637-4155-a6c9-7ceaf878199d ]]  {\r\n",
       "comp usage \"p\" as E2  <<(T,blue) part>> [[psysml:4372fe5d-a54c-4736-ace6-05c35a4b2fd0 ]] {\r\n",
       "}\r\n",
       "comp usage \"x\" as E3  <<(T,blue) part>> [[psysml:3f2b8857-d9ea-41c6-bb7a-db05d1986c1a ]] {\r\n",
       "}\r\n",
       "comp usage \"x1\" as E4  <<(T,blue) part>> [[psysml:e84cebed-6405-49c5-b413-5d504fb47cee ]] {\r\n",
       "}\r\n",
       "comp def \"P\" as E5  <<(T,blue) part def>> [[psysml:ba7b03ba-afee-4a2c-95ba-c440e322d2ee ]] {\r\n",
       "}\r\n",
       "comp usage \"y\" as E6  <<(T,blue) part>> [[psysml:6b502337-597a-4c17-979b-8872526dd5b6 ]] {\r\n",
       "}\r\n",
       "comp usage \"p1\" as E7  <<(T,blue) part>> [[psysml:c0882630-04b8-4e6c-a043-bd39b4f2710a ]] {\r\n",
       "}\r\n",
       "E2 *- - E3 [[psysml:d551e406-73fb-4a91-a080-fc440127a640 ]] \r\n",
       "E3 *- - E4 [[psysml:0c62ef63-43f3-4799-a069-927499b27fb4 ]] \r\n",
       "E5 *- - E6 [[psysml:bccb9dd4-409f-48ce-8915-27f20628680f ]] \r\n",
       "E6 -[thickness=3]- E2 [[psysml:3c2ac290-8ac1-4000-af3e-5bcf9ecf7966 ]] \r\n",
       "E5 *- - E7 [[psysml:97bf4e08-a4b3-492a-87d8-6adc842be5d3 ]] \r\n",
       "E7 - -|> E2 [[psysml:6815ba90-0374-438b-ad93-53c34ddf71b8 ]] \r\n",
       "}\r\n",
       "@enduml\r\n",
       "\n",
       "PlantUML version 1.2020.13(Sat Jun 13 12:26:38 UTC 2020)\n",
       "(EPL source distribution)\n",
       "Java Runtime: OpenJDK Runtime Environment\n",
       "JVM: OpenJDK 64-Bit Server VM\n",
       "Default Encoding: UTF-8\n",
       "Language: en\n",
       "Country: null\n",
       "--></g></svg>"
      ]
     },
     "execution_count": 3,
     "metadata": {},
     "output_type": "execute_result"
    }
   ],
   "source": [
    "%viz --style=\"COMPTREE\" --view=\"Tree\" \"ConnectionTest\""
   ]
  },
  {
   "cell_type": "code",
   "execution_count": 4,
   "id": "6b063e4a",
   "metadata": {
    "execution": {
     "iopub.execute_input": "2021-06-30T09:21:32.850692Z",
     "iopub.status.busy": "2021-06-30T09:21:32.849851Z",
     "iopub.status.idle": "2021-06-30T09:21:32.867310Z",
     "shell.execute_reply": "2021-06-30T09:21:32.866454Z"
    }
   },
   "outputs": [
    {
     "data": {
      "image/svg+xml": [
       "<?xml version=\"1.0\" encoding=\"UTF-8\" standalone=\"no\"?><svg xmlns=\"http://www.w3.org/2000/svg\" xmlns:xlink=\"http://www.w3.org/1999/xlink\" contentScriptType=\"application/ecmascript\" contentStyleType=\"text/css\" height=\"12px\" preserveAspectRatio=\"none\" style=\"width:12px;height:12px;\" version=\"1.1\" viewBox=\"0 0 12 12\" width=\"12px\" zoomAndPan=\"magnify\"><defs/><g><!--MD5=[f19188ef49e11757b5c46753f95d9edc]\n",
       "@startuml\r\n",
       " skinparam monochrome true\r\n",
       "skinparam classbackgroundcolor white\r\n",
       "skinparam shadowing false\r\n",
       "skinparam wrapWidth 300\r\n",
       "hide circle\r\n",
       "\r\n",
       "@enduml\r\n",
       "\n",
       "PlantUML version 1.2020.13(Sat Jun 13 12:26:38 UTC 2020)\n",
       "(EPL source distribution)\n",
       "Java Runtime: OpenJDK Runtime Environment\n",
       "JVM: OpenJDK 64-Bit Server VM\n",
       "Default Encoding: UTF-8\n",
       "Language: en\n",
       "Country: null\n",
       "--></g></svg>"
      ]
     },
     "execution_count": 4,
     "metadata": {},
     "output_type": "execute_result"
    }
   ],
   "source": [
    "%viz --style=\"COMPTREE\" --view=\"State\" \"ConnectionTest\""
   ]
  },
  {
   "cell_type": "code",
   "execution_count": 5,
   "id": "ab4144f6",
   "metadata": {
    "execution": {
     "iopub.execute_input": "2021-06-30T09:21:32.921916Z",
     "iopub.status.busy": "2021-06-30T09:21:32.920465Z",
     "iopub.status.idle": "2021-06-30T09:21:33.031894Z",
     "shell.execute_reply": "2021-06-30T09:21:33.030082Z"
    }
   },
   "outputs": [
    {
     "data": {
      "image/svg+xml": [
       "<?xml version=\"1.0\" encoding=\"UTF-8\" standalone=\"no\"?><svg xmlns=\"http://www.w3.org/2000/svg\" xmlns:xlink=\"http://www.w3.org/1999/xlink\" contentScriptType=\"application/ecmascript\" contentStyleType=\"text/css\" height=\"406px\" preserveAspectRatio=\"none\" style=\"width:509px;height:406px;\" version=\"1.1\" viewBox=\"0 0 509 406\" width=\"509px\" zoomAndPan=\"magnify\"><defs/><g><!--MD5=[fbc87193dbaf4d95561dea2c320d4a47]\n",
       "cluster E1--><a href=\"psysml:22aef044-e637-4155-a6c9-7ceaf878199d\" target=\"_top\" title=\"psysml:22aef044-e637-4155-a6c9-7ceaf878199d\" xlink:actuate=\"onRequest\" xlink:href=\"psysml:22aef044-e637-4155-a6c9-7ceaf878199d\" xlink:show=\"new\" xlink:title=\"psysml:22aef044-e637-4155-a6c9-7ceaf878199d\" xlink:type=\"simple\"><polygon fill=\"#FFFFFF\" points=\"16,6,147,6,154,28.2969,487,28.2969,487,394,16,394,16,6\" style=\"stroke: #000000; stroke-width: 1.5;\"/><line style=\"stroke: #000000; stroke-width: 1.5;\" x1=\"16\" x2=\"154\" y1=\"28.2969\" y2=\"28.2969\"/><text fill=\"#000000\" font-family=\"sans-serif\" font-size=\"14\" font-weight=\"bold\" lengthAdjust=\"spacingAndGlyphs\" textLength=\"125\" x=\"20\" y=\"20.9951\">ConnectionTest</text></a><!--MD5=[e4f7fae6ed58524ba242bb0b0d3be6b7]\n",
       "cluster E2--><a href=\"psysml:4372fe5d-a54c-4736-ace6-05c35a4b2fd0\" target=\"_top\" title=\"psysml:4372fe5d-a54c-4736-ace6-05c35a4b2fd0\" xlink:actuate=\"onRequest\" xlink:href=\"psysml:4372fe5d-a54c-4736-ace6-05c35a4b2fd0\" xlink:show=\"new\" xlink:title=\"psysml:4372fe5d-a54c-4736-ace6-05c35a4b2fd0\" xlink:type=\"simple\"><rect fill=\"#FFFFFF\" height=\"174\" id=\"E2\" rx=\"10\" ry=\"10\" style=\"stroke: #383838; stroke-width: 1.5;\" width=\"154\" x=\"301\" y=\"164\"/><rect fill=\"#F8F8F8\" height=\"23.9688\" rx=\"10\" ry=\"10\" style=\"stroke: #F8F8F8; stroke-width: 1.5;\" width=\"154\" x=\"301\" y=\"164\"/><rect fill=\"#F8F8F8\" height=\"10\" style=\"stroke: #F8F8F8; stroke-width: 1.5;\" width=\"154\" x=\"301\" y=\"177.9688\"/><rect fill=\"none\" height=\"174\" id=\"E2\" rx=\"10\" ry=\"10\" style=\"stroke: #383838; stroke-width: 1.5;\" width=\"154\" x=\"301\" y=\"164\"/><text fill=\"#000000\" font-family=\"sans-serif\" font-size=\"12\" lengthAdjust=\"spacingAndGlyphs\" textLength=\"8\" x=\"374\" y=\"180.1387\">p</text><line style=\"stroke: #383838; stroke-width: 1.0;\" x1=\"301\" x2=\"455\" y1=\"187.9688\" y2=\"187.9688\"/></a><!--MD5=[d5e69f78d87373223dbae638b30a9c99]\n",
       "cluster E3--><a href=\"psysml:3f2b8857-d9ea-41c6-bb7a-db05d1986c1a\" target=\"_top\" title=\"psysml:3f2b8857-d9ea-41c6-bb7a-db05d1986c1a\" xlink:actuate=\"onRequest\" xlink:href=\"psysml:3f2b8857-d9ea-41c6-bb7a-db05d1986c1a\" xlink:show=\"new\" xlink:title=\"psysml:3f2b8857-d9ea-41c6-bb7a-db05d1986c1a\" xlink:type=\"simple\"><rect fill=\"#FFFFFF\" height=\"91\" id=\"E3\" rx=\"10\" ry=\"10\" style=\"stroke: #383838; stroke-width: 1.5;\" width=\"82\" x=\"341\" y=\"215\"/><rect fill=\"#F8F8F8\" height=\"23.9688\" rx=\"10\" ry=\"10\" style=\"stroke: #F8F8F8; stroke-width: 1.5;\" width=\"82\" x=\"341\" y=\"215\"/><rect fill=\"#F8F8F8\" height=\"10\" style=\"stroke: #F8F8F8; stroke-width: 1.5;\" width=\"82\" x=\"341\" y=\"228.9688\"/><rect fill=\"none\" height=\"91\" id=\"E3\" rx=\"10\" ry=\"10\" style=\"stroke: #383838; stroke-width: 1.5;\" width=\"82\" x=\"341\" y=\"215\"/><text fill=\"#000000\" font-family=\"sans-serif\" font-size=\"12\" lengthAdjust=\"spacingAndGlyphs\" textLength=\"6\" x=\"379\" y=\"231.1387\">x</text><line style=\"stroke: #383838; stroke-width: 1.0;\" x1=\"341\" x2=\"423\" y1=\"238.9688\" y2=\"238.9688\"/></a><!--MD5=[de5ec2e2e8f62f467e546659f5068c88]\n",
       "cluster E5--><a href=\"psysml:ba7b03ba-afee-4a2c-95ba-c440e322d2ee\" target=\"_top\" title=\"psysml:ba7b03ba-afee-4a2c-95ba-c440e322d2ee\" xlink:actuate=\"onRequest\" xlink:href=\"psysml:ba7b03ba-afee-4a2c-95ba-c440e322d2ee\" xlink:show=\"new\" xlink:title=\"psysml:ba7b03ba-afee-4a2c-95ba-c440e322d2ee\" xlink:type=\"simple\"><rect fill=\"#FFFFFF\" height=\"321\" id=\"E5\" style=\"stroke: #383838; stroke-width: 1.5;\" width=\"229\" x=\"40\" y=\"49\"/><rect fill=\"#F8F8F8\" height=\"37.9375\" style=\"stroke: #383838; stroke-width: 1.5;\" width=\"229\" x=\"40\" y=\"49\"/><text fill=\"#000000\" font-family=\"sans-serif\" font-size=\"12\" font-style=\"italic\" lengthAdjust=\"spacingAndGlyphs\" textLength=\"64\" x=\"122.5\" y=\"65.1387\">«part def»</text><text fill=\"#000000\" font-family=\"sans-serif\" font-size=\"12\" lengthAdjust=\"spacingAndGlyphs\" textLength=\"8\" x=\"150.5\" y=\"79.1074\">P</text></a><!--MD5=[168fadf3d0c3fd93dd5d6da1b1d7ab76]\n",
       "cluster E7--><a href=\"psysml:c0882630-04b8-4e6c-a043-bd39b4f2710a\" target=\"_top\" title=\"psysml:c0882630-04b8-4e6c-a043-bd39b4f2710a\" xlink:actuate=\"onRequest\" xlink:href=\"psysml:c0882630-04b8-4e6c-a043-bd39b4f2710a\" xlink:show=\"new\" xlink:title=\"psysml:c0882630-04b8-4e6c-a043-bd39b4f2710a\" xlink:type=\"simple\"><rect fill=\"#FFFFFF\" height=\"190\" id=\"E7\" rx=\"10\" ry=\"10\" style=\"stroke: #383838; stroke-width: 1.5;\" width=\"181\" x=\"64\" y=\"156\"/><rect fill=\"#F8F8F8\" height=\"23.9688\" rx=\"10\" ry=\"10\" style=\"stroke: #F8F8F8; stroke-width: 1.5;\" width=\"181\" x=\"64\" y=\"156\"/><rect fill=\"#F8F8F8\" height=\"10\" style=\"stroke: #F8F8F8; stroke-width: 1.5;\" width=\"181\" x=\"64\" y=\"169.9688\"/><rect fill=\"none\" height=\"190\" id=\"E7\" rx=\"10\" ry=\"10\" style=\"stroke: #383838; stroke-width: 1.5;\" width=\"181\" x=\"64\" y=\"156\"/><text fill=\"#000000\" font-family=\"sans-serif\" font-size=\"12\" lengthAdjust=\"spacingAndGlyphs\" textLength=\"16\" x=\"146.5\" y=\"172.1387\">p1</text><line style=\"stroke: #383838; stroke-width: 1.0;\" x1=\"64\" x2=\"245\" y1=\"179.9688\" y2=\"179.9688\"/></a><!--MD5=[55dfccfc6c49c2d10cd1bd2211a6c90c]\n",
       "cluster E8--><a href=\"psysml:3f2b8857-d9ea-41c6-bb7a-db05d1986c1a\" target=\"_top\" title=\"psysml:3f2b8857-d9ea-41c6-bb7a-db05d1986c1a\" xlink:actuate=\"onRequest\" xlink:href=\"psysml:3f2b8857-d9ea-41c6-bb7a-db05d1986c1a\" xlink:show=\"new\" xlink:title=\"psysml:3f2b8857-d9ea-41c6-bb7a-db05d1986c1a\" xlink:type=\"simple\"><rect fill=\"#FFFFFF\" height=\"107\" id=\"E8\" rx=\"10\" ry=\"10\" style=\"stroke: #383838; stroke-width: 1.5;\" width=\"117\" x=\"96\" y=\"207\"/><rect fill=\"#F8F8F8\" height=\"23.9688\" rx=\"10\" ry=\"10\" style=\"stroke: #F8F8F8; stroke-width: 1.5;\" width=\"117\" x=\"96\" y=\"207\"/><rect fill=\"#F8F8F8\" height=\"10\" style=\"stroke: #F8F8F8; stroke-width: 1.5;\" width=\"117\" x=\"96\" y=\"220.9688\"/><rect fill=\"none\" height=\"107\" id=\"E8\" rx=\"10\" ry=\"10\" style=\"stroke: #383838; stroke-width: 1.5;\" width=\"117\" x=\"96\" y=\"207\"/><text fill=\"#000000\" font-family=\"sans-serif\" font-size=\"12\" lengthAdjust=\"spacingAndGlyphs\" textLength=\"16\" x=\"146.5\" y=\"223.1387\">^x</text><line style=\"stroke: #383838; stroke-width: 1.0;\" x1=\"96\" x2=\"213\" y1=\"230.9688\" y2=\"230.9688\"/></a><g id=\"E1.E2.E3.E4\"><a href=\"psysml:e84cebed-6405-49c5-b413-5d504fb47cee\" target=\"_top\" title=\"psysml:e84cebed-6405-49c5-b413-5d504fb47cee\" xlink:actuate=\"onRequest\" xlink:href=\"psysml:e84cebed-6405-49c5-b413-5d504fb47cee\" xlink:show=\"new\" xlink:title=\"psysml:e84cebed-6405-49c5-b413-5d504fb47cee\" xlink:type=\"simple\"><rect fill=\"#FFFFFF\" height=\"40\" id=\"E4\" rx=\"10\" ry=\"10\" style=\"stroke: #383838; stroke-width: 1.5;\" width=\"50\" x=\"357\" y=\"250\"/><rect fill=\"#F8F8F8\" height=\"23.9688\" rx=\"10\" ry=\"10\" style=\"stroke: #F8F8F8; stroke-width: 1.5;\" width=\"50\" x=\"357\" y=\"250\"/><rect fill=\"#F8F8F8\" height=\"10\" style=\"stroke: #F8F8F8; stroke-width: 1.5;\" width=\"50\" x=\"357\" y=\"263.9688\"/><rect fill=\"none\" height=\"40\" id=\"E4\" rx=\"10\" ry=\"10\" style=\"stroke: #383838; stroke-width: 1.5;\" width=\"50\" x=\"357\" y=\"250\"/><text fill=\"#000000\" font-family=\"sans-serif\" font-size=\"12\" lengthAdjust=\"spacingAndGlyphs\" textLength=\"14\" x=\"375\" y=\"266.1387\">x1</text></a></g><g id=\"E1.E5.E6\"><a href=\"psysml:6b502337-597a-4c17-979b-8872526dd5b6\" target=\"_top\" title=\"psysml:6b502337-597a-4c17-979b-8872526dd5b6\" xlink:actuate=\"onRequest\" xlink:href=\"psysml:6b502337-597a-4c17-979b-8872526dd5b6\" xlink:show=\"new\" xlink:title=\"psysml:6b502337-597a-4c17-979b-8872526dd5b6\" xlink:type=\"simple\"><rect fill=\"#FFFFFF\" height=\"40\" id=\"E6\" rx=\"10\" ry=\"10\" style=\"stroke: #383838; stroke-width: 1.5;\" width=\"50\" x=\"139\" y=\"100\"/><rect fill=\"#F8F8F8\" height=\"23.9688\" rx=\"10\" ry=\"10\" style=\"stroke: #F8F8F8; stroke-width: 1.5;\" width=\"50\" x=\"139\" y=\"100\"/><rect fill=\"#F8F8F8\" height=\"10\" style=\"stroke: #F8F8F8; stroke-width: 1.5;\" width=\"50\" x=\"139\" y=\"113.9688\"/><rect fill=\"none\" height=\"40\" id=\"E6\" rx=\"10\" ry=\"10\" style=\"stroke: #383838; stroke-width: 1.5;\" width=\"50\" x=\"139\" y=\"100\"/><text fill=\"#000000\" font-family=\"sans-serif\" font-size=\"12\" lengthAdjust=\"spacingAndGlyphs\" textLength=\"6\" x=\"161\" y=\"116.1387\">y</text></a></g><g id=\"E1.E5.E7.E8.E9\"><a href=\"psysml:e84cebed-6405-49c5-b413-5d504fb47cee\" target=\"_top\" title=\"psysml:e84cebed-6405-49c5-b413-5d504fb47cee\" xlink:actuate=\"onRequest\" xlink:href=\"psysml:e84cebed-6405-49c5-b413-5d504fb47cee\" xlink:show=\"new\" xlink:title=\"psysml:e84cebed-6405-49c5-b413-5d504fb47cee\" xlink:type=\"simple\"><rect fill=\"#FFFFFF\" height=\"40\" id=\"E9\" rx=\"10\" ry=\"10\" style=\"stroke: #383838; stroke-width: 1.5;\" width=\"50\" x=\"139\" y=\"250\"/><rect fill=\"#F8F8F8\" height=\"23.9688\" rx=\"10\" ry=\"10\" style=\"stroke: #F8F8F8; stroke-width: 1.5;\" width=\"50\" x=\"139\" y=\"250\"/><rect fill=\"#F8F8F8\" height=\"10\" style=\"stroke: #F8F8F8; stroke-width: 1.5;\" width=\"50\" x=\"139\" y=\"263.9688\"/><rect fill=\"none\" height=\"40\" id=\"E9\" rx=\"10\" ry=\"10\" style=\"stroke: #383838; stroke-width: 1.5;\" width=\"50\" x=\"139\" y=\"250\"/><text fill=\"#000000\" font-family=\"sans-serif\" font-size=\"12\" lengthAdjust=\"spacingAndGlyphs\" textLength=\"14\" x=\"157\" y=\"266.1387\">x1</text></a></g><!--MD5=[2351f337d6de0f557b50152ba70847b5]\n",
       "link E6 to E2--><a href=\"psysml:3c2ac290-8ac1-4000-af3e-5bcf9ecf7966\" target=\"_top\" title=\"psysml:3c2ac290-8ac1-4000-af3e-5bcf9ecf7966\" xlink:actuate=\"onRequest\" xlink:href=\"psysml:3c2ac290-8ac1-4000-af3e-5bcf9ecf7966\" xlink:show=\"new\" xlink:title=\"psysml:3c2ac290-8ac1-4000-af3e-5bcf9ecf7966\" xlink:type=\"simple\"><path d=\"M189.09,135.93 C194.55,139.6 200.14,143.72 205,148 C231.205,171.055 256.8075,200.7275 276.0525,224.9188 C285.675,237.0144 293.7081,247.7397 299.4325,255.5823 C299.7903,256.0725 300.139,256.5514 300.4786,257.0187 C300.6484,257.2523 300.8159,257.4831 300.981,257.7108 \" fill=\"none\" id=\"E6-E2\" style=\"stroke: #383838; stroke-width: 3.0;\"/></a><!--MD5=[0a839d0f80c2d72d4b9b307f046d0de8]\n",
       "link E6 to E8--><a href=\"psysml:75c884b3-4954-4983-bf4e-b524958cba22\" target=\"_top\" title=\"psysml:75c884b3-4954-4983-bf4e-b524958cba22\" xlink:actuate=\"onRequest\" xlink:href=\"psysml:75c884b3-4954-4983-bf4e-b524958cba22\" xlink:show=\"new\" xlink:title=\"psysml:75c884b3-4954-4983-bf4e-b524958cba22\" xlink:type=\"simple\"><path d=\"M138.6,133.04 C132.62,137 126.88,141.98 123,148 C115.7475,159.2625 110.9138,172.31 107.7475,185.5819 C106.1644,192.2178 104.9981,198.9098 104.1548,205.4629 C104.1021,205.8725 104.0507,206.2815 104.0005,206.6899 \" fill=\"none\" id=\"E6-E8\" style=\"stroke: #383838; stroke-width: 3.0;\"/></a><!--MD5=[8ae21a5272e5f5a2f0d855d545cbd16c]\n",
       "link E6 to E9--><a href=\"psysml:ec977721-0260-4bea-8651-1724c0f568d2\" target=\"_top\" title=\"psysml:ec977721-0260-4bea-8651-1724c0f568d2\" xlink:actuate=\"onRequest\" xlink:href=\"psysml:ec977721-0260-4bea-8651-1724c0f568d2\" xlink:show=\"new\" xlink:title=\"psysml:ec977721-0260-4bea-8651-1724c0f568d2\" xlink:type=\"simple\"><path d=\"M164,140.05 C164,168.31 164,221.07 164,249.56 \" fill=\"none\" id=\"E6-E9\" style=\"stroke: #383838; stroke-width: 3.0;\"/></a><!--MD5=[c2973fe7f8a59062cfeb1a4f112bd1a1]\n",
       "@startuml\r\n",
       "skinparam ranksep 10\r\n",
       "skinparam rectangle {\r\n",
       " backgroundColor<<block>> LightGreen\r\n",
       "}\r\n",
       " skinparam monochrome true\r\n",
       "skinparam classbackgroundcolor white\r\n",
       "skinparam shadowing false\r\n",
       "skinparam wrapWidth 300\r\n",
       "hide circle\r\n",
       "\r\n",
       "package \"ConnectionTest\" as E1  [[psysml:22aef044-e637-4155-a6c9-7ceaf878199d ]]  {\r\n",
       "rec usage \"p\" as E2  [[psysml:4372fe5d-a54c-4736-ace6-05c35a4b2fd0 ]] {\r\n",
       "rec usage \"x\" as E3  [[psysml:3f2b8857-d9ea-41c6-bb7a-db05d1986c1a ]] {\r\n",
       "rec usage \"x1\" as E4  [[psysml:e84cebed-6405-49c5-b413-5d504fb47cee ]] {\r\n",
       "}\r\n",
       "}\r\n",
       "}\r\n",
       "rec def \"P\" as E5  <<(T,blue) part def>> [[psysml:ba7b03ba-afee-4a2c-95ba-c440e322d2ee ]] {\r\n",
       "rec usage \"y\" as E6  [[psysml:6b502337-597a-4c17-979b-8872526dd5b6 ]] {\r\n",
       "}\r\n",
       "rec usage \"p1\" as E7  [[psysml:c0882630-04b8-4e6c-a043-bd39b4f2710a ]] {\r\n",
       "rec usage \"^x\" as E8  [[psysml:3f2b8857-d9ea-41c6-bb7a-db05d1986c1a ]] {\r\n",
       "rec usage \"x1\" as E9  [[psysml:e84cebed-6405-49c5-b413-5d504fb47cee ]] {\r\n",
       "}\r\n",
       "}\r\n",
       "}\r\n",
       "}\r\n",
       "E6 -[thickness=3]- E2 [[psysml:3c2ac290-8ac1-4000-af3e-5bcf9ecf7966 ]] \r\n",
       "E6 -[thickness=3]- E8 [[psysml:75c884b3-4954-4983-bf4e-b524958cba22 ]] \r\n",
       "E6 -[thickness=3]- E9 [[psysml:ec977721-0260-4bea-8651-1724c0f568d2 ]] \r\n",
       "}\r\n",
       "@enduml\r\n",
       "\n",
       "PlantUML version 1.2020.13(Sat Jun 13 12:26:38 UTC 2020)\n",
       "(EPL source distribution)\n",
       "Java Runtime: OpenJDK Runtime Environment\n",
       "JVM: OpenJDK 64-Bit Server VM\n",
       "Default Encoding: UTF-8\n",
       "Language: en\n",
       "Country: null\n",
       "--></g></svg>"
      ]
     },
     "execution_count": 5,
     "metadata": {},
     "output_type": "execute_result"
    }
   ],
   "source": [
    "%viz --style=\"COMPTREE\" --view=\"Interconnection\" \"ConnectionTest\""
   ]
  },
  {
   "cell_type": "code",
   "execution_count": 6,
   "id": "bd0d82c1",
   "metadata": {
    "execution": {
     "iopub.execute_input": "2021-06-30T09:21:33.084543Z",
     "iopub.status.busy": "2021-06-30T09:21:33.084051Z",
     "iopub.status.idle": "2021-06-30T09:21:33.093223Z",
     "shell.execute_reply": "2021-06-30T09:21:33.092658Z"
    }
   },
   "outputs": [
    {
     "data": {
      "image/svg+xml": [
       "<?xml version=\"1.0\" encoding=\"UTF-8\" standalone=\"no\"?><svg xmlns=\"http://www.w3.org/2000/svg\" xmlns:xlink=\"http://www.w3.org/1999/xlink\" contentScriptType=\"application/ecmascript\" contentStyleType=\"text/css\" height=\"12px\" preserveAspectRatio=\"none\" style=\"width:12px;height:12px;\" version=\"1.1\" viewBox=\"0 0 12 12\" width=\"12px\" zoomAndPan=\"magnify\"><defs/><g><!--MD5=[655b888544ca4751ea36af1068543f84]\n",
       "@startuml\r\n",
       "skinparam ranksep 8\r\n",
       " skinparam monochrome true\r\n",
       "skinparam classbackgroundcolor white\r\n",
       "skinparam shadowing false\r\n",
       "skinparam wrapWidth 300\r\n",
       "hide circle\r\n",
       "\r\n",
       "@enduml\r\n",
       "\n",
       "PlantUML version 1.2020.13(Sat Jun 13 12:26:38 UTC 2020)\n",
       "(EPL source distribution)\n",
       "Java Runtime: OpenJDK Runtime Environment\n",
       "JVM: OpenJDK 64-Bit Server VM\n",
       "Default Encoding: UTF-8\n",
       "Language: en\n",
       "Country: null\n",
       "--></g></svg>"
      ]
     },
     "execution_count": 6,
     "metadata": {},
     "output_type": "execute_result"
    }
   ],
   "source": [
    "%viz --style=\"COMPTREE\" --view=\"Action\" \"ConnectionTest\""
   ]
  },
  {
   "cell_type": "code",
   "execution_count": 7,
   "id": "1825d3f9",
   "metadata": {
    "execution": {
     "iopub.execute_input": "2021-06-30T09:21:33.148551Z",
     "iopub.status.busy": "2021-06-30T09:21:33.147651Z",
     "iopub.status.idle": "2021-06-30T09:21:33.211579Z",
     "shell.execute_reply": "2021-06-30T09:21:33.210590Z"
    }
   },
   "outputs": [
    {
     "data": {
      "image/svg+xml": [
       "<?xml version=\"1.0\" encoding=\"UTF-8\" standalone=\"no\"?><svg xmlns=\"http://www.w3.org/2000/svg\" xmlns:xlink=\"http://www.w3.org/1999/xlink\" contentScriptType=\"application/ecmascript\" contentStyleType=\"text/css\" height=\"539px\" preserveAspectRatio=\"none\" style=\"width:189px;height:539px;\" version=\"1.1\" viewBox=\"0 0 189 539\" width=\"189px\" zoomAndPan=\"magnify\"><defs/><g><!--MD5=[fbc87193dbaf4d95561dea2c320d4a47]\n",
       "cluster E1--><a href=\"psysml:22aef044-e637-4155-a6c9-7ceaf878199d\" target=\"_top\" title=\"psysml:22aef044-e637-4155-a6c9-7ceaf878199d\" xlink:actuate=\"onRequest\" xlink:href=\"psysml:22aef044-e637-4155-a6c9-7ceaf878199d\" xlink:show=\"new\" xlink:title=\"psysml:22aef044-e637-4155-a6c9-7ceaf878199d\" xlink:type=\"simple\"><polygon fill=\"#FFFFFF\" points=\"16,6,147,6,154,28.2969,167,28.2969,167,527,16,527,16,6\" style=\"stroke: #000000; stroke-width: 1.5;\"/><line style=\"stroke: #000000; stroke-width: 1.5;\" x1=\"16\" x2=\"154\" y1=\"28.2969\" y2=\"28.2969\"/><text fill=\"#000000\" font-family=\"sans-serif\" font-size=\"14\" font-weight=\"bold\" lengthAdjust=\"spacingAndGlyphs\" textLength=\"125\" x=\"20\" y=\"20.9951\">ConnectionTest</text></a><!--MD5=[b4997ac47864f28c2f74865a473b2911]\n",
       "class E2--><a href=\"psysml:4372fe5d-a54c-4736-ace6-05c35a4b2fd0\" target=\"_top\" title=\"psysml:4372fe5d-a54c-4736-ace6-05c35a4b2fd0\" xlink:actuate=\"onRequest\" xlink:href=\"psysml:4372fe5d-a54c-4736-ace6-05c35a4b2fd0\" xlink:show=\"new\" xlink:title=\"psysml:4372fe5d-a54c-4736-ace6-05c35a4b2fd0\" xlink:type=\"simple\"><rect fill=\"#FFFFFF\" height=\"45.9375\" id=\"E2\" rx=\"10\" ry=\"10\" style=\"stroke: #383838; stroke-width: 1.5;\" width=\"42\" x=\"70\" y=\"253\"/><text fill=\"#000000\" font-family=\"sans-serif\" font-size=\"12\" font-style=\"italic\" lengthAdjust=\"spacingAndGlyphs\" textLength=\"40\" x=\"71\" y=\"269.1387\">«part»</text><text fill=\"#000000\" font-family=\"sans-serif\" font-size=\"12\" lengthAdjust=\"spacingAndGlyphs\" textLength=\"8\" x=\"87\" y=\"283.1074\">p</text><line style=\"stroke: #383838; stroke-width: 1.5;\" x1=\"71\" x2=\"111\" y1=\"290.9375\" y2=\"290.9375\"/></a><!--MD5=[09b614a08d8cba4a07c9adeb5e0fee81]\n",
       "class E3--><a href=\"psysml:3f2b8857-d9ea-41c6-bb7a-db05d1986c1a\" target=\"_top\" title=\"psysml:3f2b8857-d9ea-41c6-bb7a-db05d1986c1a\" xlink:actuate=\"onRequest\" xlink:href=\"psysml:3f2b8857-d9ea-41c6-bb7a-db05d1986c1a\" xlink:show=\"new\" xlink:title=\"psysml:3f2b8857-d9ea-41c6-bb7a-db05d1986c1a\" xlink:type=\"simple\"><rect fill=\"#FFFFFF\" height=\"45.9375\" id=\"E3\" rx=\"10\" ry=\"10\" style=\"stroke: #383838; stroke-width: 1.5;\" width=\"42\" x=\"70\" y=\"359\"/><text fill=\"#000000\" font-family=\"sans-serif\" font-size=\"12\" font-style=\"italic\" lengthAdjust=\"spacingAndGlyphs\" textLength=\"40\" x=\"71\" y=\"375.1387\">«part»</text><text fill=\"#000000\" font-family=\"sans-serif\" font-size=\"12\" lengthAdjust=\"spacingAndGlyphs\" textLength=\"6\" x=\"88\" y=\"389.1074\">x</text><line style=\"stroke: #383838; stroke-width: 1.5;\" x1=\"71\" x2=\"111\" y1=\"396.9375\" y2=\"396.9375\"/></a><!--MD5=[ebbe1d658d1005bcc118a6aa81145e00]\n",
       "class E4--><a href=\"psysml:e84cebed-6405-49c5-b413-5d504fb47cee\" target=\"_top\" title=\"psysml:e84cebed-6405-49c5-b413-5d504fb47cee\" xlink:actuate=\"onRequest\" xlink:href=\"psysml:e84cebed-6405-49c5-b413-5d504fb47cee\" xlink:show=\"new\" xlink:title=\"psysml:e84cebed-6405-49c5-b413-5d504fb47cee\" xlink:type=\"simple\"><rect fill=\"#FFFFFF\" height=\"45.9375\" id=\"E4\" rx=\"10\" ry=\"10\" style=\"stroke: #383838; stroke-width: 1.5;\" width=\"42\" x=\"70\" y=\"465\"/><text fill=\"#000000\" font-family=\"sans-serif\" font-size=\"12\" font-style=\"italic\" lengthAdjust=\"spacingAndGlyphs\" textLength=\"40\" x=\"71\" y=\"481.1387\">«part»</text><text fill=\"#000000\" font-family=\"sans-serif\" font-size=\"12\" lengthAdjust=\"spacingAndGlyphs\" textLength=\"14\" x=\"84\" y=\"495.1074\">x1</text><line style=\"stroke: #383838; stroke-width: 1.5;\" x1=\"71\" x2=\"111\" y1=\"502.9375\" y2=\"502.9375\"/></a><!--MD5=[270fce915f116d4de14055a7c1d9a0f3]\n",
       "class E5--><a href=\"psysml:ba7b03ba-afee-4a2c-95ba-c440e322d2ee\" target=\"_top\" title=\"psysml:ba7b03ba-afee-4a2c-95ba-c440e322d2ee\" xlink:actuate=\"onRequest\" xlink:href=\"psysml:ba7b03ba-afee-4a2c-95ba-c440e322d2ee\" xlink:show=\"new\" xlink:title=\"psysml:ba7b03ba-afee-4a2c-95ba-c440e322d2ee\" xlink:type=\"simple\"><rect fill=\"#FFFFFF\" height=\"45.9375\" id=\"E5\" style=\"stroke: #383838; stroke-width: 1.5;\" width=\"66\" x=\"58\" y=\"41\"/><text fill=\"#000000\" font-family=\"sans-serif\" font-size=\"12\" font-style=\"italic\" lengthAdjust=\"spacingAndGlyphs\" textLength=\"64\" x=\"59\" y=\"57.1387\">«part def»</text><text fill=\"#000000\" font-family=\"sans-serif\" font-size=\"12\" lengthAdjust=\"spacingAndGlyphs\" textLength=\"8\" x=\"87\" y=\"71.1074\">P</text><line style=\"stroke: #383838; stroke-width: 1.5;\" x1=\"59\" x2=\"123\" y1=\"78.9375\" y2=\"78.9375\"/></a><!--MD5=[60a26617385b1d2d0262a64233df1f8d]\n",
       "class E6--><a href=\"psysml:6b502337-597a-4c17-979b-8872526dd5b6\" target=\"_top\" title=\"psysml:6b502337-597a-4c17-979b-8872526dd5b6\" xlink:actuate=\"onRequest\" xlink:href=\"psysml:6b502337-597a-4c17-979b-8872526dd5b6\" xlink:show=\"new\" xlink:title=\"psysml:6b502337-597a-4c17-979b-8872526dd5b6\" xlink:type=\"simple\"><rect fill=\"#FFFFFF\" height=\"45.9375\" id=\"E6\" rx=\"10\" ry=\"10\" style=\"stroke: #383838; stroke-width: 1.5;\" width=\"42\" x=\"32\" y=\"147\"/><text fill=\"#000000\" font-family=\"sans-serif\" font-size=\"12\" font-style=\"italic\" lengthAdjust=\"spacingAndGlyphs\" textLength=\"40\" x=\"33\" y=\"163.1387\">«part»</text><text fill=\"#000000\" font-family=\"sans-serif\" font-size=\"12\" lengthAdjust=\"spacingAndGlyphs\" textLength=\"6\" x=\"50\" y=\"177.1074\">y</text><line style=\"stroke: #383838; stroke-width: 1.5;\" x1=\"33\" x2=\"73\" y1=\"184.9375\" y2=\"184.9375\"/></a><!--MD5=[2156ba9850f5573cc1fc38a6a4b2f02b]\n",
       "class E7--><a href=\"psysml:c0882630-04b8-4e6c-a043-bd39b4f2710a\" target=\"_top\" title=\"psysml:c0882630-04b8-4e6c-a043-bd39b4f2710a\" xlink:actuate=\"onRequest\" xlink:href=\"psysml:c0882630-04b8-4e6c-a043-bd39b4f2710a\" xlink:show=\"new\" xlink:title=\"psysml:c0882630-04b8-4e6c-a043-bd39b4f2710a\" xlink:type=\"simple\"><rect fill=\"#FFFFFF\" height=\"45.9375\" id=\"E7\" rx=\"10\" ry=\"10\" style=\"stroke: #383838; stroke-width: 1.5;\" width=\"42\" x=\"109\" y=\"147\"/><text fill=\"#000000\" font-family=\"sans-serif\" font-size=\"12\" font-style=\"italic\" lengthAdjust=\"spacingAndGlyphs\" textLength=\"40\" x=\"110\" y=\"163.1387\">«part»</text><text fill=\"#000000\" font-family=\"sans-serif\" font-size=\"12\" lengthAdjust=\"spacingAndGlyphs\" textLength=\"16\" x=\"122\" y=\"177.1074\">p1</text><line style=\"stroke: #383838; stroke-width: 1.5;\" x1=\"110\" x2=\"150\" y1=\"184.9375\" y2=\"184.9375\"/></a><!--MD5=[209b3feb70ccb6233bfe1053d122c12c]\n",
       "reverse link E2 to E3--><a href=\"psysml:d551e406-73fb-4a91-a080-fc440127a640\" target=\"_top\" title=\"psysml:d551e406-73fb-4a91-a080-fc440127a640\" xlink:actuate=\"onRequest\" xlink:href=\"psysml:d551e406-73fb-4a91-a080-fc440127a640\" xlink:show=\"new\" xlink:title=\"psysml:d551e406-73fb-4a91-a080-fc440127a640\" xlink:type=\"simple\"><path d=\"M91,312.44 C91,327.87 91,345.47 91,358.98 \" fill=\"none\" id=\"E2&lt;-E3\" style=\"stroke: #383838; stroke-width: 1.0;\"/><polygon fill=\"#383838\" points=\"91,299.06,87,305.06,91,311.06,95,305.06,91,299.06\" style=\"stroke: #383838; stroke-width: 1.0;\"/></a><!--MD5=[4672eba38e49728da53d11aeb285b987]\n",
       "reverse link E3 to E4--><a href=\"psysml:0c62ef63-43f3-4799-a069-927499b27fb4\" target=\"_top\" title=\"psysml:0c62ef63-43f3-4799-a069-927499b27fb4\" xlink:actuate=\"onRequest\" xlink:href=\"psysml:0c62ef63-43f3-4799-a069-927499b27fb4\" xlink:show=\"new\" xlink:title=\"psysml:0c62ef63-43f3-4799-a069-927499b27fb4\" xlink:type=\"simple\"><path d=\"M91,418.44 C91,433.87 91,451.47 91,464.98 \" fill=\"none\" id=\"E3&lt;-E4\" style=\"stroke: #383838; stroke-width: 1.0;\"/><polygon fill=\"#383838\" points=\"91,405.06,87,411.06,91,417.06,95,411.06,91,405.06\" style=\"stroke: #383838; stroke-width: 1.0;\"/></a><!--MD5=[85d356282659285ab4b2cfe2f634dd2b]\n",
       "reverse link E5 to E6--><a href=\"psysml:bccb9dd4-409f-48ce-8915-27f20628680f\" target=\"_top\" title=\"psysml:bccb9dd4-409f-48ce-8915-27f20628680f\" xlink:actuate=\"onRequest\" xlink:href=\"psysml:bccb9dd4-409f-48ce-8915-27f20628680f\" xlink:show=\"new\" xlink:title=\"psysml:bccb9dd4-409f-48ce-8915-27f20628680f\" xlink:type=\"simple\"><path d=\"M78.4,99.49 C72.68,115.15 66.08,133.19 61.05,146.98 \" fill=\"none\" id=\"E5&lt;-E6\" style=\"stroke: #383838; stroke-width: 1.0;\"/><polygon fill=\"#383838\" points=\"82.94,87.06,77.1196,91.317,78.8105,98.3271,84.6309,94.07,82.94,87.06\" style=\"stroke: #383838; stroke-width: 1.0;\"/></a><!--MD5=[2351f337d6de0f557b50152ba70847b5]\n",
       "link E6 to E2--><a href=\"psysml:3c2ac290-8ac1-4000-af3e-5bcf9ecf7966\" target=\"_top\" title=\"psysml:3c2ac290-8ac1-4000-af3e-5bcf9ecf7966\" xlink:actuate=\"onRequest\" xlink:href=\"psysml:3c2ac290-8ac1-4000-af3e-5bcf9ecf7966\" xlink:show=\"new\" xlink:title=\"psysml:3c2ac290-8ac1-4000-af3e-5bcf9ecf7966\" xlink:type=\"simple\"><path d=\"M61.06,193.06 C67.51,210.7 76.51,235.34 82.95,252.98 \" fill=\"none\" id=\"E6-E2\" style=\"stroke: #383838; stroke-width: 3.0;\"/></a><!--MD5=[452b418e7f8a40397a49b8c0a78acc5b]\n",
       "reverse link E5 to E7--><a href=\"psysml:97bf4e08-a4b3-492a-87d8-6adc842be5d3\" target=\"_top\" title=\"psysml:97bf4e08-a4b3-492a-87d8-6adc842be5d3\" xlink:actuate=\"onRequest\" xlink:href=\"psysml:97bf4e08-a4b3-492a-87d8-6adc842be5d3\" xlink:show=\"new\" xlink:title=\"psysml:97bf4e08-a4b3-492a-87d8-6adc842be5d3\" xlink:type=\"simple\"><path d=\"M103.94,99.49 C109.8,115.15 116.57,133.19 121.74,146.98 \" fill=\"none\" id=\"E5&lt;-E7\" style=\"stroke: #383838; stroke-width: 1.0;\"/><polygon fill=\"#383838\" points=\"99.27,87.06,97.635,94.0833,103.4893,98.2938,105.1242,91.2705,99.27,87.06\" style=\"stroke: #383838; stroke-width: 1.0;\"/></a><!--MD5=[583832df87f4419a098336a29a52fa00]\n",
       "link E7 to E2--><a href=\"psysml:6815ba90-0374-438b-ad93-53c34ddf71b8\" target=\"_top\" title=\"psysml:6815ba90-0374-438b-ad93-53c34ddf71b8\" xlink:actuate=\"onRequest\" xlink:href=\"psysml:6815ba90-0374-438b-ad93-53c34ddf71b8\" xlink:show=\"new\" xlink:title=\"psysml:6815ba90-0374-438b-ad93-53c34ddf71b8\" xlink:type=\"simple\"><path d=\"M121.73,193.06 C117.28,204.91 111.65,219.92 106.43,233.85 \" fill=\"none\" id=\"E7-&gt;E2\" style=\"stroke: #383838; stroke-width: 1.0;\"/><polygon fill=\"none\" points=\"112.84,236.71,99.26,252.98,99.73,231.79,112.84,236.71\" style=\"stroke: #383838; stroke-width: 1.0;\"/></a><!--MD5=[b5775b8ab0d24dde4de3019209ef5817]\n",
       "@startuml\r\n",
       " skinparam monochrome true\r\n",
       "skinparam classbackgroundcolor white\r\n",
       "skinparam shadowing false\r\n",
       "skinparam wrapWidth 300\r\n",
       "hide circle\r\n",
       "\r\n",
       "package \"ConnectionTest\" as E1  [[psysml:22aef044-e637-4155-a6c9-7ceaf878199d ]]  {\r\n",
       "comp usage \"p\" as E2  <<(T,blue) part>> [[psysml:4372fe5d-a54c-4736-ace6-05c35a4b2fd0 ]] {\r\n",
       "}\r\n",
       "comp usage \"x\" as E3  <<(T,blue) part>> [[psysml:3f2b8857-d9ea-41c6-bb7a-db05d1986c1a ]] {\r\n",
       "}\r\n",
       "comp usage \"x1\" as E4  <<(T,blue) part>> [[psysml:e84cebed-6405-49c5-b413-5d504fb47cee ]] {\r\n",
       "}\r\n",
       "comp def \"P\" as E5  <<(T,blue) part def>> [[psysml:ba7b03ba-afee-4a2c-95ba-c440e322d2ee ]] {\r\n",
       "}\r\n",
       "comp usage \"y\" as E6  <<(T,blue) part>> [[psysml:6b502337-597a-4c17-979b-8872526dd5b6 ]] {\r\n",
       "}\r\n",
       "comp usage \"p1\" as E7  <<(T,blue) part>> [[psysml:c0882630-04b8-4e6c-a043-bd39b4f2710a ]] {\r\n",
       "}\r\n",
       "E2 *- - E3 [[psysml:d551e406-73fb-4a91-a080-fc440127a640 ]] \r\n",
       "E3 *- - E4 [[psysml:0c62ef63-43f3-4799-a069-927499b27fb4 ]] \r\n",
       "E5 *- - E6 [[psysml:bccb9dd4-409f-48ce-8915-27f20628680f ]] \r\n",
       "E6 -[thickness=3]- E2 [[psysml:3c2ac290-8ac1-4000-af3e-5bcf9ecf7966 ]] \r\n",
       "E5 *- - E7 [[psysml:97bf4e08-a4b3-492a-87d8-6adc842be5d3 ]] \r\n",
       "E7 - -|> E2 [[psysml:6815ba90-0374-438b-ad93-53c34ddf71b8 ]] \r\n",
       "}\r\n",
       "@enduml\r\n",
       "\n",
       "PlantUML version 1.2020.13(Sat Jun 13 12:26:38 UTC 2020)\n",
       "(EPL source distribution)\n",
       "Java Runtime: OpenJDK Runtime Environment\n",
       "JVM: OpenJDK 64-Bit Server VM\n",
       "Default Encoding: UTF-8\n",
       "Language: en\n",
       "Country: null\n",
       "--></g></svg>"
      ]
     },
     "execution_count": 7,
     "metadata": {},
     "output_type": "execute_result"
    }
   ],
   "source": [
    "%viz --style=\"COMPTREE\" --view=\"Sequence\" \"ConnectionTest\""
   ]
  },
  {
   "cell_type": "code",
   "execution_count": 8,
   "id": "1cc7f266",
   "metadata": {
    "execution": {
     "iopub.execute_input": "2021-06-30T09:21:33.262850Z",
     "iopub.status.busy": "2021-06-30T09:21:33.262231Z",
     "iopub.status.idle": "2021-06-30T09:21:33.319736Z",
     "shell.execute_reply": "2021-06-30T09:21:33.319369Z"
    }
   },
   "outputs": [
    {
     "data": {
      "image/svg+xml": [
       "<?xml version=\"1.0\" encoding=\"UTF-8\" standalone=\"no\"?><svg xmlns=\"http://www.w3.org/2000/svg\" xmlns:xlink=\"http://www.w3.org/1999/xlink\" contentScriptType=\"application/ecmascript\" contentStyleType=\"text/css\" height=\"539px\" preserveAspectRatio=\"none\" style=\"width:189px;height:539px;\" version=\"1.1\" viewBox=\"0 0 189 539\" width=\"189px\" zoomAndPan=\"magnify\"><defs/><g><!--MD5=[fbc87193dbaf4d95561dea2c320d4a47]\n",
       "cluster E1--><a href=\"psysml:22aef044-e637-4155-a6c9-7ceaf878199d\" target=\"_top\" title=\"psysml:22aef044-e637-4155-a6c9-7ceaf878199d\" xlink:actuate=\"onRequest\" xlink:href=\"psysml:22aef044-e637-4155-a6c9-7ceaf878199d\" xlink:show=\"new\" xlink:title=\"psysml:22aef044-e637-4155-a6c9-7ceaf878199d\" xlink:type=\"simple\"><polygon fill=\"#FFFFFF\" points=\"16,6,147,6,154,28.2969,167,28.2969,167,527,16,527,16,6\" style=\"stroke: #000000; stroke-width: 1.5;\"/><line style=\"stroke: #000000; stroke-width: 1.5;\" x1=\"16\" x2=\"154\" y1=\"28.2969\" y2=\"28.2969\"/><text fill=\"#000000\" font-family=\"sans-serif\" font-size=\"14\" font-weight=\"bold\" lengthAdjust=\"spacingAndGlyphs\" textLength=\"125\" x=\"20\" y=\"20.9951\">ConnectionTest</text></a><!--MD5=[b4997ac47864f28c2f74865a473b2911]\n",
       "class E2--><a href=\"psysml:4372fe5d-a54c-4736-ace6-05c35a4b2fd0\" target=\"_top\" title=\"psysml:4372fe5d-a54c-4736-ace6-05c35a4b2fd0\" xlink:actuate=\"onRequest\" xlink:href=\"psysml:4372fe5d-a54c-4736-ace6-05c35a4b2fd0\" xlink:show=\"new\" xlink:title=\"psysml:4372fe5d-a54c-4736-ace6-05c35a4b2fd0\" xlink:type=\"simple\"><rect fill=\"#FFFFFF\" height=\"45.9375\" id=\"E2\" rx=\"10\" ry=\"10\" style=\"stroke: #383838; stroke-width: 1.5;\" width=\"42\" x=\"70\" y=\"253\"/><text fill=\"#000000\" font-family=\"sans-serif\" font-size=\"12\" font-style=\"italic\" lengthAdjust=\"spacingAndGlyphs\" textLength=\"40\" x=\"71\" y=\"269.1387\">«part»</text><text fill=\"#000000\" font-family=\"sans-serif\" font-size=\"12\" lengthAdjust=\"spacingAndGlyphs\" textLength=\"8\" x=\"87\" y=\"283.1074\">p</text><line style=\"stroke: #383838; stroke-width: 1.5;\" x1=\"71\" x2=\"111\" y1=\"290.9375\" y2=\"290.9375\"/></a><!--MD5=[09b614a08d8cba4a07c9adeb5e0fee81]\n",
       "class E3--><a href=\"psysml:3f2b8857-d9ea-41c6-bb7a-db05d1986c1a\" target=\"_top\" title=\"psysml:3f2b8857-d9ea-41c6-bb7a-db05d1986c1a\" xlink:actuate=\"onRequest\" xlink:href=\"psysml:3f2b8857-d9ea-41c6-bb7a-db05d1986c1a\" xlink:show=\"new\" xlink:title=\"psysml:3f2b8857-d9ea-41c6-bb7a-db05d1986c1a\" xlink:type=\"simple\"><rect fill=\"#FFFFFF\" height=\"45.9375\" id=\"E3\" rx=\"10\" ry=\"10\" style=\"stroke: #383838; stroke-width: 1.5;\" width=\"42\" x=\"70\" y=\"359\"/><text fill=\"#000000\" font-family=\"sans-serif\" font-size=\"12\" font-style=\"italic\" lengthAdjust=\"spacingAndGlyphs\" textLength=\"40\" x=\"71\" y=\"375.1387\">«part»</text><text fill=\"#000000\" font-family=\"sans-serif\" font-size=\"12\" lengthAdjust=\"spacingAndGlyphs\" textLength=\"6\" x=\"88\" y=\"389.1074\">x</text><line style=\"stroke: #383838; stroke-width: 1.5;\" x1=\"71\" x2=\"111\" y1=\"396.9375\" y2=\"396.9375\"/></a><!--MD5=[ebbe1d658d1005bcc118a6aa81145e00]\n",
       "class E4--><a href=\"psysml:e84cebed-6405-49c5-b413-5d504fb47cee\" target=\"_top\" title=\"psysml:e84cebed-6405-49c5-b413-5d504fb47cee\" xlink:actuate=\"onRequest\" xlink:href=\"psysml:e84cebed-6405-49c5-b413-5d504fb47cee\" xlink:show=\"new\" xlink:title=\"psysml:e84cebed-6405-49c5-b413-5d504fb47cee\" xlink:type=\"simple\"><rect fill=\"#FFFFFF\" height=\"45.9375\" id=\"E4\" rx=\"10\" ry=\"10\" style=\"stroke: #383838; stroke-width: 1.5;\" width=\"42\" x=\"70\" y=\"465\"/><text fill=\"#000000\" font-family=\"sans-serif\" font-size=\"12\" font-style=\"italic\" lengthAdjust=\"spacingAndGlyphs\" textLength=\"40\" x=\"71\" y=\"481.1387\">«part»</text><text fill=\"#000000\" font-family=\"sans-serif\" font-size=\"12\" lengthAdjust=\"spacingAndGlyphs\" textLength=\"14\" x=\"84\" y=\"495.1074\">x1</text><line style=\"stroke: #383838; stroke-width: 1.5;\" x1=\"71\" x2=\"111\" y1=\"502.9375\" y2=\"502.9375\"/></a><!--MD5=[270fce915f116d4de14055a7c1d9a0f3]\n",
       "class E5--><a href=\"psysml:ba7b03ba-afee-4a2c-95ba-c440e322d2ee\" target=\"_top\" title=\"psysml:ba7b03ba-afee-4a2c-95ba-c440e322d2ee\" xlink:actuate=\"onRequest\" xlink:href=\"psysml:ba7b03ba-afee-4a2c-95ba-c440e322d2ee\" xlink:show=\"new\" xlink:title=\"psysml:ba7b03ba-afee-4a2c-95ba-c440e322d2ee\" xlink:type=\"simple\"><rect fill=\"#FFFFFF\" height=\"45.9375\" id=\"E5\" style=\"stroke: #383838; stroke-width: 1.5;\" width=\"66\" x=\"58\" y=\"41\"/><text fill=\"#000000\" font-family=\"sans-serif\" font-size=\"12\" font-style=\"italic\" lengthAdjust=\"spacingAndGlyphs\" textLength=\"64\" x=\"59\" y=\"57.1387\">«part def»</text><text fill=\"#000000\" font-family=\"sans-serif\" font-size=\"12\" lengthAdjust=\"spacingAndGlyphs\" textLength=\"8\" x=\"87\" y=\"71.1074\">P</text><line style=\"stroke: #383838; stroke-width: 1.5;\" x1=\"59\" x2=\"123\" y1=\"78.9375\" y2=\"78.9375\"/></a><!--MD5=[60a26617385b1d2d0262a64233df1f8d]\n",
       "class E6--><a href=\"psysml:6b502337-597a-4c17-979b-8872526dd5b6\" target=\"_top\" title=\"psysml:6b502337-597a-4c17-979b-8872526dd5b6\" xlink:actuate=\"onRequest\" xlink:href=\"psysml:6b502337-597a-4c17-979b-8872526dd5b6\" xlink:show=\"new\" xlink:title=\"psysml:6b502337-597a-4c17-979b-8872526dd5b6\" xlink:type=\"simple\"><rect fill=\"#FFFFFF\" height=\"45.9375\" id=\"E6\" rx=\"10\" ry=\"10\" style=\"stroke: #383838; stroke-width: 1.5;\" width=\"42\" x=\"32\" y=\"147\"/><text fill=\"#000000\" font-family=\"sans-serif\" font-size=\"12\" font-style=\"italic\" lengthAdjust=\"spacingAndGlyphs\" textLength=\"40\" x=\"33\" y=\"163.1387\">«part»</text><text fill=\"#000000\" font-family=\"sans-serif\" font-size=\"12\" lengthAdjust=\"spacingAndGlyphs\" textLength=\"6\" x=\"50\" y=\"177.1074\">y</text><line style=\"stroke: #383838; stroke-width: 1.5;\" x1=\"33\" x2=\"73\" y1=\"184.9375\" y2=\"184.9375\"/></a><!--MD5=[2156ba9850f5573cc1fc38a6a4b2f02b]\n",
       "class E7--><a href=\"psysml:c0882630-04b8-4e6c-a043-bd39b4f2710a\" target=\"_top\" title=\"psysml:c0882630-04b8-4e6c-a043-bd39b4f2710a\" xlink:actuate=\"onRequest\" xlink:href=\"psysml:c0882630-04b8-4e6c-a043-bd39b4f2710a\" xlink:show=\"new\" xlink:title=\"psysml:c0882630-04b8-4e6c-a043-bd39b4f2710a\" xlink:type=\"simple\"><rect fill=\"#FFFFFF\" height=\"45.9375\" id=\"E7\" rx=\"10\" ry=\"10\" style=\"stroke: #383838; stroke-width: 1.5;\" width=\"42\" x=\"109\" y=\"147\"/><text fill=\"#000000\" font-family=\"sans-serif\" font-size=\"12\" font-style=\"italic\" lengthAdjust=\"spacingAndGlyphs\" textLength=\"40\" x=\"110\" y=\"163.1387\">«part»</text><text fill=\"#000000\" font-family=\"sans-serif\" font-size=\"12\" lengthAdjust=\"spacingAndGlyphs\" textLength=\"16\" x=\"122\" y=\"177.1074\">p1</text><line style=\"stroke: #383838; stroke-width: 1.5;\" x1=\"110\" x2=\"150\" y1=\"184.9375\" y2=\"184.9375\"/></a><!--MD5=[209b3feb70ccb6233bfe1053d122c12c]\n",
       "reverse link E2 to E3--><a href=\"psysml:d551e406-73fb-4a91-a080-fc440127a640\" target=\"_top\" title=\"psysml:d551e406-73fb-4a91-a080-fc440127a640\" xlink:actuate=\"onRequest\" xlink:href=\"psysml:d551e406-73fb-4a91-a080-fc440127a640\" xlink:show=\"new\" xlink:title=\"psysml:d551e406-73fb-4a91-a080-fc440127a640\" xlink:type=\"simple\"><path d=\"M91,312.44 C91,327.87 91,345.47 91,358.98 \" fill=\"none\" id=\"E2&lt;-E3\" style=\"stroke: #383838; stroke-width: 1.0;\"/><polygon fill=\"#383838\" points=\"91,299.06,87,305.06,91,311.06,95,305.06,91,299.06\" style=\"stroke: #383838; stroke-width: 1.0;\"/></a><!--MD5=[4672eba38e49728da53d11aeb285b987]\n",
       "reverse link E3 to E4--><a href=\"psysml:0c62ef63-43f3-4799-a069-927499b27fb4\" target=\"_top\" title=\"psysml:0c62ef63-43f3-4799-a069-927499b27fb4\" xlink:actuate=\"onRequest\" xlink:href=\"psysml:0c62ef63-43f3-4799-a069-927499b27fb4\" xlink:show=\"new\" xlink:title=\"psysml:0c62ef63-43f3-4799-a069-927499b27fb4\" xlink:type=\"simple\"><path d=\"M91,418.44 C91,433.87 91,451.47 91,464.98 \" fill=\"none\" id=\"E3&lt;-E4\" style=\"stroke: #383838; stroke-width: 1.0;\"/><polygon fill=\"#383838\" points=\"91,405.06,87,411.06,91,417.06,95,411.06,91,405.06\" style=\"stroke: #383838; stroke-width: 1.0;\"/></a><!--MD5=[85d356282659285ab4b2cfe2f634dd2b]\n",
       "reverse link E5 to E6--><a href=\"psysml:bccb9dd4-409f-48ce-8915-27f20628680f\" target=\"_top\" title=\"psysml:bccb9dd4-409f-48ce-8915-27f20628680f\" xlink:actuate=\"onRequest\" xlink:href=\"psysml:bccb9dd4-409f-48ce-8915-27f20628680f\" xlink:show=\"new\" xlink:title=\"psysml:bccb9dd4-409f-48ce-8915-27f20628680f\" xlink:type=\"simple\"><path d=\"M78.4,99.49 C72.68,115.15 66.08,133.19 61.05,146.98 \" fill=\"none\" id=\"E5&lt;-E6\" style=\"stroke: #383838; stroke-width: 1.0;\"/><polygon fill=\"#383838\" points=\"82.94,87.06,77.1196,91.317,78.8105,98.3271,84.6309,94.07,82.94,87.06\" style=\"stroke: #383838; stroke-width: 1.0;\"/></a><!--MD5=[2351f337d6de0f557b50152ba70847b5]\n",
       "link E6 to E2--><a href=\"psysml:3c2ac290-8ac1-4000-af3e-5bcf9ecf7966\" target=\"_top\" title=\"psysml:3c2ac290-8ac1-4000-af3e-5bcf9ecf7966\" xlink:actuate=\"onRequest\" xlink:href=\"psysml:3c2ac290-8ac1-4000-af3e-5bcf9ecf7966\" xlink:show=\"new\" xlink:title=\"psysml:3c2ac290-8ac1-4000-af3e-5bcf9ecf7966\" xlink:type=\"simple\"><path d=\"M61.06,193.06 C67.51,210.7 76.51,235.34 82.95,252.98 \" fill=\"none\" id=\"E6-E2\" style=\"stroke: #383838; stroke-width: 3.0;\"/></a><!--MD5=[452b418e7f8a40397a49b8c0a78acc5b]\n",
       "reverse link E5 to E7--><a href=\"psysml:97bf4e08-a4b3-492a-87d8-6adc842be5d3\" target=\"_top\" title=\"psysml:97bf4e08-a4b3-492a-87d8-6adc842be5d3\" xlink:actuate=\"onRequest\" xlink:href=\"psysml:97bf4e08-a4b3-492a-87d8-6adc842be5d3\" xlink:show=\"new\" xlink:title=\"psysml:97bf4e08-a4b3-492a-87d8-6adc842be5d3\" xlink:type=\"simple\"><path d=\"M103.94,99.49 C109.8,115.15 116.57,133.19 121.74,146.98 \" fill=\"none\" id=\"E5&lt;-E7\" style=\"stroke: #383838; stroke-width: 1.0;\"/><polygon fill=\"#383838\" points=\"99.27,87.06,97.635,94.0833,103.4893,98.2938,105.1242,91.2705,99.27,87.06\" style=\"stroke: #383838; stroke-width: 1.0;\"/></a><!--MD5=[583832df87f4419a098336a29a52fa00]\n",
       "link E7 to E2--><a href=\"psysml:6815ba90-0374-438b-ad93-53c34ddf71b8\" target=\"_top\" title=\"psysml:6815ba90-0374-438b-ad93-53c34ddf71b8\" xlink:actuate=\"onRequest\" xlink:href=\"psysml:6815ba90-0374-438b-ad93-53c34ddf71b8\" xlink:show=\"new\" xlink:title=\"psysml:6815ba90-0374-438b-ad93-53c34ddf71b8\" xlink:type=\"simple\"><path d=\"M121.73,193.06 C117.28,204.91 111.65,219.92 106.43,233.85 \" fill=\"none\" id=\"E7-&gt;E2\" style=\"stroke: #383838; stroke-width: 1.0;\"/><polygon fill=\"none\" points=\"112.84,236.71,99.26,252.98,99.73,231.79,112.84,236.71\" style=\"stroke: #383838; stroke-width: 1.0;\"/></a><!--MD5=[b5775b8ab0d24dde4de3019209ef5817]\n",
       "@startuml\r\n",
       " skinparam monochrome true\r\n",
       "skinparam classbackgroundcolor white\r\n",
       "skinparam shadowing false\r\n",
       "skinparam wrapWidth 300\r\n",
       "hide circle\r\n",
       "\r\n",
       "package \"ConnectionTest\" as E1  [[psysml:22aef044-e637-4155-a6c9-7ceaf878199d ]]  {\r\n",
       "comp usage \"p\" as E2  <<(T,blue) part>> [[psysml:4372fe5d-a54c-4736-ace6-05c35a4b2fd0 ]] {\r\n",
       "}\r\n",
       "comp usage \"x\" as E3  <<(T,blue) part>> [[psysml:3f2b8857-d9ea-41c6-bb7a-db05d1986c1a ]] {\r\n",
       "}\r\n",
       "comp usage \"x1\" as E4  <<(T,blue) part>> [[psysml:e84cebed-6405-49c5-b413-5d504fb47cee ]] {\r\n",
       "}\r\n",
       "comp def \"P\" as E5  <<(T,blue) part def>> [[psysml:ba7b03ba-afee-4a2c-95ba-c440e322d2ee ]] {\r\n",
       "}\r\n",
       "comp usage \"y\" as E6  <<(T,blue) part>> [[psysml:6b502337-597a-4c17-979b-8872526dd5b6 ]] {\r\n",
       "}\r\n",
       "comp usage \"p1\" as E7  <<(T,blue) part>> [[psysml:c0882630-04b8-4e6c-a043-bd39b4f2710a ]] {\r\n",
       "}\r\n",
       "E2 *- - E3 [[psysml:d551e406-73fb-4a91-a080-fc440127a640 ]] \r\n",
       "E3 *- - E4 [[psysml:0c62ef63-43f3-4799-a069-927499b27fb4 ]] \r\n",
       "E5 *- - E6 [[psysml:bccb9dd4-409f-48ce-8915-27f20628680f ]] \r\n",
       "E6 -[thickness=3]- E2 [[psysml:3c2ac290-8ac1-4000-af3e-5bcf9ecf7966 ]] \r\n",
       "E5 *- - E7 [[psysml:97bf4e08-a4b3-492a-87d8-6adc842be5d3 ]] \r\n",
       "E7 - -|> E2 [[psysml:6815ba90-0374-438b-ad93-53c34ddf71b8 ]] \r\n",
       "}\r\n",
       "@enduml\r\n",
       "\n",
       "PlantUML version 1.2020.13(Sat Jun 13 12:26:38 UTC 2020)\n",
       "(EPL source distribution)\n",
       "Java Runtime: OpenJDK Runtime Environment\n",
       "JVM: OpenJDK 64-Bit Server VM\n",
       "Default Encoding: UTF-8\n",
       "Language: en\n",
       "Country: null\n",
       "--></g></svg>"
      ]
     },
     "execution_count": 8,
     "metadata": {},
     "output_type": "execute_result"
    }
   ],
   "source": [
    "%viz --style=\"COMPTREE\" --view=\"MIXED\" \"ConnectionTest\""
   ]
  },
  {
   "cell_type": "code",
   "execution_count": 9,
   "id": "bdffbe4a",
   "metadata": {
    "execution": {
     "iopub.execute_input": "2021-06-30T09:21:33.371820Z",
     "iopub.status.busy": "2021-06-30T09:21:33.371170Z",
     "iopub.status.idle": "2021-06-30T09:21:33.424087Z",
     "shell.execute_reply": "2021-06-30T09:21:33.422965Z"
    }
   },
   "outputs": [
    {
     "data": {
      "image/svg+xml": [
       "<?xml version=\"1.0\" encoding=\"UTF-8\" standalone=\"no\"?><svg xmlns=\"http://www.w3.org/2000/svg\" xmlns:xlink=\"http://www.w3.org/1999/xlink\" contentScriptType=\"application/ecmascript\" contentStyleType=\"text/css\" height=\"539px\" preserveAspectRatio=\"none\" style=\"width:189px;height:539px;\" version=\"1.1\" viewBox=\"0 0 189 539\" width=\"189px\" zoomAndPan=\"magnify\"><defs/><g><!--MD5=[fbc87193dbaf4d95561dea2c320d4a47]\n",
       "cluster E1--><a href=\"psysml:22aef044-e637-4155-a6c9-7ceaf878199d\" target=\"_top\" title=\"psysml:22aef044-e637-4155-a6c9-7ceaf878199d\" xlink:actuate=\"onRequest\" xlink:href=\"psysml:22aef044-e637-4155-a6c9-7ceaf878199d\" xlink:show=\"new\" xlink:title=\"psysml:22aef044-e637-4155-a6c9-7ceaf878199d\" xlink:type=\"simple\"><polygon fill=\"#FFFFFF\" points=\"16,6,147,6,154,28.2969,167,28.2969,167,527,16,527,16,6\" style=\"stroke: #000000; stroke-width: 1.5;\"/><line style=\"stroke: #000000; stroke-width: 1.5;\" x1=\"16\" x2=\"154\" y1=\"28.2969\" y2=\"28.2969\"/><text fill=\"#000000\" font-family=\"sans-serif\" font-size=\"14\" font-weight=\"bold\" lengthAdjust=\"spacingAndGlyphs\" textLength=\"125\" x=\"20\" y=\"20.9951\">ConnectionTest</text></a><!--MD5=[b4997ac47864f28c2f74865a473b2911]\n",
       "class E2--><a href=\"psysml:4372fe5d-a54c-4736-ace6-05c35a4b2fd0\" target=\"_top\" title=\"psysml:4372fe5d-a54c-4736-ace6-05c35a4b2fd0\" xlink:actuate=\"onRequest\" xlink:href=\"psysml:4372fe5d-a54c-4736-ace6-05c35a4b2fd0\" xlink:show=\"new\" xlink:title=\"psysml:4372fe5d-a54c-4736-ace6-05c35a4b2fd0\" xlink:type=\"simple\"><rect fill=\"#FFFFFF\" height=\"45.9375\" id=\"E2\" rx=\"10\" ry=\"10\" style=\"stroke: #383838; stroke-width: 1.5;\" width=\"42\" x=\"70\" y=\"253\"/><text fill=\"#000000\" font-family=\"sans-serif\" font-size=\"12\" font-style=\"italic\" lengthAdjust=\"spacingAndGlyphs\" textLength=\"40\" x=\"71\" y=\"269.1387\">«part»</text><text fill=\"#000000\" font-family=\"sans-serif\" font-size=\"12\" lengthAdjust=\"spacingAndGlyphs\" textLength=\"8\" x=\"87\" y=\"283.1074\">p</text><line style=\"stroke: #383838; stroke-width: 1.5;\" x1=\"71\" x2=\"111\" y1=\"290.9375\" y2=\"290.9375\"/></a><!--MD5=[09b614a08d8cba4a07c9adeb5e0fee81]\n",
       "class E3--><a href=\"psysml:3f2b8857-d9ea-41c6-bb7a-db05d1986c1a\" target=\"_top\" title=\"psysml:3f2b8857-d9ea-41c6-bb7a-db05d1986c1a\" xlink:actuate=\"onRequest\" xlink:href=\"psysml:3f2b8857-d9ea-41c6-bb7a-db05d1986c1a\" xlink:show=\"new\" xlink:title=\"psysml:3f2b8857-d9ea-41c6-bb7a-db05d1986c1a\" xlink:type=\"simple\"><rect fill=\"#FFFFFF\" height=\"45.9375\" id=\"E3\" rx=\"10\" ry=\"10\" style=\"stroke: #383838; stroke-width: 1.5;\" width=\"42\" x=\"70\" y=\"359\"/><text fill=\"#000000\" font-family=\"sans-serif\" font-size=\"12\" font-style=\"italic\" lengthAdjust=\"spacingAndGlyphs\" textLength=\"40\" x=\"71\" y=\"375.1387\">«part»</text><text fill=\"#000000\" font-family=\"sans-serif\" font-size=\"12\" lengthAdjust=\"spacingAndGlyphs\" textLength=\"6\" x=\"88\" y=\"389.1074\">x</text><line style=\"stroke: #383838; stroke-width: 1.5;\" x1=\"71\" x2=\"111\" y1=\"396.9375\" y2=\"396.9375\"/></a><!--MD5=[ebbe1d658d1005bcc118a6aa81145e00]\n",
       "class E4--><a href=\"psysml:e84cebed-6405-49c5-b413-5d504fb47cee\" target=\"_top\" title=\"psysml:e84cebed-6405-49c5-b413-5d504fb47cee\" xlink:actuate=\"onRequest\" xlink:href=\"psysml:e84cebed-6405-49c5-b413-5d504fb47cee\" xlink:show=\"new\" xlink:title=\"psysml:e84cebed-6405-49c5-b413-5d504fb47cee\" xlink:type=\"simple\"><rect fill=\"#FFFFFF\" height=\"45.9375\" id=\"E4\" rx=\"10\" ry=\"10\" style=\"stroke: #383838; stroke-width: 1.5;\" width=\"42\" x=\"70\" y=\"465\"/><text fill=\"#000000\" font-family=\"sans-serif\" font-size=\"12\" font-style=\"italic\" lengthAdjust=\"spacingAndGlyphs\" textLength=\"40\" x=\"71\" y=\"481.1387\">«part»</text><text fill=\"#000000\" font-family=\"sans-serif\" font-size=\"12\" lengthAdjust=\"spacingAndGlyphs\" textLength=\"14\" x=\"84\" y=\"495.1074\">x1</text><line style=\"stroke: #383838; stroke-width: 1.5;\" x1=\"71\" x2=\"111\" y1=\"502.9375\" y2=\"502.9375\"/></a><!--MD5=[270fce915f116d4de14055a7c1d9a0f3]\n",
       "class E5--><a href=\"psysml:ba7b03ba-afee-4a2c-95ba-c440e322d2ee\" target=\"_top\" title=\"psysml:ba7b03ba-afee-4a2c-95ba-c440e322d2ee\" xlink:actuate=\"onRequest\" xlink:href=\"psysml:ba7b03ba-afee-4a2c-95ba-c440e322d2ee\" xlink:show=\"new\" xlink:title=\"psysml:ba7b03ba-afee-4a2c-95ba-c440e322d2ee\" xlink:type=\"simple\"><rect fill=\"#FFFFFF\" height=\"45.9375\" id=\"E5\" style=\"stroke: #383838; stroke-width: 1.5;\" width=\"66\" x=\"58\" y=\"41\"/><text fill=\"#000000\" font-family=\"sans-serif\" font-size=\"12\" font-style=\"italic\" lengthAdjust=\"spacingAndGlyphs\" textLength=\"64\" x=\"59\" y=\"57.1387\">«part def»</text><text fill=\"#000000\" font-family=\"sans-serif\" font-size=\"12\" lengthAdjust=\"spacingAndGlyphs\" textLength=\"8\" x=\"87\" y=\"71.1074\">P</text><line style=\"stroke: #383838; stroke-width: 1.5;\" x1=\"59\" x2=\"123\" y1=\"78.9375\" y2=\"78.9375\"/></a><!--MD5=[60a26617385b1d2d0262a64233df1f8d]\n",
       "class E6--><a href=\"psysml:6b502337-597a-4c17-979b-8872526dd5b6\" target=\"_top\" title=\"psysml:6b502337-597a-4c17-979b-8872526dd5b6\" xlink:actuate=\"onRequest\" xlink:href=\"psysml:6b502337-597a-4c17-979b-8872526dd5b6\" xlink:show=\"new\" xlink:title=\"psysml:6b502337-597a-4c17-979b-8872526dd5b6\" xlink:type=\"simple\"><rect fill=\"#FFFFFF\" height=\"45.9375\" id=\"E6\" rx=\"10\" ry=\"10\" style=\"stroke: #383838; stroke-width: 1.5;\" width=\"42\" x=\"32\" y=\"147\"/><text fill=\"#000000\" font-family=\"sans-serif\" font-size=\"12\" font-style=\"italic\" lengthAdjust=\"spacingAndGlyphs\" textLength=\"40\" x=\"33\" y=\"163.1387\">«part»</text><text fill=\"#000000\" font-family=\"sans-serif\" font-size=\"12\" lengthAdjust=\"spacingAndGlyphs\" textLength=\"6\" x=\"50\" y=\"177.1074\">y</text><line style=\"stroke: #383838; stroke-width: 1.5;\" x1=\"33\" x2=\"73\" y1=\"184.9375\" y2=\"184.9375\"/></a><!--MD5=[2156ba9850f5573cc1fc38a6a4b2f02b]\n",
       "class E7--><a href=\"psysml:c0882630-04b8-4e6c-a043-bd39b4f2710a\" target=\"_top\" title=\"psysml:c0882630-04b8-4e6c-a043-bd39b4f2710a\" xlink:actuate=\"onRequest\" xlink:href=\"psysml:c0882630-04b8-4e6c-a043-bd39b4f2710a\" xlink:show=\"new\" xlink:title=\"psysml:c0882630-04b8-4e6c-a043-bd39b4f2710a\" xlink:type=\"simple\"><rect fill=\"#FFFFFF\" height=\"45.9375\" id=\"E7\" rx=\"10\" ry=\"10\" style=\"stroke: #383838; stroke-width: 1.5;\" width=\"42\" x=\"109\" y=\"147\"/><text fill=\"#000000\" font-family=\"sans-serif\" font-size=\"12\" font-style=\"italic\" lengthAdjust=\"spacingAndGlyphs\" textLength=\"40\" x=\"110\" y=\"163.1387\">«part»</text><text fill=\"#000000\" font-family=\"sans-serif\" font-size=\"12\" lengthAdjust=\"spacingAndGlyphs\" textLength=\"16\" x=\"122\" y=\"177.1074\">p1</text><line style=\"stroke: #383838; stroke-width: 1.5;\" x1=\"110\" x2=\"150\" y1=\"184.9375\" y2=\"184.9375\"/></a><!--MD5=[209b3feb70ccb6233bfe1053d122c12c]\n",
       "reverse link E2 to E3--><a href=\"psysml:d551e406-73fb-4a91-a080-fc440127a640\" target=\"_top\" title=\"psysml:d551e406-73fb-4a91-a080-fc440127a640\" xlink:actuate=\"onRequest\" xlink:href=\"psysml:d551e406-73fb-4a91-a080-fc440127a640\" xlink:show=\"new\" xlink:title=\"psysml:d551e406-73fb-4a91-a080-fc440127a640\" xlink:type=\"simple\"><path d=\"M91,312.44 C91,327.87 91,345.47 91,358.98 \" fill=\"none\" id=\"E2&lt;-E3\" style=\"stroke: #383838; stroke-width: 1.0;\"/><polygon fill=\"#383838\" points=\"91,299.06,87,305.06,91,311.06,95,305.06,91,299.06\" style=\"stroke: #383838; stroke-width: 1.0;\"/></a><!--MD5=[4672eba38e49728da53d11aeb285b987]\n",
       "reverse link E3 to E4--><a href=\"psysml:0c62ef63-43f3-4799-a069-927499b27fb4\" target=\"_top\" title=\"psysml:0c62ef63-43f3-4799-a069-927499b27fb4\" xlink:actuate=\"onRequest\" xlink:href=\"psysml:0c62ef63-43f3-4799-a069-927499b27fb4\" xlink:show=\"new\" xlink:title=\"psysml:0c62ef63-43f3-4799-a069-927499b27fb4\" xlink:type=\"simple\"><path d=\"M91,418.44 C91,433.87 91,451.47 91,464.98 \" fill=\"none\" id=\"E3&lt;-E4\" style=\"stroke: #383838; stroke-width: 1.0;\"/><polygon fill=\"#383838\" points=\"91,405.06,87,411.06,91,417.06,95,411.06,91,405.06\" style=\"stroke: #383838; stroke-width: 1.0;\"/></a><!--MD5=[85d356282659285ab4b2cfe2f634dd2b]\n",
       "reverse link E5 to E6--><a href=\"psysml:bccb9dd4-409f-48ce-8915-27f20628680f\" target=\"_top\" title=\"psysml:bccb9dd4-409f-48ce-8915-27f20628680f\" xlink:actuate=\"onRequest\" xlink:href=\"psysml:bccb9dd4-409f-48ce-8915-27f20628680f\" xlink:show=\"new\" xlink:title=\"psysml:bccb9dd4-409f-48ce-8915-27f20628680f\" xlink:type=\"simple\"><path d=\"M78.4,99.49 C72.68,115.15 66.08,133.19 61.05,146.98 \" fill=\"none\" id=\"E5&lt;-E6\" style=\"stroke: #383838; stroke-width: 1.0;\"/><polygon fill=\"#383838\" points=\"82.94,87.06,77.1196,91.317,78.8105,98.3271,84.6309,94.07,82.94,87.06\" style=\"stroke: #383838; stroke-width: 1.0;\"/></a><!--MD5=[2351f337d6de0f557b50152ba70847b5]\n",
       "link E6 to E2--><a href=\"psysml:3c2ac290-8ac1-4000-af3e-5bcf9ecf7966\" target=\"_top\" title=\"psysml:3c2ac290-8ac1-4000-af3e-5bcf9ecf7966\" xlink:actuate=\"onRequest\" xlink:href=\"psysml:3c2ac290-8ac1-4000-af3e-5bcf9ecf7966\" xlink:show=\"new\" xlink:title=\"psysml:3c2ac290-8ac1-4000-af3e-5bcf9ecf7966\" xlink:type=\"simple\"><path d=\"M61.06,193.06 C67.51,210.7 76.51,235.34 82.95,252.98 \" fill=\"none\" id=\"E6-E2\" style=\"stroke: #383838; stroke-width: 3.0;\"/></a><!--MD5=[452b418e7f8a40397a49b8c0a78acc5b]\n",
       "reverse link E5 to E7--><a href=\"psysml:97bf4e08-a4b3-492a-87d8-6adc842be5d3\" target=\"_top\" title=\"psysml:97bf4e08-a4b3-492a-87d8-6adc842be5d3\" xlink:actuate=\"onRequest\" xlink:href=\"psysml:97bf4e08-a4b3-492a-87d8-6adc842be5d3\" xlink:show=\"new\" xlink:title=\"psysml:97bf4e08-a4b3-492a-87d8-6adc842be5d3\" xlink:type=\"simple\"><path d=\"M103.94,99.49 C109.8,115.15 116.57,133.19 121.74,146.98 \" fill=\"none\" id=\"E5&lt;-E7\" style=\"stroke: #383838; stroke-width: 1.0;\"/><polygon fill=\"#383838\" points=\"99.27,87.06,97.635,94.0833,103.4893,98.2938,105.1242,91.2705,99.27,87.06\" style=\"stroke: #383838; stroke-width: 1.0;\"/></a><!--MD5=[583832df87f4419a098336a29a52fa00]\n",
       "link E7 to E2--><a href=\"psysml:6815ba90-0374-438b-ad93-53c34ddf71b8\" target=\"_top\" title=\"psysml:6815ba90-0374-438b-ad93-53c34ddf71b8\" xlink:actuate=\"onRequest\" xlink:href=\"psysml:6815ba90-0374-438b-ad93-53c34ddf71b8\" xlink:show=\"new\" xlink:title=\"psysml:6815ba90-0374-438b-ad93-53c34ddf71b8\" xlink:type=\"simple\"><path d=\"M121.73,193.06 C117.28,204.91 111.65,219.92 106.43,233.85 \" fill=\"none\" id=\"E7-&gt;E2\" style=\"stroke: #383838; stroke-width: 1.0;\"/><polygon fill=\"none\" points=\"112.84,236.71,99.26,252.98,99.73,231.79,112.84,236.71\" style=\"stroke: #383838; stroke-width: 1.0;\"/></a><!--MD5=[6389b15194fbed846445cabf1da3f436]\n",
       "@startuml\r\n",
       "skinparam linetype polyline\r\n",
       "skinparam monochrome true\r\n",
       "skinparam classbackgroundcolor white\r\n",
       "skinparam shadowing false\r\n",
       "skinparam wrapWidth 300\r\n",
       "hide circle\r\n",
       "\r\n",
       "package \"ConnectionTest\" as E1  [[psysml:22aef044-e637-4155-a6c9-7ceaf878199d ]]  {\r\n",
       "comp usage \"p\" as E2  <<(T,blue) part>> [[psysml:4372fe5d-a54c-4736-ace6-05c35a4b2fd0 ]] {\r\n",
       "}\r\n",
       "comp usage \"x\" as E3  <<(T,blue) part>> [[psysml:3f2b8857-d9ea-41c6-bb7a-db05d1986c1a ]] {\r\n",
       "}\r\n",
       "comp usage \"x1\" as E4  <<(T,blue) part>> [[psysml:e84cebed-6405-49c5-b413-5d504fb47cee ]] {\r\n",
       "}\r\n",
       "comp def \"P\" as E5  <<(T,blue) part def>> [[psysml:ba7b03ba-afee-4a2c-95ba-c440e322d2ee ]] {\r\n",
       "}\r\n",
       "comp usage \"y\" as E6  <<(T,blue) part>> [[psysml:6b502337-597a-4c17-979b-8872526dd5b6 ]] {\r\n",
       "}\r\n",
       "comp usage \"p1\" as E7  <<(T,blue) part>> [[psysml:c0882630-04b8-4e6c-a043-bd39b4f2710a ]] {\r\n",
       "}\r\n",
       "E2 *- - E3 [[psysml:d551e406-73fb-4a91-a080-fc440127a640 ]] \r\n",
       "E3 *- - E4 [[psysml:0c62ef63-43f3-4799-a069-927499b27fb4 ]] \r\n",
       "E5 *- - E6 [[psysml:bccb9dd4-409f-48ce-8915-27f20628680f ]] \r\n",
       "E6 -[thickness=3]- E2 [[psysml:3c2ac290-8ac1-4000-af3e-5bcf9ecf7966 ]] \r\n",
       "E5 *- - E7 [[psysml:97bf4e08-a4b3-492a-87d8-6adc842be5d3 ]] \r\n",
       "E7 - -|> E2 [[psysml:6815ba90-0374-438b-ad93-53c34ddf71b8 ]] \r\n",
       "}\r\n",
       "@enduml\r\n",
       "\n",
       "PlantUML version 1.2020.13(Sat Jun 13 12:26:38 UTC 2020)\n",
       "(EPL source distribution)\n",
       "Java Runtime: OpenJDK Runtime Environment\n",
       "JVM: OpenJDK 64-Bit Server VM\n",
       "Default Encoding: UTF-8\n",
       "Language: en\n",
       "Country: null\n",
       "--></g></svg>"
      ]
     },
     "execution_count": 9,
     "metadata": {},
     "output_type": "execute_result"
    }
   ],
   "source": [
    "%viz --style=\"POLYLINE\" --view=\"Default\" \"ConnectionTest\""
   ]
  },
  {
   "cell_type": "code",
   "execution_count": 10,
   "id": "cd2a0d2d",
   "metadata": {
    "execution": {
     "iopub.execute_input": "2021-06-30T09:21:33.478032Z",
     "iopub.status.busy": "2021-06-30T09:21:33.476936Z",
     "iopub.status.idle": "2021-06-30T09:21:33.522423Z",
     "shell.execute_reply": "2021-06-30T09:21:33.520443Z"
    }
   },
   "outputs": [
    {
     "data": {
      "image/svg+xml": [
       "<?xml version=\"1.0\" encoding=\"UTF-8\" standalone=\"no\"?><svg xmlns=\"http://www.w3.org/2000/svg\" xmlns:xlink=\"http://www.w3.org/1999/xlink\" contentScriptType=\"application/ecmascript\" contentStyleType=\"text/css\" height=\"539px\" preserveAspectRatio=\"none\" style=\"width:189px;height:539px;\" version=\"1.1\" viewBox=\"0 0 189 539\" width=\"189px\" zoomAndPan=\"magnify\"><defs/><g><!--MD5=[fbc87193dbaf4d95561dea2c320d4a47]\n",
       "cluster E1--><a href=\"psysml:22aef044-e637-4155-a6c9-7ceaf878199d\" target=\"_top\" title=\"psysml:22aef044-e637-4155-a6c9-7ceaf878199d\" xlink:actuate=\"onRequest\" xlink:href=\"psysml:22aef044-e637-4155-a6c9-7ceaf878199d\" xlink:show=\"new\" xlink:title=\"psysml:22aef044-e637-4155-a6c9-7ceaf878199d\" xlink:type=\"simple\"><polygon fill=\"#FFFFFF\" points=\"16,6,147,6,154,28.2969,167,28.2969,167,527,16,527,16,6\" style=\"stroke: #000000; stroke-width: 1.5;\"/><line style=\"stroke: #000000; stroke-width: 1.5;\" x1=\"16\" x2=\"154\" y1=\"28.2969\" y2=\"28.2969\"/><text fill=\"#000000\" font-family=\"sans-serif\" font-size=\"14\" font-weight=\"bold\" lengthAdjust=\"spacingAndGlyphs\" textLength=\"125\" x=\"20\" y=\"20.9951\">ConnectionTest</text></a><!--MD5=[b4997ac47864f28c2f74865a473b2911]\n",
       "class E2--><a href=\"psysml:4372fe5d-a54c-4736-ace6-05c35a4b2fd0\" target=\"_top\" title=\"psysml:4372fe5d-a54c-4736-ace6-05c35a4b2fd0\" xlink:actuate=\"onRequest\" xlink:href=\"psysml:4372fe5d-a54c-4736-ace6-05c35a4b2fd0\" xlink:show=\"new\" xlink:title=\"psysml:4372fe5d-a54c-4736-ace6-05c35a4b2fd0\" xlink:type=\"simple\"><rect fill=\"#FFFFFF\" height=\"45.9375\" id=\"E2\" rx=\"10\" ry=\"10\" style=\"stroke: #383838; stroke-width: 1.5;\" width=\"42\" x=\"70\" y=\"253\"/><text fill=\"#000000\" font-family=\"sans-serif\" font-size=\"12\" font-style=\"italic\" lengthAdjust=\"spacingAndGlyphs\" textLength=\"40\" x=\"71\" y=\"269.1387\">«part»</text><text fill=\"#000000\" font-family=\"sans-serif\" font-size=\"12\" lengthAdjust=\"spacingAndGlyphs\" textLength=\"8\" x=\"87\" y=\"283.1074\">p</text><line style=\"stroke: #383838; stroke-width: 1.5;\" x1=\"71\" x2=\"111\" y1=\"290.9375\" y2=\"290.9375\"/></a><!--MD5=[09b614a08d8cba4a07c9adeb5e0fee81]\n",
       "class E3--><a href=\"psysml:3f2b8857-d9ea-41c6-bb7a-db05d1986c1a\" target=\"_top\" title=\"psysml:3f2b8857-d9ea-41c6-bb7a-db05d1986c1a\" xlink:actuate=\"onRequest\" xlink:href=\"psysml:3f2b8857-d9ea-41c6-bb7a-db05d1986c1a\" xlink:show=\"new\" xlink:title=\"psysml:3f2b8857-d9ea-41c6-bb7a-db05d1986c1a\" xlink:type=\"simple\"><rect fill=\"#FFFFFF\" height=\"45.9375\" id=\"E3\" rx=\"10\" ry=\"10\" style=\"stroke: #383838; stroke-width: 1.5;\" width=\"42\" x=\"70\" y=\"359\"/><text fill=\"#000000\" font-family=\"sans-serif\" font-size=\"12\" font-style=\"italic\" lengthAdjust=\"spacingAndGlyphs\" textLength=\"40\" x=\"71\" y=\"375.1387\">«part»</text><text fill=\"#000000\" font-family=\"sans-serif\" font-size=\"12\" lengthAdjust=\"spacingAndGlyphs\" textLength=\"6\" x=\"88\" y=\"389.1074\">x</text><line style=\"stroke: #383838; stroke-width: 1.5;\" x1=\"71\" x2=\"111\" y1=\"396.9375\" y2=\"396.9375\"/></a><!--MD5=[ebbe1d658d1005bcc118a6aa81145e00]\n",
       "class E4--><a href=\"psysml:e84cebed-6405-49c5-b413-5d504fb47cee\" target=\"_top\" title=\"psysml:e84cebed-6405-49c5-b413-5d504fb47cee\" xlink:actuate=\"onRequest\" xlink:href=\"psysml:e84cebed-6405-49c5-b413-5d504fb47cee\" xlink:show=\"new\" xlink:title=\"psysml:e84cebed-6405-49c5-b413-5d504fb47cee\" xlink:type=\"simple\"><rect fill=\"#FFFFFF\" height=\"45.9375\" id=\"E4\" rx=\"10\" ry=\"10\" style=\"stroke: #383838; stroke-width: 1.5;\" width=\"42\" x=\"70\" y=\"465\"/><text fill=\"#000000\" font-family=\"sans-serif\" font-size=\"12\" font-style=\"italic\" lengthAdjust=\"spacingAndGlyphs\" textLength=\"40\" x=\"71\" y=\"481.1387\">«part»</text><text fill=\"#000000\" font-family=\"sans-serif\" font-size=\"12\" lengthAdjust=\"spacingAndGlyphs\" textLength=\"14\" x=\"84\" y=\"495.1074\">x1</text><line style=\"stroke: #383838; stroke-width: 1.5;\" x1=\"71\" x2=\"111\" y1=\"502.9375\" y2=\"502.9375\"/></a><!--MD5=[270fce915f116d4de14055a7c1d9a0f3]\n",
       "class E5--><a href=\"psysml:ba7b03ba-afee-4a2c-95ba-c440e322d2ee\" target=\"_top\" title=\"psysml:ba7b03ba-afee-4a2c-95ba-c440e322d2ee\" xlink:actuate=\"onRequest\" xlink:href=\"psysml:ba7b03ba-afee-4a2c-95ba-c440e322d2ee\" xlink:show=\"new\" xlink:title=\"psysml:ba7b03ba-afee-4a2c-95ba-c440e322d2ee\" xlink:type=\"simple\"><rect fill=\"#FFFFFF\" height=\"45.9375\" id=\"E5\" style=\"stroke: #383838; stroke-width: 1.5;\" width=\"66\" x=\"58\" y=\"41\"/><text fill=\"#000000\" font-family=\"sans-serif\" font-size=\"12\" font-style=\"italic\" lengthAdjust=\"spacingAndGlyphs\" textLength=\"64\" x=\"59\" y=\"57.1387\">«part def»</text><text fill=\"#000000\" font-family=\"sans-serif\" font-size=\"12\" lengthAdjust=\"spacingAndGlyphs\" textLength=\"8\" x=\"87\" y=\"71.1074\">P</text><line style=\"stroke: #383838; stroke-width: 1.5;\" x1=\"59\" x2=\"123\" y1=\"78.9375\" y2=\"78.9375\"/></a><!--MD5=[60a26617385b1d2d0262a64233df1f8d]\n",
       "class E6--><a href=\"psysml:6b502337-597a-4c17-979b-8872526dd5b6\" target=\"_top\" title=\"psysml:6b502337-597a-4c17-979b-8872526dd5b6\" xlink:actuate=\"onRequest\" xlink:href=\"psysml:6b502337-597a-4c17-979b-8872526dd5b6\" xlink:show=\"new\" xlink:title=\"psysml:6b502337-597a-4c17-979b-8872526dd5b6\" xlink:type=\"simple\"><rect fill=\"#FFFFFF\" height=\"45.9375\" id=\"E6\" rx=\"10\" ry=\"10\" style=\"stroke: #383838; stroke-width: 1.5;\" width=\"42\" x=\"32\" y=\"147\"/><text fill=\"#000000\" font-family=\"sans-serif\" font-size=\"12\" font-style=\"italic\" lengthAdjust=\"spacingAndGlyphs\" textLength=\"40\" x=\"33\" y=\"163.1387\">«part»</text><text fill=\"#000000\" font-family=\"sans-serif\" font-size=\"12\" lengthAdjust=\"spacingAndGlyphs\" textLength=\"6\" x=\"50\" y=\"177.1074\">y</text><line style=\"stroke: #383838; stroke-width: 1.5;\" x1=\"33\" x2=\"73\" y1=\"184.9375\" y2=\"184.9375\"/></a><!--MD5=[2156ba9850f5573cc1fc38a6a4b2f02b]\n",
       "class E7--><a href=\"psysml:c0882630-04b8-4e6c-a043-bd39b4f2710a\" target=\"_top\" title=\"psysml:c0882630-04b8-4e6c-a043-bd39b4f2710a\" xlink:actuate=\"onRequest\" xlink:href=\"psysml:c0882630-04b8-4e6c-a043-bd39b4f2710a\" xlink:show=\"new\" xlink:title=\"psysml:c0882630-04b8-4e6c-a043-bd39b4f2710a\" xlink:type=\"simple\"><rect fill=\"#FFFFFF\" height=\"45.9375\" id=\"E7\" rx=\"10\" ry=\"10\" style=\"stroke: #383838; stroke-width: 1.5;\" width=\"42\" x=\"109\" y=\"147\"/><text fill=\"#000000\" font-family=\"sans-serif\" font-size=\"12\" font-style=\"italic\" lengthAdjust=\"spacingAndGlyphs\" textLength=\"40\" x=\"110\" y=\"163.1387\">«part»</text><text fill=\"#000000\" font-family=\"sans-serif\" font-size=\"12\" lengthAdjust=\"spacingAndGlyphs\" textLength=\"16\" x=\"122\" y=\"177.1074\">p1</text><line style=\"stroke: #383838; stroke-width: 1.5;\" x1=\"110\" x2=\"150\" y1=\"184.9375\" y2=\"184.9375\"/></a><!--MD5=[209b3feb70ccb6233bfe1053d122c12c]\n",
       "reverse link E2 to E3--><a href=\"psysml:d551e406-73fb-4a91-a080-fc440127a640\" target=\"_top\" title=\"psysml:d551e406-73fb-4a91-a080-fc440127a640\" xlink:actuate=\"onRequest\" xlink:href=\"psysml:d551e406-73fb-4a91-a080-fc440127a640\" xlink:show=\"new\" xlink:title=\"psysml:d551e406-73fb-4a91-a080-fc440127a640\" xlink:type=\"simple\"><path d=\"M91,312.44 C91,327.87 91,345.47 91,358.98 \" fill=\"none\" id=\"E2&lt;-E3\" style=\"stroke: #383838; stroke-width: 1.0;\"/><polygon fill=\"#383838\" points=\"91,299.06,87,305.06,91,311.06,95,305.06,91,299.06\" style=\"stroke: #383838; stroke-width: 1.0;\"/></a><!--MD5=[4672eba38e49728da53d11aeb285b987]\n",
       "reverse link E3 to E4--><a href=\"psysml:0c62ef63-43f3-4799-a069-927499b27fb4\" target=\"_top\" title=\"psysml:0c62ef63-43f3-4799-a069-927499b27fb4\" xlink:actuate=\"onRequest\" xlink:href=\"psysml:0c62ef63-43f3-4799-a069-927499b27fb4\" xlink:show=\"new\" xlink:title=\"psysml:0c62ef63-43f3-4799-a069-927499b27fb4\" xlink:type=\"simple\"><path d=\"M91,418.44 C91,433.87 91,451.47 91,464.98 \" fill=\"none\" id=\"E3&lt;-E4\" style=\"stroke: #383838; stroke-width: 1.0;\"/><polygon fill=\"#383838\" points=\"91,405.06,87,411.06,91,417.06,95,411.06,91,405.06\" style=\"stroke: #383838; stroke-width: 1.0;\"/></a><!--MD5=[85d356282659285ab4b2cfe2f634dd2b]\n",
       "reverse link E5 to E6--><a href=\"psysml:bccb9dd4-409f-48ce-8915-27f20628680f\" target=\"_top\" title=\"psysml:bccb9dd4-409f-48ce-8915-27f20628680f\" xlink:actuate=\"onRequest\" xlink:href=\"psysml:bccb9dd4-409f-48ce-8915-27f20628680f\" xlink:show=\"new\" xlink:title=\"psysml:bccb9dd4-409f-48ce-8915-27f20628680f\" xlink:type=\"simple\"><path d=\"M78.4,99.49 C72.68,115.15 66.08,133.19 61.05,146.98 \" fill=\"none\" id=\"E5&lt;-E6\" style=\"stroke: #383838; stroke-width: 1.0;\"/><polygon fill=\"#383838\" points=\"82.94,87.06,77.1196,91.317,78.8105,98.3271,84.6309,94.07,82.94,87.06\" style=\"stroke: #383838; stroke-width: 1.0;\"/></a><!--MD5=[2351f337d6de0f557b50152ba70847b5]\n",
       "link E6 to E2--><a href=\"psysml:3c2ac290-8ac1-4000-af3e-5bcf9ecf7966\" target=\"_top\" title=\"psysml:3c2ac290-8ac1-4000-af3e-5bcf9ecf7966\" xlink:actuate=\"onRequest\" xlink:href=\"psysml:3c2ac290-8ac1-4000-af3e-5bcf9ecf7966\" xlink:show=\"new\" xlink:title=\"psysml:3c2ac290-8ac1-4000-af3e-5bcf9ecf7966\" xlink:type=\"simple\"><path d=\"M61.06,193.06 C67.51,210.7 76.51,235.34 82.95,252.98 \" fill=\"none\" id=\"E6-E2\" style=\"stroke: #383838; stroke-width: 3.0;\"/></a><!--MD5=[452b418e7f8a40397a49b8c0a78acc5b]\n",
       "reverse link E5 to E7--><a href=\"psysml:97bf4e08-a4b3-492a-87d8-6adc842be5d3\" target=\"_top\" title=\"psysml:97bf4e08-a4b3-492a-87d8-6adc842be5d3\" xlink:actuate=\"onRequest\" xlink:href=\"psysml:97bf4e08-a4b3-492a-87d8-6adc842be5d3\" xlink:show=\"new\" xlink:title=\"psysml:97bf4e08-a4b3-492a-87d8-6adc842be5d3\" xlink:type=\"simple\"><path d=\"M103.94,99.49 C109.8,115.15 116.57,133.19 121.74,146.98 \" fill=\"none\" id=\"E5&lt;-E7\" style=\"stroke: #383838; stroke-width: 1.0;\"/><polygon fill=\"#383838\" points=\"99.27,87.06,97.635,94.0833,103.4893,98.2938,105.1242,91.2705,99.27,87.06\" style=\"stroke: #383838; stroke-width: 1.0;\"/></a><!--MD5=[583832df87f4419a098336a29a52fa00]\n",
       "link E7 to E2--><a href=\"psysml:6815ba90-0374-438b-ad93-53c34ddf71b8\" target=\"_top\" title=\"psysml:6815ba90-0374-438b-ad93-53c34ddf71b8\" xlink:actuate=\"onRequest\" xlink:href=\"psysml:6815ba90-0374-438b-ad93-53c34ddf71b8\" xlink:show=\"new\" xlink:title=\"psysml:6815ba90-0374-438b-ad93-53c34ddf71b8\" xlink:type=\"simple\"><path d=\"M121.73,193.06 C117.28,204.91 111.65,219.92 106.43,233.85 \" fill=\"none\" id=\"E7-&gt;E2\" style=\"stroke: #383838; stroke-width: 1.0;\"/><polygon fill=\"none\" points=\"112.84,236.71,99.26,252.98,99.73,231.79,112.84,236.71\" style=\"stroke: #383838; stroke-width: 1.0;\"/></a><!--MD5=[6389b15194fbed846445cabf1da3f436]\n",
       "@startuml\r\n",
       "skinparam linetype polyline\r\n",
       "skinparam monochrome true\r\n",
       "skinparam classbackgroundcolor white\r\n",
       "skinparam shadowing false\r\n",
       "skinparam wrapWidth 300\r\n",
       "hide circle\r\n",
       "\r\n",
       "package \"ConnectionTest\" as E1  [[psysml:22aef044-e637-4155-a6c9-7ceaf878199d ]]  {\r\n",
       "comp usage \"p\" as E2  <<(T,blue) part>> [[psysml:4372fe5d-a54c-4736-ace6-05c35a4b2fd0 ]] {\r\n",
       "}\r\n",
       "comp usage \"x\" as E3  <<(T,blue) part>> [[psysml:3f2b8857-d9ea-41c6-bb7a-db05d1986c1a ]] {\r\n",
       "}\r\n",
       "comp usage \"x1\" as E4  <<(T,blue) part>> [[psysml:e84cebed-6405-49c5-b413-5d504fb47cee ]] {\r\n",
       "}\r\n",
       "comp def \"P\" as E5  <<(T,blue) part def>> [[psysml:ba7b03ba-afee-4a2c-95ba-c440e322d2ee ]] {\r\n",
       "}\r\n",
       "comp usage \"y\" as E6  <<(T,blue) part>> [[psysml:6b502337-597a-4c17-979b-8872526dd5b6 ]] {\r\n",
       "}\r\n",
       "comp usage \"p1\" as E7  <<(T,blue) part>> [[psysml:c0882630-04b8-4e6c-a043-bd39b4f2710a ]] {\r\n",
       "}\r\n",
       "E2 *- - E3 [[psysml:d551e406-73fb-4a91-a080-fc440127a640 ]] \r\n",
       "E3 *- - E4 [[psysml:0c62ef63-43f3-4799-a069-927499b27fb4 ]] \r\n",
       "E5 *- - E6 [[psysml:bccb9dd4-409f-48ce-8915-27f20628680f ]] \r\n",
       "E6 -[thickness=3]- E2 [[psysml:3c2ac290-8ac1-4000-af3e-5bcf9ecf7966 ]] \r\n",
       "E5 *- - E7 [[psysml:97bf4e08-a4b3-492a-87d8-6adc842be5d3 ]] \r\n",
       "E7 - -|> E2 [[psysml:6815ba90-0374-438b-ad93-53c34ddf71b8 ]] \r\n",
       "}\r\n",
       "@enduml\r\n",
       "\n",
       "PlantUML version 1.2020.13(Sat Jun 13 12:26:38 UTC 2020)\n",
       "(EPL source distribution)\n",
       "Java Runtime: OpenJDK Runtime Environment\n",
       "JVM: OpenJDK 64-Bit Server VM\n",
       "Default Encoding: UTF-8\n",
       "Language: en\n",
       "Country: null\n",
       "--></g></svg>"
      ]
     },
     "execution_count": 10,
     "metadata": {},
     "output_type": "execute_result"
    }
   ],
   "source": [
    "%viz --style=\"POLYLINE\" --view=\"Tree\" \"ConnectionTest\""
   ]
  },
  {
   "cell_type": "code",
   "execution_count": 11,
   "id": "3d9a049d",
   "metadata": {
    "execution": {
     "iopub.execute_input": "2021-06-30T09:21:33.574732Z",
     "iopub.status.busy": "2021-06-30T09:21:33.574221Z",
     "iopub.status.idle": "2021-06-30T09:21:33.588066Z",
     "shell.execute_reply": "2021-06-30T09:21:33.586191Z"
    }
   },
   "outputs": [
    {
     "data": {
      "image/svg+xml": [
       "<?xml version=\"1.0\" encoding=\"UTF-8\" standalone=\"no\"?><svg xmlns=\"http://www.w3.org/2000/svg\" xmlns:xlink=\"http://www.w3.org/1999/xlink\" contentScriptType=\"application/ecmascript\" contentStyleType=\"text/css\" height=\"12px\" preserveAspectRatio=\"none\" style=\"width:12px;height:12px;\" version=\"1.1\" viewBox=\"0 0 12 12\" width=\"12px\" zoomAndPan=\"magnify\"><defs/><g><!--MD5=[896ac0e7a515d8dd7765a661cb4ee08b]\n",
       "@startuml\r\n",
       "skinparam linetype polyline\r\n",
       "skinparam monochrome true\r\n",
       "skinparam classbackgroundcolor white\r\n",
       "skinparam shadowing false\r\n",
       "skinparam wrapWidth 300\r\n",
       "hide circle\r\n",
       "\r\n",
       "@enduml\r\n",
       "\n",
       "PlantUML version 1.2020.13(Sat Jun 13 12:26:38 UTC 2020)\n",
       "(EPL source distribution)\n",
       "Java Runtime: OpenJDK Runtime Environment\n",
       "JVM: OpenJDK 64-Bit Server VM\n",
       "Default Encoding: UTF-8\n",
       "Language: en\n",
       "Country: null\n",
       "--></g></svg>"
      ]
     },
     "execution_count": 11,
     "metadata": {},
     "output_type": "execute_result"
    }
   ],
   "source": [
    "%viz --style=\"POLYLINE\" --view=\"State\" \"ConnectionTest\""
   ]
  },
  {
   "cell_type": "code",
   "execution_count": 12,
   "id": "54286494",
   "metadata": {
    "execution": {
     "iopub.execute_input": "2021-06-30T09:21:33.643156Z",
     "iopub.status.busy": "2021-06-30T09:21:33.642295Z",
     "iopub.status.idle": "2021-06-30T09:21:33.727579Z",
     "shell.execute_reply": "2021-06-30T09:21:33.726345Z"
    }
   },
   "outputs": [
    {
     "data": {
      "image/svg+xml": [
       "<?xml version=\"1.0\" encoding=\"UTF-8\" standalone=\"no\"?><svg xmlns=\"http://www.w3.org/2000/svg\" xmlns:xlink=\"http://www.w3.org/1999/xlink\" contentScriptType=\"application/ecmascript\" contentStyleType=\"text/css\" height=\"406px\" preserveAspectRatio=\"none\" style=\"width:509px;height:406px;\" version=\"1.1\" viewBox=\"0 0 509 406\" width=\"509px\" zoomAndPan=\"magnify\"><defs/><g><!--MD5=[fbc87193dbaf4d95561dea2c320d4a47]\n",
       "cluster E1--><a href=\"psysml:22aef044-e637-4155-a6c9-7ceaf878199d\" target=\"_top\" title=\"psysml:22aef044-e637-4155-a6c9-7ceaf878199d\" xlink:actuate=\"onRequest\" xlink:href=\"psysml:22aef044-e637-4155-a6c9-7ceaf878199d\" xlink:show=\"new\" xlink:title=\"psysml:22aef044-e637-4155-a6c9-7ceaf878199d\" xlink:type=\"simple\"><polygon fill=\"#FFFFFF\" points=\"16,6,147,6,154,28.2969,487,28.2969,487,394,16,394,16,6\" style=\"stroke: #000000; stroke-width: 1.5;\"/><line style=\"stroke: #000000; stroke-width: 1.5;\" x1=\"16\" x2=\"154\" y1=\"28.2969\" y2=\"28.2969\"/><text fill=\"#000000\" font-family=\"sans-serif\" font-size=\"14\" font-weight=\"bold\" lengthAdjust=\"spacingAndGlyphs\" textLength=\"125\" x=\"20\" y=\"20.9951\">ConnectionTest</text></a><!--MD5=[e4f7fae6ed58524ba242bb0b0d3be6b7]\n",
       "cluster E2--><a href=\"psysml:4372fe5d-a54c-4736-ace6-05c35a4b2fd0\" target=\"_top\" title=\"psysml:4372fe5d-a54c-4736-ace6-05c35a4b2fd0\" xlink:actuate=\"onRequest\" xlink:href=\"psysml:4372fe5d-a54c-4736-ace6-05c35a4b2fd0\" xlink:show=\"new\" xlink:title=\"psysml:4372fe5d-a54c-4736-ace6-05c35a4b2fd0\" xlink:type=\"simple\"><rect fill=\"#FFFFFF\" height=\"174\" id=\"E2\" rx=\"10\" ry=\"10\" style=\"stroke: #383838; stroke-width: 1.5;\" width=\"154\" x=\"301\" y=\"164\"/><rect fill=\"#F8F8F8\" height=\"23.9688\" rx=\"10\" ry=\"10\" style=\"stroke: #F8F8F8; stroke-width: 1.5;\" width=\"154\" x=\"301\" y=\"164\"/><rect fill=\"#F8F8F8\" height=\"10\" style=\"stroke: #F8F8F8; stroke-width: 1.5;\" width=\"154\" x=\"301\" y=\"177.9688\"/><rect fill=\"none\" height=\"174\" id=\"E2\" rx=\"10\" ry=\"10\" style=\"stroke: #383838; stroke-width: 1.5;\" width=\"154\" x=\"301\" y=\"164\"/><text fill=\"#000000\" font-family=\"sans-serif\" font-size=\"12\" lengthAdjust=\"spacingAndGlyphs\" textLength=\"8\" x=\"374\" y=\"180.1387\">p</text><line style=\"stroke: #383838; stroke-width: 1.0;\" x1=\"301\" x2=\"455\" y1=\"187.9688\" y2=\"187.9688\"/></a><!--MD5=[d5e69f78d87373223dbae638b30a9c99]\n",
       "cluster E3--><a href=\"psysml:3f2b8857-d9ea-41c6-bb7a-db05d1986c1a\" target=\"_top\" title=\"psysml:3f2b8857-d9ea-41c6-bb7a-db05d1986c1a\" xlink:actuate=\"onRequest\" xlink:href=\"psysml:3f2b8857-d9ea-41c6-bb7a-db05d1986c1a\" xlink:show=\"new\" xlink:title=\"psysml:3f2b8857-d9ea-41c6-bb7a-db05d1986c1a\" xlink:type=\"simple\"><rect fill=\"#FFFFFF\" height=\"91\" id=\"E3\" rx=\"10\" ry=\"10\" style=\"stroke: #383838; stroke-width: 1.5;\" width=\"82\" x=\"341\" y=\"215\"/><rect fill=\"#F8F8F8\" height=\"23.9688\" rx=\"10\" ry=\"10\" style=\"stroke: #F8F8F8; stroke-width: 1.5;\" width=\"82\" x=\"341\" y=\"215\"/><rect fill=\"#F8F8F8\" height=\"10\" style=\"stroke: #F8F8F8; stroke-width: 1.5;\" width=\"82\" x=\"341\" y=\"228.9688\"/><rect fill=\"none\" height=\"91\" id=\"E3\" rx=\"10\" ry=\"10\" style=\"stroke: #383838; stroke-width: 1.5;\" width=\"82\" x=\"341\" y=\"215\"/><text fill=\"#000000\" font-family=\"sans-serif\" font-size=\"12\" lengthAdjust=\"spacingAndGlyphs\" textLength=\"6\" x=\"379\" y=\"231.1387\">x</text><line style=\"stroke: #383838; stroke-width: 1.0;\" x1=\"341\" x2=\"423\" y1=\"238.9688\" y2=\"238.9688\"/></a><!--MD5=[de5ec2e2e8f62f467e546659f5068c88]\n",
       "cluster E5--><a href=\"psysml:ba7b03ba-afee-4a2c-95ba-c440e322d2ee\" target=\"_top\" title=\"psysml:ba7b03ba-afee-4a2c-95ba-c440e322d2ee\" xlink:actuate=\"onRequest\" xlink:href=\"psysml:ba7b03ba-afee-4a2c-95ba-c440e322d2ee\" xlink:show=\"new\" xlink:title=\"psysml:ba7b03ba-afee-4a2c-95ba-c440e322d2ee\" xlink:type=\"simple\"><rect fill=\"#FFFFFF\" height=\"321\" id=\"E5\" style=\"stroke: #383838; stroke-width: 1.5;\" width=\"229\" x=\"40\" y=\"49\"/><rect fill=\"#F8F8F8\" height=\"37.9375\" style=\"stroke: #383838; stroke-width: 1.5;\" width=\"229\" x=\"40\" y=\"49\"/><text fill=\"#000000\" font-family=\"sans-serif\" font-size=\"12\" font-style=\"italic\" lengthAdjust=\"spacingAndGlyphs\" textLength=\"64\" x=\"122.5\" y=\"65.1387\">«part def»</text><text fill=\"#000000\" font-family=\"sans-serif\" font-size=\"12\" lengthAdjust=\"spacingAndGlyphs\" textLength=\"8\" x=\"150.5\" y=\"79.1074\">P</text></a><!--MD5=[168fadf3d0c3fd93dd5d6da1b1d7ab76]\n",
       "cluster E7--><a href=\"psysml:c0882630-04b8-4e6c-a043-bd39b4f2710a\" target=\"_top\" title=\"psysml:c0882630-04b8-4e6c-a043-bd39b4f2710a\" xlink:actuate=\"onRequest\" xlink:href=\"psysml:c0882630-04b8-4e6c-a043-bd39b4f2710a\" xlink:show=\"new\" xlink:title=\"psysml:c0882630-04b8-4e6c-a043-bd39b4f2710a\" xlink:type=\"simple\"><rect fill=\"#FFFFFF\" height=\"190\" id=\"E7\" rx=\"10\" ry=\"10\" style=\"stroke: #383838; stroke-width: 1.5;\" width=\"181\" x=\"64\" y=\"156\"/><rect fill=\"#F8F8F8\" height=\"23.9688\" rx=\"10\" ry=\"10\" style=\"stroke: #F8F8F8; stroke-width: 1.5;\" width=\"181\" x=\"64\" y=\"156\"/><rect fill=\"#F8F8F8\" height=\"10\" style=\"stroke: #F8F8F8; stroke-width: 1.5;\" width=\"181\" x=\"64\" y=\"169.9688\"/><rect fill=\"none\" height=\"190\" id=\"E7\" rx=\"10\" ry=\"10\" style=\"stroke: #383838; stroke-width: 1.5;\" width=\"181\" x=\"64\" y=\"156\"/><text fill=\"#000000\" font-family=\"sans-serif\" font-size=\"12\" lengthAdjust=\"spacingAndGlyphs\" textLength=\"16\" x=\"146.5\" y=\"172.1387\">p1</text><line style=\"stroke: #383838; stroke-width: 1.0;\" x1=\"64\" x2=\"245\" y1=\"179.9688\" y2=\"179.9688\"/></a><!--MD5=[55dfccfc6c49c2d10cd1bd2211a6c90c]\n",
       "cluster E8--><a href=\"psysml:3f2b8857-d9ea-41c6-bb7a-db05d1986c1a\" target=\"_top\" title=\"psysml:3f2b8857-d9ea-41c6-bb7a-db05d1986c1a\" xlink:actuate=\"onRequest\" xlink:href=\"psysml:3f2b8857-d9ea-41c6-bb7a-db05d1986c1a\" xlink:show=\"new\" xlink:title=\"psysml:3f2b8857-d9ea-41c6-bb7a-db05d1986c1a\" xlink:type=\"simple\"><rect fill=\"#FFFFFF\" height=\"107\" id=\"E8\" rx=\"10\" ry=\"10\" style=\"stroke: #383838; stroke-width: 1.5;\" width=\"117\" x=\"96\" y=\"207\"/><rect fill=\"#F8F8F8\" height=\"23.9688\" rx=\"10\" ry=\"10\" style=\"stroke: #F8F8F8; stroke-width: 1.5;\" width=\"117\" x=\"96\" y=\"207\"/><rect fill=\"#F8F8F8\" height=\"10\" style=\"stroke: #F8F8F8; stroke-width: 1.5;\" width=\"117\" x=\"96\" y=\"220.9688\"/><rect fill=\"none\" height=\"107\" id=\"E8\" rx=\"10\" ry=\"10\" style=\"stroke: #383838; stroke-width: 1.5;\" width=\"117\" x=\"96\" y=\"207\"/><text fill=\"#000000\" font-family=\"sans-serif\" font-size=\"12\" lengthAdjust=\"spacingAndGlyphs\" textLength=\"16\" x=\"146.5\" y=\"223.1387\">^x</text><line style=\"stroke: #383838; stroke-width: 1.0;\" x1=\"96\" x2=\"213\" y1=\"230.9688\" y2=\"230.9688\"/></a><g id=\"E1.E2.E3.E4\"><a href=\"psysml:e84cebed-6405-49c5-b413-5d504fb47cee\" target=\"_top\" title=\"psysml:e84cebed-6405-49c5-b413-5d504fb47cee\" xlink:actuate=\"onRequest\" xlink:href=\"psysml:e84cebed-6405-49c5-b413-5d504fb47cee\" xlink:show=\"new\" xlink:title=\"psysml:e84cebed-6405-49c5-b413-5d504fb47cee\" xlink:type=\"simple\"><rect fill=\"#FFFFFF\" height=\"40\" id=\"E4\" rx=\"10\" ry=\"10\" style=\"stroke: #383838; stroke-width: 1.5;\" width=\"50\" x=\"357\" y=\"250\"/><rect fill=\"#F8F8F8\" height=\"23.9688\" rx=\"10\" ry=\"10\" style=\"stroke: #F8F8F8; stroke-width: 1.5;\" width=\"50\" x=\"357\" y=\"250\"/><rect fill=\"#F8F8F8\" height=\"10\" style=\"stroke: #F8F8F8; stroke-width: 1.5;\" width=\"50\" x=\"357\" y=\"263.9688\"/><rect fill=\"none\" height=\"40\" id=\"E4\" rx=\"10\" ry=\"10\" style=\"stroke: #383838; stroke-width: 1.5;\" width=\"50\" x=\"357\" y=\"250\"/><text fill=\"#000000\" font-family=\"sans-serif\" font-size=\"12\" lengthAdjust=\"spacingAndGlyphs\" textLength=\"14\" x=\"375\" y=\"266.1387\">x1</text></a></g><g id=\"E1.E5.E6\"><a href=\"psysml:6b502337-597a-4c17-979b-8872526dd5b6\" target=\"_top\" title=\"psysml:6b502337-597a-4c17-979b-8872526dd5b6\" xlink:actuate=\"onRequest\" xlink:href=\"psysml:6b502337-597a-4c17-979b-8872526dd5b6\" xlink:show=\"new\" xlink:title=\"psysml:6b502337-597a-4c17-979b-8872526dd5b6\" xlink:type=\"simple\"><rect fill=\"#FFFFFF\" height=\"40\" id=\"E6\" rx=\"10\" ry=\"10\" style=\"stroke: #383838; stroke-width: 1.5;\" width=\"50\" x=\"139\" y=\"100\"/><rect fill=\"#F8F8F8\" height=\"23.9688\" rx=\"10\" ry=\"10\" style=\"stroke: #F8F8F8; stroke-width: 1.5;\" width=\"50\" x=\"139\" y=\"100\"/><rect fill=\"#F8F8F8\" height=\"10\" style=\"stroke: #F8F8F8; stroke-width: 1.5;\" width=\"50\" x=\"139\" y=\"113.9688\"/><rect fill=\"none\" height=\"40\" id=\"E6\" rx=\"10\" ry=\"10\" style=\"stroke: #383838; stroke-width: 1.5;\" width=\"50\" x=\"139\" y=\"100\"/><text fill=\"#000000\" font-family=\"sans-serif\" font-size=\"12\" lengthAdjust=\"spacingAndGlyphs\" textLength=\"6\" x=\"161\" y=\"116.1387\">y</text></a></g><g id=\"E1.E5.E7.E8.E9\"><a href=\"psysml:e84cebed-6405-49c5-b413-5d504fb47cee\" target=\"_top\" title=\"psysml:e84cebed-6405-49c5-b413-5d504fb47cee\" xlink:actuate=\"onRequest\" xlink:href=\"psysml:e84cebed-6405-49c5-b413-5d504fb47cee\" xlink:show=\"new\" xlink:title=\"psysml:e84cebed-6405-49c5-b413-5d504fb47cee\" xlink:type=\"simple\"><rect fill=\"#FFFFFF\" height=\"40\" id=\"E9\" rx=\"10\" ry=\"10\" style=\"stroke: #383838; stroke-width: 1.5;\" width=\"50\" x=\"139\" y=\"250\"/><rect fill=\"#F8F8F8\" height=\"23.9688\" rx=\"10\" ry=\"10\" style=\"stroke: #F8F8F8; stroke-width: 1.5;\" width=\"50\" x=\"139\" y=\"250\"/><rect fill=\"#F8F8F8\" height=\"10\" style=\"stroke: #F8F8F8; stroke-width: 1.5;\" width=\"50\" x=\"139\" y=\"263.9688\"/><rect fill=\"none\" height=\"40\" id=\"E9\" rx=\"10\" ry=\"10\" style=\"stroke: #383838; stroke-width: 1.5;\" width=\"50\" x=\"139\" y=\"250\"/><text fill=\"#000000\" font-family=\"sans-serif\" font-size=\"12\" lengthAdjust=\"spacingAndGlyphs\" textLength=\"14\" x=\"157\" y=\"266.1387\">x1</text></a></g><!--MD5=[2351f337d6de0f557b50152ba70847b5]\n",
       "link E6 to E2--><a href=\"psysml:3c2ac290-8ac1-4000-af3e-5bcf9ecf7966\" target=\"_top\" title=\"psysml:3c2ac290-8ac1-4000-af3e-5bcf9ecf7966\" xlink:actuate=\"onRequest\" xlink:href=\"psysml:3c2ac290-8ac1-4000-af3e-5bcf9ecf7966\" xlink:show=\"new\" xlink:title=\"psysml:3c2ac290-8ac1-4000-af3e-5bcf9ecf7966\" xlink:type=\"simple\"><path d=\"M189.27,137.64 C197.7,143.19 205,148 205,148 C205,148 230.195,177.3125 255.7825,207.0825 C268.5763,221.9675 281.4681,236.9669 291.3578,248.4738 C293.8302,251.3505 296.115,254.0089 298.1637,256.3927 C298.6759,256.9887 299.1733,257.5674 299.6552,258.1282 C299.8962,258.4085 300.1333,258.6844 300.3664,258.9556 C300.4829,259.0913 300.5985,259.2257 300.713,259.359 \" fill=\"none\" id=\"E6-E2\" style=\"stroke: #383838; stroke-width: 3.0;\"/></a><!--MD5=[0a839d0f80c2d72d4b9b307f046d0de8]\n",
       "link E6 to E8--><a href=\"psysml:75c884b3-4954-4983-bf4e-b524958cba22\" target=\"_top\" title=\"psysml:75c884b3-4954-4983-bf4e-b524958cba22\" xlink:actuate=\"onRequest\" xlink:href=\"psysml:75c884b3-4954-4983-bf4e-b524958cba22\" xlink:show=\"new\" xlink:title=\"psysml:75c884b3-4954-4983-bf4e-b524958cba22\" xlink:type=\"simple\"><path d=\"M138.73,137.64 C130.3,143.19 123,148 123,148 C123,148 121.8494,155.3281 120.1144,166.3775 C119.2469,171.9022 118.2333,178.3572 117.1444,185.2916 C116.5999,188.7589 116.0366,192.346 115.4634,195.9966 C115.1767,197.8219 114.8876,199.663 114.5971,201.513 C114.4518,202.438 114.3062,203.3652 114.1604,204.2938 C114.0875,204.7581 114.0146,205.2227 113.9416,205.6875 C113.9051,205.9199 113.8686,206.1524 113.8321,206.3849 \" fill=\"none\" id=\"E6-E8\" style=\"stroke: #383838; stroke-width: 3.0;\"/></a><!--MD5=[8ae21a5272e5f5a2f0d855d545cbd16c]\n",
       "link E6 to E9--><a href=\"psysml:ec977721-0260-4bea-8651-1724c0f568d2\" target=\"_top\" title=\"psysml:ec977721-0260-4bea-8651-1724c0f568d2\" xlink:actuate=\"onRequest\" xlink:href=\"psysml:ec977721-0260-4bea-8651-1724c0f568d2\" xlink:show=\"new\" xlink:title=\"psysml:ec977721-0260-4bea-8651-1724c0f568d2\" xlink:type=\"simple\"><path d=\"M164,140.05 C164,168.31 164,221.07 164,249.56 \" fill=\"none\" id=\"E6-E9\" style=\"stroke: #383838; stroke-width: 3.0;\"/></a><!--MD5=[ca1961e363b4cad17a8b9606d23e41bf]\n",
       "@startuml\r\n",
       "skinparam ranksep 10\r\n",
       "skinparam rectangle {\r\n",
       " backgroundColor<<block>> LightGreen\r\n",
       "}\r\n",
       "skinparam linetype polyline\r\n",
       "skinparam monochrome true\r\n",
       "skinparam classbackgroundcolor white\r\n",
       "skinparam shadowing false\r\n",
       "skinparam wrapWidth 300\r\n",
       "hide circle\r\n",
       "\r\n",
       "package \"ConnectionTest\" as E1  [[psysml:22aef044-e637-4155-a6c9-7ceaf878199d ]]  {\r\n",
       "rec usage \"p\" as E2  [[psysml:4372fe5d-a54c-4736-ace6-05c35a4b2fd0 ]] {\r\n",
       "rec usage \"x\" as E3  [[psysml:3f2b8857-d9ea-41c6-bb7a-db05d1986c1a ]] {\r\n",
       "rec usage \"x1\" as E4  [[psysml:e84cebed-6405-49c5-b413-5d504fb47cee ]] {\r\n",
       "}\r\n",
       "}\r\n",
       "}\r\n",
       "rec def \"P\" as E5  <<(T,blue) part def>> [[psysml:ba7b03ba-afee-4a2c-95ba-c440e322d2ee ]] {\r\n",
       "rec usage \"y\" as E6  [[psysml:6b502337-597a-4c17-979b-8872526dd5b6 ]] {\r\n",
       "}\r\n",
       "rec usage \"p1\" as E7  [[psysml:c0882630-04b8-4e6c-a043-bd39b4f2710a ]] {\r\n",
       "rec usage \"^x\" as E8  [[psysml:3f2b8857-d9ea-41c6-bb7a-db05d1986c1a ]] {\r\n",
       "rec usage \"x1\" as E9  [[psysml:e84cebed-6405-49c5-b413-5d504fb47cee ]] {\r\n",
       "}\r\n",
       "}\r\n",
       "}\r\n",
       "}\r\n",
       "E6 -[thickness=3]- E2 [[psysml:3c2ac290-8ac1-4000-af3e-5bcf9ecf7966 ]] \r\n",
       "E6 -[thickness=3]- E8 [[psysml:75c884b3-4954-4983-bf4e-b524958cba22 ]] \r\n",
       "E6 -[thickness=3]- E9 [[psysml:ec977721-0260-4bea-8651-1724c0f568d2 ]] \r\n",
       "}\r\n",
       "@enduml\r\n",
       "\n",
       "PlantUML version 1.2020.13(Sat Jun 13 12:26:38 UTC 2020)\n",
       "(EPL source distribution)\n",
       "Java Runtime: OpenJDK Runtime Environment\n",
       "JVM: OpenJDK 64-Bit Server VM\n",
       "Default Encoding: UTF-8\n",
       "Language: en\n",
       "Country: null\n",
       "--></g></svg>"
      ]
     },
     "execution_count": 12,
     "metadata": {},
     "output_type": "execute_result"
    }
   ],
   "source": [
    "%viz --style=\"POLYLINE\" --view=\"Interconnection\" \"ConnectionTest\""
   ]
  },
  {
   "cell_type": "code",
   "execution_count": 13,
   "id": "95b8bd53",
   "metadata": {
    "execution": {
     "iopub.execute_input": "2021-06-30T09:21:33.781359Z",
     "iopub.status.busy": "2021-06-30T09:21:33.780567Z",
     "iopub.status.idle": "2021-06-30T09:21:33.804713Z",
     "shell.execute_reply": "2021-06-30T09:21:33.803920Z"
    }
   },
   "outputs": [
    {
     "data": {
      "image/svg+xml": [
       "<?xml version=\"1.0\" encoding=\"UTF-8\" standalone=\"no\"?><svg xmlns=\"http://www.w3.org/2000/svg\" xmlns:xlink=\"http://www.w3.org/1999/xlink\" contentScriptType=\"application/ecmascript\" contentStyleType=\"text/css\" height=\"12px\" preserveAspectRatio=\"none\" style=\"width:12px;height:12px;\" version=\"1.1\" viewBox=\"0 0 12 12\" width=\"12px\" zoomAndPan=\"magnify\"><defs/><g><!--MD5=[97bbf32f66ccd50cbc40d92ea8f5a65e]\n",
       "@startuml\r\n",
       "skinparam ranksep 8\r\n",
       "skinparam linetype polyline\r\n",
       "skinparam monochrome true\r\n",
       "skinparam classbackgroundcolor white\r\n",
       "skinparam shadowing false\r\n",
       "skinparam wrapWidth 300\r\n",
       "hide circle\r\n",
       "\r\n",
       "@enduml\r\n",
       "\n",
       "PlantUML version 1.2020.13(Sat Jun 13 12:26:38 UTC 2020)\n",
       "(EPL source distribution)\n",
       "Java Runtime: OpenJDK Runtime Environment\n",
       "JVM: OpenJDK 64-Bit Server VM\n",
       "Default Encoding: UTF-8\n",
       "Language: en\n",
       "Country: null\n",
       "--></g></svg>"
      ]
     },
     "execution_count": 13,
     "metadata": {},
     "output_type": "execute_result"
    }
   ],
   "source": [
    "%viz --style=\"POLYLINE\" --view=\"Action\" \"ConnectionTest\""
   ]
  },
  {
   "cell_type": "code",
   "execution_count": 14,
   "id": "9f0d6934",
   "metadata": {
    "execution": {
     "iopub.execute_input": "2021-06-30T09:21:33.859573Z",
     "iopub.status.busy": "2021-06-30T09:21:33.858660Z",
     "iopub.status.idle": "2021-06-30T09:21:33.927726Z",
     "shell.execute_reply": "2021-06-30T09:21:33.926693Z"
    }
   },
   "outputs": [
    {
     "data": {
      "image/svg+xml": [
       "<?xml version=\"1.0\" encoding=\"UTF-8\" standalone=\"no\"?><svg xmlns=\"http://www.w3.org/2000/svg\" xmlns:xlink=\"http://www.w3.org/1999/xlink\" contentScriptType=\"application/ecmascript\" contentStyleType=\"text/css\" height=\"539px\" preserveAspectRatio=\"none\" style=\"width:189px;height:539px;\" version=\"1.1\" viewBox=\"0 0 189 539\" width=\"189px\" zoomAndPan=\"magnify\"><defs/><g><!--MD5=[fbc87193dbaf4d95561dea2c320d4a47]\n",
       "cluster E1--><a href=\"psysml:22aef044-e637-4155-a6c9-7ceaf878199d\" target=\"_top\" title=\"psysml:22aef044-e637-4155-a6c9-7ceaf878199d\" xlink:actuate=\"onRequest\" xlink:href=\"psysml:22aef044-e637-4155-a6c9-7ceaf878199d\" xlink:show=\"new\" xlink:title=\"psysml:22aef044-e637-4155-a6c9-7ceaf878199d\" xlink:type=\"simple\"><polygon fill=\"#FFFFFF\" points=\"16,6,147,6,154,28.2969,167,28.2969,167,527,16,527,16,6\" style=\"stroke: #000000; stroke-width: 1.5;\"/><line style=\"stroke: #000000; stroke-width: 1.5;\" x1=\"16\" x2=\"154\" y1=\"28.2969\" y2=\"28.2969\"/><text fill=\"#000000\" font-family=\"sans-serif\" font-size=\"14\" font-weight=\"bold\" lengthAdjust=\"spacingAndGlyphs\" textLength=\"125\" x=\"20\" y=\"20.9951\">ConnectionTest</text></a><!--MD5=[b4997ac47864f28c2f74865a473b2911]\n",
       "class E2--><a href=\"psysml:4372fe5d-a54c-4736-ace6-05c35a4b2fd0\" target=\"_top\" title=\"psysml:4372fe5d-a54c-4736-ace6-05c35a4b2fd0\" xlink:actuate=\"onRequest\" xlink:href=\"psysml:4372fe5d-a54c-4736-ace6-05c35a4b2fd0\" xlink:show=\"new\" xlink:title=\"psysml:4372fe5d-a54c-4736-ace6-05c35a4b2fd0\" xlink:type=\"simple\"><rect fill=\"#FFFFFF\" height=\"45.9375\" id=\"E2\" rx=\"10\" ry=\"10\" style=\"stroke: #383838; stroke-width: 1.5;\" width=\"42\" x=\"70\" y=\"253\"/><text fill=\"#000000\" font-family=\"sans-serif\" font-size=\"12\" font-style=\"italic\" lengthAdjust=\"spacingAndGlyphs\" textLength=\"40\" x=\"71\" y=\"269.1387\">«part»</text><text fill=\"#000000\" font-family=\"sans-serif\" font-size=\"12\" lengthAdjust=\"spacingAndGlyphs\" textLength=\"8\" x=\"87\" y=\"283.1074\">p</text><line style=\"stroke: #383838; stroke-width: 1.5;\" x1=\"71\" x2=\"111\" y1=\"290.9375\" y2=\"290.9375\"/></a><!--MD5=[09b614a08d8cba4a07c9adeb5e0fee81]\n",
       "class E3--><a href=\"psysml:3f2b8857-d9ea-41c6-bb7a-db05d1986c1a\" target=\"_top\" title=\"psysml:3f2b8857-d9ea-41c6-bb7a-db05d1986c1a\" xlink:actuate=\"onRequest\" xlink:href=\"psysml:3f2b8857-d9ea-41c6-bb7a-db05d1986c1a\" xlink:show=\"new\" xlink:title=\"psysml:3f2b8857-d9ea-41c6-bb7a-db05d1986c1a\" xlink:type=\"simple\"><rect fill=\"#FFFFFF\" height=\"45.9375\" id=\"E3\" rx=\"10\" ry=\"10\" style=\"stroke: #383838; stroke-width: 1.5;\" width=\"42\" x=\"70\" y=\"359\"/><text fill=\"#000000\" font-family=\"sans-serif\" font-size=\"12\" font-style=\"italic\" lengthAdjust=\"spacingAndGlyphs\" textLength=\"40\" x=\"71\" y=\"375.1387\">«part»</text><text fill=\"#000000\" font-family=\"sans-serif\" font-size=\"12\" lengthAdjust=\"spacingAndGlyphs\" textLength=\"6\" x=\"88\" y=\"389.1074\">x</text><line style=\"stroke: #383838; stroke-width: 1.5;\" x1=\"71\" x2=\"111\" y1=\"396.9375\" y2=\"396.9375\"/></a><!--MD5=[ebbe1d658d1005bcc118a6aa81145e00]\n",
       "class E4--><a href=\"psysml:e84cebed-6405-49c5-b413-5d504fb47cee\" target=\"_top\" title=\"psysml:e84cebed-6405-49c5-b413-5d504fb47cee\" xlink:actuate=\"onRequest\" xlink:href=\"psysml:e84cebed-6405-49c5-b413-5d504fb47cee\" xlink:show=\"new\" xlink:title=\"psysml:e84cebed-6405-49c5-b413-5d504fb47cee\" xlink:type=\"simple\"><rect fill=\"#FFFFFF\" height=\"45.9375\" id=\"E4\" rx=\"10\" ry=\"10\" style=\"stroke: #383838; stroke-width: 1.5;\" width=\"42\" x=\"70\" y=\"465\"/><text fill=\"#000000\" font-family=\"sans-serif\" font-size=\"12\" font-style=\"italic\" lengthAdjust=\"spacingAndGlyphs\" textLength=\"40\" x=\"71\" y=\"481.1387\">«part»</text><text fill=\"#000000\" font-family=\"sans-serif\" font-size=\"12\" lengthAdjust=\"spacingAndGlyphs\" textLength=\"14\" x=\"84\" y=\"495.1074\">x1</text><line style=\"stroke: #383838; stroke-width: 1.5;\" x1=\"71\" x2=\"111\" y1=\"502.9375\" y2=\"502.9375\"/></a><!--MD5=[270fce915f116d4de14055a7c1d9a0f3]\n",
       "class E5--><a href=\"psysml:ba7b03ba-afee-4a2c-95ba-c440e322d2ee\" target=\"_top\" title=\"psysml:ba7b03ba-afee-4a2c-95ba-c440e322d2ee\" xlink:actuate=\"onRequest\" xlink:href=\"psysml:ba7b03ba-afee-4a2c-95ba-c440e322d2ee\" xlink:show=\"new\" xlink:title=\"psysml:ba7b03ba-afee-4a2c-95ba-c440e322d2ee\" xlink:type=\"simple\"><rect fill=\"#FFFFFF\" height=\"45.9375\" id=\"E5\" style=\"stroke: #383838; stroke-width: 1.5;\" width=\"66\" x=\"58\" y=\"41\"/><text fill=\"#000000\" font-family=\"sans-serif\" font-size=\"12\" font-style=\"italic\" lengthAdjust=\"spacingAndGlyphs\" textLength=\"64\" x=\"59\" y=\"57.1387\">«part def»</text><text fill=\"#000000\" font-family=\"sans-serif\" font-size=\"12\" lengthAdjust=\"spacingAndGlyphs\" textLength=\"8\" x=\"87\" y=\"71.1074\">P</text><line style=\"stroke: #383838; stroke-width: 1.5;\" x1=\"59\" x2=\"123\" y1=\"78.9375\" y2=\"78.9375\"/></a><!--MD5=[60a26617385b1d2d0262a64233df1f8d]\n",
       "class E6--><a href=\"psysml:6b502337-597a-4c17-979b-8872526dd5b6\" target=\"_top\" title=\"psysml:6b502337-597a-4c17-979b-8872526dd5b6\" xlink:actuate=\"onRequest\" xlink:href=\"psysml:6b502337-597a-4c17-979b-8872526dd5b6\" xlink:show=\"new\" xlink:title=\"psysml:6b502337-597a-4c17-979b-8872526dd5b6\" xlink:type=\"simple\"><rect fill=\"#FFFFFF\" height=\"45.9375\" id=\"E6\" rx=\"10\" ry=\"10\" style=\"stroke: #383838; stroke-width: 1.5;\" width=\"42\" x=\"32\" y=\"147\"/><text fill=\"#000000\" font-family=\"sans-serif\" font-size=\"12\" font-style=\"italic\" lengthAdjust=\"spacingAndGlyphs\" textLength=\"40\" x=\"33\" y=\"163.1387\">«part»</text><text fill=\"#000000\" font-family=\"sans-serif\" font-size=\"12\" lengthAdjust=\"spacingAndGlyphs\" textLength=\"6\" x=\"50\" y=\"177.1074\">y</text><line style=\"stroke: #383838; stroke-width: 1.5;\" x1=\"33\" x2=\"73\" y1=\"184.9375\" y2=\"184.9375\"/></a><!--MD5=[2156ba9850f5573cc1fc38a6a4b2f02b]\n",
       "class E7--><a href=\"psysml:c0882630-04b8-4e6c-a043-bd39b4f2710a\" target=\"_top\" title=\"psysml:c0882630-04b8-4e6c-a043-bd39b4f2710a\" xlink:actuate=\"onRequest\" xlink:href=\"psysml:c0882630-04b8-4e6c-a043-bd39b4f2710a\" xlink:show=\"new\" xlink:title=\"psysml:c0882630-04b8-4e6c-a043-bd39b4f2710a\" xlink:type=\"simple\"><rect fill=\"#FFFFFF\" height=\"45.9375\" id=\"E7\" rx=\"10\" ry=\"10\" style=\"stroke: #383838; stroke-width: 1.5;\" width=\"42\" x=\"109\" y=\"147\"/><text fill=\"#000000\" font-family=\"sans-serif\" font-size=\"12\" font-style=\"italic\" lengthAdjust=\"spacingAndGlyphs\" textLength=\"40\" x=\"110\" y=\"163.1387\">«part»</text><text fill=\"#000000\" font-family=\"sans-serif\" font-size=\"12\" lengthAdjust=\"spacingAndGlyphs\" textLength=\"16\" x=\"122\" y=\"177.1074\">p1</text><line style=\"stroke: #383838; stroke-width: 1.5;\" x1=\"110\" x2=\"150\" y1=\"184.9375\" y2=\"184.9375\"/></a><!--MD5=[209b3feb70ccb6233bfe1053d122c12c]\n",
       "reverse link E2 to E3--><a href=\"psysml:d551e406-73fb-4a91-a080-fc440127a640\" target=\"_top\" title=\"psysml:d551e406-73fb-4a91-a080-fc440127a640\" xlink:actuate=\"onRequest\" xlink:href=\"psysml:d551e406-73fb-4a91-a080-fc440127a640\" xlink:show=\"new\" xlink:title=\"psysml:d551e406-73fb-4a91-a080-fc440127a640\" xlink:type=\"simple\"><path d=\"M91,312.44 C91,327.87 91,345.47 91,358.98 \" fill=\"none\" id=\"E2&lt;-E3\" style=\"stroke: #383838; stroke-width: 1.0;\"/><polygon fill=\"#383838\" points=\"91,299.06,87,305.06,91,311.06,95,305.06,91,299.06\" style=\"stroke: #383838; stroke-width: 1.0;\"/></a><!--MD5=[4672eba38e49728da53d11aeb285b987]\n",
       "reverse link E3 to E4--><a href=\"psysml:0c62ef63-43f3-4799-a069-927499b27fb4\" target=\"_top\" title=\"psysml:0c62ef63-43f3-4799-a069-927499b27fb4\" xlink:actuate=\"onRequest\" xlink:href=\"psysml:0c62ef63-43f3-4799-a069-927499b27fb4\" xlink:show=\"new\" xlink:title=\"psysml:0c62ef63-43f3-4799-a069-927499b27fb4\" xlink:type=\"simple\"><path d=\"M91,418.44 C91,433.87 91,451.47 91,464.98 \" fill=\"none\" id=\"E3&lt;-E4\" style=\"stroke: #383838; stroke-width: 1.0;\"/><polygon fill=\"#383838\" points=\"91,405.06,87,411.06,91,417.06,95,411.06,91,405.06\" style=\"stroke: #383838; stroke-width: 1.0;\"/></a><!--MD5=[85d356282659285ab4b2cfe2f634dd2b]\n",
       "reverse link E5 to E6--><a href=\"psysml:bccb9dd4-409f-48ce-8915-27f20628680f\" target=\"_top\" title=\"psysml:bccb9dd4-409f-48ce-8915-27f20628680f\" xlink:actuate=\"onRequest\" xlink:href=\"psysml:bccb9dd4-409f-48ce-8915-27f20628680f\" xlink:show=\"new\" xlink:title=\"psysml:bccb9dd4-409f-48ce-8915-27f20628680f\" xlink:type=\"simple\"><path d=\"M78.4,99.49 C72.68,115.15 66.08,133.19 61.05,146.98 \" fill=\"none\" id=\"E5&lt;-E6\" style=\"stroke: #383838; stroke-width: 1.0;\"/><polygon fill=\"#383838\" points=\"82.94,87.06,77.1196,91.317,78.8105,98.3271,84.6309,94.07,82.94,87.06\" style=\"stroke: #383838; stroke-width: 1.0;\"/></a><!--MD5=[2351f337d6de0f557b50152ba70847b5]\n",
       "link E6 to E2--><a href=\"psysml:3c2ac290-8ac1-4000-af3e-5bcf9ecf7966\" target=\"_top\" title=\"psysml:3c2ac290-8ac1-4000-af3e-5bcf9ecf7966\" xlink:actuate=\"onRequest\" xlink:href=\"psysml:3c2ac290-8ac1-4000-af3e-5bcf9ecf7966\" xlink:show=\"new\" xlink:title=\"psysml:3c2ac290-8ac1-4000-af3e-5bcf9ecf7966\" xlink:type=\"simple\"><path d=\"M61.06,193.06 C67.51,210.7 76.51,235.34 82.95,252.98 \" fill=\"none\" id=\"E6-E2\" style=\"stroke: #383838; stroke-width: 3.0;\"/></a><!--MD5=[452b418e7f8a40397a49b8c0a78acc5b]\n",
       "reverse link E5 to E7--><a href=\"psysml:97bf4e08-a4b3-492a-87d8-6adc842be5d3\" target=\"_top\" title=\"psysml:97bf4e08-a4b3-492a-87d8-6adc842be5d3\" xlink:actuate=\"onRequest\" xlink:href=\"psysml:97bf4e08-a4b3-492a-87d8-6adc842be5d3\" xlink:show=\"new\" xlink:title=\"psysml:97bf4e08-a4b3-492a-87d8-6adc842be5d3\" xlink:type=\"simple\"><path d=\"M103.94,99.49 C109.8,115.15 116.57,133.19 121.74,146.98 \" fill=\"none\" id=\"E5&lt;-E7\" style=\"stroke: #383838; stroke-width: 1.0;\"/><polygon fill=\"#383838\" points=\"99.27,87.06,97.635,94.0833,103.4893,98.2938,105.1242,91.2705,99.27,87.06\" style=\"stroke: #383838; stroke-width: 1.0;\"/></a><!--MD5=[583832df87f4419a098336a29a52fa00]\n",
       "link E7 to E2--><a href=\"psysml:6815ba90-0374-438b-ad93-53c34ddf71b8\" target=\"_top\" title=\"psysml:6815ba90-0374-438b-ad93-53c34ddf71b8\" xlink:actuate=\"onRequest\" xlink:href=\"psysml:6815ba90-0374-438b-ad93-53c34ddf71b8\" xlink:show=\"new\" xlink:title=\"psysml:6815ba90-0374-438b-ad93-53c34ddf71b8\" xlink:type=\"simple\"><path d=\"M121.73,193.06 C117.28,204.91 111.65,219.92 106.43,233.85 \" fill=\"none\" id=\"E7-&gt;E2\" style=\"stroke: #383838; stroke-width: 1.0;\"/><polygon fill=\"none\" points=\"112.84,236.71,99.26,252.98,99.73,231.79,112.84,236.71\" style=\"stroke: #383838; stroke-width: 1.0;\"/></a><!--MD5=[6389b15194fbed846445cabf1da3f436]\n",
       "@startuml\r\n",
       "skinparam linetype polyline\r\n",
       "skinparam monochrome true\r\n",
       "skinparam classbackgroundcolor white\r\n",
       "skinparam shadowing false\r\n",
       "skinparam wrapWidth 300\r\n",
       "hide circle\r\n",
       "\r\n",
       "package \"ConnectionTest\" as E1  [[psysml:22aef044-e637-4155-a6c9-7ceaf878199d ]]  {\r\n",
       "comp usage \"p\" as E2  <<(T,blue) part>> [[psysml:4372fe5d-a54c-4736-ace6-05c35a4b2fd0 ]] {\r\n",
       "}\r\n",
       "comp usage \"x\" as E3  <<(T,blue) part>> [[psysml:3f2b8857-d9ea-41c6-bb7a-db05d1986c1a ]] {\r\n",
       "}\r\n",
       "comp usage \"x1\" as E4  <<(T,blue) part>> [[psysml:e84cebed-6405-49c5-b413-5d504fb47cee ]] {\r\n",
       "}\r\n",
       "comp def \"P\" as E5  <<(T,blue) part def>> [[psysml:ba7b03ba-afee-4a2c-95ba-c440e322d2ee ]] {\r\n",
       "}\r\n",
       "comp usage \"y\" as E6  <<(T,blue) part>> [[psysml:6b502337-597a-4c17-979b-8872526dd5b6 ]] {\r\n",
       "}\r\n",
       "comp usage \"p1\" as E7  <<(T,blue) part>> [[psysml:c0882630-04b8-4e6c-a043-bd39b4f2710a ]] {\r\n",
       "}\r\n",
       "E2 *- - E3 [[psysml:d551e406-73fb-4a91-a080-fc440127a640 ]] \r\n",
       "E3 *- - E4 [[psysml:0c62ef63-43f3-4799-a069-927499b27fb4 ]] \r\n",
       "E5 *- - E6 [[psysml:bccb9dd4-409f-48ce-8915-27f20628680f ]] \r\n",
       "E6 -[thickness=3]- E2 [[psysml:3c2ac290-8ac1-4000-af3e-5bcf9ecf7966 ]] \r\n",
       "E5 *- - E7 [[psysml:97bf4e08-a4b3-492a-87d8-6adc842be5d3 ]] \r\n",
       "E7 - -|> E2 [[psysml:6815ba90-0374-438b-ad93-53c34ddf71b8 ]] \r\n",
       "}\r\n",
       "@enduml\r\n",
       "\n",
       "PlantUML version 1.2020.13(Sat Jun 13 12:26:38 UTC 2020)\n",
       "(EPL source distribution)\n",
       "Java Runtime: OpenJDK Runtime Environment\n",
       "JVM: OpenJDK 64-Bit Server VM\n",
       "Default Encoding: UTF-8\n",
       "Language: en\n",
       "Country: null\n",
       "--></g></svg>"
      ]
     },
     "execution_count": 14,
     "metadata": {},
     "output_type": "execute_result"
    }
   ],
   "source": [
    "%viz --style=\"POLYLINE\" --view=\"Sequence\" \"ConnectionTest\""
   ]
  },
  {
   "cell_type": "code",
   "execution_count": 15,
   "id": "cbae2cb7",
   "metadata": {
    "execution": {
     "iopub.execute_input": "2021-06-30T09:21:33.979533Z",
     "iopub.status.busy": "2021-06-30T09:21:33.978309Z",
     "iopub.status.idle": "2021-06-30T09:21:34.090443Z",
     "shell.execute_reply": "2021-06-30T09:21:34.087873Z"
    }
   },
   "outputs": [
    {
     "data": {
      "image/svg+xml": [
       "<?xml version=\"1.0\" encoding=\"UTF-8\" standalone=\"no\"?><svg xmlns=\"http://www.w3.org/2000/svg\" xmlns:xlink=\"http://www.w3.org/1999/xlink\" contentScriptType=\"application/ecmascript\" contentStyleType=\"text/css\" height=\"539px\" preserveAspectRatio=\"none\" style=\"width:189px;height:539px;\" version=\"1.1\" viewBox=\"0 0 189 539\" width=\"189px\" zoomAndPan=\"magnify\"><defs/><g><!--MD5=[fbc87193dbaf4d95561dea2c320d4a47]\n",
       "cluster E1--><a href=\"psysml:22aef044-e637-4155-a6c9-7ceaf878199d\" target=\"_top\" title=\"psysml:22aef044-e637-4155-a6c9-7ceaf878199d\" xlink:actuate=\"onRequest\" xlink:href=\"psysml:22aef044-e637-4155-a6c9-7ceaf878199d\" xlink:show=\"new\" xlink:title=\"psysml:22aef044-e637-4155-a6c9-7ceaf878199d\" xlink:type=\"simple\"><polygon fill=\"#FFFFFF\" points=\"16,6,147,6,154,28.2969,167,28.2969,167,527,16,527,16,6\" style=\"stroke: #000000; stroke-width: 1.5;\"/><line style=\"stroke: #000000; stroke-width: 1.5;\" x1=\"16\" x2=\"154\" y1=\"28.2969\" y2=\"28.2969\"/><text fill=\"#000000\" font-family=\"sans-serif\" font-size=\"14\" font-weight=\"bold\" lengthAdjust=\"spacingAndGlyphs\" textLength=\"125\" x=\"20\" y=\"20.9951\">ConnectionTest</text></a><!--MD5=[b4997ac47864f28c2f74865a473b2911]\n",
       "class E2--><a href=\"psysml:4372fe5d-a54c-4736-ace6-05c35a4b2fd0\" target=\"_top\" title=\"psysml:4372fe5d-a54c-4736-ace6-05c35a4b2fd0\" xlink:actuate=\"onRequest\" xlink:href=\"psysml:4372fe5d-a54c-4736-ace6-05c35a4b2fd0\" xlink:show=\"new\" xlink:title=\"psysml:4372fe5d-a54c-4736-ace6-05c35a4b2fd0\" xlink:type=\"simple\"><rect fill=\"#FFFFFF\" height=\"45.9375\" id=\"E2\" rx=\"10\" ry=\"10\" style=\"stroke: #383838; stroke-width: 1.5;\" width=\"42\" x=\"70\" y=\"253\"/><text fill=\"#000000\" font-family=\"sans-serif\" font-size=\"12\" font-style=\"italic\" lengthAdjust=\"spacingAndGlyphs\" textLength=\"40\" x=\"71\" y=\"269.1387\">«part»</text><text fill=\"#000000\" font-family=\"sans-serif\" font-size=\"12\" lengthAdjust=\"spacingAndGlyphs\" textLength=\"8\" x=\"87\" y=\"283.1074\">p</text><line style=\"stroke: #383838; stroke-width: 1.5;\" x1=\"71\" x2=\"111\" y1=\"290.9375\" y2=\"290.9375\"/></a><!--MD5=[09b614a08d8cba4a07c9adeb5e0fee81]\n",
       "class E3--><a href=\"psysml:3f2b8857-d9ea-41c6-bb7a-db05d1986c1a\" target=\"_top\" title=\"psysml:3f2b8857-d9ea-41c6-bb7a-db05d1986c1a\" xlink:actuate=\"onRequest\" xlink:href=\"psysml:3f2b8857-d9ea-41c6-bb7a-db05d1986c1a\" xlink:show=\"new\" xlink:title=\"psysml:3f2b8857-d9ea-41c6-bb7a-db05d1986c1a\" xlink:type=\"simple\"><rect fill=\"#FFFFFF\" height=\"45.9375\" id=\"E3\" rx=\"10\" ry=\"10\" style=\"stroke: #383838; stroke-width: 1.5;\" width=\"42\" x=\"70\" y=\"359\"/><text fill=\"#000000\" font-family=\"sans-serif\" font-size=\"12\" font-style=\"italic\" lengthAdjust=\"spacingAndGlyphs\" textLength=\"40\" x=\"71\" y=\"375.1387\">«part»</text><text fill=\"#000000\" font-family=\"sans-serif\" font-size=\"12\" lengthAdjust=\"spacingAndGlyphs\" textLength=\"6\" x=\"88\" y=\"389.1074\">x</text><line style=\"stroke: #383838; stroke-width: 1.5;\" x1=\"71\" x2=\"111\" y1=\"396.9375\" y2=\"396.9375\"/></a><!--MD5=[ebbe1d658d1005bcc118a6aa81145e00]\n",
       "class E4--><a href=\"psysml:e84cebed-6405-49c5-b413-5d504fb47cee\" target=\"_top\" title=\"psysml:e84cebed-6405-49c5-b413-5d504fb47cee\" xlink:actuate=\"onRequest\" xlink:href=\"psysml:e84cebed-6405-49c5-b413-5d504fb47cee\" xlink:show=\"new\" xlink:title=\"psysml:e84cebed-6405-49c5-b413-5d504fb47cee\" xlink:type=\"simple\"><rect fill=\"#FFFFFF\" height=\"45.9375\" id=\"E4\" rx=\"10\" ry=\"10\" style=\"stroke: #383838; stroke-width: 1.5;\" width=\"42\" x=\"70\" y=\"465\"/><text fill=\"#000000\" font-family=\"sans-serif\" font-size=\"12\" font-style=\"italic\" lengthAdjust=\"spacingAndGlyphs\" textLength=\"40\" x=\"71\" y=\"481.1387\">«part»</text><text fill=\"#000000\" font-family=\"sans-serif\" font-size=\"12\" lengthAdjust=\"spacingAndGlyphs\" textLength=\"14\" x=\"84\" y=\"495.1074\">x1</text><line style=\"stroke: #383838; stroke-width: 1.5;\" x1=\"71\" x2=\"111\" y1=\"502.9375\" y2=\"502.9375\"/></a><!--MD5=[270fce915f116d4de14055a7c1d9a0f3]\n",
       "class E5--><a href=\"psysml:ba7b03ba-afee-4a2c-95ba-c440e322d2ee\" target=\"_top\" title=\"psysml:ba7b03ba-afee-4a2c-95ba-c440e322d2ee\" xlink:actuate=\"onRequest\" xlink:href=\"psysml:ba7b03ba-afee-4a2c-95ba-c440e322d2ee\" xlink:show=\"new\" xlink:title=\"psysml:ba7b03ba-afee-4a2c-95ba-c440e322d2ee\" xlink:type=\"simple\"><rect fill=\"#FFFFFF\" height=\"45.9375\" id=\"E5\" style=\"stroke: #383838; stroke-width: 1.5;\" width=\"66\" x=\"58\" y=\"41\"/><text fill=\"#000000\" font-family=\"sans-serif\" font-size=\"12\" font-style=\"italic\" lengthAdjust=\"spacingAndGlyphs\" textLength=\"64\" x=\"59\" y=\"57.1387\">«part def»</text><text fill=\"#000000\" font-family=\"sans-serif\" font-size=\"12\" lengthAdjust=\"spacingAndGlyphs\" textLength=\"8\" x=\"87\" y=\"71.1074\">P</text><line style=\"stroke: #383838; stroke-width: 1.5;\" x1=\"59\" x2=\"123\" y1=\"78.9375\" y2=\"78.9375\"/></a><!--MD5=[60a26617385b1d2d0262a64233df1f8d]\n",
       "class E6--><a href=\"psysml:6b502337-597a-4c17-979b-8872526dd5b6\" target=\"_top\" title=\"psysml:6b502337-597a-4c17-979b-8872526dd5b6\" xlink:actuate=\"onRequest\" xlink:href=\"psysml:6b502337-597a-4c17-979b-8872526dd5b6\" xlink:show=\"new\" xlink:title=\"psysml:6b502337-597a-4c17-979b-8872526dd5b6\" xlink:type=\"simple\"><rect fill=\"#FFFFFF\" height=\"45.9375\" id=\"E6\" rx=\"10\" ry=\"10\" style=\"stroke: #383838; stroke-width: 1.5;\" width=\"42\" x=\"32\" y=\"147\"/><text fill=\"#000000\" font-family=\"sans-serif\" font-size=\"12\" font-style=\"italic\" lengthAdjust=\"spacingAndGlyphs\" textLength=\"40\" x=\"33\" y=\"163.1387\">«part»</text><text fill=\"#000000\" font-family=\"sans-serif\" font-size=\"12\" lengthAdjust=\"spacingAndGlyphs\" textLength=\"6\" x=\"50\" y=\"177.1074\">y</text><line style=\"stroke: #383838; stroke-width: 1.5;\" x1=\"33\" x2=\"73\" y1=\"184.9375\" y2=\"184.9375\"/></a><!--MD5=[2156ba9850f5573cc1fc38a6a4b2f02b]\n",
       "class E7--><a href=\"psysml:c0882630-04b8-4e6c-a043-bd39b4f2710a\" target=\"_top\" title=\"psysml:c0882630-04b8-4e6c-a043-bd39b4f2710a\" xlink:actuate=\"onRequest\" xlink:href=\"psysml:c0882630-04b8-4e6c-a043-bd39b4f2710a\" xlink:show=\"new\" xlink:title=\"psysml:c0882630-04b8-4e6c-a043-bd39b4f2710a\" xlink:type=\"simple\"><rect fill=\"#FFFFFF\" height=\"45.9375\" id=\"E7\" rx=\"10\" ry=\"10\" style=\"stroke: #383838; stroke-width: 1.5;\" width=\"42\" x=\"109\" y=\"147\"/><text fill=\"#000000\" font-family=\"sans-serif\" font-size=\"12\" font-style=\"italic\" lengthAdjust=\"spacingAndGlyphs\" textLength=\"40\" x=\"110\" y=\"163.1387\">«part»</text><text fill=\"#000000\" font-family=\"sans-serif\" font-size=\"12\" lengthAdjust=\"spacingAndGlyphs\" textLength=\"16\" x=\"122\" y=\"177.1074\">p1</text><line style=\"stroke: #383838; stroke-width: 1.5;\" x1=\"110\" x2=\"150\" y1=\"184.9375\" y2=\"184.9375\"/></a><!--MD5=[209b3feb70ccb6233bfe1053d122c12c]\n",
       "reverse link E2 to E3--><a href=\"psysml:d551e406-73fb-4a91-a080-fc440127a640\" target=\"_top\" title=\"psysml:d551e406-73fb-4a91-a080-fc440127a640\" xlink:actuate=\"onRequest\" xlink:href=\"psysml:d551e406-73fb-4a91-a080-fc440127a640\" xlink:show=\"new\" xlink:title=\"psysml:d551e406-73fb-4a91-a080-fc440127a640\" xlink:type=\"simple\"><path d=\"M91,312.44 C91,327.87 91,345.47 91,358.98 \" fill=\"none\" id=\"E2&lt;-E3\" style=\"stroke: #383838; stroke-width: 1.0;\"/><polygon fill=\"#383838\" points=\"91,299.06,87,305.06,91,311.06,95,305.06,91,299.06\" style=\"stroke: #383838; stroke-width: 1.0;\"/></a><!--MD5=[4672eba38e49728da53d11aeb285b987]\n",
       "reverse link E3 to E4--><a href=\"psysml:0c62ef63-43f3-4799-a069-927499b27fb4\" target=\"_top\" title=\"psysml:0c62ef63-43f3-4799-a069-927499b27fb4\" xlink:actuate=\"onRequest\" xlink:href=\"psysml:0c62ef63-43f3-4799-a069-927499b27fb4\" xlink:show=\"new\" xlink:title=\"psysml:0c62ef63-43f3-4799-a069-927499b27fb4\" xlink:type=\"simple\"><path d=\"M91,418.44 C91,433.87 91,451.47 91,464.98 \" fill=\"none\" id=\"E3&lt;-E4\" style=\"stroke: #383838; stroke-width: 1.0;\"/><polygon fill=\"#383838\" points=\"91,405.06,87,411.06,91,417.06,95,411.06,91,405.06\" style=\"stroke: #383838; stroke-width: 1.0;\"/></a><!--MD5=[85d356282659285ab4b2cfe2f634dd2b]\n",
       "reverse link E5 to E6--><a href=\"psysml:bccb9dd4-409f-48ce-8915-27f20628680f\" target=\"_top\" title=\"psysml:bccb9dd4-409f-48ce-8915-27f20628680f\" xlink:actuate=\"onRequest\" xlink:href=\"psysml:bccb9dd4-409f-48ce-8915-27f20628680f\" xlink:show=\"new\" xlink:title=\"psysml:bccb9dd4-409f-48ce-8915-27f20628680f\" xlink:type=\"simple\"><path d=\"M78.4,99.49 C72.68,115.15 66.08,133.19 61.05,146.98 \" fill=\"none\" id=\"E5&lt;-E6\" style=\"stroke: #383838; stroke-width: 1.0;\"/><polygon fill=\"#383838\" points=\"82.94,87.06,77.1196,91.317,78.8105,98.3271,84.6309,94.07,82.94,87.06\" style=\"stroke: #383838; stroke-width: 1.0;\"/></a><!--MD5=[2351f337d6de0f557b50152ba70847b5]\n",
       "link E6 to E2--><a href=\"psysml:3c2ac290-8ac1-4000-af3e-5bcf9ecf7966\" target=\"_top\" title=\"psysml:3c2ac290-8ac1-4000-af3e-5bcf9ecf7966\" xlink:actuate=\"onRequest\" xlink:href=\"psysml:3c2ac290-8ac1-4000-af3e-5bcf9ecf7966\" xlink:show=\"new\" xlink:title=\"psysml:3c2ac290-8ac1-4000-af3e-5bcf9ecf7966\" xlink:type=\"simple\"><path d=\"M61.06,193.06 C67.51,210.7 76.51,235.34 82.95,252.98 \" fill=\"none\" id=\"E6-E2\" style=\"stroke: #383838; stroke-width: 3.0;\"/></a><!--MD5=[452b418e7f8a40397a49b8c0a78acc5b]\n",
       "reverse link E5 to E7--><a href=\"psysml:97bf4e08-a4b3-492a-87d8-6adc842be5d3\" target=\"_top\" title=\"psysml:97bf4e08-a4b3-492a-87d8-6adc842be5d3\" xlink:actuate=\"onRequest\" xlink:href=\"psysml:97bf4e08-a4b3-492a-87d8-6adc842be5d3\" xlink:show=\"new\" xlink:title=\"psysml:97bf4e08-a4b3-492a-87d8-6adc842be5d3\" xlink:type=\"simple\"><path d=\"M103.94,99.49 C109.8,115.15 116.57,133.19 121.74,146.98 \" fill=\"none\" id=\"E5&lt;-E7\" style=\"stroke: #383838; stroke-width: 1.0;\"/><polygon fill=\"#383838\" points=\"99.27,87.06,97.635,94.0833,103.4893,98.2938,105.1242,91.2705,99.27,87.06\" style=\"stroke: #383838; stroke-width: 1.0;\"/></a><!--MD5=[583832df87f4419a098336a29a52fa00]\n",
       "link E7 to E2--><a href=\"psysml:6815ba90-0374-438b-ad93-53c34ddf71b8\" target=\"_top\" title=\"psysml:6815ba90-0374-438b-ad93-53c34ddf71b8\" xlink:actuate=\"onRequest\" xlink:href=\"psysml:6815ba90-0374-438b-ad93-53c34ddf71b8\" xlink:show=\"new\" xlink:title=\"psysml:6815ba90-0374-438b-ad93-53c34ddf71b8\" xlink:type=\"simple\"><path d=\"M121.73,193.06 C117.28,204.91 111.65,219.92 106.43,233.85 \" fill=\"none\" id=\"E7-&gt;E2\" style=\"stroke: #383838; stroke-width: 1.0;\"/><polygon fill=\"none\" points=\"112.84,236.71,99.26,252.98,99.73,231.79,112.84,236.71\" style=\"stroke: #383838; stroke-width: 1.0;\"/></a><!--MD5=[6389b15194fbed846445cabf1da3f436]\n",
       "@startuml\r\n",
       "skinparam linetype polyline\r\n",
       "skinparam monochrome true\r\n",
       "skinparam classbackgroundcolor white\r\n",
       "skinparam shadowing false\r\n",
       "skinparam wrapWidth 300\r\n",
       "hide circle\r\n",
       "\r\n",
       "package \"ConnectionTest\" as E1  [[psysml:22aef044-e637-4155-a6c9-7ceaf878199d ]]  {\r\n",
       "comp usage \"p\" as E2  <<(T,blue) part>> [[psysml:4372fe5d-a54c-4736-ace6-05c35a4b2fd0 ]] {\r\n",
       "}\r\n",
       "comp usage \"x\" as E3  <<(T,blue) part>> [[psysml:3f2b8857-d9ea-41c6-bb7a-db05d1986c1a ]] {\r\n",
       "}\r\n",
       "comp usage \"x1\" as E4  <<(T,blue) part>> [[psysml:e84cebed-6405-49c5-b413-5d504fb47cee ]] {\r\n",
       "}\r\n",
       "comp def \"P\" as E5  <<(T,blue) part def>> [[psysml:ba7b03ba-afee-4a2c-95ba-c440e322d2ee ]] {\r\n",
       "}\r\n",
       "comp usage \"y\" as E6  <<(T,blue) part>> [[psysml:6b502337-597a-4c17-979b-8872526dd5b6 ]] {\r\n",
       "}\r\n",
       "comp usage \"p1\" as E7  <<(T,blue) part>> [[psysml:c0882630-04b8-4e6c-a043-bd39b4f2710a ]] {\r\n",
       "}\r\n",
       "E2 *- - E3 [[psysml:d551e406-73fb-4a91-a080-fc440127a640 ]] \r\n",
       "E3 *- - E4 [[psysml:0c62ef63-43f3-4799-a069-927499b27fb4 ]] \r\n",
       "E5 *- - E6 [[psysml:bccb9dd4-409f-48ce-8915-27f20628680f ]] \r\n",
       "E6 -[thickness=3]- E2 [[psysml:3c2ac290-8ac1-4000-af3e-5bcf9ecf7966 ]] \r\n",
       "E5 *- - E7 [[psysml:97bf4e08-a4b3-492a-87d8-6adc842be5d3 ]] \r\n",
       "E7 - -|> E2 [[psysml:6815ba90-0374-438b-ad93-53c34ddf71b8 ]] \r\n",
       "}\r\n",
       "@enduml\r\n",
       "\n",
       "PlantUML version 1.2020.13(Sat Jun 13 12:26:38 UTC 2020)\n",
       "(EPL source distribution)\n",
       "Java Runtime: OpenJDK Runtime Environment\n",
       "JVM: OpenJDK 64-Bit Server VM\n",
       "Default Encoding: UTF-8\n",
       "Language: en\n",
       "Country: null\n",
       "--></g></svg>"
      ]
     },
     "execution_count": 15,
     "metadata": {},
     "output_type": "execute_result"
    }
   ],
   "source": [
    "%viz --style=\"POLYLINE\" --view=\"MIXED\" \"ConnectionTest\""
   ]
  },
  {
   "cell_type": "code",
   "execution_count": 16,
   "id": "4b808701",
   "metadata": {
    "execution": {
     "iopub.execute_input": "2021-06-30T09:21:34.150145Z",
     "iopub.status.busy": "2021-06-30T09:21:34.149178Z",
     "iopub.status.idle": "2021-06-30T09:21:34.219258Z",
     "shell.execute_reply": "2021-06-30T09:21:34.217680Z"
    }
   },
   "outputs": [
    {
     "data": {
      "image/svg+xml": [
       "<?xml version=\"1.0\" encoding=\"UTF-8\" standalone=\"no\"?><svg xmlns=\"http://www.w3.org/2000/svg\" xmlns:xlink=\"http://www.w3.org/1999/xlink\" contentScriptType=\"application/ecmascript\" contentStyleType=\"text/css\" height=\"196px\" preserveAspectRatio=\"none\" style=\"width:544px;height:196px;\" version=\"1.1\" viewBox=\"0 0 544 196\" width=\"544px\" zoomAndPan=\"magnify\"><defs/><g><!--MD5=[fbc87193dbaf4d95561dea2c320d4a47]\n",
       "cluster E1--><a href=\"psysml:22aef044-e637-4155-a6c9-7ceaf878199d\" target=\"_top\" title=\"psysml:22aef044-e637-4155-a6c9-7ceaf878199d\" xlink:actuate=\"onRequest\" xlink:href=\"psysml:22aef044-e637-4155-a6c9-7ceaf878199d\" xlink:show=\"new\" xlink:title=\"psysml:22aef044-e637-4155-a6c9-7ceaf878199d\" xlink:type=\"simple\"><polygon fill=\"#FFFFFF\" points=\"16,6,147,6,154,28.2969,522,28.2969,522,184,16,184,16,6\" style=\"stroke: #000000; stroke-width: 1.5;\"/><line style=\"stroke: #000000; stroke-width: 1.5;\" x1=\"16\" x2=\"154\" y1=\"28.2969\" y2=\"28.2969\"/><text fill=\"#000000\" font-family=\"sans-serif\" font-size=\"14\" font-weight=\"bold\" lengthAdjust=\"spacingAndGlyphs\" textLength=\"125\" x=\"20\" y=\"20.9951\">ConnectionTest</text></a><!--MD5=[b4997ac47864f28c2f74865a473b2911]\n",
       "class E2--><a href=\"psysml:4372fe5d-a54c-4736-ace6-05c35a4b2fd0\" target=\"_top\" title=\"psysml:4372fe5d-a54c-4736-ace6-05c35a4b2fd0\" xlink:actuate=\"onRequest\" xlink:href=\"psysml:4372fe5d-a54c-4736-ace6-05c35a4b2fd0\" xlink:show=\"new\" xlink:title=\"psysml:4372fe5d-a54c-4736-ace6-05c35a4b2fd0\" xlink:type=\"simple\"><rect fill=\"#FFFFFF\" height=\"45.9375\" id=\"E2\" rx=\"10\" ry=\"10\" style=\"stroke: #383838; stroke-width: 1.5;\" width=\"42\" x=\"260\" y=\"82\"/><text fill=\"#000000\" font-family=\"sans-serif\" font-size=\"12\" font-style=\"italic\" lengthAdjust=\"spacingAndGlyphs\" textLength=\"40\" x=\"261\" y=\"98.1387\">«part»</text><text fill=\"#000000\" font-family=\"sans-serif\" font-size=\"12\" lengthAdjust=\"spacingAndGlyphs\" textLength=\"8\" x=\"277\" y=\"112.1074\">p</text><line style=\"stroke: #383838; stroke-width: 1.5;\" x1=\"261\" x2=\"301\" y1=\"119.9375\" y2=\"119.9375\"/></a><!--MD5=[09b614a08d8cba4a07c9adeb5e0fee81]\n",
       "class E3--><a href=\"psysml:3f2b8857-d9ea-41c6-bb7a-db05d1986c1a\" target=\"_top\" title=\"psysml:3f2b8857-d9ea-41c6-bb7a-db05d1986c1a\" xlink:actuate=\"onRequest\" xlink:href=\"psysml:3f2b8857-d9ea-41c6-bb7a-db05d1986c1a\" xlink:show=\"new\" xlink:title=\"psysml:3f2b8857-d9ea-41c6-bb7a-db05d1986c1a\" xlink:type=\"simple\"><rect fill=\"#FFFFFF\" height=\"45.9375\" id=\"E3\" rx=\"10\" ry=\"10\" style=\"stroke: #383838; stroke-width: 1.5;\" width=\"42\" x=\"362\" y=\"82\"/><text fill=\"#000000\" font-family=\"sans-serif\" font-size=\"12\" font-style=\"italic\" lengthAdjust=\"spacingAndGlyphs\" textLength=\"40\" x=\"363\" y=\"98.1387\">«part»</text><text fill=\"#000000\" font-family=\"sans-serif\" font-size=\"12\" lengthAdjust=\"spacingAndGlyphs\" textLength=\"6\" x=\"380\" y=\"112.1074\">x</text><line style=\"stroke: #383838; stroke-width: 1.5;\" x1=\"363\" x2=\"403\" y1=\"119.9375\" y2=\"119.9375\"/></a><!--MD5=[ebbe1d658d1005bcc118a6aa81145e00]\n",
       "class E4--><a href=\"psysml:e84cebed-6405-49c5-b413-5d504fb47cee\" target=\"_top\" title=\"psysml:e84cebed-6405-49c5-b413-5d504fb47cee\" xlink:actuate=\"onRequest\" xlink:href=\"psysml:e84cebed-6405-49c5-b413-5d504fb47cee\" xlink:show=\"new\" xlink:title=\"psysml:e84cebed-6405-49c5-b413-5d504fb47cee\" xlink:type=\"simple\"><rect fill=\"#FFFFFF\" height=\"45.9375\" id=\"E4\" rx=\"10\" ry=\"10\" style=\"stroke: #383838; stroke-width: 1.5;\" width=\"42\" x=\"464\" y=\"82\"/><text fill=\"#000000\" font-family=\"sans-serif\" font-size=\"12\" font-style=\"italic\" lengthAdjust=\"spacingAndGlyphs\" textLength=\"40\" x=\"465\" y=\"98.1387\">«part»</text><text fill=\"#000000\" font-family=\"sans-serif\" font-size=\"12\" lengthAdjust=\"spacingAndGlyphs\" textLength=\"14\" x=\"478\" y=\"112.1074\">x1</text><line style=\"stroke: #383838; stroke-width: 1.5;\" x1=\"465\" x2=\"505\" y1=\"119.9375\" y2=\"119.9375\"/></a><!--MD5=[270fce915f116d4de14055a7c1d9a0f3]\n",
       "class E5--><a href=\"psysml:ba7b03ba-afee-4a2c-95ba-c440e322d2ee\" target=\"_top\" title=\"psysml:ba7b03ba-afee-4a2c-95ba-c440e322d2ee\" xlink:actuate=\"onRequest\" xlink:href=\"psysml:ba7b03ba-afee-4a2c-95ba-c440e322d2ee\" xlink:show=\"new\" xlink:title=\"psysml:ba7b03ba-afee-4a2c-95ba-c440e322d2ee\" xlink:type=\"simple\"><rect fill=\"#FFFFFF\" height=\"45.9375\" id=\"E5\" style=\"stroke: #383838; stroke-width: 1.5;\" width=\"66\" x=\"32\" y=\"82\"/><text fill=\"#000000\" font-family=\"sans-serif\" font-size=\"12\" font-style=\"italic\" lengthAdjust=\"spacingAndGlyphs\" textLength=\"64\" x=\"33\" y=\"98.1387\">«part def»</text><text fill=\"#000000\" font-family=\"sans-serif\" font-size=\"12\" lengthAdjust=\"spacingAndGlyphs\" textLength=\"8\" x=\"61\" y=\"112.1074\">P</text><line style=\"stroke: #383838; stroke-width: 1.5;\" x1=\"33\" x2=\"97\" y1=\"119.9375\" y2=\"119.9375\"/></a><!--MD5=[60a26617385b1d2d0262a64233df1f8d]\n",
       "class E6--><a href=\"psysml:6b502337-597a-4c17-979b-8872526dd5b6\" target=\"_top\" title=\"psysml:6b502337-597a-4c17-979b-8872526dd5b6\" xlink:actuate=\"onRequest\" xlink:href=\"psysml:6b502337-597a-4c17-979b-8872526dd5b6\" xlink:show=\"new\" xlink:title=\"psysml:6b502337-597a-4c17-979b-8872526dd5b6\" xlink:type=\"simple\"><rect fill=\"#FFFFFF\" height=\"45.9375\" id=\"E6\" rx=\"10\" ry=\"10\" style=\"stroke: #383838; stroke-width: 1.5;\" width=\"42\" x=\"158\" y=\"122\"/><text fill=\"#000000\" font-family=\"sans-serif\" font-size=\"12\" font-style=\"italic\" lengthAdjust=\"spacingAndGlyphs\" textLength=\"40\" x=\"159\" y=\"138.1387\">«part»</text><text fill=\"#000000\" font-family=\"sans-serif\" font-size=\"12\" lengthAdjust=\"spacingAndGlyphs\" textLength=\"6\" x=\"176\" y=\"152.1074\">y</text><line style=\"stroke: #383838; stroke-width: 1.5;\" x1=\"159\" x2=\"199\" y1=\"159.9375\" y2=\"159.9375\"/></a><!--MD5=[2156ba9850f5573cc1fc38a6a4b2f02b]\n",
       "class E7--><a href=\"psysml:c0882630-04b8-4e6c-a043-bd39b4f2710a\" target=\"_top\" title=\"psysml:c0882630-04b8-4e6c-a043-bd39b4f2710a\" xlink:actuate=\"onRequest\" xlink:href=\"psysml:c0882630-04b8-4e6c-a043-bd39b4f2710a\" xlink:show=\"new\" xlink:title=\"psysml:c0882630-04b8-4e6c-a043-bd39b4f2710a\" xlink:type=\"simple\"><rect fill=\"#FFFFFF\" height=\"45.9375\" id=\"E7\" rx=\"10\" ry=\"10\" style=\"stroke: #383838; stroke-width: 1.5;\" width=\"42\" x=\"158\" y=\"41\"/><text fill=\"#000000\" font-family=\"sans-serif\" font-size=\"12\" font-style=\"italic\" lengthAdjust=\"spacingAndGlyphs\" textLength=\"40\" x=\"159\" y=\"57.1387\">«part»</text><text fill=\"#000000\" font-family=\"sans-serif\" font-size=\"12\" lengthAdjust=\"spacingAndGlyphs\" textLength=\"16\" x=\"171\" y=\"71.1074\">p1</text><line style=\"stroke: #383838; stroke-width: 1.5;\" x1=\"159\" x2=\"199\" y1=\"78.9375\" y2=\"78.9375\"/></a><!--MD5=[209b3feb70ccb6233bfe1053d122c12c]\n",
       "reverse link E2 to E3--><a href=\"psysml:d551e406-73fb-4a91-a080-fc440127a640\" target=\"_top\" title=\"psysml:d551e406-73fb-4a91-a080-fc440127a640\" xlink:actuate=\"onRequest\" xlink:href=\"psysml:d551e406-73fb-4a91-a080-fc440127a640\" xlink:show=\"new\" xlink:title=\"psysml:d551e406-73fb-4a91-a080-fc440127a640\" xlink:type=\"simple\"><path d=\"M315.48,105 C330.83,105 348.52,105 361.79,105 \" fill=\"none\" id=\"E2&lt;-E3\" style=\"stroke: #383838; stroke-width: 1.0;\"/><polygon fill=\"#383838\" points=\"302.24,105,308.24,109,314.24,105,308.24,101,302.24,105\" style=\"stroke: #383838; stroke-width: 1.0;\"/></a><!--MD5=[4672eba38e49728da53d11aeb285b987]\n",
       "reverse link E3 to E4--><a href=\"psysml:0c62ef63-43f3-4799-a069-927499b27fb4\" target=\"_top\" title=\"psysml:0c62ef63-43f3-4799-a069-927499b27fb4\" xlink:actuate=\"onRequest\" xlink:href=\"psysml:0c62ef63-43f3-4799-a069-927499b27fb4\" xlink:show=\"new\" xlink:title=\"psysml:0c62ef63-43f3-4799-a069-927499b27fb4\" xlink:type=\"simple\"><path d=\"M417.48,105 C432.83,105 450.52,105 463.79,105 \" fill=\"none\" id=\"E3&lt;-E4\" style=\"stroke: #383838; stroke-width: 1.0;\"/><polygon fill=\"#383838\" points=\"404.24,105,410.24,109,416.24,105,410.24,101,404.24,105\" style=\"stroke: #383838; stroke-width: 1.0;\"/></a><!--MD5=[85d356282659285ab4b2cfe2f634dd2b]\n",
       "reverse link E5 to E6--><a href=\"psysml:bccb9dd4-409f-48ce-8915-27f20628680f\" target=\"_top\" title=\"psysml:bccb9dd4-409f-48ce-8915-27f20628680f\" xlink:actuate=\"onRequest\" xlink:href=\"psysml:bccb9dd4-409f-48ce-8915-27f20628680f\" xlink:show=\"new\" xlink:title=\"psysml:bccb9dd4-409f-48ce-8915-27f20628680f\" xlink:type=\"simple\"><path d=\"M110.79,121 C127.12,126.83 144.77,133.13 157.89,137.82 \" fill=\"none\" id=\"E5&lt;-E6\" style=\"stroke: #383838; stroke-width: 1.0;\"/><polygon fill=\"#383838\" points=\"98.09,116.46,102.3955,122.2447,109.3912,120.4952,105.0857,114.7105,98.09,116.46\" style=\"stroke: #383838; stroke-width: 1.0;\"/></a><!--MD5=[2351f337d6de0f557b50152ba70847b5]\n",
       "link E6 to E2--><a href=\"psysml:3c2ac290-8ac1-4000-af3e-5bcf9ecf7966\" target=\"_top\" title=\"psysml:3c2ac290-8ac1-4000-af3e-5bcf9ecf7966\" xlink:actuate=\"onRequest\" xlink:href=\"psysml:3c2ac290-8ac1-4000-af3e-5bcf9ecf7966\" xlink:show=\"new\" xlink:title=\"psysml:3c2ac290-8ac1-4000-af3e-5bcf9ecf7966\" xlink:type=\"simple\"><path d=\"M200.24,136.91 C217.59,129.97 242.45,120.02 259.79,113.08 \" fill=\"none\" id=\"E6-E2\" style=\"stroke: #383838; stroke-width: 3.0;\"/></a><!--MD5=[452b418e7f8a40397a49b8c0a78acc5b]\n",
       "reverse link E5 to E7--><a href=\"psysml:97bf4e08-a4b3-492a-87d8-6adc842be5d3\" target=\"_top\" title=\"psysml:97bf4e08-a4b3-492a-87d8-6adc842be5d3\" xlink:actuate=\"onRequest\" xlink:href=\"psysml:97bf4e08-a4b3-492a-87d8-6adc842be5d3\" xlink:show=\"new\" xlink:title=\"psysml:97bf4e08-a4b3-492a-87d8-6adc842be5d3\" xlink:type=\"simple\"><path d=\"M110.31,88.78 C126.77,82.75 144.64,76.21 157.89,71.36 \" fill=\"none\" id=\"E5&lt;-E7\" style=\"stroke: #383838; stroke-width: 1.0;\"/><polygon fill=\"#383838\" points=\"98.09,93.25,105.1,94.9409,109.3571,89.1205,102.347,87.4296,98.09,93.25\" style=\"stroke: #383838; stroke-width: 1.0;\"/></a><!--MD5=[583832df87f4419a098336a29a52fa00]\n",
       "link E7 to E2--><a href=\"psysml:6815ba90-0374-438b-ad93-53c34ddf71b8\" target=\"_top\" title=\"psysml:6815ba90-0374-438b-ad93-53c34ddf71b8\" xlink:actuate=\"onRequest\" xlink:href=\"psysml:6815ba90-0374-438b-ad93-53c34ddf71b8\" xlink:show=\"new\" xlink:title=\"psysml:6815ba90-0374-438b-ad93-53c34ddf71b8\" xlink:type=\"simple\"><path d=\"M200.24,72.3 C211.89,77.08 226.94,83.25 240.82,88.94 \" fill=\"none\" id=\"E7-&gt;E2\" style=\"stroke: #383838; stroke-width: 1.0;\"/><polygon fill=\"none\" points=\"243.94,82.65,259.79,96.72,238.63,95.61,243.94,82.65\" style=\"stroke: #383838; stroke-width: 1.0;\"/></a><!--MD5=[d0575f0d67d5e28f14d1f90266f70ab0]\n",
       "@startuml\r\n",
       "left to right direction\r\n",
       "skinparam monochrome true\r\n",
       "skinparam classbackgroundcolor white\r\n",
       "skinparam shadowing false\r\n",
       "skinparam wrapWidth 300\r\n",
       "hide circle\r\n",
       "\r\n",
       "package \"ConnectionTest\" as E1  [[psysml:22aef044-e637-4155-a6c9-7ceaf878199d ]]  {\r\n",
       "comp usage \"p\" as E2  <<(T,blue) part>> [[psysml:4372fe5d-a54c-4736-ace6-05c35a4b2fd0 ]] {\r\n",
       "}\r\n",
       "comp usage \"x\" as E3  <<(T,blue) part>> [[psysml:3f2b8857-d9ea-41c6-bb7a-db05d1986c1a ]] {\r\n",
       "}\r\n",
       "comp usage \"x1\" as E4  <<(T,blue) part>> [[psysml:e84cebed-6405-49c5-b413-5d504fb47cee ]] {\r\n",
       "}\r\n",
       "comp def \"P\" as E5  <<(T,blue) part def>> [[psysml:ba7b03ba-afee-4a2c-95ba-c440e322d2ee ]] {\r\n",
       "}\r\n",
       "comp usage \"y\" as E6  <<(T,blue) part>> [[psysml:6b502337-597a-4c17-979b-8872526dd5b6 ]] {\r\n",
       "}\r\n",
       "comp usage \"p1\" as E7  <<(T,blue) part>> [[psysml:c0882630-04b8-4e6c-a043-bd39b4f2710a ]] {\r\n",
       "}\r\n",
       "E2 *- - E3 [[psysml:d551e406-73fb-4a91-a080-fc440127a640 ]] \r\n",
       "E3 *- - E4 [[psysml:0c62ef63-43f3-4799-a069-927499b27fb4 ]] \r\n",
       "E5 *- - E6 [[psysml:bccb9dd4-409f-48ce-8915-27f20628680f ]] \r\n",
       "E6 -[thickness=3]- E2 [[psysml:3c2ac290-8ac1-4000-af3e-5bcf9ecf7966 ]] \r\n",
       "E5 *- - E7 [[psysml:97bf4e08-a4b3-492a-87d8-6adc842be5d3 ]] \r\n",
       "E7 - -|> E2 [[psysml:6815ba90-0374-438b-ad93-53c34ddf71b8 ]] \r\n",
       "}\r\n",
       "@enduml\r\n",
       "\n",
       "PlantUML version 1.2020.13(Sat Jun 13 12:26:38 UTC 2020)\n",
       "(EPL source distribution)\n",
       "Java Runtime: OpenJDK Runtime Environment\n",
       "JVM: OpenJDK 64-Bit Server VM\n",
       "Default Encoding: UTF-8\n",
       "Language: en\n",
       "Country: null\n",
       "--></g></svg>"
      ]
     },
     "execution_count": 16,
     "metadata": {},
     "output_type": "execute_result"
    }
   ],
   "source": [
    "%viz --style=\"LR\" --view=\"Default\" \"ConnectionTest\""
   ]
  },
  {
   "cell_type": "code",
   "execution_count": 17,
   "id": "93d68f7d",
   "metadata": {
    "execution": {
     "iopub.execute_input": "2021-06-30T09:21:34.270002Z",
     "iopub.status.busy": "2021-06-30T09:21:34.269551Z",
     "iopub.status.idle": "2021-06-30T09:21:34.313404Z",
     "shell.execute_reply": "2021-06-30T09:21:34.312965Z"
    }
   },
   "outputs": [
    {
     "data": {
      "image/svg+xml": [
       "<?xml version=\"1.0\" encoding=\"UTF-8\" standalone=\"no\"?><svg xmlns=\"http://www.w3.org/2000/svg\" xmlns:xlink=\"http://www.w3.org/1999/xlink\" contentScriptType=\"application/ecmascript\" contentStyleType=\"text/css\" height=\"196px\" preserveAspectRatio=\"none\" style=\"width:544px;height:196px;\" version=\"1.1\" viewBox=\"0 0 544 196\" width=\"544px\" zoomAndPan=\"magnify\"><defs/><g><!--MD5=[fbc87193dbaf4d95561dea2c320d4a47]\n",
       "cluster E1--><a href=\"psysml:22aef044-e637-4155-a6c9-7ceaf878199d\" target=\"_top\" title=\"psysml:22aef044-e637-4155-a6c9-7ceaf878199d\" xlink:actuate=\"onRequest\" xlink:href=\"psysml:22aef044-e637-4155-a6c9-7ceaf878199d\" xlink:show=\"new\" xlink:title=\"psysml:22aef044-e637-4155-a6c9-7ceaf878199d\" xlink:type=\"simple\"><polygon fill=\"#FFFFFF\" points=\"16,6,147,6,154,28.2969,522,28.2969,522,184,16,184,16,6\" style=\"stroke: #000000; stroke-width: 1.5;\"/><line style=\"stroke: #000000; stroke-width: 1.5;\" x1=\"16\" x2=\"154\" y1=\"28.2969\" y2=\"28.2969\"/><text fill=\"#000000\" font-family=\"sans-serif\" font-size=\"14\" font-weight=\"bold\" lengthAdjust=\"spacingAndGlyphs\" textLength=\"125\" x=\"20\" y=\"20.9951\">ConnectionTest</text></a><!--MD5=[b4997ac47864f28c2f74865a473b2911]\n",
       "class E2--><a href=\"psysml:4372fe5d-a54c-4736-ace6-05c35a4b2fd0\" target=\"_top\" title=\"psysml:4372fe5d-a54c-4736-ace6-05c35a4b2fd0\" xlink:actuate=\"onRequest\" xlink:href=\"psysml:4372fe5d-a54c-4736-ace6-05c35a4b2fd0\" xlink:show=\"new\" xlink:title=\"psysml:4372fe5d-a54c-4736-ace6-05c35a4b2fd0\" xlink:type=\"simple\"><rect fill=\"#FFFFFF\" height=\"45.9375\" id=\"E2\" rx=\"10\" ry=\"10\" style=\"stroke: #383838; stroke-width: 1.5;\" width=\"42\" x=\"260\" y=\"82\"/><text fill=\"#000000\" font-family=\"sans-serif\" font-size=\"12\" font-style=\"italic\" lengthAdjust=\"spacingAndGlyphs\" textLength=\"40\" x=\"261\" y=\"98.1387\">«part»</text><text fill=\"#000000\" font-family=\"sans-serif\" font-size=\"12\" lengthAdjust=\"spacingAndGlyphs\" textLength=\"8\" x=\"277\" y=\"112.1074\">p</text><line style=\"stroke: #383838; stroke-width: 1.5;\" x1=\"261\" x2=\"301\" y1=\"119.9375\" y2=\"119.9375\"/></a><!--MD5=[09b614a08d8cba4a07c9adeb5e0fee81]\n",
       "class E3--><a href=\"psysml:3f2b8857-d9ea-41c6-bb7a-db05d1986c1a\" target=\"_top\" title=\"psysml:3f2b8857-d9ea-41c6-bb7a-db05d1986c1a\" xlink:actuate=\"onRequest\" xlink:href=\"psysml:3f2b8857-d9ea-41c6-bb7a-db05d1986c1a\" xlink:show=\"new\" xlink:title=\"psysml:3f2b8857-d9ea-41c6-bb7a-db05d1986c1a\" xlink:type=\"simple\"><rect fill=\"#FFFFFF\" height=\"45.9375\" id=\"E3\" rx=\"10\" ry=\"10\" style=\"stroke: #383838; stroke-width: 1.5;\" width=\"42\" x=\"362\" y=\"82\"/><text fill=\"#000000\" font-family=\"sans-serif\" font-size=\"12\" font-style=\"italic\" lengthAdjust=\"spacingAndGlyphs\" textLength=\"40\" x=\"363\" y=\"98.1387\">«part»</text><text fill=\"#000000\" font-family=\"sans-serif\" font-size=\"12\" lengthAdjust=\"spacingAndGlyphs\" textLength=\"6\" x=\"380\" y=\"112.1074\">x</text><line style=\"stroke: #383838; stroke-width: 1.5;\" x1=\"363\" x2=\"403\" y1=\"119.9375\" y2=\"119.9375\"/></a><!--MD5=[ebbe1d658d1005bcc118a6aa81145e00]\n",
       "class E4--><a href=\"psysml:e84cebed-6405-49c5-b413-5d504fb47cee\" target=\"_top\" title=\"psysml:e84cebed-6405-49c5-b413-5d504fb47cee\" xlink:actuate=\"onRequest\" xlink:href=\"psysml:e84cebed-6405-49c5-b413-5d504fb47cee\" xlink:show=\"new\" xlink:title=\"psysml:e84cebed-6405-49c5-b413-5d504fb47cee\" xlink:type=\"simple\"><rect fill=\"#FFFFFF\" height=\"45.9375\" id=\"E4\" rx=\"10\" ry=\"10\" style=\"stroke: #383838; stroke-width: 1.5;\" width=\"42\" x=\"464\" y=\"82\"/><text fill=\"#000000\" font-family=\"sans-serif\" font-size=\"12\" font-style=\"italic\" lengthAdjust=\"spacingAndGlyphs\" textLength=\"40\" x=\"465\" y=\"98.1387\">«part»</text><text fill=\"#000000\" font-family=\"sans-serif\" font-size=\"12\" lengthAdjust=\"spacingAndGlyphs\" textLength=\"14\" x=\"478\" y=\"112.1074\">x1</text><line style=\"stroke: #383838; stroke-width: 1.5;\" x1=\"465\" x2=\"505\" y1=\"119.9375\" y2=\"119.9375\"/></a><!--MD5=[270fce915f116d4de14055a7c1d9a0f3]\n",
       "class E5--><a href=\"psysml:ba7b03ba-afee-4a2c-95ba-c440e322d2ee\" target=\"_top\" title=\"psysml:ba7b03ba-afee-4a2c-95ba-c440e322d2ee\" xlink:actuate=\"onRequest\" xlink:href=\"psysml:ba7b03ba-afee-4a2c-95ba-c440e322d2ee\" xlink:show=\"new\" xlink:title=\"psysml:ba7b03ba-afee-4a2c-95ba-c440e322d2ee\" xlink:type=\"simple\"><rect fill=\"#FFFFFF\" height=\"45.9375\" id=\"E5\" style=\"stroke: #383838; stroke-width: 1.5;\" width=\"66\" x=\"32\" y=\"82\"/><text fill=\"#000000\" font-family=\"sans-serif\" font-size=\"12\" font-style=\"italic\" lengthAdjust=\"spacingAndGlyphs\" textLength=\"64\" x=\"33\" y=\"98.1387\">«part def»</text><text fill=\"#000000\" font-family=\"sans-serif\" font-size=\"12\" lengthAdjust=\"spacingAndGlyphs\" textLength=\"8\" x=\"61\" y=\"112.1074\">P</text><line style=\"stroke: #383838; stroke-width: 1.5;\" x1=\"33\" x2=\"97\" y1=\"119.9375\" y2=\"119.9375\"/></a><!--MD5=[60a26617385b1d2d0262a64233df1f8d]\n",
       "class E6--><a href=\"psysml:6b502337-597a-4c17-979b-8872526dd5b6\" target=\"_top\" title=\"psysml:6b502337-597a-4c17-979b-8872526dd5b6\" xlink:actuate=\"onRequest\" xlink:href=\"psysml:6b502337-597a-4c17-979b-8872526dd5b6\" xlink:show=\"new\" xlink:title=\"psysml:6b502337-597a-4c17-979b-8872526dd5b6\" xlink:type=\"simple\"><rect fill=\"#FFFFFF\" height=\"45.9375\" id=\"E6\" rx=\"10\" ry=\"10\" style=\"stroke: #383838; stroke-width: 1.5;\" width=\"42\" x=\"158\" y=\"122\"/><text fill=\"#000000\" font-family=\"sans-serif\" font-size=\"12\" font-style=\"italic\" lengthAdjust=\"spacingAndGlyphs\" textLength=\"40\" x=\"159\" y=\"138.1387\">«part»</text><text fill=\"#000000\" font-family=\"sans-serif\" font-size=\"12\" lengthAdjust=\"spacingAndGlyphs\" textLength=\"6\" x=\"176\" y=\"152.1074\">y</text><line style=\"stroke: #383838; stroke-width: 1.5;\" x1=\"159\" x2=\"199\" y1=\"159.9375\" y2=\"159.9375\"/></a><!--MD5=[2156ba9850f5573cc1fc38a6a4b2f02b]\n",
       "class E7--><a href=\"psysml:c0882630-04b8-4e6c-a043-bd39b4f2710a\" target=\"_top\" title=\"psysml:c0882630-04b8-4e6c-a043-bd39b4f2710a\" xlink:actuate=\"onRequest\" xlink:href=\"psysml:c0882630-04b8-4e6c-a043-bd39b4f2710a\" xlink:show=\"new\" xlink:title=\"psysml:c0882630-04b8-4e6c-a043-bd39b4f2710a\" xlink:type=\"simple\"><rect fill=\"#FFFFFF\" height=\"45.9375\" id=\"E7\" rx=\"10\" ry=\"10\" style=\"stroke: #383838; stroke-width: 1.5;\" width=\"42\" x=\"158\" y=\"41\"/><text fill=\"#000000\" font-family=\"sans-serif\" font-size=\"12\" font-style=\"italic\" lengthAdjust=\"spacingAndGlyphs\" textLength=\"40\" x=\"159\" y=\"57.1387\">«part»</text><text fill=\"#000000\" font-family=\"sans-serif\" font-size=\"12\" lengthAdjust=\"spacingAndGlyphs\" textLength=\"16\" x=\"171\" y=\"71.1074\">p1</text><line style=\"stroke: #383838; stroke-width: 1.5;\" x1=\"159\" x2=\"199\" y1=\"78.9375\" y2=\"78.9375\"/></a><!--MD5=[209b3feb70ccb6233bfe1053d122c12c]\n",
       "reverse link E2 to E3--><a href=\"psysml:d551e406-73fb-4a91-a080-fc440127a640\" target=\"_top\" title=\"psysml:d551e406-73fb-4a91-a080-fc440127a640\" xlink:actuate=\"onRequest\" xlink:href=\"psysml:d551e406-73fb-4a91-a080-fc440127a640\" xlink:show=\"new\" xlink:title=\"psysml:d551e406-73fb-4a91-a080-fc440127a640\" xlink:type=\"simple\"><path d=\"M315.48,105 C330.83,105 348.52,105 361.79,105 \" fill=\"none\" id=\"E2&lt;-E3\" style=\"stroke: #383838; stroke-width: 1.0;\"/><polygon fill=\"#383838\" points=\"302.24,105,308.24,109,314.24,105,308.24,101,302.24,105\" style=\"stroke: #383838; stroke-width: 1.0;\"/></a><!--MD5=[4672eba38e49728da53d11aeb285b987]\n",
       "reverse link E3 to E4--><a href=\"psysml:0c62ef63-43f3-4799-a069-927499b27fb4\" target=\"_top\" title=\"psysml:0c62ef63-43f3-4799-a069-927499b27fb4\" xlink:actuate=\"onRequest\" xlink:href=\"psysml:0c62ef63-43f3-4799-a069-927499b27fb4\" xlink:show=\"new\" xlink:title=\"psysml:0c62ef63-43f3-4799-a069-927499b27fb4\" xlink:type=\"simple\"><path d=\"M417.48,105 C432.83,105 450.52,105 463.79,105 \" fill=\"none\" id=\"E3&lt;-E4\" style=\"stroke: #383838; stroke-width: 1.0;\"/><polygon fill=\"#383838\" points=\"404.24,105,410.24,109,416.24,105,410.24,101,404.24,105\" style=\"stroke: #383838; stroke-width: 1.0;\"/></a><!--MD5=[85d356282659285ab4b2cfe2f634dd2b]\n",
       "reverse link E5 to E6--><a href=\"psysml:bccb9dd4-409f-48ce-8915-27f20628680f\" target=\"_top\" title=\"psysml:bccb9dd4-409f-48ce-8915-27f20628680f\" xlink:actuate=\"onRequest\" xlink:href=\"psysml:bccb9dd4-409f-48ce-8915-27f20628680f\" xlink:show=\"new\" xlink:title=\"psysml:bccb9dd4-409f-48ce-8915-27f20628680f\" xlink:type=\"simple\"><path d=\"M110.79,121 C127.12,126.83 144.77,133.13 157.89,137.82 \" fill=\"none\" id=\"E5&lt;-E6\" style=\"stroke: #383838; stroke-width: 1.0;\"/><polygon fill=\"#383838\" points=\"98.09,116.46,102.3955,122.2447,109.3912,120.4952,105.0857,114.7105,98.09,116.46\" style=\"stroke: #383838; stroke-width: 1.0;\"/></a><!--MD5=[2351f337d6de0f557b50152ba70847b5]\n",
       "link E6 to E2--><a href=\"psysml:3c2ac290-8ac1-4000-af3e-5bcf9ecf7966\" target=\"_top\" title=\"psysml:3c2ac290-8ac1-4000-af3e-5bcf9ecf7966\" xlink:actuate=\"onRequest\" xlink:href=\"psysml:3c2ac290-8ac1-4000-af3e-5bcf9ecf7966\" xlink:show=\"new\" xlink:title=\"psysml:3c2ac290-8ac1-4000-af3e-5bcf9ecf7966\" xlink:type=\"simple\"><path d=\"M200.24,136.91 C217.59,129.97 242.45,120.02 259.79,113.08 \" fill=\"none\" id=\"E6-E2\" style=\"stroke: #383838; stroke-width: 3.0;\"/></a><!--MD5=[452b418e7f8a40397a49b8c0a78acc5b]\n",
       "reverse link E5 to E7--><a href=\"psysml:97bf4e08-a4b3-492a-87d8-6adc842be5d3\" target=\"_top\" title=\"psysml:97bf4e08-a4b3-492a-87d8-6adc842be5d3\" xlink:actuate=\"onRequest\" xlink:href=\"psysml:97bf4e08-a4b3-492a-87d8-6adc842be5d3\" xlink:show=\"new\" xlink:title=\"psysml:97bf4e08-a4b3-492a-87d8-6adc842be5d3\" xlink:type=\"simple\"><path d=\"M110.31,88.78 C126.77,82.75 144.64,76.21 157.89,71.36 \" fill=\"none\" id=\"E5&lt;-E7\" style=\"stroke: #383838; stroke-width: 1.0;\"/><polygon fill=\"#383838\" points=\"98.09,93.25,105.1,94.9409,109.3571,89.1205,102.347,87.4296,98.09,93.25\" style=\"stroke: #383838; stroke-width: 1.0;\"/></a><!--MD5=[583832df87f4419a098336a29a52fa00]\n",
       "link E7 to E2--><a href=\"psysml:6815ba90-0374-438b-ad93-53c34ddf71b8\" target=\"_top\" title=\"psysml:6815ba90-0374-438b-ad93-53c34ddf71b8\" xlink:actuate=\"onRequest\" xlink:href=\"psysml:6815ba90-0374-438b-ad93-53c34ddf71b8\" xlink:show=\"new\" xlink:title=\"psysml:6815ba90-0374-438b-ad93-53c34ddf71b8\" xlink:type=\"simple\"><path d=\"M200.24,72.3 C211.89,77.08 226.94,83.25 240.82,88.94 \" fill=\"none\" id=\"E7-&gt;E2\" style=\"stroke: #383838; stroke-width: 1.0;\"/><polygon fill=\"none\" points=\"243.94,82.65,259.79,96.72,238.63,95.61,243.94,82.65\" style=\"stroke: #383838; stroke-width: 1.0;\"/></a><!--MD5=[d0575f0d67d5e28f14d1f90266f70ab0]\n",
       "@startuml\r\n",
       "left to right direction\r\n",
       "skinparam monochrome true\r\n",
       "skinparam classbackgroundcolor white\r\n",
       "skinparam shadowing false\r\n",
       "skinparam wrapWidth 300\r\n",
       "hide circle\r\n",
       "\r\n",
       "package \"ConnectionTest\" as E1  [[psysml:22aef044-e637-4155-a6c9-7ceaf878199d ]]  {\r\n",
       "comp usage \"p\" as E2  <<(T,blue) part>> [[psysml:4372fe5d-a54c-4736-ace6-05c35a4b2fd0 ]] {\r\n",
       "}\r\n",
       "comp usage \"x\" as E3  <<(T,blue) part>> [[psysml:3f2b8857-d9ea-41c6-bb7a-db05d1986c1a ]] {\r\n",
       "}\r\n",
       "comp usage \"x1\" as E4  <<(T,blue) part>> [[psysml:e84cebed-6405-49c5-b413-5d504fb47cee ]] {\r\n",
       "}\r\n",
       "comp def \"P\" as E5  <<(T,blue) part def>> [[psysml:ba7b03ba-afee-4a2c-95ba-c440e322d2ee ]] {\r\n",
       "}\r\n",
       "comp usage \"y\" as E6  <<(T,blue) part>> [[psysml:6b502337-597a-4c17-979b-8872526dd5b6 ]] {\r\n",
       "}\r\n",
       "comp usage \"p1\" as E7  <<(T,blue) part>> [[psysml:c0882630-04b8-4e6c-a043-bd39b4f2710a ]] {\r\n",
       "}\r\n",
       "E2 *- - E3 [[psysml:d551e406-73fb-4a91-a080-fc440127a640 ]] \r\n",
       "E3 *- - E4 [[psysml:0c62ef63-43f3-4799-a069-927499b27fb4 ]] \r\n",
       "E5 *- - E6 [[psysml:bccb9dd4-409f-48ce-8915-27f20628680f ]] \r\n",
       "E6 -[thickness=3]- E2 [[psysml:3c2ac290-8ac1-4000-af3e-5bcf9ecf7966 ]] \r\n",
       "E5 *- - E7 [[psysml:97bf4e08-a4b3-492a-87d8-6adc842be5d3 ]] \r\n",
       "E7 - -|> E2 [[psysml:6815ba90-0374-438b-ad93-53c34ddf71b8 ]] \r\n",
       "}\r\n",
       "@enduml\r\n",
       "\n",
       "PlantUML version 1.2020.13(Sat Jun 13 12:26:38 UTC 2020)\n",
       "(EPL source distribution)\n",
       "Java Runtime: OpenJDK Runtime Environment\n",
       "JVM: OpenJDK 64-Bit Server VM\n",
       "Default Encoding: UTF-8\n",
       "Language: en\n",
       "Country: null\n",
       "--></g></svg>"
      ]
     },
     "execution_count": 17,
     "metadata": {},
     "output_type": "execute_result"
    }
   ],
   "source": [
    "%viz --style=\"LR\" --view=\"Tree\" \"ConnectionTest\""
   ]
  },
  {
   "cell_type": "code",
   "execution_count": 18,
   "id": "e94c4bd6",
   "metadata": {
    "execution": {
     "iopub.execute_input": "2021-06-30T09:21:34.383340Z",
     "iopub.status.busy": "2021-06-30T09:21:34.382464Z",
     "iopub.status.idle": "2021-06-30T09:21:34.390814Z",
     "shell.execute_reply": "2021-06-30T09:21:34.390465Z"
    }
   },
   "outputs": [
    {
     "data": {
      "image/svg+xml": [
       "<?xml version=\"1.0\" encoding=\"UTF-8\" standalone=\"no\"?><svg xmlns=\"http://www.w3.org/2000/svg\" xmlns:xlink=\"http://www.w3.org/1999/xlink\" contentScriptType=\"application/ecmascript\" contentStyleType=\"text/css\" height=\"12px\" preserveAspectRatio=\"none\" style=\"width:12px;height:12px;\" version=\"1.1\" viewBox=\"0 0 12 12\" width=\"12px\" zoomAndPan=\"magnify\"><defs/><g><!--MD5=[19d285c9d72a204eba4e2cd117d745e8]\n",
       "@startuml\r\n",
       "left to right direction\r\n",
       "skinparam monochrome true\r\n",
       "skinparam classbackgroundcolor white\r\n",
       "skinparam shadowing false\r\n",
       "skinparam wrapWidth 300\r\n",
       "hide circle\r\n",
       "\r\n",
       "@enduml\r\n",
       "\n",
       "PlantUML version 1.2020.13(Sat Jun 13 12:26:38 UTC 2020)\n",
       "(EPL source distribution)\n",
       "Java Runtime: OpenJDK Runtime Environment\n",
       "JVM: OpenJDK 64-Bit Server VM\n",
       "Default Encoding: UTF-8\n",
       "Language: en\n",
       "Country: null\n",
       "--></g></svg>"
      ]
     },
     "execution_count": 18,
     "metadata": {},
     "output_type": "execute_result"
    }
   ],
   "source": [
    "%viz --style=\"LR\" --view=\"State\" \"ConnectionTest\""
   ]
  },
  {
   "cell_type": "code",
   "execution_count": 19,
   "id": "b24734ce",
   "metadata": {
    "execution": {
     "iopub.execute_input": "2021-06-30T09:21:34.464426Z",
     "iopub.status.busy": "2021-06-30T09:21:34.463221Z",
     "iopub.status.idle": "2021-06-30T09:21:34.546581Z",
     "shell.execute_reply": "2021-06-30T09:21:34.545247Z"
    }
   },
   "outputs": [
    {
     "data": {
      "image/svg+xml": [
       "<?xml version=\"1.0\" encoding=\"UTF-8\" standalone=\"no\"?><svg xmlns=\"http://www.w3.org/2000/svg\" xmlns:xlink=\"http://www.w3.org/1999/xlink\" contentScriptType=\"application/ecmascript\" contentStyleType=\"text/css\" height=\"599px\" preserveAspectRatio=\"none\" style=\"width:354px;height:599px;\" version=\"1.1\" viewBox=\"0 0 354 599\" width=\"354px\" zoomAndPan=\"magnify\"><defs/><g><!--MD5=[fbc87193dbaf4d95561dea2c320d4a47]\n",
       "cluster E1--><a href=\"psysml:22aef044-e637-4155-a6c9-7ceaf878199d\" target=\"_top\" title=\"psysml:22aef044-e637-4155-a6c9-7ceaf878199d\" xlink:actuate=\"onRequest\" xlink:href=\"psysml:22aef044-e637-4155-a6c9-7ceaf878199d\" xlink:show=\"new\" xlink:title=\"psysml:22aef044-e637-4155-a6c9-7ceaf878199d\" xlink:type=\"simple\"><polygon fill=\"#FFFFFF\" points=\"16,6,147,6,154,28.2969,332,28.2969,332,587,16,587,16,6\" style=\"stroke: #000000; stroke-width: 1.5;\"/><line style=\"stroke: #000000; stroke-width: 1.5;\" x1=\"16\" x2=\"154\" y1=\"28.2969\" y2=\"28.2969\"/><text fill=\"#000000\" font-family=\"sans-serif\" font-size=\"14\" font-weight=\"bold\" lengthAdjust=\"spacingAndGlyphs\" textLength=\"125\" x=\"20\" y=\"20.9951\">ConnectionTest</text></a><!--MD5=[e4f7fae6ed58524ba242bb0b0d3be6b7]\n",
       "cluster E2--><a href=\"psysml:4372fe5d-a54c-4736-ace6-05c35a4b2fd0\" target=\"_top\" title=\"psysml:4372fe5d-a54c-4736-ace6-05c35a4b2fd0\" xlink:actuate=\"onRequest\" xlink:href=\"psysml:4372fe5d-a54c-4736-ace6-05c35a4b2fd0\" xlink:show=\"new\" xlink:title=\"psysml:4372fe5d-a54c-4736-ace6-05c35a4b2fd0\" xlink:type=\"simple\"><rect fill=\"#FFFFFF\" height=\"182\" id=\"E2\" rx=\"10\" ry=\"10\" style=\"stroke: #383838; stroke-width: 1.5;\" width=\"146\" x=\"130\" y=\"57\"/><rect fill=\"#F8F8F8\" height=\"23.9688\" rx=\"10\" ry=\"10\" style=\"stroke: #F8F8F8; stroke-width: 1.5;\" width=\"146\" x=\"130\" y=\"57\"/><rect fill=\"#F8F8F8\" height=\"10\" style=\"stroke: #F8F8F8; stroke-width: 1.5;\" width=\"146\" x=\"130\" y=\"70.9688\"/><rect fill=\"none\" height=\"182\" id=\"E2\" rx=\"10\" ry=\"10\" style=\"stroke: #383838; stroke-width: 1.5;\" width=\"146\" x=\"130\" y=\"57\"/><text fill=\"#000000\" font-family=\"sans-serif\" font-size=\"12\" lengthAdjust=\"spacingAndGlyphs\" textLength=\"8\" x=\"199\" y=\"73.1387\">p</text><line style=\"stroke: #383838; stroke-width: 1.0;\" x1=\"130\" x2=\"276\" y1=\"80.9688\" y2=\"80.9688\"/></a><!--MD5=[d5e69f78d87373223dbae638b30a9c99]\n",
       "cluster E3--><a href=\"psysml:3f2b8857-d9ea-41c6-bb7a-db05d1986c1a\" target=\"_top\" title=\"psysml:3f2b8857-d9ea-41c6-bb7a-db05d1986c1a\" xlink:actuate=\"onRequest\" xlink:href=\"psysml:3f2b8857-d9ea-41c6-bb7a-db05d1986c1a\" xlink:show=\"new\" xlink:title=\"psysml:3f2b8857-d9ea-41c6-bb7a-db05d1986c1a\" xlink:type=\"simple\"><rect fill=\"#FFFFFF\" height=\"91\" id=\"E3\" rx=\"10\" ry=\"10\" style=\"stroke: #383838; stroke-width: 1.5;\" width=\"82\" x=\"162\" y=\"108\"/><rect fill=\"#F8F8F8\" height=\"23.9688\" rx=\"10\" ry=\"10\" style=\"stroke: #F8F8F8; stroke-width: 1.5;\" width=\"82\" x=\"162\" y=\"108\"/><rect fill=\"#F8F8F8\" height=\"10\" style=\"stroke: #F8F8F8; stroke-width: 1.5;\" width=\"82\" x=\"162\" y=\"121.9688\"/><rect fill=\"none\" height=\"91\" id=\"E3\" rx=\"10\" ry=\"10\" style=\"stroke: #383838; stroke-width: 1.5;\" width=\"82\" x=\"162\" y=\"108\"/><text fill=\"#000000\" font-family=\"sans-serif\" font-size=\"12\" lengthAdjust=\"spacingAndGlyphs\" textLength=\"6\" x=\"200\" y=\"124.1387\">x</text><line style=\"stroke: #383838; stroke-width: 1.0;\" x1=\"162\" x2=\"244\" y1=\"131.9688\" y2=\"131.9688\"/></a><!--MD5=[de5ec2e2e8f62f467e546659f5068c88]\n",
       "cluster E5--><a href=\"psysml:ba7b03ba-afee-4a2c-95ba-c440e322d2ee\" target=\"_top\" title=\"psysml:ba7b03ba-afee-4a2c-95ba-c440e322d2ee\" xlink:actuate=\"onRequest\" xlink:href=\"psysml:ba7b03ba-afee-4a2c-95ba-c440e322d2ee\" xlink:show=\"new\" xlink:title=\"psysml:ba7b03ba-afee-4a2c-95ba-c440e322d2ee\" xlink:type=\"simple\"><rect fill=\"#FFFFFF\" height=\"292\" id=\"E5\" style=\"stroke: #383838; stroke-width: 1.5;\" width=\"268\" x=\"40\" y=\"271\"/><rect fill=\"#F8F8F8\" height=\"37.9375\" style=\"stroke: #383838; stroke-width: 1.5;\" width=\"268\" x=\"40\" y=\"271\"/><text fill=\"#000000\" font-family=\"sans-serif\" font-size=\"12\" font-style=\"italic\" lengthAdjust=\"spacingAndGlyphs\" textLength=\"64\" x=\"142\" y=\"287.1387\">«part def»</text><text fill=\"#000000\" font-family=\"sans-serif\" font-size=\"12\" lengthAdjust=\"spacingAndGlyphs\" textLength=\"8\" x=\"170\" y=\"301.1074\">P</text></a><!--MD5=[168fadf3d0c3fd93dd5d6da1b1d7ab76]\n",
       "cluster E7--><a href=\"psysml:c0882630-04b8-4e6c-a043-bd39b4f2710a\" target=\"_top\" title=\"psysml:c0882630-04b8-4e6c-a043-bd39b4f2710a\" xlink:actuate=\"onRequest\" xlink:href=\"psysml:c0882630-04b8-4e6c-a043-bd39b4f2710a\" xlink:show=\"new\" xlink:title=\"psysml:c0882630-04b8-4e6c-a043-bd39b4f2710a\" xlink:type=\"simple\"><rect fill=\"#FFFFFF\" height=\"209\" id=\"E7\" rx=\"10\" ry=\"10\" style=\"stroke: #383838; stroke-width: 1.5;\" width=\"162\" x=\"122\" y=\"330\"/><rect fill=\"#F8F8F8\" height=\"23.9688\" rx=\"10\" ry=\"10\" style=\"stroke: #F8F8F8; stroke-width: 1.5;\" width=\"162\" x=\"122\" y=\"330\"/><rect fill=\"#F8F8F8\" height=\"10\" style=\"stroke: #F8F8F8; stroke-width: 1.5;\" width=\"162\" x=\"122\" y=\"343.9688\"/><rect fill=\"none\" height=\"209\" id=\"E7\" rx=\"10\" ry=\"10\" style=\"stroke: #383838; stroke-width: 1.5;\" width=\"162\" x=\"122\" y=\"330\"/><text fill=\"#000000\" font-family=\"sans-serif\" font-size=\"12\" lengthAdjust=\"spacingAndGlyphs\" textLength=\"16\" x=\"195\" y=\"346.1387\">p1</text><line style=\"stroke: #383838; stroke-width: 1.0;\" x1=\"122\" x2=\"284\" y1=\"353.9688\" y2=\"353.9688\"/></a><!--MD5=[55dfccfc6c49c2d10cd1bd2211a6c90c]\n",
       "cluster E8--><a href=\"psysml:3f2b8857-d9ea-41c6-bb7a-db05d1986c1a\" target=\"_top\" title=\"psysml:3f2b8857-d9ea-41c6-bb7a-db05d1986c1a\" xlink:actuate=\"onRequest\" xlink:href=\"psysml:3f2b8857-d9ea-41c6-bb7a-db05d1986c1a\" xlink:show=\"new\" xlink:title=\"psysml:3f2b8857-d9ea-41c6-bb7a-db05d1986c1a\" xlink:type=\"simple\"><rect fill=\"#FFFFFF\" height=\"126\" id=\"E8\" rx=\"10\" ry=\"10\" style=\"stroke: #383838; stroke-width: 1.5;\" width=\"98\" x=\"154\" y=\"381\"/><rect fill=\"#F8F8F8\" height=\"23.9688\" rx=\"10\" ry=\"10\" style=\"stroke: #F8F8F8; stroke-width: 1.5;\" width=\"98\" x=\"154\" y=\"381\"/><rect fill=\"#F8F8F8\" height=\"10\" style=\"stroke: #F8F8F8; stroke-width: 1.5;\" width=\"98\" x=\"154\" y=\"394.9688\"/><rect fill=\"none\" height=\"126\" id=\"E8\" rx=\"10\" ry=\"10\" style=\"stroke: #383838; stroke-width: 1.5;\" width=\"98\" x=\"154\" y=\"381\"/><text fill=\"#000000\" font-family=\"sans-serif\" font-size=\"12\" lengthAdjust=\"spacingAndGlyphs\" textLength=\"16\" x=\"195\" y=\"397.1387\">^x</text><line style=\"stroke: #383838; stroke-width: 1.0;\" x1=\"154\" x2=\"252\" y1=\"404.9688\" y2=\"404.9688\"/></a><g id=\"E1.E2.E3.E4\"><a href=\"psysml:e84cebed-6405-49c5-b413-5d504fb47cee\" target=\"_top\" title=\"psysml:e84cebed-6405-49c5-b413-5d504fb47cee\" xlink:actuate=\"onRequest\" xlink:href=\"psysml:e84cebed-6405-49c5-b413-5d504fb47cee\" xlink:show=\"new\" xlink:title=\"psysml:e84cebed-6405-49c5-b413-5d504fb47cee\" xlink:type=\"simple\"><rect fill=\"#FFFFFF\" height=\"40\" id=\"E4\" rx=\"10\" ry=\"10\" style=\"stroke: #383838; stroke-width: 1.5;\" width=\"50\" x=\"178\" y=\"143\"/><rect fill=\"#F8F8F8\" height=\"23.9688\" rx=\"10\" ry=\"10\" style=\"stroke: #F8F8F8; stroke-width: 1.5;\" width=\"50\" x=\"178\" y=\"143\"/><rect fill=\"#F8F8F8\" height=\"10\" style=\"stroke: #F8F8F8; stroke-width: 1.5;\" width=\"50\" x=\"178\" y=\"156.9688\"/><rect fill=\"none\" height=\"40\" id=\"E4\" rx=\"10\" ry=\"10\" style=\"stroke: #383838; stroke-width: 1.5;\" width=\"50\" x=\"178\" y=\"143\"/><text fill=\"#000000\" font-family=\"sans-serif\" font-size=\"12\" lengthAdjust=\"spacingAndGlyphs\" textLength=\"14\" x=\"196\" y=\"159.1387\">x1</text></a></g><g id=\"E1.E5.E6\"><a href=\"psysml:6b502337-597a-4c17-979b-8872526dd5b6\" target=\"_top\" title=\"psysml:6b502337-597a-4c17-979b-8872526dd5b6\" xlink:actuate=\"onRequest\" xlink:href=\"psysml:6b502337-597a-4c17-979b-8872526dd5b6\" xlink:show=\"new\" xlink:title=\"psysml:6b502337-597a-4c17-979b-8872526dd5b6\" xlink:type=\"simple\"><rect fill=\"#FFFFFF\" height=\"40\" id=\"E6\" rx=\"10\" ry=\"10\" style=\"stroke: #383838; stroke-width: 1.5;\" width=\"50\" x=\"56\" y=\"424\"/><rect fill=\"#F8F8F8\" height=\"23.9688\" rx=\"10\" ry=\"10\" style=\"stroke: #F8F8F8; stroke-width: 1.5;\" width=\"50\" x=\"56\" y=\"424\"/><rect fill=\"#F8F8F8\" height=\"10\" style=\"stroke: #F8F8F8; stroke-width: 1.5;\" width=\"50\" x=\"56\" y=\"437.9688\"/><rect fill=\"none\" height=\"40\" id=\"E6\" rx=\"10\" ry=\"10\" style=\"stroke: #383838; stroke-width: 1.5;\" width=\"50\" x=\"56\" y=\"424\"/><text fill=\"#000000\" font-family=\"sans-serif\" font-size=\"12\" lengthAdjust=\"spacingAndGlyphs\" textLength=\"6\" x=\"78\" y=\"440.1387\">y</text></a></g><g id=\"E1.E5.E7.E8.E9\"><a href=\"psysml:e84cebed-6405-49c5-b413-5d504fb47cee\" target=\"_top\" title=\"psysml:e84cebed-6405-49c5-b413-5d504fb47cee\" xlink:actuate=\"onRequest\" xlink:href=\"psysml:e84cebed-6405-49c5-b413-5d504fb47cee\" xlink:show=\"new\" xlink:title=\"psysml:e84cebed-6405-49c5-b413-5d504fb47cee\" xlink:type=\"simple\"><rect fill=\"#FFFFFF\" height=\"40\" id=\"E9\" rx=\"10\" ry=\"10\" style=\"stroke: #383838; stroke-width: 1.5;\" width=\"50\" x=\"178\" y=\"424\"/><rect fill=\"#F8F8F8\" height=\"23.9688\" rx=\"10\" ry=\"10\" style=\"stroke: #F8F8F8; stroke-width: 1.5;\" width=\"50\" x=\"178\" y=\"424\"/><rect fill=\"#F8F8F8\" height=\"10\" style=\"stroke: #F8F8F8; stroke-width: 1.5;\" width=\"50\" x=\"178\" y=\"437.9688\"/><rect fill=\"none\" height=\"40\" id=\"E9\" rx=\"10\" ry=\"10\" style=\"stroke: #383838; stroke-width: 1.5;\" width=\"50\" x=\"178\" y=\"424\"/><text fill=\"#000000\" font-family=\"sans-serif\" font-size=\"12\" lengthAdjust=\"spacingAndGlyphs\" textLength=\"14\" x=\"196\" y=\"440.1387\">x1</text></a></g><!--MD5=[2351f337d6de0f557b50152ba70847b5]\n",
       "link E6 to E2--><a href=\"psysml:3c2ac290-8ac1-4000-af3e-5bcf9ecf7966\" target=\"_top\" title=\"psysml:3c2ac290-8ac1-4000-af3e-5bcf9ecf7966\" xlink:actuate=\"onRequest\" xlink:href=\"psysml:3c2ac290-8ac1-4000-af3e-5bcf9ecf7966\" xlink:show=\"new\" xlink:title=\"psysml:3c2ac290-8ac1-4000-af3e-5bcf9ecf7966\" xlink:type=\"simple\"><path d=\"M93.29,423.96 C107.99,397.865 134.555,350.7125 157.7438,309.5525 C169.3381,288.9725 180.0884,269.8906 188.0895,255.6881 C190.0898,252.1375 191.9183,248.8918 193.5451,246.004 C194.3585,244.56 195.1216,243.2055 195.8305,241.9471 C196.1849,241.3179 196.5258,240.7127 196.8528,240.1323 C197.0162,239.8421 197.1762,239.5582 197.3326,239.2805 \" fill=\"none\" id=\"E6-E2\" style=\"stroke: #383838; stroke-width: 3.0;\"/></a><!--MD5=[0a839d0f80c2d72d4b9b307f046d0de8]\n",
       "link E6 to E8--><a href=\"psysml:75c884b3-4954-4983-bf4e-b524958cba22\" target=\"_top\" title=\"psysml:75c884b3-4954-4983-bf4e-b524958cba22\" xlink:actuate=\"onRequest\" xlink:href=\"psysml:75c884b3-4954-4983-bf4e-b524958cba22\" xlink:show=\"new\" xlink:title=\"psysml:75c884b3-4954-4983-bf4e-b524958cba22\" xlink:type=\"simple\"><path d=\"M96.07,464.24 C101.09,470.13 107.21,476.04 114,480 C122.37,484.885 131.8475,488.5181 141.4052,491.2192 C143.7946,491.8945 146.189,492.5115 148.5724,493.0753 C149.7641,493.3572 150.953,493.6257 152.1372,493.8816 C152.7292,494.0096 153.3201,494.1343 153.9096,494.256 \" fill=\"none\" id=\"E6-E8\" style=\"stroke: #383838; stroke-width: 3.0;\"/></a><!--MD5=[8ae21a5272e5f5a2f0d855d545cbd16c]\n",
       "link E6 to E9--><a href=\"psysml:ec977721-0260-4bea-8651-1724c0f568d2\" target=\"_top\" title=\"psysml:ec977721-0260-4bea-8651-1724c0f568d2\" xlink:actuate=\"onRequest\" xlink:href=\"psysml:ec977721-0260-4bea-8651-1724c0f568d2\" xlink:show=\"new\" xlink:title=\"psysml:ec977721-0260-4bea-8651-1724c0f568d2\" xlink:type=\"simple\"><path d=\"M106.28,444 C127.1,444 156.94,444 177.75,444 \" fill=\"none\" id=\"E6-E9\" style=\"stroke: #383838; stroke-width: 3.0;\"/></a><!--MD5=[5e7b38ebf4661c2d626e76ada408d6eb]\n",
       "@startuml\r\n",
       "skinparam ranksep 10\r\n",
       "skinparam rectangle {\r\n",
       " backgroundColor<<block>> LightGreen\r\n",
       "}\r\n",
       "left to right direction\r\n",
       "skinparam monochrome true\r\n",
       "skinparam classbackgroundcolor white\r\n",
       "skinparam shadowing false\r\n",
       "skinparam wrapWidth 300\r\n",
       "hide circle\r\n",
       "\r\n",
       "package \"ConnectionTest\" as E1  [[psysml:22aef044-e637-4155-a6c9-7ceaf878199d ]]  {\r\n",
       "rec usage \"p\" as E2  [[psysml:4372fe5d-a54c-4736-ace6-05c35a4b2fd0 ]] {\r\n",
       "rec usage \"x\" as E3  [[psysml:3f2b8857-d9ea-41c6-bb7a-db05d1986c1a ]] {\r\n",
       "rec usage \"x1\" as E4  [[psysml:e84cebed-6405-49c5-b413-5d504fb47cee ]] {\r\n",
       "}\r\n",
       "}\r\n",
       "}\r\n",
       "rec def \"P\" as E5  <<(T,blue) part def>> [[psysml:ba7b03ba-afee-4a2c-95ba-c440e322d2ee ]] {\r\n",
       "rec usage \"y\" as E6  [[psysml:6b502337-597a-4c17-979b-8872526dd5b6 ]] {\r\n",
       "}\r\n",
       "rec usage \"p1\" as E7  [[psysml:c0882630-04b8-4e6c-a043-bd39b4f2710a ]] {\r\n",
       "rec usage \"^x\" as E8  [[psysml:3f2b8857-d9ea-41c6-bb7a-db05d1986c1a ]] {\r\n",
       "rec usage \"x1\" as E9  [[psysml:e84cebed-6405-49c5-b413-5d504fb47cee ]] {\r\n",
       "}\r\n",
       "}\r\n",
       "}\r\n",
       "}\r\n",
       "E6 -[thickness=3]- E2 [[psysml:3c2ac290-8ac1-4000-af3e-5bcf9ecf7966 ]] \r\n",
       "E6 -[thickness=3]- E8 [[psysml:75c884b3-4954-4983-bf4e-b524958cba22 ]] \r\n",
       "E6 -[thickness=3]- E9 [[psysml:ec977721-0260-4bea-8651-1724c0f568d2 ]] \r\n",
       "}\r\n",
       "@enduml\r\n",
       "\n",
       "PlantUML version 1.2020.13(Sat Jun 13 12:26:38 UTC 2020)\n",
       "(EPL source distribution)\n",
       "Java Runtime: OpenJDK Runtime Environment\n",
       "JVM: OpenJDK 64-Bit Server VM\n",
       "Default Encoding: UTF-8\n",
       "Language: en\n",
       "Country: null\n",
       "--></g></svg>"
      ]
     },
     "execution_count": 19,
     "metadata": {},
     "output_type": "execute_result"
    }
   ],
   "source": [
    "%viz --style=\"LR\" --view=\"Interconnection\" \"ConnectionTest\""
   ]
  },
  {
   "cell_type": "code",
   "execution_count": 20,
   "id": "c53aa277",
   "metadata": {
    "execution": {
     "iopub.execute_input": "2021-06-30T09:21:34.599067Z",
     "iopub.status.busy": "2021-06-30T09:21:34.598209Z",
     "iopub.status.idle": "2021-06-30T09:21:34.621731Z",
     "shell.execute_reply": "2021-06-30T09:21:34.618681Z"
    }
   },
   "outputs": [
    {
     "data": {
      "image/svg+xml": [
       "<?xml version=\"1.0\" encoding=\"UTF-8\" standalone=\"no\"?><svg xmlns=\"http://www.w3.org/2000/svg\" xmlns:xlink=\"http://www.w3.org/1999/xlink\" contentScriptType=\"application/ecmascript\" contentStyleType=\"text/css\" height=\"12px\" preserveAspectRatio=\"none\" style=\"width:12px;height:12px;\" version=\"1.1\" viewBox=\"0 0 12 12\" width=\"12px\" zoomAndPan=\"magnify\"><defs/><g><!--MD5=[7aeb398939421629f6affaa4a1a7b125]\n",
       "@startuml\r\n",
       "skinparam ranksep 8\r\n",
       "left to right direction\r\n",
       "skinparam monochrome true\r\n",
       "skinparam classbackgroundcolor white\r\n",
       "skinparam shadowing false\r\n",
       "skinparam wrapWidth 300\r\n",
       "hide circle\r\n",
       "\r\n",
       "@enduml\r\n",
       "\n",
       "PlantUML version 1.2020.13(Sat Jun 13 12:26:38 UTC 2020)\n",
       "(EPL source distribution)\n",
       "Java Runtime: OpenJDK Runtime Environment\n",
       "JVM: OpenJDK 64-Bit Server VM\n",
       "Default Encoding: UTF-8\n",
       "Language: en\n",
       "Country: null\n",
       "--></g></svg>"
      ]
     },
     "execution_count": 20,
     "metadata": {},
     "output_type": "execute_result"
    }
   ],
   "source": [
    "%viz --style=\"LR\" --view=\"Action\" \"ConnectionTest\""
   ]
  },
  {
   "cell_type": "code",
   "execution_count": 21,
   "id": "a42a7e94",
   "metadata": {
    "execution": {
     "iopub.execute_input": "2021-06-30T09:21:34.677322Z",
     "iopub.status.busy": "2021-06-30T09:21:34.676635Z",
     "iopub.status.idle": "2021-06-30T09:21:34.749462Z",
     "shell.execute_reply": "2021-06-30T09:21:34.744418Z"
    }
   },
   "outputs": [
    {
     "data": {
      "image/svg+xml": [
       "<?xml version=\"1.0\" encoding=\"UTF-8\" standalone=\"no\"?><svg xmlns=\"http://www.w3.org/2000/svg\" xmlns:xlink=\"http://www.w3.org/1999/xlink\" contentScriptType=\"application/ecmascript\" contentStyleType=\"text/css\" height=\"196px\" preserveAspectRatio=\"none\" style=\"width:544px;height:196px;\" version=\"1.1\" viewBox=\"0 0 544 196\" width=\"544px\" zoomAndPan=\"magnify\"><defs/><g><!--MD5=[fbc87193dbaf4d95561dea2c320d4a47]\n",
       "cluster E1--><a href=\"psysml:22aef044-e637-4155-a6c9-7ceaf878199d\" target=\"_top\" title=\"psysml:22aef044-e637-4155-a6c9-7ceaf878199d\" xlink:actuate=\"onRequest\" xlink:href=\"psysml:22aef044-e637-4155-a6c9-7ceaf878199d\" xlink:show=\"new\" xlink:title=\"psysml:22aef044-e637-4155-a6c9-7ceaf878199d\" xlink:type=\"simple\"><polygon fill=\"#FFFFFF\" points=\"16,6,147,6,154,28.2969,522,28.2969,522,184,16,184,16,6\" style=\"stroke: #000000; stroke-width: 1.5;\"/><line style=\"stroke: #000000; stroke-width: 1.5;\" x1=\"16\" x2=\"154\" y1=\"28.2969\" y2=\"28.2969\"/><text fill=\"#000000\" font-family=\"sans-serif\" font-size=\"14\" font-weight=\"bold\" lengthAdjust=\"spacingAndGlyphs\" textLength=\"125\" x=\"20\" y=\"20.9951\">ConnectionTest</text></a><!--MD5=[b4997ac47864f28c2f74865a473b2911]\n",
       "class E2--><a href=\"psysml:4372fe5d-a54c-4736-ace6-05c35a4b2fd0\" target=\"_top\" title=\"psysml:4372fe5d-a54c-4736-ace6-05c35a4b2fd0\" xlink:actuate=\"onRequest\" xlink:href=\"psysml:4372fe5d-a54c-4736-ace6-05c35a4b2fd0\" xlink:show=\"new\" xlink:title=\"psysml:4372fe5d-a54c-4736-ace6-05c35a4b2fd0\" xlink:type=\"simple\"><rect fill=\"#FFFFFF\" height=\"45.9375\" id=\"E2\" rx=\"10\" ry=\"10\" style=\"stroke: #383838; stroke-width: 1.5;\" width=\"42\" x=\"260\" y=\"82\"/><text fill=\"#000000\" font-family=\"sans-serif\" font-size=\"12\" font-style=\"italic\" lengthAdjust=\"spacingAndGlyphs\" textLength=\"40\" x=\"261\" y=\"98.1387\">«part»</text><text fill=\"#000000\" font-family=\"sans-serif\" font-size=\"12\" lengthAdjust=\"spacingAndGlyphs\" textLength=\"8\" x=\"277\" y=\"112.1074\">p</text><line style=\"stroke: #383838; stroke-width: 1.5;\" x1=\"261\" x2=\"301\" y1=\"119.9375\" y2=\"119.9375\"/></a><!--MD5=[09b614a08d8cba4a07c9adeb5e0fee81]\n",
       "class E3--><a href=\"psysml:3f2b8857-d9ea-41c6-bb7a-db05d1986c1a\" target=\"_top\" title=\"psysml:3f2b8857-d9ea-41c6-bb7a-db05d1986c1a\" xlink:actuate=\"onRequest\" xlink:href=\"psysml:3f2b8857-d9ea-41c6-bb7a-db05d1986c1a\" xlink:show=\"new\" xlink:title=\"psysml:3f2b8857-d9ea-41c6-bb7a-db05d1986c1a\" xlink:type=\"simple\"><rect fill=\"#FFFFFF\" height=\"45.9375\" id=\"E3\" rx=\"10\" ry=\"10\" style=\"stroke: #383838; stroke-width: 1.5;\" width=\"42\" x=\"362\" y=\"82\"/><text fill=\"#000000\" font-family=\"sans-serif\" font-size=\"12\" font-style=\"italic\" lengthAdjust=\"spacingAndGlyphs\" textLength=\"40\" x=\"363\" y=\"98.1387\">«part»</text><text fill=\"#000000\" font-family=\"sans-serif\" font-size=\"12\" lengthAdjust=\"spacingAndGlyphs\" textLength=\"6\" x=\"380\" y=\"112.1074\">x</text><line style=\"stroke: #383838; stroke-width: 1.5;\" x1=\"363\" x2=\"403\" y1=\"119.9375\" y2=\"119.9375\"/></a><!--MD5=[ebbe1d658d1005bcc118a6aa81145e00]\n",
       "class E4--><a href=\"psysml:e84cebed-6405-49c5-b413-5d504fb47cee\" target=\"_top\" title=\"psysml:e84cebed-6405-49c5-b413-5d504fb47cee\" xlink:actuate=\"onRequest\" xlink:href=\"psysml:e84cebed-6405-49c5-b413-5d504fb47cee\" xlink:show=\"new\" xlink:title=\"psysml:e84cebed-6405-49c5-b413-5d504fb47cee\" xlink:type=\"simple\"><rect fill=\"#FFFFFF\" height=\"45.9375\" id=\"E4\" rx=\"10\" ry=\"10\" style=\"stroke: #383838; stroke-width: 1.5;\" width=\"42\" x=\"464\" y=\"82\"/><text fill=\"#000000\" font-family=\"sans-serif\" font-size=\"12\" font-style=\"italic\" lengthAdjust=\"spacingAndGlyphs\" textLength=\"40\" x=\"465\" y=\"98.1387\">«part»</text><text fill=\"#000000\" font-family=\"sans-serif\" font-size=\"12\" lengthAdjust=\"spacingAndGlyphs\" textLength=\"14\" x=\"478\" y=\"112.1074\">x1</text><line style=\"stroke: #383838; stroke-width: 1.5;\" x1=\"465\" x2=\"505\" y1=\"119.9375\" y2=\"119.9375\"/></a><!--MD5=[270fce915f116d4de14055a7c1d9a0f3]\n",
       "class E5--><a href=\"psysml:ba7b03ba-afee-4a2c-95ba-c440e322d2ee\" target=\"_top\" title=\"psysml:ba7b03ba-afee-4a2c-95ba-c440e322d2ee\" xlink:actuate=\"onRequest\" xlink:href=\"psysml:ba7b03ba-afee-4a2c-95ba-c440e322d2ee\" xlink:show=\"new\" xlink:title=\"psysml:ba7b03ba-afee-4a2c-95ba-c440e322d2ee\" xlink:type=\"simple\"><rect fill=\"#FFFFFF\" height=\"45.9375\" id=\"E5\" style=\"stroke: #383838; stroke-width: 1.5;\" width=\"66\" x=\"32\" y=\"82\"/><text fill=\"#000000\" font-family=\"sans-serif\" font-size=\"12\" font-style=\"italic\" lengthAdjust=\"spacingAndGlyphs\" textLength=\"64\" x=\"33\" y=\"98.1387\">«part def»</text><text fill=\"#000000\" font-family=\"sans-serif\" font-size=\"12\" lengthAdjust=\"spacingAndGlyphs\" textLength=\"8\" x=\"61\" y=\"112.1074\">P</text><line style=\"stroke: #383838; stroke-width: 1.5;\" x1=\"33\" x2=\"97\" y1=\"119.9375\" y2=\"119.9375\"/></a><!--MD5=[60a26617385b1d2d0262a64233df1f8d]\n",
       "class E6--><a href=\"psysml:6b502337-597a-4c17-979b-8872526dd5b6\" target=\"_top\" title=\"psysml:6b502337-597a-4c17-979b-8872526dd5b6\" xlink:actuate=\"onRequest\" xlink:href=\"psysml:6b502337-597a-4c17-979b-8872526dd5b6\" xlink:show=\"new\" xlink:title=\"psysml:6b502337-597a-4c17-979b-8872526dd5b6\" xlink:type=\"simple\"><rect fill=\"#FFFFFF\" height=\"45.9375\" id=\"E6\" rx=\"10\" ry=\"10\" style=\"stroke: #383838; stroke-width: 1.5;\" width=\"42\" x=\"158\" y=\"122\"/><text fill=\"#000000\" font-family=\"sans-serif\" font-size=\"12\" font-style=\"italic\" lengthAdjust=\"spacingAndGlyphs\" textLength=\"40\" x=\"159\" y=\"138.1387\">«part»</text><text fill=\"#000000\" font-family=\"sans-serif\" font-size=\"12\" lengthAdjust=\"spacingAndGlyphs\" textLength=\"6\" x=\"176\" y=\"152.1074\">y</text><line style=\"stroke: #383838; stroke-width: 1.5;\" x1=\"159\" x2=\"199\" y1=\"159.9375\" y2=\"159.9375\"/></a><!--MD5=[2156ba9850f5573cc1fc38a6a4b2f02b]\n",
       "class E7--><a href=\"psysml:c0882630-04b8-4e6c-a043-bd39b4f2710a\" target=\"_top\" title=\"psysml:c0882630-04b8-4e6c-a043-bd39b4f2710a\" xlink:actuate=\"onRequest\" xlink:href=\"psysml:c0882630-04b8-4e6c-a043-bd39b4f2710a\" xlink:show=\"new\" xlink:title=\"psysml:c0882630-04b8-4e6c-a043-bd39b4f2710a\" xlink:type=\"simple\"><rect fill=\"#FFFFFF\" height=\"45.9375\" id=\"E7\" rx=\"10\" ry=\"10\" style=\"stroke: #383838; stroke-width: 1.5;\" width=\"42\" x=\"158\" y=\"41\"/><text fill=\"#000000\" font-family=\"sans-serif\" font-size=\"12\" font-style=\"italic\" lengthAdjust=\"spacingAndGlyphs\" textLength=\"40\" x=\"159\" y=\"57.1387\">«part»</text><text fill=\"#000000\" font-family=\"sans-serif\" font-size=\"12\" lengthAdjust=\"spacingAndGlyphs\" textLength=\"16\" x=\"171\" y=\"71.1074\">p1</text><line style=\"stroke: #383838; stroke-width: 1.5;\" x1=\"159\" x2=\"199\" y1=\"78.9375\" y2=\"78.9375\"/></a><!--MD5=[209b3feb70ccb6233bfe1053d122c12c]\n",
       "reverse link E2 to E3--><a href=\"psysml:d551e406-73fb-4a91-a080-fc440127a640\" target=\"_top\" title=\"psysml:d551e406-73fb-4a91-a080-fc440127a640\" xlink:actuate=\"onRequest\" xlink:href=\"psysml:d551e406-73fb-4a91-a080-fc440127a640\" xlink:show=\"new\" xlink:title=\"psysml:d551e406-73fb-4a91-a080-fc440127a640\" xlink:type=\"simple\"><path d=\"M315.48,105 C330.83,105 348.52,105 361.79,105 \" fill=\"none\" id=\"E2&lt;-E3\" style=\"stroke: #383838; stroke-width: 1.0;\"/><polygon fill=\"#383838\" points=\"302.24,105,308.24,109,314.24,105,308.24,101,302.24,105\" style=\"stroke: #383838; stroke-width: 1.0;\"/></a><!--MD5=[4672eba38e49728da53d11aeb285b987]\n",
       "reverse link E3 to E4--><a href=\"psysml:0c62ef63-43f3-4799-a069-927499b27fb4\" target=\"_top\" title=\"psysml:0c62ef63-43f3-4799-a069-927499b27fb4\" xlink:actuate=\"onRequest\" xlink:href=\"psysml:0c62ef63-43f3-4799-a069-927499b27fb4\" xlink:show=\"new\" xlink:title=\"psysml:0c62ef63-43f3-4799-a069-927499b27fb4\" xlink:type=\"simple\"><path d=\"M417.48,105 C432.83,105 450.52,105 463.79,105 \" fill=\"none\" id=\"E3&lt;-E4\" style=\"stroke: #383838; stroke-width: 1.0;\"/><polygon fill=\"#383838\" points=\"404.24,105,410.24,109,416.24,105,410.24,101,404.24,105\" style=\"stroke: #383838; stroke-width: 1.0;\"/></a><!--MD5=[85d356282659285ab4b2cfe2f634dd2b]\n",
       "reverse link E5 to E6--><a href=\"psysml:bccb9dd4-409f-48ce-8915-27f20628680f\" target=\"_top\" title=\"psysml:bccb9dd4-409f-48ce-8915-27f20628680f\" xlink:actuate=\"onRequest\" xlink:href=\"psysml:bccb9dd4-409f-48ce-8915-27f20628680f\" xlink:show=\"new\" xlink:title=\"psysml:bccb9dd4-409f-48ce-8915-27f20628680f\" xlink:type=\"simple\"><path d=\"M110.79,121 C127.12,126.83 144.77,133.13 157.89,137.82 \" fill=\"none\" id=\"E5&lt;-E6\" style=\"stroke: #383838; stroke-width: 1.0;\"/><polygon fill=\"#383838\" points=\"98.09,116.46,102.3955,122.2447,109.3912,120.4952,105.0857,114.7105,98.09,116.46\" style=\"stroke: #383838; stroke-width: 1.0;\"/></a><!--MD5=[2351f337d6de0f557b50152ba70847b5]\n",
       "link E6 to E2--><a href=\"psysml:3c2ac290-8ac1-4000-af3e-5bcf9ecf7966\" target=\"_top\" title=\"psysml:3c2ac290-8ac1-4000-af3e-5bcf9ecf7966\" xlink:actuate=\"onRequest\" xlink:href=\"psysml:3c2ac290-8ac1-4000-af3e-5bcf9ecf7966\" xlink:show=\"new\" xlink:title=\"psysml:3c2ac290-8ac1-4000-af3e-5bcf9ecf7966\" xlink:type=\"simple\"><path d=\"M200.24,136.91 C217.59,129.97 242.45,120.02 259.79,113.08 \" fill=\"none\" id=\"E6-E2\" style=\"stroke: #383838; stroke-width: 3.0;\"/></a><!--MD5=[452b418e7f8a40397a49b8c0a78acc5b]\n",
       "reverse link E5 to E7--><a href=\"psysml:97bf4e08-a4b3-492a-87d8-6adc842be5d3\" target=\"_top\" title=\"psysml:97bf4e08-a4b3-492a-87d8-6adc842be5d3\" xlink:actuate=\"onRequest\" xlink:href=\"psysml:97bf4e08-a4b3-492a-87d8-6adc842be5d3\" xlink:show=\"new\" xlink:title=\"psysml:97bf4e08-a4b3-492a-87d8-6adc842be5d3\" xlink:type=\"simple\"><path d=\"M110.31,88.78 C126.77,82.75 144.64,76.21 157.89,71.36 \" fill=\"none\" id=\"E5&lt;-E7\" style=\"stroke: #383838; stroke-width: 1.0;\"/><polygon fill=\"#383838\" points=\"98.09,93.25,105.1,94.9409,109.3571,89.1205,102.347,87.4296,98.09,93.25\" style=\"stroke: #383838; stroke-width: 1.0;\"/></a><!--MD5=[583832df87f4419a098336a29a52fa00]\n",
       "link E7 to E2--><a href=\"psysml:6815ba90-0374-438b-ad93-53c34ddf71b8\" target=\"_top\" title=\"psysml:6815ba90-0374-438b-ad93-53c34ddf71b8\" xlink:actuate=\"onRequest\" xlink:href=\"psysml:6815ba90-0374-438b-ad93-53c34ddf71b8\" xlink:show=\"new\" xlink:title=\"psysml:6815ba90-0374-438b-ad93-53c34ddf71b8\" xlink:type=\"simple\"><path d=\"M200.24,72.3 C211.89,77.08 226.94,83.25 240.82,88.94 \" fill=\"none\" id=\"E7-&gt;E2\" style=\"stroke: #383838; stroke-width: 1.0;\"/><polygon fill=\"none\" points=\"243.94,82.65,259.79,96.72,238.63,95.61,243.94,82.65\" style=\"stroke: #383838; stroke-width: 1.0;\"/></a><!--MD5=[d0575f0d67d5e28f14d1f90266f70ab0]\n",
       "@startuml\r\n",
       "left to right direction\r\n",
       "skinparam monochrome true\r\n",
       "skinparam classbackgroundcolor white\r\n",
       "skinparam shadowing false\r\n",
       "skinparam wrapWidth 300\r\n",
       "hide circle\r\n",
       "\r\n",
       "package \"ConnectionTest\" as E1  [[psysml:22aef044-e637-4155-a6c9-7ceaf878199d ]]  {\r\n",
       "comp usage \"p\" as E2  <<(T,blue) part>> [[psysml:4372fe5d-a54c-4736-ace6-05c35a4b2fd0 ]] {\r\n",
       "}\r\n",
       "comp usage \"x\" as E3  <<(T,blue) part>> [[psysml:3f2b8857-d9ea-41c6-bb7a-db05d1986c1a ]] {\r\n",
       "}\r\n",
       "comp usage \"x1\" as E4  <<(T,blue) part>> [[psysml:e84cebed-6405-49c5-b413-5d504fb47cee ]] {\r\n",
       "}\r\n",
       "comp def \"P\" as E5  <<(T,blue) part def>> [[psysml:ba7b03ba-afee-4a2c-95ba-c440e322d2ee ]] {\r\n",
       "}\r\n",
       "comp usage \"y\" as E6  <<(T,blue) part>> [[psysml:6b502337-597a-4c17-979b-8872526dd5b6 ]] {\r\n",
       "}\r\n",
       "comp usage \"p1\" as E7  <<(T,blue) part>> [[psysml:c0882630-04b8-4e6c-a043-bd39b4f2710a ]] {\r\n",
       "}\r\n",
       "E2 *- - E3 [[psysml:d551e406-73fb-4a91-a080-fc440127a640 ]] \r\n",
       "E3 *- - E4 [[psysml:0c62ef63-43f3-4799-a069-927499b27fb4 ]] \r\n",
       "E5 *- - E6 [[psysml:bccb9dd4-409f-48ce-8915-27f20628680f ]] \r\n",
       "E6 -[thickness=3]- E2 [[psysml:3c2ac290-8ac1-4000-af3e-5bcf9ecf7966 ]] \r\n",
       "E5 *- - E7 [[psysml:97bf4e08-a4b3-492a-87d8-6adc842be5d3 ]] \r\n",
       "E7 - -|> E2 [[psysml:6815ba90-0374-438b-ad93-53c34ddf71b8 ]] \r\n",
       "}\r\n",
       "@enduml\r\n",
       "\n",
       "PlantUML version 1.2020.13(Sat Jun 13 12:26:38 UTC 2020)\n",
       "(EPL source distribution)\n",
       "Java Runtime: OpenJDK Runtime Environment\n",
       "JVM: OpenJDK 64-Bit Server VM\n",
       "Default Encoding: UTF-8\n",
       "Language: en\n",
       "Country: null\n",
       "--></g></svg>"
      ]
     },
     "execution_count": 21,
     "metadata": {},
     "output_type": "execute_result"
    }
   ],
   "source": [
    "%viz --style=\"LR\" --view=\"Sequence\" \"ConnectionTest\""
   ]
  },
  {
   "cell_type": "code",
   "execution_count": 22,
   "id": "e2f2162a",
   "metadata": {
    "execution": {
     "iopub.execute_input": "2021-06-30T09:21:34.806275Z",
     "iopub.status.busy": "2021-06-30T09:21:34.803147Z",
     "iopub.status.idle": "2021-06-30T09:21:34.869731Z",
     "shell.execute_reply": "2021-06-30T09:21:34.869301Z"
    }
   },
   "outputs": [
    {
     "data": {
      "image/svg+xml": [
       "<?xml version=\"1.0\" encoding=\"UTF-8\" standalone=\"no\"?><svg xmlns=\"http://www.w3.org/2000/svg\" xmlns:xlink=\"http://www.w3.org/1999/xlink\" contentScriptType=\"application/ecmascript\" contentStyleType=\"text/css\" height=\"196px\" preserveAspectRatio=\"none\" style=\"width:544px;height:196px;\" version=\"1.1\" viewBox=\"0 0 544 196\" width=\"544px\" zoomAndPan=\"magnify\"><defs/><g><!--MD5=[fbc87193dbaf4d95561dea2c320d4a47]\n",
       "cluster E1--><a href=\"psysml:22aef044-e637-4155-a6c9-7ceaf878199d\" target=\"_top\" title=\"psysml:22aef044-e637-4155-a6c9-7ceaf878199d\" xlink:actuate=\"onRequest\" xlink:href=\"psysml:22aef044-e637-4155-a6c9-7ceaf878199d\" xlink:show=\"new\" xlink:title=\"psysml:22aef044-e637-4155-a6c9-7ceaf878199d\" xlink:type=\"simple\"><polygon fill=\"#FFFFFF\" points=\"16,6,147,6,154,28.2969,522,28.2969,522,184,16,184,16,6\" style=\"stroke: #000000; stroke-width: 1.5;\"/><line style=\"stroke: #000000; stroke-width: 1.5;\" x1=\"16\" x2=\"154\" y1=\"28.2969\" y2=\"28.2969\"/><text fill=\"#000000\" font-family=\"sans-serif\" font-size=\"14\" font-weight=\"bold\" lengthAdjust=\"spacingAndGlyphs\" textLength=\"125\" x=\"20\" y=\"20.9951\">ConnectionTest</text></a><!--MD5=[b4997ac47864f28c2f74865a473b2911]\n",
       "class E2--><a href=\"psysml:4372fe5d-a54c-4736-ace6-05c35a4b2fd0\" target=\"_top\" title=\"psysml:4372fe5d-a54c-4736-ace6-05c35a4b2fd0\" xlink:actuate=\"onRequest\" xlink:href=\"psysml:4372fe5d-a54c-4736-ace6-05c35a4b2fd0\" xlink:show=\"new\" xlink:title=\"psysml:4372fe5d-a54c-4736-ace6-05c35a4b2fd0\" xlink:type=\"simple\"><rect fill=\"#FFFFFF\" height=\"45.9375\" id=\"E2\" rx=\"10\" ry=\"10\" style=\"stroke: #383838; stroke-width: 1.5;\" width=\"42\" x=\"260\" y=\"82\"/><text fill=\"#000000\" font-family=\"sans-serif\" font-size=\"12\" font-style=\"italic\" lengthAdjust=\"spacingAndGlyphs\" textLength=\"40\" x=\"261\" y=\"98.1387\">«part»</text><text fill=\"#000000\" font-family=\"sans-serif\" font-size=\"12\" lengthAdjust=\"spacingAndGlyphs\" textLength=\"8\" x=\"277\" y=\"112.1074\">p</text><line style=\"stroke: #383838; stroke-width: 1.5;\" x1=\"261\" x2=\"301\" y1=\"119.9375\" y2=\"119.9375\"/></a><!--MD5=[09b614a08d8cba4a07c9adeb5e0fee81]\n",
       "class E3--><a href=\"psysml:3f2b8857-d9ea-41c6-bb7a-db05d1986c1a\" target=\"_top\" title=\"psysml:3f2b8857-d9ea-41c6-bb7a-db05d1986c1a\" xlink:actuate=\"onRequest\" xlink:href=\"psysml:3f2b8857-d9ea-41c6-bb7a-db05d1986c1a\" xlink:show=\"new\" xlink:title=\"psysml:3f2b8857-d9ea-41c6-bb7a-db05d1986c1a\" xlink:type=\"simple\"><rect fill=\"#FFFFFF\" height=\"45.9375\" id=\"E3\" rx=\"10\" ry=\"10\" style=\"stroke: #383838; stroke-width: 1.5;\" width=\"42\" x=\"362\" y=\"82\"/><text fill=\"#000000\" font-family=\"sans-serif\" font-size=\"12\" font-style=\"italic\" lengthAdjust=\"spacingAndGlyphs\" textLength=\"40\" x=\"363\" y=\"98.1387\">«part»</text><text fill=\"#000000\" font-family=\"sans-serif\" font-size=\"12\" lengthAdjust=\"spacingAndGlyphs\" textLength=\"6\" x=\"380\" y=\"112.1074\">x</text><line style=\"stroke: #383838; stroke-width: 1.5;\" x1=\"363\" x2=\"403\" y1=\"119.9375\" y2=\"119.9375\"/></a><!--MD5=[ebbe1d658d1005bcc118a6aa81145e00]\n",
       "class E4--><a href=\"psysml:e84cebed-6405-49c5-b413-5d504fb47cee\" target=\"_top\" title=\"psysml:e84cebed-6405-49c5-b413-5d504fb47cee\" xlink:actuate=\"onRequest\" xlink:href=\"psysml:e84cebed-6405-49c5-b413-5d504fb47cee\" xlink:show=\"new\" xlink:title=\"psysml:e84cebed-6405-49c5-b413-5d504fb47cee\" xlink:type=\"simple\"><rect fill=\"#FFFFFF\" height=\"45.9375\" id=\"E4\" rx=\"10\" ry=\"10\" style=\"stroke: #383838; stroke-width: 1.5;\" width=\"42\" x=\"464\" y=\"82\"/><text fill=\"#000000\" font-family=\"sans-serif\" font-size=\"12\" font-style=\"italic\" lengthAdjust=\"spacingAndGlyphs\" textLength=\"40\" x=\"465\" y=\"98.1387\">«part»</text><text fill=\"#000000\" font-family=\"sans-serif\" font-size=\"12\" lengthAdjust=\"spacingAndGlyphs\" textLength=\"14\" x=\"478\" y=\"112.1074\">x1</text><line style=\"stroke: #383838; stroke-width: 1.5;\" x1=\"465\" x2=\"505\" y1=\"119.9375\" y2=\"119.9375\"/></a><!--MD5=[270fce915f116d4de14055a7c1d9a0f3]\n",
       "class E5--><a href=\"psysml:ba7b03ba-afee-4a2c-95ba-c440e322d2ee\" target=\"_top\" title=\"psysml:ba7b03ba-afee-4a2c-95ba-c440e322d2ee\" xlink:actuate=\"onRequest\" xlink:href=\"psysml:ba7b03ba-afee-4a2c-95ba-c440e322d2ee\" xlink:show=\"new\" xlink:title=\"psysml:ba7b03ba-afee-4a2c-95ba-c440e322d2ee\" xlink:type=\"simple\"><rect fill=\"#FFFFFF\" height=\"45.9375\" id=\"E5\" style=\"stroke: #383838; stroke-width: 1.5;\" width=\"66\" x=\"32\" y=\"82\"/><text fill=\"#000000\" font-family=\"sans-serif\" font-size=\"12\" font-style=\"italic\" lengthAdjust=\"spacingAndGlyphs\" textLength=\"64\" x=\"33\" y=\"98.1387\">«part def»</text><text fill=\"#000000\" font-family=\"sans-serif\" font-size=\"12\" lengthAdjust=\"spacingAndGlyphs\" textLength=\"8\" x=\"61\" y=\"112.1074\">P</text><line style=\"stroke: #383838; stroke-width: 1.5;\" x1=\"33\" x2=\"97\" y1=\"119.9375\" y2=\"119.9375\"/></a><!--MD5=[60a26617385b1d2d0262a64233df1f8d]\n",
       "class E6--><a href=\"psysml:6b502337-597a-4c17-979b-8872526dd5b6\" target=\"_top\" title=\"psysml:6b502337-597a-4c17-979b-8872526dd5b6\" xlink:actuate=\"onRequest\" xlink:href=\"psysml:6b502337-597a-4c17-979b-8872526dd5b6\" xlink:show=\"new\" xlink:title=\"psysml:6b502337-597a-4c17-979b-8872526dd5b6\" xlink:type=\"simple\"><rect fill=\"#FFFFFF\" height=\"45.9375\" id=\"E6\" rx=\"10\" ry=\"10\" style=\"stroke: #383838; stroke-width: 1.5;\" width=\"42\" x=\"158\" y=\"122\"/><text fill=\"#000000\" font-family=\"sans-serif\" font-size=\"12\" font-style=\"italic\" lengthAdjust=\"spacingAndGlyphs\" textLength=\"40\" x=\"159\" y=\"138.1387\">«part»</text><text fill=\"#000000\" font-family=\"sans-serif\" font-size=\"12\" lengthAdjust=\"spacingAndGlyphs\" textLength=\"6\" x=\"176\" y=\"152.1074\">y</text><line style=\"stroke: #383838; stroke-width: 1.5;\" x1=\"159\" x2=\"199\" y1=\"159.9375\" y2=\"159.9375\"/></a><!--MD5=[2156ba9850f5573cc1fc38a6a4b2f02b]\n",
       "class E7--><a href=\"psysml:c0882630-04b8-4e6c-a043-bd39b4f2710a\" target=\"_top\" title=\"psysml:c0882630-04b8-4e6c-a043-bd39b4f2710a\" xlink:actuate=\"onRequest\" xlink:href=\"psysml:c0882630-04b8-4e6c-a043-bd39b4f2710a\" xlink:show=\"new\" xlink:title=\"psysml:c0882630-04b8-4e6c-a043-bd39b4f2710a\" xlink:type=\"simple\"><rect fill=\"#FFFFFF\" height=\"45.9375\" id=\"E7\" rx=\"10\" ry=\"10\" style=\"stroke: #383838; stroke-width: 1.5;\" width=\"42\" x=\"158\" y=\"41\"/><text fill=\"#000000\" font-family=\"sans-serif\" font-size=\"12\" font-style=\"italic\" lengthAdjust=\"spacingAndGlyphs\" textLength=\"40\" x=\"159\" y=\"57.1387\">«part»</text><text fill=\"#000000\" font-family=\"sans-serif\" font-size=\"12\" lengthAdjust=\"spacingAndGlyphs\" textLength=\"16\" x=\"171\" y=\"71.1074\">p1</text><line style=\"stroke: #383838; stroke-width: 1.5;\" x1=\"159\" x2=\"199\" y1=\"78.9375\" y2=\"78.9375\"/></a><!--MD5=[209b3feb70ccb6233bfe1053d122c12c]\n",
       "reverse link E2 to E3--><a href=\"psysml:d551e406-73fb-4a91-a080-fc440127a640\" target=\"_top\" title=\"psysml:d551e406-73fb-4a91-a080-fc440127a640\" xlink:actuate=\"onRequest\" xlink:href=\"psysml:d551e406-73fb-4a91-a080-fc440127a640\" xlink:show=\"new\" xlink:title=\"psysml:d551e406-73fb-4a91-a080-fc440127a640\" xlink:type=\"simple\"><path d=\"M315.48,105 C330.83,105 348.52,105 361.79,105 \" fill=\"none\" id=\"E2&lt;-E3\" style=\"stroke: #383838; stroke-width: 1.0;\"/><polygon fill=\"#383838\" points=\"302.24,105,308.24,109,314.24,105,308.24,101,302.24,105\" style=\"stroke: #383838; stroke-width: 1.0;\"/></a><!--MD5=[4672eba38e49728da53d11aeb285b987]\n",
       "reverse link E3 to E4--><a href=\"psysml:0c62ef63-43f3-4799-a069-927499b27fb4\" target=\"_top\" title=\"psysml:0c62ef63-43f3-4799-a069-927499b27fb4\" xlink:actuate=\"onRequest\" xlink:href=\"psysml:0c62ef63-43f3-4799-a069-927499b27fb4\" xlink:show=\"new\" xlink:title=\"psysml:0c62ef63-43f3-4799-a069-927499b27fb4\" xlink:type=\"simple\"><path d=\"M417.48,105 C432.83,105 450.52,105 463.79,105 \" fill=\"none\" id=\"E3&lt;-E4\" style=\"stroke: #383838; stroke-width: 1.0;\"/><polygon fill=\"#383838\" points=\"404.24,105,410.24,109,416.24,105,410.24,101,404.24,105\" style=\"stroke: #383838; stroke-width: 1.0;\"/></a><!--MD5=[85d356282659285ab4b2cfe2f634dd2b]\n",
       "reverse link E5 to E6--><a href=\"psysml:bccb9dd4-409f-48ce-8915-27f20628680f\" target=\"_top\" title=\"psysml:bccb9dd4-409f-48ce-8915-27f20628680f\" xlink:actuate=\"onRequest\" xlink:href=\"psysml:bccb9dd4-409f-48ce-8915-27f20628680f\" xlink:show=\"new\" xlink:title=\"psysml:bccb9dd4-409f-48ce-8915-27f20628680f\" xlink:type=\"simple\"><path d=\"M110.79,121 C127.12,126.83 144.77,133.13 157.89,137.82 \" fill=\"none\" id=\"E5&lt;-E6\" style=\"stroke: #383838; stroke-width: 1.0;\"/><polygon fill=\"#383838\" points=\"98.09,116.46,102.3955,122.2447,109.3912,120.4952,105.0857,114.7105,98.09,116.46\" style=\"stroke: #383838; stroke-width: 1.0;\"/></a><!--MD5=[2351f337d6de0f557b50152ba70847b5]\n",
       "link E6 to E2--><a href=\"psysml:3c2ac290-8ac1-4000-af3e-5bcf9ecf7966\" target=\"_top\" title=\"psysml:3c2ac290-8ac1-4000-af3e-5bcf9ecf7966\" xlink:actuate=\"onRequest\" xlink:href=\"psysml:3c2ac290-8ac1-4000-af3e-5bcf9ecf7966\" xlink:show=\"new\" xlink:title=\"psysml:3c2ac290-8ac1-4000-af3e-5bcf9ecf7966\" xlink:type=\"simple\"><path d=\"M200.24,136.91 C217.59,129.97 242.45,120.02 259.79,113.08 \" fill=\"none\" id=\"E6-E2\" style=\"stroke: #383838; stroke-width: 3.0;\"/></a><!--MD5=[452b418e7f8a40397a49b8c0a78acc5b]\n",
       "reverse link E5 to E7--><a href=\"psysml:97bf4e08-a4b3-492a-87d8-6adc842be5d3\" target=\"_top\" title=\"psysml:97bf4e08-a4b3-492a-87d8-6adc842be5d3\" xlink:actuate=\"onRequest\" xlink:href=\"psysml:97bf4e08-a4b3-492a-87d8-6adc842be5d3\" xlink:show=\"new\" xlink:title=\"psysml:97bf4e08-a4b3-492a-87d8-6adc842be5d3\" xlink:type=\"simple\"><path d=\"M110.31,88.78 C126.77,82.75 144.64,76.21 157.89,71.36 \" fill=\"none\" id=\"E5&lt;-E7\" style=\"stroke: #383838; stroke-width: 1.0;\"/><polygon fill=\"#383838\" points=\"98.09,93.25,105.1,94.9409,109.3571,89.1205,102.347,87.4296,98.09,93.25\" style=\"stroke: #383838; stroke-width: 1.0;\"/></a><!--MD5=[583832df87f4419a098336a29a52fa00]\n",
       "link E7 to E2--><a href=\"psysml:6815ba90-0374-438b-ad93-53c34ddf71b8\" target=\"_top\" title=\"psysml:6815ba90-0374-438b-ad93-53c34ddf71b8\" xlink:actuate=\"onRequest\" xlink:href=\"psysml:6815ba90-0374-438b-ad93-53c34ddf71b8\" xlink:show=\"new\" xlink:title=\"psysml:6815ba90-0374-438b-ad93-53c34ddf71b8\" xlink:type=\"simple\"><path d=\"M200.24,72.3 C211.89,77.08 226.94,83.25 240.82,88.94 \" fill=\"none\" id=\"E7-&gt;E2\" style=\"stroke: #383838; stroke-width: 1.0;\"/><polygon fill=\"none\" points=\"243.94,82.65,259.79,96.72,238.63,95.61,243.94,82.65\" style=\"stroke: #383838; stroke-width: 1.0;\"/></a><!--MD5=[d0575f0d67d5e28f14d1f90266f70ab0]\n",
       "@startuml\r\n",
       "left to right direction\r\n",
       "skinparam monochrome true\r\n",
       "skinparam classbackgroundcolor white\r\n",
       "skinparam shadowing false\r\n",
       "skinparam wrapWidth 300\r\n",
       "hide circle\r\n",
       "\r\n",
       "package \"ConnectionTest\" as E1  [[psysml:22aef044-e637-4155-a6c9-7ceaf878199d ]]  {\r\n",
       "comp usage \"p\" as E2  <<(T,blue) part>> [[psysml:4372fe5d-a54c-4736-ace6-05c35a4b2fd0 ]] {\r\n",
       "}\r\n",
       "comp usage \"x\" as E3  <<(T,blue) part>> [[psysml:3f2b8857-d9ea-41c6-bb7a-db05d1986c1a ]] {\r\n",
       "}\r\n",
       "comp usage \"x1\" as E4  <<(T,blue) part>> [[psysml:e84cebed-6405-49c5-b413-5d504fb47cee ]] {\r\n",
       "}\r\n",
       "comp def \"P\" as E5  <<(T,blue) part def>> [[psysml:ba7b03ba-afee-4a2c-95ba-c440e322d2ee ]] {\r\n",
       "}\r\n",
       "comp usage \"y\" as E6  <<(T,blue) part>> [[psysml:6b502337-597a-4c17-979b-8872526dd5b6 ]] {\r\n",
       "}\r\n",
       "comp usage \"p1\" as E7  <<(T,blue) part>> [[psysml:c0882630-04b8-4e6c-a043-bd39b4f2710a ]] {\r\n",
       "}\r\n",
       "E2 *- - E3 [[psysml:d551e406-73fb-4a91-a080-fc440127a640 ]] \r\n",
       "E3 *- - E4 [[psysml:0c62ef63-43f3-4799-a069-927499b27fb4 ]] \r\n",
       "E5 *- - E6 [[psysml:bccb9dd4-409f-48ce-8915-27f20628680f ]] \r\n",
       "E6 -[thickness=3]- E2 [[psysml:3c2ac290-8ac1-4000-af3e-5bcf9ecf7966 ]] \r\n",
       "E5 *- - E7 [[psysml:97bf4e08-a4b3-492a-87d8-6adc842be5d3 ]] \r\n",
       "E7 - -|> E2 [[psysml:6815ba90-0374-438b-ad93-53c34ddf71b8 ]] \r\n",
       "}\r\n",
       "@enduml\r\n",
       "\n",
       "PlantUML version 1.2020.13(Sat Jun 13 12:26:38 UTC 2020)\n",
       "(EPL source distribution)\n",
       "Java Runtime: OpenJDK Runtime Environment\n",
       "JVM: OpenJDK 64-Bit Server VM\n",
       "Default Encoding: UTF-8\n",
       "Language: en\n",
       "Country: null\n",
       "--></g></svg>"
      ]
     },
     "execution_count": 22,
     "metadata": {},
     "output_type": "execute_result"
    }
   ],
   "source": [
    "%viz --style=\"LR\" --view=\"MIXED\" \"ConnectionTest\""
   ]
  },
  {
   "cell_type": "code",
   "execution_count": 23,
   "id": "5b9ab889",
   "metadata": {
    "execution": {
     "iopub.execute_input": "2021-06-30T09:21:34.922265Z",
     "iopub.status.busy": "2021-06-30T09:21:34.921537Z",
     "iopub.status.idle": "2021-06-30T09:21:34.990811Z",
     "shell.execute_reply": "2021-06-30T09:21:34.986956Z"
    }
   },
   "outputs": [
    {
     "data": {
      "image/svg+xml": [
       "<?xml version=\"1.0\" encoding=\"UTF-8\" standalone=\"no\"?><svg xmlns=\"http://www.w3.org/2000/svg\" xmlns:xlink=\"http://www.w3.org/1999/xlink\" contentScriptType=\"application/ecmascript\" contentStyleType=\"text/css\" height=\"539px\" preserveAspectRatio=\"none\" style=\"width:189px;height:539px;\" version=\"1.1\" viewBox=\"0 0 189 539\" width=\"189px\" zoomAndPan=\"magnify\"><defs><filter height=\"300%\" id=\"f1s81opadvkwc2\" width=\"300%\" x=\"-1\" y=\"-1\"><feGaussianBlur result=\"blurOut\" stdDeviation=\"2.0\"/><feColorMatrix in=\"blurOut\" result=\"blurOut2\" type=\"matrix\" values=\"0 0 0 0 0 0 0 0 0 0 0 0 0 0 0 0 0 0 .4 0\"/><feOffset dx=\"4.0\" dy=\"4.0\" in=\"blurOut2\" result=\"blurOut3\"/><feBlend in=\"SourceGraphic\" in2=\"blurOut3\" mode=\"normal\"/></filter></defs><g><!--MD5=[fbc87193dbaf4d95561dea2c320d4a47]\n",
       "cluster E1--><a href=\"psysml:22aef044-e637-4155-a6c9-7ceaf878199d\" target=\"_top\" title=\"psysml:22aef044-e637-4155-a6c9-7ceaf878199d\" xlink:actuate=\"onRequest\" xlink:href=\"psysml:22aef044-e637-4155-a6c9-7ceaf878199d\" xlink:show=\"new\" xlink:title=\"psysml:22aef044-e637-4155-a6c9-7ceaf878199d\" xlink:type=\"simple\"><polygon fill=\"#FFFFFF\" filter=\"url(#f1s81opadvkwc2)\" points=\"16,6,147,6,154,28.2969,167,28.2969,167,527,16,527,16,6\" style=\"stroke: #000000; stroke-width: 1.5;\"/><line style=\"stroke: #000000; stroke-width: 1.5;\" x1=\"16\" x2=\"154\" y1=\"28.2969\" y2=\"28.2969\"/><text fill=\"#000000\" font-family=\"sans-serif\" font-size=\"14\" font-weight=\"bold\" lengthAdjust=\"spacingAndGlyphs\" textLength=\"125\" x=\"20\" y=\"20.9951\">ConnectionTest</text></a><!--MD5=[b4997ac47864f28c2f74865a473b2911]\n",
       "class E2--><a href=\"psysml:4372fe5d-a54c-4736-ace6-05c35a4b2fd0\" target=\"_top\" title=\"psysml:4372fe5d-a54c-4736-ace6-05c35a4b2fd0\" xlink:actuate=\"onRequest\" xlink:href=\"psysml:4372fe5d-a54c-4736-ace6-05c35a4b2fd0\" xlink:show=\"new\" xlink:title=\"psysml:4372fe5d-a54c-4736-ace6-05c35a4b2fd0\" xlink:type=\"simple\"><rect fill=\"#FEFECE\" filter=\"url(#f1s81opadvkwc2)\" height=\"45.9375\" id=\"E2\" rx=\"10\" ry=\"10\" style=\"stroke: #A80036; stroke-width: 1.5;\" width=\"42\" x=\"70\" y=\"253\"/><text fill=\"#000000\" font-family=\"sans-serif\" font-size=\"12\" font-style=\"italic\" lengthAdjust=\"spacingAndGlyphs\" textLength=\"40\" x=\"71\" y=\"269.1387\">«part»</text><text fill=\"#000000\" font-family=\"sans-serif\" font-size=\"12\" lengthAdjust=\"spacingAndGlyphs\" textLength=\"8\" x=\"87\" y=\"283.1074\">p</text><line style=\"stroke: #A80036; stroke-width: 1.5;\" x1=\"71\" x2=\"111\" y1=\"290.9375\" y2=\"290.9375\"/></a><!--MD5=[09b614a08d8cba4a07c9adeb5e0fee81]\n",
       "class E3--><a href=\"psysml:3f2b8857-d9ea-41c6-bb7a-db05d1986c1a\" target=\"_top\" title=\"psysml:3f2b8857-d9ea-41c6-bb7a-db05d1986c1a\" xlink:actuate=\"onRequest\" xlink:href=\"psysml:3f2b8857-d9ea-41c6-bb7a-db05d1986c1a\" xlink:show=\"new\" xlink:title=\"psysml:3f2b8857-d9ea-41c6-bb7a-db05d1986c1a\" xlink:type=\"simple\"><rect fill=\"#FEFECE\" filter=\"url(#f1s81opadvkwc2)\" height=\"45.9375\" id=\"E3\" rx=\"10\" ry=\"10\" style=\"stroke: #A80036; stroke-width: 1.5;\" width=\"42\" x=\"70\" y=\"359\"/><text fill=\"#000000\" font-family=\"sans-serif\" font-size=\"12\" font-style=\"italic\" lengthAdjust=\"spacingAndGlyphs\" textLength=\"40\" x=\"71\" y=\"375.1387\">«part»</text><text fill=\"#000000\" font-family=\"sans-serif\" font-size=\"12\" lengthAdjust=\"spacingAndGlyphs\" textLength=\"6\" x=\"88\" y=\"389.1074\">x</text><line style=\"stroke: #A80036; stroke-width: 1.5;\" x1=\"71\" x2=\"111\" y1=\"396.9375\" y2=\"396.9375\"/></a><!--MD5=[ebbe1d658d1005bcc118a6aa81145e00]\n",
       "class E4--><a href=\"psysml:e84cebed-6405-49c5-b413-5d504fb47cee\" target=\"_top\" title=\"psysml:e84cebed-6405-49c5-b413-5d504fb47cee\" xlink:actuate=\"onRequest\" xlink:href=\"psysml:e84cebed-6405-49c5-b413-5d504fb47cee\" xlink:show=\"new\" xlink:title=\"psysml:e84cebed-6405-49c5-b413-5d504fb47cee\" xlink:type=\"simple\"><rect fill=\"#FEFECE\" filter=\"url(#f1s81opadvkwc2)\" height=\"45.9375\" id=\"E4\" rx=\"10\" ry=\"10\" style=\"stroke: #A80036; stroke-width: 1.5;\" width=\"42\" x=\"70\" y=\"465\"/><text fill=\"#000000\" font-family=\"sans-serif\" font-size=\"12\" font-style=\"italic\" lengthAdjust=\"spacingAndGlyphs\" textLength=\"40\" x=\"71\" y=\"481.1387\">«part»</text><text fill=\"#000000\" font-family=\"sans-serif\" font-size=\"12\" lengthAdjust=\"spacingAndGlyphs\" textLength=\"14\" x=\"84\" y=\"495.1074\">x1</text><line style=\"stroke: #A80036; stroke-width: 1.5;\" x1=\"71\" x2=\"111\" y1=\"502.9375\" y2=\"502.9375\"/></a><!--MD5=[270fce915f116d4de14055a7c1d9a0f3]\n",
       "class E5--><a href=\"psysml:ba7b03ba-afee-4a2c-95ba-c440e322d2ee\" target=\"_top\" title=\"psysml:ba7b03ba-afee-4a2c-95ba-c440e322d2ee\" xlink:actuate=\"onRequest\" xlink:href=\"psysml:ba7b03ba-afee-4a2c-95ba-c440e322d2ee\" xlink:show=\"new\" xlink:title=\"psysml:ba7b03ba-afee-4a2c-95ba-c440e322d2ee\" xlink:type=\"simple\"><rect fill=\"#FEFECE\" filter=\"url(#f1s81opadvkwc2)\" height=\"45.9375\" id=\"E5\" style=\"stroke: #A80036; stroke-width: 1.5;\" width=\"66\" x=\"58\" y=\"41\"/><text fill=\"#000000\" font-family=\"sans-serif\" font-size=\"12\" font-style=\"italic\" lengthAdjust=\"spacingAndGlyphs\" textLength=\"64\" x=\"59\" y=\"57.1387\">«part def»</text><text fill=\"#000000\" font-family=\"sans-serif\" font-size=\"12\" lengthAdjust=\"spacingAndGlyphs\" textLength=\"8\" x=\"87\" y=\"71.1074\">P</text><line style=\"stroke: #A80036; stroke-width: 1.5;\" x1=\"59\" x2=\"123\" y1=\"78.9375\" y2=\"78.9375\"/></a><!--MD5=[60a26617385b1d2d0262a64233df1f8d]\n",
       "class E6--><a href=\"psysml:6b502337-597a-4c17-979b-8872526dd5b6\" target=\"_top\" title=\"psysml:6b502337-597a-4c17-979b-8872526dd5b6\" xlink:actuate=\"onRequest\" xlink:href=\"psysml:6b502337-597a-4c17-979b-8872526dd5b6\" xlink:show=\"new\" xlink:title=\"psysml:6b502337-597a-4c17-979b-8872526dd5b6\" xlink:type=\"simple\"><rect fill=\"#FEFECE\" filter=\"url(#f1s81opadvkwc2)\" height=\"45.9375\" id=\"E6\" rx=\"10\" ry=\"10\" style=\"stroke: #A80036; stroke-width: 1.5;\" width=\"42\" x=\"32\" y=\"147\"/><text fill=\"#000000\" font-family=\"sans-serif\" font-size=\"12\" font-style=\"italic\" lengthAdjust=\"spacingAndGlyphs\" textLength=\"40\" x=\"33\" y=\"163.1387\">«part»</text><text fill=\"#000000\" font-family=\"sans-serif\" font-size=\"12\" lengthAdjust=\"spacingAndGlyphs\" textLength=\"6\" x=\"50\" y=\"177.1074\">y</text><line style=\"stroke: #A80036; stroke-width: 1.5;\" x1=\"33\" x2=\"73\" y1=\"184.9375\" y2=\"184.9375\"/></a><!--MD5=[2156ba9850f5573cc1fc38a6a4b2f02b]\n",
       "class E7--><a href=\"psysml:c0882630-04b8-4e6c-a043-bd39b4f2710a\" target=\"_top\" title=\"psysml:c0882630-04b8-4e6c-a043-bd39b4f2710a\" xlink:actuate=\"onRequest\" xlink:href=\"psysml:c0882630-04b8-4e6c-a043-bd39b4f2710a\" xlink:show=\"new\" xlink:title=\"psysml:c0882630-04b8-4e6c-a043-bd39b4f2710a\" xlink:type=\"simple\"><rect fill=\"#FEFECE\" filter=\"url(#f1s81opadvkwc2)\" height=\"45.9375\" id=\"E7\" rx=\"10\" ry=\"10\" style=\"stroke: #A80036; stroke-width: 1.5;\" width=\"42\" x=\"109\" y=\"147\"/><text fill=\"#000000\" font-family=\"sans-serif\" font-size=\"12\" font-style=\"italic\" lengthAdjust=\"spacingAndGlyphs\" textLength=\"40\" x=\"110\" y=\"163.1387\">«part»</text><text fill=\"#000000\" font-family=\"sans-serif\" font-size=\"12\" lengthAdjust=\"spacingAndGlyphs\" textLength=\"16\" x=\"122\" y=\"177.1074\">p1</text><line style=\"stroke: #A80036; stroke-width: 1.5;\" x1=\"110\" x2=\"150\" y1=\"184.9375\" y2=\"184.9375\"/></a><!--MD5=[209b3feb70ccb6233bfe1053d122c12c]\n",
       "reverse link E2 to E3--><a href=\"psysml:d551e406-73fb-4a91-a080-fc440127a640\" target=\"_top\" title=\"psysml:d551e406-73fb-4a91-a080-fc440127a640\" xlink:actuate=\"onRequest\" xlink:href=\"psysml:d551e406-73fb-4a91-a080-fc440127a640\" xlink:show=\"new\" xlink:title=\"psysml:d551e406-73fb-4a91-a080-fc440127a640\" xlink:type=\"simple\"><path d=\"M91,312.44 C91,327.87 91,345.47 91,358.98 \" fill=\"none\" id=\"E2&lt;-E3\" style=\"stroke: #A80036; stroke-width: 1.0;\"/><polygon fill=\"#A80036\" points=\"91,299.06,87,305.06,91,311.06,95,305.06,91,299.06\" style=\"stroke: #A80036; stroke-width: 1.0;\"/></a><!--MD5=[4672eba38e49728da53d11aeb285b987]\n",
       "reverse link E3 to E4--><a href=\"psysml:0c62ef63-43f3-4799-a069-927499b27fb4\" target=\"_top\" title=\"psysml:0c62ef63-43f3-4799-a069-927499b27fb4\" xlink:actuate=\"onRequest\" xlink:href=\"psysml:0c62ef63-43f3-4799-a069-927499b27fb4\" xlink:show=\"new\" xlink:title=\"psysml:0c62ef63-43f3-4799-a069-927499b27fb4\" xlink:type=\"simple\"><path d=\"M91,418.44 C91,433.87 91,451.47 91,464.98 \" fill=\"none\" id=\"E3&lt;-E4\" style=\"stroke: #A80036; stroke-width: 1.0;\"/><polygon fill=\"#A80036\" points=\"91,405.06,87,411.06,91,417.06,95,411.06,91,405.06\" style=\"stroke: #A80036; stroke-width: 1.0;\"/></a><!--MD5=[85d356282659285ab4b2cfe2f634dd2b]\n",
       "reverse link E5 to E6--><a href=\"psysml:bccb9dd4-409f-48ce-8915-27f20628680f\" target=\"_top\" title=\"psysml:bccb9dd4-409f-48ce-8915-27f20628680f\" xlink:actuate=\"onRequest\" xlink:href=\"psysml:bccb9dd4-409f-48ce-8915-27f20628680f\" xlink:show=\"new\" xlink:title=\"psysml:bccb9dd4-409f-48ce-8915-27f20628680f\" xlink:type=\"simple\"><path d=\"M78.4,99.49 C72.68,115.15 66.08,133.19 61.05,146.98 \" fill=\"none\" id=\"E5&lt;-E6\" style=\"stroke: #A80036; stroke-width: 1.0;\"/><polygon fill=\"#A80036\" points=\"82.94,87.06,77.1196,91.317,78.8105,98.3271,84.6309,94.07,82.94,87.06\" style=\"stroke: #A80036; stroke-width: 1.0;\"/></a><!--MD5=[2351f337d6de0f557b50152ba70847b5]\n",
       "link E6 to E2--><a href=\"psysml:3c2ac290-8ac1-4000-af3e-5bcf9ecf7966\" target=\"_top\" title=\"psysml:3c2ac290-8ac1-4000-af3e-5bcf9ecf7966\" xlink:actuate=\"onRequest\" xlink:href=\"psysml:3c2ac290-8ac1-4000-af3e-5bcf9ecf7966\" xlink:show=\"new\" xlink:title=\"psysml:3c2ac290-8ac1-4000-af3e-5bcf9ecf7966\" xlink:type=\"simple\"><path d=\"M61.06,193.06 C67.51,210.7 76.51,235.34 82.95,252.98 \" fill=\"none\" id=\"E6-E2\" style=\"stroke: #A80036; stroke-width: 3.0;\"/></a><!--MD5=[452b418e7f8a40397a49b8c0a78acc5b]\n",
       "reverse link E5 to E7--><a href=\"psysml:97bf4e08-a4b3-492a-87d8-6adc842be5d3\" target=\"_top\" title=\"psysml:97bf4e08-a4b3-492a-87d8-6adc842be5d3\" xlink:actuate=\"onRequest\" xlink:href=\"psysml:97bf4e08-a4b3-492a-87d8-6adc842be5d3\" xlink:show=\"new\" xlink:title=\"psysml:97bf4e08-a4b3-492a-87d8-6adc842be5d3\" xlink:type=\"simple\"><path d=\"M103.94,99.49 C109.8,115.15 116.57,133.19 121.74,146.98 \" fill=\"none\" id=\"E5&lt;-E7\" style=\"stroke: #A80036; stroke-width: 1.0;\"/><polygon fill=\"#A80036\" points=\"99.27,87.06,97.635,94.0833,103.4893,98.2938,105.1242,91.2705,99.27,87.06\" style=\"stroke: #A80036; stroke-width: 1.0;\"/></a><!--MD5=[583832df87f4419a098336a29a52fa00]\n",
       "link E7 to E2--><a href=\"psysml:6815ba90-0374-438b-ad93-53c34ddf71b8\" target=\"_top\" title=\"psysml:6815ba90-0374-438b-ad93-53c34ddf71b8\" xlink:actuate=\"onRequest\" xlink:href=\"psysml:6815ba90-0374-438b-ad93-53c34ddf71b8\" xlink:show=\"new\" xlink:title=\"psysml:6815ba90-0374-438b-ad93-53c34ddf71b8\" xlink:type=\"simple\"><path d=\"M121.73,193.06 C117.28,204.91 111.65,219.92 106.43,233.85 \" fill=\"none\" id=\"E7-&gt;E2\" style=\"stroke: #A80036; stroke-width: 1.0;\"/><polygon fill=\"none\" points=\"112.84,236.71,99.26,252.98,99.73,231.79,112.84,236.71\" style=\"stroke: #A80036; stroke-width: 1.0;\"/></a><!--MD5=[f74f8a3d5959f8b6a6d336cdc03bea75]\n",
       "@startuml\r\n",
       "skinparam wrapWidth 300\r\n",
       "hide circle\r\n",
       "\r\n",
       "package \"ConnectionTest\" as E1  [[psysml:22aef044-e637-4155-a6c9-7ceaf878199d ]]  {\r\n",
       "comp usage \"p\" as E2  <<(T,blue) part>> [[psysml:4372fe5d-a54c-4736-ace6-05c35a4b2fd0 ]] {\r\n",
       "}\r\n",
       "comp usage \"x\" as E3  <<(T,blue) part>> [[psysml:3f2b8857-d9ea-41c6-bb7a-db05d1986c1a ]] {\r\n",
       "}\r\n",
       "comp usage \"x1\" as E4  <<(T,blue) part>> [[psysml:e84cebed-6405-49c5-b413-5d504fb47cee ]] {\r\n",
       "}\r\n",
       "comp def \"P\" as E5  <<(T,blue) part def>> [[psysml:ba7b03ba-afee-4a2c-95ba-c440e322d2ee ]] {\r\n",
       "}\r\n",
       "comp usage \"y\" as E6  <<(T,blue) part>> [[psysml:6b502337-597a-4c17-979b-8872526dd5b6 ]] {\r\n",
       "}\r\n",
       "comp usage \"p1\" as E7  <<(T,blue) part>> [[psysml:c0882630-04b8-4e6c-a043-bd39b4f2710a ]] {\r\n",
       "}\r\n",
       "E2 *- - E3 [[psysml:d551e406-73fb-4a91-a080-fc440127a640 ]] \r\n",
       "E3 *- - E4 [[psysml:0c62ef63-43f3-4799-a069-927499b27fb4 ]] \r\n",
       "E5 *- - E6 [[psysml:bccb9dd4-409f-48ce-8915-27f20628680f ]] \r\n",
       "E6 -[thickness=3]- E2 [[psysml:3c2ac290-8ac1-4000-af3e-5bcf9ecf7966 ]] \r\n",
       "E5 *- - E7 [[psysml:97bf4e08-a4b3-492a-87d8-6adc842be5d3 ]] \r\n",
       "E7 - -|> E2 [[psysml:6815ba90-0374-438b-ad93-53c34ddf71b8 ]] \r\n",
       "}\r\n",
       "@enduml\r\n",
       "\n",
       "PlantUML version 1.2020.13(Sat Jun 13 12:26:38 UTC 2020)\n",
       "(EPL source distribution)\n",
       "Java Runtime: OpenJDK Runtime Environment\n",
       "JVM: OpenJDK 64-Bit Server VM\n",
       "Default Encoding: UTF-8\n",
       "Language: en\n",
       "Country: null\n",
       "--></g></svg>"
      ]
     },
     "execution_count": 23,
     "metadata": {},
     "output_type": "execute_result"
    }
   ],
   "source": [
    "%viz --style=\"STDCOLOR\" --view=\"Default\" \"ConnectionTest\""
   ]
  },
  {
   "cell_type": "code",
   "execution_count": 24,
   "id": "abc6cbc8",
   "metadata": {
    "execution": {
     "iopub.execute_input": "2021-06-30T09:21:35.041928Z",
     "iopub.status.busy": "2021-06-30T09:21:35.040487Z",
     "iopub.status.idle": "2021-06-30T09:21:35.120656Z",
     "shell.execute_reply": "2021-06-30T09:21:35.120098Z"
    }
   },
   "outputs": [
    {
     "data": {
      "image/svg+xml": [
       "<?xml version=\"1.0\" encoding=\"UTF-8\" standalone=\"no\"?><svg xmlns=\"http://www.w3.org/2000/svg\" xmlns:xlink=\"http://www.w3.org/1999/xlink\" contentScriptType=\"application/ecmascript\" contentStyleType=\"text/css\" height=\"539px\" preserveAspectRatio=\"none\" style=\"width:189px;height:539px;\" version=\"1.1\" viewBox=\"0 0 189 539\" width=\"189px\" zoomAndPan=\"magnify\"><defs><filter height=\"300%\" id=\"f1s81opadvkwc2\" width=\"300%\" x=\"-1\" y=\"-1\"><feGaussianBlur result=\"blurOut\" stdDeviation=\"2.0\"/><feColorMatrix in=\"blurOut\" result=\"blurOut2\" type=\"matrix\" values=\"0 0 0 0 0 0 0 0 0 0 0 0 0 0 0 0 0 0 .4 0\"/><feOffset dx=\"4.0\" dy=\"4.0\" in=\"blurOut2\" result=\"blurOut3\"/><feBlend in=\"SourceGraphic\" in2=\"blurOut3\" mode=\"normal\"/></filter></defs><g><!--MD5=[fbc87193dbaf4d95561dea2c320d4a47]\n",
       "cluster E1--><a href=\"psysml:22aef044-e637-4155-a6c9-7ceaf878199d\" target=\"_top\" title=\"psysml:22aef044-e637-4155-a6c9-7ceaf878199d\" xlink:actuate=\"onRequest\" xlink:href=\"psysml:22aef044-e637-4155-a6c9-7ceaf878199d\" xlink:show=\"new\" xlink:title=\"psysml:22aef044-e637-4155-a6c9-7ceaf878199d\" xlink:type=\"simple\"><polygon fill=\"#FFFFFF\" filter=\"url(#f1s81opadvkwc2)\" points=\"16,6,147,6,154,28.2969,167,28.2969,167,527,16,527,16,6\" style=\"stroke: #000000; stroke-width: 1.5;\"/><line style=\"stroke: #000000; stroke-width: 1.5;\" x1=\"16\" x2=\"154\" y1=\"28.2969\" y2=\"28.2969\"/><text fill=\"#000000\" font-family=\"sans-serif\" font-size=\"14\" font-weight=\"bold\" lengthAdjust=\"spacingAndGlyphs\" textLength=\"125\" x=\"20\" y=\"20.9951\">ConnectionTest</text></a><!--MD5=[b4997ac47864f28c2f74865a473b2911]\n",
       "class E2--><a href=\"psysml:4372fe5d-a54c-4736-ace6-05c35a4b2fd0\" target=\"_top\" title=\"psysml:4372fe5d-a54c-4736-ace6-05c35a4b2fd0\" xlink:actuate=\"onRequest\" xlink:href=\"psysml:4372fe5d-a54c-4736-ace6-05c35a4b2fd0\" xlink:show=\"new\" xlink:title=\"psysml:4372fe5d-a54c-4736-ace6-05c35a4b2fd0\" xlink:type=\"simple\"><rect fill=\"#FEFECE\" filter=\"url(#f1s81opadvkwc2)\" height=\"45.9375\" id=\"E2\" rx=\"10\" ry=\"10\" style=\"stroke: #A80036; stroke-width: 1.5;\" width=\"42\" x=\"70\" y=\"253\"/><text fill=\"#000000\" font-family=\"sans-serif\" font-size=\"12\" font-style=\"italic\" lengthAdjust=\"spacingAndGlyphs\" textLength=\"40\" x=\"71\" y=\"269.1387\">«part»</text><text fill=\"#000000\" font-family=\"sans-serif\" font-size=\"12\" lengthAdjust=\"spacingAndGlyphs\" textLength=\"8\" x=\"87\" y=\"283.1074\">p</text><line style=\"stroke: #A80036; stroke-width: 1.5;\" x1=\"71\" x2=\"111\" y1=\"290.9375\" y2=\"290.9375\"/></a><!--MD5=[09b614a08d8cba4a07c9adeb5e0fee81]\n",
       "class E3--><a href=\"psysml:3f2b8857-d9ea-41c6-bb7a-db05d1986c1a\" target=\"_top\" title=\"psysml:3f2b8857-d9ea-41c6-bb7a-db05d1986c1a\" xlink:actuate=\"onRequest\" xlink:href=\"psysml:3f2b8857-d9ea-41c6-bb7a-db05d1986c1a\" xlink:show=\"new\" xlink:title=\"psysml:3f2b8857-d9ea-41c6-bb7a-db05d1986c1a\" xlink:type=\"simple\"><rect fill=\"#FEFECE\" filter=\"url(#f1s81opadvkwc2)\" height=\"45.9375\" id=\"E3\" rx=\"10\" ry=\"10\" style=\"stroke: #A80036; stroke-width: 1.5;\" width=\"42\" x=\"70\" y=\"359\"/><text fill=\"#000000\" font-family=\"sans-serif\" font-size=\"12\" font-style=\"italic\" lengthAdjust=\"spacingAndGlyphs\" textLength=\"40\" x=\"71\" y=\"375.1387\">«part»</text><text fill=\"#000000\" font-family=\"sans-serif\" font-size=\"12\" lengthAdjust=\"spacingAndGlyphs\" textLength=\"6\" x=\"88\" y=\"389.1074\">x</text><line style=\"stroke: #A80036; stroke-width: 1.5;\" x1=\"71\" x2=\"111\" y1=\"396.9375\" y2=\"396.9375\"/></a><!--MD5=[ebbe1d658d1005bcc118a6aa81145e00]\n",
       "class E4--><a href=\"psysml:e84cebed-6405-49c5-b413-5d504fb47cee\" target=\"_top\" title=\"psysml:e84cebed-6405-49c5-b413-5d504fb47cee\" xlink:actuate=\"onRequest\" xlink:href=\"psysml:e84cebed-6405-49c5-b413-5d504fb47cee\" xlink:show=\"new\" xlink:title=\"psysml:e84cebed-6405-49c5-b413-5d504fb47cee\" xlink:type=\"simple\"><rect fill=\"#FEFECE\" filter=\"url(#f1s81opadvkwc2)\" height=\"45.9375\" id=\"E4\" rx=\"10\" ry=\"10\" style=\"stroke: #A80036; stroke-width: 1.5;\" width=\"42\" x=\"70\" y=\"465\"/><text fill=\"#000000\" font-family=\"sans-serif\" font-size=\"12\" font-style=\"italic\" lengthAdjust=\"spacingAndGlyphs\" textLength=\"40\" x=\"71\" y=\"481.1387\">«part»</text><text fill=\"#000000\" font-family=\"sans-serif\" font-size=\"12\" lengthAdjust=\"spacingAndGlyphs\" textLength=\"14\" x=\"84\" y=\"495.1074\">x1</text><line style=\"stroke: #A80036; stroke-width: 1.5;\" x1=\"71\" x2=\"111\" y1=\"502.9375\" y2=\"502.9375\"/></a><!--MD5=[270fce915f116d4de14055a7c1d9a0f3]\n",
       "class E5--><a href=\"psysml:ba7b03ba-afee-4a2c-95ba-c440e322d2ee\" target=\"_top\" title=\"psysml:ba7b03ba-afee-4a2c-95ba-c440e322d2ee\" xlink:actuate=\"onRequest\" xlink:href=\"psysml:ba7b03ba-afee-4a2c-95ba-c440e322d2ee\" xlink:show=\"new\" xlink:title=\"psysml:ba7b03ba-afee-4a2c-95ba-c440e322d2ee\" xlink:type=\"simple\"><rect fill=\"#FEFECE\" filter=\"url(#f1s81opadvkwc2)\" height=\"45.9375\" id=\"E5\" style=\"stroke: #A80036; stroke-width: 1.5;\" width=\"66\" x=\"58\" y=\"41\"/><text fill=\"#000000\" font-family=\"sans-serif\" font-size=\"12\" font-style=\"italic\" lengthAdjust=\"spacingAndGlyphs\" textLength=\"64\" x=\"59\" y=\"57.1387\">«part def»</text><text fill=\"#000000\" font-family=\"sans-serif\" font-size=\"12\" lengthAdjust=\"spacingAndGlyphs\" textLength=\"8\" x=\"87\" y=\"71.1074\">P</text><line style=\"stroke: #A80036; stroke-width: 1.5;\" x1=\"59\" x2=\"123\" y1=\"78.9375\" y2=\"78.9375\"/></a><!--MD5=[60a26617385b1d2d0262a64233df1f8d]\n",
       "class E6--><a href=\"psysml:6b502337-597a-4c17-979b-8872526dd5b6\" target=\"_top\" title=\"psysml:6b502337-597a-4c17-979b-8872526dd5b6\" xlink:actuate=\"onRequest\" xlink:href=\"psysml:6b502337-597a-4c17-979b-8872526dd5b6\" xlink:show=\"new\" xlink:title=\"psysml:6b502337-597a-4c17-979b-8872526dd5b6\" xlink:type=\"simple\"><rect fill=\"#FEFECE\" filter=\"url(#f1s81opadvkwc2)\" height=\"45.9375\" id=\"E6\" rx=\"10\" ry=\"10\" style=\"stroke: #A80036; stroke-width: 1.5;\" width=\"42\" x=\"32\" y=\"147\"/><text fill=\"#000000\" font-family=\"sans-serif\" font-size=\"12\" font-style=\"italic\" lengthAdjust=\"spacingAndGlyphs\" textLength=\"40\" x=\"33\" y=\"163.1387\">«part»</text><text fill=\"#000000\" font-family=\"sans-serif\" font-size=\"12\" lengthAdjust=\"spacingAndGlyphs\" textLength=\"6\" x=\"50\" y=\"177.1074\">y</text><line style=\"stroke: #A80036; stroke-width: 1.5;\" x1=\"33\" x2=\"73\" y1=\"184.9375\" y2=\"184.9375\"/></a><!--MD5=[2156ba9850f5573cc1fc38a6a4b2f02b]\n",
       "class E7--><a href=\"psysml:c0882630-04b8-4e6c-a043-bd39b4f2710a\" target=\"_top\" title=\"psysml:c0882630-04b8-4e6c-a043-bd39b4f2710a\" xlink:actuate=\"onRequest\" xlink:href=\"psysml:c0882630-04b8-4e6c-a043-bd39b4f2710a\" xlink:show=\"new\" xlink:title=\"psysml:c0882630-04b8-4e6c-a043-bd39b4f2710a\" xlink:type=\"simple\"><rect fill=\"#FEFECE\" filter=\"url(#f1s81opadvkwc2)\" height=\"45.9375\" id=\"E7\" rx=\"10\" ry=\"10\" style=\"stroke: #A80036; stroke-width: 1.5;\" width=\"42\" x=\"109\" y=\"147\"/><text fill=\"#000000\" font-family=\"sans-serif\" font-size=\"12\" font-style=\"italic\" lengthAdjust=\"spacingAndGlyphs\" textLength=\"40\" x=\"110\" y=\"163.1387\">«part»</text><text fill=\"#000000\" font-family=\"sans-serif\" font-size=\"12\" lengthAdjust=\"spacingAndGlyphs\" textLength=\"16\" x=\"122\" y=\"177.1074\">p1</text><line style=\"stroke: #A80036; stroke-width: 1.5;\" x1=\"110\" x2=\"150\" y1=\"184.9375\" y2=\"184.9375\"/></a><!--MD5=[209b3feb70ccb6233bfe1053d122c12c]\n",
       "reverse link E2 to E3--><a href=\"psysml:d551e406-73fb-4a91-a080-fc440127a640\" target=\"_top\" title=\"psysml:d551e406-73fb-4a91-a080-fc440127a640\" xlink:actuate=\"onRequest\" xlink:href=\"psysml:d551e406-73fb-4a91-a080-fc440127a640\" xlink:show=\"new\" xlink:title=\"psysml:d551e406-73fb-4a91-a080-fc440127a640\" xlink:type=\"simple\"><path d=\"M91,312.44 C91,327.87 91,345.47 91,358.98 \" fill=\"none\" id=\"E2&lt;-E3\" style=\"stroke: #A80036; stroke-width: 1.0;\"/><polygon fill=\"#A80036\" points=\"91,299.06,87,305.06,91,311.06,95,305.06,91,299.06\" style=\"stroke: #A80036; stroke-width: 1.0;\"/></a><!--MD5=[4672eba38e49728da53d11aeb285b987]\n",
       "reverse link E3 to E4--><a href=\"psysml:0c62ef63-43f3-4799-a069-927499b27fb4\" target=\"_top\" title=\"psysml:0c62ef63-43f3-4799-a069-927499b27fb4\" xlink:actuate=\"onRequest\" xlink:href=\"psysml:0c62ef63-43f3-4799-a069-927499b27fb4\" xlink:show=\"new\" xlink:title=\"psysml:0c62ef63-43f3-4799-a069-927499b27fb4\" xlink:type=\"simple\"><path d=\"M91,418.44 C91,433.87 91,451.47 91,464.98 \" fill=\"none\" id=\"E3&lt;-E4\" style=\"stroke: #A80036; stroke-width: 1.0;\"/><polygon fill=\"#A80036\" points=\"91,405.06,87,411.06,91,417.06,95,411.06,91,405.06\" style=\"stroke: #A80036; stroke-width: 1.0;\"/></a><!--MD5=[85d356282659285ab4b2cfe2f634dd2b]\n",
       "reverse link E5 to E6--><a href=\"psysml:bccb9dd4-409f-48ce-8915-27f20628680f\" target=\"_top\" title=\"psysml:bccb9dd4-409f-48ce-8915-27f20628680f\" xlink:actuate=\"onRequest\" xlink:href=\"psysml:bccb9dd4-409f-48ce-8915-27f20628680f\" xlink:show=\"new\" xlink:title=\"psysml:bccb9dd4-409f-48ce-8915-27f20628680f\" xlink:type=\"simple\"><path d=\"M78.4,99.49 C72.68,115.15 66.08,133.19 61.05,146.98 \" fill=\"none\" id=\"E5&lt;-E6\" style=\"stroke: #A80036; stroke-width: 1.0;\"/><polygon fill=\"#A80036\" points=\"82.94,87.06,77.1196,91.317,78.8105,98.3271,84.6309,94.07,82.94,87.06\" style=\"stroke: #A80036; stroke-width: 1.0;\"/></a><!--MD5=[2351f337d6de0f557b50152ba70847b5]\n",
       "link E6 to E2--><a href=\"psysml:3c2ac290-8ac1-4000-af3e-5bcf9ecf7966\" target=\"_top\" title=\"psysml:3c2ac290-8ac1-4000-af3e-5bcf9ecf7966\" xlink:actuate=\"onRequest\" xlink:href=\"psysml:3c2ac290-8ac1-4000-af3e-5bcf9ecf7966\" xlink:show=\"new\" xlink:title=\"psysml:3c2ac290-8ac1-4000-af3e-5bcf9ecf7966\" xlink:type=\"simple\"><path d=\"M61.06,193.06 C67.51,210.7 76.51,235.34 82.95,252.98 \" fill=\"none\" id=\"E6-E2\" style=\"stroke: #A80036; stroke-width: 3.0;\"/></a><!--MD5=[452b418e7f8a40397a49b8c0a78acc5b]\n",
       "reverse link E5 to E7--><a href=\"psysml:97bf4e08-a4b3-492a-87d8-6adc842be5d3\" target=\"_top\" title=\"psysml:97bf4e08-a4b3-492a-87d8-6adc842be5d3\" xlink:actuate=\"onRequest\" xlink:href=\"psysml:97bf4e08-a4b3-492a-87d8-6adc842be5d3\" xlink:show=\"new\" xlink:title=\"psysml:97bf4e08-a4b3-492a-87d8-6adc842be5d3\" xlink:type=\"simple\"><path d=\"M103.94,99.49 C109.8,115.15 116.57,133.19 121.74,146.98 \" fill=\"none\" id=\"E5&lt;-E7\" style=\"stroke: #A80036; stroke-width: 1.0;\"/><polygon fill=\"#A80036\" points=\"99.27,87.06,97.635,94.0833,103.4893,98.2938,105.1242,91.2705,99.27,87.06\" style=\"stroke: #A80036; stroke-width: 1.0;\"/></a><!--MD5=[583832df87f4419a098336a29a52fa00]\n",
       "link E7 to E2--><a href=\"psysml:6815ba90-0374-438b-ad93-53c34ddf71b8\" target=\"_top\" title=\"psysml:6815ba90-0374-438b-ad93-53c34ddf71b8\" xlink:actuate=\"onRequest\" xlink:href=\"psysml:6815ba90-0374-438b-ad93-53c34ddf71b8\" xlink:show=\"new\" xlink:title=\"psysml:6815ba90-0374-438b-ad93-53c34ddf71b8\" xlink:type=\"simple\"><path d=\"M121.73,193.06 C117.28,204.91 111.65,219.92 106.43,233.85 \" fill=\"none\" id=\"E7-&gt;E2\" style=\"stroke: #A80036; stroke-width: 1.0;\"/><polygon fill=\"none\" points=\"112.84,236.71,99.26,252.98,99.73,231.79,112.84,236.71\" style=\"stroke: #A80036; stroke-width: 1.0;\"/></a><!--MD5=[f74f8a3d5959f8b6a6d336cdc03bea75]\n",
       "@startuml\r\n",
       "skinparam wrapWidth 300\r\n",
       "hide circle\r\n",
       "\r\n",
       "package \"ConnectionTest\" as E1  [[psysml:22aef044-e637-4155-a6c9-7ceaf878199d ]]  {\r\n",
       "comp usage \"p\" as E2  <<(T,blue) part>> [[psysml:4372fe5d-a54c-4736-ace6-05c35a4b2fd0 ]] {\r\n",
       "}\r\n",
       "comp usage \"x\" as E3  <<(T,blue) part>> [[psysml:3f2b8857-d9ea-41c6-bb7a-db05d1986c1a ]] {\r\n",
       "}\r\n",
       "comp usage \"x1\" as E4  <<(T,blue) part>> [[psysml:e84cebed-6405-49c5-b413-5d504fb47cee ]] {\r\n",
       "}\r\n",
       "comp def \"P\" as E5  <<(T,blue) part def>> [[psysml:ba7b03ba-afee-4a2c-95ba-c440e322d2ee ]] {\r\n",
       "}\r\n",
       "comp usage \"y\" as E6  <<(T,blue) part>> [[psysml:6b502337-597a-4c17-979b-8872526dd5b6 ]] {\r\n",
       "}\r\n",
       "comp usage \"p1\" as E7  <<(T,blue) part>> [[psysml:c0882630-04b8-4e6c-a043-bd39b4f2710a ]] {\r\n",
       "}\r\n",
       "E2 *- - E3 [[psysml:d551e406-73fb-4a91-a080-fc440127a640 ]] \r\n",
       "E3 *- - E4 [[psysml:0c62ef63-43f3-4799-a069-927499b27fb4 ]] \r\n",
       "E5 *- - E6 [[psysml:bccb9dd4-409f-48ce-8915-27f20628680f ]] \r\n",
       "E6 -[thickness=3]- E2 [[psysml:3c2ac290-8ac1-4000-af3e-5bcf9ecf7966 ]] \r\n",
       "E5 *- - E7 [[psysml:97bf4e08-a4b3-492a-87d8-6adc842be5d3 ]] \r\n",
       "E7 - -|> E2 [[psysml:6815ba90-0374-438b-ad93-53c34ddf71b8 ]] \r\n",
       "}\r\n",
       "@enduml\r\n",
       "\n",
       "PlantUML version 1.2020.13(Sat Jun 13 12:26:38 UTC 2020)\n",
       "(EPL source distribution)\n",
       "Java Runtime: OpenJDK Runtime Environment\n",
       "JVM: OpenJDK 64-Bit Server VM\n",
       "Default Encoding: UTF-8\n",
       "Language: en\n",
       "Country: null\n",
       "--></g></svg>"
      ]
     },
     "execution_count": 24,
     "metadata": {},
     "output_type": "execute_result"
    }
   ],
   "source": [
    "%viz --style=\"STDCOLOR\" --view=\"Tree\" \"ConnectionTest\""
   ]
  },
  {
   "cell_type": "code",
   "execution_count": 25,
   "id": "738422ca",
   "metadata": {
    "execution": {
     "iopub.execute_input": "2021-06-30T09:21:35.172848Z",
     "iopub.status.busy": "2021-06-30T09:21:35.171536Z",
     "iopub.status.idle": "2021-06-30T09:21:35.157628Z",
     "shell.execute_reply": "2021-06-30T09:21:35.157033Z"
    }
   },
   "outputs": [
    {
     "data": {
      "image/svg+xml": [
       "<?xml version=\"1.0\" encoding=\"UTF-8\" standalone=\"no\"?><svg xmlns=\"http://www.w3.org/2000/svg\" xmlns:xlink=\"http://www.w3.org/1999/xlink\" contentScriptType=\"application/ecmascript\" contentStyleType=\"text/css\" height=\"12px\" preserveAspectRatio=\"none\" style=\"width:12px;height:12px;\" version=\"1.1\" viewBox=\"0 0 12 12\" width=\"12px\" zoomAndPan=\"magnify\"><defs/><g><!--MD5=[aeeef50f102b80d730deb6443d14f702]\n",
       "@startuml\r\n",
       "skinparam wrapWidth 300\r\n",
       "hide circle\r\n",
       "\r\n",
       "@enduml\r\n",
       "\n",
       "PlantUML version 1.2020.13(Sat Jun 13 12:26:38 UTC 2020)\n",
       "(EPL source distribution)\n",
       "Java Runtime: OpenJDK Runtime Environment\n",
       "JVM: OpenJDK 64-Bit Server VM\n",
       "Default Encoding: UTF-8\n",
       "Language: en\n",
       "Country: null\n",
       "--></g></svg>"
      ]
     },
     "execution_count": 25,
     "metadata": {},
     "output_type": "execute_result"
    }
   ],
   "source": [
    "%viz --style=\"STDCOLOR\" --view=\"State\" \"ConnectionTest\""
   ]
  },
  {
   "cell_type": "code",
   "execution_count": 26,
   "id": "153e4b46",
   "metadata": {
    "execution": {
     "iopub.execute_input": "2021-06-30T09:21:35.210804Z",
     "iopub.status.busy": "2021-06-30T09:21:35.209620Z",
     "iopub.status.idle": "2021-06-30T09:21:35.299325Z",
     "shell.execute_reply": "2021-06-30T09:21:35.298790Z"
    }
   },
   "outputs": [
    {
     "data": {
      "image/svg+xml": [
       "<?xml version=\"1.0\" encoding=\"UTF-8\" standalone=\"no\"?><svg xmlns=\"http://www.w3.org/2000/svg\" xmlns:xlink=\"http://www.w3.org/1999/xlink\" contentScriptType=\"application/ecmascript\" contentStyleType=\"text/css\" height=\"406px\" preserveAspectRatio=\"none\" style=\"width:509px;height:406px;\" version=\"1.1\" viewBox=\"0 0 509 406\" width=\"509px\" zoomAndPan=\"magnify\"><defs><filter height=\"300%\" id=\"fcd89nj61x6x2\" width=\"300%\" x=\"-1\" y=\"-1\"><feGaussianBlur result=\"blurOut\" stdDeviation=\"2.0\"/><feColorMatrix in=\"blurOut\" result=\"blurOut2\" type=\"matrix\" values=\"0 0 0 0 0 0 0 0 0 0 0 0 0 0 0 0 0 0 .4 0\"/><feOffset dx=\"4.0\" dy=\"4.0\" in=\"blurOut2\" result=\"blurOut3\"/><feBlend in=\"SourceGraphic\" in2=\"blurOut3\" mode=\"normal\"/></filter></defs><g><!--MD5=[fbc87193dbaf4d95561dea2c320d4a47]\n",
       "cluster E1--><a href=\"psysml:22aef044-e637-4155-a6c9-7ceaf878199d\" target=\"_top\" title=\"psysml:22aef044-e637-4155-a6c9-7ceaf878199d\" xlink:actuate=\"onRequest\" xlink:href=\"psysml:22aef044-e637-4155-a6c9-7ceaf878199d\" xlink:show=\"new\" xlink:title=\"psysml:22aef044-e637-4155-a6c9-7ceaf878199d\" xlink:type=\"simple\"><polygon fill=\"#FFFFFF\" filter=\"url(#fcd89nj61x6x2)\" points=\"16,6,147,6,154,28.2969,487,28.2969,487,394,16,394,16,6\" style=\"stroke: #000000; stroke-width: 1.5;\"/><line style=\"stroke: #000000; stroke-width: 1.5;\" x1=\"16\" x2=\"154\" y1=\"28.2969\" y2=\"28.2969\"/><text fill=\"#000000\" font-family=\"sans-serif\" font-size=\"14\" font-weight=\"bold\" lengthAdjust=\"spacingAndGlyphs\" textLength=\"125\" x=\"20\" y=\"20.9951\">ConnectionTest</text></a><!--MD5=[e4f7fae6ed58524ba242bb0b0d3be6b7]\n",
       "cluster E2--><a href=\"psysml:4372fe5d-a54c-4736-ace6-05c35a4b2fd0\" target=\"_top\" title=\"psysml:4372fe5d-a54c-4736-ace6-05c35a4b2fd0\" xlink:actuate=\"onRequest\" xlink:href=\"psysml:4372fe5d-a54c-4736-ace6-05c35a4b2fd0\" xlink:show=\"new\" xlink:title=\"psysml:4372fe5d-a54c-4736-ace6-05c35a4b2fd0\" xlink:type=\"simple\"><rect fill=\"#FFFFFF\" filter=\"url(#fcd89nj61x6x2)\" height=\"174\" id=\"E2\" rx=\"10\" ry=\"10\" style=\"stroke: #A80036; stroke-width: 1.5;\" width=\"154\" x=\"301\" y=\"164\"/><rect fill=\"#FEFECE\" height=\"23.9688\" rx=\"10\" ry=\"10\" style=\"stroke: #FEFECE; stroke-width: 1.5;\" width=\"154\" x=\"301\" y=\"164\"/><rect fill=\"#FEFECE\" height=\"10\" style=\"stroke: #FEFECE; stroke-width: 1.5;\" width=\"154\" x=\"301\" y=\"177.9688\"/><rect fill=\"none\" height=\"174\" id=\"E2\" rx=\"10\" ry=\"10\" style=\"stroke: #A80036; stroke-width: 1.5;\" width=\"154\" x=\"301\" y=\"164\"/><text fill=\"#000000\" font-family=\"sans-serif\" font-size=\"12\" lengthAdjust=\"spacingAndGlyphs\" textLength=\"8\" x=\"374\" y=\"180.1387\">p</text><line style=\"stroke: #A80036; stroke-width: 1.0;\" x1=\"301\" x2=\"455\" y1=\"187.9688\" y2=\"187.9688\"/></a><!--MD5=[d5e69f78d87373223dbae638b30a9c99]\n",
       "cluster E3--><a href=\"psysml:3f2b8857-d9ea-41c6-bb7a-db05d1986c1a\" target=\"_top\" title=\"psysml:3f2b8857-d9ea-41c6-bb7a-db05d1986c1a\" xlink:actuate=\"onRequest\" xlink:href=\"psysml:3f2b8857-d9ea-41c6-bb7a-db05d1986c1a\" xlink:show=\"new\" xlink:title=\"psysml:3f2b8857-d9ea-41c6-bb7a-db05d1986c1a\" xlink:type=\"simple\"><rect fill=\"#FFFFFF\" filter=\"url(#fcd89nj61x6x2)\" height=\"91\" id=\"E3\" rx=\"10\" ry=\"10\" style=\"stroke: #A80036; stroke-width: 1.5;\" width=\"82\" x=\"341\" y=\"215\"/><rect fill=\"#FEFECE\" height=\"23.9688\" rx=\"10\" ry=\"10\" style=\"stroke: #FEFECE; stroke-width: 1.5;\" width=\"82\" x=\"341\" y=\"215\"/><rect fill=\"#FEFECE\" height=\"10\" style=\"stroke: #FEFECE; stroke-width: 1.5;\" width=\"82\" x=\"341\" y=\"228.9688\"/><rect fill=\"none\" height=\"91\" id=\"E3\" rx=\"10\" ry=\"10\" style=\"stroke: #A80036; stroke-width: 1.5;\" width=\"82\" x=\"341\" y=\"215\"/><text fill=\"#000000\" font-family=\"sans-serif\" font-size=\"12\" lengthAdjust=\"spacingAndGlyphs\" textLength=\"6\" x=\"379\" y=\"231.1387\">x</text><line style=\"stroke: #A80036; stroke-width: 1.0;\" x1=\"341\" x2=\"423\" y1=\"238.9688\" y2=\"238.9688\"/></a><!--MD5=[de5ec2e2e8f62f467e546659f5068c88]\n",
       "cluster E5--><a href=\"psysml:ba7b03ba-afee-4a2c-95ba-c440e322d2ee\" target=\"_top\" title=\"psysml:ba7b03ba-afee-4a2c-95ba-c440e322d2ee\" xlink:actuate=\"onRequest\" xlink:href=\"psysml:ba7b03ba-afee-4a2c-95ba-c440e322d2ee\" xlink:show=\"new\" xlink:title=\"psysml:ba7b03ba-afee-4a2c-95ba-c440e322d2ee\" xlink:type=\"simple\"><rect fill=\"#FFFFFF\" filter=\"url(#fcd89nj61x6x2)\" height=\"321\" id=\"E5\" style=\"stroke: #A80036; stroke-width: 1.5;\" width=\"229\" x=\"40\" y=\"49\"/><rect fill=\"#FEFECE\" height=\"37.9375\" style=\"stroke: #A80036; stroke-width: 1.5;\" width=\"229\" x=\"40\" y=\"49\"/><text fill=\"#000000\" font-family=\"sans-serif\" font-size=\"12\" font-style=\"italic\" lengthAdjust=\"spacingAndGlyphs\" textLength=\"64\" x=\"122.5\" y=\"65.1387\">«part def»</text><text fill=\"#000000\" font-family=\"sans-serif\" font-size=\"12\" lengthAdjust=\"spacingAndGlyphs\" textLength=\"8\" x=\"150.5\" y=\"79.1074\">P</text></a><!--MD5=[168fadf3d0c3fd93dd5d6da1b1d7ab76]\n",
       "cluster E7--><a href=\"psysml:c0882630-04b8-4e6c-a043-bd39b4f2710a\" target=\"_top\" title=\"psysml:c0882630-04b8-4e6c-a043-bd39b4f2710a\" xlink:actuate=\"onRequest\" xlink:href=\"psysml:c0882630-04b8-4e6c-a043-bd39b4f2710a\" xlink:show=\"new\" xlink:title=\"psysml:c0882630-04b8-4e6c-a043-bd39b4f2710a\" xlink:type=\"simple\"><rect fill=\"#FFFFFF\" filter=\"url(#fcd89nj61x6x2)\" height=\"190\" id=\"E7\" rx=\"10\" ry=\"10\" style=\"stroke: #A80036; stroke-width: 1.5;\" width=\"181\" x=\"64\" y=\"156\"/><rect fill=\"#FEFECE\" height=\"23.9688\" rx=\"10\" ry=\"10\" style=\"stroke: #FEFECE; stroke-width: 1.5;\" width=\"181\" x=\"64\" y=\"156\"/><rect fill=\"#FEFECE\" height=\"10\" style=\"stroke: #FEFECE; stroke-width: 1.5;\" width=\"181\" x=\"64\" y=\"169.9688\"/><rect fill=\"none\" height=\"190\" id=\"E7\" rx=\"10\" ry=\"10\" style=\"stroke: #A80036; stroke-width: 1.5;\" width=\"181\" x=\"64\" y=\"156\"/><text fill=\"#000000\" font-family=\"sans-serif\" font-size=\"12\" lengthAdjust=\"spacingAndGlyphs\" textLength=\"16\" x=\"146.5\" y=\"172.1387\">p1</text><line style=\"stroke: #A80036; stroke-width: 1.0;\" x1=\"64\" x2=\"245\" y1=\"179.9688\" y2=\"179.9688\"/></a><!--MD5=[55dfccfc6c49c2d10cd1bd2211a6c90c]\n",
       "cluster E8--><a href=\"psysml:3f2b8857-d9ea-41c6-bb7a-db05d1986c1a\" target=\"_top\" title=\"psysml:3f2b8857-d9ea-41c6-bb7a-db05d1986c1a\" xlink:actuate=\"onRequest\" xlink:href=\"psysml:3f2b8857-d9ea-41c6-bb7a-db05d1986c1a\" xlink:show=\"new\" xlink:title=\"psysml:3f2b8857-d9ea-41c6-bb7a-db05d1986c1a\" xlink:type=\"simple\"><rect fill=\"#FFFFFF\" filter=\"url(#fcd89nj61x6x2)\" height=\"107\" id=\"E8\" rx=\"10\" ry=\"10\" style=\"stroke: #A80036; stroke-width: 1.5;\" width=\"117\" x=\"96\" y=\"207\"/><rect fill=\"#FEFECE\" height=\"23.9688\" rx=\"10\" ry=\"10\" style=\"stroke: #FEFECE; stroke-width: 1.5;\" width=\"117\" x=\"96\" y=\"207\"/><rect fill=\"#FEFECE\" height=\"10\" style=\"stroke: #FEFECE; stroke-width: 1.5;\" width=\"117\" x=\"96\" y=\"220.9688\"/><rect fill=\"none\" height=\"107\" id=\"E8\" rx=\"10\" ry=\"10\" style=\"stroke: #A80036; stroke-width: 1.5;\" width=\"117\" x=\"96\" y=\"207\"/><text fill=\"#000000\" font-family=\"sans-serif\" font-size=\"12\" lengthAdjust=\"spacingAndGlyphs\" textLength=\"16\" x=\"146.5\" y=\"223.1387\">^x</text><line style=\"stroke: #A80036; stroke-width: 1.0;\" x1=\"96\" x2=\"213\" y1=\"230.9688\" y2=\"230.9688\"/></a><g id=\"E1.E2.E3.E4\"><a href=\"psysml:e84cebed-6405-49c5-b413-5d504fb47cee\" target=\"_top\" title=\"psysml:e84cebed-6405-49c5-b413-5d504fb47cee\" xlink:actuate=\"onRequest\" xlink:href=\"psysml:e84cebed-6405-49c5-b413-5d504fb47cee\" xlink:show=\"new\" xlink:title=\"psysml:e84cebed-6405-49c5-b413-5d504fb47cee\" xlink:type=\"simple\"><rect fill=\"#FEFECE\" filter=\"url(#fcd89nj61x6x2)\" height=\"40\" id=\"E4\" rx=\"10\" ry=\"10\" style=\"stroke: #A80036; stroke-width: 1.5;\" width=\"50\" x=\"357\" y=\"250\"/><text fill=\"#000000\" font-family=\"sans-serif\" font-size=\"12\" lengthAdjust=\"spacingAndGlyphs\" textLength=\"14\" x=\"375\" y=\"266.1387\">x1</text></a></g><g id=\"E1.E5.E6\"><a href=\"psysml:6b502337-597a-4c17-979b-8872526dd5b6\" target=\"_top\" title=\"psysml:6b502337-597a-4c17-979b-8872526dd5b6\" xlink:actuate=\"onRequest\" xlink:href=\"psysml:6b502337-597a-4c17-979b-8872526dd5b6\" xlink:show=\"new\" xlink:title=\"psysml:6b502337-597a-4c17-979b-8872526dd5b6\" xlink:type=\"simple\"><rect fill=\"#FEFECE\" filter=\"url(#fcd89nj61x6x2)\" height=\"40\" id=\"E6\" rx=\"10\" ry=\"10\" style=\"stroke: #A80036; stroke-width: 1.5;\" width=\"50\" x=\"139\" y=\"100\"/><text fill=\"#000000\" font-family=\"sans-serif\" font-size=\"12\" lengthAdjust=\"spacingAndGlyphs\" textLength=\"6\" x=\"161\" y=\"116.1387\">y</text></a></g><g id=\"E1.E5.E7.E8.E9\"><a href=\"psysml:e84cebed-6405-49c5-b413-5d504fb47cee\" target=\"_top\" title=\"psysml:e84cebed-6405-49c5-b413-5d504fb47cee\" xlink:actuate=\"onRequest\" xlink:href=\"psysml:e84cebed-6405-49c5-b413-5d504fb47cee\" xlink:show=\"new\" xlink:title=\"psysml:e84cebed-6405-49c5-b413-5d504fb47cee\" xlink:type=\"simple\"><rect fill=\"#FEFECE\" filter=\"url(#fcd89nj61x6x2)\" height=\"40\" id=\"E9\" rx=\"10\" ry=\"10\" style=\"stroke: #A80036; stroke-width: 1.5;\" width=\"50\" x=\"139\" y=\"250\"/><text fill=\"#000000\" font-family=\"sans-serif\" font-size=\"12\" lengthAdjust=\"spacingAndGlyphs\" textLength=\"14\" x=\"157\" y=\"266.1387\">x1</text></a></g><!--MD5=[2351f337d6de0f557b50152ba70847b5]\n",
       "link E6 to E2--><a href=\"psysml:3c2ac290-8ac1-4000-af3e-5bcf9ecf7966\" target=\"_top\" title=\"psysml:3c2ac290-8ac1-4000-af3e-5bcf9ecf7966\" xlink:actuate=\"onRequest\" xlink:href=\"psysml:3c2ac290-8ac1-4000-af3e-5bcf9ecf7966\" xlink:show=\"new\" xlink:title=\"psysml:3c2ac290-8ac1-4000-af3e-5bcf9ecf7966\" xlink:type=\"simple\"><path d=\"M189.09,135.93 C194.55,139.6 200.14,143.72 205,148 C231.205,171.055 256.8075,200.7275 276.0525,224.9188 C285.675,237.0144 293.7081,247.7397 299.4325,255.5823 C299.7903,256.0725 300.139,256.5514 300.4786,257.0187 C300.6484,257.2523 300.8159,257.4831 300.981,257.7108 \" fill=\"none\" id=\"E6-E2\" style=\"stroke: #A80036; stroke-width: 3.0;\"/></a><!--MD5=[0a839d0f80c2d72d4b9b307f046d0de8]\n",
       "link E6 to E8--><a href=\"psysml:75c884b3-4954-4983-bf4e-b524958cba22\" target=\"_top\" title=\"psysml:75c884b3-4954-4983-bf4e-b524958cba22\" xlink:actuate=\"onRequest\" xlink:href=\"psysml:75c884b3-4954-4983-bf4e-b524958cba22\" xlink:show=\"new\" xlink:title=\"psysml:75c884b3-4954-4983-bf4e-b524958cba22\" xlink:type=\"simple\"><path d=\"M138.6,133.04 C132.62,137 126.88,141.98 123,148 C115.7475,159.2625 110.9138,172.31 107.7475,185.5819 C106.1644,192.2178 104.9981,198.9098 104.1548,205.4629 C104.1021,205.8725 104.0507,206.2815 104.0005,206.6899 \" fill=\"none\" id=\"E6-E8\" style=\"stroke: #A80036; stroke-width: 3.0;\"/></a><!--MD5=[8ae21a5272e5f5a2f0d855d545cbd16c]\n",
       "link E6 to E9--><a href=\"psysml:ec977721-0260-4bea-8651-1724c0f568d2\" target=\"_top\" title=\"psysml:ec977721-0260-4bea-8651-1724c0f568d2\" xlink:actuate=\"onRequest\" xlink:href=\"psysml:ec977721-0260-4bea-8651-1724c0f568d2\" xlink:show=\"new\" xlink:title=\"psysml:ec977721-0260-4bea-8651-1724c0f568d2\" xlink:type=\"simple\"><path d=\"M164,140.05 C164,168.31 164,221.07 164,249.56 \" fill=\"none\" id=\"E6-E9\" style=\"stroke: #A80036; stroke-width: 3.0;\"/></a><!--MD5=[8e3fd09091f6bfb7c6bb0165e178236b]\n",
       "@startuml\r\n",
       "skinparam ranksep 10\r\n",
       "skinparam rectangle {\r\n",
       " backgroundColor<<block>> LightGreen\r\n",
       "}\r\n",
       "skinparam wrapWidth 300\r\n",
       "hide circle\r\n",
       "\r\n",
       "package \"ConnectionTest\" as E1  [[psysml:22aef044-e637-4155-a6c9-7ceaf878199d ]]  {\r\n",
       "rec usage \"p\" as E2  [[psysml:4372fe5d-a54c-4736-ace6-05c35a4b2fd0 ]] {\r\n",
       "rec usage \"x\" as E3  [[psysml:3f2b8857-d9ea-41c6-bb7a-db05d1986c1a ]] {\r\n",
       "rec usage \"x1\" as E4  [[psysml:e84cebed-6405-49c5-b413-5d504fb47cee ]] {\r\n",
       "}\r\n",
       "}\r\n",
       "}\r\n",
       "rec def \"P\" as E5  <<(T,blue) part def>> [[psysml:ba7b03ba-afee-4a2c-95ba-c440e322d2ee ]] {\r\n",
       "rec usage \"y\" as E6  [[psysml:6b502337-597a-4c17-979b-8872526dd5b6 ]] {\r\n",
       "}\r\n",
       "rec usage \"p1\" as E7  [[psysml:c0882630-04b8-4e6c-a043-bd39b4f2710a ]] {\r\n",
       "rec usage \"^x\" as E8  [[psysml:3f2b8857-d9ea-41c6-bb7a-db05d1986c1a ]] {\r\n",
       "rec usage \"x1\" as E9  [[psysml:e84cebed-6405-49c5-b413-5d504fb47cee ]] {\r\n",
       "}\r\n",
       "}\r\n",
       "}\r\n",
       "}\r\n",
       "E6 -[thickness=3]- E2 [[psysml:3c2ac290-8ac1-4000-af3e-5bcf9ecf7966 ]] \r\n",
       "E6 -[thickness=3]- E8 [[psysml:75c884b3-4954-4983-bf4e-b524958cba22 ]] \r\n",
       "E6 -[thickness=3]- E9 [[psysml:ec977721-0260-4bea-8651-1724c0f568d2 ]] \r\n",
       "}\r\n",
       "@enduml\r\n",
       "\n",
       "PlantUML version 1.2020.13(Sat Jun 13 12:26:38 UTC 2020)\n",
       "(EPL source distribution)\n",
       "Java Runtime: OpenJDK Runtime Environment\n",
       "JVM: OpenJDK 64-Bit Server VM\n",
       "Default Encoding: UTF-8\n",
       "Language: en\n",
       "Country: null\n",
       "--></g></svg>"
      ]
     },
     "execution_count": 26,
     "metadata": {},
     "output_type": "execute_result"
    }
   ],
   "source": [
    "%viz --style=\"STDCOLOR\" --view=\"Interconnection\" \"ConnectionTest\""
   ]
  },
  {
   "cell_type": "code",
   "execution_count": 27,
   "id": "d2ab736d",
   "metadata": {
    "execution": {
     "iopub.execute_input": "2021-06-30T09:21:35.347298Z",
     "iopub.status.busy": "2021-06-30T09:21:35.346573Z",
     "iopub.status.idle": "2021-06-30T09:21:35.359282Z",
     "shell.execute_reply": "2021-06-30T09:21:35.358137Z"
    }
   },
   "outputs": [
    {
     "data": {
      "image/svg+xml": [
       "<?xml version=\"1.0\" encoding=\"UTF-8\" standalone=\"no\"?><svg xmlns=\"http://www.w3.org/2000/svg\" xmlns:xlink=\"http://www.w3.org/1999/xlink\" contentScriptType=\"application/ecmascript\" contentStyleType=\"text/css\" height=\"12px\" preserveAspectRatio=\"none\" style=\"width:12px;height:12px;\" version=\"1.1\" viewBox=\"0 0 12 12\" width=\"12px\" zoomAndPan=\"magnify\"><defs/><g><!--MD5=[9863325348a96a77dacc89509d8ee65e]\n",
       "@startuml\r\n",
       "skinparam ranksep 8\r\n",
       "skinparam wrapWidth 300\r\n",
       "hide circle\r\n",
       "\r\n",
       "@enduml\r\n",
       "\n",
       "PlantUML version 1.2020.13(Sat Jun 13 12:26:38 UTC 2020)\n",
       "(EPL source distribution)\n",
       "Java Runtime: OpenJDK Runtime Environment\n",
       "JVM: OpenJDK 64-Bit Server VM\n",
       "Default Encoding: UTF-8\n",
       "Language: en\n",
       "Country: null\n",
       "--></g></svg>"
      ]
     },
     "execution_count": 27,
     "metadata": {},
     "output_type": "execute_result"
    }
   ],
   "source": [
    "%viz --style=\"STDCOLOR\" --view=\"Action\" \"ConnectionTest\""
   ]
  },
  {
   "cell_type": "code",
   "execution_count": 28,
   "id": "82b0ef0a",
   "metadata": {
    "execution": {
     "iopub.execute_input": "2021-06-30T09:21:35.410938Z",
     "iopub.status.busy": "2021-06-30T09:21:35.410024Z",
     "iopub.status.idle": "2021-06-30T09:21:35.491622Z",
     "shell.execute_reply": "2021-06-30T09:21:35.490902Z"
    }
   },
   "outputs": [
    {
     "data": {
      "image/svg+xml": [
       "<?xml version=\"1.0\" encoding=\"UTF-8\" standalone=\"no\"?><svg xmlns=\"http://www.w3.org/2000/svg\" xmlns:xlink=\"http://www.w3.org/1999/xlink\" contentScriptType=\"application/ecmascript\" contentStyleType=\"text/css\" height=\"539px\" preserveAspectRatio=\"none\" style=\"width:189px;height:539px;\" version=\"1.1\" viewBox=\"0 0 189 539\" width=\"189px\" zoomAndPan=\"magnify\"><defs><filter height=\"300%\" id=\"f1s81opadvkwc2\" width=\"300%\" x=\"-1\" y=\"-1\"><feGaussianBlur result=\"blurOut\" stdDeviation=\"2.0\"/><feColorMatrix in=\"blurOut\" result=\"blurOut2\" type=\"matrix\" values=\"0 0 0 0 0 0 0 0 0 0 0 0 0 0 0 0 0 0 .4 0\"/><feOffset dx=\"4.0\" dy=\"4.0\" in=\"blurOut2\" result=\"blurOut3\"/><feBlend in=\"SourceGraphic\" in2=\"blurOut3\" mode=\"normal\"/></filter></defs><g><!--MD5=[fbc87193dbaf4d95561dea2c320d4a47]\n",
       "cluster E1--><a href=\"psysml:22aef044-e637-4155-a6c9-7ceaf878199d\" target=\"_top\" title=\"psysml:22aef044-e637-4155-a6c9-7ceaf878199d\" xlink:actuate=\"onRequest\" xlink:href=\"psysml:22aef044-e637-4155-a6c9-7ceaf878199d\" xlink:show=\"new\" xlink:title=\"psysml:22aef044-e637-4155-a6c9-7ceaf878199d\" xlink:type=\"simple\"><polygon fill=\"#FFFFFF\" filter=\"url(#f1s81opadvkwc2)\" points=\"16,6,147,6,154,28.2969,167,28.2969,167,527,16,527,16,6\" style=\"stroke: #000000; stroke-width: 1.5;\"/><line style=\"stroke: #000000; stroke-width: 1.5;\" x1=\"16\" x2=\"154\" y1=\"28.2969\" y2=\"28.2969\"/><text fill=\"#000000\" font-family=\"sans-serif\" font-size=\"14\" font-weight=\"bold\" lengthAdjust=\"spacingAndGlyphs\" textLength=\"125\" x=\"20\" y=\"20.9951\">ConnectionTest</text></a><!--MD5=[b4997ac47864f28c2f74865a473b2911]\n",
       "class E2--><a href=\"psysml:4372fe5d-a54c-4736-ace6-05c35a4b2fd0\" target=\"_top\" title=\"psysml:4372fe5d-a54c-4736-ace6-05c35a4b2fd0\" xlink:actuate=\"onRequest\" xlink:href=\"psysml:4372fe5d-a54c-4736-ace6-05c35a4b2fd0\" xlink:show=\"new\" xlink:title=\"psysml:4372fe5d-a54c-4736-ace6-05c35a4b2fd0\" xlink:type=\"simple\"><rect fill=\"#FEFECE\" filter=\"url(#f1s81opadvkwc2)\" height=\"45.9375\" id=\"E2\" rx=\"10\" ry=\"10\" style=\"stroke: #A80036; stroke-width: 1.5;\" width=\"42\" x=\"70\" y=\"253\"/><text fill=\"#000000\" font-family=\"sans-serif\" font-size=\"12\" font-style=\"italic\" lengthAdjust=\"spacingAndGlyphs\" textLength=\"40\" x=\"71\" y=\"269.1387\">«part»</text><text fill=\"#000000\" font-family=\"sans-serif\" font-size=\"12\" lengthAdjust=\"spacingAndGlyphs\" textLength=\"8\" x=\"87\" y=\"283.1074\">p</text><line style=\"stroke: #A80036; stroke-width: 1.5;\" x1=\"71\" x2=\"111\" y1=\"290.9375\" y2=\"290.9375\"/></a><!--MD5=[09b614a08d8cba4a07c9adeb5e0fee81]\n",
       "class E3--><a href=\"psysml:3f2b8857-d9ea-41c6-bb7a-db05d1986c1a\" target=\"_top\" title=\"psysml:3f2b8857-d9ea-41c6-bb7a-db05d1986c1a\" xlink:actuate=\"onRequest\" xlink:href=\"psysml:3f2b8857-d9ea-41c6-bb7a-db05d1986c1a\" xlink:show=\"new\" xlink:title=\"psysml:3f2b8857-d9ea-41c6-bb7a-db05d1986c1a\" xlink:type=\"simple\"><rect fill=\"#FEFECE\" filter=\"url(#f1s81opadvkwc2)\" height=\"45.9375\" id=\"E3\" rx=\"10\" ry=\"10\" style=\"stroke: #A80036; stroke-width: 1.5;\" width=\"42\" x=\"70\" y=\"359\"/><text fill=\"#000000\" font-family=\"sans-serif\" font-size=\"12\" font-style=\"italic\" lengthAdjust=\"spacingAndGlyphs\" textLength=\"40\" x=\"71\" y=\"375.1387\">«part»</text><text fill=\"#000000\" font-family=\"sans-serif\" font-size=\"12\" lengthAdjust=\"spacingAndGlyphs\" textLength=\"6\" x=\"88\" y=\"389.1074\">x</text><line style=\"stroke: #A80036; stroke-width: 1.5;\" x1=\"71\" x2=\"111\" y1=\"396.9375\" y2=\"396.9375\"/></a><!--MD5=[ebbe1d658d1005bcc118a6aa81145e00]\n",
       "class E4--><a href=\"psysml:e84cebed-6405-49c5-b413-5d504fb47cee\" target=\"_top\" title=\"psysml:e84cebed-6405-49c5-b413-5d504fb47cee\" xlink:actuate=\"onRequest\" xlink:href=\"psysml:e84cebed-6405-49c5-b413-5d504fb47cee\" xlink:show=\"new\" xlink:title=\"psysml:e84cebed-6405-49c5-b413-5d504fb47cee\" xlink:type=\"simple\"><rect fill=\"#FEFECE\" filter=\"url(#f1s81opadvkwc2)\" height=\"45.9375\" id=\"E4\" rx=\"10\" ry=\"10\" style=\"stroke: #A80036; stroke-width: 1.5;\" width=\"42\" x=\"70\" y=\"465\"/><text fill=\"#000000\" font-family=\"sans-serif\" font-size=\"12\" font-style=\"italic\" lengthAdjust=\"spacingAndGlyphs\" textLength=\"40\" x=\"71\" y=\"481.1387\">«part»</text><text fill=\"#000000\" font-family=\"sans-serif\" font-size=\"12\" lengthAdjust=\"spacingAndGlyphs\" textLength=\"14\" x=\"84\" y=\"495.1074\">x1</text><line style=\"stroke: #A80036; stroke-width: 1.5;\" x1=\"71\" x2=\"111\" y1=\"502.9375\" y2=\"502.9375\"/></a><!--MD5=[270fce915f116d4de14055a7c1d9a0f3]\n",
       "class E5--><a href=\"psysml:ba7b03ba-afee-4a2c-95ba-c440e322d2ee\" target=\"_top\" title=\"psysml:ba7b03ba-afee-4a2c-95ba-c440e322d2ee\" xlink:actuate=\"onRequest\" xlink:href=\"psysml:ba7b03ba-afee-4a2c-95ba-c440e322d2ee\" xlink:show=\"new\" xlink:title=\"psysml:ba7b03ba-afee-4a2c-95ba-c440e322d2ee\" xlink:type=\"simple\"><rect fill=\"#FEFECE\" filter=\"url(#f1s81opadvkwc2)\" height=\"45.9375\" id=\"E5\" style=\"stroke: #A80036; stroke-width: 1.5;\" width=\"66\" x=\"58\" y=\"41\"/><text fill=\"#000000\" font-family=\"sans-serif\" font-size=\"12\" font-style=\"italic\" lengthAdjust=\"spacingAndGlyphs\" textLength=\"64\" x=\"59\" y=\"57.1387\">«part def»</text><text fill=\"#000000\" font-family=\"sans-serif\" font-size=\"12\" lengthAdjust=\"spacingAndGlyphs\" textLength=\"8\" x=\"87\" y=\"71.1074\">P</text><line style=\"stroke: #A80036; stroke-width: 1.5;\" x1=\"59\" x2=\"123\" y1=\"78.9375\" y2=\"78.9375\"/></a><!--MD5=[60a26617385b1d2d0262a64233df1f8d]\n",
       "class E6--><a href=\"psysml:6b502337-597a-4c17-979b-8872526dd5b6\" target=\"_top\" title=\"psysml:6b502337-597a-4c17-979b-8872526dd5b6\" xlink:actuate=\"onRequest\" xlink:href=\"psysml:6b502337-597a-4c17-979b-8872526dd5b6\" xlink:show=\"new\" xlink:title=\"psysml:6b502337-597a-4c17-979b-8872526dd5b6\" xlink:type=\"simple\"><rect fill=\"#FEFECE\" filter=\"url(#f1s81opadvkwc2)\" height=\"45.9375\" id=\"E6\" rx=\"10\" ry=\"10\" style=\"stroke: #A80036; stroke-width: 1.5;\" width=\"42\" x=\"32\" y=\"147\"/><text fill=\"#000000\" font-family=\"sans-serif\" font-size=\"12\" font-style=\"italic\" lengthAdjust=\"spacingAndGlyphs\" textLength=\"40\" x=\"33\" y=\"163.1387\">«part»</text><text fill=\"#000000\" font-family=\"sans-serif\" font-size=\"12\" lengthAdjust=\"spacingAndGlyphs\" textLength=\"6\" x=\"50\" y=\"177.1074\">y</text><line style=\"stroke: #A80036; stroke-width: 1.5;\" x1=\"33\" x2=\"73\" y1=\"184.9375\" y2=\"184.9375\"/></a><!--MD5=[2156ba9850f5573cc1fc38a6a4b2f02b]\n",
       "class E7--><a href=\"psysml:c0882630-04b8-4e6c-a043-bd39b4f2710a\" target=\"_top\" title=\"psysml:c0882630-04b8-4e6c-a043-bd39b4f2710a\" xlink:actuate=\"onRequest\" xlink:href=\"psysml:c0882630-04b8-4e6c-a043-bd39b4f2710a\" xlink:show=\"new\" xlink:title=\"psysml:c0882630-04b8-4e6c-a043-bd39b4f2710a\" xlink:type=\"simple\"><rect fill=\"#FEFECE\" filter=\"url(#f1s81opadvkwc2)\" height=\"45.9375\" id=\"E7\" rx=\"10\" ry=\"10\" style=\"stroke: #A80036; stroke-width: 1.5;\" width=\"42\" x=\"109\" y=\"147\"/><text fill=\"#000000\" font-family=\"sans-serif\" font-size=\"12\" font-style=\"italic\" lengthAdjust=\"spacingAndGlyphs\" textLength=\"40\" x=\"110\" y=\"163.1387\">«part»</text><text fill=\"#000000\" font-family=\"sans-serif\" font-size=\"12\" lengthAdjust=\"spacingAndGlyphs\" textLength=\"16\" x=\"122\" y=\"177.1074\">p1</text><line style=\"stroke: #A80036; stroke-width: 1.5;\" x1=\"110\" x2=\"150\" y1=\"184.9375\" y2=\"184.9375\"/></a><!--MD5=[209b3feb70ccb6233bfe1053d122c12c]\n",
       "reverse link E2 to E3--><a href=\"psysml:d551e406-73fb-4a91-a080-fc440127a640\" target=\"_top\" title=\"psysml:d551e406-73fb-4a91-a080-fc440127a640\" xlink:actuate=\"onRequest\" xlink:href=\"psysml:d551e406-73fb-4a91-a080-fc440127a640\" xlink:show=\"new\" xlink:title=\"psysml:d551e406-73fb-4a91-a080-fc440127a640\" xlink:type=\"simple\"><path d=\"M91,312.44 C91,327.87 91,345.47 91,358.98 \" fill=\"none\" id=\"E2&lt;-E3\" style=\"stroke: #A80036; stroke-width: 1.0;\"/><polygon fill=\"#A80036\" points=\"91,299.06,87,305.06,91,311.06,95,305.06,91,299.06\" style=\"stroke: #A80036; stroke-width: 1.0;\"/></a><!--MD5=[4672eba38e49728da53d11aeb285b987]\n",
       "reverse link E3 to E4--><a href=\"psysml:0c62ef63-43f3-4799-a069-927499b27fb4\" target=\"_top\" title=\"psysml:0c62ef63-43f3-4799-a069-927499b27fb4\" xlink:actuate=\"onRequest\" xlink:href=\"psysml:0c62ef63-43f3-4799-a069-927499b27fb4\" xlink:show=\"new\" xlink:title=\"psysml:0c62ef63-43f3-4799-a069-927499b27fb4\" xlink:type=\"simple\"><path d=\"M91,418.44 C91,433.87 91,451.47 91,464.98 \" fill=\"none\" id=\"E3&lt;-E4\" style=\"stroke: #A80036; stroke-width: 1.0;\"/><polygon fill=\"#A80036\" points=\"91,405.06,87,411.06,91,417.06,95,411.06,91,405.06\" style=\"stroke: #A80036; stroke-width: 1.0;\"/></a><!--MD5=[85d356282659285ab4b2cfe2f634dd2b]\n",
       "reverse link E5 to E6--><a href=\"psysml:bccb9dd4-409f-48ce-8915-27f20628680f\" target=\"_top\" title=\"psysml:bccb9dd4-409f-48ce-8915-27f20628680f\" xlink:actuate=\"onRequest\" xlink:href=\"psysml:bccb9dd4-409f-48ce-8915-27f20628680f\" xlink:show=\"new\" xlink:title=\"psysml:bccb9dd4-409f-48ce-8915-27f20628680f\" xlink:type=\"simple\"><path d=\"M78.4,99.49 C72.68,115.15 66.08,133.19 61.05,146.98 \" fill=\"none\" id=\"E5&lt;-E6\" style=\"stroke: #A80036; stroke-width: 1.0;\"/><polygon fill=\"#A80036\" points=\"82.94,87.06,77.1196,91.317,78.8105,98.3271,84.6309,94.07,82.94,87.06\" style=\"stroke: #A80036; stroke-width: 1.0;\"/></a><!--MD5=[2351f337d6de0f557b50152ba70847b5]\n",
       "link E6 to E2--><a href=\"psysml:3c2ac290-8ac1-4000-af3e-5bcf9ecf7966\" target=\"_top\" title=\"psysml:3c2ac290-8ac1-4000-af3e-5bcf9ecf7966\" xlink:actuate=\"onRequest\" xlink:href=\"psysml:3c2ac290-8ac1-4000-af3e-5bcf9ecf7966\" xlink:show=\"new\" xlink:title=\"psysml:3c2ac290-8ac1-4000-af3e-5bcf9ecf7966\" xlink:type=\"simple\"><path d=\"M61.06,193.06 C67.51,210.7 76.51,235.34 82.95,252.98 \" fill=\"none\" id=\"E6-E2\" style=\"stroke: #A80036; stroke-width: 3.0;\"/></a><!--MD5=[452b418e7f8a40397a49b8c0a78acc5b]\n",
       "reverse link E5 to E7--><a href=\"psysml:97bf4e08-a4b3-492a-87d8-6adc842be5d3\" target=\"_top\" title=\"psysml:97bf4e08-a4b3-492a-87d8-6adc842be5d3\" xlink:actuate=\"onRequest\" xlink:href=\"psysml:97bf4e08-a4b3-492a-87d8-6adc842be5d3\" xlink:show=\"new\" xlink:title=\"psysml:97bf4e08-a4b3-492a-87d8-6adc842be5d3\" xlink:type=\"simple\"><path d=\"M103.94,99.49 C109.8,115.15 116.57,133.19 121.74,146.98 \" fill=\"none\" id=\"E5&lt;-E7\" style=\"stroke: #A80036; stroke-width: 1.0;\"/><polygon fill=\"#A80036\" points=\"99.27,87.06,97.635,94.0833,103.4893,98.2938,105.1242,91.2705,99.27,87.06\" style=\"stroke: #A80036; stroke-width: 1.0;\"/></a><!--MD5=[583832df87f4419a098336a29a52fa00]\n",
       "link E7 to E2--><a href=\"psysml:6815ba90-0374-438b-ad93-53c34ddf71b8\" target=\"_top\" title=\"psysml:6815ba90-0374-438b-ad93-53c34ddf71b8\" xlink:actuate=\"onRequest\" xlink:href=\"psysml:6815ba90-0374-438b-ad93-53c34ddf71b8\" xlink:show=\"new\" xlink:title=\"psysml:6815ba90-0374-438b-ad93-53c34ddf71b8\" xlink:type=\"simple\"><path d=\"M121.73,193.06 C117.28,204.91 111.65,219.92 106.43,233.85 \" fill=\"none\" id=\"E7-&gt;E2\" style=\"stroke: #A80036; stroke-width: 1.0;\"/><polygon fill=\"none\" points=\"112.84,236.71,99.26,252.98,99.73,231.79,112.84,236.71\" style=\"stroke: #A80036; stroke-width: 1.0;\"/></a><!--MD5=[f74f8a3d5959f8b6a6d336cdc03bea75]\n",
       "@startuml\r\n",
       "skinparam wrapWidth 300\r\n",
       "hide circle\r\n",
       "\r\n",
       "package \"ConnectionTest\" as E1  [[psysml:22aef044-e637-4155-a6c9-7ceaf878199d ]]  {\r\n",
       "comp usage \"p\" as E2  <<(T,blue) part>> [[psysml:4372fe5d-a54c-4736-ace6-05c35a4b2fd0 ]] {\r\n",
       "}\r\n",
       "comp usage \"x\" as E3  <<(T,blue) part>> [[psysml:3f2b8857-d9ea-41c6-bb7a-db05d1986c1a ]] {\r\n",
       "}\r\n",
       "comp usage \"x1\" as E4  <<(T,blue) part>> [[psysml:e84cebed-6405-49c5-b413-5d504fb47cee ]] {\r\n",
       "}\r\n",
       "comp def \"P\" as E5  <<(T,blue) part def>> [[psysml:ba7b03ba-afee-4a2c-95ba-c440e322d2ee ]] {\r\n",
       "}\r\n",
       "comp usage \"y\" as E6  <<(T,blue) part>> [[psysml:6b502337-597a-4c17-979b-8872526dd5b6 ]] {\r\n",
       "}\r\n",
       "comp usage \"p1\" as E7  <<(T,blue) part>> [[psysml:c0882630-04b8-4e6c-a043-bd39b4f2710a ]] {\r\n",
       "}\r\n",
       "E2 *- - E3 [[psysml:d551e406-73fb-4a91-a080-fc440127a640 ]] \r\n",
       "E3 *- - E4 [[psysml:0c62ef63-43f3-4799-a069-927499b27fb4 ]] \r\n",
       "E5 *- - E6 [[psysml:bccb9dd4-409f-48ce-8915-27f20628680f ]] \r\n",
       "E6 -[thickness=3]- E2 [[psysml:3c2ac290-8ac1-4000-af3e-5bcf9ecf7966 ]] \r\n",
       "E5 *- - E7 [[psysml:97bf4e08-a4b3-492a-87d8-6adc842be5d3 ]] \r\n",
       "E7 - -|> E2 [[psysml:6815ba90-0374-438b-ad93-53c34ddf71b8 ]] \r\n",
       "}\r\n",
       "@enduml\r\n",
       "\n",
       "PlantUML version 1.2020.13(Sat Jun 13 12:26:38 UTC 2020)\n",
       "(EPL source distribution)\n",
       "Java Runtime: OpenJDK Runtime Environment\n",
       "JVM: OpenJDK 64-Bit Server VM\n",
       "Default Encoding: UTF-8\n",
       "Language: en\n",
       "Country: null\n",
       "--></g></svg>"
      ]
     },
     "execution_count": 28,
     "metadata": {},
     "output_type": "execute_result"
    }
   ],
   "source": [
    "%viz --style=\"STDCOLOR\" --view=\"Sequence\" \"ConnectionTest\""
   ]
  },
  {
   "cell_type": "code",
   "execution_count": 29,
   "id": "5c711ad7",
   "metadata": {
    "execution": {
     "iopub.execute_input": "2021-06-30T09:21:35.541453Z",
     "iopub.status.busy": "2021-06-30T09:21:35.540703Z",
     "iopub.status.idle": "2021-06-30T09:21:35.629240Z",
     "shell.execute_reply": "2021-06-30T09:21:35.626697Z"
    }
   },
   "outputs": [
    {
     "data": {
      "image/svg+xml": [
       "<?xml version=\"1.0\" encoding=\"UTF-8\" standalone=\"no\"?><svg xmlns=\"http://www.w3.org/2000/svg\" xmlns:xlink=\"http://www.w3.org/1999/xlink\" contentScriptType=\"application/ecmascript\" contentStyleType=\"text/css\" height=\"539px\" preserveAspectRatio=\"none\" style=\"width:189px;height:539px;\" version=\"1.1\" viewBox=\"0 0 189 539\" width=\"189px\" zoomAndPan=\"magnify\"><defs><filter height=\"300%\" id=\"f1s81opadvkwc2\" width=\"300%\" x=\"-1\" y=\"-1\"><feGaussianBlur result=\"blurOut\" stdDeviation=\"2.0\"/><feColorMatrix in=\"blurOut\" result=\"blurOut2\" type=\"matrix\" values=\"0 0 0 0 0 0 0 0 0 0 0 0 0 0 0 0 0 0 .4 0\"/><feOffset dx=\"4.0\" dy=\"4.0\" in=\"blurOut2\" result=\"blurOut3\"/><feBlend in=\"SourceGraphic\" in2=\"blurOut3\" mode=\"normal\"/></filter></defs><g><!--MD5=[fbc87193dbaf4d95561dea2c320d4a47]\n",
       "cluster E1--><a href=\"psysml:22aef044-e637-4155-a6c9-7ceaf878199d\" target=\"_top\" title=\"psysml:22aef044-e637-4155-a6c9-7ceaf878199d\" xlink:actuate=\"onRequest\" xlink:href=\"psysml:22aef044-e637-4155-a6c9-7ceaf878199d\" xlink:show=\"new\" xlink:title=\"psysml:22aef044-e637-4155-a6c9-7ceaf878199d\" xlink:type=\"simple\"><polygon fill=\"#FFFFFF\" filter=\"url(#f1s81opadvkwc2)\" points=\"16,6,147,6,154,28.2969,167,28.2969,167,527,16,527,16,6\" style=\"stroke: #000000; stroke-width: 1.5;\"/><line style=\"stroke: #000000; stroke-width: 1.5;\" x1=\"16\" x2=\"154\" y1=\"28.2969\" y2=\"28.2969\"/><text fill=\"#000000\" font-family=\"sans-serif\" font-size=\"14\" font-weight=\"bold\" lengthAdjust=\"spacingAndGlyphs\" textLength=\"125\" x=\"20\" y=\"20.9951\">ConnectionTest</text></a><!--MD5=[b4997ac47864f28c2f74865a473b2911]\n",
       "class E2--><a href=\"psysml:4372fe5d-a54c-4736-ace6-05c35a4b2fd0\" target=\"_top\" title=\"psysml:4372fe5d-a54c-4736-ace6-05c35a4b2fd0\" xlink:actuate=\"onRequest\" xlink:href=\"psysml:4372fe5d-a54c-4736-ace6-05c35a4b2fd0\" xlink:show=\"new\" xlink:title=\"psysml:4372fe5d-a54c-4736-ace6-05c35a4b2fd0\" xlink:type=\"simple\"><rect fill=\"#FEFECE\" filter=\"url(#f1s81opadvkwc2)\" height=\"45.9375\" id=\"E2\" rx=\"10\" ry=\"10\" style=\"stroke: #A80036; stroke-width: 1.5;\" width=\"42\" x=\"70\" y=\"253\"/><text fill=\"#000000\" font-family=\"sans-serif\" font-size=\"12\" font-style=\"italic\" lengthAdjust=\"spacingAndGlyphs\" textLength=\"40\" x=\"71\" y=\"269.1387\">«part»</text><text fill=\"#000000\" font-family=\"sans-serif\" font-size=\"12\" lengthAdjust=\"spacingAndGlyphs\" textLength=\"8\" x=\"87\" y=\"283.1074\">p</text><line style=\"stroke: #A80036; stroke-width: 1.5;\" x1=\"71\" x2=\"111\" y1=\"290.9375\" y2=\"290.9375\"/></a><!--MD5=[09b614a08d8cba4a07c9adeb5e0fee81]\n",
       "class E3--><a href=\"psysml:3f2b8857-d9ea-41c6-bb7a-db05d1986c1a\" target=\"_top\" title=\"psysml:3f2b8857-d9ea-41c6-bb7a-db05d1986c1a\" xlink:actuate=\"onRequest\" xlink:href=\"psysml:3f2b8857-d9ea-41c6-bb7a-db05d1986c1a\" xlink:show=\"new\" xlink:title=\"psysml:3f2b8857-d9ea-41c6-bb7a-db05d1986c1a\" xlink:type=\"simple\"><rect fill=\"#FEFECE\" filter=\"url(#f1s81opadvkwc2)\" height=\"45.9375\" id=\"E3\" rx=\"10\" ry=\"10\" style=\"stroke: #A80036; stroke-width: 1.5;\" width=\"42\" x=\"70\" y=\"359\"/><text fill=\"#000000\" font-family=\"sans-serif\" font-size=\"12\" font-style=\"italic\" lengthAdjust=\"spacingAndGlyphs\" textLength=\"40\" x=\"71\" y=\"375.1387\">«part»</text><text fill=\"#000000\" font-family=\"sans-serif\" font-size=\"12\" lengthAdjust=\"spacingAndGlyphs\" textLength=\"6\" x=\"88\" y=\"389.1074\">x</text><line style=\"stroke: #A80036; stroke-width: 1.5;\" x1=\"71\" x2=\"111\" y1=\"396.9375\" y2=\"396.9375\"/></a><!--MD5=[ebbe1d658d1005bcc118a6aa81145e00]\n",
       "class E4--><a href=\"psysml:e84cebed-6405-49c5-b413-5d504fb47cee\" target=\"_top\" title=\"psysml:e84cebed-6405-49c5-b413-5d504fb47cee\" xlink:actuate=\"onRequest\" xlink:href=\"psysml:e84cebed-6405-49c5-b413-5d504fb47cee\" xlink:show=\"new\" xlink:title=\"psysml:e84cebed-6405-49c5-b413-5d504fb47cee\" xlink:type=\"simple\"><rect fill=\"#FEFECE\" filter=\"url(#f1s81opadvkwc2)\" height=\"45.9375\" id=\"E4\" rx=\"10\" ry=\"10\" style=\"stroke: #A80036; stroke-width: 1.5;\" width=\"42\" x=\"70\" y=\"465\"/><text fill=\"#000000\" font-family=\"sans-serif\" font-size=\"12\" font-style=\"italic\" lengthAdjust=\"spacingAndGlyphs\" textLength=\"40\" x=\"71\" y=\"481.1387\">«part»</text><text fill=\"#000000\" font-family=\"sans-serif\" font-size=\"12\" lengthAdjust=\"spacingAndGlyphs\" textLength=\"14\" x=\"84\" y=\"495.1074\">x1</text><line style=\"stroke: #A80036; stroke-width: 1.5;\" x1=\"71\" x2=\"111\" y1=\"502.9375\" y2=\"502.9375\"/></a><!--MD5=[270fce915f116d4de14055a7c1d9a0f3]\n",
       "class E5--><a href=\"psysml:ba7b03ba-afee-4a2c-95ba-c440e322d2ee\" target=\"_top\" title=\"psysml:ba7b03ba-afee-4a2c-95ba-c440e322d2ee\" xlink:actuate=\"onRequest\" xlink:href=\"psysml:ba7b03ba-afee-4a2c-95ba-c440e322d2ee\" xlink:show=\"new\" xlink:title=\"psysml:ba7b03ba-afee-4a2c-95ba-c440e322d2ee\" xlink:type=\"simple\"><rect fill=\"#FEFECE\" filter=\"url(#f1s81opadvkwc2)\" height=\"45.9375\" id=\"E5\" style=\"stroke: #A80036; stroke-width: 1.5;\" width=\"66\" x=\"58\" y=\"41\"/><text fill=\"#000000\" font-family=\"sans-serif\" font-size=\"12\" font-style=\"italic\" lengthAdjust=\"spacingAndGlyphs\" textLength=\"64\" x=\"59\" y=\"57.1387\">«part def»</text><text fill=\"#000000\" font-family=\"sans-serif\" font-size=\"12\" lengthAdjust=\"spacingAndGlyphs\" textLength=\"8\" x=\"87\" y=\"71.1074\">P</text><line style=\"stroke: #A80036; stroke-width: 1.5;\" x1=\"59\" x2=\"123\" y1=\"78.9375\" y2=\"78.9375\"/></a><!--MD5=[60a26617385b1d2d0262a64233df1f8d]\n",
       "class E6--><a href=\"psysml:6b502337-597a-4c17-979b-8872526dd5b6\" target=\"_top\" title=\"psysml:6b502337-597a-4c17-979b-8872526dd5b6\" xlink:actuate=\"onRequest\" xlink:href=\"psysml:6b502337-597a-4c17-979b-8872526dd5b6\" xlink:show=\"new\" xlink:title=\"psysml:6b502337-597a-4c17-979b-8872526dd5b6\" xlink:type=\"simple\"><rect fill=\"#FEFECE\" filter=\"url(#f1s81opadvkwc2)\" height=\"45.9375\" id=\"E6\" rx=\"10\" ry=\"10\" style=\"stroke: #A80036; stroke-width: 1.5;\" width=\"42\" x=\"32\" y=\"147\"/><text fill=\"#000000\" font-family=\"sans-serif\" font-size=\"12\" font-style=\"italic\" lengthAdjust=\"spacingAndGlyphs\" textLength=\"40\" x=\"33\" y=\"163.1387\">«part»</text><text fill=\"#000000\" font-family=\"sans-serif\" font-size=\"12\" lengthAdjust=\"spacingAndGlyphs\" textLength=\"6\" x=\"50\" y=\"177.1074\">y</text><line style=\"stroke: #A80036; stroke-width: 1.5;\" x1=\"33\" x2=\"73\" y1=\"184.9375\" y2=\"184.9375\"/></a><!--MD5=[2156ba9850f5573cc1fc38a6a4b2f02b]\n",
       "class E7--><a href=\"psysml:c0882630-04b8-4e6c-a043-bd39b4f2710a\" target=\"_top\" title=\"psysml:c0882630-04b8-4e6c-a043-bd39b4f2710a\" xlink:actuate=\"onRequest\" xlink:href=\"psysml:c0882630-04b8-4e6c-a043-bd39b4f2710a\" xlink:show=\"new\" xlink:title=\"psysml:c0882630-04b8-4e6c-a043-bd39b4f2710a\" xlink:type=\"simple\"><rect fill=\"#FEFECE\" filter=\"url(#f1s81opadvkwc2)\" height=\"45.9375\" id=\"E7\" rx=\"10\" ry=\"10\" style=\"stroke: #A80036; stroke-width: 1.5;\" width=\"42\" x=\"109\" y=\"147\"/><text fill=\"#000000\" font-family=\"sans-serif\" font-size=\"12\" font-style=\"italic\" lengthAdjust=\"spacingAndGlyphs\" textLength=\"40\" x=\"110\" y=\"163.1387\">«part»</text><text fill=\"#000000\" font-family=\"sans-serif\" font-size=\"12\" lengthAdjust=\"spacingAndGlyphs\" textLength=\"16\" x=\"122\" y=\"177.1074\">p1</text><line style=\"stroke: #A80036; stroke-width: 1.5;\" x1=\"110\" x2=\"150\" y1=\"184.9375\" y2=\"184.9375\"/></a><!--MD5=[209b3feb70ccb6233bfe1053d122c12c]\n",
       "reverse link E2 to E3--><a href=\"psysml:d551e406-73fb-4a91-a080-fc440127a640\" target=\"_top\" title=\"psysml:d551e406-73fb-4a91-a080-fc440127a640\" xlink:actuate=\"onRequest\" xlink:href=\"psysml:d551e406-73fb-4a91-a080-fc440127a640\" xlink:show=\"new\" xlink:title=\"psysml:d551e406-73fb-4a91-a080-fc440127a640\" xlink:type=\"simple\"><path d=\"M91,312.44 C91,327.87 91,345.47 91,358.98 \" fill=\"none\" id=\"E2&lt;-E3\" style=\"stroke: #A80036; stroke-width: 1.0;\"/><polygon fill=\"#A80036\" points=\"91,299.06,87,305.06,91,311.06,95,305.06,91,299.06\" style=\"stroke: #A80036; stroke-width: 1.0;\"/></a><!--MD5=[4672eba38e49728da53d11aeb285b987]\n",
       "reverse link E3 to E4--><a href=\"psysml:0c62ef63-43f3-4799-a069-927499b27fb4\" target=\"_top\" title=\"psysml:0c62ef63-43f3-4799-a069-927499b27fb4\" xlink:actuate=\"onRequest\" xlink:href=\"psysml:0c62ef63-43f3-4799-a069-927499b27fb4\" xlink:show=\"new\" xlink:title=\"psysml:0c62ef63-43f3-4799-a069-927499b27fb4\" xlink:type=\"simple\"><path d=\"M91,418.44 C91,433.87 91,451.47 91,464.98 \" fill=\"none\" id=\"E3&lt;-E4\" style=\"stroke: #A80036; stroke-width: 1.0;\"/><polygon fill=\"#A80036\" points=\"91,405.06,87,411.06,91,417.06,95,411.06,91,405.06\" style=\"stroke: #A80036; stroke-width: 1.0;\"/></a><!--MD5=[85d356282659285ab4b2cfe2f634dd2b]\n",
       "reverse link E5 to E6--><a href=\"psysml:bccb9dd4-409f-48ce-8915-27f20628680f\" target=\"_top\" title=\"psysml:bccb9dd4-409f-48ce-8915-27f20628680f\" xlink:actuate=\"onRequest\" xlink:href=\"psysml:bccb9dd4-409f-48ce-8915-27f20628680f\" xlink:show=\"new\" xlink:title=\"psysml:bccb9dd4-409f-48ce-8915-27f20628680f\" xlink:type=\"simple\"><path d=\"M78.4,99.49 C72.68,115.15 66.08,133.19 61.05,146.98 \" fill=\"none\" id=\"E5&lt;-E6\" style=\"stroke: #A80036; stroke-width: 1.0;\"/><polygon fill=\"#A80036\" points=\"82.94,87.06,77.1196,91.317,78.8105,98.3271,84.6309,94.07,82.94,87.06\" style=\"stroke: #A80036; stroke-width: 1.0;\"/></a><!--MD5=[2351f337d6de0f557b50152ba70847b5]\n",
       "link E6 to E2--><a href=\"psysml:3c2ac290-8ac1-4000-af3e-5bcf9ecf7966\" target=\"_top\" title=\"psysml:3c2ac290-8ac1-4000-af3e-5bcf9ecf7966\" xlink:actuate=\"onRequest\" xlink:href=\"psysml:3c2ac290-8ac1-4000-af3e-5bcf9ecf7966\" xlink:show=\"new\" xlink:title=\"psysml:3c2ac290-8ac1-4000-af3e-5bcf9ecf7966\" xlink:type=\"simple\"><path d=\"M61.06,193.06 C67.51,210.7 76.51,235.34 82.95,252.98 \" fill=\"none\" id=\"E6-E2\" style=\"stroke: #A80036; stroke-width: 3.0;\"/></a><!--MD5=[452b418e7f8a40397a49b8c0a78acc5b]\n",
       "reverse link E5 to E7--><a href=\"psysml:97bf4e08-a4b3-492a-87d8-6adc842be5d3\" target=\"_top\" title=\"psysml:97bf4e08-a4b3-492a-87d8-6adc842be5d3\" xlink:actuate=\"onRequest\" xlink:href=\"psysml:97bf4e08-a4b3-492a-87d8-6adc842be5d3\" xlink:show=\"new\" xlink:title=\"psysml:97bf4e08-a4b3-492a-87d8-6adc842be5d3\" xlink:type=\"simple\"><path d=\"M103.94,99.49 C109.8,115.15 116.57,133.19 121.74,146.98 \" fill=\"none\" id=\"E5&lt;-E7\" style=\"stroke: #A80036; stroke-width: 1.0;\"/><polygon fill=\"#A80036\" points=\"99.27,87.06,97.635,94.0833,103.4893,98.2938,105.1242,91.2705,99.27,87.06\" style=\"stroke: #A80036; stroke-width: 1.0;\"/></a><!--MD5=[583832df87f4419a098336a29a52fa00]\n",
       "link E7 to E2--><a href=\"psysml:6815ba90-0374-438b-ad93-53c34ddf71b8\" target=\"_top\" title=\"psysml:6815ba90-0374-438b-ad93-53c34ddf71b8\" xlink:actuate=\"onRequest\" xlink:href=\"psysml:6815ba90-0374-438b-ad93-53c34ddf71b8\" xlink:show=\"new\" xlink:title=\"psysml:6815ba90-0374-438b-ad93-53c34ddf71b8\" xlink:type=\"simple\"><path d=\"M121.73,193.06 C117.28,204.91 111.65,219.92 106.43,233.85 \" fill=\"none\" id=\"E7-&gt;E2\" style=\"stroke: #A80036; stroke-width: 1.0;\"/><polygon fill=\"none\" points=\"112.84,236.71,99.26,252.98,99.73,231.79,112.84,236.71\" style=\"stroke: #A80036; stroke-width: 1.0;\"/></a><!--MD5=[f74f8a3d5959f8b6a6d336cdc03bea75]\n",
       "@startuml\r\n",
       "skinparam wrapWidth 300\r\n",
       "hide circle\r\n",
       "\r\n",
       "package \"ConnectionTest\" as E1  [[psysml:22aef044-e637-4155-a6c9-7ceaf878199d ]]  {\r\n",
       "comp usage \"p\" as E2  <<(T,blue) part>> [[psysml:4372fe5d-a54c-4736-ace6-05c35a4b2fd0 ]] {\r\n",
       "}\r\n",
       "comp usage \"x\" as E3  <<(T,blue) part>> [[psysml:3f2b8857-d9ea-41c6-bb7a-db05d1986c1a ]] {\r\n",
       "}\r\n",
       "comp usage \"x1\" as E4  <<(T,blue) part>> [[psysml:e84cebed-6405-49c5-b413-5d504fb47cee ]] {\r\n",
       "}\r\n",
       "comp def \"P\" as E5  <<(T,blue) part def>> [[psysml:ba7b03ba-afee-4a2c-95ba-c440e322d2ee ]] {\r\n",
       "}\r\n",
       "comp usage \"y\" as E6  <<(T,blue) part>> [[psysml:6b502337-597a-4c17-979b-8872526dd5b6 ]] {\r\n",
       "}\r\n",
       "comp usage \"p1\" as E7  <<(T,blue) part>> [[psysml:c0882630-04b8-4e6c-a043-bd39b4f2710a ]] {\r\n",
       "}\r\n",
       "E2 *- - E3 [[psysml:d551e406-73fb-4a91-a080-fc440127a640 ]] \r\n",
       "E3 *- - E4 [[psysml:0c62ef63-43f3-4799-a069-927499b27fb4 ]] \r\n",
       "E5 *- - E6 [[psysml:bccb9dd4-409f-48ce-8915-27f20628680f ]] \r\n",
       "E6 -[thickness=3]- E2 [[psysml:3c2ac290-8ac1-4000-af3e-5bcf9ecf7966 ]] \r\n",
       "E5 *- - E7 [[psysml:97bf4e08-a4b3-492a-87d8-6adc842be5d3 ]] \r\n",
       "E7 - -|> E2 [[psysml:6815ba90-0374-438b-ad93-53c34ddf71b8 ]] \r\n",
       "}\r\n",
       "@enduml\r\n",
       "\n",
       "PlantUML version 1.2020.13(Sat Jun 13 12:26:38 UTC 2020)\n",
       "(EPL source distribution)\n",
       "Java Runtime: OpenJDK Runtime Environment\n",
       "JVM: OpenJDK 64-Bit Server VM\n",
       "Default Encoding: UTF-8\n",
       "Language: en\n",
       "Country: null\n",
       "--></g></svg>"
      ]
     },
     "execution_count": 29,
     "metadata": {},
     "output_type": "execute_result"
    }
   ],
   "source": [
    "%viz --style=\"STDCOLOR\" --view=\"MIXED\" \"ConnectionTest\""
   ]
  },
  {
   "cell_type": "code",
   "execution_count": 30,
   "id": "8aa788c0",
   "metadata": {
    "execution": {
     "iopub.execute_input": "2021-06-30T09:21:35.682497Z",
     "iopub.status.busy": "2021-06-30T09:21:35.681405Z",
     "iopub.status.idle": "2021-06-30T09:21:35.817945Z",
     "shell.execute_reply": "2021-06-30T09:21:35.815177Z"
    }
   },
   "outputs": [
    {
     "data": {
      "image/svg+xml": [
       "<?xml version=\"1.0\" encoding=\"UTF-8\" standalone=\"no\"?><svg xmlns=\"http://www.w3.org/2000/svg\" xmlns:xlink=\"http://www.w3.org/1999/xlink\" contentScriptType=\"application/ecmascript\" contentStyleType=\"text/css\" height=\"533px\" preserveAspectRatio=\"none\" style=\"width:241px;height:533px;\" version=\"1.1\" viewBox=\"0 0 241 533\" width=\"241px\" zoomAndPan=\"magnify\"><defs><filter height=\"300%\" id=\"f12rqkuyawqu2m\" width=\"300%\" x=\"-1\" y=\"-1\"><feGaussianBlur result=\"blurOut\" stdDeviation=\"2.0\"/><feColorMatrix in=\"blurOut\" result=\"blurOut2\" type=\"matrix\" values=\"0 0 0 0 0 0 0 0 0 0 0 0 0 0 0 0 0 0 .4 0\"/><feOffset dx=\"4.0\" dy=\"4.0\" in=\"blurOut2\" result=\"blurOut3\"/><feBlend in=\"SourceGraphic\" in2=\"blurOut3\" mode=\"normal\"/></filter></defs><g><!--MD5=[fbc87193dbaf4d95561dea2c320d4a47]\n",
       "cluster E1--><a href=\"psysml:22aef044-e637-4155-a6c9-7ceaf878199d\" target=\"_top\" title=\"psysml:22aef044-e637-4155-a6c9-7ceaf878199d\" xlink:actuate=\"onRequest\" xlink:href=\"psysml:22aef044-e637-4155-a6c9-7ceaf878199d\" xlink:show=\"new\" xlink:title=\"psysml:22aef044-e637-4155-a6c9-7ceaf878199d\" xlink:type=\"simple\"><polygon fill=\"#FFFFFF\" filter=\"url(#f12rqkuyawqu2m)\" points=\"16,6,147,6,154,28.2969,219,28.2969,219,521,16,521,16,6\" style=\"stroke: #000000; stroke-width: 1.5;\"/><line style=\"stroke: #000000; stroke-width: 1.5;\" x1=\"16\" x2=\"154\" y1=\"28.2969\" y2=\"28.2969\"/><text fill=\"#000000\" font-family=\"sans-serif\" font-size=\"14\" font-weight=\"bold\" lengthAdjust=\"spacingAndGlyphs\" textLength=\"125\" x=\"20\" y=\"20.9951\">ConnectionTest</text></a><!--MD5=[b4997ac47864f28c2f74865a473b2911]\n",
       "class E2--><a href=\"psysml:4372fe5d-a54c-4736-ace6-05c35a4b2fd0\" target=\"_top\" title=\"psysml:4372fe5d-a54c-4736-ace6-05c35a4b2fd0\" xlink:actuate=\"onRequest\" xlink:href=\"psysml:4372fe5d-a54c-4736-ace6-05c35a4b2fd0\" xlink:show=\"new\" xlink:title=\"psysml:4372fe5d-a54c-4736-ace6-05c35a4b2fd0\" xlink:type=\"simple\"><rect fill=\"#FEFECE\" filter=\"url(#f12rqkuyawqu2m)\" height=\"45.9375\" id=\"E2\" rx=\"10\" ry=\"10\" style=\"stroke: #A80036; stroke-width: 1.5;\" width=\"68\" x=\"83\" y=\"247\"/><ellipse cx=\"98\" cy=\"265.9688\" fill=\"#32CD32\" rx=\"11\" ry=\"11\" style=\"stroke: #A80036; stroke-width: 1.0;\"/><path d=\"M97.7969,261.6406 L97.7969,265.2656 L98.7969,265.2656 Q100,265.2656 100.4844,264.8594 Q100.9688,264.4531 100.9688,263.4531 Q100.9688,262.4531 100.4844,262.0469 Q100,261.6406 98.7969,261.6406 L97.7969,261.6406 Z M95.3438,259.5781 L98.7031,259.5781 Q101.2656,259.5781 102.3906,260.5 Q103.5156,261.4063 103.5156,263.4531 Q103.5156,265.5 102.3906,266.4219 Q101.2656,267.3281 98.7031,267.3281 L97.7969,267.3281 L97.7969,271.9688 L95.3438,271.9688 L95.3438,259.5781 Z \"/><text fill=\"#000000\" font-family=\"sans-serif\" font-size=\"12\" font-style=\"italic\" lengthAdjust=\"spacingAndGlyphs\" textLength=\"40\" x=\"110\" y=\"263.1387\">«part»</text><text fill=\"#000000\" font-family=\"sans-serif\" font-size=\"12\" lengthAdjust=\"spacingAndGlyphs\" textLength=\"8\" x=\"126\" y=\"277.1074\">p</text><line style=\"stroke: #A80036; stroke-width: 1.5;\" x1=\"84\" x2=\"150\" y1=\"284.9375\" y2=\"284.9375\"/></a><!--MD5=[09b614a08d8cba4a07c9adeb5e0fee81]\n",
       "class E3--><a href=\"psysml:3f2b8857-d9ea-41c6-bb7a-db05d1986c1a\" target=\"_top\" title=\"psysml:3f2b8857-d9ea-41c6-bb7a-db05d1986c1a\" xlink:actuate=\"onRequest\" xlink:href=\"psysml:3f2b8857-d9ea-41c6-bb7a-db05d1986c1a\" xlink:show=\"new\" xlink:title=\"psysml:3f2b8857-d9ea-41c6-bb7a-db05d1986c1a\" xlink:type=\"simple\"><rect fill=\"#FEFECE\" filter=\"url(#f12rqkuyawqu2m)\" height=\"45.9375\" id=\"E3\" rx=\"10\" ry=\"10\" style=\"stroke: #A80036; stroke-width: 1.5;\" width=\"68\" x=\"83\" y=\"353\"/><ellipse cx=\"98\" cy=\"371.9688\" fill=\"#32CD32\" rx=\"11\" ry=\"11\" style=\"stroke: #A80036; stroke-width: 1.0;\"/><path d=\"M97.7969,367.6406 L97.7969,371.2656 L98.7969,371.2656 Q100,371.2656 100.4844,370.8594 Q100.9688,370.4531 100.9688,369.4531 Q100.9688,368.4531 100.4844,368.0469 Q100,367.6406 98.7969,367.6406 L97.7969,367.6406 Z M95.3438,365.5781 L98.7031,365.5781 Q101.2656,365.5781 102.3906,366.5 Q103.5156,367.4063 103.5156,369.4531 Q103.5156,371.5 102.3906,372.4219 Q101.2656,373.3281 98.7031,373.3281 L97.7969,373.3281 L97.7969,377.9688 L95.3438,377.9688 L95.3438,365.5781 Z \"/><text fill=\"#000000\" font-family=\"sans-serif\" font-size=\"12\" font-style=\"italic\" lengthAdjust=\"spacingAndGlyphs\" textLength=\"40\" x=\"110\" y=\"369.1387\">«part»</text><text fill=\"#000000\" font-family=\"sans-serif\" font-size=\"12\" lengthAdjust=\"spacingAndGlyphs\" textLength=\"6\" x=\"127\" y=\"383.1074\">x</text><line style=\"stroke: #A80036; stroke-width: 1.5;\" x1=\"84\" x2=\"150\" y1=\"390.9375\" y2=\"390.9375\"/></a><!--MD5=[ebbe1d658d1005bcc118a6aa81145e00]\n",
       "class E4--><a href=\"psysml:e84cebed-6405-49c5-b413-5d504fb47cee\" target=\"_top\" title=\"psysml:e84cebed-6405-49c5-b413-5d504fb47cee\" xlink:actuate=\"onRequest\" xlink:href=\"psysml:e84cebed-6405-49c5-b413-5d504fb47cee\" xlink:show=\"new\" xlink:title=\"psysml:e84cebed-6405-49c5-b413-5d504fb47cee\" xlink:type=\"simple\"><rect fill=\"#FEFECE\" filter=\"url(#f12rqkuyawqu2m)\" height=\"45.9375\" id=\"E4\" rx=\"10\" ry=\"10\" style=\"stroke: #A80036; stroke-width: 1.5;\" width=\"68\" x=\"83\" y=\"459\"/><ellipse cx=\"98\" cy=\"477.9688\" fill=\"#32CD32\" rx=\"11\" ry=\"11\" style=\"stroke: #A80036; stroke-width: 1.0;\"/><path d=\"M97.7969,473.6406 L97.7969,477.2656 L98.7969,477.2656 Q100,477.2656 100.4844,476.8594 Q100.9688,476.4531 100.9688,475.4531 Q100.9688,474.4531 100.4844,474.0469 Q100,473.6406 98.7969,473.6406 L97.7969,473.6406 Z M95.3438,471.5781 L98.7031,471.5781 Q101.2656,471.5781 102.3906,472.5 Q103.5156,473.4063 103.5156,475.4531 Q103.5156,477.5 102.3906,478.4219 Q101.2656,479.3281 98.7031,479.3281 L97.7969,479.3281 L97.7969,483.9688 L95.3438,483.9688 L95.3438,471.5781 Z \"/><text fill=\"#000000\" font-family=\"sans-serif\" font-size=\"12\" font-style=\"italic\" lengthAdjust=\"spacingAndGlyphs\" textLength=\"40\" x=\"110\" y=\"475.1387\">«part»</text><text fill=\"#000000\" font-family=\"sans-serif\" font-size=\"12\" lengthAdjust=\"spacingAndGlyphs\" textLength=\"14\" x=\"123\" y=\"489.1074\">x1</text><line style=\"stroke: #A80036; stroke-width: 1.5;\" x1=\"84\" x2=\"150\" y1=\"496.9375\" y2=\"496.9375\"/></a><!--MD5=[270fce915f116d4de14055a7c1d9a0f3]\n",
       "class E5--><a href=\"psysml:ba7b03ba-afee-4a2c-95ba-c440e322d2ee\" target=\"_top\" title=\"psysml:ba7b03ba-afee-4a2c-95ba-c440e322d2ee\" xlink:actuate=\"onRequest\" xlink:href=\"psysml:ba7b03ba-afee-4a2c-95ba-c440e322d2ee\" xlink:show=\"new\" xlink:title=\"psysml:ba7b03ba-afee-4a2c-95ba-c440e322d2ee\" xlink:type=\"simple\"><rect fill=\"#FEFECE\" filter=\"url(#f12rqkuyawqu2m)\" height=\"40\" id=\"E5\" style=\"stroke: #A80036; stroke-width: 1.5;\" width=\"40\" x=\"97\" y=\"41\"/><ellipse cx=\"112\" cy=\"57\" fill=\"#008000\" rx=\"11\" ry=\"11\" style=\"stroke: #A80036; stroke-width: 1.0;\"/><path d=\"M110.9063,57.375 L110.9063,61.0469 L112.5313,61.0469 Q113.7031,61.0469 114.1719,60.6563 Q114.6406,60.25 114.6406,59.25 Q114.6406,58.25 114.1406,57.8125 Q113.6563,57.375 112.5313,57.375 L110.9063,57.375 Z M110.9063,52.5469 L110.9063,55.4219 L112.5313,55.4219 Q113.4531,55.4219 113.8438,55.0938 Q114.25,54.75 114.25,54 Q114.25,53.2344 113.8438,52.8906 Q113.4375,52.5469 112.5313,52.5469 L110.9063,52.5469 Z M108.5313,50.5938 L112.5313,50.5938 Q114.5938,50.5938 115.6406,51.375 Q116.6875,52.1563 116.6875,53.7188 Q116.6875,54.9219 116.0625,55.5938 Q115.4531,56.2656 114.2656,56.375 Q115.6875,56.5156 116.4063,57.3281 Q117.125,58.1406 117.125,59.5938 Q117.125,61.3906 116.0469,62.2031 Q114.9688,63 112.5313,63 L108.5313,63 L108.5313,50.5938 Z \"/><text fill=\"#000000\" font-family=\"sans-serif\" font-size=\"12\" lengthAdjust=\"spacingAndGlyphs\" textLength=\"8\" x=\"126\" y=\"61.1543\">P</text><line style=\"stroke: #A80036; stroke-width: 1.5;\" x1=\"98\" x2=\"136\" y1=\"73\" y2=\"73\"/></a><!--MD5=[60a26617385b1d2d0262a64233df1f8d]\n",
       "class E6--><a href=\"psysml:6b502337-597a-4c17-979b-8872526dd5b6\" target=\"_top\" title=\"psysml:6b502337-597a-4c17-979b-8872526dd5b6\" xlink:actuate=\"onRequest\" xlink:href=\"psysml:6b502337-597a-4c17-979b-8872526dd5b6\" xlink:show=\"new\" xlink:title=\"psysml:6b502337-597a-4c17-979b-8872526dd5b6\" xlink:type=\"simple\"><rect fill=\"#FEFECE\" filter=\"url(#f12rqkuyawqu2m)\" height=\"45.9375\" id=\"E6\" rx=\"10\" ry=\"10\" style=\"stroke: #A80036; stroke-width: 1.5;\" width=\"68\" x=\"32\" y=\"141\"/><ellipse cx=\"47\" cy=\"159.9688\" fill=\"#32CD32\" rx=\"11\" ry=\"11\" style=\"stroke: #A80036; stroke-width: 1.0;\"/><path d=\"M46.7969,155.6406 L46.7969,159.2656 L47.7969,159.2656 Q49,159.2656 49.4844,158.8594 Q49.9688,158.4531 49.9688,157.4531 Q49.9688,156.4531 49.4844,156.0469 Q49,155.6406 47.7969,155.6406 L46.7969,155.6406 Z M44.3438,153.5781 L47.7031,153.5781 Q50.2656,153.5781 51.3906,154.5 Q52.5156,155.4063 52.5156,157.4531 Q52.5156,159.5 51.3906,160.4219 Q50.2656,161.3281 47.7031,161.3281 L46.7969,161.3281 L46.7969,165.9688 L44.3438,165.9688 L44.3438,153.5781 Z \"/><text fill=\"#000000\" font-family=\"sans-serif\" font-size=\"12\" font-style=\"italic\" lengthAdjust=\"spacingAndGlyphs\" textLength=\"40\" x=\"59\" y=\"157.1387\">«part»</text><text fill=\"#000000\" font-family=\"sans-serif\" font-size=\"12\" lengthAdjust=\"spacingAndGlyphs\" textLength=\"6\" x=\"76\" y=\"171.1074\">y</text><line style=\"stroke: #A80036; stroke-width: 1.5;\" x1=\"33\" x2=\"99\" y1=\"178.9375\" y2=\"178.9375\"/></a><!--MD5=[2156ba9850f5573cc1fc38a6a4b2f02b]\n",
       "class E7--><a href=\"psysml:c0882630-04b8-4e6c-a043-bd39b4f2710a\" target=\"_top\" title=\"psysml:c0882630-04b8-4e6c-a043-bd39b4f2710a\" xlink:actuate=\"onRequest\" xlink:href=\"psysml:c0882630-04b8-4e6c-a043-bd39b4f2710a\" xlink:show=\"new\" xlink:title=\"psysml:c0882630-04b8-4e6c-a043-bd39b4f2710a\" xlink:type=\"simple\"><rect fill=\"#FEFECE\" filter=\"url(#f12rqkuyawqu2m)\" height=\"45.9375\" id=\"E7\" rx=\"10\" ry=\"10\" style=\"stroke: #A80036; stroke-width: 1.5;\" width=\"68\" x=\"135\" y=\"141\"/><ellipse cx=\"150\" cy=\"159.9688\" fill=\"#32CD32\" rx=\"11\" ry=\"11\" style=\"stroke: #A80036; stroke-width: 1.0;\"/><path d=\"M149.7969,155.6406 L149.7969,159.2656 L150.7969,159.2656 Q152,159.2656 152.4844,158.8594 Q152.9688,158.4531 152.9688,157.4531 Q152.9688,156.4531 152.4844,156.0469 Q152,155.6406 150.7969,155.6406 L149.7969,155.6406 Z M147.3438,153.5781 L150.7031,153.5781 Q153.2656,153.5781 154.3906,154.5 Q155.5156,155.4063 155.5156,157.4531 Q155.5156,159.5 154.3906,160.4219 Q153.2656,161.3281 150.7031,161.3281 L149.7969,161.3281 L149.7969,165.9688 L147.3438,165.9688 L147.3438,153.5781 Z \"/><text fill=\"#000000\" font-family=\"sans-serif\" font-size=\"12\" font-style=\"italic\" lengthAdjust=\"spacingAndGlyphs\" textLength=\"40\" x=\"162\" y=\"157.1387\">«part»</text><text fill=\"#000000\" font-family=\"sans-serif\" font-size=\"12\" lengthAdjust=\"spacingAndGlyphs\" textLength=\"16\" x=\"174\" y=\"171.1074\">p1</text><line style=\"stroke: #A80036; stroke-width: 1.5;\" x1=\"136\" x2=\"202\" y1=\"178.9375\" y2=\"178.9375\"/></a><!--MD5=[209b3feb70ccb6233bfe1053d122c12c]\n",
       "reverse link E2 to E3--><a href=\"psysml:d551e406-73fb-4a91-a080-fc440127a640\" target=\"_top\" title=\"psysml:d551e406-73fb-4a91-a080-fc440127a640\" xlink:actuate=\"onRequest\" xlink:href=\"psysml:d551e406-73fb-4a91-a080-fc440127a640\" xlink:show=\"new\" xlink:title=\"psysml:d551e406-73fb-4a91-a080-fc440127a640\" xlink:type=\"simple\"><path d=\"M117,306.44 C117,321.87 117,339.47 117,352.98 \" fill=\"none\" id=\"E2&lt;-E3\" style=\"stroke: #A80036; stroke-width: 1.0;\"/><polygon fill=\"#A80036\" points=\"117,293.06,113,299.06,117,305.06,121,299.06,117,293.06\" style=\"stroke: #A80036; stroke-width: 1.0;\"/></a><!--MD5=[4672eba38e49728da53d11aeb285b987]\n",
       "reverse link E3 to E4--><a href=\"psysml:0c62ef63-43f3-4799-a069-927499b27fb4\" target=\"_top\" title=\"psysml:0c62ef63-43f3-4799-a069-927499b27fb4\" xlink:actuate=\"onRequest\" xlink:href=\"psysml:0c62ef63-43f3-4799-a069-927499b27fb4\" xlink:show=\"new\" xlink:title=\"psysml:0c62ef63-43f3-4799-a069-927499b27fb4\" xlink:type=\"simple\"><path d=\"M117,412.44 C117,427.87 117,445.47 117,458.98 \" fill=\"none\" id=\"E3&lt;-E4\" style=\"stroke: #A80036; stroke-width: 1.0;\"/><polygon fill=\"#A80036\" points=\"117,399.06,113,405.06,117,411.06,121,405.06,117,399.06\" style=\"stroke: #A80036; stroke-width: 1.0;\"/></a><!--MD5=[85d356282659285ab4b2cfe2f634dd2b]\n",
       "reverse link E5 to E6--><a href=\"psysml:bccb9dd4-409f-48ce-8915-27f20628680f\" target=\"_top\" title=\"psysml:bccb9dd4-409f-48ce-8915-27f20628680f\" xlink:actuate=\"onRequest\" xlink:href=\"psysml:bccb9dd4-409f-48ce-8915-27f20628680f\" xlink:show=\"new\" xlink:title=\"psysml:bccb9dd4-409f-48ce-8915-27f20628680f\" xlink:type=\"simple\"><path d=\"M101.3,93.09 C93.51,108.51 84.29,126.78 77.22,140.77 \" fill=\"none\" id=\"E5&lt;-E6\" style=\"stroke: #A80036; stroke-width: 1.0;\"/><polygon fill=\"#A80036\" points=\"107.17,81.47,100.895,85.0231,101.7613,92.1819,108.0363,88.6289,107.17,81.47\" style=\"stroke: #A80036; stroke-width: 1.0;\"/></a><!--MD5=[2351f337d6de0f557b50152ba70847b5]\n",
       "link E6 to E2--><a href=\"psysml:3c2ac290-8ac1-4000-af3e-5bcf9ecf7966\" target=\"_top\" title=\"psysml:3c2ac290-8ac1-4000-af3e-5bcf9ecf7966\" xlink:actuate=\"onRequest\" xlink:href=\"psysml:3c2ac290-8ac1-4000-af3e-5bcf9ecf7966\" xlink:show=\"new\" xlink:title=\"psysml:3c2ac290-8ac1-4000-af3e-5bcf9ecf7966\" xlink:type=\"simple\"><path d=\"M76.82,187.06 C85.47,204.7 97.55,229.34 106.2,246.98 \" fill=\"none\" id=\"E6-E2\" style=\"stroke: #A80036; stroke-width: 3.0;\"/></a><!--MD5=[452b418e7f8a40397a49b8c0a78acc5b]\n",
       "reverse link E5 to E7--><a href=\"psysml:97bf4e08-a4b3-492a-87d8-6adc842be5d3\" target=\"_top\" title=\"psysml:97bf4e08-a4b3-492a-87d8-6adc842be5d3\" xlink:actuate=\"onRequest\" xlink:href=\"psysml:97bf4e08-a4b3-492a-87d8-6adc842be5d3\" xlink:show=\"new\" xlink:title=\"psysml:97bf4e08-a4b3-492a-87d8-6adc842be5d3\" xlink:type=\"simple\"><path d=\"M133.01,93.09 C140.95,108.51 150.35,126.78 157.56,140.77 \" fill=\"none\" id=\"E5&lt;-E7\" style=\"stroke: #A80036; stroke-width: 1.0;\"/><polygon fill=\"#A80036\" points=\"127.03,81.47,126.2165,88.6351,132.5176,92.1418,133.331,84.9767,127.03,81.47\" style=\"stroke: #A80036; stroke-width: 1.0;\"/></a><!--MD5=[583832df87f4419a098336a29a52fa00]\n",
       "link E7 to E2--><a href=\"psysml:6815ba90-0374-438b-ad93-53c34ddf71b8\" target=\"_top\" title=\"psysml:6815ba90-0374-438b-ad93-53c34ddf71b8\" xlink:actuate=\"onRequest\" xlink:href=\"psysml:6815ba90-0374-438b-ad93-53c34ddf71b8\" xlink:show=\"new\" xlink:title=\"psysml:6815ba90-0374-438b-ad93-53c34ddf71b8\" xlink:type=\"simple\"><path d=\"M157.97,187.06 C151.91,199.19 144.19,214.62 137.09,228.82 \" fill=\"none\" id=\"E7-&gt;E2\" style=\"stroke: #A80036; stroke-width: 1.0;\"/><polygon fill=\"none\" points=\"143.22,232.22,128.01,246.98,130.7,225.96,143.22,232.22\" style=\"stroke: #A80036; stroke-width: 1.0;\"/></a><!--MD5=[b7c8eac2e5850784eb8351e12af9a629]\n",
       "@startuml\r\n",
       " \r\n",
       "package \"ConnectionTest\" as E1  [[psysml:22aef044-e637-4155-a6c9-7ceaf878199d ]]  {\r\n",
       "comp usage \"p\" as E2 << << (P,limegreen) part>> [[psysml:4372fe5d-a54c-4736-ace6-05c35a4b2fd0 ]] {\r\n",
       "}\r\n",
       "comp usage \"x\" as E3 << << (P,limegreen) part>> [[psysml:3f2b8857-d9ea-41c6-bb7a-db05d1986c1a ]] {\r\n",
       "}\r\n",
       "comp usage \"x1\" as E4 << << (P,limegreen) part>> [[psysml:e84cebed-6405-49c5-b413-5d504fb47cee ]] {\r\n",
       "}\r\n",
       "comp def \"P\" as E5 << << (B,green) >> [[psysml:ba7b03ba-afee-4a2c-95ba-c440e322d2ee ]] {\r\n",
       "}\r\n",
       "comp usage \"y\" as E6 << << (P,limegreen) part>> [[psysml:6b502337-597a-4c17-979b-8872526dd5b6 ]] {\r\n",
       "}\r\n",
       "comp usage \"p1\" as E7 << << (P,limegreen) part>> [[psysml:c0882630-04b8-4e6c-a043-bd39b4f2710a ]] {\r\n",
       "}\r\n",
       "E2 *- - E3 [[psysml:d551e406-73fb-4a91-a080-fc440127a640 ]] \r\n",
       "E3 *- - E4 [[psysml:0c62ef63-43f3-4799-a069-927499b27fb4 ]] \r\n",
       "E5 *- - E6 [[psysml:bccb9dd4-409f-48ce-8915-27f20628680f ]] \r\n",
       "E6 -[thickness=3]- E2 [[psysml:3c2ac290-8ac1-4000-af3e-5bcf9ecf7966 ]] \r\n",
       "E5 *- - E7 [[psysml:97bf4e08-a4b3-492a-87d8-6adc842be5d3 ]] \r\n",
       "E7 - -|> E2 [[psysml:6815ba90-0374-438b-ad93-53c34ddf71b8 ]] \r\n",
       "}\r\n",
       "@enduml\r\n",
       "\n",
       "PlantUML version 1.2020.13(Sat Jun 13 12:26:38 UTC 2020)\n",
       "(EPL source distribution)\n",
       "Java Runtime: OpenJDK Runtime Environment\n",
       "JVM: OpenJDK 64-Bit Server VM\n",
       "Default Encoding: UTF-8\n",
       "Language: en\n",
       "Country: null\n",
       "--></g></svg>"
      ]
     },
     "execution_count": 30,
     "metadata": {},
     "output_type": "execute_result"
    }
   ],
   "source": [
    "%viz --style=\"PLANTUML\" --view=\"Default\" \"ConnectionTest\""
   ]
  },
  {
   "cell_type": "code",
   "execution_count": 31,
   "id": "32ef7942",
   "metadata": {
    "execution": {
     "iopub.execute_input": "2021-06-30T09:21:35.867385Z",
     "iopub.status.busy": "2021-06-30T09:21:35.865751Z",
     "iopub.status.idle": "2021-06-30T09:21:35.951699Z",
     "shell.execute_reply": "2021-06-30T09:21:35.946575Z"
    }
   },
   "outputs": [
    {
     "data": {
      "image/svg+xml": [
       "<?xml version=\"1.0\" encoding=\"UTF-8\" standalone=\"no\"?><svg xmlns=\"http://www.w3.org/2000/svg\" xmlns:xlink=\"http://www.w3.org/1999/xlink\" contentScriptType=\"application/ecmascript\" contentStyleType=\"text/css\" height=\"533px\" preserveAspectRatio=\"none\" style=\"width:241px;height:533px;\" version=\"1.1\" viewBox=\"0 0 241 533\" width=\"241px\" zoomAndPan=\"magnify\"><defs><filter height=\"300%\" id=\"f12rqkuyawqu2m\" width=\"300%\" x=\"-1\" y=\"-1\"><feGaussianBlur result=\"blurOut\" stdDeviation=\"2.0\"/><feColorMatrix in=\"blurOut\" result=\"blurOut2\" type=\"matrix\" values=\"0 0 0 0 0 0 0 0 0 0 0 0 0 0 0 0 0 0 .4 0\"/><feOffset dx=\"4.0\" dy=\"4.0\" in=\"blurOut2\" result=\"blurOut3\"/><feBlend in=\"SourceGraphic\" in2=\"blurOut3\" mode=\"normal\"/></filter></defs><g><!--MD5=[fbc87193dbaf4d95561dea2c320d4a47]\n",
       "cluster E1--><a href=\"psysml:22aef044-e637-4155-a6c9-7ceaf878199d\" target=\"_top\" title=\"psysml:22aef044-e637-4155-a6c9-7ceaf878199d\" xlink:actuate=\"onRequest\" xlink:href=\"psysml:22aef044-e637-4155-a6c9-7ceaf878199d\" xlink:show=\"new\" xlink:title=\"psysml:22aef044-e637-4155-a6c9-7ceaf878199d\" xlink:type=\"simple\"><polygon fill=\"#FFFFFF\" filter=\"url(#f12rqkuyawqu2m)\" points=\"16,6,147,6,154,28.2969,219,28.2969,219,521,16,521,16,6\" style=\"stroke: #000000; stroke-width: 1.5;\"/><line style=\"stroke: #000000; stroke-width: 1.5;\" x1=\"16\" x2=\"154\" y1=\"28.2969\" y2=\"28.2969\"/><text fill=\"#000000\" font-family=\"sans-serif\" font-size=\"14\" font-weight=\"bold\" lengthAdjust=\"spacingAndGlyphs\" textLength=\"125\" x=\"20\" y=\"20.9951\">ConnectionTest</text></a><!--MD5=[b4997ac47864f28c2f74865a473b2911]\n",
       "class E2--><a href=\"psysml:4372fe5d-a54c-4736-ace6-05c35a4b2fd0\" target=\"_top\" title=\"psysml:4372fe5d-a54c-4736-ace6-05c35a4b2fd0\" xlink:actuate=\"onRequest\" xlink:href=\"psysml:4372fe5d-a54c-4736-ace6-05c35a4b2fd0\" xlink:show=\"new\" xlink:title=\"psysml:4372fe5d-a54c-4736-ace6-05c35a4b2fd0\" xlink:type=\"simple\"><rect fill=\"#FEFECE\" filter=\"url(#f12rqkuyawqu2m)\" height=\"45.9375\" id=\"E2\" rx=\"10\" ry=\"10\" style=\"stroke: #A80036; stroke-width: 1.5;\" width=\"68\" x=\"83\" y=\"247\"/><ellipse cx=\"98\" cy=\"265.9688\" fill=\"#32CD32\" rx=\"11\" ry=\"11\" style=\"stroke: #A80036; stroke-width: 1.0;\"/><path d=\"M97.7969,261.6406 L97.7969,265.2656 L98.7969,265.2656 Q100,265.2656 100.4844,264.8594 Q100.9688,264.4531 100.9688,263.4531 Q100.9688,262.4531 100.4844,262.0469 Q100,261.6406 98.7969,261.6406 L97.7969,261.6406 Z M95.3438,259.5781 L98.7031,259.5781 Q101.2656,259.5781 102.3906,260.5 Q103.5156,261.4063 103.5156,263.4531 Q103.5156,265.5 102.3906,266.4219 Q101.2656,267.3281 98.7031,267.3281 L97.7969,267.3281 L97.7969,271.9688 L95.3438,271.9688 L95.3438,259.5781 Z \"/><text fill=\"#000000\" font-family=\"sans-serif\" font-size=\"12\" font-style=\"italic\" lengthAdjust=\"spacingAndGlyphs\" textLength=\"40\" x=\"110\" y=\"263.1387\">«part»</text><text fill=\"#000000\" font-family=\"sans-serif\" font-size=\"12\" lengthAdjust=\"spacingAndGlyphs\" textLength=\"8\" x=\"126\" y=\"277.1074\">p</text><line style=\"stroke: #A80036; stroke-width: 1.5;\" x1=\"84\" x2=\"150\" y1=\"284.9375\" y2=\"284.9375\"/></a><!--MD5=[09b614a08d8cba4a07c9adeb5e0fee81]\n",
       "class E3--><a href=\"psysml:3f2b8857-d9ea-41c6-bb7a-db05d1986c1a\" target=\"_top\" title=\"psysml:3f2b8857-d9ea-41c6-bb7a-db05d1986c1a\" xlink:actuate=\"onRequest\" xlink:href=\"psysml:3f2b8857-d9ea-41c6-bb7a-db05d1986c1a\" xlink:show=\"new\" xlink:title=\"psysml:3f2b8857-d9ea-41c6-bb7a-db05d1986c1a\" xlink:type=\"simple\"><rect fill=\"#FEFECE\" filter=\"url(#f12rqkuyawqu2m)\" height=\"45.9375\" id=\"E3\" rx=\"10\" ry=\"10\" style=\"stroke: #A80036; stroke-width: 1.5;\" width=\"68\" x=\"83\" y=\"353\"/><ellipse cx=\"98\" cy=\"371.9688\" fill=\"#32CD32\" rx=\"11\" ry=\"11\" style=\"stroke: #A80036; stroke-width: 1.0;\"/><path d=\"M97.7969,367.6406 L97.7969,371.2656 L98.7969,371.2656 Q100,371.2656 100.4844,370.8594 Q100.9688,370.4531 100.9688,369.4531 Q100.9688,368.4531 100.4844,368.0469 Q100,367.6406 98.7969,367.6406 L97.7969,367.6406 Z M95.3438,365.5781 L98.7031,365.5781 Q101.2656,365.5781 102.3906,366.5 Q103.5156,367.4063 103.5156,369.4531 Q103.5156,371.5 102.3906,372.4219 Q101.2656,373.3281 98.7031,373.3281 L97.7969,373.3281 L97.7969,377.9688 L95.3438,377.9688 L95.3438,365.5781 Z \"/><text fill=\"#000000\" font-family=\"sans-serif\" font-size=\"12\" font-style=\"italic\" lengthAdjust=\"spacingAndGlyphs\" textLength=\"40\" x=\"110\" y=\"369.1387\">«part»</text><text fill=\"#000000\" font-family=\"sans-serif\" font-size=\"12\" lengthAdjust=\"spacingAndGlyphs\" textLength=\"6\" x=\"127\" y=\"383.1074\">x</text><line style=\"stroke: #A80036; stroke-width: 1.5;\" x1=\"84\" x2=\"150\" y1=\"390.9375\" y2=\"390.9375\"/></a><!--MD5=[ebbe1d658d1005bcc118a6aa81145e00]\n",
       "class E4--><a href=\"psysml:e84cebed-6405-49c5-b413-5d504fb47cee\" target=\"_top\" title=\"psysml:e84cebed-6405-49c5-b413-5d504fb47cee\" xlink:actuate=\"onRequest\" xlink:href=\"psysml:e84cebed-6405-49c5-b413-5d504fb47cee\" xlink:show=\"new\" xlink:title=\"psysml:e84cebed-6405-49c5-b413-5d504fb47cee\" xlink:type=\"simple\"><rect fill=\"#FEFECE\" filter=\"url(#f12rqkuyawqu2m)\" height=\"45.9375\" id=\"E4\" rx=\"10\" ry=\"10\" style=\"stroke: #A80036; stroke-width: 1.5;\" width=\"68\" x=\"83\" y=\"459\"/><ellipse cx=\"98\" cy=\"477.9688\" fill=\"#32CD32\" rx=\"11\" ry=\"11\" style=\"stroke: #A80036; stroke-width: 1.0;\"/><path d=\"M97.7969,473.6406 L97.7969,477.2656 L98.7969,477.2656 Q100,477.2656 100.4844,476.8594 Q100.9688,476.4531 100.9688,475.4531 Q100.9688,474.4531 100.4844,474.0469 Q100,473.6406 98.7969,473.6406 L97.7969,473.6406 Z M95.3438,471.5781 L98.7031,471.5781 Q101.2656,471.5781 102.3906,472.5 Q103.5156,473.4063 103.5156,475.4531 Q103.5156,477.5 102.3906,478.4219 Q101.2656,479.3281 98.7031,479.3281 L97.7969,479.3281 L97.7969,483.9688 L95.3438,483.9688 L95.3438,471.5781 Z \"/><text fill=\"#000000\" font-family=\"sans-serif\" font-size=\"12\" font-style=\"italic\" lengthAdjust=\"spacingAndGlyphs\" textLength=\"40\" x=\"110\" y=\"475.1387\">«part»</text><text fill=\"#000000\" font-family=\"sans-serif\" font-size=\"12\" lengthAdjust=\"spacingAndGlyphs\" textLength=\"14\" x=\"123\" y=\"489.1074\">x1</text><line style=\"stroke: #A80036; stroke-width: 1.5;\" x1=\"84\" x2=\"150\" y1=\"496.9375\" y2=\"496.9375\"/></a><!--MD5=[270fce915f116d4de14055a7c1d9a0f3]\n",
       "class E5--><a href=\"psysml:ba7b03ba-afee-4a2c-95ba-c440e322d2ee\" target=\"_top\" title=\"psysml:ba7b03ba-afee-4a2c-95ba-c440e322d2ee\" xlink:actuate=\"onRequest\" xlink:href=\"psysml:ba7b03ba-afee-4a2c-95ba-c440e322d2ee\" xlink:show=\"new\" xlink:title=\"psysml:ba7b03ba-afee-4a2c-95ba-c440e322d2ee\" xlink:type=\"simple\"><rect fill=\"#FEFECE\" filter=\"url(#f12rqkuyawqu2m)\" height=\"40\" id=\"E5\" style=\"stroke: #A80036; stroke-width: 1.5;\" width=\"40\" x=\"97\" y=\"41\"/><ellipse cx=\"112\" cy=\"57\" fill=\"#008000\" rx=\"11\" ry=\"11\" style=\"stroke: #A80036; stroke-width: 1.0;\"/><path d=\"M110.9063,57.375 L110.9063,61.0469 L112.5313,61.0469 Q113.7031,61.0469 114.1719,60.6563 Q114.6406,60.25 114.6406,59.25 Q114.6406,58.25 114.1406,57.8125 Q113.6563,57.375 112.5313,57.375 L110.9063,57.375 Z M110.9063,52.5469 L110.9063,55.4219 L112.5313,55.4219 Q113.4531,55.4219 113.8438,55.0938 Q114.25,54.75 114.25,54 Q114.25,53.2344 113.8438,52.8906 Q113.4375,52.5469 112.5313,52.5469 L110.9063,52.5469 Z M108.5313,50.5938 L112.5313,50.5938 Q114.5938,50.5938 115.6406,51.375 Q116.6875,52.1563 116.6875,53.7188 Q116.6875,54.9219 116.0625,55.5938 Q115.4531,56.2656 114.2656,56.375 Q115.6875,56.5156 116.4063,57.3281 Q117.125,58.1406 117.125,59.5938 Q117.125,61.3906 116.0469,62.2031 Q114.9688,63 112.5313,63 L108.5313,63 L108.5313,50.5938 Z \"/><text fill=\"#000000\" font-family=\"sans-serif\" font-size=\"12\" lengthAdjust=\"spacingAndGlyphs\" textLength=\"8\" x=\"126\" y=\"61.1543\">P</text><line style=\"stroke: #A80036; stroke-width: 1.5;\" x1=\"98\" x2=\"136\" y1=\"73\" y2=\"73\"/></a><!--MD5=[60a26617385b1d2d0262a64233df1f8d]\n",
       "class E6--><a href=\"psysml:6b502337-597a-4c17-979b-8872526dd5b6\" target=\"_top\" title=\"psysml:6b502337-597a-4c17-979b-8872526dd5b6\" xlink:actuate=\"onRequest\" xlink:href=\"psysml:6b502337-597a-4c17-979b-8872526dd5b6\" xlink:show=\"new\" xlink:title=\"psysml:6b502337-597a-4c17-979b-8872526dd5b6\" xlink:type=\"simple\"><rect fill=\"#FEFECE\" filter=\"url(#f12rqkuyawqu2m)\" height=\"45.9375\" id=\"E6\" rx=\"10\" ry=\"10\" style=\"stroke: #A80036; stroke-width: 1.5;\" width=\"68\" x=\"32\" y=\"141\"/><ellipse cx=\"47\" cy=\"159.9688\" fill=\"#32CD32\" rx=\"11\" ry=\"11\" style=\"stroke: #A80036; stroke-width: 1.0;\"/><path d=\"M46.7969,155.6406 L46.7969,159.2656 L47.7969,159.2656 Q49,159.2656 49.4844,158.8594 Q49.9688,158.4531 49.9688,157.4531 Q49.9688,156.4531 49.4844,156.0469 Q49,155.6406 47.7969,155.6406 L46.7969,155.6406 Z M44.3438,153.5781 L47.7031,153.5781 Q50.2656,153.5781 51.3906,154.5 Q52.5156,155.4063 52.5156,157.4531 Q52.5156,159.5 51.3906,160.4219 Q50.2656,161.3281 47.7031,161.3281 L46.7969,161.3281 L46.7969,165.9688 L44.3438,165.9688 L44.3438,153.5781 Z \"/><text fill=\"#000000\" font-family=\"sans-serif\" font-size=\"12\" font-style=\"italic\" lengthAdjust=\"spacingAndGlyphs\" textLength=\"40\" x=\"59\" y=\"157.1387\">«part»</text><text fill=\"#000000\" font-family=\"sans-serif\" font-size=\"12\" lengthAdjust=\"spacingAndGlyphs\" textLength=\"6\" x=\"76\" y=\"171.1074\">y</text><line style=\"stroke: #A80036; stroke-width: 1.5;\" x1=\"33\" x2=\"99\" y1=\"178.9375\" y2=\"178.9375\"/></a><!--MD5=[2156ba9850f5573cc1fc38a6a4b2f02b]\n",
       "class E7--><a href=\"psysml:c0882630-04b8-4e6c-a043-bd39b4f2710a\" target=\"_top\" title=\"psysml:c0882630-04b8-4e6c-a043-bd39b4f2710a\" xlink:actuate=\"onRequest\" xlink:href=\"psysml:c0882630-04b8-4e6c-a043-bd39b4f2710a\" xlink:show=\"new\" xlink:title=\"psysml:c0882630-04b8-4e6c-a043-bd39b4f2710a\" xlink:type=\"simple\"><rect fill=\"#FEFECE\" filter=\"url(#f12rqkuyawqu2m)\" height=\"45.9375\" id=\"E7\" rx=\"10\" ry=\"10\" style=\"stroke: #A80036; stroke-width: 1.5;\" width=\"68\" x=\"135\" y=\"141\"/><ellipse cx=\"150\" cy=\"159.9688\" fill=\"#32CD32\" rx=\"11\" ry=\"11\" style=\"stroke: #A80036; stroke-width: 1.0;\"/><path d=\"M149.7969,155.6406 L149.7969,159.2656 L150.7969,159.2656 Q152,159.2656 152.4844,158.8594 Q152.9688,158.4531 152.9688,157.4531 Q152.9688,156.4531 152.4844,156.0469 Q152,155.6406 150.7969,155.6406 L149.7969,155.6406 Z M147.3438,153.5781 L150.7031,153.5781 Q153.2656,153.5781 154.3906,154.5 Q155.5156,155.4063 155.5156,157.4531 Q155.5156,159.5 154.3906,160.4219 Q153.2656,161.3281 150.7031,161.3281 L149.7969,161.3281 L149.7969,165.9688 L147.3438,165.9688 L147.3438,153.5781 Z \"/><text fill=\"#000000\" font-family=\"sans-serif\" font-size=\"12\" font-style=\"italic\" lengthAdjust=\"spacingAndGlyphs\" textLength=\"40\" x=\"162\" y=\"157.1387\">«part»</text><text fill=\"#000000\" font-family=\"sans-serif\" font-size=\"12\" lengthAdjust=\"spacingAndGlyphs\" textLength=\"16\" x=\"174\" y=\"171.1074\">p1</text><line style=\"stroke: #A80036; stroke-width: 1.5;\" x1=\"136\" x2=\"202\" y1=\"178.9375\" y2=\"178.9375\"/></a><!--MD5=[209b3feb70ccb6233bfe1053d122c12c]\n",
       "reverse link E2 to E3--><a href=\"psysml:d551e406-73fb-4a91-a080-fc440127a640\" target=\"_top\" title=\"psysml:d551e406-73fb-4a91-a080-fc440127a640\" xlink:actuate=\"onRequest\" xlink:href=\"psysml:d551e406-73fb-4a91-a080-fc440127a640\" xlink:show=\"new\" xlink:title=\"psysml:d551e406-73fb-4a91-a080-fc440127a640\" xlink:type=\"simple\"><path d=\"M117,306.44 C117,321.87 117,339.47 117,352.98 \" fill=\"none\" id=\"E2&lt;-E3\" style=\"stroke: #A80036; stroke-width: 1.0;\"/><polygon fill=\"#A80036\" points=\"117,293.06,113,299.06,117,305.06,121,299.06,117,293.06\" style=\"stroke: #A80036; stroke-width: 1.0;\"/></a><!--MD5=[4672eba38e49728da53d11aeb285b987]\n",
       "reverse link E3 to E4--><a href=\"psysml:0c62ef63-43f3-4799-a069-927499b27fb4\" target=\"_top\" title=\"psysml:0c62ef63-43f3-4799-a069-927499b27fb4\" xlink:actuate=\"onRequest\" xlink:href=\"psysml:0c62ef63-43f3-4799-a069-927499b27fb4\" xlink:show=\"new\" xlink:title=\"psysml:0c62ef63-43f3-4799-a069-927499b27fb4\" xlink:type=\"simple\"><path d=\"M117,412.44 C117,427.87 117,445.47 117,458.98 \" fill=\"none\" id=\"E3&lt;-E4\" style=\"stroke: #A80036; stroke-width: 1.0;\"/><polygon fill=\"#A80036\" points=\"117,399.06,113,405.06,117,411.06,121,405.06,117,399.06\" style=\"stroke: #A80036; stroke-width: 1.0;\"/></a><!--MD5=[85d356282659285ab4b2cfe2f634dd2b]\n",
       "reverse link E5 to E6--><a href=\"psysml:bccb9dd4-409f-48ce-8915-27f20628680f\" target=\"_top\" title=\"psysml:bccb9dd4-409f-48ce-8915-27f20628680f\" xlink:actuate=\"onRequest\" xlink:href=\"psysml:bccb9dd4-409f-48ce-8915-27f20628680f\" xlink:show=\"new\" xlink:title=\"psysml:bccb9dd4-409f-48ce-8915-27f20628680f\" xlink:type=\"simple\"><path d=\"M101.3,93.09 C93.51,108.51 84.29,126.78 77.22,140.77 \" fill=\"none\" id=\"E5&lt;-E6\" style=\"stroke: #A80036; stroke-width: 1.0;\"/><polygon fill=\"#A80036\" points=\"107.17,81.47,100.895,85.0231,101.7613,92.1819,108.0363,88.6289,107.17,81.47\" style=\"stroke: #A80036; stroke-width: 1.0;\"/></a><!--MD5=[2351f337d6de0f557b50152ba70847b5]\n",
       "link E6 to E2--><a href=\"psysml:3c2ac290-8ac1-4000-af3e-5bcf9ecf7966\" target=\"_top\" title=\"psysml:3c2ac290-8ac1-4000-af3e-5bcf9ecf7966\" xlink:actuate=\"onRequest\" xlink:href=\"psysml:3c2ac290-8ac1-4000-af3e-5bcf9ecf7966\" xlink:show=\"new\" xlink:title=\"psysml:3c2ac290-8ac1-4000-af3e-5bcf9ecf7966\" xlink:type=\"simple\"><path d=\"M76.82,187.06 C85.47,204.7 97.55,229.34 106.2,246.98 \" fill=\"none\" id=\"E6-E2\" style=\"stroke: #A80036; stroke-width: 3.0;\"/></a><!--MD5=[452b418e7f8a40397a49b8c0a78acc5b]\n",
       "reverse link E5 to E7--><a href=\"psysml:97bf4e08-a4b3-492a-87d8-6adc842be5d3\" target=\"_top\" title=\"psysml:97bf4e08-a4b3-492a-87d8-6adc842be5d3\" xlink:actuate=\"onRequest\" xlink:href=\"psysml:97bf4e08-a4b3-492a-87d8-6adc842be5d3\" xlink:show=\"new\" xlink:title=\"psysml:97bf4e08-a4b3-492a-87d8-6adc842be5d3\" xlink:type=\"simple\"><path d=\"M133.01,93.09 C140.95,108.51 150.35,126.78 157.56,140.77 \" fill=\"none\" id=\"E5&lt;-E7\" style=\"stroke: #A80036; stroke-width: 1.0;\"/><polygon fill=\"#A80036\" points=\"127.03,81.47,126.2165,88.6351,132.5176,92.1418,133.331,84.9767,127.03,81.47\" style=\"stroke: #A80036; stroke-width: 1.0;\"/></a><!--MD5=[583832df87f4419a098336a29a52fa00]\n",
       "link E7 to E2--><a href=\"psysml:6815ba90-0374-438b-ad93-53c34ddf71b8\" target=\"_top\" title=\"psysml:6815ba90-0374-438b-ad93-53c34ddf71b8\" xlink:actuate=\"onRequest\" xlink:href=\"psysml:6815ba90-0374-438b-ad93-53c34ddf71b8\" xlink:show=\"new\" xlink:title=\"psysml:6815ba90-0374-438b-ad93-53c34ddf71b8\" xlink:type=\"simple\"><path d=\"M157.97,187.06 C151.91,199.19 144.19,214.62 137.09,228.82 \" fill=\"none\" id=\"E7-&gt;E2\" style=\"stroke: #A80036; stroke-width: 1.0;\"/><polygon fill=\"none\" points=\"143.22,232.22,128.01,246.98,130.7,225.96,143.22,232.22\" style=\"stroke: #A80036; stroke-width: 1.0;\"/></a><!--MD5=[b7c8eac2e5850784eb8351e12af9a629]\n",
       "@startuml\r\n",
       " \r\n",
       "package \"ConnectionTest\" as E1  [[psysml:22aef044-e637-4155-a6c9-7ceaf878199d ]]  {\r\n",
       "comp usage \"p\" as E2 << << (P,limegreen) part>> [[psysml:4372fe5d-a54c-4736-ace6-05c35a4b2fd0 ]] {\r\n",
       "}\r\n",
       "comp usage \"x\" as E3 << << (P,limegreen) part>> [[psysml:3f2b8857-d9ea-41c6-bb7a-db05d1986c1a ]] {\r\n",
       "}\r\n",
       "comp usage \"x1\" as E4 << << (P,limegreen) part>> [[psysml:e84cebed-6405-49c5-b413-5d504fb47cee ]] {\r\n",
       "}\r\n",
       "comp def \"P\" as E5 << << (B,green) >> [[psysml:ba7b03ba-afee-4a2c-95ba-c440e322d2ee ]] {\r\n",
       "}\r\n",
       "comp usage \"y\" as E6 << << (P,limegreen) part>> [[psysml:6b502337-597a-4c17-979b-8872526dd5b6 ]] {\r\n",
       "}\r\n",
       "comp usage \"p1\" as E7 << << (P,limegreen) part>> [[psysml:c0882630-04b8-4e6c-a043-bd39b4f2710a ]] {\r\n",
       "}\r\n",
       "E2 *- - E3 [[psysml:d551e406-73fb-4a91-a080-fc440127a640 ]] \r\n",
       "E3 *- - E4 [[psysml:0c62ef63-43f3-4799-a069-927499b27fb4 ]] \r\n",
       "E5 *- - E6 [[psysml:bccb9dd4-409f-48ce-8915-27f20628680f ]] \r\n",
       "E6 -[thickness=3]- E2 [[psysml:3c2ac290-8ac1-4000-af3e-5bcf9ecf7966 ]] \r\n",
       "E5 *- - E7 [[psysml:97bf4e08-a4b3-492a-87d8-6adc842be5d3 ]] \r\n",
       "E7 - -|> E2 [[psysml:6815ba90-0374-438b-ad93-53c34ddf71b8 ]] \r\n",
       "}\r\n",
       "@enduml\r\n",
       "\n",
       "PlantUML version 1.2020.13(Sat Jun 13 12:26:38 UTC 2020)\n",
       "(EPL source distribution)\n",
       "Java Runtime: OpenJDK Runtime Environment\n",
       "JVM: OpenJDK 64-Bit Server VM\n",
       "Default Encoding: UTF-8\n",
       "Language: en\n",
       "Country: null\n",
       "--></g></svg>"
      ]
     },
     "execution_count": 31,
     "metadata": {},
     "output_type": "execute_result"
    }
   ],
   "source": [
    "%viz --style=\"PLANTUML\" --view=\"Tree\" \"ConnectionTest\""
   ]
  },
  {
   "cell_type": "code",
   "execution_count": 32,
   "id": "d341983e",
   "metadata": {
    "execution": {
     "iopub.execute_input": "2021-06-30T09:21:36.003645Z",
     "iopub.status.busy": "2021-06-30T09:21:36.002818Z",
     "iopub.status.idle": "2021-06-30T09:21:36.202649Z",
     "shell.execute_reply": "2021-06-30T09:21:36.199303Z"
    }
   },
   "outputs": [
    {
     "data": {
      "image/svg+xml": [
       "<?xml version=\"1.0\" encoding=\"UTF-8\" standalone=\"no\"?><svg xmlns=\"http://www.w3.org/2000/svg\" xmlns:xlink=\"http://www.w3.org/1999/xlink\" contentScriptType=\"application/ecmascript\" contentStyleType=\"text/css\" height=\"303px\" preserveAspectRatio=\"none\" style=\"width:603px;height:303px;background:#000000;\" version=\"1.1\" viewBox=\"0 0 603 303\" width=\"603px\" zoomAndPan=\"magnify\"><defs/><g><rect fill=\"#021019\" height=\"1\" style=\"stroke: #021019; stroke-width: 1.0;\" width=\"1\" x=\"0\" y=\"0\"/><rect fill=\"#FFFFFF\" height=\"205.5625\" style=\"stroke: #FFFFFF; stroke-width: 1.0;\" width=\"602\" x=\"0\" y=\"0\"/><text fill=\"#000000\" font-family=\"sans-serif\" font-size=\"12\" font-weight=\"bold\" lengthAdjust=\"spacingAndGlyphs\" textLength=\"159\" x=\"5\" y=\"16.1387\">Welcome to PlantUML!</text><text fill=\"#000000\" font-family=\"sans-serif\" font-size=\"12\" lengthAdjust=\"spacingAndGlyphs\" textLength=\"0\" x=\"9\" y=\"30.1074\"/><text fill=\"#000000\" font-family=\"sans-serif\" font-size=\"12\" lengthAdjust=\"spacingAndGlyphs\" textLength=\"293\" x=\"5\" y=\"44.0762\">If you use this software, you accept its license.</text><text fill=\"#000000\" font-family=\"sans-serif\" font-size=\"12\" lengthAdjust=\"spacingAndGlyphs\" textLength=\"107\" x=\"5\" y=\"58.0449\">(details by typing</text><text fill=\"#000000\" font-family=\"monospace\" font-size=\"12\" lengthAdjust=\"spacingAndGlyphs\" textLength=\"49\" x=\"116\" y=\"58.0449\">license</text><text fill=\"#000000\" font-family=\"sans-serif\" font-size=\"12\" lengthAdjust=\"spacingAndGlyphs\" textLength=\"56\" x=\"169\" y=\"58.0449\">keyword)</text><text fill=\"#000000\" font-family=\"sans-serif\" font-size=\"12\" lengthAdjust=\"spacingAndGlyphs\" textLength=\"0\" x=\"9\" y=\"72.0137\"/><text fill=\"#000000\" font-family=\"sans-serif\" font-size=\"12\" lengthAdjust=\"spacingAndGlyphs\" textLength=\"283\" x=\"5\" y=\"85.9824\">You can start with a simple UML Diagram like:</text><text fill=\"#000000\" font-family=\"sans-serif\" font-size=\"12\" lengthAdjust=\"spacingAndGlyphs\" textLength=\"0\" x=\"9\" y=\"99.9512\"/><text fill=\"#000000\" font-family=\"monospace\" font-size=\"12\" lengthAdjust=\"spacingAndGlyphs\" textLength=\"119\" x=\"5\" y=\"113.9199\">Bob-&gt;Alice: Hello</text><text fill=\"#000000\" font-family=\"sans-serif\" font-size=\"12\" lengthAdjust=\"spacingAndGlyphs\" textLength=\"0\" x=\"9\" y=\"127.8887\"/><text fill=\"#000000\" font-family=\"sans-serif\" font-size=\"12\" lengthAdjust=\"spacingAndGlyphs\" textLength=\"14\" x=\"5\" y=\"141.8574\">Or</text><text fill=\"#000000\" font-family=\"sans-serif\" font-size=\"12\" lengthAdjust=\"spacingAndGlyphs\" textLength=\"0\" x=\"9\" y=\"155.8262\"/><text fill=\"#000000\" font-family=\"monospace\" font-size=\"12\" lengthAdjust=\"spacingAndGlyphs\" textLength=\"91\" x=\"5\" y=\"169.7949\">class Example</text><text fill=\"#000000\" font-family=\"sans-serif\" font-size=\"12\" lengthAdjust=\"spacingAndGlyphs\" textLength=\"0\" x=\"9\" y=\"183.7637\"/><text fill=\"#000000\" font-family=\"sans-serif\" font-size=\"12\" lengthAdjust=\"spacingAndGlyphs\" textLength=\"349\" x=\"5\" y=\"197.7324\">You will find more information about PlantUML syntax on</text><text fill=\"#000000\" font-family=\"sans-serif\" font-size=\"12\" lengthAdjust=\"spacingAndGlyphs\" text-decoration=\"underline\" textLength=\"129\" x=\"358\" y=\"197.7324\">https://plantuml.com</text><image height=\"71\" width=\"80\" x=\"516\" xlink:href=\"data:image/png;base64,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\" y=\"6\"/><rect fill=\"#000000\" height=\"96.4844\" style=\"stroke: #000000; stroke-width: 1.0;\" width=\"602\" x=\"0\" y=\"205.5625\"/><rect fill=\"#33FF02\" height=\"21.2969\" style=\"stroke: #33FF02; stroke-width: 1.0;\" width=\"170\" x=\"5\" y=\"210.5625\"/><text fill=\"#000000\" font-family=\"sans-serif\" font-size=\"14\" font-weight=\"bold\" lengthAdjust=\"spacingAndGlyphs\" textLength=\"168\" x=\"6\" y=\"225.5625\">[From string (line 2) ]</text><text fill=\"#33FF02\" font-family=\"sans-serif\" font-size=\"14\" font-weight=\"bold\" lengthAdjust=\"spacingAndGlyphs\" textLength=\"0\" x=\"10\" y=\"245.8594\"/><text fill=\"#33FF02\" font-family=\"sans-serif\" font-size=\"14\" font-weight=\"bold\" lengthAdjust=\"spacingAndGlyphs\" textLength=\"79\" x=\"5\" y=\"262.1563\">@startuml</text><text fill=\"#33FF02\" font-family=\"sans-serif\" font-size=\"14\" font-weight=\"bold\" lengthAdjust=\"spacingAndGlyphs\" textLength=\"0\" x=\"10\" y=\"278.4531\"/><text fill=\"#FF0000\" font-family=\"sans-serif\" font-size=\"14\" font-weight=\"bold\" lengthAdjust=\"spacingAndGlyphs\" textLength=\"142\" x=\"10\" y=\"294.75\">Empty description</text><!--MD5=[f59edd8218d337f74d0c332fc6737304]\n",
       "@startuml\r\n",
       " \r\n",
       "@enduml\r\n",
       "\n",
       "PlantUML version 1.2020.13(Sat Jun 13 12:26:38 UTC 2020)\n",
       "(EPL source distribution)\n",
       "Java Runtime: OpenJDK Runtime Environment\n",
       "JVM: OpenJDK 64-Bit Server VM\n",
       "Default Encoding: UTF-8\n",
       "Language: en\n",
       "Country: null\n",
       "--></g></svg>"
      ]
     },
     "execution_count": 32,
     "metadata": {},
     "output_type": "execute_result"
    }
   ],
   "source": [
    "%viz --style=\"PLANTUML\" --view=\"State\" \"ConnectionTest\""
   ]
  },
  {
   "cell_type": "code",
   "execution_count": 33,
   "id": "d1005a83",
   "metadata": {
    "execution": {
     "iopub.execute_input": "2021-06-30T09:21:36.256256Z",
     "iopub.status.busy": "2021-06-30T09:21:36.255145Z",
     "iopub.status.idle": "2021-06-30T09:21:36.381808Z",
     "shell.execute_reply": "2021-06-30T09:21:36.380546Z"
    }
   },
   "outputs": [
    {
     "data": {
      "image/svg+xml": [
       "<?xml version=\"1.0\" encoding=\"UTF-8\" standalone=\"no\"?><svg xmlns=\"http://www.w3.org/2000/svg\" xmlns:xlink=\"http://www.w3.org/1999/xlink\" contentScriptType=\"application/ecmascript\" contentStyleType=\"text/css\" height=\"390px\" preserveAspectRatio=\"none\" style=\"width:513px;height:390px;\" version=\"1.1\" viewBox=\"0 0 513 390\" width=\"513px\" zoomAndPan=\"magnify\"><defs><filter height=\"300%\" id=\"fjs5qtn70ucms\" width=\"300%\" x=\"-1\" y=\"-1\"><feGaussianBlur result=\"blurOut\" stdDeviation=\"2.0\"/><feColorMatrix in=\"blurOut\" result=\"blurOut2\" type=\"matrix\" values=\"0 0 0 0 0 0 0 0 0 0 0 0 0 0 0 0 0 0 .4 0\"/><feOffset dx=\"4.0\" dy=\"4.0\" in=\"blurOut2\" result=\"blurOut3\"/><feBlend in=\"SourceGraphic\" in2=\"blurOut3\" mode=\"normal\"/></filter></defs><g><!--MD5=[fbc87193dbaf4d95561dea2c320d4a47]\n",
       "cluster E1--><a href=\"psysml:22aef044-e637-4155-a6c9-7ceaf878199d\" target=\"_top\" title=\"psysml:22aef044-e637-4155-a6c9-7ceaf878199d\" xlink:actuate=\"onRequest\" xlink:href=\"psysml:22aef044-e637-4155-a6c9-7ceaf878199d\" xlink:show=\"new\" xlink:title=\"psysml:22aef044-e637-4155-a6c9-7ceaf878199d\" xlink:type=\"simple\"><polygon fill=\"#FFFFFF\" filter=\"url(#fjs5qtn70ucms)\" points=\"16,6,147,6,154,28.2969,491,28.2969,491,378,16,378,16,6\" style=\"stroke: #000000; stroke-width: 1.5;\"/><line style=\"stroke: #000000; stroke-width: 1.5;\" x1=\"16\" x2=\"154\" y1=\"28.2969\" y2=\"28.2969\"/><text fill=\"#000000\" font-family=\"sans-serif\" font-size=\"14\" font-weight=\"bold\" lengthAdjust=\"spacingAndGlyphs\" textLength=\"125\" x=\"20\" y=\"20.9951\">ConnectionTest</text></a><!--MD5=[e4f7fae6ed58524ba242bb0b0d3be6b7]\n",
       "cluster E2--><a href=\"psysml:4372fe5d-a54c-4736-ace6-05c35a4b2fd0\" target=\"_top\" title=\"psysml:4372fe5d-a54c-4736-ace6-05c35a4b2fd0\" xlink:actuate=\"onRequest\" xlink:href=\"psysml:4372fe5d-a54c-4736-ace6-05c35a4b2fd0\" xlink:show=\"new\" xlink:title=\"psysml:4372fe5d-a54c-4736-ace6-05c35a4b2fd0\" xlink:type=\"simple\"><rect fill=\"#FFFFFF\" filter=\"url(#fjs5qtn70ucms)\" height=\"174\" id=\"E2\" rx=\"10\" ry=\"10\" style=\"stroke: #A80036; stroke-width: 1.5;\" width=\"156\" x=\"303\" y=\"148\"/><rect fill=\"#FEFECE\" height=\"23.9688\" rx=\"10\" ry=\"10\" style=\"stroke: #FEFECE; stroke-width: 1.5;\" width=\"156\" x=\"303\" y=\"148\"/><rect fill=\"#FEFECE\" height=\"10\" style=\"stroke: #FEFECE; stroke-width: 1.5;\" width=\"156\" x=\"303\" y=\"161.9688\"/><rect fill=\"none\" height=\"174\" id=\"E2\" rx=\"10\" ry=\"10\" style=\"stroke: #A80036; stroke-width: 1.5;\" width=\"156\" x=\"303\" y=\"148\"/><text fill=\"#000000\" font-family=\"sans-serif\" font-size=\"12\" lengthAdjust=\"spacingAndGlyphs\" textLength=\"8\" x=\"377\" y=\"164.1387\">p</text><line style=\"stroke: #A80036; stroke-width: 1.0;\" x1=\"303\" x2=\"459\" y1=\"171.9688\" y2=\"171.9688\"/></a><!--MD5=[d5e69f78d87373223dbae638b30a9c99]\n",
       "cluster E3--><a href=\"psysml:3f2b8857-d9ea-41c6-bb7a-db05d1986c1a\" target=\"_top\" title=\"psysml:3f2b8857-d9ea-41c6-bb7a-db05d1986c1a\" xlink:actuate=\"onRequest\" xlink:href=\"psysml:3f2b8857-d9ea-41c6-bb7a-db05d1986c1a\" xlink:show=\"new\" xlink:title=\"psysml:3f2b8857-d9ea-41c6-bb7a-db05d1986c1a\" xlink:type=\"simple\"><rect fill=\"#FFFFFF\" filter=\"url(#fjs5qtn70ucms)\" height=\"91\" id=\"E3\" rx=\"10\" ry=\"10\" style=\"stroke: #A80036; stroke-width: 1.5;\" width=\"84\" x=\"343\" y=\"199\"/><rect fill=\"#FEFECE\" height=\"23.9688\" rx=\"10\" ry=\"10\" style=\"stroke: #FEFECE; stroke-width: 1.5;\" width=\"84\" x=\"343\" y=\"199\"/><rect fill=\"#FEFECE\" height=\"10\" style=\"stroke: #FEFECE; stroke-width: 1.5;\" width=\"84\" x=\"343\" y=\"212.9688\"/><rect fill=\"none\" height=\"91\" id=\"E3\" rx=\"10\" ry=\"10\" style=\"stroke: #A80036; stroke-width: 1.5;\" width=\"84\" x=\"343\" y=\"199\"/><text fill=\"#000000\" font-family=\"sans-serif\" font-size=\"12\" lengthAdjust=\"spacingAndGlyphs\" textLength=\"6\" x=\"382\" y=\"215.1387\">x</text><line style=\"stroke: #A80036; stroke-width: 1.0;\" x1=\"343\" x2=\"427\" y1=\"222.9688\" y2=\"222.9688\"/></a><!--MD5=[de5ec2e2e8f62f467e546659f5068c88]\n",
       "cluster E5--><a href=\"psysml:ba7b03ba-afee-4a2c-95ba-c440e322d2ee\" target=\"_top\" title=\"psysml:ba7b03ba-afee-4a2c-95ba-c440e322d2ee\" xlink:actuate=\"onRequest\" xlink:href=\"psysml:ba7b03ba-afee-4a2c-95ba-c440e322d2ee\" xlink:show=\"new\" xlink:title=\"psysml:ba7b03ba-afee-4a2c-95ba-c440e322d2ee\" xlink:type=\"simple\"><rect fill=\"#FFFFFF\" filter=\"url(#fjs5qtn70ucms)\" height=\"305\" id=\"E5\" style=\"stroke: #A80036; stroke-width: 1.5;\" width=\"231\" x=\"40\" y=\"49\"/><rect fill=\"#FEFECE\" height=\"23.9688\" style=\"stroke: #A80036; stroke-width: 1.5;\" width=\"231\" x=\"40\" y=\"49\"/><text fill=\"#000000\" font-family=\"sans-serif\" font-size=\"12\" lengthAdjust=\"spacingAndGlyphs\" textLength=\"8\" x=\"151.5\" y=\"65.1387\">P</text></a><!--MD5=[168fadf3d0c3fd93dd5d6da1b1d7ab76]\n",
       "cluster E7--><a href=\"psysml:c0882630-04b8-4e6c-a043-bd39b4f2710a\" target=\"_top\" title=\"psysml:c0882630-04b8-4e6c-a043-bd39b4f2710a\" xlink:actuate=\"onRequest\" xlink:href=\"psysml:c0882630-04b8-4e6c-a043-bd39b4f2710a\" xlink:show=\"new\" xlink:title=\"psysml:c0882630-04b8-4e6c-a043-bd39b4f2710a\" xlink:type=\"simple\"><rect fill=\"#FFFFFF\" filter=\"url(#fjs5qtn70ucms)\" height=\"190\" id=\"E7\" rx=\"10\" ry=\"10\" style=\"stroke: #A80036; stroke-width: 1.5;\" width=\"183\" x=\"64\" y=\"140\"/><rect fill=\"#FEFECE\" height=\"23.9688\" rx=\"10\" ry=\"10\" style=\"stroke: #FEFECE; stroke-width: 1.5;\" width=\"183\" x=\"64\" y=\"140\"/><rect fill=\"#FEFECE\" height=\"10\" style=\"stroke: #FEFECE; stroke-width: 1.5;\" width=\"183\" x=\"64\" y=\"153.9688\"/><rect fill=\"none\" height=\"190\" id=\"E7\" rx=\"10\" ry=\"10\" style=\"stroke: #A80036; stroke-width: 1.5;\" width=\"183\" x=\"64\" y=\"140\"/><text fill=\"#000000\" font-family=\"sans-serif\" font-size=\"12\" lengthAdjust=\"spacingAndGlyphs\" textLength=\"16\" x=\"147.5\" y=\"156.1387\">p1</text><line style=\"stroke: #A80036; stroke-width: 1.0;\" x1=\"64\" x2=\"247\" y1=\"163.9688\" y2=\"163.9688\"/></a><!--MD5=[55dfccfc6c49c2d10cd1bd2211a6c90c]\n",
       "cluster E8--><a href=\"psysml:3f2b8857-d9ea-41c6-bb7a-db05d1986c1a\" target=\"_top\" title=\"psysml:3f2b8857-d9ea-41c6-bb7a-db05d1986c1a\" xlink:actuate=\"onRequest\" xlink:href=\"psysml:3f2b8857-d9ea-41c6-bb7a-db05d1986c1a\" xlink:show=\"new\" xlink:title=\"psysml:3f2b8857-d9ea-41c6-bb7a-db05d1986c1a\" xlink:type=\"simple\"><rect fill=\"#FFFFFF\" filter=\"url(#fjs5qtn70ucms)\" height=\"107\" id=\"E8\" rx=\"10\" ry=\"10\" style=\"stroke: #A80036; stroke-width: 1.5;\" width=\"119\" x=\"96\" y=\"191\"/><rect fill=\"#FEFECE\" height=\"23.9688\" rx=\"10\" ry=\"10\" style=\"stroke: #FEFECE; stroke-width: 1.5;\" width=\"119\" x=\"96\" y=\"191\"/><rect fill=\"#FEFECE\" height=\"10\" style=\"stroke: #FEFECE; stroke-width: 1.5;\" width=\"119\" x=\"96\" y=\"204.9688\"/><rect fill=\"none\" height=\"107\" id=\"E8\" rx=\"10\" ry=\"10\" style=\"stroke: #A80036; stroke-width: 1.5;\" width=\"119\" x=\"96\" y=\"191\"/><text fill=\"#000000\" font-family=\"sans-serif\" font-size=\"12\" lengthAdjust=\"spacingAndGlyphs\" textLength=\"16\" x=\"147.5\" y=\"207.1387\">^x</text><line style=\"stroke: #A80036; stroke-width: 1.0;\" x1=\"96\" x2=\"215\" y1=\"214.9688\" y2=\"214.9688\"/></a><g id=\"E1.E2.E3.E4\"><a href=\"psysml:e84cebed-6405-49c5-b413-5d504fb47cee\" target=\"_top\" title=\"psysml:e84cebed-6405-49c5-b413-5d504fb47cee\" xlink:actuate=\"onRequest\" xlink:href=\"psysml:e84cebed-6405-49c5-b413-5d504fb47cee\" xlink:show=\"new\" xlink:title=\"psysml:e84cebed-6405-49c5-b413-5d504fb47cee\" xlink:type=\"simple\"><rect fill=\"#FEFECE\" filter=\"url(#fjs5qtn70ucms)\" height=\"40\" id=\"E4\" rx=\"10\" ry=\"10\" style=\"stroke: #A80036; stroke-width: 1.5;\" width=\"51\" x=\"359.5\" y=\"234\"/><ellipse cx=\"376.75\" cy=\"250\" fill=\"#B6DBBB\" rx=\"11\" ry=\"11\" style=\"stroke: #A80036; stroke-width: 1.0;\"/><path d=\"M372.625,251.9219 L372.625,244.1094 L375.0781,244.1094 L375.0781,252.5469 Q375.0781,253.4688 375.5469,254 Q376.0313,254.5313 376.8594,254.5313 Q377.7031,254.5313 378.1719,254 Q378.6406,253.4688 378.6406,252.5469 L378.6406,244.1094 L381.0938,244.1094 L381.0938,251.9219 Q381.0938,254.4531 380.0938,255.5938 Q379.0938,256.7344 376.8594,256.7344 Q374.6406,256.7344 373.625,255.5938 Q372.625,254.4531 372.625,251.9219 Z \"/><text fill=\"#000000\" font-family=\"sans-serif\" font-size=\"12\" lengthAdjust=\"spacingAndGlyphs\" textLength=\"14\" x=\"391.25\" y=\"254.1543\">x1</text></a></g><g id=\"E1.E5.E6\"><a href=\"psysml:6b502337-597a-4c17-979b-8872526dd5b6\" target=\"_top\" title=\"psysml:6b502337-597a-4c17-979b-8872526dd5b6\" xlink:actuate=\"onRequest\" xlink:href=\"psysml:6b502337-597a-4c17-979b-8872526dd5b6\" xlink:show=\"new\" xlink:title=\"psysml:6b502337-597a-4c17-979b-8872526dd5b6\" xlink:type=\"simple\"><rect fill=\"#FEFECE\" filter=\"url(#fjs5qtn70ucms)\" height=\"40\" id=\"E6\" rx=\"10\" ry=\"10\" style=\"stroke: #A80036; stroke-width: 1.5;\" width=\"50\" x=\"140\" y=\"84\"/><ellipse cx=\"160.4\" cy=\"100\" fill=\"#B6DBBB\" rx=\"11\" ry=\"11\" style=\"stroke: #A80036; stroke-width: 1.0;\"/><path d=\"M156.275,101.9219 L156.275,94.1094 L158.7281,94.1094 L158.7281,102.5469 Q158.7281,103.4688 159.1969,104 Q159.6813,104.5313 160.5094,104.5313 Q161.3531,104.5313 161.8219,104 Q162.2906,103.4688 162.2906,102.5469 L162.2906,94.1094 L164.7438,94.1094 L164.7438,101.9219 Q164.7438,104.4531 163.7438,105.5938 Q162.7438,106.7344 160.5094,106.7344 Q158.2906,106.7344 157.275,105.5938 Q156.275,104.4531 156.275,101.9219 Z \"/><text fill=\"#000000\" font-family=\"sans-serif\" font-size=\"12\" lengthAdjust=\"spacingAndGlyphs\" textLength=\"6\" x=\"175.6\" y=\"104.1543\">y</text></a></g><g id=\"E1.E5.E7.E8.E9\"><a href=\"psysml:e84cebed-6405-49c5-b413-5d504fb47cee\" target=\"_top\" title=\"psysml:e84cebed-6405-49c5-b413-5d504fb47cee\" xlink:actuate=\"onRequest\" xlink:href=\"psysml:e84cebed-6405-49c5-b413-5d504fb47cee\" xlink:show=\"new\" xlink:title=\"psysml:e84cebed-6405-49c5-b413-5d504fb47cee\" xlink:type=\"simple\"><rect fill=\"#FEFECE\" filter=\"url(#fjs5qtn70ucms)\" height=\"40\" id=\"E9\" rx=\"10\" ry=\"10\" style=\"stroke: #A80036; stroke-width: 1.5;\" width=\"51\" x=\"139.5\" y=\"234\"/><ellipse cx=\"156.75\" cy=\"250\" fill=\"#B6DBBB\" rx=\"11\" ry=\"11\" style=\"stroke: #A80036; stroke-width: 1.0;\"/><path d=\"M152.625,251.9219 L152.625,244.1094 L155.0781,244.1094 L155.0781,252.5469 Q155.0781,253.4688 155.5469,254 Q156.0313,254.5313 156.8594,254.5313 Q157.7031,254.5313 158.1719,254 Q158.6406,253.4688 158.6406,252.5469 L158.6406,244.1094 L161.0938,244.1094 L161.0938,251.9219 Q161.0938,254.4531 160.0938,255.5938 Q159.0938,256.7344 156.8594,256.7344 Q154.6406,256.7344 153.625,255.5938 Q152.625,254.4531 152.625,251.9219 Z \"/><text fill=\"#000000\" font-family=\"sans-serif\" font-size=\"12\" lengthAdjust=\"spacingAndGlyphs\" textLength=\"14\" x=\"171.25\" y=\"254.1543\">x1</text></a></g><!--MD5=[2351f337d6de0f557b50152ba70847b5]\n",
       "link E6 to E2--><a href=\"psysml:3c2ac290-8ac1-4000-af3e-5bcf9ecf7966\" target=\"_top\" title=\"psysml:3c2ac290-8ac1-4000-af3e-5bcf9ecf7966\" xlink:actuate=\"onRequest\" xlink:href=\"psysml:3c2ac290-8ac1-4000-af3e-5bcf9ecf7966\" xlink:show=\"new\" xlink:title=\"psysml:3c2ac290-8ac1-4000-af3e-5bcf9ecf7966\" xlink:type=\"simple\"><path d=\"M190.28,119.57 C196.01,123.32 201.9,127.56 207,132 C233.33,154.91 258.935,184.58 278.15,208.8062 C287.7575,220.9194 295.7675,231.6716 301.4719,239.5373 C301.8284,240.029 302.1759,240.5093 302.5143,240.978 C302.5988,241.0952 302.6828,241.2116 302.7663,241.3273 \" fill=\"none\" id=\"E6-E2\" style=\"stroke: #A80036; stroke-width: 3.0;\"/></a><!--MD5=[0a839d0f80c2d72d4b9b307f046d0de8]\n",
       "link E6 to E8--><a href=\"psysml:75c884b3-4954-4983-bf4e-b524958cba22\" target=\"_top\" title=\"psysml:75c884b3-4954-4983-bf4e-b524958cba22\" xlink:actuate=\"onRequest\" xlink:href=\"psysml:75c884b3-4954-4983-bf4e-b524958cba22\" xlink:show=\"new\" xlink:title=\"psysml:75c884b3-4954-4983-bf4e-b524958cba22\" xlink:type=\"simple\"><path d=\"M139.86,116.37 C133.43,120.42 127.17,125.61 123,132 C115.685,143.2225 110.8194,156.2494 107.6406,169.513 C106.0513,176.1448 104.8836,182.8357 104.0423,189.3899 C103.9898,189.7996 103.9385,190.2087 103.8884,190.6172 \" fill=\"none\" id=\"E6-E8\" style=\"stroke: #A80036; stroke-width: 3.0;\"/></a><!--MD5=[8ae21a5272e5f5a2f0d855d545cbd16c]\n",
       "link E6 to E9--><a href=\"psysml:ec977721-0260-4bea-8651-1724c0f568d2\" target=\"_top\" title=\"psysml:ec977721-0260-4bea-8651-1724c0f568d2\" xlink:actuate=\"onRequest\" xlink:href=\"psysml:ec977721-0260-4bea-8651-1724c0f568d2\" xlink:show=\"new\" xlink:title=\"psysml:ec977721-0260-4bea-8651-1724c0f568d2\" xlink:type=\"simple\"><path d=\"M165,124.05 C165,152.31 165,205.07 165,233.56 \" fill=\"none\" id=\"E6-E9\" style=\"stroke: #A80036; stroke-width: 3.0;\"/></a><!--MD5=[6bd0317449bb4b82a5e8ce3d7e86934c]\n",
       "@startuml\r\n",
       "skinparam ranksep 10\r\n",
       "skinparam rectangle {\r\n",
       " backgroundColor<<block>> LightGreen\r\n",
       "}\r\n",
       " \r\n",
       "package \"ConnectionTest\" as E1  [[psysml:22aef044-e637-4155-a6c9-7ceaf878199d ]]  {\r\n",
       "rec usage \"p\" as E2  [[psysml:4372fe5d-a54c-4736-ace6-05c35a4b2fd0 ]] {\r\n",
       "rec usage \"x\" as E3  [[psysml:3f2b8857-d9ea-41c6-bb7a-db05d1986c1a ]] {\r\n",
       "rec usage \"x1\" as E4  [[psysml:e84cebed-6405-49c5-b413-5d504fb47cee ]] {\r\n",
       "}\r\n",
       "}\r\n",
       "}\r\n",
       "rec def \"P\" as E5 << << (B,green) >> [[psysml:ba7b03ba-afee-4a2c-95ba-c440e322d2ee ]] {\r\n",
       "rec usage \"y\" as E6  [[psysml:6b502337-597a-4c17-979b-8872526dd5b6 ]] {\r\n",
       "}\r\n",
       "rec usage \"p1\" as E7  [[psysml:c0882630-04b8-4e6c-a043-bd39b4f2710a ]] {\r\n",
       "rec usage \"^x\" as E8  [[psysml:3f2b8857-d9ea-41c6-bb7a-db05d1986c1a ]] {\r\n",
       "rec usage \"x1\" as E9  [[psysml:e84cebed-6405-49c5-b413-5d504fb47cee ]] {\r\n",
       "}\r\n",
       "}\r\n",
       "}\r\n",
       "}\r\n",
       "E6 -[thickness=3]- E2 [[psysml:3c2ac290-8ac1-4000-af3e-5bcf9ecf7966 ]] \r\n",
       "E6 -[thickness=3]- E8 [[psysml:75c884b3-4954-4983-bf4e-b524958cba22 ]] \r\n",
       "E6 -[thickness=3]- E9 [[psysml:ec977721-0260-4bea-8651-1724c0f568d2 ]] \r\n",
       "}\r\n",
       "@enduml\r\n",
       "\n",
       "PlantUML version 1.2020.13(Sat Jun 13 12:26:38 UTC 2020)\n",
       "(EPL source distribution)\n",
       "Java Runtime: OpenJDK Runtime Environment\n",
       "JVM: OpenJDK 64-Bit Server VM\n",
       "Default Encoding: UTF-8\n",
       "Language: en\n",
       "Country: null\n",
       "--></g></svg>"
      ]
     },
     "execution_count": 33,
     "metadata": {},
     "output_type": "execute_result"
    }
   ],
   "source": [
    "%viz --style=\"PLANTUML\" --view=\"Interconnection\" \"ConnectionTest\""
   ]
  },
  {
   "cell_type": "code",
   "execution_count": 34,
   "id": "294fe2ab",
   "metadata": {
    "execution": {
     "iopub.execute_input": "2021-06-30T09:21:36.433629Z",
     "iopub.status.busy": "2021-06-30T09:21:36.432766Z",
     "iopub.status.idle": "2021-06-30T09:21:36.444095Z",
     "shell.execute_reply": "2021-06-30T09:21:36.441396Z"
    }
   },
   "outputs": [
    {
     "data": {
      "image/svg+xml": [
       "<?xml version=\"1.0\" encoding=\"UTF-8\" standalone=\"no\"?><svg xmlns=\"http://www.w3.org/2000/svg\" xmlns:xlink=\"http://www.w3.org/1999/xlink\" contentScriptType=\"application/ecmascript\" contentStyleType=\"text/css\" height=\"12px\" preserveAspectRatio=\"none\" style=\"width:12px;height:12px;\" version=\"1.1\" viewBox=\"0 0 12 12\" width=\"12px\" zoomAndPan=\"magnify\"><defs/><g><!--MD5=[6a4cb978cab31700e1ce5529f947a75d]\n",
       "@startuml\r\n",
       "skinparam ranksep 8\r\n",
       " \r\n",
       "@enduml\r\n",
       "\n",
       "PlantUML version 1.2020.13(Sat Jun 13 12:26:38 UTC 2020)\n",
       "(EPL source distribution)\n",
       "Java Runtime: OpenJDK Runtime Environment\n",
       "JVM: OpenJDK 64-Bit Server VM\n",
       "Default Encoding: UTF-8\n",
       "Language: en\n",
       "Country: null\n",
       "--></g></svg>"
      ]
     },
     "execution_count": 34,
     "metadata": {},
     "output_type": "execute_result"
    }
   ],
   "source": [
    "%viz --style=\"PLANTUML\" --view=\"Action\" \"ConnectionTest\""
   ]
  },
  {
   "cell_type": "code",
   "execution_count": 35,
   "id": "07823fff",
   "metadata": {
    "execution": {
     "iopub.execute_input": "2021-06-30T09:21:36.493462Z",
     "iopub.status.busy": "2021-06-30T09:21:36.491919Z",
     "iopub.status.idle": "2021-06-30T09:21:36.586897Z",
     "shell.execute_reply": "2021-06-30T09:21:36.583753Z"
    }
   },
   "outputs": [
    {
     "data": {
      "image/svg+xml": [
       "<?xml version=\"1.0\" encoding=\"UTF-8\" standalone=\"no\"?><svg xmlns=\"http://www.w3.org/2000/svg\" xmlns:xlink=\"http://www.w3.org/1999/xlink\" contentScriptType=\"application/ecmascript\" contentStyleType=\"text/css\" height=\"533px\" preserveAspectRatio=\"none\" style=\"width:241px;height:533px;\" version=\"1.1\" viewBox=\"0 0 241 533\" width=\"241px\" zoomAndPan=\"magnify\"><defs><filter height=\"300%\" id=\"f12rqkuyawqu2m\" width=\"300%\" x=\"-1\" y=\"-1\"><feGaussianBlur result=\"blurOut\" stdDeviation=\"2.0\"/><feColorMatrix in=\"blurOut\" result=\"blurOut2\" type=\"matrix\" values=\"0 0 0 0 0 0 0 0 0 0 0 0 0 0 0 0 0 0 .4 0\"/><feOffset dx=\"4.0\" dy=\"4.0\" in=\"blurOut2\" result=\"blurOut3\"/><feBlend in=\"SourceGraphic\" in2=\"blurOut3\" mode=\"normal\"/></filter></defs><g><!--MD5=[fbc87193dbaf4d95561dea2c320d4a47]\n",
       "cluster E1--><a href=\"psysml:22aef044-e637-4155-a6c9-7ceaf878199d\" target=\"_top\" title=\"psysml:22aef044-e637-4155-a6c9-7ceaf878199d\" xlink:actuate=\"onRequest\" xlink:href=\"psysml:22aef044-e637-4155-a6c9-7ceaf878199d\" xlink:show=\"new\" xlink:title=\"psysml:22aef044-e637-4155-a6c9-7ceaf878199d\" xlink:type=\"simple\"><polygon fill=\"#FFFFFF\" filter=\"url(#f12rqkuyawqu2m)\" points=\"16,6,147,6,154,28.2969,219,28.2969,219,521,16,521,16,6\" style=\"stroke: #000000; stroke-width: 1.5;\"/><line style=\"stroke: #000000; stroke-width: 1.5;\" x1=\"16\" x2=\"154\" y1=\"28.2969\" y2=\"28.2969\"/><text fill=\"#000000\" font-family=\"sans-serif\" font-size=\"14\" font-weight=\"bold\" lengthAdjust=\"spacingAndGlyphs\" textLength=\"125\" x=\"20\" y=\"20.9951\">ConnectionTest</text></a><!--MD5=[b4997ac47864f28c2f74865a473b2911]\n",
       "class E2--><a href=\"psysml:4372fe5d-a54c-4736-ace6-05c35a4b2fd0\" target=\"_top\" title=\"psysml:4372fe5d-a54c-4736-ace6-05c35a4b2fd0\" xlink:actuate=\"onRequest\" xlink:href=\"psysml:4372fe5d-a54c-4736-ace6-05c35a4b2fd0\" xlink:show=\"new\" xlink:title=\"psysml:4372fe5d-a54c-4736-ace6-05c35a4b2fd0\" xlink:type=\"simple\"><rect fill=\"#FEFECE\" filter=\"url(#f12rqkuyawqu2m)\" height=\"45.9375\" id=\"E2\" rx=\"10\" ry=\"10\" style=\"stroke: #A80036; stroke-width: 1.5;\" width=\"68\" x=\"83\" y=\"247\"/><ellipse cx=\"98\" cy=\"265.9688\" fill=\"#32CD32\" rx=\"11\" ry=\"11\" style=\"stroke: #A80036; stroke-width: 1.0;\"/><path d=\"M97.7969,261.6406 L97.7969,265.2656 L98.7969,265.2656 Q100,265.2656 100.4844,264.8594 Q100.9688,264.4531 100.9688,263.4531 Q100.9688,262.4531 100.4844,262.0469 Q100,261.6406 98.7969,261.6406 L97.7969,261.6406 Z M95.3438,259.5781 L98.7031,259.5781 Q101.2656,259.5781 102.3906,260.5 Q103.5156,261.4063 103.5156,263.4531 Q103.5156,265.5 102.3906,266.4219 Q101.2656,267.3281 98.7031,267.3281 L97.7969,267.3281 L97.7969,271.9688 L95.3438,271.9688 L95.3438,259.5781 Z \"/><text fill=\"#000000\" font-family=\"sans-serif\" font-size=\"12\" font-style=\"italic\" lengthAdjust=\"spacingAndGlyphs\" textLength=\"40\" x=\"110\" y=\"263.1387\">«part»</text><text fill=\"#000000\" font-family=\"sans-serif\" font-size=\"12\" lengthAdjust=\"spacingAndGlyphs\" textLength=\"8\" x=\"126\" y=\"277.1074\">p</text><line style=\"stroke: #A80036; stroke-width: 1.5;\" x1=\"84\" x2=\"150\" y1=\"284.9375\" y2=\"284.9375\"/></a><!--MD5=[09b614a08d8cba4a07c9adeb5e0fee81]\n",
       "class E3--><a href=\"psysml:3f2b8857-d9ea-41c6-bb7a-db05d1986c1a\" target=\"_top\" title=\"psysml:3f2b8857-d9ea-41c6-bb7a-db05d1986c1a\" xlink:actuate=\"onRequest\" xlink:href=\"psysml:3f2b8857-d9ea-41c6-bb7a-db05d1986c1a\" xlink:show=\"new\" xlink:title=\"psysml:3f2b8857-d9ea-41c6-bb7a-db05d1986c1a\" xlink:type=\"simple\"><rect fill=\"#FEFECE\" filter=\"url(#f12rqkuyawqu2m)\" height=\"45.9375\" id=\"E3\" rx=\"10\" ry=\"10\" style=\"stroke: #A80036; stroke-width: 1.5;\" width=\"68\" x=\"83\" y=\"353\"/><ellipse cx=\"98\" cy=\"371.9688\" fill=\"#32CD32\" rx=\"11\" ry=\"11\" style=\"stroke: #A80036; stroke-width: 1.0;\"/><path d=\"M97.7969,367.6406 L97.7969,371.2656 L98.7969,371.2656 Q100,371.2656 100.4844,370.8594 Q100.9688,370.4531 100.9688,369.4531 Q100.9688,368.4531 100.4844,368.0469 Q100,367.6406 98.7969,367.6406 L97.7969,367.6406 Z M95.3438,365.5781 L98.7031,365.5781 Q101.2656,365.5781 102.3906,366.5 Q103.5156,367.4063 103.5156,369.4531 Q103.5156,371.5 102.3906,372.4219 Q101.2656,373.3281 98.7031,373.3281 L97.7969,373.3281 L97.7969,377.9688 L95.3438,377.9688 L95.3438,365.5781 Z \"/><text fill=\"#000000\" font-family=\"sans-serif\" font-size=\"12\" font-style=\"italic\" lengthAdjust=\"spacingAndGlyphs\" textLength=\"40\" x=\"110\" y=\"369.1387\">«part»</text><text fill=\"#000000\" font-family=\"sans-serif\" font-size=\"12\" lengthAdjust=\"spacingAndGlyphs\" textLength=\"6\" x=\"127\" y=\"383.1074\">x</text><line style=\"stroke: #A80036; stroke-width: 1.5;\" x1=\"84\" x2=\"150\" y1=\"390.9375\" y2=\"390.9375\"/></a><!--MD5=[ebbe1d658d1005bcc118a6aa81145e00]\n",
       "class E4--><a href=\"psysml:e84cebed-6405-49c5-b413-5d504fb47cee\" target=\"_top\" title=\"psysml:e84cebed-6405-49c5-b413-5d504fb47cee\" xlink:actuate=\"onRequest\" xlink:href=\"psysml:e84cebed-6405-49c5-b413-5d504fb47cee\" xlink:show=\"new\" xlink:title=\"psysml:e84cebed-6405-49c5-b413-5d504fb47cee\" xlink:type=\"simple\"><rect fill=\"#FEFECE\" filter=\"url(#f12rqkuyawqu2m)\" height=\"45.9375\" id=\"E4\" rx=\"10\" ry=\"10\" style=\"stroke: #A80036; stroke-width: 1.5;\" width=\"68\" x=\"83\" y=\"459\"/><ellipse cx=\"98\" cy=\"477.9688\" fill=\"#32CD32\" rx=\"11\" ry=\"11\" style=\"stroke: #A80036; stroke-width: 1.0;\"/><path d=\"M97.7969,473.6406 L97.7969,477.2656 L98.7969,477.2656 Q100,477.2656 100.4844,476.8594 Q100.9688,476.4531 100.9688,475.4531 Q100.9688,474.4531 100.4844,474.0469 Q100,473.6406 98.7969,473.6406 L97.7969,473.6406 Z M95.3438,471.5781 L98.7031,471.5781 Q101.2656,471.5781 102.3906,472.5 Q103.5156,473.4063 103.5156,475.4531 Q103.5156,477.5 102.3906,478.4219 Q101.2656,479.3281 98.7031,479.3281 L97.7969,479.3281 L97.7969,483.9688 L95.3438,483.9688 L95.3438,471.5781 Z \"/><text fill=\"#000000\" font-family=\"sans-serif\" font-size=\"12\" font-style=\"italic\" lengthAdjust=\"spacingAndGlyphs\" textLength=\"40\" x=\"110\" y=\"475.1387\">«part»</text><text fill=\"#000000\" font-family=\"sans-serif\" font-size=\"12\" lengthAdjust=\"spacingAndGlyphs\" textLength=\"14\" x=\"123\" y=\"489.1074\">x1</text><line style=\"stroke: #A80036; stroke-width: 1.5;\" x1=\"84\" x2=\"150\" y1=\"496.9375\" y2=\"496.9375\"/></a><!--MD5=[270fce915f116d4de14055a7c1d9a0f3]\n",
       "class E5--><a href=\"psysml:ba7b03ba-afee-4a2c-95ba-c440e322d2ee\" target=\"_top\" title=\"psysml:ba7b03ba-afee-4a2c-95ba-c440e322d2ee\" xlink:actuate=\"onRequest\" xlink:href=\"psysml:ba7b03ba-afee-4a2c-95ba-c440e322d2ee\" xlink:show=\"new\" xlink:title=\"psysml:ba7b03ba-afee-4a2c-95ba-c440e322d2ee\" xlink:type=\"simple\"><rect fill=\"#FEFECE\" filter=\"url(#f12rqkuyawqu2m)\" height=\"40\" id=\"E5\" style=\"stroke: #A80036; stroke-width: 1.5;\" width=\"40\" x=\"97\" y=\"41\"/><ellipse cx=\"112\" cy=\"57\" fill=\"#008000\" rx=\"11\" ry=\"11\" style=\"stroke: #A80036; stroke-width: 1.0;\"/><path d=\"M110.9063,57.375 L110.9063,61.0469 L112.5313,61.0469 Q113.7031,61.0469 114.1719,60.6563 Q114.6406,60.25 114.6406,59.25 Q114.6406,58.25 114.1406,57.8125 Q113.6563,57.375 112.5313,57.375 L110.9063,57.375 Z M110.9063,52.5469 L110.9063,55.4219 L112.5313,55.4219 Q113.4531,55.4219 113.8438,55.0938 Q114.25,54.75 114.25,54 Q114.25,53.2344 113.8438,52.8906 Q113.4375,52.5469 112.5313,52.5469 L110.9063,52.5469 Z M108.5313,50.5938 L112.5313,50.5938 Q114.5938,50.5938 115.6406,51.375 Q116.6875,52.1563 116.6875,53.7188 Q116.6875,54.9219 116.0625,55.5938 Q115.4531,56.2656 114.2656,56.375 Q115.6875,56.5156 116.4063,57.3281 Q117.125,58.1406 117.125,59.5938 Q117.125,61.3906 116.0469,62.2031 Q114.9688,63 112.5313,63 L108.5313,63 L108.5313,50.5938 Z \"/><text fill=\"#000000\" font-family=\"sans-serif\" font-size=\"12\" lengthAdjust=\"spacingAndGlyphs\" textLength=\"8\" x=\"126\" y=\"61.1543\">P</text><line style=\"stroke: #A80036; stroke-width: 1.5;\" x1=\"98\" x2=\"136\" y1=\"73\" y2=\"73\"/></a><!--MD5=[60a26617385b1d2d0262a64233df1f8d]\n",
       "class E6--><a href=\"psysml:6b502337-597a-4c17-979b-8872526dd5b6\" target=\"_top\" title=\"psysml:6b502337-597a-4c17-979b-8872526dd5b6\" xlink:actuate=\"onRequest\" xlink:href=\"psysml:6b502337-597a-4c17-979b-8872526dd5b6\" xlink:show=\"new\" xlink:title=\"psysml:6b502337-597a-4c17-979b-8872526dd5b6\" xlink:type=\"simple\"><rect fill=\"#FEFECE\" filter=\"url(#f12rqkuyawqu2m)\" height=\"45.9375\" id=\"E6\" rx=\"10\" ry=\"10\" style=\"stroke: #A80036; stroke-width: 1.5;\" width=\"68\" x=\"32\" y=\"141\"/><ellipse cx=\"47\" cy=\"159.9688\" fill=\"#32CD32\" rx=\"11\" ry=\"11\" style=\"stroke: #A80036; stroke-width: 1.0;\"/><path d=\"M46.7969,155.6406 L46.7969,159.2656 L47.7969,159.2656 Q49,159.2656 49.4844,158.8594 Q49.9688,158.4531 49.9688,157.4531 Q49.9688,156.4531 49.4844,156.0469 Q49,155.6406 47.7969,155.6406 L46.7969,155.6406 Z M44.3438,153.5781 L47.7031,153.5781 Q50.2656,153.5781 51.3906,154.5 Q52.5156,155.4063 52.5156,157.4531 Q52.5156,159.5 51.3906,160.4219 Q50.2656,161.3281 47.7031,161.3281 L46.7969,161.3281 L46.7969,165.9688 L44.3438,165.9688 L44.3438,153.5781 Z \"/><text fill=\"#000000\" font-family=\"sans-serif\" font-size=\"12\" font-style=\"italic\" lengthAdjust=\"spacingAndGlyphs\" textLength=\"40\" x=\"59\" y=\"157.1387\">«part»</text><text fill=\"#000000\" font-family=\"sans-serif\" font-size=\"12\" lengthAdjust=\"spacingAndGlyphs\" textLength=\"6\" x=\"76\" y=\"171.1074\">y</text><line style=\"stroke: #A80036; stroke-width: 1.5;\" x1=\"33\" x2=\"99\" y1=\"178.9375\" y2=\"178.9375\"/></a><!--MD5=[2156ba9850f5573cc1fc38a6a4b2f02b]\n",
       "class E7--><a href=\"psysml:c0882630-04b8-4e6c-a043-bd39b4f2710a\" target=\"_top\" title=\"psysml:c0882630-04b8-4e6c-a043-bd39b4f2710a\" xlink:actuate=\"onRequest\" xlink:href=\"psysml:c0882630-04b8-4e6c-a043-bd39b4f2710a\" xlink:show=\"new\" xlink:title=\"psysml:c0882630-04b8-4e6c-a043-bd39b4f2710a\" xlink:type=\"simple\"><rect fill=\"#FEFECE\" filter=\"url(#f12rqkuyawqu2m)\" height=\"45.9375\" id=\"E7\" rx=\"10\" ry=\"10\" style=\"stroke: #A80036; stroke-width: 1.5;\" width=\"68\" x=\"135\" y=\"141\"/><ellipse cx=\"150\" cy=\"159.9688\" fill=\"#32CD32\" rx=\"11\" ry=\"11\" style=\"stroke: #A80036; stroke-width: 1.0;\"/><path d=\"M149.7969,155.6406 L149.7969,159.2656 L150.7969,159.2656 Q152,159.2656 152.4844,158.8594 Q152.9688,158.4531 152.9688,157.4531 Q152.9688,156.4531 152.4844,156.0469 Q152,155.6406 150.7969,155.6406 L149.7969,155.6406 Z M147.3438,153.5781 L150.7031,153.5781 Q153.2656,153.5781 154.3906,154.5 Q155.5156,155.4063 155.5156,157.4531 Q155.5156,159.5 154.3906,160.4219 Q153.2656,161.3281 150.7031,161.3281 L149.7969,161.3281 L149.7969,165.9688 L147.3438,165.9688 L147.3438,153.5781 Z \"/><text fill=\"#000000\" font-family=\"sans-serif\" font-size=\"12\" font-style=\"italic\" lengthAdjust=\"spacingAndGlyphs\" textLength=\"40\" x=\"162\" y=\"157.1387\">«part»</text><text fill=\"#000000\" font-family=\"sans-serif\" font-size=\"12\" lengthAdjust=\"spacingAndGlyphs\" textLength=\"16\" x=\"174\" y=\"171.1074\">p1</text><line style=\"stroke: #A80036; stroke-width: 1.5;\" x1=\"136\" x2=\"202\" y1=\"178.9375\" y2=\"178.9375\"/></a><!--MD5=[209b3feb70ccb6233bfe1053d122c12c]\n",
       "reverse link E2 to E3--><a href=\"psysml:d551e406-73fb-4a91-a080-fc440127a640\" target=\"_top\" title=\"psysml:d551e406-73fb-4a91-a080-fc440127a640\" xlink:actuate=\"onRequest\" xlink:href=\"psysml:d551e406-73fb-4a91-a080-fc440127a640\" xlink:show=\"new\" xlink:title=\"psysml:d551e406-73fb-4a91-a080-fc440127a640\" xlink:type=\"simple\"><path d=\"M117,306.44 C117,321.87 117,339.47 117,352.98 \" fill=\"none\" id=\"E2&lt;-E3\" style=\"stroke: #A80036; stroke-width: 1.0;\"/><polygon fill=\"#A80036\" points=\"117,293.06,113,299.06,117,305.06,121,299.06,117,293.06\" style=\"stroke: #A80036; stroke-width: 1.0;\"/></a><!--MD5=[4672eba38e49728da53d11aeb285b987]\n",
       "reverse link E3 to E4--><a href=\"psysml:0c62ef63-43f3-4799-a069-927499b27fb4\" target=\"_top\" title=\"psysml:0c62ef63-43f3-4799-a069-927499b27fb4\" xlink:actuate=\"onRequest\" xlink:href=\"psysml:0c62ef63-43f3-4799-a069-927499b27fb4\" xlink:show=\"new\" xlink:title=\"psysml:0c62ef63-43f3-4799-a069-927499b27fb4\" xlink:type=\"simple\"><path d=\"M117,412.44 C117,427.87 117,445.47 117,458.98 \" fill=\"none\" id=\"E3&lt;-E4\" style=\"stroke: #A80036; stroke-width: 1.0;\"/><polygon fill=\"#A80036\" points=\"117,399.06,113,405.06,117,411.06,121,405.06,117,399.06\" style=\"stroke: #A80036; stroke-width: 1.0;\"/></a><!--MD5=[85d356282659285ab4b2cfe2f634dd2b]\n",
       "reverse link E5 to E6--><a href=\"psysml:bccb9dd4-409f-48ce-8915-27f20628680f\" target=\"_top\" title=\"psysml:bccb9dd4-409f-48ce-8915-27f20628680f\" xlink:actuate=\"onRequest\" xlink:href=\"psysml:bccb9dd4-409f-48ce-8915-27f20628680f\" xlink:show=\"new\" xlink:title=\"psysml:bccb9dd4-409f-48ce-8915-27f20628680f\" xlink:type=\"simple\"><path d=\"M101.3,93.09 C93.51,108.51 84.29,126.78 77.22,140.77 \" fill=\"none\" id=\"E5&lt;-E6\" style=\"stroke: #A80036; stroke-width: 1.0;\"/><polygon fill=\"#A80036\" points=\"107.17,81.47,100.895,85.0231,101.7613,92.1819,108.0363,88.6289,107.17,81.47\" style=\"stroke: #A80036; stroke-width: 1.0;\"/></a><!--MD5=[2351f337d6de0f557b50152ba70847b5]\n",
       "link E6 to E2--><a href=\"psysml:3c2ac290-8ac1-4000-af3e-5bcf9ecf7966\" target=\"_top\" title=\"psysml:3c2ac290-8ac1-4000-af3e-5bcf9ecf7966\" xlink:actuate=\"onRequest\" xlink:href=\"psysml:3c2ac290-8ac1-4000-af3e-5bcf9ecf7966\" xlink:show=\"new\" xlink:title=\"psysml:3c2ac290-8ac1-4000-af3e-5bcf9ecf7966\" xlink:type=\"simple\"><path d=\"M76.82,187.06 C85.47,204.7 97.55,229.34 106.2,246.98 \" fill=\"none\" id=\"E6-E2\" style=\"stroke: #A80036; stroke-width: 3.0;\"/></a><!--MD5=[452b418e7f8a40397a49b8c0a78acc5b]\n",
       "reverse link E5 to E7--><a href=\"psysml:97bf4e08-a4b3-492a-87d8-6adc842be5d3\" target=\"_top\" title=\"psysml:97bf4e08-a4b3-492a-87d8-6adc842be5d3\" xlink:actuate=\"onRequest\" xlink:href=\"psysml:97bf4e08-a4b3-492a-87d8-6adc842be5d3\" xlink:show=\"new\" xlink:title=\"psysml:97bf4e08-a4b3-492a-87d8-6adc842be5d3\" xlink:type=\"simple\"><path d=\"M133.01,93.09 C140.95,108.51 150.35,126.78 157.56,140.77 \" fill=\"none\" id=\"E5&lt;-E7\" style=\"stroke: #A80036; stroke-width: 1.0;\"/><polygon fill=\"#A80036\" points=\"127.03,81.47,126.2165,88.6351,132.5176,92.1418,133.331,84.9767,127.03,81.47\" style=\"stroke: #A80036; stroke-width: 1.0;\"/></a><!--MD5=[583832df87f4419a098336a29a52fa00]\n",
       "link E7 to E2--><a href=\"psysml:6815ba90-0374-438b-ad93-53c34ddf71b8\" target=\"_top\" title=\"psysml:6815ba90-0374-438b-ad93-53c34ddf71b8\" xlink:actuate=\"onRequest\" xlink:href=\"psysml:6815ba90-0374-438b-ad93-53c34ddf71b8\" xlink:show=\"new\" xlink:title=\"psysml:6815ba90-0374-438b-ad93-53c34ddf71b8\" xlink:type=\"simple\"><path d=\"M157.97,187.06 C151.91,199.19 144.19,214.62 137.09,228.82 \" fill=\"none\" id=\"E7-&gt;E2\" style=\"stroke: #A80036; stroke-width: 1.0;\"/><polygon fill=\"none\" points=\"143.22,232.22,128.01,246.98,130.7,225.96,143.22,232.22\" style=\"stroke: #A80036; stroke-width: 1.0;\"/></a><!--MD5=[b7c8eac2e5850784eb8351e12af9a629]\n",
       "@startuml\r\n",
       " \r\n",
       "package \"ConnectionTest\" as E1  [[psysml:22aef044-e637-4155-a6c9-7ceaf878199d ]]  {\r\n",
       "comp usage \"p\" as E2 << << (P,limegreen) part>> [[psysml:4372fe5d-a54c-4736-ace6-05c35a4b2fd0 ]] {\r\n",
       "}\r\n",
       "comp usage \"x\" as E3 << << (P,limegreen) part>> [[psysml:3f2b8857-d9ea-41c6-bb7a-db05d1986c1a ]] {\r\n",
       "}\r\n",
       "comp usage \"x1\" as E4 << << (P,limegreen) part>> [[psysml:e84cebed-6405-49c5-b413-5d504fb47cee ]] {\r\n",
       "}\r\n",
       "comp def \"P\" as E5 << << (B,green) >> [[psysml:ba7b03ba-afee-4a2c-95ba-c440e322d2ee ]] {\r\n",
       "}\r\n",
       "comp usage \"y\" as E6 << << (P,limegreen) part>> [[psysml:6b502337-597a-4c17-979b-8872526dd5b6 ]] {\r\n",
       "}\r\n",
       "comp usage \"p1\" as E7 << << (P,limegreen) part>> [[psysml:c0882630-04b8-4e6c-a043-bd39b4f2710a ]] {\r\n",
       "}\r\n",
       "E2 *- - E3 [[psysml:d551e406-73fb-4a91-a080-fc440127a640 ]] \r\n",
       "E3 *- - E4 [[psysml:0c62ef63-43f3-4799-a069-927499b27fb4 ]] \r\n",
       "E5 *- - E6 [[psysml:bccb9dd4-409f-48ce-8915-27f20628680f ]] \r\n",
       "E6 -[thickness=3]- E2 [[psysml:3c2ac290-8ac1-4000-af3e-5bcf9ecf7966 ]] \r\n",
       "E5 *- - E7 [[psysml:97bf4e08-a4b3-492a-87d8-6adc842be5d3 ]] \r\n",
       "E7 - -|> E2 [[psysml:6815ba90-0374-438b-ad93-53c34ddf71b8 ]] \r\n",
       "}\r\n",
       "@enduml\r\n",
       "\n",
       "PlantUML version 1.2020.13(Sat Jun 13 12:26:38 UTC 2020)\n",
       "(EPL source distribution)\n",
       "Java Runtime: OpenJDK Runtime Environment\n",
       "JVM: OpenJDK 64-Bit Server VM\n",
       "Default Encoding: UTF-8\n",
       "Language: en\n",
       "Country: null\n",
       "--></g></svg>"
      ]
     },
     "execution_count": 35,
     "metadata": {},
     "output_type": "execute_result"
    }
   ],
   "source": [
    "%viz --style=\"PLANTUML\" --view=\"Sequence\" \"ConnectionTest\""
   ]
  },
  {
   "cell_type": "code",
   "execution_count": 36,
   "id": "9bef3f65",
   "metadata": {
    "execution": {
     "iopub.execute_input": "2021-06-30T09:21:36.638261Z",
     "iopub.status.busy": "2021-06-30T09:21:36.636990Z",
     "iopub.status.idle": "2021-06-30T09:21:36.723611Z",
     "shell.execute_reply": "2021-06-30T09:21:36.722497Z"
    }
   },
   "outputs": [
    {
     "data": {
      "image/svg+xml": [
       "<?xml version=\"1.0\" encoding=\"UTF-8\" standalone=\"no\"?><svg xmlns=\"http://www.w3.org/2000/svg\" xmlns:xlink=\"http://www.w3.org/1999/xlink\" contentScriptType=\"application/ecmascript\" contentStyleType=\"text/css\" height=\"533px\" preserveAspectRatio=\"none\" style=\"width:241px;height:533px;\" version=\"1.1\" viewBox=\"0 0 241 533\" width=\"241px\" zoomAndPan=\"magnify\"><defs><filter height=\"300%\" id=\"f12rqkuyawqu2m\" width=\"300%\" x=\"-1\" y=\"-1\"><feGaussianBlur result=\"blurOut\" stdDeviation=\"2.0\"/><feColorMatrix in=\"blurOut\" result=\"blurOut2\" type=\"matrix\" values=\"0 0 0 0 0 0 0 0 0 0 0 0 0 0 0 0 0 0 .4 0\"/><feOffset dx=\"4.0\" dy=\"4.0\" in=\"blurOut2\" result=\"blurOut3\"/><feBlend in=\"SourceGraphic\" in2=\"blurOut3\" mode=\"normal\"/></filter></defs><g><!--MD5=[fbc87193dbaf4d95561dea2c320d4a47]\n",
       "cluster E1--><a href=\"psysml:22aef044-e637-4155-a6c9-7ceaf878199d\" target=\"_top\" title=\"psysml:22aef044-e637-4155-a6c9-7ceaf878199d\" xlink:actuate=\"onRequest\" xlink:href=\"psysml:22aef044-e637-4155-a6c9-7ceaf878199d\" xlink:show=\"new\" xlink:title=\"psysml:22aef044-e637-4155-a6c9-7ceaf878199d\" xlink:type=\"simple\"><polygon fill=\"#FFFFFF\" filter=\"url(#f12rqkuyawqu2m)\" points=\"16,6,147,6,154,28.2969,219,28.2969,219,521,16,521,16,6\" style=\"stroke: #000000; stroke-width: 1.5;\"/><line style=\"stroke: #000000; stroke-width: 1.5;\" x1=\"16\" x2=\"154\" y1=\"28.2969\" y2=\"28.2969\"/><text fill=\"#000000\" font-family=\"sans-serif\" font-size=\"14\" font-weight=\"bold\" lengthAdjust=\"spacingAndGlyphs\" textLength=\"125\" x=\"20\" y=\"20.9951\">ConnectionTest</text></a><!--MD5=[b4997ac47864f28c2f74865a473b2911]\n",
       "class E2--><a href=\"psysml:4372fe5d-a54c-4736-ace6-05c35a4b2fd0\" target=\"_top\" title=\"psysml:4372fe5d-a54c-4736-ace6-05c35a4b2fd0\" xlink:actuate=\"onRequest\" xlink:href=\"psysml:4372fe5d-a54c-4736-ace6-05c35a4b2fd0\" xlink:show=\"new\" xlink:title=\"psysml:4372fe5d-a54c-4736-ace6-05c35a4b2fd0\" xlink:type=\"simple\"><rect fill=\"#FEFECE\" filter=\"url(#f12rqkuyawqu2m)\" height=\"45.9375\" id=\"E2\" rx=\"10\" ry=\"10\" style=\"stroke: #A80036; stroke-width: 1.5;\" width=\"68\" x=\"83\" y=\"247\"/><ellipse cx=\"98\" cy=\"265.9688\" fill=\"#32CD32\" rx=\"11\" ry=\"11\" style=\"stroke: #A80036; stroke-width: 1.0;\"/><path d=\"M97.7969,261.6406 L97.7969,265.2656 L98.7969,265.2656 Q100,265.2656 100.4844,264.8594 Q100.9688,264.4531 100.9688,263.4531 Q100.9688,262.4531 100.4844,262.0469 Q100,261.6406 98.7969,261.6406 L97.7969,261.6406 Z M95.3438,259.5781 L98.7031,259.5781 Q101.2656,259.5781 102.3906,260.5 Q103.5156,261.4063 103.5156,263.4531 Q103.5156,265.5 102.3906,266.4219 Q101.2656,267.3281 98.7031,267.3281 L97.7969,267.3281 L97.7969,271.9688 L95.3438,271.9688 L95.3438,259.5781 Z \"/><text fill=\"#000000\" font-family=\"sans-serif\" font-size=\"12\" font-style=\"italic\" lengthAdjust=\"spacingAndGlyphs\" textLength=\"40\" x=\"110\" y=\"263.1387\">«part»</text><text fill=\"#000000\" font-family=\"sans-serif\" font-size=\"12\" lengthAdjust=\"spacingAndGlyphs\" textLength=\"8\" x=\"126\" y=\"277.1074\">p</text><line style=\"stroke: #A80036; stroke-width: 1.5;\" x1=\"84\" x2=\"150\" y1=\"284.9375\" y2=\"284.9375\"/></a><!--MD5=[09b614a08d8cba4a07c9adeb5e0fee81]\n",
       "class E3--><a href=\"psysml:3f2b8857-d9ea-41c6-bb7a-db05d1986c1a\" target=\"_top\" title=\"psysml:3f2b8857-d9ea-41c6-bb7a-db05d1986c1a\" xlink:actuate=\"onRequest\" xlink:href=\"psysml:3f2b8857-d9ea-41c6-bb7a-db05d1986c1a\" xlink:show=\"new\" xlink:title=\"psysml:3f2b8857-d9ea-41c6-bb7a-db05d1986c1a\" xlink:type=\"simple\"><rect fill=\"#FEFECE\" filter=\"url(#f12rqkuyawqu2m)\" height=\"45.9375\" id=\"E3\" rx=\"10\" ry=\"10\" style=\"stroke: #A80036; stroke-width: 1.5;\" width=\"68\" x=\"83\" y=\"353\"/><ellipse cx=\"98\" cy=\"371.9688\" fill=\"#32CD32\" rx=\"11\" ry=\"11\" style=\"stroke: #A80036; stroke-width: 1.0;\"/><path d=\"M97.7969,367.6406 L97.7969,371.2656 L98.7969,371.2656 Q100,371.2656 100.4844,370.8594 Q100.9688,370.4531 100.9688,369.4531 Q100.9688,368.4531 100.4844,368.0469 Q100,367.6406 98.7969,367.6406 L97.7969,367.6406 Z M95.3438,365.5781 L98.7031,365.5781 Q101.2656,365.5781 102.3906,366.5 Q103.5156,367.4063 103.5156,369.4531 Q103.5156,371.5 102.3906,372.4219 Q101.2656,373.3281 98.7031,373.3281 L97.7969,373.3281 L97.7969,377.9688 L95.3438,377.9688 L95.3438,365.5781 Z \"/><text fill=\"#000000\" font-family=\"sans-serif\" font-size=\"12\" font-style=\"italic\" lengthAdjust=\"spacingAndGlyphs\" textLength=\"40\" x=\"110\" y=\"369.1387\">«part»</text><text fill=\"#000000\" font-family=\"sans-serif\" font-size=\"12\" lengthAdjust=\"spacingAndGlyphs\" textLength=\"6\" x=\"127\" y=\"383.1074\">x</text><line style=\"stroke: #A80036; stroke-width: 1.5;\" x1=\"84\" x2=\"150\" y1=\"390.9375\" y2=\"390.9375\"/></a><!--MD5=[ebbe1d658d1005bcc118a6aa81145e00]\n",
       "class E4--><a href=\"psysml:e84cebed-6405-49c5-b413-5d504fb47cee\" target=\"_top\" title=\"psysml:e84cebed-6405-49c5-b413-5d504fb47cee\" xlink:actuate=\"onRequest\" xlink:href=\"psysml:e84cebed-6405-49c5-b413-5d504fb47cee\" xlink:show=\"new\" xlink:title=\"psysml:e84cebed-6405-49c5-b413-5d504fb47cee\" xlink:type=\"simple\"><rect fill=\"#FEFECE\" filter=\"url(#f12rqkuyawqu2m)\" height=\"45.9375\" id=\"E4\" rx=\"10\" ry=\"10\" style=\"stroke: #A80036; stroke-width: 1.5;\" width=\"68\" x=\"83\" y=\"459\"/><ellipse cx=\"98\" cy=\"477.9688\" fill=\"#32CD32\" rx=\"11\" ry=\"11\" style=\"stroke: #A80036; stroke-width: 1.0;\"/><path d=\"M97.7969,473.6406 L97.7969,477.2656 L98.7969,477.2656 Q100,477.2656 100.4844,476.8594 Q100.9688,476.4531 100.9688,475.4531 Q100.9688,474.4531 100.4844,474.0469 Q100,473.6406 98.7969,473.6406 L97.7969,473.6406 Z M95.3438,471.5781 L98.7031,471.5781 Q101.2656,471.5781 102.3906,472.5 Q103.5156,473.4063 103.5156,475.4531 Q103.5156,477.5 102.3906,478.4219 Q101.2656,479.3281 98.7031,479.3281 L97.7969,479.3281 L97.7969,483.9688 L95.3438,483.9688 L95.3438,471.5781 Z \"/><text fill=\"#000000\" font-family=\"sans-serif\" font-size=\"12\" font-style=\"italic\" lengthAdjust=\"spacingAndGlyphs\" textLength=\"40\" x=\"110\" y=\"475.1387\">«part»</text><text fill=\"#000000\" font-family=\"sans-serif\" font-size=\"12\" lengthAdjust=\"spacingAndGlyphs\" textLength=\"14\" x=\"123\" y=\"489.1074\">x1</text><line style=\"stroke: #A80036; stroke-width: 1.5;\" x1=\"84\" x2=\"150\" y1=\"496.9375\" y2=\"496.9375\"/></a><!--MD5=[270fce915f116d4de14055a7c1d9a0f3]\n",
       "class E5--><a href=\"psysml:ba7b03ba-afee-4a2c-95ba-c440e322d2ee\" target=\"_top\" title=\"psysml:ba7b03ba-afee-4a2c-95ba-c440e322d2ee\" xlink:actuate=\"onRequest\" xlink:href=\"psysml:ba7b03ba-afee-4a2c-95ba-c440e322d2ee\" xlink:show=\"new\" xlink:title=\"psysml:ba7b03ba-afee-4a2c-95ba-c440e322d2ee\" xlink:type=\"simple\"><rect fill=\"#FEFECE\" filter=\"url(#f12rqkuyawqu2m)\" height=\"40\" id=\"E5\" style=\"stroke: #A80036; stroke-width: 1.5;\" width=\"40\" x=\"97\" y=\"41\"/><ellipse cx=\"112\" cy=\"57\" fill=\"#008000\" rx=\"11\" ry=\"11\" style=\"stroke: #A80036; stroke-width: 1.0;\"/><path d=\"M110.9063,57.375 L110.9063,61.0469 L112.5313,61.0469 Q113.7031,61.0469 114.1719,60.6563 Q114.6406,60.25 114.6406,59.25 Q114.6406,58.25 114.1406,57.8125 Q113.6563,57.375 112.5313,57.375 L110.9063,57.375 Z M110.9063,52.5469 L110.9063,55.4219 L112.5313,55.4219 Q113.4531,55.4219 113.8438,55.0938 Q114.25,54.75 114.25,54 Q114.25,53.2344 113.8438,52.8906 Q113.4375,52.5469 112.5313,52.5469 L110.9063,52.5469 Z M108.5313,50.5938 L112.5313,50.5938 Q114.5938,50.5938 115.6406,51.375 Q116.6875,52.1563 116.6875,53.7188 Q116.6875,54.9219 116.0625,55.5938 Q115.4531,56.2656 114.2656,56.375 Q115.6875,56.5156 116.4063,57.3281 Q117.125,58.1406 117.125,59.5938 Q117.125,61.3906 116.0469,62.2031 Q114.9688,63 112.5313,63 L108.5313,63 L108.5313,50.5938 Z \"/><text fill=\"#000000\" font-family=\"sans-serif\" font-size=\"12\" lengthAdjust=\"spacingAndGlyphs\" textLength=\"8\" x=\"126\" y=\"61.1543\">P</text><line style=\"stroke: #A80036; stroke-width: 1.5;\" x1=\"98\" x2=\"136\" y1=\"73\" y2=\"73\"/></a><!--MD5=[60a26617385b1d2d0262a64233df1f8d]\n",
       "class E6--><a href=\"psysml:6b502337-597a-4c17-979b-8872526dd5b6\" target=\"_top\" title=\"psysml:6b502337-597a-4c17-979b-8872526dd5b6\" xlink:actuate=\"onRequest\" xlink:href=\"psysml:6b502337-597a-4c17-979b-8872526dd5b6\" xlink:show=\"new\" xlink:title=\"psysml:6b502337-597a-4c17-979b-8872526dd5b6\" xlink:type=\"simple\"><rect fill=\"#FEFECE\" filter=\"url(#f12rqkuyawqu2m)\" height=\"45.9375\" id=\"E6\" rx=\"10\" ry=\"10\" style=\"stroke: #A80036; stroke-width: 1.5;\" width=\"68\" x=\"32\" y=\"141\"/><ellipse cx=\"47\" cy=\"159.9688\" fill=\"#32CD32\" rx=\"11\" ry=\"11\" style=\"stroke: #A80036; stroke-width: 1.0;\"/><path d=\"M46.7969,155.6406 L46.7969,159.2656 L47.7969,159.2656 Q49,159.2656 49.4844,158.8594 Q49.9688,158.4531 49.9688,157.4531 Q49.9688,156.4531 49.4844,156.0469 Q49,155.6406 47.7969,155.6406 L46.7969,155.6406 Z M44.3438,153.5781 L47.7031,153.5781 Q50.2656,153.5781 51.3906,154.5 Q52.5156,155.4063 52.5156,157.4531 Q52.5156,159.5 51.3906,160.4219 Q50.2656,161.3281 47.7031,161.3281 L46.7969,161.3281 L46.7969,165.9688 L44.3438,165.9688 L44.3438,153.5781 Z \"/><text fill=\"#000000\" font-family=\"sans-serif\" font-size=\"12\" font-style=\"italic\" lengthAdjust=\"spacingAndGlyphs\" textLength=\"40\" x=\"59\" y=\"157.1387\">«part»</text><text fill=\"#000000\" font-family=\"sans-serif\" font-size=\"12\" lengthAdjust=\"spacingAndGlyphs\" textLength=\"6\" x=\"76\" y=\"171.1074\">y</text><line style=\"stroke: #A80036; stroke-width: 1.5;\" x1=\"33\" x2=\"99\" y1=\"178.9375\" y2=\"178.9375\"/></a><!--MD5=[2156ba9850f5573cc1fc38a6a4b2f02b]\n",
       "class E7--><a href=\"psysml:c0882630-04b8-4e6c-a043-bd39b4f2710a\" target=\"_top\" title=\"psysml:c0882630-04b8-4e6c-a043-bd39b4f2710a\" xlink:actuate=\"onRequest\" xlink:href=\"psysml:c0882630-04b8-4e6c-a043-bd39b4f2710a\" xlink:show=\"new\" xlink:title=\"psysml:c0882630-04b8-4e6c-a043-bd39b4f2710a\" xlink:type=\"simple\"><rect fill=\"#FEFECE\" filter=\"url(#f12rqkuyawqu2m)\" height=\"45.9375\" id=\"E7\" rx=\"10\" ry=\"10\" style=\"stroke: #A80036; stroke-width: 1.5;\" width=\"68\" x=\"135\" y=\"141\"/><ellipse cx=\"150\" cy=\"159.9688\" fill=\"#32CD32\" rx=\"11\" ry=\"11\" style=\"stroke: #A80036; stroke-width: 1.0;\"/><path d=\"M149.7969,155.6406 L149.7969,159.2656 L150.7969,159.2656 Q152,159.2656 152.4844,158.8594 Q152.9688,158.4531 152.9688,157.4531 Q152.9688,156.4531 152.4844,156.0469 Q152,155.6406 150.7969,155.6406 L149.7969,155.6406 Z M147.3438,153.5781 L150.7031,153.5781 Q153.2656,153.5781 154.3906,154.5 Q155.5156,155.4063 155.5156,157.4531 Q155.5156,159.5 154.3906,160.4219 Q153.2656,161.3281 150.7031,161.3281 L149.7969,161.3281 L149.7969,165.9688 L147.3438,165.9688 L147.3438,153.5781 Z \"/><text fill=\"#000000\" font-family=\"sans-serif\" font-size=\"12\" font-style=\"italic\" lengthAdjust=\"spacingAndGlyphs\" textLength=\"40\" x=\"162\" y=\"157.1387\">«part»</text><text fill=\"#000000\" font-family=\"sans-serif\" font-size=\"12\" lengthAdjust=\"spacingAndGlyphs\" textLength=\"16\" x=\"174\" y=\"171.1074\">p1</text><line style=\"stroke: #A80036; stroke-width: 1.5;\" x1=\"136\" x2=\"202\" y1=\"178.9375\" y2=\"178.9375\"/></a><!--MD5=[209b3feb70ccb6233bfe1053d122c12c]\n",
       "reverse link E2 to E3--><a href=\"psysml:d551e406-73fb-4a91-a080-fc440127a640\" target=\"_top\" title=\"psysml:d551e406-73fb-4a91-a080-fc440127a640\" xlink:actuate=\"onRequest\" xlink:href=\"psysml:d551e406-73fb-4a91-a080-fc440127a640\" xlink:show=\"new\" xlink:title=\"psysml:d551e406-73fb-4a91-a080-fc440127a640\" xlink:type=\"simple\"><path d=\"M117,306.44 C117,321.87 117,339.47 117,352.98 \" fill=\"none\" id=\"E2&lt;-E3\" style=\"stroke: #A80036; stroke-width: 1.0;\"/><polygon fill=\"#A80036\" points=\"117,293.06,113,299.06,117,305.06,121,299.06,117,293.06\" style=\"stroke: #A80036; stroke-width: 1.0;\"/></a><!--MD5=[4672eba38e49728da53d11aeb285b987]\n",
       "reverse link E3 to E4--><a href=\"psysml:0c62ef63-43f3-4799-a069-927499b27fb4\" target=\"_top\" title=\"psysml:0c62ef63-43f3-4799-a069-927499b27fb4\" xlink:actuate=\"onRequest\" xlink:href=\"psysml:0c62ef63-43f3-4799-a069-927499b27fb4\" xlink:show=\"new\" xlink:title=\"psysml:0c62ef63-43f3-4799-a069-927499b27fb4\" xlink:type=\"simple\"><path d=\"M117,412.44 C117,427.87 117,445.47 117,458.98 \" fill=\"none\" id=\"E3&lt;-E4\" style=\"stroke: #A80036; stroke-width: 1.0;\"/><polygon fill=\"#A80036\" points=\"117,399.06,113,405.06,117,411.06,121,405.06,117,399.06\" style=\"stroke: #A80036; stroke-width: 1.0;\"/></a><!--MD5=[85d356282659285ab4b2cfe2f634dd2b]\n",
       "reverse link E5 to E6--><a href=\"psysml:bccb9dd4-409f-48ce-8915-27f20628680f\" target=\"_top\" title=\"psysml:bccb9dd4-409f-48ce-8915-27f20628680f\" xlink:actuate=\"onRequest\" xlink:href=\"psysml:bccb9dd4-409f-48ce-8915-27f20628680f\" xlink:show=\"new\" xlink:title=\"psysml:bccb9dd4-409f-48ce-8915-27f20628680f\" xlink:type=\"simple\"><path d=\"M101.3,93.09 C93.51,108.51 84.29,126.78 77.22,140.77 \" fill=\"none\" id=\"E5&lt;-E6\" style=\"stroke: #A80036; stroke-width: 1.0;\"/><polygon fill=\"#A80036\" points=\"107.17,81.47,100.895,85.0231,101.7613,92.1819,108.0363,88.6289,107.17,81.47\" style=\"stroke: #A80036; stroke-width: 1.0;\"/></a><!--MD5=[2351f337d6de0f557b50152ba70847b5]\n",
       "link E6 to E2--><a href=\"psysml:3c2ac290-8ac1-4000-af3e-5bcf9ecf7966\" target=\"_top\" title=\"psysml:3c2ac290-8ac1-4000-af3e-5bcf9ecf7966\" xlink:actuate=\"onRequest\" xlink:href=\"psysml:3c2ac290-8ac1-4000-af3e-5bcf9ecf7966\" xlink:show=\"new\" xlink:title=\"psysml:3c2ac290-8ac1-4000-af3e-5bcf9ecf7966\" xlink:type=\"simple\"><path d=\"M76.82,187.06 C85.47,204.7 97.55,229.34 106.2,246.98 \" fill=\"none\" id=\"E6-E2\" style=\"stroke: #A80036; stroke-width: 3.0;\"/></a><!--MD5=[452b418e7f8a40397a49b8c0a78acc5b]\n",
       "reverse link E5 to E7--><a href=\"psysml:97bf4e08-a4b3-492a-87d8-6adc842be5d3\" target=\"_top\" title=\"psysml:97bf4e08-a4b3-492a-87d8-6adc842be5d3\" xlink:actuate=\"onRequest\" xlink:href=\"psysml:97bf4e08-a4b3-492a-87d8-6adc842be5d3\" xlink:show=\"new\" xlink:title=\"psysml:97bf4e08-a4b3-492a-87d8-6adc842be5d3\" xlink:type=\"simple\"><path d=\"M133.01,93.09 C140.95,108.51 150.35,126.78 157.56,140.77 \" fill=\"none\" id=\"E5&lt;-E7\" style=\"stroke: #A80036; stroke-width: 1.0;\"/><polygon fill=\"#A80036\" points=\"127.03,81.47,126.2165,88.6351,132.5176,92.1418,133.331,84.9767,127.03,81.47\" style=\"stroke: #A80036; stroke-width: 1.0;\"/></a><!--MD5=[583832df87f4419a098336a29a52fa00]\n",
       "link E7 to E2--><a href=\"psysml:6815ba90-0374-438b-ad93-53c34ddf71b8\" target=\"_top\" title=\"psysml:6815ba90-0374-438b-ad93-53c34ddf71b8\" xlink:actuate=\"onRequest\" xlink:href=\"psysml:6815ba90-0374-438b-ad93-53c34ddf71b8\" xlink:show=\"new\" xlink:title=\"psysml:6815ba90-0374-438b-ad93-53c34ddf71b8\" xlink:type=\"simple\"><path d=\"M157.97,187.06 C151.91,199.19 144.19,214.62 137.09,228.82 \" fill=\"none\" id=\"E7-&gt;E2\" style=\"stroke: #A80036; stroke-width: 1.0;\"/><polygon fill=\"none\" points=\"143.22,232.22,128.01,246.98,130.7,225.96,143.22,232.22\" style=\"stroke: #A80036; stroke-width: 1.0;\"/></a><!--MD5=[b7c8eac2e5850784eb8351e12af9a629]\n",
       "@startuml\r\n",
       " \r\n",
       "package \"ConnectionTest\" as E1  [[psysml:22aef044-e637-4155-a6c9-7ceaf878199d ]]  {\r\n",
       "comp usage \"p\" as E2 << << (P,limegreen) part>> [[psysml:4372fe5d-a54c-4736-ace6-05c35a4b2fd0 ]] {\r\n",
       "}\r\n",
       "comp usage \"x\" as E3 << << (P,limegreen) part>> [[psysml:3f2b8857-d9ea-41c6-bb7a-db05d1986c1a ]] {\r\n",
       "}\r\n",
       "comp usage \"x1\" as E4 << << (P,limegreen) part>> [[psysml:e84cebed-6405-49c5-b413-5d504fb47cee ]] {\r\n",
       "}\r\n",
       "comp def \"P\" as E5 << << (B,green) >> [[psysml:ba7b03ba-afee-4a2c-95ba-c440e322d2ee ]] {\r\n",
       "}\r\n",
       "comp usage \"y\" as E6 << << (P,limegreen) part>> [[psysml:6b502337-597a-4c17-979b-8872526dd5b6 ]] {\r\n",
       "}\r\n",
       "comp usage \"p1\" as E7 << << (P,limegreen) part>> [[psysml:c0882630-04b8-4e6c-a043-bd39b4f2710a ]] {\r\n",
       "}\r\n",
       "E2 *- - E3 [[psysml:d551e406-73fb-4a91-a080-fc440127a640 ]] \r\n",
       "E3 *- - E4 [[psysml:0c62ef63-43f3-4799-a069-927499b27fb4 ]] \r\n",
       "E5 *- - E6 [[psysml:bccb9dd4-409f-48ce-8915-27f20628680f ]] \r\n",
       "E6 -[thickness=3]- E2 [[psysml:3c2ac290-8ac1-4000-af3e-5bcf9ecf7966 ]] \r\n",
       "E5 *- - E7 [[psysml:97bf4e08-a4b3-492a-87d8-6adc842be5d3 ]] \r\n",
       "E7 - -|> E2 [[psysml:6815ba90-0374-438b-ad93-53c34ddf71b8 ]] \r\n",
       "}\r\n",
       "@enduml\r\n",
       "\n",
       "PlantUML version 1.2020.13(Sat Jun 13 12:26:38 UTC 2020)\n",
       "(EPL source distribution)\n",
       "Java Runtime: OpenJDK Runtime Environment\n",
       "JVM: OpenJDK 64-Bit Server VM\n",
       "Default Encoding: UTF-8\n",
       "Language: en\n",
       "Country: null\n",
       "--></g></svg>"
      ]
     },
     "execution_count": 36,
     "metadata": {},
     "output_type": "execute_result"
    }
   ],
   "source": [
    "%viz --style=\"PLANTUML\" --view=\"MIXED\" \"ConnectionTest\""
   ]
  },
  {
   "cell_type": "code",
   "execution_count": 37,
   "id": "39fced05",
   "metadata": {
    "execution": {
     "iopub.execute_input": "2021-06-30T09:21:36.776535Z",
     "iopub.status.busy": "2021-06-30T09:21:36.775436Z",
     "iopub.status.idle": "2021-06-30T09:21:36.855284Z",
     "shell.execute_reply": "2021-06-30T09:21:36.854516Z"
    }
   },
   "outputs": [
    {
     "data": {
      "image/svg+xml": [
       "<?xml version=\"1.0\" encoding=\"UTF-8\" standalone=\"no\"?><svg xmlns=\"http://www.w3.org/2000/svg\" xmlns:xlink=\"http://www.w3.org/1999/xlink\" contentScriptType=\"application/ecmascript\" contentStyleType=\"text/css\" height=\"539px\" preserveAspectRatio=\"none\" style=\"width:189px;height:539px;\" version=\"1.1\" viewBox=\"0 0 189 539\" width=\"189px\" zoomAndPan=\"magnify\"><defs/><g><!--MD5=[fbc87193dbaf4d95561dea2c320d4a47]\n",
       "cluster E1--><a href=\"psysml:22aef044-e637-4155-a6c9-7ceaf878199d\" target=\"_top\" title=\"psysml:22aef044-e637-4155-a6c9-7ceaf878199d\" xlink:actuate=\"onRequest\" xlink:href=\"psysml:22aef044-e637-4155-a6c9-7ceaf878199d\" xlink:show=\"new\" xlink:title=\"psysml:22aef044-e637-4155-a6c9-7ceaf878199d\" xlink:type=\"simple\"><polygon fill=\"#FFFFFF\" points=\"16,6,147,6,154,28.2969,167,28.2969,167,527,16,527,16,6\" style=\"stroke: #000000; stroke-width: 1.5;\"/><line style=\"stroke: #000000; stroke-width: 1.5;\" x1=\"16\" x2=\"154\" y1=\"28.2969\" y2=\"28.2969\"/><text fill=\"#000000\" font-family=\"sans-serif\" font-size=\"14\" font-weight=\"bold\" lengthAdjust=\"spacingAndGlyphs\" textLength=\"125\" x=\"20\" y=\"20.9951\">ConnectionTest</text></a><!--MD5=[b4997ac47864f28c2f74865a473b2911]\n",
       "class E2--><a href=\"psysml:4372fe5d-a54c-4736-ace6-05c35a4b2fd0\" target=\"_top\" title=\"psysml:4372fe5d-a54c-4736-ace6-05c35a4b2fd0\" xlink:actuate=\"onRequest\" xlink:href=\"psysml:4372fe5d-a54c-4736-ace6-05c35a4b2fd0\" xlink:show=\"new\" xlink:title=\"psysml:4372fe5d-a54c-4736-ace6-05c35a4b2fd0\" xlink:type=\"simple\"><rect fill=\"#FFFFFF\" height=\"45.9375\" id=\"E2\" rx=\"10\" ry=\"10\" style=\"stroke: #383838; stroke-width: 1.5;\" width=\"42\" x=\"70\" y=\"253\"/><text fill=\"#000000\" font-family=\"sans-serif\" font-size=\"12\" font-style=\"italic\" lengthAdjust=\"spacingAndGlyphs\" textLength=\"40\" x=\"71\" y=\"269.1387\">«part»</text><text fill=\"#000000\" font-family=\"sans-serif\" font-size=\"12\" lengthAdjust=\"spacingAndGlyphs\" textLength=\"8\" x=\"87\" y=\"283.1074\">p</text><line style=\"stroke: #383838; stroke-width: 1.5;\" x1=\"71\" x2=\"111\" y1=\"290.9375\" y2=\"290.9375\"/></a><!--MD5=[09b614a08d8cba4a07c9adeb5e0fee81]\n",
       "class E3--><a href=\"psysml:3f2b8857-d9ea-41c6-bb7a-db05d1986c1a\" target=\"_top\" title=\"psysml:3f2b8857-d9ea-41c6-bb7a-db05d1986c1a\" xlink:actuate=\"onRequest\" xlink:href=\"psysml:3f2b8857-d9ea-41c6-bb7a-db05d1986c1a\" xlink:show=\"new\" xlink:title=\"psysml:3f2b8857-d9ea-41c6-bb7a-db05d1986c1a\" xlink:type=\"simple\"><rect fill=\"#FFFFFF\" height=\"45.9375\" id=\"E3\" rx=\"10\" ry=\"10\" style=\"stroke: #383838; stroke-width: 1.5;\" width=\"42\" x=\"70\" y=\"359\"/><text fill=\"#000000\" font-family=\"sans-serif\" font-size=\"12\" font-style=\"italic\" lengthAdjust=\"spacingAndGlyphs\" textLength=\"40\" x=\"71\" y=\"375.1387\">«part»</text><text fill=\"#000000\" font-family=\"sans-serif\" font-size=\"12\" lengthAdjust=\"spacingAndGlyphs\" textLength=\"6\" x=\"88\" y=\"389.1074\">x</text><line style=\"stroke: #383838; stroke-width: 1.5;\" x1=\"71\" x2=\"111\" y1=\"396.9375\" y2=\"396.9375\"/></a><!--MD5=[ebbe1d658d1005bcc118a6aa81145e00]\n",
       "class E4--><a href=\"psysml:e84cebed-6405-49c5-b413-5d504fb47cee\" target=\"_top\" title=\"psysml:e84cebed-6405-49c5-b413-5d504fb47cee\" xlink:actuate=\"onRequest\" xlink:href=\"psysml:e84cebed-6405-49c5-b413-5d504fb47cee\" xlink:show=\"new\" xlink:title=\"psysml:e84cebed-6405-49c5-b413-5d504fb47cee\" xlink:type=\"simple\"><rect fill=\"#FFFFFF\" height=\"45.9375\" id=\"E4\" rx=\"10\" ry=\"10\" style=\"stroke: #383838; stroke-width: 1.5;\" width=\"42\" x=\"70\" y=\"465\"/><text fill=\"#000000\" font-family=\"sans-serif\" font-size=\"12\" font-style=\"italic\" lengthAdjust=\"spacingAndGlyphs\" textLength=\"40\" x=\"71\" y=\"481.1387\">«part»</text><text fill=\"#000000\" font-family=\"sans-serif\" font-size=\"12\" lengthAdjust=\"spacingAndGlyphs\" textLength=\"14\" x=\"84\" y=\"495.1074\">x1</text><line style=\"stroke: #383838; stroke-width: 1.5;\" x1=\"71\" x2=\"111\" y1=\"502.9375\" y2=\"502.9375\"/></a><!--MD5=[270fce915f116d4de14055a7c1d9a0f3]\n",
       "class E5--><a href=\"psysml:ba7b03ba-afee-4a2c-95ba-c440e322d2ee\" target=\"_top\" title=\"psysml:ba7b03ba-afee-4a2c-95ba-c440e322d2ee\" xlink:actuate=\"onRequest\" xlink:href=\"psysml:ba7b03ba-afee-4a2c-95ba-c440e322d2ee\" xlink:show=\"new\" xlink:title=\"psysml:ba7b03ba-afee-4a2c-95ba-c440e322d2ee\" xlink:type=\"simple\"><rect fill=\"#FFFFFF\" height=\"45.9375\" id=\"E5\" style=\"stroke: #383838; stroke-width: 1.5;\" width=\"66\" x=\"58\" y=\"41\"/><text fill=\"#000000\" font-family=\"sans-serif\" font-size=\"12\" font-style=\"italic\" lengthAdjust=\"spacingAndGlyphs\" textLength=\"64\" x=\"59\" y=\"57.1387\">«part def»</text><text fill=\"#000000\" font-family=\"sans-serif\" font-size=\"12\" lengthAdjust=\"spacingAndGlyphs\" textLength=\"8\" x=\"87\" y=\"71.1074\">P</text><line style=\"stroke: #383838; stroke-width: 1.5;\" x1=\"59\" x2=\"123\" y1=\"78.9375\" y2=\"78.9375\"/></a><!--MD5=[60a26617385b1d2d0262a64233df1f8d]\n",
       "class E6--><a href=\"psysml:6b502337-597a-4c17-979b-8872526dd5b6\" target=\"_top\" title=\"psysml:6b502337-597a-4c17-979b-8872526dd5b6\" xlink:actuate=\"onRequest\" xlink:href=\"psysml:6b502337-597a-4c17-979b-8872526dd5b6\" xlink:show=\"new\" xlink:title=\"psysml:6b502337-597a-4c17-979b-8872526dd5b6\" xlink:type=\"simple\"><rect fill=\"#FFFFFF\" height=\"45.9375\" id=\"E6\" rx=\"10\" ry=\"10\" style=\"stroke: #383838; stroke-width: 1.5;\" width=\"42\" x=\"32\" y=\"147\"/><text fill=\"#000000\" font-family=\"sans-serif\" font-size=\"12\" font-style=\"italic\" lengthAdjust=\"spacingAndGlyphs\" textLength=\"40\" x=\"33\" y=\"163.1387\">«part»</text><text fill=\"#000000\" font-family=\"sans-serif\" font-size=\"12\" lengthAdjust=\"spacingAndGlyphs\" textLength=\"6\" x=\"50\" y=\"177.1074\">y</text><line style=\"stroke: #383838; stroke-width: 1.5;\" x1=\"33\" x2=\"73\" y1=\"184.9375\" y2=\"184.9375\"/></a><!--MD5=[2156ba9850f5573cc1fc38a6a4b2f02b]\n",
       "class E7--><a href=\"psysml:c0882630-04b8-4e6c-a043-bd39b4f2710a\" target=\"_top\" title=\"psysml:c0882630-04b8-4e6c-a043-bd39b4f2710a\" xlink:actuate=\"onRequest\" xlink:href=\"psysml:c0882630-04b8-4e6c-a043-bd39b4f2710a\" xlink:show=\"new\" xlink:title=\"psysml:c0882630-04b8-4e6c-a043-bd39b4f2710a\" xlink:type=\"simple\"><rect fill=\"#FFFFFF\" height=\"45.9375\" id=\"E7\" rx=\"10\" ry=\"10\" style=\"stroke: #383838; stroke-width: 1.5;\" width=\"42\" x=\"109\" y=\"147\"/><text fill=\"#000000\" font-family=\"sans-serif\" font-size=\"12\" font-style=\"italic\" lengthAdjust=\"spacingAndGlyphs\" textLength=\"40\" x=\"110\" y=\"163.1387\">«part»</text><text fill=\"#000000\" font-family=\"sans-serif\" font-size=\"12\" lengthAdjust=\"spacingAndGlyphs\" textLength=\"16\" x=\"122\" y=\"177.1074\">p1</text><line style=\"stroke: #383838; stroke-width: 1.5;\" x1=\"110\" x2=\"150\" y1=\"184.9375\" y2=\"184.9375\"/></a><!--MD5=[209b3feb70ccb6233bfe1053d122c12c]\n",
       "reverse link E2 to E3--><a href=\"psysml:d551e406-73fb-4a91-a080-fc440127a640\" target=\"_top\" title=\"psysml:d551e406-73fb-4a91-a080-fc440127a640\" xlink:actuate=\"onRequest\" xlink:href=\"psysml:d551e406-73fb-4a91-a080-fc440127a640\" xlink:show=\"new\" xlink:title=\"psysml:d551e406-73fb-4a91-a080-fc440127a640\" xlink:type=\"simple\"><path d=\"M91,312.44 C91,327.87 91,345.47 91,358.98 \" fill=\"none\" id=\"E2&lt;-E3\" style=\"stroke: #383838; stroke-width: 1.0;\"/><polygon fill=\"#383838\" points=\"91,299.06,87,305.06,91,311.06,95,305.06,91,299.06\" style=\"stroke: #383838; stroke-width: 1.0;\"/></a><!--MD5=[4672eba38e49728da53d11aeb285b987]\n",
       "reverse link E3 to E4--><a href=\"psysml:0c62ef63-43f3-4799-a069-927499b27fb4\" target=\"_top\" title=\"psysml:0c62ef63-43f3-4799-a069-927499b27fb4\" xlink:actuate=\"onRequest\" xlink:href=\"psysml:0c62ef63-43f3-4799-a069-927499b27fb4\" xlink:show=\"new\" xlink:title=\"psysml:0c62ef63-43f3-4799-a069-927499b27fb4\" xlink:type=\"simple\"><path d=\"M91,418.44 C91,433.87 91,451.47 91,464.98 \" fill=\"none\" id=\"E3&lt;-E4\" style=\"stroke: #383838; stroke-width: 1.0;\"/><polygon fill=\"#383838\" points=\"91,405.06,87,411.06,91,417.06,95,411.06,91,405.06\" style=\"stroke: #383838; stroke-width: 1.0;\"/></a><!--MD5=[85d356282659285ab4b2cfe2f634dd2b]\n",
       "reverse link E5 to E6--><a href=\"psysml:bccb9dd4-409f-48ce-8915-27f20628680f\" target=\"_top\" title=\"psysml:bccb9dd4-409f-48ce-8915-27f20628680f\" xlink:actuate=\"onRequest\" xlink:href=\"psysml:bccb9dd4-409f-48ce-8915-27f20628680f\" xlink:show=\"new\" xlink:title=\"psysml:bccb9dd4-409f-48ce-8915-27f20628680f\" xlink:type=\"simple\"><path d=\"M78.4,99.49 C72.68,115.15 66.08,133.19 61.05,146.98 \" fill=\"none\" id=\"E5&lt;-E6\" style=\"stroke: #383838; stroke-width: 1.0;\"/><polygon fill=\"#383838\" points=\"82.94,87.06,77.1196,91.317,78.8105,98.3271,84.6309,94.07,82.94,87.06\" style=\"stroke: #383838; stroke-width: 1.0;\"/></a><!--MD5=[2351f337d6de0f557b50152ba70847b5]\n",
       "link E6 to E2--><a href=\"psysml:3c2ac290-8ac1-4000-af3e-5bcf9ecf7966\" target=\"_top\" title=\"psysml:3c2ac290-8ac1-4000-af3e-5bcf9ecf7966\" xlink:actuate=\"onRequest\" xlink:href=\"psysml:3c2ac290-8ac1-4000-af3e-5bcf9ecf7966\" xlink:show=\"new\" xlink:title=\"psysml:3c2ac290-8ac1-4000-af3e-5bcf9ecf7966\" xlink:type=\"simple\"><path d=\"M61.06,193.06 C67.51,210.7 76.51,235.34 82.95,252.98 \" fill=\"none\" id=\"E6-E2\" style=\"stroke: #383838; stroke-width: 3.0;\"/></a><!--MD5=[452b418e7f8a40397a49b8c0a78acc5b]\n",
       "reverse link E5 to E7--><a href=\"psysml:97bf4e08-a4b3-492a-87d8-6adc842be5d3\" target=\"_top\" title=\"psysml:97bf4e08-a4b3-492a-87d8-6adc842be5d3\" xlink:actuate=\"onRequest\" xlink:href=\"psysml:97bf4e08-a4b3-492a-87d8-6adc842be5d3\" xlink:show=\"new\" xlink:title=\"psysml:97bf4e08-a4b3-492a-87d8-6adc842be5d3\" xlink:type=\"simple\"><path d=\"M103.94,99.49 C109.8,115.15 116.57,133.19 121.74,146.98 \" fill=\"none\" id=\"E5&lt;-E7\" style=\"stroke: #383838; stroke-width: 1.0;\"/><polygon fill=\"#383838\" points=\"99.27,87.06,97.635,94.0833,103.4893,98.2938,105.1242,91.2705,99.27,87.06\" style=\"stroke: #383838; stroke-width: 1.0;\"/></a><!--MD5=[583832df87f4419a098336a29a52fa00]\n",
       "link E7 to E2--><a href=\"psysml:6815ba90-0374-438b-ad93-53c34ddf71b8\" target=\"_top\" title=\"psysml:6815ba90-0374-438b-ad93-53c34ddf71b8\" xlink:actuate=\"onRequest\" xlink:href=\"psysml:6815ba90-0374-438b-ad93-53c34ddf71b8\" xlink:show=\"new\" xlink:title=\"psysml:6815ba90-0374-438b-ad93-53c34ddf71b8\" xlink:type=\"simple\"><path d=\"M121.73,193.06 C117.28,204.91 111.65,219.92 106.43,233.85 \" fill=\"none\" id=\"E7-&gt;E2\" style=\"stroke: #383838; stroke-width: 1.0;\"/><polygon fill=\"none\" points=\"112.84,236.71,99.26,252.98,99.73,231.79,112.84,236.71\" style=\"stroke: #383838; stroke-width: 1.0;\"/></a><!--MD5=[e2b8a91229748c70d1ed712f30772e46]\n",
       "@startuml\r\n",
       "skinparam monochrome true\r\n",
       "skinparam classbackgroundcolor white\r\n",
       "skinparam shadowing false\r\n",
       "skinparam wrapWidth 300\r\n",
       "hide circle\r\n",
       "\r\n",
       "package \"ConnectionTest\" as E1  [[psysml:22aef044-e637-4155-a6c9-7ceaf878199d ]]  {\r\n",
       "comp usage \"p\" as E2  <<(T,blue) part>> [[psysml:4372fe5d-a54c-4736-ace6-05c35a4b2fd0 ]] {\r\n",
       "}\r\n",
       "comp usage \"x\" as E3  <<(T,blue) part>> [[psysml:3f2b8857-d9ea-41c6-bb7a-db05d1986c1a ]] {\r\n",
       "}\r\n",
       "comp usage \"x1\" as E4  <<(T,blue) part>> [[psysml:e84cebed-6405-49c5-b413-5d504fb47cee ]] {\r\n",
       "}\r\n",
       "comp def \"P\" as E5  <<(T,blue) part def>> [[psysml:ba7b03ba-afee-4a2c-95ba-c440e322d2ee ]] {\r\n",
       "}\r\n",
       "comp usage \"y\" as E6  <<(T,blue) part>> [[psysml:6b502337-597a-4c17-979b-8872526dd5b6 ]] {\r\n",
       "}\r\n",
       "comp usage \"p1\" as E7  <<(T,blue) part>> [[psysml:c0882630-04b8-4e6c-a043-bd39b4f2710a ]] {\r\n",
       "}\r\n",
       "E2 *- - E3 [[psysml:d551e406-73fb-4a91-a080-fc440127a640 ]] \r\n",
       "E3 *- - E4 [[psysml:0c62ef63-43f3-4799-a069-927499b27fb4 ]] \r\n",
       "E5 *- - E6 [[psysml:bccb9dd4-409f-48ce-8915-27f20628680f ]] \r\n",
       "E6 -[thickness=3]- E2 [[psysml:3c2ac290-8ac1-4000-af3e-5bcf9ecf7966 ]] \r\n",
       "E5 *- - E7 [[psysml:97bf4e08-a4b3-492a-87d8-6adc842be5d3 ]] \r\n",
       "E7 - -|> E2 [[psysml:6815ba90-0374-438b-ad93-53c34ddf71b8 ]] \r\n",
       "}\r\n",
       "@enduml\r\n",
       "\n",
       "PlantUML version 1.2020.13(Sat Jun 13 12:26:38 UTC 2020)\n",
       "(EPL source distribution)\n",
       "Java Runtime: OpenJDK Runtime Environment\n",
       "JVM: OpenJDK 64-Bit Server VM\n",
       "Default Encoding: UTF-8\n",
       "Language: en\n",
       "Country: null\n",
       "--></g></svg>"
      ]
     },
     "execution_count": 37,
     "metadata": {},
     "output_type": "execute_result"
    }
   ],
   "source": [
    "%viz --style=\"DEFAULT\" --view=\"Default\" \"ConnectionTest\""
   ]
  },
  {
   "cell_type": "code",
   "execution_count": 38,
   "id": "4c22c2fd",
   "metadata": {
    "execution": {
     "iopub.execute_input": "2021-06-30T09:21:36.904364Z",
     "iopub.status.busy": "2021-06-30T09:21:36.903361Z",
     "iopub.status.idle": "2021-06-30T09:21:36.979995Z",
     "shell.execute_reply": "2021-06-30T09:21:36.979300Z"
    }
   },
   "outputs": [
    {
     "data": {
      "image/svg+xml": [
       "<?xml version=\"1.0\" encoding=\"UTF-8\" standalone=\"no\"?><svg xmlns=\"http://www.w3.org/2000/svg\" xmlns:xlink=\"http://www.w3.org/1999/xlink\" contentScriptType=\"application/ecmascript\" contentStyleType=\"text/css\" height=\"539px\" preserveAspectRatio=\"none\" style=\"width:189px;height:539px;\" version=\"1.1\" viewBox=\"0 0 189 539\" width=\"189px\" zoomAndPan=\"magnify\"><defs/><g><!--MD5=[fbc87193dbaf4d95561dea2c320d4a47]\n",
       "cluster E1--><a href=\"psysml:22aef044-e637-4155-a6c9-7ceaf878199d\" target=\"_top\" title=\"psysml:22aef044-e637-4155-a6c9-7ceaf878199d\" xlink:actuate=\"onRequest\" xlink:href=\"psysml:22aef044-e637-4155-a6c9-7ceaf878199d\" xlink:show=\"new\" xlink:title=\"psysml:22aef044-e637-4155-a6c9-7ceaf878199d\" xlink:type=\"simple\"><polygon fill=\"#FFFFFF\" points=\"16,6,147,6,154,28.2969,167,28.2969,167,527,16,527,16,6\" style=\"stroke: #000000; stroke-width: 1.5;\"/><line style=\"stroke: #000000; stroke-width: 1.5;\" x1=\"16\" x2=\"154\" y1=\"28.2969\" y2=\"28.2969\"/><text fill=\"#000000\" font-family=\"sans-serif\" font-size=\"14\" font-weight=\"bold\" lengthAdjust=\"spacingAndGlyphs\" textLength=\"125\" x=\"20\" y=\"20.9951\">ConnectionTest</text></a><!--MD5=[b4997ac47864f28c2f74865a473b2911]\n",
       "class E2--><a href=\"psysml:4372fe5d-a54c-4736-ace6-05c35a4b2fd0\" target=\"_top\" title=\"psysml:4372fe5d-a54c-4736-ace6-05c35a4b2fd0\" xlink:actuate=\"onRequest\" xlink:href=\"psysml:4372fe5d-a54c-4736-ace6-05c35a4b2fd0\" xlink:show=\"new\" xlink:title=\"psysml:4372fe5d-a54c-4736-ace6-05c35a4b2fd0\" xlink:type=\"simple\"><rect fill=\"#FFFFFF\" height=\"45.9375\" id=\"E2\" rx=\"10\" ry=\"10\" style=\"stroke: #383838; stroke-width: 1.5;\" width=\"42\" x=\"70\" y=\"253\"/><text fill=\"#000000\" font-family=\"sans-serif\" font-size=\"12\" font-style=\"italic\" lengthAdjust=\"spacingAndGlyphs\" textLength=\"40\" x=\"71\" y=\"269.1387\">«part»</text><text fill=\"#000000\" font-family=\"sans-serif\" font-size=\"12\" lengthAdjust=\"spacingAndGlyphs\" textLength=\"8\" x=\"87\" y=\"283.1074\">p</text><line style=\"stroke: #383838; stroke-width: 1.5;\" x1=\"71\" x2=\"111\" y1=\"290.9375\" y2=\"290.9375\"/></a><!--MD5=[09b614a08d8cba4a07c9adeb5e0fee81]\n",
       "class E3--><a href=\"psysml:3f2b8857-d9ea-41c6-bb7a-db05d1986c1a\" target=\"_top\" title=\"psysml:3f2b8857-d9ea-41c6-bb7a-db05d1986c1a\" xlink:actuate=\"onRequest\" xlink:href=\"psysml:3f2b8857-d9ea-41c6-bb7a-db05d1986c1a\" xlink:show=\"new\" xlink:title=\"psysml:3f2b8857-d9ea-41c6-bb7a-db05d1986c1a\" xlink:type=\"simple\"><rect fill=\"#FFFFFF\" height=\"45.9375\" id=\"E3\" rx=\"10\" ry=\"10\" style=\"stroke: #383838; stroke-width: 1.5;\" width=\"42\" x=\"70\" y=\"359\"/><text fill=\"#000000\" font-family=\"sans-serif\" font-size=\"12\" font-style=\"italic\" lengthAdjust=\"spacingAndGlyphs\" textLength=\"40\" x=\"71\" y=\"375.1387\">«part»</text><text fill=\"#000000\" font-family=\"sans-serif\" font-size=\"12\" lengthAdjust=\"spacingAndGlyphs\" textLength=\"6\" x=\"88\" y=\"389.1074\">x</text><line style=\"stroke: #383838; stroke-width: 1.5;\" x1=\"71\" x2=\"111\" y1=\"396.9375\" y2=\"396.9375\"/></a><!--MD5=[ebbe1d658d1005bcc118a6aa81145e00]\n",
       "class E4--><a href=\"psysml:e84cebed-6405-49c5-b413-5d504fb47cee\" target=\"_top\" title=\"psysml:e84cebed-6405-49c5-b413-5d504fb47cee\" xlink:actuate=\"onRequest\" xlink:href=\"psysml:e84cebed-6405-49c5-b413-5d504fb47cee\" xlink:show=\"new\" xlink:title=\"psysml:e84cebed-6405-49c5-b413-5d504fb47cee\" xlink:type=\"simple\"><rect fill=\"#FFFFFF\" height=\"45.9375\" id=\"E4\" rx=\"10\" ry=\"10\" style=\"stroke: #383838; stroke-width: 1.5;\" width=\"42\" x=\"70\" y=\"465\"/><text fill=\"#000000\" font-family=\"sans-serif\" font-size=\"12\" font-style=\"italic\" lengthAdjust=\"spacingAndGlyphs\" textLength=\"40\" x=\"71\" y=\"481.1387\">«part»</text><text fill=\"#000000\" font-family=\"sans-serif\" font-size=\"12\" lengthAdjust=\"spacingAndGlyphs\" textLength=\"14\" x=\"84\" y=\"495.1074\">x1</text><line style=\"stroke: #383838; stroke-width: 1.5;\" x1=\"71\" x2=\"111\" y1=\"502.9375\" y2=\"502.9375\"/></a><!--MD5=[270fce915f116d4de14055a7c1d9a0f3]\n",
       "class E5--><a href=\"psysml:ba7b03ba-afee-4a2c-95ba-c440e322d2ee\" target=\"_top\" title=\"psysml:ba7b03ba-afee-4a2c-95ba-c440e322d2ee\" xlink:actuate=\"onRequest\" xlink:href=\"psysml:ba7b03ba-afee-4a2c-95ba-c440e322d2ee\" xlink:show=\"new\" xlink:title=\"psysml:ba7b03ba-afee-4a2c-95ba-c440e322d2ee\" xlink:type=\"simple\"><rect fill=\"#FFFFFF\" height=\"45.9375\" id=\"E5\" style=\"stroke: #383838; stroke-width: 1.5;\" width=\"66\" x=\"58\" y=\"41\"/><text fill=\"#000000\" font-family=\"sans-serif\" font-size=\"12\" font-style=\"italic\" lengthAdjust=\"spacingAndGlyphs\" textLength=\"64\" x=\"59\" y=\"57.1387\">«part def»</text><text fill=\"#000000\" font-family=\"sans-serif\" font-size=\"12\" lengthAdjust=\"spacingAndGlyphs\" textLength=\"8\" x=\"87\" y=\"71.1074\">P</text><line style=\"stroke: #383838; stroke-width: 1.5;\" x1=\"59\" x2=\"123\" y1=\"78.9375\" y2=\"78.9375\"/></a><!--MD5=[60a26617385b1d2d0262a64233df1f8d]\n",
       "class E6--><a href=\"psysml:6b502337-597a-4c17-979b-8872526dd5b6\" target=\"_top\" title=\"psysml:6b502337-597a-4c17-979b-8872526dd5b6\" xlink:actuate=\"onRequest\" xlink:href=\"psysml:6b502337-597a-4c17-979b-8872526dd5b6\" xlink:show=\"new\" xlink:title=\"psysml:6b502337-597a-4c17-979b-8872526dd5b6\" xlink:type=\"simple\"><rect fill=\"#FFFFFF\" height=\"45.9375\" id=\"E6\" rx=\"10\" ry=\"10\" style=\"stroke: #383838; stroke-width: 1.5;\" width=\"42\" x=\"32\" y=\"147\"/><text fill=\"#000000\" font-family=\"sans-serif\" font-size=\"12\" font-style=\"italic\" lengthAdjust=\"spacingAndGlyphs\" textLength=\"40\" x=\"33\" y=\"163.1387\">«part»</text><text fill=\"#000000\" font-family=\"sans-serif\" font-size=\"12\" lengthAdjust=\"spacingAndGlyphs\" textLength=\"6\" x=\"50\" y=\"177.1074\">y</text><line style=\"stroke: #383838; stroke-width: 1.5;\" x1=\"33\" x2=\"73\" y1=\"184.9375\" y2=\"184.9375\"/></a><!--MD5=[2156ba9850f5573cc1fc38a6a4b2f02b]\n",
       "class E7--><a href=\"psysml:c0882630-04b8-4e6c-a043-bd39b4f2710a\" target=\"_top\" title=\"psysml:c0882630-04b8-4e6c-a043-bd39b4f2710a\" xlink:actuate=\"onRequest\" xlink:href=\"psysml:c0882630-04b8-4e6c-a043-bd39b4f2710a\" xlink:show=\"new\" xlink:title=\"psysml:c0882630-04b8-4e6c-a043-bd39b4f2710a\" xlink:type=\"simple\"><rect fill=\"#FFFFFF\" height=\"45.9375\" id=\"E7\" rx=\"10\" ry=\"10\" style=\"stroke: #383838; stroke-width: 1.5;\" width=\"42\" x=\"109\" y=\"147\"/><text fill=\"#000000\" font-family=\"sans-serif\" font-size=\"12\" font-style=\"italic\" lengthAdjust=\"spacingAndGlyphs\" textLength=\"40\" x=\"110\" y=\"163.1387\">«part»</text><text fill=\"#000000\" font-family=\"sans-serif\" font-size=\"12\" lengthAdjust=\"spacingAndGlyphs\" textLength=\"16\" x=\"122\" y=\"177.1074\">p1</text><line style=\"stroke: #383838; stroke-width: 1.5;\" x1=\"110\" x2=\"150\" y1=\"184.9375\" y2=\"184.9375\"/></a><!--MD5=[209b3feb70ccb6233bfe1053d122c12c]\n",
       "reverse link E2 to E3--><a href=\"psysml:d551e406-73fb-4a91-a080-fc440127a640\" target=\"_top\" title=\"psysml:d551e406-73fb-4a91-a080-fc440127a640\" xlink:actuate=\"onRequest\" xlink:href=\"psysml:d551e406-73fb-4a91-a080-fc440127a640\" xlink:show=\"new\" xlink:title=\"psysml:d551e406-73fb-4a91-a080-fc440127a640\" xlink:type=\"simple\"><path d=\"M91,312.44 C91,327.87 91,345.47 91,358.98 \" fill=\"none\" id=\"E2&lt;-E3\" style=\"stroke: #383838; stroke-width: 1.0;\"/><polygon fill=\"#383838\" points=\"91,299.06,87,305.06,91,311.06,95,305.06,91,299.06\" style=\"stroke: #383838; stroke-width: 1.0;\"/></a><!--MD5=[4672eba38e49728da53d11aeb285b987]\n",
       "reverse link E3 to E4--><a href=\"psysml:0c62ef63-43f3-4799-a069-927499b27fb4\" target=\"_top\" title=\"psysml:0c62ef63-43f3-4799-a069-927499b27fb4\" xlink:actuate=\"onRequest\" xlink:href=\"psysml:0c62ef63-43f3-4799-a069-927499b27fb4\" xlink:show=\"new\" xlink:title=\"psysml:0c62ef63-43f3-4799-a069-927499b27fb4\" xlink:type=\"simple\"><path d=\"M91,418.44 C91,433.87 91,451.47 91,464.98 \" fill=\"none\" id=\"E3&lt;-E4\" style=\"stroke: #383838; stroke-width: 1.0;\"/><polygon fill=\"#383838\" points=\"91,405.06,87,411.06,91,417.06,95,411.06,91,405.06\" style=\"stroke: #383838; stroke-width: 1.0;\"/></a><!--MD5=[85d356282659285ab4b2cfe2f634dd2b]\n",
       "reverse link E5 to E6--><a href=\"psysml:bccb9dd4-409f-48ce-8915-27f20628680f\" target=\"_top\" title=\"psysml:bccb9dd4-409f-48ce-8915-27f20628680f\" xlink:actuate=\"onRequest\" xlink:href=\"psysml:bccb9dd4-409f-48ce-8915-27f20628680f\" xlink:show=\"new\" xlink:title=\"psysml:bccb9dd4-409f-48ce-8915-27f20628680f\" xlink:type=\"simple\"><path d=\"M78.4,99.49 C72.68,115.15 66.08,133.19 61.05,146.98 \" fill=\"none\" id=\"E5&lt;-E6\" style=\"stroke: #383838; stroke-width: 1.0;\"/><polygon fill=\"#383838\" points=\"82.94,87.06,77.1196,91.317,78.8105,98.3271,84.6309,94.07,82.94,87.06\" style=\"stroke: #383838; stroke-width: 1.0;\"/></a><!--MD5=[2351f337d6de0f557b50152ba70847b5]\n",
       "link E6 to E2--><a href=\"psysml:3c2ac290-8ac1-4000-af3e-5bcf9ecf7966\" target=\"_top\" title=\"psysml:3c2ac290-8ac1-4000-af3e-5bcf9ecf7966\" xlink:actuate=\"onRequest\" xlink:href=\"psysml:3c2ac290-8ac1-4000-af3e-5bcf9ecf7966\" xlink:show=\"new\" xlink:title=\"psysml:3c2ac290-8ac1-4000-af3e-5bcf9ecf7966\" xlink:type=\"simple\"><path d=\"M61.06,193.06 C67.51,210.7 76.51,235.34 82.95,252.98 \" fill=\"none\" id=\"E6-E2\" style=\"stroke: #383838; stroke-width: 3.0;\"/></a><!--MD5=[452b418e7f8a40397a49b8c0a78acc5b]\n",
       "reverse link E5 to E7--><a href=\"psysml:97bf4e08-a4b3-492a-87d8-6adc842be5d3\" target=\"_top\" title=\"psysml:97bf4e08-a4b3-492a-87d8-6adc842be5d3\" xlink:actuate=\"onRequest\" xlink:href=\"psysml:97bf4e08-a4b3-492a-87d8-6adc842be5d3\" xlink:show=\"new\" xlink:title=\"psysml:97bf4e08-a4b3-492a-87d8-6adc842be5d3\" xlink:type=\"simple\"><path d=\"M103.94,99.49 C109.8,115.15 116.57,133.19 121.74,146.98 \" fill=\"none\" id=\"E5&lt;-E7\" style=\"stroke: #383838; stroke-width: 1.0;\"/><polygon fill=\"#383838\" points=\"99.27,87.06,97.635,94.0833,103.4893,98.2938,105.1242,91.2705,99.27,87.06\" style=\"stroke: #383838; stroke-width: 1.0;\"/></a><!--MD5=[583832df87f4419a098336a29a52fa00]\n",
       "link E7 to E2--><a href=\"psysml:6815ba90-0374-438b-ad93-53c34ddf71b8\" target=\"_top\" title=\"psysml:6815ba90-0374-438b-ad93-53c34ddf71b8\" xlink:actuate=\"onRequest\" xlink:href=\"psysml:6815ba90-0374-438b-ad93-53c34ddf71b8\" xlink:show=\"new\" xlink:title=\"psysml:6815ba90-0374-438b-ad93-53c34ddf71b8\" xlink:type=\"simple\"><path d=\"M121.73,193.06 C117.28,204.91 111.65,219.92 106.43,233.85 \" fill=\"none\" id=\"E7-&gt;E2\" style=\"stroke: #383838; stroke-width: 1.0;\"/><polygon fill=\"none\" points=\"112.84,236.71,99.26,252.98,99.73,231.79,112.84,236.71\" style=\"stroke: #383838; stroke-width: 1.0;\"/></a><!--MD5=[e2b8a91229748c70d1ed712f30772e46]\n",
       "@startuml\r\n",
       "skinparam monochrome true\r\n",
       "skinparam classbackgroundcolor white\r\n",
       "skinparam shadowing false\r\n",
       "skinparam wrapWidth 300\r\n",
       "hide circle\r\n",
       "\r\n",
       "package \"ConnectionTest\" as E1  [[psysml:22aef044-e637-4155-a6c9-7ceaf878199d ]]  {\r\n",
       "comp usage \"p\" as E2  <<(T,blue) part>> [[psysml:4372fe5d-a54c-4736-ace6-05c35a4b2fd0 ]] {\r\n",
       "}\r\n",
       "comp usage \"x\" as E3  <<(T,blue) part>> [[psysml:3f2b8857-d9ea-41c6-bb7a-db05d1986c1a ]] {\r\n",
       "}\r\n",
       "comp usage \"x1\" as E4  <<(T,blue) part>> [[psysml:e84cebed-6405-49c5-b413-5d504fb47cee ]] {\r\n",
       "}\r\n",
       "comp def \"P\" as E5  <<(T,blue) part def>> [[psysml:ba7b03ba-afee-4a2c-95ba-c440e322d2ee ]] {\r\n",
       "}\r\n",
       "comp usage \"y\" as E6  <<(T,blue) part>> [[psysml:6b502337-597a-4c17-979b-8872526dd5b6 ]] {\r\n",
       "}\r\n",
       "comp usage \"p1\" as E7  <<(T,blue) part>> [[psysml:c0882630-04b8-4e6c-a043-bd39b4f2710a ]] {\r\n",
       "}\r\n",
       "E2 *- - E3 [[psysml:d551e406-73fb-4a91-a080-fc440127a640 ]] \r\n",
       "E3 *- - E4 [[psysml:0c62ef63-43f3-4799-a069-927499b27fb4 ]] \r\n",
       "E5 *- - E6 [[psysml:bccb9dd4-409f-48ce-8915-27f20628680f ]] \r\n",
       "E6 -[thickness=3]- E2 [[psysml:3c2ac290-8ac1-4000-af3e-5bcf9ecf7966 ]] \r\n",
       "E5 *- - E7 [[psysml:97bf4e08-a4b3-492a-87d8-6adc842be5d3 ]] \r\n",
       "E7 - -|> E2 [[psysml:6815ba90-0374-438b-ad93-53c34ddf71b8 ]] \r\n",
       "}\r\n",
       "@enduml\r\n",
       "\n",
       "PlantUML version 1.2020.13(Sat Jun 13 12:26:38 UTC 2020)\n",
       "(EPL source distribution)\n",
       "Java Runtime: OpenJDK Runtime Environment\n",
       "JVM: OpenJDK 64-Bit Server VM\n",
       "Default Encoding: UTF-8\n",
       "Language: en\n",
       "Country: null\n",
       "--></g></svg>"
      ]
     },
     "execution_count": 38,
     "metadata": {},
     "output_type": "execute_result"
    }
   ],
   "source": [
    "%viz --style=\"DEFAULT\" --view=\"Tree\" \"ConnectionTest\""
   ]
  },
  {
   "cell_type": "code",
   "execution_count": 39,
   "id": "e1c4d085",
   "metadata": {
    "execution": {
     "iopub.execute_input": "2021-06-30T09:21:37.028506Z",
     "iopub.status.busy": "2021-06-30T09:21:37.027652Z",
     "iopub.status.idle": "2021-06-30T09:21:37.036528Z",
     "shell.execute_reply": "2021-06-30T09:21:37.035937Z"
    }
   },
   "outputs": [
    {
     "data": {
      "image/svg+xml": [
       "<?xml version=\"1.0\" encoding=\"UTF-8\" standalone=\"no\"?><svg xmlns=\"http://www.w3.org/2000/svg\" xmlns:xlink=\"http://www.w3.org/1999/xlink\" contentScriptType=\"application/ecmascript\" contentStyleType=\"text/css\" height=\"12px\" preserveAspectRatio=\"none\" style=\"width:12px;height:12px;\" version=\"1.1\" viewBox=\"0 0 12 12\" width=\"12px\" zoomAndPan=\"magnify\"><defs/><g><!--MD5=[c5f280e076d0d61ccf4b0f27871bda1d]\n",
       "@startuml\r\n",
       "skinparam monochrome true\r\n",
       "skinparam classbackgroundcolor white\r\n",
       "skinparam shadowing false\r\n",
       "skinparam wrapWidth 300\r\n",
       "hide circle\r\n",
       "\r\n",
       "@enduml\r\n",
       "\n",
       "PlantUML version 1.2020.13(Sat Jun 13 12:26:38 UTC 2020)\n",
       "(EPL source distribution)\n",
       "Java Runtime: OpenJDK Runtime Environment\n",
       "JVM: OpenJDK 64-Bit Server VM\n",
       "Default Encoding: UTF-8\n",
       "Language: en\n",
       "Country: null\n",
       "--></g></svg>"
      ]
     },
     "execution_count": 39,
     "metadata": {},
     "output_type": "execute_result"
    }
   ],
   "source": [
    "%viz --style=\"DEFAULT\" --view=\"State\" \"ConnectionTest\""
   ]
  },
  {
   "cell_type": "code",
   "execution_count": 40,
   "id": "cbe0e4c5",
   "metadata": {
    "execution": {
     "iopub.execute_input": "2021-06-30T09:21:37.087115Z",
     "iopub.status.busy": "2021-06-30T09:21:37.086476Z",
     "iopub.status.idle": "2021-06-30T09:21:37.152550Z",
     "shell.execute_reply": "2021-06-30T09:21:37.151763Z"
    }
   },
   "outputs": [
    {
     "data": {
      "image/svg+xml": [
       "<?xml version=\"1.0\" encoding=\"UTF-8\" standalone=\"no\"?><svg xmlns=\"http://www.w3.org/2000/svg\" xmlns:xlink=\"http://www.w3.org/1999/xlink\" contentScriptType=\"application/ecmascript\" contentStyleType=\"text/css\" height=\"406px\" preserveAspectRatio=\"none\" style=\"width:509px;height:406px;\" version=\"1.1\" viewBox=\"0 0 509 406\" width=\"509px\" zoomAndPan=\"magnify\"><defs/><g><!--MD5=[fbc87193dbaf4d95561dea2c320d4a47]\n",
       "cluster E1--><a href=\"psysml:22aef044-e637-4155-a6c9-7ceaf878199d\" target=\"_top\" title=\"psysml:22aef044-e637-4155-a6c9-7ceaf878199d\" xlink:actuate=\"onRequest\" xlink:href=\"psysml:22aef044-e637-4155-a6c9-7ceaf878199d\" xlink:show=\"new\" xlink:title=\"psysml:22aef044-e637-4155-a6c9-7ceaf878199d\" xlink:type=\"simple\"><polygon fill=\"#FFFFFF\" points=\"16,6,147,6,154,28.2969,487,28.2969,487,394,16,394,16,6\" style=\"stroke: #000000; stroke-width: 1.5;\"/><line style=\"stroke: #000000; stroke-width: 1.5;\" x1=\"16\" x2=\"154\" y1=\"28.2969\" y2=\"28.2969\"/><text fill=\"#000000\" font-family=\"sans-serif\" font-size=\"14\" font-weight=\"bold\" lengthAdjust=\"spacingAndGlyphs\" textLength=\"125\" x=\"20\" y=\"20.9951\">ConnectionTest</text></a><!--MD5=[e4f7fae6ed58524ba242bb0b0d3be6b7]\n",
       "cluster E2--><a href=\"psysml:4372fe5d-a54c-4736-ace6-05c35a4b2fd0\" target=\"_top\" title=\"psysml:4372fe5d-a54c-4736-ace6-05c35a4b2fd0\" xlink:actuate=\"onRequest\" xlink:href=\"psysml:4372fe5d-a54c-4736-ace6-05c35a4b2fd0\" xlink:show=\"new\" xlink:title=\"psysml:4372fe5d-a54c-4736-ace6-05c35a4b2fd0\" xlink:type=\"simple\"><rect fill=\"#FFFFFF\" height=\"174\" id=\"E2\" rx=\"10\" ry=\"10\" style=\"stroke: #383838; stroke-width: 1.5;\" width=\"154\" x=\"301\" y=\"164\"/><rect fill=\"#F8F8F8\" height=\"23.9688\" rx=\"10\" ry=\"10\" style=\"stroke: #F8F8F8; stroke-width: 1.5;\" width=\"154\" x=\"301\" y=\"164\"/><rect fill=\"#F8F8F8\" height=\"10\" style=\"stroke: #F8F8F8; stroke-width: 1.5;\" width=\"154\" x=\"301\" y=\"177.9688\"/><rect fill=\"none\" height=\"174\" id=\"E2\" rx=\"10\" ry=\"10\" style=\"stroke: #383838; stroke-width: 1.5;\" width=\"154\" x=\"301\" y=\"164\"/><text fill=\"#000000\" font-family=\"sans-serif\" font-size=\"12\" lengthAdjust=\"spacingAndGlyphs\" textLength=\"8\" x=\"374\" y=\"180.1387\">p</text><line style=\"stroke: #383838; stroke-width: 1.0;\" x1=\"301\" x2=\"455\" y1=\"187.9688\" y2=\"187.9688\"/></a><!--MD5=[d5e69f78d87373223dbae638b30a9c99]\n",
       "cluster E3--><a href=\"psysml:3f2b8857-d9ea-41c6-bb7a-db05d1986c1a\" target=\"_top\" title=\"psysml:3f2b8857-d9ea-41c6-bb7a-db05d1986c1a\" xlink:actuate=\"onRequest\" xlink:href=\"psysml:3f2b8857-d9ea-41c6-bb7a-db05d1986c1a\" xlink:show=\"new\" xlink:title=\"psysml:3f2b8857-d9ea-41c6-bb7a-db05d1986c1a\" xlink:type=\"simple\"><rect fill=\"#FFFFFF\" height=\"91\" id=\"E3\" rx=\"10\" ry=\"10\" style=\"stroke: #383838; stroke-width: 1.5;\" width=\"82\" x=\"341\" y=\"215\"/><rect fill=\"#F8F8F8\" height=\"23.9688\" rx=\"10\" ry=\"10\" style=\"stroke: #F8F8F8; stroke-width: 1.5;\" width=\"82\" x=\"341\" y=\"215\"/><rect fill=\"#F8F8F8\" height=\"10\" style=\"stroke: #F8F8F8; stroke-width: 1.5;\" width=\"82\" x=\"341\" y=\"228.9688\"/><rect fill=\"none\" height=\"91\" id=\"E3\" rx=\"10\" ry=\"10\" style=\"stroke: #383838; stroke-width: 1.5;\" width=\"82\" x=\"341\" y=\"215\"/><text fill=\"#000000\" font-family=\"sans-serif\" font-size=\"12\" lengthAdjust=\"spacingAndGlyphs\" textLength=\"6\" x=\"379\" y=\"231.1387\">x</text><line style=\"stroke: #383838; stroke-width: 1.0;\" x1=\"341\" x2=\"423\" y1=\"238.9688\" y2=\"238.9688\"/></a><!--MD5=[de5ec2e2e8f62f467e546659f5068c88]\n",
       "cluster E5--><a href=\"psysml:ba7b03ba-afee-4a2c-95ba-c440e322d2ee\" target=\"_top\" title=\"psysml:ba7b03ba-afee-4a2c-95ba-c440e322d2ee\" xlink:actuate=\"onRequest\" xlink:href=\"psysml:ba7b03ba-afee-4a2c-95ba-c440e322d2ee\" xlink:show=\"new\" xlink:title=\"psysml:ba7b03ba-afee-4a2c-95ba-c440e322d2ee\" xlink:type=\"simple\"><rect fill=\"#FFFFFF\" height=\"321\" id=\"E5\" style=\"stroke: #383838; stroke-width: 1.5;\" width=\"229\" x=\"40\" y=\"49\"/><rect fill=\"#F8F8F8\" height=\"37.9375\" style=\"stroke: #383838; stroke-width: 1.5;\" width=\"229\" x=\"40\" y=\"49\"/><text fill=\"#000000\" font-family=\"sans-serif\" font-size=\"12\" font-style=\"italic\" lengthAdjust=\"spacingAndGlyphs\" textLength=\"64\" x=\"122.5\" y=\"65.1387\">«part def»</text><text fill=\"#000000\" font-family=\"sans-serif\" font-size=\"12\" lengthAdjust=\"spacingAndGlyphs\" textLength=\"8\" x=\"150.5\" y=\"79.1074\">P</text></a><!--MD5=[168fadf3d0c3fd93dd5d6da1b1d7ab76]\n",
       "cluster E7--><a href=\"psysml:c0882630-04b8-4e6c-a043-bd39b4f2710a\" target=\"_top\" title=\"psysml:c0882630-04b8-4e6c-a043-bd39b4f2710a\" xlink:actuate=\"onRequest\" xlink:href=\"psysml:c0882630-04b8-4e6c-a043-bd39b4f2710a\" xlink:show=\"new\" xlink:title=\"psysml:c0882630-04b8-4e6c-a043-bd39b4f2710a\" xlink:type=\"simple\"><rect fill=\"#FFFFFF\" height=\"190\" id=\"E7\" rx=\"10\" ry=\"10\" style=\"stroke: #383838; stroke-width: 1.5;\" width=\"181\" x=\"64\" y=\"156\"/><rect fill=\"#F8F8F8\" height=\"23.9688\" rx=\"10\" ry=\"10\" style=\"stroke: #F8F8F8; stroke-width: 1.5;\" width=\"181\" x=\"64\" y=\"156\"/><rect fill=\"#F8F8F8\" height=\"10\" style=\"stroke: #F8F8F8; stroke-width: 1.5;\" width=\"181\" x=\"64\" y=\"169.9688\"/><rect fill=\"none\" height=\"190\" id=\"E7\" rx=\"10\" ry=\"10\" style=\"stroke: #383838; stroke-width: 1.5;\" width=\"181\" x=\"64\" y=\"156\"/><text fill=\"#000000\" font-family=\"sans-serif\" font-size=\"12\" lengthAdjust=\"spacingAndGlyphs\" textLength=\"16\" x=\"146.5\" y=\"172.1387\">p1</text><line style=\"stroke: #383838; stroke-width: 1.0;\" x1=\"64\" x2=\"245\" y1=\"179.9688\" y2=\"179.9688\"/></a><!--MD5=[55dfccfc6c49c2d10cd1bd2211a6c90c]\n",
       "cluster E8--><a href=\"psysml:3f2b8857-d9ea-41c6-bb7a-db05d1986c1a\" target=\"_top\" title=\"psysml:3f2b8857-d9ea-41c6-bb7a-db05d1986c1a\" xlink:actuate=\"onRequest\" xlink:href=\"psysml:3f2b8857-d9ea-41c6-bb7a-db05d1986c1a\" xlink:show=\"new\" xlink:title=\"psysml:3f2b8857-d9ea-41c6-bb7a-db05d1986c1a\" xlink:type=\"simple\"><rect fill=\"#FFFFFF\" height=\"107\" id=\"E8\" rx=\"10\" ry=\"10\" style=\"stroke: #383838; stroke-width: 1.5;\" width=\"117\" x=\"96\" y=\"207\"/><rect fill=\"#F8F8F8\" height=\"23.9688\" rx=\"10\" ry=\"10\" style=\"stroke: #F8F8F8; stroke-width: 1.5;\" width=\"117\" x=\"96\" y=\"207\"/><rect fill=\"#F8F8F8\" height=\"10\" style=\"stroke: #F8F8F8; stroke-width: 1.5;\" width=\"117\" x=\"96\" y=\"220.9688\"/><rect fill=\"none\" height=\"107\" id=\"E8\" rx=\"10\" ry=\"10\" style=\"stroke: #383838; stroke-width: 1.5;\" width=\"117\" x=\"96\" y=\"207\"/><text fill=\"#000000\" font-family=\"sans-serif\" font-size=\"12\" lengthAdjust=\"spacingAndGlyphs\" textLength=\"16\" x=\"146.5\" y=\"223.1387\">^x</text><line style=\"stroke: #383838; stroke-width: 1.0;\" x1=\"96\" x2=\"213\" y1=\"230.9688\" y2=\"230.9688\"/></a><g id=\"E1.E2.E3.E4\"><a href=\"psysml:e84cebed-6405-49c5-b413-5d504fb47cee\" target=\"_top\" title=\"psysml:e84cebed-6405-49c5-b413-5d504fb47cee\" xlink:actuate=\"onRequest\" xlink:href=\"psysml:e84cebed-6405-49c5-b413-5d504fb47cee\" xlink:show=\"new\" xlink:title=\"psysml:e84cebed-6405-49c5-b413-5d504fb47cee\" xlink:type=\"simple\"><rect fill=\"#FFFFFF\" height=\"40\" id=\"E4\" rx=\"10\" ry=\"10\" style=\"stroke: #383838; stroke-width: 1.5;\" width=\"50\" x=\"357\" y=\"250\"/><rect fill=\"#F8F8F8\" height=\"23.9688\" rx=\"10\" ry=\"10\" style=\"stroke: #F8F8F8; stroke-width: 1.5;\" width=\"50\" x=\"357\" y=\"250\"/><rect fill=\"#F8F8F8\" height=\"10\" style=\"stroke: #F8F8F8; stroke-width: 1.5;\" width=\"50\" x=\"357\" y=\"263.9688\"/><rect fill=\"none\" height=\"40\" id=\"E4\" rx=\"10\" ry=\"10\" style=\"stroke: #383838; stroke-width: 1.5;\" width=\"50\" x=\"357\" y=\"250\"/><text fill=\"#000000\" font-family=\"sans-serif\" font-size=\"12\" lengthAdjust=\"spacingAndGlyphs\" textLength=\"14\" x=\"375\" y=\"266.1387\">x1</text></a></g><g id=\"E1.E5.E6\"><a href=\"psysml:6b502337-597a-4c17-979b-8872526dd5b6\" target=\"_top\" title=\"psysml:6b502337-597a-4c17-979b-8872526dd5b6\" xlink:actuate=\"onRequest\" xlink:href=\"psysml:6b502337-597a-4c17-979b-8872526dd5b6\" xlink:show=\"new\" xlink:title=\"psysml:6b502337-597a-4c17-979b-8872526dd5b6\" xlink:type=\"simple\"><rect fill=\"#FFFFFF\" height=\"40\" id=\"E6\" rx=\"10\" ry=\"10\" style=\"stroke: #383838; stroke-width: 1.5;\" width=\"50\" x=\"139\" y=\"100\"/><rect fill=\"#F8F8F8\" height=\"23.9688\" rx=\"10\" ry=\"10\" style=\"stroke: #F8F8F8; stroke-width: 1.5;\" width=\"50\" x=\"139\" y=\"100\"/><rect fill=\"#F8F8F8\" height=\"10\" style=\"stroke: #F8F8F8; stroke-width: 1.5;\" width=\"50\" x=\"139\" y=\"113.9688\"/><rect fill=\"none\" height=\"40\" id=\"E6\" rx=\"10\" ry=\"10\" style=\"stroke: #383838; stroke-width: 1.5;\" width=\"50\" x=\"139\" y=\"100\"/><text fill=\"#000000\" font-family=\"sans-serif\" font-size=\"12\" lengthAdjust=\"spacingAndGlyphs\" textLength=\"6\" x=\"161\" y=\"116.1387\">y</text></a></g><g id=\"E1.E5.E7.E8.E9\"><a href=\"psysml:e84cebed-6405-49c5-b413-5d504fb47cee\" target=\"_top\" title=\"psysml:e84cebed-6405-49c5-b413-5d504fb47cee\" xlink:actuate=\"onRequest\" xlink:href=\"psysml:e84cebed-6405-49c5-b413-5d504fb47cee\" xlink:show=\"new\" xlink:title=\"psysml:e84cebed-6405-49c5-b413-5d504fb47cee\" xlink:type=\"simple\"><rect fill=\"#FFFFFF\" height=\"40\" id=\"E9\" rx=\"10\" ry=\"10\" style=\"stroke: #383838; stroke-width: 1.5;\" width=\"50\" x=\"139\" y=\"250\"/><rect fill=\"#F8F8F8\" height=\"23.9688\" rx=\"10\" ry=\"10\" style=\"stroke: #F8F8F8; stroke-width: 1.5;\" width=\"50\" x=\"139\" y=\"250\"/><rect fill=\"#F8F8F8\" height=\"10\" style=\"stroke: #F8F8F8; stroke-width: 1.5;\" width=\"50\" x=\"139\" y=\"263.9688\"/><rect fill=\"none\" height=\"40\" id=\"E9\" rx=\"10\" ry=\"10\" style=\"stroke: #383838; stroke-width: 1.5;\" width=\"50\" x=\"139\" y=\"250\"/><text fill=\"#000000\" font-family=\"sans-serif\" font-size=\"12\" lengthAdjust=\"spacingAndGlyphs\" textLength=\"14\" x=\"157\" y=\"266.1387\">x1</text></a></g><!--MD5=[2351f337d6de0f557b50152ba70847b5]\n",
       "link E6 to E2--><a href=\"psysml:3c2ac290-8ac1-4000-af3e-5bcf9ecf7966\" target=\"_top\" title=\"psysml:3c2ac290-8ac1-4000-af3e-5bcf9ecf7966\" xlink:actuate=\"onRequest\" xlink:href=\"psysml:3c2ac290-8ac1-4000-af3e-5bcf9ecf7966\" xlink:show=\"new\" xlink:title=\"psysml:3c2ac290-8ac1-4000-af3e-5bcf9ecf7966\" xlink:type=\"simple\"><path d=\"M189.09,135.93 C194.55,139.6 200.14,143.72 205,148 C231.205,171.055 256.8075,200.7275 276.0525,224.9188 C285.675,237.0144 293.7081,247.7397 299.4325,255.5823 C299.7903,256.0725 300.139,256.5514 300.4786,257.0187 C300.6484,257.2523 300.8159,257.4831 300.981,257.7108 \" fill=\"none\" id=\"E6-E2\" style=\"stroke: #383838; stroke-width: 3.0;\"/></a><!--MD5=[0a839d0f80c2d72d4b9b307f046d0de8]\n",
       "link E6 to E8--><a href=\"psysml:75c884b3-4954-4983-bf4e-b524958cba22\" target=\"_top\" title=\"psysml:75c884b3-4954-4983-bf4e-b524958cba22\" xlink:actuate=\"onRequest\" xlink:href=\"psysml:75c884b3-4954-4983-bf4e-b524958cba22\" xlink:show=\"new\" xlink:title=\"psysml:75c884b3-4954-4983-bf4e-b524958cba22\" xlink:type=\"simple\"><path d=\"M138.6,133.04 C132.62,137 126.88,141.98 123,148 C115.7475,159.2625 110.9138,172.31 107.7475,185.5819 C106.1644,192.2178 104.9981,198.9098 104.1548,205.4629 C104.1021,205.8725 104.0507,206.2815 104.0005,206.6899 \" fill=\"none\" id=\"E6-E8\" style=\"stroke: #383838; stroke-width: 3.0;\"/></a><!--MD5=[8ae21a5272e5f5a2f0d855d545cbd16c]\n",
       "link E6 to E9--><a href=\"psysml:ec977721-0260-4bea-8651-1724c0f568d2\" target=\"_top\" title=\"psysml:ec977721-0260-4bea-8651-1724c0f568d2\" xlink:actuate=\"onRequest\" xlink:href=\"psysml:ec977721-0260-4bea-8651-1724c0f568d2\" xlink:show=\"new\" xlink:title=\"psysml:ec977721-0260-4bea-8651-1724c0f568d2\" xlink:type=\"simple\"><path d=\"M164,140.05 C164,168.31 164,221.07 164,249.56 \" fill=\"none\" id=\"E6-E9\" style=\"stroke: #383838; stroke-width: 3.0;\"/></a><!--MD5=[0ffcb7407d2c515184e429a7cef82e6b]\n",
       "@startuml\r\n",
       "skinparam ranksep 10\r\n",
       "skinparam rectangle {\r\n",
       " backgroundColor<<block>> LightGreen\r\n",
       "}\r\n",
       "skinparam monochrome true\r\n",
       "skinparam classbackgroundcolor white\r\n",
       "skinparam shadowing false\r\n",
       "skinparam wrapWidth 300\r\n",
       "hide circle\r\n",
       "\r\n",
       "package \"ConnectionTest\" as E1  [[psysml:22aef044-e637-4155-a6c9-7ceaf878199d ]]  {\r\n",
       "rec usage \"p\" as E2  [[psysml:4372fe5d-a54c-4736-ace6-05c35a4b2fd0 ]] {\r\n",
       "rec usage \"x\" as E3  [[psysml:3f2b8857-d9ea-41c6-bb7a-db05d1986c1a ]] {\r\n",
       "rec usage \"x1\" as E4  [[psysml:e84cebed-6405-49c5-b413-5d504fb47cee ]] {\r\n",
       "}\r\n",
       "}\r\n",
       "}\r\n",
       "rec def \"P\" as E5  <<(T,blue) part def>> [[psysml:ba7b03ba-afee-4a2c-95ba-c440e322d2ee ]] {\r\n",
       "rec usage \"y\" as E6  [[psysml:6b502337-597a-4c17-979b-8872526dd5b6 ]] {\r\n",
       "}\r\n",
       "rec usage \"p1\" as E7  [[psysml:c0882630-04b8-4e6c-a043-bd39b4f2710a ]] {\r\n",
       "rec usage \"^x\" as E8  [[psysml:3f2b8857-d9ea-41c6-bb7a-db05d1986c1a ]] {\r\n",
       "rec usage \"x1\" as E9  [[psysml:e84cebed-6405-49c5-b413-5d504fb47cee ]] {\r\n",
       "}\r\n",
       "}\r\n",
       "}\r\n",
       "}\r\n",
       "E6 -[thickness=3]- E2 [[psysml:3c2ac290-8ac1-4000-af3e-5bcf9ecf7966 ]] \r\n",
       "E6 -[thickness=3]- E8 [[psysml:75c884b3-4954-4983-bf4e-b524958cba22 ]] \r\n",
       "E6 -[thickness=3]- E9 [[psysml:ec977721-0260-4bea-8651-1724c0f568d2 ]] \r\n",
       "}\r\n",
       "@enduml\r\n",
       "\n",
       "PlantUML version 1.2020.13(Sat Jun 13 12:26:38 UTC 2020)\n",
       "(EPL source distribution)\n",
       "Java Runtime: OpenJDK Runtime Environment\n",
       "JVM: OpenJDK 64-Bit Server VM\n",
       "Default Encoding: UTF-8\n",
       "Language: en\n",
       "Country: null\n",
       "--></g></svg>"
      ]
     },
     "execution_count": 40,
     "metadata": {},
     "output_type": "execute_result"
    }
   ],
   "source": [
    "%viz --style=\"DEFAULT\" --view=\"Interconnection\" \"ConnectionTest\""
   ]
  },
  {
   "cell_type": "code",
   "execution_count": 41,
   "id": "57276297",
   "metadata": {
    "execution": {
     "iopub.execute_input": "2021-06-30T09:21:37.207144Z",
     "iopub.status.busy": "2021-06-30T09:21:37.204032Z",
     "iopub.status.idle": "2021-06-30T09:21:37.216980Z",
     "shell.execute_reply": "2021-06-30T09:21:37.216372Z"
    }
   },
   "outputs": [
    {
     "data": {
      "image/svg+xml": [
       "<?xml version=\"1.0\" encoding=\"UTF-8\" standalone=\"no\"?><svg xmlns=\"http://www.w3.org/2000/svg\" xmlns:xlink=\"http://www.w3.org/1999/xlink\" contentScriptType=\"application/ecmascript\" contentStyleType=\"text/css\" height=\"12px\" preserveAspectRatio=\"none\" style=\"width:12px;height:12px;\" version=\"1.1\" viewBox=\"0 0 12 12\" width=\"12px\" zoomAndPan=\"magnify\"><defs/><g><!--MD5=[388f21188e31bfdd97050473b19af356]\n",
       "@startuml\r\n",
       "skinparam ranksep 8\r\n",
       "skinparam monochrome true\r\n",
       "skinparam classbackgroundcolor white\r\n",
       "skinparam shadowing false\r\n",
       "skinparam wrapWidth 300\r\n",
       "hide circle\r\n",
       "\r\n",
       "@enduml\r\n",
       "\n",
       "PlantUML version 1.2020.13(Sat Jun 13 12:26:38 UTC 2020)\n",
       "(EPL source distribution)\n",
       "Java Runtime: OpenJDK Runtime Environment\n",
       "JVM: OpenJDK 64-Bit Server VM\n",
       "Default Encoding: UTF-8\n",
       "Language: en\n",
       "Country: null\n",
       "--></g></svg>"
      ]
     },
     "execution_count": 41,
     "metadata": {},
     "output_type": "execute_result"
    }
   ],
   "source": [
    "%viz --style=\"DEFAULT\" --view=\"Action\" \"ConnectionTest\""
   ]
  },
  {
   "cell_type": "code",
   "execution_count": 42,
   "id": "be9572ff",
   "metadata": {
    "execution": {
     "iopub.execute_input": "2021-06-30T09:21:37.269475Z",
     "iopub.status.busy": "2021-06-30T09:21:37.268066Z",
     "iopub.status.idle": "2021-06-30T09:21:37.338115Z",
     "shell.execute_reply": "2021-06-30T09:21:37.333410Z"
    }
   },
   "outputs": [
    {
     "data": {
      "image/svg+xml": [
       "<?xml version=\"1.0\" encoding=\"UTF-8\" standalone=\"no\"?><svg xmlns=\"http://www.w3.org/2000/svg\" xmlns:xlink=\"http://www.w3.org/1999/xlink\" contentScriptType=\"application/ecmascript\" contentStyleType=\"text/css\" height=\"539px\" preserveAspectRatio=\"none\" style=\"width:189px;height:539px;\" version=\"1.1\" viewBox=\"0 0 189 539\" width=\"189px\" zoomAndPan=\"magnify\"><defs/><g><!--MD5=[fbc87193dbaf4d95561dea2c320d4a47]\n",
       "cluster E1--><a href=\"psysml:22aef044-e637-4155-a6c9-7ceaf878199d\" target=\"_top\" title=\"psysml:22aef044-e637-4155-a6c9-7ceaf878199d\" xlink:actuate=\"onRequest\" xlink:href=\"psysml:22aef044-e637-4155-a6c9-7ceaf878199d\" xlink:show=\"new\" xlink:title=\"psysml:22aef044-e637-4155-a6c9-7ceaf878199d\" xlink:type=\"simple\"><polygon fill=\"#FFFFFF\" points=\"16,6,147,6,154,28.2969,167,28.2969,167,527,16,527,16,6\" style=\"stroke: #000000; stroke-width: 1.5;\"/><line style=\"stroke: #000000; stroke-width: 1.5;\" x1=\"16\" x2=\"154\" y1=\"28.2969\" y2=\"28.2969\"/><text fill=\"#000000\" font-family=\"sans-serif\" font-size=\"14\" font-weight=\"bold\" lengthAdjust=\"spacingAndGlyphs\" textLength=\"125\" x=\"20\" y=\"20.9951\">ConnectionTest</text></a><!--MD5=[b4997ac47864f28c2f74865a473b2911]\n",
       "class E2--><a href=\"psysml:4372fe5d-a54c-4736-ace6-05c35a4b2fd0\" target=\"_top\" title=\"psysml:4372fe5d-a54c-4736-ace6-05c35a4b2fd0\" xlink:actuate=\"onRequest\" xlink:href=\"psysml:4372fe5d-a54c-4736-ace6-05c35a4b2fd0\" xlink:show=\"new\" xlink:title=\"psysml:4372fe5d-a54c-4736-ace6-05c35a4b2fd0\" xlink:type=\"simple\"><rect fill=\"#FFFFFF\" height=\"45.9375\" id=\"E2\" rx=\"10\" ry=\"10\" style=\"stroke: #383838; stroke-width: 1.5;\" width=\"42\" x=\"70\" y=\"253\"/><text fill=\"#000000\" font-family=\"sans-serif\" font-size=\"12\" font-style=\"italic\" lengthAdjust=\"spacingAndGlyphs\" textLength=\"40\" x=\"71\" y=\"269.1387\">«part»</text><text fill=\"#000000\" font-family=\"sans-serif\" font-size=\"12\" lengthAdjust=\"spacingAndGlyphs\" textLength=\"8\" x=\"87\" y=\"283.1074\">p</text><line style=\"stroke: #383838; stroke-width: 1.5;\" x1=\"71\" x2=\"111\" y1=\"290.9375\" y2=\"290.9375\"/></a><!--MD5=[09b614a08d8cba4a07c9adeb5e0fee81]\n",
       "class E3--><a href=\"psysml:3f2b8857-d9ea-41c6-bb7a-db05d1986c1a\" target=\"_top\" title=\"psysml:3f2b8857-d9ea-41c6-bb7a-db05d1986c1a\" xlink:actuate=\"onRequest\" xlink:href=\"psysml:3f2b8857-d9ea-41c6-bb7a-db05d1986c1a\" xlink:show=\"new\" xlink:title=\"psysml:3f2b8857-d9ea-41c6-bb7a-db05d1986c1a\" xlink:type=\"simple\"><rect fill=\"#FFFFFF\" height=\"45.9375\" id=\"E3\" rx=\"10\" ry=\"10\" style=\"stroke: #383838; stroke-width: 1.5;\" width=\"42\" x=\"70\" y=\"359\"/><text fill=\"#000000\" font-family=\"sans-serif\" font-size=\"12\" font-style=\"italic\" lengthAdjust=\"spacingAndGlyphs\" textLength=\"40\" x=\"71\" y=\"375.1387\">«part»</text><text fill=\"#000000\" font-family=\"sans-serif\" font-size=\"12\" lengthAdjust=\"spacingAndGlyphs\" textLength=\"6\" x=\"88\" y=\"389.1074\">x</text><line style=\"stroke: #383838; stroke-width: 1.5;\" x1=\"71\" x2=\"111\" y1=\"396.9375\" y2=\"396.9375\"/></a><!--MD5=[ebbe1d658d1005bcc118a6aa81145e00]\n",
       "class E4--><a href=\"psysml:e84cebed-6405-49c5-b413-5d504fb47cee\" target=\"_top\" title=\"psysml:e84cebed-6405-49c5-b413-5d504fb47cee\" xlink:actuate=\"onRequest\" xlink:href=\"psysml:e84cebed-6405-49c5-b413-5d504fb47cee\" xlink:show=\"new\" xlink:title=\"psysml:e84cebed-6405-49c5-b413-5d504fb47cee\" xlink:type=\"simple\"><rect fill=\"#FFFFFF\" height=\"45.9375\" id=\"E4\" rx=\"10\" ry=\"10\" style=\"stroke: #383838; stroke-width: 1.5;\" width=\"42\" x=\"70\" y=\"465\"/><text fill=\"#000000\" font-family=\"sans-serif\" font-size=\"12\" font-style=\"italic\" lengthAdjust=\"spacingAndGlyphs\" textLength=\"40\" x=\"71\" y=\"481.1387\">«part»</text><text fill=\"#000000\" font-family=\"sans-serif\" font-size=\"12\" lengthAdjust=\"spacingAndGlyphs\" textLength=\"14\" x=\"84\" y=\"495.1074\">x1</text><line style=\"stroke: #383838; stroke-width: 1.5;\" x1=\"71\" x2=\"111\" y1=\"502.9375\" y2=\"502.9375\"/></a><!--MD5=[270fce915f116d4de14055a7c1d9a0f3]\n",
       "class E5--><a href=\"psysml:ba7b03ba-afee-4a2c-95ba-c440e322d2ee\" target=\"_top\" title=\"psysml:ba7b03ba-afee-4a2c-95ba-c440e322d2ee\" xlink:actuate=\"onRequest\" xlink:href=\"psysml:ba7b03ba-afee-4a2c-95ba-c440e322d2ee\" xlink:show=\"new\" xlink:title=\"psysml:ba7b03ba-afee-4a2c-95ba-c440e322d2ee\" xlink:type=\"simple\"><rect fill=\"#FFFFFF\" height=\"45.9375\" id=\"E5\" style=\"stroke: #383838; stroke-width: 1.5;\" width=\"66\" x=\"58\" y=\"41\"/><text fill=\"#000000\" font-family=\"sans-serif\" font-size=\"12\" font-style=\"italic\" lengthAdjust=\"spacingAndGlyphs\" textLength=\"64\" x=\"59\" y=\"57.1387\">«part def»</text><text fill=\"#000000\" font-family=\"sans-serif\" font-size=\"12\" lengthAdjust=\"spacingAndGlyphs\" textLength=\"8\" x=\"87\" y=\"71.1074\">P</text><line style=\"stroke: #383838; stroke-width: 1.5;\" x1=\"59\" x2=\"123\" y1=\"78.9375\" y2=\"78.9375\"/></a><!--MD5=[60a26617385b1d2d0262a64233df1f8d]\n",
       "class E6--><a href=\"psysml:6b502337-597a-4c17-979b-8872526dd5b6\" target=\"_top\" title=\"psysml:6b502337-597a-4c17-979b-8872526dd5b6\" xlink:actuate=\"onRequest\" xlink:href=\"psysml:6b502337-597a-4c17-979b-8872526dd5b6\" xlink:show=\"new\" xlink:title=\"psysml:6b502337-597a-4c17-979b-8872526dd5b6\" xlink:type=\"simple\"><rect fill=\"#FFFFFF\" height=\"45.9375\" id=\"E6\" rx=\"10\" ry=\"10\" style=\"stroke: #383838; stroke-width: 1.5;\" width=\"42\" x=\"32\" y=\"147\"/><text fill=\"#000000\" font-family=\"sans-serif\" font-size=\"12\" font-style=\"italic\" lengthAdjust=\"spacingAndGlyphs\" textLength=\"40\" x=\"33\" y=\"163.1387\">«part»</text><text fill=\"#000000\" font-family=\"sans-serif\" font-size=\"12\" lengthAdjust=\"spacingAndGlyphs\" textLength=\"6\" x=\"50\" y=\"177.1074\">y</text><line style=\"stroke: #383838; stroke-width: 1.5;\" x1=\"33\" x2=\"73\" y1=\"184.9375\" y2=\"184.9375\"/></a><!--MD5=[2156ba9850f5573cc1fc38a6a4b2f02b]\n",
       "class E7--><a href=\"psysml:c0882630-04b8-4e6c-a043-bd39b4f2710a\" target=\"_top\" title=\"psysml:c0882630-04b8-4e6c-a043-bd39b4f2710a\" xlink:actuate=\"onRequest\" xlink:href=\"psysml:c0882630-04b8-4e6c-a043-bd39b4f2710a\" xlink:show=\"new\" xlink:title=\"psysml:c0882630-04b8-4e6c-a043-bd39b4f2710a\" xlink:type=\"simple\"><rect fill=\"#FFFFFF\" height=\"45.9375\" id=\"E7\" rx=\"10\" ry=\"10\" style=\"stroke: #383838; stroke-width: 1.5;\" width=\"42\" x=\"109\" y=\"147\"/><text fill=\"#000000\" font-family=\"sans-serif\" font-size=\"12\" font-style=\"italic\" lengthAdjust=\"spacingAndGlyphs\" textLength=\"40\" x=\"110\" y=\"163.1387\">«part»</text><text fill=\"#000000\" font-family=\"sans-serif\" font-size=\"12\" lengthAdjust=\"spacingAndGlyphs\" textLength=\"16\" x=\"122\" y=\"177.1074\">p1</text><line style=\"stroke: #383838; stroke-width: 1.5;\" x1=\"110\" x2=\"150\" y1=\"184.9375\" y2=\"184.9375\"/></a><!--MD5=[209b3feb70ccb6233bfe1053d122c12c]\n",
       "reverse link E2 to E3--><a href=\"psysml:d551e406-73fb-4a91-a080-fc440127a640\" target=\"_top\" title=\"psysml:d551e406-73fb-4a91-a080-fc440127a640\" xlink:actuate=\"onRequest\" xlink:href=\"psysml:d551e406-73fb-4a91-a080-fc440127a640\" xlink:show=\"new\" xlink:title=\"psysml:d551e406-73fb-4a91-a080-fc440127a640\" xlink:type=\"simple\"><path d=\"M91,312.44 C91,327.87 91,345.47 91,358.98 \" fill=\"none\" id=\"E2&lt;-E3\" style=\"stroke: #383838; stroke-width: 1.0;\"/><polygon fill=\"#383838\" points=\"91,299.06,87,305.06,91,311.06,95,305.06,91,299.06\" style=\"stroke: #383838; stroke-width: 1.0;\"/></a><!--MD5=[4672eba38e49728da53d11aeb285b987]\n",
       "reverse link E3 to E4--><a href=\"psysml:0c62ef63-43f3-4799-a069-927499b27fb4\" target=\"_top\" title=\"psysml:0c62ef63-43f3-4799-a069-927499b27fb4\" xlink:actuate=\"onRequest\" xlink:href=\"psysml:0c62ef63-43f3-4799-a069-927499b27fb4\" xlink:show=\"new\" xlink:title=\"psysml:0c62ef63-43f3-4799-a069-927499b27fb4\" xlink:type=\"simple\"><path d=\"M91,418.44 C91,433.87 91,451.47 91,464.98 \" fill=\"none\" id=\"E3&lt;-E4\" style=\"stroke: #383838; stroke-width: 1.0;\"/><polygon fill=\"#383838\" points=\"91,405.06,87,411.06,91,417.06,95,411.06,91,405.06\" style=\"stroke: #383838; stroke-width: 1.0;\"/></a><!--MD5=[85d356282659285ab4b2cfe2f634dd2b]\n",
       "reverse link E5 to E6--><a href=\"psysml:bccb9dd4-409f-48ce-8915-27f20628680f\" target=\"_top\" title=\"psysml:bccb9dd4-409f-48ce-8915-27f20628680f\" xlink:actuate=\"onRequest\" xlink:href=\"psysml:bccb9dd4-409f-48ce-8915-27f20628680f\" xlink:show=\"new\" xlink:title=\"psysml:bccb9dd4-409f-48ce-8915-27f20628680f\" xlink:type=\"simple\"><path d=\"M78.4,99.49 C72.68,115.15 66.08,133.19 61.05,146.98 \" fill=\"none\" id=\"E5&lt;-E6\" style=\"stroke: #383838; stroke-width: 1.0;\"/><polygon fill=\"#383838\" points=\"82.94,87.06,77.1196,91.317,78.8105,98.3271,84.6309,94.07,82.94,87.06\" style=\"stroke: #383838; stroke-width: 1.0;\"/></a><!--MD5=[2351f337d6de0f557b50152ba70847b5]\n",
       "link E6 to E2--><a href=\"psysml:3c2ac290-8ac1-4000-af3e-5bcf9ecf7966\" target=\"_top\" title=\"psysml:3c2ac290-8ac1-4000-af3e-5bcf9ecf7966\" xlink:actuate=\"onRequest\" xlink:href=\"psysml:3c2ac290-8ac1-4000-af3e-5bcf9ecf7966\" xlink:show=\"new\" xlink:title=\"psysml:3c2ac290-8ac1-4000-af3e-5bcf9ecf7966\" xlink:type=\"simple\"><path d=\"M61.06,193.06 C67.51,210.7 76.51,235.34 82.95,252.98 \" fill=\"none\" id=\"E6-E2\" style=\"stroke: #383838; stroke-width: 3.0;\"/></a><!--MD5=[452b418e7f8a40397a49b8c0a78acc5b]\n",
       "reverse link E5 to E7--><a href=\"psysml:97bf4e08-a4b3-492a-87d8-6adc842be5d3\" target=\"_top\" title=\"psysml:97bf4e08-a4b3-492a-87d8-6adc842be5d3\" xlink:actuate=\"onRequest\" xlink:href=\"psysml:97bf4e08-a4b3-492a-87d8-6adc842be5d3\" xlink:show=\"new\" xlink:title=\"psysml:97bf4e08-a4b3-492a-87d8-6adc842be5d3\" xlink:type=\"simple\"><path d=\"M103.94,99.49 C109.8,115.15 116.57,133.19 121.74,146.98 \" fill=\"none\" id=\"E5&lt;-E7\" style=\"stroke: #383838; stroke-width: 1.0;\"/><polygon fill=\"#383838\" points=\"99.27,87.06,97.635,94.0833,103.4893,98.2938,105.1242,91.2705,99.27,87.06\" style=\"stroke: #383838; stroke-width: 1.0;\"/></a><!--MD5=[583832df87f4419a098336a29a52fa00]\n",
       "link E7 to E2--><a href=\"psysml:6815ba90-0374-438b-ad93-53c34ddf71b8\" target=\"_top\" title=\"psysml:6815ba90-0374-438b-ad93-53c34ddf71b8\" xlink:actuate=\"onRequest\" xlink:href=\"psysml:6815ba90-0374-438b-ad93-53c34ddf71b8\" xlink:show=\"new\" xlink:title=\"psysml:6815ba90-0374-438b-ad93-53c34ddf71b8\" xlink:type=\"simple\"><path d=\"M121.73,193.06 C117.28,204.91 111.65,219.92 106.43,233.85 \" fill=\"none\" id=\"E7-&gt;E2\" style=\"stroke: #383838; stroke-width: 1.0;\"/><polygon fill=\"none\" points=\"112.84,236.71,99.26,252.98,99.73,231.79,112.84,236.71\" style=\"stroke: #383838; stroke-width: 1.0;\"/></a><!--MD5=[e2b8a91229748c70d1ed712f30772e46]\n",
       "@startuml\r\n",
       "skinparam monochrome true\r\n",
       "skinparam classbackgroundcolor white\r\n",
       "skinparam shadowing false\r\n",
       "skinparam wrapWidth 300\r\n",
       "hide circle\r\n",
       "\r\n",
       "package \"ConnectionTest\" as E1  [[psysml:22aef044-e637-4155-a6c9-7ceaf878199d ]]  {\r\n",
       "comp usage \"p\" as E2  <<(T,blue) part>> [[psysml:4372fe5d-a54c-4736-ace6-05c35a4b2fd0 ]] {\r\n",
       "}\r\n",
       "comp usage \"x\" as E3  <<(T,blue) part>> [[psysml:3f2b8857-d9ea-41c6-bb7a-db05d1986c1a ]] {\r\n",
       "}\r\n",
       "comp usage \"x1\" as E4  <<(T,blue) part>> [[psysml:e84cebed-6405-49c5-b413-5d504fb47cee ]] {\r\n",
       "}\r\n",
       "comp def \"P\" as E5  <<(T,blue) part def>> [[psysml:ba7b03ba-afee-4a2c-95ba-c440e322d2ee ]] {\r\n",
       "}\r\n",
       "comp usage \"y\" as E6  <<(T,blue) part>> [[psysml:6b502337-597a-4c17-979b-8872526dd5b6 ]] {\r\n",
       "}\r\n",
       "comp usage \"p1\" as E7  <<(T,blue) part>> [[psysml:c0882630-04b8-4e6c-a043-bd39b4f2710a ]] {\r\n",
       "}\r\n",
       "E2 *- - E3 [[psysml:d551e406-73fb-4a91-a080-fc440127a640 ]] \r\n",
       "E3 *- - E4 [[psysml:0c62ef63-43f3-4799-a069-927499b27fb4 ]] \r\n",
       "E5 *- - E6 [[psysml:bccb9dd4-409f-48ce-8915-27f20628680f ]] \r\n",
       "E6 -[thickness=3]- E2 [[psysml:3c2ac290-8ac1-4000-af3e-5bcf9ecf7966 ]] \r\n",
       "E5 *- - E7 [[psysml:97bf4e08-a4b3-492a-87d8-6adc842be5d3 ]] \r\n",
       "E7 - -|> E2 [[psysml:6815ba90-0374-438b-ad93-53c34ddf71b8 ]] \r\n",
       "}\r\n",
       "@enduml\r\n",
       "\n",
       "PlantUML version 1.2020.13(Sat Jun 13 12:26:38 UTC 2020)\n",
       "(EPL source distribution)\n",
       "Java Runtime: OpenJDK Runtime Environment\n",
       "JVM: OpenJDK 64-Bit Server VM\n",
       "Default Encoding: UTF-8\n",
       "Language: en\n",
       "Country: null\n",
       "--></g></svg>"
      ]
     },
     "execution_count": 42,
     "metadata": {},
     "output_type": "execute_result"
    }
   ],
   "source": [
    "%viz --style=\"DEFAULT\" --view=\"Sequence\" \"ConnectionTest\""
   ]
  },
  {
   "cell_type": "code",
   "execution_count": 43,
   "id": "ec783cac",
   "metadata": {
    "execution": {
     "iopub.execute_input": "2021-06-30T09:21:37.387894Z",
     "iopub.status.busy": "2021-06-30T09:21:37.387223Z",
     "iopub.status.idle": "2021-06-30T09:21:37.455944Z",
     "shell.execute_reply": "2021-06-30T09:21:37.454847Z"
    }
   },
   "outputs": [
    {
     "data": {
      "image/svg+xml": [
       "<?xml version=\"1.0\" encoding=\"UTF-8\" standalone=\"no\"?><svg xmlns=\"http://www.w3.org/2000/svg\" xmlns:xlink=\"http://www.w3.org/1999/xlink\" contentScriptType=\"application/ecmascript\" contentStyleType=\"text/css\" height=\"539px\" preserveAspectRatio=\"none\" style=\"width:189px;height:539px;\" version=\"1.1\" viewBox=\"0 0 189 539\" width=\"189px\" zoomAndPan=\"magnify\"><defs/><g><!--MD5=[fbc87193dbaf4d95561dea2c320d4a47]\n",
       "cluster E1--><a href=\"psysml:22aef044-e637-4155-a6c9-7ceaf878199d\" target=\"_top\" title=\"psysml:22aef044-e637-4155-a6c9-7ceaf878199d\" xlink:actuate=\"onRequest\" xlink:href=\"psysml:22aef044-e637-4155-a6c9-7ceaf878199d\" xlink:show=\"new\" xlink:title=\"psysml:22aef044-e637-4155-a6c9-7ceaf878199d\" xlink:type=\"simple\"><polygon fill=\"#FFFFFF\" points=\"16,6,147,6,154,28.2969,167,28.2969,167,527,16,527,16,6\" style=\"stroke: #000000; stroke-width: 1.5;\"/><line style=\"stroke: #000000; stroke-width: 1.5;\" x1=\"16\" x2=\"154\" y1=\"28.2969\" y2=\"28.2969\"/><text fill=\"#000000\" font-family=\"sans-serif\" font-size=\"14\" font-weight=\"bold\" lengthAdjust=\"spacingAndGlyphs\" textLength=\"125\" x=\"20\" y=\"20.9951\">ConnectionTest</text></a><!--MD5=[b4997ac47864f28c2f74865a473b2911]\n",
       "class E2--><a href=\"psysml:4372fe5d-a54c-4736-ace6-05c35a4b2fd0\" target=\"_top\" title=\"psysml:4372fe5d-a54c-4736-ace6-05c35a4b2fd0\" xlink:actuate=\"onRequest\" xlink:href=\"psysml:4372fe5d-a54c-4736-ace6-05c35a4b2fd0\" xlink:show=\"new\" xlink:title=\"psysml:4372fe5d-a54c-4736-ace6-05c35a4b2fd0\" xlink:type=\"simple\"><rect fill=\"#FFFFFF\" height=\"45.9375\" id=\"E2\" rx=\"10\" ry=\"10\" style=\"stroke: #383838; stroke-width: 1.5;\" width=\"42\" x=\"70\" y=\"253\"/><text fill=\"#000000\" font-family=\"sans-serif\" font-size=\"12\" font-style=\"italic\" lengthAdjust=\"spacingAndGlyphs\" textLength=\"40\" x=\"71\" y=\"269.1387\">«part»</text><text fill=\"#000000\" font-family=\"sans-serif\" font-size=\"12\" lengthAdjust=\"spacingAndGlyphs\" textLength=\"8\" x=\"87\" y=\"283.1074\">p</text><line style=\"stroke: #383838; stroke-width: 1.5;\" x1=\"71\" x2=\"111\" y1=\"290.9375\" y2=\"290.9375\"/></a><!--MD5=[09b614a08d8cba4a07c9adeb5e0fee81]\n",
       "class E3--><a href=\"psysml:3f2b8857-d9ea-41c6-bb7a-db05d1986c1a\" target=\"_top\" title=\"psysml:3f2b8857-d9ea-41c6-bb7a-db05d1986c1a\" xlink:actuate=\"onRequest\" xlink:href=\"psysml:3f2b8857-d9ea-41c6-bb7a-db05d1986c1a\" xlink:show=\"new\" xlink:title=\"psysml:3f2b8857-d9ea-41c6-bb7a-db05d1986c1a\" xlink:type=\"simple\"><rect fill=\"#FFFFFF\" height=\"45.9375\" id=\"E3\" rx=\"10\" ry=\"10\" style=\"stroke: #383838; stroke-width: 1.5;\" width=\"42\" x=\"70\" y=\"359\"/><text fill=\"#000000\" font-family=\"sans-serif\" font-size=\"12\" font-style=\"italic\" lengthAdjust=\"spacingAndGlyphs\" textLength=\"40\" x=\"71\" y=\"375.1387\">«part»</text><text fill=\"#000000\" font-family=\"sans-serif\" font-size=\"12\" lengthAdjust=\"spacingAndGlyphs\" textLength=\"6\" x=\"88\" y=\"389.1074\">x</text><line style=\"stroke: #383838; stroke-width: 1.5;\" x1=\"71\" x2=\"111\" y1=\"396.9375\" y2=\"396.9375\"/></a><!--MD5=[ebbe1d658d1005bcc118a6aa81145e00]\n",
       "class E4--><a href=\"psysml:e84cebed-6405-49c5-b413-5d504fb47cee\" target=\"_top\" title=\"psysml:e84cebed-6405-49c5-b413-5d504fb47cee\" xlink:actuate=\"onRequest\" xlink:href=\"psysml:e84cebed-6405-49c5-b413-5d504fb47cee\" xlink:show=\"new\" xlink:title=\"psysml:e84cebed-6405-49c5-b413-5d504fb47cee\" xlink:type=\"simple\"><rect fill=\"#FFFFFF\" height=\"45.9375\" id=\"E4\" rx=\"10\" ry=\"10\" style=\"stroke: #383838; stroke-width: 1.5;\" width=\"42\" x=\"70\" y=\"465\"/><text fill=\"#000000\" font-family=\"sans-serif\" font-size=\"12\" font-style=\"italic\" lengthAdjust=\"spacingAndGlyphs\" textLength=\"40\" x=\"71\" y=\"481.1387\">«part»</text><text fill=\"#000000\" font-family=\"sans-serif\" font-size=\"12\" lengthAdjust=\"spacingAndGlyphs\" textLength=\"14\" x=\"84\" y=\"495.1074\">x1</text><line style=\"stroke: #383838; stroke-width: 1.5;\" x1=\"71\" x2=\"111\" y1=\"502.9375\" y2=\"502.9375\"/></a><!--MD5=[270fce915f116d4de14055a7c1d9a0f3]\n",
       "class E5--><a href=\"psysml:ba7b03ba-afee-4a2c-95ba-c440e322d2ee\" target=\"_top\" title=\"psysml:ba7b03ba-afee-4a2c-95ba-c440e322d2ee\" xlink:actuate=\"onRequest\" xlink:href=\"psysml:ba7b03ba-afee-4a2c-95ba-c440e322d2ee\" xlink:show=\"new\" xlink:title=\"psysml:ba7b03ba-afee-4a2c-95ba-c440e322d2ee\" xlink:type=\"simple\"><rect fill=\"#FFFFFF\" height=\"45.9375\" id=\"E5\" style=\"stroke: #383838; stroke-width: 1.5;\" width=\"66\" x=\"58\" y=\"41\"/><text fill=\"#000000\" font-family=\"sans-serif\" font-size=\"12\" font-style=\"italic\" lengthAdjust=\"spacingAndGlyphs\" textLength=\"64\" x=\"59\" y=\"57.1387\">«part def»</text><text fill=\"#000000\" font-family=\"sans-serif\" font-size=\"12\" lengthAdjust=\"spacingAndGlyphs\" textLength=\"8\" x=\"87\" y=\"71.1074\">P</text><line style=\"stroke: #383838; stroke-width: 1.5;\" x1=\"59\" x2=\"123\" y1=\"78.9375\" y2=\"78.9375\"/></a><!--MD5=[60a26617385b1d2d0262a64233df1f8d]\n",
       "class E6--><a href=\"psysml:6b502337-597a-4c17-979b-8872526dd5b6\" target=\"_top\" title=\"psysml:6b502337-597a-4c17-979b-8872526dd5b6\" xlink:actuate=\"onRequest\" xlink:href=\"psysml:6b502337-597a-4c17-979b-8872526dd5b6\" xlink:show=\"new\" xlink:title=\"psysml:6b502337-597a-4c17-979b-8872526dd5b6\" xlink:type=\"simple\"><rect fill=\"#FFFFFF\" height=\"45.9375\" id=\"E6\" rx=\"10\" ry=\"10\" style=\"stroke: #383838; stroke-width: 1.5;\" width=\"42\" x=\"32\" y=\"147\"/><text fill=\"#000000\" font-family=\"sans-serif\" font-size=\"12\" font-style=\"italic\" lengthAdjust=\"spacingAndGlyphs\" textLength=\"40\" x=\"33\" y=\"163.1387\">«part»</text><text fill=\"#000000\" font-family=\"sans-serif\" font-size=\"12\" lengthAdjust=\"spacingAndGlyphs\" textLength=\"6\" x=\"50\" y=\"177.1074\">y</text><line style=\"stroke: #383838; stroke-width: 1.5;\" x1=\"33\" x2=\"73\" y1=\"184.9375\" y2=\"184.9375\"/></a><!--MD5=[2156ba9850f5573cc1fc38a6a4b2f02b]\n",
       "class E7--><a href=\"psysml:c0882630-04b8-4e6c-a043-bd39b4f2710a\" target=\"_top\" title=\"psysml:c0882630-04b8-4e6c-a043-bd39b4f2710a\" xlink:actuate=\"onRequest\" xlink:href=\"psysml:c0882630-04b8-4e6c-a043-bd39b4f2710a\" xlink:show=\"new\" xlink:title=\"psysml:c0882630-04b8-4e6c-a043-bd39b4f2710a\" xlink:type=\"simple\"><rect fill=\"#FFFFFF\" height=\"45.9375\" id=\"E7\" rx=\"10\" ry=\"10\" style=\"stroke: #383838; stroke-width: 1.5;\" width=\"42\" x=\"109\" y=\"147\"/><text fill=\"#000000\" font-family=\"sans-serif\" font-size=\"12\" font-style=\"italic\" lengthAdjust=\"spacingAndGlyphs\" textLength=\"40\" x=\"110\" y=\"163.1387\">«part»</text><text fill=\"#000000\" font-family=\"sans-serif\" font-size=\"12\" lengthAdjust=\"spacingAndGlyphs\" textLength=\"16\" x=\"122\" y=\"177.1074\">p1</text><line style=\"stroke: #383838; stroke-width: 1.5;\" x1=\"110\" x2=\"150\" y1=\"184.9375\" y2=\"184.9375\"/></a><!--MD5=[209b3feb70ccb6233bfe1053d122c12c]\n",
       "reverse link E2 to E3--><a href=\"psysml:d551e406-73fb-4a91-a080-fc440127a640\" target=\"_top\" title=\"psysml:d551e406-73fb-4a91-a080-fc440127a640\" xlink:actuate=\"onRequest\" xlink:href=\"psysml:d551e406-73fb-4a91-a080-fc440127a640\" xlink:show=\"new\" xlink:title=\"psysml:d551e406-73fb-4a91-a080-fc440127a640\" xlink:type=\"simple\"><path d=\"M91,312.44 C91,327.87 91,345.47 91,358.98 \" fill=\"none\" id=\"E2&lt;-E3\" style=\"stroke: #383838; stroke-width: 1.0;\"/><polygon fill=\"#383838\" points=\"91,299.06,87,305.06,91,311.06,95,305.06,91,299.06\" style=\"stroke: #383838; stroke-width: 1.0;\"/></a><!--MD5=[4672eba38e49728da53d11aeb285b987]\n",
       "reverse link E3 to E4--><a href=\"psysml:0c62ef63-43f3-4799-a069-927499b27fb4\" target=\"_top\" title=\"psysml:0c62ef63-43f3-4799-a069-927499b27fb4\" xlink:actuate=\"onRequest\" xlink:href=\"psysml:0c62ef63-43f3-4799-a069-927499b27fb4\" xlink:show=\"new\" xlink:title=\"psysml:0c62ef63-43f3-4799-a069-927499b27fb4\" xlink:type=\"simple\"><path d=\"M91,418.44 C91,433.87 91,451.47 91,464.98 \" fill=\"none\" id=\"E3&lt;-E4\" style=\"stroke: #383838; stroke-width: 1.0;\"/><polygon fill=\"#383838\" points=\"91,405.06,87,411.06,91,417.06,95,411.06,91,405.06\" style=\"stroke: #383838; stroke-width: 1.0;\"/></a><!--MD5=[85d356282659285ab4b2cfe2f634dd2b]\n",
       "reverse link E5 to E6--><a href=\"psysml:bccb9dd4-409f-48ce-8915-27f20628680f\" target=\"_top\" title=\"psysml:bccb9dd4-409f-48ce-8915-27f20628680f\" xlink:actuate=\"onRequest\" xlink:href=\"psysml:bccb9dd4-409f-48ce-8915-27f20628680f\" xlink:show=\"new\" xlink:title=\"psysml:bccb9dd4-409f-48ce-8915-27f20628680f\" xlink:type=\"simple\"><path d=\"M78.4,99.49 C72.68,115.15 66.08,133.19 61.05,146.98 \" fill=\"none\" id=\"E5&lt;-E6\" style=\"stroke: #383838; stroke-width: 1.0;\"/><polygon fill=\"#383838\" points=\"82.94,87.06,77.1196,91.317,78.8105,98.3271,84.6309,94.07,82.94,87.06\" style=\"stroke: #383838; stroke-width: 1.0;\"/></a><!--MD5=[2351f337d6de0f557b50152ba70847b5]\n",
       "link E6 to E2--><a href=\"psysml:3c2ac290-8ac1-4000-af3e-5bcf9ecf7966\" target=\"_top\" title=\"psysml:3c2ac290-8ac1-4000-af3e-5bcf9ecf7966\" xlink:actuate=\"onRequest\" xlink:href=\"psysml:3c2ac290-8ac1-4000-af3e-5bcf9ecf7966\" xlink:show=\"new\" xlink:title=\"psysml:3c2ac290-8ac1-4000-af3e-5bcf9ecf7966\" xlink:type=\"simple\"><path d=\"M61.06,193.06 C67.51,210.7 76.51,235.34 82.95,252.98 \" fill=\"none\" id=\"E6-E2\" style=\"stroke: #383838; stroke-width: 3.0;\"/></a><!--MD5=[452b418e7f8a40397a49b8c0a78acc5b]\n",
       "reverse link E5 to E7--><a href=\"psysml:97bf4e08-a4b3-492a-87d8-6adc842be5d3\" target=\"_top\" title=\"psysml:97bf4e08-a4b3-492a-87d8-6adc842be5d3\" xlink:actuate=\"onRequest\" xlink:href=\"psysml:97bf4e08-a4b3-492a-87d8-6adc842be5d3\" xlink:show=\"new\" xlink:title=\"psysml:97bf4e08-a4b3-492a-87d8-6adc842be5d3\" xlink:type=\"simple\"><path d=\"M103.94,99.49 C109.8,115.15 116.57,133.19 121.74,146.98 \" fill=\"none\" id=\"E5&lt;-E7\" style=\"stroke: #383838; stroke-width: 1.0;\"/><polygon fill=\"#383838\" points=\"99.27,87.06,97.635,94.0833,103.4893,98.2938,105.1242,91.2705,99.27,87.06\" style=\"stroke: #383838; stroke-width: 1.0;\"/></a><!--MD5=[583832df87f4419a098336a29a52fa00]\n",
       "link E7 to E2--><a href=\"psysml:6815ba90-0374-438b-ad93-53c34ddf71b8\" target=\"_top\" title=\"psysml:6815ba90-0374-438b-ad93-53c34ddf71b8\" xlink:actuate=\"onRequest\" xlink:href=\"psysml:6815ba90-0374-438b-ad93-53c34ddf71b8\" xlink:show=\"new\" xlink:title=\"psysml:6815ba90-0374-438b-ad93-53c34ddf71b8\" xlink:type=\"simple\"><path d=\"M121.73,193.06 C117.28,204.91 111.65,219.92 106.43,233.85 \" fill=\"none\" id=\"E7-&gt;E2\" style=\"stroke: #383838; stroke-width: 1.0;\"/><polygon fill=\"none\" points=\"112.84,236.71,99.26,252.98,99.73,231.79,112.84,236.71\" style=\"stroke: #383838; stroke-width: 1.0;\"/></a><!--MD5=[e2b8a91229748c70d1ed712f30772e46]\n",
       "@startuml\r\n",
       "skinparam monochrome true\r\n",
       "skinparam classbackgroundcolor white\r\n",
       "skinparam shadowing false\r\n",
       "skinparam wrapWidth 300\r\n",
       "hide circle\r\n",
       "\r\n",
       "package \"ConnectionTest\" as E1  [[psysml:22aef044-e637-4155-a6c9-7ceaf878199d ]]  {\r\n",
       "comp usage \"p\" as E2  <<(T,blue) part>> [[psysml:4372fe5d-a54c-4736-ace6-05c35a4b2fd0 ]] {\r\n",
       "}\r\n",
       "comp usage \"x\" as E3  <<(T,blue) part>> [[psysml:3f2b8857-d9ea-41c6-bb7a-db05d1986c1a ]] {\r\n",
       "}\r\n",
       "comp usage \"x1\" as E4  <<(T,blue) part>> [[psysml:e84cebed-6405-49c5-b413-5d504fb47cee ]] {\r\n",
       "}\r\n",
       "comp def \"P\" as E5  <<(T,blue) part def>> [[psysml:ba7b03ba-afee-4a2c-95ba-c440e322d2ee ]] {\r\n",
       "}\r\n",
       "comp usage \"y\" as E6  <<(T,blue) part>> [[psysml:6b502337-597a-4c17-979b-8872526dd5b6 ]] {\r\n",
       "}\r\n",
       "comp usage \"p1\" as E7  <<(T,blue) part>> [[psysml:c0882630-04b8-4e6c-a043-bd39b4f2710a ]] {\r\n",
       "}\r\n",
       "E2 *- - E3 [[psysml:d551e406-73fb-4a91-a080-fc440127a640 ]] \r\n",
       "E3 *- - E4 [[psysml:0c62ef63-43f3-4799-a069-927499b27fb4 ]] \r\n",
       "E5 *- - E6 [[psysml:bccb9dd4-409f-48ce-8915-27f20628680f ]] \r\n",
       "E6 -[thickness=3]- E2 [[psysml:3c2ac290-8ac1-4000-af3e-5bcf9ecf7966 ]] \r\n",
       "E5 *- - E7 [[psysml:97bf4e08-a4b3-492a-87d8-6adc842be5d3 ]] \r\n",
       "E7 - -|> E2 [[psysml:6815ba90-0374-438b-ad93-53c34ddf71b8 ]] \r\n",
       "}\r\n",
       "@enduml\r\n",
       "\n",
       "PlantUML version 1.2020.13(Sat Jun 13 12:26:38 UTC 2020)\n",
       "(EPL source distribution)\n",
       "Java Runtime: OpenJDK Runtime Environment\n",
       "JVM: OpenJDK 64-Bit Server VM\n",
       "Default Encoding: UTF-8\n",
       "Language: en\n",
       "Country: null\n",
       "--></g></svg>"
      ]
     },
     "execution_count": 43,
     "metadata": {},
     "output_type": "execute_result"
    }
   ],
   "source": [
    "%viz --style=\"DEFAULT\" --view=\"MIXED\" \"ConnectionTest\""
   ]
  },
  {
   "cell_type": "code",
   "execution_count": 44,
   "id": "462a6fe2",
   "metadata": {
    "execution": {
     "iopub.execute_input": "2021-06-30T09:21:37.503576Z",
     "iopub.status.busy": "2021-06-30T09:21:37.502988Z",
     "iopub.status.idle": "2021-06-30T09:21:37.556686Z",
     "shell.execute_reply": "2021-06-30T09:21:37.556137Z"
    }
   },
   "outputs": [
    {
     "data": {
      "image/svg+xml": [
       "<?xml version=\"1.0\" encoding=\"UTF-8\" standalone=\"no\"?><svg xmlns=\"http://www.w3.org/2000/svg\" xmlns:xlink=\"http://www.w3.org/1999/xlink\" contentScriptType=\"application/ecmascript\" contentStyleType=\"text/css\" height=\"539px\" preserveAspectRatio=\"none\" style=\"width:189px;height:539px;\" version=\"1.1\" viewBox=\"0 0 189 539\" width=\"189px\" zoomAndPan=\"magnify\"><defs/><g><!--MD5=[fbc87193dbaf4d95561dea2c320d4a47]\n",
       "cluster E1--><a href=\"psysml:22aef044-e637-4155-a6c9-7ceaf878199d\" target=\"_top\" title=\"psysml:22aef044-e637-4155-a6c9-7ceaf878199d\" xlink:actuate=\"onRequest\" xlink:href=\"psysml:22aef044-e637-4155-a6c9-7ceaf878199d\" xlink:show=\"new\" xlink:title=\"psysml:22aef044-e637-4155-a6c9-7ceaf878199d\" xlink:type=\"simple\"><polygon fill=\"#FFFFFF\" points=\"16,6,147,6,154,28.2969,167,28.2969,167,527,16,527,16,6\" style=\"stroke: #000000; stroke-width: 1.5;\"/><line style=\"stroke: #000000; stroke-width: 1.5;\" x1=\"16\" x2=\"154\" y1=\"28.2969\" y2=\"28.2969\"/><text fill=\"#000000\" font-family=\"sans-serif\" font-size=\"14\" font-weight=\"bold\" lengthAdjust=\"spacingAndGlyphs\" textLength=\"125\" x=\"20\" y=\"20.9951\">ConnectionTest</text></a><!--MD5=[b4997ac47864f28c2f74865a473b2911]\n",
       "class E2--><a href=\"psysml:4372fe5d-a54c-4736-ace6-05c35a4b2fd0\" target=\"_top\" title=\"psysml:4372fe5d-a54c-4736-ace6-05c35a4b2fd0\" xlink:actuate=\"onRequest\" xlink:href=\"psysml:4372fe5d-a54c-4736-ace6-05c35a4b2fd0\" xlink:show=\"new\" xlink:title=\"psysml:4372fe5d-a54c-4736-ace6-05c35a4b2fd0\" xlink:type=\"simple\"><rect fill=\"#FFFFFF\" height=\"45.9375\" id=\"E2\" rx=\"10\" ry=\"10\" style=\"stroke: #383838; stroke-width: 1.5;\" width=\"42\" x=\"70\" y=\"253\"/><text fill=\"#000000\" font-family=\"sans-serif\" font-size=\"12\" font-style=\"italic\" lengthAdjust=\"spacingAndGlyphs\" textLength=\"40\" x=\"71\" y=\"269.1387\">«part»</text><text fill=\"#000000\" font-family=\"sans-serif\" font-size=\"12\" lengthAdjust=\"spacingAndGlyphs\" textLength=\"8\" x=\"87\" y=\"283.1074\">p</text><line style=\"stroke: #383838; stroke-width: 1.5;\" x1=\"71\" x2=\"111\" y1=\"290.9375\" y2=\"290.9375\"/></a><!--MD5=[09b614a08d8cba4a07c9adeb5e0fee81]\n",
       "class E3--><a href=\"psysml:3f2b8857-d9ea-41c6-bb7a-db05d1986c1a\" target=\"_top\" title=\"psysml:3f2b8857-d9ea-41c6-bb7a-db05d1986c1a\" xlink:actuate=\"onRequest\" xlink:href=\"psysml:3f2b8857-d9ea-41c6-bb7a-db05d1986c1a\" xlink:show=\"new\" xlink:title=\"psysml:3f2b8857-d9ea-41c6-bb7a-db05d1986c1a\" xlink:type=\"simple\"><rect fill=\"#FFFFFF\" height=\"45.9375\" id=\"E3\" rx=\"10\" ry=\"10\" style=\"stroke: #383838; stroke-width: 1.5;\" width=\"42\" x=\"70\" y=\"359\"/><text fill=\"#000000\" font-family=\"sans-serif\" font-size=\"12\" font-style=\"italic\" lengthAdjust=\"spacingAndGlyphs\" textLength=\"40\" x=\"71\" y=\"375.1387\">«part»</text><text fill=\"#000000\" font-family=\"sans-serif\" font-size=\"12\" lengthAdjust=\"spacingAndGlyphs\" textLength=\"6\" x=\"88\" y=\"389.1074\">x</text><line style=\"stroke: #383838; stroke-width: 1.5;\" x1=\"71\" x2=\"111\" y1=\"396.9375\" y2=\"396.9375\"/></a><!--MD5=[ebbe1d658d1005bcc118a6aa81145e00]\n",
       "class E4--><a href=\"psysml:e84cebed-6405-49c5-b413-5d504fb47cee\" target=\"_top\" title=\"psysml:e84cebed-6405-49c5-b413-5d504fb47cee\" xlink:actuate=\"onRequest\" xlink:href=\"psysml:e84cebed-6405-49c5-b413-5d504fb47cee\" xlink:show=\"new\" xlink:title=\"psysml:e84cebed-6405-49c5-b413-5d504fb47cee\" xlink:type=\"simple\"><rect fill=\"#FFFFFF\" height=\"45.9375\" id=\"E4\" rx=\"10\" ry=\"10\" style=\"stroke: #383838; stroke-width: 1.5;\" width=\"42\" x=\"70\" y=\"465\"/><text fill=\"#000000\" font-family=\"sans-serif\" font-size=\"12\" font-style=\"italic\" lengthAdjust=\"spacingAndGlyphs\" textLength=\"40\" x=\"71\" y=\"481.1387\">«part»</text><text fill=\"#000000\" font-family=\"sans-serif\" font-size=\"12\" lengthAdjust=\"spacingAndGlyphs\" textLength=\"14\" x=\"84\" y=\"495.1074\">x1</text><line style=\"stroke: #383838; stroke-width: 1.5;\" x1=\"71\" x2=\"111\" y1=\"502.9375\" y2=\"502.9375\"/></a><!--MD5=[270fce915f116d4de14055a7c1d9a0f3]\n",
       "class E5--><a href=\"psysml:ba7b03ba-afee-4a2c-95ba-c440e322d2ee\" target=\"_top\" title=\"psysml:ba7b03ba-afee-4a2c-95ba-c440e322d2ee\" xlink:actuate=\"onRequest\" xlink:href=\"psysml:ba7b03ba-afee-4a2c-95ba-c440e322d2ee\" xlink:show=\"new\" xlink:title=\"psysml:ba7b03ba-afee-4a2c-95ba-c440e322d2ee\" xlink:type=\"simple\"><rect fill=\"#FFFFFF\" height=\"45.9375\" id=\"E5\" style=\"stroke: #383838; stroke-width: 1.5;\" width=\"66\" x=\"58\" y=\"41\"/><text fill=\"#000000\" font-family=\"sans-serif\" font-size=\"12\" font-style=\"italic\" lengthAdjust=\"spacingAndGlyphs\" textLength=\"64\" x=\"59\" y=\"57.1387\">«part def»</text><text fill=\"#000000\" font-family=\"sans-serif\" font-size=\"12\" lengthAdjust=\"spacingAndGlyphs\" textLength=\"8\" x=\"87\" y=\"71.1074\">P</text><line style=\"stroke: #383838; stroke-width: 1.5;\" x1=\"59\" x2=\"123\" y1=\"78.9375\" y2=\"78.9375\"/></a><!--MD5=[60a26617385b1d2d0262a64233df1f8d]\n",
       "class E6--><a href=\"psysml:6b502337-597a-4c17-979b-8872526dd5b6\" target=\"_top\" title=\"psysml:6b502337-597a-4c17-979b-8872526dd5b6\" xlink:actuate=\"onRequest\" xlink:href=\"psysml:6b502337-597a-4c17-979b-8872526dd5b6\" xlink:show=\"new\" xlink:title=\"psysml:6b502337-597a-4c17-979b-8872526dd5b6\" xlink:type=\"simple\"><rect fill=\"#FFFFFF\" height=\"45.9375\" id=\"E6\" rx=\"10\" ry=\"10\" style=\"stroke: #383838; stroke-width: 1.5;\" width=\"42\" x=\"32\" y=\"147\"/><text fill=\"#000000\" font-family=\"sans-serif\" font-size=\"12\" font-style=\"italic\" lengthAdjust=\"spacingAndGlyphs\" textLength=\"40\" x=\"33\" y=\"163.1387\">«part»</text><text fill=\"#000000\" font-family=\"sans-serif\" font-size=\"12\" lengthAdjust=\"spacingAndGlyphs\" textLength=\"6\" x=\"50\" y=\"177.1074\">y</text><line style=\"stroke: #383838; stroke-width: 1.5;\" x1=\"33\" x2=\"73\" y1=\"184.9375\" y2=\"184.9375\"/></a><!--MD5=[2156ba9850f5573cc1fc38a6a4b2f02b]\n",
       "class E7--><a href=\"psysml:c0882630-04b8-4e6c-a043-bd39b4f2710a\" target=\"_top\" title=\"psysml:c0882630-04b8-4e6c-a043-bd39b4f2710a\" xlink:actuate=\"onRequest\" xlink:href=\"psysml:c0882630-04b8-4e6c-a043-bd39b4f2710a\" xlink:show=\"new\" xlink:title=\"psysml:c0882630-04b8-4e6c-a043-bd39b4f2710a\" xlink:type=\"simple\"><rect fill=\"#FFFFFF\" height=\"45.9375\" id=\"E7\" rx=\"10\" ry=\"10\" style=\"stroke: #383838; stroke-width: 1.5;\" width=\"42\" x=\"109\" y=\"147\"/><text fill=\"#000000\" font-family=\"sans-serif\" font-size=\"12\" font-style=\"italic\" lengthAdjust=\"spacingAndGlyphs\" textLength=\"40\" x=\"110\" y=\"163.1387\">«part»</text><text fill=\"#000000\" font-family=\"sans-serif\" font-size=\"12\" lengthAdjust=\"spacingAndGlyphs\" textLength=\"16\" x=\"122\" y=\"177.1074\">p1</text><line style=\"stroke: #383838; stroke-width: 1.5;\" x1=\"110\" x2=\"150\" y1=\"184.9375\" y2=\"184.9375\"/></a><!--MD5=[209b3feb70ccb6233bfe1053d122c12c]\n",
       "reverse link E2 to E3--><a href=\"psysml:d551e406-73fb-4a91-a080-fc440127a640\" target=\"_top\" title=\"psysml:d551e406-73fb-4a91-a080-fc440127a640\" xlink:actuate=\"onRequest\" xlink:href=\"psysml:d551e406-73fb-4a91-a080-fc440127a640\" xlink:show=\"new\" xlink:title=\"psysml:d551e406-73fb-4a91-a080-fc440127a640\" xlink:type=\"simple\"><path d=\"M91,312.44 C91,327.87 91,345.47 91,358.98 \" fill=\"none\" id=\"E2&lt;-E3\" style=\"stroke: #383838; stroke-width: 1.0;\"/><polygon fill=\"#383838\" points=\"91,299.06,87,305.06,91,311.06,95,305.06,91,299.06\" style=\"stroke: #383838; stroke-width: 1.0;\"/></a><!--MD5=[4672eba38e49728da53d11aeb285b987]\n",
       "reverse link E3 to E4--><a href=\"psysml:0c62ef63-43f3-4799-a069-927499b27fb4\" target=\"_top\" title=\"psysml:0c62ef63-43f3-4799-a069-927499b27fb4\" xlink:actuate=\"onRequest\" xlink:href=\"psysml:0c62ef63-43f3-4799-a069-927499b27fb4\" xlink:show=\"new\" xlink:title=\"psysml:0c62ef63-43f3-4799-a069-927499b27fb4\" xlink:type=\"simple\"><path d=\"M91,418.44 C91,433.87 91,451.47 91,464.98 \" fill=\"none\" id=\"E3&lt;-E4\" style=\"stroke: #383838; stroke-width: 1.0;\"/><polygon fill=\"#383838\" points=\"91,405.06,87,411.06,91,417.06,95,411.06,91,405.06\" style=\"stroke: #383838; stroke-width: 1.0;\"/></a><!--MD5=[85d356282659285ab4b2cfe2f634dd2b]\n",
       "reverse link E5 to E6--><a href=\"psysml:bccb9dd4-409f-48ce-8915-27f20628680f\" target=\"_top\" title=\"psysml:bccb9dd4-409f-48ce-8915-27f20628680f\" xlink:actuate=\"onRequest\" xlink:href=\"psysml:bccb9dd4-409f-48ce-8915-27f20628680f\" xlink:show=\"new\" xlink:title=\"psysml:bccb9dd4-409f-48ce-8915-27f20628680f\" xlink:type=\"simple\"><path d=\"M78.4,99.49 C72.68,115.15 66.08,133.19 61.05,146.98 \" fill=\"none\" id=\"E5&lt;-E6\" style=\"stroke: #383838; stroke-width: 1.0;\"/><polygon fill=\"#383838\" points=\"82.94,87.06,77.1196,91.317,78.8105,98.3271,84.6309,94.07,82.94,87.06\" style=\"stroke: #383838; stroke-width: 1.0;\"/></a><!--MD5=[2351f337d6de0f557b50152ba70847b5]\n",
       "link E6 to E2--><a href=\"psysml:3c2ac290-8ac1-4000-af3e-5bcf9ecf7966\" target=\"_top\" title=\"psysml:3c2ac290-8ac1-4000-af3e-5bcf9ecf7966\" xlink:actuate=\"onRequest\" xlink:href=\"psysml:3c2ac290-8ac1-4000-af3e-5bcf9ecf7966\" xlink:show=\"new\" xlink:title=\"psysml:3c2ac290-8ac1-4000-af3e-5bcf9ecf7966\" xlink:type=\"simple\"><path d=\"M61.06,193.06 C67.51,210.7 76.51,235.34 82.95,252.98 \" fill=\"none\" id=\"E6-E2\" style=\"stroke: #383838; stroke-width: 3.0;\"/></a><!--MD5=[452b418e7f8a40397a49b8c0a78acc5b]\n",
       "reverse link E5 to E7--><a href=\"psysml:97bf4e08-a4b3-492a-87d8-6adc842be5d3\" target=\"_top\" title=\"psysml:97bf4e08-a4b3-492a-87d8-6adc842be5d3\" xlink:actuate=\"onRequest\" xlink:href=\"psysml:97bf4e08-a4b3-492a-87d8-6adc842be5d3\" xlink:show=\"new\" xlink:title=\"psysml:97bf4e08-a4b3-492a-87d8-6adc842be5d3\" xlink:type=\"simple\"><path d=\"M103.94,99.49 C109.8,115.15 116.57,133.19 121.74,146.98 \" fill=\"none\" id=\"E5&lt;-E7\" style=\"stroke: #383838; stroke-width: 1.0;\"/><polygon fill=\"#383838\" points=\"99.27,87.06,97.635,94.0833,103.4893,98.2938,105.1242,91.2705,99.27,87.06\" style=\"stroke: #383838; stroke-width: 1.0;\"/></a><!--MD5=[583832df87f4419a098336a29a52fa00]\n",
       "link E7 to E2--><a href=\"psysml:6815ba90-0374-438b-ad93-53c34ddf71b8\" target=\"_top\" title=\"psysml:6815ba90-0374-438b-ad93-53c34ddf71b8\" xlink:actuate=\"onRequest\" xlink:href=\"psysml:6815ba90-0374-438b-ad93-53c34ddf71b8\" xlink:show=\"new\" xlink:title=\"psysml:6815ba90-0374-438b-ad93-53c34ddf71b8\" xlink:type=\"simple\"><path d=\"M121.73,193.06 C117.28,204.91 111.65,219.92 106.43,233.85 \" fill=\"none\" id=\"E7-&gt;E2\" style=\"stroke: #383838; stroke-width: 1.0;\"/><polygon fill=\"none\" points=\"112.84,236.71,99.26,252.98,99.73,231.79,112.84,236.71\" style=\"stroke: #383838; stroke-width: 1.0;\"/></a><!--MD5=[860b2aefd9e91aeb7d48c56b6f065df5]\n",
       "@startuml\r\n",
       "top to bottom direction\r\n",
       "skinparam monochrome true\r\n",
       "skinparam classbackgroundcolor white\r\n",
       "skinparam shadowing false\r\n",
       "skinparam wrapWidth 300\r\n",
       "hide circle\r\n",
       "\r\n",
       "package \"ConnectionTest\" as E1  [[psysml:22aef044-e637-4155-a6c9-7ceaf878199d ]]  {\r\n",
       "comp usage \"p\" as E2  <<(T,blue) part>> [[psysml:4372fe5d-a54c-4736-ace6-05c35a4b2fd0 ]] {\r\n",
       "}\r\n",
       "comp usage \"x\" as E3  <<(T,blue) part>> [[psysml:3f2b8857-d9ea-41c6-bb7a-db05d1986c1a ]] {\r\n",
       "}\r\n",
       "comp usage \"x1\" as E4  <<(T,blue) part>> [[psysml:e84cebed-6405-49c5-b413-5d504fb47cee ]] {\r\n",
       "}\r\n",
       "comp def \"P\" as E5  <<(T,blue) part def>> [[psysml:ba7b03ba-afee-4a2c-95ba-c440e322d2ee ]] {\r\n",
       "}\r\n",
       "comp usage \"y\" as E6  <<(T,blue) part>> [[psysml:6b502337-597a-4c17-979b-8872526dd5b6 ]] {\r\n",
       "}\r\n",
       "comp usage \"p1\" as E7  <<(T,blue) part>> [[psysml:c0882630-04b8-4e6c-a043-bd39b4f2710a ]] {\r\n",
       "}\r\n",
       "E2 *- - E3 [[psysml:d551e406-73fb-4a91-a080-fc440127a640 ]] \r\n",
       "E3 *- - E4 [[psysml:0c62ef63-43f3-4799-a069-927499b27fb4 ]] \r\n",
       "E5 *- - E6 [[psysml:bccb9dd4-409f-48ce-8915-27f20628680f ]] \r\n",
       "E6 -[thickness=3]- E2 [[psysml:3c2ac290-8ac1-4000-af3e-5bcf9ecf7966 ]] \r\n",
       "E5 *- - E7 [[psysml:97bf4e08-a4b3-492a-87d8-6adc842be5d3 ]] \r\n",
       "E7 - -|> E2 [[psysml:6815ba90-0374-438b-ad93-53c34ddf71b8 ]] \r\n",
       "}\r\n",
       "@enduml\r\n",
       "\n",
       "PlantUML version 1.2020.13(Sat Jun 13 12:26:38 UTC 2020)\n",
       "(EPL source distribution)\n",
       "Java Runtime: OpenJDK Runtime Environment\n",
       "JVM: OpenJDK 64-Bit Server VM\n",
       "Default Encoding: UTF-8\n",
       "Language: en\n",
       "Country: null\n",
       "--></g></svg>"
      ]
     },
     "execution_count": 44,
     "metadata": {},
     "output_type": "execute_result"
    }
   ],
   "source": [
    "%viz --style=\"TB\" --view=\"Default\" \"ConnectionTest\""
   ]
  },
  {
   "cell_type": "code",
   "execution_count": 45,
   "id": "544bcfeb",
   "metadata": {
    "execution": {
     "iopub.execute_input": "2021-06-30T09:21:37.606594Z",
     "iopub.status.busy": "2021-06-30T09:21:37.605966Z",
     "iopub.status.idle": "2021-06-30T09:21:37.655723Z",
     "shell.execute_reply": "2021-06-30T09:21:37.655236Z"
    }
   },
   "outputs": [
    {
     "data": {
      "image/svg+xml": [
       "<?xml version=\"1.0\" encoding=\"UTF-8\" standalone=\"no\"?><svg xmlns=\"http://www.w3.org/2000/svg\" xmlns:xlink=\"http://www.w3.org/1999/xlink\" contentScriptType=\"application/ecmascript\" contentStyleType=\"text/css\" height=\"539px\" preserveAspectRatio=\"none\" style=\"width:189px;height:539px;\" version=\"1.1\" viewBox=\"0 0 189 539\" width=\"189px\" zoomAndPan=\"magnify\"><defs/><g><!--MD5=[fbc87193dbaf4d95561dea2c320d4a47]\n",
       "cluster E1--><a href=\"psysml:22aef044-e637-4155-a6c9-7ceaf878199d\" target=\"_top\" title=\"psysml:22aef044-e637-4155-a6c9-7ceaf878199d\" xlink:actuate=\"onRequest\" xlink:href=\"psysml:22aef044-e637-4155-a6c9-7ceaf878199d\" xlink:show=\"new\" xlink:title=\"psysml:22aef044-e637-4155-a6c9-7ceaf878199d\" xlink:type=\"simple\"><polygon fill=\"#FFFFFF\" points=\"16,6,147,6,154,28.2969,167,28.2969,167,527,16,527,16,6\" style=\"stroke: #000000; stroke-width: 1.5;\"/><line style=\"stroke: #000000; stroke-width: 1.5;\" x1=\"16\" x2=\"154\" y1=\"28.2969\" y2=\"28.2969\"/><text fill=\"#000000\" font-family=\"sans-serif\" font-size=\"14\" font-weight=\"bold\" lengthAdjust=\"spacingAndGlyphs\" textLength=\"125\" x=\"20\" y=\"20.9951\">ConnectionTest</text></a><!--MD5=[b4997ac47864f28c2f74865a473b2911]\n",
       "class E2--><a href=\"psysml:4372fe5d-a54c-4736-ace6-05c35a4b2fd0\" target=\"_top\" title=\"psysml:4372fe5d-a54c-4736-ace6-05c35a4b2fd0\" xlink:actuate=\"onRequest\" xlink:href=\"psysml:4372fe5d-a54c-4736-ace6-05c35a4b2fd0\" xlink:show=\"new\" xlink:title=\"psysml:4372fe5d-a54c-4736-ace6-05c35a4b2fd0\" xlink:type=\"simple\"><rect fill=\"#FFFFFF\" height=\"45.9375\" id=\"E2\" rx=\"10\" ry=\"10\" style=\"stroke: #383838; stroke-width: 1.5;\" width=\"42\" x=\"70\" y=\"253\"/><text fill=\"#000000\" font-family=\"sans-serif\" font-size=\"12\" font-style=\"italic\" lengthAdjust=\"spacingAndGlyphs\" textLength=\"40\" x=\"71\" y=\"269.1387\">«part»</text><text fill=\"#000000\" font-family=\"sans-serif\" font-size=\"12\" lengthAdjust=\"spacingAndGlyphs\" textLength=\"8\" x=\"87\" y=\"283.1074\">p</text><line style=\"stroke: #383838; stroke-width: 1.5;\" x1=\"71\" x2=\"111\" y1=\"290.9375\" y2=\"290.9375\"/></a><!--MD5=[09b614a08d8cba4a07c9adeb5e0fee81]\n",
       "class E3--><a href=\"psysml:3f2b8857-d9ea-41c6-bb7a-db05d1986c1a\" target=\"_top\" title=\"psysml:3f2b8857-d9ea-41c6-bb7a-db05d1986c1a\" xlink:actuate=\"onRequest\" xlink:href=\"psysml:3f2b8857-d9ea-41c6-bb7a-db05d1986c1a\" xlink:show=\"new\" xlink:title=\"psysml:3f2b8857-d9ea-41c6-bb7a-db05d1986c1a\" xlink:type=\"simple\"><rect fill=\"#FFFFFF\" height=\"45.9375\" id=\"E3\" rx=\"10\" ry=\"10\" style=\"stroke: #383838; stroke-width: 1.5;\" width=\"42\" x=\"70\" y=\"359\"/><text fill=\"#000000\" font-family=\"sans-serif\" font-size=\"12\" font-style=\"italic\" lengthAdjust=\"spacingAndGlyphs\" textLength=\"40\" x=\"71\" y=\"375.1387\">«part»</text><text fill=\"#000000\" font-family=\"sans-serif\" font-size=\"12\" lengthAdjust=\"spacingAndGlyphs\" textLength=\"6\" x=\"88\" y=\"389.1074\">x</text><line style=\"stroke: #383838; stroke-width: 1.5;\" x1=\"71\" x2=\"111\" y1=\"396.9375\" y2=\"396.9375\"/></a><!--MD5=[ebbe1d658d1005bcc118a6aa81145e00]\n",
       "class E4--><a href=\"psysml:e84cebed-6405-49c5-b413-5d504fb47cee\" target=\"_top\" title=\"psysml:e84cebed-6405-49c5-b413-5d504fb47cee\" xlink:actuate=\"onRequest\" xlink:href=\"psysml:e84cebed-6405-49c5-b413-5d504fb47cee\" xlink:show=\"new\" xlink:title=\"psysml:e84cebed-6405-49c5-b413-5d504fb47cee\" xlink:type=\"simple\"><rect fill=\"#FFFFFF\" height=\"45.9375\" id=\"E4\" rx=\"10\" ry=\"10\" style=\"stroke: #383838; stroke-width: 1.5;\" width=\"42\" x=\"70\" y=\"465\"/><text fill=\"#000000\" font-family=\"sans-serif\" font-size=\"12\" font-style=\"italic\" lengthAdjust=\"spacingAndGlyphs\" textLength=\"40\" x=\"71\" y=\"481.1387\">«part»</text><text fill=\"#000000\" font-family=\"sans-serif\" font-size=\"12\" lengthAdjust=\"spacingAndGlyphs\" textLength=\"14\" x=\"84\" y=\"495.1074\">x1</text><line style=\"stroke: #383838; stroke-width: 1.5;\" x1=\"71\" x2=\"111\" y1=\"502.9375\" y2=\"502.9375\"/></a><!--MD5=[270fce915f116d4de14055a7c1d9a0f3]\n",
       "class E5--><a href=\"psysml:ba7b03ba-afee-4a2c-95ba-c440e322d2ee\" target=\"_top\" title=\"psysml:ba7b03ba-afee-4a2c-95ba-c440e322d2ee\" xlink:actuate=\"onRequest\" xlink:href=\"psysml:ba7b03ba-afee-4a2c-95ba-c440e322d2ee\" xlink:show=\"new\" xlink:title=\"psysml:ba7b03ba-afee-4a2c-95ba-c440e322d2ee\" xlink:type=\"simple\"><rect fill=\"#FFFFFF\" height=\"45.9375\" id=\"E5\" style=\"stroke: #383838; stroke-width: 1.5;\" width=\"66\" x=\"58\" y=\"41\"/><text fill=\"#000000\" font-family=\"sans-serif\" font-size=\"12\" font-style=\"italic\" lengthAdjust=\"spacingAndGlyphs\" textLength=\"64\" x=\"59\" y=\"57.1387\">«part def»</text><text fill=\"#000000\" font-family=\"sans-serif\" font-size=\"12\" lengthAdjust=\"spacingAndGlyphs\" textLength=\"8\" x=\"87\" y=\"71.1074\">P</text><line style=\"stroke: #383838; stroke-width: 1.5;\" x1=\"59\" x2=\"123\" y1=\"78.9375\" y2=\"78.9375\"/></a><!--MD5=[60a26617385b1d2d0262a64233df1f8d]\n",
       "class E6--><a href=\"psysml:6b502337-597a-4c17-979b-8872526dd5b6\" target=\"_top\" title=\"psysml:6b502337-597a-4c17-979b-8872526dd5b6\" xlink:actuate=\"onRequest\" xlink:href=\"psysml:6b502337-597a-4c17-979b-8872526dd5b6\" xlink:show=\"new\" xlink:title=\"psysml:6b502337-597a-4c17-979b-8872526dd5b6\" xlink:type=\"simple\"><rect fill=\"#FFFFFF\" height=\"45.9375\" id=\"E6\" rx=\"10\" ry=\"10\" style=\"stroke: #383838; stroke-width: 1.5;\" width=\"42\" x=\"32\" y=\"147\"/><text fill=\"#000000\" font-family=\"sans-serif\" font-size=\"12\" font-style=\"italic\" lengthAdjust=\"spacingAndGlyphs\" textLength=\"40\" x=\"33\" y=\"163.1387\">«part»</text><text fill=\"#000000\" font-family=\"sans-serif\" font-size=\"12\" lengthAdjust=\"spacingAndGlyphs\" textLength=\"6\" x=\"50\" y=\"177.1074\">y</text><line style=\"stroke: #383838; stroke-width: 1.5;\" x1=\"33\" x2=\"73\" y1=\"184.9375\" y2=\"184.9375\"/></a><!--MD5=[2156ba9850f5573cc1fc38a6a4b2f02b]\n",
       "class E7--><a href=\"psysml:c0882630-04b8-4e6c-a043-bd39b4f2710a\" target=\"_top\" title=\"psysml:c0882630-04b8-4e6c-a043-bd39b4f2710a\" xlink:actuate=\"onRequest\" xlink:href=\"psysml:c0882630-04b8-4e6c-a043-bd39b4f2710a\" xlink:show=\"new\" xlink:title=\"psysml:c0882630-04b8-4e6c-a043-bd39b4f2710a\" xlink:type=\"simple\"><rect fill=\"#FFFFFF\" height=\"45.9375\" id=\"E7\" rx=\"10\" ry=\"10\" style=\"stroke: #383838; stroke-width: 1.5;\" width=\"42\" x=\"109\" y=\"147\"/><text fill=\"#000000\" font-family=\"sans-serif\" font-size=\"12\" font-style=\"italic\" lengthAdjust=\"spacingAndGlyphs\" textLength=\"40\" x=\"110\" y=\"163.1387\">«part»</text><text fill=\"#000000\" font-family=\"sans-serif\" font-size=\"12\" lengthAdjust=\"spacingAndGlyphs\" textLength=\"16\" x=\"122\" y=\"177.1074\">p1</text><line style=\"stroke: #383838; stroke-width: 1.5;\" x1=\"110\" x2=\"150\" y1=\"184.9375\" y2=\"184.9375\"/></a><!--MD5=[209b3feb70ccb6233bfe1053d122c12c]\n",
       "reverse link E2 to E3--><a href=\"psysml:d551e406-73fb-4a91-a080-fc440127a640\" target=\"_top\" title=\"psysml:d551e406-73fb-4a91-a080-fc440127a640\" xlink:actuate=\"onRequest\" xlink:href=\"psysml:d551e406-73fb-4a91-a080-fc440127a640\" xlink:show=\"new\" xlink:title=\"psysml:d551e406-73fb-4a91-a080-fc440127a640\" xlink:type=\"simple\"><path d=\"M91,312.44 C91,327.87 91,345.47 91,358.98 \" fill=\"none\" id=\"E2&lt;-E3\" style=\"stroke: #383838; stroke-width: 1.0;\"/><polygon fill=\"#383838\" points=\"91,299.06,87,305.06,91,311.06,95,305.06,91,299.06\" style=\"stroke: #383838; stroke-width: 1.0;\"/></a><!--MD5=[4672eba38e49728da53d11aeb285b987]\n",
       "reverse link E3 to E4--><a href=\"psysml:0c62ef63-43f3-4799-a069-927499b27fb4\" target=\"_top\" title=\"psysml:0c62ef63-43f3-4799-a069-927499b27fb4\" xlink:actuate=\"onRequest\" xlink:href=\"psysml:0c62ef63-43f3-4799-a069-927499b27fb4\" xlink:show=\"new\" xlink:title=\"psysml:0c62ef63-43f3-4799-a069-927499b27fb4\" xlink:type=\"simple\"><path d=\"M91,418.44 C91,433.87 91,451.47 91,464.98 \" fill=\"none\" id=\"E3&lt;-E4\" style=\"stroke: #383838; stroke-width: 1.0;\"/><polygon fill=\"#383838\" points=\"91,405.06,87,411.06,91,417.06,95,411.06,91,405.06\" style=\"stroke: #383838; stroke-width: 1.0;\"/></a><!--MD5=[85d356282659285ab4b2cfe2f634dd2b]\n",
       "reverse link E5 to E6--><a href=\"psysml:bccb9dd4-409f-48ce-8915-27f20628680f\" target=\"_top\" title=\"psysml:bccb9dd4-409f-48ce-8915-27f20628680f\" xlink:actuate=\"onRequest\" xlink:href=\"psysml:bccb9dd4-409f-48ce-8915-27f20628680f\" xlink:show=\"new\" xlink:title=\"psysml:bccb9dd4-409f-48ce-8915-27f20628680f\" xlink:type=\"simple\"><path d=\"M78.4,99.49 C72.68,115.15 66.08,133.19 61.05,146.98 \" fill=\"none\" id=\"E5&lt;-E6\" style=\"stroke: #383838; stroke-width: 1.0;\"/><polygon fill=\"#383838\" points=\"82.94,87.06,77.1196,91.317,78.8105,98.3271,84.6309,94.07,82.94,87.06\" style=\"stroke: #383838; stroke-width: 1.0;\"/></a><!--MD5=[2351f337d6de0f557b50152ba70847b5]\n",
       "link E6 to E2--><a href=\"psysml:3c2ac290-8ac1-4000-af3e-5bcf9ecf7966\" target=\"_top\" title=\"psysml:3c2ac290-8ac1-4000-af3e-5bcf9ecf7966\" xlink:actuate=\"onRequest\" xlink:href=\"psysml:3c2ac290-8ac1-4000-af3e-5bcf9ecf7966\" xlink:show=\"new\" xlink:title=\"psysml:3c2ac290-8ac1-4000-af3e-5bcf9ecf7966\" xlink:type=\"simple\"><path d=\"M61.06,193.06 C67.51,210.7 76.51,235.34 82.95,252.98 \" fill=\"none\" id=\"E6-E2\" style=\"stroke: #383838; stroke-width: 3.0;\"/></a><!--MD5=[452b418e7f8a40397a49b8c0a78acc5b]\n",
       "reverse link E5 to E7--><a href=\"psysml:97bf4e08-a4b3-492a-87d8-6adc842be5d3\" target=\"_top\" title=\"psysml:97bf4e08-a4b3-492a-87d8-6adc842be5d3\" xlink:actuate=\"onRequest\" xlink:href=\"psysml:97bf4e08-a4b3-492a-87d8-6adc842be5d3\" xlink:show=\"new\" xlink:title=\"psysml:97bf4e08-a4b3-492a-87d8-6adc842be5d3\" xlink:type=\"simple\"><path d=\"M103.94,99.49 C109.8,115.15 116.57,133.19 121.74,146.98 \" fill=\"none\" id=\"E5&lt;-E7\" style=\"stroke: #383838; stroke-width: 1.0;\"/><polygon fill=\"#383838\" points=\"99.27,87.06,97.635,94.0833,103.4893,98.2938,105.1242,91.2705,99.27,87.06\" style=\"stroke: #383838; stroke-width: 1.0;\"/></a><!--MD5=[583832df87f4419a098336a29a52fa00]\n",
       "link E7 to E2--><a href=\"psysml:6815ba90-0374-438b-ad93-53c34ddf71b8\" target=\"_top\" title=\"psysml:6815ba90-0374-438b-ad93-53c34ddf71b8\" xlink:actuate=\"onRequest\" xlink:href=\"psysml:6815ba90-0374-438b-ad93-53c34ddf71b8\" xlink:show=\"new\" xlink:title=\"psysml:6815ba90-0374-438b-ad93-53c34ddf71b8\" xlink:type=\"simple\"><path d=\"M121.73,193.06 C117.28,204.91 111.65,219.92 106.43,233.85 \" fill=\"none\" id=\"E7-&gt;E2\" style=\"stroke: #383838; stroke-width: 1.0;\"/><polygon fill=\"none\" points=\"112.84,236.71,99.26,252.98,99.73,231.79,112.84,236.71\" style=\"stroke: #383838; stroke-width: 1.0;\"/></a><!--MD5=[860b2aefd9e91aeb7d48c56b6f065df5]\n",
       "@startuml\r\n",
       "top to bottom direction\r\n",
       "skinparam monochrome true\r\n",
       "skinparam classbackgroundcolor white\r\n",
       "skinparam shadowing false\r\n",
       "skinparam wrapWidth 300\r\n",
       "hide circle\r\n",
       "\r\n",
       "package \"ConnectionTest\" as E1  [[psysml:22aef044-e637-4155-a6c9-7ceaf878199d ]]  {\r\n",
       "comp usage \"p\" as E2  <<(T,blue) part>> [[psysml:4372fe5d-a54c-4736-ace6-05c35a4b2fd0 ]] {\r\n",
       "}\r\n",
       "comp usage \"x\" as E3  <<(T,blue) part>> [[psysml:3f2b8857-d9ea-41c6-bb7a-db05d1986c1a ]] {\r\n",
       "}\r\n",
       "comp usage \"x1\" as E4  <<(T,blue) part>> [[psysml:e84cebed-6405-49c5-b413-5d504fb47cee ]] {\r\n",
       "}\r\n",
       "comp def \"P\" as E5  <<(T,blue) part def>> [[psysml:ba7b03ba-afee-4a2c-95ba-c440e322d2ee ]] {\r\n",
       "}\r\n",
       "comp usage \"y\" as E6  <<(T,blue) part>> [[psysml:6b502337-597a-4c17-979b-8872526dd5b6 ]] {\r\n",
       "}\r\n",
       "comp usage \"p1\" as E7  <<(T,blue) part>> [[psysml:c0882630-04b8-4e6c-a043-bd39b4f2710a ]] {\r\n",
       "}\r\n",
       "E2 *- - E3 [[psysml:d551e406-73fb-4a91-a080-fc440127a640 ]] \r\n",
       "E3 *- - E4 [[psysml:0c62ef63-43f3-4799-a069-927499b27fb4 ]] \r\n",
       "E5 *- - E6 [[psysml:bccb9dd4-409f-48ce-8915-27f20628680f ]] \r\n",
       "E6 -[thickness=3]- E2 [[psysml:3c2ac290-8ac1-4000-af3e-5bcf9ecf7966 ]] \r\n",
       "E5 *- - E7 [[psysml:97bf4e08-a4b3-492a-87d8-6adc842be5d3 ]] \r\n",
       "E7 - -|> E2 [[psysml:6815ba90-0374-438b-ad93-53c34ddf71b8 ]] \r\n",
       "}\r\n",
       "@enduml\r\n",
       "\n",
       "PlantUML version 1.2020.13(Sat Jun 13 12:26:38 UTC 2020)\n",
       "(EPL source distribution)\n",
       "Java Runtime: OpenJDK Runtime Environment\n",
       "JVM: OpenJDK 64-Bit Server VM\n",
       "Default Encoding: UTF-8\n",
       "Language: en\n",
       "Country: null\n",
       "--></g></svg>"
      ]
     },
     "execution_count": 45,
     "metadata": {},
     "output_type": "execute_result"
    }
   ],
   "source": [
    "%viz --style=\"TB\" --view=\"Tree\" \"ConnectionTest\""
   ]
  },
  {
   "cell_type": "code",
   "execution_count": 46,
   "id": "d7e4866e",
   "metadata": {
    "execution": {
     "iopub.execute_input": "2021-06-30T09:21:37.707618Z",
     "iopub.status.busy": "2021-06-30T09:21:37.707089Z",
     "iopub.status.idle": "2021-06-30T09:21:37.713408Z",
     "shell.execute_reply": "2021-06-30T09:21:37.713769Z"
    }
   },
   "outputs": [
    {
     "data": {
      "image/svg+xml": [
       "<?xml version=\"1.0\" encoding=\"UTF-8\" standalone=\"no\"?><svg xmlns=\"http://www.w3.org/2000/svg\" xmlns:xlink=\"http://www.w3.org/1999/xlink\" contentScriptType=\"application/ecmascript\" contentStyleType=\"text/css\" height=\"12px\" preserveAspectRatio=\"none\" style=\"width:12px;height:12px;\" version=\"1.1\" viewBox=\"0 0 12 12\" width=\"12px\" zoomAndPan=\"magnify\"><defs/><g><!--MD5=[f4ee21bc66e489b5061b7c3e9601fdef]\n",
       "@startuml\r\n",
       "top to bottom direction\r\n",
       "skinparam monochrome true\r\n",
       "skinparam classbackgroundcolor white\r\n",
       "skinparam shadowing false\r\n",
       "skinparam wrapWidth 300\r\n",
       "hide circle\r\n",
       "\r\n",
       "@enduml\r\n",
       "\n",
       "PlantUML version 1.2020.13(Sat Jun 13 12:26:38 UTC 2020)\n",
       "(EPL source distribution)\n",
       "Java Runtime: OpenJDK Runtime Environment\n",
       "JVM: OpenJDK 64-Bit Server VM\n",
       "Default Encoding: UTF-8\n",
       "Language: en\n",
       "Country: null\n",
       "--></g></svg>"
      ]
     },
     "execution_count": 46,
     "metadata": {},
     "output_type": "execute_result"
    }
   ],
   "source": [
    "%viz --style=\"TB\" --view=\"State\" \"ConnectionTest\""
   ]
  },
  {
   "cell_type": "code",
   "execution_count": 47,
   "id": "1fa0c9d8",
   "metadata": {
    "execution": {
     "iopub.execute_input": "2021-06-30T09:21:37.765888Z",
     "iopub.status.busy": "2021-06-30T09:21:37.765300Z",
     "iopub.status.idle": "2021-06-30T09:21:37.808328Z",
     "shell.execute_reply": "2021-06-30T09:21:37.806707Z"
    }
   },
   "outputs": [
    {
     "data": {
      "image/svg+xml": [
       "<?xml version=\"1.0\" encoding=\"UTF-8\" standalone=\"no\"?><svg xmlns=\"http://www.w3.org/2000/svg\" xmlns:xlink=\"http://www.w3.org/1999/xlink\" contentScriptType=\"application/ecmascript\" contentStyleType=\"text/css\" height=\"406px\" preserveAspectRatio=\"none\" style=\"width:509px;height:406px;\" version=\"1.1\" viewBox=\"0 0 509 406\" width=\"509px\" zoomAndPan=\"magnify\"><defs/><g><!--MD5=[fbc87193dbaf4d95561dea2c320d4a47]\n",
       "cluster E1--><a href=\"psysml:22aef044-e637-4155-a6c9-7ceaf878199d\" target=\"_top\" title=\"psysml:22aef044-e637-4155-a6c9-7ceaf878199d\" xlink:actuate=\"onRequest\" xlink:href=\"psysml:22aef044-e637-4155-a6c9-7ceaf878199d\" xlink:show=\"new\" xlink:title=\"psysml:22aef044-e637-4155-a6c9-7ceaf878199d\" xlink:type=\"simple\"><polygon fill=\"#FFFFFF\" points=\"16,6,147,6,154,28.2969,487,28.2969,487,394,16,394,16,6\" style=\"stroke: #000000; stroke-width: 1.5;\"/><line style=\"stroke: #000000; stroke-width: 1.5;\" x1=\"16\" x2=\"154\" y1=\"28.2969\" y2=\"28.2969\"/><text fill=\"#000000\" font-family=\"sans-serif\" font-size=\"14\" font-weight=\"bold\" lengthAdjust=\"spacingAndGlyphs\" textLength=\"125\" x=\"20\" y=\"20.9951\">ConnectionTest</text></a><!--MD5=[e4f7fae6ed58524ba242bb0b0d3be6b7]\n",
       "cluster E2--><a href=\"psysml:4372fe5d-a54c-4736-ace6-05c35a4b2fd0\" target=\"_top\" title=\"psysml:4372fe5d-a54c-4736-ace6-05c35a4b2fd0\" xlink:actuate=\"onRequest\" xlink:href=\"psysml:4372fe5d-a54c-4736-ace6-05c35a4b2fd0\" xlink:show=\"new\" xlink:title=\"psysml:4372fe5d-a54c-4736-ace6-05c35a4b2fd0\" xlink:type=\"simple\"><rect fill=\"#FFFFFF\" height=\"174\" id=\"E2\" rx=\"10\" ry=\"10\" style=\"stroke: #383838; stroke-width: 1.5;\" width=\"154\" x=\"301\" y=\"164\"/><rect fill=\"#F8F8F8\" height=\"23.9688\" rx=\"10\" ry=\"10\" style=\"stroke: #F8F8F8; stroke-width: 1.5;\" width=\"154\" x=\"301\" y=\"164\"/><rect fill=\"#F8F8F8\" height=\"10\" style=\"stroke: #F8F8F8; stroke-width: 1.5;\" width=\"154\" x=\"301\" y=\"177.9688\"/><rect fill=\"none\" height=\"174\" id=\"E2\" rx=\"10\" ry=\"10\" style=\"stroke: #383838; stroke-width: 1.5;\" width=\"154\" x=\"301\" y=\"164\"/><text fill=\"#000000\" font-family=\"sans-serif\" font-size=\"12\" lengthAdjust=\"spacingAndGlyphs\" textLength=\"8\" x=\"374\" y=\"180.1387\">p</text><line style=\"stroke: #383838; stroke-width: 1.0;\" x1=\"301\" x2=\"455\" y1=\"187.9688\" y2=\"187.9688\"/></a><!--MD5=[d5e69f78d87373223dbae638b30a9c99]\n",
       "cluster E3--><a href=\"psysml:3f2b8857-d9ea-41c6-bb7a-db05d1986c1a\" target=\"_top\" title=\"psysml:3f2b8857-d9ea-41c6-bb7a-db05d1986c1a\" xlink:actuate=\"onRequest\" xlink:href=\"psysml:3f2b8857-d9ea-41c6-bb7a-db05d1986c1a\" xlink:show=\"new\" xlink:title=\"psysml:3f2b8857-d9ea-41c6-bb7a-db05d1986c1a\" xlink:type=\"simple\"><rect fill=\"#FFFFFF\" height=\"91\" id=\"E3\" rx=\"10\" ry=\"10\" style=\"stroke: #383838; stroke-width: 1.5;\" width=\"82\" x=\"341\" y=\"215\"/><rect fill=\"#F8F8F8\" height=\"23.9688\" rx=\"10\" ry=\"10\" style=\"stroke: #F8F8F8; stroke-width: 1.5;\" width=\"82\" x=\"341\" y=\"215\"/><rect fill=\"#F8F8F8\" height=\"10\" style=\"stroke: #F8F8F8; stroke-width: 1.5;\" width=\"82\" x=\"341\" y=\"228.9688\"/><rect fill=\"none\" height=\"91\" id=\"E3\" rx=\"10\" ry=\"10\" style=\"stroke: #383838; stroke-width: 1.5;\" width=\"82\" x=\"341\" y=\"215\"/><text fill=\"#000000\" font-family=\"sans-serif\" font-size=\"12\" lengthAdjust=\"spacingAndGlyphs\" textLength=\"6\" x=\"379\" y=\"231.1387\">x</text><line style=\"stroke: #383838; stroke-width: 1.0;\" x1=\"341\" x2=\"423\" y1=\"238.9688\" y2=\"238.9688\"/></a><!--MD5=[de5ec2e2e8f62f467e546659f5068c88]\n",
       "cluster E5--><a href=\"psysml:ba7b03ba-afee-4a2c-95ba-c440e322d2ee\" target=\"_top\" title=\"psysml:ba7b03ba-afee-4a2c-95ba-c440e322d2ee\" xlink:actuate=\"onRequest\" xlink:href=\"psysml:ba7b03ba-afee-4a2c-95ba-c440e322d2ee\" xlink:show=\"new\" xlink:title=\"psysml:ba7b03ba-afee-4a2c-95ba-c440e322d2ee\" xlink:type=\"simple\"><rect fill=\"#FFFFFF\" height=\"321\" id=\"E5\" style=\"stroke: #383838; stroke-width: 1.5;\" width=\"229\" x=\"40\" y=\"49\"/><rect fill=\"#F8F8F8\" height=\"37.9375\" style=\"stroke: #383838; stroke-width: 1.5;\" width=\"229\" x=\"40\" y=\"49\"/><text fill=\"#000000\" font-family=\"sans-serif\" font-size=\"12\" font-style=\"italic\" lengthAdjust=\"spacingAndGlyphs\" textLength=\"64\" x=\"122.5\" y=\"65.1387\">«part def»</text><text fill=\"#000000\" font-family=\"sans-serif\" font-size=\"12\" lengthAdjust=\"spacingAndGlyphs\" textLength=\"8\" x=\"150.5\" y=\"79.1074\">P</text></a><!--MD5=[168fadf3d0c3fd93dd5d6da1b1d7ab76]\n",
       "cluster E7--><a href=\"psysml:c0882630-04b8-4e6c-a043-bd39b4f2710a\" target=\"_top\" title=\"psysml:c0882630-04b8-4e6c-a043-bd39b4f2710a\" xlink:actuate=\"onRequest\" xlink:href=\"psysml:c0882630-04b8-4e6c-a043-bd39b4f2710a\" xlink:show=\"new\" xlink:title=\"psysml:c0882630-04b8-4e6c-a043-bd39b4f2710a\" xlink:type=\"simple\"><rect fill=\"#FFFFFF\" height=\"190\" id=\"E7\" rx=\"10\" ry=\"10\" style=\"stroke: #383838; stroke-width: 1.5;\" width=\"181\" x=\"64\" y=\"156\"/><rect fill=\"#F8F8F8\" height=\"23.9688\" rx=\"10\" ry=\"10\" style=\"stroke: #F8F8F8; stroke-width: 1.5;\" width=\"181\" x=\"64\" y=\"156\"/><rect fill=\"#F8F8F8\" height=\"10\" style=\"stroke: #F8F8F8; stroke-width: 1.5;\" width=\"181\" x=\"64\" y=\"169.9688\"/><rect fill=\"none\" height=\"190\" id=\"E7\" rx=\"10\" ry=\"10\" style=\"stroke: #383838; stroke-width: 1.5;\" width=\"181\" x=\"64\" y=\"156\"/><text fill=\"#000000\" font-family=\"sans-serif\" font-size=\"12\" lengthAdjust=\"spacingAndGlyphs\" textLength=\"16\" x=\"146.5\" y=\"172.1387\">p1</text><line style=\"stroke: #383838; stroke-width: 1.0;\" x1=\"64\" x2=\"245\" y1=\"179.9688\" y2=\"179.9688\"/></a><!--MD5=[55dfccfc6c49c2d10cd1bd2211a6c90c]\n",
       "cluster E8--><a href=\"psysml:3f2b8857-d9ea-41c6-bb7a-db05d1986c1a\" target=\"_top\" title=\"psysml:3f2b8857-d9ea-41c6-bb7a-db05d1986c1a\" xlink:actuate=\"onRequest\" xlink:href=\"psysml:3f2b8857-d9ea-41c6-bb7a-db05d1986c1a\" xlink:show=\"new\" xlink:title=\"psysml:3f2b8857-d9ea-41c6-bb7a-db05d1986c1a\" xlink:type=\"simple\"><rect fill=\"#FFFFFF\" height=\"107\" id=\"E8\" rx=\"10\" ry=\"10\" style=\"stroke: #383838; stroke-width: 1.5;\" width=\"117\" x=\"96\" y=\"207\"/><rect fill=\"#F8F8F8\" height=\"23.9688\" rx=\"10\" ry=\"10\" style=\"stroke: #F8F8F8; stroke-width: 1.5;\" width=\"117\" x=\"96\" y=\"207\"/><rect fill=\"#F8F8F8\" height=\"10\" style=\"stroke: #F8F8F8; stroke-width: 1.5;\" width=\"117\" x=\"96\" y=\"220.9688\"/><rect fill=\"none\" height=\"107\" id=\"E8\" rx=\"10\" ry=\"10\" style=\"stroke: #383838; stroke-width: 1.5;\" width=\"117\" x=\"96\" y=\"207\"/><text fill=\"#000000\" font-family=\"sans-serif\" font-size=\"12\" lengthAdjust=\"spacingAndGlyphs\" textLength=\"16\" x=\"146.5\" y=\"223.1387\">^x</text><line style=\"stroke: #383838; stroke-width: 1.0;\" x1=\"96\" x2=\"213\" y1=\"230.9688\" y2=\"230.9688\"/></a><g id=\"E1.E2.E3.E4\"><a href=\"psysml:e84cebed-6405-49c5-b413-5d504fb47cee\" target=\"_top\" title=\"psysml:e84cebed-6405-49c5-b413-5d504fb47cee\" xlink:actuate=\"onRequest\" xlink:href=\"psysml:e84cebed-6405-49c5-b413-5d504fb47cee\" xlink:show=\"new\" xlink:title=\"psysml:e84cebed-6405-49c5-b413-5d504fb47cee\" xlink:type=\"simple\"><rect fill=\"#FFFFFF\" height=\"40\" id=\"E4\" rx=\"10\" ry=\"10\" style=\"stroke: #383838; stroke-width: 1.5;\" width=\"50\" x=\"357\" y=\"250\"/><rect fill=\"#F8F8F8\" height=\"23.9688\" rx=\"10\" ry=\"10\" style=\"stroke: #F8F8F8; stroke-width: 1.5;\" width=\"50\" x=\"357\" y=\"250\"/><rect fill=\"#F8F8F8\" height=\"10\" style=\"stroke: #F8F8F8; stroke-width: 1.5;\" width=\"50\" x=\"357\" y=\"263.9688\"/><rect fill=\"none\" height=\"40\" id=\"E4\" rx=\"10\" ry=\"10\" style=\"stroke: #383838; stroke-width: 1.5;\" width=\"50\" x=\"357\" y=\"250\"/><text fill=\"#000000\" font-family=\"sans-serif\" font-size=\"12\" lengthAdjust=\"spacingAndGlyphs\" textLength=\"14\" x=\"375\" y=\"266.1387\">x1</text></a></g><g id=\"E1.E5.E6\"><a href=\"psysml:6b502337-597a-4c17-979b-8872526dd5b6\" target=\"_top\" title=\"psysml:6b502337-597a-4c17-979b-8872526dd5b6\" xlink:actuate=\"onRequest\" xlink:href=\"psysml:6b502337-597a-4c17-979b-8872526dd5b6\" xlink:show=\"new\" xlink:title=\"psysml:6b502337-597a-4c17-979b-8872526dd5b6\" xlink:type=\"simple\"><rect fill=\"#FFFFFF\" height=\"40\" id=\"E6\" rx=\"10\" ry=\"10\" style=\"stroke: #383838; stroke-width: 1.5;\" width=\"50\" x=\"139\" y=\"100\"/><rect fill=\"#F8F8F8\" height=\"23.9688\" rx=\"10\" ry=\"10\" style=\"stroke: #F8F8F8; stroke-width: 1.5;\" width=\"50\" x=\"139\" y=\"100\"/><rect fill=\"#F8F8F8\" height=\"10\" style=\"stroke: #F8F8F8; stroke-width: 1.5;\" width=\"50\" x=\"139\" y=\"113.9688\"/><rect fill=\"none\" height=\"40\" id=\"E6\" rx=\"10\" ry=\"10\" style=\"stroke: #383838; stroke-width: 1.5;\" width=\"50\" x=\"139\" y=\"100\"/><text fill=\"#000000\" font-family=\"sans-serif\" font-size=\"12\" lengthAdjust=\"spacingAndGlyphs\" textLength=\"6\" x=\"161\" y=\"116.1387\">y</text></a></g><g id=\"E1.E5.E7.E8.E9\"><a href=\"psysml:e84cebed-6405-49c5-b413-5d504fb47cee\" target=\"_top\" title=\"psysml:e84cebed-6405-49c5-b413-5d504fb47cee\" xlink:actuate=\"onRequest\" xlink:href=\"psysml:e84cebed-6405-49c5-b413-5d504fb47cee\" xlink:show=\"new\" xlink:title=\"psysml:e84cebed-6405-49c5-b413-5d504fb47cee\" xlink:type=\"simple\"><rect fill=\"#FFFFFF\" height=\"40\" id=\"E9\" rx=\"10\" ry=\"10\" style=\"stroke: #383838; stroke-width: 1.5;\" width=\"50\" x=\"139\" y=\"250\"/><rect fill=\"#F8F8F8\" height=\"23.9688\" rx=\"10\" ry=\"10\" style=\"stroke: #F8F8F8; stroke-width: 1.5;\" width=\"50\" x=\"139\" y=\"250\"/><rect fill=\"#F8F8F8\" height=\"10\" style=\"stroke: #F8F8F8; stroke-width: 1.5;\" width=\"50\" x=\"139\" y=\"263.9688\"/><rect fill=\"none\" height=\"40\" id=\"E9\" rx=\"10\" ry=\"10\" style=\"stroke: #383838; stroke-width: 1.5;\" width=\"50\" x=\"139\" y=\"250\"/><text fill=\"#000000\" font-family=\"sans-serif\" font-size=\"12\" lengthAdjust=\"spacingAndGlyphs\" textLength=\"14\" x=\"157\" y=\"266.1387\">x1</text></a></g><!--MD5=[2351f337d6de0f557b50152ba70847b5]\n",
       "link E6 to E2--><a href=\"psysml:3c2ac290-8ac1-4000-af3e-5bcf9ecf7966\" target=\"_top\" title=\"psysml:3c2ac290-8ac1-4000-af3e-5bcf9ecf7966\" xlink:actuate=\"onRequest\" xlink:href=\"psysml:3c2ac290-8ac1-4000-af3e-5bcf9ecf7966\" xlink:show=\"new\" xlink:title=\"psysml:3c2ac290-8ac1-4000-af3e-5bcf9ecf7966\" xlink:type=\"simple\"><path d=\"M189.09,135.93 C194.55,139.6 200.14,143.72 205,148 C231.205,171.055 256.8075,200.7275 276.0525,224.9188 C285.675,237.0144 293.7081,247.7397 299.4325,255.5823 C299.7903,256.0725 300.139,256.5514 300.4786,257.0187 C300.6484,257.2523 300.8159,257.4831 300.981,257.7108 \" fill=\"none\" id=\"E6-E2\" style=\"stroke: #383838; stroke-width: 3.0;\"/></a><!--MD5=[0a839d0f80c2d72d4b9b307f046d0de8]\n",
       "link E6 to E8--><a href=\"psysml:75c884b3-4954-4983-bf4e-b524958cba22\" target=\"_top\" title=\"psysml:75c884b3-4954-4983-bf4e-b524958cba22\" xlink:actuate=\"onRequest\" xlink:href=\"psysml:75c884b3-4954-4983-bf4e-b524958cba22\" xlink:show=\"new\" xlink:title=\"psysml:75c884b3-4954-4983-bf4e-b524958cba22\" xlink:type=\"simple\"><path d=\"M138.6,133.04 C132.62,137 126.88,141.98 123,148 C115.7475,159.2625 110.9138,172.31 107.7475,185.5819 C106.1644,192.2178 104.9981,198.9098 104.1548,205.4629 C104.1021,205.8725 104.0507,206.2815 104.0005,206.6899 \" fill=\"none\" id=\"E6-E8\" style=\"stroke: #383838; stroke-width: 3.0;\"/></a><!--MD5=[8ae21a5272e5f5a2f0d855d545cbd16c]\n",
       "link E6 to E9--><a href=\"psysml:ec977721-0260-4bea-8651-1724c0f568d2\" target=\"_top\" title=\"psysml:ec977721-0260-4bea-8651-1724c0f568d2\" xlink:actuate=\"onRequest\" xlink:href=\"psysml:ec977721-0260-4bea-8651-1724c0f568d2\" xlink:show=\"new\" xlink:title=\"psysml:ec977721-0260-4bea-8651-1724c0f568d2\" xlink:type=\"simple\"><path d=\"M164,140.05 C164,168.31 164,221.07 164,249.56 \" fill=\"none\" id=\"E6-E9\" style=\"stroke: #383838; stroke-width: 3.0;\"/></a><!--MD5=[71dcab50377b7d139fd40e7499c1e45d]\n",
       "@startuml\r\n",
       "skinparam ranksep 10\r\n",
       "skinparam rectangle {\r\n",
       " backgroundColor<<block>> LightGreen\r\n",
       "}\r\n",
       "top to bottom direction\r\n",
       "skinparam monochrome true\r\n",
       "skinparam classbackgroundcolor white\r\n",
       "skinparam shadowing false\r\n",
       "skinparam wrapWidth 300\r\n",
       "hide circle\r\n",
       "\r\n",
       "package \"ConnectionTest\" as E1  [[psysml:22aef044-e637-4155-a6c9-7ceaf878199d ]]  {\r\n",
       "rec usage \"p\" as E2  [[psysml:4372fe5d-a54c-4736-ace6-05c35a4b2fd0 ]] {\r\n",
       "rec usage \"x\" as E3  [[psysml:3f2b8857-d9ea-41c6-bb7a-db05d1986c1a ]] {\r\n",
       "rec usage \"x1\" as E4  [[psysml:e84cebed-6405-49c5-b413-5d504fb47cee ]] {\r\n",
       "}\r\n",
       "}\r\n",
       "}\r\n",
       "rec def \"P\" as E5  <<(T,blue) part def>> [[psysml:ba7b03ba-afee-4a2c-95ba-c440e322d2ee ]] {\r\n",
       "rec usage \"y\" as E6  [[psysml:6b502337-597a-4c17-979b-8872526dd5b6 ]] {\r\n",
       "}\r\n",
       "rec usage \"p1\" as E7  [[psysml:c0882630-04b8-4e6c-a043-bd39b4f2710a ]] {\r\n",
       "rec usage \"^x\" as E8  [[psysml:3f2b8857-d9ea-41c6-bb7a-db05d1986c1a ]] {\r\n",
       "rec usage \"x1\" as E9  [[psysml:e84cebed-6405-49c5-b413-5d504fb47cee ]] {\r\n",
       "}\r\n",
       "}\r\n",
       "}\r\n",
       "}\r\n",
       "E6 -[thickness=3]- E2 [[psysml:3c2ac290-8ac1-4000-af3e-5bcf9ecf7966 ]] \r\n",
       "E6 -[thickness=3]- E8 [[psysml:75c884b3-4954-4983-bf4e-b524958cba22 ]] \r\n",
       "E6 -[thickness=3]- E9 [[psysml:ec977721-0260-4bea-8651-1724c0f568d2 ]] \r\n",
       "}\r\n",
       "@enduml\r\n",
       "\n",
       "PlantUML version 1.2020.13(Sat Jun 13 12:26:38 UTC 2020)\n",
       "(EPL source distribution)\n",
       "Java Runtime: OpenJDK Runtime Environment\n",
       "JVM: OpenJDK 64-Bit Server VM\n",
       "Default Encoding: UTF-8\n",
       "Language: en\n",
       "Country: null\n",
       "--></g></svg>"
      ]
     },
     "execution_count": 47,
     "metadata": {},
     "output_type": "execute_result"
    }
   ],
   "source": [
    "%viz --style=\"TB\" --view=\"Interconnection\" \"ConnectionTest\""
   ]
  },
  {
   "cell_type": "code",
   "execution_count": 48,
   "id": "73618f02",
   "metadata": {
    "execution": {
     "iopub.execute_input": "2021-06-30T09:21:37.861510Z",
     "iopub.status.busy": "2021-06-30T09:21:37.857904Z",
     "iopub.status.idle": "2021-06-30T09:21:37.867687Z",
     "shell.execute_reply": "2021-06-30T09:21:37.867235Z"
    }
   },
   "outputs": [
    {
     "data": {
      "image/svg+xml": [
       "<?xml version=\"1.0\" encoding=\"UTF-8\" standalone=\"no\"?><svg xmlns=\"http://www.w3.org/2000/svg\" xmlns:xlink=\"http://www.w3.org/1999/xlink\" contentScriptType=\"application/ecmascript\" contentStyleType=\"text/css\" height=\"12px\" preserveAspectRatio=\"none\" style=\"width:12px;height:12px;\" version=\"1.1\" viewBox=\"0 0 12 12\" width=\"12px\" zoomAndPan=\"magnify\"><defs/><g><!--MD5=[06afc254b03ac5e9d9fb7773b07d0800]\n",
       "@startuml\r\n",
       "skinparam ranksep 8\r\n",
       "top to bottom direction\r\n",
       "skinparam monochrome true\r\n",
       "skinparam classbackgroundcolor white\r\n",
       "skinparam shadowing false\r\n",
       "skinparam wrapWidth 300\r\n",
       "hide circle\r\n",
       "\r\n",
       "@enduml\r\n",
       "\n",
       "PlantUML version 1.2020.13(Sat Jun 13 12:26:38 UTC 2020)\n",
       "(EPL source distribution)\n",
       "Java Runtime: OpenJDK Runtime Environment\n",
       "JVM: OpenJDK 64-Bit Server VM\n",
       "Default Encoding: UTF-8\n",
       "Language: en\n",
       "Country: null\n",
       "--></g></svg>"
      ]
     },
     "execution_count": 48,
     "metadata": {},
     "output_type": "execute_result"
    }
   ],
   "source": [
    "%viz --style=\"TB\" --view=\"Action\" \"ConnectionTest\""
   ]
  },
  {
   "cell_type": "code",
   "execution_count": 49,
   "id": "b75a300e",
   "metadata": {
    "execution": {
     "iopub.execute_input": "2021-06-30T09:21:37.919049Z",
     "iopub.status.busy": "2021-06-30T09:21:37.918451Z",
     "iopub.status.idle": "2021-06-30T09:21:37.962625Z",
     "shell.execute_reply": "2021-06-30T09:21:37.958991Z"
    }
   },
   "outputs": [
    {
     "data": {
      "image/svg+xml": [
       "<?xml version=\"1.0\" encoding=\"UTF-8\" standalone=\"no\"?><svg xmlns=\"http://www.w3.org/2000/svg\" xmlns:xlink=\"http://www.w3.org/1999/xlink\" contentScriptType=\"application/ecmascript\" contentStyleType=\"text/css\" height=\"539px\" preserveAspectRatio=\"none\" style=\"width:189px;height:539px;\" version=\"1.1\" viewBox=\"0 0 189 539\" width=\"189px\" zoomAndPan=\"magnify\"><defs/><g><!--MD5=[fbc87193dbaf4d95561dea2c320d4a47]\n",
       "cluster E1--><a href=\"psysml:22aef044-e637-4155-a6c9-7ceaf878199d\" target=\"_top\" title=\"psysml:22aef044-e637-4155-a6c9-7ceaf878199d\" xlink:actuate=\"onRequest\" xlink:href=\"psysml:22aef044-e637-4155-a6c9-7ceaf878199d\" xlink:show=\"new\" xlink:title=\"psysml:22aef044-e637-4155-a6c9-7ceaf878199d\" xlink:type=\"simple\"><polygon fill=\"#FFFFFF\" points=\"16,6,147,6,154,28.2969,167,28.2969,167,527,16,527,16,6\" style=\"stroke: #000000; stroke-width: 1.5;\"/><line style=\"stroke: #000000; stroke-width: 1.5;\" x1=\"16\" x2=\"154\" y1=\"28.2969\" y2=\"28.2969\"/><text fill=\"#000000\" font-family=\"sans-serif\" font-size=\"14\" font-weight=\"bold\" lengthAdjust=\"spacingAndGlyphs\" textLength=\"125\" x=\"20\" y=\"20.9951\">ConnectionTest</text></a><!--MD5=[b4997ac47864f28c2f74865a473b2911]\n",
       "class E2--><a href=\"psysml:4372fe5d-a54c-4736-ace6-05c35a4b2fd0\" target=\"_top\" title=\"psysml:4372fe5d-a54c-4736-ace6-05c35a4b2fd0\" xlink:actuate=\"onRequest\" xlink:href=\"psysml:4372fe5d-a54c-4736-ace6-05c35a4b2fd0\" xlink:show=\"new\" xlink:title=\"psysml:4372fe5d-a54c-4736-ace6-05c35a4b2fd0\" xlink:type=\"simple\"><rect fill=\"#FFFFFF\" height=\"45.9375\" id=\"E2\" rx=\"10\" ry=\"10\" style=\"stroke: #383838; stroke-width: 1.5;\" width=\"42\" x=\"70\" y=\"253\"/><text fill=\"#000000\" font-family=\"sans-serif\" font-size=\"12\" font-style=\"italic\" lengthAdjust=\"spacingAndGlyphs\" textLength=\"40\" x=\"71\" y=\"269.1387\">«part»</text><text fill=\"#000000\" font-family=\"sans-serif\" font-size=\"12\" lengthAdjust=\"spacingAndGlyphs\" textLength=\"8\" x=\"87\" y=\"283.1074\">p</text><line style=\"stroke: #383838; stroke-width: 1.5;\" x1=\"71\" x2=\"111\" y1=\"290.9375\" y2=\"290.9375\"/></a><!--MD5=[09b614a08d8cba4a07c9adeb5e0fee81]\n",
       "class E3--><a href=\"psysml:3f2b8857-d9ea-41c6-bb7a-db05d1986c1a\" target=\"_top\" title=\"psysml:3f2b8857-d9ea-41c6-bb7a-db05d1986c1a\" xlink:actuate=\"onRequest\" xlink:href=\"psysml:3f2b8857-d9ea-41c6-bb7a-db05d1986c1a\" xlink:show=\"new\" xlink:title=\"psysml:3f2b8857-d9ea-41c6-bb7a-db05d1986c1a\" xlink:type=\"simple\"><rect fill=\"#FFFFFF\" height=\"45.9375\" id=\"E3\" rx=\"10\" ry=\"10\" style=\"stroke: #383838; stroke-width: 1.5;\" width=\"42\" x=\"70\" y=\"359\"/><text fill=\"#000000\" font-family=\"sans-serif\" font-size=\"12\" font-style=\"italic\" lengthAdjust=\"spacingAndGlyphs\" textLength=\"40\" x=\"71\" y=\"375.1387\">«part»</text><text fill=\"#000000\" font-family=\"sans-serif\" font-size=\"12\" lengthAdjust=\"spacingAndGlyphs\" textLength=\"6\" x=\"88\" y=\"389.1074\">x</text><line style=\"stroke: #383838; stroke-width: 1.5;\" x1=\"71\" x2=\"111\" y1=\"396.9375\" y2=\"396.9375\"/></a><!--MD5=[ebbe1d658d1005bcc118a6aa81145e00]\n",
       "class E4--><a href=\"psysml:e84cebed-6405-49c5-b413-5d504fb47cee\" target=\"_top\" title=\"psysml:e84cebed-6405-49c5-b413-5d504fb47cee\" xlink:actuate=\"onRequest\" xlink:href=\"psysml:e84cebed-6405-49c5-b413-5d504fb47cee\" xlink:show=\"new\" xlink:title=\"psysml:e84cebed-6405-49c5-b413-5d504fb47cee\" xlink:type=\"simple\"><rect fill=\"#FFFFFF\" height=\"45.9375\" id=\"E4\" rx=\"10\" ry=\"10\" style=\"stroke: #383838; stroke-width: 1.5;\" width=\"42\" x=\"70\" y=\"465\"/><text fill=\"#000000\" font-family=\"sans-serif\" font-size=\"12\" font-style=\"italic\" lengthAdjust=\"spacingAndGlyphs\" textLength=\"40\" x=\"71\" y=\"481.1387\">«part»</text><text fill=\"#000000\" font-family=\"sans-serif\" font-size=\"12\" lengthAdjust=\"spacingAndGlyphs\" textLength=\"14\" x=\"84\" y=\"495.1074\">x1</text><line style=\"stroke: #383838; stroke-width: 1.5;\" x1=\"71\" x2=\"111\" y1=\"502.9375\" y2=\"502.9375\"/></a><!--MD5=[270fce915f116d4de14055a7c1d9a0f3]\n",
       "class E5--><a href=\"psysml:ba7b03ba-afee-4a2c-95ba-c440e322d2ee\" target=\"_top\" title=\"psysml:ba7b03ba-afee-4a2c-95ba-c440e322d2ee\" xlink:actuate=\"onRequest\" xlink:href=\"psysml:ba7b03ba-afee-4a2c-95ba-c440e322d2ee\" xlink:show=\"new\" xlink:title=\"psysml:ba7b03ba-afee-4a2c-95ba-c440e322d2ee\" xlink:type=\"simple\"><rect fill=\"#FFFFFF\" height=\"45.9375\" id=\"E5\" style=\"stroke: #383838; stroke-width: 1.5;\" width=\"66\" x=\"58\" y=\"41\"/><text fill=\"#000000\" font-family=\"sans-serif\" font-size=\"12\" font-style=\"italic\" lengthAdjust=\"spacingAndGlyphs\" textLength=\"64\" x=\"59\" y=\"57.1387\">«part def»</text><text fill=\"#000000\" font-family=\"sans-serif\" font-size=\"12\" lengthAdjust=\"spacingAndGlyphs\" textLength=\"8\" x=\"87\" y=\"71.1074\">P</text><line style=\"stroke: #383838; stroke-width: 1.5;\" x1=\"59\" x2=\"123\" y1=\"78.9375\" y2=\"78.9375\"/></a><!--MD5=[60a26617385b1d2d0262a64233df1f8d]\n",
       "class E6--><a href=\"psysml:6b502337-597a-4c17-979b-8872526dd5b6\" target=\"_top\" title=\"psysml:6b502337-597a-4c17-979b-8872526dd5b6\" xlink:actuate=\"onRequest\" xlink:href=\"psysml:6b502337-597a-4c17-979b-8872526dd5b6\" xlink:show=\"new\" xlink:title=\"psysml:6b502337-597a-4c17-979b-8872526dd5b6\" xlink:type=\"simple\"><rect fill=\"#FFFFFF\" height=\"45.9375\" id=\"E6\" rx=\"10\" ry=\"10\" style=\"stroke: #383838; stroke-width: 1.5;\" width=\"42\" x=\"32\" y=\"147\"/><text fill=\"#000000\" font-family=\"sans-serif\" font-size=\"12\" font-style=\"italic\" lengthAdjust=\"spacingAndGlyphs\" textLength=\"40\" x=\"33\" y=\"163.1387\">«part»</text><text fill=\"#000000\" font-family=\"sans-serif\" font-size=\"12\" lengthAdjust=\"spacingAndGlyphs\" textLength=\"6\" x=\"50\" y=\"177.1074\">y</text><line style=\"stroke: #383838; stroke-width: 1.5;\" x1=\"33\" x2=\"73\" y1=\"184.9375\" y2=\"184.9375\"/></a><!--MD5=[2156ba9850f5573cc1fc38a6a4b2f02b]\n",
       "class E7--><a href=\"psysml:c0882630-04b8-4e6c-a043-bd39b4f2710a\" target=\"_top\" title=\"psysml:c0882630-04b8-4e6c-a043-bd39b4f2710a\" xlink:actuate=\"onRequest\" xlink:href=\"psysml:c0882630-04b8-4e6c-a043-bd39b4f2710a\" xlink:show=\"new\" xlink:title=\"psysml:c0882630-04b8-4e6c-a043-bd39b4f2710a\" xlink:type=\"simple\"><rect fill=\"#FFFFFF\" height=\"45.9375\" id=\"E7\" rx=\"10\" ry=\"10\" style=\"stroke: #383838; stroke-width: 1.5;\" width=\"42\" x=\"109\" y=\"147\"/><text fill=\"#000000\" font-family=\"sans-serif\" font-size=\"12\" font-style=\"italic\" lengthAdjust=\"spacingAndGlyphs\" textLength=\"40\" x=\"110\" y=\"163.1387\">«part»</text><text fill=\"#000000\" font-family=\"sans-serif\" font-size=\"12\" lengthAdjust=\"spacingAndGlyphs\" textLength=\"16\" x=\"122\" y=\"177.1074\">p1</text><line style=\"stroke: #383838; stroke-width: 1.5;\" x1=\"110\" x2=\"150\" y1=\"184.9375\" y2=\"184.9375\"/></a><!--MD5=[209b3feb70ccb6233bfe1053d122c12c]\n",
       "reverse link E2 to E3--><a href=\"psysml:d551e406-73fb-4a91-a080-fc440127a640\" target=\"_top\" title=\"psysml:d551e406-73fb-4a91-a080-fc440127a640\" xlink:actuate=\"onRequest\" xlink:href=\"psysml:d551e406-73fb-4a91-a080-fc440127a640\" xlink:show=\"new\" xlink:title=\"psysml:d551e406-73fb-4a91-a080-fc440127a640\" xlink:type=\"simple\"><path d=\"M91,312.44 C91,327.87 91,345.47 91,358.98 \" fill=\"none\" id=\"E2&lt;-E3\" style=\"stroke: #383838; stroke-width: 1.0;\"/><polygon fill=\"#383838\" points=\"91,299.06,87,305.06,91,311.06,95,305.06,91,299.06\" style=\"stroke: #383838; stroke-width: 1.0;\"/></a><!--MD5=[4672eba38e49728da53d11aeb285b987]\n",
       "reverse link E3 to E4--><a href=\"psysml:0c62ef63-43f3-4799-a069-927499b27fb4\" target=\"_top\" title=\"psysml:0c62ef63-43f3-4799-a069-927499b27fb4\" xlink:actuate=\"onRequest\" xlink:href=\"psysml:0c62ef63-43f3-4799-a069-927499b27fb4\" xlink:show=\"new\" xlink:title=\"psysml:0c62ef63-43f3-4799-a069-927499b27fb4\" xlink:type=\"simple\"><path d=\"M91,418.44 C91,433.87 91,451.47 91,464.98 \" fill=\"none\" id=\"E3&lt;-E4\" style=\"stroke: #383838; stroke-width: 1.0;\"/><polygon fill=\"#383838\" points=\"91,405.06,87,411.06,91,417.06,95,411.06,91,405.06\" style=\"stroke: #383838; stroke-width: 1.0;\"/></a><!--MD5=[85d356282659285ab4b2cfe2f634dd2b]\n",
       "reverse link E5 to E6--><a href=\"psysml:bccb9dd4-409f-48ce-8915-27f20628680f\" target=\"_top\" title=\"psysml:bccb9dd4-409f-48ce-8915-27f20628680f\" xlink:actuate=\"onRequest\" xlink:href=\"psysml:bccb9dd4-409f-48ce-8915-27f20628680f\" xlink:show=\"new\" xlink:title=\"psysml:bccb9dd4-409f-48ce-8915-27f20628680f\" xlink:type=\"simple\"><path d=\"M78.4,99.49 C72.68,115.15 66.08,133.19 61.05,146.98 \" fill=\"none\" id=\"E5&lt;-E6\" style=\"stroke: #383838; stroke-width: 1.0;\"/><polygon fill=\"#383838\" points=\"82.94,87.06,77.1196,91.317,78.8105,98.3271,84.6309,94.07,82.94,87.06\" style=\"stroke: #383838; stroke-width: 1.0;\"/></a><!--MD5=[2351f337d6de0f557b50152ba70847b5]\n",
       "link E6 to E2--><a href=\"psysml:3c2ac290-8ac1-4000-af3e-5bcf9ecf7966\" target=\"_top\" title=\"psysml:3c2ac290-8ac1-4000-af3e-5bcf9ecf7966\" xlink:actuate=\"onRequest\" xlink:href=\"psysml:3c2ac290-8ac1-4000-af3e-5bcf9ecf7966\" xlink:show=\"new\" xlink:title=\"psysml:3c2ac290-8ac1-4000-af3e-5bcf9ecf7966\" xlink:type=\"simple\"><path d=\"M61.06,193.06 C67.51,210.7 76.51,235.34 82.95,252.98 \" fill=\"none\" id=\"E6-E2\" style=\"stroke: #383838; stroke-width: 3.0;\"/></a><!--MD5=[452b418e7f8a40397a49b8c0a78acc5b]\n",
       "reverse link E5 to E7--><a href=\"psysml:97bf4e08-a4b3-492a-87d8-6adc842be5d3\" target=\"_top\" title=\"psysml:97bf4e08-a4b3-492a-87d8-6adc842be5d3\" xlink:actuate=\"onRequest\" xlink:href=\"psysml:97bf4e08-a4b3-492a-87d8-6adc842be5d3\" xlink:show=\"new\" xlink:title=\"psysml:97bf4e08-a4b3-492a-87d8-6adc842be5d3\" xlink:type=\"simple\"><path d=\"M103.94,99.49 C109.8,115.15 116.57,133.19 121.74,146.98 \" fill=\"none\" id=\"E5&lt;-E7\" style=\"stroke: #383838; stroke-width: 1.0;\"/><polygon fill=\"#383838\" points=\"99.27,87.06,97.635,94.0833,103.4893,98.2938,105.1242,91.2705,99.27,87.06\" style=\"stroke: #383838; stroke-width: 1.0;\"/></a><!--MD5=[583832df87f4419a098336a29a52fa00]\n",
       "link E7 to E2--><a href=\"psysml:6815ba90-0374-438b-ad93-53c34ddf71b8\" target=\"_top\" title=\"psysml:6815ba90-0374-438b-ad93-53c34ddf71b8\" xlink:actuate=\"onRequest\" xlink:href=\"psysml:6815ba90-0374-438b-ad93-53c34ddf71b8\" xlink:show=\"new\" xlink:title=\"psysml:6815ba90-0374-438b-ad93-53c34ddf71b8\" xlink:type=\"simple\"><path d=\"M121.73,193.06 C117.28,204.91 111.65,219.92 106.43,233.85 \" fill=\"none\" id=\"E7-&gt;E2\" style=\"stroke: #383838; stroke-width: 1.0;\"/><polygon fill=\"none\" points=\"112.84,236.71,99.26,252.98,99.73,231.79,112.84,236.71\" style=\"stroke: #383838; stroke-width: 1.0;\"/></a><!--MD5=[860b2aefd9e91aeb7d48c56b6f065df5]\n",
       "@startuml\r\n",
       "top to bottom direction\r\n",
       "skinparam monochrome true\r\n",
       "skinparam classbackgroundcolor white\r\n",
       "skinparam shadowing false\r\n",
       "skinparam wrapWidth 300\r\n",
       "hide circle\r\n",
       "\r\n",
       "package \"ConnectionTest\" as E1  [[psysml:22aef044-e637-4155-a6c9-7ceaf878199d ]]  {\r\n",
       "comp usage \"p\" as E2  <<(T,blue) part>> [[psysml:4372fe5d-a54c-4736-ace6-05c35a4b2fd0 ]] {\r\n",
       "}\r\n",
       "comp usage \"x\" as E3  <<(T,blue) part>> [[psysml:3f2b8857-d9ea-41c6-bb7a-db05d1986c1a ]] {\r\n",
       "}\r\n",
       "comp usage \"x1\" as E4  <<(T,blue) part>> [[psysml:e84cebed-6405-49c5-b413-5d504fb47cee ]] {\r\n",
       "}\r\n",
       "comp def \"P\" as E5  <<(T,blue) part def>> [[psysml:ba7b03ba-afee-4a2c-95ba-c440e322d2ee ]] {\r\n",
       "}\r\n",
       "comp usage \"y\" as E6  <<(T,blue) part>> [[psysml:6b502337-597a-4c17-979b-8872526dd5b6 ]] {\r\n",
       "}\r\n",
       "comp usage \"p1\" as E7  <<(T,blue) part>> [[psysml:c0882630-04b8-4e6c-a043-bd39b4f2710a ]] {\r\n",
       "}\r\n",
       "E2 *- - E3 [[psysml:d551e406-73fb-4a91-a080-fc440127a640 ]] \r\n",
       "E3 *- - E4 [[psysml:0c62ef63-43f3-4799-a069-927499b27fb4 ]] \r\n",
       "E5 *- - E6 [[psysml:bccb9dd4-409f-48ce-8915-27f20628680f ]] \r\n",
       "E6 -[thickness=3]- E2 [[psysml:3c2ac290-8ac1-4000-af3e-5bcf9ecf7966 ]] \r\n",
       "E5 *- - E7 [[psysml:97bf4e08-a4b3-492a-87d8-6adc842be5d3 ]] \r\n",
       "E7 - -|> E2 [[psysml:6815ba90-0374-438b-ad93-53c34ddf71b8 ]] \r\n",
       "}\r\n",
       "@enduml\r\n",
       "\n",
       "PlantUML version 1.2020.13(Sat Jun 13 12:26:38 UTC 2020)\n",
       "(EPL source distribution)\n",
       "Java Runtime: OpenJDK Runtime Environment\n",
       "JVM: OpenJDK 64-Bit Server VM\n",
       "Default Encoding: UTF-8\n",
       "Language: en\n",
       "Country: null\n",
       "--></g></svg>"
      ]
     },
     "execution_count": 49,
     "metadata": {},
     "output_type": "execute_result"
    }
   ],
   "source": [
    "%viz --style=\"TB\" --view=\"Sequence\" \"ConnectionTest\""
   ]
  },
  {
   "cell_type": "code",
   "execution_count": 50,
   "id": "acd1a1db",
   "metadata": {
    "execution": {
     "iopub.execute_input": "2021-06-30T09:21:38.012142Z",
     "iopub.status.busy": "2021-06-30T09:21:38.010997Z",
     "iopub.status.idle": "2021-06-30T09:21:38.042585Z",
     "shell.execute_reply": "2021-06-30T09:21:38.040954Z"
    }
   },
   "outputs": [
    {
     "data": {
      "image/svg+xml": [
       "<?xml version=\"1.0\" encoding=\"UTF-8\" standalone=\"no\"?><svg xmlns=\"http://www.w3.org/2000/svg\" xmlns:xlink=\"http://www.w3.org/1999/xlink\" contentScriptType=\"application/ecmascript\" contentStyleType=\"text/css\" height=\"539px\" preserveAspectRatio=\"none\" style=\"width:189px;height:539px;\" version=\"1.1\" viewBox=\"0 0 189 539\" width=\"189px\" zoomAndPan=\"magnify\"><defs/><g><!--MD5=[fbc87193dbaf4d95561dea2c320d4a47]\n",
       "cluster E1--><a href=\"psysml:22aef044-e637-4155-a6c9-7ceaf878199d\" target=\"_top\" title=\"psysml:22aef044-e637-4155-a6c9-7ceaf878199d\" xlink:actuate=\"onRequest\" xlink:href=\"psysml:22aef044-e637-4155-a6c9-7ceaf878199d\" xlink:show=\"new\" xlink:title=\"psysml:22aef044-e637-4155-a6c9-7ceaf878199d\" xlink:type=\"simple\"><polygon fill=\"#FFFFFF\" points=\"16,6,147,6,154,28.2969,167,28.2969,167,527,16,527,16,6\" style=\"stroke: #000000; stroke-width: 1.5;\"/><line style=\"stroke: #000000; stroke-width: 1.5;\" x1=\"16\" x2=\"154\" y1=\"28.2969\" y2=\"28.2969\"/><text fill=\"#000000\" font-family=\"sans-serif\" font-size=\"14\" font-weight=\"bold\" lengthAdjust=\"spacingAndGlyphs\" textLength=\"125\" x=\"20\" y=\"20.9951\">ConnectionTest</text></a><!--MD5=[b4997ac47864f28c2f74865a473b2911]\n",
       "class E2--><a href=\"psysml:4372fe5d-a54c-4736-ace6-05c35a4b2fd0\" target=\"_top\" title=\"psysml:4372fe5d-a54c-4736-ace6-05c35a4b2fd0\" xlink:actuate=\"onRequest\" xlink:href=\"psysml:4372fe5d-a54c-4736-ace6-05c35a4b2fd0\" xlink:show=\"new\" xlink:title=\"psysml:4372fe5d-a54c-4736-ace6-05c35a4b2fd0\" xlink:type=\"simple\"><rect fill=\"#FFFFFF\" height=\"45.9375\" id=\"E2\" rx=\"10\" ry=\"10\" style=\"stroke: #383838; stroke-width: 1.5;\" width=\"42\" x=\"70\" y=\"253\"/><text fill=\"#000000\" font-family=\"sans-serif\" font-size=\"12\" font-style=\"italic\" lengthAdjust=\"spacingAndGlyphs\" textLength=\"40\" x=\"71\" y=\"269.1387\">«part»</text><text fill=\"#000000\" font-family=\"sans-serif\" font-size=\"12\" lengthAdjust=\"spacingAndGlyphs\" textLength=\"8\" x=\"87\" y=\"283.1074\">p</text><line style=\"stroke: #383838; stroke-width: 1.5;\" x1=\"71\" x2=\"111\" y1=\"290.9375\" y2=\"290.9375\"/></a><!--MD5=[09b614a08d8cba4a07c9adeb5e0fee81]\n",
       "class E3--><a href=\"psysml:3f2b8857-d9ea-41c6-bb7a-db05d1986c1a\" target=\"_top\" title=\"psysml:3f2b8857-d9ea-41c6-bb7a-db05d1986c1a\" xlink:actuate=\"onRequest\" xlink:href=\"psysml:3f2b8857-d9ea-41c6-bb7a-db05d1986c1a\" xlink:show=\"new\" xlink:title=\"psysml:3f2b8857-d9ea-41c6-bb7a-db05d1986c1a\" xlink:type=\"simple\"><rect fill=\"#FFFFFF\" height=\"45.9375\" id=\"E3\" rx=\"10\" ry=\"10\" style=\"stroke: #383838; stroke-width: 1.5;\" width=\"42\" x=\"70\" y=\"359\"/><text fill=\"#000000\" font-family=\"sans-serif\" font-size=\"12\" font-style=\"italic\" lengthAdjust=\"spacingAndGlyphs\" textLength=\"40\" x=\"71\" y=\"375.1387\">«part»</text><text fill=\"#000000\" font-family=\"sans-serif\" font-size=\"12\" lengthAdjust=\"spacingAndGlyphs\" textLength=\"6\" x=\"88\" y=\"389.1074\">x</text><line style=\"stroke: #383838; stroke-width: 1.5;\" x1=\"71\" x2=\"111\" y1=\"396.9375\" y2=\"396.9375\"/></a><!--MD5=[ebbe1d658d1005bcc118a6aa81145e00]\n",
       "class E4--><a href=\"psysml:e84cebed-6405-49c5-b413-5d504fb47cee\" target=\"_top\" title=\"psysml:e84cebed-6405-49c5-b413-5d504fb47cee\" xlink:actuate=\"onRequest\" xlink:href=\"psysml:e84cebed-6405-49c5-b413-5d504fb47cee\" xlink:show=\"new\" xlink:title=\"psysml:e84cebed-6405-49c5-b413-5d504fb47cee\" xlink:type=\"simple\"><rect fill=\"#FFFFFF\" height=\"45.9375\" id=\"E4\" rx=\"10\" ry=\"10\" style=\"stroke: #383838; stroke-width: 1.5;\" width=\"42\" x=\"70\" y=\"465\"/><text fill=\"#000000\" font-family=\"sans-serif\" font-size=\"12\" font-style=\"italic\" lengthAdjust=\"spacingAndGlyphs\" textLength=\"40\" x=\"71\" y=\"481.1387\">«part»</text><text fill=\"#000000\" font-family=\"sans-serif\" font-size=\"12\" lengthAdjust=\"spacingAndGlyphs\" textLength=\"14\" x=\"84\" y=\"495.1074\">x1</text><line style=\"stroke: #383838; stroke-width: 1.5;\" x1=\"71\" x2=\"111\" y1=\"502.9375\" y2=\"502.9375\"/></a><!--MD5=[270fce915f116d4de14055a7c1d9a0f3]\n",
       "class E5--><a href=\"psysml:ba7b03ba-afee-4a2c-95ba-c440e322d2ee\" target=\"_top\" title=\"psysml:ba7b03ba-afee-4a2c-95ba-c440e322d2ee\" xlink:actuate=\"onRequest\" xlink:href=\"psysml:ba7b03ba-afee-4a2c-95ba-c440e322d2ee\" xlink:show=\"new\" xlink:title=\"psysml:ba7b03ba-afee-4a2c-95ba-c440e322d2ee\" xlink:type=\"simple\"><rect fill=\"#FFFFFF\" height=\"45.9375\" id=\"E5\" style=\"stroke: #383838; stroke-width: 1.5;\" width=\"66\" x=\"58\" y=\"41\"/><text fill=\"#000000\" font-family=\"sans-serif\" font-size=\"12\" font-style=\"italic\" lengthAdjust=\"spacingAndGlyphs\" textLength=\"64\" x=\"59\" y=\"57.1387\">«part def»</text><text fill=\"#000000\" font-family=\"sans-serif\" font-size=\"12\" lengthAdjust=\"spacingAndGlyphs\" textLength=\"8\" x=\"87\" y=\"71.1074\">P</text><line style=\"stroke: #383838; stroke-width: 1.5;\" x1=\"59\" x2=\"123\" y1=\"78.9375\" y2=\"78.9375\"/></a><!--MD5=[60a26617385b1d2d0262a64233df1f8d]\n",
       "class E6--><a href=\"psysml:6b502337-597a-4c17-979b-8872526dd5b6\" target=\"_top\" title=\"psysml:6b502337-597a-4c17-979b-8872526dd5b6\" xlink:actuate=\"onRequest\" xlink:href=\"psysml:6b502337-597a-4c17-979b-8872526dd5b6\" xlink:show=\"new\" xlink:title=\"psysml:6b502337-597a-4c17-979b-8872526dd5b6\" xlink:type=\"simple\"><rect fill=\"#FFFFFF\" height=\"45.9375\" id=\"E6\" rx=\"10\" ry=\"10\" style=\"stroke: #383838; stroke-width: 1.5;\" width=\"42\" x=\"32\" y=\"147\"/><text fill=\"#000000\" font-family=\"sans-serif\" font-size=\"12\" font-style=\"italic\" lengthAdjust=\"spacingAndGlyphs\" textLength=\"40\" x=\"33\" y=\"163.1387\">«part»</text><text fill=\"#000000\" font-family=\"sans-serif\" font-size=\"12\" lengthAdjust=\"spacingAndGlyphs\" textLength=\"6\" x=\"50\" y=\"177.1074\">y</text><line style=\"stroke: #383838; stroke-width: 1.5;\" x1=\"33\" x2=\"73\" y1=\"184.9375\" y2=\"184.9375\"/></a><!--MD5=[2156ba9850f5573cc1fc38a6a4b2f02b]\n",
       "class E7--><a href=\"psysml:c0882630-04b8-4e6c-a043-bd39b4f2710a\" target=\"_top\" title=\"psysml:c0882630-04b8-4e6c-a043-bd39b4f2710a\" xlink:actuate=\"onRequest\" xlink:href=\"psysml:c0882630-04b8-4e6c-a043-bd39b4f2710a\" xlink:show=\"new\" xlink:title=\"psysml:c0882630-04b8-4e6c-a043-bd39b4f2710a\" xlink:type=\"simple\"><rect fill=\"#FFFFFF\" height=\"45.9375\" id=\"E7\" rx=\"10\" ry=\"10\" style=\"stroke: #383838; stroke-width: 1.5;\" width=\"42\" x=\"109\" y=\"147\"/><text fill=\"#000000\" font-family=\"sans-serif\" font-size=\"12\" font-style=\"italic\" lengthAdjust=\"spacingAndGlyphs\" textLength=\"40\" x=\"110\" y=\"163.1387\">«part»</text><text fill=\"#000000\" font-family=\"sans-serif\" font-size=\"12\" lengthAdjust=\"spacingAndGlyphs\" textLength=\"16\" x=\"122\" y=\"177.1074\">p1</text><line style=\"stroke: #383838; stroke-width: 1.5;\" x1=\"110\" x2=\"150\" y1=\"184.9375\" y2=\"184.9375\"/></a><!--MD5=[209b3feb70ccb6233bfe1053d122c12c]\n",
       "reverse link E2 to E3--><a href=\"psysml:d551e406-73fb-4a91-a080-fc440127a640\" target=\"_top\" title=\"psysml:d551e406-73fb-4a91-a080-fc440127a640\" xlink:actuate=\"onRequest\" xlink:href=\"psysml:d551e406-73fb-4a91-a080-fc440127a640\" xlink:show=\"new\" xlink:title=\"psysml:d551e406-73fb-4a91-a080-fc440127a640\" xlink:type=\"simple\"><path d=\"M91,312.44 C91,327.87 91,345.47 91,358.98 \" fill=\"none\" id=\"E2&lt;-E3\" style=\"stroke: #383838; stroke-width: 1.0;\"/><polygon fill=\"#383838\" points=\"91,299.06,87,305.06,91,311.06,95,305.06,91,299.06\" style=\"stroke: #383838; stroke-width: 1.0;\"/></a><!--MD5=[4672eba38e49728da53d11aeb285b987]\n",
       "reverse link E3 to E4--><a href=\"psysml:0c62ef63-43f3-4799-a069-927499b27fb4\" target=\"_top\" title=\"psysml:0c62ef63-43f3-4799-a069-927499b27fb4\" xlink:actuate=\"onRequest\" xlink:href=\"psysml:0c62ef63-43f3-4799-a069-927499b27fb4\" xlink:show=\"new\" xlink:title=\"psysml:0c62ef63-43f3-4799-a069-927499b27fb4\" xlink:type=\"simple\"><path d=\"M91,418.44 C91,433.87 91,451.47 91,464.98 \" fill=\"none\" id=\"E3&lt;-E4\" style=\"stroke: #383838; stroke-width: 1.0;\"/><polygon fill=\"#383838\" points=\"91,405.06,87,411.06,91,417.06,95,411.06,91,405.06\" style=\"stroke: #383838; stroke-width: 1.0;\"/></a><!--MD5=[85d356282659285ab4b2cfe2f634dd2b]\n",
       "reverse link E5 to E6--><a href=\"psysml:bccb9dd4-409f-48ce-8915-27f20628680f\" target=\"_top\" title=\"psysml:bccb9dd4-409f-48ce-8915-27f20628680f\" xlink:actuate=\"onRequest\" xlink:href=\"psysml:bccb9dd4-409f-48ce-8915-27f20628680f\" xlink:show=\"new\" xlink:title=\"psysml:bccb9dd4-409f-48ce-8915-27f20628680f\" xlink:type=\"simple\"><path d=\"M78.4,99.49 C72.68,115.15 66.08,133.19 61.05,146.98 \" fill=\"none\" id=\"E5&lt;-E6\" style=\"stroke: #383838; stroke-width: 1.0;\"/><polygon fill=\"#383838\" points=\"82.94,87.06,77.1196,91.317,78.8105,98.3271,84.6309,94.07,82.94,87.06\" style=\"stroke: #383838; stroke-width: 1.0;\"/></a><!--MD5=[2351f337d6de0f557b50152ba70847b5]\n",
       "link E6 to E2--><a href=\"psysml:3c2ac290-8ac1-4000-af3e-5bcf9ecf7966\" target=\"_top\" title=\"psysml:3c2ac290-8ac1-4000-af3e-5bcf9ecf7966\" xlink:actuate=\"onRequest\" xlink:href=\"psysml:3c2ac290-8ac1-4000-af3e-5bcf9ecf7966\" xlink:show=\"new\" xlink:title=\"psysml:3c2ac290-8ac1-4000-af3e-5bcf9ecf7966\" xlink:type=\"simple\"><path d=\"M61.06,193.06 C67.51,210.7 76.51,235.34 82.95,252.98 \" fill=\"none\" id=\"E6-E2\" style=\"stroke: #383838; stroke-width: 3.0;\"/></a><!--MD5=[452b418e7f8a40397a49b8c0a78acc5b]\n",
       "reverse link E5 to E7--><a href=\"psysml:97bf4e08-a4b3-492a-87d8-6adc842be5d3\" target=\"_top\" title=\"psysml:97bf4e08-a4b3-492a-87d8-6adc842be5d3\" xlink:actuate=\"onRequest\" xlink:href=\"psysml:97bf4e08-a4b3-492a-87d8-6adc842be5d3\" xlink:show=\"new\" xlink:title=\"psysml:97bf4e08-a4b3-492a-87d8-6adc842be5d3\" xlink:type=\"simple\"><path d=\"M103.94,99.49 C109.8,115.15 116.57,133.19 121.74,146.98 \" fill=\"none\" id=\"E5&lt;-E7\" style=\"stroke: #383838; stroke-width: 1.0;\"/><polygon fill=\"#383838\" points=\"99.27,87.06,97.635,94.0833,103.4893,98.2938,105.1242,91.2705,99.27,87.06\" style=\"stroke: #383838; stroke-width: 1.0;\"/></a><!--MD5=[583832df87f4419a098336a29a52fa00]\n",
       "link E7 to E2--><a href=\"psysml:6815ba90-0374-438b-ad93-53c34ddf71b8\" target=\"_top\" title=\"psysml:6815ba90-0374-438b-ad93-53c34ddf71b8\" xlink:actuate=\"onRequest\" xlink:href=\"psysml:6815ba90-0374-438b-ad93-53c34ddf71b8\" xlink:show=\"new\" xlink:title=\"psysml:6815ba90-0374-438b-ad93-53c34ddf71b8\" xlink:type=\"simple\"><path d=\"M121.73,193.06 C117.28,204.91 111.65,219.92 106.43,233.85 \" fill=\"none\" id=\"E7-&gt;E2\" style=\"stroke: #383838; stroke-width: 1.0;\"/><polygon fill=\"none\" points=\"112.84,236.71,99.26,252.98,99.73,231.79,112.84,236.71\" style=\"stroke: #383838; stroke-width: 1.0;\"/></a><!--MD5=[860b2aefd9e91aeb7d48c56b6f065df5]\n",
       "@startuml\r\n",
       "top to bottom direction\r\n",
       "skinparam monochrome true\r\n",
       "skinparam classbackgroundcolor white\r\n",
       "skinparam shadowing false\r\n",
       "skinparam wrapWidth 300\r\n",
       "hide circle\r\n",
       "\r\n",
       "package \"ConnectionTest\" as E1  [[psysml:22aef044-e637-4155-a6c9-7ceaf878199d ]]  {\r\n",
       "comp usage \"p\" as E2  <<(T,blue) part>> [[psysml:4372fe5d-a54c-4736-ace6-05c35a4b2fd0 ]] {\r\n",
       "}\r\n",
       "comp usage \"x\" as E3  <<(T,blue) part>> [[psysml:3f2b8857-d9ea-41c6-bb7a-db05d1986c1a ]] {\r\n",
       "}\r\n",
       "comp usage \"x1\" as E4  <<(T,blue) part>> [[psysml:e84cebed-6405-49c5-b413-5d504fb47cee ]] {\r\n",
       "}\r\n",
       "comp def \"P\" as E5  <<(T,blue) part def>> [[psysml:ba7b03ba-afee-4a2c-95ba-c440e322d2ee ]] {\r\n",
       "}\r\n",
       "comp usage \"y\" as E6  <<(T,blue) part>> [[psysml:6b502337-597a-4c17-979b-8872526dd5b6 ]] {\r\n",
       "}\r\n",
       "comp usage \"p1\" as E7  <<(T,blue) part>> [[psysml:c0882630-04b8-4e6c-a043-bd39b4f2710a ]] {\r\n",
       "}\r\n",
       "E2 *- - E3 [[psysml:d551e406-73fb-4a91-a080-fc440127a640 ]] \r\n",
       "E3 *- - E4 [[psysml:0c62ef63-43f3-4799-a069-927499b27fb4 ]] \r\n",
       "E5 *- - E6 [[psysml:bccb9dd4-409f-48ce-8915-27f20628680f ]] \r\n",
       "E6 -[thickness=3]- E2 [[psysml:3c2ac290-8ac1-4000-af3e-5bcf9ecf7966 ]] \r\n",
       "E5 *- - E7 [[psysml:97bf4e08-a4b3-492a-87d8-6adc842be5d3 ]] \r\n",
       "E7 - -|> E2 [[psysml:6815ba90-0374-438b-ad93-53c34ddf71b8 ]] \r\n",
       "}\r\n",
       "@enduml\r\n",
       "\n",
       "PlantUML version 1.2020.13(Sat Jun 13 12:26:38 UTC 2020)\n",
       "(EPL source distribution)\n",
       "Java Runtime: OpenJDK Runtime Environment\n",
       "JVM: OpenJDK 64-Bit Server VM\n",
       "Default Encoding: UTF-8\n",
       "Language: en\n",
       "Country: null\n",
       "--></g></svg>"
      ]
     },
     "execution_count": 50,
     "metadata": {},
     "output_type": "execute_result"
    }
   ],
   "source": [
    "%viz --style=\"TB\" --view=\"MIXED\" \"ConnectionTest\""
   ]
  },
  {
   "cell_type": "code",
   "execution_count": 51,
   "id": "1b0634c9",
   "metadata": {
    "execution": {
     "iopub.execute_input": "2021-06-30T09:21:38.093886Z",
     "iopub.status.busy": "2021-06-30T09:21:38.093421Z",
     "iopub.status.idle": "2021-06-30T09:21:38.130677Z",
     "shell.execute_reply": "2021-06-30T09:21:38.129307Z"
    }
   },
   "outputs": [
    {
     "data": {
      "image/svg+xml": [
       "<?xml version=\"1.0\" encoding=\"UTF-8\" standalone=\"no\"?><svg xmlns=\"http://www.w3.org/2000/svg\" xmlns:xlink=\"http://www.w3.org/1999/xlink\" contentScriptType=\"application/ecmascript\" contentStyleType=\"text/css\" height=\"539px\" preserveAspectRatio=\"none\" style=\"width:189px;height:539px;\" version=\"1.1\" viewBox=\"0 0 189 539\" width=\"189px\" zoomAndPan=\"magnify\"><defs/><g><!--MD5=[fbc87193dbaf4d95561dea2c320d4a47]\n",
       "cluster E1--><a href=\"psysml:22aef044-e637-4155-a6c9-7ceaf878199d\" target=\"_top\" title=\"psysml:22aef044-e637-4155-a6c9-7ceaf878199d\" xlink:actuate=\"onRequest\" xlink:href=\"psysml:22aef044-e637-4155-a6c9-7ceaf878199d\" xlink:show=\"new\" xlink:title=\"psysml:22aef044-e637-4155-a6c9-7ceaf878199d\" xlink:type=\"simple\"><polygon fill=\"#FFFFFF\" points=\"16,6,147,6,154,28.2969,167,28.2969,167,527,16,527,16,6\" style=\"stroke: #000000; stroke-width: 1.5;\"/><line style=\"stroke: #000000; stroke-width: 1.5;\" x1=\"16\" x2=\"154\" y1=\"28.2969\" y2=\"28.2969\"/><text fill=\"#000000\" font-family=\"sans-serif\" font-size=\"14\" font-weight=\"bold\" lengthAdjust=\"spacingAndGlyphs\" textLength=\"125\" x=\"20\" y=\"20.9951\">ConnectionTest</text></a><!--MD5=[b4997ac47864f28c2f74865a473b2911]\n",
       "class E2--><a href=\"psysml:4372fe5d-a54c-4736-ace6-05c35a4b2fd0\" target=\"_top\" title=\"psysml:4372fe5d-a54c-4736-ace6-05c35a4b2fd0\" xlink:actuate=\"onRequest\" xlink:href=\"psysml:4372fe5d-a54c-4736-ace6-05c35a4b2fd0\" xlink:show=\"new\" xlink:title=\"psysml:4372fe5d-a54c-4736-ace6-05c35a4b2fd0\" xlink:type=\"simple\"><rect fill=\"#FFFFFF\" height=\"45.9375\" id=\"E2\" rx=\"10\" ry=\"10\" style=\"stroke: #383838; stroke-width: 1.5;\" width=\"42\" x=\"70\" y=\"253\"/><text fill=\"#000000\" font-family=\"sans-serif\" font-size=\"12\" font-style=\"italic\" lengthAdjust=\"spacingAndGlyphs\" textLength=\"40\" x=\"71\" y=\"269.1387\">«part»</text><text fill=\"#000000\" font-family=\"sans-serif\" font-size=\"12\" lengthAdjust=\"spacingAndGlyphs\" textLength=\"8\" x=\"87\" y=\"283.1074\">p</text><line style=\"stroke: #383838; stroke-width: 1.5;\" x1=\"71\" x2=\"111\" y1=\"290.9375\" y2=\"290.9375\"/></a><!--MD5=[09b614a08d8cba4a07c9adeb5e0fee81]\n",
       "class E3--><a href=\"psysml:3f2b8857-d9ea-41c6-bb7a-db05d1986c1a\" target=\"_top\" title=\"psysml:3f2b8857-d9ea-41c6-bb7a-db05d1986c1a\" xlink:actuate=\"onRequest\" xlink:href=\"psysml:3f2b8857-d9ea-41c6-bb7a-db05d1986c1a\" xlink:show=\"new\" xlink:title=\"psysml:3f2b8857-d9ea-41c6-bb7a-db05d1986c1a\" xlink:type=\"simple\"><rect fill=\"#FFFFFF\" height=\"45.9375\" id=\"E3\" rx=\"10\" ry=\"10\" style=\"stroke: #383838; stroke-width: 1.5;\" width=\"42\" x=\"70\" y=\"359\"/><text fill=\"#000000\" font-family=\"sans-serif\" font-size=\"12\" font-style=\"italic\" lengthAdjust=\"spacingAndGlyphs\" textLength=\"40\" x=\"71\" y=\"375.1387\">«part»</text><text fill=\"#000000\" font-family=\"sans-serif\" font-size=\"12\" lengthAdjust=\"spacingAndGlyphs\" textLength=\"6\" x=\"88\" y=\"389.1074\">x</text><line style=\"stroke: #383838; stroke-width: 1.5;\" x1=\"71\" x2=\"111\" y1=\"396.9375\" y2=\"396.9375\"/></a><!--MD5=[ebbe1d658d1005bcc118a6aa81145e00]\n",
       "class E4--><a href=\"psysml:e84cebed-6405-49c5-b413-5d504fb47cee\" target=\"_top\" title=\"psysml:e84cebed-6405-49c5-b413-5d504fb47cee\" xlink:actuate=\"onRequest\" xlink:href=\"psysml:e84cebed-6405-49c5-b413-5d504fb47cee\" xlink:show=\"new\" xlink:title=\"psysml:e84cebed-6405-49c5-b413-5d504fb47cee\" xlink:type=\"simple\"><rect fill=\"#FFFFFF\" height=\"45.9375\" id=\"E4\" rx=\"10\" ry=\"10\" style=\"stroke: #383838; stroke-width: 1.5;\" width=\"42\" x=\"70\" y=\"465\"/><text fill=\"#000000\" font-family=\"sans-serif\" font-size=\"12\" font-style=\"italic\" lengthAdjust=\"spacingAndGlyphs\" textLength=\"40\" x=\"71\" y=\"481.1387\">«part»</text><text fill=\"#000000\" font-family=\"sans-serif\" font-size=\"12\" lengthAdjust=\"spacingAndGlyphs\" textLength=\"14\" x=\"84\" y=\"495.1074\">x1</text><line style=\"stroke: #383838; stroke-width: 1.5;\" x1=\"71\" x2=\"111\" y1=\"502.9375\" y2=\"502.9375\"/></a><!--MD5=[270fce915f116d4de14055a7c1d9a0f3]\n",
       "class E5--><a href=\"psysml:ba7b03ba-afee-4a2c-95ba-c440e322d2ee\" target=\"_top\" title=\"psysml:ba7b03ba-afee-4a2c-95ba-c440e322d2ee\" xlink:actuate=\"onRequest\" xlink:href=\"psysml:ba7b03ba-afee-4a2c-95ba-c440e322d2ee\" xlink:show=\"new\" xlink:title=\"psysml:ba7b03ba-afee-4a2c-95ba-c440e322d2ee\" xlink:type=\"simple\"><rect fill=\"#FFFFFF\" height=\"45.9375\" id=\"E5\" style=\"stroke: #383838; stroke-width: 1.5;\" width=\"66\" x=\"58\" y=\"41\"/><text fill=\"#000000\" font-family=\"sans-serif\" font-size=\"12\" font-style=\"italic\" lengthAdjust=\"spacingAndGlyphs\" textLength=\"64\" x=\"59\" y=\"57.1387\">«part def»</text><text fill=\"#000000\" font-family=\"sans-serif\" font-size=\"12\" lengthAdjust=\"spacingAndGlyphs\" textLength=\"8\" x=\"87\" y=\"71.1074\">P</text><line style=\"stroke: #383838; stroke-width: 1.5;\" x1=\"59\" x2=\"123\" y1=\"78.9375\" y2=\"78.9375\"/></a><!--MD5=[60a26617385b1d2d0262a64233df1f8d]\n",
       "class E6--><a href=\"psysml:6b502337-597a-4c17-979b-8872526dd5b6\" target=\"_top\" title=\"psysml:6b502337-597a-4c17-979b-8872526dd5b6\" xlink:actuate=\"onRequest\" xlink:href=\"psysml:6b502337-597a-4c17-979b-8872526dd5b6\" xlink:show=\"new\" xlink:title=\"psysml:6b502337-597a-4c17-979b-8872526dd5b6\" xlink:type=\"simple\"><rect fill=\"#FFFFFF\" height=\"45.9375\" id=\"E6\" rx=\"10\" ry=\"10\" style=\"stroke: #383838; stroke-width: 1.5;\" width=\"42\" x=\"32\" y=\"147\"/><text fill=\"#000000\" font-family=\"sans-serif\" font-size=\"12\" font-style=\"italic\" lengthAdjust=\"spacingAndGlyphs\" textLength=\"40\" x=\"33\" y=\"163.1387\">«part»</text><text fill=\"#000000\" font-family=\"sans-serif\" font-size=\"12\" lengthAdjust=\"spacingAndGlyphs\" textLength=\"6\" x=\"50\" y=\"177.1074\">y</text><line style=\"stroke: #383838; stroke-width: 1.5;\" x1=\"33\" x2=\"73\" y1=\"184.9375\" y2=\"184.9375\"/></a><!--MD5=[2156ba9850f5573cc1fc38a6a4b2f02b]\n",
       "class E7--><a href=\"psysml:c0882630-04b8-4e6c-a043-bd39b4f2710a\" target=\"_top\" title=\"psysml:c0882630-04b8-4e6c-a043-bd39b4f2710a\" xlink:actuate=\"onRequest\" xlink:href=\"psysml:c0882630-04b8-4e6c-a043-bd39b4f2710a\" xlink:show=\"new\" xlink:title=\"psysml:c0882630-04b8-4e6c-a043-bd39b4f2710a\" xlink:type=\"simple\"><rect fill=\"#FFFFFF\" height=\"45.9375\" id=\"E7\" rx=\"10\" ry=\"10\" style=\"stroke: #383838; stroke-width: 1.5;\" width=\"42\" x=\"109\" y=\"147\"/><text fill=\"#000000\" font-family=\"sans-serif\" font-size=\"12\" font-style=\"italic\" lengthAdjust=\"spacingAndGlyphs\" textLength=\"40\" x=\"110\" y=\"163.1387\">«part»</text><text fill=\"#000000\" font-family=\"sans-serif\" font-size=\"12\" lengthAdjust=\"spacingAndGlyphs\" textLength=\"16\" x=\"122\" y=\"177.1074\">p1</text><line style=\"stroke: #383838; stroke-width: 1.5;\" x1=\"110\" x2=\"150\" y1=\"184.9375\" y2=\"184.9375\"/></a><!--MD5=[209b3feb70ccb6233bfe1053d122c12c]\n",
       "reverse link E2 to E3--><a href=\"psysml:d551e406-73fb-4a91-a080-fc440127a640\" target=\"_top\" title=\"psysml:d551e406-73fb-4a91-a080-fc440127a640\" xlink:actuate=\"onRequest\" xlink:href=\"psysml:d551e406-73fb-4a91-a080-fc440127a640\" xlink:show=\"new\" xlink:title=\"psysml:d551e406-73fb-4a91-a080-fc440127a640\" xlink:type=\"simple\"><path d=\"M91,312 C91,312 91,358.68 91,358.68 \" fill=\"none\" id=\"E2&lt;-E3\" style=\"stroke: #383838; stroke-width: 1.0;\"/><polygon fill=\"#383838\" points=\"91,299,87,305,91,311,95,305,91,299\" style=\"stroke: #383838; stroke-width: 1.0;\"/></a><!--MD5=[4672eba38e49728da53d11aeb285b987]\n",
       "reverse link E3 to E4--><a href=\"psysml:0c62ef63-43f3-4799-a069-927499b27fb4\" target=\"_top\" title=\"psysml:0c62ef63-43f3-4799-a069-927499b27fb4\" xlink:actuate=\"onRequest\" xlink:href=\"psysml:0c62ef63-43f3-4799-a069-927499b27fb4\" xlink:show=\"new\" xlink:title=\"psysml:0c62ef63-43f3-4799-a069-927499b27fb4\" xlink:type=\"simple\"><path d=\"M91,418 C91,418 91,464.68 91,464.68 \" fill=\"none\" id=\"E3&lt;-E4\" style=\"stroke: #383838; stroke-width: 1.0;\"/><polygon fill=\"#383838\" points=\"91,405,87,411,91,417,95,411,91,405\" style=\"stroke: #383838; stroke-width: 1.0;\"/></a><!--MD5=[85d356282659285ab4b2cfe2f634dd2b]\n",
       "reverse link E5 to E6--><a href=\"psysml:bccb9dd4-409f-48ce-8915-27f20628680f\" target=\"_top\" title=\"psysml:bccb9dd4-409f-48ce-8915-27f20628680f\" xlink:actuate=\"onRequest\" xlink:href=\"psysml:bccb9dd4-409f-48ce-8915-27f20628680f\" xlink:show=\"new\" xlink:title=\"psysml:bccb9dd4-409f-48ce-8915-27f20628680f\" xlink:type=\"simple\"><path d=\"M66,100 C66,100 66,146.68 66,146.68 \" fill=\"none\" id=\"E5&lt;-E6\" style=\"stroke: #383838; stroke-width: 1.0;\"/><polygon fill=\"#383838\" points=\"66,87,62,93,66,99,70,93,66,87\" style=\"stroke: #383838; stroke-width: 1.0;\"/></a><!--MD5=[2351f337d6de0f557b50152ba70847b5]\n",
       "link E6 to E2--><a href=\"psysml:3c2ac290-8ac1-4000-af3e-5bcf9ecf7966\" target=\"_top\" title=\"psysml:3c2ac290-8ac1-4000-af3e-5bcf9ecf7966\" xlink:actuate=\"onRequest\" xlink:href=\"psysml:3c2ac290-8ac1-4000-af3e-5bcf9ecf7966\" xlink:show=\"new\" xlink:title=\"psysml:3c2ac290-8ac1-4000-af3e-5bcf9ecf7966\" xlink:type=\"simple\"><path d=\"M74.24,178 C80.48,178 85.67,178 85.67,178 C85.67,178 85.67,223.8 85.67,252.78 \" fill=\"none\" id=\"E6-E2\" style=\"stroke: #383838; stroke-width: 3.0;\"/></a><!--MD5=[452b418e7f8a40397a49b8c0a78acc5b]\n",
       "reverse link E5 to E7--><a href=\"psysml:97bf4e08-a4b3-492a-87d8-6adc842be5d3\" target=\"_top\" title=\"psysml:97bf4e08-a4b3-492a-87d8-6adc842be5d3\" xlink:actuate=\"onRequest\" xlink:href=\"psysml:97bf4e08-a4b3-492a-87d8-6adc842be5d3\" xlink:show=\"new\" xlink:title=\"psysml:97bf4e08-a4b3-492a-87d8-6adc842be5d3\" xlink:type=\"simple\"><path d=\"M116.5,100 C116.5,100 116.5,146.68 116.5,146.68 \" fill=\"none\" id=\"E5&lt;-E7\" style=\"stroke: #383838; stroke-width: 1.0;\"/><polygon fill=\"#383838\" points=\"116.5,87,112.5,93,116.5,99,120.5,93,116.5,87\" style=\"stroke: #383838; stroke-width: 1.0;\"/></a><!--MD5=[583832df87f4419a098336a29a52fa00]\n",
       "link E7 to E2--><a href=\"psysml:6815ba90-0374-438b-ad93-53c34ddf71b8\" target=\"_top\" title=\"psysml:6815ba90-0374-438b-ad93-53c34ddf71b8\" xlink:actuate=\"onRequest\" xlink:href=\"psysml:6815ba90-0374-438b-ad93-53c34ddf71b8\" xlink:show=\"new\" xlink:title=\"psysml:6815ba90-0374-438b-ad93-53c34ddf71b8\" xlink:type=\"simple\"><path d=\"M108.76,163 C102.52,163 97.33,163 97.33,163 C97.33,163 97.33,232.86 97.33,232.86 \" fill=\"none\" id=\"E7-&gt;E2\" style=\"stroke: #383838; stroke-width: 1.0;\"/><polygon fill=\"none\" points=\"104.33,232.86,97.33,252.86,90.33,232.86,104.33,232.86\" style=\"stroke: #383838; stroke-width: 1.0;\"/></a><!--MD5=[dfa6e31eb76e511b5b73dbd092743dac]\n",
       "@startuml\r\n",
       "skinparam linetype ortho\r\n",
       "skinparam monochrome true\r\n",
       "skinparam classbackgroundcolor white\r\n",
       "skinparam shadowing false\r\n",
       "skinparam wrapWidth 300\r\n",
       "hide circle\r\n",
       "\r\n",
       "package \"ConnectionTest\" as E1  [[psysml:22aef044-e637-4155-a6c9-7ceaf878199d ]]  {\r\n",
       "comp usage \"p\" as E2  <<(T,blue) part>> [[psysml:4372fe5d-a54c-4736-ace6-05c35a4b2fd0 ]] {\r\n",
       "}\r\n",
       "comp usage \"x\" as E3  <<(T,blue) part>> [[psysml:3f2b8857-d9ea-41c6-bb7a-db05d1986c1a ]] {\r\n",
       "}\r\n",
       "comp usage \"x1\" as E4  <<(T,blue) part>> [[psysml:e84cebed-6405-49c5-b413-5d504fb47cee ]] {\r\n",
       "}\r\n",
       "comp def \"P\" as E5  <<(T,blue) part def>> [[psysml:ba7b03ba-afee-4a2c-95ba-c440e322d2ee ]] {\r\n",
       "}\r\n",
       "comp usage \"y\" as E6  <<(T,blue) part>> [[psysml:6b502337-597a-4c17-979b-8872526dd5b6 ]] {\r\n",
       "}\r\n",
       "comp usage \"p1\" as E7  <<(T,blue) part>> [[psysml:c0882630-04b8-4e6c-a043-bd39b4f2710a ]] {\r\n",
       "}\r\n",
       "E2 *- - E3 [[psysml:d551e406-73fb-4a91-a080-fc440127a640 ]] \r\n",
       "E3 *- - E4 [[psysml:0c62ef63-43f3-4799-a069-927499b27fb4 ]] \r\n",
       "E5 *- - E6 [[psysml:bccb9dd4-409f-48ce-8915-27f20628680f ]] \r\n",
       "E6 -[thickness=3]- E2 [[psysml:3c2ac290-8ac1-4000-af3e-5bcf9ecf7966 ]] \r\n",
       "E5 *- - E7 [[psysml:97bf4e08-a4b3-492a-87d8-6adc842be5d3 ]] \r\n",
       "E7 - -|> E2 [[psysml:6815ba90-0374-438b-ad93-53c34ddf71b8 ]] \r\n",
       "}\r\n",
       "@enduml\r\n",
       "\n",
       "PlantUML version 1.2020.13(Sat Jun 13 12:26:38 UTC 2020)\n",
       "(EPL source distribution)\n",
       "Java Runtime: OpenJDK Runtime Environment\n",
       "JVM: OpenJDK 64-Bit Server VM\n",
       "Default Encoding: UTF-8\n",
       "Language: en\n",
       "Country: null\n",
       "--></g></svg>"
      ]
     },
     "execution_count": 51,
     "metadata": {},
     "output_type": "execute_result"
    }
   ],
   "source": [
    "%viz --style=\"ORTHOLINE\" --view=\"Default\" \"ConnectionTest\""
   ]
  },
  {
   "cell_type": "code",
   "execution_count": 52,
   "id": "bab68d0c",
   "metadata": {
    "execution": {
     "iopub.execute_input": "2021-06-30T09:21:38.181695Z",
     "iopub.status.busy": "2021-06-30T09:21:38.181238Z",
     "iopub.status.idle": "2021-06-30T09:21:38.223164Z",
     "shell.execute_reply": "2021-06-30T09:21:38.221464Z"
    }
   },
   "outputs": [
    {
     "data": {
      "image/svg+xml": [
       "<?xml version=\"1.0\" encoding=\"UTF-8\" standalone=\"no\"?><svg xmlns=\"http://www.w3.org/2000/svg\" xmlns:xlink=\"http://www.w3.org/1999/xlink\" contentScriptType=\"application/ecmascript\" contentStyleType=\"text/css\" height=\"539px\" preserveAspectRatio=\"none\" style=\"width:189px;height:539px;\" version=\"1.1\" viewBox=\"0 0 189 539\" width=\"189px\" zoomAndPan=\"magnify\"><defs/><g><!--MD5=[fbc87193dbaf4d95561dea2c320d4a47]\n",
       "cluster E1--><a href=\"psysml:22aef044-e637-4155-a6c9-7ceaf878199d\" target=\"_top\" title=\"psysml:22aef044-e637-4155-a6c9-7ceaf878199d\" xlink:actuate=\"onRequest\" xlink:href=\"psysml:22aef044-e637-4155-a6c9-7ceaf878199d\" xlink:show=\"new\" xlink:title=\"psysml:22aef044-e637-4155-a6c9-7ceaf878199d\" xlink:type=\"simple\"><polygon fill=\"#FFFFFF\" points=\"16,6,147,6,154,28.2969,167,28.2969,167,527,16,527,16,6\" style=\"stroke: #000000; stroke-width: 1.5;\"/><line style=\"stroke: #000000; stroke-width: 1.5;\" x1=\"16\" x2=\"154\" y1=\"28.2969\" y2=\"28.2969\"/><text fill=\"#000000\" font-family=\"sans-serif\" font-size=\"14\" font-weight=\"bold\" lengthAdjust=\"spacingAndGlyphs\" textLength=\"125\" x=\"20\" y=\"20.9951\">ConnectionTest</text></a><!--MD5=[b4997ac47864f28c2f74865a473b2911]\n",
       "class E2--><a href=\"psysml:4372fe5d-a54c-4736-ace6-05c35a4b2fd0\" target=\"_top\" title=\"psysml:4372fe5d-a54c-4736-ace6-05c35a4b2fd0\" xlink:actuate=\"onRequest\" xlink:href=\"psysml:4372fe5d-a54c-4736-ace6-05c35a4b2fd0\" xlink:show=\"new\" xlink:title=\"psysml:4372fe5d-a54c-4736-ace6-05c35a4b2fd0\" xlink:type=\"simple\"><rect fill=\"#FFFFFF\" height=\"45.9375\" id=\"E2\" rx=\"10\" ry=\"10\" style=\"stroke: #383838; stroke-width: 1.5;\" width=\"42\" x=\"70\" y=\"253\"/><text fill=\"#000000\" font-family=\"sans-serif\" font-size=\"12\" font-style=\"italic\" lengthAdjust=\"spacingAndGlyphs\" textLength=\"40\" x=\"71\" y=\"269.1387\">«part»</text><text fill=\"#000000\" font-family=\"sans-serif\" font-size=\"12\" lengthAdjust=\"spacingAndGlyphs\" textLength=\"8\" x=\"87\" y=\"283.1074\">p</text><line style=\"stroke: #383838; stroke-width: 1.5;\" x1=\"71\" x2=\"111\" y1=\"290.9375\" y2=\"290.9375\"/></a><!--MD5=[09b614a08d8cba4a07c9adeb5e0fee81]\n",
       "class E3--><a href=\"psysml:3f2b8857-d9ea-41c6-bb7a-db05d1986c1a\" target=\"_top\" title=\"psysml:3f2b8857-d9ea-41c6-bb7a-db05d1986c1a\" xlink:actuate=\"onRequest\" xlink:href=\"psysml:3f2b8857-d9ea-41c6-bb7a-db05d1986c1a\" xlink:show=\"new\" xlink:title=\"psysml:3f2b8857-d9ea-41c6-bb7a-db05d1986c1a\" xlink:type=\"simple\"><rect fill=\"#FFFFFF\" height=\"45.9375\" id=\"E3\" rx=\"10\" ry=\"10\" style=\"stroke: #383838; stroke-width: 1.5;\" width=\"42\" x=\"70\" y=\"359\"/><text fill=\"#000000\" font-family=\"sans-serif\" font-size=\"12\" font-style=\"italic\" lengthAdjust=\"spacingAndGlyphs\" textLength=\"40\" x=\"71\" y=\"375.1387\">«part»</text><text fill=\"#000000\" font-family=\"sans-serif\" font-size=\"12\" lengthAdjust=\"spacingAndGlyphs\" textLength=\"6\" x=\"88\" y=\"389.1074\">x</text><line style=\"stroke: #383838; stroke-width: 1.5;\" x1=\"71\" x2=\"111\" y1=\"396.9375\" y2=\"396.9375\"/></a><!--MD5=[ebbe1d658d1005bcc118a6aa81145e00]\n",
       "class E4--><a href=\"psysml:e84cebed-6405-49c5-b413-5d504fb47cee\" target=\"_top\" title=\"psysml:e84cebed-6405-49c5-b413-5d504fb47cee\" xlink:actuate=\"onRequest\" xlink:href=\"psysml:e84cebed-6405-49c5-b413-5d504fb47cee\" xlink:show=\"new\" xlink:title=\"psysml:e84cebed-6405-49c5-b413-5d504fb47cee\" xlink:type=\"simple\"><rect fill=\"#FFFFFF\" height=\"45.9375\" id=\"E4\" rx=\"10\" ry=\"10\" style=\"stroke: #383838; stroke-width: 1.5;\" width=\"42\" x=\"70\" y=\"465\"/><text fill=\"#000000\" font-family=\"sans-serif\" font-size=\"12\" font-style=\"italic\" lengthAdjust=\"spacingAndGlyphs\" textLength=\"40\" x=\"71\" y=\"481.1387\">«part»</text><text fill=\"#000000\" font-family=\"sans-serif\" font-size=\"12\" lengthAdjust=\"spacingAndGlyphs\" textLength=\"14\" x=\"84\" y=\"495.1074\">x1</text><line style=\"stroke: #383838; stroke-width: 1.5;\" x1=\"71\" x2=\"111\" y1=\"502.9375\" y2=\"502.9375\"/></a><!--MD5=[270fce915f116d4de14055a7c1d9a0f3]\n",
       "class E5--><a href=\"psysml:ba7b03ba-afee-4a2c-95ba-c440e322d2ee\" target=\"_top\" title=\"psysml:ba7b03ba-afee-4a2c-95ba-c440e322d2ee\" xlink:actuate=\"onRequest\" xlink:href=\"psysml:ba7b03ba-afee-4a2c-95ba-c440e322d2ee\" xlink:show=\"new\" xlink:title=\"psysml:ba7b03ba-afee-4a2c-95ba-c440e322d2ee\" xlink:type=\"simple\"><rect fill=\"#FFFFFF\" height=\"45.9375\" id=\"E5\" style=\"stroke: #383838; stroke-width: 1.5;\" width=\"66\" x=\"58\" y=\"41\"/><text fill=\"#000000\" font-family=\"sans-serif\" font-size=\"12\" font-style=\"italic\" lengthAdjust=\"spacingAndGlyphs\" textLength=\"64\" x=\"59\" y=\"57.1387\">«part def»</text><text fill=\"#000000\" font-family=\"sans-serif\" font-size=\"12\" lengthAdjust=\"spacingAndGlyphs\" textLength=\"8\" x=\"87\" y=\"71.1074\">P</text><line style=\"stroke: #383838; stroke-width: 1.5;\" x1=\"59\" x2=\"123\" y1=\"78.9375\" y2=\"78.9375\"/></a><!--MD5=[60a26617385b1d2d0262a64233df1f8d]\n",
       "class E6--><a href=\"psysml:6b502337-597a-4c17-979b-8872526dd5b6\" target=\"_top\" title=\"psysml:6b502337-597a-4c17-979b-8872526dd5b6\" xlink:actuate=\"onRequest\" xlink:href=\"psysml:6b502337-597a-4c17-979b-8872526dd5b6\" xlink:show=\"new\" xlink:title=\"psysml:6b502337-597a-4c17-979b-8872526dd5b6\" xlink:type=\"simple\"><rect fill=\"#FFFFFF\" height=\"45.9375\" id=\"E6\" rx=\"10\" ry=\"10\" style=\"stroke: #383838; stroke-width: 1.5;\" width=\"42\" x=\"32\" y=\"147\"/><text fill=\"#000000\" font-family=\"sans-serif\" font-size=\"12\" font-style=\"italic\" lengthAdjust=\"spacingAndGlyphs\" textLength=\"40\" x=\"33\" y=\"163.1387\">«part»</text><text fill=\"#000000\" font-family=\"sans-serif\" font-size=\"12\" lengthAdjust=\"spacingAndGlyphs\" textLength=\"6\" x=\"50\" y=\"177.1074\">y</text><line style=\"stroke: #383838; stroke-width: 1.5;\" x1=\"33\" x2=\"73\" y1=\"184.9375\" y2=\"184.9375\"/></a><!--MD5=[2156ba9850f5573cc1fc38a6a4b2f02b]\n",
       "class E7--><a href=\"psysml:c0882630-04b8-4e6c-a043-bd39b4f2710a\" target=\"_top\" title=\"psysml:c0882630-04b8-4e6c-a043-bd39b4f2710a\" xlink:actuate=\"onRequest\" xlink:href=\"psysml:c0882630-04b8-4e6c-a043-bd39b4f2710a\" xlink:show=\"new\" xlink:title=\"psysml:c0882630-04b8-4e6c-a043-bd39b4f2710a\" xlink:type=\"simple\"><rect fill=\"#FFFFFF\" height=\"45.9375\" id=\"E7\" rx=\"10\" ry=\"10\" style=\"stroke: #383838; stroke-width: 1.5;\" width=\"42\" x=\"109\" y=\"147\"/><text fill=\"#000000\" font-family=\"sans-serif\" font-size=\"12\" font-style=\"italic\" lengthAdjust=\"spacingAndGlyphs\" textLength=\"40\" x=\"110\" y=\"163.1387\">«part»</text><text fill=\"#000000\" font-family=\"sans-serif\" font-size=\"12\" lengthAdjust=\"spacingAndGlyphs\" textLength=\"16\" x=\"122\" y=\"177.1074\">p1</text><line style=\"stroke: #383838; stroke-width: 1.5;\" x1=\"110\" x2=\"150\" y1=\"184.9375\" y2=\"184.9375\"/></a><!--MD5=[209b3feb70ccb6233bfe1053d122c12c]\n",
       "reverse link E2 to E3--><a href=\"psysml:d551e406-73fb-4a91-a080-fc440127a640\" target=\"_top\" title=\"psysml:d551e406-73fb-4a91-a080-fc440127a640\" xlink:actuate=\"onRequest\" xlink:href=\"psysml:d551e406-73fb-4a91-a080-fc440127a640\" xlink:show=\"new\" xlink:title=\"psysml:d551e406-73fb-4a91-a080-fc440127a640\" xlink:type=\"simple\"><path d=\"M91,312 C91,312 91,358.68 91,358.68 \" fill=\"none\" id=\"E2&lt;-E3\" style=\"stroke: #383838; stroke-width: 1.0;\"/><polygon fill=\"#383838\" points=\"91,299,87,305,91,311,95,305,91,299\" style=\"stroke: #383838; stroke-width: 1.0;\"/></a><!--MD5=[4672eba38e49728da53d11aeb285b987]\n",
       "reverse link E3 to E4--><a href=\"psysml:0c62ef63-43f3-4799-a069-927499b27fb4\" target=\"_top\" title=\"psysml:0c62ef63-43f3-4799-a069-927499b27fb4\" xlink:actuate=\"onRequest\" xlink:href=\"psysml:0c62ef63-43f3-4799-a069-927499b27fb4\" xlink:show=\"new\" xlink:title=\"psysml:0c62ef63-43f3-4799-a069-927499b27fb4\" xlink:type=\"simple\"><path d=\"M91,418 C91,418 91,464.68 91,464.68 \" fill=\"none\" id=\"E3&lt;-E4\" style=\"stroke: #383838; stroke-width: 1.0;\"/><polygon fill=\"#383838\" points=\"91,405,87,411,91,417,95,411,91,405\" style=\"stroke: #383838; stroke-width: 1.0;\"/></a><!--MD5=[85d356282659285ab4b2cfe2f634dd2b]\n",
       "reverse link E5 to E6--><a href=\"psysml:bccb9dd4-409f-48ce-8915-27f20628680f\" target=\"_top\" title=\"psysml:bccb9dd4-409f-48ce-8915-27f20628680f\" xlink:actuate=\"onRequest\" xlink:href=\"psysml:bccb9dd4-409f-48ce-8915-27f20628680f\" xlink:show=\"new\" xlink:title=\"psysml:bccb9dd4-409f-48ce-8915-27f20628680f\" xlink:type=\"simple\"><path d=\"M66,100 C66,100 66,146.68 66,146.68 \" fill=\"none\" id=\"E5&lt;-E6\" style=\"stroke: #383838; stroke-width: 1.0;\"/><polygon fill=\"#383838\" points=\"66,87,62,93,66,99,70,93,66,87\" style=\"stroke: #383838; stroke-width: 1.0;\"/></a><!--MD5=[2351f337d6de0f557b50152ba70847b5]\n",
       "link E6 to E2--><a href=\"psysml:3c2ac290-8ac1-4000-af3e-5bcf9ecf7966\" target=\"_top\" title=\"psysml:3c2ac290-8ac1-4000-af3e-5bcf9ecf7966\" xlink:actuate=\"onRequest\" xlink:href=\"psysml:3c2ac290-8ac1-4000-af3e-5bcf9ecf7966\" xlink:show=\"new\" xlink:title=\"psysml:3c2ac290-8ac1-4000-af3e-5bcf9ecf7966\" xlink:type=\"simple\"><path d=\"M74.24,178 C80.48,178 85.67,178 85.67,178 C85.67,178 85.67,223.8 85.67,252.78 \" fill=\"none\" id=\"E6-E2\" style=\"stroke: #383838; stroke-width: 3.0;\"/></a><!--MD5=[452b418e7f8a40397a49b8c0a78acc5b]\n",
       "reverse link E5 to E7--><a href=\"psysml:97bf4e08-a4b3-492a-87d8-6adc842be5d3\" target=\"_top\" title=\"psysml:97bf4e08-a4b3-492a-87d8-6adc842be5d3\" xlink:actuate=\"onRequest\" xlink:href=\"psysml:97bf4e08-a4b3-492a-87d8-6adc842be5d3\" xlink:show=\"new\" xlink:title=\"psysml:97bf4e08-a4b3-492a-87d8-6adc842be5d3\" xlink:type=\"simple\"><path d=\"M116.5,100 C116.5,100 116.5,146.68 116.5,146.68 \" fill=\"none\" id=\"E5&lt;-E7\" style=\"stroke: #383838; stroke-width: 1.0;\"/><polygon fill=\"#383838\" points=\"116.5,87,112.5,93,116.5,99,120.5,93,116.5,87\" style=\"stroke: #383838; stroke-width: 1.0;\"/></a><!--MD5=[583832df87f4419a098336a29a52fa00]\n",
       "link E7 to E2--><a href=\"psysml:6815ba90-0374-438b-ad93-53c34ddf71b8\" target=\"_top\" title=\"psysml:6815ba90-0374-438b-ad93-53c34ddf71b8\" xlink:actuate=\"onRequest\" xlink:href=\"psysml:6815ba90-0374-438b-ad93-53c34ddf71b8\" xlink:show=\"new\" xlink:title=\"psysml:6815ba90-0374-438b-ad93-53c34ddf71b8\" xlink:type=\"simple\"><path d=\"M108.76,163 C102.52,163 97.33,163 97.33,163 C97.33,163 97.33,232.86 97.33,232.86 \" fill=\"none\" id=\"E7-&gt;E2\" style=\"stroke: #383838; stroke-width: 1.0;\"/><polygon fill=\"none\" points=\"104.33,232.86,97.33,252.86,90.33,232.86,104.33,232.86\" style=\"stroke: #383838; stroke-width: 1.0;\"/></a><!--MD5=[dfa6e31eb76e511b5b73dbd092743dac]\n",
       "@startuml\r\n",
       "skinparam linetype ortho\r\n",
       "skinparam monochrome true\r\n",
       "skinparam classbackgroundcolor white\r\n",
       "skinparam shadowing false\r\n",
       "skinparam wrapWidth 300\r\n",
       "hide circle\r\n",
       "\r\n",
       "package \"ConnectionTest\" as E1  [[psysml:22aef044-e637-4155-a6c9-7ceaf878199d ]]  {\r\n",
       "comp usage \"p\" as E2  <<(T,blue) part>> [[psysml:4372fe5d-a54c-4736-ace6-05c35a4b2fd0 ]] {\r\n",
       "}\r\n",
       "comp usage \"x\" as E3  <<(T,blue) part>> [[psysml:3f2b8857-d9ea-41c6-bb7a-db05d1986c1a ]] {\r\n",
       "}\r\n",
       "comp usage \"x1\" as E4  <<(T,blue) part>> [[psysml:e84cebed-6405-49c5-b413-5d504fb47cee ]] {\r\n",
       "}\r\n",
       "comp def \"P\" as E5  <<(T,blue) part def>> [[psysml:ba7b03ba-afee-4a2c-95ba-c440e322d2ee ]] {\r\n",
       "}\r\n",
       "comp usage \"y\" as E6  <<(T,blue) part>> [[psysml:6b502337-597a-4c17-979b-8872526dd5b6 ]] {\r\n",
       "}\r\n",
       "comp usage \"p1\" as E7  <<(T,blue) part>> [[psysml:c0882630-04b8-4e6c-a043-bd39b4f2710a ]] {\r\n",
       "}\r\n",
       "E2 *- - E3 [[psysml:d551e406-73fb-4a91-a080-fc440127a640 ]] \r\n",
       "E3 *- - E4 [[psysml:0c62ef63-43f3-4799-a069-927499b27fb4 ]] \r\n",
       "E5 *- - E6 [[psysml:bccb9dd4-409f-48ce-8915-27f20628680f ]] \r\n",
       "E6 -[thickness=3]- E2 [[psysml:3c2ac290-8ac1-4000-af3e-5bcf9ecf7966 ]] \r\n",
       "E5 *- - E7 [[psysml:97bf4e08-a4b3-492a-87d8-6adc842be5d3 ]] \r\n",
       "E7 - -|> E2 [[psysml:6815ba90-0374-438b-ad93-53c34ddf71b8 ]] \r\n",
       "}\r\n",
       "@enduml\r\n",
       "\n",
       "PlantUML version 1.2020.13(Sat Jun 13 12:26:38 UTC 2020)\n",
       "(EPL source distribution)\n",
       "Java Runtime: OpenJDK Runtime Environment\n",
       "JVM: OpenJDK 64-Bit Server VM\n",
       "Default Encoding: UTF-8\n",
       "Language: en\n",
       "Country: null\n",
       "--></g></svg>"
      ]
     },
     "execution_count": 52,
     "metadata": {},
     "output_type": "execute_result"
    }
   ],
   "source": [
    "%viz --style=\"ORTHOLINE\" --view=\"Tree\" \"ConnectionTest\""
   ]
  },
  {
   "cell_type": "code",
   "execution_count": 53,
   "id": "912e413e",
   "metadata": {
    "execution": {
     "iopub.execute_input": "2021-06-30T09:21:38.273100Z",
     "iopub.status.busy": "2021-06-30T09:21:38.272626Z",
     "iopub.status.idle": "2021-06-30T09:21:38.280331Z",
     "shell.execute_reply": "2021-06-30T09:21:38.280004Z"
    }
   },
   "outputs": [
    {
     "data": {
      "image/svg+xml": [
       "<?xml version=\"1.0\" encoding=\"UTF-8\" standalone=\"no\"?><svg xmlns=\"http://www.w3.org/2000/svg\" xmlns:xlink=\"http://www.w3.org/1999/xlink\" contentScriptType=\"application/ecmascript\" contentStyleType=\"text/css\" height=\"12px\" preserveAspectRatio=\"none\" style=\"width:12px;height:12px;\" version=\"1.1\" viewBox=\"0 0 12 12\" width=\"12px\" zoomAndPan=\"magnify\"><defs/><g><!--MD5=[97d6f38768b311333d388e66b2b27985]\n",
       "@startuml\r\n",
       "skinparam linetype ortho\r\n",
       "skinparam monochrome true\r\n",
       "skinparam classbackgroundcolor white\r\n",
       "skinparam shadowing false\r\n",
       "skinparam wrapWidth 300\r\n",
       "hide circle\r\n",
       "\r\n",
       "@enduml\r\n",
       "\n",
       "PlantUML version 1.2020.13(Sat Jun 13 12:26:38 UTC 2020)\n",
       "(EPL source distribution)\n",
       "Java Runtime: OpenJDK Runtime Environment\n",
       "JVM: OpenJDK 64-Bit Server VM\n",
       "Default Encoding: UTF-8\n",
       "Language: en\n",
       "Country: null\n",
       "--></g></svg>"
      ]
     },
     "execution_count": 53,
     "metadata": {},
     "output_type": "execute_result"
    }
   ],
   "source": [
    "%viz --style=\"ORTHOLINE\" --view=\"State\" \"ConnectionTest\""
   ]
  },
  {
   "cell_type": "code",
   "execution_count": 54,
   "id": "bebcd459",
   "metadata": {
    "execution": {
     "iopub.execute_input": "2021-06-30T09:21:38.331279Z",
     "iopub.status.busy": "2021-06-30T09:21:38.330743Z",
     "iopub.status.idle": "2021-06-30T09:21:38.373225Z",
     "shell.execute_reply": "2021-06-30T09:21:38.372816Z"
    }
   },
   "outputs": [
    {
     "data": {
      "image/svg+xml": [
       "<?xml version=\"1.0\" encoding=\"UTF-8\" standalone=\"no\"?><svg xmlns=\"http://www.w3.org/2000/svg\" xmlns:xlink=\"http://www.w3.org/1999/xlink\" contentScriptType=\"application/ecmascript\" contentStyleType=\"text/css\" height=\"406px\" preserveAspectRatio=\"none\" style=\"width:509px;height:406px;\" version=\"1.1\" viewBox=\"0 0 509 406\" width=\"509px\" zoomAndPan=\"magnify\"><defs/><g><!--MD5=[fbc87193dbaf4d95561dea2c320d4a47]\n",
       "cluster E1--><a href=\"psysml:22aef044-e637-4155-a6c9-7ceaf878199d\" target=\"_top\" title=\"psysml:22aef044-e637-4155-a6c9-7ceaf878199d\" xlink:actuate=\"onRequest\" xlink:href=\"psysml:22aef044-e637-4155-a6c9-7ceaf878199d\" xlink:show=\"new\" xlink:title=\"psysml:22aef044-e637-4155-a6c9-7ceaf878199d\" xlink:type=\"simple\"><polygon fill=\"#FFFFFF\" points=\"16,6,147,6,154,28.2969,487,28.2969,487,394,16,394,16,6\" style=\"stroke: #000000; stroke-width: 1.5;\"/><line style=\"stroke: #000000; stroke-width: 1.5;\" x1=\"16\" x2=\"154\" y1=\"28.2969\" y2=\"28.2969\"/><text fill=\"#000000\" font-family=\"sans-serif\" font-size=\"14\" font-weight=\"bold\" lengthAdjust=\"spacingAndGlyphs\" textLength=\"125\" x=\"20\" y=\"20.9951\">ConnectionTest</text></a><!--MD5=[e4f7fae6ed58524ba242bb0b0d3be6b7]\n",
       "cluster E2--><a href=\"psysml:4372fe5d-a54c-4736-ace6-05c35a4b2fd0\" target=\"_top\" title=\"psysml:4372fe5d-a54c-4736-ace6-05c35a4b2fd0\" xlink:actuate=\"onRequest\" xlink:href=\"psysml:4372fe5d-a54c-4736-ace6-05c35a4b2fd0\" xlink:show=\"new\" xlink:title=\"psysml:4372fe5d-a54c-4736-ace6-05c35a4b2fd0\" xlink:type=\"simple\"><rect fill=\"#FFFFFF\" height=\"174\" id=\"E2\" rx=\"10\" ry=\"10\" style=\"stroke: #383838; stroke-width: 1.5;\" width=\"154\" x=\"301\" y=\"164\"/><rect fill=\"#F8F8F8\" height=\"23.9688\" rx=\"10\" ry=\"10\" style=\"stroke: #F8F8F8; stroke-width: 1.5;\" width=\"154\" x=\"301\" y=\"164\"/><rect fill=\"#F8F8F8\" height=\"10\" style=\"stroke: #F8F8F8; stroke-width: 1.5;\" width=\"154\" x=\"301\" y=\"177.9688\"/><rect fill=\"none\" height=\"174\" id=\"E2\" rx=\"10\" ry=\"10\" style=\"stroke: #383838; stroke-width: 1.5;\" width=\"154\" x=\"301\" y=\"164\"/><text fill=\"#000000\" font-family=\"sans-serif\" font-size=\"12\" lengthAdjust=\"spacingAndGlyphs\" textLength=\"8\" x=\"374\" y=\"180.1387\">p</text><line style=\"stroke: #383838; stroke-width: 1.0;\" x1=\"301\" x2=\"455\" y1=\"187.9688\" y2=\"187.9688\"/></a><!--MD5=[d5e69f78d87373223dbae638b30a9c99]\n",
       "cluster E3--><a href=\"psysml:3f2b8857-d9ea-41c6-bb7a-db05d1986c1a\" target=\"_top\" title=\"psysml:3f2b8857-d9ea-41c6-bb7a-db05d1986c1a\" xlink:actuate=\"onRequest\" xlink:href=\"psysml:3f2b8857-d9ea-41c6-bb7a-db05d1986c1a\" xlink:show=\"new\" xlink:title=\"psysml:3f2b8857-d9ea-41c6-bb7a-db05d1986c1a\" xlink:type=\"simple\"><rect fill=\"#FFFFFF\" height=\"91\" id=\"E3\" rx=\"10\" ry=\"10\" style=\"stroke: #383838; stroke-width: 1.5;\" width=\"82\" x=\"341\" y=\"215\"/><rect fill=\"#F8F8F8\" height=\"23.9688\" rx=\"10\" ry=\"10\" style=\"stroke: #F8F8F8; stroke-width: 1.5;\" width=\"82\" x=\"341\" y=\"215\"/><rect fill=\"#F8F8F8\" height=\"10\" style=\"stroke: #F8F8F8; stroke-width: 1.5;\" width=\"82\" x=\"341\" y=\"228.9688\"/><rect fill=\"none\" height=\"91\" id=\"E3\" rx=\"10\" ry=\"10\" style=\"stroke: #383838; stroke-width: 1.5;\" width=\"82\" x=\"341\" y=\"215\"/><text fill=\"#000000\" font-family=\"sans-serif\" font-size=\"12\" lengthAdjust=\"spacingAndGlyphs\" textLength=\"6\" x=\"379\" y=\"231.1387\">x</text><line style=\"stroke: #383838; stroke-width: 1.0;\" x1=\"341\" x2=\"423\" y1=\"238.9688\" y2=\"238.9688\"/></a><!--MD5=[de5ec2e2e8f62f467e546659f5068c88]\n",
       "cluster E5--><a href=\"psysml:ba7b03ba-afee-4a2c-95ba-c440e322d2ee\" target=\"_top\" title=\"psysml:ba7b03ba-afee-4a2c-95ba-c440e322d2ee\" xlink:actuate=\"onRequest\" xlink:href=\"psysml:ba7b03ba-afee-4a2c-95ba-c440e322d2ee\" xlink:show=\"new\" xlink:title=\"psysml:ba7b03ba-afee-4a2c-95ba-c440e322d2ee\" xlink:type=\"simple\"><rect fill=\"#FFFFFF\" height=\"321\" id=\"E5\" style=\"stroke: #383838; stroke-width: 1.5;\" width=\"229\" x=\"40\" y=\"49\"/><rect fill=\"#F8F8F8\" height=\"37.9375\" style=\"stroke: #383838; stroke-width: 1.5;\" width=\"229\" x=\"40\" y=\"49\"/><text fill=\"#000000\" font-family=\"sans-serif\" font-size=\"12\" font-style=\"italic\" lengthAdjust=\"spacingAndGlyphs\" textLength=\"64\" x=\"122.5\" y=\"65.1387\">«part def»</text><text fill=\"#000000\" font-family=\"sans-serif\" font-size=\"12\" lengthAdjust=\"spacingAndGlyphs\" textLength=\"8\" x=\"150.5\" y=\"79.1074\">P</text></a><!--MD5=[168fadf3d0c3fd93dd5d6da1b1d7ab76]\n",
       "cluster E7--><a href=\"psysml:c0882630-04b8-4e6c-a043-bd39b4f2710a\" target=\"_top\" title=\"psysml:c0882630-04b8-4e6c-a043-bd39b4f2710a\" xlink:actuate=\"onRequest\" xlink:href=\"psysml:c0882630-04b8-4e6c-a043-bd39b4f2710a\" xlink:show=\"new\" xlink:title=\"psysml:c0882630-04b8-4e6c-a043-bd39b4f2710a\" xlink:type=\"simple\"><rect fill=\"#FFFFFF\" height=\"190\" id=\"E7\" rx=\"10\" ry=\"10\" style=\"stroke: #383838; stroke-width: 1.5;\" width=\"181\" x=\"64\" y=\"156\"/><rect fill=\"#F8F8F8\" height=\"23.9688\" rx=\"10\" ry=\"10\" style=\"stroke: #F8F8F8; stroke-width: 1.5;\" width=\"181\" x=\"64\" y=\"156\"/><rect fill=\"#F8F8F8\" height=\"10\" style=\"stroke: #F8F8F8; stroke-width: 1.5;\" width=\"181\" x=\"64\" y=\"169.9688\"/><rect fill=\"none\" height=\"190\" id=\"E7\" rx=\"10\" ry=\"10\" style=\"stroke: #383838; stroke-width: 1.5;\" width=\"181\" x=\"64\" y=\"156\"/><text fill=\"#000000\" font-family=\"sans-serif\" font-size=\"12\" lengthAdjust=\"spacingAndGlyphs\" textLength=\"16\" x=\"146.5\" y=\"172.1387\">p1</text><line style=\"stroke: #383838; stroke-width: 1.0;\" x1=\"64\" x2=\"245\" y1=\"179.9688\" y2=\"179.9688\"/></a><!--MD5=[55dfccfc6c49c2d10cd1bd2211a6c90c]\n",
       "cluster E8--><a href=\"psysml:3f2b8857-d9ea-41c6-bb7a-db05d1986c1a\" target=\"_top\" title=\"psysml:3f2b8857-d9ea-41c6-bb7a-db05d1986c1a\" xlink:actuate=\"onRequest\" xlink:href=\"psysml:3f2b8857-d9ea-41c6-bb7a-db05d1986c1a\" xlink:show=\"new\" xlink:title=\"psysml:3f2b8857-d9ea-41c6-bb7a-db05d1986c1a\" xlink:type=\"simple\"><rect fill=\"#FFFFFF\" height=\"107\" id=\"E8\" rx=\"10\" ry=\"10\" style=\"stroke: #383838; stroke-width: 1.5;\" width=\"117\" x=\"96\" y=\"207\"/><rect fill=\"#F8F8F8\" height=\"23.9688\" rx=\"10\" ry=\"10\" style=\"stroke: #F8F8F8; stroke-width: 1.5;\" width=\"117\" x=\"96\" y=\"207\"/><rect fill=\"#F8F8F8\" height=\"10\" style=\"stroke: #F8F8F8; stroke-width: 1.5;\" width=\"117\" x=\"96\" y=\"220.9688\"/><rect fill=\"none\" height=\"107\" id=\"E8\" rx=\"10\" ry=\"10\" style=\"stroke: #383838; stroke-width: 1.5;\" width=\"117\" x=\"96\" y=\"207\"/><text fill=\"#000000\" font-family=\"sans-serif\" font-size=\"12\" lengthAdjust=\"spacingAndGlyphs\" textLength=\"16\" x=\"146.5\" y=\"223.1387\">^x</text><line style=\"stroke: #383838; stroke-width: 1.0;\" x1=\"96\" x2=\"213\" y1=\"230.9688\" y2=\"230.9688\"/></a><g id=\"E1.E2.E3.E4\"><a href=\"psysml:e84cebed-6405-49c5-b413-5d504fb47cee\" target=\"_top\" title=\"psysml:e84cebed-6405-49c5-b413-5d504fb47cee\" xlink:actuate=\"onRequest\" xlink:href=\"psysml:e84cebed-6405-49c5-b413-5d504fb47cee\" xlink:show=\"new\" xlink:title=\"psysml:e84cebed-6405-49c5-b413-5d504fb47cee\" xlink:type=\"simple\"><rect fill=\"#FFFFFF\" height=\"40\" id=\"E4\" rx=\"10\" ry=\"10\" style=\"stroke: #383838; stroke-width: 1.5;\" width=\"50\" x=\"357\" y=\"250\"/><rect fill=\"#F8F8F8\" height=\"23.9688\" rx=\"10\" ry=\"10\" style=\"stroke: #F8F8F8; stroke-width: 1.5;\" width=\"50\" x=\"357\" y=\"250\"/><rect fill=\"#F8F8F8\" height=\"10\" style=\"stroke: #F8F8F8; stroke-width: 1.5;\" width=\"50\" x=\"357\" y=\"263.9688\"/><rect fill=\"none\" height=\"40\" id=\"E4\" rx=\"10\" ry=\"10\" style=\"stroke: #383838; stroke-width: 1.5;\" width=\"50\" x=\"357\" y=\"250\"/><text fill=\"#000000\" font-family=\"sans-serif\" font-size=\"12\" lengthAdjust=\"spacingAndGlyphs\" textLength=\"14\" x=\"375\" y=\"266.1387\">x1</text></a></g><g id=\"E1.E5.E6\"><a href=\"psysml:6b502337-597a-4c17-979b-8872526dd5b6\" target=\"_top\" title=\"psysml:6b502337-597a-4c17-979b-8872526dd5b6\" xlink:actuate=\"onRequest\" xlink:href=\"psysml:6b502337-597a-4c17-979b-8872526dd5b6\" xlink:show=\"new\" xlink:title=\"psysml:6b502337-597a-4c17-979b-8872526dd5b6\" xlink:type=\"simple\"><rect fill=\"#FFFFFF\" height=\"40\" id=\"E6\" rx=\"10\" ry=\"10\" style=\"stroke: #383838; stroke-width: 1.5;\" width=\"50\" x=\"139\" y=\"100\"/><rect fill=\"#F8F8F8\" height=\"23.9688\" rx=\"10\" ry=\"10\" style=\"stroke: #F8F8F8; stroke-width: 1.5;\" width=\"50\" x=\"139\" y=\"100\"/><rect fill=\"#F8F8F8\" height=\"10\" style=\"stroke: #F8F8F8; stroke-width: 1.5;\" width=\"50\" x=\"139\" y=\"113.9688\"/><rect fill=\"none\" height=\"40\" id=\"E6\" rx=\"10\" ry=\"10\" style=\"stroke: #383838; stroke-width: 1.5;\" width=\"50\" x=\"139\" y=\"100\"/><text fill=\"#000000\" font-family=\"sans-serif\" font-size=\"12\" lengthAdjust=\"spacingAndGlyphs\" textLength=\"6\" x=\"161\" y=\"116.1387\">y</text></a></g><g id=\"E1.E5.E7.E8.E9\"><a href=\"psysml:e84cebed-6405-49c5-b413-5d504fb47cee\" target=\"_top\" title=\"psysml:e84cebed-6405-49c5-b413-5d504fb47cee\" xlink:actuate=\"onRequest\" xlink:href=\"psysml:e84cebed-6405-49c5-b413-5d504fb47cee\" xlink:show=\"new\" xlink:title=\"psysml:e84cebed-6405-49c5-b413-5d504fb47cee\" xlink:type=\"simple\"><rect fill=\"#FFFFFF\" height=\"40\" id=\"E9\" rx=\"10\" ry=\"10\" style=\"stroke: #383838; stroke-width: 1.5;\" width=\"50\" x=\"139\" y=\"250\"/><rect fill=\"#F8F8F8\" height=\"23.9688\" rx=\"10\" ry=\"10\" style=\"stroke: #F8F8F8; stroke-width: 1.5;\" width=\"50\" x=\"139\" y=\"250\"/><rect fill=\"#F8F8F8\" height=\"10\" style=\"stroke: #F8F8F8; stroke-width: 1.5;\" width=\"50\" x=\"139\" y=\"263.9688\"/><rect fill=\"none\" height=\"40\" id=\"E9\" rx=\"10\" ry=\"10\" style=\"stroke: #383838; stroke-width: 1.5;\" width=\"50\" x=\"139\" y=\"250\"/><text fill=\"#000000\" font-family=\"sans-serif\" font-size=\"12\" lengthAdjust=\"spacingAndGlyphs\" textLength=\"14\" x=\"157\" y=\"266.1387\">x1</text></a></g><!--MD5=[2351f337d6de0f557b50152ba70847b5]\n",
       "link E6 to E2--><a href=\"psysml:3c2ac290-8ac1-4000-af3e-5bcf9ecf7966\" target=\"_top\" title=\"psysml:3c2ac290-8ac1-4000-af3e-5bcf9ecf7966\" xlink:actuate=\"onRequest\" xlink:href=\"psysml:3c2ac290-8ac1-4000-af3e-5bcf9ecf7966\" xlink:show=\"new\" xlink:title=\"psysml:3c2ac290-8ac1-4000-af3e-5bcf9ecf7966\" xlink:type=\"simple\"><path d=\"M189.26,120 C230.8,120 309,120 309,120 C309,120 309,128.7981 309,142.1328 C309,145.4665 309,149.0837 309,152.9178 C309,154.8349 309,156.8062 309,158.8235 C309,159.8321 309,160.8522 309,161.8827 C309,162.398 309,162.9158 309,163.4362 \" fill=\"none\" id=\"E6-E2\" style=\"stroke: #383838; stroke-width: 3.0;\"/></a><!--MD5=[0a839d0f80c2d72d4b9b307f046d0de8]\n",
       "link E6 to E8--><a href=\"psysml:75c884b3-4954-4983-bf4e-b524958cba22\" target=\"_top\" title=\"psysml:75c884b3-4954-4983-bf4e-b524958cba22\" xlink:actuate=\"onRequest\" xlink:href=\"psysml:75c884b3-4954-4983-bf4e-b524958cba22\" xlink:show=\"new\" xlink:title=\"psysml:75c884b3-4954-4983-bf4e-b524958cba22\" xlink:type=\"simple\"><path d=\"M138.9,120 C122.46,120 104,120 104,120 C104,120 104,155.1925 104,191.485 C104,196.0216 104,200.5753 104,205.0797 C104,205.6427 104,206.205 104,206.7663 \" fill=\"none\" id=\"E6-E8\" style=\"stroke: #383838; stroke-width: 3.0;\"/></a><!--MD5=[8ae21a5272e5f5a2f0d855d545cbd16c]\n",
       "link E6 to E9--><a href=\"psysml:ec977721-0260-4bea-8651-1724c0f568d2\" target=\"_top\" title=\"psysml:ec977721-0260-4bea-8651-1724c0f568d2\" xlink:actuate=\"onRequest\" xlink:href=\"psysml:ec977721-0260-4bea-8651-1724c0f568d2\" xlink:show=\"new\" xlink:title=\"psysml:ec977721-0260-4bea-8651-1724c0f568d2\" xlink:type=\"simple\"><path d=\"M164,140.23 C164,168.86 164,220.9 164,249.61 \" fill=\"none\" id=\"E6-E9\" style=\"stroke: #383838; stroke-width: 3.0;\"/></a><!--MD5=[9dd5add37737800e890fbf460b4a4461]\n",
       "@startuml\r\n",
       "skinparam ranksep 10\r\n",
       "skinparam rectangle {\r\n",
       " backgroundColor<<block>> LightGreen\r\n",
       "}\r\n",
       "skinparam linetype ortho\r\n",
       "skinparam monochrome true\r\n",
       "skinparam classbackgroundcolor white\r\n",
       "skinparam shadowing false\r\n",
       "skinparam wrapWidth 300\r\n",
       "hide circle\r\n",
       "\r\n",
       "package \"ConnectionTest\" as E1  [[psysml:22aef044-e637-4155-a6c9-7ceaf878199d ]]  {\r\n",
       "rec usage \"p\" as E2  [[psysml:4372fe5d-a54c-4736-ace6-05c35a4b2fd0 ]] {\r\n",
       "rec usage \"x\" as E3  [[psysml:3f2b8857-d9ea-41c6-bb7a-db05d1986c1a ]] {\r\n",
       "rec usage \"x1\" as E4  [[psysml:e84cebed-6405-49c5-b413-5d504fb47cee ]] {\r\n",
       "}\r\n",
       "}\r\n",
       "}\r\n",
       "rec def \"P\" as E5  <<(T,blue) part def>> [[psysml:ba7b03ba-afee-4a2c-95ba-c440e322d2ee ]] {\r\n",
       "rec usage \"y\" as E6  [[psysml:6b502337-597a-4c17-979b-8872526dd5b6 ]] {\r\n",
       "}\r\n",
       "rec usage \"p1\" as E7  [[psysml:c0882630-04b8-4e6c-a043-bd39b4f2710a ]] {\r\n",
       "rec usage \"^x\" as E8  [[psysml:3f2b8857-d9ea-41c6-bb7a-db05d1986c1a ]] {\r\n",
       "rec usage \"x1\" as E9  [[psysml:e84cebed-6405-49c5-b413-5d504fb47cee ]] {\r\n",
       "}\r\n",
       "}\r\n",
       "}\r\n",
       "}\r\n",
       "E6 -[thickness=3]- E2 [[psysml:3c2ac290-8ac1-4000-af3e-5bcf9ecf7966 ]] \r\n",
       "E6 -[thickness=3]- E8 [[psysml:75c884b3-4954-4983-bf4e-b524958cba22 ]] \r\n",
       "E6 -[thickness=3]- E9 [[psysml:ec977721-0260-4bea-8651-1724c0f568d2 ]] \r\n",
       "}\r\n",
       "@enduml\r\n",
       "\n",
       "PlantUML version 1.2020.13(Sat Jun 13 12:26:38 UTC 2020)\n",
       "(EPL source distribution)\n",
       "Java Runtime: OpenJDK Runtime Environment\n",
       "JVM: OpenJDK 64-Bit Server VM\n",
       "Default Encoding: UTF-8\n",
       "Language: en\n",
       "Country: null\n",
       "--></g></svg>"
      ]
     },
     "execution_count": 54,
     "metadata": {},
     "output_type": "execute_result"
    }
   ],
   "source": [
    "%viz --style=\"ORTHOLINE\" --view=\"Interconnection\" \"ConnectionTest\""
   ]
  },
  {
   "cell_type": "code",
   "execution_count": 55,
   "id": "db46d08f",
   "metadata": {
    "execution": {
     "iopub.execute_input": "2021-06-30T09:21:38.424431Z",
     "iopub.status.busy": "2021-06-30T09:21:38.423445Z",
     "iopub.status.idle": "2021-06-30T09:21:38.435256Z",
     "shell.execute_reply": "2021-06-30T09:21:38.434465Z"
    }
   },
   "outputs": [
    {
     "data": {
      "image/svg+xml": [
       "<?xml version=\"1.0\" encoding=\"UTF-8\" standalone=\"no\"?><svg xmlns=\"http://www.w3.org/2000/svg\" xmlns:xlink=\"http://www.w3.org/1999/xlink\" contentScriptType=\"application/ecmascript\" contentStyleType=\"text/css\" height=\"12px\" preserveAspectRatio=\"none\" style=\"width:12px;height:12px;\" version=\"1.1\" viewBox=\"0 0 12 12\" width=\"12px\" zoomAndPan=\"magnify\"><defs/><g><!--MD5=[72934c63077099a26744516a776b4749]\n",
       "@startuml\r\n",
       "skinparam ranksep 8\r\n",
       "skinparam linetype ortho\r\n",
       "skinparam monochrome true\r\n",
       "skinparam classbackgroundcolor white\r\n",
       "skinparam shadowing false\r\n",
       "skinparam wrapWidth 300\r\n",
       "hide circle\r\n",
       "\r\n",
       "@enduml\r\n",
       "\n",
       "PlantUML version 1.2020.13(Sat Jun 13 12:26:38 UTC 2020)\n",
       "(EPL source distribution)\n",
       "Java Runtime: OpenJDK Runtime Environment\n",
       "JVM: OpenJDK 64-Bit Server VM\n",
       "Default Encoding: UTF-8\n",
       "Language: en\n",
       "Country: null\n",
       "--></g></svg>"
      ]
     },
     "execution_count": 55,
     "metadata": {},
     "output_type": "execute_result"
    }
   ],
   "source": [
    "%viz --style=\"ORTHOLINE\" --view=\"Action\" \"ConnectionTest\""
   ]
  },
  {
   "cell_type": "code",
   "execution_count": 56,
   "id": "b74b242f",
   "metadata": {
    "execution": {
     "iopub.execute_input": "2021-06-30T09:21:38.486998Z",
     "iopub.status.busy": "2021-06-30T09:21:38.486232Z",
     "iopub.status.idle": "2021-06-30T09:21:38.517320Z",
     "shell.execute_reply": "2021-06-30T09:21:38.515569Z"
    }
   },
   "outputs": [
    {
     "data": {
      "image/svg+xml": [
       "<?xml version=\"1.0\" encoding=\"UTF-8\" standalone=\"no\"?><svg xmlns=\"http://www.w3.org/2000/svg\" xmlns:xlink=\"http://www.w3.org/1999/xlink\" contentScriptType=\"application/ecmascript\" contentStyleType=\"text/css\" height=\"539px\" preserveAspectRatio=\"none\" style=\"width:189px;height:539px;\" version=\"1.1\" viewBox=\"0 0 189 539\" width=\"189px\" zoomAndPan=\"magnify\"><defs/><g><!--MD5=[fbc87193dbaf4d95561dea2c320d4a47]\n",
       "cluster E1--><a href=\"psysml:22aef044-e637-4155-a6c9-7ceaf878199d\" target=\"_top\" title=\"psysml:22aef044-e637-4155-a6c9-7ceaf878199d\" xlink:actuate=\"onRequest\" xlink:href=\"psysml:22aef044-e637-4155-a6c9-7ceaf878199d\" xlink:show=\"new\" xlink:title=\"psysml:22aef044-e637-4155-a6c9-7ceaf878199d\" xlink:type=\"simple\"><polygon fill=\"#FFFFFF\" points=\"16,6,147,6,154,28.2969,167,28.2969,167,527,16,527,16,6\" style=\"stroke: #000000; stroke-width: 1.5;\"/><line style=\"stroke: #000000; stroke-width: 1.5;\" x1=\"16\" x2=\"154\" y1=\"28.2969\" y2=\"28.2969\"/><text fill=\"#000000\" font-family=\"sans-serif\" font-size=\"14\" font-weight=\"bold\" lengthAdjust=\"spacingAndGlyphs\" textLength=\"125\" x=\"20\" y=\"20.9951\">ConnectionTest</text></a><!--MD5=[b4997ac47864f28c2f74865a473b2911]\n",
       "class E2--><a href=\"psysml:4372fe5d-a54c-4736-ace6-05c35a4b2fd0\" target=\"_top\" title=\"psysml:4372fe5d-a54c-4736-ace6-05c35a4b2fd0\" xlink:actuate=\"onRequest\" xlink:href=\"psysml:4372fe5d-a54c-4736-ace6-05c35a4b2fd0\" xlink:show=\"new\" xlink:title=\"psysml:4372fe5d-a54c-4736-ace6-05c35a4b2fd0\" xlink:type=\"simple\"><rect fill=\"#FFFFFF\" height=\"45.9375\" id=\"E2\" rx=\"10\" ry=\"10\" style=\"stroke: #383838; stroke-width: 1.5;\" width=\"42\" x=\"70\" y=\"253\"/><text fill=\"#000000\" font-family=\"sans-serif\" font-size=\"12\" font-style=\"italic\" lengthAdjust=\"spacingAndGlyphs\" textLength=\"40\" x=\"71\" y=\"269.1387\">«part»</text><text fill=\"#000000\" font-family=\"sans-serif\" font-size=\"12\" lengthAdjust=\"spacingAndGlyphs\" textLength=\"8\" x=\"87\" y=\"283.1074\">p</text><line style=\"stroke: #383838; stroke-width: 1.5;\" x1=\"71\" x2=\"111\" y1=\"290.9375\" y2=\"290.9375\"/></a><!--MD5=[09b614a08d8cba4a07c9adeb5e0fee81]\n",
       "class E3--><a href=\"psysml:3f2b8857-d9ea-41c6-bb7a-db05d1986c1a\" target=\"_top\" title=\"psysml:3f2b8857-d9ea-41c6-bb7a-db05d1986c1a\" xlink:actuate=\"onRequest\" xlink:href=\"psysml:3f2b8857-d9ea-41c6-bb7a-db05d1986c1a\" xlink:show=\"new\" xlink:title=\"psysml:3f2b8857-d9ea-41c6-bb7a-db05d1986c1a\" xlink:type=\"simple\"><rect fill=\"#FFFFFF\" height=\"45.9375\" id=\"E3\" rx=\"10\" ry=\"10\" style=\"stroke: #383838; stroke-width: 1.5;\" width=\"42\" x=\"70\" y=\"359\"/><text fill=\"#000000\" font-family=\"sans-serif\" font-size=\"12\" font-style=\"italic\" lengthAdjust=\"spacingAndGlyphs\" textLength=\"40\" x=\"71\" y=\"375.1387\">«part»</text><text fill=\"#000000\" font-family=\"sans-serif\" font-size=\"12\" lengthAdjust=\"spacingAndGlyphs\" textLength=\"6\" x=\"88\" y=\"389.1074\">x</text><line style=\"stroke: #383838; stroke-width: 1.5;\" x1=\"71\" x2=\"111\" y1=\"396.9375\" y2=\"396.9375\"/></a><!--MD5=[ebbe1d658d1005bcc118a6aa81145e00]\n",
       "class E4--><a href=\"psysml:e84cebed-6405-49c5-b413-5d504fb47cee\" target=\"_top\" title=\"psysml:e84cebed-6405-49c5-b413-5d504fb47cee\" xlink:actuate=\"onRequest\" xlink:href=\"psysml:e84cebed-6405-49c5-b413-5d504fb47cee\" xlink:show=\"new\" xlink:title=\"psysml:e84cebed-6405-49c5-b413-5d504fb47cee\" xlink:type=\"simple\"><rect fill=\"#FFFFFF\" height=\"45.9375\" id=\"E4\" rx=\"10\" ry=\"10\" style=\"stroke: #383838; stroke-width: 1.5;\" width=\"42\" x=\"70\" y=\"465\"/><text fill=\"#000000\" font-family=\"sans-serif\" font-size=\"12\" font-style=\"italic\" lengthAdjust=\"spacingAndGlyphs\" textLength=\"40\" x=\"71\" y=\"481.1387\">«part»</text><text fill=\"#000000\" font-family=\"sans-serif\" font-size=\"12\" lengthAdjust=\"spacingAndGlyphs\" textLength=\"14\" x=\"84\" y=\"495.1074\">x1</text><line style=\"stroke: #383838; stroke-width: 1.5;\" x1=\"71\" x2=\"111\" y1=\"502.9375\" y2=\"502.9375\"/></a><!--MD5=[270fce915f116d4de14055a7c1d9a0f3]\n",
       "class E5--><a href=\"psysml:ba7b03ba-afee-4a2c-95ba-c440e322d2ee\" target=\"_top\" title=\"psysml:ba7b03ba-afee-4a2c-95ba-c440e322d2ee\" xlink:actuate=\"onRequest\" xlink:href=\"psysml:ba7b03ba-afee-4a2c-95ba-c440e322d2ee\" xlink:show=\"new\" xlink:title=\"psysml:ba7b03ba-afee-4a2c-95ba-c440e322d2ee\" xlink:type=\"simple\"><rect fill=\"#FFFFFF\" height=\"45.9375\" id=\"E5\" style=\"stroke: #383838; stroke-width: 1.5;\" width=\"66\" x=\"58\" y=\"41\"/><text fill=\"#000000\" font-family=\"sans-serif\" font-size=\"12\" font-style=\"italic\" lengthAdjust=\"spacingAndGlyphs\" textLength=\"64\" x=\"59\" y=\"57.1387\">«part def»</text><text fill=\"#000000\" font-family=\"sans-serif\" font-size=\"12\" lengthAdjust=\"spacingAndGlyphs\" textLength=\"8\" x=\"87\" y=\"71.1074\">P</text><line style=\"stroke: #383838; stroke-width: 1.5;\" x1=\"59\" x2=\"123\" y1=\"78.9375\" y2=\"78.9375\"/></a><!--MD5=[60a26617385b1d2d0262a64233df1f8d]\n",
       "class E6--><a href=\"psysml:6b502337-597a-4c17-979b-8872526dd5b6\" target=\"_top\" title=\"psysml:6b502337-597a-4c17-979b-8872526dd5b6\" xlink:actuate=\"onRequest\" xlink:href=\"psysml:6b502337-597a-4c17-979b-8872526dd5b6\" xlink:show=\"new\" xlink:title=\"psysml:6b502337-597a-4c17-979b-8872526dd5b6\" xlink:type=\"simple\"><rect fill=\"#FFFFFF\" height=\"45.9375\" id=\"E6\" rx=\"10\" ry=\"10\" style=\"stroke: #383838; stroke-width: 1.5;\" width=\"42\" x=\"32\" y=\"147\"/><text fill=\"#000000\" font-family=\"sans-serif\" font-size=\"12\" font-style=\"italic\" lengthAdjust=\"spacingAndGlyphs\" textLength=\"40\" x=\"33\" y=\"163.1387\">«part»</text><text fill=\"#000000\" font-family=\"sans-serif\" font-size=\"12\" lengthAdjust=\"spacingAndGlyphs\" textLength=\"6\" x=\"50\" y=\"177.1074\">y</text><line style=\"stroke: #383838; stroke-width: 1.5;\" x1=\"33\" x2=\"73\" y1=\"184.9375\" y2=\"184.9375\"/></a><!--MD5=[2156ba9850f5573cc1fc38a6a4b2f02b]\n",
       "class E7--><a href=\"psysml:c0882630-04b8-4e6c-a043-bd39b4f2710a\" target=\"_top\" title=\"psysml:c0882630-04b8-4e6c-a043-bd39b4f2710a\" xlink:actuate=\"onRequest\" xlink:href=\"psysml:c0882630-04b8-4e6c-a043-bd39b4f2710a\" xlink:show=\"new\" xlink:title=\"psysml:c0882630-04b8-4e6c-a043-bd39b4f2710a\" xlink:type=\"simple\"><rect fill=\"#FFFFFF\" height=\"45.9375\" id=\"E7\" rx=\"10\" ry=\"10\" style=\"stroke: #383838; stroke-width: 1.5;\" width=\"42\" x=\"109\" y=\"147\"/><text fill=\"#000000\" font-family=\"sans-serif\" font-size=\"12\" font-style=\"italic\" lengthAdjust=\"spacingAndGlyphs\" textLength=\"40\" x=\"110\" y=\"163.1387\">«part»</text><text fill=\"#000000\" font-family=\"sans-serif\" font-size=\"12\" lengthAdjust=\"spacingAndGlyphs\" textLength=\"16\" x=\"122\" y=\"177.1074\">p1</text><line style=\"stroke: #383838; stroke-width: 1.5;\" x1=\"110\" x2=\"150\" y1=\"184.9375\" y2=\"184.9375\"/></a><!--MD5=[209b3feb70ccb6233bfe1053d122c12c]\n",
       "reverse link E2 to E3--><a href=\"psysml:d551e406-73fb-4a91-a080-fc440127a640\" target=\"_top\" title=\"psysml:d551e406-73fb-4a91-a080-fc440127a640\" xlink:actuate=\"onRequest\" xlink:href=\"psysml:d551e406-73fb-4a91-a080-fc440127a640\" xlink:show=\"new\" xlink:title=\"psysml:d551e406-73fb-4a91-a080-fc440127a640\" xlink:type=\"simple\"><path d=\"M91,312 C91,312 91,358.68 91,358.68 \" fill=\"none\" id=\"E2&lt;-E3\" style=\"stroke: #383838; stroke-width: 1.0;\"/><polygon fill=\"#383838\" points=\"91,299,87,305,91,311,95,305,91,299\" style=\"stroke: #383838; stroke-width: 1.0;\"/></a><!--MD5=[4672eba38e49728da53d11aeb285b987]\n",
       "reverse link E3 to E4--><a href=\"psysml:0c62ef63-43f3-4799-a069-927499b27fb4\" target=\"_top\" title=\"psysml:0c62ef63-43f3-4799-a069-927499b27fb4\" xlink:actuate=\"onRequest\" xlink:href=\"psysml:0c62ef63-43f3-4799-a069-927499b27fb4\" xlink:show=\"new\" xlink:title=\"psysml:0c62ef63-43f3-4799-a069-927499b27fb4\" xlink:type=\"simple\"><path d=\"M91,418 C91,418 91,464.68 91,464.68 \" fill=\"none\" id=\"E3&lt;-E4\" style=\"stroke: #383838; stroke-width: 1.0;\"/><polygon fill=\"#383838\" points=\"91,405,87,411,91,417,95,411,91,405\" style=\"stroke: #383838; stroke-width: 1.0;\"/></a><!--MD5=[85d356282659285ab4b2cfe2f634dd2b]\n",
       "reverse link E5 to E6--><a href=\"psysml:bccb9dd4-409f-48ce-8915-27f20628680f\" target=\"_top\" title=\"psysml:bccb9dd4-409f-48ce-8915-27f20628680f\" xlink:actuate=\"onRequest\" xlink:href=\"psysml:bccb9dd4-409f-48ce-8915-27f20628680f\" xlink:show=\"new\" xlink:title=\"psysml:bccb9dd4-409f-48ce-8915-27f20628680f\" xlink:type=\"simple\"><path d=\"M66,100 C66,100 66,146.68 66,146.68 \" fill=\"none\" id=\"E5&lt;-E6\" style=\"stroke: #383838; stroke-width: 1.0;\"/><polygon fill=\"#383838\" points=\"66,87,62,93,66,99,70,93,66,87\" style=\"stroke: #383838; stroke-width: 1.0;\"/></a><!--MD5=[2351f337d6de0f557b50152ba70847b5]\n",
       "link E6 to E2--><a href=\"psysml:3c2ac290-8ac1-4000-af3e-5bcf9ecf7966\" target=\"_top\" title=\"psysml:3c2ac290-8ac1-4000-af3e-5bcf9ecf7966\" xlink:actuate=\"onRequest\" xlink:href=\"psysml:3c2ac290-8ac1-4000-af3e-5bcf9ecf7966\" xlink:show=\"new\" xlink:title=\"psysml:3c2ac290-8ac1-4000-af3e-5bcf9ecf7966\" xlink:type=\"simple\"><path d=\"M74.24,178 C80.48,178 85.67,178 85.67,178 C85.67,178 85.67,223.8 85.67,252.78 \" fill=\"none\" id=\"E6-E2\" style=\"stroke: #383838; stroke-width: 3.0;\"/></a><!--MD5=[452b418e7f8a40397a49b8c0a78acc5b]\n",
       "reverse link E5 to E7--><a href=\"psysml:97bf4e08-a4b3-492a-87d8-6adc842be5d3\" target=\"_top\" title=\"psysml:97bf4e08-a4b3-492a-87d8-6adc842be5d3\" xlink:actuate=\"onRequest\" xlink:href=\"psysml:97bf4e08-a4b3-492a-87d8-6adc842be5d3\" xlink:show=\"new\" xlink:title=\"psysml:97bf4e08-a4b3-492a-87d8-6adc842be5d3\" xlink:type=\"simple\"><path d=\"M116.5,100 C116.5,100 116.5,146.68 116.5,146.68 \" fill=\"none\" id=\"E5&lt;-E7\" style=\"stroke: #383838; stroke-width: 1.0;\"/><polygon fill=\"#383838\" points=\"116.5,87,112.5,93,116.5,99,120.5,93,116.5,87\" style=\"stroke: #383838; stroke-width: 1.0;\"/></a><!--MD5=[583832df87f4419a098336a29a52fa00]\n",
       "link E7 to E2--><a href=\"psysml:6815ba90-0374-438b-ad93-53c34ddf71b8\" target=\"_top\" title=\"psysml:6815ba90-0374-438b-ad93-53c34ddf71b8\" xlink:actuate=\"onRequest\" xlink:href=\"psysml:6815ba90-0374-438b-ad93-53c34ddf71b8\" xlink:show=\"new\" xlink:title=\"psysml:6815ba90-0374-438b-ad93-53c34ddf71b8\" xlink:type=\"simple\"><path d=\"M108.76,163 C102.52,163 97.33,163 97.33,163 C97.33,163 97.33,232.86 97.33,232.86 \" fill=\"none\" id=\"E7-&gt;E2\" style=\"stroke: #383838; stroke-width: 1.0;\"/><polygon fill=\"none\" points=\"104.33,232.86,97.33,252.86,90.33,232.86,104.33,232.86\" style=\"stroke: #383838; stroke-width: 1.0;\"/></a><!--MD5=[dfa6e31eb76e511b5b73dbd092743dac]\n",
       "@startuml\r\n",
       "skinparam linetype ortho\r\n",
       "skinparam monochrome true\r\n",
       "skinparam classbackgroundcolor white\r\n",
       "skinparam shadowing false\r\n",
       "skinparam wrapWidth 300\r\n",
       "hide circle\r\n",
       "\r\n",
       "package \"ConnectionTest\" as E1  [[psysml:22aef044-e637-4155-a6c9-7ceaf878199d ]]  {\r\n",
       "comp usage \"p\" as E2  <<(T,blue) part>> [[psysml:4372fe5d-a54c-4736-ace6-05c35a4b2fd0 ]] {\r\n",
       "}\r\n",
       "comp usage \"x\" as E3  <<(T,blue) part>> [[psysml:3f2b8857-d9ea-41c6-bb7a-db05d1986c1a ]] {\r\n",
       "}\r\n",
       "comp usage \"x1\" as E4  <<(T,blue) part>> [[psysml:e84cebed-6405-49c5-b413-5d504fb47cee ]] {\r\n",
       "}\r\n",
       "comp def \"P\" as E5  <<(T,blue) part def>> [[psysml:ba7b03ba-afee-4a2c-95ba-c440e322d2ee ]] {\r\n",
       "}\r\n",
       "comp usage \"y\" as E6  <<(T,blue) part>> [[psysml:6b502337-597a-4c17-979b-8872526dd5b6 ]] {\r\n",
       "}\r\n",
       "comp usage \"p1\" as E7  <<(T,blue) part>> [[psysml:c0882630-04b8-4e6c-a043-bd39b4f2710a ]] {\r\n",
       "}\r\n",
       "E2 *- - E3 [[psysml:d551e406-73fb-4a91-a080-fc440127a640 ]] \r\n",
       "E3 *- - E4 [[psysml:0c62ef63-43f3-4799-a069-927499b27fb4 ]] \r\n",
       "E5 *- - E6 [[psysml:bccb9dd4-409f-48ce-8915-27f20628680f ]] \r\n",
       "E6 -[thickness=3]- E2 [[psysml:3c2ac290-8ac1-4000-af3e-5bcf9ecf7966 ]] \r\n",
       "E5 *- - E7 [[psysml:97bf4e08-a4b3-492a-87d8-6adc842be5d3 ]] \r\n",
       "E7 - -|> E2 [[psysml:6815ba90-0374-438b-ad93-53c34ddf71b8 ]] \r\n",
       "}\r\n",
       "@enduml\r\n",
       "\n",
       "PlantUML version 1.2020.13(Sat Jun 13 12:26:38 UTC 2020)\n",
       "(EPL source distribution)\n",
       "Java Runtime: OpenJDK Runtime Environment\n",
       "JVM: OpenJDK 64-Bit Server VM\n",
       "Default Encoding: UTF-8\n",
       "Language: en\n",
       "Country: null\n",
       "--></g></svg>"
      ]
     },
     "execution_count": 56,
     "metadata": {},
     "output_type": "execute_result"
    }
   ],
   "source": [
    "%viz --style=\"ORTHOLINE\" --view=\"Sequence\" \"ConnectionTest\""
   ]
  },
  {
   "cell_type": "code",
   "execution_count": 57,
   "id": "789c05fa",
   "metadata": {
    "execution": {
     "iopub.execute_input": "2021-06-30T09:21:38.571504Z",
     "iopub.status.busy": "2021-06-30T09:21:38.570665Z",
     "iopub.status.idle": "2021-06-30T09:21:38.609352Z",
     "shell.execute_reply": "2021-06-30T09:21:38.607832Z"
    }
   },
   "outputs": [
    {
     "data": {
      "image/svg+xml": [
       "<?xml version=\"1.0\" encoding=\"UTF-8\" standalone=\"no\"?><svg xmlns=\"http://www.w3.org/2000/svg\" xmlns:xlink=\"http://www.w3.org/1999/xlink\" contentScriptType=\"application/ecmascript\" contentStyleType=\"text/css\" height=\"539px\" preserveAspectRatio=\"none\" style=\"width:189px;height:539px;\" version=\"1.1\" viewBox=\"0 0 189 539\" width=\"189px\" zoomAndPan=\"magnify\"><defs/><g><!--MD5=[fbc87193dbaf4d95561dea2c320d4a47]\n",
       "cluster E1--><a href=\"psysml:22aef044-e637-4155-a6c9-7ceaf878199d\" target=\"_top\" title=\"psysml:22aef044-e637-4155-a6c9-7ceaf878199d\" xlink:actuate=\"onRequest\" xlink:href=\"psysml:22aef044-e637-4155-a6c9-7ceaf878199d\" xlink:show=\"new\" xlink:title=\"psysml:22aef044-e637-4155-a6c9-7ceaf878199d\" xlink:type=\"simple\"><polygon fill=\"#FFFFFF\" points=\"16,6,147,6,154,28.2969,167,28.2969,167,527,16,527,16,6\" style=\"stroke: #000000; stroke-width: 1.5;\"/><line style=\"stroke: #000000; stroke-width: 1.5;\" x1=\"16\" x2=\"154\" y1=\"28.2969\" y2=\"28.2969\"/><text fill=\"#000000\" font-family=\"sans-serif\" font-size=\"14\" font-weight=\"bold\" lengthAdjust=\"spacingAndGlyphs\" textLength=\"125\" x=\"20\" y=\"20.9951\">ConnectionTest</text></a><!--MD5=[b4997ac47864f28c2f74865a473b2911]\n",
       "class E2--><a href=\"psysml:4372fe5d-a54c-4736-ace6-05c35a4b2fd0\" target=\"_top\" title=\"psysml:4372fe5d-a54c-4736-ace6-05c35a4b2fd0\" xlink:actuate=\"onRequest\" xlink:href=\"psysml:4372fe5d-a54c-4736-ace6-05c35a4b2fd0\" xlink:show=\"new\" xlink:title=\"psysml:4372fe5d-a54c-4736-ace6-05c35a4b2fd0\" xlink:type=\"simple\"><rect fill=\"#FFFFFF\" height=\"45.9375\" id=\"E2\" rx=\"10\" ry=\"10\" style=\"stroke: #383838; stroke-width: 1.5;\" width=\"42\" x=\"70\" y=\"253\"/><text fill=\"#000000\" font-family=\"sans-serif\" font-size=\"12\" font-style=\"italic\" lengthAdjust=\"spacingAndGlyphs\" textLength=\"40\" x=\"71\" y=\"269.1387\">«part»</text><text fill=\"#000000\" font-family=\"sans-serif\" font-size=\"12\" lengthAdjust=\"spacingAndGlyphs\" textLength=\"8\" x=\"87\" y=\"283.1074\">p</text><line style=\"stroke: #383838; stroke-width: 1.5;\" x1=\"71\" x2=\"111\" y1=\"290.9375\" y2=\"290.9375\"/></a><!--MD5=[09b614a08d8cba4a07c9adeb5e0fee81]\n",
       "class E3--><a href=\"psysml:3f2b8857-d9ea-41c6-bb7a-db05d1986c1a\" target=\"_top\" title=\"psysml:3f2b8857-d9ea-41c6-bb7a-db05d1986c1a\" xlink:actuate=\"onRequest\" xlink:href=\"psysml:3f2b8857-d9ea-41c6-bb7a-db05d1986c1a\" xlink:show=\"new\" xlink:title=\"psysml:3f2b8857-d9ea-41c6-bb7a-db05d1986c1a\" xlink:type=\"simple\"><rect fill=\"#FFFFFF\" height=\"45.9375\" id=\"E3\" rx=\"10\" ry=\"10\" style=\"stroke: #383838; stroke-width: 1.5;\" width=\"42\" x=\"70\" y=\"359\"/><text fill=\"#000000\" font-family=\"sans-serif\" font-size=\"12\" font-style=\"italic\" lengthAdjust=\"spacingAndGlyphs\" textLength=\"40\" x=\"71\" y=\"375.1387\">«part»</text><text fill=\"#000000\" font-family=\"sans-serif\" font-size=\"12\" lengthAdjust=\"spacingAndGlyphs\" textLength=\"6\" x=\"88\" y=\"389.1074\">x</text><line style=\"stroke: #383838; stroke-width: 1.5;\" x1=\"71\" x2=\"111\" y1=\"396.9375\" y2=\"396.9375\"/></a><!--MD5=[ebbe1d658d1005bcc118a6aa81145e00]\n",
       "class E4--><a href=\"psysml:e84cebed-6405-49c5-b413-5d504fb47cee\" target=\"_top\" title=\"psysml:e84cebed-6405-49c5-b413-5d504fb47cee\" xlink:actuate=\"onRequest\" xlink:href=\"psysml:e84cebed-6405-49c5-b413-5d504fb47cee\" xlink:show=\"new\" xlink:title=\"psysml:e84cebed-6405-49c5-b413-5d504fb47cee\" xlink:type=\"simple\"><rect fill=\"#FFFFFF\" height=\"45.9375\" id=\"E4\" rx=\"10\" ry=\"10\" style=\"stroke: #383838; stroke-width: 1.5;\" width=\"42\" x=\"70\" y=\"465\"/><text fill=\"#000000\" font-family=\"sans-serif\" font-size=\"12\" font-style=\"italic\" lengthAdjust=\"spacingAndGlyphs\" textLength=\"40\" x=\"71\" y=\"481.1387\">«part»</text><text fill=\"#000000\" font-family=\"sans-serif\" font-size=\"12\" lengthAdjust=\"spacingAndGlyphs\" textLength=\"14\" x=\"84\" y=\"495.1074\">x1</text><line style=\"stroke: #383838; stroke-width: 1.5;\" x1=\"71\" x2=\"111\" y1=\"502.9375\" y2=\"502.9375\"/></a><!--MD5=[270fce915f116d4de14055a7c1d9a0f3]\n",
       "class E5--><a href=\"psysml:ba7b03ba-afee-4a2c-95ba-c440e322d2ee\" target=\"_top\" title=\"psysml:ba7b03ba-afee-4a2c-95ba-c440e322d2ee\" xlink:actuate=\"onRequest\" xlink:href=\"psysml:ba7b03ba-afee-4a2c-95ba-c440e322d2ee\" xlink:show=\"new\" xlink:title=\"psysml:ba7b03ba-afee-4a2c-95ba-c440e322d2ee\" xlink:type=\"simple\"><rect fill=\"#FFFFFF\" height=\"45.9375\" id=\"E5\" style=\"stroke: #383838; stroke-width: 1.5;\" width=\"66\" x=\"58\" y=\"41\"/><text fill=\"#000000\" font-family=\"sans-serif\" font-size=\"12\" font-style=\"italic\" lengthAdjust=\"spacingAndGlyphs\" textLength=\"64\" x=\"59\" y=\"57.1387\">«part def»</text><text fill=\"#000000\" font-family=\"sans-serif\" font-size=\"12\" lengthAdjust=\"spacingAndGlyphs\" textLength=\"8\" x=\"87\" y=\"71.1074\">P</text><line style=\"stroke: #383838; stroke-width: 1.5;\" x1=\"59\" x2=\"123\" y1=\"78.9375\" y2=\"78.9375\"/></a><!--MD5=[60a26617385b1d2d0262a64233df1f8d]\n",
       "class E6--><a href=\"psysml:6b502337-597a-4c17-979b-8872526dd5b6\" target=\"_top\" title=\"psysml:6b502337-597a-4c17-979b-8872526dd5b6\" xlink:actuate=\"onRequest\" xlink:href=\"psysml:6b502337-597a-4c17-979b-8872526dd5b6\" xlink:show=\"new\" xlink:title=\"psysml:6b502337-597a-4c17-979b-8872526dd5b6\" xlink:type=\"simple\"><rect fill=\"#FFFFFF\" height=\"45.9375\" id=\"E6\" rx=\"10\" ry=\"10\" style=\"stroke: #383838; stroke-width: 1.5;\" width=\"42\" x=\"32\" y=\"147\"/><text fill=\"#000000\" font-family=\"sans-serif\" font-size=\"12\" font-style=\"italic\" lengthAdjust=\"spacingAndGlyphs\" textLength=\"40\" x=\"33\" y=\"163.1387\">«part»</text><text fill=\"#000000\" font-family=\"sans-serif\" font-size=\"12\" lengthAdjust=\"spacingAndGlyphs\" textLength=\"6\" x=\"50\" y=\"177.1074\">y</text><line style=\"stroke: #383838; stroke-width: 1.5;\" x1=\"33\" x2=\"73\" y1=\"184.9375\" y2=\"184.9375\"/></a><!--MD5=[2156ba9850f5573cc1fc38a6a4b2f02b]\n",
       "class E7--><a href=\"psysml:c0882630-04b8-4e6c-a043-bd39b4f2710a\" target=\"_top\" title=\"psysml:c0882630-04b8-4e6c-a043-bd39b4f2710a\" xlink:actuate=\"onRequest\" xlink:href=\"psysml:c0882630-04b8-4e6c-a043-bd39b4f2710a\" xlink:show=\"new\" xlink:title=\"psysml:c0882630-04b8-4e6c-a043-bd39b4f2710a\" xlink:type=\"simple\"><rect fill=\"#FFFFFF\" height=\"45.9375\" id=\"E7\" rx=\"10\" ry=\"10\" style=\"stroke: #383838; stroke-width: 1.5;\" width=\"42\" x=\"109\" y=\"147\"/><text fill=\"#000000\" font-family=\"sans-serif\" font-size=\"12\" font-style=\"italic\" lengthAdjust=\"spacingAndGlyphs\" textLength=\"40\" x=\"110\" y=\"163.1387\">«part»</text><text fill=\"#000000\" font-family=\"sans-serif\" font-size=\"12\" lengthAdjust=\"spacingAndGlyphs\" textLength=\"16\" x=\"122\" y=\"177.1074\">p1</text><line style=\"stroke: #383838; stroke-width: 1.5;\" x1=\"110\" x2=\"150\" y1=\"184.9375\" y2=\"184.9375\"/></a><!--MD5=[209b3feb70ccb6233bfe1053d122c12c]\n",
       "reverse link E2 to E3--><a href=\"psysml:d551e406-73fb-4a91-a080-fc440127a640\" target=\"_top\" title=\"psysml:d551e406-73fb-4a91-a080-fc440127a640\" xlink:actuate=\"onRequest\" xlink:href=\"psysml:d551e406-73fb-4a91-a080-fc440127a640\" xlink:show=\"new\" xlink:title=\"psysml:d551e406-73fb-4a91-a080-fc440127a640\" xlink:type=\"simple\"><path d=\"M91,312 C91,312 91,358.68 91,358.68 \" fill=\"none\" id=\"E2&lt;-E3\" style=\"stroke: #383838; stroke-width: 1.0;\"/><polygon fill=\"#383838\" points=\"91,299,87,305,91,311,95,305,91,299\" style=\"stroke: #383838; stroke-width: 1.0;\"/></a><!--MD5=[4672eba38e49728da53d11aeb285b987]\n",
       "reverse link E3 to E4--><a href=\"psysml:0c62ef63-43f3-4799-a069-927499b27fb4\" target=\"_top\" title=\"psysml:0c62ef63-43f3-4799-a069-927499b27fb4\" xlink:actuate=\"onRequest\" xlink:href=\"psysml:0c62ef63-43f3-4799-a069-927499b27fb4\" xlink:show=\"new\" xlink:title=\"psysml:0c62ef63-43f3-4799-a069-927499b27fb4\" xlink:type=\"simple\"><path d=\"M91,418 C91,418 91,464.68 91,464.68 \" fill=\"none\" id=\"E3&lt;-E4\" style=\"stroke: #383838; stroke-width: 1.0;\"/><polygon fill=\"#383838\" points=\"91,405,87,411,91,417,95,411,91,405\" style=\"stroke: #383838; stroke-width: 1.0;\"/></a><!--MD5=[85d356282659285ab4b2cfe2f634dd2b]\n",
       "reverse link E5 to E6--><a href=\"psysml:bccb9dd4-409f-48ce-8915-27f20628680f\" target=\"_top\" title=\"psysml:bccb9dd4-409f-48ce-8915-27f20628680f\" xlink:actuate=\"onRequest\" xlink:href=\"psysml:bccb9dd4-409f-48ce-8915-27f20628680f\" xlink:show=\"new\" xlink:title=\"psysml:bccb9dd4-409f-48ce-8915-27f20628680f\" xlink:type=\"simple\"><path d=\"M66,100 C66,100 66,146.68 66,146.68 \" fill=\"none\" id=\"E5&lt;-E6\" style=\"stroke: #383838; stroke-width: 1.0;\"/><polygon fill=\"#383838\" points=\"66,87,62,93,66,99,70,93,66,87\" style=\"stroke: #383838; stroke-width: 1.0;\"/></a><!--MD5=[2351f337d6de0f557b50152ba70847b5]\n",
       "link E6 to E2--><a href=\"psysml:3c2ac290-8ac1-4000-af3e-5bcf9ecf7966\" target=\"_top\" title=\"psysml:3c2ac290-8ac1-4000-af3e-5bcf9ecf7966\" xlink:actuate=\"onRequest\" xlink:href=\"psysml:3c2ac290-8ac1-4000-af3e-5bcf9ecf7966\" xlink:show=\"new\" xlink:title=\"psysml:3c2ac290-8ac1-4000-af3e-5bcf9ecf7966\" xlink:type=\"simple\"><path d=\"M74.24,178 C80.48,178 85.67,178 85.67,178 C85.67,178 85.67,223.8 85.67,252.78 \" fill=\"none\" id=\"E6-E2\" style=\"stroke: #383838; stroke-width: 3.0;\"/></a><!--MD5=[452b418e7f8a40397a49b8c0a78acc5b]\n",
       "reverse link E5 to E7--><a href=\"psysml:97bf4e08-a4b3-492a-87d8-6adc842be5d3\" target=\"_top\" title=\"psysml:97bf4e08-a4b3-492a-87d8-6adc842be5d3\" xlink:actuate=\"onRequest\" xlink:href=\"psysml:97bf4e08-a4b3-492a-87d8-6adc842be5d3\" xlink:show=\"new\" xlink:title=\"psysml:97bf4e08-a4b3-492a-87d8-6adc842be5d3\" xlink:type=\"simple\"><path d=\"M116.5,100 C116.5,100 116.5,146.68 116.5,146.68 \" fill=\"none\" id=\"E5&lt;-E7\" style=\"stroke: #383838; stroke-width: 1.0;\"/><polygon fill=\"#383838\" points=\"116.5,87,112.5,93,116.5,99,120.5,93,116.5,87\" style=\"stroke: #383838; stroke-width: 1.0;\"/></a><!--MD5=[583832df87f4419a098336a29a52fa00]\n",
       "link E7 to E2--><a href=\"psysml:6815ba90-0374-438b-ad93-53c34ddf71b8\" target=\"_top\" title=\"psysml:6815ba90-0374-438b-ad93-53c34ddf71b8\" xlink:actuate=\"onRequest\" xlink:href=\"psysml:6815ba90-0374-438b-ad93-53c34ddf71b8\" xlink:show=\"new\" xlink:title=\"psysml:6815ba90-0374-438b-ad93-53c34ddf71b8\" xlink:type=\"simple\"><path d=\"M108.76,163 C102.52,163 97.33,163 97.33,163 C97.33,163 97.33,232.86 97.33,232.86 \" fill=\"none\" id=\"E7-&gt;E2\" style=\"stroke: #383838; stroke-width: 1.0;\"/><polygon fill=\"none\" points=\"104.33,232.86,97.33,252.86,90.33,232.86,104.33,232.86\" style=\"stroke: #383838; stroke-width: 1.0;\"/></a><!--MD5=[dfa6e31eb76e511b5b73dbd092743dac]\n",
       "@startuml\r\n",
       "skinparam linetype ortho\r\n",
       "skinparam monochrome true\r\n",
       "skinparam classbackgroundcolor white\r\n",
       "skinparam shadowing false\r\n",
       "skinparam wrapWidth 300\r\n",
       "hide circle\r\n",
       "\r\n",
       "package \"ConnectionTest\" as E1  [[psysml:22aef044-e637-4155-a6c9-7ceaf878199d ]]  {\r\n",
       "comp usage \"p\" as E2  <<(T,blue) part>> [[psysml:4372fe5d-a54c-4736-ace6-05c35a4b2fd0 ]] {\r\n",
       "}\r\n",
       "comp usage \"x\" as E3  <<(T,blue) part>> [[psysml:3f2b8857-d9ea-41c6-bb7a-db05d1986c1a ]] {\r\n",
       "}\r\n",
       "comp usage \"x1\" as E4  <<(T,blue) part>> [[psysml:e84cebed-6405-49c5-b413-5d504fb47cee ]] {\r\n",
       "}\r\n",
       "comp def \"P\" as E5  <<(T,blue) part def>> [[psysml:ba7b03ba-afee-4a2c-95ba-c440e322d2ee ]] {\r\n",
       "}\r\n",
       "comp usage \"y\" as E6  <<(T,blue) part>> [[psysml:6b502337-597a-4c17-979b-8872526dd5b6 ]] {\r\n",
       "}\r\n",
       "comp usage \"p1\" as E7  <<(T,blue) part>> [[psysml:c0882630-04b8-4e6c-a043-bd39b4f2710a ]] {\r\n",
       "}\r\n",
       "E2 *- - E3 [[psysml:d551e406-73fb-4a91-a080-fc440127a640 ]] \r\n",
       "E3 *- - E4 [[psysml:0c62ef63-43f3-4799-a069-927499b27fb4 ]] \r\n",
       "E5 *- - E6 [[psysml:bccb9dd4-409f-48ce-8915-27f20628680f ]] \r\n",
       "E6 -[thickness=3]- E2 [[psysml:3c2ac290-8ac1-4000-af3e-5bcf9ecf7966 ]] \r\n",
       "E5 *- - E7 [[psysml:97bf4e08-a4b3-492a-87d8-6adc842be5d3 ]] \r\n",
       "E7 - -|> E2 [[psysml:6815ba90-0374-438b-ad93-53c34ddf71b8 ]] \r\n",
       "}\r\n",
       "@enduml\r\n",
       "\n",
       "PlantUML version 1.2020.13(Sat Jun 13 12:26:38 UTC 2020)\n",
       "(EPL source distribution)\n",
       "Java Runtime: OpenJDK Runtime Environment\n",
       "JVM: OpenJDK 64-Bit Server VM\n",
       "Default Encoding: UTF-8\n",
       "Language: en\n",
       "Country: null\n",
       "--></g></svg>"
      ]
     },
     "execution_count": 57,
     "metadata": {},
     "output_type": "execute_result"
    }
   ],
   "source": [
    "%viz --style=\"ORTHOLINE\" --view=\"MIXED\" \"ConnectionTest\""
   ]
  }
 ],
 "metadata": {
  "kernelspec": {
   "display_name": "SysML",
   "language": "sysml",
   "name": "sysml"
  },
  "language_info": {
   "codemirror_mode": "sysml",
   "file_extension": ".sysml",
   "mimetype": "text/x-sysml",
   "name": "SysML",
   "pygments_lexer": "java",
   "version": "1.0.0"
  }
 },
 "nbformat": 4,
 "nbformat_minor": 5
}
